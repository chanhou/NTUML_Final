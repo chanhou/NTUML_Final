{
 "metadata": {
  "name": ""
 },
 "nbformat": 3,
 "nbformat_minor": 0,
 "worksheets": [
  {
   "cells": [
    {
     "cell_type": "markdown",
     "metadata": {},
     "source": [
      "## Lasagne code try and edit"
     ]
    },
    {
     "cell_type": "markdown",
     "metadata": {},
     "source": [
      "## input our data"
     ]
    },
    {
     "cell_type": "code",
     "collapsed": false,
     "input": [
      "import numpy as np\n",
      "import math\n",
      "import scipy.linalg as sp\n",
      "from sklearn.datasets import load_svmlight_file"
     ],
     "language": "python",
     "metadata": {},
     "outputs": [],
     "prompt_number": 1
    },
    {
     "cell_type": "code",
     "collapsed": false,
     "input": [
      "xx_train, y = load_svmlight_file(\"./phase1/new/aug_train_50_big.dat\")\n",
      "# print type(xx_train)\n",
      "print xx_train.shape\n",
      "xx_train = np.array(xx_train.todense()).reshape(-1,)\n",
      "# xx_train = xx_train.dtype(np.float32)\n",
      "xx_train = np.float32(xx_train)\n",
      "xx_train = xx_train.reshape(24696,2500)\n",
      "# print xx_train.shape\n",
      "print type(xx_train)"
     ],
     "language": "python",
     "metadata": {},
     "outputs": [
      {
       "output_type": "stream",
       "stream": "stdout",
       "text": [
        "(24696, 2500)\n",
        "<type 'numpy.ndarray'>"
       ]
      },
      {
       "output_type": "stream",
       "stream": "stdout",
       "text": [
        "\n"
       ]
      }
     ],
     "prompt_number": 2
    },
    {
     "cell_type": "code",
     "collapsed": false,
     "input": [
      "sizee = 50"
     ],
     "language": "python",
     "metadata": {},
     "outputs": [],
     "prompt_number": 3
    },
    {
     "cell_type": "code",
     "collapsed": false,
     "input": [
      "# pylab.ion()\n",
      "# pylab.imshow(xxxx[0],cmap=cm.gray)\n",
      "x = xx_train.reshape(24696,sizee**2)\n",
      "x = x.astype(np.float32)\n",
      "\n",
      "print x.shape\n",
      "print type(x)"
     ],
     "language": "python",
     "metadata": {},
     "outputs": [
      {
       "output_type": "stream",
       "stream": "stdout",
       "text": [
        "(24696, 2500)\n",
        "<type 'numpy.ndarray'>\n"
       ]
      }
     ],
     "prompt_number": 4
    },
    {
     "cell_type": "code",
     "collapsed": false,
     "input": [
      "def one_hot(x,n):\n",
      "    if type(x) == list:\n",
      "            x = np.array(x)\n",
      "    x = x.flatten()\n",
      "    o_h = np.zeros((len(x),n))\n",
      "    o_h[np.arange(len(x)),x] = 1\n",
      "    return o_h\n",
      "\n",
      "y = y.astype(int32)    \n",
      "y = one_hot(y, 32)\n",
      "y = y.astype(np.float32)\n",
      "\n",
      "print y.shape"
     ],
     "language": "python",
     "metadata": {},
     "outputs": [
      {
       "output_type": "stream",
       "stream": "stdout",
       "text": [
        "(24696, 32)\n"
       ]
      }
     ],
     "prompt_number": 5
    },
    {
     "cell_type": "markdown",
     "metadata": {},
     "source": [
      "## split data"
     ]
    },
    {
     "cell_type": "code",
     "collapsed": false,
     "input": [
      "from sklearn import cross_validation as cv\n",
      "from sklearn import svm\n",
      "from sklearn import metrics\n",
      "from sklearn import grid_search as gs"
     ],
     "language": "python",
     "metadata": {},
     "outputs": []
    },
    {
     "cell_type": "code",
     "collapsed": false,
     "input": [
      "X_train, X_test, y_train, y_test = cv.train_test_split(x, y, test_size=0.2)"
     ],
     "language": "python",
     "metadata": {},
     "outputs": []
    },
    {
     "cell_type": "code",
     "collapsed": false,
     "input": [
      "print X_train.shape\n",
      "print X_test.shape\n",
      "print y_train.shape\n",
      "print y_test.shape"
     ],
     "language": "python",
     "metadata": {},
     "outputs": []
    },
    {
     "cell_type": "markdown",
     "metadata": {},
     "source": [
      "## First model of Lasagne with single hidden layer"
     ]
    },
    {
     "cell_type": "code",
     "collapsed": false,
     "input": [
      "# add to kfkd.py\n",
      "from lasagne import layers\n",
      "from lasagne.updates import nesterov_momentum\n",
      "from nolearn.lasagne import NeuralNet\n",
      "\n",
      "net1 = NeuralNet(\n",
      "    layers=[  # three layers: one hidden layer\n",
      "        ('input', layers.InputLayer),\n",
      "        ('hidden', layers.DenseLayer),\n",
      "        ('output', layers.DenseLayer),\n",
      "        ],\n",
      "    # layer parameters:\n",
      "    input_shape=(128, 2500),  # 128 images per batch times 100x100 input pixels\n",
      "    hidden_num_units=300,  # number of units in hidden layer\n",
      "    output_nonlinearity=None,  # output layer uses identity function\n",
      "    output_num_units=32,  # 30 target values\n",
      "\n",
      "    # optimization method:\n",
      "    upate=nesterov_momentum,\n",
      "    update_learning_rate=0.01,\n",
      "    update_momentum=0.9,\n",
      "\n",
      "    # regression=False,  # flag to indicate we're dealing with regression problem\n",
      "    regression=True,  # flag to indicate we're dealing with regression problem\n",
      "    max_epochs=1000,  # we want to train this many epochs\n",
      "    verbose=1,\n",
      "    )\n"
     ],
     "language": "python",
     "metadata": {},
     "outputs": [
      {
       "output_type": "stream",
       "stream": "stderr",
       "text": [
        "Using gpu device 0: GRID K520\n"
       ]
      }
     ],
     "prompt_number": 6
    },
    {
     "cell_type": "code",
     "collapsed": false,
     "input": [
      "%time net1.fit(X_train, y_train)"
     ],
     "language": "python",
     "metadata": {},
     "outputs": []
    },
    {
     "cell_type": "code",
     "collapsed": false,
     "input": [
      "train_loss = np.array([i[\"train_loss\"] for i in net1.train_history_])\n",
      "valid_loss = np.array([i[\"valid_loss\"] for i in net1.train_history_])\n",
      "pyplot.plot(train_loss, linewidth=3, label=\"train\")\n",
      "pyplot.plot(valid_loss, linewidth=3, label=\"valid\")\n",
      "pyplot.grid()\n",
      "pyplot.legend()\n",
      "pyplot.xlabel(\"epoch\")\n",
      "pyplot.ylabel(\"loss\")\n",
      "pyplot.ylim(2.5e-2, 0.32e-1)\n",
      "# pyplot.yscale(\"log\")\n",
      "pyplot.show()"
     ],
     "language": "python",
     "metadata": {},
     "outputs": []
    },
    {
     "cell_type": "code",
     "collapsed": false,
     "input": [
      "from sklearn import metrics\n",
      "\n",
      "# overfit result, should use validation result\n",
      "y_pred = net1.predict(X_test)\n",
      "# print y_pred[1]\n",
      "# np.argmax(y_pred[i]),np.argmax(y[i])\n",
      "y_pred = np.array(map((lambda x: np.argmax(x)), y_pred))\n",
      "yyy = np.array(map((lambda x: np.argmax(x)), y_test))\n",
      "\n",
      "print metrics.classification_report((yyy), (y_pred))"
     ],
     "language": "python",
     "metadata": {},
     "outputs": []
    },
    {
     "cell_type": "markdown",
     "metadata": {},
     "source": [
      "## NET 6 in the rock"
     ]
    },
    {
     "cell_type": "code",
     "collapsed": false,
     "input": [
      "import theano\n",
      "from lasagne import layers\n",
      "from lasagne.updates import nesterov_momentum\n",
      "from nolearn.lasagne import NeuralNet\n",
      "\n",
      "def float32(k):\n",
      "    return np.cast['float32'](k)\n",
      "\n",
      "class AdjustVariable(object):\n",
      "    def __init__(self, name, start=0.03, stop=0.001):\n",
      "        self.name = name\n",
      "        self.start, self.stop = start, stop\n",
      "        self.ls = None\n",
      "\n",
      "    def __call__(self, nn, train_history):\n",
      "        if self.ls is None:\n",
      "            self.ls = np.linspace(self.start, self.stop, nn.max_epochs)\n",
      "\n",
      "        epoch = train_history[-1]['epoch']\n",
      "        new_value = float32(self.ls[epoch - 1])\n",
      "        getattr(nn, self.name).set_value(new_value)\n",
      "\n",
      "class EarlyStopping(object):\n",
      "    def __init__(self, patience=100):\n",
      "        self.patience = patience\n",
      "        self.best_valid = np.inf\n",
      "        self.best_valid_epoch = 0\n",
      "        self.best_weights = None\n",
      "\n",
      "    def __call__(self, nn, train_history):\n",
      "        current_valid = train_history[-1]['valid_loss']\n",
      "        current_epoch = train_history[-1]['epoch']\n",
      "        if current_valid < self.best_valid:\n",
      "            self.best_valid = current_valid\n",
      "            self.best_valid_epoch = current_epoch\n",
      "            self.best_weights = [w.get_value() for w in nn.get_all_params()]\n",
      "        elif self.best_valid_epoch + self.patience < current_epoch:\n",
      "            print(\"Early stopping.\")\n",
      "            print(\"Best valid loss was {:.6f} at epoch {}.\".format(\n",
      "                self.best_valid, self.best_valid_epoch))\n",
      "            nn.load_weights_from(self.best_weights)\n",
      "            raise StopIteration()\n",
      "        \n",
      "# use the cuda-convnet implementations of conv and max-pool layer\n",
      "Conv2DLayer = layers.cuda_convnet.Conv2DCCLayer\n",
      "MaxPool2DLayer = layers.cuda_convnet.MaxPool2DCCLayer\n",
      "\n",
      "net7 = NeuralNet(\n",
      "    layers=[\n",
      "        ('input', layers.InputLayer),\n",
      "        ('conv1', Conv2DLayer),\n",
      "        ('pool1', MaxPool2DLayer),\n",
      "        ('dropout1', layers.DropoutLayer),  # !\n",
      "        ('conv2', Conv2DLayer),\n",
      "        ('pool2', MaxPool2DLayer),\n",
      "        ('dropout2', layers.DropoutLayer),  # !\n",
      "        ('conv3', Conv2DLayer),\n",
      "        ('pool3', MaxPool2DLayer),\n",
      "        ('dropout3', layers.DropoutLayer),  # !\n",
      "        ('conv4', Conv2DLayer),###\n",
      "        ('pool4', MaxPool2DLayer),###\n",
      "        ('dropout4', layers.DropoutLayer),  # !###\n",
      "        ('hidden5', layers.DenseLayer),\n",
      "        ('dropout5', layers.DropoutLayer),  # !\n",
      "        ('hidden6', layers.DenseLayer),\n",
      "        ('output', layers.DenseLayer),\n",
      "        ],\n",
      "    input_shape=(128, 1, 50,50),\n",
      "    conv1_num_filters=32, conv1_filter_size=(5, 5), pool1_ds=(2, 2),\n",
      "    # dropout1_p=0.1, # !\n",
      "    dropout1_p=0.1,  # !\n",
      "    conv2_num_filters=64, conv2_filter_size=(3, 3), pool2_ds=(2, 2),\n",
      "    # dropout2_p=0.2,  # !\n",
      "    dropout2_p=0.2,  # !\n",
      "    conv3_num_filters=128, conv3_filter_size=(2, 2), pool3_ds=(2, 2),\n",
      "    # dropout3_p=0.3,  # !\n",
      "    dropout3_p=0.3,  # !\n",
      "    conv4_num_filters=256, conv4_filter_size=(2, 2), pool4_ds=(2, 2), ######\n",
      "    # dropout3_p=0.3,  # !\n",
      "    dropout4_p=0.4,  # !#########\n",
      "    hidden5_num_units=1000,\n",
      "    # hidden4_num_units=1000,  # !\n",
      "    dropout5_p=0.5,  # !\n",
      "    hidden6_num_units=1000,\n",
      "    # hidden5_num_units=1000,  # !\n",
      "    output_num_units=32, output_nonlinearity=None,\n",
      "\n",
      "    update_learning_rate=theano.shared(float32(0.03)),\n",
      "    update_momentum=theano.shared(float32(0.9)),\n",
      "\n",
      "    regression=True,\n",
      "#     batch_iterator=FlipBatchIterator(batch_size=128),\n",
      "    on_epoch_finished=[\n",
      "        AdjustVariable('update_learning_rate', start=0.03, stop=0.0001),\n",
      "        AdjustVariable('update_momentum', start=0.9, stop=0.999),\n",
      "        EarlyStopping(patience=220),\n",
      "        ],\n",
      "    # max_epochs=3000,\n",
      "    max_epochs=10000,\n",
      "    verbose=1,\n",
      "    )"
     ],
     "language": "python",
     "metadata": {},
     "outputs": [],
     "prompt_number": 8
    },
    {
     "cell_type": "code",
     "collapsed": false,
     "input": [
      "def transform_6(X,y):\n",
      "    X = X.reshape(-1, 50,50, 1)\n",
      "    X = X.transpose(0, 3, 1, 2)\n",
      "    return X, y\n",
      "\n",
      "# X_train = X_train.reshape(-1,1,sizee,sizee)\n",
      "# X_test = X_test.reshape(-1, 1,sizee,sizee)\n",
      "# X_train.shape"
     ],
     "language": "python",
     "metadata": {},
     "outputs": [],
     "prompt_number": 7
    },
    {
     "cell_type": "code",
     "collapsed": false,
     "input": [
      "import sys\n",
      "sys.setrecursionlimit(10000)\n",
      "\n",
      "X_6, y_6 = transform_6(x, y)\n",
      "%time net7.fit(X_6, y_6)\n",
      "\n",
      "import cPickle as pickle\n",
      "with open('Lasagne_15th_CNN_filter_size.pickle', 'wb') as f:\n",
      "    pickle.dump(net7, f, -1)"
     ],
     "language": "python",
     "metadata": {},
     "outputs": [
      {
       "output_type": "stream",
       "stream": "stdout",
       "text": [
        "  InputLayer        \t(128, 1, 50, 50)    \tproduces    2500 outputs\n",
        "  Conv2DCCLayer     \t(128, 32, 46, 46)   \tproduces   67712 outputs\n",
        "  MaxPool2DCCLayer  \t(128, 32, 23, 23)   \tproduces   16928 outputs\n",
        "  DropoutLayer      \t(128, 32, 23, 23)   \tproduces   16928 outputs\n",
        "  Conv2DCCLayer     \t(128, 64, 21, 21)   \tproduces   28224 outputs\n",
        "  MaxPool2DCCLayer  \t(128, 64, 11, 11)   \tproduces    7744 outputs\n",
        "  DropoutLayer      \t(128, 64, 11, 11)   \tproduces    7744 outputs\n",
        "  Conv2DCCLayer     \t(128, 128, 10, 10)  \tproduces   12800 outputs\n",
        "  MaxPool2DCCLayer  \t(128, 128, 5, 5)    \tproduces    3200 outputs\n",
        "  DropoutLayer      \t(128, 128, 5, 5)    \tproduces    3200 outputs\n",
        "  Conv2DCCLayer     \t(128, 256, 4, 4)    \tproduces    4096 outputs\n",
        "  MaxPool2DCCLayer  \t(128, 256, 2, 2)    \tproduces    1024 outputs\n",
        "  DropoutLayer      \t(128, 256, 2, 2)    \tproduces    1024 outputs\n",
        "  DenseLayer        \t(128, 1000)         \tproduces    1000 outputs\n",
        "  DropoutLayer      \t(128, 1000)         \tproduces    1000 outputs\n",
        "  DenseLayer        \t(128, 1000)         \tproduces    1000 outputs\n",
        "  DenseLayer        \t(128, 32)           \tproduces      32 outputs\n",
        "\n",
        " Epoch  |  Train loss  |  Valid loss  |  Train / Val  |  Valid acc  |  Dur\n",
        "--------|--------------|--------------|---------------|-------------|-------"
       ]
      },
      {
       "output_type": "stream",
       "stream": "stdout",
       "text": [
        "\n",
        "     1  |  \u001b[94m  0.030850\u001b[0m  |  \u001b[32m  0.030231\u001b[0m  |     1.020481  |             |  9.2s"
       ]
      },
      {
       "output_type": "stream",
       "stream": "stdout",
       "text": [
        "\n",
        "     2  |  \u001b[94m  0.030177\u001b[0m  |  \u001b[32m  0.030189\u001b[0m  |     0.999574  |             |  9.2s"
       ]
      },
      {
       "output_type": "stream",
       "stream": "stdout",
       "text": [
        "\n",
        "     3  |  \u001b[94m  0.030086\u001b[0m  |  \u001b[32m  0.030168\u001b[0m  |     0.997267  |             |  9.2s"
       ]
      },
      {
       "output_type": "stream",
       "stream": "stdout",
       "text": [
        "\n",
        "     4  |  \u001b[94m  0.029987\u001b[0m  |  \u001b[32m  0.030134\u001b[0m  |     0.995101  |             |  9.2s"
       ]
      },
      {
       "output_type": "stream",
       "stream": "stdout",
       "text": [
        "\n",
        "     5  |  \u001b[94m  0.029894\u001b[0m  |  \u001b[32m  0.030097\u001b[0m  |     0.993282  |             |  9.2s"
       ]
      },
      {
       "output_type": "stream",
       "stream": "stdout",
       "text": [
        "\n",
        "     6  |  \u001b[94m  0.029807\u001b[0m  |  \u001b[32m  0.030044\u001b[0m  |     0.992108  |             |  9.2s"
       ]
      },
      {
       "output_type": "stream",
       "stream": "stdout",
       "text": [
        "\n",
        "     7  |  \u001b[94m  0.029712\u001b[0m  |  \u001b[32m  0.030015\u001b[0m  |     0.989916  |             |  9.2s"
       ]
      },
      {
       "output_type": "stream",
       "stream": "stdout",
       "text": [
        "\n",
        "     8  |  \u001b[94m  0.029626\u001b[0m  |  \u001b[32m  0.029976\u001b[0m  |     0.988313  |             |  9.2s"
       ]
      },
      {
       "output_type": "stream",
       "stream": "stdout",
       "text": [
        "\n",
        "     9  |  \u001b[94m  0.029557\u001b[0m  |  \u001b[32m  0.029944\u001b[0m  |     0.987083  |             |  9.2s"
       ]
      },
      {
       "output_type": "stream",
       "stream": "stdout",
       "text": [
        "\n",
        "    10  |  \u001b[94m  0.029494\u001b[0m  |  \u001b[32m  0.029940\u001b[0m  |     0.985102  |             |  9.2s"
       ]
      },
      {
       "output_type": "stream",
       "stream": "stdout",
       "text": [
        "\n",
        "    11  |  \u001b[94m  0.029444\u001b[0m  |  \u001b[32m  0.029912\u001b[0m  |     0.984348  |             |  9.2s"
       ]
      },
      {
       "output_type": "stream",
       "stream": "stdout",
       "text": [
        "\n",
        "    12  |  \u001b[94m  0.029405\u001b[0m  |  \u001b[32m  0.029893\u001b[0m  |     0.983694  |             |  9.2s"
       ]
      },
      {
       "output_type": "stream",
       "stream": "stdout",
       "text": [
        "\n",
        "    13  |  \u001b[94m  0.029372\u001b[0m  |  \u001b[32m  0.029864\u001b[0m  |     0.983510  |             |  9.2s"
       ]
      },
      {
       "output_type": "stream",
       "stream": "stdout",
       "text": [
        "\n",
        "    14  |  \u001b[94m  0.029342\u001b[0m  |  \u001b[32m  0.029836\u001b[0m  |     0.983457  |             |  9.2s"
       ]
      },
      {
       "output_type": "stream",
       "stream": "stdout",
       "text": [
        "\n",
        "    15  |  \u001b[94m  0.029320\u001b[0m  |  \u001b[32m  0.029828\u001b[0m  |     0.982945  |             |  9.2s"
       ]
      },
      {
       "output_type": "stream",
       "stream": "stdout",
       "text": [
        "\n",
        "    16  |  \u001b[94m  0.029280\u001b[0m  |  \u001b[32m  0.029800\u001b[0m  |     0.982551  |             |  9.2s"
       ]
      },
      {
       "output_type": "stream",
       "stream": "stdout",
       "text": [
        "\n",
        "    17  |  \u001b[94m  0.029257\u001b[0m  |  \u001b[32m  0.029781\u001b[0m  |     0.982432  |             |  9.2s"
       ]
      },
      {
       "output_type": "stream",
       "stream": "stdout",
       "text": [
        "\n",
        "    18  |  \u001b[94m  0.029244\u001b[0m  |  \u001b[32m  0.029780\u001b[0m  |     0.982000  |             |  9.2s"
       ]
      },
      {
       "output_type": "stream",
       "stream": "stdout",
       "text": [
        "\n",
        "    19  |  \u001b[94m  0.029212\u001b[0m  |  \u001b[32m  0.029760\u001b[0m  |     0.981566  |             |  9.2s"
       ]
      },
      {
       "output_type": "stream",
       "stream": "stdout",
       "text": [
        "\n",
        "    20  |  \u001b[94m  0.029191\u001b[0m  |  \u001b[32m  0.029728\u001b[0m  |     0.981956  |             |  9.2s"
       ]
      },
      {
       "output_type": "stream",
       "stream": "stdout",
       "text": [
        "\n",
        "    21  |  \u001b[94m  0.029153\u001b[0m  |  \u001b[32m  0.029699\u001b[0m  |     0.981612  |             |  9.2s"
       ]
      },
      {
       "output_type": "stream",
       "stream": "stdout",
       "text": [
        "\n",
        "    22  |  \u001b[94m  0.029128\u001b[0m  |    0.029712  |     0.980344  |             |  9.2s"
       ]
      },
      {
       "output_type": "stream",
       "stream": "stdout",
       "text": [
        "\n",
        "    23  |  \u001b[94m  0.029106\u001b[0m  |  \u001b[32m  0.029683\u001b[0m  |     0.980585  |             |  9.2s"
       ]
      },
      {
       "output_type": "stream",
       "stream": "stdout",
       "text": [
        "\n",
        "    24  |  \u001b[94m  0.029085\u001b[0m  |  \u001b[32m  0.029663\u001b[0m  |     0.980511  |             |  9.2s"
       ]
      },
      {
       "output_type": "stream",
       "stream": "stdout",
       "text": [
        "\n",
        "    25  |  \u001b[94m  0.029064\u001b[0m  |  \u001b[32m  0.029628\u001b[0m  |     0.980943  |             |  9.2s"
       ]
      },
      {
       "output_type": "stream",
       "stream": "stdout",
       "text": [
        "\n",
        "    26  |  \u001b[94m  0.029039\u001b[0m  |    0.029638  |     0.979765  |             |  9.2s"
       ]
      },
      {
       "output_type": "stream",
       "stream": "stdout",
       "text": [
        "\n",
        "    27  |  \u001b[94m  0.029012\u001b[0m  |  \u001b[32m  0.029601\u001b[0m  |     0.980109  |             |  9.2s"
       ]
      },
      {
       "output_type": "stream",
       "stream": "stdout",
       "text": [
        "\n",
        "    28  |  \u001b[94m  0.028980\u001b[0m  |  \u001b[32m  0.029588\u001b[0m  |     0.979478  |             |  9.2s"
       ]
      },
      {
       "output_type": "stream",
       "stream": "stdout",
       "text": [
        "\n",
        "    29  |  \u001b[94m  0.028959\u001b[0m  |  \u001b[32m  0.029559\u001b[0m  |     0.979689  |             |  9.2s"
       ]
      },
      {
       "output_type": "stream",
       "stream": "stdout",
       "text": [
        "\n",
        "    30  |  \u001b[94m  0.028945\u001b[0m  |    0.029565  |     0.979038  |             |  9.2s"
       ]
      },
      {
       "output_type": "stream",
       "stream": "stdout",
       "text": [
        "\n",
        "    31  |  \u001b[94m  0.028914\u001b[0m  |  \u001b[32m  0.029519\u001b[0m  |     0.979494  |             |  9.2s"
       ]
      },
      {
       "output_type": "stream",
       "stream": "stdout",
       "text": [
        "\n",
        "    32  |  \u001b[94m  0.028879\u001b[0m  |  \u001b[32m  0.029519\u001b[0m  |     0.978332  |             |  9.2s"
       ]
      },
      {
       "output_type": "stream",
       "stream": "stdout",
       "text": [
        "\n",
        "    33  |  \u001b[94m  0.028857\u001b[0m  |  \u001b[32m  0.029454\u001b[0m  |     0.979735  |             |  9.2s"
       ]
      },
      {
       "output_type": "stream",
       "stream": "stdout",
       "text": [
        "\n",
        "    34  |  \u001b[94m  0.028827\u001b[0m  |    0.029465  |     0.978345  |             |  9.2s"
       ]
      },
      {
       "output_type": "stream",
       "stream": "stdout",
       "text": [
        "\n",
        "    35  |  \u001b[94m  0.028805\u001b[0m  |  \u001b[32m  0.029450\u001b[0m  |     0.978127  |             |  9.2s"
       ]
      },
      {
       "output_type": "stream",
       "stream": "stdout",
       "text": [
        "\n",
        "    36  |  \u001b[94m  0.028783\u001b[0m  |  \u001b[32m  0.029437\u001b[0m  |     0.977804  |             |  9.2s"
       ]
      },
      {
       "output_type": "stream",
       "stream": "stdout",
       "text": [
        "\n",
        "    37  |  \u001b[94m  0.028752\u001b[0m  |  \u001b[32m  0.029416\u001b[0m  |     0.977454  |             |  9.2s"
       ]
      },
      {
       "output_type": "stream",
       "stream": "stdout",
       "text": [
        "\n",
        "    38  |  \u001b[94m  0.028730\u001b[0m  |  \u001b[32m  0.029360\u001b[0m  |     0.978544  |             |  9.2s"
       ]
      },
      {
       "output_type": "stream",
       "stream": "stdout",
       "text": [
        "\n",
        "    39  |  \u001b[94m  0.028697\u001b[0m  |  \u001b[32m  0.029355\u001b[0m  |     0.977581  |             |  9.2s"
       ]
      },
      {
       "output_type": "stream",
       "stream": "stdout",
       "text": [
        "\n",
        "    40  |  \u001b[94m  0.028676\u001b[0m  |  \u001b[32m  0.029345\u001b[0m  |     0.977220  |             |  9.2s"
       ]
      },
      {
       "output_type": "stream",
       "stream": "stdout",
       "text": [
        "\n",
        "    41  |  \u001b[94m  0.028654\u001b[0m  |  \u001b[32m  0.029333\u001b[0m  |     0.976827  |             |  9.2s"
       ]
      },
      {
       "output_type": "stream",
       "stream": "stdout",
       "text": [
        "\n",
        "    42  |  \u001b[94m  0.028636\u001b[0m  |  \u001b[32m  0.029328\u001b[0m  |     0.976423  |             |  9.2s"
       ]
      },
      {
       "output_type": "stream",
       "stream": "stdout",
       "text": [
        "\n",
        "    43  |  \u001b[94m  0.028604\u001b[0m  |  \u001b[32m  0.029286\u001b[0m  |     0.976700  |             |  9.2s"
       ]
      },
      {
       "output_type": "stream",
       "stream": "stdout",
       "text": [
        "\n",
        "    44  |  \u001b[94m  0.028577\u001b[0m  |  \u001b[32m  0.029260\u001b[0m  |     0.976685  |             |  9.2s"
       ]
      },
      {
       "output_type": "stream",
       "stream": "stdout",
       "text": [
        "\n",
        "    45  |  \u001b[94m  0.028552\u001b[0m  |  \u001b[32m  0.029254\u001b[0m  |     0.975972  |             |  9.2s"
       ]
      },
      {
       "output_type": "stream",
       "stream": "stdout",
       "text": [
        "\n",
        "    46  |  \u001b[94m  0.028537\u001b[0m  |  \u001b[32m  0.029200\u001b[0m  |     0.977319  |             |  9.2s"
       ]
      },
      {
       "output_type": "stream",
       "stream": "stdout",
       "text": [
        "\n",
        "    47  |  \u001b[94m  0.028498\u001b[0m  |  \u001b[32m  0.029186\u001b[0m  |     0.976423  |             |  9.2s"
       ]
      },
      {
       "output_type": "stream",
       "stream": "stdout",
       "text": [
        "\n",
        "    48  |  \u001b[94m  0.028476\u001b[0m  |  \u001b[32m  0.029166\u001b[0m  |     0.976368  |             |  9.2s"
       ]
      },
      {
       "output_type": "stream",
       "stream": "stdout",
       "text": [
        "\n",
        "    49  |  \u001b[94m  0.028448\u001b[0m  |  \u001b[32m  0.029145\u001b[0m  |     0.976076  |             |  9.2s"
       ]
      },
      {
       "output_type": "stream",
       "stream": "stdout",
       "text": [
        "\n",
        "    50  |  \u001b[94m  0.028425\u001b[0m  |  \u001b[32m  0.029110\u001b[0m  |     0.976480  |             |  9.2s"
       ]
      },
      {
       "output_type": "stream",
       "stream": "stdout",
       "text": [
        "\n",
        "    51  |  \u001b[94m  0.028420\u001b[0m  |  \u001b[32m  0.029047\u001b[0m  |     0.978416  |             |  9.2s"
       ]
      },
      {
       "output_type": "stream",
       "stream": "stdout",
       "text": [
        "\n",
        "    52  |  \u001b[94m  0.028382\u001b[0m  |  \u001b[32m  0.029039\u001b[0m  |     0.977397  |             |  9.2s"
       ]
      },
      {
       "output_type": "stream",
       "stream": "stdout",
       "text": [
        "\n",
        "    53  |  \u001b[94m  0.028359\u001b[0m  |  \u001b[32m  0.029035\u001b[0m  |     0.976731  |             |  9.2s"
       ]
      },
      {
       "output_type": "stream",
       "stream": "stdout",
       "text": [
        "\n",
        "    54  |  \u001b[94m  0.028310\u001b[0m  |  \u001b[32m  0.028978\u001b[0m  |     0.976935  |             |  9.2s"
       ]
      },
      {
       "output_type": "stream",
       "stream": "stdout",
       "text": [
        "\n",
        "    55  |  \u001b[94m  0.028301\u001b[0m  |  \u001b[32m  0.028970\u001b[0m  |     0.976889  |             |  9.2s"
       ]
      },
      {
       "output_type": "stream",
       "stream": "stdout",
       "text": [
        "\n",
        "    56  |  \u001b[94m  0.028271\u001b[0m  |  \u001b[32m  0.028926\u001b[0m  |     0.977333  |             |  9.2s"
       ]
      },
      {
       "output_type": "stream",
       "stream": "stdout",
       "text": [
        "\n",
        "    57  |  \u001b[94m  0.028254\u001b[0m  |    0.028949  |     0.975997  |             |  9.2s"
       ]
      },
      {
       "output_type": "stream",
       "stream": "stdout",
       "text": [
        "\n",
        "    58  |  \u001b[94m  0.028215\u001b[0m  |  \u001b[32m  0.028865\u001b[0m  |     0.977489  |             |  9.2s"
       ]
      },
      {
       "output_type": "stream",
       "stream": "stdout",
       "text": [
        "\n",
        "    59  |  \u001b[94m  0.028178\u001b[0m  |  \u001b[32m  0.028804\u001b[0m  |     0.978265  |             |  9.2s"
       ]
      },
      {
       "output_type": "stream",
       "stream": "stdout",
       "text": [
        "\n",
        "    60  |  \u001b[94m  0.028146\u001b[0m  |  \u001b[32m  0.028796\u001b[0m  |     0.977416  |             |  9.2s"
       ]
      },
      {
       "output_type": "stream",
       "stream": "stdout",
       "text": [
        "\n",
        "    61  |  \u001b[94m  0.028117\u001b[0m  |  \u001b[32m  0.028724\u001b[0m  |     0.978872  |             |  9.2s"
       ]
      },
      {
       "output_type": "stream",
       "stream": "stdout",
       "text": [
        "\n",
        "    62  |  \u001b[94m  0.028072\u001b[0m  |  \u001b[32m  0.028680\u001b[0m  |     0.978795  |             |  9.2s"
       ]
      },
      {
       "output_type": "stream",
       "stream": "stdout",
       "text": [
        "\n",
        "    63  |  \u001b[94m  0.028050\u001b[0m  |  \u001b[32m  0.028669\u001b[0m  |     0.978401  |             |  9.2s"
       ]
      },
      {
       "output_type": "stream",
       "stream": "stdout",
       "text": [
        "\n",
        "    64  |  \u001b[94m  0.028009\u001b[0m  |  \u001b[32m  0.028598\u001b[0m  |     0.979419  |             |  9.2s"
       ]
      },
      {
       "output_type": "stream",
       "stream": "stdout",
       "text": [
        "\n",
        "    65  |  \u001b[94m  0.027962\u001b[0m  |  \u001b[32m  0.028565\u001b[0m  |     0.978876  |             |  9.2s"
       ]
      },
      {
       "output_type": "stream",
       "stream": "stdout",
       "text": [
        "\n",
        "    66  |  \u001b[94m  0.027934\u001b[0m  |  \u001b[32m  0.028525\u001b[0m  |     0.979276  |             |  9.2s"
       ]
      },
      {
       "output_type": "stream",
       "stream": "stdout",
       "text": [
        "\n",
        "    67  |  \u001b[94m  0.027899\u001b[0m  |  \u001b[32m  0.028477\u001b[0m  |     0.979731  |             |  9.2s"
       ]
      },
      {
       "output_type": "stream",
       "stream": "stdout",
       "text": [
        "\n",
        "    68  |  \u001b[94m  0.027845\u001b[0m  |  \u001b[32m  0.028412\u001b[0m  |     0.980034  |             |  9.2s"
       ]
      },
      {
       "output_type": "stream",
       "stream": "stdout",
       "text": [
        "\n",
        "    69  |  \u001b[94m  0.027820\u001b[0m  |  \u001b[32m  0.028389\u001b[0m  |     0.979963  |             |  9.2s"
       ]
      },
      {
       "output_type": "stream",
       "stream": "stdout",
       "text": [
        "\n",
        "    70  |  \u001b[94m  0.027759\u001b[0m  |  \u001b[32m  0.028311\u001b[0m  |     0.980505  |             |  9.2s"
       ]
      },
      {
       "output_type": "stream",
       "stream": "stdout",
       "text": [
        "\n",
        "    71  |  \u001b[94m  0.027723\u001b[0m  |  \u001b[32m  0.028245\u001b[0m  |     0.981505  |             |  9.2s"
       ]
      },
      {
       "output_type": "stream",
       "stream": "stdout",
       "text": [
        "\n",
        "    72  |  \u001b[94m  0.027667\u001b[0m  |  \u001b[32m  0.028199\u001b[0m  |     0.981114  |             |  9.2s"
       ]
      },
      {
       "output_type": "stream",
       "stream": "stdout",
       "text": [
        "\n",
        "    73  |  \u001b[94m  0.027641\u001b[0m  |  \u001b[32m  0.028124\u001b[0m  |     0.982813  |             |  9.2s"
       ]
      },
      {
       "output_type": "stream",
       "stream": "stdout",
       "text": [
        "\n",
        "    74  |  \u001b[94m  0.027578\u001b[0m  |  \u001b[32m  0.028080\u001b[0m  |     0.982123  |             |  9.2s"
       ]
      },
      {
       "output_type": "stream",
       "stream": "stdout",
       "text": [
        "\n",
        "    75  |  \u001b[94m  0.027534\u001b[0m  |  \u001b[32m  0.028060\u001b[0m  |     0.981271  |             |  9.2s"
       ]
      },
      {
       "output_type": "stream",
       "stream": "stdout",
       "text": [
        "\n",
        "    76  |  \u001b[94m  0.027482\u001b[0m  |  \u001b[32m  0.027941\u001b[0m  |     0.983573  |             |  9.2s"
       ]
      },
      {
       "output_type": "stream",
       "stream": "stdout",
       "text": [
        "\n",
        "    77  |  \u001b[94m  0.027449\u001b[0m  |  \u001b[32m  0.027934\u001b[0m  |     0.982643  |             |  9.2s"
       ]
      },
      {
       "output_type": "stream",
       "stream": "stdout",
       "text": [
        "\n",
        "    78  |  \u001b[94m  0.027398\u001b[0m  |  \u001b[32m  0.027862\u001b[0m  |     0.983330  |             |  9.2s"
       ]
      },
      {
       "output_type": "stream",
       "stream": "stdout",
       "text": [
        "\n",
        "    79  |  \u001b[94m  0.027352\u001b[0m  |  \u001b[32m  0.027850\u001b[0m  |     0.982130  |             |  9.2s"
       ]
      },
      {
       "output_type": "stream",
       "stream": "stdout",
       "text": [
        "\n",
        "    80  |  \u001b[94m  0.027334\u001b[0m  |  \u001b[32m  0.027758\u001b[0m  |     0.984694  |             |  9.2s"
       ]
      },
      {
       "output_type": "stream",
       "stream": "stdout",
       "text": [
        "\n",
        "    81  |  \u001b[94m  0.027253\u001b[0m  |  \u001b[32m  0.027714\u001b[0m  |     0.983387  |             |  9.2s"
       ]
      },
      {
       "output_type": "stream",
       "stream": "stdout",
       "text": [
        "\n",
        "    82  |  \u001b[94m  0.027225\u001b[0m  |  \u001b[32m  0.027631\u001b[0m  |     0.985297  |             |  9.2s"
       ]
      },
      {
       "output_type": "stream",
       "stream": "stdout",
       "text": [
        "\n",
        "    83  |  \u001b[94m  0.027175\u001b[0m  |  \u001b[32m  0.027605\u001b[0m  |     0.984427  |             |  9.2s"
       ]
      },
      {
       "output_type": "stream",
       "stream": "stdout",
       "text": [
        "\n",
        "    84  |  \u001b[94m  0.027125\u001b[0m  |  \u001b[32m  0.027527\u001b[0m  |     0.985406  |             |  9.2s"
       ]
      },
      {
       "output_type": "stream",
       "stream": "stdout",
       "text": [
        "\n",
        "    85  |  \u001b[94m  0.027084\u001b[0m  |  \u001b[32m  0.027506\u001b[0m  |     0.984653  |             |  9.2s"
       ]
      },
      {
       "output_type": "stream",
       "stream": "stdout",
       "text": [
        "\n",
        "    86  |  \u001b[94m  0.027037\u001b[0m  |  \u001b[32m  0.027443\u001b[0m  |     0.985184  |             |  9.2s"
       ]
      },
      {
       "output_type": "stream",
       "stream": "stdout",
       "text": [
        "\n",
        "    87  |  \u001b[94m  0.027012\u001b[0m  |  \u001b[32m  0.027386\u001b[0m  |     0.986338  |             |  9.2s"
       ]
      },
      {
       "output_type": "stream",
       "stream": "stdout",
       "text": [
        "\n",
        "    88  |  \u001b[94m  0.026953\u001b[0m  |  \u001b[32m  0.027369\u001b[0m  |     0.984806  |             |  9.2s"
       ]
      },
      {
       "output_type": "stream",
       "stream": "stdout",
       "text": [
        "\n",
        "    89  |  \u001b[94m  0.026931\u001b[0m  |  \u001b[32m  0.027316\u001b[0m  |     0.985880  |             |  9.2s"
       ]
      },
      {
       "output_type": "stream",
       "stream": "stdout",
       "text": [
        "\n",
        "    90  |  \u001b[94m  0.026873\u001b[0m  |  \u001b[32m  0.027208\u001b[0m  |     0.987693  |             |  9.2s"
       ]
      },
      {
       "output_type": "stream",
       "stream": "stdout",
       "text": [
        "\n",
        "    91  |  \u001b[94m  0.026839\u001b[0m  |  \u001b[32m  0.027203\u001b[0m  |     0.986585  |             |  9.2s"
       ]
      },
      {
       "output_type": "stream",
       "stream": "stdout",
       "text": [
        "\n",
        "    92  |  \u001b[94m  0.026799\u001b[0m  |  \u001b[32m  0.027137\u001b[0m  |     0.987554  |             |  9.2s"
       ]
      },
      {
       "output_type": "stream",
       "stream": "stdout",
       "text": [
        "\n",
        "    93  |  \u001b[94m  0.026734\u001b[0m  |  \u001b[32m  0.027118\u001b[0m  |     0.985851  |             |  9.2s"
       ]
      },
      {
       "output_type": "stream",
       "stream": "stdout",
       "text": [
        "\n",
        "    94  |  \u001b[94m  0.026719\u001b[0m  |  \u001b[32m  0.027063\u001b[0m  |     0.987294  |             |  9.2s"
       ]
      },
      {
       "output_type": "stream",
       "stream": "stdout",
       "text": [
        "\n",
        "    95  |  \u001b[94m  0.026666\u001b[0m  |  \u001b[32m  0.027027\u001b[0m  |     0.986650  |             |  9.2s"
       ]
      },
      {
       "output_type": "stream",
       "stream": "stdout",
       "text": [
        "\n",
        "    96  |  \u001b[94m  0.026632\u001b[0m  |  \u001b[32m  0.026953\u001b[0m  |     0.988105  |             |  9.2s"
       ]
      },
      {
       "output_type": "stream",
       "stream": "stdout",
       "text": [
        "\n",
        "    97  |  \u001b[94m  0.026596\u001b[0m  |  \u001b[32m  0.026888\u001b[0m  |     0.989164  |             |  9.2s"
       ]
      },
      {
       "output_type": "stream",
       "stream": "stdout",
       "text": [
        "\n",
        "    98  |  \u001b[94m  0.026535\u001b[0m  |  \u001b[32m  0.026851\u001b[0m  |     0.988237  |             |  9.2s"
       ]
      },
      {
       "output_type": "stream",
       "stream": "stdout",
       "text": [
        "\n",
        "    99  |  \u001b[94m  0.026486\u001b[0m  |  \u001b[32m  0.026800\u001b[0m  |     0.988275  |             |  9.2s"
       ]
      },
      {
       "output_type": "stream",
       "stream": "stdout",
       "text": [
        "\n",
        "   100  |  \u001b[94m  0.026431\u001b[0m  |  \u001b[32m  0.026789\u001b[0m  |     0.986664  |             |  9.2s"
       ]
      },
      {
       "output_type": "stream",
       "stream": "stdout",
       "text": [
        "\n",
        "   101  |  \u001b[94m  0.026404\u001b[0m  |  \u001b[32m  0.026756\u001b[0m  |     0.986820  |             |  9.2s"
       ]
      },
      {
       "output_type": "stream",
       "stream": "stdout",
       "text": [
        "\n",
        "   102  |  \u001b[94m  0.026379\u001b[0m  |  \u001b[32m  0.026640\u001b[0m  |     0.990178  |             |  9.2s"
       ]
      },
      {
       "output_type": "stream",
       "stream": "stdout",
       "text": [
        "\n",
        "   103  |  \u001b[94m  0.026316\u001b[0m  |  \u001b[32m  0.026597\u001b[0m  |     0.989462  |             |  9.2s"
       ]
      },
      {
       "output_type": "stream",
       "stream": "stdout",
       "text": [
        "\n",
        "   104  |  \u001b[94m  0.026294\u001b[0m  |    0.026609  |     0.988174  |             |  9.2s"
       ]
      },
      {
       "output_type": "stream",
       "stream": "stdout",
       "text": [
        "\n",
        "   105  |  \u001b[94m  0.026238\u001b[0m  |  \u001b[32m  0.026525\u001b[0m  |     0.989165  |             |  9.2s"
       ]
      },
      {
       "output_type": "stream",
       "stream": "stdout",
       "text": [
        "\n",
        "   106  |  \u001b[94m  0.026183\u001b[0m  |  \u001b[32m  0.026473\u001b[0m  |     0.989024  |             |  9.2s"
       ]
      },
      {
       "output_type": "stream",
       "stream": "stdout",
       "text": [
        "\n",
        "   107  |  \u001b[94m  0.026150\u001b[0m  |  \u001b[32m  0.026438\u001b[0m  |     0.989125  |             |  9.2s"
       ]
      },
      {
       "output_type": "stream",
       "stream": "stdout",
       "text": [
        "\n",
        "   108  |  \u001b[94m  0.026122\u001b[0m  |  \u001b[32m  0.026358\u001b[0m  |     0.991027  |             |  9.2s"
       ]
      },
      {
       "output_type": "stream",
       "stream": "stdout",
       "text": [
        "\n",
        "   109  |  \u001b[94m  0.026059\u001b[0m  |  \u001b[32m  0.026320\u001b[0m  |     0.990094  |             |  9.2s"
       ]
      },
      {
       "output_type": "stream",
       "stream": "stdout",
       "text": [
        "\n",
        "   110  |  \u001b[94m  0.026029\u001b[0m  |  \u001b[32m  0.026218\u001b[0m  |     0.992781  |             |  9.2s"
       ]
      },
      {
       "output_type": "stream",
       "stream": "stdout",
       "text": [
        "\n",
        "   111  |  \u001b[94m  0.025982\u001b[0m  |  \u001b[32m  0.026200\u001b[0m  |     0.991678  |             |  9.2s"
       ]
      },
      {
       "output_type": "stream",
       "stream": "stdout",
       "text": [
        "\n",
        "   112  |  \u001b[94m  0.025925\u001b[0m  |  \u001b[32m  0.026188\u001b[0m  |     0.989979  |             |  9.2s"
       ]
      },
      {
       "output_type": "stream",
       "stream": "stdout",
       "text": [
        "\n",
        "   113  |  \u001b[94m  0.025870\u001b[0m  |  \u001b[32m  0.026099\u001b[0m  |     0.991238  |             |  9.2s"
       ]
      },
      {
       "output_type": "stream",
       "stream": "stdout",
       "text": [
        "\n",
        "   114  |  \u001b[94m  0.025840\u001b[0m  |  \u001b[32m  0.026083\u001b[0m  |     0.990687  |             |  9.2s"
       ]
      },
      {
       "output_type": "stream",
       "stream": "stdout",
       "text": [
        "\n",
        "   115  |  \u001b[94m  0.025800\u001b[0m  |  \u001b[32m  0.026015\u001b[0m  |     0.991738  |             |  9.2s"
       ]
      },
      {
       "output_type": "stream",
       "stream": "stdout",
       "text": [
        "\n",
        "   116  |  \u001b[94m  0.025760\u001b[0m  |  \u001b[32m  0.025989\u001b[0m  |     0.991197  |             |  9.2s"
       ]
      },
      {
       "output_type": "stream",
       "stream": "stdout",
       "text": [
        "\n",
        "   117  |  \u001b[94m  0.025704\u001b[0m  |  \u001b[32m  0.025899\u001b[0m  |     0.992484  |             |  9.2s"
       ]
      },
      {
       "output_type": "stream",
       "stream": "stdout",
       "text": [
        "\n",
        "   118  |  \u001b[94m  0.025698\u001b[0m  |  \u001b[32m  0.025862\u001b[0m  |     0.993631  |             |  9.2s"
       ]
      },
      {
       "output_type": "stream",
       "stream": "stdout",
       "text": [
        "\n",
        "   119  |  \u001b[94m  0.025622\u001b[0m  |  \u001b[32m  0.025769\u001b[0m  |     0.994310  |             |  9.2s"
       ]
      },
      {
       "output_type": "stream",
       "stream": "stdout",
       "text": [
        "\n",
        "   120  |  \u001b[94m  0.025569\u001b[0m  |    0.025777  |     0.991916  |             |  9.2s"
       ]
      },
      {
       "output_type": "stream",
       "stream": "stdout",
       "text": [
        "\n",
        "   121  |  \u001b[94m  0.025569\u001b[0m  |  \u001b[32m  0.025709\u001b[0m  |     0.994538  |             |  9.2s"
       ]
      },
      {
       "output_type": "stream",
       "stream": "stdout",
       "text": [
        "\n",
        "   122  |  \u001b[94m  0.025504\u001b[0m  |  \u001b[32m  0.025635\u001b[0m  |     0.994889  |             |  9.2s"
       ]
      },
      {
       "output_type": "stream",
       "stream": "stdout",
       "text": [
        "\n",
        "   123  |  \u001b[94m  0.025465\u001b[0m  |  \u001b[32m  0.025580\u001b[0m  |     0.995475  |             |  9.2s"
       ]
      },
      {
       "output_type": "stream",
       "stream": "stdout",
       "text": [
        "\n",
        "   124  |  \u001b[94m  0.025387\u001b[0m  |  \u001b[32m  0.025531\u001b[0m  |     0.994344  |             |  9.2s"
       ]
      },
      {
       "output_type": "stream",
       "stream": "stdout",
       "text": [
        "\n",
        "   125  |  \u001b[94m  0.025356\u001b[0m  |  \u001b[32m  0.025524\u001b[0m  |     0.993428  |             |  9.2s"
       ]
      },
      {
       "output_type": "stream",
       "stream": "stdout",
       "text": [
        "\n",
        "   126  |  \u001b[94m  0.025331\u001b[0m  |  \u001b[32m  0.025418\u001b[0m  |     0.996577  |             |  9.2s"
       ]
      },
      {
       "output_type": "stream",
       "stream": "stdout",
       "text": [
        "\n",
        "   127  |  \u001b[94m  0.025267\u001b[0m  |  \u001b[32m  0.025386\u001b[0m  |     0.995319  |             |  9.2s"
       ]
      },
      {
       "output_type": "stream",
       "stream": "stdout",
       "text": [
        "\n",
        "   128  |  \u001b[94m  0.025229\u001b[0m  |  \u001b[32m  0.025309\u001b[0m  |     0.996862  |             |  9.2s"
       ]
      },
      {
       "output_type": "stream",
       "stream": "stdout",
       "text": [
        "\n",
        "   129  |  \u001b[94m  0.025213\u001b[0m  |  \u001b[32m  0.025275\u001b[0m  |     0.997569  |             |  9.2s"
       ]
      },
      {
       "output_type": "stream",
       "stream": "stdout",
       "text": [
        "\n",
        "   130  |  \u001b[94m  0.025144\u001b[0m  |  \u001b[32m  0.025212\u001b[0m  |     0.997320  |             |  9.2s"
       ]
      },
      {
       "output_type": "stream",
       "stream": "stdout",
       "text": [
        "\n",
        "   131  |  \u001b[94m  0.025076\u001b[0m  |  \u001b[32m  0.025137\u001b[0m  |     0.997570  |             |  9.2s"
       ]
      },
      {
       "output_type": "stream",
       "stream": "stdout",
       "text": [
        "\n",
        "   132  |  \u001b[94m  0.025064\u001b[0m  |    0.025163  |     0.996060  |             |  9.2s"
       ]
      },
      {
       "output_type": "stream",
       "stream": "stdout",
       "text": [
        "\n",
        "   133  |  \u001b[94m  0.025005\u001b[0m  |  \u001b[32m  0.025046\u001b[0m  |     0.998346  |             |  9.2s"
       ]
      },
      {
       "output_type": "stream",
       "stream": "stdout",
       "text": [
        "\n",
        "   134  |  \u001b[94m  0.024966\u001b[0m  |  \u001b[32m  0.024935\u001b[0m  |     1.001252  |             |  9.2s"
       ]
      },
      {
       "output_type": "stream",
       "stream": "stdout",
       "text": [
        "\n",
        "   135  |  \u001b[94m  0.024941\u001b[0m  |  \u001b[32m  0.024890\u001b[0m  |     1.002070  |             |  9.2s"
       ]
      },
      {
       "output_type": "stream",
       "stream": "stdout",
       "text": [
        "\n",
        "   136  |  \u001b[94m  0.024843\u001b[0m  |    0.024909  |     0.997365  |             |  9.2s"
       ]
      },
      {
       "output_type": "stream",
       "stream": "stdout",
       "text": [
        "\n",
        "   137  |  \u001b[94m  0.024805\u001b[0m  |  \u001b[32m  0.024799\u001b[0m  |     1.000212  |             |  9.2s"
       ]
      },
      {
       "output_type": "stream",
       "stream": "stdout",
       "text": [
        "\n",
        "   138  |  \u001b[94m  0.024767\u001b[0m  |  \u001b[32m  0.024779\u001b[0m  |     0.999522  |             |  9.2s"
       ]
      },
      {
       "output_type": "stream",
       "stream": "stdout",
       "text": [
        "\n",
        "   139  |  \u001b[94m  0.024719\u001b[0m  |  \u001b[32m  0.024758\u001b[0m  |     0.998409  |             |  9.2s"
       ]
      },
      {
       "output_type": "stream",
       "stream": "stdout",
       "text": [
        "\n",
        "   140  |  \u001b[94m  0.024711\u001b[0m  |  \u001b[32m  0.024656\u001b[0m  |     1.002237  |             |  9.2s"
       ]
      },
      {
       "output_type": "stream",
       "stream": "stdout",
       "text": [
        "\n",
        "   141  |  \u001b[94m  0.024659\u001b[0m  |  \u001b[32m  0.024612\u001b[0m  |     1.001919  |             |  9.2s"
       ]
      },
      {
       "output_type": "stream",
       "stream": "stdout",
       "text": [
        "\n",
        "   142  |  \u001b[94m  0.024590\u001b[0m  |  \u001b[32m  0.024492\u001b[0m  |     1.003993  |             |  9.2s"
       ]
      },
      {
       "output_type": "stream",
       "stream": "stdout",
       "text": [
        "\n",
        "   143  |  \u001b[94m  0.024532\u001b[0m  |  \u001b[32m  0.024475\u001b[0m  |     1.002318  |             |  9.2s"
       ]
      },
      {
       "output_type": "stream",
       "stream": "stdout",
       "text": [
        "\n",
        "   144  |  \u001b[94m  0.024465\u001b[0m  |  \u001b[32m  0.024447\u001b[0m  |     1.000697  |             |  9.2s"
       ]
      },
      {
       "output_type": "stream",
       "stream": "stdout",
       "text": [
        "\n",
        "   145  |  \u001b[94m  0.024455\u001b[0m  |  \u001b[32m  0.024384\u001b[0m  |     1.002910  |             |  9.2s"
       ]
      },
      {
       "output_type": "stream",
       "stream": "stdout",
       "text": [
        "\n",
        "   146  |  \u001b[94m  0.024383\u001b[0m  |  \u001b[32m  0.024322\u001b[0m  |     1.002525  |             |  9.2s"
       ]
      },
      {
       "output_type": "stream",
       "stream": "stdout",
       "text": [
        "\n",
        "   147  |  \u001b[94m  0.024354\u001b[0m  |  \u001b[32m  0.024288\u001b[0m  |     1.002709  |             |  9.2s"
       ]
      },
      {
       "output_type": "stream",
       "stream": "stdout",
       "text": [
        "\n",
        "   148  |  \u001b[94m  0.024314\u001b[0m  |  \u001b[32m  0.024244\u001b[0m  |     1.002874  |             |  9.2s"
       ]
      },
      {
       "output_type": "stream",
       "stream": "stdout",
       "text": [
        "\n",
        "   149  |  \u001b[94m  0.024252\u001b[0m  |  \u001b[32m  0.024137\u001b[0m  |     1.004762  |             |  9.2s"
       ]
      },
      {
       "output_type": "stream",
       "stream": "stdout",
       "text": [
        "\n",
        "   150  |  \u001b[94m  0.024215\u001b[0m  |    0.024139  |     1.003136  |             |  9.2s"
       ]
      },
      {
       "output_type": "stream",
       "stream": "stdout",
       "text": [
        "\n",
        "   151  |  \u001b[94m  0.024158\u001b[0m  |  \u001b[32m  0.024039\u001b[0m  |     1.004957  |             |  9.2s"
       ]
      },
      {
       "output_type": "stream",
       "stream": "stdout",
       "text": [
        "\n",
        "   152  |  \u001b[94m  0.024112\u001b[0m  |  \u001b[32m  0.023965\u001b[0m  |     1.006141  |             |  9.2s"
       ]
      },
      {
       "output_type": "stream",
       "stream": "stdout",
       "text": [
        "\n",
        "   153  |  \u001b[94m  0.024073\u001b[0m  |    0.023966  |     1.004433  |             |  9.2s"
       ]
      },
      {
       "output_type": "stream",
       "stream": "stdout",
       "text": [
        "\n",
        "   154  |  \u001b[94m  0.023996\u001b[0m  |  \u001b[32m  0.023820\u001b[0m  |     1.007382  |             |  9.2s"
       ]
      },
      {
       "output_type": "stream",
       "stream": "stdout",
       "text": [
        "\n",
        "   155  |  \u001b[94m  0.023981\u001b[0m  |  \u001b[32m  0.023781\u001b[0m  |     1.008441  |             |  9.2s"
       ]
      },
      {
       "output_type": "stream",
       "stream": "stdout",
       "text": [
        "\n",
        "   156  |  \u001b[94m  0.023935\u001b[0m  |  \u001b[32m  0.023727\u001b[0m  |     1.008794  |             |  9.2s"
       ]
      },
      {
       "output_type": "stream",
       "stream": "stdout",
       "text": [
        "\n",
        "   157  |  \u001b[94m  0.023865\u001b[0m  |  \u001b[32m  0.023593\u001b[0m  |     1.011518  |             |  9.2s"
       ]
      },
      {
       "output_type": "stream",
       "stream": "stdout",
       "text": [
        "\n",
        "   158  |  \u001b[94m  0.023826\u001b[0m  |  \u001b[32m  0.023551\u001b[0m  |     1.011669  |             |  9.2s"
       ]
      },
      {
       "output_type": "stream",
       "stream": "stdout",
       "text": [
        "\n",
        "   159  |  \u001b[94m  0.023766\u001b[0m  |  \u001b[32m  0.023478\u001b[0m  |     1.012247  |             |  9.2s"
       ]
      },
      {
       "output_type": "stream",
       "stream": "stdout",
       "text": [
        "\n",
        "   160  |  \u001b[94m  0.023732\u001b[0m  |  \u001b[32m  0.023445\u001b[0m  |     1.012263  |             |  9.2s"
       ]
      },
      {
       "output_type": "stream",
       "stream": "stdout",
       "text": [
        "\n",
        "   161  |  \u001b[94m  0.023658\u001b[0m  |  \u001b[32m  0.023408\u001b[0m  |     1.010685  |             |  9.2s"
       ]
      },
      {
       "output_type": "stream",
       "stream": "stdout",
       "text": [
        "\n",
        "   162  |    0.023666  |  \u001b[32m  0.023259\u001b[0m  |     1.017504  |             |  9.2s"
       ]
      },
      {
       "output_type": "stream",
       "stream": "stdout",
       "text": [
        "\n",
        "   163  |  \u001b[94m  0.023572\u001b[0m  |  \u001b[32m  0.023230\u001b[0m  |     1.014740  |             |  9.2s"
       ]
      },
      {
       "output_type": "stream",
       "stream": "stdout",
       "text": [
        "\n",
        "   164  |  \u001b[94m  0.023519\u001b[0m  |  \u001b[32m  0.023197\u001b[0m  |     1.013879  |             |  9.2s"
       ]
      },
      {
       "output_type": "stream",
       "stream": "stdout",
       "text": [
        "\n",
        "   165  |  \u001b[94m  0.023495\u001b[0m  |  \u001b[32m  0.023132\u001b[0m  |     1.015668  |             |  9.2s"
       ]
      },
      {
       "output_type": "stream",
       "stream": "stdout",
       "text": [
        "\n",
        "   166  |  \u001b[94m  0.023432\u001b[0m  |    0.023162  |     1.011671  |             |  9.2s"
       ]
      },
      {
       "output_type": "stream",
       "stream": "stdout",
       "text": [
        "\n",
        "   167  |  \u001b[94m  0.023334\u001b[0m  |  \u001b[32m  0.023108\u001b[0m  |     1.009747  |             |  9.2s"
       ]
      },
      {
       "output_type": "stream",
       "stream": "stdout",
       "text": [
        "\n",
        "   168  |    0.023335  |  \u001b[32m  0.022975\u001b[0m  |     1.015683  |             |  9.2s"
       ]
      },
      {
       "output_type": "stream",
       "stream": "stdout",
       "text": [
        "\n",
        "   169  |  \u001b[94m  0.023267\u001b[0m  |    0.022984  |     1.012308  |             |  9.2s"
       ]
      },
      {
       "output_type": "stream",
       "stream": "stdout",
       "text": [
        "\n",
        "   170  |  \u001b[94m  0.023239\u001b[0m  |  \u001b[32m  0.022862\u001b[0m  |     1.016474  |             |  9.2s"
       ]
      },
      {
       "output_type": "stream",
       "stream": "stdout",
       "text": [
        "\n",
        "   171  |  \u001b[94m  0.023166\u001b[0m  |  \u001b[32m  0.022817\u001b[0m  |     1.015308  |             |  9.2s"
       ]
      },
      {
       "output_type": "stream",
       "stream": "stdout",
       "text": [
        "\n",
        "   172  |  \u001b[94m  0.023130\u001b[0m  |  \u001b[32m  0.022742\u001b[0m  |     1.017048  |             |  9.2s"
       ]
      },
      {
       "output_type": "stream",
       "stream": "stdout",
       "text": [
        "\n",
        "   173  |  \u001b[94m  0.023067\u001b[0m  |  \u001b[32m  0.022679\u001b[0m  |     1.017127  |             |  9.2s"
       ]
      },
      {
       "output_type": "stream",
       "stream": "stdout",
       "text": [
        "\n",
        "   174  |  \u001b[94m  0.023028\u001b[0m  |  \u001b[32m  0.022617\u001b[0m  |     1.018136  |             |  9.2s"
       ]
      },
      {
       "output_type": "stream",
       "stream": "stdout",
       "text": [
        "\n",
        "   175  |  \u001b[94m  0.022983\u001b[0m  |  \u001b[32m  0.022590\u001b[0m  |     1.017396  |             |  9.2s"
       ]
      },
      {
       "output_type": "stream",
       "stream": "stdout",
       "text": [
        "\n",
        "   176  |  \u001b[94m  0.022913\u001b[0m  |  \u001b[32m  0.022547\u001b[0m  |     1.016272  |             |  9.2s"
       ]
      },
      {
       "output_type": "stream",
       "stream": "stdout",
       "text": [
        "\n",
        "   177  |  \u001b[94m  0.022862\u001b[0m  |  \u001b[32m  0.022387\u001b[0m  |     1.021238  |             |  9.2s"
       ]
      },
      {
       "output_type": "stream",
       "stream": "stdout",
       "text": [
        "\n",
        "   178  |  \u001b[94m  0.022816\u001b[0m  |  \u001b[32m  0.022358\u001b[0m  |     1.020465  |             |  9.2s"
       ]
      },
      {
       "output_type": "stream",
       "stream": "stdout",
       "text": [
        "\n",
        "   179  |  \u001b[94m  0.022787\u001b[0m  |  \u001b[32m  0.022288\u001b[0m  |     1.022396  |             |  9.2s"
       ]
      },
      {
       "output_type": "stream",
       "stream": "stdout",
       "text": [
        "\n",
        "   180  |  \u001b[94m  0.022726\u001b[0m  |  \u001b[32m  0.022166\u001b[0m  |     1.025258  |             |  9.2s"
       ]
      },
      {
       "output_type": "stream",
       "stream": "stdout",
       "text": [
        "\n",
        "   181  |  \u001b[94m  0.022667\u001b[0m  |    0.022228  |     1.019738  |             |  9.2s"
       ]
      },
      {
       "output_type": "stream",
       "stream": "stdout",
       "text": [
        "\n",
        "   182  |  \u001b[94m  0.022602\u001b[0m  |  \u001b[32m  0.022122\u001b[0m  |     1.021669  |             |  9.2s"
       ]
      },
      {
       "output_type": "stream",
       "stream": "stdout",
       "text": [
        "\n",
        "   183  |  \u001b[94m  0.022577\u001b[0m  |  \u001b[32m  0.022007\u001b[0m  |     1.025911  |             |  9.2s"
       ]
      },
      {
       "output_type": "stream",
       "stream": "stdout",
       "text": [
        "\n",
        "   184  |  \u001b[94m  0.022520\u001b[0m  |    0.022046  |     1.021481  |             |  9.2s"
       ]
      },
      {
       "output_type": "stream",
       "stream": "stdout",
       "text": [
        "\n",
        "   185  |  \u001b[94m  0.022436\u001b[0m  |  \u001b[32m  0.021920\u001b[0m  |     1.023533  |             |  9.2s"
       ]
      },
      {
       "output_type": "stream",
       "stream": "stdout",
       "text": [
        "\n",
        "   186  |  \u001b[94m  0.022362\u001b[0m  |  \u001b[32m  0.021842\u001b[0m  |     1.023788  |             |  9.2s"
       ]
      },
      {
       "output_type": "stream",
       "stream": "stdout",
       "text": [
        "\n",
        "   187  |  \u001b[94m  0.022342\u001b[0m  |  \u001b[32m  0.021720\u001b[0m  |     1.028627  |             |  9.2s"
       ]
      },
      {
       "output_type": "stream",
       "stream": "stdout",
       "text": [
        "\n",
        "   188  |  \u001b[94m  0.022288\u001b[0m  |  \u001b[32m  0.021674\u001b[0m  |     1.028350  |             |  9.2s"
       ]
      },
      {
       "output_type": "stream",
       "stream": "stdout",
       "text": [
        "\n",
        "   189  |  \u001b[94m  0.022255\u001b[0m  |  \u001b[32m  0.021542\u001b[0m  |     1.033077  |             |  9.2s"
       ]
      },
      {
       "output_type": "stream",
       "stream": "stdout",
       "text": [
        "\n",
        "   190  |  \u001b[94m  0.022192\u001b[0m  |  \u001b[32m  0.021457\u001b[0m  |     1.034251  |             |  9.2s"
       ]
      },
      {
       "output_type": "stream",
       "stream": "stdout",
       "text": [
        "\n",
        "   191  |  \u001b[94m  0.022085\u001b[0m  |    0.021528  |     1.025877  |             |  9.2s"
       ]
      },
      {
       "output_type": "stream",
       "stream": "stdout",
       "text": [
        "\n",
        "   192  |  \u001b[94m  0.022057\u001b[0m  |  \u001b[32m  0.021307\u001b[0m  |     1.035204  |             |  9.2s"
       ]
      },
      {
       "output_type": "stream",
       "stream": "stdout",
       "text": [
        "\n",
        "   193  |  \u001b[94m  0.022020\u001b[0m  |    0.021397  |     1.029098  |             |  9.2s"
       ]
      },
      {
       "output_type": "stream",
       "stream": "stdout",
       "text": [
        "\n",
        "   194  |  \u001b[94m  0.021982\u001b[0m  |    0.021312  |     1.031423  |             |  9.2s"
       ]
      },
      {
       "output_type": "stream",
       "stream": "stdout",
       "text": [
        "\n",
        "   195  |  \u001b[94m  0.021917\u001b[0m  |  \u001b[32m  0.021190\u001b[0m  |     1.034303  |             |  9.2s"
       ]
      },
      {
       "output_type": "stream",
       "stream": "stdout",
       "text": [
        "\n",
        "   196  |  \u001b[94m  0.021837\u001b[0m  |  \u001b[32m  0.021107\u001b[0m  |     1.034624  |             |  9.2s"
       ]
      },
      {
       "output_type": "stream",
       "stream": "stdout",
       "text": [
        "\n",
        "   197  |  \u001b[94m  0.021800\u001b[0m  |  \u001b[32m  0.021079\u001b[0m  |     1.034176  |             |  9.2s"
       ]
      },
      {
       "output_type": "stream",
       "stream": "stdout",
       "text": [
        "\n",
        "   198  |  \u001b[94m  0.021747\u001b[0m  |  \u001b[32m  0.021011\u001b[0m  |     1.034997  |             |  9.2s"
       ]
      },
      {
       "output_type": "stream",
       "stream": "stdout",
       "text": [
        "\n",
        "   199  |  \u001b[94m  0.021662\u001b[0m  |  \u001b[32m  0.020872\u001b[0m  |     1.037836  |             |  9.2s"
       ]
      },
      {
       "output_type": "stream",
       "stream": "stdout",
       "text": [
        "\n",
        "   200  |  \u001b[94m  0.021608\u001b[0m  |    0.020941  |     1.031851  |             |  9.2s"
       ]
      },
      {
       "output_type": "stream",
       "stream": "stdout",
       "text": [
        "\n",
        "   201  |  \u001b[94m  0.021568\u001b[0m  |  \u001b[32m  0.020774\u001b[0m  |     1.038237  |             |  9.2s"
       ]
      },
      {
       "output_type": "stream",
       "stream": "stdout",
       "text": [
        "\n",
        "   202  |  \u001b[94m  0.021506\u001b[0m  |  \u001b[32m  0.020706\u001b[0m  |     1.038626  |             |  9.2s"
       ]
      },
      {
       "output_type": "stream",
       "stream": "stdout",
       "text": [
        "\n",
        "   203  |  \u001b[94m  0.021483\u001b[0m  |  \u001b[32m  0.020663\u001b[0m  |     1.039703  |             |  9.2s"
       ]
      },
      {
       "output_type": "stream",
       "stream": "stdout",
       "text": [
        "\n",
        "   204  |  \u001b[94m  0.021426\u001b[0m  |  \u001b[32m  0.020556\u001b[0m  |     1.042333  |             |  9.2s"
       ]
      },
      {
       "output_type": "stream",
       "stream": "stdout",
       "text": [
        "\n",
        "   205  |  \u001b[94m  0.021344\u001b[0m  |  \u001b[32m  0.020508\u001b[0m  |     1.040755  |             |  9.2s"
       ]
      },
      {
       "output_type": "stream",
       "stream": "stdout",
       "text": [
        "\n",
        "   206  |  \u001b[94m  0.021265\u001b[0m  |  \u001b[32m  0.020401\u001b[0m  |     1.042337  |             |  9.2s"
       ]
      },
      {
       "output_type": "stream",
       "stream": "stdout",
       "text": [
        "\n",
        "   207  |  \u001b[94m  0.021239\u001b[0m  |  \u001b[32m  0.020332\u001b[0m  |     1.044585  |             |  9.2s"
       ]
      },
      {
       "output_type": "stream",
       "stream": "stdout",
       "text": [
        "\n",
        "   208  |  \u001b[94m  0.021159\u001b[0m  |  \u001b[32m  0.020299\u001b[0m  |     1.042403  |             |  9.2s"
       ]
      },
      {
       "output_type": "stream",
       "stream": "stdout",
       "text": [
        "\n",
        "   209  |  \u001b[94m  0.021138\u001b[0m  |  \u001b[32m  0.020252\u001b[0m  |     1.043744  |             |  9.2s"
       ]
      },
      {
       "output_type": "stream",
       "stream": "stdout",
       "text": [
        "\n",
        "   210  |  \u001b[94m  0.021101\u001b[0m  |  \u001b[32m  0.020181\u001b[0m  |     1.045570  |             |  9.2s"
       ]
      },
      {
       "output_type": "stream",
       "stream": "stdout",
       "text": [
        "\n",
        "   211  |  \u001b[94m  0.021042\u001b[0m  |  \u001b[32m  0.019996\u001b[0m  |     1.052319  |             |  9.2s"
       ]
      },
      {
       "output_type": "stream",
       "stream": "stdout",
       "text": [
        "\n",
        "   212  |  \u001b[94m  0.020918\u001b[0m  |    0.020046  |     1.043522  |             |  9.2s"
       ]
      },
      {
       "output_type": "stream",
       "stream": "stdout",
       "text": [
        "\n",
        "   213  |    0.020930  |  \u001b[32m  0.019905\u001b[0m  |     1.051501  |             |  9.2s"
       ]
      },
      {
       "output_type": "stream",
       "stream": "stdout",
       "text": [
        "\n",
        "   214  |  \u001b[94m  0.020876\u001b[0m  |  \u001b[32m  0.019893\u001b[0m  |     1.049411  |             |  9.2s"
       ]
      },
      {
       "output_type": "stream",
       "stream": "stdout",
       "text": [
        "\n",
        "   215  |  \u001b[94m  0.020738\u001b[0m  |    0.019896  |     1.042309  |             |  9.2s"
       ]
      },
      {
       "output_type": "stream",
       "stream": "stdout",
       "text": [
        "\n",
        "   216  |    0.020767  |  \u001b[32m  0.019724\u001b[0m  |     1.052887  |             |  9.2s"
       ]
      },
      {
       "output_type": "stream",
       "stream": "stdout",
       "text": [
        "\n",
        "   217  |  \u001b[94m  0.020704\u001b[0m  |  \u001b[32m  0.019695\u001b[0m  |     1.051216  |             |  9.2s"
       ]
      },
      {
       "output_type": "stream",
       "stream": "stdout",
       "text": [
        "\n",
        "   218  |  \u001b[94m  0.020591\u001b[0m  |  \u001b[32m  0.019578\u001b[0m  |     1.051745  |             |  9.2s"
       ]
      },
      {
       "output_type": "stream",
       "stream": "stdout",
       "text": [
        "\n",
        "   219  |  \u001b[94m  0.020547\u001b[0m  |  \u001b[32m  0.019551\u001b[0m  |     1.050938  |             |  9.2s"
       ]
      },
      {
       "output_type": "stream",
       "stream": "stdout",
       "text": [
        "\n",
        "   220  |  \u001b[94m  0.020467\u001b[0m  |  \u001b[32m  0.019538\u001b[0m  |     1.047597  |             |  9.2s"
       ]
      },
      {
       "output_type": "stream",
       "stream": "stdout",
       "text": [
        "\n",
        "   221  |  \u001b[94m  0.020466\u001b[0m  |  \u001b[32m  0.019476\u001b[0m  |     1.050876  |             |  9.2s"
       ]
      },
      {
       "output_type": "stream",
       "stream": "stdout",
       "text": [
        "\n",
        "   222  |  \u001b[94m  0.020392\u001b[0m  |  \u001b[32m  0.019275\u001b[0m  |     1.057916  |             |  9.2s"
       ]
      },
      {
       "output_type": "stream",
       "stream": "stdout",
       "text": [
        "\n",
        "   223  |  \u001b[94m  0.020337\u001b[0m  |  \u001b[32m  0.019266\u001b[0m  |     1.055540  |             |  9.2s"
       ]
      },
      {
       "output_type": "stream",
       "stream": "stdout",
       "text": [
        "\n",
        "   224  |    0.020348  |  \u001b[32m  0.019156\u001b[0m  |     1.062208  |             |  9.2s"
       ]
      },
      {
       "output_type": "stream",
       "stream": "stdout",
       "text": [
        "\n",
        "   225  |  \u001b[94m  0.020254\u001b[0m  |    0.019221  |     1.053770  |             |  9.2s"
       ]
      },
      {
       "output_type": "stream",
       "stream": "stdout",
       "text": [
        "\n",
        "   226  |  \u001b[94m  0.020239\u001b[0m  |    0.019200  |     1.054100  |             |  9.2s"
       ]
      },
      {
       "output_type": "stream",
       "stream": "stdout",
       "text": [
        "\n",
        "   227  |  \u001b[94m  0.020195\u001b[0m  |  \u001b[32m  0.018974\u001b[0m  |     1.064330  |             |  9.2s"
       ]
      },
      {
       "output_type": "stream",
       "stream": "stdout",
       "text": [
        "\n",
        "   228  |  \u001b[94m  0.020099\u001b[0m  |    0.018993  |     1.058262  |             |  9.2s"
       ]
      },
      {
       "output_type": "stream",
       "stream": "stdout",
       "text": [
        "\n",
        "   229  |  \u001b[94m  0.020056\u001b[0m  |  \u001b[32m  0.018974\u001b[0m  |     1.056990  |             |  9.2s"
       ]
      },
      {
       "output_type": "stream",
       "stream": "stdout",
       "text": [
        "\n",
        "   230  |  \u001b[94m  0.020028\u001b[0m  |  \u001b[32m  0.018866\u001b[0m  |     1.061599  |             |  9.2s"
       ]
      },
      {
       "output_type": "stream",
       "stream": "stdout",
       "text": [
        "\n",
        "   231  |  \u001b[94m  0.019974\u001b[0m  |  \u001b[32m  0.018826\u001b[0m  |     1.061022  |             |  9.2s"
       ]
      },
      {
       "output_type": "stream",
       "stream": "stdout",
       "text": [
        "\n",
        "   232  |  \u001b[94m  0.019884\u001b[0m  |  \u001b[32m  0.018692\u001b[0m  |     1.063803  |             |  9.2s"
       ]
      },
      {
       "output_type": "stream",
       "stream": "stdout",
       "text": [
        "\n",
        "   233  |  \u001b[94m  0.019857\u001b[0m  |  \u001b[32m  0.018671\u001b[0m  |     1.063521  |             |  9.2s"
       ]
      },
      {
       "output_type": "stream",
       "stream": "stdout",
       "text": [
        "\n",
        "   234  |  \u001b[94m  0.019852\u001b[0m  |  \u001b[32m  0.018575\u001b[0m  |     1.068709  |             |  9.2s"
       ]
      },
      {
       "output_type": "stream",
       "stream": "stdout",
       "text": [
        "\n",
        "   235  |  \u001b[94m  0.019733\u001b[0m  |  \u001b[32m  0.018558\u001b[0m  |     1.063297  |             |  9.2s"
       ]
      },
      {
       "output_type": "stream",
       "stream": "stdout",
       "text": [
        "\n",
        "   236  |  \u001b[94m  0.019716\u001b[0m  |  \u001b[32m  0.018350\u001b[0m  |     1.074454  |             |  9.2s"
       ]
      },
      {
       "output_type": "stream",
       "stream": "stdout",
       "text": [
        "\n",
        "   237  |  \u001b[94m  0.019687\u001b[0m  |    0.018448  |     1.067140  |             |  9.2s"
       ]
      },
      {
       "output_type": "stream",
       "stream": "stdout",
       "text": [
        "\n",
        "   238  |  \u001b[94m  0.019629\u001b[0m  |    0.018472  |     1.062671  |             |  9.2s"
       ]
      },
      {
       "output_type": "stream",
       "stream": "stdout",
       "text": [
        "\n",
        "   239  |  \u001b[94m  0.019582\u001b[0m  |  \u001b[32m  0.018270\u001b[0m  |     1.071842  |             |  9.2s"
       ]
      },
      {
       "output_type": "stream",
       "stream": "stdout",
       "text": [
        "\n",
        "   240  |  \u001b[94m  0.019487\u001b[0m  |  \u001b[32m  0.018153\u001b[0m  |     1.073521  |             |  9.2s"
       ]
      },
      {
       "output_type": "stream",
       "stream": "stdout",
       "text": [
        "\n",
        "   241  |  \u001b[94m  0.019467\u001b[0m  |    0.018208  |     1.069138  |             |  9.2s"
       ]
      },
      {
       "output_type": "stream",
       "stream": "stdout",
       "text": [
        "\n",
        "   242  |  \u001b[94m  0.019397\u001b[0m  |    0.018215  |     1.064943  |             |  9.2s"
       ]
      },
      {
       "output_type": "stream",
       "stream": "stdout",
       "text": [
        "\n",
        "   243  |  \u001b[94m  0.019380\u001b[0m  |  \u001b[32m  0.017933\u001b[0m  |     1.080688  |             |  9.2s"
       ]
      },
      {
       "output_type": "stream",
       "stream": "stdout",
       "text": [
        "\n",
        "   244  |  \u001b[94m  0.019368\u001b[0m  |    0.018020  |     1.074790  |             |  9.2s"
       ]
      },
      {
       "output_type": "stream",
       "stream": "stdout",
       "text": [
        "\n",
        "   245  |  \u001b[94m  0.019318\u001b[0m  |  \u001b[32m  0.017908\u001b[0m  |     1.078752  |             |  9.2s"
       ]
      },
      {
       "output_type": "stream",
       "stream": "stdout",
       "text": [
        "\n",
        "   246  |  \u001b[94m  0.019206\u001b[0m  |    0.017944  |     1.070319  |             |  9.2s"
       ]
      },
      {
       "output_type": "stream",
       "stream": "stdout",
       "text": [
        "\n",
        "   247  |    0.019246  |  \u001b[32m  0.017808\u001b[0m  |     1.080755  |             |  9.2s"
       ]
      },
      {
       "output_type": "stream",
       "stream": "stdout",
       "text": [
        "\n",
        "   248  |  \u001b[94m  0.019116\u001b[0m  |  \u001b[32m  0.017643\u001b[0m  |     1.083472  |             |  9.2s"
       ]
      },
      {
       "output_type": "stream",
       "stream": "stdout",
       "text": [
        "\n",
        "   249  |  \u001b[94m  0.019072\u001b[0m  |    0.017681  |     1.078673  |             |  9.2s"
       ]
      },
      {
       "output_type": "stream",
       "stream": "stdout",
       "text": [
        "\n",
        "   250  |  \u001b[94m  0.019007\u001b[0m  |  \u001b[32m  0.017614\u001b[0m  |     1.079067  |             |  9.2s"
       ]
      },
      {
       "output_type": "stream",
       "stream": "stdout",
       "text": [
        "\n",
        "   251  |    0.019060  |  \u001b[32m  0.017572\u001b[0m  |     1.084658  |             |  9.2s"
       ]
      },
      {
       "output_type": "stream",
       "stream": "stdout",
       "text": [
        "\n",
        "   252  |  \u001b[94m  0.018969\u001b[0m  |  \u001b[32m  0.017557\u001b[0m  |     1.080402  |             |  9.2s"
       ]
      },
      {
       "output_type": "stream",
       "stream": "stdout",
       "text": [
        "\n",
        "   253  |  \u001b[94m  0.018933\u001b[0m  |    0.017645  |     1.072986  |             |  9.2s"
       ]
      },
      {
       "output_type": "stream",
       "stream": "stdout",
       "text": [
        "\n",
        "   254  |  \u001b[94m  0.018865\u001b[0m  |  \u001b[32m  0.017360\u001b[0m  |     1.086689  |             |  9.2s"
       ]
      },
      {
       "output_type": "stream",
       "stream": "stdout",
       "text": [
        "\n",
        "   255  |  \u001b[94m  0.018828\u001b[0m  |    0.017425  |     1.080563  |             |  9.2s"
       ]
      },
      {
       "output_type": "stream",
       "stream": "stdout",
       "text": [
        "\n",
        "   256  |  \u001b[94m  0.018748\u001b[0m  |  \u001b[32m  0.017288\u001b[0m  |     1.084406  |             |  9.2s"
       ]
      },
      {
       "output_type": "stream",
       "stream": "stdout",
       "text": [
        "\n",
        "   257  |  \u001b[94m  0.018710\u001b[0m  |  \u001b[32m  0.017222\u001b[0m  |     1.086406  |             |  9.2s"
       ]
      },
      {
       "output_type": "stream",
       "stream": "stdout",
       "text": [
        "\n",
        "   258  |  \u001b[94m  0.018692\u001b[0m  |  \u001b[32m  0.017149\u001b[0m  |     1.089934  |             |  9.2s"
       ]
      },
      {
       "output_type": "stream",
       "stream": "stdout",
       "text": [
        "\n",
        "   259  |  \u001b[94m  0.018621\u001b[0m  |  \u001b[32m  0.017061\u001b[0m  |     1.091403  |             |  9.2s"
       ]
      },
      {
       "output_type": "stream",
       "stream": "stdout",
       "text": [
        "\n",
        "   260  |  \u001b[94m  0.018606\u001b[0m  |    0.017186  |     1.082620  |             |  9.2s"
       ]
      },
      {
       "output_type": "stream",
       "stream": "stdout",
       "text": [
        "\n",
        "   261  |  \u001b[94m  0.018589\u001b[0m  |  \u001b[32m  0.016993\u001b[0m  |     1.093936  |             |  9.2s"
       ]
      },
      {
       "output_type": "stream",
       "stream": "stdout",
       "text": [
        "\n",
        "   262  |  \u001b[94m  0.018526\u001b[0m  |  \u001b[32m  0.016947\u001b[0m  |     1.093187  |             |  9.2s"
       ]
      },
      {
       "output_type": "stream",
       "stream": "stdout",
       "text": [
        "\n",
        "   263  |  \u001b[94m  0.018462\u001b[0m  |  \u001b[32m  0.016895\u001b[0m  |     1.092764  |             |  9.2s"
       ]
      },
      {
       "output_type": "stream",
       "stream": "stdout",
       "text": [
        "\n",
        "   264  |  \u001b[94m  0.018417\u001b[0m  |  \u001b[32m  0.016891\u001b[0m  |     1.090339  |             |  9.2s"
       ]
      },
      {
       "output_type": "stream",
       "stream": "stdout",
       "text": [
        "\n",
        "   265  |  \u001b[94m  0.018358\u001b[0m  |  \u001b[32m  0.016797\u001b[0m  |     1.092889  |             |  9.2s"
       ]
      },
      {
       "output_type": "stream",
       "stream": "stdout",
       "text": [
        "\n",
        "   266  |    0.018393  |    0.016841  |     1.092170  |             |  9.2s"
       ]
      },
      {
       "output_type": "stream",
       "stream": "stdout",
       "text": [
        "\n",
        "   267  |  \u001b[94m  0.018271\u001b[0m  |  \u001b[32m  0.016693\u001b[0m  |     1.094563  |             |  9.2s"
       ]
      },
      {
       "output_type": "stream",
       "stream": "stdout",
       "text": [
        "\n",
        "   268  |    0.018273  |  \u001b[32m  0.016680\u001b[0m  |     1.095481  |             |  9.2s"
       ]
      },
      {
       "output_type": "stream",
       "stream": "stdout",
       "text": [
        "\n",
        "   269  |  \u001b[94m  0.018173\u001b[0m  |  \u001b[32m  0.016585\u001b[0m  |     1.095730  |             |  9.2s"
       ]
      },
      {
       "output_type": "stream",
       "stream": "stdout",
       "text": [
        "\n",
        "   270  |    0.018214  |    0.016590  |     1.097901  |             |  9.2s"
       ]
      },
      {
       "output_type": "stream",
       "stream": "stdout",
       "text": [
        "\n",
        "   271  |  \u001b[94m  0.018121\u001b[0m  |  \u001b[32m  0.016505\u001b[0m  |     1.097923  |             |  9.2s"
       ]
      },
      {
       "output_type": "stream",
       "stream": "stdout",
       "text": [
        "\n",
        "   272  |  \u001b[94m  0.018096\u001b[0m  |    0.016520  |     1.095403  |             |  9.2s"
       ]
      },
      {
       "output_type": "stream",
       "stream": "stdout",
       "text": [
        "\n",
        "   273  |  \u001b[94m  0.018043\u001b[0m  |  \u001b[32m  0.016451\u001b[0m  |     1.096793  |             |  9.2s"
       ]
      },
      {
       "output_type": "stream",
       "stream": "stdout",
       "text": [
        "\n",
        "   274  |  \u001b[94m  0.018020\u001b[0m  |  \u001b[32m  0.016271\u001b[0m  |     1.107515  |             |  9.2s"
       ]
      },
      {
       "output_type": "stream",
       "stream": "stdout",
       "text": [
        "\n",
        "   275  |  \u001b[94m  0.017946\u001b[0m  |    0.016375  |     1.095896  |             |  9.2s"
       ]
      },
      {
       "output_type": "stream",
       "stream": "stdout",
       "text": [
        "\n",
        "   276  |  \u001b[94m  0.017940\u001b[0m  |  \u001b[32m  0.016264\u001b[0m  |     1.103064  |             |  9.2s"
       ]
      },
      {
       "output_type": "stream",
       "stream": "stdout",
       "text": [
        "\n",
        "   277  |  \u001b[94m  0.017929\u001b[0m  |    0.016300  |     1.099973  |             |  9.2s"
       ]
      },
      {
       "output_type": "stream",
       "stream": "stdout",
       "text": [
        "\n",
        "   278  |  \u001b[94m  0.017806\u001b[0m  |  \u001b[32m  0.016123\u001b[0m  |     1.104354  |             |  9.2s"
       ]
      },
      {
       "output_type": "stream",
       "stream": "stdout",
       "text": [
        "\n",
        "   279  |    0.017849  |  \u001b[32m  0.016081\u001b[0m  |     1.109930  |             |  9.2s"
       ]
      },
      {
       "output_type": "stream",
       "stream": "stdout",
       "text": [
        "\n",
        "   280  |  \u001b[94m  0.017720\u001b[0m  |  \u001b[32m  0.016054\u001b[0m  |     1.103767  |             |  9.2s"
       ]
      },
      {
       "output_type": "stream",
       "stream": "stdout",
       "text": [
        "\n",
        "   281  |  \u001b[94m  0.017697\u001b[0m  |  \u001b[32m  0.016028\u001b[0m  |     1.104106  |             |  9.2s"
       ]
      },
      {
       "output_type": "stream",
       "stream": "stdout",
       "text": [
        "\n",
        "   282  |    0.017701  |  \u001b[32m  0.015920\u001b[0m  |     1.111881  |             |  9.2s"
       ]
      },
      {
       "output_type": "stream",
       "stream": "stdout",
       "text": [
        "\n",
        "   283  |  \u001b[94m  0.017639\u001b[0m  |  \u001b[32m  0.015851\u001b[0m  |     1.112791  |             |  9.2s"
       ]
      },
      {
       "output_type": "stream",
       "stream": "stdout",
       "text": [
        "\n",
        "   284  |  \u001b[94m  0.017579\u001b[0m  |    0.015895  |     1.105964  |             |  9.2s"
       ]
      },
      {
       "output_type": "stream",
       "stream": "stdout",
       "text": [
        "\n",
        "   285  |    0.017586  |  \u001b[32m  0.015758\u001b[0m  |     1.116004  |             |  9.2s"
       ]
      },
      {
       "output_type": "stream",
       "stream": "stdout",
       "text": [
        "\n",
        "   286  |  \u001b[94m  0.017514\u001b[0m  |    0.015832  |     1.106262  |             |  9.2s"
       ]
      },
      {
       "output_type": "stream",
       "stream": "stdout",
       "text": [
        "\n",
        "   287  |  \u001b[94m  0.017478\u001b[0m  |  \u001b[32m  0.015729\u001b[0m  |     1.111170  |             |  9.2s"
       ]
      },
      {
       "output_type": "stream",
       "stream": "stdout",
       "text": [
        "\n",
        "   288  |  \u001b[94m  0.017458\u001b[0m  |  \u001b[32m  0.015676\u001b[0m  |     1.113627  |             |  9.2s"
       ]
      },
      {
       "output_type": "stream",
       "stream": "stdout",
       "text": [
        "\n",
        "   289  |    0.017479  |  \u001b[32m  0.015587\u001b[0m  |     1.121335  |             |  9.2s"
       ]
      },
      {
       "output_type": "stream",
       "stream": "stdout",
       "text": [
        "\n",
        "   290  |  \u001b[94m  0.017395\u001b[0m  |    0.015602  |     1.114921  |             |  9.2s"
       ]
      },
      {
       "output_type": "stream",
       "stream": "stdout",
       "text": [
        "\n",
        "   291  |    0.017395  |  \u001b[32m  0.015569\u001b[0m  |     1.117276  |             |  9.2s"
       ]
      },
      {
       "output_type": "stream",
       "stream": "stdout",
       "text": [
        "\n",
        "   292  |  \u001b[94m  0.017380\u001b[0m  |  \u001b[32m  0.015537\u001b[0m  |     1.118630  |             |  9.2s"
       ]
      },
      {
       "output_type": "stream",
       "stream": "stdout",
       "text": [
        "\n",
        "   293  |  \u001b[94m  0.017240\u001b[0m  |  \u001b[32m  0.015454\u001b[0m  |     1.115564  |             |  9.2s"
       ]
      },
      {
       "output_type": "stream",
       "stream": "stdout",
       "text": [
        "\n",
        "   294  |    0.017244  |  \u001b[32m  0.015442\u001b[0m  |     1.116742  |             |  9.2s"
       ]
      },
      {
       "output_type": "stream",
       "stream": "stdout",
       "text": [
        "\n",
        "   295  |  \u001b[94m  0.017181\u001b[0m  |  \u001b[32m  0.015387\u001b[0m  |     1.116549  |             |  9.2s"
       ]
      },
      {
       "output_type": "stream",
       "stream": "stdout",
       "text": [
        "\n",
        "   296  |  \u001b[94m  0.017141\u001b[0m  |  \u001b[32m  0.015290\u001b[0m  |     1.120996  |             |  9.2s"
       ]
      },
      {
       "output_type": "stream",
       "stream": "stdout",
       "text": [
        "\n",
        "   297  |    0.017146  |    0.015377  |     1.115051  |             |  9.2s"
       ]
      },
      {
       "output_type": "stream",
       "stream": "stdout",
       "text": [
        "\n",
        "   298  |  \u001b[94m  0.017064\u001b[0m  |  \u001b[32m  0.015195\u001b[0m  |     1.122972  |             |  9.2s"
       ]
      },
      {
       "output_type": "stream",
       "stream": "stdout",
       "text": [
        "\n",
        "   299  |  \u001b[94m  0.017042\u001b[0m  |  \u001b[32m  0.015163\u001b[0m  |     1.123932  |             |  9.2s"
       ]
      },
      {
       "output_type": "stream",
       "stream": "stdout",
       "text": [
        "\n",
        "   300  |  \u001b[94m  0.017000\u001b[0m  |    0.015237  |     1.115651  |             |  9.2s"
       ]
      },
      {
       "output_type": "stream",
       "stream": "stdout",
       "text": [
        "\n",
        "   301  |    0.017011  |    0.015173  |     1.121181  |             |  9.2s"
       ]
      },
      {
       "output_type": "stream",
       "stream": "stdout",
       "text": [
        "\n",
        "   302  |  \u001b[94m  0.016921\u001b[0m  |  \u001b[32m  0.015151\u001b[0m  |     1.116830  |             |  9.2s"
       ]
      },
      {
       "output_type": "stream",
       "stream": "stdout",
       "text": [
        "\n",
        "   303  |  \u001b[94m  0.016862\u001b[0m  |  \u001b[32m  0.015068\u001b[0m  |     1.119072  |             |  9.2s"
       ]
      },
      {
       "output_type": "stream",
       "stream": "stdout",
       "text": [
        "\n",
        "   304  |    0.016942  |  \u001b[32m  0.014923\u001b[0m  |     1.135325  |             |  9.2s"
       ]
      },
      {
       "output_type": "stream",
       "stream": "stdout",
       "text": [
        "\n",
        "   305  |  \u001b[94m  0.016805\u001b[0m  |    0.015060  |     1.115847  |             |  9.2s"
       ]
      },
      {
       "output_type": "stream",
       "stream": "stdout",
       "text": [
        "\n",
        "   306  |    0.016807  |    0.015025  |     1.118611  |             |  9.2s"
       ]
      },
      {
       "output_type": "stream",
       "stream": "stdout",
       "text": [
        "\n",
        "   307  |  \u001b[94m  0.016792\u001b[0m  |  \u001b[32m  0.014703\u001b[0m  |     1.142075  |             |  9.2s"
       ]
      },
      {
       "output_type": "stream",
       "stream": "stdout",
       "text": [
        "\n",
        "   308  |  \u001b[94m  0.016672\u001b[0m  |    0.014735  |     1.131411  |             |  9.2s"
       ]
      },
      {
       "output_type": "stream",
       "stream": "stdout",
       "text": [
        "\n",
        "   309  |    0.016731  |    0.014756  |     1.133885  |             |  9.2s"
       ]
      },
      {
       "output_type": "stream",
       "stream": "stdout",
       "text": [
        "\n",
        "   310  |    0.016727  |  \u001b[32m  0.014697\u001b[0m  |     1.138179  |             |  9.2s"
       ]
      },
      {
       "output_type": "stream",
       "stream": "stdout",
       "text": [
        "\n",
        "   311  |  \u001b[94m  0.016605\u001b[0m  |    0.014756  |     1.125280  |             |  9.2s"
       ]
      },
      {
       "output_type": "stream",
       "stream": "stdout",
       "text": [
        "\n",
        "   312  |  \u001b[94m  0.016560\u001b[0m  |  \u001b[32m  0.014565\u001b[0m  |     1.136969  |             |  9.2s"
       ]
      },
      {
       "output_type": "stream",
       "stream": "stdout",
       "text": [
        "\n",
        "   313  |    0.016592  |    0.014699  |     1.128821  |             |  9.2s"
       ]
      },
      {
       "output_type": "stream",
       "stream": "stdout",
       "text": [
        "\n",
        "   314  |  \u001b[94m  0.016517\u001b[0m  |    0.014618  |     1.129915  |             |  9.2s"
       ]
      },
      {
       "output_type": "stream",
       "stream": "stdout",
       "text": [
        "\n",
        "   315  |    0.016530  |    0.014618  |     1.130748  |             |  9.2s"
       ]
      },
      {
       "output_type": "stream",
       "stream": "stdout",
       "text": [
        "\n",
        "   316  |  \u001b[94m  0.016405\u001b[0m  |    0.014569  |     1.126018  |             |  9.2s"
       ]
      },
      {
       "output_type": "stream",
       "stream": "stdout",
       "text": [
        "\n",
        "   317  |    0.016430  |  \u001b[32m  0.014522\u001b[0m  |     1.131384  |             |  9.2s"
       ]
      },
      {
       "output_type": "stream",
       "stream": "stdout",
       "text": [
        "\n",
        "   318  |    0.016420  |  \u001b[32m  0.014453\u001b[0m  |     1.136102  |             |  9.2s"
       ]
      },
      {
       "output_type": "stream",
       "stream": "stdout",
       "text": [
        "\n",
        "   319  |  \u001b[94m  0.016310\u001b[0m  |    0.014555  |     1.120611  |             |  9.2s"
       ]
      },
      {
       "output_type": "stream",
       "stream": "stdout",
       "text": [
        "\n",
        "   320  |  \u001b[94m  0.016309\u001b[0m  |  \u001b[32m  0.014314\u001b[0m  |     1.139418  |             |  9.2s"
       ]
      },
      {
       "output_type": "stream",
       "stream": "stdout",
       "text": [
        "\n",
        "   321  |  \u001b[94m  0.016306\u001b[0m  |    0.014378  |     1.134066  |             |  9.2s"
       ]
      },
      {
       "output_type": "stream",
       "stream": "stdout",
       "text": [
        "\n",
        "   322  |  \u001b[94m  0.016275\u001b[0m  |  \u001b[32m  0.014289\u001b[0m  |     1.138957  |             |  9.2s"
       ]
      },
      {
       "output_type": "stream",
       "stream": "stdout",
       "text": [
        "\n",
        "   323  |  \u001b[94m  0.016182\u001b[0m  |    0.014358  |     1.127042  |             |  9.2s"
       ]
      },
      {
       "output_type": "stream",
       "stream": "stdout",
       "text": [
        "\n",
        "   324  |    0.016200  |  \u001b[32m  0.014275\u001b[0m  |     1.134879  |             |  9.2s"
       ]
      },
      {
       "output_type": "stream",
       "stream": "stdout",
       "text": [
        "\n",
        "   325  |  \u001b[94m  0.016154\u001b[0m  |  \u001b[32m  0.014250\u001b[0m  |     1.133623  |             |  9.2s"
       ]
      },
      {
       "output_type": "stream",
       "stream": "stdout",
       "text": [
        "\n",
        "   326  |  \u001b[94m  0.016122\u001b[0m  |  \u001b[32m  0.014202\u001b[0m  |     1.135226  |             |  9.2s"
       ]
      },
      {
       "output_type": "stream",
       "stream": "stdout",
       "text": [
        "\n",
        "   327  |    0.016169  |  \u001b[32m  0.014182\u001b[0m  |     1.140138  |             |  9.2s"
       ]
      },
      {
       "output_type": "stream",
       "stream": "stdout",
       "text": [
        "\n",
        "   328  |  \u001b[94m  0.016100\u001b[0m  |    0.014183  |     1.135154  |             |  9.2s"
       ]
      },
      {
       "output_type": "stream",
       "stream": "stdout",
       "text": [
        "\n",
        "   329  |  \u001b[94m  0.016042\u001b[0m  |  \u001b[32m  0.014137\u001b[0m  |     1.134728  |             |  9.2s"
       ]
      },
      {
       "output_type": "stream",
       "stream": "stdout",
       "text": [
        "\n",
        "   330  |  \u001b[94m  0.015990\u001b[0m  |  \u001b[32m  0.014055\u001b[0m  |     1.137710  |             |  9.2s"
       ]
      },
      {
       "output_type": "stream",
       "stream": "stdout",
       "text": [
        "\n",
        "   331  |  \u001b[94m  0.015981\u001b[0m  |  \u001b[32m  0.013993\u001b[0m  |     1.142037  |             |  9.2s"
       ]
      },
      {
       "output_type": "stream",
       "stream": "stdout",
       "text": [
        "\n",
        "   332  |  \u001b[94m  0.015966\u001b[0m  |  \u001b[32m  0.013981\u001b[0m  |     1.141945  |             |  9.2s"
       ]
      },
      {
       "output_type": "stream",
       "stream": "stdout",
       "text": [
        "\n",
        "   333  |  \u001b[94m  0.015919\u001b[0m  |  \u001b[32m  0.013803\u001b[0m  |     1.153339  |             |  9.2s"
       ]
      },
      {
       "output_type": "stream",
       "stream": "stdout",
       "text": [
        "\n",
        "   334  |  \u001b[94m  0.015885\u001b[0m  |    0.013913  |     1.141735  |             |  9.2s"
       ]
      },
      {
       "output_type": "stream",
       "stream": "stdout",
       "text": [
        "\n",
        "   335  |  \u001b[94m  0.015847\u001b[0m  |    0.013896  |     1.140421  |             |  9.2s"
       ]
      },
      {
       "output_type": "stream",
       "stream": "stdout",
       "text": [
        "\n",
        "   336  |  \u001b[94m  0.015800\u001b[0m  |    0.013883  |     1.138088  |             |  9.2s"
       ]
      },
      {
       "output_type": "stream",
       "stream": "stdout",
       "text": [
        "\n",
        "   337  |    0.015828  |    0.013803  |     1.146671  |             |  9.2s"
       ]
      },
      {
       "output_type": "stream",
       "stream": "stdout",
       "text": [
        "\n",
        "   338  |  \u001b[94m  0.015743\u001b[0m  |  \u001b[32m  0.013722\u001b[0m  |     1.147300  |             |  9.2s"
       ]
      },
      {
       "output_type": "stream",
       "stream": "stdout",
       "text": [
        "\n",
        "   339  |    0.015793  |    0.013886  |     1.137325  |             |  9.2s"
       ]
      },
      {
       "output_type": "stream",
       "stream": "stdout",
       "text": [
        "\n",
        "   340  |    0.015750  |  \u001b[32m  0.013661\u001b[0m  |     1.152898  |             |  9.2s"
       ]
      },
      {
       "output_type": "stream",
       "stream": "stdout",
       "text": [
        "\n",
        "   341  |  \u001b[94m  0.015695\u001b[0m  |    0.013706  |     1.145159  |             |  9.2s"
       ]
      },
      {
       "output_type": "stream",
       "stream": "stdout",
       "text": [
        "\n",
        "   342  |  \u001b[94m  0.015685\u001b[0m  |  \u001b[32m  0.013550\u001b[0m  |     1.157573  |             |  9.2s"
       ]
      },
      {
       "output_type": "stream",
       "stream": "stdout",
       "text": [
        "\n",
        "   343  |  \u001b[94m  0.015594\u001b[0m  |    0.013599  |     1.146697  |             |  9.2s"
       ]
      },
      {
       "output_type": "stream",
       "stream": "stdout",
       "text": [
        "\n",
        "   344  |  \u001b[94m  0.015577\u001b[0m  |    0.013606  |     1.144875  |             |  9.2s"
       ]
      },
      {
       "output_type": "stream",
       "stream": "stdout",
       "text": [
        "\n",
        "   345  |    0.015592  |  \u001b[32m  0.013491\u001b[0m  |     1.155752  |             |  9.2s"
       ]
      },
      {
       "output_type": "stream",
       "stream": "stdout",
       "text": [
        "\n",
        "   346  |  \u001b[94m  0.015560\u001b[0m  |    0.013503  |     1.152320  |             |  9.2s"
       ]
      },
      {
       "output_type": "stream",
       "stream": "stdout",
       "text": [
        "\n",
        "   347  |  \u001b[94m  0.015522\u001b[0m  |    0.013579  |     1.143095  |             |  9.2s"
       ]
      },
      {
       "output_type": "stream",
       "stream": "stdout",
       "text": [
        "\n",
        "   348  |  \u001b[94m  0.015479\u001b[0m  |  \u001b[32m  0.013403\u001b[0m  |     1.154872  |             |  9.2s"
       ]
      },
      {
       "output_type": "stream",
       "stream": "stdout",
       "text": [
        "\n",
        "   349  |    0.015503  |    0.013474  |     1.150555  |             |  9.2s"
       ]
      },
      {
       "output_type": "stream",
       "stream": "stdout",
       "text": [
        "\n",
        "   350  |  \u001b[94m  0.015406\u001b[0m  |  \u001b[32m  0.013320\u001b[0m  |     1.156644  |             |  9.2s"
       ]
      },
      {
       "output_type": "stream",
       "stream": "stdout",
       "text": [
        "\n",
        "   351  |    0.015482  |    0.013480  |     1.148453  |             |  9.2s"
       ]
      },
      {
       "output_type": "stream",
       "stream": "stdout",
       "text": [
        "\n",
        "   352  |  \u001b[94m  0.015361\u001b[0m  |    0.013381  |     1.148006  |             |  9.2s"
       ]
      },
      {
       "output_type": "stream",
       "stream": "stdout",
       "text": [
        "\n",
        "   353  |    0.015367  |  \u001b[32m  0.013246\u001b[0m  |     1.160076  |             |  9.2s"
       ]
      },
      {
       "output_type": "stream",
       "stream": "stdout",
       "text": [
        "\n",
        "   354  |  \u001b[94m  0.015306\u001b[0m  |  \u001b[32m  0.013218\u001b[0m  |     1.157997  |             |  9.2s"
       ]
      },
      {
       "output_type": "stream",
       "stream": "stdout",
       "text": [
        "\n",
        "   355  |    0.015328  |    0.013269  |     1.155140  |             |  9.2s"
       ]
      },
      {
       "output_type": "stream",
       "stream": "stdout",
       "text": [
        "\n",
        "   356  |    0.015331  |  \u001b[32m  0.013179\u001b[0m  |     1.163268  |             |  9.2s"
       ]
      },
      {
       "output_type": "stream",
       "stream": "stdout",
       "text": [
        "\n",
        "   357  |  \u001b[94m  0.015268\u001b[0m  |    0.013224  |     1.154505  |             |  9.2s"
       ]
      },
      {
       "output_type": "stream",
       "stream": "stdout",
       "text": [
        "\n",
        "   358  |  \u001b[94m  0.015218\u001b[0m  |  \u001b[32m  0.013152\u001b[0m  |     1.157111  |             |  9.2s"
       ]
      },
      {
       "output_type": "stream",
       "stream": "stdout",
       "text": [
        "\n",
        "   359  |  \u001b[94m  0.015199\u001b[0m  |  \u001b[32m  0.013131\u001b[0m  |     1.157412  |             |  9.2s"
       ]
      },
      {
       "output_type": "stream",
       "stream": "stdout",
       "text": [
        "\n",
        "   360  |    0.015207  |    0.013148  |     1.156595  |             |  9.2s"
       ]
      },
      {
       "output_type": "stream",
       "stream": "stdout",
       "text": [
        "\n",
        "   361  |  \u001b[94m  0.015196\u001b[0m  |  \u001b[32m  0.013056\u001b[0m  |     1.163897  |             |  9.2s"
       ]
      },
      {
       "output_type": "stream",
       "stream": "stdout",
       "text": [
        "\n",
        "   362  |  \u001b[94m  0.015154\u001b[0m  |    0.013115  |     1.155447  |             |  9.2s"
       ]
      },
      {
       "output_type": "stream",
       "stream": "stdout",
       "text": [
        "\n",
        "   363  |  \u001b[94m  0.015063\u001b[0m  |    0.013112  |     1.148810  |             |  9.2s"
       ]
      },
      {
       "output_type": "stream",
       "stream": "stdout",
       "text": [
        "\n",
        "   364  |    0.015075  |  \u001b[32m  0.013007\u001b[0m  |     1.158992  |             |  9.2s"
       ]
      },
      {
       "output_type": "stream",
       "stream": "stdout",
       "text": [
        "\n",
        "   365  |  \u001b[94m  0.015019\u001b[0m  |  \u001b[32m  0.012973\u001b[0m  |     1.157677  |             |  9.2s"
       ]
      },
      {
       "output_type": "stream",
       "stream": "stdout",
       "text": [
        "\n",
        "   366  |    0.015025  |  \u001b[32m  0.012927\u001b[0m  |     1.162290  |             |  9.2s"
       ]
      },
      {
       "output_type": "stream",
       "stream": "stdout",
       "text": [
        "\n",
        "   367  |  \u001b[94m  0.014992\u001b[0m  |  \u001b[32m  0.012925\u001b[0m  |     1.159989  |             |  9.2s"
       ]
      },
      {
       "output_type": "stream",
       "stream": "stdout",
       "text": [
        "\n",
        "   368  |  \u001b[94m  0.014986\u001b[0m  |  \u001b[32m  0.012923\u001b[0m  |     1.159684  |             |  9.2s"
       ]
      },
      {
       "output_type": "stream",
       "stream": "stdout",
       "text": [
        "\n",
        "   369  |  \u001b[94m  0.014932\u001b[0m  |  \u001b[32m  0.012889\u001b[0m  |     1.158493  |             |  9.2s"
       ]
      },
      {
       "output_type": "stream",
       "stream": "stdout",
       "text": [
        "\n",
        "   370  |  \u001b[94m  0.014922\u001b[0m  |  \u001b[32m  0.012794\u001b[0m  |     1.166327  |             |  9.2s"
       ]
      },
      {
       "output_type": "stream",
       "stream": "stdout",
       "text": [
        "\n",
        "   371  |  \u001b[94m  0.014883\u001b[0m  |    0.012832  |     1.159867  |             |  9.2s"
       ]
      },
      {
       "output_type": "stream",
       "stream": "stdout",
       "text": [
        "\n",
        "   372  |  \u001b[94m  0.014796\u001b[0m  |  \u001b[32m  0.012720\u001b[0m  |     1.163272  |             |  9.2s"
       ]
      },
      {
       "output_type": "stream",
       "stream": "stdout",
       "text": [
        "\n",
        "   373  |    0.014813  |  \u001b[32m  0.012706\u001b[0m  |     1.165830  |             |  9.2s"
       ]
      },
      {
       "output_type": "stream",
       "stream": "stdout",
       "text": [
        "\n",
        "   374  |    0.014800  |  \u001b[32m  0.012656\u001b[0m  |     1.169376  |             |  9.2s"
       ]
      },
      {
       "output_type": "stream",
       "stream": "stdout",
       "text": [
        "\n",
        "   375  |    0.014836  |    0.012737  |     1.164753  |             |  9.2s"
       ]
      },
      {
       "output_type": "stream",
       "stream": "stdout",
       "text": [
        "\n",
        "   376  |  \u001b[94m  0.014777\u001b[0m  |  \u001b[32m  0.012646\u001b[0m  |     1.168507  |             |  9.2s"
       ]
      },
      {
       "output_type": "stream",
       "stream": "stdout",
       "text": [
        "\n",
        "   377  |    0.014787  |    0.012753  |     1.159429  |             |  9.2s"
       ]
      },
      {
       "output_type": "stream",
       "stream": "stdout",
       "text": [
        "\n",
        "   378  |  \u001b[94m  0.014715\u001b[0m  |  \u001b[32m  0.012632\u001b[0m  |     1.164886  |             |  9.2s"
       ]
      },
      {
       "output_type": "stream",
       "stream": "stdout",
       "text": [
        "\n",
        "   379  |  \u001b[94m  0.014691\u001b[0m  |  \u001b[32m  0.012535\u001b[0m  |     1.172058  |             |  9.2s"
       ]
      },
      {
       "output_type": "stream",
       "stream": "stdout",
       "text": [
        "\n",
        "   380  |  \u001b[94m  0.014686\u001b[0m  |    0.012578  |     1.167600  |             |  9.2s"
       ]
      },
      {
       "output_type": "stream",
       "stream": "stdout",
       "text": [
        "\n",
        "   381  |  \u001b[94m  0.014646\u001b[0m  |  \u001b[32m  0.012506\u001b[0m  |     1.171172  |             |  9.2s"
       ]
      },
      {
       "output_type": "stream",
       "stream": "stdout",
       "text": [
        "\n",
        "   382  |    0.014657  |    0.012513  |     1.171401  |             |  9.2s"
       ]
      },
      {
       "output_type": "stream",
       "stream": "stdout",
       "text": [
        "\n",
        "   383  |  \u001b[94m  0.014591\u001b[0m  |  \u001b[32m  0.012494\u001b[0m  |     1.167815  |             |  9.2s"
       ]
      },
      {
       "output_type": "stream",
       "stream": "stdout",
       "text": [
        "\n",
        "   384  |    0.014623  |  \u001b[32m  0.012463\u001b[0m  |     1.173319  |             |  9.2s"
       ]
      },
      {
       "output_type": "stream",
       "stream": "stdout",
       "text": [
        "\n",
        "   385  |  \u001b[94m  0.014527\u001b[0m  |  \u001b[32m  0.012451\u001b[0m  |     1.166765  |             |  9.2s"
       ]
      },
      {
       "output_type": "stream",
       "stream": "stdout",
       "text": [
        "\n",
        "   386  |  \u001b[94m  0.014499\u001b[0m  |  \u001b[32m  0.012432\u001b[0m  |     1.166292  |             |  9.2s"
       ]
      },
      {
       "output_type": "stream",
       "stream": "stdout",
       "text": [
        "\n",
        "   387  |    0.014602  |    0.012484  |     1.169618  |             |  9.2s"
       ]
      },
      {
       "output_type": "stream",
       "stream": "stdout",
       "text": [
        "\n",
        "   388  |    0.014562  |  \u001b[32m  0.012409\u001b[0m  |     1.173536  |             |  9.2s"
       ]
      },
      {
       "output_type": "stream",
       "stream": "stdout",
       "text": [
        "\n",
        "   389  |  \u001b[94m  0.014475\u001b[0m  |  \u001b[32m  0.012265\u001b[0m  |     1.180148  |             |  9.2s"
       ]
      },
      {
       "output_type": "stream",
       "stream": "stdout",
       "text": [
        "\n",
        "   390  |  \u001b[94m  0.014438\u001b[0m  |    0.012320  |     1.171895  |             |  9.2s"
       ]
      },
      {
       "output_type": "stream",
       "stream": "stdout",
       "text": [
        "\n",
        "   391  |  \u001b[94m  0.014431\u001b[0m  |    0.012330  |     1.170384  |             |  9.2s"
       ]
      },
      {
       "output_type": "stream",
       "stream": "stdout",
       "text": [
        "\n",
        "   392  |  \u001b[94m  0.014377\u001b[0m  |    0.012426  |     1.156993  |             |  9.2s"
       ]
      },
      {
       "output_type": "stream",
       "stream": "stdout",
       "text": [
        "\n",
        "   393  |  \u001b[94m  0.014316\u001b[0m  |  \u001b[32m  0.012218\u001b[0m  |     1.171740  |             |  9.2s"
       ]
      },
      {
       "output_type": "stream",
       "stream": "stdout",
       "text": [
        "\n",
        "   394  |    0.014375  |    0.012260  |     1.172536  |             |  9.2s"
       ]
      },
      {
       "output_type": "stream",
       "stream": "stdout",
       "text": [
        "\n",
        "   395  |  \u001b[94m  0.014302\u001b[0m  |  \u001b[32m  0.012206\u001b[0m  |     1.171711  |             |  9.2s"
       ]
      },
      {
       "output_type": "stream",
       "stream": "stdout",
       "text": [
        "\n",
        "   396  |  \u001b[94m  0.014298\u001b[0m  |  \u001b[32m  0.012173\u001b[0m  |     1.174481  |             |  9.2s"
       ]
      },
      {
       "output_type": "stream",
       "stream": "stdout",
       "text": [
        "\n",
        "   397  |  \u001b[94m  0.014288\u001b[0m  |    0.012223  |     1.168971  |             |  9.2s"
       ]
      },
      {
       "output_type": "stream",
       "stream": "stdout",
       "text": [
        "\n",
        "   398  |    0.014294  |    0.012196  |     1.171986  |             |  9.2s"
       ]
      },
      {
       "output_type": "stream",
       "stream": "stdout",
       "text": [
        "\n",
        "   399  |  \u001b[94m  0.014224\u001b[0m  |  \u001b[32m  0.012127\u001b[0m  |     1.172908  |             |  9.2s"
       ]
      },
      {
       "output_type": "stream",
       "stream": "stdout",
       "text": [
        "\n",
        "   400  |  \u001b[94m  0.014214\u001b[0m  |    0.012172  |     1.167722  |             |  9.2s"
       ]
      },
      {
       "output_type": "stream",
       "stream": "stdout",
       "text": [
        "\n",
        "   401  |    0.014227  |  \u001b[32m  0.012123\u001b[0m  |     1.173494  |             |  9.2s"
       ]
      },
      {
       "output_type": "stream",
       "stream": "stdout",
       "text": [
        "\n",
        "   402  |  \u001b[94m  0.014145\u001b[0m  |  \u001b[32m  0.012052\u001b[0m  |     1.173577  |             |  9.2s"
       ]
      },
      {
       "output_type": "stream",
       "stream": "stdout",
       "text": [
        "\n",
        "   403  |    0.014173  |    0.012072  |     1.174041  |             |  9.2s"
       ]
      },
      {
       "output_type": "stream",
       "stream": "stdout",
       "text": [
        "\n",
        "   404  |  \u001b[94m  0.014108\u001b[0m  |  \u001b[32m  0.012050\u001b[0m  |     1.170783  |             |  9.2s"
       ]
      },
      {
       "output_type": "stream",
       "stream": "stdout",
       "text": [
        "\n",
        "   405  |    0.014131  |  \u001b[32m  0.011880\u001b[0m  |     1.189438  |             |  9.2s"
       ]
      },
      {
       "output_type": "stream",
       "stream": "stdout",
       "text": [
        "\n",
        "   406  |    0.014130  |    0.012017  |     1.175807  |             |  9.2s"
       ]
      },
      {
       "output_type": "stream",
       "stream": "stdout",
       "text": [
        "\n",
        "   407  |    0.014109  |    0.011973  |     1.178417  |             |  9.2s"
       ]
      },
      {
       "output_type": "stream",
       "stream": "stdout",
       "text": [
        "\n",
        "   408  |  \u001b[94m  0.014059\u001b[0m  |    0.011999  |     1.171615  |             |  9.2s"
       ]
      },
      {
       "output_type": "stream",
       "stream": "stdout",
       "text": [
        "\n",
        "   409  |  \u001b[94m  0.014045\u001b[0m  |    0.011920  |     1.178331  |             |  9.2s"
       ]
      },
      {
       "output_type": "stream",
       "stream": "stdout",
       "text": [
        "\n",
        "   410  |  \u001b[94m  0.013977\u001b[0m  |    0.011932  |     1.171372  |             |  9.2s"
       ]
      },
      {
       "output_type": "stream",
       "stream": "stdout",
       "text": [
        "\n",
        "   411  |    0.014005  |  \u001b[32m  0.011858\u001b[0m  |     1.181028  |             |  9.2s"
       ]
      },
      {
       "output_type": "stream",
       "stream": "stdout",
       "text": [
        "\n",
        "   412  |    0.013978  |  \u001b[32m  0.011819\u001b[0m  |     1.182616  |             |  9.2s"
       ]
      },
      {
       "output_type": "stream",
       "stream": "stdout",
       "text": [
        "\n",
        "   413  |  \u001b[94m  0.013910\u001b[0m  |    0.011850  |     1.173862  |             |  9.2s"
       ]
      },
      {
       "output_type": "stream",
       "stream": "stdout",
       "text": [
        "\n",
        "   414  |    0.013923  |  \u001b[32m  0.011739\u001b[0m  |     1.185990  |             |  9.2s"
       ]
      },
      {
       "output_type": "stream",
       "stream": "stdout",
       "text": [
        "\n",
        "   415  |  \u001b[94m  0.013861\u001b[0m  |    0.011771  |     1.177537  |             |  9.2s"
       ]
      },
      {
       "output_type": "stream",
       "stream": "stdout",
       "text": [
        "\n",
        "   416  |    0.013904  |  \u001b[32m  0.011736\u001b[0m  |     1.184711  |             |  9.2s"
       ]
      },
      {
       "output_type": "stream",
       "stream": "stdout",
       "text": [
        "\n",
        "   417  |    0.013872  |    0.011741  |     1.181483  |             |  9.2s"
       ]
      },
      {
       "output_type": "stream",
       "stream": "stdout",
       "text": [
        "\n",
        "   418  |    0.013886  |    0.011754  |     1.181353  |             |  9.2s"
       ]
      },
      {
       "output_type": "stream",
       "stream": "stdout",
       "text": [
        "\n",
        "   419  |  \u001b[94m  0.013819\u001b[0m  |  \u001b[32m  0.011730\u001b[0m  |     1.178061  |             |  9.2s"
       ]
      },
      {
       "output_type": "stream",
       "stream": "stdout",
       "text": [
        "\n",
        "   420  |  \u001b[94m  0.013775\u001b[0m  |    0.011736  |     1.173661  |             |  9.2s"
       ]
      },
      {
       "output_type": "stream",
       "stream": "stdout",
       "text": [
        "\n",
        "   421  |  \u001b[94m  0.013748\u001b[0m  |  \u001b[32m  0.011702\u001b[0m  |     1.174900  |             |  9.2s"
       ]
      },
      {
       "output_type": "stream",
       "stream": "stdout",
       "text": [
        "\n",
        "   422  |    0.013803  |  \u001b[32m  0.011608\u001b[0m  |     1.189075  |             |  9.2s"
       ]
      },
      {
       "output_type": "stream",
       "stream": "stdout",
       "text": [
        "\n",
        "   423  |  \u001b[94m  0.013678\u001b[0m  |    0.011624  |     1.176724  |             |  9.2s"
       ]
      },
      {
       "output_type": "stream",
       "stream": "stdout",
       "text": [
        "\n",
        "   424  |    0.013727  |  \u001b[32m  0.011598\u001b[0m  |     1.183534  |             |  9.2s"
       ]
      },
      {
       "output_type": "stream",
       "stream": "stdout",
       "text": [
        "\n",
        "   425  |  \u001b[94m  0.013668\u001b[0m  |  \u001b[32m  0.011573\u001b[0m  |     1.181033  |             |  9.2s"
       ]
      },
      {
       "output_type": "stream",
       "stream": "stdout",
       "text": [
        "\n",
        "   426  |    0.013717  |  \u001b[32m  0.011554\u001b[0m  |     1.187229  |             |  9.2s"
       ]
      },
      {
       "output_type": "stream",
       "stream": "stdout",
       "text": [
        "\n",
        "   427  |  \u001b[94m  0.013643\u001b[0m  |  \u001b[32m  0.011517\u001b[0m  |     1.184592  |             |  9.2s"
       ]
      },
      {
       "output_type": "stream",
       "stream": "stdout",
       "text": [
        "\n",
        "   428  |  \u001b[94m  0.013605\u001b[0m  |    0.011523  |     1.180627  |             |  9.2s"
       ]
      },
      {
       "output_type": "stream",
       "stream": "stdout",
       "text": [
        "\n",
        "   429  |    0.013776  |    0.011546  |     1.193199  |             |  9.2s"
       ]
      },
      {
       "output_type": "stream",
       "stream": "stdout",
       "text": [
        "\n",
        "   430  |    0.013618  |    0.011544  |     1.179669  |             |  9.2s"
       ]
      },
      {
       "output_type": "stream",
       "stream": "stdout",
       "text": [
        "\n",
        "   431  |    0.013623  |  \u001b[32m  0.011501\u001b[0m  |     1.184492  |             |  9.2s"
       ]
      },
      {
       "output_type": "stream",
       "stream": "stdout",
       "text": [
        "\n",
        "   432  |    0.013618  |    0.011506  |     1.183557  |             |  9.2s"
       ]
      },
      {
       "output_type": "stream",
       "stream": "stdout",
       "text": [
        "\n",
        "   433  |    0.013609  |    0.011518  |     1.181546  |             |  9.2s"
       ]
      },
      {
       "output_type": "stream",
       "stream": "stdout",
       "text": [
        "\n",
        "   434  |    0.013632  |  \u001b[32m  0.011429\u001b[0m  |     1.192787  |             |  9.2s"
       ]
      },
      {
       "output_type": "stream",
       "stream": "stdout",
       "text": [
        "\n",
        "   435  |  \u001b[94m  0.013559\u001b[0m  |    0.011464  |     1.182744  |             |  9.2s"
       ]
      },
      {
       "output_type": "stream",
       "stream": "stdout",
       "text": [
        "\n",
        "   436  |  \u001b[94m  0.013484\u001b[0m  |  \u001b[32m  0.011408\u001b[0m  |     1.181956  |             |  9.2s"
       ]
      },
      {
       "output_type": "stream",
       "stream": "stdout",
       "text": [
        "\n",
        "   437  |  \u001b[94m  0.013482\u001b[0m  |    0.011421  |     1.180533  |             |  9.2s"
       ]
      },
      {
       "output_type": "stream",
       "stream": "stdout",
       "text": [
        "\n",
        "   438  |  \u001b[94m  0.013465\u001b[0m  |    0.011450  |     1.176000  |             |  9.2s"
       ]
      },
      {
       "output_type": "stream",
       "stream": "stdout",
       "text": [
        "\n",
        "   439  |  \u001b[94m  0.013452\u001b[0m  |  \u001b[32m  0.011359\u001b[0m  |     1.184339  |             |  9.2s"
       ]
      },
      {
       "output_type": "stream",
       "stream": "stdout",
       "text": [
        "\n",
        "   440  |  \u001b[94m  0.013365\u001b[0m  |    0.011367  |     1.175716  |             |  9.2s"
       ]
      },
      {
       "output_type": "stream",
       "stream": "stdout",
       "text": [
        "\n",
        "   441  |    0.013458  |    0.011365  |     1.184164  |             |  9.2s"
       ]
      },
      {
       "output_type": "stream",
       "stream": "stdout",
       "text": [
        "\n",
        "   442  |    0.013446  |  \u001b[32m  0.011314\u001b[0m  |     1.188411  |             |  9.2s"
       ]
      },
      {
       "output_type": "stream",
       "stream": "stdout",
       "text": [
        "\n",
        "   443  |    0.013383  |  \u001b[32m  0.011281\u001b[0m  |     1.186363  |             |  9.2s"
       ]
      },
      {
       "output_type": "stream",
       "stream": "stdout",
       "text": [
        "\n",
        "   444  |  \u001b[94m  0.013327\u001b[0m  |  \u001b[32m  0.011269\u001b[0m  |     1.182617  |             |  9.2s"
       ]
      },
      {
       "output_type": "stream",
       "stream": "stdout",
       "text": [
        "\n",
        "   445  |    0.013348  |  \u001b[32m  0.011244\u001b[0m  |     1.187121  |             |  9.2s"
       ]
      },
      {
       "output_type": "stream",
       "stream": "stdout",
       "text": [
        "\n",
        "   446  |    0.013359  |    0.011250  |     1.187470  |             |  9.2s"
       ]
      },
      {
       "output_type": "stream",
       "stream": "stdout",
       "text": [
        "\n",
        "   447  |  \u001b[94m  0.013313\u001b[0m  |  \u001b[32m  0.011177\u001b[0m  |     1.191108  |             |  9.2s"
       ]
      },
      {
       "output_type": "stream",
       "stream": "stdout",
       "text": [
        "\n",
        "   448  |  \u001b[94m  0.013264\u001b[0m  |    0.011261  |     1.177891  |             |  9.2s"
       ]
      },
      {
       "output_type": "stream",
       "stream": "stdout",
       "text": [
        "\n",
        "   449  |  \u001b[94m  0.013214\u001b[0m  |    0.011187  |     1.181157  |             |  9.2s"
       ]
      },
      {
       "output_type": "stream",
       "stream": "stdout",
       "text": [
        "\n",
        "   450  |    0.013344  |    0.011204  |     1.191052  |             |  9.2s"
       ]
      },
      {
       "output_type": "stream",
       "stream": "stdout",
       "text": [
        "\n",
        "   451  |    0.013263  |    0.011183  |     1.186001  |             |  9.2s"
       ]
      },
      {
       "output_type": "stream",
       "stream": "stdout",
       "text": [
        "\n",
        "   452  |    0.013264  |    0.011244  |     1.179667  |             |  9.2s"
       ]
      },
      {
       "output_type": "stream",
       "stream": "stdout",
       "text": [
        "\n",
        "   453  |    0.013225  |  \u001b[32m  0.011119\u001b[0m  |     1.189364  |             |  9.2s"
       ]
      },
      {
       "output_type": "stream",
       "stream": "stdout",
       "text": [
        "\n",
        "   454  |  \u001b[94m  0.013209\u001b[0m  |    0.011124  |     1.187454  |             |  9.2s"
       ]
      },
      {
       "output_type": "stream",
       "stream": "stdout",
       "text": [
        "\n",
        "   455  |  \u001b[94m  0.013169\u001b[0m  |  \u001b[32m  0.011094\u001b[0m  |     1.187087  |             |  9.2s"
       ]
      },
      {
       "output_type": "stream",
       "stream": "stdout",
       "text": [
        "\n",
        "   456  |  \u001b[94m  0.013130\u001b[0m  |    0.011134  |     1.179294  |             |  9.2s"
       ]
      },
      {
       "output_type": "stream",
       "stream": "stdout",
       "text": [
        "\n",
        "   457  |    0.013140  |  \u001b[32m  0.011080\u001b[0m  |     1.185897  |             |  9.2s"
       ]
      },
      {
       "output_type": "stream",
       "stream": "stdout",
       "text": [
        "\n",
        "   458  |    0.013167  |    0.011139  |     1.182088  |             |  9.2s"
       ]
      },
      {
       "output_type": "stream",
       "stream": "stdout",
       "text": [
        "\n",
        "   459  |    0.013183  |  \u001b[32m  0.011053\u001b[0m  |     1.192704  |             |  9.2s"
       ]
      },
      {
       "output_type": "stream",
       "stream": "stdout",
       "text": [
        "\n",
        "   460  |  \u001b[94m  0.013078\u001b[0m  |    0.011118  |     1.176276  |             |  9.2s"
       ]
      },
      {
       "output_type": "stream",
       "stream": "stdout",
       "text": [
        "\n",
        "   461  |  \u001b[94m  0.013075\u001b[0m  |    0.011097  |     1.178234  |             |  9.2s"
       ]
      },
      {
       "output_type": "stream",
       "stream": "stdout",
       "text": [
        "\n",
        "   462  |  \u001b[94m  0.013057\u001b[0m  |  \u001b[32m  0.011003\u001b[0m  |     1.186743  |             |  9.2s"
       ]
      },
      {
       "output_type": "stream",
       "stream": "stdout",
       "text": [
        "\n",
        "   463  |  \u001b[94m  0.013005\u001b[0m  |  \u001b[32m  0.010970\u001b[0m  |     1.185513  |             |  9.2s"
       ]
      },
      {
       "output_type": "stream",
       "stream": "stdout",
       "text": [
        "\n",
        "   464  |    0.013016  |    0.011000  |     1.183264  |             |  9.2s"
       ]
      },
      {
       "output_type": "stream",
       "stream": "stdout",
       "text": [
        "\n",
        "   465  |  \u001b[94m  0.012957\u001b[0m  |    0.011002  |     1.177685  |             |  9.2s"
       ]
      },
      {
       "output_type": "stream",
       "stream": "stdout",
       "text": [
        "\n",
        "   466  |    0.013001  |  \u001b[32m  0.010905\u001b[0m  |     1.192199  |             |  9.2s"
       ]
      },
      {
       "output_type": "stream",
       "stream": "stdout",
       "text": [
        "\n",
        "   467  |    0.013035  |    0.010957  |     1.189729  |             |  9.2s"
       ]
      },
      {
       "output_type": "stream",
       "stream": "stdout",
       "text": [
        "\n",
        "   468  |    0.013028  |    0.010928  |     1.192123  |             |  9.2s"
       ]
      },
      {
       "output_type": "stream",
       "stream": "stdout",
       "text": [
        "\n",
        "   469  |  \u001b[94m  0.012945\u001b[0m  |    0.010932  |     1.184157  |             |  9.2s"
       ]
      },
      {
       "output_type": "stream",
       "stream": "stdout",
       "text": [
        "\n",
        "   470  |    0.012950  |  \u001b[32m  0.010868\u001b[0m  |     1.191608  |             |  9.2s"
       ]
      },
      {
       "output_type": "stream",
       "stream": "stdout",
       "text": [
        "\n",
        "   471  |  \u001b[94m  0.012920\u001b[0m  |  \u001b[32m  0.010860\u001b[0m  |     1.189645  |             |  9.2s"
       ]
      },
      {
       "output_type": "stream",
       "stream": "stdout",
       "text": [
        "\n",
        "   472  |    0.012957  |  \u001b[32m  0.010826\u001b[0m  |     1.196834  |             |  9.2s"
       ]
      },
      {
       "output_type": "stream",
       "stream": "stdout",
       "text": [
        "\n",
        "   473  |  \u001b[94m  0.012864\u001b[0m  |  \u001b[32m  0.010749\u001b[0m  |     1.196705  |             |  9.2s"
       ]
      },
      {
       "output_type": "stream",
       "stream": "stdout",
       "text": [
        "\n",
        "   474  |    0.012915  |    0.010845  |     1.190863  |             |  9.2s"
       ]
      },
      {
       "output_type": "stream",
       "stream": "stdout",
       "text": [
        "\n",
        "   475  |    0.012875  |    0.010798  |     1.192363  |             |  9.2s"
       ]
      },
      {
       "output_type": "stream",
       "stream": "stdout",
       "text": [
        "\n",
        "   476  |  \u001b[94m  0.012763\u001b[0m  |    0.010836  |     1.177858  |             |  9.2s"
       ]
      },
      {
       "output_type": "stream",
       "stream": "stdout",
       "text": [
        "\n",
        "   477  |    0.012860  |    0.010766  |     1.194464  |             |  9.2s"
       ]
      },
      {
       "output_type": "stream",
       "stream": "stdout",
       "text": [
        "\n",
        "   478  |    0.012830  |    0.010844  |     1.183154  |             |  9.2s"
       ]
      },
      {
       "output_type": "stream",
       "stream": "stdout",
       "text": [
        "\n",
        "   479  |    0.012825  |    0.010829  |     1.184308  |             |  9.2s"
       ]
      },
      {
       "output_type": "stream",
       "stream": "stdout",
       "text": [
        "\n",
        "   480  |    0.012818  |  \u001b[32m  0.010694\u001b[0m  |     1.198642  |             |  9.2s"
       ]
      },
      {
       "output_type": "stream",
       "stream": "stdout",
       "text": [
        "\n",
        "   481  |    0.012793  |    0.010782  |     1.186530  |             |  9.2s"
       ]
      },
      {
       "output_type": "stream",
       "stream": "stdout",
       "text": [
        "\n",
        "   482  |    0.012821  |    0.010748  |     1.192849  |             |  9.2s"
       ]
      },
      {
       "output_type": "stream",
       "stream": "stdout",
       "text": [
        "\n",
        "   483  |    0.012778  |    0.010751  |     1.188578  |             |  9.2s"
       ]
      },
      {
       "output_type": "stream",
       "stream": "stdout",
       "text": [
        "\n",
        "   484  |    0.012789  |  \u001b[32m  0.010678\u001b[0m  |     1.197664  |             |  9.2s"
       ]
      },
      {
       "output_type": "stream",
       "stream": "stdout",
       "text": [
        "\n",
        "   485  |  \u001b[94m  0.012748\u001b[0m  |    0.010693  |     1.192213  |             |  9.2s"
       ]
      },
      {
       "output_type": "stream",
       "stream": "stdout",
       "text": [
        "\n",
        "   486  |  \u001b[94m  0.012697\u001b[0m  |  \u001b[32m  0.010671\u001b[0m  |     1.189833  |             |  9.2s"
       ]
      },
      {
       "output_type": "stream",
       "stream": "stdout",
       "text": [
        "\n",
        "   487  |  \u001b[94m  0.012687\u001b[0m  |    0.010673  |     1.188723  |             |  9.2s"
       ]
      },
      {
       "output_type": "stream",
       "stream": "stdout",
       "text": [
        "\n",
        "   488  |    0.012695  |  \u001b[32m  0.010666\u001b[0m  |     1.190253  |             |  9.2s"
       ]
      },
      {
       "output_type": "stream",
       "stream": "stdout",
       "text": [
        "\n",
        "   489  |    0.012718  |  \u001b[32m  0.010639\u001b[0m  |     1.195447  |             |  9.2s"
       ]
      },
      {
       "output_type": "stream",
       "stream": "stdout",
       "text": [
        "\n",
        "   490  |  \u001b[94m  0.012676\u001b[0m  |  \u001b[32m  0.010571\u001b[0m  |     1.199144  |             |  9.2s"
       ]
      },
      {
       "output_type": "stream",
       "stream": "stdout",
       "text": [
        "\n",
        "   491  |  \u001b[94m  0.012617\u001b[0m  |    0.010661  |     1.183511  |             |  9.2s"
       ]
      },
      {
       "output_type": "stream",
       "stream": "stdout",
       "text": [
        "\n",
        "   492  |    0.012672  |    0.010635  |     1.191481  |             |  9.2s"
       ]
      },
      {
       "output_type": "stream",
       "stream": "stdout",
       "text": [
        "\n",
        "   493  |    0.012630  |    0.010640  |     1.187058  |             |  9.2s"
       ]
      },
      {
       "output_type": "stream",
       "stream": "stdout",
       "text": [
        "\n",
        "   494  |  \u001b[94m  0.012555\u001b[0m  |  \u001b[32m  0.010497\u001b[0m  |     1.196127  |             |  9.2s"
       ]
      },
      {
       "output_type": "stream",
       "stream": "stdout",
       "text": [
        "\n",
        "   495  |    0.012570  |    0.010612  |     1.184521  |             |  9.2s"
       ]
      },
      {
       "output_type": "stream",
       "stream": "stdout",
       "text": [
        "\n",
        "   496  |  \u001b[94m  0.012553\u001b[0m  |    0.010597  |     1.184559  |             |  9.2s"
       ]
      },
      {
       "output_type": "stream",
       "stream": "stdout",
       "text": [
        "\n",
        "   497  |  \u001b[94m  0.012530\u001b[0m  |    0.010539  |     1.188833  |             |  9.2s"
       ]
      },
      {
       "output_type": "stream",
       "stream": "stdout",
       "text": [
        "\n",
        "   498  |    0.012584  |    0.010543  |     1.193617  |             |  9.2s"
       ]
      },
      {
       "output_type": "stream",
       "stream": "stdout",
       "text": [
        "\n",
        "   499  |  \u001b[94m  0.012494\u001b[0m  |    0.010507  |     1.189104  |             |  9.2s"
       ]
      },
      {
       "output_type": "stream",
       "stream": "stdout",
       "text": [
        "\n",
        "   500  |    0.012542  |    0.010511  |     1.193267  |             |  9.2s"
       ]
      },
      {
       "output_type": "stream",
       "stream": "stdout",
       "text": [
        "\n",
        "   501  |    0.012501  |    0.010531  |     1.187108  |             |  9.2s"
       ]
      },
      {
       "output_type": "stream",
       "stream": "stdout",
       "text": [
        "\n",
        "   502  |  \u001b[94m  0.012486\u001b[0m  |  \u001b[32m  0.010479\u001b[0m  |     1.191520  |             |  9.2s"
       ]
      },
      {
       "output_type": "stream",
       "stream": "stdout",
       "text": [
        "\n",
        "   503  |    0.012502  |  \u001b[32m  0.010426\u001b[0m  |     1.199159  |             |  9.2s"
       ]
      },
      {
       "output_type": "stream",
       "stream": "stdout",
       "text": [
        "\n",
        "   504  |    0.012525  |    0.010504  |     1.192466  |             |  9.2s"
       ]
      },
      {
       "output_type": "stream",
       "stream": "stdout",
       "text": [
        "\n",
        "   505  |    0.012540  |    0.010548  |     1.188848  |             |  9.2s"
       ]
      },
      {
       "output_type": "stream",
       "stream": "stdout",
       "text": [
        "\n",
        "   506  |  \u001b[94m  0.012445\u001b[0m  |    0.010485  |     1.186914  |             |  9.2s"
       ]
      },
      {
       "output_type": "stream",
       "stream": "stdout",
       "text": [
        "\n",
        "   507  |  \u001b[94m  0.012438\u001b[0m  |    0.010517  |     1.182694  |             |  9.2s"
       ]
      },
      {
       "output_type": "stream",
       "stream": "stdout",
       "text": [
        "\n",
        "   508  |  \u001b[94m  0.012436\u001b[0m  |    0.010467  |     1.188153  |             |  9.2s"
       ]
      },
      {
       "output_type": "stream",
       "stream": "stdout",
       "text": [
        "\n",
        "   509  |  \u001b[94m  0.012393\u001b[0m  |  \u001b[32m  0.010328\u001b[0m  |     1.199906  |             |  9.2s"
       ]
      },
      {
       "output_type": "stream",
       "stream": "stdout",
       "text": [
        "\n",
        "   510  |    0.012425  |    0.010389  |     1.195993  |             |  9.2s"
       ]
      },
      {
       "output_type": "stream",
       "stream": "stdout",
       "text": [
        "\n",
        "   511  |  \u001b[94m  0.012390\u001b[0m  |    0.010357  |     1.196318  |             |  9.2s"
       ]
      },
      {
       "output_type": "stream",
       "stream": "stdout",
       "text": [
        "\n",
        "   512  |    0.012390  |    0.010426  |     1.188407  |             |  9.2s"
       ]
      },
      {
       "output_type": "stream",
       "stream": "stdout",
       "text": [
        "\n",
        "   513  |  \u001b[94m  0.012316\u001b[0m  |    0.010348  |     1.190265  |             |  9.2s"
       ]
      },
      {
       "output_type": "stream",
       "stream": "stdout",
       "text": [
        "\n",
        "   514  |    0.012408  |  \u001b[32m  0.010312\u001b[0m  |     1.203239  |             |  9.2s"
       ]
      },
      {
       "output_type": "stream",
       "stream": "stdout",
       "text": [
        "\n",
        "   515  |    0.012348  |  \u001b[32m  0.010305\u001b[0m  |     1.198293  |             |  9.2s"
       ]
      },
      {
       "output_type": "stream",
       "stream": "stdout",
       "text": [
        "\n",
        "   516  |  \u001b[94m  0.012299\u001b[0m  |    0.010332  |     1.190372  |             |  9.2s"
       ]
      },
      {
       "output_type": "stream",
       "stream": "stdout",
       "text": [
        "\n",
        "   517  |    0.012307  |    0.010335  |     1.190832  |             |  9.2s"
       ]
      },
      {
       "output_type": "stream",
       "stream": "stdout",
       "text": [
        "\n",
        "   518  |    0.012322  |    0.010390  |     1.185947  |             |  9.2s"
       ]
      },
      {
       "output_type": "stream",
       "stream": "stdout",
       "text": [
        "\n",
        "   519  |    0.012311  |    0.010328  |     1.192024  |             |  9.2s"
       ]
      },
      {
       "output_type": "stream",
       "stream": "stdout",
       "text": [
        "\n",
        "   520  |  \u001b[94m  0.012227\u001b[0m  |  \u001b[32m  0.010288\u001b[0m  |     1.188459  |             |  9.2s"
       ]
      },
      {
       "output_type": "stream",
       "stream": "stdout",
       "text": [
        "\n",
        "   521  |    0.012271  |  \u001b[32m  0.010223\u001b[0m  |     1.200365  |             |  9.2s"
       ]
      },
      {
       "output_type": "stream",
       "stream": "stdout",
       "text": [
        "\n",
        "   522  |    0.012251  |    0.010246  |     1.195642  |             |  9.2s"
       ]
      },
      {
       "output_type": "stream",
       "stream": "stdout",
       "text": [
        "\n",
        "   523  |  \u001b[94m  0.012224\u001b[0m  |    0.010251  |     1.192521  |             |  9.2s"
       ]
      },
      {
       "output_type": "stream",
       "stream": "stdout",
       "text": [
        "\n",
        "   524  |  \u001b[94m  0.012186\u001b[0m  |    0.010247  |     1.189293  |             |  9.2s"
       ]
      },
      {
       "output_type": "stream",
       "stream": "stdout",
       "text": [
        "\n",
        "   525  |    0.012242  |    0.010255  |     1.193696  |             |  9.2s"
       ]
      },
      {
       "output_type": "stream",
       "stream": "stdout",
       "text": [
        "\n",
        "   526  |  \u001b[94m  0.012171\u001b[0m  |    0.010239  |     1.188740  |             |  9.2s"
       ]
      },
      {
       "output_type": "stream",
       "stream": "stdout",
       "text": [
        "\n",
        "   527  |  \u001b[94m  0.012135\u001b[0m  |  \u001b[32m  0.010205\u001b[0m  |     1.189054  |             |  9.2s"
       ]
      },
      {
       "output_type": "stream",
       "stream": "stdout",
       "text": [
        "\n",
        "   528  |  \u001b[94m  0.012112\u001b[0m  |    0.010291  |     1.176973  |             |  9.2s"
       ]
      },
      {
       "output_type": "stream",
       "stream": "stdout",
       "text": [
        "\n",
        "   529  |    0.012179  |    0.010256  |     1.187429  |             |  9.2s"
       ]
      },
      {
       "output_type": "stream",
       "stream": "stdout",
       "text": [
        "\n",
        "   530  |    0.012178  |    0.010243  |     1.188979  |             |  9.2s"
       ]
      },
      {
       "output_type": "stream",
       "stream": "stdout",
       "text": [
        "\n",
        "   531  |    0.012131  |  \u001b[32m  0.010141\u001b[0m  |     1.196316  |             |  9.2s"
       ]
      },
      {
       "output_type": "stream",
       "stream": "stdout",
       "text": [
        "\n",
        "   532  |  \u001b[94m  0.012075\u001b[0m  |    0.010192  |     1.184843  |             |  9.2s"
       ]
      },
      {
       "output_type": "stream",
       "stream": "stdout",
       "text": [
        "\n",
        "   533  |    0.012105  |  \u001b[32m  0.010138\u001b[0m  |     1.194019  |             |  9.2s"
       ]
      },
      {
       "output_type": "stream",
       "stream": "stdout",
       "text": [
        "\n",
        "   534  |    0.012096  |    0.010154  |     1.191200  |             |  9.2s"
       ]
      },
      {
       "output_type": "stream",
       "stream": "stdout",
       "text": [
        "\n",
        "   535  |    0.012082  |  \u001b[32m  0.010129\u001b[0m  |     1.192786  |             |  9.2s"
       ]
      },
      {
       "output_type": "stream",
       "stream": "stdout",
       "text": [
        "\n",
        "   536  |  \u001b[94m  0.012065\u001b[0m  |    0.010134  |     1.190473  |             |  9.2s"
       ]
      },
      {
       "output_type": "stream",
       "stream": "stdout",
       "text": [
        "\n",
        "   537  |  \u001b[94m  0.012035\u001b[0m  |  \u001b[32m  0.010051\u001b[0m  |     1.197328  |             |  9.2s"
       ]
      },
      {
       "output_type": "stream",
       "stream": "stdout",
       "text": [
        "\n",
        "   538  |    0.012047  |    0.010096  |     1.193287  |             |  9.2s"
       ]
      },
      {
       "output_type": "stream",
       "stream": "stdout",
       "text": [
        "\n",
        "   539  |    0.012036  |    0.010091  |     1.192760  |             |  9.2s"
       ]
      },
      {
       "output_type": "stream",
       "stream": "stdout",
       "text": [
        "\n",
        "   540  |  \u001b[94m  0.012034\u001b[0m  |    0.010070  |     1.195045  |             |  9.2s"
       ]
      },
      {
       "output_type": "stream",
       "stream": "stdout",
       "text": [
        "\n",
        "   541  |    0.012053  |  \u001b[32m  0.010043\u001b[0m  |     1.200076  |             |  9.2s"
       ]
      },
      {
       "output_type": "stream",
       "stream": "stdout",
       "text": [
        "\n",
        "   542  |  \u001b[94m  0.011951\u001b[0m  |    0.010062  |     1.187776  |             |  9.2s"
       ]
      },
      {
       "output_type": "stream",
       "stream": "stdout",
       "text": [
        "\n",
        "   543  |    0.012012  |    0.010048  |     1.195514  |             |  9.2s"
       ]
      },
      {
       "output_type": "stream",
       "stream": "stdout",
       "text": [
        "\n",
        "   544  |  \u001b[94m  0.011942\u001b[0m  |  \u001b[32m  0.010020\u001b[0m  |     1.191741  |             |  9.2s"
       ]
      },
      {
       "output_type": "stream",
       "stream": "stdout",
       "text": [
        "\n",
        "   545  |  \u001b[94m  0.011936\u001b[0m  |  \u001b[32m  0.009982\u001b[0m  |     1.195778  |             |  9.2s"
       ]
      },
      {
       "output_type": "stream",
       "stream": "stdout",
       "text": [
        "\n",
        "   546  |    0.011953  |    0.010007  |     1.194509  |             |  9.2s"
       ]
      },
      {
       "output_type": "stream",
       "stream": "stdout",
       "text": [
        "\n",
        "   547  |    0.011952  |    0.010028  |     1.191879  |             |  9.2s"
       ]
      },
      {
       "output_type": "stream",
       "stream": "stdout",
       "text": [
        "\n",
        "   548  |  \u001b[94m  0.011846\u001b[0m  |    0.010019  |     1.182343  |             |  9.2s"
       ]
      },
      {
       "output_type": "stream",
       "stream": "stdout",
       "text": [
        "\n",
        "   549  |    0.011898  |  \u001b[32m  0.009954\u001b[0m  |     1.195231  |             |  9.2s"
       ]
      },
      {
       "output_type": "stream",
       "stream": "stdout",
       "text": [
        "\n",
        "   550  |    0.011854  |    0.010003  |     1.185050  |             |  9.2s"
       ]
      },
      {
       "output_type": "stream",
       "stream": "stdout",
       "text": [
        "\n",
        "   551  |  \u001b[94m  0.011841\u001b[0m  |  \u001b[32m  0.009944\u001b[0m  |     1.190688  |             |  9.2s"
       ]
      },
      {
       "output_type": "stream",
       "stream": "stdout",
       "text": [
        "\n",
        "   552  |    0.011910  |    0.010002  |     1.190753  |             |  9.2s"
       ]
      },
      {
       "output_type": "stream",
       "stream": "stdout",
       "text": [
        "\n",
        "   553  |  \u001b[94m  0.011813\u001b[0m  |    0.010034  |     1.177296  |             |  9.2s"
       ]
      },
      {
       "output_type": "stream",
       "stream": "stdout",
       "text": [
        "\n",
        "   554  |    0.011876  |  \u001b[32m  0.009943\u001b[0m  |     1.194421  |             |  9.2s"
       ]
      },
      {
       "output_type": "stream",
       "stream": "stdout",
       "text": [
        "\n",
        "   555  |    0.011844  |    0.009970  |     1.187943  |             |  9.2s"
       ]
      },
      {
       "output_type": "stream",
       "stream": "stdout",
       "text": [
        "\n",
        "   556  |    0.011818  |    0.009967  |     1.185740  |             |  9.2s"
       ]
      },
      {
       "output_type": "stream",
       "stream": "stdout",
       "text": [
        "\n",
        "   557  |  \u001b[94m  0.011810\u001b[0m  |  \u001b[32m  0.009869\u001b[0m  |     1.196665  |             |  9.2s"
       ]
      },
      {
       "output_type": "stream",
       "stream": "stdout",
       "text": [
        "\n",
        "   558  |    0.011844  |    0.009938  |     1.191844  |             |  9.2s"
       ]
      },
      {
       "output_type": "stream",
       "stream": "stdout",
       "text": [
        "\n",
        "   559  |    0.011822  |    0.009883  |     1.196229  |             |  9.2s"
       ]
      },
      {
       "output_type": "stream",
       "stream": "stdout",
       "text": [
        "\n",
        "   560  |  \u001b[94m  0.011780\u001b[0m  |    0.009877  |     1.192758  |             |  9.2s"
       ]
      },
      {
       "output_type": "stream",
       "stream": "stdout",
       "text": [
        "\n",
        "   561  |    0.011805  |    0.009891  |     1.193544  |             |  9.2s"
       ]
      },
      {
       "output_type": "stream",
       "stream": "stdout",
       "text": [
        "\n",
        "   562  |  \u001b[94m  0.011776\u001b[0m  |    0.009912  |     1.188120  |             |  9.2s"
       ]
      },
      {
       "output_type": "stream",
       "stream": "stdout",
       "text": [
        "\n",
        "   563  |    0.011813  |    0.009879  |     1.195784  |             |  9.2s"
       ]
      },
      {
       "output_type": "stream",
       "stream": "stdout",
       "text": [
        "\n",
        "   564  |  \u001b[94m  0.011763\u001b[0m  |  \u001b[32m  0.009819\u001b[0m  |     1.197886  |             |  9.2s"
       ]
      },
      {
       "output_type": "stream",
       "stream": "stdout",
       "text": [
        "\n",
        "   565  |  \u001b[94m  0.011729\u001b[0m  |  \u001b[32m  0.009811\u001b[0m  |     1.195550  |             |  9.2s"
       ]
      },
      {
       "output_type": "stream",
       "stream": "stdout",
       "text": [
        "\n",
        "   566  |  \u001b[94m  0.011711\u001b[0m  |  \u001b[32m  0.009802\u001b[0m  |     1.194722  |             |  9.2s"
       ]
      },
      {
       "output_type": "stream",
       "stream": "stdout",
       "text": [
        "\n",
        "   567  |  \u001b[94m  0.011686\u001b[0m  |  \u001b[32m  0.009778\u001b[0m  |     1.195122  |             |  9.2s"
       ]
      },
      {
       "output_type": "stream",
       "stream": "stdout",
       "text": [
        "\n",
        "   568  |    0.011721  |  \u001b[32m  0.009740\u001b[0m  |     1.203433  |             |  9.2s"
       ]
      },
      {
       "output_type": "stream",
       "stream": "stdout",
       "text": [
        "\n",
        "   569  |    0.011704  |    0.009885  |     1.184004  |             |  9.2s"
       ]
      },
      {
       "output_type": "stream",
       "stream": "stdout",
       "text": [
        "\n",
        "   570  |    0.011728  |    0.009789  |     1.198040  |             |  9.2s"
       ]
      },
      {
       "output_type": "stream",
       "stream": "stdout",
       "text": [
        "\n",
        "   571  |    0.011713  |  \u001b[32m  0.009729\u001b[0m  |     1.203884  |             |  9.2s"
       ]
      },
      {
       "output_type": "stream",
       "stream": "stdout",
       "text": [
        "\n",
        "   572  |  \u001b[94m  0.011608\u001b[0m  |    0.009750  |     1.190459  |             |  9.2s"
       ]
      },
      {
       "output_type": "stream",
       "stream": "stdout",
       "text": [
        "\n",
        "   573  |    0.011632  |  \u001b[32m  0.009668\u001b[0m  |     1.203218  |             |  9.2s"
       ]
      },
      {
       "output_type": "stream",
       "stream": "stdout",
       "text": [
        "\n",
        "   574  |  \u001b[94m  0.011581\u001b[0m  |    0.009759  |     1.186686  |             |  9.2s"
       ]
      },
      {
       "output_type": "stream",
       "stream": "stdout",
       "text": [
        "\n",
        "   575  |    0.011600  |    0.009756  |     1.188957  |             |  9.2s"
       ]
      },
      {
       "output_type": "stream",
       "stream": "stdout",
       "text": [
        "\n",
        "   576  |    0.011659  |  \u001b[32m  0.009664\u001b[0m  |     1.206502  |             |  9.2s"
       ]
      },
      {
       "output_type": "stream",
       "stream": "stdout",
       "text": [
        "\n",
        "   577  |  \u001b[94m  0.011550\u001b[0m  |    0.009696  |     1.191180  |             |  9.2s"
       ]
      },
      {
       "output_type": "stream",
       "stream": "stdout",
       "text": [
        "\n",
        "   578  |    0.011631  |    0.009726  |     1.195783  |             |  9.2s"
       ]
      },
      {
       "output_type": "stream",
       "stream": "stdout",
       "text": [
        "\n",
        "   579  |    0.011609  |    0.009728  |     1.193390  |             |  9.2s"
       ]
      },
      {
       "output_type": "stream",
       "stream": "stdout",
       "text": [
        "\n",
        "   580  |    0.011575  |    0.009724  |     1.190283  |             |  9.2s"
       ]
      },
      {
       "output_type": "stream",
       "stream": "stdout",
       "text": [
        "\n",
        "   581  |    0.011567  |    0.009671  |     1.196086  |             |  9.2s"
       ]
      },
      {
       "output_type": "stream",
       "stream": "stdout",
       "text": [
        "\n",
        "   582  |  \u001b[94m  0.011543\u001b[0m  |    0.009699  |     1.190135  |             |  9.2s"
       ]
      },
      {
       "output_type": "stream",
       "stream": "stdout",
       "text": [
        "\n",
        "   583  |    0.011553  |  \u001b[32m  0.009655\u001b[0m  |     1.196561  |             |  9.2s"
       ]
      },
      {
       "output_type": "stream",
       "stream": "stdout",
       "text": [
        "\n",
        "   584  |  \u001b[94m  0.011529\u001b[0m  |  \u001b[32m  0.009615\u001b[0m  |     1.199063  |             |  9.2s"
       ]
      },
      {
       "output_type": "stream",
       "stream": "stdout",
       "text": [
        "\n",
        "   585  |  \u001b[94m  0.011527\u001b[0m  |    0.009676  |     1.191286  |             |  9.2s"
       ]
      },
      {
       "output_type": "stream",
       "stream": "stdout",
       "text": [
        "\n",
        "   586  |  \u001b[94m  0.011512\u001b[0m  |    0.009631  |     1.195261  |             |  9.2s"
       ]
      },
      {
       "output_type": "stream",
       "stream": "stdout",
       "text": [
        "\n",
        "   587  |  \u001b[94m  0.011504\u001b[0m  |  \u001b[32m  0.009571\u001b[0m  |     1.201943  |             |  9.2s"
       ]
      },
      {
       "output_type": "stream",
       "stream": "stdout",
       "text": [
        "\n",
        "   588  |    0.011521  |    0.009601  |     1.200037  |             |  9.2s"
       ]
      },
      {
       "output_type": "stream",
       "stream": "stdout",
       "text": [
        "\n",
        "   589  |    0.011513  |    0.009588  |     1.200822  |             |  9.2s"
       ]
      },
      {
       "output_type": "stream",
       "stream": "stdout",
       "text": [
        "\n",
        "   590  |    0.011508  |  \u001b[32m  0.009547\u001b[0m  |     1.205437  |             |  9.2s"
       ]
      },
      {
       "output_type": "stream",
       "stream": "stdout",
       "text": [
        "\n",
        "   591  |  \u001b[94m  0.011463\u001b[0m  |  \u001b[32m  0.009541\u001b[0m  |     1.201419  |             |  9.2s"
       ]
      },
      {
       "output_type": "stream",
       "stream": "stdout",
       "text": [
        "\n",
        "   592  |  \u001b[94m  0.011425\u001b[0m  |    0.009589  |     1.191441  |             |  9.2s"
       ]
      },
      {
       "output_type": "stream",
       "stream": "stdout",
       "text": [
        "\n",
        "   593  |    0.011460  |    0.009563  |     1.198363  |             |  9.2s"
       ]
      },
      {
       "output_type": "stream",
       "stream": "stdout",
       "text": [
        "\n",
        "   594  |  \u001b[94m  0.011368\u001b[0m  |    0.009560  |     1.189104  |             |  9.2s"
       ]
      },
      {
       "output_type": "stream",
       "stream": "stdout",
       "text": [
        "\n",
        "   595  |    0.011427  |    0.009603  |     1.189951  |             |  9.2s"
       ]
      },
      {
       "output_type": "stream",
       "stream": "stdout",
       "text": [
        "\n",
        "   596  |    0.011453  |  \u001b[32m  0.009508\u001b[0m  |     1.204539  |             |  9.2s"
       ]
      },
      {
       "output_type": "stream",
       "stream": "stdout",
       "text": [
        "\n",
        "   597  |    0.011386  |    0.009618  |     1.183894  |             |  9.2s"
       ]
      },
      {
       "output_type": "stream",
       "stream": "stdout",
       "text": [
        "\n",
        "   598  |  \u001b[94m  0.011335\u001b[0m  |    0.009544  |     1.187587  |             |  9.2s"
       ]
      },
      {
       "output_type": "stream",
       "stream": "stdout",
       "text": [
        "\n",
        "   599  |    0.011392  |    0.009559  |     1.191795  |             |  9.2s"
       ]
      },
      {
       "output_type": "stream",
       "stream": "stdout",
       "text": [
        "\n",
        "   600  |    0.011359  |  \u001b[32m  0.009501\u001b[0m  |     1.195474  |             |  9.2s"
       ]
      },
      {
       "output_type": "stream",
       "stream": "stdout",
       "text": [
        "\n",
        "   601  |    0.011352  |    0.009538  |     1.190248  |             |  9.2s"
       ]
      },
      {
       "output_type": "stream",
       "stream": "stdout",
       "text": [
        "\n",
        "   602  |  \u001b[94m  0.011315\u001b[0m  |    0.009510  |     1.189742  |             |  9.2s"
       ]
      },
      {
       "output_type": "stream",
       "stream": "stdout",
       "text": [
        "\n",
        "   603  |    0.011416  |    0.009590  |     1.190449  |             |  9.2s"
       ]
      },
      {
       "output_type": "stream",
       "stream": "stdout",
       "text": [
        "\n",
        "   604  |  \u001b[94m  0.011294\u001b[0m  |    0.009520  |     1.186313  |             |  9.2s"
       ]
      },
      {
       "output_type": "stream",
       "stream": "stdout",
       "text": [
        "\n",
        "   605  |    0.011303  |  \u001b[32m  0.009463\u001b[0m  |     1.194416  |             |  9.2s"
       ]
      },
      {
       "output_type": "stream",
       "stream": "stdout",
       "text": [
        "\n",
        "   606  |  \u001b[94m  0.011281\u001b[0m  |    0.009464  |     1.191968  |             |  9.2s"
       ]
      },
      {
       "output_type": "stream",
       "stream": "stdout",
       "text": [
        "\n",
        "   607  |    0.011317  |    0.009466  |     1.195525  |             |  9.2s"
       ]
      },
      {
       "output_type": "stream",
       "stream": "stdout",
       "text": [
        "\n",
        "   608  |  \u001b[94m  0.011269\u001b[0m  |  \u001b[32m  0.009452\u001b[0m  |     1.192278  |             |  9.2s"
       ]
      },
      {
       "output_type": "stream",
       "stream": "stdout",
       "text": [
        "\n",
        "   609  |    0.011292  |  \u001b[32m  0.009416\u001b[0m  |     1.199261  |             |  9.2s"
       ]
      },
      {
       "output_type": "stream",
       "stream": "stdout",
       "text": [
        "\n",
        "   610  |  \u001b[94m  0.011233\u001b[0m  |    0.009425  |     1.191837  |             |  9.2s"
       ]
      },
      {
       "output_type": "stream",
       "stream": "stdout",
       "text": [
        "\n",
        "   611  |    0.011239  |  \u001b[32m  0.009398\u001b[0m  |     1.195921  |             |  9.2s"
       ]
      },
      {
       "output_type": "stream",
       "stream": "stdout",
       "text": [
        "\n",
        "   612  |  \u001b[94m  0.011218\u001b[0m  |    0.009412  |     1.191834  |             |  9.2s"
       ]
      },
      {
       "output_type": "stream",
       "stream": "stdout",
       "text": [
        "\n",
        "   613  |    0.011244  |  \u001b[32m  0.009396\u001b[0m  |     1.196616  |             |  9.2s"
       ]
      },
      {
       "output_type": "stream",
       "stream": "stdout",
       "text": [
        "\n",
        "   614  |    0.011249  |  \u001b[32m  0.009381\u001b[0m  |     1.199085  |             |  9.2s"
       ]
      },
      {
       "output_type": "stream",
       "stream": "stdout",
       "text": [
        "\n",
        "   615  |    0.011252  |    0.009388  |     1.198584  |             |  9.2s"
       ]
      },
      {
       "output_type": "stream",
       "stream": "stdout",
       "text": [
        "\n",
        "   616  |  \u001b[94m  0.011162\u001b[0m  |    0.009426  |     1.184234  |             |  9.2s"
       ]
      },
      {
       "output_type": "stream",
       "stream": "stdout",
       "text": [
        "\n",
        "   617  |  \u001b[94m  0.011153\u001b[0m  |    0.009422  |     1.183730  |             |  9.2s"
       ]
      },
      {
       "output_type": "stream",
       "stream": "stdout",
       "text": [
        "\n",
        "   618  |    0.011164  |  \u001b[32m  0.009379\u001b[0m  |     1.190261  |             |  9.2s"
       ]
      },
      {
       "output_type": "stream",
       "stream": "stdout",
       "text": [
        "\n",
        "   619  |    0.011164  |  \u001b[32m  0.009315\u001b[0m  |     1.198453  |             |  9.2s"
       ]
      },
      {
       "output_type": "stream",
       "stream": "stdout",
       "text": [
        "\n",
        "   620  |  \u001b[94m  0.011090\u001b[0m  |    0.009346  |     1.186550  |             |  9.2s"
       ]
      },
      {
       "output_type": "stream",
       "stream": "stdout",
       "text": [
        "\n",
        "   621  |    0.011101  |  \u001b[32m  0.009314\u001b[0m  |     1.191891  |             |  9.2s"
       ]
      },
      {
       "output_type": "stream",
       "stream": "stdout",
       "text": [
        "\n",
        "   622  |    0.011185  |  \u001b[32m  0.009310\u001b[0m  |     1.201385  |             |  9.2s"
       ]
      },
      {
       "output_type": "stream",
       "stream": "stdout",
       "text": [
        "\n",
        "   623  |    0.011127  |    0.009374  |     1.186997  |             |  9.2s"
       ]
      },
      {
       "output_type": "stream",
       "stream": "stdout",
       "text": [
        "\n",
        "   624  |    0.011165  |  \u001b[32m  0.009303\u001b[0m  |     1.200142  |             |  9.2s"
       ]
      },
      {
       "output_type": "stream",
       "stream": "stdout",
       "text": [
        "\n",
        "   625  |  \u001b[94m  0.011077\u001b[0m  |    0.009333  |     1.186942  |             |  9.2s"
       ]
      },
      {
       "output_type": "stream",
       "stream": "stdout",
       "text": [
        "\n",
        "   626  |  \u001b[94m  0.011059\u001b[0m  |    0.009311  |     1.187711  |             |  9.2s"
       ]
      },
      {
       "output_type": "stream",
       "stream": "stdout",
       "text": [
        "\n",
        "   627  |    0.011094  |  \u001b[32m  0.009230\u001b[0m  |     1.202013  |             |  9.2s"
       ]
      },
      {
       "output_type": "stream",
       "stream": "stdout",
       "text": [
        "\n",
        "   628  |  \u001b[94m  0.011057\u001b[0m  |    0.009243  |     1.196224  |             |  9.2s"
       ]
      },
      {
       "output_type": "stream",
       "stream": "stdout",
       "text": [
        "\n",
        "   629  |  \u001b[94m  0.011052\u001b[0m  |    0.009297  |     1.188770  |             |  9.2s"
       ]
      },
      {
       "output_type": "stream",
       "stream": "stdout",
       "text": [
        "\n",
        "   630  |    0.011096  |    0.009278  |     1.195905  |             |  9.2s"
       ]
      },
      {
       "output_type": "stream",
       "stream": "stdout",
       "text": [
        "\n",
        "   631  |  \u001b[94m  0.011014\u001b[0m  |    0.009270  |     1.188125  |             |  9.2s"
       ]
      },
      {
       "output_type": "stream",
       "stream": "stdout",
       "text": [
        "\n",
        "   632  |    0.011056  |    0.009243  |     1.196076  |             |  9.2s"
       ]
      },
      {
       "output_type": "stream",
       "stream": "stdout",
       "text": [
        "\n",
        "   633  |  \u001b[94m  0.010998\u001b[0m  |  \u001b[32m  0.009225\u001b[0m  |     1.192295  |             |  9.2s"
       ]
      },
      {
       "output_type": "stream",
       "stream": "stdout",
       "text": [
        "\n",
        "   634  |    0.011051  |    0.009252  |     1.194455  |             |  9.2s"
       ]
      },
      {
       "output_type": "stream",
       "stream": "stdout",
       "text": [
        "\n",
        "   635  |    0.011050  |    0.009242  |     1.195610  |             |  9.2s"
       ]
      },
      {
       "output_type": "stream",
       "stream": "stdout",
       "text": [
        "\n",
        "   636  |  \u001b[94m  0.010952\u001b[0m  |  \u001b[32m  0.009166\u001b[0m  |     1.194784  |             |  9.2s"
       ]
      },
      {
       "output_type": "stream",
       "stream": "stdout",
       "text": [
        "\n",
        "   637  |    0.011007  |    0.009248  |     1.190178  |             |  9.2s"
       ]
      },
      {
       "output_type": "stream",
       "stream": "stdout",
       "text": [
        "\n",
        "   638  |    0.011011  |    0.009257  |     1.189447  |             |  9.2s"
       ]
      },
      {
       "output_type": "stream",
       "stream": "stdout",
       "text": [
        "\n",
        "   639  |    0.010980  |  \u001b[32m  0.009161\u001b[0m  |     1.198598  |             |  9.2s"
       ]
      },
      {
       "output_type": "stream",
       "stream": "stdout",
       "text": [
        "\n",
        "   640  |  \u001b[94m  0.010908\u001b[0m  |  \u001b[32m  0.009143\u001b[0m  |     1.193148  |             |  9.2s"
       ]
      },
      {
       "output_type": "stream",
       "stream": "stdout",
       "text": [
        "\n",
        "   641  |    0.010961  |    0.009162  |     1.196458  |             |  9.2s"
       ]
      },
      {
       "output_type": "stream",
       "stream": "stdout",
       "text": [
        "\n",
        "   642  |  \u001b[94m  0.010872\u001b[0m  |    0.009187  |     1.183387  |             |  9.2s"
       ]
      },
      {
       "output_type": "stream",
       "stream": "stdout",
       "text": [
        "\n",
        "   643  |    0.010937  |  \u001b[32m  0.009119\u001b[0m  |     1.199391  |             |  9.2s"
       ]
      },
      {
       "output_type": "stream",
       "stream": "stdout",
       "text": [
        "\n",
        "   644  |    0.010883  |  \u001b[32m  0.009070\u001b[0m  |     1.199923  |             |  9.2s"
       ]
      },
      {
       "output_type": "stream",
       "stream": "stdout",
       "text": [
        "\n",
        "   645  |    0.010949  |    0.009106  |     1.202481  |             |  9.2s"
       ]
      },
      {
       "output_type": "stream",
       "stream": "stdout",
       "text": [
        "\n",
        "   646  |  \u001b[94m  0.010814\u001b[0m  |    0.009136  |     1.183607  |             |  9.2s"
       ]
      },
      {
       "output_type": "stream",
       "stream": "stdout",
       "text": [
        "\n",
        "   647  |    0.010935  |    0.009086  |     1.203413  |             |  9.2s"
       ]
      },
      {
       "output_type": "stream",
       "stream": "stdout",
       "text": [
        "\n",
        "   648  |  \u001b[94m  0.010800\u001b[0m  |    0.009108  |     1.185811  |             |  9.2s"
       ]
      },
      {
       "output_type": "stream",
       "stream": "stdout",
       "text": [
        "\n",
        "   649  |    0.010850  |    0.009128  |     1.188635  |             |  9.2s"
       ]
      },
      {
       "output_type": "stream",
       "stream": "stdout",
       "text": [
        "\n",
        "   650  |    0.010852  |    0.009139  |     1.187508  |             |  9.2s"
       ]
      },
      {
       "output_type": "stream",
       "stream": "stdout",
       "text": [
        "\n",
        "   651  |  \u001b[94m  0.010798\u001b[0m  |    0.009098  |     1.186771  |             |  9.2s"
       ]
      },
      {
       "output_type": "stream",
       "stream": "stdout",
       "text": [
        "\n",
        "   652  |    0.010818  |  \u001b[32m  0.009054\u001b[0m  |     1.194775  |             |  9.2s"
       ]
      },
      {
       "output_type": "stream",
       "stream": "stdout",
       "text": [
        "\n",
        "   653  |    0.010822  |    0.009057  |     1.194807  |             |  9.2s"
       ]
      },
      {
       "output_type": "stream",
       "stream": "stdout",
       "text": [
        "\n",
        "   654  |    0.010833  |    0.009058  |     1.195885  |             |  9.2s"
       ]
      },
      {
       "output_type": "stream",
       "stream": "stdout",
       "text": [
        "\n",
        "   655  |  \u001b[94m  0.010785\u001b[0m  |    0.009068  |     1.189338  |             |  9.2s"
       ]
      },
      {
       "output_type": "stream",
       "stream": "stdout",
       "text": [
        "\n",
        "   656  |    0.010810  |  \u001b[32m  0.009013\u001b[0m  |     1.199397  |             |  9.2s"
       ]
      },
      {
       "output_type": "stream",
       "stream": "stdout",
       "text": [
        "\n",
        "   657  |  \u001b[94m  0.010741\u001b[0m  |    0.009045  |     1.187533  |             |  9.2s"
       ]
      },
      {
       "output_type": "stream",
       "stream": "stdout",
       "text": [
        "\n",
        "   658  |    0.010755  |    0.009043  |     1.189333  |             |  9.2s"
       ]
      },
      {
       "output_type": "stream",
       "stream": "stdout",
       "text": [
        "\n",
        "   659  |    0.010783  |  \u001b[32m  0.008993\u001b[0m  |     1.199086  |             |  9.2s"
       ]
      },
      {
       "output_type": "stream",
       "stream": "stdout",
       "text": [
        "\n",
        "   660  |    0.010751  |  \u001b[32m  0.008981\u001b[0m  |     1.197085  |             |  9.2s"
       ]
      },
      {
       "output_type": "stream",
       "stream": "stdout",
       "text": [
        "\n",
        "   661  |  \u001b[94m  0.010740\u001b[0m  |    0.008987  |     1.195066  |             |  9.2s"
       ]
      },
      {
       "output_type": "stream",
       "stream": "stdout",
       "text": [
        "\n",
        "   662  |  \u001b[94m  0.010698\u001b[0m  |  \u001b[32m  0.008940\u001b[0m  |     1.196650  |             |  9.2s"
       ]
      },
      {
       "output_type": "stream",
       "stream": "stdout",
       "text": [
        "\n",
        "   663  |    0.010750  |    0.009001  |     1.194336  |             |  9.2s"
       ]
      },
      {
       "output_type": "stream",
       "stream": "stdout",
       "text": [
        "\n",
        "   664  |    0.010752  |    0.008944  |     1.202127  |             |  9.2s"
       ]
      },
      {
       "output_type": "stream",
       "stream": "stdout",
       "text": [
        "\n",
        "   665  |  \u001b[94m  0.010690\u001b[0m  |    0.008970  |     1.191652  |             |  9.2s"
       ]
      },
      {
       "output_type": "stream",
       "stream": "stdout",
       "text": [
        "\n",
        "   666  |    0.010730  |    0.008990  |     1.193632  |             |  9.2s"
       ]
      },
      {
       "output_type": "stream",
       "stream": "stdout",
       "text": [
        "\n",
        "   667  |  \u001b[94m  0.010614\u001b[0m  |    0.008978  |     1.182293  |             |  9.2s"
       ]
      },
      {
       "output_type": "stream",
       "stream": "stdout",
       "text": [
        "\n",
        "   668  |    0.010630  |    0.009002  |     1.180913  |             |  9.2s"
       ]
      },
      {
       "output_type": "stream",
       "stream": "stdout",
       "text": [
        "\n",
        "   669  |    0.010654  |    0.009033  |     1.179515  |             |  9.2s"
       ]
      },
      {
       "output_type": "stream",
       "stream": "stdout",
       "text": [
        "\n",
        "   670  |    0.010678  |    0.008993  |     1.187429  |             |  9.2s"
       ]
      },
      {
       "output_type": "stream",
       "stream": "stdout",
       "text": [
        "\n",
        "   671  |    0.010630  |    0.008977  |     1.184176  |             |  9.2s"
       ]
      },
      {
       "output_type": "stream",
       "stream": "stdout",
       "text": [
        "\n",
        "   672  |    0.010676  |  \u001b[32m  0.008924\u001b[0m  |     1.196362  |             |  9.2s"
       ]
      },
      {
       "output_type": "stream",
       "stream": "stdout",
       "text": [
        "\n",
        "   673  |  \u001b[94m  0.010582\u001b[0m  |  \u001b[32m  0.008849\u001b[0m  |     1.195808  |             |  9.2s"
       ]
      },
      {
       "output_type": "stream",
       "stream": "stdout",
       "text": [
        "\n",
        "   674  |    0.010651  |    0.008888  |     1.198320  |             |  9.2s"
       ]
      },
      {
       "output_type": "stream",
       "stream": "stdout",
       "text": [
        "\n",
        "   675  |    0.010609  |    0.008884  |     1.194126  |             |  9.2s"
       ]
      },
      {
       "output_type": "stream",
       "stream": "stdout",
       "text": [
        "\n",
        "   676  |    0.010610  |    0.008849  |     1.199021  |             |  9.2s"
       ]
      },
      {
       "output_type": "stream",
       "stream": "stdout",
       "text": [
        "\n",
        "   677  |    0.010613  |  \u001b[32m  0.008845\u001b[0m  |     1.199847  |             |  9.2s"
       ]
      },
      {
       "output_type": "stream",
       "stream": "stdout",
       "text": [
        "\n",
        "   678  |    0.010613  |    0.008861  |     1.197660  |             |  9.2s"
       ]
      },
      {
       "output_type": "stream",
       "stream": "stdout",
       "text": [
        "\n",
        "   679  |  \u001b[94m  0.010510\u001b[0m  |    0.008865  |     1.185583  |             |  9.2s"
       ]
      },
      {
       "output_type": "stream",
       "stream": "stdout",
       "text": [
        "\n",
        "   680  |    0.010555  |    0.008857  |     1.191629  |             |  9.2s"
       ]
      },
      {
       "output_type": "stream",
       "stream": "stdout",
       "text": [
        "\n",
        "   681  |    0.010512  |  \u001b[32m  0.008829\u001b[0m  |     1.190640  |             |  9.2s"
       ]
      },
      {
       "output_type": "stream",
       "stream": "stdout",
       "text": [
        "\n",
        "   682  |  \u001b[94m  0.010493\u001b[0m  |    0.008874  |     1.182538  |             |  9.2s"
       ]
      },
      {
       "output_type": "stream",
       "stream": "stdout",
       "text": [
        "\n",
        "   683  |    0.010587  |  \u001b[32m  0.008823\u001b[0m  |     1.199926  |             |  9.2s"
       ]
      },
      {
       "output_type": "stream",
       "stream": "stdout",
       "text": [
        "\n",
        "   684  |    0.010515  |    0.008838  |     1.189659  |             |  9.2s"
       ]
      },
      {
       "output_type": "stream",
       "stream": "stdout",
       "text": [
        "\n",
        "   685  |  \u001b[94m  0.010426\u001b[0m  |    0.008829  |     1.180994  |             |  9.2s"
       ]
      },
      {
       "output_type": "stream",
       "stream": "stdout",
       "text": [
        "\n",
        "   686  |    0.010503  |  \u001b[32m  0.008798\u001b[0m  |     1.193797  |             |  9.2s"
       ]
      },
      {
       "output_type": "stream",
       "stream": "stdout",
       "text": [
        "\n",
        "   687  |    0.010465  |  \u001b[32m  0.008795\u001b[0m  |     1.189896  |             |  9.2s"
       ]
      },
      {
       "output_type": "stream",
       "stream": "stdout",
       "text": [
        "\n",
        "   688  |    0.010533  |  \u001b[32m  0.008777\u001b[0m  |     1.200061  |             |  9.2s"
       ]
      },
      {
       "output_type": "stream",
       "stream": "stdout",
       "text": [
        "\n",
        "   689  |    0.010489  |    0.008797  |     1.192350  |             |  9.2s"
       ]
      },
      {
       "output_type": "stream",
       "stream": "stdout",
       "text": [
        "\n",
        "   690  |  \u001b[94m  0.010398\u001b[0m  |    0.008820  |     1.178977  |             |  9.2s"
       ]
      },
      {
       "output_type": "stream",
       "stream": "stdout",
       "text": [
        "\n",
        "   691  |  \u001b[94m  0.010395\u001b[0m  |    0.008790  |     1.182609  |             |  9.2s"
       ]
      },
      {
       "output_type": "stream",
       "stream": "stdout",
       "text": [
        "\n",
        "   692  |    0.010451  |  \u001b[32m  0.008766\u001b[0m  |     1.192250  |             |  9.2s"
       ]
      },
      {
       "output_type": "stream",
       "stream": "stdout",
       "text": [
        "\n",
        "   693  |    0.010449  |    0.008788  |     1.189021  |             |  9.2s"
       ]
      },
      {
       "output_type": "stream",
       "stream": "stdout",
       "text": [
        "\n",
        "   694  |  \u001b[94m  0.010351\u001b[0m  |  \u001b[32m  0.008727\u001b[0m  |     1.186093  |             |  9.2s"
       ]
      },
      {
       "output_type": "stream",
       "stream": "stdout",
       "text": [
        "\n",
        "   695  |  \u001b[94m  0.010337\u001b[0m  |    0.008762  |     1.179814  |             |  9.2s"
       ]
      },
      {
       "output_type": "stream",
       "stream": "stdout",
       "text": [
        "\n",
        "   696  |    0.010439  |    0.008780  |     1.189033  |             |  9.2s"
       ]
      },
      {
       "output_type": "stream",
       "stream": "stdout",
       "text": [
        "\n",
        "   697  |    0.010401  |    0.008759  |     1.187442  |             |  9.2s"
       ]
      },
      {
       "output_type": "stream",
       "stream": "stdout",
       "text": [
        "\n",
        "   698  |    0.010378  |  \u001b[32m  0.008703\u001b[0m  |     1.192429  |             |  9.2s"
       ]
      },
      {
       "output_type": "stream",
       "stream": "stdout",
       "text": [
        "\n",
        "   699  |    0.010379  |  \u001b[32m  0.008687\u001b[0m  |     1.194748  |             |  9.2s"
       ]
      },
      {
       "output_type": "stream",
       "stream": "stdout",
       "text": [
        "\n",
        "   700  |    0.010407  |    0.008720  |     1.193415  |             |  9.2s"
       ]
      },
      {
       "output_type": "stream",
       "stream": "stdout",
       "text": [
        "\n",
        "   701  |    0.010361  |  \u001b[32m  0.008665\u001b[0m  |     1.195782  |             |  9.2s"
       ]
      },
      {
       "output_type": "stream",
       "stream": "stdout",
       "text": [
        "\n",
        "   702  |    0.010360  |  \u001b[32m  0.008660\u001b[0m  |     1.196274  |             |  9.2s"
       ]
      },
      {
       "output_type": "stream",
       "stream": "stdout",
       "text": [
        "\n",
        "   703  |    0.010369  |    0.008696  |     1.192447  |             |  9.2s"
       ]
      },
      {
       "output_type": "stream",
       "stream": "stdout",
       "text": [
        "\n",
        "   704  |  \u001b[94m  0.010335\u001b[0m  |    0.008713  |     1.186178  |             |  9.2s"
       ]
      },
      {
       "output_type": "stream",
       "stream": "stdout",
       "text": [
        "\n",
        "   705  |  \u001b[94m  0.010310\u001b[0m  |  \u001b[32m  0.008636\u001b[0m  |     1.193906  |             |  9.2s"
       ]
      },
      {
       "output_type": "stream",
       "stream": "stdout",
       "text": [
        "\n",
        "   706  |  \u001b[94m  0.010280\u001b[0m  |    0.008658  |     1.187349  |             |  9.2s"
       ]
      },
      {
       "output_type": "stream",
       "stream": "stdout",
       "text": [
        "\n",
        "   707  |  \u001b[94m  0.010276\u001b[0m  |    0.008680  |     1.183897  |             |  9.2s"
       ]
      },
      {
       "output_type": "stream",
       "stream": "stdout",
       "text": [
        "\n",
        "   708  |    0.010277  |    0.008642  |     1.189222  |             |  9.2s"
       ]
      },
      {
       "output_type": "stream",
       "stream": "stdout",
       "text": [
        "\n",
        "   709  |    0.010278  |    0.008653  |     1.187704  |             |  9.2s"
       ]
      },
      {
       "output_type": "stream",
       "stream": "stdout",
       "text": [
        "\n",
        "   710  |  \u001b[94m  0.010255\u001b[0m  |    0.008637  |     1.187367  |             |  9.2s"
       ]
      },
      {
       "output_type": "stream",
       "stream": "stdout",
       "text": [
        "\n",
        "   711  |  \u001b[94m  0.010252\u001b[0m  |    0.008645  |     1.185832  |             |  9.2s"
       ]
      },
      {
       "output_type": "stream",
       "stream": "stdout",
       "text": [
        "\n",
        "   712  |    0.010304  |  \u001b[32m  0.008631\u001b[0m  |     1.193831  |             |  9.2s"
       ]
      },
      {
       "output_type": "stream",
       "stream": "stdout",
       "text": [
        "\n",
        "   713  |    0.010280  |  \u001b[32m  0.008600\u001b[0m  |     1.195262  |             |  9.2s"
       ]
      },
      {
       "output_type": "stream",
       "stream": "stdout",
       "text": [
        "\n",
        "   714  |  \u001b[94m  0.010142\u001b[0m  |    0.008664  |     1.170632  |             |  9.2s"
       ]
      },
      {
       "output_type": "stream",
       "stream": "stdout",
       "text": [
        "\n",
        "   715  |    0.010209  |    0.008659  |     1.178911  |             |  9.2s"
       ]
      },
      {
       "output_type": "stream",
       "stream": "stdout",
       "text": [
        "\n",
        "   716  |    0.010211  |    0.008627  |     1.183505  |             |  9.2s"
       ]
      },
      {
       "output_type": "stream",
       "stream": "stdout",
       "text": [
        "\n",
        "   717  |    0.010230  |    0.008661  |     1.181132  |             |  9.2s"
       ]
      },
      {
       "output_type": "stream",
       "stream": "stdout",
       "text": [
        "\n",
        "   718  |    0.010158  |  \u001b[32m  0.008597\u001b[0m  |     1.181476  |             |  9.2s"
       ]
      },
      {
       "output_type": "stream",
       "stream": "stdout",
       "text": [
        "\n",
        "   719  |    0.010159  |    0.008607  |     1.180236  |             |  9.2s"
       ]
      },
      {
       "output_type": "stream",
       "stream": "stdout",
       "text": [
        "\n",
        "   720  |    0.010211  |  \u001b[32m  0.008591\u001b[0m  |     1.188647  |             |  9.2s"
       ]
      },
      {
       "output_type": "stream",
       "stream": "stdout",
       "text": [
        "\n",
        "   721  |    0.010160  |  \u001b[32m  0.008524\u001b[0m  |     1.191893  |             |  9.2s"
       ]
      },
      {
       "output_type": "stream",
       "stream": "stdout",
       "text": [
        "\n",
        "   722  |  \u001b[94m  0.010133\u001b[0m  |    0.008539  |     1.186669  |             |  9.2s"
       ]
      },
      {
       "output_type": "stream",
       "stream": "stdout",
       "text": [
        "\n",
        "   723  |  \u001b[94m  0.010110\u001b[0m  |    0.008552  |     1.182056  |             |  9.2s"
       ]
      },
      {
       "output_type": "stream",
       "stream": "stdout",
       "text": [
        "\n",
        "   724  |    0.010183  |    0.008525  |     1.194534  |             |  9.2s"
       ]
      },
      {
       "output_type": "stream",
       "stream": "stdout",
       "text": [
        "\n",
        "   725  |    0.010144  |    0.008531  |     1.189051  |             |  9.2s"
       ]
      },
      {
       "output_type": "stream",
       "stream": "stdout",
       "text": [
        "\n",
        "   726  |    0.010110  |    0.008532  |     1.184974  |             |  9.2s"
       ]
      },
      {
       "output_type": "stream",
       "stream": "stdout",
       "text": [
        "\n",
        "   727  |    0.010176  |  \u001b[32m  0.008514\u001b[0m  |     1.195132  |             |  9.2s"
       ]
      },
      {
       "output_type": "stream",
       "stream": "stdout",
       "text": [
        "\n",
        "   728  |    0.010144  |  \u001b[32m  0.008479\u001b[0m  |     1.196379  |             |  9.2s"
       ]
      },
      {
       "output_type": "stream",
       "stream": "stdout",
       "text": [
        "\n",
        "   729  |    0.010120  |    0.008511  |     1.189049  |             |  9.2s"
       ]
      },
      {
       "output_type": "stream",
       "stream": "stdout",
       "text": [
        "\n",
        "   730  |    0.010120  |    0.008559  |     1.182267  |             |  9.2s"
       ]
      },
      {
       "output_type": "stream",
       "stream": "stdout",
       "text": [
        "\n",
        "   731  |  \u001b[94m  0.010059\u001b[0m  |    0.008501  |     1.183242  |             |  9.2s"
       ]
      },
      {
       "output_type": "stream",
       "stream": "stdout",
       "text": [
        "\n",
        "   732  |    0.010085  |    0.008484  |     1.188684  |             |  9.2s"
       ]
      },
      {
       "output_type": "stream",
       "stream": "stdout",
       "text": [
        "\n",
        "   733  |  \u001b[94m  0.010053\u001b[0m  |  \u001b[32m  0.008471\u001b[0m  |     1.186674  |             |  9.2s"
       ]
      },
      {
       "output_type": "stream",
       "stream": "stdout",
       "text": [
        "\n",
        "   734  |  \u001b[94m  0.010031\u001b[0m  |  \u001b[32m  0.008469\u001b[0m  |     1.184426  |             |  9.2s"
       ]
      },
      {
       "output_type": "stream",
       "stream": "stdout",
       "text": [
        "\n",
        "   735  |    0.010044  |    0.008506  |     1.180760  |             |  9.2s"
       ]
      },
      {
       "output_type": "stream",
       "stream": "stdout",
       "text": [
        "\n",
        "   736  |    0.010070  |    0.008474  |     1.188361  |             |  9.2s"
       ]
      },
      {
       "output_type": "stream",
       "stream": "stdout",
       "text": [
        "\n",
        "   737  |    0.010089  |    0.008516  |     1.184740  |             |  9.2s"
       ]
      },
      {
       "output_type": "stream",
       "stream": "stdout",
       "text": [
        "\n",
        "   738  |  \u001b[94m  0.009992\u001b[0m  |  \u001b[32m  0.008447\u001b[0m  |     1.182876  |             |  9.2s"
       ]
      },
      {
       "output_type": "stream",
       "stream": "stdout",
       "text": [
        "\n",
        "   739  |    0.010055  |  \u001b[32m  0.008412\u001b[0m  |     1.195390  |             |  9.2s"
       ]
      },
      {
       "output_type": "stream",
       "stream": "stdout",
       "text": [
        "\n",
        "   740  |    0.010042  |    0.008441  |     1.189617  |             |  9.2s"
       ]
      },
      {
       "output_type": "stream",
       "stream": "stdout",
       "text": [
        "\n",
        "   741  |  \u001b[94m  0.009964\u001b[0m  |    0.008441  |     1.180450  |             |  9.2s"
       ]
      },
      {
       "output_type": "stream",
       "stream": "stdout",
       "text": [
        "\n",
        "   742  |    0.010030  |  \u001b[32m  0.008371\u001b[0m  |     1.198077  |             |  9.2s"
       ]
      },
      {
       "output_type": "stream",
       "stream": "stdout",
       "text": [
        "\n",
        "   743  |  \u001b[94m  0.009952\u001b[0m  |    0.008427  |     1.181012  |             |  9.2s"
       ]
      },
      {
       "output_type": "stream",
       "stream": "stdout",
       "text": [
        "\n",
        "   744  |    0.010000  |    0.008431  |     1.186098  |             |  9.2s"
       ]
      },
      {
       "output_type": "stream",
       "stream": "stdout",
       "text": [
        "\n",
        "   745  |    0.009958  |    0.008381  |     1.188169  |             |  9.2s"
       ]
      },
      {
       "output_type": "stream",
       "stream": "stdout",
       "text": [
        "\n",
        "   746  |  \u001b[94m  0.009931\u001b[0m  |    0.008391  |     1.183472  |             |  9.2s"
       ]
      },
      {
       "output_type": "stream",
       "stream": "stdout",
       "text": [
        "\n",
        "   747  |    0.009966  |  \u001b[32m  0.008362\u001b[0m  |     1.191819  |             |  9.2s"
       ]
      },
      {
       "output_type": "stream",
       "stream": "stdout",
       "text": [
        "\n",
        "   748  |  \u001b[94m  0.009853\u001b[0m  |    0.008393  |     1.173990  |             |  9.2s"
       ]
      },
      {
       "output_type": "stream",
       "stream": "stdout",
       "text": [
        "\n",
        "   749  |    0.009928  |    0.008444  |     1.175735  |             |  9.2s"
       ]
      },
      {
       "output_type": "stream",
       "stream": "stdout",
       "text": [
        "\n",
        "   750  |    0.009912  |  \u001b[32m  0.008344\u001b[0m  |     1.188008  |             |  9.2s"
       ]
      },
      {
       "output_type": "stream",
       "stream": "stdout",
       "text": [
        "\n",
        "   751  |    0.009913  |    0.008365  |     1.185046  |             |  9.2s"
       ]
      },
      {
       "output_type": "stream",
       "stream": "stdout",
       "text": [
        "\n",
        "   752  |    0.009960  |    0.008364  |     1.190712  |             |  9.2s"
       ]
      },
      {
       "output_type": "stream",
       "stream": "stdout",
       "text": [
        "\n",
        "   753  |  \u001b[94m  0.009804\u001b[0m  |  \u001b[32m  0.008342\u001b[0m  |     1.175323  |             |  9.2s"
       ]
      },
      {
       "output_type": "stream",
       "stream": "stdout",
       "text": [
        "\n",
        "   754  |    0.009935  |  \u001b[32m  0.008333\u001b[0m  |     1.192264  |             |  9.2s"
       ]
      },
      {
       "output_type": "stream",
       "stream": "stdout",
       "text": [
        "\n",
        "   755  |    0.009874  |    0.008365  |     1.180392  |             |  9.2s"
       ]
      },
      {
       "output_type": "stream",
       "stream": "stdout",
       "text": [
        "\n",
        "   756  |    0.009810  |    0.008354  |     1.174299  |             |  9.2s"
       ]
      },
      {
       "output_type": "stream",
       "stream": "stdout",
       "text": [
        "\n",
        "   757  |    0.009813  |  \u001b[32m  0.008330\u001b[0m  |     1.178002  |             |  9.2s"
       ]
      },
      {
       "output_type": "stream",
       "stream": "stdout",
       "text": [
        "\n",
        "   758  |    0.009855  |  \u001b[32m  0.008321\u001b[0m  |     1.184288  |             |  9.2s"
       ]
      },
      {
       "output_type": "stream",
       "stream": "stdout",
       "text": [
        "\n",
        "   759  |    0.009809  |  \u001b[32m  0.008313\u001b[0m  |     1.179974  |             |  9.2s"
       ]
      },
      {
       "output_type": "stream",
       "stream": "stdout",
       "text": [
        "\n",
        "   760  |  \u001b[94m  0.009761\u001b[0m  |    0.008338  |     1.170657  |             |  9.2s"
       ]
      },
      {
       "output_type": "stream",
       "stream": "stdout",
       "text": [
        "\n",
        "   761  |    0.009808  |  \u001b[32m  0.008280\u001b[0m  |     1.184592  |             |  9.2s"
       ]
      },
      {
       "output_type": "stream",
       "stream": "stdout",
       "text": [
        "\n",
        "   762  |    0.009810  |    0.008326  |     1.178141  |             |  9.2s"
       ]
      },
      {
       "output_type": "stream",
       "stream": "stdout",
       "text": [
        "\n",
        "   763  |    0.009814  |  \u001b[32m  0.008248\u001b[0m  |     1.189846  |             |  9.2s"
       ]
      },
      {
       "output_type": "stream",
       "stream": "stdout",
       "text": [
        "\n",
        "   764  |    0.009825  |    0.008261  |     1.189299  |             |  9.2s"
       ]
      },
      {
       "output_type": "stream",
       "stream": "stdout",
       "text": [
        "\n",
        "   765  |    0.009826  |    0.008259  |     1.189685  |             |  9.2s"
       ]
      },
      {
       "output_type": "stream",
       "stream": "stdout",
       "text": [
        "\n",
        "   766  |  \u001b[94m  0.009729\u001b[0m  |    0.008306  |     1.171275  |             |  9.2s"
       ]
      },
      {
       "output_type": "stream",
       "stream": "stdout",
       "text": [
        "\n",
        "   767  |    0.009759  |  \u001b[32m  0.008213\u001b[0m  |     1.188236  |             |  9.2s"
       ]
      },
      {
       "output_type": "stream",
       "stream": "stdout",
       "text": [
        "\n",
        "   768  |    0.009750  |    0.008287  |     1.176572  |             |  9.2s"
       ]
      },
      {
       "output_type": "stream",
       "stream": "stdout",
       "text": [
        "\n",
        "   769  |    0.009733  |    0.008255  |     1.179153  |             |  9.2s"
       ]
      },
      {
       "output_type": "stream",
       "stream": "stdout",
       "text": [
        "\n",
        "   770  |  \u001b[94m  0.009727\u001b[0m  |    0.008247  |     1.179334  |             |  9.2s"
       ]
      },
      {
       "output_type": "stream",
       "stream": "stdout",
       "text": [
        "\n",
        "   771  |    0.009770  |    0.008214  |     1.189417  |             |  9.2s"
       ]
      },
      {
       "output_type": "stream",
       "stream": "stdout",
       "text": [
        "\n",
        "   772  |  \u001b[94m  0.009699\u001b[0m  |    0.008220  |     1.179870  |             |  9.2s"
       ]
      },
      {
       "output_type": "stream",
       "stream": "stdout",
       "text": [
        "\n",
        "   773  |    0.009756  |    0.008234  |     1.184836  |             |  9.2s"
       ]
      },
      {
       "output_type": "stream",
       "stream": "stdout",
       "text": [
        "\n",
        "   774  |    0.009707  |    0.008219  |     1.181093  |             |  9.2s"
       ]
      },
      {
       "output_type": "stream",
       "stream": "stdout",
       "text": [
        "\n",
        "   775  |  \u001b[94m  0.009696\u001b[0m  |  \u001b[32m  0.008198\u001b[0m  |     1.182774  |             |  9.2s"
       ]
      },
      {
       "output_type": "stream",
       "stream": "stdout",
       "text": [
        "\n",
        "   776  |  \u001b[94m  0.009684\u001b[0m  |  \u001b[32m  0.008178\u001b[0m  |     1.184169  |             |  9.2s"
       ]
      },
      {
       "output_type": "stream",
       "stream": "stdout",
       "text": [
        "\n",
        "   777  |    0.009688  |    0.008205  |     1.180831  |             |  9.2s"
       ]
      },
      {
       "output_type": "stream",
       "stream": "stdout",
       "text": [
        "\n",
        "   778  |  \u001b[94m  0.009631\u001b[0m  |    0.008179  |     1.177552  |             |  9.2s"
       ]
      },
      {
       "output_type": "stream",
       "stream": "stdout",
       "text": [
        "\n",
        "   779  |    0.009661  |  \u001b[32m  0.008176\u001b[0m  |     1.181705  |             |  9.2s"
       ]
      },
      {
       "output_type": "stream",
       "stream": "stdout",
       "text": [
        "\n",
        "   780  |    0.009638  |    0.008179  |     1.178293  |             |  9.2s"
       ]
      },
      {
       "output_type": "stream",
       "stream": "stdout",
       "text": [
        "\n",
        "   781  |    0.009666  |    0.008184  |     1.180967  |             |  9.2s"
       ]
      },
      {
       "output_type": "stream",
       "stream": "stdout",
       "text": [
        "\n",
        "   782  |    0.009674  |  \u001b[32m  0.008172\u001b[0m  |     1.183788  |             |  9.2s"
       ]
      },
      {
       "output_type": "stream",
       "stream": "stdout",
       "text": [
        "\n",
        "   783  |  \u001b[94m  0.009614\u001b[0m  |  \u001b[32m  0.008132\u001b[0m  |     1.182229  |             |  9.2s"
       ]
      },
      {
       "output_type": "stream",
       "stream": "stdout",
       "text": [
        "\n",
        "   784  |    0.009619  |    0.008162  |     1.178401  |             |  9.2s"
       ]
      },
      {
       "output_type": "stream",
       "stream": "stdout",
       "text": [
        "\n",
        "   785  |    0.009657  |    0.008158  |     1.183676  |             |  9.2s"
       ]
      },
      {
       "output_type": "stream",
       "stream": "stdout",
       "text": [
        "\n",
        "   786  |  \u001b[94m  0.009599\u001b[0m  |    0.008172  |     1.174535  |             |  9.2s"
       ]
      },
      {
       "output_type": "stream",
       "stream": "stdout",
       "text": [
        "\n",
        "   787  |  \u001b[94m  0.009597\u001b[0m  |  \u001b[32m  0.008119\u001b[0m  |     1.182059  |             |  9.2s"
       ]
      },
      {
       "output_type": "stream",
       "stream": "stdout",
       "text": [
        "\n",
        "   788  |  \u001b[94m  0.009575\u001b[0m  |    0.008179  |     1.170658  |             |  9.2s"
       ]
      },
      {
       "output_type": "stream",
       "stream": "stdout",
       "text": [
        "\n",
        "   789  |    0.009590  |  \u001b[32m  0.008117\u001b[0m  |     1.181581  |             |  9.2s"
       ]
      },
      {
       "output_type": "stream",
       "stream": "stdout",
       "text": [
        "\n",
        "   790  |  \u001b[94m  0.009564\u001b[0m  |    0.008117  |     1.178264  |             |  9.2s"
       ]
      },
      {
       "output_type": "stream",
       "stream": "stdout",
       "text": [
        "\n",
        "   791  |    0.009585  |  \u001b[32m  0.008115\u001b[0m  |     1.181139  |             |  9.2s"
       ]
      },
      {
       "output_type": "stream",
       "stream": "stdout",
       "text": [
        "\n",
        "   792  |    0.009564  |    0.008126  |     1.176987  |             |  9.2s"
       ]
      },
      {
       "output_type": "stream",
       "stream": "stdout",
       "text": [
        "\n",
        "   793  |  \u001b[94m  0.009558\u001b[0m  |  \u001b[32m  0.008092\u001b[0m  |     1.181188  |             |  9.2s"
       ]
      },
      {
       "output_type": "stream",
       "stream": "stdout",
       "text": [
        "\n",
        "   794  |  \u001b[94m  0.009467\u001b[0m  |    0.008130  |     1.164510  |             |  9.2s"
       ]
      },
      {
       "output_type": "stream",
       "stream": "stdout",
       "text": [
        "\n",
        "   795  |    0.009491  |    0.008106  |     1.170789  |             |  9.2s"
       ]
      },
      {
       "output_type": "stream",
       "stream": "stdout",
       "text": [
        "\n",
        "   796  |    0.009537  |  \u001b[32m  0.008089\u001b[0m  |     1.179026  |             |  9.2s"
       ]
      },
      {
       "output_type": "stream",
       "stream": "stdout",
       "text": [
        "\n",
        "   797  |  \u001b[94m  0.009460\u001b[0m  |  \u001b[32m  0.008065\u001b[0m  |     1.173009  |             |  9.2s"
       ]
      },
      {
       "output_type": "stream",
       "stream": "stdout",
       "text": [
        "\n",
        "   798  |    0.009543  |    0.008090  |     1.179570  |             |  9.2s"
       ]
      },
      {
       "output_type": "stream",
       "stream": "stdout",
       "text": [
        "\n",
        "   799  |    0.009490  |  \u001b[32m  0.008057\u001b[0m  |     1.177855  |             |  9.2s"
       ]
      },
      {
       "output_type": "stream",
       "stream": "stdout",
       "text": [
        "\n",
        "   800  |    0.009463  |  \u001b[32m  0.008055\u001b[0m  |     1.174832  |             |  9.2s"
       ]
      },
      {
       "output_type": "stream",
       "stream": "stdout",
       "text": [
        "\n",
        "   801  |  \u001b[94m  0.009457\u001b[0m  |  \u001b[32m  0.008022\u001b[0m  |     1.178959  |             |  9.2s"
       ]
      },
      {
       "output_type": "stream",
       "stream": "stdout",
       "text": [
        "\n",
        "   802  |    0.009465  |  \u001b[32m  0.008018\u001b[0m  |     1.180584  |             |  9.2s"
       ]
      },
      {
       "output_type": "stream",
       "stream": "stdout",
       "text": [
        "\n",
        "   803  |  \u001b[94m  0.009432\u001b[0m  |    0.008025  |     1.175316  |             |  9.2s"
       ]
      },
      {
       "output_type": "stream",
       "stream": "stdout",
       "text": [
        "\n",
        "   804  |    0.009463  |    0.008060  |     1.174106  |             |  9.2s"
       ]
      },
      {
       "output_type": "stream",
       "stream": "stdout",
       "text": [
        "\n",
        "   805  |    0.009463  |  \u001b[32m  0.007983\u001b[0m  |     1.185385  |             |  9.2s"
       ]
      },
      {
       "output_type": "stream",
       "stream": "stdout",
       "text": [
        "\n",
        "   806  |  \u001b[94m  0.009411\u001b[0m  |    0.008027  |     1.172475  |             |  9.2s"
       ]
      },
      {
       "output_type": "stream",
       "stream": "stdout",
       "text": [
        "\n",
        "   807  |    0.009450  |    0.008032  |     1.176494  |             |  9.2s"
       ]
      },
      {
       "output_type": "stream",
       "stream": "stdout",
       "text": [
        "\n",
        "   808  |    0.009498  |    0.008028  |     1.183104  |             |  9.2s"
       ]
      },
      {
       "output_type": "stream",
       "stream": "stdout",
       "text": [
        "\n",
        "   809  |  \u001b[94m  0.009402\u001b[0m  |    0.008013  |     1.173424  |             |  9.2s"
       ]
      },
      {
       "output_type": "stream",
       "stream": "stdout",
       "text": [
        "\n",
        "   810  |    0.009409  |  \u001b[32m  0.007972\u001b[0m  |     1.180241  |             |  9.2s"
       ]
      },
      {
       "output_type": "stream",
       "stream": "stdout",
       "text": [
        "\n",
        "   811  |    0.009413  |    0.007989  |     1.178234  |             |  9.2s"
       ]
      },
      {
       "output_type": "stream",
       "stream": "stdout",
       "text": [
        "\n",
        "   812  |  \u001b[94m  0.009381\u001b[0m  |    0.008001  |     1.172489  |             |  9.2s"
       ]
      },
      {
       "output_type": "stream",
       "stream": "stdout",
       "text": [
        "\n",
        "   813  |  \u001b[94m  0.009345\u001b[0m  |    0.008006  |     1.167292  |             |  9.2s"
       ]
      },
      {
       "output_type": "stream",
       "stream": "stdout",
       "text": [
        "\n",
        "   814  |    0.009383  |  \u001b[32m  0.007969\u001b[0m  |     1.177508  |             |  9.2s"
       ]
      },
      {
       "output_type": "stream",
       "stream": "stdout",
       "text": [
        "\n",
        "   815  |    0.009354  |    0.008012  |     1.167470  |             |  9.2s"
       ]
      },
      {
       "output_type": "stream",
       "stream": "stdout",
       "text": [
        "\n",
        "   816  |  \u001b[94m  0.009330\u001b[0m  |    0.008011  |     1.164685  |             |  9.2s"
       ]
      },
      {
       "output_type": "stream",
       "stream": "stdout",
       "text": [
        "\n",
        "   817  |    0.009358  |    0.008000  |     1.169812  |             |  9.2s"
       ]
      },
      {
       "output_type": "stream",
       "stream": "stdout",
       "text": [
        "\n",
        "   818  |    0.009402  |    0.007985  |     1.177427  |             |  9.2s"
       ]
      },
      {
       "output_type": "stream",
       "stream": "stdout",
       "text": [
        "\n",
        "   819  |    0.009334  |  \u001b[32m  0.007945\u001b[0m  |     1.174788  |             |  9.2s"
       ]
      },
      {
       "output_type": "stream",
       "stream": "stdout",
       "text": [
        "\n",
        "   820  |    0.009359  |  \u001b[32m  0.007932\u001b[0m  |     1.179847  |             |  9.2s"
       ]
      },
      {
       "output_type": "stream",
       "stream": "stdout",
       "text": [
        "\n",
        "   821  |  \u001b[94m  0.009308\u001b[0m  |    0.007945  |     1.171626  |             |  9.2s"
       ]
      },
      {
       "output_type": "stream",
       "stream": "stdout",
       "text": [
        "\n",
        "   822  |    0.009332  |    0.007954  |     1.173342  |             |  9.2s"
       ]
      },
      {
       "output_type": "stream",
       "stream": "stdout",
       "text": [
        "\n",
        "   823  |    0.009312  |  \u001b[32m  0.007919\u001b[0m  |     1.175852  |             |  9.2s"
       ]
      },
      {
       "output_type": "stream",
       "stream": "stdout",
       "text": [
        "\n",
        "   824  |    0.009322  |    0.007932  |     1.175255  |             |  9.2s"
       ]
      },
      {
       "output_type": "stream",
       "stream": "stdout",
       "text": [
        "\n",
        "   825  |  \u001b[94m  0.009279\u001b[0m  |    0.007936  |     1.169190  |             |  9.2s"
       ]
      },
      {
       "output_type": "stream",
       "stream": "stdout",
       "text": [
        "\n",
        "   826  |  \u001b[94m  0.009262\u001b[0m  |  \u001b[32m  0.007913\u001b[0m  |     1.170476  |             |  9.2s"
       ]
      },
      {
       "output_type": "stream",
       "stream": "stdout",
       "text": [
        "\n",
        "   827  |  \u001b[94m  0.009240\u001b[0m  |    0.007934  |     1.164583  |             |  9.2s"
       ]
      },
      {
       "output_type": "stream",
       "stream": "stdout",
       "text": [
        "\n",
        "   828  |    0.009265  |  \u001b[32m  0.007908\u001b[0m  |     1.171586  |             |  9.2s"
       ]
      },
      {
       "output_type": "stream",
       "stream": "stdout",
       "text": [
        "\n",
        "   829  |    0.009334  |  \u001b[32m  0.007868\u001b[0m  |     1.186274  |             |  9.2s"
       ]
      },
      {
       "output_type": "stream",
       "stream": "stdout",
       "text": [
        "\n",
        "   830  |  \u001b[94m  0.009176\u001b[0m  |    0.007955  |     1.153442  |             |  9.2s"
       ]
      },
      {
       "output_type": "stream",
       "stream": "stdout",
       "text": [
        "\n",
        "   831  |    0.009259  |    0.007874  |     1.175839  |             |  9.2s"
       ]
      },
      {
       "output_type": "stream",
       "stream": "stdout",
       "text": [
        "\n",
        "   832  |    0.009194  |    0.007894  |     1.164725  |             |  9.2s"
       ]
      },
      {
       "output_type": "stream",
       "stream": "stdout",
       "text": [
        "\n",
        "   833  |    0.009248  |    0.007897  |     1.171011  |             |  9.2s"
       ]
      },
      {
       "output_type": "stream",
       "stream": "stdout",
       "text": [
        "\n",
        "   834  |    0.009209  |    0.007893  |     1.166797  |             |  9.2s"
       ]
      },
      {
       "output_type": "stream",
       "stream": "stdout",
       "text": [
        "\n",
        "   835  |    0.009205  |    0.007870  |     1.169604  |             |  9.2s"
       ]
      },
      {
       "output_type": "stream",
       "stream": "stdout",
       "text": [
        "\n",
        "   836  |    0.009191  |  \u001b[32m  0.007863\u001b[0m  |     1.168827  |             |  9.2s"
       ]
      },
      {
       "output_type": "stream",
       "stream": "stdout",
       "text": [
        "\n",
        "   837  |    0.009247  |  \u001b[32m  0.007849\u001b[0m  |     1.178165  |             |  9.2s"
       ]
      },
      {
       "output_type": "stream",
       "stream": "stdout",
       "text": [
        "\n",
        "   838  |  \u001b[94m  0.009165\u001b[0m  |    0.007862  |     1.165756  |             |  9.2s"
       ]
      },
      {
       "output_type": "stream",
       "stream": "stdout",
       "text": [
        "\n",
        "   839  |  \u001b[94m  0.009132\u001b[0m  |    0.007859  |     1.162004  |             |  9.2s"
       ]
      },
      {
       "output_type": "stream",
       "stream": "stdout",
       "text": [
        "\n",
        "   840  |    0.009195  |  \u001b[32m  0.007800\u001b[0m  |     1.178808  |             |  9.2s"
       ]
      },
      {
       "output_type": "stream",
       "stream": "stdout",
       "text": [
        "\n",
        "   841  |  \u001b[94m  0.009111\u001b[0m  |    0.007872  |     1.157432  |             |  9.2s"
       ]
      },
      {
       "output_type": "stream",
       "stream": "stdout",
       "text": [
        "\n",
        "   842  |    0.009184  |    0.007858  |     1.168833  |             |  9.2s"
       ]
      },
      {
       "output_type": "stream",
       "stream": "stdout",
       "text": [
        "\n",
        "   843  |    0.009140  |    0.007822  |     1.168390  |             |  9.2s"
       ]
      },
      {
       "output_type": "stream",
       "stream": "stdout",
       "text": [
        "\n",
        "   844  |    0.009170  |  \u001b[32m  0.007794\u001b[0m  |     1.176580  |             |  9.2s"
       ]
      },
      {
       "output_type": "stream",
       "stream": "stdout",
       "text": [
        "\n",
        "   845  |  \u001b[94m  0.009100\u001b[0m  |    0.007849  |     1.159479  |             |  9.2s"
       ]
      },
      {
       "output_type": "stream",
       "stream": "stdout",
       "text": [
        "\n",
        "   846  |    0.009159  |    0.007835  |     1.169007  |             |  9.2s"
       ]
      },
      {
       "output_type": "stream",
       "stream": "stdout",
       "text": [
        "\n",
        "   847  |    0.009104  |  \u001b[32m  0.007789\u001b[0m  |     1.168913  |             |  9.2s"
       ]
      },
      {
       "output_type": "stream",
       "stream": "stdout",
       "text": [
        "\n",
        "   848  |  \u001b[94m  0.009089\u001b[0m  |    0.007826  |     1.161335  |             |  9.2s"
       ]
      },
      {
       "output_type": "stream",
       "stream": "stdout",
       "text": [
        "\n",
        "   849  |    0.009102  |  \u001b[32m  0.007776\u001b[0m  |     1.170589  |             |  9.2s"
       ]
      },
      {
       "output_type": "stream",
       "stream": "stdout",
       "text": [
        "\n",
        "   850  |  \u001b[94m  0.009051\u001b[0m  |    0.007791  |     1.161699  |             |  9.2s"
       ]
      },
      {
       "output_type": "stream",
       "stream": "stdout",
       "text": [
        "\n",
        "   851  |    0.009071  |    0.007802  |     1.162656  |             |  9.2s"
       ]
      },
      {
       "output_type": "stream",
       "stream": "stdout",
       "text": [
        "\n",
        "   852  |    0.009076  |    0.007782  |     1.166273  |             |  9.2s"
       ]
      },
      {
       "output_type": "stream",
       "stream": "stdout",
       "text": [
        "\n",
        "   853  |    0.009073  |    0.007798  |     1.163413  |             |  9.2s"
       ]
      },
      {
       "output_type": "stream",
       "stream": "stdout",
       "text": [
        "\n",
        "   854  |    0.009070  |  \u001b[32m  0.007747\u001b[0m  |     1.170743  |             |  9.2s"
       ]
      },
      {
       "output_type": "stream",
       "stream": "stdout",
       "text": [
        "\n",
        "   855  |    0.009072  |    0.007774  |     1.167054  |             |  9.2s"
       ]
      },
      {
       "output_type": "stream",
       "stream": "stdout",
       "text": [
        "\n",
        "   856  |    0.009095  |    0.007801  |     1.165947  |             |  9.2s"
       ]
      },
      {
       "output_type": "stream",
       "stream": "stdout",
       "text": [
        "\n",
        "   857  |  \u001b[94m  0.009030\u001b[0m  |    0.007747  |     1.165570  |             |  9.2s"
       ]
      },
      {
       "output_type": "stream",
       "stream": "stdout",
       "text": [
        "\n",
        "   858  |    0.009106  |  \u001b[32m  0.007728\u001b[0m  |     1.178228  |             |  9.2s"
       ]
      },
      {
       "output_type": "stream",
       "stream": "stdout",
       "text": [
        "\n",
        "   859  |    0.009041  |    0.007754  |     1.166065  |             |  9.2s"
       ]
      },
      {
       "output_type": "stream",
       "stream": "stdout",
       "text": [
        "\n",
        "   860  |    0.009045  |  \u001b[32m  0.007712\u001b[0m  |     1.172774  |             |  9.2s"
       ]
      },
      {
       "output_type": "stream",
       "stream": "stdout",
       "text": [
        "\n",
        "   861  |  \u001b[94m  0.008975\u001b[0m  |    0.007754  |     1.157551  |             |  9.2s"
       ]
      },
      {
       "output_type": "stream",
       "stream": "stdout",
       "text": [
        "\n",
        "   862  |    0.009065  |    0.007744  |     1.170630  |             |  9.2s"
       ]
      },
      {
       "output_type": "stream",
       "stream": "stdout",
       "text": [
        "\n",
        "   863  |    0.008985  |    0.007744  |     1.160234  |             |  9.2s"
       ]
      },
      {
       "output_type": "stream",
       "stream": "stdout",
       "text": [
        "\n",
        "   864  |  \u001b[94m  0.008940\u001b[0m  |    0.007738  |     1.155419  |             |  9.2s"
       ]
      },
      {
       "output_type": "stream",
       "stream": "stdout",
       "text": [
        "\n",
        "   865  |    0.008983  |    0.007727  |     1.162541  |             |  9.2s"
       ]
      },
      {
       "output_type": "stream",
       "stream": "stdout",
       "text": [
        "\n",
        "   866  |    0.009015  |    0.007727  |     1.166733  |             |  9.2s"
       ]
      },
      {
       "output_type": "stream",
       "stream": "stdout",
       "text": [
        "\n",
        "   867  |    0.008955  |    0.007725  |     1.159161  |             |  9.2s"
       ]
      },
      {
       "output_type": "stream",
       "stream": "stdout",
       "text": [
        "\n",
        "   868  |    0.008998  |  \u001b[32m  0.007703\u001b[0m  |     1.168029  |             |  9.2s"
       ]
      },
      {
       "output_type": "stream",
       "stream": "stdout",
       "text": [
        "\n",
        "   869  |  \u001b[94m  0.008896\u001b[0m  |    0.007707  |     1.154290  |             |  9.2s"
       ]
      },
      {
       "output_type": "stream",
       "stream": "stdout",
       "text": [
        "\n",
        "   870  |    0.008953  |  \u001b[32m  0.007688\u001b[0m  |     1.164652  |             |  9.2s"
       ]
      },
      {
       "output_type": "stream",
       "stream": "stdout",
       "text": [
        "\n",
        "   871  |    0.008950  |    0.007691  |     1.163687  |             |  9.2s"
       ]
      },
      {
       "output_type": "stream",
       "stream": "stdout",
       "text": [
        "\n",
        "   872  |    0.008968  |    0.007715  |     1.162391  |             |  9.2s"
       ]
      },
      {
       "output_type": "stream",
       "stream": "stdout",
       "text": [
        "\n",
        "   873  |    0.008923  |  \u001b[32m  0.007687\u001b[0m  |     1.160811  |             |  9.2s"
       ]
      },
      {
       "output_type": "stream",
       "stream": "stdout",
       "text": [
        "\n",
        "   874  |    0.008972  |  \u001b[32m  0.007668\u001b[0m  |     1.170006  |             |  9.2s"
       ]
      },
      {
       "output_type": "stream",
       "stream": "stdout",
       "text": [
        "\n",
        "   875  |  \u001b[94m  0.008892\u001b[0m  |    0.007672  |     1.159047  |             |  9.2s"
       ]
      },
      {
       "output_type": "stream",
       "stream": "stdout",
       "text": [
        "\n",
        "   876  |    0.008899  |    0.007686  |     1.157776  |             |  9.2s"
       ]
      },
      {
       "output_type": "stream",
       "stream": "stdout",
       "text": [
        "\n",
        "   877  |    0.008960  |    0.007703  |     1.163183  |             |  9.2s"
       ]
      },
      {
       "output_type": "stream",
       "stream": "stdout",
       "text": [
        "\n",
        "   878  |    0.008905  |  \u001b[32m  0.007654\u001b[0m  |     1.163492  |             |  9.2s"
       ]
      },
      {
       "output_type": "stream",
       "stream": "stdout",
       "text": [
        "\n",
        "   879  |    0.008894  |    0.007665  |     1.160383  |             |  9.2s"
       ]
      },
      {
       "output_type": "stream",
       "stream": "stdout",
       "text": [
        "\n",
        "   880  |    0.008904  |  \u001b[32m  0.007644\u001b[0m  |     1.164801  |             |  9.2s"
       ]
      },
      {
       "output_type": "stream",
       "stream": "stdout",
       "text": [
        "\n",
        "   881  |    0.008934  |  \u001b[32m  0.007644\u001b[0m  |     1.168807  |             |  9.2s"
       ]
      },
      {
       "output_type": "stream",
       "stream": "stdout",
       "text": [
        "\n",
        "   882  |  \u001b[94m  0.008829\u001b[0m  |    0.007673  |     1.150569  |             |  9.2s"
       ]
      },
      {
       "output_type": "stream",
       "stream": "stdout",
       "text": [
        "\n",
        "   883  |    0.008873  |  \u001b[32m  0.007643\u001b[0m  |     1.160995  |             |  9.2s"
       ]
      },
      {
       "output_type": "stream",
       "stream": "stdout",
       "text": [
        "\n",
        "   884  |    0.008869  |  \u001b[32m  0.007631\u001b[0m  |     1.162326  |             |  9.2s"
       ]
      },
      {
       "output_type": "stream",
       "stream": "stdout",
       "text": [
        "\n",
        "   885  |    0.008913  |    0.007649  |     1.165150  |             |  9.2s"
       ]
      },
      {
       "output_type": "stream",
       "stream": "stdout",
       "text": [
        "\n",
        "   886  |    0.008834  |    0.007650  |     1.154682  |             |  9.2s"
       ]
      },
      {
       "output_type": "stream",
       "stream": "stdout",
       "text": [
        "\n",
        "   887  |  \u001b[94m  0.008806\u001b[0m  |  \u001b[32m  0.007621\u001b[0m  |     1.155528  |             |  9.2s"
       ]
      },
      {
       "output_type": "stream",
       "stream": "stdout",
       "text": [
        "\n",
        "   888  |    0.008887  |  \u001b[32m  0.007592\u001b[0m  |     1.170631  |             |  9.2s"
       ]
      },
      {
       "output_type": "stream",
       "stream": "stdout",
       "text": [
        "\n",
        "   889  |    0.008853  |    0.007650  |     1.157315  |             |  9.2s"
       ]
      },
      {
       "output_type": "stream",
       "stream": "stdout",
       "text": [
        "\n",
        "   890  |    0.008834  |    0.007642  |     1.156015  |             |  9.2s"
       ]
      },
      {
       "output_type": "stream",
       "stream": "stdout",
       "text": [
        "\n",
        "   891  |  \u001b[94m  0.008799\u001b[0m  |    0.007624  |     1.154183  |             |  9.2s"
       ]
      },
      {
       "output_type": "stream",
       "stream": "stdout",
       "text": [
        "\n",
        "   892  |    0.008810  |  \u001b[32m  0.007586\u001b[0m  |     1.161308  |             |  9.2s"
       ]
      },
      {
       "output_type": "stream",
       "stream": "stdout",
       "text": [
        "\n",
        "   893  |    0.008819  |    0.007598  |     1.160695  |             |  9.2s"
       ]
      },
      {
       "output_type": "stream",
       "stream": "stdout",
       "text": [
        "\n",
        "   894  |  \u001b[94m  0.008760\u001b[0m  |  \u001b[32m  0.007581\u001b[0m  |     1.155484  |             |  9.2s"
       ]
      },
      {
       "output_type": "stream",
       "stream": "stdout",
       "text": [
        "\n",
        "   895  |    0.008827  |    0.007613  |     1.159502  |             |  9.2s"
       ]
      },
      {
       "output_type": "stream",
       "stream": "stdout",
       "text": [
        "\n",
        "   896  |    0.008818  |    0.007638  |     1.154495  |             |  9.2s"
       ]
      },
      {
       "output_type": "stream",
       "stream": "stdout",
       "text": [
        "\n",
        "   897  |    0.008813  |    0.007606  |     1.158760  |             |  9.2s"
       ]
      },
      {
       "output_type": "stream",
       "stream": "stdout",
       "text": [
        "\n",
        "   898  |  \u001b[94m  0.008730\u001b[0m  |  \u001b[32m  0.007576\u001b[0m  |     1.152384  |             |  9.2s"
       ]
      },
      {
       "output_type": "stream",
       "stream": "stdout",
       "text": [
        "\n",
        "   899  |  \u001b[94m  0.008697\u001b[0m  |    0.007619  |     1.141521  |             |  9.2s"
       ]
      },
      {
       "output_type": "stream",
       "stream": "stdout",
       "text": [
        "\n",
        "   900  |  \u001b[94m  0.008669\u001b[0m  |  \u001b[32m  0.007538\u001b[0m  |     1.150026  |             |  9.2s"
       ]
      },
      {
       "output_type": "stream",
       "stream": "stdout",
       "text": [
        "\n",
        "   901  |    0.008741  |    0.007570  |     1.154631  |             |  9.2s"
       ]
      },
      {
       "output_type": "stream",
       "stream": "stdout",
       "text": [
        "\n",
        "   902  |    0.008713  |    0.007553  |     1.153604  |             |  9.2s"
       ]
      },
      {
       "output_type": "stream",
       "stream": "stdout",
       "text": [
        "\n",
        "   903  |    0.008730  |    0.007584  |     1.151137  |             |  9.2s"
       ]
      },
      {
       "output_type": "stream",
       "stream": "stdout",
       "text": [
        "\n",
        "   904  |  \u001b[94m  0.008603\u001b[0m  |    0.007542  |     1.140763  |             |  9.2s"
       ]
      },
      {
       "output_type": "stream",
       "stream": "stdout",
       "text": [
        "\n",
        "   905  |    0.008755  |    0.007542  |     1.160831  |             |  9.2s"
       ]
      },
      {
       "output_type": "stream",
       "stream": "stdout",
       "text": [
        "\n",
        "   906  |    0.008728  |  \u001b[32m  0.007520\u001b[0m  |     1.160526  |             |  9.2s"
       ]
      },
      {
       "output_type": "stream",
       "stream": "stdout",
       "text": [
        "\n",
        "   907  |    0.008703  |    0.007528  |     1.156014  |             |  9.2s"
       ]
      },
      {
       "output_type": "stream",
       "stream": "stdout",
       "text": [
        "\n",
        "   908  |    0.008701  |    0.007531  |     1.155342  |             |  9.2s"
       ]
      },
      {
       "output_type": "stream",
       "stream": "stdout",
       "text": [
        "\n",
        "   909  |    0.008727  |    0.007538  |     1.157618  |             |  9.2s"
       ]
      },
      {
       "output_type": "stream",
       "stream": "stdout",
       "text": [
        "\n",
        "   910  |    0.008701  |    0.007536  |     1.154632  |             |  9.2s"
       ]
      },
      {
       "output_type": "stream",
       "stream": "stdout",
       "text": [
        "\n",
        "   911  |    0.008660  |  \u001b[32m  0.007517\u001b[0m  |     1.152054  |             |  9.2s"
       ]
      },
      {
       "output_type": "stream",
       "stream": "stdout",
       "text": [
        "\n",
        "   912  |    0.008660  |    0.007528  |     1.150496  |             |  9.2s"
       ]
      },
      {
       "output_type": "stream",
       "stream": "stdout",
       "text": [
        "\n",
        "   913  |    0.008627  |  \u001b[32m  0.007517\u001b[0m  |     1.147702  |             |  9.2s"
       ]
      },
      {
       "output_type": "stream",
       "stream": "stdout",
       "text": [
        "\n",
        "   914  |    0.008665  |  \u001b[32m  0.007476\u001b[0m  |     1.158960  |             |  9.2s"
       ]
      },
      {
       "output_type": "stream",
       "stream": "stdout",
       "text": [
        "\n",
        "   915  |    0.008673  |    0.007508  |     1.155130  |             |  9.2s"
       ]
      },
      {
       "output_type": "stream",
       "stream": "stdout",
       "text": [
        "\n",
        "   916  |    0.008739  |    0.007477  |     1.168811  |             |  9.2s"
       ]
      },
      {
       "output_type": "stream",
       "stream": "stdout",
       "text": [
        "\n",
        "   917  |    0.008621  |    0.007514  |     1.147435  |             |  9.2s"
       ]
      },
      {
       "output_type": "stream",
       "stream": "stdout",
       "text": [
        "\n",
        "   918  |    0.008707  |  \u001b[32m  0.007474\u001b[0m  |     1.165044  |             |  9.2s"
       ]
      },
      {
       "output_type": "stream",
       "stream": "stdout",
       "text": [
        "\n",
        "   919  |    0.008628  |    0.007483  |     1.153019  |             |  9.2s"
       ]
      },
      {
       "output_type": "stream",
       "stream": "stdout",
       "text": [
        "\n",
        "   920  |    0.008658  |    0.007547  |     1.147134  |             |  9.2s"
       ]
      },
      {
       "output_type": "stream",
       "stream": "stdout",
       "text": [
        "\n",
        "   921  |  \u001b[94m  0.008591\u001b[0m  |    0.007475  |     1.149297  |             |  9.2s"
       ]
      },
      {
       "output_type": "stream",
       "stream": "stdout",
       "text": [
        "\n",
        "   922  |    0.008649  |    0.007504  |     1.152634  |             |  9.2s"
       ]
      },
      {
       "output_type": "stream",
       "stream": "stdout",
       "text": [
        "\n",
        "   923  |    0.008645  |  \u001b[32m  0.007470\u001b[0m  |     1.157340  |             |  9.2s"
       ]
      },
      {
       "output_type": "stream",
       "stream": "stdout",
       "text": [
        "\n",
        "   924  |    0.008603  |    0.007478  |     1.150388  |             |  9.2s"
       ]
      },
      {
       "output_type": "stream",
       "stream": "stdout",
       "text": [
        "\n",
        "   925  |  \u001b[94m  0.008558\u001b[0m  |    0.007482  |     1.143775  |             |  9.2s"
       ]
      },
      {
       "output_type": "stream",
       "stream": "stdout",
       "text": [
        "\n",
        "   926  |    0.008590  |  \u001b[32m  0.007462\u001b[0m  |     1.151195  |             |  9.2s"
       ]
      },
      {
       "output_type": "stream",
       "stream": "stdout",
       "text": [
        "\n",
        "   927  |    0.008611  |    0.007467  |     1.153204  |             |  9.2s"
       ]
      },
      {
       "output_type": "stream",
       "stream": "stdout",
       "text": [
        "\n",
        "   928  |    0.008571  |  \u001b[32m  0.007428\u001b[0m  |     1.153982  |             |  9.2s"
       ]
      },
      {
       "output_type": "stream",
       "stream": "stdout",
       "text": [
        "\n",
        "   929  |    0.008591  |  \u001b[32m  0.007420\u001b[0m  |     1.157875  |             |  9.2s"
       ]
      },
      {
       "output_type": "stream",
       "stream": "stdout",
       "text": [
        "\n",
        "   930  |    0.008571  |    0.007479  |     1.146018  |             |  9.2s"
       ]
      },
      {
       "output_type": "stream",
       "stream": "stdout",
       "text": [
        "\n",
        "   931  |  \u001b[94m  0.008552\u001b[0m  |    0.007456  |     1.146964  |             |  9.2s"
       ]
      },
      {
       "output_type": "stream",
       "stream": "stdout",
       "text": [
        "\n",
        "   932  |  \u001b[94m  0.008518\u001b[0m  |    0.007466  |     1.140964  |             |  9.2s"
       ]
      },
      {
       "output_type": "stream",
       "stream": "stdout",
       "text": [
        "\n",
        "   933  |    0.008540  |    0.007456  |     1.145442  |             |  9.2s"
       ]
      },
      {
       "output_type": "stream",
       "stream": "stdout",
       "text": [
        "\n",
        "   934  |    0.008530  |    0.007461  |     1.143361  |             |  9.2s"
       ]
      },
      {
       "output_type": "stream",
       "stream": "stdout",
       "text": [
        "\n",
        "   935  |    0.008529  |    0.007432  |     1.147618  |             |  9.2s"
       ]
      },
      {
       "output_type": "stream",
       "stream": "stdout",
       "text": [
        "\n",
        "   936  |    0.008538  |    0.007421  |     1.150509  |             |  9.2s"
       ]
      },
      {
       "output_type": "stream",
       "stream": "stdout",
       "text": [
        "\n",
        "   937  |  \u001b[94m  0.008511\u001b[0m  |    0.007473  |     1.138804  |             |  9.2s"
       ]
      },
      {
       "output_type": "stream",
       "stream": "stdout",
       "text": [
        "\n",
        "   938  |    0.008514  |  \u001b[32m  0.007391\u001b[0m  |     1.151901  |             |  9.2s"
       ]
      },
      {
       "output_type": "stream",
       "stream": "stdout",
       "text": [
        "\n",
        "   939  |    0.008519  |    0.007406  |     1.150140  |             |  9.2s"
       ]
      },
      {
       "output_type": "stream",
       "stream": "stdout",
       "text": [
        "\n",
        "   940  |  \u001b[94m  0.008483\u001b[0m  |  \u001b[32m  0.007388\u001b[0m  |     1.148122  |             |  9.2s"
       ]
      },
      {
       "output_type": "stream",
       "stream": "stdout",
       "text": [
        "\n",
        "   941  |    0.008502  |    0.007403  |     1.148374  |             |  9.2s"
       ]
      },
      {
       "output_type": "stream",
       "stream": "stdout",
       "text": [
        "\n",
        "   942  |    0.008501  |    0.007419  |     1.145851  |             |  9.2s"
       ]
      },
      {
       "output_type": "stream",
       "stream": "stdout",
       "text": [
        "\n",
        "   943  |    0.008548  |    0.007463  |     1.145293  |             |  9.2s"
       ]
      },
      {
       "output_type": "stream",
       "stream": "stdout",
       "text": [
        "\n",
        "   944  |  \u001b[94m  0.008458\u001b[0m  |    0.007453  |     1.134793  |             |  9.2s"
       ]
      },
      {
       "output_type": "stream",
       "stream": "stdout",
       "text": [
        "\n",
        "   945  |    0.008526  |  \u001b[32m  0.007385\u001b[0m  |     1.154549  |             |  9.2s"
       ]
      },
      {
       "output_type": "stream",
       "stream": "stdout",
       "text": [
        "\n",
        "   946  |  \u001b[94m  0.008442\u001b[0m  |    0.007395  |     1.141553  |             |  9.2s"
       ]
      },
      {
       "output_type": "stream",
       "stream": "stdout",
       "text": [
        "\n",
        "   947  |  \u001b[94m  0.008405\u001b[0m  |    0.007400  |     1.135867  |             |  9.2s"
       ]
      },
      {
       "output_type": "stream",
       "stream": "stdout",
       "text": [
        "\n",
        "   948  |    0.008437  |    0.007413  |     1.138080  |             |  9.2s"
       ]
      },
      {
       "output_type": "stream",
       "stream": "stdout",
       "text": [
        "\n",
        "   949  |    0.008432  |  \u001b[32m  0.007357\u001b[0m  |     1.146088  |             |  9.2s"
       ]
      },
      {
       "output_type": "stream",
       "stream": "stdout",
       "text": [
        "\n",
        "   950  |  \u001b[94m  0.008394\u001b[0m  |    0.007375  |     1.138265  |             |  9.2s"
       ]
      },
      {
       "output_type": "stream",
       "stream": "stdout",
       "text": [
        "\n",
        "   951  |    0.008508  |    0.007405  |     1.148906  |             |  9.2s"
       ]
      },
      {
       "output_type": "stream",
       "stream": "stdout",
       "text": [
        "\n",
        "   952  |    0.008426  |    0.007381  |     1.141643  |             |  9.2s"
       ]
      },
      {
       "output_type": "stream",
       "stream": "stdout",
       "text": [
        "\n",
        "   953  |    0.008416  |    0.007387  |     1.139360  |             |  9.2s"
       ]
      },
      {
       "output_type": "stream",
       "stream": "stdout",
       "text": [
        "\n",
        "   954  |    0.008441  |    0.007363  |     1.146428  |             |  9.2s"
       ]
      },
      {
       "output_type": "stream",
       "stream": "stdout",
       "text": [
        "\n",
        "   955  |    0.008400  |    0.007365  |     1.140485  |             |  9.2s"
       ]
      },
      {
       "output_type": "stream",
       "stream": "stdout",
       "text": [
        "\n",
        "   956  |    0.008451  |    0.007376  |     1.145748  |             |  9.2s"
       ]
      },
      {
       "output_type": "stream",
       "stream": "stdout",
       "text": [
        "\n",
        "   957  |  \u001b[94m  0.008358\u001b[0m  |  \u001b[32m  0.007343\u001b[0m  |     1.138134  |             |  9.2s"
       ]
      },
      {
       "output_type": "stream",
       "stream": "stdout",
       "text": [
        "\n",
        "   958  |    0.008425  |  \u001b[32m  0.007331\u001b[0m  |     1.149308  |             |  9.2s"
       ]
      },
      {
       "output_type": "stream",
       "stream": "stdout",
       "text": [
        "\n",
        "   959  |  \u001b[94m  0.008337\u001b[0m  |    0.007358  |     1.132988  |             |  9.2s"
       ]
      },
      {
       "output_type": "stream",
       "stream": "stdout",
       "text": [
        "\n",
        "   960  |    0.008394  |  \u001b[32m  0.007328\u001b[0m  |     1.145505  |             |  9.2s"
       ]
      },
      {
       "output_type": "stream",
       "stream": "stdout",
       "text": [
        "\n",
        "   961  |    0.008370  |    0.007351  |     1.138699  |             |  9.2s"
       ]
      },
      {
       "output_type": "stream",
       "stream": "stdout",
       "text": [
        "\n",
        "   962  |    0.008437  |    0.007344  |     1.148846  |             |  9.2s"
       ]
      },
      {
       "output_type": "stream",
       "stream": "stdout",
       "text": [
        "\n",
        "   963  |    0.008442  |  \u001b[32m  0.007298\u001b[0m  |     1.156820  |             |  9.2s"
       ]
      },
      {
       "output_type": "stream",
       "stream": "stdout",
       "text": [
        "\n",
        "   964  |    0.008353  |    0.007345  |     1.137295  |             |  9.2s"
       ]
      },
      {
       "output_type": "stream",
       "stream": "stdout",
       "text": [
        "\n",
        "   965  |    0.008346  |    0.007301  |     1.143160  |             |  9.2s"
       ]
      },
      {
       "output_type": "stream",
       "stream": "stdout",
       "text": [
        "\n",
        "   966  |    0.008397  |    0.007309  |     1.148867  |             |  9.2s"
       ]
      },
      {
       "output_type": "stream",
       "stream": "stdout",
       "text": [
        "\n",
        "   967  |  \u001b[94m  0.008330\u001b[0m  |    0.007332  |     1.136083  |             |  9.2s"
       ]
      },
      {
       "output_type": "stream",
       "stream": "stdout",
       "text": [
        "\n",
        "   968  |    0.008352  |    0.007304  |     1.143456  |             |  9.2s"
       ]
      },
      {
       "output_type": "stream",
       "stream": "stdout",
       "text": [
        "\n",
        "   969  |  \u001b[94m  0.008316\u001b[0m  |    0.007335  |     1.133799  |             |  9.2s"
       ]
      },
      {
       "output_type": "stream",
       "stream": "stdout",
       "text": [
        "\n",
        "   970  |  \u001b[94m  0.008292\u001b[0m  |  \u001b[32m  0.007294\u001b[0m  |     1.136829  |             |  9.2s"
       ]
      },
      {
       "output_type": "stream",
       "stream": "stdout",
       "text": [
        "\n",
        "   971  |    0.008382  |    0.007375  |     1.136504  |             |  9.2s"
       ]
      },
      {
       "output_type": "stream",
       "stream": "stdout",
       "text": [
        "\n",
        "   972  |    0.008336  |  \u001b[32m  0.007292\u001b[0m  |     1.143073  |             |  9.2s"
       ]
      },
      {
       "output_type": "stream",
       "stream": "stdout",
       "text": [
        "\n",
        "   973  |    0.008349  |  \u001b[32m  0.007291\u001b[0m  |     1.145124  |             |  9.2s"
       ]
      },
      {
       "output_type": "stream",
       "stream": "stdout",
       "text": [
        "\n",
        "   974  |    0.008294  |  \u001b[32m  0.007269\u001b[0m  |     1.141090  |             |  9.2s"
       ]
      },
      {
       "output_type": "stream",
       "stream": "stdout",
       "text": [
        "\n",
        "   975  |    0.008336  |    0.007279  |     1.145112  |             |  9.2s"
       ]
      },
      {
       "output_type": "stream",
       "stream": "stdout",
       "text": [
        "\n",
        "   976  |  \u001b[94m  0.008263\u001b[0m  |    0.007273  |     1.136086  |             |  9.2s"
       ]
      },
      {
       "output_type": "stream",
       "stream": "stdout",
       "text": [
        "\n",
        "   977  |  \u001b[94m  0.008252\u001b[0m  |    0.007276  |     1.134215  |             |  9.2s"
       ]
      },
      {
       "output_type": "stream",
       "stream": "stdout",
       "text": [
        "\n",
        "   978  |    0.008326  |    0.007307  |     1.139490  |             |  9.2s"
       ]
      },
      {
       "output_type": "stream",
       "stream": "stdout",
       "text": [
        "\n",
        "   979  |    0.008305  |    0.007298  |     1.138034  |             |  9.2s"
       ]
      },
      {
       "output_type": "stream",
       "stream": "stdout",
       "text": [
        "\n",
        "   980  |    0.008255  |    0.007296  |     1.131532  |             |  9.2s"
       ]
      },
      {
       "output_type": "stream",
       "stream": "stdout",
       "text": [
        "\n",
        "   981  |    0.008271  |    0.007271  |     1.137480  |             |  9.2s"
       ]
      },
      {
       "output_type": "stream",
       "stream": "stdout",
       "text": [
        "\n",
        "   982  |  \u001b[94m  0.008251\u001b[0m  |  \u001b[32m  0.007244\u001b[0m  |     1.139032  |             |  9.2s"
       ]
      },
      {
       "output_type": "stream",
       "stream": "stdout",
       "text": [
        "\n",
        "   983  |    0.008259  |    0.007256  |     1.138286  |             |  9.2s"
       ]
      },
      {
       "output_type": "stream",
       "stream": "stdout",
       "text": [
        "\n",
        "   984  |  \u001b[94m  0.008237\u001b[0m  |    0.007296  |     1.128875  |             |  9.2s"
       ]
      },
      {
       "output_type": "stream",
       "stream": "stdout",
       "text": [
        "\n",
        "   985  |  \u001b[94m  0.008219\u001b[0m  |  \u001b[32m  0.007228\u001b[0m  |     1.137011  |             |  9.2s"
       ]
      },
      {
       "output_type": "stream",
       "stream": "stdout",
       "text": [
        "\n",
        "   986  |    0.008279  |    0.007302  |     1.133817  |             |  9.2s"
       ]
      },
      {
       "output_type": "stream",
       "stream": "stdout",
       "text": [
        "\n",
        "   987  |    0.008228  |    0.007263  |     1.132900  |             |  9.2s"
       ]
      },
      {
       "output_type": "stream",
       "stream": "stdout",
       "text": [
        "\n",
        "   988  |  \u001b[94m  0.008177\u001b[0m  |    0.007256  |     1.126842  |             |  9.2s"
       ]
      },
      {
       "output_type": "stream",
       "stream": "stdout",
       "text": [
        "\n",
        "   989  |    0.008230  |    0.007261  |     1.133455  |             |  9.2s"
       ]
      },
      {
       "output_type": "stream",
       "stream": "stdout",
       "text": [
        "\n",
        "   990  |    0.008267  |  \u001b[32m  0.007220\u001b[0m  |     1.144982  |             |  9.2s"
       ]
      },
      {
       "output_type": "stream",
       "stream": "stdout",
       "text": [
        "\n",
        "   991  |    0.008201  |    0.007274  |     1.127382  |             |  9.2s"
       ]
      },
      {
       "output_type": "stream",
       "stream": "stdout",
       "text": [
        "\n",
        "   992  |    0.008224  |    0.007252  |     1.134017  |             |  9.2s"
       ]
      },
      {
       "output_type": "stream",
       "stream": "stdout",
       "text": [
        "\n",
        "   993  |    0.008183  |    0.007231  |     1.131636  |             |  9.2s"
       ]
      },
      {
       "output_type": "stream",
       "stream": "stdout",
       "text": [
        "\n",
        "   994  |  \u001b[94m  0.008174\u001b[0m  |    0.007233  |     1.130070  |             |  9.2s"
       ]
      },
      {
       "output_type": "stream",
       "stream": "stdout",
       "text": [
        "\n",
        "   995  |    0.008184  |    0.007257  |     1.127697  |             |  9.2s"
       ]
      },
      {
       "output_type": "stream",
       "stream": "stdout",
       "text": [
        "\n",
        "   996  |  \u001b[94m  0.008174\u001b[0m  |    0.007231  |     1.130383  |             |  9.2s"
       ]
      },
      {
       "output_type": "stream",
       "stream": "stdout",
       "text": [
        "\n",
        "   997  |    0.008178  |    0.007250  |     1.128036  |             |  9.2s"
       ]
      },
      {
       "output_type": "stream",
       "stream": "stdout",
       "text": [
        "\n",
        "   998  |    0.008183  |    0.007223  |     1.132941  |             |  9.2s"
       ]
      },
      {
       "output_type": "stream",
       "stream": "stdout",
       "text": [
        "\n",
        "   999  |    0.008208  |    0.007231  |     1.135118  |             |  9.2s"
       ]
      },
      {
       "output_type": "stream",
       "stream": "stdout",
       "text": [
        "\n",
        "  1000  |  \u001b[94m  0.008115\u001b[0m  |  \u001b[32m  0.007186\u001b[0m  |     1.129270  |             |  9.2s"
       ]
      },
      {
       "output_type": "stream",
       "stream": "stdout",
       "text": [
        "\n",
        "  1001  |    0.008117  |    0.007189  |     1.129160  |             |  9.2s"
       ]
      },
      {
       "output_type": "stream",
       "stream": "stdout",
       "text": [
        "\n",
        "  1002  |    0.008238  |    0.007214  |     1.141910  |             |  9.2s"
       ]
      },
      {
       "output_type": "stream",
       "stream": "stdout",
       "text": [
        "\n",
        "  1003  |    0.008158  |  \u001b[32m  0.007176\u001b[0m  |     1.136858  |             |  9.2s"
       ]
      },
      {
       "output_type": "stream",
       "stream": "stdout",
       "text": [
        "\n",
        "  1004  |    0.008134  |    0.007219  |     1.126715  |             |  9.2s"
       ]
      },
      {
       "output_type": "stream",
       "stream": "stdout",
       "text": [
        "\n",
        "  1005  |  \u001b[94m  0.008114\u001b[0m  |    0.007201  |     1.126762  |             |  9.2s"
       ]
      },
      {
       "output_type": "stream",
       "stream": "stdout",
       "text": [
        "\n",
        "  1006  |    0.008201  |    0.007228  |     1.134707  |             |  9.2s"
       ]
      },
      {
       "output_type": "stream",
       "stream": "stdout",
       "text": [
        "\n",
        "  1007  |    0.008130  |  \u001b[32m  0.007168\u001b[0m  |     1.134315  |             |  9.2s"
       ]
      },
      {
       "output_type": "stream",
       "stream": "stdout",
       "text": [
        "\n",
        "  1008  |  \u001b[94m  0.008081\u001b[0m  |    0.007210  |     1.120799  |             |  9.2s"
       ]
      },
      {
       "output_type": "stream",
       "stream": "stdout",
       "text": [
        "\n",
        "  1009  |    0.008154  |    0.007209  |     1.131026  |             |  9.2s"
       ]
      },
      {
       "output_type": "stream",
       "stream": "stdout",
       "text": [
        "\n",
        "  1010  |    0.008152  |    0.007206  |     1.131313  |             |  9.2s"
       ]
      },
      {
       "output_type": "stream",
       "stream": "stdout",
       "text": [
        "\n",
        "  1011  |  \u001b[94m  0.008075\u001b[0m  |    0.007185  |     1.123843  |             |  9.2s"
       ]
      },
      {
       "output_type": "stream",
       "stream": "stdout",
       "text": [
        "\n",
        "  1012  |    0.008081  |    0.007202  |     1.122009  |             |  9.2s"
       ]
      },
      {
       "output_type": "stream",
       "stream": "stdout",
       "text": [
        "\n",
        "  1013  |    0.008142  |  \u001b[32m  0.007149\u001b[0m  |     1.138810  |             |  9.2s"
       ]
      },
      {
       "output_type": "stream",
       "stream": "stdout",
       "text": [
        "\n",
        "  1014  |  \u001b[94m  0.008067\u001b[0m  |    0.007155  |     1.127415  |             |  9.2s"
       ]
      },
      {
       "output_type": "stream",
       "stream": "stdout",
       "text": [
        "\n",
        "  1015  |  \u001b[94m  0.008059\u001b[0m  |    0.007181  |     1.122296  |             |  9.2s"
       ]
      },
      {
       "output_type": "stream",
       "stream": "stdout",
       "text": [
        "\n",
        "  1016  |    0.008078  |    0.007153  |     1.129271  |             |  9.2s"
       ]
      },
      {
       "output_type": "stream",
       "stream": "stdout",
       "text": [
        "\n",
        "  1017  |    0.008104  |    0.007184  |     1.128108  |             |  9.2s"
       ]
      },
      {
       "output_type": "stream",
       "stream": "stdout",
       "text": [
        "\n",
        "  1018  |  \u001b[94m  0.008047\u001b[0m  |  \u001b[32m  0.007147\u001b[0m  |     1.125894  |             |  9.2s"
       ]
      },
      {
       "output_type": "stream",
       "stream": "stdout",
       "text": [
        "\n",
        "  1019  |    0.008050  |    0.007181  |     1.121036  |             |  9.2s"
       ]
      },
      {
       "output_type": "stream",
       "stream": "stdout",
       "text": [
        "\n",
        "  1020  |    0.008076  |    0.007179  |     1.124887  |             |  9.2s"
       ]
      },
      {
       "output_type": "stream",
       "stream": "stdout",
       "text": [
        "\n",
        "  1021  |    0.008082  |  \u001b[32m  0.007141\u001b[0m  |     1.131706  |             |  9.2s"
       ]
      },
      {
       "output_type": "stream",
       "stream": "stdout",
       "text": [
        "\n",
        "  1022  |    0.008048  |    0.007159  |     1.124213  |             |  9.2s"
       ]
      },
      {
       "output_type": "stream",
       "stream": "stdout",
       "text": [
        "\n",
        "  1023  |    0.008058  |    0.007150  |     1.127045  |             |  9.2s"
       ]
      },
      {
       "output_type": "stream",
       "stream": "stdout",
       "text": [
        "\n",
        "  1024  |    0.008056  |    0.007148  |     1.127051  |             |  9.2s"
       ]
      },
      {
       "output_type": "stream",
       "stream": "stdout",
       "text": [
        "\n",
        "  1025  |    0.008061  |  \u001b[32m  0.007109\u001b[0m  |     1.133913  |             |  9.2s"
       ]
      },
      {
       "output_type": "stream",
       "stream": "stdout",
       "text": [
        "\n",
        "  1026  |  \u001b[94m  0.008028\u001b[0m  |    0.007111  |     1.128905  |             |  9.2s"
       ]
      },
      {
       "output_type": "stream",
       "stream": "stdout",
       "text": [
        "\n",
        "  1027  |    0.008064  |    0.007124  |     1.131854  |             |  9.2s"
       ]
      },
      {
       "output_type": "stream",
       "stream": "stdout",
       "text": [
        "\n",
        "  1028  |  \u001b[94m  0.007978\u001b[0m  |    0.007133  |     1.118457  |             |  9.2s"
       ]
      },
      {
       "output_type": "stream",
       "stream": "stdout",
       "text": [
        "\n",
        "  1029  |  \u001b[94m  0.007971\u001b[0m  |    0.007132  |     1.117633  |             |  9.2s"
       ]
      },
      {
       "output_type": "stream",
       "stream": "stdout",
       "text": [
        "\n",
        "  1030  |    0.008060  |    0.007111  |     1.133476  |             |  9.2s"
       ]
      },
      {
       "output_type": "stream",
       "stream": "stdout",
       "text": [
        "\n",
        "  1031  |    0.008008  |    0.007152  |     1.119597  |             |  9.2s"
       ]
      },
      {
       "output_type": "stream",
       "stream": "stdout",
       "text": [
        "\n",
        "  1032  |    0.008071  |    0.007117  |     1.133948  |             |  9.2s"
       ]
      },
      {
       "output_type": "stream",
       "stream": "stdout",
       "text": [
        "\n",
        "  1033  |    0.008034  |    0.007139  |     1.125492  |             |  9.2s"
       ]
      },
      {
       "output_type": "stream",
       "stream": "stdout",
       "text": [
        "\n",
        "  1034  |    0.008043  |  \u001b[32m  0.007077\u001b[0m  |     1.136500  |             |  9.2s"
       ]
      },
      {
       "output_type": "stream",
       "stream": "stdout",
       "text": [
        "\n",
        "  1035  |    0.007993  |    0.007136  |     1.120128  |             |  9.2s"
       ]
      },
      {
       "output_type": "stream",
       "stream": "stdout",
       "text": [
        "\n",
        "  1036  |    0.008001  |    0.007093  |     1.128050  |             |  9.2s"
       ]
      },
      {
       "output_type": "stream",
       "stream": "stdout",
       "text": [
        "\n",
        "  1037  |  \u001b[94m  0.007953\u001b[0m  |    0.007135  |     1.114609  |             |  9.2s"
       ]
      },
      {
       "output_type": "stream",
       "stream": "stdout",
       "text": [
        "\n",
        "  1038  |    0.007998  |    0.007134  |     1.121132  |             |  9.2s"
       ]
      },
      {
       "output_type": "stream",
       "stream": "stdout",
       "text": [
        "\n",
        "  1039  |    0.008008  |    0.007098  |     1.128295  |             |  9.2s"
       ]
      },
      {
       "output_type": "stream",
       "stream": "stdout",
       "text": [
        "\n",
        "  1040  |    0.007978  |    0.007086  |     1.125949  |             |  9.2s"
       ]
      },
      {
       "output_type": "stream",
       "stream": "stdout",
       "text": [
        "\n",
        "  1041  |  \u001b[94m  0.007934\u001b[0m  |  \u001b[32m  0.007069\u001b[0m  |     1.122347  |             |  9.2s"
       ]
      },
      {
       "output_type": "stream",
       "stream": "stdout",
       "text": [
        "\n",
        "  1042  |    0.008025  |    0.007085  |     1.132697  |             |  9.2s"
       ]
      },
      {
       "output_type": "stream",
       "stream": "stdout",
       "text": [
        "\n",
        "  1043  |    0.007992  |    0.007090  |     1.127215  |             |  9.2s"
       ]
      },
      {
       "output_type": "stream",
       "stream": "stdout",
       "text": [
        "\n",
        "  1044  |  \u001b[94m  0.007920\u001b[0m  |  \u001b[32m  0.007058\u001b[0m  |     1.122089  |             |  9.2s"
       ]
      },
      {
       "output_type": "stream",
       "stream": "stdout",
       "text": [
        "\n",
        "  1045  |    0.007963  |    0.007080  |     1.124703  |             |  9.2s"
       ]
      },
      {
       "output_type": "stream",
       "stream": "stdout",
       "text": [
        "\n",
        "  1046  |    0.007920  |    0.007070  |     1.120231  |             |  9.2s"
       ]
      },
      {
       "output_type": "stream",
       "stream": "stdout",
       "text": [
        "\n",
        "  1047  |  \u001b[94m  0.007920\u001b[0m  |  \u001b[32m  0.007041\u001b[0m  |     1.124770  |             |  9.2s"
       ]
      },
      {
       "output_type": "stream",
       "stream": "stdout",
       "text": [
        "\n",
        "  1048  |    0.007929  |    0.007076  |     1.120636  |             |  9.2s"
       ]
      },
      {
       "output_type": "stream",
       "stream": "stdout",
       "text": [
        "\n",
        "  1049  |  \u001b[94m  0.007872\u001b[0m  |    0.007068  |     1.113766  |             |  9.2s"
       ]
      },
      {
       "output_type": "stream",
       "stream": "stdout",
       "text": [
        "\n",
        "  1050  |    0.007931  |    0.007065  |     1.122628  |             |  9.2s"
       ]
      },
      {
       "output_type": "stream",
       "stream": "stdout",
       "text": [
        "\n",
        "  1051  |    0.007884  |    0.007078  |     1.113778  |             |  9.2s"
       ]
      },
      {
       "output_type": "stream",
       "stream": "stdout",
       "text": [
        "\n",
        "  1052  |    0.007892  |    0.007091  |     1.112931  |             |  9.2s"
       ]
      },
      {
       "output_type": "stream",
       "stream": "stdout",
       "text": [
        "\n",
        "  1053  |    0.007906  |    0.007066  |     1.118911  |             |  9.2s"
       ]
      },
      {
       "output_type": "stream",
       "stream": "stdout",
       "text": [
        "\n",
        "  1054  |    0.007987  |    0.007058  |     1.131661  |             |  9.2s"
       ]
      },
      {
       "output_type": "stream",
       "stream": "stdout",
       "text": [
        "\n",
        "  1055  |    0.007895  |  \u001b[32m  0.007032\u001b[0m  |     1.122727  |             |  9.2s"
       ]
      },
      {
       "output_type": "stream",
       "stream": "stdout",
       "text": [
        "\n",
        "  1056  |    0.007917  |    0.007086  |     1.117270  |             |  9.2s"
       ]
      },
      {
       "output_type": "stream",
       "stream": "stdout",
       "text": [
        "\n",
        "  1057  |    0.007874  |    0.007084  |     1.111586  |             |  9.2s"
       ]
      },
      {
       "output_type": "stream",
       "stream": "stdout",
       "text": [
        "\n",
        "  1058  |    0.007943  |  \u001b[32m  0.007026\u001b[0m  |     1.130492  |             |  9.2s"
       ]
      },
      {
       "output_type": "stream",
       "stream": "stdout",
       "text": [
        "\n",
        "  1059  |  \u001b[94m  0.007808\u001b[0m  |    0.007051  |     1.107223  |             |  9.2s"
       ]
      },
      {
       "output_type": "stream",
       "stream": "stdout",
       "text": [
        "\n",
        "  1060  |    0.007840  |  \u001b[32m  0.007004\u001b[0m  |     1.119215  |             |  9.2s"
       ]
      },
      {
       "output_type": "stream",
       "stream": "stdout",
       "text": [
        "\n",
        "  1061  |    0.007815  |    0.007023  |     1.112787  |             |  9.2s"
       ]
      },
      {
       "output_type": "stream",
       "stream": "stdout",
       "text": [
        "\n",
        "  1062  |    0.007866  |    0.007043  |     1.116817  |             |  9.2s"
       ]
      },
      {
       "output_type": "stream",
       "stream": "stdout",
       "text": [
        "\n",
        "  1063  |    0.007817  |    0.007060  |     1.107235  |             |  9.2s"
       ]
      },
      {
       "output_type": "stream",
       "stream": "stdout",
       "text": [
        "\n",
        "  1064  |    0.007834  |    0.007020  |     1.115859  |             |  9.2s"
       ]
      },
      {
       "output_type": "stream",
       "stream": "stdout",
       "text": [
        "\n",
        "  1065  |    0.007845  |    0.007039  |     1.114449  |             |  9.2s"
       ]
      },
      {
       "output_type": "stream",
       "stream": "stdout",
       "text": [
        "\n",
        "  1066  |    0.007821  |    0.007049  |     1.109582  |             |  9.2s"
       ]
      },
      {
       "output_type": "stream",
       "stream": "stdout",
       "text": [
        "\n",
        "  1067  |    0.007854  |    0.007036  |     1.116330  |             |  9.2s"
       ]
      },
      {
       "output_type": "stream",
       "stream": "stdout",
       "text": [
        "\n",
        "  1068  |    0.007848  |    0.007033  |     1.115901  |             |  9.2s"
       ]
      },
      {
       "output_type": "stream",
       "stream": "stdout",
       "text": [
        "\n",
        "  1069  |    0.007859  |  \u001b[32m  0.006993\u001b[0m  |     1.123910  |             |  9.2s"
       ]
      },
      {
       "output_type": "stream",
       "stream": "stdout",
       "text": [
        "\n",
        "  1070  |    0.007882  |    0.007002  |     1.125657  |             |  9.2s"
       ]
      },
      {
       "output_type": "stream",
       "stream": "stdout",
       "text": [
        "\n",
        "  1071  |  \u001b[94m  0.007796\u001b[0m  |  \u001b[32m  0.006983\u001b[0m  |     1.116447  |             |  9.2s"
       ]
      },
      {
       "output_type": "stream",
       "stream": "stdout",
       "text": [
        "\n",
        "  1072  |    0.007826  |    0.006999  |     1.118178  |             |  9.2s"
       ]
      },
      {
       "output_type": "stream",
       "stream": "stdout",
       "text": [
        "\n",
        "  1073  |    0.007811  |    0.007021  |     1.112527  |             |  9.2s"
       ]
      },
      {
       "output_type": "stream",
       "stream": "stdout",
       "text": [
        "\n",
        "  1074  |  \u001b[94m  0.007788\u001b[0m  |  \u001b[32m  0.006977\u001b[0m  |     1.116343  |             |  9.2s"
       ]
      },
      {
       "output_type": "stream",
       "stream": "stdout",
       "text": [
        "\n",
        "  1075  |    0.007801  |  \u001b[32m  0.006975\u001b[0m  |     1.118374  |             |  9.2s"
       ]
      },
      {
       "output_type": "stream",
       "stream": "stdout",
       "text": [
        "\n",
        "  1076  |  \u001b[94m  0.007753\u001b[0m  |    0.006978  |     1.111021  |             |  9.2s"
       ]
      },
      {
       "output_type": "stream",
       "stream": "stdout",
       "text": [
        "\n",
        "  1077  |    0.007808  |    0.006998  |     1.115712  |             |  9.2s"
       ]
      },
      {
       "output_type": "stream",
       "stream": "stdout",
       "text": [
        "\n",
        "  1078  |    0.007824  |    0.006991  |     1.119087  |             |  9.2s"
       ]
      },
      {
       "output_type": "stream",
       "stream": "stdout",
       "text": [
        "\n",
        "  1079  |    0.007760  |  \u001b[32m  0.006961\u001b[0m  |     1.114833  |             |  9.2s"
       ]
      },
      {
       "output_type": "stream",
       "stream": "stdout",
       "text": [
        "\n",
        "  1080  |  \u001b[94m  0.007704\u001b[0m  |    0.006980  |     1.103789  |             |  9.2s"
       ]
      },
      {
       "output_type": "stream",
       "stream": "stdout",
       "text": [
        "\n",
        "  1081  |    0.007769  |    0.007007  |     1.108801  |             |  9.2s"
       ]
      },
      {
       "output_type": "stream",
       "stream": "stdout",
       "text": [
        "\n",
        "  1082  |    0.007750  |    0.006967  |     1.112304  |             |  9.2s"
       ]
      },
      {
       "output_type": "stream",
       "stream": "stdout",
       "text": [
        "\n",
        "  1083  |    0.007842  |  \u001b[32m  0.006955\u001b[0m  |     1.127534  |             |  9.2s"
       ]
      },
      {
       "output_type": "stream",
       "stream": "stdout",
       "text": [
        "\n",
        "  1084  |    0.007731  |    0.006963  |     1.110331  |             |  9.2s"
       ]
      },
      {
       "output_type": "stream",
       "stream": "stdout",
       "text": [
        "\n",
        "  1085  |    0.007802  |    0.006991  |     1.115997  |             |  9.2s"
       ]
      },
      {
       "output_type": "stream",
       "stream": "stdout",
       "text": [
        "\n",
        "  1086  |    0.007721  |    0.006967  |     1.108220  |             |  9.2s"
       ]
      },
      {
       "output_type": "stream",
       "stream": "stdout",
       "text": [
        "\n",
        "  1087  |    0.007750  |  \u001b[32m  0.006952\u001b[0m  |     1.114793  |             |  9.2s"
       ]
      },
      {
       "output_type": "stream",
       "stream": "stdout",
       "text": [
        "\n",
        "  1088  |    0.007738  |    0.006962  |     1.111466  |             |  9.2s"
       ]
      },
      {
       "output_type": "stream",
       "stream": "stdout",
       "text": [
        "\n",
        "  1089  |  \u001b[94m  0.007700\u001b[0m  |  \u001b[32m  0.006939\u001b[0m  |     1.109713  |             |  9.2s"
       ]
      },
      {
       "output_type": "stream",
       "stream": "stdout",
       "text": [
        "\n",
        "  1090  |    0.007728  |    0.007005  |     1.103312  |             |  9.2s"
       ]
      },
      {
       "output_type": "stream",
       "stream": "stdout",
       "text": [
        "\n",
        "  1091  |    0.007795  |    0.006962  |     1.119704  |             |  9.2s"
       ]
      },
      {
       "output_type": "stream",
       "stream": "stdout",
       "text": [
        "\n",
        "  1092  |    0.007719  |    0.006994  |     1.103594  |             |  9.2s"
       ]
      },
      {
       "output_type": "stream",
       "stream": "stdout",
       "text": [
        "\n",
        "  1093  |    0.007702  |    0.006948  |     1.108454  |             |  9.2s"
       ]
      },
      {
       "output_type": "stream",
       "stream": "stdout",
       "text": [
        "\n",
        "  1094  |    0.007710  |  \u001b[32m  0.006933\u001b[0m  |     1.112010  |             |  9.2s"
       ]
      },
      {
       "output_type": "stream",
       "stream": "stdout",
       "text": [
        "\n",
        "  1095  |    0.007728  |    0.006961  |     1.110219  |             |  9.2s"
       ]
      },
      {
       "output_type": "stream",
       "stream": "stdout",
       "text": [
        "\n",
        "  1096  |    0.007750  |    0.006983  |     1.109877  |             |  9.2s"
       ]
      },
      {
       "output_type": "stream",
       "stream": "stdout",
       "text": [
        "\n",
        "  1097  |  \u001b[94m  0.007693\u001b[0m  |    0.006935  |     1.109362  |             |  9.2s"
       ]
      },
      {
       "output_type": "stream",
       "stream": "stdout",
       "text": [
        "\n",
        "  1098  |    0.007729  |  \u001b[32m  0.006879\u001b[0m  |     1.123549  |             |  9.2s"
       ]
      },
      {
       "output_type": "stream",
       "stream": "stdout",
       "text": [
        "\n",
        "  1099  |    0.007703  |    0.006931  |     1.111265  |             |  9.2s"
       ]
      },
      {
       "output_type": "stream",
       "stream": "stdout",
       "text": [
        "\n",
        "  1100  |  \u001b[94m  0.007687\u001b[0m  |    0.006920  |     1.110845  |             |  9.2s"
       ]
      },
      {
       "output_type": "stream",
       "stream": "stdout",
       "text": [
        "\n",
        "  1101  |    0.007694  |    0.006951  |     1.106997  |             |  9.2s"
       ]
      },
      {
       "output_type": "stream",
       "stream": "stdout",
       "text": [
        "\n",
        "  1102  |    0.007718  |    0.006952  |     1.110210  |             |  9.2s"
       ]
      },
      {
       "output_type": "stream",
       "stream": "stdout",
       "text": [
        "\n",
        "  1103  |  \u001b[94m  0.007667\u001b[0m  |    0.006955  |     1.102443  |             |  9.2s"
       ]
      },
      {
       "output_type": "stream",
       "stream": "stdout",
       "text": [
        "\n",
        "  1104  |    0.007700  |    0.006916  |     1.113471  |             |  9.2s"
       ]
      },
      {
       "output_type": "stream",
       "stream": "stdout",
       "text": [
        "\n",
        "  1105  |    0.007696  |    0.006900  |     1.115384  |             |  9.2s"
       ]
      },
      {
       "output_type": "stream",
       "stream": "stdout",
       "text": [
        "\n",
        "  1106  |    0.007742  |    0.006935  |     1.116358  |             |  9.2s"
       ]
      },
      {
       "output_type": "stream",
       "stream": "stdout",
       "text": [
        "\n",
        "  1107  |    0.007699  |    0.006896  |     1.116543  |             |  9.2s"
       ]
      },
      {
       "output_type": "stream",
       "stream": "stdout",
       "text": [
        "\n",
        "  1108  |  \u001b[94m  0.007654\u001b[0m  |    0.006925  |     1.105179  |             |  9.2s"
       ]
      },
      {
       "output_type": "stream",
       "stream": "stdout",
       "text": [
        "\n",
        "  1109  |  \u001b[94m  0.007624\u001b[0m  |    0.006922  |     1.101410  |             |  9.2s"
       ]
      },
      {
       "output_type": "stream",
       "stream": "stdout",
       "text": [
        "\n",
        "  1110  |    0.007683  |    0.006921  |     1.110072  |             |  9.2s"
       ]
      },
      {
       "output_type": "stream",
       "stream": "stdout",
       "text": [
        "\n",
        "  1111  |    0.007644  |    0.006923  |     1.104185  |             |  9.2s"
       ]
      },
      {
       "output_type": "stream",
       "stream": "stdout",
       "text": [
        "\n",
        "  1112  |  \u001b[94m  0.007580\u001b[0m  |    0.006925  |     1.094665  |             |  9.2s"
       ]
      },
      {
       "output_type": "stream",
       "stream": "stdout",
       "text": [
        "\n",
        "  1113  |    0.007646  |    0.006902  |     1.107746  |             |  9.2s"
       ]
      },
      {
       "output_type": "stream",
       "stream": "stdout",
       "text": [
        "\n",
        "  1114  |    0.007660  |    0.006924  |     1.106221  |             |  9.2s"
       ]
      },
      {
       "output_type": "stream",
       "stream": "stdout",
       "text": [
        "\n",
        "  1115  |    0.007669  |    0.006891  |     1.112887  |             |  9.2s"
       ]
      },
      {
       "output_type": "stream",
       "stream": "stdout",
       "text": [
        "\n",
        "  1116  |    0.007645  |    0.006894  |     1.108984  |             |  9.2s"
       ]
      },
      {
       "output_type": "stream",
       "stream": "stdout",
       "text": [
        "\n",
        "  1117  |  \u001b[94m  0.007576\u001b[0m  |    0.006886  |     1.100269  |             |  9.2s"
       ]
      },
      {
       "output_type": "stream",
       "stream": "stdout",
       "text": [
        "\n",
        "  1118  |    0.007591  |  \u001b[32m  0.006875\u001b[0m  |     1.104192  |             |  9.2s"
       ]
      },
      {
       "output_type": "stream",
       "stream": "stdout",
       "text": [
        "\n",
        "  1119  |    0.007639  |  \u001b[32m  0.006857\u001b[0m  |     1.114136  |             |  9.2s"
       ]
      },
      {
       "output_type": "stream",
       "stream": "stdout",
       "text": [
        "\n",
        "  1120  |    0.007596  |    0.006910  |     1.099333  |             |  9.2s"
       ]
      },
      {
       "output_type": "stream",
       "stream": "stdout",
       "text": [
        "\n",
        "  1121  |    0.007619  |    0.006898  |     1.104538  |             |  9.2s"
       ]
      },
      {
       "output_type": "stream",
       "stream": "stdout",
       "text": [
        "\n",
        "  1122  |    0.007633  |    0.006892  |     1.107425  |             |  9.2s"
       ]
      },
      {
       "output_type": "stream",
       "stream": "stdout",
       "text": [
        "\n",
        "  1123  |    0.007635  |    0.006866  |     1.111965  |             |  9.2s"
       ]
      },
      {
       "output_type": "stream",
       "stream": "stdout",
       "text": [
        "\n",
        "  1124  |    0.007601  |    0.006888  |     1.103455  |             |  9.2s"
       ]
      },
      {
       "output_type": "stream",
       "stream": "stdout",
       "text": [
        "\n",
        "  1125  |    0.007636  |    0.006878  |     1.110216  |             |  9.2s"
       ]
      },
      {
       "output_type": "stream",
       "stream": "stdout",
       "text": [
        "\n",
        "  1126  |  \u001b[94m  0.007557\u001b[0m  |    0.006872  |     1.099571  |             |  9.2s"
       ]
      },
      {
       "output_type": "stream",
       "stream": "stdout",
       "text": [
        "\n",
        "  1127  |    0.007610  |    0.006875  |     1.106913  |             |  9.2s"
       ]
      },
      {
       "output_type": "stream",
       "stream": "stdout",
       "text": [
        "\n",
        "  1128  |    0.007564  |  \u001b[32m  0.006842\u001b[0m  |     1.105520  |             |  9.2s"
       ]
      },
      {
       "output_type": "stream",
       "stream": "stdout",
       "text": [
        "\n",
        "  1129  |    0.007589  |    0.006875  |     1.103901  |             |  9.2s"
       ]
      },
      {
       "output_type": "stream",
       "stream": "stdout",
       "text": [
        "\n",
        "  1130  |    0.007605  |    0.006860  |     1.108705  |             |  9.2s"
       ]
      },
      {
       "output_type": "stream",
       "stream": "stdout",
       "text": [
        "\n",
        "  1131  |    0.007583  |    0.006880  |     1.102199  |             |  9.2s"
       ]
      },
      {
       "output_type": "stream",
       "stream": "stdout",
       "text": [
        "\n",
        "  1132  |  \u001b[94m  0.007547\u001b[0m  |    0.006873  |     1.097960  |             |  9.2s"
       ]
      },
      {
       "output_type": "stream",
       "stream": "stdout",
       "text": [
        "\n",
        "  1133  |    0.007553  |    0.006897  |     1.095095  |             |  9.2s"
       ]
      },
      {
       "output_type": "stream",
       "stream": "stdout",
       "text": [
        "\n",
        "  1134  |    0.007548  |    0.006885  |     1.096226  |             |  9.2s"
       ]
      },
      {
       "output_type": "stream",
       "stream": "stdout",
       "text": [
        "\n",
        "  1135  |  \u001b[94m  0.007538\u001b[0m  |    0.006853  |     1.100030  |             |  9.2s"
       ]
      },
      {
       "output_type": "stream",
       "stream": "stdout",
       "text": [
        "\n",
        "  1136  |  \u001b[94m  0.007525\u001b[0m  |  \u001b[32m  0.006806\u001b[0m  |     1.105581  |             |  9.2s"
       ]
      },
      {
       "output_type": "stream",
       "stream": "stdout",
       "text": [
        "\n",
        "  1137  |  \u001b[94m  0.007512\u001b[0m  |    0.006825  |     1.100794  |             |  9.2s"
       ]
      },
      {
       "output_type": "stream",
       "stream": "stdout",
       "text": [
        "\n",
        "  1138  |  \u001b[94m  0.007483\u001b[0m  |    0.006807  |     1.099273  |             |  9.2s"
       ]
      },
      {
       "output_type": "stream",
       "stream": "stdout",
       "text": [
        "\n",
        "  1139  |    0.007520  |    0.006822  |     1.102351  |             |  9.2s"
       ]
      },
      {
       "output_type": "stream",
       "stream": "stdout",
       "text": [
        "\n",
        "  1140  |    0.007524  |    0.006812  |     1.104526  |             |  9.2s"
       ]
      },
      {
       "output_type": "stream",
       "stream": "stdout",
       "text": [
        "\n",
        "  1141  |    0.007523  |    0.006847  |     1.098728  |             |  9.2s"
       ]
      },
      {
       "output_type": "stream",
       "stream": "stdout",
       "text": [
        "\n",
        "  1142  |  \u001b[94m  0.007469\u001b[0m  |    0.006859  |     1.089031  |             |  9.2s"
       ]
      },
      {
       "output_type": "stream",
       "stream": "stdout",
       "text": [
        "\n",
        "  1143  |    0.007547  |    0.006916  |     1.091209  |             |  9.2s"
       ]
      },
      {
       "output_type": "stream",
       "stream": "stdout",
       "text": [
        "\n",
        "  1144  |    0.007526  |    0.006831  |     1.101873  |             |  9.2s"
       ]
      },
      {
       "output_type": "stream",
       "stream": "stdout",
       "text": [
        "\n",
        "  1145  |    0.007534  |  \u001b[32m  0.006804\u001b[0m  |     1.107213  |             |  9.2s"
       ]
      },
      {
       "output_type": "stream",
       "stream": "stdout",
       "text": [
        "\n",
        "  1146  |    0.007492  |    0.006840  |     1.095307  |             |  9.2s"
       ]
      },
      {
       "output_type": "stream",
       "stream": "stdout",
       "text": [
        "\n",
        "  1147  |    0.007485  |    0.006811  |     1.099020  |             |  9.2s"
       ]
      },
      {
       "output_type": "stream",
       "stream": "stdout",
       "text": [
        "\n",
        "  1148  |    0.007486  |    0.006806  |     1.099882  |             |  9.2s"
       ]
      },
      {
       "output_type": "stream",
       "stream": "stdout",
       "text": [
        "\n",
        "  1149  |  \u001b[94m  0.007459\u001b[0m  |    0.006830  |     1.092095  |             |  9.2s"
       ]
      },
      {
       "output_type": "stream",
       "stream": "stdout",
       "text": [
        "\n",
        "  1150  |    0.007523  |    0.006813  |     1.104213  |             |  9.2s"
       ]
      },
      {
       "output_type": "stream",
       "stream": "stdout",
       "text": [
        "\n",
        "  1151  |  \u001b[94m  0.007426\u001b[0m  |  \u001b[32m  0.006780\u001b[0m  |     1.095297  |             |  9.2s"
       ]
      },
      {
       "output_type": "stream",
       "stream": "stdout",
       "text": [
        "\n",
        "  1152  |    0.007538  |    0.006814  |     1.106299  |             |  9.2s"
       ]
      },
      {
       "output_type": "stream",
       "stream": "stdout",
       "text": [
        "\n",
        "  1153  |    0.007457  |    0.006819  |     1.093485  |             |  9.2s"
       ]
      },
      {
       "output_type": "stream",
       "stream": "stdout",
       "text": [
        "\n",
        "  1154  |    0.007450  |  \u001b[32m  0.006773\u001b[0m  |     1.099989  |             |  9.2s"
       ]
      },
      {
       "output_type": "stream",
       "stream": "stdout",
       "text": [
        "\n",
        "  1155  |    0.007447  |    0.006794  |     1.096010  |             |  9.2s"
       ]
      },
      {
       "output_type": "stream",
       "stream": "stdout",
       "text": [
        "\n",
        "  1156  |    0.007512  |    0.006802  |     1.104405  |             |  9.2s"
       ]
      },
      {
       "output_type": "stream",
       "stream": "stdout",
       "text": [
        "\n",
        "  1157  |    0.007497  |    0.006794  |     1.103446  |             |  9.2s"
       ]
      },
      {
       "output_type": "stream",
       "stream": "stdout",
       "text": [
        "\n",
        "  1158  |    0.007483  |    0.006843  |     1.093548  |             |  9.2s"
       ]
      },
      {
       "output_type": "stream",
       "stream": "stdout",
       "text": [
        "\n",
        "  1159  |    0.007430  |    0.006794  |     1.093572  |             |  9.2s"
       ]
      },
      {
       "output_type": "stream",
       "stream": "stdout",
       "text": [
        "\n",
        "  1160  |  \u001b[94m  0.007425\u001b[0m  |    0.006774  |     1.096208  |             |  9.2s"
       ]
      },
      {
       "output_type": "stream",
       "stream": "stdout",
       "text": [
        "\n",
        "  1161  |    0.007450  |    0.006790  |     1.097224  |             |  9.2s"
       ]
      },
      {
       "output_type": "stream",
       "stream": "stdout",
       "text": [
        "\n",
        "  1162  |  \u001b[94m  0.007401\u001b[0m  |    0.006797  |     1.088905  |             |  9.2s"
       ]
      },
      {
       "output_type": "stream",
       "stream": "stdout",
       "text": [
        "\n",
        "  1163  |    0.007464  |    0.006842  |     1.090852  |             |  9.2s"
       ]
      },
      {
       "output_type": "stream",
       "stream": "stdout",
       "text": [
        "\n",
        "  1164  |    0.007460  |    0.006805  |     1.096188  |             |  9.2s"
       ]
      },
      {
       "output_type": "stream",
       "stream": "stdout",
       "text": [
        "\n",
        "  1165  |  \u001b[94m  0.007396\u001b[0m  |    0.006802  |     1.087288  |             |  9.2s"
       ]
      },
      {
       "output_type": "stream",
       "stream": "stdout",
       "text": [
        "\n",
        "  1166  |  \u001b[94m  0.007362\u001b[0m  |  \u001b[32m  0.006769\u001b[0m  |     1.087661  |             |  9.2s"
       ]
      },
      {
       "output_type": "stream",
       "stream": "stdout",
       "text": [
        "\n",
        "  1167  |    0.007447  |    0.006786  |     1.097395  |             |  9.2s"
       ]
      },
      {
       "output_type": "stream",
       "stream": "stdout",
       "text": [
        "\n",
        "  1168  |    0.007438  |    0.006795  |     1.094575  |             |  9.2s"
       ]
      },
      {
       "output_type": "stream",
       "stream": "stdout",
       "text": [
        "\n",
        "  1169  |    0.007366  |  \u001b[32m  0.006768\u001b[0m  |     1.088272  |             |  9.2s"
       ]
      },
      {
       "output_type": "stream",
       "stream": "stdout",
       "text": [
        "\n",
        "  1170  |    0.007432  |  \u001b[32m  0.006752\u001b[0m  |     1.100702  |             |  9.2s"
       ]
      },
      {
       "output_type": "stream",
       "stream": "stdout",
       "text": [
        "\n",
        "  1171  |    0.007384  |    0.006767  |     1.091141  |             |  9.2s"
       ]
      },
      {
       "output_type": "stream",
       "stream": "stdout",
       "text": [
        "\n",
        "  1172  |    0.007434  |    0.006767  |     1.098423  |             |  9.2s"
       ]
      },
      {
       "output_type": "stream",
       "stream": "stdout",
       "text": [
        "\n",
        "  1173  |    0.007385  |  \u001b[32m  0.006744\u001b[0m  |     1.095105  |             |  9.2s"
       ]
      },
      {
       "output_type": "stream",
       "stream": "stdout",
       "text": [
        "\n",
        "  1174  |  \u001b[94m  0.007329\u001b[0m  |    0.006787  |     1.079896  |             |  9.2s"
       ]
      },
      {
       "output_type": "stream",
       "stream": "stdout",
       "text": [
        "\n",
        "  1175  |    0.007446  |  \u001b[32m  0.006738\u001b[0m  |     1.105120  |             |  9.2s"
       ]
      },
      {
       "output_type": "stream",
       "stream": "stdout",
       "text": [
        "\n",
        "  1176  |    0.007357  |  \u001b[32m  0.006722\u001b[0m  |     1.094458  |             |  9.2s"
       ]
      },
      {
       "output_type": "stream",
       "stream": "stdout",
       "text": [
        "\n",
        "  1177  |    0.007449  |    0.006738  |     1.105483  |             |  9.2s"
       ]
      },
      {
       "output_type": "stream",
       "stream": "stdout",
       "text": [
        "\n",
        "  1178  |    0.007417  |    0.006734  |     1.101361  |             |  9.2s"
       ]
      },
      {
       "output_type": "stream",
       "stream": "stdout",
       "text": [
        "\n",
        "  1179  |  \u001b[94m  0.007325\u001b[0m  |    0.006728  |     1.088773  |             |  9.2s"
       ]
      },
      {
       "output_type": "stream",
       "stream": "stdout",
       "text": [
        "\n",
        "  1180  |    0.007354  |    0.006725  |     1.093547  |             |  9.2s"
       ]
      },
      {
       "output_type": "stream",
       "stream": "stdout",
       "text": [
        "\n",
        "  1181  |    0.007383  |    0.006766  |     1.091137  |             |  9.2s"
       ]
      },
      {
       "output_type": "stream",
       "stream": "stdout",
       "text": [
        "\n",
        "  1182  |    0.007375  |    0.006747  |     1.093007  |             |  9.2s"
       ]
      },
      {
       "output_type": "stream",
       "stream": "stdout",
       "text": [
        "\n",
        "  1183  |    0.007397  |    0.006747  |     1.096369  |             |  9.2s"
       ]
      },
      {
       "output_type": "stream",
       "stream": "stdout",
       "text": [
        "\n",
        "  1184  |    0.007327  |    0.006744  |     1.086498  |             |  9.2s"
       ]
      },
      {
       "output_type": "stream",
       "stream": "stdout",
       "text": [
        "\n",
        "  1185  |    0.007372  |    0.006771  |     1.088761  |             |  9.2s"
       ]
      },
      {
       "output_type": "stream",
       "stream": "stdout",
       "text": [
        "\n",
        "  1186  |    0.007371  |    0.006742  |     1.093365  |             |  9.2s"
       ]
      },
      {
       "output_type": "stream",
       "stream": "stdout",
       "text": [
        "\n",
        "  1187  |    0.007345  |    0.006745  |     1.088950  |             |  9.2s"
       ]
      },
      {
       "output_type": "stream",
       "stream": "stdout",
       "text": [
        "\n",
        "  1188  |    0.007375  |    0.006744  |     1.093545  |             |  9.2s"
       ]
      },
      {
       "output_type": "stream",
       "stream": "stdout",
       "text": [
        "\n",
        "  1189  |  \u001b[94m  0.007297\u001b[0m  |    0.006727  |     1.084748  |             |  9.2s"
       ]
      },
      {
       "output_type": "stream",
       "stream": "stdout",
       "text": [
        "\n",
        "  1190  |    0.007328  |    0.006734  |     1.088122  |             |  9.2s"
       ]
      },
      {
       "output_type": "stream",
       "stream": "stdout",
       "text": [
        "\n",
        "  1191  |    0.007299  |    0.006739  |     1.082982  |             |  9.2s"
       ]
      },
      {
       "output_type": "stream",
       "stream": "stdout",
       "text": [
        "\n",
        "  1192  |    0.007347  |  \u001b[32m  0.006716\u001b[0m  |     1.093986  |             |  9.2s"
       ]
      },
      {
       "output_type": "stream",
       "stream": "stdout",
       "text": [
        "\n",
        "  1193  |    0.007304  |  \u001b[32m  0.006706\u001b[0m  |     1.089234  |             |  9.2s"
       ]
      },
      {
       "output_type": "stream",
       "stream": "stdout",
       "text": [
        "\n",
        "  1194  |  \u001b[94m  0.007256\u001b[0m  |    0.006714  |     1.080718  |             |  9.2s"
       ]
      },
      {
       "output_type": "stream",
       "stream": "stdout",
       "text": [
        "\n",
        "  1195  |    0.007369  |    0.006721  |     1.096518  |             |  9.3s"
       ]
      },
      {
       "output_type": "stream",
       "stream": "stdout",
       "text": [
        "\n",
        "  1196  |    0.007295  |  \u001b[32m  0.006704\u001b[0m  |     1.088241  |             |  9.4s"
       ]
      },
      {
       "output_type": "stream",
       "stream": "stdout",
       "text": [
        "\n",
        "  1197  |    0.007318  |  \u001b[32m  0.006669\u001b[0m  |     1.097292  |             |  9.2s"
       ]
      },
      {
       "output_type": "stream",
       "stream": "stdout",
       "text": [
        "\n",
        "  1198  |    0.007273  |    0.006673  |     1.089868  |             |  9.2s"
       ]
      },
      {
       "output_type": "stream",
       "stream": "stdout",
       "text": [
        "\n",
        "  1199  |    0.007302  |    0.006698  |     1.090068  |             |  9.2s"
       ]
      },
      {
       "output_type": "stream",
       "stream": "stdout",
       "text": [
        "\n",
        "  1200  |    0.007313  |    0.006673  |     1.095793  |             |  9.2s"
       ]
      },
      {
       "output_type": "stream",
       "stream": "stdout",
       "text": [
        "\n",
        "  1201  |    0.007263  |    0.006704  |     1.083519  |             |  9.2s"
       ]
      },
      {
       "output_type": "stream",
       "stream": "stdout",
       "text": [
        "\n",
        "  1202  |    0.007278  |    0.006709  |     1.084789  |             |  9.2s"
       ]
      },
      {
       "output_type": "stream",
       "stream": "stdout",
       "text": [
        "\n",
        "  1203  |    0.007267  |    0.006673  |     1.089156  |             |  9.2s"
       ]
      },
      {
       "output_type": "stream",
       "stream": "stdout",
       "text": [
        "\n",
        "  1204  |  \u001b[94m  0.007253\u001b[0m  |  \u001b[32m  0.006669\u001b[0m  |     1.087601  |             |  9.2s"
       ]
      },
      {
       "output_type": "stream",
       "stream": "stdout",
       "text": [
        "\n",
        "  1205  |    0.007326  |    0.006699  |     1.093493  |             |  9.2s"
       ]
      },
      {
       "output_type": "stream",
       "stream": "stdout",
       "text": [
        "\n",
        "  1206  |    0.007276  |    0.006703  |     1.085517  |             |  9.2s"
       ]
      },
      {
       "output_type": "stream",
       "stream": "stdout",
       "text": [
        "\n",
        "  1207  |  \u001b[94m  0.007253\u001b[0m  |    0.006695  |     1.083308  |             |  9.4s"
       ]
      },
      {
       "output_type": "stream",
       "stream": "stdout",
       "text": [
        "\n",
        "  1208  |    0.007255  |  \u001b[32m  0.006634\u001b[0m  |     1.093537  |             |  9.3s"
       ]
      },
      {
       "output_type": "stream",
       "stream": "stdout",
       "text": [
        "\n",
        "  1209  |  \u001b[94m  0.007248\u001b[0m  |    0.006745  |     1.074677  |             |  9.2s"
       ]
      },
      {
       "output_type": "stream",
       "stream": "stdout",
       "text": [
        "\n",
        "  1210  |  \u001b[94m  0.007236\u001b[0m  |    0.006717  |     1.077311  |             |  9.2s"
       ]
      },
      {
       "output_type": "stream",
       "stream": "stdout",
       "text": [
        "\n",
        "  1211  |    0.007312  |    0.006690  |     1.092897  |             |  9.4s"
       ]
      },
      {
       "output_type": "stream",
       "stream": "stdout",
       "text": [
        "\n",
        "  1212  |  \u001b[94m  0.007221\u001b[0m  |    0.006663  |     1.083742  |             |  9.7s"
       ]
      },
      {
       "output_type": "stream",
       "stream": "stdout",
       "text": [
        "\n",
        "  1213  |    0.007240  |    0.006691  |     1.082057  |             |  9.7s"
       ]
      },
      {
       "output_type": "stream",
       "stream": "stdout",
       "text": [
        "\n",
        "  1214  |    0.007274  |    0.006672  |     1.090175  |             |  9.7s"
       ]
      },
      {
       "output_type": "stream",
       "stream": "stdout",
       "text": [
        "\n",
        "  1215  |    0.007296  |    0.006682  |     1.091849  |             |  9.6s"
       ]
      },
      {
       "output_type": "stream",
       "stream": "stdout",
       "text": [
        "\n",
        "  1216  |    0.007266  |    0.006690  |     1.086044  |             |  9.3s"
       ]
      },
      {
       "output_type": "stream",
       "stream": "stdout",
       "text": [
        "\n",
        "  1217  |    0.007263  |    0.006659  |     1.090616  |             |  9.2s"
       ]
      },
      {
       "output_type": "stream",
       "stream": "stdout",
       "text": [
        "\n",
        "  1218  |  \u001b[94m  0.007214\u001b[0m  |    0.006721  |     1.073299  |             |  9.2s"
       ]
      },
      {
       "output_type": "stream",
       "stream": "stdout",
       "text": [
        "\n",
        "  1219  |    0.007217  |    0.006669  |     1.082241  |             |  9.2s"
       ]
      },
      {
       "output_type": "stream",
       "stream": "stdout",
       "text": [
        "\n",
        "  1220  |    0.007232  |    0.006655  |     1.086579  |             |  9.2s"
       ]
      },
      {
       "output_type": "stream",
       "stream": "stdout",
       "text": [
        "\n",
        "  1221  |  \u001b[94m  0.007193\u001b[0m  |    0.006663  |     1.079590  |             |  9.4s"
       ]
      },
      {
       "output_type": "stream",
       "stream": "stdout",
       "text": [
        "\n",
        "  1222  |    0.007219  |    0.006661  |     1.083748  |             |  9.4s"
       ]
      },
      {
       "output_type": "stream",
       "stream": "stdout",
       "text": [
        "\n",
        "  1223  |  \u001b[94m  0.007185\u001b[0m  |    0.006649  |     1.080749  |             |  9.2s"
       ]
      },
      {
       "output_type": "stream",
       "stream": "stdout",
       "text": [
        "\n",
        "  1224  |  \u001b[94m  0.007177\u001b[0m  |    0.006665  |     1.076818  |             |  9.2s"
       ]
      },
      {
       "output_type": "stream",
       "stream": "stdout",
       "text": [
        "\n",
        "  1225  |    0.007230  |  \u001b[32m  0.006628\u001b[0m  |     1.090865  |             |  9.2s"
       ]
      },
      {
       "output_type": "stream",
       "stream": "stdout",
       "text": [
        "\n",
        "  1226  |    0.007198  |    0.006703  |     1.073839  |             |  9.2s"
       ]
      },
      {
       "output_type": "stream",
       "stream": "stdout",
       "text": [
        "\n",
        "  1227  |  \u001b[94m  0.007136\u001b[0m  |    0.006666  |     1.070379  |             |  9.4s"
       ]
      },
      {
       "output_type": "stream",
       "stream": "stdout",
       "text": [
        "\n",
        "  1228  |    0.007192  |    0.006643  |     1.082685  |             |  9.5s"
       ]
      },
      {
       "output_type": "stream",
       "stream": "stdout",
       "text": [
        "\n",
        "  1229  |    0.007169  |    0.006662  |     1.076105  |             |  9.5s"
       ]
      },
      {
       "output_type": "stream",
       "stream": "stdout",
       "text": [
        "\n",
        "  1230  |    0.007175  |    0.006652  |     1.078692  |             |  9.5s"
       ]
      },
      {
       "output_type": "stream",
       "stream": "stdout",
       "text": [
        "\n",
        "  1231  |    0.007218  |    0.006700  |     1.077399  |             |  9.5s"
       ]
      },
      {
       "output_type": "stream",
       "stream": "stdout",
       "text": [
        "\n",
        "  1232  |    0.007163  |    0.006673  |     1.073511  |             |  9.5s"
       ]
      },
      {
       "output_type": "stream",
       "stream": "stdout",
       "text": [
        "\n",
        "  1233  |    0.007163  |    0.006678  |     1.072510  |             |  9.3s"
       ]
      },
      {
       "output_type": "stream",
       "stream": "stdout",
       "text": [
        "\n",
        "  1234  |  \u001b[94m  0.007128\u001b[0m  |  \u001b[32m  0.006616\u001b[0m  |     1.077456  |             |  9.3s"
       ]
      },
      {
       "output_type": "stream",
       "stream": "stdout",
       "text": [
        "\n",
        "  1235  |    0.007174  |    0.006638  |     1.080756  |             |  9.2s"
       ]
      },
      {
       "output_type": "stream",
       "stream": "stdout",
       "text": [
        "\n",
        "  1236  |    0.007198  |    0.006655  |     1.081665  |             |  9.2s"
       ]
      },
      {
       "output_type": "stream",
       "stream": "stdout",
       "text": [
        "\n",
        "  1237  |    0.007174  |    0.006684  |     1.073365  |             |  9.2s"
       ]
      },
      {
       "output_type": "stream",
       "stream": "stdout",
       "text": [
        "\n",
        "  1238  |    0.007142  |    0.006667  |     1.071123  |             |  9.2s"
       ]
      },
      {
       "output_type": "stream",
       "stream": "stdout",
       "text": [
        "\n",
        "  1239  |    0.007148  |    0.006631  |     1.077921  |             |  9.2s"
       ]
      },
      {
       "output_type": "stream",
       "stream": "stdout",
       "text": [
        "\n",
        "  1240  |    0.007196  |    0.006646  |     1.082849  |             |  9.3s"
       ]
      },
      {
       "output_type": "stream",
       "stream": "stdout",
       "text": [
        "\n",
        "  1241  |    0.007129  |    0.006645  |     1.072768  |             |  9.3s"
       ]
      },
      {
       "output_type": "stream",
       "stream": "stdout",
       "text": [
        "\n",
        "  1242  |  \u001b[94m  0.007122\u001b[0m  |  \u001b[32m  0.006599\u001b[0m  |     1.079204  |             |  9.3s"
       ]
      },
      {
       "output_type": "stream",
       "stream": "stdout",
       "text": [
        "\n",
        "  1243  |    0.007123  |    0.006631  |     1.074071  |             |  9.2s"
       ]
      },
      {
       "output_type": "stream",
       "stream": "stdout",
       "text": [
        "\n",
        "  1244  |  \u001b[94m  0.007118\u001b[0m  |    0.006607  |     1.077407  |             |  9.2s"
       ]
      },
      {
       "output_type": "stream",
       "stream": "stdout",
       "text": [
        "\n",
        "  1245  |    0.007177  |  \u001b[32m  0.006581\u001b[0m  |     1.090512  |             |  9.2s"
       ]
      },
      {
       "output_type": "stream",
       "stream": "stdout",
       "text": [
        "\n",
        "  1246  |  \u001b[94m  0.007035\u001b[0m  |    0.006600  |     1.065968  |             |  9.3s"
       ]
      },
      {
       "output_type": "stream",
       "stream": "stdout",
       "text": [
        "\n",
        "  1247  |    0.007114  |    0.006628  |     1.073459  |             |  9.6s"
       ]
      },
      {
       "output_type": "stream",
       "stream": "stdout",
       "text": [
        "\n",
        "  1248  |    0.007138  |    0.006588  |     1.083487  |             |  9.6s"
       ]
      },
      {
       "output_type": "stream",
       "stream": "stdout",
       "text": [
        "\n",
        "  1249  |    0.007076  |    0.006643  |     1.065140  |             |  9.7s"
       ]
      },
      {
       "output_type": "stream",
       "stream": "stdout",
       "text": [
        "\n",
        "  1250  |    0.007110  |    0.006623  |     1.073443  |             |  9.7s"
       ]
      },
      {
       "output_type": "stream",
       "stream": "stdout",
       "text": [
        "\n",
        "  1251  |    0.007054  |    0.006634  |     1.063256  |             |  9.6s"
       ]
      },
      {
       "output_type": "stream",
       "stream": "stdout",
       "text": [
        "\n",
        "  1252  |    0.007137  |    0.006634  |     1.075719  |             |  9.6s"
       ]
      },
      {
       "output_type": "stream",
       "stream": "stdout",
       "text": [
        "\n",
        "  1253  |    0.007085  |    0.006596  |     1.074208  |             |  9.6s"
       ]
      },
      {
       "output_type": "stream",
       "stream": "stdout",
       "text": [
        "\n",
        "  1254  |    0.007156  |    0.006590  |     1.085898  |             |  9.6s"
       ]
      },
      {
       "output_type": "stream",
       "stream": "stdout",
       "text": [
        "\n",
        "  1255  |    0.007201  |    0.006604  |     1.090353  |             |  9.6s"
       ]
      },
      {
       "output_type": "stream",
       "stream": "stdout",
       "text": [
        "\n",
        "  1256  |    0.007061  |  \u001b[32m  0.006573\u001b[0m  |     1.074327  |             |  9.7s"
       ]
      },
      {
       "output_type": "stream",
       "stream": "stdout",
       "text": [
        "\n",
        "  1257  |    0.007147  |    0.006598  |     1.083209  |             |  9.8s"
       ]
      },
      {
       "output_type": "stream",
       "stream": "stdout",
       "text": [
        "\n",
        "  1258  |    0.007068  |    0.006583  |     1.073669  |             |  9.7s"
       ]
      },
      {
       "output_type": "stream",
       "stream": "stdout",
       "text": [
        "\n",
        "  1259  |    0.007074  |    0.006603  |     1.071298  |             |  9.7s"
       ]
      },
      {
       "output_type": "stream",
       "stream": "stdout",
       "text": [
        "\n",
        "  1260  |    0.007059  |    0.006583  |     1.072241  |             |  9.7s"
       ]
      },
      {
       "output_type": "stream",
       "stream": "stdout",
       "text": [
        "\n",
        "  1261  |    0.007112  |    0.006597  |     1.078083  |             |  9.8s"
       ]
      },
      {
       "output_type": "stream",
       "stream": "stdout",
       "text": [
        "\n",
        "  1262  |    0.007051  |    0.006579  |     1.071697  |             |  9.8s"
       ]
      },
      {
       "output_type": "stream",
       "stream": "stdout",
       "text": [
        "\n",
        "  1263  |    0.007081  |    0.006587  |     1.074916  |             |  9.8s"
       ]
      },
      {
       "output_type": "stream",
       "stream": "stdout",
       "text": [
        "\n",
        "  1264  |    0.007091  |    0.006589  |     1.076124  |             |  9.9s"
       ]
      },
      {
       "output_type": "stream",
       "stream": "stdout",
       "text": [
        "\n",
        "  1265  |  \u001b[94m  0.007029\u001b[0m  |    0.006579  |     1.068450  |             |  9.8s"
       ]
      },
      {
       "output_type": "stream",
       "stream": "stdout",
       "text": [
        "\n",
        "  1266  |    0.007089  |  \u001b[32m  0.006571\u001b[0m  |     1.078781  |             |  9.7s"
       ]
      },
      {
       "output_type": "stream",
       "stream": "stdout",
       "text": [
        "\n",
        "  1267  |    0.007084  |  \u001b[32m  0.006557\u001b[0m  |     1.080306  |             |  9.8s"
       ]
      },
      {
       "output_type": "stream",
       "stream": "stdout",
       "text": [
        "\n",
        "  1268  |    0.007048  |    0.006581  |     1.070999  |             |  9.8s"
       ]
      },
      {
       "output_type": "stream",
       "stream": "stdout",
       "text": [
        "\n",
        "  1269  |    0.007105  |    0.006558  |     1.083498  |             |  9.8s"
       ]
      },
      {
       "output_type": "stream",
       "stream": "stdout",
       "text": [
        "\n",
        "  1270  |    0.007065  |    0.006562  |     1.076656  |             |  9.7s"
       ]
      },
      {
       "output_type": "stream",
       "stream": "stdout",
       "text": [
        "\n",
        "  1271  |    0.007032  |    0.006573  |     1.069770  |             |  9.8s"
       ]
      },
      {
       "output_type": "stream",
       "stream": "stdout",
       "text": [
        "\n",
        "  1272  |  \u001b[94m  0.007027\u001b[0m  |    0.006559  |     1.071351  |             |  9.8s"
       ]
      },
      {
       "output_type": "stream",
       "stream": "stdout",
       "text": [
        "\n",
        "  1273  |    0.007109  |  \u001b[32m  0.006555\u001b[0m  |     1.084464  |             |  9.8s"
       ]
      },
      {
       "output_type": "stream",
       "stream": "stdout",
       "text": [
        "\n",
        "  1274  |    0.007138  |    0.006568  |     1.086836  |             |  9.8s"
       ]
      },
      {
       "output_type": "stream",
       "stream": "stdout",
       "text": [
        "\n",
        "  1275  |  \u001b[94m  0.006973\u001b[0m  |    0.006600  |     1.056486  |             |  9.8s"
       ]
      },
      {
       "output_type": "stream",
       "stream": "stdout",
       "text": [
        "\n",
        "  1276  |    0.007047  |    0.006571  |     1.072375  |             |  9.8s"
       ]
      },
      {
       "output_type": "stream",
       "stream": "stdout",
       "text": [
        "\n",
        "  1277  |    0.007006  |    0.006583  |     1.064277  |             |  9.7s"
       ]
      },
      {
       "output_type": "stream",
       "stream": "stdout",
       "text": [
        "\n",
        "  1278  |    0.006997  |    0.006579  |     1.063602  |             |  9.6s"
       ]
      },
      {
       "output_type": "stream",
       "stream": "stdout",
       "text": [
        "\n",
        "  1279  |    0.007100  |  \u001b[32m  0.006533\u001b[0m  |     1.086862  |             |  9.8s"
       ]
      },
      {
       "output_type": "stream",
       "stream": "stdout",
       "text": [
        "\n",
        "  1280  |    0.006991  |    0.006552  |     1.067088  |             |  9.7s"
       ]
      },
      {
       "output_type": "stream",
       "stream": "stdout",
       "text": [
        "\n",
        "  1281  |    0.006985  |    0.006562  |     1.064447  |             |  9.6s"
       ]
      },
      {
       "output_type": "stream",
       "stream": "stdout",
       "text": [
        "\n",
        "  1282  |    0.007011  |    0.006562  |     1.068399  |             |  9.5s"
       ]
      },
      {
       "output_type": "stream",
       "stream": "stdout",
       "text": [
        "\n",
        "  1283  |  \u001b[94m  0.006922\u001b[0m  |  \u001b[32m  0.006525\u001b[0m  |     1.060894  |             |  9.6s"
       ]
      },
      {
       "output_type": "stream",
       "stream": "stdout",
       "text": [
        "\n",
        "  1284  |    0.007001  |    0.006545  |     1.069677  |             |  9.7s"
       ]
      },
      {
       "output_type": "stream",
       "stream": "stdout",
       "text": [
        "\n",
        "  1285  |    0.007044  |    0.006554  |     1.074826  |             |  9.7s"
       ]
      },
      {
       "output_type": "stream",
       "stream": "stdout",
       "text": [
        "\n",
        "  1286  |    0.006997  |    0.006544  |     1.069197  |             |  9.6s"
       ]
      },
      {
       "output_type": "stream",
       "stream": "stdout",
       "text": [
        "\n",
        "  1287  |    0.006963  |    0.006542  |     1.064417  |             |  9.6s"
       ]
      },
      {
       "output_type": "stream",
       "stream": "stdout",
       "text": [
        "\n",
        "  1288  |    0.006955  |    0.006549  |     1.061992  |             |  9.6s"
       ]
      },
      {
       "output_type": "stream",
       "stream": "stdout",
       "text": [
        "\n",
        "  1289  |    0.007062  |    0.006559  |     1.076737  |             |  9.6s"
       ]
      },
      {
       "output_type": "stream",
       "stream": "stdout",
       "text": [
        "\n",
        "  1290  |    0.006983  |    0.006561  |     1.064240  |             |  9.6s"
       ]
      },
      {
       "output_type": "stream",
       "stream": "stdout",
       "text": [
        "\n",
        "  1291  |    0.006977  |    0.006538  |     1.067278  |             |  9.5s"
       ]
      },
      {
       "output_type": "stream",
       "stream": "stdout",
       "text": [
        "\n",
        "  1292  |    0.006969  |    0.006547  |     1.064529  |             |  9.7s"
       ]
      },
      {
       "output_type": "stream",
       "stream": "stdout",
       "text": [
        "\n",
        "  1293  |    0.007001  |  \u001b[32m  0.006511\u001b[0m  |     1.075298  |             |  9.6s"
       ]
      },
      {
       "output_type": "stream",
       "stream": "stdout",
       "text": [
        "\n",
        "  1294  |    0.006986  |    0.006524  |     1.070819  |             |  9.6s"
       ]
      },
      {
       "output_type": "stream",
       "stream": "stdout",
       "text": [
        "\n",
        "  1295  |    0.006936  |    0.006568  |     1.056131  |             |  9.7s"
       ]
      },
      {
       "output_type": "stream",
       "stream": "stdout",
       "text": [
        "\n",
        "  1296  |    0.006961  |    0.006538  |     1.064765  |             |  9.7s"
       ]
      },
      {
       "output_type": "stream",
       "stream": "stdout",
       "text": [
        "\n",
        "  1297  |  \u001b[94m  0.006904\u001b[0m  |  \u001b[32m  0.006488\u001b[0m  |     1.064045  |             |  9.6s"
       ]
      },
      {
       "output_type": "stream",
       "stream": "stdout",
       "text": [
        "\n",
        "  1298  |    0.006984  |    0.006557  |     1.065159  |             |  9.6s"
       ]
      },
      {
       "output_type": "stream",
       "stream": "stdout",
       "text": [
        "\n",
        "  1299  |    0.006951  |    0.006535  |     1.063673  |             |  9.6s"
       ]
      },
      {
       "output_type": "stream",
       "stream": "stdout",
       "text": [
        "\n",
        "  1300  |    0.006920  |    0.006535  |     1.058935  |             |  9.6s"
       ]
      },
      {
       "output_type": "stream",
       "stream": "stdout",
       "text": [
        "\n",
        "  1301  |    0.006961  |    0.006506  |     1.069945  |             |  9.5s"
       ]
      },
      {
       "output_type": "stream",
       "stream": "stdout",
       "text": [
        "\n",
        "  1302  |    0.006936  |    0.006497  |     1.067516  |             |  9.7s"
       ]
      },
      {
       "output_type": "stream",
       "stream": "stdout",
       "text": [
        "\n",
        "  1303  |  \u001b[94m  0.006874\u001b[0m  |  \u001b[32m  0.006484\u001b[0m  |     1.060180  |             |  9.6s"
       ]
      },
      {
       "output_type": "stream",
       "stream": "stdout",
       "text": [
        "\n",
        "  1304  |    0.006896  |    0.006547  |     1.053392  |             |  9.6s"
       ]
      },
      {
       "output_type": "stream",
       "stream": "stdout",
       "text": [
        "\n",
        "  1305  |    0.007027  |    0.006510  |     1.079441  |             |  9.6s"
       ]
      },
      {
       "output_type": "stream",
       "stream": "stdout",
       "text": [
        "\n",
        "  1306  |    0.006901  |    0.006516  |     1.059006  |             |  9.5s"
       ]
      },
      {
       "output_type": "stream",
       "stream": "stdout",
       "text": [
        "\n",
        "  1307  |    0.006926  |    0.006515  |     1.063016  |             |  9.3s"
       ]
      },
      {
       "output_type": "stream",
       "stream": "stdout",
       "text": [
        "\n",
        "  1308  |    0.006940  |    0.006491  |     1.069153  |             |  9.2s"
       ]
      },
      {
       "output_type": "stream",
       "stream": "stdout",
       "text": [
        "\n",
        "  1309  |    0.006921  |    0.006565  |     1.054245  |             |  9.2s"
       ]
      },
      {
       "output_type": "stream",
       "stream": "stdout",
       "text": [
        "\n",
        "  1310  |    0.006915  |    0.006535  |     1.058125  |             |  9.3s"
       ]
      },
      {
       "output_type": "stream",
       "stream": "stdout",
       "text": [
        "\n",
        "  1311  |    0.006927  |    0.006502  |     1.065332  |             |  9.5s"
       ]
      },
      {
       "output_type": "stream",
       "stream": "stdout",
       "text": [
        "\n",
        "  1312  |  \u001b[94m  0.006865\u001b[0m  |    0.006568  |     1.045213  |             |  9.2s"
       ]
      },
      {
       "output_type": "stream",
       "stream": "stdout",
       "text": [
        "\n",
        "  1313  |    0.006916  |    0.006525  |     1.059965  |             |  9.2s"
       ]
      },
      {
       "output_type": "stream",
       "stream": "stdout",
       "text": [
        "\n",
        "  1314  |    0.006914  |    0.006511  |     1.061836  |             |  9.2s"
       ]
      },
      {
       "output_type": "stream",
       "stream": "stdout",
       "text": [
        "\n",
        "  1315  |    0.006904  |    0.006530  |     1.057319  |             |  9.2s"
       ]
      },
      {
       "output_type": "stream",
       "stream": "stdout",
       "text": [
        "\n",
        "  1316  |    0.006886  |    0.006525  |     1.055378  |             |  9.2s"
       ]
      },
      {
       "output_type": "stream",
       "stream": "stdout",
       "text": [
        "\n",
        "  1317  |    0.006926  |    0.006498  |     1.065955  |             |  9.2s"
       ]
      },
      {
       "output_type": "stream",
       "stream": "stdout",
       "text": [
        "\n",
        "  1318  |    0.006925  |  \u001b[32m  0.006471\u001b[0m  |     1.070122  |             |  9.2s"
       ]
      },
      {
       "output_type": "stream",
       "stream": "stdout",
       "text": [
        "\n",
        "  1319  |    0.006866  |    0.006476  |     1.060322  |             |  9.2s"
       ]
      },
      {
       "output_type": "stream",
       "stream": "stdout",
       "text": [
        "\n",
        "  1320  |  \u001b[94m  0.006855\u001b[0m  |    0.006482  |     1.057610  |             |  9.2s"
       ]
      },
      {
       "output_type": "stream",
       "stream": "stdout",
       "text": [
        "\n",
        "  1321  |    0.006940  |    0.006532  |     1.062488  |             |  9.2s"
       ]
      },
      {
       "output_type": "stream",
       "stream": "stdout",
       "text": [
        "\n",
        "  1322  |  \u001b[94m  0.006794\u001b[0m  |    0.006517  |     1.042593  |             |  9.2s"
       ]
      },
      {
       "output_type": "stream",
       "stream": "stdout",
       "text": [
        "\n",
        "  1323  |    0.006858  |    0.006497  |     1.055635  |             |  9.2s"
       ]
      },
      {
       "output_type": "stream",
       "stream": "stdout",
       "text": [
        "\n",
        "  1324  |    0.006909  |    0.006493  |     1.064127  |             |  9.3s"
       ]
      },
      {
       "output_type": "stream",
       "stream": "stdout",
       "text": [
        "\n",
        "  1325  |    0.006870  |    0.006495  |     1.057849  |             |  9.2s"
       ]
      },
      {
       "output_type": "stream",
       "stream": "stdout",
       "text": [
        "\n",
        "  1326  |    0.006844  |    0.006510  |     1.051306  |             |  9.2s"
       ]
      },
      {
       "output_type": "stream",
       "stream": "stdout",
       "text": [
        "\n",
        "  1327  |    0.006859  |    0.006508  |     1.053944  |             |  9.3s"
       ]
      },
      {
       "output_type": "stream",
       "stream": "stdout",
       "text": [
        "\n",
        "  1328  |    0.006849  |    0.006486  |     1.055922  |             |  9.2s"
       ]
      },
      {
       "output_type": "stream",
       "stream": "stdout",
       "text": [
        "\n",
        "  1329  |    0.006892  |    0.006480  |     1.063666  |             |  9.2s"
       ]
      },
      {
       "output_type": "stream",
       "stream": "stdout",
       "text": [
        "\n",
        "  1330  |    0.006863  |    0.006492  |     1.057102  |             |  9.2s"
       ]
      },
      {
       "output_type": "stream",
       "stream": "stdout",
       "text": [
        "\n",
        "  1331  |    0.006891  |    0.006507  |     1.059084  |             |  9.2s"
       ]
      },
      {
       "output_type": "stream",
       "stream": "stdout",
       "text": [
        "\n",
        "  1332  |    0.006878  |    0.006479  |     1.061627  |             |  9.2s"
       ]
      },
      {
       "output_type": "stream",
       "stream": "stdout",
       "text": [
        "\n",
        "  1333  |    0.006826  |  \u001b[32m  0.006460\u001b[0m  |     1.056690  |             |  9.2s"
       ]
      },
      {
       "output_type": "stream",
       "stream": "stdout",
       "text": [
        "\n",
        "  1334  |    0.006826  |    0.006503  |     1.049634  |             |  9.3s"
       ]
      },
      {
       "output_type": "stream",
       "stream": "stdout",
       "text": [
        "\n",
        "  1335  |    0.006823  |  \u001b[32m  0.006453\u001b[0m  |     1.057407  |             |  9.6s"
       ]
      },
      {
       "output_type": "stream",
       "stream": "stdout",
       "text": [
        "\n",
        "  1336  |    0.006825  |  \u001b[32m  0.006445\u001b[0m  |     1.058951  |             |  9.5s"
       ]
      },
      {
       "output_type": "stream",
       "stream": "stdout",
       "text": [
        "\n",
        "  1337  |    0.006824  |    0.006466  |     1.055293  |             |  9.2s"
       ]
      },
      {
       "output_type": "stream",
       "stream": "stdout",
       "text": [
        "\n",
        "  1338  |    0.006817  |    0.006462  |     1.055061  |             |  9.2s"
       ]
      },
      {
       "output_type": "stream",
       "stream": "stdout",
       "text": [
        "\n",
        "  1339  |    0.006812  |    0.006478  |     1.051527  |             |  9.2s"
       ]
      },
      {
       "output_type": "stream",
       "stream": "stdout",
       "text": [
        "\n",
        "  1340  |  \u001b[94m  0.006791\u001b[0m  |    0.006448  |     1.053208  |             |  9.2s"
       ]
      },
      {
       "output_type": "stream",
       "stream": "stdout",
       "text": [
        "\n",
        "  1341  |    0.006875  |  \u001b[32m  0.006441\u001b[0m  |     1.067322  |             |  9.2s"
       ]
      },
      {
       "output_type": "stream",
       "stream": "stdout",
       "text": [
        "\n",
        "  1342  |    0.006820  |    0.006476  |     1.053162  |             |  9.3s"
       ]
      },
      {
       "output_type": "stream",
       "stream": "stdout",
       "text": [
        "\n",
        "  1343  |  \u001b[94m  0.006763\u001b[0m  |    0.006452  |     1.048201  |             |  9.4s"
       ]
      },
      {
       "output_type": "stream",
       "stream": "stdout",
       "text": [
        "\n",
        "  1344  |    0.006787  |    0.006503  |     1.043601  |             |  9.4s"
       ]
      },
      {
       "output_type": "stream",
       "stream": "stdout",
       "text": [
        "\n",
        "  1345  |    0.006802  |    0.006482  |     1.049301  |             |  9.5s"
       ]
      },
      {
       "output_type": "stream",
       "stream": "stdout",
       "text": [
        "\n",
        "  1346  |    0.006816  |    0.006473  |     1.053107  |             |  9.5s"
       ]
      },
      {
       "output_type": "stream",
       "stream": "stdout",
       "text": [
        "\n",
        "  1347  |    0.006774  |    0.006530  |     1.037516  |             |  9.4s"
       ]
      },
      {
       "output_type": "stream",
       "stream": "stdout",
       "text": [
        "\n",
        "  1348  |    0.006821  |    0.006464  |     1.055325  |             |  9.5s"
       ]
      },
      {
       "output_type": "stream",
       "stream": "stdout",
       "text": [
        "\n",
        "  1349  |    0.006769  |    0.006464  |     1.047160  |             |  9.3s"
       ]
      },
      {
       "output_type": "stream",
       "stream": "stdout",
       "text": [
        "\n",
        "  1350  |    0.006815  |    0.006448  |     1.056913  |             |  9.2s"
       ]
      },
      {
       "output_type": "stream",
       "stream": "stdout",
       "text": [
        "\n",
        "  1351  |    0.006820  |  \u001b[32m  0.006413\u001b[0m  |     1.063540  |             |  9.3s"
       ]
      },
      {
       "output_type": "stream",
       "stream": "stdout",
       "text": [
        "\n",
        "  1352  |  \u001b[94m  0.006736\u001b[0m  |    0.006450  |     1.044198  |             |  9.3s"
       ]
      },
      {
       "output_type": "stream",
       "stream": "stdout",
       "text": [
        "\n",
        "  1353  |    0.006745  |    0.006465  |     1.043277  |             |  9.6s"
       ]
      },
      {
       "output_type": "stream",
       "stream": "stdout",
       "text": [
        "\n",
        "  1354  |    0.006826  |    0.006494  |     1.051141  |             |  9.6s"
       ]
      },
      {
       "output_type": "stream",
       "stream": "stdout",
       "text": [
        "\n",
        "  1355  |    0.006831  |    0.006426  |     1.062915  |             |  9.5s"
       ]
      },
      {
       "output_type": "stream",
       "stream": "stdout",
       "text": [
        "\n",
        "  1356  |    0.006791  |    0.006459  |     1.051416  |             |  9.5s"
       ]
      },
      {
       "output_type": "stream",
       "stream": "stdout",
       "text": [
        "\n",
        "  1357  |    0.006767  |    0.006464  |     1.046853  |             |  9.5s"
       ]
      },
      {
       "output_type": "stream",
       "stream": "stdout",
       "text": [
        "\n",
        "  1358  |    0.006753  |    0.006449  |     1.047071  |             |  9.5s"
       ]
      },
      {
       "output_type": "stream",
       "stream": "stdout",
       "text": [
        "\n",
        "  1359  |    0.006819  |    0.006451  |     1.057130  |             |  9.5s"
       ]
      },
      {
       "output_type": "stream",
       "stream": "stdout",
       "text": [
        "\n",
        "  1360  |  \u001b[94m  0.006733\u001b[0m  |    0.006428  |     1.047581  |             |  9.5s"
       ]
      },
      {
       "output_type": "stream",
       "stream": "stdout",
       "text": [
        "\n",
        "  1361  |  \u001b[94m  0.006731\u001b[0m  |    0.006450  |     1.043525  |             |  9.5s"
       ]
      },
      {
       "output_type": "stream",
       "stream": "stdout",
       "text": [
        "\n",
        "  1362  |    0.006783  |    0.006434  |     1.054237  |             |  9.5s"
       ]
      },
      {
       "output_type": "stream",
       "stream": "stdout",
       "text": [
        "\n",
        "  1363  |    0.006777  |    0.006429  |     1.054176  |             |  9.5s"
       ]
      },
      {
       "output_type": "stream",
       "stream": "stdout",
       "text": [
        "\n",
        "  1364  |    0.006789  |  \u001b[32m  0.006400\u001b[0m  |     1.060764  |             |  9.5s"
       ]
      },
      {
       "output_type": "stream",
       "stream": "stdout",
       "text": [
        "\n",
        "  1365  |    0.006758  |    0.006417  |     1.053107  |             |  9.6s"
       ]
      },
      {
       "output_type": "stream",
       "stream": "stdout",
       "text": [
        "\n",
        "  1366  |    0.006735  |    0.006457  |     1.042971  |             |  9.6s"
       ]
      },
      {
       "output_type": "stream",
       "stream": "stdout",
       "text": [
        "\n",
        "  1367  |  \u001b[94m  0.006720\u001b[0m  |    0.006427  |     1.045510  |             |  9.6s"
       ]
      },
      {
       "output_type": "stream",
       "stream": "stdout",
       "text": [
        "\n",
        "  1368  |    0.006745  |    0.006437  |     1.047948  |             |  9.6s"
       ]
      },
      {
       "output_type": "stream",
       "stream": "stdout",
       "text": [
        "\n",
        "  1369  |    0.006732  |    0.006435  |     1.046067  |             |  9.6s"
       ]
      },
      {
       "output_type": "stream",
       "stream": "stdout",
       "text": [
        "\n",
        "  1370  |    0.006757  |    0.006450  |     1.047486  |             |  9.6s"
       ]
      },
      {
       "output_type": "stream",
       "stream": "stdout",
       "text": [
        "\n",
        "  1371  |  \u001b[94m  0.006705\u001b[0m  |    0.006419  |     1.044533  |             |  9.6s"
       ]
      },
      {
       "output_type": "stream",
       "stream": "stdout",
       "text": [
        "\n",
        "  1372  |    0.006714  |    0.006427  |     1.044681  |             |  9.6s"
       ]
      },
      {
       "output_type": "stream",
       "stream": "stdout",
       "text": [
        "\n",
        "  1373  |    0.006723  |    0.006425  |     1.046333  |             |  9.6s"
       ]
      },
      {
       "output_type": "stream",
       "stream": "stdout",
       "text": [
        "\n",
        "  1374  |    0.006743  |    0.006423  |     1.049879  |             |  9.5s"
       ]
      },
      {
       "output_type": "stream",
       "stream": "stdout",
       "text": [
        "\n",
        "  1375  |  \u001b[94m  0.006697\u001b[0m  |  \u001b[32m  0.006387\u001b[0m  |     1.048581  |             |  9.5s"
       ]
      },
      {
       "output_type": "stream",
       "stream": "stdout",
       "text": [
        "\n",
        "  1376  |  \u001b[94m  0.006692\u001b[0m  |    0.006433  |     1.040297  |             |  9.5s"
       ]
      },
      {
       "output_type": "stream",
       "stream": "stdout",
       "text": [
        "\n",
        "  1377  |    0.006707  |    0.006460  |     1.038183  |             |  9.5s"
       ]
      },
      {
       "output_type": "stream",
       "stream": "stdout",
       "text": [
        "\n",
        "  1378  |    0.006734  |    0.006415  |     1.049696  |             |  9.3s"
       ]
      },
      {
       "output_type": "stream",
       "stream": "stdout",
       "text": [
        "\n",
        "  1379  |    0.006736  |    0.006398  |     1.052771  |             |  9.2s"
       ]
      },
      {
       "output_type": "stream",
       "stream": "stdout",
       "text": [
        "\n",
        "  1380  |  \u001b[94m  0.006632\u001b[0m  |  \u001b[32m  0.006386\u001b[0m  |     1.038446  |             |  9.3s"
       ]
      },
      {
       "output_type": "stream",
       "stream": "stdout",
       "text": [
        "\n",
        "  1381  |    0.006671  |    0.006388  |     1.044281  |             |  9.2s"
       ]
      },
      {
       "output_type": "stream",
       "stream": "stdout",
       "text": [
        "\n",
        "  1382  |    0.006698  |    0.006401  |     1.046449  |             |  9.4s"
       ]
      },
      {
       "output_type": "stream",
       "stream": "stdout",
       "text": [
        "\n",
        "  1383  |    0.006709  |    0.006418  |     1.045399  |             |  9.5s"
       ]
      },
      {
       "output_type": "stream",
       "stream": "stdout",
       "text": [
        "\n",
        "  1384  |    0.006693  |  \u001b[32m  0.006356\u001b[0m  |     1.052983  |             |  9.6s"
       ]
      },
      {
       "output_type": "stream",
       "stream": "stdout",
       "text": [
        "\n",
        "  1385  |    0.006680  |    0.006397  |     1.044155  |             |  9.7s"
       ]
      },
      {
       "output_type": "stream",
       "stream": "stdout",
       "text": [
        "\n",
        "  1386  |  \u001b[94m  0.006613\u001b[0m  |    0.006392  |     1.034691  |             |  9.7s"
       ]
      },
      {
       "output_type": "stream",
       "stream": "stdout",
       "text": [
        "\n",
        "  1387  |    0.006689  |    0.006424  |     1.041240  |             |  9.6s"
       ]
      },
      {
       "output_type": "stream",
       "stream": "stdout",
       "text": [
        "\n",
        "  1388  |    0.006676  |    0.006386  |     1.045504  |             |  9.6s"
       ]
      },
      {
       "output_type": "stream",
       "stream": "stdout",
       "text": [
        "\n",
        "  1389  |    0.006660  |    0.006415  |     1.038060  |             |  9.6s"
       ]
      },
      {
       "output_type": "stream",
       "stream": "stdout",
       "text": [
        "\n",
        "  1390  |    0.006706  |    0.006394  |     1.048657  |             |  9.5s"
       ]
      },
      {
       "output_type": "stream",
       "stream": "stdout",
       "text": [
        "\n",
        "  1391  |    0.006644  |    0.006382  |     1.041093  |             |  9.5s"
       ]
      },
      {
       "output_type": "stream",
       "stream": "stdout",
       "text": [
        "\n",
        "  1392  |    0.006657  |    0.006384  |     1.042696  |             |  9.5s"
       ]
      },
      {
       "output_type": "stream",
       "stream": "stdout",
       "text": [
        "\n",
        "  1393  |    0.006633  |    0.006401  |     1.036369  |             |  9.5s"
       ]
      },
      {
       "output_type": "stream",
       "stream": "stdout",
       "text": [
        "\n",
        "  1394  |    0.006705  |  \u001b[32m  0.006356\u001b[0m  |     1.054878  |             |  9.5s"
       ]
      },
      {
       "output_type": "stream",
       "stream": "stdout",
       "text": [
        "\n",
        "  1395  |    0.006633  |    0.006413  |     1.034241  |             |  9.5s"
       ]
      },
      {
       "output_type": "stream",
       "stream": "stdout",
       "text": [
        "\n",
        "  1396  |    0.006623  |    0.006405  |     1.034037  |             |  9.5s"
       ]
      },
      {
       "output_type": "stream",
       "stream": "stdout",
       "text": [
        "\n",
        "  1397  |    0.006661  |    0.006385  |     1.043203  |             |  9.5s"
       ]
      },
      {
       "output_type": "stream",
       "stream": "stdout",
       "text": [
        "\n",
        "  1398  |    0.006637  |  \u001b[32m  0.006348\u001b[0m  |     1.045658  |             |  9.6s"
       ]
      },
      {
       "output_type": "stream",
       "stream": "stdout",
       "text": [
        "\n",
        "  1399  |    0.006626  |    0.006387  |     1.037389  |             |  9.5s"
       ]
      },
      {
       "output_type": "stream",
       "stream": "stdout",
       "text": [
        "\n",
        "  1400  |    0.006680  |    0.006420  |     1.040462  |             |  9.5s"
       ]
      },
      {
       "output_type": "stream",
       "stream": "stdout",
       "text": [
        "\n",
        "  1401  |    0.006632  |    0.006352  |     1.044188  |             |  9.5s"
       ]
      },
      {
       "output_type": "stream",
       "stream": "stdout",
       "text": [
        "\n",
        "  1402  |    0.006693  |  \u001b[32m  0.006345\u001b[0m  |     1.054959  |             |  9.5s"
       ]
      },
      {
       "output_type": "stream",
       "stream": "stdout",
       "text": [
        "\n",
        "  1403  |    0.006647  |  \u001b[32m  0.006295\u001b[0m  |     1.055947  |             |  9.5s"
       ]
      },
      {
       "output_type": "stream",
       "stream": "stdout",
       "text": [
        "\n",
        "  1404  |    0.006626  |    0.006358  |     1.042101  |             |  9.5s"
       ]
      },
      {
       "output_type": "stream",
       "stream": "stdout",
       "text": [
        "\n",
        "  1405  |    0.006622  |    0.006340  |     1.044451  |             |  9.5s"
       ]
      },
      {
       "output_type": "stream",
       "stream": "stdout",
       "text": [
        "\n",
        "  1406  |    0.006626  |    0.006368  |     1.040497  |             |  9.5s"
       ]
      },
      {
       "output_type": "stream",
       "stream": "stdout",
       "text": [
        "\n",
        "  1407  |  \u001b[94m  0.006535\u001b[0m  |    0.006354  |     1.028569  |             |  9.5s"
       ]
      },
      {
       "output_type": "stream",
       "stream": "stdout",
       "text": [
        "\n",
        "  1408  |    0.006619  |    0.006355  |     1.041429  |             |  9.3s"
       ]
      },
      {
       "output_type": "stream",
       "stream": "stdout",
       "text": [
        "\n",
        "  1409  |    0.006577  |    0.006353  |     1.035275  |             |  9.2s"
       ]
      },
      {
       "output_type": "stream",
       "stream": "stdout",
       "text": [
        "\n",
        "  1410  |    0.006623  |    0.006330  |     1.046212  |             |  9.2s"
       ]
      },
      {
       "output_type": "stream",
       "stream": "stdout",
       "text": [
        "\n",
        "  1411  |    0.006668  |    0.006363  |     1.047824  |             |  9.2s"
       ]
      },
      {
       "output_type": "stream",
       "stream": "stdout",
       "text": [
        "\n",
        "  1412  |    0.006597  |    0.006345  |     1.039773  |             |  9.2s"
       ]
      },
      {
       "output_type": "stream",
       "stream": "stdout",
       "text": [
        "\n",
        "  1413  |    0.006581  |    0.006325  |     1.040439  |             |  9.2s"
       ]
      },
      {
       "output_type": "stream",
       "stream": "stdout",
       "text": [
        "\n",
        "  1414  |    0.006581  |    0.006340  |     1.037886  |             |  9.4s"
       ]
      },
      {
       "output_type": "stream",
       "stream": "stdout",
       "text": [
        "\n",
        "  1415  |    0.006612  |    0.006377  |     1.036947  |             |  9.5s"
       ]
      },
      {
       "output_type": "stream",
       "stream": "stdout",
       "text": [
        "\n",
        "  1416  |    0.006578  |    0.006362  |     1.033916  |             |  9.6s"
       ]
      },
      {
       "output_type": "stream",
       "stream": "stdout",
       "text": [
        "\n",
        "  1417  |    0.006556  |    0.006361  |     1.030657  |             |  9.6s"
       ]
      },
      {
       "output_type": "stream",
       "stream": "stdout",
       "text": [
        "\n",
        "  1418  |    0.006563  |    0.006373  |     1.029763  |             |  9.5s"
       ]
      },
      {
       "output_type": "stream",
       "stream": "stdout",
       "text": [
        "\n",
        "  1419  |    0.006605  |    0.006366  |     1.037632  |             |  9.7s"
       ]
      },
      {
       "output_type": "stream",
       "stream": "stdout",
       "text": [
        "\n",
        "  1420  |    0.006553  |    0.006353  |     1.031476  |             |  9.7s"
       ]
      },
      {
       "output_type": "stream",
       "stream": "stdout",
       "text": [
        "\n",
        "  1421  |  \u001b[94m  0.006528\u001b[0m  |    0.006366  |     1.025380  |             |  9.6s"
       ]
      },
      {
       "output_type": "stream",
       "stream": "stdout",
       "text": [
        "\n",
        "  1422  |    0.006544  |    0.006321  |     1.035162  |             |  9.6s"
       ]
      },
      {
       "output_type": "stream",
       "stream": "stdout",
       "text": [
        "\n",
        "  1423  |    0.006599  |    0.006347  |     1.039693  |             |  9.6s"
       ]
      },
      {
       "output_type": "stream",
       "stream": "stdout",
       "text": [
        "\n",
        "  1424  |    0.006599  |    0.006340  |     1.040967  |             |  9.6s"
       ]
      },
      {
       "output_type": "stream",
       "stream": "stdout",
       "text": [
        "\n",
        "  1425  |    0.006586  |    0.006363  |     1.034912  |             |  9.5s"
       ]
      },
      {
       "output_type": "stream",
       "stream": "stdout",
       "text": [
        "\n",
        "  1426  |    0.006640  |    0.006357  |     1.044502  |             |  9.6s"
       ]
      },
      {
       "output_type": "stream",
       "stream": "stdout",
       "text": [
        "\n",
        "  1427  |    0.006580  |    0.006358  |     1.035024  |             |  9.6s"
       ]
      },
      {
       "output_type": "stream",
       "stream": "stdout",
       "text": [
        "\n",
        "  1428  |    0.006637  |    0.006336  |     1.047508  |             |  9.5s"
       ]
      },
      {
       "output_type": "stream",
       "stream": "stdout",
       "text": [
        "\n",
        "  1429  |    0.006535  |    0.006341  |     1.030448  |             |  9.3s"
       ]
      },
      {
       "output_type": "stream",
       "stream": "stdout",
       "text": [
        "\n",
        "  1430  |    0.006644  |    0.006347  |     1.046752  |             |  9.2s"
       ]
      },
      {
       "output_type": "stream",
       "stream": "stdout",
       "text": [
        "\n",
        "  1431  |  \u001b[94m  0.006524\u001b[0m  |    0.006350  |     1.027439  |             |  9.2s"
       ]
      },
      {
       "output_type": "stream",
       "stream": "stdout",
       "text": [
        "\n",
        "  1432  |    0.006530  |    0.006339  |     1.030111  |             |  9.2s"
       ]
      },
      {
       "output_type": "stream",
       "stream": "stdout",
       "text": [
        "\n",
        "  1433  |  \u001b[94m  0.006509\u001b[0m  |    0.006325  |     1.029146  |             |  9.2s"
       ]
      },
      {
       "output_type": "stream",
       "stream": "stdout",
       "text": [
        "\n",
        "  1434  |    0.006524  |    0.006336  |     1.029620  |             |  9.3s"
       ]
      },
      {
       "output_type": "stream",
       "stream": "stdout",
       "text": [
        "\n",
        "  1435  |    0.006612  |    0.006342  |     1.042722  |             |  9.5s"
       ]
      },
      {
       "output_type": "stream",
       "stream": "stdout",
       "text": [
        "\n",
        "  1436  |    0.006580  |    0.006323  |     1.040782  |             |  9.6s"
       ]
      },
      {
       "output_type": "stream",
       "stream": "stdout",
       "text": [
        "\n",
        "  1437  |    0.006539  |    0.006318  |     1.035075  |             |  9.5s"
       ]
      },
      {
       "output_type": "stream",
       "stream": "stdout",
       "text": [
        "\n",
        "  1438  |    0.006528  |    0.006327  |     1.031648  |             |  9.5s"
       ]
      },
      {
       "output_type": "stream",
       "stream": "stdout",
       "text": [
        "\n",
        "  1439  |    0.006560  |    0.006349  |     1.033289  |             |  9.5s"
       ]
      },
      {
       "output_type": "stream",
       "stream": "stdout",
       "text": [
        "\n",
        "  1440  |    0.006594  |    0.006315  |     1.044192  |             |  9.5s"
       ]
      },
      {
       "output_type": "stream",
       "stream": "stdout",
       "text": [
        "\n",
        "  1441  |    0.006590  |  \u001b[32m  0.006292\u001b[0m  |     1.047217  |             |  9.5s"
       ]
      },
      {
       "output_type": "stream",
       "stream": "stdout",
       "text": [
        "\n",
        "  1442  |  \u001b[94m  0.006488\u001b[0m  |    0.006329  |     1.025098  |             |  9.5s"
       ]
      },
      {
       "output_type": "stream",
       "stream": "stdout",
       "text": [
        "\n",
        "  1443  |    0.006548  |    0.006298  |     1.039570  |             |  9.5s"
       ]
      },
      {
       "output_type": "stream",
       "stream": "stdout",
       "text": [
        "\n",
        "  1444  |    0.006506  |    0.006309  |     1.031252  |             |  9.5s"
       ]
      },
      {
       "output_type": "stream",
       "stream": "stdout",
       "text": [
        "\n",
        "  1445  |  \u001b[94m  0.006485\u001b[0m  |  \u001b[32m  0.006292\u001b[0m  |     1.030701  |             |  9.5s"
       ]
      },
      {
       "output_type": "stream",
       "stream": "stdout",
       "text": [
        "\n",
        "  1446  |  \u001b[94m  0.006484\u001b[0m  |    0.006325  |     1.025044  |             |  9.5s"
       ]
      },
      {
       "output_type": "stream",
       "stream": "stdout",
       "text": [
        "\n",
        "  1447  |    0.006518  |    0.006345  |     1.027227  |             |  9.5s"
       ]
      },
      {
       "output_type": "stream",
       "stream": "stdout",
       "text": [
        "\n",
        "  1448  |    0.006544  |    0.006327  |     1.034249  |             |  9.5s"
       ]
      },
      {
       "output_type": "stream",
       "stream": "stdout",
       "text": [
        "\n",
        "  1449  |    0.006532  |  \u001b[32m  0.006291\u001b[0m  |     1.038262  |             |  9.5s"
       ]
      },
      {
       "output_type": "stream",
       "stream": "stdout",
       "text": [
        "\n",
        "  1450  |    0.006486  |    0.006322  |     1.025954  |             |  9.5s"
       ]
      },
      {
       "output_type": "stream",
       "stream": "stdout",
       "text": [
        "\n",
        "  1451  |    0.006504  |    0.006316  |     1.029698  |             |  9.5s"
       ]
      },
      {
       "output_type": "stream",
       "stream": "stdout",
       "text": [
        "\n",
        "  1452  |    0.006504  |    0.006295  |     1.033127  |             |  9.5s"
       ]
      },
      {
       "output_type": "stream",
       "stream": "stdout",
       "text": [
        "\n",
        "  1453  |    0.006495  |    0.006297  |     1.031494  |             |  9.5s"
       ]
      },
      {
       "output_type": "stream",
       "stream": "stdout",
       "text": [
        "\n",
        "  1454  |  \u001b[94m  0.006481\u001b[0m  |    0.006317  |     1.025975  |             |  9.6s"
       ]
      },
      {
       "output_type": "stream",
       "stream": "stdout",
       "text": [
        "\n",
        "  1455  |  \u001b[94m  0.006435\u001b[0m  |    0.006315  |     1.019010  |             |  9.4s"
       ]
      },
      {
       "output_type": "stream",
       "stream": "stdout",
       "text": [
        "\n",
        "  1456  |    0.006510  |  \u001b[32m  0.006258\u001b[0m  |     1.040199  |             |  9.3s"
       ]
      },
      {
       "output_type": "stream",
       "stream": "stdout",
       "text": [
        "\n",
        "  1457  |    0.006508  |    0.006303  |     1.032461  |             |  9.2s"
       ]
      },
      {
       "output_type": "stream",
       "stream": "stdout",
       "text": [
        "\n",
        "  1458  |    0.006486  |    0.006318  |     1.026547  |             |  9.3s"
       ]
      },
      {
       "output_type": "stream",
       "stream": "stdout",
       "text": [
        "\n",
        "  1459  |    0.006448  |    0.006293  |     1.024663  |             |  9.2s"
       ]
      },
      {
       "output_type": "stream",
       "stream": "stdout",
       "text": [
        "\n",
        "  1460  |    0.006495  |    0.006295  |     1.031752  |             |  9.2s"
       ]
      },
      {
       "output_type": "stream",
       "stream": "stdout",
       "text": [
        "\n",
        "  1461  |    0.006447  |    0.006316  |     1.020714  |             |  9.2s"
       ]
      },
      {
       "output_type": "stream",
       "stream": "stdout",
       "text": [
        "\n",
        "  1462  |    0.006474  |    0.006286  |     1.029897  |             |  9.2s"
       ]
      },
      {
       "output_type": "stream",
       "stream": "stdout",
       "text": [
        "\n",
        "  1463  |    0.006500  |    0.006312  |     1.029702  |             |  9.2s"
       ]
      },
      {
       "output_type": "stream",
       "stream": "stdout",
       "text": [
        "\n",
        "  1464  |    0.006491  |    0.006296  |     1.030850  |             |  9.2s"
       ]
      },
      {
       "output_type": "stream",
       "stream": "stdout",
       "text": [
        "\n",
        "  1465  |    0.006439  |    0.006316  |     1.019502  |             |  9.2s"
       ]
      },
      {
       "output_type": "stream",
       "stream": "stdout",
       "text": [
        "\n",
        "  1466  |    0.006481  |  \u001b[32m  0.006250\u001b[0m  |     1.036878  |             |  9.2s"
       ]
      },
      {
       "output_type": "stream",
       "stream": "stdout",
       "text": [
        "\n",
        "  1467  |    0.006439  |    0.006298  |     1.022382  |             |  9.2s"
       ]
      },
      {
       "output_type": "stream",
       "stream": "stdout",
       "text": [
        "\n",
        "  1468  |    0.006454  |    0.006310  |     1.022783  |             |  9.2s"
       ]
      },
      {
       "output_type": "stream",
       "stream": "stdout",
       "text": [
        "\n",
        "  1469  |    0.006451  |    0.006304  |     1.023384  |             |  9.2s"
       ]
      },
      {
       "output_type": "stream",
       "stream": "stdout",
       "text": [
        "\n",
        "  1470  |    0.006496  |    0.006254  |     1.038738  |             |  9.2s"
       ]
      },
      {
       "output_type": "stream",
       "stream": "stdout",
       "text": [
        "\n",
        "  1471  |    0.006470  |    0.006284  |     1.029475  |             |  9.2s"
       ]
      },
      {
       "output_type": "stream",
       "stream": "stdout",
       "text": [
        "\n",
        "  1472  |  \u001b[94m  0.006373\u001b[0m  |    0.006279  |     1.014963  |             |  9.2s"
       ]
      },
      {
       "output_type": "stream",
       "stream": "stdout",
       "text": [
        "\n",
        "  1473  |    0.006419  |    0.006261  |     1.025217  |             |  9.3s"
       ]
      },
      {
       "output_type": "stream",
       "stream": "stdout",
       "text": [
        "\n",
        "  1474  |    0.006441  |    0.006281  |     1.025512  |             |  9.2s"
       ]
      },
      {
       "output_type": "stream",
       "stream": "stdout",
       "text": [
        "\n",
        "  1475  |    0.006419  |    0.006327  |     1.014651  |             |  9.2s"
       ]
      },
      {
       "output_type": "stream",
       "stream": "stdout",
       "text": [
        "\n",
        "  1476  |    0.006446  |    0.006282  |     1.026126  |             |  9.2s"
       ]
      },
      {
       "output_type": "stream",
       "stream": "stdout",
       "text": [
        "\n",
        "  1477  |    0.006409  |    0.006254  |     1.024769  |             |  9.3s"
       ]
      },
      {
       "output_type": "stream",
       "stream": "stdout",
       "text": [
        "\n",
        "  1478  |    0.006423  |    0.006252  |     1.027281  |             |  9.2s"
       ]
      },
      {
       "output_type": "stream",
       "stream": "stdout",
       "text": [
        "\n",
        "  1479  |    0.006452  |  \u001b[32m  0.006248\u001b[0m  |     1.032681  |             |  9.3s"
       ]
      },
      {
       "output_type": "stream",
       "stream": "stdout",
       "text": [
        "\n",
        "  1480  |    0.006473  |    0.006262  |     1.033672  |             |  9.3s"
       ]
      },
      {
       "output_type": "stream",
       "stream": "stdout",
       "text": [
        "\n",
        "  1481  |    0.006442  |  \u001b[32m  0.006227\u001b[0m  |     1.034395  |             |  9.3s"
       ]
      },
      {
       "output_type": "stream",
       "stream": "stdout",
       "text": [
        "\n",
        "  1482  |  \u001b[94m  0.006370\u001b[0m  |    0.006301  |     1.010955  |             |  9.3s"
       ]
      },
      {
       "output_type": "stream",
       "stream": "stdout",
       "text": [
        "\n",
        "  1483  |    0.006421  |    0.006308  |     1.017890  |             |  9.4s"
       ]
      },
      {
       "output_type": "stream",
       "stream": "stdout",
       "text": [
        "\n",
        "  1484  |  \u001b[94m  0.006361\u001b[0m  |    0.006261  |     1.015961  |             |  9.2s"
       ]
      },
      {
       "output_type": "stream",
       "stream": "stdout",
       "text": [
        "\n",
        "  1485  |    0.006377  |    0.006273  |     1.016499  |             |  9.2s"
       ]
      },
      {
       "output_type": "stream",
       "stream": "stdout",
       "text": [
        "\n",
        "  1486  |    0.006403  |    0.006279  |     1.019830  |             |  9.5s"
       ]
      },
      {
       "output_type": "stream",
       "stream": "stdout",
       "text": [
        "\n",
        "  1487  |    0.006448  |    0.006293  |     1.024724  |             |  9.8s"
       ]
      },
      {
       "output_type": "stream",
       "stream": "stdout",
       "text": [
        "\n",
        "  1488  |    0.006383  |    0.006232  |     1.024371  |             |  9.8s"
       ]
      },
      {
       "output_type": "stream",
       "stream": "stdout",
       "text": [
        "\n",
        "  1489  |    0.006383  |    0.006283  |     1.015856  |             |  9.6s"
       ]
      },
      {
       "output_type": "stream",
       "stream": "stdout",
       "text": [
        "\n",
        "  1490  |    0.006418  |    0.006243  |     1.027968  |             |  9.2s"
       ]
      },
      {
       "output_type": "stream",
       "stream": "stdout",
       "text": [
        "\n",
        "  1491  |    0.006382  |    0.006254  |     1.020455  |             |  9.2s"
       ]
      },
      {
       "output_type": "stream",
       "stream": "stdout",
       "text": [
        "\n",
        "  1492  |  \u001b[94m  0.006327\u001b[0m  |    0.006285  |     1.006818  |             |  9.2s"
       ]
      },
      {
       "output_type": "stream",
       "stream": "stdout",
       "text": [
        "\n",
        "  1493  |    0.006413  |  \u001b[32m  0.006218\u001b[0m  |     1.031304  |             |  9.2s"
       ]
      },
      {
       "output_type": "stream",
       "stream": "stdout",
       "text": [
        "\n",
        "  1494  |    0.006361  |    0.006291  |     1.011073  |             |  9.3s"
       ]
      },
      {
       "output_type": "stream",
       "stream": "stdout",
       "text": [
        "\n",
        "  1495  |    0.006372  |    0.006236  |     1.021945  |             |  9.2s"
       ]
      },
      {
       "output_type": "stream",
       "stream": "stdout",
       "text": [
        "\n",
        "  1496  |    0.006362  |    0.006224  |     1.022205  |             |  9.2s"
       ]
      },
      {
       "output_type": "stream",
       "stream": "stdout",
       "text": [
        "\n",
        "  1497  |    0.006422  |    0.006245  |     1.028223  |             |  9.2s"
       ]
      },
      {
       "output_type": "stream",
       "stream": "stdout",
       "text": [
        "\n",
        "  1498  |    0.006381  |    0.006220  |     1.025788  |             |  9.3s"
       ]
      },
      {
       "output_type": "stream",
       "stream": "stdout",
       "text": [
        "\n",
        "  1499  |    0.006353  |  \u001b[32m  0.006203\u001b[0m  |     1.024238  |             |  9.4s"
       ]
      },
      {
       "output_type": "stream",
       "stream": "stdout",
       "text": [
        "\n",
        "  1500  |  \u001b[94m  0.006312\u001b[0m  |    0.006303  |     1.001470  |             |  9.3s"
       ]
      },
      {
       "output_type": "stream",
       "stream": "stdout",
       "text": [
        "\n",
        "  1501  |    0.006385  |    0.006250  |     1.021622  |             |  9.2s"
       ]
      },
      {
       "output_type": "stream",
       "stream": "stdout",
       "text": [
        "\n",
        "  1502  |    0.006354  |    0.006246  |     1.017233  |             |  9.2s"
       ]
      },
      {
       "output_type": "stream",
       "stream": "stdout",
       "text": [
        "\n",
        "  1503  |    0.006370  |    0.006238  |     1.021209  |             |  9.3s"
       ]
      },
      {
       "output_type": "stream",
       "stream": "stdout",
       "text": [
        "\n",
        "  1504  |    0.006328  |    0.006252  |     1.012138  |             |  9.2s"
       ]
      },
      {
       "output_type": "stream",
       "stream": "stdout",
       "text": [
        "\n",
        "  1505  |    0.006386  |    0.006247  |     1.022225  |             |  9.5s"
       ]
      },
      {
       "output_type": "stream",
       "stream": "stdout",
       "text": [
        "\n",
        "  1506  |    0.006321  |    0.006231  |     1.014409  |             |  9.5s"
       ]
      },
      {
       "output_type": "stream",
       "stream": "stdout",
       "text": [
        "\n",
        "  1507  |    0.006363  |  \u001b[32m  0.006198\u001b[0m  |     1.026717  |             |  9.5s"
       ]
      },
      {
       "output_type": "stream",
       "stream": "stdout",
       "text": [
        "\n",
        "  1508  |    0.006346  |    0.006274  |     1.011396  |             |  9.5s"
       ]
      },
      {
       "output_type": "stream",
       "stream": "stdout",
       "text": [
        "\n",
        "  1509  |    0.006354  |    0.006243  |     1.017735  |             |  9.5s"
       ]
      },
      {
       "output_type": "stream",
       "stream": "stdout",
       "text": [
        "\n",
        "  1510  |    0.006355  |    0.006218  |     1.021947  |             |  9.5s"
       ]
      },
      {
       "output_type": "stream",
       "stream": "stdout",
       "text": [
        "\n",
        "  1511  |  \u001b[94m  0.006290\u001b[0m  |  \u001b[32m  0.006190\u001b[0m  |     1.016228  |             |  9.2s"
       ]
      },
      {
       "output_type": "stream",
       "stream": "stdout",
       "text": [
        "\n",
        "  1512  |    0.006319  |    0.006218  |     1.016263  |             |  9.2s"
       ]
      },
      {
       "output_type": "stream",
       "stream": "stdout",
       "text": [
        "\n",
        "  1513  |    0.006377  |    0.006223  |     1.024701  |             |  9.3s"
       ]
      },
      {
       "output_type": "stream",
       "stream": "stdout",
       "text": [
        "\n",
        "  1514  |    0.006349  |    0.006251  |     1.015640  |             |  9.2s"
       ]
      },
      {
       "output_type": "stream",
       "stream": "stdout",
       "text": [
        "\n",
        "  1515  |    0.006294  |    0.006239  |     1.008909  |             |  9.3s"
       ]
      },
      {
       "output_type": "stream",
       "stream": "stdout",
       "text": [
        "\n",
        "  1516  |    0.006353  |    0.006211  |     1.022981  |             |  9.3s"
       ]
      },
      {
       "output_type": "stream",
       "stream": "stdout",
       "text": [
        "\n",
        "  1517  |    0.006328  |    0.006240  |     1.014104  |             |  9.3s"
       ]
      },
      {
       "output_type": "stream",
       "stream": "stdout",
       "text": [
        "\n",
        "  1518  |    0.006328  |    0.006226  |     1.016347  |             |  9.6s"
       ]
      },
      {
       "output_type": "stream",
       "stream": "stdout",
       "text": [
        "\n",
        "  1519  |    0.006317  |    0.006240  |     1.012403  |             |  9.7s"
       ]
      },
      {
       "output_type": "stream",
       "stream": "stdout",
       "text": [
        "\n",
        "  1520  |    0.006334  |    0.006233  |     1.016080  |             |  9.7s"
       ]
      },
      {
       "output_type": "stream",
       "stream": "stdout",
       "text": [
        "\n",
        "  1521  |    0.006317  |    0.006230  |     1.014058  |             |  9.6s"
       ]
      },
      {
       "output_type": "stream",
       "stream": "stdout",
       "text": [
        "\n",
        "  1522  |  \u001b[94m  0.006264\u001b[0m  |    0.006209  |     1.008761  |             |  9.5s"
       ]
      },
      {
       "output_type": "stream",
       "stream": "stdout",
       "text": [
        "\n",
        "  1523  |    0.006361  |    0.006200  |     1.026040  |             |  9.5s"
       ]
      },
      {
       "output_type": "stream",
       "stream": "stdout",
       "text": [
        "\n",
        "  1524  |    0.006314  |    0.006213  |     1.016263  |             |  9.5s"
       ]
      },
      {
       "output_type": "stream",
       "stream": "stdout",
       "text": [
        "\n",
        "  1525  |    0.006325  |    0.006222  |     1.016530  |             |  9.5s"
       ]
      },
      {
       "output_type": "stream",
       "stream": "stdout",
       "text": [
        "\n",
        "  1526  |  \u001b[94m  0.006240\u001b[0m  |    0.006208  |     1.005137  |             |  9.6s"
       ]
      },
      {
       "output_type": "stream",
       "stream": "stdout",
       "text": [
        "\n",
        "  1527  |    0.006279  |    0.006249  |     1.004786  |             |  9.6s"
       ]
      },
      {
       "output_type": "stream",
       "stream": "stdout",
       "text": [
        "\n",
        "  1528  |    0.006272  |    0.006192  |     1.012983  |             |  9.5s"
       ]
      },
      {
       "output_type": "stream",
       "stream": "stdout",
       "text": [
        "\n",
        "  1529  |    0.006284  |    0.006207  |     1.012427  |             |  9.6s"
       ]
      },
      {
       "output_type": "stream",
       "stream": "stdout",
       "text": [
        "\n",
        "  1530  |    0.006368  |    0.006249  |     1.019046  |             |  9.6s"
       ]
      },
      {
       "output_type": "stream",
       "stream": "stdout",
       "text": [
        "\n",
        "  1531  |    0.006265  |    0.006220  |     1.007245  |             |  9.7s"
       ]
      },
      {
       "output_type": "stream",
       "stream": "stdout",
       "text": [
        "\n",
        "  1532  |    0.006321  |    0.006235  |     1.013723  |             |  9.7s"
       ]
      },
      {
       "output_type": "stream",
       "stream": "stdout",
       "text": [
        "\n",
        "  1533  |    0.006244  |    0.006199  |     1.007217  |             |  9.7s"
       ]
      },
      {
       "output_type": "stream",
       "stream": "stdout",
       "text": [
        "\n",
        "  1534  |    0.006312  |  \u001b[32m  0.006184\u001b[0m  |     1.020681  |             |  9.8s"
       ]
      },
      {
       "output_type": "stream",
       "stream": "stdout",
       "text": [
        "\n",
        "  1535  |    0.006264  |  \u001b[32m  0.006176\u001b[0m  |     1.014254  |             |  9.7s"
       ]
      },
      {
       "output_type": "stream",
       "stream": "stdout",
       "text": [
        "\n",
        "  1536  |    0.006332  |  \u001b[32m  0.006157\u001b[0m  |     1.028532  |             |  9.6s"
       ]
      },
      {
       "output_type": "stream",
       "stream": "stdout",
       "text": [
        "\n",
        "  1537  |    0.006279  |    0.006185  |     1.015172  |             |  9.5s"
       ]
      },
      {
       "output_type": "stream",
       "stream": "stdout",
       "text": [
        "\n",
        "  1538  |    0.006339  |    0.006226  |     1.018158  |             |  9.6s"
       ]
      },
      {
       "output_type": "stream",
       "stream": "stdout",
       "text": [
        "\n",
        "  1539  |    0.006341  |    0.006191  |     1.024325  |             |  9.5s"
       ]
      },
      {
       "output_type": "stream",
       "stream": "stdout",
       "text": [
        "\n",
        "  1540  |    0.006254  |    0.006179  |     1.012172  |             |  9.6s"
       ]
      },
      {
       "output_type": "stream",
       "stream": "stdout",
       "text": [
        "\n",
        "  1541  |  \u001b[94m  0.006235\u001b[0m  |  \u001b[32m  0.006153\u001b[0m  |     1.013280  |             |  9.7s"
       ]
      },
      {
       "output_type": "stream",
       "stream": "stdout",
       "text": [
        "\n",
        "  1542  |    0.006259  |    0.006200  |     1.009617  |             |  9.7s"
       ]
      },
      {
       "output_type": "stream",
       "stream": "stdout",
       "text": [
        "\n",
        "  1543  |    0.006295  |    0.006202  |     1.014924  |             |  9.7s"
       ]
      },
      {
       "output_type": "stream",
       "stream": "stdout",
       "text": [
        "\n",
        "  1544  |    0.006289  |    0.006158  |     1.021229  |             |  9.7s"
       ]
      },
      {
       "output_type": "stream",
       "stream": "stdout",
       "text": [
        "\n",
        "  1545  |  \u001b[94m  0.006234\u001b[0m  |    0.006178  |     1.009121  |             |  9.6s"
       ]
      },
      {
       "output_type": "stream",
       "stream": "stdout",
       "text": [
        "\n",
        "  1546  |    0.006242  |    0.006225  |     1.002693  |             |  9.5s"
       ]
      },
      {
       "output_type": "stream",
       "stream": "stdout",
       "text": [
        "\n",
        "  1547  |    0.006243  |    0.006234  |     1.001317  |             |  9.6s"
       ]
      },
      {
       "output_type": "stream",
       "stream": "stdout",
       "text": [
        "\n",
        "  1548  |  \u001b[94m  0.006202\u001b[0m  |    0.006179  |     1.003737  |             |  9.6s"
       ]
      },
      {
       "output_type": "stream",
       "stream": "stdout",
       "text": [
        "\n",
        "  1549  |    0.006250  |    0.006193  |     1.009257  |             |  9.6s"
       ]
      },
      {
       "output_type": "stream",
       "stream": "stdout",
       "text": [
        "\n",
        "  1550  |    0.006207  |    0.006180  |     1.004312  |             |  9.6s"
       ]
      },
      {
       "output_type": "stream",
       "stream": "stdout",
       "text": [
        "\n",
        "  1551  |    0.006285  |    0.006184  |     1.016270  |             |  9.6s"
       ]
      },
      {
       "output_type": "stream",
       "stream": "stdout",
       "text": [
        "\n",
        "  1552  |    0.006219  |    0.006169  |     1.008166  |             |  9.6s"
       ]
      },
      {
       "output_type": "stream",
       "stream": "stdout",
       "text": [
        "\n",
        "  1553  |  \u001b[94m  0.006143\u001b[0m  |    0.006211  |     0.988962  |             |  9.5s"
       ]
      },
      {
       "output_type": "stream",
       "stream": "stdout",
       "text": [
        "\n",
        "  1554  |    0.006245  |    0.006165  |     1.013096  |             |  9.6s"
       ]
      },
      {
       "output_type": "stream",
       "stream": "stdout",
       "text": [
        "\n",
        "  1555  |    0.006242  |    0.006179  |     1.010144  |             |  9.5s"
       ]
      },
      {
       "output_type": "stream",
       "stream": "stdout",
       "text": [
        "\n",
        "  1556  |    0.006264  |    0.006171  |     1.015046  |             |  9.3s"
       ]
      },
      {
       "output_type": "stream",
       "stream": "stdout",
       "text": [
        "\n",
        "  1557  |    0.006213  |    0.006156  |     1.009266  |             |  9.3s"
       ]
      },
      {
       "output_type": "stream",
       "stream": "stdout",
       "text": [
        "\n",
        "  1558  |    0.006169  |    0.006195  |     0.995788  |             |  9.2s"
       ]
      },
      {
       "output_type": "stream",
       "stream": "stdout",
       "text": [
        "\n",
        "  1559  |    0.006239  |    0.006209  |     1.004819  |             |  9.2s"
       ]
      },
      {
       "output_type": "stream",
       "stream": "stdout",
       "text": [
        "\n",
        "  1560  |    0.006217  |  \u001b[32m  0.006131\u001b[0m  |     1.013965  |             |  9.2s"
       ]
      },
      {
       "output_type": "stream",
       "stream": "stdout",
       "text": [
        "\n",
        "  1561  |    0.006236  |    0.006184  |     1.008448  |             |  9.2s"
       ]
      },
      {
       "output_type": "stream",
       "stream": "stdout",
       "text": [
        "\n",
        "  1562  |    0.006229  |    0.006154  |     1.012099  |             |  9.2s"
       ]
      },
      {
       "output_type": "stream",
       "stream": "stdout",
       "text": [
        "\n",
        "  1563  |    0.006224  |    0.006148  |     1.012378  |             |  9.3s"
       ]
      },
      {
       "output_type": "stream",
       "stream": "stdout",
       "text": [
        "\n",
        "  1564  |    0.006179  |    0.006155  |     1.003896  |             |  9.3s"
       ]
      },
      {
       "output_type": "stream",
       "stream": "stdout",
       "text": [
        "\n",
        "  1565  |    0.006265  |    0.006159  |     1.017163  |             |  9.2s"
       ]
      },
      {
       "output_type": "stream",
       "stream": "stdout",
       "text": [
        "\n",
        "  1566  |    0.006251  |    0.006199  |     1.008518  |             |  9.2s"
       ]
      },
      {
       "output_type": "stream",
       "stream": "stdout",
       "text": [
        "\n",
        "  1567  |    0.006203  |    0.006158  |     1.007361  |             |  9.2s"
       ]
      },
      {
       "output_type": "stream",
       "stream": "stdout",
       "text": [
        "\n",
        "  1568  |    0.006211  |    0.006204  |     1.001195  |             |  9.2s"
       ]
      },
      {
       "output_type": "stream",
       "stream": "stdout",
       "text": [
        "\n",
        "  1569  |    0.006205  |    0.006164  |     1.006530  |             |  9.4s"
       ]
      },
      {
       "output_type": "stream",
       "stream": "stdout",
       "text": [
        "\n",
        "  1570  |    0.006222  |    0.006132  |     1.014712  |             |  9.5s"
       ]
      },
      {
       "output_type": "stream",
       "stream": "stdout",
       "text": [
        "\n",
        "  1571  |    0.006222  |    0.006152  |     1.011487  |             |  9.6s"
       ]
      },
      {
       "output_type": "stream",
       "stream": "stdout",
       "text": [
        "\n",
        "  1572  |    0.006217  |    0.006172  |     1.007314  |             |  9.4s"
       ]
      },
      {
       "output_type": "stream",
       "stream": "stdout",
       "text": [
        "\n",
        "  1573  |    0.006146  |    0.006175  |     0.995281  |             |  9.2s"
       ]
      },
      {
       "output_type": "stream",
       "stream": "stdout",
       "text": [
        "\n",
        "  1574  |    0.006152  |    0.006162  |     0.998406  |             |  9.2s"
       ]
      },
      {
       "output_type": "stream",
       "stream": "stdout",
       "text": [
        "\n",
        "  1575  |    0.006226  |    0.006151  |     1.012224  |             |  9.2s"
       ]
      },
      {
       "output_type": "stream",
       "stream": "stdout",
       "text": [
        "\n",
        "  1576  |    0.006163  |    0.006151  |     1.002038  |             |  9.3s"
       ]
      },
      {
       "output_type": "stream",
       "stream": "stdout",
       "text": [
        "\n",
        "  1577  |    0.006218  |    0.006142  |     1.012515  |             |  9.6s"
       ]
      },
      {
       "output_type": "stream",
       "stream": "stdout",
       "text": [
        "\n",
        "  1578  |    0.006192  |    0.006148  |     1.007240  |             |  9.6s"
       ]
      },
      {
       "output_type": "stream",
       "stream": "stdout",
       "text": [
        "\n",
        "  1579  |    0.006189  |    0.006173  |     1.002555  |             |  9.6s"
       ]
      },
      {
       "output_type": "stream",
       "stream": "stdout",
       "text": [
        "\n",
        "  1580  |  \u001b[94m  0.006120\u001b[0m  |    0.006154  |     0.994443  |             |  9.5s"
       ]
      },
      {
       "output_type": "stream",
       "stream": "stdout",
       "text": [
        "\n",
        "  1581  |    0.006169  |    0.006142  |     1.004380  |             |  9.6s"
       ]
      },
      {
       "output_type": "stream",
       "stream": "stdout",
       "text": [
        "\n",
        "  1582  |    0.006159  |    0.006172  |     0.997832  |             |  9.6s"
       ]
      },
      {
       "output_type": "stream",
       "stream": "stdout",
       "text": [
        "\n",
        "  1583  |    0.006187  |    0.006139  |     1.007945  |             |  9.6s"
       ]
      },
      {
       "output_type": "stream",
       "stream": "stdout",
       "text": [
        "\n",
        "  1584  |    0.006138  |    0.006138  |     1.000093  |             |  9.6s"
       ]
      },
      {
       "output_type": "stream",
       "stream": "stdout",
       "text": [
        "\n",
        "  1585  |    0.006163  |    0.006166  |     0.999618  |             |  9.6s"
       ]
      },
      {
       "output_type": "stream",
       "stream": "stdout",
       "text": [
        "\n",
        "  1586  |    0.006193  |    0.006176  |     1.002792  |             |  9.6s"
       ]
      },
      {
       "output_type": "stream",
       "stream": "stdout",
       "text": [
        "\n",
        "  1587  |    0.006167  |  \u001b[32m  0.006129\u001b[0m  |     1.006247  |             |  9.6s"
       ]
      },
      {
       "output_type": "stream",
       "stream": "stdout",
       "text": [
        "\n",
        "  1588  |    0.006173  |    0.006171  |     1.000302  |             |  9.6s"
       ]
      },
      {
       "output_type": "stream",
       "stream": "stdout",
       "text": [
        "\n",
        "  1589  |    0.006240  |    0.006150  |     1.014645  |             |  9.7s"
       ]
      },
      {
       "output_type": "stream",
       "stream": "stdout",
       "text": [
        "\n",
        "  1590  |    0.006142  |    0.006136  |     1.000995  |             |  9.6s"
       ]
      },
      {
       "output_type": "stream",
       "stream": "stdout",
       "text": [
        "\n",
        "  1591  |    0.006187  |    0.006146  |     1.006692  |             |  9.4s"
       ]
      },
      {
       "output_type": "stream",
       "stream": "stdout",
       "text": [
        "\n",
        "  1592  |    0.006142  |    0.006148  |     0.999061  |             |  9.2s"
       ]
      },
      {
       "output_type": "stream",
       "stream": "stdout",
       "text": [
        "\n",
        "  1593  |    0.006176  |  \u001b[32m  0.006116\u001b[0m  |     1.009807  |             |  9.2s"
       ]
      },
      {
       "output_type": "stream",
       "stream": "stdout",
       "text": [
        "\n",
        "  1594  |    0.006168  |    0.006135  |     1.005331  |             |  9.2s"
       ]
      },
      {
       "output_type": "stream",
       "stream": "stdout",
       "text": [
        "\n",
        "  1595  |    0.006161  |    0.006152  |     1.001461  |             |  9.2s"
       ]
      },
      {
       "output_type": "stream",
       "stream": "stdout",
       "text": [
        "\n",
        "  1596  |    0.006161  |    0.006127  |     1.005558  |             |  9.2s"
       ]
      },
      {
       "output_type": "stream",
       "stream": "stdout",
       "text": [
        "\n",
        "  1597  |    0.006142  |    0.006147  |     0.999301  |             |  9.2s"
       ]
      },
      {
       "output_type": "stream",
       "stream": "stdout",
       "text": [
        "\n",
        "  1598  |  \u001b[94m  0.006089\u001b[0m  |  \u001b[32m  0.006106\u001b[0m  |     0.997223  |             |  9.2s"
       ]
      },
      {
       "output_type": "stream",
       "stream": "stdout",
       "text": [
        "\n",
        "  1599  |    0.006116  |  \u001b[32m  0.006078\u001b[0m  |     1.006376  |             |  9.2s"
       ]
      },
      {
       "output_type": "stream",
       "stream": "stdout",
       "text": [
        "\n",
        "  1600  |    0.006182  |    0.006102  |     1.013115  |             |  9.3s"
       ]
      },
      {
       "output_type": "stream",
       "stream": "stdout",
       "text": [
        "\n",
        "  1601  |    0.006203  |    0.006154  |     1.007821  |             |  9.5s"
       ]
      },
      {
       "output_type": "stream",
       "stream": "stdout",
       "text": [
        "\n",
        "  1602  |  \u001b[94m  0.006085\u001b[0m  |    0.006125  |     0.993396  |             |  9.5s"
       ]
      },
      {
       "output_type": "stream",
       "stream": "stdout",
       "text": [
        "\n",
        "  1603  |    0.006119  |    0.006113  |     1.000956  |             |  9.3s"
       ]
      },
      {
       "output_type": "stream",
       "stream": "stdout",
       "text": [
        "\n",
        "  1604  |    0.006177  |    0.006096  |     1.013290  |             |  9.4s"
       ]
      },
      {
       "output_type": "stream",
       "stream": "stdout",
       "text": [
        "\n",
        "  1605  |    0.006161  |    0.006158  |     1.000473  |             |  9.5s"
       ]
      },
      {
       "output_type": "stream",
       "stream": "stdout",
       "text": [
        "\n",
        "  1606  |  \u001b[94m  0.006078\u001b[0m  |  \u001b[32m  0.006068\u001b[0m  |     1.001527  |             |  9.5s"
       ]
      },
      {
       "output_type": "stream",
       "stream": "stdout",
       "text": [
        "\n",
        "  1607  |    0.006079  |    0.006105  |     0.995773  |             |  9.5s"
       ]
      },
      {
       "output_type": "stream",
       "stream": "stdout",
       "text": [
        "\n",
        "  1608  |    0.006082  |    0.006130  |     0.992199  |             |  9.6s"
       ]
      },
      {
       "output_type": "stream",
       "stream": "stdout",
       "text": [
        "\n",
        "  1609  |    0.006140  |    0.006114  |     1.004253  |             |  9.6s"
       ]
      },
      {
       "output_type": "stream",
       "stream": "stdout",
       "text": [
        "\n",
        "  1610  |  \u001b[94m  0.006070\u001b[0m  |    0.006097  |     0.995475  |             |  9.6s"
       ]
      },
      {
       "output_type": "stream",
       "stream": "stdout",
       "text": [
        "\n",
        "  1611  |    0.006078  |    0.006102  |     0.996054  |             |  9.6s"
       ]
      },
      {
       "output_type": "stream",
       "stream": "stdout",
       "text": [
        "\n",
        "  1612  |    0.006121  |    0.006116  |     1.000790  |             |  9.7s"
       ]
      },
      {
       "output_type": "stream",
       "stream": "stdout",
       "text": [
        "\n",
        "  1613  |    0.006145  |    0.006141  |     1.000712  |             |  9.6s"
       ]
      },
      {
       "output_type": "stream",
       "stream": "stdout",
       "text": [
        "\n",
        "  1614  |    0.006108  |  \u001b[32m  0.006057\u001b[0m  |     1.008488  |             |  9.7s"
       ]
      },
      {
       "output_type": "stream",
       "stream": "stdout",
       "text": [
        "\n",
        "  1615  |    0.006076  |    0.006111  |     0.994221  |             |  9.7s"
       ]
      },
      {
       "output_type": "stream",
       "stream": "stdout",
       "text": [
        "\n",
        "  1616  |    0.006082  |    0.006129  |     0.992369  |             |  9.8s"
       ]
      },
      {
       "output_type": "stream",
       "stream": "stdout",
       "text": [
        "\n",
        "  1617  |    0.006106  |    0.006107  |     0.999936  |             |  9.7s"
       ]
      },
      {
       "output_type": "stream",
       "stream": "stdout",
       "text": [
        "\n",
        "  1618  |    0.006101  |    0.006126  |     0.995900  |             |  9.7s"
       ]
      },
      {
       "output_type": "stream",
       "stream": "stdout",
       "text": [
        "\n",
        "  1619  |    0.006101  |    0.006123  |     0.996385  |             |  9.8s"
       ]
      },
      {
       "output_type": "stream",
       "stream": "stdout",
       "text": [
        "\n",
        "  1620  |    0.006080  |    0.006174  |     0.984738  |             |  9.8s"
       ]
      },
      {
       "output_type": "stream",
       "stream": "stdout",
       "text": [
        "\n",
        "  1621  |  \u001b[94m  0.006044\u001b[0m  |    0.006132  |     0.985649  |             |  9.8s"
       ]
      },
      {
       "output_type": "stream",
       "stream": "stdout",
       "text": [
        "\n",
        "  1622  |    0.006120  |    0.006116  |     1.000577  |             |  9.7s"
       ]
      },
      {
       "output_type": "stream",
       "stream": "stdout",
       "text": [
        "\n",
        "  1623  |    0.006079  |    0.006085  |     0.999135  |             |  9.7s"
       ]
      },
      {
       "output_type": "stream",
       "stream": "stdout",
       "text": [
        "\n",
        "  1624  |    0.006091  |    0.006110  |     0.996892  |             |  9.7s"
       ]
      },
      {
       "output_type": "stream",
       "stream": "stdout",
       "text": [
        "\n",
        "  1625  |  \u001b[94m  0.006018\u001b[0m  |    0.006080  |     0.989721  |             |  9.7s"
       ]
      },
      {
       "output_type": "stream",
       "stream": "stdout",
       "text": [
        "\n",
        "  1626  |    0.006060  |    0.006115  |     0.990982  |             |  9.7s"
       ]
      },
      {
       "output_type": "stream",
       "stream": "stdout",
       "text": [
        "\n",
        "  1627  |    0.006061  |    0.006096  |     0.994200  |             |  9.7s"
       ]
      },
      {
       "output_type": "stream",
       "stream": "stdout",
       "text": [
        "\n",
        "  1628  |    0.006069  |    0.006125  |     0.990935  |             |  9.7s"
       ]
      },
      {
       "output_type": "stream",
       "stream": "stdout",
       "text": [
        "\n",
        "  1629  |    0.006046  |    0.006096  |     0.991687  |             |  9.7s"
       ]
      },
      {
       "output_type": "stream",
       "stream": "stdout",
       "text": [
        "\n",
        "  1630  |    0.006093  |    0.006115  |     0.996317  |             |  9.7s"
       ]
      },
      {
       "output_type": "stream",
       "stream": "stdout",
       "text": [
        "\n",
        "  1631  |    0.006032  |    0.006109  |     0.987529  |             |  9.7s"
       ]
      },
      {
       "output_type": "stream",
       "stream": "stdout",
       "text": [
        "\n",
        "  1632  |    0.006023  |    0.006108  |     0.986108  |             |  9.7s"
       ]
      },
      {
       "output_type": "stream",
       "stream": "stdout",
       "text": [
        "\n",
        "  1633  |    0.006086  |    0.006106  |     0.996751  |             |  9.7s"
       ]
      },
      {
       "output_type": "stream",
       "stream": "stdout",
       "text": [
        "\n",
        "  1634  |    0.006057  |    0.006082  |     0.995995  |             |  9.7s"
       ]
      },
      {
       "output_type": "stream",
       "stream": "stdout",
       "text": [
        "\n",
        "  1635  |    0.006113  |    0.006103  |     1.001540  |             |  9.7s"
       ]
      },
      {
       "output_type": "stream",
       "stream": "stdout",
       "text": [
        "\n",
        "  1636  |    0.006053  |    0.006071  |     0.997034  |             |  9.7s"
       ]
      },
      {
       "output_type": "stream",
       "stream": "stdout",
       "text": [
        "\n",
        "  1637  |    0.006083  |    0.006114  |     0.994864  |             |  9.7s"
       ]
      },
      {
       "output_type": "stream",
       "stream": "stdout",
       "text": [
        "\n",
        "  1638  |    0.006040  |    0.006136  |     0.984473  |             |  9.7s"
       ]
      },
      {
       "output_type": "stream",
       "stream": "stdout",
       "text": [
        "\n",
        "  1639  |  \u001b[94m  0.006014\u001b[0m  |    0.006114  |     0.983650  |             |  9.7s"
       ]
      },
      {
       "output_type": "stream",
       "stream": "stdout",
       "text": [
        "\n",
        "  1640  |    0.006023  |    0.006113  |     0.985242  |             |  9.7s"
       ]
      },
      {
       "output_type": "stream",
       "stream": "stdout",
       "text": [
        "\n",
        "  1641  |    0.006055  |    0.006153  |     0.984054  |             |  9.7s"
       ]
      },
      {
       "output_type": "stream",
       "stream": "stdout",
       "text": [
        "\n",
        "  1642  |  \u001b[94m  0.006006\u001b[0m  |    0.006076  |     0.988441  |             |  9.7s"
       ]
      },
      {
       "output_type": "stream",
       "stream": "stdout",
       "text": [
        "\n",
        "  1643  |    0.006046  |  \u001b[32m  0.006055\u001b[0m  |     0.998571  |             |  9.7s"
       ]
      },
      {
       "output_type": "stream",
       "stream": "stdout",
       "text": [
        "\n",
        "  1644  |  \u001b[94m  0.006006\u001b[0m  |    0.006077  |     0.988231  |             |  9.7s"
       ]
      },
      {
       "output_type": "stream",
       "stream": "stdout",
       "text": [
        "\n",
        "  1645  |  \u001b[94m  0.005998\u001b[0m  |  \u001b[32m  0.006054\u001b[0m  |     0.990628  |             |  9.5s"
       ]
      },
      {
       "output_type": "stream",
       "stream": "stdout",
       "text": [
        "\n",
        "  1646  |    0.006030  |    0.006074  |     0.992749  |             |  9.3s"
       ]
      },
      {
       "output_type": "stream",
       "stream": "stdout",
       "text": [
        "\n",
        "  1647  |    0.006046  |    0.006087  |     0.993190  |             |  9.2s"
       ]
      },
      {
       "output_type": "stream",
       "stream": "stdout",
       "text": [
        "\n",
        "  1648  |    0.006006  |    0.006072  |     0.989210  |             |  9.3s"
       ]
      },
      {
       "output_type": "stream",
       "stream": "stdout",
       "text": [
        "\n",
        "  1649  |    0.006049  |    0.006066  |     0.997222  |             |  9.5s"
       ]
      },
      {
       "output_type": "stream",
       "stream": "stdout",
       "text": [
        "\n",
        "  1650  |  \u001b[94m  0.005987\u001b[0m  |    0.006126  |     0.977315  |             |  9.5s"
       ]
      },
      {
       "output_type": "stream",
       "stream": "stdout",
       "text": [
        "\n",
        "  1651  |    0.005994  |    0.006119  |     0.979467  |             |  9.3s"
       ]
      },
      {
       "output_type": "stream",
       "stream": "stdout",
       "text": [
        "\n",
        "  1652  |    0.006023  |    0.006086  |     0.989674  |             |  9.2s"
       ]
      },
      {
       "output_type": "stream",
       "stream": "stdout",
       "text": [
        "\n",
        "  1653  |    0.006051  |    0.006084  |     0.994443  |             |  9.2s"
       ]
      },
      {
       "output_type": "stream",
       "stream": "stdout",
       "text": [
        "\n",
        "  1654  |    0.006016  |    0.006102  |     0.985861  |             |  9.2s"
       ]
      },
      {
       "output_type": "stream",
       "stream": "stdout",
       "text": [
        "\n",
        "  1655  |    0.006008  |    0.006068  |     0.990108  |             |  9.2s"
       ]
      },
      {
       "output_type": "stream",
       "stream": "stdout",
       "text": [
        "\n",
        "  1656  |    0.006019  |    0.006059  |     0.993380  |             |  9.2s"
       ]
      },
      {
       "output_type": "stream",
       "stream": "stdout",
       "text": [
        "\n",
        "  1657  |    0.005999  |    0.006056  |     0.990633  |             |  9.2s"
       ]
      },
      {
       "output_type": "stream",
       "stream": "stdout",
       "text": [
        "\n",
        "  1658  |  \u001b[94m  0.005974\u001b[0m  |    0.006074  |     0.983580  |             |  9.2s"
       ]
      },
      {
       "output_type": "stream",
       "stream": "stdout",
       "text": [
        "\n",
        "  1659  |  \u001b[94m  0.005968\u001b[0m  |  \u001b[32m  0.006053\u001b[0m  |     0.985978  |             |  9.2s"
       ]
      },
      {
       "output_type": "stream",
       "stream": "stdout",
       "text": [
        "\n",
        "  1660  |    0.006010  |    0.006080  |     0.988474  |             |  9.2s"
       ]
      },
      {
       "output_type": "stream",
       "stream": "stdout",
       "text": [
        "\n",
        "  1661  |  \u001b[94m  0.005951\u001b[0m  |    0.006110  |     0.973949  |             |  9.2s"
       ]
      },
      {
       "output_type": "stream",
       "stream": "stdout",
       "text": [
        "\n",
        "  1662  |  \u001b[94m  0.005917\u001b[0m  |  \u001b[32m  0.006045\u001b[0m  |     0.978857  |             |  9.2s"
       ]
      },
      {
       "output_type": "stream",
       "stream": "stdout",
       "text": [
        "\n",
        "  1663  |    0.006017  |    0.006071  |     0.991084  |             |  9.2s"
       ]
      },
      {
       "output_type": "stream",
       "stream": "stdout",
       "text": [
        "\n",
        "  1664  |    0.006039  |    0.006121  |     0.986697  |             |  9.4s"
       ]
      },
      {
       "output_type": "stream",
       "stream": "stdout",
       "text": [
        "\n",
        "  1665  |    0.005997  |    0.006089  |     0.984880  |             |  9.5s"
       ]
      },
      {
       "output_type": "stream",
       "stream": "stdout",
       "text": [
        "\n",
        "  1666  |    0.006009  |    0.006054  |     0.992573  |             |  9.5s"
       ]
      },
      {
       "output_type": "stream",
       "stream": "stdout",
       "text": [
        "\n",
        "  1667  |    0.005973  |    0.006084  |     0.981732  |             |  9.3s"
       ]
      },
      {
       "output_type": "stream",
       "stream": "stdout",
       "text": [
        "\n",
        "  1668  |    0.005993  |    0.006093  |     0.983566  |             |  9.2s"
       ]
      },
      {
       "output_type": "stream",
       "stream": "stdout",
       "text": [
        "\n",
        "  1669  |    0.005979  |    0.006088  |     0.981972  |             |  9.2s"
       ]
      },
      {
       "output_type": "stream",
       "stream": "stdout",
       "text": [
        "\n",
        "  1670  |    0.005980  |    0.006124  |     0.976430  |             |  9.2s"
       ]
      },
      {
       "output_type": "stream",
       "stream": "stdout",
       "text": [
        "\n",
        "  1671  |    0.005944  |    0.006067  |     0.979639  |             |  9.2s"
       ]
      },
      {
       "output_type": "stream",
       "stream": "stdout",
       "text": [
        "\n",
        "  1672  |    0.005966  |    0.006061  |     0.984416  |             |  9.3s"
       ]
      },
      {
       "output_type": "stream",
       "stream": "stdout",
       "text": [
        "\n",
        "  1673  |    0.005931  |    0.006068  |     0.977414  |             |  9.2s"
       ]
      },
      {
       "output_type": "stream",
       "stream": "stdout",
       "text": [
        "\n",
        "  1674  |    0.005966  |    0.006135  |     0.972384  |             |  9.2s"
       ]
      },
      {
       "output_type": "stream",
       "stream": "stdout",
       "text": [
        "\n",
        "  1675  |    0.005944  |  \u001b[32m  0.006044\u001b[0m  |     0.983468  |             |  9.2s"
       ]
      },
      {
       "output_type": "stream",
       "stream": "stdout",
       "text": [
        "\n",
        "  1676  |    0.006012  |    0.006075  |     0.989496  |             |  9.2s"
       ]
      },
      {
       "output_type": "stream",
       "stream": "stdout",
       "text": [
        "\n",
        "  1677  |    0.005989  |    0.006056  |     0.988938  |             |  9.4s"
       ]
      },
      {
       "output_type": "stream",
       "stream": "stdout",
       "text": [
        "\n",
        "  1678  |    0.005988  |    0.006046  |     0.990307  |             |  9.2s"
       ]
      },
      {
       "output_type": "stream",
       "stream": "stdout",
       "text": [
        "\n",
        "  1679  |    0.005920  |    0.006063  |     0.976552  |             |  9.2s"
       ]
      },
      {
       "output_type": "stream",
       "stream": "stdout",
       "text": [
        "\n",
        "  1680  |    0.005934  |    0.006077  |     0.976421  |             |  9.2s"
       ]
      },
      {
       "output_type": "stream",
       "stream": "stdout",
       "text": [
        "\n",
        "  1681  |    0.006031  |  \u001b[32m  0.006043\u001b[0m  |     0.998072  |             |  9.3s"
       ]
      },
      {
       "output_type": "stream",
       "stream": "stdout",
       "text": [
        "\n",
        "  1682  |    0.005938  |    0.006084  |     0.975941  |             |  9.2s"
       ]
      },
      {
       "output_type": "stream",
       "stream": "stdout",
       "text": [
        "\n",
        "  1683  |    0.005985  |  \u001b[32m  0.006042\u001b[0m  |     0.990448  |             |  9.2s"
       ]
      },
      {
       "output_type": "stream",
       "stream": "stdout",
       "text": [
        "\n",
        "  1684  |  \u001b[94m  0.005890\u001b[0m  |  \u001b[32m  0.006041\u001b[0m  |     0.974954  |             |  9.3s"
       ]
      },
      {
       "output_type": "stream",
       "stream": "stdout",
       "text": [
        "\n",
        "  1685  |    0.005969  |    0.006063  |     0.984506  |             |  9.2s"
       ]
      },
      {
       "output_type": "stream",
       "stream": "stdout",
       "text": [
        "\n",
        "  1686  |    0.005977  |    0.006059  |     0.986367  |             |  9.2s"
       ]
      },
      {
       "output_type": "stream",
       "stream": "stdout",
       "text": [
        "\n",
        "  1687  |    0.005999  |    0.006067  |     0.988871  |             |  9.2s"
       ]
      },
      {
       "output_type": "stream",
       "stream": "stdout",
       "text": [
        "\n",
        "  1688  |    0.005990  |  \u001b[32m  0.006009\u001b[0m  |     0.996863  |             |  9.2s"
       ]
      },
      {
       "output_type": "stream",
       "stream": "stdout",
       "text": [
        "\n",
        "  1689  |  \u001b[94m  0.005884\u001b[0m  |    0.006080  |     0.967817  |             |  9.3s"
       ]
      },
      {
       "output_type": "stream",
       "stream": "stdout",
       "text": [
        "\n",
        "  1690  |    0.005904  |    0.006057  |     0.974684  |             |  9.2s"
       ]
      },
      {
       "output_type": "stream",
       "stream": "stdout",
       "text": [
        "\n",
        "  1691  |  \u001b[94m  0.005874\u001b[0m  |    0.006055  |     0.970021  |             |  9.3s"
       ]
      },
      {
       "output_type": "stream",
       "stream": "stdout",
       "text": [
        "\n",
        "  1692  |    0.005977  |    0.006036  |     0.990197  |             |  9.3s"
       ]
      },
      {
       "output_type": "stream",
       "stream": "stdout",
       "text": [
        "\n",
        "  1693  |  \u001b[94m  0.005840\u001b[0m  |    0.006016  |     0.970654  |             |  9.2s"
       ]
      },
      {
       "output_type": "stream",
       "stream": "stdout",
       "text": [
        "\n",
        "  1694  |    0.005925  |    0.006021  |     0.984028  |             |  9.2s"
       ]
      },
      {
       "output_type": "stream",
       "stream": "stdout",
       "text": [
        "\n",
        "  1695  |    0.005874  |    0.006072  |     0.967381  |             |  9.2s"
       ]
      },
      {
       "output_type": "stream",
       "stream": "stdout",
       "text": [
        "\n",
        "  1696  |    0.005981  |    0.006047  |     0.989053  |             |  9.2s"
       ]
      },
      {
       "output_type": "stream",
       "stream": "stdout",
       "text": [
        "\n",
        "  1697  |    0.005947  |    0.006056  |     0.981961  |             |  9.2s"
       ]
      },
      {
       "output_type": "stream",
       "stream": "stdout",
       "text": [
        "\n",
        "  1698  |    0.005962  |    0.006022  |     0.990077  |             |  9.3s"
       ]
      },
      {
       "output_type": "stream",
       "stream": "stdout",
       "text": [
        "\n",
        "  1699  |    0.005951  |    0.006038  |     0.985615  |             |  9.2s"
       ]
      },
      {
       "output_type": "stream",
       "stream": "stdout",
       "text": [
        "\n",
        "  1700  |    0.005918  |    0.006030  |     0.981464  |             |  9.2s"
       ]
      },
      {
       "output_type": "stream",
       "stream": "stdout",
       "text": [
        "\n",
        "  1701  |    0.005935  |    0.006061  |     0.979249  |             |  9.2s"
       ]
      },
      {
       "output_type": "stream",
       "stream": "stdout",
       "text": [
        "\n",
        "  1702  |    0.005952  |    0.006064  |     0.981469  |             |  9.2s"
       ]
      },
      {
       "output_type": "stream",
       "stream": "stdout",
       "text": [
        "\n",
        "  1703  |    0.005946  |    0.006044  |     0.983788  |             |  9.2s"
       ]
      },
      {
       "output_type": "stream",
       "stream": "stdout",
       "text": [
        "\n",
        "  1704  |    0.005953  |    0.006015  |     0.989762  |             |  9.3s"
       ]
      },
      {
       "output_type": "stream",
       "stream": "stdout",
       "text": [
        "\n",
        "  1705  |    0.005891  |    0.006025  |     0.977833  |             |  9.2s"
       ]
      },
      {
       "output_type": "stream",
       "stream": "stdout",
       "text": [
        "\n",
        "  1706  |    0.005881  |    0.006030  |     0.975392  |             |  9.2s"
       ]
      },
      {
       "output_type": "stream",
       "stream": "stdout",
       "text": [
        "\n",
        "  1707  |    0.005860  |    0.006013  |     0.974612  |             |  9.3s"
       ]
      },
      {
       "output_type": "stream",
       "stream": "stdout",
       "text": [
        "\n",
        "  1708  |    0.005868  |    0.006048  |     0.970258  |             |  9.3s"
       ]
      },
      {
       "output_type": "stream",
       "stream": "stdout",
       "text": [
        "\n",
        "  1709  |    0.005855  |    0.006046  |     0.968278  |             |  9.6s"
       ]
      },
      {
       "output_type": "stream",
       "stream": "stdout",
       "text": [
        "\n",
        "  1710  |    0.005913  |    0.006065  |     0.975019  |             |  9.6s"
       ]
      },
      {
       "output_type": "stream",
       "stream": "stdout",
       "text": [
        "\n",
        "  1711  |    0.005885  |    0.006024  |     0.976988  |             |  9.6s"
       ]
      },
      {
       "output_type": "stream",
       "stream": "stdout",
       "text": [
        "\n",
        "  1712  |    0.005960  |    0.006016  |     0.990712  |             |  9.6s"
       ]
      },
      {
       "output_type": "stream",
       "stream": "stdout",
       "text": [
        "\n",
        "  1713  |    0.005881  |    0.006028  |     0.975670  |             |  9.6s"
       ]
      },
      {
       "output_type": "stream",
       "stream": "stdout",
       "text": [
        "\n",
        "  1714  |    0.005929  |    0.006025  |     0.984101  |             |  9.5s"
       ]
      },
      {
       "output_type": "stream",
       "stream": "stdout",
       "text": [
        "\n",
        "  1715  |    0.005867  |    0.006075  |     0.965747  |             |  9.6s"
       ]
      },
      {
       "output_type": "stream",
       "stream": "stdout",
       "text": [
        "\n",
        "  1716  |    0.005912  |    0.006023  |     0.981597  |             |  9.6s"
       ]
      },
      {
       "output_type": "stream",
       "stream": "stdout",
       "text": [
        "\n",
        "  1717  |    0.005854  |    0.006051  |     0.967418  |             |  9.6s"
       ]
      },
      {
       "output_type": "stream",
       "stream": "stdout",
       "text": [
        "\n",
        "  1718  |    0.005897  |  \u001b[32m  0.006008\u001b[0m  |     0.981482  |             |  9.6s"
       ]
      },
      {
       "output_type": "stream",
       "stream": "stdout",
       "text": [
        "\n",
        "  1719  |    0.005911  |    0.006024  |     0.981220  |             |  9.6s"
       ]
      },
      {
       "output_type": "stream",
       "stream": "stdout",
       "text": [
        "\n",
        "  1720  |    0.005899  |    0.006085  |     0.969442  |             |  9.6s"
       ]
      },
      {
       "output_type": "stream",
       "stream": "stdout",
       "text": [
        "\n",
        "  1721  |    0.005845  |    0.006032  |     0.968984  |             |  9.6s"
       ]
      },
      {
       "output_type": "stream",
       "stream": "stdout",
       "text": [
        "\n",
        "  1722  |    0.005859  |    0.006038  |     0.970415  |             |  9.7s"
       ]
      },
      {
       "output_type": "stream",
       "stream": "stdout",
       "text": [
        "\n",
        "  1723  |  \u001b[94m  0.005824\u001b[0m  |    0.006014  |     0.968429  |             |  9.7s"
       ]
      },
      {
       "output_type": "stream",
       "stream": "stdout",
       "text": [
        "\n",
        "  1724  |  \u001b[94m  0.005809\u001b[0m  |  \u001b[32m  0.006006\u001b[0m  |     0.967211  |             |  9.7s"
       ]
      },
      {
       "output_type": "stream",
       "stream": "stdout",
       "text": [
        "\n",
        "  1725  |    0.005850  |    0.006015  |     0.972618  |             |  9.8s"
       ]
      },
      {
       "output_type": "stream",
       "stream": "stdout",
       "text": [
        "\n",
        "  1726  |    0.005822  |  \u001b[32m  0.005999\u001b[0m  |     0.970526  |             |  9.8s"
       ]
      },
      {
       "output_type": "stream",
       "stream": "stdout",
       "text": [
        "\n",
        "  1727  |    0.005926  |    0.006025  |     0.983601  |             |  9.7s"
       ]
      },
      {
       "output_type": "stream",
       "stream": "stdout",
       "text": [
        "\n",
        "  1728  |    0.005909  |    0.006027  |     0.980434  |             |  9.8s"
       ]
      },
      {
       "output_type": "stream",
       "stream": "stdout",
       "text": [
        "\n",
        "  1729  |    0.005831  |    0.006018  |     0.969044  |             |  9.8s"
       ]
      },
      {
       "output_type": "stream",
       "stream": "stdout",
       "text": [
        "\n",
        "  1730  |    0.005883  |    0.006019  |     0.977357  |             |  9.8s"
       ]
      },
      {
       "output_type": "stream",
       "stream": "stdout",
       "text": [
        "\n",
        "  1731  |    0.005879  |    0.006003  |     0.979289  |             |  9.7s"
       ]
      },
      {
       "output_type": "stream",
       "stream": "stdout",
       "text": [
        "\n",
        "  1732  |    0.005892  |    0.006016  |     0.979404  |             |  9.8s"
       ]
      },
      {
       "output_type": "stream",
       "stream": "stdout",
       "text": [
        "\n",
        "  1733  |    0.005873  |    0.006022  |     0.975361  |             |  9.8s"
       ]
      },
      {
       "output_type": "stream",
       "stream": "stdout",
       "text": [
        "\n",
        "  1734  |  \u001b[94m  0.005791\u001b[0m  |    0.006017  |     0.962368  |             |  9.8s"
       ]
      },
      {
       "output_type": "stream",
       "stream": "stdout",
       "text": [
        "\n",
        "  1735  |    0.005837  |    0.006057  |     0.963817  |             |  9.7s"
       ]
      },
      {
       "output_type": "stream",
       "stream": "stdout",
       "text": [
        "\n",
        "  1736  |    0.005878  |    0.006034  |     0.974029  |             |  9.7s"
       ]
      },
      {
       "output_type": "stream",
       "stream": "stdout",
       "text": [
        "\n",
        "  1737  |    0.005841  |    0.006003  |     0.972948  |             |  9.7s"
       ]
      },
      {
       "output_type": "stream",
       "stream": "stdout",
       "text": [
        "\n",
        "  1738  |    0.005863  |  \u001b[32m  0.005998\u001b[0m  |     0.977515  |             |  9.6s"
       ]
      },
      {
       "output_type": "stream",
       "stream": "stdout",
       "text": [
        "\n",
        "  1739  |    0.005859  |    0.006003  |     0.975984  |             |  9.6s"
       ]
      },
      {
       "output_type": "stream",
       "stream": "stdout",
       "text": [
        "\n",
        "  1740  |    0.005865  |    0.006017  |     0.974758  |             |  9.6s"
       ]
      },
      {
       "output_type": "stream",
       "stream": "stdout",
       "text": [
        "\n",
        "  1741  |    0.005830  |  \u001b[32m  0.005977\u001b[0m  |     0.975527  |             |  9.6s"
       ]
      },
      {
       "output_type": "stream",
       "stream": "stdout",
       "text": [
        "\n",
        "  1742  |    0.005882  |    0.006000  |     0.980349  |             |  9.7s"
       ]
      },
      {
       "output_type": "stream",
       "stream": "stdout",
       "text": [
        "\n",
        "  1743  |    0.005821  |    0.005986  |     0.972522  |             |  9.6s"
       ]
      },
      {
       "output_type": "stream",
       "stream": "stdout",
       "text": [
        "\n",
        "  1744  |  \u001b[94m  0.005784\u001b[0m  |    0.005989  |     0.965804  |             |  9.6s"
       ]
      },
      {
       "output_type": "stream",
       "stream": "stdout",
       "text": [
        "\n",
        "  1745  |    0.005851  |    0.006021  |     0.971760  |             |  9.6s"
       ]
      },
      {
       "output_type": "stream",
       "stream": "stdout",
       "text": [
        "\n",
        "  1746  |    0.005846  |    0.006008  |     0.972949  |             |  9.6s"
       ]
      },
      {
       "output_type": "stream",
       "stream": "stdout",
       "text": [
        "\n",
        "  1747  |    0.005786  |    0.005982  |     0.967352  |             |  9.6s"
       ]
      },
      {
       "output_type": "stream",
       "stream": "stdout",
       "text": [
        "\n",
        "  1748  |  \u001b[94m  0.005776\u001b[0m  |    0.006045  |     0.955525  |             |  9.6s"
       ]
      },
      {
       "output_type": "stream",
       "stream": "stdout",
       "text": [
        "\n",
        "  1749  |    0.005797  |    0.005994  |     0.967153  |             |  9.6s"
       ]
      },
      {
       "output_type": "stream",
       "stream": "stdout",
       "text": [
        "\n",
        "  1750  |    0.005777  |    0.005985  |     0.965285  |             |  9.7s"
       ]
      },
      {
       "output_type": "stream",
       "stream": "stdout",
       "text": [
        "\n",
        "  1751  |    0.005819  |    0.006036  |     0.964049  |             |  9.6s"
       ]
      },
      {
       "output_type": "stream",
       "stream": "stdout",
       "text": [
        "\n",
        "  1752  |    0.005836  |  \u001b[32m  0.005943\u001b[0m  |     0.982029  |             |  9.6s"
       ]
      },
      {
       "output_type": "stream",
       "stream": "stdout",
       "text": [
        "\n",
        "  1753  |    0.005790  |    0.005997  |     0.965431  |             |  9.6s"
       ]
      },
      {
       "output_type": "stream",
       "stream": "stdout",
       "text": [
        "\n",
        "  1754  |  \u001b[94m  0.005756\u001b[0m  |    0.006010  |     0.957843  |             |  9.6s"
       ]
      },
      {
       "output_type": "stream",
       "stream": "stdout",
       "text": [
        "\n",
        "  1755  |    0.005836  |    0.006004  |     0.971997  |             |  9.6s"
       ]
      },
      {
       "output_type": "stream",
       "stream": "stdout",
       "text": [
        "\n",
        "  1756  |    0.005835  |    0.006010  |     0.970784  |             |  9.6s"
       ]
      },
      {
       "output_type": "stream",
       "stream": "stdout",
       "text": [
        "\n",
        "  1757  |    0.005842  |    0.006012  |     0.971736  |             |  9.7s"
       ]
      },
      {
       "output_type": "stream",
       "stream": "stdout",
       "text": [
        "\n",
        "  1758  |    0.005860  |    0.005962  |     0.982990  |             |  9.7s"
       ]
      },
      {
       "output_type": "stream",
       "stream": "stdout",
       "text": [
        "\n",
        "  1759  |    0.005765  |    0.006026  |     0.956692  |             |  9.7s"
       ]
      },
      {
       "output_type": "stream",
       "stream": "stdout",
       "text": [
        "\n",
        "  1760  |    0.005833  |    0.006014  |     0.969877  |             |  9.7s"
       ]
      },
      {
       "output_type": "stream",
       "stream": "stdout",
       "text": [
        "\n",
        "  1761  |    0.005777  |    0.006040  |     0.956499  |             |  9.7s"
       ]
      },
      {
       "output_type": "stream",
       "stream": "stdout",
       "text": [
        "\n",
        "  1762  |  \u001b[94m  0.005732\u001b[0m  |    0.005990  |     0.956876  |             |  9.7s"
       ]
      },
      {
       "output_type": "stream",
       "stream": "stdout",
       "text": [
        "\n",
        "  1763  |    0.005794  |    0.006005  |     0.964823  |             |  9.7s"
       ]
      },
      {
       "output_type": "stream",
       "stream": "stdout",
       "text": [
        "\n",
        "  1764  |    0.005749  |    0.006002  |     0.957905  |             |  9.7s"
       ]
      },
      {
       "output_type": "stream",
       "stream": "stdout",
       "text": [
        "\n",
        "  1765  |    0.005768  |    0.005978  |     0.964848  |             |  9.8s"
       ]
      },
      {
       "output_type": "stream",
       "stream": "stdout",
       "text": [
        "\n",
        "  1766  |    0.005773  |    0.006002  |     0.961888  |             |  9.8s"
       ]
      },
      {
       "output_type": "stream",
       "stream": "stdout",
       "text": [
        "\n",
        "  1767  |    0.005821  |    0.006010  |     0.968557  |             |  9.8s"
       ]
      },
      {
       "output_type": "stream",
       "stream": "stdout",
       "text": [
        "\n",
        "  1768  |    0.005766  |    0.006024  |     0.957140  |             |  9.8s"
       ]
      },
      {
       "output_type": "stream",
       "stream": "stdout",
       "text": [
        "\n",
        "  1769  |    0.005748  |    0.005979  |     0.961362  |             |  9.8s"
       ]
      },
      {
       "output_type": "stream",
       "stream": "stdout",
       "text": [
        "\n",
        "  1770  |    0.005834  |    0.005974  |     0.976555  |             |  9.8s"
       ]
      },
      {
       "output_type": "stream",
       "stream": "stdout",
       "text": [
        "\n",
        "  1771  |    0.005757  |    0.005969  |     0.964443  |             |  9.8s"
       ]
      },
      {
       "output_type": "stream",
       "stream": "stdout",
       "text": [
        "\n",
        "  1772  |    0.005757  |    0.005994  |     0.960492  |             |  9.8s"
       ]
      },
      {
       "output_type": "stream",
       "stream": "stdout",
       "text": [
        "\n",
        "  1773  |    0.005770  |    0.005976  |     0.965497  |             |  9.8s"
       ]
      },
      {
       "output_type": "stream",
       "stream": "stdout",
       "text": [
        "\n",
        "  1774  |    0.005800  |    0.005958  |     0.973531  |             |  9.8s"
       ]
      },
      {
       "output_type": "stream",
       "stream": "stdout",
       "text": [
        "\n",
        "  1775  |    0.005796  |    0.005959  |     0.972613  |             |  9.8s"
       ]
      },
      {
       "output_type": "stream",
       "stream": "stdout",
       "text": [
        "\n",
        "  1776  |    0.005735  |    0.005967  |     0.961070  |             |  9.7s"
       ]
      },
      {
       "output_type": "stream",
       "stream": "stdout",
       "text": [
        "\n",
        "  1777  |    0.005776  |  \u001b[32m  0.005942\u001b[0m  |     0.972113  |             |  9.8s"
       ]
      },
      {
       "output_type": "stream",
       "stream": "stdout",
       "text": [
        "\n",
        "  1778  |    0.005749  |    0.005972  |     0.962768  |             |  9.8s"
       ]
      },
      {
       "output_type": "stream",
       "stream": "stdout",
       "text": [
        "\n",
        "  1779  |    0.005741  |    0.005962  |     0.963001  |             |  9.8s"
       ]
      },
      {
       "output_type": "stream",
       "stream": "stdout",
       "text": [
        "\n",
        "  1780  |  \u001b[94m  0.005698\u001b[0m  |    0.005957  |     0.956497  |             |  9.7s"
       ]
      },
      {
       "output_type": "stream",
       "stream": "stdout",
       "text": [
        "\n",
        "  1781  |    0.005721  |    0.005974  |     0.957651  |             |  9.8s"
       ]
      },
      {
       "output_type": "stream",
       "stream": "stdout",
       "text": [
        "\n",
        "  1782  |    0.005747  |    0.005960  |     0.964198  |             |  9.8s"
       ]
      },
      {
       "output_type": "stream",
       "stream": "stdout",
       "text": [
        "\n",
        "  1783  |    0.005719  |    0.005988  |     0.955166  |             |  9.7s"
       ]
      },
      {
       "output_type": "stream",
       "stream": "stdout",
       "text": [
        "\n",
        "  1784  |  \u001b[94m  0.005690\u001b[0m  |    0.005950  |     0.956327  |             |  9.7s"
       ]
      },
      {
       "output_type": "stream",
       "stream": "stdout",
       "text": [
        "\n",
        "  1785  |    0.005702  |    0.005970  |     0.955158  |             |  9.7s"
       ]
      },
      {
       "output_type": "stream",
       "stream": "stdout",
       "text": [
        "\n",
        "  1786  |    0.005746  |    0.005973  |     0.961991  |             |  9.7s"
       ]
      },
      {
       "output_type": "stream",
       "stream": "stdout",
       "text": [
        "\n",
        "  1787  |    0.005713  |    0.005979  |     0.955514  |             |  9.7s"
       ]
      },
      {
       "output_type": "stream",
       "stream": "stdout",
       "text": [
        "\n",
        "  1788  |    0.005708  |    0.005981  |     0.954366  |             |  9.7s"
       ]
      },
      {
       "output_type": "stream",
       "stream": "stdout",
       "text": [
        "\n",
        "  1789  |    0.005730  |    0.005984  |     0.957533  |             |  9.7s"
       ]
      },
      {
       "output_type": "stream",
       "stream": "stdout",
       "text": [
        "\n",
        "  1790  |    0.005722  |    0.005997  |     0.954104  |             |  9.7s"
       ]
      },
      {
       "output_type": "stream",
       "stream": "stdout",
       "text": [
        "\n",
        "  1791  |  \u001b[94m  0.005671\u001b[0m  |    0.005968  |     0.950307  |             |  9.7s"
       ]
      },
      {
       "output_type": "stream",
       "stream": "stdout",
       "text": [
        "\n",
        "  1792  |    0.005708  |    0.005981  |     0.954392  |             |  9.7s"
       ]
      },
      {
       "output_type": "stream",
       "stream": "stdout",
       "text": [
        "\n",
        "  1793  |    0.005704  |  \u001b[32m  0.005936\u001b[0m  |     0.960927  |             |  9.7s"
       ]
      },
      {
       "output_type": "stream",
       "stream": "stdout",
       "text": [
        "\n",
        "  1794  |  \u001b[94m  0.005663\u001b[0m  |    0.005977  |     0.947341  |             |  9.7s"
       ]
      },
      {
       "output_type": "stream",
       "stream": "stdout",
       "text": [
        "\n",
        "  1795  |    0.005688  |    0.005976  |     0.951724  |             |  9.7s"
       ]
      },
      {
       "output_type": "stream",
       "stream": "stdout",
       "text": [
        "\n",
        "  1796  |    0.005673  |    0.005975  |     0.949382  |             |  9.8s"
       ]
      },
      {
       "output_type": "stream",
       "stream": "stdout",
       "text": [
        "\n",
        "  1797  |    0.005728  |    0.005946  |     0.963339  |             |  9.8s"
       ]
      },
      {
       "output_type": "stream",
       "stream": "stdout",
       "text": [
        "\n",
        "  1798  |    0.005709  |    0.005943  |     0.960637  |             |  9.8s"
       ]
      },
      {
       "output_type": "stream",
       "stream": "stdout",
       "text": [
        "\n",
        "  1799  |    0.005708  |    0.005990  |     0.952882  |             |  9.7s"
       ]
      },
      {
       "output_type": "stream",
       "stream": "stdout",
       "text": [
        "\n",
        "  1800  |    0.005718  |    0.005937  |     0.963090  |             |  9.7s"
       ]
      },
      {
       "output_type": "stream",
       "stream": "stdout",
       "text": [
        "\n",
        "  1801  |    0.005674  |  \u001b[32m  0.005935\u001b[0m  |     0.956025  |             |  9.7s"
       ]
      },
      {
       "output_type": "stream",
       "stream": "stdout",
       "text": [
        "\n",
        "  1802  |    0.005704  |    0.005951  |     0.958432  |             |  9.7s"
       ]
      },
      {
       "output_type": "stream",
       "stream": "stdout",
       "text": [
        "\n",
        "  1803  |    0.005748  |    0.005954  |     0.965443  |             |  9.8s"
       ]
      },
      {
       "output_type": "stream",
       "stream": "stdout",
       "text": [
        "\n",
        "  1804  |    0.005720  |    0.005976  |     0.957290  |             |  9.7s"
       ]
      },
      {
       "output_type": "stream",
       "stream": "stdout",
       "text": [
        "\n",
        "  1805  |    0.005756  |    0.005959  |     0.966050  |             |  9.7s"
       ]
      },
      {
       "output_type": "stream",
       "stream": "stdout",
       "text": [
        "\n",
        "  1806  |    0.005664  |    0.005975  |     0.947998  |             |  9.7s"
       ]
      },
      {
       "output_type": "stream",
       "stream": "stdout",
       "text": [
        "\n",
        "  1807  |    0.005665  |    0.005951  |     0.951904  |             |  9.7s"
       ]
      },
      {
       "output_type": "stream",
       "stream": "stdout",
       "text": [
        "\n",
        "  1808  |    0.005701  |    0.005941  |     0.959585  |             |  9.7s"
       ]
      },
      {
       "output_type": "stream",
       "stream": "stdout",
       "text": [
        "\n",
        "  1809  |    0.005692  |  \u001b[32m  0.005929\u001b[0m  |     0.960075  |             |  9.7s"
       ]
      },
      {
       "output_type": "stream",
       "stream": "stdout",
       "text": [
        "\n",
        "  1810  |    0.005685  |    0.005954  |     0.954833  |             |  9.7s"
       ]
      },
      {
       "output_type": "stream",
       "stream": "stdout",
       "text": [
        "\n",
        "  1811  |    0.005706  |    0.005949  |     0.959114  |             |  9.7s"
       ]
      },
      {
       "output_type": "stream",
       "stream": "stdout",
       "text": [
        "\n",
        "  1812  |  \u001b[94m  0.005651\u001b[0m  |    0.005929  |     0.953194  |             |  9.7s"
       ]
      },
      {
       "output_type": "stream",
       "stream": "stdout",
       "text": [
        "\n",
        "  1813  |    0.005696  |    0.005945  |     0.958103  |             |  9.7s"
       ]
      },
      {
       "output_type": "stream",
       "stream": "stdout",
       "text": [
        "\n",
        "  1814  |    0.005716  |    0.005954  |     0.959902  |             |  9.7s"
       ]
      },
      {
       "output_type": "stream",
       "stream": "stdout",
       "text": [
        "\n",
        "  1815  |  \u001b[94m  0.005640\u001b[0m  |    0.005960  |     0.946267  |             |  9.8s"
       ]
      },
      {
       "output_type": "stream",
       "stream": "stdout",
       "text": [
        "\n",
        "  1816  |    0.005723  |    0.005953  |     0.961393  |             |  9.7s"
       ]
      },
      {
       "output_type": "stream",
       "stream": "stdout",
       "text": [
        "\n",
        "  1817  |    0.005668  |    0.005932  |     0.955430  |             |  9.7s"
       ]
      },
      {
       "output_type": "stream",
       "stream": "stdout",
       "text": [
        "\n",
        "  1818  |    0.005655  |  \u001b[32m  0.005920\u001b[0m  |     0.955293  |             |  9.7s"
       ]
      },
      {
       "output_type": "stream",
       "stream": "stdout",
       "text": [
        "\n",
        "  1819  |    0.005733  |    0.005948  |     0.963935  |             |  9.7s"
       ]
      },
      {
       "output_type": "stream",
       "stream": "stdout",
       "text": [
        "\n",
        "  1820  |    0.005754  |    0.005942  |     0.968349  |             |  9.8s"
       ]
      },
      {
       "output_type": "stream",
       "stream": "stdout",
       "text": [
        "\n",
        "  1821  |  \u001b[94m  0.005591\u001b[0m  |  \u001b[32m  0.005904\u001b[0m  |     0.947102  |             |  9.8s"
       ]
      },
      {
       "output_type": "stream",
       "stream": "stdout",
       "text": [
        "\n",
        "  1822  |    0.005679  |  \u001b[32m  0.005893\u001b[0m  |     0.963606  |             |  9.8s"
       ]
      },
      {
       "output_type": "stream",
       "stream": "stdout",
       "text": [
        "\n",
        "  1823  |    0.005632  |    0.005901  |     0.954319  |             |  9.8s"
       ]
      },
      {
       "output_type": "stream",
       "stream": "stdout",
       "text": [
        "\n",
        "  1824  |    0.005642  |    0.005930  |     0.951434  |             |  9.7s"
       ]
      },
      {
       "output_type": "stream",
       "stream": "stdout",
       "text": [
        "\n",
        "  1825  |    0.005730  |    0.005894  |     0.972106  |             |  9.7s"
       ]
      },
      {
       "output_type": "stream",
       "stream": "stdout",
       "text": [
        "\n",
        "  1826  |    0.005634  |    0.005913  |     0.952808  |             |  9.7s"
       ]
      },
      {
       "output_type": "stream",
       "stream": "stdout",
       "text": [
        "\n",
        "  1827  |    0.005654  |    0.005939  |     0.952057  |             |  9.7s"
       ]
      },
      {
       "output_type": "stream",
       "stream": "stdout",
       "text": [
        "\n",
        "  1828  |    0.005620  |    0.005904  |     0.951833  |             |  9.7s"
       ]
      },
      {
       "output_type": "stream",
       "stream": "stdout",
       "text": [
        "\n",
        "  1829  |    0.005677  |    0.005931  |     0.957106  |             |  9.8s"
       ]
      },
      {
       "output_type": "stream",
       "stream": "stdout",
       "text": [
        "\n",
        "  1830  |    0.005614  |    0.005916  |     0.948945  |             |  9.8s"
       ]
      },
      {
       "output_type": "stream",
       "stream": "stdout",
       "text": [
        "\n",
        "  1831  |    0.005693  |    0.005932  |     0.959744  |             |  9.8s"
       ]
      },
      {
       "output_type": "stream",
       "stream": "stdout",
       "text": [
        "\n",
        "  1832  |    0.005598  |    0.005943  |     0.941943  |             |  9.8s"
       ]
      },
      {
       "output_type": "stream",
       "stream": "stdout",
       "text": [
        "\n",
        "  1833  |    0.005672  |    0.005895  |     0.962229  |             |  9.8s"
       ]
      },
      {
       "output_type": "stream",
       "stream": "stdout",
       "text": [
        "\n",
        "  1834  |    0.005630  |    0.005931  |     0.949294  |             |  9.4s"
       ]
      },
      {
       "output_type": "stream",
       "stream": "stdout",
       "text": [
        "\n",
        "  1835  |    0.005669  |    0.005933  |     0.955486  |             |  9.2s"
       ]
      },
      {
       "output_type": "stream",
       "stream": "stdout",
       "text": [
        "\n",
        "  1836  |    0.005676  |    0.005975  |     0.950000  |             |  9.3s"
       ]
      },
      {
       "output_type": "stream",
       "stream": "stdout",
       "text": [
        "\n",
        "  1837  |    0.005691  |    0.005917  |     0.961718  |             |  9.3s"
       ]
      },
      {
       "output_type": "stream",
       "stream": "stdout",
       "text": [
        "\n",
        "  1838  |    0.005625  |    0.005919  |     0.950287  |             |  9.2s"
       ]
      },
      {
       "output_type": "stream",
       "stream": "stdout",
       "text": [
        "\n",
        "  1839  |    0.005640  |    0.005935  |     0.950170  |             |  9.2s"
       ]
      },
      {
       "output_type": "stream",
       "stream": "stdout",
       "text": [
        "\n",
        "  1840  |    0.005635  |    0.005923  |     0.951440  |             |  9.3s"
       ]
      },
      {
       "output_type": "stream",
       "stream": "stdout",
       "text": [
        "\n",
        "  1841  |    0.005625  |    0.005983  |     0.940170  |             |  9.2s"
       ]
      },
      {
       "output_type": "stream",
       "stream": "stdout",
       "text": [
        "\n",
        "  1842  |    0.005661  |    0.005937  |     0.953483  |             |  9.3s"
       ]
      },
      {
       "output_type": "stream",
       "stream": "stdout",
       "text": [
        "\n",
        "  1843  |    0.005679  |    0.005926  |     0.958320  |             |  9.5s"
       ]
      },
      {
       "output_type": "stream",
       "stream": "stdout",
       "text": [
        "\n",
        "  1844  |    0.005686  |    0.005918  |     0.960834  |             |  9.5s"
       ]
      },
      {
       "output_type": "stream",
       "stream": "stdout",
       "text": [
        "\n",
        "  1845  |    0.005607  |    0.005945  |     0.943185  |             |  9.5s"
       ]
      },
      {
       "output_type": "stream",
       "stream": "stdout",
       "text": [
        "\n",
        "  1846  |  \u001b[94m  0.005571\u001b[0m  |    0.005931  |     0.939296  |             |  9.4s"
       ]
      },
      {
       "output_type": "stream",
       "stream": "stdout",
       "text": [
        "\n",
        "  1847  |    0.005617  |    0.005943  |     0.945198  |             |  9.2s"
       ]
      },
      {
       "output_type": "stream",
       "stream": "stdout",
       "text": [
        "\n",
        "  1848  |  \u001b[94m  0.005534\u001b[0m  |    0.005918  |     0.934995  |             |  9.4s"
       ]
      },
      {
       "output_type": "stream",
       "stream": "stdout",
       "text": [
        "\n",
        "  1849  |    0.005587  |    0.005901  |     0.946739  |             |  9.3s"
       ]
      },
      {
       "output_type": "stream",
       "stream": "stdout",
       "text": [
        "\n",
        "  1850  |    0.005656  |    0.005926  |     0.954347  |             |  9.2s"
       ]
      },
      {
       "output_type": "stream",
       "stream": "stdout",
       "text": [
        "\n",
        "  1851  |    0.005575  |  \u001b[32m  0.005888\u001b[0m  |     0.946794  |             |  9.2s"
       ]
      },
      {
       "output_type": "stream",
       "stream": "stdout",
       "text": [
        "\n",
        "  1852  |    0.005579  |    0.005901  |     0.945382  |             |  9.2s"
       ]
      },
      {
       "output_type": "stream",
       "stream": "stdout",
       "text": [
        "\n",
        "  1853  |    0.005545  |    0.005941  |     0.933333  |             |  9.2s"
       ]
      },
      {
       "output_type": "stream",
       "stream": "stdout",
       "text": [
        "\n",
        "  1854  |    0.005550  |    0.005929  |     0.936034  |             |  9.2s"
       ]
      },
      {
       "output_type": "stream",
       "stream": "stdout",
       "text": [
        "\n",
        "  1855  |    0.005659  |    0.005925  |     0.955058  |             |  9.2s"
       ]
      },
      {
       "output_type": "stream",
       "stream": "stdout",
       "text": [
        "\n",
        "  1856  |    0.005590  |    0.005912  |     0.945508  |             |  9.2s"
       ]
      },
      {
       "output_type": "stream",
       "stream": "stdout",
       "text": [
        "\n",
        "  1857  |    0.005593  |    0.005908  |     0.946706  |             |  9.2s"
       ]
      },
      {
       "output_type": "stream",
       "stream": "stdout",
       "text": [
        "\n",
        "  1858  |    0.005649  |    0.005926  |     0.953293  |             |  9.2s"
       ]
      },
      {
       "output_type": "stream",
       "stream": "stdout",
       "text": [
        "\n",
        "  1859  |    0.005588  |    0.005917  |     0.944348  |             |  9.2s"
       ]
      },
      {
       "output_type": "stream",
       "stream": "stdout",
       "text": [
        "\n",
        "  1860  |    0.005567  |    0.005900  |     0.943627  |             |  9.2s"
       ]
      },
      {
       "output_type": "stream",
       "stream": "stdout",
       "text": [
        "\n",
        "  1861  |    0.005600  |    0.005921  |     0.945869  |             |  9.2s"
       ]
      },
      {
       "output_type": "stream",
       "stream": "stdout",
       "text": [
        "\n",
        "  1862  |    0.005561  |    0.005954  |     0.934063  |             |  9.2s"
       ]
      },
      {
       "output_type": "stream",
       "stream": "stdout",
       "text": [
        "\n",
        "  1863  |    0.005557  |    0.005909  |     0.940420  |             |  9.2s"
       ]
      },
      {
       "output_type": "stream",
       "stream": "stdout",
       "text": [
        "\n",
        "  1864  |    0.005558  |    0.005911  |     0.940378  |             |  9.2s"
       ]
      },
      {
       "output_type": "stream",
       "stream": "stdout",
       "text": [
        "\n",
        "  1865  |    0.005663  |    0.005910  |     0.958283  |             |  9.2s"
       ]
      },
      {
       "output_type": "stream",
       "stream": "stdout",
       "text": [
        "\n",
        "  1866  |    0.005614  |    0.005913  |     0.949416  |             |  9.2s"
       ]
      },
      {
       "output_type": "stream",
       "stream": "stdout",
       "text": [
        "\n",
        "  1867  |    0.005617  |    0.005905  |     0.951249  |             |  9.2s"
       ]
      },
      {
       "output_type": "stream",
       "stream": "stdout",
       "text": [
        "\n",
        "  1868  |    0.005613  |    0.005889  |     0.953110  |             |  9.2s"
       ]
      },
      {
       "output_type": "stream",
       "stream": "stdout",
       "text": [
        "\n",
        "  1869  |    0.005570  |    0.005915  |     0.941673  |             |  9.2s"
       ]
      },
      {
       "output_type": "stream",
       "stream": "stdout",
       "text": [
        "\n",
        "  1870  |    0.005537  |    0.005890  |     0.939983  |             |  9.2s"
       ]
      },
      {
       "output_type": "stream",
       "stream": "stdout",
       "text": [
        "\n",
        "  1871  |    0.005563  |  \u001b[32m  0.005888\u001b[0m  |     0.944813  |             |  9.2s"
       ]
      },
      {
       "output_type": "stream",
       "stream": "stdout",
       "text": [
        "\n",
        "  1872  |    0.005591  |    0.005936  |     0.941970  |             |  9.2s"
       ]
      },
      {
       "output_type": "stream",
       "stream": "stdout",
       "text": [
        "\n",
        "  1873  |    0.005565  |    0.005930  |     0.938393  |             |  9.2s"
       ]
      },
      {
       "output_type": "stream",
       "stream": "stdout",
       "text": [
        "\n",
        "  1874  |  \u001b[94m  0.005515\u001b[0m  |    0.005891  |     0.936249  |             |  9.2s"
       ]
      },
      {
       "output_type": "stream",
       "stream": "stdout",
       "text": [
        "\n",
        "  1875  |    0.005552  |  \u001b[32m  0.005878\u001b[0m  |     0.944579  |             |  9.2s"
       ]
      },
      {
       "output_type": "stream",
       "stream": "stdout",
       "text": [
        "\n",
        "  1876  |    0.005523  |    0.005889  |     0.937802  |             |  9.2s"
       ]
      },
      {
       "output_type": "stream",
       "stream": "stdout",
       "text": [
        "\n",
        "  1877  |    0.005530  |    0.005888  |     0.939273  |             |  9.2s"
       ]
      },
      {
       "output_type": "stream",
       "stream": "stdout",
       "text": [
        "\n",
        "  1878  |    0.005577  |    0.005913  |     0.943282  |             |  9.2s"
       ]
      },
      {
       "output_type": "stream",
       "stream": "stdout",
       "text": [
        "\n",
        "  1879  |  \u001b[94m  0.005488\u001b[0m  |    0.005892  |     0.931311  |             |  9.2s"
       ]
      },
      {
       "output_type": "stream",
       "stream": "stdout",
       "text": [
        "\n",
        "  1880  |    0.005558  |    0.005879  |     0.945444  |             |  9.2s"
       ]
      },
      {
       "output_type": "stream",
       "stream": "stdout",
       "text": [
        "\n",
        "  1881  |    0.005559  |    0.005883  |     0.944916  |             |  9.2s"
       ]
      },
      {
       "output_type": "stream",
       "stream": "stdout",
       "text": [
        "\n",
        "  1882  |    0.005550  |  \u001b[32m  0.005876\u001b[0m  |     0.944513  |             |  9.2s"
       ]
      },
      {
       "output_type": "stream",
       "stream": "stdout",
       "text": [
        "\n",
        "  1883  |    0.005556  |    0.005905  |     0.940843  |             |  9.2s"
       ]
      },
      {
       "output_type": "stream",
       "stream": "stdout",
       "text": [
        "\n",
        "  1884  |    0.005555  |    0.005879  |     0.944791  |             |  9.2s"
       ]
      },
      {
       "output_type": "stream",
       "stream": "stdout",
       "text": [
        "\n",
        "  1885  |    0.005527  |    0.005886  |     0.939025  |             |  9.2s"
       ]
      },
      {
       "output_type": "stream",
       "stream": "stdout",
       "text": [
        "\n",
        "  1886  |    0.005572  |    0.005912  |     0.942598  |             |  9.2s"
       ]
      },
      {
       "output_type": "stream",
       "stream": "stdout",
       "text": [
        "\n",
        "  1887  |    0.005651  |    0.005885  |     0.960316  |             |  9.2s"
       ]
      },
      {
       "output_type": "stream",
       "stream": "stdout",
       "text": [
        "\n",
        "  1888  |    0.005538  |    0.005886  |     0.940813  |             |  9.2s"
       ]
      },
      {
       "output_type": "stream",
       "stream": "stdout",
       "text": [
        "\n",
        "  1889  |    0.005533  |  \u001b[32m  0.005854\u001b[0m  |     0.945216  |             |  9.2s"
       ]
      },
      {
       "output_type": "stream",
       "stream": "stdout",
       "text": [
        "\n",
        "  1890  |  \u001b[94m  0.005485\u001b[0m  |    0.005888  |     0.931545  |             |  9.2s"
       ]
      },
      {
       "output_type": "stream",
       "stream": "stdout",
       "text": [
        "\n",
        "  1891  |    0.005578  |    0.005868  |     0.950586  |             |  9.2s"
       ]
      },
      {
       "output_type": "stream",
       "stream": "stdout",
       "text": [
        "\n",
        "  1892  |    0.005518  |    0.005889  |     0.937021  |             |  9.2s"
       ]
      },
      {
       "output_type": "stream",
       "stream": "stdout",
       "text": [
        "\n",
        "  1893  |    0.005545  |    0.005926  |     0.935738  |             |  9.2s"
       ]
      },
      {
       "output_type": "stream",
       "stream": "stdout",
       "text": [
        "\n",
        "  1894  |    0.005577  |    0.005892  |     0.946567  |             |  9.2s"
       ]
      },
      {
       "output_type": "stream",
       "stream": "stdout",
       "text": [
        "\n",
        "  1895  |    0.005531  |    0.005901  |     0.937211  |             |  9.2s"
       ]
      },
      {
       "output_type": "stream",
       "stream": "stdout",
       "text": [
        "\n",
        "  1896  |  \u001b[94m  0.005484\u001b[0m  |    0.005872  |     0.933959  |             |  9.2s"
       ]
      },
      {
       "output_type": "stream",
       "stream": "stdout",
       "text": [
        "\n",
        "  1897  |    0.005539  |    0.005855  |     0.946063  |             |  9.2s"
       ]
      },
      {
       "output_type": "stream",
       "stream": "stdout",
       "text": [
        "\n",
        "  1898  |    0.005485  |    0.005916  |     0.927112  |             |  9.2s"
       ]
      },
      {
       "output_type": "stream",
       "stream": "stdout",
       "text": [
        "\n",
        "  1899  |    0.005507  |    0.005871  |     0.938033  |             |  9.2s"
       ]
      },
      {
       "output_type": "stream",
       "stream": "stdout",
       "text": [
        "\n",
        "  1900  |    0.005489  |    0.005868  |     0.935409  |             |  9.2s"
       ]
      },
      {
       "output_type": "stream",
       "stream": "stdout",
       "text": [
        "\n",
        "  1901  |    0.005534  |    0.005889  |     0.939789  |             |  9.2s"
       ]
      },
      {
       "output_type": "stream",
       "stream": "stdout",
       "text": [
        "\n",
        "  1902  |    0.005530  |    0.005886  |     0.939490  |             |  9.2s"
       ]
      },
      {
       "output_type": "stream",
       "stream": "stdout",
       "text": [
        "\n",
        "  1903  |    0.005526  |    0.005919  |     0.933499  |             |  9.2s"
       ]
      },
      {
       "output_type": "stream",
       "stream": "stdout",
       "text": [
        "\n",
        "  1904  |    0.005526  |    0.005896  |     0.937356  |             |  9.2s"
       ]
      },
      {
       "output_type": "stream",
       "stream": "stdout",
       "text": [
        "\n",
        "  1905  |    0.005509  |  \u001b[32m  0.005853\u001b[0m  |     0.941345  |             |  9.2s"
       ]
      },
      {
       "output_type": "stream",
       "stream": "stdout",
       "text": [
        "\n",
        "  1906  |    0.005506  |    0.005866  |     0.938577  |             |  9.2s"
       ]
      },
      {
       "output_type": "stream",
       "stream": "stdout",
       "text": [
        "\n",
        "  1907  |    0.005520  |    0.005870  |     0.940360  |             |  9.2s"
       ]
      },
      {
       "output_type": "stream",
       "stream": "stdout",
       "text": [
        "\n",
        "  1908  |    0.005498  |    0.005889  |     0.933665  |             |  9.2s"
       ]
      },
      {
       "output_type": "stream",
       "stream": "stdout",
       "text": [
        "\n",
        "  1909  |  \u001b[94m  0.005481\u001b[0m  |    0.005855  |     0.936061  |             |  9.2s"
       ]
      },
      {
       "output_type": "stream",
       "stream": "stdout",
       "text": [
        "\n",
        "  1910  |    0.005535  |    0.005884  |     0.940642  |             |  9.2s"
       ]
      },
      {
       "output_type": "stream",
       "stream": "stdout",
       "text": [
        "\n",
        "  1911  |    0.005486  |    0.005862  |     0.935893  |             |  9.2s"
       ]
      },
      {
       "output_type": "stream",
       "stream": "stdout",
       "text": [
        "\n",
        "  1912  |  \u001b[94m  0.005446\u001b[0m  |    0.005902  |     0.922759  |             |  9.2s"
       ]
      },
      {
       "output_type": "stream",
       "stream": "stdout",
       "text": [
        "\n",
        "  1913  |    0.005462  |    0.005902  |     0.925449  |             |  9.2s"
       ]
      },
      {
       "output_type": "stream",
       "stream": "stdout",
       "text": [
        "\n",
        "  1914  |  \u001b[94m  0.005440\u001b[0m  |    0.005862  |     0.928008  |             |  9.2s"
       ]
      },
      {
       "output_type": "stream",
       "stream": "stdout",
       "text": [
        "\n",
        "  1915  |    0.005443  |    0.005890  |     0.924054  |             |  9.2s"
       ]
      },
      {
       "output_type": "stream",
       "stream": "stdout",
       "text": [
        "\n",
        "  1916  |    0.005489  |    0.005874  |     0.934509  |             |  9.2s"
       ]
      },
      {
       "output_type": "stream",
       "stream": "stdout",
       "text": [
        "\n",
        "  1917  |    0.005515  |    0.005875  |     0.938754  |             |  9.2s"
       ]
      },
      {
       "output_type": "stream",
       "stream": "stdout",
       "text": [
        "\n",
        "  1918  |  \u001b[94m  0.005439\u001b[0m  |    0.005860  |     0.928069  |             |  9.2s"
       ]
      },
      {
       "output_type": "stream",
       "stream": "stdout",
       "text": [
        "\n",
        "  1919  |    0.005509  |  \u001b[32m  0.005850\u001b[0m  |     0.941725  |             |  9.2s"
       ]
      },
      {
       "output_type": "stream",
       "stream": "stdout",
       "text": [
        "\n",
        "  1920  |    0.005495  |    0.005871  |     0.935975  |             |  9.2s"
       ]
      },
      {
       "output_type": "stream",
       "stream": "stdout",
       "text": [
        "\n",
        "  1921  |    0.005483  |    0.005874  |     0.933405  |             |  9.2s"
       ]
      },
      {
       "output_type": "stream",
       "stream": "stdout",
       "text": [
        "\n",
        "  1922  |    0.005471  |    0.005909  |     0.925979  |             |  9.2s"
       ]
      },
      {
       "output_type": "stream",
       "stream": "stdout",
       "text": [
        "\n",
        "  1923  |  \u001b[94m  0.005390\u001b[0m  |    0.005905  |     0.912744  |             |  9.2s"
       ]
      },
      {
       "output_type": "stream",
       "stream": "stdout",
       "text": [
        "\n",
        "  1924  |    0.005458  |    0.005888  |     0.926992  |             |  9.2s"
       ]
      },
      {
       "output_type": "stream",
       "stream": "stdout",
       "text": [
        "\n",
        "  1925  |    0.005480  |  \u001b[32m  0.005846\u001b[0m  |     0.937334  |             |  9.2s"
       ]
      },
      {
       "output_type": "stream",
       "stream": "stdout",
       "text": [
        "\n",
        "  1926  |  \u001b[94m  0.005384\u001b[0m  |    0.005884  |     0.915132  |             |  9.2s"
       ]
      },
      {
       "output_type": "stream",
       "stream": "stdout",
       "text": [
        "\n",
        "  1927  |    0.005538  |    0.005863  |     0.944490  |             |  9.2s"
       ]
      },
      {
       "output_type": "stream",
       "stream": "stdout",
       "text": [
        "\n",
        "  1928  |    0.005463  |    0.005847  |     0.934256  |             |  9.2s"
       ]
      },
      {
       "output_type": "stream",
       "stream": "stdout",
       "text": [
        "\n",
        "  1929  |    0.005476  |    0.005855  |     0.935245  |             |  9.2s"
       ]
      },
      {
       "output_type": "stream",
       "stream": "stdout",
       "text": [
        "\n",
        "  1930  |    0.005477  |    0.005891  |     0.929831  |             |  9.2s"
       ]
      },
      {
       "output_type": "stream",
       "stream": "stdout",
       "text": [
        "\n",
        "  1931  |    0.005522  |    0.005895  |     0.936697  |             |  9.2s"
       ]
      },
      {
       "output_type": "stream",
       "stream": "stdout",
       "text": [
        "\n",
        "  1932  |    0.005465  |    0.005868  |     0.931337  |             |  9.2s"
       ]
      },
      {
       "output_type": "stream",
       "stream": "stdout",
       "text": [
        "\n",
        "  1933  |    0.005476  |    0.005895  |     0.928881  |             |  9.2s"
       ]
      },
      {
       "output_type": "stream",
       "stream": "stdout",
       "text": [
        "\n",
        "  1934  |    0.005462  |    0.005855  |     0.932916  |             |  9.2s"
       ]
      },
      {
       "output_type": "stream",
       "stream": "stdout",
       "text": [
        "\n",
        "  1935  |    0.005476  |    0.005880  |     0.931297  |             |  9.2s"
       ]
      },
      {
       "output_type": "stream",
       "stream": "stdout",
       "text": [
        "\n",
        "  1936  |    0.005400  |  \u001b[32m  0.005834\u001b[0m  |     0.925590  |             |  9.2s"
       ]
      },
      {
       "output_type": "stream",
       "stream": "stdout",
       "text": [
        "\n",
        "  1937  |    0.005409  |    0.005877  |     0.920270  |             |  9.2s"
       ]
      },
      {
       "output_type": "stream",
       "stream": "stdout",
       "text": [
        "\n",
        "  1938  |    0.005477  |    0.005878  |     0.931885  |             |  9.2s"
       ]
      },
      {
       "output_type": "stream",
       "stream": "stdout",
       "text": [
        "\n",
        "  1939  |    0.005433  |    0.005899  |     0.921057  |             |  9.2s"
       ]
      },
      {
       "output_type": "stream",
       "stream": "stdout",
       "text": [
        "\n",
        "  1940  |    0.005464  |    0.005887  |     0.928189  |             |  9.2s"
       ]
      },
      {
       "output_type": "stream",
       "stream": "stdout",
       "text": [
        "\n",
        "  1941  |    0.005451  |    0.005876  |     0.927701  |             |  9.2s"
       ]
      },
      {
       "output_type": "stream",
       "stream": "stdout",
       "text": [
        "\n",
        "  1942  |    0.005478  |    0.005885  |     0.930923  |             |  9.2s"
       ]
      },
      {
       "output_type": "stream",
       "stream": "stdout",
       "text": [
        "\n",
        "  1943  |    0.005414  |    0.005889  |     0.919401  |             |  9.2s"
       ]
      },
      {
       "output_type": "stream",
       "stream": "stdout",
       "text": [
        "\n",
        "  1944  |    0.005446  |    0.005891  |     0.924465  |             |  9.2s"
       ]
      },
      {
       "output_type": "stream",
       "stream": "stdout",
       "text": [
        "\n",
        "  1945  |    0.005457  |    0.005881  |     0.927928  |             |  9.2s"
       ]
      },
      {
       "output_type": "stream",
       "stream": "stdout",
       "text": [
        "\n",
        "  1946  |    0.005449  |    0.005870  |     0.928250  |             |  9.2s"
       ]
      },
      {
       "output_type": "stream",
       "stream": "stdout",
       "text": [
        "\n",
        "  1947  |    0.005431  |    0.005834  |     0.930857  |             |  9.2s"
       ]
      },
      {
       "output_type": "stream",
       "stream": "stdout",
       "text": [
        "\n",
        "  1948  |    0.005493  |    0.005852  |     0.938640  |             |  9.2s"
       ]
      },
      {
       "output_type": "stream",
       "stream": "stdout",
       "text": [
        "\n",
        "  1949  |    0.005473  |    0.005837  |     0.937748  |             |  9.2s"
       ]
      },
      {
       "output_type": "stream",
       "stream": "stdout",
       "text": [
        "\n",
        "  1950  |    0.005419  |  \u001b[32m  0.005829\u001b[0m  |     0.929762  |             |  9.2s"
       ]
      },
      {
       "output_type": "stream",
       "stream": "stdout",
       "text": [
        "\n",
        "  1951  |    0.005441  |    0.005927  |     0.918010  |             |  9.2s"
       ]
      },
      {
       "output_type": "stream",
       "stream": "stdout",
       "text": [
        "\n",
        "  1952  |    0.005488  |    0.005877  |     0.933851  |             |  9.2s"
       ]
      },
      {
       "output_type": "stream",
       "stream": "stdout",
       "text": [
        "\n",
        "  1953  |    0.005437  |    0.005872  |     0.925860  |             |  9.2s"
       ]
      },
      {
       "output_type": "stream",
       "stream": "stdout",
       "text": [
        "\n",
        "  1954  |    0.005419  |    0.005855  |     0.925685  |             |  9.2s"
       ]
      },
      {
       "output_type": "stream",
       "stream": "stdout",
       "text": [
        "\n",
        "  1955  |    0.005435  |    0.005852  |     0.928719  |             |  9.2s"
       ]
      },
      {
       "output_type": "stream",
       "stream": "stdout",
       "text": [
        "\n",
        "  1956  |  \u001b[94m  0.005369\u001b[0m  |    0.005862  |     0.915944  |             |  9.2s"
       ]
      },
      {
       "output_type": "stream",
       "stream": "stdout",
       "text": [
        "\n",
        "  1957  |    0.005430  |    0.005844  |     0.929170  |             |  9.2s"
       ]
      },
      {
       "output_type": "stream",
       "stream": "stdout",
       "text": [
        "\n",
        "  1958  |  \u001b[94m  0.005369\u001b[0m  |    0.005867  |     0.915075  |             |  9.2s"
       ]
      },
      {
       "output_type": "stream",
       "stream": "stdout",
       "text": [
        "\n",
        "  1959  |    0.005398  |    0.005870  |     0.919558  |             |  9.2s"
       ]
      },
      {
       "output_type": "stream",
       "stream": "stdout",
       "text": [
        "\n",
        "  1960  |    0.005464  |    0.005856  |     0.933086  |             |  9.2s"
       ]
      },
      {
       "output_type": "stream",
       "stream": "stdout",
       "text": [
        "\n",
        "  1961  |    0.005378  |  \u001b[32m  0.005807\u001b[0m  |     0.926027  |             |  9.2s"
       ]
      },
      {
       "output_type": "stream",
       "stream": "stdout",
       "text": [
        "\n",
        "  1962  |  \u001b[94m  0.005351\u001b[0m  |    0.005843  |     0.915825  |             |  9.2s"
       ]
      },
      {
       "output_type": "stream",
       "stream": "stdout",
       "text": [
        "\n",
        "  1963  |    0.005443  |    0.005836  |     0.932627  |             |  9.2s"
       ]
      },
      {
       "output_type": "stream",
       "stream": "stdout",
       "text": [
        "\n",
        "  1964  |    0.005386  |    0.005842  |     0.921876  |             |  9.2s"
       ]
      },
      {
       "output_type": "stream",
       "stream": "stdout",
       "text": [
        "\n",
        "  1965  |    0.005427  |    0.005846  |     0.928293  |             |  9.2s"
       ]
      },
      {
       "output_type": "stream",
       "stream": "stdout",
       "text": [
        "\n",
        "  1966  |    0.005388  |    0.005848  |     0.921378  |             |  9.2s"
       ]
      },
      {
       "output_type": "stream",
       "stream": "stdout",
       "text": [
        "\n",
        "  1967  |    0.005398  |    0.005837  |     0.924749  |             |  9.2s"
       ]
      },
      {
       "output_type": "stream",
       "stream": "stdout",
       "text": [
        "\n",
        "  1968  |    0.005376  |    0.005836  |     0.921239  |             |  9.2s"
       ]
      },
      {
       "output_type": "stream",
       "stream": "stdout",
       "text": [
        "\n",
        "  1969  |    0.005393  |    0.005823  |     0.926284  |             |  9.2s"
       ]
      },
      {
       "output_type": "stream",
       "stream": "stdout",
       "text": [
        "\n",
        "  1970  |    0.005364  |  \u001b[32m  0.005791\u001b[0m  |     0.926144  |             |  9.2s"
       ]
      },
      {
       "output_type": "stream",
       "stream": "stdout",
       "text": [
        "\n",
        "  1971  |    0.005388  |    0.005821  |     0.925516  |             |  9.2s"
       ]
      },
      {
       "output_type": "stream",
       "stream": "stdout",
       "text": [
        "\n",
        "  1972  |  \u001b[94m  0.005327\u001b[0m  |    0.005794  |     0.919357  |             |  9.2s"
       ]
      },
      {
       "output_type": "stream",
       "stream": "stdout",
       "text": [
        "\n",
        "  1973  |    0.005383  |    0.005822  |     0.924657  |             |  9.2s"
       ]
      },
      {
       "output_type": "stream",
       "stream": "stdout",
       "text": [
        "\n",
        "  1974  |    0.005379  |    0.005822  |     0.923965  |             |  9.2s"
       ]
      },
      {
       "output_type": "stream",
       "stream": "stdout",
       "text": [
        "\n",
        "  1975  |    0.005403  |  \u001b[32m  0.005783\u001b[0m  |     0.934344  |             |  9.2s"
       ]
      },
      {
       "output_type": "stream",
       "stream": "stdout",
       "text": [
        "\n",
        "  1976  |    0.005348  |    0.005846  |     0.914766  |             |  9.2s"
       ]
      },
      {
       "output_type": "stream",
       "stream": "stdout",
       "text": [
        "\n",
        "  1977  |    0.005396  |    0.005799  |     0.930571  |             |  9.2s"
       ]
      },
      {
       "output_type": "stream",
       "stream": "stdout",
       "text": [
        "\n",
        "  1978  |    0.005350  |    0.005849  |     0.914720  |             |  9.2s"
       ]
      },
      {
       "output_type": "stream",
       "stream": "stdout",
       "text": [
        "\n",
        "  1979  |    0.005471  |    0.005833  |     0.937918  |             |  9.2s"
       ]
      },
      {
       "output_type": "stream",
       "stream": "stdout",
       "text": [
        "\n",
        "  1980  |    0.005359  |  \u001b[32m  0.005781\u001b[0m  |     0.926965  |             |  9.2s"
       ]
      },
      {
       "output_type": "stream",
       "stream": "stdout",
       "text": [
        "\n",
        "  1981  |    0.005455  |    0.005850  |     0.932449  |             |  9.2s"
       ]
      },
      {
       "output_type": "stream",
       "stream": "stdout",
       "text": [
        "\n",
        "  1982  |    0.005378  |    0.005795  |     0.928117  |             |  9.2s"
       ]
      },
      {
       "output_type": "stream",
       "stream": "stdout",
       "text": [
        "\n",
        "  1983  |    0.005427  |    0.005840  |     0.929410  |             |  9.2s"
       ]
      },
      {
       "output_type": "stream",
       "stream": "stdout",
       "text": [
        "\n",
        "  1984  |    0.005405  |    0.005810  |     0.930222  |             |  9.2s"
       ]
      },
      {
       "output_type": "stream",
       "stream": "stdout",
       "text": [
        "\n",
        "  1985  |    0.005399  |    0.005806  |     0.929927  |             |  9.2s"
       ]
      },
      {
       "output_type": "stream",
       "stream": "stdout",
       "text": [
        "\n",
        "  1986  |    0.005374  |    0.005802  |     0.926249  |             |  9.2s"
       ]
      },
      {
       "output_type": "stream",
       "stream": "stdout",
       "text": [
        "\n",
        "  1987  |    0.005379  |    0.005803  |     0.926879  |             |  9.2s"
       ]
      },
      {
       "output_type": "stream",
       "stream": "stdout",
       "text": [
        "\n",
        "  1988  |    0.005370  |    0.005828  |     0.921441  |             |  9.2s"
       ]
      },
      {
       "output_type": "stream",
       "stream": "stdout",
       "text": [
        "\n",
        "  1989  |    0.005393  |    0.005854  |     0.921206  |             |  9.2s"
       ]
      },
      {
       "output_type": "stream",
       "stream": "stdout",
       "text": [
        "\n",
        "  1990  |    0.005365  |    0.005816  |     0.922354  |             |  9.2s"
       ]
      },
      {
       "output_type": "stream",
       "stream": "stdout",
       "text": [
        "\n",
        "  1991  |    0.005364  |    0.005874  |     0.913192  |             |  9.2s"
       ]
      },
      {
       "output_type": "stream",
       "stream": "stdout",
       "text": [
        "\n",
        "  1992  |    0.005371  |    0.005837  |     0.920236  |             |  9.2s"
       ]
      },
      {
       "output_type": "stream",
       "stream": "stdout",
       "text": [
        "\n",
        "  1993  |  \u001b[94m  0.005302\u001b[0m  |    0.005845  |     0.907093  |             |  9.2s"
       ]
      },
      {
       "output_type": "stream",
       "stream": "stdout",
       "text": [
        "\n",
        "  1994  |    0.005391  |    0.005859  |     0.920097  |             |  9.2s"
       ]
      },
      {
       "output_type": "stream",
       "stream": "stdout",
       "text": [
        "\n",
        "  1995  |  \u001b[94m  0.005297\u001b[0m  |    0.005845  |     0.906343  |             |  9.2s"
       ]
      },
      {
       "output_type": "stream",
       "stream": "stdout",
       "text": [
        "\n",
        "  1996  |    0.005404  |    0.005835  |     0.926015  |             |  9.2s"
       ]
      },
      {
       "output_type": "stream",
       "stream": "stdout",
       "text": [
        "\n",
        "  1997  |    0.005340  |    0.005817  |     0.917879  |             |  9.2s"
       ]
      },
      {
       "output_type": "stream",
       "stream": "stdout",
       "text": [
        "\n",
        "  1998  |    0.005332  |    0.005819  |     0.916289  |             |  9.2s"
       ]
      },
      {
       "output_type": "stream",
       "stream": "stdout",
       "text": [
        "\n",
        "  1999  |  \u001b[94m  0.005278\u001b[0m  |    0.005809  |     0.908536  |             |  9.2s"
       ]
      },
      {
       "output_type": "stream",
       "stream": "stdout",
       "text": [
        "\n",
        "  2000  |    0.005371  |    0.005813  |     0.923880  |             |  9.2s"
       ]
      },
      {
       "output_type": "stream",
       "stream": "stdout",
       "text": [
        "\n",
        "  2001  |    0.005351  |    0.005815  |     0.920319  |             |  9.2s"
       ]
      },
      {
       "output_type": "stream",
       "stream": "stdout",
       "text": [
        "\n",
        "  2002  |    0.005360  |    0.005809  |     0.922744  |             |  9.2s"
       ]
      },
      {
       "output_type": "stream",
       "stream": "stdout",
       "text": [
        "\n",
        "  2003  |    0.005324  |    0.005831  |     0.913007  |             |  9.2s"
       ]
      },
      {
       "output_type": "stream",
       "stream": "stdout",
       "text": [
        "\n",
        "  2004  |    0.005346  |    0.005826  |     0.917733  |             |  9.2s"
       ]
      },
      {
       "output_type": "stream",
       "stream": "stdout",
       "text": [
        "\n",
        "  2005  |    0.005389  |    0.005850  |     0.921221  |             |  9.2s"
       ]
      },
      {
       "output_type": "stream",
       "stream": "stdout",
       "text": [
        "\n",
        "  2006  |    0.005380  |    0.005800  |     0.927456  |             |  9.2s"
       ]
      },
      {
       "output_type": "stream",
       "stream": "stdout",
       "text": [
        "\n",
        "  2007  |    0.005340  |    0.005872  |     0.909443  |             |  9.2s"
       ]
      },
      {
       "output_type": "stream",
       "stream": "stdout",
       "text": [
        "\n",
        "  2008  |    0.005364  |    0.005790  |     0.926464  |             |  9.2s"
       ]
      },
      {
       "output_type": "stream",
       "stream": "stdout",
       "text": [
        "\n",
        "  2009  |    0.005337  |    0.005852  |     0.911901  |             |  9.2s"
       ]
      },
      {
       "output_type": "stream",
       "stream": "stdout",
       "text": [
        "\n",
        "  2010  |    0.005296  |    0.005790  |     0.914704  |             |  9.2s"
       ]
      },
      {
       "output_type": "stream",
       "stream": "stdout",
       "text": [
        "\n",
        "  2011  |    0.005387  |    0.005787  |     0.930979  |             |  9.2s"
       ]
      },
      {
       "output_type": "stream",
       "stream": "stdout",
       "text": [
        "\n",
        "  2012  |    0.005307  |    0.005815  |     0.912663  |             |  9.2s"
       ]
      },
      {
       "output_type": "stream",
       "stream": "stdout",
       "text": [
        "\n",
        "  2013  |    0.005356  |  \u001b[32m  0.005768\u001b[0m  |     0.928613  |             |  9.2s"
       ]
      },
      {
       "output_type": "stream",
       "stream": "stdout",
       "text": [
        "\n",
        "  2014  |    0.005386  |    0.005821  |     0.925230  |             |  9.2s"
       ]
      },
      {
       "output_type": "stream",
       "stream": "stdout",
       "text": [
        "\n",
        "  2015  |    0.005356  |    0.005858  |     0.914187  |             |  9.2s"
       ]
      },
      {
       "output_type": "stream",
       "stream": "stdout",
       "text": [
        "\n",
        "  2016  |    0.005317  |    0.005853  |     0.908518  |             |  9.2s"
       ]
      },
      {
       "output_type": "stream",
       "stream": "stdout",
       "text": [
        "\n",
        "  2017  |    0.005346  |    0.005807  |     0.920592  |             |  9.2s"
       ]
      },
      {
       "output_type": "stream",
       "stream": "stdout",
       "text": [
        "\n",
        "  2018  |    0.005337  |    0.005798  |     0.920414  |             |  9.2s"
       ]
      },
      {
       "output_type": "stream",
       "stream": "stdout",
       "text": [
        "\n",
        "  2019  |    0.005315  |    0.005814  |     0.914252  |             |  9.2s"
       ]
      },
      {
       "output_type": "stream",
       "stream": "stdout",
       "text": [
        "\n",
        "  2020  |    0.005362  |    0.005813  |     0.922381  |             |  9.2s"
       ]
      },
      {
       "output_type": "stream",
       "stream": "stdout",
       "text": [
        "\n",
        "  2021  |    0.005309  |    0.005846  |     0.908138  |             |  9.2s"
       ]
      },
      {
       "output_type": "stream",
       "stream": "stdout",
       "text": [
        "\n",
        "  2022  |    0.005401  |    0.005780  |     0.934448  |             |  9.2s"
       ]
      },
      {
       "output_type": "stream",
       "stream": "stdout",
       "text": [
        "\n",
        "  2023  |  \u001b[94m  0.005246\u001b[0m  |    0.005797  |     0.904944  |             |  9.2s"
       ]
      },
      {
       "output_type": "stream",
       "stream": "stdout",
       "text": [
        "\n",
        "  2024  |    0.005272  |    0.005784  |     0.911507  |             |  9.2s"
       ]
      },
      {
       "output_type": "stream",
       "stream": "stdout",
       "text": [
        "\n",
        "  2025  |    0.005276  |    0.005787  |     0.911588  |             |  9.2s"
       ]
      },
      {
       "output_type": "stream",
       "stream": "stdout",
       "text": [
        "\n",
        "  2026  |    0.005317  |    0.005818  |     0.913988  |             |  9.2s"
       ]
      },
      {
       "output_type": "stream",
       "stream": "stdout",
       "text": [
        "\n",
        "  2027  |    0.005320  |    0.005826  |     0.913111  |             |  9.2s"
       ]
      },
      {
       "output_type": "stream",
       "stream": "stdout",
       "text": [
        "\n",
        "  2028  |    0.005305  |    0.005820  |     0.911482  |             |  9.2s"
       ]
      },
      {
       "output_type": "stream",
       "stream": "stdout",
       "text": [
        "\n",
        "  2029  |    0.005298  |    0.005792  |     0.914620  |             |  9.2s"
       ]
      },
      {
       "output_type": "stream",
       "stream": "stdout",
       "text": [
        "\n",
        "  2030  |    0.005314  |    0.005814  |     0.914119  |             |  9.2s"
       ]
      },
      {
       "output_type": "stream",
       "stream": "stdout",
       "text": [
        "\n",
        "  2031  |    0.005351  |    0.005802  |     0.922278  |             |  9.2s"
       ]
      },
      {
       "output_type": "stream",
       "stream": "stdout",
       "text": [
        "\n",
        "  2032  |    0.005257  |    0.005802  |     0.905992  |             |  9.2s"
       ]
      },
      {
       "output_type": "stream",
       "stream": "stdout",
       "text": [
        "\n",
        "  2033  |    0.005251  |    0.005779  |     0.908678  |             |  9.2s"
       ]
      },
      {
       "output_type": "stream",
       "stream": "stdout",
       "text": [
        "\n",
        "  2034  |  \u001b[94m  0.005239\u001b[0m  |    0.005783  |     0.906027  |             |  9.2s"
       ]
      },
      {
       "output_type": "stream",
       "stream": "stdout",
       "text": [
        "\n",
        "  2035  |    0.005342  |    0.005791  |     0.922492  |             |  9.2s"
       ]
      },
      {
       "output_type": "stream",
       "stream": "stdout",
       "text": [
        "\n",
        "  2036  |    0.005261  |    0.005796  |     0.907711  |             |  9.2s"
       ]
      },
      {
       "output_type": "stream",
       "stream": "stdout",
       "text": [
        "\n",
        "  2037  |    0.005256  |    0.005773  |     0.910462  |             |  9.2s"
       ]
      },
      {
       "output_type": "stream",
       "stream": "stdout",
       "text": [
        "\n",
        "  2038  |    0.005343  |    0.005786  |     0.923493  |             |  9.2s"
       ]
      },
      {
       "output_type": "stream",
       "stream": "stdout",
       "text": [
        "\n",
        "  2039  |    0.005283  |    0.005798  |     0.911141  |             |  9.2s"
       ]
      },
      {
       "output_type": "stream",
       "stream": "stdout",
       "text": [
        "\n",
        "  2040  |    0.005291  |    0.005781  |     0.915157  |             |  9.2s"
       ]
      },
      {
       "output_type": "stream",
       "stream": "stdout",
       "text": [
        "\n",
        "  2041  |    0.005285  |    0.005792  |     0.912501  |             |  9.2s"
       ]
      },
      {
       "output_type": "stream",
       "stream": "stdout",
       "text": [
        "\n",
        "  2042  |    0.005260  |    0.005803  |     0.906438  |             |  9.2s"
       ]
      },
      {
       "output_type": "stream",
       "stream": "stdout",
       "text": [
        "\n",
        "  2043  |    0.005246  |    0.005779  |     0.907777  |             |  9.2s"
       ]
      },
      {
       "output_type": "stream",
       "stream": "stdout",
       "text": [
        "\n",
        "  2044  |    0.005273  |    0.005783  |     0.911832  |             |  9.2s"
       ]
      },
      {
       "output_type": "stream",
       "stream": "stdout",
       "text": [
        "\n",
        "  2045  |  \u001b[94m  0.005229\u001b[0m  |    0.005801  |     0.901383  |             |  9.2s"
       ]
      },
      {
       "output_type": "stream",
       "stream": "stdout",
       "text": [
        "\n",
        "  2046  |  \u001b[94m  0.005197\u001b[0m  |    0.005780  |     0.899123  |             |  9.2s"
       ]
      },
      {
       "output_type": "stream",
       "stream": "stdout",
       "text": [
        "\n",
        "  2047  |    0.005257  |    0.005791  |     0.907703  |             |  9.2s"
       ]
      },
      {
       "output_type": "stream",
       "stream": "stdout",
       "text": [
        "\n",
        "  2048  |    0.005313  |    0.005807  |     0.914985  |             |  9.2s"
       ]
      },
      {
       "output_type": "stream",
       "stream": "stdout",
       "text": [
        "\n",
        "  2049  |    0.005264  |    0.005805  |     0.906875  |             |  9.2s"
       ]
      },
      {
       "output_type": "stream",
       "stream": "stdout",
       "text": [
        "\n",
        "  2050  |    0.005279  |    0.005782  |     0.912910  |             |  9.2s"
       ]
      },
      {
       "output_type": "stream",
       "stream": "stdout",
       "text": [
        "\n",
        "  2051  |    0.005262  |    0.005820  |     0.904065  |             |  9.2s"
       ]
      },
      {
       "output_type": "stream",
       "stream": "stdout",
       "text": [
        "\n",
        "  2052  |    0.005246  |    0.005830  |     0.899813  |             |  9.2s"
       ]
      },
      {
       "output_type": "stream",
       "stream": "stdout",
       "text": [
        "\n",
        "  2053  |    0.005295  |    0.005830  |     0.908290  |             |  9.2s"
       ]
      },
      {
       "output_type": "stream",
       "stream": "stdout",
       "text": [
        "\n",
        "  2054  |    0.005271  |  \u001b[32m  0.005767\u001b[0m  |     0.914021  |             |  9.2s"
       ]
      },
      {
       "output_type": "stream",
       "stream": "stdout",
       "text": [
        "\n",
        "  2055  |    0.005256  |    0.005810  |     0.904624  |             |  9.2s"
       ]
      },
      {
       "output_type": "stream",
       "stream": "stdout",
       "text": [
        "\n",
        "  2056  |    0.005200  |  \u001b[32m  0.005765\u001b[0m  |     0.901969  |             |  9.2s"
       ]
      },
      {
       "output_type": "stream",
       "stream": "stdout",
       "text": [
        "\n",
        "  2057  |    0.005262  |    0.005827  |     0.902999  |             |  9.2s"
       ]
      },
      {
       "output_type": "stream",
       "stream": "stdout",
       "text": [
        "\n",
        "  2058  |    0.005267  |    0.005830  |     0.903511  |             |  9.2s"
       ]
      },
      {
       "output_type": "stream",
       "stream": "stdout",
       "text": [
        "\n",
        "  2059  |    0.005300  |    0.005795  |     0.914537  |             |  9.2s"
       ]
      },
      {
       "output_type": "stream",
       "stream": "stdout",
       "text": [
        "\n",
        "  2060  |    0.005271  |    0.005775  |     0.912871  |             |  9.2s"
       ]
      },
      {
       "output_type": "stream",
       "stream": "stdout",
       "text": [
        "\n",
        "  2061  |    0.005231  |    0.005810  |     0.900431  |             |  9.2s"
       ]
      },
      {
       "output_type": "stream",
       "stream": "stdout",
       "text": [
        "\n",
        "  2062  |    0.005249  |    0.005776  |     0.908852  |             |  9.2s"
       ]
      },
      {
       "output_type": "stream",
       "stream": "stdout",
       "text": [
        "\n",
        "  2063  |    0.005228  |  \u001b[32m  0.005764\u001b[0m  |     0.907049  |             |  9.2s"
       ]
      },
      {
       "output_type": "stream",
       "stream": "stdout",
       "text": [
        "\n",
        "  2064  |    0.005270  |    0.005781  |     0.911670  |             |  9.2s"
       ]
      },
      {
       "output_type": "stream",
       "stream": "stdout",
       "text": [
        "\n",
        "  2065  |    0.005247  |    0.005768  |     0.909829  |             |  9.2s"
       ]
      },
      {
       "output_type": "stream",
       "stream": "stdout",
       "text": [
        "\n",
        "  2066  |    0.005264  |    0.005766  |     0.912884  |             |  9.2s"
       ]
      },
      {
       "output_type": "stream",
       "stream": "stdout",
       "text": [
        "\n",
        "  2067  |    0.005258  |    0.005770  |     0.911308  |             |  9.2s"
       ]
      },
      {
       "output_type": "stream",
       "stream": "stdout",
       "text": [
        "\n",
        "  2068  |    0.005231  |  \u001b[32m  0.005738\u001b[0m  |     0.911614  |             |  9.2s"
       ]
      },
      {
       "output_type": "stream",
       "stream": "stdout",
       "text": [
        "\n",
        "  2069  |    0.005224  |    0.005753  |     0.908166  |             |  9.2s"
       ]
      },
      {
       "output_type": "stream",
       "stream": "stdout",
       "text": [
        "\n",
        "  2070  |    0.005286  |  \u001b[32m  0.005736\u001b[0m  |     0.921464  |             |  9.2s"
       ]
      },
      {
       "output_type": "stream",
       "stream": "stdout",
       "text": [
        "\n",
        "  2071  |    0.005235  |    0.005739  |     0.912128  |             |  9.2s"
       ]
      },
      {
       "output_type": "stream",
       "stream": "stdout",
       "text": [
        "\n",
        "  2072  |    0.005236  |    0.005746  |     0.911120  |             |  9.2s"
       ]
      },
      {
       "output_type": "stream",
       "stream": "stdout",
       "text": [
        "\n",
        "  2073  |    0.005203  |    0.005792  |     0.898203  |             |  9.2s"
       ]
      },
      {
       "output_type": "stream",
       "stream": "stdout",
       "text": [
        "\n",
        "  2074  |  \u001b[94m  0.005182\u001b[0m  |    0.005758  |     0.900002  |             |  9.2s"
       ]
      },
      {
       "output_type": "stream",
       "stream": "stdout",
       "text": [
        "\n",
        "  2075  |    0.005244  |    0.005746  |     0.912751  |             |  9.2s"
       ]
      },
      {
       "output_type": "stream",
       "stream": "stdout",
       "text": [
        "\n",
        "  2076  |    0.005234  |    0.005795  |     0.903087  |             |  9.2s"
       ]
      },
      {
       "output_type": "stream",
       "stream": "stdout",
       "text": [
        "\n",
        "  2077  |    0.005232  |    0.005790  |     0.903637  |             |  9.2s"
       ]
      },
      {
       "output_type": "stream",
       "stream": "stdout",
       "text": [
        "\n",
        "  2078  |    0.005238  |    0.005783  |     0.905714  |             |  9.2s"
       ]
      },
      {
       "output_type": "stream",
       "stream": "stdout",
       "text": [
        "\n",
        "  2079  |    0.005215  |    0.005799  |     0.899261  |             |  9.2s"
       ]
      },
      {
       "output_type": "stream",
       "stream": "stdout",
       "text": [
        "\n",
        "  2080  |    0.005250  |    0.005768  |     0.910154  |             |  9.2s"
       ]
      },
      {
       "output_type": "stream",
       "stream": "stdout",
       "text": [
        "\n",
        "  2081  |    0.005239  |    0.005782  |     0.906049  |             |  9.2s"
       ]
      },
      {
       "output_type": "stream",
       "stream": "stdout",
       "text": [
        "\n",
        "  2082  |    0.005195  |    0.005787  |     0.897684  |             |  9.2s"
       ]
      },
      {
       "output_type": "stream",
       "stream": "stdout",
       "text": [
        "\n",
        "  2083  |    0.005209  |  \u001b[32m  0.005731\u001b[0m  |     0.908962  |             |  9.2s"
       ]
      },
      {
       "output_type": "stream",
       "stream": "stdout",
       "text": [
        "\n",
        "  2084  |  \u001b[94m  0.005173\u001b[0m  |    0.005798  |     0.892310  |             |  9.2s"
       ]
      },
      {
       "output_type": "stream",
       "stream": "stdout",
       "text": [
        "\n",
        "  2085  |  \u001b[94m  0.005167\u001b[0m  |    0.005781  |     0.893909  |             |  9.2s"
       ]
      },
      {
       "output_type": "stream",
       "stream": "stdout",
       "text": [
        "\n",
        "  2086  |    0.005214  |    0.005737  |     0.908823  |             |  9.2s"
       ]
      },
      {
       "output_type": "stream",
       "stream": "stdout",
       "text": [
        "\n",
        "  2087  |  \u001b[94m  0.005149\u001b[0m  |    0.005768  |     0.892730  |             |  9.2s"
       ]
      },
      {
       "output_type": "stream",
       "stream": "stdout",
       "text": [
        "\n",
        "  2088  |    0.005260  |    0.005745  |     0.915551  |             |  9.2s"
       ]
      },
      {
       "output_type": "stream",
       "stream": "stdout",
       "text": [
        "\n",
        "  2089  |    0.005215  |    0.005780  |     0.902209  |             |  9.2s"
       ]
      },
      {
       "output_type": "stream",
       "stream": "stdout",
       "text": [
        "\n",
        "  2090  |    0.005207  |  \u001b[32m  0.005706\u001b[0m  |     0.912514  |             |  9.2s"
       ]
      },
      {
       "output_type": "stream",
       "stream": "stdout",
       "text": [
        "\n",
        "  2091  |    0.005173  |    0.005753  |     0.899142  |             |  9.2s"
       ]
      },
      {
       "output_type": "stream",
       "stream": "stdout",
       "text": [
        "\n",
        "  2092  |    0.005184  |  \u001b[32m  0.005692\u001b[0m  |     0.910767  |             |  9.2s"
       ]
      },
      {
       "output_type": "stream",
       "stream": "stdout",
       "text": [
        "\n",
        "  2093  |    0.005205  |    0.005722  |     0.909629  |             |  9.2s"
       ]
      },
      {
       "output_type": "stream",
       "stream": "stdout",
       "text": [
        "\n",
        "  2094  |    0.005223  |    0.005784  |     0.903108  |             |  9.2s"
       ]
      },
      {
       "output_type": "stream",
       "stream": "stdout",
       "text": [
        "\n",
        "  2095  |    0.005224  |    0.005745  |     0.909343  |             |  9.2s"
       ]
      },
      {
       "output_type": "stream",
       "stream": "stdout",
       "text": [
        "\n",
        "  2096  |    0.005213  |    0.005734  |     0.909101  |             |  9.2s"
       ]
      },
      {
       "output_type": "stream",
       "stream": "stdout",
       "text": [
        "\n",
        "  2097  |    0.005151  |    0.005759  |     0.894492  |             |  9.2s"
       ]
      },
      {
       "output_type": "stream",
       "stream": "stdout",
       "text": [
        "\n",
        "  2098  |    0.005223  |    0.005709  |     0.914821  |             |  9.2s"
       ]
      },
      {
       "output_type": "stream",
       "stream": "stdout",
       "text": [
        "\n",
        "  2099  |  \u001b[94m  0.005137\u001b[0m  |    0.005724  |     0.897420  |             |  9.2s"
       ]
      },
      {
       "output_type": "stream",
       "stream": "stdout",
       "text": [
        "\n",
        "  2100  |    0.005209  |    0.005744  |     0.906948  |             |  9.2s"
       ]
      },
      {
       "output_type": "stream",
       "stream": "stdout",
       "text": [
        "\n",
        "  2101  |    0.005184  |    0.005730  |     0.904671  |             |  9.2s"
       ]
      },
      {
       "output_type": "stream",
       "stream": "stdout",
       "text": [
        "\n",
        "  2102  |  \u001b[94m  0.005127\u001b[0m  |    0.005793  |     0.885051  |             |  9.2s"
       ]
      },
      {
       "output_type": "stream",
       "stream": "stdout",
       "text": [
        "\n",
        "  2103  |    0.005172  |    0.005767  |     0.896940  |             |  9.2s"
       ]
      },
      {
       "output_type": "stream",
       "stream": "stdout",
       "text": [
        "\n",
        "  2104  |    0.005141  |    0.005749  |     0.894222  |             |  9.2s"
       ]
      },
      {
       "output_type": "stream",
       "stream": "stdout",
       "text": [
        "\n",
        "  2105  |    0.005199  |  \u001b[32m  0.005682\u001b[0m  |     0.914978  |             |  9.2s"
       ]
      },
      {
       "output_type": "stream",
       "stream": "stdout",
       "text": [
        "\n",
        "  2106  |    0.005187  |    0.005738  |     0.903981  |             |  9.2s"
       ]
      },
      {
       "output_type": "stream",
       "stream": "stdout",
       "text": [
        "\n",
        "  2107  |    0.005144  |    0.005725  |     0.898452  |             |  9.2s"
       ]
      },
      {
       "output_type": "stream",
       "stream": "stdout",
       "text": [
        "\n",
        "  2108  |    0.005146  |    0.005757  |     0.893815  |             |  9.2s"
       ]
      },
      {
       "output_type": "stream",
       "stream": "stdout",
       "text": [
        "\n",
        "  2109  |  \u001b[94m  0.005125\u001b[0m  |    0.005749  |     0.891553  |             |  9.2s"
       ]
      },
      {
       "output_type": "stream",
       "stream": "stdout",
       "text": [
        "\n",
        "  2110  |    0.005160  |    0.005727  |     0.900994  |             |  9.2s"
       ]
      },
      {
       "output_type": "stream",
       "stream": "stdout",
       "text": [
        "\n",
        "  2111  |    0.005137  |    0.005747  |     0.893808  |             |  9.2s"
       ]
      },
      {
       "output_type": "stream",
       "stream": "stdout",
       "text": [
        "\n",
        "  2112  |    0.005156  |    0.005749  |     0.896898  |             |  9.2s"
       ]
      },
      {
       "output_type": "stream",
       "stream": "stdout",
       "text": [
        "\n",
        "  2113  |    0.005139  |    0.005774  |     0.890131  |             |  9.2s"
       ]
      },
      {
       "output_type": "stream",
       "stream": "stdout",
       "text": [
        "\n",
        "  2114  |  \u001b[94m  0.005085\u001b[0m  |    0.005766  |     0.881876  |             |  9.2s"
       ]
      },
      {
       "output_type": "stream",
       "stream": "stdout",
       "text": [
        "\n",
        "  2115  |    0.005139  |    0.005718  |     0.898748  |             |  9.2s"
       ]
      },
      {
       "output_type": "stream",
       "stream": "stdout",
       "text": [
        "\n",
        "  2116  |    0.005144  |    0.005753  |     0.894143  |             |  9.2s"
       ]
      },
      {
       "output_type": "stream",
       "stream": "stdout",
       "text": [
        "\n",
        "  2117  |    0.005128  |    0.005757  |     0.890798  |             |  9.2s"
       ]
      },
      {
       "output_type": "stream",
       "stream": "stdout",
       "text": [
        "\n",
        "  2118  |    0.005135  |    0.005751  |     0.892914  |             |  9.2s"
       ]
      },
      {
       "output_type": "stream",
       "stream": "stdout",
       "text": [
        "\n",
        "  2119  |    0.005120  |    0.005731  |     0.893438  |             |  9.2s"
       ]
      },
      {
       "output_type": "stream",
       "stream": "stdout",
       "text": [
        "\n",
        "  2120  |    0.005169  |    0.005701  |     0.906575  |             |  9.2s"
       ]
      },
      {
       "output_type": "stream",
       "stream": "stdout",
       "text": [
        "\n",
        "  2121  |    0.005104  |    0.005755  |     0.886829  |             |  9.2s"
       ]
      },
      {
       "output_type": "stream",
       "stream": "stdout",
       "text": [
        "\n",
        "  2122  |    0.005140  |    0.005726  |     0.897511  |             |  9.2s"
       ]
      },
      {
       "output_type": "stream",
       "stream": "stdout",
       "text": [
        "\n",
        "  2123  |    0.005164  |    0.005761  |     0.896416  |             |  9.2s"
       ]
      },
      {
       "output_type": "stream",
       "stream": "stdout",
       "text": [
        "\n",
        "  2124  |    0.005109  |    0.005743  |     0.889604  |             |  9.2s"
       ]
      },
      {
       "output_type": "stream",
       "stream": "stdout",
       "text": [
        "\n",
        "  2125  |    0.005147  |    0.005727  |     0.898607  |             |  9.2s"
       ]
      },
      {
       "output_type": "stream",
       "stream": "stdout",
       "text": [
        "\n",
        "  2126  |    0.005145  |    0.005748  |     0.895125  |             |  9.2s"
       ]
      },
      {
       "output_type": "stream",
       "stream": "stdout",
       "text": [
        "\n",
        "  2127  |    0.005140  |    0.005742  |     0.895086  |             |  9.2s"
       ]
      },
      {
       "output_type": "stream",
       "stream": "stdout",
       "text": [
        "\n",
        "  2128  |    0.005192  |    0.005729  |     0.906232  |             |  9.2s"
       ]
      },
      {
       "output_type": "stream",
       "stream": "stdout",
       "text": [
        "\n",
        "  2129  |    0.005136  |    0.005780  |     0.888679  |             |  9.2s"
       ]
      },
      {
       "output_type": "stream",
       "stream": "stdout",
       "text": [
        "\n",
        "  2130  |    0.005119  |    0.005724  |     0.894195  |             |  9.2s"
       ]
      },
      {
       "output_type": "stream",
       "stream": "stdout",
       "text": [
        "\n",
        "  2131  |    0.005131  |    0.005720  |     0.897069  |             |  9.2s"
       ]
      },
      {
       "output_type": "stream",
       "stream": "stdout",
       "text": [
        "\n",
        "  2132  |    0.005186  |    0.005718  |     0.906987  |             |  9.2s"
       ]
      },
      {
       "output_type": "stream",
       "stream": "stdout",
       "text": [
        "\n",
        "  2133  |    0.005104  |    0.005738  |     0.889465  |             |  9.2s"
       ]
      },
      {
       "output_type": "stream",
       "stream": "stdout",
       "text": [
        "\n",
        "  2134  |  \u001b[94m  0.005060\u001b[0m  |    0.005780  |     0.875546  |             |  9.2s"
       ]
      },
      {
       "output_type": "stream",
       "stream": "stdout",
       "text": [
        "\n",
        "  2135  |    0.005081  |    0.005794  |     0.877022  |             |  9.2s"
       ]
      },
      {
       "output_type": "stream",
       "stream": "stdout",
       "text": [
        "\n",
        "  2136  |    0.005124  |    0.005736  |     0.893242  |             |  9.2s"
       ]
      },
      {
       "output_type": "stream",
       "stream": "stdout",
       "text": [
        "\n",
        "  2137  |    0.005171  |    0.005717  |     0.904504  |             |  9.2s"
       ]
      },
      {
       "output_type": "stream",
       "stream": "stdout",
       "text": [
        "\n",
        "  2138  |    0.005146  |    0.005764  |     0.892741  |             |  9.2s"
       ]
      },
      {
       "output_type": "stream",
       "stream": "stdout",
       "text": [
        "\n",
        "  2139  |    0.005108  |    0.005747  |     0.888855  |             |  9.2s"
       ]
      },
      {
       "output_type": "stream",
       "stream": "stdout",
       "text": [
        "\n",
        "  2140  |    0.005154  |    0.005746  |     0.897040  |             |  9.2s"
       ]
      },
      {
       "output_type": "stream",
       "stream": "stdout",
       "text": [
        "\n",
        "  2141  |    0.005099  |    0.005700  |     0.894596  |             |  9.2s"
       ]
      },
      {
       "output_type": "stream",
       "stream": "stdout",
       "text": [
        "\n",
        "  2142  |    0.005150  |    0.005742  |     0.896932  |             |  9.2s"
       ]
      },
      {
       "output_type": "stream",
       "stream": "stdout",
       "text": [
        "\n",
        "  2143  |    0.005093  |    0.005713  |     0.891423  |             |  9.2s"
       ]
      },
      {
       "output_type": "stream",
       "stream": "stdout",
       "text": [
        "\n",
        "  2144  |    0.005120  |    0.005762  |     0.888514  |             |  9.2s"
       ]
      },
      {
       "output_type": "stream",
       "stream": "stdout",
       "text": [
        "\n",
        "  2145  |    0.005131  |    0.005722  |     0.896757  |             |  9.2s"
       ]
      },
      {
       "output_type": "stream",
       "stream": "stdout",
       "text": [
        "\n",
        "  2146  |    0.005112  |    0.005714  |     0.894653  |             |  9.2s"
       ]
      },
      {
       "output_type": "stream",
       "stream": "stdout",
       "text": [
        "\n",
        "  2147  |    0.005102  |    0.005735  |     0.889688  |             |  9.2s"
       ]
      },
      {
       "output_type": "stream",
       "stream": "stdout",
       "text": [
        "\n",
        "  2148  |    0.005078  |    0.005716  |     0.888458  |             |  9.2s"
       ]
      },
      {
       "output_type": "stream",
       "stream": "stdout",
       "text": [
        "\n",
        "  2149  |    0.005090  |    0.005782  |     0.880200  |             |  9.2s"
       ]
      },
      {
       "output_type": "stream",
       "stream": "stdout",
       "text": [
        "\n",
        "  2150  |    0.005120  |    0.005733  |     0.893080  |             |  9.2s"
       ]
      },
      {
       "output_type": "stream",
       "stream": "stdout",
       "text": [
        "\n",
        "  2151  |    0.005169  |    0.005759  |     0.897504  |             |  9.2s"
       ]
      },
      {
       "output_type": "stream",
       "stream": "stdout",
       "text": [
        "\n",
        "  2152  |    0.005122  |    0.005704  |     0.897922  |             |  9.2s"
       ]
      },
      {
       "output_type": "stream",
       "stream": "stdout",
       "text": [
        "\n",
        "  2153  |    0.005121  |    0.005778  |     0.886404  |             |  9.2s"
       ]
      },
      {
       "output_type": "stream",
       "stream": "stdout",
       "text": [
        "\n",
        "  2154  |    0.005101  |    0.005734  |     0.889608  |             |  9.2s"
       ]
      },
      {
       "output_type": "stream",
       "stream": "stdout",
       "text": [
        "\n",
        "  2155  |    0.005088  |    0.005727  |     0.888342  |             |  9.2s"
       ]
      },
      {
       "output_type": "stream",
       "stream": "stdout",
       "text": [
        "\n",
        "  2156  |  \u001b[94m  0.005025\u001b[0m  |    0.005700  |     0.881642  |             |  9.2s"
       ]
      },
      {
       "output_type": "stream",
       "stream": "stdout",
       "text": [
        "\n",
        "  2157  |    0.005115  |    0.005735  |     0.891917  |             |  9.2s"
       ]
      },
      {
       "output_type": "stream",
       "stream": "stdout",
       "text": [
        "\n",
        "  2158  |    0.005064  |    0.005702  |     0.887995  |             |  9.2s"
       ]
      },
      {
       "output_type": "stream",
       "stream": "stdout",
       "text": [
        "\n",
        "  2159  |    0.005053  |    0.005745  |     0.879588  |             |  9.2s"
       ]
      },
      {
       "output_type": "stream",
       "stream": "stdout",
       "text": [
        "\n",
        "  2160  |  \u001b[94m  0.004949\u001b[0m  |    0.005728  |     0.863952  |             |  9.2s"
       ]
      },
      {
       "output_type": "stream",
       "stream": "stdout",
       "text": [
        "\n",
        "  2161  |    0.005030  |    0.005753  |     0.874166  |             |  9.2s"
       ]
      },
      {
       "output_type": "stream",
       "stream": "stdout",
       "text": [
        "\n",
        "  2162  |    0.005176  |    0.005760  |     0.898615  |             |  9.2s"
       ]
      },
      {
       "output_type": "stream",
       "stream": "stdout",
       "text": [
        "\n",
        "  2163  |    0.005047  |    0.005751  |     0.877562  |             |  9.2s"
       ]
      },
      {
       "output_type": "stream",
       "stream": "stdout",
       "text": [
        "\n",
        "  2164  |    0.005045  |    0.005715  |     0.882857  |             |  9.2s"
       ]
      },
      {
       "output_type": "stream",
       "stream": "stdout",
       "text": [
        "\n",
        "  2165  |    0.005014  |    0.005732  |     0.874787  |             |  9.2s"
       ]
      },
      {
       "output_type": "stream",
       "stream": "stdout",
       "text": [
        "\n",
        "  2166  |    0.005078  |    0.005708  |     0.889667  |             |  9.2s"
       ]
      },
      {
       "output_type": "stream",
       "stream": "stdout",
       "text": [
        "\n",
        "  2167  |    0.005125  |    0.005709  |     0.897729  |             |  9.2s"
       ]
      },
      {
       "output_type": "stream",
       "stream": "stdout",
       "text": [
        "\n",
        "  2168  |    0.005110  |    0.005722  |     0.893126  |             |  9.2s"
       ]
      },
      {
       "output_type": "stream",
       "stream": "stdout",
       "text": [
        "\n",
        "  2169  |    0.005084  |    0.005698  |     0.892192  |             |  9.2s"
       ]
      },
      {
       "output_type": "stream",
       "stream": "stdout",
       "text": [
        "\n",
        "  2170  |    0.005065  |    0.005700  |     0.888694  |             |  9.2s"
       ]
      },
      {
       "output_type": "stream",
       "stream": "stdout",
       "text": [
        "\n",
        "  2171  |    0.005053  |    0.005723  |     0.882876  |             |  9.2s"
       ]
      },
      {
       "output_type": "stream",
       "stream": "stdout",
       "text": [
        "\n",
        "  2172  |    0.005097  |    0.005738  |     0.888355  |             |  9.2s"
       ]
      },
      {
       "output_type": "stream",
       "stream": "stdout",
       "text": [
        "\n",
        "  2173  |    0.005052  |    0.005732  |     0.881340  |             |  9.2s"
       ]
      },
      {
       "output_type": "stream",
       "stream": "stdout",
       "text": [
        "\n",
        "  2174  |    0.005040  |    0.005714  |     0.881914  |             |  9.2s"
       ]
      },
      {
       "output_type": "stream",
       "stream": "stdout",
       "text": [
        "\n",
        "  2175  |    0.005047  |    0.005749  |     0.877902  |             |  9.2s"
       ]
      },
      {
       "output_type": "stream",
       "stream": "stdout",
       "text": [
        "\n",
        "  2176  |    0.005072  |    0.005710  |     0.888211  |             |  9.2s"
       ]
      },
      {
       "output_type": "stream",
       "stream": "stdout",
       "text": [
        "\n",
        "  2177  |    0.005143  |    0.005703  |     0.901891  |             |  9.2s"
       ]
      },
      {
       "output_type": "stream",
       "stream": "stdout",
       "text": [
        "\n",
        "  2178  |    0.005098  |    0.005695  |     0.895055  |             |  9.2s"
       ]
      },
      {
       "output_type": "stream",
       "stream": "stdout",
       "text": [
        "\n",
        "  2179  |    0.005001  |    0.005721  |     0.874094  |             |  9.2s"
       ]
      },
      {
       "output_type": "stream",
       "stream": "stdout",
       "text": [
        "\n",
        "  2180  |    0.005034  |    0.005685  |     0.885542  |             |  9.2s"
       ]
      },
      {
       "output_type": "stream",
       "stream": "stdout",
       "text": [
        "\n",
        "  2181  |    0.005053  |    0.005685  |     0.888879  |             |  9.2s"
       ]
      },
      {
       "output_type": "stream",
       "stream": "stdout",
       "text": [
        "\n",
        "  2182  |    0.005059  |    0.005712  |     0.885701  |             |  9.2s"
       ]
      },
      {
       "output_type": "stream",
       "stream": "stdout",
       "text": [
        "\n",
        "  2183  |    0.005043  |    0.005694  |     0.885725  |             |  9.2s"
       ]
      },
      {
       "output_type": "stream",
       "stream": "stdout",
       "text": [
        "\n",
        "  2184  |    0.005070  |  \u001b[32m  0.005674\u001b[0m  |     0.893475  |             |  9.2s"
       ]
      },
      {
       "output_type": "stream",
       "stream": "stdout",
       "text": [
        "\n",
        "  2185  |    0.005069  |    0.005725  |     0.885391  |             |  9.2s"
       ]
      },
      {
       "output_type": "stream",
       "stream": "stdout",
       "text": [
        "\n",
        "  2186  |    0.005076  |    0.005695  |     0.891274  |             |  9.2s"
       ]
      },
      {
       "output_type": "stream",
       "stream": "stdout",
       "text": [
        "\n",
        "  2187  |    0.005005  |    0.005715  |     0.875722  |             |  9.2s"
       ]
      },
      {
       "output_type": "stream",
       "stream": "stdout",
       "text": [
        "\n",
        "  2188  |    0.005047  |    0.005702  |     0.885119  |             |  9.2s"
       ]
      },
      {
       "output_type": "stream",
       "stream": "stdout",
       "text": [
        "\n",
        "  2189  |    0.005016  |    0.005734  |     0.874785  |             |  9.2s"
       ]
      },
      {
       "output_type": "stream",
       "stream": "stdout",
       "text": [
        "\n",
        "  2190  |    0.005041  |  \u001b[32m  0.005667\u001b[0m  |     0.889571  |             |  9.2s"
       ]
      },
      {
       "output_type": "stream",
       "stream": "stdout",
       "text": [
        "\n",
        "  2191  |    0.005052  |    0.005708  |     0.885159  |             |  9.2s"
       ]
      },
      {
       "output_type": "stream",
       "stream": "stdout",
       "text": [
        "\n",
        "  2192  |    0.005074  |    0.005725  |     0.886318  |             |  9.2s"
       ]
      },
      {
       "output_type": "stream",
       "stream": "stdout",
       "text": [
        "\n",
        "  2193  |    0.005095  |    0.005684  |     0.896295  |             |  9.2s"
       ]
      },
      {
       "output_type": "stream",
       "stream": "stdout",
       "text": [
        "\n",
        "  2194  |    0.005036  |  \u001b[32m  0.005663\u001b[0m  |     0.889432  |             |  9.2s"
       ]
      },
      {
       "output_type": "stream",
       "stream": "stdout",
       "text": [
        "\n",
        "  2195  |    0.005061  |    0.005668  |     0.892933  |             |  9.2s"
       ]
      },
      {
       "output_type": "stream",
       "stream": "stdout",
       "text": [
        "\n",
        "  2196  |    0.004965  |    0.005676  |     0.874747  |             |  9.2s"
       ]
      },
      {
       "output_type": "stream",
       "stream": "stdout",
       "text": [
        "\n",
        "  2197  |    0.005068  |    0.005729  |     0.884715  |             |  9.2s"
       ]
      },
      {
       "output_type": "stream",
       "stream": "stdout",
       "text": [
        "\n",
        "  2198  |    0.004996  |    0.005734  |     0.871221  |             |  9.2s"
       ]
      },
      {
       "output_type": "stream",
       "stream": "stdout",
       "text": [
        "\n",
        "  2199  |    0.005051  |    0.005692  |     0.887421  |             |  9.2s"
       ]
      },
      {
       "output_type": "stream",
       "stream": "stdout",
       "text": [
        "\n",
        "  2200  |    0.005064  |    0.005687  |     0.890349  |             |  9.2s"
       ]
      },
      {
       "output_type": "stream",
       "stream": "stdout",
       "text": [
        "\n",
        "  2201  |    0.004960  |    0.005706  |     0.869259  |             |  9.2s"
       ]
      },
      {
       "output_type": "stream",
       "stream": "stdout",
       "text": [
        "\n",
        "  2202  |    0.005006  |    0.005676  |     0.881874  |             |  9.2s"
       ]
      },
      {
       "output_type": "stream",
       "stream": "stdout",
       "text": [
        "\n",
        "  2203  |    0.005021  |    0.005733  |     0.875772  |             |  9.2s"
       ]
      },
      {
       "output_type": "stream",
       "stream": "stdout",
       "text": [
        "\n",
        "  2204  |    0.005047  |    0.005680  |     0.888549  |             |  9.2s"
       ]
      },
      {
       "output_type": "stream",
       "stream": "stdout",
       "text": [
        "\n",
        "  2205  |    0.005038  |    0.005703  |     0.883407  |             |  9.2s"
       ]
      },
      {
       "output_type": "stream",
       "stream": "stdout",
       "text": [
        "\n",
        "  2206  |    0.005009  |    0.005687  |     0.880676  |             |  9.2s"
       ]
      },
      {
       "output_type": "stream",
       "stream": "stdout",
       "text": [
        "\n",
        "  2207  |    0.004962  |    0.005701  |     0.870324  |             |  9.2s"
       ]
      },
      {
       "output_type": "stream",
       "stream": "stdout",
       "text": [
        "\n",
        "  2208  |    0.005033  |    0.005670  |     0.887691  |             |  9.2s"
       ]
      },
      {
       "output_type": "stream",
       "stream": "stdout",
       "text": [
        "\n",
        "  2209  |    0.005020  |    0.005698  |     0.881110  |             |  9.2s"
       ]
      },
      {
       "output_type": "stream",
       "stream": "stdout",
       "text": [
        "\n",
        "  2210  |    0.004993  |    0.005698  |     0.876297  |             |  9.2s"
       ]
      },
      {
       "output_type": "stream",
       "stream": "stdout",
       "text": [
        "\n",
        "  2211  |    0.005030  |    0.005723  |     0.878968  |             |  9.2s"
       ]
      },
      {
       "output_type": "stream",
       "stream": "stdout",
       "text": [
        "\n",
        "  2212  |    0.005035  |    0.005714  |     0.881257  |             |  9.2s"
       ]
      },
      {
       "output_type": "stream",
       "stream": "stdout",
       "text": [
        "\n",
        "  2213  |    0.004975  |  \u001b[32m  0.005654\u001b[0m  |     0.879872  |             |  9.2s"
       ]
      },
      {
       "output_type": "stream",
       "stream": "stdout",
       "text": [
        "\n",
        "  2214  |    0.005062  |    0.005705  |     0.887218  |             |  9.2s"
       ]
      },
      {
       "output_type": "stream",
       "stream": "stdout",
       "text": [
        "\n",
        "  2215  |  \u001b[94m  0.004948\u001b[0m  |    0.005702  |     0.867708  |             |  9.2s"
       ]
      },
      {
       "output_type": "stream",
       "stream": "stdout",
       "text": [
        "\n",
        "  2216  |    0.004985  |    0.005671  |     0.879174  |             |  9.2s"
       ]
      },
      {
       "output_type": "stream",
       "stream": "stdout",
       "text": [
        "\n",
        "  2217  |    0.004982  |    0.005679  |     0.877336  |             |  9.2s"
       ]
      },
      {
       "output_type": "stream",
       "stream": "stdout",
       "text": [
        "\n",
        "  2218  |    0.005016  |    0.005675  |     0.883914  |             |  9.2s"
       ]
      },
      {
       "output_type": "stream",
       "stream": "stdout",
       "text": [
        "\n",
        "  2219  |    0.005019  |    0.005694  |     0.881450  |             |  9.2s"
       ]
      },
      {
       "output_type": "stream",
       "stream": "stdout",
       "text": [
        "\n",
        "  2220  |    0.004967  |    0.005712  |     0.869514  |             |  9.2s"
       ]
      },
      {
       "output_type": "stream",
       "stream": "stdout",
       "text": [
        "\n",
        "  2221  |    0.004984  |    0.005677  |     0.877947  |             |  9.2s"
       ]
      },
      {
       "output_type": "stream",
       "stream": "stdout",
       "text": [
        "\n",
        "  2222  |    0.004990  |    0.005705  |     0.874651  |             |  9.2s"
       ]
      },
      {
       "output_type": "stream",
       "stream": "stdout",
       "text": [
        "\n",
        "  2223  |    0.004966  |    0.005702  |     0.870863  |             |  9.2s"
       ]
      },
      {
       "output_type": "stream",
       "stream": "stdout",
       "text": [
        "\n",
        "  2224  |    0.005050  |    0.005690  |     0.887433  |             |  9.2s"
       ]
      },
      {
       "output_type": "stream",
       "stream": "stdout",
       "text": [
        "\n",
        "  2225  |    0.005023  |    0.005687  |     0.883126  |             |  9.2s"
       ]
      },
      {
       "output_type": "stream",
       "stream": "stdout",
       "text": [
        "\n",
        "  2226  |    0.004948  |    0.005715  |     0.865789  |             |  9.2s"
       ]
      },
      {
       "output_type": "stream",
       "stream": "stdout",
       "text": [
        "\n",
        "  2227  |    0.005021  |    0.005726  |     0.876789  |             |  9.2s"
       ]
      },
      {
       "output_type": "stream",
       "stream": "stdout",
       "text": [
        "\n",
        "  2228  |    0.004987  |    0.005688  |     0.876694  |             |  9.2s"
       ]
      },
      {
       "output_type": "stream",
       "stream": "stdout",
       "text": [
        "\n",
        "  2229  |    0.005007  |    0.005709  |     0.877143  |             |  9.2s"
       ]
      },
      {
       "output_type": "stream",
       "stream": "stdout",
       "text": [
        "\n",
        "  2230  |    0.004957  |    0.005703  |     0.869244  |             |  9.2s"
       ]
      },
      {
       "output_type": "stream",
       "stream": "stdout",
       "text": [
        "\n",
        "  2231  |    0.004974  |    0.005680  |     0.875780  |             |  9.2s"
       ]
      },
      {
       "output_type": "stream",
       "stream": "stdout",
       "text": [
        "\n",
        "  2232  |    0.005006  |    0.005694  |     0.879110  |             |  9.2s"
       ]
      },
      {
       "output_type": "stream",
       "stream": "stdout",
       "text": [
        "\n",
        "  2233  |    0.004977  |    0.005702  |     0.872916  |             |  9.2s"
       ]
      },
      {
       "output_type": "stream",
       "stream": "stdout",
       "text": [
        "\n",
        "  2234  |  \u001b[94m  0.004947\u001b[0m  |  \u001b[32m  0.005644\u001b[0m  |     0.876531  |             |  9.2s"
       ]
      },
      {
       "output_type": "stream",
       "stream": "stdout",
       "text": [
        "\n",
        "  2235  |    0.005031  |    0.005655  |     0.889660  |             |  9.2s"
       ]
      },
      {
       "output_type": "stream",
       "stream": "stdout",
       "text": [
        "\n",
        "  2236  |  \u001b[94m  0.004932\u001b[0m  |    0.005659  |     0.871583  |             |  9.2s"
       ]
      },
      {
       "output_type": "stream",
       "stream": "stdout",
       "text": [
        "\n",
        "  2237  |    0.004962  |    0.005695  |     0.871207  |             |  9.2s"
       ]
      },
      {
       "output_type": "stream",
       "stream": "stdout",
       "text": [
        "\n",
        "  2238  |    0.004996  |    0.005674  |     0.880532  |             |  9.2s"
       ]
      },
      {
       "output_type": "stream",
       "stream": "stdout",
       "text": [
        "\n",
        "  2239  |  \u001b[94m  0.004929\u001b[0m  |    0.005701  |     0.864598  |             |  9.2s"
       ]
      },
      {
       "output_type": "stream",
       "stream": "stdout",
       "text": [
        "\n",
        "  2240  |    0.004982  |    0.005683  |     0.876556  |             |  9.2s"
       ]
      },
      {
       "output_type": "stream",
       "stream": "stdout",
       "text": [
        "\n",
        "  2241  |    0.004979  |    0.005686  |     0.875710  |             |  9.2s"
       ]
      },
      {
       "output_type": "stream",
       "stream": "stdout",
       "text": [
        "\n",
        "  2242  |    0.005000  |    0.005685  |     0.879566  |             |  9.2s"
       ]
      },
      {
       "output_type": "stream",
       "stream": "stdout",
       "text": [
        "\n",
        "  2243  |    0.004969  |    0.005673  |     0.875871  |             |  9.2s"
       ]
      },
      {
       "output_type": "stream",
       "stream": "stdout",
       "text": [
        "\n",
        "  2244  |    0.004965  |    0.005713  |     0.869084  |             |  9.2s"
       ]
      },
      {
       "output_type": "stream",
       "stream": "stdout",
       "text": [
        "\n",
        "  2245  |    0.004979  |    0.005676  |     0.877244  |             |  9.2s"
       ]
      },
      {
       "output_type": "stream",
       "stream": "stdout",
       "text": [
        "\n",
        "  2246  |    0.004953  |    0.005667  |     0.873974  |             |  9.2s"
       ]
      },
      {
       "output_type": "stream",
       "stream": "stdout",
       "text": [
        "\n",
        "  2247  |    0.004986  |    0.005668  |     0.879703  |             |  9.2s"
       ]
      },
      {
       "output_type": "stream",
       "stream": "stdout",
       "text": [
        "\n",
        "  2248  |    0.004961  |    0.005657  |     0.876888  |             |  9.2s"
       ]
      },
      {
       "output_type": "stream",
       "stream": "stdout",
       "text": [
        "\n",
        "  2249  |    0.004962  |    0.005669  |     0.875244  |             |  9.2s"
       ]
      },
      {
       "output_type": "stream",
       "stream": "stdout",
       "text": [
        "\n",
        "  2250  |    0.004933  |    0.005650  |     0.873061  |             |  9.2s"
       ]
      },
      {
       "output_type": "stream",
       "stream": "stdout",
       "text": [
        "\n",
        "  2251  |    0.004961  |    0.005704  |     0.869760  |             |  9.2s"
       ]
      },
      {
       "output_type": "stream",
       "stream": "stdout",
       "text": [
        "\n",
        "  2252  |  \u001b[94m  0.004913\u001b[0m  |    0.005668  |     0.866946  |             |  9.2s"
       ]
      },
      {
       "output_type": "stream",
       "stream": "stdout",
       "text": [
        "\n",
        "  2253  |    0.004957  |    0.005737  |     0.864018  |             |  9.2s"
       ]
      },
      {
       "output_type": "stream",
       "stream": "stdout",
       "text": [
        "\n",
        "  2254  |    0.005017  |    0.005650  |     0.888015  |             |  9.2s"
       ]
      },
      {
       "output_type": "stream",
       "stream": "stdout",
       "text": [
        "\n",
        "  2255  |    0.004921  |    0.005697  |     0.863792  |             |  9.2s"
       ]
      },
      {
       "output_type": "stream",
       "stream": "stdout",
       "text": [
        "\n",
        "  2256  |    0.004951  |    0.005687  |     0.870570  |             |  9.2s"
       ]
      },
      {
       "output_type": "stream",
       "stream": "stdout",
       "text": [
        "\n",
        "  2257  |  \u001b[94m  0.004904\u001b[0m  |    0.005673  |     0.864507  |             |  9.2s"
       ]
      },
      {
       "output_type": "stream",
       "stream": "stdout",
       "text": [
        "\n",
        "  2258  |    0.004938  |    0.005697  |     0.866794  |             |  9.2s"
       ]
      },
      {
       "output_type": "stream",
       "stream": "stdout",
       "text": [
        "\n",
        "  2259  |    0.004934  |    0.005663  |     0.871285  |             |  9.2s"
       ]
      },
      {
       "output_type": "stream",
       "stream": "stdout",
       "text": [
        "\n",
        "  2260  |    0.004938  |    0.005675  |     0.870053  |             |  9.2s"
       ]
      },
      {
       "output_type": "stream",
       "stream": "stdout",
       "text": [
        "\n",
        "  2261  |    0.004913  |  \u001b[32m  0.005636\u001b[0m  |     0.871643  |             |  9.2s"
       ]
      },
      {
       "output_type": "stream",
       "stream": "stdout",
       "text": [
        "\n",
        "  2262  |    0.004930  |    0.005664  |     0.870375  |             |  9.2s"
       ]
      },
      {
       "output_type": "stream",
       "stream": "stdout",
       "text": [
        "\n",
        "  2263  |    0.004981  |    0.005753  |     0.865823  |             |  9.2s"
       ]
      },
      {
       "output_type": "stream",
       "stream": "stdout",
       "text": [
        "\n",
        "  2264  |    0.004954  |    0.005700  |     0.869000  |             |  9.2s"
       ]
      },
      {
       "output_type": "stream",
       "stream": "stdout",
       "text": [
        "\n",
        "  2265  |    0.004919  |    0.005673  |     0.867060  |             |  9.2s"
       ]
      },
      {
       "output_type": "stream",
       "stream": "stdout",
       "text": [
        "\n",
        "  2266  |    0.004934  |    0.005682  |     0.868361  |             |  9.2s"
       ]
      },
      {
       "output_type": "stream",
       "stream": "stdout",
       "text": [
        "\n",
        "  2267  |    0.004905  |    0.005677  |     0.863925  |             |  9.2s"
       ]
      },
      {
       "output_type": "stream",
       "stream": "stdout",
       "text": [
        "\n",
        "  2268  |    0.004972  |    0.005661  |     0.878314  |             |  9.2s"
       ]
      },
      {
       "output_type": "stream",
       "stream": "stdout",
       "text": [
        "\n",
        "  2269  |    0.004949  |    0.005695  |     0.868988  |             |  9.2s"
       ]
      },
      {
       "output_type": "stream",
       "stream": "stdout",
       "text": [
        "\n",
        "  2270  |    0.004954  |    0.005684  |     0.871628  |             |  9.2s"
       ]
      },
      {
       "output_type": "stream",
       "stream": "stdout",
       "text": [
        "\n",
        "  2271  |    0.004995  |    0.005686  |     0.878430  |             |  9.2s"
       ]
      },
      {
       "output_type": "stream",
       "stream": "stdout",
       "text": [
        "\n",
        "  2272  |    0.004930  |    0.005657  |     0.871476  |             |  9.2s"
       ]
      },
      {
       "output_type": "stream",
       "stream": "stdout",
       "text": [
        "\n",
        "  2273  |    0.004922  |    0.005661  |     0.869363  |             |  9.2s"
       ]
      },
      {
       "output_type": "stream",
       "stream": "stdout",
       "text": [
        "\n",
        "  2274  |    0.004936  |    0.005669  |     0.870729  |             |  9.2s"
       ]
      },
      {
       "output_type": "stream",
       "stream": "stdout",
       "text": [
        "\n",
        "  2275  |    0.004931  |    0.005668  |     0.870024  |             |  9.2s"
       ]
      },
      {
       "output_type": "stream",
       "stream": "stdout",
       "text": [
        "\n",
        "  2276  |    0.004941  |    0.005653  |     0.874054  |             |  9.2s"
       ]
      },
      {
       "output_type": "stream",
       "stream": "stdout",
       "text": [
        "\n",
        "  2277  |    0.004915  |    0.005664  |     0.867666  |             |  9.2s"
       ]
      },
      {
       "output_type": "stream",
       "stream": "stdout",
       "text": [
        "\n",
        "  2278  |  \u001b[94m  0.004894\u001b[0m  |    0.005651  |     0.866087  |             |  9.2s"
       ]
      },
      {
       "output_type": "stream",
       "stream": "stdout",
       "text": [
        "\n",
        "  2279  |    0.004968  |    0.005672  |     0.875933  |             |  9.2s"
       ]
      },
      {
       "output_type": "stream",
       "stream": "stdout",
       "text": [
        "\n",
        "  2280  |  \u001b[94m  0.004848\u001b[0m  |    0.005688  |     0.852415  |             |  9.2s"
       ]
      },
      {
       "output_type": "stream",
       "stream": "stdout",
       "text": [
        "\n",
        "  2281  |  \u001b[94m  0.004838\u001b[0m  |    0.005676  |     0.852275  |             |  9.2s"
       ]
      },
      {
       "output_type": "stream",
       "stream": "stdout",
       "text": [
        "\n",
        "  2282  |    0.004907  |    0.005645  |     0.869289  |             |  9.2s"
       ]
      },
      {
       "output_type": "stream",
       "stream": "stdout",
       "text": [
        "\n",
        "  2283  |    0.004957  |  \u001b[32m  0.005635\u001b[0m  |     0.879758  |             |  9.2s"
       ]
      },
      {
       "output_type": "stream",
       "stream": "stdout",
       "text": [
        "\n",
        "  2284  |    0.004925  |    0.005655  |     0.870833  |             |  9.2s"
       ]
      },
      {
       "output_type": "stream",
       "stream": "stdout",
       "text": [
        "\n",
        "  2285  |    0.004897  |    0.005653  |     0.866255  |             |  9.2s"
       ]
      },
      {
       "output_type": "stream",
       "stream": "stdout",
       "text": [
        "\n",
        "  2286  |    0.004900  |    0.005707  |     0.858580  |             |  9.2s"
       ]
      },
      {
       "output_type": "stream",
       "stream": "stdout",
       "text": [
        "\n",
        "  2287  |    0.004891  |    0.005639  |     0.867407  |             |  9.2s"
       ]
      },
      {
       "output_type": "stream",
       "stream": "stdout",
       "text": [
        "\n",
        "  2288  |    0.004911  |    0.005651  |     0.869018  |             |  9.2s"
       ]
      },
      {
       "output_type": "stream",
       "stream": "stdout",
       "text": [
        "\n",
        "  2289  |    0.004866  |  \u001b[32m  0.005628\u001b[0m  |     0.864587  |             |  9.2s"
       ]
      },
      {
       "output_type": "stream",
       "stream": "stdout",
       "text": [
        "\n",
        "  2290  |    0.004878  |    0.005658  |     0.862020  |             |  9.2s"
       ]
      },
      {
       "output_type": "stream",
       "stream": "stdout",
       "text": [
        "\n",
        "  2291  |    0.004889  |    0.005629  |     0.868486  |             |  9.2s"
       ]
      },
      {
       "output_type": "stream",
       "stream": "stdout",
       "text": [
        "\n",
        "  2292  |    0.004913  |    0.005635  |     0.871934  |             |  9.2s"
       ]
      },
      {
       "output_type": "stream",
       "stream": "stdout",
       "text": [
        "\n",
        "  2293  |    0.004941  |  \u001b[32m  0.005625\u001b[0m  |     0.878272  |             |  9.2s"
       ]
      },
      {
       "output_type": "stream",
       "stream": "stdout",
       "text": [
        "\n",
        "  2294  |    0.004877  |    0.005655  |     0.862502  |             |  9.2s"
       ]
      },
      {
       "output_type": "stream",
       "stream": "stdout",
       "text": [
        "\n",
        "  2295  |    0.004888  |    0.005647  |     0.865557  |             |  9.2s"
       ]
      },
      {
       "output_type": "stream",
       "stream": "stdout",
       "text": [
        "\n",
        "  2296  |    0.004914  |    0.005671  |     0.866523  |             |  9.2s"
       ]
      },
      {
       "output_type": "stream",
       "stream": "stdout",
       "text": [
        "\n",
        "  2297  |    0.004903  |    0.005639  |     0.869497  |             |  9.2s"
       ]
      },
      {
       "output_type": "stream",
       "stream": "stdout",
       "text": [
        "\n",
        "  2298  |    0.004861  |    0.005659  |     0.858901  |             |  9.2s"
       ]
      },
      {
       "output_type": "stream",
       "stream": "stdout",
       "text": [
        "\n",
        "  2299  |    0.004860  |    0.005670  |     0.857119  |             |  9.2s"
       ]
      },
      {
       "output_type": "stream",
       "stream": "stdout",
       "text": [
        "\n",
        "  2300  |    0.004854  |    0.005661  |     0.857473  |             |  9.2s"
       ]
      },
      {
       "output_type": "stream",
       "stream": "stdout",
       "text": [
        "\n",
        "  2301  |    0.004922  |    0.005632  |     0.874025  |             |  9.2s"
       ]
      },
      {
       "output_type": "stream",
       "stream": "stdout",
       "text": [
        "\n",
        "  2302  |    0.004847  |    0.005636  |     0.859929  |             |  9.2s"
       ]
      },
      {
       "output_type": "stream",
       "stream": "stdout",
       "text": [
        "\n",
        "  2303  |    0.004864  |    0.005677  |     0.856852  |             |  9.2s"
       ]
      },
      {
       "output_type": "stream",
       "stream": "stdout",
       "text": [
        "\n",
        "  2304  |    0.004854  |    0.005647  |     0.859532  |             |  9.2s"
       ]
      },
      {
       "output_type": "stream",
       "stream": "stdout",
       "text": [
        "\n",
        "  2305  |    0.004848  |    0.005689  |     0.852215  |             |  9.2s"
       ]
      },
      {
       "output_type": "stream",
       "stream": "stdout",
       "text": [
        "\n",
        "  2306  |    0.004943  |    0.005643  |     0.875867  |             |  9.2s"
       ]
      },
      {
       "output_type": "stream",
       "stream": "stdout",
       "text": [
        "\n",
        "  2307  |    0.004848  |    0.005632  |     0.860822  |             |  9.2s"
       ]
      },
      {
       "output_type": "stream",
       "stream": "stdout",
       "text": [
        "\n",
        "  2308  |    0.004909  |    0.005645  |     0.869584  |             |  9.2s"
       ]
      },
      {
       "output_type": "stream",
       "stream": "stdout",
       "text": [
        "\n",
        "  2309  |    0.004857  |    0.005656  |     0.858697  |             |  9.2s"
       ]
      },
      {
       "output_type": "stream",
       "stream": "stdout",
       "text": [
        "\n",
        "  2310  |    0.004893  |    0.005657  |     0.864921  |             |  9.2s"
       ]
      },
      {
       "output_type": "stream",
       "stream": "stdout",
       "text": [
        "\n",
        "  2311  |    0.004919  |    0.005640  |     0.872259  |             |  9.2s"
       ]
      },
      {
       "output_type": "stream",
       "stream": "stdout",
       "text": [
        "\n",
        "  2312  |    0.004916  |    0.005643  |     0.871197  |             |  9.2s"
       ]
      },
      {
       "output_type": "stream",
       "stream": "stdout",
       "text": [
        "\n",
        "  2313  |    0.004893  |    0.005660  |     0.864449  |             |  9.2s"
       ]
      },
      {
       "output_type": "stream",
       "stream": "stdout",
       "text": [
        "\n",
        "  2314  |    0.004871  |    0.005655  |     0.861367  |             |  9.2s"
       ]
      },
      {
       "output_type": "stream",
       "stream": "stdout",
       "text": [
        "\n",
        "  2315  |    0.004857  |    0.005629  |     0.862831  |             |  9.2s"
       ]
      },
      {
       "output_type": "stream",
       "stream": "stdout",
       "text": [
        "\n",
        "  2316  |    0.004884  |    0.005625  |     0.868211  |             |  9.2s"
       ]
      },
      {
       "output_type": "stream",
       "stream": "stdout",
       "text": [
        "\n",
        "  2317  |    0.004841  |    0.005633  |     0.859530  |             |  9.2s"
       ]
      },
      {
       "output_type": "stream",
       "stream": "stdout",
       "text": [
        "\n",
        "  2318  |    0.004846  |    0.005656  |     0.856717  |             |  9.2s"
       ]
      },
      {
       "output_type": "stream",
       "stream": "stdout",
       "text": [
        "\n",
        "  2319  |  \u001b[94m  0.004778\u001b[0m  |    0.005668  |     0.843000  |             |  9.2s"
       ]
      },
      {
       "output_type": "stream",
       "stream": "stdout",
       "text": [
        "\n",
        "  2320  |    0.004858  |    0.005646  |     0.860309  |             |  9.2s"
       ]
      },
      {
       "output_type": "stream",
       "stream": "stdout",
       "text": [
        "\n",
        "  2321  |    0.004870  |  \u001b[32m  0.005620\u001b[0m  |     0.866557  |             |  9.2s"
       ]
      },
      {
       "output_type": "stream",
       "stream": "stdout",
       "text": [
        "\n",
        "  2322  |    0.004813  |    0.005653  |     0.851407  |             |  9.2s"
       ]
      },
      {
       "output_type": "stream",
       "stream": "stdout",
       "text": [
        "\n",
        "  2323  |    0.004822  |  \u001b[32m  0.005616\u001b[0m  |     0.858502  |             |  9.2s"
       ]
      },
      {
       "output_type": "stream",
       "stream": "stdout",
       "text": [
        "\n",
        "  2324  |    0.004839  |    0.005662  |     0.854592  |             |  9.2s"
       ]
      },
      {
       "output_type": "stream",
       "stream": "stdout",
       "text": [
        "\n",
        "  2325  |    0.004848  |    0.005638  |     0.859775  |             |  9.2s"
       ]
      },
      {
       "output_type": "stream",
       "stream": "stdout",
       "text": [
        "\n",
        "  2326  |    0.004901  |  \u001b[32m  0.005616\u001b[0m  |     0.872633  |             |  9.2s"
       ]
      },
      {
       "output_type": "stream",
       "stream": "stdout",
       "text": [
        "\n",
        "  2327  |    0.004881  |    0.005626  |     0.867519  |             |  9.2s"
       ]
      },
      {
       "output_type": "stream",
       "stream": "stdout",
       "text": [
        "\n",
        "  2328  |    0.004857  |    0.005627  |     0.863216  |             |  9.2s"
       ]
      },
      {
       "output_type": "stream",
       "stream": "stdout",
       "text": [
        "\n",
        "  2329  |    0.004967  |    0.005647  |     0.879463  |             |  9.2s"
       ]
      },
      {
       "output_type": "stream",
       "stream": "stdout",
       "text": [
        "\n",
        "  2330  |    0.004834  |    0.005668  |     0.852768  |             |  9.2s"
       ]
      },
      {
       "output_type": "stream",
       "stream": "stdout",
       "text": [
        "\n",
        "  2331  |    0.004874  |    0.005625  |     0.866463  |             |  9.2s"
       ]
      },
      {
       "output_type": "stream",
       "stream": "stdout",
       "text": [
        "\n",
        "  2332  |    0.004825  |    0.005632  |     0.856693  |             |  9.2s"
       ]
      },
      {
       "output_type": "stream",
       "stream": "stdout",
       "text": [
        "\n",
        "  2333  |  \u001b[94m  0.004764\u001b[0m  |    0.005635  |     0.845427  |             |  9.2s"
       ]
      },
      {
       "output_type": "stream",
       "stream": "stdout",
       "text": [
        "\n",
        "  2334  |    0.004825  |    0.005629  |     0.857190  |             |  9.2s"
       ]
      },
      {
       "output_type": "stream",
       "stream": "stdout",
       "text": [
        "\n",
        "  2335  |    0.004886  |    0.005630  |     0.867875  |             |  9.2s"
       ]
      },
      {
       "output_type": "stream",
       "stream": "stdout",
       "text": [
        "\n",
        "  2336  |    0.004882  |    0.005624  |     0.868128  |             |  9.2s"
       ]
      },
      {
       "output_type": "stream",
       "stream": "stdout",
       "text": [
        "\n",
        "  2337  |    0.004858  |    0.005618  |     0.864764  |             |  9.2s"
       ]
      },
      {
       "output_type": "stream",
       "stream": "stdout",
       "text": [
        "\n",
        "  2338  |    0.004898  |    0.005622  |     0.871339  |             |  9.2s"
       ]
      },
      {
       "output_type": "stream",
       "stream": "stdout",
       "text": [
        "\n",
        "  2339  |    0.004861  |    0.005653  |     0.859920  |             |  9.2s"
       ]
      },
      {
       "output_type": "stream",
       "stream": "stdout",
       "text": [
        "\n",
        "  2340  |    0.004817  |    0.005621  |     0.856964  |             |  9.2s"
       ]
      },
      {
       "output_type": "stream",
       "stream": "stdout",
       "text": [
        "\n",
        "  2341  |    0.004895  |    0.005630  |     0.869394  |             |  9.2s"
       ]
      },
      {
       "output_type": "stream",
       "stream": "stdout",
       "text": [
        "\n",
        "  2342  |    0.004849  |    0.005633  |     0.860742  |             |  9.2s"
       ]
      },
      {
       "output_type": "stream",
       "stream": "stdout",
       "text": [
        "\n",
        "  2343  |    0.004788  |    0.005645  |     0.848183  |             |  9.2s"
       ]
      },
      {
       "output_type": "stream",
       "stream": "stdout",
       "text": [
        "\n",
        "  2344  |    0.004816  |    0.005635  |     0.854697  |             |  9.2s"
       ]
      },
      {
       "output_type": "stream",
       "stream": "stdout",
       "text": [
        "\n",
        "  2345  |    0.004869  |    0.005672  |     0.858278  |             |  9.2s"
       ]
      },
      {
       "output_type": "stream",
       "stream": "stdout",
       "text": [
        "\n",
        "  2346  |    0.004773  |    0.005650  |     0.844716  |             |  9.2s"
       ]
      },
      {
       "output_type": "stream",
       "stream": "stdout",
       "text": [
        "\n",
        "  2347  |    0.004812  |  \u001b[32m  0.005604\u001b[0m  |     0.858630  |             |  9.2s"
       ]
      },
      {
       "output_type": "stream",
       "stream": "stdout",
       "text": [
        "\n",
        "  2348  |    0.004901  |    0.005623  |     0.871506  |             |  9.2s"
       ]
      },
      {
       "output_type": "stream",
       "stream": "stdout",
       "text": [
        "\n",
        "  2349  |    0.004857  |    0.005633  |     0.862207  |             |  9.2s"
       ]
      },
      {
       "output_type": "stream",
       "stream": "stdout",
       "text": [
        "\n",
        "  2350  |    0.004774  |    0.005638  |     0.846774  |             |  9.2s"
       ]
      },
      {
       "output_type": "stream",
       "stream": "stdout",
       "text": [
        "\n",
        "  2351  |    0.004859  |    0.005648  |     0.860280  |             |  9.2s"
       ]
      },
      {
       "output_type": "stream",
       "stream": "stdout",
       "text": [
        "\n",
        "  2352  |    0.004832  |    0.005642  |     0.856551  |             |  9.2s"
       ]
      },
      {
       "output_type": "stream",
       "stream": "stdout",
       "text": [
        "\n",
        "  2353  |    0.004779  |    0.005615  |     0.851077  |             |  9.2s"
       ]
      },
      {
       "output_type": "stream",
       "stream": "stdout",
       "text": [
        "\n",
        "  2354  |  \u001b[94m  0.004750\u001b[0m  |    0.005631  |     0.843444  |             |  9.2s"
       ]
      },
      {
       "output_type": "stream",
       "stream": "stdout",
       "text": [
        "\n",
        "  2355  |    0.004833  |    0.005621  |     0.859800  |             |  9.2s"
       ]
      },
      {
       "output_type": "stream",
       "stream": "stdout",
       "text": [
        "\n",
        "  2356  |    0.004812  |    0.005631  |     0.854524  |             |  9.2s"
       ]
      },
      {
       "output_type": "stream",
       "stream": "stdout",
       "text": [
        "\n",
        "  2357  |    0.004796  |  \u001b[32m  0.005568\u001b[0m  |     0.861341  |             |  9.2s"
       ]
      },
      {
       "output_type": "stream",
       "stream": "stdout",
       "text": [
        "\n",
        "  2358  |    0.004800  |    0.005595  |     0.857953  |             |  9.2s"
       ]
      },
      {
       "output_type": "stream",
       "stream": "stdout",
       "text": [
        "\n",
        "  2359  |    0.004795  |    0.005632  |     0.851438  |             |  9.2s"
       ]
      },
      {
       "output_type": "stream",
       "stream": "stdout",
       "text": [
        "\n",
        "  2360  |    0.004793  |    0.005620  |     0.852788  |             |  9.2s"
       ]
      },
      {
       "output_type": "stream",
       "stream": "stdout",
       "text": [
        "\n",
        "  2361  |    0.004846  |    0.005656  |     0.856784  |             |  9.2s"
       ]
      },
      {
       "output_type": "stream",
       "stream": "stdout",
       "text": [
        "\n",
        "  2362  |  \u001b[94m  0.004744\u001b[0m  |    0.005651  |     0.839607  |             |  9.2s"
       ]
      },
      {
       "output_type": "stream",
       "stream": "stdout",
       "text": [
        "\n",
        "  2363  |    0.004781  |    0.005652  |     0.845924  |             |  9.2s"
       ]
      },
      {
       "output_type": "stream",
       "stream": "stdout",
       "text": [
        "\n",
        "  2364  |    0.004852  |    0.005661  |     0.857123  |             |  9.2s"
       ]
      },
      {
       "output_type": "stream",
       "stream": "stdout",
       "text": [
        "\n",
        "  2365  |    0.004753  |    0.005591  |     0.850158  |             |  9.2s"
       ]
      },
      {
       "output_type": "stream",
       "stream": "stdout",
       "text": [
        "\n",
        "  2366  |    0.004849  |    0.005606  |     0.864956  |             |  9.2s"
       ]
      },
      {
       "output_type": "stream",
       "stream": "stdout",
       "text": [
        "\n",
        "  2367  |    0.004792  |    0.005578  |     0.859016  |             |  9.2s"
       ]
      },
      {
       "output_type": "stream",
       "stream": "stdout",
       "text": [
        "\n",
        "  2368  |    0.004809  |  \u001b[32m  0.005564\u001b[0m  |     0.864427  |             |  9.2s"
       ]
      },
      {
       "output_type": "stream",
       "stream": "stdout",
       "text": [
        "\n",
        "  2369  |    0.004776  |    0.005621  |     0.849657  |             |  9.2s"
       ]
      },
      {
       "output_type": "stream",
       "stream": "stdout",
       "text": [
        "\n",
        "  2370  |    0.004757  |    0.005624  |     0.845889  |             |  9.2s"
       ]
      },
      {
       "output_type": "stream",
       "stream": "stdout",
       "text": [
        "\n",
        "  2371  |    0.004901  |    0.005608  |     0.873947  |             |  9.2s"
       ]
      },
      {
       "output_type": "stream",
       "stream": "stdout",
       "text": [
        "\n",
        "  2372  |    0.004791  |    0.005596  |     0.856184  |             |  9.2s"
       ]
      },
      {
       "output_type": "stream",
       "stream": "stdout",
       "text": [
        "\n",
        "  2373  |    0.004813  |    0.005615  |     0.857044  |             |  9.2s"
       ]
      },
      {
       "output_type": "stream",
       "stream": "stdout",
       "text": [
        "\n",
        "  2374  |    0.004813  |    0.005607  |     0.858388  |             |  9.2s"
       ]
      },
      {
       "output_type": "stream",
       "stream": "stdout",
       "text": [
        "\n",
        "  2375  |    0.004846  |    0.005684  |     0.852653  |             |  9.2s"
       ]
      },
      {
       "output_type": "stream",
       "stream": "stdout",
       "text": [
        "\n",
        "  2376  |    0.004873  |    0.005623  |     0.866568  |             |  9.2s"
       ]
      },
      {
       "output_type": "stream",
       "stream": "stdout",
       "text": [
        "\n",
        "  2377  |    0.004794  |    0.005621  |     0.852906  |             |  9.2s"
       ]
      },
      {
       "output_type": "stream",
       "stream": "stdout",
       "text": [
        "\n",
        "  2378  |    0.004769  |    0.005590  |     0.853039  |             |  9.2s"
       ]
      },
      {
       "output_type": "stream",
       "stream": "stdout",
       "text": [
        "\n",
        "  2379  |    0.004787  |    0.005644  |     0.848204  |             |  9.2s"
       ]
      },
      {
       "output_type": "stream",
       "stream": "stdout",
       "text": [
        "\n",
        "  2380  |    0.004795  |    0.005642  |     0.849970  |             |  9.2s"
       ]
      },
      {
       "output_type": "stream",
       "stream": "stdout",
       "text": [
        "\n",
        "  2381  |    0.004841  |    0.005640  |     0.858301  |             |  9.2s"
       ]
      },
      {
       "output_type": "stream",
       "stream": "stdout",
       "text": [
        "\n",
        "  2382  |  \u001b[94m  0.004731\u001b[0m  |    0.005640  |     0.838732  |             |  9.2s"
       ]
      },
      {
       "output_type": "stream",
       "stream": "stdout",
       "text": [
        "\n",
        "  2383  |    0.004867  |    0.005598  |     0.869295  |             |  9.2s"
       ]
      },
      {
       "output_type": "stream",
       "stream": "stdout",
       "text": [
        "\n",
        "  2384  |    0.004849  |    0.005599  |     0.866031  |             |  9.2s"
       ]
      },
      {
       "output_type": "stream",
       "stream": "stdout",
       "text": [
        "\n",
        "  2385  |    0.004780  |    0.005635  |     0.848386  |             |  9.2s"
       ]
      },
      {
       "output_type": "stream",
       "stream": "stdout",
       "text": [
        "\n",
        "  2386  |    0.004771  |    0.005631  |     0.847288  |             |  9.2s"
       ]
      },
      {
       "output_type": "stream",
       "stream": "stdout",
       "text": [
        "\n",
        "  2387  |    0.004787  |    0.005611  |     0.853120  |             |  9.2s"
       ]
      },
      {
       "output_type": "stream",
       "stream": "stdout",
       "text": [
        "\n",
        "  2388  |    0.004790  |    0.005618  |     0.852705  |             |  9.2s"
       ]
      },
      {
       "output_type": "stream",
       "stream": "stdout",
       "text": [
        "\n",
        "  2389  |    0.004776  |    0.005608  |     0.851615  |             |  9.2s"
       ]
      },
      {
       "output_type": "stream",
       "stream": "stdout",
       "text": [
        "\n",
        "  2390  |    0.004794  |    0.005622  |     0.852629  |             |  9.2s"
       ]
      },
      {
       "output_type": "stream",
       "stream": "stdout",
       "text": [
        "\n",
        "  2391  |    0.004772  |    0.005564  |     0.857704  |             |  9.2s"
       ]
      },
      {
       "output_type": "stream",
       "stream": "stdout",
       "text": [
        "\n",
        "  2392  |    0.004761  |    0.005619  |     0.847220  |             |  9.2s"
       ]
      },
      {
       "output_type": "stream",
       "stream": "stdout",
       "text": [
        "\n",
        "  2393  |    0.004778  |    0.005637  |     0.847737  |             |  9.2s"
       ]
      },
      {
       "output_type": "stream",
       "stream": "stdout",
       "text": [
        "\n",
        "  2394  |    0.004741  |    0.005618  |     0.843998  |             |  9.2s"
       ]
      },
      {
       "output_type": "stream",
       "stream": "stdout",
       "text": [
        "\n",
        "  2395  |  \u001b[94m  0.004684\u001b[0m  |    0.005629  |     0.832256  |             |  9.2s"
       ]
      },
      {
       "output_type": "stream",
       "stream": "stdout",
       "text": [
        "\n",
        "  2396  |    0.004758  |    0.005634  |     0.844543  |             |  9.2s"
       ]
      },
      {
       "output_type": "stream",
       "stream": "stdout",
       "text": [
        "\n",
        "  2397  |    0.004768  |    0.005604  |     0.850808  |             |  9.2s"
       ]
      },
      {
       "output_type": "stream",
       "stream": "stdout",
       "text": [
        "\n",
        "  2398  |    0.004782  |  \u001b[32m  0.005550\u001b[0m  |     0.861579  |             |  9.2s"
       ]
      },
      {
       "output_type": "stream",
       "stream": "stdout",
       "text": [
        "\n",
        "  2399  |    0.004759  |    0.005595  |     0.850617  |             |  9.2s"
       ]
      },
      {
       "output_type": "stream",
       "stream": "stdout",
       "text": [
        "\n",
        "  2400  |    0.004750  |    0.005589  |     0.849799  |             |  9.2s"
       ]
      },
      {
       "output_type": "stream",
       "stream": "stdout",
       "text": [
        "\n",
        "  2401  |    0.004791  |    0.005592  |     0.856710  |             |  9.2s"
       ]
      },
      {
       "output_type": "stream",
       "stream": "stdout",
       "text": [
        "\n",
        "  2402  |    0.004724  |    0.005623  |     0.840086  |             |  9.2s"
       ]
      },
      {
       "output_type": "stream",
       "stream": "stdout",
       "text": [
        "\n",
        "  2403  |    0.004746  |    0.005603  |     0.847005  |             |  9.2s"
       ]
      },
      {
       "output_type": "stream",
       "stream": "stdout",
       "text": [
        "\n",
        "  2404  |    0.004788  |    0.005595  |     0.855744  |             |  9.2s"
       ]
      },
      {
       "output_type": "stream",
       "stream": "stdout",
       "text": [
        "\n",
        "  2405  |    0.004772  |    0.005597  |     0.852560  |             |  9.2s"
       ]
      },
      {
       "output_type": "stream",
       "stream": "stdout",
       "text": [
        "\n",
        "  2406  |    0.004745  |    0.005603  |     0.846892  |             |  9.2s"
       ]
      },
      {
       "output_type": "stream",
       "stream": "stdout",
       "text": [
        "\n",
        "  2407  |    0.004784  |    0.005589  |     0.856047  |             |  9.2s"
       ]
      },
      {
       "output_type": "stream",
       "stream": "stdout",
       "text": [
        "\n",
        "  2408  |    0.004734  |    0.005599  |     0.845441  |             |  9.2s"
       ]
      },
      {
       "output_type": "stream",
       "stream": "stdout",
       "text": [
        "\n",
        "  2409  |  \u001b[94m  0.004683\u001b[0m  |    0.005611  |     0.834588  |             |  9.2s"
       ]
      },
      {
       "output_type": "stream",
       "stream": "stdout",
       "text": [
        "\n",
        "  2410  |    0.004768  |    0.005597  |     0.851880  |             |  9.2s"
       ]
      },
      {
       "output_type": "stream",
       "stream": "stdout",
       "text": [
        "\n",
        "  2411  |    0.004752  |    0.005617  |     0.845970  |             |  9.2s"
       ]
      },
      {
       "output_type": "stream",
       "stream": "stdout",
       "text": [
        "\n",
        "  2412  |    0.004784  |    0.005584  |     0.856762  |             |  9.2s"
       ]
      },
      {
       "output_type": "stream",
       "stream": "stdout",
       "text": [
        "\n",
        "  2413  |    0.004744  |    0.005593  |     0.848281  |             |  9.2s"
       ]
      },
      {
       "output_type": "stream",
       "stream": "stdout",
       "text": [
        "\n",
        "  2414  |    0.004788  |    0.005598  |     0.855348  |             |  9.2s"
       ]
      },
      {
       "output_type": "stream",
       "stream": "stdout",
       "text": [
        "\n",
        "  2415  |    0.004714  |    0.005603  |     0.841455  |             |  9.2s"
       ]
      },
      {
       "output_type": "stream",
       "stream": "stdout",
       "text": [
        "\n",
        "  2416  |    0.004762  |    0.005604  |     0.849670  |             |  9.2s"
       ]
      },
      {
       "output_type": "stream",
       "stream": "stdout",
       "text": [
        "\n",
        "  2417  |    0.004726  |    0.005599  |     0.844124  |             |  9.2s"
       ]
      },
      {
       "output_type": "stream",
       "stream": "stdout",
       "text": [
        "\n",
        "  2418  |    0.004728  |    0.005617  |     0.841751  |             |  9.2s"
       ]
      },
      {
       "output_type": "stream",
       "stream": "stdout",
       "text": [
        "\n",
        "  2419  |    0.004717  |    0.005616  |     0.839858  |             |  9.2s"
       ]
      },
      {
       "output_type": "stream",
       "stream": "stdout",
       "text": [
        "\n",
        "  2420  |    0.004701  |    0.005623  |     0.836080  |             |  9.2s"
       ]
      },
      {
       "output_type": "stream",
       "stream": "stdout",
       "text": [
        "\n",
        "  2421  |    0.004730  |    0.005579  |     0.847763  |             |  9.2s"
       ]
      },
      {
       "output_type": "stream",
       "stream": "stdout",
       "text": [
        "\n",
        "  2422  |    0.004777  |    0.005577  |     0.856462  |             |  9.2s"
       ]
      },
      {
       "output_type": "stream",
       "stream": "stdout",
       "text": [
        "\n",
        "  2423  |    0.004714  |    0.005598  |     0.841946  |             |  9.2s"
       ]
      },
      {
       "output_type": "stream",
       "stream": "stdout",
       "text": [
        "\n",
        "  2424  |    0.004736  |    0.005613  |     0.843640  |             |  9.2s"
       ]
      },
      {
       "output_type": "stream",
       "stream": "stdout",
       "text": [
        "\n",
        "  2425  |    0.004717  |    0.005608  |     0.841183  |             |  9.2s"
       ]
      },
      {
       "output_type": "stream",
       "stream": "stdout",
       "text": [
        "\n",
        "  2426  |    0.004705  |    0.005587  |     0.842203  |             |  9.2s"
       ]
      },
      {
       "output_type": "stream",
       "stream": "stdout",
       "text": [
        "\n",
        "  2427  |    0.004818  |    0.005575  |     0.864365  |             |  9.2s"
       ]
      },
      {
       "output_type": "stream",
       "stream": "stdout",
       "text": [
        "\n",
        "  2428  |    0.004769  |    0.005609  |     0.850232  |             |  9.2s"
       ]
      },
      {
       "output_type": "stream",
       "stream": "stdout",
       "text": [
        "\n",
        "  2429  |  \u001b[94m  0.004679\u001b[0m  |    0.005583  |     0.838067  |             |  9.2s"
       ]
      },
      {
       "output_type": "stream",
       "stream": "stdout",
       "text": [
        "\n",
        "  2430  |  \u001b[94m  0.004676\u001b[0m  |    0.005590  |     0.836393  |             |  9.2s"
       ]
      },
      {
       "output_type": "stream",
       "stream": "stdout",
       "text": [
        "\n",
        "  2431  |    0.004678  |    0.005601  |     0.835277  |             |  9.2s"
       ]
      },
      {
       "output_type": "stream",
       "stream": "stdout",
       "text": [
        "\n",
        "  2432  |    0.004733  |    0.005590  |     0.846739  |             |  9.2s"
       ]
      },
      {
       "output_type": "stream",
       "stream": "stdout",
       "text": [
        "\n",
        "  2433  |    0.004723  |    0.005595  |     0.844079  |             |  9.2s"
       ]
      },
      {
       "output_type": "stream",
       "stream": "stdout",
       "text": [
        "\n",
        "  2434  |    0.004739  |    0.005608  |     0.845028  |             |  9.2s"
       ]
      },
      {
       "output_type": "stream",
       "stream": "stdout",
       "text": [
        "\n",
        "  2435  |    0.004789  |    0.005600  |     0.855136  |             |  9.2s"
       ]
      },
      {
       "output_type": "stream",
       "stream": "stdout",
       "text": [
        "\n",
        "  2436  |    0.004682  |    0.005610  |     0.834505  |             |  9.2s"
       ]
      },
      {
       "output_type": "stream",
       "stream": "stdout",
       "text": [
        "\n",
        "  2437  |    0.004810  |    0.005600  |     0.858926  |             |  9.2s"
       ]
      },
      {
       "output_type": "stream",
       "stream": "stdout",
       "text": [
        "\n",
        "  2438  |    0.004706  |    0.005584  |     0.842913  |             |  9.2s"
       ]
      },
      {
       "output_type": "stream",
       "stream": "stdout",
       "text": [
        "\n",
        "  2439  |    0.004739  |    0.005581  |     0.849150  |             |  9.2s"
       ]
      },
      {
       "output_type": "stream",
       "stream": "stdout",
       "text": [
        "\n",
        "  2440  |    0.004704  |    0.005629  |     0.835653  |             |  9.2s"
       ]
      },
      {
       "output_type": "stream",
       "stream": "stdout",
       "text": [
        "\n",
        "  2441  |    0.004697  |    0.005610  |     0.837268  |             |  9.2s"
       ]
      },
      {
       "output_type": "stream",
       "stream": "stdout",
       "text": [
        "\n",
        "  2442  |    0.004702  |    0.005587  |     0.841601  |             |  9.2s"
       ]
      },
      {
       "output_type": "stream",
       "stream": "stdout",
       "text": [
        "\n",
        "  2443  |    0.004729  |    0.005577  |     0.847978  |             |  9.2s"
       ]
      },
      {
       "output_type": "stream",
       "stream": "stdout",
       "text": [
        "\n",
        "  2444  |  \u001b[94m  0.004646\u001b[0m  |    0.005571  |     0.833951  |             |  9.2s"
       ]
      },
      {
       "output_type": "stream",
       "stream": "stdout",
       "text": [
        "\n",
        "  2445  |    0.004743  |    0.005567  |     0.852119  |             |  9.2s"
       ]
      },
      {
       "output_type": "stream",
       "stream": "stdout",
       "text": [
        "\n",
        "  2446  |    0.004663  |    0.005565  |     0.837860  |             |  9.2s"
       ]
      },
      {
       "output_type": "stream",
       "stream": "stdout",
       "text": [
        "\n",
        "  2447  |    0.004647  |    0.005601  |     0.829628  |             |  9.2s"
       ]
      },
      {
       "output_type": "stream",
       "stream": "stdout",
       "text": [
        "\n",
        "  2448  |    0.004683  |    0.005550  |     0.843808  |             |  9.2s"
       ]
      },
      {
       "output_type": "stream",
       "stream": "stdout",
       "text": [
        "\n",
        "  2449  |  \u001b[94m  0.004639\u001b[0m  |    0.005553  |     0.835410  |             |  9.2s"
       ]
      },
      {
       "output_type": "stream",
       "stream": "stdout",
       "text": [
        "\n",
        "  2450  |    0.004676  |    0.005567  |     0.839877  |             |  9.2s"
       ]
      },
      {
       "output_type": "stream",
       "stream": "stdout",
       "text": [
        "\n",
        "  2451  |    0.004778  |  \u001b[32m  0.005546\u001b[0m  |     0.861458  |             |  9.2s"
       ]
      },
      {
       "output_type": "stream",
       "stream": "stdout",
       "text": [
        "\n",
        "  2452  |    0.004695  |    0.005568  |     0.843340  |             |  9.2s"
       ]
      },
      {
       "output_type": "stream",
       "stream": "stdout",
       "text": [
        "\n",
        "  2453  |    0.004678  |    0.005559  |     0.841509  |             |  9.2s"
       ]
      },
      {
       "output_type": "stream",
       "stream": "stdout",
       "text": [
        "\n",
        "  2454  |    0.004686  |    0.005573  |     0.840813  |             |  9.2s"
       ]
      },
      {
       "output_type": "stream",
       "stream": "stdout",
       "text": [
        "\n",
        "  2455  |    0.004701  |  \u001b[32m  0.005545\u001b[0m  |     0.847786  |             |  9.2s"
       ]
      },
      {
       "output_type": "stream",
       "stream": "stdout",
       "text": [
        "\n",
        "  2456  |    0.004643  |    0.005572  |     0.833258  |             |  9.2s"
       ]
      },
      {
       "output_type": "stream",
       "stream": "stdout",
       "text": [
        "\n",
        "  2457  |    0.004708  |    0.005577  |     0.844176  |             |  9.2s"
       ]
      },
      {
       "output_type": "stream",
       "stream": "stdout",
       "text": [
        "\n",
        "  2458  |    0.004745  |    0.005552  |     0.854684  |             |  9.2s"
       ]
      },
      {
       "output_type": "stream",
       "stream": "stdout",
       "text": [
        "\n",
        "  2459  |  \u001b[94m  0.004633\u001b[0m  |  \u001b[32m  0.005533\u001b[0m  |     0.837305  |             |  9.2s"
       ]
      },
      {
       "output_type": "stream",
       "stream": "stdout",
       "text": [
        "\n",
        "  2460  |    0.004749  |    0.005590  |     0.849624  |             |  9.2s"
       ]
      },
      {
       "output_type": "stream",
       "stream": "stdout",
       "text": [
        "\n",
        "  2461  |    0.004688  |    0.005574  |     0.841061  |             |  9.2s"
       ]
      },
      {
       "output_type": "stream",
       "stream": "stdout",
       "text": [
        "\n",
        "  2462  |    0.004691  |    0.005549  |     0.845309  |             |  9.2s"
       ]
      },
      {
       "output_type": "stream",
       "stream": "stdout",
       "text": [
        "\n",
        "  2463  |    0.004713  |    0.005619  |     0.838697  |             |  9.2s"
       ]
      },
      {
       "output_type": "stream",
       "stream": "stdout",
       "text": [
        "\n",
        "  2464  |    0.004677  |    0.005586  |     0.837389  |             |  9.2s"
       ]
      },
      {
       "output_type": "stream",
       "stream": "stdout",
       "text": [
        "\n",
        "  2465  |    0.004687  |    0.005570  |     0.841520  |             |  9.2s"
       ]
      },
      {
       "output_type": "stream",
       "stream": "stdout",
       "text": [
        "\n",
        "  2466  |    0.004676  |    0.005577  |     0.838323  |             |  9.2s"
       ]
      },
      {
       "output_type": "stream",
       "stream": "stdout",
       "text": [
        "\n",
        "  2467  |  \u001b[94m  0.004624\u001b[0m  |    0.005598  |     0.825996  |             |  9.2s"
       ]
      },
      {
       "output_type": "stream",
       "stream": "stdout",
       "text": [
        "\n",
        "  2468  |    0.004642  |    0.005575  |     0.832659  |             |  9.2s"
       ]
      },
      {
       "output_type": "stream",
       "stream": "stdout",
       "text": [
        "\n",
        "  2469  |    0.004642  |    0.005548  |     0.836767  |             |  9.2s"
       ]
      },
      {
       "output_type": "stream",
       "stream": "stdout",
       "text": [
        "\n",
        "  2470  |    0.004662  |    0.005566  |     0.837612  |             |  9.2s"
       ]
      },
      {
       "output_type": "stream",
       "stream": "stdout",
       "text": [
        "\n",
        "  2471  |    0.004722  |    0.005564  |     0.848696  |             |  9.2s"
       ]
      },
      {
       "output_type": "stream",
       "stream": "stdout",
       "text": [
        "\n",
        "  2472  |    0.004654  |    0.005623  |     0.827764  |             |  9.2s"
       ]
      },
      {
       "output_type": "stream",
       "stream": "stdout",
       "text": [
        "\n",
        "  2473  |    0.004638  |    0.005539  |     0.837376  |             |  9.2s"
       ]
      },
      {
       "output_type": "stream",
       "stream": "stdout",
       "text": [
        "\n",
        "  2474  |    0.004663  |    0.005587  |     0.834578  |             |  9.2s"
       ]
      },
      {
       "output_type": "stream",
       "stream": "stdout",
       "text": [
        "\n",
        "  2475  |    0.004718  |    0.005576  |     0.846090  |             |  9.2s"
       ]
      },
      {
       "output_type": "stream",
       "stream": "stdout",
       "text": [
        "\n",
        "  2476  |    0.004683  |    0.005580  |     0.839183  |             |  9.2s"
       ]
      },
      {
       "output_type": "stream",
       "stream": "stdout",
       "text": [
        "\n",
        "  2477  |    0.004675  |    0.005595  |     0.835520  |             |  9.2s"
       ]
      },
      {
       "output_type": "stream",
       "stream": "stdout",
       "text": [
        "\n",
        "  2478  |    0.004673  |    0.005577  |     0.837878  |             |  9.2s"
       ]
      },
      {
       "output_type": "stream",
       "stream": "stdout",
       "text": [
        "\n",
        "  2479  |    0.004659  |    0.005539  |     0.841068  |             |  9.2s"
       ]
      },
      {
       "output_type": "stream",
       "stream": "stdout",
       "text": [
        "\n",
        "  2480  |    0.004661  |    0.005565  |     0.837658  |             |  9.2s"
       ]
      },
      {
       "output_type": "stream",
       "stream": "stdout",
       "text": [
        "\n",
        "  2481  |    0.004692  |    0.005590  |     0.839369  |             |  9.2s"
       ]
      },
      {
       "output_type": "stream",
       "stream": "stdout",
       "text": [
        "\n",
        "  2482  |    0.004645  |    0.005602  |     0.829164  |             |  9.2s"
       ]
      },
      {
       "output_type": "stream",
       "stream": "stdout",
       "text": [
        "\n",
        "  2483  |    0.004735  |    0.005596  |     0.846120  |             |  9.2s"
       ]
      },
      {
       "output_type": "stream",
       "stream": "stdout",
       "text": [
        "\n",
        "  2484  |    0.004680  |    0.005566  |     0.840798  |             |  9.2s"
       ]
      },
      {
       "output_type": "stream",
       "stream": "stdout",
       "text": [
        "\n",
        "  2485  |    0.004700  |    0.005576  |     0.842847  |             |  9.2s"
       ]
      },
      {
       "output_type": "stream",
       "stream": "stdout",
       "text": [
        "\n",
        "  2486  |    0.004657  |    0.005587  |     0.833431  |             |  9.2s"
       ]
      },
      {
       "output_type": "stream",
       "stream": "stdout",
       "text": [
        "\n",
        "  2487  |    0.004643  |    0.005585  |     0.831416  |             |  9.2s"
       ]
      },
      {
       "output_type": "stream",
       "stream": "stdout",
       "text": [
        "\n",
        "  2488  |  \u001b[94m  0.004614\u001b[0m  |    0.005598  |     0.824241  |             |  9.2s"
       ]
      },
      {
       "output_type": "stream",
       "stream": "stdout",
       "text": [
        "\n",
        "  2489  |  \u001b[94m  0.004595\u001b[0m  |    0.005556  |     0.827052  |             |  9.2s"
       ]
      },
      {
       "output_type": "stream",
       "stream": "stdout",
       "text": [
        "\n",
        "  2490  |    0.004628  |    0.005596  |     0.826892  |             |  9.2s"
       ]
      },
      {
       "output_type": "stream",
       "stream": "stdout",
       "text": [
        "\n",
        "  2491  |    0.004649  |    0.005576  |     0.833808  |             |  9.2s"
       ]
      },
      {
       "output_type": "stream",
       "stream": "stdout",
       "text": [
        "\n",
        "  2492  |  \u001b[94m  0.004590\u001b[0m  |    0.005557  |     0.825862  |             |  9.2s"
       ]
      },
      {
       "output_type": "stream",
       "stream": "stdout",
       "text": [
        "\n",
        "  2493  |    0.004721  |    0.005615  |     0.840743  |             |  9.2s"
       ]
      },
      {
       "output_type": "stream",
       "stream": "stdout",
       "text": [
        "\n",
        "  2494  |    0.004658  |    0.005564  |     0.837264  |             |  9.2s"
       ]
      },
      {
       "output_type": "stream",
       "stream": "stdout",
       "text": [
        "\n",
        "  2495  |    0.004666  |    0.005585  |     0.835473  |             |  9.2s"
       ]
      },
      {
       "output_type": "stream",
       "stream": "stdout",
       "text": [
        "\n",
        "  2496  |    0.004611  |    0.005558  |     0.829640  |             |  9.2s"
       ]
      },
      {
       "output_type": "stream",
       "stream": "stdout",
       "text": [
        "\n",
        "  2497  |    0.004664  |    0.005580  |     0.835760  |             |  9.2s"
       ]
      },
      {
       "output_type": "stream",
       "stream": "stdout",
       "text": [
        "\n",
        "  2498  |    0.004611  |    0.005577  |     0.826865  |             |  9.2s"
       ]
      },
      {
       "output_type": "stream",
       "stream": "stdout",
       "text": [
        "\n",
        "  2499  |    0.004658  |    0.005561  |     0.837626  |             |  9.2s"
       ]
      },
      {
       "output_type": "stream",
       "stream": "stdout",
       "text": [
        "\n",
        "  2500  |    0.004617  |    0.005564  |     0.829871  |             |  9.2s"
       ]
      },
      {
       "output_type": "stream",
       "stream": "stdout",
       "text": [
        "\n",
        "  2501  |    0.004621  |    0.005575  |     0.828871  |             |  9.2s"
       ]
      },
      {
       "output_type": "stream",
       "stream": "stdout",
       "text": [
        "\n",
        "  2502  |    0.004623  |    0.005594  |     0.826540  |             |  9.2s"
       ]
      },
      {
       "output_type": "stream",
       "stream": "stdout",
       "text": [
        "\n",
        "  2503  |    0.004612  |    0.005594  |     0.824454  |             |  9.2s"
       ]
      },
      {
       "output_type": "stream",
       "stream": "stdout",
       "text": [
        "\n",
        "  2504  |    0.004667  |    0.005581  |     0.836241  |             |  9.2s"
       ]
      },
      {
       "output_type": "stream",
       "stream": "stdout",
       "text": [
        "\n",
        "  2505  |    0.004675  |  \u001b[32m  0.005518\u001b[0m  |     0.847344  |             |  9.2s"
       ]
      },
      {
       "output_type": "stream",
       "stream": "stdout",
       "text": [
        "\n",
        "  2506  |    0.004634  |    0.005554  |     0.834349  |             |  9.2s"
       ]
      },
      {
       "output_type": "stream",
       "stream": "stdout",
       "text": [
        "\n",
        "  2507  |    0.004625  |    0.005562  |     0.831551  |             |  9.2s"
       ]
      },
      {
       "output_type": "stream",
       "stream": "stdout",
       "text": [
        "\n",
        "  2508  |    0.004613  |    0.005554  |     0.830684  |             |  9.2s"
       ]
      },
      {
       "output_type": "stream",
       "stream": "stdout",
       "text": [
        "\n",
        "  2509  |  \u001b[94m  0.004582\u001b[0m  |    0.005568  |     0.823017  |             |  9.2s"
       ]
      },
      {
       "output_type": "stream",
       "stream": "stdout",
       "text": [
        "\n",
        "  2510  |    0.004660  |    0.005602  |     0.831792  |             |  9.2s"
       ]
      },
      {
       "output_type": "stream",
       "stream": "stdout",
       "text": [
        "\n",
        "  2511  |    0.004675  |    0.005577  |     0.838196  |             |  9.2s"
       ]
      },
      {
       "output_type": "stream",
       "stream": "stdout",
       "text": [
        "\n",
        "  2512  |    0.004601  |    0.005557  |     0.827872  |             |  9.2s"
       ]
      },
      {
       "output_type": "stream",
       "stream": "stdout",
       "text": [
        "\n",
        "  2513  |    0.004696  |    0.005565  |     0.843851  |             |  9.2s"
       ]
      },
      {
       "output_type": "stream",
       "stream": "stdout",
       "text": [
        "\n",
        "  2514  |    0.004651  |    0.005592  |     0.831736  |             |  9.2s"
       ]
      },
      {
       "output_type": "stream",
       "stream": "stdout",
       "text": [
        "\n",
        "  2515  |  \u001b[94m  0.004577\u001b[0m  |    0.005573  |     0.821203  |             |  9.2s"
       ]
      },
      {
       "output_type": "stream",
       "stream": "stdout",
       "text": [
        "\n",
        "  2516  |    0.004622  |    0.005546  |     0.833467  |             |  9.2s"
       ]
      },
      {
       "output_type": "stream",
       "stream": "stdout",
       "text": [
        "\n",
        "  2517  |    0.004620  |    0.005574  |     0.828928  |             |  9.2s"
       ]
      },
      {
       "output_type": "stream",
       "stream": "stdout",
       "text": [
        "\n",
        "  2518  |    0.004655  |    0.005576  |     0.834806  |             |  9.2s"
       ]
      },
      {
       "output_type": "stream",
       "stream": "stdout",
       "text": [
        "\n",
        "  2519  |    0.004647  |    0.005541  |     0.838589  |             |  9.2s"
       ]
      },
      {
       "output_type": "stream",
       "stream": "stdout",
       "text": [
        "\n",
        "  2520  |    0.004652  |    0.005560  |     0.836668  |             |  9.2s"
       ]
      },
      {
       "output_type": "stream",
       "stream": "stdout",
       "text": [
        "\n",
        "  2521  |    0.004603  |    0.005568  |     0.826821  |             |  9.2s"
       ]
      },
      {
       "output_type": "stream",
       "stream": "stdout",
       "text": [
        "\n",
        "  2522  |  \u001b[94m  0.004551\u001b[0m  |    0.005578  |     0.815832  |             |  9.2s"
       ]
      },
      {
       "output_type": "stream",
       "stream": "stdout",
       "text": [
        "\n",
        "  2523  |    0.004601  |    0.005560  |     0.827503  |             |  9.2s"
       ]
      },
      {
       "output_type": "stream",
       "stream": "stdout",
       "text": [
        "\n",
        "  2524  |    0.004592  |    0.005563  |     0.825407  |             |  9.2s"
       ]
      },
      {
       "output_type": "stream",
       "stream": "stdout",
       "text": [
        "\n",
        "  2525  |    0.004617  |    0.005551  |     0.831815  |             |  9.2s"
       ]
      },
      {
       "output_type": "stream",
       "stream": "stdout",
       "text": [
        "\n",
        "  2526  |    0.004607  |    0.005560  |     0.828581  |             |  9.2s"
       ]
      },
      {
       "output_type": "stream",
       "stream": "stdout",
       "text": [
        "\n",
        "  2527  |    0.004644  |    0.005554  |     0.836121  |             |  9.2s"
       ]
      },
      {
       "output_type": "stream",
       "stream": "stdout",
       "text": [
        "\n",
        "  2528  |    0.004634  |    0.005571  |     0.831846  |             |  9.2s"
       ]
      },
      {
       "output_type": "stream",
       "stream": "stdout",
       "text": [
        "\n",
        "  2529  |    0.004702  |    0.005535  |     0.849477  |             |  9.2s"
       ]
      },
      {
       "output_type": "stream",
       "stream": "stdout",
       "text": [
        "\n",
        "  2530  |    0.004585  |    0.005574  |     0.822582  |             |  9.2s"
       ]
      },
      {
       "output_type": "stream",
       "stream": "stdout",
       "text": [
        "\n",
        "  2531  |    0.004590  |    0.005599  |     0.819769  |             |  9.2s"
       ]
      },
      {
       "output_type": "stream",
       "stream": "stdout",
       "text": [
        "\n",
        "  2532  |    0.004590  |    0.005557  |     0.826057  |             |  9.2s"
       ]
      },
      {
       "output_type": "stream",
       "stream": "stdout",
       "text": [
        "\n",
        "  2533  |    0.004582  |    0.005535  |     0.827784  |             |  9.2s"
       ]
      },
      {
       "output_type": "stream",
       "stream": "stdout",
       "text": [
        "\n",
        "  2534  |    0.004645  |    0.005533  |     0.839415  |             |  9.2s"
       ]
      },
      {
       "output_type": "stream",
       "stream": "stdout",
       "text": [
        "\n",
        "  2535  |    0.004622  |    0.005563  |     0.830844  |             |  9.2s"
       ]
      },
      {
       "output_type": "stream",
       "stream": "stdout",
       "text": [
        "\n",
        "  2536  |    0.004629  |    0.005525  |     0.837853  |             |  9.2s"
       ]
      },
      {
       "output_type": "stream",
       "stream": "stdout",
       "text": [
        "\n",
        "  2537  |    0.004655  |    0.005561  |     0.837075  |             |  9.2s"
       ]
      },
      {
       "output_type": "stream",
       "stream": "stdout",
       "text": [
        "\n",
        "  2538  |    0.004596  |    0.005550  |     0.828149  |             |  9.2s"
       ]
      },
      {
       "output_type": "stream",
       "stream": "stdout",
       "text": [
        "\n",
        "  2539  |    0.004612  |    0.005544  |     0.831777  |             |  9.2s"
       ]
      },
      {
       "output_type": "stream",
       "stream": "stdout",
       "text": [
        "\n",
        "  2540  |    0.004574  |    0.005539  |     0.825694  |             |  9.2s"
       ]
      },
      {
       "output_type": "stream",
       "stream": "stdout",
       "text": [
        "\n",
        "  2541  |    0.004640  |    0.005578  |     0.831848  |             |  9.2s"
       ]
      },
      {
       "output_type": "stream",
       "stream": "stdout",
       "text": [
        "\n",
        "  2542  |    0.004574  |    0.005566  |     0.821754  |             |  9.2s"
       ]
      },
      {
       "output_type": "stream",
       "stream": "stdout",
       "text": [
        "\n",
        "  2543  |    0.004577  |    0.005576  |     0.820834  |             |  9.2s"
       ]
      },
      {
       "output_type": "stream",
       "stream": "stdout",
       "text": [
        "\n",
        "  2544  |    0.004616  |    0.005550  |     0.831659  |             |  9.2s"
       ]
      },
      {
       "output_type": "stream",
       "stream": "stdout",
       "text": [
        "\n",
        "  2545  |    0.004590  |    0.005523  |     0.831127  |             |  9.2s"
       ]
      },
      {
       "output_type": "stream",
       "stream": "stdout",
       "text": [
        "\n",
        "  2546  |    0.004574  |    0.005584  |     0.819171  |             |  9.2s"
       ]
      },
      {
       "output_type": "stream",
       "stream": "stdout",
       "text": [
        "\n",
        "  2547  |    0.004564  |    0.005544  |     0.823168  |             |  9.2s"
       ]
      },
      {
       "output_type": "stream",
       "stream": "stdout",
       "text": [
        "\n",
        "  2548  |    0.004622  |    0.005556  |     0.831904  |             |  9.2s"
       ]
      },
      {
       "output_type": "stream",
       "stream": "stdout",
       "text": [
        "\n",
        "  2549  |    0.004577  |    0.005542  |     0.825824  |             |  9.2s"
       ]
      },
      {
       "output_type": "stream",
       "stream": "stdout",
       "text": [
        "\n",
        "  2550  |    0.004575  |    0.005522  |     0.828543  |             |  9.2s"
       ]
      },
      {
       "output_type": "stream",
       "stream": "stdout",
       "text": [
        "\n",
        "  2551  |    0.004605  |    0.005575  |     0.826034  |             |  9.2s"
       ]
      },
      {
       "output_type": "stream",
       "stream": "stdout",
       "text": [
        "\n",
        "  2552  |    0.004559  |    0.005520  |     0.825868  |             |  9.2s"
       ]
      },
      {
       "output_type": "stream",
       "stream": "stdout",
       "text": [
        "\n",
        "  2553  |    0.004585  |    0.005534  |     0.828439  |             |  9.2s"
       ]
      },
      {
       "output_type": "stream",
       "stream": "stdout",
       "text": [
        "\n",
        "  2554  |    0.004590  |    0.005549  |     0.827132  |             |  9.2s"
       ]
      },
      {
       "output_type": "stream",
       "stream": "stdout",
       "text": [
        "\n",
        "  2555  |    0.004578  |    0.005554  |     0.824296  |             |  9.2s"
       ]
      },
      {
       "output_type": "stream",
       "stream": "stdout",
       "text": [
        "\n",
        "  2556  |    0.004559  |    0.005537  |     0.823456  |             |  9.2s"
       ]
      },
      {
       "output_type": "stream",
       "stream": "stdout",
       "text": [
        "\n",
        "  2557  |    0.004623  |    0.005544  |     0.833847  |             |  9.2s"
       ]
      },
      {
       "output_type": "stream",
       "stream": "stdout",
       "text": [
        "\n",
        "  2558  |    0.004627  |    0.005563  |     0.831832  |             |  9.2s"
       ]
      },
      {
       "output_type": "stream",
       "stream": "stdout",
       "text": [
        "\n",
        "  2559  |    0.004573  |    0.005573  |     0.820669  |             |  9.2s"
       ]
      },
      {
       "output_type": "stream",
       "stream": "stdout",
       "text": [
        "\n",
        "  2560  |    0.004610  |    0.005563  |     0.828598  |             |  9.2s"
       ]
      },
      {
       "output_type": "stream",
       "stream": "stdout",
       "text": [
        "\n",
        "  2561  |    0.004587  |    0.005539  |     0.828214  |             |  9.2s"
       ]
      },
      {
       "output_type": "stream",
       "stream": "stdout",
       "text": [
        "\n",
        "  2562  |    0.004590  |    0.005546  |     0.827606  |             |  9.2s"
       ]
      },
      {
       "output_type": "stream",
       "stream": "stdout",
       "text": [
        "\n",
        "  2563  |    0.004584  |    0.005532  |     0.828647  |             |  9.2s"
       ]
      },
      {
       "output_type": "stream",
       "stream": "stdout",
       "text": [
        "\n",
        "  2564  |  \u001b[94m  0.004519\u001b[0m  |  \u001b[32m  0.005503\u001b[0m  |     0.821176  |             |  9.2s"
       ]
      },
      {
       "output_type": "stream",
       "stream": "stdout",
       "text": [
        "\n",
        "  2565  |    0.004580  |    0.005600  |     0.817778  |             |  9.2s"
       ]
      },
      {
       "output_type": "stream",
       "stream": "stdout",
       "text": [
        "\n",
        "  2566  |    0.004549  |    0.005521  |     0.824030  |             |  9.2s"
       ]
      },
      {
       "output_type": "stream",
       "stream": "stdout",
       "text": [
        "\n",
        "  2567  |    0.004528  |    0.005542  |     0.816981  |             |  9.2s"
       ]
      },
      {
       "output_type": "stream",
       "stream": "stdout",
       "text": [
        "\n",
        "  2568  |    0.004598  |  \u001b[32m  0.005496\u001b[0m  |     0.836693  |             |  9.2s"
       ]
      },
      {
       "output_type": "stream",
       "stream": "stdout",
       "text": [
        "\n",
        "  2569  |    0.004555  |    0.005544  |     0.821568  |             |  9.2s"
       ]
      },
      {
       "output_type": "stream",
       "stream": "stdout",
       "text": [
        "\n",
        "  2570  |    0.004536  |    0.005520  |     0.821875  |             |  9.2s"
       ]
      },
      {
       "output_type": "stream",
       "stream": "stdout",
       "text": [
        "\n",
        "  2571  |    0.004626  |    0.005559  |     0.832198  |             |  9.2s"
       ]
      },
      {
       "output_type": "stream",
       "stream": "stdout",
       "text": [
        "\n",
        "  2572  |    0.004574  |    0.005527  |     0.827463  |             |  9.2s"
       ]
      },
      {
       "output_type": "stream",
       "stream": "stdout",
       "text": [
        "\n",
        "  2573  |    0.004591  |    0.005535  |     0.829423  |             |  9.2s"
       ]
      },
      {
       "output_type": "stream",
       "stream": "stdout",
       "text": [
        "\n",
        "  2574  |  \u001b[94m  0.004519\u001b[0m  |    0.005548  |     0.814421  |             |  9.2s"
       ]
      },
      {
       "output_type": "stream",
       "stream": "stdout",
       "text": [
        "\n",
        "  2575  |    0.004554  |    0.005547  |     0.820881  |             |  9.2s"
       ]
      },
      {
       "output_type": "stream",
       "stream": "stdout",
       "text": [
        "\n",
        "  2576  |    0.004550  |    0.005521  |     0.824219  |             |  9.2s"
       ]
      },
      {
       "output_type": "stream",
       "stream": "stdout",
       "text": [
        "\n",
        "  2577  |    0.004552  |    0.005557  |     0.819194  |             |  9.2s"
       ]
      },
      {
       "output_type": "stream",
       "stream": "stdout",
       "text": [
        "\n",
        "  2578  |  \u001b[94m  0.004503\u001b[0m  |    0.005546  |     0.812011  |             |  9.2s"
       ]
      },
      {
       "output_type": "stream",
       "stream": "stdout",
       "text": [
        "\n",
        "  2579  |    0.004563  |    0.005559  |     0.820789  |             |  9.2s"
       ]
      },
      {
       "output_type": "stream",
       "stream": "stdout",
       "text": [
        "\n",
        "  2580  |  \u001b[94m  0.004486\u001b[0m  |    0.005577  |     0.804408  |             |  9.2s"
       ]
      },
      {
       "output_type": "stream",
       "stream": "stdout",
       "text": [
        "\n",
        "  2581  |  \u001b[94m  0.004459\u001b[0m  |    0.005565  |     0.801289  |             |  9.2s"
       ]
      },
      {
       "output_type": "stream",
       "stream": "stdout",
       "text": [
        "\n",
        "  2582  |    0.004543  |    0.005501  |     0.825781  |             |  9.2s"
       ]
      },
      {
       "output_type": "stream",
       "stream": "stdout",
       "text": [
        "\n",
        "  2583  |    0.004503  |    0.005529  |     0.814471  |             |  9.2s"
       ]
      },
      {
       "output_type": "stream",
       "stream": "stdout",
       "text": [
        "\n",
        "  2584  |    0.004517  |    0.005527  |     0.817220  |             |  9.2s"
       ]
      },
      {
       "output_type": "stream",
       "stream": "stdout",
       "text": [
        "\n",
        "  2585  |    0.004542  |    0.005545  |     0.819194  |             |  9.2s"
       ]
      },
      {
       "output_type": "stream",
       "stream": "stdout",
       "text": [
        "\n",
        "  2586  |    0.004553  |    0.005520  |     0.824818  |             |  9.2s"
       ]
      },
      {
       "output_type": "stream",
       "stream": "stdout",
       "text": [
        "\n",
        "  2587  |    0.004496  |  \u001b[32m  0.005483\u001b[0m  |     0.820094  |             |  9.2s"
       ]
      },
      {
       "output_type": "stream",
       "stream": "stdout",
       "text": [
        "\n",
        "  2588  |    0.004506  |    0.005541  |     0.813269  |             |  9.2s"
       ]
      },
      {
       "output_type": "stream",
       "stream": "stdout",
       "text": [
        "\n",
        "  2589  |    0.004529  |    0.005569  |     0.813284  |             |  9.2s"
       ]
      },
      {
       "output_type": "stream",
       "stream": "stdout",
       "text": [
        "\n",
        "  2590  |    0.004558  |    0.005537  |     0.823170  |             |  9.2s"
       ]
      },
      {
       "output_type": "stream",
       "stream": "stdout",
       "text": [
        "\n",
        "  2591  |  \u001b[94m  0.004446\u001b[0m  |    0.005540  |     0.802490  |             |  9.2s"
       ]
      },
      {
       "output_type": "stream",
       "stream": "stdout",
       "text": [
        "\n",
        "  2592  |    0.004497  |    0.005496  |     0.818258  |             |  9.2s"
       ]
      },
      {
       "output_type": "stream",
       "stream": "stdout",
       "text": [
        "\n",
        "  2593  |    0.004528  |    0.005510  |     0.821732  |             |  9.2s"
       ]
      },
      {
       "output_type": "stream",
       "stream": "stdout",
       "text": [
        "\n",
        "  2594  |    0.004493  |    0.005519  |     0.813990  |             |  9.2s"
       ]
      },
      {
       "output_type": "stream",
       "stream": "stdout",
       "text": [
        "\n",
        "  2595  |    0.004494  |    0.005504  |     0.816358  |             |  9.2s"
       ]
      },
      {
       "output_type": "stream",
       "stream": "stdout",
       "text": [
        "\n",
        "  2596  |    0.004522  |    0.005537  |     0.816791  |             |  9.2s"
       ]
      },
      {
       "output_type": "stream",
       "stream": "stdout",
       "text": [
        "\n",
        "  2597  |    0.004551  |    0.005522  |     0.824163  |             |  9.2s"
       ]
      },
      {
       "output_type": "stream",
       "stream": "stdout",
       "text": [
        "\n",
        "  2598  |    0.004515  |    0.005533  |     0.815974  |             |  9.2s"
       ]
      },
      {
       "output_type": "stream",
       "stream": "stdout",
       "text": [
        "\n",
        "  2599  |    0.004540  |    0.005506  |     0.824507  |             |  9.2s"
       ]
      },
      {
       "output_type": "stream",
       "stream": "stdout",
       "text": [
        "\n",
        "  2600  |    0.004559  |    0.005537  |     0.823343  |             |  9.2s"
       ]
      },
      {
       "output_type": "stream",
       "stream": "stdout",
       "text": [
        "\n",
        "  2601  |    0.004523  |    0.005515  |     0.820220  |             |  9.2s"
       ]
      },
      {
       "output_type": "stream",
       "stream": "stdout",
       "text": [
        "\n",
        "  2602  |    0.004479  |    0.005512  |     0.812489  |             |  9.2s"
       ]
      },
      {
       "output_type": "stream",
       "stream": "stdout",
       "text": [
        "\n",
        "  2603  |    0.004473  |    0.005543  |     0.807102  |             |  9.2s"
       ]
      },
      {
       "output_type": "stream",
       "stream": "stdout",
       "text": [
        "\n",
        "  2604  |    0.004572  |    0.005532  |     0.826390  |             |  9.2s"
       ]
      },
      {
       "output_type": "stream",
       "stream": "stdout",
       "text": [
        "\n",
        "  2605  |    0.004469  |    0.005537  |     0.807045  |             |  9.2s"
       ]
      },
      {
       "output_type": "stream",
       "stream": "stdout",
       "text": [
        "\n",
        "  2606  |    0.004463  |    0.005529  |     0.807150  |             |  9.2s"
       ]
      },
      {
       "output_type": "stream",
       "stream": "stdout",
       "text": [
        "\n",
        "  2607  |    0.004502  |    0.005495  |     0.819306  |             |  9.2s"
       ]
      },
      {
       "output_type": "stream",
       "stream": "stdout",
       "text": [
        "\n",
        "  2608  |    0.004579  |    0.005498  |     0.832884  |             |  9.2s"
       ]
      },
      {
       "output_type": "stream",
       "stream": "stdout",
       "text": [
        "\n",
        "  2609  |    0.004500  |    0.005559  |     0.809591  |             |  9.2s"
       ]
      },
      {
       "output_type": "stream",
       "stream": "stdout",
       "text": [
        "\n",
        "  2610  |    0.004533  |    0.005514  |     0.822164  |             |  9.2s"
       ]
      },
      {
       "output_type": "stream",
       "stream": "stdout",
       "text": [
        "\n",
        "  2611  |    0.004522  |    0.005522  |     0.818939  |             |  9.2s"
       ]
      },
      {
       "output_type": "stream",
       "stream": "stdout",
       "text": [
        "\n",
        "  2612  |    0.004513  |    0.005518  |     0.817955  |             |  9.2s"
       ]
      },
      {
       "output_type": "stream",
       "stream": "stdout",
       "text": [
        "\n",
        "  2613  |    0.004493  |    0.005530  |     0.812508  |             |  9.2s"
       ]
      },
      {
       "output_type": "stream",
       "stream": "stdout",
       "text": [
        "\n",
        "  2614  |    0.004519  |    0.005539  |     0.815809  |             |  9.2s"
       ]
      },
      {
       "output_type": "stream",
       "stream": "stdout",
       "text": [
        "\n",
        "  2615  |    0.004505  |    0.005536  |     0.813904  |             |  9.2s"
       ]
      },
      {
       "output_type": "stream",
       "stream": "stdout",
       "text": [
        "\n",
        "  2616  |    0.004468  |    0.005490  |     0.813714  |             |  9.2s"
       ]
      },
      {
       "output_type": "stream",
       "stream": "stdout",
       "text": [
        "\n",
        "  2617  |    0.004526  |    0.005510  |     0.821488  |             |  9.2s"
       ]
      },
      {
       "output_type": "stream",
       "stream": "stdout",
       "text": [
        "\n",
        "  2618  |    0.004461  |    0.005532  |     0.806355  |             |  9.2s"
       ]
      },
      {
       "output_type": "stream",
       "stream": "stdout",
       "text": [
        "\n",
        "  2619  |    0.004490  |    0.005521  |     0.813214  |             |  9.2s"
       ]
      },
      {
       "output_type": "stream",
       "stream": "stdout",
       "text": [
        "\n",
        "  2620  |    0.004474  |    0.005549  |     0.806373  |             |  9.2s"
       ]
      },
      {
       "output_type": "stream",
       "stream": "stdout",
       "text": [
        "\n",
        "  2621  |    0.004544  |    0.005499  |     0.826373  |             |  9.2s"
       ]
      },
      {
       "output_type": "stream",
       "stream": "stdout",
       "text": [
        "\n",
        "  2622  |    0.004507  |    0.005490  |     0.821048  |             |  9.2s"
       ]
      },
      {
       "output_type": "stream",
       "stream": "stdout",
       "text": [
        "\n",
        "  2623  |    0.004493  |    0.005539  |     0.811122  |             |  9.2s"
       ]
      },
      {
       "output_type": "stream",
       "stream": "stdout",
       "text": [
        "\n",
        "  2624  |    0.004462  |    0.005519  |     0.808502  |             |  9.2s"
       ]
      },
      {
       "output_type": "stream",
       "stream": "stdout",
       "text": [
        "\n",
        "  2625  |  \u001b[94m  0.004441\u001b[0m  |    0.005529  |     0.803216  |             |  9.2s"
       ]
      },
      {
       "output_type": "stream",
       "stream": "stdout",
       "text": [
        "\n",
        "  2626  |    0.004507  |    0.005531  |     0.814831  |             |  9.2s"
       ]
      },
      {
       "output_type": "stream",
       "stream": "stdout",
       "text": [
        "\n",
        "  2627  |  \u001b[94m  0.004440\u001b[0m  |    0.005509  |     0.805870  |             |  9.2s"
       ]
      },
      {
       "output_type": "stream",
       "stream": "stdout",
       "text": [
        "\n",
        "  2628  |    0.004472  |    0.005523  |     0.809709  |             |  9.2s"
       ]
      },
      {
       "output_type": "stream",
       "stream": "stdout",
       "text": [
        "\n",
        "  2629  |    0.004498  |    0.005546  |     0.810967  |             |  9.2s"
       ]
      },
      {
       "output_type": "stream",
       "stream": "stdout",
       "text": [
        "\n",
        "  2630  |    0.004475  |    0.005493  |     0.814749  |             |  9.2s"
       ]
      },
      {
       "output_type": "stream",
       "stream": "stdout",
       "text": [
        "\n",
        "  2631  |    0.004456  |    0.005522  |     0.806973  |             |  9.2s"
       ]
      },
      {
       "output_type": "stream",
       "stream": "stdout",
       "text": [
        "\n",
        "  2632  |    0.004492  |    0.005499  |     0.817024  |             |  9.2s"
       ]
      },
      {
       "output_type": "stream",
       "stream": "stdout",
       "text": [
        "\n",
        "  2633  |    0.004481  |    0.005532  |     0.809998  |             |  9.2s"
       ]
      },
      {
       "output_type": "stream",
       "stream": "stdout",
       "text": [
        "\n",
        "  2634  |    0.004539  |    0.005545  |     0.818542  |             |  9.2s"
       ]
      },
      {
       "output_type": "stream",
       "stream": "stdout",
       "text": [
        "\n",
        "  2635  |  \u001b[94m  0.004438\u001b[0m  |    0.005516  |     0.804515  |             |  9.2s"
       ]
      },
      {
       "output_type": "stream",
       "stream": "stdout",
       "text": [
        "\n",
        "  2636  |    0.004449  |    0.005504  |     0.808359  |             |  9.2s"
       ]
      },
      {
       "output_type": "stream",
       "stream": "stdout",
       "text": [
        "\n",
        "  2637  |    0.004460  |    0.005488  |     0.812574  |             |  9.2s"
       ]
      },
      {
       "output_type": "stream",
       "stream": "stdout",
       "text": [
        "\n",
        "  2638  |    0.004485  |    0.005510  |     0.813927  |             |  9.2s"
       ]
      },
      {
       "output_type": "stream",
       "stream": "stdout",
       "text": [
        "\n",
        "  2639  |    0.004449  |    0.005488  |     0.810609  |             |  9.2s"
       ]
      },
      {
       "output_type": "stream",
       "stream": "stdout",
       "text": [
        "\n",
        "  2640  |    0.004446  |    0.005539  |     0.802552  |             |  9.2s"
       ]
      },
      {
       "output_type": "stream",
       "stream": "stdout",
       "text": [
        "\n",
        "  2641  |    0.004506  |    0.005507  |     0.818127  |             |  9.2s"
       ]
      },
      {
       "output_type": "stream",
       "stream": "stdout",
       "text": [
        "\n",
        "  2642  |    0.004455  |    0.005570  |     0.799826  |             |  9.2s"
       ]
      },
      {
       "output_type": "stream",
       "stream": "stdout",
       "text": [
        "\n",
        "  2643  |    0.004503  |    0.005535  |     0.813402  |             |  9.2s"
       ]
      },
      {
       "output_type": "stream",
       "stream": "stdout",
       "text": [
        "\n",
        "  2644  |    0.004494  |    0.005498  |     0.817315  |             |  9.2s"
       ]
      },
      {
       "output_type": "stream",
       "stream": "stdout",
       "text": [
        "\n",
        "  2645  |    0.004486  |    0.005520  |     0.812555  |             |  9.2s"
       ]
      },
      {
       "output_type": "stream",
       "stream": "stdout",
       "text": [
        "\n",
        "  2646  |    0.004536  |    0.005521  |     0.821633  |             |  9.2s"
       ]
      },
      {
       "output_type": "stream",
       "stream": "stdout",
       "text": [
        "\n",
        "  2647  |  \u001b[94m  0.004435\u001b[0m  |    0.005515  |     0.804136  |             |  9.2s"
       ]
      },
      {
       "output_type": "stream",
       "stream": "stdout",
       "text": [
        "\n",
        "  2648  |    0.004530  |    0.005498  |     0.823950  |             |  9.2s"
       ]
      },
      {
       "output_type": "stream",
       "stream": "stdout",
       "text": [
        "\n",
        "  2649  |    0.004439  |    0.005547  |     0.800238  |             |  9.2s"
       ]
      },
      {
       "output_type": "stream",
       "stream": "stdout",
       "text": [
        "\n",
        "  2650  |    0.004520  |    0.005522  |     0.818591  |             |  9.2s"
       ]
      },
      {
       "output_type": "stream",
       "stream": "stdout",
       "text": [
        "\n",
        "  2651  |    0.004491  |    0.005515  |     0.814435  |             |  9.2s"
       ]
      },
      {
       "output_type": "stream",
       "stream": "stdout",
       "text": [
        "\n",
        "  2652  |    0.004482  |    0.005523  |     0.811660  |             |  9.2s"
       ]
      },
      {
       "output_type": "stream",
       "stream": "stdout",
       "text": [
        "\n",
        "  2653  |  \u001b[94m  0.004429\u001b[0m  |  \u001b[32m  0.005479\u001b[0m  |     0.808409  |             |  9.2s"
       ]
      },
      {
       "output_type": "stream",
       "stream": "stdout",
       "text": [
        "\n",
        "  2654  |    0.004461  |    0.005518  |     0.808362  |             |  9.2s"
       ]
      },
      {
       "output_type": "stream",
       "stream": "stdout",
       "text": [
        "\n",
        "  2655  |    0.004431  |    0.005518  |     0.803001  |             |  9.2s"
       ]
      },
      {
       "output_type": "stream",
       "stream": "stdout",
       "text": [
        "\n",
        "  2656  |    0.004492  |    0.005514  |     0.814619  |             |  9.2s"
       ]
      },
      {
       "output_type": "stream",
       "stream": "stdout",
       "text": [
        "\n",
        "  2657  |    0.004448  |    0.005519  |     0.805886  |             |  9.2s"
       ]
      },
      {
       "output_type": "stream",
       "stream": "stdout",
       "text": [
        "\n",
        "  2658  |    0.004439  |    0.005533  |     0.802306  |             |  9.2s"
       ]
      },
      {
       "output_type": "stream",
       "stream": "stdout",
       "text": [
        "\n",
        "  2659  |    0.004465  |    0.005501  |     0.811684  |             |  9.2s"
       ]
      },
      {
       "output_type": "stream",
       "stream": "stdout",
       "text": [
        "\n",
        "  2660  |    0.004467  |    0.005529  |     0.808045  |             |  9.2s"
       ]
      },
      {
       "output_type": "stream",
       "stream": "stdout",
       "text": [
        "\n",
        "  2661  |  \u001b[94m  0.004428\u001b[0m  |    0.005522  |     0.801822  |             |  9.2s"
       ]
      },
      {
       "output_type": "stream",
       "stream": "stdout",
       "text": [
        "\n",
        "  2662  |  \u001b[94m  0.004425\u001b[0m  |  \u001b[32m  0.005471\u001b[0m  |     0.808907  |             |  9.2s"
       ]
      },
      {
       "output_type": "stream",
       "stream": "stdout",
       "text": [
        "\n",
        "  2663  |  \u001b[94m  0.004412\u001b[0m  |    0.005554  |     0.794366  |             |  9.2s"
       ]
      },
      {
       "output_type": "stream",
       "stream": "stdout",
       "text": [
        "\n",
        "  2664  |    0.004470  |    0.005524  |     0.809194  |             |  9.2s"
       ]
      },
      {
       "output_type": "stream",
       "stream": "stdout",
       "text": [
        "\n",
        "  2665  |    0.004446  |    0.005516  |     0.806060  |             |  9.2s"
       ]
      },
      {
       "output_type": "stream",
       "stream": "stdout",
       "text": [
        "\n",
        "  2666  |    0.004501  |    0.005506  |     0.817446  |             |  9.2s"
       ]
      },
      {
       "output_type": "stream",
       "stream": "stdout",
       "text": [
        "\n",
        "  2667  |    0.004452  |    0.005516  |     0.807037  |             |  9.2s"
       ]
      },
      {
       "output_type": "stream",
       "stream": "stdout",
       "text": [
        "\n",
        "  2668  |    0.004437  |    0.005523  |     0.803411  |             |  9.2s"
       ]
      },
      {
       "output_type": "stream",
       "stream": "stdout",
       "text": [
        "\n",
        "  2669  |    0.004484  |    0.005520  |     0.812396  |             |  9.2s"
       ]
      },
      {
       "output_type": "stream",
       "stream": "stdout",
       "text": [
        "\n",
        "  2670  |    0.004450  |    0.005515  |     0.806928  |             |  9.2s"
       ]
      },
      {
       "output_type": "stream",
       "stream": "stdout",
       "text": [
        "\n",
        "  2671  |    0.004462  |    0.005527  |     0.807235  |             |  9.2s"
       ]
      },
      {
       "output_type": "stream",
       "stream": "stdout",
       "text": [
        "\n",
        "  2672  |  \u001b[94m  0.004380\u001b[0m  |    0.005509  |     0.795156  |             |  9.2s"
       ]
      },
      {
       "output_type": "stream",
       "stream": "stdout",
       "text": [
        "\n",
        "  2673  |  \u001b[94m  0.004375\u001b[0m  |    0.005504  |     0.794840  |             |  9.2s"
       ]
      },
      {
       "output_type": "stream",
       "stream": "stdout",
       "text": [
        "\n",
        "  2674  |    0.004402  |    0.005516  |     0.798033  |             |  9.2s"
       ]
      },
      {
       "output_type": "stream",
       "stream": "stdout",
       "text": [
        "\n",
        "  2675  |    0.004376  |    0.005490  |     0.797108  |             |  9.2s"
       ]
      },
      {
       "output_type": "stream",
       "stream": "stdout",
       "text": [
        "\n",
        "  2676  |    0.004409  |    0.005534  |     0.796738  |             |  9.2s"
       ]
      },
      {
       "output_type": "stream",
       "stream": "stdout",
       "text": [
        "\n",
        "  2677  |    0.004395  |    0.005535  |     0.794068  |             |  9.2s"
       ]
      },
      {
       "output_type": "stream",
       "stream": "stdout",
       "text": [
        "\n",
        "  2678  |    0.004391  |    0.005498  |     0.798711  |             |  9.2s"
       ]
      },
      {
       "output_type": "stream",
       "stream": "stdout",
       "text": [
        "\n",
        "  2679  |    0.004408  |    0.005504  |     0.800923  |             |  9.2s"
       ]
      },
      {
       "output_type": "stream",
       "stream": "stdout",
       "text": [
        "\n",
        "  2680  |    0.004472  |    0.005510  |     0.811706  |             |  9.2s"
       ]
      },
      {
       "output_type": "stream",
       "stream": "stdout",
       "text": [
        "\n",
        "  2681  |    0.004422  |    0.005530  |     0.799747  |             |  9.2s"
       ]
      },
      {
       "output_type": "stream",
       "stream": "stdout",
       "text": [
        "\n",
        "  2682  |    0.004456  |    0.005504  |     0.809594  |             |  9.2s"
       ]
      },
      {
       "output_type": "stream",
       "stream": "stdout",
       "text": [
        "\n",
        "  2683  |  \u001b[94m  0.004366\u001b[0m  |    0.005505  |     0.793158  |             |  9.2s"
       ]
      },
      {
       "output_type": "stream",
       "stream": "stdout",
       "text": [
        "\n",
        "  2684  |    0.004406  |    0.005494  |     0.801949  |             |  9.2s"
       ]
      },
      {
       "output_type": "stream",
       "stream": "stdout",
       "text": [
        "\n",
        "  2685  |    0.004404  |    0.005495  |     0.801441  |             |  9.2s"
       ]
      },
      {
       "output_type": "stream",
       "stream": "stdout",
       "text": [
        "\n",
        "  2686  |    0.004468  |    0.005475  |     0.816099  |             |  9.2s"
       ]
      },
      {
       "output_type": "stream",
       "stream": "stdout",
       "text": [
        "\n",
        "  2687  |    0.004421  |    0.005489  |     0.805392  |             |  9.2s"
       ]
      },
      {
       "output_type": "stream",
       "stream": "stdout",
       "text": [
        "\n",
        "  2688  |    0.004404  |    0.005514  |     0.798687  |             |  9.2s"
       ]
      },
      {
       "output_type": "stream",
       "stream": "stdout",
       "text": [
        "\n",
        "  2689  |    0.004424  |    0.005498  |     0.804662  |             |  9.2s"
       ]
      },
      {
       "output_type": "stream",
       "stream": "stdout",
       "text": [
        "\n",
        "  2690  |    0.004421  |    0.005503  |     0.803290  |             |  9.2s"
       ]
      },
      {
       "output_type": "stream",
       "stream": "stdout",
       "text": [
        "\n",
        "  2691  |    0.004408  |    0.005484  |     0.803932  |             |  9.2s"
       ]
      },
      {
       "output_type": "stream",
       "stream": "stdout",
       "text": [
        "\n",
        "  2692  |    0.004422  |    0.005471  |     0.808221  |             |  9.2s"
       ]
      },
      {
       "output_type": "stream",
       "stream": "stdout",
       "text": [
        "\n",
        "  2693  |    0.004467  |    0.005485  |     0.814443  |             |  9.2s"
       ]
      },
      {
       "output_type": "stream",
       "stream": "stdout",
       "text": [
        "\n",
        "  2694  |    0.004418  |    0.005495  |     0.804025  |             |  9.2s"
       ]
      },
      {
       "output_type": "stream",
       "stream": "stdout",
       "text": [
        "\n",
        "  2695  |    0.004404  |    0.005505  |     0.799975  |             |  9.2s"
       ]
      },
      {
       "output_type": "stream",
       "stream": "stdout",
       "text": [
        "\n",
        "  2696  |    0.004407  |    0.005512  |     0.799643  |             |  9.2s"
       ]
      },
      {
       "output_type": "stream",
       "stream": "stdout",
       "text": [
        "\n",
        "  2697  |    0.004394  |    0.005527  |     0.795136  |             |  9.2s"
       ]
      },
      {
       "output_type": "stream",
       "stream": "stdout",
       "text": [
        "\n",
        "  2698  |    0.004434  |    0.005490  |     0.807534  |             |  9.2s"
       ]
      },
      {
       "output_type": "stream",
       "stream": "stdout",
       "text": [
        "\n",
        "  2699  |    0.004417  |    0.005488  |     0.804939  |             |  9.2s"
       ]
      },
      {
       "output_type": "stream",
       "stream": "stdout",
       "text": [
        "\n",
        "  2700  |    0.004407  |    0.005512  |     0.799581  |             |  9.2s"
       ]
      },
      {
       "output_type": "stream",
       "stream": "stdout",
       "text": [
        "\n",
        "  2701  |  \u001b[94m  0.004357\u001b[0m  |    0.005497  |     0.792697  |             |  9.2s"
       ]
      },
      {
       "output_type": "stream",
       "stream": "stdout",
       "text": [
        "\n",
        "  2702  |    0.004465  |    0.005488  |     0.813535  |             |  9.2s"
       ]
      },
      {
       "output_type": "stream",
       "stream": "stdout",
       "text": [
        "\n",
        "  2703  |    0.004454  |    0.005487  |     0.811719  |             |  9.2s"
       ]
      },
      {
       "output_type": "stream",
       "stream": "stdout",
       "text": [
        "\n",
        "  2704  |    0.004468  |    0.005500  |     0.812422  |             |  9.2s"
       ]
      },
      {
       "output_type": "stream",
       "stream": "stdout",
       "text": [
        "\n",
        "  2705  |    0.004386  |    0.005484  |     0.799670  |             |  9.2s"
       ]
      },
      {
       "output_type": "stream",
       "stream": "stdout",
       "text": [
        "\n",
        "  2706  |    0.004411  |  \u001b[32m  0.005470\u001b[0m  |     0.806347  |             |  9.2s"
       ]
      },
      {
       "output_type": "stream",
       "stream": "stdout",
       "text": [
        "\n",
        "  2707  |    0.004390  |    0.005503  |     0.797636  |             |  9.2s"
       ]
      },
      {
       "output_type": "stream",
       "stream": "stdout",
       "text": [
        "\n",
        "  2708  |    0.004394  |    0.005525  |     0.795300  |             |  9.2s"
       ]
      },
      {
       "output_type": "stream",
       "stream": "stdout",
       "text": [
        "\n",
        "  2709  |    0.004372  |    0.005492  |     0.796009  |             |  9.2s"
       ]
      },
      {
       "output_type": "stream",
       "stream": "stdout",
       "text": [
        "\n",
        "  2710  |    0.004390  |    0.005522  |     0.795050  |             |  9.2s"
       ]
      },
      {
       "output_type": "stream",
       "stream": "stdout",
       "text": [
        "\n",
        "  2711  |    0.004471  |    0.005480  |     0.815876  |             |  9.2s"
       ]
      },
      {
       "output_type": "stream",
       "stream": "stdout",
       "text": [
        "\n",
        "  2712  |    0.004376  |    0.005522  |     0.792458  |             |  9.2s"
       ]
      },
      {
       "output_type": "stream",
       "stream": "stdout",
       "text": [
        "\n",
        "  2713  |    0.004425  |    0.005524  |     0.801061  |             |  9.2s"
       ]
      },
      {
       "output_type": "stream",
       "stream": "stdout",
       "text": [
        "\n",
        "  2714  |    0.004387  |    0.005480  |     0.800567  |             |  9.2s"
       ]
      },
      {
       "output_type": "stream",
       "stream": "stdout",
       "text": [
        "\n",
        "  2715  |    0.004447  |    0.005491  |     0.809849  |             |  9.2s"
       ]
      },
      {
       "output_type": "stream",
       "stream": "stdout",
       "text": [
        "\n",
        "  2716  |    0.004383  |    0.005481  |     0.799670  |             |  9.2s"
       ]
      },
      {
       "output_type": "stream",
       "stream": "stdout",
       "text": [
        "\n",
        "  2717  |    0.004396  |    0.005511  |     0.797740  |             |  9.2s"
       ]
      },
      {
       "output_type": "stream",
       "stream": "stdout",
       "text": [
        "\n",
        "  2718  |    0.004391  |  \u001b[32m  0.005464\u001b[0m  |     0.803693  |             |  9.2s"
       ]
      },
      {
       "output_type": "stream",
       "stream": "stdout",
       "text": [
        "\n",
        "  2719  |  \u001b[94m  0.004354\u001b[0m  |    0.005512  |     0.789892  |             |  9.2s"
       ]
      },
      {
       "output_type": "stream",
       "stream": "stdout",
       "text": [
        "\n",
        "  2720  |    0.004414  |    0.005476  |     0.805985  |             |  9.2s"
       ]
      },
      {
       "output_type": "stream",
       "stream": "stdout",
       "text": [
        "\n",
        "  2721  |    0.004434  |    0.005487  |     0.808195  |             |  9.2s"
       ]
      },
      {
       "output_type": "stream",
       "stream": "stdout",
       "text": [
        "\n",
        "  2722  |    0.004362  |    0.005492  |     0.794159  |             |  9.2s"
       ]
      },
      {
       "output_type": "stream",
       "stream": "stdout",
       "text": [
        "\n",
        "  2723  |    0.004359  |    0.005479  |     0.795695  |             |  9.2s"
       ]
      },
      {
       "output_type": "stream",
       "stream": "stdout",
       "text": [
        "\n",
        "  2724  |    0.004396  |    0.005474  |     0.802994  |             |  9.2s"
       ]
      },
      {
       "output_type": "stream",
       "stream": "stdout",
       "text": [
        "\n",
        "  2725  |    0.004415  |    0.005497  |     0.803226  |             |  9.2s"
       ]
      },
      {
       "output_type": "stream",
       "stream": "stdout",
       "text": [
        "\n",
        "  2726  |    0.004401  |    0.005500  |     0.800214  |             |  9.2s"
       ]
      },
      {
       "output_type": "stream",
       "stream": "stdout",
       "text": [
        "\n",
        "  2727  |  \u001b[94m  0.004299\u001b[0m  |    0.005476  |     0.785054  |             |  9.2s"
       ]
      },
      {
       "output_type": "stream",
       "stream": "stdout",
       "text": [
        "\n",
        "  2728  |    0.004399  |    0.005496  |     0.800473  |             |  9.2s"
       ]
      },
      {
       "output_type": "stream",
       "stream": "stdout",
       "text": [
        "\n",
        "  2729  |    0.004369  |    0.005526  |     0.790604  |             |  9.2s"
       ]
      },
      {
       "output_type": "stream",
       "stream": "stdout",
       "text": [
        "\n",
        "  2730  |    0.004383  |    0.005537  |     0.791559  |             |  9.2s"
       ]
      },
      {
       "output_type": "stream",
       "stream": "stdout",
       "text": [
        "\n",
        "  2731  |    0.004351  |    0.005579  |     0.779906  |             |  9.2s"
       ]
      },
      {
       "output_type": "stream",
       "stream": "stdout",
       "text": [
        "\n",
        "  2732  |    0.004363  |    0.005482  |     0.795910  |             |  9.2s"
       ]
      },
      {
       "output_type": "stream",
       "stream": "stdout",
       "text": [
        "\n",
        "  2733  |    0.004411  |    0.005491  |     0.803207  |             |  9.2s"
       ]
      },
      {
       "output_type": "stream",
       "stream": "stdout",
       "text": [
        "\n",
        "  2734  |    0.004395  |  \u001b[32m  0.005418\u001b[0m  |     0.811261  |             |  9.2s"
       ]
      },
      {
       "output_type": "stream",
       "stream": "stdout",
       "text": [
        "\n",
        "  2735  |    0.004332  |    0.005502  |     0.787379  |             |  9.2s"
       ]
      },
      {
       "output_type": "stream",
       "stream": "stdout",
       "text": [
        "\n",
        "  2736  |    0.004407  |    0.005487  |     0.803171  |             |  9.2s"
       ]
      },
      {
       "output_type": "stream",
       "stream": "stdout",
       "text": [
        "\n",
        "  2737  |    0.004381  |    0.005525  |     0.792961  |             |  9.2s"
       ]
      },
      {
       "output_type": "stream",
       "stream": "stdout",
       "text": [
        "\n",
        "  2738  |    0.004347  |    0.005512  |     0.788519  |             |  9.2s"
       ]
      },
      {
       "output_type": "stream",
       "stream": "stdout",
       "text": [
        "\n",
        "  2739  |    0.004328  |    0.005491  |     0.788141  |             |  9.2s"
       ]
      },
      {
       "output_type": "stream",
       "stream": "stdout",
       "text": [
        "\n",
        "  2740  |    0.004340  |    0.005476  |     0.792575  |             |  9.2s"
       ]
      },
      {
       "output_type": "stream",
       "stream": "stdout",
       "text": [
        "\n",
        "  2741  |    0.004338  |    0.005509  |     0.787295  |             |  9.2s"
       ]
      },
      {
       "output_type": "stream",
       "stream": "stdout",
       "text": [
        "\n",
        "  2742  |    0.004365  |    0.005477  |     0.796934  |             |  9.2s"
       ]
      },
      {
       "output_type": "stream",
       "stream": "stdout",
       "text": [
        "\n",
        "  2743  |  \u001b[94m  0.004299\u001b[0m  |    0.005473  |     0.785472  |             |  9.2s"
       ]
      },
      {
       "output_type": "stream",
       "stream": "stdout",
       "text": [
        "\n",
        "  2744  |    0.004369  |    0.005468  |     0.798996  |             |  9.2s"
       ]
      },
      {
       "output_type": "stream",
       "stream": "stdout",
       "text": [
        "\n",
        "  2745  |    0.004390  |    0.005437  |     0.807470  |             |  9.2s"
       ]
      },
      {
       "output_type": "stream",
       "stream": "stdout",
       "text": [
        "\n",
        "  2746  |    0.004334  |    0.005488  |     0.789767  |             |  9.2s"
       ]
      },
      {
       "output_type": "stream",
       "stream": "stdout",
       "text": [
        "\n",
        "  2747  |    0.004373  |    0.005490  |     0.796504  |             |  9.2s"
       ]
      },
      {
       "output_type": "stream",
       "stream": "stdout",
       "text": [
        "\n",
        "  2748  |    0.004382  |    0.005442  |     0.805174  |             |  9.2s"
       ]
      },
      {
       "output_type": "stream",
       "stream": "stdout",
       "text": [
        "\n",
        "  2749  |    0.004388  |    0.005498  |     0.798124  |             |  9.2s"
       ]
      },
      {
       "output_type": "stream",
       "stream": "stdout",
       "text": [
        "\n",
        "  2750  |    0.004326  |    0.005497  |     0.786987  |             |  9.2s"
       ]
      },
      {
       "output_type": "stream",
       "stream": "stdout",
       "text": [
        "\n",
        "  2751  |  \u001b[94m  0.004275\u001b[0m  |    0.005501  |     0.777016  |             |  9.2s"
       ]
      },
      {
       "output_type": "stream",
       "stream": "stdout",
       "text": [
        "\n",
        "  2752  |    0.004369  |    0.005493  |     0.795372  |             |  9.2s"
       ]
      },
      {
       "output_type": "stream",
       "stream": "stdout",
       "text": [
        "\n",
        "  2753  |    0.004351  |    0.005496  |     0.791639  |             |  9.2s"
       ]
      },
      {
       "output_type": "stream",
       "stream": "stdout",
       "text": [
        "\n",
        "  2754  |    0.004348  |    0.005485  |     0.792828  |             |  9.2s"
       ]
      },
      {
       "output_type": "stream",
       "stream": "stdout",
       "text": [
        "\n",
        "  2755  |    0.004351  |    0.005497  |     0.791587  |             |  9.2s"
       ]
      },
      {
       "output_type": "stream",
       "stream": "stdout",
       "text": [
        "\n",
        "  2756  |    0.004410  |    0.005502  |     0.801502  |             |  9.2s"
       ]
      },
      {
       "output_type": "stream",
       "stream": "stdout",
       "text": [
        "\n",
        "  2757  |    0.004357  |    0.005479  |     0.795299  |             |  9.2s"
       ]
      },
      {
       "output_type": "stream",
       "stream": "stdout",
       "text": [
        "\n",
        "  2758  |    0.004284  |    0.005467  |     0.783624  |             |  9.2s"
       ]
      },
      {
       "output_type": "stream",
       "stream": "stdout",
       "text": [
        "\n",
        "  2759  |    0.004313  |    0.005486  |     0.786083  |             |  9.2s"
       ]
      },
      {
       "output_type": "stream",
       "stream": "stdout",
       "text": [
        "\n",
        "  2760  |    0.004352  |    0.005473  |     0.795247  |             |  9.2s"
       ]
      },
      {
       "output_type": "stream",
       "stream": "stdout",
       "text": [
        "\n",
        "  2761  |    0.004316  |    0.005465  |     0.789823  |             |  9.2s"
       ]
      },
      {
       "output_type": "stream",
       "stream": "stdout",
       "text": [
        "\n",
        "  2762  |    0.004312  |    0.005462  |     0.789485  |             |  9.2s"
       ]
      },
      {
       "output_type": "stream",
       "stream": "stdout",
       "text": [
        "\n",
        "  2763  |    0.004393  |    0.005483  |     0.801233  |             |  9.2s"
       ]
      },
      {
       "output_type": "stream",
       "stream": "stdout",
       "text": [
        "\n",
        "  2764  |    0.004338  |    0.005473  |     0.792683  |             |  9.2s"
       ]
      },
      {
       "output_type": "stream",
       "stream": "stdout",
       "text": [
        "\n",
        "  2765  |    0.004327  |    0.005472  |     0.790703  |             |  9.2s"
       ]
      },
      {
       "output_type": "stream",
       "stream": "stdout",
       "text": [
        "\n",
        "  2766  |    0.004365  |    0.005471  |     0.797749  |             |  9.2s"
       ]
      },
      {
       "output_type": "stream",
       "stream": "stdout",
       "text": [
        "\n",
        "  2767  |    0.004361  |    0.005456  |     0.799274  |             |  9.2s"
       ]
      },
      {
       "output_type": "stream",
       "stream": "stdout",
       "text": [
        "\n",
        "  2768  |    0.004335  |    0.005478  |     0.791457  |             |  9.2s"
       ]
      },
      {
       "output_type": "stream",
       "stream": "stdout",
       "text": [
        "\n",
        "  2769  |    0.004385  |    0.005473  |     0.801290  |             |  9.2s"
       ]
      },
      {
       "output_type": "stream",
       "stream": "stdout",
       "text": [
        "\n",
        "  2770  |    0.004290  |    0.005445  |     0.787785  |             |  9.2s"
       ]
      },
      {
       "output_type": "stream",
       "stream": "stdout",
       "text": [
        "\n",
        "  2771  |    0.004302  |    0.005479  |     0.785286  |             |  9.2s"
       ]
      },
      {
       "output_type": "stream",
       "stream": "stdout",
       "text": [
        "\n",
        "  2772  |    0.004326  |    0.005456  |     0.792862  |             |  9.2s"
       ]
      },
      {
       "output_type": "stream",
       "stream": "stdout",
       "text": [
        "\n",
        "  2773  |    0.004316  |    0.005492  |     0.785972  |             |  9.2s"
       ]
      },
      {
       "output_type": "stream",
       "stream": "stdout",
       "text": [
        "\n",
        "  2774  |    0.004311  |    0.005479  |     0.786797  |             |  9.2s"
       ]
      },
      {
       "output_type": "stream",
       "stream": "stdout",
       "text": [
        "\n",
        "  2775  |    0.004291  |    0.005464  |     0.785376  |             |  9.2s"
       ]
      },
      {
       "output_type": "stream",
       "stream": "stdout",
       "text": [
        "\n",
        "  2776  |    0.004347  |    0.005465  |     0.795328  |             |  9.2s"
       ]
      },
      {
       "output_type": "stream",
       "stream": "stdout",
       "text": [
        "\n",
        "  2777  |    0.004319  |    0.005456  |     0.791552  |             |  9.2s"
       ]
      },
      {
       "output_type": "stream",
       "stream": "stdout",
       "text": [
        "\n",
        "  2778  |  \u001b[94m  0.004267\u001b[0m  |    0.005489  |     0.777369  |             |  9.2s"
       ]
      },
      {
       "output_type": "stream",
       "stream": "stdout",
       "text": [
        "\n",
        "  2779  |    0.004305  |    0.005483  |     0.785146  |             |  9.2s"
       ]
      },
      {
       "output_type": "stream",
       "stream": "stdout",
       "text": [
        "\n",
        "  2780  |    0.004362  |    0.005509  |     0.791794  |             |  9.2s"
       ]
      },
      {
       "output_type": "stream",
       "stream": "stdout",
       "text": [
        "\n",
        "  2781  |    0.004342  |    0.005468  |     0.794094  |             |  9.2s"
       ]
      },
      {
       "output_type": "stream",
       "stream": "stdout",
       "text": [
        "\n",
        "  2782  |    0.004332  |    0.005481  |     0.790293  |             |  9.2s"
       ]
      },
      {
       "output_type": "stream",
       "stream": "stdout",
       "text": [
        "\n",
        "  2783  |    0.004268  |    0.005459  |     0.781766  |             |  9.2s"
       ]
      },
      {
       "output_type": "stream",
       "stream": "stdout",
       "text": [
        "\n",
        "  2784  |    0.004299  |    0.005431  |     0.791613  |             |  9.2s"
       ]
      },
      {
       "output_type": "stream",
       "stream": "stdout",
       "text": [
        "\n",
        "  2785  |    0.004362  |    0.005478  |     0.796381  |             |  9.2s"
       ]
      },
      {
       "output_type": "stream",
       "stream": "stdout",
       "text": [
        "\n",
        "  2786  |    0.004340  |    0.005462  |     0.794630  |             |  9.2s"
       ]
      },
      {
       "output_type": "stream",
       "stream": "stdout",
       "text": [
        "\n",
        "  2787  |    0.004351  |    0.005463  |     0.796521  |             |  9.2s"
       ]
      },
      {
       "output_type": "stream",
       "stream": "stdout",
       "text": [
        "\n",
        "  2788  |    0.004350  |    0.005433  |     0.800737  |             |  9.2s"
       ]
      },
      {
       "output_type": "stream",
       "stream": "stdout",
       "text": [
        "\n",
        "  2789  |    0.004293  |    0.005465  |     0.785594  |             |  9.2s"
       ]
      },
      {
       "output_type": "stream",
       "stream": "stdout",
       "text": [
        "\n",
        "  2790  |    0.004329  |    0.005505  |     0.786454  |             |  9.2s"
       ]
      },
      {
       "output_type": "stream",
       "stream": "stdout",
       "text": [
        "\n",
        "  2791  |    0.004319  |    0.005465  |     0.790393  |             |  9.2s"
       ]
      },
      {
       "output_type": "stream",
       "stream": "stdout",
       "text": [
        "\n",
        "  2792  |  \u001b[94m  0.004242\u001b[0m  |    0.005472  |     0.775209  |             |  9.2s"
       ]
      },
      {
       "output_type": "stream",
       "stream": "stdout",
       "text": [
        "\n",
        "  2793  |    0.004252  |    0.005439  |     0.781768  |             |  9.2s"
       ]
      },
      {
       "output_type": "stream",
       "stream": "stdout",
       "text": [
        "\n",
        "  2794  |    0.004303  |    0.005420  |     0.793866  |             |  9.2s"
       ]
      },
      {
       "output_type": "stream",
       "stream": "stdout",
       "text": [
        "\n",
        "  2795  |    0.004318  |    0.005464  |     0.790244  |             |  9.2s"
       ]
      },
      {
       "output_type": "stream",
       "stream": "stdout",
       "text": [
        "\n",
        "  2796  |  \u001b[94m  0.004227\u001b[0m  |    0.005432  |     0.778121  |             |  9.2s"
       ]
      },
      {
       "output_type": "stream",
       "stream": "stdout",
       "text": [
        "\n",
        "  2797  |    0.004355  |    0.005441  |     0.800508  |             |  9.2s"
       ]
      },
      {
       "output_type": "stream",
       "stream": "stdout",
       "text": [
        "\n",
        "  2798  |    0.004292  |    0.005467  |     0.785157  |             |  9.2s"
       ]
      },
      {
       "output_type": "stream",
       "stream": "stdout",
       "text": [
        "\n",
        "  2799  |    0.004343  |    0.005451  |     0.796859  |             |  9.2s"
       ]
      },
      {
       "output_type": "stream",
       "stream": "stdout",
       "text": [
        "\n",
        "  2800  |    0.004265  |    0.005454  |     0.781974  |             |  9.2s"
       ]
      },
      {
       "output_type": "stream",
       "stream": "stdout",
       "text": [
        "\n",
        "  2801  |    0.004300  |    0.005432  |     0.791571  |             |  9.2s"
       ]
      },
      {
       "output_type": "stream",
       "stream": "stdout",
       "text": [
        "\n",
        "  2802  |    0.004265  |    0.005464  |     0.780523  |             |  9.2s"
       ]
      },
      {
       "output_type": "stream",
       "stream": "stdout",
       "text": [
        "\n",
        "  2803  |    0.004314  |    0.005430  |     0.794543  |             |  9.2s"
       ]
      },
      {
       "output_type": "stream",
       "stream": "stdout",
       "text": [
        "\n",
        "  2804  |    0.004279  |    0.005461  |     0.783532  |             |  9.2s"
       ]
      },
      {
       "output_type": "stream",
       "stream": "stdout",
       "text": [
        "\n",
        "  2805  |    0.004311  |    0.005457  |     0.789939  |             |  9.2s"
       ]
      },
      {
       "output_type": "stream",
       "stream": "stdout",
       "text": [
        "\n",
        "  2806  |    0.004288  |    0.005488  |     0.781443  |             |  9.2s"
       ]
      },
      {
       "output_type": "stream",
       "stream": "stdout",
       "text": [
        "\n",
        "  2807  |    0.004259  |    0.005418  |     0.786118  |             |  9.2s"
       ]
      },
      {
       "output_type": "stream",
       "stream": "stdout",
       "text": [
        "\n",
        "  2808  |    0.004243  |    0.005483  |     0.773898  |             |  9.2s"
       ]
      },
      {
       "output_type": "stream",
       "stream": "stdout",
       "text": [
        "\n",
        "  2809  |    0.004364  |    0.005459  |     0.799335  |             |  9.2s"
       ]
      },
      {
       "output_type": "stream",
       "stream": "stdout",
       "text": [
        "\n",
        "  2810  |    0.004253  |    0.005482  |     0.775850  |             |  9.2s"
       ]
      },
      {
       "output_type": "stream",
       "stream": "stdout",
       "text": [
        "\n",
        "  2811  |    0.004290  |    0.005473  |     0.783953  |             |  9.2s"
       ]
      },
      {
       "output_type": "stream",
       "stream": "stdout",
       "text": [
        "\n",
        "  2812  |    0.004313  |    0.005457  |     0.790375  |             |  9.2s"
       ]
      },
      {
       "output_type": "stream",
       "stream": "stdout",
       "text": [
        "\n",
        "  2813  |    0.004336  |    0.005449  |     0.795734  |             |  9.2s"
       ]
      },
      {
       "output_type": "stream",
       "stream": "stdout",
       "text": [
        "\n",
        "  2814  |    0.004355  |    0.005449  |     0.799205  |             |  9.2s"
       ]
      },
      {
       "output_type": "stream",
       "stream": "stdout",
       "text": [
        "\n",
        "  2815  |    0.004246  |    0.005489  |     0.773664  |             |  9.2s"
       ]
      },
      {
       "output_type": "stream",
       "stream": "stdout",
       "text": [
        "\n",
        "  2816  |  \u001b[94m  0.004165\u001b[0m  |    0.005477  |     0.760361  |             |  9.2s"
       ]
      },
      {
       "output_type": "stream",
       "stream": "stdout",
       "text": [
        "\n",
        "  2817  |    0.004256  |    0.005431  |     0.783721  |             |  9.2s"
       ]
      },
      {
       "output_type": "stream",
       "stream": "stdout",
       "text": [
        "\n",
        "  2818  |    0.004332  |    0.005455  |     0.794165  |             |  9.2s"
       ]
      },
      {
       "output_type": "stream",
       "stream": "stdout",
       "text": [
        "\n",
        "  2819  |    0.004301  |    0.005461  |     0.787610  |             |  9.2s"
       ]
      },
      {
       "output_type": "stream",
       "stream": "stdout",
       "text": [
        "\n",
        "  2820  |    0.004228  |    0.005447  |     0.776129  |             |  9.2s"
       ]
      },
      {
       "output_type": "stream",
       "stream": "stdout",
       "text": [
        "\n",
        "  2821  |    0.004300  |    0.005429  |     0.792036  |             |  9.2s"
       ]
      },
      {
       "output_type": "stream",
       "stream": "stdout",
       "text": [
        "\n",
        "  2822  |    0.004315  |    0.005445  |     0.792585  |             |  9.2s"
       ]
      },
      {
       "output_type": "stream",
       "stream": "stdout",
       "text": [
        "\n",
        "  2823  |    0.004248  |    0.005436  |     0.781575  |             |  9.2s"
       ]
      },
      {
       "output_type": "stream",
       "stream": "stdout",
       "text": [
        "\n",
        "  2824  |    0.004286  |    0.005427  |     0.789796  |             |  9.2s"
       ]
      },
      {
       "output_type": "stream",
       "stream": "stdout",
       "text": [
        "\n",
        "  2825  |    0.004219  |    0.005485  |     0.769261  |             |  9.2s"
       ]
      },
      {
       "output_type": "stream",
       "stream": "stdout",
       "text": [
        "\n",
        "  2826  |    0.004248  |    0.005473  |     0.776197  |             |  9.2s"
       ]
      },
      {
       "output_type": "stream",
       "stream": "stdout",
       "text": [
        "\n",
        "  2827  |    0.004271  |    0.005470  |     0.780764  |             |  9.2s"
       ]
      },
      {
       "output_type": "stream",
       "stream": "stdout",
       "text": [
        "\n",
        "  2828  |    0.004258  |    0.005472  |     0.778036  |             |  9.2s"
       ]
      },
      {
       "output_type": "stream",
       "stream": "stdout",
       "text": [
        "\n",
        "  2829  |    0.004242  |    0.005453  |     0.777861  |             |  9.2s"
       ]
      },
      {
       "output_type": "stream",
       "stream": "stdout",
       "text": [
        "\n",
        "  2830  |    0.004254  |    0.005501  |     0.773252  |             |  9.2s"
       ]
      },
      {
       "output_type": "stream",
       "stream": "stdout",
       "text": [
        "\n",
        "  2831  |    0.004202  |    0.005470  |     0.768309  |             |  9.2s"
       ]
      },
      {
       "output_type": "stream",
       "stream": "stdout",
       "text": [
        "\n",
        "  2832  |    0.004281  |    0.005449  |     0.785615  |             |  9.2s"
       ]
      },
      {
       "output_type": "stream",
       "stream": "stdout",
       "text": [
        "\n",
        "  2833  |    0.004280  |    0.005511  |     0.776550  |             |  9.2s"
       ]
      },
      {
       "output_type": "stream",
       "stream": "stdout",
       "text": [
        "\n",
        "  2834  |    0.004239  |    0.005506  |     0.769915  |             |  9.2s"
       ]
      },
      {
       "output_type": "stream",
       "stream": "stdout",
       "text": [
        "\n",
        "  2835  |    0.004290  |    0.005451  |     0.786996  |             |  9.2s"
       ]
      },
      {
       "output_type": "stream",
       "stream": "stdout",
       "text": [
        "\n",
        "  2836  |    0.004278  |    0.005430  |     0.787834  |             |  9.2s"
       ]
      },
      {
       "output_type": "stream",
       "stream": "stdout",
       "text": [
        "\n",
        "  2837  |    0.004258  |    0.005450  |     0.781182  |             |  9.2s"
       ]
      },
      {
       "output_type": "stream",
       "stream": "stdout",
       "text": [
        "\n",
        "  2838  |    0.004273  |    0.005457  |     0.783067  |             |  9.2s"
       ]
      },
      {
       "output_type": "stream",
       "stream": "stdout",
       "text": [
        "\n",
        "  2839  |    0.004267  |    0.005435  |     0.785113  |             |  9.2s"
       ]
      },
      {
       "output_type": "stream",
       "stream": "stdout",
       "text": [
        "\n",
        "  2840  |    0.004289  |    0.005448  |     0.787259  |             |  9.2s"
       ]
      },
      {
       "output_type": "stream",
       "stream": "stdout",
       "text": [
        "\n",
        "  2841  |    0.004279  |    0.005480  |     0.780856  |             |  9.2s"
       ]
      },
      {
       "output_type": "stream",
       "stream": "stdout",
       "text": [
        "\n",
        "  2842  |    0.004284  |    0.005440  |     0.787423  |             |  9.2s"
       ]
      },
      {
       "output_type": "stream",
       "stream": "stdout",
       "text": [
        "\n",
        "  2843  |    0.004269  |    0.005441  |     0.784679  |             |  9.2s"
       ]
      },
      {
       "output_type": "stream",
       "stream": "stdout",
       "text": [
        "\n",
        "  2844  |    0.004252  |    0.005451  |     0.780041  |             |  9.2s"
       ]
      },
      {
       "output_type": "stream",
       "stream": "stdout",
       "text": [
        "\n",
        "  2845  |    0.004257  |    0.005447  |     0.781577  |             |  9.2s"
       ]
      },
      {
       "output_type": "stream",
       "stream": "stdout",
       "text": [
        "\n",
        "  2846  |    0.004252  |    0.005456  |     0.779261  |             |  9.2s"
       ]
      },
      {
       "output_type": "stream",
       "stream": "stdout",
       "text": [
        "\n",
        "  2847  |    0.004296  |    0.005437  |     0.790140  |             |  9.2s"
       ]
      },
      {
       "output_type": "stream",
       "stream": "stdout",
       "text": [
        "\n",
        "  2848  |    0.004263  |    0.005451  |     0.782060  |             |  9.2s"
       ]
      },
      {
       "output_type": "stream",
       "stream": "stdout",
       "text": [
        "\n",
        "  2849  |    0.004258  |    0.005437  |     0.783205  |             |  9.2s"
       ]
      },
      {
       "output_type": "stream",
       "stream": "stdout",
       "text": [
        "\n",
        "  2850  |    0.004296  |    0.005434  |     0.790600  |             |  9.2s"
       ]
      },
      {
       "output_type": "stream",
       "stream": "stdout",
       "text": [
        "\n",
        "  2851  |    0.004268  |    0.005441  |     0.784523  |             |  9.2s"
       ]
      },
      {
       "output_type": "stream",
       "stream": "stdout",
       "text": [
        "\n",
        "  2852  |    0.004214  |    0.005431  |     0.775867  |             |  9.2s"
       ]
      },
      {
       "output_type": "stream",
       "stream": "stdout",
       "text": [
        "\n",
        "  2853  |    0.004234  |    0.005451  |     0.776852  |             |  9.2s"
       ]
      },
      {
       "output_type": "stream",
       "stream": "stdout",
       "text": [
        "\n",
        "  2854  |    0.004290  |    0.005456  |     0.786258  |             |  9.2s"
       ]
      },
      {
       "output_type": "stream",
       "stream": "stdout",
       "text": [
        "\n",
        "  2855  |    0.004170  |    0.005464  |     0.763044  |             |  9.2s"
       ]
      },
      {
       "output_type": "stream",
       "stream": "stdout",
       "text": [
        "\n",
        "  2856  |    0.004211  |    0.005465  |     0.770536  |             |  9.2s"
       ]
      },
      {
       "output_type": "stream",
       "stream": "stdout",
       "text": [
        "\n",
        "  2857  |    0.004264  |    0.005422  |     0.786406  |             |  9.2s"
       ]
      },
      {
       "output_type": "stream",
       "stream": "stdout",
       "text": [
        "\n",
        "  2858  |    0.004208  |    0.005420  |     0.776372  |             |  9.2s"
       ]
      },
      {
       "output_type": "stream",
       "stream": "stdout",
       "text": [
        "\n",
        "  2859  |    0.004215  |    0.005465  |     0.771296  |             |  9.2s"
       ]
      },
      {
       "output_type": "stream",
       "stream": "stdout",
       "text": [
        "\n",
        "  2860  |    0.004347  |    0.005447  |     0.798004  |             |  9.2s"
       ]
      },
      {
       "output_type": "stream",
       "stream": "stdout",
       "text": [
        "\n",
        "  2861  |    0.004227  |    0.005427  |     0.778823  |             |  9.2s"
       ]
      },
      {
       "output_type": "stream",
       "stream": "stdout",
       "text": [
        "\n",
        "  2862  |    0.004284  |    0.005427  |     0.789371  |             |  9.2s"
       ]
      },
      {
       "output_type": "stream",
       "stream": "stdout",
       "text": [
        "\n",
        "  2863  |    0.004243  |    0.005455  |     0.777833  |             |  9.2s"
       ]
      },
      {
       "output_type": "stream",
       "stream": "stdout",
       "text": [
        "\n",
        "  2864  |    0.004225  |    0.005426  |     0.778654  |             |  9.2s"
       ]
      },
      {
       "output_type": "stream",
       "stream": "stdout",
       "text": [
        "\n",
        "  2865  |    0.004237  |    0.005460  |     0.776121  |             |  9.2s"
       ]
      },
      {
       "output_type": "stream",
       "stream": "stdout",
       "text": [
        "\n",
        "  2866  |    0.004196  |  \u001b[32m  0.005404\u001b[0m  |     0.776430  |             |  9.2s"
       ]
      },
      {
       "output_type": "stream",
       "stream": "stdout",
       "text": [
        "\n",
        "  2867  |    0.004228  |    0.005456  |     0.774952  |             |  9.2s"
       ]
      },
      {
       "output_type": "stream",
       "stream": "stdout",
       "text": [
        "\n",
        "  2868  |    0.004224  |    0.005421  |     0.779273  |             |  9.2s"
       ]
      },
      {
       "output_type": "stream",
       "stream": "stdout",
       "text": [
        "\n",
        "  2869  |    0.004184  |    0.005441  |     0.769112  |             |  9.2s"
       ]
      },
      {
       "output_type": "stream",
       "stream": "stdout",
       "text": [
        "\n",
        "  2870  |    0.004271  |    0.005408  |     0.789765  |             |  9.2s"
       ]
      },
      {
       "output_type": "stream",
       "stream": "stdout",
       "text": [
        "\n",
        "  2871  |    0.004252  |    0.005448  |     0.780457  |             |  9.2s"
       ]
      },
      {
       "output_type": "stream",
       "stream": "stdout",
       "text": [
        "\n",
        "  2872  |    0.004196  |    0.005417  |     0.774473  |             |  9.2s"
       ]
      },
      {
       "output_type": "stream",
       "stream": "stdout",
       "text": [
        "\n",
        "  2873  |    0.004245  |    0.005462  |     0.777162  |             |  9.2s"
       ]
      },
      {
       "output_type": "stream",
       "stream": "stdout",
       "text": [
        "\n",
        "  2874  |    0.004204  |    0.005420  |     0.775525  |             |  9.2s"
       ]
      },
      {
       "output_type": "stream",
       "stream": "stdout",
       "text": [
        "\n",
        "  2875  |    0.004190  |    0.005427  |     0.772119  |             |  9.2s"
       ]
      },
      {
       "output_type": "stream",
       "stream": "stdout",
       "text": [
        "\n",
        "  2876  |    0.004237  |    0.005441  |     0.778812  |             |  9.2s"
       ]
      },
      {
       "output_type": "stream",
       "stream": "stdout",
       "text": [
        "\n",
        "  2877  |    0.004215  |    0.005433  |     0.775927  |             |  9.2s"
       ]
      },
      {
       "output_type": "stream",
       "stream": "stdout",
       "text": [
        "\n",
        "  2878  |    0.004258  |    0.005416  |     0.786042  |             |  9.2s"
       ]
      },
      {
       "output_type": "stream",
       "stream": "stdout",
       "text": [
        "\n",
        "  2879  |    0.004242  |    0.005468  |     0.775897  |             |  9.2s"
       ]
      },
      {
       "output_type": "stream",
       "stream": "stdout",
       "text": [
        "\n",
        "  2880  |    0.004199  |    0.005421  |     0.774501  |             |  9.2s"
       ]
      },
      {
       "output_type": "stream",
       "stream": "stdout",
       "text": [
        "\n",
        "  2881  |    0.004267  |    0.005430  |     0.785748  |             |  9.2s"
       ]
      },
      {
       "output_type": "stream",
       "stream": "stdout",
       "text": [
        "\n",
        "  2882  |    0.004206  |    0.005442  |     0.772949  |             |  9.2s"
       ]
      },
      {
       "output_type": "stream",
       "stream": "stdout",
       "text": [
        "\n",
        "  2883  |    0.004217  |    0.005426  |     0.777102  |             |  9.2s"
       ]
      },
      {
       "output_type": "stream",
       "stream": "stdout",
       "text": [
        "\n",
        "  2884  |    0.004237  |    0.005463  |     0.775699  |             |  9.2s"
       ]
      },
      {
       "output_type": "stream",
       "stream": "stdout",
       "text": [
        "\n",
        "  2885  |    0.004214  |    0.005455  |     0.772467  |             |  9.2s"
       ]
      },
      {
       "output_type": "stream",
       "stream": "stdout",
       "text": [
        "\n",
        "  2886  |    0.004202  |    0.005418  |     0.775557  |             |  9.2s"
       ]
      },
      {
       "output_type": "stream",
       "stream": "stdout",
       "text": [
        "\n",
        "  2887  |    0.004215  |    0.005427  |     0.776680  |             |  9.2s"
       ]
      },
      {
       "output_type": "stream",
       "stream": "stdout",
       "text": [
        "\n",
        "  2888  |    0.004249  |    0.005444  |     0.780433  |             |  9.2s"
       ]
      },
      {
       "output_type": "stream",
       "stream": "stdout",
       "text": [
        "\n",
        "  2889  |    0.004192  |    0.005468  |     0.766693  |             |  9.2s"
       ]
      },
      {
       "output_type": "stream",
       "stream": "stdout",
       "text": [
        "\n",
        "  2890  |    0.004212  |    0.005460  |     0.771458  |             |  9.2s"
       ]
      },
      {
       "output_type": "stream",
       "stream": "stdout",
       "text": [
        "\n",
        "  2891  |    0.004172  |    0.005428  |     0.768680  |             |  9.2s"
       ]
      },
      {
       "output_type": "stream",
       "stream": "stdout",
       "text": [
        "\n",
        "  2892  |    0.004229  |    0.005454  |     0.775414  |             |  9.2s"
       ]
      },
      {
       "output_type": "stream",
       "stream": "stdout",
       "text": [
        "\n",
        "  2893  |    0.004237  |    0.005419  |     0.781950  |             |  9.2s"
       ]
      },
      {
       "output_type": "stream",
       "stream": "stdout",
       "text": [
        "\n",
        "  2894  |    0.004171  |    0.005483  |     0.760691  |             |  9.2s"
       ]
      },
      {
       "output_type": "stream",
       "stream": "stdout",
       "text": [
        "\n",
        "  2895  |    0.004223  |    0.005414  |     0.779959  |             |  9.2s"
       ]
      },
      {
       "output_type": "stream",
       "stream": "stdout",
       "text": [
        "\n",
        "  2896  |    0.004237  |    0.005434  |     0.779709  |             |  9.2s"
       ]
      },
      {
       "output_type": "stream",
       "stream": "stdout",
       "text": [
        "\n",
        "  2897  |    0.004179  |    0.005453  |     0.766217  |             |  9.2s"
       ]
      },
      {
       "output_type": "stream",
       "stream": "stdout",
       "text": [
        "\n",
        "  2898  |    0.004262  |    0.005451  |     0.781952  |             |  9.2s"
       ]
      },
      {
       "output_type": "stream",
       "stream": "stdout",
       "text": [
        "\n",
        "  2899  |    0.004182  |    0.005444  |     0.768202  |             |  9.2s"
       ]
      },
      {
       "output_type": "stream",
       "stream": "stdout",
       "text": [
        "\n",
        "  2900  |    0.004271  |    0.005434  |     0.786049  |             |  9.2s"
       ]
      },
      {
       "output_type": "stream",
       "stream": "stdout",
       "text": [
        "\n",
        "  2901  |    0.004199  |    0.005438  |     0.772245  |             |  9.2s"
       ]
      },
      {
       "output_type": "stream",
       "stream": "stdout",
       "text": [
        "\n",
        "  2902  |    0.004226  |    0.005488  |     0.770126  |             |  9.2s"
       ]
      },
      {
       "output_type": "stream",
       "stream": "stdout",
       "text": [
        "\n",
        "  2903  |    0.004281  |    0.005435  |     0.787525  |             |  9.2s"
       ]
      },
      {
       "output_type": "stream",
       "stream": "stdout",
       "text": [
        "\n",
        "  2904  |    0.004222  |    0.005419  |     0.779055  |             |  9.2s"
       ]
      },
      {
       "output_type": "stream",
       "stream": "stdout",
       "text": [
        "\n",
        "  2905  |    0.004189  |    0.005468  |     0.766059  |             |  9.2s"
       ]
      },
      {
       "output_type": "stream",
       "stream": "stdout",
       "text": [
        "\n",
        "  2906  |    0.004193  |    0.005425  |     0.772910  |             |  9.2s"
       ]
      },
      {
       "output_type": "stream",
       "stream": "stdout",
       "text": [
        "\n",
        "  2907  |    0.004231  |    0.005445  |     0.776896  |             |  9.2s"
       ]
      },
      {
       "output_type": "stream",
       "stream": "stdout",
       "text": [
        "\n",
        "  2908  |    0.004261  |    0.005405  |     0.788292  |             |  9.2s"
       ]
      },
      {
       "output_type": "stream",
       "stream": "stdout",
       "text": [
        "\n",
        "  2909  |    0.004192  |    0.005435  |     0.771374  |             |  9.2s"
       ]
      },
      {
       "output_type": "stream",
       "stream": "stdout",
       "text": [
        "\n",
        "  2910  |    0.004184  |    0.005459  |     0.766385  |             |  9.2s"
       ]
      },
      {
       "output_type": "stream",
       "stream": "stdout",
       "text": [
        "\n",
        "  2911  |  \u001b[94m  0.004158\u001b[0m  |    0.005450  |     0.763038  |             |  9.2s"
       ]
      },
      {
       "output_type": "stream",
       "stream": "stdout",
       "text": [
        "\n",
        "  2912  |  \u001b[94m  0.004147\u001b[0m  |    0.005489  |     0.755470  |             |  9.2s"
       ]
      },
      {
       "output_type": "stream",
       "stream": "stdout",
       "text": [
        "\n",
        "  2913  |    0.004197  |    0.005464  |     0.768045  |             |  9.2s"
       ]
      },
      {
       "output_type": "stream",
       "stream": "stdout",
       "text": [
        "\n",
        "  2914  |    0.004205  |    0.005426  |     0.775033  |             |  9.2s"
       ]
      },
      {
       "output_type": "stream",
       "stream": "stdout",
       "text": [
        "\n",
        "  2915  |    0.004164  |    0.005441  |     0.765296  |             |  9.2s"
       ]
      },
      {
       "output_type": "stream",
       "stream": "stdout",
       "text": [
        "\n",
        "  2916  |    0.004163  |    0.005457  |     0.762798  |             |  9.2s"
       ]
      },
      {
       "output_type": "stream",
       "stream": "stdout",
       "text": [
        "\n",
        "  2917  |    0.004147  |    0.005439  |     0.762472  |             |  9.2s"
       ]
      },
      {
       "output_type": "stream",
       "stream": "stdout",
       "text": [
        "\n",
        "  2918  |    0.004169  |    0.005459  |     0.763758  |             |  9.2s"
       ]
      },
      {
       "output_type": "stream",
       "stream": "stdout",
       "text": [
        "\n",
        "  2919  |    0.004167  |    0.005477  |     0.760859  |             |  9.2s"
       ]
      },
      {
       "output_type": "stream",
       "stream": "stdout",
       "text": [
        "\n",
        "  2920  |  \u001b[94m  0.004145\u001b[0m  |    0.005433  |     0.762815  |             |  9.2s"
       ]
      },
      {
       "output_type": "stream",
       "stream": "stdout",
       "text": [
        "\n",
        "  2921  |    0.004162  |    0.005435  |     0.765853  |             |  9.2s"
       ]
      },
      {
       "output_type": "stream",
       "stream": "stdout",
       "text": [
        "\n",
        "  2922  |  \u001b[94m  0.004141\u001b[0m  |    0.005423  |     0.763610  |             |  9.2s"
       ]
      },
      {
       "output_type": "stream",
       "stream": "stdout",
       "text": [
        "\n",
        "  2923  |    0.004218  |  \u001b[32m  0.005395\u001b[0m  |     0.781791  |             |  9.2s"
       ]
      },
      {
       "output_type": "stream",
       "stream": "stdout",
       "text": [
        "\n",
        "  2924  |    0.004180  |    0.005448  |     0.767342  |             |  9.2s"
       ]
      },
      {
       "output_type": "stream",
       "stream": "stdout",
       "text": [
        "\n",
        "  2925  |    0.004233  |    0.005435  |     0.778911  |             |  9.2s"
       ]
      },
      {
       "output_type": "stream",
       "stream": "stdout",
       "text": [
        "\n",
        "  2926  |  \u001b[94m  0.004107\u001b[0m  |    0.005459  |     0.752273  |             |  9.2s"
       ]
      },
      {
       "output_type": "stream",
       "stream": "stdout",
       "text": [
        "\n",
        "  2927  |    0.004117  |    0.005438  |     0.756943  |             |  9.2s"
       ]
      },
      {
       "output_type": "stream",
       "stream": "stdout",
       "text": [
        "\n",
        "  2928  |    0.004197  |    0.005458  |     0.768865  |             |  9.2s"
       ]
      },
      {
       "output_type": "stream",
       "stream": "stdout",
       "text": [
        "\n",
        "  2929  |    0.004166  |    0.005423  |     0.768230  |             |  9.2s"
       ]
      },
      {
       "output_type": "stream",
       "stream": "stdout",
       "text": [
        "\n",
        "  2930  |  \u001b[94m  0.004103\u001b[0m  |    0.005404  |     0.759127  |             |  9.2s"
       ]
      },
      {
       "output_type": "stream",
       "stream": "stdout",
       "text": [
        "\n",
        "  2931  |    0.004145  |    0.005418  |     0.765078  |             |  9.2s"
       ]
      },
      {
       "output_type": "stream",
       "stream": "stdout",
       "text": [
        "\n",
        "  2932  |    0.004157  |    0.005408  |     0.768649  |             |  9.2s"
       ]
      },
      {
       "output_type": "stream",
       "stream": "stdout",
       "text": [
        "\n",
        "  2933  |    0.004148  |    0.005422  |     0.765086  |             |  9.2s"
       ]
      },
      {
       "output_type": "stream",
       "stream": "stdout",
       "text": [
        "\n",
        "  2934  |    0.004128  |    0.005395  |     0.765222  |             |  9.2s"
       ]
      },
      {
       "output_type": "stream",
       "stream": "stdout",
       "text": [
        "\n",
        "  2935  |    0.004172  |    0.005464  |     0.763609  |             |  9.2s"
       ]
      },
      {
       "output_type": "stream",
       "stream": "stdout",
       "text": [
        "\n",
        "  2936  |    0.004149  |    0.005399  |     0.768506  |             |  9.2s"
       ]
      },
      {
       "output_type": "stream",
       "stream": "stdout",
       "text": [
        "\n",
        "  2937  |    0.004108  |    0.005437  |     0.755662  |             |  9.2s"
       ]
      },
      {
       "output_type": "stream",
       "stream": "stdout",
       "text": [
        "\n",
        "  2938  |    0.004213  |    0.005441  |     0.774207  |             |  9.2s"
       ]
      },
      {
       "output_type": "stream",
       "stream": "stdout",
       "text": [
        "\n",
        "  2939  |    0.004140  |    0.005453  |     0.759345  |             |  9.2s"
       ]
      },
      {
       "output_type": "stream",
       "stream": "stdout",
       "text": [
        "\n",
        "  2940  |    0.004126  |    0.005462  |     0.755439  |             |  9.2s"
       ]
      },
      {
       "output_type": "stream",
       "stream": "stdout",
       "text": [
        "\n",
        "  2941  |    0.004163  |    0.005455  |     0.763216  |             |  9.2s"
       ]
      },
      {
       "output_type": "stream",
       "stream": "stdout",
       "text": [
        "\n",
        "  2942  |    0.004181  |    0.005417  |     0.771906  |             |  9.2s"
       ]
      },
      {
       "output_type": "stream",
       "stream": "stdout",
       "text": [
        "\n",
        "  2943  |    0.004172  |    0.005439  |     0.766913  |             |  9.2s"
       ]
      },
      {
       "output_type": "stream",
       "stream": "stdout",
       "text": [
        "\n",
        "  2944  |    0.004106  |    0.005449  |     0.753567  |             |  9.2s"
       ]
      },
      {
       "output_type": "stream",
       "stream": "stdout",
       "text": [
        "\n",
        "  2945  |  \u001b[94m  0.004102\u001b[0m  |    0.005409  |     0.758408  |             |  9.2s"
       ]
      },
      {
       "output_type": "stream",
       "stream": "stdout",
       "text": [
        "\n",
        "  2946  |    0.004104  |    0.005432  |     0.755488  |             |  9.2s"
       ]
      },
      {
       "output_type": "stream",
       "stream": "stdout",
       "text": [
        "\n",
        "  2947  |    0.004189  |    0.005431  |     0.771268  |             |  9.2s"
       ]
      },
      {
       "output_type": "stream",
       "stream": "stdout",
       "text": [
        "\n",
        "  2948  |    0.004203  |    0.005439  |     0.772808  |             |  9.2s"
       ]
      },
      {
       "output_type": "stream",
       "stream": "stdout",
       "text": [
        "\n",
        "  2949  |    0.004207  |    0.005439  |     0.773412  |             |  9.2s"
       ]
      },
      {
       "output_type": "stream",
       "stream": "stdout",
       "text": [
        "\n",
        "  2950  |    0.004206  |    0.005446  |     0.772423  |             |  9.2s"
       ]
      },
      {
       "output_type": "stream",
       "stream": "stdout",
       "text": [
        "\n",
        "  2951  |    0.004111  |    0.005472  |     0.751219  |             |  9.2s"
       ]
      },
      {
       "output_type": "stream",
       "stream": "stdout",
       "text": [
        "\n",
        "  2952  |    0.004108  |    0.005403  |     0.760421  |             |  9.2s"
       ]
      },
      {
       "output_type": "stream",
       "stream": "stdout",
       "text": [
        "\n",
        "  2953  |    0.004123  |    0.005438  |     0.758141  |             |  9.2s"
       ]
      },
      {
       "output_type": "stream",
       "stream": "stdout",
       "text": [
        "\n",
        "  2954  |    0.004110  |    0.005407  |     0.760058  |             |  9.2s"
       ]
      },
      {
       "output_type": "stream",
       "stream": "stdout",
       "text": [
        "\n",
        "  2955  |  \u001b[94m  0.004084\u001b[0m  |    0.005425  |     0.752764  |             |  9.2s"
       ]
      },
      {
       "output_type": "stream",
       "stream": "stdout",
       "text": [
        "\n",
        "  2956  |    0.004162  |    0.005444  |     0.764446  |             |  9.2s"
       ]
      },
      {
       "output_type": "stream",
       "stream": "stdout",
       "text": [
        "\n",
        "  2957  |    0.004122  |    0.005443  |     0.757195  |             |  9.2s"
       ]
      },
      {
       "output_type": "stream",
       "stream": "stdout",
       "text": [
        "\n",
        "  2958  |    0.004142  |    0.005459  |     0.758769  |             |  9.2s"
       ]
      },
      {
       "output_type": "stream",
       "stream": "stdout",
       "text": [
        "\n",
        "  2959  |    0.004147  |    0.005430  |     0.763719  |             |  9.2s"
       ]
      },
      {
       "output_type": "stream",
       "stream": "stdout",
       "text": [
        "\n",
        "  2960  |    0.004219  |    0.005404  |     0.780773  |             |  9.2s"
       ]
      },
      {
       "output_type": "stream",
       "stream": "stdout",
       "text": [
        "\n",
        "  2961  |    0.004148  |    0.005406  |     0.767279  |             |  9.2s"
       ]
      },
      {
       "output_type": "stream",
       "stream": "stdout",
       "text": [
        "\n",
        "  2962  |    0.004150  |    0.005424  |     0.765060  |             |  9.2s"
       ]
      },
      {
       "output_type": "stream",
       "stream": "stdout",
       "text": [
        "\n",
        "  2963  |    0.004165  |    0.005409  |     0.770003  |             |  9.2s"
       ]
      },
      {
       "output_type": "stream",
       "stream": "stdout",
       "text": [
        "\n",
        "  2964  |    0.004120  |    0.005426  |     0.759327  |             |  9.2s"
       ]
      },
      {
       "output_type": "stream",
       "stream": "stdout",
       "text": [
        "\n",
        "  2965  |    0.004144  |    0.005417  |     0.764928  |             |  9.2s"
       ]
      },
      {
       "output_type": "stream",
       "stream": "stdout",
       "text": [
        "\n",
        "  2966  |    0.004150  |    0.005405  |     0.767749  |             |  9.2s"
       ]
      },
      {
       "output_type": "stream",
       "stream": "stdout",
       "text": [
        "\n",
        "  2967  |    0.004087  |    0.005410  |     0.755533  |             |  9.2s"
       ]
      },
      {
       "output_type": "stream",
       "stream": "stdout",
       "text": [
        "\n",
        "  2968  |    0.004113  |    0.005428  |     0.757853  |             |  9.2s"
       ]
      },
      {
       "output_type": "stream",
       "stream": "stdout",
       "text": [
        "\n",
        "  2969  |    0.004132  |    0.005402  |     0.764914  |             |  9.2s"
       ]
      },
      {
       "output_type": "stream",
       "stream": "stdout",
       "text": [
        "\n",
        "  2970  |    0.004148  |  \u001b[32m  0.005385\u001b[0m  |     0.770198  |             |  9.2s"
       ]
      },
      {
       "output_type": "stream",
       "stream": "stdout",
       "text": [
        "\n",
        "  2971  |    0.004169  |    0.005403  |     0.771554  |             |  9.2s"
       ]
      },
      {
       "output_type": "stream",
       "stream": "stdout",
       "text": [
        "\n",
        "  2972  |    0.004196  |    0.005418  |     0.774410  |             |  9.2s"
       ]
      },
      {
       "output_type": "stream",
       "stream": "stdout",
       "text": [
        "\n",
        "  2973  |    0.004090  |    0.005417  |     0.754990  |             |  9.2s"
       ]
      },
      {
       "output_type": "stream",
       "stream": "stdout",
       "text": [
        "\n",
        "  2974  |    0.004147  |    0.005420  |     0.765066  |             |  9.2s"
       ]
      },
      {
       "output_type": "stream",
       "stream": "stdout",
       "text": [
        "\n",
        "  2975  |  \u001b[94m  0.004078\u001b[0m  |    0.005415  |     0.753108  |             |  9.2s"
       ]
      },
      {
       "output_type": "stream",
       "stream": "stdout",
       "text": [
        "\n",
        "  2976  |    0.004121  |  \u001b[32m  0.005368\u001b[0m  |     0.767791  |             |  9.2s"
       ]
      },
      {
       "output_type": "stream",
       "stream": "stdout",
       "text": [
        "\n",
        "  2977  |    0.004170  |    0.005412  |     0.770537  |             |  9.2s"
       ]
      },
      {
       "output_type": "stream",
       "stream": "stdout",
       "text": [
        "\n",
        "  2978  |    0.004181  |    0.005421  |     0.771295  |             |  9.2s"
       ]
      },
      {
       "output_type": "stream",
       "stream": "stdout",
       "text": [
        "\n",
        "  2979  |    0.004128  |    0.005425  |     0.760837  |             |  9.2s"
       ]
      },
      {
       "output_type": "stream",
       "stream": "stdout",
       "text": [
        "\n",
        "  2980  |    0.004171  |    0.005397  |     0.772760  |             |  9.2s"
       ]
      },
      {
       "output_type": "stream",
       "stream": "stdout",
       "text": [
        "\n",
        "  2981  |    0.004136  |    0.005432  |     0.761454  |             |  9.2s"
       ]
      },
      {
       "output_type": "stream",
       "stream": "stdout",
       "text": [
        "\n",
        "  2982  |    0.004178  |    0.005445  |     0.767244  |             |  9.2s"
       ]
      },
      {
       "output_type": "stream",
       "stream": "stdout",
       "text": [
        "\n",
        "  2983  |    0.004129  |    0.005410  |     0.763105  |             |  9.2s"
       ]
      },
      {
       "output_type": "stream",
       "stream": "stdout",
       "text": [
        "\n",
        "  2984  |    0.004081  |    0.005403  |     0.755311  |             |  9.2s"
       ]
      },
      {
       "output_type": "stream",
       "stream": "stdout",
       "text": [
        "\n",
        "  2985  |    0.004098  |    0.005448  |     0.752273  |             |  9.2s"
       ]
      },
      {
       "output_type": "stream",
       "stream": "stdout",
       "text": [
        "\n",
        "  2986  |    0.004174  |    0.005418  |     0.770452  |             |  9.2s"
       ]
      },
      {
       "output_type": "stream",
       "stream": "stdout",
       "text": [
        "\n",
        "  2987  |  \u001b[94m  0.004074\u001b[0m  |    0.005424  |     0.750980  |             |  9.2s"
       ]
      },
      {
       "output_type": "stream",
       "stream": "stdout",
       "text": [
        "\n",
        "  2988  |  \u001b[94m  0.004063\u001b[0m  |    0.005401  |     0.752329  |             |  9.2s"
       ]
      },
      {
       "output_type": "stream",
       "stream": "stdout",
       "text": [
        "\n",
        "  2989  |    0.004116  |    0.005401  |     0.762153  |             |  9.2s"
       ]
      },
      {
       "output_type": "stream",
       "stream": "stdout",
       "text": [
        "\n",
        "  2990  |    0.004119  |    0.005417  |     0.760334  |             |  9.2s"
       ]
      },
      {
       "output_type": "stream",
       "stream": "stdout",
       "text": [
        "\n",
        "  2991  |    0.004165  |    0.005431  |     0.766964  |             |  9.2s"
       ]
      },
      {
       "output_type": "stream",
       "stream": "stdout",
       "text": [
        "\n",
        "  2992  |    0.004105  |    0.005469  |     0.750589  |             |  9.2s"
       ]
      },
      {
       "output_type": "stream",
       "stream": "stdout",
       "text": [
        "\n",
        "  2993  |    0.004193  |    0.005433  |     0.771651  |             |  9.2s"
       ]
      },
      {
       "output_type": "stream",
       "stream": "stdout",
       "text": [
        "\n",
        "  2994  |    0.004111  |    0.005389  |     0.762996  |             |  9.2s"
       ]
      },
      {
       "output_type": "stream",
       "stream": "stdout",
       "text": [
        "\n",
        "  2995  |    0.004098  |    0.005406  |     0.758098  |             |  9.2s"
       ]
      },
      {
       "output_type": "stream",
       "stream": "stdout",
       "text": [
        "\n",
        "  2996  |  \u001b[94m  0.004033\u001b[0m  |    0.005403  |     0.746450  |             |  9.2s"
       ]
      },
      {
       "output_type": "stream",
       "stream": "stdout",
       "text": [
        "\n",
        "  2997  |    0.004084  |    0.005389  |     0.757839  |             |  9.2s"
       ]
      },
      {
       "output_type": "stream",
       "stream": "stdout",
       "text": [
        "\n",
        "  2998  |    0.004100  |    0.005407  |     0.758222  |             |  9.2s"
       ]
      },
      {
       "output_type": "stream",
       "stream": "stdout",
       "text": [
        "\n",
        "  2999  |    0.004098  |    0.005394  |     0.759758  |             |  9.2s"
       ]
      },
      {
       "output_type": "stream",
       "stream": "stdout",
       "text": [
        "\n",
        "  3000  |    0.004078  |    0.005424  |     0.751793  |             |  9.2s"
       ]
      },
      {
       "output_type": "stream",
       "stream": "stdout",
       "text": [
        "\n",
        "  3001  |    0.004127  |    0.005405  |     0.763466  |             |  9.2s"
       ]
      },
      {
       "output_type": "stream",
       "stream": "stdout",
       "text": [
        "\n",
        "  3002  |    0.004116  |    0.005405  |     0.761588  |             |  9.2s"
       ]
      },
      {
       "output_type": "stream",
       "stream": "stdout",
       "text": [
        "\n",
        "  3003  |    0.004136  |    0.005430  |     0.761594  |             |  9.2s"
       ]
      },
      {
       "output_type": "stream",
       "stream": "stdout",
       "text": [
        "\n",
        "  3004  |    0.004139  |    0.005431  |     0.762213  |             |  9.2s"
       ]
      },
      {
       "output_type": "stream",
       "stream": "stdout",
       "text": [
        "\n",
        "  3005  |    0.004108  |    0.005423  |     0.757523  |             |  9.2s"
       ]
      },
      {
       "output_type": "stream",
       "stream": "stdout",
       "text": [
        "\n",
        "  3006  |    0.004191  |    0.005415  |     0.773974  |             |  9.2s"
       ]
      },
      {
       "output_type": "stream",
       "stream": "stdout",
       "text": [
        "\n",
        "  3007  |    0.004108  |    0.005392  |     0.761868  |             |  9.2s"
       ]
      },
      {
       "output_type": "stream",
       "stream": "stdout",
       "text": [
        "\n",
        "  3008  |    0.004124  |    0.005403  |     0.763214  |             |  9.2s"
       ]
      },
      {
       "output_type": "stream",
       "stream": "stdout",
       "text": [
        "\n",
        "  3009  |    0.004047  |    0.005430  |     0.745212  |             |  9.2s"
       ]
      },
      {
       "output_type": "stream",
       "stream": "stdout",
       "text": [
        "\n",
        "  3010  |    0.004152  |    0.005449  |     0.761968  |             |  9.2s"
       ]
      },
      {
       "output_type": "stream",
       "stream": "stdout",
       "text": [
        "\n",
        "  3011  |    0.004045  |    0.005373  |     0.752828  |             |  9.2s"
       ]
      },
      {
       "output_type": "stream",
       "stream": "stdout",
       "text": [
        "\n",
        "  3012  |    0.004088  |    0.005404  |     0.756522  |             |  9.2s"
       ]
      },
      {
       "output_type": "stream",
       "stream": "stdout",
       "text": [
        "\n",
        "  3013  |    0.004091  |    0.005387  |     0.759292  |             |  9.2s"
       ]
      },
      {
       "output_type": "stream",
       "stream": "stdout",
       "text": [
        "\n",
        "  3014  |  \u001b[94m  0.003993\u001b[0m  |    0.005371  |     0.743444  |             |  9.2s"
       ]
      },
      {
       "output_type": "stream",
       "stream": "stdout",
       "text": [
        "\n",
        "  3015  |    0.004086  |    0.005369  |     0.761079  |             |  9.2s"
       ]
      },
      {
       "output_type": "stream",
       "stream": "stdout",
       "text": [
        "\n",
        "  3016  |    0.004075  |    0.005424  |     0.751232  |             |  9.2s"
       ]
      },
      {
       "output_type": "stream",
       "stream": "stdout",
       "text": [
        "\n",
        "  3017  |    0.004040  |    0.005371  |     0.752135  |             |  9.2s"
       ]
      },
      {
       "output_type": "stream",
       "stream": "stdout",
       "text": [
        "\n",
        "  3018  |    0.004079  |    0.005427  |     0.751595  |             |  9.2s"
       ]
      },
      {
       "output_type": "stream",
       "stream": "stdout",
       "text": [
        "\n",
        "  3019  |    0.004074  |    0.005399  |     0.754573  |             |  9.2s"
       ]
      },
      {
       "output_type": "stream",
       "stream": "stdout",
       "text": [
        "\n",
        "  3020  |    0.004118  |    0.005395  |     0.763339  |             |  9.2s"
       ]
      },
      {
       "output_type": "stream",
       "stream": "stdout",
       "text": [
        "\n",
        "  3021  |    0.004038  |    0.005408  |     0.746596  |             |  9.2s"
       ]
      },
      {
       "output_type": "stream",
       "stream": "stdout",
       "text": [
        "\n",
        "  3022  |    0.004055  |    0.005381  |     0.753526  |             |  9.2s"
       ]
      },
      {
       "output_type": "stream",
       "stream": "stdout",
       "text": [
        "\n",
        "  3023  |    0.004130  |    0.005408  |     0.763735  |             |  9.2s"
       ]
      },
      {
       "output_type": "stream",
       "stream": "stdout",
       "text": [
        "\n",
        "  3024  |    0.004066  |    0.005404  |     0.752441  |             |  9.2s"
       ]
      },
      {
       "output_type": "stream",
       "stream": "stdout",
       "text": [
        "\n",
        "  3025  |    0.004058  |    0.005404  |     0.750857  |             |  9.2s"
       ]
      },
      {
       "output_type": "stream",
       "stream": "stdout",
       "text": [
        "\n",
        "  3026  |    0.004060  |    0.005469  |     0.742407  |             |  9.2s"
       ]
      },
      {
       "output_type": "stream",
       "stream": "stdout",
       "text": [
        "\n",
        "  3027  |    0.004069  |    0.005417  |     0.751168  |             |  9.2s"
       ]
      },
      {
       "output_type": "stream",
       "stream": "stdout",
       "text": [
        "\n",
        "  3028  |    0.004095  |    0.005392  |     0.759409  |             |  9.2s"
       ]
      },
      {
       "output_type": "stream",
       "stream": "stdout",
       "text": [
        "\n",
        "  3029  |    0.004098  |    0.005414  |     0.756971  |             |  9.2s"
       ]
      },
      {
       "output_type": "stream",
       "stream": "stdout",
       "text": [
        "\n",
        "  3030  |    0.004007  |    0.005405  |     0.741331  |             |  9.2s"
       ]
      },
      {
       "output_type": "stream",
       "stream": "stdout",
       "text": [
        "\n",
        "  3031  |    0.004038  |    0.005416  |     0.745485  |             |  9.2s"
       ]
      },
      {
       "output_type": "stream",
       "stream": "stdout",
       "text": [
        "\n",
        "  3032  |    0.004046  |    0.005394  |     0.749975  |             |  9.2s"
       ]
      },
      {
       "output_type": "stream",
       "stream": "stdout",
       "text": [
        "\n",
        "  3033  |    0.004074  |    0.005400  |     0.754347  |             |  9.2s"
       ]
      },
      {
       "output_type": "stream",
       "stream": "stdout",
       "text": [
        "\n",
        "  3034  |    0.004055  |    0.005412  |     0.749254  |             |  9.2s"
       ]
      },
      {
       "output_type": "stream",
       "stream": "stdout",
       "text": [
        "\n",
        "  3035  |    0.004059  |    0.005431  |     0.747357  |             |  9.2s"
       ]
      },
      {
       "output_type": "stream",
       "stream": "stdout",
       "text": [
        "\n",
        "  3036  |    0.004095  |    0.005398  |     0.758555  |             |  9.2s"
       ]
      },
      {
       "output_type": "stream",
       "stream": "stdout",
       "text": [
        "\n",
        "  3037  |    0.004071  |    0.005413  |     0.751955  |             |  9.2s"
       ]
      },
      {
       "output_type": "stream",
       "stream": "stdout",
       "text": [
        "\n",
        "  3038  |    0.004123  |    0.005403  |     0.762945  |             |  9.2s"
       ]
      },
      {
       "output_type": "stream",
       "stream": "stdout",
       "text": [
        "\n",
        "  3039  |    0.004052  |    0.005407  |     0.749452  |             |  9.2s"
       ]
      },
      {
       "output_type": "stream",
       "stream": "stdout",
       "text": [
        "\n",
        "  3040  |    0.004131  |    0.005375  |     0.768632  |             |  9.2s"
       ]
      },
      {
       "output_type": "stream",
       "stream": "stdout",
       "text": [
        "\n",
        "  3041  |    0.004073  |    0.005420  |     0.751510  |             |  9.2s"
       ]
      },
      {
       "output_type": "stream",
       "stream": "stdout",
       "text": [
        "\n",
        "  3042  |    0.004127  |  \u001b[32m  0.005361\u001b[0m  |     0.769861  |             |  9.2s"
       ]
      },
      {
       "output_type": "stream",
       "stream": "stdout",
       "text": [
        "\n",
        "  3043  |    0.004019  |    0.005445  |     0.738084  |             |  9.2s"
       ]
      },
      {
       "output_type": "stream",
       "stream": "stdout",
       "text": [
        "\n",
        "  3044  |    0.004080  |    0.005406  |     0.754677  |             |  9.2s"
       ]
      },
      {
       "output_type": "stream",
       "stream": "stdout",
       "text": [
        "\n",
        "  3045  |    0.004081  |    0.005414  |     0.753737  |             |  9.2s"
       ]
      },
      {
       "output_type": "stream",
       "stream": "stdout",
       "text": [
        "\n",
        "  3046  |    0.004070  |    0.005421  |     0.750790  |             |  9.2s"
       ]
      },
      {
       "output_type": "stream",
       "stream": "stdout",
       "text": [
        "\n",
        "  3047  |    0.004060  |    0.005378  |     0.754833  |             |  9.2s"
       ]
      },
      {
       "output_type": "stream",
       "stream": "stdout",
       "text": [
        "\n",
        "  3048  |    0.004028  |    0.005373  |     0.749803  |             |  9.2s"
       ]
      },
      {
       "output_type": "stream",
       "stream": "stdout",
       "text": [
        "\n",
        "  3049  |    0.004056  |    0.005403  |     0.750616  |             |  9.2s"
       ]
      },
      {
       "output_type": "stream",
       "stream": "stdout",
       "text": [
        "\n",
        "  3050  |    0.004065  |    0.005394  |     0.753633  |             |  9.2s"
       ]
      },
      {
       "output_type": "stream",
       "stream": "stdout",
       "text": [
        "\n",
        "  3051  |    0.004060  |    0.005373  |     0.755555  |             |  9.2s"
       ]
      },
      {
       "output_type": "stream",
       "stream": "stdout",
       "text": [
        "\n",
        "  3052  |    0.004009  |    0.005404  |     0.741850  |             |  9.2s"
       ]
      },
      {
       "output_type": "stream",
       "stream": "stdout",
       "text": [
        "\n",
        "  3053  |    0.004101  |    0.005412  |     0.757688  |             |  9.2s"
       ]
      },
      {
       "output_type": "stream",
       "stream": "stdout",
       "text": [
        "\n",
        "  3054  |    0.004067  |    0.005419  |     0.750435  |             |  9.2s"
       ]
      },
      {
       "output_type": "stream",
       "stream": "stdout",
       "text": [
        "\n",
        "  3055  |    0.004042  |    0.005399  |     0.748567  |             |  9.2s"
       ]
      },
      {
       "output_type": "stream",
       "stream": "stdout",
       "text": [
        "\n",
        "  3056  |    0.004006  |    0.005411  |     0.740339  |             |  9.2s"
       ]
      },
      {
       "output_type": "stream",
       "stream": "stdout",
       "text": [
        "\n",
        "  3057  |    0.004026  |    0.005417  |     0.743093  |             |  9.2s"
       ]
      },
      {
       "output_type": "stream",
       "stream": "stdout",
       "text": [
        "\n",
        "  3058  |    0.004075  |    0.005365  |     0.759589  |             |  9.2s"
       ]
      },
      {
       "output_type": "stream",
       "stream": "stdout",
       "text": [
        "\n",
        "  3059  |    0.004036  |    0.005433  |     0.742934  |             |  9.2s"
       ]
      },
      {
       "output_type": "stream",
       "stream": "stdout",
       "text": [
        "\n",
        "  3060  |    0.004048  |    0.005364  |     0.754581  |             |  9.2s"
       ]
      },
      {
       "output_type": "stream",
       "stream": "stdout",
       "text": [
        "\n",
        "  3061  |    0.004081  |    0.005400  |     0.755742  |             |  9.2s"
       ]
      },
      {
       "output_type": "stream",
       "stream": "stdout",
       "text": [
        "\n",
        "  3062  |    0.004029  |    0.005378  |     0.749103  |             |  9.2s"
       ]
      },
      {
       "output_type": "stream",
       "stream": "stdout",
       "text": [
        "\n",
        "  3063  |    0.004117  |    0.005386  |     0.764421  |             |  9.2s"
       ]
      },
      {
       "output_type": "stream",
       "stream": "stdout",
       "text": [
        "\n",
        "  3064  |    0.004076  |  \u001b[32m  0.005355\u001b[0m  |     0.761159  |             |  9.2s"
       ]
      },
      {
       "output_type": "stream",
       "stream": "stdout",
       "text": [
        "\n",
        "  3065  |    0.004061  |    0.005412  |     0.750269  |             |  9.2s"
       ]
      },
      {
       "output_type": "stream",
       "stream": "stdout",
       "text": [
        "\n",
        "  3066  |    0.004046  |    0.005413  |     0.747459  |             |  9.2s"
       ]
      },
      {
       "output_type": "stream",
       "stream": "stdout",
       "text": [
        "\n",
        "  3067  |    0.004131  |  \u001b[32m  0.005355\u001b[0m  |     0.771498  |             |  9.2s"
       ]
      },
      {
       "output_type": "stream",
       "stream": "stdout",
       "text": [
        "\n",
        "  3068  |    0.004097  |    0.005392  |     0.759758  |             |  9.2s"
       ]
      },
      {
       "output_type": "stream",
       "stream": "stdout",
       "text": [
        "\n",
        "  3069  |    0.004051  |    0.005364  |     0.755265  |             |  9.2s"
       ]
      },
      {
       "output_type": "stream",
       "stream": "stdout",
       "text": [
        "\n",
        "  3070  |    0.004016  |    0.005391  |     0.744911  |             |  9.2s"
       ]
      },
      {
       "output_type": "stream",
       "stream": "stdout",
       "text": [
        "\n",
        "  3071  |    0.004025  |    0.005383  |     0.747639  |             |  9.2s"
       ]
      },
      {
       "output_type": "stream",
       "stream": "stdout",
       "text": [
        "\n",
        "  3072  |    0.004031  |    0.005439  |     0.741104  |             |  9.2s"
       ]
      },
      {
       "output_type": "stream",
       "stream": "stdout",
       "text": [
        "\n",
        "  3073  |    0.004058  |    0.005414  |     0.749504  |             |  9.2s"
       ]
      },
      {
       "output_type": "stream",
       "stream": "stdout",
       "text": [
        "\n",
        "  3074  |    0.004091  |    0.005367  |     0.762377  |             |  9.2s"
       ]
      },
      {
       "output_type": "stream",
       "stream": "stdout",
       "text": [
        "\n",
        "  3075  |    0.004002  |    0.005376  |     0.744347  |             |  9.2s"
       ]
      },
      {
       "output_type": "stream",
       "stream": "stdout",
       "text": [
        "\n",
        "  3076  |  \u001b[94m  0.003984\u001b[0m  |    0.005412  |     0.736192  |             |  9.2s"
       ]
      },
      {
       "output_type": "stream",
       "stream": "stdout",
       "text": [
        "\n",
        "  3077  |    0.003985  |    0.005379  |     0.740862  |             |  9.2s"
       ]
      },
      {
       "output_type": "stream",
       "stream": "stdout",
       "text": [
        "\n",
        "  3078  |    0.004037  |    0.005409  |     0.746387  |             |  9.2s"
       ]
      },
      {
       "output_type": "stream",
       "stream": "stdout",
       "text": [
        "\n",
        "  3079  |    0.004048  |    0.005421  |     0.746669  |             |  9.2s"
       ]
      },
      {
       "output_type": "stream",
       "stream": "stdout",
       "text": [
        "\n",
        "  3080  |    0.004048  |    0.005427  |     0.745986  |             |  9.2s"
       ]
      },
      {
       "output_type": "stream",
       "stream": "stdout",
       "text": [
        "\n",
        "  3081  |    0.004072  |    0.005366  |     0.758815  |             |  9.2s"
       ]
      },
      {
       "output_type": "stream",
       "stream": "stdout",
       "text": [
        "\n",
        "  3082  |    0.004012  |    0.005406  |     0.742215  |             |  9.2s"
       ]
      },
      {
       "output_type": "stream",
       "stream": "stdout",
       "text": [
        "\n",
        "  3083  |    0.003986  |    0.005408  |     0.737030  |             |  9.2s"
       ]
      },
      {
       "output_type": "stream",
       "stream": "stdout",
       "text": [
        "\n",
        "  3084  |    0.004053  |    0.005403  |     0.750071  |             |  9.2s"
       ]
      },
      {
       "output_type": "stream",
       "stream": "stdout",
       "text": [
        "\n",
        "  3085  |    0.004038  |    0.005393  |     0.748706  |             |  9.2s"
       ]
      },
      {
       "output_type": "stream",
       "stream": "stdout",
       "text": [
        "\n",
        "  3086  |    0.004057  |    0.005431  |     0.746972  |             |  9.2s"
       ]
      },
      {
       "output_type": "stream",
       "stream": "stdout",
       "text": [
        "\n",
        "  3087  |    0.003998  |    0.005452  |     0.733244  |             |  9.2s"
       ]
      },
      {
       "output_type": "stream",
       "stream": "stdout",
       "text": [
        "\n",
        "  3088  |    0.004006  |    0.005433  |     0.737382  |             |  9.2s"
       ]
      },
      {
       "output_type": "stream",
       "stream": "stdout",
       "text": [
        "\n",
        "  3089  |  \u001b[94m  0.003977\u001b[0m  |    0.005443  |     0.730795  |             |  9.2s"
       ]
      },
      {
       "output_type": "stream",
       "stream": "stdout",
       "text": [
        "\n",
        "  3090  |    0.004008  |    0.005394  |     0.743015  |             |  9.2s"
       ]
      },
      {
       "output_type": "stream",
       "stream": "stdout",
       "text": [
        "\n",
        "  3091  |    0.004020  |    0.005400  |     0.744403  |             |  9.2s"
       ]
      },
      {
       "output_type": "stream",
       "stream": "stdout",
       "text": [
        "\n",
        "  3092  |    0.004017  |    0.005416  |     0.741739  |             |  9.2s"
       ]
      },
      {
       "output_type": "stream",
       "stream": "stdout",
       "text": [
        "\n",
        "  3093  |    0.004036  |    0.005384  |     0.749645  |             |  9.2s"
       ]
      },
      {
       "output_type": "stream",
       "stream": "stdout",
       "text": [
        "\n",
        "  3094  |    0.003990  |    0.005406  |     0.738185  |             |  9.2s"
       ]
      },
      {
       "output_type": "stream",
       "stream": "stdout",
       "text": [
        "\n",
        "  3095  |    0.004020  |    0.005395  |     0.745078  |             |  9.2s"
       ]
      },
      {
       "output_type": "stream",
       "stream": "stdout",
       "text": [
        "\n",
        "  3096  |    0.004036  |    0.005410  |     0.746067  |             |  9.2s"
       ]
      },
      {
       "output_type": "stream",
       "stream": "stdout",
       "text": [
        "\n",
        "  3097  |    0.004032  |    0.005415  |     0.744529  |             |  9.2s"
       ]
      },
      {
       "output_type": "stream",
       "stream": "stdout",
       "text": [
        "\n",
        "  3098  |    0.004044  |    0.005428  |     0.745019  |             |  9.2s"
       ]
      },
      {
       "output_type": "stream",
       "stream": "stdout",
       "text": [
        "\n",
        "  3099  |    0.004017  |    0.005384  |     0.746058  |             |  9.2s"
       ]
      },
      {
       "output_type": "stream",
       "stream": "stdout",
       "text": [
        "\n",
        "  3100  |  \u001b[94m  0.003965\u001b[0m  |    0.005409  |     0.732945  |             |  9.2s"
       ]
      },
      {
       "output_type": "stream",
       "stream": "stdout",
       "text": [
        "\n",
        "  3101  |    0.004051  |    0.005421  |     0.747271  |             |  9.2s"
       ]
      },
      {
       "output_type": "stream",
       "stream": "stdout",
       "text": [
        "\n",
        "  3102  |    0.004012  |    0.005401  |     0.742946  |             |  9.2s"
       ]
      },
      {
       "output_type": "stream",
       "stream": "stdout",
       "text": [
        "\n",
        "  3103  |  \u001b[94m  0.003963\u001b[0m  |    0.005414  |     0.732057  |             |  9.2s"
       ]
      },
      {
       "output_type": "stream",
       "stream": "stdout",
       "text": [
        "\n",
        "  3104  |    0.004012  |    0.005405  |     0.742282  |             |  9.2s"
       ]
      },
      {
       "output_type": "stream",
       "stream": "stdout",
       "text": [
        "\n",
        "  3105  |    0.004019  |    0.005411  |     0.742751  |             |  9.2s"
       ]
      },
      {
       "output_type": "stream",
       "stream": "stdout",
       "text": [
        "\n",
        "  3106  |    0.004007  |    0.005375  |     0.745381  |             |  9.2s"
       ]
      },
      {
       "output_type": "stream",
       "stream": "stdout",
       "text": [
        "\n",
        "  3107  |    0.003987  |    0.005436  |     0.733359  |             |  9.2s"
       ]
      },
      {
       "output_type": "stream",
       "stream": "stdout",
       "text": [
        "\n",
        "  3108  |    0.003966  |    0.005432  |     0.730092  |             |  9.2s"
       ]
      },
      {
       "output_type": "stream",
       "stream": "stdout",
       "text": [
        "\n",
        "  3109  |    0.003963  |    0.005419  |     0.731379  |             |  9.2s"
       ]
      },
      {
       "output_type": "stream",
       "stream": "stdout",
       "text": [
        "\n",
        "  3110  |    0.004056  |    0.005443  |     0.745151  |             |  9.2s"
       ]
      },
      {
       "output_type": "stream",
       "stream": "stdout",
       "text": [
        "\n",
        "  3111  |    0.004013  |    0.005386  |     0.744979  |             |  9.2s"
       ]
      },
      {
       "output_type": "stream",
       "stream": "stdout",
       "text": [
        "\n",
        "  3112  |    0.003996  |    0.005416  |     0.737679  |             |  9.2s"
       ]
      },
      {
       "output_type": "stream",
       "stream": "stdout",
       "text": [
        "\n",
        "  3113  |    0.004033  |    0.005377  |     0.749898  |             |  9.2s"
       ]
      },
      {
       "output_type": "stream",
       "stream": "stdout",
       "text": [
        "\n",
        "  3114  |    0.004046  |    0.005382  |     0.751787  |             |  9.2s"
       ]
      },
      {
       "output_type": "stream",
       "stream": "stdout",
       "text": [
        "\n",
        "  3115  |    0.004014  |    0.005405  |     0.742606  |             |  9.2s"
       ]
      },
      {
       "output_type": "stream",
       "stream": "stdout",
       "text": [
        "\n",
        "  3116  |    0.004027  |    0.005384  |     0.747811  |             |  9.2s"
       ]
      },
      {
       "output_type": "stream",
       "stream": "stdout",
       "text": [
        "\n",
        "  3117  |    0.004011  |    0.005366  |     0.747417  |             |  9.2s"
       ]
      },
      {
       "output_type": "stream",
       "stream": "stdout",
       "text": [
        "\n",
        "  3118  |  \u001b[94m  0.003910\u001b[0m  |    0.005375  |     0.727349  |             |  9.2s"
       ]
      },
      {
       "output_type": "stream",
       "stream": "stdout",
       "text": [
        "\n",
        "  3119  |    0.004058  |  \u001b[32m  0.005353\u001b[0m  |     0.758161  |             |  9.2s"
       ]
      },
      {
       "output_type": "stream",
       "stream": "stdout",
       "text": [
        "\n",
        "  3120  |    0.003989  |    0.005389  |     0.740252  |             |  9.2s"
       ]
      },
      {
       "output_type": "stream",
       "stream": "stdout",
       "text": [
        "\n",
        "  3121  |    0.004040  |    0.005379  |     0.750973  |             |  9.2s"
       ]
      },
      {
       "output_type": "stream",
       "stream": "stdout",
       "text": [
        "\n",
        "  3122  |    0.004009  |    0.005369  |     0.746758  |             |  9.2s"
       ]
      },
      {
       "output_type": "stream",
       "stream": "stdout",
       "text": [
        "\n",
        "  3123  |    0.003976  |    0.005387  |     0.737981  |             |  9.2s"
       ]
      },
      {
       "output_type": "stream",
       "stream": "stdout",
       "text": [
        "\n",
        "  3124  |    0.004028  |    0.005357  |     0.751963  |             |  9.2s"
       ]
      },
      {
       "output_type": "stream",
       "stream": "stdout",
       "text": [
        "\n",
        "  3125  |    0.004025  |  \u001b[32m  0.005349\u001b[0m  |     0.752577  |             |  9.2s"
       ]
      },
      {
       "output_type": "stream",
       "stream": "stdout",
       "text": [
        "\n",
        "  3126  |    0.004029  |    0.005396  |     0.746748  |             |  9.2s"
       ]
      },
      {
       "output_type": "stream",
       "stream": "stdout",
       "text": [
        "\n",
        "  3127  |    0.004000  |    0.005403  |     0.740336  |             |  9.2s"
       ]
      },
      {
       "output_type": "stream",
       "stream": "stdout",
       "text": [
        "\n",
        "  3128  |    0.003996  |    0.005415  |     0.737850  |             |  9.2s"
       ]
      },
      {
       "output_type": "stream",
       "stream": "stdout",
       "text": [
        "\n",
        "  3129  |    0.003961  |    0.005383  |     0.735790  |             |  9.2s"
       ]
      },
      {
       "output_type": "stream",
       "stream": "stdout",
       "text": [
        "\n",
        "  3130  |    0.004015  |    0.005409  |     0.742218  |             |  9.2s"
       ]
      },
      {
       "output_type": "stream",
       "stream": "stdout",
       "text": [
        "\n",
        "  3131  |    0.003951  |    0.005385  |     0.733710  |             |  9.2s"
       ]
      },
      {
       "output_type": "stream",
       "stream": "stdout",
       "text": [
        "\n",
        "  3132  |    0.003974  |    0.005404  |     0.735481  |             |  9.2s"
       ]
      },
      {
       "output_type": "stream",
       "stream": "stdout",
       "text": [
        "\n",
        "  3133  |    0.003948  |    0.005371  |     0.735107  |             |  9.2s"
       ]
      },
      {
       "output_type": "stream",
       "stream": "stdout",
       "text": [
        "\n",
        "  3134  |    0.003991  |    0.005381  |     0.741803  |             |  9.2s"
       ]
      },
      {
       "output_type": "stream",
       "stream": "stdout",
       "text": [
        "\n",
        "  3135  |    0.003984  |    0.005403  |     0.737429  |             |  9.2s"
       ]
      },
      {
       "output_type": "stream",
       "stream": "stdout",
       "text": [
        "\n",
        "  3136  |    0.003952  |    0.005379  |     0.734696  |             |  9.2s"
       ]
      },
      {
       "output_type": "stream",
       "stream": "stdout",
       "text": [
        "\n",
        "  3137  |    0.003997  |    0.005350  |     0.747086  |             |  9.2s"
       ]
      },
      {
       "output_type": "stream",
       "stream": "stdout",
       "text": [
        "\n",
        "  3138  |    0.003986  |    0.005401  |     0.738049  |             |  9.2s"
       ]
      },
      {
       "output_type": "stream",
       "stream": "stdout",
       "text": [
        "\n",
        "  3139  |    0.003964  |    0.005379  |     0.736846  |             |  9.2s"
       ]
      },
      {
       "output_type": "stream",
       "stream": "stdout",
       "text": [
        "\n",
        "  3140  |    0.003972  |    0.005349  |     0.742569  |             |  9.2s"
       ]
      },
      {
       "output_type": "stream",
       "stream": "stdout",
       "text": [
        "\n",
        "  3141  |    0.003975  |  \u001b[32m  0.005342\u001b[0m  |     0.744070  |             |  9.2s"
       ]
      },
      {
       "output_type": "stream",
       "stream": "stdout",
       "text": [
        "\n",
        "  3142  |    0.003978  |    0.005364  |     0.741550  |             |  9.2s"
       ]
      },
      {
       "output_type": "stream",
       "stream": "stdout",
       "text": [
        "\n",
        "  3143  |    0.003972  |  \u001b[32m  0.005324\u001b[0m  |     0.745999  |             |  9.2s"
       ]
      },
      {
       "output_type": "stream",
       "stream": "stdout",
       "text": [
        "\n",
        "  3144  |    0.003982  |    0.005362  |     0.742655  |             |  9.2s"
       ]
      },
      {
       "output_type": "stream",
       "stream": "stdout",
       "text": [
        "\n",
        "  3145  |    0.003953  |    0.005341  |     0.740038  |             |  9.2s"
       ]
      },
      {
       "output_type": "stream",
       "stream": "stdout",
       "text": [
        "\n",
        "  3146  |    0.004000  |    0.005378  |     0.743737  |             |  9.2s"
       ]
      },
      {
       "output_type": "stream",
       "stream": "stdout",
       "text": [
        "\n",
        "  3147  |    0.003956  |    0.005369  |     0.736864  |             |  9.2s"
       ]
      },
      {
       "output_type": "stream",
       "stream": "stdout",
       "text": [
        "\n",
        "  3148  |    0.004027  |    0.005357  |     0.751812  |             |  9.2s"
       ]
      },
      {
       "output_type": "stream",
       "stream": "stdout",
       "text": [
        "\n",
        "  3149  |    0.003958  |    0.005350  |     0.739858  |             |  9.2s"
       ]
      },
      {
       "output_type": "stream",
       "stream": "stdout",
       "text": [
        "\n",
        "  3150  |    0.003939  |    0.005416  |     0.727305  |             |  9.2s"
       ]
      },
      {
       "output_type": "stream",
       "stream": "stdout",
       "text": [
        "\n",
        "  3151  |    0.004000  |    0.005382  |     0.743165  |             |  9.2s"
       ]
      },
      {
       "output_type": "stream",
       "stream": "stdout",
       "text": [
        "\n",
        "  3152  |    0.003939  |    0.005380  |     0.732123  |             |  9.2s"
       ]
      },
      {
       "output_type": "stream",
       "stream": "stdout",
       "text": [
        "\n",
        "  3153  |    0.003935  |    0.005380  |     0.731448  |             |  9.2s"
       ]
      },
      {
       "output_type": "stream",
       "stream": "stdout",
       "text": [
        "\n",
        "  3154  |    0.003976  |    0.005391  |     0.737623  |             |  9.2s"
       ]
      },
      {
       "output_type": "stream",
       "stream": "stdout",
       "text": [
        "\n",
        "  3155  |    0.003957  |    0.005431  |     0.728478  |             |  9.2s"
       ]
      },
      {
       "output_type": "stream",
       "stream": "stdout",
       "text": [
        "\n",
        "  3156  |    0.003982  |    0.005422  |     0.734461  |             |  9.2s"
       ]
      },
      {
       "output_type": "stream",
       "stream": "stdout",
       "text": [
        "\n",
        "  3157  |    0.004004  |    0.005409  |     0.740210  |             |  9.2s"
       ]
      },
      {
       "output_type": "stream",
       "stream": "stdout",
       "text": [
        "\n",
        "  3158  |    0.004000  |    0.005400  |     0.740758  |             |  9.2s"
       ]
      },
      {
       "output_type": "stream",
       "stream": "stdout",
       "text": [
        "\n",
        "  3159  |    0.003962  |    0.005382  |     0.736160  |             |  9.2s"
       ]
      },
      {
       "output_type": "stream",
       "stream": "stdout",
       "text": [
        "\n",
        "  3160  |    0.003966  |    0.005392  |     0.735508  |             |  9.2s"
       ]
      },
      {
       "output_type": "stream",
       "stream": "stdout",
       "text": [
        "\n",
        "  3161  |    0.003940  |    0.005388  |     0.731258  |             |  9.2s"
       ]
      },
      {
       "output_type": "stream",
       "stream": "stdout",
       "text": [
        "\n",
        "  3162  |    0.003992  |    0.005349  |     0.746298  |             |  9.2s"
       ]
      },
      {
       "output_type": "stream",
       "stream": "stdout",
       "text": [
        "\n",
        "  3163  |    0.003917  |    0.005360  |     0.730820  |             |  9.2s"
       ]
      },
      {
       "output_type": "stream",
       "stream": "stdout",
       "text": [
        "\n",
        "  3164  |    0.003936  |    0.005354  |     0.735068  |             |  9.2s"
       ]
      },
      {
       "output_type": "stream",
       "stream": "stdout",
       "text": [
        "\n",
        "  3165  |    0.003912  |    0.005356  |     0.730402  |             |  9.2s"
       ]
      },
      {
       "output_type": "stream",
       "stream": "stdout",
       "text": [
        "\n",
        "  3166  |    0.003929  |    0.005404  |     0.727155  |             |  9.2s"
       ]
      },
      {
       "output_type": "stream",
       "stream": "stdout",
       "text": [
        "\n",
        "  3167  |    0.003923  |    0.005405  |     0.725735  |             |  9.2s"
       ]
      },
      {
       "output_type": "stream",
       "stream": "stdout",
       "text": [
        "\n",
        "  3168  |    0.003939  |    0.005373  |     0.733226  |             |  9.2s"
       ]
      },
      {
       "output_type": "stream",
       "stream": "stdout",
       "text": [
        "\n",
        "  3169  |    0.003929  |    0.005379  |     0.730530  |             |  9.2s"
       ]
      },
      {
       "output_type": "stream",
       "stream": "stdout",
       "text": [
        "\n",
        "  3170  |    0.003939  |    0.005396  |     0.729924  |             |  9.2s"
       ]
      },
      {
       "output_type": "stream",
       "stream": "stdout",
       "text": [
        "\n",
        "  3171  |    0.003966  |    0.005397  |     0.734975  |             |  9.2s"
       ]
      },
      {
       "output_type": "stream",
       "stream": "stdout",
       "text": [
        "\n",
        "  3172  |    0.003983  |    0.005372  |     0.741368  |             |  9.2s"
       ]
      },
      {
       "output_type": "stream",
       "stream": "stdout",
       "text": [
        "\n",
        "  3173  |    0.004008  |    0.005392  |     0.743402  |             |  9.2s"
       ]
      },
      {
       "output_type": "stream",
       "stream": "stdout",
       "text": [
        "\n",
        "  3174  |    0.003959  |    0.005387  |     0.734792  |             |  9.2s"
       ]
      },
      {
       "output_type": "stream",
       "stream": "stdout",
       "text": [
        "\n",
        "  3175  |    0.003943  |    0.005379  |     0.733012  |             |  9.2s"
       ]
      },
      {
       "output_type": "stream",
       "stream": "stdout",
       "text": [
        "\n",
        "  3176  |    0.003953  |    0.005356  |     0.738051  |             |  9.2s"
       ]
      },
      {
       "output_type": "stream",
       "stream": "stdout",
       "text": [
        "\n",
        "  3177  |  \u001b[94m  0.003898\u001b[0m  |    0.005378  |     0.724737  |             |  9.2s"
       ]
      },
      {
       "output_type": "stream",
       "stream": "stdout",
       "text": [
        "\n",
        "  3178  |    0.003982  |    0.005382  |     0.739817  |             |  9.2s"
       ]
      },
      {
       "output_type": "stream",
       "stream": "stdout",
       "text": [
        "\n",
        "  3179  |    0.003936  |    0.005351  |     0.735638  |             |  9.2s"
       ]
      },
      {
       "output_type": "stream",
       "stream": "stdout",
       "text": [
        "\n",
        "  3180  |    0.003961  |    0.005408  |     0.732474  |             |  9.2s"
       ]
      },
      {
       "output_type": "stream",
       "stream": "stdout",
       "text": [
        "\n",
        "  3181  |  \u001b[94m  0.003883\u001b[0m  |    0.005370  |     0.722997  |             |  9.2s"
       ]
      },
      {
       "output_type": "stream",
       "stream": "stdout",
       "text": [
        "\n",
        "  3182  |    0.003897  |    0.005406  |     0.720937  |             |  9.2s"
       ]
      },
      {
       "output_type": "stream",
       "stream": "stdout",
       "text": [
        "\n",
        "  3183  |    0.003959  |    0.005360  |     0.738616  |             |  9.2s"
       ]
      },
      {
       "output_type": "stream",
       "stream": "stdout",
       "text": [
        "\n",
        "  3184  |    0.003928  |    0.005372  |     0.731292  |             |  9.2s"
       ]
      },
      {
       "output_type": "stream",
       "stream": "stdout",
       "text": [
        "\n",
        "  3185  |    0.003997  |    0.005366  |     0.744740  |             |  9.2s"
       ]
      },
      {
       "output_type": "stream",
       "stream": "stdout",
       "text": [
        "\n",
        "  3186  |    0.003971  |    0.005369  |     0.739616  |             |  9.2s"
       ]
      },
      {
       "output_type": "stream",
       "stream": "stdout",
       "text": [
        "\n",
        "  3187  |    0.003957  |    0.005387  |     0.734463  |             |  9.2s"
       ]
      },
      {
       "output_type": "stream",
       "stream": "stdout",
       "text": [
        "\n",
        "  3188  |    0.003929  |    0.005402  |     0.727331  |             |  9.2s"
       ]
      },
      {
       "output_type": "stream",
       "stream": "stdout",
       "text": [
        "\n",
        "  3189  |    0.003937  |    0.005365  |     0.733784  |             |  9.2s"
       ]
      },
      {
       "output_type": "stream",
       "stream": "stdout",
       "text": [
        "\n",
        "  3190  |    0.003959  |    0.005373  |     0.736878  |             |  9.2s"
       ]
      },
      {
       "output_type": "stream",
       "stream": "stdout",
       "text": [
        "\n",
        "  3191  |    0.003943  |    0.005355  |     0.736313  |             |  9.2s"
       ]
      },
      {
       "output_type": "stream",
       "stream": "stdout",
       "text": [
        "\n",
        "  3192  |    0.003985  |    0.005393  |     0.738960  |             |  9.2s"
       ]
      },
      {
       "output_type": "stream",
       "stream": "stdout",
       "text": [
        "\n",
        "  3193  |    0.003907  |    0.005392  |     0.724633  |             |  9.2s"
       ]
      },
      {
       "output_type": "stream",
       "stream": "stdout",
       "text": [
        "\n",
        "  3194  |    0.003968  |    0.005444  |     0.728930  |             |  9.2s"
       ]
      },
      {
       "output_type": "stream",
       "stream": "stdout",
       "text": [
        "\n",
        "  3195  |  \u001b[94m  0.003877\u001b[0m  |    0.005407  |     0.717111  |             |  9.2s"
       ]
      },
      {
       "output_type": "stream",
       "stream": "stdout",
       "text": [
        "\n",
        "  3196  |    0.003926  |    0.005383  |     0.729371  |             |  9.2s"
       ]
      },
      {
       "output_type": "stream",
       "stream": "stdout",
       "text": [
        "\n",
        "  3197  |    0.003889  |    0.005362  |     0.725271  |             |  9.2s"
       ]
      },
      {
       "output_type": "stream",
       "stream": "stdout",
       "text": [
        "\n",
        "  3198  |    0.003970  |    0.005391  |     0.736459  |             |  9.2s"
       ]
      },
      {
       "output_type": "stream",
       "stream": "stdout",
       "text": [
        "\n",
        "  3199  |    0.003886  |    0.005393  |     0.720533  |             |  9.2s"
       ]
      },
      {
       "output_type": "stream",
       "stream": "stdout",
       "text": [
        "\n",
        "  3200  |    0.003912  |    0.005411  |     0.723061  |             |  9.2s"
       ]
      },
      {
       "output_type": "stream",
       "stream": "stdout",
       "text": [
        "\n",
        "  3201  |    0.003974  |    0.005422  |     0.732953  |             |  9.2s"
       ]
      },
      {
       "output_type": "stream",
       "stream": "stdout",
       "text": [
        "\n",
        "  3202  |  \u001b[94m  0.003872\u001b[0m  |    0.005400  |     0.717078  |             |  9.2s"
       ]
      },
      {
       "output_type": "stream",
       "stream": "stdout",
       "text": [
        "\n",
        "  3203  |    0.003926  |    0.005382  |     0.729535  |             |  9.2s"
       ]
      },
      {
       "output_type": "stream",
       "stream": "stdout",
       "text": [
        "\n",
        "  3204  |    0.003964  |    0.005391  |     0.735433  |             |  9.2s"
       ]
      },
      {
       "output_type": "stream",
       "stream": "stdout",
       "text": [
        "\n",
        "  3205  |    0.003894  |    0.005372  |     0.724884  |             |  9.2s"
       ]
      },
      {
       "output_type": "stream",
       "stream": "stdout",
       "text": [
        "\n",
        "  3206  |    0.003922  |    0.005352  |     0.732821  |             |  9.2s"
       ]
      },
      {
       "output_type": "stream",
       "stream": "stdout",
       "text": [
        "\n",
        "  3207  |  \u001b[94m  0.003868\u001b[0m  |    0.005393  |     0.717270  |             |  9.2s"
       ]
      },
      {
       "output_type": "stream",
       "stream": "stdout",
       "text": [
        "\n",
        "  3208  |    0.003922  |    0.005383  |     0.728684  |             |  9.2s"
       ]
      },
      {
       "output_type": "stream",
       "stream": "stdout",
       "text": [
        "\n",
        "  3209  |    0.003896  |    0.005388  |     0.722971  |             |  9.2s"
       ]
      },
      {
       "output_type": "stream",
       "stream": "stdout",
       "text": [
        "\n",
        "  3210  |    0.003938  |    0.005339  |     0.737578  |             |  9.2s"
       ]
      },
      {
       "output_type": "stream",
       "stream": "stdout",
       "text": [
        "\n",
        "  3211  |    0.003934  |    0.005395  |     0.729147  |             |  9.2s"
       ]
      },
      {
       "output_type": "stream",
       "stream": "stdout",
       "text": [
        "\n",
        "  3212  |    0.003928  |    0.005384  |     0.729542  |             |  9.2s"
       ]
      },
      {
       "output_type": "stream",
       "stream": "stdout",
       "text": [
        "\n",
        "  3213  |    0.003920  |    0.005387  |     0.727772  |             |  9.2s"
       ]
      },
      {
       "output_type": "stream",
       "stream": "stdout",
       "text": [
        "\n",
        "  3214  |  \u001b[94m  0.003864\u001b[0m  |    0.005368  |     0.719884  |             |  9.2s"
       ]
      },
      {
       "output_type": "stream",
       "stream": "stdout",
       "text": [
        "\n",
        "  3215  |    0.003927  |    0.005352  |     0.733779  |             |  9.2s"
       ]
      },
      {
       "output_type": "stream",
       "stream": "stdout",
       "text": [
        "\n",
        "  3216  |    0.003882  |    0.005403  |     0.718461  |             |  9.2s"
       ]
      },
      {
       "output_type": "stream",
       "stream": "stdout",
       "text": [
        "\n",
        "  3217  |    0.003931  |    0.005402  |     0.727776  |             |  9.2s"
       ]
      },
      {
       "output_type": "stream",
       "stream": "stdout",
       "text": [
        "\n",
        "  3218  |    0.003935  |    0.005391  |     0.729880  |             |  9.2s"
       ]
      },
      {
       "output_type": "stream",
       "stream": "stdout",
       "text": [
        "\n",
        "  3219  |    0.003965  |    0.005372  |     0.738077  |             |  9.2s"
       ]
      },
      {
       "output_type": "stream",
       "stream": "stdout",
       "text": [
        "\n",
        "  3220  |    0.003873  |    0.005374  |     0.720685  |             |  9.2s"
       ]
      },
      {
       "output_type": "stream",
       "stream": "stdout",
       "text": [
        "\n",
        "  3221  |    0.003876  |    0.005358  |     0.723329  |             |  9.2s"
       ]
      },
      {
       "output_type": "stream",
       "stream": "stdout",
       "text": [
        "\n",
        "  3222  |    0.003895  |    0.005399  |     0.721483  |             |  9.2s"
       ]
      },
      {
       "output_type": "stream",
       "stream": "stdout",
       "text": [
        "\n",
        "  3223  |    0.003908  |    0.005355  |     0.729689  |             |  9.2s"
       ]
      },
      {
       "output_type": "stream",
       "stream": "stdout",
       "text": [
        "\n",
        "  3224  |    0.003931  |    0.005415  |     0.725919  |             |  9.2s"
       ]
      },
      {
       "output_type": "stream",
       "stream": "stdout",
       "text": [
        "\n",
        "  3225  |    0.003897  |    0.005387  |     0.723502  |             |  9.2s"
       ]
      },
      {
       "output_type": "stream",
       "stream": "stdout",
       "text": [
        "\n",
        "  3226  |    0.003919  |    0.005363  |     0.730766  |             |  9.2s"
       ]
      },
      {
       "output_type": "stream",
       "stream": "stdout",
       "text": [
        "\n",
        "  3227  |    0.003939  |    0.005381  |     0.732013  |             |  9.2s"
       ]
      },
      {
       "output_type": "stream",
       "stream": "stdout",
       "text": [
        "\n",
        "  3228  |    0.003920  |    0.005402  |     0.725656  |             |  9.2s"
       ]
      },
      {
       "output_type": "stream",
       "stream": "stdout",
       "text": [
        "\n",
        "  3229  |    0.003928  |    0.005415  |     0.725477  |             |  9.2s"
       ]
      },
      {
       "output_type": "stream",
       "stream": "stdout",
       "text": [
        "\n",
        "  3230  |    0.003881  |    0.005375  |     0.722005  |             |  9.2s"
       ]
      },
      {
       "output_type": "stream",
       "stream": "stdout",
       "text": [
        "\n",
        "  3231  |    0.003866  |    0.005371  |     0.719763  |             |  9.2s"
       ]
      },
      {
       "output_type": "stream",
       "stream": "stdout",
       "text": [
        "\n",
        "  3232  |    0.003950  |    0.005402  |     0.731276  |             |  9.2s"
       ]
      },
      {
       "output_type": "stream",
       "stream": "stdout",
       "text": [
        "\n",
        "  3233  |    0.003947  |    0.005364  |     0.735822  |             |  9.2s"
       ]
      },
      {
       "output_type": "stream",
       "stream": "stdout",
       "text": [
        "\n",
        "  3234  |    0.003931  |    0.005382  |     0.730332  |             |  9.2s"
       ]
      },
      {
       "output_type": "stream",
       "stream": "stdout",
       "text": [
        "\n",
        "  3235  |    0.003895  |    0.005380  |     0.723972  |             |  9.2s"
       ]
      },
      {
       "output_type": "stream",
       "stream": "stdout",
       "text": [
        "\n",
        "  3236  |    0.003890  |    0.005375  |     0.723713  |             |  9.2s"
       ]
      },
      {
       "output_type": "stream",
       "stream": "stdout",
       "text": [
        "\n",
        "  3237  |    0.003874  |    0.005365  |     0.722065  |             |  9.2s"
       ]
      },
      {
       "output_type": "stream",
       "stream": "stdout",
       "text": [
        "\n",
        "  3238  |  \u001b[94m  0.003861\u001b[0m  |    0.005415  |     0.713093  |             |  9.2s"
       ]
      },
      {
       "output_type": "stream",
       "stream": "stdout",
       "text": [
        "\n",
        "  3239  |    0.003946  |    0.005365  |     0.735578  |             |  9.2s"
       ]
      },
      {
       "output_type": "stream",
       "stream": "stdout",
       "text": [
        "\n",
        "  3240  |    0.003899  |    0.005393  |     0.723022  |             |  9.2s"
       ]
      },
      {
       "output_type": "stream",
       "stream": "stdout",
       "text": [
        "\n",
        "  3241  |    0.003882  |    0.005346  |     0.726140  |             |  9.2s"
       ]
      },
      {
       "output_type": "stream",
       "stream": "stdout",
       "text": [
        "\n",
        "  3242  |  \u001b[94m  0.003851\u001b[0m  |    0.005352  |     0.719527  |             |  9.2s"
       ]
      },
      {
       "output_type": "stream",
       "stream": "stdout",
       "text": [
        "\n",
        "  3243  |    0.003882  |    0.005393  |     0.719853  |             |  9.2s"
       ]
      },
      {
       "output_type": "stream",
       "stream": "stdout",
       "text": [
        "\n",
        "  3244  |    0.003949  |    0.005353  |     0.737607  |             |  9.2s"
       ]
      },
      {
       "output_type": "stream",
       "stream": "stdout",
       "text": [
        "\n",
        "  3245  |    0.003883  |    0.005401  |     0.718918  |             |  9.2s"
       ]
      },
      {
       "output_type": "stream",
       "stream": "stdout",
       "text": [
        "\n",
        "  3246  |    0.003931  |    0.005372  |     0.731818  |             |  9.2s"
       ]
      },
      {
       "output_type": "stream",
       "stream": "stdout",
       "text": [
        "\n",
        "  3247  |    0.003902  |    0.005371  |     0.726479  |             |  9.2s"
       ]
      },
      {
       "output_type": "stream",
       "stream": "stdout",
       "text": [
        "\n",
        "  3248  |    0.003898  |    0.005396  |     0.722404  |             |  9.2s"
       ]
      },
      {
       "output_type": "stream",
       "stream": "stdout",
       "text": [
        "\n",
        "  3249  |    0.003919  |    0.005335  |     0.734580  |             |  9.2s"
       ]
      },
      {
       "output_type": "stream",
       "stream": "stdout",
       "text": [
        "\n",
        "  3250  |    0.003902  |    0.005339  |     0.730720  |             |  9.2s"
       ]
      },
      {
       "output_type": "stream",
       "stream": "stdout",
       "text": [
        "\n",
        "  3251  |    0.003908  |    0.005374  |     0.727202  |             |  9.2s"
       ]
      },
      {
       "output_type": "stream",
       "stream": "stdout",
       "text": [
        "\n",
        "  3252  |  \u001b[94m  0.003842\u001b[0m  |    0.005390  |     0.712833  |             |  9.2s"
       ]
      },
      {
       "output_type": "stream",
       "stream": "stdout",
       "text": [
        "\n",
        "  3253  |    0.003874  |    0.005395  |     0.718000  |             |  9.2s"
       ]
      },
      {
       "output_type": "stream",
       "stream": "stdout",
       "text": [
        "\n",
        "  3254  |  \u001b[94m  0.003837\u001b[0m  |    0.005362  |     0.715530  |             |  9.2s"
       ]
      },
      {
       "output_type": "stream",
       "stream": "stdout",
       "text": [
        "\n",
        "  3255  |    0.003929  |    0.005343  |     0.735270  |             |  9.2s"
       ]
      },
      {
       "output_type": "stream",
       "stream": "stdout",
       "text": [
        "\n",
        "  3256  |    0.003866  |    0.005386  |     0.717714  |             |  9.2s"
       ]
      },
      {
       "output_type": "stream",
       "stream": "stdout",
       "text": [
        "\n",
        "  3257  |    0.003862  |    0.005403  |     0.714810  |             |  9.2s"
       ]
      },
      {
       "output_type": "stream",
       "stream": "stdout",
       "text": [
        "\n",
        "  3258  |    0.003966  |    0.005362  |     0.739647  |             |  9.2s"
       ]
      },
      {
       "output_type": "stream",
       "stream": "stdout",
       "text": [
        "\n",
        "  3259  |    0.003847  |    0.005387  |     0.713995  |             |  9.2s"
       ]
      },
      {
       "output_type": "stream",
       "stream": "stdout",
       "text": [
        "\n",
        "  3260  |  \u001b[94m  0.003836\u001b[0m  |    0.005367  |     0.714725  |             |  9.2s"
       ]
      },
      {
       "output_type": "stream",
       "stream": "stdout",
       "text": [
        "\n",
        "  3261  |    0.003936  |    0.005396  |     0.729479  |             |  9.2s"
       ]
      },
      {
       "output_type": "stream",
       "stream": "stdout",
       "text": [
        "\n",
        "  3262  |    0.003846  |    0.005374  |     0.715666  |             |  9.2s"
       ]
      },
      {
       "output_type": "stream",
       "stream": "stdout",
       "text": [
        "\n",
        "  3263  |    0.003844  |    0.005393  |     0.712774  |             |  9.2s"
       ]
      },
      {
       "output_type": "stream",
       "stream": "stdout",
       "text": [
        "\n",
        "  3264  |    0.003863  |    0.005382  |     0.717718  |             |  9.2s"
       ]
      },
      {
       "output_type": "stream",
       "stream": "stdout",
       "text": [
        "\n",
        "  3265  |    0.003858  |    0.005375  |     0.717715  |             |  9.2s"
       ]
      },
      {
       "output_type": "stream",
       "stream": "stdout",
       "text": [
        "\n",
        "  3266  |    0.003918  |    0.005350  |     0.732406  |             |  9.2s"
       ]
      },
      {
       "output_type": "stream",
       "stream": "stdout",
       "text": [
        "\n",
        "  3267  |    0.003912  |    0.005403  |     0.724062  |             |  9.2s"
       ]
      },
      {
       "output_type": "stream",
       "stream": "stdout",
       "text": [
        "\n",
        "  3268  |    0.003862  |    0.005340  |     0.723198  |             |  9.2s"
       ]
      },
      {
       "output_type": "stream",
       "stream": "stdout",
       "text": [
        "\n",
        "  3269  |    0.003889  |    0.005370  |     0.724122  |             |  9.2s"
       ]
      },
      {
       "output_type": "stream",
       "stream": "stdout",
       "text": [
        "\n",
        "  3270  |    0.003844  |    0.005382  |     0.714207  |             |  9.2s"
       ]
      },
      {
       "output_type": "stream",
       "stream": "stdout",
       "text": [
        "\n",
        "  3271  |    0.003862  |    0.005344  |     0.722725  |             |  9.2s"
       ]
      },
      {
       "output_type": "stream",
       "stream": "stdout",
       "text": [
        "\n",
        "  3272  |    0.003873  |    0.005362  |     0.722397  |             |  9.2s"
       ]
      },
      {
       "output_type": "stream",
       "stream": "stdout",
       "text": [
        "\n",
        "  3273  |    0.003841  |    0.005370  |     0.715267  |             |  9.2s"
       ]
      },
      {
       "output_type": "stream",
       "stream": "stdout",
       "text": [
        "\n",
        "  3274  |    0.003850  |    0.005364  |     0.717864  |             |  9.2s"
       ]
      },
      {
       "output_type": "stream",
       "stream": "stdout",
       "text": [
        "\n",
        "  3275  |    0.003874  |    0.005326  |     0.727343  |             |  9.2s"
       ]
      },
      {
       "output_type": "stream",
       "stream": "stdout",
       "text": [
        "\n",
        "  3276  |    0.003879  |    0.005381  |     0.720800  |             |  9.2s"
       ]
      },
      {
       "output_type": "stream",
       "stream": "stdout",
       "text": [
        "\n",
        "  3277  |    0.003848  |    0.005340  |     0.720518  |             |  9.2s"
       ]
      },
      {
       "output_type": "stream",
       "stream": "stdout",
       "text": [
        "\n",
        "  3278  |    0.003863  |    0.005366  |     0.719988  |             |  9.2s"
       ]
      },
      {
       "output_type": "stream",
       "stream": "stdout",
       "text": [
        "\n",
        "  3279  |    0.003877  |    0.005359  |     0.723370  |             |  9.2s"
       ]
      },
      {
       "output_type": "stream",
       "stream": "stdout",
       "text": [
        "\n",
        "  3280  |    0.003848  |    0.005362  |     0.717743  |             |  9.2s"
       ]
      },
      {
       "output_type": "stream",
       "stream": "stdout",
       "text": [
        "\n",
        "  3281  |    0.003916  |    0.005379  |     0.728053  |             |  9.2s"
       ]
      },
      {
       "output_type": "stream",
       "stream": "stdout",
       "text": [
        "\n",
        "  3282  |    0.003853  |    0.005326  |     0.723360  |             |  9.2s"
       ]
      },
      {
       "output_type": "stream",
       "stream": "stdout",
       "text": [
        "\n",
        "  3283  |    0.003871  |    0.005387  |     0.718628  |             |  9.2s"
       ]
      },
      {
       "output_type": "stream",
       "stream": "stdout",
       "text": [
        "\n",
        "  3284  |    0.003871  |    0.005333  |     0.725863  |             |  9.2s"
       ]
      },
      {
       "output_type": "stream",
       "stream": "stdout",
       "text": [
        "\n",
        "  3285  |  \u001b[94m  0.003820\u001b[0m  |    0.005355  |     0.713476  |             |  9.2s"
       ]
      },
      {
       "output_type": "stream",
       "stream": "stdout",
       "text": [
        "\n",
        "  3286  |    0.003854  |    0.005344  |     0.721142  |             |  9.2s"
       ]
      },
      {
       "output_type": "stream",
       "stream": "stdout",
       "text": [
        "\n",
        "  3287  |    0.003837  |    0.005359  |     0.716103  |             |  9.2s"
       ]
      },
      {
       "output_type": "stream",
       "stream": "stdout",
       "text": [
        "\n",
        "  3288  |    0.003854  |    0.005346  |     0.720785  |             |  9.2s"
       ]
      },
      {
       "output_type": "stream",
       "stream": "stdout",
       "text": [
        "\n",
        "  3289  |    0.003865  |    0.005352  |     0.722139  |             |  9.2s"
       ]
      },
      {
       "output_type": "stream",
       "stream": "stdout",
       "text": [
        "\n",
        "  3290  |  \u001b[94m  0.003816\u001b[0m  |    0.005364  |     0.711446  |             |  9.2s"
       ]
      },
      {
       "output_type": "stream",
       "stream": "stdout",
       "text": [
        "\n",
        "  3291  |  \u001b[94m  0.003813\u001b[0m  |    0.005403  |     0.705714  |             |  9.2s"
       ]
      },
      {
       "output_type": "stream",
       "stream": "stdout",
       "text": [
        "\n",
        "  3292  |    0.003825  |    0.005395  |     0.709009  |             |  9.2s"
       ]
      },
      {
       "output_type": "stream",
       "stream": "stdout",
       "text": [
        "\n",
        "  3293  |  \u001b[94m  0.003809\u001b[0m  |    0.005360  |     0.710697  |             |  9.2s"
       ]
      },
      {
       "output_type": "stream",
       "stream": "stdout",
       "text": [
        "\n",
        "  3294  |    0.003852  |    0.005345  |     0.720670  |             |  9.2s"
       ]
      },
      {
       "output_type": "stream",
       "stream": "stdout",
       "text": [
        "\n",
        "  3295  |    0.003819  |    0.005386  |     0.709165  |             |  9.2s"
       ]
      },
      {
       "output_type": "stream",
       "stream": "stdout",
       "text": [
        "\n",
        "  3296  |    0.003840  |    0.005394  |     0.711831  |             |  9.2s"
       ]
      },
      {
       "output_type": "stream",
       "stream": "stdout",
       "text": [
        "\n",
        "  3297  |    0.003863  |    0.005357  |     0.721018  |             |  9.2s"
       ]
      },
      {
       "output_type": "stream",
       "stream": "stdout",
       "text": [
        "\n",
        "  3298  |  \u001b[94m  0.003784\u001b[0m  |    0.005385  |     0.702573  |             |  9.2s"
       ]
      },
      {
       "output_type": "stream",
       "stream": "stdout",
       "text": [
        "\n",
        "  3299  |    0.003897  |    0.005392  |     0.722723  |             |  9.2s"
       ]
      },
      {
       "output_type": "stream",
       "stream": "stdout",
       "text": [
        "\n",
        "  3300  |    0.003861  |    0.005343  |     0.722556  |             |  9.2s"
       ]
      },
      {
       "output_type": "stream",
       "stream": "stdout",
       "text": [
        "\n",
        "  3301  |    0.003800  |    0.005366  |     0.708173  |             |  9.2s"
       ]
      },
      {
       "output_type": "stream",
       "stream": "stdout",
       "text": [
        "\n",
        "  3302  |    0.003872  |    0.005371  |     0.720834  |             |  9.2s"
       ]
      },
      {
       "output_type": "stream",
       "stream": "stdout",
       "text": [
        "\n",
        "  3303  |    0.003842  |    0.005327  |     0.721279  |             |  9.2s"
       ]
      },
      {
       "output_type": "stream",
       "stream": "stdout",
       "text": [
        "\n",
        "  3304  |    0.003831  |    0.005358  |     0.714906  |             |  9.2s"
       ]
      },
      {
       "output_type": "stream",
       "stream": "stdout",
       "text": [
        "\n",
        "  3305  |    0.003869  |    0.005336  |     0.725144  |             |  9.2s"
       ]
      },
      {
       "output_type": "stream",
       "stream": "stdout",
       "text": [
        "\n",
        "  3306  |    0.003833  |    0.005368  |     0.714125  |             |  9.2s"
       ]
      },
      {
       "output_type": "stream",
       "stream": "stdout",
       "text": [
        "\n",
        "  3307  |    0.003812  |    0.005355  |     0.711802  |             |  9.2s"
       ]
      },
      {
       "output_type": "stream",
       "stream": "stdout",
       "text": [
        "\n",
        "  3308  |    0.003877  |    0.005369  |     0.722080  |             |  9.2s"
       ]
      },
      {
       "output_type": "stream",
       "stream": "stdout",
       "text": [
        "\n",
        "  3309  |    0.003844  |    0.005371  |     0.715729  |             |  9.2s"
       ]
      },
      {
       "output_type": "stream",
       "stream": "stdout",
       "text": [
        "\n",
        "  3310  |    0.003863  |    0.005355  |     0.721489  |             |  9.2s"
       ]
      },
      {
       "output_type": "stream",
       "stream": "stdout",
       "text": [
        "\n",
        "  3311  |    0.003832  |  \u001b[32m  0.005318\u001b[0m  |     0.720562  |             |  9.2s"
       ]
      },
      {
       "output_type": "stream",
       "stream": "stdout",
       "text": [
        "\n",
        "  3312  |    0.003825  |    0.005320  |     0.718902  |             |  9.2s"
       ]
      },
      {
       "output_type": "stream",
       "stream": "stdout",
       "text": [
        "\n",
        "  3313  |    0.003801  |    0.005369  |     0.708053  |             |  9.2s"
       ]
      },
      {
       "output_type": "stream",
       "stream": "stdout",
       "text": [
        "\n",
        "  3314  |    0.003845  |    0.005367  |     0.716520  |             |  9.2s"
       ]
      },
      {
       "output_type": "stream",
       "stream": "stdout",
       "text": [
        "\n",
        "  3315  |    0.003835  |    0.005352  |     0.716544  |             |  9.2s"
       ]
      },
      {
       "output_type": "stream",
       "stream": "stdout",
       "text": [
        "\n",
        "  3316  |    0.003784  |    0.005347  |     0.707677  |             |  9.2s"
       ]
      },
      {
       "output_type": "stream",
       "stream": "stdout",
       "text": [
        "\n",
        "  3317  |    0.003804  |    0.005326  |     0.714208  |             |  9.2s"
       ]
      },
      {
       "output_type": "stream",
       "stream": "stdout",
       "text": [
        "\n",
        "  3318  |    0.003870  |    0.005377  |     0.719648  |             |  9.2s"
       ]
      },
      {
       "output_type": "stream",
       "stream": "stdout",
       "text": [
        "\n",
        "  3319  |    0.003855  |    0.005368  |     0.718166  |             |  9.2s"
       ]
      },
      {
       "output_type": "stream",
       "stream": "stdout",
       "text": [
        "\n",
        "  3320  |    0.003861  |    0.005333  |     0.723966  |             |  9.2s"
       ]
      },
      {
       "output_type": "stream",
       "stream": "stdout",
       "text": [
        "\n",
        "  3321  |    0.003807  |    0.005350  |     0.711598  |             |  9.2s"
       ]
      },
      {
       "output_type": "stream",
       "stream": "stdout",
       "text": [
        "\n",
        "  3322  |    0.003833  |    0.005353  |     0.715955  |             |  9.2s"
       ]
      },
      {
       "output_type": "stream",
       "stream": "stdout",
       "text": [
        "\n",
        "  3323  |    0.003819  |  \u001b[32m  0.005317\u001b[0m  |     0.718299  |             |  9.2s"
       ]
      },
      {
       "output_type": "stream",
       "stream": "stdout",
       "text": [
        "\n",
        "  3324  |  \u001b[94m  0.003765\u001b[0m  |    0.005345  |     0.704390  |             |  9.2s"
       ]
      },
      {
       "output_type": "stream",
       "stream": "stdout",
       "text": [
        "\n",
        "  3325  |    0.003825  |    0.005368  |     0.712500  |             |  9.2s"
       ]
      },
      {
       "output_type": "stream",
       "stream": "stdout",
       "text": [
        "\n",
        "  3326  |    0.003816  |    0.005328  |     0.716151  |             |  9.2s"
       ]
      },
      {
       "output_type": "stream",
       "stream": "stdout",
       "text": [
        "\n",
        "  3327  |    0.003855  |    0.005360  |     0.719201  |             |  9.2s"
       ]
      },
      {
       "output_type": "stream",
       "stream": "stdout",
       "text": [
        "\n",
        "  3328  |    0.003792  |  \u001b[32m  0.005317\u001b[0m  |     0.713291  |             |  9.2s"
       ]
      },
      {
       "output_type": "stream",
       "stream": "stdout",
       "text": [
        "\n",
        "  3329  |    0.003802  |    0.005360  |     0.709420  |             |  9.2s"
       ]
      },
      {
       "output_type": "stream",
       "stream": "stdout",
       "text": [
        "\n",
        "  3330  |    0.003876  |    0.005335  |     0.726530  |             |  9.2s"
       ]
      },
      {
       "output_type": "stream",
       "stream": "stdout",
       "text": [
        "\n",
        "  3331  |    0.003828  |    0.005340  |     0.716882  |             |  9.2s"
       ]
      },
      {
       "output_type": "stream",
       "stream": "stdout",
       "text": [
        "\n",
        "  3332  |    0.003779  |    0.005330  |     0.708952  |             |  9.2s"
       ]
      },
      {
       "output_type": "stream",
       "stream": "stdout",
       "text": [
        "\n",
        "  3333  |    0.003823  |    0.005353  |     0.714231  |             |  9.2s"
       ]
      },
      {
       "output_type": "stream",
       "stream": "stdout",
       "text": [
        "\n",
        "  3334  |    0.003844  |    0.005332  |     0.721005  |             |  9.2s"
       ]
      },
      {
       "output_type": "stream",
       "stream": "stdout",
       "text": [
        "\n",
        "  3335  |    0.003870  |    0.005327  |     0.726469  |             |  9.2s"
       ]
      },
      {
       "output_type": "stream",
       "stream": "stdout",
       "text": [
        "\n",
        "  3336  |    0.003876  |    0.005374  |     0.721272  |             |  9.2s"
       ]
      },
      {
       "output_type": "stream",
       "stream": "stdout",
       "text": [
        "\n",
        "  3337  |    0.003878  |    0.005353  |     0.724519  |             |  9.2s"
       ]
      },
      {
       "output_type": "stream",
       "stream": "stdout",
       "text": [
        "\n",
        "  3338  |    0.003810  |    0.005352  |     0.711890  |             |  9.2s"
       ]
      },
      {
       "output_type": "stream",
       "stream": "stdout",
       "text": [
        "\n",
        "  3339  |    0.003796  |    0.005346  |     0.709937  |             |  9.2s"
       ]
      },
      {
       "output_type": "stream",
       "stream": "stdout",
       "text": [
        "\n",
        "  3340  |    0.003789  |    0.005391  |     0.702908  |             |  9.2s"
       ]
      },
      {
       "output_type": "stream",
       "stream": "stdout",
       "text": [
        "\n",
        "  3341  |    0.003806  |    0.005341  |     0.712582  |             |  9.2s"
       ]
      },
      {
       "output_type": "stream",
       "stream": "stdout",
       "text": [
        "\n",
        "  3342  |    0.003775  |    0.005343  |     0.706502  |             |  9.2s"
       ]
      },
      {
       "output_type": "stream",
       "stream": "stdout",
       "text": [
        "\n",
        "  3343  |    0.003849  |    0.005343  |     0.720428  |             |  9.2s"
       ]
      },
      {
       "output_type": "stream",
       "stream": "stdout",
       "text": [
        "\n",
        "  3344  |    0.003801  |    0.005369  |     0.707931  |             |  9.2s"
       ]
      },
      {
       "output_type": "stream",
       "stream": "stdout",
       "text": [
        "\n",
        "  3345  |    0.003886  |    0.005353  |     0.725812  |             |  9.2s"
       ]
      },
      {
       "output_type": "stream",
       "stream": "stdout",
       "text": [
        "\n",
        "  3346  |    0.003827  |  \u001b[32m  0.005298\u001b[0m  |     0.722337  |             |  9.2s"
       ]
      },
      {
       "output_type": "stream",
       "stream": "stdout",
       "text": [
        "\n",
        "  3347  |    0.003833  |    0.005364  |     0.714654  |             |  9.2s"
       ]
      },
      {
       "output_type": "stream",
       "stream": "stdout",
       "text": [
        "\n",
        "  3348  |    0.003813  |    0.005327  |     0.715702  |             |  9.2s"
       ]
      },
      {
       "output_type": "stream",
       "stream": "stdout",
       "text": [
        "\n",
        "  3349  |    0.003849  |    0.005334  |     0.721629  |             |  9.2s"
       ]
      },
      {
       "output_type": "stream",
       "stream": "stdout",
       "text": [
        "\n",
        "  3350  |    0.003798  |    0.005329  |     0.712617  |             |  9.2s"
       ]
      },
      {
       "output_type": "stream",
       "stream": "stdout",
       "text": [
        "\n",
        "  3351  |    0.003821  |    0.005329  |     0.716968  |             |  9.2s"
       ]
      },
      {
       "output_type": "stream",
       "stream": "stdout",
       "text": [
        "\n",
        "  3352  |    0.003861  |    0.005350  |     0.721551  |             |  9.2s"
       ]
      },
      {
       "output_type": "stream",
       "stream": "stdout",
       "text": [
        "\n",
        "  3353  |    0.003833  |    0.005347  |     0.716941  |             |  9.2s"
       ]
      },
      {
       "output_type": "stream",
       "stream": "stdout",
       "text": [
        "\n",
        "  3354  |    0.003827  |    0.005341  |     0.716503  |             |  9.2s"
       ]
      },
      {
       "output_type": "stream",
       "stream": "stdout",
       "text": [
        "\n",
        "  3355  |    0.003771  |    0.005337  |     0.706491  |             |  9.2s"
       ]
      },
      {
       "output_type": "stream",
       "stream": "stdout",
       "text": [
        "\n",
        "  3356  |    0.003832  |    0.005353  |     0.715911  |             |  9.2s"
       ]
      },
      {
       "output_type": "stream",
       "stream": "stdout",
       "text": [
        "\n",
        "  3357  |    0.003814  |    0.005323  |     0.716606  |             |  9.2s"
       ]
      },
      {
       "output_type": "stream",
       "stream": "stdout",
       "text": [
        "\n",
        "  3358  |    0.003818  |    0.005351  |     0.713558  |             |  9.2s"
       ]
      },
      {
       "output_type": "stream",
       "stream": "stdout",
       "text": [
        "\n",
        "  3359  |    0.003798  |    0.005323  |     0.713519  |             |  9.2s"
       ]
      },
      {
       "output_type": "stream",
       "stream": "stdout",
       "text": [
        "\n",
        "  3360  |    0.003818  |    0.005348  |     0.713917  |             |  9.2s"
       ]
      },
      {
       "output_type": "stream",
       "stream": "stdout",
       "text": [
        "\n",
        "  3361  |    0.003849  |    0.005334  |     0.721568  |             |  9.2s"
       ]
      },
      {
       "output_type": "stream",
       "stream": "stdout",
       "text": [
        "\n",
        "  3362  |  \u001b[94m  0.003724\u001b[0m  |    0.005317  |     0.700494  |             |  9.2s"
       ]
      },
      {
       "output_type": "stream",
       "stream": "stdout",
       "text": [
        "\n",
        "  3363  |    0.003758  |    0.005325  |     0.705726  |             |  9.2s"
       ]
      },
      {
       "output_type": "stream",
       "stream": "stdout",
       "text": [
        "\n",
        "  3364  |    0.003823  |    0.005308  |     0.720214  |             |  9.2s"
       ]
      },
      {
       "output_type": "stream",
       "stream": "stdout",
       "text": [
        "\n",
        "  3365  |    0.003801  |    0.005329  |     0.713371  |             |  9.2s"
       ]
      },
      {
       "output_type": "stream",
       "stream": "stdout",
       "text": [
        "\n",
        "  3366  |    0.003772  |    0.005349  |     0.705179  |             |  9.2s"
       ]
      },
      {
       "output_type": "stream",
       "stream": "stdout",
       "text": [
        "\n",
        "  3367  |    0.003755  |    0.005337  |     0.703480  |             |  9.2s"
       ]
      },
      {
       "output_type": "stream",
       "stream": "stdout",
       "text": [
        "\n",
        "  3368  |    0.003819  |    0.005370  |     0.711110  |             |  9.2s"
       ]
      },
      {
       "output_type": "stream",
       "stream": "stdout",
       "text": [
        "\n",
        "  3369  |    0.003820  |    0.005341  |     0.715258  |             |  9.2s"
       ]
      },
      {
       "output_type": "stream",
       "stream": "stdout",
       "text": [
        "\n",
        "  3370  |    0.003802  |    0.005339  |     0.712051  |             |  9.2s"
       ]
      },
      {
       "output_type": "stream",
       "stream": "stdout",
       "text": [
        "\n",
        "  3371  |    0.003797  |    0.005323  |     0.713364  |             |  9.2s"
       ]
      },
      {
       "output_type": "stream",
       "stream": "stdout",
       "text": [
        "\n",
        "  3372  |    0.003733  |    0.005345  |     0.698432  |             |  9.2s"
       ]
      },
      {
       "output_type": "stream",
       "stream": "stdout",
       "text": [
        "\n",
        "  3373  |    0.003839  |    0.005369  |     0.715043  |             |  9.2s"
       ]
      },
      {
       "output_type": "stream",
       "stream": "stdout",
       "text": [
        "\n",
        "  3374  |    0.003787  |    0.005382  |     0.703608  |             |  9.2s"
       ]
      },
      {
       "output_type": "stream",
       "stream": "stdout",
       "text": [
        "\n",
        "  3375  |    0.003780  |    0.005331  |     0.709001  |             |  9.2s"
       ]
      },
      {
       "output_type": "stream",
       "stream": "stdout",
       "text": [
        "\n",
        "  3376  |    0.003836  |    0.005327  |     0.720126  |             |  9.2s"
       ]
      },
      {
       "output_type": "stream",
       "stream": "stdout",
       "text": [
        "\n",
        "  3377  |    0.003744  |    0.005354  |     0.699321  |             |  9.2s"
       ]
      },
      {
       "output_type": "stream",
       "stream": "stdout",
       "text": [
        "\n",
        "  3378  |    0.003801  |    0.005346  |     0.710876  |             |  9.2s"
       ]
      },
      {
       "output_type": "stream",
       "stream": "stdout",
       "text": [
        "\n",
        "  3379  |    0.003777  |    0.005343  |     0.707015  |             |  9.2s"
       ]
      },
      {
       "output_type": "stream",
       "stream": "stdout",
       "text": [
        "\n",
        "  3380  |    0.003789  |    0.005379  |     0.704415  |             |  9.2s"
       ]
      },
      {
       "output_type": "stream",
       "stream": "stdout",
       "text": [
        "\n",
        "  3381  |    0.003797  |    0.005379  |     0.705926  |             |  9.2s"
       ]
      },
      {
       "output_type": "stream",
       "stream": "stdout",
       "text": [
        "\n",
        "  3382  |    0.003818  |    0.005339  |     0.715041  |             |  9.2s"
       ]
      },
      {
       "output_type": "stream",
       "stream": "stdout",
       "text": [
        "\n",
        "  3383  |    0.003818  |    0.005322  |     0.717415  |             |  9.2s"
       ]
      },
      {
       "output_type": "stream",
       "stream": "stdout",
       "text": [
        "\n",
        "  3384  |    0.003767  |    0.005324  |     0.707573  |             |  9.2s"
       ]
      },
      {
       "output_type": "stream",
       "stream": "stdout",
       "text": [
        "\n",
        "  3385  |    0.003768  |    0.005316  |     0.708790  |             |  9.2s"
       ]
      },
      {
       "output_type": "stream",
       "stream": "stdout",
       "text": [
        "\n",
        "  3386  |    0.003822  |    0.005326  |     0.717552  |             |  9.2s"
       ]
      },
      {
       "output_type": "stream",
       "stream": "stdout",
       "text": [
        "\n",
        "  3387  |    0.003839  |    0.005348  |     0.717809  |             |  9.2s"
       ]
      },
      {
       "output_type": "stream",
       "stream": "stdout",
       "text": [
        "\n",
        "  3388  |    0.003764  |    0.005308  |     0.709120  |             |  9.2s"
       ]
      },
      {
       "output_type": "stream",
       "stream": "stdout",
       "text": [
        "\n",
        "  3389  |    0.003823  |    0.005324  |     0.718190  |             |  9.2s"
       ]
      },
      {
       "output_type": "stream",
       "stream": "stdout",
       "text": [
        "\n",
        "  3390  |    0.003727  |    0.005352  |     0.696318  |             |  9.2s"
       ]
      },
      {
       "output_type": "stream",
       "stream": "stdout",
       "text": [
        "\n",
        "  3391  |  \u001b[94m  0.003650\u001b[0m  |    0.005303  |     0.688283  |             |  9.2s"
       ]
      },
      {
       "output_type": "stream",
       "stream": "stdout",
       "text": [
        "\n",
        "  3392  |    0.003758  |    0.005318  |     0.706617  |             |  9.2s"
       ]
      },
      {
       "output_type": "stream",
       "stream": "stdout",
       "text": [
        "\n",
        "  3393  |    0.003763  |    0.005358  |     0.702364  |             |  9.2s"
       ]
      },
      {
       "output_type": "stream",
       "stream": "stdout",
       "text": [
        "\n",
        "  3394  |    0.003790  |    0.005358  |     0.707424  |             |  9.2s"
       ]
      },
      {
       "output_type": "stream",
       "stream": "stdout",
       "text": [
        "\n",
        "  3395  |    0.003767  |    0.005349  |     0.704178  |             |  9.2s"
       ]
      },
      {
       "output_type": "stream",
       "stream": "stdout",
       "text": [
        "\n",
        "  3396  |    0.003767  |    0.005328  |     0.707026  |             |  9.2s"
       ]
      },
      {
       "output_type": "stream",
       "stream": "stdout",
       "text": [
        "\n",
        "  3397  |    0.003777  |    0.005339  |     0.707437  |             |  9.2s"
       ]
      },
      {
       "output_type": "stream",
       "stream": "stdout",
       "text": [
        "\n",
        "  3398  |    0.003768  |    0.005325  |     0.707589  |             |  9.2s"
       ]
      },
      {
       "output_type": "stream",
       "stream": "stdout",
       "text": [
        "\n",
        "  3399  |    0.003755  |    0.005336  |     0.703787  |             |  9.2s"
       ]
      },
      {
       "output_type": "stream",
       "stream": "stdout",
       "text": [
        "\n",
        "  3400  |    0.003792  |    0.005338  |     0.710427  |             |  9.2s"
       ]
      },
      {
       "output_type": "stream",
       "stream": "stdout",
       "text": [
        "\n",
        "  3401  |    0.003810  |    0.005336  |     0.713989  |             |  9.2s"
       ]
      },
      {
       "output_type": "stream",
       "stream": "stdout",
       "text": [
        "\n",
        "  3402  |    0.003828  |    0.005315  |     0.720157  |             |  9.2s"
       ]
      },
      {
       "output_type": "stream",
       "stream": "stdout",
       "text": [
        "\n",
        "  3403  |    0.003773  |    0.005328  |     0.708176  |             |  9.2s"
       ]
      },
      {
       "output_type": "stream",
       "stream": "stdout",
       "text": [
        "\n",
        "  3404  |    0.003809  |    0.005307  |     0.717696  |             |  9.2s"
       ]
      },
      {
       "output_type": "stream",
       "stream": "stdout",
       "text": [
        "\n",
        "  3405  |    0.003735  |    0.005332  |     0.700547  |             |  9.2s"
       ]
      },
      {
       "output_type": "stream",
       "stream": "stdout",
       "text": [
        "\n",
        "  3406  |    0.003668  |    0.005355  |     0.684960  |             |  9.2s"
       ]
      },
      {
       "output_type": "stream",
       "stream": "stdout",
       "text": [
        "\n",
        "  3407  |    0.003768  |    0.005321  |     0.708024  |             |  9.2s"
       ]
      },
      {
       "output_type": "stream",
       "stream": "stdout",
       "text": [
        "\n",
        "  3408  |    0.003716  |    0.005333  |     0.696837  |             |  9.2s"
       ]
      },
      {
       "output_type": "stream",
       "stream": "stdout",
       "text": [
        "\n",
        "  3409  |    0.003753  |    0.005355  |     0.700775  |             |  9.2s"
       ]
      },
      {
       "output_type": "stream",
       "stream": "stdout",
       "text": [
        "\n",
        "  3410  |    0.003707  |    0.005340  |     0.694109  |             |  9.2s"
       ]
      },
      {
       "output_type": "stream",
       "stream": "stdout",
       "text": [
        "\n",
        "  3411  |    0.003773  |  \u001b[32m  0.005296\u001b[0m  |     0.712413  |             |  9.2s"
       ]
      },
      {
       "output_type": "stream",
       "stream": "stdout",
       "text": [
        "\n",
        "  3412  |    0.003725  |    0.005300  |     0.702798  |             |  9.2s"
       ]
      },
      {
       "output_type": "stream",
       "stream": "stdout",
       "text": [
        "\n",
        "  3413  |    0.003669  |    0.005325  |     0.689007  |             |  9.2s"
       ]
      },
      {
       "output_type": "stream",
       "stream": "stdout",
       "text": [
        "\n",
        "  3414  |    0.003791  |    0.005352  |     0.708306  |             |  9.2s"
       ]
      },
      {
       "output_type": "stream",
       "stream": "stdout",
       "text": [
        "\n",
        "  3415  |    0.003757  |    0.005305  |     0.708269  |             |  9.2s"
       ]
      },
      {
       "output_type": "stream",
       "stream": "stdout",
       "text": [
        "\n",
        "  3416  |    0.003781  |    0.005311  |     0.711838  |             |  9.2s"
       ]
      },
      {
       "output_type": "stream",
       "stream": "stdout",
       "text": [
        "\n",
        "  3417  |    0.003783  |    0.005341  |     0.708273  |             |  9.2s"
       ]
      },
      {
       "output_type": "stream",
       "stream": "stdout",
       "text": [
        "\n",
        "  3418  |    0.003735  |    0.005350  |     0.698179  |             |  9.2s"
       ]
      },
      {
       "output_type": "stream",
       "stream": "stdout",
       "text": [
        "\n",
        "  3419  |    0.003750  |    0.005327  |     0.703877  |             |  9.2s"
       ]
      },
      {
       "output_type": "stream",
       "stream": "stdout",
       "text": [
        "\n",
        "  3420  |    0.003712  |    0.005331  |     0.696293  |             |  9.2s"
       ]
      },
      {
       "output_type": "stream",
       "stream": "stdout",
       "text": [
        "\n",
        "  3421  |    0.003776  |    0.005327  |     0.708768  |             |  9.2s"
       ]
      },
      {
       "output_type": "stream",
       "stream": "stdout",
       "text": [
        "\n",
        "  3422  |    0.003748  |    0.005370  |     0.697957  |             |  9.2s"
       ]
      },
      {
       "output_type": "stream",
       "stream": "stdout",
       "text": [
        "\n",
        "  3423  |    0.003719  |    0.005323  |     0.698710  |             |  9.2s"
       ]
      },
      {
       "output_type": "stream",
       "stream": "stdout",
       "text": [
        "\n",
        "  3424  |    0.003744  |    0.005319  |     0.703939  |             |  9.2s"
       ]
      },
      {
       "output_type": "stream",
       "stream": "stdout",
       "text": [
        "\n",
        "  3425  |    0.003718  |    0.005351  |     0.694797  |             |  9.2s"
       ]
      },
      {
       "output_type": "stream",
       "stream": "stdout",
       "text": [
        "\n",
        "  3426  |    0.003742  |    0.005328  |     0.702303  |             |  9.2s"
       ]
      },
      {
       "output_type": "stream",
       "stream": "stdout",
       "text": [
        "\n",
        "  3427  |    0.003791  |    0.005342  |     0.709563  |             |  9.2s"
       ]
      },
      {
       "output_type": "stream",
       "stream": "stdout",
       "text": [
        "\n",
        "  3428  |    0.003732  |    0.005323  |     0.701232  |             |  9.2s"
       ]
      },
      {
       "output_type": "stream",
       "stream": "stdout",
       "text": [
        "\n",
        "  3429  |    0.003778  |    0.005325  |     0.709606  |             |  9.2s"
       ]
      },
      {
       "output_type": "stream",
       "stream": "stdout",
       "text": [
        "\n",
        "  3430  |    0.003755  |    0.005331  |     0.704440  |             |  9.2s"
       ]
      },
      {
       "output_type": "stream",
       "stream": "stdout",
       "text": [
        "\n",
        "  3431  |    0.003763  |    0.005316  |     0.707859  |             |  9.2s"
       ]
      },
      {
       "output_type": "stream",
       "stream": "stdout",
       "text": [
        "\n",
        "  3432  |    0.003742  |    0.005312  |     0.704512  |             |  9.2s"
       ]
      },
      {
       "output_type": "stream",
       "stream": "stdout",
       "text": [
        "\n",
        "  3433  |    0.003711  |    0.005338  |     0.695149  |             |  9.2s"
       ]
      },
      {
       "output_type": "stream",
       "stream": "stdout",
       "text": [
        "\n",
        "  3434  |    0.003655  |    0.005322  |     0.686857  |             |  9.2s"
       ]
      },
      {
       "output_type": "stream",
       "stream": "stdout",
       "text": [
        "\n",
        "  3435  |    0.003747  |    0.005348  |     0.700675  |             |  9.2s"
       ]
      },
      {
       "output_type": "stream",
       "stream": "stdout",
       "text": [
        "\n",
        "  3436  |    0.003732  |    0.005345  |     0.698274  |             |  9.2s"
       ]
      },
      {
       "output_type": "stream",
       "stream": "stdout",
       "text": [
        "\n",
        "  3437  |    0.003760  |    0.005352  |     0.702501  |             |  9.2s"
       ]
      },
      {
       "output_type": "stream",
       "stream": "stdout",
       "text": [
        "\n",
        "  3438  |    0.003738  |    0.005329  |     0.701361  |             |  9.2s"
       ]
      },
      {
       "output_type": "stream",
       "stream": "stdout",
       "text": [
        "\n",
        "  3439  |    0.003736  |    0.005355  |     0.697528  |             |  9.2s"
       ]
      },
      {
       "output_type": "stream",
       "stream": "stdout",
       "text": [
        "\n",
        "  3440  |    0.003703  |    0.005341  |     0.693280  |             |  9.2s"
       ]
      },
      {
       "output_type": "stream",
       "stream": "stdout",
       "text": [
        "\n",
        "  3441  |    0.003703  |    0.005346  |     0.692798  |             |  9.2s"
       ]
      },
      {
       "output_type": "stream",
       "stream": "stdout",
       "text": [
        "\n",
        "  3442  |    0.003656  |    0.005306  |     0.689008  |             |  9.2s"
       ]
      },
      {
       "output_type": "stream",
       "stream": "stdout",
       "text": [
        "\n",
        "  3443  |    0.003728  |    0.005328  |     0.699687  |             |  9.2s"
       ]
      },
      {
       "output_type": "stream",
       "stream": "stdout",
       "text": [
        "\n",
        "  3444  |    0.003727  |    0.005329  |     0.699332  |             |  9.2s"
       ]
      },
      {
       "output_type": "stream",
       "stream": "stdout",
       "text": [
        "\n",
        "  3445  |    0.003795  |  \u001b[32m  0.005276\u001b[0m  |     0.719311  |             |  9.2s"
       ]
      },
      {
       "output_type": "stream",
       "stream": "stdout",
       "text": [
        "\n",
        "  3446  |    0.003765  |    0.005337  |     0.705576  |             |  9.2s"
       ]
      },
      {
       "output_type": "stream",
       "stream": "stdout",
       "text": [
        "\n",
        "  3447  |    0.003733  |    0.005349  |     0.697945  |             |  9.2s"
       ]
      },
      {
       "output_type": "stream",
       "stream": "stdout",
       "text": [
        "\n",
        "  3448  |    0.003834  |    0.005366  |     0.714580  |             |  9.2s"
       ]
      },
      {
       "output_type": "stream",
       "stream": "stdout",
       "text": [
        "\n",
        "  3449  |    0.003725  |    0.005337  |     0.697965  |             |  9.2s"
       ]
      },
      {
       "output_type": "stream",
       "stream": "stdout",
       "text": [
        "\n",
        "  3450  |    0.003741  |    0.005337  |     0.700927  |             |  9.2s"
       ]
      },
      {
       "output_type": "stream",
       "stream": "stdout",
       "text": [
        "\n",
        "  3451  |    0.003768  |    0.005332  |     0.706586  |             |  9.2s"
       ]
      },
      {
       "output_type": "stream",
       "stream": "stdout",
       "text": [
        "\n",
        "  3452  |    0.003764  |    0.005323  |     0.707141  |             |  9.2s"
       ]
      },
      {
       "output_type": "stream",
       "stream": "stdout",
       "text": [
        "\n",
        "  3453  |    0.003740  |    0.005315  |     0.703594  |             |  9.2s"
       ]
      },
      {
       "output_type": "stream",
       "stream": "stdout",
       "text": [
        "\n",
        "  3454  |    0.003702  |    0.005321  |     0.695696  |             |  9.2s"
       ]
      },
      {
       "output_type": "stream",
       "stream": "stdout",
       "text": [
        "\n",
        "  3455  |    0.003704  |    0.005301  |     0.698769  |             |  9.2s"
       ]
      },
      {
       "output_type": "stream",
       "stream": "stdout",
       "text": [
        "\n",
        "  3456  |    0.003717  |    0.005324  |     0.698118  |             |  9.2s"
       ]
      },
      {
       "output_type": "stream",
       "stream": "stdout",
       "text": [
        "\n",
        "  3457  |    0.003692  |    0.005315  |     0.694599  |             |  9.2s"
       ]
      },
      {
       "output_type": "stream",
       "stream": "stdout",
       "text": [
        "\n",
        "  3458  |    0.003720  |    0.005300  |     0.701925  |             |  9.2s"
       ]
      },
      {
       "output_type": "stream",
       "stream": "stdout",
       "text": [
        "\n",
        "  3459  |    0.003675  |    0.005315  |     0.691478  |             |  9.2s"
       ]
      },
      {
       "output_type": "stream",
       "stream": "stdout",
       "text": [
        "\n",
        "  3460  |    0.003723  |    0.005360  |     0.694536  |             |  9.2s"
       ]
      },
      {
       "output_type": "stream",
       "stream": "stdout",
       "text": [
        "\n",
        "  3461  |    0.003720  |    0.005319  |     0.699461  |             |  9.2s"
       ]
      },
      {
       "output_type": "stream",
       "stream": "stdout",
       "text": [
        "\n",
        "  3462  |    0.003699  |    0.005345  |     0.692163  |             |  9.2s"
       ]
      },
      {
       "output_type": "stream",
       "stream": "stdout",
       "text": [
        "\n",
        "  3463  |    0.003729  |    0.005360  |     0.695576  |             |  9.2s"
       ]
      },
      {
       "output_type": "stream",
       "stream": "stdout",
       "text": [
        "\n",
        "  3464  |    0.003678  |    0.005334  |     0.689500  |             |  9.2s"
       ]
      },
      {
       "output_type": "stream",
       "stream": "stdout",
       "text": [
        "\n",
        "  3465  |    0.003726  |    0.005337  |     0.698168  |             |  9.2s"
       ]
      },
      {
       "output_type": "stream",
       "stream": "stdout",
       "text": [
        "\n",
        "  3466  |    0.003755  |    0.005345  |     0.702429  |             |  9.2s"
       ]
      },
      {
       "output_type": "stream",
       "stream": "stdout",
       "text": [
        "\n",
        "  3467  |    0.003707  |    0.005381  |     0.688843  |             |  9.2s"
       ]
      },
      {
       "output_type": "stream",
       "stream": "stdout",
       "text": [
        "\n",
        "  3468  |    0.003731  |    0.005305  |     0.703296  |             |  9.2s"
       ]
      },
      {
       "output_type": "stream",
       "stream": "stdout",
       "text": [
        "\n",
        "  3469  |    0.003763  |    0.005329  |     0.706083  |             |  9.2s"
       ]
      },
      {
       "output_type": "stream",
       "stream": "stdout",
       "text": [
        "\n",
        "  3470  |    0.003734  |    0.005353  |     0.697582  |             |  9.2s"
       ]
      },
      {
       "output_type": "stream",
       "stream": "stdout",
       "text": [
        "\n",
        "  3471  |    0.003738  |    0.005330  |     0.701344  |             |  9.2s"
       ]
      },
      {
       "output_type": "stream",
       "stream": "stdout",
       "text": [
        "\n",
        "  3472  |    0.003734  |    0.005344  |     0.698636  |             |  9.2s"
       ]
      },
      {
       "output_type": "stream",
       "stream": "stdout",
       "text": [
        "\n",
        "  3473  |  \u001b[94m  0.003637\u001b[0m  |    0.005359  |     0.678581  |             |  9.2s"
       ]
      },
      {
       "output_type": "stream",
       "stream": "stdout",
       "text": [
        "\n",
        "  3474  |    0.003769  |    0.005345  |     0.705126  |             |  9.2s"
       ]
      },
      {
       "output_type": "stream",
       "stream": "stdout",
       "text": [
        "\n",
        "  3475  |    0.003760  |    0.005335  |     0.704914  |             |  9.2s"
       ]
      },
      {
       "output_type": "stream",
       "stream": "stdout",
       "text": [
        "\n",
        "  3476  |    0.003746  |    0.005312  |     0.705301  |             |  9.2s"
       ]
      },
      {
       "output_type": "stream",
       "stream": "stdout",
       "text": [
        "\n",
        "  3477  |    0.003694  |    0.005333  |     0.692668  |             |  9.2s"
       ]
      },
      {
       "output_type": "stream",
       "stream": "stdout",
       "text": [
        "\n",
        "  3478  |    0.003803  |    0.005318  |     0.715078  |             |  9.2s"
       ]
      },
      {
       "output_type": "stream",
       "stream": "stdout",
       "text": [
        "\n",
        "  3479  |    0.003715  |    0.005338  |     0.695981  |             |  9.2s"
       ]
      },
      {
       "output_type": "stream",
       "stream": "stdout",
       "text": [
        "\n",
        "  3480  |    0.003725  |    0.005329  |     0.699042  |             |  9.2s"
       ]
      },
      {
       "output_type": "stream",
       "stream": "stdout",
       "text": [
        "\n",
        "  3481  |    0.003683  |    0.005303  |     0.694611  |             |  9.2s"
       ]
      },
      {
       "output_type": "stream",
       "stream": "stdout",
       "text": [
        "\n",
        "  3482  |    0.003687  |    0.005322  |     0.692920  |             |  9.2s"
       ]
      },
      {
       "output_type": "stream",
       "stream": "stdout",
       "text": [
        "\n",
        "  3483  |    0.003686  |    0.005316  |     0.693459  |             |  9.2s"
       ]
      },
      {
       "output_type": "stream",
       "stream": "stdout",
       "text": [
        "\n",
        "  3484  |    0.003750  |    0.005367  |     0.698655  |             |  9.2s"
       ]
      },
      {
       "output_type": "stream",
       "stream": "stdout",
       "text": [
        "\n",
        "  3485  |    0.003734  |    0.005331  |     0.700526  |             |  9.2s"
       ]
      },
      {
       "output_type": "stream",
       "stream": "stdout",
       "text": [
        "\n",
        "  3486  |    0.003686  |    0.005348  |     0.689269  |             |  9.2s"
       ]
      },
      {
       "output_type": "stream",
       "stream": "stdout",
       "text": [
        "\n",
        "  3487  |    0.003658  |    0.005313  |     0.688578  |             |  9.2s"
       ]
      },
      {
       "output_type": "stream",
       "stream": "stdout",
       "text": [
        "\n",
        "  3488  |  \u001b[94m  0.003613\u001b[0m  |    0.005355  |     0.674645  |             |  9.2s"
       ]
      },
      {
       "output_type": "stream",
       "stream": "stdout",
       "text": [
        "\n",
        "  3489  |    0.003716  |    0.005300  |     0.701063  |             |  9.2s"
       ]
      },
      {
       "output_type": "stream",
       "stream": "stdout",
       "text": [
        "\n",
        "  3490  |    0.003719  |    0.005319  |     0.699245  |             |  9.2s"
       ]
      },
      {
       "output_type": "stream",
       "stream": "stdout",
       "text": [
        "\n",
        "  3491  |    0.003665  |    0.005322  |     0.688573  |             |  9.2s"
       ]
      },
      {
       "output_type": "stream",
       "stream": "stdout",
       "text": [
        "\n",
        "  3492  |    0.003694  |    0.005326  |     0.693539  |             |  9.2s"
       ]
      },
      {
       "output_type": "stream",
       "stream": "stdout",
       "text": [
        "\n",
        "  3493  |    0.003692  |    0.005292  |     0.697658  |             |  9.2s"
       ]
      },
      {
       "output_type": "stream",
       "stream": "stdout",
       "text": [
        "\n",
        "  3494  |    0.003679  |    0.005310  |     0.692976  |             |  9.2s"
       ]
      },
      {
       "output_type": "stream",
       "stream": "stdout",
       "text": [
        "\n",
        "  3495  |    0.003689  |    0.005315  |     0.694003  |             |  9.2s"
       ]
      },
      {
       "output_type": "stream",
       "stream": "stdout",
       "text": [
        "\n",
        "  3496  |    0.003665  |    0.005295  |     0.692123  |             |  9.2s"
       ]
      },
      {
       "output_type": "stream",
       "stream": "stdout",
       "text": [
        "\n",
        "  3497  |    0.003645  |    0.005305  |     0.687183  |             |  9.2s"
       ]
      },
      {
       "output_type": "stream",
       "stream": "stdout",
       "text": [
        "\n",
        "  3498  |    0.003711  |    0.005345  |     0.694261  |             |  9.2s"
       ]
      },
      {
       "output_type": "stream",
       "stream": "stdout",
       "text": [
        "\n",
        "  3499  |    0.003663  |    0.005308  |     0.690021  |             |  9.2s"
       ]
      },
      {
       "output_type": "stream",
       "stream": "stdout",
       "text": [
        "\n",
        "  3500  |    0.003628  |    0.005321  |     0.681824  |             |  9.2s"
       ]
      },
      {
       "output_type": "stream",
       "stream": "stdout",
       "text": [
        "\n",
        "  3501  |    0.003726  |    0.005287  |     0.704733  |             |  9.2s"
       ]
      },
      {
       "output_type": "stream",
       "stream": "stdout",
       "text": [
        "\n",
        "  3502  |    0.003665  |    0.005319  |     0.689071  |             |  9.2s"
       ]
      },
      {
       "output_type": "stream",
       "stream": "stdout",
       "text": [
        "\n",
        "  3503  |    0.003718  |    0.005321  |     0.698846  |             |  9.2s"
       ]
      },
      {
       "output_type": "stream",
       "stream": "stdout",
       "text": [
        "\n",
        "  3504  |    0.003740  |    0.005331  |     0.701601  |             |  9.2s"
       ]
      },
      {
       "output_type": "stream",
       "stream": "stdout",
       "text": [
        "\n",
        "  3505  |    0.003713  |    0.005303  |     0.700258  |             |  9.2s"
       ]
      },
      {
       "output_type": "stream",
       "stream": "stdout",
       "text": [
        "\n",
        "  3506  |    0.003739  |    0.005329  |     0.701599  |             |  9.2s"
       ]
      },
      {
       "output_type": "stream",
       "stream": "stdout",
       "text": [
        "\n",
        "  3507  |    0.003745  |    0.005334  |     0.702113  |             |  9.2s"
       ]
      },
      {
       "output_type": "stream",
       "stream": "stdout",
       "text": [
        "\n",
        "  3508  |    0.003754  |    0.005320  |     0.705581  |             |  9.2s"
       ]
      },
      {
       "output_type": "stream",
       "stream": "stdout",
       "text": [
        "\n",
        "  3509  |    0.003698  |    0.005341  |     0.692483  |             |  9.2s"
       ]
      },
      {
       "output_type": "stream",
       "stream": "stdout",
       "text": [
        "\n",
        "  3510  |    0.003661  |    0.005330  |     0.686999  |             |  9.2s"
       ]
      },
      {
       "output_type": "stream",
       "stream": "stdout",
       "text": [
        "\n",
        "  3511  |    0.003725  |    0.005350  |     0.696203  |             |  9.2s"
       ]
      },
      {
       "output_type": "stream",
       "stream": "stdout",
       "text": [
        "\n",
        "  3512  |    0.003654  |    0.005308  |     0.688455  |             |  9.2s"
       ]
      },
      {
       "output_type": "stream",
       "stream": "stdout",
       "text": [
        "\n",
        "  3513  |    0.003680  |    0.005359  |     0.686647  |             |  9.2s"
       ]
      },
      {
       "output_type": "stream",
       "stream": "stdout",
       "text": [
        "\n",
        "  3514  |    0.003767  |    0.005353  |     0.703678  |             |  9.2s"
       ]
      },
      {
       "output_type": "stream",
       "stream": "stdout",
       "text": [
        "\n",
        "  3515  |    0.003733  |    0.005358  |     0.696661  |             |  9.2s"
       ]
      },
      {
       "output_type": "stream",
       "stream": "stdout",
       "text": [
        "\n",
        "  3516  |    0.003766  |    0.005303  |     0.710111  |             |  9.2s"
       ]
      },
      {
       "output_type": "stream",
       "stream": "stdout",
       "text": [
        "\n",
        "  3517  |    0.003640  |    0.005344  |     0.681124  |             |  9.2s"
       ]
      },
      {
       "output_type": "stream",
       "stream": "stdout",
       "text": [
        "\n",
        "  3518  |    0.003709  |    0.005328  |     0.696145  |             |  9.2s"
       ]
      },
      {
       "output_type": "stream",
       "stream": "stdout",
       "text": [
        "\n",
        "  3519  |    0.003650  |    0.005338  |     0.683738  |             |  9.2s"
       ]
      },
      {
       "output_type": "stream",
       "stream": "stdout",
       "text": [
        "\n",
        "  3520  |    0.003734  |    0.005331  |     0.700449  |             |  9.2s"
       ]
      },
      {
       "output_type": "stream",
       "stream": "stdout",
       "text": [
        "\n",
        "  3521  |    0.003668  |    0.005355  |     0.685025  |             |  9.2s"
       ]
      },
      {
       "output_type": "stream",
       "stream": "stdout",
       "text": [
        "\n",
        "  3522  |    0.003732  |    0.005337  |     0.699256  |             |  9.2s"
       ]
      },
      {
       "output_type": "stream",
       "stream": "stdout",
       "text": [
        "\n",
        "  3523  |    0.003660  |    0.005343  |     0.685109  |             |  9.2s"
       ]
      },
      {
       "output_type": "stream",
       "stream": "stdout",
       "text": [
        "\n",
        "  3524  |    0.003649  |    0.005313  |     0.686813  |             |  9.2s"
       ]
      },
      {
       "output_type": "stream",
       "stream": "stdout",
       "text": [
        "\n",
        "  3525  |    0.003706  |    0.005338  |     0.694281  |             |  9.2s"
       ]
      },
      {
       "output_type": "stream",
       "stream": "stdout",
       "text": [
        "\n",
        "  3526  |    0.003635  |    0.005361  |     0.678057  |             |  9.2s"
       ]
      },
      {
       "output_type": "stream",
       "stream": "stdout",
       "text": [
        "\n",
        "  3527  |    0.003647  |    0.005357  |     0.680895  |             |  9.2s"
       ]
      },
      {
       "output_type": "stream",
       "stream": "stdout",
       "text": [
        "\n",
        "  3528  |    0.003703  |    0.005325  |     0.695357  |             |  9.2s"
       ]
      },
      {
       "output_type": "stream",
       "stream": "stdout",
       "text": [
        "\n",
        "  3529  |    0.003670  |    0.005340  |     0.687333  |             |  9.2s"
       ]
      },
      {
       "output_type": "stream",
       "stream": "stdout",
       "text": [
        "\n",
        "  3530  |    0.003704  |    0.005312  |     0.697358  |             |  9.2s"
       ]
      },
      {
       "output_type": "stream",
       "stream": "stdout",
       "text": [
        "\n",
        "  3531  |    0.003644  |    0.005329  |     0.683854  |             |  9.2s"
       ]
      },
      {
       "output_type": "stream",
       "stream": "stdout",
       "text": [
        "\n",
        "  3532  |    0.003669  |    0.005325  |     0.689064  |             |  9.2s"
       ]
      },
      {
       "output_type": "stream",
       "stream": "stdout",
       "text": [
        "\n",
        "  3533  |    0.003675  |    0.005314  |     0.691472  |             |  9.2s"
       ]
      },
      {
       "output_type": "stream",
       "stream": "stdout",
       "text": [
        "\n",
        "  3534  |    0.003685  |    0.005348  |     0.689095  |             |  9.2s"
       ]
      },
      {
       "output_type": "stream",
       "stream": "stdout",
       "text": [
        "\n",
        "  3535  |    0.003691  |    0.005357  |     0.689072  |             |  9.2s"
       ]
      },
      {
       "output_type": "stream",
       "stream": "stdout",
       "text": [
        "\n",
        "  3536  |    0.003695  |    0.005300  |     0.697199  |             |  9.2s"
       ]
      },
      {
       "output_type": "stream",
       "stream": "stdout",
       "text": [
        "\n",
        "  3537  |    0.003627  |    0.005350  |     0.678060  |             |  9.2s"
       ]
      },
      {
       "output_type": "stream",
       "stream": "stdout",
       "text": [
        "\n",
        "  3538  |    0.003650  |    0.005333  |     0.684473  |             |  9.2s"
       ]
      },
      {
       "output_type": "stream",
       "stream": "stdout",
       "text": [
        "\n",
        "  3539  |    0.003669  |    0.005312  |     0.690682  |             |  9.2s"
       ]
      },
      {
       "output_type": "stream",
       "stream": "stdout",
       "text": [
        "\n",
        "  3540  |    0.003695  |    0.005309  |     0.696062  |             |  9.2s"
       ]
      },
      {
       "output_type": "stream",
       "stream": "stdout",
       "text": [
        "\n",
        "  3541  |    0.003634  |    0.005312  |     0.684180  |             |  9.2s"
       ]
      },
      {
       "output_type": "stream",
       "stream": "stdout",
       "text": [
        "\n",
        "  3542  |    0.003636  |    0.005330  |     0.682106  |             |  9.2s"
       ]
      },
      {
       "output_type": "stream",
       "stream": "stdout",
       "text": [
        "\n",
        "  3543  |    0.003696  |    0.005319  |     0.694782  |             |  9.2s"
       ]
      },
      {
       "output_type": "stream",
       "stream": "stdout",
       "text": [
        "\n",
        "  3544  |    0.003645  |    0.005297  |     0.688171  |             |  9.2s"
       ]
      },
      {
       "output_type": "stream",
       "stream": "stdout",
       "text": [
        "\n",
        "  3545  |    0.003656  |    0.005318  |     0.687612  |             |  9.2s"
       ]
      },
      {
       "output_type": "stream",
       "stream": "stdout",
       "text": [
        "\n",
        "  3546  |    0.003633  |    0.005345  |     0.679633  |             |  9.2s"
       ]
      },
      {
       "output_type": "stream",
       "stream": "stdout",
       "text": [
        "\n",
        "  3547  |    0.003666  |    0.005335  |     0.687062  |             |  9.2s"
       ]
      },
      {
       "output_type": "stream",
       "stream": "stdout",
       "text": [
        "\n",
        "  3548  |    0.003620  |    0.005341  |     0.677795  |             |  9.2s"
       ]
      },
      {
       "output_type": "stream",
       "stream": "stdout",
       "text": [
        "\n",
        "  3549  |    0.003678  |    0.005342  |     0.688570  |             |  9.2s"
       ]
      },
      {
       "output_type": "stream",
       "stream": "stdout",
       "text": [
        "\n",
        "  3550  |    0.003617  |    0.005338  |     0.677553  |             |  9.2s"
       ]
      },
      {
       "output_type": "stream",
       "stream": "stdout",
       "text": [
        "\n",
        "  3551  |    0.003644  |    0.005299  |     0.687678  |             |  9.2s"
       ]
      },
      {
       "output_type": "stream",
       "stream": "stdout",
       "text": [
        "\n",
        "  3552  |    0.003641  |    0.005324  |     0.683924  |             |  9.2s"
       ]
      },
      {
       "output_type": "stream",
       "stream": "stdout",
       "text": [
        "\n",
        "  3553  |    0.003639  |    0.005357  |     0.679188  |             |  9.2s"
       ]
      },
      {
       "output_type": "stream",
       "stream": "stdout",
       "text": [
        "\n",
        "  3554  |    0.003632  |    0.005319  |     0.682750  |             |  9.2s"
       ]
      },
      {
       "output_type": "stream",
       "stream": "stdout",
       "text": [
        "\n",
        "  3555  |    0.003667  |    0.005290  |     0.693203  |             |  9.2s"
       ]
      },
      {
       "output_type": "stream",
       "stream": "stdout",
       "text": [
        "\n",
        "  3556  |    0.003690  |    0.005330  |     0.692315  |             |  9.2s"
       ]
      },
      {
       "output_type": "stream",
       "stream": "stdout",
       "text": [
        "\n",
        "  3557  |    0.003620  |    0.005327  |     0.679536  |             |  9.2s"
       ]
      },
      {
       "output_type": "stream",
       "stream": "stdout",
       "text": [
        "\n",
        "  3558  |    0.003649  |    0.005357  |     0.681129  |             |  9.2s"
       ]
      },
      {
       "output_type": "stream",
       "stream": "stdout",
       "text": [
        "\n",
        "  3559  |    0.003614  |    0.005334  |     0.677435  |             |  9.2s"
       ]
      },
      {
       "output_type": "stream",
       "stream": "stdout",
       "text": [
        "\n",
        "  3560  |    0.003619  |    0.005277  |     0.685675  |             |  9.2s"
       ]
      },
      {
       "output_type": "stream",
       "stream": "stdout",
       "text": [
        "\n",
        "  3561  |    0.003663  |    0.005318  |     0.688794  |             |  9.2s"
       ]
      },
      {
       "output_type": "stream",
       "stream": "stdout",
       "text": [
        "\n",
        "  3562  |    0.003654  |    0.005304  |     0.688890  |             |  9.2s"
       ]
      },
      {
       "output_type": "stream",
       "stream": "stdout",
       "text": [
        "\n",
        "  3563  |    0.003641  |    0.005358  |     0.679601  |             |  9.2s"
       ]
      },
      {
       "output_type": "stream",
       "stream": "stdout",
       "text": [
        "\n",
        "  3564  |    0.003648  |    0.005316  |     0.686248  |             |  9.2s"
       ]
      },
      {
       "output_type": "stream",
       "stream": "stdout",
       "text": [
        "\n",
        "  3565  |    0.003681  |    0.005343  |     0.689029  |             |  9.2s"
       ]
      },
      {
       "output_type": "stream",
       "stream": "stdout",
       "text": [
        "\n",
        "  3566  |    0.003620  |    0.005333  |     0.678904  |             |  9.2s"
       ]
      },
      {
       "output_type": "stream",
       "stream": "stdout",
       "text": [
        "\n",
        "  3567  |  \u001b[94m  0.003561\u001b[0m  |    0.005295  |     0.672534  |             |  9.2s"
       ]
      },
      {
       "output_type": "stream",
       "stream": "stdout",
       "text": [
        "\n",
        "  3568  |    0.003633  |    0.005346  |     0.679508  |             |  9.2s"
       ]
      },
      {
       "output_type": "stream",
       "stream": "stdout",
       "text": [
        "\n",
        "  3569  |    0.003706  |    0.005339  |     0.694203  |             |  9.2s"
       ]
      },
      {
       "output_type": "stream",
       "stream": "stdout",
       "text": [
        "\n",
        "  3570  |    0.003674  |    0.005361  |     0.685291  |             |  9.2s"
       ]
      },
      {
       "output_type": "stream",
       "stream": "stdout",
       "text": [
        "\n",
        "  3571  |    0.003600  |    0.005323  |     0.676392  |             |  9.2s"
       ]
      },
      {
       "output_type": "stream",
       "stream": "stdout",
       "text": [
        "\n",
        "  3572  |    0.003610  |    0.005342  |     0.675811  |             |  9.2s"
       ]
      },
      {
       "output_type": "stream",
       "stream": "stdout",
       "text": [
        "\n",
        "  3573  |    0.003664  |    0.005368  |     0.682553  |             |  9.2s"
       ]
      },
      {
       "output_type": "stream",
       "stream": "stdout",
       "text": [
        "\n",
        "  3574  |    0.003696  |    0.005323  |     0.694379  |             |  9.2s"
       ]
      },
      {
       "output_type": "stream",
       "stream": "stdout",
       "text": [
        "\n",
        "  3575  |    0.003628  |    0.005298  |     0.684852  |             |  9.2s"
       ]
      },
      {
       "output_type": "stream",
       "stream": "stdout",
       "text": [
        "\n",
        "  3576  |    0.003680  |    0.005350  |     0.687785  |             |  9.2s"
       ]
      },
      {
       "output_type": "stream",
       "stream": "stdout",
       "text": [
        "\n",
        "  3577  |    0.003658  |    0.005351  |     0.683683  |             |  9.2s"
       ]
      },
      {
       "output_type": "stream",
       "stream": "stdout",
       "text": [
        "\n",
        "  3578  |    0.003605  |    0.005286  |     0.682020  |             |  9.2s"
       ]
      },
      {
       "output_type": "stream",
       "stream": "stdout",
       "text": [
        "\n",
        "  3579  |    0.003602  |    0.005294  |     0.680313  |             |  9.2s"
       ]
      },
      {
       "output_type": "stream",
       "stream": "stdout",
       "text": [
        "\n",
        "  3580  |    0.003666  |    0.005299  |     0.691794  |             |  9.2s"
       ]
      },
      {
       "output_type": "stream",
       "stream": "stdout",
       "text": [
        "\n",
        "  3581  |    0.003571  |  \u001b[32m  0.005269\u001b[0m  |     0.677851  |             |  9.2s"
       ]
      },
      {
       "output_type": "stream",
       "stream": "stdout",
       "text": [
        "\n",
        "  3582  |    0.003652  |    0.005288  |     0.690717  |             |  9.2s"
       ]
      },
      {
       "output_type": "stream",
       "stream": "stdout",
       "text": [
        "\n",
        "  3583  |    0.003635  |    0.005293  |     0.686718  |             |  9.2s"
       ]
      },
      {
       "output_type": "stream",
       "stream": "stdout",
       "text": [
        "\n",
        "  3584  |    0.003598  |    0.005311  |     0.677412  |             |  9.2s"
       ]
      },
      {
       "output_type": "stream",
       "stream": "stdout",
       "text": [
        "\n",
        "  3585  |    0.003630  |    0.005295  |     0.685513  |             |  9.2s"
       ]
      },
      {
       "output_type": "stream",
       "stream": "stdout",
       "text": [
        "\n",
        "  3586  |    0.003641  |    0.005313  |     0.685319  |             |  9.2s"
       ]
      },
      {
       "output_type": "stream",
       "stream": "stdout",
       "text": [
        "\n",
        "  3587  |    0.003652  |    0.005292  |     0.689968  |             |  9.2s"
       ]
      },
      {
       "output_type": "stream",
       "stream": "stdout",
       "text": [
        "\n",
        "  3588  |    0.003602  |    0.005316  |     0.677577  |             |  9.2s"
       ]
      },
      {
       "output_type": "stream",
       "stream": "stdout",
       "text": [
        "\n",
        "  3589  |    0.003677  |    0.005338  |     0.688822  |             |  9.2s"
       ]
      },
      {
       "output_type": "stream",
       "stream": "stdout",
       "text": [
        "\n",
        "  3590  |    0.003591  |    0.005304  |     0.676984  |             |  9.2s"
       ]
      },
      {
       "output_type": "stream",
       "stream": "stdout",
       "text": [
        "\n",
        "  3591  |    0.003580  |    0.005306  |     0.674670  |             |  9.2s"
       ]
      },
      {
       "output_type": "stream",
       "stream": "stdout",
       "text": [
        "\n",
        "  3592  |  \u001b[94m  0.003556\u001b[0m  |    0.005343  |     0.665591  |             |  9.2s"
       ]
      },
      {
       "output_type": "stream",
       "stream": "stdout",
       "text": [
        "\n",
        "  3593  |    0.003583  |    0.005325  |     0.672843  |             |  9.2s"
       ]
      },
      {
       "output_type": "stream",
       "stream": "stdout",
       "text": [
        "\n",
        "  3594  |    0.003577  |    0.005283  |     0.677143  |             |  9.2s"
       ]
      },
      {
       "output_type": "stream",
       "stream": "stdout",
       "text": [
        "\n",
        "  3595  |    0.003636  |    0.005298  |     0.686291  |             |  9.2s"
       ]
      },
      {
       "output_type": "stream",
       "stream": "stdout",
       "text": [
        "\n",
        "  3596  |    0.003565  |    0.005318  |     0.670367  |             |  9.2s"
       ]
      },
      {
       "output_type": "stream",
       "stream": "stdout",
       "text": [
        "\n",
        "  3597  |    0.003649  |    0.005329  |     0.684708  |             |  9.2s"
       ]
      },
      {
       "output_type": "stream",
       "stream": "stdout",
       "text": [
        "\n",
        "  3598  |    0.003618  |    0.005346  |     0.676670  |             |  9.2s"
       ]
      },
      {
       "output_type": "stream",
       "stream": "stdout",
       "text": [
        "\n",
        "  3599  |    0.003610  |    0.005305  |     0.680454  |             |  9.2s"
       ]
      },
      {
       "output_type": "stream",
       "stream": "stdout",
       "text": [
        "\n",
        "  3600  |    0.003590  |    0.005314  |     0.675634  |             |  9.2s"
       ]
      },
      {
       "output_type": "stream",
       "stream": "stdout",
       "text": [
        "\n",
        "  3601  |    0.003686  |    0.005315  |     0.693590  |             |  9.2s"
       ]
      },
      {
       "output_type": "stream",
       "stream": "stdout",
       "text": [
        "\n",
        "  3602  |    0.003655  |    0.005304  |     0.689121  |             |  9.2s"
       ]
      },
      {
       "output_type": "stream",
       "stream": "stdout",
       "text": [
        "\n",
        "  3603  |    0.003591  |    0.005290  |     0.678799  |             |  9.2s"
       ]
      },
      {
       "output_type": "stream",
       "stream": "stdout",
       "text": [
        "\n",
        "  3604  |    0.003622  |    0.005335  |     0.679000  |             |  9.2s"
       ]
      },
      {
       "output_type": "stream",
       "stream": "stdout",
       "text": [
        "\n",
        "  3605  |    0.003627  |    0.005291  |     0.685528  |             |  9.2s"
       ]
      },
      {
       "output_type": "stream",
       "stream": "stdout",
       "text": [
        "\n",
        "  3606  |    0.003597  |    0.005317  |     0.676493  |             |  9.3s"
       ]
      },
      {
       "output_type": "stream",
       "stream": "stdout",
       "text": [
        "\n",
        "  3607  |    0.003662  |    0.005316  |     0.688832  |             |  9.4s"
       ]
      },
      {
       "output_type": "stream",
       "stream": "stdout",
       "text": [
        "\n",
        "  3608  |    0.003609  |    0.005307  |     0.679951  |             |  9.2s"
       ]
      },
      {
       "output_type": "stream",
       "stream": "stdout",
       "text": [
        "\n",
        "  3609  |    0.003605  |    0.005320  |     0.677551  |             |  9.2s"
       ]
      },
      {
       "output_type": "stream",
       "stream": "stdout",
       "text": [
        "\n",
        "  3610  |    0.003605  |    0.005295  |     0.680903  |             |  9.2s"
       ]
      },
      {
       "output_type": "stream",
       "stream": "stdout",
       "text": [
        "\n",
        "  3611  |    0.003634  |    0.005310  |     0.684265  |             |  9.3s"
       ]
      },
      {
       "output_type": "stream",
       "stream": "stdout",
       "text": [
        "\n",
        "  3612  |    0.003603  |    0.005288  |     0.681231  |             |  9.2s"
       ]
      },
      {
       "output_type": "stream",
       "stream": "stdout",
       "text": [
        "\n",
        "  3613  |    0.003623  |    0.005311  |     0.682116  |             |  9.2s"
       ]
      },
      {
       "output_type": "stream",
       "stream": "stdout",
       "text": [
        "\n",
        "  3614  |    0.003580  |    0.005272  |     0.679122  |             |  9.5s"
       ]
      },
      {
       "output_type": "stream",
       "stream": "stdout",
       "text": [
        "\n",
        "  3615  |    0.003579  |    0.005350  |     0.668923  |             |  9.6s"
       ]
      },
      {
       "output_type": "stream",
       "stream": "stdout",
       "text": [
        "\n",
        "  3616  |    0.003611  |    0.005330  |     0.677563  |             |  9.6s"
       ]
      },
      {
       "output_type": "stream",
       "stream": "stdout",
       "text": [
        "\n",
        "  3617  |    0.003628  |    0.005329  |     0.680809  |             |  9.7s"
       ]
      },
      {
       "output_type": "stream",
       "stream": "stdout",
       "text": [
        "\n",
        "  3618  |    0.003609  |    0.005342  |     0.675517  |             |  9.6s"
       ]
      },
      {
       "output_type": "stream",
       "stream": "stdout",
       "text": [
        "\n",
        "  3619  |    0.003640  |    0.005351  |     0.680258  |             |  9.6s"
       ]
      },
      {
       "output_type": "stream",
       "stream": "stdout",
       "text": [
        "\n",
        "  3620  |    0.003653  |    0.005332  |     0.685098  |             |  9.6s"
       ]
      },
      {
       "output_type": "stream",
       "stream": "stdout",
       "text": [
        "\n",
        "  3621  |    0.003573  |    0.005308  |     0.673133  |             |  9.6s"
       ]
      },
      {
       "output_type": "stream",
       "stream": "stdout",
       "text": [
        "\n",
        "  3622  |    0.003572  |    0.005303  |     0.673674  |             |  9.7s"
       ]
      },
      {
       "output_type": "stream",
       "stream": "stdout",
       "text": [
        "\n",
        "  3623  |    0.003663  |    0.005309  |     0.690007  |             |  9.6s"
       ]
      },
      {
       "output_type": "stream",
       "stream": "stdout",
       "text": [
        "\n",
        "  3624  |    0.003668  |    0.005310  |     0.690705  |             |  9.6s"
       ]
      },
      {
       "output_type": "stream",
       "stream": "stdout",
       "text": [
        "\n",
        "  3625  |  \u001b[94m  0.003552\u001b[0m  |    0.005328  |     0.666709  |             |  9.6s"
       ]
      },
      {
       "output_type": "stream",
       "stream": "stdout",
       "text": [
        "\n",
        "  3626  |    0.003611  |    0.005329  |     0.677516  |             |  9.6s"
       ]
      },
      {
       "output_type": "stream",
       "stream": "stdout",
       "text": [
        "\n",
        "  3627  |    0.003607  |    0.005311  |     0.679269  |             |  9.6s"
       ]
      },
      {
       "output_type": "stream",
       "stream": "stdout",
       "text": [
        "\n",
        "  3628  |    0.003606  |    0.005299  |     0.680446  |             |  9.6s"
       ]
      },
      {
       "output_type": "stream",
       "stream": "stdout",
       "text": [
        "\n",
        "  3629  |    0.003587  |    0.005318  |     0.674477  |             |  9.6s"
       ]
      },
      {
       "output_type": "stream",
       "stream": "stdout",
       "text": [
        "\n",
        "  3630  |  \u001b[94m  0.003535\u001b[0m  |    0.005302  |     0.666669  |             |  9.6s"
       ]
      },
      {
       "output_type": "stream",
       "stream": "stdout",
       "text": [
        "\n",
        "  3631  |    0.003573  |    0.005339  |     0.669170  |             |  9.6s"
       ]
      },
      {
       "output_type": "stream",
       "stream": "stdout",
       "text": [
        "\n",
        "  3632  |    0.003604  |    0.005290  |     0.681245  |             |  9.7s"
       ]
      },
      {
       "output_type": "stream",
       "stream": "stdout",
       "text": [
        "\n",
        "  3633  |    0.003605  |    0.005355  |     0.673269  |             |  9.7s"
       ]
      },
      {
       "output_type": "stream",
       "stream": "stdout",
       "text": [
        "\n",
        "  3634  |    0.003573  |    0.005296  |     0.674642  |             |  9.6s"
       ]
      },
      {
       "output_type": "stream",
       "stream": "stdout",
       "text": [
        "\n",
        "  3635  |    0.003588  |    0.005332  |     0.672964  |             |  9.4s"
       ]
      },
      {
       "output_type": "stream",
       "stream": "stdout",
       "text": [
        "\n",
        "  3636  |    0.003579  |    0.005300  |     0.675281  |             |  9.3s"
       ]
      },
      {
       "output_type": "stream",
       "stream": "stdout",
       "text": [
        "\n",
        "  3637  |    0.003563  |    0.005319  |     0.669932  |             |  9.2s"
       ]
      },
      {
       "output_type": "stream",
       "stream": "stdout",
       "text": [
        "\n",
        "  3638  |    0.003565  |    0.005287  |     0.674237  |             |  9.2s"
       ]
      },
      {
       "output_type": "stream",
       "stream": "stdout",
       "text": [
        "\n",
        "  3639  |    0.003558  |    0.005295  |     0.672017  |             |  9.2s"
       ]
      },
      {
       "output_type": "stream",
       "stream": "stdout",
       "text": [
        "\n",
        "  3640  |    0.003575  |    0.005283  |     0.676744  |             |  9.2s"
       ]
      },
      {
       "output_type": "stream",
       "stream": "stdout",
       "text": [
        "\n",
        "  3641  |    0.003585  |    0.005299  |     0.676543  |             |  9.2s"
       ]
      },
      {
       "output_type": "stream",
       "stream": "stdout",
       "text": [
        "\n",
        "  3642  |    0.003616  |    0.005270  |     0.686234  |             |  9.2s"
       ]
      },
      {
       "output_type": "stream",
       "stream": "stdout",
       "text": [
        "\n",
        "  3643  |    0.003652  |    0.005311  |     0.687596  |             |  9.3s"
       ]
      },
      {
       "output_type": "stream",
       "stream": "stdout",
       "text": [
        "\n",
        "  3644  |    0.003546  |    0.005315  |     0.667255  |             |  9.2s"
       ]
      },
      {
       "output_type": "stream",
       "stream": "stdout",
       "text": [
        "\n",
        "  3645  |    0.003545  |    0.005312  |     0.667433  |             |  9.2s"
       ]
      },
      {
       "output_type": "stream",
       "stream": "stdout",
       "text": [
        "\n",
        "  3646  |    0.003562  |  \u001b[32m  0.005260\u001b[0m  |     0.677225  |             |  9.2s"
       ]
      },
      {
       "output_type": "stream",
       "stream": "stdout",
       "text": [
        "\n",
        "  3647  |    0.003626  |    0.005316  |     0.682130  |             |  9.2s"
       ]
      },
      {
       "output_type": "stream",
       "stream": "stdout",
       "text": [
        "\n",
        "  3648  |    0.003625  |    0.005299  |     0.684174  |             |  9.2s"
       ]
      },
      {
       "output_type": "stream",
       "stream": "stdout",
       "text": [
        "\n",
        "  3649  |    0.003575  |    0.005297  |     0.674951  |             |  9.3s"
       ]
      },
      {
       "output_type": "stream",
       "stream": "stdout",
       "text": [
        "\n",
        "  3650  |    0.003609  |    0.005309  |     0.679834  |             |  9.2s"
       ]
      },
      {
       "output_type": "stream",
       "stream": "stdout",
       "text": [
        "\n",
        "  3651  |  \u001b[94m  0.003530\u001b[0m  |    0.005298  |     0.666324  |             |  9.2s"
       ]
      },
      {
       "output_type": "stream",
       "stream": "stdout",
       "text": [
        "\n",
        "  3652  |    0.003590  |    0.005308  |     0.676305  |             |  9.3s"
       ]
      },
      {
       "output_type": "stream",
       "stream": "stdout",
       "text": [
        "\n",
        "  3653  |    0.003565  |    0.005309  |     0.671454  |             |  9.6s"
       ]
      },
      {
       "output_type": "stream",
       "stream": "stdout",
       "text": [
        "\n",
        "  3654  |    0.003604  |    0.005299  |     0.680080  |             |  9.6s"
       ]
      },
      {
       "output_type": "stream",
       "stream": "stdout",
       "text": [
        "\n",
        "  3655  |    0.003616  |    0.005320  |     0.679656  |             |  9.6s"
       ]
      },
      {
       "output_type": "stream",
       "stream": "stdout",
       "text": [
        "\n",
        "  3656  |    0.003583  |    0.005289  |     0.677452  |             |  9.7s"
       ]
      },
      {
       "output_type": "stream",
       "stream": "stdout",
       "text": [
        "\n",
        "  3657  |    0.003580  |    0.005319  |     0.673010  |             |  9.3s"
       ]
      },
      {
       "output_type": "stream",
       "stream": "stdout",
       "text": [
        "\n",
        "  3658  |    0.003591  |    0.005287  |     0.679167  |             |  9.2s"
       ]
      },
      {
       "output_type": "stream",
       "stream": "stdout",
       "text": [
        "\n",
        "  3659  |    0.003543  |    0.005324  |     0.665492  |             |  9.2s"
       ]
      },
      {
       "output_type": "stream",
       "stream": "stdout",
       "text": [
        "\n",
        "  3660  |    0.003531  |    0.005293  |     0.667055  |             |  9.2s"
       ]
      },
      {
       "output_type": "stream",
       "stream": "stdout",
       "text": [
        "\n",
        "  3661  |    0.003567  |    0.005335  |     0.668646  |             |  9.2s"
       ]
      },
      {
       "output_type": "stream",
       "stream": "stdout",
       "text": [
        "\n",
        "  3662  |    0.003560  |    0.005324  |     0.668629  |             |  9.3s"
       ]
      },
      {
       "output_type": "stream",
       "stream": "stdout",
       "text": [
        "\n",
        "  3663  |    0.003563  |    0.005294  |     0.673078  |             |  9.5s"
       ]
      },
      {
       "output_type": "stream",
       "stream": "stdout",
       "text": [
        "\n",
        "  3664  |    0.003578  |    0.005319  |     0.672628  |             |  9.5s"
       ]
      },
      {
       "output_type": "stream",
       "stream": "stdout",
       "text": [
        "\n",
        "  3665  |    0.003563  |    0.005327  |     0.668811  |             |  9.5s"
       ]
      },
      {
       "output_type": "stream",
       "stream": "stdout",
       "text": [
        "\n",
        "  3666  |    0.003554  |    0.005324  |     0.667585  |             |  9.5s"
       ]
      },
      {
       "output_type": "stream",
       "stream": "stdout",
       "text": [
        "\n",
        "  3667  |    0.003636  |    0.005327  |     0.682513  |             |  9.2s"
       ]
      },
      {
       "output_type": "stream",
       "stream": "stdout",
       "text": [
        "\n",
        "  3668  |    0.003583  |    0.005300  |     0.675996  |             |  9.3s"
       ]
      },
      {
       "output_type": "stream",
       "stream": "stdout",
       "text": [
        "\n",
        "  3669  |    0.003653  |    0.005308  |     0.688264  |             |  9.4s"
       ]
      },
      {
       "output_type": "stream",
       "stream": "stdout",
       "text": [
        "\n",
        "  3670  |    0.003560  |    0.005318  |     0.669291  |             |  9.4s"
       ]
      },
      {
       "output_type": "stream",
       "stream": "stdout",
       "text": [
        "\n",
        "  3671  |    0.003571  |    0.005289  |     0.675181  |             |  9.4s"
       ]
      },
      {
       "output_type": "stream",
       "stream": "stdout",
       "text": [
        "\n",
        "  3672  |    0.003570  |    0.005315  |     0.671594  |             |  9.4s"
       ]
      },
      {
       "output_type": "stream",
       "stream": "stdout",
       "text": [
        "\n",
        "  3673  |    0.003575  |    0.005302  |     0.674200  |             |  9.4s"
       ]
      },
      {
       "output_type": "stream",
       "stream": "stdout",
       "text": [
        "\n",
        "  3674  |    0.003534  |    0.005364  |     0.658935  |             |  9.4s"
       ]
      },
      {
       "output_type": "stream",
       "stream": "stdout",
       "text": [
        "\n",
        "  3675  |    0.003611  |    0.005305  |     0.680654  |             |  9.4s"
       ]
      },
      {
       "output_type": "stream",
       "stream": "stdout",
       "text": [
        "\n",
        "  3676  |    0.003563  |    0.005281  |     0.674590  |             |  9.4s"
       ]
      },
      {
       "output_type": "stream",
       "stream": "stdout",
       "text": [
        "\n",
        "  3677  |    0.003622  |    0.005312  |     0.681781  |             |  9.4s"
       ]
      },
      {
       "output_type": "stream",
       "stream": "stdout",
       "text": [
        "\n",
        "  3678  |    0.003596  |    0.005300  |     0.678537  |             |  9.4s"
       ]
      },
      {
       "output_type": "stream",
       "stream": "stdout",
       "text": [
        "\n",
        "  3679  |  \u001b[94m  0.003506\u001b[0m  |    0.005282  |     0.663675  |             |  9.4s"
       ]
      },
      {
       "output_type": "stream",
       "stream": "stdout",
       "text": [
        "\n",
        "  3680  |    0.003549  |    0.005280  |     0.672137  |             |  9.5s"
       ]
      },
      {
       "output_type": "stream",
       "stream": "stdout",
       "text": [
        "\n",
        "  3681  |    0.003528  |  \u001b[32m  0.005258\u001b[0m  |     0.671028  |             |  9.4s"
       ]
      },
      {
       "output_type": "stream",
       "stream": "stdout",
       "text": [
        "\n",
        "  3682  |    0.003534  |    0.005294  |     0.667467  |             |  9.5s"
       ]
      },
      {
       "output_type": "stream",
       "stream": "stdout",
       "text": [
        "\n",
        "  3683  |    0.003609  |  \u001b[32m  0.005253\u001b[0m  |     0.687042  |             |  9.2s"
       ]
      },
      {
       "output_type": "stream",
       "stream": "stdout",
       "text": [
        "\n",
        "  3684  |    0.003570  |    0.005331  |     0.669582  |             |  9.2s"
       ]
      },
      {
       "output_type": "stream",
       "stream": "stdout",
       "text": [
        "\n",
        "  3685  |    0.003562  |    0.005294  |     0.672876  |             |  9.2s"
       ]
      },
      {
       "output_type": "stream",
       "stream": "stdout",
       "text": [
        "\n",
        "  3686  |    0.003616  |    0.005273  |     0.685742  |             |  9.2s"
       ]
      },
      {
       "output_type": "stream",
       "stream": "stdout",
       "text": [
        "\n",
        "  3687  |    0.003538  |    0.005275  |     0.670699  |             |  9.2s"
       ]
      },
      {
       "output_type": "stream",
       "stream": "stdout",
       "text": [
        "\n",
        "  3688  |    0.003594  |    0.005291  |     0.679329  |             |  9.3s"
       ]
      },
      {
       "output_type": "stream",
       "stream": "stdout",
       "text": [
        "\n",
        "  3689  |    0.003610  |    0.005280  |     0.683659  |             |  9.2s"
       ]
      },
      {
       "output_type": "stream",
       "stream": "stdout",
       "text": [
        "\n",
        "  3690  |    0.003517  |    0.005296  |     0.664153  |             |  9.3s"
       ]
      },
      {
       "output_type": "stream",
       "stream": "stdout",
       "text": [
        "\n",
        "  3691  |    0.003552  |    0.005286  |     0.671885  |             |  9.5s"
       ]
      },
      {
       "output_type": "stream",
       "stream": "stdout",
       "text": [
        "\n",
        "  3692  |    0.003553  |    0.005261  |     0.675405  |             |  9.4s"
       ]
      },
      {
       "output_type": "stream",
       "stream": "stdout",
       "text": [
        "\n",
        "  3693  |    0.003565  |    0.005278  |     0.675329  |             |  9.5s"
       ]
      },
      {
       "output_type": "stream",
       "stream": "stdout",
       "text": [
        "\n",
        "  3694  |  \u001b[94m  0.003478\u001b[0m  |    0.005281  |     0.658590  |             |  9.4s"
       ]
      },
      {
       "output_type": "stream",
       "stream": "stdout",
       "text": [
        "\n",
        "  3695  |    0.003653  |    0.005282  |     0.691608  |             |  9.5s"
       ]
      },
      {
       "output_type": "stream",
       "stream": "stdout",
       "text": [
        "\n",
        "  3696  |    0.003587  |    0.005269  |     0.680822  |             |  9.4s"
       ]
      },
      {
       "output_type": "stream",
       "stream": "stdout",
       "text": [
        "\n",
        "  3697  |    0.003569  |    0.005300  |     0.673414  |             |  9.3s"
       ]
      },
      {
       "output_type": "stream",
       "stream": "stdout",
       "text": [
        "\n",
        "  3698  |    0.003531  |    0.005267  |     0.670442  |             |  9.4s"
       ]
      },
      {
       "output_type": "stream",
       "stream": "stdout",
       "text": [
        "\n",
        "  3699  |    0.003559  |    0.005300  |     0.671507  |             |  9.4s"
       ]
      },
      {
       "output_type": "stream",
       "stream": "stdout",
       "text": [
        "\n",
        "  3700  |    0.003537  |    0.005296  |     0.667890  |             |  9.2s"
       ]
      },
      {
       "output_type": "stream",
       "stream": "stdout",
       "text": [
        "\n",
        "  3701  |    0.003579  |    0.005319  |     0.672849  |             |  9.2s"
       ]
      },
      {
       "output_type": "stream",
       "stream": "stdout",
       "text": [
        "\n",
        "  3702  |    0.003561  |    0.005311  |     0.670491  |             |  9.2s"
       ]
      },
      {
       "output_type": "stream",
       "stream": "stdout",
       "text": [
        "\n",
        "  3703  |    0.003576  |    0.005284  |     0.676830  |             |  9.2s"
       ]
      },
      {
       "output_type": "stream",
       "stream": "stdout",
       "text": [
        "\n",
        "  3704  |    0.003595  |    0.005293  |     0.679166  |             |  9.2s"
       ]
      },
      {
       "output_type": "stream",
       "stream": "stdout",
       "text": [
        "\n",
        "  3705  |    0.003592  |    0.005312  |     0.676173  |             |  9.2s"
       ]
      },
      {
       "output_type": "stream",
       "stream": "stdout",
       "text": [
        "\n",
        "  3706  |    0.003618  |    0.005298  |     0.682912  |             |  9.2s"
       ]
      },
      {
       "output_type": "stream",
       "stream": "stdout",
       "text": [
        "\n",
        "  3707  |    0.003514  |    0.005289  |     0.664351  |             |  9.2s"
       ]
      },
      {
       "output_type": "stream",
       "stream": "stdout",
       "text": [
        "\n",
        "  3708  |    0.003570  |    0.005317  |     0.671339  |             |  9.2s"
       ]
      },
      {
       "output_type": "stream",
       "stream": "stdout",
       "text": [
        "\n",
        "  3709  |    0.003589  |    0.005293  |     0.678146  |             |  9.3s"
       ]
      },
      {
       "output_type": "stream",
       "stream": "stdout",
       "text": [
        "\n",
        "  3710  |    0.003545  |    0.005279  |     0.671426  |             |  9.2s"
       ]
      },
      {
       "output_type": "stream",
       "stream": "stdout",
       "text": [
        "\n",
        "  3711  |    0.003529  |    0.005273  |     0.669193  |             |  9.2s"
       ]
      },
      {
       "output_type": "stream",
       "stream": "stdout",
       "text": [
        "\n",
        "  3712  |    0.003546  |    0.005289  |     0.670451  |             |  9.2s"
       ]
      },
      {
       "output_type": "stream",
       "stream": "stdout",
       "text": [
        "\n",
        "  3713  |    0.003531  |    0.005256  |     0.671711  |             |  9.2s"
       ]
      },
      {
       "output_type": "stream",
       "stream": "stdout",
       "text": [
        "\n",
        "  3714  |    0.003537  |    0.005258  |     0.672822  |             |  9.3s"
       ]
      },
      {
       "output_type": "stream",
       "stream": "stdout",
       "text": [
        "\n",
        "  3715  |    0.003585  |    0.005306  |     0.675547  |             |  9.3s"
       ]
      },
      {
       "output_type": "stream",
       "stream": "stdout",
       "text": [
        "\n",
        "  3716  |    0.003518  |    0.005290  |     0.665115  |             |  9.4s"
       ]
      },
      {
       "output_type": "stream",
       "stream": "stdout",
       "text": [
        "\n",
        "  3717  |    0.003509  |    0.005279  |     0.664841  |             |  9.4s"
       ]
      },
      {
       "output_type": "stream",
       "stream": "stdout",
       "text": [
        "\n",
        "  3718  |    0.003610  |    0.005275  |     0.684263  |             |  9.3s"
       ]
      },
      {
       "output_type": "stream",
       "stream": "stdout",
       "text": [
        "\n",
        "  3719  |    0.003574  |    0.005326  |     0.671061  |             |  9.2s"
       ]
      },
      {
       "output_type": "stream",
       "stream": "stdout",
       "text": [
        "\n",
        "  3720  |    0.003554  |    0.005259  |     0.675812  |             |  9.2s"
       ]
      },
      {
       "output_type": "stream",
       "stream": "stdout",
       "text": [
        "\n",
        "  3721  |    0.003578  |    0.005288  |     0.676527  |             |  9.3s"
       ]
      },
      {
       "output_type": "stream",
       "stream": "stdout",
       "text": [
        "\n",
        "  3722  |    0.003505  |    0.005314  |     0.659503  |             |  9.5s"
       ]
      },
      {
       "output_type": "stream",
       "stream": "stdout",
       "text": [
        "\n",
        "  3723  |    0.003519  |    0.005288  |     0.665587  |             |  9.5s"
       ]
      },
      {
       "output_type": "stream",
       "stream": "stdout",
       "text": [
        "\n",
        "  3724  |    0.003487  |    0.005302  |     0.657630  |             |  9.3s"
       ]
      },
      {
       "output_type": "stream",
       "stream": "stdout",
       "text": [
        "\n",
        "  3725  |    0.003531  |    0.005285  |     0.668138  |             |  9.2s"
       ]
      },
      {
       "output_type": "stream",
       "stream": "stdout",
       "text": [
        "\n",
        "  3726  |    0.003511  |    0.005288  |     0.663930  |             |  9.2s"
       ]
      },
      {
       "output_type": "stream",
       "stream": "stdout",
       "text": [
        "\n",
        "  3727  |    0.003510  |    0.005306  |     0.661524  |             |  9.2s"
       ]
      },
      {
       "output_type": "stream",
       "stream": "stdout",
       "text": [
        "\n",
        "  3728  |    0.003547  |    0.005307  |     0.668476  |             |  9.2s"
       ]
      },
      {
       "output_type": "stream",
       "stream": "stdout",
       "text": [
        "\n",
        "  3729  |    0.003533  |    0.005300  |     0.666546  |             |  9.2s"
       ]
      },
      {
       "output_type": "stream",
       "stream": "stdout",
       "text": [
        "\n",
        "  3730  |    0.003522  |    0.005265  |     0.668928  |             |  9.2s"
       ]
      },
      {
       "output_type": "stream",
       "stream": "stdout",
       "text": [
        "\n",
        "  3731  |    0.003496  |    0.005292  |     0.660643  |             |  9.2s"
       ]
      },
      {
       "output_type": "stream",
       "stream": "stdout",
       "text": [
        "\n",
        "  3732  |    0.003547  |    0.005312  |     0.667864  |             |  9.2s"
       ]
      },
      {
       "output_type": "stream",
       "stream": "stdout",
       "text": [
        "\n",
        "  3733  |    0.003481  |    0.005289  |     0.658195  |             |  9.2s"
       ]
      },
      {
       "output_type": "stream",
       "stream": "stdout",
       "text": [
        "\n",
        "  3734  |    0.003523  |    0.005291  |     0.665884  |             |  9.2s"
       ]
      },
      {
       "output_type": "stream",
       "stream": "stdout",
       "text": [
        "\n",
        "  3735  |    0.003544  |    0.005309  |     0.667528  |             |  9.2s"
       ]
      },
      {
       "output_type": "stream",
       "stream": "stdout",
       "text": [
        "\n",
        "  3736  |    0.003539  |    0.005283  |     0.669959  |             |  9.2s"
       ]
      },
      {
       "output_type": "stream",
       "stream": "stdout",
       "text": [
        "\n",
        "  3737  |    0.003593  |    0.005258  |     0.683258  |             |  9.2s"
       ]
      },
      {
       "output_type": "stream",
       "stream": "stdout",
       "text": [
        "\n",
        "  3738  |    0.003506  |    0.005271  |     0.665044  |             |  9.2s"
       ]
      },
      {
       "output_type": "stream",
       "stream": "stdout",
       "text": [
        "\n",
        "  3739  |    0.003540  |    0.005266  |     0.672271  |             |  9.2s"
       ]
      },
      {
       "output_type": "stream",
       "stream": "stdout",
       "text": [
        "\n",
        "  3740  |    0.003537  |    0.005311  |     0.665964  |             |  9.3s"
       ]
      },
      {
       "output_type": "stream",
       "stream": "stdout",
       "text": [
        "\n",
        "  3741  |    0.003542  |    0.005288  |     0.669868  |             |  9.3s"
       ]
      },
      {
       "output_type": "stream",
       "stream": "stdout",
       "text": [
        "\n",
        "  3742  |    0.003553  |    0.005253  |     0.676343  |             |  9.5s"
       ]
      },
      {
       "output_type": "stream",
       "stream": "stdout",
       "text": [
        "\n",
        "  3743  |    0.003549  |    0.005261  |     0.674582  |             |  9.3s"
       ]
      },
      {
       "output_type": "stream",
       "stream": "stdout",
       "text": [
        "\n",
        "  3744  |    0.003513  |    0.005263  |     0.667561  |             |  9.3s"
       ]
      },
      {
       "output_type": "stream",
       "stream": "stdout",
       "text": [
        "\n",
        "  3745  |    0.003529  |    0.005286  |     0.667495  |             |  9.3s"
       ]
      },
      {
       "output_type": "stream",
       "stream": "stdout",
       "text": [
        "\n",
        "  3746  |    0.003522  |    0.005286  |     0.666258  |             |  9.3s"
       ]
      },
      {
       "output_type": "stream",
       "stream": "stdout",
       "text": [
        "\n",
        "  3747  |    0.003490  |    0.005266  |     0.662722  |             |  9.2s"
       ]
      },
      {
       "output_type": "stream",
       "stream": "stdout",
       "text": [
        "\n",
        "  3748  |    0.003551  |    0.005269  |     0.673945  |             |  9.4s"
       ]
      },
      {
       "output_type": "stream",
       "stream": "stdout",
       "text": [
        "\n",
        "  3749  |  \u001b[94m  0.003453\u001b[0m  |    0.005296  |     0.652004  |             |  9.6s"
       ]
      },
      {
       "output_type": "stream",
       "stream": "stdout",
       "text": [
        "\n",
        "  3750  |    0.003578  |    0.005303  |     0.674842  |             |  9.6s"
       ]
      },
      {
       "output_type": "stream",
       "stream": "stdout",
       "text": [
        "\n",
        "  3751  |    0.003491  |    0.005320  |     0.656244  |             |  9.7s"
       ]
      },
      {
       "output_type": "stream",
       "stream": "stdout",
       "text": [
        "\n",
        "  3752  |    0.003505  |    0.005332  |     0.657492  |             |  9.7s"
       ]
      },
      {
       "output_type": "stream",
       "stream": "stdout",
       "text": [
        "\n",
        "  3753  |    0.003506  |    0.005274  |     0.664723  |             |  9.7s"
       ]
      },
      {
       "output_type": "stream",
       "stream": "stdout",
       "text": [
        "\n",
        "  3754  |    0.003494  |    0.005273  |     0.662650  |             |  9.7s"
       ]
      },
      {
       "output_type": "stream",
       "stream": "stdout",
       "text": [
        "\n",
        "  3755  |    0.003491  |    0.005280  |     0.661264  |             |  9.7s"
       ]
      },
      {
       "output_type": "stream",
       "stream": "stdout",
       "text": [
        "\n",
        "  3756  |    0.003477  |    0.005271  |     0.659653  |             |  9.7s"
       ]
      },
      {
       "output_type": "stream",
       "stream": "stdout",
       "text": [
        "\n",
        "  3757  |    0.003544  |    0.005276  |     0.671700  |             |  9.7s"
       ]
      },
      {
       "output_type": "stream",
       "stream": "stdout",
       "text": [
        "\n",
        "  3758  |    0.003513  |    0.005301  |     0.662659  |             |  9.6s"
       ]
      },
      {
       "output_type": "stream",
       "stream": "stdout",
       "text": [
        "\n",
        "  3759  |    0.003497  |    0.005270  |     0.663622  |             |  9.6s"
       ]
      },
      {
       "output_type": "stream",
       "stream": "stdout",
       "text": [
        "\n",
        "  3760  |    0.003540  |    0.005277  |     0.670824  |             |  9.7s"
       ]
      },
      {
       "output_type": "stream",
       "stream": "stdout",
       "text": [
        "\n",
        "  3761  |    0.003532  |    0.005284  |     0.668559  |             |  9.7s"
       ]
      },
      {
       "output_type": "stream",
       "stream": "stdout",
       "text": [
        "\n",
        "  3762  |    0.003480  |    0.005284  |     0.658605  |             |  9.9s"
       ]
      },
      {
       "output_type": "stream",
       "stream": "stdout",
       "text": [
        "\n",
        "  3763  |    0.003573  |    0.005298  |     0.674494  |             |  9.8s"
       ]
      },
      {
       "output_type": "stream",
       "stream": "stdout",
       "text": [
        "\n",
        "  3764  |    0.003559  |    0.005263  |     0.676189  |             |  9.8s"
       ]
      },
      {
       "output_type": "stream",
       "stream": "stdout",
       "text": [
        "\n",
        "  3765  |    0.003458  |    0.005285  |     0.654302  |             |  9.8s"
       ]
      },
      {
       "output_type": "stream",
       "stream": "stdout",
       "text": [
        "\n",
        "  3766  |    0.003497  |    0.005283  |     0.661936  |             |  9.8s"
       ]
      },
      {
       "output_type": "stream",
       "stream": "stdout",
       "text": [
        "\n",
        "  3767  |    0.003510  |    0.005305  |     0.661697  |             |  9.8s"
       ]
      },
      {
       "output_type": "stream",
       "stream": "stdout",
       "text": [
        "\n",
        "  3768  |    0.003483  |    0.005284  |     0.659066  |             |  9.9s"
       ]
      },
      {
       "output_type": "stream",
       "stream": "stdout",
       "text": [
        "\n",
        "  3769  |    0.003471  |  \u001b[32m  0.005241\u001b[0m  |     0.662181  |             |  9.8s"
       ]
      },
      {
       "output_type": "stream",
       "stream": "stdout",
       "text": [
        "\n",
        "  3770  |    0.003493  |    0.005275  |     0.662248  |             |  9.8s"
       ]
      },
      {
       "output_type": "stream",
       "stream": "stdout",
       "text": [
        "\n",
        "  3771  |    0.003489  |  \u001b[32m  0.005232\u001b[0m  |     0.666804  |             |  9.7s"
       ]
      },
      {
       "output_type": "stream",
       "stream": "stdout",
       "text": [
        "\n",
        "  3772  |    0.003500  |    0.005298  |     0.660556  |             |  9.8s"
       ]
      },
      {
       "output_type": "stream",
       "stream": "stdout",
       "text": [
        "\n",
        "  3773  |    0.003486  |    0.005257  |     0.663093  |             |  9.8s"
       ]
      },
      {
       "output_type": "stream",
       "stream": "stdout",
       "text": [
        "\n",
        "  3774  |    0.003479  |    0.005309  |     0.655310  |             |  9.8s"
       ]
      },
      {
       "output_type": "stream",
       "stream": "stdout",
       "text": [
        "\n",
        "  3775  |    0.003488  |    0.005288  |     0.659549  |             |  9.7s"
       ]
      },
      {
       "output_type": "stream",
       "stream": "stdout",
       "text": [
        "\n",
        "  3776  |    0.003518  |    0.005256  |     0.669275  |             |  9.6s"
       ]
      },
      {
       "output_type": "stream",
       "stream": "stdout",
       "text": [
        "\n",
        "  3777  |    0.003543  |    0.005284  |     0.670481  |             |  9.6s"
       ]
      },
      {
       "output_type": "stream",
       "stream": "stdout",
       "text": [
        "\n",
        "  3778  |  \u001b[94m  0.003448\u001b[0m  |    0.005294  |     0.651311  |             |  9.5s"
       ]
      },
      {
       "output_type": "stream",
       "stream": "stdout",
       "text": [
        "\n",
        "  3779  |    0.003540  |    0.005326  |     0.664620  |             |  9.5s"
       ]
      },
      {
       "output_type": "stream",
       "stream": "stdout",
       "text": [
        "\n",
        "  3780  |    0.003568  |    0.005300  |     0.673225  |             |  9.5s"
       ]
      },
      {
       "output_type": "stream",
       "stream": "stdout",
       "text": [
        "\n",
        "  3781  |    0.003505  |    0.005295  |     0.661949  |             |  9.6s"
       ]
      },
      {
       "output_type": "stream",
       "stream": "stdout",
       "text": [
        "\n",
        "  3782  |    0.003533  |    0.005280  |     0.669082  |             |  9.6s"
       ]
      },
      {
       "output_type": "stream",
       "stream": "stdout",
       "text": [
        "\n",
        "  3783  |    0.003534  |    0.005253  |     0.672833  |             |  9.3s"
       ]
      },
      {
       "output_type": "stream",
       "stream": "stdout",
       "text": [
        "\n",
        "  3784  |    0.003519  |    0.005258  |     0.669185  |             |  9.3s"
       ]
      },
      {
       "output_type": "stream",
       "stream": "stdout",
       "text": [
        "\n",
        "  3785  |    0.003471  |    0.005276  |     0.657878  |             |  9.3s"
       ]
      },
      {
       "output_type": "stream",
       "stream": "stdout",
       "text": [
        "\n",
        "  3786  |  \u001b[94m  0.003425\u001b[0m  |    0.005271  |     0.649860  |             |  9.3s"
       ]
      },
      {
       "output_type": "stream",
       "stream": "stdout",
       "text": [
        "\n",
        "  3787  |    0.003535  |    0.005309  |     0.665805  |             |  9.3s"
       ]
      },
      {
       "output_type": "stream",
       "stream": "stdout",
       "text": [
        "\n",
        "  3788  |    0.003568  |    0.005310  |     0.671831  |             |  9.4s"
       ]
      },
      {
       "output_type": "stream",
       "stream": "stdout",
       "text": [
        "\n",
        "  3789  |    0.003427  |    0.005293  |     0.647410  |             |  9.5s"
       ]
      },
      {
       "output_type": "stream",
       "stream": "stdout",
       "text": [
        "\n",
        "  3790  |    0.003467  |    0.005289  |     0.655516  |             |  9.6s"
       ]
      },
      {
       "output_type": "stream",
       "stream": "stdout",
       "text": [
        "\n",
        "  3791  |    0.003466  |    0.005236  |     0.662002  |             |  9.6s"
       ]
      },
      {
       "output_type": "stream",
       "stream": "stdout",
       "text": [
        "\n",
        "  3792  |    0.003516  |    0.005262  |     0.668178  |             |  9.6s"
       ]
      },
      {
       "output_type": "stream",
       "stream": "stdout",
       "text": [
        "\n",
        "  3793  |    0.003529  |    0.005264  |     0.670375  |             |  9.6s"
       ]
      },
      {
       "output_type": "stream",
       "stream": "stdout",
       "text": [
        "\n",
        "  3794  |    0.003455  |    0.005275  |     0.654987  |             |  9.6s"
       ]
      },
      {
       "output_type": "stream",
       "stream": "stdout",
       "text": [
        "\n",
        "  3795  |    0.003502  |    0.005249  |     0.667155  |             |  9.6s"
       ]
      },
      {
       "output_type": "stream",
       "stream": "stdout",
       "text": [
        "\n",
        "  3796  |    0.003488  |    0.005279  |     0.660747  |             |  9.6s"
       ]
      },
      {
       "output_type": "stream",
       "stream": "stdout",
       "text": [
        "\n",
        "  3797  |    0.003492  |    0.005283  |     0.661116  |             |  9.6s"
       ]
      },
      {
       "output_type": "stream",
       "stream": "stdout",
       "text": [
        "\n",
        "  3798  |    0.003434  |    0.005288  |     0.649364  |             |  9.6s"
       ]
      },
      {
       "output_type": "stream",
       "stream": "stdout",
       "text": [
        "\n",
        "  3799  |    0.003490  |    0.005297  |     0.658895  |             |  9.6s"
       ]
      },
      {
       "output_type": "stream",
       "stream": "stdout",
       "text": [
        "\n",
        "  3800  |    0.003467  |    0.005278  |     0.657005  |             |  9.6s"
       ]
      },
      {
       "output_type": "stream",
       "stream": "stdout",
       "text": [
        "\n",
        "  3801  |    0.003522  |    0.005288  |     0.666042  |             |  9.6s"
       ]
      },
      {
       "output_type": "stream",
       "stream": "stdout",
       "text": [
        "\n",
        "  3802  |    0.003513  |    0.005278  |     0.665701  |             |  9.6s"
       ]
      },
      {
       "output_type": "stream",
       "stream": "stdout",
       "text": [
        "\n",
        "  3803  |    0.003505  |    0.005302  |     0.661205  |             |  9.6s"
       ]
      },
      {
       "output_type": "stream",
       "stream": "stdout",
       "text": [
        "\n",
        "  3804  |    0.003459  |    0.005260  |     0.657629  |             |  9.6s"
       ]
      },
      {
       "output_type": "stream",
       "stream": "stdout",
       "text": [
        "\n",
        "  3805  |    0.003453  |    0.005255  |     0.657001  |             |  9.6s"
       ]
      },
      {
       "output_type": "stream",
       "stream": "stdout",
       "text": [
        "\n",
        "  3806  |    0.003464  |    0.005281  |     0.655991  |             |  9.5s"
       ]
      },
      {
       "output_type": "stream",
       "stream": "stdout",
       "text": [
        "\n",
        "  3807  |    0.003466  |    0.005290  |     0.655279  |             |  9.6s"
       ]
      },
      {
       "output_type": "stream",
       "stream": "stdout",
       "text": [
        "\n",
        "  3808  |    0.003542  |    0.005270  |     0.672157  |             |  9.5s"
       ]
      },
      {
       "output_type": "stream",
       "stream": "stdout",
       "text": [
        "\n",
        "  3809  |    0.003500  |    0.005254  |     0.666140  |             |  9.6s"
       ]
      },
      {
       "output_type": "stream",
       "stream": "stdout",
       "text": [
        "\n",
        "  3810  |    0.003536  |    0.005282  |     0.669451  |             |  9.6s"
       ]
      },
      {
       "output_type": "stream",
       "stream": "stdout",
       "text": [
        "\n",
        "  3811  |    0.003508  |    0.005315  |     0.659934  |             |  9.6s"
       ]
      },
      {
       "output_type": "stream",
       "stream": "stdout",
       "text": [
        "\n",
        "  3812  |    0.003458  |    0.005260  |     0.657430  |             |  9.6s"
       ]
      },
      {
       "output_type": "stream",
       "stream": "stdout",
       "text": [
        "\n",
        "  3813  |    0.003532  |    0.005267  |     0.670682  |             |  9.6s"
       ]
      },
      {
       "output_type": "stream",
       "stream": "stdout",
       "text": [
        "\n",
        "  3814  |    0.003454  |    0.005291  |     0.652652  |             |  9.5s"
       ]
      },
      {
       "output_type": "stream",
       "stream": "stdout",
       "text": [
        "\n",
        "  3815  |    0.003442  |    0.005272  |     0.652911  |             |  9.6s"
       ]
      },
      {
       "output_type": "stream",
       "stream": "stdout",
       "text": [
        "\n",
        "  3816  |    0.003509  |    0.005263  |     0.666634  |             |  9.6s"
       ]
      },
      {
       "output_type": "stream",
       "stream": "stdout",
       "text": [
        "\n",
        "  3817  |  \u001b[94m  0.003396\u001b[0m  |    0.005289  |     0.642115  |             |  9.5s"
       ]
      },
      {
       "output_type": "stream",
       "stream": "stdout",
       "text": [
        "\n",
        "  3818  |    0.003481  |    0.005298  |     0.657023  |             |  9.5s"
       ]
      },
      {
       "output_type": "stream",
       "stream": "stdout",
       "text": [
        "\n",
        "  3819  |    0.003436  |    0.005291  |     0.649428  |             |  9.6s"
       ]
      },
      {
       "output_type": "stream",
       "stream": "stdout",
       "text": [
        "\n",
        "  3820  |    0.003424  |    0.005284  |     0.647904  |             |  9.5s"
       ]
      },
      {
       "output_type": "stream",
       "stream": "stdout",
       "text": [
        "\n",
        "  3821  |    0.003468  |    0.005299  |     0.654428  |             |  9.6s"
       ]
      },
      {
       "output_type": "stream",
       "stream": "stdout",
       "text": [
        "\n",
        "  3822  |    0.003471  |    0.005304  |     0.654562  |             |  9.5s"
       ]
      },
      {
       "output_type": "stream",
       "stream": "stdout",
       "text": [
        "\n",
        "  3823  |    0.003444  |    0.005286  |     0.651488  |             |  9.6s"
       ]
      },
      {
       "output_type": "stream",
       "stream": "stdout",
       "text": [
        "\n",
        "  3824  |    0.003465  |    0.005278  |     0.656427  |             |  9.7s"
       ]
      },
      {
       "output_type": "stream",
       "stream": "stdout",
       "text": [
        "\n",
        "  3825  |    0.003478  |    0.005270  |     0.660012  |             |  9.6s"
       ]
      },
      {
       "output_type": "stream",
       "stream": "stdout",
       "text": [
        "\n",
        "  3826  |    0.003484  |    0.005259  |     0.662472  |             |  9.5s"
       ]
      },
      {
       "output_type": "stream",
       "stream": "stdout",
       "text": [
        "\n",
        "  3827  |    0.003444  |    0.005258  |     0.654918  |             |  9.5s"
       ]
      },
      {
       "output_type": "stream",
       "stream": "stdout",
       "text": [
        "\n",
        "  3828  |    0.003492  |    0.005279  |     0.661537  |             |  9.4s"
       ]
      },
      {
       "output_type": "stream",
       "stream": "stdout",
       "text": [
        "\n",
        "  3829  |    0.003486  |    0.005262  |     0.662494  |             |  9.6s"
       ]
      },
      {
       "output_type": "stream",
       "stream": "stdout",
       "text": [
        "\n",
        "  3830  |    0.003456  |    0.005290  |     0.653390  |             |  9.6s"
       ]
      },
      {
       "output_type": "stream",
       "stream": "stdout",
       "text": [
        "\n",
        "  3831  |    0.003404  |    0.005268  |     0.646155  |             |  9.6s"
       ]
      },
      {
       "output_type": "stream",
       "stream": "stdout",
       "text": [
        "\n",
        "  3832  |    0.003469  |    0.005278  |     0.657284  |             |  9.6s"
       ]
      },
      {
       "output_type": "stream",
       "stream": "stdout",
       "text": [
        "\n",
        "  3833  |    0.003512  |    0.005300  |     0.662698  |             |  9.2s"
       ]
      },
      {
       "output_type": "stream",
       "stream": "stdout",
       "text": [
        "\n",
        "  3834  |    0.003451  |    0.005291  |     0.652269  |             |  9.2s"
       ]
      },
      {
       "output_type": "stream",
       "stream": "stdout",
       "text": [
        "\n",
        "  3835  |    0.003432  |    0.005281  |     0.649788  |             |  9.2s"
       ]
      },
      {
       "output_type": "stream",
       "stream": "stdout",
       "text": [
        "\n",
        "  3836  |    0.003456  |    0.005268  |     0.656000  |             |  9.2s"
       ]
      },
      {
       "output_type": "stream",
       "stream": "stdout",
       "text": [
        "\n",
        "  3837  |    0.003505  |    0.005263  |     0.665933  |             |  9.3s"
       ]
      },
      {
       "output_type": "stream",
       "stream": "stdout",
       "text": [
        "\n",
        "  3838  |    0.003461  |    0.005276  |     0.655998  |             |  9.5s"
       ]
      },
      {
       "output_type": "stream",
       "stream": "stdout",
       "text": [
        "\n",
        "  3839  |  \u001b[94m  0.003389\u001b[0m  |    0.005278  |     0.642138  |             |  9.5s"
       ]
      },
      {
       "output_type": "stream",
       "stream": "stdout",
       "text": [
        "\n",
        "  3840  |    0.003429  |    0.005295  |     0.647605  |             |  9.3s"
       ]
      },
      {
       "output_type": "stream",
       "stream": "stdout",
       "text": [
        "\n",
        "  3841  |    0.003450  |    0.005248  |     0.657524  |             |  9.2s"
       ]
      },
      {
       "output_type": "stream",
       "stream": "stdout",
       "text": [
        "\n",
        "  3842  |    0.003471  |    0.005285  |     0.656772  |             |  9.4s"
       ]
      },
      {
       "output_type": "stream",
       "stream": "stdout",
       "text": [
        "\n",
        "  3843  |    0.003476  |    0.005305  |     0.655162  |             |  9.7s"
       ]
      },
      {
       "output_type": "stream",
       "stream": "stdout",
       "text": [
        "\n",
        "  3844  |    0.003451  |    0.005288  |     0.652498  |             |  9.7s"
       ]
      },
      {
       "output_type": "stream",
       "stream": "stdout",
       "text": [
        "\n",
        "  3845  |    0.003459  |    0.005246  |     0.659291  |             |  9.4s"
       ]
      },
      {
       "output_type": "stream",
       "stream": "stdout",
       "text": [
        "\n",
        "  3846  |    0.003404  |    0.005271  |     0.645877  |             |  9.2s"
       ]
      },
      {
       "output_type": "stream",
       "stream": "stdout",
       "text": [
        "\n",
        "  3847  |    0.003461  |    0.005297  |     0.653461  |             |  9.2s"
       ]
      },
      {
       "output_type": "stream",
       "stream": "stdout",
       "text": [
        "\n",
        "  3848  |    0.003450  |    0.005277  |     0.653726  |             |  9.2s"
       ]
      },
      {
       "output_type": "stream",
       "stream": "stdout",
       "text": [
        "\n",
        "  3849  |    0.003452  |    0.005267  |     0.655508  |             |  9.2s"
       ]
      },
      {
       "output_type": "stream",
       "stream": "stdout",
       "text": [
        "\n",
        "  3850  |    0.003439  |    0.005276  |     0.651804  |             |  9.2s"
       ]
      },
      {
       "output_type": "stream",
       "stream": "stdout",
       "text": [
        "\n",
        "  3851  |    0.003503  |    0.005292  |     0.661897  |             |  9.2s"
       ]
      },
      {
       "output_type": "stream",
       "stream": "stdout",
       "text": [
        "\n",
        "  3852  |    0.003490  |    0.005285  |     0.660373  |             |  9.2s"
       ]
      },
      {
       "output_type": "stream",
       "stream": "stdout",
       "text": [
        "\n",
        "  3853  |    0.003411  |    0.005324  |     0.640788  |             |  9.2s"
       ]
      },
      {
       "output_type": "stream",
       "stream": "stdout",
       "text": [
        "\n",
        "  3854  |    0.003458  |    0.005302  |     0.652251  |             |  9.2s"
       ]
      },
      {
       "output_type": "stream",
       "stream": "stdout",
       "text": [
        "\n",
        "  3855  |    0.003449  |    0.005298  |     0.650961  |             |  9.2s"
       ]
      },
      {
       "output_type": "stream",
       "stream": "stdout",
       "text": [
        "\n",
        "  3856  |    0.003487  |    0.005276  |     0.660868  |             |  9.3s"
       ]
      },
      {
       "output_type": "stream",
       "stream": "stdout",
       "text": [
        "\n",
        "  3857  |    0.003431  |    0.005285  |     0.649250  |             |  9.4s"
       ]
      },
      {
       "output_type": "stream",
       "stream": "stdout",
       "text": [
        "\n",
        "  3858  |    0.003429  |    0.005278  |     0.649660  |             |  9.3s"
       ]
      },
      {
       "output_type": "stream",
       "stream": "stdout",
       "text": [
        "\n",
        "  3859  |    0.003486  |    0.005278  |     0.660462  |             |  9.2s"
       ]
      },
      {
       "output_type": "stream",
       "stream": "stdout",
       "text": [
        "\n",
        "  3860  |    0.003449  |    0.005271  |     0.654433  |             |  9.4s"
       ]
      },
      {
       "output_type": "stream",
       "stream": "stdout",
       "text": [
        "\n",
        "  3861  |    0.003412  |    0.005305  |     0.643027  |             |  9.4s"
       ]
      },
      {
       "output_type": "stream",
       "stream": "stdout",
       "text": [
        "\n",
        "  3862  |    0.003430  |    0.005264  |     0.651715  |             |  9.2s"
       ]
      },
      {
       "output_type": "stream",
       "stream": "stdout",
       "text": [
        "\n",
        "  3863  |    0.003411  |    0.005251  |     0.649530  |             |  9.3s"
       ]
      },
      {
       "output_type": "stream",
       "stream": "stdout",
       "text": [
        "\n",
        "  3864  |    0.003446  |    0.005313  |     0.648588  |             |  9.2s"
       ]
      },
      {
       "output_type": "stream",
       "stream": "stdout",
       "text": [
        "\n",
        "  3865  |    0.003454  |    0.005276  |     0.654711  |             |  9.2s"
       ]
      },
      {
       "output_type": "stream",
       "stream": "stdout",
       "text": [
        "\n",
        "  3866  |    0.003441  |    0.005287  |     0.650788  |             |  9.2s"
       ]
      },
      {
       "output_type": "stream",
       "stream": "stdout",
       "text": [
        "\n",
        "  3867  |    0.003460  |  \u001b[32m  0.005228\u001b[0m  |     0.661831  |             |  9.2s"
       ]
      },
      {
       "output_type": "stream",
       "stream": "stdout",
       "text": [
        "\n",
        "  3868  |    0.003416  |    0.005272  |     0.647821  |             |  9.2s"
       ]
      },
      {
       "output_type": "stream",
       "stream": "stdout",
       "text": [
        "\n",
        "  3869  |    0.003479  |    0.005300  |     0.656274  |             |  9.2s"
       ]
      },
      {
       "output_type": "stream",
       "stream": "stdout",
       "text": [
        "\n",
        "  3870  |    0.003477  |    0.005303  |     0.655693  |             |  9.4s"
       ]
      },
      {
       "output_type": "stream",
       "stream": "stdout",
       "text": [
        "\n",
        "  3871  |    0.003426  |    0.005282  |     0.648746  |             |  9.2s"
       ]
      },
      {
       "output_type": "stream",
       "stream": "stdout",
       "text": [
        "\n",
        "  3872  |  \u001b[94m  0.003385\u001b[0m  |    0.005302  |     0.638390  |             |  9.2s"
       ]
      },
      {
       "output_type": "stream",
       "stream": "stdout",
       "text": [
        "\n",
        "  3873  |    0.003421  |    0.005271  |     0.649059  |             |  9.2s"
       ]
      },
      {
       "output_type": "stream",
       "stream": "stdout",
       "text": [
        "\n",
        "  3874  |    0.003399  |    0.005316  |     0.639427  |             |  9.2s"
       ]
      },
      {
       "output_type": "stream",
       "stream": "stdout",
       "text": [
        "\n",
        "  3875  |    0.003430  |    0.005269  |     0.651039  |             |  9.2s"
       ]
      },
      {
       "output_type": "stream",
       "stream": "stdout",
       "text": [
        "\n",
        "  3876  |    0.003424  |    0.005277  |     0.648833  |             |  9.2s"
       ]
      },
      {
       "output_type": "stream",
       "stream": "stdout",
       "text": [
        "\n",
        "  3877  |    0.003406  |    0.005309  |     0.641659  |             |  9.2s"
       ]
      },
      {
       "output_type": "stream",
       "stream": "stdout",
       "text": [
        "\n",
        "  3878  |    0.003426  |    0.005274  |     0.649584  |             |  9.2s"
       ]
      },
      {
       "output_type": "stream",
       "stream": "stdout",
       "text": [
        "\n",
        "  3879  |    0.003399  |    0.005283  |     0.643491  |             |  9.2s"
       ]
      },
      {
       "output_type": "stream",
       "stream": "stdout",
       "text": [
        "\n",
        "  3880  |    0.003429  |    0.005310  |     0.645693  |             |  9.2s"
       ]
      },
      {
       "output_type": "stream",
       "stream": "stdout",
       "text": [
        "\n",
        "  3881  |    0.003449  |    0.005337  |     0.646346  |             |  9.2s"
       ]
      },
      {
       "output_type": "stream",
       "stream": "stdout",
       "text": [
        "\n",
        "  3882  |    0.003401  |    0.005293  |     0.642478  |             |  9.2s"
       ]
      },
      {
       "output_type": "stream",
       "stream": "stdout",
       "text": [
        "\n",
        "  3883  |    0.003436  |    0.005292  |     0.649373  |             |  9.2s"
       ]
      },
      {
       "output_type": "stream",
       "stream": "stdout",
       "text": [
        "\n",
        "  3884  |    0.003466  |    0.005311  |     0.652620  |             |  9.2s"
       ]
      },
      {
       "output_type": "stream",
       "stream": "stdout",
       "text": [
        "\n",
        "  3885  |    0.003404  |    0.005261  |     0.646970  |             |  9.2s"
       ]
      },
      {
       "output_type": "stream",
       "stream": "stdout",
       "text": [
        "\n",
        "  3886  |    0.003489  |    0.005293  |     0.659150  |             |  9.2s"
       ]
      },
      {
       "output_type": "stream",
       "stream": "stdout",
       "text": [
        "\n",
        "  3887  |    0.003416  |    0.005283  |     0.646586  |             |  9.2s"
       ]
      },
      {
       "output_type": "stream",
       "stream": "stdout",
       "text": [
        "\n",
        "  3888  |    0.003470  |    0.005262  |     0.659509  |             |  9.2s"
       ]
      },
      {
       "output_type": "stream",
       "stream": "stdout",
       "text": [
        "\n",
        "  3889  |    0.003442  |    0.005282  |     0.651709  |             |  9.2s"
       ]
      },
      {
       "output_type": "stream",
       "stream": "stdout",
       "text": [
        "\n",
        "  3890  |    0.003419  |    0.005304  |     0.644482  |             |  9.2s"
       ]
      },
      {
       "output_type": "stream",
       "stream": "stdout",
       "text": [
        "\n",
        "  3891  |    0.003468  |    0.005275  |     0.657485  |             |  9.2s"
       ]
      },
      {
       "output_type": "stream",
       "stream": "stdout",
       "text": [
        "\n",
        "  3892  |    0.003459  |    0.005276  |     0.655624  |             |  9.3s"
       ]
      },
      {
       "output_type": "stream",
       "stream": "stdout",
       "text": [
        "\n",
        "  3893  |    0.003468  |    0.005261  |     0.659136  |             |  9.5s"
       ]
      },
      {
       "output_type": "stream",
       "stream": "stdout",
       "text": [
        "\n",
        "  3894  |  \u001b[94m  0.003364\u001b[0m  |    0.005241  |     0.641819  |             |  9.5s"
       ]
      },
      {
       "output_type": "stream",
       "stream": "stdout",
       "text": [
        "\n",
        "  3895  |    0.003420  |    0.005262  |     0.649838  |             |  9.5s"
       ]
      },
      {
       "output_type": "stream",
       "stream": "stdout",
       "text": [
        "\n",
        "  3896  |    0.003431  |    0.005279  |     0.649908  |             |  9.3s"
       ]
      },
      {
       "output_type": "stream",
       "stream": "stdout",
       "text": [
        "\n",
        "  3897  |    0.003448  |    0.005296  |     0.651088  |             |  9.4s"
       ]
      },
      {
       "output_type": "stream",
       "stream": "stdout",
       "text": [
        "\n",
        "  3898  |    0.003449  |    0.005276  |     0.653699  |             |  9.5s"
       ]
      },
      {
       "output_type": "stream",
       "stream": "stdout",
       "text": [
        "\n",
        "  3899  |    0.003436  |    0.005279  |     0.651011  |             |  9.2s"
       ]
      },
      {
       "output_type": "stream",
       "stream": "stdout",
       "text": [
        "\n",
        "  3900  |    0.003431  |    0.005247  |     0.654000  |             |  9.3s"
       ]
      },
      {
       "output_type": "stream",
       "stream": "stdout",
       "text": [
        "\n",
        "  3901  |    0.003421  |    0.005296  |     0.645862  |             |  9.2s"
       ]
      },
      {
       "output_type": "stream",
       "stream": "stdout",
       "text": [
        "\n",
        "  3902  |    0.003443  |    0.005264  |     0.654192  |             |  9.3s"
       ]
      },
      {
       "output_type": "stream",
       "stream": "stdout",
       "text": [
        "\n",
        "  3903  |    0.003400  |    0.005288  |     0.643003  |             |  9.3s"
       ]
      },
      {
       "output_type": "stream",
       "stream": "stdout",
       "text": [
        "\n",
        "  3904  |    0.003421  |    0.005285  |     0.647281  |             |  9.3s"
       ]
      },
      {
       "output_type": "stream",
       "stream": "stdout",
       "text": [
        "\n",
        "  3905  |    0.003379  |    0.005246  |     0.644014  |             |  9.5s"
       ]
      },
      {
       "output_type": "stream",
       "stream": "stdout",
       "text": [
        "\n",
        "  3906  |    0.003371  |    0.005257  |     0.641217  |             |  9.5s"
       ]
      },
      {
       "output_type": "stream",
       "stream": "stdout",
       "text": [
        "\n",
        "  3907  |    0.003401  |    0.005260  |     0.646594  |             |  9.5s"
       ]
      },
      {
       "output_type": "stream",
       "stream": "stdout",
       "text": [
        "\n",
        "  3908  |    0.003422  |    0.005263  |     0.650262  |             |  9.5s"
       ]
      },
      {
       "output_type": "stream",
       "stream": "stdout",
       "text": [
        "\n",
        "  3909  |    0.003446  |    0.005271  |     0.653781  |             |  9.5s"
       ]
      },
      {
       "output_type": "stream",
       "stream": "stdout",
       "text": [
        "\n",
        "  3910  |    0.003399  |    0.005249  |     0.647581  |             |  9.5s"
       ]
      },
      {
       "output_type": "stream",
       "stream": "stdout",
       "text": [
        "\n",
        "  3911  |    0.003423  |    0.005309  |     0.644816  |             |  9.5s"
       ]
      },
      {
       "output_type": "stream",
       "stream": "stdout",
       "text": [
        "\n",
        "  3912  |    0.003381  |    0.005260  |     0.642784  |             |  9.4s"
       ]
      },
      {
       "output_type": "stream",
       "stream": "stdout",
       "text": [
        "\n",
        "  3913  |    0.003439  |    0.005259  |     0.653845  |             |  9.4s"
       ]
      },
      {
       "output_type": "stream",
       "stream": "stdout",
       "text": [
        "\n",
        "  3914  |    0.003484  |    0.005263  |     0.662030  |             |  9.4s"
       ]
      },
      {
       "output_type": "stream",
       "stream": "stdout",
       "text": [
        "\n",
        "  3915  |    0.003401  |    0.005236  |     0.649641  |             |  9.4s"
       ]
      },
      {
       "output_type": "stream",
       "stream": "stdout",
       "text": [
        "\n",
        "  3916  |    0.003381  |  \u001b[32m  0.005222\u001b[0m  |     0.647419  |             |  9.5s"
       ]
      },
      {
       "output_type": "stream",
       "stream": "stdout",
       "text": [
        "\n",
        "  3917  |  \u001b[94m  0.003364\u001b[0m  |    0.005270  |     0.638293  |             |  9.6s"
       ]
      },
      {
       "output_type": "stream",
       "stream": "stdout",
       "text": [
        "\n",
        "  3918  |    0.003441  |    0.005291  |     0.650313  |             |  9.5s"
       ]
      },
      {
       "output_type": "stream",
       "stream": "stdout",
       "text": [
        "\n",
        "  3919  |  \u001b[94m  0.003362\u001b[0m  |    0.005287  |     0.635885  |             |  9.4s"
       ]
      },
      {
       "output_type": "stream",
       "stream": "stdout",
       "text": [
        "\n",
        "  3920  |    0.003411  |    0.005320  |     0.641029  |             |  9.5s"
       ]
      },
      {
       "output_type": "stream",
       "stream": "stdout",
       "text": [
        "\n",
        "  3921  |    0.003429  |    0.005279  |     0.649636  |             |  9.5s"
       ]
      },
      {
       "output_type": "stream",
       "stream": "stdout",
       "text": [
        "\n",
        "  3922  |    0.003370  |    0.005262  |     0.640440  |             |  9.5s"
       ]
      },
      {
       "output_type": "stream",
       "stream": "stdout",
       "text": [
        "\n",
        "  3923  |    0.003462  |    0.005290  |     0.654438  |             |  9.5s"
       ]
      },
      {
       "output_type": "stream",
       "stream": "stdout",
       "text": [
        "\n",
        "  3924  |    0.003424  |    0.005271  |     0.649619  |             |  9.5s"
       ]
      },
      {
       "output_type": "stream",
       "stream": "stdout",
       "text": [
        "\n",
        "  3925  |    0.003380  |    0.005273  |     0.641031  |             |  9.5s"
       ]
      },
      {
       "output_type": "stream",
       "stream": "stdout",
       "text": [
        "\n",
        "  3926  |    0.003411  |    0.005287  |     0.645204  |             |  9.5s"
       ]
      },
      {
       "output_type": "stream",
       "stream": "stdout",
       "text": [
        "\n",
        "  3927  |    0.003454  |    0.005284  |     0.653735  |             |  9.5s"
       ]
      },
      {
       "output_type": "stream",
       "stream": "stdout",
       "text": [
        "\n",
        "  3928  |    0.003447  |    0.005261  |     0.655188  |             |  9.5s"
       ]
      },
      {
       "output_type": "stream",
       "stream": "stdout",
       "text": [
        "\n",
        "  3929  |    0.003442  |    0.005279  |     0.651976  |             |  9.5s"
       ]
      },
      {
       "output_type": "stream",
       "stream": "stdout",
       "text": [
        "\n",
        "  3930  |    0.003409  |    0.005265  |     0.647447  |             |  9.5s"
       ]
      },
      {
       "output_type": "stream",
       "stream": "stdout",
       "text": [
        "\n",
        "  3931  |    0.003445  |    0.005245  |     0.656788  |             |  9.5s"
       ]
      },
      {
       "output_type": "stream",
       "stream": "stdout",
       "text": [
        "\n",
        "  3932  |    0.003398  |    0.005265  |     0.645376  |             |  9.5s"
       ]
      },
      {
       "output_type": "stream",
       "stream": "stdout",
       "text": [
        "\n",
        "  3933  |    0.003385  |    0.005249  |     0.644872  |             |  9.5s"
       ]
      },
      {
       "output_type": "stream",
       "stream": "stdout",
       "text": [
        "\n",
        "  3934  |    0.003408  |    0.005256  |     0.648383  |             |  9.5s"
       ]
      },
      {
       "output_type": "stream",
       "stream": "stdout",
       "text": [
        "\n",
        "  3935  |    0.003413  |    0.005252  |     0.649863  |             |  9.5s"
       ]
      },
      {
       "output_type": "stream",
       "stream": "stdout",
       "text": [
        "\n",
        "  3936  |    0.003362  |    0.005256  |     0.639745  |             |  9.5s"
       ]
      },
      {
       "output_type": "stream",
       "stream": "stdout",
       "text": [
        "\n",
        "  3937  |    0.003384  |    0.005280  |     0.640798  |             |  9.5s"
       ]
      },
      {
       "output_type": "stream",
       "stream": "stdout",
       "text": [
        "\n",
        "  3938  |    0.003426  |    0.005266  |     0.650583  |             |  9.5s"
       ]
      },
      {
       "output_type": "stream",
       "stream": "stdout",
       "text": [
        "\n",
        "  3939  |    0.003408  |    0.005272  |     0.646392  |             |  9.5s"
       ]
      },
      {
       "output_type": "stream",
       "stream": "stdout",
       "text": [
        "\n",
        "  3940  |    0.003410  |    0.005297  |     0.643824  |             |  9.5s"
       ]
      },
      {
       "output_type": "stream",
       "stream": "stdout",
       "text": [
        "\n",
        "  3941  |    0.003457  |    0.005293  |     0.653145  |             |  9.5s"
       ]
      },
      {
       "output_type": "stream",
       "stream": "stdout",
       "text": [
        "\n",
        "  3942  |    0.003393  |    0.005273  |     0.643455  |             |  9.5s"
       ]
      },
      {
       "output_type": "stream",
       "stream": "stdout",
       "text": [
        "\n",
        "  3943  |    0.003481  |    0.005232  |     0.665228  |             |  9.5s"
       ]
      },
      {
       "output_type": "stream",
       "stream": "stdout",
       "text": [
        "\n",
        "  3944  |    0.003378  |    0.005283  |     0.639485  |             |  9.5s"
       ]
      },
      {
       "output_type": "stream",
       "stream": "stdout",
       "text": [
        "\n",
        "  3945  |    0.003369  |    0.005286  |     0.637319  |             |  9.5s"
       ]
      },
      {
       "output_type": "stream",
       "stream": "stdout",
       "text": [
        "\n",
        "  3946  |    0.003373  |    0.005270  |     0.639970  |             |  9.5s"
       ]
      },
      {
       "output_type": "stream",
       "stream": "stdout",
       "text": [
        "\n",
        "  3947  |    0.003468  |    0.005291  |     0.655460  |             |  9.5s"
       ]
      },
      {
       "output_type": "stream",
       "stream": "stdout",
       "text": [
        "\n",
        "  3948  |  \u001b[94m  0.003352\u001b[0m  |    0.005294  |     0.633061  |             |  9.4s"
       ]
      },
      {
       "output_type": "stream",
       "stream": "stdout",
       "text": [
        "\n",
        "  3949  |    0.003411  |    0.005279  |     0.646105  |             |  9.5s"
       ]
      },
      {
       "output_type": "stream",
       "stream": "stdout",
       "text": [
        "\n",
        "  3950  |    0.003427  |    0.005271  |     0.650167  |             |  9.5s"
       ]
      },
      {
       "output_type": "stream",
       "stream": "stdout",
       "text": [
        "\n",
        "  3951  |  \u001b[94m  0.003345\u001b[0m  |    0.005273  |     0.634290  |             |  9.5s"
       ]
      },
      {
       "output_type": "stream",
       "stream": "stdout",
       "text": [
        "\n",
        "  3952  |    0.003419  |    0.005313  |     0.643605  |             |  9.5s"
       ]
      },
      {
       "output_type": "stream",
       "stream": "stdout",
       "text": [
        "\n",
        "  3953  |    0.003425  |    0.005277  |     0.649067  |             |  9.5s"
       ]
      },
      {
       "output_type": "stream",
       "stream": "stdout",
       "text": [
        "\n",
        "  3954  |  \u001b[94m  0.003317\u001b[0m  |    0.005262  |     0.630384  |             |  9.6s"
       ]
      },
      {
       "output_type": "stream",
       "stream": "stdout",
       "text": [
        "\n",
        "  3955  |    0.003396  |    0.005272  |     0.644160  |             |  9.6s"
       ]
      },
      {
       "output_type": "stream",
       "stream": "stdout",
       "text": [
        "\n",
        "  3956  |    0.003437  |    0.005288  |     0.649958  |             |  9.5s"
       ]
      },
      {
       "output_type": "stream",
       "stream": "stdout",
       "text": [
        "\n",
        "  3957  |    0.003383  |    0.005287  |     0.639803  |             |  9.5s"
       ]
      },
      {
       "output_type": "stream",
       "stream": "stdout",
       "text": [
        "\n",
        "  3958  |    0.003393  |    0.005289  |     0.641607  |             |  9.5s"
       ]
      },
      {
       "output_type": "stream",
       "stream": "stdout",
       "text": [
        "\n",
        "  3959  |    0.003408  |    0.005281  |     0.645343  |             |  9.5s"
       ]
      },
      {
       "output_type": "stream",
       "stream": "stdout",
       "text": [
        "\n",
        "  3960  |    0.003354  |    0.005256  |     0.638156  |             |  9.5s"
       ]
      },
      {
       "output_type": "stream",
       "stream": "stdout",
       "text": [
        "\n",
        "  3961  |    0.003379  |    0.005298  |     0.637710  |             |  9.5s"
       ]
      },
      {
       "output_type": "stream",
       "stream": "stdout",
       "text": [
        "\n",
        "  3962  |    0.003389  |    0.005315  |     0.637749  |             |  9.5s"
       ]
      },
      {
       "output_type": "stream",
       "stream": "stdout",
       "text": [
        "\n",
        "  3963  |    0.003439  |    0.005281  |     0.651210  |             |  9.5s"
       ]
      },
      {
       "output_type": "stream",
       "stream": "stdout",
       "text": [
        "\n",
        "  3964  |    0.003414  |    0.005266  |     0.648337  |             |  9.5s"
       ]
      },
      {
       "output_type": "stream",
       "stream": "stdout",
       "text": [
        "\n",
        "  3965  |    0.003385  |    0.005277  |     0.641416  |             |  9.5s"
       ]
      },
      {
       "output_type": "stream",
       "stream": "stdout",
       "text": [
        "\n",
        "  3966  |    0.003357  |    0.005290  |     0.634450  |             |  9.5s"
       ]
      },
      {
       "output_type": "stream",
       "stream": "stdout",
       "text": [
        "\n",
        "  3967  |    0.003399  |    0.005283  |     0.643334  |             |  9.5s"
       ]
      },
      {
       "output_type": "stream",
       "stream": "stdout",
       "text": [
        "\n",
        "  3968  |    0.003384  |    0.005276  |     0.641323  |             |  9.6s"
       ]
      },
      {
       "output_type": "stream",
       "stream": "stdout",
       "text": [
        "\n",
        "  3969  |    0.003394  |    0.005295  |     0.640957  |             |  9.5s"
       ]
      },
      {
       "output_type": "stream",
       "stream": "stdout",
       "text": [
        "\n",
        "  3970  |    0.003353  |    0.005303  |     0.632313  |             |  9.6s"
       ]
      },
      {
       "output_type": "stream",
       "stream": "stdout",
       "text": [
        "\n",
        "  3971  |    0.003395  |    0.005312  |     0.639091  |             |  9.6s"
       ]
      },
      {
       "output_type": "stream",
       "stream": "stdout",
       "text": [
        "\n",
        "  3972  |  \u001b[94m  0.003295\u001b[0m  |    0.005320  |     0.619425  |             |  9.6s"
       ]
      },
      {
       "output_type": "stream",
       "stream": "stdout",
       "text": [
        "\n",
        "  3973  |    0.003401  |    0.005285  |     0.643531  |             |  9.6s"
       ]
      },
      {
       "output_type": "stream",
       "stream": "stdout",
       "text": [
        "\n",
        "  3974  |    0.003379  |    0.005297  |     0.637910  |             |  9.6s"
       ]
      },
      {
       "output_type": "stream",
       "stream": "stdout",
       "text": [
        "\n",
        "  3975  |    0.003381  |    0.005292  |     0.638949  |             |  9.6s"
       ]
      },
      {
       "output_type": "stream",
       "stream": "stdout",
       "text": [
        "\n",
        "  3976  |  \u001b[94m  0.003274\u001b[0m  |    0.005326  |     0.614628  |             |  9.6s"
       ]
      },
      {
       "output_type": "stream",
       "stream": "stdout",
       "text": [
        "\n",
        "  3977  |    0.003355  |    0.005281  |     0.635394  |             |  9.6s"
       ]
      },
      {
       "output_type": "stream",
       "stream": "stdout",
       "text": [
        "\n",
        "  3978  |    0.003350  |    0.005287  |     0.633604  |             |  9.6s"
       ]
      },
      {
       "output_type": "stream",
       "stream": "stdout",
       "text": [
        "\n",
        "  3979  |    0.003432  |    0.005281  |     0.649857  |             |  9.5s"
       ]
      },
      {
       "output_type": "stream",
       "stream": "stdout",
       "text": [
        "\n",
        "  3980  |    0.003421  |    0.005313  |     0.643783  |             |  9.5s"
       ]
      },
      {
       "output_type": "stream",
       "stream": "stdout",
       "text": [
        "\n",
        "  3981  |    0.003394  |    0.005300  |     0.640337  |             |  9.5s"
       ]
      },
      {
       "output_type": "stream",
       "stream": "stdout",
       "text": [
        "\n",
        "  3982  |    0.003332  |    0.005279  |     0.631139  |             |  9.5s"
       ]
      },
      {
       "output_type": "stream",
       "stream": "stdout",
       "text": [
        "\n",
        "  3983  |    0.003400  |    0.005280  |     0.643886  |             |  9.5s"
       ]
      },
      {
       "output_type": "stream",
       "stream": "stdout",
       "text": [
        "\n",
        "  3984  |    0.003379  |    0.005280  |     0.640067  |             |  9.5s"
       ]
      },
      {
       "output_type": "stream",
       "stream": "stdout",
       "text": [
        "\n",
        "  3985  |    0.003367  |    0.005316  |     0.633374  |             |  9.5s"
       ]
      },
      {
       "output_type": "stream",
       "stream": "stdout",
       "text": [
        "\n",
        "  3986  |    0.003378  |    0.005307  |     0.636465  |             |  9.5s"
       ]
      },
      {
       "output_type": "stream",
       "stream": "stdout",
       "text": [
        "\n",
        "  3987  |    0.003325  |    0.005250  |     0.633359  |             |  9.2s"
       ]
      },
      {
       "output_type": "stream",
       "stream": "stdout",
       "text": [
        "\n",
        "  3988  |    0.003377  |    0.005274  |     0.640336  |             |  9.2s"
       ]
      },
      {
       "output_type": "stream",
       "stream": "stdout",
       "text": [
        "\n",
        "  3989  |    0.003372  |    0.005269  |     0.640005  |             |  9.2s"
       ]
      },
      {
       "output_type": "stream",
       "stream": "stdout",
       "text": [
        "\n",
        "  3990  |    0.003381  |    0.005281  |     0.640224  |             |  9.2s"
       ]
      },
      {
       "output_type": "stream",
       "stream": "stdout",
       "text": [
        "\n",
        "  3991  |    0.003340  |    0.005264  |     0.634589  |             |  9.3s"
       ]
      },
      {
       "output_type": "stream",
       "stream": "stdout",
       "text": [
        "\n",
        "  3992  |    0.003335  |    0.005316  |     0.627370  |             |  9.3s"
       ]
      },
      {
       "output_type": "stream",
       "stream": "stdout",
       "text": [
        "\n",
        "  3993  |    0.003338  |    0.005279  |     0.632334  |             |  9.4s"
       ]
      },
      {
       "output_type": "stream",
       "stream": "stdout",
       "text": [
        "\n",
        "  3994  |    0.003314  |    0.005285  |     0.627063  |             |  9.5s"
       ]
      },
      {
       "output_type": "stream",
       "stream": "stdout",
       "text": [
        "\n",
        "  3995  |    0.003370  |    0.005278  |     0.638540  |             |  9.5s"
       ]
      },
      {
       "output_type": "stream",
       "stream": "stdout",
       "text": [
        "\n",
        "  3996  |    0.003416  |    0.005282  |     0.646777  |             |  9.5s"
       ]
      },
      {
       "output_type": "stream",
       "stream": "stdout",
       "text": [
        "\n",
        "  3997  |    0.003441  |    0.005279  |     0.651743  |             |  9.5s"
       ]
      },
      {
       "output_type": "stream",
       "stream": "stdout",
       "text": [
        "\n",
        "  3998  |    0.003346  |    0.005299  |     0.631379  |             |  9.4s"
       ]
      },
      {
       "output_type": "stream",
       "stream": "stdout",
       "text": [
        "\n",
        "  3999  |    0.003357  |    0.005307  |     0.632580  |             |  9.3s"
       ]
      },
      {
       "output_type": "stream",
       "stream": "stdout",
       "text": [
        "\n",
        "  4000  |    0.003375  |    0.005271  |     0.640357  |             |  9.2s"
       ]
      },
      {
       "output_type": "stream",
       "stream": "stdout",
       "text": [
        "\n",
        "  4001  |    0.003404  |    0.005315  |     0.640432  |             |  9.2s"
       ]
      },
      {
       "output_type": "stream",
       "stream": "stdout",
       "text": [
        "\n",
        "  4002  |    0.003366  |    0.005301  |     0.635105  |             |  9.2s"
       ]
      },
      {
       "output_type": "stream",
       "stream": "stdout",
       "text": [
        "\n",
        "  4003  |    0.003400  |    0.005325  |     0.638550  |             |  9.2s"
       ]
      },
      {
       "output_type": "stream",
       "stream": "stdout",
       "text": [
        "\n",
        "  4004  |    0.003348  |    0.005245  |     0.638261  |             |  9.2s"
       ]
      },
      {
       "output_type": "stream",
       "stream": "stdout",
       "text": [
        "\n",
        "  4005  |    0.003375  |    0.005260  |     0.641672  |             |  9.2s"
       ]
      },
      {
       "output_type": "stream",
       "stream": "stdout",
       "text": [
        "\n",
        "  4006  |    0.003331  |    0.005262  |     0.633102  |             |  9.3s"
       ]
      },
      {
       "output_type": "stream",
       "stream": "stdout",
       "text": [
        "\n",
        "  4007  |    0.003346  |    0.005275  |     0.634315  |             |  9.4s"
       ]
      },
      {
       "output_type": "stream",
       "stream": "stdout",
       "text": [
        "\n",
        "  4008  |    0.003329  |    0.005283  |     0.630145  |             |  9.5s"
       ]
      },
      {
       "output_type": "stream",
       "stream": "stdout",
       "text": [
        "\n",
        "  4009  |    0.003396  |    0.005279  |     0.643255  |             |  9.5s"
       ]
      },
      {
       "output_type": "stream",
       "stream": "stdout",
       "text": [
        "\n",
        "  4010  |    0.003359  |    0.005270  |     0.637335  |             |  9.4s"
       ]
      },
      {
       "output_type": "stream",
       "stream": "stdout",
       "text": [
        "\n",
        "  4011  |    0.003389  |    0.005270  |     0.642976  |             |  9.3s"
       ]
      },
      {
       "output_type": "stream",
       "stream": "stdout",
       "text": [
        "\n",
        "  4012  |    0.003407  |    0.005269  |     0.646569  |             |  9.3s"
       ]
      },
      {
       "output_type": "stream",
       "stream": "stdout",
       "text": [
        "\n",
        "  4013  |    0.003348  |    0.005321  |     0.629177  |             |  9.5s"
       ]
      },
      {
       "output_type": "stream",
       "stream": "stdout",
       "text": [
        "\n",
        "  4014  |    0.003383  |    0.005250  |     0.644349  |             |  9.5s"
       ]
      },
      {
       "output_type": "stream",
       "stream": "stdout",
       "text": [
        "\n",
        "  4015  |    0.003398  |    0.005281  |     0.643383  |             |  9.6s"
       ]
      },
      {
       "output_type": "stream",
       "stream": "stdout",
       "text": [
        "\n",
        "  4016  |    0.003376  |    0.005275  |     0.639999  |             |  9.3s"
       ]
      },
      {
       "output_type": "stream",
       "stream": "stdout",
       "text": [
        "\n",
        "  4017  |    0.003410  |    0.005316  |     0.641393  |             |  9.2s"
       ]
      },
      {
       "output_type": "stream",
       "stream": "stdout",
       "text": [
        "\n",
        "  4018  |    0.003307  |    0.005276  |     0.626891  |             |  9.3s"
       ]
      },
      {
       "output_type": "stream",
       "stream": "stdout",
       "text": [
        "\n",
        "  4019  |    0.003326  |    0.005292  |     0.628530  |             |  9.3s"
       ]
      },
      {
       "output_type": "stream",
       "stream": "stdout",
       "text": [
        "\n",
        "  4020  |    0.003357  |    0.005271  |     0.636893  |             |  9.2s"
       ]
      },
      {
       "output_type": "stream",
       "stream": "stdout",
       "text": [
        "\n",
        "  4021  |    0.003349  |    0.005276  |     0.634723  |             |  9.2s"
       ]
      },
      {
       "output_type": "stream",
       "stream": "stdout",
       "text": [
        "\n",
        "  4022  |    0.003317  |    0.005272  |     0.629057  |             |  9.2s"
       ]
      },
      {
       "output_type": "stream",
       "stream": "stdout",
       "text": [
        "\n",
        "  4023  |    0.003367  |    0.005285  |     0.637114  |             |  9.4s"
       ]
      },
      {
       "output_type": "stream",
       "stream": "stdout",
       "text": [
        "\n",
        "  4024  |    0.003416  |    0.005271  |     0.648058  |             |  9.6s"
       ]
      },
      {
       "output_type": "stream",
       "stream": "stdout",
       "text": [
        "\n",
        "  4025  |    0.003369  |    0.005267  |     0.639609  |             |  9.7s"
       ]
      },
      {
       "output_type": "stream",
       "stream": "stdout",
       "text": [
        "\n",
        "  4026  |    0.003332  |    0.005242  |     0.635624  |             |  9.6s"
       ]
      },
      {
       "output_type": "stream",
       "stream": "stdout",
       "text": [
        "\n",
        "  4027  |    0.003357  |    0.005292  |     0.634368  |             |  9.4s"
       ]
      },
      {
       "output_type": "stream",
       "stream": "stdout",
       "text": [
        "\n",
        "  4028  |    0.003321  |    0.005283  |     0.628532  |             |  9.5s"
       ]
      },
      {
       "output_type": "stream",
       "stream": "stdout",
       "text": [
        "\n",
        "  4029  |    0.003367  |    0.005290  |     0.636429  |             |  9.5s"
       ]
      },
      {
       "output_type": "stream",
       "stream": "stdout",
       "text": [
        "\n",
        "  4030  |    0.003357  |    0.005285  |     0.635237  |             |  9.4s"
       ]
      },
      {
       "output_type": "stream",
       "stream": "stdout",
       "text": [
        "\n",
        "  4031  |    0.003294  |    0.005321  |     0.619015  |             |  9.5s"
       ]
      },
      {
       "output_type": "stream",
       "stream": "stdout",
       "text": [
        "\n",
        "  4032  |    0.003331  |    0.005282  |     0.630725  |             |  9.5s"
       ]
      },
      {
       "output_type": "stream",
       "stream": "stdout",
       "text": [
        "\n",
        "  4033  |    0.003330  |    0.005266  |     0.632235  |             |  9.5s"
       ]
      },
      {
       "output_type": "stream",
       "stream": "stdout",
       "text": [
        "\n",
        "  4034  |    0.003343  |    0.005275  |     0.633763  |             |  9.3s"
       ]
      },
      {
       "output_type": "stream",
       "stream": "stdout",
       "text": [
        "\n",
        "  4035  |    0.003304  |    0.005291  |     0.624388  |             |  9.2s"
       ]
      },
      {
       "output_type": "stream",
       "stream": "stdout",
       "text": [
        "\n",
        "  4036  |    0.003342  |    0.005237  |     0.638107  |             |  9.2s"
       ]
      },
      {
       "output_type": "stream",
       "stream": "stdout",
       "text": [
        "\n",
        "  4037  |    0.003301  |    0.005271  |     0.626322  |             |  9.3s"
       ]
      },
      {
       "output_type": "stream",
       "stream": "stdout",
       "text": [
        "\n",
        "  4038  |    0.003278  |    0.005281  |     0.620763  |             |  9.2s"
       ]
      },
      {
       "output_type": "stream",
       "stream": "stdout",
       "text": [
        "\n",
        "  4039  |    0.003355  |    0.005264  |     0.637330  |             |  9.3s"
       ]
      },
      {
       "output_type": "stream",
       "stream": "stdout",
       "text": [
        "\n",
        "  4040  |    0.003321  |    0.005245  |     0.633188  |             |  9.3s"
       ]
      },
      {
       "output_type": "stream",
       "stream": "stdout",
       "text": [
        "\n",
        "  4041  |    0.003337  |    0.005265  |     0.633830  |             |  9.4s"
       ]
      },
      {
       "output_type": "stream",
       "stream": "stdout",
       "text": [
        "\n",
        "  4042  |    0.003336  |    0.005255  |     0.634719  |             |  9.3s"
       ]
      },
      {
       "output_type": "stream",
       "stream": "stdout",
       "text": [
        "\n",
        "  4043  |    0.003297  |    0.005264  |     0.626201  |             |  9.2s"
       ]
      },
      {
       "output_type": "stream",
       "stream": "stdout",
       "text": [
        "\n",
        "  4044  |    0.003294  |    0.005261  |     0.626112  |             |  9.3s"
       ]
      },
      {
       "output_type": "stream",
       "stream": "stdout",
       "text": [
        "\n",
        "  4045  |    0.003375  |    0.005273  |     0.640019  |             |  9.2s"
       ]
      },
      {
       "output_type": "stream",
       "stream": "stdout",
       "text": [
        "\n",
        "  4046  |    0.003337  |    0.005294  |     0.630389  |             |  9.3s"
       ]
      },
      {
       "output_type": "stream",
       "stream": "stdout",
       "text": [
        "\n",
        "  4047  |    0.003326  |    0.005286  |     0.629257  |             |  9.3s"
       ]
      },
      {
       "output_type": "stream",
       "stream": "stdout",
       "text": [
        "\n",
        "  4048  |    0.003307  |    0.005288  |     0.625417  |             |  9.3s"
       ]
      },
      {
       "output_type": "stream",
       "stream": "stdout",
       "text": [
        "\n",
        "  4049  |    0.003336  |    0.005266  |     0.633429  |             |  9.3s"
       ]
      },
      {
       "output_type": "stream",
       "stream": "stdout",
       "text": [
        "\n",
        "  4050  |    0.003316  |    0.005256  |     0.631015  |             |  9.3s"
       ]
      },
      {
       "output_type": "stream",
       "stream": "stdout",
       "text": [
        "\n",
        "  4051  |    0.003377  |    0.005274  |     0.640296  |             |  9.2s"
       ]
      },
      {
       "output_type": "stream",
       "stream": "stdout",
       "text": [
        "\n",
        "  4052  |    0.003349  |    0.005271  |     0.635377  |             |  9.2s"
       ]
      },
      {
       "output_type": "stream",
       "stream": "stdout",
       "text": [
        "\n",
        "  4053  |    0.003371  |    0.005310  |     0.634946  |             |  9.3s"
       ]
      },
      {
       "output_type": "stream",
       "stream": "stdout",
       "text": [
        "\n",
        "  4054  |    0.003313  |    0.005257  |     0.630256  |             |  9.2s"
       ]
      },
      {
       "output_type": "stream",
       "stream": "stdout",
       "text": [
        "\n",
        "  4055  |    0.003311  |    0.005292  |     0.625751  |             |  9.3s"
       ]
      },
      {
       "output_type": "stream",
       "stream": "stdout",
       "text": [
        "\n",
        "  4056  |    0.003404  |    0.005287  |     0.643901  |             |  9.3s"
       ]
      },
      {
       "output_type": "stream",
       "stream": "stdout",
       "text": [
        "\n",
        "  4057  |    0.003306  |    0.005269  |     0.627335  |             |  9.3s"
       ]
      },
      {
       "output_type": "stream",
       "stream": "stdout",
       "text": [
        "\n",
        "  4058  |    0.003297  |  \u001b[32m  0.005213\u001b[0m  |     0.632423  |             |  9.2s"
       ]
      },
      {
       "output_type": "stream",
       "stream": "stdout",
       "text": [
        "\n",
        "  4059  |  \u001b[94m  0.003273\u001b[0m  |    0.005292  |     0.618515  |             |  9.2s"
       ]
      },
      {
       "output_type": "stream",
       "stream": "stdout",
       "text": [
        "\n",
        "  4060  |  \u001b[94m  0.003261\u001b[0m  |    0.005245  |     0.621789  |             |  9.2s"
       ]
      },
      {
       "output_type": "stream",
       "stream": "stdout",
       "text": [
        "\n",
        "  4061  |    0.003275  |    0.005266  |     0.621974  |             |  9.2s"
       ]
      },
      {
       "output_type": "stream",
       "stream": "stdout",
       "text": [
        "\n",
        "  4062  |    0.003391  |    0.005266  |     0.643969  |             |  9.2s"
       ]
      },
      {
       "output_type": "stream",
       "stream": "stdout",
       "text": [
        "\n",
        "  4063  |    0.003301  |    0.005265  |     0.626924  |             |  9.2s"
       ]
      },
      {
       "output_type": "stream",
       "stream": "stdout",
       "text": [
        "\n",
        "  4064  |    0.003332  |    0.005252  |     0.634422  |             |  9.2s"
       ]
      },
      {
       "output_type": "stream",
       "stream": "stdout",
       "text": [
        "\n",
        "  4065  |    0.003315  |    0.005280  |     0.627886  |             |  9.2s"
       ]
      },
      {
       "output_type": "stream",
       "stream": "stdout",
       "text": [
        "\n",
        "  4066  |    0.003288  |    0.005252  |     0.626015  |             |  9.2s"
       ]
      },
      {
       "output_type": "stream",
       "stream": "stdout",
       "text": [
        "\n",
        "  4067  |    0.003345  |    0.005279  |     0.633682  |             |  9.2s"
       ]
      },
      {
       "output_type": "stream",
       "stream": "stdout",
       "text": [
        "\n",
        "  4068  |    0.003352  |    0.005254  |     0.637991  |             |  9.2s"
       ]
      },
      {
       "output_type": "stream",
       "stream": "stdout",
       "text": [
        "\n",
        "  4069  |    0.003311  |    0.005266  |     0.628761  |             |  9.2s"
       ]
      },
      {
       "output_type": "stream",
       "stream": "stdout",
       "text": [
        "\n",
        "  4070  |    0.003281  |    0.005241  |     0.626109  |             |  9.2s"
       ]
      },
      {
       "output_type": "stream",
       "stream": "stdout",
       "text": [
        "\n",
        "  4071  |    0.003310  |    0.005255  |     0.629779  |             |  9.3s"
       ]
      },
      {
       "output_type": "stream",
       "stream": "stdout",
       "text": [
        "\n",
        "  4072  |    0.003305  |    0.005252  |     0.629255  |             |  9.6s"
       ]
      },
      {
       "output_type": "stream",
       "stream": "stdout",
       "text": [
        "\n",
        "  4073  |    0.003332  |    0.005273  |     0.631891  |             |  9.6s"
       ]
      },
      {
       "output_type": "stream",
       "stream": "stdout",
       "text": [
        "\n",
        "  4074  |    0.003391  |    0.005241  |     0.647022  |             |  9.5s"
       ]
      },
      {
       "output_type": "stream",
       "stream": "stdout",
       "text": [
        "\n",
        "  4075  |    0.003332  |    0.005272  |     0.632004  |             |  9.6s"
       ]
      },
      {
       "output_type": "stream",
       "stream": "stdout",
       "text": [
        "\n",
        "  4076  |    0.003298  |    0.005235  |     0.630003  |             |  9.7s"
       ]
      },
      {
       "output_type": "stream",
       "stream": "stdout",
       "text": [
        "\n",
        "  4077  |    0.003342  |    0.005263  |     0.634957  |             |  9.6s"
       ]
      },
      {
       "output_type": "stream",
       "stream": "stdout",
       "text": [
        "\n",
        "  4078  |    0.003270  |    0.005248  |     0.623125  |             |  9.6s"
       ]
      },
      {
       "output_type": "stream",
       "stream": "stdout",
       "text": [
        "\n",
        "  4079  |    0.003371  |    0.005273  |     0.639266  |             |  9.6s"
       ]
      },
      {
       "output_type": "stream",
       "stream": "stdout",
       "text": [
        "\n",
        "  4080  |    0.003379  |    0.005282  |     0.639760  |             |  9.5s"
       ]
      },
      {
       "output_type": "stream",
       "stream": "stdout",
       "text": [
        "\n",
        "  4081  |    0.003315  |    0.005296  |     0.626001  |             |  9.6s"
       ]
      },
      {
       "output_type": "stream",
       "stream": "stdout",
       "text": [
        "\n",
        "  4082  |    0.003282  |    0.005276  |     0.622034  |             |  9.6s"
       ]
      },
      {
       "output_type": "stream",
       "stream": "stdout",
       "text": [
        "\n",
        "  4083  |  \u001b[94m  0.003244\u001b[0m  |    0.005287  |     0.613561  |             |  9.6s"
       ]
      },
      {
       "output_type": "stream",
       "stream": "stdout",
       "text": [
        "\n",
        "  4084  |    0.003295  |    0.005257  |     0.626811  |             |  9.6s"
       ]
      },
      {
       "output_type": "stream",
       "stream": "stdout",
       "text": [
        "\n",
        "  4085  |    0.003335  |    0.005292  |     0.630209  |             |  9.6s"
       ]
      },
      {
       "output_type": "stream",
       "stream": "stdout",
       "text": [
        "\n",
        "  4086  |    0.003353  |    0.005226  |     0.641498  |             |  9.6s"
       ]
      },
      {
       "output_type": "stream",
       "stream": "stdout",
       "text": [
        "\n",
        "  4087  |    0.003310  |    0.005266  |     0.628488  |             |  9.7s"
       ]
      },
      {
       "output_type": "stream",
       "stream": "stdout",
       "text": [
        "\n",
        "  4088  |    0.003312  |    0.005270  |     0.628430  |             |  9.7s"
       ]
      },
      {
       "output_type": "stream",
       "stream": "stdout",
       "text": [
        "\n",
        "  4089  |    0.003362  |    0.005269  |     0.638169  |             |  9.7s"
       ]
      },
      {
       "output_type": "stream",
       "stream": "stdout",
       "text": [
        "\n",
        "  4090  |    0.003288  |    0.005287  |     0.621768  |             |  9.6s"
       ]
      },
      {
       "output_type": "stream",
       "stream": "stdout",
       "text": [
        "\n",
        "  4091  |    0.003314  |    0.005293  |     0.626109  |             |  9.6s"
       ]
      },
      {
       "output_type": "stream",
       "stream": "stdout",
       "text": [
        "\n",
        "  4092  |    0.003339  |    0.005254  |     0.635444  |             |  9.6s"
       ]
      },
      {
       "output_type": "stream",
       "stream": "stdout",
       "text": [
        "\n",
        "  4093  |    0.003280  |    0.005284  |     0.620835  |             |  9.6s"
       ]
      },
      {
       "output_type": "stream",
       "stream": "stdout",
       "text": [
        "\n",
        "  4094  |    0.003349  |    0.005278  |     0.634480  |             |  9.6s"
       ]
      },
      {
       "output_type": "stream",
       "stream": "stdout",
       "text": [
        "\n",
        "  4095  |    0.003318  |    0.005245  |     0.632624  |             |  9.6s"
       ]
      },
      {
       "output_type": "stream",
       "stream": "stdout",
       "text": [
        "\n",
        "  4096  |    0.003270  |    0.005287  |     0.618632  |             |  9.6s"
       ]
      },
      {
       "output_type": "stream",
       "stream": "stdout",
       "text": [
        "\n",
        "  4097  |    0.003276  |    0.005243  |     0.624871  |             |  9.6s"
       ]
      },
      {
       "output_type": "stream",
       "stream": "stdout",
       "text": [
        "\n",
        "  4098  |    0.003294  |    0.005246  |     0.627757  |             |  9.2s"
       ]
      },
      {
       "output_type": "stream",
       "stream": "stdout",
       "text": [
        "\n",
        "  4099  |    0.003314  |    0.005247  |     0.631630  |             |  9.2s"
       ]
      },
      {
       "output_type": "stream",
       "stream": "stdout",
       "text": [
        "\n",
        "  4100  |    0.003334  |    0.005280  |     0.631424  |             |  9.2s"
       ]
      },
      {
       "output_type": "stream",
       "stream": "stdout",
       "text": [
        "\n",
        "  4101  |    0.003288  |    0.005244  |     0.627118  |             |  9.2s"
       ]
      },
      {
       "output_type": "stream",
       "stream": "stdout",
       "text": [
        "\n",
        "  4102  |    0.003317  |    0.005262  |     0.630380  |             |  9.2s"
       ]
      },
      {
       "output_type": "stream",
       "stream": "stdout",
       "text": [
        "\n",
        "  4103  |    0.003282  |    0.005237  |     0.626637  |             |  9.2s"
       ]
      },
      {
       "output_type": "stream",
       "stream": "stdout",
       "text": [
        "\n",
        "  4104  |    0.003305  |    0.005239  |     0.630909  |             |  9.2s"
       ]
      },
      {
       "output_type": "stream",
       "stream": "stdout",
       "text": [
        "\n",
        "  4105  |    0.003305  |    0.005244  |     0.630176  |             |  9.2s"
       ]
      },
      {
       "output_type": "stream",
       "stream": "stdout",
       "text": [
        "\n",
        "  4106  |    0.003270  |    0.005297  |     0.617322  |             |  9.2s"
       ]
      },
      {
       "output_type": "stream",
       "stream": "stdout",
       "text": [
        "\n",
        "  4107  |    0.003296  |    0.005250  |     0.627849  |             |  9.4s"
       ]
      },
      {
       "output_type": "stream",
       "stream": "stdout",
       "text": [
        "\n",
        "  4108  |    0.003312  |    0.005269  |     0.628560  |             |  9.5s"
       ]
      },
      {
       "output_type": "stream",
       "stream": "stdout",
       "text": [
        "\n",
        "  4109  |    0.003256  |    0.005253  |     0.619747  |             |  9.5s"
       ]
      },
      {
       "output_type": "stream",
       "stream": "stdout",
       "text": [
        "\n",
        "  4110  |    0.003271  |    0.005283  |     0.619091  |             |  9.5s"
       ]
      },
      {
       "output_type": "stream",
       "stream": "stdout",
       "text": [
        "\n",
        "  4111  |    0.003271  |    0.005245  |     0.623673  |             |  9.5s"
       ]
      },
      {
       "output_type": "stream",
       "stream": "stdout",
       "text": [
        "\n",
        "  4112  |    0.003253  |    0.005297  |     0.614118  |             |  9.3s"
       ]
      },
      {
       "output_type": "stream",
       "stream": "stdout",
       "text": [
        "\n",
        "  4113  |    0.003331  |    0.005268  |     0.632302  |             |  9.3s"
       ]
      },
      {
       "output_type": "stream",
       "stream": "stdout",
       "text": [
        "\n",
        "  4114  |    0.003287  |    0.005250  |     0.626003  |             |  9.3s"
       ]
      },
      {
       "output_type": "stream",
       "stream": "stdout",
       "text": [
        "\n",
        "  4115  |    0.003305  |    0.005291  |     0.624621  |             |  9.4s"
       ]
      },
      {
       "output_type": "stream",
       "stream": "stdout",
       "text": [
        "\n",
        "  4116  |  \u001b[94m  0.003231\u001b[0m  |    0.005269  |     0.613169  |             |  9.4s"
       ]
      },
      {
       "output_type": "stream",
       "stream": "stdout",
       "text": [
        "\n",
        "  4117  |    0.003334  |    0.005251  |     0.634915  |             |  9.5s"
       ]
      },
      {
       "output_type": "stream",
       "stream": "stdout",
       "text": [
        "\n",
        "  4118  |    0.003279  |    0.005229  |     0.627120  |             |  9.5s"
       ]
      },
      {
       "output_type": "stream",
       "stream": "stdout",
       "text": [
        "\n",
        "  4119  |    0.003265  |    0.005263  |     0.620389  |             |  9.4s"
       ]
      },
      {
       "output_type": "stream",
       "stream": "stdout",
       "text": [
        "\n",
        "  4120  |    0.003259  |    0.005286  |     0.616498  |             |  9.7s"
       ]
      },
      {
       "output_type": "stream",
       "stream": "stdout",
       "text": [
        "\n",
        "  4121  |    0.003279  |    0.005251  |     0.624398  |             |  9.7s"
       ]
      },
      {
       "output_type": "stream",
       "stream": "stdout",
       "text": [
        "\n",
        "  4122  |    0.003285  |    0.005274  |     0.622947  |             |  9.5s"
       ]
      },
      {
       "output_type": "stream",
       "stream": "stdout",
       "text": [
        "\n",
        "  4123  |    0.003311  |    0.005273  |     0.627888  |             |  9.4s"
       ]
      },
      {
       "output_type": "stream",
       "stream": "stdout",
       "text": [
        "\n",
        "  4124  |    0.003291  |    0.005239  |     0.628107  |             |  9.5s"
       ]
      },
      {
       "output_type": "stream",
       "stream": "stdout",
       "text": [
        "\n",
        "  4125  |    0.003289  |    0.005250  |     0.626363  |             |  9.4s"
       ]
      },
      {
       "output_type": "stream",
       "stream": "stdout",
       "text": [
        "\n",
        "  4126  |  \u001b[94m  0.003209\u001b[0m  |    0.005303  |     0.605202  |             |  9.5s"
       ]
      },
      {
       "output_type": "stream",
       "stream": "stdout",
       "text": [
        "\n",
        "  4127  |    0.003228  |    0.005242  |     0.615920  |             |  9.5s"
       ]
      },
      {
       "output_type": "stream",
       "stream": "stdout",
       "text": [
        "\n",
        "  4128  |    0.003261  |    0.005257  |     0.620254  |             |  9.5s"
       ]
      },
      {
       "output_type": "stream",
       "stream": "stdout",
       "text": [
        "\n",
        "  4129  |    0.003345  |    0.005266  |     0.635169  |             |  9.5s"
       ]
      },
      {
       "output_type": "stream",
       "stream": "stdout",
       "text": [
        "\n",
        "  4130  |    0.003250  |    0.005284  |     0.615196  |             |  9.4s"
       ]
      },
      {
       "output_type": "stream",
       "stream": "stdout",
       "text": [
        "\n",
        "  4131  |    0.003279  |    0.005249  |     0.624751  |             |  9.5s"
       ]
      },
      {
       "output_type": "stream",
       "stream": "stdout",
       "text": [
        "\n",
        "  4132  |    0.003278  |    0.005280  |     0.620850  |             |  9.5s"
       ]
      },
      {
       "output_type": "stream",
       "stream": "stdout",
       "text": [
        "\n",
        "  4133  |    0.003327  |    0.005275  |     0.630644  |             |  9.6s"
       ]
      },
      {
       "output_type": "stream",
       "stream": "stdout",
       "text": [
        "\n",
        "  4134  |    0.003219  |    0.005228  |     0.615649  |             |  9.7s"
       ]
      },
      {
       "output_type": "stream",
       "stream": "stdout",
       "text": [
        "\n",
        "  4135  |    0.003279  |    0.005277  |     0.621319  |             |  9.6s"
       ]
      },
      {
       "output_type": "stream",
       "stream": "stdout",
       "text": [
        "\n",
        "  4136  |    0.003292  |    0.005260  |     0.625779  |             |  9.6s"
       ]
      },
      {
       "output_type": "stream",
       "stream": "stdout",
       "text": [
        "\n",
        "  4137  |    0.003316  |    0.005282  |     0.627864  |             |  9.5s"
       ]
      },
      {
       "output_type": "stream",
       "stream": "stdout",
       "text": [
        "\n",
        "  4138  |    0.003278  |    0.005283  |     0.620411  |             |  9.5s"
       ]
      },
      {
       "output_type": "stream",
       "stream": "stdout",
       "text": [
        "\n",
        "  4139  |    0.003331  |    0.005240  |     0.635720  |             |  9.5s"
       ]
      },
      {
       "output_type": "stream",
       "stream": "stdout",
       "text": [
        "\n",
        "  4140  |    0.003294  |    0.005247  |     0.627919  |             |  9.5s"
       ]
      },
      {
       "output_type": "stream",
       "stream": "stdout",
       "text": [
        "\n",
        "  4141  |    0.003259  |    0.005257  |     0.620056  |             |  9.5s"
       ]
      },
      {
       "output_type": "stream",
       "stream": "stdout",
       "text": [
        "\n",
        "  4142  |    0.003277  |    0.005273  |     0.621443  |             |  9.4s"
       ]
      },
      {
       "output_type": "stream",
       "stream": "stdout",
       "text": [
        "\n",
        "  4143  |    0.003339  |    0.005292  |     0.630959  |             |  9.5s"
       ]
      },
      {
       "output_type": "stream",
       "stream": "stdout",
       "text": [
        "\n",
        "  4144  |    0.003291  |    0.005243  |     0.627719  |             |  9.5s"
       ]
      },
      {
       "output_type": "stream",
       "stream": "stdout",
       "text": [
        "\n",
        "  4145  |    0.003277  |    0.005263  |     0.622611  |             |  9.5s"
       ]
      },
      {
       "output_type": "stream",
       "stream": "stdout",
       "text": [
        "\n",
        "  4146  |    0.003233  |    0.005257  |     0.615010  |             |  9.5s"
       ]
      },
      {
       "output_type": "stream",
       "stream": "stdout",
       "text": [
        "\n",
        "  4147  |    0.003247  |    0.005241  |     0.619563  |             |  9.5s"
       ]
      },
      {
       "output_type": "stream",
       "stream": "stdout",
       "text": [
        "\n",
        "  4148  |    0.003309  |    0.005238  |     0.631794  |             |  9.5s"
       ]
      },
      {
       "output_type": "stream",
       "stream": "stdout",
       "text": [
        "\n",
        "  4149  |    0.003292  |    0.005233  |     0.629197  |             |  9.5s"
       ]
      },
      {
       "output_type": "stream",
       "stream": "stdout",
       "text": [
        "\n",
        "  4150  |    0.003243  |    0.005282  |     0.613882  |             |  9.4s"
       ]
      },
      {
       "output_type": "stream",
       "stream": "stdout",
       "text": [
        "\n",
        "  4151  |    0.003244  |    0.005242  |     0.618792  |             |  9.5s"
       ]
      },
      {
       "output_type": "stream",
       "stream": "stdout",
       "text": [
        "\n",
        "  4152  |    0.003344  |    0.005262  |     0.635428  |             |  9.5s"
       ]
      },
      {
       "output_type": "stream",
       "stream": "stdout",
       "text": [
        "\n",
        "  4153  |    0.003260  |    0.005243  |     0.621644  |             |  9.5s"
       ]
      },
      {
       "output_type": "stream",
       "stream": "stdout",
       "text": [
        "\n",
        "  4154  |    0.003260  |    0.005260  |     0.619742  |             |  9.5s"
       ]
      },
      {
       "output_type": "stream",
       "stream": "stdout",
       "text": [
        "\n",
        "  4155  |    0.003289  |  \u001b[32m  0.005213\u001b[0m  |     0.630972  |             |  9.4s"
       ]
      },
      {
       "output_type": "stream",
       "stream": "stdout",
       "text": [
        "\n",
        "  4156  |    0.003301  |    0.005225  |     0.631788  |             |  9.4s"
       ]
      },
      {
       "output_type": "stream",
       "stream": "stdout",
       "text": [
        "\n",
        "  4157  |    0.003267  |    0.005247  |     0.622576  |             |  9.5s"
       ]
      },
      {
       "output_type": "stream",
       "stream": "stdout",
       "text": [
        "\n",
        "  4158  |    0.003275  |    0.005258  |     0.622928  |             |  9.5s"
       ]
      },
      {
       "output_type": "stream",
       "stream": "stdout",
       "text": [
        "\n",
        "  4159  |    0.003256  |    0.005270  |     0.617885  |             |  9.5s"
       ]
      },
      {
       "output_type": "stream",
       "stream": "stdout",
       "text": [
        "\n",
        "  4160  |    0.003210  |    0.005240  |     0.612596  |             |  9.5s"
       ]
      },
      {
       "output_type": "stream",
       "stream": "stdout",
       "text": [
        "\n",
        "  4161  |    0.003316  |    0.005264  |     0.629974  |             |  9.5s"
       ]
      },
      {
       "output_type": "stream",
       "stream": "stdout",
       "text": [
        "\n",
        "  4162  |    0.003267  |    0.005217  |     0.626252  |             |  9.4s"
       ]
      },
      {
       "output_type": "stream",
       "stream": "stdout",
       "text": [
        "\n",
        "  4163  |  \u001b[94m  0.003183\u001b[0m  |    0.005224  |     0.609411  |             |  9.5s"
       ]
      },
      {
       "output_type": "stream",
       "stream": "stdout",
       "text": [
        "\n",
        "  4164  |    0.003232  |    0.005227  |     0.618290  |             |  9.4s"
       ]
      },
      {
       "output_type": "stream",
       "stream": "stdout",
       "text": [
        "\n",
        "  4165  |    0.003284  |    0.005266  |     0.623607  |             |  9.2s"
       ]
      },
      {
       "output_type": "stream",
       "stream": "stdout",
       "text": [
        "\n",
        "  4166  |    0.003260  |    0.005255  |     0.620256  |             |  9.3s"
       ]
      },
      {
       "output_type": "stream",
       "stream": "stdout",
       "text": [
        "\n",
        "  4167  |    0.003286  |    0.005267  |     0.623881  |             |  9.3s"
       ]
      },
      {
       "output_type": "stream",
       "stream": "stdout",
       "text": [
        "\n",
        "  4168  |    0.003257  |    0.005265  |     0.618652  |             |  9.2s"
       ]
      },
      {
       "output_type": "stream",
       "stream": "stdout",
       "text": [
        "\n",
        "  4169  |    0.003310  |    0.005240  |     0.631563  |             |  9.2s"
       ]
      },
      {
       "output_type": "stream",
       "stream": "stdout",
       "text": [
        "\n",
        "  4170  |    0.003255  |    0.005288  |     0.615650  |             |  9.2s"
       ]
      },
      {
       "output_type": "stream",
       "stream": "stdout",
       "text": [
        "\n",
        "  4171  |    0.003293  |    0.005225  |     0.630261  |             |  9.4s"
       ]
      },
      {
       "output_type": "stream",
       "stream": "stdout",
       "text": [
        "\n",
        "  4172  |    0.003243  |    0.005274  |     0.614852  |             |  9.4s"
       ]
      },
      {
       "output_type": "stream",
       "stream": "stdout",
       "text": [
        "\n",
        "  4173  |    0.003235  |    0.005254  |     0.615774  |             |  9.5s"
       ]
      },
      {
       "output_type": "stream",
       "stream": "stdout",
       "text": [
        "\n",
        "  4174  |    0.003254  |    0.005256  |     0.619025  |             |  9.4s"
       ]
      },
      {
       "output_type": "stream",
       "stream": "stdout",
       "text": [
        "\n",
        "  4175  |    0.003300  |    0.005241  |     0.629769  |             |  9.5s"
       ]
      },
      {
       "output_type": "stream",
       "stream": "stdout",
       "text": [
        "\n",
        "  4176  |    0.003328  |    0.005241  |     0.634897  |             |  9.5s"
       ]
      },
      {
       "output_type": "stream",
       "stream": "stdout",
       "text": [
        "\n",
        "  4177  |    0.003231  |    0.005246  |     0.615884  |             |  9.5s"
       ]
      },
      {
       "output_type": "stream",
       "stream": "stdout",
       "text": [
        "\n",
        "  4178  |    0.003263  |    0.005281  |     0.617763  |             |  9.5s"
       ]
      },
      {
       "output_type": "stream",
       "stream": "stdout",
       "text": [
        "\n",
        "  4179  |    0.003229  |    0.005238  |     0.616385  |             |  9.5s"
       ]
      },
      {
       "output_type": "stream",
       "stream": "stdout",
       "text": [
        "\n",
        "  4180  |    0.003256  |    0.005249  |     0.620392  |             |  9.5s"
       ]
      },
      {
       "output_type": "stream",
       "stream": "stdout",
       "text": [
        "\n",
        "  4181  |    0.003192  |  \u001b[32m  0.005211\u001b[0m  |     0.612472  |             |  9.5s"
       ]
      },
      {
       "output_type": "stream",
       "stream": "stdout",
       "text": [
        "\n",
        "  4182  |    0.003274  |    0.005254  |     0.623205  |             |  9.5s"
       ]
      },
      {
       "output_type": "stream",
       "stream": "stdout",
       "text": [
        "\n",
        "  4183  |    0.003259  |    0.005253  |     0.620348  |             |  9.5s"
       ]
      },
      {
       "output_type": "stream",
       "stream": "stdout",
       "text": [
        "\n",
        "  4184  |    0.003250  |    0.005295  |     0.613896  |             |  9.5s"
       ]
      },
      {
       "output_type": "stream",
       "stream": "stdout",
       "text": [
        "\n",
        "  4185  |    0.003238  |    0.005244  |     0.617397  |             |  9.6s"
       ]
      },
      {
       "output_type": "stream",
       "stream": "stdout",
       "text": [
        "\n",
        "  4186  |    0.003265  |    0.005268  |     0.619711  |             |  9.5s"
       ]
      },
      {
       "output_type": "stream",
       "stream": "stdout",
       "text": [
        "\n",
        "  4187  |    0.003215  |    0.005238  |     0.613867  |             |  9.5s"
       ]
      },
      {
       "output_type": "stream",
       "stream": "stdout",
       "text": [
        "\n",
        "  4188  |    0.003237  |    0.005253  |     0.616317  |             |  9.5s"
       ]
      },
      {
       "output_type": "stream",
       "stream": "stdout",
       "text": [
        "\n",
        "  4189  |    0.003311  |    0.005238  |     0.632110  |             |  9.5s"
       ]
      },
      {
       "output_type": "stream",
       "stream": "stdout",
       "text": [
        "\n",
        "  4190  |    0.003219  |    0.005267  |     0.611093  |             |  9.5s"
       ]
      },
      {
       "output_type": "stream",
       "stream": "stdout",
       "text": [
        "\n",
        "  4191  |    0.003248  |    0.005255  |     0.618038  |             |  9.2s"
       ]
      },
      {
       "output_type": "stream",
       "stream": "stdout",
       "text": [
        "\n",
        "  4192  |    0.003235  |    0.005234  |     0.617984  |             |  9.3s"
       ]
      },
      {
       "output_type": "stream",
       "stream": "stdout",
       "text": [
        "\n",
        "  4193  |    0.003208  |    0.005243  |     0.611867  |             |  9.5s"
       ]
      },
      {
       "output_type": "stream",
       "stream": "stdout",
       "text": [
        "\n",
        "  4194  |    0.003257  |    0.005239  |     0.621673  |             |  9.5s"
       ]
      },
      {
       "output_type": "stream",
       "stream": "stdout",
       "text": [
        "\n",
        "  4195  |  \u001b[94m  0.003170\u001b[0m  |    0.005263  |     0.602234  |             |  9.5s"
       ]
      },
      {
       "output_type": "stream",
       "stream": "stdout",
       "text": [
        "\n",
        "  4196  |    0.003244  |    0.005246  |     0.618469  |             |  9.5s"
       ]
      },
      {
       "output_type": "stream",
       "stream": "stdout",
       "text": [
        "\n",
        "  4197  |    0.003295  |    0.005254  |     0.627204  |             |  9.5s"
       ]
      },
      {
       "output_type": "stream",
       "stream": "stdout",
       "text": [
        "\n",
        "  4198  |    0.003261  |    0.005260  |     0.620034  |             |  9.5s"
       ]
      },
      {
       "output_type": "stream",
       "stream": "stdout",
       "text": [
        "\n",
        "  4199  |    0.003203  |    0.005263  |     0.608476  |             |  9.6s"
       ]
      },
      {
       "output_type": "stream",
       "stream": "stdout",
       "text": [
        "\n",
        "  4200  |    0.003227  |    0.005255  |     0.613989  |             |  9.6s"
       ]
      },
      {
       "output_type": "stream",
       "stream": "stdout",
       "text": [
        "\n",
        "  4201  |    0.003236  |    0.005282  |     0.612650  |             |  9.6s"
       ]
      },
      {
       "output_type": "stream",
       "stream": "stdout",
       "text": [
        "\n",
        "  4202  |    0.003209  |    0.005257  |     0.610465  |             |  9.6s"
       ]
      },
      {
       "output_type": "stream",
       "stream": "stdout",
       "text": [
        "\n",
        "  4203  |    0.003274  |    0.005249  |     0.623790  |             |  9.6s"
       ]
      },
      {
       "output_type": "stream",
       "stream": "stdout",
       "text": [
        "\n",
        "  4204  |    0.003229  |    0.005301  |     0.609087  |             |  9.6s"
       ]
      }
     ],
     "prompt_number": "*"
    },
    {
     "cell_type": "code",
     "collapsed": false,
     "input": [
      "train_loss_6 = np.array([i[\"train_loss\"] for i in net7.train_history_])\n",
      "valid_loss_6 = np.array([i[\"valid_loss\"] for i in net7.train_history_])\n",
      "pyplot.plot(train_loss_6, linewidth=3, label=\"train\")\n",
      "pyplot.plot(valid_loss_6, linewidth=3, label=\"valid\")\n",
      "pyplot.grid()\n",
      "pyplot.legend()\n",
      "pyplot.xlabel(\"epoch\")\n",
      "pyplot.ylabel(\"loss\")\n",
      "pyplot.ylim(0.1e-2, 3.2e-2)\n",
      "# pyplot.yscale(\"log\")\n",
      "pyplot.show()"
     ],
     "language": "python",
     "metadata": {},
     "outputs": [],
     "prompt_number": "*"
    },
    {
     "cell_type": "markdown",
     "metadata": {},
     "source": [
      "# start from here!!!!!!!!!!!!!!!!!!!!!\n",
      "\n",
      "## load model from Lasagne_6th_drop_change_extend.pickle extend with test1 answer"
     ]
    },
    {
     "cell_type": "code",
     "collapsed": false,
     "input": [
      "import cPickle as pickle\n",
      "with open('./Lasagne_10th_CNN_add.pickle', 'rb') as f:\n",
      "    net7 = pickle.load(f)\n"
     ],
     "language": "python",
     "metadata": {},
     "outputs": []
    },
    {
     "cell_type": "code",
     "collapsed": false,
     "input": [
      "# from sklearn.base import clone\n",
      "# model2 = clone(net7)\n",
      "# model2.load_weights_from(model)"
     ],
     "language": "python",
     "metadata": {},
     "outputs": []
    },
    {
     "cell_type": "code",
     "collapsed": false,
     "input": [
      "# model"
     ],
     "language": "python",
     "metadata": {},
     "outputs": []
    },
    {
     "cell_type": "code",
     "collapsed": false,
     "input": [
      "train_loss_6 = np.array([i[\"train_loss\"] for i in net7.train_history_])\n",
      "valid_loss_6 = np.array([i[\"valid_loss\"] for i in net7.train_history_])\n",
      "pyplot.plot(train_loss_6, linewidth=3, label=\"train\")\n",
      "pyplot.plot(valid_loss_6, linewidth=3, label=\"valid\")\n",
      "pyplot.grid()\n",
      "pyplot.legend()\n",
      "pyplot.xlabel(\"epoch\")\n",
      "pyplot.ylabel(\"loss\")\n",
      "pyplot.ylim(0.1e-2, 3.2e-2)\n",
      "# pyplot.yscale(\"log\")\n",
      "pyplot.show()"
     ],
     "language": "python",
     "metadata": {},
     "outputs": []
    },
    {
     "cell_type": "code",
     "collapsed": false,
     "input": [
      "net7.train_history_"
     ],
     "language": "python",
     "metadata": {},
     "outputs": []
    },
    {
     "cell_type": "code",
     "collapsed": false,
     "input": [
      "# net7.dropout1_p = 0.2\n",
      "# net7.dropout2_p = 0.3\n",
      "# net7.dropout3_p = 0.4\n",
      "net7.max_epochs = 2500"
     ],
     "language": "python",
     "metadata": {},
     "outputs": []
    },
    {
     "cell_type": "code",
     "collapsed": false,
     "input": [
      "import sys\n",
      "sys.setrecursionlimit(10000)\n",
      "\n",
      "X_6, y_6 = transform_6(x, y)\n",
      "%time net7.fit(X_6, y_6)\n",
      "\n",
      "import cPickle as pickle\n",
      "with open('Lasagne_7th_test1_0.pickle', 'wb') as f:\n",
      "    pickle.dump(net7, f, -1)"
     ],
     "language": "python",
     "metadata": {},
     "outputs": []
    },
    {
     "cell_type": "code",
     "collapsed": false,
     "input": [
      "train_loss_6 = np.array([i[\"train_loss\"] for i in net7.train_history_])\n",
      "valid_loss_6 = np.array([i[\"valid_loss\"] for i in net7.train_history_])\n",
      "pyplot.plot(train_loss_6, linewidth=3, label=\"train\")\n",
      "pyplot.plot(valid_loss_6, linewidth=3, label=\"valid\")\n",
      "pyplot.grid()\n",
      "pyplot.legend()\n",
      "pyplot.xlabel(\"epoch\")\n",
      "pyplot.ylabel(\"loss\")\n",
      "pyplot.ylim(0.1e-2, 3.2e-2)\n",
      "# pyplot.yscale(\"log\")\n",
      "pyplot.show()"
     ],
     "language": "python",
     "metadata": {},
     "outputs": []
    },
    {
     "cell_type": "code",
     "collapsed": false,
     "input": [
      "# from sklearn import metrics\n",
      "\n",
      "# Xt_6, yt_6 = transform_6(X_test, y_test)\n",
      "\n",
      "# # overfit result, should use validation result\n",
      "# y_pred = net7.predict(Xt_6)\n",
      "# # print y_pred[1]\n",
      "# # np.argmax(y_pred[i]),np.argmax(y[i])\n",
      "# y_pred = np.array(map((lambda x: np.argmax(x)), y_pred))\n",
      "# yyy = np.array(map((lambda x: np.argmax(x)), yt_6))\n",
      "\n",
      "# print metrics.classification_report((yyy), (y_pred))"
     ],
     "language": "python",
     "metadata": {},
     "outputs": []
    },
    {
     "cell_type": "markdown",
     "metadata": {},
     "source": [
      "## load model"
     ]
    },
    {
     "cell_type": "code",
     "collapsed": false,
     "input": [
      "# import cPickle as pickle\n",
      "\n",
      "# with open('./Lasagne_2nd.pickle', 'rb') as f:\n",
      "#     specialists = pickle.load(f)\n"
     ],
     "language": "python",
     "metadata": {},
     "outputs": []
    },
    {
     "cell_type": "markdown",
     "metadata": {},
     "source": [
      "## submit test data "
     ]
    },
    {
     "cell_type": "code",
     "collapsed": false,
     "input": [
      "import pandas as pd\n",
      "\n",
      "xx_test, yy_test = load_svmlight_file(\"./phase1/new/aug_test2_50.dat\")"
     ],
     "language": "python",
     "metadata": {},
     "outputs": [],
     "prompt_number": "*"
    },
    {
     "cell_type": "code",
     "collapsed": false,
     "input": [
      "xx_test.shape"
     ],
     "language": "python",
     "metadata": {},
     "outputs": [],
     "prompt_number": "*"
    },
    {
     "cell_type": "code",
     "collapsed": false,
     "input": [
      "xx_test = np.array(xx_test.todense()).reshape(-1,)\n",
      "# xx_train = xx_train.dtype(np.float32)\n",
      "xx_test = np.float32(xx_test)\n",
      "xx_test = xx_test.reshape(7472,2500)\n",
      "\n",
      "xx_test = xx_test.astype(np.float32)\n",
      "\n",
      "def one_hot(x,n):\n",
      "    if type(x) == list:\n",
      "            x = np.array(x)\n",
      "    x = x.flatten()\n",
      "    o_h = np.zeros((len(x),n))\n",
      "    o_h[np.arange(len(x)),x] = 1\n",
      "    return o_h\n",
      "\n",
      "yy_test = yy_test.astype(int32)    \n",
      "yy_test = one_hot(yy_test, 32)\n",
      "yy_test = yy_test.astype(np.float32)\n",
      "\n",
      "Xt, yt = transform_6(xx_test, yy_test)\n",
      "result = net7.predict(Xt)\n",
      "result = np.array(map((lambda x: np.argmax(x)), result))\n",
      "result.astype(int)"
     ],
     "language": "python",
     "metadata": {},
     "outputs": [],
     "prompt_number": "*"
    },
    {
     "cell_type": "code",
     "collapsed": false,
     "input": [
      "df_submission = pd.DataFrame( result.astype(int) ,columns=None)\n",
      "\n",
      "df_submission.to_csv('./Lasagne_15th_CNN_filter_size.dat', index=None)"
     ],
     "language": "python",
     "metadata": {},
     "outputs": [],
     "prompt_number": "*"
    }
   ],
   "metadata": {}
  }
 ]
}