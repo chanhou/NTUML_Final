{
 "metadata": {
  "name": ""
 },
 "nbformat": 3,
 "nbformat_minor": 0,
 "worksheets": [
  {
   "cells": [
    {
     "cell_type": "markdown",
     "metadata": {},
     "source": [
      "## Lasagne code try and edit"
     ]
    },
    {
     "cell_type": "markdown",
     "metadata": {},
     "source": [
      "## input our data"
     ]
    },
    {
     "cell_type": "code",
     "collapsed": false,
     "input": [
      "import numpy as np\n",
      "import math\n",
      "import scipy.linalg as sp\n",
      "from sklearn.datasets import load_svmlight_file"
     ],
     "language": "python",
     "metadata": {},
     "outputs": [],
     "prompt_number": 2
    },
    {
     "cell_type": "code",
     "collapsed": false,
     "input": [
      "xx_train, y = load_svmlight_file(\"./phase1/new/new2/hogtrainsymetry.dat\")\n",
      "# print type(xx_train)\n",
      "print xx_train.shape\n",
      "xx_train = np.array(xx_train.todense()).reshape(-1,)\n",
      "# xx_train = xx_train.dtype(np.float32)\n",
      "xx_train = np.float32(xx_train)\n",
      "xx_train = xx_train.reshape(22116,144)\n",
      "# print xx_train.shape\n",
      "print type(xx_train)"
     ],
     "language": "python",
     "metadata": {},
     "outputs": [
      {
       "output_type": "stream",
       "stream": "stdout",
       "text": [
        "(22116, 144)\n",
        "<type 'numpy.ndarray'>\n"
       ]
      }
     ],
     "prompt_number": 4
    },
    {
     "cell_type": "code",
     "collapsed": false,
     "input": [
      "sizee = 12"
     ],
     "language": "python",
     "metadata": {},
     "outputs": [],
     "prompt_number": 5
    },
    {
     "cell_type": "code",
     "collapsed": false,
     "input": [
      "# pylab.ion()\n",
      "# pylab.imshow(xxxx[0],cmap=cm.gray)\n",
      "x = xx_train.reshape(22116,sizee**2)\n",
      "x = x.astype(np.float32)\n",
      "\n",
      "print x.shape\n",
      "print type(x)"
     ],
     "language": "python",
     "metadata": {},
     "outputs": [
      {
       "output_type": "stream",
       "stream": "stdout",
       "text": [
        "(22116, 144)\n",
        "<type 'numpy.ndarray'>\n"
       ]
      }
     ],
     "prompt_number": 6
    },
    {
     "cell_type": "code",
     "collapsed": false,
     "input": [
      "def one_hot(x,n):\n",
      "    if type(x) == list:\n",
      "            x = np.array(x)\n",
      "    x = x.flatten()\n",
      "    o_h = np.zeros((len(x),n))\n",
      "    o_h[np.arange(len(x)),x] = 1\n",
      "    return o_h\n",
      "\n",
      "y = y.astype(int32)    \n",
      "y = one_hot(y, 32)\n",
      "y = y.astype(np.float32)\n",
      "\n",
      "print y.shape"
     ],
     "language": "python",
     "metadata": {},
     "outputs": [
      {
       "output_type": "stream",
       "stream": "stdout",
       "text": [
        "(22116, 32)\n"
       ]
      }
     ],
     "prompt_number": 7
    },
    {
     "cell_type": "markdown",
     "metadata": {},
     "source": [
      "## split data"
     ]
    },
    {
     "cell_type": "code",
     "collapsed": false,
     "input": [
      "from sklearn import cross_validation as cv\n",
      "from sklearn import svm\n",
      "from sklearn import metrics\n",
      "from sklearn import grid_search as gs"
     ],
     "language": "python",
     "metadata": {},
     "outputs": [],
     "prompt_number": 7
    },
    {
     "cell_type": "code",
     "collapsed": false,
     "input": [
      "X_train, X_test, y_train, y_test = cv.train_test_split(x, y, test_size=0.2)"
     ],
     "language": "python",
     "metadata": {},
     "outputs": []
    },
    {
     "cell_type": "code",
     "collapsed": false,
     "input": [
      "print X_train.shape\n",
      "print X_test.shape\n",
      "print y_train.shape\n",
      "print y_test.shape"
     ],
     "language": "python",
     "metadata": {},
     "outputs": []
    },
    {
     "cell_type": "markdown",
     "metadata": {},
     "source": [
      "## First model of Lasagne with single hidden layer"
     ]
    },
    {
     "cell_type": "code",
     "collapsed": false,
     "input": [
      "# add to kfkd.py\n",
      "from lasagne import layers\n",
      "from lasagne.updates import nesterov_momentum\n",
      "from nolearn.lasagne import NeuralNet\n",
      "\n",
      "net1 = NeuralNet(\n",
      "    layers=[  # three layers: one hidden layer\n",
      "        ('input', layers.InputLayer),\n",
      "        ('hidden', layers.DenseLayer),\n",
      "        ('output', layers.DenseLayer),\n",
      "        ],\n",
      "    # layer parameters:\n",
      "    input_shape=(128, 2500),  # 128 images per batch times 100x100 input pixels\n",
      "    hidden_num_units=300,  # number of units in hidden layer\n",
      "    output_nonlinearity=None,  # output layer uses identity function\n",
      "    output_num_units=32,  # 30 target values\n",
      "\n",
      "    # optimization method:\n",
      "    upate=nesterov_momentum,\n",
      "    update_learning_rate=0.01,\n",
      "    update_momentum=0.9,\n",
      "\n",
      "    # regression=False,  # flag to indicate we're dealing with regression problem\n",
      "    regression=True,  # flag to indicate we're dealing with regression problem\n",
      "    max_epochs=1000,  # we want to train this many epochs\n",
      "    verbose=1,\n",
      "    )\n"
     ],
     "language": "python",
     "metadata": {},
     "outputs": [
      {
       "output_type": "stream",
       "stream": "stderr",
       "text": [
        "Using gpu device 0: GRID K520\n"
       ]
      }
     ],
     "prompt_number": 8
    },
    {
     "cell_type": "code",
     "collapsed": false,
     "input": [
      "%time net1.fit(X_train, y_train)"
     ],
     "language": "python",
     "metadata": {},
     "outputs": []
    },
    {
     "cell_type": "code",
     "collapsed": false,
     "input": [
      "train_loss = np.array([i[\"train_loss\"] for i in net1.train_history_])\n",
      "valid_loss = np.array([i[\"valid_loss\"] for i in net1.train_history_])\n",
      "pyplot.plot(train_loss, linewidth=3, label=\"train\")\n",
      "pyplot.plot(valid_loss, linewidth=3, label=\"valid\")\n",
      "pyplot.grid()\n",
      "pyplot.legend()\n",
      "pyplot.xlabel(\"epoch\")\n",
      "pyplot.ylabel(\"loss\")\n",
      "pyplot.ylim(2.5e-2, 0.32e-1)\n",
      "# pyplot.yscale(\"log\")\n",
      "pyplot.show()"
     ],
     "language": "python",
     "metadata": {},
     "outputs": []
    },
    {
     "cell_type": "code",
     "collapsed": false,
     "input": [
      "from sklearn import metrics\n",
      "\n",
      "# overfit result, should use validation result\n",
      "y_pred = net1.predict(X_test)\n",
      "# print y_pred[1]\n",
      "# np.argmax(y_pred[i]),np.argmax(y[i])\n",
      "y_pred = np.array(map((lambda x: np.argmax(x)), y_pred))\n",
      "yyy = np.array(map((lambda x: np.argmax(x)), y_test))\n",
      "\n",
      "print metrics.classification_report((yyy), (y_pred))"
     ],
     "language": "python",
     "metadata": {},
     "outputs": []
    },
    {
     "cell_type": "markdown",
     "metadata": {},
     "source": [
      "## NET 6 in the rock"
     ]
    },
    {
     "cell_type": "code",
     "collapsed": false,
     "input": [
      "import theano\n",
      "from lasagne import layers\n",
      "from lasagne.updates import nesterov_momentum\n",
      "from nolearn.lasagne import NeuralNet\n",
      "\n",
      "def float32(k):\n",
      "    return np.cast['float32'](k)\n",
      "\n",
      "class AdjustVariable(object):\n",
      "    def __init__(self, name, start=0.03, stop=0.001):\n",
      "        self.name = name\n",
      "        self.start, self.stop = start, stop\n",
      "        self.ls = None\n",
      "\n",
      "    def __call__(self, nn, train_history):\n",
      "        if self.ls is None:\n",
      "            self.ls = np.linspace(self.start, self.stop, nn.max_epochs)\n",
      "\n",
      "        epoch = train_history[-1]['epoch']\n",
      "        new_value = float32(self.ls[epoch - 1])\n",
      "        getattr(nn, self.name).set_value(new_value)\n",
      "\n",
      "class EarlyStopping(object):\n",
      "    def __init__(self, patience=100):\n",
      "        self.patience = patience\n",
      "        self.best_valid = np.inf\n",
      "        self.best_valid_epoch = 0\n",
      "        self.best_weights = None\n",
      "\n",
      "    def __call__(self, nn, train_history):\n",
      "        current_valid = train_history[-1]['valid_loss']\n",
      "        current_epoch = train_history[-1]['epoch']\n",
      "        if current_valid < self.best_valid:\n",
      "            self.best_valid = current_valid\n",
      "            self.best_valid_epoch = current_epoch\n",
      "            self.best_weights = [w.get_value() for w in nn.get_all_params()]\n",
      "        elif self.best_valid_epoch + self.patience < current_epoch:\n",
      "            print(\"Early stopping.\")\n",
      "            print(\"Best valid loss was {:.6f} at epoch {}.\".format(\n",
      "                self.best_valid, self.best_valid_epoch))\n",
      "            nn.load_weights_from(self.best_weights)\n",
      "            raise StopIteration()\n",
      "        \n",
      "# use the cuda-convnet implementations of conv and max-pool layer\n",
      "Conv2DLayer = layers.cuda_convnet.Conv2DCCLayer\n",
      "MaxPool2DLayer = layers.cuda_convnet.MaxPool2DCCLayer\n",
      "\n",
      "net7 = NeuralNet(\n",
      "    layers=[\n",
      "        ('input', layers.InputLayer),\n",
      "        ('conv1', Conv2DLayer),\n",
      "        ('pool1', MaxPool2DLayer),\n",
      "        ('dropout1', layers.DropoutLayer),  # !\n",
      "        ('conv2', Conv2DLayer),\n",
      "        ('pool2', MaxPool2DLayer),\n",
      "        ('dropout2', layers.DropoutLayer),  # !\n",
      "#         ('conv3', Conv2DLayer),\n",
      "#         ('pool3', MaxPool2DLayer),\n",
      "#         ('dropout3', layers.DropoutLayer),  # !\n",
      "        ('hidden4', layers.DenseLayer),\n",
      "        ('dropout4', layers.DropoutLayer),  # !\n",
      "        ('hidden5', layers.DenseLayer),\n",
      "        ('output', layers.DenseLayer),\n",
      "        ],\n",
      "    input_shape=(128, 1, 12,12),\n",
      "    conv1_num_filters=32, conv1_filter_size=(3, 3), pool1_ds=(2, 2),\n",
      "    # dropout1_p=0.1, # !\n",
      "    dropout1_p=0.1,  # !\n",
      "    conv2_num_filters=64, conv2_filter_size=(2, 2), pool2_ds=(2, 2),\n",
      "    # dropout2_p=0.2,  # !\n",
      "    dropout2_p=0.2,  # !\n",
      "#     conv3_num_filters=128, conv3_filter_size=(2, 2), pool3_ds=(2, 2),\n",
      "#     # dropout3_p=0.3,  # !\n",
      "#     dropout3_p=0.5,  # !\n",
      "    hidden4_num_units=400,\n",
      "    # hidden4_num_units=1000,  # !\n",
      "    dropout4_p=0.4,  # !\n",
      "    hidden5_num_units=400,\n",
      "    # hidden5_num_units=1000,  # !\n",
      "    output_num_units=32, output_nonlinearity=None,\n",
      "\n",
      "    update_learning_rate=theano.shared(float32(0.07)),\n",
      "    update_momentum=theano.shared(float32(0.9)),\n",
      "\n",
      "    regression=True,\n",
      "#     batch_iterator=FlipBatchIterator(batch_size=128),\n",
      "    on_epoch_finished=[\n",
      "        AdjustVariable('update_learning_rate', start=0.07, stop=0.0001),\n",
      "        AdjustVariable('update_momentum', start=0.9, stop=0.999),\n",
      "        EarlyStopping(patience=300),\n",
      "        ],\n",
      "    # max_epochs=3000,\n",
      "    max_epochs=12000,\n",
      "    verbose=1,\n",
      "    )"
     ],
     "language": "python",
     "metadata": {},
     "outputs": [
      {
       "output_type": "stream",
       "stream": "stderr",
       "text": [
        "Using gpu device 0: GRID K520\n"
       ]
      }
     ],
     "prompt_number": 8
    },
    {
     "cell_type": "code",
     "collapsed": false,
     "input": [
      "def transform_6(X,y):\n",
      "    X = X.reshape(-1,12,12, 1)\n",
      "    X = X.transpose(0, 3, 1, 2)\n",
      "    return X, y\n",
      "\n",
      "# X_train = X_train.reshape(-1,1,sizee,sizee)\n",
      "# X_test = X_test.reshape(-1, 1,sizee,sizee)\n",
      "# X_train.shape"
     ],
     "language": "python",
     "metadata": {},
     "outputs": [],
     "prompt_number": 9
    },
    {
     "cell_type": "code",
     "collapsed": false,
     "input": [
      "import sys\n",
      "sys.setrecursionlimit(10000)\n",
      "\n",
      "X_6, y_6 = transform_6(x, y)\n",
      "%time net7.fit(X_6, y_6)\n",
      "\n",
      "import cPickle as pickle\n",
      "with open('Lasagne_11th_hog.pickle', 'wb') as f:\n",
      "    pickle.dump(net7, f, -1)"
     ],
     "language": "python",
     "metadata": {},
     "outputs": [
      {
       "output_type": "stream",
       "stream": "stdout",
       "text": [
        "  InputLayer        \t(128, 1, 12, 12)    \tproduces     144 outputs\n",
        "  Conv2DCCLayer     \t(128, 32, 10, 10)   \tproduces    3200 outputs\n",
        "  MaxPool2DCCLayer  \t(128, 32, 5, 5)     \tproduces     800 outputs\n",
        "  DropoutLayer      \t(128, 32, 5, 5)     \tproduces     800 outputs\n",
        "  Conv2DCCLayer     \t(128, 64, 4, 4)     \tproduces    1024 outputs\n",
        "  MaxPool2DCCLayer  \t(128, 64, 2, 2)     \tproduces     256 outputs\n",
        "  DropoutLayer      \t(128, 64, 2, 2)     \tproduces     256 outputs\n",
        "  DenseLayer        \t(128, 400)          \tproduces     400 outputs\n",
        "  DropoutLayer      \t(128, 400)          \tproduces     400 outputs\n",
        "  DenseLayer        \t(128, 400)          \tproduces     400 outputs\n",
        "  DenseLayer        \t(128, 32)           \tproduces      32 outputs\n",
        "\n",
        " Epoch  |  Train loss  |  Valid loss  |  Train / Val  |  Valid acc  |  Dur\n",
        "--------|--------------|--------------|---------------|-------------|-------"
       ]
      },
      {
       "output_type": "stream",
       "stream": "stdout",
       "text": [
        "\n",
        "     1  |  \u001b[94m  0.030346\u001b[0m  |  \u001b[32m  0.030165\u001b[0m  |     1.006013  |             |  0.7s"
       ]
      },
      {
       "output_type": "stream",
       "stream": "stdout",
       "text": [
        "\n",
        "     2  |  \u001b[94m  0.030164\u001b[0m  |  \u001b[32m  0.030098\u001b[0m  |     1.002187  |             |  0.7s"
       ]
      },
      {
       "output_type": "stream",
       "stream": "stdout",
       "text": [
        "\n",
        "     3  |  \u001b[94m  0.030113\u001b[0m  |  \u001b[32m  0.030044\u001b[0m  |     1.002296  |             |  0.7s"
       ]
      },
      {
       "output_type": "stream",
       "stream": "stdout",
       "text": [
        "\n",
        "     4  |  \u001b[94m  0.030074\u001b[0m  |  \u001b[32m  0.029996\u001b[0m  |     1.002581  |             |  0.7s"
       ]
      },
      {
       "output_type": "stream",
       "stream": "stdout",
       "text": [
        "\n",
        "     5  |  \u001b[94m  0.030026\u001b[0m  |  \u001b[32m  0.029932\u001b[0m  |     1.003145  |             |  0.7s"
       ]
      },
      {
       "output_type": "stream",
       "stream": "stdout",
       "text": [
        "\n",
        "     6  |  \u001b[94m  0.029978\u001b[0m  |  \u001b[32m  0.029878\u001b[0m  |     1.003342  |             |  0.7s"
       ]
      },
      {
       "output_type": "stream",
       "stream": "stdout",
       "text": [
        "\n",
        "     7  |  \u001b[94m  0.029935\u001b[0m  |  \u001b[32m  0.029816\u001b[0m  |     1.003982  |             |  0.7s"
       ]
      },
      {
       "output_type": "stream",
       "stream": "stdout",
       "text": [
        "\n",
        "     8  |  \u001b[94m  0.029878\u001b[0m  |  \u001b[32m  0.029746\u001b[0m  |     1.004419  |             |  0.7s"
       ]
      },
      {
       "output_type": "stream",
       "stream": "stdout",
       "text": [
        "\n",
        "     9  |  \u001b[94m  0.029818\u001b[0m  |  \u001b[32m  0.029676\u001b[0m  |     1.004803  |             |  0.7s"
       ]
      },
      {
       "output_type": "stream",
       "stream": "stdout",
       "text": [
        "\n",
        "    10  |  \u001b[94m  0.029755\u001b[0m  |  \u001b[32m  0.029591\u001b[0m  |     1.005539  |             |  0.7s"
       ]
      },
      {
       "output_type": "stream",
       "stream": "stdout",
       "text": [
        "\n",
        "    11  |  \u001b[94m  0.029699\u001b[0m  |  \u001b[32m  0.029515\u001b[0m  |     1.006247  |             |  0.7s"
       ]
      },
      {
       "output_type": "stream",
       "stream": "stdout",
       "text": [
        "\n",
        "    12  |  \u001b[94m  0.029634\u001b[0m  |  \u001b[32m  0.029442\u001b[0m  |     1.006513  |             |  0.7s"
       ]
      },
      {
       "output_type": "stream",
       "stream": "stdout",
       "text": [
        "\n",
        "    13  |  \u001b[94m  0.029572\u001b[0m  |  \u001b[32m  0.029372\u001b[0m  |     1.006830  |             |  0.7s"
       ]
      },
      {
       "output_type": "stream",
       "stream": "stdout",
       "text": [
        "\n",
        "    14  |  \u001b[94m  0.029525\u001b[0m  |  \u001b[32m  0.029298\u001b[0m  |     1.007761  |             |  0.7s"
       ]
      },
      {
       "output_type": "stream",
       "stream": "stdout",
       "text": [
        "\n",
        "    15  |  \u001b[94m  0.029467\u001b[0m  |  \u001b[32m  0.029235\u001b[0m  |     1.007948  |             |  0.7s"
       ]
      },
      {
       "output_type": "stream",
       "stream": "stdout",
       "text": [
        "\n",
        "    16  |  \u001b[94m  0.029426\u001b[0m  |  \u001b[32m  0.029181\u001b[0m  |     1.008386  |             |  0.7s"
       ]
      },
      {
       "output_type": "stream",
       "stream": "stdout",
       "text": [
        "\n",
        "    17  |  \u001b[94m  0.029369\u001b[0m  |  \u001b[32m  0.029123\u001b[0m  |     1.008467  |             |  0.7s"
       ]
      },
      {
       "output_type": "stream",
       "stream": "stdout",
       "text": [
        "\n",
        "    18  |  \u001b[94m  0.029328\u001b[0m  |  \u001b[32m  0.029062\u001b[0m  |     1.009149  |             |  0.7s"
       ]
      },
      {
       "output_type": "stream",
       "stream": "stdout",
       "text": [
        "\n",
        "    19  |  \u001b[94m  0.029284\u001b[0m  |  \u001b[32m  0.029006\u001b[0m  |     1.009568  |             |  0.7s"
       ]
      },
      {
       "output_type": "stream",
       "stream": "stdout",
       "text": [
        "\n",
        "    20  |  \u001b[94m  0.029231\u001b[0m  |  \u001b[32m  0.028954\u001b[0m  |     1.009562  |             |  0.7s"
       ]
      },
      {
       "output_type": "stream",
       "stream": "stdout",
       "text": [
        "\n",
        "    21  |  \u001b[94m  0.029188\u001b[0m  |  \u001b[32m  0.028898\u001b[0m  |     1.010018  |             |  0.7s"
       ]
      },
      {
       "output_type": "stream",
       "stream": "stdout",
       "text": [
        "\n",
        "    22  |  \u001b[94m  0.029165\u001b[0m  |  \u001b[32m  0.028846\u001b[0m  |     1.011048  |             |  0.7s"
       ]
      },
      {
       "output_type": "stream",
       "stream": "stdout",
       "text": [
        "\n",
        "    23  |  \u001b[94m  0.029107\u001b[0m  |  \u001b[32m  0.028805\u001b[0m  |     1.010497  |             |  0.7s"
       ]
      },
      {
       "output_type": "stream",
       "stream": "stdout",
       "text": [
        "\n",
        "    24  |  \u001b[94m  0.029074\u001b[0m  |  \u001b[32m  0.028729\u001b[0m  |     1.012012  |             |  0.7s"
       ]
      },
      {
       "output_type": "stream",
       "stream": "stdout",
       "text": [
        "\n",
        "    25  |  \u001b[94m  0.029027\u001b[0m  |  \u001b[32m  0.028692\u001b[0m  |     1.011679  |             |  0.7s"
       ]
      },
      {
       "output_type": "stream",
       "stream": "stdout",
       "text": [
        "\n",
        "    26  |  \u001b[94m  0.028978\u001b[0m  |  \u001b[32m  0.028620\u001b[0m  |     1.012541  |             |  0.7s"
       ]
      },
      {
       "output_type": "stream",
       "stream": "stdout",
       "text": [
        "\n",
        "    27  |  \u001b[94m  0.028935\u001b[0m  |  \u001b[32m  0.028579\u001b[0m  |     1.012455  |             |  0.7s"
       ]
      },
      {
       "output_type": "stream",
       "stream": "stdout",
       "text": [
        "\n",
        "    28  |  \u001b[94m  0.028887\u001b[0m  |  \u001b[32m  0.028515\u001b[0m  |     1.013057  |             |  0.7s"
       ]
      },
      {
       "output_type": "stream",
       "stream": "stdout",
       "text": [
        "\n",
        "    29  |  \u001b[94m  0.028846\u001b[0m  |  \u001b[32m  0.028475\u001b[0m  |     1.013047  |             |  0.7s"
       ]
      },
      {
       "output_type": "stream",
       "stream": "stdout",
       "text": [
        "\n",
        "    30  |  \u001b[94m  0.028805\u001b[0m  |  \u001b[32m  0.028414\u001b[0m  |     1.013785  |             |  0.7s"
       ]
      },
      {
       "output_type": "stream",
       "stream": "stdout",
       "text": [
        "\n",
        "    31  |  \u001b[94m  0.028761\u001b[0m  |  \u001b[32m  0.028371\u001b[0m  |     1.013757  |             |  0.7s"
       ]
      },
      {
       "output_type": "stream",
       "stream": "stdout",
       "text": [
        "\n",
        "    32  |  \u001b[94m  0.028714\u001b[0m  |  \u001b[32m  0.028320\u001b[0m  |     1.013901  |             |  0.7s"
       ]
      },
      {
       "output_type": "stream",
       "stream": "stdout",
       "text": [
        "\n",
        "    33  |  \u001b[94m  0.028642\u001b[0m  |  \u001b[32m  0.028233\u001b[0m  |     1.014498  |             |  0.7s"
       ]
      },
      {
       "output_type": "stream",
       "stream": "stdout",
       "text": [
        "\n",
        "    34  |  \u001b[94m  0.028618\u001b[0m  |  \u001b[32m  0.028198\u001b[0m  |     1.014896  |             |  0.7s"
       ]
      },
      {
       "output_type": "stream",
       "stream": "stdout",
       "text": [
        "\n",
        "    35  |  \u001b[94m  0.028595\u001b[0m  |  \u001b[32m  0.028131\u001b[0m  |     1.016486  |             |  0.7s"
       ]
      },
      {
       "output_type": "stream",
       "stream": "stdout",
       "text": [
        "\n",
        "    36  |  \u001b[94m  0.028540\u001b[0m  |  \u001b[32m  0.028082\u001b[0m  |     1.016300  |             |  0.7s"
       ]
      },
      {
       "output_type": "stream",
       "stream": "stdout",
       "text": [
        "\n",
        "    37  |  \u001b[94m  0.028469\u001b[0m  |  \u001b[32m  0.028020\u001b[0m  |     1.016035  |             |  0.7s"
       ]
      },
      {
       "output_type": "stream",
       "stream": "stdout",
       "text": [
        "\n",
        "    38  |  \u001b[94m  0.028438\u001b[0m  |  \u001b[32m  0.027968\u001b[0m  |     1.016794  |             |  0.7s"
       ]
      },
      {
       "output_type": "stream",
       "stream": "stdout",
       "text": [
        "\n",
        "    39  |  \u001b[94m  0.028401\u001b[0m  |  \u001b[32m  0.027906\u001b[0m  |     1.017726  |             |  0.7s"
       ]
      },
      {
       "output_type": "stream",
       "stream": "stdout",
       "text": [
        "\n",
        "    40  |  \u001b[94m  0.028333\u001b[0m  |  \u001b[32m  0.027877\u001b[0m  |     1.016365  |             |  0.7s"
       ]
      },
      {
       "output_type": "stream",
       "stream": "stdout",
       "text": [
        "\n",
        "    41  |  \u001b[94m  0.028307\u001b[0m  |  \u001b[32m  0.027803\u001b[0m  |     1.018156  |             |  0.7s"
       ]
      },
      {
       "output_type": "stream",
       "stream": "stdout",
       "text": [
        "\n",
        "    42  |  \u001b[94m  0.028260\u001b[0m  |  \u001b[32m  0.027750\u001b[0m  |     1.018374  |             |  0.7s"
       ]
      },
      {
       "output_type": "stream",
       "stream": "stdout",
       "text": [
        "\n",
        "    43  |  \u001b[94m  0.028219\u001b[0m  |  \u001b[32m  0.027693\u001b[0m  |     1.018992  |             |  0.7s"
       ]
      },
      {
       "output_type": "stream",
       "stream": "stdout",
       "text": [
        "\n",
        "    44  |  \u001b[94m  0.028198\u001b[0m  |  \u001b[32m  0.027649\u001b[0m  |     1.019867  |             |  0.7s"
       ]
      },
      {
       "output_type": "stream",
       "stream": "stdout",
       "text": [
        "\n",
        "    45  |  \u001b[94m  0.028123\u001b[0m  |  \u001b[32m  0.027589\u001b[0m  |     1.019389  |             |  0.7s"
       ]
      },
      {
       "output_type": "stream",
       "stream": "stdout",
       "text": [
        "\n",
        "    46  |  \u001b[94m  0.028087\u001b[0m  |  \u001b[32m  0.027548\u001b[0m  |     1.019553  |             |  0.7s"
       ]
      },
      {
       "output_type": "stream",
       "stream": "stdout",
       "text": [
        "\n",
        "    47  |  \u001b[94m  0.028044\u001b[0m  |  \u001b[32m  0.027495\u001b[0m  |     1.019994  |             |  0.7s"
       ]
      },
      {
       "output_type": "stream",
       "stream": "stdout",
       "text": [
        "\n",
        "    48  |  \u001b[94m  0.028009\u001b[0m  |  \u001b[32m  0.027456\u001b[0m  |     1.020164  |             |  0.7s"
       ]
      },
      {
       "output_type": "stream",
       "stream": "stdout",
       "text": [
        "\n",
        "    49  |  \u001b[94m  0.027945\u001b[0m  |  \u001b[32m  0.027397\u001b[0m  |     1.019994  |             |  0.7s"
       ]
      },
      {
       "output_type": "stream",
       "stream": "stdout",
       "text": [
        "\n",
        "    50  |  \u001b[94m  0.027926\u001b[0m  |  \u001b[32m  0.027351\u001b[0m  |     1.021038  |             |  0.7s"
       ]
      },
      {
       "output_type": "stream",
       "stream": "stdout",
       "text": [
        "\n",
        "    51  |  \u001b[94m  0.027895\u001b[0m  |  \u001b[32m  0.027282\u001b[0m  |     1.022452  |             |  0.7s"
       ]
      },
      {
       "output_type": "stream",
       "stream": "stdout",
       "text": [
        "\n",
        "    52  |  \u001b[94m  0.027830\u001b[0m  |  \u001b[32m  0.027232\u001b[0m  |     1.021971  |             |  0.7s"
       ]
      },
      {
       "output_type": "stream",
       "stream": "stdout",
       "text": [
        "\n",
        "    53  |  \u001b[94m  0.027799\u001b[0m  |  \u001b[32m  0.027197\u001b[0m  |     1.022152  |             |  0.7s"
       ]
      },
      {
       "output_type": "stream",
       "stream": "stdout",
       "text": [
        "\n",
        "    54  |  \u001b[94m  0.027755\u001b[0m  |  \u001b[32m  0.027147\u001b[0m  |     1.022389  |             |  0.7s"
       ]
      },
      {
       "output_type": "stream",
       "stream": "stdout",
       "text": [
        "\n",
        "    55  |  \u001b[94m  0.027726\u001b[0m  |  \u001b[32m  0.027104\u001b[0m  |     1.022948  |             |  0.7s"
       ]
      },
      {
       "output_type": "stream",
       "stream": "stdout",
       "text": [
        "\n",
        "    56  |  \u001b[94m  0.027687\u001b[0m  |  \u001b[32m  0.027070\u001b[0m  |     1.022814  |             |  0.7s"
       ]
      },
      {
       "output_type": "stream",
       "stream": "stdout",
       "text": [
        "\n",
        "    57  |  \u001b[94m  0.027652\u001b[0m  |  \u001b[32m  0.027023\u001b[0m  |     1.023268  |             |  0.7s"
       ]
      },
      {
       "output_type": "stream",
       "stream": "stdout",
       "text": [
        "\n",
        "    58  |  \u001b[94m  0.027613\u001b[0m  |  \u001b[32m  0.026958\u001b[0m  |     1.024324  |             |  0.7s"
       ]
      },
      {
       "output_type": "stream",
       "stream": "stdout",
       "text": [
        "\n",
        "    59  |  \u001b[94m  0.027581\u001b[0m  |  \u001b[32m  0.026949\u001b[0m  |     1.023444  |             |  0.7s"
       ]
      },
      {
       "output_type": "stream",
       "stream": "stdout",
       "text": [
        "\n",
        "    60  |  \u001b[94m  0.027552\u001b[0m  |  \u001b[32m  0.026900\u001b[0m  |     1.024241  |             |  0.7s"
       ]
      },
      {
       "output_type": "stream",
       "stream": "stdout",
       "text": [
        "\n",
        "    61  |  \u001b[94m  0.027501\u001b[0m  |  \u001b[32m  0.026842\u001b[0m  |     1.024538  |             |  0.7s"
       ]
      },
      {
       "output_type": "stream",
       "stream": "stdout",
       "text": [
        "\n",
        "    62  |  \u001b[94m  0.027494\u001b[0m  |  \u001b[32m  0.026802\u001b[0m  |     1.025832  |             |  0.7s"
       ]
      },
      {
       "output_type": "stream",
       "stream": "stdout",
       "text": [
        "\n",
        "    63  |  \u001b[94m  0.027436\u001b[0m  |  \u001b[32m  0.026771\u001b[0m  |     1.024839  |             |  0.7s"
       ]
      },
      {
       "output_type": "stream",
       "stream": "stdout",
       "text": [
        "\n",
        "    64  |  \u001b[94m  0.027379\u001b[0m  |  \u001b[32m  0.026720\u001b[0m  |     1.024656  |             |  0.7s"
       ]
      },
      {
       "output_type": "stream",
       "stream": "stdout",
       "text": [
        "\n",
        "    65  |  \u001b[94m  0.027372\u001b[0m  |  \u001b[32m  0.026700\u001b[0m  |     1.025145  |             |  0.7s"
       ]
      },
      {
       "output_type": "stream",
       "stream": "stdout",
       "text": [
        "\n",
        "    66  |  \u001b[94m  0.027334\u001b[0m  |  \u001b[32m  0.026663\u001b[0m  |     1.025185  |             |  0.7s"
       ]
      },
      {
       "output_type": "stream",
       "stream": "stdout",
       "text": [
        "\n",
        "    67  |  \u001b[94m  0.027306\u001b[0m  |  \u001b[32m  0.026629\u001b[0m  |     1.025441  |             |  0.7s"
       ]
      },
      {
       "output_type": "stream",
       "stream": "stdout",
       "text": [
        "\n",
        "    68  |  \u001b[94m  0.027276\u001b[0m  |  \u001b[32m  0.026571\u001b[0m  |     1.026531  |             |  0.7s"
       ]
      },
      {
       "output_type": "stream",
       "stream": "stdout",
       "text": [
        "\n",
        "    69  |  \u001b[94m  0.027261\u001b[0m  |  \u001b[32m  0.026536\u001b[0m  |     1.027317  |             |  0.7s"
       ]
      },
      {
       "output_type": "stream",
       "stream": "stdout",
       "text": [
        "\n",
        "    70  |  \u001b[94m  0.027218\u001b[0m  |  \u001b[32m  0.026501\u001b[0m  |     1.027062  |             |  0.7s"
       ]
      },
      {
       "output_type": "stream",
       "stream": "stdout",
       "text": [
        "\n",
        "    71  |  \u001b[94m  0.027159\u001b[0m  |  \u001b[32m  0.026470\u001b[0m  |     1.026024  |             |  0.7s"
       ]
      },
      {
       "output_type": "stream",
       "stream": "stdout",
       "text": [
        "\n",
        "    72  |  \u001b[94m  0.027140\u001b[0m  |  \u001b[32m  0.026426\u001b[0m  |     1.027040  |             |  0.7s"
       ]
      },
      {
       "output_type": "stream",
       "stream": "stdout",
       "text": [
        "\n",
        "    73  |  \u001b[94m  0.027104\u001b[0m  |  \u001b[32m  0.026381\u001b[0m  |     1.027393  |             |  0.7s"
       ]
      },
      {
       "output_type": "stream",
       "stream": "stdout",
       "text": [
        "\n",
        "    74  |  \u001b[94m  0.027066\u001b[0m  |  \u001b[32m  0.026346\u001b[0m  |     1.027319  |             |  0.7s"
       ]
      },
      {
       "output_type": "stream",
       "stream": "stdout",
       "text": [
        "\n",
        "    75  |  \u001b[94m  0.027033\u001b[0m  |  \u001b[32m  0.026304\u001b[0m  |     1.027714  |             |  0.7s"
       ]
      },
      {
       "output_type": "stream",
       "stream": "stdout",
       "text": [
        "\n",
        "    76  |  \u001b[94m  0.027007\u001b[0m  |  \u001b[32m  0.026286\u001b[0m  |     1.027402  |             |  0.7s"
       ]
      },
      {
       "output_type": "stream",
       "stream": "stdout",
       "text": [
        "\n",
        "    77  |  \u001b[94m  0.026987\u001b[0m  |  \u001b[32m  0.026244\u001b[0m  |     1.028307  |             |  0.7s"
       ]
      },
      {
       "output_type": "stream",
       "stream": "stdout",
       "text": [
        "\n",
        "    78  |  \u001b[94m  0.026973\u001b[0m  |  \u001b[32m  0.026205\u001b[0m  |     1.029318  |             |  0.7s"
       ]
      },
      {
       "output_type": "stream",
       "stream": "stdout",
       "text": [
        "\n",
        "    79  |  \u001b[94m  0.026921\u001b[0m  |  \u001b[32m  0.026189\u001b[0m  |     1.027942  |             |  0.7s"
       ]
      },
      {
       "output_type": "stream",
       "stream": "stdout",
       "text": [
        "\n",
        "    80  |  \u001b[94m  0.026878\u001b[0m  |  \u001b[32m  0.026143\u001b[0m  |     1.028128  |             |  0.7s"
       ]
      },
      {
       "output_type": "stream",
       "stream": "stdout",
       "text": [
        "\n",
        "    81  |  \u001b[94m  0.026846\u001b[0m  |  \u001b[32m  0.026089\u001b[0m  |     1.028984  |             |  0.7s"
       ]
      },
      {
       "output_type": "stream",
       "stream": "stdout",
       "text": [
        "\n",
        "    82  |  \u001b[94m  0.026810\u001b[0m  |  \u001b[32m  0.026064\u001b[0m  |     1.028616  |             |  0.7s"
       ]
      },
      {
       "output_type": "stream",
       "stream": "stdout",
       "text": [
        "\n",
        "    83  |  \u001b[94m  0.026807\u001b[0m  |  \u001b[32m  0.026032\u001b[0m  |     1.029799  |             |  0.7s"
       ]
      },
      {
       "output_type": "stream",
       "stream": "stdout",
       "text": [
        "\n",
        "    84  |  \u001b[94m  0.026776\u001b[0m  |  \u001b[32m  0.026002\u001b[0m  |     1.029748  |             |  0.7s"
       ]
      },
      {
       "output_type": "stream",
       "stream": "stdout",
       "text": [
        "\n",
        "    85  |  \u001b[94m  0.026740\u001b[0m  |  \u001b[32m  0.025958\u001b[0m  |     1.030099  |             |  0.7s"
       ]
      },
      {
       "output_type": "stream",
       "stream": "stdout",
       "text": [
        "\n",
        "    86  |  \u001b[94m  0.026694\u001b[0m  |  \u001b[32m  0.025931\u001b[0m  |     1.029420  |             |  0.7s"
       ]
      },
      {
       "output_type": "stream",
       "stream": "stdout",
       "text": [
        "\n",
        "    87  |    0.026701  |  \u001b[32m  0.025904\u001b[0m  |     1.030788  |             |  0.7s"
       ]
      },
      {
       "output_type": "stream",
       "stream": "stdout",
       "text": [
        "\n",
        "    88  |  \u001b[94m  0.026659\u001b[0m  |  \u001b[32m  0.025851\u001b[0m  |     1.031236  |             |  0.7s"
       ]
      },
      {
       "output_type": "stream",
       "stream": "stdout",
       "text": [
        "\n",
        "    89  |  \u001b[94m  0.026616\u001b[0m  |  \u001b[32m  0.025813\u001b[0m  |     1.031124  |             |  0.7s"
       ]
      },
      {
       "output_type": "stream",
       "stream": "stdout",
       "text": [
        "\n",
        "    90  |  \u001b[94m  0.026600\u001b[0m  |  \u001b[32m  0.025804\u001b[0m  |     1.030851  |             |  0.7s"
       ]
      },
      {
       "output_type": "stream",
       "stream": "stdout",
       "text": [
        "\n",
        "    91  |  \u001b[94m  0.026547\u001b[0m  |  \u001b[32m  0.025738\u001b[0m  |     1.031416  |             |  0.7s"
       ]
      },
      {
       "output_type": "stream",
       "stream": "stdout",
       "text": [
        "\n",
        "    92  |  \u001b[94m  0.026524\u001b[0m  |  \u001b[32m  0.025721\u001b[0m  |     1.031213  |             |  0.7s"
       ]
      },
      {
       "output_type": "stream",
       "stream": "stdout",
       "text": [
        "\n",
        "    93  |  \u001b[94m  0.026488\u001b[0m  |  \u001b[32m  0.025671\u001b[0m  |     1.031841  |             |  0.7s"
       ]
      },
      {
       "output_type": "stream",
       "stream": "stdout",
       "text": [
        "\n",
        "    94  |  \u001b[94m  0.026476\u001b[0m  |  \u001b[32m  0.025639\u001b[0m  |     1.032673  |             |  0.7s"
       ]
      },
      {
       "output_type": "stream",
       "stream": "stdout",
       "text": [
        "\n",
        "    95  |  \u001b[94m  0.026442\u001b[0m  |  \u001b[32m  0.025585\u001b[0m  |     1.033489  |             |  0.7s"
       ]
      },
      {
       "output_type": "stream",
       "stream": "stdout",
       "text": [
        "\n",
        "    96  |  \u001b[94m  0.026401\u001b[0m  |  \u001b[32m  0.025556\u001b[0m  |     1.033059  |             |  0.7s"
       ]
      },
      {
       "output_type": "stream",
       "stream": "stdout",
       "text": [
        "\n",
        "    97  |  \u001b[94m  0.026388\u001b[0m  |  \u001b[32m  0.025553\u001b[0m  |     1.032671  |             |  0.7s"
       ]
      },
      {
       "output_type": "stream",
       "stream": "stdout",
       "text": [
        "\n",
        "    98  |  \u001b[94m  0.026360\u001b[0m  |  \u001b[32m  0.025502\u001b[0m  |     1.033644  |             |  0.7s"
       ]
      },
      {
       "output_type": "stream",
       "stream": "stdout",
       "text": [
        "\n",
        "    99  |  \u001b[94m  0.026299\u001b[0m  |  \u001b[32m  0.025472\u001b[0m  |     1.032480  |             |  0.7s"
       ]
      },
      {
       "output_type": "stream",
       "stream": "stdout",
       "text": [
        "\n",
        "   100  |  \u001b[94m  0.026279\u001b[0m  |  \u001b[32m  0.025422\u001b[0m  |     1.033704  |             |  0.7s"
       ]
      },
      {
       "output_type": "stream",
       "stream": "stdout",
       "text": [
        "\n",
        "   101  |  \u001b[94m  0.026256\u001b[0m  |  \u001b[32m  0.025416\u001b[0m  |     1.033056  |             |  0.7s"
       ]
      },
      {
       "output_type": "stream",
       "stream": "stdout",
       "text": [
        "\n",
        "   102  |  \u001b[94m  0.026247\u001b[0m  |  \u001b[32m  0.025370\u001b[0m  |     1.034599  |             |  0.7s"
       ]
      },
      {
       "output_type": "stream",
       "stream": "stdout",
       "text": [
        "\n",
        "   103  |  \u001b[94m  0.026210\u001b[0m  |  \u001b[32m  0.025332\u001b[0m  |     1.034668  |             |  0.7s"
       ]
      },
      {
       "output_type": "stream",
       "stream": "stdout",
       "text": [
        "\n",
        "   104  |  \u001b[94m  0.026184\u001b[0m  |  \u001b[32m  0.025313\u001b[0m  |     1.034425  |             |  0.7s"
       ]
      },
      {
       "output_type": "stream",
       "stream": "stdout",
       "text": [
        "\n",
        "   105  |  \u001b[94m  0.026164\u001b[0m  |  \u001b[32m  0.025282\u001b[0m  |     1.034873  |             |  0.7s"
       ]
      },
      {
       "output_type": "stream",
       "stream": "stdout",
       "text": [
        "\n",
        "   106  |  \u001b[94m  0.026149\u001b[0m  |  \u001b[32m  0.025261\u001b[0m  |     1.035154  |             |  0.7s"
       ]
      },
      {
       "output_type": "stream",
       "stream": "stdout",
       "text": [
        "\n",
        "   107  |  \u001b[94m  0.026099\u001b[0m  |  \u001b[32m  0.025210\u001b[0m  |     1.035258  |             |  0.7s"
       ]
      },
      {
       "output_type": "stream",
       "stream": "stdout",
       "text": [
        "\n",
        "   108  |  \u001b[94m  0.026056\u001b[0m  |  \u001b[32m  0.025174\u001b[0m  |     1.035056  |             |  0.7s"
       ]
      },
      {
       "output_type": "stream",
       "stream": "stdout",
       "text": [
        "\n",
        "   109  |  \u001b[94m  0.026023\u001b[0m  |  \u001b[32m  0.025133\u001b[0m  |     1.035425  |             |  0.7s"
       ]
      },
      {
       "output_type": "stream",
       "stream": "stdout",
       "text": [
        "\n",
        "   110  |  \u001b[94m  0.026006\u001b[0m  |  \u001b[32m  0.025102\u001b[0m  |     1.036029  |             |  0.7s"
       ]
      },
      {
       "output_type": "stream",
       "stream": "stdout",
       "text": [
        "\n",
        "   111  |  \u001b[94m  0.025985\u001b[0m  |  \u001b[32m  0.025069\u001b[0m  |     1.036540  |             |  0.7s"
       ]
      },
      {
       "output_type": "stream",
       "stream": "stdout",
       "text": [
        "\n",
        "   112  |  \u001b[94m  0.025925\u001b[0m  |  \u001b[32m  0.025023\u001b[0m  |     1.036036  |             |  0.7s"
       ]
      },
      {
       "output_type": "stream",
       "stream": "stdout",
       "text": [
        "\n",
        "   113  |  \u001b[94m  0.025921\u001b[0m  |  \u001b[32m  0.025009\u001b[0m  |     1.036456  |             |  0.7s"
       ]
      },
      {
       "output_type": "stream",
       "stream": "stdout",
       "text": [
        "\n",
        "   114  |    0.025932  |  \u001b[32m  0.024975\u001b[0m  |     1.038314  |             |  0.7s"
       ]
      },
      {
       "output_type": "stream",
       "stream": "stdout",
       "text": [
        "\n",
        "   115  |  \u001b[94m  0.025812\u001b[0m  |  \u001b[32m  0.024931\u001b[0m  |     1.035326  |             |  0.7s"
       ]
      },
      {
       "output_type": "stream",
       "stream": "stdout",
       "text": [
        "\n",
        "   116  |    0.025825  |  \u001b[32m  0.024897\u001b[0m  |     1.037277  |             |  0.7s"
       ]
      },
      {
       "output_type": "stream",
       "stream": "stdout",
       "text": [
        "\n",
        "   117  |  \u001b[94m  0.025790\u001b[0m  |  \u001b[32m  0.024861\u001b[0m  |     1.037377  |             |  0.7s"
       ]
      },
      {
       "output_type": "stream",
       "stream": "stdout",
       "text": [
        "\n",
        "   118  |  \u001b[94m  0.025752\u001b[0m  |  \u001b[32m  0.024840\u001b[0m  |     1.036737  |             |  0.7s"
       ]
      },
      {
       "output_type": "stream",
       "stream": "stdout",
       "text": [
        "\n",
        "   119  |    0.025767  |  \u001b[32m  0.024768\u001b[0m  |     1.040307  |             |  0.7s"
       ]
      },
      {
       "output_type": "stream",
       "stream": "stdout",
       "text": [
        "\n",
        "   120  |  \u001b[94m  0.025703\u001b[0m  |  \u001b[32m  0.024760\u001b[0m  |     1.038088  |             |  0.7s"
       ]
      },
      {
       "output_type": "stream",
       "stream": "stdout",
       "text": [
        "\n",
        "   121  |  \u001b[94m  0.025667\u001b[0m  |  \u001b[32m  0.024740\u001b[0m  |     1.037452  |             |  0.7s"
       ]
      },
      {
       "output_type": "stream",
       "stream": "stdout",
       "text": [
        "\n",
        "   122  |  \u001b[94m  0.025627\u001b[0m  |  \u001b[32m  0.024676\u001b[0m  |     1.038536  |             |  0.7s"
       ]
      },
      {
       "output_type": "stream",
       "stream": "stdout",
       "text": [
        "\n",
        "   123  |  \u001b[94m  0.025614\u001b[0m  |  \u001b[32m  0.024636\u001b[0m  |     1.039702  |             |  0.7s"
       ]
      },
      {
       "output_type": "stream",
       "stream": "stdout",
       "text": [
        "\n",
        "   124  |  \u001b[94m  0.025598\u001b[0m  |  \u001b[32m  0.024630\u001b[0m  |     1.039280  |             |  0.7s"
       ]
      },
      {
       "output_type": "stream",
       "stream": "stdout",
       "text": [
        "\n",
        "   125  |  \u001b[94m  0.025590\u001b[0m  |  \u001b[32m  0.024586\u001b[0m  |     1.040838  |             |  0.7s"
       ]
      },
      {
       "output_type": "stream",
       "stream": "stdout",
       "text": [
        "\n",
        "   126  |  \u001b[94m  0.025544\u001b[0m  |  \u001b[32m  0.024555\u001b[0m  |     1.040265  |             |  0.7s"
       ]
      },
      {
       "output_type": "stream",
       "stream": "stdout",
       "text": [
        "\n",
        "   127  |  \u001b[94m  0.025501\u001b[0m  |  \u001b[32m  0.024516\u001b[0m  |     1.040202  |             |  0.7s"
       ]
      },
      {
       "output_type": "stream",
       "stream": "stdout",
       "text": [
        "\n",
        "   128  |  \u001b[94m  0.025468\u001b[0m  |  \u001b[32m  0.024463\u001b[0m  |     1.041088  |             |  0.7s"
       ]
      },
      {
       "output_type": "stream",
       "stream": "stdout",
       "text": [
        "\n",
        "   129  |  \u001b[94m  0.025450\u001b[0m  |    0.024464  |     1.040284  |             |  0.7s"
       ]
      },
      {
       "output_type": "stream",
       "stream": "stdout",
       "text": [
        "\n",
        "   130  |  \u001b[94m  0.025405\u001b[0m  |  \u001b[32m  0.024377\u001b[0m  |     1.042191  |             |  0.7s"
       ]
      },
      {
       "output_type": "stream",
       "stream": "stdout",
       "text": [
        "\n",
        "   131  |  \u001b[94m  0.025376\u001b[0m  |    0.024381  |     1.040797  |             |  0.7s"
       ]
      },
      {
       "output_type": "stream",
       "stream": "stdout",
       "text": [
        "\n",
        "   132  |    0.025385  |  \u001b[32m  0.024351\u001b[0m  |     1.042442  |             |  0.7s"
       ]
      },
      {
       "output_type": "stream",
       "stream": "stdout",
       "text": [
        "\n",
        "   133  |  \u001b[94m  0.025330\u001b[0m  |  \u001b[32m  0.024288\u001b[0m  |     1.042924  |             |  0.7s"
       ]
      },
      {
       "output_type": "stream",
       "stream": "stdout",
       "text": [
        "\n",
        "   134  |  \u001b[94m  0.025296\u001b[0m  |  \u001b[32m  0.024265\u001b[0m  |     1.042509  |             |  0.7s"
       ]
      },
      {
       "output_type": "stream",
       "stream": "stdout",
       "text": [
        "\n",
        "   135  |  \u001b[94m  0.025269\u001b[0m  |  \u001b[32m  0.024244\u001b[0m  |     1.042305  |             |  0.7s"
       ]
      },
      {
       "output_type": "stream",
       "stream": "stdout",
       "text": [
        "\n",
        "   136  |  \u001b[94m  0.025247\u001b[0m  |  \u001b[32m  0.024183\u001b[0m  |     1.043971  |             |  0.7s"
       ]
      },
      {
       "output_type": "stream",
       "stream": "stdout",
       "text": [
        "\n",
        "   137  |  \u001b[94m  0.025224\u001b[0m  |  \u001b[32m  0.024174\u001b[0m  |     1.043415  |             |  0.7s"
       ]
      },
      {
       "output_type": "stream",
       "stream": "stdout",
       "text": [
        "\n",
        "   138  |  \u001b[94m  0.025205\u001b[0m  |  \u001b[32m  0.024121\u001b[0m  |     1.044925  |             |  0.7s"
       ]
      },
      {
       "output_type": "stream",
       "stream": "stdout",
       "text": [
        "\n",
        "   139  |  \u001b[94m  0.025142\u001b[0m  |  \u001b[32m  0.024114\u001b[0m  |     1.042645  |             |  0.7s"
       ]
      },
      {
       "output_type": "stream",
       "stream": "stdout",
       "text": [
        "\n",
        "   140  |  \u001b[94m  0.025121\u001b[0m  |  \u001b[32m  0.024043\u001b[0m  |     1.044830  |             |  0.7s"
       ]
      },
      {
       "output_type": "stream",
       "stream": "stdout",
       "text": [
        "\n",
        "   141  |  \u001b[94m  0.025074\u001b[0m  |  \u001b[32m  0.024024\u001b[0m  |     1.043713  |             |  0.7s"
       ]
      },
      {
       "output_type": "stream",
       "stream": "stdout",
       "text": [
        "\n",
        "   142  |  \u001b[94m  0.025064\u001b[0m  |  \u001b[32m  0.023952\u001b[0m  |     1.046448  |             |  0.7s"
       ]
      },
      {
       "output_type": "stream",
       "stream": "stdout",
       "text": [
        "\n",
        "   143  |  \u001b[94m  0.025010\u001b[0m  |  \u001b[32m  0.023928\u001b[0m  |     1.045188  |             |  0.7s"
       ]
      },
      {
       "output_type": "stream",
       "stream": "stdout",
       "text": [
        "\n",
        "   144  |  \u001b[94m  0.024984\u001b[0m  |  \u001b[32m  0.023911\u001b[0m  |     1.044896  |             |  0.7s"
       ]
      },
      {
       "output_type": "stream",
       "stream": "stdout",
       "text": [
        "\n",
        "   145  |  \u001b[94m  0.024946\u001b[0m  |    0.023911  |     1.043279  |             |  0.7s"
       ]
      },
      {
       "output_type": "stream",
       "stream": "stdout",
       "text": [
        "\n",
        "   146  |  \u001b[94m  0.024931\u001b[0m  |  \u001b[32m  0.023818\u001b[0m  |     1.046703  |             |  0.7s"
       ]
      },
      {
       "output_type": "stream",
       "stream": "stdout",
       "text": [
        "\n",
        "   147  |  \u001b[94m  0.024923\u001b[0m  |  \u001b[32m  0.023787\u001b[0m  |     1.047736  |             |  0.7s"
       ]
      },
      {
       "output_type": "stream",
       "stream": "stdout",
       "text": [
        "\n",
        "   148  |  \u001b[94m  0.024847\u001b[0m  |  \u001b[32m  0.023772\u001b[0m  |     1.045222  |             |  0.7s"
       ]
      },
      {
       "output_type": "stream",
       "stream": "stdout",
       "text": [
        "\n",
        "   149  |  \u001b[94m  0.024847\u001b[0m  |  \u001b[32m  0.023705\u001b[0m  |     1.048203  |             |  0.7s"
       ]
      },
      {
       "output_type": "stream",
       "stream": "stdout",
       "text": [
        "\n",
        "   150  |    0.024848  |  \u001b[32m  0.023701\u001b[0m  |     1.048378  |             |  0.7s"
       ]
      },
      {
       "output_type": "stream",
       "stream": "stdout",
       "text": [
        "\n",
        "   151  |  \u001b[94m  0.024766\u001b[0m  |  \u001b[32m  0.023658\u001b[0m  |     1.046831  |             |  0.7s"
       ]
      },
      {
       "output_type": "stream",
       "stream": "stdout",
       "text": [
        "\n",
        "   152  |    0.024769  |  \u001b[32m  0.023614\u001b[0m  |     1.048910  |             |  0.7s"
       ]
      },
      {
       "output_type": "stream",
       "stream": "stdout",
       "text": [
        "\n",
        "   153  |  \u001b[94m  0.024758\u001b[0m  |  \u001b[32m  0.023611\u001b[0m  |     1.048578  |             |  0.7s"
       ]
      },
      {
       "output_type": "stream",
       "stream": "stdout",
       "text": [
        "\n",
        "   154  |  \u001b[94m  0.024682\u001b[0m  |  \u001b[32m  0.023558\u001b[0m  |     1.047732  |             |  0.7s"
       ]
      },
      {
       "output_type": "stream",
       "stream": "stdout",
       "text": [
        "\n",
        "   155  |  \u001b[94m  0.024637\u001b[0m  |  \u001b[32m  0.023557\u001b[0m  |     1.045856  |             |  0.7s"
       ]
      },
      {
       "output_type": "stream",
       "stream": "stdout",
       "text": [
        "\n",
        "   156  |    0.024639  |  \u001b[32m  0.023520\u001b[0m  |     1.047592  |             |  0.7s"
       ]
      },
      {
       "output_type": "stream",
       "stream": "stdout",
       "text": [
        "\n",
        "   157  |  \u001b[94m  0.024624\u001b[0m  |  \u001b[32m  0.023460\u001b[0m  |     1.049626  |             |  0.7s"
       ]
      },
      {
       "output_type": "stream",
       "stream": "stdout",
       "text": [
        "\n",
        "   158  |  \u001b[94m  0.024580\u001b[0m  |  \u001b[32m  0.023412\u001b[0m  |     1.049897  |             |  0.7s"
       ]
      },
      {
       "output_type": "stream",
       "stream": "stdout",
       "text": [
        "\n",
        "   159  |  \u001b[94m  0.024526\u001b[0m  |  \u001b[32m  0.023378\u001b[0m  |     1.049099  |             |  0.7s"
       ]
      },
      {
       "output_type": "stream",
       "stream": "stdout",
       "text": [
        "\n",
        "   160  |    0.024551  |    0.023379  |     1.050117  |             |  0.7s"
       ]
      },
      {
       "output_type": "stream",
       "stream": "stdout",
       "text": [
        "\n",
        "   161  |  \u001b[94m  0.024478\u001b[0m  |  \u001b[32m  0.023304\u001b[0m  |     1.050370  |             |  0.7s"
       ]
      },
      {
       "output_type": "stream",
       "stream": "stdout",
       "text": [
        "\n",
        "   162  |    0.024487  |  \u001b[32m  0.023294\u001b[0m  |     1.051216  |             |  0.7s"
       ]
      },
      {
       "output_type": "stream",
       "stream": "stdout",
       "text": [
        "\n",
        "   163  |  \u001b[94m  0.024443\u001b[0m  |  \u001b[32m  0.023228\u001b[0m  |     1.052335  |             |  0.7s"
       ]
      },
      {
       "output_type": "stream",
       "stream": "stdout",
       "text": [
        "\n",
        "   164  |  \u001b[94m  0.024430\u001b[0m  |  \u001b[32m  0.023198\u001b[0m  |     1.053128  |             |  0.7s"
       ]
      },
      {
       "output_type": "stream",
       "stream": "stdout",
       "text": [
        "\n",
        "   165  |  \u001b[94m  0.024397\u001b[0m  |  \u001b[32m  0.023190\u001b[0m  |     1.052046  |             |  0.7s"
       ]
      },
      {
       "output_type": "stream",
       "stream": "stdout",
       "text": [
        "\n",
        "   166  |  \u001b[94m  0.024310\u001b[0m  |  \u001b[32m  0.023154\u001b[0m  |     1.049897  |             |  0.7s"
       ]
      },
      {
       "output_type": "stream",
       "stream": "stdout",
       "text": [
        "\n",
        "   167  |    0.024365  |  \u001b[32m  0.023125\u001b[0m  |     1.053612  |             |  0.7s"
       ]
      },
      {
       "output_type": "stream",
       "stream": "stdout",
       "text": [
        "\n",
        "   168  |  \u001b[94m  0.024296\u001b[0m  |  \u001b[32m  0.023086\u001b[0m  |     1.052417  |             |  0.7s"
       ]
      },
      {
       "output_type": "stream",
       "stream": "stdout",
       "text": [
        "\n",
        "   169  |  \u001b[94m  0.024276\u001b[0m  |  \u001b[32m  0.023055\u001b[0m  |     1.052965  |             |  0.7s"
       ]
      },
      {
       "output_type": "stream",
       "stream": "stdout",
       "text": [
        "\n",
        "   170  |  \u001b[94m  0.024257\u001b[0m  |  \u001b[32m  0.022989\u001b[0m  |     1.055145  |             |  0.7s"
       ]
      },
      {
       "output_type": "stream",
       "stream": "stdout",
       "text": [
        "\n",
        "   171  |  \u001b[94m  0.024208\u001b[0m  |  \u001b[32m  0.022949\u001b[0m  |     1.054857  |             |  0.7s"
       ]
      },
      {
       "output_type": "stream",
       "stream": "stdout",
       "text": [
        "\n",
        "   172  |  \u001b[94m  0.024154\u001b[0m  |  \u001b[32m  0.022909\u001b[0m  |     1.054322  |             |  0.7s"
       ]
      },
      {
       "output_type": "stream",
       "stream": "stdout",
       "text": [
        "\n",
        "   173  |    0.024205  |  \u001b[32m  0.022883\u001b[0m  |     1.057774  |             |  0.7s"
       ]
      },
      {
       "output_type": "stream",
       "stream": "stdout",
       "text": [
        "\n",
        "   174  |  \u001b[94m  0.024089\u001b[0m  |  \u001b[32m  0.022875\u001b[0m  |     1.053050  |             |  0.7s"
       ]
      },
      {
       "output_type": "stream",
       "stream": "stdout",
       "text": [
        "\n",
        "   175  |  \u001b[94m  0.024076\u001b[0m  |  \u001b[32m  0.022851\u001b[0m  |     1.053575  |             |  0.7s"
       ]
      },
      {
       "output_type": "stream",
       "stream": "stdout",
       "text": [
        "\n",
        "   176  |  \u001b[94m  0.024042\u001b[0m  |  \u001b[32m  0.022793\u001b[0m  |     1.054790  |             |  0.7s"
       ]
      },
      {
       "output_type": "stream",
       "stream": "stdout",
       "text": [
        "\n",
        "   177  |  \u001b[94m  0.024012\u001b[0m  |  \u001b[32m  0.022774\u001b[0m  |     1.054368  |             |  0.7s"
       ]
      },
      {
       "output_type": "stream",
       "stream": "stdout",
       "text": [
        "\n",
        "   178  |  \u001b[94m  0.023961\u001b[0m  |  \u001b[32m  0.022715\u001b[0m  |     1.054830  |             |  0.7s"
       ]
      },
      {
       "output_type": "stream",
       "stream": "stdout",
       "text": [
        "\n",
        "   179  |  \u001b[94m  0.023952\u001b[0m  |  \u001b[32m  0.022699\u001b[0m  |     1.055200  |             |  0.7s"
       ]
      },
      {
       "output_type": "stream",
       "stream": "stdout",
       "text": [
        "\n",
        "   180  |    0.023953  |    0.022702  |     1.055135  |             |  0.7s"
       ]
      },
      {
       "output_type": "stream",
       "stream": "stdout",
       "text": [
        "\n",
        "   181  |  \u001b[94m  0.023931\u001b[0m  |  \u001b[32m  0.022632\u001b[0m  |     1.057365  |             |  0.7s"
       ]
      },
      {
       "output_type": "stream",
       "stream": "stdout",
       "text": [
        "\n",
        "   182  |  \u001b[94m  0.023902\u001b[0m  |  \u001b[32m  0.022554\u001b[0m  |     1.059754  |             |  0.7s"
       ]
      },
      {
       "output_type": "stream",
       "stream": "stdout",
       "text": [
        "\n",
        "   183  |  \u001b[94m  0.023839\u001b[0m  |    0.022576  |     1.055964  |             |  0.7s"
       ]
      },
      {
       "output_type": "stream",
       "stream": "stdout",
       "text": [
        "\n",
        "   184  |  \u001b[94m  0.023797\u001b[0m  |  \u001b[32m  0.022518\u001b[0m  |     1.056801  |             |  0.7s"
       ]
      },
      {
       "output_type": "stream",
       "stream": "stdout",
       "text": [
        "\n",
        "   185  |  \u001b[94m  0.023756\u001b[0m  |  \u001b[32m  0.022477\u001b[0m  |     1.056902  |             |  0.7s"
       ]
      },
      {
       "output_type": "stream",
       "stream": "stdout",
       "text": [
        "\n",
        "   186  |  \u001b[94m  0.023717\u001b[0m  |  \u001b[32m  0.022444\u001b[0m  |     1.056719  |             |  0.7s"
       ]
      },
      {
       "output_type": "stream",
       "stream": "stdout",
       "text": [
        "\n",
        "   187  |    0.023749  |  \u001b[32m  0.022433\u001b[0m  |     1.058655  |             |  0.7s"
       ]
      },
      {
       "output_type": "stream",
       "stream": "stdout",
       "text": [
        "\n",
        "   188  |  \u001b[94m  0.023679\u001b[0m  |  \u001b[32m  0.022399\u001b[0m  |     1.057159  |             |  0.7s"
       ]
      },
      {
       "output_type": "stream",
       "stream": "stdout",
       "text": [
        "\n",
        "   189  |    0.023698  |  \u001b[32m  0.022344\u001b[0m  |     1.060589  |             |  0.7s"
       ]
      },
      {
       "output_type": "stream",
       "stream": "stdout",
       "text": [
        "\n",
        "   190  |  \u001b[94m  0.023643\u001b[0m  |  \u001b[32m  0.022328\u001b[0m  |     1.058908  |             |  0.7s"
       ]
      },
      {
       "output_type": "stream",
       "stream": "stdout",
       "text": [
        "\n",
        "   191  |    0.023672  |  \u001b[32m  0.022299\u001b[0m  |     1.061555  |             |  0.7s"
       ]
      },
      {
       "output_type": "stream",
       "stream": "stdout",
       "text": [
        "\n",
        "   192  |  \u001b[94m  0.023603\u001b[0m  |  \u001b[32m  0.022282\u001b[0m  |     1.059312  |             |  0.7s"
       ]
      },
      {
       "output_type": "stream",
       "stream": "stdout",
       "text": [
        "\n",
        "   193  |  \u001b[94m  0.023524\u001b[0m  |  \u001b[32m  0.022213\u001b[0m  |     1.059018  |             |  0.7s"
       ]
      },
      {
       "output_type": "stream",
       "stream": "stdout",
       "text": [
        "\n",
        "   194  |  \u001b[94m  0.023503\u001b[0m  |  \u001b[32m  0.022174\u001b[0m  |     1.059926  |             |  0.7s"
       ]
      },
      {
       "output_type": "stream",
       "stream": "stdout",
       "text": [
        "\n",
        "   195  |  \u001b[94m  0.023434\u001b[0m  |  \u001b[32m  0.022120\u001b[0m  |     1.059414  |             |  0.7s"
       ]
      },
      {
       "output_type": "stream",
       "stream": "stdout",
       "text": [
        "\n",
        "   196  |    0.023438  |    0.022157  |     1.057844  |             |  0.7s"
       ]
      },
      {
       "output_type": "stream",
       "stream": "stdout",
       "text": [
        "\n",
        "   197  |  \u001b[94m  0.023421\u001b[0m  |  \u001b[32m  0.022074\u001b[0m  |     1.061027  |             |  0.7s"
       ]
      },
      {
       "output_type": "stream",
       "stream": "stdout",
       "text": [
        "\n",
        "   198  |    0.023424  |  \u001b[32m  0.022035\u001b[0m  |     1.062998  |             |  0.7s"
       ]
      },
      {
       "output_type": "stream",
       "stream": "stdout",
       "text": [
        "\n",
        "   199  |  \u001b[94m  0.023341\u001b[0m  |    0.022066  |     1.057755  |             |  0.7s"
       ]
      },
      {
       "output_type": "stream",
       "stream": "stdout",
       "text": [
        "\n",
        "   200  |  \u001b[94m  0.023323\u001b[0m  |  \u001b[32m  0.021952\u001b[0m  |     1.062446  |             |  0.7s"
       ]
      },
      {
       "output_type": "stream",
       "stream": "stdout",
       "text": [
        "\n",
        "   201  |  \u001b[94m  0.023308\u001b[0m  |  \u001b[32m  0.021934\u001b[0m  |     1.062608  |             |  0.7s"
       ]
      },
      {
       "output_type": "stream",
       "stream": "stdout",
       "text": [
        "\n",
        "   202  |    0.023329  |    0.021965  |     1.062104  |             |  0.7s"
       ]
      },
      {
       "output_type": "stream",
       "stream": "stdout",
       "text": [
        "\n",
        "   203  |  \u001b[94m  0.023255\u001b[0m  |  \u001b[32m  0.021906\u001b[0m  |     1.061607  |             |  0.7s"
       ]
      },
      {
       "output_type": "stream",
       "stream": "stdout",
       "text": [
        "\n",
        "   204  |  \u001b[94m  0.023254\u001b[0m  |  \u001b[32m  0.021866\u001b[0m  |     1.063507  |             |  0.7s"
       ]
      },
      {
       "output_type": "stream",
       "stream": "stdout",
       "text": [
        "\n",
        "   205  |  \u001b[94m  0.023139\u001b[0m  |  \u001b[32m  0.021817\u001b[0m  |     1.060572  |             |  0.7s"
       ]
      },
      {
       "output_type": "stream",
       "stream": "stdout",
       "text": [
        "\n",
        "   206  |    0.023170  |  \u001b[32m  0.021799\u001b[0m  |     1.062878  |             |  0.7s"
       ]
      },
      {
       "output_type": "stream",
       "stream": "stdout",
       "text": [
        "\n",
        "   207  |    0.023179  |  \u001b[32m  0.021752\u001b[0m  |     1.065603  |             |  0.7s"
       ]
      },
      {
       "output_type": "stream",
       "stream": "stdout",
       "text": [
        "\n",
        "   208  |  \u001b[94m  0.023058\u001b[0m  |  \u001b[32m  0.021718\u001b[0m  |     1.061666  |             |  0.7s"
       ]
      },
      {
       "output_type": "stream",
       "stream": "stdout",
       "text": [
        "\n",
        "   209  |    0.023065  |  \u001b[32m  0.021688\u001b[0m  |     1.063488  |             |  0.7s"
       ]
      },
      {
       "output_type": "stream",
       "stream": "stdout",
       "text": [
        "\n",
        "   210  |    0.023100  |  \u001b[32m  0.021674\u001b[0m  |     1.065781  |             |  0.7s"
       ]
      },
      {
       "output_type": "stream",
       "stream": "stdout",
       "text": [
        "\n",
        "   211  |  \u001b[94m  0.023030\u001b[0m  |  \u001b[32m  0.021602\u001b[0m  |     1.066072  |             |  0.7s"
       ]
      },
      {
       "output_type": "stream",
       "stream": "stdout",
       "text": [
        "\n",
        "   212  |  \u001b[94m  0.022985\u001b[0m  |  \u001b[32m  0.021578\u001b[0m  |     1.065183  |             |  0.7s"
       ]
      },
      {
       "output_type": "stream",
       "stream": "stdout",
       "text": [
        "\n",
        "   213  |  \u001b[94m  0.022939\u001b[0m  |  \u001b[32m  0.021522\u001b[0m  |     1.065821  |             |  0.7s"
       ]
      },
      {
       "output_type": "stream",
       "stream": "stdout",
       "text": [
        "\n",
        "   214  |  \u001b[94m  0.022905\u001b[0m  |    0.021550  |     1.062846  |             |  0.7s"
       ]
      },
      {
       "output_type": "stream",
       "stream": "stdout",
       "text": [
        "\n",
        "   215  |  \u001b[94m  0.022829\u001b[0m  |  \u001b[32m  0.021495\u001b[0m  |     1.062062  |             |  0.7s"
       ]
      },
      {
       "output_type": "stream",
       "stream": "stdout",
       "text": [
        "\n",
        "   216  |    0.022872  |    0.021512  |     1.063240  |             |  0.7s"
       ]
      },
      {
       "output_type": "stream",
       "stream": "stdout",
       "text": [
        "\n",
        "   217  |    0.022829  |  \u001b[32m  0.021440\u001b[0m  |     1.064813  |             |  0.7s"
       ]
      },
      {
       "output_type": "stream",
       "stream": "stdout",
       "text": [
        "\n",
        "   218  |  \u001b[94m  0.022810\u001b[0m  |  \u001b[32m  0.021412\u001b[0m  |     1.065291  |             |  0.7s"
       ]
      },
      {
       "output_type": "stream",
       "stream": "stdout",
       "text": [
        "\n",
        "   219  |  \u001b[94m  0.022802\u001b[0m  |  \u001b[32m  0.021402\u001b[0m  |     1.065426  |             |  0.7s"
       ]
      },
      {
       "output_type": "stream",
       "stream": "stdout",
       "text": [
        "\n",
        "   220  |  \u001b[94m  0.022760\u001b[0m  |  \u001b[32m  0.021328\u001b[0m  |     1.067140  |             |  0.7s"
       ]
      },
      {
       "output_type": "stream",
       "stream": "stdout",
       "text": [
        "\n",
        "   221  |  \u001b[94m  0.022757\u001b[0m  |  \u001b[32m  0.021304\u001b[0m  |     1.068167  |             |  0.7s"
       ]
      },
      {
       "output_type": "stream",
       "stream": "stdout",
       "text": [
        "\n",
        "   222  |  \u001b[94m  0.022725\u001b[0m  |  \u001b[32m  0.021278\u001b[0m  |     1.067993  |             |  0.7s"
       ]
      },
      {
       "output_type": "stream",
       "stream": "stdout",
       "text": [
        "\n",
        "   223  |  \u001b[94m  0.022651\u001b[0m  |  \u001b[32m  0.021220\u001b[0m  |     1.067411  |             |  0.7s"
       ]
      },
      {
       "output_type": "stream",
       "stream": "stdout",
       "text": [
        "\n",
        "   224  |    0.022699  |  \u001b[32m  0.021200\u001b[0m  |     1.070735  |             |  0.7s"
       ]
      },
      {
       "output_type": "stream",
       "stream": "stdout",
       "text": [
        "\n",
        "   225  |  \u001b[94m  0.022650\u001b[0m  |    0.021212  |     1.067783  |             |  0.7s"
       ]
      },
      {
       "output_type": "stream",
       "stream": "stdout",
       "text": [
        "\n",
        "   226  |  \u001b[94m  0.022556\u001b[0m  |  \u001b[32m  0.021156\u001b[0m  |     1.066155  |             |  0.7s"
       ]
      },
      {
       "output_type": "stream",
       "stream": "stdout",
       "text": [
        "\n",
        "   227  |  \u001b[94m  0.022521\u001b[0m  |    0.021177  |     1.063443  |             |  0.7s"
       ]
      },
      {
       "output_type": "stream",
       "stream": "stdout",
       "text": [
        "\n",
        "   228  |  \u001b[94m  0.022440\u001b[0m  |  \u001b[32m  0.021070\u001b[0m  |     1.065053  |             |  0.7s"
       ]
      },
      {
       "output_type": "stream",
       "stream": "stdout",
       "text": [
        "\n",
        "   229  |    0.022547  |    0.021080  |     1.069577  |             |  0.7s"
       ]
      },
      {
       "output_type": "stream",
       "stream": "stdout",
       "text": [
        "\n",
        "   230  |    0.022472  |  \u001b[32m  0.021046\u001b[0m  |     1.067782  |             |  0.7s"
       ]
      },
      {
       "output_type": "stream",
       "stream": "stdout",
       "text": [
        "\n",
        "   231  |    0.022455  |  \u001b[32m  0.021017\u001b[0m  |     1.068415  |             |  0.7s"
       ]
      },
      {
       "output_type": "stream",
       "stream": "stdout",
       "text": [
        "\n",
        "   232  |  \u001b[94m  0.022428\u001b[0m  |  \u001b[32m  0.020977\u001b[0m  |     1.069140  |             |  0.7s"
       ]
      },
      {
       "output_type": "stream",
       "stream": "stdout",
       "text": [
        "\n",
        "   233  |  \u001b[94m  0.022373\u001b[0m  |  \u001b[32m  0.020940\u001b[0m  |     1.068467  |             |  0.7s"
       ]
      },
      {
       "output_type": "stream",
       "stream": "stdout",
       "text": [
        "\n",
        "   234  |  \u001b[94m  0.022363\u001b[0m  |  \u001b[32m  0.020897\u001b[0m  |     1.070163  |             |  0.7s"
       ]
      },
      {
       "output_type": "stream",
       "stream": "stdout",
       "text": [
        "\n",
        "   235  |    0.022374  |    0.020900  |     1.070564  |             |  0.7s"
       ]
      },
      {
       "output_type": "stream",
       "stream": "stdout",
       "text": [
        "\n",
        "   236  |  \u001b[94m  0.022351\u001b[0m  |  \u001b[32m  0.020872\u001b[0m  |     1.070850  |             |  0.7s"
       ]
      },
      {
       "output_type": "stream",
       "stream": "stdout",
       "text": [
        "\n",
        "   237  |  \u001b[94m  0.022259\u001b[0m  |  \u001b[32m  0.020856\u001b[0m  |     1.067299  |             |  0.7s"
       ]
      },
      {
       "output_type": "stream",
       "stream": "stdout",
       "text": [
        "\n",
        "   238  |    0.022317  |  \u001b[32m  0.020774\u001b[0m  |     1.074251  |             |  0.7s"
       ]
      },
      {
       "output_type": "stream",
       "stream": "stdout",
       "text": [
        "\n",
        "   239  |  \u001b[94m  0.022236\u001b[0m  |  \u001b[32m  0.020733\u001b[0m  |     1.072477  |             |  0.7s"
       ]
      },
      {
       "output_type": "stream",
       "stream": "stdout",
       "text": [
        "\n",
        "   240  |  \u001b[94m  0.022191\u001b[0m  |  \u001b[32m  0.020725\u001b[0m  |     1.070742  |             |  0.7s"
       ]
      },
      {
       "output_type": "stream",
       "stream": "stdout",
       "text": [
        "\n",
        "   241  |  \u001b[94m  0.022165\u001b[0m  |    0.020733  |     1.069064  |             |  0.7s"
       ]
      },
      {
       "output_type": "stream",
       "stream": "stdout",
       "text": [
        "\n",
        "   242  |    0.022185  |  \u001b[32m  0.020687\u001b[0m  |     1.072418  |             |  0.7s"
       ]
      },
      {
       "output_type": "stream",
       "stream": "stdout",
       "text": [
        "\n",
        "   243  |  \u001b[94m  0.022144\u001b[0m  |  \u001b[32m  0.020640\u001b[0m  |     1.072848  |             |  0.7s"
       ]
      },
      {
       "output_type": "stream",
       "stream": "stdout",
       "text": [
        "\n",
        "   244  |  \u001b[94m  0.022066\u001b[0m  |  \u001b[32m  0.020636\u001b[0m  |     1.069328  |             |  0.7s"
       ]
      },
      {
       "output_type": "stream",
       "stream": "stdout",
       "text": [
        "\n",
        "   245  |    0.022101  |  \u001b[32m  0.020584\u001b[0m  |     1.073663  |             |  0.7s"
       ]
      },
      {
       "output_type": "stream",
       "stream": "stdout",
       "text": [
        "\n",
        "   246  |    0.022081  |  \u001b[32m  0.020575\u001b[0m  |     1.073201  |             |  0.7s"
       ]
      },
      {
       "output_type": "stream",
       "stream": "stdout",
       "text": [
        "\n",
        "   247  |  \u001b[94m  0.022027\u001b[0m  |  \u001b[32m  0.020529\u001b[0m  |     1.072993  |             |  0.7s"
       ]
      },
      {
       "output_type": "stream",
       "stream": "stdout",
       "text": [
        "\n",
        "   248  |    0.022033  |  \u001b[32m  0.020478\u001b[0m  |     1.075929  |             |  0.7s"
       ]
      },
      {
       "output_type": "stream",
       "stream": "stdout",
       "text": [
        "\n",
        "   249  |  \u001b[94m  0.022008\u001b[0m  |  \u001b[32m  0.020473\u001b[0m  |     1.074977  |             |  0.7s"
       ]
      },
      {
       "output_type": "stream",
       "stream": "stdout",
       "text": [
        "\n",
        "   250  |  \u001b[94m  0.021980\u001b[0m  |  \u001b[32m  0.020473\u001b[0m  |     1.073606  |             |  0.7s"
       ]
      },
      {
       "output_type": "stream",
       "stream": "stdout",
       "text": [
        "\n",
        "   251  |  \u001b[94m  0.021930\u001b[0m  |  \u001b[32m  0.020400\u001b[0m  |     1.075037  |             |  0.7s"
       ]
      },
      {
       "output_type": "stream",
       "stream": "stdout",
       "text": [
        "\n",
        "   252  |    0.021963  |  \u001b[32m  0.020390\u001b[0m  |     1.077165  |             |  0.7s"
       ]
      },
      {
       "output_type": "stream",
       "stream": "stdout",
       "text": [
        "\n",
        "   253  |  \u001b[94m  0.021912\u001b[0m  |  \u001b[32m  0.020349\u001b[0m  |     1.076803  |             |  0.7s"
       ]
      },
      {
       "output_type": "stream",
       "stream": "stdout",
       "text": [
        "\n",
        "   254  |  \u001b[94m  0.021903\u001b[0m  |    0.020350  |     1.076287  |             |  0.7s"
       ]
      },
      {
       "output_type": "stream",
       "stream": "stdout",
       "text": [
        "\n",
        "   255  |  \u001b[94m  0.021798\u001b[0m  |  \u001b[32m  0.020316\u001b[0m  |     1.072944  |             |  0.7s"
       ]
      },
      {
       "output_type": "stream",
       "stream": "stdout",
       "text": [
        "\n",
        "   256  |    0.021892  |    0.020317  |     1.077497  |             |  0.7s"
       ]
      },
      {
       "output_type": "stream",
       "stream": "stdout",
       "text": [
        "\n",
        "   257  |    0.021879  |  \u001b[32m  0.020262\u001b[0m  |     1.079815  |             |  0.7s"
       ]
      },
      {
       "output_type": "stream",
       "stream": "stdout",
       "text": [
        "\n",
        "   258  |  \u001b[94m  0.021750\u001b[0m  |  \u001b[32m  0.020238\u001b[0m  |     1.074707  |             |  0.7s"
       ]
      },
      {
       "output_type": "stream",
       "stream": "stdout",
       "text": [
        "\n",
        "   259  |    0.021783  |  \u001b[32m  0.020222\u001b[0m  |     1.077187  |             |  0.7s"
       ]
      },
      {
       "output_type": "stream",
       "stream": "stdout",
       "text": [
        "\n",
        "   260  |  \u001b[94m  0.021713\u001b[0m  |  \u001b[32m  0.020167\u001b[0m  |     1.076676  |             |  0.7s"
       ]
      },
      {
       "output_type": "stream",
       "stream": "stdout",
       "text": [
        "\n",
        "   261  |    0.021720  |  \u001b[32m  0.020129\u001b[0m  |     1.079034  |             |  0.7s"
       ]
      },
      {
       "output_type": "stream",
       "stream": "stdout",
       "text": [
        "\n",
        "   262  |  \u001b[94m  0.021670\u001b[0m  |    0.020168  |     1.074460  |             |  0.7s"
       ]
      },
      {
       "output_type": "stream",
       "stream": "stdout",
       "text": [
        "\n",
        "   263  |  \u001b[94m  0.021629\u001b[0m  |  \u001b[32m  0.020105\u001b[0m  |     1.075827  |             |  0.7s"
       ]
      },
      {
       "output_type": "stream",
       "stream": "stdout",
       "text": [
        "\n",
        "   264  |  \u001b[94m  0.021605\u001b[0m  |  \u001b[32m  0.020077\u001b[0m  |     1.076095  |             |  0.7s"
       ]
      },
      {
       "output_type": "stream",
       "stream": "stdout",
       "text": [
        "\n",
        "   265  |    0.021624  |    0.020126  |     1.074443  |             |  0.7s"
       ]
      },
      {
       "output_type": "stream",
       "stream": "stdout",
       "text": [
        "\n",
        "   266  |  \u001b[94m  0.021602\u001b[0m  |  \u001b[32m  0.020023\u001b[0m  |     1.078859  |             |  0.7s"
       ]
      },
      {
       "output_type": "stream",
       "stream": "stdout",
       "text": [
        "\n",
        "   267  |    0.021606  |    0.020038  |     1.078267  |             |  0.7s"
       ]
      },
      {
       "output_type": "stream",
       "stream": "stdout",
       "text": [
        "\n",
        "   268  |  \u001b[94m  0.021488\u001b[0m  |  \u001b[32m  0.019964\u001b[0m  |     1.076306  |             |  0.7s"
       ]
      },
      {
       "output_type": "stream",
       "stream": "stdout",
       "text": [
        "\n",
        "   269  |    0.021527  |    0.019976  |     1.077688  |             |  0.7s"
       ]
      },
      {
       "output_type": "stream",
       "stream": "stdout",
       "text": [
        "\n",
        "   270  |    0.021500  |  \u001b[32m  0.019930\u001b[0m  |     1.078751  |             |  0.7s"
       ]
      },
      {
       "output_type": "stream",
       "stream": "stdout",
       "text": [
        "\n",
        "   271  |  \u001b[94m  0.021463\u001b[0m  |  \u001b[32m  0.019900\u001b[0m  |     1.078573  |             |  0.7s"
       ]
      },
      {
       "output_type": "stream",
       "stream": "stdout",
       "text": [
        "\n",
        "   272  |    0.021506  |  \u001b[32m  0.019852\u001b[0m  |     1.083297  |             |  0.7s"
       ]
      },
      {
       "output_type": "stream",
       "stream": "stdout",
       "text": [
        "\n",
        "   273  |  \u001b[94m  0.021401\u001b[0m  |    0.019872  |     1.076948  |             |  0.7s"
       ]
      },
      {
       "output_type": "stream",
       "stream": "stdout",
       "text": [
        "\n",
        "   274  |    0.021407  |  \u001b[32m  0.019821\u001b[0m  |     1.080045  |             |  0.7s"
       ]
      },
      {
       "output_type": "stream",
       "stream": "stdout",
       "text": [
        "\n",
        "   275  |  \u001b[94m  0.021371\u001b[0m  |    0.019853  |     1.076469  |             |  0.7s"
       ]
      },
      {
       "output_type": "stream",
       "stream": "stdout",
       "text": [
        "\n",
        "   276  |    0.021440  |    0.019835  |     1.080903  |             |  0.7s"
       ]
      },
      {
       "output_type": "stream",
       "stream": "stdout",
       "text": [
        "\n",
        "   277  |  \u001b[94m  0.021335\u001b[0m  |  \u001b[32m  0.019779\u001b[0m  |     1.078666  |             |  0.7s"
       ]
      },
      {
       "output_type": "stream",
       "stream": "stdout",
       "text": [
        "\n",
        "   278  |  \u001b[94m  0.021265\u001b[0m  |  \u001b[32m  0.019755\u001b[0m  |     1.076419  |             |  0.7s"
       ]
      },
      {
       "output_type": "stream",
       "stream": "stdout",
       "text": [
        "\n",
        "   279  |    0.021302  |  \u001b[32m  0.019745\u001b[0m  |     1.078872  |             |  0.7s"
       ]
      },
      {
       "output_type": "stream",
       "stream": "stdout",
       "text": [
        "\n",
        "   280  |    0.021290  |  \u001b[32m  0.019679\u001b[0m  |     1.081871  |             |  0.7s"
       ]
      },
      {
       "output_type": "stream",
       "stream": "stdout",
       "text": [
        "\n",
        "   281  |  \u001b[94m  0.021258\u001b[0m  |  \u001b[32m  0.019649\u001b[0m  |     1.081899  |             |  0.7s"
       ]
      },
      {
       "output_type": "stream",
       "stream": "stdout",
       "text": [
        "\n",
        "   282  |  \u001b[94m  0.021213\u001b[0m  |  \u001b[32m  0.019641\u001b[0m  |     1.080012  |             |  0.7s"
       ]
      },
      {
       "output_type": "stream",
       "stream": "stdout",
       "text": [
        "\n",
        "   283  |  \u001b[94m  0.021178\u001b[0m  |  \u001b[32m  0.019632\u001b[0m  |     1.078720  |             |  0.7s"
       ]
      },
      {
       "output_type": "stream",
       "stream": "stdout",
       "text": [
        "\n",
        "   284  |    0.021196  |  \u001b[32m  0.019604\u001b[0m  |     1.081211  |             |  0.7s"
       ]
      },
      {
       "output_type": "stream",
       "stream": "stdout",
       "text": [
        "\n",
        "   285  |    0.021214  |  \u001b[32m  0.019570\u001b[0m  |     1.084023  |             |  0.7s"
       ]
      },
      {
       "output_type": "stream",
       "stream": "stdout",
       "text": [
        "\n",
        "   286  |  \u001b[94m  0.021153\u001b[0m  |  \u001b[32m  0.019558\u001b[0m  |     1.081590  |             |  0.7s"
       ]
      },
      {
       "output_type": "stream",
       "stream": "stdout",
       "text": [
        "\n",
        "   287  |    0.021182  |  \u001b[32m  0.019544\u001b[0m  |     1.083813  |             |  0.7s"
       ]
      },
      {
       "output_type": "stream",
       "stream": "stdout",
       "text": [
        "\n",
        "   288  |    0.021174  |  \u001b[32m  0.019507\u001b[0m  |     1.085493  |             |  0.7s"
       ]
      },
      {
       "output_type": "stream",
       "stream": "stdout",
       "text": [
        "\n",
        "   289  |  \u001b[94m  0.021088\u001b[0m  |    0.019548  |     1.078797  |             |  0.7s"
       ]
      },
      {
       "output_type": "stream",
       "stream": "stdout",
       "text": [
        "\n",
        "   290  |  \u001b[94m  0.021048\u001b[0m  |  \u001b[32m  0.019505\u001b[0m  |     1.079109  |             |  0.7s"
       ]
      },
      {
       "output_type": "stream",
       "stream": "stdout",
       "text": [
        "\n",
        "   291  |    0.021048  |  \u001b[32m  0.019433\u001b[0m  |     1.083082  |             |  0.7s"
       ]
      },
      {
       "output_type": "stream",
       "stream": "stdout",
       "text": [
        "\n",
        "   292  |  \u001b[94m  0.021022\u001b[0m  |    0.019465  |     1.080037  |             |  0.7s"
       ]
      },
      {
       "output_type": "stream",
       "stream": "stdout",
       "text": [
        "\n",
        "   293  |  \u001b[94m  0.021004\u001b[0m  |    0.019445  |     1.080207  |             |  0.7s"
       ]
      },
      {
       "output_type": "stream",
       "stream": "stdout",
       "text": [
        "\n",
        "   294  |    0.021022  |  \u001b[32m  0.019381\u001b[0m  |     1.084674  |             |  0.7s"
       ]
      },
      {
       "output_type": "stream",
       "stream": "stdout",
       "text": [
        "\n",
        "   295  |  \u001b[94m  0.020940\u001b[0m  |    0.019397  |     1.079526  |             |  0.7s"
       ]
      },
      {
       "output_type": "stream",
       "stream": "stdout",
       "text": [
        "\n",
        "   296  |    0.020944  |  \u001b[32m  0.019330\u001b[0m  |     1.083468  |             |  0.7s"
       ]
      },
      {
       "output_type": "stream",
       "stream": "stdout",
       "text": [
        "\n",
        "   297  |    0.020948  |    0.019337  |     1.083327  |             |  0.7s"
       ]
      },
      {
       "output_type": "stream",
       "stream": "stdout",
       "text": [
        "\n",
        "   298  |  \u001b[94m  0.020849\u001b[0m  |  \u001b[32m  0.019324\u001b[0m  |     1.078952  |             |  0.7s"
       ]
      },
      {
       "output_type": "stream",
       "stream": "stdout",
       "text": [
        "\n",
        "   299  |    0.020908  |  \u001b[32m  0.019319\u001b[0m  |     1.082245  |             |  0.7s"
       ]
      },
      {
       "output_type": "stream",
       "stream": "stdout",
       "text": [
        "\n",
        "   300  |    0.020956  |  \u001b[32m  0.019315\u001b[0m  |     1.084995  |             |  0.7s"
       ]
      },
      {
       "output_type": "stream",
       "stream": "stdout",
       "text": [
        "\n",
        "   301  |    0.020856  |  \u001b[32m  0.019297\u001b[0m  |     1.080807  |             |  0.7s"
       ]
      },
      {
       "output_type": "stream",
       "stream": "stdout",
       "text": [
        "\n",
        "   302  |  \u001b[94m  0.020840\u001b[0m  |  \u001b[32m  0.019207\u001b[0m  |     1.085001  |             |  0.7s"
       ]
      },
      {
       "output_type": "stream",
       "stream": "stdout",
       "text": [
        "\n",
        "   303  |  \u001b[94m  0.020829\u001b[0m  |    0.019210  |     1.084276  |             |  0.7s"
       ]
      },
      {
       "output_type": "stream",
       "stream": "stdout",
       "text": [
        "\n",
        "   304  |  \u001b[94m  0.020765\u001b[0m  |    0.019225  |     1.080122  |             |  0.7s"
       ]
      },
      {
       "output_type": "stream",
       "stream": "stdout",
       "text": [
        "\n",
        "   305  |    0.020787  |    0.019286  |     1.077862  |             |  0.7s"
       ]
      },
      {
       "output_type": "stream",
       "stream": "stdout",
       "text": [
        "\n",
        "   306  |    0.020802  |  \u001b[32m  0.019141\u001b[0m  |     1.086769  |             |  0.7s"
       ]
      },
      {
       "output_type": "stream",
       "stream": "stdout",
       "text": [
        "\n",
        "   307  |  \u001b[94m  0.020750\u001b[0m  |  \u001b[32m  0.019117\u001b[0m  |     1.085388  |             |  0.7s"
       ]
      },
      {
       "output_type": "stream",
       "stream": "stdout",
       "text": [
        "\n",
        "   308  |  \u001b[94m  0.020714\u001b[0m  |  \u001b[32m  0.019105\u001b[0m  |     1.084179  |             |  0.7s"
       ]
      },
      {
       "output_type": "stream",
       "stream": "stdout",
       "text": [
        "\n",
        "   309  |    0.020732  |    0.019125  |     1.084007  |             |  0.7s"
       ]
      },
      {
       "output_type": "stream",
       "stream": "stdout",
       "text": [
        "\n",
        "   310  |  \u001b[94m  0.020640\u001b[0m  |  \u001b[32m  0.019070\u001b[0m  |     1.082290  |             |  0.7s"
       ]
      },
      {
       "output_type": "stream",
       "stream": "stdout",
       "text": [
        "\n",
        "   311  |  \u001b[94m  0.020589\u001b[0m  |    0.019070  |     1.079632  |             |  0.7s"
       ]
      },
      {
       "output_type": "stream",
       "stream": "stdout",
       "text": [
        "\n",
        "   312  |    0.020591  |    0.019085  |     1.078928  |             |  0.7s"
       ]
      },
      {
       "output_type": "stream",
       "stream": "stdout",
       "text": [
        "\n",
        "   313  |    0.020613  |  \u001b[32m  0.019055\u001b[0m  |     1.081748  |             |  0.7s"
       ]
      },
      {
       "output_type": "stream",
       "stream": "stdout",
       "text": [
        "\n",
        "   314  |    0.020622  |  \u001b[32m  0.019012\u001b[0m  |     1.084705  |             |  0.7s"
       ]
      },
      {
       "output_type": "stream",
       "stream": "stdout",
       "text": [
        "\n",
        "   315  |    0.020613  |    0.019027  |     1.083357  |             |  0.7s"
       ]
      },
      {
       "output_type": "stream",
       "stream": "stdout",
       "text": [
        "\n",
        "   316  |  \u001b[94m  0.020544\u001b[0m  |    0.019086  |     1.076413  |             |  0.7s"
       ]
      },
      {
       "output_type": "stream",
       "stream": "stdout",
       "text": [
        "\n",
        "   317  |    0.020547  |  \u001b[32m  0.018987\u001b[0m  |     1.082145  |             |  0.7s"
       ]
      },
      {
       "output_type": "stream",
       "stream": "stdout",
       "text": [
        "\n",
        "   318  |  \u001b[94m  0.020500\u001b[0m  |  \u001b[32m  0.018943\u001b[0m  |     1.082185  |             |  0.7s"
       ]
      },
      {
       "output_type": "stream",
       "stream": "stdout",
       "text": [
        "\n",
        "   319  |    0.020541  |  \u001b[32m  0.018943\u001b[0m  |     1.084345  |             |  0.7s"
       ]
      },
      {
       "output_type": "stream",
       "stream": "stdout",
       "text": [
        "\n",
        "   320  |    0.020531  |  \u001b[32m  0.018901\u001b[0m  |     1.086259  |             |  0.7s"
       ]
      },
      {
       "output_type": "stream",
       "stream": "stdout",
       "text": [
        "\n",
        "   321  |  \u001b[94m  0.020482\u001b[0m  |  \u001b[32m  0.018883\u001b[0m  |     1.084661  |             |  0.7s"
       ]
      },
      {
       "output_type": "stream",
       "stream": "stdout",
       "text": [
        "\n",
        "   322  |    0.020519  |  \u001b[32m  0.018880\u001b[0m  |     1.086831  |             |  0.7s"
       ]
      },
      {
       "output_type": "stream",
       "stream": "stdout",
       "text": [
        "\n",
        "   323  |  \u001b[94m  0.020482\u001b[0m  |  \u001b[32m  0.018872\u001b[0m  |     1.085299  |             |  0.7s"
       ]
      },
      {
       "output_type": "stream",
       "stream": "stdout",
       "text": [
        "\n",
        "   324  |  \u001b[94m  0.020402\u001b[0m  |  \u001b[32m  0.018831\u001b[0m  |     1.083416  |             |  0.7s"
       ]
      },
      {
       "output_type": "stream",
       "stream": "stdout",
       "text": [
        "\n",
        "   325  |  \u001b[94m  0.020353\u001b[0m  |  \u001b[32m  0.018811\u001b[0m  |     1.081998  |             |  0.7s"
       ]
      },
      {
       "output_type": "stream",
       "stream": "stdout",
       "text": [
        "\n",
        "   326  |    0.020392  |    0.018825  |     1.083224  |             |  0.7s"
       ]
      },
      {
       "output_type": "stream",
       "stream": "stdout",
       "text": [
        "\n",
        "   327  |    0.020406  |    0.018819  |     1.084302  |             |  0.7s"
       ]
      },
      {
       "output_type": "stream",
       "stream": "stdout",
       "text": [
        "\n",
        "   328  |  \u001b[94m  0.020340\u001b[0m  |    0.018826  |     1.080438  |             |  0.7s"
       ]
      },
      {
       "output_type": "stream",
       "stream": "stdout",
       "text": [
        "\n",
        "   329  |    0.020421  |  \u001b[32m  0.018755\u001b[0m  |     1.088847  |             |  0.7s"
       ]
      },
      {
       "output_type": "stream",
       "stream": "stdout",
       "text": [
        "\n",
        "   330  |  \u001b[94m  0.020324\u001b[0m  |  \u001b[32m  0.018748\u001b[0m  |     1.084099  |             |  0.7s"
       ]
      },
      {
       "output_type": "stream",
       "stream": "stdout",
       "text": [
        "\n",
        "   331  |    0.020329  |  \u001b[32m  0.018716\u001b[0m  |     1.086161  |             |  0.7s"
       ]
      },
      {
       "output_type": "stream",
       "stream": "stdout",
       "text": [
        "\n",
        "   332  |    0.020326  |    0.018736  |     1.084865  |             |  0.7s"
       ]
      },
      {
       "output_type": "stream",
       "stream": "stdout",
       "text": [
        "\n",
        "   333  |  \u001b[94m  0.020299\u001b[0m  |  \u001b[32m  0.018668\u001b[0m  |     1.087356  |             |  0.7s"
       ]
      },
      {
       "output_type": "stream",
       "stream": "stdout",
       "text": [
        "\n",
        "   334  |  \u001b[94m  0.020235\u001b[0m  |    0.018669  |     1.083918  |             |  0.7s"
       ]
      },
      {
       "output_type": "stream",
       "stream": "stdout",
       "text": [
        "\n",
        "   335  |    0.020262  |  \u001b[32m  0.018661\u001b[0m  |     1.085763  |             |  0.7s"
       ]
      },
      {
       "output_type": "stream",
       "stream": "stdout",
       "text": [
        "\n",
        "   336  |    0.020272  |    0.018691  |     1.084598  |             |  0.7s"
       ]
      },
      {
       "output_type": "stream",
       "stream": "stdout",
       "text": [
        "\n",
        "   337  |    0.020251  |  \u001b[32m  0.018592\u001b[0m  |     1.089233  |             |  0.7s"
       ]
      },
      {
       "output_type": "stream",
       "stream": "stdout",
       "text": [
        "\n",
        "   338  |  \u001b[94m  0.020142\u001b[0m  |    0.018600  |     1.082950  |             |  0.7s"
       ]
      },
      {
       "output_type": "stream",
       "stream": "stdout",
       "text": [
        "\n",
        "   339  |    0.020163  |    0.018629  |     1.082358  |             |  0.7s"
       ]
      },
      {
       "output_type": "stream",
       "stream": "stdout",
       "text": [
        "\n",
        "   340  |    0.020255  |  \u001b[32m  0.018572\u001b[0m  |     1.090622  |             |  0.7s"
       ]
      },
      {
       "output_type": "stream",
       "stream": "stdout",
       "text": [
        "\n",
        "   341  |    0.020158  |  \u001b[32m  0.018528\u001b[0m  |     1.087978  |             |  0.7s"
       ]
      },
      {
       "output_type": "stream",
       "stream": "stdout",
       "text": [
        "\n",
        "   342  |    0.020154  |  \u001b[32m  0.018527\u001b[0m  |     1.087842  |             |  0.7s"
       ]
      },
      {
       "output_type": "stream",
       "stream": "stdout",
       "text": [
        "\n",
        "   343  |    0.020177  |    0.018536  |     1.088510  |             |  0.7s"
       ]
      },
      {
       "output_type": "stream",
       "stream": "stdout",
       "text": [
        "\n",
        "   344  |  \u001b[94m  0.020031\u001b[0m  |    0.018566  |     1.078896  |             |  0.7s"
       ]
      },
      {
       "output_type": "stream",
       "stream": "stdout",
       "text": [
        "\n",
        "   345  |    0.020113  |    0.018582  |     1.082403  |             |  0.7s"
       ]
      },
      {
       "output_type": "stream",
       "stream": "stdout",
       "text": [
        "\n",
        "   346  |    0.020085  |    0.018529  |     1.083978  |             |  0.7s"
       ]
      },
      {
       "output_type": "stream",
       "stream": "stdout",
       "text": [
        "\n",
        "   347  |    0.020040  |  \u001b[32m  0.018505\u001b[0m  |     1.082964  |             |  0.7s"
       ]
      },
      {
       "output_type": "stream",
       "stream": "stdout",
       "text": [
        "\n",
        "   348  |    0.020078  |  \u001b[32m  0.018501\u001b[0m  |     1.085203  |             |  0.7s"
       ]
      },
      {
       "output_type": "stream",
       "stream": "stdout",
       "text": [
        "\n",
        "   349  |    0.020039  |  \u001b[32m  0.018449\u001b[0m  |     1.086185  |             |  0.7s"
       ]
      },
      {
       "output_type": "stream",
       "stream": "stdout",
       "text": [
        "\n",
        "   350  |  \u001b[94m  0.020010\u001b[0m  |  \u001b[32m  0.018388\u001b[0m  |     1.088218  |             |  0.7s"
       ]
      },
      {
       "output_type": "stream",
       "stream": "stdout",
       "text": [
        "\n",
        "   351  |    0.020025  |    0.018391  |     1.088860  |             |  0.7s"
       ]
      },
      {
       "output_type": "stream",
       "stream": "stdout",
       "text": [
        "\n",
        "   352  |  \u001b[94m  0.019953\u001b[0m  |    0.018414  |     1.083569  |             |  0.7s"
       ]
      },
      {
       "output_type": "stream",
       "stream": "stdout",
       "text": [
        "\n",
        "   353  |    0.019975  |    0.018411  |     1.084915  |             |  0.7s"
       ]
      },
      {
       "output_type": "stream",
       "stream": "stdout",
       "text": [
        "\n",
        "   354  |  \u001b[94m  0.019942\u001b[0m  |    0.018471  |     1.079608  |             |  0.7s"
       ]
      },
      {
       "output_type": "stream",
       "stream": "stdout",
       "text": [
        "\n",
        "   355  |  \u001b[94m  0.019927\u001b[0m  |  \u001b[32m  0.018384\u001b[0m  |     1.083889  |             |  0.7s"
       ]
      },
      {
       "output_type": "stream",
       "stream": "stdout",
       "text": [
        "\n",
        "   356  |    0.019954  |    0.018422  |     1.083198  |             |  0.7s"
       ]
      },
      {
       "output_type": "stream",
       "stream": "stdout",
       "text": [
        "\n",
        "   357  |  \u001b[94m  0.019926\u001b[0m  |  \u001b[32m  0.018346\u001b[0m  |     1.086108  |             |  0.7s"
       ]
      },
      {
       "output_type": "stream",
       "stream": "stdout",
       "text": [
        "\n",
        "   358  |    0.019956  |  \u001b[32m  0.018329\u001b[0m  |     1.088789  |             |  0.7s"
       ]
      },
      {
       "output_type": "stream",
       "stream": "stdout",
       "text": [
        "\n",
        "   359  |    0.019945  |  \u001b[32m  0.018321\u001b[0m  |     1.088641  |             |  0.7s"
       ]
      },
      {
       "output_type": "stream",
       "stream": "stdout",
       "text": [
        "\n",
        "   360  |  \u001b[94m  0.019869\u001b[0m  |  \u001b[32m  0.018314\u001b[0m  |     1.084914  |             |  0.7s"
       ]
      },
      {
       "output_type": "stream",
       "stream": "stdout",
       "text": [
        "\n",
        "   361  |  \u001b[94m  0.019852\u001b[0m  |    0.018348  |     1.081953  |             |  0.7s"
       ]
      },
      {
       "output_type": "stream",
       "stream": "stdout",
       "text": [
        "\n",
        "   362  |    0.019907  |  \u001b[32m  0.018295\u001b[0m  |     1.088102  |             |  0.7s"
       ]
      },
      {
       "output_type": "stream",
       "stream": "stdout",
       "text": [
        "\n",
        "   363  |    0.019852  |  \u001b[32m  0.018270\u001b[0m  |     1.086624  |             |  0.7s"
       ]
      },
      {
       "output_type": "stream",
       "stream": "stdout",
       "text": [
        "\n",
        "   364  |  \u001b[94m  0.019809\u001b[0m  |  \u001b[32m  0.018267\u001b[0m  |     1.084416  |             |  0.7s"
       ]
      },
      {
       "output_type": "stream",
       "stream": "stdout",
       "text": [
        "\n",
        "   365  |    0.019842  |  \u001b[32m  0.018202\u001b[0m  |     1.090105  |             |  0.7s"
       ]
      },
      {
       "output_type": "stream",
       "stream": "stdout",
       "text": [
        "\n",
        "   366  |  \u001b[94m  0.019778\u001b[0m  |    0.018245  |     1.084032  |             |  0.7s"
       ]
      },
      {
       "output_type": "stream",
       "stream": "stdout",
       "text": [
        "\n",
        "   367  |    0.019834  |    0.018250  |     1.086793  |             |  0.7s"
       ]
      },
      {
       "output_type": "stream",
       "stream": "stdout",
       "text": [
        "\n",
        "   368  |    0.019778  |  \u001b[32m  0.018194\u001b[0m  |     1.087051  |             |  0.7s"
       ]
      },
      {
       "output_type": "stream",
       "stream": "stdout",
       "text": [
        "\n",
        "   369  |  \u001b[94m  0.019733\u001b[0m  |    0.018235  |     1.082154  |             |  0.7s"
       ]
      },
      {
       "output_type": "stream",
       "stream": "stdout",
       "text": [
        "\n",
        "   370  |    0.019738  |  \u001b[32m  0.018181\u001b[0m  |     1.085638  |             |  0.7s"
       ]
      },
      {
       "output_type": "stream",
       "stream": "stdout",
       "text": [
        "\n",
        "   371  |  \u001b[94m  0.019651\u001b[0m  |    0.018200  |     1.079722  |             |  0.7s"
       ]
      },
      {
       "output_type": "stream",
       "stream": "stdout",
       "text": [
        "\n",
        "   372  |    0.019662  |  \u001b[32m  0.018097\u001b[0m  |     1.086466  |             |  0.7s"
       ]
      },
      {
       "output_type": "stream",
       "stream": "stdout",
       "text": [
        "\n",
        "   373  |    0.019754  |    0.018115  |     1.090439  |             |  0.7s"
       ]
      },
      {
       "output_type": "stream",
       "stream": "stdout",
       "text": [
        "\n",
        "   374  |    0.019694  |    0.018140  |     1.085632  |             |  0.7s"
       ]
      },
      {
       "output_type": "stream",
       "stream": "stdout",
       "text": [
        "\n",
        "   375  |    0.019755  |  \u001b[32m  0.018073\u001b[0m  |     1.093061  |             |  0.7s"
       ]
      },
      {
       "output_type": "stream",
       "stream": "stdout",
       "text": [
        "\n",
        "   376  |  \u001b[94m  0.019644\u001b[0m  |  \u001b[32m  0.018069\u001b[0m  |     1.087156  |             |  0.7s"
       ]
      },
      {
       "output_type": "stream",
       "stream": "stdout",
       "text": [
        "\n",
        "   377  |  \u001b[94m  0.019638\u001b[0m  |    0.018071  |     1.086726  |             |  0.7s"
       ]
      },
      {
       "output_type": "stream",
       "stream": "stdout",
       "text": [
        "\n",
        "   378  |  \u001b[94m  0.019634\u001b[0m  |  \u001b[32m  0.018020\u001b[0m  |     1.089565  |             |  0.7s"
       ]
      },
      {
       "output_type": "stream",
       "stream": "stdout",
       "text": [
        "\n",
        "   379  |  \u001b[94m  0.019624\u001b[0m  |    0.018075  |     1.085742  |             |  0.7s"
       ]
      },
      {
       "output_type": "stream",
       "stream": "stdout",
       "text": [
        "\n",
        "   380  |  \u001b[94m  0.019620\u001b[0m  |    0.018071  |     1.085676  |             |  0.7s"
       ]
      },
      {
       "output_type": "stream",
       "stream": "stdout",
       "text": [
        "\n",
        "   381  |  \u001b[94m  0.019573\u001b[0m  |    0.018139  |     1.079046  |             |  0.7s"
       ]
      },
      {
       "output_type": "stream",
       "stream": "stdout",
       "text": [
        "\n",
        "   382  |    0.019621  |  \u001b[32m  0.018017\u001b[0m  |     1.089023  |             |  0.7s"
       ]
      },
      {
       "output_type": "stream",
       "stream": "stdout",
       "text": [
        "\n",
        "   383  |    0.019597  |  \u001b[32m  0.018008\u001b[0m  |     1.088230  |             |  0.7s"
       ]
      },
      {
       "output_type": "stream",
       "stream": "stdout",
       "text": [
        "\n",
        "   384  |    0.019615  |    0.018024  |     1.088294  |             |  0.7s"
       ]
      },
      {
       "output_type": "stream",
       "stream": "stdout",
       "text": [
        "\n",
        "   385  |  \u001b[94m  0.019555\u001b[0m  |  \u001b[32m  0.017929\u001b[0m  |     1.090715  |             |  0.7s"
       ]
      },
      {
       "output_type": "stream",
       "stream": "stdout",
       "text": [
        "\n",
        "   386  |  \u001b[94m  0.019518\u001b[0m  |    0.017999  |     1.084397  |             |  0.7s"
       ]
      },
      {
       "output_type": "stream",
       "stream": "stdout",
       "text": [
        "\n",
        "   387  |  \u001b[94m  0.019472\u001b[0m  |    0.017942  |     1.085240  |             |  0.7s"
       ]
      },
      {
       "output_type": "stream",
       "stream": "stdout",
       "text": [
        "\n",
        "   388  |    0.019494  |    0.017934  |     1.086976  |             |  0.7s"
       ]
      },
      {
       "output_type": "stream",
       "stream": "stdout",
       "text": [
        "\n",
        "   389  |    0.019507  |  \u001b[32m  0.017918\u001b[0m  |     1.088696  |             |  0.7s"
       ]
      },
      {
       "output_type": "stream",
       "stream": "stdout",
       "text": [
        "\n",
        "   390  |  \u001b[94m  0.019451\u001b[0m  |    0.017920  |     1.085382  |             |  0.7s"
       ]
      },
      {
       "output_type": "stream",
       "stream": "stdout",
       "text": [
        "\n",
        "   391  |  \u001b[94m  0.019449\u001b[0m  |    0.017981  |     1.081589  |             |  0.7s"
       ]
      },
      {
       "output_type": "stream",
       "stream": "stdout",
       "text": [
        "\n",
        "   392  |  \u001b[94m  0.019438\u001b[0m  |    0.017991  |     1.080441  |             |  0.7s"
       ]
      },
      {
       "output_type": "stream",
       "stream": "stdout",
       "text": [
        "\n",
        "   393  |    0.019474  |  \u001b[32m  0.017872\u001b[0m  |     1.089627  |             |  0.7s"
       ]
      },
      {
       "output_type": "stream",
       "stream": "stdout",
       "text": [
        "\n",
        "   394  |  \u001b[94m  0.019371\u001b[0m  |    0.017941  |     1.079747  |             |  0.7s"
       ]
      },
      {
       "output_type": "stream",
       "stream": "stdout",
       "text": [
        "\n",
        "   395  |    0.019428  |    0.017930  |     1.083538  |             |  0.7s"
       ]
      },
      {
       "output_type": "stream",
       "stream": "stdout",
       "text": [
        "\n",
        "   396  |  \u001b[94m  0.019308\u001b[0m  |    0.017939  |     1.076309  |             |  0.7s"
       ]
      },
      {
       "output_type": "stream",
       "stream": "stdout",
       "text": [
        "\n",
        "   397  |    0.019406  |  \u001b[32m  0.017812\u001b[0m  |     1.089534  |             |  0.7s"
       ]
      },
      {
       "output_type": "stream",
       "stream": "stdout",
       "text": [
        "\n",
        "   398  |    0.019406  |    0.017819  |     1.089066  |             |  0.7s"
       ]
      },
      {
       "output_type": "stream",
       "stream": "stdout",
       "text": [
        "\n",
        "   399  |    0.019361  |    0.017885  |     1.082500  |             |  0.7s"
       ]
      },
      {
       "output_type": "stream",
       "stream": "stdout",
       "text": [
        "\n",
        "   400  |    0.019386  |    0.017895  |     1.083335  |             |  0.7s"
       ]
      },
      {
       "output_type": "stream",
       "stream": "stdout",
       "text": [
        "\n",
        "   401  |    0.019316  |  \u001b[32m  0.017797\u001b[0m  |     1.085336  |             |  0.7s"
       ]
      },
      {
       "output_type": "stream",
       "stream": "stdout",
       "text": [
        "\n",
        "   402  |  \u001b[94m  0.019296\u001b[0m  |  \u001b[32m  0.017787\u001b[0m  |     1.084810  |             |  0.7s"
       ]
      },
      {
       "output_type": "stream",
       "stream": "stdout",
       "text": [
        "\n",
        "   403  |    0.019310  |  \u001b[32m  0.017753\u001b[0m  |     1.087669  |             |  0.7s"
       ]
      },
      {
       "output_type": "stream",
       "stream": "stdout",
       "text": [
        "\n",
        "   404  |    0.019348  |    0.017757  |     1.089615  |             |  0.7s"
       ]
      },
      {
       "output_type": "stream",
       "stream": "stdout",
       "text": [
        "\n",
        "   405  |  \u001b[94m  0.019283\u001b[0m  |    0.017832  |     1.081401  |             |  0.7s"
       ]
      },
      {
       "output_type": "stream",
       "stream": "stdout",
       "text": [
        "\n",
        "   406  |    0.019292  |    0.017810  |     1.083169  |             |  0.7s"
       ]
      },
      {
       "output_type": "stream",
       "stream": "stdout",
       "text": [
        "\n",
        "   407  |    0.019329  |  \u001b[32m  0.017736\u001b[0m  |     1.089827  |             |  0.7s"
       ]
      },
      {
       "output_type": "stream",
       "stream": "stdout",
       "text": [
        "\n",
        "   408  |  \u001b[94m  0.019263\u001b[0m  |  \u001b[32m  0.017716\u001b[0m  |     1.087301  |             |  0.7s"
       ]
      },
      {
       "output_type": "stream",
       "stream": "stdout",
       "text": [
        "\n",
        "   409  |  \u001b[94m  0.019203\u001b[0m  |    0.017759  |     1.081295  |             |  0.7s"
       ]
      },
      {
       "output_type": "stream",
       "stream": "stdout",
       "text": [
        "\n",
        "   410  |  \u001b[94m  0.019182\u001b[0m  |    0.017763  |     1.079909  |             |  0.7s"
       ]
      },
      {
       "output_type": "stream",
       "stream": "stdout",
       "text": [
        "\n",
        "   411  |    0.019207  |  \u001b[32m  0.017716\u001b[0m  |     1.084151  |             |  0.7s"
       ]
      },
      {
       "output_type": "stream",
       "stream": "stdout",
       "text": [
        "\n",
        "   412  |    0.019221  |    0.017791  |     1.080391  |             |  0.7s"
       ]
      },
      {
       "output_type": "stream",
       "stream": "stdout",
       "text": [
        "\n",
        "   413  |    0.019218  |  \u001b[32m  0.017647\u001b[0m  |     1.089047  |             |  0.7s"
       ]
      },
      {
       "output_type": "stream",
       "stream": "stdout",
       "text": [
        "\n",
        "   414  |    0.019246  |    0.017686  |     1.088164  |             |  0.7s"
       ]
      },
      {
       "output_type": "stream",
       "stream": "stdout",
       "text": [
        "\n",
        "   415  |    0.019196  |    0.017661  |     1.086861  |             |  0.7s"
       ]
      },
      {
       "output_type": "stream",
       "stream": "stdout",
       "text": [
        "\n",
        "   416  |    0.019205  |    0.017676  |     1.086487  |             |  0.7s"
       ]
      },
      {
       "output_type": "stream",
       "stream": "stdout",
       "text": [
        "\n",
        "   417  |    0.019204  |    0.017649  |     1.088100  |             |  0.7s"
       ]
      },
      {
       "output_type": "stream",
       "stream": "stdout",
       "text": [
        "\n",
        "   418  |  \u001b[94m  0.019177\u001b[0m  |    0.017710  |     1.082824  |             |  0.7s"
       ]
      },
      {
       "output_type": "stream",
       "stream": "stdout",
       "text": [
        "\n",
        "   419  |  \u001b[94m  0.019123\u001b[0m  |  \u001b[32m  0.017582\u001b[0m  |     1.087610  |             |  0.7s"
       ]
      },
      {
       "output_type": "stream",
       "stream": "stdout",
       "text": [
        "\n",
        "   420  |    0.019153  |    0.017675  |     1.083652  |             |  0.7s"
       ]
      },
      {
       "output_type": "stream",
       "stream": "stdout",
       "text": [
        "\n",
        "   421  |  \u001b[94m  0.019034\u001b[0m  |    0.017620  |     1.080265  |             |  0.7s"
       ]
      },
      {
       "output_type": "stream",
       "stream": "stdout",
       "text": [
        "\n",
        "   422  |    0.019107  |    0.017622  |     1.084256  |             |  0.7s"
       ]
      },
      {
       "output_type": "stream",
       "stream": "stdout",
       "text": [
        "\n",
        "   423  |    0.019067  |    0.017631  |     1.081474  |             |  0.7s"
       ]
      },
      {
       "output_type": "stream",
       "stream": "stdout",
       "text": [
        "\n",
        "   424  |    0.019075  |  \u001b[32m  0.017551\u001b[0m  |     1.086857  |             |  0.7s"
       ]
      },
      {
       "output_type": "stream",
       "stream": "stdout",
       "text": [
        "\n",
        "   425  |    0.019102  |  \u001b[32m  0.017515\u001b[0m  |     1.090623  |             |  0.7s"
       ]
      },
      {
       "output_type": "stream",
       "stream": "stdout",
       "text": [
        "\n",
        "   426  |  \u001b[94m  0.018966\u001b[0m  |  \u001b[32m  0.017512\u001b[0m  |     1.083025  |             |  0.7s"
       ]
      },
      {
       "output_type": "stream",
       "stream": "stdout",
       "text": [
        "\n",
        "   427  |    0.018998  |    0.017588  |     1.080190  |             |  0.7s"
       ]
      },
      {
       "output_type": "stream",
       "stream": "stdout",
       "text": [
        "\n",
        "   428  |    0.018995  |  \u001b[32m  0.017487\u001b[0m  |     1.086221  |             |  0.7s"
       ]
      },
      {
       "output_type": "stream",
       "stream": "stdout",
       "text": [
        "\n",
        "   429  |    0.019023  |    0.017534  |     1.084900  |             |  0.7s"
       ]
      },
      {
       "output_type": "stream",
       "stream": "stdout",
       "text": [
        "\n",
        "   430  |    0.019065  |    0.017498  |     1.089578  |             |  0.7s"
       ]
      },
      {
       "output_type": "stream",
       "stream": "stdout",
       "text": [
        "\n",
        "   431  |    0.019006  |    0.017537  |     1.083774  |             |  0.7s"
       ]
      },
      {
       "output_type": "stream",
       "stream": "stdout",
       "text": [
        "\n",
        "   432  |    0.018981  |  \u001b[32m  0.017359\u001b[0m  |     1.093398  |             |  0.7s"
       ]
      },
      {
       "output_type": "stream",
       "stream": "stdout",
       "text": [
        "\n",
        "   433  |  \u001b[94m  0.018936\u001b[0m  |    0.017496  |     1.082352  |             |  0.7s"
       ]
      },
      {
       "output_type": "stream",
       "stream": "stdout",
       "text": [
        "\n",
        "   434  |    0.019003  |    0.017561  |     1.082092  |             |  0.7s"
       ]
      },
      {
       "output_type": "stream",
       "stream": "stdout",
       "text": [
        "\n",
        "   435  |    0.018966  |    0.017427  |     1.088302  |             |  0.7s"
       ]
      },
      {
       "output_type": "stream",
       "stream": "stdout",
       "text": [
        "\n",
        "   436  |  \u001b[94m  0.018924\u001b[0m  |    0.017488  |     1.082121  |             |  0.7s"
       ]
      },
      {
       "output_type": "stream",
       "stream": "stdout",
       "text": [
        "\n",
        "   437  |    0.018975  |    0.017585  |     1.079064  |             |  0.7s"
       ]
      },
      {
       "output_type": "stream",
       "stream": "stdout",
       "text": [
        "\n",
        "   438  |    0.019056  |    0.017426  |     1.093528  |             |  0.7s"
       ]
      },
      {
       "output_type": "stream",
       "stream": "stdout",
       "text": [
        "\n",
        "   439  |    0.019002  |    0.017402  |     1.091961  |             |  0.7s"
       ]
      },
      {
       "output_type": "stream",
       "stream": "stdout",
       "text": [
        "\n",
        "   440  |  \u001b[94m  0.018885\u001b[0m  |    0.017452  |     1.082069  |             |  0.7s"
       ]
      },
      {
       "output_type": "stream",
       "stream": "stdout",
       "text": [
        "\n",
        "   441  |    0.018956  |    0.017390  |     1.090045  |             |  0.7s"
       ]
      },
      {
       "output_type": "stream",
       "stream": "stdout",
       "text": [
        "\n",
        "   442  |    0.018897  |    0.017539  |     1.077399  |             |  0.7s"
       ]
      },
      {
       "output_type": "stream",
       "stream": "stdout",
       "text": [
        "\n",
        "   443  |    0.018903  |    0.017426  |     1.084721  |             |  0.7s"
       ]
      },
      {
       "output_type": "stream",
       "stream": "stdout",
       "text": [
        "\n",
        "   444  |    0.018936  |    0.017368  |     1.090298  |             |  0.7s"
       ]
      },
      {
       "output_type": "stream",
       "stream": "stdout",
       "text": [
        "\n",
        "   445  |  \u001b[94m  0.018831\u001b[0m  |    0.017507  |     1.075618  |             |  0.7s"
       ]
      },
      {
       "output_type": "stream",
       "stream": "stdout",
       "text": [
        "\n",
        "   446  |  \u001b[94m  0.018770\u001b[0m  |  \u001b[32m  0.017275\u001b[0m  |     1.086542  |             |  0.7s"
       ]
      },
      {
       "output_type": "stream",
       "stream": "stdout",
       "text": [
        "\n",
        "   447  |    0.018865  |    0.017482  |     1.079083  |             |  0.7s"
       ]
      },
      {
       "output_type": "stream",
       "stream": "stdout",
       "text": [
        "\n",
        "   448  |    0.018912  |    0.017408  |     1.086388  |             |  0.7s"
       ]
      },
      {
       "output_type": "stream",
       "stream": "stdout",
       "text": [
        "\n",
        "   449  |    0.018829  |    0.017367  |     1.084190  |             |  0.7s"
       ]
      },
      {
       "output_type": "stream",
       "stream": "stdout",
       "text": [
        "\n",
        "   450  |    0.018808  |    0.017379  |     1.082265  |             |  0.7s"
       ]
      },
      {
       "output_type": "stream",
       "stream": "stdout",
       "text": [
        "\n",
        "   451  |    0.018834  |    0.017284  |     1.089721  |             |  0.7s"
       ]
      },
      {
       "output_type": "stream",
       "stream": "stdout",
       "text": [
        "\n",
        "   452  |    0.018796  |    0.017280  |     1.087745  |             |  0.7s"
       ]
      },
      {
       "output_type": "stream",
       "stream": "stdout",
       "text": [
        "\n",
        "   453  |  \u001b[94m  0.018758\u001b[0m  |    0.017320  |     1.083020  |             |  0.7s"
       ]
      },
      {
       "output_type": "stream",
       "stream": "stdout",
       "text": [
        "\n",
        "   454  |  \u001b[94m  0.018729\u001b[0m  |  \u001b[32m  0.017262\u001b[0m  |     1.085008  |             |  0.7s"
       ]
      },
      {
       "output_type": "stream",
       "stream": "stdout",
       "text": [
        "\n",
        "   455  |    0.018784  |    0.017360  |     1.082003  |             |  0.7s"
       ]
      },
      {
       "output_type": "stream",
       "stream": "stdout",
       "text": [
        "\n",
        "   456  |  \u001b[94m  0.018714\u001b[0m  |  \u001b[32m  0.017219\u001b[0m  |     1.086843  |             |  0.7s"
       ]
      },
      {
       "output_type": "stream",
       "stream": "stdout",
       "text": [
        "\n",
        "   457  |  \u001b[94m  0.018673\u001b[0m  |    0.017226  |     1.083989  |             |  0.7s"
       ]
      },
      {
       "output_type": "stream",
       "stream": "stdout",
       "text": [
        "\n",
        "   458  |    0.018832  |    0.017302  |     1.088399  |             |  0.7s"
       ]
      },
      {
       "output_type": "stream",
       "stream": "stdout",
       "text": [
        "\n",
        "   459  |    0.018727  |    0.017255  |     1.085319  |             |  0.7s"
       ]
      },
      {
       "output_type": "stream",
       "stream": "stdout",
       "text": [
        "\n",
        "   460  |    0.018776  |  \u001b[32m  0.017163\u001b[0m  |     1.093927  |             |  0.7s"
       ]
      },
      {
       "output_type": "stream",
       "stream": "stdout",
       "text": [
        "\n",
        "   461  |  \u001b[94m  0.018672\u001b[0m  |    0.017197  |     1.085754  |             |  0.7s"
       ]
      },
      {
       "output_type": "stream",
       "stream": "stdout",
       "text": [
        "\n",
        "   462  |    0.018727  |    0.017197  |     1.089013  |             |  0.7s"
       ]
      },
      {
       "output_type": "stream",
       "stream": "stdout",
       "text": [
        "\n",
        "   463  |    0.018737  |    0.017165  |     1.091597  |             |  0.7s"
       ]
      },
      {
       "output_type": "stream",
       "stream": "stdout",
       "text": [
        "\n",
        "   464  |    0.018770  |    0.017258  |     1.087625  |             |  0.7s"
       ]
      },
      {
       "output_type": "stream",
       "stream": "stdout",
       "text": [
        "\n",
        "   465  |    0.018701  |    0.017206  |     1.086879  |             |  0.7s"
       ]
      },
      {
       "output_type": "stream",
       "stream": "stdout",
       "text": [
        "\n",
        "   466  |  \u001b[94m  0.018622\u001b[0m  |    0.017170  |     1.084585  |             |  0.7s"
       ]
      },
      {
       "output_type": "stream",
       "stream": "stdout",
       "text": [
        "\n",
        "   467  |    0.018689  |    0.017176  |     1.088065  |             |  0.7s"
       ]
      },
      {
       "output_type": "stream",
       "stream": "stdout",
       "text": [
        "\n",
        "   468  |    0.018636  |  \u001b[32m  0.017114\u001b[0m  |     1.088898  |             |  0.7s"
       ]
      },
      {
       "output_type": "stream",
       "stream": "stdout",
       "text": [
        "\n",
        "   469  |  \u001b[94m  0.018604\u001b[0m  |    0.017123  |     1.086444  |             |  0.7s"
       ]
      },
      {
       "output_type": "stream",
       "stream": "stdout",
       "text": [
        "\n",
        "   470  |    0.018689  |    0.017154  |     1.089508  |             |  0.7s"
       ]
      },
      {
       "output_type": "stream",
       "stream": "stdout",
       "text": [
        "\n",
        "   471  |    0.018612  |    0.017201  |     1.081998  |             |  0.7s"
       ]
      },
      {
       "output_type": "stream",
       "stream": "stdout",
       "text": [
        "\n",
        "   472  |  \u001b[94m  0.018592\u001b[0m  |  \u001b[32m  0.017099\u001b[0m  |     1.087327  |             |  0.7s"
       ]
      },
      {
       "output_type": "stream",
       "stream": "stdout",
       "text": [
        "\n",
        "   473  |  \u001b[94m  0.018538\u001b[0m  |  \u001b[32m  0.017072\u001b[0m  |     1.085887  |             |  0.7s"
       ]
      },
      {
       "output_type": "stream",
       "stream": "stdout",
       "text": [
        "\n",
        "   474  |  \u001b[94m  0.018518\u001b[0m  |    0.017117  |     1.081828  |             |  0.7s"
       ]
      },
      {
       "output_type": "stream",
       "stream": "stdout",
       "text": [
        "\n",
        "   475  |    0.018532  |  \u001b[32m  0.017071\u001b[0m  |     1.085597  |             |  0.7s"
       ]
      },
      {
       "output_type": "stream",
       "stream": "stdout",
       "text": [
        "\n",
        "   476  |    0.018552  |    0.017135  |     1.082720  |             |  0.7s"
       ]
      },
      {
       "output_type": "stream",
       "stream": "stdout",
       "text": [
        "\n",
        "   477  |    0.018585  |  \u001b[32m  0.017041\u001b[0m  |     1.090606  |             |  0.7s"
       ]
      },
      {
       "output_type": "stream",
       "stream": "stdout",
       "text": [
        "\n",
        "   478  |  \u001b[94m  0.018497\u001b[0m  |    0.017153  |     1.078317  |             |  0.7s"
       ]
      },
      {
       "output_type": "stream",
       "stream": "stdout",
       "text": [
        "\n",
        "   479  |    0.018541  |    0.017152  |     1.080993  |             |  0.7s"
       ]
      },
      {
       "output_type": "stream",
       "stream": "stdout",
       "text": [
        "\n",
        "   480  |    0.018555  |    0.017042  |     1.088803  |             |  0.7s"
       ]
      },
      {
       "output_type": "stream",
       "stream": "stdout",
       "text": [
        "\n",
        "   481  |    0.018504  |  \u001b[32m  0.016967\u001b[0m  |     1.090585  |             |  0.7s"
       ]
      },
      {
       "output_type": "stream",
       "stream": "stdout",
       "text": [
        "\n",
        "   482  |    0.018513  |    0.016983  |     1.090079  |             |  0.7s"
       ]
      },
      {
       "output_type": "stream",
       "stream": "stdout",
       "text": [
        "\n",
        "   483  |  \u001b[94m  0.018475\u001b[0m  |  \u001b[32m  0.016949\u001b[0m  |     1.090029  |             |  0.7s"
       ]
      },
      {
       "output_type": "stream",
       "stream": "stdout",
       "text": [
        "\n",
        "   484  |    0.018516  |    0.017015  |     1.088221  |             |  0.7s"
       ]
      },
      {
       "output_type": "stream",
       "stream": "stdout",
       "text": [
        "\n",
        "   485  |    0.018561  |    0.017050  |     1.088621  |             |  0.7s"
       ]
      },
      {
       "output_type": "stream",
       "stream": "stdout",
       "text": [
        "\n",
        "   486  |  \u001b[94m  0.018433\u001b[0m  |    0.016988  |     1.085049  |             |  0.7s"
       ]
      },
      {
       "output_type": "stream",
       "stream": "stdout",
       "text": [
        "\n",
        "   487  |  \u001b[94m  0.018432\u001b[0m  |    0.017014  |     1.083333  |             |  0.7s"
       ]
      },
      {
       "output_type": "stream",
       "stream": "stdout",
       "text": [
        "\n",
        "   488  |  \u001b[94m  0.018422\u001b[0m  |    0.016977  |     1.085135  |             |  0.7s"
       ]
      },
      {
       "output_type": "stream",
       "stream": "stdout",
       "text": [
        "\n",
        "   489  |    0.018463  |    0.016967  |     1.088196  |             |  0.7s"
       ]
      },
      {
       "output_type": "stream",
       "stream": "stdout",
       "text": [
        "\n",
        "   490  |    0.018438  |    0.016960  |     1.087146  |             |  0.7s"
       ]
      },
      {
       "output_type": "stream",
       "stream": "stdout",
       "text": [
        "\n",
        "   491  |    0.018474  |    0.016995  |     1.087038  |             |  0.7s"
       ]
      },
      {
       "output_type": "stream",
       "stream": "stdout",
       "text": [
        "\n",
        "   492  |  \u001b[94m  0.018363\u001b[0m  |    0.017024  |     1.078642  |             |  0.7s"
       ]
      },
      {
       "output_type": "stream",
       "stream": "stdout",
       "text": [
        "\n",
        "   493  |    0.018411  |    0.016992  |     1.083551  |             |  0.7s"
       ]
      },
      {
       "output_type": "stream",
       "stream": "stdout",
       "text": [
        "\n",
        "   494  |    0.018387  |    0.016967  |     1.083684  |             |  0.7s"
       ]
      },
      {
       "output_type": "stream",
       "stream": "stdout",
       "text": [
        "\n",
        "   495  |    0.018375  |  \u001b[32m  0.016900\u001b[0m  |     1.087275  |             |  0.7s"
       ]
      },
      {
       "output_type": "stream",
       "stream": "stdout",
       "text": [
        "\n",
        "   496  |  \u001b[94m  0.018338\u001b[0m  |    0.016908  |     1.084582  |             |  0.7s"
       ]
      },
      {
       "output_type": "stream",
       "stream": "stdout",
       "text": [
        "\n",
        "   497  |    0.018465  |    0.016923  |     1.091162  |             |  0.7s"
       ]
      },
      {
       "output_type": "stream",
       "stream": "stdout",
       "text": [
        "\n",
        "   498  |  \u001b[94m  0.018285\u001b[0m  |  \u001b[32m  0.016874\u001b[0m  |     1.083643  |             |  0.7s"
       ]
      },
      {
       "output_type": "stream",
       "stream": "stdout",
       "text": [
        "\n",
        "   499  |    0.018398  |    0.016959  |     1.084841  |             |  0.7s"
       ]
      },
      {
       "output_type": "stream",
       "stream": "stdout",
       "text": [
        "\n",
        "   500  |    0.018442  |    0.016912  |     1.090429  |             |  0.7s"
       ]
      },
      {
       "output_type": "stream",
       "stream": "stdout",
       "text": [
        "\n",
        "   501  |    0.018428  |  \u001b[32m  0.016870\u001b[0m  |     1.092328  |             |  0.7s"
       ]
      },
      {
       "output_type": "stream",
       "stream": "stdout",
       "text": [
        "\n",
        "   502  |  \u001b[94m  0.018279\u001b[0m  |  \u001b[32m  0.016829\u001b[0m  |     1.086114  |             |  0.7s"
       ]
      },
      {
       "output_type": "stream",
       "stream": "stdout",
       "text": [
        "\n",
        "   503  |    0.018359  |    0.016903  |     1.086132  |             |  0.7s"
       ]
      },
      {
       "output_type": "stream",
       "stream": "stdout",
       "text": [
        "\n",
        "   504  |    0.018371  |    0.016926  |     1.085390  |             |  0.7s"
       ]
      },
      {
       "output_type": "stream",
       "stream": "stdout",
       "text": [
        "\n",
        "   505  |    0.018345  |    0.016853  |     1.088526  |             |  0.7s"
       ]
      },
      {
       "output_type": "stream",
       "stream": "stdout",
       "text": [
        "\n",
        "   506  |  \u001b[94m  0.018247\u001b[0m  |  \u001b[32m  0.016810\u001b[0m  |     1.085534  |             |  0.7s"
       ]
      },
      {
       "output_type": "stream",
       "stream": "stdout",
       "text": [
        "\n",
        "   507  |  \u001b[94m  0.018235\u001b[0m  |    0.016829  |     1.083533  |             |  0.7s"
       ]
      },
      {
       "output_type": "stream",
       "stream": "stdout",
       "text": [
        "\n",
        "   508  |  \u001b[94m  0.018207\u001b[0m  |    0.016817  |     1.082660  |             |  0.7s"
       ]
      },
      {
       "output_type": "stream",
       "stream": "stdout",
       "text": [
        "\n",
        "   509  |    0.018240  |    0.016843  |     1.082908  |             |  0.7s"
       ]
      },
      {
       "output_type": "stream",
       "stream": "stdout",
       "text": [
        "\n",
        "   510  |    0.018316  |  \u001b[32m  0.016782\u001b[0m  |     1.091385  |             |  0.7s"
       ]
      },
      {
       "output_type": "stream",
       "stream": "stdout",
       "text": [
        "\n",
        "   511  |    0.018219  |    0.016804  |     1.084249  |             |  0.7s"
       ]
      },
      {
       "output_type": "stream",
       "stream": "stdout",
       "text": [
        "\n",
        "   512  |    0.018270  |    0.016922  |     1.079621  |             |  0.7s"
       ]
      },
      {
       "output_type": "stream",
       "stream": "stdout",
       "text": [
        "\n",
        "   513  |  \u001b[94m  0.018169\u001b[0m  |    0.016782  |     1.082646  |             |  0.7s"
       ]
      },
      {
       "output_type": "stream",
       "stream": "stdout",
       "text": [
        "\n",
        "   514  |  \u001b[94m  0.018147\u001b[0m  |  \u001b[32m  0.016770\u001b[0m  |     1.082139  |             |  0.7s"
       ]
      },
      {
       "output_type": "stream",
       "stream": "stdout",
       "text": [
        "\n",
        "   515  |  \u001b[94m  0.018139\u001b[0m  |    0.016782  |     1.080849  |             |  0.7s"
       ]
      },
      {
       "output_type": "stream",
       "stream": "stdout",
       "text": [
        "\n",
        "   516  |    0.018197  |  \u001b[32m  0.016764\u001b[0m  |     1.085527  |             |  0.7s"
       ]
      },
      {
       "output_type": "stream",
       "stream": "stdout",
       "text": [
        "\n",
        "   517  |  \u001b[94m  0.018122\u001b[0m  |  \u001b[32m  0.016714\u001b[0m  |     1.084231  |             |  0.7s"
       ]
      },
      {
       "output_type": "stream",
       "stream": "stdout",
       "text": [
        "\n",
        "   518  |    0.018232  |    0.016721  |     1.090376  |             |  0.7s"
       ]
      },
      {
       "output_type": "stream",
       "stream": "stdout",
       "text": [
        "\n",
        "   519  |    0.018163  |    0.016738  |     1.085176  |             |  0.7s"
       ]
      },
      {
       "output_type": "stream",
       "stream": "stdout",
       "text": [
        "\n",
        "   520  |    0.018228  |  \u001b[32m  0.016686\u001b[0m  |     1.092424  |             |  0.7s"
       ]
      },
      {
       "output_type": "stream",
       "stream": "stdout",
       "text": [
        "\n",
        "   521  |    0.018186  |    0.016766  |     1.084707  |             |  0.7s"
       ]
      },
      {
       "output_type": "stream",
       "stream": "stdout",
       "text": [
        "\n",
        "   522  |    0.018168  |  \u001b[32m  0.016647\u001b[0m  |     1.091327  |             |  0.7s"
       ]
      },
      {
       "output_type": "stream",
       "stream": "stdout",
       "text": [
        "\n",
        "   523  |    0.018162  |    0.016685  |     1.088497  |             |  0.7s"
       ]
      },
      {
       "output_type": "stream",
       "stream": "stdout",
       "text": [
        "\n",
        "   524  |  \u001b[94m  0.018098\u001b[0m  |    0.016681  |     1.084918  |             |  0.7s"
       ]
      },
      {
       "output_type": "stream",
       "stream": "stdout",
       "text": [
        "\n",
        "   525  |    0.018184  |    0.016709  |     1.088324  |             |  0.7s"
       ]
      },
      {
       "output_type": "stream",
       "stream": "stdout",
       "text": [
        "\n",
        "   526  |    0.018225  |    0.016728  |     1.089469  |             |  0.7s"
       ]
      },
      {
       "output_type": "stream",
       "stream": "stdout",
       "text": [
        "\n",
        "   527  |  \u001b[94m  0.018055\u001b[0m  |    0.016689  |     1.081858  |             |  0.7s"
       ]
      },
      {
       "output_type": "stream",
       "stream": "stdout",
       "text": [
        "\n",
        "   528  |    0.018141  |  \u001b[32m  0.016598\u001b[0m  |     1.092929  |             |  0.7s"
       ]
      },
      {
       "output_type": "stream",
       "stream": "stdout",
       "text": [
        "\n",
        "   529  |    0.018064  |  \u001b[32m  0.016596\u001b[0m  |     1.088462  |             |  0.7s"
       ]
      },
      {
       "output_type": "stream",
       "stream": "stdout",
       "text": [
        "\n",
        "   530  |    0.018116  |    0.016735  |     1.082492  |             |  0.7s"
       ]
      },
      {
       "output_type": "stream",
       "stream": "stdout",
       "text": [
        "\n",
        "   531  |    0.018064  |    0.016690  |     1.082346  |             |  0.7s"
       ]
      },
      {
       "output_type": "stream",
       "stream": "stdout",
       "text": [
        "\n",
        "   532  |  \u001b[94m  0.017944\u001b[0m  |    0.016664  |     1.076811  |             |  0.7s"
       ]
      },
      {
       "output_type": "stream",
       "stream": "stdout",
       "text": [
        "\n",
        "   533  |    0.018031  |    0.016653  |     1.082742  |             |  0.7s"
       ]
      },
      {
       "output_type": "stream",
       "stream": "stdout",
       "text": [
        "\n",
        "   534  |    0.018054  |  \u001b[32m  0.016568\u001b[0m  |     1.089702  |             |  0.7s"
       ]
      },
      {
       "output_type": "stream",
       "stream": "stdout",
       "text": [
        "\n",
        "   535  |    0.018074  |    0.016577  |     1.090328  |             |  0.7s"
       ]
      },
      {
       "output_type": "stream",
       "stream": "stdout",
       "text": [
        "\n",
        "   536  |    0.018033  |  \u001b[32m  0.016532\u001b[0m  |     1.090791  |             |  0.7s"
       ]
      },
      {
       "output_type": "stream",
       "stream": "stdout",
       "text": [
        "\n",
        "   537  |    0.017961  |    0.016567  |     1.084164  |             |  0.7s"
       ]
      },
      {
       "output_type": "stream",
       "stream": "stdout",
       "text": [
        "\n",
        "   538  |    0.018055  |    0.016573  |     1.089442  |             |  0.7s"
       ]
      },
      {
       "output_type": "stream",
       "stream": "stdout",
       "text": [
        "\n",
        "   539  |  \u001b[94m  0.017931\u001b[0m  |    0.016684  |     1.074702  |             |  0.7s"
       ]
      },
      {
       "output_type": "stream",
       "stream": "stdout",
       "text": [
        "\n",
        "   540  |    0.017973  |    0.016593  |     1.083146  |             |  0.7s"
       ]
      },
      {
       "output_type": "stream",
       "stream": "stdout",
       "text": [
        "\n",
        "   541  |    0.017947  |    0.016699  |     1.074761  |             |  0.7s"
       ]
      },
      {
       "output_type": "stream",
       "stream": "stdout",
       "text": [
        "\n",
        "   542  |    0.018008  |    0.016547  |     1.088330  |             |  0.7s"
       ]
      },
      {
       "output_type": "stream",
       "stream": "stdout",
       "text": [
        "\n",
        "   543  |    0.018009  |    0.016538  |     1.088957  |             |  0.7s"
       ]
      },
      {
       "output_type": "stream",
       "stream": "stdout",
       "text": [
        "\n",
        "   544  |  \u001b[94m  0.017861\u001b[0m  |    0.016534  |     1.080293  |             |  0.7s"
       ]
      },
      {
       "output_type": "stream",
       "stream": "stdout",
       "text": [
        "\n",
        "   545  |    0.017983  |    0.016557  |     1.086115  |             |  0.7s"
       ]
      },
      {
       "output_type": "stream",
       "stream": "stdout",
       "text": [
        "\n",
        "   546  |    0.017934  |  \u001b[32m  0.016450\u001b[0m  |     1.090224  |             |  0.7s"
       ]
      },
      {
       "output_type": "stream",
       "stream": "stdout",
       "text": [
        "\n",
        "   547  |  \u001b[94m  0.017819\u001b[0m  |    0.016661  |     1.069497  |             |  0.7s"
       ]
      },
      {
       "output_type": "stream",
       "stream": "stdout",
       "text": [
        "\n",
        "   548  |    0.017900  |    0.016463  |     1.087313  |             |  0.7s"
       ]
      },
      {
       "output_type": "stream",
       "stream": "stdout",
       "text": [
        "\n",
        "   549  |  \u001b[94m  0.017758\u001b[0m  |    0.016464  |     1.078636  |             |  0.7s"
       ]
      },
      {
       "output_type": "stream",
       "stream": "stdout",
       "text": [
        "\n",
        "   550  |    0.017951  |    0.016523  |     1.086419  |             |  0.7s"
       ]
      },
      {
       "output_type": "stream",
       "stream": "stdout",
       "text": [
        "\n",
        "   551  |    0.017933  |    0.016492  |     1.087433  |             |  0.7s"
       ]
      },
      {
       "output_type": "stream",
       "stream": "stdout",
       "text": [
        "\n",
        "   552  |    0.017957  |    0.016548  |     1.085158  |             |  0.7s"
       ]
      },
      {
       "output_type": "stream",
       "stream": "stdout",
       "text": [
        "\n",
        "   553  |    0.017814  |  \u001b[32m  0.016429\u001b[0m  |     1.084280  |             |  0.7s"
       ]
      },
      {
       "output_type": "stream",
       "stream": "stdout",
       "text": [
        "\n",
        "   554  |    0.017849  |  \u001b[32m  0.016429\u001b[0m  |     1.086420  |             |  0.7s"
       ]
      },
      {
       "output_type": "stream",
       "stream": "stdout",
       "text": [
        "\n",
        "   555  |    0.017908  |    0.016483  |     1.086466  |             |  0.7s"
       ]
      },
      {
       "output_type": "stream",
       "stream": "stdout",
       "text": [
        "\n",
        "   556  |    0.017865  |    0.016579  |     1.077584  |             |  0.7s"
       ]
      },
      {
       "output_type": "stream",
       "stream": "stdout",
       "text": [
        "\n",
        "   557  |    0.017897  |    0.016503  |     1.084484  |             |  0.7s"
       ]
      },
      {
       "output_type": "stream",
       "stream": "stdout",
       "text": [
        "\n",
        "   558  |    0.017791  |    0.016456  |     1.081120  |             |  0.7s"
       ]
      },
      {
       "output_type": "stream",
       "stream": "stdout",
       "text": [
        "\n",
        "   559  |    0.017859  |    0.016475  |     1.084038  |             |  0.7s"
       ]
      },
      {
       "output_type": "stream",
       "stream": "stdout",
       "text": [
        "\n",
        "   560  |    0.017822  |    0.016484  |     1.081176  |             |  0.7s"
       ]
      },
      {
       "output_type": "stream",
       "stream": "stdout",
       "text": [
        "\n",
        "   561  |    0.017768  |  \u001b[32m  0.016428\u001b[0m  |     1.081597  |             |  0.7s"
       ]
      },
      {
       "output_type": "stream",
       "stream": "stdout",
       "text": [
        "\n",
        "   562  |    0.017841  |  \u001b[32m  0.016397\u001b[0m  |     1.088063  |             |  0.7s"
       ]
      },
      {
       "output_type": "stream",
       "stream": "stdout",
       "text": [
        "\n",
        "   563  |    0.017805  |  \u001b[32m  0.016355\u001b[0m  |     1.088656  |             |  0.7s"
       ]
      },
      {
       "output_type": "stream",
       "stream": "stdout",
       "text": [
        "\n",
        "   564  |    0.017808  |  \u001b[32m  0.016321\u001b[0m  |     1.091138  |             |  0.7s"
       ]
      },
      {
       "output_type": "stream",
       "stream": "stdout",
       "text": [
        "\n",
        "   565  |    0.017768  |    0.016379  |     1.084748  |             |  0.7s"
       ]
      },
      {
       "output_type": "stream",
       "stream": "stdout",
       "text": [
        "\n",
        "   566  |    0.017824  |    0.016358  |     1.089582  |             |  0.7s"
       ]
      },
      {
       "output_type": "stream",
       "stream": "stdout",
       "text": [
        "\n",
        "   567  |  \u001b[94m  0.017751\u001b[0m  |    0.016457  |     1.078612  |             |  0.7s"
       ]
      },
      {
       "output_type": "stream",
       "stream": "stdout",
       "text": [
        "\n",
        "   568  |    0.017816  |    0.016322  |     1.091538  |             |  0.7s"
       ]
      },
      {
       "output_type": "stream",
       "stream": "stdout",
       "text": [
        "\n",
        "   569  |    0.017784  |  \u001b[32m  0.016293\u001b[0m  |     1.091514  |             |  0.7s"
       ]
      },
      {
       "output_type": "stream",
       "stream": "stdout",
       "text": [
        "\n",
        "   570  |    0.017779  |    0.016333  |     1.088555  |             |  0.7s"
       ]
      },
      {
       "output_type": "stream",
       "stream": "stdout",
       "text": [
        "\n",
        "   571  |  \u001b[94m  0.017720\u001b[0m  |    0.016342  |     1.084305  |             |  0.7s"
       ]
      },
      {
       "output_type": "stream",
       "stream": "stdout",
       "text": [
        "\n",
        "   572  |    0.017781  |    0.016335  |     1.088515  |             |  0.7s"
       ]
      },
      {
       "output_type": "stream",
       "stream": "stdout",
       "text": [
        "\n",
        "   573  |  \u001b[94m  0.017667\u001b[0m  |    0.016399  |     1.077294  |             |  0.7s"
       ]
      },
      {
       "output_type": "stream",
       "stream": "stdout",
       "text": [
        "\n",
        "   574  |    0.017733  |    0.016443  |     1.078423  |             |  0.7s"
       ]
      },
      {
       "output_type": "stream",
       "stream": "stdout",
       "text": [
        "\n",
        "   575  |    0.017711  |    0.016339  |     1.083940  |             |  0.7s"
       ]
      },
      {
       "output_type": "stream",
       "stream": "stdout",
       "text": [
        "\n",
        "   576  |  \u001b[94m  0.017617\u001b[0m  |    0.016298  |     1.080935  |             |  0.7s"
       ]
      },
      {
       "output_type": "stream",
       "stream": "stdout",
       "text": [
        "\n",
        "   577  |    0.017751  |  \u001b[32m  0.016205\u001b[0m  |     1.095399  |             |  0.7s"
       ]
      },
      {
       "output_type": "stream",
       "stream": "stdout",
       "text": [
        "\n",
        "   578  |    0.017652  |    0.016223  |     1.088111  |             |  0.7s"
       ]
      },
      {
       "output_type": "stream",
       "stream": "stdout",
       "text": [
        "\n",
        "   579  |    0.017701  |    0.016228  |     1.090774  |             |  0.7s"
       ]
      },
      {
       "output_type": "stream",
       "stream": "stdout",
       "text": [
        "\n",
        "   580  |    0.017716  |    0.016350  |     1.083538  |             |  0.7s"
       ]
      },
      {
       "output_type": "stream",
       "stream": "stdout",
       "text": [
        "\n",
        "   581  |    0.017676  |    0.016349  |     1.081143  |             |  0.7s"
       ]
      },
      {
       "output_type": "stream",
       "stream": "stdout",
       "text": [
        "\n",
        "   582  |    0.017643  |    0.016320  |     1.081082  |             |  0.7s"
       ]
      },
      {
       "output_type": "stream",
       "stream": "stdout",
       "text": [
        "\n",
        "   583  |    0.017636  |    0.016235  |     1.086316  |             |  0.7s"
       ]
      },
      {
       "output_type": "stream",
       "stream": "stdout",
       "text": [
        "\n",
        "   584  |    0.017617  |    0.016264  |     1.083242  |             |  0.7s"
       ]
      },
      {
       "output_type": "stream",
       "stream": "stdout",
       "text": [
        "\n",
        "   585  |    0.017640  |    0.016244  |     1.085931  |             |  0.7s"
       ]
      },
      {
       "output_type": "stream",
       "stream": "stdout",
       "text": [
        "\n",
        "   586  |    0.017617  |    0.016220  |     1.086167  |             |  0.7s"
       ]
      },
      {
       "output_type": "stream",
       "stream": "stdout",
       "text": [
        "\n",
        "   587  |    0.017759  |    0.016207  |     1.095797  |             |  0.7s"
       ]
      },
      {
       "output_type": "stream",
       "stream": "stdout",
       "text": [
        "\n",
        "   588  |  \u001b[94m  0.017603\u001b[0m  |    0.016324  |     1.078402  |             |  0.7s"
       ]
      },
      {
       "output_type": "stream",
       "stream": "stdout",
       "text": [
        "\n",
        "   589  |    0.017614  |    0.016257  |     1.083492  |             |  0.7s"
       ]
      },
      {
       "output_type": "stream",
       "stream": "stdout",
       "text": [
        "\n",
        "   590  |    0.017620  |    0.016254  |     1.084055  |             |  0.7s"
       ]
      },
      {
       "output_type": "stream",
       "stream": "stdout",
       "text": [
        "\n",
        "   591  |  \u001b[94m  0.017589\u001b[0m  |    0.016238  |     1.083184  |             |  0.7s"
       ]
      },
      {
       "output_type": "stream",
       "stream": "stdout",
       "text": [
        "\n",
        "   592  |    0.017654  |    0.016267  |     1.085229  |             |  0.7s"
       ]
      },
      {
       "output_type": "stream",
       "stream": "stdout",
       "text": [
        "\n",
        "   593  |  \u001b[94m  0.017514\u001b[0m  |    0.016255  |     1.077465  |             |  0.7s"
       ]
      },
      {
       "output_type": "stream",
       "stream": "stdout",
       "text": [
        "\n",
        "   594  |    0.017518  |    0.016211  |     1.080620  |             |  0.7s"
       ]
      },
      {
       "output_type": "stream",
       "stream": "stdout",
       "text": [
        "\n",
        "   595  |    0.017579  |    0.016223  |     1.083569  |             |  0.7s"
       ]
      },
      {
       "output_type": "stream",
       "stream": "stdout",
       "text": [
        "\n",
        "   596  |  \u001b[94m  0.017483\u001b[0m  |  \u001b[32m  0.016191\u001b[0m  |     1.079826  |             |  0.7s"
       ]
      },
      {
       "output_type": "stream",
       "stream": "stdout",
       "text": [
        "\n",
        "   597  |    0.017506  |    0.016280  |     1.075363  |             |  0.7s"
       ]
      },
      {
       "output_type": "stream",
       "stream": "stdout",
       "text": [
        "\n",
        "   598  |    0.017565  |    0.016234  |     1.082003  |             |  0.7s"
       ]
      },
      {
       "output_type": "stream",
       "stream": "stdout",
       "text": [
        "\n",
        "   599  |    0.017595  |    0.016240  |     1.083402  |             |  0.7s"
       ]
      },
      {
       "output_type": "stream",
       "stream": "stdout",
       "text": [
        "\n",
        "   600  |    0.017516  |  \u001b[32m  0.016182\u001b[0m  |     1.082446  |             |  0.7s"
       ]
      },
      {
       "output_type": "stream",
       "stream": "stdout",
       "text": [
        "\n",
        "   601  |    0.017527  |    0.016233  |     1.079748  |             |  0.7s"
       ]
      },
      {
       "output_type": "stream",
       "stream": "stdout",
       "text": [
        "\n",
        "   602  |    0.017514  |    0.016190  |     1.081786  |             |  0.7s"
       ]
      },
      {
       "output_type": "stream",
       "stream": "stdout",
       "text": [
        "\n",
        "   603  |    0.017575  |  \u001b[32m  0.016076\u001b[0m  |     1.093256  |             |  0.7s"
       ]
      },
      {
       "output_type": "stream",
       "stream": "stdout",
       "text": [
        "\n",
        "   604  |    0.017566  |    0.016156  |     1.087292  |             |  0.7s"
       ]
      },
      {
       "output_type": "stream",
       "stream": "stdout",
       "text": [
        "\n",
        "   605  |  \u001b[94m  0.017452\u001b[0m  |    0.016199  |     1.077329  |             |  0.7s"
       ]
      },
      {
       "output_type": "stream",
       "stream": "stdout",
       "text": [
        "\n",
        "   606  |  \u001b[94m  0.017428\u001b[0m  |    0.016090  |     1.083130  |             |  0.7s"
       ]
      },
      {
       "output_type": "stream",
       "stream": "stdout",
       "text": [
        "\n",
        "   607  |    0.017491  |  \u001b[32m  0.016053\u001b[0m  |     1.089582  |             |  0.7s"
       ]
      },
      {
       "output_type": "stream",
       "stream": "stdout",
       "text": [
        "\n",
        "   608  |    0.017503  |    0.016068  |     1.089335  |             |  0.7s"
       ]
      },
      {
       "output_type": "stream",
       "stream": "stdout",
       "text": [
        "\n",
        "   609  |    0.017489  |  \u001b[32m  0.016025\u001b[0m  |     1.091313  |             |  0.7s"
       ]
      },
      {
       "output_type": "stream",
       "stream": "stdout",
       "text": [
        "\n",
        "   610  |    0.017469  |    0.016056  |     1.087957  |             |  0.7s"
       ]
      },
      {
       "output_type": "stream",
       "stream": "stdout",
       "text": [
        "\n",
        "   611  |    0.017507  |    0.016179  |     1.082123  |             |  0.7s"
       ]
      },
      {
       "output_type": "stream",
       "stream": "stdout",
       "text": [
        "\n",
        "   612  |  \u001b[94m  0.017394\u001b[0m  |    0.016126  |     1.078686  |             |  0.7s"
       ]
      },
      {
       "output_type": "stream",
       "stream": "stdout",
       "text": [
        "\n",
        "   613  |  \u001b[94m  0.017362\u001b[0m  |  \u001b[32m  0.015977\u001b[0m  |     1.086719  |             |  0.7s"
       ]
      },
      {
       "output_type": "stream",
       "stream": "stdout",
       "text": [
        "\n",
        "   614  |    0.017363  |    0.016089  |     1.079208  |             |  0.7s"
       ]
      },
      {
       "output_type": "stream",
       "stream": "stdout",
       "text": [
        "\n",
        "   615  |    0.017401  |    0.016001  |     1.087482  |             |  0.7s"
       ]
      },
      {
       "output_type": "stream",
       "stream": "stdout",
       "text": [
        "\n",
        "   616  |    0.017426  |    0.016008  |     1.088584  |             |  0.7s"
       ]
      },
      {
       "output_type": "stream",
       "stream": "stdout",
       "text": [
        "\n",
        "   617  |    0.017408  |    0.016159  |     1.077309  |             |  0.7s"
       ]
      },
      {
       "output_type": "stream",
       "stream": "stdout",
       "text": [
        "\n",
        "   618  |  \u001b[94m  0.017348\u001b[0m  |    0.016058  |     1.080311  |             |  0.7s"
       ]
      },
      {
       "output_type": "stream",
       "stream": "stdout",
       "text": [
        "\n",
        "   619  |    0.017470  |    0.016074  |     1.086811  |             |  0.7s"
       ]
      },
      {
       "output_type": "stream",
       "stream": "stdout",
       "text": [
        "\n",
        "   620  |    0.017407  |    0.016121  |     1.079819  |             |  0.7s"
       ]
      },
      {
       "output_type": "stream",
       "stream": "stdout",
       "text": [
        "\n",
        "   621  |    0.017459  |    0.016159  |     1.080441  |             |  0.7s"
       ]
      },
      {
       "output_type": "stream",
       "stream": "stdout",
       "text": [
        "\n",
        "   622  |    0.017400  |    0.016060  |     1.083456  |             |  0.7s"
       ]
      },
      {
       "output_type": "stream",
       "stream": "stdout",
       "text": [
        "\n",
        "   623  |  \u001b[94m  0.017312\u001b[0m  |  \u001b[32m  0.015932\u001b[0m  |     1.086613  |             |  0.7s"
       ]
      },
      {
       "output_type": "stream",
       "stream": "stdout",
       "text": [
        "\n",
        "   624  |    0.017332  |    0.015981  |     1.084587  |             |  0.7s"
       ]
      },
      {
       "output_type": "stream",
       "stream": "stdout",
       "text": [
        "\n",
        "   625  |    0.017368  |    0.016068  |     1.080936  |             |  0.7s"
       ]
      },
      {
       "output_type": "stream",
       "stream": "stdout",
       "text": [
        "\n",
        "   626  |    0.017366  |    0.016066  |     1.080885  |             |  0.7s"
       ]
      },
      {
       "output_type": "stream",
       "stream": "stdout",
       "text": [
        "\n",
        "   627  |    0.017354  |    0.015980  |     1.086020  |             |  0.7s"
       ]
      },
      {
       "output_type": "stream",
       "stream": "stdout",
       "text": [
        "\n",
        "   628  |    0.017367  |    0.015996  |     1.085689  |             |  0.7s"
       ]
      },
      {
       "output_type": "stream",
       "stream": "stdout",
       "text": [
        "\n",
        "   629  |    0.017344  |    0.016003  |     1.083773  |             |  0.7s"
       ]
      },
      {
       "output_type": "stream",
       "stream": "stdout",
       "text": [
        "\n",
        "   630  |    0.017330  |    0.016074  |     1.078109  |             |  0.7s"
       ]
      },
      {
       "output_type": "stream",
       "stream": "stdout",
       "text": [
        "\n",
        "   631  |    0.017333  |  \u001b[32m  0.015919\u001b[0m  |     1.088807  |             |  0.7s"
       ]
      },
      {
       "output_type": "stream",
       "stream": "stdout",
       "text": [
        "\n",
        "   632  |    0.017327  |    0.015976  |     1.084550  |             |  0.7s"
       ]
      },
      {
       "output_type": "stream",
       "stream": "stdout",
       "text": [
        "\n",
        "   633  |  \u001b[94m  0.017284\u001b[0m  |    0.016021  |     1.078832  |             |  0.7s"
       ]
      },
      {
       "output_type": "stream",
       "stream": "stdout",
       "text": [
        "\n",
        "   634  |    0.017294  |  \u001b[32m  0.015830\u001b[0m  |     1.092505  |             |  0.7s"
       ]
      },
      {
       "output_type": "stream",
       "stream": "stdout",
       "text": [
        "\n",
        "   635  |  \u001b[94m  0.017226\u001b[0m  |    0.015971  |     1.078603  |             |  0.7s"
       ]
      },
      {
       "output_type": "stream",
       "stream": "stdout",
       "text": [
        "\n",
        "   636  |  \u001b[94m  0.017195\u001b[0m  |    0.016017  |     1.073519  |             |  0.7s"
       ]
      },
      {
       "output_type": "stream",
       "stream": "stdout",
       "text": [
        "\n",
        "   637  |    0.017289  |    0.015978  |     1.082030  |             |  0.7s"
       ]
      },
      {
       "output_type": "stream",
       "stream": "stdout",
       "text": [
        "\n",
        "   638  |    0.017296  |    0.015916  |     1.086715  |             |  0.7s"
       ]
      },
      {
       "output_type": "stream",
       "stream": "stdout",
       "text": [
        "\n",
        "   639  |    0.017282  |    0.015861  |     1.089606  |             |  0.7s"
       ]
      },
      {
       "output_type": "stream",
       "stream": "stdout",
       "text": [
        "\n",
        "   640  |    0.017231  |    0.016006  |     1.076528  |             |  0.7s"
       ]
      },
      {
       "output_type": "stream",
       "stream": "stdout",
       "text": [
        "\n",
        "   641  |  \u001b[94m  0.017137\u001b[0m  |    0.016012  |     1.070270  |             |  0.7s"
       ]
      },
      {
       "output_type": "stream",
       "stream": "stdout",
       "text": [
        "\n",
        "   642  |    0.017224  |    0.015963  |     1.079013  |             |  0.7s"
       ]
      },
      {
       "output_type": "stream",
       "stream": "stdout",
       "text": [
        "\n",
        "   643  |    0.017167  |    0.015936  |     1.077247  |             |  0.7s"
       ]
      },
      {
       "output_type": "stream",
       "stream": "stdout",
       "text": [
        "\n",
        "   644  |    0.017266  |    0.015950  |     1.082515  |             |  0.7s"
       ]
      },
      {
       "output_type": "stream",
       "stream": "stdout",
       "text": [
        "\n",
        "   645  |    0.017223  |    0.015880  |     1.084572  |             |  0.7s"
       ]
      },
      {
       "output_type": "stream",
       "stream": "stdout",
       "text": [
        "\n",
        "   646  |    0.017239  |    0.015899  |     1.084262  |             |  0.7s"
       ]
      },
      {
       "output_type": "stream",
       "stream": "stdout",
       "text": [
        "\n",
        "   647  |    0.017295  |    0.015912  |     1.086923  |             |  0.7s"
       ]
      },
      {
       "output_type": "stream",
       "stream": "stdout",
       "text": [
        "\n",
        "   648  |    0.017213  |    0.015907  |     1.082130  |             |  0.7s"
       ]
      },
      {
       "output_type": "stream",
       "stream": "stdout",
       "text": [
        "\n",
        "   649  |    0.017227  |    0.015976  |     1.078292  |             |  0.7s"
       ]
      },
      {
       "output_type": "stream",
       "stream": "stdout",
       "text": [
        "\n",
        "   650  |    0.017183  |    0.015916  |     1.079601  |             |  0.7s"
       ]
      },
      {
       "output_type": "stream",
       "stream": "stdout",
       "text": [
        "\n",
        "   651  |  \u001b[94m  0.017119\u001b[0m  |    0.015907  |     1.076191  |             |  0.7s"
       ]
      },
      {
       "output_type": "stream",
       "stream": "stdout",
       "text": [
        "\n",
        "   652  |    0.017153  |    0.015836  |     1.083177  |             |  0.7s"
       ]
      },
      {
       "output_type": "stream",
       "stream": "stdout",
       "text": [
        "\n",
        "   653  |    0.017132  |    0.015948  |     1.074271  |             |  0.7s"
       ]
      },
      {
       "output_type": "stream",
       "stream": "stdout",
       "text": [
        "\n",
        "   654  |    0.017177  |    0.015951  |     1.076872  |             |  0.7s"
       ]
      },
      {
       "output_type": "stream",
       "stream": "stdout",
       "text": [
        "\n",
        "   655  |  \u001b[94m  0.017090\u001b[0m  |    0.015920  |     1.073480  |             |  0.7s"
       ]
      },
      {
       "output_type": "stream",
       "stream": "stdout",
       "text": [
        "\n",
        "   656  |    0.017236  |    0.015904  |     1.083738  |             |  0.7s"
       ]
      },
      {
       "output_type": "stream",
       "stream": "stdout",
       "text": [
        "\n",
        "   657  |    0.017125  |    0.015909  |     1.076425  |             |  0.7s"
       ]
      },
      {
       "output_type": "stream",
       "stream": "stdout",
       "text": [
        "\n",
        "   658  |    0.017128  |    0.015890  |     1.077945  |             |  0.7s"
       ]
      },
      {
       "output_type": "stream",
       "stream": "stdout",
       "text": [
        "\n",
        "   659  |    0.017103  |  \u001b[32m  0.015787\u001b[0m  |     1.083374  |             |  0.7s"
       ]
      },
      {
       "output_type": "stream",
       "stream": "stdout",
       "text": [
        "\n",
        "   660  |  \u001b[94m  0.017025\u001b[0m  |  \u001b[32m  0.015786\u001b[0m  |     1.078455  |             |  0.7s"
       ]
      },
      {
       "output_type": "stream",
       "stream": "stdout",
       "text": [
        "\n",
        "   661  |    0.017148  |    0.015899  |     1.078551  |             |  0.7s"
       ]
      },
      {
       "output_type": "stream",
       "stream": "stdout",
       "text": [
        "\n",
        "   662  |    0.017190  |    0.015859  |     1.083864  |             |  0.7s"
       ]
      },
      {
       "output_type": "stream",
       "stream": "stdout",
       "text": [
        "\n",
        "   663  |    0.017105  |    0.015866  |     1.078079  |             |  0.7s"
       ]
      },
      {
       "output_type": "stream",
       "stream": "stdout",
       "text": [
        "\n",
        "   664  |  \u001b[94m  0.016943\u001b[0m  |    0.015810  |     1.071678  |             |  0.7s"
       ]
      },
      {
       "output_type": "stream",
       "stream": "stdout",
       "text": [
        "\n",
        "   665  |    0.017116  |    0.015839  |     1.080647  |             |  0.7s"
       ]
      },
      {
       "output_type": "stream",
       "stream": "stdout",
       "text": [
        "\n",
        "   666  |    0.016995  |    0.015858  |     1.071708  |             |  0.7s"
       ]
      },
      {
       "output_type": "stream",
       "stream": "stdout",
       "text": [
        "\n",
        "   667  |    0.016992  |  \u001b[32m  0.015778\u001b[0m  |     1.076968  |             |  0.7s"
       ]
      },
      {
       "output_type": "stream",
       "stream": "stdout",
       "text": [
        "\n",
        "   668  |    0.017088  |    0.015843  |     1.078591  |             |  0.7s"
       ]
      },
      {
       "output_type": "stream",
       "stream": "stdout",
       "text": [
        "\n",
        "   669  |    0.017097  |  \u001b[32m  0.015761\u001b[0m  |     1.084771  |             |  0.7s"
       ]
      },
      {
       "output_type": "stream",
       "stream": "stdout",
       "text": [
        "\n",
        "   670  |    0.017028  |    0.015804  |     1.077477  |             |  0.7s"
       ]
      },
      {
       "output_type": "stream",
       "stream": "stdout",
       "text": [
        "\n",
        "   671  |    0.016965  |    0.015837  |     1.071253  |             |  0.7s"
       ]
      },
      {
       "output_type": "stream",
       "stream": "stdout",
       "text": [
        "\n",
        "   672  |    0.017020  |    0.015798  |     1.077343  |             |  0.7s"
       ]
      },
      {
       "output_type": "stream",
       "stream": "stdout",
       "text": [
        "\n",
        "   673  |    0.017018  |    0.015984  |     1.064718  |             |  0.7s"
       ]
      },
      {
       "output_type": "stream",
       "stream": "stdout",
       "text": [
        "\n",
        "   674  |    0.016986  |  \u001b[32m  0.015751\u001b[0m  |     1.078409  |             |  0.7s"
       ]
      },
      {
       "output_type": "stream",
       "stream": "stdout",
       "text": [
        "\n",
        "   675  |    0.017002  |  \u001b[32m  0.015729\u001b[0m  |     1.080952  |             |  0.7s"
       ]
      },
      {
       "output_type": "stream",
       "stream": "stdout",
       "text": [
        "\n",
        "   676  |    0.016969  |    0.015804  |     1.073693  |             |  0.7s"
       ]
      },
      {
       "output_type": "stream",
       "stream": "stdout",
       "text": [
        "\n",
        "   677  |    0.017031  |    0.015803  |     1.077712  |             |  0.7s"
       ]
      },
      {
       "output_type": "stream",
       "stream": "stdout",
       "text": [
        "\n",
        "   678  |    0.016953  |  \u001b[32m  0.015700\u001b[0m  |     1.079844  |             |  0.7s"
       ]
      },
      {
       "output_type": "stream",
       "stream": "stdout",
       "text": [
        "\n",
        "   679  |    0.017042  |    0.015728  |     1.083560  |             |  0.7s"
       ]
      },
      {
       "output_type": "stream",
       "stream": "stdout",
       "text": [
        "\n",
        "   680  |    0.017089  |    0.015772  |     1.083516  |             |  0.7s"
       ]
      },
      {
       "output_type": "stream",
       "stream": "stdout",
       "text": [
        "\n",
        "   681  |    0.017000  |  \u001b[32m  0.015659\u001b[0m  |     1.085584  |             |  0.7s"
       ]
      },
      {
       "output_type": "stream",
       "stream": "stdout",
       "text": [
        "\n",
        "   682  |  \u001b[94m  0.016895\u001b[0m  |    0.015719  |     1.074842  |             |  0.7s"
       ]
      },
      {
       "output_type": "stream",
       "stream": "stdout",
       "text": [
        "\n",
        "   683  |    0.016998  |    0.015778  |     1.077313  |             |  0.7s"
       ]
      },
      {
       "output_type": "stream",
       "stream": "stdout",
       "text": [
        "\n",
        "   684  |    0.016905  |    0.015666  |     1.079059  |             |  0.7s"
       ]
      },
      {
       "output_type": "stream",
       "stream": "stdout",
       "text": [
        "\n",
        "   685  |    0.016939  |    0.015846  |     1.068948  |             |  0.7s"
       ]
      },
      {
       "output_type": "stream",
       "stream": "stdout",
       "text": [
        "\n",
        "   686  |    0.016967  |    0.015703  |     1.080495  |             |  0.7s"
       ]
      },
      {
       "output_type": "stream",
       "stream": "stdout",
       "text": [
        "\n",
        "   687  |    0.016999  |    0.015717  |     1.081562  |             |  0.7s"
       ]
      },
      {
       "output_type": "stream",
       "stream": "stdout",
       "text": [
        "\n",
        "   688  |    0.016946  |    0.015675  |     1.081102  |             |  0.7s"
       ]
      },
      {
       "output_type": "stream",
       "stream": "stdout",
       "text": [
        "\n",
        "   689  |    0.016957  |    0.015662  |     1.082673  |             |  0.7s"
       ]
      },
      {
       "output_type": "stream",
       "stream": "stdout",
       "text": [
        "\n",
        "   690  |    0.016921  |    0.015797  |     1.071141  |             |  0.7s"
       ]
      },
      {
       "output_type": "stream",
       "stream": "stdout",
       "text": [
        "\n",
        "   691  |    0.016978  |    0.015734  |     1.079061  |             |  0.7s"
       ]
      },
      {
       "output_type": "stream",
       "stream": "stdout",
       "text": [
        "\n",
        "   692  |  \u001b[94m  0.016886\u001b[0m  |  \u001b[32m  0.015655\u001b[0m  |     1.078619  |             |  0.7s"
       ]
      },
      {
       "output_type": "stream",
       "stream": "stdout",
       "text": [
        "\n",
        "   693  |  \u001b[94m  0.016798\u001b[0m  |  \u001b[32m  0.015619\u001b[0m  |     1.075517  |             |  0.7s"
       ]
      },
      {
       "output_type": "stream",
       "stream": "stdout",
       "text": [
        "\n",
        "   694  |    0.016961  |    0.015753  |     1.076686  |             |  0.7s"
       ]
      },
      {
       "output_type": "stream",
       "stream": "stdout",
       "text": [
        "\n",
        "   695  |    0.016888  |    0.015767  |     1.071101  |             |  0.7s"
       ]
      },
      {
       "output_type": "stream",
       "stream": "stdout",
       "text": [
        "\n",
        "   696  |    0.016862  |    0.015672  |     1.075926  |             |  0.7s"
       ]
      },
      {
       "output_type": "stream",
       "stream": "stdout",
       "text": [
        "\n",
        "   697  |    0.016824  |    0.015796  |     1.065040  |             |  0.7s"
       ]
      },
      {
       "output_type": "stream",
       "stream": "stdout",
       "text": [
        "\n",
        "   698  |    0.016921  |    0.015650  |     1.081179  |             |  0.7s"
       ]
      },
      {
       "output_type": "stream",
       "stream": "stdout",
       "text": [
        "\n",
        "   699  |    0.016892  |  \u001b[32m  0.015617\u001b[0m  |     1.081603  |             |  0.7s"
       ]
      },
      {
       "output_type": "stream",
       "stream": "stdout",
       "text": [
        "\n",
        "   700  |    0.016858  |    0.015740  |     1.071052  |             |  0.7s"
       ]
      },
      {
       "output_type": "stream",
       "stream": "stdout",
       "text": [
        "\n",
        "   701  |    0.016857  |  \u001b[32m  0.015570\u001b[0m  |     1.082626  |             |  0.7s"
       ]
      },
      {
       "output_type": "stream",
       "stream": "stdout",
       "text": [
        "\n",
        "   702  |    0.016936  |  \u001b[32m  0.015559\u001b[0m  |     1.088497  |             |  0.7s"
       ]
      },
      {
       "output_type": "stream",
       "stream": "stdout",
       "text": [
        "\n",
        "   703  |    0.016872  |    0.015619  |     1.080176  |             |  0.7s"
       ]
      },
      {
       "output_type": "stream",
       "stream": "stdout",
       "text": [
        "\n",
        "   704  |    0.016855  |    0.015770  |     1.068745  |             |  0.7s"
       ]
      },
      {
       "output_type": "stream",
       "stream": "stdout",
       "text": [
        "\n",
        "   705  |    0.016828  |    0.015596  |     1.078996  |             |  0.7s"
       ]
      },
      {
       "output_type": "stream",
       "stream": "stdout",
       "text": [
        "\n",
        "   706  |    0.016807  |    0.015600  |     1.077315  |             |  0.7s"
       ]
      },
      {
       "output_type": "stream",
       "stream": "stdout",
       "text": [
        "\n",
        "   707  |  \u001b[94m  0.016785\u001b[0m  |    0.015669  |     1.071213  |             |  0.7s"
       ]
      },
      {
       "output_type": "stream",
       "stream": "stdout",
       "text": [
        "\n",
        "   708  |  \u001b[94m  0.016744\u001b[0m  |    0.015682  |     1.067725  |             |  0.7s"
       ]
      },
      {
       "output_type": "stream",
       "stream": "stdout",
       "text": [
        "\n",
        "   709  |    0.016867  |    0.015626  |     1.079444  |             |  0.7s"
       ]
      },
      {
       "output_type": "stream",
       "stream": "stdout",
       "text": [
        "\n",
        "   710  |    0.016744  |    0.015604  |     1.073040  |             |  0.7s"
       ]
      },
      {
       "output_type": "stream",
       "stream": "stdout",
       "text": [
        "\n",
        "   711  |    0.016767  |    0.015712  |     1.067140  |             |  0.7s"
       ]
      },
      {
       "output_type": "stream",
       "stream": "stdout",
       "text": [
        "\n",
        "   712  |    0.016851  |    0.015581  |     1.081504  |             |  0.7s"
       ]
      },
      {
       "output_type": "stream",
       "stream": "stdout",
       "text": [
        "\n",
        "   713  |    0.016804  |    0.015622  |     1.075695  |             |  0.7s"
       ]
      },
      {
       "output_type": "stream",
       "stream": "stdout",
       "text": [
        "\n",
        "   714  |  \u001b[94m  0.016741\u001b[0m  |  \u001b[32m  0.015536\u001b[0m  |     1.077586  |             |  0.7s"
       ]
      },
      {
       "output_type": "stream",
       "stream": "stdout",
       "text": [
        "\n",
        "   715  |    0.016799  |    0.015561  |     1.079544  |             |  0.7s"
       ]
      },
      {
       "output_type": "stream",
       "stream": "stdout",
       "text": [
        "\n",
        "   716  |  \u001b[94m  0.016723\u001b[0m  |    0.015614  |     1.070980  |             |  0.7s"
       ]
      },
      {
       "output_type": "stream",
       "stream": "stdout",
       "text": [
        "\n",
        "   717  |    0.016858  |    0.015693  |     1.074205  |             |  0.7s"
       ]
      },
      {
       "output_type": "stream",
       "stream": "stdout",
       "text": [
        "\n",
        "   718  |    0.016841  |    0.015585  |     1.080617  |             |  0.7s"
       ]
      },
      {
       "output_type": "stream",
       "stream": "stdout",
       "text": [
        "\n",
        "   719  |    0.016771  |  \u001b[32m  0.015525\u001b[0m  |     1.080274  |             |  0.7s"
       ]
      },
      {
       "output_type": "stream",
       "stream": "stdout",
       "text": [
        "\n",
        "   720  |    0.016810  |    0.015539  |     1.081802  |             |  0.7s"
       ]
      },
      {
       "output_type": "stream",
       "stream": "stdout",
       "text": [
        "\n",
        "   721  |    0.016813  |    0.015560  |     1.080534  |             |  0.7s"
       ]
      },
      {
       "output_type": "stream",
       "stream": "stdout",
       "text": [
        "\n",
        "   722  |  \u001b[94m  0.016678\u001b[0m  |    0.015589  |     1.069807  |             |  0.7s"
       ]
      },
      {
       "output_type": "stream",
       "stream": "stdout",
       "text": [
        "\n",
        "   723  |    0.016773  |    0.015652  |     1.071631  |             |  0.7s"
       ]
      },
      {
       "output_type": "stream",
       "stream": "stdout",
       "text": [
        "\n",
        "   724  |    0.016726  |    0.015565  |     1.074579  |             |  0.7s"
       ]
      },
      {
       "output_type": "stream",
       "stream": "stdout",
       "text": [
        "\n",
        "   725  |    0.016691  |    0.015635  |     1.067495  |             |  0.7s"
       ]
      },
      {
       "output_type": "stream",
       "stream": "stdout",
       "text": [
        "\n",
        "   726  |    0.016771  |    0.015618  |     1.073817  |             |  0.7s"
       ]
      },
      {
       "output_type": "stream",
       "stream": "stdout",
       "text": [
        "\n",
        "   727  |    0.016694  |  \u001b[32m  0.015511\u001b[0m  |     1.076293  |             |  0.7s"
       ]
      },
      {
       "output_type": "stream",
       "stream": "stdout",
       "text": [
        "\n",
        "   728  |    0.016729  |    0.015531  |     1.077146  |             |  0.7s"
       ]
      },
      {
       "output_type": "stream",
       "stream": "stdout",
       "text": [
        "\n",
        "   729  |    0.016698  |    0.015531  |     1.075136  |             |  0.7s"
       ]
      },
      {
       "output_type": "stream",
       "stream": "stdout",
       "text": [
        "\n",
        "   730  |    0.016737  |    0.015611  |     1.072132  |             |  0.7s"
       ]
      },
      {
       "output_type": "stream",
       "stream": "stdout",
       "text": [
        "\n",
        "   731  |    0.016736  |  \u001b[32m  0.015489\u001b[0m  |     1.080520  |             |  0.7s"
       ]
      },
      {
       "output_type": "stream",
       "stream": "stdout",
       "text": [
        "\n",
        "   732  |  \u001b[94m  0.016643\u001b[0m  |    0.015624  |     1.065215  |             |  0.7s"
       ]
      },
      {
       "output_type": "stream",
       "stream": "stdout",
       "text": [
        "\n",
        "   733  |    0.016650  |    0.015508  |     1.073626  |             |  0.7s"
       ]
      },
      {
       "output_type": "stream",
       "stream": "stdout",
       "text": [
        "\n",
        "   734  |    0.016742  |  \u001b[32m  0.015462\u001b[0m  |     1.082783  |             |  0.7s"
       ]
      },
      {
       "output_type": "stream",
       "stream": "stdout",
       "text": [
        "\n",
        "   735  |  \u001b[94m  0.016577\u001b[0m  |    0.015482  |     1.070765  |             |  0.7s"
       ]
      },
      {
       "output_type": "stream",
       "stream": "stdout",
       "text": [
        "\n",
        "   736  |    0.016636  |    0.015464  |     1.075781  |             |  0.7s"
       ]
      },
      {
       "output_type": "stream",
       "stream": "stdout",
       "text": [
        "\n",
        "   737  |    0.016672  |    0.015488  |     1.076462  |             |  0.7s"
       ]
      },
      {
       "output_type": "stream",
       "stream": "stdout",
       "text": [
        "\n",
        "   738  |    0.016602  |  \u001b[32m  0.015443\u001b[0m  |     1.075063  |             |  0.7s"
       ]
      },
      {
       "output_type": "stream",
       "stream": "stdout",
       "text": [
        "\n",
        "   739  |    0.016673  |    0.015513  |     1.074812  |             |  0.7s"
       ]
      },
      {
       "output_type": "stream",
       "stream": "stdout",
       "text": [
        "\n",
        "   740  |    0.016628  |  \u001b[32m  0.015420\u001b[0m  |     1.078328  |             |  0.7s"
       ]
      },
      {
       "output_type": "stream",
       "stream": "stdout",
       "text": [
        "\n",
        "   741  |    0.016607  |    0.015555  |     1.067635  |             |  0.7s"
       ]
      },
      {
       "output_type": "stream",
       "stream": "stdout",
       "text": [
        "\n",
        "   742  |    0.016609  |    0.015531  |     1.069424  |             |  0.7s"
       ]
      },
      {
       "output_type": "stream",
       "stream": "stdout",
       "text": [
        "\n",
        "   743  |  \u001b[94m  0.016569\u001b[0m  |    0.015540  |     1.066177  |             |  0.7s"
       ]
      },
      {
       "output_type": "stream",
       "stream": "stdout",
       "text": [
        "\n",
        "   744  |    0.016591  |    0.015495  |     1.070708  |             |  0.7s"
       ]
      },
      {
       "output_type": "stream",
       "stream": "stdout",
       "text": [
        "\n",
        "   745  |    0.016826  |    0.015536  |     1.083005  |             |  0.7s"
       ]
      },
      {
       "output_type": "stream",
       "stream": "stdout",
       "text": [
        "\n",
        "   746  |    0.016576  |    0.015606  |     1.062191  |             |  0.7s"
       ]
      },
      {
       "output_type": "stream",
       "stream": "stdout",
       "text": [
        "\n",
        "   747  |    0.016601  |    0.015535  |     1.068578  |             |  0.7s"
       ]
      },
      {
       "output_type": "stream",
       "stream": "stdout",
       "text": [
        "\n",
        "   748  |    0.016578  |    0.015510  |     1.068848  |             |  0.7s"
       ]
      },
      {
       "output_type": "stream",
       "stream": "stdout",
       "text": [
        "\n",
        "   749  |    0.016656  |    0.015516  |     1.073478  |             |  0.7s"
       ]
      },
      {
       "output_type": "stream",
       "stream": "stdout",
       "text": [
        "\n",
        "   750  |  \u001b[94m  0.016524\u001b[0m  |    0.015435  |     1.070546  |             |  0.7s"
       ]
      },
      {
       "output_type": "stream",
       "stream": "stdout",
       "text": [
        "\n",
        "   751  |    0.016554  |    0.015580  |     1.062541  |             |  0.7s"
       ]
      },
      {
       "output_type": "stream",
       "stream": "stdout",
       "text": [
        "\n",
        "   752  |    0.016579  |    0.015492  |     1.070187  |             |  0.7s"
       ]
      },
      {
       "output_type": "stream",
       "stream": "stdout",
       "text": [
        "\n",
        "   753  |    0.016588  |    0.015445  |     1.074013  |             |  0.7s"
       ]
      },
      {
       "output_type": "stream",
       "stream": "stdout",
       "text": [
        "\n",
        "   754  |    0.016626  |    0.015533  |     1.070393  |             |  0.7s"
       ]
      },
      {
       "output_type": "stream",
       "stream": "stdout",
       "text": [
        "\n",
        "   755  |    0.016570  |  \u001b[32m  0.015416\u001b[0m  |     1.074847  |             |  0.7s"
       ]
      },
      {
       "output_type": "stream",
       "stream": "stdout",
       "text": [
        "\n",
        "   756  |  \u001b[94m  0.016438\u001b[0m  |    0.015417  |     1.066226  |             |  0.7s"
       ]
      },
      {
       "output_type": "stream",
       "stream": "stdout",
       "text": [
        "\n",
        "   757  |    0.016549  |  \u001b[32m  0.015404\u001b[0m  |     1.074297  |             |  0.7s"
       ]
      },
      {
       "output_type": "stream",
       "stream": "stdout",
       "text": [
        "\n",
        "   758  |    0.016576  |    0.015466  |     1.071793  |             |  0.7s"
       ]
      },
      {
       "output_type": "stream",
       "stream": "stdout",
       "text": [
        "\n",
        "   759  |    0.016477  |    0.015426  |     1.068128  |             |  0.7s"
       ]
      },
      {
       "output_type": "stream",
       "stream": "stdout",
       "text": [
        "\n",
        "   760  |    0.016536  |    0.015461  |     1.069520  |             |  0.7s"
       ]
      },
      {
       "output_type": "stream",
       "stream": "stdout",
       "text": [
        "\n",
        "   761  |    0.016612  |    0.015451  |     1.075175  |             |  0.7s"
       ]
      },
      {
       "output_type": "stream",
       "stream": "stdout",
       "text": [
        "\n",
        "   762  |    0.016537  |  \u001b[32m  0.015375\u001b[0m  |     1.075612  |             |  0.7s"
       ]
      },
      {
       "output_type": "stream",
       "stream": "stdout",
       "text": [
        "\n",
        "   763  |    0.016475  |  \u001b[32m  0.015373\u001b[0m  |     1.071699  |             |  0.7s"
       ]
      },
      {
       "output_type": "stream",
       "stream": "stdout",
       "text": [
        "\n",
        "   764  |  \u001b[94m  0.016353\u001b[0m  |    0.015416  |     1.060754  |             |  0.7s"
       ]
      },
      {
       "output_type": "stream",
       "stream": "stdout",
       "text": [
        "\n",
        "   765  |    0.016501  |    0.015422  |     1.069957  |             |  0.7s"
       ]
      },
      {
       "output_type": "stream",
       "stream": "stdout",
       "text": [
        "\n",
        "   766  |    0.016562  |    0.015541  |     1.065679  |             |  0.7s"
       ]
      },
      {
       "output_type": "stream",
       "stream": "stdout",
       "text": [
        "\n",
        "   767  |    0.016537  |    0.015521  |     1.065477  |             |  0.7s"
       ]
      },
      {
       "output_type": "stream",
       "stream": "stdout",
       "text": [
        "\n",
        "   768  |    0.016483  |    0.015417  |     1.069124  |             |  0.7s"
       ]
      },
      {
       "output_type": "stream",
       "stream": "stdout",
       "text": [
        "\n",
        "   769  |    0.016487  |    0.015503  |     1.063456  |             |  0.7s"
       ]
      },
      {
       "output_type": "stream",
       "stream": "stdout",
       "text": [
        "\n",
        "   770  |    0.016359  |    0.015533  |     1.053217  |             |  0.7s"
       ]
      },
      {
       "output_type": "stream",
       "stream": "stdout",
       "text": [
        "\n",
        "   771  |    0.016484  |    0.015437  |     1.067851  |             |  0.7s"
       ]
      },
      {
       "output_type": "stream",
       "stream": "stdout",
       "text": [
        "\n",
        "   772  |    0.016392  |  \u001b[32m  0.015290\u001b[0m  |     1.072115  |             |  0.7s"
       ]
      },
      {
       "output_type": "stream",
       "stream": "stdout",
       "text": [
        "\n",
        "   773  |    0.016509  |    0.015501  |     1.065029  |             |  0.7s"
       ]
      },
      {
       "output_type": "stream",
       "stream": "stdout",
       "text": [
        "\n",
        "   774  |    0.016439  |    0.015393  |     1.067974  |             |  0.7s"
       ]
      },
      {
       "output_type": "stream",
       "stream": "stdout",
       "text": [
        "\n",
        "   775  |    0.016381  |    0.015340  |     1.067818  |             |  0.7s"
       ]
      },
      {
       "output_type": "stream",
       "stream": "stdout",
       "text": [
        "\n",
        "   776  |    0.016362  |    0.015451  |     1.058965  |             |  0.7s"
       ]
      },
      {
       "output_type": "stream",
       "stream": "stdout",
       "text": [
        "\n",
        "   777  |    0.016394  |    0.015447  |     1.061347  |             |  0.7s"
       ]
      },
      {
       "output_type": "stream",
       "stream": "stdout",
       "text": [
        "\n",
        "   778  |  \u001b[94m  0.016343\u001b[0m  |    0.015505  |     1.054049  |             |  0.7s"
       ]
      },
      {
       "output_type": "stream",
       "stream": "stdout",
       "text": [
        "\n",
        "   779  |    0.016437  |    0.015462  |     1.063086  |             |  0.7s"
       ]
      },
      {
       "output_type": "stream",
       "stream": "stdout",
       "text": [
        "\n",
        "   780  |    0.016445  |  \u001b[32m  0.015286\u001b[0m  |     1.075863  |             |  0.7s"
       ]
      },
      {
       "output_type": "stream",
       "stream": "stdout",
       "text": [
        "\n",
        "   781  |  \u001b[94m  0.016343\u001b[0m  |    0.015429  |     1.059229  |             |  0.7s"
       ]
      },
      {
       "output_type": "stream",
       "stream": "stdout",
       "text": [
        "\n",
        "   782  |    0.016436  |    0.015419  |     1.065937  |             |  0.7s"
       ]
      },
      {
       "output_type": "stream",
       "stream": "stdout",
       "text": [
        "\n",
        "   783  |    0.016434  |    0.015354  |     1.070325  |             |  0.7s"
       ]
      },
      {
       "output_type": "stream",
       "stream": "stdout",
       "text": [
        "\n",
        "   784  |    0.016418  |    0.015361  |     1.068822  |             |  0.7s"
       ]
      },
      {
       "output_type": "stream",
       "stream": "stdout",
       "text": [
        "\n",
        "   785  |    0.016386  |    0.015312  |     1.070190  |             |  0.7s"
       ]
      },
      {
       "output_type": "stream",
       "stream": "stdout",
       "text": [
        "\n",
        "   786  |    0.016410  |    0.015432  |     1.063375  |             |  0.7s"
       ]
      },
      {
       "output_type": "stream",
       "stream": "stdout",
       "text": [
        "\n",
        "   787  |  \u001b[94m  0.016324\u001b[0m  |    0.015414  |     1.059090  |             |  0.7s"
       ]
      },
      {
       "output_type": "stream",
       "stream": "stdout",
       "text": [
        "\n",
        "   788  |    0.016327  |    0.015317  |     1.065958  |             |  0.7s"
       ]
      },
      {
       "output_type": "stream",
       "stream": "stdout",
       "text": [
        "\n",
        "   789  |    0.016445  |    0.015413  |     1.066950  |             |  0.7s"
       ]
      },
      {
       "output_type": "stream",
       "stream": "stdout",
       "text": [
        "\n",
        "   790  |  \u001b[94m  0.016319\u001b[0m  |    0.015306  |     1.066151  |             |  0.7s"
       ]
      },
      {
       "output_type": "stream",
       "stream": "stdout",
       "text": [
        "\n",
        "   791  |    0.016421  |    0.015421  |     1.064863  |             |  0.7s"
       ]
      },
      {
       "output_type": "stream",
       "stream": "stdout",
       "text": [
        "\n",
        "   792  |  \u001b[94m  0.016314\u001b[0m  |    0.015434  |     1.056997  |             |  0.7s"
       ]
      },
      {
       "output_type": "stream",
       "stream": "stdout",
       "text": [
        "\n",
        "   793  |    0.016434  |    0.015317  |     1.072933  |             |  0.7s"
       ]
      },
      {
       "output_type": "stream",
       "stream": "stdout",
       "text": [
        "\n",
        "   794  |    0.016443  |    0.015363  |     1.070286  |             |  0.7s"
       ]
      },
      {
       "output_type": "stream",
       "stream": "stdout",
       "text": [
        "\n",
        "   795  |    0.016430  |    0.015342  |     1.070930  |             |  0.7s"
       ]
      },
      {
       "output_type": "stream",
       "stream": "stdout",
       "text": [
        "\n",
        "   796  |    0.016415  |  \u001b[32m  0.015281\u001b[0m  |     1.074226  |             |  0.7s"
       ]
      },
      {
       "output_type": "stream",
       "stream": "stdout",
       "text": [
        "\n",
        "   797  |    0.016332  |    0.015411  |     1.059819  |             |  0.7s"
       ]
      },
      {
       "output_type": "stream",
       "stream": "stdout",
       "text": [
        "\n",
        "   798  |    0.016327  |  \u001b[32m  0.015243\u001b[0m  |     1.071112  |             |  0.7s"
       ]
      },
      {
       "output_type": "stream",
       "stream": "stdout",
       "text": [
        "\n",
        "   799  |  \u001b[94m  0.016306\u001b[0m  |    0.015339  |     1.063032  |             |  0.7s"
       ]
      },
      {
       "output_type": "stream",
       "stream": "stdout",
       "text": [
        "\n",
        "   800  |    0.016319  |    0.015269  |     1.068754  |             |  0.7s"
       ]
      },
      {
       "output_type": "stream",
       "stream": "stdout",
       "text": [
        "\n",
        "   801  |  \u001b[94m  0.016276\u001b[0m  |  \u001b[32m  0.015226\u001b[0m  |     1.068942  |             |  0.7s"
       ]
      }
     ],
     "prompt_number": "*"
    },
    {
     "cell_type": "code",
     "collapsed": false,
     "input": [
      "train_loss_6 = np.array([i[\"train_loss\"] for i in net7.train_history_])\n",
      "valid_loss_6 = np.array([i[\"valid_loss\"] for i in net7.train_history_])\n",
      "pyplot.plot(train_loss_6, linewidth=3, label=\"train\")\n",
      "pyplot.plot(valid_loss_6, linewidth=3, label=\"valid\")\n",
      "pyplot.grid()\n",
      "pyplot.legend()\n",
      "pyplot.xlabel(\"epoch\")\n",
      "pyplot.ylabel(\"loss\")\n",
      "pyplot.ylim(0.1e-2, 3.2e-2)\n",
      "# pyplot.yscale(\"log\")\n",
      "pyplot.show()"
     ],
     "language": "python",
     "metadata": {},
     "outputs": []
    },
    {
     "cell_type": "markdown",
     "metadata": {},
     "source": [
      "# start from here!!!!!!!!!!!!!!!!!!!!!\n",
      "\n",
      "## load model from Lasagne_6th_drop_change_extend.pickle extend with test1 answer"
     ]
    },
    {
     "cell_type": "code",
     "collapsed": false,
     "input": [
      "import cPickle as pickle\n",
      "with open('./Lasagne_5th_try_drop_change.pickle', 'rb') as f:\n",
      "    net7 = pickle.load(f)\n"
     ],
     "language": "python",
     "metadata": {},
     "outputs": []
    },
    {
     "cell_type": "code",
     "collapsed": false,
     "input": [
      "# from sklearn.base import clone\n",
      "# model2 = clone(net7)\n",
      "# model2.load_weights_from(model)"
     ],
     "language": "python",
     "metadata": {},
     "outputs": []
    },
    {
     "cell_type": "code",
     "collapsed": false,
     "input": [
      "# model"
     ],
     "language": "python",
     "metadata": {},
     "outputs": []
    },
    {
     "cell_type": "code",
     "collapsed": false,
     "input": [
      "train_loss_6 = np.array([i[\"train_loss\"] for i in net7.train_history_])\n",
      "valid_loss_6 = np.array([i[\"valid_loss\"] for i in net7.train_history_])\n",
      "pyplot.plot(train_loss_6, linewidth=3, label=\"train\")\n",
      "pyplot.plot(valid_loss_6, linewidth=3, label=\"valid\")\n",
      "pyplot.grid()\n",
      "pyplot.legend()\n",
      "pyplot.xlabel(\"epoch\")\n",
      "pyplot.ylabel(\"loss\")\n",
      "pyplot.ylim(0.1e-2, 3.2e-2)\n",
      "# pyplot.yscale(\"log\")\n",
      "pyplot.show()"
     ],
     "language": "python",
     "metadata": {},
     "outputs": []
    },
    {
     "cell_type": "code",
     "collapsed": false,
     "input": [
      "# net7.dropout1_p = 0.2\n",
      "# net7.dropout2_p = 0.3\n",
      "# net7.dropout3_p = 0.4\n",
      "net7.max_epochs = 2500"
     ],
     "language": "python",
     "metadata": {},
     "outputs": []
    },
    {
     "cell_type": "code",
     "collapsed": false,
     "input": [
      "import sys\n",
      "sys.setrecursionlimit(10000)\n",
      "\n",
      "X_6, y_6 = transform_6(x, y)\n",
      "%time net7.fit(X_6, y_6)\n",
      "\n",
      "import cPickle as pickle\n",
      "with open('Lasagne_7th_test1_0.pickle', 'wb') as f:\n",
      "    pickle.dump(net7, f, -1)"
     ],
     "language": "python",
     "metadata": {},
     "outputs": []
    },
    {
     "cell_type": "code",
     "collapsed": false,
     "input": [
      "train_loss_6 = np.array([i[\"train_loss\"] for i in net7.train_history_])\n",
      "valid_loss_6 = np.array([i[\"valid_loss\"] for i in net7.train_history_])\n",
      "pyplot.plot(train_loss_6, linewidth=3, label=\"train\")\n",
      "pyplot.plot(valid_loss_6, linewidth=3, label=\"valid\")\n",
      "pyplot.grid()\n",
      "pyplot.legend()\n",
      "pyplot.xlabel(\"epoch\")\n",
      "pyplot.ylabel(\"loss\")\n",
      "pyplot.ylim(0.1e-2, 3.2e-2)\n",
      "# pyplot.yscale(\"log\")\n",
      "pyplot.show()"
     ],
     "language": "python",
     "metadata": {},
     "outputs": []
    },
    {
     "cell_type": "code",
     "collapsed": false,
     "input": [
      "# from sklearn import metrics\n",
      "\n",
      "# Xt_6, yt_6 = transform_6(X_test, y_test)\n",
      "\n",
      "# # overfit result, should use validation result\n",
      "# y_pred = net7.predict(Xt_6)\n",
      "# # print y_pred[1]\n",
      "# # np.argmax(y_pred[i]),np.argmax(y[i])\n",
      "# y_pred = np.array(map((lambda x: np.argmax(x)), y_pred))\n",
      "# yyy = np.array(map((lambda x: np.argmax(x)), yt_6))\n",
      "\n",
      "# print metrics.classification_report((yyy), (y_pred))"
     ],
     "language": "python",
     "metadata": {},
     "outputs": []
    },
    {
     "cell_type": "markdown",
     "metadata": {},
     "source": [
      "## load model"
     ]
    },
    {
     "cell_type": "code",
     "collapsed": false,
     "input": [
      "# import cPickle as pickle\n",
      "\n",
      "# with open('./Lasagne_2nd.pickle', 'rb') as f:\n",
      "#     specialists = pickle.load(f)\n"
     ],
     "language": "python",
     "metadata": {},
     "outputs": []
    },
    {
     "cell_type": "markdown",
     "metadata": {},
     "source": [
      "## submit test data "
     ]
    },
    {
     "cell_type": "code",
     "collapsed": false,
     "input": [
      "import pandas as pd\n",
      "\n",
      "xx_test, yy_test = load_svmlight_file(\"./phase1/new/new2/hogtestdatawithnoAnswer.dat\")"
     ],
     "language": "python",
     "metadata": {},
     "outputs": []
    },
    {
     "cell_type": "code",
     "collapsed": false,
     "input": [
      "xx_test.shape"
     ],
     "language": "python",
     "metadata": {},
     "outputs": []
    },
    {
     "cell_type": "code",
     "collapsed": false,
     "input": [
      "xx_test = np.array(xx_test.todense()).reshape(-1,)\n",
      "# xx_train = xx_train.dtype(np.float32)\n",
      "xx_test = np.float32(xx_test)\n",
      "xx_test = xx_test.reshape(7472,144)\n",
      "\n",
      "xx_test = xx_test.astype(np.float32)\n",
      "\n",
      "def one_hot(x,n):\n",
      "    if type(x) == list:\n",
      "            x = np.array(x)\n",
      "    x = x.flatten()\n",
      "    o_h = np.zeros((len(x),n))\n",
      "    o_h[np.arange(len(x)),x] = 1\n",
      "    return o_h\n",
      "\n",
      "yy_test = yy_test.astype(int32)    \n",
      "yy_test = one_hot(yy_test, 32)\n",
      "yy_test = yy_test.astype(np.float32)\n",
      "\n",
      "Xt, yt = transform_6(xx_test, yy_test)\n",
      "result = net7.predict(Xt)\n",
      "result = np.array(map((lambda x: np.argmax(x)), result))\n",
      "result.astype(int)"
     ],
     "language": "python",
     "metadata": {},
     "outputs": []
    },
    {
     "cell_type": "code",
     "collapsed": false,
     "input": [
      "df_submission = pd.DataFrame( result.astype(int) ,columns=None)\n",
      "\n",
      "df_submission.to_csv('./Lasagne_11th_hog.dat', index=None)"
     ],
     "language": "python",
     "metadata": {},
     "outputs": []
    }
   ],
   "metadata": {}
  }
 ]
}