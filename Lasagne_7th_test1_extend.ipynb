{
 "metadata": {
  "name": ""
 },
 "nbformat": 3,
 "nbformat_minor": 0,
 "worksheets": [
  {
   "cells": [
    {
     "cell_type": "markdown",
     "metadata": {},
     "source": [
      "## Lasagne code try and edit"
     ]
    },
    {
     "cell_type": "markdown",
     "metadata": {},
     "source": [
      "## input our data"
     ]
    },
    {
     "cell_type": "code",
     "collapsed": false,
     "input": [
      "import numpy as np\n",
      "import math\n",
      "import scipy.linalg as sp\n",
      "from sklearn.datasets import load_svmlight_file"
     ],
     "language": "python",
     "metadata": {},
     "outputs": [],
     "prompt_number": 1
    },
    {
     "cell_type": "code",
     "collapsed": false,
     "input": [
      "xx_train, y = load_svmlight_file(\"./phase1/new/aug_train_50_test1_ans_combine_less.dat\")\n",
      "# print type(xx_train)\n",
      "print xx_train.shape\n",
      "xx_train = np.array(xx_train.todense()).reshape(-1,)\n",
      "# xx_train = xx_train.dtype(np.float32)\n",
      "xx_train = np.float32(xx_train)\n",
      "xx_train = xx_train.reshape(8232,2500)\n",
      "# print xx_train.shape\n",
      "print type(xx_train)"
     ],
     "language": "python",
     "metadata": {},
     "outputs": [
      {
       "output_type": "stream",
       "stream": "stdout",
       "text": [
        "(8232, 2500)\n",
        "<type 'numpy.ndarray'>"
       ]
      },
      {
       "output_type": "stream",
       "stream": "stdout",
       "text": [
        "\n"
       ]
      }
     ],
     "prompt_number": 2
    },
    {
     "cell_type": "code",
     "collapsed": false,
     "input": [
      "sizee = 50"
     ],
     "language": "python",
     "metadata": {},
     "outputs": [],
     "prompt_number": 3
    },
    {
     "cell_type": "code",
     "collapsed": false,
     "input": [
      "# pylab.ion()\n",
      "# pylab.imshow(xxxx[0],cmap=cm.gray)\n",
      "x = xx_train.reshape(8232,sizee**2)\n",
      "x = x.astype(np.float32)\n",
      "\n",
      "print x.shape\n",
      "print type(x)"
     ],
     "language": "python",
     "metadata": {},
     "outputs": [
      {
       "output_type": "stream",
       "stream": "stdout",
       "text": [
        "(8232, 2500)\n",
        "<type 'numpy.ndarray'>\n"
       ]
      }
     ],
     "prompt_number": 4
    },
    {
     "cell_type": "code",
     "collapsed": false,
     "input": [
      "def one_hot(x,n):\n",
      "    if type(x) == list:\n",
      "            x = np.array(x)\n",
      "    x = x.flatten()\n",
      "    o_h = np.zeros((len(x),n))\n",
      "    o_h[np.arange(len(x)),x] = 1\n",
      "    return o_h\n",
      "\n",
      "y = y.astype(int32)    \n",
      "y = one_hot(y, 32)\n",
      "y = y.astype(np.float32)\n",
      "\n",
      "print y.shape"
     ],
     "language": "python",
     "metadata": {},
     "outputs": [
      {
       "output_type": "stream",
       "stream": "stdout",
       "text": [
        "(8232, 32)\n"
       ]
      }
     ],
     "prompt_number": 5
    },
    {
     "cell_type": "markdown",
     "metadata": {},
     "source": [
      "## split data"
     ]
    },
    {
     "cell_type": "code",
     "collapsed": false,
     "input": [
      "from sklearn import cross_validation as cv\n",
      "from sklearn import svm\n",
      "from sklearn import metrics\n",
      "from sklearn import grid_search as gs"
     ],
     "language": "python",
     "metadata": {},
     "outputs": []
    },
    {
     "cell_type": "code",
     "collapsed": false,
     "input": [
      "X_train, X_test, y_train, y_test = cv.train_test_split(x, y, test_size=0.2)"
     ],
     "language": "python",
     "metadata": {},
     "outputs": []
    },
    {
     "cell_type": "code",
     "collapsed": false,
     "input": [
      "print X_train.shape\n",
      "print X_test.shape\n",
      "print y_train.shape\n",
      "print y_test.shape"
     ],
     "language": "python",
     "metadata": {},
     "outputs": []
    },
    {
     "cell_type": "markdown",
     "metadata": {},
     "source": [
      "## First model of Lasagne with single hidden layer"
     ]
    },
    {
     "cell_type": "code",
     "collapsed": false,
     "input": [
      "# add to kfkd.py\n",
      "from lasagne import layers\n",
      "from lasagne.updates import nesterov_momentum\n",
      "from nolearn.lasagne import NeuralNet\n",
      "\n",
      "net1 = NeuralNet(\n",
      "    layers=[  # three layers: one hidden layer\n",
      "        ('input', layers.InputLayer),\n",
      "        ('hidden', layers.DenseLayer),\n",
      "        ('output', layers.DenseLayer),\n",
      "        ],\n",
      "    # layer parameters:\n",
      "    input_shape=(128, 2500),  # 128 images per batch times 100x100 input pixels\n",
      "    hidden_num_units=300,  # number of units in hidden layer\n",
      "    output_nonlinearity=None,  # output layer uses identity function\n",
      "    output_num_units=32,  # 30 target values\n",
      "\n",
      "    # optimization method:\n",
      "    upate=nesterov_momentum,\n",
      "    update_learning_rate=0.01,\n",
      "    update_momentum=0.9,\n",
      "\n",
      "    # regression=False,  # flag to indicate we're dealing with regression problem\n",
      "    regression=True,  # flag to indicate we're dealing with regression problem\n",
      "    max_epochs=1000,  # we want to train this many epochs\n",
      "    verbose=1,\n",
      "    )\n"
     ],
     "language": "python",
     "metadata": {},
     "outputs": [
      {
       "output_type": "stream",
       "stream": "stderr",
       "text": [
        "Using gpu device 0: GRID K520\n"
       ]
      }
     ],
     "prompt_number": 6
    },
    {
     "cell_type": "code",
     "collapsed": false,
     "input": [
      "%time net1.fit(X_train, y_train)"
     ],
     "language": "python",
     "metadata": {},
     "outputs": []
    },
    {
     "cell_type": "code",
     "collapsed": false,
     "input": [
      "train_loss = np.array([i[\"train_loss\"] for i in net1.train_history_])\n",
      "valid_loss = np.array([i[\"valid_loss\"] for i in net1.train_history_])\n",
      "pyplot.plot(train_loss, linewidth=3, label=\"train\")\n",
      "pyplot.plot(valid_loss, linewidth=3, label=\"valid\")\n",
      "pyplot.grid()\n",
      "pyplot.legend()\n",
      "pyplot.xlabel(\"epoch\")\n",
      "pyplot.ylabel(\"loss\")\n",
      "pyplot.ylim(2.5e-2, 0.32e-1)\n",
      "# pyplot.yscale(\"log\")\n",
      "pyplot.show()"
     ],
     "language": "python",
     "metadata": {},
     "outputs": []
    },
    {
     "cell_type": "code",
     "collapsed": false,
     "input": [
      "from sklearn import metrics\n",
      "\n",
      "# overfit result, should use validation result\n",
      "y_pred = net1.predict(X_test)\n",
      "# print y_pred[1]\n",
      "# np.argmax(y_pred[i]),np.argmax(y[i])\n",
      "y_pred = np.array(map((lambda x: np.argmax(x)), y_pred))\n",
      "yyy = np.array(map((lambda x: np.argmax(x)), y_test))\n",
      "\n",
      "print metrics.classification_report((yyy), (y_pred))"
     ],
     "language": "python",
     "metadata": {},
     "outputs": []
    },
    {
     "cell_type": "markdown",
     "metadata": {},
     "source": [
      "## NET 6 in the rock"
     ]
    },
    {
     "cell_type": "code",
     "collapsed": false,
     "input": [
      "import theano\n",
      "from lasagne import layers\n",
      "from lasagne.updates import nesterov_momentum\n",
      "from nolearn.lasagne import NeuralNet\n",
      "\n",
      "def float32(k):\n",
      "    return np.cast['float32'](k)\n",
      "\n",
      "class AdjustVariable(object):\n",
      "    def __init__(self, name, start=0.03, stop=0.001):\n",
      "        self.name = name\n",
      "        self.start, self.stop = start, stop\n",
      "        self.ls = None\n",
      "\n",
      "    def __call__(self, nn, train_history):\n",
      "        if self.ls is None:\n",
      "            self.ls = np.linspace(self.start, self.stop, nn.max_epochs)\n",
      "\n",
      "        epoch = train_history[-1]['epoch']\n",
      "        new_value = float32(self.ls[epoch - 1])\n",
      "        getattr(nn, self.name).set_value(new_value)\n",
      "\n",
      "class EarlyStopping(object):\n",
      "    def __init__(self, patience=100):\n",
      "        self.patience = patience\n",
      "        self.best_valid = np.inf\n",
      "        self.best_valid_epoch = 0\n",
      "        self.best_weights = None\n",
      "\n",
      "    def __call__(self, nn, train_history):\n",
      "        current_valid = train_history[-1]['valid_loss']\n",
      "        current_epoch = train_history[-1]['epoch']\n",
      "        if current_valid < self.best_valid:\n",
      "            self.best_valid = current_valid\n",
      "            self.best_valid_epoch = current_epoch\n",
      "            self.best_weights = [w.get_value() for w in nn.get_all_params()]\n",
      "        elif self.best_valid_epoch + self.patience < current_epoch:\n",
      "            print(\"Early stopping.\")\n",
      "            print(\"Best valid loss was {:.6f} at epoch {}.\".format(\n",
      "                self.best_valid, self.best_valid_epoch))\n",
      "            nn.load_weights_from(self.best_weights)\n",
      "            raise StopIteration()\n",
      "        \n",
      "# use the cuda-convnet implementations of conv and max-pool layer\n",
      "Conv2DLayer = layers.cuda_convnet.Conv2DCCLayer\n",
      "MaxPool2DLayer = layers.cuda_convnet.MaxPool2DCCLayer\n",
      "\n",
      "net7 = NeuralNet(\n",
      "    layers=[\n",
      "        ('input', layers.InputLayer),\n",
      "        ('conv1', Conv2DLayer),\n",
      "        ('pool1', MaxPool2DLayer),\n",
      "        ('dropout1', layers.DropoutLayer),  # !\n",
      "        ('conv2', Conv2DLayer),\n",
      "        ('pool2', MaxPool2DLayer),\n",
      "        ('dropout2', layers.DropoutLayer),  # !\n",
      "        ('conv3', Conv2DLayer),\n",
      "        ('pool3', MaxPool2DLayer),\n",
      "        ('dropout3', layers.DropoutLayer),  # !\n",
      "        ('hidden4', layers.DenseLayer),\n",
      "        ('dropout4', layers.DropoutLayer),  # !\n",
      "        ('hidden5', layers.DenseLayer),\n",
      "        ('output', layers.DenseLayer),\n",
      "        ],\n",
      "    input_shape=(128, 1, 50,50),\n",
      "    conv1_num_filters=32, conv1_filter_size=(3, 3), pool1_ds=(2, 2),\n",
      "    # dropout1_p=0.1, # !\n",
      "    dropout1_p=0.3,  # !\n",
      "    conv2_num_filters=64, conv2_filter_size=(2, 2), pool2_ds=(2, 2),\n",
      "    # dropout2_p=0.2,  # !\n",
      "    dropout2_p=0.4,  # !\n",
      "    conv3_num_filters=128, conv3_filter_size=(2, 2), pool3_ds=(2, 2),\n",
      "    # dropout3_p=0.3,  # !\n",
      "    dropout3_p=0.5,  # !\n",
      "    hidden4_num_units=1000,\n",
      "    # hidden4_num_units=1000,  # !\n",
      "    dropout4_p=0.5,  # !\n",
      "    hidden5_num_units=1000,\n",
      "    # hidden5_num_units=1000,  # !\n",
      "    output_num_units=32, output_nonlinearity=None,\n",
      "\n",
      "    update_learning_rate=theano.shared(float32(0.03)),\n",
      "    update_momentum=theano.shared(float32(0.9)),\n",
      "\n",
      "    regression=True,\n",
      "#     batch_iterator=FlipBatchIterator(batch_size=128),\n",
      "    on_epoch_finished=[\n",
      "        AdjustVariable('update_learning_rate', start=0.03, stop=0.0001),\n",
      "        AdjustVariable('update_momentum', start=0.9, stop=0.999),\n",
      "        EarlyStopping(patience=200),\n",
      "        ],\n",
      "    # max_epochs=3000,\n",
      "    max_epochs=10000,\n",
      "    verbose=1,\n",
      "    )"
     ],
     "language": "python",
     "metadata": {},
     "outputs": [],
     "prompt_number": 7
    },
    {
     "cell_type": "code",
     "collapsed": false,
     "input": [
      "def transform_6(X,y):\n",
      "    X = X.reshape(-1, 50,50, 1)\n",
      "    X = X.transpose(0, 3, 1, 2)\n",
      "    return X, y\n",
      "\n",
      "# X_train = X_train.reshape(-1,1,sizee,sizee)\n",
      "# X_test = X_test.reshape(-1, 1,sizee,sizee)\n",
      "# X_train.shape"
     ],
     "language": "python",
     "metadata": {},
     "outputs": [],
     "prompt_number": 8
    },
    {
     "cell_type": "code",
     "collapsed": false,
     "input": [
      "import sys\n",
      "sys.setrecursionlimit(10000)\n",
      "\n",
      "X_6, y_6 = transform_6(X_train, y_train)\n",
      "%time net7.fit(X_6, y_6)\n",
      "\n",
      "import cPickle as pickle\n",
      "with open('Lasagne_6th_drop_change_extend.pickle', 'wb') as f:\n",
      "    pickle.dump(net7, f, -1)"
     ],
     "language": "python",
     "metadata": {},
     "outputs": []
    },
    {
     "cell_type": "markdown",
     "metadata": {},
     "source": [
      "# start from here!!!!!!!!!!!!!!!!!!!!!\n",
      "\n",
      "## load model from Lasagne_6th_drop_change_extend.pickle extend with test1 answer"
     ]
    },
    {
     "cell_type": "code",
     "collapsed": false,
     "input": [
      "import cPickle as pickle\n",
      "with open('./Lasagne_6th_drop_change_extend.pickle', 'rb') as f:\n",
      "    net7 = pickle.load(f)\n"
     ],
     "language": "python",
     "metadata": {},
     "outputs": [],
     "prompt_number": 9
    },
    {
     "cell_type": "code",
     "collapsed": false,
     "input": [
      "# from sklearn.base import clone\n",
      "# model2 = clone(net7)\n",
      "# model2.load_weights_from(model)"
     ],
     "language": "python",
     "metadata": {},
     "outputs": []
    },
    {
     "cell_type": "code",
     "collapsed": false,
     "input": [
      "# model\n"
     ],
     "language": "python",
     "metadata": {},
     "outputs": [],
     "prompt_number": "*"
    },
    {
     "cell_type": "code",
     "collapsed": false,
     "input": [
      "train_loss_6 = np.array([i[\"train_loss\"] for i in net7.train_history_])\n",
      "valid_loss_6 = np.array([i[\"valid_loss\"] for i in net7.train_history_])\n",
      "pyplot.plot(train_loss_6, linewidth=3, label=\"train\")\n",
      "pyplot.plot(valid_loss_6, linewidth=3, label=\"valid\")\n",
      "pyplot.grid()\n",
      "pyplot.legend()\n",
      "pyplot.xlabel(\"epoch\")\n",
      "pyplot.ylabel(\"loss\")\n",
      "pyplot.ylim(0.1e-2, 3.2e-2)\n",
      "# pyplot.yscale(\"log\")\n",
      "pyplot.show()"
     ],
     "language": "python",
     "metadata": {},
     "outputs": [
      {
       "metadata": {},
       "output_type": "display_data",
       "png": "[encoded data removed]",
       "text": [
        "<matplotlib.figure.Figure at 0x7f3a35315e50>"
       ]
      }
     ],
     "prompt_number": 10
    },
    {
     "cell_type": "code",
     "collapsed": false,
     "input": [
      "net7.dropout1_p = 0.2\n",
      "net7.dropout2_p = 0.3\n",
      "net7.dropout3_p = 0.4"
     ],
     "language": "python",
     "metadata": {},
     "outputs": [],
     "prompt_number": 11
    },
    {
     "cell_type": "code",
     "collapsed": false,
     "input": [
      "import sys\n",
      "sys.setrecursionlimit(10000)\n",
      "\n",
      "X_6, y_6 = transform_6(x, y)\n",
      "%time net7.fit(X_6, y_6)\n",
      "\n",
      "import cPickle as pickle\n",
      "with open('Lasagne_7th_test1_extend.pickle', 'wb') as f:\n",
      "    pickle.dump(net7, f, -1)"
     ],
     "language": "python",
     "metadata": {},
     "outputs": [
      {
       "output_type": "stream",
       "stream": "stdout",
       "text": [
        "  InputLayer        \t(128, 1, 50, 50)    \tproduces    2500 outputs\n",
        "  Conv2DCCLayer     \t(128, 32, 48, 48)   \tproduces   73728 outputs\n",
        "  MaxPool2DCCLayer  \t(128, 32, 24, 24)   \tproduces   18432 outputs\n",
        "  DropoutLayer      \t(128, 32, 24, 24)   \tproduces   18432 outputs\n",
        "  Conv2DCCLayer     \t(128, 64, 23, 23)   \tproduces   33856 outputs\n",
        "  MaxPool2DCCLayer  \t(128, 64, 12, 12)   \tproduces    9216 outputs\n",
        "  DropoutLayer      \t(128, 64, 12, 12)   \tproduces    9216 outputs\n",
        "  Conv2DCCLayer     \t(128, 128, 11, 11)  \tproduces   15488 outputs\n",
        "  MaxPool2DCCLayer  \t(128, 128, 6, 6)    \tproduces    4608 outputs\n",
        "  DropoutLayer      \t(128, 128, 6, 6)    \tproduces    4608 outputs\n",
        "  DenseLayer        \t(128, 1000)         \tproduces    1000 outputs\n",
        "  DropoutLayer      \t(128, 1000)         \tproduces    1000 outputs\n",
        "  DenseLayer        \t(128, 1000)         \tproduces    1000 outputs\n",
        "  DenseLayer        \t(128, 32)           \tproduces      32 outputs\n",
        "\n",
        " Epoch  |  Train loss  |  Valid loss  |  Train / Val  |  Valid acc  |  Dur\n",
        "--------|--------------|--------------|---------------|-------------|-------"
       ]
      },
      {
       "output_type": "stream",
       "stream": "stdout",
       "text": [
        "\n",
        "     1  |  \u001b[94m  0.009739\u001b[0m  |  \u001b[32m  0.007763\u001b[0m  |     1.254515  |             |  2.8s"
       ]
      },
      {
       "output_type": "stream",
       "stream": "stdout",
       "text": [
        "\n",
        "     2  |  \u001b[94m  0.009416\u001b[0m  |  \u001b[32m  0.007731\u001b[0m  |     1.217933  |             |  2.8s"
       ]
      },
      {
       "output_type": "stream",
       "stream": "stdout",
       "text": [
        "\n",
        "     3  |  \u001b[94m  0.009337\u001b[0m  |  \u001b[32m  0.007658\u001b[0m  |     1.219325  |             |  2.8s"
       ]
      },
      {
       "output_type": "stream",
       "stream": "stdout",
       "text": [
        "\n",
        "     4  |  \u001b[94m  0.009306\u001b[0m  |  \u001b[32m  0.007626\u001b[0m  |     1.220285  |             |  2.8s"
       ]
      },
      {
       "output_type": "stream",
       "stream": "stdout",
       "text": [
        "\n",
        "     5  |  \u001b[94m  0.009197\u001b[0m  |  \u001b[32m  0.007592\u001b[0m  |     1.211317  |             |  2.8s"
       ]
      },
      {
       "output_type": "stream",
       "stream": "stdout",
       "text": [
        "\n",
        "     6  |  \u001b[94m  0.009164\u001b[0m  |    0.007593  |     1.206786  |             |  2.8s"
       ]
      },
      {
       "output_type": "stream",
       "stream": "stdout",
       "text": [
        "\n",
        "     7  |  \u001b[94m  0.009002\u001b[0m  |  \u001b[32m  0.007564\u001b[0m  |     1.190205  |             |  2.8s"
       ]
      },
      {
       "output_type": "stream",
       "stream": "stdout",
       "text": [
        "\n",
        "     8  |    0.009037  |  \u001b[32m  0.007438\u001b[0m  |     1.214982  |             |  2.8s"
       ]
      },
      {
       "output_type": "stream",
       "stream": "stdout",
       "text": [
        "\n",
        "     9  |  \u001b[94m  0.008979\u001b[0m  |    0.007515  |     1.194816  |             |  2.8s"
       ]
      },
      {
       "output_type": "stream",
       "stream": "stdout",
       "text": [
        "\n",
        "    10  |    0.009004  |    0.007499  |     1.200730  |             |  2.8s"
       ]
      },
      {
       "output_type": "stream",
       "stream": "stdout",
       "text": [
        "\n",
        "    11  |  \u001b[94m  0.008887\u001b[0m  |    0.007504  |     1.184194  |             |  2.8s"
       ]
      },
      {
       "output_type": "stream",
       "stream": "stdout",
       "text": [
        "\n",
        "    12  |  \u001b[94m  0.008874\u001b[0m  |    0.007494  |     1.184066  |             |  2.8s"
       ]
      },
      {
       "output_type": "stream",
       "stream": "stdout",
       "text": [
        "\n",
        "    13  |  \u001b[94m  0.008835\u001b[0m  |  \u001b[32m  0.007412\u001b[0m  |     1.191987  |             |  2.8s"
       ]
      },
      {
       "output_type": "stream",
       "stream": "stdout",
       "text": [
        "\n",
        "    14  |  \u001b[94m  0.008694\u001b[0m  |  \u001b[32m  0.007366\u001b[0m  |     1.180327  |             |  2.8s"
       ]
      },
      {
       "output_type": "stream",
       "stream": "stdout",
       "text": [
        "\n",
        "    15  |    0.008773  |    0.007375  |     1.189502  |             |  2.8s"
       ]
      },
      {
       "output_type": "stream",
       "stream": "stdout",
       "text": [
        "\n",
        "    16  |    0.008795  |    0.007379  |     1.191882  |             |  2.8s"
       ]
      },
      {
       "output_type": "stream",
       "stream": "stdout",
       "text": [
        "\n",
        "    17  |  \u001b[94m  0.008485\u001b[0m  |  \u001b[32m  0.007335\u001b[0m  |     1.156880  |             |  2.8s"
       ]
      },
      {
       "output_type": "stream",
       "stream": "stdout",
       "text": [
        "\n",
        "    18  |    0.008658  |  \u001b[32m  0.007281\u001b[0m  |     1.189197  |             |  2.8s"
       ]
      },
      {
       "output_type": "stream",
       "stream": "stdout",
       "text": [
        "\n",
        "    19  |    0.008594  |    0.007402  |     1.161012  |             |  2.8s"
       ]
      },
      {
       "output_type": "stream",
       "stream": "stdout",
       "text": [
        "\n",
        "    20  |    0.008509  |    0.007395  |     1.150649  |             |  2.8s"
       ]
      },
      {
       "output_type": "stream",
       "stream": "stdout",
       "text": [
        "\n",
        "    21  |    0.008523  |    0.007373  |     1.156077  |             |  2.8s"
       ]
      },
      {
       "output_type": "stream",
       "stream": "stdout",
       "text": [
        "\n",
        "    22  |  \u001b[94m  0.008296\u001b[0m  |    0.007374  |     1.125058  |             |  2.8s"
       ]
      },
      {
       "output_type": "stream",
       "stream": "stdout",
       "text": [
        "\n",
        "    23  |    0.008382  |    0.007339  |     1.142145  |             |  2.8s"
       ]
      },
      {
       "output_type": "stream",
       "stream": "stdout",
       "text": [
        "\n",
        "    24  |    0.008411  |    0.007318  |     1.149439  |             |  2.8s"
       ]
      },
      {
       "output_type": "stream",
       "stream": "stdout",
       "text": [
        "\n",
        "    25  |    0.008353  |    0.007303  |     1.143752  |             |  2.8s"
       ]
      },
      {
       "output_type": "stream",
       "stream": "stdout",
       "text": [
        "\n",
        "    26  |    0.008348  |    0.007289  |     1.145305  |             |  2.8s"
       ]
      },
      {
       "output_type": "stream",
       "stream": "stdout",
       "text": [
        "\n",
        "    27  |  \u001b[94m  0.008225\u001b[0m  |    0.007322  |     1.123218  |             |  2.8s"
       ]
      },
      {
       "output_type": "stream",
       "stream": "stdout",
       "text": [
        "\n",
        "    28  |  \u001b[94m  0.008224\u001b[0m  |    0.007295  |     1.127366  |             |  2.8s"
       ]
      },
      {
       "output_type": "stream",
       "stream": "stdout",
       "text": [
        "\n",
        "    29  |  \u001b[94m  0.008102\u001b[0m  |  \u001b[32m  0.007259\u001b[0m  |     1.116093  |             |  2.8s"
       ]
      },
      {
       "output_type": "stream",
       "stream": "stdout",
       "text": [
        "\n",
        "    30  |    0.008286  |  \u001b[32m  0.007246\u001b[0m  |     1.143638  |             |  2.8s"
       ]
      },
      {
       "output_type": "stream",
       "stream": "stdout",
       "text": [
        "\n",
        "    31  |    0.008177  |    0.007289  |     1.121815  |             |  2.8s"
       ]
      },
      {
       "output_type": "stream",
       "stream": "stdout",
       "text": [
        "\n",
        "    32  |    0.008268  |    0.007277  |     1.136212  |             |  2.8s"
       ]
      },
      {
       "output_type": "stream",
       "stream": "stdout",
       "text": [
        "\n",
        "    33  |    0.008237  |  \u001b[32m  0.007233\u001b[0m  |     1.138739  |             |  2.8s"
       ]
      },
      {
       "output_type": "stream",
       "stream": "stdout",
       "text": [
        "\n",
        "    34  |  \u001b[94m  0.008069\u001b[0m  |  \u001b[32m  0.007191\u001b[0m  |     1.122217  |             |  2.8s"
       ]
      },
      {
       "output_type": "stream",
       "stream": "stdout",
       "text": [
        "\n",
        "    35  |    0.008181  |    0.007235  |     1.130669  |             |  2.8s"
       ]
      },
      {
       "output_type": "stream",
       "stream": "stdout",
       "text": [
        "\n",
        "    36  |  \u001b[94m  0.008026\u001b[0m  |    0.007199  |     1.114866  |             |  2.8s"
       ]
      },
      {
       "output_type": "stream",
       "stream": "stdout",
       "text": [
        "\n",
        "    37  |    0.008131  |    0.007228  |     1.124866  |             |  2.8s"
       ]
      },
      {
       "output_type": "stream",
       "stream": "stdout",
       "text": [
        "\n",
        "    38  |    0.008053  |    0.007251  |     1.110523  |             |  2.8s"
       ]
      },
      {
       "output_type": "stream",
       "stream": "stdout",
       "text": [
        "\n",
        "    39  |  \u001b[94m  0.007917\u001b[0m  |  \u001b[32m  0.007158\u001b[0m  |     1.106056  |             |  2.8s"
       ]
      },
      {
       "output_type": "stream",
       "stream": "stdout",
       "text": [
        "\n",
        "    40  |    0.007933  |    0.007201  |     1.101660  |             |  2.8s"
       ]
      },
      {
       "output_type": "stream",
       "stream": "stdout",
       "text": [
        "\n",
        "    41  |  \u001b[94m  0.007808\u001b[0m  |    0.007160  |     1.090437  |             |  2.8s"
       ]
      },
      {
       "output_type": "stream",
       "stream": "stdout",
       "text": [
        "\n",
        "    42  |    0.007895  |    0.007212  |     1.094620  |             |  2.8s"
       ]
      },
      {
       "output_type": "stream",
       "stream": "stdout",
       "text": [
        "\n",
        "    43  |    0.007900  |  \u001b[32m  0.007125\u001b[0m  |     1.108805  |             |  2.8s"
       ]
      },
      {
       "output_type": "stream",
       "stream": "stdout",
       "text": [
        "\n",
        "    44  |  \u001b[94m  0.007805\u001b[0m  |    0.007199  |     1.084170  |             |  2.8s"
       ]
      },
      {
       "output_type": "stream",
       "stream": "stdout",
       "text": [
        "\n",
        "    45  |    0.007807  |    0.007166  |     1.089521  |             |  2.8s"
       ]
      },
      {
       "output_type": "stream",
       "stream": "stdout",
       "text": [
        "\n",
        "    46  |    0.007901  |    0.007166  |     1.102490  |             |  2.8s"
       ]
      },
      {
       "output_type": "stream",
       "stream": "stdout",
       "text": [
        "\n",
        "    47  |  \u001b[94m  0.007749\u001b[0m  |  \u001b[32m  0.007124\u001b[0m  |     1.087782  |             |  2.8s"
       ]
      },
      {
       "output_type": "stream",
       "stream": "stdout",
       "text": [
        "\n",
        "    48  |    0.007772  |    0.007141  |     1.088487  |             |  2.8s"
       ]
      },
      {
       "output_type": "stream",
       "stream": "stdout",
       "text": [
        "\n",
        "    49  |    0.007770  |    0.007163  |     1.084783  |             |  2.8s"
       ]
      },
      {
       "output_type": "stream",
       "stream": "stdout",
       "text": [
        "\n",
        "    50  |    0.007770  |    0.007139  |     1.088460  |             |  2.8s"
       ]
      },
      {
       "output_type": "stream",
       "stream": "stdout",
       "text": [
        "\n",
        "    51  |    0.007813  |  \u001b[32m  0.007049\u001b[0m  |     1.108335  |             |  2.8s"
       ]
      },
      {
       "output_type": "stream",
       "stream": "stdout",
       "text": [
        "\n",
        "    52  |    0.007765  |    0.007087  |     1.095675  |             |  2.8s"
       ]
      },
      {
       "output_type": "stream",
       "stream": "stdout",
       "text": [
        "\n",
        "    53  |  \u001b[94m  0.007709\u001b[0m  |    0.007132  |     1.081027  |             |  2.8s"
       ]
      },
      {
       "output_type": "stream",
       "stream": "stdout",
       "text": [
        "\n",
        "    54  |    0.007714  |    0.007096  |     1.087111  |             |  2.8s"
       ]
      },
      {
       "output_type": "stream",
       "stream": "stdout",
       "text": [
        "\n",
        "    55  |  \u001b[94m  0.007505\u001b[0m  |    0.007097  |     1.057483  |             |  2.8s"
       ]
      },
      {
       "output_type": "stream",
       "stream": "stdout",
       "text": [
        "\n",
        "    56  |    0.007571  |    0.007090  |     1.067821  |             |  2.8s"
       ]
      },
      {
       "output_type": "stream",
       "stream": "stdout",
       "text": [
        "\n",
        "    57  |    0.007676  |    0.007069  |     1.085825  |             |  2.8s"
       ]
      },
      {
       "output_type": "stream",
       "stream": "stdout",
       "text": [
        "\n",
        "    58  |    0.007586  |    0.007120  |     1.065459  |             |  2.8s"
       ]
      },
      {
       "output_type": "stream",
       "stream": "stdout",
       "text": [
        "\n",
        "    59  |    0.007612  |    0.007095  |     1.072833  |             |  2.8s"
       ]
      },
      {
       "output_type": "stream",
       "stream": "stdout",
       "text": [
        "\n",
        "    60  |    0.007631  |    0.007088  |     1.076709  |             |  2.8s"
       ]
      },
      {
       "output_type": "stream",
       "stream": "stdout",
       "text": [
        "\n",
        "    61  |  \u001b[94m  0.007432\u001b[0m  |    0.007085  |     1.048992  |             |  2.8s"
       ]
      },
      {
       "output_type": "stream",
       "stream": "stdout",
       "text": [
        "\n",
        "    62  |    0.007580  |  \u001b[32m  0.007047\u001b[0m  |     1.075589  |             |  2.8s"
       ]
      },
      {
       "output_type": "stream",
       "stream": "stdout",
       "text": [
        "\n",
        "    63  |    0.007537  |  \u001b[32m  0.007028\u001b[0m  |     1.072403  |             |  2.8s"
       ]
      },
      {
       "output_type": "stream",
       "stream": "stdout",
       "text": [
        "\n",
        "    64  |    0.007542  |    0.007081  |     1.065074  |             |  2.8s"
       ]
      },
      {
       "output_type": "stream",
       "stream": "stdout",
       "text": [
        "\n",
        "    65  |    0.007468  |    0.007045  |     1.060016  |             |  2.8s"
       ]
      },
      {
       "output_type": "stream",
       "stream": "stdout",
       "text": [
        "\n",
        "    66  |    0.007499  |  \u001b[32m  0.007024\u001b[0m  |     1.067606  |             |  2.8s"
       ]
      },
      {
       "output_type": "stream",
       "stream": "stdout",
       "text": [
        "\n",
        "    67  |    0.007441  |    0.007050  |     1.055410  |             |  2.8s"
       ]
      },
      {
       "output_type": "stream",
       "stream": "stdout",
       "text": [
        "\n",
        "    68  |  \u001b[94m  0.007427\u001b[0m  |    0.007045  |     1.054288  |             |  2.8s"
       ]
      },
      {
       "output_type": "stream",
       "stream": "stdout",
       "text": [
        "\n",
        "    69  |  \u001b[94m  0.007415\u001b[0m  |  \u001b[32m  0.007011\u001b[0m  |     1.057562  |             |  2.8s"
       ]
      },
      {
       "output_type": "stream",
       "stream": "stdout",
       "text": [
        "\n",
        "    70  |    0.007437  |    0.007013  |     1.060566  |             |  2.8s"
       ]
      },
      {
       "output_type": "stream",
       "stream": "stdout",
       "text": [
        "\n",
        "    71  |  \u001b[94m  0.007336\u001b[0m  |    0.007044  |     1.041506  |             |  2.8s"
       ]
      },
      {
       "output_type": "stream",
       "stream": "stdout",
       "text": [
        "\n",
        "    72  |    0.007372  |    0.007021  |     1.049997  |             |  2.8s"
       ]
      },
      {
       "output_type": "stream",
       "stream": "stdout",
       "text": [
        "\n",
        "    73  |    0.007384  |    0.007070  |     1.044339  |             |  2.8s"
       ]
      },
      {
       "output_type": "stream",
       "stream": "stdout",
       "text": [
        "\n",
        "    74  |    0.007375  |  \u001b[32m  0.007008\u001b[0m  |     1.052407  |             |  2.8s"
       ]
      },
      {
       "output_type": "stream",
       "stream": "stdout",
       "text": [
        "\n",
        "    75  |  \u001b[94m  0.007311\u001b[0m  |    0.007041  |     1.038252  |             |  2.8s"
       ]
      },
      {
       "output_type": "stream",
       "stream": "stdout",
       "text": [
        "\n",
        "    76  |    0.007351  |    0.007021  |     1.046877  |             |  2.8s"
       ]
      },
      {
       "output_type": "stream",
       "stream": "stdout",
       "text": [
        "\n",
        "    77  |  \u001b[94m  0.007272\u001b[0m  |    0.007014  |     1.036803  |             |  2.8s"
       ]
      },
      {
       "output_type": "stream",
       "stream": "stdout",
       "text": [
        "\n",
        "    78  |    0.007339  |    0.007043  |     1.041947  |             |  2.8s"
       ]
      },
      {
       "output_type": "stream",
       "stream": "stdout",
       "text": [
        "\n",
        "    79  |    0.007278  |    0.007015  |     1.037530  |             |  2.8s"
       ]
      },
      {
       "output_type": "stream",
       "stream": "stdout",
       "text": [
        "\n",
        "    80  |  \u001b[94m  0.007135\u001b[0m  |    0.007024  |     1.015769  |             |  2.8s"
       ]
      },
      {
       "output_type": "stream",
       "stream": "stdout",
       "text": [
        "\n",
        "    81  |    0.007344  |  \u001b[32m  0.006999\u001b[0m  |     1.049408  |             |  2.8s"
       ]
      },
      {
       "output_type": "stream",
       "stream": "stdout",
       "text": [
        "\n",
        "    82  |  \u001b[94m  0.007095\u001b[0m  |    0.007018  |     1.011037  |             |  2.8s"
       ]
      },
      {
       "output_type": "stream",
       "stream": "stdout",
       "text": [
        "\n",
        "    83  |    0.007130  |  \u001b[32m  0.006977\u001b[0m  |     1.021893  |             |  2.8s"
       ]
      },
      {
       "output_type": "stream",
       "stream": "stdout",
       "text": [
        "\n",
        "    84  |    0.007096  |  \u001b[32m  0.006954\u001b[0m  |     1.020464  |             |  2.8s"
       ]
      },
      {
       "output_type": "stream",
       "stream": "stdout",
       "text": [
        "\n",
        "    85  |    0.007248  |    0.007013  |     1.033506  |             |  2.8s"
       ]
      },
      {
       "output_type": "stream",
       "stream": "stdout",
       "text": [
        "\n",
        "    86  |    0.007175  |    0.006985  |     1.027209  |             |  2.8s"
       ]
      },
      {
       "output_type": "stream",
       "stream": "stdout",
       "text": [
        "\n",
        "    87  |  \u001b[94m  0.007028\u001b[0m  |    0.006977  |     1.007255  |             |  2.8s"
       ]
      },
      {
       "output_type": "stream",
       "stream": "stdout",
       "text": [
        "\n",
        "    88  |  \u001b[94m  0.006991\u001b[0m  |  \u001b[32m  0.006939\u001b[0m  |     1.007450  |             |  2.8s"
       ]
      },
      {
       "output_type": "stream",
       "stream": "stdout",
       "text": [
        "\n",
        "    89  |    0.007012  |    0.006969  |     1.006194  |             |  2.8s"
       ]
      },
      {
       "output_type": "stream",
       "stream": "stdout",
       "text": [
        "\n",
        "    90  |    0.007164  |    0.006991  |     1.024709  |             |  2.8s"
       ]
      },
      {
       "output_type": "stream",
       "stream": "stdout",
       "text": [
        "\n",
        "    91  |    0.007170  |    0.007024  |     1.020779  |             |  2.8s"
       ]
      },
      {
       "output_type": "stream",
       "stream": "stdout",
       "text": [
        "\n",
        "    92  |    0.007129  |    0.006941  |     1.026974  |             |  2.8s"
       ]
      },
      {
       "output_type": "stream",
       "stream": "stdout",
       "text": [
        "\n",
        "    93  |    0.007043  |    0.006997  |     1.006617  |             |  2.8s"
       ]
      },
      {
       "output_type": "stream",
       "stream": "stdout",
       "text": [
        "\n",
        "    94  |    0.007077  |  \u001b[32m  0.006916\u001b[0m  |     1.023329  |             |  2.8s"
       ]
      },
      {
       "output_type": "stream",
       "stream": "stdout",
       "text": [
        "\n",
        "    95  |    0.007045  |    0.006942  |     1.014957  |             |  2.8s"
       ]
      },
      {
       "output_type": "stream",
       "stream": "stdout",
       "text": [
        "\n",
        "    96  |    0.007033  |    0.006922  |     1.016040  |             |  2.8s"
       ]
      },
      {
       "output_type": "stream",
       "stream": "stdout",
       "text": [
        "\n",
        "    97  |    0.007008  |  \u001b[32m  0.006901\u001b[0m  |     1.015520  |             |  2.8s"
       ]
      },
      {
       "output_type": "stream",
       "stream": "stdout",
       "text": [
        "\n",
        "    98  |    0.007018  |    0.006959  |     1.008384  |             |  2.8s"
       ]
      },
      {
       "output_type": "stream",
       "stream": "stdout",
       "text": [
        "\n",
        "    99  |    0.006991  |    0.006986  |     1.000651  |             |  2.8s"
       ]
      },
      {
       "output_type": "stream",
       "stream": "stdout",
       "text": [
        "\n",
        "   100  |    0.006995  |    0.006957  |     1.005508  |             |  2.8s"
       ]
      },
      {
       "output_type": "stream",
       "stream": "stdout",
       "text": [
        "\n",
        "   101  |    0.007041  |    0.006917  |     1.017918  |             |  2.8s"
       ]
      },
      {
       "output_type": "stream",
       "stream": "stdout",
       "text": [
        "\n",
        "   102  |  \u001b[94m  0.006884\u001b[0m  |    0.006964  |     0.988423  |             |  2.8s"
       ]
      },
      {
       "output_type": "stream",
       "stream": "stdout",
       "text": [
        "\n",
        "   103  |    0.007046  |    0.006929  |     1.016962  |             |  2.8s"
       ]
      },
      {
       "output_type": "stream",
       "stream": "stdout",
       "text": [
        "\n",
        "   104  |    0.006988  |    0.006932  |     1.008088  |             |  2.8s"
       ]
      },
      {
       "output_type": "stream",
       "stream": "stdout",
       "text": [
        "\n",
        "   105  |    0.007058  |    0.006925  |     1.019176  |             |  2.8s"
       ]
      },
      {
       "output_type": "stream",
       "stream": "stdout",
       "text": [
        "\n",
        "   106  |    0.006905  |  \u001b[32m  0.006900\u001b[0m  |     1.000641  |             |  2.8s"
       ]
      },
      {
       "output_type": "stream",
       "stream": "stdout",
       "text": [
        "\n",
        "   107  |    0.006954  |    0.006917  |     1.005360  |             |  2.8s"
       ]
      },
      {
       "output_type": "stream",
       "stream": "stdout",
       "text": [
        "\n",
        "   108  |    0.006887  |    0.006929  |     0.993848  |             |  2.8s"
       ]
      },
      {
       "output_type": "stream",
       "stream": "stdout",
       "text": [
        "\n",
        "   109  |  \u001b[94m  0.006771\u001b[0m  |    0.006955  |     0.973566  |             |  2.8s"
       ]
      },
      {
       "output_type": "stream",
       "stream": "stdout",
       "text": [
        "\n",
        "   110  |    0.006908  |    0.006977  |     0.990146  |             |  2.8s"
       ]
      },
      {
       "output_type": "stream",
       "stream": "stdout",
       "text": [
        "\n",
        "   111  |  \u001b[94m  0.006710\u001b[0m  |    0.006931  |     0.968079  |             |  2.8s"
       ]
      },
      {
       "output_type": "stream",
       "stream": "stdout",
       "text": [
        "\n",
        "   112  |    0.006790  |    0.006940  |     0.978326  |             |  2.8s"
       ]
      },
      {
       "output_type": "stream",
       "stream": "stdout",
       "text": [
        "\n",
        "   113  |    0.006804  |  \u001b[32m  0.006900\u001b[0m  |     0.986068  |             |  2.8s"
       ]
      },
      {
       "output_type": "stream",
       "stream": "stdout",
       "text": [
        "\n",
        "   114  |    0.006889  |  \u001b[32m  0.006888\u001b[0m  |     1.000142  |             |  2.8s"
       ]
      },
      {
       "output_type": "stream",
       "stream": "stdout",
       "text": [
        "\n",
        "   115  |    0.006785  |    0.006934  |     0.978509  |             |  2.8s"
       ]
      },
      {
       "output_type": "stream",
       "stream": "stdout",
       "text": [
        "\n",
        "   116  |    0.006805  |    0.006903  |     0.985815  |             |  2.8s"
       ]
      },
      {
       "output_type": "stream",
       "stream": "stdout",
       "text": [
        "\n",
        "   117  |  \u001b[94m  0.006694\u001b[0m  |    0.006905  |     0.969467  |             |  2.8s"
       ]
      },
      {
       "output_type": "stream",
       "stream": "stdout",
       "text": [
        "\n",
        "   118  |    0.006856  |    0.006932  |     0.989119  |             |  2.8s"
       ]
      },
      {
       "output_type": "stream",
       "stream": "stdout",
       "text": [
        "\n",
        "   119  |    0.006716  |    0.006929  |     0.969299  |             |  2.8s"
       ]
      },
      {
       "output_type": "stream",
       "stream": "stdout",
       "text": [
        "\n",
        "   120  |    0.006780  |    0.006924  |     0.979218  |             |  2.8s"
       ]
      },
      {
       "output_type": "stream",
       "stream": "stdout",
       "text": [
        "\n",
        "   121  |    0.006732  |    0.006909  |     0.974396  |             |  2.8s"
       ]
      },
      {
       "output_type": "stream",
       "stream": "stdout",
       "text": [
        "\n",
        "   122  |    0.006752  |    0.006919  |     0.975864  |             |  2.8s"
       ]
      },
      {
       "output_type": "stream",
       "stream": "stdout",
       "text": [
        "\n",
        "   123  |    0.006806  |    0.006925  |     0.982749  |             |  2.8s"
       ]
      },
      {
       "output_type": "stream",
       "stream": "stdout",
       "text": [
        "\n",
        "   124  |    0.006721  |  \u001b[32m  0.006853\u001b[0m  |     0.980627  |             |  2.8s"
       ]
      },
      {
       "output_type": "stream",
       "stream": "stdout",
       "text": [
        "\n",
        "   125  |  \u001b[94m  0.006677\u001b[0m  |    0.006911  |     0.966056  |             |  2.8s"
       ]
      },
      {
       "output_type": "stream",
       "stream": "stdout",
       "text": [
        "\n",
        "   126  |  \u001b[94m  0.006653\u001b[0m  |    0.006870  |     0.968381  |             |  2.8s"
       ]
      },
      {
       "output_type": "stream",
       "stream": "stdout",
       "text": [
        "\n",
        "   127  |    0.006726  |    0.006904  |     0.974230  |             |  2.8s"
       ]
      },
      {
       "output_type": "stream",
       "stream": "stdout",
       "text": [
        "\n",
        "   128  |    0.006784  |  \u001b[32m  0.006843\u001b[0m  |     0.991307  |             |  2.8s"
       ]
      },
      {
       "output_type": "stream",
       "stream": "stdout",
       "text": [
        "\n",
        "   129  |    0.006755  |    0.006919  |     0.976371  |             |  2.8s"
       ]
      },
      {
       "output_type": "stream",
       "stream": "stdout",
       "text": [
        "\n",
        "   130  |  \u001b[94m  0.006439\u001b[0m  |    0.006861  |     0.938396  |             |  2.8s"
       ]
      },
      {
       "output_type": "stream",
       "stream": "stdout",
       "text": [
        "\n",
        "   131  |  \u001b[94m  0.006416\u001b[0m  |    0.006920  |     0.927142  |             |  2.8s"
       ]
      },
      {
       "output_type": "stream",
       "stream": "stdout",
       "text": [
        "\n",
        "   132  |    0.006597  |    0.006849  |     0.963199  |             |  2.8s"
       ]
      },
      {
       "output_type": "stream",
       "stream": "stdout",
       "text": [
        "\n",
        "   133  |    0.006598  |    0.006888  |     0.957821  |             |  2.8s"
       ]
      },
      {
       "output_type": "stream",
       "stream": "stdout",
       "text": [
        "\n",
        "   134  |    0.006568  |  \u001b[32m  0.006780\u001b[0m  |     0.968642  |             |  2.8s"
       ]
      },
      {
       "output_type": "stream",
       "stream": "stdout",
       "text": [
        "\n",
        "   135  |    0.006564  |    0.006892  |     0.952462  |             |  2.8s"
       ]
      },
      {
       "output_type": "stream",
       "stream": "stdout",
       "text": [
        "\n",
        "   136  |    0.006576  |    0.006870  |     0.957243  |             |  2.8s"
       ]
      },
      {
       "output_type": "stream",
       "stream": "stdout",
       "text": [
        "\n",
        "   137  |    0.006663  |    0.006889  |     0.967234  |             |  2.8s"
       ]
      },
      {
       "output_type": "stream",
       "stream": "stdout",
       "text": [
        "\n",
        "   138  |    0.006597  |    0.006941  |     0.950497  |             |  2.8s"
       ]
      },
      {
       "output_type": "stream",
       "stream": "stdout",
       "text": [
        "\n",
        "   139  |    0.006505  |    0.006851  |     0.949427  |             |  2.8s"
       ]
      },
      {
       "output_type": "stream",
       "stream": "stdout",
       "text": [
        "\n",
        "   140  |    0.006649  |    0.006868  |     0.968020  |             |  2.8s"
       ]
      },
      {
       "output_type": "stream",
       "stream": "stdout",
       "text": [
        "\n",
        "   141  |  \u001b[94m  0.006397\u001b[0m  |    0.006900  |     0.927206  |             |  2.8s"
       ]
      },
      {
       "output_type": "stream",
       "stream": "stdout",
       "text": [
        "\n",
        "   142  |    0.006545  |    0.006863  |     0.953584  |             |  2.8s"
       ]
      },
      {
       "output_type": "stream",
       "stream": "stdout",
       "text": [
        "\n",
        "   143  |  \u001b[94m  0.006345\u001b[0m  |    0.006886  |     0.921569  |             |  2.8s"
       ]
      },
      {
       "output_type": "stream",
       "stream": "stdout",
       "text": [
        "\n",
        "   144  |    0.006511  |    0.006819  |     0.954755  |             |  2.8s"
       ]
      },
      {
       "output_type": "stream",
       "stream": "stdout",
       "text": [
        "\n",
        "   145  |    0.006412  |    0.006876  |     0.932595  |             |  2.8s"
       ]
      },
      {
       "output_type": "stream",
       "stream": "stdout",
       "text": [
        "\n",
        "   146  |    0.006516  |    0.006861  |     0.949795  |             |  2.8s"
       ]
      },
      {
       "output_type": "stream",
       "stream": "stdout",
       "text": [
        "\n",
        "   147  |    0.006369  |    0.006900  |     0.923057  |             |  2.8s"
       ]
      },
      {
       "output_type": "stream",
       "stream": "stdout",
       "text": [
        "\n",
        "   148  |    0.006439  |    0.006882  |     0.935568  |             |  2.8s"
       ]
      },
      {
       "output_type": "stream",
       "stream": "stdout",
       "text": [
        "\n",
        "   149  |    0.006442  |    0.006813  |     0.945529  |             |  2.8s"
       ]
      },
      {
       "output_type": "stream",
       "stream": "stdout",
       "text": [
        "\n",
        "   150  |  \u001b[94m  0.006299\u001b[0m  |    0.006849  |     0.919784  |             |  2.8s"
       ]
      },
      {
       "output_type": "stream",
       "stream": "stdout",
       "text": [
        "\n",
        "   151  |    0.006400  |    0.006835  |     0.936354  |             |  2.8s"
       ]
      },
      {
       "output_type": "stream",
       "stream": "stdout",
       "text": [
        "\n",
        "   152  |    0.006321  |    0.006852  |     0.922502  |             |  2.8s"
       ]
      },
      {
       "output_type": "stream",
       "stream": "stdout",
       "text": [
        "\n",
        "   153  |    0.006485  |    0.006831  |     0.949337  |             |  2.8s"
       ]
      },
      {
       "output_type": "stream",
       "stream": "stdout",
       "text": [
        "\n",
        "   154  |    0.006522  |    0.006809  |     0.957788  |             |  2.8s"
       ]
      },
      {
       "output_type": "stream",
       "stream": "stdout",
       "text": [
        "\n",
        "   155  |    0.006326  |    0.006843  |     0.924498  |             |  2.8s"
       ]
      },
      {
       "output_type": "stream",
       "stream": "stdout",
       "text": [
        "\n",
        "   156  |    0.006364  |    0.006828  |     0.932135  |             |  2.8s"
       ]
      },
      {
       "output_type": "stream",
       "stream": "stdout",
       "text": [
        "\n",
        "   157  |    0.006518  |    0.006813  |     0.956678  |             |  2.8s"
       ]
      },
      {
       "output_type": "stream",
       "stream": "stdout",
       "text": [
        "\n",
        "   158  |    0.006337  |    0.006820  |     0.929135  |             |  2.8s"
       ]
      },
      {
       "output_type": "stream",
       "stream": "stdout",
       "text": [
        "\n",
        "   159  |    0.006315  |    0.006837  |     0.923715  |             |  2.8s"
       ]
      },
      {
       "output_type": "stream",
       "stream": "stdout",
       "text": [
        "\n",
        "   160  |    0.006323  |    0.006819  |     0.927283  |             |  2.8s"
       ]
      },
      {
       "output_type": "stream",
       "stream": "stdout",
       "text": [
        "\n",
        "   161  |    0.006410  |    0.006806  |     0.941769  |             |  2.8s"
       ]
      },
      {
       "output_type": "stream",
       "stream": "stdout",
       "text": [
        "\n",
        "   162  |  \u001b[94m  0.006253\u001b[0m  |    0.006859  |     0.911534  |             |  2.8s"
       ]
      },
      {
       "output_type": "stream",
       "stream": "stdout",
       "text": [
        "\n",
        "   163  |    0.006311  |    0.006855  |     0.920686  |             |  2.8s"
       ]
      },
      {
       "output_type": "stream",
       "stream": "stdout",
       "text": [
        "\n",
        "   164  |    0.006322  |    0.006815  |     0.927660  |             |  2.8s"
       ]
      },
      {
       "output_type": "stream",
       "stream": "stdout",
       "text": [
        "\n",
        "   165  |  \u001b[94m  0.006218\u001b[0m  |    0.006823  |     0.911450  |             |  2.8s"
       ]
      },
      {
       "output_type": "stream",
       "stream": "stdout",
       "text": [
        "\n",
        "   166  |    0.006263  |    0.006812  |     0.919425  |             |  2.8s"
       ]
      },
      {
       "output_type": "stream",
       "stream": "stdout",
       "text": [
        "\n",
        "   167  |  \u001b[94m  0.006202\u001b[0m  |    0.006806  |     0.911225  |             |  2.8s"
       ]
      },
      {
       "output_type": "stream",
       "stream": "stdout",
       "text": [
        "\n",
        "   168  |    0.006363  |    0.006783  |     0.938093  |             |  2.8s"
       ]
      },
      {
       "output_type": "stream",
       "stream": "stdout",
       "text": [
        "\n",
        "   169  |    0.006317  |    0.006814  |     0.927063  |             |  2.8s"
       ]
      },
      {
       "output_type": "stream",
       "stream": "stdout",
       "text": [
        "\n",
        "   170  |  \u001b[94m  0.006172\u001b[0m  |  \u001b[32m  0.006779\u001b[0m  |     0.910438  |             |  2.8s"
       ]
      },
      {
       "output_type": "stream",
       "stream": "stdout",
       "text": [
        "\n",
        "   171  |    0.006248  |    0.006791  |     0.920024  |             |  2.8s"
       ]
      },
      {
       "output_type": "stream",
       "stream": "stdout",
       "text": [
        "\n",
        "   172  |    0.006218  |    0.006782  |     0.916947  |             |  2.8s"
       ]
      },
      {
       "output_type": "stream",
       "stream": "stdout",
       "text": [
        "\n",
        "   173  |  \u001b[94m  0.006094\u001b[0m  |    0.006836  |     0.891435  |             |  2.8s"
       ]
      },
      {
       "output_type": "stream",
       "stream": "stdout",
       "text": [
        "\n",
        "   174  |    0.006251  |    0.006841  |     0.913705  |             |  2.8s"
       ]
      },
      {
       "output_type": "stream",
       "stream": "stdout",
       "text": [
        "\n",
        "   175  |    0.006248  |    0.006784  |     0.920989  |             |  2.8s"
       ]
      },
      {
       "output_type": "stream",
       "stream": "stdout",
       "text": [
        "\n",
        "   176  |    0.006342  |    0.006844  |     0.926680  |             |  2.8s"
       ]
      },
      {
       "output_type": "stream",
       "stream": "stdout",
       "text": [
        "\n",
        "   177  |    0.006231  |    0.006803  |     0.915925  |             |  2.8s"
       ]
      },
      {
       "output_type": "stream",
       "stream": "stdout",
       "text": [
        "\n",
        "   178  |    0.006187  |  \u001b[32m  0.006779\u001b[0m  |     0.912638  |             |  2.8s"
       ]
      },
      {
       "output_type": "stream",
       "stream": "stdout",
       "text": [
        "\n",
        "   179  |  \u001b[94m  0.006086\u001b[0m  |    0.006857  |     0.887622  |             |  2.8s"
       ]
      },
      {
       "output_type": "stream",
       "stream": "stdout",
       "text": [
        "\n",
        "   180  |    0.006202  |    0.006811  |     0.910590  |             |  2.8s"
       ]
      },
      {
       "output_type": "stream",
       "stream": "stdout",
       "text": [
        "\n",
        "   181  |    0.006120  |    0.006811  |     0.898642  |             |  2.8s"
       ]
      },
      {
       "output_type": "stream",
       "stream": "stdout",
       "text": [
        "\n",
        "   182  |    0.006224  |  \u001b[32m  0.006767\u001b[0m  |     0.919798  |             |  2.8s"
       ]
      },
      {
       "output_type": "stream",
       "stream": "stdout",
       "text": [
        "\n",
        "   183  |  \u001b[94m  0.006085\u001b[0m  |    0.006786  |     0.896648  |             |  2.8s"
       ]
      },
      {
       "output_type": "stream",
       "stream": "stdout",
       "text": [
        "\n",
        "   184  |    0.006100  |    0.006848  |     0.890781  |             |  2.8s"
       ]
      },
      {
       "output_type": "stream",
       "stream": "stdout",
       "text": [
        "\n",
        "   185  |    0.006147  |    0.006861  |     0.895923  |             |  2.8s"
       ]
      },
      {
       "output_type": "stream",
       "stream": "stdout",
       "text": [
        "\n",
        "   186  |    0.006127  |    0.006834  |     0.896531  |             |  2.8s"
       ]
      },
      {
       "output_type": "stream",
       "stream": "stdout",
       "text": [
        "\n",
        "   187  |    0.006096  |    0.006841  |     0.891117  |             |  2.8s"
       ]
      },
      {
       "output_type": "stream",
       "stream": "stdout",
       "text": [
        "\n",
        "   188  |  \u001b[94m  0.006084\u001b[0m  |    0.006768  |     0.898938  |             |  2.8s"
       ]
      },
      {
       "output_type": "stream",
       "stream": "stdout",
       "text": [
        "\n",
        "   189  |    0.006141  |    0.006820  |     0.900450  |             |  2.8s"
       ]
      },
      {
       "output_type": "stream",
       "stream": "stdout",
       "text": [
        "\n",
        "   190  |    0.006259  |    0.006785  |     0.922466  |             |  2.8s"
       ]
      },
      {
       "output_type": "stream",
       "stream": "stdout",
       "text": [
        "\n",
        "   191  |    0.006175  |    0.006793  |     0.908994  |             |  2.8s"
       ]
      },
      {
       "output_type": "stream",
       "stream": "stdout",
       "text": [
        "\n",
        "   192  |  \u001b[94m  0.006035\u001b[0m  |    0.006795  |     0.888160  |             |  2.8s"
       ]
      },
      {
       "output_type": "stream",
       "stream": "stdout",
       "text": [
        "\n",
        "   193  |  \u001b[94m  0.006026\u001b[0m  |    0.006803  |     0.885858  |             |  2.8s"
       ]
      },
      {
       "output_type": "stream",
       "stream": "stdout",
       "text": [
        "\n",
        "   194  |    0.006198  |    0.006788  |     0.913017  |             |  2.8s"
       ]
      },
      {
       "output_type": "stream",
       "stream": "stdout",
       "text": [
        "\n",
        "   195  |    0.006055  |    0.006783  |     0.892665  |             |  2.8s"
       ]
      },
      {
       "output_type": "stream",
       "stream": "stdout",
       "text": [
        "\n",
        "   196  |  \u001b[94m  0.005984\u001b[0m  |    0.006807  |     0.879099  |             |  2.8s"
       ]
      },
      {
       "output_type": "stream",
       "stream": "stdout",
       "text": [
        "\n",
        "   197  |  \u001b[94m  0.005971\u001b[0m  |  \u001b[32m  0.006750\u001b[0m  |     0.884570  |             |  2.8s"
       ]
      },
      {
       "output_type": "stream",
       "stream": "stdout",
       "text": [
        "\n",
        "   198  |    0.006013  |  \u001b[32m  0.006737\u001b[0m  |     0.892611  |             |  2.8s"
       ]
      },
      {
       "output_type": "stream",
       "stream": "stdout",
       "text": [
        "\n",
        "   199  |    0.006124  |    0.006791  |     0.901818  |             |  2.8s"
       ]
      },
      {
       "output_type": "stream",
       "stream": "stdout",
       "text": [
        "\n",
        "   200  |    0.006044  |    0.006767  |     0.893170  |             |  2.8s"
       ]
      },
      {
       "output_type": "stream",
       "stream": "stdout",
       "text": [
        "\n",
        "   201  |    0.006129  |    0.006791  |     0.902468  |             |  2.8s"
       ]
      },
      {
       "output_type": "stream",
       "stream": "stdout",
       "text": [
        "\n",
        "   202  |    0.006112  |    0.006789  |     0.900254  |             |  2.8s"
       ]
      },
      {
       "output_type": "stream",
       "stream": "stdout",
       "text": [
        "\n",
        "   203  |    0.006021  |    0.006783  |     0.887580  |             |  2.8s"
       ]
      },
      {
       "output_type": "stream",
       "stream": "stdout",
       "text": [
        "\n",
        "   204  |  \u001b[94m  0.005970\u001b[0m  |    0.006800  |     0.878002  |             |  2.8s"
       ]
      },
      {
       "output_type": "stream",
       "stream": "stdout",
       "text": [
        "\n",
        "   205  |    0.005970  |    0.006793  |     0.878932  |             |  2.8s"
       ]
      },
      {
       "output_type": "stream",
       "stream": "stdout",
       "text": [
        "\n",
        "   206  |    0.006064  |    0.006756  |     0.897550  |             |  2.8s"
       ]
      },
      {
       "output_type": "stream",
       "stream": "stdout",
       "text": [
        "\n",
        "   207  |    0.005994  |    0.006761  |     0.886626  |             |  2.8s"
       ]
      },
      {
       "output_type": "stream",
       "stream": "stdout",
       "text": [
        "\n",
        "   208  |  \u001b[94m  0.005874\u001b[0m  |    0.006801  |     0.863601  |             |  2.8s"
       ]
      },
      {
       "output_type": "stream",
       "stream": "stdout",
       "text": [
        "\n",
        "   209  |    0.005920  |    0.006747  |     0.877426  |             |  2.8s"
       ]
      },
      {
       "output_type": "stream",
       "stream": "stdout",
       "text": [
        "\n",
        "   210  |    0.005969  |    0.006782  |     0.880132  |             |  2.8s"
       ]
      },
      {
       "output_type": "stream",
       "stream": "stdout",
       "text": [
        "\n",
        "   211  |    0.006030  |    0.006812  |     0.885154  |             |  2.8s"
       ]
      },
      {
       "output_type": "stream",
       "stream": "stdout",
       "text": [
        "\n",
        "   212  |    0.005874  |    0.006745  |     0.870874  |             |  2.8s"
       ]
      },
      {
       "output_type": "stream",
       "stream": "stdout",
       "text": [
        "\n",
        "   213  |    0.005889  |    0.006759  |     0.871301  |             |  2.8s"
       ]
      },
      {
       "output_type": "stream",
       "stream": "stdout",
       "text": [
        "\n",
        "   214  |    0.005980  |    0.006750  |     0.885883  |             |  2.8s"
       ]
      },
      {
       "output_type": "stream",
       "stream": "stdout",
       "text": [
        "\n",
        "   215  |    0.005967  |    0.006795  |     0.878277  |             |  2.8s"
       ]
      },
      {
       "output_type": "stream",
       "stream": "stdout",
       "text": [
        "\n",
        "   216  |    0.006009  |    0.006775  |     0.887013  |             |  2.8s"
       ]
      },
      {
       "output_type": "stream",
       "stream": "stdout",
       "text": [
        "\n",
        "   217  |  \u001b[94m  0.005815\u001b[0m  |  \u001b[32m  0.006706\u001b[0m  |     0.867071  |             |  2.8s"
       ]
      },
      {
       "output_type": "stream",
       "stream": "stdout",
       "text": [
        "\n",
        "   218  |    0.006063  |    0.006753  |     0.897868  |             |  2.8s"
       ]
      },
      {
       "output_type": "stream",
       "stream": "stdout",
       "text": [
        "\n",
        "   219  |  \u001b[94m  0.005812\u001b[0m  |    0.006746  |     0.861502  |             |  2.8s"
       ]
      },
      {
       "output_type": "stream",
       "stream": "stdout",
       "text": [
        "\n",
        "   220  |    0.005843  |    0.006769  |     0.863262  |             |  2.8s"
       ]
      },
      {
       "output_type": "stream",
       "stream": "stdout",
       "text": [
        "\n",
        "   221  |    0.005985  |    0.006748  |     0.886854  |             |  2.8s"
       ]
      },
      {
       "output_type": "stream",
       "stream": "stdout",
       "text": [
        "\n",
        "   222  |    0.005960  |    0.006771  |     0.880218  |             |  2.8s"
       ]
      },
      {
       "output_type": "stream",
       "stream": "stdout",
       "text": [
        "\n",
        "   223  |    0.005923  |    0.006777  |     0.873974  |             |  2.8s"
       ]
      },
      {
       "output_type": "stream",
       "stream": "stdout",
       "text": [
        "\n",
        "   224  |    0.005818  |    0.006783  |     0.857774  |             |  2.8s"
       ]
      },
      {
       "output_type": "stream",
       "stream": "stdout",
       "text": [
        "\n",
        "   225  |    0.005836  |    0.006750  |     0.864624  |             |  2.8s"
       ]
      },
      {
       "output_type": "stream",
       "stream": "stdout",
       "text": [
        "\n",
        "   226  |    0.005947  |    0.006750  |     0.880960  |             |  2.8s"
       ]
      },
      {
       "output_type": "stream",
       "stream": "stdout",
       "text": [
        "\n",
        "   227  |    0.005854  |    0.006765  |     0.865290  |             |  2.8s"
       ]
      },
      {
       "output_type": "stream",
       "stream": "stdout",
       "text": [
        "\n",
        "   228  |    0.005823  |    0.006780  |     0.858841  |             |  2.8s"
       ]
      },
      {
       "output_type": "stream",
       "stream": "stdout",
       "text": [
        "\n",
        "   229  |  \u001b[94m  0.005707\u001b[0m  |    0.006801  |     0.839055  |             |  2.8s"
       ]
      },
      {
       "output_type": "stream",
       "stream": "stdout",
       "text": [
        "\n",
        "   230  |    0.005814  |    0.006767  |     0.859272  |             |  2.8s"
       ]
      },
      {
       "output_type": "stream",
       "stream": "stdout",
       "text": [
        "\n",
        "   231  |    0.005866  |    0.006712  |     0.873961  |             |  2.8s"
       ]
      },
      {
       "output_type": "stream",
       "stream": "stdout",
       "text": [
        "\n",
        "   232  |    0.005991  |    0.006712  |     0.892550  |             |  2.8s"
       ]
      },
      {
       "output_type": "stream",
       "stream": "stdout",
       "text": [
        "\n",
        "   233  |    0.005723  |    0.006769  |     0.845381  |             |  2.8s"
       ]
      },
      {
       "output_type": "stream",
       "stream": "stdout",
       "text": [
        "\n",
        "   234  |    0.005785  |  \u001b[32m  0.006690\u001b[0m  |     0.864641  |             |  2.8s"
       ]
      },
      {
       "output_type": "stream",
       "stream": "stdout",
       "text": [
        "\n",
        "   235  |    0.005861  |    0.006705  |     0.874138  |             |  2.8s"
       ]
      },
      {
       "output_type": "stream",
       "stream": "stdout",
       "text": [
        "\n",
        "   236  |    0.005796  |    0.006713  |     0.863452  |             |  2.8s"
       ]
      },
      {
       "output_type": "stream",
       "stream": "stdout",
       "text": [
        "\n",
        "   237  |    0.005872  |    0.006706  |     0.875633  |             |  2.8s"
       ]
      },
      {
       "output_type": "stream",
       "stream": "stdout",
       "text": [
        "\n",
        "   238  |    0.005870  |    0.006720  |     0.873574  |             |  2.8s"
       ]
      },
      {
       "output_type": "stream",
       "stream": "stdout",
       "text": [
        "\n",
        "   239  |    0.005718  |    0.006767  |     0.844967  |             |  2.8s"
       ]
      },
      {
       "output_type": "stream",
       "stream": "stdout",
       "text": [
        "\n",
        "   240  |  \u001b[94m  0.005699\u001b[0m  |    0.006756  |     0.843604  |             |  2.8s"
       ]
      },
      {
       "output_type": "stream",
       "stream": "stdout",
       "text": [
        "\n",
        "   241  |  \u001b[94m  0.005678\u001b[0m  |    0.006715  |     0.845560  |             |  2.8s"
       ]
      },
      {
       "output_type": "stream",
       "stream": "stdout",
       "text": [
        "\n",
        "   242  |  \u001b[94m  0.005653\u001b[0m  |    0.006706  |     0.842994  |             |  2.8s"
       ]
      },
      {
       "output_type": "stream",
       "stream": "stdout",
       "text": [
        "\n",
        "   243  |    0.005840  |  \u001b[32m  0.006687\u001b[0m  |     0.873331  |             |  2.8s"
       ]
      },
      {
       "output_type": "stream",
       "stream": "stdout",
       "text": [
        "\n",
        "   244  |    0.005803  |  \u001b[32m  0.006671\u001b[0m  |     0.869904  |             |  2.8s"
       ]
      },
      {
       "output_type": "stream",
       "stream": "stdout",
       "text": [
        "\n",
        "   245  |    0.005746  |    0.006672  |     0.861295  |             |  2.8s"
       ]
      },
      {
       "output_type": "stream",
       "stream": "stdout",
       "text": [
        "\n",
        "   246  |    0.005939  |    0.006687  |     0.888143  |             |  2.8s"
       ]
      },
      {
       "output_type": "stream",
       "stream": "stdout",
       "text": [
        "\n",
        "   247  |    0.005691  |    0.006726  |     0.845996  |             |  2.8s"
       ]
      },
      {
       "output_type": "stream",
       "stream": "stdout",
       "text": [
        "\n",
        "   248  |    0.005708  |    0.006688  |     0.853466  |             |  2.8s"
       ]
      },
      {
       "output_type": "stream",
       "stream": "stdout",
       "text": [
        "\n",
        "   249  |    0.005726  |    0.006692  |     0.855673  |             |  2.8s"
       ]
      },
      {
       "output_type": "stream",
       "stream": "stdout",
       "text": [
        "\n",
        "   250  |    0.005720  |    0.006748  |     0.847570  |             |  2.8s"
       ]
      },
      {
       "output_type": "stream",
       "stream": "stdout",
       "text": [
        "\n",
        "   251  |    0.005741  |    0.006717  |     0.854697  |             |  2.8s"
       ]
      },
      {
       "output_type": "stream",
       "stream": "stdout",
       "text": [
        "\n",
        "   252  |    0.005677  |    0.006713  |     0.845747  |             |  2.8s"
       ]
      },
      {
       "output_type": "stream",
       "stream": "stdout",
       "text": [
        "\n",
        "   253  |  \u001b[94m  0.005589\u001b[0m  |    0.006717  |     0.832045  |             |  2.8s"
       ]
      },
      {
       "output_type": "stream",
       "stream": "stdout",
       "text": [
        "\n",
        "   254  |    0.005812  |    0.006722  |     0.864657  |             |  2.8s"
       ]
      },
      {
       "output_type": "stream",
       "stream": "stdout",
       "text": [
        "\n",
        "   255  |    0.005696  |    0.006753  |     0.843563  |             |  2.8s"
       ]
      },
      {
       "output_type": "stream",
       "stream": "stdout",
       "text": [
        "\n",
        "   256  |    0.005748  |  \u001b[32m  0.006661\u001b[0m  |     0.862893  |             |  2.8s"
       ]
      },
      {
       "output_type": "stream",
       "stream": "stdout",
       "text": [
        "\n",
        "   257  |    0.005679  |    0.006714  |     0.845838  |             |  2.8s"
       ]
      },
      {
       "output_type": "stream",
       "stream": "stdout",
       "text": [
        "\n",
        "   258  |    0.005801  |    0.006732  |     0.861749  |             |  2.8s"
       ]
      },
      {
       "output_type": "stream",
       "stream": "stdout",
       "text": [
        "\n",
        "   259  |    0.005812  |    0.006693  |     0.868414  |             |  2.8s"
       ]
      },
      {
       "output_type": "stream",
       "stream": "stdout",
       "text": [
        "\n",
        "   260  |    0.005733  |    0.006713  |     0.854000  |             |  2.8s"
       ]
      },
      {
       "output_type": "stream",
       "stream": "stdout",
       "text": [
        "\n",
        "   261  |  \u001b[94m  0.005518\u001b[0m  |  \u001b[32m  0.006654\u001b[0m  |     0.829254  |             |  2.8s"
       ]
      },
      {
       "output_type": "stream",
       "stream": "stdout",
       "text": [
        "\n",
        "   262  |    0.005598  |    0.006755  |     0.828677  |             |  2.8s"
       ]
      },
      {
       "output_type": "stream",
       "stream": "stdout",
       "text": [
        "\n",
        "   263  |    0.005632  |    0.006683  |     0.842635  |             |  2.8s"
       ]
      },
      {
       "output_type": "stream",
       "stream": "stdout",
       "text": [
        "\n",
        "   264  |    0.005610  |    0.006701  |     0.837144  |             |  2.8s"
       ]
      },
      {
       "output_type": "stream",
       "stream": "stdout",
       "text": [
        "\n",
        "   265  |    0.005643  |    0.006717  |     0.840160  |             |  2.8s"
       ]
      },
      {
       "output_type": "stream",
       "stream": "stdout",
       "text": [
        "\n",
        "   266  |    0.005605  |    0.006751  |     0.830236  |             |  2.8s"
       ]
      },
      {
       "output_type": "stream",
       "stream": "stdout",
       "text": [
        "\n",
        "   267  |    0.005717  |    0.006680  |     0.855802  |             |  2.8s"
       ]
      },
      {
       "output_type": "stream",
       "stream": "stdout",
       "text": [
        "\n",
        "   268  |    0.005540  |    0.006708  |     0.825861  |             |  2.8s"
       ]
      },
      {
       "output_type": "stream",
       "stream": "stdout",
       "text": [
        "\n",
        "   269  |    0.005699  |    0.006678  |     0.853433  |             |  2.8s"
       ]
      },
      {
       "output_type": "stream",
       "stream": "stdout",
       "text": [
        "\n",
        "   270  |    0.005611  |    0.006714  |     0.835829  |             |  2.8s"
       ]
      },
      {
       "output_type": "stream",
       "stream": "stdout",
       "text": [
        "\n",
        "   271  |    0.005651  |    0.006703  |     0.843064  |             |  2.8s"
       ]
      },
      {
       "output_type": "stream",
       "stream": "stdout",
       "text": [
        "\n",
        "   272  |    0.005693  |    0.006702  |     0.849434  |             |  2.8s"
       ]
      },
      {
       "output_type": "stream",
       "stream": "stdout",
       "text": [
        "\n",
        "   273  |    0.005611  |    0.006760  |     0.830042  |             |  2.8s"
       ]
      },
      {
       "output_type": "stream",
       "stream": "stdout",
       "text": [
        "\n",
        "   274  |    0.005714  |    0.006710  |     0.851659  |             |  2.8s"
       ]
      },
      {
       "output_type": "stream",
       "stream": "stdout",
       "text": [
        "\n",
        "   275  |    0.005684  |    0.006748  |     0.842360  |             |  2.8s"
       ]
      },
      {
       "output_type": "stream",
       "stream": "stdout",
       "text": [
        "\n",
        "   276  |    0.005594  |    0.006685  |     0.836830  |             |  2.8s"
       ]
      },
      {
       "output_type": "stream",
       "stream": "stdout",
       "text": [
        "\n",
        "   277  |    0.005556  |    0.006668  |     0.833295  |             |  2.8s"
       ]
      },
      {
       "output_type": "stream",
       "stream": "stdout",
       "text": [
        "\n",
        "   278  |    0.005673  |    0.006688  |     0.848345  |             |  2.8s"
       ]
      },
      {
       "output_type": "stream",
       "stream": "stdout",
       "text": [
        "\n",
        "   279  |    0.005603  |    0.006708  |     0.835290  |             |  2.8s"
       ]
      },
      {
       "output_type": "stream",
       "stream": "stdout",
       "text": [
        "\n",
        "   280  |  \u001b[94m  0.005396\u001b[0m  |    0.006722  |     0.802799  |             |  2.8s"
       ]
      },
      {
       "output_type": "stream",
       "stream": "stdout",
       "text": [
        "\n",
        "   281  |    0.005562  |    0.006718  |     0.827982  |             |  2.8s"
       ]
      },
      {
       "output_type": "stream",
       "stream": "stdout",
       "text": [
        "\n",
        "   282  |    0.005425  |    0.006712  |     0.808318  |             |  2.8s"
       ]
      },
      {
       "output_type": "stream",
       "stream": "stdout",
       "text": [
        "\n",
        "   283  |    0.005465  |    0.006680  |     0.818076  |             |  2.8s"
       ]
      },
      {
       "output_type": "stream",
       "stream": "stdout",
       "text": [
        "\n",
        "   284  |    0.005504  |    0.006774  |     0.812546  |             |  2.8s"
       ]
      },
      {
       "output_type": "stream",
       "stream": "stdout",
       "text": [
        "\n",
        "   285  |    0.005553  |    0.006742  |     0.823666  |             |  2.8s"
       ]
      },
      {
       "output_type": "stream",
       "stream": "stdout",
       "text": [
        "\n",
        "   286  |    0.005449  |    0.006678  |     0.815836  |             |  2.8s"
       ]
      },
      {
       "output_type": "stream",
       "stream": "stdout",
       "text": [
        "\n",
        "   287  |    0.005541  |    0.006706  |     0.826378  |             |  2.8s"
       ]
      },
      {
       "output_type": "stream",
       "stream": "stdout",
       "text": [
        "\n",
        "   288  |    0.005470  |  \u001b[32m  0.006599\u001b[0m  |     0.828942  |             |  2.8s"
       ]
      },
      {
       "output_type": "stream",
       "stream": "stdout",
       "text": [
        "\n",
        "   289  |    0.005465  |    0.006656  |     0.821082  |             |  2.8s"
       ]
      },
      {
       "output_type": "stream",
       "stream": "stdout",
       "text": [
        "\n",
        "   290  |    0.005537  |    0.006674  |     0.829587  |             |  2.8s"
       ]
      },
      {
       "output_type": "stream",
       "stream": "stdout",
       "text": [
        "\n",
        "   291  |    0.005462  |    0.006695  |     0.815813  |             |  2.8s"
       ]
      },
      {
       "output_type": "stream",
       "stream": "stdout",
       "text": [
        "\n",
        "   292  |    0.005529  |    0.006719  |     0.822835  |             |  2.8s"
       ]
      },
      {
       "output_type": "stream",
       "stream": "stdout",
       "text": [
        "\n",
        "   293  |    0.005490  |    0.006693  |     0.820166  |             |  2.8s"
       ]
      },
      {
       "output_type": "stream",
       "stream": "stdout",
       "text": [
        "\n",
        "   294  |    0.005497  |    0.006714  |     0.818778  |             |  2.8s"
       ]
      },
      {
       "output_type": "stream",
       "stream": "stdout",
       "text": [
        "\n",
        "   295  |    0.005546  |    0.006691  |     0.828851  |             |  2.8s"
       ]
      },
      {
       "output_type": "stream",
       "stream": "stdout",
       "text": [
        "\n",
        "   296  |    0.005629  |    0.006692  |     0.841192  |             |  2.8s"
       ]
      },
      {
       "output_type": "stream",
       "stream": "stdout",
       "text": [
        "\n",
        "   297  |    0.005487  |    0.006655  |     0.824483  |             |  2.8s"
       ]
      },
      {
       "output_type": "stream",
       "stream": "stdout",
       "text": [
        "\n",
        "   298  |    0.005638  |    0.006634  |     0.849804  |             |  2.8s"
       ]
      },
      {
       "output_type": "stream",
       "stream": "stdout",
       "text": [
        "\n",
        "   299  |    0.005455  |    0.006698  |     0.814387  |             |  2.8s"
       ]
      },
      {
       "output_type": "stream",
       "stream": "stdout",
       "text": [
        "\n",
        "   300  |  \u001b[94m  0.005379\u001b[0m  |    0.006688  |     0.804320  |             |  2.8s"
       ]
      },
      {
       "output_type": "stream",
       "stream": "stdout",
       "text": [
        "\n",
        "   301  |    0.005571  |    0.006712  |     0.830035  |             |  2.8s"
       ]
      },
      {
       "output_type": "stream",
       "stream": "stdout",
       "text": [
        "\n",
        "   302  |  \u001b[94m  0.005369\u001b[0m  |    0.006710  |     0.800121  |             |  2.8s"
       ]
      },
      {
       "output_type": "stream",
       "stream": "stdout",
       "text": [
        "\n",
        "   303  |  \u001b[94m  0.005322\u001b[0m  |    0.006722  |     0.791829  |             |  2.8s"
       ]
      },
      {
       "output_type": "stream",
       "stream": "stdout",
       "text": [
        "\n",
        "   304  |    0.005401  |    0.006655  |     0.811556  |             |  2.8s"
       ]
      },
      {
       "output_type": "stream",
       "stream": "stdout",
       "text": [
        "\n",
        "   305  |    0.005379  |    0.006662  |     0.807400  |             |  2.8s"
       ]
      },
      {
       "output_type": "stream",
       "stream": "stdout",
       "text": [
        "\n",
        "   306  |    0.005354  |    0.006691  |     0.800224  |             |  2.8s"
       ]
      },
      {
       "output_type": "stream",
       "stream": "stdout",
       "text": [
        "\n",
        "   307  |    0.005358  |    0.006679  |     0.802298  |             |  2.8s"
       ]
      },
      {
       "output_type": "stream",
       "stream": "stdout",
       "text": [
        "\n",
        "   308  |    0.005341  |    0.006660  |     0.801929  |             |  2.8s"
       ]
      },
      {
       "output_type": "stream",
       "stream": "stdout",
       "text": [
        "\n",
        "   309  |    0.005445  |    0.006648  |     0.818982  |             |  2.8s"
       ]
      },
      {
       "output_type": "stream",
       "stream": "stdout",
       "text": [
        "\n",
        "   310  |    0.005368  |    0.006659  |     0.806160  |             |  2.8s"
       ]
      },
      {
       "output_type": "stream",
       "stream": "stdout",
       "text": [
        "\n",
        "   311  |    0.005400  |    0.006656  |     0.811181  |             |  2.8s"
       ]
      },
      {
       "output_type": "stream",
       "stream": "stdout",
       "text": [
        "\n",
        "   312  |    0.005420  |    0.006670  |     0.812534  |             |  2.8s"
       ]
      },
      {
       "output_type": "stream",
       "stream": "stdout",
       "text": [
        "\n",
        "   313  |    0.005376  |    0.006676  |     0.805354  |             |  2.8s"
       ]
      },
      {
       "output_type": "stream",
       "stream": "stdout",
       "text": [
        "\n",
        "   314  |    0.005423  |    0.006639  |     0.816859  |             |  2.8s"
       ]
      },
      {
       "output_type": "stream",
       "stream": "stdout",
       "text": [
        "\n",
        "   315  |    0.005444  |    0.006674  |     0.815784  |             |  2.8s"
       ]
      },
      {
       "output_type": "stream",
       "stream": "stdout",
       "text": [
        "\n",
        "   316  |    0.005353  |    0.006679  |     0.801384  |             |  2.8s"
       ]
      },
      {
       "output_type": "stream",
       "stream": "stdout",
       "text": [
        "\n",
        "   317  |  \u001b[94m  0.005210\u001b[0m  |    0.006658  |     0.782458  |             |  2.8s"
       ]
      },
      {
       "output_type": "stream",
       "stream": "stdout",
       "text": [
        "\n",
        "   318  |    0.005308  |    0.006707  |     0.791403  |             |  2.8s"
       ]
      },
      {
       "output_type": "stream",
       "stream": "stdout",
       "text": [
        "\n",
        "   319  |    0.005402  |    0.006681  |     0.808633  |             |  2.8s"
       ]
      },
      {
       "output_type": "stream",
       "stream": "stdout",
       "text": [
        "\n",
        "   320  |    0.005378  |    0.006683  |     0.804724  |             |  2.8s"
       ]
      },
      {
       "output_type": "stream",
       "stream": "stdout",
       "text": [
        "\n",
        "   321  |  \u001b[94m  0.005123\u001b[0m  |    0.006708  |     0.763756  |             |  2.8s"
       ]
      },
      {
       "output_type": "stream",
       "stream": "stdout",
       "text": [
        "\n",
        "   322  |    0.005327  |    0.006675  |     0.798068  |             |  2.8s"
       ]
      },
      {
       "output_type": "stream",
       "stream": "stdout",
       "text": [
        "\n",
        "   323  |    0.005257  |    0.006665  |     0.788807  |             |  2.8s"
       ]
      },
      {
       "output_type": "stream",
       "stream": "stdout",
       "text": [
        "\n",
        "   324  |    0.005360  |    0.006701  |     0.799808  |             |  2.8s"
       ]
      },
      {
       "output_type": "stream",
       "stream": "stdout",
       "text": [
        "\n",
        "   325  |    0.005336  |    0.006656  |     0.801695  |             |  2.8s"
       ]
      },
      {
       "output_type": "stream",
       "stream": "stdout",
       "text": [
        "\n",
        "   326  |    0.005315  |    0.006627  |     0.801945  |             |  2.8s"
       ]
      },
      {
       "output_type": "stream",
       "stream": "stdout",
       "text": [
        "\n",
        "   327  |    0.005483  |    0.006631  |     0.826921  |             |  2.8s"
       ]
      },
      {
       "output_type": "stream",
       "stream": "stdout",
       "text": [
        "\n",
        "   328  |    0.005375  |    0.006664  |     0.806635  |             |  2.8s"
       ]
      },
      {
       "output_type": "stream",
       "stream": "stdout",
       "text": [
        "\n",
        "   329  |    0.005209  |    0.006715  |     0.775827  |             |  2.8s"
       ]
      },
      {
       "output_type": "stream",
       "stream": "stdout",
       "text": [
        "\n",
        "   330  |    0.005310  |    0.006645  |     0.799040  |             |  2.8s"
       ]
      },
      {
       "output_type": "stream",
       "stream": "stdout",
       "text": [
        "\n",
        "   331  |    0.005307  |    0.006613  |     0.802439  |             |  2.8s"
       ]
      },
      {
       "output_type": "stream",
       "stream": "stdout",
       "text": [
        "\n",
        "   332  |    0.005231  |    0.006668  |     0.784458  |             |  2.8s"
       ]
      },
      {
       "output_type": "stream",
       "stream": "stdout",
       "text": [
        "\n",
        "   333  |    0.005255  |    0.006677  |     0.787036  |             |  2.8s"
       ]
      },
      {
       "output_type": "stream",
       "stream": "stdout",
       "text": [
        "\n",
        "   334  |    0.005391  |    0.006648  |     0.810865  |             |  2.8s"
       ]
      },
      {
       "output_type": "stream",
       "stream": "stdout",
       "text": [
        "\n",
        "   335  |    0.005166  |    0.006672  |     0.774277  |             |  2.8s"
       ]
      },
      {
       "output_type": "stream",
       "stream": "stdout",
       "text": [
        "\n",
        "   336  |    0.005236  |    0.006660  |     0.786218  |             |  2.8s"
       ]
      },
      {
       "output_type": "stream",
       "stream": "stdout",
       "text": [
        "\n",
        "   337  |    0.005211  |    0.006665  |     0.781836  |             |  2.8s"
       ]
      },
      {
       "output_type": "stream",
       "stream": "stdout",
       "text": [
        "\n",
        "   338  |    0.005221  |    0.006638  |     0.786520  |             |  2.8s"
       ]
      },
      {
       "output_type": "stream",
       "stream": "stdout",
       "text": [
        "\n",
        "   339  |    0.005279  |    0.006659  |     0.792757  |             |  2.8s"
       ]
      },
      {
       "output_type": "stream",
       "stream": "stdout",
       "text": [
        "\n",
        "   340  |    0.005331  |    0.006679  |     0.798142  |             |  2.8s"
       ]
      },
      {
       "output_type": "stream",
       "stream": "stdout",
       "text": [
        "\n",
        "   341  |    0.005252  |    0.006653  |     0.789395  |             |  2.8s"
       ]
      },
      {
       "output_type": "stream",
       "stream": "stdout",
       "text": [
        "\n",
        "   342  |    0.005345  |    0.006665  |     0.801966  |             |  2.8s"
       ]
      },
      {
       "output_type": "stream",
       "stream": "stdout",
       "text": [
        "\n",
        "   343  |    0.005301  |    0.006600  |     0.803196  |             |  2.8s"
       ]
      },
      {
       "output_type": "stream",
       "stream": "stdout",
       "text": [
        "\n",
        "   344  |    0.005223  |    0.006637  |     0.786844  |             |  2.8s"
       ]
      },
      {
       "output_type": "stream",
       "stream": "stdout",
       "text": [
        "\n",
        "   345  |    0.005183  |    0.006624  |     0.782501  |             |  2.8s"
       ]
      },
      {
       "output_type": "stream",
       "stream": "stdout",
       "text": [
        "\n",
        "   346  |    0.005201  |    0.006603  |     0.787644  |             |  2.8s"
       ]
      },
      {
       "output_type": "stream",
       "stream": "stdout",
       "text": [
        "\n",
        "   347  |    0.005282  |    0.006624  |     0.797322  |             |  2.8s"
       ]
      },
      {
       "output_type": "stream",
       "stream": "stdout",
       "text": [
        "\n",
        "   348  |    0.005198  |    0.006618  |     0.785413  |             |  2.8s"
       ]
      },
      {
       "output_type": "stream",
       "stream": "stdout",
       "text": [
        "\n",
        "   349  |    0.005174  |    0.006640  |     0.779171  |             |  2.8s"
       ]
      },
      {
       "output_type": "stream",
       "stream": "stdout",
       "text": [
        "\n",
        "   350  |    0.005210  |    0.006639  |     0.784762  |             |  2.8s"
       ]
      },
      {
       "output_type": "stream",
       "stream": "stdout",
       "text": [
        "\n",
        "   351  |    0.005240  |  \u001b[32m  0.006594\u001b[0m  |     0.794643  |             |  2.8s"
       ]
      },
      {
       "output_type": "stream",
       "stream": "stdout",
       "text": [
        "\n",
        "   352  |    0.005161  |    0.006649  |     0.776160  |             |  2.8s"
       ]
      },
      {
       "output_type": "stream",
       "stream": "stdout",
       "text": [
        "\n",
        "   353  |    0.005143  |    0.006633  |     0.775421  |             |  2.8s"
       ]
      },
      {
       "output_type": "stream",
       "stream": "stdout",
       "text": [
        "\n",
        "   354  |    0.005176  |    0.006616  |     0.782400  |             |  2.8s"
       ]
      },
      {
       "output_type": "stream",
       "stream": "stdout",
       "text": [
        "\n",
        "   355  |    0.005193  |    0.006628  |     0.783542  |             |  2.8s"
       ]
      },
      {
       "output_type": "stream",
       "stream": "stdout",
       "text": [
        "\n",
        "   356  |    0.005277  |  \u001b[32m  0.006574\u001b[0m  |     0.802734  |             |  2.8s"
       ]
      },
      {
       "output_type": "stream",
       "stream": "stdout",
       "text": [
        "\n",
        "   357  |    0.005301  |    0.006605  |     0.802591  |             |  2.8s"
       ]
      },
      {
       "output_type": "stream",
       "stream": "stdout",
       "text": [
        "\n",
        "   358  |    0.005427  |    0.006630  |     0.818502  |             |  2.8s"
       ]
      },
      {
       "output_type": "stream",
       "stream": "stdout",
       "text": [
        "\n",
        "   359  |  \u001b[94m  0.005090\u001b[0m  |    0.006639  |     0.766660  |             |  2.8s"
       ]
      },
      {
       "output_type": "stream",
       "stream": "stdout",
       "text": [
        "\n",
        "   360  |    0.005166  |    0.006646  |     0.777360  |             |  2.8s"
       ]
      },
      {
       "output_type": "stream",
       "stream": "stdout",
       "text": [
        "\n",
        "   361  |    0.005178  |    0.006615  |     0.782781  |             |  2.8s"
       ]
      },
      {
       "output_type": "stream",
       "stream": "stdout",
       "text": [
        "\n",
        "   362  |    0.005162  |    0.006624  |     0.779335  |             |  2.8s"
       ]
      },
      {
       "output_type": "stream",
       "stream": "stdout",
       "text": [
        "\n",
        "   363  |    0.005202  |    0.006650  |     0.782266  |             |  2.8s"
       ]
      },
      {
       "output_type": "stream",
       "stream": "stdout",
       "text": [
        "\n",
        "   364  |    0.005197  |    0.006662  |     0.780074  |             |  2.8s"
       ]
      },
      {
       "output_type": "stream",
       "stream": "stdout",
       "text": [
        "\n",
        "   365  |    0.005267  |    0.006650  |     0.791933  |             |  2.8s"
       ]
      },
      {
       "output_type": "stream",
       "stream": "stdout",
       "text": [
        "\n",
        "   366  |    0.005218  |    0.006653  |     0.784320  |             |  2.8s"
       ]
      },
      {
       "output_type": "stream",
       "stream": "stdout",
       "text": [
        "\n",
        "   367  |    0.005146  |    0.006627  |     0.776563  |             |  2.8s"
       ]
      },
      {
       "output_type": "stream",
       "stream": "stdout",
       "text": [
        "\n",
        "   368  |    0.005215  |    0.006662  |     0.782876  |             |  2.8s"
       ]
      },
      {
       "output_type": "stream",
       "stream": "stdout",
       "text": [
        "\n",
        "   369  |    0.005125  |    0.006650  |     0.770629  |             |  2.8s"
       ]
      },
      {
       "output_type": "stream",
       "stream": "stdout",
       "text": [
        "\n",
        "   370  |    0.005205  |  \u001b[32m  0.006558\u001b[0m  |     0.793665  |             |  2.8s"
       ]
      },
      {
       "output_type": "stream",
       "stream": "stdout",
       "text": [
        "\n",
        "   371  |  \u001b[94m  0.004973\u001b[0m  |    0.006625  |     0.750555  |             |  2.8s"
       ]
      },
      {
       "output_type": "stream",
       "stream": "stdout",
       "text": [
        "\n",
        "   372  |    0.005109  |    0.006618  |     0.771994  |             |  2.8s"
       ]
      },
      {
       "output_type": "stream",
       "stream": "stdout",
       "text": [
        "\n",
        "   373  |    0.005102  |    0.006624  |     0.770248  |             |  2.8s"
       ]
      },
      {
       "output_type": "stream",
       "stream": "stdout",
       "text": [
        "\n",
        "   374  |    0.005107  |    0.006644  |     0.768665  |             |  2.8s"
       ]
      },
      {
       "output_type": "stream",
       "stream": "stdout",
       "text": [
        "\n",
        "   375  |    0.004982  |    0.006658  |     0.748195  |             |  2.8s"
       ]
      },
      {
       "output_type": "stream",
       "stream": "stdout",
       "text": [
        "\n",
        "   376  |    0.005083  |    0.006627  |     0.767011  |             |  2.8s"
       ]
      },
      {
       "output_type": "stream",
       "stream": "stdout",
       "text": [
        "\n",
        "   377  |    0.005027  |    0.006628  |     0.758350  |             |  2.8s"
       ]
      },
      {
       "output_type": "stream",
       "stream": "stdout",
       "text": [
        "\n",
        "   378  |    0.005085  |    0.006631  |     0.766931  |             |  2.8s"
       ]
      },
      {
       "output_type": "stream",
       "stream": "stdout",
       "text": [
        "\n",
        "   379  |    0.004990  |    0.006591  |     0.757070  |             |  2.8s"
       ]
      },
      {
       "output_type": "stream",
       "stream": "stdout",
       "text": [
        "\n",
        "   380  |    0.005057  |    0.006600  |     0.766189  |             |  2.8s"
       ]
      },
      {
       "output_type": "stream",
       "stream": "stdout",
       "text": [
        "\n",
        "   381  |  \u001b[94m  0.004924\u001b[0m  |    0.006605  |     0.745503  |             |  2.8s"
       ]
      },
      {
       "output_type": "stream",
       "stream": "stdout",
       "text": [
        "\n",
        "   382  |    0.005046  |    0.006597  |     0.765004  |             |  2.8s"
       ]
      },
      {
       "output_type": "stream",
       "stream": "stdout",
       "text": [
        "\n",
        "   383  |    0.005059  |    0.006598  |     0.766666  |             |  2.8s"
       ]
      },
      {
       "output_type": "stream",
       "stream": "stdout",
       "text": [
        "\n",
        "   384  |    0.005101  |    0.006628  |     0.769591  |             |  2.8s"
       ]
      },
      {
       "output_type": "stream",
       "stream": "stdout",
       "text": [
        "\n",
        "   385  |    0.004990  |    0.006611  |     0.754817  |             |  2.8s"
       ]
      },
      {
       "output_type": "stream",
       "stream": "stdout",
       "text": [
        "\n",
        "   386  |    0.004998  |    0.006601  |     0.757125  |             |  2.8s"
       ]
      },
      {
       "output_type": "stream",
       "stream": "stdout",
       "text": [
        "\n",
        "   387  |    0.004979  |    0.006633  |     0.750681  |             |  2.8s"
       ]
      },
      {
       "output_type": "stream",
       "stream": "stdout",
       "text": [
        "\n",
        "   388  |    0.005053  |    0.006611  |     0.764367  |             |  2.8s"
       ]
      },
      {
       "output_type": "stream",
       "stream": "stdout",
       "text": [
        "\n",
        "   389  |    0.004990  |    0.006625  |     0.753144  |             |  2.8s"
       ]
      },
      {
       "output_type": "stream",
       "stream": "stdout",
       "text": [
        "\n",
        "   390  |    0.005038  |    0.006593  |     0.764189  |             |  2.8s"
       ]
      },
      {
       "output_type": "stream",
       "stream": "stdout",
       "text": [
        "\n",
        "   391  |    0.005032  |    0.006635  |     0.758433  |             |  2.8s"
       ]
      },
      {
       "output_type": "stream",
       "stream": "stdout",
       "text": [
        "\n",
        "   392  |    0.005094  |    0.006631  |     0.768216  |             |  2.8s"
       ]
      },
      {
       "output_type": "stream",
       "stream": "stdout",
       "text": [
        "\n",
        "   393  |    0.005062  |    0.006597  |     0.767298  |             |  2.8s"
       ]
      },
      {
       "output_type": "stream",
       "stream": "stdout",
       "text": [
        "\n",
        "   394  |    0.005019  |  \u001b[32m  0.006555\u001b[0m  |     0.765650  |             |  2.8s"
       ]
      },
      {
       "output_type": "stream",
       "stream": "stdout",
       "text": [
        "\n",
        "   395  |    0.005203  |    0.006558  |     0.793373  |             |  2.8s"
       ]
      },
      {
       "output_type": "stream",
       "stream": "stdout",
       "text": [
        "\n",
        "   396  |    0.005045  |    0.006594  |     0.764969  |             |  2.8s"
       ]
      },
      {
       "output_type": "stream",
       "stream": "stdout",
       "text": [
        "\n",
        "   397  |    0.004975  |    0.006611  |     0.752466  |             |  2.8s"
       ]
      },
      {
       "output_type": "stream",
       "stream": "stdout",
       "text": [
        "\n",
        "   398  |    0.005014  |    0.006590  |     0.760845  |             |  2.8s"
       ]
      },
      {
       "output_type": "stream",
       "stream": "stdout",
       "text": [
        "\n",
        "   399  |  \u001b[94m  0.004893\u001b[0m  |    0.006610  |     0.740346  |             |  2.8s"
       ]
      },
      {
       "output_type": "stream",
       "stream": "stdout",
       "text": [
        "\n",
        "   400  |    0.004975  |    0.006599  |     0.753980  |             |  2.8s"
       ]
      },
      {
       "output_type": "stream",
       "stream": "stdout",
       "text": [
        "\n",
        "   401  |    0.005015  |    0.006586  |     0.761482  |             |  2.8s"
       ]
      },
      {
       "output_type": "stream",
       "stream": "stdout",
       "text": [
        "\n",
        "   402  |    0.005129  |    0.006571  |     0.780530  |             |  2.8s"
       ]
      },
      {
       "output_type": "stream",
       "stream": "stdout",
       "text": [
        "\n",
        "   403  |    0.005030  |    0.006599  |     0.762184  |             |  2.8s"
       ]
      },
      {
       "output_type": "stream",
       "stream": "stdout",
       "text": [
        "\n",
        "   404  |  \u001b[94m  0.004878\u001b[0m  |    0.006618  |     0.737120  |             |  2.8s"
       ]
      },
      {
       "output_type": "stream",
       "stream": "stdout",
       "text": [
        "\n",
        "   405  |    0.004972  |    0.006608  |     0.752443  |             |  2.8s"
       ]
      },
      {
       "output_type": "stream",
       "stream": "stdout",
       "text": [
        "\n",
        "   406  |    0.005008  |    0.006641  |     0.754047  |             |  2.8s"
       ]
      },
      {
       "output_type": "stream",
       "stream": "stdout",
       "text": [
        "\n",
        "   407  |    0.005063  |    0.006598  |     0.767371  |             |  2.8s"
       ]
      },
      {
       "output_type": "stream",
       "stream": "stdout",
       "text": [
        "\n",
        "   408  |    0.004946  |    0.006609  |     0.748275  |             |  2.8s"
       ]
      },
      {
       "output_type": "stream",
       "stream": "stdout",
       "text": [
        "\n",
        "   409  |    0.004992  |    0.006614  |     0.754720  |             |  2.8s"
       ]
      },
      {
       "output_type": "stream",
       "stream": "stdout",
       "text": [
        "\n",
        "   410  |    0.005132  |    0.006653  |     0.771399  |             |  2.8s"
       ]
      },
      {
       "output_type": "stream",
       "stream": "stdout",
       "text": [
        "\n",
        "   411  |  \u001b[94m  0.004839\u001b[0m  |    0.006646  |     0.728149  |             |  2.8s"
       ]
      },
      {
       "output_type": "stream",
       "stream": "stdout",
       "text": [
        "\n",
        "   412  |    0.005025  |    0.006614  |     0.759767  |             |  2.8s"
       ]
      },
      {
       "output_type": "stream",
       "stream": "stdout",
       "text": [
        "\n",
        "   413  |    0.004938  |    0.006594  |     0.748855  |             |  2.8s"
       ]
      },
      {
       "output_type": "stream",
       "stream": "stdout",
       "text": [
        "\n",
        "   414  |    0.004971  |    0.006620  |     0.750963  |             |  2.8s"
       ]
      },
      {
       "output_type": "stream",
       "stream": "stdout",
       "text": [
        "\n",
        "   415  |    0.004977  |    0.006627  |     0.750992  |             |  2.8s"
       ]
      },
      {
       "output_type": "stream",
       "stream": "stdout",
       "text": [
        "\n",
        "   416  |    0.004869  |    0.006596  |     0.738148  |             |  2.8s"
       ]
      },
      {
       "output_type": "stream",
       "stream": "stdout",
       "text": [
        "\n",
        "   417  |    0.004880  |    0.006622  |     0.737037  |             |  2.8s"
       ]
      },
      {
       "output_type": "stream",
       "stream": "stdout",
       "text": [
        "\n",
        "   418  |    0.005032  |    0.006630  |     0.759006  |             |  2.8s"
       ]
      },
      {
       "output_type": "stream",
       "stream": "stdout",
       "text": [
        "\n",
        "   419  |    0.004925  |    0.006599  |     0.746305  |             |  2.8s"
       ]
      },
      {
       "output_type": "stream",
       "stream": "stdout",
       "text": [
        "\n",
        "   420  |    0.004996  |    0.006602  |     0.756707  |             |  2.8s"
       ]
      },
      {
       "output_type": "stream",
       "stream": "stdout",
       "text": [
        "\n",
        "   421  |    0.004908  |    0.006595  |     0.744128  |             |  2.8s"
       ]
      },
      {
       "output_type": "stream",
       "stream": "stdout",
       "text": [
        "\n",
        "   422  |    0.004855  |    0.006609  |     0.734583  |             |  2.8s"
       ]
      },
      {
       "output_type": "stream",
       "stream": "stdout",
       "text": [
        "\n",
        "   423  |    0.004971  |    0.006565  |     0.757169  |             |  2.8s"
       ]
      },
      {
       "output_type": "stream",
       "stream": "stdout",
       "text": [
        "\n",
        "   424  |    0.004932  |    0.006572  |     0.750462  |             |  2.8s"
       ]
      },
      {
       "output_type": "stream",
       "stream": "stdout",
       "text": [
        "\n",
        "   425  |    0.004981  |    0.006631  |     0.751168  |             |  2.8s"
       ]
      },
      {
       "output_type": "stream",
       "stream": "stdout",
       "text": [
        "\n",
        "   426  |    0.004889  |    0.006623  |     0.738195  |             |  2.8s"
       ]
      },
      {
       "output_type": "stream",
       "stream": "stdout",
       "text": [
        "\n",
        "   427  |    0.004929  |    0.006631  |     0.743290  |             |  2.8s"
       ]
      },
      {
       "output_type": "stream",
       "stream": "stdout",
       "text": [
        "\n",
        "   428  |    0.005028  |    0.006591  |     0.762885  |             |  2.8s"
       ]
      },
      {
       "output_type": "stream",
       "stream": "stdout",
       "text": [
        "\n",
        "   429  |    0.004978  |    0.006628  |     0.751096  |             |  2.8s"
       ]
      },
      {
       "output_type": "stream",
       "stream": "stdout",
       "text": [
        "\n",
        "   430  |    0.004972  |    0.006613  |     0.751849  |             |  2.8s"
       ]
      },
      {
       "output_type": "stream",
       "stream": "stdout",
       "text": [
        "\n",
        "   431  |    0.004911  |    0.006628  |     0.740901  |             |  2.8s"
       ]
      },
      {
       "output_type": "stream",
       "stream": "stdout",
       "text": [
        "\n",
        "   432  |    0.004986  |    0.006606  |     0.754696  |             |  2.8s"
       ]
      },
      {
       "output_type": "stream",
       "stream": "stdout",
       "text": [
        "\n",
        "   433  |    0.004921  |    0.006599  |     0.745816  |             |  2.8s"
       ]
      },
      {
       "output_type": "stream",
       "stream": "stdout",
       "text": [
        "\n",
        "   434  |  \u001b[94m  0.004771\u001b[0m  |    0.006615  |     0.721216  |             |  2.8s"
       ]
      },
      {
       "output_type": "stream",
       "stream": "stdout",
       "text": [
        "\n",
        "   435  |    0.004847  |    0.006635  |     0.730495  |             |  2.8s"
       ]
      },
      {
       "output_type": "stream",
       "stream": "stdout",
       "text": [
        "\n",
        "   436  |    0.004851  |    0.006592  |     0.735894  |             |  2.8s"
       ]
      },
      {
       "output_type": "stream",
       "stream": "stdout",
       "text": [
        "\n",
        "   437  |    0.004868  |    0.006560  |     0.741984  |             |  2.8s"
       ]
      },
      {
       "output_type": "stream",
       "stream": "stdout",
       "text": [
        "\n",
        "   438  |    0.004813  |    0.006575  |     0.731952  |             |  2.8s"
       ]
      },
      {
       "output_type": "stream",
       "stream": "stdout",
       "text": [
        "\n",
        "   439  |    0.004852  |    0.006578  |     0.737531  |             |  2.8s"
       ]
      },
      {
       "output_type": "stream",
       "stream": "stdout",
       "text": [
        "\n",
        "   440  |    0.004956  |    0.006635  |     0.746936  |             |  2.8s"
       ]
      },
      {
       "output_type": "stream",
       "stream": "stdout",
       "text": [
        "\n",
        "   441  |  \u001b[94m  0.004728\u001b[0m  |    0.006619  |     0.714338  |             |  2.8s"
       ]
      },
      {
       "output_type": "stream",
       "stream": "stdout",
       "text": [
        "\n",
        "   442  |    0.004891  |    0.006615  |     0.739346  |             |  2.8s"
       ]
      },
      {
       "output_type": "stream",
       "stream": "stdout",
       "text": [
        "\n",
        "   443  |    0.004919  |    0.006576  |     0.748051  |             |  2.8s"
       ]
      },
      {
       "output_type": "stream",
       "stream": "stdout",
       "text": [
        "\n",
        "   444  |    0.004780  |    0.006598  |     0.724553  |             |  2.8s"
       ]
      },
      {
       "output_type": "stream",
       "stream": "stdout",
       "text": [
        "\n",
        "   445  |    0.004789  |    0.006581  |     0.727665  |             |  2.8s"
       ]
      },
      {
       "output_type": "stream",
       "stream": "stdout",
       "text": [
        "\n",
        "   446  |    0.004738  |    0.006567  |     0.721474  |             |  2.8s"
       ]
      },
      {
       "output_type": "stream",
       "stream": "stdout",
       "text": [
        "\n",
        "   447  |    0.004759  |    0.006606  |     0.720456  |             |  2.8s"
       ]
      },
      {
       "output_type": "stream",
       "stream": "stdout",
       "text": [
        "\n",
        "   448  |    0.004827  |    0.006575  |     0.734234  |             |  2.8s"
       ]
      },
      {
       "output_type": "stream",
       "stream": "stdout",
       "text": [
        "\n",
        "   449  |    0.004897  |    0.006607  |     0.741124  |             |  2.8s"
       ]
      },
      {
       "output_type": "stream",
       "stream": "stdout",
       "text": [
        "\n",
        "   450  |    0.004783  |  \u001b[32m  0.006547\u001b[0m  |     0.730642  |             |  2.8s"
       ]
      },
      {
       "output_type": "stream",
       "stream": "stdout",
       "text": [
        "\n",
        "   451  |    0.004780  |    0.006585  |     0.725972  |             |  2.8s"
       ]
      },
      {
       "output_type": "stream",
       "stream": "stdout",
       "text": [
        "\n",
        "   452  |  \u001b[94m  0.004669\u001b[0m  |    0.006565  |     0.711225  |             |  2.8s"
       ]
      },
      {
       "output_type": "stream",
       "stream": "stdout",
       "text": [
        "\n",
        "   453  |    0.004845  |    0.006573  |     0.737039  |             |  2.8s"
       ]
      },
      {
       "output_type": "stream",
       "stream": "stdout",
       "text": [
        "\n",
        "   454  |    0.004864  |    0.006602  |     0.736786  |             |  2.8s"
       ]
      },
      {
       "output_type": "stream",
       "stream": "stdout",
       "text": [
        "\n",
        "   455  |    0.004789  |    0.006606  |     0.725038  |             |  2.8s"
       ]
      },
      {
       "output_type": "stream",
       "stream": "stdout",
       "text": [
        "\n",
        "   456  |    0.004845  |    0.006562  |     0.738288  |             |  2.8s"
       ]
      },
      {
       "output_type": "stream",
       "stream": "stdout",
       "text": [
        "\n",
        "   457  |    0.004817  |    0.006557  |     0.734627  |             |  2.8s"
       ]
      },
      {
       "output_type": "stream",
       "stream": "stdout",
       "text": [
        "\n",
        "   458  |    0.004733  |    0.006592  |     0.718009  |             |  2.8s"
       ]
      },
      {
       "output_type": "stream",
       "stream": "stdout",
       "text": [
        "\n",
        "   459  |    0.004735  |    0.006620  |     0.715211  |             |  2.8s"
       ]
      },
      {
       "output_type": "stream",
       "stream": "stdout",
       "text": [
        "\n",
        "   460  |    0.004901  |    0.006588  |     0.743957  |             |  2.8s"
       ]
      },
      {
       "output_type": "stream",
       "stream": "stdout",
       "text": [
        "\n",
        "   461  |    0.004774  |    0.006590  |     0.724521  |             |  2.8s"
       ]
      },
      {
       "output_type": "stream",
       "stream": "stdout",
       "text": [
        "\n",
        "   462  |    0.004812  |    0.006560  |     0.733568  |             |  2.8s"
       ]
      },
      {
       "output_type": "stream",
       "stream": "stdout",
       "text": [
        "\n",
        "   463  |    0.004869  |    0.006583  |     0.739582  |             |  2.8s"
       ]
      },
      {
       "output_type": "stream",
       "stream": "stdout",
       "text": [
        "\n",
        "   464  |    0.004737  |    0.006633  |     0.714128  |             |  2.8s"
       ]
      },
      {
       "output_type": "stream",
       "stream": "stdout",
       "text": [
        "\n",
        "   465  |    0.004693  |    0.006630  |     0.707906  |             |  2.8s"
       ]
      },
      {
       "output_type": "stream",
       "stream": "stdout",
       "text": [
        "\n",
        "   466  |    0.004739  |    0.006630  |     0.714853  |             |  2.8s"
       ]
      },
      {
       "output_type": "stream",
       "stream": "stdout",
       "text": [
        "\n",
        "   467  |    0.004808  |    0.006572  |     0.731483  |             |  2.8s"
       ]
      },
      {
       "output_type": "stream",
       "stream": "stdout",
       "text": [
        "\n",
        "   468  |  \u001b[94m  0.004650\u001b[0m  |    0.006548  |     0.710100  |             |  2.8s"
       ]
      },
      {
       "output_type": "stream",
       "stream": "stdout",
       "text": [
        "\n",
        "   469  |    0.004757  |    0.006591  |     0.721804  |             |  2.8s"
       ]
      },
      {
       "output_type": "stream",
       "stream": "stdout",
       "text": [
        "\n",
        "   470  |    0.004841  |  \u001b[32m  0.006538\u001b[0m  |     0.740454  |             |  2.8s"
       ]
      },
      {
       "output_type": "stream",
       "stream": "stdout",
       "text": [
        "\n",
        "   471  |    0.004747  |    0.006590  |     0.720234  |             |  2.8s"
       ]
      },
      {
       "output_type": "stream",
       "stream": "stdout",
       "text": [
        "\n",
        "   472  |    0.004793  |    0.006547  |     0.732075  |             |  2.8s"
       ]
      },
      {
       "output_type": "stream",
       "stream": "stdout",
       "text": [
        "\n",
        "   473  |    0.004688  |    0.006548  |     0.715940  |             |  2.8s"
       ]
      },
      {
       "output_type": "stream",
       "stream": "stdout",
       "text": [
        "\n",
        "   474  |    0.004732  |    0.006592  |     0.717797  |             |  2.8s"
       ]
      },
      {
       "output_type": "stream",
       "stream": "stdout",
       "text": [
        "\n",
        "   475  |    0.004802  |    0.006599  |     0.727663  |             |  2.8s"
       ]
      },
      {
       "output_type": "stream",
       "stream": "stdout",
       "text": [
        "\n",
        "   476  |    0.004750  |    0.006600  |     0.719641  |             |  2.8s"
       ]
      },
      {
       "output_type": "stream",
       "stream": "stdout",
       "text": [
        "\n",
        "   477  |    0.004717  |    0.006565  |     0.718466  |             |  2.8s"
       ]
      },
      {
       "output_type": "stream",
       "stream": "stdout",
       "text": [
        "\n",
        "   478  |    0.004830  |    0.006604  |     0.731404  |             |  2.8s"
       ]
      },
      {
       "output_type": "stream",
       "stream": "stdout",
       "text": [
        "\n",
        "   479  |    0.004688  |    0.006607  |     0.709460  |             |  2.8s"
       ]
      },
      {
       "output_type": "stream",
       "stream": "stdout",
       "text": [
        "\n",
        "   480  |    0.004720  |    0.006630  |     0.711995  |             |  2.8s"
       ]
      },
      {
       "output_type": "stream",
       "stream": "stdout",
       "text": [
        "\n",
        "   481  |    0.004750  |    0.006574  |     0.722579  |             |  2.8s"
       ]
      },
      {
       "output_type": "stream",
       "stream": "stdout",
       "text": [
        "\n",
        "   482  |    0.004709  |    0.006564  |     0.717425  |             |  2.8s"
       ]
      },
      {
       "output_type": "stream",
       "stream": "stdout",
       "text": [
        "\n",
        "   483  |    0.004779  |    0.006595  |     0.724607  |             |  2.8s"
       ]
      },
      {
       "output_type": "stream",
       "stream": "stdout",
       "text": [
        "\n",
        "   484  |    0.004745  |    0.006578  |     0.721249  |             |  2.8s"
       ]
      },
      {
       "output_type": "stream",
       "stream": "stdout",
       "text": [
        "\n",
        "   485  |  \u001b[94m  0.004644\u001b[0m  |    0.006602  |     0.703496  |             |  2.8s"
       ]
      },
      {
       "output_type": "stream",
       "stream": "stdout",
       "text": [
        "\n",
        "   486  |    0.004729  |    0.006574  |     0.719426  |             |  2.8s"
       ]
      },
      {
       "output_type": "stream",
       "stream": "stdout",
       "text": [
        "\n",
        "   487  |    0.004683  |    0.006598  |     0.709705  |             |  2.8s"
       ]
      },
      {
       "output_type": "stream",
       "stream": "stdout",
       "text": [
        "\n",
        "   488  |    0.004781  |    0.006566  |     0.728204  |             |  2.8s"
       ]
      },
      {
       "output_type": "stream",
       "stream": "stdout",
       "text": [
        "\n",
        "   489  |  \u001b[94m  0.004606\u001b[0m  |    0.006579  |     0.700178  |             |  2.8s"
       ]
      },
      {
       "output_type": "stream",
       "stream": "stdout",
       "text": [
        "\n",
        "   490  |  \u001b[94m  0.004585\u001b[0m  |    0.006572  |     0.697710  |             |  2.8s"
       ]
      },
      {
       "output_type": "stream",
       "stream": "stdout",
       "text": [
        "\n",
        "   491  |    0.004729  |    0.006596  |     0.716946  |             |  2.8s"
       ]
      },
      {
       "output_type": "stream",
       "stream": "stdout",
       "text": [
        "\n",
        "   492  |    0.004678  |  \u001b[32m  0.006536\u001b[0m  |     0.715730  |             |  2.8s"
       ]
      },
      {
       "output_type": "stream",
       "stream": "stdout",
       "text": [
        "\n",
        "   493  |    0.004604  |    0.006570  |     0.700769  |             |  2.8s"
       ]
      },
      {
       "output_type": "stream",
       "stream": "stdout",
       "text": [
        "\n",
        "   494  |    0.004693  |    0.006587  |     0.712412  |             |  2.8s"
       ]
      },
      {
       "output_type": "stream",
       "stream": "stdout",
       "text": [
        "\n",
        "   495  |    0.004627  |    0.006620  |     0.698941  |             |  2.8s"
       ]
      },
      {
       "output_type": "stream",
       "stream": "stdout",
       "text": [
        "\n",
        "   496  |    0.004674  |    0.006576  |     0.710782  |             |  2.8s"
       ]
      },
      {
       "output_type": "stream",
       "stream": "stdout",
       "text": [
        "\n",
        "   497  |    0.004727  |    0.006603  |     0.715950  |             |  2.8s"
       ]
      },
      {
       "output_type": "stream",
       "stream": "stdout",
       "text": [
        "\n",
        "   498  |    0.004646  |    0.006559  |     0.708445  |             |  2.8s"
       ]
      },
      {
       "output_type": "stream",
       "stream": "stdout",
       "text": [
        "\n",
        "   499  |    0.004686  |    0.006622  |     0.707682  |             |  2.8s"
       ]
      },
      {
       "output_type": "stream",
       "stream": "stdout",
       "text": [
        "\n",
        "   500  |    0.004642  |    0.006631  |     0.700050  |             |  2.8s"
       ]
      },
      {
       "output_type": "stream",
       "stream": "stdout",
       "text": [
        "\n",
        "   501  |  \u001b[94m  0.004550\u001b[0m  |    0.006607  |     0.688721  |             |  2.8s"
       ]
      },
      {
       "output_type": "stream",
       "stream": "stdout",
       "text": [
        "\n",
        "   502  |    0.004655  |    0.006589  |     0.706503  |             |  2.8s"
       ]
      },
      {
       "output_type": "stream",
       "stream": "stdout",
       "text": [
        "\n",
        "   503  |    0.004554  |    0.006577  |     0.692300  |             |  2.8s"
       ]
      },
      {
       "output_type": "stream",
       "stream": "stdout",
       "text": [
        "\n",
        "   504  |  \u001b[94m  0.004547\u001b[0m  |    0.006590  |     0.690066  |             |  2.8s"
       ]
      },
      {
       "output_type": "stream",
       "stream": "stdout",
       "text": [
        "\n",
        "   505  |    0.004575  |    0.006603  |     0.692835  |             |  2.8s"
       ]
      },
      {
       "output_type": "stream",
       "stream": "stdout",
       "text": [
        "\n",
        "   506  |    0.004732  |    0.006589  |     0.718174  |             |  2.8s"
       ]
      },
      {
       "output_type": "stream",
       "stream": "stdout",
       "text": [
        "\n",
        "   507  |    0.004654  |    0.006580  |     0.707290  |             |  2.8s"
       ]
      },
      {
       "output_type": "stream",
       "stream": "stdout",
       "text": [
        "\n",
        "   508  |    0.004618  |    0.006631  |     0.696515  |             |  2.8s"
       ]
      },
      {
       "output_type": "stream",
       "stream": "stdout",
       "text": [
        "\n",
        "   509  |    0.004611  |    0.006592  |     0.699501  |             |  2.8s"
       ]
      },
      {
       "output_type": "stream",
       "stream": "stdout",
       "text": [
        "\n",
        "   510  |    0.004681  |    0.006575  |     0.712008  |             |  2.8s"
       ]
      },
      {
       "output_type": "stream",
       "stream": "stdout",
       "text": [
        "\n",
        "   511  |    0.004739  |    0.006608  |     0.717198  |             |  2.8s"
       ]
      },
      {
       "output_type": "stream",
       "stream": "stdout",
       "text": [
        "\n",
        "   512  |    0.004577  |    0.006644  |     0.688885  |             |  2.8s"
       ]
      },
      {
       "output_type": "stream",
       "stream": "stdout",
       "text": [
        "\n",
        "   513  |    0.004703  |    0.006625  |     0.709955  |             |  2.8s"
       ]
      },
      {
       "output_type": "stream",
       "stream": "stdout",
       "text": [
        "\n",
        "   514  |    0.004628  |    0.006601  |     0.701224  |             |  2.8s"
       ]
      },
      {
       "output_type": "stream",
       "stream": "stdout",
       "text": [
        "\n",
        "   515  |    0.004584  |    0.006586  |     0.696005  |             |  2.8s"
       ]
      },
      {
       "output_type": "stream",
       "stream": "stdout",
       "text": [
        "\n",
        "   516  |    0.004634  |    0.006555  |     0.706920  |             |  2.8s"
       ]
      },
      {
       "output_type": "stream",
       "stream": "stdout",
       "text": [
        "\n",
        "   517  |    0.004618  |    0.006601  |     0.699572  |             |  2.8s"
       ]
      },
      {
       "output_type": "stream",
       "stream": "stdout",
       "text": [
        "\n",
        "   518  |    0.004637  |    0.006623  |     0.700165  |             |  2.8s"
       ]
      },
      {
       "output_type": "stream",
       "stream": "stdout",
       "text": [
        "\n",
        "   519  |    0.004612  |    0.006600  |     0.698742  |             |  2.8s"
       ]
      },
      {
       "output_type": "stream",
       "stream": "stdout",
       "text": [
        "\n",
        "   520  |  \u001b[94m  0.004518\u001b[0m  |    0.006592  |     0.685344  |             |  2.8s"
       ]
      },
      {
       "output_type": "stream",
       "stream": "stdout",
       "text": [
        "\n",
        "   521  |    0.004604  |    0.006575  |     0.700254  |             |  2.8s"
       ]
      },
      {
       "output_type": "stream",
       "stream": "stdout",
       "text": [
        "\n",
        "   522  |    0.004532  |    0.006590  |     0.687651  |             |  2.8s"
       ]
      },
      {
       "output_type": "stream",
       "stream": "stdout",
       "text": [
        "\n",
        "   523  |    0.004679  |    0.006570  |     0.712244  |             |  2.8s"
       ]
      },
      {
       "output_type": "stream",
       "stream": "stdout",
       "text": [
        "\n",
        "   524  |    0.004606  |    0.006645  |     0.693144  |             |  2.8s"
       ]
      },
      {
       "output_type": "stream",
       "stream": "stdout",
       "text": [
        "\n",
        "   525  |    0.004583  |    0.006650  |     0.689162  |             |  2.8s"
       ]
      },
      {
       "output_type": "stream",
       "stream": "stdout",
       "text": [
        "\n",
        "   526  |  \u001b[94m  0.004506\u001b[0m  |    0.006585  |     0.684308  |             |  2.8s"
       ]
      },
      {
       "output_type": "stream",
       "stream": "stdout",
       "text": [
        "\n",
        "   527  |    0.004570  |    0.006551  |     0.697562  |             |  2.8s"
       ]
      },
      {
       "output_type": "stream",
       "stream": "stdout",
       "text": [
        "\n",
        "   528  |    0.004632  |  \u001b[32m  0.006532\u001b[0m  |     0.709100  |             |  2.8s"
       ]
      },
      {
       "output_type": "stream",
       "stream": "stdout",
       "text": [
        "\n",
        "   529  |    0.004593  |    0.006582  |     0.697849  |             |  2.8s"
       ]
      },
      {
       "output_type": "stream",
       "stream": "stdout",
       "text": [
        "\n",
        "   530  |    0.004627  |    0.006596  |     0.701500  |             |  2.8s"
       ]
      },
      {
       "output_type": "stream",
       "stream": "stdout",
       "text": [
        "\n",
        "   531  |    0.004510  |    0.006565  |     0.687021  |             |  2.8s"
       ]
      },
      {
       "output_type": "stream",
       "stream": "stdout",
       "text": [
        "\n",
        "   532  |    0.004577  |    0.006573  |     0.696351  |             |  2.8s"
       ]
      },
      {
       "output_type": "stream",
       "stream": "stdout",
       "text": [
        "\n",
        "   533  |    0.004626  |    0.006568  |     0.704357  |             |  2.8s"
       ]
      },
      {
       "output_type": "stream",
       "stream": "stdout",
       "text": [
        "\n",
        "   534  |  \u001b[94m  0.004492\u001b[0m  |    0.006566  |     0.684090  |             |  2.8s"
       ]
      },
      {
       "output_type": "stream",
       "stream": "stdout",
       "text": [
        "\n",
        "   535  |    0.004590  |    0.006586  |     0.697035  |             |  2.8s"
       ]
      },
      {
       "output_type": "stream",
       "stream": "stdout",
       "text": [
        "\n",
        "   536  |    0.004656  |    0.006564  |     0.709342  |             |  2.8s"
       ]
      },
      {
       "output_type": "stream",
       "stream": "stdout",
       "text": [
        "\n",
        "   537  |    0.004545  |    0.006596  |     0.689119  |             |  2.8s"
       ]
      },
      {
       "output_type": "stream",
       "stream": "stdout",
       "text": [
        "\n",
        "   538  |    0.004626  |    0.006591  |     0.701932  |             |  2.8s"
       ]
      },
      {
       "output_type": "stream",
       "stream": "stdout",
       "text": [
        "\n",
        "   539  |    0.004586  |    0.006545  |     0.700700  |             |  2.8s"
       ]
      },
      {
       "output_type": "stream",
       "stream": "stdout",
       "text": [
        "\n",
        "   540  |    0.004645  |    0.006588  |     0.705053  |             |  2.8s"
       ]
      },
      {
       "output_type": "stream",
       "stream": "stdout",
       "text": [
        "\n",
        "   541  |    0.004651  |    0.006595  |     0.705254  |             |  2.8s"
       ]
      },
      {
       "output_type": "stream",
       "stream": "stdout",
       "text": [
        "\n",
        "   542  |    0.004563  |    0.006582  |     0.693362  |             |  2.8s"
       ]
      },
      {
       "output_type": "stream",
       "stream": "stdout",
       "text": [
        "\n",
        "   543  |    0.004514  |    0.006579  |     0.686211  |             |  2.8s"
       ]
      },
      {
       "output_type": "stream",
       "stream": "stdout",
       "text": [
        "\n",
        "   544  |    0.004589  |    0.006552  |     0.700360  |             |  2.8s"
       ]
      },
      {
       "output_type": "stream",
       "stream": "stdout",
       "text": [
        "\n",
        "   545  |  \u001b[94m  0.004448\u001b[0m  |  \u001b[32m  0.006522\u001b[0m  |     0.682081  |             |  2.8s"
       ]
      },
      {
       "output_type": "stream",
       "stream": "stdout",
       "text": [
        "\n",
        "   546  |    0.004505  |    0.006548  |     0.688036  |             |  2.8s"
       ]
      },
      {
       "output_type": "stream",
       "stream": "stdout",
       "text": [
        "\n",
        "   547  |    0.004503  |    0.006544  |     0.688164  |             |  2.8s"
       ]
      },
      {
       "output_type": "stream",
       "stream": "stdout",
       "text": [
        "\n",
        "   548  |    0.004490  |    0.006560  |     0.684411  |             |  2.8s"
       ]
      },
      {
       "output_type": "stream",
       "stream": "stdout",
       "text": [
        "\n",
        "   549  |    0.004524  |    0.006580  |     0.687552  |             |  2.8s"
       ]
      },
      {
       "output_type": "stream",
       "stream": "stdout",
       "text": [
        "\n",
        "   550  |    0.004506  |    0.006601  |     0.682545  |             |  2.8s"
       ]
      },
      {
       "output_type": "stream",
       "stream": "stdout",
       "text": [
        "\n",
        "   551  |    0.004477  |    0.006599  |     0.678436  |             |  2.8s"
       ]
      },
      {
       "output_type": "stream",
       "stream": "stdout",
       "text": [
        "\n",
        "   552  |    0.004518  |    0.006553  |     0.689414  |             |  2.8s"
       ]
      },
      {
       "output_type": "stream",
       "stream": "stdout",
       "text": [
        "\n",
        "   553  |    0.004495  |    0.006557  |     0.685575  |             |  2.8s"
       ]
      },
      {
       "output_type": "stream",
       "stream": "stdout",
       "text": [
        "\n",
        "   554  |    0.004506  |    0.006602  |     0.682585  |             |  2.8s"
       ]
      },
      {
       "output_type": "stream",
       "stream": "stdout",
       "text": [
        "\n",
        "   555  |  \u001b[94m  0.004440\u001b[0m  |    0.006588  |     0.674001  |             |  2.8s"
       ]
      },
      {
       "output_type": "stream",
       "stream": "stdout",
       "text": [
        "\n",
        "   556  |    0.004483  |    0.006574  |     0.681954  |             |  2.8s"
       ]
      },
      {
       "output_type": "stream",
       "stream": "stdout",
       "text": [
        "\n",
        "   557  |    0.004563  |    0.006533  |     0.698558  |             |  2.8s"
       ]
      },
      {
       "output_type": "stream",
       "stream": "stdout",
       "text": [
        "\n",
        "   558  |    0.004452  |    0.006573  |     0.677418  |             |  2.8s"
       ]
      },
      {
       "output_type": "stream",
       "stream": "stdout",
       "text": [
        "\n",
        "   559  |  \u001b[94m  0.004403\u001b[0m  |    0.006589  |     0.668232  |             |  2.8s"
       ]
      },
      {
       "output_type": "stream",
       "stream": "stdout",
       "text": [
        "\n",
        "   560  |    0.004477  |    0.006562  |     0.682237  |             |  2.8s"
       ]
      },
      {
       "output_type": "stream",
       "stream": "stdout",
       "text": [
        "\n",
        "   561  |    0.004571  |    0.006560  |     0.696720  |             |  2.8s"
       ]
      },
      {
       "output_type": "stream",
       "stream": "stdout",
       "text": [
        "\n",
        "   562  |    0.004431  |    0.006620  |     0.669255  |             |  2.8s"
       ]
      },
      {
       "output_type": "stream",
       "stream": "stdout",
       "text": [
        "\n",
        "   563  |    0.004527  |    0.006531  |     0.693153  |             |  2.8s"
       ]
      },
      {
       "output_type": "stream",
       "stream": "stdout",
       "text": [
        "\n",
        "   564  |    0.004487  |    0.006570  |     0.682875  |             |  2.8s"
       ]
      },
      {
       "output_type": "stream",
       "stream": "stdout",
       "text": [
        "\n",
        "   565  |    0.004508  |    0.006561  |     0.687179  |             |  2.8s"
       ]
      },
      {
       "output_type": "stream",
       "stream": "stdout",
       "text": [
        "\n",
        "   566  |    0.004616  |    0.006535  |     0.706358  |             |  2.8s"
       ]
      },
      {
       "output_type": "stream",
       "stream": "stdout",
       "text": [
        "\n",
        "   567  |    0.004529  |    0.006557  |     0.690740  |             |  2.8s"
       ]
      },
      {
       "output_type": "stream",
       "stream": "stdout",
       "text": [
        "\n",
        "   568  |    0.004563  |    0.006534  |     0.698462  |             |  2.8s"
       ]
      },
      {
       "output_type": "stream",
       "stream": "stdout",
       "text": [
        "\n",
        "   569  |    0.004477  |    0.006578  |     0.680569  |             |  2.8s"
       ]
      },
      {
       "output_type": "stream",
       "stream": "stdout",
       "text": [
        "\n",
        "   570  |    0.004465  |    0.006565  |     0.680003  |             |  2.8s"
       ]
      },
      {
       "output_type": "stream",
       "stream": "stdout",
       "text": [
        "\n",
        "   571  |  \u001b[94m  0.004366\u001b[0m  |    0.006566  |     0.664931  |             |  2.8s"
       ]
      },
      {
       "output_type": "stream",
       "stream": "stdout",
       "text": [
        "\n",
        "   572  |    0.004453  |    0.006568  |     0.677972  |             |  2.8s"
       ]
      },
      {
       "output_type": "stream",
       "stream": "stdout",
       "text": [
        "\n",
        "   573  |    0.004462  |    0.006561  |     0.680077  |             |  2.8s"
       ]
      },
      {
       "output_type": "stream",
       "stream": "stdout",
       "text": [
        "\n",
        "   574  |  \u001b[94m  0.004362\u001b[0m  |    0.006566  |     0.664408  |             |  2.8s"
       ]
      },
      {
       "output_type": "stream",
       "stream": "stdout",
       "text": [
        "\n",
        "   575  |    0.004496  |    0.006569  |     0.684428  |             |  2.8s"
       ]
      },
      {
       "output_type": "stream",
       "stream": "stdout",
       "text": [
        "\n",
        "   576  |    0.004424  |    0.006556  |     0.674746  |             |  2.8s"
       ]
      },
      {
       "output_type": "stream",
       "stream": "stdout",
       "text": [
        "\n",
        "   577  |    0.004408  |    0.006557  |     0.672353  |             |  2.8s"
       ]
      },
      {
       "output_type": "stream",
       "stream": "stdout",
       "text": [
        "\n",
        "   578  |    0.004472  |    0.006586  |     0.679025  |             |  2.8s"
       ]
      },
      {
       "output_type": "stream",
       "stream": "stdout",
       "text": [
        "\n",
        "   579  |    0.004493  |    0.006549  |     0.686065  |             |  2.8s"
       ]
      },
      {
       "output_type": "stream",
       "stream": "stdout",
       "text": [
        "\n",
        "   580  |    0.004457  |    0.006564  |     0.679060  |             |  2.8s"
       ]
      },
      {
       "output_type": "stream",
       "stream": "stdout",
       "text": [
        "\n",
        "   581  |    0.004460  |    0.006538  |     0.682161  |             |  2.8s"
       ]
      },
      {
       "output_type": "stream",
       "stream": "stdout",
       "text": [
        "\n",
        "   582  |    0.004500  |    0.006567  |     0.685221  |             |  2.8s"
       ]
      },
      {
       "output_type": "stream",
       "stream": "stdout",
       "text": [
        "\n",
        "   583  |    0.004468  |    0.006602  |     0.676801  |             |  2.8s"
       ]
      },
      {
       "output_type": "stream",
       "stream": "stdout",
       "text": [
        "\n",
        "   584  |    0.004380  |    0.006581  |     0.665623  |             |  2.8s"
       ]
      },
      {
       "output_type": "stream",
       "stream": "stdout",
       "text": [
        "\n",
        "   585  |    0.004456  |    0.006563  |     0.679016  |             |  2.8s"
       ]
      },
      {
       "output_type": "stream",
       "stream": "stdout",
       "text": [
        "\n",
        "   586  |  \u001b[94m  0.004289\u001b[0m  |    0.006545  |     0.655298  |             |  2.8s"
       ]
      },
      {
       "output_type": "stream",
       "stream": "stdout",
       "text": [
        "\n",
        "   587  |    0.004451  |    0.006551  |     0.679456  |             |  2.8s"
       ]
      },
      {
       "output_type": "stream",
       "stream": "stdout",
       "text": [
        "\n",
        "   588  |    0.004481  |    0.006535  |     0.685671  |             |  2.8s"
       ]
      },
      {
       "output_type": "stream",
       "stream": "stdout",
       "text": [
        "\n",
        "   589  |    0.004325  |    0.006532  |     0.662100  |             |  2.8s"
       ]
      },
      {
       "output_type": "stream",
       "stream": "stdout",
       "text": [
        "\n",
        "   590  |    0.004485  |    0.006542  |     0.685500  |             |  2.8s"
       ]
      },
      {
       "output_type": "stream",
       "stream": "stdout",
       "text": [
        "\n",
        "   591  |    0.004470  |    0.006525  |     0.684995  |             |  2.8s"
       ]
      },
      {
       "output_type": "stream",
       "stream": "stdout",
       "text": [
        "\n",
        "   592  |    0.004356  |    0.006546  |     0.665384  |             |  2.8s"
       ]
      },
      {
       "output_type": "stream",
       "stream": "stdout",
       "text": [
        "\n",
        "   593  |    0.004396  |    0.006553  |     0.670927  |             |  2.8s"
       ]
      },
      {
       "output_type": "stream",
       "stream": "stdout",
       "text": [
        "\n",
        "   594  |    0.004459  |    0.006544  |     0.681342  |             |  2.8s"
       ]
      },
      {
       "output_type": "stream",
       "stream": "stdout",
       "text": [
        "\n",
        "   595  |    0.004453  |    0.006572  |     0.677578  |             |  2.8s"
       ]
      },
      {
       "output_type": "stream",
       "stream": "stdout",
       "text": [
        "\n",
        "   596  |    0.004517  |    0.006527  |     0.692065  |             |  2.8s"
       ]
      },
      {
       "output_type": "stream",
       "stream": "stdout",
       "text": [
        "\n",
        "   597  |    0.004392  |    0.006567  |     0.668804  |             |  2.8s"
       ]
      },
      {
       "output_type": "stream",
       "stream": "stdout",
       "text": [
        "\n",
        "   598  |    0.004420  |    0.006553  |     0.674554  |             |  2.8s"
       ]
      },
      {
       "output_type": "stream",
       "stream": "stdout",
       "text": [
        "\n",
        "   599  |    0.004355  |    0.006556  |     0.664306  |             |  2.8s"
       ]
      },
      {
       "output_type": "stream",
       "stream": "stdout",
       "text": [
        "\n",
        "   600  |    0.004398  |    0.006578  |     0.668604  |             |  2.8s"
       ]
      },
      {
       "output_type": "stream",
       "stream": "stdout",
       "text": [
        "\n",
        "   601  |    0.004498  |    0.006565  |     0.685118  |             |  2.8s"
       ]
      },
      {
       "output_type": "stream",
       "stream": "stdout",
       "text": [
        "\n",
        "   602  |    0.004465  |    0.006528  |     0.684009  |             |  2.8s"
       ]
      },
      {
       "output_type": "stream",
       "stream": "stdout",
       "text": [
        "\n",
        "   603  |    0.004389  |    0.006547  |     0.670372  |             |  2.8s"
       ]
      },
      {
       "output_type": "stream",
       "stream": "stdout",
       "text": [
        "\n",
        "   604  |    0.004304  |    0.006565  |     0.655645  |             |  2.8s"
       ]
      },
      {
       "output_type": "stream",
       "stream": "stdout",
       "text": [
        "\n",
        "   605  |    0.004414  |    0.006579  |     0.670986  |             |  2.8s"
       ]
      },
      {
       "output_type": "stream",
       "stream": "stdout",
       "text": [
        "\n",
        "   606  |    0.004439  |    0.006598  |     0.672773  |             |  2.8s"
       ]
      },
      {
       "output_type": "stream",
       "stream": "stdout",
       "text": [
        "\n",
        "   607  |    0.004448  |    0.006588  |     0.675104  |             |  2.8s"
       ]
      },
      {
       "output_type": "stream",
       "stream": "stdout",
       "text": [
        "\n",
        "   608  |    0.004312  |    0.006546  |     0.658646  |             |  2.8s"
       ]
      },
      {
       "output_type": "stream",
       "stream": "stdout",
       "text": [
        "\n",
        "   609  |    0.004356  |    0.006539  |     0.666104  |             |  2.8s"
       ]
      },
      {
       "output_type": "stream",
       "stream": "stdout",
       "text": [
        "\n",
        "   610  |    0.004370  |    0.006575  |     0.664671  |             |  2.8s"
       ]
      },
      {
       "output_type": "stream",
       "stream": "stdout",
       "text": [
        "\n",
        "   611  |    0.004459  |  \u001b[32m  0.006486\u001b[0m  |     0.687543  |             |  2.8s"
       ]
      },
      {
       "output_type": "stream",
       "stream": "stdout",
       "text": [
        "\n",
        "   612  |    0.004342  |    0.006545  |     0.663370  |             |  2.8s"
       ]
      },
      {
       "output_type": "stream",
       "stream": "stdout",
       "text": [
        "\n",
        "   613  |    0.004350  |    0.006546  |     0.664549  |             |  2.8s"
       ]
      },
      {
       "output_type": "stream",
       "stream": "stdout",
       "text": [
        "\n",
        "   614  |    0.004426  |    0.006519  |     0.678977  |             |  2.8s"
       ]
      },
      {
       "output_type": "stream",
       "stream": "stdout",
       "text": [
        "\n",
        "   615  |    0.004332  |    0.006546  |     0.661717  |             |  2.8s"
       ]
      },
      {
       "output_type": "stream",
       "stream": "stdout",
       "text": [
        "\n",
        "   616  |    0.004420  |    0.006540  |     0.675794  |             |  2.8s"
       ]
      },
      {
       "output_type": "stream",
       "stream": "stdout",
       "text": [
        "\n",
        "   617  |    0.004390  |    0.006558  |     0.669433  |             |  2.8s"
       ]
      },
      {
       "output_type": "stream",
       "stream": "stdout",
       "text": [
        "\n",
        "   618  |    0.004378  |    0.006578  |     0.665534  |             |  2.8s"
       ]
      },
      {
       "output_type": "stream",
       "stream": "stdout",
       "text": [
        "\n",
        "   619  |    0.004368  |    0.006572  |     0.664671  |             |  2.8s"
       ]
      },
      {
       "output_type": "stream",
       "stream": "stdout",
       "text": [
        "\n",
        "   620  |    0.004383  |    0.006532  |     0.670966  |             |  2.8s"
       ]
      },
      {
       "output_type": "stream",
       "stream": "stdout",
       "text": [
        "\n",
        "   621  |    0.004382  |    0.006578  |     0.666186  |             |  2.8s"
       ]
      },
      {
       "output_type": "stream",
       "stream": "stdout",
       "text": [
        "\n",
        "   622  |  \u001b[94m  0.004207\u001b[0m  |    0.006592  |     0.638187  |             |  2.8s"
       ]
      },
      {
       "output_type": "stream",
       "stream": "stdout",
       "text": [
        "\n",
        "   623  |    0.004362  |    0.006526  |     0.668450  |             |  2.8s"
       ]
      },
      {
       "output_type": "stream",
       "stream": "stdout",
       "text": [
        "\n",
        "   624  |    0.004389  |    0.006583  |     0.666652  |             |  2.8s"
       ]
      },
      {
       "output_type": "stream",
       "stream": "stdout",
       "text": [
        "\n",
        "   625  |    0.004321  |    0.006523  |     0.662515  |             |  2.8s"
       ]
      },
      {
       "output_type": "stream",
       "stream": "stdout",
       "text": [
        "\n",
        "   626  |    0.004368  |    0.006553  |     0.666602  |             |  2.8s"
       ]
      },
      {
       "output_type": "stream",
       "stream": "stdout",
       "text": [
        "\n",
        "   627  |    0.004358  |    0.006574  |     0.662832  |             |  2.8s"
       ]
      },
      {
       "output_type": "stream",
       "stream": "stdout",
       "text": [
        "\n",
        "   628  |    0.004342  |    0.006592  |     0.658788  |             |  2.8s"
       ]
      },
      {
       "output_type": "stream",
       "stream": "stdout",
       "text": [
        "\n",
        "   629  |    0.004241  |    0.006631  |     0.639590  |             |  2.8s"
       ]
      },
      {
       "output_type": "stream",
       "stream": "stdout",
       "text": [
        "\n",
        "   630  |    0.004259  |    0.006593  |     0.646045  |             |  2.8s"
       ]
      },
      {
       "output_type": "stream",
       "stream": "stdout",
       "text": [
        "\n",
        "   631  |    0.004370  |    0.006571  |     0.664965  |             |  2.8s"
       ]
      },
      {
       "output_type": "stream",
       "stream": "stdout",
       "text": [
        "\n",
        "   632  |    0.004344  |    0.006526  |     0.665578  |             |  2.8s"
       ]
      },
      {
       "output_type": "stream",
       "stream": "stdout",
       "text": [
        "\n",
        "   633  |    0.004276  |    0.006549  |     0.652991  |             |  2.8s"
       ]
      },
      {
       "output_type": "stream",
       "stream": "stdout",
       "text": [
        "\n",
        "   634  |    0.004262  |    0.006554  |     0.650288  |             |  2.8s"
       ]
      },
      {
       "output_type": "stream",
       "stream": "stdout",
       "text": [
        "\n",
        "   635  |    0.004392  |    0.006562  |     0.669378  |             |  2.8s"
       ]
      },
      {
       "output_type": "stream",
       "stream": "stdout",
       "text": [
        "\n",
        "   636  |    0.004278  |    0.006543  |     0.653822  |             |  2.8s"
       ]
      },
      {
       "output_type": "stream",
       "stream": "stdout",
       "text": [
        "\n",
        "   637  |    0.004304  |    0.006566  |     0.655497  |             |  2.8s"
       ]
      },
      {
       "output_type": "stream",
       "stream": "stdout",
       "text": [
        "\n",
        "   638  |    0.004314  |    0.006542  |     0.659436  |             |  2.8s"
       ]
      },
      {
       "output_type": "stream",
       "stream": "stdout",
       "text": [
        "\n",
        "   639  |    0.004214  |    0.006559  |     0.642498  |             |  2.8s"
       ]
      },
      {
       "output_type": "stream",
       "stream": "stdout",
       "text": [
        "\n",
        "   640  |    0.004353  |    0.006572  |     0.662294  |             |  2.8s"
       ]
      },
      {
       "output_type": "stream",
       "stream": "stdout",
       "text": [
        "\n",
        "   641  |    0.004256  |    0.006575  |     0.647280  |             |  2.8s"
       ]
      },
      {
       "output_type": "stream",
       "stream": "stdout",
       "text": [
        "\n",
        "   642  |    0.004320  |    0.006575  |     0.657088  |             |  2.8s"
       ]
      },
      {
       "output_type": "stream",
       "stream": "stdout",
       "text": [
        "\n",
        "   643  |    0.004346  |    0.006546  |     0.663986  |             |  2.8s"
       ]
      },
      {
       "output_type": "stream",
       "stream": "stdout",
       "text": [
        "\n",
        "   644  |    0.004402  |    0.006589  |     0.668108  |             |  2.8s"
       ]
      },
      {
       "output_type": "stream",
       "stream": "stdout",
       "text": [
        "\n",
        "   645  |    0.004249  |    0.006575  |     0.646321  |             |  2.8s"
       ]
      },
      {
       "output_type": "stream",
       "stream": "stdout",
       "text": [
        "\n",
        "   646  |    0.004345  |    0.006582  |     0.660165  |             |  2.8s"
       ]
      },
      {
       "output_type": "stream",
       "stream": "stdout",
       "text": [
        "\n",
        "   647  |    0.004252  |    0.006579  |     0.646250  |             |  2.8s"
       ]
      },
      {
       "output_type": "stream",
       "stream": "stdout",
       "text": [
        "\n",
        "   648  |    0.004233  |    0.006596  |     0.641727  |             |  2.8s"
       ]
      },
      {
       "output_type": "stream",
       "stream": "stdout",
       "text": [
        "\n",
        "   649  |    0.004253  |    0.006563  |     0.648117  |             |  2.8s"
       ]
      },
      {
       "output_type": "stream",
       "stream": "stdout",
       "text": [
        "\n",
        "   650  |    0.004327  |    0.006560  |     0.659592  |             |  2.8s"
       ]
      },
      {
       "output_type": "stream",
       "stream": "stdout",
       "text": [
        "\n",
        "   651  |  \u001b[94m  0.004194\u001b[0m  |    0.006538  |     0.641521  |             |  2.8s"
       ]
      },
      {
       "output_type": "stream",
       "stream": "stdout",
       "text": [
        "\n",
        "   652  |    0.004342  |    0.006556  |     0.662294  |             |  2.8s"
       ]
      },
      {
       "output_type": "stream",
       "stream": "stdout",
       "text": [
        "\n",
        "   653  |    0.004228  |    0.006564  |     0.644082  |             |  2.8s"
       ]
      },
      {
       "output_type": "stream",
       "stream": "stdout",
       "text": [
        "\n",
        "   654  |    0.004323  |    0.006533  |     0.661719  |             |  2.8s"
       ]
      },
      {
       "output_type": "stream",
       "stream": "stdout",
       "text": [
        "\n",
        "   655  |    0.004196  |    0.006572  |     0.638529  |             |  2.8s"
       ]
      },
      {
       "output_type": "stream",
       "stream": "stdout",
       "text": [
        "\n",
        "   656  |    0.004326  |    0.006563  |     0.659244  |             |  2.8s"
       ]
      },
      {
       "output_type": "stream",
       "stream": "stdout",
       "text": [
        "\n",
        "   657  |    0.004278  |    0.006520  |     0.656169  |             |  2.8s"
       ]
      },
      {
       "output_type": "stream",
       "stream": "stdout",
       "text": [
        "\n",
        "   658  |    0.004245  |    0.006546  |     0.648426  |             |  2.8s"
       ]
      },
      {
       "output_type": "stream",
       "stream": "stdout",
       "text": [
        "\n",
        "   659  |    0.004237  |    0.006544  |     0.647532  |             |  2.8s"
       ]
      },
      {
       "output_type": "stream",
       "stream": "stdout",
       "text": [
        "\n",
        "   660  |    0.004247  |    0.006512  |     0.652184  |             |  2.8s"
       ]
      },
      {
       "output_type": "stream",
       "stream": "stdout",
       "text": [
        "\n",
        "   661  |    0.004248  |    0.006567  |     0.646870  |             |  2.8s"
       ]
      },
      {
       "output_type": "stream",
       "stream": "stdout",
       "text": [
        "\n",
        "   662  |    0.004264  |    0.006533  |     0.652655  |             |  2.8s"
       ]
      },
      {
       "output_type": "stream",
       "stream": "stdout",
       "text": [
        "\n",
        "   663  |    0.004251  |    0.006555  |     0.648588  |             |  2.8s"
       ]
      },
      {
       "output_type": "stream",
       "stream": "stdout",
       "text": [
        "\n",
        "   664  |  \u001b[94m  0.004188\u001b[0m  |    0.006564  |     0.638041  |             |  2.8s"
       ]
      },
      {
       "output_type": "stream",
       "stream": "stdout",
       "text": [
        "\n",
        "   665  |    0.004270  |    0.006546  |     0.652315  |             |  2.8s"
       ]
      },
      {
       "output_type": "stream",
       "stream": "stdout",
       "text": [
        "\n",
        "   666  |    0.004261  |    0.006570  |     0.648597  |             |  2.8s"
       ]
      },
      {
       "output_type": "stream",
       "stream": "stdout",
       "text": [
        "\n",
        "   667  |    0.004253  |    0.006571  |     0.647292  |             |  2.8s"
       ]
      },
      {
       "output_type": "stream",
       "stream": "stdout",
       "text": [
        "\n",
        "   668  |    0.004359  |    0.006577  |     0.662749  |             |  2.8s"
       ]
      },
      {
       "output_type": "stream",
       "stream": "stdout",
       "text": [
        "\n",
        "   669  |    0.004319  |    0.006553  |     0.659121  |             |  2.8s"
       ]
      },
      {
       "output_type": "stream",
       "stream": "stdout",
       "text": [
        "\n",
        "   670  |    0.004224  |    0.006588  |     0.641159  |             |  2.8s"
       ]
      },
      {
       "output_type": "stream",
       "stream": "stdout",
       "text": [
        "\n",
        "   671  |  \u001b[94m  0.004156\u001b[0m  |    0.006538  |     0.635708  |             |  2.8s"
       ]
      },
      {
       "output_type": "stream",
       "stream": "stdout",
       "text": [
        "\n",
        "   672  |    0.004255  |    0.006573  |     0.647245  |             |  2.8s"
       ]
      },
      {
       "output_type": "stream",
       "stream": "stdout",
       "text": [
        "\n",
        "   673  |    0.004160  |    0.006587  |     0.631503  |             |  2.8s"
       ]
      },
      {
       "output_type": "stream",
       "stream": "stdout",
       "text": [
        "\n",
        "   674  |    0.004234  |    0.006549  |     0.646596  |             |  2.8s"
       ]
      },
      {
       "output_type": "stream",
       "stream": "stdout",
       "text": [
        "\n",
        "   675  |    0.004266  |    0.006591  |     0.647205  |             |  2.8s"
       ]
      },
      {
       "output_type": "stream",
       "stream": "stdout",
       "text": [
        "\n",
        "   676  |    0.004323  |    0.006543  |     0.660762  |             |  2.8s"
       ]
      },
      {
       "output_type": "stream",
       "stream": "stdout",
       "text": [
        "\n",
        "   677  |    0.004228  |    0.006585  |     0.642073  |             |  2.8s"
       ]
      },
      {
       "output_type": "stream",
       "stream": "stdout",
       "text": [
        "\n",
        "   678  |    0.004280  |    0.006532  |     0.655246  |             |  2.8s"
       ]
      },
      {
       "output_type": "stream",
       "stream": "stdout",
       "text": [
        "\n",
        "   679  |  \u001b[94m  0.004049\u001b[0m  |    0.006502  |     0.622754  |             |  2.8s"
       ]
      },
      {
       "output_type": "stream",
       "stream": "stdout",
       "text": [
        "\n",
        "   680  |    0.004270  |    0.006548  |     0.652075  |             |  2.8s"
       ]
      },
      {
       "output_type": "stream",
       "stream": "stdout",
       "text": [
        "\n",
        "   681  |    0.004249  |    0.006533  |     0.650350  |             |  2.8s"
       ]
      },
      {
       "output_type": "stream",
       "stream": "stdout",
       "text": [
        "\n",
        "   682  |    0.004360  |    0.006566  |     0.664024  |             |  2.8s"
       ]
      },
      {
       "output_type": "stream",
       "stream": "stdout",
       "text": [
        "\n",
        "   683  |    0.004204  |    0.006544  |     0.642335  |             |  2.8s"
       ]
      },
      {
       "output_type": "stream",
       "stream": "stdout",
       "text": [
        "\n",
        "   684  |    0.004209  |    0.006582  |     0.639467  |             |  2.8s"
       ]
      },
      {
       "output_type": "stream",
       "stream": "stdout",
       "text": [
        "\n",
        "   685  |    0.004199  |    0.006554  |     0.640661  |             |  2.8s"
       ]
      },
      {
       "output_type": "stream",
       "stream": "stdout",
       "text": [
        "\n",
        "   686  |    0.004150  |    0.006560  |     0.632566  |             |  2.8s"
       ]
      },
      {
       "output_type": "stream",
       "stream": "stdout",
       "text": [
        "\n",
        "   687  |    0.004310  |    0.006528  |     0.660163  |             |  2.8s"
       ]
      },
      {
       "output_type": "stream",
       "stream": "stdout",
       "text": [
        "\n",
        "   688  |    0.004208  |    0.006562  |     0.641285  |             |  2.8s"
       ]
      },
      {
       "output_type": "stream",
       "stream": "stdout",
       "text": [
        "\n",
        "   689  |    0.004085  |    0.006578  |     0.620975  |             |  2.8s"
       ]
      },
      {
       "output_type": "stream",
       "stream": "stdout",
       "text": [
        "\n",
        "   690  |    0.004248  |    0.006555  |     0.648075  |             |  2.8s"
       ]
      },
      {
       "output_type": "stream",
       "stream": "stdout",
       "text": [
        "\n",
        "   691  |    0.004206  |    0.006565  |     0.640705  |             |  2.8s"
       ]
      },
      {
       "output_type": "stream",
       "stream": "stdout",
       "text": [
        "\n",
        "   692  |    0.004119  |    0.006567  |     0.627316  |             |  2.8s"
       ]
      },
      {
       "output_type": "stream",
       "stream": "stdout",
       "text": [
        "\n",
        "   693  |    0.004208  |    0.006558  |     0.641692  |             |  2.8s"
       ]
      },
      {
       "output_type": "stream",
       "stream": "stdout",
       "text": [
        "\n",
        "   694  |    0.004159  |    0.006541  |     0.635903  |             |  2.8s"
       ]
      },
      {
       "output_type": "stream",
       "stream": "stdout",
       "text": [
        "\n",
        "   695  |    0.004161  |    0.006497  |     0.640433  |             |  2.8s"
       ]
      },
      {
       "output_type": "stream",
       "stream": "stdout",
       "text": [
        "\n",
        "   696  |    0.004230  |    0.006585  |     0.642354  |             |  2.8s"
       ]
      },
      {
       "output_type": "stream",
       "stream": "stdout",
       "text": [
        "\n",
        "   697  |    0.004213  |    0.006528  |     0.645437  |             |  2.8s"
       ]
      },
      {
       "output_type": "stream",
       "stream": "stdout",
       "text": [
        "\n",
        "   698  |    0.004217  |    0.006560  |     0.642832  |             |  2.8s"
       ]
      },
      {
       "output_type": "stream",
       "stream": "stdout",
       "text": [
        "\n",
        "   699  |    0.004161  |    0.006560  |     0.634389  |             |  2.8s"
       ]
      },
      {
       "output_type": "stream",
       "stream": "stdout",
       "text": [
        "\n",
        "   700  |    0.004163  |    0.006555  |     0.635049  |             |  2.8s"
       ]
      },
      {
       "output_type": "stream",
       "stream": "stdout",
       "text": [
        "\n",
        "   701  |    0.004147  |    0.006571  |     0.631216  |             |  2.8s"
       ]
      },
      {
       "output_type": "stream",
       "stream": "stdout",
       "text": [
        "\n",
        "   702  |  \u001b[94m  0.004042\u001b[0m  |    0.006579  |     0.614427  |             |  2.8s"
       ]
      },
      {
       "output_type": "stream",
       "stream": "stdout",
       "text": [
        "\n",
        "   703  |    0.004188  |    0.006534  |     0.641049  |             |  2.8s"
       ]
      },
      {
       "output_type": "stream",
       "stream": "stdout",
       "text": [
        "\n",
        "   704  |    0.004086  |    0.006566  |     0.622352  |             |  2.8s"
       ]
      },
      {
       "output_type": "stream",
       "stream": "stdout",
       "text": [
        "\n",
        "   705  |    0.004178  |    0.006547  |     0.638275  |             |  2.8s"
       ]
      },
      {
       "output_type": "stream",
       "stream": "stdout",
       "text": [
        "\n",
        "   706  |    0.004140  |    0.006528  |     0.634262  |             |  2.8s"
       ]
      },
      {
       "output_type": "stream",
       "stream": "stdout",
       "text": [
        "\n",
        "   707  |    0.004083  |    0.006560  |     0.622491  |             |  2.8s"
       ]
      },
      {
       "output_type": "stream",
       "stream": "stdout",
       "text": [
        "\n",
        "   708  |    0.004149  |    0.006533  |     0.634981  |             |  2.8s"
       ]
      },
      {
       "output_type": "stream",
       "stream": "stdout",
       "text": [
        "\n",
        "   709  |    0.004088  |    0.006556  |     0.623551  |             |  2.8s"
       ]
      },
      {
       "output_type": "stream",
       "stream": "stdout",
       "text": [
        "\n",
        "   710  |    0.004119  |    0.006550  |     0.628776  |             |  2.8s"
       ]
      },
      {
       "output_type": "stream",
       "stream": "stdout",
       "text": [
        "\n",
        "   711  |    0.004166  |    0.006566  |     0.634421  |             |  2.8s"
       ]
      },
      {
       "output_type": "stream",
       "stream": "stdout",
       "text": [
        "\n",
        "   712  |    0.004131  |    0.006538  |     0.631801  |             |  2.8s"
       ]
      },
      {
       "output_type": "stream",
       "stream": "stdout",
       "text": [
        "\n",
        "   713  |    0.004192  |    0.006492  |     0.645751  |             |  2.8s"
       ]
      },
      {
       "output_type": "stream",
       "stream": "stdout",
       "text": [
        "\n",
        "   714  |    0.004070  |    0.006580  |     0.618564  |             |  2.8s"
       ]
      },
      {
       "output_type": "stream",
       "stream": "stdout",
       "text": [
        "\n",
        "   715  |    0.004132  |    0.006531  |     0.632704  |             |  2.8s"
       ]
      },
      {
       "output_type": "stream",
       "stream": "stdout",
       "text": [
        "\n",
        "   716  |    0.004062  |    0.006549  |     0.620283  |             |  2.8s"
       ]
      },
      {
       "output_type": "stream",
       "stream": "stdout",
       "text": [
        "\n",
        "   717  |  \u001b[94m  0.003995\u001b[0m  |    0.006543  |     0.610645  |             |  2.8s"
       ]
      },
      {
       "output_type": "stream",
       "stream": "stdout",
       "text": [
        "\n",
        "   718  |    0.004154  |    0.006547  |     0.634590  |             |  2.8s"
       ]
      },
      {
       "output_type": "stream",
       "stream": "stdout",
       "text": [
        "\n",
        "   719  |    0.004090  |    0.006532  |     0.626083  |             |  2.8s"
       ]
      },
      {
       "output_type": "stream",
       "stream": "stdout",
       "text": [
        "\n",
        "   720  |    0.004057  |    0.006505  |     0.623686  |             |  2.8s"
       ]
      },
      {
       "output_type": "stream",
       "stream": "stdout",
       "text": [
        "\n",
        "   721  |    0.004282  |    0.006506  |     0.658142  |             |  2.8s"
       ]
      },
      {
       "output_type": "stream",
       "stream": "stdout",
       "text": [
        "\n",
        "   722  |    0.004041  |    0.006519  |     0.619855  |             |  2.8s"
       ]
      },
      {
       "output_type": "stream",
       "stream": "stdout",
       "text": [
        "\n",
        "   723  |    0.004138  |    0.006526  |     0.634126  |             |  2.8s"
       ]
      },
      {
       "output_type": "stream",
       "stream": "stdout",
       "text": [
        "\n",
        "   724  |    0.004191  |    0.006546  |     0.640218  |             |  2.8s"
       ]
      },
      {
       "output_type": "stream",
       "stream": "stdout",
       "text": [
        "\n",
        "   725  |    0.004077  |    0.006522  |     0.625089  |             |  2.8s"
       ]
      },
      {
       "output_type": "stream",
       "stream": "stdout",
       "text": [
        "\n",
        "   726  |    0.004111  |    0.006509  |     0.631505  |             |  2.8s"
       ]
      },
      {
       "output_type": "stream",
       "stream": "stdout",
       "text": [
        "\n",
        "   727  |    0.004082  |    0.006519  |     0.626129  |             |  2.8s"
       ]
      },
      {
       "output_type": "stream",
       "stream": "stdout",
       "text": [
        "\n",
        "   728  |    0.004013  |    0.006515  |     0.615957  |             |  2.8s"
       ]
      },
      {
       "output_type": "stream",
       "stream": "stdout",
       "text": [
        "\n",
        "   729  |    0.004117  |    0.006536  |     0.629987  |             |  2.8s"
       ]
      },
      {
       "output_type": "stream",
       "stream": "stdout",
       "text": [
        "\n",
        "   730  |    0.004089  |    0.006526  |     0.626595  |             |  2.8s"
       ]
      },
      {
       "output_type": "stream",
       "stream": "stdout",
       "text": [
        "\n",
        "   731  |    0.004123  |    0.006536  |     0.630789  |             |  2.8s"
       ]
      },
      {
       "output_type": "stream",
       "stream": "stdout",
       "text": [
        "\n",
        "   732  |    0.004031  |    0.006537  |     0.616539  |             |  2.8s"
       ]
      },
      {
       "output_type": "stream",
       "stream": "stdout",
       "text": [
        "\n",
        "   733  |    0.004111  |    0.006526  |     0.630002  |             |  2.8s"
       ]
      },
      {
       "output_type": "stream",
       "stream": "stdout",
       "text": [
        "\n",
        "   734  |    0.004086  |    0.006558  |     0.623001  |             |  2.8s"
       ]
      },
      {
       "output_type": "stream",
       "stream": "stdout",
       "text": [
        "\n",
        "   735  |    0.004003  |    0.006569  |     0.609372  |             |  2.8s"
       ]
      },
      {
       "output_type": "stream",
       "stream": "stdout",
       "text": [
        "\n",
        "   736  |    0.004101  |    0.006586  |     0.622708  |             |  2.8s"
       ]
      },
      {
       "output_type": "stream",
       "stream": "stdout",
       "text": [
        "\n",
        "   737  |    0.004102  |    0.006600  |     0.621503  |             |  2.8s"
       ]
      },
      {
       "output_type": "stream",
       "stream": "stdout",
       "text": [
        "\n",
        "   738  |    0.004097  |    0.006560  |     0.624562  |             |  2.8s"
       ]
      },
      {
       "output_type": "stream",
       "stream": "stdout",
       "text": [
        "\n",
        "   739  |  \u001b[94m  0.003936\u001b[0m  |    0.006560  |     0.600009  |             |  2.8s"
       ]
      },
      {
       "output_type": "stream",
       "stream": "stdout",
       "text": [
        "\n",
        "   740  |    0.004052  |    0.006506  |     0.622799  |             |  2.8s"
       ]
      },
      {
       "output_type": "stream",
       "stream": "stdout",
       "text": [
        "\n",
        "   741  |    0.004007  |    0.006551  |     0.611603  |             |  2.8s"
       ]
      },
      {
       "output_type": "stream",
       "stream": "stdout",
       "text": [
        "\n",
        "   742  |    0.004081  |    0.006542  |     0.623783  |             |  2.8s"
       ]
      },
      {
       "output_type": "stream",
       "stream": "stdout",
       "text": [
        "\n",
        "   743  |    0.004040  |    0.006567  |     0.615171  |             |  2.8s"
       ]
      },
      {
       "output_type": "stream",
       "stream": "stdout",
       "text": [
        "\n",
        "   744  |    0.004057  |    0.006529  |     0.621464  |             |  2.8s"
       ]
      },
      {
       "output_type": "stream",
       "stream": "stdout",
       "text": [
        "\n",
        "   745  |    0.004119  |    0.006559  |     0.627998  |             |  2.8s"
       ]
      },
      {
       "output_type": "stream",
       "stream": "stdout",
       "text": [
        "\n",
        "   746  |  \u001b[94m  0.003913\u001b[0m  |    0.006519  |     0.600309  |             |  2.8s"
       ]
      },
      {
       "output_type": "stream",
       "stream": "stdout",
       "text": [
        "\n",
        "   747  |    0.004055  |    0.006525  |     0.621516  |             |  2.8s"
       ]
      },
      {
       "output_type": "stream",
       "stream": "stdout",
       "text": [
        "\n",
        "   748  |    0.004039  |    0.006565  |     0.615329  |             |  2.8s"
       ]
      },
      {
       "output_type": "stream",
       "stream": "stdout",
       "text": [
        "\n",
        "   749  |    0.004001  |    0.006525  |     0.613247  |             |  2.8s"
       ]
      },
      {
       "output_type": "stream",
       "stream": "stdout",
       "text": [
        "\n",
        "   750  |    0.004035  |    0.006550  |     0.616044  |             |  2.8s"
       ]
      },
      {
       "output_type": "stream",
       "stream": "stdout",
       "text": [
        "\n",
        "   751  |    0.004015  |    0.006544  |     0.613637  |             |  2.8s"
       ]
      },
      {
       "output_type": "stream",
       "stream": "stdout",
       "text": [
        "\n",
        "   752  |    0.004143  |    0.006577  |     0.629972  |             |  2.8s"
       ]
      },
      {
       "output_type": "stream",
       "stream": "stdout",
       "text": [
        "\n",
        "   753  |    0.003933  |    0.006531  |     0.602241  |             |  2.8s"
       ]
      },
      {
       "output_type": "stream",
       "stream": "stdout",
       "text": [
        "\n",
        "   754  |    0.003923  |    0.006533  |     0.600435  |             |  2.8s"
       ]
      },
      {
       "output_type": "stream",
       "stream": "stdout",
       "text": [
        "\n",
        "   755  |    0.003985  |    0.006539  |     0.609447  |             |  2.8s"
       ]
      },
      {
       "output_type": "stream",
       "stream": "stdout",
       "text": [
        "\n",
        "   756  |    0.004130  |    0.006519  |     0.633563  |             |  2.8s"
       ]
      },
      {
       "output_type": "stream",
       "stream": "stdout",
       "text": [
        "\n",
        "   757  |    0.004011  |    0.006539  |     0.613407  |             |  2.8s"
       ]
      },
      {
       "output_type": "stream",
       "stream": "stdout",
       "text": [
        "\n",
        "   758  |    0.004007  |    0.006563  |     0.610544  |             |  2.8s"
       ]
      },
      {
       "output_type": "stream",
       "stream": "stdout",
       "text": [
        "\n",
        "   759  |    0.004168  |    0.006594  |     0.632113  |             |  2.8s"
       ]
      },
      {
       "output_type": "stream",
       "stream": "stdout",
       "text": [
        "\n",
        "   760  |    0.004044  |    0.006546  |     0.617773  |             |  2.8s"
       ]
      },
      {
       "output_type": "stream",
       "stream": "stdout",
       "text": [
        "\n",
        "   761  |    0.004057  |    0.006568  |     0.617762  |             |  2.8s"
       ]
      },
      {
       "output_type": "stream",
       "stream": "stdout",
       "text": [
        "\n",
        "   762  |    0.003959  |    0.006572  |     0.602439  |             |  2.8s"
       ]
      },
      {
       "output_type": "stream",
       "stream": "stdout",
       "text": [
        "\n",
        "   763  |    0.004045  |    0.006550  |     0.617596  |             |  2.8s"
       ]
      },
      {
       "output_type": "stream",
       "stream": "stdout",
       "text": [
        "\n",
        "   764  |    0.004055  |    0.006520  |     0.621943  |             |  2.8s"
       ]
      },
      {
       "output_type": "stream",
       "stream": "stdout",
       "text": [
        "\n",
        "   765  |    0.004009  |    0.006497  |     0.617082  |             |  2.8s"
       ]
      },
      {
       "output_type": "stream",
       "stream": "stdout",
       "text": [
        "\n",
        "   766  |    0.003971  |    0.006550  |     0.606228  |             |  2.8s"
       ]
      },
      {
       "output_type": "stream",
       "stream": "stdout",
       "text": [
        "\n",
        "   767  |    0.004115  |    0.006525  |     0.630753  |             |  2.8s"
       ]
      },
      {
       "output_type": "stream",
       "stream": "stdout",
       "text": [
        "\n",
        "   768  |    0.003974  |    0.006593  |     0.602755  |             |  2.8s"
       ]
      },
      {
       "output_type": "stream",
       "stream": "stdout",
       "text": [
        "\n",
        "   769  |    0.003925  |    0.006588  |     0.595757  |             |  2.8s"
       ]
      },
      {
       "output_type": "stream",
       "stream": "stdout",
       "text": [
        "\n",
        "   770  |    0.004055  |    0.006548  |     0.619330  |             |  2.8s"
       ]
      },
      {
       "output_type": "stream",
       "stream": "stdout",
       "text": [
        "\n",
        "   771  |    0.004044  |    0.006556  |     0.616917  |             |  2.8s"
       ]
      },
      {
       "output_type": "stream",
       "stream": "stdout",
       "text": [
        "\n",
        "   772  |    0.004037  |    0.006581  |     0.613490  |             |  2.8s"
       ]
      },
      {
       "output_type": "stream",
       "stream": "stdout",
       "text": [
        "\n",
        "   773  |    0.004064  |    0.006557  |     0.619711  |             |  2.8s"
       ]
      },
      {
       "output_type": "stream",
       "stream": "stdout",
       "text": [
        "\n",
        "   774  |  \u001b[94m  0.003909\u001b[0m  |    0.006558  |     0.596121  |             |  2.8s"
       ]
      },
      {
       "output_type": "stream",
       "stream": "stdout",
       "text": [
        "\n",
        "   775  |    0.003947  |    0.006585  |     0.599466  |             |  2.8s"
       ]
      },
      {
       "output_type": "stream",
       "stream": "stdout",
       "text": [
        "\n",
        "   776  |  \u001b[94m  0.003880\u001b[0m  |    0.006568  |     0.590766  |             |  2.8s"
       ]
      },
      {
       "output_type": "stream",
       "stream": "stdout",
       "text": [
        "\n",
        "   777  |    0.003944  |    0.006553  |     0.601921  |             |  2.8s"
       ]
      },
      {
       "output_type": "stream",
       "stream": "stdout",
       "text": [
        "\n",
        "   778  |    0.004003  |    0.006569  |     0.609366  |             |  2.8s"
       ]
      },
      {
       "output_type": "stream",
       "stream": "stdout",
       "text": [
        "\n",
        "   779  |    0.004008  |    0.006534  |     0.613437  |             |  2.8s"
       ]
      },
      {
       "output_type": "stream",
       "stream": "stdout",
       "text": [
        "\n",
        "   780  |  \u001b[94m  0.003839\u001b[0m  |    0.006532  |     0.587663  |             |  2.8s"
       ]
      },
      {
       "output_type": "stream",
       "stream": "stdout",
       "text": [
        "\n",
        "   781  |    0.004036  |    0.006546  |     0.616495  |             |  2.8s"
       ]
      },
      {
       "output_type": "stream",
       "stream": "stdout",
       "text": [
        "\n",
        "   782  |    0.003979  |    0.006528  |     0.609510  |             |  2.8s"
       ]
      },
      {
       "output_type": "stream",
       "stream": "stdout",
       "text": [
        "\n",
        "   783  |    0.003983  |    0.006544  |     0.608742  |             |  2.8s"
       ]
      },
      {
       "output_type": "stream",
       "stream": "stdout",
       "text": [
        "\n",
        "   784  |    0.003918  |    0.006552  |     0.598061  |             |  2.8s"
       ]
      },
      {
       "output_type": "stream",
       "stream": "stdout",
       "text": [
        "\n",
        "   785  |    0.004110  |    0.006576  |     0.624980  |             |  2.8s"
       ]
      },
      {
       "output_type": "stream",
       "stream": "stdout",
       "text": [
        "\n",
        "   786  |    0.003951  |    0.006532  |     0.604786  |             |  2.8s"
       ]
      },
      {
       "output_type": "stream",
       "stream": "stdout",
       "text": [
        "\n",
        "   787  |    0.003878  |    0.006556  |     0.591485  |             |  2.8s"
       ]
      },
      {
       "output_type": "stream",
       "stream": "stdout",
       "text": [
        "\n",
        "   788  |    0.003968  |    0.006537  |     0.607074  |             |  2.8s"
       ]
      },
      {
       "output_type": "stream",
       "stream": "stdout",
       "text": [
        "\n",
        "   789  |    0.004043  |    0.006532  |     0.618899  |             |  2.8s"
       ]
      },
      {
       "output_type": "stream",
       "stream": "stdout",
       "text": [
        "\n",
        "   790  |    0.003989  |    0.006552  |     0.608869  |             |  2.8s"
       ]
      },
      {
       "output_type": "stream",
       "stream": "stdout",
       "text": [
        "\n",
        "   791  |    0.003969  |    0.006514  |     0.609332  |             |  2.8s"
       ]
      },
      {
       "output_type": "stream",
       "stream": "stdout",
       "text": [
        "\n",
        "   792  |    0.004033  |    0.006532  |     0.617458  |             |  2.8s"
       ]
      },
      {
       "output_type": "stream",
       "stream": "stdout",
       "text": [
        "\n",
        "   793  |    0.003969  |    0.006565  |     0.604644  |             |  2.8s"
       ]
      },
      {
       "output_type": "stream",
       "stream": "stdout",
       "text": [
        "\n",
        "   794  |    0.003962  |    0.006563  |     0.603632  |             |  2.8s"
       ]
      },
      {
       "output_type": "stream",
       "stream": "stdout",
       "text": [
        "\n",
        "   795  |    0.003960  |    0.006541  |     0.605446  |             |  2.8s"
       ]
      },
      {
       "output_type": "stream",
       "stream": "stdout",
       "text": [
        "\n",
        "   796  |  \u001b[94m  0.003821\u001b[0m  |    0.006536  |     0.584569  |             |  2.8s"
       ]
      },
      {
       "output_type": "stream",
       "stream": "stdout",
       "text": [
        "\n",
        "   797  |    0.003969  |    0.006537  |     0.607186  |             |  2.8s"
       ]
      },
      {
       "output_type": "stream",
       "stream": "stdout",
       "text": [
        "\n",
        "   798  |    0.004018  |    0.006540  |     0.614403  |             |  2.8s"
       ]
      },
      {
       "output_type": "stream",
       "stream": "stdout",
       "text": [
        "\n",
        "   799  |    0.003943  |    0.006555  |     0.601589  |             |  2.8s"
       ]
      },
      {
       "output_type": "stream",
       "stream": "stdout",
       "text": [
        "\n",
        "   800  |    0.003974  |    0.006493  |     0.612067  |             |  2.8s"
       ]
      },
      {
       "output_type": "stream",
       "stream": "stdout",
       "text": [
        "\n",
        "   801  |    0.003981  |    0.006548  |     0.607895  |             |  2.8s"
       ]
      },
      {
       "output_type": "stream",
       "stream": "stdout",
       "text": [
        "\n",
        "   802  |    0.003899  |    0.006552  |     0.595171  |             |  2.8s"
       ]
      },
      {
       "output_type": "stream",
       "stream": "stdout",
       "text": [
        "\n",
        "   803  |    0.003896  |    0.006503  |     0.599042  |             |  2.8s"
       ]
      },
      {
       "output_type": "stream",
       "stream": "stdout",
       "text": [
        "\n",
        "   804  |    0.004038  |    0.006537  |     0.617752  |             |  2.8s"
       ]
      },
      {
       "output_type": "stream",
       "stream": "stdout",
       "text": [
        "\n",
        "   805  |    0.003975  |    0.006572  |     0.604746  |             |  2.8s"
       ]
      },
      {
       "output_type": "stream",
       "stream": "stdout",
       "text": [
        "\n",
        "   806  |    0.003864  |    0.006557  |     0.589278  |             |  2.8s"
       ]
      },
      {
       "output_type": "stream",
       "stream": "stdout",
       "text": [
        "\n",
        "   807  |    0.003954  |    0.006554  |     0.603337  |             |  2.8s"
       ]
      },
      {
       "output_type": "stream",
       "stream": "stdout",
       "text": [
        "\n",
        "   808  |    0.004051  |    0.006546  |     0.618854  |             |  2.8s"
       ]
      },
      {
       "output_type": "stream",
       "stream": "stdout",
       "text": [
        "\n",
        "   809  |    0.004056  |    0.006563  |     0.617995  |             |  2.8s"
       ]
      },
      {
       "output_type": "stream",
       "stream": "stdout",
       "text": [
        "\n",
        "   810  |    0.003991  |    0.006542  |     0.610061  |             |  2.8s"
       ]
      },
      {
       "output_type": "stream",
       "stream": "stdout",
       "text": [
        "\n",
        "   811  |    0.003989  |    0.006559  |     0.608177  |             |  2.8s"
       ]
      },
      {
       "output_type": "stream",
       "stream": "stdout",
       "text": [
        "\n",
        "   812  |    0.003975  |    0.006551  |     0.606708  |             |  2.8s"
       ]
      },
      {
       "output_type": "stream",
       "stream": "stdout",
       "text": [
        "\n",
        "Early stopping.\n",
        "Best valid loss was 0.006486 at epoch 611.\n",
        "CPU times: user 23min 54s, sys: 13min 53s, total: 37min 47s"
       ]
      },
      {
       "output_type": "stream",
       "stream": "stdout",
       "text": [
        "\n",
        "Wall time: 37min 49s\n"
       ]
      },
      {
       "output_type": "stream",
       "stream": "stderr",
       "text": [
        "/home/ubuntu/src/theano/theano/sandbox/rng_mrg.py:1188: UserWarning: MRG_RandomStreams Can't determine #streams from size (Shape.0), guessing 60*256\n",
        "  nstreams = self.n_streams(size)\n"
       ]
      }
     ],
     "prompt_number": 12
    },
    {
     "cell_type": "code",
     "collapsed": false,
     "input": [
      "train_loss_6 = np.array([i[\"train_loss\"] for i in net7.train_history_])\n",
      "valid_loss_6 = np.array([i[\"valid_loss\"] for i in net7.train_history_])\n",
      "pyplot.plot(train_loss_6, linewidth=3, label=\"train\")\n",
      "pyplot.plot(valid_loss_6, linewidth=3, label=\"valid\")\n",
      "pyplot.grid()\n",
      "pyplot.legend()\n",
      "pyplot.xlabel(\"epoch\")\n",
      "pyplot.ylabel(\"loss\")\n",
      "pyplot.ylim(0.1e-2, 3.2e-2)\n",
      "# pyplot.yscale(\"log\")\n",
      "pyplot.show()"
     ],
     "language": "python",
     "metadata": {},
     "outputs": [
      {
       "metadata": {},
       "output_type": "display_data",
       "png": "[encoded data removed]",
       "text": [
        "<matplotlib.figure.Figure at 0x7f3a205359d0>"
       ]
      }
     ],
     "prompt_number": 13
    },
    {
     "cell_type": "code",
     "collapsed": false,
     "input": [
      "# from sklearn import metrics\n",
      "\n",
      "# Xt_6, yt_6 = transform_6(X_test, y_test)\n",
      "\n",
      "# # overfit result, should use validation result\n",
      "# y_pred = net7.predict(Xt_6)\n",
      "# # print y_pred[1]\n",
      "# # np.argmax(y_pred[i]),np.argmax(y[i])\n",
      "# y_pred = np.array(map((lambda x: np.argmax(x)), y_pred))\n",
      "# yyy = np.array(map((lambda x: np.argmax(x)), yt_6))\n",
      "\n",
      "# print metrics.classification_report((yyy), (y_pred))"
     ],
     "language": "python",
     "metadata": {},
     "outputs": []
    },
    {
     "cell_type": "markdown",
     "metadata": {},
     "source": [
      "## load model"
     ]
    },
    {
     "cell_type": "code",
     "collapsed": false,
     "input": [
      "# import cPickle as pickle\n",
      "\n",
      "# with open('./Lasagne_2nd.pickle', 'rb') as f:\n",
      "#     specialists = pickle.load(f)\n"
     ],
     "language": "python",
     "metadata": {},
     "outputs": []
    },
    {
     "cell_type": "markdown",
     "metadata": {},
     "source": [
      "## submit test data "
     ]
    },
    {
     "cell_type": "code",
     "collapsed": false,
     "input": [
      "import pandas as pd\n",
      "\n",
      "xx_test, yy_test = load_svmlight_file(\"./phase1/new/aug_test2_50.dat\")"
     ],
     "language": "python",
     "metadata": {},
     "outputs": [],
     "prompt_number": 14
    },
    {
     "cell_type": "code",
     "collapsed": false,
     "input": [
      "xx_test.shape"
     ],
     "language": "python",
     "metadata": {},
     "outputs": [
      {
       "metadata": {},
       "output_type": "pyout",
       "prompt_number": 15,
       "text": [
        "(7472, 2500)"
       ]
      }
     ],
     "prompt_number": 15
    },
    {
     "cell_type": "code",
     "collapsed": false,
     "input": [
      "xx_test = np.array(xx_test.todense()).reshape(-1,)\n",
      "# xx_train = xx_train.dtype(np.float32)\n",
      "xx_test = np.float32(xx_test)\n",
      "xx_test = xx_test.reshape(7472,2500)\n",
      "\n",
      "xx_test = xx_test.astype(np.float32)\n",
      "\n",
      "def one_hot(x,n):\n",
      "    if type(x) == list:\n",
      "            x = np.array(x)\n",
      "    x = x.flatten()\n",
      "    o_h = np.zeros((len(x),n))\n",
      "    o_h[np.arange(len(x)),x] = 1\n",
      "    return o_h\n",
      "\n",
      "yy_test = yy_test.astype(int32)    \n",
      "yy_test = one_hot(yy_test, 32)\n",
      "yy_test = yy_test.astype(np.float32)\n",
      "\n",
      "Xt, yt = transform_6(xx_test, yy_test)\n",
      "result = net7.predict(Xt)\n",
      "result = np.array(map((lambda x: np.argmax(x)), result))\n",
      "result.astype(int)"
     ],
     "language": "python",
     "metadata": {},
     "outputs": [
      {
       "metadata": {},
       "output_type": "pyout",
       "prompt_number": 16,
       "text": [
        "array([23, 29,  9, ..., 14, 11, 20])"
       ]
      }
     ],
     "prompt_number": 16
    },
    {
     "cell_type": "code",
     "collapsed": false,
     "input": [
      "df_submission = pd.DataFrame( result.astype(int) ,columns=None)\n",
      "\n",
      "df_submission.to_csv('./Lasagne_7th_test1_extend.dat', index=None)"
     ],
     "language": "python",
     "metadata": {},
     "outputs": [],
     "prompt_number": 17
    }
   ],
   "metadata": {}
  }
 ]
}