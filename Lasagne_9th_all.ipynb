{
 "metadata": {
  "name": ""
 },
 "nbformat": 3,
 "nbformat_minor": 0,
 "worksheets": [
  {
   "cells": [
    {
     "cell_type": "markdown",
     "metadata": {},
     "source": [
      "## Lasagne code try and edit"
     ]
    },
    {
     "cell_type": "markdown",
     "metadata": {},
     "source": [
      "## input our data"
     ]
    },
    {
     "cell_type": "code",
     "collapsed": false,
     "input": [
      "import numpy as np\n",
      "import math\n",
      "import scipy.linalg as sp\n",
      "from sklearn.datasets import load_svmlight_file"
     ],
     "language": "python",
     "metadata": {},
     "outputs": [],
     "prompt_number": 1
    },
    {
     "cell_type": "code",
     "collapsed": false,
     "input": [
      "xx_train, y = load_svmlight_file(\"./phase1/new/aug_train_50_big.dat\")\n",
      "# print type(xx_train)\n",
      "print xx_train.shape\n",
      "xx_train = np.array(xx_train.todense()).reshape(-1,)\n",
      "# xx_train = xx_train.dtype(np.float32)\n",
      "xx_train = np.float32(xx_train)\n",
      "xx_train = xx_train.reshape(24696,2500)\n",
      "# print xx_train.shape\n",
      "print type(xx_train)"
     ],
     "language": "python",
     "metadata": {},
     "outputs": [
      {
       "output_type": "stream",
       "stream": "stdout",
       "text": [
        "(24696, 2500)\n",
        "<type 'numpy.ndarray'>"
       ]
      },
      {
       "output_type": "stream",
       "stream": "stdout",
       "text": [
        "\n"
       ]
      }
     ],
     "prompt_number": 3
    },
    {
     "cell_type": "code",
     "collapsed": false,
     "input": [
      "sizee = 50"
     ],
     "language": "python",
     "metadata": {},
     "outputs": [],
     "prompt_number": 4
    },
    {
     "cell_type": "code",
     "collapsed": false,
     "input": [
      "# pylab.ion()\n",
      "# pylab.imshow(xxxx[0],cmap=cm.gray)\n",
      "x = xx_train.reshape(24696,sizee**2)\n",
      "x = x.astype(np.float32)\n",
      "\n",
      "print x.shape\n",
      "print type(x)"
     ],
     "language": "python",
     "metadata": {},
     "outputs": [
      {
       "output_type": "stream",
       "stream": "stdout",
       "text": [
        "(24696, 2500)\n",
        "<type 'numpy.ndarray'>\n"
       ]
      }
     ],
     "prompt_number": 5
    },
    {
     "cell_type": "code",
     "collapsed": false,
     "input": [
      "def one_hot(x,n):\n",
      "    if type(x) == list:\n",
      "            x = np.array(x)\n",
      "    x = x.flatten()\n",
      "    o_h = np.zeros((len(x),n))\n",
      "    o_h[np.arange(len(x)),x] = 1\n",
      "    return o_h\n",
      "\n",
      "y = y.astype(int32)    \n",
      "y = one_hot(y, 32)\n",
      "y = y.astype(np.float32)\n",
      "\n",
      "print y.shape"
     ],
     "language": "python",
     "metadata": {},
     "outputs": [
      {
       "output_type": "stream",
       "stream": "stdout",
       "text": [
        "(24696, 32)\n"
       ]
      }
     ],
     "prompt_number": 6
    },
    {
     "cell_type": "markdown",
     "metadata": {},
     "source": [
      "## split data"
     ]
    },
    {
     "cell_type": "code",
     "collapsed": false,
     "input": [
      "from sklearn import cross_validation as cv\n",
      "from sklearn import svm\n",
      "from sklearn import metrics\n",
      "from sklearn import grid_search as gs"
     ],
     "language": "python",
     "metadata": {},
     "outputs": [],
     "prompt_number": 7
    },
    {
     "cell_type": "code",
     "collapsed": false,
     "input": [
      "X_train, X_test, y_train, y_test = cv.train_test_split(x, y, test_size=0.2)"
     ],
     "language": "python",
     "metadata": {},
     "outputs": []
    },
    {
     "cell_type": "code",
     "collapsed": false,
     "input": [
      "print X_train.shape\n",
      "print X_test.shape\n",
      "print y_train.shape\n",
      "print y_test.shape"
     ],
     "language": "python",
     "metadata": {},
     "outputs": []
    },
    {
     "cell_type": "markdown",
     "metadata": {},
     "source": [
      "## First model of Lasagne with single hidden layer"
     ]
    },
    {
     "cell_type": "code",
     "collapsed": false,
     "input": [
      "# add to kfkd.py\n",
      "from lasagne import layers\n",
      "from lasagne.updates import nesterov_momentum\n",
      "from nolearn.lasagne import NeuralNet\n",
      "\n",
      "net1 = NeuralNet(\n",
      "    layers=[  # three layers: one hidden layer\n",
      "        ('input', layers.InputLayer),\n",
      "        ('hidden', layers.DenseLayer),\n",
      "        ('output', layers.DenseLayer),\n",
      "        ],\n",
      "    # layer parameters:\n",
      "    input_shape=(128, 2500),  # 128 images per batch times 100x100 input pixels\n",
      "    hidden_num_units=300,  # number of units in hidden layer\n",
      "    output_nonlinearity=None,  # output layer uses identity function\n",
      "    output_num_units=32,  # 30 target values\n",
      "\n",
      "    # optimization method:\n",
      "    upate=nesterov_momentum,\n",
      "    update_learning_rate=0.01,\n",
      "    update_momentum=0.9,\n",
      "\n",
      "    # regression=False,  # flag to indicate we're dealing with regression problem\n",
      "    regression=True,  # flag to indicate we're dealing with regression problem\n",
      "    max_epochs=1000,  # we want to train this many epochs\n",
      "    verbose=1,\n",
      "    )\n"
     ],
     "language": "python",
     "metadata": {},
     "outputs": [
      {
       "output_type": "stream",
       "stream": "stderr",
       "text": [
        "Using gpu device 0: GRID K520\n"
       ]
      }
     ],
     "prompt_number": 8
    },
    {
     "cell_type": "code",
     "collapsed": false,
     "input": [
      "%time net1.fit(X_train, y_train)"
     ],
     "language": "python",
     "metadata": {},
     "outputs": []
    },
    {
     "cell_type": "code",
     "collapsed": false,
     "input": [
      "train_loss = np.array([i[\"train_loss\"] for i in net1.train_history_])\n",
      "valid_loss = np.array([i[\"valid_loss\"] for i in net1.train_history_])\n",
      "pyplot.plot(train_loss, linewidth=3, label=\"train\")\n",
      "pyplot.plot(valid_loss, linewidth=3, label=\"valid\")\n",
      "pyplot.grid()\n",
      "pyplot.legend()\n",
      "pyplot.xlabel(\"epoch\")\n",
      "pyplot.ylabel(\"loss\")\n",
      "pyplot.ylim(2.5e-2, 0.32e-1)\n",
      "# pyplot.yscale(\"log\")\n",
      "pyplot.show()"
     ],
     "language": "python",
     "metadata": {},
     "outputs": []
    },
    {
     "cell_type": "code",
     "collapsed": false,
     "input": [
      "from sklearn import metrics\n",
      "\n",
      "# overfit result, should use validation result\n",
      "y_pred = net1.predict(X_test)\n",
      "# print y_pred[1]\n",
      "# np.argmax(y_pred[i]),np.argmax(y[i])\n",
      "y_pred = np.array(map((lambda x: np.argmax(x)), y_pred))\n",
      "yyy = np.array(map((lambda x: np.argmax(x)), y_test))\n",
      "\n",
      "print metrics.classification_report((yyy), (y_pred))"
     ],
     "language": "python",
     "metadata": {},
     "outputs": []
    },
    {
     "cell_type": "markdown",
     "metadata": {},
     "source": [
      "## NET 6 in the rock"
     ]
    },
    {
     "cell_type": "code",
     "collapsed": false,
     "input": [
      "import theano\n",
      "from lasagne import layers\n",
      "from lasagne.updates import nesterov_momentum\n",
      "from nolearn.lasagne import NeuralNet\n",
      "\n",
      "def float32(k):\n",
      "    return np.cast['float32'](k)\n",
      "\n",
      "class AdjustVariable(object):\n",
      "    def __init__(self, name, start=0.03, stop=0.001):\n",
      "        self.name = name\n",
      "        self.start, self.stop = start, stop\n",
      "        self.ls = None\n",
      "\n",
      "    def __call__(self, nn, train_history):\n",
      "        if self.ls is None:\n",
      "            self.ls = np.linspace(self.start, self.stop, nn.max_epochs)\n",
      "\n",
      "        epoch = train_history[-1]['epoch']\n",
      "        new_value = float32(self.ls[epoch - 1])\n",
      "        getattr(nn, self.name).set_value(new_value)\n",
      "\n",
      "class EarlyStopping(object):\n",
      "    def __init__(self, patience=100):\n",
      "        self.patience = patience\n",
      "        self.best_valid = np.inf\n",
      "        self.best_valid_epoch = 0\n",
      "        self.best_weights = None\n",
      "\n",
      "    def __call__(self, nn, train_history):\n",
      "        current_valid = train_history[-1]['valid_loss']\n",
      "        current_epoch = train_history[-1]['epoch']\n",
      "        if current_valid < self.best_valid:\n",
      "            self.best_valid = current_valid\n",
      "            self.best_valid_epoch = current_epoch\n",
      "            self.best_weights = [w.get_value() for w in nn.get_all_params()]\n",
      "        elif self.best_valid_epoch + self.patience < current_epoch:\n",
      "            print(\"Early stopping.\")\n",
      "            print(\"Best valid loss was {:.6f} at epoch {}.\".format(\n",
      "                self.best_valid, self.best_valid_epoch))\n",
      "            nn.load_weights_from(self.best_weights)\n",
      "            raise StopIteration()\n",
      "        \n",
      "# use the cuda-convnet implementations of conv and max-pool layer\n",
      "Conv2DLayer = layers.cuda_convnet.Conv2DCCLayer\n",
      "MaxPool2DLayer = layers.cuda_convnet.MaxPool2DCCLayer\n",
      "\n",
      "net7 = NeuralNet(\n",
      "    layers=[\n",
      "        ('input', layers.InputLayer),\n",
      "        ('conv1', Conv2DLayer),\n",
      "        ('pool1', MaxPool2DLayer),\n",
      "        ('dropout1', layers.DropoutLayer),  # !\n",
      "        ('conv2', Conv2DLayer),\n",
      "        ('pool2', MaxPool2DLayer),\n",
      "        ('dropout2', layers.DropoutLayer),  # !\n",
      "        ('conv3', Conv2DLayer),\n",
      "        ('pool3', MaxPool2DLayer),\n",
      "        ('dropout3', layers.DropoutLayer),  # !\n",
      "        ('hidden4', layers.DenseLayer),\n",
      "        ('dropout4', layers.DropoutLayer),  # !\n",
      "        ('hidden5', layers.DenseLayer),\n",
      "        ('output', layers.DenseLayer),\n",
      "        ],\n",
      "    input_shape=(128, 1, 50,50),\n",
      "    conv1_num_filters=32, conv1_filter_size=(3, 3), pool1_ds=(2, 2),\n",
      "    # dropout1_p=0.1, # !\n",
      "    dropout1_p=0.3,  # !\n",
      "    conv2_num_filters=64, conv2_filter_size=(2, 2), pool2_ds=(2, 2),\n",
      "    # dropout2_p=0.2,  # !\n",
      "    dropout2_p=0.4,  # !\n",
      "    conv3_num_filters=128, conv3_filter_size=(2, 2), pool3_ds=(2, 2),\n",
      "    # dropout3_p=0.3,  # !\n",
      "    dropout3_p=0.5,  # !\n",
      "    hidden4_num_units=1000,\n",
      "    # hidden4_num_units=1000,  # !\n",
      "    dropout4_p=0.5,  # !\n",
      "    hidden5_num_units=1000,\n",
      "    # hidden5_num_units=1000,  # !\n",
      "    output_num_units=32, output_nonlinearity=None,\n",
      "\n",
      "    update_learning_rate=theano.shared(float32(0.03)),\n",
      "    update_momentum=theano.shared(float32(0.9)),\n",
      "\n",
      "    regression=True,\n",
      "#     batch_iterator=FlipBatchIterator(batch_size=128),\n",
      "    on_epoch_finished=[\n",
      "        AdjustVariable('update_learning_rate', start=0.03, stop=0.0001),\n",
      "        AdjustVariable('update_momentum', start=0.9, stop=0.999),\n",
      "        EarlyStopping(patience=200),\n",
      "        ],\n",
      "    # max_epochs=3000,\n",
      "    max_epochs=10000,\n",
      "    verbose=1,\n",
      "    )"
     ],
     "language": "python",
     "metadata": {},
     "outputs": [],
     "prompt_number": 9
    },
    {
     "cell_type": "code",
     "collapsed": false,
     "input": [
      "def transform_6(X,y):\n",
      "    X = X.reshape(-1, 50,50, 1)\n",
      "    X = X.transpose(0, 3, 1, 2)\n",
      "    return X, y\n",
      "\n",
      "# X_train = X_train.reshape(-1,1,sizee,sizee)\n",
      "# X_test = X_test.reshape(-1, 1,sizee,sizee)\n",
      "# X_train.shape"
     ],
     "language": "python",
     "metadata": {},
     "outputs": [],
     "prompt_number": 10
    },
    {
     "cell_type": "code",
     "collapsed": false,
     "input": [
      "import sys\n",
      "sys.setrecursionlimit(10000)\n",
      "\n",
      "X_6, y_6 = transform_6(x, y)\n",
      "%time net7.fit(X_6, y_6)\n",
      "\n",
      "import cPickle as pickle\n",
      "with open('Lasagne_9th_all.pickle', 'wb') as f:\n",
      "    pickle.dump(net7, f, -1)"
     ],
     "language": "python",
     "metadata": {},
     "outputs": [
      {
       "output_type": "stream",
       "stream": "stdout",
       "text": [
        "  InputLayer        \t(128, 1, 50, 50)    \tproduces    2500 outputs\n",
        "  Conv2DCCLayer     \t(128, 32, 48, 48)   \tproduces   73728 outputs\n",
        "  MaxPool2DCCLayer  \t(128, 32, 24, 24)   \tproduces   18432 outputs\n",
        "  DropoutLayer      \t(128, 32, 24, 24)   \tproduces   18432 outputs\n",
        "  Conv2DCCLayer     \t(128, 64, 23, 23)   \tproduces   33856 outputs\n",
        "  MaxPool2DCCLayer  \t(128, 64, 12, 12)   \tproduces    9216 outputs\n",
        "  DropoutLayer      \t(128, 64, 12, 12)   \tproduces    9216 outputs\n",
        "  Conv2DCCLayer     \t(128, 128, 11, 11)  \tproduces   15488 outputs\n",
        "  MaxPool2DCCLayer  \t(128, 128, 6, 6)    \tproduces    4608 outputs\n",
        "  DropoutLayer      \t(128, 128, 6, 6)    \tproduces    4608 outputs\n",
        "  DenseLayer        \t(128, 1000)         \tproduces    1000 outputs\n",
        "  DropoutLayer      \t(128, 1000)         \tproduces    1000 outputs\n",
        "  DenseLayer        \t(128, 1000)         \tproduces    1000 outputs\n",
        "  DenseLayer        \t(128, 32)           \tproduces      32 outputs\n",
        "\n",
        " Epoch  |  Train loss  |  Valid loss  |  Train / Val  |  Valid acc  |  Dur\n",
        "--------|--------------|--------------|---------------|-------------|-------"
       ]
      },
      {
       "output_type": "stream",
       "stream": "stdout",
       "text": [
        "\n",
        "     1  |  \u001b[94m  0.031701\u001b[0m  |  \u001b[32m  0.030252\u001b[0m  |     1.047911  |             |  8.5s"
       ]
      },
      {
       "output_type": "stream",
       "stream": "stdout",
       "text": [
        "\n",
        "     2  |  \u001b[94m  0.030147\u001b[0m  |  \u001b[32m  0.030227\u001b[0m  |     0.997345  |             |  8.5s"
       ]
      },
      {
       "output_type": "stream",
       "stream": "stdout",
       "text": [
        "\n",
        "     3  |  \u001b[94m  0.030017\u001b[0m  |    0.030227  |     0.993061  |             |  8.5s"
       ]
      },
      {
       "output_type": "stream",
       "stream": "stdout",
       "text": [
        "\n",
        "     4  |  \u001b[94m  0.029899\u001b[0m  |    0.030236  |     0.988860  |             |  8.5s"
       ]
      },
      {
       "output_type": "stream",
       "stream": "stdout",
       "text": [
        "\n",
        "     5  |  \u001b[94m  0.029791\u001b[0m  |    0.030251  |     0.984782  |             |  8.5s"
       ]
      },
      {
       "output_type": "stream",
       "stream": "stdout",
       "text": [
        "\n",
        "     6  |  \u001b[94m  0.029672\u001b[0m  |    0.030272  |     0.980185  |             |  8.5s"
       ]
      },
      {
       "output_type": "stream",
       "stream": "stdout",
       "text": [
        "\n",
        "     7  |  \u001b[94m  0.029559\u001b[0m  |    0.030300  |     0.975552  |             |  8.5s"
       ]
      },
      {
       "output_type": "stream",
       "stream": "stdout",
       "text": [
        "\n",
        "     8  |  \u001b[94m  0.029481\u001b[0m  |    0.030306  |     0.972759  |             |  8.5s"
       ]
      },
      {
       "output_type": "stream",
       "stream": "stdout",
       "text": [
        "\n",
        "     9  |  \u001b[94m  0.029405\u001b[0m  |    0.030296  |     0.970585  |             |  8.5s"
       ]
      },
      {
       "output_type": "stream",
       "stream": "stdout",
       "text": [
        "\n",
        "    10  |  \u001b[94m  0.029337\u001b[0m  |    0.030306  |     0.968013  |             |  8.5s"
       ]
      },
      {
       "output_type": "stream",
       "stream": "stdout",
       "text": [
        "\n",
        "    11  |  \u001b[94m  0.029288\u001b[0m  |    0.030310  |     0.966282  |             |  8.5s"
       ]
      },
      {
       "output_type": "stream",
       "stream": "stdout",
       "text": [
        "\n",
        "    12  |  \u001b[94m  0.029223\u001b[0m  |    0.030300  |     0.964474  |             |  8.4s"
       ]
      },
      {
       "output_type": "stream",
       "stream": "stdout",
       "text": [
        "\n",
        "    13  |  \u001b[94m  0.029177\u001b[0m  |    0.030241  |     0.964827  |             |  8.2s"
       ]
      },
      {
       "output_type": "stream",
       "stream": "stdout",
       "text": [
        "\n",
        "    14  |  \u001b[94m  0.029124\u001b[0m  |  \u001b[32m  0.030220\u001b[0m  |     0.963719  |             |  8.2s"
       ]
      },
      {
       "output_type": "stream",
       "stream": "stdout",
       "text": [
        "\n",
        "    15  |  \u001b[94m  0.029064\u001b[0m  |  \u001b[32m  0.030182\u001b[0m  |     0.962959  |             |  8.2s"
       ]
      },
      {
       "output_type": "stream",
       "stream": "stdout",
       "text": [
        "\n",
        "    16  |  \u001b[94m  0.029034\u001b[0m  |  \u001b[32m  0.030118\u001b[0m  |     0.964007  |             |  8.2s"
       ]
      },
      {
       "output_type": "stream",
       "stream": "stdout",
       "text": [
        "\n",
        "    17  |  \u001b[94m  0.028996\u001b[0m  |  \u001b[32m  0.030094\u001b[0m  |     0.963537  |             |  8.2s"
       ]
      },
      {
       "output_type": "stream",
       "stream": "stdout",
       "text": [
        "\n",
        "    18  |  \u001b[94m  0.028940\u001b[0m  |  \u001b[32m  0.030049\u001b[0m  |     0.963105  |             |  8.2s"
       ]
      },
      {
       "output_type": "stream",
       "stream": "stdout",
       "text": [
        "\n",
        "    19  |  \u001b[94m  0.028888\u001b[0m  |  \u001b[32m  0.030002\u001b[0m  |     0.962866  |             |  8.2s"
       ]
      },
      {
       "output_type": "stream",
       "stream": "stdout",
       "text": [
        "\n",
        "    20  |  \u001b[94m  0.028842\u001b[0m  |    0.030005  |     0.961238  |             |  8.2s"
       ]
      },
      {
       "output_type": "stream",
       "stream": "stdout",
       "text": [
        "\n",
        "    21  |  \u001b[94m  0.028788\u001b[0m  |  \u001b[32m  0.029926\u001b[0m  |     0.961963  |             |  8.2s"
       ]
      },
      {
       "output_type": "stream",
       "stream": "stdout",
       "text": [
        "\n",
        "    22  |  \u001b[94m  0.028750\u001b[0m  |  \u001b[32m  0.029881\u001b[0m  |     0.962147  |             |  8.2s"
       ]
      },
      {
       "output_type": "stream",
       "stream": "stdout",
       "text": [
        "\n",
        "    23  |  \u001b[94m  0.028710\u001b[0m  |  \u001b[32m  0.029868\u001b[0m  |     0.961218  |             |  8.2s"
       ]
      },
      {
       "output_type": "stream",
       "stream": "stdout",
       "text": [
        "\n",
        "    24  |  \u001b[94m  0.028633\u001b[0m  |  \u001b[32m  0.029742\u001b[0m  |     0.962690  |             |  8.2s"
       ]
      },
      {
       "output_type": "stream",
       "stream": "stdout",
       "text": [
        "\n",
        "    25  |  \u001b[94m  0.028583\u001b[0m  |  \u001b[32m  0.029732\u001b[0m  |     0.961352  |             |  8.2s"
       ]
      },
      {
       "output_type": "stream",
       "stream": "stdout",
       "text": [
        "\n",
        "    26  |  \u001b[94m  0.028542\u001b[0m  |  \u001b[32m  0.029671\u001b[0m  |     0.961947  |             |  8.3s"
       ]
      },
      {
       "output_type": "stream",
       "stream": "stdout",
       "text": [
        "\n",
        "    27  |  \u001b[94m  0.028486\u001b[0m  |  \u001b[32m  0.029602\u001b[0m  |     0.962300  |             |  8.4s"
       ]
      },
      {
       "output_type": "stream",
       "stream": "stdout",
       "text": [
        "\n",
        "    28  |  \u001b[94m  0.028434\u001b[0m  |    0.029629  |     0.959667  |             |  8.5s"
       ]
      },
      {
       "output_type": "stream",
       "stream": "stdout",
       "text": [
        "\n",
        "    29  |  \u001b[94m  0.028397\u001b[0m  |  \u001b[32m  0.029504\u001b[0m  |     0.962470  |             |  8.4s"
       ]
      },
      {
       "output_type": "stream",
       "stream": "stdout",
       "text": [
        "\n",
        "    30  |  \u001b[94m  0.028339\u001b[0m  |  \u001b[32m  0.029479\u001b[0m  |     0.961326  |             |  8.4s"
       ]
      },
      {
       "output_type": "stream",
       "stream": "stdout",
       "text": [
        "\n",
        "    31  |  \u001b[94m  0.028283\u001b[0m  |  \u001b[32m  0.029414\u001b[0m  |     0.961560  |             |  8.4s"
       ]
      },
      {
       "output_type": "stream",
       "stream": "stdout",
       "text": [
        "\n",
        "    32  |  \u001b[94m  0.028251\u001b[0m  |  \u001b[32m  0.029348\u001b[0m  |     0.962632  |             |  8.5s"
       ]
      },
      {
       "output_type": "stream",
       "stream": "stdout",
       "text": [
        "\n",
        "    33  |  \u001b[94m  0.028182\u001b[0m  |  \u001b[32m  0.029315\u001b[0m  |     0.961350  |             |  8.5s"
       ]
      },
      {
       "output_type": "stream",
       "stream": "stdout",
       "text": [
        "\n",
        "    34  |  \u001b[94m  0.028149\u001b[0m  |  \u001b[32m  0.029267\u001b[0m  |     0.961803  |             |  8.4s"
       ]
      },
      {
       "output_type": "stream",
       "stream": "stdout",
       "text": [
        "\n",
        "    35  |  \u001b[94m  0.028102\u001b[0m  |  \u001b[32m  0.029234\u001b[0m  |     0.961254  |             |  8.4s"
       ]
      },
      {
       "output_type": "stream",
       "stream": "stdout",
       "text": [
        "\n",
        "    36  |  \u001b[94m  0.028045\u001b[0m  |  \u001b[32m  0.029169\u001b[0m  |     0.961486  |             |  8.4s"
       ]
      },
      {
       "output_type": "stream",
       "stream": "stdout",
       "text": [
        "\n",
        "    37  |  \u001b[94m  0.028016\u001b[0m  |  \u001b[32m  0.029127\u001b[0m  |     0.961852  |             |  8.5s"
       ]
      },
      {
       "output_type": "stream",
       "stream": "stdout",
       "text": [
        "\n",
        "    38  |  \u001b[94m  0.027970\u001b[0m  |  \u001b[32m  0.029056\u001b[0m  |     0.962629  |             |  8.5s"
       ]
      },
      {
       "output_type": "stream",
       "stream": "stdout",
       "text": [
        "\n",
        "    39  |  \u001b[94m  0.027922\u001b[0m  |  \u001b[32m  0.029020\u001b[0m  |     0.962162  |             |  8.4s"
       ]
      },
      {
       "output_type": "stream",
       "stream": "stdout",
       "text": [
        "\n",
        "    40  |  \u001b[94m  0.027862\u001b[0m  |  \u001b[32m  0.028966\u001b[0m  |     0.961877  |             |  8.5s"
       ]
      },
      {
       "output_type": "stream",
       "stream": "stdout",
       "text": [
        "\n",
        "    41  |  \u001b[94m  0.027807\u001b[0m  |  \u001b[32m  0.028913\u001b[0m  |     0.961756  |             |  8.4s"
       ]
      },
      {
       "output_type": "stream",
       "stream": "stdout",
       "text": [
        "\n",
        "    42  |  \u001b[94m  0.027783\u001b[0m  |  \u001b[32m  0.028886\u001b[0m  |     0.961803  |             |  8.5s"
       ]
      },
      {
       "output_type": "stream",
       "stream": "stdout",
       "text": [
        "\n",
        "    43  |  \u001b[94m  0.027736\u001b[0m  |  \u001b[32m  0.028823\u001b[0m  |     0.962292  |             |  8.4s"
       ]
      },
      {
       "output_type": "stream",
       "stream": "stdout",
       "text": [
        "\n",
        "    44  |  \u001b[94m  0.027667\u001b[0m  |    0.028835  |     0.959500  |             |  8.5s"
       ]
      },
      {
       "output_type": "stream",
       "stream": "stdout",
       "text": [
        "\n",
        "    45  |  \u001b[94m  0.027636\u001b[0m  |  \u001b[32m  0.028780\u001b[0m  |     0.960253  |             |  8.4s"
       ]
      },
      {
       "output_type": "stream",
       "stream": "stdout",
       "text": [
        "\n",
        "    46  |  \u001b[94m  0.027598\u001b[0m  |  \u001b[32m  0.028693\u001b[0m  |     0.961850  |             |  8.5s"
       ]
      },
      {
       "output_type": "stream",
       "stream": "stdout",
       "text": [
        "\n",
        "    47  |  \u001b[94m  0.027548\u001b[0m  |  \u001b[32m  0.028666\u001b[0m  |     0.960983  |             |  8.4s"
       ]
      },
      {
       "output_type": "stream",
       "stream": "stdout",
       "text": [
        "\n",
        "    48  |  \u001b[94m  0.027503\u001b[0m  |  \u001b[32m  0.028585\u001b[0m  |     0.962136  |             |  8.5s"
       ]
      },
      {
       "output_type": "stream",
       "stream": "stdout",
       "text": [
        "\n",
        "    49  |  \u001b[94m  0.027476\u001b[0m  |    0.028606  |     0.960495  |             |  8.4s"
       ]
      },
      {
       "output_type": "stream",
       "stream": "stdout",
       "text": [
        "\n",
        "    50  |  \u001b[94m  0.027420\u001b[0m  |  \u001b[32m  0.028539\u001b[0m  |     0.960797  |             |  8.5s"
       ]
      },
      {
       "output_type": "stream",
       "stream": "stdout",
       "text": [
        "\n",
        "    51  |  \u001b[94m  0.027362\u001b[0m  |  \u001b[32m  0.028470\u001b[0m  |     0.961076  |             |  8.4s"
       ]
      },
      {
       "output_type": "stream",
       "stream": "stdout",
       "text": [
        "\n",
        "    52  |  \u001b[94m  0.027326\u001b[0m  |  \u001b[32m  0.028466\u001b[0m  |     0.959944  |             |  8.4s"
       ]
      },
      {
       "output_type": "stream",
       "stream": "stdout",
       "text": [
        "\n",
        "    53  |  \u001b[94m  0.027279\u001b[0m  |  \u001b[32m  0.028400\u001b[0m  |     0.960511  |             |  8.4s"
       ]
      },
      {
       "output_type": "stream",
       "stream": "stdout",
       "text": [
        "\n",
        "    54  |  \u001b[94m  0.027253\u001b[0m  |  \u001b[32m  0.028348\u001b[0m  |     0.961376  |             |  8.4s"
       ]
      },
      {
       "output_type": "stream",
       "stream": "stdout",
       "text": [
        "\n",
        "    55  |  \u001b[94m  0.027201\u001b[0m  |  \u001b[32m  0.028327\u001b[0m  |     0.960223  |             |  8.5s"
       ]
      },
      {
       "output_type": "stream",
       "stream": "stdout",
       "text": [
        "\n",
        "    56  |  \u001b[94m  0.027167\u001b[0m  |  \u001b[32m  0.028287\u001b[0m  |     0.960394  |             |  8.4s"
       ]
      },
      {
       "output_type": "stream",
       "stream": "stdout",
       "text": [
        "\n",
        "    57  |  \u001b[94m  0.027091\u001b[0m  |  \u001b[32m  0.028191\u001b[0m  |     0.961007  |             |  8.5s"
       ]
      },
      {
       "output_type": "stream",
       "stream": "stdout",
       "text": [
        "\n",
        "    58  |  \u001b[94m  0.027056\u001b[0m  |  \u001b[32m  0.028136\u001b[0m  |     0.961635  |             |  8.4s"
       ]
      },
      {
       "output_type": "stream",
       "stream": "stdout",
       "text": [
        "\n",
        "    59  |  \u001b[94m  0.026993\u001b[0m  |  \u001b[32m  0.028088\u001b[0m  |     0.961008  |             |  8.4s"
       ]
      },
      {
       "output_type": "stream",
       "stream": "stdout",
       "text": [
        "\n",
        "    60  |  \u001b[94m  0.026950\u001b[0m  |  \u001b[32m  0.028064\u001b[0m  |     0.960297  |             |  8.3s"
       ]
      },
      {
       "output_type": "stream",
       "stream": "stdout",
       "text": [
        "\n",
        "    61  |  \u001b[94m  0.026907\u001b[0m  |  \u001b[32m  0.028026\u001b[0m  |     0.960071  |             |  8.3s"
       ]
      },
      {
       "output_type": "stream",
       "stream": "stdout",
       "text": [
        "\n",
        "    62  |  \u001b[94m  0.026847\u001b[0m  |  \u001b[32m  0.027988\u001b[0m  |     0.959246  |             |  8.3s"
       ]
      },
      {
       "output_type": "stream",
       "stream": "stdout",
       "text": [
        "\n",
        "    63  |  \u001b[94m  0.026799\u001b[0m  |  \u001b[32m  0.027856\u001b[0m  |     0.962064  |             |  8.4s"
       ]
      },
      {
       "output_type": "stream",
       "stream": "stdout",
       "text": [
        "\n",
        "    64  |  \u001b[94m  0.026745\u001b[0m  |    0.027883  |     0.959190  |             |  8.4s"
       ]
      },
      {
       "output_type": "stream",
       "stream": "stdout",
       "text": [
        "\n",
        "    65  |  \u001b[94m  0.026702\u001b[0m  |  \u001b[32m  0.027767\u001b[0m  |     0.961653  |             |  8.4s"
       ]
      },
      {
       "output_type": "stream",
       "stream": "stdout",
       "text": [
        "\n",
        "    66  |  \u001b[94m  0.026659\u001b[0m  |  \u001b[32m  0.027687\u001b[0m  |     0.962884  |             |  8.4s"
       ]
      },
      {
       "output_type": "stream",
       "stream": "stdout",
       "text": [
        "\n",
        "    67  |  \u001b[94m  0.026616\u001b[0m  |  \u001b[32m  0.027667\u001b[0m  |     0.962014  |             |  8.5s"
       ]
      },
      {
       "output_type": "stream",
       "stream": "stdout",
       "text": [
        "\n",
        "    68  |  \u001b[94m  0.026558\u001b[0m  |  \u001b[32m  0.027659\u001b[0m  |     0.960173  |             |  8.5s"
       ]
      },
      {
       "output_type": "stream",
       "stream": "stdout",
       "text": [
        "\n",
        "    69  |  \u001b[94m  0.026517\u001b[0m  |  \u001b[32m  0.027512\u001b[0m  |     0.963812  |             |  8.5s"
       ]
      },
      {
       "output_type": "stream",
       "stream": "stdout",
       "text": [
        "\n",
        "    70  |  \u001b[94m  0.026485\u001b[0m  |  \u001b[32m  0.027461\u001b[0m  |     0.964468  |             |  8.4s"
       ]
      },
      {
       "output_type": "stream",
       "stream": "stdout",
       "text": [
        "\n",
        "    71  |  \u001b[94m  0.026384\u001b[0m  |  \u001b[32m  0.027444\u001b[0m  |     0.961358  |             |  8.5s"
       ]
      },
      {
       "output_type": "stream",
       "stream": "stdout",
       "text": [
        "\n",
        "    72  |  \u001b[94m  0.026351\u001b[0m  |  \u001b[32m  0.027347\u001b[0m  |     0.963587  |             |  8.4s"
       ]
      },
      {
       "output_type": "stream",
       "stream": "stdout",
       "text": [
        "\n",
        "    73  |  \u001b[94m  0.026298\u001b[0m  |  \u001b[32m  0.027294\u001b[0m  |     0.963493  |             |  8.5s"
       ]
      },
      {
       "output_type": "stream",
       "stream": "stdout",
       "text": [
        "\n",
        "    74  |  \u001b[94m  0.026251\u001b[0m  |  \u001b[32m  0.027190\u001b[0m  |     0.965468  |             |  8.5s"
       ]
      },
      {
       "output_type": "stream",
       "stream": "stdout",
       "text": [
        "\n",
        "    75  |  \u001b[94m  0.026177\u001b[0m  |  \u001b[32m  0.027115\u001b[0m  |     0.965387  |             |  8.5s"
       ]
      },
      {
       "output_type": "stream",
       "stream": "stdout",
       "text": [
        "\n",
        "    76  |  \u001b[94m  0.026172\u001b[0m  |  \u001b[32m  0.027110\u001b[0m  |     0.965392  |             |  8.4s"
       ]
      },
      {
       "output_type": "stream",
       "stream": "stdout",
       "text": [
        "\n",
        "    77  |  \u001b[94m  0.026093\u001b[0m  |  \u001b[32m  0.027014\u001b[0m  |     0.965933  |             |  8.4s"
       ]
      },
      {
       "output_type": "stream",
       "stream": "stdout",
       "text": [
        "\n",
        "    78  |  \u001b[94m  0.026045\u001b[0m  |  \u001b[32m  0.026911\u001b[0m  |     0.967818  |             |  8.4s"
       ]
      },
      {
       "output_type": "stream",
       "stream": "stdout",
       "text": [
        "\n",
        "    79  |  \u001b[94m  0.026016\u001b[0m  |  \u001b[32m  0.026890\u001b[0m  |     0.967487  |             |  8.5s"
       ]
      },
      {
       "output_type": "stream",
       "stream": "stdout",
       "text": [
        "\n",
        "    80  |  \u001b[94m  0.025975\u001b[0m  |  \u001b[32m  0.026826\u001b[0m  |     0.968295  |             |  8.5s"
       ]
      },
      {
       "output_type": "stream",
       "stream": "stdout",
       "text": [
        "\n",
        "    81  |  \u001b[94m  0.025919\u001b[0m  |  \u001b[32m  0.026807\u001b[0m  |     0.966886  |             |  8.4s"
       ]
      },
      {
       "output_type": "stream",
       "stream": "stdout",
       "text": [
        "\n",
        "    82  |  \u001b[94m  0.025836\u001b[0m  |  \u001b[32m  0.026777\u001b[0m  |     0.964842  |             |  8.4s"
       ]
      },
      {
       "output_type": "stream",
       "stream": "stdout",
       "text": [
        "\n",
        "    83  |  \u001b[94m  0.025821\u001b[0m  |  \u001b[32m  0.026622\u001b[0m  |     0.969924  |             |  8.4s"
       ]
      },
      {
       "output_type": "stream",
       "stream": "stdout",
       "text": [
        "\n",
        "    84  |  \u001b[94m  0.025763\u001b[0m  |  \u001b[32m  0.026587\u001b[0m  |     0.969031  |             |  8.5s"
       ]
      },
      {
       "output_type": "stream",
       "stream": "stdout",
       "text": [
        "\n",
        "    85  |  \u001b[94m  0.025709\u001b[0m  |  \u001b[32m  0.026543\u001b[0m  |     0.968592  |             |  8.4s"
       ]
      },
      {
       "output_type": "stream",
       "stream": "stdout",
       "text": [
        "\n",
        "    86  |  \u001b[94m  0.025641\u001b[0m  |  \u001b[32m  0.026462\u001b[0m  |     0.968991  |             |  8.5s"
       ]
      },
      {
       "output_type": "stream",
       "stream": "stdout",
       "text": [
        "\n",
        "    87  |  \u001b[94m  0.025601\u001b[0m  |  \u001b[32m  0.026410\u001b[0m  |     0.969357  |             |  8.4s"
       ]
      },
      {
       "output_type": "stream",
       "stream": "stdout",
       "text": [
        "\n",
        "    88  |  \u001b[94m  0.025526\u001b[0m  |    0.026416  |     0.966314  |             |  8.4s"
       ]
      },
      {
       "output_type": "stream",
       "stream": "stdout",
       "text": [
        "\n",
        "    89  |  \u001b[94m  0.025525\u001b[0m  |  \u001b[32m  0.026295\u001b[0m  |     0.970695  |             |  8.4s"
       ]
      },
      {
       "output_type": "stream",
       "stream": "stdout",
       "text": [
        "\n",
        "    90  |  \u001b[94m  0.025450\u001b[0m  |  \u001b[32m  0.026261\u001b[0m  |     0.969109  |             |  8.4s"
       ]
      },
      {
       "output_type": "stream",
       "stream": "stdout",
       "text": [
        "\n",
        "    91  |  \u001b[94m  0.025426\u001b[0m  |  \u001b[32m  0.026118\u001b[0m  |     0.973490  |             |  8.4s"
       ]
      },
      {
       "output_type": "stream",
       "stream": "stdout",
       "text": [
        "\n",
        "    92  |  \u001b[94m  0.025341\u001b[0m  |  \u001b[32m  0.026094\u001b[0m  |     0.971131  |             |  8.5s"
       ]
      },
      {
       "output_type": "stream",
       "stream": "stdout",
       "text": [
        "\n",
        "    93  |  \u001b[94m  0.025302\u001b[0m  |  \u001b[32m  0.026034\u001b[0m  |     0.971864  |             |  8.5s"
       ]
      },
      {
       "output_type": "stream",
       "stream": "stdout",
       "text": [
        "\n",
        "    94  |  \u001b[94m  0.025258\u001b[0m  |  \u001b[32m  0.025906\u001b[0m  |     0.974981  |             |  8.5s"
       ]
      },
      {
       "output_type": "stream",
       "stream": "stdout",
       "text": [
        "\n",
        "    95  |  \u001b[94m  0.025194\u001b[0m  |  \u001b[32m  0.025870\u001b[0m  |     0.973896  |             |  8.4s"
       ]
      },
      {
       "output_type": "stream",
       "stream": "stdout",
       "text": [
        "\n",
        "    96  |  \u001b[94m  0.025162\u001b[0m  |  \u001b[32m  0.025801\u001b[0m  |     0.975224  |             |  8.5s"
       ]
      },
      {
       "output_type": "stream",
       "stream": "stdout",
       "text": [
        "\n",
        "    97  |  \u001b[94m  0.025117\u001b[0m  |  \u001b[32m  0.025772\u001b[0m  |     0.974557  |             |  8.4s"
       ]
      },
      {
       "output_type": "stream",
       "stream": "stdout",
       "text": [
        "\n",
        "    98  |  \u001b[94m  0.025074\u001b[0m  |  \u001b[32m  0.025679\u001b[0m  |     0.976450  |             |  8.4s"
       ]
      },
      {
       "output_type": "stream",
       "stream": "stdout",
       "text": [
        "\n",
        "    99  |  \u001b[94m  0.025028\u001b[0m  |    0.025697  |     0.973987  |             |  8.4s"
       ]
      },
      {
       "output_type": "stream",
       "stream": "stdout",
       "text": [
        "\n",
        "   100  |  \u001b[94m  0.024956\u001b[0m  |  \u001b[32m  0.025658\u001b[0m  |     0.972642  |             |  8.4s"
       ]
      },
      {
       "output_type": "stream",
       "stream": "stdout",
       "text": [
        "\n",
        "   101  |  \u001b[94m  0.024885\u001b[0m  |  \u001b[32m  0.025609\u001b[0m  |     0.971716  |             |  8.4s"
       ]
      },
      {
       "output_type": "stream",
       "stream": "stdout",
       "text": [
        "\n",
        "   102  |  \u001b[94m  0.024821\u001b[0m  |  \u001b[32m  0.025480\u001b[0m  |     0.974139  |             |  8.4s"
       ]
      },
      {
       "output_type": "stream",
       "stream": "stdout",
       "text": [
        "\n",
        "   103  |  \u001b[94m  0.024790\u001b[0m  |  \u001b[32m  0.025426\u001b[0m  |     0.974974  |             |  8.4s"
       ]
      },
      {
       "output_type": "stream",
       "stream": "stdout",
       "text": [
        "\n",
        "   104  |  \u001b[94m  0.024743\u001b[0m  |  \u001b[32m  0.025355\u001b[0m  |     0.975849  |             |  8.4s"
       ]
      },
      {
       "output_type": "stream",
       "stream": "stdout",
       "text": [
        "\n",
        "   105  |  \u001b[94m  0.024679\u001b[0m  |  \u001b[32m  0.025273\u001b[0m  |     0.976488  |             |  8.4s"
       ]
      },
      {
       "output_type": "stream",
       "stream": "stdout",
       "text": [
        "\n",
        "   106  |  \u001b[94m  0.024620\u001b[0m  |  \u001b[32m  0.025151\u001b[0m  |     0.978866  |             |  8.4s"
       ]
      },
      {
       "output_type": "stream",
       "stream": "stdout",
       "text": [
        "\n",
        "   107  |  \u001b[94m  0.024584\u001b[0m  |  \u001b[32m  0.025134\u001b[0m  |     0.978123  |             |  8.4s"
       ]
      },
      {
       "output_type": "stream",
       "stream": "stdout",
       "text": [
        "\n",
        "   108  |  \u001b[94m  0.024539\u001b[0m  |    0.025148  |     0.975791  |             |  8.5s"
       ]
      },
      {
       "output_type": "stream",
       "stream": "stdout",
       "text": [
        "\n",
        "   109  |  \u001b[94m  0.024483\u001b[0m  |  \u001b[32m  0.025021\u001b[0m  |     0.978522  |             |  8.4s"
       ]
      },
      {
       "output_type": "stream",
       "stream": "stdout",
       "text": [
        "\n",
        "   110  |  \u001b[94m  0.024449\u001b[0m  |  \u001b[32m  0.024932\u001b[0m  |     0.980623  |             |  8.4s"
       ]
      },
      {
       "output_type": "stream",
       "stream": "stdout",
       "text": [
        "\n",
        "   111  |  \u001b[94m  0.024352\u001b[0m  |    0.024935  |     0.976621  |             |  8.4s"
       ]
      },
      {
       "output_type": "stream",
       "stream": "stdout",
       "text": [
        "\n",
        "   112  |  \u001b[94m  0.024327\u001b[0m  |  \u001b[32m  0.024796\u001b[0m  |     0.981094  |             |  8.4s"
       ]
      },
      {
       "output_type": "stream",
       "stream": "stdout",
       "text": [
        "\n",
        "   113  |  \u001b[94m  0.024262\u001b[0m  |  \u001b[32m  0.024793\u001b[0m  |     0.978614  |             |  8.4s"
       ]
      },
      {
       "output_type": "stream",
       "stream": "stdout",
       "text": [
        "\n",
        "   114  |  \u001b[94m  0.024212\u001b[0m  |  \u001b[32m  0.024694\u001b[0m  |     0.980482  |             |  8.4s"
       ]
      },
      {
       "output_type": "stream",
       "stream": "stdout",
       "text": [
        "\n",
        "   115  |  \u001b[94m  0.024177\u001b[0m  |  \u001b[32m  0.024629\u001b[0m  |     0.981668  |             |  8.4s"
       ]
      },
      {
       "output_type": "stream",
       "stream": "stdout",
       "text": [
        "\n",
        "   116  |  \u001b[94m  0.024097\u001b[0m  |  \u001b[32m  0.024572\u001b[0m  |     0.980671  |             |  8.4s"
       ]
      },
      {
       "output_type": "stream",
       "stream": "stdout",
       "text": [
        "\n",
        "   117  |  \u001b[94m  0.024060\u001b[0m  |  \u001b[32m  0.024503\u001b[0m  |     0.981930  |             |  8.4s"
       ]
      },
      {
       "output_type": "stream",
       "stream": "stdout",
       "text": [
        "\n",
        "   118  |  \u001b[94m  0.024028\u001b[0m  |    0.024527  |     0.979629  |             |  8.4s"
       ]
      },
      {
       "output_type": "stream",
       "stream": "stdout",
       "text": [
        "\n",
        "   119  |  \u001b[94m  0.023907\u001b[0m  |  \u001b[32m  0.024320\u001b[0m  |     0.983015  |             |  8.5s"
       ]
      },
      {
       "output_type": "stream",
       "stream": "stdout",
       "text": [
        "\n",
        "   120  |  \u001b[94m  0.023874\u001b[0m  |  \u001b[32m  0.024307\u001b[0m  |     0.982180  |             |  8.4s"
       ]
      },
      {
       "output_type": "stream",
       "stream": "stdout",
       "text": [
        "\n",
        "   121  |  \u001b[94m  0.023852\u001b[0m  |  \u001b[32m  0.024208\u001b[0m  |     0.985264  |             |  8.4s"
       ]
      },
      {
       "output_type": "stream",
       "stream": "stdout",
       "text": [
        "\n",
        "   122  |  \u001b[94m  0.023766\u001b[0m  |  \u001b[32m  0.024147\u001b[0m  |     0.984255  |             |  8.4s"
       ]
      },
      {
       "output_type": "stream",
       "stream": "stdout",
       "text": [
        "\n",
        "   123  |  \u001b[94m  0.023717\u001b[0m  |  \u001b[32m  0.024097\u001b[0m  |     0.984234  |             |  8.4s"
       ]
      },
      {
       "output_type": "stream",
       "stream": "stdout",
       "text": [
        "\n",
        "   124  |  \u001b[94m  0.023670\u001b[0m  |  \u001b[32m  0.024087\u001b[0m  |     0.982674  |             |  8.4s"
       ]
      },
      {
       "output_type": "stream",
       "stream": "stdout",
       "text": [
        "\n",
        "   125  |  \u001b[94m  0.023595\u001b[0m  |  \u001b[32m  0.023963\u001b[0m  |     0.984655  |             |  8.4s"
       ]
      },
      {
       "output_type": "stream",
       "stream": "stdout",
       "text": [
        "\n",
        "   126  |  \u001b[94m  0.023499\u001b[0m  |  \u001b[32m  0.023882\u001b[0m  |     0.983951  |             |  8.4s"
       ]
      },
      {
       "output_type": "stream",
       "stream": "stdout",
       "text": [
        "\n",
        "   127  |  \u001b[94m  0.023481\u001b[0m  |  \u001b[32m  0.023882\u001b[0m  |     0.983211  |             |  8.4s"
       ]
      },
      {
       "output_type": "stream",
       "stream": "stdout",
       "text": [
        "\n",
        "   128  |  \u001b[94m  0.023429\u001b[0m  |  \u001b[32m  0.023809\u001b[0m  |     0.984046  |             |  8.4s"
       ]
      },
      {
       "output_type": "stream",
       "stream": "stdout",
       "text": [
        "\n",
        "   129  |  \u001b[94m  0.023327\u001b[0m  |  \u001b[32m  0.023613\u001b[0m  |     0.987921  |             |  8.4s"
       ]
      },
      {
       "output_type": "stream",
       "stream": "stdout",
       "text": [
        "\n",
        "   130  |  \u001b[94m  0.023286\u001b[0m  |  \u001b[32m  0.023518\u001b[0m  |     0.990132  |             |  8.4s"
       ]
      },
      {
       "output_type": "stream",
       "stream": "stdout",
       "text": [
        "\n",
        "   131  |  \u001b[94m  0.023264\u001b[0m  |    0.023566  |     0.987165  |             |  8.4s"
       ]
      },
      {
       "output_type": "stream",
       "stream": "stdout",
       "text": [
        "\n",
        "   132  |  \u001b[94m  0.023174\u001b[0m  |  \u001b[32m  0.023428\u001b[0m  |     0.989164  |             |  8.4s"
       ]
      },
      {
       "output_type": "stream",
       "stream": "stdout",
       "text": [
        "\n",
        "   133  |  \u001b[94m  0.023104\u001b[0m  |  \u001b[32m  0.023411\u001b[0m  |     0.986857  |             |  8.4s"
       ]
      },
      {
       "output_type": "stream",
       "stream": "stdout",
       "text": [
        "\n",
        "   134  |  \u001b[94m  0.023061\u001b[0m  |  \u001b[32m  0.023303\u001b[0m  |     0.989591  |             |  8.4s"
       ]
      },
      {
       "output_type": "stream",
       "stream": "stdout",
       "text": [
        "\n",
        "   135  |  \u001b[94m  0.023031\u001b[0m  |  \u001b[32m  0.023273\u001b[0m  |     0.989618  |             |  8.4s"
       ]
      },
      {
       "output_type": "stream",
       "stream": "stdout",
       "text": [
        "\n",
        "   136  |  \u001b[94m  0.022922\u001b[0m  |  \u001b[32m  0.023183\u001b[0m  |     0.988744  |             |  8.4s"
       ]
      },
      {
       "output_type": "stream",
       "stream": "stdout",
       "text": [
        "\n",
        "   137  |  \u001b[94m  0.022897\u001b[0m  |  \u001b[32m  0.023091\u001b[0m  |     0.991606  |             |  8.5s"
       ]
      },
      {
       "output_type": "stream",
       "stream": "stdout",
       "text": [
        "\n",
        "   138  |  \u001b[94m  0.022846\u001b[0m  |  \u001b[32m  0.023044\u001b[0m  |     0.991419  |             |  8.5s"
       ]
      },
      {
       "output_type": "stream",
       "stream": "stdout",
       "text": [
        "\n",
        "   139  |  \u001b[94m  0.022767\u001b[0m  |  \u001b[32m  0.023012\u001b[0m  |     0.989350  |             |  8.5s"
       ]
      },
      {
       "output_type": "stream",
       "stream": "stdout",
       "text": [
        "\n",
        "   140  |  \u001b[94m  0.022736\u001b[0m  |  \u001b[32m  0.022885\u001b[0m  |     0.993466  |             |  8.5s"
       ]
      },
      {
       "output_type": "stream",
       "stream": "stdout",
       "text": [
        "\n",
        "   141  |  \u001b[94m  0.022646\u001b[0m  |  \u001b[32m  0.022828\u001b[0m  |     0.992045  |             |  8.4s"
       ]
      },
      {
       "output_type": "stream",
       "stream": "stdout",
       "text": [
        "\n",
        "   142  |  \u001b[94m  0.022568\u001b[0m  |  \u001b[32m  0.022749\u001b[0m  |     0.992059  |             |  8.4s"
       ]
      },
      {
       "output_type": "stream",
       "stream": "stdout",
       "text": [
        "\n",
        "   143  |  \u001b[94m  0.022532\u001b[0m  |    0.022750  |     0.990393  |             |  8.4s"
       ]
      },
      {
       "output_type": "stream",
       "stream": "stdout",
       "text": [
        "\n",
        "   144  |  \u001b[94m  0.022432\u001b[0m  |  \u001b[32m  0.022619\u001b[0m  |     0.991750  |             |  8.4s"
       ]
      },
      {
       "output_type": "stream",
       "stream": "stdout",
       "text": [
        "\n",
        "   145  |  \u001b[94m  0.022363\u001b[0m  |  \u001b[32m  0.022478\u001b[0m  |     0.994874  |             |  8.5s"
       ]
      },
      {
       "output_type": "stream",
       "stream": "stdout",
       "text": [
        "\n",
        "   146  |  \u001b[94m  0.022329\u001b[0m  |  \u001b[32m  0.022406\u001b[0m  |     0.996548  |             |  8.4s"
       ]
      },
      {
       "output_type": "stream",
       "stream": "stdout",
       "text": [
        "\n",
        "   147  |  \u001b[94m  0.022236\u001b[0m  |  \u001b[32m  0.022374\u001b[0m  |     0.993809  |             |  8.4s"
       ]
      },
      {
       "output_type": "stream",
       "stream": "stdout",
       "text": [
        "\n",
        "   148  |  \u001b[94m  0.022221\u001b[0m  |  \u001b[32m  0.022323\u001b[0m  |     0.995401  |             |  8.4s"
       ]
      },
      {
       "output_type": "stream",
       "stream": "stdout",
       "text": [
        "\n",
        "   149  |  \u001b[94m  0.022127\u001b[0m  |  \u001b[32m  0.022192\u001b[0m  |     0.997063  |             |  8.4s"
       ]
      },
      {
       "output_type": "stream",
       "stream": "stdout",
       "text": [
        "\n",
        "   150  |  \u001b[94m  0.022039\u001b[0m  |  \u001b[32m  0.022124\u001b[0m  |     0.996169  |             |  8.5s"
       ]
      },
      {
       "output_type": "stream",
       "stream": "stdout",
       "text": [
        "\n",
        "   151  |  \u001b[94m  0.021958\u001b[0m  |  \u001b[32m  0.022096\u001b[0m  |     0.993752  |             |  8.5s"
       ]
      },
      {
       "output_type": "stream",
       "stream": "stdout",
       "text": [
        "\n",
        "   152  |  \u001b[94m  0.021909\u001b[0m  |  \u001b[32m  0.022027\u001b[0m  |     0.994625  |             |  8.4s"
       ]
      },
      {
       "output_type": "stream",
       "stream": "stdout",
       "text": [
        "\n",
        "   153  |  \u001b[94m  0.021880\u001b[0m  |  \u001b[32m  0.021888\u001b[0m  |     0.999646  |             |  8.4s"
       ]
      },
      {
       "output_type": "stream",
       "stream": "stdout",
       "text": [
        "\n",
        "   154  |  \u001b[94m  0.021828\u001b[0m  |  \u001b[32m  0.021830\u001b[0m  |     0.999916  |             |  8.4s"
       ]
      },
      {
       "output_type": "stream",
       "stream": "stdout",
       "text": [
        "\n",
        "   155  |  \u001b[94m  0.021774\u001b[0m  |  \u001b[32m  0.021727\u001b[0m  |     1.002172  |             |  8.4s"
       ]
      },
      {
       "output_type": "stream",
       "stream": "stdout",
       "text": [
        "\n",
        "   156  |  \u001b[94m  0.021751\u001b[0m  |  \u001b[32m  0.021637\u001b[0m  |     1.005267  |             |  8.5s"
       ]
      },
      {
       "output_type": "stream",
       "stream": "stdout",
       "text": [
        "\n",
        "   157  |  \u001b[94m  0.021603\u001b[0m  |  \u001b[32m  0.021592\u001b[0m  |     1.000547  |             |  8.5s"
       ]
      },
      {
       "output_type": "stream",
       "stream": "stdout",
       "text": [
        "\n",
        "   158  |    0.021606  |  \u001b[32m  0.021440\u001b[0m  |     1.007753  |             |  8.5s"
       ]
      },
      {
       "output_type": "stream",
       "stream": "stdout",
       "text": [
        "\n",
        "   159  |  \u001b[94m  0.021521\u001b[0m  |  \u001b[32m  0.021415\u001b[0m  |     1.004936  |             |  8.5s"
       ]
      },
      {
       "output_type": "stream",
       "stream": "stdout",
       "text": [
        "\n",
        "   160  |  \u001b[94m  0.021469\u001b[0m  |  \u001b[32m  0.021287\u001b[0m  |     1.008545  |             |  8.4s"
       ]
      },
      {
       "output_type": "stream",
       "stream": "stdout",
       "text": [
        "\n",
        "   161  |  \u001b[94m  0.021390\u001b[0m  |  \u001b[32m  0.021197\u001b[0m  |     1.009101  |             |  8.4s"
       ]
      },
      {
       "output_type": "stream",
       "stream": "stdout",
       "text": [
        "\n",
        "   162  |  \u001b[94m  0.021333\u001b[0m  |  \u001b[32m  0.021172\u001b[0m  |     1.007595  |             |  8.4s"
       ]
      },
      {
       "output_type": "stream",
       "stream": "stdout",
       "text": [
        "\n",
        "   163  |  \u001b[94m  0.021244\u001b[0m  |  \u001b[32m  0.021077\u001b[0m  |     1.007905  |             |  8.5s"
       ]
      },
      {
       "output_type": "stream",
       "stream": "stdout",
       "text": [
        "\n",
        "   164  |  \u001b[94m  0.021175\u001b[0m  |  \u001b[32m  0.021002\u001b[0m  |     1.008224  |             |  8.5s"
       ]
      },
      {
       "output_type": "stream",
       "stream": "stdout",
       "text": [
        "\n",
        "   165  |  \u001b[94m  0.021130\u001b[0m  |    0.021006  |     1.005917  |             |  8.4s"
       ]
      },
      {
       "output_type": "stream",
       "stream": "stdout",
       "text": [
        "\n",
        "   166  |  \u001b[94m  0.021068\u001b[0m  |  \u001b[32m  0.020924\u001b[0m  |     1.006902  |             |  8.5s"
       ]
      },
      {
       "output_type": "stream",
       "stream": "stdout",
       "text": [
        "\n",
        "   167  |  \u001b[94m  0.021022\u001b[0m  |  \u001b[32m  0.020846\u001b[0m  |     1.008454  |             |  8.5s"
       ]
      },
      {
       "output_type": "stream",
       "stream": "stdout",
       "text": [
        "\n",
        "   168  |  \u001b[94m  0.020950\u001b[0m  |  \u001b[32m  0.020740\u001b[0m  |     1.010123  |             |  8.4s"
       ]
      },
      {
       "output_type": "stream",
       "stream": "stdout",
       "text": [
        "\n",
        "   169  |  \u001b[94m  0.020845\u001b[0m  |  \u001b[32m  0.020564\u001b[0m  |     1.013649  |             |  8.4s"
       ]
      },
      {
       "output_type": "stream",
       "stream": "stdout",
       "text": [
        "\n",
        "   170  |  \u001b[94m  0.020784\u001b[0m  |  \u001b[32m  0.020491\u001b[0m  |     1.014325  |             |  8.4s"
       ]
      },
      {
       "output_type": "stream",
       "stream": "stdout",
       "text": [
        "\n",
        "   171  |  \u001b[94m  0.020776\u001b[0m  |  \u001b[32m  0.020451\u001b[0m  |     1.015909  |             |  8.5s"
       ]
      },
      {
       "output_type": "stream",
       "stream": "stdout",
       "text": [
        "\n",
        "   172  |  \u001b[94m  0.020748\u001b[0m  |  \u001b[32m  0.020332\u001b[0m  |     1.020465  |             |  8.5s"
       ]
      },
      {
       "output_type": "stream",
       "stream": "stdout",
       "text": [
        "\n",
        "   173  |  \u001b[94m  0.020664\u001b[0m  |  \u001b[32m  0.020303\u001b[0m  |     1.017777  |             |  8.4s"
       ]
      },
      {
       "output_type": "stream",
       "stream": "stdout",
       "text": [
        "\n",
        "   174  |  \u001b[94m  0.020575\u001b[0m  |  \u001b[32m  0.020232\u001b[0m  |     1.016953  |             |  8.4s"
       ]
      },
      {
       "output_type": "stream",
       "stream": "stdout",
       "text": [
        "\n",
        "   175  |  \u001b[94m  0.020537\u001b[0m  |  \u001b[32m  0.020115\u001b[0m  |     1.020980  |             |  8.5s"
       ]
      },
      {
       "output_type": "stream",
       "stream": "stdout",
       "text": [
        "\n",
        "   176  |  \u001b[94m  0.020488\u001b[0m  |  \u001b[32m  0.020037\u001b[0m  |     1.022512  |             |  8.4s"
       ]
      },
      {
       "output_type": "stream",
       "stream": "stdout",
       "text": [
        "\n",
        "   177  |  \u001b[94m  0.020388\u001b[0m  |  \u001b[32m  0.019989\u001b[0m  |     1.019956  |             |  8.4s"
       ]
      },
      {
       "output_type": "stream",
       "stream": "stdout",
       "text": [
        "\n",
        "   178  |  \u001b[94m  0.020364\u001b[0m  |  \u001b[32m  0.019918\u001b[0m  |     1.022397  |             |  8.4s"
       ]
      },
      {
       "output_type": "stream",
       "stream": "stdout",
       "text": [
        "\n",
        "   179  |  \u001b[94m  0.020309\u001b[0m  |  \u001b[32m  0.019863\u001b[0m  |     1.022460  |             |  8.5s"
       ]
      },
      {
       "output_type": "stream",
       "stream": "stdout",
       "text": [
        "\n",
        "   180  |  \u001b[94m  0.020235\u001b[0m  |  \u001b[32m  0.019730\u001b[0m  |     1.025581  |             |  8.5s"
       ]
      },
      {
       "output_type": "stream",
       "stream": "stdout",
       "text": [
        "\n",
        "   181  |  \u001b[94m  0.020201\u001b[0m  |  \u001b[32m  0.019564\u001b[0m  |     1.032559  |             |  8.5s"
       ]
      },
      {
       "output_type": "stream",
       "stream": "stdout",
       "text": [
        "\n",
        "   182  |  \u001b[94m  0.020099\u001b[0m  |    0.019653  |     1.022704  |             |  8.5s"
       ]
      },
      {
       "output_type": "stream",
       "stream": "stdout",
       "text": [
        "\n",
        "   183  |  \u001b[94m  0.020068\u001b[0m  |  \u001b[32m  0.019521\u001b[0m  |     1.027999  |             |  8.5s"
       ]
      },
      {
       "output_type": "stream",
       "stream": "stdout",
       "text": [
        "\n",
        "   184  |  \u001b[94m  0.020024\u001b[0m  |  \u001b[32m  0.019521\u001b[0m  |     1.025753  |             |  8.5s"
       ]
      },
      {
       "output_type": "stream",
       "stream": "stdout",
       "text": [
        "\n",
        "   185  |  \u001b[94m  0.019982\u001b[0m  |  \u001b[32m  0.019307\u001b[0m  |     1.034958  |             |  8.5s"
       ]
      },
      {
       "output_type": "stream",
       "stream": "stdout",
       "text": [
        "\n",
        "   186  |  \u001b[94m  0.019844\u001b[0m  |    0.019308  |     1.027752  |             |  8.5s"
       ]
      },
      {
       "output_type": "stream",
       "stream": "stdout",
       "text": [
        "\n",
        "   187  |  \u001b[94m  0.019810\u001b[0m  |  \u001b[32m  0.019247\u001b[0m  |     1.029217  |             |  8.5s"
       ]
      },
      {
       "output_type": "stream",
       "stream": "stdout",
       "text": [
        "\n",
        "   188  |  \u001b[94m  0.019746\u001b[0m  |  \u001b[32m  0.019202\u001b[0m  |     1.028285  |             |  8.5s"
       ]
      },
      {
       "output_type": "stream",
       "stream": "stdout",
       "text": [
        "\n",
        "   189  |  \u001b[94m  0.019695\u001b[0m  |  \u001b[32m  0.019193\u001b[0m  |     1.026126  |             |  8.5s"
       ]
      },
      {
       "output_type": "stream",
       "stream": "stdout",
       "text": [
        "\n",
        "   190  |  \u001b[94m  0.019663\u001b[0m  |  \u001b[32m  0.019038\u001b[0m  |     1.032822  |             |  8.5s"
       ]
      },
      {
       "output_type": "stream",
       "stream": "stdout",
       "text": [
        "\n",
        "   191  |  \u001b[94m  0.019605\u001b[0m  |  \u001b[32m  0.018907\u001b[0m  |     1.036937  |             |  8.5s"
       ]
      },
      {
       "output_type": "stream",
       "stream": "stdout",
       "text": [
        "\n",
        "   192  |  \u001b[94m  0.019564\u001b[0m  |  \u001b[32m  0.018905\u001b[0m  |     1.034893  |             |  8.5s"
       ]
      },
      {
       "output_type": "stream",
       "stream": "stdout",
       "text": [
        "\n",
        "   193  |  \u001b[94m  0.019444\u001b[0m  |  \u001b[32m  0.018794\u001b[0m  |     1.034595  |             |  8.5s"
       ]
      },
      {
       "output_type": "stream",
       "stream": "stdout",
       "text": [
        "\n",
        "   194  |    0.019458  |  \u001b[32m  0.018700\u001b[0m  |     1.040505  |             |  8.5s"
       ]
      },
      {
       "output_type": "stream",
       "stream": "stdout",
       "text": [
        "\n",
        "   195  |  \u001b[94m  0.019371\u001b[0m  |  \u001b[32m  0.018689\u001b[0m  |     1.036452  |             |  8.5s"
       ]
      },
      {
       "output_type": "stream",
       "stream": "stdout",
       "text": [
        "\n",
        "   196  |  \u001b[94m  0.019328\u001b[0m  |  \u001b[32m  0.018582\u001b[0m  |     1.040180  |             |  8.5s"
       ]
      },
      {
       "output_type": "stream",
       "stream": "stdout",
       "text": [
        "\n",
        "   197  |  \u001b[94m  0.019264\u001b[0m  |  \u001b[32m  0.018544\u001b[0m  |     1.038813  |             |  8.5s"
       ]
      },
      {
       "output_type": "stream",
       "stream": "stdout",
       "text": [
        "\n",
        "   198  |  \u001b[94m  0.019211\u001b[0m  |  \u001b[32m  0.018486\u001b[0m  |     1.039168  |             |  8.5s"
       ]
      },
      {
       "output_type": "stream",
       "stream": "stdout",
       "text": [
        "\n",
        "   199  |  \u001b[94m  0.019146\u001b[0m  |  \u001b[32m  0.018391\u001b[0m  |     1.041031  |             |  8.5s"
       ]
      },
      {
       "output_type": "stream",
       "stream": "stdout",
       "text": [
        "\n",
        "   200  |  \u001b[94m  0.019144\u001b[0m  |    0.018421  |     1.039282  |             |  8.5s"
       ]
      },
      {
       "output_type": "stream",
       "stream": "stdout",
       "text": [
        "\n",
        "   201  |  \u001b[94m  0.019097\u001b[0m  |  \u001b[32m  0.018241\u001b[0m  |     1.046946  |             |  8.5s"
       ]
      },
      {
       "output_type": "stream",
       "stream": "stdout",
       "text": [
        "\n",
        "   202  |  \u001b[94m  0.018993\u001b[0m  |  \u001b[32m  0.018231\u001b[0m  |     1.041825  |             |  8.5s"
       ]
      },
      {
       "output_type": "stream",
       "stream": "stdout",
       "text": [
        "\n",
        "   203  |  \u001b[94m  0.018949\u001b[0m  |  \u001b[32m  0.018163\u001b[0m  |     1.043247  |             |  8.5s"
       ]
      },
      {
       "output_type": "stream",
       "stream": "stdout",
       "text": [
        "\n",
        "   204  |  \u001b[94m  0.018878\u001b[0m  |  \u001b[32m  0.018036\u001b[0m  |     1.046697  |             |  8.5s"
       ]
      },
      {
       "output_type": "stream",
       "stream": "stdout",
       "text": [
        "\n",
        "   205  |  \u001b[94m  0.018773\u001b[0m  |  \u001b[32m  0.017960\u001b[0m  |     1.045281  |             |  8.5s"
       ]
      },
      {
       "output_type": "stream",
       "stream": "stdout",
       "text": [
        "\n",
        "   206  |  \u001b[94m  0.018725\u001b[0m  |  \u001b[32m  0.017905\u001b[0m  |     1.045770  |             |  8.5s"
       ]
      },
      {
       "output_type": "stream",
       "stream": "stdout",
       "text": [
        "\n",
        "   207  |    0.018782  |  \u001b[32m  0.017892\u001b[0m  |     1.049715  |             |  8.5s"
       ]
      },
      {
       "output_type": "stream",
       "stream": "stdout",
       "text": [
        "\n",
        "   208  |  \u001b[94m  0.018688\u001b[0m  |  \u001b[32m  0.017785\u001b[0m  |     1.050746  |             |  8.5s"
       ]
      },
      {
       "output_type": "stream",
       "stream": "stdout",
       "text": [
        "\n",
        "   209  |  \u001b[94m  0.018647\u001b[0m  |  \u001b[32m  0.017732\u001b[0m  |     1.051608  |             |  8.5s"
       ]
      },
      {
       "output_type": "stream",
       "stream": "stdout",
       "text": [
        "\n",
        "   210  |  \u001b[94m  0.018590\u001b[0m  |  \u001b[32m  0.017646\u001b[0m  |     1.053514  |             |  8.5s"
       ]
      },
      {
       "output_type": "stream",
       "stream": "stdout",
       "text": [
        "\n",
        "   211  |  \u001b[94m  0.018513\u001b[0m  |  \u001b[32m  0.017569\u001b[0m  |     1.053699  |             |  8.5s"
       ]
      },
      {
       "output_type": "stream",
       "stream": "stdout",
       "text": [
        "\n",
        "   212  |  \u001b[94m  0.018463\u001b[0m  |  \u001b[32m  0.017444\u001b[0m  |     1.058420  |             |  8.5s"
       ]
      },
      {
       "output_type": "stream",
       "stream": "stdout",
       "text": [
        "\n",
        "   213  |  \u001b[94m  0.018412\u001b[0m  |    0.017505  |     1.051805  |             |  8.4s"
       ]
      },
      {
       "output_type": "stream",
       "stream": "stdout",
       "text": [
        "\n",
        "   214  |  \u001b[94m  0.018377\u001b[0m  |    0.017559  |     1.046551  |             |  8.5s"
       ]
      },
      {
       "output_type": "stream",
       "stream": "stdout",
       "text": [
        "\n",
        "   215  |  \u001b[94m  0.018290\u001b[0m  |  \u001b[32m  0.017355\u001b[0m  |     1.053892  |             |  8.4s"
       ]
      },
      {
       "output_type": "stream",
       "stream": "stdout",
       "text": [
        "\n",
        "   216  |  \u001b[94m  0.018205\u001b[0m  |    0.017391  |     1.046813  |             |  8.5s"
       ]
      },
      {
       "output_type": "stream",
       "stream": "stdout",
       "text": [
        "\n",
        "   217  |  \u001b[94m  0.018192\u001b[0m  |  \u001b[32m  0.017230\u001b[0m  |     1.055832  |             |  8.4s"
       ]
      },
      {
       "output_type": "stream",
       "stream": "stdout",
       "text": [
        "\n",
        "   218  |  \u001b[94m  0.018180\u001b[0m  |  \u001b[32m  0.017213\u001b[0m  |     1.056173  |             |  8.4s"
       ]
      },
      {
       "output_type": "stream",
       "stream": "stdout",
       "text": [
        "\n",
        "   219  |  \u001b[94m  0.018113\u001b[0m  |  \u001b[32m  0.017112\u001b[0m  |     1.058508  |             |  8.4s"
       ]
      },
      {
       "output_type": "stream",
       "stream": "stdout",
       "text": [
        "\n",
        "   220  |  \u001b[94m  0.018069\u001b[0m  |  \u001b[32m  0.017000\u001b[0m  |     1.062911  |             |  8.4s"
       ]
      },
      {
       "output_type": "stream",
       "stream": "stdout",
       "text": [
        "\n",
        "   221  |  \u001b[94m  0.017987\u001b[0m  |  \u001b[32m  0.016965\u001b[0m  |     1.060252  |             |  8.4s"
       ]
      },
      {
       "output_type": "stream",
       "stream": "stdout",
       "text": [
        "\n",
        "   222  |  \u001b[94m  0.017943\u001b[0m  |  \u001b[32m  0.016925\u001b[0m  |     1.060141  |             |  8.4s"
       ]
      },
      {
       "output_type": "stream",
       "stream": "stdout",
       "text": [
        "\n",
        "   223  |  \u001b[94m  0.017867\u001b[0m  |  \u001b[32m  0.016884\u001b[0m  |     1.058223  |             |  8.4s"
       ]
      },
      {
       "output_type": "stream",
       "stream": "stdout",
       "text": [
        "\n",
        "   224  |    0.017897  |  \u001b[32m  0.016764\u001b[0m  |     1.067601  |             |  8.4s"
       ]
      },
      {
       "output_type": "stream",
       "stream": "stdout",
       "text": [
        "\n",
        "   225  |  \u001b[94m  0.017808\u001b[0m  |  \u001b[32m  0.016716\u001b[0m  |     1.065321  |             |  8.4s"
       ]
      },
      {
       "output_type": "stream",
       "stream": "stdout",
       "text": [
        "\n",
        "   226  |    0.017824  |  \u001b[32m  0.016683\u001b[0m  |     1.068396  |             |  8.4s"
       ]
      },
      {
       "output_type": "stream",
       "stream": "stdout",
       "text": [
        "\n",
        "   227  |  \u001b[94m  0.017684\u001b[0m  |  \u001b[32m  0.016594\u001b[0m  |     1.065698  |             |  8.4s"
       ]
      },
      {
       "output_type": "stream",
       "stream": "stdout",
       "text": [
        "\n",
        "   228  |    0.017724  |    0.016621  |     1.066406  |             |  8.4s"
       ]
      },
      {
       "output_type": "stream",
       "stream": "stdout",
       "text": [
        "\n",
        "   229  |  \u001b[94m  0.017653\u001b[0m  |  \u001b[32m  0.016471\u001b[0m  |     1.071738  |             |  8.4s"
       ]
      },
      {
       "output_type": "stream",
       "stream": "stdout",
       "text": [
        "\n",
        "   230  |  \u001b[94m  0.017626\u001b[0m  |    0.016584  |     1.062844  |             |  8.4s"
       ]
      },
      {
       "output_type": "stream",
       "stream": "stdout",
       "text": [
        "\n",
        "   231  |  \u001b[94m  0.017527\u001b[0m  |  \u001b[32m  0.016422\u001b[0m  |     1.067286  |             |  8.4s"
       ]
      },
      {
       "output_type": "stream",
       "stream": "stdout",
       "text": [
        "\n",
        "   232  |  \u001b[94m  0.017500\u001b[0m  |  \u001b[32m  0.016329\u001b[0m  |     1.071706  |             |  8.4s"
       ]
      },
      {
       "output_type": "stream",
       "stream": "stdout",
       "text": [
        "\n",
        "   233  |  \u001b[94m  0.017445\u001b[0m  |    0.016353  |     1.066778  |             |  8.4s"
       ]
      },
      {
       "output_type": "stream",
       "stream": "stdout",
       "text": [
        "\n",
        "   234  |  \u001b[94m  0.017442\u001b[0m  |  \u001b[32m  0.016301\u001b[0m  |     1.070002  |             |  8.4s"
       ]
      },
      {
       "output_type": "stream",
       "stream": "stdout",
       "text": [
        "\n",
        "   235  |  \u001b[94m  0.017369\u001b[0m  |  \u001b[32m  0.016239\u001b[0m  |     1.069608  |             |  8.5s"
       ]
      },
      {
       "output_type": "stream",
       "stream": "stdout",
       "text": [
        "\n",
        "   236  |  \u001b[94m  0.017310\u001b[0m  |  \u001b[32m  0.016163\u001b[0m  |     1.070988  |             |  8.5s"
       ]
      },
      {
       "output_type": "stream",
       "stream": "stdout",
       "text": [
        "\n",
        "   237  |  \u001b[94m  0.017281\u001b[0m  |    0.016186  |     1.067685  |             |  8.5s"
       ]
      },
      {
       "output_type": "stream",
       "stream": "stdout",
       "text": [
        "\n",
        "   238  |  \u001b[94m  0.017227\u001b[0m  |  \u001b[32m  0.016031\u001b[0m  |     1.074553  |             |  8.4s"
       ]
      },
      {
       "output_type": "stream",
       "stream": "stdout",
       "text": [
        "\n",
        "   239  |  \u001b[94m  0.017163\u001b[0m  |    0.016034  |     1.070408  |             |  8.4s"
       ]
      },
      {
       "output_type": "stream",
       "stream": "stdout",
       "text": [
        "\n",
        "   240  |  \u001b[94m  0.017128\u001b[0m  |  \u001b[32m  0.015938\u001b[0m  |     1.074630  |             |  8.5s"
       ]
      },
      {
       "output_type": "stream",
       "stream": "stdout",
       "text": [
        "\n",
        "   241  |  \u001b[94m  0.017096\u001b[0m  |  \u001b[32m  0.015920\u001b[0m  |     1.073915  |             |  8.5s"
       ]
      },
      {
       "output_type": "stream",
       "stream": "stdout",
       "text": [
        "\n",
        "   242  |    0.017113  |    0.015948  |     1.073032  |             |  8.5s"
       ]
      },
      {
       "output_type": "stream",
       "stream": "stdout",
       "text": [
        "\n",
        "   243  |  \u001b[94m  0.017066\u001b[0m  |  \u001b[32m  0.015807\u001b[0m  |     1.079639  |             |  8.4s"
       ]
      },
      {
       "output_type": "stream",
       "stream": "stdout",
       "text": [
        "\n",
        "   244  |  \u001b[94m  0.016978\u001b[0m  |  \u001b[32m  0.015723\u001b[0m  |     1.079844  |             |  8.4s"
       ]
      },
      {
       "output_type": "stream",
       "stream": "stdout",
       "text": [
        "\n",
        "   245  |  \u001b[94m  0.016957\u001b[0m  |    0.015777  |     1.074774  |             |  8.4s"
       ]
      },
      {
       "output_type": "stream",
       "stream": "stdout",
       "text": [
        "\n",
        "   246  |  \u001b[94m  0.016917\u001b[0m  |  \u001b[32m  0.015694\u001b[0m  |     1.077905  |             |  8.5s"
       ]
      },
      {
       "output_type": "stream",
       "stream": "stdout",
       "text": [
        "\n",
        "   247  |  \u001b[94m  0.016824\u001b[0m  |  \u001b[32m  0.015596\u001b[0m  |     1.078751  |             |  8.5s"
       ]
      },
      {
       "output_type": "stream",
       "stream": "stdout",
       "text": [
        "\n",
        "   248  |    0.016835  |  \u001b[32m  0.015513\u001b[0m  |     1.085177  |             |  8.5s"
       ]
      },
      {
       "output_type": "stream",
       "stream": "stdout",
       "text": [
        "\n",
        "   249  |  \u001b[94m  0.016757\u001b[0m  |    0.015663  |     1.069844  |             |  8.4s"
       ]
      },
      {
       "output_type": "stream",
       "stream": "stdout",
       "text": [
        "\n",
        "   250  |  \u001b[94m  0.016704\u001b[0m  |  \u001b[32m  0.015456\u001b[0m  |     1.080696  |             |  8.4s"
       ]
      },
      {
       "output_type": "stream",
       "stream": "stdout",
       "text": [
        "\n",
        "   251  |  \u001b[94m  0.016689\u001b[0m  |    0.015465  |     1.079186  |             |  8.4s"
       ]
      },
      {
       "output_type": "stream",
       "stream": "stdout",
       "text": [
        "\n",
        "   252  |  \u001b[94m  0.016615\u001b[0m  |  \u001b[32m  0.015403\u001b[0m  |     1.078681  |             |  8.4s"
       ]
      },
      {
       "output_type": "stream",
       "stream": "stdout",
       "text": [
        "\n",
        "   253  |    0.016668  |    0.015474  |     1.077124  |             |  8.4s"
       ]
      },
      {
       "output_type": "stream",
       "stream": "stdout",
       "text": [
        "\n",
        "   254  |    0.016670  |  \u001b[32m  0.015390\u001b[0m  |     1.083174  |             |  8.4s"
       ]
      },
      {
       "output_type": "stream",
       "stream": "stdout",
       "text": [
        "\n",
        "   255  |  \u001b[94m  0.016517\u001b[0m  |  \u001b[32m  0.015290\u001b[0m  |     1.080246  |             |  8.4s"
       ]
      },
      {
       "output_type": "stream",
       "stream": "stdout",
       "text": [
        "\n",
        "   256  |    0.016527  |    0.015346  |     1.076931  |             |  8.4s"
       ]
      },
      {
       "output_type": "stream",
       "stream": "stdout",
       "text": [
        "\n",
        "   257  |  \u001b[94m  0.016457\u001b[0m  |  \u001b[32m  0.015233\u001b[0m  |     1.080356  |             |  8.4s"
       ]
      },
      {
       "output_type": "stream",
       "stream": "stdout",
       "text": [
        "\n",
        "   258  |  \u001b[94m  0.016404\u001b[0m  |  \u001b[32m  0.015152\u001b[0m  |     1.082648  |             |  8.4s"
       ]
      },
      {
       "output_type": "stream",
       "stream": "stdout",
       "text": [
        "\n",
        "   259  |    0.016409  |  \u001b[32m  0.015152\u001b[0m  |     1.082953  |             |  8.4s"
       ]
      },
      {
       "output_type": "stream",
       "stream": "stdout",
       "text": [
        "\n",
        "   260  |  \u001b[94m  0.016388\u001b[0m  |  \u001b[32m  0.015118\u001b[0m  |     1.083996  |             |  8.4s"
       ]
      },
      {
       "output_type": "stream",
       "stream": "stdout",
       "text": [
        "\n",
        "   261  |  \u001b[94m  0.016363\u001b[0m  |  \u001b[32m  0.015041\u001b[0m  |     1.087921  |             |  8.4s"
       ]
      },
      {
       "output_type": "stream",
       "stream": "stdout",
       "text": [
        "\n",
        "   262  |  \u001b[94m  0.016290\u001b[0m  |  \u001b[32m  0.014942\u001b[0m  |     1.090215  |             |  8.3s"
       ]
      },
      {
       "output_type": "stream",
       "stream": "stdout",
       "text": [
        "\n",
        "   263  |    0.016294  |    0.014983  |     1.087522  |             |  8.2s"
       ]
      },
      {
       "output_type": "stream",
       "stream": "stdout",
       "text": [
        "\n",
        "   264  |  \u001b[94m  0.016238\u001b[0m  |  \u001b[32m  0.014912\u001b[0m  |     1.088889  |             |  8.2s"
       ]
      },
      {
       "output_type": "stream",
       "stream": "stdout",
       "text": [
        "\n",
        "   265  |  \u001b[94m  0.016119\u001b[0m  |  \u001b[32m  0.014893\u001b[0m  |     1.082313  |             |  8.2s"
       ]
      },
      {
       "output_type": "stream",
       "stream": "stdout",
       "text": [
        "\n",
        "   266  |    0.016184  |  \u001b[32m  0.014760\u001b[0m  |     1.096485  |             |  8.2s"
       ]
      },
      {
       "output_type": "stream",
       "stream": "stdout",
       "text": [
        "\n",
        "   267  |    0.016124  |    0.014879  |     1.083663  |             |  8.2s"
       ]
      },
      {
       "output_type": "stream",
       "stream": "stdout",
       "text": [
        "\n",
        "   268  |  \u001b[94m  0.016086\u001b[0m  |    0.014814  |     1.085833  |             |  8.2s"
       ]
      },
      {
       "output_type": "stream",
       "stream": "stdout",
       "text": [
        "\n",
        "   269  |  \u001b[94m  0.016008\u001b[0m  |  \u001b[32m  0.014717\u001b[0m  |     1.087726  |             |  8.2s"
       ]
      },
      {
       "output_type": "stream",
       "stream": "stdout",
       "text": [
        "\n",
        "   270  |  \u001b[94m  0.015987\u001b[0m  |  \u001b[32m  0.014667\u001b[0m  |     1.089942  |             |  8.2s"
       ]
      },
      {
       "output_type": "stream",
       "stream": "stdout",
       "text": [
        "\n",
        "   271  |    0.015999  |    0.014737  |     1.085628  |             |  8.2s"
       ]
      },
      {
       "output_type": "stream",
       "stream": "stdout",
       "text": [
        "\n",
        "   272  |  \u001b[94m  0.015975\u001b[0m  |  \u001b[32m  0.014621\u001b[0m  |     1.092610  |             |  8.2s"
       ]
      },
      {
       "output_type": "stream",
       "stream": "stdout",
       "text": [
        "\n",
        "   273  |  \u001b[94m  0.015884\u001b[0m  |  \u001b[32m  0.014616\u001b[0m  |     1.086762  |             |  8.2s"
       ]
      },
      {
       "output_type": "stream",
       "stream": "stdout",
       "text": [
        "\n",
        "   274  |    0.015886  |  \u001b[32m  0.014614\u001b[0m  |     1.086986  |             |  8.2s"
       ]
      },
      {
       "output_type": "stream",
       "stream": "stdout",
       "text": [
        "\n",
        "   275  |  \u001b[94m  0.015879\u001b[0m  |  \u001b[32m  0.014518\u001b[0m  |     1.093776  |             |  8.2s"
       ]
      },
      {
       "output_type": "stream",
       "stream": "stdout",
       "text": [
        "\n",
        "   276  |  \u001b[94m  0.015832\u001b[0m  |    0.014557  |     1.087576  |             |  8.2s"
       ]
      },
      {
       "output_type": "stream",
       "stream": "stdout",
       "text": [
        "\n",
        "   277  |  \u001b[94m  0.015812\u001b[0m  |  \u001b[32m  0.014468\u001b[0m  |     1.092892  |             |  8.2s"
       ]
      },
      {
       "output_type": "stream",
       "stream": "stdout",
       "text": [
        "\n",
        "   278  |  \u001b[94m  0.015805\u001b[0m  |  \u001b[32m  0.014458\u001b[0m  |     1.093163  |             |  8.2s"
       ]
      },
      {
       "output_type": "stream",
       "stream": "stdout",
       "text": [
        "\n",
        "   279  |  \u001b[94m  0.015771\u001b[0m  |  \u001b[32m  0.014318\u001b[0m  |     1.101467  |             |  8.2s"
       ]
      },
      {
       "output_type": "stream",
       "stream": "stdout",
       "text": [
        "\n",
        "   280  |  \u001b[94m  0.015634\u001b[0m  |    0.014338  |     1.090433  |             |  8.2s"
       ]
      },
      {
       "output_type": "stream",
       "stream": "stdout",
       "text": [
        "\n",
        "   281  |    0.015637  |    0.014359  |     1.089006  |             |  8.2s"
       ]
      },
      {
       "output_type": "stream",
       "stream": "stdout",
       "text": [
        "\n",
        "   282  |    0.015644  |  \u001b[32m  0.014312\u001b[0m  |     1.093029  |             |  8.2s"
       ]
      },
      {
       "output_type": "stream",
       "stream": "stdout",
       "text": [
        "\n",
        "   283  |    0.015650  |  \u001b[32m  0.014297\u001b[0m  |     1.094666  |             |  8.2s"
       ]
      },
      {
       "output_type": "stream",
       "stream": "stdout",
       "text": [
        "\n",
        "   284  |  \u001b[94m  0.015599\u001b[0m  |  \u001b[32m  0.014190\u001b[0m  |     1.099305  |             |  8.2s"
       ]
      },
      {
       "output_type": "stream",
       "stream": "stdout",
       "text": [
        "\n",
        "   285  |  \u001b[94m  0.015523\u001b[0m  |  \u001b[32m  0.014163\u001b[0m  |     1.096008  |             |  8.2s"
       ]
      },
      {
       "output_type": "stream",
       "stream": "stdout",
       "text": [
        "\n",
        "   286  |    0.015540  |    0.014199  |     1.094450  |             |  8.2s"
       ]
      },
      {
       "output_type": "stream",
       "stream": "stdout",
       "text": [
        "\n",
        "   287  |  \u001b[94m  0.015516\u001b[0m  |    0.014193  |     1.093254  |             |  8.2s"
       ]
      },
      {
       "output_type": "stream",
       "stream": "stdout",
       "text": [
        "\n",
        "   288  |  \u001b[94m  0.015440\u001b[0m  |  \u001b[32m  0.014109\u001b[0m  |     1.094374  |             |  8.2s"
       ]
      },
      {
       "output_type": "stream",
       "stream": "stdout",
       "text": [
        "\n",
        "   289  |  \u001b[94m  0.015415\u001b[0m  |    0.014110  |     1.092501  |             |  8.2s"
       ]
      },
      {
       "output_type": "stream",
       "stream": "stdout",
       "text": [
        "\n",
        "   290  |  \u001b[94m  0.015410\u001b[0m  |  \u001b[32m  0.014005\u001b[0m  |     1.100302  |             |  8.2s"
       ]
      },
      {
       "output_type": "stream",
       "stream": "stdout",
       "text": [
        "\n",
        "   291  |  \u001b[94m  0.015373\u001b[0m  |    0.014077  |     1.092046  |             |  8.2s"
       ]
      },
      {
       "output_type": "stream",
       "stream": "stdout",
       "text": [
        "\n",
        "   292  |  \u001b[94m  0.015334\u001b[0m  |  \u001b[32m  0.014000\u001b[0m  |     1.095307  |             |  8.2s"
       ]
      },
      {
       "output_type": "stream",
       "stream": "stdout",
       "text": [
        "\n",
        "   293  |    0.015351  |  \u001b[32m  0.013988\u001b[0m  |     1.097463  |             |  8.4s"
       ]
      },
      {
       "output_type": "stream",
       "stream": "stdout",
       "text": [
        "\n",
        "   294  |  \u001b[94m  0.015267\u001b[0m  |  \u001b[32m  0.013959\u001b[0m  |     1.093707  |             |  8.4s"
       ]
      },
      {
       "output_type": "stream",
       "stream": "stdout",
       "text": [
        "\n",
        "   295  |  \u001b[94m  0.015187\u001b[0m  |  \u001b[32m  0.013958\u001b[0m  |     1.088061  |             |  8.4s"
       ]
      },
      {
       "output_type": "stream",
       "stream": "stdout",
       "text": [
        "\n",
        "   296  |    0.015273  |  \u001b[32m  0.013845\u001b[0m  |     1.103129  |             |  8.2s"
       ]
      },
      {
       "output_type": "stream",
       "stream": "stdout",
       "text": [
        "\n",
        "   297  |  \u001b[94m  0.015146\u001b[0m  |    0.013884  |     1.090906  |             |  8.2s"
       ]
      },
      {
       "output_type": "stream",
       "stream": "stdout",
       "text": [
        "\n",
        "   298  |  \u001b[94m  0.015124\u001b[0m  |  \u001b[32m  0.013841\u001b[0m  |     1.092717  |             |  8.2s"
       ]
      },
      {
       "output_type": "stream",
       "stream": "stdout",
       "text": [
        "\n",
        "   299  |    0.015156  |  \u001b[32m  0.013781\u001b[0m  |     1.099780  |             |  8.2s"
       ]
      },
      {
       "output_type": "stream",
       "stream": "stdout",
       "text": [
        "\n",
        "   300  |    0.015128  |    0.013831  |     1.093719  |             |  8.2s"
       ]
      },
      {
       "output_type": "stream",
       "stream": "stdout",
       "text": [
        "\n",
        "   301  |    0.015126  |  \u001b[32m  0.013727\u001b[0m  |     1.101907  |             |  8.2s"
       ]
      },
      {
       "output_type": "stream",
       "stream": "stdout",
       "text": [
        "\n",
        "   302  |  \u001b[94m  0.015070\u001b[0m  |  \u001b[32m  0.013711\u001b[0m  |     1.099097  |             |  8.2s"
       ]
      },
      {
       "output_type": "stream",
       "stream": "stdout",
       "text": [
        "\n",
        "   303  |  \u001b[94m  0.015030\u001b[0m  |    0.013757  |     1.092594  |             |  8.2s"
       ]
      },
      {
       "output_type": "stream",
       "stream": "stdout",
       "text": [
        "\n",
        "   304  |  \u001b[94m  0.015026\u001b[0m  |  \u001b[32m  0.013699\u001b[0m  |     1.096857  |             |  8.2s"
       ]
      },
      {
       "output_type": "stream",
       "stream": "stdout",
       "text": [
        "\n",
        "   305  |    0.015064  |    0.013751  |     1.095519  |             |  8.2s"
       ]
      },
      {
       "output_type": "stream",
       "stream": "stdout",
       "text": [
        "\n",
        "   306  |  \u001b[94m  0.015000\u001b[0m  |  \u001b[32m  0.013594\u001b[0m  |     1.103432  |             |  8.2s"
       ]
      },
      {
       "output_type": "stream",
       "stream": "stdout",
       "text": [
        "\n",
        "   307  |  \u001b[94m  0.014946\u001b[0m  |    0.013657  |     1.094385  |             |  8.2s"
       ]
      },
      {
       "output_type": "stream",
       "stream": "stdout",
       "text": [
        "\n",
        "   308  |  \u001b[94m  0.014918\u001b[0m  |    0.013632  |     1.094348  |             |  8.2s"
       ]
      },
      {
       "output_type": "stream",
       "stream": "stdout",
       "text": [
        "\n",
        "   309  |  \u001b[94m  0.014877\u001b[0m  |  \u001b[32m  0.013586\u001b[0m  |     1.095001  |             |  8.2s"
       ]
      },
      {
       "output_type": "stream",
       "stream": "stdout",
       "text": [
        "\n",
        "   310  |  \u001b[94m  0.014863\u001b[0m  |  \u001b[32m  0.013434\u001b[0m  |     1.106380  |             |  8.2s"
       ]
      },
      {
       "output_type": "stream",
       "stream": "stdout",
       "text": [
        "\n",
        "   311  |  \u001b[94m  0.014841\u001b[0m  |    0.013450  |     1.103380  |             |  8.2s"
       ]
      },
      {
       "output_type": "stream",
       "stream": "stdout",
       "text": [
        "\n",
        "   312  |    0.014857  |    0.013537  |     1.097527  |             |  8.2s"
       ]
      },
      {
       "output_type": "stream",
       "stream": "stdout",
       "text": [
        "\n",
        "   313  |  \u001b[94m  0.014833\u001b[0m  |  \u001b[32m  0.013416\u001b[0m  |     1.105642  |             |  8.2s"
       ]
      },
      {
       "output_type": "stream",
       "stream": "stdout",
       "text": [
        "\n",
        "   314  |  \u001b[94m  0.014804\u001b[0m  |  \u001b[32m  0.013349\u001b[0m  |     1.109011  |             |  8.2s"
       ]
      },
      {
       "output_type": "stream",
       "stream": "stdout",
       "text": [
        "\n",
        "   315  |  \u001b[94m  0.014778\u001b[0m  |    0.013417  |     1.101434  |             |  8.2s"
       ]
      },
      {
       "output_type": "stream",
       "stream": "stdout",
       "text": [
        "\n",
        "   316  |  \u001b[94m  0.014758\u001b[0m  |    0.013521  |     1.091509  |             |  8.3s"
       ]
      },
      {
       "output_type": "stream",
       "stream": "stdout",
       "text": [
        "\n",
        "   317  |  \u001b[94m  0.014707\u001b[0m  |  \u001b[32m  0.013297\u001b[0m  |     1.106055  |             |  8.3s"
       ]
      },
      {
       "output_type": "stream",
       "stream": "stdout",
       "text": [
        "\n",
        "   318  |  \u001b[94m  0.014668\u001b[0m  |    0.013302  |     1.102626  |             |  8.2s"
       ]
      },
      {
       "output_type": "stream",
       "stream": "stdout",
       "text": [
        "\n",
        "   319  |    0.014715  |    0.013345  |     1.102669  |             |  8.2s"
       ]
      },
      {
       "output_type": "stream",
       "stream": "stdout",
       "text": [
        "\n",
        "   320  |    0.014691  |  \u001b[32m  0.013264\u001b[0m  |     1.107603  |             |  8.2s"
       ]
      },
      {
       "output_type": "stream",
       "stream": "stdout",
       "text": [
        "\n",
        "   321  |  \u001b[94m  0.014584\u001b[0m  |  \u001b[32m  0.013235\u001b[0m  |     1.101943  |             |  8.2s"
       ]
      },
      {
       "output_type": "stream",
       "stream": "stdout",
       "text": [
        "\n",
        "   322  |    0.014609  |    0.013272  |     1.100780  |             |  8.2s"
       ]
      },
      {
       "output_type": "stream",
       "stream": "stdout",
       "text": [
        "\n",
        "   323  |  \u001b[94m  0.014536\u001b[0m  |  \u001b[32m  0.013171\u001b[0m  |     1.103645  |             |  8.2s"
       ]
      },
      {
       "output_type": "stream",
       "stream": "stdout",
       "text": [
        "\n",
        "   324  |    0.014537  |    0.013231  |     1.098684  |             |  8.2s"
       ]
      },
      {
       "output_type": "stream",
       "stream": "stdout",
       "text": [
        "\n",
        "   325  |  \u001b[94m  0.014521\u001b[0m  |    0.013222  |     1.098210  |             |  8.2s"
       ]
      },
      {
       "output_type": "stream",
       "stream": "stdout",
       "text": [
        "\n",
        "   326  |  \u001b[94m  0.014513\u001b[0m  |  \u001b[32m  0.013155\u001b[0m  |     1.103225  |             |  8.2s"
       ]
      },
      {
       "output_type": "stream",
       "stream": "stdout",
       "text": [
        "\n",
        "   327  |  \u001b[94m  0.014484\u001b[0m  |  \u001b[32m  0.013120\u001b[0m  |     1.103934  |             |  8.2s"
       ]
      },
      {
       "output_type": "stream",
       "stream": "stdout",
       "text": [
        "\n",
        "   328  |  \u001b[94m  0.014445\u001b[0m  |    0.013170  |     1.096757  |             |  8.3s"
       ]
      },
      {
       "output_type": "stream",
       "stream": "stdout",
       "text": [
        "\n",
        "   329  |    0.014515  |    0.013133  |     1.105264  |             |  8.2s"
       ]
      },
      {
       "output_type": "stream",
       "stream": "stdout",
       "text": [
        "\n",
        "   330  |    0.014460  |  \u001b[32m  0.013109\u001b[0m  |     1.102991  |             |  8.2s"
       ]
      },
      {
       "output_type": "stream",
       "stream": "stdout",
       "text": [
        "\n",
        "   331  |  \u001b[94m  0.014383\u001b[0m  |  \u001b[32m  0.013047\u001b[0m  |     1.102446  |             |  8.2s"
       ]
      },
      {
       "output_type": "stream",
       "stream": "stdout",
       "text": [
        "\n",
        "   332  |    0.014427  |  \u001b[32m  0.013042\u001b[0m  |     1.106225  |             |  8.2s"
       ]
      },
      {
       "output_type": "stream",
       "stream": "stdout",
       "text": [
        "\n",
        "   333  |  \u001b[94m  0.014306\u001b[0m  |  \u001b[32m  0.013034\u001b[0m  |     1.097564  |             |  8.2s"
       ]
      },
      {
       "output_type": "stream",
       "stream": "stdout",
       "text": [
        "\n",
        "   334  |    0.014355  |  \u001b[32m  0.012975\u001b[0m  |     1.106350  |             |  8.3s"
       ]
      },
      {
       "output_type": "stream",
       "stream": "stdout",
       "text": [
        "\n",
        "   335  |    0.014341  |    0.012998  |     1.103341  |             |  8.3s"
       ]
      },
      {
       "output_type": "stream",
       "stream": "stdout",
       "text": [
        "\n",
        "   336  |  \u001b[94m  0.014304\u001b[0m  |  \u001b[32m  0.012915\u001b[0m  |     1.107622  |             |  8.3s"
       ]
      },
      {
       "output_type": "stream",
       "stream": "stdout",
       "text": [
        "\n",
        "   337  |  \u001b[94m  0.014267\u001b[0m  |    0.013034  |     1.094593  |             |  8.3s"
       ]
      },
      {
       "output_type": "stream",
       "stream": "stdout",
       "text": [
        "\n",
        "   338  |    0.014309  |    0.012946  |     1.105297  |             |  8.4s"
       ]
      },
      {
       "output_type": "stream",
       "stream": "stdout",
       "text": [
        "\n",
        "   339  |  \u001b[94m  0.014232\u001b[0m  |  \u001b[32m  0.012864\u001b[0m  |     1.106314  |             |  8.3s"
       ]
      },
      {
       "output_type": "stream",
       "stream": "stdout",
       "text": [
        "\n",
        "   340  |    0.014255  |    0.012910  |     1.104163  |             |  8.4s"
       ]
      },
      {
       "output_type": "stream",
       "stream": "stdout",
       "text": [
        "\n",
        "   341  |  \u001b[94m  0.014230\u001b[0m  |    0.012884  |     1.104479  |             |  8.3s"
       ]
      },
      {
       "output_type": "stream",
       "stream": "stdout",
       "text": [
        "\n",
        "   342  |  \u001b[94m  0.014139\u001b[0m  |  \u001b[32m  0.012839\u001b[0m  |     1.101224  |             |  8.3s"
       ]
      },
      {
       "output_type": "stream",
       "stream": "stdout",
       "text": [
        "\n",
        "   343  |    0.014176  |    0.012931  |     1.096315  |             |  8.2s"
       ]
      },
      {
       "output_type": "stream",
       "stream": "stdout",
       "text": [
        "\n",
        "   344  |  \u001b[94m  0.014118\u001b[0m  |    0.012893  |     1.095075  |             |  8.2s"
       ]
      },
      {
       "output_type": "stream",
       "stream": "stdout",
       "text": [
        "\n",
        "   345  |    0.014182  |    0.012865  |     1.102377  |             |  8.2s"
       ]
      },
      {
       "output_type": "stream",
       "stream": "stdout",
       "text": [
        "\n",
        "   346  |  \u001b[94m  0.014077\u001b[0m  |    0.012857  |     1.094892  |             |  8.2s"
       ]
      },
      {
       "output_type": "stream",
       "stream": "stdout",
       "text": [
        "\n",
        "   347  |    0.014099  |  \u001b[32m  0.012767\u001b[0m  |     1.104357  |             |  8.2s"
       ]
      },
      {
       "output_type": "stream",
       "stream": "stdout",
       "text": [
        "\n",
        "   348  |    0.014079  |  \u001b[32m  0.012730\u001b[0m  |     1.106038  |             |  8.2s"
       ]
      },
      {
       "output_type": "stream",
       "stream": "stdout",
       "text": [
        "\n",
        "   349  |  \u001b[94m  0.014021\u001b[0m  |    0.012742  |     1.100384  |             |  8.2s"
       ]
      },
      {
       "output_type": "stream",
       "stream": "stdout",
       "text": [
        "\n",
        "   350  |  \u001b[94m  0.013982\u001b[0m  |  \u001b[32m  0.012680\u001b[0m  |     1.102741  |             |  8.2s"
       ]
      },
      {
       "output_type": "stream",
       "stream": "stdout",
       "text": [
        "\n",
        "   351  |    0.014054  |    0.012730  |     1.104023  |             |  8.2s"
       ]
      },
      {
       "output_type": "stream",
       "stream": "stdout",
       "text": [
        "\n",
        "   352  |    0.014009  |  \u001b[32m  0.012612\u001b[0m  |     1.110731  |             |  8.2s"
       ]
      },
      {
       "output_type": "stream",
       "stream": "stdout",
       "text": [
        "\n",
        "   353  |  \u001b[94m  0.013934\u001b[0m  |    0.012646  |     1.101913  |             |  8.2s"
       ]
      },
      {
       "output_type": "stream",
       "stream": "stdout",
       "text": [
        "\n",
        "   354  |    0.013956  |    0.012656  |     1.102734  |             |  8.2s"
       ]
      },
      {
       "output_type": "stream",
       "stream": "stdout",
       "text": [
        "\n",
        "   355  |  \u001b[94m  0.013908\u001b[0m  |  \u001b[32m  0.012572\u001b[0m  |     1.106252  |             |  8.2s"
       ]
      },
      {
       "output_type": "stream",
       "stream": "stdout",
       "text": [
        "\n",
        "   356  |    0.013952  |    0.012593  |     1.107878  |             |  8.2s"
       ]
      },
      {
       "output_type": "stream",
       "stream": "stdout",
       "text": [
        "\n",
        "   357  |    0.013947  |  \u001b[32m  0.012551\u001b[0m  |     1.111160  |             |  8.2s"
       ]
      },
      {
       "output_type": "stream",
       "stream": "stdout",
       "text": [
        "\n",
        "   358  |    0.013932  |  \u001b[32m  0.012549\u001b[0m  |     1.110232  |             |  8.2s"
       ]
      },
      {
       "output_type": "stream",
       "stream": "stdout",
       "text": [
        "\n",
        "   359  |  \u001b[94m  0.013868\u001b[0m  |    0.012571  |     1.103198  |             |  8.2s"
       ]
      },
      {
       "output_type": "stream",
       "stream": "stdout",
       "text": [
        "\n",
        "   360  |  \u001b[94m  0.013804\u001b[0m  |  \u001b[32m  0.012530\u001b[0m  |     1.101689  |             |  8.2s"
       ]
      },
      {
       "output_type": "stream",
       "stream": "stdout",
       "text": [
        "\n",
        "   361  |    0.013838  |  \u001b[32m  0.012491\u001b[0m  |     1.107780  |             |  8.2s"
       ]
      },
      {
       "output_type": "stream",
       "stream": "stdout",
       "text": [
        "\n",
        "   362  |    0.013831  |  \u001b[32m  0.012487\u001b[0m  |     1.107656  |             |  8.2s"
       ]
      },
      {
       "output_type": "stream",
       "stream": "stdout",
       "text": [
        "\n",
        "   363  |  \u001b[94m  0.013791\u001b[0m  |  \u001b[32m  0.012477\u001b[0m  |     1.105272  |             |  8.3s"
       ]
      },
      {
       "output_type": "stream",
       "stream": "stdout",
       "text": [
        "\n",
        "   364  |  \u001b[94m  0.013778\u001b[0m  |    0.012485  |     1.103588  |             |  8.4s"
       ]
      },
      {
       "output_type": "stream",
       "stream": "stdout",
       "text": [
        "\n",
        "   365  |  \u001b[94m  0.013728\u001b[0m  |    0.012480  |     1.099928  |             |  8.3s"
       ]
      },
      {
       "output_type": "stream",
       "stream": "stdout",
       "text": [
        "\n",
        "   366  |    0.013831  |    0.012480  |     1.108249  |             |  8.2s"
       ]
      },
      {
       "output_type": "stream",
       "stream": "stdout",
       "text": [
        "\n",
        "   367  |    0.013804  |  \u001b[32m  0.012441\u001b[0m  |     1.109507  |             |  8.3s"
       ]
      },
      {
       "output_type": "stream",
       "stream": "stdout",
       "text": [
        "\n",
        "   368  |  \u001b[94m  0.013653\u001b[0m  |  \u001b[32m  0.012326\u001b[0m  |     1.107612  |             |  8.2s"
       ]
      },
      {
       "output_type": "stream",
       "stream": "stdout",
       "text": [
        "\n",
        "   369  |    0.013725  |    0.012442  |     1.103162  |             |  8.2s"
       ]
      },
      {
       "output_type": "stream",
       "stream": "stdout",
       "text": [
        "\n",
        "   370  |    0.013670  |  \u001b[32m  0.012312\u001b[0m  |     1.110371  |             |  8.2s"
       ]
      },
      {
       "output_type": "stream",
       "stream": "stdout",
       "text": [
        "\n",
        "   371  |    0.013718  |    0.012334  |     1.112198  |             |  8.2s"
       ]
      },
      {
       "output_type": "stream",
       "stream": "stdout",
       "text": [
        "\n",
        "   372  |    0.013674  |    0.012370  |     1.105429  |             |  8.2s"
       ]
      },
      {
       "output_type": "stream",
       "stream": "stdout",
       "text": [
        "\n",
        "   373  |  \u001b[94m  0.013650\u001b[0m  |    0.012366  |     1.103840  |             |  8.2s"
       ]
      },
      {
       "output_type": "stream",
       "stream": "stdout",
       "text": [
        "\n",
        "   374  |  \u001b[94m  0.013626\u001b[0m  |    0.012333  |     1.104792  |             |  8.2s"
       ]
      },
      {
       "output_type": "stream",
       "stream": "stdout",
       "text": [
        "\n",
        "   375  |  \u001b[94m  0.013622\u001b[0m  |  \u001b[32m  0.012278\u001b[0m  |     1.109456  |             |  8.2s"
       ]
      },
      {
       "output_type": "stream",
       "stream": "stdout",
       "text": [
        "\n",
        "   376  |  \u001b[94m  0.013595\u001b[0m  |    0.012329  |     1.102621  |             |  8.2s"
       ]
      },
      {
       "output_type": "stream",
       "stream": "stdout",
       "text": [
        "\n",
        "   377  |  \u001b[94m  0.013574\u001b[0m  |    0.012315  |     1.102271  |             |  8.2s"
       ]
      },
      {
       "output_type": "stream",
       "stream": "stdout",
       "text": [
        "\n",
        "   378  |  \u001b[94m  0.013537\u001b[0m  |  \u001b[32m  0.012225\u001b[0m  |     1.107302  |             |  8.2s"
       ]
      },
      {
       "output_type": "stream",
       "stream": "stdout",
       "text": [
        "\n",
        "   379  |  \u001b[94m  0.013524\u001b[0m  |  \u001b[32m  0.012181\u001b[0m  |     1.110325  |             |  8.2s"
       ]
      },
      {
       "output_type": "stream",
       "stream": "stdout",
       "text": [
        "\n",
        "   380  |  \u001b[94m  0.013517\u001b[0m  |    0.012253  |     1.103136  |             |  8.2s"
       ]
      },
      {
       "output_type": "stream",
       "stream": "stdout",
       "text": [
        "\n",
        "   381  |  \u001b[94m  0.013488\u001b[0m  |    0.012227  |     1.103127  |             |  8.2s"
       ]
      },
      {
       "output_type": "stream",
       "stream": "stdout",
       "text": [
        "\n",
        "   382  |    0.013509  |  \u001b[32m  0.012170\u001b[0m  |     1.110022  |             |  8.2s"
       ]
      },
      {
       "output_type": "stream",
       "stream": "stdout",
       "text": [
        "\n",
        "   383  |  \u001b[94m  0.013468\u001b[0m  |    0.012191  |     1.104784  |             |  8.2s"
       ]
      },
      {
       "output_type": "stream",
       "stream": "stdout",
       "text": [
        "\n",
        "   384  |  \u001b[94m  0.013437\u001b[0m  |  \u001b[32m  0.012126\u001b[0m  |     1.108183  |             |  8.3s"
       ]
      },
      {
       "output_type": "stream",
       "stream": "stdout",
       "text": [
        "\n",
        "   385  |  \u001b[94m  0.013428\u001b[0m  |    0.012137  |     1.106333  |             |  8.4s"
       ]
      },
      {
       "output_type": "stream",
       "stream": "stdout",
       "text": [
        "\n",
        "   386  |  \u001b[94m  0.013427\u001b[0m  |    0.012145  |     1.105600  |             |  8.4s"
       ]
      },
      {
       "output_type": "stream",
       "stream": "stdout",
       "text": [
        "\n",
        "   387  |  \u001b[94m  0.013424\u001b[0m  |  \u001b[32m  0.012072\u001b[0m  |     1.112002  |             |  8.4s"
       ]
      },
      {
       "output_type": "stream",
       "stream": "stdout",
       "text": [
        "\n",
        "   388  |  \u001b[94m  0.013408\u001b[0m  |  \u001b[32m  0.012050\u001b[0m  |     1.112677  |             |  8.4s"
       ]
      },
      {
       "output_type": "stream",
       "stream": "stdout",
       "text": [
        "\n",
        "   389  |    0.013432  |    0.012056  |     1.114215  |             |  8.5s"
       ]
      },
      {
       "output_type": "stream",
       "stream": "stdout",
       "text": [
        "\n",
        "   390  |  \u001b[94m  0.013347\u001b[0m  |    0.012051  |     1.107600  |             |  8.3s"
       ]
      },
      {
       "output_type": "stream",
       "stream": "stdout",
       "text": [
        "\n",
        "   391  |    0.013401  |    0.012176  |     1.100607  |             |  8.3s"
       ]
      },
      {
       "output_type": "stream",
       "stream": "stdout",
       "text": [
        "\n",
        "   392  |  \u001b[94m  0.013280\u001b[0m  |  \u001b[32m  0.012049\u001b[0m  |     1.102215  |             |  8.4s"
       ]
      },
      {
       "output_type": "stream",
       "stream": "stdout",
       "text": [
        "\n",
        "   393  |    0.013290  |    0.012081  |     1.100101  |             |  8.3s"
       ]
      },
      {
       "output_type": "stream",
       "stream": "stdout",
       "text": [
        "\n",
        "   394  |    0.013289  |  \u001b[32m  0.012027\u001b[0m  |     1.104935  |             |  8.3s"
       ]
      },
      {
       "output_type": "stream",
       "stream": "stdout",
       "text": [
        "\n",
        "   395  |    0.013300  |  \u001b[32m  0.011950\u001b[0m  |     1.112948  |             |  8.3s"
       ]
      },
      {
       "output_type": "stream",
       "stream": "stdout",
       "text": [
        "\n",
        "   396  |  \u001b[94m  0.013260\u001b[0m  |  \u001b[32m  0.011942\u001b[0m  |     1.110402  |             |  8.3s"
       ]
      },
      {
       "output_type": "stream",
       "stream": "stdout",
       "text": [
        "\n",
        "   397  |    0.013265  |    0.012002  |     1.105282  |             |  8.3s"
       ]
      },
      {
       "output_type": "stream",
       "stream": "stdout",
       "text": [
        "\n",
        "   398  |  \u001b[94m  0.013221\u001b[0m  |  \u001b[32m  0.011907\u001b[0m  |     1.110392  |             |  8.3s"
       ]
      },
      {
       "output_type": "stream",
       "stream": "stdout",
       "text": [
        "\n",
        "   399  |    0.013221  |    0.011930  |     1.108175  |             |  8.4s"
       ]
      },
      {
       "output_type": "stream",
       "stream": "stdout",
       "text": [
        "\n",
        "   400  |    0.013258  |    0.011965  |     1.108107  |             |  8.4s"
       ]
      },
      {
       "output_type": "stream",
       "stream": "stdout",
       "text": [
        "\n",
        "   401  |  \u001b[94m  0.013218\u001b[0m  |    0.011943  |     1.106748  |             |  8.4s"
       ]
      },
      {
       "output_type": "stream",
       "stream": "stdout",
       "text": [
        "\n",
        "   402  |  \u001b[94m  0.013175\u001b[0m  |  \u001b[32m  0.011888\u001b[0m  |     1.108216  |             |  8.4s"
       ]
      },
      {
       "output_type": "stream",
       "stream": "stdout",
       "text": [
        "\n",
        "   403  |    0.013217  |  \u001b[32m  0.011879\u001b[0m  |     1.112689  |             |  8.4s"
       ]
      },
      {
       "output_type": "stream",
       "stream": "stdout",
       "text": [
        "\n",
        "   404  |  \u001b[94m  0.013165\u001b[0m  |    0.011881  |     1.108000  |             |  8.4s"
       ]
      },
      {
       "output_type": "stream",
       "stream": "stdout",
       "text": [
        "\n",
        "   405  |  \u001b[94m  0.013120\u001b[0m  |    0.011889  |     1.103582  |             |  8.4s"
       ]
      },
      {
       "output_type": "stream",
       "stream": "stdout",
       "text": [
        "\n",
        "   406  |    0.013127  |  \u001b[32m  0.011835\u001b[0m  |     1.109177  |             |  8.4s"
       ]
      },
      {
       "output_type": "stream",
       "stream": "stdout",
       "text": [
        "\n",
        "   407  |  \u001b[94m  0.013096\u001b[0m  |  \u001b[32m  0.011809\u001b[0m  |     1.109002  |             |  8.3s"
       ]
      },
      {
       "output_type": "stream",
       "stream": "stdout",
       "text": [
        "\n",
        "   408  |  \u001b[94m  0.013085\u001b[0m  |    0.011839  |     1.105319  |             |  8.4s"
       ]
      },
      {
       "output_type": "stream",
       "stream": "stdout",
       "text": [
        "\n",
        "   409  |  \u001b[94m  0.013069\u001b[0m  |    0.011861  |     1.101839  |             |  8.4s"
       ]
      },
      {
       "output_type": "stream",
       "stream": "stdout",
       "text": [
        "\n",
        "   410  |  \u001b[94m  0.013055\u001b[0m  |    0.011855  |     1.101233  |             |  8.4s"
       ]
      },
      {
       "output_type": "stream",
       "stream": "stdout",
       "text": [
        "\n",
        "   411  |  \u001b[94m  0.013041\u001b[0m  |    0.011912  |     1.094699  |             |  8.4s"
       ]
      },
      {
       "output_type": "stream",
       "stream": "stdout",
       "text": [
        "\n",
        "   412  |  \u001b[94m  0.013013\u001b[0m  |  \u001b[32m  0.011713\u001b[0m  |     1.110934  |             |  8.3s"
       ]
      },
      {
       "output_type": "stream",
       "stream": "stdout",
       "text": [
        "\n",
        "   413  |    0.013029  |    0.011746  |     1.109243  |             |  8.4s"
       ]
      },
      {
       "output_type": "stream",
       "stream": "stdout",
       "text": [
        "\n",
        "   414  |  \u001b[94m  0.013001\u001b[0m  |    0.011746  |     1.106819  |             |  8.3s"
       ]
      },
      {
       "output_type": "stream",
       "stream": "stdout",
       "text": [
        "\n",
        "   415  |    0.013064  |    0.011734  |     1.113277  |             |  8.3s"
       ]
      },
      {
       "output_type": "stream",
       "stream": "stdout",
       "text": [
        "\n",
        "   416  |  \u001b[94m  0.012951\u001b[0m  |    0.011864  |     1.091594  |             |  8.3s"
       ]
      },
      {
       "output_type": "stream",
       "stream": "stdout",
       "text": [
        "\n",
        "   417  |    0.012984  |    0.011749  |     1.105106  |             |  8.3s"
       ]
      },
      {
       "output_type": "stream",
       "stream": "stdout",
       "text": [
        "\n",
        "   418  |    0.012963  |    0.011726  |     1.105488  |             |  8.3s"
       ]
      },
      {
       "output_type": "stream",
       "stream": "stdout",
       "text": [
        "\n",
        "   419  |  \u001b[94m  0.012928\u001b[0m  |  \u001b[32m  0.011703\u001b[0m  |     1.104664  |             |  8.3s"
       ]
      },
      {
       "output_type": "stream",
       "stream": "stdout",
       "text": [
        "\n",
        "   420  |  \u001b[94m  0.012870\u001b[0m  |  \u001b[32m  0.011622\u001b[0m  |     1.107301  |             |  8.4s"
       ]
      },
      {
       "output_type": "stream",
       "stream": "stdout",
       "text": [
        "\n",
        "   421  |  \u001b[94m  0.012869\u001b[0m  |  \u001b[32m  0.011619\u001b[0m  |     1.107610  |             |  8.3s"
       ]
      },
      {
       "output_type": "stream",
       "stream": "stdout",
       "text": [
        "\n",
        "   422  |    0.012920  |    0.011659  |     1.108179  |             |  8.3s"
       ]
      },
      {
       "output_type": "stream",
       "stream": "stdout",
       "text": [
        "\n",
        "   423  |    0.012912  |  \u001b[32m  0.011595\u001b[0m  |     1.113501  |             |  8.3s"
       ]
      },
      {
       "output_type": "stream",
       "stream": "stdout",
       "text": [
        "\n",
        "   424  |    0.012891  |    0.011638  |     1.107733  |             |  8.3s"
       ]
      },
      {
       "output_type": "stream",
       "stream": "stdout",
       "text": [
        "\n",
        "   425  |  \u001b[94m  0.012805\u001b[0m  |    0.011610  |     1.102897  |             |  8.3s"
       ]
      },
      {
       "output_type": "stream",
       "stream": "stdout",
       "text": [
        "\n",
        "   426  |    0.012829  |  \u001b[32m  0.011567\u001b[0m  |     1.109124  |             |  8.4s"
       ]
      },
      {
       "output_type": "stream",
       "stream": "stdout",
       "text": [
        "\n",
        "   427  |    0.012857  |    0.011605  |     1.107861  |             |  8.4s"
       ]
      },
      {
       "output_type": "stream",
       "stream": "stdout",
       "text": [
        "\n",
        "   428  |    0.012840  |    0.011612  |     1.105794  |             |  8.4s"
       ]
      },
      {
       "output_type": "stream",
       "stream": "stdout",
       "text": [
        "\n",
        "   429  |    0.012841  |    0.011616  |     1.105503  |             |  8.4s"
       ]
      },
      {
       "output_type": "stream",
       "stream": "stdout",
       "text": [
        "\n",
        "   430  |  \u001b[94m  0.012796\u001b[0m  |  \u001b[32m  0.011529\u001b[0m  |     1.109923  |             |  8.4s"
       ]
      },
      {
       "output_type": "stream",
       "stream": "stdout",
       "text": [
        "\n",
        "   431  |  \u001b[94m  0.012775\u001b[0m  |  \u001b[32m  0.011474\u001b[0m  |     1.113410  |             |  8.4s"
       ]
      },
      {
       "output_type": "stream",
       "stream": "stdout",
       "text": [
        "\n",
        "   432  |    0.012779  |    0.011569  |     1.104583  |             |  8.3s"
       ]
      },
      {
       "output_type": "stream",
       "stream": "stdout",
       "text": [
        "\n",
        "   433  |  \u001b[94m  0.012759\u001b[0m  |  \u001b[32m  0.011461\u001b[0m  |     1.113188  |             |  8.3s"
       ]
      },
      {
       "output_type": "stream",
       "stream": "stdout",
       "text": [
        "\n",
        "   434  |  \u001b[94m  0.012746\u001b[0m  |    0.011486  |     1.109678  |             |  8.3s"
       ]
      },
      {
       "output_type": "stream",
       "stream": "stdout",
       "text": [
        "\n",
        "   435  |    0.012772  |    0.011574  |     1.103572  |             |  8.3s"
       ]
      },
      {
       "output_type": "stream",
       "stream": "stdout",
       "text": [
        "\n",
        "   436  |  \u001b[94m  0.012710\u001b[0m  |  \u001b[32m  0.011418\u001b[0m  |     1.113155  |             |  8.3s"
       ]
      },
      {
       "output_type": "stream",
       "stream": "stdout",
       "text": [
        "\n",
        "   437  |    0.012731  |    0.011454  |     1.111451  |             |  8.3s"
       ]
      },
      {
       "output_type": "stream",
       "stream": "stdout",
       "text": [
        "\n",
        "   438  |  \u001b[94m  0.012697\u001b[0m  |  \u001b[32m  0.011381\u001b[0m  |     1.115628  |             |  8.3s"
       ]
      },
      {
       "output_type": "stream",
       "stream": "stdout",
       "text": [
        "\n",
        "   439  |  \u001b[94m  0.012696\u001b[0m  |    0.011491  |     1.104910  |             |  8.3s"
       ]
      },
      {
       "output_type": "stream",
       "stream": "stdout",
       "text": [
        "\n",
        "   440  |  \u001b[94m  0.012634\u001b[0m  |    0.011386  |     1.109548  |             |  8.3s"
       ]
      },
      {
       "output_type": "stream",
       "stream": "stdout",
       "text": [
        "\n",
        "   441  |  \u001b[94m  0.012634\u001b[0m  |    0.011470  |     1.101429  |             |  8.3s"
       ]
      },
      {
       "output_type": "stream",
       "stream": "stdout",
       "text": [
        "\n",
        "   442  |    0.012640  |  \u001b[32m  0.011346\u001b[0m  |     1.114022  |             |  8.3s"
       ]
      },
      {
       "output_type": "stream",
       "stream": "stdout",
       "text": [
        "\n",
        "   443  |  \u001b[94m  0.012551\u001b[0m  |    0.011401  |     1.100924  |             |  8.3s"
       ]
      },
      {
       "output_type": "stream",
       "stream": "stdout",
       "text": [
        "\n",
        "   444  |    0.012627  |    0.011394  |     1.108227  |             |  8.3s"
       ]
      },
      {
       "output_type": "stream",
       "stream": "stdout",
       "text": [
        "\n",
        "   445  |    0.012607  |    0.011428  |     1.103121  |             |  8.3s"
       ]
      },
      {
       "output_type": "stream",
       "stream": "stdout",
       "text": [
        "\n",
        "   446  |    0.012573  |    0.011376  |     1.105251  |             |  8.4s"
       ]
      },
      {
       "output_type": "stream",
       "stream": "stdout",
       "text": [
        "\n",
        "   447  |    0.012571  |    0.011388  |     1.103891  |             |  8.4s"
       ]
      },
      {
       "output_type": "stream",
       "stream": "stdout",
       "text": [
        "\n",
        "   448  |    0.012556  |  \u001b[32m  0.011292\u001b[0m  |     1.111959  |             |  8.4s"
       ]
      },
      {
       "output_type": "stream",
       "stream": "stdout",
       "text": [
        "\n",
        "   449  |  \u001b[94m  0.012521\u001b[0m  |  \u001b[32m  0.011284\u001b[0m  |     1.109623  |             |  8.3s"
       ]
      },
      {
       "output_type": "stream",
       "stream": "stdout",
       "text": [
        "\n",
        "   450  |    0.012536  |    0.011291  |     1.110253  |             |  8.3s"
       ]
      },
      {
       "output_type": "stream",
       "stream": "stdout",
       "text": [
        "\n",
        "   451  |    0.012522  |    0.011341  |     1.104084  |             |  8.2s"
       ]
      },
      {
       "output_type": "stream",
       "stream": "stdout",
       "text": [
        "\n",
        "   452  |  \u001b[94m  0.012477\u001b[0m  |    0.011330  |     1.101232  |             |  8.2s"
       ]
      },
      {
       "output_type": "stream",
       "stream": "stdout",
       "text": [
        "\n",
        "   453  |  \u001b[94m  0.012460\u001b[0m  |  \u001b[32m  0.011203\u001b[0m  |     1.112191  |             |  8.2s"
       ]
      },
      {
       "output_type": "stream",
       "stream": "stdout",
       "text": [
        "\n",
        "   454  |  \u001b[94m  0.012435\u001b[0m  |    0.011260  |     1.104412  |             |  8.2s"
       ]
      },
      {
       "output_type": "stream",
       "stream": "stdout",
       "text": [
        "\n",
        "   455  |    0.012450  |    0.011322  |     1.099639  |             |  8.2s"
       ]
      },
      {
       "output_type": "stream",
       "stream": "stdout",
       "text": [
        "\n",
        "   456  |    0.012493  |    0.011232  |     1.112272  |             |  8.2s"
       ]
      },
      {
       "output_type": "stream",
       "stream": "stdout",
       "text": [
        "\n",
        "   457  |    0.012444  |  \u001b[32m  0.011155\u001b[0m  |     1.115589  |             |  8.2s"
       ]
      },
      {
       "output_type": "stream",
       "stream": "stdout",
       "text": [
        "\n",
        "   458  |  \u001b[94m  0.012423\u001b[0m  |    0.011200  |     1.109158  |             |  8.2s"
       ]
      },
      {
       "output_type": "stream",
       "stream": "stdout",
       "text": [
        "\n",
        "   459  |    0.012429  |    0.011238  |     1.106040  |             |  8.2s"
       ]
      },
      {
       "output_type": "stream",
       "stream": "stdout",
       "text": [
        "\n",
        "   460  |  \u001b[94m  0.012397\u001b[0m  |  \u001b[32m  0.011135\u001b[0m  |     1.113344  |             |  8.2s"
       ]
      },
      {
       "output_type": "stream",
       "stream": "stdout",
       "text": [
        "\n",
        "   461  |    0.012451  |  \u001b[32m  0.011121\u001b[0m  |     1.119608  |             |  8.3s"
       ]
      },
      {
       "output_type": "stream",
       "stream": "stdout",
       "text": [
        "\n",
        "   462  |  \u001b[94m  0.012321\u001b[0m  |  \u001b[32m  0.011121\u001b[0m  |     1.107916  |             |  8.2s"
       ]
      },
      {
       "output_type": "stream",
       "stream": "stdout",
       "text": [
        "\n",
        "   463  |    0.012412  |    0.011146  |     1.113548  |             |  8.2s"
       ]
      },
      {
       "output_type": "stream",
       "stream": "stdout",
       "text": [
        "\n",
        "   464  |    0.012329  |  \u001b[32m  0.011075\u001b[0m  |     1.113303  |             |  8.2s"
       ]
      },
      {
       "output_type": "stream",
       "stream": "stdout",
       "text": [
        "\n",
        "   465  |    0.012337  |    0.011120  |     1.109422  |             |  8.2s"
       ]
      },
      {
       "output_type": "stream",
       "stream": "stdout",
       "text": [
        "\n",
        "   466  |    0.012359  |    0.011099  |     1.113521  |             |  8.2s"
       ]
      },
      {
       "output_type": "stream",
       "stream": "stdout",
       "text": [
        "\n",
        "   467  |  \u001b[94m  0.012305\u001b[0m  |    0.011091  |     1.109436  |             |  8.2s"
       ]
      },
      {
       "output_type": "stream",
       "stream": "stdout",
       "text": [
        "\n",
        "   468  |  \u001b[94m  0.012300\u001b[0m  |    0.011086  |     1.109496  |             |  8.2s"
       ]
      },
      {
       "output_type": "stream",
       "stream": "stdout",
       "text": [
        "\n",
        "   469  |  \u001b[94m  0.012290\u001b[0m  |  \u001b[32m  0.011042\u001b[0m  |     1.112988  |             |  8.2s"
       ]
      },
      {
       "output_type": "stream",
       "stream": "stdout",
       "text": [
        "\n",
        "   470  |    0.012350  |    0.011078  |     1.114851  |             |  8.2s"
       ]
      },
      {
       "output_type": "stream",
       "stream": "stdout",
       "text": [
        "\n",
        "   471  |  \u001b[94m  0.012196\u001b[0m  |    0.011072  |     1.101535  |             |  8.2s"
       ]
      },
      {
       "output_type": "stream",
       "stream": "stdout",
       "text": [
        "\n",
        "   472  |    0.012293  |  \u001b[32m  0.011014\u001b[0m  |     1.116166  |             |  8.2s"
       ]
      },
      {
       "output_type": "stream",
       "stream": "stdout",
       "text": [
        "\n",
        "   473  |    0.012217  |    0.011058  |     1.104796  |             |  8.2s"
       ]
      },
      {
       "output_type": "stream",
       "stream": "stdout",
       "text": [
        "\n",
        "   474  |    0.012272  |    0.011043  |     1.111317  |             |  8.2s"
       ]
      },
      {
       "output_type": "stream",
       "stream": "stdout",
       "text": [
        "\n",
        "   475  |    0.012267  |    0.011079  |     1.107218  |             |  8.3s"
       ]
      },
      {
       "output_type": "stream",
       "stream": "stdout",
       "text": [
        "\n",
        "   476  |    0.012204  |  \u001b[32m  0.011005\u001b[0m  |     1.108959  |             |  8.3s"
       ]
      },
      {
       "output_type": "stream",
       "stream": "stdout",
       "text": [
        "\n",
        "   477  |    0.012229  |  \u001b[32m  0.010992\u001b[0m  |     1.112526  |             |  8.3s"
       ]
      },
      {
       "output_type": "stream",
       "stream": "stdout",
       "text": [
        "\n",
        "   478  |    0.012198  |    0.011015  |     1.107417  |             |  8.3s"
       ]
      },
      {
       "output_type": "stream",
       "stream": "stdout",
       "text": [
        "\n",
        "   479  |  \u001b[94m  0.012130\u001b[0m  |  \u001b[32m  0.010950\u001b[0m  |     1.107836  |             |  8.3s"
       ]
      },
      {
       "output_type": "stream",
       "stream": "stdout",
       "text": [
        "\n",
        "   480  |    0.012147  |    0.010997  |     1.104592  |             |  8.4s"
       ]
      },
      {
       "output_type": "stream",
       "stream": "stdout",
       "text": [
        "\n",
        "   481  |    0.012150  |  \u001b[32m  0.010911\u001b[0m  |     1.113484  |             |  8.3s"
       ]
      },
      {
       "output_type": "stream",
       "stream": "stdout",
       "text": [
        "\n",
        "   482  |  \u001b[94m  0.012124\u001b[0m  |    0.010956  |     1.106620  |             |  8.4s"
       ]
      },
      {
       "output_type": "stream",
       "stream": "stdout",
       "text": [
        "\n",
        "   483  |    0.012138  |    0.010912  |     1.112340  |             |  8.2s"
       ]
      },
      {
       "output_type": "stream",
       "stream": "stdout",
       "text": [
        "\n",
        "   484  |  \u001b[94m  0.012067\u001b[0m  |    0.010921  |     1.104949  |             |  8.2s"
       ]
      },
      {
       "output_type": "stream",
       "stream": "stdout",
       "text": [
        "\n",
        "   485  |    0.012107  |  \u001b[32m  0.010864\u001b[0m  |     1.114446  |             |  8.2s"
       ]
      },
      {
       "output_type": "stream",
       "stream": "stdout",
       "text": [
        "\n",
        "   486  |  \u001b[94m  0.012059\u001b[0m  |    0.010917  |     1.104582  |             |  8.2s"
       ]
      },
      {
       "output_type": "stream",
       "stream": "stdout",
       "text": [
        "\n",
        "   487  |    0.012175  |    0.010866  |     1.120415  |             |  8.2s"
       ]
      },
      {
       "output_type": "stream",
       "stream": "stdout",
       "text": [
        "\n",
        "   488  |    0.012104  |    0.010867  |     1.113825  |             |  8.3s"
       ]
      },
      {
       "output_type": "stream",
       "stream": "stdout",
       "text": [
        "\n",
        "   489  |  \u001b[94m  0.012052\u001b[0m  |    0.010904  |     1.105368  |             |  8.3s"
       ]
      },
      {
       "output_type": "stream",
       "stream": "stdout",
       "text": [
        "\n",
        "   490  |  \u001b[94m  0.011972\u001b[0m  |  \u001b[32m  0.010845\u001b[0m  |     1.103927  |             |  8.3s"
       ]
      },
      {
       "output_type": "stream",
       "stream": "stdout",
       "text": [
        "\n",
        "   491  |    0.012042  |  \u001b[32m  0.010838\u001b[0m  |     1.111111  |             |  8.2s"
       ]
      },
      {
       "output_type": "stream",
       "stream": "stdout",
       "text": [
        "\n",
        "   492  |    0.011999  |    0.011013  |     1.089482  |             |  8.2s"
       ]
      },
      {
       "output_type": "stream",
       "stream": "stdout",
       "text": [
        "\n",
        "   493  |    0.012048  |  \u001b[32m  0.010821\u001b[0m  |     1.113327  |             |  8.2s"
       ]
      },
      {
       "output_type": "stream",
       "stream": "stdout",
       "text": [
        "\n",
        "   494  |  \u001b[94m  0.011968\u001b[0m  |  \u001b[32m  0.010766\u001b[0m  |     1.111582  |             |  8.2s"
       ]
      },
      {
       "output_type": "stream",
       "stream": "stdout",
       "text": [
        "\n",
        "   495  |    0.011988  |    0.010782  |     1.111896  |             |  8.2s"
       ]
      },
      {
       "output_type": "stream",
       "stream": "stdout",
       "text": [
        "\n",
        "   496  |  \u001b[94m  0.011935\u001b[0m  |  \u001b[32m  0.010734\u001b[0m  |     1.111845  |             |  8.3s"
       ]
      },
      {
       "output_type": "stream",
       "stream": "stdout",
       "text": [
        "\n",
        "   497  |    0.011985  |    0.010793  |     1.110429  |             |  8.3s"
       ]
      },
      {
       "output_type": "stream",
       "stream": "stdout",
       "text": [
        "\n",
        "   498  |    0.011936  |    0.010793  |     1.105909  |             |  8.3s"
       ]
      },
      {
       "output_type": "stream",
       "stream": "stdout",
       "text": [
        "\n",
        "   499  |  \u001b[94m  0.011915\u001b[0m  |    0.010770  |     1.106327  |             |  8.3s"
       ]
      },
      {
       "output_type": "stream",
       "stream": "stdout",
       "text": [
        "\n",
        "   500  |    0.011932  |    0.010769  |     1.107977  |             |  8.3s"
       ]
      },
      {
       "output_type": "stream",
       "stream": "stdout",
       "text": [
        "\n",
        "   501  |    0.011920  |  \u001b[32m  0.010639\u001b[0m  |     1.120332  |             |  8.2s"
       ]
      },
      {
       "output_type": "stream",
       "stream": "stdout",
       "text": [
        "\n",
        "   502  |  \u001b[94m  0.011823\u001b[0m  |    0.010686  |     1.106370  |             |  8.2s"
       ]
      },
      {
       "output_type": "stream",
       "stream": "stdout",
       "text": [
        "\n",
        "   503  |    0.011934  |  \u001b[32m  0.010616\u001b[0m  |     1.124197  |             |  8.2s"
       ]
      },
      {
       "output_type": "stream",
       "stream": "stdout",
       "text": [
        "\n",
        "   504  |    0.011872  |    0.010707  |     1.108834  |             |  8.3s"
       ]
      },
      {
       "output_type": "stream",
       "stream": "stdout",
       "text": [
        "\n",
        "   505  |  \u001b[94m  0.011804\u001b[0m  |    0.010728  |     1.100291  |             |  8.4s"
       ]
      },
      {
       "output_type": "stream",
       "stream": "stdout",
       "text": [
        "\n",
        "   506  |    0.011909  |    0.010727  |     1.110240  |             |  8.4s"
       ]
      },
      {
       "output_type": "stream",
       "stream": "stdout",
       "text": [
        "\n",
        "   507  |    0.011830  |    0.010811  |     1.094237  |             |  8.4s"
       ]
      },
      {
       "output_type": "stream",
       "stream": "stdout",
       "text": [
        "\n",
        "   508  |    0.011868  |  \u001b[32m  0.010595\u001b[0m  |     1.120188  |             |  8.4s"
       ]
      },
      {
       "output_type": "stream",
       "stream": "stdout",
       "text": [
        "\n",
        "   509  |  \u001b[94m  0.011783\u001b[0m  |    0.010672  |     1.104147  |             |  8.4s"
       ]
      },
      {
       "output_type": "stream",
       "stream": "stdout",
       "text": [
        "\n",
        "   510  |    0.011817  |  \u001b[32m  0.010593\u001b[0m  |     1.115552  |             |  8.3s"
       ]
      },
      {
       "output_type": "stream",
       "stream": "stdout",
       "text": [
        "\n",
        "   511  |  \u001b[94m  0.011700\u001b[0m  |  \u001b[32m  0.010589\u001b[0m  |     1.104891  |             |  8.3s"
       ]
      },
      {
       "output_type": "stream",
       "stream": "stdout",
       "text": [
        "\n",
        "   512  |    0.011752  |    0.010624  |     1.106231  |             |  8.3s"
       ]
      },
      {
       "output_type": "stream",
       "stream": "stdout",
       "text": [
        "\n",
        "   513  |    0.011744  |    0.010646  |     1.103118  |             |  8.3s"
       ]
      },
      {
       "output_type": "stream",
       "stream": "stdout",
       "text": [
        "\n",
        "   514  |    0.011756  |    0.010611  |     1.107965  |             |  8.4s"
       ]
      },
      {
       "output_type": "stream",
       "stream": "stdout",
       "text": [
        "\n",
        "   515  |    0.011755  |  \u001b[32m  0.010562\u001b[0m  |     1.112924  |             |  8.4s"
       ]
      },
      {
       "output_type": "stream",
       "stream": "stdout",
       "text": [
        "\n",
        "   516  |    0.011754  |    0.010576  |     1.111419  |             |  8.4s"
       ]
      },
      {
       "output_type": "stream",
       "stream": "stdout",
       "text": [
        "\n",
        "   517  |    0.011726  |  \u001b[32m  0.010554\u001b[0m  |     1.111046  |             |  8.4s"
       ]
      },
      {
       "output_type": "stream",
       "stream": "stdout",
       "text": [
        "\n",
        "   518  |    0.011715  |  \u001b[32m  0.010545\u001b[0m  |     1.111000  |             |  8.3s"
       ]
      },
      {
       "output_type": "stream",
       "stream": "stdout",
       "text": [
        "\n",
        "   519  |    0.011702  |    0.010545  |     1.109705  |             |  8.3s"
       ]
      },
      {
       "output_type": "stream",
       "stream": "stdout",
       "text": [
        "\n",
        "   520  |  \u001b[94m  0.011635\u001b[0m  |    0.010550  |     1.102820  |             |  8.3s"
       ]
      },
      {
       "output_type": "stream",
       "stream": "stdout",
       "text": [
        "\n",
        "   521  |    0.011715  |  \u001b[32m  0.010478\u001b[0m  |     1.118082  |             |  8.4s"
       ]
      },
      {
       "output_type": "stream",
       "stream": "stdout",
       "text": [
        "\n",
        "   522  |    0.011701  |    0.010504  |     1.113959  |             |  8.4s"
       ]
      },
      {
       "output_type": "stream",
       "stream": "stdout",
       "text": [
        "\n",
        "   523  |    0.011681  |  \u001b[32m  0.010471\u001b[0m  |     1.115579  |             |  8.4s"
       ]
      },
      {
       "output_type": "stream",
       "stream": "stdout",
       "text": [
        "\n",
        "   524  |    0.011652  |    0.010506  |     1.109132  |             |  8.3s"
       ]
      },
      {
       "output_type": "stream",
       "stream": "stdout",
       "text": [
        "\n",
        "   525  |  \u001b[94m  0.011615\u001b[0m  |  \u001b[32m  0.010430\u001b[0m  |     1.113581  |             |  8.3s"
       ]
      },
      {
       "output_type": "stream",
       "stream": "stdout",
       "text": [
        "\n",
        "   526  |    0.011619  |    0.010496  |     1.107059  |             |  8.3s"
       ]
      },
      {
       "output_type": "stream",
       "stream": "stdout",
       "text": [
        "\n",
        "   527  |  \u001b[94m  0.011564\u001b[0m  |    0.010470  |     1.104480  |             |  8.2s"
       ]
      },
      {
       "output_type": "stream",
       "stream": "stdout",
       "text": [
        "\n",
        "   528  |    0.011668  |    0.010468  |     1.114640  |             |  8.3s"
       ]
      },
      {
       "output_type": "stream",
       "stream": "stdout",
       "text": [
        "\n",
        "   529  |    0.011663  |    0.010521  |     1.108535  |             |  8.2s"
       ]
      },
      {
       "output_type": "stream",
       "stream": "stdout",
       "text": [
        "\n",
        "   530  |  \u001b[94m  0.011555\u001b[0m  |  \u001b[32m  0.010410\u001b[0m  |     1.109953  |             |  8.2s"
       ]
      },
      {
       "output_type": "stream",
       "stream": "stdout",
       "text": [
        "\n",
        "   531  |    0.011587  |    0.010461  |     1.107564  |             |  8.2s"
       ]
      },
      {
       "output_type": "stream",
       "stream": "stdout",
       "text": [
        "\n",
        "   532  |    0.011573  |    0.010469  |     1.105361  |             |  8.2s"
       ]
      },
      {
       "output_type": "stream",
       "stream": "stdout",
       "text": [
        "\n",
        "   533  |  \u001b[94m  0.011530\u001b[0m  |    0.010413  |     1.107295  |             |  8.2s"
       ]
      },
      {
       "output_type": "stream",
       "stream": "stdout",
       "text": [
        "\n",
        "   534  |  \u001b[94m  0.011499\u001b[0m  |  \u001b[32m  0.010354\u001b[0m  |     1.110594  |             |  8.3s"
       ]
      },
      {
       "output_type": "stream",
       "stream": "stdout",
       "text": [
        "\n",
        "   535  |    0.011510  |  \u001b[32m  0.010337\u001b[0m  |     1.113455  |             |  8.3s"
       ]
      },
      {
       "output_type": "stream",
       "stream": "stdout",
       "text": [
        "\n",
        "   536  |    0.011528  |    0.010341  |     1.114702  |             |  8.2s"
       ]
      },
      {
       "output_type": "stream",
       "stream": "stdout",
       "text": [
        "\n",
        "   537  |    0.011513  |    0.010450  |     1.101758  |             |  8.2s"
       ]
      },
      {
       "output_type": "stream",
       "stream": "stdout",
       "text": [
        "\n",
        "   538  |    0.011528  |  \u001b[32m  0.010331\u001b[0m  |     1.115885  |             |  8.2s"
       ]
      },
      {
       "output_type": "stream",
       "stream": "stdout",
       "text": [
        "\n",
        "   539  |  \u001b[94m  0.011437\u001b[0m  |  \u001b[32m  0.010311\u001b[0m  |     1.109207  |             |  8.2s"
       ]
      },
      {
       "output_type": "stream",
       "stream": "stdout",
       "text": [
        "\n",
        "   540  |    0.011484  |    0.010359  |     1.108603  |             |  8.2s"
       ]
      },
      {
       "output_type": "stream",
       "stream": "stdout",
       "text": [
        "\n",
        "   541  |    0.011513  |    0.010333  |     1.114270  |             |  8.2s"
       ]
      },
      {
       "output_type": "stream",
       "stream": "stdout",
       "text": [
        "\n",
        "   542  |    0.011535  |    0.010321  |     1.117659  |             |  8.2s"
       ]
      },
      {
       "output_type": "stream",
       "stream": "stdout",
       "text": [
        "\n",
        "   543  |  \u001b[94m  0.011432\u001b[0m  |    0.010361  |     1.103362  |             |  8.2s"
       ]
      },
      {
       "output_type": "stream",
       "stream": "stdout",
       "text": [
        "\n",
        "   544  |    0.011441  |  \u001b[32m  0.010292\u001b[0m  |     1.111605  |             |  8.2s"
       ]
      },
      {
       "output_type": "stream",
       "stream": "stdout",
       "text": [
        "\n",
        "   545  |  \u001b[94m  0.011395\u001b[0m  |  \u001b[32m  0.010265\u001b[0m  |     1.110023  |             |  8.2s"
       ]
      },
      {
       "output_type": "stream",
       "stream": "stdout",
       "text": [
        "\n",
        "   546  |    0.011401  |    0.010356  |     1.100954  |             |  8.2s"
       ]
      },
      {
       "output_type": "stream",
       "stream": "stdout",
       "text": [
        "\n",
        "   547  |  \u001b[94m  0.011387\u001b[0m  |    0.010267  |     1.109091  |             |  8.2s"
       ]
      },
      {
       "output_type": "stream",
       "stream": "stdout",
       "text": [
        "\n",
        "   548  |    0.011391  |  \u001b[32m  0.010238\u001b[0m  |     1.112696  |             |  8.3s"
       ]
      },
      {
       "output_type": "stream",
       "stream": "stdout",
       "text": [
        "\n",
        "   549  |  \u001b[94m  0.011325\u001b[0m  |  \u001b[32m  0.010172\u001b[0m  |     1.113309  |             |  8.3s"
       ]
      },
      {
       "output_type": "stream",
       "stream": "stdout",
       "text": [
        "\n",
        "   550  |    0.011374  |    0.010257  |     1.108988  |             |  8.3s"
       ]
      },
      {
       "output_type": "stream",
       "stream": "stdout",
       "text": [
        "\n",
        "   551  |    0.011377  |    0.010174  |     1.118165  |             |  8.3s"
       ]
      },
      {
       "output_type": "stream",
       "stream": "stdout",
       "text": [
        "\n",
        "   552  |  \u001b[94m  0.011287\u001b[0m  |    0.010258  |     1.100327  |             |  8.4s"
       ]
      },
      {
       "output_type": "stream",
       "stream": "stdout",
       "text": [
        "\n",
        "   553  |    0.011294  |    0.010197  |     1.107551  |             |  8.4s"
       ]
      },
      {
       "output_type": "stream",
       "stream": "stdout",
       "text": [
        "\n",
        "   554  |    0.011321  |    0.010241  |     1.105420  |             |  8.3s"
       ]
      },
      {
       "output_type": "stream",
       "stream": "stdout",
       "text": [
        "\n",
        "   555  |    0.011304  |    0.010183  |     1.110033  |             |  8.4s"
       ]
      },
      {
       "output_type": "stream",
       "stream": "stdout",
       "text": [
        "\n",
        "   556  |  \u001b[94m  0.011252\u001b[0m  |  \u001b[32m  0.010136\u001b[0m  |     1.110084  |             |  8.4s"
       ]
      },
      {
       "output_type": "stream",
       "stream": "stdout",
       "text": [
        "\n",
        "   557  |  \u001b[94m  0.011230\u001b[0m  |    0.010181  |     1.103055  |             |  8.4s"
       ]
      },
      {
       "output_type": "stream",
       "stream": "stdout",
       "text": [
        "\n",
        "   558  |    0.011327  |    0.010160  |     1.114882  |             |  8.4s"
       ]
      },
      {
       "output_type": "stream",
       "stream": "stdout",
       "text": [
        "\n",
        "   559  |    0.011255  |  \u001b[32m  0.010108\u001b[0m  |     1.113466  |             |  8.4s"
       ]
      },
      {
       "output_type": "stream",
       "stream": "stdout",
       "text": [
        "\n",
        "   560  |    0.011279  |    0.010129  |     1.113519  |             |  8.4s"
       ]
      },
      {
       "output_type": "stream",
       "stream": "stdout",
       "text": [
        "\n",
        "   561  |  \u001b[94m  0.011217\u001b[0m  |    0.010193  |     1.100443  |             |  8.4s"
       ]
      },
      {
       "output_type": "stream",
       "stream": "stdout",
       "text": [
        "\n",
        "   562  |  \u001b[94m  0.011181\u001b[0m  |    0.010171  |     1.099346  |             |  8.4s"
       ]
      },
      {
       "output_type": "stream",
       "stream": "stdout",
       "text": [
        "\n",
        "   563  |    0.011200  |  \u001b[32m  0.010083\u001b[0m  |     1.110849  |             |  8.4s"
       ]
      },
      {
       "output_type": "stream",
       "stream": "stdout",
       "text": [
        "\n",
        "   564  |  \u001b[94m  0.011151\u001b[0m  |    0.010161  |     1.097455  |             |  8.4s"
       ]
      },
      {
       "output_type": "stream",
       "stream": "stdout",
       "text": [
        "\n",
        "   565  |  \u001b[94m  0.011128\u001b[0m  |    0.010103  |     1.101454  |             |  8.4s"
       ]
      },
      {
       "output_type": "stream",
       "stream": "stdout",
       "text": [
        "\n",
        "   566  |    0.011188  |  \u001b[32m  0.010065\u001b[0m  |     1.111564  |             |  8.4s"
       ]
      },
      {
       "output_type": "stream",
       "stream": "stdout",
       "text": [
        "\n",
        "   567  |    0.011194  |    0.010118  |     1.106413  |             |  8.4s"
       ]
      },
      {
       "output_type": "stream",
       "stream": "stdout",
       "text": [
        "\n",
        "   568  |    0.011184  |    0.010104  |     1.106875  |             |  8.4s"
       ]
      },
      {
       "output_type": "stream",
       "stream": "stdout",
       "text": [
        "\n",
        "   569  |    0.011135  |  \u001b[32m  0.010033\u001b[0m  |     1.109851  |             |  8.4s"
       ]
      },
      {
       "output_type": "stream",
       "stream": "stdout",
       "text": [
        "\n",
        "   570  |  \u001b[94m  0.011105\u001b[0m  |    0.010076  |     1.102207  |             |  8.4s"
       ]
      },
      {
       "output_type": "stream",
       "stream": "stdout",
       "text": [
        "\n",
        "   571  |    0.011122  |    0.010081  |     1.103300  |             |  8.4s"
       ]
      },
      {
       "output_type": "stream",
       "stream": "stdout",
       "text": [
        "\n",
        "   572  |  \u001b[94m  0.011099\u001b[0m  |    0.010100  |     1.098916  |             |  8.3s"
       ]
      },
      {
       "output_type": "stream",
       "stream": "stdout",
       "text": [
        "\n",
        "   573  |    0.011124  |  \u001b[32m  0.010010\u001b[0m  |     1.111238  |             |  8.4s"
       ]
      },
      {
       "output_type": "stream",
       "stream": "stdout",
       "text": [
        "\n",
        "   574  |    0.011122  |    0.010045  |     1.107161  |             |  8.4s"
       ]
      },
      {
       "output_type": "stream",
       "stream": "stdout",
       "text": [
        "\n",
        "   575  |  \u001b[94m  0.011078\u001b[0m  |    0.010039  |     1.103550  |             |  8.4s"
       ]
      },
      {
       "output_type": "stream",
       "stream": "stdout",
       "text": [
        "\n",
        "   576  |    0.011090  |  \u001b[32m  0.009971\u001b[0m  |     1.112198  |             |  8.4s"
       ]
      },
      {
       "output_type": "stream",
       "stream": "stdout",
       "text": [
        "\n",
        "   577  |  \u001b[94m  0.011013\u001b[0m  |    0.010032  |     1.097741  |             |  8.4s"
       ]
      },
      {
       "output_type": "stream",
       "stream": "stdout",
       "text": [
        "\n",
        "   578  |    0.011033  |    0.010003  |     1.102967  |             |  8.4s"
       ]
      },
      {
       "output_type": "stream",
       "stream": "stdout",
       "text": [
        "\n",
        "   579  |    0.011067  |    0.009971  |     1.109858  |             |  8.4s"
       ]
      },
      {
       "output_type": "stream",
       "stream": "stdout",
       "text": [
        "\n",
        "   580  |    0.011028  |  \u001b[32m  0.009938\u001b[0m  |     1.109653  |             |  8.4s"
       ]
      },
      {
       "output_type": "stream",
       "stream": "stdout",
       "text": [
        "\n",
        "   581  |    0.011030  |  \u001b[32m  0.009877\u001b[0m  |     1.116682  |             |  8.4s"
       ]
      },
      {
       "output_type": "stream",
       "stream": "stdout",
       "text": [
        "\n",
        "   582  |  \u001b[94m  0.010977\u001b[0m  |    0.009943  |     1.103961  |             |  8.3s"
       ]
      },
      {
       "output_type": "stream",
       "stream": "stdout",
       "text": [
        "\n",
        "   583  |  \u001b[94m  0.010975\u001b[0m  |    0.009942  |     1.103842  |             |  8.4s"
       ]
      },
      {
       "output_type": "stream",
       "stream": "stdout",
       "text": [
        "\n",
        "   584  |    0.011001  |    0.009942  |     1.106524  |             |  8.4s"
       ]
      },
      {
       "output_type": "stream",
       "stream": "stdout",
       "text": [
        "\n",
        "   585  |    0.011013  |  \u001b[32m  0.009873\u001b[0m  |     1.115466  |             |  8.4s"
       ]
      },
      {
       "output_type": "stream",
       "stream": "stdout",
       "text": [
        "\n",
        "   586  |  \u001b[94m  0.010930\u001b[0m  |  \u001b[32m  0.009845\u001b[0m  |     1.110136  |             |  8.3s"
       ]
      },
      {
       "output_type": "stream",
       "stream": "stdout",
       "text": [
        "\n",
        "   587  |    0.011001  |  \u001b[32m  0.009839\u001b[0m  |     1.118081  |             |  8.4s"
       ]
      },
      {
       "output_type": "stream",
       "stream": "stdout",
       "text": [
        "\n",
        "   588  |    0.010959  |    0.009917  |     1.105143  |             |  8.3s"
       ]
      },
      {
       "output_type": "stream",
       "stream": "stdout",
       "text": [
        "\n",
        "   589  |    0.010941  |    0.009914  |     1.103533  |             |  8.4s"
       ]
      },
      {
       "output_type": "stream",
       "stream": "stdout",
       "text": [
        "\n",
        "   590  |  \u001b[94m  0.010925\u001b[0m  |  \u001b[32m  0.009829\u001b[0m  |     1.111497  |             |  8.4s"
       ]
      },
      {
       "output_type": "stream",
       "stream": "stdout",
       "text": [
        "\n",
        "   591  |  \u001b[94m  0.010908\u001b[0m  |    0.009893  |     1.102568  |             |  8.4s"
       ]
      },
      {
       "output_type": "stream",
       "stream": "stdout",
       "text": [
        "\n",
        "   592  |  \u001b[94m  0.010903\u001b[0m  |  \u001b[32m  0.009802\u001b[0m  |     1.112230  |             |  8.4s"
       ]
      },
      {
       "output_type": "stream",
       "stream": "stdout",
       "text": [
        "\n",
        "   593  |    0.010906  |    0.009842  |     1.108156  |             |  8.4s"
       ]
      },
      {
       "output_type": "stream",
       "stream": "stdout",
       "text": [
        "\n",
        "   594  |  \u001b[94m  0.010876\u001b[0m  |    0.009843  |     1.104955  |             |  8.4s"
       ]
      },
      {
       "output_type": "stream",
       "stream": "stdout",
       "text": [
        "\n",
        "   595  |    0.010898  |    0.009827  |     1.109045  |             |  8.4s"
       ]
      },
      {
       "output_type": "stream",
       "stream": "stdout",
       "text": [
        "\n",
        "   596  |  \u001b[94m  0.010759\u001b[0m  |    0.009846  |     1.092639  |             |  8.4s"
       ]
      },
      {
       "output_type": "stream",
       "stream": "stdout",
       "text": [
        "\n",
        "   597  |    0.010826  |  \u001b[32m  0.009792\u001b[0m  |     1.105564  |             |  8.4s"
       ]
      },
      {
       "output_type": "stream",
       "stream": "stdout",
       "text": [
        "\n",
        "   598  |    0.010827  |  \u001b[32m  0.009787\u001b[0m  |     1.106210  |             |  8.4s"
       ]
      },
      {
       "output_type": "stream",
       "stream": "stdout",
       "text": [
        "\n",
        "   599  |    0.010834  |    0.009852  |     1.099672  |             |  8.3s"
       ]
      },
      {
       "output_type": "stream",
       "stream": "stdout",
       "text": [
        "\n",
        "   600  |    0.010863  |    0.009791  |     1.109488  |             |  8.4s"
       ]
      },
      {
       "output_type": "stream",
       "stream": "stdout",
       "text": [
        "\n",
        "   601  |    0.010808  |  \u001b[32m  0.009752\u001b[0m  |     1.108283  |             |  8.4s"
       ]
      },
      {
       "output_type": "stream",
       "stream": "stdout",
       "text": [
        "\n",
        "   602  |    0.010785  |  \u001b[32m  0.009745\u001b[0m  |     1.106731  |             |  8.4s"
       ]
      },
      {
       "output_type": "stream",
       "stream": "stdout",
       "text": [
        "\n",
        "   603  |    0.010796  |    0.009767  |     1.105356  |             |  8.3s"
       ]
      },
      {
       "output_type": "stream",
       "stream": "stdout",
       "text": [
        "\n",
        "   604  |  \u001b[94m  0.010716\u001b[0m  |    0.009790  |     1.094632  |             |  8.3s"
       ]
      },
      {
       "output_type": "stream",
       "stream": "stdout",
       "text": [
        "\n",
        "   605  |    0.010749  |    0.009750  |     1.102400  |             |  8.3s"
       ]
      },
      {
       "output_type": "stream",
       "stream": "stdout",
       "text": [
        "\n",
        "   606  |    0.010726  |  \u001b[32m  0.009733\u001b[0m  |     1.101926  |             |  8.3s"
       ]
      },
      {
       "output_type": "stream",
       "stream": "stdout",
       "text": [
        "\n",
        "   607  |    0.010718  |    0.009760  |     1.098234  |             |  8.4s"
       ]
      },
      {
       "output_type": "stream",
       "stream": "stdout",
       "text": [
        "\n",
        "   608  |    0.010744  |    0.009822  |     1.093910  |             |  8.4s"
       ]
      },
      {
       "output_type": "stream",
       "stream": "stdout",
       "text": [
        "\n",
        "   609  |    0.010720  |  \u001b[32m  0.009720\u001b[0m  |     1.102847  |             |  8.4s"
       ]
      },
      {
       "output_type": "stream",
       "stream": "stdout",
       "text": [
        "\n",
        "   610  |  \u001b[94m  0.010713\u001b[0m  |  \u001b[32m  0.009702\u001b[0m  |     1.104156  |             |  8.3s"
       ]
      },
      {
       "output_type": "stream",
       "stream": "stdout",
       "text": [
        "\n",
        "   611  |  \u001b[94m  0.010706\u001b[0m  |  \u001b[32m  0.009702\u001b[0m  |     1.103491  |             |  8.3s"
       ]
      },
      {
       "output_type": "stream",
       "stream": "stdout",
       "text": [
        "\n",
        "   612  |  \u001b[94m  0.010621\u001b[0m  |  \u001b[32m  0.009687\u001b[0m  |     1.096407  |             |  8.4s"
       ]
      },
      {
       "output_type": "stream",
       "stream": "stdout",
       "text": [
        "\n",
        "   613  |    0.010670  |    0.009732  |     1.096444  |             |  8.4s"
       ]
      },
      {
       "output_type": "stream",
       "stream": "stdout",
       "text": [
        "\n",
        "   614  |    0.010684  |    0.009708  |     1.100563  |             |  8.4s"
       ]
      },
      {
       "output_type": "stream",
       "stream": "stdout",
       "text": [
        "\n",
        "   615  |    0.010655  |  \u001b[32m  0.009660\u001b[0m  |     1.103024  |             |  8.4s"
       ]
      },
      {
       "output_type": "stream",
       "stream": "stdout",
       "text": [
        "\n",
        "   616  |  \u001b[94m  0.010611\u001b[0m  |  \u001b[32m  0.009638\u001b[0m  |     1.100926  |             |  8.3s"
       ]
      },
      {
       "output_type": "stream",
       "stream": "stdout",
       "text": [
        "\n",
        "   617  |    0.010712  |  \u001b[32m  0.009590\u001b[0m  |     1.117025  |             |  8.3s"
       ]
      },
      {
       "output_type": "stream",
       "stream": "stdout",
       "text": [
        "\n",
        "   618  |    0.010645  |    0.009675  |     1.100209  |             |  8.3s"
       ]
      },
      {
       "output_type": "stream",
       "stream": "stdout",
       "text": [
        "\n",
        "   619  |  \u001b[94m  0.010586\u001b[0m  |    0.009642  |     1.097813  |             |  8.4s"
       ]
      },
      {
       "output_type": "stream",
       "stream": "stdout",
       "text": [
        "\n",
        "   620  |    0.010625  |    0.009680  |     1.097583  |             |  8.4s"
       ]
      },
      {
       "output_type": "stream",
       "stream": "stdout",
       "text": [
        "\n",
        "   621  |  \u001b[94m  0.010584\u001b[0m  |    0.009668  |     1.094795  |             |  8.4s"
       ]
      },
      {
       "output_type": "stream",
       "stream": "stdout",
       "text": [
        "\n",
        "   622  |    0.010597  |    0.009669  |     1.096014  |             |  8.3s"
       ]
      },
      {
       "output_type": "stream",
       "stream": "stdout",
       "text": [
        "\n",
        "   623  |  \u001b[94m  0.010580\u001b[0m  |    0.009600  |     1.102030  |             |  8.3s"
       ]
      },
      {
       "output_type": "stream",
       "stream": "stdout",
       "text": [
        "\n",
        "   624  |  \u001b[94m  0.010564\u001b[0m  |  \u001b[32m  0.009580\u001b[0m  |     1.102797  |             |  8.4s"
       ]
      },
      {
       "output_type": "stream",
       "stream": "stdout",
       "text": [
        "\n",
        "   625  |  \u001b[94m  0.010547\u001b[0m  |    0.009609  |     1.097574  |             |  8.4s"
       ]
      },
      {
       "output_type": "stream",
       "stream": "stdout",
       "text": [
        "\n",
        "   626  |  \u001b[94m  0.010512\u001b[0m  |    0.009623  |     1.092311  |             |  8.4s"
       ]
      },
      {
       "output_type": "stream",
       "stream": "stdout",
       "text": [
        "\n",
        "   627  |    0.010520  |    0.009634  |     1.091961  |             |  8.4s"
       ]
      },
      {
       "output_type": "stream",
       "stream": "stdout",
       "text": [
        "\n",
        "   628  |    0.010556  |    0.009707  |     1.087467  |             |  8.3s"
       ]
      },
      {
       "output_type": "stream",
       "stream": "stdout",
       "text": [
        "\n",
        "   629  |    0.010542  |  \u001b[32m  0.009511\u001b[0m  |     1.108464  |             |  8.4s"
       ]
      },
      {
       "output_type": "stream",
       "stream": "stdout",
       "text": [
        "\n",
        "   630  |  \u001b[94m  0.010499\u001b[0m  |    0.009590  |     1.094747  |             |  8.3s"
       ]
      },
      {
       "output_type": "stream",
       "stream": "stdout",
       "text": [
        "\n",
        "   631  |  \u001b[94m  0.010469\u001b[0m  |    0.009515  |     1.100292  |             |  8.3s"
       ]
      },
      {
       "output_type": "stream",
       "stream": "stdout",
       "text": [
        "\n",
        "   632  |    0.010543  |    0.009590  |     1.099339  |             |  8.3s"
       ]
      },
      {
       "output_type": "stream",
       "stream": "stdout",
       "text": [
        "\n",
        "   633  |    0.010498  |    0.009519  |     1.102842  |             |  8.3s"
       ]
      },
      {
       "output_type": "stream",
       "stream": "stdout",
       "text": [
        "\n",
        "   634  |    0.010496  |  \u001b[32m  0.009486\u001b[0m  |     1.106431  |             |  8.4s"
       ]
      },
      {
       "output_type": "stream",
       "stream": "stdout",
       "text": [
        "\n",
        "   635  |  \u001b[94m  0.010467\u001b[0m  |    0.009509  |     1.100826  |             |  8.4s"
       ]
      },
      {
       "output_type": "stream",
       "stream": "stdout",
       "text": [
        "\n",
        "   636  |  \u001b[94m  0.010446\u001b[0m  |    0.009541  |     1.094847  |             |  8.4s"
       ]
      },
      {
       "output_type": "stream",
       "stream": "stdout",
       "text": [
        "\n",
        "   637  |    0.010466  |  \u001b[32m  0.009463\u001b[0m  |     1.105972  |             |  8.4s"
       ]
      },
      {
       "output_type": "stream",
       "stream": "stdout",
       "text": [
        "\n",
        "   638  |    0.010447  |    0.009523  |     1.097005  |             |  8.4s"
       ]
      },
      {
       "output_type": "stream",
       "stream": "stdout",
       "text": [
        "\n",
        "   639  |  \u001b[94m  0.010443\u001b[0m  |    0.009524  |     1.096427  |             |  8.4s"
       ]
      },
      {
       "output_type": "stream",
       "stream": "stdout",
       "text": [
        "\n",
        "   640  |    0.010452  |    0.009524  |     1.097370  |             |  8.4s"
       ]
      },
      {
       "output_type": "stream",
       "stream": "stdout",
       "text": [
        "\n",
        "   641  |  \u001b[94m  0.010409\u001b[0m  |  \u001b[32m  0.009460\u001b[0m  |     1.100356  |             |  8.4s"
       ]
      },
      {
       "output_type": "stream",
       "stream": "stdout",
       "text": [
        "\n",
        "   642  |    0.010410  |    0.009463  |     1.099999  |             |  8.4s"
       ]
      },
      {
       "output_type": "stream",
       "stream": "stdout",
       "text": [
        "\n",
        "   643  |  \u001b[94m  0.010387\u001b[0m  |  \u001b[32m  0.009438\u001b[0m  |     1.100641  |             |  8.4s"
       ]
      },
      {
       "output_type": "stream",
       "stream": "stdout",
       "text": [
        "\n",
        "   644  |  \u001b[94m  0.010354\u001b[0m  |    0.009447  |     1.096064  |             |  8.5s"
       ]
      },
      {
       "output_type": "stream",
       "stream": "stdout",
       "text": [
        "\n",
        "   645  |  \u001b[94m  0.010324\u001b[0m  |  \u001b[32m  0.009433\u001b[0m  |     1.094377  |             |  8.4s"
       ]
      },
      {
       "output_type": "stream",
       "stream": "stdout",
       "text": [
        "\n",
        "   646  |    0.010333  |    0.009440  |     1.094657  |             |  8.4s"
       ]
      },
      {
       "output_type": "stream",
       "stream": "stdout",
       "text": [
        "\n",
        "   647  |    0.010338  |  \u001b[32m  0.009393\u001b[0m  |     1.100617  |             |  8.3s"
       ]
      },
      {
       "output_type": "stream",
       "stream": "stdout",
       "text": [
        "\n",
        "   648  |  \u001b[94m  0.010294\u001b[0m  |    0.009410  |     1.093862  |             |  8.4s"
       ]
      },
      {
       "output_type": "stream",
       "stream": "stdout",
       "text": [
        "\n",
        "   649  |    0.010363  |    0.009399  |     1.102604  |             |  8.4s"
       ]
      },
      {
       "output_type": "stream",
       "stream": "stdout",
       "text": [
        "\n",
        "   650  |    0.010348  |    0.009429  |     1.097511  |             |  8.4s"
       ]
      },
      {
       "output_type": "stream",
       "stream": "stdout",
       "text": [
        "\n",
        "   651  |    0.010338  |    0.009422  |     1.097138  |             |  8.3s"
       ]
      },
      {
       "output_type": "stream",
       "stream": "stdout",
       "text": [
        "\n",
        "   652  |  \u001b[94m  0.010273\u001b[0m  |    0.009403  |     1.092502  |             |  8.3s"
       ]
      },
      {
       "output_type": "stream",
       "stream": "stdout",
       "text": [
        "\n",
        "   653  |    0.010352  |    0.009409  |     1.100182  |             |  8.3s"
       ]
      },
      {
       "output_type": "stream",
       "stream": "stdout",
       "text": [
        "\n",
        "   654  |  \u001b[94m  0.010248\u001b[0m  |  \u001b[32m  0.009335\u001b[0m  |     1.097792  |             |  8.3s"
       ]
      },
      {
       "output_type": "stream",
       "stream": "stdout",
       "text": [
        "\n",
        "   655  |    0.010277  |    0.009344  |     1.099810  |             |  8.3s"
       ]
      },
      {
       "output_type": "stream",
       "stream": "stdout",
       "text": [
        "\n",
        "   656  |    0.010277  |    0.009369  |     1.096960  |             |  8.4s"
       ]
      },
      {
       "output_type": "stream",
       "stream": "stdout",
       "text": [
        "\n",
        "   657  |  \u001b[94m  0.010237\u001b[0m  |    0.009358  |     1.093967  |             |  8.4s"
       ]
      },
      {
       "output_type": "stream",
       "stream": "stdout",
       "text": [
        "\n",
        "   658  |    0.010252  |    0.009372  |     1.093880  |             |  8.4s"
       ]
      },
      {
       "output_type": "stream",
       "stream": "stdout",
       "text": [
        "\n",
        "   659  |  \u001b[94m  0.010206\u001b[0m  |    0.009348  |     1.091818  |             |  8.4s"
       ]
      },
      {
       "output_type": "stream",
       "stream": "stdout",
       "text": [
        "\n",
        "   660  |    0.010240  |  \u001b[32m  0.009318\u001b[0m  |     1.098898  |             |  8.4s"
       ]
      },
      {
       "output_type": "stream",
       "stream": "stdout",
       "text": [
        "\n",
        "   661  |    0.010227  |  \u001b[32m  0.009300\u001b[0m  |     1.099756  |             |  8.4s"
       ]
      },
      {
       "output_type": "stream",
       "stream": "stdout",
       "text": [
        "\n",
        "   662  |    0.010223  |  \u001b[32m  0.009279\u001b[0m  |     1.101699  |             |  8.3s"
       ]
      },
      {
       "output_type": "stream",
       "stream": "stdout",
       "text": [
        "\n",
        "   663  |  \u001b[94m  0.010175\u001b[0m  |    0.009317  |     1.092093  |             |  8.3s"
       ]
      },
      {
       "output_type": "stream",
       "stream": "stdout",
       "text": [
        "\n",
        "   664  |    0.010192  |    0.009332  |     1.092095  |             |  8.3s"
       ]
      },
      {
       "output_type": "stream",
       "stream": "stdout",
       "text": [
        "\n",
        "   665  |  \u001b[94m  0.010117\u001b[0m  |    0.009300  |     1.087805  |             |  8.3s"
       ]
      },
      {
       "output_type": "stream",
       "stream": "stdout",
       "text": [
        "\n",
        "   666  |  \u001b[94m  0.010111\u001b[0m  |    0.009290  |     1.088336  |             |  8.3s"
       ]
      },
      {
       "output_type": "stream",
       "stream": "stdout",
       "text": [
        "\n",
        "   667  |    0.010160  |  \u001b[32m  0.009241\u001b[0m  |     1.099396  |             |  8.2s"
       ]
      },
      {
       "output_type": "stream",
       "stream": "stdout",
       "text": [
        "\n",
        "   668  |    0.010140  |  \u001b[32m  0.009210\u001b[0m  |     1.100943  |             |  8.2s"
       ]
      },
      {
       "output_type": "stream",
       "stream": "stdout",
       "text": [
        "\n",
        "   669  |  \u001b[94m  0.010106\u001b[0m  |    0.009241  |     1.093706  |             |  8.2s"
       ]
      },
      {
       "output_type": "stream",
       "stream": "stdout",
       "text": [
        "\n",
        "   670  |    0.010168  |    0.009266  |     1.097387  |             |  8.2s"
       ]
      },
      {
       "output_type": "stream",
       "stream": "stdout",
       "text": [
        "\n",
        "   671  |  \u001b[94m  0.010106\u001b[0m  |    0.009241  |     1.093642  |             |  8.2s"
       ]
      },
      {
       "output_type": "stream",
       "stream": "stdout",
       "text": [
        "\n",
        "   672  |    0.010121  |    0.009252  |     1.093906  |             |  8.2s"
       ]
      },
      {
       "output_type": "stream",
       "stream": "stdout",
       "text": [
        "\n",
        "   673  |  \u001b[94m  0.010091\u001b[0m  |  \u001b[32m  0.009197\u001b[0m  |     1.097315  |             |  8.2s"
       ]
      },
      {
       "output_type": "stream",
       "stream": "stdout",
       "text": [
        "\n",
        "   674  |  \u001b[94m  0.010077\u001b[0m  |    0.009207  |     1.094535  |             |  8.2s"
       ]
      },
      {
       "output_type": "stream",
       "stream": "stdout",
       "text": [
        "\n",
        "   675  |  \u001b[94m  0.010062\u001b[0m  |    0.009233  |     1.089717  |             |  8.3s"
       ]
      },
      {
       "output_type": "stream",
       "stream": "stdout",
       "text": [
        "\n",
        "   676  |    0.010118  |    0.009225  |     1.096730  |             |  8.3s"
       ]
      },
      {
       "output_type": "stream",
       "stream": "stdout",
       "text": [
        "\n",
        "   677  |  \u001b[94m  0.010045\u001b[0m  |    0.009235  |     1.087743  |             |  8.3s"
       ]
      },
      {
       "output_type": "stream",
       "stream": "stdout",
       "text": [
        "\n",
        "   678  |  \u001b[94m  0.010032\u001b[0m  |  \u001b[32m  0.009183\u001b[0m  |     1.092439  |             |  8.3s"
       ]
      },
      {
       "output_type": "stream",
       "stream": "stdout",
       "text": [
        "\n",
        "   679  |    0.010096  |    0.009228  |     1.093991  |             |  8.3s"
       ]
      },
      {
       "output_type": "stream",
       "stream": "stdout",
       "text": [
        "\n",
        "   680  |    0.010045  |    0.009243  |     1.086662  |             |  8.4s"
       ]
      },
      {
       "output_type": "stream",
       "stream": "stdout",
       "text": [
        "\n",
        "   681  |    0.010059  |    0.009237  |     1.088905  |             |  8.3s"
       ]
      },
      {
       "output_type": "stream",
       "stream": "stdout",
       "text": [
        "\n",
        "   682  |  \u001b[94m  0.010012\u001b[0m  |    0.009196  |     1.088756  |             |  8.2s"
       ]
      },
      {
       "output_type": "stream",
       "stream": "stdout",
       "text": [
        "\n",
        "   683  |    0.010038  |    0.009217  |     1.089066  |             |  8.2s"
       ]
      },
      {
       "output_type": "stream",
       "stream": "stdout",
       "text": [
        "\n",
        "   684  |    0.010065  |  \u001b[32m  0.009127\u001b[0m  |     1.102792  |             |  8.2s"
       ]
      },
      {
       "output_type": "stream",
       "stream": "stdout",
       "text": [
        "\n",
        "   685  |  \u001b[94m  0.009968\u001b[0m  |    0.009237  |     1.079100  |             |  8.2s"
       ]
      },
      {
       "output_type": "stream",
       "stream": "stdout",
       "text": [
        "\n",
        "   686  |    0.010012  |    0.009134  |     1.096196  |             |  8.2s"
       ]
      },
      {
       "output_type": "stream",
       "stream": "stdout",
       "text": [
        "\n",
        "   687  |    0.009979  |    0.009170  |     1.088205  |             |  8.2s"
       ]
      },
      {
       "output_type": "stream",
       "stream": "stdout",
       "text": [
        "\n",
        "   688  |    0.009974  |    0.009153  |     1.089737  |             |  8.2s"
       ]
      },
      {
       "output_type": "stream",
       "stream": "stdout",
       "text": [
        "\n",
        "   689  |  \u001b[94m  0.009946\u001b[0m  |    0.009159  |     1.085937  |             |  8.2s"
       ]
      },
      {
       "output_type": "stream",
       "stream": "stdout",
       "text": [
        "\n",
        "   690  |  \u001b[94m  0.009942\u001b[0m  |    0.009156  |     1.085831  |             |  8.2s"
       ]
      },
      {
       "output_type": "stream",
       "stream": "stdout",
       "text": [
        "\n",
        "   691  |  \u001b[94m  0.009935\u001b[0m  |  \u001b[32m  0.009097\u001b[0m  |     1.092154  |             |  8.2s"
       ]
      },
      {
       "output_type": "stream",
       "stream": "stdout",
       "text": [
        "\n",
        "   692  |    0.009958  |    0.009098  |     1.094587  |             |  8.2s"
       ]
      },
      {
       "output_type": "stream",
       "stream": "stdout",
       "text": [
        "\n",
        "   693  |  \u001b[94m  0.009906\u001b[0m  |    0.009117  |     1.086593  |             |  8.2s"
       ]
      },
      {
       "output_type": "stream",
       "stream": "stdout",
       "text": [
        "\n",
        "   694  |  \u001b[94m  0.009877\u001b[0m  |    0.009180  |     1.075860  |             |  8.2s"
       ]
      },
      {
       "output_type": "stream",
       "stream": "stdout",
       "text": [
        "\n",
        "   695  |    0.009954  |  \u001b[32m  0.009088\u001b[0m  |     1.095237  |             |  8.3s"
       ]
      },
      {
       "output_type": "stream",
       "stream": "stdout",
       "text": [
        "\n",
        "   696  |    0.009906  |    0.009115  |     1.086805  |             |  8.3s"
       ]
      },
      {
       "output_type": "stream",
       "stream": "stdout",
       "text": [
        "\n",
        "   697  |    0.009922  |    0.009096  |     1.090837  |             |  8.3s"
       ]
      },
      {
       "output_type": "stream",
       "stream": "stdout",
       "text": [
        "\n",
        "   698  |    0.009912  |  \u001b[32m  0.009077\u001b[0m  |     1.092065  |             |  8.3s"
       ]
      },
      {
       "output_type": "stream",
       "stream": "stdout",
       "text": [
        "\n",
        "   699  |  \u001b[94m  0.009866\u001b[0m  |    0.009093  |     1.085007  |             |  8.3s"
       ]
      },
      {
       "output_type": "stream",
       "stream": "stdout",
       "text": [
        "\n",
        "   700  |  \u001b[94m  0.009851\u001b[0m  |    0.009090  |     1.083666  |             |  8.4s"
       ]
      },
      {
       "output_type": "stream",
       "stream": "stdout",
       "text": [
        "\n",
        "   701  |    0.009874  |    0.009092  |     1.085996  |             |  8.4s"
       ]
      },
      {
       "output_type": "stream",
       "stream": "stdout",
       "text": [
        "\n",
        "   702  |  \u001b[94m  0.009815\u001b[0m  |  \u001b[32m  0.009063\u001b[0m  |     1.083027  |             |  8.3s"
       ]
      },
      {
       "output_type": "stream",
       "stream": "stdout",
       "text": [
        "\n",
        "   703  |    0.009906  |    0.009086  |     1.090228  |             |  8.3s"
       ]
      },
      {
       "output_type": "stream",
       "stream": "stdout",
       "text": [
        "\n",
        "   704  |    0.009853  |    0.009101  |     1.082645  |             |  8.4s"
       ]
      },
      {
       "output_type": "stream",
       "stream": "stdout",
       "text": [
        "\n",
        "   705  |    0.009854  |  \u001b[32m  0.009045\u001b[0m  |     1.089464  |             |  8.3s"
       ]
      },
      {
       "output_type": "stream",
       "stream": "stdout",
       "text": [
        "\n",
        "   706  |  \u001b[94m  0.009813\u001b[0m  |    0.009158  |     1.071554  |             |  8.3s"
       ]
      },
      {
       "output_type": "stream",
       "stream": "stdout",
       "text": [
        "\n",
        "   707  |    0.009830  |  \u001b[32m  0.009030\u001b[0m  |     1.088594  |             |  8.3s"
       ]
      },
      {
       "output_type": "stream",
       "stream": "stdout",
       "text": [
        "\n",
        "   708  |  \u001b[94m  0.009806\u001b[0m  |    0.009069  |     1.081311  |             |  8.3s"
       ]
      },
      {
       "output_type": "stream",
       "stream": "stdout",
       "text": [
        "\n",
        "   709  |  \u001b[94m  0.009791\u001b[0m  |    0.009042  |     1.082873  |             |  8.3s"
       ]
      },
      {
       "output_type": "stream",
       "stream": "stdout",
       "text": [
        "\n",
        "   710  |    0.009807  |  \u001b[32m  0.009009\u001b[0m  |     1.088527  |             |  8.3s"
       ]
      },
      {
       "output_type": "stream",
       "stream": "stdout",
       "text": [
        "\n",
        "   711  |  \u001b[94m  0.009754\u001b[0m  |  \u001b[32m  0.008961\u001b[0m  |     1.088499  |             |  8.3s"
       ]
      },
      {
       "output_type": "stream",
       "stream": "stdout",
       "text": [
        "\n",
        "   712  |  \u001b[94m  0.009741\u001b[0m  |    0.009052  |     1.076191  |             |  8.3s"
       ]
      },
      {
       "output_type": "stream",
       "stream": "stdout",
       "text": [
        "\n",
        "   713  |    0.009754  |    0.008990  |     1.084961  |             |  8.3s"
       ]
      },
      {
       "output_type": "stream",
       "stream": "stdout",
       "text": [
        "\n",
        "   714  |  \u001b[94m  0.009726\u001b[0m  |    0.009018  |     1.078548  |             |  8.3s"
       ]
      },
      {
       "output_type": "stream",
       "stream": "stdout",
       "text": [
        "\n",
        "   715  |    0.009777  |    0.008982  |     1.088556  |             |  8.3s"
       ]
      },
      {
       "output_type": "stream",
       "stream": "stdout",
       "text": [
        "\n",
        "   716  |    0.009730  |  \u001b[32m  0.008961\u001b[0m  |     1.085788  |             |  8.3s"
       ]
      },
      {
       "output_type": "stream",
       "stream": "stdout",
       "text": [
        "\n",
        "   717  |  \u001b[94m  0.009691\u001b[0m  |    0.008970  |     1.080298  |             |  8.3s"
       ]
      },
      {
       "output_type": "stream",
       "stream": "stdout",
       "text": [
        "\n",
        "   718  |    0.009753  |    0.008962  |     1.088263  |             |  8.3s"
       ]
      },
      {
       "output_type": "stream",
       "stream": "stdout",
       "text": [
        "\n",
        "   719  |    0.009695  |  \u001b[32m  0.008953\u001b[0m  |     1.082883  |             |  8.3s"
       ]
      },
      {
       "output_type": "stream",
       "stream": "stdout",
       "text": [
        "\n",
        "   720  |    0.009737  |  \u001b[32m  0.008936\u001b[0m  |     1.089709  |             |  8.4s"
       ]
      },
      {
       "output_type": "stream",
       "stream": "stdout",
       "text": [
        "\n",
        "   721  |    0.009760  |  \u001b[32m  0.008908\u001b[0m  |     1.095596  |             |  8.4s"
       ]
      },
      {
       "output_type": "stream",
       "stream": "stdout",
       "text": [
        "\n",
        "   722  |  \u001b[94m  0.009664\u001b[0m  |    0.008926  |     1.082631  |             |  8.4s"
       ]
      },
      {
       "output_type": "stream",
       "stream": "stdout",
       "text": [
        "\n",
        "   723  |    0.009693  |    0.008960  |     1.081809  |             |  8.3s"
       ]
      },
      {
       "output_type": "stream",
       "stream": "stdout",
       "text": [
        "\n",
        "   724  |  \u001b[94m  0.009638\u001b[0m  |  \u001b[32m  0.008899\u001b[0m  |     1.083103  |             |  8.3s"
       ]
      },
      {
       "output_type": "stream",
       "stream": "stdout",
       "text": [
        "\n",
        "   725  |    0.009683  |    0.008959  |     1.080836  |             |  8.3s"
       ]
      },
      {
       "output_type": "stream",
       "stream": "stdout",
       "text": [
        "\n",
        "   726  |  \u001b[94m  0.009603\u001b[0m  |    0.008940  |     1.074207  |             |  8.3s"
       ]
      },
      {
       "output_type": "stream",
       "stream": "stdout",
       "text": [
        "\n",
        "   727  |    0.009700  |    0.008943  |     1.084675  |             |  8.3s"
       ]
      },
      {
       "output_type": "stream",
       "stream": "stdout",
       "text": [
        "\n",
        "   728  |    0.009670  |    0.008914  |     1.084728  |             |  8.4s"
       ]
      },
      {
       "output_type": "stream",
       "stream": "stdout",
       "text": [
        "\n",
        "   729  |  \u001b[94m  0.009574\u001b[0m  |    0.008943  |     1.070528  |             |  8.4s"
       ]
      },
      {
       "output_type": "stream",
       "stream": "stdout",
       "text": [
        "\n",
        "   730  |    0.009656  |  \u001b[32m  0.008891\u001b[0m  |     1.085992  |             |  8.3s"
       ]
      },
      {
       "output_type": "stream",
       "stream": "stdout",
       "text": [
        "\n",
        "   731  |    0.009611  |    0.008917  |     1.077881  |             |  8.3s"
       ]
      },
      {
       "output_type": "stream",
       "stream": "stdout",
       "text": [
        "\n",
        "   732  |  \u001b[94m  0.009570\u001b[0m  |  \u001b[32m  0.008843\u001b[0m  |     1.082185  |             |  8.3s"
       ]
      },
      {
       "output_type": "stream",
       "stream": "stdout",
       "text": [
        "\n",
        "   733  |  \u001b[94m  0.009560\u001b[0m  |  \u001b[32m  0.008835\u001b[0m  |     1.082083  |             |  8.3s"
       ]
      },
      {
       "output_type": "stream",
       "stream": "stdout",
       "text": [
        "\n",
        "   734  |    0.009596  |    0.008872  |     1.081552  |             |  8.3s"
       ]
      },
      {
       "output_type": "stream",
       "stream": "stdout",
       "text": [
        "\n",
        "   735  |    0.009590  |    0.008886  |     1.079282  |             |  8.4s"
       ]
      },
      {
       "output_type": "stream",
       "stream": "stdout",
       "text": [
        "\n",
        "   736  |  \u001b[94m  0.009516\u001b[0m  |  \u001b[32m  0.008817\u001b[0m  |     1.079268  |             |  8.4s"
       ]
      },
      {
       "output_type": "stream",
       "stream": "stdout",
       "text": [
        "\n",
        "   737  |    0.009552  |    0.008868  |     1.077089  |             |  8.3s"
       ]
      },
      {
       "output_type": "stream",
       "stream": "stdout",
       "text": [
        "\n",
        "   738  |    0.009542  |    0.008853  |     1.077767  |             |  8.4s"
       ]
      },
      {
       "output_type": "stream",
       "stream": "stdout",
       "text": [
        "\n",
        "   739  |    0.009517  |    0.008828  |     1.078010  |             |  8.4s"
       ]
      },
      {
       "output_type": "stream",
       "stream": "stdout",
       "text": [
        "\n",
        "   740  |    0.009602  |    0.008838  |     1.086358  |             |  8.4s"
       ]
      },
      {
       "output_type": "stream",
       "stream": "stdout",
       "text": [
        "\n",
        "   741  |    0.009562  |  \u001b[32m  0.008783\u001b[0m  |     1.088651  |             |  8.4s"
       ]
      },
      {
       "output_type": "stream",
       "stream": "stdout",
       "text": [
        "\n",
        "   742  |  \u001b[94m  0.009483\u001b[0m  |    0.008829  |     1.074025  |             |  8.4s"
       ]
      },
      {
       "output_type": "stream",
       "stream": "stdout",
       "text": [
        "\n",
        "   743  |    0.009530  |    0.008832  |     1.079039  |             |  8.4s"
       ]
      },
      {
       "output_type": "stream",
       "stream": "stdout",
       "text": [
        "\n",
        "   744  |  \u001b[94m  0.009454\u001b[0m  |    0.008812  |     1.072819  |             |  8.4s"
       ]
      },
      {
       "output_type": "stream",
       "stream": "stdout",
       "text": [
        "\n",
        "   745  |    0.009485  |  \u001b[32m  0.008771\u001b[0m  |     1.081388  |             |  8.4s"
       ]
      },
      {
       "output_type": "stream",
       "stream": "stdout",
       "text": [
        "\n",
        "   746  |    0.009518  |    0.008847  |     1.075843  |             |  8.4s"
       ]
      },
      {
       "output_type": "stream",
       "stream": "stdout",
       "text": [
        "\n",
        "   747  |  \u001b[94m  0.009444\u001b[0m  |    0.008833  |     1.069256  |             |  8.4s"
       ]
      },
      {
       "output_type": "stream",
       "stream": "stdout",
       "text": [
        "\n",
        "   748  |    0.009540  |    0.008798  |     1.084304  |             |  8.4s"
       ]
      },
      {
       "output_type": "stream",
       "stream": "stdout",
       "text": [
        "\n",
        "   749  |    0.009495  |    0.008811  |     1.077577  |             |  8.4s"
       ]
      },
      {
       "output_type": "stream",
       "stream": "stdout",
       "text": [
        "\n",
        "   750  |  \u001b[94m  0.009415\u001b[0m  |    0.008801  |     1.069755  |             |  8.5s"
       ]
      },
      {
       "output_type": "stream",
       "stream": "stdout",
       "text": [
        "\n",
        "   751  |    0.009418  |    0.008775  |     1.073271  |             |  8.4s"
       ]
      },
      {
       "output_type": "stream",
       "stream": "stdout",
       "text": [
        "\n",
        "   752  |    0.009486  |    0.008783  |     1.079966  |             |  8.4s"
       ]
      },
      {
       "output_type": "stream",
       "stream": "stdout",
       "text": [
        "\n",
        "   753  |    0.009474  |    0.008777  |     1.079432  |             |  8.4s"
       ]
      },
      {
       "output_type": "stream",
       "stream": "stdout",
       "text": [
        "\n",
        "   754  |    0.009473  |    0.008779  |     1.079014  |             |  8.4s"
       ]
      },
      {
       "output_type": "stream",
       "stream": "stdout",
       "text": [
        "\n",
        "   755  |  \u001b[94m  0.009343\u001b[0m  |    0.008782  |     1.063924  |             |  8.4s"
       ]
      },
      {
       "output_type": "stream",
       "stream": "stdout",
       "text": [
        "\n",
        "   756  |    0.009425  |  \u001b[32m  0.008734\u001b[0m  |     1.079056  |             |  8.5s"
       ]
      },
      {
       "output_type": "stream",
       "stream": "stdout",
       "text": [
        "\n",
        "   757  |    0.009433  |    0.008793  |     1.072770  |             |  8.4s"
       ]
      },
      {
       "output_type": "stream",
       "stream": "stdout",
       "text": [
        "\n",
        "   758  |    0.009363  |    0.008767  |     1.068004  |             |  8.4s"
       ]
      },
      {
       "output_type": "stream",
       "stream": "stdout",
       "text": [
        "\n",
        "   759  |    0.009392  |    0.008758  |     1.072425  |             |  8.4s"
       ]
      },
      {
       "output_type": "stream",
       "stream": "stdout",
       "text": [
        "\n",
        "   760  |    0.009362  |    0.008766  |     1.067925  |             |  8.4s"
       ]
      },
      {
       "output_type": "stream",
       "stream": "stdout",
       "text": [
        "\n",
        "   761  |    0.009420  |  \u001b[32m  0.008706\u001b[0m  |     1.081967  |             |  8.4s"
       ]
      },
      {
       "output_type": "stream",
       "stream": "stdout",
       "text": [
        "\n",
        "   762  |    0.009347  |    0.008738  |     1.069771  |             |  8.4s"
       ]
      },
      {
       "output_type": "stream",
       "stream": "stdout",
       "text": [
        "\n",
        "   763  |    0.009371  |    0.008763  |     1.069313  |             |  8.4s"
       ]
      },
      {
       "output_type": "stream",
       "stream": "stdout",
       "text": [
        "\n",
        "   764  |    0.009385  |  \u001b[32m  0.008705\u001b[0m  |     1.078220  |             |  8.4s"
       ]
      },
      {
       "output_type": "stream",
       "stream": "stdout",
       "text": [
        "\n",
        "   765  |  \u001b[94m  0.009303\u001b[0m  |    0.008711  |     1.068006  |             |  8.4s"
       ]
      },
      {
       "output_type": "stream",
       "stream": "stdout",
       "text": [
        "\n",
        "   766  |    0.009372  |    0.008742  |     1.072063  |             |  8.4s"
       ]
      },
      {
       "output_type": "stream",
       "stream": "stdout",
       "text": [
        "\n",
        "   767  |    0.009304  |    0.008730  |     1.065820  |             |  8.4s"
       ]
      },
      {
       "output_type": "stream",
       "stream": "stdout",
       "text": [
        "\n",
        "   768  |    0.009359  |    0.008725  |     1.072689  |             |  8.4s"
       ]
      },
      {
       "output_type": "stream",
       "stream": "stdout",
       "text": [
        "\n",
        "   769  |  \u001b[94m  0.009283\u001b[0m  |    0.008716  |     1.065004  |             |  8.4s"
       ]
      },
      {
       "output_type": "stream",
       "stream": "stdout",
       "text": [
        "\n",
        "   770  |  \u001b[94m  0.009265\u001b[0m  |  \u001b[32m  0.008674\u001b[0m  |     1.068178  |             |  8.4s"
       ]
      },
      {
       "output_type": "stream",
       "stream": "stdout",
       "text": [
        "\n",
        "   771  |    0.009327  |  \u001b[32m  0.008660\u001b[0m  |     1.076989  |             |  8.4s"
       ]
      },
      {
       "output_type": "stream",
       "stream": "stdout",
       "text": [
        "\n",
        "   772  |    0.009292  |    0.008682  |     1.070293  |             |  8.4s"
       ]
      },
      {
       "output_type": "stream",
       "stream": "stdout",
       "text": [
        "\n",
        "   773  |    0.009302  |    0.008688  |     1.070626  |             |  8.5s"
       ]
      },
      {
       "output_type": "stream",
       "stream": "stdout",
       "text": [
        "\n",
        "   774  |    0.009275  |  \u001b[32m  0.008655\u001b[0m  |     1.071665  |             |  8.5s"
       ]
      },
      {
       "output_type": "stream",
       "stream": "stdout",
       "text": [
        "\n",
        "   775  |    0.009300  |    0.008685  |     1.070807  |             |  8.4s"
       ]
      },
      {
       "output_type": "stream",
       "stream": "stdout",
       "text": [
        "\n",
        "   776  |  \u001b[94m  0.009258\u001b[0m  |  \u001b[32m  0.008654\u001b[0m  |     1.069795  |             |  8.4s"
       ]
      },
      {
       "output_type": "stream",
       "stream": "stdout",
       "text": [
        "\n",
        "   777  |  \u001b[94m  0.009220\u001b[0m  |  \u001b[32m  0.008645\u001b[0m  |     1.066574  |             |  8.4s"
       ]
      },
      {
       "output_type": "stream",
       "stream": "stdout",
       "text": [
        "\n",
        "   778  |    0.009247  |    0.008654  |     1.068586  |             |  8.3s"
       ]
      },
      {
       "output_type": "stream",
       "stream": "stdout",
       "text": [
        "\n",
        "   779  |  \u001b[94m  0.009209\u001b[0m  |  \u001b[32m  0.008612\u001b[0m  |     1.069398  |             |  8.4s"
       ]
      },
      {
       "output_type": "stream",
       "stream": "stdout",
       "text": [
        "\n",
        "   780  |  \u001b[94m  0.009195\u001b[0m  |    0.008645  |     1.063703  |             |  8.3s"
       ]
      },
      {
       "output_type": "stream",
       "stream": "stdout",
       "text": [
        "\n",
        "   781  |    0.009240  |    0.008668  |     1.066026  |             |  8.2s"
       ]
      },
      {
       "output_type": "stream",
       "stream": "stdout",
       "text": [
        "\n",
        "   782  |  \u001b[94m  0.009168\u001b[0m  |  \u001b[32m  0.008592\u001b[0m  |     1.067038  |             |  8.2s"
       ]
      },
      {
       "output_type": "stream",
       "stream": "stdout",
       "text": [
        "\n",
        "   783  |    0.009179  |    0.008619  |     1.064970  |             |  8.2s"
       ]
      },
      {
       "output_type": "stream",
       "stream": "stdout",
       "text": [
        "\n",
        "   784  |    0.009213  |  \u001b[32m  0.008560\u001b[0m  |     1.076270  |             |  8.3s"
       ]
      },
      {
       "output_type": "stream",
       "stream": "stdout",
       "text": [
        "\n",
        "   785  |  \u001b[94m  0.009166\u001b[0m  |    0.008612  |     1.064368  |             |  8.2s"
       ]
      },
      {
       "output_type": "stream",
       "stream": "stdout",
       "text": [
        "\n",
        "   786  |    0.009228  |    0.008645  |     1.067400  |             |  8.3s"
       ]
      },
      {
       "output_type": "stream",
       "stream": "stdout",
       "text": [
        "\n",
        "   787  |    0.009182  |    0.008572  |     1.071143  |             |  8.3s"
       ]
      },
      {
       "output_type": "stream",
       "stream": "stdout",
       "text": [
        "\n",
        "   788  |    0.009178  |    0.008576  |     1.070233  |             |  8.3s"
       ]
      },
      {
       "output_type": "stream",
       "stream": "stdout",
       "text": [
        "\n",
        "   789  |    0.009195  |    0.008625  |     1.066081  |             |  8.3s"
       ]
      },
      {
       "output_type": "stream",
       "stream": "stdout",
       "text": [
        "\n",
        "   790  |    0.009173  |    0.008639  |     1.061895  |             |  8.3s"
       ]
      },
      {
       "output_type": "stream",
       "stream": "stdout",
       "text": [
        "\n",
        "   791  |  \u001b[94m  0.009154\u001b[0m  |    0.008576  |     1.067412  |             |  8.3s"
       ]
      },
      {
       "output_type": "stream",
       "stream": "stdout",
       "text": [
        "\n",
        "   792  |    0.009156  |    0.008610  |     1.063479  |             |  8.3s"
       ]
      },
      {
       "output_type": "stream",
       "stream": "stdout",
       "text": [
        "\n",
        "   793  |  \u001b[94m  0.009144\u001b[0m  |    0.008592  |     1.064187  |             |  8.3s"
       ]
      },
      {
       "output_type": "stream",
       "stream": "stdout",
       "text": [
        "\n",
        "   794  |  \u001b[94m  0.009086\u001b[0m  |    0.008630  |     1.052918  |             |  8.3s"
       ]
      },
      {
       "output_type": "stream",
       "stream": "stdout",
       "text": [
        "\n",
        "   795  |    0.009141  |    0.008592  |     1.063951  |             |  8.3s"
       ]
      },
      {
       "output_type": "stream",
       "stream": "stdout",
       "text": [
        "\n",
        "   796  |    0.009143  |    0.008570  |     1.066909  |             |  8.3s"
       ]
      },
      {
       "output_type": "stream",
       "stream": "stdout",
       "text": [
        "\n",
        "   797  |    0.009115  |  \u001b[32m  0.008557\u001b[0m  |     1.065228  |             |  8.3s"
       ]
      },
      {
       "output_type": "stream",
       "stream": "stdout",
       "text": [
        "\n",
        "   798  |    0.009106  |  \u001b[32m  0.008546\u001b[0m  |     1.065500  |             |  8.3s"
       ]
      },
      {
       "output_type": "stream",
       "stream": "stdout",
       "text": [
        "\n",
        "   799  |    0.009143  |    0.008547  |     1.069752  |             |  8.3s"
       ]
      },
      {
       "output_type": "stream",
       "stream": "stdout",
       "text": [
        "\n",
        "   800  |    0.009150  |  \u001b[32m  0.008528\u001b[0m  |     1.072902  |             |  8.3s"
       ]
      },
      {
       "output_type": "stream",
       "stream": "stdout",
       "text": [
        "\n",
        "   801  |    0.009111  |    0.008537  |     1.067294  |             |  8.3s"
       ]
      },
      {
       "output_type": "stream",
       "stream": "stdout",
       "text": [
        "\n",
        "   802  |  \u001b[94m  0.009077\u001b[0m  |    0.008535  |     1.063570  |             |  8.4s"
       ]
      },
      {
       "output_type": "stream",
       "stream": "stdout",
       "text": [
        "\n",
        "   803  |  \u001b[94m  0.009035\u001b[0m  |  \u001b[32m  0.008523\u001b[0m  |     1.060121  |             |  8.4s"
       ]
      },
      {
       "output_type": "stream",
       "stream": "stdout",
       "text": [
        "\n",
        "   804  |    0.009065  |    0.008568  |     1.057938  |             |  8.4s"
       ]
      },
      {
       "output_type": "stream",
       "stream": "stdout",
       "text": [
        "\n",
        "   805  |    0.009059  |    0.008525  |     1.062734  |             |  8.4s"
       ]
      },
      {
       "output_type": "stream",
       "stream": "stdout",
       "text": [
        "\n",
        "   806  |    0.009073  |    0.008533  |     1.063235  |             |  8.5s"
       ]
      },
      {
       "output_type": "stream",
       "stream": "stdout",
       "text": [
        "\n",
        "   807  |    0.009075  |  \u001b[32m  0.008486\u001b[0m  |     1.069404  |             |  8.5s"
       ]
      },
      {
       "output_type": "stream",
       "stream": "stdout",
       "text": [
        "\n",
        "   808  |    0.009133  |    0.008536  |     1.070009  |             |  8.5s"
       ]
      },
      {
       "output_type": "stream",
       "stream": "stdout",
       "text": [
        "\n",
        "   809  |    0.009052  |    0.008522  |     1.062134  |             |  8.5s"
       ]
      },
      {
       "output_type": "stream",
       "stream": "stdout",
       "text": [
        "\n",
        "   810  |  \u001b[94m  0.008977\u001b[0m  |    0.008495  |     1.056754  |             |  8.5s"
       ]
      },
      {
       "output_type": "stream",
       "stream": "stdout",
       "text": [
        "\n",
        "   811  |    0.009073  |    0.008550  |     1.061179  |             |  8.4s"
       ]
      },
      {
       "output_type": "stream",
       "stream": "stdout",
       "text": [
        "\n",
        "   812  |    0.009004  |  \u001b[32m  0.008473\u001b[0m  |     1.062703  |             |  8.4s"
       ]
      },
      {
       "output_type": "stream",
       "stream": "stdout",
       "text": [
        "\n",
        "   813  |    0.009005  |    0.008509  |     1.058366  |             |  8.4s"
       ]
      },
      {
       "output_type": "stream",
       "stream": "stdout",
       "text": [
        "\n",
        "   814  |    0.009011  |    0.008484  |     1.062023  |             |  8.4s"
       ]
      },
      {
       "output_type": "stream",
       "stream": "stdout",
       "text": [
        "\n",
        "   815  |  \u001b[94m  0.008914\u001b[0m  |  \u001b[32m  0.008431\u001b[0m  |     1.057248  |             |  8.4s"
       ]
      },
      {
       "output_type": "stream",
       "stream": "stdout",
       "text": [
        "\n",
        "   816  |    0.008962  |    0.008502  |     1.054098  |             |  8.4s"
       ]
      },
      {
       "output_type": "stream",
       "stream": "stdout",
       "text": [
        "\n",
        "   817  |    0.008987  |    0.008502  |     1.057088  |             |  8.4s"
       ]
      },
      {
       "output_type": "stream",
       "stream": "stdout",
       "text": [
        "\n",
        "   818  |    0.008966  |    0.008466  |     1.059069  |             |  8.4s"
       ]
      },
      {
       "output_type": "stream",
       "stream": "stdout",
       "text": [
        "\n",
        "   819  |    0.008982  |  \u001b[32m  0.008427\u001b[0m  |     1.065845  |             |  8.4s"
       ]
      },
      {
       "output_type": "stream",
       "stream": "stdout",
       "text": [
        "\n",
        "   820  |    0.009006  |    0.008503  |     1.059065  |             |  8.4s"
       ]
      },
      {
       "output_type": "stream",
       "stream": "stdout",
       "text": [
        "\n",
        "   821  |    0.008942  |    0.008439  |     1.059680  |             |  8.4s"
       ]
      },
      {
       "output_type": "stream",
       "stream": "stdout",
       "text": [
        "\n",
        "   822  |    0.008973  |  \u001b[32m  0.008426\u001b[0m  |     1.064943  |             |  8.4s"
       ]
      },
      {
       "output_type": "stream",
       "stream": "stdout",
       "text": [
        "\n",
        "   823  |    0.009021  |    0.008478  |     1.064137  |             |  8.4s"
       ]
      },
      {
       "output_type": "stream",
       "stream": "stdout",
       "text": [
        "\n",
        "   824  |    0.008917  |    0.008446  |     1.055767  |             |  8.3s"
       ]
      },
      {
       "output_type": "stream",
       "stream": "stdout",
       "text": [
        "\n",
        "   825  |    0.008922  |  \u001b[32m  0.008417\u001b[0m  |     1.059977  |             |  8.3s"
       ]
      },
      {
       "output_type": "stream",
       "stream": "stdout",
       "text": [
        "\n",
        "   826  |  \u001b[94m  0.008865\u001b[0m  |    0.008433  |     1.051205  |             |  8.3s"
       ]
      },
      {
       "output_type": "stream",
       "stream": "stdout",
       "text": [
        "\n",
        "   827  |    0.008970  |    0.008421  |     1.065222  |             |  8.4s"
       ]
      },
      {
       "output_type": "stream",
       "stream": "stdout",
       "text": [
        "\n",
        "   828  |    0.008927  |    0.008429  |     1.059040  |             |  8.4s"
       ]
      },
      {
       "output_type": "stream",
       "stream": "stdout",
       "text": [
        "\n",
        "   829  |    0.008886  |    0.008440  |     1.052769  |             |  8.4s"
       ]
      },
      {
       "output_type": "stream",
       "stream": "stdout",
       "text": [
        "\n",
        "   830  |    0.008875  |    0.008452  |     1.050006  |             |  8.4s"
       ]
      },
      {
       "output_type": "stream",
       "stream": "stdout",
       "text": [
        "\n",
        "   831  |  \u001b[94m  0.008822\u001b[0m  |    0.008436  |     1.045829  |             |  8.4s"
       ]
      },
      {
       "output_type": "stream",
       "stream": "stdout",
       "text": [
        "\n",
        "   832  |    0.008902  |    0.008456  |     1.052696  |             |  8.3s"
       ]
      },
      {
       "output_type": "stream",
       "stream": "stdout",
       "text": [
        "\n",
        "   833  |    0.008841  |  \u001b[32m  0.008392\u001b[0m  |     1.053494  |             |  8.3s"
       ]
      },
      {
       "output_type": "stream",
       "stream": "stdout",
       "text": [
        "\n",
        "   834  |    0.008855  |    0.008409  |     1.053061  |             |  8.3s"
       ]
      },
      {
       "output_type": "stream",
       "stream": "stdout",
       "text": [
        "\n",
        "   835  |  \u001b[94m  0.008818\u001b[0m  |    0.008448  |     1.043774  |             |  8.3s"
       ]
      },
      {
       "output_type": "stream",
       "stream": "stdout",
       "text": [
        "\n",
        "   836  |    0.008834  |    0.008462  |     1.044023  |             |  8.3s"
       ]
      },
      {
       "output_type": "stream",
       "stream": "stdout",
       "text": [
        "\n",
        "   837  |  \u001b[94m  0.008796\u001b[0m  |    0.008448  |     1.041229  |             |  8.3s"
       ]
      },
      {
       "output_type": "stream",
       "stream": "stdout",
       "text": [
        "\n",
        "   838  |    0.008834  |    0.008402  |     1.051350  |             |  8.4s"
       ]
      },
      {
       "output_type": "stream",
       "stream": "stdout",
       "text": [
        "\n",
        "   839  |    0.008877  |  \u001b[32m  0.008386\u001b[0m  |     1.058506  |             |  8.4s"
       ]
      },
      {
       "output_type": "stream",
       "stream": "stdout",
       "text": [
        "\n",
        "   840  |    0.008808  |  \u001b[32m  0.008382\u001b[0m  |     1.050832  |             |  8.4s"
       ]
      },
      {
       "output_type": "stream",
       "stream": "stdout",
       "text": [
        "\n",
        "   841  |  \u001b[94m  0.008785\u001b[0m  |    0.008382  |     1.047992  |             |  8.3s"
       ]
      },
      {
       "output_type": "stream",
       "stream": "stdout",
       "text": [
        "\n",
        "   842  |  \u001b[94m  0.008781\u001b[0m  |  \u001b[32m  0.008376\u001b[0m  |     1.048370  |             |  8.4s"
       ]
      },
      {
       "output_type": "stream",
       "stream": "stdout",
       "text": [
        "\n",
        "   843  |    0.008849  |  \u001b[32m  0.008333\u001b[0m  |     1.061929  |             |  8.4s"
       ]
      },
      {
       "output_type": "stream",
       "stream": "stdout",
       "text": [
        "\n",
        "   844  |    0.008789  |    0.008352  |     1.052261  |             |  8.4s"
       ]
      },
      {
       "output_type": "stream",
       "stream": "stdout",
       "text": [
        "\n",
        "   845  |    0.008797  |    0.008336  |     1.055400  |             |  8.4s"
       ]
      },
      {
       "output_type": "stream",
       "stream": "stdout",
       "text": [
        "\n",
        "   846  |    0.008814  |    0.008395  |     1.049852  |             |  8.4s"
       ]
      },
      {
       "output_type": "stream",
       "stream": "stdout",
       "text": [
        "\n",
        "   847  |  \u001b[94m  0.008777\u001b[0m  |    0.008368  |     1.048880  |             |  8.4s"
       ]
      },
      {
       "output_type": "stream",
       "stream": "stdout",
       "text": [
        "\n",
        "   848  |    0.008802  |    0.008360  |     1.052909  |             |  8.4s"
       ]
      },
      {
       "output_type": "stream",
       "stream": "stdout",
       "text": [
        "\n",
        "   849  |  \u001b[94m  0.008741\u001b[0m  |    0.008358  |     1.045863  |             |  8.4s"
       ]
      },
      {
       "output_type": "stream",
       "stream": "stdout",
       "text": [
        "\n",
        "   850  |  \u001b[94m  0.008729\u001b[0m  |  \u001b[32m  0.008328\u001b[0m  |     1.048166  |             |  8.4s"
       ]
      },
      {
       "output_type": "stream",
       "stream": "stdout",
       "text": [
        "\n",
        "   851  |    0.008799  |    0.008346  |     1.054247  |             |  8.4s"
       ]
      },
      {
       "output_type": "stream",
       "stream": "stdout",
       "text": [
        "\n",
        "   852  |    0.008736  |    0.008333  |     1.048286  |             |  8.4s"
       ]
      },
      {
       "output_type": "stream",
       "stream": "stdout",
       "text": [
        "\n",
        "   853  |  \u001b[94m  0.008711\u001b[0m  |    0.008384  |     1.039048  |             |  8.4s"
       ]
      },
      {
       "output_type": "stream",
       "stream": "stdout",
       "text": [
        "\n",
        "   854  |    0.008753  |    0.008340  |     1.049442  |             |  8.4s"
       ]
      },
      {
       "output_type": "stream",
       "stream": "stdout",
       "text": [
        "\n",
        "   855  |    0.008746  |    0.008331  |     1.049819  |             |  8.4s"
       ]
      },
      {
       "output_type": "stream",
       "stream": "stdout",
       "text": [
        "\n",
        "   856  |    0.008726  |  \u001b[32m  0.008296\u001b[0m  |     1.051803  |             |  8.4s"
       ]
      },
      {
       "output_type": "stream",
       "stream": "stdout",
       "text": [
        "\n",
        "   857  |    0.008746  |  \u001b[32m  0.008294\u001b[0m  |     1.054508  |             |  8.3s"
       ]
      },
      {
       "output_type": "stream",
       "stream": "stdout",
       "text": [
        "\n",
        "   858  |    0.008747  |  \u001b[32m  0.008289\u001b[0m  |     1.055266  |             |  8.3s"
       ]
      },
      {
       "output_type": "stream",
       "stream": "stdout",
       "text": [
        "\n",
        "   859  |    0.008747  |    0.008350  |     1.047637  |             |  8.4s"
       ]
      },
      {
       "output_type": "stream",
       "stream": "stdout",
       "text": [
        "\n",
        "   860  |    0.008712  |    0.008346  |     1.043871  |             |  8.4s"
       ]
      },
      {
       "output_type": "stream",
       "stream": "stdout",
       "text": [
        "\n",
        "   861  |  \u001b[94m  0.008651\u001b[0m  |    0.008306  |     1.041475  |             |  8.3s"
       ]
      },
      {
       "output_type": "stream",
       "stream": "stdout",
       "text": [
        "\n",
        "   862  |    0.008652  |    0.008291  |     1.043578  |             |  8.3s"
       ]
      },
      {
       "output_type": "stream",
       "stream": "stdout",
       "text": [
        "\n",
        "   863  |  \u001b[94m  0.008624\u001b[0m  |    0.008337  |     1.034483  |             |  8.4s"
       ]
      },
      {
       "output_type": "stream",
       "stream": "stdout",
       "text": [
        "\n",
        "   864  |    0.008751  |  \u001b[32m  0.008271\u001b[0m  |     1.057968  |             |  8.4s"
       ]
      },
      {
       "output_type": "stream",
       "stream": "stdout",
       "text": [
        "\n",
        "   865  |    0.008675  |    0.008278  |     1.048065  |             |  8.3s"
       ]
      },
      {
       "output_type": "stream",
       "stream": "stdout",
       "text": [
        "\n",
        "   866  |    0.008693  |  \u001b[32m  0.008267\u001b[0m  |     1.051431  |             |  8.3s"
       ]
      },
      {
       "output_type": "stream",
       "stream": "stdout",
       "text": [
        "\n",
        "   867  |    0.008682  |    0.008290  |     1.047370  |             |  8.3s"
       ]
      },
      {
       "output_type": "stream",
       "stream": "stdout",
       "text": [
        "\n",
        "   868  |    0.008670  |  \u001b[32m  0.008266\u001b[0m  |     1.048834  |             |  8.3s"
       ]
      },
      {
       "output_type": "stream",
       "stream": "stdout",
       "text": [
        "\n",
        "   869  |    0.008642  |    0.008309  |     1.039993  |             |  8.4s"
       ]
      },
      {
       "output_type": "stream",
       "stream": "stdout",
       "text": [
        "\n",
        "   870  |    0.008696  |    0.008274  |     1.050966  |             |  8.4s"
       ]
      },
      {
       "output_type": "stream",
       "stream": "stdout",
       "text": [
        "\n",
        "   871  |  \u001b[94m  0.008599\u001b[0m  |  \u001b[32m  0.008262\u001b[0m  |     1.040841  |             |  8.4s"
       ]
      },
      {
       "output_type": "stream",
       "stream": "stdout",
       "text": [
        "\n",
        "   872  |    0.008623  |    0.008310  |     1.037728  |             |  8.4s"
       ]
      },
      {
       "output_type": "stream",
       "stream": "stdout",
       "text": [
        "\n",
        "   873  |    0.008602  |  \u001b[32m  0.008219\u001b[0m  |     1.046695  |             |  8.5s"
       ]
      },
      {
       "output_type": "stream",
       "stream": "stdout",
       "text": [
        "\n",
        "   874  |    0.008627  |    0.008260  |     1.044498  |             |  8.5s"
       ]
      },
      {
       "output_type": "stream",
       "stream": "stdout",
       "text": [
        "\n",
        "   875  |    0.008646  |    0.008237  |     1.049596  |             |  8.4s"
       ]
      },
      {
       "output_type": "stream",
       "stream": "stdout",
       "text": [
        "\n",
        "   876  |    0.008671  |    0.008297  |     1.045151  |             |  8.4s"
       ]
      },
      {
       "output_type": "stream",
       "stream": "stdout",
       "text": [
        "\n",
        "   877  |    0.008635  |    0.008258  |     1.045694  |             |  8.5s"
       ]
      },
      {
       "output_type": "stream",
       "stream": "stdout",
       "text": [
        "\n",
        "   878  |  \u001b[94m  0.008531\u001b[0m  |    0.008248  |     1.034316  |             |  8.4s"
       ]
      },
      {
       "output_type": "stream",
       "stream": "stdout",
       "text": [
        "\n",
        "   879  |    0.008574  |    0.008243  |     1.040139  |             |  8.4s"
       ]
      },
      {
       "output_type": "stream",
       "stream": "stdout",
       "text": [
        "\n",
        "   880  |    0.008569  |    0.008240  |     1.039862  |             |  8.4s"
       ]
      },
      {
       "output_type": "stream",
       "stream": "stdout",
       "text": [
        "\n",
        "   881  |    0.008575  |    0.008244  |     1.040220  |             |  8.4s"
       ]
      },
      {
       "output_type": "stream",
       "stream": "stdout",
       "text": [
        "\n",
        "   882  |    0.008586  |    0.008253  |     1.040299  |             |  8.4s"
       ]
      },
      {
       "output_type": "stream",
       "stream": "stdout",
       "text": [
        "\n",
        "   883  |    0.008628  |    0.008258  |     1.044832  |             |  8.4s"
       ]
      },
      {
       "output_type": "stream",
       "stream": "stdout",
       "text": [
        "\n",
        "   884  |    0.008590  |    0.008239  |     1.042638  |             |  8.3s"
       ]
      },
      {
       "output_type": "stream",
       "stream": "stdout",
       "text": [
        "\n",
        "   885  |  \u001b[94m  0.008477\u001b[0m  |    0.008238  |     1.028924  |             |  8.4s"
       ]
      },
      {
       "output_type": "stream",
       "stream": "stdout",
       "text": [
        "\n",
        "   886  |    0.008526  |  \u001b[32m  0.008202\u001b[0m  |     1.039502  |             |  8.4s"
       ]
      },
      {
       "output_type": "stream",
       "stream": "stdout",
       "text": [
        "\n",
        "   887  |    0.008580  |  \u001b[32m  0.008174\u001b[0m  |     1.049622  |             |  8.4s"
       ]
      },
      {
       "output_type": "stream",
       "stream": "stdout",
       "text": [
        "\n",
        "   888  |  \u001b[94m  0.008471\u001b[0m  |    0.008277  |     1.023399  |             |  8.4s"
       ]
      },
      {
       "output_type": "stream",
       "stream": "stdout",
       "text": [
        "\n",
        "   889  |    0.008589  |    0.008193  |     1.048293  |             |  8.4s"
       ]
      },
      {
       "output_type": "stream",
       "stream": "stdout",
       "text": [
        "\n",
        "   890  |    0.008584  |    0.008184  |     1.048950  |             |  8.4s"
       ]
      },
      {
       "output_type": "stream",
       "stream": "stdout",
       "text": [
        "\n",
        "   891  |    0.008523  |  \u001b[32m  0.008159\u001b[0m  |     1.044639  |             |  8.4s"
       ]
      },
      {
       "output_type": "stream",
       "stream": "stdout",
       "text": [
        "\n",
        "   892  |    0.008496  |    0.008185  |     1.038000  |             |  8.4s"
       ]
      },
      {
       "output_type": "stream",
       "stream": "stdout",
       "text": [
        "\n",
        "   893  |    0.008556  |    0.008221  |     1.040755  |             |  8.4s"
       ]
      },
      {
       "output_type": "stream",
       "stream": "stdout",
       "text": [
        "\n",
        "   894  |    0.008485  |    0.008184  |     1.036748  |             |  8.4s"
       ]
      },
      {
       "output_type": "stream",
       "stream": "stdout",
       "text": [
        "\n",
        "   895  |    0.008515  |    0.008173  |     1.041845  |             |  8.4s"
       ]
      },
      {
       "output_type": "stream",
       "stream": "stdout",
       "text": [
        "\n",
        "   896  |    0.008506  |    0.008163  |     1.042016  |             |  8.4s"
       ]
      },
      {
       "output_type": "stream",
       "stream": "stdout",
       "text": [
        "\n",
        "   897  |  \u001b[94m  0.008426\u001b[0m  |  \u001b[32m  0.008157\u001b[0m  |     1.032929  |             |  8.4s"
       ]
      },
      {
       "output_type": "stream",
       "stream": "stdout",
       "text": [
        "\n",
        "   898  |    0.008457  |    0.008175  |     1.034396  |             |  8.5s"
       ]
      },
      {
       "output_type": "stream",
       "stream": "stdout",
       "text": [
        "\n",
        "   899  |    0.008456  |  \u001b[32m  0.008137\u001b[0m  |     1.039158  |             |  8.5s"
       ]
      },
      {
       "output_type": "stream",
       "stream": "stdout",
       "text": [
        "\n",
        "   900  |    0.008488  |    0.008175  |     1.038283  |             |  8.5s"
       ]
      },
      {
       "output_type": "stream",
       "stream": "stdout",
       "text": [
        "\n",
        "   901  |    0.008499  |    0.008165  |     1.040900  |             |  8.4s"
       ]
      },
      {
       "output_type": "stream",
       "stream": "stdout",
       "text": [
        "\n",
        "   902  |    0.008443  |    0.008175  |     1.032794  |             |  8.5s"
       ]
      },
      {
       "output_type": "stream",
       "stream": "stdout",
       "text": [
        "\n",
        "   903  |    0.008456  |    0.008160  |     1.036261  |             |  8.5s"
       ]
      },
      {
       "output_type": "stream",
       "stream": "stdout",
       "text": [
        "\n",
        "   904  |    0.008510  |  \u001b[32m  0.008109\u001b[0m  |     1.049539  |             |  8.5s"
       ]
      },
      {
       "output_type": "stream",
       "stream": "stdout",
       "text": [
        "\n",
        "   905  |    0.008447  |    0.008154  |     1.035828  |             |  8.5s"
       ]
      },
      {
       "output_type": "stream",
       "stream": "stdout",
       "text": [
        "\n",
        "   906  |    0.008439  |    0.008130  |     1.037980  |             |  8.5s"
       ]
      },
      {
       "output_type": "stream",
       "stream": "stdout",
       "text": [
        "\n",
        "   907  |  \u001b[94m  0.008408\u001b[0m  |    0.008156  |     1.030900  |             |  8.4s"
       ]
      },
      {
       "output_type": "stream",
       "stream": "stdout",
       "text": [
        "\n",
        "   908  |  \u001b[94m  0.008407\u001b[0m  |    0.008121  |     1.035123  |             |  8.4s"
       ]
      },
      {
       "output_type": "stream",
       "stream": "stdout",
       "text": [
        "\n",
        "   909  |  \u001b[94m  0.008398\u001b[0m  |    0.008135  |     1.032316  |             |  8.4s"
       ]
      },
      {
       "output_type": "stream",
       "stream": "stdout",
       "text": [
        "\n",
        "   910  |  \u001b[94m  0.008398\u001b[0m  |    0.008137  |     1.032127  |             |  8.4s"
       ]
      },
      {
       "output_type": "stream",
       "stream": "stdout",
       "text": [
        "\n",
        "   911  |    0.008402  |    0.008167  |     1.028808  |             |  8.3s"
       ]
      },
      {
       "output_type": "stream",
       "stream": "stdout",
       "text": [
        "\n",
        "   912  |  \u001b[94m  0.008380\u001b[0m  |    0.008118  |     1.032183  |             |  8.4s"
       ]
      },
      {
       "output_type": "stream",
       "stream": "stdout",
       "text": [
        "\n",
        "   913  |    0.008485  |    0.008141  |     1.042218  |             |  8.4s"
       ]
      },
      {
       "output_type": "stream",
       "stream": "stdout",
       "text": [
        "\n",
        "   914  |  \u001b[94m  0.008360\u001b[0m  |    0.008134  |     1.027857  |             |  8.3s"
       ]
      },
      {
       "output_type": "stream",
       "stream": "stdout",
       "text": [
        "\n",
        "   915  |  \u001b[94m  0.008353\u001b[0m  |    0.008141  |     1.026043  |             |  8.4s"
       ]
      },
      {
       "output_type": "stream",
       "stream": "stdout",
       "text": [
        "\n",
        "   916  |    0.008409  |  \u001b[32m  0.008099\u001b[0m  |     1.038272  |             |  8.4s"
       ]
      },
      {
       "output_type": "stream",
       "stream": "stdout",
       "text": [
        "\n",
        "   917  |    0.008354  |    0.008127  |     1.028001  |             |  8.4s"
       ]
      },
      {
       "output_type": "stream",
       "stream": "stdout",
       "text": [
        "\n",
        "   918  |    0.008399  |    0.008107  |     1.035938  |             |  8.4s"
       ]
      },
      {
       "output_type": "stream",
       "stream": "stdout",
       "text": [
        "\n",
        "   919  |    0.008354  |  \u001b[32m  0.008086\u001b[0m  |     1.033098  |             |  8.4s"
       ]
      },
      {
       "output_type": "stream",
       "stream": "stdout",
       "text": [
        "\n",
        "   920  |    0.008390  |    0.008116  |     1.033835  |             |  8.4s"
       ]
      },
      {
       "output_type": "stream",
       "stream": "stdout",
       "text": [
        "\n",
        "   921  |    0.008398  |  \u001b[32m  0.008047\u001b[0m  |     1.043687  |             |  8.3s"
       ]
      },
      {
       "output_type": "stream",
       "stream": "stdout",
       "text": [
        "\n",
        "   922  |  \u001b[94m  0.008336\u001b[0m  |    0.008089  |     1.030562  |             |  8.2s"
       ]
      },
      {
       "output_type": "stream",
       "stream": "stdout",
       "text": [
        "\n",
        "   923  |    0.008408  |    0.008049  |     1.044690  |             |  8.2s"
       ]
      },
      {
       "output_type": "stream",
       "stream": "stdout",
       "text": [
        "\n",
        "   924  |  \u001b[94m  0.008266\u001b[0m  |    0.008092  |     1.021504  |             |  8.3s"
       ]
      },
      {
       "output_type": "stream",
       "stream": "stdout",
       "text": [
        "\n",
        "   925  |    0.008347  |  \u001b[32m  0.008037\u001b[0m  |     1.038547  |             |  8.2s"
       ]
      },
      {
       "output_type": "stream",
       "stream": "stdout",
       "text": [
        "\n",
        "   926  |  \u001b[94m  0.008247\u001b[0m  |    0.008071  |     1.021837  |             |  8.2s"
       ]
      },
      {
       "output_type": "stream",
       "stream": "stdout",
       "text": [
        "\n",
        "   927  |    0.008344  |    0.008069  |     1.034052  |             |  8.2s"
       ]
      },
      {
       "output_type": "stream",
       "stream": "stdout",
       "text": [
        "\n",
        "   928  |    0.008380  |    0.008080  |     1.037127  |             |  8.2s"
       ]
      },
      {
       "output_type": "stream",
       "stream": "stdout",
       "text": [
        "\n",
        "   929  |  \u001b[94m  0.008219\u001b[0m  |    0.008081  |     1.017014  |             |  8.2s"
       ]
      },
      {
       "output_type": "stream",
       "stream": "stdout",
       "text": [
        "\n",
        "   930  |    0.008300  |    0.008058  |     1.029929  |             |  8.2s"
       ]
      },
      {
       "output_type": "stream",
       "stream": "stdout",
       "text": [
        "\n",
        "   931  |    0.008270  |  \u001b[32m  0.008022\u001b[0m  |     1.030844  |             |  8.2s"
       ]
      },
      {
       "output_type": "stream",
       "stream": "stdout",
       "text": [
        "\n",
        "   932  |    0.008318  |    0.008047  |     1.033660  |             |  8.2s"
       ]
      },
      {
       "output_type": "stream",
       "stream": "stdout",
       "text": [
        "\n",
        "   933  |    0.008287  |  \u001b[32m  0.007980\u001b[0m  |     1.038493  |             |  8.2s"
       ]
      },
      {
       "output_type": "stream",
       "stream": "stdout",
       "text": [
        "\n",
        "   934  |    0.008277  |    0.008122  |     1.019139  |             |  8.2s"
       ]
      },
      {
       "output_type": "stream",
       "stream": "stdout",
       "text": [
        "\n",
        "   935  |    0.008260  |    0.008037  |     1.027731  |             |  8.2s"
       ]
      },
      {
       "output_type": "stream",
       "stream": "stdout",
       "text": [
        "\n",
        "   936  |    0.008295  |    0.008003  |     1.036481  |             |  8.2s"
       ]
      },
      {
       "output_type": "stream",
       "stream": "stdout",
       "text": [
        "\n",
        "   937  |    0.008248  |    0.008017  |     1.028722  |             |  8.2s"
       ]
      },
      {
       "output_type": "stream",
       "stream": "stdout",
       "text": [
        "\n",
        "   938  |    0.008289  |    0.008064  |     1.027841  |             |  8.2s"
       ]
      },
      {
       "output_type": "stream",
       "stream": "stdout",
       "text": [
        "\n",
        "   939  |    0.008223  |    0.008060  |     1.020111  |             |  8.2s"
       ]
      },
      {
       "output_type": "stream",
       "stream": "stdout",
       "text": [
        "\n",
        "   940  |    0.008228  |    0.008034  |     1.024206  |             |  8.2s"
       ]
      },
      {
       "output_type": "stream",
       "stream": "stdout",
       "text": [
        "\n",
        "   941  |    0.008226  |    0.008046  |     1.022489  |             |  8.3s"
       ]
      },
      {
       "output_type": "stream",
       "stream": "stdout",
       "text": [
        "\n",
        "   942  |  \u001b[94m  0.008155\u001b[0m  |    0.008020  |     1.016874  |             |  8.3s"
       ]
      },
      {
       "output_type": "stream",
       "stream": "stdout",
       "text": [
        "\n",
        "   943  |    0.008244  |    0.008008  |     1.029355  |             |  8.2s"
       ]
      },
      {
       "output_type": "stream",
       "stream": "stdout",
       "text": [
        "\n",
        "   944  |    0.008235  |    0.008002  |     1.029056  |             |  8.2s"
       ]
      },
      {
       "output_type": "stream",
       "stream": "stdout",
       "text": [
        "\n",
        "   945  |    0.008199  |  \u001b[32m  0.007977\u001b[0m  |     1.027830  |             |  8.2s"
       ]
      },
      {
       "output_type": "stream",
       "stream": "stdout",
       "text": [
        "\n",
        "   946  |    0.008244  |  \u001b[32m  0.007953\u001b[0m  |     1.036693  |             |  8.2s"
       ]
      },
      {
       "output_type": "stream",
       "stream": "stdout",
       "text": [
        "\n",
        "   947  |    0.008186  |    0.008079  |     1.013222  |             |  8.2s"
       ]
      },
      {
       "output_type": "stream",
       "stream": "stdout",
       "text": [
        "\n",
        "   948  |    0.008308  |    0.008038  |     1.033550  |             |  8.2s"
       ]
      },
      {
       "output_type": "stream",
       "stream": "stdout",
       "text": [
        "\n",
        "   949  |    0.008206  |    0.008032  |     1.021679  |             |  8.2s"
       ]
      },
      {
       "output_type": "stream",
       "stream": "stdout",
       "text": [
        "\n",
        "   950  |  \u001b[94m  0.008112\u001b[0m  |    0.008008  |     1.012957  |             |  8.2s"
       ]
      },
      {
       "output_type": "stream",
       "stream": "stdout",
       "text": [
        "\n",
        "   951  |    0.008168  |    0.008005  |     1.020449  |             |  8.2s"
       ]
      },
      {
       "output_type": "stream",
       "stream": "stdout",
       "text": [
        "\n",
        "   952  |    0.008162  |    0.007973  |     1.023652  |             |  8.2s"
       ]
      },
      {
       "output_type": "stream",
       "stream": "stdout",
       "text": [
        "\n",
        "   953  |  \u001b[94m  0.008094\u001b[0m  |    0.007997  |     1.012054  |             |  8.2s"
       ]
      },
      {
       "output_type": "stream",
       "stream": "stdout",
       "text": [
        "\n",
        "   954  |    0.008157  |    0.007994  |     1.020323  |             |  8.2s"
       ]
      },
      {
       "output_type": "stream",
       "stream": "stdout",
       "text": [
        "\n",
        "   955  |    0.008147  |    0.007985  |     1.020289  |             |  8.2s"
       ]
      },
      {
       "output_type": "stream",
       "stream": "stdout",
       "text": [
        "\n",
        "   956  |    0.008171  |    0.007971  |     1.025101  |             |  8.2s"
       ]
      },
      {
       "output_type": "stream",
       "stream": "stdout",
       "text": [
        "\n",
        "   957  |    0.008097  |    0.007967  |     1.016348  |             |  8.2s"
       ]
      },
      {
       "output_type": "stream",
       "stream": "stdout",
       "text": [
        "\n",
        "   958  |    0.008115  |    0.007984  |     1.016438  |             |  8.2s"
       ]
      },
      {
       "output_type": "stream",
       "stream": "stdout",
       "text": [
        "\n",
        "   959  |    0.008179  |  \u001b[32m  0.007950\u001b[0m  |     1.028894  |             |  8.2s"
       ]
      },
      {
       "output_type": "stream",
       "stream": "stdout",
       "text": [
        "\n",
        "   960  |    0.008100  |  \u001b[32m  0.007924\u001b[0m  |     1.022238  |             |  8.2s"
       ]
      },
      {
       "output_type": "stream",
       "stream": "stdout",
       "text": [
        "\n",
        "   961  |    0.008155  |    0.007969  |     1.023437  |             |  8.2s"
       ]
      },
      {
       "output_type": "stream",
       "stream": "stdout",
       "text": [
        "\n",
        "   962  |    0.008182  |    0.007942  |     1.030241  |             |  8.2s"
       ]
      },
      {
       "output_type": "stream",
       "stream": "stdout",
       "text": [
        "\n",
        "   963  |    0.008117  |    0.007939  |     1.022453  |             |  8.3s"
       ]
      },
      {
       "output_type": "stream",
       "stream": "stdout",
       "text": [
        "\n",
        "   964  |    0.008108  |    0.007952  |     1.019639  |             |  8.2s"
       ]
      },
      {
       "output_type": "stream",
       "stream": "stdout",
       "text": [
        "\n",
        "   965  |    0.008129  |    0.007939  |     1.023916  |             |  8.2s"
       ]
      },
      {
       "output_type": "stream",
       "stream": "stdout",
       "text": [
        "\n",
        "   966  |  \u001b[94m  0.008065\u001b[0m  |    0.007936  |     1.016220  |             |  8.2s"
       ]
      },
      {
       "output_type": "stream",
       "stream": "stdout",
       "text": [
        "\n",
        "   967  |    0.008161  |    0.007938  |     1.028061  |             |  8.2s"
       ]
      },
      {
       "output_type": "stream",
       "stream": "stdout",
       "text": [
        "\n",
        "   968  |  \u001b[94m  0.008050\u001b[0m  |    0.007959  |     1.011485  |             |  8.2s"
       ]
      },
      {
       "output_type": "stream",
       "stream": "stdout",
       "text": [
        "\n",
        "   969  |    0.008108  |  \u001b[32m  0.007901\u001b[0m  |     1.026170  |             |  8.3s"
       ]
      },
      {
       "output_type": "stream",
       "stream": "stdout",
       "text": [
        "\n",
        "   970  |    0.008105  |    0.007945  |     1.020135  |             |  8.4s"
       ]
      },
      {
       "output_type": "stream",
       "stream": "stdout",
       "text": [
        "\n",
        "   971  |    0.008075  |    0.007914  |     1.020251  |             |  8.4s"
       ]
      },
      {
       "output_type": "stream",
       "stream": "stdout",
       "text": [
        "\n",
        "   972  |  \u001b[94m  0.008005\u001b[0m  |    0.007912  |     1.011811  |             |  8.4s"
       ]
      },
      {
       "output_type": "stream",
       "stream": "stdout",
       "text": [
        "\n",
        "   973  |    0.008055  |    0.007903  |     1.019309  |             |  8.2s"
       ]
      },
      {
       "output_type": "stream",
       "stream": "stdout",
       "text": [
        "\n",
        "   974  |    0.008089  |    0.007967  |     1.015322  |             |  8.2s"
       ]
      },
      {
       "output_type": "stream",
       "stream": "stdout",
       "text": [
        "\n",
        "   975  |  \u001b[94m  0.007998\u001b[0m  |  \u001b[32m  0.007869\u001b[0m  |     1.016415  |             |  8.2s"
       ]
      },
      {
       "output_type": "stream",
       "stream": "stdout",
       "text": [
        "\n",
        "   976  |    0.008027  |  \u001b[32m  0.007837\u001b[0m  |     1.024238  |             |  8.2s"
       ]
      },
      {
       "output_type": "stream",
       "stream": "stdout",
       "text": [
        "\n",
        "   977  |    0.008005  |    0.007903  |     1.012887  |             |  8.2s"
       ]
      },
      {
       "output_type": "stream",
       "stream": "stdout",
       "text": [
        "\n",
        "   978  |    0.008029  |    0.007907  |     1.015470  |             |  8.2s"
       ]
      },
      {
       "output_type": "stream",
       "stream": "stdout",
       "text": [
        "\n",
        "   979  |    0.008040  |    0.007894  |     1.018545  |             |  8.2s"
       ]
      },
      {
       "output_type": "stream",
       "stream": "stdout",
       "text": [
        "\n",
        "   980  |    0.008040  |    0.007884  |     1.019869  |             |  8.2s"
       ]
      },
      {
       "output_type": "stream",
       "stream": "stdout",
       "text": [
        "\n",
        "   981  |    0.008070  |    0.007913  |     1.019798  |             |  8.2s"
       ]
      },
      {
       "output_type": "stream",
       "stream": "stdout",
       "text": [
        "\n",
        "   982  |    0.008017  |    0.007901  |     1.014614  |             |  8.2s"
       ]
      },
      {
       "output_type": "stream",
       "stream": "stdout",
       "text": [
        "\n",
        "   983  |    0.008013  |    0.007866  |     1.018682  |             |  8.2s"
       ]
      },
      {
       "output_type": "stream",
       "stream": "stdout",
       "text": [
        "\n",
        "   984  |  \u001b[94m  0.007998\u001b[0m  |    0.007902  |     1.012244  |             |  8.2s"
       ]
      },
      {
       "output_type": "stream",
       "stream": "stdout",
       "text": [
        "\n",
        "   985  |    0.008003  |    0.007897  |     1.013393  |             |  8.2s"
       ]
      },
      {
       "output_type": "stream",
       "stream": "stdout",
       "text": [
        "\n",
        "   986  |    0.008074  |    0.007913  |     1.020312  |             |  8.2s"
       ]
      },
      {
       "output_type": "stream",
       "stream": "stdout",
       "text": [
        "\n",
        "   987  |  \u001b[94m  0.007898\u001b[0m  |    0.007894  |     1.000455  |             |  8.2s"
       ]
      },
      {
       "output_type": "stream",
       "stream": "stdout",
       "text": [
        "\n",
        "   988  |    0.008012  |    0.007866  |     1.018535  |             |  8.2s"
       ]
      },
      {
       "output_type": "stream",
       "stream": "stdout",
       "text": [
        "\n",
        "   989  |    0.007977  |    0.007846  |     1.016757  |             |  8.2s"
       ]
      },
      {
       "output_type": "stream",
       "stream": "stdout",
       "text": [
        "\n",
        "   990  |    0.007974  |    0.007938  |     1.004557  |             |  8.2s"
       ]
      },
      {
       "output_type": "stream",
       "stream": "stdout",
       "text": [
        "\n",
        "   991  |    0.007979  |    0.007860  |     1.015150  |             |  8.2s"
       ]
      },
      {
       "output_type": "stream",
       "stream": "stdout",
       "text": [
        "\n",
        "   992  |    0.007939  |    0.007913  |     1.003256  |             |  8.2s"
       ]
      },
      {
       "output_type": "stream",
       "stream": "stdout",
       "text": [
        "\n",
        "   993  |  \u001b[94m  0.007884\u001b[0m  |    0.007843  |     1.005175  |             |  8.2s"
       ]
      },
      {
       "output_type": "stream",
       "stream": "stdout",
       "text": [
        "\n",
        "   994  |    0.007968  |    0.007852  |     1.014698  |             |  8.2s"
       ]
      },
      {
       "output_type": "stream",
       "stream": "stdout",
       "text": [
        "\n",
        "   995  |    0.008005  |    0.007893  |     1.014227  |             |  8.2s"
       ]
      },
      {
       "output_type": "stream",
       "stream": "stdout",
       "text": [
        "\n",
        "   996  |    0.007971  |  \u001b[32m  0.007831\u001b[0m  |     1.017853  |             |  8.2s"
       ]
      },
      {
       "output_type": "stream",
       "stream": "stdout",
       "text": [
        "\n",
        "   997  |    0.007940  |  \u001b[32m  0.007809\u001b[0m  |     1.016799  |             |  8.2s"
       ]
      },
      {
       "output_type": "stream",
       "stream": "stdout",
       "text": [
        "\n",
        "   998  |    0.007913  |  \u001b[32m  0.007805\u001b[0m  |     1.013903  |             |  8.3s"
       ]
      },
      {
       "output_type": "stream",
       "stream": "stdout",
       "text": [
        "\n",
        "   999  |    0.007908  |    0.007856  |     1.006626  |             |  8.3s"
       ]
      },
      {
       "output_type": "stream",
       "stream": "stdout",
       "text": [
        "\n",
        "  1000  |    0.007952  |    0.007827  |     1.015960  |             |  8.2s"
       ]
      },
      {
       "output_type": "stream",
       "stream": "stdout",
       "text": [
        "\n",
        "  1001  |    0.007970  |    0.007806  |     1.020991  |             |  8.2s"
       ]
      },
      {
       "output_type": "stream",
       "stream": "stdout",
       "text": [
        "\n",
        "  1002  |    0.007955  |    0.007822  |     1.016962  |             |  8.2s"
       ]
      },
      {
       "output_type": "stream",
       "stream": "stdout",
       "text": [
        "\n",
        "  1003  |    0.007893  |    0.007940  |     0.994152  |             |  8.2s"
       ]
      },
      {
       "output_type": "stream",
       "stream": "stdout",
       "text": [
        "\n",
        "  1004  |    0.007946  |  \u001b[32m  0.007798\u001b[0m  |     1.018949  |             |  8.2s"
       ]
      },
      {
       "output_type": "stream",
       "stream": "stdout",
       "text": [
        "\n",
        "  1005  |  \u001b[94m  0.007863\u001b[0m  |    0.007888  |     0.996833  |             |  8.2s"
       ]
      },
      {
       "output_type": "stream",
       "stream": "stdout",
       "text": [
        "\n",
        "  1006  |    0.007901  |    0.007840  |     1.007671  |             |  8.2s"
       ]
      },
      {
       "output_type": "stream",
       "stream": "stdout",
       "text": [
        "\n",
        "  1007  |    0.007865  |    0.007802  |     1.008056  |             |  8.2s"
       ]
      },
      {
       "output_type": "stream",
       "stream": "stdout",
       "text": [
        "\n",
        "  1008  |    0.007928  |    0.007850  |     1.009893  |             |  8.2s"
       ]
      },
      {
       "output_type": "stream",
       "stream": "stdout",
       "text": [
        "\n",
        "  1009  |    0.007896  |    0.007823  |     1.009279  |             |  8.2s"
       ]
      },
      {
       "output_type": "stream",
       "stream": "stdout",
       "text": [
        "\n",
        "  1010  |  \u001b[94m  0.007854\u001b[0m  |    0.007839  |     1.001956  |             |  8.2s"
       ]
      },
      {
       "output_type": "stream",
       "stream": "stdout",
       "text": [
        "\n",
        "  1011  |    0.007896  |    0.007811  |     1.010899  |             |  8.2s"
       ]
      },
      {
       "output_type": "stream",
       "stream": "stdout",
       "text": [
        "\n",
        "  1012  |    0.007861  |  \u001b[32m  0.007762\u001b[0m  |     1.012760  |             |  8.2s"
       ]
      },
      {
       "output_type": "stream",
       "stream": "stdout",
       "text": [
        "\n",
        "  1013  |  \u001b[94m  0.007839\u001b[0m  |    0.007784  |     1.007048  |             |  8.2s"
       ]
      },
      {
       "output_type": "stream",
       "stream": "stdout",
       "text": [
        "\n",
        "  1014  |    0.007862  |    0.007814  |     1.006134  |             |  8.3s"
       ]
      },
      {
       "output_type": "stream",
       "stream": "stdout",
       "text": [
        "\n",
        "  1015  |  \u001b[94m  0.007809\u001b[0m  |    0.007771  |     1.004906  |             |  8.4s"
       ]
      },
      {
       "output_type": "stream",
       "stream": "stdout",
       "text": [
        "\n",
        "  1016  |    0.007901  |    0.007828  |     1.009308  |             |  8.4s"
       ]
      },
      {
       "output_type": "stream",
       "stream": "stdout",
       "text": [
        "\n",
        "  1017  |    0.007877  |    0.007829  |     1.006133  |             |  8.4s"
       ]
      },
      {
       "output_type": "stream",
       "stream": "stdout",
       "text": [
        "\n",
        "  1018  |    0.007847  |  \u001b[32m  0.007759\u001b[0m  |     1.011380  |             |  8.5s"
       ]
      },
      {
       "output_type": "stream",
       "stream": "stdout",
       "text": [
        "\n",
        "  1019  |    0.007817  |  \u001b[32m  0.007749\u001b[0m  |     1.008786  |             |  8.4s"
       ]
      },
      {
       "output_type": "stream",
       "stream": "stdout",
       "text": [
        "\n",
        "  1020  |    0.007879  |    0.007757  |     1.015731  |             |  8.4s"
       ]
      },
      {
       "output_type": "stream",
       "stream": "stdout",
       "text": [
        "\n",
        "  1021  |  \u001b[94m  0.007798\u001b[0m  |    0.007780  |     1.002233  |             |  8.4s"
       ]
      },
      {
       "output_type": "stream",
       "stream": "stdout",
       "text": [
        "\n",
        "  1022  |    0.007878  |    0.007754  |     1.016042  |             |  8.3s"
       ]
      },
      {
       "output_type": "stream",
       "stream": "stdout",
       "text": [
        "\n",
        "  1023  |  \u001b[94m  0.007782\u001b[0m  |  \u001b[32m  0.007740\u001b[0m  |     1.005456  |             |  8.3s"
       ]
      },
      {
       "output_type": "stream",
       "stream": "stdout",
       "text": [
        "\n",
        "  1024  |    0.007831  |    0.007756  |     1.009685  |             |  8.4s"
       ]
      },
      {
       "output_type": "stream",
       "stream": "stdout",
       "text": [
        "\n",
        "  1025  |    0.007827  |    0.007759  |     1.008743  |             |  8.4s"
       ]
      },
      {
       "output_type": "stream",
       "stream": "stdout",
       "text": [
        "\n",
        "  1026  |    0.007787  |    0.007753  |     1.004361  |             |  8.4s"
       ]
      },
      {
       "output_type": "stream",
       "stream": "stdout",
       "text": [
        "\n",
        "  1027  |    0.007786  |    0.007760  |     1.003413  |             |  8.4s"
       ]
      },
      {
       "output_type": "stream",
       "stream": "stdout",
       "text": [
        "\n",
        "  1028  |    0.007869  |    0.007811  |     1.007455  |             |  8.4s"
       ]
      },
      {
       "output_type": "stream",
       "stream": "stdout",
       "text": [
        "\n",
        "  1029  |    0.007822  |    0.007786  |     1.004548  |             |  8.5s"
       ]
      },
      {
       "output_type": "stream",
       "stream": "stdout",
       "text": [
        "\n",
        "  1030  |  \u001b[94m  0.007733\u001b[0m  |    0.007775  |     0.994596  |             |  8.5s"
       ]
      },
      {
       "output_type": "stream",
       "stream": "stdout",
       "text": [
        "\n",
        "  1031  |    0.007848  |    0.007751  |     1.012505  |             |  8.4s"
       ]
      },
      {
       "output_type": "stream",
       "stream": "stdout",
       "text": [
        "\n",
        "  1032  |    0.007829  |  \u001b[32m  0.007720\u001b[0m  |     1.014109  |             |  8.4s"
       ]
      },
      {
       "output_type": "stream",
       "stream": "stdout",
       "text": [
        "\n",
        "  1033  |    0.007840  |    0.007735  |     1.013658  |             |  8.4s"
       ]
      },
      {
       "output_type": "stream",
       "stream": "stdout",
       "text": [
        "\n",
        "  1034  |  \u001b[94m  0.007727\u001b[0m  |    0.007740  |     0.998361  |             |  8.4s"
       ]
      },
      {
       "output_type": "stream",
       "stream": "stdout",
       "text": [
        "\n",
        "  1035  |    0.007750  |    0.007750  |     0.999932  |             |  8.4s"
       ]
      },
      {
       "output_type": "stream",
       "stream": "stdout",
       "text": [
        "\n",
        "  1036  |    0.007775  |    0.007743  |     1.004039  |             |  8.4s"
       ]
      },
      {
       "output_type": "stream",
       "stream": "stdout",
       "text": [
        "\n",
        "  1037  |  \u001b[94m  0.007708\u001b[0m  |    0.007721  |     0.998325  |             |  8.4s"
       ]
      },
      {
       "output_type": "stream",
       "stream": "stdout",
       "text": [
        "\n",
        "  1038  |    0.007733  |    0.007730  |     1.000382  |             |  8.4s"
       ]
      },
      {
       "output_type": "stream",
       "stream": "stdout",
       "text": [
        "\n",
        "  1039  |    0.007783  |    0.007748  |     1.004474  |             |  8.4s"
       ]
      },
      {
       "output_type": "stream",
       "stream": "stdout",
       "text": [
        "\n",
        "  1040  |    0.007724  |    0.007735  |     0.998595  |             |  8.3s"
       ]
      },
      {
       "output_type": "stream",
       "stream": "stdout",
       "text": [
        "\n",
        "  1041  |  \u001b[94m  0.007701\u001b[0m  |  \u001b[32m  0.007685\u001b[0m  |     1.002124  |             |  8.4s"
       ]
      },
      {
       "output_type": "stream",
       "stream": "stdout",
       "text": [
        "\n",
        "  1042  |  \u001b[94m  0.007694\u001b[0m  |    0.007780  |     0.988884  |             |  8.4s"
       ]
      },
      {
       "output_type": "stream",
       "stream": "stdout",
       "text": [
        "\n",
        "  1043  |    0.007763  |    0.007716  |     1.006092  |             |  8.4s"
       ]
      },
      {
       "output_type": "stream",
       "stream": "stdout",
       "text": [
        "\n",
        "  1044  |  \u001b[94m  0.007670\u001b[0m  |    0.007717  |     0.993945  |             |  8.4s"
       ]
      },
      {
       "output_type": "stream",
       "stream": "stdout",
       "text": [
        "\n",
        "  1045  |    0.007684  |    0.007697  |     0.998413  |             |  8.4s"
       ]
      },
      {
       "output_type": "stream",
       "stream": "stdout",
       "text": [
        "\n",
        "  1046  |    0.007733  |    0.007728  |     1.000625  |             |  8.4s"
       ]
      },
      {
       "output_type": "stream",
       "stream": "stdout",
       "text": [
        "\n",
        "  1047  |    0.007703  |    0.007725  |     0.997172  |             |  8.4s"
       ]
      },
      {
       "output_type": "stream",
       "stream": "stdout",
       "text": [
        "\n",
        "  1048  |  \u001b[94m  0.007651\u001b[0m  |    0.007710  |     0.992419  |             |  8.4s"
       ]
      },
      {
       "output_type": "stream",
       "stream": "stdout",
       "text": [
        "\n",
        "  1049  |    0.007727  |  \u001b[32m  0.007673\u001b[0m  |     1.006953  |             |  8.4s"
       ]
      },
      {
       "output_type": "stream",
       "stream": "stdout",
       "text": [
        "\n",
        "  1050  |    0.007685  |    0.007686  |     0.999808  |             |  8.3s"
       ]
      },
      {
       "output_type": "stream",
       "stream": "stdout",
       "text": [
        "\n",
        "  1051  |    0.007720  |    0.007703  |     1.002129  |             |  8.3s"
       ]
      },
      {
       "output_type": "stream",
       "stream": "stdout",
       "text": [
        "\n",
        "  1052  |    0.007689  |    0.007727  |     0.995109  |             |  8.3s"
       ]
      },
      {
       "output_type": "stream",
       "stream": "stdout",
       "text": [
        "\n",
        "  1053  |    0.007661  |    0.007709  |     0.993755  |             |  8.3s"
       ]
      },
      {
       "output_type": "stream",
       "stream": "stdout",
       "text": [
        "\n",
        "  1054  |    0.007656  |    0.007718  |     0.991991  |             |  8.3s"
       ]
      },
      {
       "output_type": "stream",
       "stream": "stdout",
       "text": [
        "\n",
        "  1055  |    0.007674  |  \u001b[32m  0.007673\u001b[0m  |     1.000132  |             |  8.3s"
       ]
      },
      {
       "output_type": "stream",
       "stream": "stdout",
       "text": [
        "\n",
        "  1056  |    0.007692  |    0.007731  |     0.994979  |             |  8.3s"
       ]
      },
      {
       "output_type": "stream",
       "stream": "stdout",
       "text": [
        "\n",
        "  1057  |    0.007686  |    0.007695  |     0.998845  |             |  8.3s"
       ]
      },
      {
       "output_type": "stream",
       "stream": "stdout",
       "text": [
        "\n",
        "  1058  |  \u001b[94m  0.007639\u001b[0m  |  \u001b[32m  0.007652\u001b[0m  |     0.998302  |             |  8.3s"
       ]
      },
      {
       "output_type": "stream",
       "stream": "stdout",
       "text": [
        "\n",
        "  1059  |  \u001b[94m  0.007604\u001b[0m  |    0.007714  |     0.985852  |             |  8.3s"
       ]
      },
      {
       "output_type": "stream",
       "stream": "stdout",
       "text": [
        "\n",
        "  1060  |    0.007621  |    0.007677  |     0.992598  |             |  8.3s"
       ]
      },
      {
       "output_type": "stream",
       "stream": "stdout",
       "text": [
        "\n",
        "  1061  |    0.007641  |  \u001b[32m  0.007639\u001b[0m  |     1.000229  |             |  8.3s"
       ]
      },
      {
       "output_type": "stream",
       "stream": "stdout",
       "text": [
        "\n",
        "  1062  |    0.007633  |    0.007688  |     0.992818  |             |  8.3s"
       ]
      },
      {
       "output_type": "stream",
       "stream": "stdout",
       "text": [
        "\n",
        "  1063  |    0.007662  |    0.007654  |     1.001044  |             |  8.2s"
       ]
      },
      {
       "output_type": "stream",
       "stream": "stdout",
       "text": [
        "\n",
        "  1064  |    0.007619  |    0.007659  |     0.994772  |             |  8.2s"
       ]
      },
      {
       "output_type": "stream",
       "stream": "stdout",
       "text": [
        "\n",
        "  1065  |    0.007633  |    0.007654  |     0.997260  |             |  8.2s"
       ]
      },
      {
       "output_type": "stream",
       "stream": "stdout",
       "text": [
        "\n",
        "  1066  |    0.007613  |    0.007727  |     0.985340  |             |  8.2s"
       ]
      },
      {
       "output_type": "stream",
       "stream": "stdout",
       "text": [
        "\n",
        "  1067  |  \u001b[94m  0.007587\u001b[0m  |    0.007650  |     0.991708  |             |  8.2s"
       ]
      },
      {
       "output_type": "stream",
       "stream": "stdout",
       "text": [
        "\n",
        "  1068  |    0.007654  |    0.007663  |     0.998702  |             |  8.2s"
       ]
      },
      {
       "output_type": "stream",
       "stream": "stdout",
       "text": [
        "\n",
        "  1069  |    0.007649  |    0.007664  |     0.998029  |             |  8.2s"
       ]
      },
      {
       "output_type": "stream",
       "stream": "stdout",
       "text": [
        "\n",
        "  1070  |  \u001b[94m  0.007561\u001b[0m  |    0.007659  |     0.987124  |             |  8.2s"
       ]
      },
      {
       "output_type": "stream",
       "stream": "stdout",
       "text": [
        "\n",
        "  1071  |  \u001b[94m  0.007550\u001b[0m  |    0.007699  |     0.980668  |             |  8.2s"
       ]
      },
      {
       "output_type": "stream",
       "stream": "stdout",
       "text": [
        "\n",
        "  1072  |    0.007572  |  \u001b[32m  0.007638\u001b[0m  |     0.991303  |             |  8.2s"
       ]
      },
      {
       "output_type": "stream",
       "stream": "stdout",
       "text": [
        "\n",
        "  1073  |    0.007554  |    0.007664  |     0.985596  |             |  8.2s"
       ]
      },
      {
       "output_type": "stream",
       "stream": "stdout",
       "text": [
        "\n",
        "  1074  |    0.007601  |    0.007649  |     0.993681  |             |  8.2s"
       ]
      },
      {
       "output_type": "stream",
       "stream": "stdout",
       "text": [
        "\n",
        "  1075  |  \u001b[94m  0.007550\u001b[0m  |  \u001b[32m  0.007636\u001b[0m  |     0.988660  |             |  8.2s"
       ]
      },
      {
       "output_type": "stream",
       "stream": "stdout",
       "text": [
        "\n",
        "  1076  |  \u001b[94m  0.007539\u001b[0m  |  \u001b[32m  0.007607\u001b[0m  |     0.990966  |             |  8.3s"
       ]
      },
      {
       "output_type": "stream",
       "stream": "stdout",
       "text": [
        "\n",
        "  1077  |    0.007561  |    0.007653  |     0.987998  |             |  8.3s"
       ]
      },
      {
       "output_type": "stream",
       "stream": "stdout",
       "text": [
        "\n",
        "  1078  |    0.007599  |    0.007618  |     0.997554  |             |  8.3s"
       ]
      },
      {
       "output_type": "stream",
       "stream": "stdout",
       "text": [
        "\n",
        "  1079  |    0.007558  |    0.007642  |     0.989066  |             |  8.3s"
       ]
      },
      {
       "output_type": "stream",
       "stream": "stdout",
       "text": [
        "\n",
        "  1080  |  \u001b[94m  0.007525\u001b[0m  |    0.007634  |     0.985793  |             |  8.2s"
       ]
      },
      {
       "output_type": "stream",
       "stream": "stdout",
       "text": [
        "\n",
        "  1081  |  \u001b[94m  0.007508\u001b[0m  |  \u001b[32m  0.007582\u001b[0m  |     0.990300  |             |  8.2s"
       ]
      },
      {
       "output_type": "stream",
       "stream": "stdout",
       "text": [
        "\n",
        "  1082  |    0.007568  |    0.007633  |     0.991504  |             |  8.2s"
       ]
      },
      {
       "output_type": "stream",
       "stream": "stdout",
       "text": [
        "\n",
        "  1083  |  \u001b[94m  0.007473\u001b[0m  |    0.007653  |     0.976384  |             |  8.2s"
       ]
      },
      {
       "output_type": "stream",
       "stream": "stdout",
       "text": [
        "\n",
        "  1084  |    0.007534  |    0.007649  |     0.984947  |             |  8.2s"
       ]
      },
      {
       "output_type": "stream",
       "stream": "stdout",
       "text": [
        "\n",
        "  1085  |    0.007545  |    0.007600  |     0.992816  |             |  8.2s"
       ]
      },
      {
       "output_type": "stream",
       "stream": "stdout",
       "text": [
        "\n",
        "  1086  |    0.007502  |  \u001b[32m  0.007575\u001b[0m  |     0.990327  |             |  8.2s"
       ]
      },
      {
       "output_type": "stream",
       "stream": "stdout",
       "text": [
        "\n",
        "  1087  |    0.007573  |    0.007636  |     0.991827  |             |  8.2s"
       ]
      },
      {
       "output_type": "stream",
       "stream": "stdout",
       "text": [
        "\n",
        "  1088  |    0.007495  |    0.007592  |     0.987186  |             |  8.2s"
       ]
      },
      {
       "output_type": "stream",
       "stream": "stdout",
       "text": [
        "\n",
        "  1089  |    0.007511  |    0.007600  |     0.988240  |             |  8.2s"
       ]
      },
      {
       "output_type": "stream",
       "stream": "stdout",
       "text": [
        "\n",
        "  1090  |  \u001b[94m  0.007432\u001b[0m  |    0.007590  |     0.979142  |             |  8.2s"
       ]
      },
      {
       "output_type": "stream",
       "stream": "stdout",
       "text": [
        "\n",
        "  1091  |    0.007472  |    0.007596  |     0.983573  |             |  8.2s"
       ]
      },
      {
       "output_type": "stream",
       "stream": "stdout",
       "text": [
        "\n",
        "  1092  |    0.007587  |    0.007607  |     0.997436  |             |  8.2s"
       ]
      },
      {
       "output_type": "stream",
       "stream": "stdout",
       "text": [
        "\n",
        "  1093  |    0.007443  |  \u001b[32m  0.007570\u001b[0m  |     0.983150  |             |  8.2s"
       ]
      },
      {
       "output_type": "stream",
       "stream": "stdout",
       "text": [
        "\n",
        "  1094  |    0.007486  |    0.007608  |     0.983937  |             |  8.2s"
       ]
      },
      {
       "output_type": "stream",
       "stream": "stdout",
       "text": [
        "\n",
        "  1095  |    0.007504  |  \u001b[32m  0.007554\u001b[0m  |     0.993324  |             |  8.2s"
       ]
      },
      {
       "output_type": "stream",
       "stream": "stdout",
       "text": [
        "\n",
        "  1096  |    0.007519  |    0.007637  |     0.984643  |             |  8.2s"
       ]
      },
      {
       "output_type": "stream",
       "stream": "stdout",
       "text": [
        "\n",
        "  1097  |    0.007468  |    0.007612  |     0.981088  |             |  8.2s"
       ]
      },
      {
       "output_type": "stream",
       "stream": "stdout",
       "text": [
        "\n",
        "  1098  |    0.007437  |    0.007598  |     0.978834  |             |  8.2s"
       ]
      },
      {
       "output_type": "stream",
       "stream": "stdout",
       "text": [
        "\n",
        "  1099  |  \u001b[94m  0.007423\u001b[0m  |    0.007579  |     0.979390  |             |  8.2s"
       ]
      },
      {
       "output_type": "stream",
       "stream": "stdout",
       "text": [
        "\n",
        "  1100  |    0.007437  |  \u001b[32m  0.007521\u001b[0m  |     0.988903  |             |  8.2s"
       ]
      },
      {
       "output_type": "stream",
       "stream": "stdout",
       "text": [
        "\n",
        "  1101  |    0.007446  |    0.007623  |     0.976782  |             |  8.2s"
       ]
      },
      {
       "output_type": "stream",
       "stream": "stdout",
       "text": [
        "\n",
        "  1102  |  \u001b[94m  0.007410\u001b[0m  |    0.007535  |     0.983357  |             |  8.2s"
       ]
      },
      {
       "output_type": "stream",
       "stream": "stdout",
       "text": [
        "\n",
        "  1103  |    0.007439  |    0.007551  |     0.985158  |             |  8.2s"
       ]
      },
      {
       "output_type": "stream",
       "stream": "stdout",
       "text": [
        "\n",
        "  1104  |  \u001b[94m  0.007402\u001b[0m  |    0.007604  |     0.973419  |             |  8.3s"
       ]
      },
      {
       "output_type": "stream",
       "stream": "stdout",
       "text": [
        "\n",
        "  1105  |    0.007423  |    0.007582  |     0.979040  |             |  8.3s"
       ]
      },
      {
       "output_type": "stream",
       "stream": "stdout",
       "text": [
        "\n",
        "  1106  |    0.007450  |    0.007579  |     0.982976  |             |  8.3s"
       ]
      },
      {
       "output_type": "stream",
       "stream": "stdout",
       "text": [
        "\n",
        "  1107  |    0.007408  |    0.007521  |     0.984976  |             |  8.2s"
       ]
      },
      {
       "output_type": "stream",
       "stream": "stdout",
       "text": [
        "\n",
        "  1108  |    0.007446  |    0.007547  |     0.986652  |             |  8.2s"
       ]
      },
      {
       "output_type": "stream",
       "stream": "stdout",
       "text": [
        "\n",
        "  1109  |    0.007422  |    0.007559  |     0.981996  |             |  8.3s"
       ]
      },
      {
       "output_type": "stream",
       "stream": "stdout",
       "text": [
        "\n",
        "  1110  |    0.007416  |    0.007590  |     0.977164  |             |  8.3s"
       ]
      },
      {
       "output_type": "stream",
       "stream": "stdout",
       "text": [
        "\n",
        "  1111  |    0.007410  |    0.007572  |     0.978687  |             |  8.2s"
       ]
      },
      {
       "output_type": "stream",
       "stream": "stdout",
       "text": [
        "\n",
        "  1112  |  \u001b[94m  0.007383\u001b[0m  |    0.007567  |     0.975691  |             |  8.2s"
       ]
      },
      {
       "output_type": "stream",
       "stream": "stdout",
       "text": [
        "\n",
        "  1113  |  \u001b[94m  0.007348\u001b[0m  |    0.007535  |     0.975207  |             |  8.3s"
       ]
      },
      {
       "output_type": "stream",
       "stream": "stdout",
       "text": [
        "\n",
        "  1114  |    0.007359  |    0.007613  |     0.966632  |             |  8.3s"
       ]
      },
      {
       "output_type": "stream",
       "stream": "stdout",
       "text": [
        "\n",
        "  1115  |    0.007412  |    0.007526  |     0.984851  |             |  8.2s"
       ]
      },
      {
       "output_type": "stream",
       "stream": "stdout",
       "text": [
        "\n",
        "  1116  |    0.007394  |    0.007567  |     0.977095  |             |  8.2s"
       ]
      },
      {
       "output_type": "stream",
       "stream": "stdout",
       "text": [
        "\n",
        "  1117  |  \u001b[94m  0.007331\u001b[0m  |  \u001b[32m  0.007507\u001b[0m  |     0.976640  |             |  8.3s"
       ]
      },
      {
       "output_type": "stream",
       "stream": "stdout",
       "text": [
        "\n",
        "  1118  |  \u001b[94m  0.007330\u001b[0m  |    0.007555  |     0.970220  |             |  8.4s"
       ]
      },
      {
       "output_type": "stream",
       "stream": "stdout",
       "text": [
        "\n",
        "  1119  |    0.007399  |    0.007528  |     0.982917  |             |  8.3s"
       ]
      },
      {
       "output_type": "stream",
       "stream": "stdout",
       "text": [
        "\n",
        "  1120  |    0.007423  |    0.007561  |     0.981845  |             |  8.3s"
       ]
      },
      {
       "output_type": "stream",
       "stream": "stdout",
       "text": [
        "\n",
        "  1121  |    0.007381  |    0.007518  |     0.981799  |             |  8.2s"
       ]
      },
      {
       "output_type": "stream",
       "stream": "stdout",
       "text": [
        "\n",
        "  1122  |    0.007390  |    0.007525  |     0.982035  |             |  8.2s"
       ]
      },
      {
       "output_type": "stream",
       "stream": "stdout",
       "text": [
        "\n",
        "  1123  |  \u001b[94m  0.007290\u001b[0m  |    0.007550  |     0.965547  |             |  8.2s"
       ]
      },
      {
       "output_type": "stream",
       "stream": "stdout",
       "text": [
        "\n",
        "  1124  |    0.007312  |  \u001b[32m  0.007495\u001b[0m  |     0.975562  |             |  8.2s"
       ]
      },
      {
       "output_type": "stream",
       "stream": "stdout",
       "text": [
        "\n",
        "  1125  |    0.007294  |    0.007517  |     0.970262  |             |  8.2s"
       ]
      },
      {
       "output_type": "stream",
       "stream": "stdout",
       "text": [
        "\n",
        "  1126  |    0.007318  |    0.007547  |     0.969680  |             |  8.2s"
       ]
      },
      {
       "output_type": "stream",
       "stream": "stdout",
       "text": [
        "\n",
        "  1127  |    0.007401  |    0.007550  |     0.980217  |             |  8.2s"
       ]
      },
      {
       "output_type": "stream",
       "stream": "stdout",
       "text": [
        "\n",
        "  1128  |    0.007323  |    0.007509  |     0.975282  |             |  8.3s"
       ]
      },
      {
       "output_type": "stream",
       "stream": "stdout",
       "text": [
        "\n",
        "  1129  |    0.007346  |    0.007600  |     0.966534  |             |  8.4s"
       ]
      },
      {
       "output_type": "stream",
       "stream": "stdout",
       "text": [
        "\n",
        "  1130  |    0.007312  |    0.007552  |     0.968150  |             |  8.4s"
       ]
      },
      {
       "output_type": "stream",
       "stream": "stdout",
       "text": [
        "\n",
        "  1131  |    0.007363  |    0.007501  |     0.981633  |             |  8.4s"
       ]
      },
      {
       "output_type": "stream",
       "stream": "stdout",
       "text": [
        "\n",
        "  1132  |  \u001b[94m  0.007271\u001b[0m  |    0.007515  |     0.967506  |             |  8.4s"
       ]
      },
      {
       "output_type": "stream",
       "stream": "stdout",
       "text": [
        "\n",
        "  1133  |  \u001b[94m  0.007268\u001b[0m  |    0.007511  |     0.967611  |             |  8.4s"
       ]
      },
      {
       "output_type": "stream",
       "stream": "stdout",
       "text": [
        "\n",
        "  1134  |  \u001b[94m  0.007261\u001b[0m  |    0.007496  |     0.968757  |             |  8.4s"
       ]
      },
      {
       "output_type": "stream",
       "stream": "stdout",
       "text": [
        "\n",
        "  1135  |    0.007284  |    0.007516  |     0.969145  |             |  8.4s"
       ]
      },
      {
       "output_type": "stream",
       "stream": "stdout",
       "text": [
        "\n",
        "  1136  |    0.007290  |    0.007550  |     0.965658  |             |  8.4s"
       ]
      },
      {
       "output_type": "stream",
       "stream": "stdout",
       "text": [
        "\n",
        "  1137  |    0.007347  |    0.007533  |     0.975323  |             |  8.4s"
       ]
      },
      {
       "output_type": "stream",
       "stream": "stdout",
       "text": [
        "\n",
        "  1138  |    0.007270  |  \u001b[32m  0.007492\u001b[0m  |     0.970356  |             |  8.3s"
       ]
      },
      {
       "output_type": "stream",
       "stream": "stdout",
       "text": [
        "\n",
        "  1139  |  \u001b[94m  0.007250\u001b[0m  |    0.007509  |     0.965493  |             |  8.2s"
       ]
      },
      {
       "output_type": "stream",
       "stream": "stdout",
       "text": [
        "\n",
        "  1140  |    0.007271  |  \u001b[32m  0.007488\u001b[0m  |     0.970977  |             |  8.2s"
       ]
      },
      {
       "output_type": "stream",
       "stream": "stdout",
       "text": [
        "\n",
        "  1141  |    0.007268  |    0.007503  |     0.968592  |             |  8.3s"
       ]
      },
      {
       "output_type": "stream",
       "stream": "stdout",
       "text": [
        "\n",
        "  1142  |    0.007315  |  \u001b[32m  0.007455\u001b[0m  |     0.981215  |             |  8.4s"
       ]
      },
      {
       "output_type": "stream",
       "stream": "stdout",
       "text": [
        "\n",
        "  1143  |    0.007300  |    0.007475  |     0.976565  |             |  8.4s"
       ]
      },
      {
       "output_type": "stream",
       "stream": "stdout",
       "text": [
        "\n",
        "  1144  |    0.007309  |    0.007485  |     0.976480  |             |  8.4s"
       ]
      },
      {
       "output_type": "stream",
       "stream": "stdout",
       "text": [
        "\n",
        "  1145  |  \u001b[94m  0.007248\u001b[0m  |    0.007551  |     0.959890  |             |  8.4s"
       ]
      },
      {
       "output_type": "stream",
       "stream": "stdout",
       "text": [
        "\n",
        "  1146  |    0.007275  |    0.007525  |     0.966765  |             |  8.4s"
       ]
      },
      {
       "output_type": "stream",
       "stream": "stdout",
       "text": [
        "\n",
        "  1147  |  \u001b[94m  0.007236\u001b[0m  |    0.007503  |     0.964518  |             |  8.4s"
       ]
      },
      {
       "output_type": "stream",
       "stream": "stdout",
       "text": [
        "\n",
        "  1148  |    0.007301  |  \u001b[32m  0.007451\u001b[0m  |     0.979848  |             |  8.4s"
       ]
      },
      {
       "output_type": "stream",
       "stream": "stdout",
       "text": [
        "\n",
        "  1149  |    0.007239  |    0.007484  |     0.967283  |             |  8.4s"
       ]
      },
      {
       "output_type": "stream",
       "stream": "stdout",
       "text": [
        "\n",
        "  1150  |  \u001b[94m  0.007199\u001b[0m  |    0.007498  |     0.960137  |             |  8.4s"
       ]
      },
      {
       "output_type": "stream",
       "stream": "stdout",
       "text": [
        "\n",
        "  1151  |  \u001b[94m  0.007170\u001b[0m  |    0.007458  |     0.961342  |             |  8.4s"
       ]
      },
      {
       "output_type": "stream",
       "stream": "stdout",
       "text": [
        "\n",
        "  1152  |    0.007224  |    0.007470  |     0.967075  |             |  8.4s"
       ]
      },
      {
       "output_type": "stream",
       "stream": "stdout",
       "text": [
        "\n",
        "  1153  |    0.007222  |    0.007489  |     0.964360  |             |  8.4s"
       ]
      },
      {
       "output_type": "stream",
       "stream": "stdout",
       "text": [
        "\n",
        "  1154  |    0.007214  |    0.007479  |     0.964573  |             |  8.4s"
       ]
      },
      {
       "output_type": "stream",
       "stream": "stdout",
       "text": [
        "\n",
        "  1155  |    0.007272  |    0.007454  |     0.975514  |             |  8.4s"
       ]
      },
      {
       "output_type": "stream",
       "stream": "stdout",
       "text": [
        "\n",
        "  1156  |    0.007221  |    0.007455  |     0.968495  |             |  8.4s"
       ]
      },
      {
       "output_type": "stream",
       "stream": "stdout",
       "text": [
        "\n",
        "  1157  |    0.007213  |  \u001b[32m  0.007430\u001b[0m  |     0.970766  |             |  8.4s"
       ]
      },
      {
       "output_type": "stream",
       "stream": "stdout",
       "text": [
        "\n",
        "  1158  |    0.007181  |  \u001b[32m  0.007426\u001b[0m  |     0.966996  |             |  8.4s"
       ]
      },
      {
       "output_type": "stream",
       "stream": "stdout",
       "text": [
        "\n",
        "  1159  |    0.007239  |  \u001b[32m  0.007423\u001b[0m  |     0.975222  |             |  8.3s"
       ]
      },
      {
       "output_type": "stream",
       "stream": "stdout",
       "text": [
        "\n",
        "  1160  |    0.007210  |    0.007425  |     0.970988  |             |  8.3s"
       ]
      },
      {
       "output_type": "stream",
       "stream": "stdout",
       "text": [
        "\n",
        "  1161  |  \u001b[94m  0.007155\u001b[0m  |    0.007447  |     0.960767  |             |  8.4s"
       ]
      },
      {
       "output_type": "stream",
       "stream": "stdout",
       "text": [
        "\n",
        "  1162  |    0.007167  |    0.007441  |     0.963079  |             |  8.3s"
       ]
      },
      {
       "output_type": "stream",
       "stream": "stdout",
       "text": [
        "\n",
        "  1163  |  \u001b[94m  0.007139\u001b[0m  |    0.007452  |     0.957887  |             |  8.3s"
       ]
      },
      {
       "output_type": "stream",
       "stream": "stdout",
       "text": [
        "\n",
        "  1164  |    0.007197  |    0.007480  |     0.962187  |             |  8.3s"
       ]
      },
      {
       "output_type": "stream",
       "stream": "stdout",
       "text": [
        "\n",
        "  1165  |    0.007190  |  \u001b[32m  0.007400\u001b[0m  |     0.971629  |             |  8.3s"
       ]
      },
      {
       "output_type": "stream",
       "stream": "stdout",
       "text": [
        "\n",
        "  1166  |    0.007189  |    0.007424  |     0.968413  |             |  8.3s"
       ]
      },
      {
       "output_type": "stream",
       "stream": "stdout",
       "text": [
        "\n",
        "  1167  |    0.007151  |    0.007436  |     0.961642  |             |  8.3s"
       ]
      },
      {
       "output_type": "stream",
       "stream": "stdout",
       "text": [
        "\n",
        "  1168  |  \u001b[94m  0.007132\u001b[0m  |  \u001b[32m  0.007393\u001b[0m  |     0.964718  |             |  8.4s"
       ]
      },
      {
       "output_type": "stream",
       "stream": "stdout",
       "text": [
        "\n",
        "  1169  |  \u001b[94m  0.007117\u001b[0m  |    0.007421  |     0.959000  |             |  8.4s"
       ]
      },
      {
       "output_type": "stream",
       "stream": "stdout",
       "text": [
        "\n",
        "  1170  |    0.007148  |    0.007406  |     0.965178  |             |  8.4s"
       ]
      },
      {
       "output_type": "stream",
       "stream": "stdout",
       "text": [
        "\n",
        "  1171  |    0.007155  |    0.007441  |     0.961593  |             |  8.4s"
       ]
      },
      {
       "output_type": "stream",
       "stream": "stdout",
       "text": [
        "\n",
        "  1172  |    0.007176  |    0.007406  |     0.968962  |             |  8.4s"
       ]
      },
      {
       "output_type": "stream",
       "stream": "stdout",
       "text": [
        "\n",
        "  1173  |    0.007168  |    0.007439  |     0.963609  |             |  8.4s"
       ]
      },
      {
       "output_type": "stream",
       "stream": "stdout",
       "text": [
        "\n",
        "  1174  |  \u001b[94m  0.007079\u001b[0m  |    0.007450  |     0.950191  |             |  8.3s"
       ]
      },
      {
       "output_type": "stream",
       "stream": "stdout",
       "text": [
        "\n",
        "  1175  |    0.007100  |  \u001b[32m  0.007391\u001b[0m  |     0.960690  |             |  8.4s"
       ]
      },
      {
       "output_type": "stream",
       "stream": "stdout",
       "text": [
        "\n",
        "  1176  |    0.007104  |    0.007403  |     0.959588  |             |  8.4s"
       ]
      },
      {
       "output_type": "stream",
       "stream": "stdout",
       "text": [
        "\n",
        "  1177  |    0.007091  |  \u001b[32m  0.007379\u001b[0m  |     0.960940  |             |  8.4s"
       ]
      },
      {
       "output_type": "stream",
       "stream": "stdout",
       "text": [
        "\n",
        "  1178  |    0.007126  |    0.007392  |     0.963930  |             |  8.4s"
       ]
      },
      {
       "output_type": "stream",
       "stream": "stdout",
       "text": [
        "\n",
        "  1179  |    0.007137  |    0.007408  |     0.963490  |             |  8.4s"
       ]
      },
      {
       "output_type": "stream",
       "stream": "stdout",
       "text": [
        "\n",
        "  1180  |  \u001b[94m  0.007066\u001b[0m  |    0.007430  |     0.950886  |             |  8.4s"
       ]
      },
      {
       "output_type": "stream",
       "stream": "stdout",
       "text": [
        "\n",
        "  1181  |    0.007109  |    0.007422  |     0.957755  |             |  8.5s"
       ]
      },
      {
       "output_type": "stream",
       "stream": "stdout",
       "text": [
        "\n",
        "  1182  |    0.007080  |    0.007424  |     0.953686  |             |  8.4s"
       ]
      },
      {
       "output_type": "stream",
       "stream": "stdout",
       "text": [
        "\n",
        "  1183  |    0.007130  |    0.007427  |     0.959957  |             |  8.3s"
       ]
      },
      {
       "output_type": "stream",
       "stream": "stdout",
       "text": [
        "\n",
        "  1184  |    0.007113  |  \u001b[32m  0.007369\u001b[0m  |     0.965223  |             |  8.3s"
       ]
      },
      {
       "output_type": "stream",
       "stream": "stdout",
       "text": [
        "\n",
        "  1185  |    0.007099  |    0.007422  |     0.956453  |             |  8.3s"
       ]
      },
      {
       "output_type": "stream",
       "stream": "stdout",
       "text": [
        "\n",
        "  1186  |  \u001b[94m  0.007055\u001b[0m  |    0.007429  |     0.949567  |             |  8.3s"
       ]
      },
      {
       "output_type": "stream",
       "stream": "stdout",
       "text": [
        "\n",
        "  1187  |    0.007109  |    0.007405  |     0.959930  |             |  8.3s"
       ]
      },
      {
       "output_type": "stream",
       "stream": "stdout",
       "text": [
        "\n",
        "  1188  |  \u001b[94m  0.007041\u001b[0m  |  \u001b[32m  0.007369\u001b[0m  |     0.955535  |             |  8.3s"
       ]
      },
      {
       "output_type": "stream",
       "stream": "stdout",
       "text": [
        "\n",
        "  1189  |    0.007109  |    0.007373  |     0.964172  |             |  8.3s"
       ]
      },
      {
       "output_type": "stream",
       "stream": "stdout",
       "text": [
        "\n",
        "  1190  |    0.007070  |    0.007377  |     0.958479  |             |  8.3s"
       ]
      },
      {
       "output_type": "stream",
       "stream": "stdout",
       "text": [
        "\n",
        "  1191  |    0.007114  |  \u001b[32m  0.007345\u001b[0m  |     0.968468  |             |  8.4s"
       ]
      },
      {
       "output_type": "stream",
       "stream": "stdout",
       "text": [
        "\n",
        "  1192  |    0.007093  |    0.007392  |     0.959542  |             |  8.4s"
       ]
      },
      {
       "output_type": "stream",
       "stream": "stdout",
       "text": [
        "\n",
        "  1193  |    0.007055  |    0.007407  |     0.952505  |             |  8.3s"
       ]
      },
      {
       "output_type": "stream",
       "stream": "stdout",
       "text": [
        "\n",
        "  1194  |    0.007111  |    0.007389  |     0.962422  |             |  8.3s"
       ]
      },
      {
       "output_type": "stream",
       "stream": "stdout",
       "text": [
        "\n",
        "  1195  |  \u001b[94m  0.006988\u001b[0m  |    0.007382  |     0.946710  |             |  8.3s"
       ]
      },
      {
       "output_type": "stream",
       "stream": "stdout",
       "text": [
        "\n",
        "  1196  |    0.007077  |    0.007352  |     0.962632  |             |  8.4s"
       ]
      },
      {
       "output_type": "stream",
       "stream": "stdout",
       "text": [
        "\n",
        "  1197  |    0.007027  |    0.007391  |     0.950794  |             |  8.3s"
       ]
      },
      {
       "output_type": "stream",
       "stream": "stdout",
       "text": [
        "\n",
        "  1198  |    0.007050  |    0.007363  |     0.957558  |             |  8.4s"
       ]
      },
      {
       "output_type": "stream",
       "stream": "stdout",
       "text": [
        "\n",
        "  1199  |    0.007066  |  \u001b[32m  0.007336\u001b[0m  |     0.963128  |             |  8.3s"
       ]
      },
      {
       "output_type": "stream",
       "stream": "stdout",
       "text": [
        "\n",
        "  1200  |    0.006990  |  \u001b[32m  0.007299\u001b[0m  |     0.957738  |             |  8.3s"
       ]
      },
      {
       "output_type": "stream",
       "stream": "stdout",
       "text": [
        "\n",
        "  1201  |  \u001b[94m  0.006971\u001b[0m  |    0.007360  |     0.947180  |             |  8.3s"
       ]
      },
      {
       "output_type": "stream",
       "stream": "stdout",
       "text": [
        "\n",
        "  1202  |    0.006976  |    0.007329  |     0.951866  |             |  8.3s"
       ]
      },
      {
       "output_type": "stream",
       "stream": "stdout",
       "text": [
        "\n",
        "  1203  |    0.007020  |    0.007352  |     0.954882  |             |  8.4s"
       ]
      },
      {
       "output_type": "stream",
       "stream": "stdout",
       "text": [
        "\n",
        "  1204  |    0.006993  |    0.007338  |     0.952978  |             |  8.3s"
       ]
      },
      {
       "output_type": "stream",
       "stream": "stdout",
       "text": [
        "\n",
        "  1205  |    0.007064  |    0.007354  |     0.960566  |             |  8.2s"
       ]
      },
      {
       "output_type": "stream",
       "stream": "stdout",
       "text": [
        "\n",
        "  1206  |    0.006994  |  \u001b[32m  0.007298\u001b[0m  |     0.958390  |             |  8.2s"
       ]
      },
      {
       "output_type": "stream",
       "stream": "stdout",
       "text": [
        "\n",
        "  1207  |    0.006978  |    0.007343  |     0.950282  |             |  8.2s"
       ]
      },
      {
       "output_type": "stream",
       "stream": "stdout",
       "text": [
        "\n",
        "  1208  |    0.006996  |    0.007350  |     0.951813  |             |  8.2s"
       ]
      },
      {
       "output_type": "stream",
       "stream": "stdout",
       "text": [
        "\n",
        "  1209  |    0.007030  |    0.007340  |     0.957815  |             |  8.2s"
       ]
      },
      {
       "output_type": "stream",
       "stream": "stdout",
       "text": [
        "\n",
        "  1210  |  \u001b[94m  0.006917\u001b[0m  |    0.007329  |     0.943717  |             |  8.2s"
       ]
      },
      {
       "output_type": "stream",
       "stream": "stdout",
       "text": [
        "\n",
        "  1211  |  \u001b[94m  0.006913\u001b[0m  |    0.007320  |     0.944373  |             |  8.2s"
       ]
      },
      {
       "output_type": "stream",
       "stream": "stdout",
       "text": [
        "\n",
        "  1212  |    0.006977  |    0.007344  |     0.950044  |             |  8.2s"
       ]
      },
      {
       "output_type": "stream",
       "stream": "stdout",
       "text": [
        "\n",
        "  1213  |    0.007020  |    0.007348  |     0.955319  |             |  8.3s"
       ]
      },
      {
       "output_type": "stream",
       "stream": "stdout",
       "text": [
        "\n",
        "  1214  |    0.007015  |    0.007353  |     0.953939  |             |  8.4s"
       ]
      },
      {
       "output_type": "stream",
       "stream": "stdout",
       "text": [
        "\n",
        "  1215  |    0.006927  |    0.007331  |     0.944888  |             |  8.3s"
       ]
      },
      {
       "output_type": "stream",
       "stream": "stdout",
       "text": [
        "\n",
        "  1216  |    0.006999  |  \u001b[32m  0.007291\u001b[0m  |     0.959919  |             |  8.4s"
       ]
      },
      {
       "output_type": "stream",
       "stream": "stdout",
       "text": [
        "\n",
        "  1217  |  \u001b[94m  0.006906\u001b[0m  |    0.007354  |     0.939166  |             |  8.4s"
       ]
      },
      {
       "output_type": "stream",
       "stream": "stdout",
       "text": [
        "\n",
        "  1218  |    0.006991  |    0.007327  |     0.954130  |             |  8.4s"
       ]
      },
      {
       "output_type": "stream",
       "stream": "stdout",
       "text": [
        "\n",
        "  1219  |    0.006975  |    0.007358  |     0.947970  |             |  8.5s"
       ]
      },
      {
       "output_type": "stream",
       "stream": "stdout",
       "text": [
        "\n",
        "  1220  |    0.006929  |    0.007297  |     0.949606  |             |  8.4s"
       ]
      },
      {
       "output_type": "stream",
       "stream": "stdout",
       "text": [
        "\n",
        "  1221  |    0.006967  |    0.007324  |     0.951186  |             |  8.4s"
       ]
      },
      {
       "output_type": "stream",
       "stream": "stdout",
       "text": [
        "\n",
        "  1222  |    0.006941  |    0.007339  |     0.945840  |             |  8.4s"
       ]
      },
      {
       "output_type": "stream",
       "stream": "stdout",
       "text": [
        "\n",
        "  1223  |  \u001b[94m  0.006888\u001b[0m  |    0.007350  |     0.937061  |             |  8.4s"
       ]
      },
      {
       "output_type": "stream",
       "stream": "stdout",
       "text": [
        "\n",
        "  1224  |    0.006924  |  \u001b[32m  0.007283\u001b[0m  |     0.950814  |             |  8.3s"
       ]
      },
      {
       "output_type": "stream",
       "stream": "stdout",
       "text": [
        "\n",
        "  1225  |    0.006900  |    0.007303  |     0.944925  |             |  8.4s"
       ]
      },
      {
       "output_type": "stream",
       "stream": "stdout",
       "text": [
        "\n",
        "  1226  |    0.006911  |    0.007301  |     0.946562  |             |  8.4s"
       ]
      },
      {
       "output_type": "stream",
       "stream": "stdout",
       "text": [
        "\n",
        "  1227  |    0.006906  |    0.007337  |     0.941264  |             |  8.4s"
       ]
      },
      {
       "output_type": "stream",
       "stream": "stdout",
       "text": [
        "\n",
        "  1228  |    0.006941  |    0.007284  |     0.952940  |             |  8.4s"
       ]
      },
      {
       "output_type": "stream",
       "stream": "stdout",
       "text": [
        "\n",
        "  1229  |    0.006936  |    0.007309  |     0.948932  |             |  8.4s"
       ]
      },
      {
       "output_type": "stream",
       "stream": "stdout",
       "text": [
        "\n",
        "  1230  |    0.006917  |    0.007291  |     0.948696  |             |  8.4s"
       ]
      },
      {
       "output_type": "stream",
       "stream": "stdout",
       "text": [
        "\n",
        "  1231  |    0.006921  |    0.007332  |     0.943886  |             |  8.4s"
       ]
      },
      {
       "output_type": "stream",
       "stream": "stdout",
       "text": [
        "\n",
        "  1232  |    0.006936  |  \u001b[32m  0.007268\u001b[0m  |     0.954314  |             |  8.4s"
       ]
      },
      {
       "output_type": "stream",
       "stream": "stdout",
       "text": [
        "\n",
        "  1233  |  \u001b[94m  0.006871\u001b[0m  |    0.007319  |     0.938663  |             |  8.3s"
       ]
      },
      {
       "output_type": "stream",
       "stream": "stdout",
       "text": [
        "\n",
        "  1234  |    0.006876  |    0.007278  |     0.944757  |             |  8.3s"
       ]
      },
      {
       "output_type": "stream",
       "stream": "stdout",
       "text": [
        "\n",
        "  1235  |  \u001b[94m  0.006870\u001b[0m  |    0.007297  |     0.941490  |             |  8.4s"
       ]
      },
      {
       "output_type": "stream",
       "stream": "stdout",
       "text": [
        "\n",
        "  1236  |    0.006905  |    0.007286  |     0.947675  |             |  8.4s"
       ]
      },
      {
       "output_type": "stream",
       "stream": "stdout",
       "text": [
        "\n",
        "  1237  |    0.006899  |    0.007310  |     0.943838  |             |  8.3s"
       ]
      },
      {
       "output_type": "stream",
       "stream": "stdout",
       "text": [
        "\n",
        "  1238  |    0.006986  |    0.007291  |     0.958166  |             |  8.3s"
       ]
      },
      {
       "output_type": "stream",
       "stream": "stdout",
       "text": [
        "\n",
        "  1239  |  \u001b[94m  0.006864\u001b[0m  |    0.007322  |     0.937382  |             |  8.3s"
       ]
      },
      {
       "output_type": "stream",
       "stream": "stdout",
       "text": [
        "\n",
        "  1240  |  \u001b[94m  0.006857\u001b[0m  |    0.007269  |     0.943306  |             |  8.4s"
       ]
      },
      {
       "output_type": "stream",
       "stream": "stdout",
       "text": [
        "\n",
        "  1241  |    0.006862  |  \u001b[32m  0.007266\u001b[0m  |     0.944385  |             |  8.4s"
       ]
      },
      {
       "output_type": "stream",
       "stream": "stdout",
       "text": [
        "\n",
        "  1242  |    0.006881  |    0.007284  |     0.944701  |             |  8.4s"
       ]
      },
      {
       "output_type": "stream",
       "stream": "stdout",
       "text": [
        "\n",
        "  1243  |    0.006953  |    0.007287  |     0.954107  |             |  8.3s"
       ]
      },
      {
       "output_type": "stream",
       "stream": "stdout",
       "text": [
        "\n",
        "  1244  |  \u001b[94m  0.006837\u001b[0m  |    0.007285  |     0.938510  |             |  8.3s"
       ]
      },
      {
       "output_type": "stream",
       "stream": "stdout",
       "text": [
        "\n",
        "  1245  |    0.006865  |    0.007295  |     0.940979  |             |  8.3s"
       ]
      },
      {
       "output_type": "stream",
       "stream": "stdout",
       "text": [
        "\n",
        "  1246  |    0.006877  |  \u001b[32m  0.007245\u001b[0m  |     0.949247  |             |  8.3s"
       ]
      },
      {
       "output_type": "stream",
       "stream": "stdout",
       "text": [
        "\n",
        "  1247  |    0.006887  |    0.007284  |     0.945554  |             |  8.3s"
       ]
      },
      {
       "output_type": "stream",
       "stream": "stdout",
       "text": [
        "\n",
        "  1248  |    0.006920  |    0.007286  |     0.949838  |             |  8.3s"
       ]
      },
      {
       "output_type": "stream",
       "stream": "stdout",
       "text": [
        "\n",
        "  1249  |  \u001b[94m  0.006827\u001b[0m  |    0.007256  |     0.940828  |             |  8.3s"
       ]
      },
      {
       "output_type": "stream",
       "stream": "stdout",
       "text": [
        "\n",
        "  1250  |    0.006831  |  \u001b[32m  0.007236\u001b[0m  |     0.943961  |             |  8.4s"
       ]
      },
      {
       "output_type": "stream",
       "stream": "stdout",
       "text": [
        "\n",
        "  1251  |    0.006868  |    0.007256  |     0.946541  |             |  8.4s"
       ]
      },
      {
       "output_type": "stream",
       "stream": "stdout",
       "text": [
        "\n",
        "  1252  |    0.006883  |    0.007294  |     0.943724  |             |  8.4s"
       ]
      },
      {
       "output_type": "stream",
       "stream": "stdout",
       "text": [
        "\n",
        "  1253  |  \u001b[94m  0.006823\u001b[0m  |    0.007240  |     0.942415  |             |  8.4s"
       ]
      },
      {
       "output_type": "stream",
       "stream": "stdout",
       "text": [
        "\n",
        "  1254  |  \u001b[94m  0.006811\u001b[0m  |    0.007267  |     0.937300  |             |  8.4s"
       ]
      },
      {
       "output_type": "stream",
       "stream": "stdout",
       "text": [
        "\n",
        "  1255  |  \u001b[94m  0.006776\u001b[0m  |    0.007273  |     0.931625  |             |  8.4s"
       ]
      },
      {
       "output_type": "stream",
       "stream": "stdout",
       "text": [
        "\n",
        "  1256  |  \u001b[94m  0.006771\u001b[0m  |    0.007278  |     0.930402  |             |  8.4s"
       ]
      },
      {
       "output_type": "stream",
       "stream": "stdout",
       "text": [
        "\n",
        "  1257  |    0.006795  |    0.007269  |     0.934802  |             |  8.4s"
       ]
      },
      {
       "output_type": "stream",
       "stream": "stdout",
       "text": [
        "\n",
        "  1258  |    0.006824  |  \u001b[32m  0.007221\u001b[0m  |     0.944960  |             |  8.4s"
       ]
      },
      {
       "output_type": "stream",
       "stream": "stdout",
       "text": [
        "\n",
        "  1259  |    0.006813  |    0.007276  |     0.936333  |             |  8.4s"
       ]
      },
      {
       "output_type": "stream",
       "stream": "stdout",
       "text": [
        "\n",
        "  1260  |    0.006776  |    0.007288  |     0.929869  |             |  8.4s"
       ]
      },
      {
       "output_type": "stream",
       "stream": "stdout",
       "text": [
        "\n",
        "  1261  |    0.006774  |    0.007248  |     0.934562  |             |  8.4s"
       ]
      },
      {
       "output_type": "stream",
       "stream": "stdout",
       "text": [
        "\n",
        "  1262  |    0.006867  |    0.007281  |     0.943132  |             |  8.4s"
       ]
      },
      {
       "output_type": "stream",
       "stream": "stdout",
       "text": [
        "\n",
        "  1263  |  \u001b[94m  0.006754\u001b[0m  |    0.007283  |     0.927320  |             |  8.4s"
       ]
      },
      {
       "output_type": "stream",
       "stream": "stdout",
       "text": [
        "\n",
        "  1264  |    0.006798  |    0.007226  |     0.940786  |             |  8.4s"
       ]
      },
      {
       "output_type": "stream",
       "stream": "stdout",
       "text": [
        "\n",
        "  1265  |    0.006815  |    0.007267  |     0.937887  |             |  8.4s"
       ]
      },
      {
       "output_type": "stream",
       "stream": "stdout",
       "text": [
        "\n",
        "  1266  |    0.006784  |    0.007266  |     0.933720  |             |  8.4s"
       ]
      },
      {
       "output_type": "stream",
       "stream": "stdout",
       "text": [
        "\n",
        "  1267  |  \u001b[94m  0.006748\u001b[0m  |    0.007242  |     0.931767  |             |  8.4s"
       ]
      },
      {
       "output_type": "stream",
       "stream": "stdout",
       "text": [
        "\n",
        "  1268  |    0.006791  |    0.007242  |     0.937769  |             |  8.4s"
       ]
      },
      {
       "output_type": "stream",
       "stream": "stdout",
       "text": [
        "\n",
        "  1269  |    0.006780  |    0.007260  |     0.933889  |             |  8.4s"
       ]
      },
      {
       "output_type": "stream",
       "stream": "stdout",
       "text": [
        "\n",
        "  1270  |  \u001b[94m  0.006696\u001b[0m  |    0.007257  |     0.922698  |             |  8.4s"
       ]
      },
      {
       "output_type": "stream",
       "stream": "stdout",
       "text": [
        "\n",
        "  1271  |    0.006760  |    0.007253  |     0.932040  |             |  8.4s"
       ]
      },
      {
       "output_type": "stream",
       "stream": "stdout",
       "text": [
        "\n",
        "  1272  |    0.006792  |    0.007262  |     0.935336  |             |  8.4s"
       ]
      },
      {
       "output_type": "stream",
       "stream": "stdout",
       "text": [
        "\n",
        "  1273  |    0.006729  |    0.007239  |     0.929569  |             |  8.4s"
       ]
      },
      {
       "output_type": "stream",
       "stream": "stdout",
       "text": [
        "\n",
        "  1274  |    0.006770  |    0.007236  |     0.935650  |             |  8.4s"
       ]
      },
      {
       "output_type": "stream",
       "stream": "stdout",
       "text": [
        "\n",
        "  1275  |    0.006768  |  \u001b[32m  0.007215\u001b[0m  |     0.938051  |             |  8.4s"
       ]
      },
      {
       "output_type": "stream",
       "stream": "stdout",
       "text": [
        "\n",
        "  1276  |    0.006766  |    0.007235  |     0.935181  |             |  8.4s"
       ]
      },
      {
       "output_type": "stream",
       "stream": "stdout",
       "text": [
        "\n",
        "  1277  |    0.006754  |  \u001b[32m  0.007210\u001b[0m  |     0.936791  |             |  8.4s"
       ]
      },
      {
       "output_type": "stream",
       "stream": "stdout",
       "text": [
        "\n",
        "  1278  |    0.006783  |    0.007231  |     0.938059  |             |  8.4s"
       ]
      },
      {
       "output_type": "stream",
       "stream": "stdout",
       "text": [
        "\n",
        "  1279  |    0.006822  |    0.007264  |     0.939078  |             |  8.5s"
       ]
      },
      {
       "output_type": "stream",
       "stream": "stdout",
       "text": [
        "\n",
        "  1280  |    0.006775  |  \u001b[32m  0.007201\u001b[0m  |     0.940838  |             |  8.5s"
       ]
      },
      {
       "output_type": "stream",
       "stream": "stdout",
       "text": [
        "\n",
        "  1281  |    0.006730  |    0.007228  |     0.931106  |             |  8.4s"
       ]
      },
      {
       "output_type": "stream",
       "stream": "stdout",
       "text": [
        "\n",
        "  1282  |    0.006707  |    0.007230  |     0.927749  |             |  8.4s"
       ]
      },
      {
       "output_type": "stream",
       "stream": "stdout",
       "text": [
        "\n",
        "  1283  |  \u001b[94m  0.006663\u001b[0m  |    0.007252  |     0.918801  |             |  8.3s"
       ]
      },
      {
       "output_type": "stream",
       "stream": "stdout",
       "text": [
        "\n",
        "  1284  |    0.006777  |    0.007236  |     0.936551  |             |  8.2s"
       ]
      },
      {
       "output_type": "stream",
       "stream": "stdout",
       "text": [
        "\n",
        "  1285  |    0.006686  |    0.007215  |     0.926702  |             |  8.3s"
       ]
      },
      {
       "output_type": "stream",
       "stream": "stdout",
       "text": [
        "\n",
        "  1286  |    0.006703  |    0.007222  |     0.928197  |             |  8.3s"
       ]
      },
      {
       "output_type": "stream",
       "stream": "stdout",
       "text": [
        "\n",
        "  1287  |    0.006749  |    0.007217  |     0.935039  |             |  8.3s"
       ]
      },
      {
       "output_type": "stream",
       "stream": "stdout",
       "text": [
        "\n",
        "  1288  |    0.006724  |    0.007226  |     0.930412  |             |  8.3s"
       ]
      },
      {
       "output_type": "stream",
       "stream": "stdout",
       "text": [
        "\n",
        "  1289  |  \u001b[94m  0.006631\u001b[0m  |    0.007216  |     0.918904  |             |  8.2s"
       ]
      },
      {
       "output_type": "stream",
       "stream": "stdout",
       "text": [
        "\n",
        "  1290  |    0.006714  |    0.007223  |     0.929476  |             |  8.2s"
       ]
      },
      {
       "output_type": "stream",
       "stream": "stdout",
       "text": [
        "\n",
        "  1291  |    0.006723  |    0.007209  |     0.932585  |             |  8.3s"
       ]
      },
      {
       "output_type": "stream",
       "stream": "stdout",
       "text": [
        "\n",
        "  1292  |    0.006713  |  \u001b[32m  0.007197\u001b[0m  |     0.932744  |             |  8.2s"
       ]
      },
      {
       "output_type": "stream",
       "stream": "stdout",
       "text": [
        "\n",
        "  1293  |    0.006689  |    0.007207  |     0.928217  |             |  8.2s"
       ]
      },
      {
       "output_type": "stream",
       "stream": "stdout",
       "text": [
        "\n",
        "  1294  |    0.006711  |    0.007205  |     0.931379  |             |  8.2s"
       ]
      },
      {
       "output_type": "stream",
       "stream": "stdout",
       "text": [
        "\n",
        "  1295  |    0.006675  |  \u001b[32m  0.007179\u001b[0m  |     0.929825  |             |  8.2s"
       ]
      },
      {
       "output_type": "stream",
       "stream": "stdout",
       "text": [
        "\n",
        "  1296  |    0.006673  |    0.007242  |     0.921415  |             |  8.2s"
       ]
      },
      {
       "output_type": "stream",
       "stream": "stdout",
       "text": [
        "\n",
        "  1297  |    0.006659  |  \u001b[32m  0.007138\u001b[0m  |     0.933007  |             |  8.2s"
       ]
      },
      {
       "output_type": "stream",
       "stream": "stdout",
       "text": [
        "\n",
        "  1298  |  \u001b[94m  0.006614\u001b[0m  |    0.007230  |     0.914822  |             |  8.2s"
       ]
      },
      {
       "output_type": "stream",
       "stream": "stdout",
       "text": [
        "\n",
        "  1299  |  \u001b[94m  0.006588\u001b[0m  |    0.007190  |     0.916261  |             |  8.2s"
       ]
      },
      {
       "output_type": "stream",
       "stream": "stdout",
       "text": [
        "\n",
        "  1300  |    0.006660  |    0.007183  |     0.927198  |             |  8.2s"
       ]
      },
      {
       "output_type": "stream",
       "stream": "stdout",
       "text": [
        "\n",
        "  1301  |    0.006706  |    0.007195  |     0.932083  |             |  8.2s"
       ]
      },
      {
       "output_type": "stream",
       "stream": "stdout",
       "text": [
        "\n",
        "  1302  |    0.006639  |    0.007161  |     0.927082  |             |  8.2s"
       ]
      },
      {
       "output_type": "stream",
       "stream": "stdout",
       "text": [
        "\n",
        "  1303  |    0.006607  |    0.007177  |     0.920558  |             |  8.2s"
       ]
      },
      {
       "output_type": "stream",
       "stream": "stdout",
       "text": [
        "\n",
        "  1304  |    0.006661  |    0.007198  |     0.925404  |             |  8.2s"
       ]
      },
      {
       "output_type": "stream",
       "stream": "stdout",
       "text": [
        "\n",
        "  1305  |    0.006658  |    0.007188  |     0.926268  |             |  8.2s"
       ]
      },
      {
       "output_type": "stream",
       "stream": "stdout",
       "text": [
        "\n",
        "  1306  |    0.006620  |    0.007161  |     0.924483  |             |  8.2s"
       ]
      },
      {
       "output_type": "stream",
       "stream": "stdout",
       "text": [
        "\n",
        "  1307  |    0.006702  |    0.007191  |     0.931892  |             |  8.2s"
       ]
      },
      {
       "output_type": "stream",
       "stream": "stdout",
       "text": [
        "\n",
        "  1308  |    0.006651  |    0.007152  |     0.929992  |             |  8.2s"
       ]
      },
      {
       "output_type": "stream",
       "stream": "stdout",
       "text": [
        "\n",
        "  1309  |    0.006713  |    0.007164  |     0.937041  |             |  8.2s"
       ]
      },
      {
       "output_type": "stream",
       "stream": "stdout",
       "text": [
        "\n",
        "  1310  |    0.006627  |    0.007191  |     0.921565  |             |  8.2s"
       ]
      },
      {
       "output_type": "stream",
       "stream": "stdout",
       "text": [
        "\n",
        "  1311  |    0.006625  |  \u001b[32m  0.007131\u001b[0m  |     0.929019  |             |  8.2s"
       ]
      },
      {
       "output_type": "stream",
       "stream": "stdout",
       "text": [
        "\n",
        "  1312  |    0.006640  |    0.007153  |     0.928323  |             |  8.2s"
       ]
      },
      {
       "output_type": "stream",
       "stream": "stdout",
       "text": [
        "\n",
        "  1313  |    0.006597  |    0.007175  |     0.919450  |             |  8.2s"
       ]
      },
      {
       "output_type": "stream",
       "stream": "stdout",
       "text": [
        "\n",
        "  1314  |  \u001b[94m  0.006559\u001b[0m  |    0.007188  |     0.912581  |             |  8.2s"
       ]
      },
      {
       "output_type": "stream",
       "stream": "stdout",
       "text": [
        "\n",
        "  1315  |    0.006650  |    0.007191  |     0.924670  |             |  8.2s"
       ]
      },
      {
       "output_type": "stream",
       "stream": "stdout",
       "text": [
        "\n",
        "  1316  |    0.006609  |    0.007170  |     0.921707  |             |  8.2s"
       ]
      },
      {
       "output_type": "stream",
       "stream": "stdout",
       "text": [
        "\n",
        "  1317  |    0.006567  |  \u001b[32m  0.007124\u001b[0m  |     0.921768  |             |  8.2s"
       ]
      },
      {
       "output_type": "stream",
       "stream": "stdout",
       "text": [
        "\n",
        "  1318  |  \u001b[94m  0.006537\u001b[0m  |    0.007130  |     0.916876  |             |  8.2s"
       ]
      },
      {
       "output_type": "stream",
       "stream": "stdout",
       "text": [
        "\n",
        "  1319  |    0.006590  |    0.007126  |     0.924686  |             |  8.2s"
       ]
      },
      {
       "output_type": "stream",
       "stream": "stdout",
       "text": [
        "\n",
        "  1320  |    0.006610  |    0.007142  |     0.925506  |             |  8.2s"
       ]
      },
      {
       "output_type": "stream",
       "stream": "stdout",
       "text": [
        "\n",
        "  1321  |    0.006549  |    0.007159  |     0.914878  |             |  8.2s"
       ]
      },
      {
       "output_type": "stream",
       "stream": "stdout",
       "text": [
        "\n",
        "  1322  |    0.006647  |    0.007144  |     0.930447  |             |  8.2s"
       ]
      },
      {
       "output_type": "stream",
       "stream": "stdout",
       "text": [
        "\n",
        "  1323  |    0.006583  |    0.007149  |     0.920743  |             |  8.2s"
       ]
      },
      {
       "output_type": "stream",
       "stream": "stdout",
       "text": [
        "\n",
        "  1324  |    0.006573  |    0.007146  |     0.919754  |             |  8.2s"
       ]
      },
      {
       "output_type": "stream",
       "stream": "stdout",
       "text": [
        "\n",
        "  1325  |    0.006578  |    0.007126  |     0.923025  |             |  8.2s"
       ]
      },
      {
       "output_type": "stream",
       "stream": "stdout",
       "text": [
        "\n",
        "  1326  |    0.006558  |    0.007161  |     0.915871  |             |  8.3s"
       ]
      },
      {
       "output_type": "stream",
       "stream": "stdout",
       "text": [
        "\n",
        "  1327  |    0.006596  |    0.007142  |     0.923546  |             |  8.2s"
       ]
      },
      {
       "output_type": "stream",
       "stream": "stdout",
       "text": [
        "\n",
        "  1328  |  \u001b[94m  0.006520\u001b[0m  |    0.007143  |     0.912755  |             |  8.2s"
       ]
      },
      {
       "output_type": "stream",
       "stream": "stdout",
       "text": [
        "\n",
        "  1329  |    0.006546  |    0.007126  |     0.918545  |             |  8.2s"
       ]
      },
      {
       "output_type": "stream",
       "stream": "stdout",
       "text": [
        "\n",
        "  1330  |    0.006552  |    0.007156  |     0.915634  |             |  8.2s"
       ]
      },
      {
       "output_type": "stream",
       "stream": "stdout",
       "text": [
        "\n",
        "  1331  |    0.006563  |    0.007167  |     0.915706  |             |  8.2s"
       ]
      },
      {
       "output_type": "stream",
       "stream": "stdout",
       "text": [
        "\n",
        "  1332  |    0.006596  |  \u001b[32m  0.007104\u001b[0m  |     0.928496  |             |  8.2s"
       ]
      },
      {
       "output_type": "stream",
       "stream": "stdout",
       "text": [
        "\n",
        "  1333  |    0.006526  |    0.007119  |     0.916685  |             |  8.3s"
       ]
      },
      {
       "output_type": "stream",
       "stream": "stdout",
       "text": [
        "\n",
        "  1334  |    0.006575  |    0.007112  |     0.924527  |             |  8.3s"
       ]
      },
      {
       "output_type": "stream",
       "stream": "stdout",
       "text": [
        "\n",
        "  1335  |    0.006544  |    0.007105  |     0.921003  |             |  8.3s"
       ]
      },
      {
       "output_type": "stream",
       "stream": "stdout",
       "text": [
        "\n",
        "  1336  |  \u001b[94m  0.006499\u001b[0m  |    0.007135  |     0.910844  |             |  8.3s"
       ]
      },
      {
       "output_type": "stream",
       "stream": "stdout",
       "text": [
        "\n",
        "  1337  |    0.006508  |    0.007133  |     0.912294  |             |  8.2s"
       ]
      },
      {
       "output_type": "stream",
       "stream": "stdout",
       "text": [
        "\n",
        "  1338  |  \u001b[94m  0.006418\u001b[0m  |    0.007129  |     0.900155  |             |  8.2s"
       ]
      },
      {
       "output_type": "stream",
       "stream": "stdout",
       "text": [
        "\n",
        "  1339  |    0.006533  |    0.007127  |     0.916600  |             |  8.2s"
       ]
      },
      {
       "output_type": "stream",
       "stream": "stdout",
       "text": [
        "\n",
        "  1340  |    0.006525  |    0.007150  |     0.912544  |             |  8.2s"
       ]
      },
      {
       "output_type": "stream",
       "stream": "stdout",
       "text": [
        "\n",
        "  1341  |    0.006571  |    0.007141  |     0.920137  |             |  8.2s"
       ]
      },
      {
       "output_type": "stream",
       "stream": "stdout",
       "text": [
        "\n",
        "  1342  |    0.006483  |    0.007145  |     0.907364  |             |  8.2s"
       ]
      },
      {
       "output_type": "stream",
       "stream": "stdout",
       "text": [
        "\n",
        "  1343  |    0.006486  |    0.007110  |     0.912178  |             |  8.2s"
       ]
      },
      {
       "output_type": "stream",
       "stream": "stdout",
       "text": [
        "\n",
        "  1344  |    0.006466  |    0.007114  |     0.908937  |             |  8.2s"
       ]
      },
      {
       "output_type": "stream",
       "stream": "stdout",
       "text": [
        "\n",
        "  1345  |    0.006446  |    0.007137  |     0.903288  |             |  8.2s"
       ]
      },
      {
       "output_type": "stream",
       "stream": "stdout",
       "text": [
        "\n",
        "  1346  |    0.006476  |    0.007122  |     0.909376  |             |  8.3s"
       ]
      },
      {
       "output_type": "stream",
       "stream": "stdout",
       "text": [
        "\n",
        "  1347  |    0.006448  |  \u001b[32m  0.007097\u001b[0m  |     0.908535  |             |  8.3s"
       ]
      },
      {
       "output_type": "stream",
       "stream": "stdout",
       "text": [
        "\n",
        "  1348  |    0.006534  |    0.007116  |     0.918118  |             |  8.4s"
       ]
      },
      {
       "output_type": "stream",
       "stream": "stdout",
       "text": [
        "\n",
        "  1349  |    0.006495  |    0.007129  |     0.911079  |             |  8.4s"
       ]
      },
      {
       "output_type": "stream",
       "stream": "stdout",
       "text": [
        "\n",
        "  1350  |    0.006461  |    0.007112  |     0.908522  |             |  8.3s"
       ]
      },
      {
       "output_type": "stream",
       "stream": "stdout",
       "text": [
        "\n",
        "  1351  |    0.006471  |  \u001b[32m  0.007094\u001b[0m  |     0.912265  |             |  8.3s"
       ]
      },
      {
       "output_type": "stream",
       "stream": "stdout",
       "text": [
        "\n",
        "  1352  |  \u001b[94m  0.006415\u001b[0m  |    0.007109  |     0.902390  |             |  8.3s"
       ]
      },
      {
       "output_type": "stream",
       "stream": "stdout",
       "text": [
        "\n",
        "  1353  |    0.006495  |    0.007113  |     0.913203  |             |  8.3s"
       ]
      },
      {
       "output_type": "stream",
       "stream": "stdout",
       "text": [
        "\n",
        "  1354  |    0.006504  |    0.007104  |     0.915602  |             |  8.2s"
       ]
      },
      {
       "output_type": "stream",
       "stream": "stdout",
       "text": [
        "\n",
        "  1355  |    0.006502  |  \u001b[32m  0.007079\u001b[0m  |     0.918529  |             |  8.2s"
       ]
      },
      {
       "output_type": "stream",
       "stream": "stdout",
       "text": [
        "\n",
        "  1356  |    0.006488  |    0.007111  |     0.912459  |             |  8.2s"
       ]
      },
      {
       "output_type": "stream",
       "stream": "stdout",
       "text": [
        "\n",
        "  1357  |  \u001b[94m  0.006380\u001b[0m  |    0.007106  |     0.897780  |             |  8.2s"
       ]
      },
      {
       "output_type": "stream",
       "stream": "stdout",
       "text": [
        "\n",
        "  1358  |    0.006420  |    0.007082  |     0.906426  |             |  8.2s"
       ]
      },
      {
       "output_type": "stream",
       "stream": "stdout",
       "text": [
        "\n",
        "  1359  |    0.006449  |  \u001b[32m  0.007078\u001b[0m  |     0.911163  |             |  8.2s"
       ]
      },
      {
       "output_type": "stream",
       "stream": "stdout",
       "text": [
        "\n",
        "  1360  |    0.006448  |    0.007087  |     0.909910  |             |  8.2s"
       ]
      },
      {
       "output_type": "stream",
       "stream": "stdout",
       "text": [
        "\n",
        "  1361  |  \u001b[94m  0.006377\u001b[0m  |    0.007107  |     0.897216  |             |  8.2s"
       ]
      },
      {
       "output_type": "stream",
       "stream": "stdout",
       "text": [
        "\n",
        "  1362  |    0.006445  |    0.007078  |     0.910434  |             |  8.2s"
       ]
      },
      {
       "output_type": "stream",
       "stream": "stdout",
       "text": [
        "\n",
        "  1363  |    0.006427  |    0.007133  |     0.900955  |             |  8.3s"
       ]
      },
      {
       "output_type": "stream",
       "stream": "stdout",
       "text": [
        "\n",
        "  1364  |    0.006408  |    0.007133  |     0.898391  |             |  8.3s"
       ]
      },
      {
       "output_type": "stream",
       "stream": "stdout",
       "text": [
        "\n",
        "  1365  |    0.006489  |    0.007091  |     0.915059  |             |  8.2s"
       ]
      },
      {
       "output_type": "stream",
       "stream": "stdout",
       "text": [
        "\n",
        "  1366  |  \u001b[94m  0.006350\u001b[0m  |    0.007079  |     0.897043  |             |  8.3s"
       ]
      },
      {
       "output_type": "stream",
       "stream": "stdout",
       "text": [
        "\n",
        "  1367  |    0.006467  |    0.007095  |     0.911464  |             |  8.3s"
       ]
      },
      {
       "output_type": "stream",
       "stream": "stdout",
       "text": [
        "\n",
        "  1368  |    0.006389  |    0.007116  |     0.897866  |             |  8.3s"
       ]
      },
      {
       "output_type": "stream",
       "stream": "stdout",
       "text": [
        "\n",
        "  1369  |    0.006417  |  \u001b[32m  0.007067\u001b[0m  |     0.908025  |             |  8.4s"
       ]
      },
      {
       "output_type": "stream",
       "stream": "stdout",
       "text": [
        "\n",
        "  1370  |    0.006352  |    0.007077  |     0.897658  |             |  8.3s"
       ]
      },
      {
       "output_type": "stream",
       "stream": "stdout",
       "text": [
        "\n",
        "  1371  |    0.006398  |    0.007078  |     0.903868  |             |  8.4s"
       ]
      },
      {
       "output_type": "stream",
       "stream": "stdout",
       "text": [
        "\n",
        "  1372  |    0.006420  |  \u001b[32m  0.007053\u001b[0m  |     0.910216  |             |  8.3s"
       ]
      },
      {
       "output_type": "stream",
       "stream": "stdout",
       "text": [
        "\n",
        "  1373  |    0.006358  |    0.007105  |     0.894889  |             |  8.3s"
       ]
      },
      {
       "output_type": "stream",
       "stream": "stdout",
       "text": [
        "\n",
        "  1374  |    0.006383  |    0.007088  |     0.900560  |             |  8.3s"
       ]
      },
      {
       "output_type": "stream",
       "stream": "stdout",
       "text": [
        "\n",
        "  1375  |    0.006447  |    0.007097  |     0.908515  |             |  8.3s"
       ]
      },
      {
       "output_type": "stream",
       "stream": "stdout",
       "text": [
        "\n",
        "  1376  |    0.006384  |    0.007099  |     0.899355  |             |  8.3s"
       ]
      },
      {
       "output_type": "stream",
       "stream": "stdout",
       "text": [
        "\n",
        "  1377  |    0.006393  |    0.007092  |     0.901419  |             |  8.3s"
       ]
      },
      {
       "output_type": "stream",
       "stream": "stdout",
       "text": [
        "\n",
        "  1378  |  \u001b[94m  0.006343\u001b[0m  |    0.007082  |     0.895559  |             |  8.4s"
       ]
      },
      {
       "output_type": "stream",
       "stream": "stdout",
       "text": [
        "\n",
        "  1379  |  \u001b[94m  0.006330\u001b[0m  |    0.007067  |     0.895792  |             |  8.4s"
       ]
      },
      {
       "output_type": "stream",
       "stream": "stdout",
       "text": [
        "\n",
        "  1380  |    0.006396  |  \u001b[32m  0.007043\u001b[0m  |     0.908083  |             |  8.3s"
       ]
      },
      {
       "output_type": "stream",
       "stream": "stdout",
       "text": [
        "\n",
        "  1381  |    0.006405  |    0.007082  |     0.904424  |             |  8.3s"
       ]
      },
      {
       "output_type": "stream",
       "stream": "stdout",
       "text": [
        "\n",
        "  1382  |    0.006369  |    0.007071  |     0.900718  |             |  8.3s"
       ]
      },
      {
       "output_type": "stream",
       "stream": "stdout",
       "text": [
        "\n",
        "  1383  |  \u001b[94m  0.006316\u001b[0m  |    0.007060  |     0.894631  |             |  8.4s"
       ]
      },
      {
       "output_type": "stream",
       "stream": "stdout",
       "text": [
        "\n",
        "  1384  |    0.006382  |    0.007054  |     0.904789  |             |  8.4s"
       ]
      },
      {
       "output_type": "stream",
       "stream": "stdout",
       "text": [
        "\n",
        "  1385  |    0.006353  |    0.007076  |     0.897848  |             |  8.4s"
       ]
      },
      {
       "output_type": "stream",
       "stream": "stdout",
       "text": [
        "\n",
        "  1386  |    0.006363  |    0.007126  |     0.892931  |             |  8.4s"
       ]
      },
      {
       "output_type": "stream",
       "stream": "stdout",
       "text": [
        "\n",
        "  1387  |    0.006372  |    0.007048  |     0.904076  |             |  8.4s"
       ]
      },
      {
       "output_type": "stream",
       "stream": "stdout",
       "text": [
        "\n",
        "  1388  |    0.006380  |  \u001b[32m  0.007039\u001b[0m  |     0.906348  |             |  8.4s"
       ]
      },
      {
       "output_type": "stream",
       "stream": "stdout",
       "text": [
        "\n",
        "  1389  |    0.006391  |    0.007044  |     0.907337  |             |  8.4s"
       ]
      },
      {
       "output_type": "stream",
       "stream": "stdout",
       "text": [
        "\n",
        "  1390  |    0.006370  |    0.007055  |     0.902804  |             |  8.4s"
       ]
      },
      {
       "output_type": "stream",
       "stream": "stdout",
       "text": [
        "\n",
        "  1391  |  \u001b[94m  0.006284\u001b[0m  |    0.007047  |     0.891721  |             |  8.4s"
       ]
      },
      {
       "output_type": "stream",
       "stream": "stdout",
       "text": [
        "\n",
        "  1392  |    0.006343  |    0.007065  |     0.897786  |             |  8.3s"
       ]
      },
      {
       "output_type": "stream",
       "stream": "stdout",
       "text": [
        "\n",
        "  1393  |  \u001b[94m  0.006280\u001b[0m  |  \u001b[32m  0.007033\u001b[0m  |     0.892934  |             |  8.2s"
       ]
      },
      {
       "output_type": "stream",
       "stream": "stdout",
       "text": [
        "\n",
        "  1394  |    0.006369  |    0.007059  |     0.902266  |             |  8.2s"
       ]
      },
      {
       "output_type": "stream",
       "stream": "stdout",
       "text": [
        "\n",
        "  1395  |    0.006293  |    0.007127  |     0.883015  |             |  8.2s"
       ]
      },
      {
       "output_type": "stream",
       "stream": "stdout",
       "text": [
        "\n",
        "  1396  |    0.006394  |  \u001b[32m  0.007029\u001b[0m  |     0.909678  |             |  8.2s"
       ]
      },
      {
       "output_type": "stream",
       "stream": "stdout",
       "text": [
        "\n",
        "  1397  |    0.006296  |    0.007066  |     0.890955  |             |  8.2s"
       ]
      },
      {
       "output_type": "stream",
       "stream": "stdout",
       "text": [
        "\n",
        "  1398  |    0.006320  |    0.007066  |     0.894464  |             |  8.2s"
       ]
      },
      {
       "output_type": "stream",
       "stream": "stdout",
       "text": [
        "\n",
        "  1399  |    0.006379  |  \u001b[32m  0.007020\u001b[0m  |     0.908601  |             |  8.2s"
       ]
      },
      {
       "output_type": "stream",
       "stream": "stdout",
       "text": [
        "\n",
        "  1400  |    0.006303  |    0.007044  |     0.894855  |             |  8.2s"
       ]
      },
      {
       "output_type": "stream",
       "stream": "stdout",
       "text": [
        "\n",
        "  1401  |    0.006323  |    0.007062  |     0.895285  |             |  8.2s"
       ]
      },
      {
       "output_type": "stream",
       "stream": "stdout",
       "text": [
        "\n",
        "  1402  |    0.006360  |    0.007028  |     0.904952  |             |  8.2s"
       ]
      },
      {
       "output_type": "stream",
       "stream": "stdout",
       "text": [
        "\n",
        "  1403  |    0.006292  |  \u001b[32m  0.006997\u001b[0m  |     0.899236  |             |  8.3s"
       ]
      },
      {
       "output_type": "stream",
       "stream": "stdout",
       "text": [
        "\n",
        "  1404  |    0.006320  |    0.007030  |     0.899081  |             |  8.3s"
       ]
      },
      {
       "output_type": "stream",
       "stream": "stdout",
       "text": [
        "\n",
        "  1405  |    0.006338  |    0.007055  |     0.898329  |             |  8.3s"
       ]
      },
      {
       "output_type": "stream",
       "stream": "stdout",
       "text": [
        "\n",
        "  1406  |    0.006330  |    0.007049  |     0.897943  |             |  8.3s"
       ]
      },
      {
       "output_type": "stream",
       "stream": "stdout",
       "text": [
        "\n",
        "  1407  |  \u001b[94m  0.006240\u001b[0m  |    0.007030  |     0.887573  |             |  8.2s"
       ]
      },
      {
       "output_type": "stream",
       "stream": "stdout",
       "text": [
        "\n",
        "  1408  |  \u001b[94m  0.006222\u001b[0m  |    0.007016  |     0.886813  |             |  8.2s"
       ]
      },
      {
       "output_type": "stream",
       "stream": "stdout",
       "text": [
        "\n",
        "  1409  |    0.006293  |    0.007030  |     0.895102  |             |  8.2s"
       ]
      },
      {
       "output_type": "stream",
       "stream": "stdout",
       "text": [
        "\n",
        "  1410  |    0.006322  |    0.007065  |     0.894718  |             |  8.2s"
       ]
      },
      {
       "output_type": "stream",
       "stream": "stdout",
       "text": [
        "\n",
        "  1411  |    0.006249  |    0.007019  |     0.890194  |             |  8.2s"
       ]
      },
      {
       "output_type": "stream",
       "stream": "stdout",
       "text": [
        "\n",
        "  1412  |    0.006281  |    0.007048  |     0.891146  |             |  8.2s"
       ]
      },
      {
       "output_type": "stream",
       "stream": "stdout",
       "text": [
        "\n",
        "  1413  |    0.006316  |    0.007063  |     0.894142  |             |  8.2s"
       ]
      },
      {
       "output_type": "stream",
       "stream": "stdout",
       "text": [
        "\n",
        "  1414  |    0.006299  |    0.007060  |     0.892231  |             |  8.2s"
       ]
      },
      {
       "output_type": "stream",
       "stream": "stdout",
       "text": [
        "\n",
        "  1415  |    0.006259  |    0.007026  |     0.890874  |             |  8.2s"
       ]
      },
      {
       "output_type": "stream",
       "stream": "stdout",
       "text": [
        "\n",
        "  1416  |    0.006253  |    0.007039  |     0.888385  |             |  8.3s"
       ]
      },
      {
       "output_type": "stream",
       "stream": "stdout",
       "text": [
        "\n",
        "  1417  |    0.006302  |    0.007033  |     0.896003  |             |  8.2s"
       ]
      },
      {
       "output_type": "stream",
       "stream": "stdout",
       "text": [
        "\n",
        "  1418  |  \u001b[94m  0.006129\u001b[0m  |    0.007029  |     0.872005  |             |  8.2s"
       ]
      },
      {
       "output_type": "stream",
       "stream": "stdout",
       "text": [
        "\n",
        "  1419  |    0.006239  |    0.007024  |     0.888259  |             |  8.2s"
       ]
      },
      {
       "output_type": "stream",
       "stream": "stdout",
       "text": [
        "\n",
        "  1420  |    0.006263  |    0.007043  |     0.889327  |             |  8.2s"
       ]
      },
      {
       "output_type": "stream",
       "stream": "stdout",
       "text": [
        "\n",
        "  1421  |    0.006241  |    0.007033  |     0.887393  |             |  8.2s"
       ]
      },
      {
       "output_type": "stream",
       "stream": "stdout",
       "text": [
        "\n",
        "  1422  |    0.006201  |  \u001b[32m  0.006991\u001b[0m  |     0.887055  |             |  8.2s"
       ]
      },
      {
       "output_type": "stream",
       "stream": "stdout",
       "text": [
        "\n",
        "  1423  |    0.006211  |    0.006998  |     0.887566  |             |  8.3s"
       ]
      },
      {
       "output_type": "stream",
       "stream": "stdout",
       "text": [
        "\n",
        "  1424  |    0.006303  |    0.007016  |     0.898344  |             |  8.3s"
       ]
      },
      {
       "output_type": "stream",
       "stream": "stdout",
       "text": [
        "\n",
        "  1425  |    0.006211  |    0.007005  |     0.886606  |             |  8.3s"
       ]
      },
      {
       "output_type": "stream",
       "stream": "stdout",
       "text": [
        "\n",
        "  1426  |    0.006199  |    0.007043  |     0.880171  |             |  8.3s"
       ]
      },
      {
       "output_type": "stream",
       "stream": "stdout",
       "text": [
        "\n",
        "  1427  |    0.006186  |    0.007014  |     0.881876  |             |  8.3s"
       ]
      },
      {
       "output_type": "stream",
       "stream": "stdout",
       "text": [
        "\n",
        "  1428  |    0.006278  |  \u001b[32m  0.006966\u001b[0m  |     0.901229  |             |  8.3s"
       ]
      },
      {
       "output_type": "stream",
       "stream": "stdout",
       "text": [
        "\n",
        "  1429  |    0.006247  |    0.006993  |     0.893346  |             |  8.3s"
       ]
      },
      {
       "output_type": "stream",
       "stream": "stdout",
       "text": [
        "\n",
        "  1430  |    0.006223  |    0.007017  |     0.886848  |             |  8.3s"
       ]
      },
      {
       "output_type": "stream",
       "stream": "stdout",
       "text": [
        "\n",
        "  1431  |    0.006194  |    0.007006  |     0.884177  |             |  8.4s"
       ]
      },
      {
       "output_type": "stream",
       "stream": "stdout",
       "text": [
        "\n",
        "  1432  |    0.006203  |    0.007024  |     0.883114  |             |  8.3s"
       ]
      },
      {
       "output_type": "stream",
       "stream": "stdout",
       "text": [
        "\n",
        "  1433  |    0.006229  |    0.007038  |     0.884974  |             |  8.3s"
       ]
      },
      {
       "output_type": "stream",
       "stream": "stdout",
       "text": [
        "\n",
        "  1434  |    0.006176  |    0.006990  |     0.883589  |             |  8.4s"
       ]
      },
      {
       "output_type": "stream",
       "stream": "stdout",
       "text": [
        "\n",
        "  1435  |    0.006228  |  \u001b[32m  0.006964\u001b[0m  |     0.894392  |             |  8.4s"
       ]
      },
      {
       "output_type": "stream",
       "stream": "stdout",
       "text": [
        "\n",
        "  1436  |    0.006238  |    0.006992  |     0.892292  |             |  8.3s"
       ]
      },
      {
       "output_type": "stream",
       "stream": "stdout",
       "text": [
        "\n",
        "  1437  |    0.006244  |    0.006967  |     0.896236  |             |  8.4s"
       ]
      },
      {
       "output_type": "stream",
       "stream": "stdout",
       "text": [
        "\n",
        "  1438  |    0.006191  |    0.006987  |     0.886094  |             |  8.4s"
       ]
      },
      {
       "output_type": "stream",
       "stream": "stdout",
       "text": [
        "\n",
        "  1439  |    0.006205  |    0.007034  |     0.882110  |             |  8.4s"
       ]
      },
      {
       "output_type": "stream",
       "stream": "stdout",
       "text": [
        "\n",
        "  1440  |    0.006207  |    0.007016  |     0.884781  |             |  8.4s"
       ]
      },
      {
       "output_type": "stream",
       "stream": "stdout",
       "text": [
        "\n",
        "  1441  |    0.006178  |    0.006984  |     0.884583  |             |  8.4s"
       ]
      },
      {
       "output_type": "stream",
       "stream": "stdout",
       "text": [
        "\n",
        "  1442  |    0.006170  |    0.006994  |     0.882158  |             |  8.4s"
       ]
      },
      {
       "output_type": "stream",
       "stream": "stdout",
       "text": [
        "\n",
        "  1443  |    0.006200  |  \u001b[32m  0.006959\u001b[0m  |     0.890915  |             |  8.4s"
       ]
      },
      {
       "output_type": "stream",
       "stream": "stdout",
       "text": [
        "\n",
        "  1444  |    0.006132  |    0.006988  |     0.877546  |             |  8.4s"
       ]
      },
      {
       "output_type": "stream",
       "stream": "stdout",
       "text": [
        "\n",
        "  1445  |    0.006213  |    0.006996  |     0.888121  |             |  8.4s"
       ]
      },
      {
       "output_type": "stream",
       "stream": "stdout",
       "text": [
        "\n",
        "  1446  |    0.006176  |    0.006988  |     0.883833  |             |  8.4s"
       ]
      },
      {
       "output_type": "stream",
       "stream": "stdout",
       "text": [
        "\n",
        "  1447  |    0.006146  |    0.007017  |     0.875790  |             |  8.4s"
       ]
      },
      {
       "output_type": "stream",
       "stream": "stdout",
       "text": [
        "\n",
        "  1448  |    0.006161  |    0.006977  |     0.883053  |             |  8.4s"
       ]
      },
      {
       "output_type": "stream",
       "stream": "stdout",
       "text": [
        "\n",
        "  1449  |    0.006221  |    0.006978  |     0.891492  |             |  8.3s"
       ]
      },
      {
       "output_type": "stream",
       "stream": "stdout",
       "text": [
        "\n",
        "  1450  |  \u001b[94m  0.006106\u001b[0m  |    0.007028  |     0.868918  |             |  8.3s"
       ]
      },
      {
       "output_type": "stream",
       "stream": "stdout",
       "text": [
        "\n",
        "  1451  |    0.006171  |    0.006992  |     0.882579  |             |  8.3s"
       ]
      },
      {
       "output_type": "stream",
       "stream": "stdout",
       "text": [
        "\n",
        "  1452  |    0.006123  |    0.007001  |     0.874578  |             |  8.3s"
       ]
      },
      {
       "output_type": "stream",
       "stream": "stdout",
       "text": [
        "\n",
        "  1453  |    0.006140  |    0.006983  |     0.879305  |             |  8.4s"
       ]
      },
      {
       "output_type": "stream",
       "stream": "stdout",
       "text": [
        "\n",
        "  1454  |    0.006192  |    0.006983  |     0.886724  |             |  8.3s"
       ]
      },
      {
       "output_type": "stream",
       "stream": "stdout",
       "text": [
        "\n",
        "  1455  |    0.006134  |  \u001b[32m  0.006949\u001b[0m  |     0.882820  |             |  8.3s"
       ]
      },
      {
       "output_type": "stream",
       "stream": "stdout",
       "text": [
        "\n",
        "  1456  |    0.006127  |    0.006966  |     0.879521  |             |  8.3s"
       ]
      },
      {
       "output_type": "stream",
       "stream": "stdout",
       "text": [
        "\n",
        "  1457  |    0.006115  |    0.006968  |     0.877603  |             |  8.4s"
       ]
      },
      {
       "output_type": "stream",
       "stream": "stdout",
       "text": [
        "\n",
        "  1458  |  \u001b[94m  0.006076\u001b[0m  |  \u001b[32m  0.006942\u001b[0m  |     0.875313  |             |  8.4s"
       ]
      },
      {
       "output_type": "stream",
       "stream": "stdout",
       "text": [
        "\n",
        "  1459  |    0.006103  |    0.007001  |     0.871733  |             |  8.4s"
       ]
      },
      {
       "output_type": "stream",
       "stream": "stdout",
       "text": [
        "\n",
        "  1460  |    0.006157  |    0.006976  |     0.882567  |             |  8.3s"
       ]
      },
      {
       "output_type": "stream",
       "stream": "stdout",
       "text": [
        "\n",
        "  1461  |    0.006179  |    0.006949  |     0.889141  |             |  8.3s"
       ]
      },
      {
       "output_type": "stream",
       "stream": "stdout",
       "text": [
        "\n",
        "  1462  |    0.006081  |    0.006976  |     0.871721  |             |  8.3s"
       ]
      },
      {
       "output_type": "stream",
       "stream": "stdout",
       "text": [
        "\n",
        "  1463  |    0.006127  |    0.006959  |     0.880369  |             |  8.2s"
       ]
      },
      {
       "output_type": "stream",
       "stream": "stdout",
       "text": [
        "\n",
        "  1464  |    0.006090  |    0.006987  |     0.871635  |             |  8.2s"
       ]
      },
      {
       "output_type": "stream",
       "stream": "stdout",
       "text": [
        "\n",
        "  1465  |    0.006112  |  \u001b[32m  0.006930\u001b[0m  |     0.881880  |             |  8.2s"
       ]
      },
      {
       "output_type": "stream",
       "stream": "stdout",
       "text": [
        "\n",
        "  1466  |    0.006093  |    0.006964  |     0.874897  |             |  8.2s"
       ]
      },
      {
       "output_type": "stream",
       "stream": "stdout",
       "text": [
        "\n",
        "  1467  |    0.006128  |  \u001b[32m  0.006913\u001b[0m  |     0.886508  |             |  8.2s"
       ]
      },
      {
       "output_type": "stream",
       "stream": "stdout",
       "text": [
        "\n",
        "  1468  |    0.006111  |    0.006961  |     0.877856  |             |  8.2s"
       ]
      },
      {
       "output_type": "stream",
       "stream": "stdout",
       "text": [
        "\n",
        "  1469  |  \u001b[94m  0.006034\u001b[0m  |    0.006955  |     0.867585  |             |  8.2s"
       ]
      },
      {
       "output_type": "stream",
       "stream": "stdout",
       "text": [
        "\n",
        "  1470  |    0.006142  |    0.006926  |     0.886857  |             |  8.2s"
       ]
      },
      {
       "output_type": "stream",
       "stream": "stdout",
       "text": [
        "\n",
        "  1471  |    0.006101  |    0.006964  |     0.875962  |             |  8.3s"
       ]
      },
      {
       "output_type": "stream",
       "stream": "stdout",
       "text": [
        "\n",
        "  1472  |    0.006117  |    0.006942  |     0.881142  |             |  8.3s"
       ]
      },
      {
       "output_type": "stream",
       "stream": "stdout",
       "text": [
        "\n",
        "  1473  |    0.006059  |    0.006969  |     0.869475  |             |  8.3s"
       ]
      },
      {
       "output_type": "stream",
       "stream": "stdout",
       "text": [
        "\n",
        "  1474  |    0.006117  |    0.007011  |     0.872516  |             |  8.3s"
       ]
      },
      {
       "output_type": "stream",
       "stream": "stdout",
       "text": [
        "\n",
        "  1475  |    0.006068  |    0.006958  |     0.871989  |             |  8.3s"
       ]
      },
      {
       "output_type": "stream",
       "stream": "stdout",
       "text": [
        "\n",
        "  1476  |  \u001b[94m  0.006029\u001b[0m  |    0.006941  |     0.868606  |             |  8.3s"
       ]
      },
      {
       "output_type": "stream",
       "stream": "stdout",
       "text": [
        "\n",
        "  1477  |    0.006054  |    0.006955  |     0.870411  |             |  8.3s"
       ]
      },
      {
       "output_type": "stream",
       "stream": "stdout",
       "text": [
        "\n",
        "  1478  |    0.006052  |    0.006970  |     0.868293  |             |  8.4s"
       ]
      },
      {
       "output_type": "stream",
       "stream": "stdout",
       "text": [
        "\n",
        "  1479  |    0.006042  |    0.006966  |     0.867322  |             |  8.4s"
       ]
      },
      {
       "output_type": "stream",
       "stream": "stdout",
       "text": [
        "\n",
        "  1480  |    0.006048  |    0.006982  |     0.866243  |             |  8.3s"
       ]
      },
      {
       "output_type": "stream",
       "stream": "stdout",
       "text": [
        "\n",
        "  1481  |    0.006102  |    0.006981  |     0.874143  |             |  8.4s"
       ]
      },
      {
       "output_type": "stream",
       "stream": "stdout",
       "text": [
        "\n",
        "  1482  |    0.006114  |    0.006980  |     0.875921  |             |  8.4s"
       ]
      },
      {
       "output_type": "stream",
       "stream": "stdout",
       "text": [
        "\n",
        "  1483  |    0.006059  |    0.006961  |     0.870421  |             |  8.4s"
       ]
      },
      {
       "output_type": "stream",
       "stream": "stdout",
       "text": [
        "\n",
        "  1484  |    0.006032  |    0.006933  |     0.870106  |             |  8.4s"
       ]
      },
      {
       "output_type": "stream",
       "stream": "stdout",
       "text": [
        "\n",
        "  1485  |    0.006052  |    0.006962  |     0.869228  |             |  8.4s"
       ]
      },
      {
       "output_type": "stream",
       "stream": "stdout",
       "text": [
        "\n",
        "  1486  |  \u001b[94m  0.006024\u001b[0m  |    0.006959  |     0.865740  |             |  8.4s"
       ]
      },
      {
       "output_type": "stream",
       "stream": "stdout",
       "text": [
        "\n",
        "  1487  |    0.006099  |    0.006962  |     0.875998  |             |  8.4s"
       ]
      },
      {
       "output_type": "stream",
       "stream": "stdout",
       "text": [
        "\n",
        "  1488  |    0.006087  |    0.006935  |     0.877716  |             |  8.3s"
       ]
      },
      {
       "output_type": "stream",
       "stream": "stdout",
       "text": [
        "\n",
        "  1489  |    0.006113  |    0.006955  |     0.878837  |             |  8.4s"
       ]
      },
      {
       "output_type": "stream",
       "stream": "stdout",
       "text": [
        "\n",
        "  1490  |    0.006082  |    0.006978  |     0.871541  |             |  8.4s"
       ]
      },
      {
       "output_type": "stream",
       "stream": "stdout",
       "text": [
        "\n",
        "  1491  |    0.006036  |    0.006971  |     0.865827  |             |  8.4s"
       ]
      },
      {
       "output_type": "stream",
       "stream": "stdout",
       "text": [
        "\n",
        "  1492  |  \u001b[94m  0.005993\u001b[0m  |    0.006941  |     0.863493  |             |  8.4s"
       ]
      },
      {
       "output_type": "stream",
       "stream": "stdout",
       "text": [
        "\n",
        "  1493  |    0.006060  |    0.006932  |     0.874272  |             |  8.4s"
       ]
      },
      {
       "output_type": "stream",
       "stream": "stdout",
       "text": [
        "\n",
        "  1494  |    0.005998  |    0.006938  |     0.864486  |             |  8.4s"
       ]
      },
      {
       "output_type": "stream",
       "stream": "stdout",
       "text": [
        "\n",
        "  1495  |    0.006011  |    0.006943  |     0.865677  |             |  8.4s"
       ]
      },
      {
       "output_type": "stream",
       "stream": "stdout",
       "text": [
        "\n",
        "  1496  |    0.006000  |    0.006952  |     0.862961  |             |  8.4s"
       ]
      },
      {
       "output_type": "stream",
       "stream": "stdout",
       "text": [
        "\n",
        "  1497  |    0.006065  |  \u001b[32m  0.006880\u001b[0m  |     0.881529  |             |  8.4s"
       ]
      },
      {
       "output_type": "stream",
       "stream": "stdout",
       "text": [
        "\n",
        "  1498  |  \u001b[94m  0.005984\u001b[0m  |    0.006953  |     0.860631  |             |  8.4s"
       ]
      },
      {
       "output_type": "stream",
       "stream": "stdout",
       "text": [
        "\n",
        "  1499  |    0.006031  |    0.006935  |     0.869629  |             |  8.4s"
       ]
      },
      {
       "output_type": "stream",
       "stream": "stdout",
       "text": [
        "\n",
        "  1500  |    0.006031  |    0.006930  |     0.870248  |             |  8.4s"
       ]
      },
      {
       "output_type": "stream",
       "stream": "stdout",
       "text": [
        "\n",
        "  1501  |  \u001b[94m  0.005959\u001b[0m  |    0.006930  |     0.859854  |             |  8.4s"
       ]
      },
      {
       "output_type": "stream",
       "stream": "stdout",
       "text": [
        "\n",
        "  1502  |    0.005980  |    0.006881  |     0.869138  |             |  8.4s"
       ]
      },
      {
       "output_type": "stream",
       "stream": "stdout",
       "text": [
        "\n",
        "  1503  |    0.006102  |    0.006945  |     0.878660  |             |  8.4s"
       ]
      },
      {
       "output_type": "stream",
       "stream": "stdout",
       "text": [
        "\n",
        "  1504  |    0.006038  |    0.006904  |     0.874516  |             |  8.4s"
       ]
      },
      {
       "output_type": "stream",
       "stream": "stdout",
       "text": [
        "\n",
        "  1505  |  \u001b[94m  0.005916\u001b[0m  |    0.006949  |     0.851285  |             |  8.4s"
       ]
      },
      {
       "output_type": "stream",
       "stream": "stdout",
       "text": [
        "\n",
        "  1506  |    0.006009  |    0.006961  |     0.863237  |             |  8.4s"
       ]
      },
      {
       "output_type": "stream",
       "stream": "stdout",
       "text": [
        "\n",
        "  1507  |    0.006046  |  \u001b[32m  0.006877\u001b[0m  |     0.879082  |             |  8.4s"
       ]
      },
      {
       "output_type": "stream",
       "stream": "stdout",
       "text": [
        "\n",
        "  1508  |    0.005952  |    0.006943  |     0.857182  |             |  8.4s"
       ]
      },
      {
       "output_type": "stream",
       "stream": "stdout",
       "text": [
        "\n",
        "  1509  |    0.006017  |    0.006966  |     0.863819  |             |  8.4s"
       ]
      },
      {
       "output_type": "stream",
       "stream": "stdout",
       "text": [
        "\n",
        "  1510  |    0.005924  |    0.006929  |     0.854978  |             |  8.4s"
       ]
      },
      {
       "output_type": "stream",
       "stream": "stdout",
       "text": [
        "\n",
        "  1511  |    0.005960  |    0.006900  |     0.863807  |             |  8.4s"
       ]
      },
      {
       "output_type": "stream",
       "stream": "stdout",
       "text": [
        "\n",
        "  1512  |    0.005996  |    0.006920  |     0.866472  |             |  8.4s"
       ]
      },
      {
       "output_type": "stream",
       "stream": "stdout",
       "text": [
        "\n",
        "  1513  |    0.005980  |    0.006934  |     0.862404  |             |  8.4s"
       ]
      },
      {
       "output_type": "stream",
       "stream": "stdout",
       "text": [
        "\n",
        "  1514  |    0.005997  |    0.006905  |     0.868468  |             |  8.4s"
       ]
      },
      {
       "output_type": "stream",
       "stream": "stdout",
       "text": [
        "\n",
        "  1515  |    0.005921  |    0.006896  |     0.858525  |             |  8.4s"
       ]
      },
      {
       "output_type": "stream",
       "stream": "stdout",
       "text": [
        "\n",
        "  1516  |    0.005940  |    0.006923  |     0.858013  |             |  8.4s"
       ]
      },
      {
       "output_type": "stream",
       "stream": "stdout",
       "text": [
        "\n",
        "  1517  |    0.005983  |    0.006928  |     0.863532  |             |  8.4s"
       ]
      },
      {
       "output_type": "stream",
       "stream": "stdout",
       "text": [
        "\n",
        "  1518  |    0.005990  |    0.006956  |     0.861111  |             |  8.4s"
       ]
      },
      {
       "output_type": "stream",
       "stream": "stdout",
       "text": [
        "\n",
        "  1519  |    0.005958  |    0.006922  |     0.860757  |             |  8.4s"
       ]
      },
      {
       "output_type": "stream",
       "stream": "stdout",
       "text": [
        "\n",
        "  1520  |    0.005998  |    0.006900  |     0.869371  |             |  8.4s"
       ]
      },
      {
       "output_type": "stream",
       "stream": "stdout",
       "text": [
        "\n",
        "  1521  |    0.005944  |    0.006933  |     0.857394  |             |  8.4s"
       ]
      },
      {
       "output_type": "stream",
       "stream": "stdout",
       "text": [
        "\n",
        "  1522  |    0.005941  |  \u001b[32m  0.006860\u001b[0m  |     0.865917  |             |  8.4s"
       ]
      },
      {
       "output_type": "stream",
       "stream": "stdout",
       "text": [
        "\n",
        "  1523  |    0.005935  |    0.006953  |     0.853592  |             |  8.4s"
       ]
      },
      {
       "output_type": "stream",
       "stream": "stdout",
       "text": [
        "\n",
        "  1524  |  \u001b[94m  0.005886\u001b[0m  |    0.006922  |     0.850396  |             |  8.4s"
       ]
      },
      {
       "output_type": "stream",
       "stream": "stdout",
       "text": [
        "\n",
        "  1525  |    0.005907  |    0.006919  |     0.853781  |             |  8.5s"
       ]
      },
      {
       "output_type": "stream",
       "stream": "stdout",
       "text": [
        "\n",
        "  1526  |    0.005952  |    0.006902  |     0.862323  |             |  8.5s"
       ]
      },
      {
       "output_type": "stream",
       "stream": "stdout",
       "text": [
        "\n",
        "  1527  |    0.005951  |    0.006910  |     0.861180  |             |  8.5s"
       ]
      },
      {
       "output_type": "stream",
       "stream": "stdout",
       "text": [
        "\n",
        "  1528  |    0.005929  |    0.006909  |     0.858202  |             |  8.5s"
       ]
      },
      {
       "output_type": "stream",
       "stream": "stdout",
       "text": [
        "\n",
        "  1529  |    0.005900  |    0.006891  |     0.856199  |             |  8.4s"
       ]
      },
      {
       "output_type": "stream",
       "stream": "stdout",
       "text": [
        "\n",
        "  1530  |    0.005909  |    0.006874  |     0.859606  |             |  8.4s"
       ]
      },
      {
       "output_type": "stream",
       "stream": "stdout",
       "text": [
        "\n",
        "  1531  |    0.005906  |    0.006946  |     0.850177  |             |  8.4s"
       ]
      },
      {
       "output_type": "stream",
       "stream": "stdout",
       "text": [
        "\n",
        "  1532  |    0.005889  |    0.006923  |     0.850561  |             |  8.4s"
       ]
      },
      {
       "output_type": "stream",
       "stream": "stdout",
       "text": [
        "\n",
        "  1533  |    0.005907  |    0.006895  |     0.856637  |             |  8.4s"
       ]
      },
      {
       "output_type": "stream",
       "stream": "stdout",
       "text": [
        "\n",
        "  1534  |    0.005930  |    0.006893  |     0.860261  |             |  8.4s"
       ]
      },
      {
       "output_type": "stream",
       "stream": "stdout",
       "text": [
        "\n",
        "  1535  |  \u001b[94m  0.005856\u001b[0m  |    0.006923  |     0.845828  |             |  8.5s"
       ]
      },
      {
       "output_type": "stream",
       "stream": "stdout",
       "text": [
        "\n",
        "  1536  |    0.005888  |    0.006919  |     0.850974  |             |  8.5s"
       ]
      },
      {
       "output_type": "stream",
       "stream": "stdout",
       "text": [
        "\n",
        "  1537  |    0.005912  |    0.006898  |     0.857157  |             |  8.4s"
       ]
      },
      {
       "output_type": "stream",
       "stream": "stdout",
       "text": [
        "\n",
        "  1538  |    0.005864  |    0.006870  |     0.853605  |             |  8.5s"
       ]
      },
      {
       "output_type": "stream",
       "stream": "stdout",
       "text": [
        "\n",
        "  1539  |    0.006007  |  \u001b[32m  0.006860\u001b[0m  |     0.875649  |             |  8.4s"
       ]
      },
      {
       "output_type": "stream",
       "stream": "stdout",
       "text": [
        "\n",
        "  1540  |    0.005897  |  \u001b[32m  0.006840\u001b[0m  |     0.862064  |             |  8.4s"
       ]
      },
      {
       "output_type": "stream",
       "stream": "stdout",
       "text": [
        "\n",
        "  1541  |    0.005905  |    0.006874  |     0.859056  |             |  8.4s"
       ]
      },
      {
       "output_type": "stream",
       "stream": "stdout",
       "text": [
        "\n",
        "  1542  |    0.005862  |    0.006894  |     0.850356  |             |  8.4s"
       ]
      },
      {
       "output_type": "stream",
       "stream": "stdout",
       "text": [
        "\n",
        "  1543  |    0.005861  |    0.006898  |     0.849599  |             |  8.4s"
       ]
      },
      {
       "output_type": "stream",
       "stream": "stdout",
       "text": [
        "\n",
        "  1544  |    0.005974  |    0.006918  |     0.863547  |             |  8.4s"
       ]
      },
      {
       "output_type": "stream",
       "stream": "stdout",
       "text": [
        "\n",
        "  1545  |    0.005872  |    0.006907  |     0.850169  |             |  8.4s"
       ]
      },
      {
       "output_type": "stream",
       "stream": "stdout",
       "text": [
        "\n",
        "  1546  |    0.005861  |    0.006941  |     0.844390  |             |  8.4s"
       ]
      },
      {
       "output_type": "stream",
       "stream": "stdout",
       "text": [
        "\n",
        "  1547  |    0.005891  |    0.006905  |     0.853127  |             |  8.4s"
       ]
      },
      {
       "output_type": "stream",
       "stream": "stdout",
       "text": [
        "\n",
        "  1548  |  \u001b[94m  0.005839\u001b[0m  |    0.006910  |     0.845010  |             |  8.4s"
       ]
      },
      {
       "output_type": "stream",
       "stream": "stdout",
       "text": [
        "\n",
        "  1549  |  \u001b[94m  0.005803\u001b[0m  |    0.006896  |     0.841521  |             |  8.4s"
       ]
      },
      {
       "output_type": "stream",
       "stream": "stdout",
       "text": [
        "\n",
        "  1550  |    0.005830  |    0.006887  |     0.846549  |             |  8.4s"
       ]
      },
      {
       "output_type": "stream",
       "stream": "stdout",
       "text": [
        "\n",
        "  1551  |    0.005858  |    0.006861  |     0.853798  |             |  8.4s"
       ]
      },
      {
       "output_type": "stream",
       "stream": "stdout",
       "text": [
        "\n",
        "  1552  |    0.005816  |    0.006895  |     0.843522  |             |  8.4s"
       ]
      },
      {
       "output_type": "stream",
       "stream": "stdout",
       "text": [
        "\n",
        "  1553  |    0.005839  |    0.006879  |     0.848799  |             |  8.3s"
       ]
      },
      {
       "output_type": "stream",
       "stream": "stdout",
       "text": [
        "\n",
        "  1554  |    0.005920  |    0.006864  |     0.862506  |             |  8.4s"
       ]
      },
      {
       "output_type": "stream",
       "stream": "stdout",
       "text": [
        "\n",
        "  1555  |    0.005836  |  \u001b[32m  0.006835\u001b[0m  |     0.853830  |             |  8.4s"
       ]
      },
      {
       "output_type": "stream",
       "stream": "stdout",
       "text": [
        "\n",
        "  1556  |    0.005883  |    0.006874  |     0.855845  |             |  8.5s"
       ]
      },
      {
       "output_type": "stream",
       "stream": "stdout",
       "text": [
        "\n",
        "  1557  |    0.005866  |    0.006902  |     0.849857  |             |  8.4s"
       ]
      },
      {
       "output_type": "stream",
       "stream": "stdout",
       "text": [
        "\n",
        "  1558  |    0.005830  |    0.006864  |     0.849333  |             |  8.5s"
       ]
      },
      {
       "output_type": "stream",
       "stream": "stdout",
       "text": [
        "\n",
        "  1559  |    0.005816  |    0.006861  |     0.847578  |             |  8.5s"
       ]
      },
      {
       "output_type": "stream",
       "stream": "stdout",
       "text": [
        "\n",
        "  1560  |    0.005844  |  \u001b[32m  0.006834\u001b[0m  |     0.855155  |             |  8.5s"
       ]
      },
      {
       "output_type": "stream",
       "stream": "stdout",
       "text": [
        "\n",
        "  1561  |    0.005857  |    0.006861  |     0.853624  |             |  8.4s"
       ]
      },
      {
       "output_type": "stream",
       "stream": "stdout",
       "text": [
        "\n",
        "  1562  |    0.005813  |    0.006868  |     0.846343  |             |  8.4s"
       ]
      },
      {
       "output_type": "stream",
       "stream": "stdout",
       "text": [
        "\n",
        "  1563  |    0.005839  |  \u001b[32m  0.006811\u001b[0m  |     0.857272  |             |  8.4s"
       ]
      },
      {
       "output_type": "stream",
       "stream": "stdout",
       "text": [
        "\n",
        "  1564  |  \u001b[94m  0.005789\u001b[0m  |    0.006840  |     0.846400  |             |  8.5s"
       ]
      },
      {
       "output_type": "stream",
       "stream": "stdout",
       "text": [
        "\n",
        "  1565  |    0.005805  |    0.006867  |     0.845266  |             |  8.5s"
       ]
      },
      {
       "output_type": "stream",
       "stream": "stdout",
       "text": [
        "\n",
        "  1566  |    0.005847  |    0.006865  |     0.851673  |             |  8.5s"
       ]
      },
      {
       "output_type": "stream",
       "stream": "stdout",
       "text": [
        "\n",
        "  1567  |    0.005866  |    0.006876  |     0.853142  |             |  8.5s"
       ]
      },
      {
       "output_type": "stream",
       "stream": "stdout",
       "text": [
        "\n",
        "  1568  |    0.005825  |    0.006865  |     0.848578  |             |  8.4s"
       ]
      },
      {
       "output_type": "stream",
       "stream": "stdout",
       "text": [
        "\n",
        "  1569  |    0.005798  |    0.006851  |     0.846206  |             |  8.4s"
       ]
      },
      {
       "output_type": "stream",
       "stream": "stdout",
       "text": [
        "\n",
        "  1570  |    0.005792  |    0.006853  |     0.845172  |             |  8.4s"
       ]
      },
      {
       "output_type": "stream",
       "stream": "stdout",
       "text": [
        "\n",
        "  1571  |    0.005842  |    0.006868  |     0.850571  |             |  8.4s"
       ]
      },
      {
       "output_type": "stream",
       "stream": "stdout",
       "text": [
        "\n",
        "  1572  |    0.005835  |    0.006849  |     0.851955  |             |  8.4s"
       ]
      },
      {
       "output_type": "stream",
       "stream": "stdout",
       "text": [
        "\n",
        "  1573  |    0.005818  |    0.006831  |     0.851763  |             |  8.4s"
       ]
      },
      {
       "output_type": "stream",
       "stream": "stdout",
       "text": [
        "\n",
        "  1574  |    0.005810  |    0.006878  |     0.844791  |             |  8.4s"
       ]
      },
      {
       "output_type": "stream",
       "stream": "stdout",
       "text": [
        "\n",
        "  1575  |  \u001b[94m  0.005736\u001b[0m  |    0.006878  |     0.834046  |             |  8.4s"
       ]
      },
      {
       "output_type": "stream",
       "stream": "stdout",
       "text": [
        "\n",
        "  1576  |    0.005821  |    0.006855  |     0.849132  |             |  8.4s"
       ]
      },
      {
       "output_type": "stream",
       "stream": "stdout",
       "text": [
        "\n",
        "  1577  |    0.005808  |    0.006842  |     0.848842  |             |  8.4s"
       ]
      },
      {
       "output_type": "stream",
       "stream": "stdout",
       "text": [
        "\n",
        "  1578  |    0.005795  |    0.006835  |     0.847842  |             |  8.4s"
       ]
      },
      {
       "output_type": "stream",
       "stream": "stdout",
       "text": [
        "\n",
        "  1579  |    0.005740  |    0.006853  |     0.837662  |             |  8.4s"
       ]
      },
      {
       "output_type": "stream",
       "stream": "stdout",
       "text": [
        "\n",
        "  1580  |    0.005826  |    0.006864  |     0.848672  |             |  8.4s"
       ]
      },
      {
       "output_type": "stream",
       "stream": "stdout",
       "text": [
        "\n",
        "  1581  |  \u001b[94m  0.005735\u001b[0m  |    0.006856  |     0.836452  |             |  8.3s"
       ]
      },
      {
       "output_type": "stream",
       "stream": "stdout",
       "text": [
        "\n",
        "  1582  |  \u001b[94m  0.005729\u001b[0m  |    0.006829  |     0.838982  |             |  8.3s"
       ]
      },
      {
       "output_type": "stream",
       "stream": "stdout",
       "text": [
        "\n",
        "  1583  |    0.005757  |    0.006883  |     0.836472  |             |  8.2s"
       ]
      },
      {
       "output_type": "stream",
       "stream": "stdout",
       "text": [
        "\n",
        "  1584  |    0.005777  |    0.006826  |     0.846286  |             |  8.2s"
       ]
      },
      {
       "output_type": "stream",
       "stream": "stdout",
       "text": [
        "\n",
        "  1585  |    0.005736  |    0.006848  |     0.837568  |             |  8.2s"
       ]
      },
      {
       "output_type": "stream",
       "stream": "stdout",
       "text": [
        "\n",
        "  1586  |    0.005764  |    0.006841  |     0.842660  |             |  8.2s"
       ]
      },
      {
       "output_type": "stream",
       "stream": "stdout",
       "text": [
        "\n",
        "  1587  |    0.005814  |    0.006873  |     0.845872  |             |  8.2s"
       ]
      },
      {
       "output_type": "stream",
       "stream": "stdout",
       "text": [
        "\n",
        "  1588  |    0.005791  |    0.006837  |     0.846976  |             |  8.3s"
       ]
      },
      {
       "output_type": "stream",
       "stream": "stdout",
       "text": [
        "\n",
        "  1589  |    0.005787  |    0.006816  |     0.849019  |             |  8.3s"
       ]
      },
      {
       "output_type": "stream",
       "stream": "stdout",
       "text": [
        "\n",
        "  1590  |    0.005793  |    0.006836  |     0.847433  |             |  8.3s"
       ]
      },
      {
       "output_type": "stream",
       "stream": "stdout",
       "text": [
        "\n",
        "  1591  |    0.005784  |    0.006851  |     0.844354  |             |  8.3s"
       ]
      },
      {
       "output_type": "stream",
       "stream": "stdout",
       "text": [
        "\n",
        "  1592  |    0.005730  |    0.006833  |     0.838567  |             |  8.2s"
       ]
      },
      {
       "output_type": "stream",
       "stream": "stdout",
       "text": [
        "\n",
        "  1593  |    0.005745  |    0.006821  |     0.842278  |             |  8.2s"
       ]
      },
      {
       "output_type": "stream",
       "stream": "stdout",
       "text": [
        "\n",
        "  1594  |    0.005797  |    0.006821  |     0.849788  |             |  8.2s"
       ]
      },
      {
       "output_type": "stream",
       "stream": "stdout",
       "text": [
        "\n",
        "  1595  |    0.005738  |    0.006820  |     0.841319  |             |  8.2s"
       ]
      },
      {
       "output_type": "stream",
       "stream": "stdout",
       "text": [
        "\n",
        "  1596  |    0.005767  |  \u001b[32m  0.006797\u001b[0m  |     0.848480  |             |  8.2s"
       ]
      },
      {
       "output_type": "stream",
       "stream": "stdout",
       "text": [
        "\n",
        "  1597  |    0.005742  |    0.006833  |     0.840421  |             |  8.2s"
       ]
      },
      {
       "output_type": "stream",
       "stream": "stdout",
       "text": [
        "\n",
        "  1598  |    0.005737  |    0.006857  |     0.836656  |             |  8.2s"
       ]
      },
      {
       "output_type": "stream",
       "stream": "stdout",
       "text": [
        "\n",
        "  1599  |  \u001b[94m  0.005686\u001b[0m  |    0.006848  |     0.830306  |             |  8.2s"
       ]
      },
      {
       "output_type": "stream",
       "stream": "stdout",
       "text": [
        "\n",
        "  1600  |    0.005696  |    0.006799  |     0.837687  |             |  8.2s"
       ]
      },
      {
       "output_type": "stream",
       "stream": "stdout",
       "text": [
        "\n",
        "  1601  |    0.005704  |  \u001b[32m  0.006768\u001b[0m  |     0.842779  |             |  8.3s"
       ]
      },
      {
       "output_type": "stream",
       "stream": "stdout",
       "text": [
        "\n",
        "  1602  |    0.005764  |    0.006808  |     0.846698  |             |  8.3s"
       ]
      },
      {
       "output_type": "stream",
       "stream": "stdout",
       "text": [
        "\n",
        "  1603  |    0.005756  |    0.006859  |     0.839246  |             |  8.3s"
       ]
      },
      {
       "output_type": "stream",
       "stream": "stdout",
       "text": [
        "\n",
        "  1604  |    0.005701  |    0.006828  |     0.834869  |             |  8.3s"
       ]
      },
      {
       "output_type": "stream",
       "stream": "stdout",
       "text": [
        "\n",
        "  1605  |    0.005738  |    0.006858  |     0.836724  |             |  8.3s"
       ]
      },
      {
       "output_type": "stream",
       "stream": "stdout",
       "text": [
        "\n",
        "  1606  |    0.005714  |    0.006835  |     0.835972  |             |  8.3s"
       ]
      },
      {
       "output_type": "stream",
       "stream": "stdout",
       "text": [
        "\n",
        "  1607  |    0.005793  |    0.006865  |     0.843769  |             |  8.3s"
       ]
      },
      {
       "output_type": "stream",
       "stream": "stdout",
       "text": [
        "\n",
        "  1608  |  \u001b[94m  0.005681\u001b[0m  |    0.006816  |     0.833405  |             |  8.4s"
       ]
      },
      {
       "output_type": "stream",
       "stream": "stdout",
       "text": [
        "\n",
        "  1609  |    0.005709  |    0.006824  |     0.836628  |             |  8.4s"
       ]
      },
      {
       "output_type": "stream",
       "stream": "stdout",
       "text": [
        "\n",
        "  1610  |    0.005703  |    0.006797  |     0.839116  |             |  8.4s"
       ]
      },
      {
       "output_type": "stream",
       "stream": "stdout",
       "text": [
        "\n",
        "  1611  |    0.005737  |    0.006809  |     0.842558  |             |  8.4s"
       ]
      },
      {
       "output_type": "stream",
       "stream": "stdout",
       "text": [
        "\n",
        "  1612  |    0.005741  |    0.006834  |     0.839992  |             |  8.3s"
       ]
      },
      {
       "output_type": "stream",
       "stream": "stdout",
       "text": [
        "\n",
        "  1613  |    0.005732  |    0.006833  |     0.838978  |             |  8.3s"
       ]
      },
      {
       "output_type": "stream",
       "stream": "stdout",
       "text": [
        "\n",
        "  1614  |    0.005725  |    0.006830  |     0.838198  |             |  8.4s"
       ]
      },
      {
       "output_type": "stream",
       "stream": "stdout",
       "text": [
        "\n",
        "  1615  |    0.005762  |    0.006792  |     0.848264  |             |  8.4s"
       ]
      },
      {
       "output_type": "stream",
       "stream": "stdout",
       "text": [
        "\n",
        "  1616  |    0.005724  |    0.006837  |     0.837201  |             |  8.4s"
       ]
      },
      {
       "output_type": "stream",
       "stream": "stdout",
       "text": [
        "\n",
        "  1617  |    0.005710  |    0.006831  |     0.835864  |             |  8.4s"
       ]
      },
      {
       "output_type": "stream",
       "stream": "stdout",
       "text": [
        "\n",
        "  1618  |    0.005709  |    0.006822  |     0.836849  |             |  8.3s"
       ]
      },
      {
       "output_type": "stream",
       "stream": "stdout",
       "text": [
        "\n",
        "  1619  |    0.005686  |    0.006815  |     0.834306  |             |  8.3s"
       ]
      },
      {
       "output_type": "stream",
       "stream": "stdout",
       "text": [
        "\n",
        "  1620  |    0.005688  |    0.006805  |     0.835865  |             |  8.3s"
       ]
      },
      {
       "output_type": "stream",
       "stream": "stdout",
       "text": [
        "\n",
        "  1621  |  \u001b[94m  0.005677\u001b[0m  |    0.006820  |     0.832421  |             |  8.4s"
       ]
      },
      {
       "output_type": "stream",
       "stream": "stdout",
       "text": [
        "\n",
        "  1622  |  \u001b[94m  0.005653\u001b[0m  |    0.006820  |     0.828814  |             |  8.4s"
       ]
      },
      {
       "output_type": "stream",
       "stream": "stdout",
       "text": [
        "\n",
        "  1623  |    0.005660  |    0.006806  |     0.831602  |             |  8.4s"
       ]
      },
      {
       "output_type": "stream",
       "stream": "stdout",
       "text": [
        "\n",
        "  1624  |  \u001b[94m  0.005618\u001b[0m  |    0.006797  |     0.826532  |             |  8.4s"
       ]
      },
      {
       "output_type": "stream",
       "stream": "stdout",
       "text": [
        "\n",
        "  1625  |    0.005695  |    0.006801  |     0.837355  |             |  8.4s"
       ]
      },
      {
       "output_type": "stream",
       "stream": "stdout",
       "text": [
        "\n",
        "  1626  |    0.005626  |    0.006789  |     0.828697  |             |  8.4s"
       ]
      },
      {
       "output_type": "stream",
       "stream": "stdout",
       "text": [
        "\n",
        "  1627  |    0.005678  |    0.006805  |     0.834434  |             |  8.4s"
       ]
      },
      {
       "output_type": "stream",
       "stream": "stdout",
       "text": [
        "\n",
        "  1628  |    0.005670  |  \u001b[32m  0.006768\u001b[0m  |     0.837738  |             |  8.4s"
       ]
      },
      {
       "output_type": "stream",
       "stream": "stdout",
       "text": [
        "\n",
        "  1629  |    0.005662  |    0.006846  |     0.827028  |             |  8.4s"
       ]
      },
      {
       "output_type": "stream",
       "stream": "stdout",
       "text": [
        "\n",
        "  1630  |    0.005678  |    0.006798  |     0.835222  |             |  8.4s"
       ]
      },
      {
       "output_type": "stream",
       "stream": "stdout",
       "text": [
        "\n",
        "  1631  |  \u001b[94m  0.005593\u001b[0m  |    0.006813  |     0.821049  |             |  8.4s"
       ]
      },
      {
       "output_type": "stream",
       "stream": "stdout",
       "text": [
        "\n",
        "  1632  |    0.005684  |    0.006817  |     0.833812  |             |  8.4s"
       ]
      },
      {
       "output_type": "stream",
       "stream": "stdout",
       "text": [
        "\n",
        "  1633  |  \u001b[94m  0.005559\u001b[0m  |    0.006777  |     0.820296  |             |  8.4s"
       ]
      },
      {
       "output_type": "stream",
       "stream": "stdout",
       "text": [
        "\n",
        "  1634  |    0.005635  |    0.006775  |     0.831641  |             |  8.3s"
       ]
      },
      {
       "output_type": "stream",
       "stream": "stdout",
       "text": [
        "\n",
        "  1635  |    0.005576  |    0.006814  |     0.818305  |             |  8.4s"
       ]
      },
      {
       "output_type": "stream",
       "stream": "stdout",
       "text": [
        "\n",
        "  1636  |    0.005674  |    0.006788  |     0.835779  |             |  8.4s"
       ]
      },
      {
       "output_type": "stream",
       "stream": "stdout",
       "text": [
        "\n",
        "  1637  |    0.005669  |    0.006775  |     0.836763  |             |  8.3s"
       ]
      },
      {
       "output_type": "stream",
       "stream": "stdout",
       "text": [
        "\n",
        "  1638  |    0.005601  |    0.006771  |     0.827213  |             |  8.3s"
       ]
      },
      {
       "output_type": "stream",
       "stream": "stdout",
       "text": [
        "\n",
        "  1639  |    0.005592  |    0.006790  |     0.823580  |             |  8.2s"
       ]
      },
      {
       "output_type": "stream",
       "stream": "stdout",
       "text": [
        "\n",
        "  1640  |    0.005615  |    0.006800  |     0.825702  |             |  8.2s"
       ]
      },
      {
       "output_type": "stream",
       "stream": "stdout",
       "text": [
        "\n",
        "  1641  |    0.005631  |    0.006782  |     0.830233  |             |  8.3s"
       ]
      },
      {
       "output_type": "stream",
       "stream": "stdout",
       "text": [
        "\n",
        "  1642  |    0.005641  |    0.006831  |     0.825694  |             |  8.3s"
       ]
      },
      {
       "output_type": "stream",
       "stream": "stdout",
       "text": [
        "\n",
        "  1643  |    0.005625  |    0.006787  |     0.828831  |             |  8.3s"
       ]
      },
      {
       "output_type": "stream",
       "stream": "stdout",
       "text": [
        "\n",
        "  1644  |    0.005644  |    0.006835  |     0.825682  |             |  8.2s"
       ]
      },
      {
       "output_type": "stream",
       "stream": "stdout",
       "text": [
        "\n",
        "  1645  |    0.005652  |    0.006779  |     0.833839  |             |  8.2s"
       ]
      },
      {
       "output_type": "stream",
       "stream": "stdout",
       "text": [
        "\n",
        "  1646  |    0.005596  |    0.006790  |     0.824121  |             |  8.2s"
       ]
      },
      {
       "output_type": "stream",
       "stream": "stdout",
       "text": [
        "\n",
        "  1647  |    0.005617  |    0.006792  |     0.827042  |             |  8.2s"
       ]
      },
      {
       "output_type": "stream",
       "stream": "stdout",
       "text": [
        "\n",
        "  1648  |  \u001b[94m  0.005545\u001b[0m  |    0.006791  |     0.816522  |             |  8.2s"
       ]
      },
      {
       "output_type": "stream",
       "stream": "stdout",
       "text": [
        "\n",
        "  1649  |    0.005624  |  \u001b[32m  0.006766\u001b[0m  |     0.831217  |             |  8.2s"
       ]
      },
      {
       "output_type": "stream",
       "stream": "stdout",
       "text": [
        "\n",
        "  1650  |    0.005591  |    0.006771  |     0.825707  |             |  8.2s"
       ]
      },
      {
       "output_type": "stream",
       "stream": "stdout",
       "text": [
        "\n",
        "  1651  |    0.005661  |  \u001b[32m  0.006749\u001b[0m  |     0.838813  |             |  8.2s"
       ]
      },
      {
       "output_type": "stream",
       "stream": "stdout",
       "text": [
        "\n",
        "  1652  |    0.005647  |    0.006820  |     0.827978  |             |  8.3s"
       ]
      },
      {
       "output_type": "stream",
       "stream": "stdout",
       "text": [
        "\n",
        "  1653  |    0.005605  |    0.006781  |     0.826573  |             |  8.5s"
       ]
      },
      {
       "output_type": "stream",
       "stream": "stdout",
       "text": [
        "\n",
        "  1654  |    0.005569  |    0.006762  |     0.823559  |             |  8.4s"
       ]
      },
      {
       "output_type": "stream",
       "stream": "stdout",
       "text": [
        "\n",
        "  1655  |    0.005583  |    0.006791  |     0.822229  |             |  8.5s"
       ]
      },
      {
       "output_type": "stream",
       "stream": "stdout",
       "text": [
        "\n",
        "  1656  |    0.005548  |    0.006769  |     0.819596  |             |  8.4s"
       ]
      },
      {
       "output_type": "stream",
       "stream": "stdout",
       "text": [
        "\n",
        "  1657  |    0.005577  |  \u001b[32m  0.006745\u001b[0m  |     0.826836  |             |  8.4s"
       ]
      },
      {
       "output_type": "stream",
       "stream": "stdout",
       "text": [
        "\n",
        "  1658  |  \u001b[94m  0.005537\u001b[0m  |    0.006749  |     0.820399  |             |  8.4s"
       ]
      },
      {
       "output_type": "stream",
       "stream": "stdout",
       "text": [
        "\n",
        "  1659  |    0.005636  |    0.006767  |     0.832854  |             |  8.4s"
       ]
      },
      {
       "output_type": "stream",
       "stream": "stdout",
       "text": [
        "\n",
        "  1660  |    0.005594  |    0.006758  |     0.827741  |             |  8.4s"
       ]
      },
      {
       "output_type": "stream",
       "stream": "stdout",
       "text": [
        "\n",
        "  1661  |    0.005600  |    0.006764  |     0.827933  |             |  8.4s"
       ]
      },
      {
       "output_type": "stream",
       "stream": "stdout",
       "text": [
        "\n",
        "  1662  |    0.005559  |    0.006774  |     0.820577  |             |  8.4s"
       ]
      },
      {
       "output_type": "stream",
       "stream": "stdout",
       "text": [
        "\n",
        "  1663  |    0.005564  |    0.006799  |     0.818391  |             |  8.4s"
       ]
      },
      {
       "output_type": "stream",
       "stream": "stdout",
       "text": [
        "\n",
        "  1664  |    0.005575  |    0.006805  |     0.819196  |             |  8.4s"
       ]
      },
      {
       "output_type": "stream",
       "stream": "stdout",
       "text": [
        "\n",
        "  1665  |    0.005537  |    0.006803  |     0.813964  |             |  8.4s"
       ]
      },
      {
       "output_type": "stream",
       "stream": "stdout",
       "text": [
        "\n",
        "  1666  |    0.005583  |    0.006771  |     0.824448  |             |  8.4s"
       ]
      },
      {
       "output_type": "stream",
       "stream": "stdout",
       "text": [
        "\n",
        "  1667  |    0.005556  |    0.006777  |     0.819764  |             |  8.4s"
       ]
      },
      {
       "output_type": "stream",
       "stream": "stdout",
       "text": [
        "\n",
        "  1668  |  \u001b[94m  0.005526\u001b[0m  |    0.006794  |     0.813325  |             |  8.4s"
       ]
      },
      {
       "output_type": "stream",
       "stream": "stdout",
       "text": [
        "\n",
        "  1669  |    0.005569  |    0.006794  |     0.819717  |             |  8.4s"
       ]
      },
      {
       "output_type": "stream",
       "stream": "stdout",
       "text": [
        "\n",
        "  1670  |    0.005560  |    0.006751  |     0.823646  |             |  8.5s"
       ]
      },
      {
       "output_type": "stream",
       "stream": "stdout",
       "text": [
        "\n",
        "  1671  |    0.005577  |    0.006843  |     0.814992  |             |  8.5s"
       ]
      },
      {
       "output_type": "stream",
       "stream": "stdout",
       "text": [
        "\n",
        "  1672  |    0.005558  |    0.006788  |     0.818777  |             |  8.4s"
       ]
      },
      {
       "output_type": "stream",
       "stream": "stdout",
       "text": [
        "\n",
        "  1673  |  \u001b[94m  0.005509\u001b[0m  |    0.006797  |     0.810586  |             |  8.4s"
       ]
      },
      {
       "output_type": "stream",
       "stream": "stdout",
       "text": [
        "\n",
        "  1674  |    0.005514  |    0.006753  |     0.816468  |             |  8.4s"
       ]
      },
      {
       "output_type": "stream",
       "stream": "stdout",
       "text": [
        "\n",
        "  1675  |    0.005513  |    0.006777  |     0.813526  |             |  8.4s"
       ]
      },
      {
       "output_type": "stream",
       "stream": "stdout",
       "text": [
        "\n",
        "  1676  |  \u001b[94m  0.005503\u001b[0m  |    0.006774  |     0.812467  |             |  8.4s"
       ]
      },
      {
       "output_type": "stream",
       "stream": "stdout",
       "text": [
        "\n",
        "  1677  |    0.005555  |    0.006774  |     0.820076  |             |  8.4s"
       ]
      },
      {
       "output_type": "stream",
       "stream": "stdout",
       "text": [
        "\n",
        "  1678  |    0.005526  |    0.006762  |     0.817090  |             |  8.4s"
       ]
      },
      {
       "output_type": "stream",
       "stream": "stdout",
       "text": [
        "\n",
        "  1679  |    0.005568  |  \u001b[32m  0.006722\u001b[0m  |     0.828428  |             |  8.3s"
       ]
      },
      {
       "output_type": "stream",
       "stream": "stdout",
       "text": [
        "\n",
        "  1680  |  \u001b[94m  0.005482\u001b[0m  |    0.006751  |     0.812053  |             |  8.4s"
       ]
      },
      {
       "output_type": "stream",
       "stream": "stdout",
       "text": [
        "\n",
        "  1681  |  \u001b[94m  0.005480\u001b[0m  |    0.006756  |     0.811110  |             |  8.3s"
       ]
      },
      {
       "output_type": "stream",
       "stream": "stdout",
       "text": [
        "\n",
        "  1682  |    0.005552  |    0.006806  |     0.815737  |             |  8.4s"
       ]
      },
      {
       "output_type": "stream",
       "stream": "stdout",
       "text": [
        "\n",
        "  1683  |    0.005533  |    0.006758  |     0.818724  |             |  8.4s"
       ]
      },
      {
       "output_type": "stream",
       "stream": "stdout",
       "text": [
        "\n",
        "  1684  |    0.005504  |    0.006796  |     0.809875  |             |  8.4s"
       ]
      },
      {
       "output_type": "stream",
       "stream": "stdout",
       "text": [
        "\n",
        "  1685  |    0.005498  |    0.006742  |     0.815428  |             |  8.3s"
       ]
      },
      {
       "output_type": "stream",
       "stream": "stdout",
       "text": [
        "\n",
        "  1686  |    0.005519  |    0.006782  |     0.813764  |             |  8.4s"
       ]
      },
      {
       "output_type": "stream",
       "stream": "stdout",
       "text": [
        "\n",
        "  1687  |    0.005512  |  \u001b[32m  0.006714\u001b[0m  |     0.820975  |             |  8.4s"
       ]
      },
      {
       "output_type": "stream",
       "stream": "stdout",
       "text": [
        "\n",
        "  1688  |    0.005563  |    0.006750  |     0.824115  |             |  8.4s"
       ]
      },
      {
       "output_type": "stream",
       "stream": "stdout",
       "text": [
        "\n",
        "  1689  |    0.005493  |    0.006721  |     0.817294  |             |  8.4s"
       ]
      },
      {
       "output_type": "stream",
       "stream": "stdout",
       "text": [
        "\n",
        "  1690  |    0.005486  |    0.006766  |     0.810804  |             |  8.4s"
       ]
      },
      {
       "output_type": "stream",
       "stream": "stdout",
       "text": [
        "\n",
        "  1691  |    0.005486  |    0.006733  |     0.814721  |             |  8.4s"
       ]
      },
      {
       "output_type": "stream",
       "stream": "stdout",
       "text": [
        "\n",
        "  1692  |  \u001b[94m  0.005467\u001b[0m  |    0.006790  |     0.805077  |             |  8.3s"
       ]
      },
      {
       "output_type": "stream",
       "stream": "stdout",
       "text": [
        "\n",
        "  1693  |    0.005527  |    0.006767  |     0.816712  |             |  8.2s"
       ]
      },
      {
       "output_type": "stream",
       "stream": "stdout",
       "text": [
        "\n",
        "  1694  |    0.005505  |  \u001b[32m  0.006713\u001b[0m  |     0.819975  |             |  8.2s"
       ]
      },
      {
       "output_type": "stream",
       "stream": "stdout",
       "text": [
        "\n",
        "  1695  |    0.005469  |    0.006742  |     0.811241  |             |  8.2s"
       ]
      },
      {
       "output_type": "stream",
       "stream": "stdout",
       "text": [
        "\n",
        "  1696  |    0.005496  |    0.006734  |     0.816106  |             |  8.2s"
       ]
      },
      {
       "output_type": "stream",
       "stream": "stdout",
       "text": [
        "\n",
        "  1697  |    0.005561  |    0.006747  |     0.824181  |             |  8.2s"
       ]
      },
      {
       "output_type": "stream",
       "stream": "stdout",
       "text": [
        "\n",
        "  1698  |    0.005504  |    0.006770  |     0.813096  |             |  8.2s"
       ]
      },
      {
       "output_type": "stream",
       "stream": "stdout",
       "text": [
        "\n",
        "  1699  |    0.005553  |    0.006735  |     0.824466  |             |  8.2s"
       ]
      },
      {
       "output_type": "stream",
       "stream": "stdout",
       "text": [
        "\n",
        "  1700  |    0.005521  |    0.006752  |     0.817753  |             |  8.2s"
       ]
      },
      {
       "output_type": "stream",
       "stream": "stdout",
       "text": [
        "\n",
        "  1701  |  \u001b[94m  0.005396\u001b[0m  |    0.006740  |     0.800613  |             |  8.2s"
       ]
      },
      {
       "output_type": "stream",
       "stream": "stdout",
       "text": [
        "\n",
        "  1702  |    0.005460  |    0.006725  |     0.811853  |             |  8.2s"
       ]
      },
      {
       "output_type": "stream",
       "stream": "stdout",
       "text": [
        "\n",
        "  1703  |    0.005398  |    0.006718  |     0.803510  |             |  8.2s"
       ]
      },
      {
       "output_type": "stream",
       "stream": "stdout",
       "text": [
        "\n",
        "  1704  |    0.005461  |    0.006759  |     0.808020  |             |  8.2s"
       ]
      },
      {
       "output_type": "stream",
       "stream": "stdout",
       "text": [
        "\n",
        "  1705  |    0.005493  |    0.006751  |     0.813754  |             |  8.2s"
       ]
      },
      {
       "output_type": "stream",
       "stream": "stdout",
       "text": [
        "\n",
        "  1706  |    0.005451  |    0.006764  |     0.805899  |             |  8.2s"
       ]
      },
      {
       "output_type": "stream",
       "stream": "stdout",
       "text": [
        "\n",
        "  1707  |    0.005440  |    0.006748  |     0.806215  |             |  8.3s"
       ]
      },
      {
       "output_type": "stream",
       "stream": "stdout",
       "text": [
        "\n",
        "  1708  |    0.005446  |  \u001b[32m  0.006700\u001b[0m  |     0.812757  |             |  8.3s"
       ]
      },
      {
       "output_type": "stream",
       "stream": "stdout",
       "text": [
        "\n",
        "  1709  |    0.005457  |    0.006725  |     0.811507  |             |  8.3s"
       ]
      },
      {
       "output_type": "stream",
       "stream": "stdout",
       "text": [
        "\n",
        "  1710  |    0.005411  |  \u001b[32m  0.006697\u001b[0m  |     0.807981  |             |  8.4s"
       ]
      },
      {
       "output_type": "stream",
       "stream": "stdout",
       "text": [
        "\n",
        "  1711  |    0.005497  |    0.006721  |     0.817967  |             |  8.3s"
       ]
      },
      {
       "output_type": "stream",
       "stream": "stdout",
       "text": [
        "\n",
        "  1712  |    0.005438  |    0.006706  |     0.810840  |             |  8.4s"
       ]
      },
      {
       "output_type": "stream",
       "stream": "stdout",
       "text": [
        "\n",
        "  1713  |    0.005419  |    0.006699  |     0.808902  |             |  8.4s"
       ]
      },
      {
       "output_type": "stream",
       "stream": "stdout",
       "text": [
        "\n",
        "  1714  |    0.005439  |    0.006728  |     0.808435  |             |  8.3s"
       ]
      },
      {
       "output_type": "stream",
       "stream": "stdout",
       "text": [
        "\n",
        "  1715  |    0.005479  |    0.006777  |     0.808450  |             |  8.3s"
       ]
      },
      {
       "output_type": "stream",
       "stream": "stdout",
       "text": [
        "\n",
        "  1716  |  \u001b[94m  0.005382\u001b[0m  |    0.006721  |     0.800836  |             |  8.4s"
       ]
      },
      {
       "output_type": "stream",
       "stream": "stdout",
       "text": [
        "\n",
        "  1717  |    0.005436  |    0.006709  |     0.810209  |             |  8.2s"
       ]
      },
      {
       "output_type": "stream",
       "stream": "stdout",
       "text": [
        "\n",
        "  1718  |    0.005409  |    0.006711  |     0.805905  |             |  8.2s"
       ]
      },
      {
       "output_type": "stream",
       "stream": "stdout",
       "text": [
        "\n",
        "  1719  |    0.005396  |    0.006739  |     0.800602  |             |  8.2s"
       ]
      },
      {
       "output_type": "stream",
       "stream": "stdout",
       "text": [
        "\n",
        "  1720  |    0.005402  |    0.006710  |     0.804969  |             |  8.2s"
       ]
      },
      {
       "output_type": "stream",
       "stream": "stdout",
       "text": [
        "\n",
        "  1721  |    0.005404  |    0.006736  |     0.802312  |             |  8.2s"
       ]
      },
      {
       "output_type": "stream",
       "stream": "stdout",
       "text": [
        "\n",
        "  1722  |  \u001b[94m  0.005332\u001b[0m  |    0.006734  |     0.791680  |             |  8.2s"
       ]
      },
      {
       "output_type": "stream",
       "stream": "stdout",
       "text": [
        "\n",
        "  1723  |    0.005461  |    0.006740  |     0.810314  |             |  8.2s"
       ]
      },
      {
       "output_type": "stream",
       "stream": "stdout",
       "text": [
        "\n",
        "  1724  |    0.005387  |    0.006741  |     0.799184  |             |  8.2s"
       ]
      },
      {
       "output_type": "stream",
       "stream": "stdout",
       "text": [
        "\n",
        "  1725  |    0.005443  |    0.006705  |     0.811847  |             |  8.2s"
       ]
      },
      {
       "output_type": "stream",
       "stream": "stdout",
       "text": [
        "\n",
        "  1726  |    0.005447  |    0.006744  |     0.807706  |             |  8.2s"
       ]
      },
      {
       "output_type": "stream",
       "stream": "stdout",
       "text": [
        "\n",
        "  1727  |    0.005459  |    0.006717  |     0.812808  |             |  8.2s"
       ]
      },
      {
       "output_type": "stream",
       "stream": "stdout",
       "text": [
        "\n",
        "  1728  |    0.005385  |    0.006718  |     0.801541  |             |  8.2s"
       ]
      },
      {
       "output_type": "stream",
       "stream": "stdout",
       "text": [
        "\n",
        "  1729  |    0.005427  |    0.006722  |     0.807225  |             |  8.2s"
       ]
      },
      {
       "output_type": "stream",
       "stream": "stdout",
       "text": [
        "\n",
        "  1730  |    0.005397  |    0.006735  |     0.801346  |             |  8.2s"
       ]
      },
      {
       "output_type": "stream",
       "stream": "stdout",
       "text": [
        "\n",
        "  1731  |    0.005452  |    0.006723  |     0.810896  |             |  8.2s"
       ]
      },
      {
       "output_type": "stream",
       "stream": "stdout",
       "text": [
        "\n",
        "  1732  |    0.005386  |    0.006729  |     0.800353  |             |  8.2s"
       ]
      },
      {
       "output_type": "stream",
       "stream": "stdout",
       "text": [
        "\n",
        "  1733  |    0.005427  |    0.006719  |     0.807691  |             |  8.2s"
       ]
      },
      {
       "output_type": "stream",
       "stream": "stdout",
       "text": [
        "\n",
        "  1734  |    0.005443  |    0.006707  |     0.811545  |             |  8.2s"
       ]
      },
      {
       "output_type": "stream",
       "stream": "stdout",
       "text": [
        "\n",
        "  1735  |    0.005408  |    0.006720  |     0.804756  |             |  8.2s"
       ]
      },
      {
       "output_type": "stream",
       "stream": "stdout",
       "text": [
        "\n",
        "  1736  |    0.005370  |    0.006730  |     0.798007  |             |  8.2s"
       ]
      },
      {
       "output_type": "stream",
       "stream": "stdout",
       "text": [
        "\n",
        "  1737  |    0.005452  |    0.006708  |     0.812824  |             |  8.2s"
       ]
      },
      {
       "output_type": "stream",
       "stream": "stdout",
       "text": [
        "\n",
        "  1738  |    0.005376  |    0.006744  |     0.797152  |             |  8.2s"
       ]
      },
      {
       "output_type": "stream",
       "stream": "stdout",
       "text": [
        "\n",
        "  1739  |    0.005357  |    0.006720  |     0.797135  |             |  8.2s"
       ]
      },
      {
       "output_type": "stream",
       "stream": "stdout",
       "text": [
        "\n",
        "  1740  |    0.005404  |    0.006714  |     0.804985  |             |  8.2s"
       ]
      },
      {
       "output_type": "stream",
       "stream": "stdout",
       "text": [
        "\n",
        "  1741  |    0.005413  |    0.006716  |     0.805960  |             |  8.2s"
       ]
      },
      {
       "output_type": "stream",
       "stream": "stdout",
       "text": [
        "\n",
        "  1742  |    0.005357  |    0.006733  |     0.795609  |             |  8.2s"
       ]
      },
      {
       "output_type": "stream",
       "stream": "stdout",
       "text": [
        "\n",
        "  1743  |    0.005381  |    0.006724  |     0.800377  |             |  8.2s"
       ]
      },
      {
       "output_type": "stream",
       "stream": "stdout",
       "text": [
        "\n",
        "  1744  |    0.005406  |    0.006721  |     0.804341  |             |  8.2s"
       ]
      },
      {
       "output_type": "stream",
       "stream": "stdout",
       "text": [
        "\n",
        "  1745  |  \u001b[94m  0.005330\u001b[0m  |    0.006704  |     0.795093  |             |  8.2s"
       ]
      },
      {
       "output_type": "stream",
       "stream": "stdout",
       "text": [
        "\n",
        "  1746  |    0.005374  |    0.006730  |     0.798501  |             |  8.2s"
       ]
      },
      {
       "output_type": "stream",
       "stream": "stdout",
       "text": [
        "\n",
        "  1747  |    0.005339  |  \u001b[32m  0.006684\u001b[0m  |     0.798786  |             |  8.3s"
       ]
      },
      {
       "output_type": "stream",
       "stream": "stdout",
       "text": [
        "\n",
        "  1748  |    0.005382  |    0.006707  |     0.802394  |             |  8.3s"
       ]
      },
      {
       "output_type": "stream",
       "stream": "stdout",
       "text": [
        "\n",
        "  1749  |    0.005405  |    0.006701  |     0.806709  |             |  8.3s"
       ]
      },
      {
       "output_type": "stream",
       "stream": "stdout",
       "text": [
        "\n",
        "  1750  |    0.005416  |    0.006685  |     0.810127  |             |  8.2s"
       ]
      },
      {
       "output_type": "stream",
       "stream": "stdout",
       "text": [
        "\n",
        "  1751  |    0.005401  |    0.006697  |     0.806525  |             |  8.2s"
       ]
      },
      {
       "output_type": "stream",
       "stream": "stdout",
       "text": [
        "\n",
        "  1752  |    0.005361  |    0.006700  |     0.800112  |             |  8.2s"
       ]
      },
      {
       "output_type": "stream",
       "stream": "stdout",
       "text": [
        "\n",
        "  1753  |    0.005366  |    0.006723  |     0.798236  |             |  8.2s"
       ]
      },
      {
       "output_type": "stream",
       "stream": "stdout",
       "text": [
        "\n",
        "  1754  |    0.005380  |    0.006711  |     0.801716  |             |  8.2s"
       ]
      },
      {
       "output_type": "stream",
       "stream": "stdout",
       "text": [
        "\n",
        "  1755  |    0.005447  |    0.006714  |     0.811222  |             |  8.2s"
       ]
      },
      {
       "output_type": "stream",
       "stream": "stdout",
       "text": [
        "\n",
        "  1756  |  \u001b[94m  0.005313\u001b[0m  |    0.006756  |     0.786442  |             |  8.2s"
       ]
      },
      {
       "output_type": "stream",
       "stream": "stdout",
       "text": [
        "\n",
        "  1757  |    0.005338  |    0.006717  |     0.794723  |             |  8.2s"
       ]
      },
      {
       "output_type": "stream",
       "stream": "stdout",
       "text": [
        "\n",
        "  1758  |    0.005335  |    0.006706  |     0.795500  |             |  8.2s"
       ]
      },
      {
       "output_type": "stream",
       "stream": "stdout",
       "text": [
        "\n",
        "  1759  |    0.005383  |    0.006700  |     0.803397  |             |  8.4s"
       ]
      },
      {
       "output_type": "stream",
       "stream": "stdout",
       "text": [
        "\n",
        "  1760  |  \u001b[94m  0.005304\u001b[0m  |  \u001b[32m  0.006683\u001b[0m  |     0.793694  |             |  8.3s"
       ]
      },
      {
       "output_type": "stream",
       "stream": "stdout",
       "text": [
        "\n",
        "  1761  |    0.005395  |    0.006708  |     0.804288  |             |  8.2s"
       ]
      },
      {
       "output_type": "stream",
       "stream": "stdout",
       "text": [
        "\n",
        "  1762  |    0.005322  |    0.006708  |     0.793431  |             |  8.2s"
       ]
      },
      {
       "output_type": "stream",
       "stream": "stdout",
       "text": [
        "\n",
        "  1763  |    0.005321  |  \u001b[32m  0.006683\u001b[0m  |     0.796188  |             |  8.2s"
       ]
      },
      {
       "output_type": "stream",
       "stream": "stdout",
       "text": [
        "\n",
        "  1764  |  \u001b[94m  0.005267\u001b[0m  |    0.006701  |     0.785941  |             |  8.2s"
       ]
      },
      {
       "output_type": "stream",
       "stream": "stdout",
       "text": [
        "\n",
        "  1765  |    0.005403  |    0.006709  |     0.805350  |             |  8.2s"
       ]
      },
      {
       "output_type": "stream",
       "stream": "stdout",
       "text": [
        "\n",
        "  1766  |    0.005349  |    0.006727  |     0.795162  |             |  8.2s"
       ]
      },
      {
       "output_type": "stream",
       "stream": "stdout",
       "text": [
        "\n",
        "  1767  |  \u001b[94m  0.005253\u001b[0m  |  \u001b[32m  0.006677\u001b[0m  |     0.786645  |             |  8.2s"
       ]
      },
      {
       "output_type": "stream",
       "stream": "stdout",
       "text": [
        "\n",
        "  1768  |    0.005324  |    0.006688  |     0.796052  |             |  8.2s"
       ]
      },
      {
       "output_type": "stream",
       "stream": "stdout",
       "text": [
        "\n",
        "  1769  |  \u001b[94m  0.005229\u001b[0m  |    0.006717  |     0.778568  |             |  8.2s"
       ]
      },
      {
       "output_type": "stream",
       "stream": "stdout",
       "text": [
        "\n",
        "  1770  |    0.005359  |    0.006700  |     0.799869  |             |  8.3s"
       ]
      },
      {
       "output_type": "stream",
       "stream": "stdout",
       "text": [
        "\n",
        "  1771  |    0.005364  |    0.006712  |     0.799150  |             |  8.3s"
       ]
      },
      {
       "output_type": "stream",
       "stream": "stdout",
       "text": [
        "\n",
        "  1772  |    0.005276  |    0.006685  |     0.789170  |             |  8.3s"
       ]
      },
      {
       "output_type": "stream",
       "stream": "stdout",
       "text": [
        "\n",
        "  1773  |    0.005273  |    0.006737  |     0.782710  |             |  8.4s"
       ]
      },
      {
       "output_type": "stream",
       "stream": "stdout",
       "text": [
        "\n",
        "  1774  |    0.005317  |    0.006725  |     0.790581  |             |  8.4s"
       ]
      },
      {
       "output_type": "stream",
       "stream": "stdout",
       "text": [
        "\n",
        "  1775  |    0.005326  |    0.006715  |     0.793169  |             |  8.4s"
       ]
      },
      {
       "output_type": "stream",
       "stream": "stdout",
       "text": [
        "\n",
        "  1776  |    0.005288  |    0.006728  |     0.785905  |             |  8.4s"
       ]
      },
      {
       "output_type": "stream",
       "stream": "stdout",
       "text": [
        "\n",
        "  1777  |    0.005271  |    0.006711  |     0.785443  |             |  8.4s"
       ]
      },
      {
       "output_type": "stream",
       "stream": "stdout",
       "text": [
        "\n",
        "  1778  |    0.005308  |  \u001b[32m  0.006647\u001b[0m  |     0.798574  |             |  8.4s"
       ]
      },
      {
       "output_type": "stream",
       "stream": "stdout",
       "text": [
        "\n",
        "  1779  |    0.005270  |    0.006700  |     0.786631  |             |  8.4s"
       ]
      },
      {
       "output_type": "stream",
       "stream": "stdout",
       "text": [
        "\n",
        "  1780  |    0.005346  |    0.006692  |     0.798853  |             |  8.4s"
       ]
      },
      {
       "output_type": "stream",
       "stream": "stdout",
       "text": [
        "\n",
        "  1781  |    0.005359  |    0.006689  |     0.801136  |             |  8.4s"
       ]
      },
      {
       "output_type": "stream",
       "stream": "stdout",
       "text": [
        "\n",
        "  1782  |    0.005285  |    0.006713  |     0.787189  |             |  8.4s"
       ]
      },
      {
       "output_type": "stream",
       "stream": "stdout",
       "text": [
        "\n",
        "  1783  |    0.005265  |    0.006692  |     0.786785  |             |  8.4s"
       ]
      },
      {
       "output_type": "stream",
       "stream": "stdout",
       "text": [
        "\n",
        "  1784  |    0.005256  |    0.006735  |     0.780525  |             |  8.4s"
       ]
      },
      {
       "output_type": "stream",
       "stream": "stdout",
       "text": [
        "\n",
        "  1785  |    0.005309  |    0.006698  |     0.792625  |             |  8.4s"
       ]
      },
      {
       "output_type": "stream",
       "stream": "stdout",
       "text": [
        "\n",
        "  1786  |    0.005283  |    0.006733  |     0.784664  |             |  8.4s"
       ]
      },
      {
       "output_type": "stream",
       "stream": "stdout",
       "text": [
        "\n",
        "  1787  |    0.005240  |    0.006698  |     0.782322  |             |  8.5s"
       ]
      },
      {
       "output_type": "stream",
       "stream": "stdout",
       "text": [
        "\n",
        "  1788  |    0.005258  |    0.006699  |     0.784860  |             |  8.3s"
       ]
      },
      {
       "output_type": "stream",
       "stream": "stdout",
       "text": [
        "\n",
        "  1789  |    0.005288  |    0.006668  |     0.793052  |             |  8.3s"
       ]
      },
      {
       "output_type": "stream",
       "stream": "stdout",
       "text": [
        "\n",
        "  1790  |    0.005229  |    0.006681  |     0.782767  |             |  8.4s"
       ]
      },
      {
       "output_type": "stream",
       "stream": "stdout",
       "text": [
        "\n",
        "  1791  |    0.005253  |    0.006684  |     0.785957  |             |  8.4s"
       ]
      },
      {
       "output_type": "stream",
       "stream": "stdout",
       "text": [
        "\n",
        "  1792  |    0.005273  |    0.006676  |     0.789772  |             |  8.4s"
       ]
      },
      {
       "output_type": "stream",
       "stream": "stdout",
       "text": [
        "\n",
        "  1793  |    0.005286  |    0.006684  |     0.790792  |             |  8.4s"
       ]
      },
      {
       "output_type": "stream",
       "stream": "stdout",
       "text": [
        "\n",
        "  1794  |    0.005314  |    0.006664  |     0.797362  |             |  8.4s"
       ]
      },
      {
       "output_type": "stream",
       "stream": "stdout",
       "text": [
        "\n",
        "  1795  |    0.005295  |    0.006678  |     0.792890  |             |  8.4s"
       ]
      },
      {
       "output_type": "stream",
       "stream": "stdout",
       "text": [
        "\n",
        "  1796  |  \u001b[94m  0.005198\u001b[0m  |    0.006670  |     0.779264  |             |  8.4s"
       ]
      },
      {
       "output_type": "stream",
       "stream": "stdout",
       "text": [
        "\n",
        "  1797  |    0.005297  |    0.006685  |     0.792469  |             |  8.3s"
       ]
      },
      {
       "output_type": "stream",
       "stream": "stdout",
       "text": [
        "\n",
        "  1798  |    0.005224  |    0.006672  |     0.783015  |             |  8.4s"
       ]
      },
      {
       "output_type": "stream",
       "stream": "stdout",
       "text": [
        "\n",
        "  1799  |    0.005234  |    0.006681  |     0.783367  |             |  8.4s"
       ]
      },
      {
       "output_type": "stream",
       "stream": "stdout",
       "text": [
        "\n",
        "  1800  |  \u001b[94m  0.005183\u001b[0m  |    0.006656  |     0.778765  |             |  8.3s"
       ]
      },
      {
       "output_type": "stream",
       "stream": "stdout",
       "text": [
        "\n",
        "  1801  |    0.005287  |    0.006691  |     0.790164  |             |  8.2s"
       ]
      },
      {
       "output_type": "stream",
       "stream": "stdout",
       "text": [
        "\n",
        "  1802  |    0.005206  |    0.006695  |     0.777492  |             |  8.3s"
       ]
      },
      {
       "output_type": "stream",
       "stream": "stdout",
       "text": [
        "\n",
        "  1803  |    0.005259  |    0.006687  |     0.786504  |             |  8.3s"
       ]
      },
      {
       "output_type": "stream",
       "stream": "stdout",
       "text": [
        "\n",
        "  1804  |    0.005193  |    0.006712  |     0.773658  |             |  8.3s"
       ]
      },
      {
       "output_type": "stream",
       "stream": "stdout",
       "text": [
        "\n",
        "  1805  |    0.005187  |    0.006720  |     0.771890  |             |  8.2s"
       ]
      },
      {
       "output_type": "stream",
       "stream": "stdout",
       "text": [
        "\n",
        "  1806  |    0.005193  |    0.006701  |     0.774899  |             |  8.2s"
       ]
      },
      {
       "output_type": "stream",
       "stream": "stdout",
       "text": [
        "\n",
        "  1807  |    0.005246  |    0.006668  |     0.786728  |             |  8.2s"
       ]
      },
      {
       "output_type": "stream",
       "stream": "stdout",
       "text": [
        "\n",
        "  1808  |    0.005276  |  \u001b[32m  0.006647\u001b[0m  |     0.793751  |             |  8.3s"
       ]
      },
      {
       "output_type": "stream",
       "stream": "stdout",
       "text": [
        "\n",
        "  1809  |  \u001b[94m  0.005150\u001b[0m  |    0.006684  |     0.770528  |             |  8.3s"
       ]
      },
      {
       "output_type": "stream",
       "stream": "stdout",
       "text": [
        "\n",
        "  1810  |    0.005241  |    0.006677  |     0.785006  |             |  8.2s"
       ]
      },
      {
       "output_type": "stream",
       "stream": "stdout",
       "text": [
        "\n",
        "  1811  |    0.005245  |    0.006666  |     0.786913  |             |  8.2s"
       ]
      },
      {
       "output_type": "stream",
       "stream": "stdout",
       "text": [
        "\n",
        "  1812  |    0.005216  |    0.006681  |     0.780788  |             |  8.2s"
       ]
      },
      {
       "output_type": "stream",
       "stream": "stdout",
       "text": [
        "\n",
        "  1813  |    0.005189  |    0.006701  |     0.774415  |             |  8.2s"
       ]
      },
      {
       "output_type": "stream",
       "stream": "stdout",
       "text": [
        "\n",
        "  1814  |    0.005286  |  \u001b[32m  0.006637\u001b[0m  |     0.796372  |             |  8.2s"
       ]
      },
      {
       "output_type": "stream",
       "stream": "stdout",
       "text": [
        "\n",
        "  1815  |    0.005204  |    0.006658  |     0.781608  |             |  8.3s"
       ]
      },
      {
       "output_type": "stream",
       "stream": "stdout",
       "text": [
        "\n",
        "  1816  |    0.005237  |    0.006693  |     0.782506  |             |  8.2s"
       ]
      },
      {
       "output_type": "stream",
       "stream": "stdout",
       "text": [
        "\n",
        "  1817  |    0.005247  |    0.006674  |     0.786089  |             |  8.2s"
       ]
      },
      {
       "output_type": "stream",
       "stream": "stdout",
       "text": [
        "\n",
        "  1818  |    0.005222  |    0.006680  |     0.781819  |             |  8.2s"
       ]
      },
      {
       "output_type": "stream",
       "stream": "stdout",
       "text": [
        "\n",
        "  1819  |    0.005213  |    0.006683  |     0.779953  |             |  8.2s"
       ]
      },
      {
       "output_type": "stream",
       "stream": "stdout",
       "text": [
        "\n",
        "  1820  |    0.005200  |    0.006681  |     0.778412  |             |  8.2s"
       ]
      },
      {
       "output_type": "stream",
       "stream": "stdout",
       "text": [
        "\n",
        "  1821  |    0.005197  |    0.006656  |     0.780793  |             |  8.2s"
       ]
      },
      {
       "output_type": "stream",
       "stream": "stdout",
       "text": [
        "\n",
        "  1822  |    0.005213  |    0.006657  |     0.783141  |             |  8.2s"
       ]
      },
      {
       "output_type": "stream",
       "stream": "stdout",
       "text": [
        "\n",
        "  1823  |    0.005265  |    0.006681  |     0.788062  |             |  8.2s"
       ]
      },
      {
       "output_type": "stream",
       "stream": "stdout",
       "text": [
        "\n",
        "  1824  |    0.005188  |    0.006696  |     0.774698  |             |  8.2s"
       ]
      },
      {
       "output_type": "stream",
       "stream": "stdout",
       "text": [
        "\n",
        "  1825  |    0.005192  |    0.006690  |     0.776100  |             |  8.4s"
       ]
      },
      {
       "output_type": "stream",
       "stream": "stdout",
       "text": [
        "\n",
        "  1826  |    0.005230  |    0.006680  |     0.782961  |             |  8.4s"
       ]
      },
      {
       "output_type": "stream",
       "stream": "stdout",
       "text": [
        "\n",
        "  1827  |    0.005185  |    0.006690  |     0.775084  |             |  8.3s"
       ]
      },
      {
       "output_type": "stream",
       "stream": "stdout",
       "text": [
        "\n",
        "  1828  |    0.005177  |    0.006653  |     0.778204  |             |  8.2s"
       ]
      },
      {
       "output_type": "stream",
       "stream": "stdout",
       "text": [
        "\n",
        "  1829  |  \u001b[94m  0.005140\u001b[0m  |    0.006688  |     0.768563  |             |  8.3s"
       ]
      },
      {
       "output_type": "stream",
       "stream": "stdout",
       "text": [
        "\n",
        "  1830  |  \u001b[94m  0.005110\u001b[0m  |    0.006664  |     0.766709  |             |  8.2s"
       ]
      },
      {
       "output_type": "stream",
       "stream": "stdout",
       "text": [
        "\n",
        "  1831  |    0.005171  |    0.006663  |     0.776096  |             |  8.2s"
       ]
      },
      {
       "output_type": "stream",
       "stream": "stdout",
       "text": [
        "\n",
        "  1832  |    0.005185  |    0.006652  |     0.779468  |             |  8.2s"
       ]
      },
      {
       "output_type": "stream",
       "stream": "stdout",
       "text": [
        "\n",
        "  1833  |    0.005151  |    0.006681  |     0.771032  |             |  8.2s"
       ]
      },
      {
       "output_type": "stream",
       "stream": "stdout",
       "text": [
        "\n",
        "  1834  |    0.005155  |    0.006647  |     0.775552  |             |  8.2s"
       ]
      },
      {
       "output_type": "stream",
       "stream": "stdout",
       "text": [
        "\n",
        "  1835  |    0.005221  |    0.006691  |     0.780248  |             |  8.2s"
       ]
      },
      {
       "output_type": "stream",
       "stream": "stdout",
       "text": [
        "\n",
        "  1836  |    0.005178  |    0.006668  |     0.776554  |             |  8.2s"
       ]
      },
      {
       "output_type": "stream",
       "stream": "stdout",
       "text": [
        "\n",
        "  1837  |    0.005252  |  \u001b[32m  0.006632\u001b[0m  |     0.791878  |             |  8.2s"
       ]
      },
      {
       "output_type": "stream",
       "stream": "stdout",
       "text": [
        "\n",
        "  1838  |    0.005160  |  \u001b[32m  0.006630\u001b[0m  |     0.778313  |             |  8.2s"
       ]
      },
      {
       "output_type": "stream",
       "stream": "stdout",
       "text": [
        "\n",
        "  1839  |    0.005193  |    0.006646  |     0.781281  |             |  8.2s"
       ]
      },
      {
       "output_type": "stream",
       "stream": "stdout",
       "text": [
        "\n",
        "  1840  |    0.005197  |    0.006635  |     0.783294  |             |  8.2s"
       ]
      },
      {
       "output_type": "stream",
       "stream": "stdout",
       "text": [
        "\n",
        "  1841  |    0.005196  |    0.006648  |     0.781527  |             |  8.2s"
       ]
      },
      {
       "output_type": "stream",
       "stream": "stdout",
       "text": [
        "\n",
        "  1842  |    0.005148  |    0.006668  |     0.772101  |             |  8.2s"
       ]
      },
      {
       "output_type": "stream",
       "stream": "stdout",
       "text": [
        "\n",
        "  1843  |  \u001b[94m  0.005080\u001b[0m  |    0.006635  |     0.765612  |             |  8.2s"
       ]
      },
      {
       "output_type": "stream",
       "stream": "stdout",
       "text": [
        "\n",
        "  1844  |    0.005193  |    0.006635  |     0.782622  |             |  8.2s"
       ]
      },
      {
       "output_type": "stream",
       "stream": "stdout",
       "text": [
        "\n",
        "  1845  |    0.005136  |    0.006699  |     0.766781  |             |  8.2s"
       ]
      },
      {
       "output_type": "stream",
       "stream": "stdout",
       "text": [
        "\n",
        "  1846  |    0.005180  |    0.006655  |     0.778318  |             |  8.2s"
       ]
      },
      {
       "output_type": "stream",
       "stream": "stdout",
       "text": [
        "\n",
        "  1847  |    0.005209  |  \u001b[32m  0.006629\u001b[0m  |     0.785714  |             |  8.3s"
       ]
      },
      {
       "output_type": "stream",
       "stream": "stdout",
       "text": [
        "\n",
        "  1848  |    0.005082  |    0.006638  |     0.765592  |             |  8.4s"
       ]
      },
      {
       "output_type": "stream",
       "stream": "stdout",
       "text": [
        "\n",
        "  1849  |    0.005168  |    0.006650  |     0.777115  |             |  8.3s"
       ]
      },
      {
       "output_type": "stream",
       "stream": "stdout",
       "text": [
        "\n",
        "  1850  |    0.005106  |    0.006662  |     0.766466  |             |  8.3s"
       ]
      },
      {
       "output_type": "stream",
       "stream": "stdout",
       "text": [
        "\n",
        "  1851  |    0.005113  |    0.006633  |     0.770822  |             |  8.3s"
       ]
      },
      {
       "output_type": "stream",
       "stream": "stdout",
       "text": [
        "\n",
        "  1852  |    0.005133  |    0.006656  |     0.771173  |             |  8.4s"
       ]
      },
      {
       "output_type": "stream",
       "stream": "stdout",
       "text": [
        "\n",
        "  1853  |    0.005132  |    0.006655  |     0.771195  |             |  8.4s"
       ]
      },
      {
       "output_type": "stream",
       "stream": "stdout",
       "text": [
        "\n",
        "  1854  |    0.005152  |    0.006686  |     0.770497  |             |  8.4s"
       ]
      },
      {
       "output_type": "stream",
       "stream": "stdout",
       "text": [
        "\n",
        "  1855  |    0.005145  |    0.006654  |     0.773274  |             |  8.3s"
       ]
      },
      {
       "output_type": "stream",
       "stream": "stdout",
       "text": [
        "\n",
        "  1856  |    0.005162  |    0.006641  |     0.777248  |             |  8.4s"
       ]
      },
      {
       "output_type": "stream",
       "stream": "stdout",
       "text": [
        "\n",
        "  1857  |    0.005163  |  \u001b[32m  0.006616\u001b[0m  |     0.780347  |             |  8.2s"
       ]
      },
      {
       "output_type": "stream",
       "stream": "stdout",
       "text": [
        "\n",
        "  1858  |    0.005139  |    0.006653  |     0.772405  |             |  8.2s"
       ]
      },
      {
       "output_type": "stream",
       "stream": "stdout",
       "text": [
        "\n",
        "  1859  |    0.005182  |    0.006639  |     0.780599  |             |  8.2s"
       ]
      },
      {
       "output_type": "stream",
       "stream": "stdout",
       "text": [
        "\n",
        "  1860  |  \u001b[94m  0.005064\u001b[0m  |    0.006676  |     0.758564  |             |  8.2s"
       ]
      },
      {
       "output_type": "stream",
       "stream": "stdout",
       "text": [
        "\n",
        "  1861  |    0.005144  |    0.006634  |     0.775420  |             |  8.2s"
       ]
      },
      {
       "output_type": "stream",
       "stream": "stdout",
       "text": [
        "\n",
        "  1862  |    0.005119  |    0.006643  |     0.770537  |             |  8.3s"
       ]
      },
      {
       "output_type": "stream",
       "stream": "stdout",
       "text": [
        "\n",
        "  1863  |    0.005146  |    0.006640  |     0.774886  |             |  8.3s"
       ]
      },
      {
       "output_type": "stream",
       "stream": "stdout",
       "text": [
        "\n",
        "  1864  |    0.005112  |    0.006625  |     0.771530  |             |  8.3s"
       ]
      },
      {
       "output_type": "stream",
       "stream": "stdout",
       "text": [
        "\n",
        "  1865  |    0.005099  |    0.006650  |     0.766794  |             |  8.3s"
       ]
      },
      {
       "output_type": "stream",
       "stream": "stdout",
       "text": [
        "\n",
        "  1866  |    0.005113  |    0.006641  |     0.769971  |             |  8.3s"
       ]
      },
      {
       "output_type": "stream",
       "stream": "stdout",
       "text": [
        "\n",
        "  1867  |    0.005130  |    0.006660  |     0.770190  |             |  8.3s"
       ]
      },
      {
       "output_type": "stream",
       "stream": "stdout",
       "text": [
        "\n",
        "  1868  |    0.005124  |    0.006656  |     0.769803  |             |  8.3s"
       ]
      },
      {
       "output_type": "stream",
       "stream": "stdout",
       "text": [
        "\n",
        "  1869  |    0.005064  |    0.006638  |     0.762887  |             |  8.3s"
       ]
      },
      {
       "output_type": "stream",
       "stream": "stdout",
       "text": [
        "\n",
        "  1870  |    0.005098  |    0.006667  |     0.764672  |             |  8.4s"
       ]
      },
      {
       "output_type": "stream",
       "stream": "stdout",
       "text": [
        "\n",
        "  1871  |    0.005113  |    0.006641  |     0.769996  |             |  8.4s"
       ]
      },
      {
       "output_type": "stream",
       "stream": "stdout",
       "text": [
        "\n",
        "  1872  |    0.005093  |  \u001b[32m  0.006615\u001b[0m  |     0.769939  |             |  8.3s"
       ]
      },
      {
       "output_type": "stream",
       "stream": "stdout",
       "text": [
        "\n",
        "  1873  |    0.005093  |    0.006678  |     0.762669  |             |  8.3s"
       ]
      },
      {
       "output_type": "stream",
       "stream": "stdout",
       "text": [
        "\n",
        "  1874  |  \u001b[94m  0.005009\u001b[0m  |    0.006643  |     0.754018  |             |  8.4s"
       ]
      },
      {
       "output_type": "stream",
       "stream": "stdout",
       "text": [
        "\n",
        "  1875  |    0.005061  |    0.006642  |     0.761972  |             |  8.4s"
       ]
      },
      {
       "output_type": "stream",
       "stream": "stdout",
       "text": [
        "\n",
        "  1876  |    0.005050  |    0.006632  |     0.761466  |             |  8.4s"
       ]
      },
      {
       "output_type": "stream",
       "stream": "stdout",
       "text": [
        "\n",
        "  1877  |    0.005028  |    0.006622  |     0.759300  |             |  8.4s"
       ]
      },
      {
       "output_type": "stream",
       "stream": "stdout",
       "text": [
        "\n",
        "  1878  |    0.005088  |    0.006632  |     0.767128  |             |  8.4s"
       ]
      },
      {
       "output_type": "stream",
       "stream": "stdout",
       "text": [
        "\n",
        "  1879  |  \u001b[94m  0.004998\u001b[0m  |    0.006623  |     0.754602  |             |  8.4s"
       ]
      },
      {
       "output_type": "stream",
       "stream": "stdout",
       "text": [
        "\n",
        "  1880  |    0.005059  |  \u001b[32m  0.006603\u001b[0m  |     0.766141  |             |  8.4s"
       ]
      },
      {
       "output_type": "stream",
       "stream": "stdout",
       "text": [
        "\n",
        "  1881  |    0.005021  |  \u001b[32m  0.006601\u001b[0m  |     0.760616  |             |  8.4s"
       ]
      },
      {
       "output_type": "stream",
       "stream": "stdout",
       "text": [
        "\n",
        "  1882  |    0.005151  |    0.006621  |     0.777996  |             |  8.3s"
       ]
      },
      {
       "output_type": "stream",
       "stream": "stdout",
       "text": [
        "\n",
        "  1883  |    0.005076  |    0.006634  |     0.765248  |             |  8.3s"
       ]
      },
      {
       "output_type": "stream",
       "stream": "stdout",
       "text": [
        "\n",
        "  1884  |    0.005071  |    0.006639  |     0.763769  |             |  8.3s"
       ]
      },
      {
       "output_type": "stream",
       "stream": "stdout",
       "text": [
        "\n",
        "  1885  |    0.005112  |    0.006608  |     0.773628  |             |  8.3s"
       ]
      },
      {
       "output_type": "stream",
       "stream": "stdout",
       "text": [
        "\n",
        "  1886  |    0.005014  |    0.006603  |     0.759368  |             |  8.4s"
       ]
      },
      {
       "output_type": "stream",
       "stream": "stdout",
       "text": [
        "\n",
        "  1887  |    0.005039  |    0.006675  |     0.754876  |             |  8.3s"
       ]
      },
      {
       "output_type": "stream",
       "stream": "stdout",
       "text": [
        "\n",
        "  1888  |    0.005061  |    0.006640  |     0.762104  |             |  8.4s"
       ]
      },
      {
       "output_type": "stream",
       "stream": "stdout",
       "text": [
        "\n",
        "  1889  |  \u001b[94m  0.004984\u001b[0m  |    0.006623  |     0.752521  |             |  8.4s"
       ]
      },
      {
       "output_type": "stream",
       "stream": "stdout",
       "text": [
        "\n",
        "  1890  |    0.005037  |    0.006608  |     0.762316  |             |  8.4s"
       ]
      },
      {
       "output_type": "stream",
       "stream": "stdout",
       "text": [
        "\n",
        "  1891  |    0.005064  |    0.006629  |     0.763902  |             |  8.3s"
       ]
      },
      {
       "output_type": "stream",
       "stream": "stdout",
       "text": [
        "\n",
        "  1892  |    0.005082  |    0.006645  |     0.764783  |             |  8.3s"
       ]
      },
      {
       "output_type": "stream",
       "stream": "stdout",
       "text": [
        "\n",
        "  1893  |    0.005019  |    0.006618  |     0.758455  |             |  8.4s"
       ]
      },
      {
       "output_type": "stream",
       "stream": "stdout",
       "text": [
        "\n",
        "  1894  |  \u001b[94m  0.004978\u001b[0m  |    0.006601  |     0.754016  |             |  8.4s"
       ]
      },
      {
       "output_type": "stream",
       "stream": "stdout",
       "text": [
        "\n",
        "  1895  |    0.005023  |    0.006638  |     0.756644  |             |  8.4s"
       ]
      },
      {
       "output_type": "stream",
       "stream": "stdout",
       "text": [
        "\n",
        "  1896  |  \u001b[94m  0.004970\u001b[0m  |    0.006625  |     0.750107  |             |  8.4s"
       ]
      },
      {
       "output_type": "stream",
       "stream": "stdout",
       "text": [
        "\n",
        "  1897  |    0.005086  |    0.006623  |     0.767881  |             |  8.4s"
       ]
      },
      {
       "output_type": "stream",
       "stream": "stdout",
       "text": [
        "\n",
        "  1898  |  \u001b[94m  0.004968\u001b[0m  |    0.006652  |     0.746859  |             |  8.4s"
       ]
      },
      {
       "output_type": "stream",
       "stream": "stdout",
       "text": [
        "\n",
        "  1899  |    0.005007  |    0.006628  |     0.755449  |             |  8.4s"
       ]
      },
      {
       "output_type": "stream",
       "stream": "stdout",
       "text": [
        "\n",
        "  1900  |    0.004998  |    0.006641  |     0.752579  |             |  8.4s"
       ]
      },
      {
       "output_type": "stream",
       "stream": "stdout",
       "text": [
        "\n",
        "  1901  |    0.005038  |    0.006626  |     0.760370  |             |  8.4s"
       ]
      },
      {
       "output_type": "stream",
       "stream": "stdout",
       "text": [
        "\n",
        "  1902  |    0.005073  |    0.006621  |     0.766237  |             |  8.4s"
       ]
      },
      {
       "output_type": "stream",
       "stream": "stdout",
       "text": [
        "\n",
        "  1903  |    0.005028  |    0.006642  |     0.756937  |             |  8.4s"
       ]
      },
      {
       "output_type": "stream",
       "stream": "stdout",
       "text": [
        "\n",
        "  1904  |    0.004995  |    0.006627  |     0.753710  |             |  8.4s"
       ]
      },
      {
       "output_type": "stream",
       "stream": "stdout",
       "text": [
        "\n",
        "  1905  |    0.005011  |    0.006618  |     0.757110  |             |  8.4s"
       ]
      },
      {
       "output_type": "stream",
       "stream": "stdout",
       "text": [
        "\n",
        "  1906  |    0.005020  |  \u001b[32m  0.006585\u001b[0m  |     0.762352  |             |  8.4s"
       ]
      },
      {
       "output_type": "stream",
       "stream": "stdout",
       "text": [
        "\n",
        "  1907  |    0.005039  |    0.006631  |     0.759961  |             |  8.3s"
       ]
      },
      {
       "output_type": "stream",
       "stream": "stdout",
       "text": [
        "\n",
        "  1908  |    0.004976  |    0.006616  |     0.752020  |             |  8.3s"
       ]
      },
      {
       "output_type": "stream",
       "stream": "stdout",
       "text": [
        "\n",
        "  1909  |    0.005084  |    0.006626  |     0.767212  |             |  8.3s"
       ]
      },
      {
       "output_type": "stream",
       "stream": "stdout",
       "text": [
        "\n",
        "  1910  |    0.004994  |    0.006632  |     0.752978  |             |  8.4s"
       ]
      },
      {
       "output_type": "stream",
       "stream": "stdout",
       "text": [
        "\n",
        "  1911  |    0.004993  |    0.006608  |     0.755552  |             |  8.3s"
       ]
      },
      {
       "output_type": "stream",
       "stream": "stdout",
       "text": [
        "\n",
        "  1912  |    0.004995  |    0.006615  |     0.755095  |             |  8.3s"
       ]
      },
      {
       "output_type": "stream",
       "stream": "stdout",
       "text": [
        "\n",
        "  1913  |    0.005042  |    0.006623  |     0.761324  |             |  8.3s"
       ]
      },
      {
       "output_type": "stream",
       "stream": "stdout",
       "text": [
        "\n",
        "  1914  |    0.004974  |  \u001b[32m  0.006574\u001b[0m  |     0.756628  |             |  8.3s"
       ]
      },
      {
       "output_type": "stream",
       "stream": "stdout",
       "text": [
        "\n",
        "  1915  |    0.005022  |    0.006603  |     0.760567  |             |  8.2s"
       ]
      },
      {
       "output_type": "stream",
       "stream": "stdout",
       "text": [
        "\n",
        "  1916  |  \u001b[94m  0.004965\u001b[0m  |    0.006619  |     0.750133  |             |  8.2s"
       ]
      },
      {
       "output_type": "stream",
       "stream": "stdout",
       "text": [
        "\n",
        "  1917  |    0.005017  |    0.006587  |     0.761610  |             |  8.2s"
       ]
      },
      {
       "output_type": "stream",
       "stream": "stdout",
       "text": [
        "\n",
        "  1918  |    0.005017  |    0.006607  |     0.759251  |             |  8.2s"
       ]
      },
      {
       "output_type": "stream",
       "stream": "stdout",
       "text": [
        "\n",
        "  1919  |    0.005031  |    0.006608  |     0.761430  |             |  8.2s"
       ]
      },
      {
       "output_type": "stream",
       "stream": "stdout",
       "text": [
        "\n",
        "  1920  |  \u001b[94m  0.004940\u001b[0m  |    0.006609  |     0.747462  |             |  8.2s"
       ]
      },
      {
       "output_type": "stream",
       "stream": "stdout",
       "text": [
        "\n",
        "  1921  |  \u001b[94m  0.004922\u001b[0m  |    0.006620  |     0.743554  |             |  8.2s"
       ]
      },
      {
       "output_type": "stream",
       "stream": "stdout",
       "text": [
        "\n",
        "  1922  |    0.005035  |    0.006606  |     0.762307  |             |  8.2s"
       ]
      },
      {
       "output_type": "stream",
       "stream": "stdout",
       "text": [
        "\n",
        "  1923  |    0.004949  |    0.006580  |     0.752205  |             |  8.2s"
       ]
      },
      {
       "output_type": "stream",
       "stream": "stdout",
       "text": [
        "\n",
        "  1924  |    0.004938  |    0.006607  |     0.747359  |             |  8.2s"
       ]
      },
      {
       "output_type": "stream",
       "stream": "stdout",
       "text": [
        "\n",
        "  1925  |    0.004985  |    0.006646  |     0.750111  |             |  8.2s"
       ]
      },
      {
       "output_type": "stream",
       "stream": "stdout",
       "text": [
        "\n",
        "  1926  |    0.005037  |    0.006592  |     0.764065  |             |  8.2s"
       ]
      },
      {
       "output_type": "stream",
       "stream": "stdout",
       "text": [
        "\n",
        "  1927  |    0.004951  |    0.006623  |     0.747668  |             |  8.2s"
       ]
      },
      {
       "output_type": "stream",
       "stream": "stdout",
       "text": [
        "\n",
        "  1928  |    0.005029  |    0.006607  |     0.761199  |             |  8.2s"
       ]
      },
      {
       "output_type": "stream",
       "stream": "stdout",
       "text": [
        "\n",
        "  1929  |    0.005028  |    0.006658  |     0.755272  |             |  8.2s"
       ]
      },
      {
       "output_type": "stream",
       "stream": "stdout",
       "text": [
        "\n",
        "  1930  |    0.004968  |    0.006630  |     0.749300  |             |  8.2s"
       ]
      },
      {
       "output_type": "stream",
       "stream": "stdout",
       "text": [
        "\n",
        "  1931  |    0.005002  |    0.006615  |     0.756180  |             |  8.2s"
       ]
      },
      {
       "output_type": "stream",
       "stream": "stdout",
       "text": [
        "\n",
        "  1932  |    0.004992  |    0.006620  |     0.754107  |             |  8.2s"
       ]
      },
      {
       "output_type": "stream",
       "stream": "stdout",
       "text": [
        "\n",
        "  1933  |    0.004968  |    0.006606  |     0.752126  |             |  8.2s"
       ]
      },
      {
       "output_type": "stream",
       "stream": "stdout",
       "text": [
        "\n",
        "  1934  |    0.005003  |  \u001b[32m  0.006556\u001b[0m  |     0.763129  |             |  8.2s"
       ]
      },
      {
       "output_type": "stream",
       "stream": "stdout",
       "text": [
        "\n",
        "  1935  |    0.004954  |    0.006616  |     0.748780  |             |  8.2s"
       ]
      },
      {
       "output_type": "stream",
       "stream": "stdout",
       "text": [
        "\n",
        "  1936  |  \u001b[94m  0.004867\u001b[0m  |    0.006605  |     0.736926  |             |  8.2s"
       ]
      },
      {
       "output_type": "stream",
       "stream": "stdout",
       "text": [
        "\n",
        "  1937  |    0.004907  |    0.006618  |     0.741500  |             |  8.2s"
       ]
      },
      {
       "output_type": "stream",
       "stream": "stdout",
       "text": [
        "\n",
        "  1938  |    0.004938  |    0.006605  |     0.747552  |             |  8.2s"
       ]
      },
      {
       "output_type": "stream",
       "stream": "stdout",
       "text": [
        "\n",
        "  1939  |    0.004946  |    0.006624  |     0.746745  |             |  8.2s"
       ]
      },
      {
       "output_type": "stream",
       "stream": "stdout",
       "text": [
        "\n",
        "  1940  |    0.004954  |    0.006627  |     0.747569  |             |  8.2s"
       ]
      },
      {
       "output_type": "stream",
       "stream": "stdout",
       "text": [
        "\n",
        "  1941  |    0.004913  |    0.006604  |     0.744038  |             |  8.2s"
       ]
      },
      {
       "output_type": "stream",
       "stream": "stdout",
       "text": [
        "\n",
        "  1942  |    0.005010  |    0.006622  |     0.756653  |             |  8.2s"
       ]
      },
      {
       "output_type": "stream",
       "stream": "stdout",
       "text": [
        "\n",
        "  1943  |    0.004923  |    0.006606  |     0.745221  |             |  8.2s"
       ]
      },
      {
       "output_type": "stream",
       "stream": "stdout",
       "text": [
        "\n",
        "  1944  |    0.004947  |    0.006570  |     0.753026  |             |  8.2s"
       ]
      },
      {
       "output_type": "stream",
       "stream": "stdout",
       "text": [
        "\n",
        "  1945  |    0.004949  |    0.006611  |     0.748530  |             |  8.2s"
       ]
      },
      {
       "output_type": "stream",
       "stream": "stdout",
       "text": [
        "\n",
        "  1946  |    0.004957  |    0.006628  |     0.747874  |             |  8.2s"
       ]
      },
      {
       "output_type": "stream",
       "stream": "stdout",
       "text": [
        "\n",
        "  1947  |    0.004894  |    0.006603  |     0.741136  |             |  8.2s"
       ]
      },
      {
       "output_type": "stream",
       "stream": "stdout",
       "text": [
        "\n",
        "  1948  |    0.004911  |    0.006607  |     0.743363  |             |  8.2s"
       ]
      },
      {
       "output_type": "stream",
       "stream": "stdout",
       "text": [
        "\n",
        "  1949  |    0.004935  |    0.006604  |     0.747290  |             |  8.2s"
       ]
      },
      {
       "output_type": "stream",
       "stream": "stdout",
       "text": [
        "\n",
        "  1950  |    0.004959  |    0.006616  |     0.749461  |             |  8.2s"
       ]
      },
      {
       "output_type": "stream",
       "stream": "stdout",
       "text": [
        "\n",
        "  1951  |  \u001b[94m  0.004847\u001b[0m  |    0.006581  |     0.736489  |             |  8.2s"
       ]
      },
      {
       "output_type": "stream",
       "stream": "stdout",
       "text": [
        "\n",
        "  1952  |    0.004984  |    0.006594  |     0.755903  |             |  8.2s"
       ]
      },
      {
       "output_type": "stream",
       "stream": "stdout",
       "text": [
        "\n",
        "  1953  |    0.004903  |    0.006594  |     0.743563  |             |  8.2s"
       ]
      },
      {
       "output_type": "stream",
       "stream": "stdout",
       "text": [
        "\n",
        "  1954  |    0.004952  |    0.006612  |     0.749037  |             |  8.2s"
       ]
      },
      {
       "output_type": "stream",
       "stream": "stdout",
       "text": [
        "\n",
        "  1955  |    0.004940  |    0.006608  |     0.747658  |             |  8.2s"
       ]
      },
      {
       "output_type": "stream",
       "stream": "stdout",
       "text": [
        "\n",
        "  1956  |    0.004917  |    0.006622  |     0.742504  |             |  8.2s"
       ]
      },
      {
       "output_type": "stream",
       "stream": "stdout",
       "text": [
        "\n",
        "  1957  |    0.004982  |    0.006586  |     0.756425  |             |  8.2s"
       ]
      },
      {
       "output_type": "stream",
       "stream": "stdout",
       "text": [
        "\n",
        "  1958  |    0.004942  |    0.006593  |     0.749643  |             |  8.2s"
       ]
      },
      {
       "output_type": "stream",
       "stream": "stdout",
       "text": [
        "\n",
        "  1959  |    0.004879  |  \u001b[32m  0.006548\u001b[0m  |     0.745065  |             |  8.2s"
       ]
      },
      {
       "output_type": "stream",
       "stream": "stdout",
       "text": [
        "\n",
        "  1960  |    0.004904  |    0.006560  |     0.747599  |             |  8.2s"
       ]
      },
      {
       "output_type": "stream",
       "stream": "stdout",
       "text": [
        "\n",
        "  1961  |    0.004915  |    0.006603  |     0.744293  |             |  8.2s"
       ]
      },
      {
       "output_type": "stream",
       "stream": "stdout",
       "text": [
        "\n",
        "  1962  |    0.004900  |    0.006590  |     0.743510  |             |  8.2s"
       ]
      },
      {
       "output_type": "stream",
       "stream": "stdout",
       "text": [
        "\n",
        "  1963  |    0.004874  |    0.006597  |     0.738823  |             |  8.2s"
       ]
      },
      {
       "output_type": "stream",
       "stream": "stdout",
       "text": [
        "\n",
        "  1964  |    0.004971  |    0.006593  |     0.754076  |             |  8.2s"
       ]
      },
      {
       "output_type": "stream",
       "stream": "stdout",
       "text": [
        "\n",
        "  1965  |    0.004950  |    0.006566  |     0.753949  |             |  8.2s"
       ]
      },
      {
       "output_type": "stream",
       "stream": "stdout",
       "text": [
        "\n",
        "  1966  |  \u001b[94m  0.004792\u001b[0m  |    0.006583  |     0.727907  |             |  8.2s"
       ]
      },
      {
       "output_type": "stream",
       "stream": "stdout",
       "text": [
        "\n",
        "  1967  |    0.004834  |    0.006574  |     0.735305  |             |  8.2s"
       ]
      },
      {
       "output_type": "stream",
       "stream": "stdout",
       "text": [
        "\n",
        "  1968  |    0.004866  |    0.006595  |     0.737859  |             |  8.2s"
       ]
      },
      {
       "output_type": "stream",
       "stream": "stdout",
       "text": [
        "\n",
        "  1969  |    0.004886  |    0.006613  |     0.738792  |             |  8.2s"
       ]
      },
      {
       "output_type": "stream",
       "stream": "stdout",
       "text": [
        "\n",
        "  1970  |    0.004890  |    0.006576  |     0.743618  |             |  8.2s"
       ]
      },
      {
       "output_type": "stream",
       "stream": "stdout",
       "text": [
        "\n",
        "  1971  |    0.004831  |    0.006566  |     0.735748  |             |  8.2s"
       ]
      },
      {
       "output_type": "stream",
       "stream": "stdout",
       "text": [
        "\n",
        "  1972  |    0.004897  |    0.006603  |     0.741548  |             |  8.2s"
       ]
      },
      {
       "output_type": "stream",
       "stream": "stdout",
       "text": [
        "\n",
        "  1973  |    0.004891  |    0.006586  |     0.742540  |             |  8.2s"
       ]
      },
      {
       "output_type": "stream",
       "stream": "stdout",
       "text": [
        "\n",
        "  1974  |    0.004850  |    0.006569  |     0.738387  |             |  8.2s"
       ]
      },
      {
       "output_type": "stream",
       "stream": "stdout",
       "text": [
        "\n",
        "  1975  |    0.004850  |    0.006611  |     0.733531  |             |  8.2s"
       ]
      },
      {
       "output_type": "stream",
       "stream": "stdout",
       "text": [
        "\n",
        "  1976  |    0.004869  |    0.006574  |     0.740565  |             |  8.2s"
       ]
      },
      {
       "output_type": "stream",
       "stream": "stdout",
       "text": [
        "\n",
        "  1977  |    0.004876  |    0.006632  |     0.735201  |             |  8.2s"
       ]
      },
      {
       "output_type": "stream",
       "stream": "stdout",
       "text": [
        "\n",
        "  1978  |    0.004874  |    0.006620  |     0.736230  |             |  8.2s"
       ]
      },
      {
       "output_type": "stream",
       "stream": "stdout",
       "text": [
        "\n",
        "  1979  |    0.004896  |    0.006581  |     0.744043  |             |  8.2s"
       ]
      },
      {
       "output_type": "stream",
       "stream": "stdout",
       "text": [
        "\n",
        "  1980  |    0.004873  |    0.006589  |     0.739518  |             |  8.2s"
       ]
      },
      {
       "output_type": "stream",
       "stream": "stdout",
       "text": [
        "\n",
        "  1981  |    0.004899  |    0.006601  |     0.742097  |             |  8.2s"
       ]
      },
      {
       "output_type": "stream",
       "stream": "stdout",
       "text": [
        "\n",
        "  1982  |    0.004850  |    0.006593  |     0.735545  |             |  8.2s"
       ]
      },
      {
       "output_type": "stream",
       "stream": "stdout",
       "text": [
        "\n",
        "  1983  |    0.004894  |    0.006583  |     0.743358  |             |  8.2s"
       ]
      },
      {
       "output_type": "stream",
       "stream": "stdout",
       "text": [
        "\n",
        "  1984  |    0.004842  |    0.006608  |     0.732677  |             |  8.3s"
       ]
      },
      {
       "output_type": "stream",
       "stream": "stdout",
       "text": [
        "\n",
        "  1985  |    0.004872  |    0.006585  |     0.739779  |             |  8.3s"
       ]
      },
      {
       "output_type": "stream",
       "stream": "stdout",
       "text": [
        "\n",
        "  1986  |    0.004864  |    0.006596  |     0.737339  |             |  8.3s"
       ]
      },
      {
       "output_type": "stream",
       "stream": "stdout",
       "text": [
        "\n",
        "  1987  |    0.004862  |    0.006580  |     0.738894  |             |  8.3s"
       ]
      },
      {
       "output_type": "stream",
       "stream": "stdout",
       "text": [
        "\n",
        "  1988  |    0.004825  |    0.006590  |     0.732167  |             |  8.4s"
       ]
      },
      {
       "output_type": "stream",
       "stream": "stdout",
       "text": [
        "\n",
        "  1989  |    0.004870  |    0.006613  |     0.736426  |             |  8.3s"
       ]
      },
      {
       "output_type": "stream",
       "stream": "stdout",
       "text": [
        "\n",
        "  1990  |    0.004863  |    0.006583  |     0.738792  |             |  8.3s"
       ]
      },
      {
       "output_type": "stream",
       "stream": "stdout",
       "text": [
        "\n",
        "  1991  |    0.004853  |    0.006604  |     0.734856  |             |  8.3s"
       ]
      },
      {
       "output_type": "stream",
       "stream": "stdout",
       "text": [
        "\n",
        "  1992  |    0.004835  |    0.006554  |     0.737728  |             |  8.3s"
       ]
      },
      {
       "output_type": "stream",
       "stream": "stdout",
       "text": [
        "\n",
        "  1993  |    0.004871  |    0.006595  |     0.738488  |             |  8.3s"
       ]
      },
      {
       "output_type": "stream",
       "stream": "stdout",
       "text": [
        "\n",
        "  1994  |    0.004884  |    0.006574  |     0.742938  |             |  8.3s"
       ]
      },
      {
       "output_type": "stream",
       "stream": "stdout",
       "text": [
        "\n",
        "  1995  |    0.004808  |    0.006567  |     0.732207  |             |  8.3s"
       ]
      },
      {
       "output_type": "stream",
       "stream": "stdout",
       "text": [
        "\n",
        "  1996  |    0.004836  |  \u001b[32m  0.006541\u001b[0m  |     0.739361  |             |  8.3s"
       ]
      },
      {
       "output_type": "stream",
       "stream": "stdout",
       "text": [
        "\n",
        "  1997  |    0.004818  |    0.006616  |     0.728185  |             |  8.3s"
       ]
      },
      {
       "output_type": "stream",
       "stream": "stdout",
       "text": [
        "\n",
        "  1998  |    0.004869  |    0.006592  |     0.738599  |             |  8.3s"
       ]
      },
      {
       "output_type": "stream",
       "stream": "stdout",
       "text": [
        "\n",
        "  1999  |    0.004838  |    0.006562  |     0.737205  |             |  8.3s"
       ]
      },
      {
       "output_type": "stream",
       "stream": "stdout",
       "text": [
        "\n",
        "  2000  |    0.004849  |    0.006590  |     0.735818  |             |  8.3s"
       ]
      },
      {
       "output_type": "stream",
       "stream": "stdout",
       "text": [
        "\n",
        "  2001  |    0.004806  |    0.006587  |     0.729622  |             |  8.4s"
       ]
      },
      {
       "output_type": "stream",
       "stream": "stdout",
       "text": [
        "\n",
        "  2002  |  \u001b[94m  0.004777\u001b[0m  |    0.006563  |     0.727865  |             |  8.4s"
       ]
      },
      {
       "output_type": "stream",
       "stream": "stdout",
       "text": [
        "\n",
        "  2003  |    0.004841  |    0.006568  |     0.737038  |             |  8.4s"
       ]
      },
      {
       "output_type": "stream",
       "stream": "stdout",
       "text": [
        "\n",
        "  2004  |    0.004780  |    0.006587  |     0.725728  |             |  8.3s"
       ]
      },
      {
       "output_type": "stream",
       "stream": "stdout",
       "text": [
        "\n",
        "  2005  |    0.004796  |    0.006546  |     0.732593  |             |  8.3s"
       ]
      },
      {
       "output_type": "stream",
       "stream": "stdout",
       "text": [
        "\n",
        "  2006  |    0.004797  |    0.006570  |     0.730123  |             |  8.3s"
       ]
      },
      {
       "output_type": "stream",
       "stream": "stdout",
       "text": [
        "\n",
        "  2007  |    0.004793  |    0.006579  |     0.728588  |             |  8.3s"
       ]
      },
      {
       "output_type": "stream",
       "stream": "stdout",
       "text": [
        "\n",
        "  2008  |    0.004856  |    0.006589  |     0.736897  |             |  8.3s"
       ]
      },
      {
       "output_type": "stream",
       "stream": "stdout",
       "text": [
        "\n",
        "  2009  |    0.004917  |    0.006611  |     0.743733  |             |  8.3s"
       ]
      },
      {
       "output_type": "stream",
       "stream": "stdout",
       "text": [
        "\n",
        "  2010  |    0.004865  |    0.006608  |     0.736211  |             |  8.3s"
       ]
      },
      {
       "output_type": "stream",
       "stream": "stdout",
       "text": [
        "\n",
        "  2011  |    0.004856  |    0.006592  |     0.736663  |             |  8.3s"
       ]
      },
      {
       "output_type": "stream",
       "stream": "stdout",
       "text": [
        "\n",
        "  2012  |    0.004833  |    0.006563  |     0.736419  |             |  8.3s"
       ]
      },
      {
       "output_type": "stream",
       "stream": "stdout",
       "text": [
        "\n",
        "  2013  |    0.004865  |  \u001b[32m  0.006524\u001b[0m  |     0.745727  |             |  8.3s"
       ]
      },
      {
       "output_type": "stream",
       "stream": "stdout",
       "text": [
        "\n",
        "  2014  |  \u001b[94m  0.004745\u001b[0m  |    0.006553  |     0.724034  |             |  8.3s"
       ]
      },
      {
       "output_type": "stream",
       "stream": "stdout",
       "text": [
        "\n",
        "  2015  |    0.004814  |    0.006586  |     0.730908  |             |  8.3s"
       ]
      },
      {
       "output_type": "stream",
       "stream": "stdout",
       "text": [
        "\n",
        "  2016  |    0.004770  |    0.006593  |     0.723559  |             |  8.3s"
       ]
      },
      {
       "output_type": "stream",
       "stream": "stdout",
       "text": [
        "\n",
        "  2017  |    0.004805  |    0.006569  |     0.731517  |             |  8.3s"
       ]
      },
      {
       "output_type": "stream",
       "stream": "stdout",
       "text": [
        "\n",
        "  2018  |    0.004795  |    0.006575  |     0.729364  |             |  8.3s"
       ]
      },
      {
       "output_type": "stream",
       "stream": "stdout",
       "text": [
        "\n",
        "  2019  |    0.004842  |    0.006574  |     0.736453  |             |  8.3s"
       ]
      },
      {
       "output_type": "stream",
       "stream": "stdout",
       "text": [
        "\n",
        "  2020  |    0.004774  |    0.006564  |     0.727302  |             |  8.3s"
       ]
      },
      {
       "output_type": "stream",
       "stream": "stdout",
       "text": [
        "\n",
        "  2021  |    0.004753  |    0.006579  |     0.722461  |             |  8.3s"
       ]
      },
      {
       "output_type": "stream",
       "stream": "stdout",
       "text": [
        "\n",
        "  2022  |    0.004783  |    0.006585  |     0.726457  |             |  8.3s"
       ]
      },
      {
       "output_type": "stream",
       "stream": "stdout",
       "text": [
        "\n",
        "  2023  |    0.004856  |    0.006586  |     0.737280  |             |  8.3s"
       ]
      },
      {
       "output_type": "stream",
       "stream": "stdout",
       "text": [
        "\n",
        "  2024  |    0.004748  |    0.006578  |     0.721752  |             |  8.3s"
       ]
      },
      {
       "output_type": "stream",
       "stream": "stdout",
       "text": [
        "\n",
        "  2025  |    0.004784  |    0.006585  |     0.726559  |             |  8.3s"
       ]
      },
      {
       "output_type": "stream",
       "stream": "stdout",
       "text": [
        "\n",
        "  2026  |    0.004761  |    0.006536  |     0.728374  |             |  8.3s"
       ]
      },
      {
       "output_type": "stream",
       "stream": "stdout",
       "text": [
        "\n",
        "  2027  |    0.004774  |    0.006555  |     0.728285  |             |  8.2s"
       ]
      },
      {
       "output_type": "stream",
       "stream": "stdout",
       "text": [
        "\n",
        "  2028  |    0.004800  |    0.006565  |     0.731167  |             |  8.2s"
       ]
      },
      {
       "output_type": "stream",
       "stream": "stdout",
       "text": [
        "\n",
        "  2029  |  \u001b[94m  0.004727\u001b[0m  |    0.006582  |     0.718231  |             |  8.2s"
       ]
      },
      {
       "output_type": "stream",
       "stream": "stdout",
       "text": [
        "\n",
        "  2030  |    0.004787  |    0.006550  |     0.730798  |             |  8.2s"
       ]
      },
      {
       "output_type": "stream",
       "stream": "stdout",
       "text": [
        "\n",
        "  2031  |    0.004804  |    0.006570  |     0.731260  |             |  8.2s"
       ]
      },
      {
       "output_type": "stream",
       "stream": "stdout",
       "text": [
        "\n",
        "  2032  |    0.004810  |    0.006592  |     0.729632  |             |  8.2s"
       ]
      },
      {
       "output_type": "stream",
       "stream": "stdout",
       "text": [
        "\n",
        "  2033  |    0.004815  |    0.006571  |     0.732720  |             |  8.2s"
       ]
      },
      {
       "output_type": "stream",
       "stream": "stdout",
       "text": [
        "\n",
        "  2034  |    0.004796  |    0.006595  |     0.727282  |             |  8.2s"
       ]
      },
      {
       "output_type": "stream",
       "stream": "stdout",
       "text": [
        "\n",
        "  2035  |  \u001b[94m  0.004724\u001b[0m  |    0.006566  |     0.719550  |             |  8.2s"
       ]
      },
      {
       "output_type": "stream",
       "stream": "stdout",
       "text": [
        "\n",
        "  2036  |    0.004807  |    0.006618  |     0.726337  |             |  8.2s"
       ]
      },
      {
       "output_type": "stream",
       "stream": "stdout",
       "text": [
        "\n",
        "  2037  |    0.004762  |    0.006586  |     0.723089  |             |  8.2s"
       ]
      },
      {
       "output_type": "stream",
       "stream": "stdout",
       "text": [
        "\n",
        "  2038  |    0.004758  |    0.006592  |     0.721753  |             |  8.2s"
       ]
      },
      {
       "output_type": "stream",
       "stream": "stdout",
       "text": [
        "\n",
        "  2039  |    0.004773  |    0.006578  |     0.725643  |             |  8.2s"
       ]
      },
      {
       "output_type": "stream",
       "stream": "stdout",
       "text": [
        "\n",
        "  2040  |    0.004754  |    0.006591  |     0.721334  |             |  8.2s"
       ]
      },
      {
       "output_type": "stream",
       "stream": "stdout",
       "text": [
        "\n",
        "  2041  |    0.004800  |    0.006573  |     0.730287  |             |  8.2s"
       ]
      },
      {
       "output_type": "stream",
       "stream": "stdout",
       "text": [
        "\n",
        "  2042  |  \u001b[94m  0.004722\u001b[0m  |    0.006570  |     0.718811  |             |  8.2s"
       ]
      },
      {
       "output_type": "stream",
       "stream": "stdout",
       "text": [
        "\n",
        "  2043  |    0.004791  |    0.006595  |     0.726491  |             |  8.2s"
       ]
      },
      {
       "output_type": "stream",
       "stream": "stdout",
       "text": [
        "\n",
        "  2044  |  \u001b[94m  0.004720\u001b[0m  |    0.006551  |     0.720535  |             |  8.2s"
       ]
      },
      {
       "output_type": "stream",
       "stream": "stdout",
       "text": [
        "\n",
        "  2045  |  \u001b[94m  0.004718\u001b[0m  |    0.006570  |     0.718133  |             |  8.2s"
       ]
      },
      {
       "output_type": "stream",
       "stream": "stdout",
       "text": [
        "\n",
        "  2046  |    0.004767  |    0.006583  |     0.724146  |             |  8.2s"
       ]
      },
      {
       "output_type": "stream",
       "stream": "stdout",
       "text": [
        "\n",
        "  2047  |  \u001b[94m  0.004685\u001b[0m  |    0.006603  |     0.709567  |             |  8.2s"
       ]
      },
      {
       "output_type": "stream",
       "stream": "stdout",
       "text": [
        "\n",
        "  2048  |    0.004775  |    0.006560  |     0.727943  |             |  8.2s"
       ]
      },
      {
       "output_type": "stream",
       "stream": "stdout",
       "text": [
        "\n",
        "  2049  |    0.004761  |    0.006561  |     0.725612  |             |  8.2s"
       ]
      },
      {
       "output_type": "stream",
       "stream": "stdout",
       "text": [
        "\n",
        "  2050  |    0.004718  |    0.006556  |     0.719717  |             |  8.2s"
       ]
      },
      {
       "output_type": "stream",
       "stream": "stdout",
       "text": [
        "\n",
        "  2051  |    0.004688  |    0.006548  |     0.715858  |             |  8.2s"
       ]
      },
      {
       "output_type": "stream",
       "stream": "stdout",
       "text": [
        "\n",
        "  2052  |  \u001b[94m  0.004685\u001b[0m  |    0.006553  |     0.714964  |             |  8.2s"
       ]
      },
      {
       "output_type": "stream",
       "stream": "stdout",
       "text": [
        "\n",
        "  2053  |    0.004752  |    0.006580  |     0.722184  |             |  8.2s"
       ]
      },
      {
       "output_type": "stream",
       "stream": "stdout",
       "text": [
        "\n",
        "  2054  |    0.004687  |    0.006537  |     0.716936  |             |  8.2s"
       ]
      },
      {
       "output_type": "stream",
       "stream": "stdout",
       "text": [
        "\n",
        "  2055  |    0.004703  |    0.006571  |     0.715812  |             |  8.2s"
       ]
      },
      {
       "output_type": "stream",
       "stream": "stdout",
       "text": [
        "\n",
        "  2056  |    0.004765  |    0.006560  |     0.726361  |             |  8.2s"
       ]
      },
      {
       "output_type": "stream",
       "stream": "stdout",
       "text": [
        "\n",
        "  2057  |    0.004791  |    0.006540  |     0.732602  |             |  8.2s"
       ]
      },
      {
       "output_type": "stream",
       "stream": "stdout",
       "text": [
        "\n",
        "  2058  |    0.004710  |    0.006561  |     0.717856  |             |  8.2s"
       ]
      },
      {
       "output_type": "stream",
       "stream": "stdout",
       "text": [
        "\n",
        "  2059  |  \u001b[94m  0.004640\u001b[0m  |    0.006576  |     0.705639  |             |  8.2s"
       ]
      },
      {
       "output_type": "stream",
       "stream": "stdout",
       "text": [
        "\n",
        "  2060  |    0.004704  |    0.006587  |     0.714112  |             |  8.2s"
       ]
      },
      {
       "output_type": "stream",
       "stream": "stdout",
       "text": [
        "\n",
        "  2061  |    0.004660  |    0.006595  |     0.706553  |             |  8.3s"
       ]
      },
      {
       "output_type": "stream",
       "stream": "stdout",
       "text": [
        "\n",
        "  2062  |    0.004674  |  \u001b[32m  0.006521\u001b[0m  |     0.716820  |             |  8.3s"
       ]
      },
      {
       "output_type": "stream",
       "stream": "stdout",
       "text": [
        "\n",
        "  2063  |    0.004678  |    0.006534  |     0.715952  |             |  8.2s"
       ]
      },
      {
       "output_type": "stream",
       "stream": "stdout",
       "text": [
        "\n",
        "  2064  |  \u001b[94m  0.004640\u001b[0m  |    0.006562  |     0.707161  |             |  8.2s"
       ]
      },
      {
       "output_type": "stream",
       "stream": "stdout",
       "text": [
        "\n",
        "  2065  |    0.004657  |    0.006578  |     0.707990  |             |  8.3s"
       ]
      },
      {
       "output_type": "stream",
       "stream": "stdout",
       "text": [
        "\n",
        "  2066  |    0.004722  |    0.006586  |     0.716893  |             |  8.3s"
       ]
      },
      {
       "output_type": "stream",
       "stream": "stdout",
       "text": [
        "\n",
        "  2067  |    0.004742  |    0.006579  |     0.720722  |             |  8.3s"
       ]
      },
      {
       "output_type": "stream",
       "stream": "stdout",
       "text": [
        "\n",
        "  2068  |    0.004651  |    0.006582  |     0.706522  |             |  8.3s"
       ]
      },
      {
       "output_type": "stream",
       "stream": "stdout",
       "text": [
        "\n",
        "  2069  |    0.004698  |    0.006542  |     0.718222  |             |  8.3s"
       ]
      },
      {
       "output_type": "stream",
       "stream": "stdout",
       "text": [
        "\n",
        "  2070  |    0.004764  |    0.006559  |     0.726323  |             |  8.4s"
       ]
      },
      {
       "output_type": "stream",
       "stream": "stdout",
       "text": [
        "\n",
        "  2071  |    0.004667  |    0.006560  |     0.711329  |             |  8.4s"
       ]
      },
      {
       "output_type": "stream",
       "stream": "stdout",
       "text": [
        "\n",
        "  2072  |  \u001b[94m  0.004589\u001b[0m  |    0.006544  |     0.701221  |             |  8.4s"
       ]
      },
      {
       "output_type": "stream",
       "stream": "stdout",
       "text": [
        "\n",
        "  2073  |    0.004650  |    0.006562  |     0.708646  |             |  8.4s"
       ]
      },
      {
       "output_type": "stream",
       "stream": "stdout",
       "text": [
        "\n",
        "  2074  |    0.004738  |    0.006553  |     0.723044  |             |  8.4s"
       ]
      },
      {
       "output_type": "stream",
       "stream": "stdout",
       "text": [
        "\n",
        "  2075  |    0.004719  |    0.006555  |     0.719886  |             |  8.4s"
       ]
      },
      {
       "output_type": "stream",
       "stream": "stdout",
       "text": [
        "\n",
        "  2076  |    0.004665  |    0.006569  |     0.710191  |             |  8.4s"
       ]
      },
      {
       "output_type": "stream",
       "stream": "stdout",
       "text": [
        "\n",
        "  2077  |    0.004695  |    0.006576  |     0.713921  |             |  8.4s"
       ]
      },
      {
       "output_type": "stream",
       "stream": "stdout",
       "text": [
        "\n",
        "  2078  |    0.004650  |    0.006558  |     0.709083  |             |  8.4s"
       ]
      },
      {
       "output_type": "stream",
       "stream": "stdout",
       "text": [
        "\n",
        "  2079  |    0.004744  |  \u001b[32m  0.006516\u001b[0m  |     0.728035  |             |  8.4s"
       ]
      },
      {
       "output_type": "stream",
       "stream": "stdout",
       "text": [
        "\n",
        "  2080  |    0.004644  |    0.006545  |     0.709619  |             |  8.4s"
       ]
      },
      {
       "output_type": "stream",
       "stream": "stdout",
       "text": [
        "\n",
        "  2081  |    0.004679  |    0.006556  |     0.713721  |             |  8.4s"
       ]
      },
      {
       "output_type": "stream",
       "stream": "stdout",
       "text": [
        "\n",
        "  2082  |    0.004657  |    0.006578  |     0.707934  |             |  8.4s"
       ]
      },
      {
       "output_type": "stream",
       "stream": "stdout",
       "text": [
        "\n",
        "  2083  |    0.004662  |    0.006580  |     0.708566  |             |  8.4s"
       ]
      },
      {
       "output_type": "stream",
       "stream": "stdout",
       "text": [
        "\n",
        "  2084  |    0.004660  |    0.006575  |     0.708756  |             |  8.4s"
       ]
      },
      {
       "output_type": "stream",
       "stream": "stdout",
       "text": [
        "\n",
        "  2085  |    0.004742  |    0.006560  |     0.722832  |             |  8.4s"
       ]
      },
      {
       "output_type": "stream",
       "stream": "stdout",
       "text": [
        "\n",
        "  2086  |    0.004642  |    0.006569  |     0.706584  |             |  8.4s"
       ]
      },
      {
       "output_type": "stream",
       "stream": "stdout",
       "text": [
        "\n",
        "  2087  |    0.004680  |    0.006522  |     0.717599  |             |  8.4s"
       ]
      },
      {
       "output_type": "stream",
       "stream": "stdout",
       "text": [
        "\n",
        "  2088  |    0.004689  |    0.006605  |     0.709854  |             |  8.4s"
       ]
      },
      {
       "output_type": "stream",
       "stream": "stdout",
       "text": [
        "\n",
        "  2089  |    0.004614  |    0.006544  |     0.705077  |             |  8.3s"
       ]
      },
      {
       "output_type": "stream",
       "stream": "stdout",
       "text": [
        "\n",
        "  2090  |    0.004646  |    0.006562  |     0.707945  |             |  8.3s"
       ]
      },
      {
       "output_type": "stream",
       "stream": "stdout",
       "text": [
        "\n",
        "  2091  |    0.004617  |  \u001b[32m  0.006509\u001b[0m  |     0.709300  |             |  8.3s"
       ]
      },
      {
       "output_type": "stream",
       "stream": "stdout",
       "text": [
        "\n",
        "  2092  |    0.004668  |    0.006547  |     0.713029  |             |  8.3s"
       ]
      },
      {
       "output_type": "stream",
       "stream": "stdout",
       "text": [
        "\n",
        "  2093  |    0.004614  |    0.006587  |     0.700423  |             |  8.4s"
       ]
      },
      {
       "output_type": "stream",
       "stream": "stdout",
       "text": [
        "\n",
        "  2094  |    0.004590  |    0.006566  |     0.699080  |             |  8.3s"
       ]
      },
      {
       "output_type": "stream",
       "stream": "stdout",
       "text": [
        "\n",
        "  2095  |    0.004673  |    0.006554  |     0.713053  |             |  8.4s"
       ]
      },
      {
       "output_type": "stream",
       "stream": "stdout",
       "text": [
        "\n",
        "  2096  |    0.004668  |    0.006540  |     0.713772  |             |  8.4s"
       ]
      },
      {
       "output_type": "stream",
       "stream": "stdout",
       "text": [
        "\n",
        "  2097  |    0.004604  |    0.006561  |     0.701670  |             |  8.4s"
       ]
      },
      {
       "output_type": "stream",
       "stream": "stdout",
       "text": [
        "\n",
        "  2098  |    0.004641  |    0.006540  |     0.709695  |             |  8.3s"
       ]
      },
      {
       "output_type": "stream",
       "stream": "stdout",
       "text": [
        "\n",
        "  2099  |    0.004645  |    0.006560  |     0.708058  |             |  8.4s"
       ]
      },
      {
       "output_type": "stream",
       "stream": "stdout",
       "text": [
        "\n",
        "  2100  |    0.004590  |    0.006552  |     0.700548  |             |  8.2s"
       ]
      },
      {
       "output_type": "stream",
       "stream": "stdout",
       "text": [
        "\n",
        "  2101  |    0.004648  |    0.006580  |     0.706468  |             |  8.2s"
       ]
      },
      {
       "output_type": "stream",
       "stream": "stdout",
       "text": [
        "\n",
        "  2102  |    0.004595  |    0.006557  |     0.700779  |             |  8.2s"
       ]
      },
      {
       "output_type": "stream",
       "stream": "stdout",
       "text": [
        "\n",
        "  2103  |    0.004627  |    0.006563  |     0.704913  |             |  8.2s"
       ]
      },
      {
       "output_type": "stream",
       "stream": "stdout",
       "text": [
        "\n",
        "  2104  |    0.004602  |    0.006587  |     0.698668  |             |  8.2s"
       ]
      },
      {
       "output_type": "stream",
       "stream": "stdout",
       "text": [
        "\n",
        "  2105  |    0.004638  |    0.006541  |     0.709071  |             |  8.2s"
       ]
      },
      {
       "output_type": "stream",
       "stream": "stdout",
       "text": [
        "\n",
        "  2106  |    0.004677  |    0.006558  |     0.713169  |             |  8.2s"
       ]
      },
      {
       "output_type": "stream",
       "stream": "stdout",
       "text": [
        "\n",
        "  2107  |    0.004680  |    0.006571  |     0.712242  |             |  8.2s"
       ]
      },
      {
       "output_type": "stream",
       "stream": "stdout",
       "text": [
        "\n",
        "  2108  |    0.004599  |    0.006520  |     0.705360  |             |  8.2s"
       ]
      },
      {
       "output_type": "stream",
       "stream": "stdout",
       "text": [
        "\n",
        "  2109  |    0.004675  |    0.006538  |     0.715090  |             |  8.2s"
       ]
      },
      {
       "output_type": "stream",
       "stream": "stdout",
       "text": [
        "\n",
        "  2110  |    0.004598  |    0.006516  |     0.705668  |             |  8.2s"
       ]
      },
      {
       "output_type": "stream",
       "stream": "stdout",
       "text": [
        "\n",
        "  2111  |    0.004602  |    0.006546  |     0.703038  |             |  8.2s"
       ]
      },
      {
       "output_type": "stream",
       "stream": "stdout",
       "text": [
        "\n",
        "  2112  |    0.004625  |    0.006529  |     0.708421  |             |  8.2s"
       ]
      },
      {
       "output_type": "stream",
       "stream": "stdout",
       "text": [
        "\n",
        "  2113  |    0.004606  |    0.006579  |     0.700164  |             |  8.2s"
       ]
      },
      {
       "output_type": "stream",
       "stream": "stdout",
       "text": [
        "\n",
        "  2114  |    0.004628  |    0.006546  |     0.706992  |             |  8.2s"
       ]
      },
      {
       "output_type": "stream",
       "stream": "stdout",
       "text": [
        "\n",
        "  2115  |    0.004603  |    0.006576  |     0.700013  |             |  8.2s"
       ]
      },
      {
       "output_type": "stream",
       "stream": "stdout",
       "text": [
        "\n",
        "  2116  |  \u001b[94m  0.004555\u001b[0m  |    0.006536  |     0.696812  |             |  8.2s"
       ]
      },
      {
       "output_type": "stream",
       "stream": "stdout",
       "text": [
        "\n",
        "  2117  |    0.004584  |    0.006574  |     0.697323  |             |  8.2s"
       ]
      },
      {
       "output_type": "stream",
       "stream": "stdout",
       "text": [
        "\n",
        "  2118  |    0.004684  |    0.006532  |     0.717145  |             |  8.2s"
       ]
      },
      {
       "output_type": "stream",
       "stream": "stdout",
       "text": [
        "\n",
        "  2119  |    0.004616  |    0.006536  |     0.706289  |             |  8.2s"
       ]
      },
      {
       "output_type": "stream",
       "stream": "stdout",
       "text": [
        "\n",
        "  2120  |    0.004624  |  \u001b[32m  0.006502\u001b[0m  |     0.711174  |             |  8.2s"
       ]
      },
      {
       "output_type": "stream",
       "stream": "stdout",
       "text": [
        "\n",
        "  2121  |    0.004564  |    0.006570  |     0.694708  |             |  8.2s"
       ]
      },
      {
       "output_type": "stream",
       "stream": "stdout",
       "text": [
        "\n",
        "  2122  |    0.004661  |    0.006554  |     0.711263  |             |  8.2s"
       ]
      },
      {
       "output_type": "stream",
       "stream": "stdout",
       "text": [
        "\n",
        "  2123  |    0.004620  |    0.006555  |     0.704809  |             |  8.2s"
       ]
      },
      {
       "output_type": "stream",
       "stream": "stdout",
       "text": [
        "\n",
        "  2124  |  \u001b[94m  0.004489\u001b[0m  |    0.006559  |     0.684365  |             |  8.2s"
       ]
      },
      {
       "output_type": "stream",
       "stream": "stdout",
       "text": [
        "\n",
        "  2125  |    0.004636  |    0.006555  |     0.707268  |             |  8.2s"
       ]
      },
      {
       "output_type": "stream",
       "stream": "stdout",
       "text": [
        "\n",
        "  2126  |    0.004603  |    0.006551  |     0.702557  |             |  8.2s"
       ]
      },
      {
       "output_type": "stream",
       "stream": "stdout",
       "text": [
        "\n",
        "  2127  |    0.004623  |    0.006574  |     0.703203  |             |  8.2s"
       ]
      },
      {
       "output_type": "stream",
       "stream": "stdout",
       "text": [
        "\n",
        "  2128  |    0.004562  |    0.006544  |     0.697240  |             |  8.2s"
       ]
      },
      {
       "output_type": "stream",
       "stream": "stdout",
       "text": [
        "\n",
        "  2129  |    0.004577  |    0.006586  |     0.694903  |             |  8.2s"
       ]
      },
      {
       "output_type": "stream",
       "stream": "stdout",
       "text": [
        "\n",
        "  2130  |    0.004593  |    0.006550  |     0.701248  |             |  8.2s"
       ]
      },
      {
       "output_type": "stream",
       "stream": "stdout",
       "text": [
        "\n",
        "  2131  |    0.004565  |    0.006541  |     0.697867  |             |  8.2s"
       ]
      },
      {
       "output_type": "stream",
       "stream": "stdout",
       "text": [
        "\n",
        "  2132  |    0.004639  |    0.006563  |     0.706770  |             |  8.2s"
       ]
      },
      {
       "output_type": "stream",
       "stream": "stdout",
       "text": [
        "\n",
        "  2133  |    0.004602  |    0.006546  |     0.702950  |             |  8.2s"
       ]
      },
      {
       "output_type": "stream",
       "stream": "stdout",
       "text": [
        "\n",
        "  2134  |    0.004576  |    0.006542  |     0.699451  |             |  8.3s"
       ]
      },
      {
       "output_type": "stream",
       "stream": "stdout",
       "text": [
        "\n",
        "  2135  |    0.004583  |    0.006519  |     0.702987  |             |  8.3s"
       ]
      },
      {
       "output_type": "stream",
       "stream": "stdout",
       "text": [
        "\n",
        "  2136  |    0.004655  |    0.006546  |     0.711243  |             |  8.3s"
       ]
      },
      {
       "output_type": "stream",
       "stream": "stdout",
       "text": [
        "\n",
        "  2137  |    0.004565  |    0.006553  |     0.696565  |             |  8.3s"
       ]
      },
      {
       "output_type": "stream",
       "stream": "stdout",
       "text": [
        "\n",
        "  2138  |    0.004635  |    0.006535  |     0.709216  |             |  8.2s"
       ]
      },
      {
       "output_type": "stream",
       "stream": "stdout",
       "text": [
        "\n",
        "  2139  |    0.004579  |  \u001b[32m  0.006491\u001b[0m  |     0.705426  |             |  8.2s"
       ]
      },
      {
       "output_type": "stream",
       "stream": "stdout",
       "text": [
        "\n",
        "  2140  |    0.004510  |    0.006542  |     0.689418  |             |  8.2s"
       ]
      },
      {
       "output_type": "stream",
       "stream": "stdout",
       "text": [
        "\n",
        "  2141  |    0.004522  |    0.006526  |     0.692852  |             |  8.2s"
       ]
      },
      {
       "output_type": "stream",
       "stream": "stdout",
       "text": [
        "\n",
        "  2142  |    0.004508  |    0.006524  |     0.690983  |             |  8.2s"
       ]
      },
      {
       "output_type": "stream",
       "stream": "stdout",
       "text": [
        "\n",
        "  2143  |    0.004561  |    0.006552  |     0.696189  |             |  8.2s"
       ]
      },
      {
       "output_type": "stream",
       "stream": "stdout",
       "text": [
        "\n",
        "  2144  |    0.004611  |    0.006549  |     0.704062  |             |  8.2s"
       ]
      },
      {
       "output_type": "stream",
       "stream": "stdout",
       "text": [
        "\n",
        "  2145  |    0.004585  |    0.006507  |     0.704692  |             |  8.2s"
       ]
      },
      {
       "output_type": "stream",
       "stream": "stdout",
       "text": [
        "\n",
        "  2146  |    0.004580  |    0.006545  |     0.699803  |             |  8.2s"
       ]
      },
      {
       "output_type": "stream",
       "stream": "stdout",
       "text": [
        "\n",
        "  2147  |    0.004551  |    0.006556  |     0.694207  |             |  8.2s"
       ]
      },
      {
       "output_type": "stream",
       "stream": "stdout",
       "text": [
        "\n",
        "  2148  |    0.004527  |    0.006538  |     0.692409  |             |  8.2s"
       ]
      },
      {
       "output_type": "stream",
       "stream": "stdout",
       "text": [
        "\n",
        "  2149  |    0.004562  |    0.006519  |     0.699775  |             |  8.2s"
       ]
      },
      {
       "output_type": "stream",
       "stream": "stdout",
       "text": [
        "\n",
        "  2150  |    0.004567  |    0.006553  |     0.696834  |             |  8.2s"
       ]
      },
      {
       "output_type": "stream",
       "stream": "stdout",
       "text": [
        "\n",
        "  2151  |    0.004565  |    0.006542  |     0.697776  |             |  8.2s"
       ]
      },
      {
       "output_type": "stream",
       "stream": "stdout",
       "text": [
        "\n",
        "  2152  |    0.004493  |  \u001b[32m  0.006470\u001b[0m  |     0.694467  |             |  8.2s"
       ]
      },
      {
       "output_type": "stream",
       "stream": "stdout",
       "text": [
        "\n",
        "  2153  |    0.004589  |    0.006555  |     0.699974  |             |  8.2s"
       ]
      },
      {
       "output_type": "stream",
       "stream": "stdout",
       "text": [
        "\n",
        "  2154  |    0.004579  |    0.006546  |     0.699437  |             |  8.2s"
       ]
      },
      {
       "output_type": "stream",
       "stream": "stdout",
       "text": [
        "\n",
        "  2155  |    0.004545  |    0.006528  |     0.696204  |             |  8.2s"
       ]
      },
      {
       "output_type": "stream",
       "stream": "stdout",
       "text": [
        "\n",
        "  2156  |    0.004592  |    0.006543  |     0.701842  |             |  8.2s"
       ]
      },
      {
       "output_type": "stream",
       "stream": "stdout",
       "text": [
        "\n",
        "  2157  |    0.004517  |    0.006559  |     0.688636  |             |  8.2s"
       ]
      },
      {
       "output_type": "stream",
       "stream": "stdout",
       "text": [
        "\n",
        "  2158  |    0.004558  |    0.006581  |     0.692564  |             |  8.2s"
       ]
      },
      {
       "output_type": "stream",
       "stream": "stdout",
       "text": [
        "\n",
        "  2159  |    0.004527  |    0.006522  |     0.694136  |             |  8.2s"
       ]
      },
      {
       "output_type": "stream",
       "stream": "stdout",
       "text": [
        "\n",
        "  2160  |    0.004624  |    0.006579  |     0.702883  |             |  8.2s"
       ]
      },
      {
       "output_type": "stream",
       "stream": "stdout",
       "text": [
        "\n",
        "  2161  |    0.004495  |    0.006553  |     0.685949  |             |  8.2s"
       ]
      },
      {
       "output_type": "stream",
       "stream": "stdout",
       "text": [
        "\n",
        "  2162  |    0.004508  |    0.006555  |     0.687758  |             |  8.2s"
       ]
      },
      {
       "output_type": "stream",
       "stream": "stdout",
       "text": [
        "\n",
        "  2163  |    0.004558  |    0.006485  |     0.702906  |             |  8.2s"
       ]
      },
      {
       "output_type": "stream",
       "stream": "stdout",
       "text": [
        "\n",
        "  2164  |    0.004521  |    0.006556  |     0.689668  |             |  8.2s"
       ]
      },
      {
       "output_type": "stream",
       "stream": "stdout",
       "text": [
        "\n",
        "  2165  |    0.004537  |    0.006550  |     0.692691  |             |  8.2s"
       ]
      },
      {
       "output_type": "stream",
       "stream": "stdout",
       "text": [
        "\n",
        "  2166  |  \u001b[94m  0.004457\u001b[0m  |    0.006546  |     0.680847  |             |  8.2s"
       ]
      },
      {
       "output_type": "stream",
       "stream": "stdout",
       "text": [
        "\n",
        "  2167  |    0.004524  |    0.006526  |     0.693300  |             |  8.2s"
       ]
      },
      {
       "output_type": "stream",
       "stream": "stdout",
       "text": [
        "\n",
        "  2168  |    0.004559  |    0.006510  |     0.700319  |             |  8.2s"
       ]
      },
      {
       "output_type": "stream",
       "stream": "stdout",
       "text": [
        "\n",
        "  2169  |    0.004500  |    0.006542  |     0.687895  |             |  8.2s"
       ]
      },
      {
       "output_type": "stream",
       "stream": "stdout",
       "text": [
        "\n",
        "  2170  |    0.004542  |    0.006537  |     0.694785  |             |  8.2s"
       ]
      },
      {
       "output_type": "stream",
       "stream": "stdout",
       "text": [
        "\n",
        "  2171  |    0.004535  |    0.006530  |     0.694479  |             |  8.2s"
       ]
      },
      {
       "output_type": "stream",
       "stream": "stdout",
       "text": [
        "\n",
        "  2172  |    0.004520  |    0.006543  |     0.690847  |             |  8.2s"
       ]
      },
      {
       "output_type": "stream",
       "stream": "stdout",
       "text": [
        "\n",
        "  2173  |    0.004504  |    0.006538  |     0.688953  |             |  8.3s"
       ]
      },
      {
       "output_type": "stream",
       "stream": "stdout",
       "text": [
        "\n",
        "  2174  |    0.004537  |    0.006516  |     0.696304  |             |  8.3s"
       ]
      },
      {
       "output_type": "stream",
       "stream": "stdout",
       "text": [
        "\n",
        "  2175  |    0.004538  |    0.006508  |     0.697366  |             |  8.3s"
       ]
      },
      {
       "output_type": "stream",
       "stream": "stdout",
       "text": [
        "\n",
        "  2176  |    0.004573  |    0.006549  |     0.698185  |             |  8.3s"
       ]
      },
      {
       "output_type": "stream",
       "stream": "stdout",
       "text": [
        "\n",
        "  2177  |    0.004496  |    0.006508  |     0.690871  |             |  8.3s"
       ]
      },
      {
       "output_type": "stream",
       "stream": "stdout",
       "text": [
        "\n",
        "  2178  |    0.004488  |    0.006509  |     0.689549  |             |  8.3s"
       ]
      },
      {
       "output_type": "stream",
       "stream": "stdout",
       "text": [
        "\n",
        "  2179  |    0.004539  |    0.006533  |     0.694697  |             |  8.3s"
       ]
      },
      {
       "output_type": "stream",
       "stream": "stdout",
       "text": [
        "\n",
        "  2180  |  \u001b[94m  0.004451\u001b[0m  |    0.006497  |     0.685157  |             |  8.2s"
       ]
      },
      {
       "output_type": "stream",
       "stream": "stdout",
       "text": [
        "\n",
        "  2181  |    0.004532  |    0.006492  |     0.698142  |             |  8.2s"
       ]
      },
      {
       "output_type": "stream",
       "stream": "stdout",
       "text": [
        "\n",
        "  2182  |    0.004500  |    0.006502  |     0.692175  |             |  8.2s"
       ]
      },
      {
       "output_type": "stream",
       "stream": "stdout",
       "text": [
        "\n",
        "  2183  |    0.004482  |    0.006536  |     0.685770  |             |  8.2s"
       ]
      },
      {
       "output_type": "stream",
       "stream": "stdout",
       "text": [
        "\n",
        "  2184  |    0.004487  |    0.006526  |     0.687606  |             |  8.2s"
       ]
      },
      {
       "output_type": "stream",
       "stream": "stdout",
       "text": [
        "\n",
        "  2185  |    0.004555  |    0.006538  |     0.696709  |             |  8.3s"
       ]
      },
      {
       "output_type": "stream",
       "stream": "stdout",
       "text": [
        "\n",
        "  2186  |    0.004511  |    0.006529  |     0.690897  |             |  8.4s"
       ]
      },
      {
       "output_type": "stream",
       "stream": "stdout",
       "text": [
        "\n",
        "  2187  |    0.004492  |    0.006516  |     0.689392  |             |  8.4s"
       ]
      },
      {
       "output_type": "stream",
       "stream": "stdout",
       "text": [
        "\n",
        "  2188  |  \u001b[94m  0.004438\u001b[0m  |    0.006504  |     0.682373  |             |  8.4s"
       ]
      },
      {
       "output_type": "stream",
       "stream": "stdout",
       "text": [
        "\n",
        "  2189  |    0.004516  |    0.006514  |     0.693318  |             |  8.4s"
       ]
      },
      {
       "output_type": "stream",
       "stream": "stdout",
       "text": [
        "\n",
        "  2190  |    0.004443  |    0.006543  |     0.679096  |             |  8.3s"
       ]
      },
      {
       "output_type": "stream",
       "stream": "stdout",
       "text": [
        "\n",
        "  2191  |    0.004493  |    0.006496  |     0.691698  |             |  8.2s"
       ]
      },
      {
       "output_type": "stream",
       "stream": "stdout",
       "text": [
        "\n",
        "  2192  |    0.004466  |    0.006520  |     0.685025  |             |  8.3s"
       ]
      },
      {
       "output_type": "stream",
       "stream": "stdout",
       "text": [
        "\n",
        "  2193  |    0.004512  |    0.006482  |     0.696099  |             |  8.3s"
       ]
      },
      {
       "output_type": "stream",
       "stream": "stdout",
       "text": [
        "\n",
        "  2194  |    0.004478  |    0.006495  |     0.689520  |             |  8.4s"
       ]
      },
      {
       "output_type": "stream",
       "stream": "stdout",
       "text": [
        "\n",
        "  2195  |    0.004465  |    0.006500  |     0.686930  |             |  8.4s"
       ]
      },
      {
       "output_type": "stream",
       "stream": "stdout",
       "text": [
        "\n",
        "  2196  |    0.004520  |    0.006474  |     0.698209  |             |  8.4s"
       ]
      },
      {
       "output_type": "stream",
       "stream": "stdout",
       "text": [
        "\n",
        "  2197  |    0.004455  |    0.006498  |     0.685545  |             |  8.4s"
       ]
      },
      {
       "output_type": "stream",
       "stream": "stdout",
       "text": [
        "\n",
        "  2198  |    0.004477  |    0.006559  |     0.682661  |             |  8.4s"
       ]
      },
      {
       "output_type": "stream",
       "stream": "stdout",
       "text": [
        "\n",
        "  2199  |    0.004540  |    0.006485  |     0.700131  |             |  8.4s"
       ]
      },
      {
       "output_type": "stream",
       "stream": "stdout",
       "text": [
        "\n",
        "  2200  |    0.004500  |    0.006531  |     0.689005  |             |  8.4s"
       ]
      },
      {
       "output_type": "stream",
       "stream": "stdout",
       "text": [
        "\n",
        "  2201  |    0.004591  |    0.006554  |     0.700574  |             |  8.4s"
       ]
      },
      {
       "output_type": "stream",
       "stream": "stdout",
       "text": [
        "\n",
        "  2202  |    0.004451  |    0.006505  |     0.684371  |             |  8.4s"
       ]
      },
      {
       "output_type": "stream",
       "stream": "stdout",
       "text": [
        "\n",
        "  2203  |    0.004471  |    0.006518  |     0.685855  |             |  8.4s"
       ]
      },
      {
       "output_type": "stream",
       "stream": "stdout",
       "text": [
        "\n",
        "  2204  |    0.004515  |    0.006513  |     0.693260  |             |  8.3s"
       ]
      },
      {
       "output_type": "stream",
       "stream": "stdout",
       "text": [
        "\n",
        "  2205  |    0.004478  |    0.006519  |     0.686917  |             |  8.4s"
       ]
      },
      {
       "output_type": "stream",
       "stream": "stdout",
       "text": [
        "\n",
        "  2206  |    0.004456  |    0.006513  |     0.684213  |             |  8.4s"
       ]
      },
      {
       "output_type": "stream",
       "stream": "stdout",
       "text": [
        "\n",
        "  2207  |    0.004438  |    0.006570  |     0.675536  |             |  8.3s"
       ]
      },
      {
       "output_type": "stream",
       "stream": "stdout",
       "text": [
        "\n",
        "  2208  |  \u001b[94m  0.004418\u001b[0m  |    0.006539  |     0.675586  |             |  8.3s"
       ]
      },
      {
       "output_type": "stream",
       "stream": "stdout",
       "text": [
        "\n",
        "  2209  |    0.004543  |    0.006515  |     0.697368  |             |  8.3s"
       ]
      },
      {
       "output_type": "stream",
       "stream": "stdout",
       "text": [
        "\n",
        "  2210  |    0.004493  |    0.006481  |     0.693236  |             |  8.3s"
       ]
      },
      {
       "output_type": "stream",
       "stream": "stdout",
       "text": [
        "\n",
        "  2211  |    0.004490  |    0.006540  |     0.686524  |             |  8.3s"
       ]
      },
      {
       "output_type": "stream",
       "stream": "stdout",
       "text": [
        "\n",
        "  2212  |  \u001b[94m  0.004378\u001b[0m  |    0.006532  |     0.670214  |             |  8.3s"
       ]
      },
      {
       "output_type": "stream",
       "stream": "stdout",
       "text": [
        "\n",
        "  2213  |    0.004468  |    0.006501  |     0.687300  |             |  8.3s"
       ]
      },
      {
       "output_type": "stream",
       "stream": "stdout",
       "text": [
        "\n",
        "  2214  |    0.004452  |    0.006500  |     0.684882  |             |  8.3s"
       ]
      },
      {
       "output_type": "stream",
       "stream": "stdout",
       "text": [
        "\n",
        "  2215  |    0.004496  |    0.006519  |     0.689581  |             |  8.3s"
       ]
      },
      {
       "output_type": "stream",
       "stream": "stdout",
       "text": [
        "\n",
        "  2216  |    0.004455  |    0.006516  |     0.683744  |             |  8.4s"
       ]
      },
      {
       "output_type": "stream",
       "stream": "stdout",
       "text": [
        "\n",
        "  2217  |  \u001b[94m  0.004366\u001b[0m  |    0.006532  |     0.668408  |             |  8.4s"
       ]
      },
      {
       "output_type": "stream",
       "stream": "stdout",
       "text": [
        "\n",
        "  2218  |    0.004454  |    0.006509  |     0.684302  |             |  8.4s"
       ]
      },
      {
       "output_type": "stream",
       "stream": "stdout",
       "text": [
        "\n",
        "  2219  |    0.004427  |    0.006526  |     0.678373  |             |  8.4s"
       ]
      },
      {
       "output_type": "stream",
       "stream": "stdout",
       "text": [
        "\n",
        "  2220  |    0.004435  |    0.006523  |     0.680010  |             |  8.4s"
       ]
      },
      {
       "output_type": "stream",
       "stream": "stdout",
       "text": [
        "\n",
        "  2221  |    0.004394  |    0.006521  |     0.673767  |             |  8.3s"
       ]
      },
      {
       "output_type": "stream",
       "stream": "stdout",
       "text": [
        "\n",
        "  2222  |    0.004438  |    0.006538  |     0.678915  |             |  8.3s"
       ]
      },
      {
       "output_type": "stream",
       "stream": "stdout",
       "text": [
        "\n",
        "  2223  |    0.004467  |    0.006521  |     0.684976  |             |  8.3s"
       ]
      },
      {
       "output_type": "stream",
       "stream": "stdout",
       "text": [
        "\n",
        "  2224  |    0.004417  |    0.006507  |     0.678696  |             |  8.2s"
       ]
      },
      {
       "output_type": "stream",
       "stream": "stdout",
       "text": [
        "\n",
        "  2225  |    0.004396  |    0.006522  |     0.674075  |             |  8.3s"
       ]
      },
      {
       "output_type": "stream",
       "stream": "stdout",
       "text": [
        "\n",
        "  2226  |    0.004479  |    0.006500  |     0.689056  |             |  8.2s"
       ]
      },
      {
       "output_type": "stream",
       "stream": "stdout",
       "text": [
        "\n",
        "  2227  |    0.004494  |    0.006478  |     0.693661  |             |  8.3s"
       ]
      },
      {
       "output_type": "stream",
       "stream": "stdout",
       "text": [
        "\n",
        "  2228  |    0.004469  |    0.006512  |     0.686302  |             |  8.3s"
       ]
      },
      {
       "output_type": "stream",
       "stream": "stdout",
       "text": [
        "\n",
        "  2229  |    0.004466  |    0.006472  |     0.690075  |             |  8.3s"
       ]
      },
      {
       "output_type": "stream",
       "stream": "stdout",
       "text": [
        "\n",
        "  2230  |    0.004472  |    0.006483  |     0.689744  |             |  8.4s"
       ]
      },
      {
       "output_type": "stream",
       "stream": "stdout",
       "text": [
        "\n",
        "  2231  |    0.004400  |    0.006535  |     0.673332  |             |  8.3s"
       ]
      },
      {
       "output_type": "stream",
       "stream": "stdout",
       "text": [
        "\n",
        "  2232  |    0.004414  |    0.006493  |     0.679731  |             |  8.3s"
       ]
      },
      {
       "output_type": "stream",
       "stream": "stdout",
       "text": [
        "\n",
        "  2233  |    0.004374  |    0.006509  |     0.671965  |             |  8.3s"
       ]
      },
      {
       "output_type": "stream",
       "stream": "stdout",
       "text": [
        "\n",
        "  2234  |    0.004387  |    0.006499  |     0.675084  |             |  8.4s"
       ]
      },
      {
       "output_type": "stream",
       "stream": "stdout",
       "text": [
        "\n",
        "  2235  |    0.004432  |    0.006515  |     0.680315  |             |  8.4s"
       ]
      },
      {
       "output_type": "stream",
       "stream": "stdout",
       "text": [
        "\n",
        "  2236  |    0.004451  |    0.006504  |     0.684371  |             |  8.4s"
       ]
      },
      {
       "output_type": "stream",
       "stream": "stdout",
       "text": [
        "\n",
        "  2237  |    0.004430  |    0.006493  |     0.682253  |             |  8.4s"
       ]
      },
      {
       "output_type": "stream",
       "stream": "stdout",
       "text": [
        "\n",
        "  2238  |    0.004436  |    0.006497  |     0.682828  |             |  8.4s"
       ]
      },
      {
       "output_type": "stream",
       "stream": "stdout",
       "text": [
        "\n",
        "  2239  |    0.004377  |    0.006484  |     0.675050  |             |  8.4s"
       ]
      },
      {
       "output_type": "stream",
       "stream": "stdout",
       "text": [
        "\n",
        "  2240  |    0.004390  |  \u001b[32m  0.006463\u001b[0m  |     0.679184  |             |  8.4s"
       ]
      },
      {
       "output_type": "stream",
       "stream": "stdout",
       "text": [
        "\n",
        "  2241  |    0.004387  |  \u001b[32m  0.006460\u001b[0m  |     0.679147  |             |  8.4s"
       ]
      },
      {
       "output_type": "stream",
       "stream": "stdout",
       "text": [
        "\n",
        "  2242  |    0.004372  |    0.006516  |     0.670934  |             |  8.4s"
       ]
      },
      {
       "output_type": "stream",
       "stream": "stdout",
       "text": [
        "\n",
        "  2243  |    0.004371  |    0.006498  |     0.672714  |             |  8.4s"
       ]
      },
      {
       "output_type": "stream",
       "stream": "stdout",
       "text": [
        "\n",
        "  2244  |  \u001b[94m  0.004364\u001b[0m  |    0.006519  |     0.669432  |             |  8.4s"
       ]
      },
      {
       "output_type": "stream",
       "stream": "stdout",
       "text": [
        "\n",
        "  2245  |    0.004460  |    0.006492  |     0.686999  |             |  8.3s"
       ]
      },
      {
       "output_type": "stream",
       "stream": "stdout",
       "text": [
        "\n",
        "  2246  |    0.004383  |    0.006521  |     0.672113  |             |  8.3s"
       ]
      },
      {
       "output_type": "stream",
       "stream": "stdout",
       "text": [
        "\n",
        "  2247  |    0.004434  |    0.006553  |     0.676565  |             |  8.3s"
       ]
      },
      {
       "output_type": "stream",
       "stream": "stdout",
       "text": [
        "\n",
        "  2248  |  \u001b[94m  0.004339\u001b[0m  |    0.006505  |     0.667105  |             |  8.3s"
       ]
      },
      {
       "output_type": "stream",
       "stream": "stdout",
       "text": [
        "\n",
        "  2249  |    0.004454  |    0.006495  |     0.685653  |             |  8.4s"
       ]
      },
      {
       "output_type": "stream",
       "stream": "stdout",
       "text": [
        "\n",
        "  2250  |    0.004369  |    0.006517  |     0.670503  |             |  8.4s"
       ]
      },
      {
       "output_type": "stream",
       "stream": "stdout",
       "text": [
        "\n",
        "  2251  |    0.004401  |    0.006517  |     0.675353  |             |  8.4s"
       ]
      },
      {
       "output_type": "stream",
       "stream": "stdout",
       "text": [
        "\n",
        "  2252  |    0.004467  |    0.006510  |     0.686244  |             |  8.4s"
       ]
      },
      {
       "output_type": "stream",
       "stream": "stdout",
       "text": [
        "\n",
        "  2253  |    0.004392  |    0.006523  |     0.673345  |             |  8.3s"
       ]
      },
      {
       "output_type": "stream",
       "stream": "stdout",
       "text": [
        "\n",
        "  2254  |  \u001b[94m  0.004323\u001b[0m  |    0.006485  |     0.666605  |             |  8.4s"
       ]
      },
      {
       "output_type": "stream",
       "stream": "stdout",
       "text": [
        "\n",
        "  2255  |    0.004410  |    0.006492  |     0.679317  |             |  8.3s"
       ]
      },
      {
       "output_type": "stream",
       "stream": "stdout",
       "text": [
        "\n",
        "  2256  |    0.004377  |    0.006514  |     0.671886  |             |  8.4s"
       ]
      },
      {
       "output_type": "stream",
       "stream": "stdout",
       "text": [
        "\n",
        "  2257  |    0.004344  |    0.006536  |     0.664543  |             |  8.4s"
       ]
      },
      {
       "output_type": "stream",
       "stream": "stdout",
       "text": [
        "\n",
        "  2258  |    0.004437  |    0.006485  |     0.684132  |             |  8.4s"
       ]
      },
      {
       "output_type": "stream",
       "stream": "stdout",
       "text": [
        "\n",
        "  2259  |    0.004352  |    0.006498  |     0.669689  |             |  8.4s"
       ]
      },
      {
       "output_type": "stream",
       "stream": "stdout",
       "text": [
        "\n",
        "  2260  |    0.004331  |    0.006474  |     0.668929  |             |  8.4s"
       ]
      },
      {
       "output_type": "stream",
       "stream": "stdout",
       "text": [
        "\n",
        "  2261  |    0.004410  |    0.006513  |     0.677080  |             |  8.4s"
       ]
      },
      {
       "output_type": "stream",
       "stream": "stdout",
       "text": [
        "\n",
        "  2262  |    0.004331  |    0.006492  |     0.667143  |             |  8.4s"
       ]
      },
      {
       "output_type": "stream",
       "stream": "stdout",
       "text": [
        "\n",
        "  2263  |    0.004339  |    0.006488  |     0.668823  |             |  8.4s"
       ]
      },
      {
       "output_type": "stream",
       "stream": "stdout",
       "text": [
        "\n",
        "  2264  |    0.004359  |    0.006467  |     0.673959  |             |  8.3s"
       ]
      },
      {
       "output_type": "stream",
       "stream": "stdout",
       "text": [
        "\n",
        "  2265  |    0.004327  |    0.006502  |     0.665508  |             |  8.3s"
       ]
      },
      {
       "output_type": "stream",
       "stream": "stdout",
       "text": [
        "\n",
        "  2266  |    0.004408  |    0.006472  |     0.681024  |             |  8.4s"
       ]
      },
      {
       "output_type": "stream",
       "stream": "stdout",
       "text": [
        "\n",
        "  2267  |    0.004326  |    0.006520  |     0.663518  |             |  8.4s"
       ]
      },
      {
       "output_type": "stream",
       "stream": "stdout",
       "text": [
        "\n",
        "  2268  |    0.004329  |    0.006513  |     0.664611  |             |  8.4s"
       ]
      },
      {
       "output_type": "stream",
       "stream": "stdout",
       "text": [
        "\n",
        "  2269  |    0.004384  |    0.006489  |     0.675662  |             |  8.3s"
       ]
      },
      {
       "output_type": "stream",
       "stream": "stdout",
       "text": [
        "\n",
        "  2270  |    0.004361  |    0.006512  |     0.669722  |             |  8.3s"
       ]
      },
      {
       "output_type": "stream",
       "stream": "stdout",
       "text": [
        "\n",
        "  2271  |    0.004372  |    0.006490  |     0.673761  |             |  8.2s"
       ]
      },
      {
       "output_type": "stream",
       "stream": "stdout",
       "text": [
        "\n",
        "  2272  |    0.004404  |    0.006510  |     0.676433  |             |  8.2s"
       ]
      },
      {
       "output_type": "stream",
       "stream": "stdout",
       "text": [
        "\n",
        "  2273  |    0.004354  |    0.006482  |     0.671706  |             |  8.2s"
       ]
      },
      {
       "output_type": "stream",
       "stream": "stdout",
       "text": [
        "\n",
        "  2274  |    0.004411  |    0.006465  |     0.682258  |             |  8.2s"
       ]
      },
      {
       "output_type": "stream",
       "stream": "stdout",
       "text": [
        "\n",
        "  2275  |    0.004332  |    0.006475  |     0.669044  |             |  8.3s"
       ]
      },
      {
       "output_type": "stream",
       "stream": "stdout",
       "text": [
        "\n",
        "  2276  |    0.004392  |    0.006467  |     0.679073  |             |  8.3s"
       ]
      },
      {
       "output_type": "stream",
       "stream": "stdout",
       "text": [
        "\n",
        "  2277  |    0.004355  |    0.006490  |     0.671001  |             |  8.4s"
       ]
      },
      {
       "output_type": "stream",
       "stream": "stdout",
       "text": [
        "\n",
        "  2278  |    0.004341  |    0.006507  |     0.667233  |             |  8.4s"
       ]
      },
      {
       "output_type": "stream",
       "stream": "stdout",
       "text": [
        "\n",
        "  2279  |    0.004341  |    0.006500  |     0.667802  |             |  8.4s"
       ]
      },
      {
       "output_type": "stream",
       "stream": "stdout",
       "text": [
        "\n",
        "  2280  |    0.004407  |    0.006510  |     0.677003  |             |  8.4s"
       ]
      },
      {
       "output_type": "stream",
       "stream": "stdout",
       "text": [
        "\n",
        "  2281  |    0.004346  |    0.006497  |     0.668941  |             |  8.4s"
       ]
      },
      {
       "output_type": "stream",
       "stream": "stdout",
       "text": [
        "\n",
        "  2282  |    0.004362  |    0.006485  |     0.672670  |             |  8.2s"
       ]
      },
      {
       "output_type": "stream",
       "stream": "stdout",
       "text": [
        "\n",
        "  2283  |    0.004356  |    0.006482  |     0.672116  |             |  8.2s"
       ]
      },
      {
       "output_type": "stream",
       "stream": "stdout",
       "text": [
        "\n",
        "  2284  |    0.004392  |    0.006473  |     0.678519  |             |  8.2s"
       ]
      },
      {
       "output_type": "stream",
       "stream": "stdout",
       "text": [
        "\n",
        "  2285  |    0.004412  |    0.006493  |     0.679574  |             |  8.2s"
       ]
      },
      {
       "output_type": "stream",
       "stream": "stdout",
       "text": [
        "\n",
        "  2286  |    0.004368  |    0.006502  |     0.671746  |             |  8.2s"
       ]
      },
      {
       "output_type": "stream",
       "stream": "stdout",
       "text": [
        "\n",
        "  2287  |  \u001b[94m  0.004313\u001b[0m  |    0.006517  |     0.661768  |             |  8.2s"
       ]
      },
      {
       "output_type": "stream",
       "stream": "stdout",
       "text": [
        "\n",
        "  2288  |    0.004336  |    0.006473  |     0.669941  |             |  8.2s"
       ]
      },
      {
       "output_type": "stream",
       "stream": "stdout",
       "text": [
        "\n",
        "  2289  |    0.004418  |    0.006523  |     0.677365  |             |  8.3s"
       ]
      },
      {
       "output_type": "stream",
       "stream": "stdout",
       "text": [
        "\n",
        "  2290  |    0.004357  |    0.006482  |     0.672194  |             |  8.2s"
       ]
      },
      {
       "output_type": "stream",
       "stream": "stdout",
       "text": [
        "\n",
        "  2291  |    0.004384  |  \u001b[32m  0.006454\u001b[0m  |     0.679308  |             |  8.2s"
       ]
      },
      {
       "output_type": "stream",
       "stream": "stdout",
       "text": [
        "\n",
        "  2292  |  \u001b[94m  0.004299\u001b[0m  |    0.006514  |     0.659994  |             |  8.3s"
       ]
      },
      {
       "output_type": "stream",
       "stream": "stdout",
       "text": [
        "\n",
        "  2293  |    0.004404  |    0.006513  |     0.676164  |             |  8.2s"
       ]
      },
      {
       "output_type": "stream",
       "stream": "stdout",
       "text": [
        "\n",
        "  2294  |    0.004325  |    0.006486  |     0.666729  |             |  8.2s"
       ]
      },
      {
       "output_type": "stream",
       "stream": "stdout",
       "text": [
        "\n",
        "  2295  |  \u001b[94m  0.004292\u001b[0m  |    0.006498  |     0.660451  |             |  8.2s"
       ]
      },
      {
       "output_type": "stream",
       "stream": "stdout",
       "text": [
        "\n",
        "  2296  |    0.004332  |    0.006510  |     0.665468  |             |  8.2s"
       ]
      },
      {
       "output_type": "stream",
       "stream": "stdout",
       "text": [
        "\n",
        "  2297  |  \u001b[94m  0.004260\u001b[0m  |    0.006491  |     0.656300  |             |  8.2s"
       ]
      },
      {
       "output_type": "stream",
       "stream": "stdout",
       "text": [
        "\n",
        "  2298  |    0.004347  |    0.006482  |     0.670527  |             |  8.2s"
       ]
      },
      {
       "output_type": "stream",
       "stream": "stdout",
       "text": [
        "\n",
        "  2299  |    0.004293  |    0.006494  |     0.661015  |             |  8.2s"
       ]
      },
      {
       "output_type": "stream",
       "stream": "stdout",
       "text": [
        "\n",
        "  2300  |    0.004280  |    0.006487  |     0.659800  |             |  8.2s"
       ]
      },
      {
       "output_type": "stream",
       "stream": "stdout",
       "text": [
        "\n",
        "  2301  |    0.004282  |    0.006497  |     0.659077  |             |  8.2s"
       ]
      },
      {
       "output_type": "stream",
       "stream": "stdout",
       "text": [
        "\n",
        "  2302  |    0.004312  |    0.006479  |     0.665553  |             |  8.2s"
       ]
      },
      {
       "output_type": "stream",
       "stream": "stdout",
       "text": [
        "\n",
        "  2303  |    0.004308  |    0.006465  |     0.666421  |             |  8.2s"
       ]
      },
      {
       "output_type": "stream",
       "stream": "stdout",
       "text": [
        "\n",
        "  2304  |    0.004362  |    0.006474  |     0.673837  |             |  8.2s"
       ]
      },
      {
       "output_type": "stream",
       "stream": "stdout",
       "text": [
        "\n",
        "  2305  |    0.004294  |    0.006496  |     0.661033  |             |  8.2s"
       ]
      },
      {
       "output_type": "stream",
       "stream": "stdout",
       "text": [
        "\n",
        "  2306  |    0.004318  |    0.006491  |     0.665224  |             |  8.2s"
       ]
      },
      {
       "output_type": "stream",
       "stream": "stdout",
       "text": [
        "\n",
        "  2307  |    0.004338  |  \u001b[32m  0.006446\u001b[0m  |     0.673063  |             |  8.2s"
       ]
      },
      {
       "output_type": "stream",
       "stream": "stdout",
       "text": [
        "\n",
        "  2308  |    0.004359  |    0.006478  |     0.672797  |             |  8.2s"
       ]
      },
      {
       "output_type": "stream",
       "stream": "stdout",
       "text": [
        "\n",
        "  2309  |    0.004320  |    0.006463  |     0.668365  |             |  8.2s"
       ]
      },
      {
       "output_type": "stream",
       "stream": "stdout",
       "text": [
        "\n",
        "  2310  |    0.004304  |    0.006459  |     0.666342  |             |  8.2s"
       ]
      },
      {
       "output_type": "stream",
       "stream": "stdout",
       "text": [
        "\n",
        "  2311  |    0.004347  |    0.006500  |     0.668717  |             |  8.2s"
       ]
      },
      {
       "output_type": "stream",
       "stream": "stdout",
       "text": [
        "\n",
        "  2312  |    0.004278  |    0.006467  |     0.661595  |             |  8.2s"
       ]
      },
      {
       "output_type": "stream",
       "stream": "stdout",
       "text": [
        "\n",
        "  2313  |    0.004308  |    0.006485  |     0.664274  |             |  8.2s"
       ]
      },
      {
       "output_type": "stream",
       "stream": "stdout",
       "text": [
        "\n",
        "  2314  |  \u001b[94m  0.004258\u001b[0m  |    0.006502  |     0.654952  |             |  8.2s"
       ]
      },
      {
       "output_type": "stream",
       "stream": "stdout",
       "text": [
        "\n",
        "  2315  |    0.004272  |    0.006464  |     0.660861  |             |  8.3s"
       ]
      },
      {
       "output_type": "stream",
       "stream": "stdout",
       "text": [
        "\n",
        "  2316  |    0.004319  |    0.006494  |     0.665056  |             |  8.3s"
       ]
      },
      {
       "output_type": "stream",
       "stream": "stdout",
       "text": [
        "\n",
        "  2317  |  \u001b[94m  0.004236\u001b[0m  |    0.006489  |     0.652840  |             |  8.3s"
       ]
      },
      {
       "output_type": "stream",
       "stream": "stdout",
       "text": [
        "\n",
        "  2318  |    0.004290  |  \u001b[32m  0.006442\u001b[0m  |     0.665976  |             |  8.3s"
       ]
      },
      {
       "output_type": "stream",
       "stream": "stdout",
       "text": [
        "\n",
        "  2319  |    0.004325  |    0.006498  |     0.665605  |             |  8.3s"
       ]
      },
      {
       "output_type": "stream",
       "stream": "stdout",
       "text": [
        "\n",
        "  2320  |    0.004307  |    0.006456  |     0.667137  |             |  8.3s"
       ]
      },
      {
       "output_type": "stream",
       "stream": "stdout",
       "text": [
        "\n",
        "  2321  |    0.004254  |    0.006509  |     0.653571  |             |  8.4s"
       ]
      },
      {
       "output_type": "stream",
       "stream": "stdout",
       "text": [
        "\n",
        "  2322  |    0.004268  |    0.006488  |     0.657765  |             |  8.4s"
       ]
      },
      {
       "output_type": "stream",
       "stream": "stdout",
       "text": [
        "\n",
        "  2323  |    0.004285  |    0.006472  |     0.662088  |             |  8.4s"
       ]
      },
      {
       "output_type": "stream",
       "stream": "stdout",
       "text": [
        "\n",
        "  2324  |    0.004295  |    0.006489  |     0.661947  |             |  8.4s"
       ]
      },
      {
       "output_type": "stream",
       "stream": "stdout",
       "text": [
        "\n",
        "  2325  |    0.004269  |    0.006501  |     0.656682  |             |  8.4s"
       ]
      },
      {
       "output_type": "stream",
       "stream": "stdout",
       "text": [
        "\n",
        "  2326  |    0.004275  |    0.006475  |     0.660226  |             |  8.4s"
       ]
      },
      {
       "output_type": "stream",
       "stream": "stdout",
       "text": [
        "\n",
        "  2327  |    0.004264  |    0.006445  |     0.661523  |             |  8.4s"
       ]
      },
      {
       "output_type": "stream",
       "stream": "stdout",
       "text": [
        "\n",
        "  2328  |    0.004265  |    0.006470  |     0.659149  |             |  8.4s"
       ]
      },
      {
       "output_type": "stream",
       "stream": "stdout",
       "text": [
        "\n",
        "  2329  |    0.004307  |    0.006499  |     0.662756  |             |  8.3s"
       ]
      },
      {
       "output_type": "stream",
       "stream": "stdout",
       "text": [
        "\n",
        "  2330  |  \u001b[94m  0.004177\u001b[0m  |    0.006476  |     0.645033  |             |  8.4s"
       ]
      },
      {
       "output_type": "stream",
       "stream": "stdout",
       "text": [
        "\n",
        "  2331  |    0.004236  |    0.006495  |     0.652168  |             |  8.4s"
       ]
      },
      {
       "output_type": "stream",
       "stream": "stdout",
       "text": [
        "\n",
        "  2332  |    0.004267  |    0.006486  |     0.657883  |             |  8.3s"
       ]
      },
      {
       "output_type": "stream",
       "stream": "stdout",
       "text": [
        "\n",
        "  2333  |    0.004287  |    0.006486  |     0.661033  |             |  8.3s"
       ]
      },
      {
       "output_type": "stream",
       "stream": "stdout",
       "text": [
        "\n",
        "  2334  |    0.004235  |    0.006488  |     0.652690  |             |  8.3s"
       ]
      },
      {
       "output_type": "stream",
       "stream": "stdout",
       "text": [
        "\n",
        "  2335  |    0.004283  |    0.006488  |     0.660075  |             |  8.3s"
       ]
      },
      {
       "output_type": "stream",
       "stream": "stdout",
       "text": [
        "\n",
        "  2336  |    0.004272  |    0.006454  |     0.661832  |             |  8.3s"
       ]
      },
      {
       "output_type": "stream",
       "stream": "stdout",
       "text": [
        "\n",
        "  2337  |    0.004250  |    0.006474  |     0.656500  |             |  8.3s"
       ]
      },
      {
       "output_type": "stream",
       "stream": "stdout",
       "text": [
        "\n",
        "  2338  |    0.004293  |    0.006478  |     0.662773  |             |  8.3s"
       ]
      },
      {
       "output_type": "stream",
       "stream": "stdout",
       "text": [
        "\n",
        "  2339  |    0.004232  |    0.006470  |     0.654078  |             |  8.3s"
       ]
      },
      {
       "output_type": "stream",
       "stream": "stdout",
       "text": [
        "\n",
        "  2340  |    0.004272  |    0.006468  |     0.660487  |             |  8.3s"
       ]
      },
      {
       "output_type": "stream",
       "stream": "stdout",
       "text": [
        "\n",
        "  2341  |    0.004236  |    0.006467  |     0.655023  |             |  8.4s"
       ]
      },
      {
       "output_type": "stream",
       "stream": "stdout",
       "text": [
        "\n",
        "  2342  |    0.004245  |    0.006505  |     0.652568  |             |  8.3s"
       ]
      },
      {
       "output_type": "stream",
       "stream": "stdout",
       "text": [
        "\n",
        "  2343  |    0.004233  |    0.006496  |     0.651642  |             |  8.2s"
       ]
      },
      {
       "output_type": "stream",
       "stream": "stdout",
       "text": [
        "\n",
        "  2344  |    0.004228  |    0.006473  |     0.653137  |             |  8.3s"
       ]
      },
      {
       "output_type": "stream",
       "stream": "stdout",
       "text": [
        "\n",
        "  2345  |    0.004284  |    0.006499  |     0.659147  |             |  8.3s"
       ]
      },
      {
       "output_type": "stream",
       "stream": "stdout",
       "text": [
        "\n",
        "  2346  |  \u001b[94m  0.004176\u001b[0m  |    0.006504  |     0.641984  |             |  8.3s"
       ]
      },
      {
       "output_type": "stream",
       "stream": "stdout",
       "text": [
        "\n",
        "  2347  |    0.004220  |    0.006487  |     0.650573  |             |  8.3s"
       ]
      },
      {
       "output_type": "stream",
       "stream": "stdout",
       "text": [
        "\n",
        "  2348  |    0.004244  |    0.006456  |     0.657336  |             |  8.2s"
       ]
      },
      {
       "output_type": "stream",
       "stream": "stdout",
       "text": [
        "\n",
        "  2349  |    0.004226  |    0.006490  |     0.651208  |             |  8.2s"
       ]
      },
      {
       "output_type": "stream",
       "stream": "stdout",
       "text": [
        "\n",
        "  2350  |    0.004271  |    0.006498  |     0.657251  |             |  8.2s"
       ]
      },
      {
       "output_type": "stream",
       "stream": "stdout",
       "text": [
        "\n",
        "  2351  |    0.004246  |    0.006478  |     0.655393  |             |  8.2s"
       ]
      },
      {
       "output_type": "stream",
       "stream": "stdout",
       "text": [
        "\n",
        "  2352  |    0.004279  |    0.006534  |     0.654922  |             |  8.2s"
       ]
      },
      {
       "output_type": "stream",
       "stream": "stdout",
       "text": [
        "\n",
        "  2353  |    0.004256  |    0.006480  |     0.656782  |             |  8.2s"
       ]
      },
      {
       "output_type": "stream",
       "stream": "stdout",
       "text": [
        "\n",
        "  2354  |    0.004212  |    0.006525  |     0.645494  |             |  8.2s"
       ]
      },
      {
       "output_type": "stream",
       "stream": "stdout",
       "text": [
        "\n",
        "  2355  |    0.004287  |    0.006463  |     0.663240  |             |  8.2s"
       ]
      },
      {
       "output_type": "stream",
       "stream": "stdout",
       "text": [
        "\n",
        "  2356  |    0.004233  |    0.006490  |     0.652193  |             |  8.2s"
       ]
      },
      {
       "output_type": "stream",
       "stream": "stdout",
       "text": [
        "\n",
        "  2357  |    0.004256  |    0.006507  |     0.654065  |             |  8.2s"
       ]
      },
      {
       "output_type": "stream",
       "stream": "stdout",
       "text": [
        "\n",
        "  2358  |    0.004289  |  \u001b[32m  0.006442\u001b[0m  |     0.665742  |             |  8.2s"
       ]
      },
      {
       "output_type": "stream",
       "stream": "stdout",
       "text": [
        "\n",
        "  2359  |    0.004233  |    0.006456  |     0.655644  |             |  8.2s"
       ]
      },
      {
       "output_type": "stream",
       "stream": "stdout",
       "text": [
        "\n",
        "  2360  |    0.004271  |    0.006460  |     0.661145  |             |  8.2s"
       ]
      },
      {
       "output_type": "stream",
       "stream": "stdout",
       "text": [
        "\n",
        "  2361  |    0.004208  |    0.006464  |     0.650958  |             |  8.2s"
       ]
      },
      {
       "output_type": "stream",
       "stream": "stdout",
       "text": [
        "\n",
        "  2362  |    0.004211  |    0.006495  |     0.648424  |             |  8.2s"
       ]
      },
      {
       "output_type": "stream",
       "stream": "stdout",
       "text": [
        "\n",
        "  2363  |    0.004228  |    0.006475  |     0.652957  |             |  8.2s"
       ]
      },
      {
       "output_type": "stream",
       "stream": "stdout",
       "text": [
        "\n",
        "  2364  |    0.004236  |    0.006473  |     0.654362  |             |  8.2s"
       ]
      },
      {
       "output_type": "stream",
       "stream": "stdout",
       "text": [
        "\n",
        "  2365  |    0.004193  |    0.006447  |     0.650475  |             |  8.2s"
       ]
      },
      {
       "output_type": "stream",
       "stream": "stdout",
       "text": [
        "\n",
        "  2366  |    0.004198  |    0.006446  |     0.651300  |             |  8.2s"
       ]
      },
      {
       "output_type": "stream",
       "stream": "stdout",
       "text": [
        "\n",
        "  2367  |    0.004255  |  \u001b[32m  0.006423\u001b[0m  |     0.662396  |             |  8.2s"
       ]
      },
      {
       "output_type": "stream",
       "stream": "stdout",
       "text": [
        "\n",
        "  2368  |  \u001b[94m  0.004159\u001b[0m  |    0.006431  |     0.646763  |             |  8.2s"
       ]
      },
      {
       "output_type": "stream",
       "stream": "stdout",
       "text": [
        "\n",
        "  2369  |    0.004222  |    0.006430  |     0.656486  |             |  8.2s"
       ]
      },
      {
       "output_type": "stream",
       "stream": "stdout",
       "text": [
        "\n",
        "  2370  |    0.004221  |    0.006467  |     0.652742  |             |  8.2s"
       ]
      },
      {
       "output_type": "stream",
       "stream": "stdout",
       "text": [
        "\n",
        "  2371  |    0.004171  |    0.006450  |     0.646721  |             |  8.2s"
       ]
      },
      {
       "output_type": "stream",
       "stream": "stdout",
       "text": [
        "\n",
        "  2372  |    0.004212  |    0.006478  |     0.650143  |             |  8.2s"
       ]
      },
      {
       "output_type": "stream",
       "stream": "stdout",
       "text": [
        "\n",
        "  2373  |    0.004258  |    0.006423  |     0.662958  |             |  8.2s"
       ]
      },
      {
       "output_type": "stream",
       "stream": "stdout",
       "text": [
        "\n",
        "  2374  |    0.004178  |    0.006444  |     0.648396  |             |  8.2s"
       ]
      },
      {
       "output_type": "stream",
       "stream": "stdout",
       "text": [
        "\n",
        "  2375  |    0.004227  |    0.006468  |     0.653581  |             |  8.2s"
       ]
      },
      {
       "output_type": "stream",
       "stream": "stdout",
       "text": [
        "\n",
        "  2376  |    0.004169  |    0.006440  |     0.647399  |             |  8.2s"
       ]
      },
      {
       "output_type": "stream",
       "stream": "stdout",
       "text": [
        "\n",
        "  2377  |    0.004212  |    0.006458  |     0.652181  |             |  8.2s"
       ]
      },
      {
       "output_type": "stream",
       "stream": "stdout",
       "text": [
        "\n",
        "  2378  |    0.004244  |    0.006453  |     0.657676  |             |  8.2s"
       ]
      },
      {
       "output_type": "stream",
       "stream": "stdout",
       "text": [
        "\n",
        "  2379  |    0.004169  |    0.006468  |     0.644673  |             |  8.2s"
       ]
      },
      {
       "output_type": "stream",
       "stream": "stdout",
       "text": [
        "\n",
        "  2380  |    0.004204  |    0.006467  |     0.650038  |             |  8.2s"
       ]
      },
      {
       "output_type": "stream",
       "stream": "stdout",
       "text": [
        "\n",
        "  2381  |    0.004163  |    0.006482  |     0.642224  |             |  8.2s"
       ]
      },
      {
       "output_type": "stream",
       "stream": "stdout",
       "text": [
        "\n",
        "  2382  |    0.004164  |    0.006469  |     0.643693  |             |  8.3s"
       ]
      },
      {
       "output_type": "stream",
       "stream": "stdout",
       "text": [
        "\n",
        "  2383  |    0.004248  |    0.006490  |     0.654639  |             |  8.4s"
       ]
      },
      {
       "output_type": "stream",
       "stream": "stdout",
       "text": [
        "\n",
        "  2384  |    0.004165  |    0.006476  |     0.643144  |             |  8.3s"
       ]
      },
      {
       "output_type": "stream",
       "stream": "stdout",
       "text": [
        "\n",
        "  2385  |    0.004172  |    0.006468  |     0.645011  |             |  8.3s"
       ]
      },
      {
       "output_type": "stream",
       "stream": "stdout",
       "text": [
        "\n",
        "  2386  |    0.004167  |    0.006470  |     0.643980  |             |  8.4s"
       ]
      },
      {
       "output_type": "stream",
       "stream": "stdout",
       "text": [
        "\n",
        "  2387  |  \u001b[94m  0.004150\u001b[0m  |  \u001b[32m  0.006418\u001b[0m  |     0.646588  |             |  8.4s"
       ]
      },
      {
       "output_type": "stream",
       "stream": "stdout",
       "text": [
        "\n",
        "  2388  |  \u001b[94m  0.004141\u001b[0m  |    0.006432  |     0.643731  |             |  8.3s"
       ]
      },
      {
       "output_type": "stream",
       "stream": "stdout",
       "text": [
        "\n",
        "  2389  |    0.004219  |    0.006444  |     0.654703  |             |  8.2s"
       ]
      },
      {
       "output_type": "stream",
       "stream": "stdout",
       "text": [
        "\n",
        "  2390  |    0.004212  |    0.006468  |     0.651190  |             |  8.2s"
       ]
      },
      {
       "output_type": "stream",
       "stream": "stdout",
       "text": [
        "\n",
        "  2391  |    0.004219  |    0.006485  |     0.650608  |             |  8.2s"
       ]
      },
      {
       "output_type": "stream",
       "stream": "stdout",
       "text": [
        "\n",
        "  2392  |    0.004166  |    0.006468  |     0.644180  |             |  8.2s"
       ]
      },
      {
       "output_type": "stream",
       "stream": "stdout",
       "text": [
        "\n",
        "  2393  |    0.004187  |    0.006467  |     0.647520  |             |  8.3s"
       ]
      },
      {
       "output_type": "stream",
       "stream": "stdout",
       "text": [
        "\n",
        "  2394  |  \u001b[94m  0.004134\u001b[0m  |    0.006463  |     0.639554  |             |  8.3s"
       ]
      },
      {
       "output_type": "stream",
       "stream": "stdout",
       "text": [
        "\n",
        "  2395  |  \u001b[94m  0.004122\u001b[0m  |    0.006481  |     0.635999  |             |  8.2s"
       ]
      },
      {
       "output_type": "stream",
       "stream": "stdout",
       "text": [
        "\n",
        "  2396  |    0.004154  |    0.006493  |     0.639780  |             |  8.3s"
       ]
      },
      {
       "output_type": "stream",
       "stream": "stdout",
       "text": [
        "\n",
        "  2397  |    0.004177  |    0.006459  |     0.646752  |             |  8.2s"
       ]
      },
      {
       "output_type": "stream",
       "stream": "stdout",
       "text": [
        "\n",
        "  2398  |    0.004146  |    0.006469  |     0.640942  |             |  8.2s"
       ]
      },
      {
       "output_type": "stream",
       "stream": "stdout",
       "text": [
        "\n",
        "  2399  |    0.004129  |    0.006479  |     0.637217  |             |  8.2s"
       ]
      },
      {
       "output_type": "stream",
       "stream": "stdout",
       "text": [
        "\n",
        "  2400  |    0.004157  |    0.006489  |     0.640588  |             |  8.2s"
       ]
      },
      {
       "output_type": "stream",
       "stream": "stdout",
       "text": [
        "\n",
        "  2401  |    0.004178  |    0.006486  |     0.644231  |             |  8.2s"
       ]
      },
      {
       "output_type": "stream",
       "stream": "stdout",
       "text": [
        "\n",
        "  2402  |    0.004220  |    0.006506  |     0.648614  |             |  8.2s"
       ]
      },
      {
       "output_type": "stream",
       "stream": "stdout",
       "text": [
        "\n",
        "  2403  |    0.004146  |    0.006482  |     0.639589  |             |  8.2s"
       ]
      },
      {
       "output_type": "stream",
       "stream": "stdout",
       "text": [
        "\n",
        "  2404  |    0.004138  |    0.006452  |     0.641358  |             |  8.2s"
       ]
      },
      {
       "output_type": "stream",
       "stream": "stdout",
       "text": [
        "\n",
        "  2405  |    0.004189  |    0.006501  |     0.644330  |             |  8.2s"
       ]
      },
      {
       "output_type": "stream",
       "stream": "stdout",
       "text": [
        "\n",
        "  2406  |    0.004208  |    0.006460  |     0.651351  |             |  8.3s"
       ]
      },
      {
       "output_type": "stream",
       "stream": "stdout",
       "text": [
        "\n",
        "  2407  |  \u001b[94m  0.004104\u001b[0m  |    0.006452  |     0.636102  |             |  8.2s"
       ]
      },
      {
       "output_type": "stream",
       "stream": "stdout",
       "text": [
        "\n",
        "  2408  |    0.004110  |    0.006428  |     0.639414  |             |  8.2s"
       ]
      },
      {
       "output_type": "stream",
       "stream": "stdout",
       "text": [
        "\n",
        "  2409  |  \u001b[94m  0.004102\u001b[0m  |    0.006445  |     0.636398  |             |  8.2s"
       ]
      },
      {
       "output_type": "stream",
       "stream": "stdout",
       "text": [
        "\n",
        "  2410  |    0.004178  |    0.006446  |     0.648149  |             |  8.2s"
       ]
      },
      {
       "output_type": "stream",
       "stream": "stdout",
       "text": [
        "\n",
        "  2411  |    0.004157  |    0.006502  |     0.639383  |             |  8.3s"
       ]
      },
      {
       "output_type": "stream",
       "stream": "stdout",
       "text": [
        "\n",
        "  2412  |    0.004168  |    0.006465  |     0.644642  |             |  8.2s"
       ]
      },
      {
       "output_type": "stream",
       "stream": "stdout",
       "text": [
        "\n",
        "  2413  |    0.004186  |    0.006438  |     0.650095  |             |  8.2s"
       ]
      },
      {
       "output_type": "stream",
       "stream": "stdout",
       "text": [
        "\n",
        "  2414  |    0.004172  |    0.006511  |     0.640651  |             |  8.3s"
       ]
      },
      {
       "output_type": "stream",
       "stream": "stdout",
       "text": [
        "\n",
        "  2415  |    0.004176  |    0.006481  |     0.644315  |             |  8.2s"
       ]
      },
      {
       "output_type": "stream",
       "stream": "stdout",
       "text": [
        "\n",
        "  2416  |    0.004192  |    0.006456  |     0.649267  |             |  8.2s"
       ]
      },
      {
       "output_type": "stream",
       "stream": "stdout",
       "text": [
        "\n",
        "  2417  |    0.004201  |    0.006487  |     0.647610  |             |  8.2s"
       ]
      },
      {
       "output_type": "stream",
       "stream": "stdout",
       "text": [
        "\n",
        "  2418  |    0.004171  |    0.006465  |     0.645267  |             |  8.2s"
       ]
      },
      {
       "output_type": "stream",
       "stream": "stdout",
       "text": [
        "\n",
        "  2419  |    0.004188  |    0.006459  |     0.648461  |             |  8.2s"
       ]
      },
      {
       "output_type": "stream",
       "stream": "stdout",
       "text": [
        "\n",
        "  2420  |    0.004128  |    0.006445  |     0.640518  |             |  8.2s"
       ]
      },
      {
       "output_type": "stream",
       "stream": "stdout",
       "text": [
        "\n",
        "  2421  |    0.004119  |    0.006476  |     0.635991  |             |  8.2s"
       ]
      },
      {
       "output_type": "stream",
       "stream": "stdout",
       "text": [
        "\n",
        "  2422  |    0.004170  |    0.006473  |     0.644203  |             |  8.2s"
       ]
      },
      {
       "output_type": "stream",
       "stream": "stdout",
       "text": [
        "\n",
        "  2423  |    0.004189  |    0.006507  |     0.643720  |             |  8.2s"
       ]
      },
      {
       "output_type": "stream",
       "stream": "stdout",
       "text": [
        "\n",
        "  2424  |    0.004202  |    0.006464  |     0.650021  |             |  8.2s"
       ]
      },
      {
       "output_type": "stream",
       "stream": "stdout",
       "text": [
        "\n",
        "  2425  |    0.004121  |    0.006482  |     0.635741  |             |  8.2s"
       ]
      },
      {
       "output_type": "stream",
       "stream": "stdout",
       "text": [
        "\n",
        "  2426  |    0.004174  |    0.006466  |     0.645504  |             |  8.2s"
       ]
      },
      {
       "output_type": "stream",
       "stream": "stdout",
       "text": [
        "\n",
        "  2427  |    0.004152  |    0.006478  |     0.640913  |             |  8.2s"
       ]
      },
      {
       "output_type": "stream",
       "stream": "stdout",
       "text": [
        "\n",
        "  2428  |    0.004126  |    0.006493  |     0.635445  |             |  8.2s"
       ]
      },
      {
       "output_type": "stream",
       "stream": "stdout",
       "text": [
        "\n",
        "  2429  |    0.004113  |    0.006469  |     0.635799  |             |  8.2s"
       ]
      },
      {
       "output_type": "stream",
       "stream": "stdout",
       "text": [
        "\n",
        "  2430  |    0.004111  |    0.006484  |     0.634011  |             |  8.2s"
       ]
      },
      {
       "output_type": "stream",
       "stream": "stdout",
       "text": [
        "\n",
        "  2431  |  \u001b[94m  0.004020\u001b[0m  |    0.006507  |     0.617808  |             |  8.2s"
       ]
      },
      {
       "output_type": "stream",
       "stream": "stdout",
       "text": [
        "\n",
        "  2432  |    0.004108  |    0.006468  |     0.635030  |             |  8.2s"
       ]
      },
      {
       "output_type": "stream",
       "stream": "stdout",
       "text": [
        "\n",
        "  2433  |    0.004081  |    0.006487  |     0.629165  |             |  8.3s"
       ]
      },
      {
       "output_type": "stream",
       "stream": "stdout",
       "text": [
        "\n",
        "  2434  |    0.004090  |    0.006453  |     0.633829  |             |  8.3s"
       ]
      },
      {
       "output_type": "stream",
       "stream": "stdout",
       "text": [
        "\n",
        "  2435  |    0.004132  |    0.006465  |     0.639149  |             |  8.4s"
       ]
      },
      {
       "output_type": "stream",
       "stream": "stdout",
       "text": [
        "\n",
        "  2436  |    0.004088  |    0.006474  |     0.631548  |             |  8.4s"
       ]
      },
      {
       "output_type": "stream",
       "stream": "stdout",
       "text": [
        "\n",
        "  2437  |    0.004122  |    0.006485  |     0.635598  |             |  8.4s"
       ]
      },
      {
       "output_type": "stream",
       "stream": "stdout",
       "text": [
        "\n",
        "  2438  |    0.004119  |    0.006469  |     0.636775  |             |  8.4s"
       ]
      },
      {
       "output_type": "stream",
       "stream": "stdout",
       "text": [
        "\n",
        "  2439  |    0.004124  |    0.006498  |     0.634675  |             |  8.4s"
       ]
      },
      {
       "output_type": "stream",
       "stream": "stdout",
       "text": [
        "\n",
        "  2440  |    0.004105  |    0.006450  |     0.636469  |             |  8.4s"
       ]
      },
      {
       "output_type": "stream",
       "stream": "stdout",
       "text": [
        "\n",
        "  2441  |    0.004192  |    0.006484  |     0.646485  |             |  8.4s"
       ]
      },
      {
       "output_type": "stream",
       "stream": "stdout",
       "text": [
        "\n",
        "  2442  |    0.004123  |    0.006467  |     0.637500  |             |  8.4s"
       ]
      },
      {
       "output_type": "stream",
       "stream": "stdout",
       "text": [
        "\n",
        "  2443  |    0.004097  |    0.006454  |     0.634779  |             |  8.4s"
       ]
      },
      {
       "output_type": "stream",
       "stream": "stdout",
       "text": [
        "\n",
        "  2444  |    0.004123  |    0.006469  |     0.637343  |             |  8.4s"
       ]
      },
      {
       "output_type": "stream",
       "stream": "stdout",
       "text": [
        "\n",
        "  2445  |    0.004119  |    0.006466  |     0.636981  |             |  8.4s"
       ]
      },
      {
       "output_type": "stream",
       "stream": "stdout",
       "text": [
        "\n",
        "  2446  |    0.004091  |    0.006457  |     0.633570  |             |  8.4s"
       ]
      },
      {
       "output_type": "stream",
       "stream": "stdout",
       "text": [
        "\n",
        "  2447  |    0.004168  |    0.006451  |     0.646063  |             |  8.4s"
       ]
      },
      {
       "output_type": "stream",
       "stream": "stdout",
       "text": [
        "\n",
        "  2448  |    0.004114  |    0.006451  |     0.637740  |             |  8.4s"
       ]
      },
      {
       "output_type": "stream",
       "stream": "stdout",
       "text": [
        "\n",
        "  2449  |    0.004172  |    0.006463  |     0.645518  |             |  8.4s"
       ]
      },
      {
       "output_type": "stream",
       "stream": "stdout",
       "text": [
        "\n",
        "  2450  |    0.004149  |    0.006430  |     0.645195  |             |  8.4s"
       ]
      },
      {
       "output_type": "stream",
       "stream": "stdout",
       "text": [
        "\n",
        "  2451  |    0.004123  |    0.006462  |     0.637985  |             |  8.4s"
       ]
      },
      {
       "output_type": "stream",
       "stream": "stdout",
       "text": [
        "\n",
        "  2452  |    0.004024  |    0.006453  |     0.623658  |             |  8.4s"
       ]
      },
      {
       "output_type": "stream",
       "stream": "stdout",
       "text": [
        "\n",
        "  2453  |    0.004151  |    0.006438  |     0.644802  |             |  8.4s"
       ]
      },
      {
       "output_type": "stream",
       "stream": "stdout",
       "text": [
        "\n",
        "  2454  |    0.004107  |    0.006423  |     0.639463  |             |  8.4s"
       ]
      },
      {
       "output_type": "stream",
       "stream": "stdout",
       "text": [
        "\n",
        "  2455  |    0.004062  |    0.006441  |     0.630576  |             |  8.4s"
       ]
      },
      {
       "output_type": "stream",
       "stream": "stdout",
       "text": [
        "\n",
        "  2456  |    0.004038  |    0.006445  |     0.626577  |             |  8.4s"
       ]
      },
      {
       "output_type": "stream",
       "stream": "stdout",
       "text": [
        "\n",
        "  2457  |    0.004075  |    0.006475  |     0.629347  |             |  8.4s"
       ]
      },
      {
       "output_type": "stream",
       "stream": "stdout",
       "text": [
        "\n",
        "  2458  |    0.004105  |    0.006466  |     0.634848  |             |  8.4s"
       ]
      },
      {
       "output_type": "stream",
       "stream": "stdout",
       "text": [
        "\n",
        "  2459  |    0.004085  |    0.006482  |     0.630291  |             |  8.4s"
       ]
      },
      {
       "output_type": "stream",
       "stream": "stdout",
       "text": [
        "\n",
        "  2460  |    0.004084  |    0.006432  |     0.635008  |             |  8.4s"
       ]
      },
      {
       "output_type": "stream",
       "stream": "stdout",
       "text": [
        "\n",
        "  2461  |    0.004121  |    0.006485  |     0.635527  |             |  8.4s"
       ]
      },
      {
       "output_type": "stream",
       "stream": "stdout",
       "text": [
        "\n",
        "  2462  |    0.004098  |    0.006496  |     0.630795  |             |  8.3s"
       ]
      },
      {
       "output_type": "stream",
       "stream": "stdout",
       "text": [
        "\n",
        "  2463  |    0.004154  |    0.006474  |     0.641708  |             |  8.3s"
       ]
      },
      {
       "output_type": "stream",
       "stream": "stdout",
       "text": [
        "\n",
        "  2464  |    0.004052  |    0.006471  |     0.626126  |             |  8.3s"
       ]
      },
      {
       "output_type": "stream",
       "stream": "stdout",
       "text": [
        "\n",
        "  2465  |    0.004074  |    0.006441  |     0.632487  |             |  8.3s"
       ]
      },
      {
       "output_type": "stream",
       "stream": "stdout",
       "text": [
        "\n",
        "  2466  |    0.004080  |    0.006459  |     0.631695  |             |  8.3s"
       ]
      },
      {
       "output_type": "stream",
       "stream": "stdout",
       "text": [
        "\n",
        "  2467  |    0.004069  |    0.006443  |     0.631556  |             |  8.2s"
       ]
      },
      {
       "output_type": "stream",
       "stream": "stdout",
       "text": [
        "\n",
        "  2468  |    0.004097  |    0.006479  |     0.632398  |             |  8.3s"
       ]
      },
      {
       "output_type": "stream",
       "stream": "stdout",
       "text": [
        "\n",
        "  2469  |    0.004068  |    0.006471  |     0.628725  |             |  8.4s"
       ]
      },
      {
       "output_type": "stream",
       "stream": "stdout",
       "text": [
        "\n",
        "  2470  |    0.004128  |    0.006443  |     0.640572  |             |  8.3s"
       ]
      },
      {
       "output_type": "stream",
       "stream": "stdout",
       "text": [
        "\n",
        "  2471  |    0.004110  |    0.006445  |     0.637679  |             |  8.3s"
       ]
      },
      {
       "output_type": "stream",
       "stream": "stdout",
       "text": [
        "\n",
        "  2472  |    0.004079  |    0.006458  |     0.631610  |             |  8.4s"
       ]
      },
      {
       "output_type": "stream",
       "stream": "stdout",
       "text": [
        "\n",
        "  2473  |    0.004097  |    0.006471  |     0.633066  |             |  8.4s"
       ]
      },
      {
       "output_type": "stream",
       "stream": "stdout",
       "text": [
        "\n",
        "  2474  |    0.004179  |    0.006437  |     0.649141  |             |  8.3s"
       ]
      },
      {
       "output_type": "stream",
       "stream": "stdout",
       "text": [
        "\n",
        "  2475  |    0.004094  |    0.006468  |     0.633018  |             |  8.3s"
       ]
      },
      {
       "output_type": "stream",
       "stream": "stdout",
       "text": [
        "\n",
        "  2476  |    0.004085  |    0.006456  |     0.632778  |             |  8.4s"
       ]
      },
      {
       "output_type": "stream",
       "stream": "stdout",
       "text": [
        "\n",
        "  2477  |    0.004059  |    0.006463  |     0.628028  |             |  8.4s"
       ]
      },
      {
       "output_type": "stream",
       "stream": "stdout",
       "text": [
        "\n",
        "  2478  |    0.004129  |    0.006474  |     0.637700  |             |  8.4s"
       ]
      },
      {
       "output_type": "stream",
       "stream": "stdout",
       "text": [
        "\n",
        "  2479  |    0.004111  |    0.006461  |     0.636361  |             |  8.4s"
       ]
      },
      {
       "output_type": "stream",
       "stream": "stdout",
       "text": [
        "\n",
        "  2480  |    0.004043  |    0.006474  |     0.624586  |             |  8.3s"
       ]
      },
      {
       "output_type": "stream",
       "stream": "stdout",
       "text": [
        "\n",
        "  2481  |    0.004059  |    0.006462  |     0.628142  |             |  8.4s"
       ]
      },
      {
       "output_type": "stream",
       "stream": "stdout",
       "text": [
        "\n",
        "  2482  |    0.004087  |    0.006459  |     0.632861  |             |  8.4s"
       ]
      },
      {
       "output_type": "stream",
       "stream": "stdout",
       "text": [
        "\n",
        "  2483  |    0.004110  |    0.006462  |     0.636046  |             |  8.3s"
       ]
      },
      {
       "output_type": "stream",
       "stream": "stdout",
       "text": [
        "\n",
        "  2484  |    0.004046  |    0.006469  |     0.625484  |             |  8.2s"
       ]
      },
      {
       "output_type": "stream",
       "stream": "stdout",
       "text": [
        "\n",
        "  2485  |    0.004110  |    0.006488  |     0.633507  |             |  8.2s"
       ]
      },
      {
       "output_type": "stream",
       "stream": "stdout",
       "text": [
        "\n",
        "  2486  |    0.004039  |    0.006504  |     0.621016  |             |  8.2s"
       ]
      },
      {
       "output_type": "stream",
       "stream": "stdout",
       "text": [
        "\n",
        "  2487  |    0.004050  |    0.006459  |     0.627011  |             |  8.2s"
       ]
      },
      {
       "output_type": "stream",
       "stream": "stdout",
       "text": [
        "\n",
        "  2488  |    0.004087  |    0.006488  |     0.629900  |             |  8.3s"
       ]
      },
      {
       "output_type": "stream",
       "stream": "stdout",
       "text": [
        "\n",
        "  2489  |    0.004040  |    0.006461  |     0.625361  |             |  8.4s"
       ]
      },
      {
       "output_type": "stream",
       "stream": "stdout",
       "text": [
        "\n",
        "  2490  |    0.004112  |    0.006458  |     0.636737  |             |  8.4s"
       ]
      },
      {
       "output_type": "stream",
       "stream": "stdout",
       "text": [
        "\n",
        "  2491  |    0.004097  |    0.006472  |     0.633027  |             |  8.4s"
       ]
      },
      {
       "output_type": "stream",
       "stream": "stdout",
       "text": [
        "\n",
        "  2492  |    0.004063  |    0.006505  |     0.624550  |             |  8.4s"
       ]
      },
      {
       "output_type": "stream",
       "stream": "stdout",
       "text": [
        "\n",
        "  2493  |    0.004038  |    0.006466  |     0.624445  |             |  8.5s"
       ]
      },
      {
       "output_type": "stream",
       "stream": "stdout",
       "text": [
        "\n",
        "  2494  |    0.004061  |    0.006451  |     0.629577  |             |  8.4s"
       ]
      },
      {
       "output_type": "stream",
       "stream": "stdout",
       "text": [
        "\n",
        "  2495  |    0.004040  |    0.006473  |     0.624160  |             |  8.4s"
       ]
      },
      {
       "output_type": "stream",
       "stream": "stdout",
       "text": [
        "\n",
        "  2496  |    0.004039  |    0.006463  |     0.624964  |             |  8.4s"
       ]
      },
      {
       "output_type": "stream",
       "stream": "stdout",
       "text": [
        "\n",
        "  2497  |  \u001b[94m  0.004017\u001b[0m  |    0.006448  |     0.623037  |             |  8.4s"
       ]
      },
      {
       "output_type": "stream",
       "stream": "stdout",
       "text": [
        "\n",
        "  2498  |  \u001b[94m  0.003981\u001b[0m  |    0.006464  |     0.615965  |             |  8.4s"
       ]
      },
      {
       "output_type": "stream",
       "stream": "stdout",
       "text": [
        "\n",
        "  2499  |    0.004087  |    0.006439  |     0.634662  |             |  8.4s"
       ]
      },
      {
       "output_type": "stream",
       "stream": "stdout",
       "text": [
        "\n",
        "  2500  |    0.004055  |    0.006452  |     0.628452  |             |  8.4s"
       ]
      },
      {
       "output_type": "stream",
       "stream": "stdout",
       "text": [
        "\n",
        "  2501  |    0.004074  |    0.006446  |     0.631964  |             |  8.4s"
       ]
      },
      {
       "output_type": "stream",
       "stream": "stdout",
       "text": [
        "\n",
        "  2502  |    0.004010  |    0.006442  |     0.622505  |             |  8.4s"
       ]
      },
      {
       "output_type": "stream",
       "stream": "stdout",
       "text": [
        "\n",
        "  2503  |    0.004036  |    0.006439  |     0.626801  |             |  8.4s"
       ]
      },
      {
       "output_type": "stream",
       "stream": "stdout",
       "text": [
        "\n",
        "  2504  |    0.004041  |    0.006455  |     0.626115  |             |  8.3s"
       ]
      },
      {
       "output_type": "stream",
       "stream": "stdout",
       "text": [
        "\n",
        "  2505  |    0.004092  |    0.006431  |     0.636283  |             |  8.4s"
       ]
      },
      {
       "output_type": "stream",
       "stream": "stdout",
       "text": [
        "\n",
        "  2506  |    0.003988  |    0.006476  |     0.615752  |             |  8.4s"
       ]
      },
      {
       "output_type": "stream",
       "stream": "stdout",
       "text": [
        "\n",
        "  2507  |    0.003983  |    0.006437  |     0.618817  |             |  8.4s"
       ]
      },
      {
       "output_type": "stream",
       "stream": "stdout",
       "text": [
        "\n",
        "  2508  |    0.004025  |    0.006472  |     0.621947  |             |  8.4s"
       ]
      },
      {
       "output_type": "stream",
       "stream": "stdout",
       "text": [
        "\n",
        "  2509  |    0.004038  |    0.006456  |     0.625532  |             |  8.4s"
       ]
      },
      {
       "output_type": "stream",
       "stream": "stdout",
       "text": [
        "\n",
        "  2510  |    0.004039  |    0.006474  |     0.623826  |             |  8.4s"
       ]
      },
      {
       "output_type": "stream",
       "stream": "stdout",
       "text": [
        "\n",
        "  2511  |    0.004065  |    0.006474  |     0.627854  |             |  8.3s"
       ]
      },
      {
       "output_type": "stream",
       "stream": "stdout",
       "text": [
        "\n",
        "  2512  |    0.004023  |    0.006463  |     0.622441  |             |  8.3s"
       ]
      },
      {
       "output_type": "stream",
       "stream": "stdout",
       "text": [
        "\n",
        "  2513  |    0.004046  |    0.006436  |     0.628736  |             |  8.4s"
       ]
      },
      {
       "output_type": "stream",
       "stream": "stdout",
       "text": [
        "\n",
        "  2514  |    0.004047  |    0.006462  |     0.626314  |             |  8.4s"
       ]
      },
      {
       "output_type": "stream",
       "stream": "stdout",
       "text": [
        "\n",
        "  2515  |    0.004122  |    0.006457  |     0.638292  |             |  8.4s"
       ]
      },
      {
       "output_type": "stream",
       "stream": "stdout",
       "text": [
        "\n",
        "  2516  |    0.003990  |    0.006453  |     0.618383  |             |  8.3s"
       ]
      },
      {
       "output_type": "stream",
       "stream": "stdout",
       "text": [
        "\n",
        "  2517  |    0.004044  |    0.006468  |     0.625207  |             |  8.4s"
       ]
      },
      {
       "output_type": "stream",
       "stream": "stdout",
       "text": [
        "\n",
        "  2518  |    0.004005  |    0.006436  |     0.622282  |             |  8.4s"
       ]
      },
      {
       "output_type": "stream",
       "stream": "stdout",
       "text": [
        "\n",
        "  2519  |    0.004009  |    0.006457  |     0.620923  |             |  8.3s"
       ]
      },
      {
       "output_type": "stream",
       "stream": "stdout",
       "text": [
        "\n",
        "  2520  |    0.004061  |    0.006440  |     0.630557  |             |  8.3s"
       ]
      },
      {
       "output_type": "stream",
       "stream": "stdout",
       "text": [
        "\n",
        "  2521  |    0.004063  |  \u001b[32m  0.006412\u001b[0m  |     0.633726  |             |  8.4s"
       ]
      },
      {
       "output_type": "stream",
       "stream": "stdout",
       "text": [
        "\n",
        "  2522  |    0.004088  |    0.006453  |     0.633578  |             |  8.4s"
       ]
      },
      {
       "output_type": "stream",
       "stream": "stdout",
       "text": [
        "\n",
        "  2523  |    0.003992  |    0.006444  |     0.619532  |             |  8.4s"
       ]
      },
      {
       "output_type": "stream",
       "stream": "stdout",
       "text": [
        "\n",
        "  2524  |    0.003982  |    0.006423  |     0.619935  |             |  8.3s"
       ]
      },
      {
       "output_type": "stream",
       "stream": "stdout",
       "text": [
        "\n",
        "  2525  |    0.004037  |    0.006431  |     0.627829  |             |  8.4s"
       ]
      },
      {
       "output_type": "stream",
       "stream": "stdout",
       "text": [
        "\n",
        "  2526  |    0.003995  |    0.006432  |     0.621116  |             |  8.4s"
       ]
      },
      {
       "output_type": "stream",
       "stream": "stdout",
       "text": [
        "\n",
        "  2527  |    0.004045  |    0.006453  |     0.626868  |             |  8.4s"
       ]
      },
      {
       "output_type": "stream",
       "stream": "stdout",
       "text": [
        "\n",
        "  2528  |    0.004047  |    0.006470  |     0.625550  |             |  8.4s"
       ]
      },
      {
       "output_type": "stream",
       "stream": "stdout",
       "text": [
        "\n",
        "  2529  |  \u001b[94m  0.003969\u001b[0m  |    0.006447  |     0.615562  |             |  8.4s"
       ]
      },
      {
       "output_type": "stream",
       "stream": "stdout",
       "text": [
        "\n",
        "  2530  |    0.003996  |    0.006457  |     0.618914  |             |  8.4s"
       ]
      },
      {
       "output_type": "stream",
       "stream": "stdout",
       "text": [
        "\n",
        "  2531  |    0.004008  |    0.006448  |     0.621541  |             |  8.4s"
       ]
      },
      {
       "output_type": "stream",
       "stream": "stdout",
       "text": [
        "\n",
        "  2532  |    0.004008  |    0.006441  |     0.622269  |             |  8.4s"
       ]
      },
      {
       "output_type": "stream",
       "stream": "stdout",
       "text": [
        "\n",
        "  2533  |    0.004007  |    0.006452  |     0.621134  |             |  8.4s"
       ]
      },
      {
       "output_type": "stream",
       "stream": "stdout",
       "text": [
        "\n",
        "  2534  |    0.004024  |    0.006464  |     0.622499  |             |  8.4s"
       ]
      },
      {
       "output_type": "stream",
       "stream": "stdout",
       "text": [
        "\n",
        "  2535  |    0.003988  |    0.006459  |     0.617456  |             |  8.4s"
       ]
      },
      {
       "output_type": "stream",
       "stream": "stdout",
       "text": [
        "\n",
        "  2536  |    0.004001  |    0.006453  |     0.619970  |             |  8.4s"
       ]
      },
      {
       "output_type": "stream",
       "stream": "stdout",
       "text": [
        "\n",
        "  2537  |  \u001b[94m  0.003945\u001b[0m  |    0.006465  |     0.610280  |             |  8.5s"
       ]
      },
      {
       "output_type": "stream",
       "stream": "stdout",
       "text": [
        "\n",
        "  2538  |    0.004034  |    0.006463  |     0.624126  |             |  8.4s"
       ]
      },
      {
       "output_type": "stream",
       "stream": "stdout",
       "text": [
        "\n",
        "  2539  |    0.003984  |    0.006475  |     0.615338  |             |  8.4s"
       ]
      },
      {
       "output_type": "stream",
       "stream": "stdout",
       "text": [
        "\n",
        "  2540  |    0.004025  |    0.006442  |     0.624748  |             |  8.4s"
       ]
      },
      {
       "output_type": "stream",
       "stream": "stdout",
       "text": [
        "\n",
        "  2541  |    0.003997  |    0.006438  |     0.620894  |             |  8.4s"
       ]
      },
      {
       "output_type": "stream",
       "stream": "stdout",
       "text": [
        "\n",
        "  2542  |    0.003979  |    0.006468  |     0.615087  |             |  8.4s"
       ]
      },
      {
       "output_type": "stream",
       "stream": "stdout",
       "text": [
        "\n",
        "  2543  |    0.004010  |    0.006510  |     0.615890  |             |  8.4s"
       ]
      },
      {
       "output_type": "stream",
       "stream": "stdout",
       "text": [
        "\n",
        "  2544  |    0.003955  |    0.006463  |     0.611944  |             |  8.4s"
       ]
      },
      {
       "output_type": "stream",
       "stream": "stdout",
       "text": [
        "\n",
        "  2545  |    0.004040  |    0.006466  |     0.624795  |             |  8.4s"
       ]
      },
      {
       "output_type": "stream",
       "stream": "stdout",
       "text": [
        "\n",
        "  2546  |    0.003960  |  \u001b[32m  0.006408\u001b[0m  |     0.617984  |             |  8.4s"
       ]
      },
      {
       "output_type": "stream",
       "stream": "stdout",
       "text": [
        "\n",
        "  2547  |    0.003946  |    0.006453  |     0.611498  |             |  8.4s"
       ]
      },
      {
       "output_type": "stream",
       "stream": "stdout",
       "text": [
        "\n",
        "  2548  |    0.003958  |    0.006445  |     0.614085  |             |  8.4s"
       ]
      },
      {
       "output_type": "stream",
       "stream": "stdout",
       "text": [
        "\n",
        "  2549  |  \u001b[94m  0.003908\u001b[0m  |    0.006439  |     0.606971  |             |  8.4s"
       ]
      },
      {
       "output_type": "stream",
       "stream": "stdout",
       "text": [
        "\n",
        "  2550  |    0.004017  |    0.006447  |     0.623042  |             |  8.4s"
       ]
      },
      {
       "output_type": "stream",
       "stream": "stdout",
       "text": [
        "\n",
        "  2551  |    0.003923  |    0.006447  |     0.608450  |             |  8.4s"
       ]
      },
      {
       "output_type": "stream",
       "stream": "stdout",
       "text": [
        "\n",
        "  2552  |    0.004017  |    0.006448  |     0.622928  |             |  8.4s"
       ]
      },
      {
       "output_type": "stream",
       "stream": "stdout",
       "text": [
        "\n",
        "  2553  |    0.003961  |    0.006472  |     0.612080  |             |  8.4s"
       ]
      },
      {
       "output_type": "stream",
       "stream": "stdout",
       "text": [
        "\n",
        "  2554  |    0.003981  |    0.006461  |     0.616190  |             |  8.4s"
       ]
      },
      {
       "output_type": "stream",
       "stream": "stdout",
       "text": [
        "\n",
        "  2555  |    0.003943  |    0.006426  |     0.613607  |             |  8.3s"
       ]
      },
      {
       "output_type": "stream",
       "stream": "stdout",
       "text": [
        "\n",
        "  2556  |    0.004017  |    0.006464  |     0.621510  |             |  8.2s"
       ]
      },
      {
       "output_type": "stream",
       "stream": "stdout",
       "text": [
        "\n",
        "  2557  |    0.004021  |    0.006441  |     0.624348  |             |  8.3s"
       ]
      },
      {
       "output_type": "stream",
       "stream": "stdout",
       "text": [
        "\n",
        "  2558  |    0.003938  |    0.006467  |     0.608956  |             |  8.4s"
       ]
      }
     ],
     "prompt_number": "*"
    },
    {
     "cell_type": "code",
     "collapsed": false,
     "input": [
      "train_loss_6 = np.array([i[\"train_loss\"] for i in net7.train_history_])\n",
      "valid_loss_6 = np.array([i[\"valid_loss\"] for i in net7.train_history_])\n",
      "pyplot.plot(train_loss_6, linewidth=3, label=\"train\")\n",
      "pyplot.plot(valid_loss_6, linewidth=3, label=\"valid\")\n",
      "pyplot.grid()\n",
      "pyplot.legend()\n",
      "pyplot.xlabel(\"epoch\")\n",
      "pyplot.ylabel(\"loss\")\n",
      "pyplot.ylim(0.1e-2, 3.2e-2)\n",
      "# pyplot.yscale(\"log\")\n",
      "pyplot.show()"
     ],
     "language": "python",
     "metadata": {},
     "outputs": [],
     "prompt_number": "*"
    },
    {
     "cell_type": "markdown",
     "metadata": {},
     "source": [
      "# start from here!!!!!!!!!!!!!!!!!!!!!\n",
      "\n",
      "## load model from Lasagne_6th_drop_change_extend.pickle extend with test1 answer"
     ]
    },
    {
     "cell_type": "code",
     "collapsed": false,
     "input": [
      "# import cPickle as pickle\n",
      "# with open('./Lasagne_5th_try_drop_change.pickle', 'rb') as f:\n",
      "#     net7 = pickle.load(f)\n"
     ],
     "language": "python",
     "metadata": {},
     "outputs": []
    },
    {
     "cell_type": "code",
     "collapsed": false,
     "input": [
      "# from sklearn.base import clone\n",
      "# model2 = clone(net7)\n",
      "# model2.load_weights_from(model)"
     ],
     "language": "python",
     "metadata": {},
     "outputs": []
    },
    {
     "cell_type": "code",
     "collapsed": false,
     "input": [
      "# model"
     ],
     "language": "python",
     "metadata": {},
     "outputs": []
    },
    {
     "cell_type": "code",
     "collapsed": false,
     "input": [
      "# net7.dropout1_p = 0.2\n",
      "# net7.dropout2_p = 0.3\n",
      "# net7.dropout3_p = 0.4\n",
      "# net7.max_epochs = 2500"
     ],
     "language": "python",
     "metadata": {},
     "outputs": []
    },
    {
     "cell_type": "code",
     "collapsed": false,
     "input": [
      "# import sys\n",
      "# sys.setrecursionlimit(10000)\n",
      "\n",
      "# X_6, y_6 = transform_6(x, y)\n",
      "# %time net7.fit(X_6, y_6)\n",
      "\n",
      "# import cPickle as pickle\n",
      "# with open('Lasagne_7th_test1_0.pickle', 'wb') as f:\n",
      "#     pickle.dump(net7, f, -1)"
     ],
     "language": "python",
     "metadata": {},
     "outputs": []
    },
    {
     "cell_type": "code",
     "collapsed": false,
     "input": [
      "# train_loss_6 = np.array([i[\"train_loss\"] for i in net7.train_history_])\n",
      "# valid_loss_6 = np.array([i[\"valid_loss\"] for i in net7.train_history_])\n",
      "# pyplot.plot(train_loss_6, linewidth=3, label=\"train\")\n",
      "# pyplot.plot(valid_loss_6, linewidth=3, label=\"valid\")\n",
      "# pyplot.grid()\n",
      "# pyplot.legend()\n",
      "# pyplot.xlabel(\"epoch\")\n",
      "# pyplot.ylabel(\"loss\")\n",
      "# pyplot.ylim(0.1e-2, 3.2e-2)\n",
      "# # pyplot.yscale(\"log\")\n",
      "# pyplot.show()"
     ],
     "language": "python",
     "metadata": {},
     "outputs": []
    },
    {
     "cell_type": "code",
     "collapsed": false,
     "input": [
      "# from sklearn import metrics\n",
      "\n",
      "# Xt_6, yt_6 = transform_6(X_test, y_test)\n",
      "\n",
      "# # overfit result, should use validation result\n",
      "# y_pred = net7.predict(Xt_6)\n",
      "# # print y_pred[1]\n",
      "# # np.argmax(y_pred[i]),np.argmax(y[i])\n",
      "# y_pred = np.array(map((lambda x: np.argmax(x)), y_pred))\n",
      "# yyy = np.array(map((lambda x: np.argmax(x)), yt_6))\n",
      "\n",
      "# print metrics.classification_report((yyy), (y_pred))"
     ],
     "language": "python",
     "metadata": {},
     "outputs": []
    },
    {
     "cell_type": "markdown",
     "metadata": {},
     "source": [
      "## load model"
     ]
    },
    {
     "cell_type": "code",
     "collapsed": false,
     "input": [
      "# import cPickle as pickle\n",
      "\n",
      "# with open('./Lasagne_2nd.pickle', 'rb') as f:\n",
      "#     specialists = pickle.load(f)\n"
     ],
     "language": "python",
     "metadata": {},
     "outputs": []
    },
    {
     "cell_type": "markdown",
     "metadata": {},
     "source": [
      "## submit test data "
     ]
    },
    {
     "cell_type": "code",
     "collapsed": false,
     "input": [
      "import pandas as pd\n",
      "\n",
      "xx_test, yy_test = load_svmlight_file(\"./phase1/new/aug_test2_50.dat\")"
     ],
     "language": "python",
     "metadata": {},
     "outputs": [],
     "prompt_number": "*"
    },
    {
     "cell_type": "code",
     "collapsed": false,
     "input": [
      "xx_test.shape"
     ],
     "language": "python",
     "metadata": {},
     "outputs": [],
     "prompt_number": "*"
    },
    {
     "cell_type": "code",
     "collapsed": false,
     "input": [
      "xx_test = np.array(xx_test.todense()).reshape(-1,)\n",
      "# xx_train = xx_train.dtype(np.float32)\n",
      "xx_test = np.float32(xx_test)\n",
      "xx_test = xx_test.reshape(7472,2500)\n",
      "\n",
      "xx_test = xx_test.astype(np.float32)\n",
      "\n",
      "def one_hot(x,n):\n",
      "    if type(x) == list:\n",
      "            x = np.array(x)\n",
      "    x = x.flatten()\n",
      "    o_h = np.zeros((len(x),n))\n",
      "    o_h[np.arange(len(x)),x] = 1\n",
      "    return o_h\n",
      "\n",
      "yy_test = yy_test.astype(int32)    \n",
      "yy_test = one_hot(yy_test, 32)\n",
      "yy_test = yy_test.astype(np.float32)\n",
      "\n",
      "Xt, yt = transform_6(xx_test, yy_test)\n",
      "result = net7.predict(Xt)\n",
      "result = np.array(map((lambda x: np.argmax(x)), result))\n",
      "result.astype(int)"
     ],
     "language": "python",
     "metadata": {},
     "outputs": [],
     "prompt_number": "*"
    },
    {
     "cell_type": "code",
     "collapsed": false,
     "input": [
      "df_submission = pd.DataFrame( result.astype(int) ,columns=None)\n",
      "\n",
      "df_submission.to_csv('./Lasagne_9th_all.dat', index=None)"
     ],
     "language": "python",
     "metadata": {},
     "outputs": [],
     "prompt_number": "*"
    }
   ],
   "metadata": {}
  }
 ]
}