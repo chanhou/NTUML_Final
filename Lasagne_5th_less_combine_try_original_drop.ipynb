{
 "metadata": {
  "name": ""
 },
 "nbformat": 3,
 "nbformat_minor": 0,
 "worksheets": [
  {
   "cells": [
    {
     "cell_type": "markdown",
     "metadata": {},
     "source": [
      "## Lasagne code try and edit"
     ]
    },
    {
     "cell_type": "markdown",
     "metadata": {},
     "source": [
      "## input our data"
     ]
    },
    {
     "cell_type": "code",
     "collapsed": false,
     "input": [
      "import numpy as np\n",
      "import math\n",
      "import scipy.linalg as sp\n",
      "from sklearn.datasets import load_svmlight_file"
     ],
     "language": "python",
     "metadata": {},
     "outputs": [],
     "prompt_number": 1
    },
    {
     "cell_type": "code",
     "collapsed": false,
     "input": [
      "xx_train, y = load_svmlight_file(\"./phase1/aug_train_50_combine_less.dat\")\n",
      "# print type(xx_train)\n",
      "print xx_train.shape\n",
      "xx_train = np.array(xx_train.todense()).reshape(-1,)\n",
      "# xx_train = xx_train.dtype(np.float32)\n",
      "xx_train = np.float32(xx_train)\n",
      "xx_train = xx_train.reshape(16464,2500)\n",
      "# print xx_train.shape\n",
      "print type(xx_train)"
     ],
     "language": "python",
     "metadata": {},
     "outputs": [
      {
       "output_type": "stream",
       "stream": "stdout",
       "text": [
        "(16464, 2500)\n",
        "<type 'numpy.ndarray'>"
       ]
      },
      {
       "output_type": "stream",
       "stream": "stdout",
       "text": [
        "\n"
       ]
      }
     ],
     "prompt_number": 3
    },
    {
     "cell_type": "code",
     "collapsed": false,
     "input": [
      "sizee = 50"
     ],
     "language": "python",
     "metadata": {},
     "outputs": [],
     "prompt_number": 4
    },
    {
     "cell_type": "code",
     "collapsed": false,
     "input": [
      "# pylab.ion()\n",
      "# pylab.imshow(xxxx[0],cmap=cm.gray)\n",
      "x = xx_train.reshape(16464,sizee**2)\n",
      "x = x.astype(np.float32)\n",
      "\n",
      "print x.shape\n",
      "print type(x)"
     ],
     "language": "python",
     "metadata": {},
     "outputs": [
      {
       "output_type": "stream",
       "stream": "stdout",
       "text": [
        "(16464, 2500)\n",
        "<type 'numpy.ndarray'>\n"
       ]
      }
     ],
     "prompt_number": 5
    },
    {
     "cell_type": "code",
     "collapsed": false,
     "input": [
      "def one_hot(x,n):\n",
      "    if type(x) == list:\n",
      "            x = np.array(x)\n",
      "    x = x.flatten()\n",
      "    o_h = np.zeros((len(x),n))\n",
      "    o_h[np.arange(len(x)),x] = 1\n",
      "    return o_h\n",
      "\n",
      "y = y.astype(int32)    \n",
      "y = one_hot(y, 32)\n",
      "y = y.astype(np.float32)\n",
      "\n",
      "print y.shape"
     ],
     "language": "python",
     "metadata": {},
     "outputs": [
      {
       "output_type": "stream",
       "stream": "stdout",
       "text": [
        "(16464, 32)\n"
       ]
      }
     ],
     "prompt_number": 6
    },
    {
     "cell_type": "markdown",
     "metadata": {},
     "source": [
      "## split data"
     ]
    },
    {
     "cell_type": "code",
     "collapsed": false,
     "input": [
      "from sklearn import cross_validation as cv\n",
      "from sklearn import svm\n",
      "from sklearn import metrics\n",
      "from sklearn import grid_search as gs"
     ],
     "language": "python",
     "metadata": {},
     "outputs": [],
     "prompt_number": 7
    },
    {
     "cell_type": "code",
     "collapsed": false,
     "input": [
      "X_train, X_test, y_train, y_test = cv.train_test_split(x, y, test_size=0.2)"
     ],
     "language": "python",
     "metadata": {},
     "outputs": [],
     "prompt_number": 10
    },
    {
     "cell_type": "code",
     "collapsed": false,
     "input": [
      "print X_train.shape\n",
      "print X_test.shape\n",
      "print y_train.shape\n",
      "print y_test.shape"
     ],
     "language": "python",
     "metadata": {},
     "outputs": [
      {
       "output_type": "stream",
       "stream": "stdout",
       "text": [
        "(13171, 2500)\n",
        "(3293, 2500)\n",
        "(13171, 32)\n",
        "(3293, 32)\n"
       ]
      }
     ],
     "prompt_number": 11
    },
    {
     "cell_type": "markdown",
     "metadata": {},
     "source": [
      "## First model of Lasagne with single hidden layer"
     ]
    },
    {
     "cell_type": "code",
     "collapsed": false,
     "input": [
      "# add to kfkd.py\n",
      "from lasagne import layers\n",
      "from lasagne.updates import nesterov_momentum\n",
      "from nolearn.lasagne import NeuralNet\n",
      "\n",
      "net1 = NeuralNet(\n",
      "    layers=[  # three layers: one hidden layer\n",
      "        ('input', layers.InputLayer),\n",
      "        ('hidden', layers.DenseLayer),\n",
      "        ('output', layers.DenseLayer),\n",
      "        ],\n",
      "    # layer parameters:\n",
      "    input_shape=(128, 2500),  # 128 images per batch times 100x100 input pixels\n",
      "    hidden_num_units=300,  # number of units in hidden layer\n",
      "    output_nonlinearity=None,  # output layer uses identity function\n",
      "    output_num_units=32,  # 30 target values\n",
      "\n",
      "    # optimization method:\n",
      "    upate=nesterov_momentum,\n",
      "    update_learning_rate=0.01,\n",
      "    update_momentum=0.9,\n",
      "\n",
      "    # regression=False,  # flag to indicate we're dealing with regression problem\n",
      "    regression=True,  # flag to indicate we're dealing with regression problem\n",
      "    max_epochs=1000,  # we want to train this many epochs\n",
      "    verbose=1,\n",
      "    )\n"
     ],
     "language": "python",
     "metadata": {},
     "outputs": [
      {
       "output_type": "stream",
       "stream": "stderr",
       "text": [
        "Using gpu device 0: GRID K520\n"
       ]
      }
     ],
     "prompt_number": 12
    },
    {
     "cell_type": "code",
     "collapsed": false,
     "input": [
      "%time net1.fit(X_train, y_train)"
     ],
     "language": "python",
     "metadata": {},
     "outputs": [
      {
       "output_type": "stream",
       "stream": "stdout",
       "text": [
        "  InputLayer        \t(128, 2500)         \tproduces    2500 outputs\n",
        "  DenseLayer        \t(128, 300)          \tproduces     300 outputs\n",
        "  DenseLayer        \t(128, 32)           \tproduces      32 outputs\n",
        "\n",
        " Epoch  |  Train loss  |  Valid loss  |  Train / Val  |  Valid acc  |  Dur\n",
        "--------|--------------|--------------|---------------|-------------|-------"
       ]
      },
      {
       "output_type": "stream",
       "stream": "stdout",
       "text": [
        "\n",
        "     1  |  \u001b[94m  0.071663\u001b[0m  |  \u001b[32m  0.056616\u001b[0m  |     1.265770  |             |  0.2s"
       ]
      },
      {
       "output_type": "stream",
       "stream": "stdout",
       "text": [
        "\n",
        "     2  |  \u001b[94m  0.051156\u001b[0m  |  \u001b[32m  0.046934\u001b[0m  |     1.089941  |             |  0.2s"
       ]
      },
      {
       "output_type": "stream",
       "stream": "stdout",
       "text": [
        "\n",
        "     3  |  \u001b[94m  0.043800\u001b[0m  |  \u001b[32m  0.041955\u001b[0m  |     1.043977  |             |  0.2s"
       ]
      },
      {
       "output_type": "stream",
       "stream": "stdout",
       "text": [
        "\n",
        "     4  |  \u001b[94m  0.039791\u001b[0m  |  \u001b[32m  0.038991\u001b[0m  |     1.020527  |             |  0.2s"
       ]
      },
      {
       "output_type": "stream",
       "stream": "stdout",
       "text": [
        "\n",
        "     5  |  \u001b[94m  0.037343\u001b[0m  |  \u001b[32m  0.037088\u001b[0m  |     1.006884  |             |  0.2s"
       ]
      },
      {
       "output_type": "stream",
       "stream": "stdout",
       "text": [
        "\n",
        "     6  |  \u001b[94m  0.035735\u001b[0m  |  \u001b[32m  0.035777\u001b[0m  |     0.998823  |             |  0.2s"
       ]
      },
      {
       "output_type": "stream",
       "stream": "stdout",
       "text": [
        "\n",
        "     7  |  \u001b[94m  0.034598\u001b[0m  |  \u001b[32m  0.034831\u001b[0m  |     0.993299  |             |  0.2s"
       ]
      },
      {
       "output_type": "stream",
       "stream": "stdout",
       "text": [
        "\n",
        "     8  |  \u001b[94m  0.033762\u001b[0m  |  \u001b[32m  0.034121\u001b[0m  |     0.989467  |             |  0.2s"
       ]
      },
      {
       "output_type": "stream",
       "stream": "stdout",
       "text": [
        "\n",
        "     9  |  \u001b[94m  0.033119\u001b[0m  |  \u001b[32m  0.033567\u001b[0m  |     0.986639  |             |  0.2s"
       ]
      },
      {
       "output_type": "stream",
       "stream": "stdout",
       "text": [
        "\n",
        "    10  |  \u001b[94m  0.032607\u001b[0m  |  \u001b[32m  0.033123\u001b[0m  |     0.984442  |             |  0.2s"
       ]
      },
      {
       "output_type": "stream",
       "stream": "stdout",
       "text": [
        "\n",
        "    11  |  \u001b[94m  0.032191\u001b[0m  |  \u001b[32m  0.032760\u001b[0m  |     0.982631  |             |  0.2s"
       ]
      },
      {
       "output_type": "stream",
       "stream": "stdout",
       "text": [
        "\n",
        "    12  |  \u001b[94m  0.031846\u001b[0m  |  \u001b[32m  0.032459\u001b[0m  |     0.981134  |             |  0.2s"
       ]
      },
      {
       "output_type": "stream",
       "stream": "stdout",
       "text": [
        "\n",
        "    13  |  \u001b[94m  0.031555\u001b[0m  |  \u001b[32m  0.032204\u001b[0m  |     0.979843  |             |  0.2s"
       ]
      },
      {
       "output_type": "stream",
       "stream": "stdout",
       "text": [
        "\n",
        "    14  |  \u001b[94m  0.031303\u001b[0m  |  \u001b[32m  0.031986\u001b[0m  |     0.978650  |             |  0.2s"
       ]
      },
      {
       "output_type": "stream",
       "stream": "stdout",
       "text": [
        "\n",
        "    15  |  \u001b[94m  0.031083\u001b[0m  |  \u001b[32m  0.031798\u001b[0m  |     0.977528  |             |  0.2s"
       ]
      },
      {
       "output_type": "stream",
       "stream": "stdout",
       "text": [
        "\n",
        "    16  |  \u001b[94m  0.030889\u001b[0m  |  \u001b[32m  0.031633\u001b[0m  |     0.976467  |             |  0.2s"
       ]
      },
      {
       "output_type": "stream",
       "stream": "stdout",
       "text": [
        "\n",
        "    17  |  \u001b[94m  0.030714\u001b[0m  |  \u001b[32m  0.031488\u001b[0m  |     0.975423  |             |  0.2s"
       ]
      },
      {
       "output_type": "stream",
       "stream": "stdout",
       "text": [
        "\n",
        "    18  |  \u001b[94m  0.030555\u001b[0m  |  \u001b[32m  0.031358\u001b[0m  |     0.974405  |             |  0.2s"
       ]
      },
      {
       "output_type": "stream",
       "stream": "stdout",
       "text": [
        "\n",
        "    19  |  \u001b[94m  0.030410\u001b[0m  |  \u001b[32m  0.031241\u001b[0m  |     0.973397  |             |  0.2s"
       ]
      },
      {
       "output_type": "stream",
       "stream": "stdout",
       "text": [
        "\n",
        "    20  |  \u001b[94m  0.030276\u001b[0m  |  \u001b[32m  0.031135\u001b[0m  |     0.972413  |             |  0.2s"
       ]
      },
      {
       "output_type": "stream",
       "stream": "stdout",
       "text": [
        "\n",
        "    21  |  \u001b[94m  0.030151\u001b[0m  |  \u001b[32m  0.031038\u001b[0m  |     0.971427  |             |  0.2s"
       ]
      },
      {
       "output_type": "stream",
       "stream": "stdout",
       "text": [
        "\n",
        "    22  |  \u001b[94m  0.030036\u001b[0m  |  \u001b[32m  0.030951\u001b[0m  |     0.970443  |             |  0.2s"
       ]
      },
      {
       "output_type": "stream",
       "stream": "stdout",
       "text": [
        "\n",
        "    23  |  \u001b[94m  0.029927\u001b[0m  |  \u001b[32m  0.030870\u001b[0m  |     0.969449  |             |  0.2s"
       ]
      },
      {
       "output_type": "stream",
       "stream": "stdout",
       "text": [
        "\n",
        "    24  |  \u001b[94m  0.029824\u001b[0m  |  \u001b[32m  0.030796\u001b[0m  |     0.968447  |             |  0.2s"
       ]
      },
      {
       "output_type": "stream",
       "stream": "stdout",
       "text": [
        "\n",
        "    25  |  \u001b[94m  0.029726\u001b[0m  |  \u001b[32m  0.030727\u001b[0m  |     0.967445  |             |  0.2s"
       ]
      },
      {
       "output_type": "stream",
       "stream": "stdout",
       "text": [
        "\n",
        "    26  |  \u001b[94m  0.029633\u001b[0m  |  \u001b[32m  0.030663\u001b[0m  |     0.966428  |             |  0.2s"
       ]
      },
      {
       "output_type": "stream",
       "stream": "stdout",
       "text": [
        "\n",
        "    27  |  \u001b[94m  0.029545\u001b[0m  |  \u001b[32m  0.030603\u001b[0m  |     0.965411  |             |  0.2s"
       ]
      },
      {
       "output_type": "stream",
       "stream": "stdout",
       "text": [
        "\n",
        "    28  |  \u001b[94m  0.029459\u001b[0m  |  \u001b[32m  0.030547\u001b[0m  |     0.964390  |             |  0.2s"
       ]
      },
      {
       "output_type": "stream",
       "stream": "stdout",
       "text": [
        "\n",
        "    29  |  \u001b[94m  0.029377\u001b[0m  |  \u001b[32m  0.030494\u001b[0m  |     0.963369  |             |  0.2s"
       ]
      },
      {
       "output_type": "stream",
       "stream": "stdout",
       "text": [
        "\n",
        "    30  |  \u001b[94m  0.029298\u001b[0m  |  \u001b[32m  0.030445\u001b[0m  |     0.962336  |             |  0.2s"
       ]
      },
      {
       "output_type": "stream",
       "stream": "stdout",
       "text": [
        "\n",
        "    31  |  \u001b[94m  0.029221\u001b[0m  |  \u001b[32m  0.030398\u001b[0m  |     0.961291  |             |  0.2s"
       ]
      },
      {
       "output_type": "stream",
       "stream": "stdout",
       "text": [
        "\n",
        "    32  |  \u001b[94m  0.029147\u001b[0m  |  \u001b[32m  0.030353\u001b[0m  |     0.960242  |             |  0.2s"
       ]
      },
      {
       "output_type": "stream",
       "stream": "stdout",
       "text": [
        "\n",
        "    33  |  \u001b[94m  0.029074\u001b[0m  |  \u001b[32m  0.030311\u001b[0m  |     0.959199  |             |  0.2s"
       ]
      },
      {
       "output_type": "stream",
       "stream": "stdout",
       "text": [
        "\n",
        "    34  |  \u001b[94m  0.029004\u001b[0m  |  \u001b[32m  0.030270\u001b[0m  |     0.958159  |             |  0.2s"
       ]
      },
      {
       "output_type": "stream",
       "stream": "stdout",
       "text": [
        "\n",
        "    35  |  \u001b[94m  0.028935\u001b[0m  |  \u001b[32m  0.030231\u001b[0m  |     0.957121  |             |  0.2s"
       ]
      },
      {
       "output_type": "stream",
       "stream": "stdout",
       "text": [
        "\n",
        "    36  |  \u001b[94m  0.028867\u001b[0m  |  \u001b[32m  0.030193\u001b[0m  |     0.956081  |             |  0.2s"
       ]
      },
      {
       "output_type": "stream",
       "stream": "stdout",
       "text": [
        "\n",
        "    37  |  \u001b[94m  0.028801\u001b[0m  |  \u001b[32m  0.030157\u001b[0m  |     0.955045  |             |  0.2s"
       ]
      },
      {
       "output_type": "stream",
       "stream": "stdout",
       "text": [
        "\n",
        "    38  |  \u001b[94m  0.028736\u001b[0m  |  \u001b[32m  0.030122\u001b[0m  |     0.954010  |             |  0.2s"
       ]
      },
      {
       "output_type": "stream",
       "stream": "stdout",
       "text": [
        "\n",
        "    39  |  \u001b[94m  0.028673\u001b[0m  |  \u001b[32m  0.030088\u001b[0m  |     0.952974  |             |  0.2s"
       ]
      },
      {
       "output_type": "stream",
       "stream": "stdout",
       "text": [
        "\n",
        "    40  |  \u001b[94m  0.028610\u001b[0m  |  \u001b[32m  0.030055\u001b[0m  |     0.951940  |             |  0.2s"
       ]
      },
      {
       "output_type": "stream",
       "stream": "stdout",
       "text": [
        "\n",
        "    41  |  \u001b[94m  0.028549\u001b[0m  |  \u001b[32m  0.030022\u001b[0m  |     0.950918  |             |  0.2s"
       ]
      },
      {
       "output_type": "stream",
       "stream": "stdout",
       "text": [
        "\n",
        "    42  |  \u001b[94m  0.028489\u001b[0m  |  \u001b[32m  0.029991\u001b[0m  |     0.949898  |             |  0.2s"
       ]
      },
      {
       "output_type": "stream",
       "stream": "stdout",
       "text": [
        "\n",
        "    43  |  \u001b[94m  0.028429\u001b[0m  |  \u001b[32m  0.029961\u001b[0m  |     0.948885  |             |  0.2s"
       ]
      },
      {
       "output_type": "stream",
       "stream": "stdout",
       "text": [
        "\n",
        "    44  |  \u001b[94m  0.028371\u001b[0m  |  \u001b[32m  0.029931\u001b[0m  |     0.947878  |             |  0.2s"
       ]
      },
      {
       "output_type": "stream",
       "stream": "stdout",
       "text": [
        "\n",
        "    45  |  \u001b[94m  0.028314\u001b[0m  |  \u001b[32m  0.029902\u001b[0m  |     0.946877  |             |  0.2s"
       ]
      },
      {
       "output_type": "stream",
       "stream": "stdout",
       "text": [
        "\n",
        "    46  |  \u001b[94m  0.028257\u001b[0m  |  \u001b[32m  0.029874\u001b[0m  |     0.945884  |             |  0.2s"
       ]
      },
      {
       "output_type": "stream",
       "stream": "stdout",
       "text": [
        "\n",
        "    47  |  \u001b[94m  0.028201\u001b[0m  |  \u001b[32m  0.029846\u001b[0m  |     0.944890  |             |  0.2s"
       ]
      },
      {
       "output_type": "stream",
       "stream": "stdout",
       "text": [
        "\n",
        "    48  |  \u001b[94m  0.028146\u001b[0m  |  \u001b[32m  0.029819\u001b[0m  |     0.943901  |             |  0.2s"
       ]
      },
      {
       "output_type": "stream",
       "stream": "stdout",
       "text": [
        "\n",
        "    49  |  \u001b[94m  0.028091\u001b[0m  |  \u001b[32m  0.029792\u001b[0m  |     0.942912  |             |  0.2s"
       ]
      },
      {
       "output_type": "stream",
       "stream": "stdout",
       "text": [
        "\n",
        "    50  |  \u001b[94m  0.028037\u001b[0m  |  \u001b[32m  0.029766\u001b[0m  |     0.941921  |             |  0.2s"
       ]
      },
      {
       "output_type": "stream",
       "stream": "stdout",
       "text": [
        "\n",
        "    51  |  \u001b[94m  0.027984\u001b[0m  |  \u001b[32m  0.029740\u001b[0m  |     0.940931  |             |  0.2s"
       ]
      },
      {
       "output_type": "stream",
       "stream": "stdout",
       "text": [
        "\n",
        "    52  |  \u001b[94m  0.027931\u001b[0m  |  \u001b[32m  0.029715\u001b[0m  |     0.939947  |             |  0.2s"
       ]
      },
      {
       "output_type": "stream",
       "stream": "stdout",
       "text": [
        "\n",
        "    53  |  \u001b[94m  0.027878\u001b[0m  |  \u001b[32m  0.029690\u001b[0m  |     0.938969  |             |  0.2s"
       ]
      },
      {
       "output_type": "stream",
       "stream": "stdout",
       "text": [
        "\n",
        "    54  |  \u001b[94m  0.027827\u001b[0m  |  \u001b[32m  0.029666\u001b[0m  |     0.937991  |             |  0.2s"
       ]
      },
      {
       "output_type": "stream",
       "stream": "stdout",
       "text": [
        "\n",
        "    55  |  \u001b[94m  0.027775\u001b[0m  |  \u001b[32m  0.029642\u001b[0m  |     0.937013  |             |  0.2s"
       ]
      },
      {
       "output_type": "stream",
       "stream": "stdout",
       "text": [
        "\n",
        "    56  |  \u001b[94m  0.027724\u001b[0m  |  \u001b[32m  0.029619\u001b[0m  |     0.936033  |             |  0.2s"
       ]
      },
      {
       "output_type": "stream",
       "stream": "stdout",
       "text": [
        "\n",
        "    57  |  \u001b[94m  0.027674\u001b[0m  |  \u001b[32m  0.029596\u001b[0m  |     0.935058  |             |  0.2s"
       ]
      },
      {
       "output_type": "stream",
       "stream": "stdout",
       "text": [
        "\n",
        "    58  |  \u001b[94m  0.027623\u001b[0m  |  \u001b[32m  0.029573\u001b[0m  |     0.934082  |             |  0.2s"
       ]
      },
      {
       "output_type": "stream",
       "stream": "stdout",
       "text": [
        "\n",
        "    59  |  \u001b[94m  0.027574\u001b[0m  |  \u001b[32m  0.029550\u001b[0m  |     0.933108  |             |  0.2s"
       ]
      },
      {
       "output_type": "stream",
       "stream": "stdout",
       "text": [
        "\n",
        "    60  |  \u001b[94m  0.027524\u001b[0m  |  \u001b[32m  0.029528\u001b[0m  |     0.932143  |             |  0.2s"
       ]
      },
      {
       "output_type": "stream",
       "stream": "stdout",
       "text": [
        "\n",
        "    61  |  \u001b[94m  0.027475\u001b[0m  |  \u001b[32m  0.029506\u001b[0m  |     0.931184  |             |  0.2s"
       ]
      },
      {
       "output_type": "stream",
       "stream": "stdout",
       "text": [
        "\n",
        "    62  |  \u001b[94m  0.027427\u001b[0m  |  \u001b[32m  0.029484\u001b[0m  |     0.930234  |             |  0.2s"
       ]
      },
      {
       "output_type": "stream",
       "stream": "stdout",
       "text": [
        "\n",
        "    63  |  \u001b[94m  0.027379\u001b[0m  |  \u001b[32m  0.029462\u001b[0m  |     0.929285  |             |  0.2s"
       ]
      },
      {
       "output_type": "stream",
       "stream": "stdout",
       "text": [
        "\n",
        "    64  |  \u001b[94m  0.027331\u001b[0m  |  \u001b[32m  0.029441\u001b[0m  |     0.928339  |             |  0.2s"
       ]
      },
      {
       "output_type": "stream",
       "stream": "stdout",
       "text": [
        "\n",
        "    65  |  \u001b[94m  0.027284\u001b[0m  |  \u001b[32m  0.029420\u001b[0m  |     0.927398  |             |  0.2s"
       ]
      },
      {
       "output_type": "stream",
       "stream": "stdout",
       "text": [
        "\n",
        "    66  |  \u001b[94m  0.027237\u001b[0m  |  \u001b[32m  0.029399\u001b[0m  |     0.926461  |             |  0.2s"
       ]
      },
      {
       "output_type": "stream",
       "stream": "stdout",
       "text": [
        "\n",
        "    67  |  \u001b[94m  0.027190\u001b[0m  |  \u001b[32m  0.029378\u001b[0m  |     0.925520  |             |  0.2s"
       ]
      },
      {
       "output_type": "stream",
       "stream": "stdout",
       "text": [
        "\n",
        "    68  |  \u001b[94m  0.027143\u001b[0m  |  \u001b[32m  0.029358\u001b[0m  |     0.924580  |             |  0.2s"
       ]
      },
      {
       "output_type": "stream",
       "stream": "stdout",
       "text": [
        "\n",
        "    69  |  \u001b[94m  0.027097\u001b[0m  |  \u001b[32m  0.029338\u001b[0m  |     0.923636  |             |  0.2s"
       ]
      },
      {
       "output_type": "stream",
       "stream": "stdout",
       "text": [
        "\n",
        "    70  |  \u001b[94m  0.027051\u001b[0m  |  \u001b[32m  0.029318\u001b[0m  |     0.922694  |             |  0.2s"
       ]
      },
      {
       "output_type": "stream",
       "stream": "stdout",
       "text": [
        "\n",
        "    71  |  \u001b[94m  0.027006\u001b[0m  |  \u001b[32m  0.029298\u001b[0m  |     0.921756  |             |  0.2s"
       ]
      },
      {
       "output_type": "stream",
       "stream": "stdout",
       "text": [
        "\n",
        "    72  |  \u001b[94m  0.026961\u001b[0m  |  \u001b[32m  0.029279\u001b[0m  |     0.920825  |             |  0.2s"
       ]
      },
      {
       "output_type": "stream",
       "stream": "stdout",
       "text": [
        "\n",
        "    73  |  \u001b[94m  0.026916\u001b[0m  |  \u001b[32m  0.029259\u001b[0m  |     0.919896  |             |  0.2s"
       ]
      },
      {
       "output_type": "stream",
       "stream": "stdout",
       "text": [
        "\n",
        "    74  |  \u001b[94m  0.026871\u001b[0m  |  \u001b[32m  0.029240\u001b[0m  |     0.918975  |             |  0.2s"
       ]
      },
      {
       "output_type": "stream",
       "stream": "stdout",
       "text": [
        "\n",
        "    75  |  \u001b[94m  0.026827\u001b[0m  |  \u001b[32m  0.029221\u001b[0m  |     0.918052  |             |  0.2s"
       ]
      },
      {
       "output_type": "stream",
       "stream": "stdout",
       "text": [
        "\n",
        "    76  |  \u001b[94m  0.026782\u001b[0m  |  \u001b[32m  0.029203\u001b[0m  |     0.917128  |             |  0.2s"
       ]
      },
      {
       "output_type": "stream",
       "stream": "stdout",
       "text": [
        "\n",
        "    77  |  \u001b[94m  0.026739\u001b[0m  |  \u001b[32m  0.029184\u001b[0m  |     0.916209  |             |  0.2s"
       ]
      },
      {
       "output_type": "stream",
       "stream": "stdout",
       "text": [
        "\n",
        "    78  |  \u001b[94m  0.026695\u001b[0m  |  \u001b[32m  0.029166\u001b[0m  |     0.915287  |             |  0.2s"
       ]
      },
      {
       "output_type": "stream",
       "stream": "stdout",
       "text": [
        "\n",
        "    79  |  \u001b[94m  0.026652\u001b[0m  |  \u001b[32m  0.029148\u001b[0m  |     0.914373  |             |  0.2s"
       ]
      },
      {
       "output_type": "stream",
       "stream": "stdout",
       "text": [
        "\n",
        "    80  |  \u001b[94m  0.026609\u001b[0m  |  \u001b[32m  0.029130\u001b[0m  |     0.913461  |             |  0.2s"
       ]
      },
      {
       "output_type": "stream",
       "stream": "stdout",
       "text": [
        "\n",
        "    81  |  \u001b[94m  0.026566\u001b[0m  |  \u001b[32m  0.029112\u001b[0m  |     0.912551  |             |  0.2s"
       ]
      },
      {
       "output_type": "stream",
       "stream": "stdout",
       "text": [
        "\n",
        "    82  |  \u001b[94m  0.026524\u001b[0m  |  \u001b[32m  0.029095\u001b[0m  |     0.911646  |             |  0.2s"
       ]
      },
      {
       "output_type": "stream",
       "stream": "stdout",
       "text": [
        "\n",
        "    83  |  \u001b[94m  0.026482\u001b[0m  |  \u001b[32m  0.029077\u001b[0m  |     0.910742  |             |  0.2s"
       ]
      },
      {
       "output_type": "stream",
       "stream": "stdout",
       "text": [
        "\n",
        "    84  |  \u001b[94m  0.026440\u001b[0m  |  \u001b[32m  0.029060\u001b[0m  |     0.909844  |             |  0.2s"
       ]
      },
      {
       "output_type": "stream",
       "stream": "stdout",
       "text": [
        "\n",
        "    85  |  \u001b[94m  0.026398\u001b[0m  |  \u001b[32m  0.029043\u001b[0m  |     0.908942  |             |  0.2s"
       ]
      },
      {
       "output_type": "stream",
       "stream": "stdout",
       "text": [
        "\n",
        "    86  |  \u001b[94m  0.026357\u001b[0m  |  \u001b[32m  0.029026\u001b[0m  |     0.908050  |             |  0.2s"
       ]
      },
      {
       "output_type": "stream",
       "stream": "stdout",
       "text": [
        "\n",
        "    87  |  \u001b[94m  0.026316\u001b[0m  |  \u001b[32m  0.029009\u001b[0m  |     0.907152  |             |  0.2s"
       ]
      },
      {
       "output_type": "stream",
       "stream": "stdout",
       "text": [
        "\n",
        "    88  |  \u001b[94m  0.026275\u001b[0m  |  \u001b[32m  0.028993\u001b[0m  |     0.906256  |             |  0.2s"
       ]
      },
      {
       "output_type": "stream",
       "stream": "stdout",
       "text": [
        "\n",
        "    89  |  \u001b[94m  0.026234\u001b[0m  |  \u001b[32m  0.028976\u001b[0m  |     0.905358  |             |  0.2s"
       ]
      },
      {
       "output_type": "stream",
       "stream": "stdout",
       "text": [
        "\n",
        "    90  |  \u001b[94m  0.026193\u001b[0m  |  \u001b[32m  0.028960\u001b[0m  |     0.904462  |             |  0.2s"
       ]
      },
      {
       "output_type": "stream",
       "stream": "stdout",
       "text": [
        "\n",
        "    91  |  \u001b[94m  0.026153\u001b[0m  |  \u001b[32m  0.028944\u001b[0m  |     0.903566  |             |  0.2s"
       ]
      },
      {
       "output_type": "stream",
       "stream": "stdout",
       "text": [
        "\n",
        "    92  |  \u001b[94m  0.026113\u001b[0m  |  \u001b[32m  0.028928\u001b[0m  |     0.902672  |             |  0.2s"
       ]
      },
      {
       "output_type": "stream",
       "stream": "stdout",
       "text": [
        "\n",
        "    93  |  \u001b[94m  0.026073\u001b[0m  |  \u001b[32m  0.028912\u001b[0m  |     0.901784  |             |  0.2s"
       ]
      },
      {
       "output_type": "stream",
       "stream": "stdout",
       "text": [
        "\n",
        "    94  |  \u001b[94m  0.026033\u001b[0m  |  \u001b[32m  0.028896\u001b[0m  |     0.900901  |             |  0.2s"
       ]
      },
      {
       "output_type": "stream",
       "stream": "stdout",
       "text": [
        "\n",
        "    95  |  \u001b[94m  0.025993\u001b[0m  |  \u001b[32m  0.028881\u001b[0m  |     0.900020  |             |  0.2s"
       ]
      },
      {
       "output_type": "stream",
       "stream": "stdout",
       "text": [
        "\n",
        "    96  |  \u001b[94m  0.025954\u001b[0m  |  \u001b[32m  0.028865\u001b[0m  |     0.899142  |             |  0.2s"
       ]
      },
      {
       "output_type": "stream",
       "stream": "stdout",
       "text": [
        "\n",
        "    97  |  \u001b[94m  0.025915\u001b[0m  |  \u001b[32m  0.028850\u001b[0m  |     0.898271  |             |  0.2s"
       ]
      },
      {
       "output_type": "stream",
       "stream": "stdout",
       "text": [
        "\n",
        "    98  |  \u001b[94m  0.025876\u001b[0m  |  \u001b[32m  0.028834\u001b[0m  |     0.897403  |             |  0.2s"
       ]
      },
      {
       "output_type": "stream",
       "stream": "stdout",
       "text": [
        "\n",
        "    99  |  \u001b[94m  0.025837\u001b[0m  |  \u001b[32m  0.028819\u001b[0m  |     0.896539  |             |  0.2s"
       ]
      },
      {
       "output_type": "stream",
       "stream": "stdout",
       "text": [
        "\n",
        "   100  |  \u001b[94m  0.025799\u001b[0m  |  \u001b[32m  0.028803\u001b[0m  |     0.895681  |             |  0.2s"
       ]
      },
      {
       "output_type": "stream",
       "stream": "stdout",
       "text": [
        "\n",
        "   101  |  \u001b[94m  0.025760\u001b[0m  |  \u001b[32m  0.028788\u001b[0m  |     0.894819  |             |  0.2s"
       ]
      },
      {
       "output_type": "stream",
       "stream": "stdout",
       "text": [
        "\n",
        "   102  |  \u001b[94m  0.025722\u001b[0m  |  \u001b[32m  0.028773\u001b[0m  |     0.893957  |             |  0.2s"
       ]
      },
      {
       "output_type": "stream",
       "stream": "stdout",
       "text": [
        "\n",
        "   103  |  \u001b[94m  0.025684\u001b[0m  |  \u001b[32m  0.028758\u001b[0m  |     0.893102  |             |  0.2s"
       ]
      },
      {
       "output_type": "stream",
       "stream": "stdout",
       "text": [
        "\n",
        "   104  |  \u001b[94m  0.025646\u001b[0m  |  \u001b[32m  0.028743\u001b[0m  |     0.892245  |             |  0.2s"
       ]
      },
      {
       "output_type": "stream",
       "stream": "stdout",
       "text": [
        "\n",
        "   105  |  \u001b[94m  0.025608\u001b[0m  |  \u001b[32m  0.028729\u001b[0m  |     0.891385  |             |  0.2s"
       ]
      },
      {
       "output_type": "stream",
       "stream": "stdout",
       "text": [
        "\n",
        "   106  |  \u001b[94m  0.025571\u001b[0m  |  \u001b[32m  0.028714\u001b[0m  |     0.890528  |             |  0.2s"
       ]
      },
      {
       "output_type": "stream",
       "stream": "stdout",
       "text": [
        "\n",
        "   107  |  \u001b[94m  0.025534\u001b[0m  |  \u001b[32m  0.028700\u001b[0m  |     0.889679  |             |  0.2s"
       ]
      },
      {
       "output_type": "stream",
       "stream": "stdout",
       "text": [
        "\n",
        "   108  |  \u001b[94m  0.025497\u001b[0m  |  \u001b[32m  0.028686\u001b[0m  |     0.888827  |             |  0.2s"
       ]
      },
      {
       "output_type": "stream",
       "stream": "stdout",
       "text": [
        "\n",
        "   109  |  \u001b[94m  0.025460\u001b[0m  |  \u001b[32m  0.028671\u001b[0m  |     0.887985  |             |  0.2s"
       ]
      },
      {
       "output_type": "stream",
       "stream": "stdout",
       "text": [
        "\n",
        "   110  |  \u001b[94m  0.025423\u001b[0m  |  \u001b[32m  0.028657\u001b[0m  |     0.887143  |             |  0.2s"
       ]
      },
      {
       "output_type": "stream",
       "stream": "stdout",
       "text": [
        "\n",
        "   111  |  \u001b[94m  0.025386\u001b[0m  |  \u001b[32m  0.028643\u001b[0m  |     0.886298  |             |  0.2s"
       ]
      },
      {
       "output_type": "stream",
       "stream": "stdout",
       "text": [
        "\n",
        "   112  |  \u001b[94m  0.025350\u001b[0m  |  \u001b[32m  0.028629\u001b[0m  |     0.885461  |             |  0.2s"
       ]
      },
      {
       "output_type": "stream",
       "stream": "stdout",
       "text": [
        "\n",
        "   113  |  \u001b[94m  0.025313\u001b[0m  |  \u001b[32m  0.028615\u001b[0m  |     0.884626  |             |  0.2s"
       ]
      },
      {
       "output_type": "stream",
       "stream": "stdout",
       "text": [
        "\n",
        "   114  |  \u001b[94m  0.025277\u001b[0m  |  \u001b[32m  0.028601\u001b[0m  |     0.883792  |             |  0.2s"
       ]
      },
      {
       "output_type": "stream",
       "stream": "stdout",
       "text": [
        "\n",
        "   115  |  \u001b[94m  0.025241\u001b[0m  |  \u001b[32m  0.028587\u001b[0m  |     0.882961  |             |  0.2s"
       ]
      },
      {
       "output_type": "stream",
       "stream": "stdout",
       "text": [
        "\n",
        "   116  |  \u001b[94m  0.025205\u001b[0m  |  \u001b[32m  0.028572\u001b[0m  |     0.882134  |             |  0.2s"
       ]
      },
      {
       "output_type": "stream",
       "stream": "stdout",
       "text": [
        "\n",
        "   117  |  \u001b[94m  0.025169\u001b[0m  |  \u001b[32m  0.028559\u001b[0m  |     0.881304  |             |  0.2s"
       ]
      },
      {
       "output_type": "stream",
       "stream": "stdout",
       "text": [
        "\n",
        "   118  |  \u001b[94m  0.025133\u001b[0m  |  \u001b[32m  0.028545\u001b[0m  |     0.880478  |             |  0.2s"
       ]
      },
      {
       "output_type": "stream",
       "stream": "stdout",
       "text": [
        "\n",
        "   119  |  \u001b[94m  0.025097\u001b[0m  |  \u001b[32m  0.028531\u001b[0m  |     0.879654  |             |  0.2s"
       ]
      },
      {
       "output_type": "stream",
       "stream": "stdout",
       "text": [
        "\n",
        "   120  |  \u001b[94m  0.025062\u001b[0m  |  \u001b[32m  0.028517\u001b[0m  |     0.878833  |             |  0.2s"
       ]
      },
      {
       "output_type": "stream",
       "stream": "stdout",
       "text": [
        "\n",
        "   121  |  \u001b[94m  0.025026\u001b[0m  |  \u001b[32m  0.028503\u001b[0m  |     0.878011  |             |  0.2s"
       ]
      },
      {
       "output_type": "stream",
       "stream": "stdout",
       "text": [
        "\n",
        "   122  |  \u001b[94m  0.024991\u001b[0m  |  \u001b[32m  0.028490\u001b[0m  |     0.877197  |             |  0.2s"
       ]
      },
      {
       "output_type": "stream",
       "stream": "stdout",
       "text": [
        "\n",
        "   123  |  \u001b[94m  0.024956\u001b[0m  |  \u001b[32m  0.028476\u001b[0m  |     0.876375  |             |  0.2s"
       ]
      },
      {
       "output_type": "stream",
       "stream": "stdout",
       "text": [
        "\n",
        "   124  |  \u001b[94m  0.024921\u001b[0m  |  \u001b[32m  0.028463\u001b[0m  |     0.875563  |             |  0.2s"
       ]
      },
      {
       "output_type": "stream",
       "stream": "stdout",
       "text": [
        "\n",
        "   125  |  \u001b[94m  0.024886\u001b[0m  |  \u001b[32m  0.028449\u001b[0m  |     0.874754  |             |  0.2s"
       ]
      },
      {
       "output_type": "stream",
       "stream": "stdout",
       "text": [
        "\n",
        "   126  |  \u001b[94m  0.024851\u001b[0m  |  \u001b[32m  0.028436\u001b[0m  |     0.873936  |             |  0.2s"
       ]
      },
      {
       "output_type": "stream",
       "stream": "stdout",
       "text": [
        "\n",
        "   127  |  \u001b[94m  0.024817\u001b[0m  |  \u001b[32m  0.028423\u001b[0m  |     0.873124  |             |  0.2s"
       ]
      },
      {
       "output_type": "stream",
       "stream": "stdout",
       "text": [
        "\n",
        "   128  |  \u001b[94m  0.024782\u001b[0m  |  \u001b[32m  0.028410\u001b[0m  |     0.872315  |             |  0.2s"
       ]
      },
      {
       "output_type": "stream",
       "stream": "stdout",
       "text": [
        "\n",
        "   129  |  \u001b[94m  0.024748\u001b[0m  |  \u001b[32m  0.028397\u001b[0m  |     0.871510  |             |  0.2s"
       ]
      },
      {
       "output_type": "stream",
       "stream": "stdout",
       "text": [
        "\n",
        "   130  |  \u001b[94m  0.024714\u001b[0m  |  \u001b[32m  0.028384\u001b[0m  |     0.870703  |             |  0.2s"
       ]
      },
      {
       "output_type": "stream",
       "stream": "stdout",
       "text": [
        "\n",
        "   131  |  \u001b[94m  0.024680\u001b[0m  |  \u001b[32m  0.028371\u001b[0m  |     0.869902  |             |  0.2s"
       ]
      },
      {
       "output_type": "stream",
       "stream": "stdout",
       "text": [
        "\n",
        "   132  |  \u001b[94m  0.024646\u001b[0m  |  \u001b[32m  0.028358\u001b[0m  |     0.869105  |             |  0.2s"
       ]
      },
      {
       "output_type": "stream",
       "stream": "stdout",
       "text": [
        "\n",
        "   133  |  \u001b[94m  0.024612\u001b[0m  |  \u001b[32m  0.028345\u001b[0m  |     0.868313  |             |  0.2s"
       ]
      },
      {
       "output_type": "stream",
       "stream": "stdout",
       "text": [
        "\n",
        "   134  |  \u001b[94m  0.024579\u001b[0m  |  \u001b[32m  0.028332\u001b[0m  |     0.867523  |             |  0.2s"
       ]
      },
      {
       "output_type": "stream",
       "stream": "stdout",
       "text": [
        "\n",
        "   135  |  \u001b[94m  0.024545\u001b[0m  |  \u001b[32m  0.028319\u001b[0m  |     0.866730  |             |  0.2s"
       ]
      },
      {
       "output_type": "stream",
       "stream": "stdout",
       "text": [
        "\n",
        "   136  |  \u001b[94m  0.024512\u001b[0m  |  \u001b[32m  0.028306\u001b[0m  |     0.865941  |             |  0.2s"
       ]
      },
      {
       "output_type": "stream",
       "stream": "stdout",
       "text": [
        "\n",
        "   137  |  \u001b[94m  0.024478\u001b[0m  |  \u001b[32m  0.028294\u001b[0m  |     0.865153  |             |  0.2s"
       ]
      },
      {
       "output_type": "stream",
       "stream": "stdout",
       "text": [
        "\n",
        "   138  |  \u001b[94m  0.024445\u001b[0m  |  \u001b[32m  0.028281\u001b[0m  |     0.864361  |             |  0.2s"
       ]
      },
      {
       "output_type": "stream",
       "stream": "stdout",
       "text": [
        "\n",
        "   139  |  \u001b[94m  0.024412\u001b[0m  |  \u001b[32m  0.028269\u001b[0m  |     0.863577  |             |  0.2s"
       ]
      },
      {
       "output_type": "stream",
       "stream": "stdout",
       "text": [
        "\n",
        "   140  |  \u001b[94m  0.024379\u001b[0m  |  \u001b[32m  0.028256\u001b[0m  |     0.862791  |             |  0.2s"
       ]
      },
      {
       "output_type": "stream",
       "stream": "stdout",
       "text": [
        "\n",
        "   141  |  \u001b[94m  0.024346\u001b[0m  |  \u001b[32m  0.028244\u001b[0m  |     0.862008  |             |  0.2s"
       ]
      },
      {
       "output_type": "stream",
       "stream": "stdout",
       "text": [
        "\n",
        "   142  |  \u001b[94m  0.024313\u001b[0m  |  \u001b[32m  0.028231\u001b[0m  |     0.861230  |             |  0.2s"
       ]
      },
      {
       "output_type": "stream",
       "stream": "stdout",
       "text": [
        "\n",
        "   143  |  \u001b[94m  0.024281\u001b[0m  |  \u001b[32m  0.028219\u001b[0m  |     0.860448  |             |  0.2s"
       ]
      },
      {
       "output_type": "stream",
       "stream": "stdout",
       "text": [
        "\n",
        "   144  |  \u001b[94m  0.024248\u001b[0m  |  \u001b[32m  0.028206\u001b[0m  |     0.859673  |             |  0.2s"
       ]
      },
      {
       "output_type": "stream",
       "stream": "stdout",
       "text": [
        "\n",
        "   145  |  \u001b[94m  0.024216\u001b[0m  |  \u001b[32m  0.028194\u001b[0m  |     0.858893  |             |  0.2s"
       ]
      },
      {
       "output_type": "stream",
       "stream": "stdout",
       "text": [
        "\n",
        "   146  |  \u001b[94m  0.024183\u001b[0m  |  \u001b[32m  0.028182\u001b[0m  |     0.858116  |             |  0.2s"
       ]
      },
      {
       "output_type": "stream",
       "stream": "stdout",
       "text": [
        "\n",
        "   147  |  \u001b[94m  0.024151\u001b[0m  |  \u001b[32m  0.028170\u001b[0m  |     0.857333  |             |  0.2s"
       ]
      },
      {
       "output_type": "stream",
       "stream": "stdout",
       "text": [
        "\n",
        "   148  |  \u001b[94m  0.024119\u001b[0m  |  \u001b[32m  0.028158\u001b[0m  |     0.856551  |             |  0.2s"
       ]
      },
      {
       "output_type": "stream",
       "stream": "stdout",
       "text": [
        "\n",
        "   149  |  \u001b[94m  0.024087\u001b[0m  |  \u001b[32m  0.028146\u001b[0m  |     0.855777  |             |  0.2s"
       ]
      },
      {
       "output_type": "stream",
       "stream": "stdout",
       "text": [
        "\n",
        "   150  |  \u001b[94m  0.024055\u001b[0m  |  \u001b[32m  0.028134\u001b[0m  |     0.855001  |             |  0.2s"
       ]
      },
      {
       "output_type": "stream",
       "stream": "stdout",
       "text": [
        "\n",
        "   151  |  \u001b[94m  0.024023\u001b[0m  |  \u001b[32m  0.028122\u001b[0m  |     0.854230  |             |  0.2s"
       ]
      },
      {
       "output_type": "stream",
       "stream": "stdout",
       "text": [
        "\n",
        "   152  |  \u001b[94m  0.023991\u001b[0m  |  \u001b[32m  0.028110\u001b[0m  |     0.853459  |             |  0.2s"
       ]
      },
      {
       "output_type": "stream",
       "stream": "stdout",
       "text": [
        "\n",
        "   153  |  \u001b[94m  0.023959\u001b[0m  |  \u001b[32m  0.028098\u001b[0m  |     0.852690  |             |  0.2s"
       ]
      },
      {
       "output_type": "stream",
       "stream": "stdout",
       "text": [
        "\n",
        "   154  |  \u001b[94m  0.023927\u001b[0m  |  \u001b[32m  0.028086\u001b[0m  |     0.851925  |             |  0.2s"
       ]
      },
      {
       "output_type": "stream",
       "stream": "stdout",
       "text": [
        "\n",
        "   155  |  \u001b[94m  0.023895\u001b[0m  |  \u001b[32m  0.028074\u001b[0m  |     0.851163  |             |  0.2s"
       ]
      },
      {
       "output_type": "stream",
       "stream": "stdout",
       "text": [
        "\n",
        "   156  |  \u001b[94m  0.023864\u001b[0m  |  \u001b[32m  0.028062\u001b[0m  |     0.850400  |             |  0.2s"
       ]
      },
      {
       "output_type": "stream",
       "stream": "stdout",
       "text": [
        "\n",
        "   157  |  \u001b[94m  0.023832\u001b[0m  |  \u001b[32m  0.028050\u001b[0m  |     0.849635  |             |  0.2s"
       ]
      },
      {
       "output_type": "stream",
       "stream": "stdout",
       "text": [
        "\n",
        "   158  |  \u001b[94m  0.023801\u001b[0m  |  \u001b[32m  0.028038\u001b[0m  |     0.848874  |             |  0.2s"
       ]
      },
      {
       "output_type": "stream",
       "stream": "stdout",
       "text": [
        "\n",
        "   159  |  \u001b[94m  0.023770\u001b[0m  |  \u001b[32m  0.028026\u001b[0m  |     0.848114  |             |  0.2s"
       ]
      },
      {
       "output_type": "stream",
       "stream": "stdout",
       "text": [
        "\n",
        "   160  |  \u001b[94m  0.023738\u001b[0m  |  \u001b[32m  0.028015\u001b[0m  |     0.847353  |             |  0.2s"
       ]
      },
      {
       "output_type": "stream",
       "stream": "stdout",
       "text": [
        "\n",
        "   161  |  \u001b[94m  0.023707\u001b[0m  |  \u001b[32m  0.028003\u001b[0m  |     0.846590  |             |  0.2s"
       ]
      },
      {
       "output_type": "stream",
       "stream": "stdout",
       "text": [
        "\n",
        "   162  |  \u001b[94m  0.023676\u001b[0m  |  \u001b[32m  0.027992\u001b[0m  |     0.845831  |             |  0.2s"
       ]
      },
      {
       "output_type": "stream",
       "stream": "stdout",
       "text": [
        "\n",
        "   163  |  \u001b[94m  0.023645\u001b[0m  |  \u001b[32m  0.027980\u001b[0m  |     0.845067  |             |  0.2s"
       ]
      },
      {
       "output_type": "stream",
       "stream": "stdout",
       "text": [
        "\n",
        "   164  |  \u001b[94m  0.023614\u001b[0m  |  \u001b[32m  0.027968\u001b[0m  |     0.844309  |             |  0.2s"
       ]
      },
      {
       "output_type": "stream",
       "stream": "stdout",
       "text": [
        "\n",
        "   165  |  \u001b[94m  0.023583\u001b[0m  |  \u001b[32m  0.027957\u001b[0m  |     0.843556  |             |  0.2s"
       ]
      },
      {
       "output_type": "stream",
       "stream": "stdout",
       "text": [
        "\n",
        "   166  |  \u001b[94m  0.023552\u001b[0m  |  \u001b[32m  0.027945\u001b[0m  |     0.842801  |             |  0.2s"
       ]
      },
      {
       "output_type": "stream",
       "stream": "stdout",
       "text": [
        "\n",
        "   167  |  \u001b[94m  0.023522\u001b[0m  |  \u001b[32m  0.027934\u001b[0m  |     0.842042  |             |  0.2s"
       ]
      },
      {
       "output_type": "stream",
       "stream": "stdout",
       "text": [
        "\n",
        "   168  |  \u001b[94m  0.023491\u001b[0m  |  \u001b[32m  0.027923\u001b[0m  |     0.841290  |             |  0.2s"
       ]
      },
      {
       "output_type": "stream",
       "stream": "stdout",
       "text": [
        "\n",
        "   169  |  \u001b[94m  0.023460\u001b[0m  |  \u001b[32m  0.027911\u001b[0m  |     0.840534  |             |  0.2s"
       ]
      },
      {
       "output_type": "stream",
       "stream": "stdout",
       "text": [
        "\n",
        "   170  |  \u001b[94m  0.023430\u001b[0m  |  \u001b[32m  0.027900\u001b[0m  |     0.839783  |             |  0.2s"
       ]
      },
      {
       "output_type": "stream",
       "stream": "stdout",
       "text": [
        "\n",
        "   171  |  \u001b[94m  0.023399\u001b[0m  |  \u001b[32m  0.027888\u001b[0m  |     0.839035  |             |  0.2s"
       ]
      },
      {
       "output_type": "stream",
       "stream": "stdout",
       "text": [
        "\n",
        "   172  |  \u001b[94m  0.023369\u001b[0m  |  \u001b[32m  0.027877\u001b[0m  |     0.838292  |             |  0.2s"
       ]
      },
      {
       "output_type": "stream",
       "stream": "stdout",
       "text": [
        "\n",
        "   173  |  \u001b[94m  0.023339\u001b[0m  |  \u001b[32m  0.027866\u001b[0m  |     0.837545  |             |  0.2s"
       ]
      },
      {
       "output_type": "stream",
       "stream": "stdout",
       "text": [
        "\n",
        "   174  |  \u001b[94m  0.023309\u001b[0m  |  \u001b[32m  0.027855\u001b[0m  |     0.836799  |             |  0.2s"
       ]
      },
      {
       "output_type": "stream",
       "stream": "stdout",
       "text": [
        "\n",
        "   175  |  \u001b[94m  0.023279\u001b[0m  |  \u001b[32m  0.027843\u001b[0m  |     0.836054  |             |  0.2s"
       ]
      },
      {
       "output_type": "stream",
       "stream": "stdout",
       "text": [
        "\n",
        "   176  |  \u001b[94m  0.023248\u001b[0m  |  \u001b[32m  0.027832\u001b[0m  |     0.835307  |             |  0.2s"
       ]
      },
      {
       "output_type": "stream",
       "stream": "stdout",
       "text": [
        "\n",
        "   177  |  \u001b[94m  0.023218\u001b[0m  |  \u001b[32m  0.027821\u001b[0m  |     0.834564  |             |  0.2s"
       ]
      },
      {
       "output_type": "stream",
       "stream": "stdout",
       "text": [
        "\n",
        "   178  |  \u001b[94m  0.023188\u001b[0m  |  \u001b[32m  0.027810\u001b[0m  |     0.833821  |             |  0.2s"
       ]
      },
      {
       "output_type": "stream",
       "stream": "stdout",
       "text": [
        "\n",
        "   179  |  \u001b[94m  0.023159\u001b[0m  |  \u001b[32m  0.027799\u001b[0m  |     0.833078  |             |  0.2s"
       ]
      },
      {
       "output_type": "stream",
       "stream": "stdout",
       "text": [
        "\n",
        "   180  |  \u001b[94m  0.023129\u001b[0m  |  \u001b[32m  0.027788\u001b[0m  |     0.832334  |             |  0.2s"
       ]
      },
      {
       "output_type": "stream",
       "stream": "stdout",
       "text": [
        "\n",
        "   181  |  \u001b[94m  0.023099\u001b[0m  |  \u001b[32m  0.027777\u001b[0m  |     0.831597  |             |  0.2s"
       ]
      },
      {
       "output_type": "stream",
       "stream": "stdout",
       "text": [
        "\n",
        "   182  |  \u001b[94m  0.023069\u001b[0m  |  \u001b[32m  0.027766\u001b[0m  |     0.830863  |             |  0.2s"
       ]
      },
      {
       "output_type": "stream",
       "stream": "stdout",
       "text": [
        "\n",
        "   183  |  \u001b[94m  0.023040\u001b[0m  |  \u001b[32m  0.027754\u001b[0m  |     0.830131  |             |  0.2s"
       ]
      },
      {
       "output_type": "stream",
       "stream": "stdout",
       "text": [
        "\n",
        "   184  |  \u001b[94m  0.023010\u001b[0m  |  \u001b[32m  0.027744\u001b[0m  |     0.829393  |             |  0.2s"
       ]
      },
      {
       "output_type": "stream",
       "stream": "stdout",
       "text": [
        "\n",
        "   185  |  \u001b[94m  0.022981\u001b[0m  |  \u001b[32m  0.027732\u001b[0m  |     0.828665  |             |  0.2s"
       ]
      },
      {
       "output_type": "stream",
       "stream": "stdout",
       "text": [
        "\n",
        "   186  |  \u001b[94m  0.022952\u001b[0m  |  \u001b[32m  0.027722\u001b[0m  |     0.827933  |             |  0.2s"
       ]
      },
      {
       "output_type": "stream",
       "stream": "stdout",
       "text": [
        "\n",
        "   187  |  \u001b[94m  0.022922\u001b[0m  |  \u001b[32m  0.027711\u001b[0m  |     0.827201  |             |  0.2s"
       ]
      },
      {
       "output_type": "stream",
       "stream": "stdout",
       "text": [
        "\n",
        "   188  |  \u001b[94m  0.022893\u001b[0m  |  \u001b[32m  0.027700\u001b[0m  |     0.826469  |             |  0.2s"
       ]
      },
      {
       "output_type": "stream",
       "stream": "stdout",
       "text": [
        "\n",
        "   189  |  \u001b[94m  0.022864\u001b[0m  |  \u001b[32m  0.027689\u001b[0m  |     0.825738  |             |  0.2s"
       ]
      },
      {
       "output_type": "stream",
       "stream": "stdout",
       "text": [
        "\n",
        "   190  |  \u001b[94m  0.022835\u001b[0m  |  \u001b[32m  0.027678\u001b[0m  |     0.825010  |             |  0.2s"
       ]
      },
      {
       "output_type": "stream",
       "stream": "stdout",
       "text": [
        "\n",
        "   191  |  \u001b[94m  0.022806\u001b[0m  |  \u001b[32m  0.027668\u001b[0m  |     0.824282  |             |  0.2s"
       ]
      },
      {
       "output_type": "stream",
       "stream": "stdout",
       "text": [
        "\n",
        "   192  |  \u001b[94m  0.022777\u001b[0m  |  \u001b[32m  0.027657\u001b[0m  |     0.823556  |             |  0.2s"
       ]
      },
      {
       "output_type": "stream",
       "stream": "stdout",
       "text": [
        "\n",
        "   193  |  \u001b[94m  0.022748\u001b[0m  |  \u001b[32m  0.027646\u001b[0m  |     0.822831  |             |  0.2s"
       ]
      },
      {
       "output_type": "stream",
       "stream": "stdout",
       "text": [
        "\n",
        "   194  |  \u001b[94m  0.022719\u001b[0m  |  \u001b[32m  0.027635\u001b[0m  |     0.822117  |             |  0.2s"
       ]
      },
      {
       "output_type": "stream",
       "stream": "stdout",
       "text": [
        "\n",
        "   195  |  \u001b[94m  0.022691\u001b[0m  |  \u001b[32m  0.027625\u001b[0m  |     0.821387  |             |  0.2s"
       ]
      },
      {
       "output_type": "stream",
       "stream": "stdout",
       "text": [
        "\n",
        "   196  |  \u001b[94m  0.022662\u001b[0m  |  \u001b[32m  0.027614\u001b[0m  |     0.820667  |             |  0.2s"
       ]
      },
      {
       "output_type": "stream",
       "stream": "stdout",
       "text": [
        "\n",
        "   197  |  \u001b[94m  0.022633\u001b[0m  |  \u001b[32m  0.027603\u001b[0m  |     0.819946  |             |  0.2s"
       ]
      },
      {
       "output_type": "stream",
       "stream": "stdout",
       "text": [
        "\n",
        "   198  |  \u001b[94m  0.022605\u001b[0m  |  \u001b[32m  0.027593\u001b[0m  |     0.819228  |             |  0.2s"
       ]
      },
      {
       "output_type": "stream",
       "stream": "stdout",
       "text": [
        "\n",
        "   199  |  \u001b[94m  0.022576\u001b[0m  |  \u001b[32m  0.027582\u001b[0m  |     0.818511  |             |  0.2s"
       ]
      },
      {
       "output_type": "stream",
       "stream": "stdout",
       "text": [
        "\n",
        "   200  |  \u001b[94m  0.022548\u001b[0m  |  \u001b[32m  0.027572\u001b[0m  |     0.817791  |             |  0.2s"
       ]
      },
      {
       "output_type": "stream",
       "stream": "stdout",
       "text": [
        "\n",
        "   201  |  \u001b[94m  0.022520\u001b[0m  |  \u001b[32m  0.027562\u001b[0m  |     0.817070  |             |  0.2s"
       ]
      },
      {
       "output_type": "stream",
       "stream": "stdout",
       "text": [
        "\n",
        "   202  |  \u001b[94m  0.022492\u001b[0m  |  \u001b[32m  0.027551\u001b[0m  |     0.816352  |             |  0.2s"
       ]
      },
      {
       "output_type": "stream",
       "stream": "stdout",
       "text": [
        "\n",
        "   203  |  \u001b[94m  0.022463\u001b[0m  |  \u001b[32m  0.027541\u001b[0m  |     0.815631  |             |  0.2s"
       ]
      },
      {
       "output_type": "stream",
       "stream": "stdout",
       "text": [
        "\n",
        "   204  |  \u001b[94m  0.022435\u001b[0m  |  \u001b[32m  0.027531\u001b[0m  |     0.814916  |             |  0.2s"
       ]
      },
      {
       "output_type": "stream",
       "stream": "stdout",
       "text": [
        "\n",
        "   205  |  \u001b[94m  0.022407\u001b[0m  |  \u001b[32m  0.027521\u001b[0m  |     0.814195  |             |  0.2s"
       ]
      },
      {
       "output_type": "stream",
       "stream": "stdout",
       "text": [
        "\n",
        "   206  |  \u001b[94m  0.022379\u001b[0m  |  \u001b[32m  0.027510\u001b[0m  |     0.813481  |             |  0.2s"
       ]
      },
      {
       "output_type": "stream",
       "stream": "stdout",
       "text": [
        "\n",
        "   207  |  \u001b[94m  0.022351\u001b[0m  |  \u001b[32m  0.027500\u001b[0m  |     0.812760  |             |  0.2s"
       ]
      },
      {
       "output_type": "stream",
       "stream": "stdout",
       "text": [
        "\n",
        "   208  |  \u001b[94m  0.022323\u001b[0m  |  \u001b[32m  0.027490\u001b[0m  |     0.812045  |             |  0.2s"
       ]
      },
      {
       "output_type": "stream",
       "stream": "stdout",
       "text": [
        "\n",
        "   209  |  \u001b[94m  0.022295\u001b[0m  |  \u001b[32m  0.027480\u001b[0m  |     0.811324  |             |  0.2s"
       ]
      },
      {
       "output_type": "stream",
       "stream": "stdout",
       "text": [
        "\n",
        "   210  |  \u001b[94m  0.022267\u001b[0m  |  \u001b[32m  0.027470\u001b[0m  |     0.810605  |             |  0.2s"
       ]
      },
      {
       "output_type": "stream",
       "stream": "stdout",
       "text": [
        "\n",
        "   211  |  \u001b[94m  0.022239\u001b[0m  |  \u001b[32m  0.027460\u001b[0m  |     0.809893  |             |  0.2s"
       ]
      },
      {
       "output_type": "stream",
       "stream": "stdout",
       "text": [
        "\n",
        "   212  |  \u001b[94m  0.022212\u001b[0m  |  \u001b[32m  0.027450\u001b[0m  |     0.809178  |             |  0.2s"
       ]
      },
      {
       "output_type": "stream",
       "stream": "stdout",
       "text": [
        "\n",
        "   213  |  \u001b[94m  0.022184\u001b[0m  |  \u001b[32m  0.027440\u001b[0m  |     0.808460  |             |  0.2s"
       ]
      },
      {
       "output_type": "stream",
       "stream": "stdout",
       "text": [
        "\n",
        "   214  |  \u001b[94m  0.022156\u001b[0m  |  \u001b[32m  0.027430\u001b[0m  |     0.807752  |             |  0.2s"
       ]
      },
      {
       "output_type": "stream",
       "stream": "stdout",
       "text": [
        "\n",
        "   215  |  \u001b[94m  0.022129\u001b[0m  |  \u001b[32m  0.027420\u001b[0m  |     0.807041  |             |  0.2s"
       ]
      },
      {
       "output_type": "stream",
       "stream": "stdout",
       "text": [
        "\n",
        "   216  |  \u001b[94m  0.022101\u001b[0m  |  \u001b[32m  0.027410\u001b[0m  |     0.806328  |             |  0.2s"
       ]
      },
      {
       "output_type": "stream",
       "stream": "stdout",
       "text": [
        "\n",
        "   217  |  \u001b[94m  0.022074\u001b[0m  |  \u001b[32m  0.027400\u001b[0m  |     0.805615  |             |  0.2s"
       ]
      },
      {
       "output_type": "stream",
       "stream": "stdout",
       "text": [
        "\n",
        "   218  |  \u001b[94m  0.022046\u001b[0m  |  \u001b[32m  0.027390\u001b[0m  |     0.804902  |             |  0.2s"
       ]
      },
      {
       "output_type": "stream",
       "stream": "stdout",
       "text": [
        "\n",
        "   219  |  \u001b[94m  0.022019\u001b[0m  |  \u001b[32m  0.027380\u001b[0m  |     0.804194  |             |  0.2s"
       ]
      },
      {
       "output_type": "stream",
       "stream": "stdout",
       "text": [
        "\n",
        "   220  |  \u001b[94m  0.021992\u001b[0m  |  \u001b[32m  0.027371\u001b[0m  |     0.803485  |             |  0.2s"
       ]
      },
      {
       "output_type": "stream",
       "stream": "stdout",
       "text": [
        "\n",
        "   221  |  \u001b[94m  0.021965\u001b[0m  |  \u001b[32m  0.027361\u001b[0m  |     0.802767  |             |  0.2s"
       ]
      },
      {
       "output_type": "stream",
       "stream": "stdout",
       "text": [
        "\n",
        "   222  |  \u001b[94m  0.021938\u001b[0m  |  \u001b[32m  0.027352\u001b[0m  |     0.802058  |             |  0.2s"
       ]
      },
      {
       "output_type": "stream",
       "stream": "stdout",
       "text": [
        "\n",
        "   223  |  \u001b[94m  0.021910\u001b[0m  |  \u001b[32m  0.027342\u001b[0m  |     0.801343  |             |  0.2s"
       ]
      },
      {
       "output_type": "stream",
       "stream": "stdout",
       "text": [
        "\n",
        "   224  |  \u001b[94m  0.021883\u001b[0m  |  \u001b[32m  0.027333\u001b[0m  |     0.800636  |             |  0.2s"
       ]
      },
      {
       "output_type": "stream",
       "stream": "stdout",
       "text": [
        "\n",
        "   225  |  \u001b[94m  0.021856\u001b[0m  |  \u001b[32m  0.027323\u001b[0m  |     0.799924  |             |  0.2s"
       ]
      },
      {
       "output_type": "stream",
       "stream": "stdout",
       "text": [
        "\n",
        "   226  |  \u001b[94m  0.021830\u001b[0m  |  \u001b[32m  0.027314\u001b[0m  |     0.799216  |             |  0.2s"
       ]
      },
      {
       "output_type": "stream",
       "stream": "stdout",
       "text": [
        "\n",
        "   227  |  \u001b[94m  0.021803\u001b[0m  |  \u001b[32m  0.027304\u001b[0m  |     0.798506  |             |  0.2s"
       ]
      },
      {
       "output_type": "stream",
       "stream": "stdout",
       "text": [
        "\n",
        "   228  |  \u001b[94m  0.021776\u001b[0m  |  \u001b[32m  0.027295\u001b[0m  |     0.797797  |             |  0.2s"
       ]
      },
      {
       "output_type": "stream",
       "stream": "stdout",
       "text": [
        "\n",
        "   229  |  \u001b[94m  0.021749\u001b[0m  |  \u001b[32m  0.027286\u001b[0m  |     0.797087  |             |  0.2s"
       ]
      },
      {
       "output_type": "stream",
       "stream": "stdout",
       "text": [
        "\n",
        "   230  |  \u001b[94m  0.021723\u001b[0m  |  \u001b[32m  0.027277\u001b[0m  |     0.796381  |             |  0.2s"
       ]
      },
      {
       "output_type": "stream",
       "stream": "stdout",
       "text": [
        "\n",
        "   231  |  \u001b[94m  0.021696\u001b[0m  |  \u001b[32m  0.027268\u001b[0m  |     0.795669  |             |  0.2s"
       ]
      },
      {
       "output_type": "stream",
       "stream": "stdout",
       "text": [
        "\n",
        "   232  |  \u001b[94m  0.021669\u001b[0m  |  \u001b[32m  0.027258\u001b[0m  |     0.794967  |             |  0.2s"
       ]
      },
      {
       "output_type": "stream",
       "stream": "stdout",
       "text": [
        "\n",
        "   233  |  \u001b[94m  0.021643\u001b[0m  |  \u001b[32m  0.027249\u001b[0m  |     0.794264  |             |  0.2s"
       ]
      },
      {
       "output_type": "stream",
       "stream": "stdout",
       "text": [
        "\n",
        "   234  |  \u001b[94m  0.021617\u001b[0m  |  \u001b[32m  0.027240\u001b[0m  |     0.793558  |             |  0.2s"
       ]
      },
      {
       "output_type": "stream",
       "stream": "stdout",
       "text": [
        "\n",
        "   235  |  \u001b[94m  0.021590\u001b[0m  |  \u001b[32m  0.027231\u001b[0m  |     0.792854  |             |  0.2s"
       ]
      },
      {
       "output_type": "stream",
       "stream": "stdout",
       "text": [
        "\n",
        "   236  |  \u001b[94m  0.021564\u001b[0m  |  \u001b[32m  0.027222\u001b[0m  |     0.792152  |             |  0.2s"
       ]
      },
      {
       "output_type": "stream",
       "stream": "stdout",
       "text": [
        "\n",
        "   237  |  \u001b[94m  0.021538\u001b[0m  |  \u001b[32m  0.027213\u001b[0m  |     0.791449  |             |  0.2s"
       ]
      },
      {
       "output_type": "stream",
       "stream": "stdout",
       "text": [
        "\n",
        "   238  |  \u001b[94m  0.021511\u001b[0m  |  \u001b[32m  0.027204\u001b[0m  |     0.790745  |             |  0.2s"
       ]
      },
      {
       "output_type": "stream",
       "stream": "stdout",
       "text": [
        "\n",
        "   239  |  \u001b[94m  0.021485\u001b[0m  |  \u001b[32m  0.027195\u001b[0m  |     0.790043  |             |  0.2s"
       ]
      },
      {
       "output_type": "stream",
       "stream": "stdout",
       "text": [
        "\n",
        "   240  |  \u001b[94m  0.021459\u001b[0m  |  \u001b[32m  0.027186\u001b[0m  |     0.789344  |             |  0.2s"
       ]
      },
      {
       "output_type": "stream",
       "stream": "stdout",
       "text": [
        "\n",
        "   241  |  \u001b[94m  0.021433\u001b[0m  |  \u001b[32m  0.027177\u001b[0m  |     0.788638  |             |  0.2s"
       ]
      },
      {
       "output_type": "stream",
       "stream": "stdout",
       "text": [
        "\n",
        "   242  |  \u001b[94m  0.021407\u001b[0m  |  \u001b[32m  0.027169\u001b[0m  |     0.787938  |             |  0.2s"
       ]
      },
      {
       "output_type": "stream",
       "stream": "stdout",
       "text": [
        "\n",
        "   243  |  \u001b[94m  0.021381\u001b[0m  |  \u001b[32m  0.027160\u001b[0m  |     0.787242  |             |  0.2s"
       ]
      },
      {
       "output_type": "stream",
       "stream": "stdout",
       "text": [
        "\n",
        "   244  |  \u001b[94m  0.021356\u001b[0m  |  \u001b[32m  0.027151\u001b[0m  |     0.786552  |             |  0.2s"
       ]
      },
      {
       "output_type": "stream",
       "stream": "stdout",
       "text": [
        "\n",
        "   245  |  \u001b[94m  0.021330\u001b[0m  |  \u001b[32m  0.027142\u001b[0m  |     0.785860  |             |  0.2s"
       ]
      },
      {
       "output_type": "stream",
       "stream": "stdout",
       "text": [
        "\n",
        "   246  |  \u001b[94m  0.021304\u001b[0m  |  \u001b[32m  0.027134\u001b[0m  |     0.785163  |             |  0.2s"
       ]
      },
      {
       "output_type": "stream",
       "stream": "stdout",
       "text": [
        "\n",
        "   247  |  \u001b[94m  0.021279\u001b[0m  |  \u001b[32m  0.027125\u001b[0m  |     0.784468  |             |  0.2s"
       ]
      },
      {
       "output_type": "stream",
       "stream": "stdout",
       "text": [
        "\n",
        "   248  |  \u001b[94m  0.021253\u001b[0m  |  \u001b[32m  0.027116\u001b[0m  |     0.783780  |             |  0.2s"
       ]
      },
      {
       "output_type": "stream",
       "stream": "stdout",
       "text": [
        "\n",
        "   249  |  \u001b[94m  0.021228\u001b[0m  |  \u001b[32m  0.027108\u001b[0m  |     0.783083  |             |  0.2s"
       ]
      },
      {
       "output_type": "stream",
       "stream": "stdout",
       "text": [
        "\n",
        "   250  |  \u001b[94m  0.021202\u001b[0m  |  \u001b[32m  0.027099\u001b[0m  |     0.782391  |             |  0.2s"
       ]
      },
      {
       "output_type": "stream",
       "stream": "stdout",
       "text": [
        "\n",
        "   251  |  \u001b[94m  0.021177\u001b[0m  |  \u001b[32m  0.027091\u001b[0m  |     0.781700  |             |  0.2s"
       ]
      },
      {
       "output_type": "stream",
       "stream": "stdout",
       "text": [
        "\n",
        "   252  |  \u001b[94m  0.021152\u001b[0m  |  \u001b[32m  0.027082\u001b[0m  |     0.781012  |             |  0.2s"
       ]
      },
      {
       "output_type": "stream",
       "stream": "stdout",
       "text": [
        "\n",
        "   253  |  \u001b[94m  0.021126\u001b[0m  |  \u001b[32m  0.027074\u001b[0m  |     0.780316  |             |  0.2s"
       ]
      },
      {
       "output_type": "stream",
       "stream": "stdout",
       "text": [
        "\n",
        "   254  |  \u001b[94m  0.021101\u001b[0m  |  \u001b[32m  0.027066\u001b[0m  |     0.779628  |             |  0.2s"
       ]
      },
      {
       "output_type": "stream",
       "stream": "stdout",
       "text": [
        "\n",
        "   255  |  \u001b[94m  0.021076\u001b[0m  |  \u001b[32m  0.027058\u001b[0m  |     0.778941  |             |  0.2s"
       ]
      },
      {
       "output_type": "stream",
       "stream": "stdout",
       "text": [
        "\n",
        "   256  |  \u001b[94m  0.021051\u001b[0m  |  \u001b[32m  0.027050\u001b[0m  |     0.778247  |             |  0.2s"
       ]
      },
      {
       "output_type": "stream",
       "stream": "stdout",
       "text": [
        "\n",
        "   257  |  \u001b[94m  0.021026\u001b[0m  |  \u001b[32m  0.027041\u001b[0m  |     0.777563  |             |  0.2s"
       ]
      },
      {
       "output_type": "stream",
       "stream": "stdout",
       "text": [
        "\n",
        "   258  |  \u001b[94m  0.021001\u001b[0m  |  \u001b[32m  0.027033\u001b[0m  |     0.776880  |             |  0.2s"
       ]
      },
      {
       "output_type": "stream",
       "stream": "stdout",
       "text": [
        "\n",
        "   259  |  \u001b[94m  0.020977\u001b[0m  |  \u001b[32m  0.027025\u001b[0m  |     0.776187  |             |  0.2s"
       ]
      },
      {
       "output_type": "stream",
       "stream": "stdout",
       "text": [
        "\n",
        "   260  |  \u001b[94m  0.020952\u001b[0m  |  \u001b[32m  0.027017\u001b[0m  |     0.775500  |             |  0.2s"
       ]
      },
      {
       "output_type": "stream",
       "stream": "stdout",
       "text": [
        "\n",
        "   261  |  \u001b[94m  0.020927\u001b[0m  |  \u001b[32m  0.027009\u001b[0m  |     0.774811  |             |  0.2s"
       ]
      },
      {
       "output_type": "stream",
       "stream": "stdout",
       "text": [
        "\n",
        "   262  |  \u001b[94m  0.020903\u001b[0m  |  \u001b[32m  0.027002\u001b[0m  |     0.774125  |             |  0.2s"
       ]
      },
      {
       "output_type": "stream",
       "stream": "stdout",
       "text": [
        "\n",
        "   263  |  \u001b[94m  0.020878\u001b[0m  |  \u001b[32m  0.026994\u001b[0m  |     0.773436  |             |  0.2s"
       ]
      },
      {
       "output_type": "stream",
       "stream": "stdout",
       "text": [
        "\n",
        "   264  |  \u001b[94m  0.020854\u001b[0m  |  \u001b[32m  0.026986\u001b[0m  |     0.772748  |             |  0.2s"
       ]
      },
      {
       "output_type": "stream",
       "stream": "stdout",
       "text": [
        "\n",
        "   265  |  \u001b[94m  0.020829\u001b[0m  |  \u001b[32m  0.026978\u001b[0m  |     0.772063  |             |  0.2s"
       ]
      },
      {
       "output_type": "stream",
       "stream": "stdout",
       "text": [
        "\n",
        "   266  |  \u001b[94m  0.020805\u001b[0m  |  \u001b[32m  0.026971\u001b[0m  |     0.771374  |             |  0.2s"
       ]
      },
      {
       "output_type": "stream",
       "stream": "stdout",
       "text": [
        "\n",
        "   267  |  \u001b[94m  0.020780\u001b[0m  |  \u001b[32m  0.026963\u001b[0m  |     0.770694  |             |  0.2s"
       ]
      },
      {
       "output_type": "stream",
       "stream": "stdout",
       "text": [
        "\n",
        "   268  |  \u001b[94m  0.020756\u001b[0m  |  \u001b[32m  0.026955\u001b[0m  |     0.770015  |             |  0.2s"
       ]
      },
      {
       "output_type": "stream",
       "stream": "stdout",
       "text": [
        "\n",
        "   269  |  \u001b[94m  0.020732\u001b[0m  |  \u001b[32m  0.026948\u001b[0m  |     0.769328  |             |  0.2s"
       ]
      },
      {
       "output_type": "stream",
       "stream": "stdout",
       "text": [
        "\n",
        "   270  |  \u001b[94m  0.020708\u001b[0m  |  \u001b[32m  0.026940\u001b[0m  |     0.768649  |             |  0.2s"
       ]
      },
      {
       "output_type": "stream",
       "stream": "stdout",
       "text": [
        "\n",
        "   271  |  \u001b[94m  0.020684\u001b[0m  |  \u001b[32m  0.026933\u001b[0m  |     0.767966  |             |  0.2s"
       ]
      },
      {
       "output_type": "stream",
       "stream": "stdout",
       "text": [
        "\n",
        "   272  |  \u001b[94m  0.020659\u001b[0m  |  \u001b[32m  0.026925\u001b[0m  |     0.767288  |             |  0.2s"
       ]
      },
      {
       "output_type": "stream",
       "stream": "stdout",
       "text": [
        "\n",
        "   273  |  \u001b[94m  0.020635\u001b[0m  |  \u001b[32m  0.026918\u001b[0m  |     0.766608  |             |  0.2s"
       ]
      },
      {
       "output_type": "stream",
       "stream": "stdout",
       "text": [
        "\n",
        "   274  |  \u001b[94m  0.020612\u001b[0m  |  \u001b[32m  0.026910\u001b[0m  |     0.765942  |             |  0.2s"
       ]
      },
      {
       "output_type": "stream",
       "stream": "stdout",
       "text": [
        "\n",
        "   275  |  \u001b[94m  0.020588\u001b[0m  |  \u001b[32m  0.026903\u001b[0m  |     0.765257  |             |  0.2s"
       ]
      },
      {
       "output_type": "stream",
       "stream": "stdout",
       "text": [
        "\n",
        "   276  |  \u001b[94m  0.020564\u001b[0m  |  \u001b[32m  0.026895\u001b[0m  |     0.764592  |             |  0.2s"
       ]
      },
      {
       "output_type": "stream",
       "stream": "stdout",
       "text": [
        "\n",
        "   277  |  \u001b[94m  0.020540\u001b[0m  |  \u001b[32m  0.026888\u001b[0m  |     0.763917  |             |  0.2s"
       ]
      },
      {
       "output_type": "stream",
       "stream": "stdout",
       "text": [
        "\n",
        "   278  |  \u001b[94m  0.020517\u001b[0m  |  \u001b[32m  0.026881\u001b[0m  |     0.763248  |             |  0.2s"
       ]
      },
      {
       "output_type": "stream",
       "stream": "stdout",
       "text": [
        "\n",
        "   279  |  \u001b[94m  0.020493\u001b[0m  |  \u001b[32m  0.026873\u001b[0m  |     0.762573  |             |  0.2s"
       ]
      },
      {
       "output_type": "stream",
       "stream": "stdout",
       "text": [
        "\n",
        "   280  |  \u001b[94m  0.020469\u001b[0m  |  \u001b[32m  0.026866\u001b[0m  |     0.761899  |             |  0.2s"
       ]
      },
      {
       "output_type": "stream",
       "stream": "stdout",
       "text": [
        "\n",
        "   281  |  \u001b[94m  0.020446\u001b[0m  |  \u001b[32m  0.026859\u001b[0m  |     0.761229  |             |  0.2s"
       ]
      },
      {
       "output_type": "stream",
       "stream": "stdout",
       "text": [
        "\n",
        "   282  |  \u001b[94m  0.020422\u001b[0m  |  \u001b[32m  0.026852\u001b[0m  |     0.760558  |             |  0.2s"
       ]
      },
      {
       "output_type": "stream",
       "stream": "stdout",
       "text": [
        "\n",
        "   283  |  \u001b[94m  0.020399\u001b[0m  |  \u001b[32m  0.026845\u001b[0m  |     0.759889  |             |  0.2s"
       ]
      },
      {
       "output_type": "stream",
       "stream": "stdout",
       "text": [
        "\n",
        "   284  |  \u001b[94m  0.020376\u001b[0m  |  \u001b[32m  0.026838\u001b[0m  |     0.759218  |             |  0.2s"
       ]
      },
      {
       "output_type": "stream",
       "stream": "stdout",
       "text": [
        "\n",
        "   285  |  \u001b[94m  0.020353\u001b[0m  |  \u001b[32m  0.026831\u001b[0m  |     0.758549  |             |  0.2s"
       ]
      },
      {
       "output_type": "stream",
       "stream": "stdout",
       "text": [
        "\n",
        "   286  |  \u001b[94m  0.020329\u001b[0m  |  \u001b[32m  0.026824\u001b[0m  |     0.757882  |             |  0.2s"
       ]
      },
      {
       "output_type": "stream",
       "stream": "stdout",
       "text": [
        "\n",
        "   287  |  \u001b[94m  0.020306\u001b[0m  |  \u001b[32m  0.026817\u001b[0m  |     0.757219  |             |  0.2s"
       ]
      },
      {
       "output_type": "stream",
       "stream": "stdout",
       "text": [
        "\n",
        "   288  |  \u001b[94m  0.020283\u001b[0m  |  \u001b[32m  0.026810\u001b[0m  |     0.756558  |             |  0.2s"
       ]
      },
      {
       "output_type": "stream",
       "stream": "stdout",
       "text": [
        "\n",
        "   289  |  \u001b[94m  0.020260\u001b[0m  |  \u001b[32m  0.026803\u001b[0m  |     0.755893  |             |  0.2s"
       ]
      },
      {
       "output_type": "stream",
       "stream": "stdout",
       "text": [
        "\n",
        "   290  |  \u001b[94m  0.020237\u001b[0m  |  \u001b[32m  0.026796\u001b[0m  |     0.755237  |             |  0.2s"
       ]
      },
      {
       "output_type": "stream",
       "stream": "stdout",
       "text": [
        "\n",
        "   291  |  \u001b[94m  0.020214\u001b[0m  |  \u001b[32m  0.026789\u001b[0m  |     0.754582  |             |  0.2s"
       ]
      },
      {
       "output_type": "stream",
       "stream": "stdout",
       "text": [
        "\n",
        "   292  |  \u001b[94m  0.020191\u001b[0m  |  \u001b[32m  0.026782\u001b[0m  |     0.753919  |             |  0.2s"
       ]
      },
      {
       "output_type": "stream",
       "stream": "stdout",
       "text": [
        "\n",
        "   293  |  \u001b[94m  0.020169\u001b[0m  |  \u001b[32m  0.026775\u001b[0m  |     0.753259  |             |  0.2s"
       ]
      },
      {
       "output_type": "stream",
       "stream": "stdout",
       "text": [
        "\n",
        "   294  |  \u001b[94m  0.020146\u001b[0m  |  \u001b[32m  0.026769\u001b[0m  |     0.752601  |             |  0.2s"
       ]
      },
      {
       "output_type": "stream",
       "stream": "stdout",
       "text": [
        "\n",
        "   295  |  \u001b[94m  0.020123\u001b[0m  |  \u001b[32m  0.026762\u001b[0m  |     0.751944  |             |  0.2s"
       ]
      },
      {
       "output_type": "stream",
       "stream": "stdout",
       "text": [
        "\n",
        "   296  |  \u001b[94m  0.020101\u001b[0m  |  \u001b[32m  0.026755\u001b[0m  |     0.751291  |             |  0.2s"
       ]
      },
      {
       "output_type": "stream",
       "stream": "stdout",
       "text": [
        "\n",
        "   297  |  \u001b[94m  0.020078\u001b[0m  |  \u001b[32m  0.026748\u001b[0m  |     0.750635  |             |  0.2s"
       ]
      },
      {
       "output_type": "stream",
       "stream": "stdout",
       "text": [
        "\n",
        "   298  |  \u001b[94m  0.020056\u001b[0m  |  \u001b[32m  0.026742\u001b[0m  |     0.749980  |             |  0.2s"
       ]
      },
      {
       "output_type": "stream",
       "stream": "stdout",
       "text": [
        "\n",
        "   299  |  \u001b[94m  0.020033\u001b[0m  |  \u001b[32m  0.026735\u001b[0m  |     0.749330  |             |  0.2s"
       ]
      },
      {
       "output_type": "stream",
       "stream": "stdout",
       "text": [
        "\n",
        "   300  |  \u001b[94m  0.020011\u001b[0m  |  \u001b[32m  0.026728\u001b[0m  |     0.748681  |             |  0.2s"
       ]
      },
      {
       "output_type": "stream",
       "stream": "stdout",
       "text": [
        "\n",
        "   301  |  \u001b[94m  0.019989\u001b[0m  |  \u001b[32m  0.026722\u001b[0m  |     0.748024  |             |  0.2s"
       ]
      },
      {
       "output_type": "stream",
       "stream": "stdout",
       "text": [
        "\n",
        "   302  |  \u001b[94m  0.019966\u001b[0m  |  \u001b[32m  0.026715\u001b[0m  |     0.747377  |             |  0.2s"
       ]
      },
      {
       "output_type": "stream",
       "stream": "stdout",
       "text": [
        "\n",
        "   303  |  \u001b[94m  0.019944\u001b[0m  |  \u001b[32m  0.026709\u001b[0m  |     0.746726  |             |  0.2s"
       ]
      },
      {
       "output_type": "stream",
       "stream": "stdout",
       "text": [
        "\n",
        "   304  |  \u001b[94m  0.019922\u001b[0m  |  \u001b[32m  0.026702\u001b[0m  |     0.746076  |             |  0.2s"
       ]
      },
      {
       "output_type": "stream",
       "stream": "stdout",
       "text": [
        "\n",
        "   305  |  \u001b[94m  0.019900\u001b[0m  |  \u001b[32m  0.026696\u001b[0m  |     0.745430  |             |  0.2s"
       ]
      },
      {
       "output_type": "stream",
       "stream": "stdout",
       "text": [
        "\n",
        "   306  |  \u001b[94m  0.019878\u001b[0m  |  \u001b[32m  0.026689\u001b[0m  |     0.744783  |             |  0.2s"
       ]
      },
      {
       "output_type": "stream",
       "stream": "stdout",
       "text": [
        "\n",
        "   307  |  \u001b[94m  0.019856\u001b[0m  |  \u001b[32m  0.026683\u001b[0m  |     0.744134  |             |  0.2s"
       ]
      },
      {
       "output_type": "stream",
       "stream": "stdout",
       "text": [
        "\n",
        "   308  |  \u001b[94m  0.019834\u001b[0m  |  \u001b[32m  0.026677\u001b[0m  |     0.743482  |             |  0.2s"
       ]
      },
      {
       "output_type": "stream",
       "stream": "stdout",
       "text": [
        "\n",
        "   309  |  \u001b[94m  0.019812\u001b[0m  |  \u001b[32m  0.026671\u001b[0m  |     0.742836  |             |  0.2s"
       ]
      },
      {
       "output_type": "stream",
       "stream": "stdout",
       "text": [
        "\n",
        "   310  |  \u001b[94m  0.019790\u001b[0m  |  \u001b[32m  0.026664\u001b[0m  |     0.742190  |             |  0.2s"
       ]
      },
      {
       "output_type": "stream",
       "stream": "stdout",
       "text": [
        "\n",
        "   311  |  \u001b[94m  0.019768\u001b[0m  |  \u001b[32m  0.026658\u001b[0m  |     0.741542  |             |  0.2s"
       ]
      },
      {
       "output_type": "stream",
       "stream": "stdout",
       "text": [
        "\n",
        "   312  |  \u001b[94m  0.019746\u001b[0m  |  \u001b[32m  0.026652\u001b[0m  |     0.740896  |             |  0.2s"
       ]
      },
      {
       "output_type": "stream",
       "stream": "stdout",
       "text": [
        "\n",
        "   313  |  \u001b[94m  0.019725\u001b[0m  |  \u001b[32m  0.026646\u001b[0m  |     0.740248  |             |  0.2s"
       ]
      },
      {
       "output_type": "stream",
       "stream": "stdout",
       "text": [
        "\n",
        "   314  |  \u001b[94m  0.019703\u001b[0m  |  \u001b[32m  0.026641\u001b[0m  |     0.739594  |             |  0.2s"
       ]
      },
      {
       "output_type": "stream",
       "stream": "stdout",
       "text": [
        "\n",
        "   315  |  \u001b[94m  0.019682\u001b[0m  |  \u001b[32m  0.026635\u001b[0m  |     0.738950  |             |  0.2s"
       ]
      },
      {
       "output_type": "stream",
       "stream": "stdout",
       "text": [
        "\n",
        "   316  |  \u001b[94m  0.019660\u001b[0m  |  \u001b[32m  0.026629\u001b[0m  |     0.738311  |             |  0.2s"
       ]
      },
      {
       "output_type": "stream",
       "stream": "stdout",
       "text": [
        "\n",
        "   317  |  \u001b[94m  0.019639\u001b[0m  |  \u001b[32m  0.026623\u001b[0m  |     0.737664  |             |  0.2s"
       ]
      },
      {
       "output_type": "stream",
       "stream": "stdout",
       "text": [
        "\n",
        "   318  |  \u001b[94m  0.019617\u001b[0m  |  \u001b[32m  0.026617\u001b[0m  |     0.737025  |             |  0.2s"
       ]
      },
      {
       "output_type": "stream",
       "stream": "stdout",
       "text": [
        "\n",
        "   319  |  \u001b[94m  0.019596\u001b[0m  |  \u001b[32m  0.026611\u001b[0m  |     0.736380  |             |  0.2s"
       ]
      },
      {
       "output_type": "stream",
       "stream": "stdout",
       "text": [
        "\n",
        "   320  |  \u001b[94m  0.019574\u001b[0m  |  \u001b[32m  0.026605\u001b[0m  |     0.735740  |             |  0.2s"
       ]
      },
      {
       "output_type": "stream",
       "stream": "stdout",
       "text": [
        "\n",
        "   321  |  \u001b[94m  0.019553\u001b[0m  |  \u001b[32m  0.026599\u001b[0m  |     0.735100  |             |  0.2s"
       ]
      },
      {
       "output_type": "stream",
       "stream": "stdout",
       "text": [
        "\n",
        "   322  |  \u001b[94m  0.019532\u001b[0m  |  \u001b[32m  0.026594\u001b[0m  |     0.734458  |             |  0.2s"
       ]
      },
      {
       "output_type": "stream",
       "stream": "stdout",
       "text": [
        "\n",
        "   323  |  \u001b[94m  0.019511\u001b[0m  |  \u001b[32m  0.026588\u001b[0m  |     0.733819  |             |  0.2s"
       ]
      },
      {
       "output_type": "stream",
       "stream": "stdout",
       "text": [
        "\n",
        "   324  |  \u001b[94m  0.019490\u001b[0m  |  \u001b[32m  0.026582\u001b[0m  |     0.733180  |             |  0.2s"
       ]
      },
      {
       "output_type": "stream",
       "stream": "stdout",
       "text": [
        "\n",
        "   325  |  \u001b[94m  0.019468\u001b[0m  |  \u001b[32m  0.026577\u001b[0m  |     0.732544  |             |  0.2s"
       ]
      },
      {
       "output_type": "stream",
       "stream": "stdout",
       "text": [
        "\n",
        "   326  |  \u001b[94m  0.019447\u001b[0m  |  \u001b[32m  0.026571\u001b[0m  |     0.731901  |             |  0.2s"
       ]
      },
      {
       "output_type": "stream",
       "stream": "stdout",
       "text": [
        "\n",
        "   327  |  \u001b[94m  0.019426\u001b[0m  |  \u001b[32m  0.026565\u001b[0m  |     0.731270  |             |  0.2s"
       ]
      },
      {
       "output_type": "stream",
       "stream": "stdout",
       "text": [
        "\n",
        "   328  |  \u001b[94m  0.019405\u001b[0m  |  \u001b[32m  0.026560\u001b[0m  |     0.730632  |             |  0.2s"
       ]
      },
      {
       "output_type": "stream",
       "stream": "stdout",
       "text": [
        "\n",
        "   329  |  \u001b[94m  0.019384\u001b[0m  |  \u001b[32m  0.026554\u001b[0m  |     0.729999  |             |  0.2s"
       ]
      },
      {
       "output_type": "stream",
       "stream": "stdout",
       "text": [
        "\n",
        "   330  |  \u001b[94m  0.019364\u001b[0m  |  \u001b[32m  0.026549\u001b[0m  |     0.729365  |             |  0.2s"
       ]
      },
      {
       "output_type": "stream",
       "stream": "stdout",
       "text": [
        "\n",
        "   331  |  \u001b[94m  0.019343\u001b[0m  |  \u001b[32m  0.026543\u001b[0m  |     0.728725  |             |  0.2s"
       ]
      },
      {
       "output_type": "stream",
       "stream": "stdout",
       "text": [
        "\n",
        "   332  |  \u001b[94m  0.019322\u001b[0m  |  \u001b[32m  0.026538\u001b[0m  |     0.728094  |             |  0.2s"
       ]
      },
      {
       "output_type": "stream",
       "stream": "stdout",
       "text": [
        "\n",
        "   333  |  \u001b[94m  0.019301\u001b[0m  |  \u001b[32m  0.026532\u001b[0m  |     0.727468  |             |  0.2s"
       ]
      },
      {
       "output_type": "stream",
       "stream": "stdout",
       "text": [
        "\n",
        "   334  |  \u001b[94m  0.019281\u001b[0m  |  \u001b[32m  0.026527\u001b[0m  |     0.726837  |             |  0.2s"
       ]
      },
      {
       "output_type": "stream",
       "stream": "stdout",
       "text": [
        "\n",
        "   335  |  \u001b[94m  0.019260\u001b[0m  |  \u001b[32m  0.026521\u001b[0m  |     0.726211  |             |  0.2s"
       ]
      },
      {
       "output_type": "stream",
       "stream": "stdout",
       "text": [
        "\n",
        "   336  |  \u001b[94m  0.019239\u001b[0m  |  \u001b[32m  0.026516\u001b[0m  |     0.725586  |             |  0.2s"
       ]
      },
      {
       "output_type": "stream",
       "stream": "stdout",
       "text": [
        "\n",
        "   337  |  \u001b[94m  0.019219\u001b[0m  |  \u001b[32m  0.026511\u001b[0m  |     0.724952  |             |  0.2s"
       ]
      },
      {
       "output_type": "stream",
       "stream": "stdout",
       "text": [
        "\n",
        "   338  |  \u001b[94m  0.019198\u001b[0m  |  \u001b[32m  0.026505\u001b[0m  |     0.724333  |             |  0.2s"
       ]
      },
      {
       "output_type": "stream",
       "stream": "stdout",
       "text": [
        "\n",
        "   339  |  \u001b[94m  0.019178\u001b[0m  |  \u001b[32m  0.026500\u001b[0m  |     0.723699  |             |  0.2s"
       ]
      },
      {
       "output_type": "stream",
       "stream": "stdout",
       "text": [
        "\n",
        "   340  |  \u001b[94m  0.019158\u001b[0m  |  \u001b[32m  0.026495\u001b[0m  |     0.723080  |             |  0.2s"
       ]
      },
      {
       "output_type": "stream",
       "stream": "stdout",
       "text": [
        "\n",
        "   341  |  \u001b[94m  0.019137\u001b[0m  |  \u001b[32m  0.026489\u001b[0m  |     0.722454  |             |  0.2s"
       ]
      },
      {
       "output_type": "stream",
       "stream": "stdout",
       "text": [
        "\n",
        "   342  |  \u001b[94m  0.019117\u001b[0m  |  \u001b[32m  0.026484\u001b[0m  |     0.721832  |             |  0.2s"
       ]
      },
      {
       "output_type": "stream",
       "stream": "stdout",
       "text": [
        "\n",
        "   343  |  \u001b[94m  0.019097\u001b[0m  |  \u001b[32m  0.026479\u001b[0m  |     0.721207  |             |  0.2s"
       ]
      },
      {
       "output_type": "stream",
       "stream": "stdout",
       "text": [
        "\n",
        "   344  |  \u001b[94m  0.019077\u001b[0m  |  \u001b[32m  0.026474\u001b[0m  |     0.720580  |             |  0.2s"
       ]
      },
      {
       "output_type": "stream",
       "stream": "stdout",
       "text": [
        "\n",
        "   345  |  \u001b[94m  0.019057\u001b[0m  |  \u001b[32m  0.026469\u001b[0m  |     0.719957  |             |  0.2s"
       ]
      },
      {
       "output_type": "stream",
       "stream": "stdout",
       "text": [
        "\n",
        "   346  |  \u001b[94m  0.019037\u001b[0m  |  \u001b[32m  0.026464\u001b[0m  |     0.719333  |             |  0.2s"
       ]
      },
      {
       "output_type": "stream",
       "stream": "stdout",
       "text": [
        "\n",
        "   347  |  \u001b[94m  0.019016\u001b[0m  |  \u001b[32m  0.026459\u001b[0m  |     0.718714  |             |  0.2s"
       ]
      },
      {
       "output_type": "stream",
       "stream": "stdout",
       "text": [
        "\n",
        "   348  |  \u001b[94m  0.018996\u001b[0m  |  \u001b[32m  0.026454\u001b[0m  |     0.718092  |             |  0.3s"
       ]
      },
      {
       "output_type": "stream",
       "stream": "stdout",
       "text": [
        "\n",
        "   349  |  \u001b[94m  0.018976\u001b[0m  |  \u001b[32m  0.026449\u001b[0m  |     0.717465  |             |  0.3s"
       ]
      },
      {
       "output_type": "stream",
       "stream": "stdout",
       "text": [
        "\n",
        "   350  |  \u001b[94m  0.018957\u001b[0m  |  \u001b[32m  0.026444\u001b[0m  |     0.716851  |             |  0.3s"
       ]
      },
      {
       "output_type": "stream",
       "stream": "stdout",
       "text": [
        "\n",
        "   351  |  \u001b[94m  0.018937\u001b[0m  |  \u001b[32m  0.026440\u001b[0m  |     0.716229  |             |  0.3s"
       ]
      },
      {
       "output_type": "stream",
       "stream": "stdout",
       "text": [
        "\n",
        "   352  |  \u001b[94m  0.018917\u001b[0m  |  \u001b[32m  0.026435\u001b[0m  |     0.715609  |             |  0.3s"
       ]
      },
      {
       "output_type": "stream",
       "stream": "stdout",
       "text": [
        "\n",
        "   353  |  \u001b[94m  0.018897\u001b[0m  |  \u001b[32m  0.026430\u001b[0m  |     0.714995  |             |  0.3s"
       ]
      },
      {
       "output_type": "stream",
       "stream": "stdout",
       "text": [
        "\n",
        "   354  |  \u001b[94m  0.018878\u001b[0m  |  \u001b[32m  0.026425\u001b[0m  |     0.714377  |             |  0.3s"
       ]
      },
      {
       "output_type": "stream",
       "stream": "stdout",
       "text": [
        "\n",
        "   355  |  \u001b[94m  0.018858\u001b[0m  |  \u001b[32m  0.026421\u001b[0m  |     0.713753  |             |  0.3s"
       ]
      },
      {
       "output_type": "stream",
       "stream": "stdout",
       "text": [
        "\n",
        "   356  |  \u001b[94m  0.018838\u001b[0m  |  \u001b[32m  0.026416\u001b[0m  |     0.713141  |             |  0.3s"
       ]
      },
      {
       "output_type": "stream",
       "stream": "stdout",
       "text": [
        "\n",
        "   357  |  \u001b[94m  0.018819\u001b[0m  |  \u001b[32m  0.026411\u001b[0m  |     0.712529  |             |  0.3s"
       ]
      },
      {
       "output_type": "stream",
       "stream": "stdout",
       "text": [
        "\n",
        "   358  |  \u001b[94m  0.018799\u001b[0m  |  \u001b[32m  0.026406\u001b[0m  |     0.711912  |             |  0.3s"
       ]
      },
      {
       "output_type": "stream",
       "stream": "stdout",
       "text": [
        "\n",
        "   359  |  \u001b[94m  0.018779\u001b[0m  |  \u001b[32m  0.026402\u001b[0m  |     0.711295  |             |  0.3s"
       ]
      },
      {
       "output_type": "stream",
       "stream": "stdout",
       "text": [
        "\n",
        "   360  |  \u001b[94m  0.018760\u001b[0m  |  \u001b[32m  0.026397\u001b[0m  |     0.710677  |             |  0.3s"
       ]
      },
      {
       "output_type": "stream",
       "stream": "stdout",
       "text": [
        "\n",
        "   361  |  \u001b[94m  0.018740\u001b[0m  |  \u001b[32m  0.026392\u001b[0m  |     0.710065  |             |  0.3s"
       ]
      },
      {
       "output_type": "stream",
       "stream": "stdout",
       "text": [
        "\n",
        "   362  |  \u001b[94m  0.018721\u001b[0m  |  \u001b[32m  0.026388\u001b[0m  |     0.709449  |             |  0.3s"
       ]
      },
      {
       "output_type": "stream",
       "stream": "stdout",
       "text": [
        "\n",
        "   363  |  \u001b[94m  0.018701\u001b[0m  |  \u001b[32m  0.026383\u001b[0m  |     0.708837  |             |  0.3s"
       ]
      },
      {
       "output_type": "stream",
       "stream": "stdout",
       "text": [
        "\n",
        "   364  |  \u001b[94m  0.018682\u001b[0m  |  \u001b[32m  0.026379\u001b[0m  |     0.708229  |             |  0.3s"
       ]
      },
      {
       "output_type": "stream",
       "stream": "stdout",
       "text": [
        "\n",
        "   365  |  \u001b[94m  0.018663\u001b[0m  |  \u001b[32m  0.026374\u001b[0m  |     0.707614  |             |  0.3s"
       ]
      },
      {
       "output_type": "stream",
       "stream": "stdout",
       "text": [
        "\n",
        "   366  |  \u001b[94m  0.018643\u001b[0m  |  \u001b[32m  0.026370\u001b[0m  |     0.707005  |             |  0.3s"
       ]
      },
      {
       "output_type": "stream",
       "stream": "stdout",
       "text": [
        "\n",
        "   367  |  \u001b[94m  0.018624\u001b[0m  |  \u001b[32m  0.026365\u001b[0m  |     0.706395  |             |  0.3s"
       ]
      },
      {
       "output_type": "stream",
       "stream": "stdout",
       "text": [
        "\n",
        "   368  |  \u001b[94m  0.018605\u001b[0m  |  \u001b[32m  0.026360\u001b[0m  |     0.705788  |             |  0.3s"
       ]
      },
      {
       "output_type": "stream",
       "stream": "stdout",
       "text": [
        "\n",
        "   369  |  \u001b[94m  0.018586\u001b[0m  |  \u001b[32m  0.026356\u001b[0m  |     0.705175  |             |  0.3s"
       ]
      },
      {
       "output_type": "stream",
       "stream": "stdout",
       "text": [
        "\n",
        "   370  |  \u001b[94m  0.018567\u001b[0m  |  \u001b[32m  0.026352\u001b[0m  |     0.704567  |             |  0.3s"
       ]
      },
      {
       "output_type": "stream",
       "stream": "stdout",
       "text": [
        "\n",
        "   371  |  \u001b[94m  0.018547\u001b[0m  |  \u001b[32m  0.026347\u001b[0m  |     0.703960  |             |  0.3s"
       ]
      },
      {
       "output_type": "stream",
       "stream": "stdout",
       "text": [
        "\n",
        "   372  |  \u001b[94m  0.018528\u001b[0m  |  \u001b[32m  0.026343\u001b[0m  |     0.703358  |             |  0.3s"
       ]
      },
      {
       "output_type": "stream",
       "stream": "stdout",
       "text": [
        "\n",
        "   373  |  \u001b[94m  0.018509\u001b[0m  |  \u001b[32m  0.026338\u001b[0m  |     0.702754  |             |  0.3s"
       ]
      },
      {
       "output_type": "stream",
       "stream": "stdout",
       "text": [
        "\n",
        "   374  |  \u001b[94m  0.018490\u001b[0m  |  \u001b[32m  0.026334\u001b[0m  |     0.702150  |             |  0.3s"
       ]
      },
      {
       "output_type": "stream",
       "stream": "stdout",
       "text": [
        "\n",
        "   375  |  \u001b[94m  0.018471\u001b[0m  |  \u001b[32m  0.026330\u001b[0m  |     0.701546  |             |  0.3s"
       ]
      },
      {
       "output_type": "stream",
       "stream": "stdout",
       "text": [
        "\n",
        "   376  |  \u001b[94m  0.018453\u001b[0m  |  \u001b[32m  0.026325\u001b[0m  |     0.700948  |             |  0.3s"
       ]
      },
      {
       "output_type": "stream",
       "stream": "stdout",
       "text": [
        "\n",
        "   377  |  \u001b[94m  0.018434\u001b[0m  |  \u001b[32m  0.026321\u001b[0m  |     0.700340  |             |  0.3s"
       ]
      },
      {
       "output_type": "stream",
       "stream": "stdout",
       "text": [
        "\n",
        "   378  |  \u001b[94m  0.018415\u001b[0m  |  \u001b[32m  0.026317\u001b[0m  |     0.699732  |             |  0.3s"
       ]
      },
      {
       "output_type": "stream",
       "stream": "stdout",
       "text": [
        "\n",
        "   379  |  \u001b[94m  0.018396\u001b[0m  |  \u001b[32m  0.026313\u001b[0m  |     0.699130  |             |  0.3s"
       ]
      },
      {
       "output_type": "stream",
       "stream": "stdout",
       "text": [
        "\n",
        "   380  |  \u001b[94m  0.018377\u001b[0m  |  \u001b[32m  0.026308\u001b[0m  |     0.698539  |             |  0.3s"
       ]
      },
      {
       "output_type": "stream",
       "stream": "stdout",
       "text": [
        "\n",
        "   381  |  \u001b[94m  0.018359\u001b[0m  |  \u001b[32m  0.026304\u001b[0m  |     0.697936  |             |  0.3s"
       ]
      },
      {
       "output_type": "stream",
       "stream": "stdout",
       "text": [
        "\n",
        "   382  |  \u001b[94m  0.018340\u001b[0m  |  \u001b[32m  0.026300\u001b[0m  |     0.697332  |             |  0.3s"
       ]
      },
      {
       "output_type": "stream",
       "stream": "stdout",
       "text": [
        "\n",
        "   383  |  \u001b[94m  0.018322\u001b[0m  |  \u001b[32m  0.026296\u001b[0m  |     0.696733  |             |  0.3s"
       ]
      },
      {
       "output_type": "stream",
       "stream": "stdout",
       "text": [
        "\n",
        "   384  |  \u001b[94m  0.018303\u001b[0m  |  \u001b[32m  0.026292\u001b[0m  |     0.696139  |             |  0.3s"
       ]
      },
      {
       "output_type": "stream",
       "stream": "stdout",
       "text": [
        "\n",
        "   385  |  \u001b[94m  0.018284\u001b[0m  |  \u001b[32m  0.026288\u001b[0m  |     0.695540  |             |  0.3s"
       ]
      },
      {
       "output_type": "stream",
       "stream": "stdout",
       "text": [
        "\n",
        "   386  |  \u001b[94m  0.018266\u001b[0m  |  \u001b[32m  0.026284\u001b[0m  |     0.694946  |             |  0.3s"
       ]
      },
      {
       "output_type": "stream",
       "stream": "stdout",
       "text": [
        "\n",
        "   387  |  \u001b[94m  0.018248\u001b[0m  |  \u001b[32m  0.026280\u001b[0m  |     0.694345  |             |  0.3s"
       ]
      },
      {
       "output_type": "stream",
       "stream": "stdout",
       "text": [
        "\n",
        "   388  |  \u001b[94m  0.018229\u001b[0m  |  \u001b[32m  0.026277\u001b[0m  |     0.693743  |             |  0.3s"
       ]
      },
      {
       "output_type": "stream",
       "stream": "stdout",
       "text": [
        "\n",
        "   389  |  \u001b[94m  0.018211\u001b[0m  |  \u001b[32m  0.026273\u001b[0m  |     0.693151  |             |  0.3s"
       ]
      },
      {
       "output_type": "stream",
       "stream": "stdout",
       "text": [
        "\n",
        "   390  |  \u001b[94m  0.018193\u001b[0m  |  \u001b[32m  0.026269\u001b[0m  |     0.692554  |             |  0.3s"
       ]
      },
      {
       "output_type": "stream",
       "stream": "stdout",
       "text": [
        "\n",
        "   391  |  \u001b[94m  0.018174\u001b[0m  |  \u001b[32m  0.026265\u001b[0m  |     0.691961  |             |  0.3s"
       ]
      },
      {
       "output_type": "stream",
       "stream": "stdout",
       "text": [
        "\n",
        "   392  |  \u001b[94m  0.018156\u001b[0m  |  \u001b[32m  0.026261\u001b[0m  |     0.691371  |             |  0.3s"
       ]
      },
      {
       "output_type": "stream",
       "stream": "stdout",
       "text": [
        "\n",
        "   393  |  \u001b[94m  0.018138\u001b[0m  |  \u001b[32m  0.026257\u001b[0m  |     0.690776  |             |  0.3s"
       ]
      },
      {
       "output_type": "stream",
       "stream": "stdout",
       "text": [
        "\n",
        "   394  |  \u001b[94m  0.018120\u001b[0m  |  \u001b[32m  0.026253\u001b[0m  |     0.690182  |             |  0.3s"
       ]
      },
      {
       "output_type": "stream",
       "stream": "stdout",
       "text": [
        "\n",
        "   395  |  \u001b[94m  0.018102\u001b[0m  |  \u001b[32m  0.026250\u001b[0m  |     0.689589  |             |  0.3s"
       ]
      },
      {
       "output_type": "stream",
       "stream": "stdout",
       "text": [
        "\n",
        "   396  |  \u001b[94m  0.018084\u001b[0m  |  \u001b[32m  0.026246\u001b[0m  |     0.688999  |             |  0.3s"
       ]
      },
      {
       "output_type": "stream",
       "stream": "stdout",
       "text": [
        "\n",
        "   397  |  \u001b[94m  0.018066\u001b[0m  |  \u001b[32m  0.026242\u001b[0m  |     0.688412  |             |  0.3s"
       ]
      },
      {
       "output_type": "stream",
       "stream": "stdout",
       "text": [
        "\n",
        "   398  |  \u001b[94m  0.018048\u001b[0m  |  \u001b[32m  0.026239\u001b[0m  |     0.687826  |             |  0.3s"
       ]
      },
      {
       "output_type": "stream",
       "stream": "stdout",
       "text": [
        "\n",
        "   399  |  \u001b[94m  0.018030\u001b[0m  |  \u001b[32m  0.026235\u001b[0m  |     0.687239  |             |  0.3s"
       ]
      },
      {
       "output_type": "stream",
       "stream": "stdout",
       "text": [
        "\n",
        "   400  |  \u001b[94m  0.018012\u001b[0m  |  \u001b[32m  0.026231\u001b[0m  |     0.686651  |             |  0.3s"
       ]
      },
      {
       "output_type": "stream",
       "stream": "stdout",
       "text": [
        "\n",
        "   401  |  \u001b[94m  0.017994\u001b[0m  |  \u001b[32m  0.026228\u001b[0m  |     0.686065  |             |  0.3s"
       ]
      },
      {
       "output_type": "stream",
       "stream": "stdout",
       "text": [
        "\n",
        "   402  |  \u001b[94m  0.017976\u001b[0m  |  \u001b[32m  0.026224\u001b[0m  |     0.685474  |             |  0.3s"
       ]
      },
      {
       "output_type": "stream",
       "stream": "stdout",
       "text": [
        "\n",
        "   403  |  \u001b[94m  0.017958\u001b[0m  |  \u001b[32m  0.026220\u001b[0m  |     0.684903  |             |  0.3s"
       ]
      },
      {
       "output_type": "stream",
       "stream": "stdout",
       "text": [
        "\n",
        "   404  |  \u001b[94m  0.017940\u001b[0m  |  \u001b[32m  0.026217\u001b[0m  |     0.684315  |             |  0.3s"
       ]
      },
      {
       "output_type": "stream",
       "stream": "stdout",
       "text": [
        "\n",
        "   405  |  \u001b[94m  0.017923\u001b[0m  |  \u001b[32m  0.026213\u001b[0m  |     0.683735  |             |  0.3s"
       ]
      },
      {
       "output_type": "stream",
       "stream": "stdout",
       "text": [
        "\n",
        "   406  |  \u001b[94m  0.017905\u001b[0m  |  \u001b[32m  0.026210\u001b[0m  |     0.683148  |             |  0.3s"
       ]
      },
      {
       "output_type": "stream",
       "stream": "stdout",
       "text": [
        "\n",
        "   407  |  \u001b[94m  0.017887\u001b[0m  |  \u001b[32m  0.026206\u001b[0m  |     0.682571  |             |  0.3s"
       ]
      },
      {
       "output_type": "stream",
       "stream": "stdout",
       "text": [
        "\n",
        "   408  |  \u001b[94m  0.017870\u001b[0m  |  \u001b[32m  0.026202\u001b[0m  |     0.681993  |             |  0.3s"
       ]
      },
      {
       "output_type": "stream",
       "stream": "stdout",
       "text": [
        "\n",
        "   409  |  \u001b[94m  0.017852\u001b[0m  |  \u001b[32m  0.026199\u001b[0m  |     0.681412  |             |  0.3s"
       ]
      },
      {
       "output_type": "stream",
       "stream": "stdout",
       "text": [
        "\n",
        "   410  |  \u001b[94m  0.017834\u001b[0m  |  \u001b[32m  0.026195\u001b[0m  |     0.680834  |             |  0.3s"
       ]
      },
      {
       "output_type": "stream",
       "stream": "stdout",
       "text": [
        "\n",
        "   411  |  \u001b[94m  0.017817\u001b[0m  |  \u001b[32m  0.026191\u001b[0m  |     0.680260  |             |  0.3s"
       ]
      },
      {
       "output_type": "stream",
       "stream": "stdout",
       "text": [
        "\n",
        "   412  |  \u001b[94m  0.017799\u001b[0m  |  \u001b[32m  0.026188\u001b[0m  |     0.679675  |             |  0.3s"
       ]
      },
      {
       "output_type": "stream",
       "stream": "stdout",
       "text": [
        "\n",
        "   413  |  \u001b[94m  0.017782\u001b[0m  |  \u001b[32m  0.026185\u001b[0m  |     0.679100  |             |  0.3s"
       ]
      },
      {
       "output_type": "stream",
       "stream": "stdout",
       "text": [
        "\n",
        "   414  |  \u001b[94m  0.017764\u001b[0m  |  \u001b[32m  0.026181\u001b[0m  |     0.678523  |             |  0.3s"
       ]
      },
      {
       "output_type": "stream",
       "stream": "stdout",
       "text": [
        "\n",
        "   415  |  \u001b[94m  0.017747\u001b[0m  |  \u001b[32m  0.026177\u001b[0m  |     0.677954  |             |  0.3s"
       ]
      },
      {
       "output_type": "stream",
       "stream": "stdout",
       "text": [
        "\n",
        "   416  |  \u001b[94m  0.017730\u001b[0m  |  \u001b[32m  0.026174\u001b[0m  |     0.677373  |             |  0.3s"
       ]
      },
      {
       "output_type": "stream",
       "stream": "stdout",
       "text": [
        "\n",
        "   417  |  \u001b[94m  0.017712\u001b[0m  |  \u001b[32m  0.026171\u001b[0m  |     0.676801  |             |  0.3s"
       ]
      },
      {
       "output_type": "stream",
       "stream": "stdout",
       "text": [
        "\n",
        "   418  |  \u001b[94m  0.017695\u001b[0m  |  \u001b[32m  0.026167\u001b[0m  |     0.676222  |             |  0.3s"
       ]
      },
      {
       "output_type": "stream",
       "stream": "stdout",
       "text": [
        "\n",
        "   419  |  \u001b[94m  0.017678\u001b[0m  |  \u001b[32m  0.026164\u001b[0m  |     0.675647  |             |  0.3s"
       ]
      },
      {
       "output_type": "stream",
       "stream": "stdout",
       "text": [
        "\n",
        "   420  |  \u001b[94m  0.017660\u001b[0m  |  \u001b[32m  0.026161\u001b[0m  |     0.675077  |             |  0.3s"
       ]
      },
      {
       "output_type": "stream",
       "stream": "stdout",
       "text": [
        "\n",
        "   421  |  \u001b[94m  0.017643\u001b[0m  |  \u001b[32m  0.026157\u001b[0m  |     0.674507  |             |  0.3s"
       ]
      },
      {
       "output_type": "stream",
       "stream": "stdout",
       "text": [
        "\n",
        "   422  |  \u001b[94m  0.017626\u001b[0m  |  \u001b[32m  0.026154\u001b[0m  |     0.673936  |             |  0.3s"
       ]
      },
      {
       "output_type": "stream",
       "stream": "stdout",
       "text": [
        "\n",
        "   423  |  \u001b[94m  0.017609\u001b[0m  |  \u001b[32m  0.026150\u001b[0m  |     0.673369  |             |  0.3s"
       ]
      },
      {
       "output_type": "stream",
       "stream": "stdout",
       "text": [
        "\n",
        "   424  |  \u001b[94m  0.017592\u001b[0m  |  \u001b[32m  0.026147\u001b[0m  |     0.672799  |             |  0.3s"
       ]
      },
      {
       "output_type": "stream",
       "stream": "stdout",
       "text": [
        "\n",
        "   425  |  \u001b[94m  0.017575\u001b[0m  |  \u001b[32m  0.026144\u001b[0m  |     0.672228  |             |  0.3s"
       ]
      },
      {
       "output_type": "stream",
       "stream": "stdout",
       "text": [
        "\n",
        "   426  |  \u001b[94m  0.017558\u001b[0m  |  \u001b[32m  0.026141\u001b[0m  |     0.671651  |             |  0.3s"
       ]
      },
      {
       "output_type": "stream",
       "stream": "stdout",
       "text": [
        "\n",
        "   427  |  \u001b[94m  0.017541\u001b[0m  |  \u001b[32m  0.026137\u001b[0m  |     0.671087  |             |  0.3s"
       ]
      },
      {
       "output_type": "stream",
       "stream": "stdout",
       "text": [
        "\n",
        "   428  |  \u001b[94m  0.017524\u001b[0m  |  \u001b[32m  0.026134\u001b[0m  |     0.670519  |             |  0.3s"
       ]
      },
      {
       "output_type": "stream",
       "stream": "stdout",
       "text": [
        "\n",
        "   429  |  \u001b[94m  0.017507\u001b[0m  |  \u001b[32m  0.026131\u001b[0m  |     0.669948  |             |  0.3s"
       ]
      },
      {
       "output_type": "stream",
       "stream": "stdout",
       "text": [
        "\n",
        "   430  |  \u001b[94m  0.017490\u001b[0m  |  \u001b[32m  0.026128\u001b[0m  |     0.669386  |             |  0.3s"
       ]
      },
      {
       "output_type": "stream",
       "stream": "stdout",
       "text": [
        "\n",
        "   431  |  \u001b[94m  0.017473\u001b[0m  |  \u001b[32m  0.026125\u001b[0m  |     0.668812  |             |  0.3s"
       ]
      },
      {
       "output_type": "stream",
       "stream": "stdout",
       "text": [
        "\n",
        "   432  |  \u001b[94m  0.017456\u001b[0m  |  \u001b[32m  0.026122\u001b[0m  |     0.668245  |             |  0.3s"
       ]
      },
      {
       "output_type": "stream",
       "stream": "stdout",
       "text": [
        "\n",
        "   433  |  \u001b[94m  0.017439\u001b[0m  |  \u001b[32m  0.026119\u001b[0m  |     0.667681  |             |  0.3s"
       ]
      },
      {
       "output_type": "stream",
       "stream": "stdout",
       "text": [
        "\n",
        "   434  |  \u001b[94m  0.017422\u001b[0m  |  \u001b[32m  0.026116\u001b[0m  |     0.667113  |             |  0.3s"
       ]
      },
      {
       "output_type": "stream",
       "stream": "stdout",
       "text": [
        "\n",
        "   435  |  \u001b[94m  0.017405\u001b[0m  |  \u001b[32m  0.026113\u001b[0m  |     0.666551  |             |  0.3s"
       ]
      },
      {
       "output_type": "stream",
       "stream": "stdout",
       "text": [
        "\n",
        "   436  |  \u001b[94m  0.017389\u001b[0m  |  \u001b[32m  0.026110\u001b[0m  |     0.665987  |             |  0.3s"
       ]
      },
      {
       "output_type": "stream",
       "stream": "stdout",
       "text": [
        "\n",
        "   437  |  \u001b[94m  0.017372\u001b[0m  |  \u001b[32m  0.026106\u001b[0m  |     0.665422  |             |  0.3s"
       ]
      },
      {
       "output_type": "stream",
       "stream": "stdout",
       "text": [
        "\n",
        "   438  |  \u001b[94m  0.017355\u001b[0m  |  \u001b[32m  0.026103\u001b[0m  |     0.664859  |             |  0.3s"
       ]
      },
      {
       "output_type": "stream",
       "stream": "stdout",
       "text": [
        "\n",
        "   439  |  \u001b[94m  0.017338\u001b[0m  |  \u001b[32m  0.026100\u001b[0m  |     0.664299  |             |  0.3s"
       ]
      },
      {
       "output_type": "stream",
       "stream": "stdout",
       "text": [
        "\n",
        "   440  |  \u001b[94m  0.017322\u001b[0m  |  \u001b[32m  0.026098\u001b[0m  |     0.663735  |             |  0.3s"
       ]
      },
      {
       "output_type": "stream",
       "stream": "stdout",
       "text": [
        "\n",
        "   441  |  \u001b[94m  0.017305\u001b[0m  |  \u001b[32m  0.026095\u001b[0m  |     0.663175  |             |  0.3s"
       ]
      },
      {
       "output_type": "stream",
       "stream": "stdout",
       "text": [
        "\n",
        "   442  |  \u001b[94m  0.017289\u001b[0m  |  \u001b[32m  0.026092\u001b[0m  |     0.662609  |             |  0.3s"
       ]
      },
      {
       "output_type": "stream",
       "stream": "stdout",
       "text": [
        "\n",
        "   443  |  \u001b[94m  0.017272\u001b[0m  |  \u001b[32m  0.026089\u001b[0m  |     0.662047  |             |  0.3s"
       ]
      },
      {
       "output_type": "stream",
       "stream": "stdout",
       "text": [
        "\n",
        "   444  |  \u001b[94m  0.017256\u001b[0m  |  \u001b[32m  0.026086\u001b[0m  |     0.661484  |             |  0.3s"
       ]
      },
      {
       "output_type": "stream",
       "stream": "stdout",
       "text": [
        "\n",
        "   445  |  \u001b[94m  0.017239\u001b[0m  |  \u001b[32m  0.026083\u001b[0m  |     0.660931  |             |  0.3s"
       ]
      },
      {
       "output_type": "stream",
       "stream": "stdout",
       "text": [
        "\n",
        "   446  |  \u001b[94m  0.017223\u001b[0m  |  \u001b[32m  0.026081\u001b[0m  |     0.660367  |             |  0.3s"
       ]
      },
      {
       "output_type": "stream",
       "stream": "stdout",
       "text": [
        "\n",
        "   447  |  \u001b[94m  0.017206\u001b[0m  |  \u001b[32m  0.026078\u001b[0m  |     0.659807  |             |  0.3s"
       ]
      },
      {
       "output_type": "stream",
       "stream": "stdout",
       "text": [
        "\n",
        "   448  |  \u001b[94m  0.017190\u001b[0m  |  \u001b[32m  0.026075\u001b[0m  |     0.659246  |             |  0.3s"
       ]
      },
      {
       "output_type": "stream",
       "stream": "stdout",
       "text": [
        "\n",
        "   449  |  \u001b[94m  0.017174\u001b[0m  |  \u001b[32m  0.026072\u001b[0m  |     0.658687  |             |  0.3s"
       ]
      },
      {
       "output_type": "stream",
       "stream": "stdout",
       "text": [
        "\n",
        "   450  |  \u001b[94m  0.017157\u001b[0m  |  \u001b[32m  0.026070\u001b[0m  |     0.658126  |             |  0.3s"
       ]
      },
      {
       "output_type": "stream",
       "stream": "stdout",
       "text": [
        "\n",
        "   451  |  \u001b[94m  0.017141\u001b[0m  |  \u001b[32m  0.026067\u001b[0m  |     0.657574  |             |  0.3s"
       ]
      },
      {
       "output_type": "stream",
       "stream": "stdout",
       "text": [
        "\n",
        "   452  |  \u001b[94m  0.017125\u001b[0m  |  \u001b[32m  0.026064\u001b[0m  |     0.657020  |             |  0.3s"
       ]
      },
      {
       "output_type": "stream",
       "stream": "stdout",
       "text": [
        "\n",
        "   453  |  \u001b[94m  0.017108\u001b[0m  |  \u001b[32m  0.026061\u001b[0m  |     0.656463  |             |  0.3s"
       ]
      },
      {
       "output_type": "stream",
       "stream": "stdout",
       "text": [
        "\n",
        "   454  |  \u001b[94m  0.017092\u001b[0m  |  \u001b[32m  0.026059\u001b[0m  |     0.655910  |             |  0.3s"
       ]
      },
      {
       "output_type": "stream",
       "stream": "stdout",
       "text": [
        "\n",
        "   455  |  \u001b[94m  0.017076\u001b[0m  |  \u001b[32m  0.026056\u001b[0m  |     0.655353  |             |  0.3s"
       ]
      },
      {
       "output_type": "stream",
       "stream": "stdout",
       "text": [
        "\n",
        "   456  |  \u001b[94m  0.017060\u001b[0m  |  \u001b[32m  0.026053\u001b[0m  |     0.654803  |             |  0.3s"
       ]
      },
      {
       "output_type": "stream",
       "stream": "stdout",
       "text": [
        "\n",
        "   457  |  \u001b[94m  0.017044\u001b[0m  |  \u001b[32m  0.026051\u001b[0m  |     0.654246  |             |  0.3s"
       ]
      },
      {
       "output_type": "stream",
       "stream": "stdout",
       "text": [
        "\n",
        "   458  |  \u001b[94m  0.017028\u001b[0m  |  \u001b[32m  0.026048\u001b[0m  |     0.653695  |             |  0.3s"
       ]
      },
      {
       "output_type": "stream",
       "stream": "stdout",
       "text": [
        "\n",
        "   459  |  \u001b[94m  0.017012\u001b[0m  |  \u001b[32m  0.026046\u001b[0m  |     0.653137  |             |  0.3s"
       ]
      },
      {
       "output_type": "stream",
       "stream": "stdout",
       "text": [
        "\n",
        "   460  |  \u001b[94m  0.016996\u001b[0m  |  \u001b[32m  0.026043\u001b[0m  |     0.652588  |             |  0.3s"
       ]
      },
      {
       "output_type": "stream",
       "stream": "stdout",
       "text": [
        "\n",
        "   461  |  \u001b[94m  0.016979\u001b[0m  |  \u001b[32m  0.026041\u001b[0m  |     0.652032  |             |  0.3s"
       ]
      },
      {
       "output_type": "stream",
       "stream": "stdout",
       "text": [
        "\n",
        "   462  |  \u001b[94m  0.016963\u001b[0m  |  \u001b[32m  0.026038\u001b[0m  |     0.651479  |             |  0.3s"
       ]
      },
      {
       "output_type": "stream",
       "stream": "stdout",
       "text": [
        "\n",
        "   463  |  \u001b[94m  0.016947\u001b[0m  |  \u001b[32m  0.026036\u001b[0m  |     0.650924  |             |  0.3s"
       ]
      },
      {
       "output_type": "stream",
       "stream": "stdout",
       "text": [
        "\n",
        "   464  |  \u001b[94m  0.016932\u001b[0m  |  \u001b[32m  0.026033\u001b[0m  |     0.650375  |             |  0.3s"
       ]
      },
      {
       "output_type": "stream",
       "stream": "stdout",
       "text": [
        "\n",
        "   465  |  \u001b[94m  0.016916\u001b[0m  |  \u001b[32m  0.026031\u001b[0m  |     0.649820  |             |  0.3s"
       ]
      },
      {
       "output_type": "stream",
       "stream": "stdout",
       "text": [
        "\n",
        "   466  |  \u001b[94m  0.016900\u001b[0m  |  \u001b[32m  0.026029\u001b[0m  |     0.649271  |             |  0.3s"
       ]
      },
      {
       "output_type": "stream",
       "stream": "stdout",
       "text": [
        "\n",
        "   467  |  \u001b[94m  0.016884\u001b[0m  |  \u001b[32m  0.026026\u001b[0m  |     0.648721  |             |  0.3s"
       ]
      },
      {
       "output_type": "stream",
       "stream": "stdout",
       "text": [
        "\n",
        "   468  |  \u001b[94m  0.016868\u001b[0m  |  \u001b[32m  0.026024\u001b[0m  |     0.648174  |             |  0.3s"
       ]
      },
      {
       "output_type": "stream",
       "stream": "stdout",
       "text": [
        "\n",
        "   469  |  \u001b[94m  0.016852\u001b[0m  |  \u001b[32m  0.026022\u001b[0m  |     0.647624  |             |  0.3s"
       ]
      },
      {
       "output_type": "stream",
       "stream": "stdout",
       "text": [
        "\n",
        "   470  |  \u001b[94m  0.016836\u001b[0m  |  \u001b[32m  0.026019\u001b[0m  |     0.647077  |             |  0.3s"
       ]
      },
      {
       "output_type": "stream",
       "stream": "stdout",
       "text": [
        "\n",
        "   471  |  \u001b[94m  0.016821\u001b[0m  |  \u001b[32m  0.026017\u001b[0m  |     0.646531  |             |  0.3s"
       ]
      },
      {
       "output_type": "stream",
       "stream": "stdout",
       "text": [
        "\n",
        "   472  |  \u001b[94m  0.016805\u001b[0m  |  \u001b[32m  0.026015\u001b[0m  |     0.645983  |             |  0.3s"
       ]
      },
      {
       "output_type": "stream",
       "stream": "stdout",
       "text": [
        "\n",
        "   473  |  \u001b[94m  0.016789\u001b[0m  |  \u001b[32m  0.026012\u001b[0m  |     0.645436  |             |  0.3s"
       ]
      },
      {
       "output_type": "stream",
       "stream": "stdout",
       "text": [
        "\n",
        "   474  |  \u001b[94m  0.016774\u001b[0m  |  \u001b[32m  0.026010\u001b[0m  |     0.644896  |             |  0.3s"
       ]
      },
      {
       "output_type": "stream",
       "stream": "stdout",
       "text": [
        "\n",
        "   475  |  \u001b[94m  0.016758\u001b[0m  |  \u001b[32m  0.026008\u001b[0m  |     0.644345  |             |  0.3s"
       ]
      },
      {
       "output_type": "stream",
       "stream": "stdout",
       "text": [
        "\n",
        "   476  |  \u001b[94m  0.016742\u001b[0m  |  \u001b[32m  0.026006\u001b[0m  |     0.643801  |             |  0.3s"
       ]
      },
      {
       "output_type": "stream",
       "stream": "stdout",
       "text": [
        "\n",
        "   477  |  \u001b[94m  0.016727\u001b[0m  |  \u001b[32m  0.026003\u001b[0m  |     0.643259  |             |  0.3s"
       ]
      },
      {
       "output_type": "stream",
       "stream": "stdout",
       "text": [
        "\n",
        "   478  |  \u001b[94m  0.016711\u001b[0m  |  \u001b[32m  0.026001\u001b[0m  |     0.642717  |             |  0.3s"
       ]
      },
      {
       "output_type": "stream",
       "stream": "stdout",
       "text": [
        "\n",
        "   479  |  \u001b[94m  0.016696\u001b[0m  |  \u001b[32m  0.025999\u001b[0m  |     0.642172  |             |  0.3s"
       ]
      },
      {
       "output_type": "stream",
       "stream": "stdout",
       "text": [
        "\n",
        "   480  |  \u001b[94m  0.016680\u001b[0m  |  \u001b[32m  0.025997\u001b[0m  |     0.641631  |             |  0.3s"
       ]
      },
      {
       "output_type": "stream",
       "stream": "stdout",
       "text": [
        "\n",
        "   481  |  \u001b[94m  0.016665\u001b[0m  |  \u001b[32m  0.025995\u001b[0m  |     0.641084  |             |  0.3s"
       ]
      },
      {
       "output_type": "stream",
       "stream": "stdout",
       "text": [
        "\n",
        "   482  |  \u001b[94m  0.016649\u001b[0m  |  \u001b[32m  0.025992\u001b[0m  |     0.640547  |             |  0.3s"
       ]
      },
      {
       "output_type": "stream",
       "stream": "stdout",
       "text": [
        "\n",
        "   483  |  \u001b[94m  0.016634\u001b[0m  |  \u001b[32m  0.025990\u001b[0m  |     0.640009  |             |  0.3s"
       ]
      },
      {
       "output_type": "stream",
       "stream": "stdout",
       "text": [
        "\n",
        "   484  |  \u001b[94m  0.016618\u001b[0m  |  \u001b[32m  0.025988\u001b[0m  |     0.639473  |             |  0.3s"
       ]
      },
      {
       "output_type": "stream",
       "stream": "stdout",
       "text": [
        "\n",
        "   485  |  \u001b[94m  0.016603\u001b[0m  |  \u001b[32m  0.025986\u001b[0m  |     0.638933  |             |  0.3s"
       ]
      },
      {
       "output_type": "stream",
       "stream": "stdout",
       "text": [
        "\n",
        "   486  |  \u001b[94m  0.016588\u001b[0m  |  \u001b[32m  0.025984\u001b[0m  |     0.638392  |             |  0.3s"
       ]
      },
      {
       "output_type": "stream",
       "stream": "stdout",
       "text": [
        "\n",
        "   487  |  \u001b[94m  0.016572\u001b[0m  |  \u001b[32m  0.025981\u001b[0m  |     0.637856  |             |  0.3s"
       ]
      },
      {
       "output_type": "stream",
       "stream": "stdout",
       "text": [
        "\n",
        "   488  |  \u001b[94m  0.016557\u001b[0m  |  \u001b[32m  0.025979\u001b[0m  |     0.637322  |             |  0.3s"
       ]
      },
      {
       "output_type": "stream",
       "stream": "stdout",
       "text": [
        "\n",
        "   489  |  \u001b[94m  0.016542\u001b[0m  |  \u001b[32m  0.025977\u001b[0m  |     0.636778  |             |  0.3s"
       ]
      },
      {
       "output_type": "stream",
       "stream": "stdout",
       "text": [
        "\n",
        "   490  |  \u001b[94m  0.016526\u001b[0m  |  \u001b[32m  0.025975\u001b[0m  |     0.636243  |             |  0.3s"
       ]
      },
      {
       "output_type": "stream",
       "stream": "stdout",
       "text": [
        "\n",
        "   491  |  \u001b[94m  0.016511\u001b[0m  |  \u001b[32m  0.025973\u001b[0m  |     0.635707  |             |  0.3s"
       ]
      },
      {
       "output_type": "stream",
       "stream": "stdout",
       "text": [
        "\n",
        "   492  |  \u001b[94m  0.016496\u001b[0m  |  \u001b[32m  0.025971\u001b[0m  |     0.635169  |             |  0.3s"
       ]
      },
      {
       "output_type": "stream",
       "stream": "stdout",
       "text": [
        "\n",
        "   493  |  \u001b[94m  0.016481\u001b[0m  |  \u001b[32m  0.025969\u001b[0m  |     0.634633  |             |  0.3s"
       ]
      },
      {
       "output_type": "stream",
       "stream": "stdout",
       "text": [
        "\n",
        "   494  |  \u001b[94m  0.016466\u001b[0m  |  \u001b[32m  0.025967\u001b[0m  |     0.634093  |             |  0.3s"
       ]
      },
      {
       "output_type": "stream",
       "stream": "stdout",
       "text": [
        "\n",
        "   495  |  \u001b[94m  0.016451\u001b[0m  |  \u001b[32m  0.025965\u001b[0m  |     0.633553  |             |  0.3s"
       ]
      },
      {
       "output_type": "stream",
       "stream": "stdout",
       "text": [
        "\n",
        "   496  |  \u001b[94m  0.016435\u001b[0m  |  \u001b[32m  0.025964\u001b[0m  |     0.633016  |             |  0.3s"
       ]
      },
      {
       "output_type": "stream",
       "stream": "stdout",
       "text": [
        "\n",
        "   497  |  \u001b[94m  0.016420\u001b[0m  |  \u001b[32m  0.025962\u001b[0m  |     0.632482  |             |  0.3s"
       ]
      },
      {
       "output_type": "stream",
       "stream": "stdout",
       "text": [
        "\n",
        "   498  |  \u001b[94m  0.016405\u001b[0m  |  \u001b[32m  0.025960\u001b[0m  |     0.631946  |             |  0.3s"
       ]
      },
      {
       "output_type": "stream",
       "stream": "stdout",
       "text": [
        "\n",
        "   499  |  \u001b[94m  0.016390\u001b[0m  |  \u001b[32m  0.025958\u001b[0m  |     0.631409  |             |  0.3s"
       ]
      },
      {
       "output_type": "stream",
       "stream": "stdout",
       "text": [
        "\n",
        "   500  |  \u001b[94m  0.016375\u001b[0m  |  \u001b[32m  0.025956\u001b[0m  |     0.630873  |             |  0.3s"
       ]
      },
      {
       "output_type": "stream",
       "stream": "stdout",
       "text": [
        "\n",
        "   501  |  \u001b[94m  0.016360\u001b[0m  |  \u001b[32m  0.025955\u001b[0m  |     0.630336  |             |  0.3s"
       ]
      },
      {
       "output_type": "stream",
       "stream": "stdout",
       "text": [
        "\n",
        "   502  |  \u001b[94m  0.016345\u001b[0m  |  \u001b[32m  0.025953\u001b[0m  |     0.629803  |             |  0.3s"
       ]
      },
      {
       "output_type": "stream",
       "stream": "stdout",
       "text": [
        "\n",
        "   503  |  \u001b[94m  0.016330\u001b[0m  |  \u001b[32m  0.025951\u001b[0m  |     0.629269  |             |  0.3s"
       ]
      },
      {
       "output_type": "stream",
       "stream": "stdout",
       "text": [
        "\n",
        "   504  |  \u001b[94m  0.016315\u001b[0m  |  \u001b[32m  0.025949\u001b[0m  |     0.628736  |             |  0.3s"
       ]
      },
      {
       "output_type": "stream",
       "stream": "stdout",
       "text": [
        "\n",
        "   505  |  \u001b[94m  0.016300\u001b[0m  |  \u001b[32m  0.025947\u001b[0m  |     0.628202  |             |  0.3s"
       ]
      },
      {
       "output_type": "stream",
       "stream": "stdout",
       "text": [
        "\n",
        "   506  |  \u001b[94m  0.016285\u001b[0m  |  \u001b[32m  0.025946\u001b[0m  |     0.627667  |             |  0.3s"
       ]
      },
      {
       "output_type": "stream",
       "stream": "stdout",
       "text": [
        "\n",
        "   507  |  \u001b[94m  0.016270\u001b[0m  |  \u001b[32m  0.025944\u001b[0m  |     0.627133  |             |  0.3s"
       ]
      },
      {
       "output_type": "stream",
       "stream": "stdout",
       "text": [
        "\n",
        "   508  |  \u001b[94m  0.016256\u001b[0m  |  \u001b[32m  0.025943\u001b[0m  |     0.626597  |             |  0.3s"
       ]
      },
      {
       "output_type": "stream",
       "stream": "stdout",
       "text": [
        "\n",
        "   509  |  \u001b[94m  0.016241\u001b[0m  |  \u001b[32m  0.025941\u001b[0m  |     0.626066  |             |  0.3s"
       ]
      },
      {
       "output_type": "stream",
       "stream": "stdout",
       "text": [
        "\n",
        "   510  |  \u001b[94m  0.016226\u001b[0m  |  \u001b[32m  0.025939\u001b[0m  |     0.625536  |             |  0.3s"
       ]
      },
      {
       "output_type": "stream",
       "stream": "stdout",
       "text": [
        "\n",
        "   511  |  \u001b[94m  0.016211\u001b[0m  |  \u001b[32m  0.025938\u001b[0m  |     0.625000  |             |  0.3s"
       ]
      },
      {
       "output_type": "stream",
       "stream": "stdout",
       "text": [
        "\n",
        "   512  |  \u001b[94m  0.016196\u001b[0m  |  \u001b[32m  0.025936\u001b[0m  |     0.624471  |             |  0.3s"
       ]
      },
      {
       "output_type": "stream",
       "stream": "stdout",
       "text": [
        "\n",
        "   513  |  \u001b[94m  0.016182\u001b[0m  |  \u001b[32m  0.025935\u001b[0m  |     0.623939  |             |  0.3s"
       ]
      },
      {
       "output_type": "stream",
       "stream": "stdout",
       "text": [
        "\n",
        "   514  |  \u001b[94m  0.016167\u001b[0m  |  \u001b[32m  0.025933\u001b[0m  |     0.623410  |             |  0.3s"
       ]
      },
      {
       "output_type": "stream",
       "stream": "stdout",
       "text": [
        "\n",
        "   515  |  \u001b[94m  0.016152\u001b[0m  |  \u001b[32m  0.025931\u001b[0m  |     0.622887  |             |  0.3s"
       ]
      },
      {
       "output_type": "stream",
       "stream": "stdout",
       "text": [
        "\n",
        "   516  |  \u001b[94m  0.016138\u001b[0m  |  \u001b[32m  0.025930\u001b[0m  |     0.622357  |             |  0.3s"
       ]
      },
      {
       "output_type": "stream",
       "stream": "stdout",
       "text": [
        "\n",
        "   517  |  \u001b[94m  0.016123\u001b[0m  |  \u001b[32m  0.025928\u001b[0m  |     0.621827  |             |  0.3s"
       ]
      },
      {
       "output_type": "stream",
       "stream": "stdout",
       "text": [
        "\n",
        "   518  |  \u001b[94m  0.016108\u001b[0m  |  \u001b[32m  0.025927\u001b[0m  |     0.621305  |             |  0.3s"
       ]
      },
      {
       "output_type": "stream",
       "stream": "stdout",
       "text": [
        "\n",
        "   519  |  \u001b[94m  0.016094\u001b[0m  |  \u001b[32m  0.025925\u001b[0m  |     0.620781  |             |  0.3s"
       ]
      },
      {
       "output_type": "stream",
       "stream": "stdout",
       "text": [
        "\n",
        "   520  |  \u001b[94m  0.016079\u001b[0m  |  \u001b[32m  0.025923\u001b[0m  |     0.620254  |             |  0.3s"
       ]
      },
      {
       "output_type": "stream",
       "stream": "stdout",
       "text": [
        "\n",
        "   521  |  \u001b[94m  0.016064\u001b[0m  |  \u001b[32m  0.025922\u001b[0m  |     0.619729  |             |  0.3s"
       ]
      },
      {
       "output_type": "stream",
       "stream": "stdout",
       "text": [
        "\n",
        "   522  |  \u001b[94m  0.016050\u001b[0m  |  \u001b[32m  0.025920\u001b[0m  |     0.619205  |             |  0.3s"
       ]
      },
      {
       "output_type": "stream",
       "stream": "stdout",
       "text": [
        "\n",
        "   523  |  \u001b[94m  0.016035\u001b[0m  |  \u001b[32m  0.025919\u001b[0m  |     0.618682  |             |  0.3s"
       ]
      },
      {
       "output_type": "stream",
       "stream": "stdout",
       "text": [
        "\n",
        "   524  |  \u001b[94m  0.016021\u001b[0m  |  \u001b[32m  0.025917\u001b[0m  |     0.618164  |             |  0.3s"
       ]
      },
      {
       "output_type": "stream",
       "stream": "stdout",
       "text": [
        "\n",
        "   525  |  \u001b[94m  0.016006\u001b[0m  |  \u001b[32m  0.025915\u001b[0m  |     0.617647  |             |  0.3s"
       ]
      },
      {
       "output_type": "stream",
       "stream": "stdout",
       "text": [
        "\n",
        "   526  |  \u001b[94m  0.015992\u001b[0m  |  \u001b[32m  0.025913\u001b[0m  |     0.617123  |             |  0.3s"
       ]
      },
      {
       "output_type": "stream",
       "stream": "stdout",
       "text": [
        "\n",
        "   527  |  \u001b[94m  0.015977\u001b[0m  |  \u001b[32m  0.025912\u001b[0m  |     0.616601  |             |  0.3s"
       ]
      },
      {
       "output_type": "stream",
       "stream": "stdout",
       "text": [
        "\n",
        "   528  |  \u001b[94m  0.015963\u001b[0m  |  \u001b[32m  0.025910\u001b[0m  |     0.616077  |             |  0.3s"
       ]
      },
      {
       "output_type": "stream",
       "stream": "stdout",
       "text": [
        "\n",
        "   529  |  \u001b[94m  0.015948\u001b[0m  |  \u001b[32m  0.025909\u001b[0m  |     0.615561  |             |  0.3s"
       ]
      },
      {
       "output_type": "stream",
       "stream": "stdout",
       "text": [
        "\n",
        "   530  |  \u001b[94m  0.015934\u001b[0m  |  \u001b[32m  0.025907\u001b[0m  |     0.615044  |             |  0.3s"
       ]
      },
      {
       "output_type": "stream",
       "stream": "stdout",
       "text": [
        "\n",
        "   531  |  \u001b[94m  0.015920\u001b[0m  |  \u001b[32m  0.025906\u001b[0m  |     0.614524  |             |  0.3s"
       ]
      },
      {
       "output_type": "stream",
       "stream": "stdout",
       "text": [
        "\n",
        "   532  |  \u001b[94m  0.015905\u001b[0m  |  \u001b[32m  0.025905\u001b[0m  |     0.613996  |             |  0.3s"
       ]
      },
      {
       "output_type": "stream",
       "stream": "stdout",
       "text": [
        "\n",
        "   533  |  \u001b[94m  0.015891\u001b[0m  |  \u001b[32m  0.025903\u001b[0m  |     0.613471  |             |  0.3s"
       ]
      },
      {
       "output_type": "stream",
       "stream": "stdout",
       "text": [
        "\n",
        "   534  |  \u001b[94m  0.015877\u001b[0m  |  \u001b[32m  0.025902\u001b[0m  |     0.612951  |             |  0.3s"
       ]
      },
      {
       "output_type": "stream",
       "stream": "stdout",
       "text": [
        "\n",
        "   535  |  \u001b[94m  0.015862\u001b[0m  |  \u001b[32m  0.025901\u001b[0m  |     0.612430  |             |  0.3s"
       ]
      },
      {
       "output_type": "stream",
       "stream": "stdout",
       "text": [
        "\n",
        "   536  |  \u001b[94m  0.015848\u001b[0m  |  \u001b[32m  0.025899\u001b[0m  |     0.611911  |             |  0.3s"
       ]
      },
      {
       "output_type": "stream",
       "stream": "stdout",
       "text": [
        "\n",
        "   537  |  \u001b[94m  0.015834\u001b[0m  |  \u001b[32m  0.025898\u001b[0m  |     0.611391  |             |  0.3s"
       ]
      },
      {
       "output_type": "stream",
       "stream": "stdout",
       "text": [
        "\n",
        "   538  |  \u001b[94m  0.015820\u001b[0m  |  \u001b[32m  0.025897\u001b[0m  |     0.610866  |             |  0.3s"
       ]
      },
      {
       "output_type": "stream",
       "stream": "stdout",
       "text": [
        "\n",
        "   539  |  \u001b[94m  0.015805\u001b[0m  |  \u001b[32m  0.025896\u001b[0m  |     0.610348  |             |  0.3s"
       ]
      },
      {
       "output_type": "stream",
       "stream": "stdout",
       "text": [
        "\n",
        "   540  |  \u001b[94m  0.015791\u001b[0m  |  \u001b[32m  0.025894\u001b[0m  |     0.609832  |             |  0.3s"
       ]
      },
      {
       "output_type": "stream",
       "stream": "stdout",
       "text": [
        "\n",
        "   541  |  \u001b[94m  0.015777\u001b[0m  |  \u001b[32m  0.025893\u001b[0m  |     0.609315  |             |  0.3s"
       ]
      },
      {
       "output_type": "stream",
       "stream": "stdout",
       "text": [
        "\n",
        "   542  |  \u001b[94m  0.015763\u001b[0m  |  \u001b[32m  0.025892\u001b[0m  |     0.608801  |             |  0.3s"
       ]
      },
      {
       "output_type": "stream",
       "stream": "stdout",
       "text": [
        "\n",
        "   543  |  \u001b[94m  0.015749\u001b[0m  |  \u001b[32m  0.025891\u001b[0m  |     0.608276  |             |  0.3s"
       ]
      },
      {
       "output_type": "stream",
       "stream": "stdout",
       "text": [
        "\n",
        "   544  |  \u001b[94m  0.015735\u001b[0m  |  \u001b[32m  0.025889\u001b[0m  |     0.607761  |             |  0.3s"
       ]
      },
      {
       "output_type": "stream",
       "stream": "stdout",
       "text": [
        "\n",
        "   545  |  \u001b[94m  0.015720\u001b[0m  |  \u001b[32m  0.025888\u001b[0m  |     0.607245  |             |  0.3s"
       ]
      },
      {
       "output_type": "stream",
       "stream": "stdout",
       "text": [
        "\n",
        "   546  |  \u001b[94m  0.015706\u001b[0m  |  \u001b[32m  0.025887\u001b[0m  |     0.606734  |             |  0.3s"
       ]
      },
      {
       "output_type": "stream",
       "stream": "stdout",
       "text": [
        "\n",
        "   547  |  \u001b[94m  0.015692\u001b[0m  |  \u001b[32m  0.025886\u001b[0m  |     0.606218  |             |  0.3s"
       ]
      },
      {
       "output_type": "stream",
       "stream": "stdout",
       "text": [
        "\n",
        "   548  |  \u001b[94m  0.015678\u001b[0m  |  \u001b[32m  0.025884\u001b[0m  |     0.605700  |             |  0.3s"
       ]
      },
      {
       "output_type": "stream",
       "stream": "stdout",
       "text": [
        "\n",
        "   549  |  \u001b[94m  0.015664\u001b[0m  |  \u001b[32m  0.025884\u001b[0m  |     0.605182  |             |  0.3s"
       ]
      },
      {
       "output_type": "stream",
       "stream": "stdout",
       "text": [
        "\n",
        "   550  |  \u001b[94m  0.015650\u001b[0m  |  \u001b[32m  0.025882\u001b[0m  |     0.604671  |             |  0.3s"
       ]
      },
      {
       "output_type": "stream",
       "stream": "stdout",
       "text": [
        "\n",
        "   551  |  \u001b[94m  0.015636\u001b[0m  |  \u001b[32m  0.025881\u001b[0m  |     0.604153  |             |  0.3s"
       ]
      },
      {
       "output_type": "stream",
       "stream": "stdout",
       "text": [
        "\n",
        "   552  |  \u001b[94m  0.015622\u001b[0m  |  \u001b[32m  0.025880\u001b[0m  |     0.603643  |             |  0.3s"
       ]
      },
      {
       "output_type": "stream",
       "stream": "stdout",
       "text": [
        "\n",
        "   553  |  \u001b[94m  0.015608\u001b[0m  |  \u001b[32m  0.025879\u001b[0m  |     0.603123  |             |  0.3s"
       ]
      },
      {
       "output_type": "stream",
       "stream": "stdout",
       "text": [
        "\n",
        "   554  |  \u001b[94m  0.015594\u001b[0m  |  \u001b[32m  0.025878\u001b[0m  |     0.602613  |             |  0.3s"
       ]
      },
      {
       "output_type": "stream",
       "stream": "stdout",
       "text": [
        "\n",
        "   555  |  \u001b[94m  0.015580\u001b[0m  |  \u001b[32m  0.025877\u001b[0m  |     0.602103  |             |  0.3s"
       ]
      },
      {
       "output_type": "stream",
       "stream": "stdout",
       "text": [
        "\n",
        "   556  |  \u001b[94m  0.015567\u001b[0m  |  \u001b[32m  0.025876\u001b[0m  |     0.601589  |             |  0.3s"
       ]
      },
      {
       "output_type": "stream",
       "stream": "stdout",
       "text": [
        "\n",
        "   557  |  \u001b[94m  0.015553\u001b[0m  |  \u001b[32m  0.025875\u001b[0m  |     0.601075  |             |  0.3s"
       ]
      },
      {
       "output_type": "stream",
       "stream": "stdout",
       "text": [
        "\n",
        "   558  |  \u001b[94m  0.015539\u001b[0m  |  \u001b[32m  0.025873\u001b[0m  |     0.600573  |             |  0.3s"
       ]
      },
      {
       "output_type": "stream",
       "stream": "stdout",
       "text": [
        "\n",
        "   559  |  \u001b[94m  0.015525\u001b[0m  |  \u001b[32m  0.025872\u001b[0m  |     0.600064  |             |  0.3s"
       ]
      },
      {
       "output_type": "stream",
       "stream": "stdout",
       "text": [
        "\n",
        "   560  |  \u001b[94m  0.015511\u001b[0m  |  \u001b[32m  0.025871\u001b[0m  |     0.599549  |             |  0.3s"
       ]
      },
      {
       "output_type": "stream",
       "stream": "stdout",
       "text": [
        "\n",
        "   561  |  \u001b[94m  0.015497\u001b[0m  |  \u001b[32m  0.025870\u001b[0m  |     0.599041  |             |  0.3s"
       ]
      },
      {
       "output_type": "stream",
       "stream": "stdout",
       "text": [
        "\n",
        "   562  |  \u001b[94m  0.015484\u001b[0m  |  \u001b[32m  0.025869\u001b[0m  |     0.598535  |             |  0.3s"
       ]
      },
      {
       "output_type": "stream",
       "stream": "stdout",
       "text": [
        "\n",
        "   563  |  \u001b[94m  0.015470\u001b[0m  |  \u001b[32m  0.025868\u001b[0m  |     0.598023  |             |  0.3s"
       ]
      },
      {
       "output_type": "stream",
       "stream": "stdout",
       "text": [
        "\n",
        "   564  |  \u001b[94m  0.015456\u001b[0m  |  \u001b[32m  0.025867\u001b[0m  |     0.597513  |             |  0.3s"
       ]
      },
      {
       "output_type": "stream",
       "stream": "stdout",
       "text": [
        "\n",
        "   565  |  \u001b[94m  0.015442\u001b[0m  |  \u001b[32m  0.025866\u001b[0m  |     0.597013  |             |  0.3s"
       ]
      },
      {
       "output_type": "stream",
       "stream": "stdout",
       "text": [
        "\n",
        "   566  |  \u001b[94m  0.015429\u001b[0m  |  \u001b[32m  0.025865\u001b[0m  |     0.596499  |             |  0.3s"
       ]
      },
      {
       "output_type": "stream",
       "stream": "stdout",
       "text": [
        "\n",
        "   567  |  \u001b[94m  0.015415\u001b[0m  |  \u001b[32m  0.025864\u001b[0m  |     0.595992  |             |  0.3s"
       ]
      },
      {
       "output_type": "stream",
       "stream": "stdout",
       "text": [
        "\n",
        "   568  |  \u001b[94m  0.015401\u001b[0m  |  \u001b[32m  0.025863\u001b[0m  |     0.595487  |             |  0.3s"
       ]
      },
      {
       "output_type": "stream",
       "stream": "stdout",
       "text": [
        "\n",
        "   569  |  \u001b[94m  0.015388\u001b[0m  |  \u001b[32m  0.025862\u001b[0m  |     0.594983  |             |  0.3s"
       ]
      },
      {
       "output_type": "stream",
       "stream": "stdout",
       "text": [
        "\n",
        "   570  |  \u001b[94m  0.015374\u001b[0m  |  \u001b[32m  0.025861\u001b[0m  |     0.594471  |             |  0.3s"
       ]
      },
      {
       "output_type": "stream",
       "stream": "stdout",
       "text": [
        "\n",
        "   571  |  \u001b[94m  0.015360\u001b[0m  |  \u001b[32m  0.025861\u001b[0m  |     0.593965  |             |  0.3s"
       ]
      },
      {
       "output_type": "stream",
       "stream": "stdout",
       "text": [
        "\n",
        "   572  |  \u001b[94m  0.015347\u001b[0m  |  \u001b[32m  0.025860\u001b[0m  |     0.593461  |             |  0.3s"
       ]
      },
      {
       "output_type": "stream",
       "stream": "stdout",
       "text": [
        "\n",
        "   573  |  \u001b[94m  0.015333\u001b[0m  |  \u001b[32m  0.025859\u001b[0m  |     0.592957  |             |  0.3s"
       ]
      },
      {
       "output_type": "stream",
       "stream": "stdout",
       "text": [
        "\n",
        "   574  |  \u001b[94m  0.015320\u001b[0m  |  \u001b[32m  0.025858\u001b[0m  |     0.592453  |             |  0.3s"
       ]
      },
      {
       "output_type": "stream",
       "stream": "stdout",
       "text": [
        "\n",
        "   575  |  \u001b[94m  0.015306\u001b[0m  |  \u001b[32m  0.025857\u001b[0m  |     0.591944  |             |  0.3s"
       ]
      },
      {
       "output_type": "stream",
       "stream": "stdout",
       "text": [
        "\n",
        "   576  |  \u001b[94m  0.015292\u001b[0m  |  \u001b[32m  0.025856\u001b[0m  |     0.591438  |             |  0.3s"
       ]
      },
      {
       "output_type": "stream",
       "stream": "stdout",
       "text": [
        "\n",
        "   577  |  \u001b[94m  0.015279\u001b[0m  |  \u001b[32m  0.025856\u001b[0m  |     0.590928  |             |  0.3s"
       ]
      },
      {
       "output_type": "stream",
       "stream": "stdout",
       "text": [
        "\n",
        "   578  |  \u001b[94m  0.015265\u001b[0m  |  \u001b[32m  0.025855\u001b[0m  |     0.590421  |             |  0.3s"
       ]
      },
      {
       "output_type": "stream",
       "stream": "stdout",
       "text": [
        "\n",
        "   579  |  \u001b[94m  0.015252\u001b[0m  |  \u001b[32m  0.025854\u001b[0m  |     0.589921  |             |  0.3s"
       ]
      },
      {
       "output_type": "stream",
       "stream": "stdout",
       "text": [
        "\n",
        "   580  |  \u001b[94m  0.015238\u001b[0m  |  \u001b[32m  0.025853\u001b[0m  |     0.589421  |             |  0.3s"
       ]
      },
      {
       "output_type": "stream",
       "stream": "stdout",
       "text": [
        "\n",
        "   581  |  \u001b[94m  0.015225\u001b[0m  |  \u001b[32m  0.025853\u001b[0m  |     0.588918  |             |  0.3s"
       ]
      },
      {
       "output_type": "stream",
       "stream": "stdout",
       "text": [
        "\n",
        "   582  |  \u001b[94m  0.015212\u001b[0m  |  \u001b[32m  0.025852\u001b[0m  |     0.588408  |             |  0.3s"
       ]
      },
      {
       "output_type": "stream",
       "stream": "stdout",
       "text": [
        "\n",
        "   583  |  \u001b[94m  0.015198\u001b[0m  |  \u001b[32m  0.025851\u001b[0m  |     0.587907  |             |  0.3s"
       ]
      },
      {
       "output_type": "stream",
       "stream": "stdout",
       "text": [
        "\n",
        "   584  |  \u001b[94m  0.015185\u001b[0m  |  \u001b[32m  0.025851\u001b[0m  |     0.587406  |             |  0.3s"
       ]
      },
      {
       "output_type": "stream",
       "stream": "stdout",
       "text": [
        "\n",
        "   585  |  \u001b[94m  0.015171\u001b[0m  |  \u001b[32m  0.025850\u001b[0m  |     0.586902  |             |  0.3s"
       ]
      },
      {
       "output_type": "stream",
       "stream": "stdout",
       "text": [
        "\n",
        "   586  |  \u001b[94m  0.015158\u001b[0m  |  \u001b[32m  0.025849\u001b[0m  |     0.586401  |             |  0.3s"
       ]
      },
      {
       "output_type": "stream",
       "stream": "stdout",
       "text": [
        "\n",
        "   587  |  \u001b[94m  0.015145\u001b[0m  |  \u001b[32m  0.025849\u001b[0m  |     0.585900  |             |  0.3s"
       ]
      },
      {
       "output_type": "stream",
       "stream": "stdout",
       "text": [
        "\n",
        "   588  |  \u001b[94m  0.015131\u001b[0m  |  \u001b[32m  0.025848\u001b[0m  |     0.585399  |             |  0.3s"
       ]
      },
      {
       "output_type": "stream",
       "stream": "stdout",
       "text": [
        "\n",
        "   589  |  \u001b[94m  0.015118\u001b[0m  |  \u001b[32m  0.025847\u001b[0m  |     0.584906  |             |  0.3s"
       ]
      },
      {
       "output_type": "stream",
       "stream": "stdout",
       "text": [
        "\n",
        "   590  |  \u001b[94m  0.015105\u001b[0m  |  \u001b[32m  0.025847\u001b[0m  |     0.584403  |             |  0.3s"
       ]
      },
      {
       "output_type": "stream",
       "stream": "stdout",
       "text": [
        "\n",
        "   591  |  \u001b[94m  0.015092\u001b[0m  |  \u001b[32m  0.025846\u001b[0m  |     0.583901  |             |  0.3s"
       ]
      },
      {
       "output_type": "stream",
       "stream": "stdout",
       "text": [
        "\n",
        "   592  |  \u001b[94m  0.015078\u001b[0m  |  \u001b[32m  0.025845\u001b[0m  |     0.583406  |             |  0.3s"
       ]
      },
      {
       "output_type": "stream",
       "stream": "stdout",
       "text": [
        "\n",
        "   593  |  \u001b[94m  0.015065\u001b[0m  |  \u001b[32m  0.025845\u001b[0m  |     0.582909  |             |  0.3s"
       ]
      },
      {
       "output_type": "stream",
       "stream": "stdout",
       "text": [
        "\n",
        "   594  |  \u001b[94m  0.015052\u001b[0m  |  \u001b[32m  0.025844\u001b[0m  |     0.582414  |             |  0.3s"
       ]
      },
      {
       "output_type": "stream",
       "stream": "stdout",
       "text": [
        "\n",
        "   595  |  \u001b[94m  0.015039\u001b[0m  |  \u001b[32m  0.025843\u001b[0m  |     0.581922  |             |  0.3s"
       ]
      },
      {
       "output_type": "stream",
       "stream": "stdout",
       "text": [
        "\n",
        "   596  |  \u001b[94m  0.015025\u001b[0m  |  \u001b[32m  0.025843\u001b[0m  |     0.581423  |             |  0.3s"
       ]
      },
      {
       "output_type": "stream",
       "stream": "stdout",
       "text": [
        "\n",
        "   597  |  \u001b[94m  0.015012\u001b[0m  |  \u001b[32m  0.025842\u001b[0m  |     0.580926  |             |  0.3s"
       ]
      },
      {
       "output_type": "stream",
       "stream": "stdout",
       "text": [
        "\n",
        "   598  |  \u001b[94m  0.014999\u001b[0m  |  \u001b[32m  0.025841\u001b[0m  |     0.580430  |             |  0.3s"
       ]
      },
      {
       "output_type": "stream",
       "stream": "stdout",
       "text": [
        "\n",
        "   599  |  \u001b[94m  0.014986\u001b[0m  |  \u001b[32m  0.025840\u001b[0m  |     0.579941  |             |  0.3s"
       ]
      },
      {
       "output_type": "stream",
       "stream": "stdout",
       "text": [
        "\n",
        "   600  |  \u001b[94m  0.014973\u001b[0m  |  \u001b[32m  0.025840\u001b[0m  |     0.579448  |             |  0.3s"
       ]
      },
      {
       "output_type": "stream",
       "stream": "stdout",
       "text": [
        "\n",
        "   601  |  \u001b[94m  0.014960\u001b[0m  |  \u001b[32m  0.025839\u001b[0m  |     0.578951  |             |  0.3s"
       ]
      },
      {
       "output_type": "stream",
       "stream": "stdout",
       "text": [
        "\n",
        "   602  |  \u001b[94m  0.014947\u001b[0m  |  \u001b[32m  0.025839\u001b[0m  |     0.578459  |             |  0.3s"
       ]
      },
      {
       "output_type": "stream",
       "stream": "stdout",
       "text": [
        "\n",
        "   603  |  \u001b[94m  0.014934\u001b[0m  |  \u001b[32m  0.025838\u001b[0m  |     0.577971  |             |  0.3s"
       ]
      },
      {
       "output_type": "stream",
       "stream": "stdout",
       "text": [
        "\n",
        "   604  |  \u001b[94m  0.014921\u001b[0m  |  \u001b[32m  0.025838\u001b[0m  |     0.577473  |             |  0.3s"
       ]
      },
      {
       "output_type": "stream",
       "stream": "stdout",
       "text": [
        "\n",
        "   605  |  \u001b[94m  0.014908\u001b[0m  |  \u001b[32m  0.025837\u001b[0m  |     0.576982  |             |  0.3s"
       ]
      },
      {
       "output_type": "stream",
       "stream": "stdout",
       "text": [
        "\n",
        "   606  |  \u001b[94m  0.014895\u001b[0m  |  \u001b[32m  0.025837\u001b[0m  |     0.576488  |             |  0.3s"
       ]
      },
      {
       "output_type": "stream",
       "stream": "stdout",
       "text": [
        "\n",
        "   607  |  \u001b[94m  0.014882\u001b[0m  |  \u001b[32m  0.025836\u001b[0m  |     0.576002  |             |  0.3s"
       ]
      },
      {
       "output_type": "stream",
       "stream": "stdout",
       "text": [
        "\n",
        "   608  |  \u001b[94m  0.014869\u001b[0m  |  \u001b[32m  0.025836\u001b[0m  |     0.575505  |             |  0.3s"
       ]
      },
      {
       "output_type": "stream",
       "stream": "stdout",
       "text": [
        "\n",
        "   609  |  \u001b[94m  0.014856\u001b[0m  |  \u001b[32m  0.025835\u001b[0m  |     0.575016  |             |  0.3s"
       ]
      },
      {
       "output_type": "stream",
       "stream": "stdout",
       "text": [
        "\n",
        "   610  |  \u001b[94m  0.014843\u001b[0m  |  \u001b[32m  0.025835\u001b[0m  |     0.574524  |             |  0.3s"
       ]
      },
      {
       "output_type": "stream",
       "stream": "stdout",
       "text": [
        "\n",
        "   611  |  \u001b[94m  0.014830\u001b[0m  |  \u001b[32m  0.025834\u001b[0m  |     0.574038  |             |  0.3s"
       ]
      },
      {
       "output_type": "stream",
       "stream": "stdout",
       "text": [
        "\n",
        "   612  |  \u001b[94m  0.014817\u001b[0m  |  \u001b[32m  0.025834\u001b[0m  |     0.573537  |             |  0.3s"
       ]
      },
      {
       "output_type": "stream",
       "stream": "stdout",
       "text": [
        "\n",
        "   613  |  \u001b[94m  0.014804\u001b[0m  |  \u001b[32m  0.025833\u001b[0m  |     0.573048  |             |  0.3s"
       ]
      },
      {
       "output_type": "stream",
       "stream": "stdout",
       "text": [
        "\n",
        "   614  |  \u001b[94m  0.014791\u001b[0m  |  \u001b[32m  0.025833\u001b[0m  |     0.572563  |             |  0.3s"
       ]
      },
      {
       "output_type": "stream",
       "stream": "stdout",
       "text": [
        "\n",
        "   615  |  \u001b[94m  0.014778\u001b[0m  |  \u001b[32m  0.025833\u001b[0m  |     0.572074  |             |  0.3s"
       ]
      },
      {
       "output_type": "stream",
       "stream": "stdout",
       "text": [
        "\n",
        "   616  |  \u001b[94m  0.014765\u001b[0m  |  \u001b[32m  0.025832\u001b[0m  |     0.571586  |             |  0.3s"
       ]
      },
      {
       "output_type": "stream",
       "stream": "stdout",
       "text": [
        "\n",
        "   617  |  \u001b[94m  0.014752\u001b[0m  |  \u001b[32m  0.025832\u001b[0m  |     0.571096  |             |  0.3s"
       ]
      },
      {
       "output_type": "stream",
       "stream": "stdout",
       "text": [
        "\n",
        "   618  |  \u001b[94m  0.014740\u001b[0m  |  \u001b[32m  0.025832\u001b[0m  |     0.570605  |             |  0.3s"
       ]
      },
      {
       "output_type": "stream",
       "stream": "stdout",
       "text": [
        "\n",
        "   619  |  \u001b[94m  0.014727\u001b[0m  |  \u001b[32m  0.025831\u001b[0m  |     0.570115  |             |  0.3s"
       ]
      },
      {
       "output_type": "stream",
       "stream": "stdout",
       "text": [
        "\n",
        "   620  |  \u001b[94m  0.014714\u001b[0m  |  \u001b[32m  0.025831\u001b[0m  |     0.569628  |             |  0.3s"
       ]
      },
      {
       "output_type": "stream",
       "stream": "stdout",
       "text": [
        "\n",
        "   621  |  \u001b[94m  0.014701\u001b[0m  |  \u001b[32m  0.025831\u001b[0m  |     0.569142  |             |  0.3s"
       ]
      },
      {
       "output_type": "stream",
       "stream": "stdout",
       "text": [
        "\n",
        "   622  |  \u001b[94m  0.014689\u001b[0m  |  \u001b[32m  0.025830\u001b[0m  |     0.568659  |             |  0.3s"
       ]
      },
      {
       "output_type": "stream",
       "stream": "stdout",
       "text": [
        "\n",
        "   623  |  \u001b[94m  0.014676\u001b[0m  |  \u001b[32m  0.025830\u001b[0m  |     0.568174  |             |  0.3s"
       ]
      },
      {
       "output_type": "stream",
       "stream": "stdout",
       "text": [
        "\n",
        "   624  |  \u001b[94m  0.014663\u001b[0m  |  \u001b[32m  0.025829\u001b[0m  |     0.567693  |             |  0.3s"
       ]
      },
      {
       "output_type": "stream",
       "stream": "stdout",
       "text": [
        "\n",
        "   625  |  \u001b[94m  0.014650\u001b[0m  |  \u001b[32m  0.025829\u001b[0m  |     0.567203  |             |  0.3s"
       ]
      },
      {
       "output_type": "stream",
       "stream": "stdout",
       "text": [
        "\n",
        "   626  |  \u001b[94m  0.014638\u001b[0m  |  \u001b[32m  0.025829\u001b[0m  |     0.566712  |             |  0.3s"
       ]
      },
      {
       "output_type": "stream",
       "stream": "stdout",
       "text": [
        "\n",
        "   627  |  \u001b[94m  0.014625\u001b[0m  |  \u001b[32m  0.025828\u001b[0m  |     0.566238  |             |  0.3s"
       ]
      },
      {
       "output_type": "stream",
       "stream": "stdout",
       "text": [
        "\n",
        "   628  |  \u001b[94m  0.014612\u001b[0m  |  \u001b[32m  0.025828\u001b[0m  |     0.565752  |             |  0.3s"
       ]
      },
      {
       "output_type": "stream",
       "stream": "stdout",
       "text": [
        "\n",
        "   629  |  \u001b[94m  0.014600\u001b[0m  |  \u001b[32m  0.025828\u001b[0m  |     0.565271  |             |  0.3s"
       ]
      },
      {
       "output_type": "stream",
       "stream": "stdout",
       "text": [
        "\n",
        "   630  |  \u001b[94m  0.014587\u001b[0m  |  \u001b[32m  0.025828\u001b[0m  |     0.564790  |             |  0.3s"
       ]
      },
      {
       "output_type": "stream",
       "stream": "stdout",
       "text": [
        "\n",
        "   631  |  \u001b[94m  0.014575\u001b[0m  |  \u001b[32m  0.025827\u001b[0m  |     0.564307  |             |  0.3s"
       ]
      },
      {
       "output_type": "stream",
       "stream": "stdout",
       "text": [
        "\n",
        "   632  |  \u001b[94m  0.014562\u001b[0m  |  \u001b[32m  0.025827\u001b[0m  |     0.563824  |             |  0.3s"
       ]
      },
      {
       "output_type": "stream",
       "stream": "stdout",
       "text": [
        "\n",
        "   633  |  \u001b[94m  0.014549\u001b[0m  |  \u001b[32m  0.025827\u001b[0m  |     0.563347  |             |  0.3s"
       ]
      },
      {
       "output_type": "stream",
       "stream": "stdout",
       "text": [
        "\n",
        "   634  |  \u001b[94m  0.014537\u001b[0m  |  \u001b[32m  0.025826\u001b[0m  |     0.562870  |             |  0.3s"
       ]
      },
      {
       "output_type": "stream",
       "stream": "stdout",
       "text": [
        "\n",
        "   635  |  \u001b[94m  0.014524\u001b[0m  |  \u001b[32m  0.025826\u001b[0m  |     0.562387  |             |  0.3s"
       ]
      },
      {
       "output_type": "stream",
       "stream": "stdout",
       "text": [
        "\n",
        "   636  |  \u001b[94m  0.014512\u001b[0m  |  \u001b[32m  0.025826\u001b[0m  |     0.561912  |             |  0.3s"
       ]
      },
      {
       "output_type": "stream",
       "stream": "stdout",
       "text": [
        "\n",
        "   637  |  \u001b[94m  0.014499\u001b[0m  |  \u001b[32m  0.025825\u001b[0m  |     0.561435  |             |  0.3s"
       ]
      },
      {
       "output_type": "stream",
       "stream": "stdout",
       "text": [
        "\n",
        "   638  |  \u001b[94m  0.014487\u001b[0m  |    0.025825  |     0.560951  |             |  0.3s"
       ]
      },
      {
       "output_type": "stream",
       "stream": "stdout",
       "text": [
        "\n",
        "   639  |  \u001b[94m  0.014474\u001b[0m  |  \u001b[32m  0.025825\u001b[0m  |     0.560483  |             |  0.3s"
       ]
      },
      {
       "output_type": "stream",
       "stream": "stdout",
       "text": [
        "\n",
        "   640  |  \u001b[94m  0.014462\u001b[0m  |  \u001b[32m  0.025825\u001b[0m  |     0.560002  |             |  0.3s"
       ]
      },
      {
       "output_type": "stream",
       "stream": "stdout",
       "text": [
        "\n",
        "   641  |  \u001b[94m  0.014449\u001b[0m  |  \u001b[32m  0.025824\u001b[0m  |     0.559527  |             |  0.3s"
       ]
      },
      {
       "output_type": "stream",
       "stream": "stdout",
       "text": [
        "\n",
        "   642  |  \u001b[94m  0.014437\u001b[0m  |  \u001b[32m  0.025824\u001b[0m  |     0.559053  |             |  0.3s"
       ]
      },
      {
       "output_type": "stream",
       "stream": "stdout",
       "text": [
        "\n",
        "   643  |  \u001b[94m  0.014425\u001b[0m  |    0.025824  |     0.558571  |             |  0.3s"
       ]
      },
      {
       "output_type": "stream",
       "stream": "stdout",
       "text": [
        "\n",
        "   644  |  \u001b[94m  0.014412\u001b[0m  |  \u001b[32m  0.025824\u001b[0m  |     0.558099  |             |  0.3s"
       ]
      },
      {
       "output_type": "stream",
       "stream": "stdout",
       "text": [
        "\n",
        "   645  |  \u001b[94m  0.014400\u001b[0m  |  \u001b[32m  0.025824\u001b[0m  |     0.557626  |             |  0.3s"
       ]
      },
      {
       "output_type": "stream",
       "stream": "stdout",
       "text": [
        "\n",
        "   646  |  \u001b[94m  0.014388\u001b[0m  |  \u001b[32m  0.025823\u001b[0m  |     0.557151  |             |  0.3s"
       ]
      },
      {
       "output_type": "stream",
       "stream": "stdout",
       "text": [
        "\n",
        "   647  |  \u001b[94m  0.014375\u001b[0m  |  \u001b[32m  0.025823\u001b[0m  |     0.556678  |             |  0.3s"
       ]
      },
      {
       "output_type": "stream",
       "stream": "stdout",
       "text": [
        "\n",
        "   648  |  \u001b[94m  0.014363\u001b[0m  |  \u001b[32m  0.025823\u001b[0m  |     0.556204  |             |  0.3s"
       ]
      },
      {
       "output_type": "stream",
       "stream": "stdout",
       "text": [
        "\n",
        "   649  |  \u001b[94m  0.014351\u001b[0m  |    0.025823  |     0.555728  |             |  0.3s"
       ]
      },
      {
       "output_type": "stream",
       "stream": "stdout",
       "text": [
        "\n",
        "   650  |  \u001b[94m  0.014338\u001b[0m  |  \u001b[32m  0.025823\u001b[0m  |     0.555259  |             |  0.3s"
       ]
      },
      {
       "output_type": "stream",
       "stream": "stdout",
       "text": [
        "\n",
        "   651  |  \u001b[94m  0.014326\u001b[0m  |  \u001b[32m  0.025823\u001b[0m  |     0.554788  |             |  0.3s"
       ]
      },
      {
       "output_type": "stream",
       "stream": "stdout",
       "text": [
        "\n",
        "   652  |  \u001b[94m  0.014314\u001b[0m  |    0.025823  |     0.554310  |             |  0.3s"
       ]
      },
      {
       "output_type": "stream",
       "stream": "stdout",
       "text": [
        "\n",
        "   653  |  \u001b[94m  0.014302\u001b[0m  |  \u001b[32m  0.025823\u001b[0m  |     0.553839  |             |  0.3s"
       ]
      },
      {
       "output_type": "stream",
       "stream": "stdout",
       "text": [
        "\n",
        "   654  |  \u001b[94m  0.014289\u001b[0m  |  \u001b[32m  0.025822\u001b[0m  |     0.553370  |             |  0.3s"
       ]
      },
      {
       "output_type": "stream",
       "stream": "stdout",
       "text": [
        "\n",
        "   655  |  \u001b[94m  0.014277\u001b[0m  |    0.025822  |     0.552898  |             |  0.3s"
       ]
      },
      {
       "output_type": "stream",
       "stream": "stdout",
       "text": [
        "\n",
        "   656  |  \u001b[94m  0.014265\u001b[0m  |    0.025823  |     0.552425  |             |  0.3s"
       ]
      },
      {
       "output_type": "stream",
       "stream": "stdout",
       "text": [
        "\n",
        "   657  |  \u001b[94m  0.014253\u001b[0m  |  \u001b[32m  0.025822\u001b[0m  |     0.551957  |             |  0.3s"
       ]
      },
      {
       "output_type": "stream",
       "stream": "stdout",
       "text": [
        "\n",
        "   658  |  \u001b[94m  0.014241\u001b[0m  |    0.025822  |     0.551483  |             |  0.3s"
       ]
      },
      {
       "output_type": "stream",
       "stream": "stdout",
       "text": [
        "\n",
        "   659  |  \u001b[94m  0.014229\u001b[0m  |  \u001b[32m  0.025822\u001b[0m  |     0.551017  |             |  0.3s"
       ]
      },
      {
       "output_type": "stream",
       "stream": "stdout",
       "text": [
        "\n",
        "   660  |  \u001b[94m  0.014216\u001b[0m  |    0.025822  |     0.550544  |             |  0.3s"
       ]
      },
      {
       "output_type": "stream",
       "stream": "stdout",
       "text": [
        "\n",
        "   661  |  \u001b[94m  0.014204\u001b[0m  |  \u001b[32m  0.025822\u001b[0m  |     0.550082  |             |  0.3s"
       ]
      },
      {
       "output_type": "stream",
       "stream": "stdout",
       "text": [
        "\n",
        "   662  |  \u001b[94m  0.014192\u001b[0m  |  \u001b[32m  0.025822\u001b[0m  |     0.549614  |             |  0.3s"
       ]
      },
      {
       "output_type": "stream",
       "stream": "stdout",
       "text": [
        "\n",
        "   663  |  \u001b[94m  0.014180\u001b[0m  |    0.025822  |     0.549144  |             |  0.3s"
       ]
      },
      {
       "output_type": "stream",
       "stream": "stdout",
       "text": [
        "\n",
        "   664  |  \u001b[94m  0.014168\u001b[0m  |    0.025823  |     0.548672  |             |  0.3s"
       ]
      },
      {
       "output_type": "stream",
       "stream": "stdout",
       "text": [
        "\n",
        "   665  |  \u001b[94m  0.014156\u001b[0m  |    0.025823  |     0.548202  |             |  0.3s"
       ]
      },
      {
       "output_type": "stream",
       "stream": "stdout",
       "text": [
        "\n",
        "   666  |  \u001b[94m  0.014144\u001b[0m  |    0.025822  |     0.547745  |             |  0.3s"
       ]
      },
      {
       "output_type": "stream",
       "stream": "stdout",
       "text": [
        "\n",
        "   667  |  \u001b[94m  0.014132\u001b[0m  |    0.025823  |     0.547275  |             |  0.3s"
       ]
      },
      {
       "output_type": "stream",
       "stream": "stdout",
       "text": [
        "\n",
        "   668  |  \u001b[94m  0.014120\u001b[0m  |    0.025823  |     0.546808  |             |  0.3s"
       ]
      },
      {
       "output_type": "stream",
       "stream": "stdout",
       "text": [
        "\n",
        "   669  |  \u001b[94m  0.014108\u001b[0m  |    0.025823  |     0.546340  |             |  0.3s"
       ]
      },
      {
       "output_type": "stream",
       "stream": "stdout",
       "text": [
        "\n",
        "   670  |  \u001b[94m  0.014096\u001b[0m  |    0.025823  |     0.545874  |             |  0.3s"
       ]
      },
      {
       "output_type": "stream",
       "stream": "stdout",
       "text": [
        "\n",
        "   671  |  \u001b[94m  0.014084\u001b[0m  |    0.025823  |     0.545416  |             |  0.3s"
       ]
      },
      {
       "output_type": "stream",
       "stream": "stdout",
       "text": [
        "\n",
        "   672  |  \u001b[94m  0.014072\u001b[0m  |    0.025823  |     0.544951  |             |  0.3s"
       ]
      },
      {
       "output_type": "stream",
       "stream": "stdout",
       "text": [
        "\n",
        "   673  |  \u001b[94m  0.014060\u001b[0m  |    0.025823  |     0.544482  |             |  0.3s"
       ]
      },
      {
       "output_type": "stream",
       "stream": "stdout",
       "text": [
        "\n",
        "   674  |  \u001b[94m  0.014049\u001b[0m  |    0.025824  |     0.544015  |             |  0.3s"
       ]
      },
      {
       "output_type": "stream",
       "stream": "stdout",
       "text": [
        "\n",
        "   675  |  \u001b[94m  0.014037\u001b[0m  |    0.025824  |     0.543554  |             |  0.3s"
       ]
      },
      {
       "output_type": "stream",
       "stream": "stdout",
       "text": [
        "\n",
        "   676  |  \u001b[94m  0.014025\u001b[0m  |    0.025824  |     0.543085  |             |  0.3s"
       ]
      },
      {
       "output_type": "stream",
       "stream": "stdout",
       "text": [
        "\n",
        "   677  |  \u001b[94m  0.014013\u001b[0m  |    0.025824  |     0.542626  |             |  0.3s"
       ]
      },
      {
       "output_type": "stream",
       "stream": "stdout",
       "text": [
        "\n",
        "   678  |  \u001b[94m  0.014001\u001b[0m  |    0.025825  |     0.542161  |             |  0.3s"
       ]
      },
      {
       "output_type": "stream",
       "stream": "stdout",
       "text": [
        "\n",
        "   679  |  \u001b[94m  0.013989\u001b[0m  |    0.025825  |     0.541695  |             |  0.3s"
       ]
      },
      {
       "output_type": "stream",
       "stream": "stdout",
       "text": [
        "\n",
        "   680  |  \u001b[94m  0.013977\u001b[0m  |    0.025825  |     0.541242  |             |  0.3s"
       ]
      },
      {
       "output_type": "stream",
       "stream": "stdout",
       "text": [
        "\n",
        "   681  |  \u001b[94m  0.013966\u001b[0m  |    0.025825  |     0.540780  |             |  0.3s"
       ]
      },
      {
       "output_type": "stream",
       "stream": "stdout",
       "text": [
        "\n",
        "   682  |  \u001b[94m  0.013954\u001b[0m  |    0.025825  |     0.540320  |             |  0.3s"
       ]
      },
      {
       "output_type": "stream",
       "stream": "stdout",
       "text": [
        "\n",
        "   683  |  \u001b[94m  0.013942\u001b[0m  |    0.025826  |     0.539851  |             |  0.3s"
       ]
      },
      {
       "output_type": "stream",
       "stream": "stdout",
       "text": [
        "\n",
        "   684  |  \u001b[94m  0.013930\u001b[0m  |    0.025826  |     0.539396  |             |  0.3s"
       ]
      },
      {
       "output_type": "stream",
       "stream": "stdout",
       "text": [
        "\n",
        "   685  |  \u001b[94m  0.013919\u001b[0m  |    0.025826  |     0.538935  |             |  0.3s"
       ]
      },
      {
       "output_type": "stream",
       "stream": "stdout",
       "text": [
        "\n",
        "   686  |  \u001b[94m  0.013907\u001b[0m  |    0.025826  |     0.538477  |             |  0.3s"
       ]
      },
      {
       "output_type": "stream",
       "stream": "stdout",
       "text": [
        "\n",
        "   687  |  \u001b[94m  0.013895\u001b[0m  |    0.025827  |     0.538020  |             |  0.3s"
       ]
      },
      {
       "output_type": "stream",
       "stream": "stdout",
       "text": [
        "\n",
        "   688  |  \u001b[94m  0.013884\u001b[0m  |    0.025827  |     0.537560  |             |  0.3s"
       ]
      },
      {
       "output_type": "stream",
       "stream": "stdout",
       "text": [
        "\n",
        "   689  |  \u001b[94m  0.013872\u001b[0m  |    0.025827  |     0.537104  |             |  0.3s"
       ]
      },
      {
       "output_type": "stream",
       "stream": "stdout",
       "text": [
        "\n",
        "   690  |  \u001b[94m  0.013860\u001b[0m  |    0.025828  |     0.536643  |             |  0.3s"
       ]
      },
      {
       "output_type": "stream",
       "stream": "stdout",
       "text": [
        "\n",
        "   691  |  \u001b[94m  0.013849\u001b[0m  |    0.025828  |     0.536185  |             |  0.3s"
       ]
      },
      {
       "output_type": "stream",
       "stream": "stdout",
       "text": [
        "\n",
        "   692  |  \u001b[94m  0.013837\u001b[0m  |    0.025828  |     0.535726  |             |  0.3s"
       ]
      },
      {
       "output_type": "stream",
       "stream": "stdout",
       "text": [
        "\n",
        "   693  |  \u001b[94m  0.013825\u001b[0m  |    0.025828  |     0.535280  |             |  0.3s"
       ]
      },
      {
       "output_type": "stream",
       "stream": "stdout",
       "text": [
        "\n",
        "   694  |  \u001b[94m  0.013814\u001b[0m  |    0.025829  |     0.534824  |             |  0.3s"
       ]
      },
      {
       "output_type": "stream",
       "stream": "stdout",
       "text": [
        "\n",
        "   695  |  \u001b[94m  0.013802\u001b[0m  |    0.025829  |     0.534366  |             |  0.3s"
       ]
      },
      {
       "output_type": "stream",
       "stream": "stdout",
       "text": [
        "\n",
        "   696  |  \u001b[94m  0.013791\u001b[0m  |    0.025829  |     0.533907  |             |  0.3s"
       ]
      },
      {
       "output_type": "stream",
       "stream": "stdout",
       "text": [
        "\n",
        "   697  |  \u001b[94m  0.013779\u001b[0m  |    0.025830  |     0.533451  |             |  0.3s"
       ]
      },
      {
       "output_type": "stream",
       "stream": "stdout",
       "text": [
        "\n",
        "   698  |  \u001b[94m  0.013767\u001b[0m  |    0.025831  |     0.532989  |             |  0.3s"
       ]
      },
      {
       "output_type": "stream",
       "stream": "stdout",
       "text": [
        "\n",
        "   699  |  \u001b[94m  0.013756\u001b[0m  |    0.025831  |     0.532537  |             |  0.3s"
       ]
      },
      {
       "output_type": "stream",
       "stream": "stdout",
       "text": [
        "\n",
        "   700  |  \u001b[94m  0.013744\u001b[0m  |    0.025831  |     0.532089  |             |  0.3s"
       ]
      },
      {
       "output_type": "stream",
       "stream": "stdout",
       "text": [
        "\n",
        "   701  |  \u001b[94m  0.013733\u001b[0m  |    0.025831  |     0.531634  |             |  0.3s"
       ]
      },
      {
       "output_type": "stream",
       "stream": "stdout",
       "text": [
        "\n",
        "   702  |  \u001b[94m  0.013721\u001b[0m  |    0.025832  |     0.531183  |             |  0.3s"
       ]
      },
      {
       "output_type": "stream",
       "stream": "stdout",
       "text": [
        "\n",
        "   703  |  \u001b[94m  0.013710\u001b[0m  |    0.025832  |     0.530730  |             |  0.3s"
       ]
      },
      {
       "output_type": "stream",
       "stream": "stdout",
       "text": [
        "\n",
        "   704  |  \u001b[94m  0.013698\u001b[0m  |    0.025833  |     0.530276  |             |  0.3s"
       ]
      },
      {
       "output_type": "stream",
       "stream": "stdout",
       "text": [
        "\n",
        "   705  |  \u001b[94m  0.013687\u001b[0m  |    0.025833  |     0.529822  |             |  0.3s"
       ]
      },
      {
       "output_type": "stream",
       "stream": "stdout",
       "text": [
        "\n",
        "   706  |  \u001b[94m  0.013676\u001b[0m  |    0.025834  |     0.529375  |             |  0.3s"
       ]
      },
      {
       "output_type": "stream",
       "stream": "stdout",
       "text": [
        "\n",
        "   707  |  \u001b[94m  0.013664\u001b[0m  |    0.025834  |     0.528928  |             |  0.3s"
       ]
      },
      {
       "output_type": "stream",
       "stream": "stdout",
       "text": [
        "\n",
        "   708  |  \u001b[94m  0.013653\u001b[0m  |    0.025834  |     0.528481  |             |  0.3s"
       ]
      },
      {
       "output_type": "stream",
       "stream": "stdout",
       "text": [
        "\n",
        "   709  |  \u001b[94m  0.013641\u001b[0m  |    0.025835  |     0.528034  |             |  0.3s"
       ]
      },
      {
       "output_type": "stream",
       "stream": "stdout",
       "text": [
        "\n",
        "   710  |  \u001b[94m  0.013630\u001b[0m  |    0.025835  |     0.527585  |             |  0.3s"
       ]
      },
      {
       "output_type": "stream",
       "stream": "stdout",
       "text": [
        "\n",
        "   711  |  \u001b[94m  0.013619\u001b[0m  |    0.025835  |     0.527140  |             |  0.3s"
       ]
      },
      {
       "output_type": "stream",
       "stream": "stdout",
       "text": [
        "\n",
        "   712  |  \u001b[94m  0.013607\u001b[0m  |    0.025836  |     0.526686  |             |  0.3s"
       ]
      },
      {
       "output_type": "stream",
       "stream": "stdout",
       "text": [
        "\n",
        "   713  |  \u001b[94m  0.013596\u001b[0m  |    0.025836  |     0.526249  |             |  0.3s"
       ]
      },
      {
       "output_type": "stream",
       "stream": "stdout",
       "text": [
        "\n",
        "   714  |  \u001b[94m  0.013585\u001b[0m  |    0.025837  |     0.525796  |             |  0.3s"
       ]
      },
      {
       "output_type": "stream",
       "stream": "stdout",
       "text": [
        "\n",
        "   715  |  \u001b[94m  0.013574\u001b[0m  |    0.025837  |     0.525346  |             |  0.3s"
       ]
      },
      {
       "output_type": "stream",
       "stream": "stdout",
       "text": [
        "\n",
        "   716  |  \u001b[94m  0.013562\u001b[0m  |    0.025838  |     0.524903  |             |  0.3s"
       ]
      },
      {
       "output_type": "stream",
       "stream": "stdout",
       "text": [
        "\n",
        "   717  |  \u001b[94m  0.013551\u001b[0m  |    0.025838  |     0.524461  |             |  0.3s"
       ]
      },
      {
       "output_type": "stream",
       "stream": "stdout",
       "text": [
        "\n",
        "   718  |  \u001b[94m  0.013540\u001b[0m  |    0.025839  |     0.524011  |             |  0.3s"
       ]
      },
      {
       "output_type": "stream",
       "stream": "stdout",
       "text": [
        "\n",
        "   719  |  \u001b[94m  0.013529\u001b[0m  |    0.025839  |     0.523571  |             |  0.3s"
       ]
      },
      {
       "output_type": "stream",
       "stream": "stdout",
       "text": [
        "\n",
        "   720  |  \u001b[94m  0.013517\u001b[0m  |    0.025839  |     0.523128  |             |  0.3s"
       ]
      },
      {
       "output_type": "stream",
       "stream": "stdout",
       "text": [
        "\n",
        "   721  |  \u001b[94m  0.013506\u001b[0m  |    0.025840  |     0.522685  |             |  0.3s"
       ]
      },
      {
       "output_type": "stream",
       "stream": "stdout",
       "text": [
        "\n",
        "   722  |  \u001b[94m  0.013495\u001b[0m  |    0.025841  |     0.522238  |             |  0.3s"
       ]
      },
      {
       "output_type": "stream",
       "stream": "stdout",
       "text": [
        "\n",
        "   723  |  \u001b[94m  0.013484\u001b[0m  |    0.025841  |     0.521800  |             |  0.3s"
       ]
      },
      {
       "output_type": "stream",
       "stream": "stdout",
       "text": [
        "\n",
        "   724  |  \u001b[94m  0.013473\u001b[0m  |    0.025841  |     0.521362  |             |  0.3s"
       ]
      },
      {
       "output_type": "stream",
       "stream": "stdout",
       "text": [
        "\n",
        "   725  |  \u001b[94m  0.013462\u001b[0m  |    0.025842  |     0.520923  |             |  0.3s"
       ]
      },
      {
       "output_type": "stream",
       "stream": "stdout",
       "text": [
        "\n",
        "   726  |  \u001b[94m  0.013450\u001b[0m  |    0.025842  |     0.520480  |             |  0.3s"
       ]
      },
      {
       "output_type": "stream",
       "stream": "stdout",
       "text": [
        "\n",
        "   727  |  \u001b[94m  0.013439\u001b[0m  |    0.025842  |     0.520049  |             |  0.3s"
       ]
      },
      {
       "output_type": "stream",
       "stream": "stdout",
       "text": [
        "\n",
        "   728  |  \u001b[94m  0.013428\u001b[0m  |    0.025843  |     0.519610  |             |  0.3s"
       ]
      },
      {
       "output_type": "stream",
       "stream": "stdout",
       "text": [
        "\n",
        "   729  |  \u001b[94m  0.013417\u001b[0m  |    0.025844  |     0.519169  |             |  0.3s"
       ]
      },
      {
       "output_type": "stream",
       "stream": "stdout",
       "text": [
        "\n",
        "   730  |  \u001b[94m  0.013406\u001b[0m  |    0.025844  |     0.518739  |             |  0.3s"
       ]
      },
      {
       "output_type": "stream",
       "stream": "stdout",
       "text": [
        "\n",
        "   731  |  \u001b[94m  0.013395\u001b[0m  |    0.025844  |     0.518302  |             |  0.3s"
       ]
      },
      {
       "output_type": "stream",
       "stream": "stdout",
       "text": [
        "\n",
        "   732  |  \u001b[94m  0.013384\u001b[0m  |    0.025845  |     0.517863  |             |  0.3s"
       ]
      },
      {
       "output_type": "stream",
       "stream": "stdout",
       "text": [
        "\n",
        "   733  |  \u001b[94m  0.013373\u001b[0m  |    0.025846  |     0.517425  |             |  0.3s"
       ]
      },
      {
       "output_type": "stream",
       "stream": "stdout",
       "text": [
        "\n",
        "   734  |  \u001b[94m  0.013362\u001b[0m  |    0.025846  |     0.516993  |             |  0.3s"
       ]
      },
      {
       "output_type": "stream",
       "stream": "stdout",
       "text": [
        "\n",
        "   735  |  \u001b[94m  0.013351\u001b[0m  |    0.025846  |     0.516559  |             |  0.3s"
       ]
      },
      {
       "output_type": "stream",
       "stream": "stdout",
       "text": [
        "\n",
        "   736  |  \u001b[94m  0.013340\u001b[0m  |    0.025847  |     0.516129  |             |  0.3s"
       ]
      },
      {
       "output_type": "stream",
       "stream": "stdout",
       "text": [
        "\n",
        "   737  |  \u001b[94m  0.013329\u001b[0m  |    0.025847  |     0.515692  |             |  0.3s"
       ]
      },
      {
       "output_type": "stream",
       "stream": "stdout",
       "text": [
        "\n",
        "   738  |  \u001b[94m  0.013318\u001b[0m  |    0.025848  |     0.515258  |             |  0.3s"
       ]
      },
      {
       "output_type": "stream",
       "stream": "stdout",
       "text": [
        "\n",
        "   739  |  \u001b[94m  0.013307\u001b[0m  |    0.025848  |     0.514827  |             |  0.3s"
       ]
      },
      {
       "output_type": "stream",
       "stream": "stdout",
       "text": [
        "\n",
        "   740  |  \u001b[94m  0.013297\u001b[0m  |    0.025849  |     0.514398  |             |  0.3s"
       ]
      },
      {
       "output_type": "stream",
       "stream": "stdout",
       "text": [
        "\n",
        "   741  |  \u001b[94m  0.013286\u001b[0m  |    0.025850  |     0.513960  |             |  0.3s"
       ]
      },
      {
       "output_type": "stream",
       "stream": "stdout",
       "text": [
        "\n",
        "   742  |  \u001b[94m  0.013275\u001b[0m  |    0.025850  |     0.513529  |             |  0.3s"
       ]
      },
      {
       "output_type": "stream",
       "stream": "stdout",
       "text": [
        "\n",
        "   743  |  \u001b[94m  0.013264\u001b[0m  |    0.025851  |     0.513099  |             |  0.3s"
       ]
      },
      {
       "output_type": "stream",
       "stream": "stdout",
       "text": [
        "\n",
        "   744  |  \u001b[94m  0.013253\u001b[0m  |    0.025851  |     0.512672  |             |  0.3s"
       ]
      },
      {
       "output_type": "stream",
       "stream": "stdout",
       "text": [
        "\n",
        "   745  |  \u001b[94m  0.013242\u001b[0m  |    0.025852  |     0.512234  |             |  0.3s"
       ]
      },
      {
       "output_type": "stream",
       "stream": "stdout",
       "text": [
        "\n",
        "   746  |  \u001b[94m  0.013231\u001b[0m  |    0.025852  |     0.511803  |             |  0.3s"
       ]
      },
      {
       "output_type": "stream",
       "stream": "stdout",
       "text": [
        "\n",
        "   747  |  \u001b[94m  0.013221\u001b[0m  |    0.025853  |     0.511370  |             |  0.3s"
       ]
      },
      {
       "output_type": "stream",
       "stream": "stdout",
       "text": [
        "\n",
        "   748  |  \u001b[94m  0.013210\u001b[0m  |    0.025854  |     0.510946  |             |  0.3s"
       ]
      },
      {
       "output_type": "stream",
       "stream": "stdout",
       "text": [
        "\n",
        "   749  |  \u001b[94m  0.013199\u001b[0m  |    0.025854  |     0.510518  |             |  0.3s"
       ]
      },
      {
       "output_type": "stream",
       "stream": "stdout",
       "text": [
        "\n",
        "   750  |  \u001b[94m  0.013188\u001b[0m  |    0.025855  |     0.510090  |             |  0.3s"
       ]
      },
      {
       "output_type": "stream",
       "stream": "stdout",
       "text": [
        "\n",
        "   751  |  \u001b[94m  0.013177\u001b[0m  |    0.025855  |     0.509664  |             |  0.3s"
       ]
      },
      {
       "output_type": "stream",
       "stream": "stdout",
       "text": [
        "\n",
        "   752  |  \u001b[94m  0.013167\u001b[0m  |    0.025856  |     0.509238  |             |  0.3s"
       ]
      },
      {
       "output_type": "stream",
       "stream": "stdout",
       "text": [
        "\n",
        "   753  |  \u001b[94m  0.013156\u001b[0m  |    0.025857  |     0.508810  |             |  0.3s"
       ]
      },
      {
       "output_type": "stream",
       "stream": "stdout",
       "text": [
        "\n",
        "   754  |  \u001b[94m  0.013145\u001b[0m  |    0.025857  |     0.508382  |             |  0.3s"
       ]
      },
      {
       "output_type": "stream",
       "stream": "stdout",
       "text": [
        "\n",
        "   755  |  \u001b[94m  0.013135\u001b[0m  |    0.025858  |     0.507955  |             |  0.3s"
       ]
      },
      {
       "output_type": "stream",
       "stream": "stdout",
       "text": [
        "\n",
        "   756  |  \u001b[94m  0.013124\u001b[0m  |    0.025859  |     0.507527  |             |  0.3s"
       ]
      },
      {
       "output_type": "stream",
       "stream": "stdout",
       "text": [
        "\n",
        "   757  |  \u001b[94m  0.013113\u001b[0m  |    0.025859  |     0.507103  |             |  0.3s"
       ]
      },
      {
       "output_type": "stream",
       "stream": "stdout",
       "text": [
        "\n",
        "   758  |  \u001b[94m  0.013103\u001b[0m  |    0.025860  |     0.506680  |             |  0.3s"
       ]
      },
      {
       "output_type": "stream",
       "stream": "stdout",
       "text": [
        "\n",
        "   759  |  \u001b[94m  0.013092\u001b[0m  |    0.025861  |     0.506254  |             |  0.3s"
       ]
      },
      {
       "output_type": "stream",
       "stream": "stdout",
       "text": [
        "\n",
        "   760  |  \u001b[94m  0.013081\u001b[0m  |    0.025861  |     0.505830  |             |  0.3s"
       ]
      },
      {
       "output_type": "stream",
       "stream": "stdout",
       "text": [
        "\n",
        "   761  |  \u001b[94m  0.013071\u001b[0m  |    0.025862  |     0.505405  |             |  0.3s"
       ]
      },
      {
       "output_type": "stream",
       "stream": "stdout",
       "text": [
        "\n",
        "   762  |  \u001b[94m  0.013060\u001b[0m  |    0.025863  |     0.504983  |             |  0.3s"
       ]
      },
      {
       "output_type": "stream",
       "stream": "stdout",
       "text": [
        "\n",
        "   763  |  \u001b[94m  0.013050\u001b[0m  |    0.025863  |     0.504562  |             |  0.3s"
       ]
      },
      {
       "output_type": "stream",
       "stream": "stdout",
       "text": [
        "\n",
        "   764  |  \u001b[94m  0.013039\u001b[0m  |    0.025864  |     0.504145  |             |  0.3s"
       ]
      },
      {
       "output_type": "stream",
       "stream": "stdout",
       "text": [
        "\n",
        "   765  |  \u001b[94m  0.013029\u001b[0m  |    0.025865  |     0.503722  |             |  0.3s"
       ]
      },
      {
       "output_type": "stream",
       "stream": "stdout",
       "text": [
        "\n",
        "   766  |  \u001b[94m  0.013018\u001b[0m  |    0.025865  |     0.503298  |             |  0.3s"
       ]
      },
      {
       "output_type": "stream",
       "stream": "stdout",
       "text": [
        "\n",
        "   767  |  \u001b[94m  0.013007\u001b[0m  |    0.025866  |     0.502885  |             |  0.3s"
       ]
      },
      {
       "output_type": "stream",
       "stream": "stdout",
       "text": [
        "\n",
        "   768  |  \u001b[94m  0.012997\u001b[0m  |    0.025866  |     0.502460  |             |  0.3s"
       ]
      },
      {
       "output_type": "stream",
       "stream": "stdout",
       "text": [
        "\n",
        "   769  |  \u001b[94m  0.012986\u001b[0m  |    0.025867  |     0.502044  |             |  0.3s"
       ]
      },
      {
       "output_type": "stream",
       "stream": "stdout",
       "text": [
        "\n",
        "   770  |  \u001b[94m  0.012976\u001b[0m  |    0.025868  |     0.501621  |             |  0.3s"
       ]
      },
      {
       "output_type": "stream",
       "stream": "stdout",
       "text": [
        "\n",
        "   771  |  \u001b[94m  0.012965\u001b[0m  |    0.025868  |     0.501205  |             |  0.3s"
       ]
      },
      {
       "output_type": "stream",
       "stream": "stdout",
       "text": [
        "\n",
        "   772  |  \u001b[94m  0.012955\u001b[0m  |    0.025869  |     0.500781  |             |  0.3s"
       ]
      },
      {
       "output_type": "stream",
       "stream": "stdout",
       "text": [
        "\n",
        "   773  |  \u001b[94m  0.012944\u001b[0m  |    0.025870  |     0.500365  |             |  0.3s"
       ]
      },
      {
       "output_type": "stream",
       "stream": "stdout",
       "text": [
        "\n",
        "   774  |  \u001b[94m  0.012934\u001b[0m  |    0.025871  |     0.499944  |             |  0.3s"
       ]
      },
      {
       "output_type": "stream",
       "stream": "stdout",
       "text": [
        "\n",
        "   775  |  \u001b[94m  0.012924\u001b[0m  |    0.025871  |     0.499531  |             |  0.3s"
       ]
      },
      {
       "output_type": "stream",
       "stream": "stdout",
       "text": [
        "\n",
        "   776  |  \u001b[94m  0.012913\u001b[0m  |    0.025872  |     0.499113  |             |  0.3s"
       ]
      },
      {
       "output_type": "stream",
       "stream": "stdout",
       "text": [
        "\n",
        "   777  |  \u001b[94m  0.012903\u001b[0m  |    0.025873  |     0.498697  |             |  0.3s"
       ]
      },
      {
       "output_type": "stream",
       "stream": "stdout",
       "text": [
        "\n",
        "   778  |  \u001b[94m  0.012892\u001b[0m  |    0.025874  |     0.498276  |             |  0.3s"
       ]
      },
      {
       "output_type": "stream",
       "stream": "stdout",
       "text": [
        "\n",
        "   779  |  \u001b[94m  0.012882\u001b[0m  |    0.025875  |     0.497861  |             |  0.3s"
       ]
      },
      {
       "output_type": "stream",
       "stream": "stdout",
       "text": [
        "\n",
        "   780  |  \u001b[94m  0.012872\u001b[0m  |    0.025875  |     0.497451  |             |  0.3s"
       ]
      },
      {
       "output_type": "stream",
       "stream": "stdout",
       "text": [
        "\n",
        "   781  |  \u001b[94m  0.012861\u001b[0m  |    0.025876  |     0.497033  |             |  0.3s"
       ]
      },
      {
       "output_type": "stream",
       "stream": "stdout",
       "text": [
        "\n",
        "   782  |  \u001b[94m  0.012851\u001b[0m  |    0.025877  |     0.496615  |             |  0.3s"
       ]
      },
      {
       "output_type": "stream",
       "stream": "stdout",
       "text": [
        "\n",
        "   783  |  \u001b[94m  0.012841\u001b[0m  |    0.025878  |     0.496199  |             |  0.3s"
       ]
      },
      {
       "output_type": "stream",
       "stream": "stdout",
       "text": [
        "\n",
        "   784  |  \u001b[94m  0.012830\u001b[0m  |    0.025878  |     0.495794  |             |  0.3s"
       ]
      },
      {
       "output_type": "stream",
       "stream": "stdout",
       "text": [
        "\n",
        "   785  |  \u001b[94m  0.012820\u001b[0m  |    0.025879  |     0.495375  |             |  0.3s"
       ]
      },
      {
       "output_type": "stream",
       "stream": "stdout",
       "text": [
        "\n",
        "   786  |  \u001b[94m  0.012810\u001b[0m  |    0.025880  |     0.494969  |             |  0.3s"
       ]
      },
      {
       "output_type": "stream",
       "stream": "stdout",
       "text": [
        "\n",
        "   787  |  \u001b[94m  0.012799\u001b[0m  |    0.025881  |     0.494549  |             |  0.3s"
       ]
      },
      {
       "output_type": "stream",
       "stream": "stdout",
       "text": [
        "\n",
        "   788  |  \u001b[94m  0.012789\u001b[0m  |    0.025882  |     0.494143  |             |  0.3s"
       ]
      },
      {
       "output_type": "stream",
       "stream": "stdout",
       "text": [
        "\n",
        "   789  |  \u001b[94m  0.012779\u001b[0m  |    0.025883  |     0.493724  |             |  0.3s"
       ]
      },
      {
       "output_type": "stream",
       "stream": "stdout",
       "text": [
        "\n",
        "   790  |  \u001b[94m  0.012769\u001b[0m  |    0.025883  |     0.493322  |             |  0.3s"
       ]
      },
      {
       "output_type": "stream",
       "stream": "stdout",
       "text": [
        "\n",
        "   791  |  \u001b[94m  0.012758\u001b[0m  |    0.025884  |     0.492906  |             |  0.3s"
       ]
      },
      {
       "output_type": "stream",
       "stream": "stdout",
       "text": [
        "\n",
        "   792  |  \u001b[94m  0.012748\u001b[0m  |    0.025885  |     0.492494  |             |  0.3s"
       ]
      },
      {
       "output_type": "stream",
       "stream": "stdout",
       "text": [
        "\n",
        "   793  |  \u001b[94m  0.012738\u001b[0m  |    0.025886  |     0.492088  |             |  0.3s"
       ]
      },
      {
       "output_type": "stream",
       "stream": "stdout",
       "text": [
        "\n",
        "   794  |  \u001b[94m  0.012728\u001b[0m  |    0.025887  |     0.491677  |             |  0.3s"
       ]
      },
      {
       "output_type": "stream",
       "stream": "stdout",
       "text": [
        "\n",
        "   795  |  \u001b[94m  0.012718\u001b[0m  |    0.025887  |     0.491271  |             |  0.3s"
       ]
      },
      {
       "output_type": "stream",
       "stream": "stdout",
       "text": [
        "\n",
        "   796  |  \u001b[94m  0.012708\u001b[0m  |    0.025888  |     0.490868  |             |  0.3s"
       ]
      },
      {
       "output_type": "stream",
       "stream": "stdout",
       "text": [
        "\n",
        "   797  |  \u001b[94m  0.012697\u001b[0m  |    0.025889  |     0.490457  |             |  0.3s"
       ]
      },
      {
       "output_type": "stream",
       "stream": "stdout",
       "text": [
        "\n",
        "   798  |  \u001b[94m  0.012687\u001b[0m  |    0.025890  |     0.490054  |             |  0.3s"
       ]
      },
      {
       "output_type": "stream",
       "stream": "stdout",
       "text": [
        "\n",
        "   799  |  \u001b[94m  0.012677\u001b[0m  |    0.025891  |     0.489638  |             |  0.3s"
       ]
      },
      {
       "output_type": "stream",
       "stream": "stdout",
       "text": [
        "\n",
        "   800  |  \u001b[94m  0.012667\u001b[0m  |    0.025891  |     0.489243  |             |  0.3s"
       ]
      },
      {
       "output_type": "stream",
       "stream": "stdout",
       "text": [
        "\n",
        "   801  |  \u001b[94m  0.012657\u001b[0m  |    0.025893  |     0.488833  |             |  0.3s"
       ]
      },
      {
       "output_type": "stream",
       "stream": "stdout",
       "text": [
        "\n",
        "   802  |  \u001b[94m  0.012647\u001b[0m  |    0.025893  |     0.488430  |             |  0.3s"
       ]
      },
      {
       "output_type": "stream",
       "stream": "stdout",
       "text": [
        "\n",
        "   803  |  \u001b[94m  0.012637\u001b[0m  |    0.025894  |     0.488021  |             |  0.3s"
       ]
      },
      {
       "output_type": "stream",
       "stream": "stdout",
       "text": [
        "\n",
        "   804  |  \u001b[94m  0.012627\u001b[0m  |    0.025895  |     0.487617  |             |  0.3s"
       ]
      },
      {
       "output_type": "stream",
       "stream": "stdout",
       "text": [
        "\n",
        "   805  |  \u001b[94m  0.012617\u001b[0m  |    0.025896  |     0.487211  |             |  0.3s"
       ]
      },
      {
       "output_type": "stream",
       "stream": "stdout",
       "text": [
        "\n",
        "   806  |  \u001b[94m  0.012607\u001b[0m  |    0.025897  |     0.486810  |             |  0.3s"
       ]
      },
      {
       "output_type": "stream",
       "stream": "stdout",
       "text": [
        "\n",
        "   807  |  \u001b[94m  0.012597\u001b[0m  |    0.025898  |     0.486406  |             |  0.3s"
       ]
      },
      {
       "output_type": "stream",
       "stream": "stdout",
       "text": [
        "\n",
        "   808  |  \u001b[94m  0.012587\u001b[0m  |    0.025899  |     0.485998  |             |  0.3s"
       ]
      },
      {
       "output_type": "stream",
       "stream": "stdout",
       "text": [
        "\n",
        "   809  |  \u001b[94m  0.012577\u001b[0m  |    0.025900  |     0.485599  |             |  0.3s"
       ]
      },
      {
       "output_type": "stream",
       "stream": "stdout",
       "text": [
        "\n",
        "   810  |  \u001b[94m  0.012567\u001b[0m  |    0.025901  |     0.485199  |             |  0.3s"
       ]
      },
      {
       "output_type": "stream",
       "stream": "stdout",
       "text": [
        "\n",
        "   811  |  \u001b[94m  0.012557\u001b[0m  |    0.025901  |     0.484797  |             |  0.3s"
       ]
      },
      {
       "output_type": "stream",
       "stream": "stdout",
       "text": [
        "\n",
        "   812  |  \u001b[94m  0.012547\u001b[0m  |    0.025902  |     0.484397  |             |  0.3s"
       ]
      },
      {
       "output_type": "stream",
       "stream": "stdout",
       "text": [
        "\n",
        "   813  |  \u001b[94m  0.012537\u001b[0m  |    0.025904  |     0.483991  |             |  0.3s"
       ]
      },
      {
       "output_type": "stream",
       "stream": "stdout",
       "text": [
        "\n",
        "   814  |  \u001b[94m  0.012527\u001b[0m  |    0.025905  |     0.483591  |             |  0.3s"
       ]
      },
      {
       "output_type": "stream",
       "stream": "stdout",
       "text": [
        "\n",
        "   815  |  \u001b[94m  0.012517\u001b[0m  |    0.025906  |     0.483189  |             |  0.3s"
       ]
      },
      {
       "output_type": "stream",
       "stream": "stdout",
       "text": [
        "\n",
        "   816  |  \u001b[94m  0.012507\u001b[0m  |    0.025906  |     0.482797  |             |  0.3s"
       ]
      },
      {
       "output_type": "stream",
       "stream": "stdout",
       "text": [
        "\n",
        "   817  |  \u001b[94m  0.012498\u001b[0m  |    0.025907  |     0.482392  |             |  0.3s"
       ]
      },
      {
       "output_type": "stream",
       "stream": "stdout",
       "text": [
        "\n",
        "   818  |  \u001b[94m  0.012488\u001b[0m  |    0.025908  |     0.481999  |             |  0.3s"
       ]
      },
      {
       "output_type": "stream",
       "stream": "stdout",
       "text": [
        "\n",
        "   819  |  \u001b[94m  0.012478\u001b[0m  |    0.025909  |     0.481599  |             |  0.3s"
       ]
      },
      {
       "output_type": "stream",
       "stream": "stdout",
       "text": [
        "\n",
        "   820  |  \u001b[94m  0.012468\u001b[0m  |    0.025910  |     0.481202  |             |  0.3s"
       ]
      },
      {
       "output_type": "stream",
       "stream": "stdout",
       "text": [
        "\n",
        "   821  |  \u001b[94m  0.012458\u001b[0m  |    0.025911  |     0.480804  |             |  0.3s"
       ]
      },
      {
       "output_type": "stream",
       "stream": "stdout",
       "text": [
        "\n",
        "   822  |  \u001b[94m  0.012448\u001b[0m  |    0.025912  |     0.480407  |             |  0.3s"
       ]
      },
      {
       "output_type": "stream",
       "stream": "stdout",
       "text": [
        "\n",
        "   823  |  \u001b[94m  0.012438\u001b[0m  |    0.025913  |     0.480009  |             |  0.3s"
       ]
      },
      {
       "output_type": "stream",
       "stream": "stdout",
       "text": [
        "\n",
        "   824  |  \u001b[94m  0.012429\u001b[0m  |    0.025914  |     0.479612  |             |  0.3s"
       ]
      },
      {
       "output_type": "stream",
       "stream": "stdout",
       "text": [
        "\n",
        "   825  |  \u001b[94m  0.012419\u001b[0m  |    0.025915  |     0.479214  |             |  0.3s"
       ]
      },
      {
       "output_type": "stream",
       "stream": "stdout",
       "text": [
        "\n",
        "   826  |  \u001b[94m  0.012409\u001b[0m  |    0.025916  |     0.478815  |             |  0.3s"
       ]
      },
      {
       "output_type": "stream",
       "stream": "stdout",
       "text": [
        "\n",
        "   827  |  \u001b[94m  0.012399\u001b[0m  |    0.025917  |     0.478422  |             |  0.3s"
       ]
      },
      {
       "output_type": "stream",
       "stream": "stdout",
       "text": [
        "\n",
        "   828  |  \u001b[94m  0.012390\u001b[0m  |    0.025918  |     0.478028  |             |  0.3s"
       ]
      },
      {
       "output_type": "stream",
       "stream": "stdout",
       "text": [
        "\n",
        "   829  |  \u001b[94m  0.012380\u001b[0m  |    0.025918  |     0.477643  |             |  0.3s"
       ]
      },
      {
       "output_type": "stream",
       "stream": "stdout",
       "text": [
        "\n",
        "   830  |  \u001b[94m  0.012370\u001b[0m  |    0.025920  |     0.477241  |             |  0.3s"
       ]
      },
      {
       "output_type": "stream",
       "stream": "stdout",
       "text": [
        "\n",
        "   831  |  \u001b[94m  0.012360\u001b[0m  |    0.025921  |     0.476849  |             |  0.3s"
       ]
      },
      {
       "output_type": "stream",
       "stream": "stdout",
       "text": [
        "\n",
        "   832  |  \u001b[94m  0.012351\u001b[0m  |    0.025922  |     0.476452  |             |  0.3s"
       ]
      },
      {
       "output_type": "stream",
       "stream": "stdout",
       "text": [
        "\n",
        "   833  |  \u001b[94m  0.012341\u001b[0m  |    0.025923  |     0.476064  |             |  0.3s"
       ]
      },
      {
       "output_type": "stream",
       "stream": "stdout",
       "text": [
        "\n",
        "   834  |  \u001b[94m  0.012331\u001b[0m  |    0.025924  |     0.475673  |             |  0.3s"
       ]
      },
      {
       "output_type": "stream",
       "stream": "stdout",
       "text": [
        "\n",
        "   835  |  \u001b[94m  0.012322\u001b[0m  |    0.025925  |     0.475276  |             |  0.3s"
       ]
      },
      {
       "output_type": "stream",
       "stream": "stdout",
       "text": [
        "\n",
        "   836  |  \u001b[94m  0.012312\u001b[0m  |    0.025926  |     0.474890  |             |  0.3s"
       ]
      },
      {
       "output_type": "stream",
       "stream": "stdout",
       "text": [
        "\n",
        "   837  |  \u001b[94m  0.012302\u001b[0m  |    0.025927  |     0.474497  |             |  0.3s"
       ]
      },
      {
       "output_type": "stream",
       "stream": "stdout",
       "text": [
        "\n",
        "   838  |  \u001b[94m  0.012292\u001b[0m  |    0.025928  |     0.474102  |             |  0.3s"
       ]
      },
      {
       "output_type": "stream",
       "stream": "stdout",
       "text": [
        "\n",
        "   839  |  \u001b[94m  0.012283\u001b[0m  |    0.025929  |     0.473715  |             |  0.3s"
       ]
      },
      {
       "output_type": "stream",
       "stream": "stdout",
       "text": [
        "\n",
        "   840  |  \u001b[94m  0.012273\u001b[0m  |    0.025930  |     0.473321  |             |  0.3s"
       ]
      },
      {
       "output_type": "stream",
       "stream": "stdout",
       "text": [
        "\n",
        "   841  |  \u001b[94m  0.012264\u001b[0m  |    0.025931  |     0.472925  |             |  0.3s"
       ]
      },
      {
       "output_type": "stream",
       "stream": "stdout",
       "text": [
        "\n",
        "   842  |  \u001b[94m  0.012254\u001b[0m  |    0.025932  |     0.472537  |             |  0.3s"
       ]
      },
      {
       "output_type": "stream",
       "stream": "stdout",
       "text": [
        "\n",
        "   843  |  \u001b[94m  0.012244\u001b[0m  |    0.025933  |     0.472149  |             |  0.3s"
       ]
      },
      {
       "output_type": "stream",
       "stream": "stdout",
       "text": [
        "\n",
        "   844  |  \u001b[94m  0.012235\u001b[0m  |    0.025934  |     0.471761  |             |  0.3s"
       ]
      },
      {
       "output_type": "stream",
       "stream": "stdout",
       "text": [
        "\n",
        "   845  |  \u001b[94m  0.012225\u001b[0m  |    0.025935  |     0.471374  |             |  0.3s"
       ]
      },
      {
       "output_type": "stream",
       "stream": "stdout",
       "text": [
        "\n",
        "   846  |  \u001b[94m  0.012216\u001b[0m  |    0.025937  |     0.470984  |             |  0.3s"
       ]
      },
      {
       "output_type": "stream",
       "stream": "stdout",
       "text": [
        "\n",
        "   847  |  \u001b[94m  0.012206\u001b[0m  |    0.025938  |     0.470596  |             |  0.3s"
       ]
      },
      {
       "output_type": "stream",
       "stream": "stdout",
       "text": [
        "\n",
        "   848  |  \u001b[94m  0.012197\u001b[0m  |    0.025939  |     0.470207  |             |  0.3s"
       ]
      },
      {
       "output_type": "stream",
       "stream": "stdout",
       "text": [
        "\n",
        "   849  |  \u001b[94m  0.012187\u001b[0m  |    0.025940  |     0.469822  |             |  0.3s"
       ]
      },
      {
       "output_type": "stream",
       "stream": "stdout",
       "text": [
        "\n",
        "   850  |  \u001b[94m  0.012178\u001b[0m  |    0.025940  |     0.469442  |             |  0.3s"
       ]
      },
      {
       "output_type": "stream",
       "stream": "stdout",
       "text": [
        "\n",
        "   851  |  \u001b[94m  0.012168\u001b[0m  |    0.025942  |     0.469048  |             |  0.3s"
       ]
      },
      {
       "output_type": "stream",
       "stream": "stdout",
       "text": [
        "\n",
        "   852  |  \u001b[94m  0.012159\u001b[0m  |    0.025943  |     0.468670  |             |  0.3s"
       ]
      },
      {
       "output_type": "stream",
       "stream": "stdout",
       "text": [
        "\n",
        "   853  |  \u001b[94m  0.012149\u001b[0m  |    0.025944  |     0.468284  |             |  0.3s"
       ]
      },
      {
       "output_type": "stream",
       "stream": "stdout",
       "text": [
        "\n",
        "   854  |  \u001b[94m  0.012140\u001b[0m  |    0.025945  |     0.467902  |             |  0.3s"
       ]
      },
      {
       "output_type": "stream",
       "stream": "stdout",
       "text": [
        "\n",
        "   855  |  \u001b[94m  0.012130\u001b[0m  |    0.025946  |     0.467518  |             |  0.3s"
       ]
      },
      {
       "output_type": "stream",
       "stream": "stdout",
       "text": [
        "\n",
        "   856  |  \u001b[94m  0.012121\u001b[0m  |    0.025947  |     0.467134  |             |  0.3s"
       ]
      },
      {
       "output_type": "stream",
       "stream": "stdout",
       "text": [
        "\n",
        "   857  |  \u001b[94m  0.012111\u001b[0m  |    0.025948  |     0.466755  |             |  0.3s"
       ]
      },
      {
       "output_type": "stream",
       "stream": "stdout",
       "text": [
        "\n",
        "   858  |  \u001b[94m  0.012102\u001b[0m  |    0.025949  |     0.466370  |             |  0.3s"
       ]
      },
      {
       "output_type": "stream",
       "stream": "stdout",
       "text": [
        "\n",
        "   859  |  \u001b[94m  0.012093\u001b[0m  |    0.025950  |     0.465988  |             |  0.3s"
       ]
      },
      {
       "output_type": "stream",
       "stream": "stdout",
       "text": [
        "\n",
        "   860  |  \u001b[94m  0.012083\u001b[0m  |    0.025951  |     0.465605  |             |  0.3s"
       ]
      },
      {
       "output_type": "stream",
       "stream": "stdout",
       "text": [
        "\n",
        "   861  |  \u001b[94m  0.012074\u001b[0m  |    0.025952  |     0.465226  |             |  0.3s"
       ]
      },
      {
       "output_type": "stream",
       "stream": "stdout",
       "text": [
        "\n",
        "   862  |  \u001b[94m  0.012064\u001b[0m  |    0.025953  |     0.464851  |             |  0.3s"
       ]
      },
      {
       "output_type": "stream",
       "stream": "stdout",
       "text": [
        "\n",
        "   863  |  \u001b[94m  0.012055\u001b[0m  |    0.025955  |     0.464471  |             |  0.3s"
       ]
      },
      {
       "output_type": "stream",
       "stream": "stdout",
       "text": [
        "\n",
        "   864  |  \u001b[94m  0.012046\u001b[0m  |    0.025955  |     0.464101  |             |  0.3s"
       ]
      },
      {
       "output_type": "stream",
       "stream": "stdout",
       "text": [
        "\n",
        "   865  |  \u001b[94m  0.012036\u001b[0m  |    0.025956  |     0.463719  |             |  0.3s"
       ]
      },
      {
       "output_type": "stream",
       "stream": "stdout",
       "text": [
        "\n",
        "   866  |  \u001b[94m  0.012027\u001b[0m  |    0.025957  |     0.463339  |             |  0.3s"
       ]
      },
      {
       "output_type": "stream",
       "stream": "stdout",
       "text": [
        "\n",
        "   867  |  \u001b[94m  0.012018\u001b[0m  |    0.025959  |     0.462964  |             |  0.3s"
       ]
      },
      {
       "output_type": "stream",
       "stream": "stdout",
       "text": [
        "\n",
        "   868  |  \u001b[94m  0.012009\u001b[0m  |    0.025960  |     0.462587  |             |  0.3s"
       ]
      },
      {
       "output_type": "stream",
       "stream": "stdout",
       "text": [
        "\n",
        "   869  |  \u001b[94m  0.011999\u001b[0m  |    0.025961  |     0.462206  |             |  0.3s"
       ]
      },
      {
       "output_type": "stream",
       "stream": "stdout",
       "text": [
        "\n",
        "   870  |  \u001b[94m  0.011990\u001b[0m  |    0.025962  |     0.461830  |             |  0.3s"
       ]
      },
      {
       "output_type": "stream",
       "stream": "stdout",
       "text": [
        "\n",
        "   871  |  \u001b[94m  0.011981\u001b[0m  |    0.025963  |     0.461456  |             |  0.3s"
       ]
      },
      {
       "output_type": "stream",
       "stream": "stdout",
       "text": [
        "\n",
        "   872  |  \u001b[94m  0.011972\u001b[0m  |    0.025964  |     0.461077  |             |  0.3s"
       ]
      },
      {
       "output_type": "stream",
       "stream": "stdout",
       "text": [
        "\n",
        "   873  |  \u001b[94m  0.011962\u001b[0m  |    0.025966  |     0.460700  |             |  0.3s"
       ]
      },
      {
       "output_type": "stream",
       "stream": "stdout",
       "text": [
        "\n",
        "   874  |  \u001b[94m  0.011953\u001b[0m  |    0.025967  |     0.460328  |             |  0.3s"
       ]
      },
      {
       "output_type": "stream",
       "stream": "stdout",
       "text": [
        "\n",
        "   875  |  \u001b[94m  0.011944\u001b[0m  |    0.025968  |     0.459951  |             |  0.3s"
       ]
      },
      {
       "output_type": "stream",
       "stream": "stdout",
       "text": [
        "\n",
        "   876  |  \u001b[94m  0.011935\u001b[0m  |    0.025969  |     0.459580  |             |  0.3s"
       ]
      },
      {
       "output_type": "stream",
       "stream": "stdout",
       "text": [
        "\n",
        "   877  |  \u001b[94m  0.011926\u001b[0m  |    0.025970  |     0.459206  |             |  0.3s"
       ]
      },
      {
       "output_type": "stream",
       "stream": "stdout",
       "text": [
        "\n",
        "   878  |  \u001b[94m  0.011917\u001b[0m  |    0.025971  |     0.458834  |             |  0.3s"
       ]
      },
      {
       "output_type": "stream",
       "stream": "stdout",
       "text": [
        "\n",
        "   879  |  \u001b[94m  0.011907\u001b[0m  |    0.025973  |     0.458460  |             |  0.3s"
       ]
      },
      {
       "output_type": "stream",
       "stream": "stdout",
       "text": [
        "\n",
        "   880  |  \u001b[94m  0.011898\u001b[0m  |    0.025974  |     0.458086  |             |  0.3s"
       ]
      },
      {
       "output_type": "stream",
       "stream": "stdout",
       "text": [
        "\n",
        "   881  |  \u001b[94m  0.011889\u001b[0m  |    0.025975  |     0.457716  |             |  0.3s"
       ]
      },
      {
       "output_type": "stream",
       "stream": "stdout",
       "text": [
        "\n",
        "   882  |  \u001b[94m  0.011880\u001b[0m  |    0.025976  |     0.457340  |             |  0.3s"
       ]
      },
      {
       "output_type": "stream",
       "stream": "stdout",
       "text": [
        "\n",
        "   883  |  \u001b[94m  0.011871\u001b[0m  |    0.025977  |     0.456976  |             |  0.3s"
       ]
      },
      {
       "output_type": "stream",
       "stream": "stdout",
       "text": [
        "\n",
        "   884  |  \u001b[94m  0.011862\u001b[0m  |    0.025978  |     0.456604  |             |  0.3s"
       ]
      },
      {
       "output_type": "stream",
       "stream": "stdout",
       "text": [
        "\n",
        "   885  |  \u001b[94m  0.011853\u001b[0m  |    0.025979  |     0.456238  |             |  0.3s"
       ]
      },
      {
       "output_type": "stream",
       "stream": "stdout",
       "text": [
        "\n",
        "   886  |  \u001b[94m  0.011844\u001b[0m  |    0.025980  |     0.455868  |             |  0.3s"
       ]
      },
      {
       "output_type": "stream",
       "stream": "stdout",
       "text": [
        "\n",
        "   887  |  \u001b[94m  0.011835\u001b[0m  |    0.025981  |     0.455502  |             |  0.3s"
       ]
      },
      {
       "output_type": "stream",
       "stream": "stdout",
       "text": [
        "\n",
        "   888  |  \u001b[94m  0.011826\u001b[0m  |    0.025983  |     0.455133  |             |  0.3s"
       ]
      },
      {
       "output_type": "stream",
       "stream": "stdout",
       "text": [
        "\n",
        "   889  |  \u001b[94m  0.011817\u001b[0m  |    0.025984  |     0.454767  |             |  0.3s"
       ]
      },
      {
       "output_type": "stream",
       "stream": "stdout",
       "text": [
        "\n",
        "   890  |  \u001b[94m  0.011807\u001b[0m  |    0.025985  |     0.454397  |             |  0.3s"
       ]
      },
      {
       "output_type": "stream",
       "stream": "stdout",
       "text": [
        "\n",
        "   891  |  \u001b[94m  0.011799\u001b[0m  |    0.025986  |     0.454035  |             |  0.3s"
       ]
      },
      {
       "output_type": "stream",
       "stream": "stdout",
       "text": [
        "\n",
        "   892  |  \u001b[94m  0.011789\u001b[0m  |    0.025987  |     0.453666  |             |  0.3s"
       ]
      },
      {
       "output_type": "stream",
       "stream": "stdout",
       "text": [
        "\n",
        "   893  |  \u001b[94m  0.011781\u001b[0m  |    0.025988  |     0.453300  |             |  0.3s"
       ]
      },
      {
       "output_type": "stream",
       "stream": "stdout",
       "text": [
        "\n",
        "   894  |  \u001b[94m  0.011772\u001b[0m  |    0.025989  |     0.452936  |             |  0.3s"
       ]
      },
      {
       "output_type": "stream",
       "stream": "stdout",
       "text": [
        "\n",
        "   895  |  \u001b[94m  0.011763\u001b[0m  |    0.025991  |     0.452569  |             |  0.3s"
       ]
      },
      {
       "output_type": "stream",
       "stream": "stdout",
       "text": [
        "\n",
        "   896  |  \u001b[94m  0.011754\u001b[0m  |    0.025992  |     0.452203  |             |  0.3s"
       ]
      },
      {
       "output_type": "stream",
       "stream": "stdout",
       "text": [
        "\n",
        "   897  |  \u001b[94m  0.011745\u001b[0m  |    0.025993  |     0.451843  |             |  0.3s"
       ]
      },
      {
       "output_type": "stream",
       "stream": "stdout",
       "text": [
        "\n",
        "   898  |  \u001b[94m  0.011736\u001b[0m  |    0.025994  |     0.451476  |             |  0.3s"
       ]
      },
      {
       "output_type": "stream",
       "stream": "stdout",
       "text": [
        "\n",
        "   899  |  \u001b[94m  0.011727\u001b[0m  |    0.025995  |     0.451115  |             |  0.3s"
       ]
      },
      {
       "output_type": "stream",
       "stream": "stdout",
       "text": [
        "\n",
        "   900  |  \u001b[94m  0.011718\u001b[0m  |    0.025996  |     0.450755  |             |  0.3s"
       ]
      },
      {
       "output_type": "stream",
       "stream": "stdout",
       "text": [
        "\n",
        "   901  |  \u001b[94m  0.011709\u001b[0m  |    0.025997  |     0.450392  |             |  0.3s"
       ]
      },
      {
       "output_type": "stream",
       "stream": "stdout",
       "text": [
        "\n",
        "   902  |  \u001b[94m  0.011700\u001b[0m  |    0.025998  |     0.450033  |             |  0.3s"
       ]
      },
      {
       "output_type": "stream",
       "stream": "stdout",
       "text": [
        "\n",
        "   903  |  \u001b[94m  0.011691\u001b[0m  |    0.026000  |     0.449672  |             |  0.3s"
       ]
      },
      {
       "output_type": "stream",
       "stream": "stdout",
       "text": [
        "\n",
        "   904  |  \u001b[94m  0.011682\u001b[0m  |    0.026001  |     0.449311  |             |  0.3s"
       ]
      },
      {
       "output_type": "stream",
       "stream": "stdout",
       "text": [
        "\n",
        "   905  |  \u001b[94m  0.011674\u001b[0m  |    0.026002  |     0.448949  |             |  0.3s"
       ]
      },
      {
       "output_type": "stream",
       "stream": "stdout",
       "text": [
        "\n",
        "   906  |  \u001b[94m  0.011665\u001b[0m  |    0.026003  |     0.448590  |             |  0.3s"
       ]
      },
      {
       "output_type": "stream",
       "stream": "stdout",
       "text": [
        "\n",
        "   907  |  \u001b[94m  0.011656\u001b[0m  |    0.026004  |     0.448226  |             |  0.3s"
       ]
      },
      {
       "output_type": "stream",
       "stream": "stdout",
       "text": [
        "\n",
        "   908  |  \u001b[94m  0.011647\u001b[0m  |    0.026005  |     0.447874  |             |  0.3s"
       ]
      },
      {
       "output_type": "stream",
       "stream": "stdout",
       "text": [
        "\n",
        "   909  |  \u001b[94m  0.011638\u001b[0m  |    0.026007  |     0.447505  |             |  0.3s"
       ]
      },
      {
       "output_type": "stream",
       "stream": "stdout",
       "text": [
        "\n",
        "   910  |  \u001b[94m  0.011629\u001b[0m  |    0.026008  |     0.447152  |             |  0.3s"
       ]
      },
      {
       "output_type": "stream",
       "stream": "stdout",
       "text": [
        "\n",
        "   911  |  \u001b[94m  0.011621\u001b[0m  |    0.026009  |     0.446791  |             |  0.3s"
       ]
      },
      {
       "output_type": "stream",
       "stream": "stdout",
       "text": [
        "\n",
        "   912  |  \u001b[94m  0.011612\u001b[0m  |    0.026010  |     0.446435  |             |  0.3s"
       ]
      },
      {
       "output_type": "stream",
       "stream": "stdout",
       "text": [
        "\n",
        "   913  |  \u001b[94m  0.011603\u001b[0m  |    0.026011  |     0.446079  |             |  0.3s"
       ]
      },
      {
       "output_type": "stream",
       "stream": "stdout",
       "text": [
        "\n",
        "   914  |  \u001b[94m  0.011594\u001b[0m  |    0.026013  |     0.445724  |             |  0.3s"
       ]
      },
      {
       "output_type": "stream",
       "stream": "stdout",
       "text": [
        "\n",
        "   915  |  \u001b[94m  0.011586\u001b[0m  |    0.026013  |     0.445371  |             |  0.3s"
       ]
      },
      {
       "output_type": "stream",
       "stream": "stdout",
       "text": [
        "\n",
        "   916  |  \u001b[94m  0.011577\u001b[0m  |    0.026015  |     0.445011  |             |  0.3s"
       ]
      },
      {
       "output_type": "stream",
       "stream": "stdout",
       "text": [
        "\n",
        "   917  |  \u001b[94m  0.011568\u001b[0m  |    0.026016  |     0.444656  |             |  0.3s"
       ]
      },
      {
       "output_type": "stream",
       "stream": "stdout",
       "text": [
        "\n",
        "   918  |  \u001b[94m  0.011559\u001b[0m  |    0.026017  |     0.444305  |             |  0.3s"
       ]
      },
      {
       "output_type": "stream",
       "stream": "stdout",
       "text": [
        "\n",
        "   919  |  \u001b[94m  0.011551\u001b[0m  |    0.026018  |     0.443948  |             |  0.3s"
       ]
      },
      {
       "output_type": "stream",
       "stream": "stdout",
       "text": [
        "\n",
        "   920  |  \u001b[94m  0.011542\u001b[0m  |    0.026020  |     0.443589  |             |  0.3s"
       ]
      },
      {
       "output_type": "stream",
       "stream": "stdout",
       "text": [
        "\n",
        "   921  |  \u001b[94m  0.011533\u001b[0m  |    0.026021  |     0.443238  |             |  0.3s"
       ]
      },
      {
       "output_type": "stream",
       "stream": "stdout",
       "text": [
        "\n",
        "   922  |  \u001b[94m  0.011525\u001b[0m  |    0.026022  |     0.442885  |             |  0.3s"
       ]
      },
      {
       "output_type": "stream",
       "stream": "stdout",
       "text": [
        "\n",
        "   923  |  \u001b[94m  0.011516\u001b[0m  |    0.026023  |     0.442527  |             |  0.3s"
       ]
      },
      {
       "output_type": "stream",
       "stream": "stdout",
       "text": [
        "\n",
        "   924  |  \u001b[94m  0.011507\u001b[0m  |    0.026024  |     0.442176  |             |  0.3s"
       ]
      },
      {
       "output_type": "stream",
       "stream": "stdout",
       "text": [
        "\n",
        "   925  |  \u001b[94m  0.011499\u001b[0m  |    0.026026  |     0.441824  |             |  0.3s"
       ]
      },
      {
       "output_type": "stream",
       "stream": "stdout",
       "text": [
        "\n",
        "   926  |  \u001b[94m  0.011490\u001b[0m  |    0.026027  |     0.441473  |             |  0.3s"
       ]
      },
      {
       "output_type": "stream",
       "stream": "stdout",
       "text": [
        "\n",
        "   927  |  \u001b[94m  0.011482\u001b[0m  |    0.026028  |     0.441121  |             |  0.3s"
       ]
      },
      {
       "output_type": "stream",
       "stream": "stdout",
       "text": [
        "\n",
        "   928  |  \u001b[94m  0.011473\u001b[0m  |    0.026029  |     0.440770  |             |  0.3s"
       ]
      },
      {
       "output_type": "stream",
       "stream": "stdout",
       "text": [
        "\n",
        "   929  |  \u001b[94m  0.011464\u001b[0m  |    0.026031  |     0.440417  |             |  0.3s"
       ]
      },
      {
       "output_type": "stream",
       "stream": "stdout",
       "text": [
        "\n",
        "   930  |  \u001b[94m  0.011456\u001b[0m  |    0.026032  |     0.440067  |             |  0.3s"
       ]
      },
      {
       "output_type": "stream",
       "stream": "stdout",
       "text": [
        "\n",
        "   931  |  \u001b[94m  0.011447\u001b[0m  |    0.026033  |     0.439708  |             |  0.3s"
       ]
      },
      {
       "output_type": "stream",
       "stream": "stdout",
       "text": [
        "\n",
        "   932  |  \u001b[94m  0.011439\u001b[0m  |    0.026034  |     0.439363  |             |  0.3s"
       ]
      },
      {
       "output_type": "stream",
       "stream": "stdout",
       "text": [
        "\n",
        "   933  |  \u001b[94m  0.011430\u001b[0m  |    0.026036  |     0.439013  |             |  0.3s"
       ]
      },
      {
       "output_type": "stream",
       "stream": "stdout",
       "text": [
        "\n",
        "   934  |  \u001b[94m  0.011421\u001b[0m  |    0.026037  |     0.438667  |             |  0.3s"
       ]
      },
      {
       "output_type": "stream",
       "stream": "stdout",
       "text": [
        "\n",
        "   935  |  \u001b[94m  0.011413\u001b[0m  |    0.026038  |     0.438317  |             |  0.3s"
       ]
      },
      {
       "output_type": "stream",
       "stream": "stdout",
       "text": [
        "\n",
        "   936  |  \u001b[94m  0.011404\u001b[0m  |    0.026039  |     0.437966  |             |  0.3s"
       ]
      },
      {
       "output_type": "stream",
       "stream": "stdout",
       "text": [
        "\n",
        "   937  |  \u001b[94m  0.011396\u001b[0m  |    0.026041  |     0.437616  |             |  0.3s"
       ]
      },
      {
       "output_type": "stream",
       "stream": "stdout",
       "text": [
        "\n",
        "   938  |  \u001b[94m  0.011387\u001b[0m  |    0.026042  |     0.437265  |             |  0.3s"
       ]
      },
      {
       "output_type": "stream",
       "stream": "stdout",
       "text": [
        "\n",
        "   939  |  \u001b[94m  0.011379\u001b[0m  |    0.026043  |     0.436920  |             |  0.3s"
       ]
      },
      {
       "output_type": "stream",
       "stream": "stdout",
       "text": [
        "\n",
        "   940  |  \u001b[94m  0.011370\u001b[0m  |    0.026045  |     0.436569  |             |  0.3s"
       ]
      },
      {
       "output_type": "stream",
       "stream": "stdout",
       "text": [
        "\n",
        "   941  |  \u001b[94m  0.011362\u001b[0m  |    0.026046  |     0.436224  |             |  0.3s"
       ]
      },
      {
       "output_type": "stream",
       "stream": "stdout",
       "text": [
        "\n",
        "   942  |  \u001b[94m  0.011353\u001b[0m  |    0.026047  |     0.435878  |             |  0.3s"
       ]
      },
      {
       "output_type": "stream",
       "stream": "stdout",
       "text": [
        "\n",
        "   943  |  \u001b[94m  0.011345\u001b[0m  |    0.026049  |     0.435529  |             |  0.3s"
       ]
      },
      {
       "output_type": "stream",
       "stream": "stdout",
       "text": [
        "\n",
        "   944  |  \u001b[94m  0.011336\u001b[0m  |    0.026050  |     0.435182  |             |  0.3s"
       ]
      },
      {
       "output_type": "stream",
       "stream": "stdout",
       "text": [
        "\n",
        "   945  |  \u001b[94m  0.011328\u001b[0m  |    0.026051  |     0.434838  |             |  0.3s"
       ]
      },
      {
       "output_type": "stream",
       "stream": "stdout",
       "text": [
        "\n",
        "   946  |  \u001b[94m  0.011320\u001b[0m  |    0.026052  |     0.434492  |             |  0.3s"
       ]
      },
      {
       "output_type": "stream",
       "stream": "stdout",
       "text": [
        "\n",
        "   947  |  \u001b[94m  0.011311\u001b[0m  |    0.026054  |     0.434144  |             |  0.3s"
       ]
      },
      {
       "output_type": "stream",
       "stream": "stdout",
       "text": [
        "\n",
        "   948  |  \u001b[94m  0.011303\u001b[0m  |    0.026055  |     0.433804  |             |  0.3s"
       ]
      },
      {
       "output_type": "stream",
       "stream": "stdout",
       "text": [
        "\n",
        "   949  |  \u001b[94m  0.011294\u001b[0m  |    0.026057  |     0.433457  |             |  0.3s"
       ]
      },
      {
       "output_type": "stream",
       "stream": "stdout",
       "text": [
        "\n",
        "   950  |  \u001b[94m  0.011286\u001b[0m  |    0.026058  |     0.433110  |             |  0.3s"
       ]
      },
      {
       "output_type": "stream",
       "stream": "stdout",
       "text": [
        "\n",
        "   951  |  \u001b[94m  0.011278\u001b[0m  |    0.026059  |     0.432768  |             |  0.3s"
       ]
      },
      {
       "output_type": "stream",
       "stream": "stdout",
       "text": [
        "\n",
        "   952  |  \u001b[94m  0.011269\u001b[0m  |    0.026061  |     0.432421  |             |  0.3s"
       ]
      },
      {
       "output_type": "stream",
       "stream": "stdout",
       "text": [
        "\n",
        "   953  |  \u001b[94m  0.011261\u001b[0m  |    0.026062  |     0.432076  |             |  0.3s"
       ]
      },
      {
       "output_type": "stream",
       "stream": "stdout",
       "text": [
        "\n",
        "   954  |  \u001b[94m  0.011253\u001b[0m  |    0.026063  |     0.431739  |             |  0.3s"
       ]
      },
      {
       "output_type": "stream",
       "stream": "stdout",
       "text": [
        "\n",
        "   955  |  \u001b[94m  0.011244\u001b[0m  |    0.026065  |     0.431399  |             |  0.3s"
       ]
      },
      {
       "output_type": "stream",
       "stream": "stdout",
       "text": [
        "\n",
        "   956  |  \u001b[94m  0.011236\u001b[0m  |    0.026066  |     0.431054  |             |  0.3s"
       ]
      },
      {
       "output_type": "stream",
       "stream": "stdout",
       "text": [
        "\n",
        "   957  |  \u001b[94m  0.011228\u001b[0m  |    0.026068  |     0.430712  |             |  0.3s"
       ]
      },
      {
       "output_type": "stream",
       "stream": "stdout",
       "text": [
        "\n",
        "   958  |  \u001b[94m  0.011219\u001b[0m  |    0.026069  |     0.430370  |             |  0.3s"
       ]
      },
      {
       "output_type": "stream",
       "stream": "stdout",
       "text": [
        "\n",
        "   959  |  \u001b[94m  0.011211\u001b[0m  |    0.026071  |     0.430028  |             |  0.3s"
       ]
      },
      {
       "output_type": "stream",
       "stream": "stdout",
       "text": [
        "\n",
        "   960  |  \u001b[94m  0.011203\u001b[0m  |    0.026072  |     0.429685  |             |  0.3s"
       ]
      },
      {
       "output_type": "stream",
       "stream": "stdout",
       "text": [
        "\n",
        "   961  |  \u001b[94m  0.011195\u001b[0m  |    0.026073  |     0.429349  |             |  0.3s"
       ]
      },
      {
       "output_type": "stream",
       "stream": "stdout",
       "text": [
        "\n",
        "   962  |  \u001b[94m  0.011186\u001b[0m  |    0.026075  |     0.429004  |             |  0.3s"
       ]
      },
      {
       "output_type": "stream",
       "stream": "stdout",
       "text": [
        "\n",
        "   963  |  \u001b[94m  0.011178\u001b[0m  |    0.026076  |     0.428670  |             |  0.3s"
       ]
      },
      {
       "output_type": "stream",
       "stream": "stdout",
       "text": [
        "\n",
        "   964  |  \u001b[94m  0.011170\u001b[0m  |    0.026078  |     0.428327  |             |  0.3s"
       ]
      },
      {
       "output_type": "stream",
       "stream": "stdout",
       "text": [
        "\n",
        "   965  |  \u001b[94m  0.011162\u001b[0m  |    0.026079  |     0.427990  |             |  0.3s"
       ]
      },
      {
       "output_type": "stream",
       "stream": "stdout",
       "text": [
        "\n",
        "   966  |  \u001b[94m  0.011153\u001b[0m  |    0.026081  |     0.427647  |             |  0.3s"
       ]
      },
      {
       "output_type": "stream",
       "stream": "stdout",
       "text": [
        "\n",
        "   967  |  \u001b[94m  0.011145\u001b[0m  |    0.026082  |     0.427312  |             |  0.3s"
       ]
      },
      {
       "output_type": "stream",
       "stream": "stdout",
       "text": [
        "\n",
        "   968  |  \u001b[94m  0.011137\u001b[0m  |    0.026083  |     0.426974  |             |  0.3s"
       ]
      },
      {
       "output_type": "stream",
       "stream": "stdout",
       "text": [
        "\n",
        "   969  |  \u001b[94m  0.011129\u001b[0m  |    0.026085  |     0.426631  |             |  0.3s"
       ]
      },
      {
       "output_type": "stream",
       "stream": "stdout",
       "text": [
        "\n",
        "   970  |  \u001b[94m  0.011120\u001b[0m  |    0.026086  |     0.426300  |             |  0.3s"
       ]
      },
      {
       "output_type": "stream",
       "stream": "stdout",
       "text": [
        "\n",
        "   971  |  \u001b[94m  0.011112\u001b[0m  |    0.026088  |     0.425959  |             |  0.3s"
       ]
      },
      {
       "output_type": "stream",
       "stream": "stdout",
       "text": [
        "\n",
        "   972  |  \u001b[94m  0.011104\u001b[0m  |    0.026089  |     0.425624  |             |  0.3s"
       ]
      },
      {
       "output_type": "stream",
       "stream": "stdout",
       "text": [
        "\n",
        "   973  |  \u001b[94m  0.011096\u001b[0m  |    0.026091  |     0.425287  |             |  0.3s"
       ]
      },
      {
       "output_type": "stream",
       "stream": "stdout",
       "text": [
        "\n",
        "   974  |  \u001b[94m  0.011088\u001b[0m  |    0.026092  |     0.424949  |             |  0.3s"
       ]
      },
      {
       "output_type": "stream",
       "stream": "stdout",
       "text": [
        "\n",
        "   975  |  \u001b[94m  0.011080\u001b[0m  |    0.026094  |     0.424612  |             |  0.3s"
       ]
      },
      {
       "output_type": "stream",
       "stream": "stdout",
       "text": [
        "\n",
        "   976  |  \u001b[94m  0.011072\u001b[0m  |    0.026095  |     0.424278  |             |  0.3s"
       ]
      },
      {
       "output_type": "stream",
       "stream": "stdout",
       "text": [
        "\n",
        "   977  |  \u001b[94m  0.011063\u001b[0m  |    0.026097  |     0.423938  |             |  0.3s"
       ]
      },
      {
       "output_type": "stream",
       "stream": "stdout",
       "text": [
        "\n",
        "   978  |  \u001b[94m  0.011055\u001b[0m  |    0.026098  |     0.423608  |             |  0.3s"
       ]
      },
      {
       "output_type": "stream",
       "stream": "stdout",
       "text": [
        "\n",
        "   979  |  \u001b[94m  0.011047\u001b[0m  |    0.026100  |     0.423268  |             |  0.3s"
       ]
      },
      {
       "output_type": "stream",
       "stream": "stdout",
       "text": [
        "\n",
        "   980  |  \u001b[94m  0.011039\u001b[0m  |    0.026101  |     0.422935  |             |  0.3s"
       ]
      },
      {
       "output_type": "stream",
       "stream": "stdout",
       "text": [
        "\n",
        "   981  |  \u001b[94m  0.011031\u001b[0m  |    0.026103  |     0.422600  |             |  0.3s"
       ]
      },
      {
       "output_type": "stream",
       "stream": "stdout",
       "text": [
        "\n",
        "   982  |  \u001b[94m  0.011023\u001b[0m  |    0.026104  |     0.422274  |             |  0.3s"
       ]
      },
      {
       "output_type": "stream",
       "stream": "stdout",
       "text": [
        "\n",
        "   983  |  \u001b[94m  0.011015\u001b[0m  |    0.026105  |     0.421941  |             |  0.3s"
       ]
      },
      {
       "output_type": "stream",
       "stream": "stdout",
       "text": [
        "\n",
        "   984  |  \u001b[94m  0.011007\u001b[0m  |    0.026107  |     0.421612  |             |  0.3s"
       ]
      },
      {
       "output_type": "stream",
       "stream": "stdout",
       "text": [
        "\n",
        "   985  |  \u001b[94m  0.010999\u001b[0m  |    0.026108  |     0.421280  |             |  0.3s"
       ]
      },
      {
       "output_type": "stream",
       "stream": "stdout",
       "text": [
        "\n",
        "   986  |  \u001b[94m  0.010991\u001b[0m  |    0.026110  |     0.420945  |             |  0.3s"
       ]
      },
      {
       "output_type": "stream",
       "stream": "stdout",
       "text": [
        "\n",
        "   987  |  \u001b[94m  0.010983\u001b[0m  |    0.026111  |     0.420611  |             |  0.3s"
       ]
      },
      {
       "output_type": "stream",
       "stream": "stdout",
       "text": [
        "\n",
        "   988  |  \u001b[94m  0.010975\u001b[0m  |    0.026113  |     0.420281  |             |  0.3s"
       ]
      },
      {
       "output_type": "stream",
       "stream": "stdout",
       "text": [
        "\n",
        "   989  |  \u001b[94m  0.010967\u001b[0m  |    0.026114  |     0.419950  |             |  0.3s"
       ]
      },
      {
       "output_type": "stream",
       "stream": "stdout",
       "text": [
        "\n",
        "   990  |  \u001b[94m  0.010959\u001b[0m  |    0.026116  |     0.419618  |             |  0.3s"
       ]
      },
      {
       "output_type": "stream",
       "stream": "stdout",
       "text": [
        "\n",
        "   991  |  \u001b[94m  0.010951\u001b[0m  |    0.026117  |     0.419288  |             |  0.3s"
       ]
      },
      {
       "output_type": "stream",
       "stream": "stdout",
       "text": [
        "\n",
        "   992  |  \u001b[94m  0.010943\u001b[0m  |    0.026118  |     0.418962  |             |  0.3s"
       ]
      },
      {
       "output_type": "stream",
       "stream": "stdout",
       "text": [
        "\n",
        "   993  |  \u001b[94m  0.010935\u001b[0m  |    0.026120  |     0.418631  |             |  0.3s"
       ]
      },
      {
       "output_type": "stream",
       "stream": "stdout",
       "text": [
        "\n",
        "   994  |  \u001b[94m  0.010927\u001b[0m  |    0.026121  |     0.418306  |             |  0.3s"
       ]
      },
      {
       "output_type": "stream",
       "stream": "stdout",
       "text": [
        "\n",
        "   995  |  \u001b[94m  0.010919\u001b[0m  |    0.026123  |     0.417975  |             |  0.3s"
       ]
      },
      {
       "output_type": "stream",
       "stream": "stdout",
       "text": [
        "\n",
        "   996  |  \u001b[94m  0.010911\u001b[0m  |    0.026124  |     0.417652  |             |  0.3s"
       ]
      },
      {
       "output_type": "stream",
       "stream": "stdout",
       "text": [
        "\n",
        "   997  |  \u001b[94m  0.010903\u001b[0m  |    0.026126  |     0.417316  |             |  0.3s"
       ]
      },
      {
       "output_type": "stream",
       "stream": "stdout",
       "text": [
        "\n",
        "   998  |  \u001b[94m  0.010895\u001b[0m  |    0.026127  |     0.416989  |             |  0.3s"
       ]
      },
      {
       "output_type": "stream",
       "stream": "stdout",
       "text": [
        "\n",
        "   999  |  \u001b[94m  0.010887\u001b[0m  |    0.026129  |     0.416660  |             |  0.3s"
       ]
      },
      {
       "output_type": "stream",
       "stream": "stdout",
       "text": [
        "\n",
        "  1000  |  \u001b[94m  0.010879\u001b[0m  |    0.026130  |     0.416337  |             |  0.3s"
       ]
      },
      {
       "output_type": "stream",
       "stream": "stdout",
       "text": [
        "\n",
        "CPU times: user 3min 20s, sys: 1min 33s, total: 4min 54s\n",
        "Wall time: 4min 55s\n"
       ]
      },
      {
       "metadata": {},
       "output_type": "pyout",
       "prompt_number": 13,
       "text": [
        "NeuralNet(X_tensor_type=<function matrix at 0x7f95fdd9bc08>,\n",
        "     batch_iterator=<nolearn.lasagne.BatchIterator object at 0x7f95bc2f2a10>,\n",
        "     eval_size=0.2, hidden_num_units=300, input_shape=(128, 2500),\n",
        "     layers=[('input', <class 'lasagne.layers.base.InputLayer'>), ('hidden', <class 'lasagne.layers.base.DenseLayer'>), ('output', <class 'lasagne.layers.base.DenseLayer'>)],\n",
        "     loss=<function mse at 0x7f95bc2e72a8>, max_epochs=1000,\n",
        "     more_params={}, on_epoch_finished=(), on_training_finished=(),\n",
        "     output_nonlinearity=None, output_num_units=32, regression=True,\n",
        "     upate=<function nesterov_momentum at 0x7f95bc2f40c8>,\n",
        "     update=<function nesterov_momentum at 0x7f95bc2f40c8>,\n",
        "     update_learning_rate=0.01, update_momentum=0.9,\n",
        "     use_label_encoder=False, verbose=1,\n",
        "     y_tensor_type=TensorType(float32, matrix))"
       ]
      }
     ],
     "prompt_number": 13
    },
    {
     "cell_type": "code",
     "collapsed": false,
     "input": [
      "train_loss = np.array([i[\"train_loss\"] for i in net1.train_history_])\n",
      "valid_loss = np.array([i[\"valid_loss\"] for i in net1.train_history_])\n",
      "pyplot.plot(train_loss, linewidth=3, label=\"train\")\n",
      "pyplot.plot(valid_loss, linewidth=3, label=\"valid\")\n",
      "pyplot.grid()\n",
      "pyplot.legend()\n",
      "pyplot.xlabel(\"epoch\")\n",
      "pyplot.ylabel(\"loss\")\n",
      "pyplot.ylim(2.5e-2, 0.32e-1)\n",
      "# pyplot.yscale(\"log\")\n",
      "pyplot.show()"
     ],
     "language": "python",
     "metadata": {},
     "outputs": [
      {
       "metadata": {},
       "output_type": "display_data",
       "png": "[encoded data removed]",
       "text": [
        "<matplotlib.figure.Figure at 0x7f95acb83b10>"
       ]
      }
     ],
     "prompt_number": 14
    },
    {
     "cell_type": "code",
     "collapsed": false,
     "input": [
      "from sklearn import metrics\n",
      "\n",
      "# overfit result, should use validation result\n",
      "y_pred = net1.predict(X_test)\n",
      "# print y_pred[1]\n",
      "# np.argmax(y_pred[i]),np.argmax(y[i])\n",
      "y_pred = np.array(map((lambda x: np.argmax(x)), y_pred))\n",
      "yyy = np.array(map((lambda x: np.argmax(x)), y_test))\n",
      "\n",
      "print metrics.classification_report((yyy), (y_pred))"
     ],
     "language": "python",
     "metadata": {},
     "outputs": [
      {
       "output_type": "stream",
       "stream": "stdout",
       "text": [
        "             precision    recall  f1-score   support\n",
        "\n",
        "          0       0.61      0.59      0.60        94\n",
        "          1       0.34      0.40      0.37       111\n",
        "          2       0.46      0.36      0.41       113\n",
        "          3       0.45      0.34      0.39       102\n",
        "          4       0.43      0.42      0.42       110\n",
        "          5       0.48      0.50      0.49       101\n",
        "          6       0.46      0.47      0.47       114\n",
        "          7       0.42      0.49      0.45       104\n",
        "          8       0.50      0.50      0.50       102\n",
        "          9       0.51      0.51      0.51       117\n",
        "         10       0.58      0.37      0.45       114\n",
        "         11       0.43      0.44      0.43       103\n",
        "         12       0.43      0.69      0.53       173\n",
        "         13       0.44      0.58      0.50       178\n",
        "         14       0.50      0.59      0.54       169\n",
        "         15       0.65      0.58      0.62        91\n",
        "         16       0.45      0.36      0.40        87\n",
        "         17       0.42      0.24      0.31        82\n",
        "         18       0.23      0.17      0.19        72\n",
        "         19       0.58      0.65      0.62        75\n",
        "         20       0.40      0.23      0.30        77\n",
        "         21       0.32      0.46      0.38       167\n",
        "         22       0.51      0.48      0.49        79\n",
        "         23       0.44      0.41      0.42        91\n",
        "         24       0.42      0.30      0.35        88\n",
        "         25       0.51      0.48      0.49        86\n",
        "         26       0.38      0.23      0.28        80\n",
        "         27       0.57      0.54      0.56        72\n",
        "         28       0.45      0.35      0.40        93\n",
        "         29       0.56      0.56      0.56        84\n",
        "         30       0.44      0.40      0.42        83\n",
        "         31       0.32      0.30      0.31        81\n",
        "\n",
        "avg / total       0.46      0.45      0.45      3293\n",
        "\n"
       ]
      }
     ],
     "prompt_number": 15
    },
    {
     "cell_type": "markdown",
     "metadata": {},
     "source": [
      "## NET 6 in the rock"
     ]
    },
    {
     "cell_type": "code",
     "collapsed": false,
     "input": [
      "import theano\n",
      "from lasagne import layers\n",
      "from lasagne.updates import nesterov_momentum\n",
      "from nolearn.lasagne import NeuralNet\n",
      "\n",
      "def float32(k):\n",
      "    return np.cast['float32'](k)\n",
      "\n",
      "class AdjustVariable(object):\n",
      "    def __init__(self, name, start=0.03, stop=0.001):\n",
      "        self.name = name\n",
      "        self.start, self.stop = start, stop\n",
      "        self.ls = None\n",
      "\n",
      "    def __call__(self, nn, train_history):\n",
      "        if self.ls is None:\n",
      "            self.ls = np.linspace(self.start, self.stop, nn.max_epochs)\n",
      "\n",
      "        epoch = train_history[-1]['epoch']\n",
      "        new_value = float32(self.ls[epoch - 1])\n",
      "        getattr(nn, self.name).set_value(new_value)\n",
      "\n",
      "class EarlyStopping(object):\n",
      "    def __init__(self, patience=100):\n",
      "        self.patience = patience\n",
      "        self.best_valid = np.inf\n",
      "        self.best_valid_epoch = 0\n",
      "        self.best_weights = None\n",
      "\n",
      "    def __call__(self, nn, train_history):\n",
      "        current_valid = train_history[-1]['valid_loss']\n",
      "        current_epoch = train_history[-1]['epoch']\n",
      "        if current_valid < self.best_valid:\n",
      "            self.best_valid = current_valid\n",
      "            self.best_valid_epoch = current_epoch\n",
      "            self.best_weights = [w.get_value() for w in nn.get_all_params()]\n",
      "        elif self.best_valid_epoch + self.patience < current_epoch:\n",
      "            print(\"Early stopping.\")\n",
      "            print(\"Best valid loss was {:.6f} at epoch {}.\".format(\n",
      "                self.best_valid, self.best_valid_epoch))\n",
      "            nn.load_weights_from(self.best_weights)\n",
      "            raise StopIteration()\n",
      "        \n",
      "# use the cuda-convnet implementations of conv and max-pool layer\n",
      "Conv2DLayer = layers.cuda_convnet.Conv2DCCLayer\n",
      "MaxPool2DLayer = layers.cuda_convnet.MaxPool2DCCLayer\n",
      "\n",
      "net7 = NeuralNet(\n",
      "    layers=[\n",
      "        ('input', layers.InputLayer),\n",
      "        ('conv1', Conv2DLayer),\n",
      "        ('pool1', MaxPool2DLayer),\n",
      "        ('dropout1', layers.DropoutLayer),  # !\n",
      "        ('conv2', Conv2DLayer),\n",
      "        ('pool2', MaxPool2DLayer),\n",
      "        ('dropout2', layers.DropoutLayer),  # !\n",
      "        ('conv3', Conv2DLayer),\n",
      "        ('pool3', MaxPool2DLayer),\n",
      "        ('dropout3', layers.DropoutLayer),  # !\n",
      "        ('hidden4', layers.DenseLayer),\n",
      "        ('dropout4', layers.DropoutLayer),  # !\n",
      "        ('hidden5', layers.DenseLayer),\n",
      "        ('output', layers.DenseLayer),\n",
      "        ],\n",
      "    input_shape=(128, 1, 50,50),\n",
      "    conv1_num_filters=32, conv1_filter_size=(3, 3), pool1_ds=(2, 2),\n",
      "    # dropout1_p=0.1, # !\n",
      "    dropout1_p=0.1,  # !\n",
      "    conv2_num_filters=64, conv2_filter_size=(2, 2), pool2_ds=(2, 2),\n",
      "    # dropout2_p=0.2,  # !\n",
      "    dropout2_p=0.2,  # !\n",
      "    conv3_num_filters=128, conv3_filter_size=(2, 2), pool3_ds=(2, 2),\n",
      "    # dropout3_p=0.3,  # !\n",
      "    dropout3_p=0.3,  # !\n",
      "    hidden4_num_units=1000,\n",
      "    # hidden4_num_units=1000,  # !\n",
      "    dropout4_p=0.5,  # !\n",
      "    hidden5_num_units=1000,\n",
      "    # hidden5_num_units=1000,  # !\n",
      "    output_num_units=32, output_nonlinearity=None,\n",
      "\n",
      "    update_learning_rate=theano.shared(float32(0.03)),\n",
      "    update_momentum=theano.shared(float32(0.9)),\n",
      "\n",
      "    regression=True,\n",
      "#     batch_iterator=FlipBatchIterator(batch_size=128),\n",
      "    on_epoch_finished=[\n",
      "        AdjustVariable('update_learning_rate', start=0.03, stop=0.0001),\n",
      "        AdjustVariable('update_momentum', start=0.9, stop=0.999),\n",
      "        EarlyStopping(patience=200),\n",
      "        ],\n",
      "    max_epochs=3500,\n",
      "    # max_epochs=7000,\n",
      "    verbose=1,\n",
      "    )"
     ],
     "language": "python",
     "metadata": {},
     "outputs": [],
     "prompt_number": 17
    },
    {
     "cell_type": "code",
     "collapsed": false,
     "input": [
      "def transform_6(X,y):\n",
      "    X = X.reshape(-1, 50,50, 1)\n",
      "    X = X.transpose(0, 3, 1, 2)\n",
      "    return X, y\n",
      "\n",
      "# X_train = X_train.reshape(-1,1,sizee,sizee)\n",
      "# X_test = X_test.reshape(-1, 1,sizee,sizee)\n",
      "# X_train.shape"
     ],
     "language": "python",
     "metadata": {},
     "outputs": [],
     "prompt_number": 18
    },
    {
     "cell_type": "code",
     "collapsed": false,
     "input": [
      "import sys\n",
      "sys.setrecursionlimit(10000)\n",
      "\n",
      "X_6, y_6 = transform_6(X_train, y_train)\n",
      "%time net7.fit(X_6, y_6)\n",
      "\n",
      "import cPickle as pickle\n",
      "with open('Lasagne_5th_less_combine_original_drop.pickle', 'wb') as f:\n",
      "    pickle.dump(net7, f, -1)"
     ],
     "language": "python",
     "metadata": {},
     "outputs": [
      {
       "output_type": "stream",
       "stream": "stdout",
       "text": [
        "  InputLayer        \t(128, 1, 50, 50)    \tproduces    2500 outputs\n",
        "  Conv2DCCLayer     \t(128, 32, 48, 48)   \tproduces   73728 outputs\n",
        "  MaxPool2DCCLayer  \t(128, 32, 24, 24)   \tproduces   18432 outputs\n",
        "  DropoutLayer      \t(128, 32, 24, 24)   \tproduces   18432 outputs\n",
        "  Conv2DCCLayer     \t(128, 64, 23, 23)   \tproduces   33856 outputs\n",
        "  MaxPool2DCCLayer  \t(128, 64, 12, 12)   \tproduces    9216 outputs\n",
        "  DropoutLayer      \t(128, 64, 12, 12)   \tproduces    9216 outputs\n",
        "  Conv2DCCLayer     \t(128, 128, 11, 11)  \tproduces   15488 outputs\n",
        "  MaxPool2DCCLayer  \t(128, 128, 6, 6)    \tproduces    4608 outputs\n",
        "  DropoutLayer      \t(128, 128, 6, 6)    \tproduces    4608 outputs\n",
        "  DenseLayer        \t(128, 1000)         \tproduces    1000 outputs\n",
        "  DropoutLayer      \t(128, 1000)         \tproduces    1000 outputs\n",
        "  DenseLayer        \t(128, 1000)         \tproduces    1000 outputs\n",
        "  DenseLayer        \t(128, 32)           \tproduces      32 outputs\n",
        "\n",
        " Epoch  |  Train loss  |  Valid loss  |  Train / Val  |  Valid acc  |  Dur\n",
        "--------|--------------|--------------|---------------|-------------|-------"
       ]
      },
      {
       "output_type": "stream",
       "stream": "stdout",
       "text": [
        "\n",
        "     1  |  \u001b[94m  0.031680\u001b[0m  |  \u001b[32m  0.030237\u001b[0m  |     1.047713  |             |  4.4s"
       ]
      },
      {
       "output_type": "stream",
       "stream": "stdout",
       "text": [
        "\n",
        "     2  |  \u001b[94m  0.030316\u001b[0m  |  \u001b[32m  0.030137\u001b[0m  |     1.005960  |             |  4.4s"
       ]
      },
      {
       "output_type": "stream",
       "stream": "stdout",
       "text": [
        "\n",
        "     3  |  \u001b[94m  0.030183\u001b[0m  |  \u001b[32m  0.030083\u001b[0m  |     1.003325  |             |  4.4s"
       ]
      },
      {
       "output_type": "stream",
       "stream": "stdout",
       "text": [
        "\n",
        "     4  |  \u001b[94m  0.030112\u001b[0m  |  \u001b[32m  0.030035\u001b[0m  |     1.002581  |             |  4.4s"
       ]
      },
      {
       "output_type": "stream",
       "stream": "stdout",
       "text": [
        "\n",
        "     5  |  \u001b[94m  0.030074\u001b[0m  |  \u001b[32m  0.029984\u001b[0m  |     1.003011  |             |  4.4s"
       ]
      },
      {
       "output_type": "stream",
       "stream": "stdout",
       "text": [
        "\n",
        "     6  |  \u001b[94m  0.030010\u001b[0m  |  \u001b[32m  0.029926\u001b[0m  |     1.002801  |             |  4.4s"
       ]
      },
      {
       "output_type": "stream",
       "stream": "stdout",
       "text": [
        "\n",
        "     7  |  \u001b[94m  0.029947\u001b[0m  |  \u001b[32m  0.029869\u001b[0m  |     1.002619  |             |  4.4s"
       ]
      },
      {
       "output_type": "stream",
       "stream": "stdout",
       "text": [
        "\n",
        "     8  |  \u001b[94m  0.029876\u001b[0m  |  \u001b[32m  0.029797\u001b[0m  |     1.002648  |             |  4.4s"
       ]
      },
      {
       "output_type": "stream",
       "stream": "stdout",
       "text": [
        "\n",
        "     9  |  \u001b[94m  0.029820\u001b[0m  |  \u001b[32m  0.029727\u001b[0m  |     1.003121  |             |  4.4s"
       ]
      },
      {
       "output_type": "stream",
       "stream": "stdout",
       "text": [
        "\n",
        "    10  |  \u001b[94m  0.029747\u001b[0m  |  \u001b[32m  0.029659\u001b[0m  |     1.002966  |             |  4.4s"
       ]
      },
      {
       "output_type": "stream",
       "stream": "stdout",
       "text": [
        "\n",
        "    11  |  \u001b[94m  0.029682\u001b[0m  |  \u001b[32m  0.029592\u001b[0m  |     1.003041  |             |  4.4s"
       ]
      },
      {
       "output_type": "stream",
       "stream": "stdout",
       "text": [
        "\n",
        "    12  |  \u001b[94m  0.029619\u001b[0m  |  \u001b[32m  0.029529\u001b[0m  |     1.003034  |             |  4.4s"
       ]
      },
      {
       "output_type": "stream",
       "stream": "stdout",
       "text": [
        "\n",
        "    13  |  \u001b[94m  0.029541\u001b[0m  |  \u001b[32m  0.029460\u001b[0m  |     1.002757  |             |  4.4s"
       ]
      },
      {
       "output_type": "stream",
       "stream": "stdout",
       "text": [
        "\n",
        "    14  |  \u001b[94m  0.029469\u001b[0m  |  \u001b[32m  0.029398\u001b[0m  |     1.002440  |             |  4.4s"
       ]
      },
      {
       "output_type": "stream",
       "stream": "stdout",
       "text": [
        "\n",
        "    15  |  \u001b[94m  0.029405\u001b[0m  |  \u001b[32m  0.029326\u001b[0m  |     1.002671  |             |  4.4s"
       ]
      },
      {
       "output_type": "stream",
       "stream": "stdout",
       "text": [
        "\n",
        "    16  |  \u001b[94m  0.029356\u001b[0m  |  \u001b[32m  0.029279\u001b[0m  |     1.002621  |             |  4.4s"
       ]
      },
      {
       "output_type": "stream",
       "stream": "stdout",
       "text": [
        "\n",
        "    17  |  \u001b[94m  0.029268\u001b[0m  |  \u001b[32m  0.029208\u001b[0m  |     1.002053  |             |  4.4s"
       ]
      },
      {
       "output_type": "stream",
       "stream": "stdout",
       "text": [
        "\n",
        "    18  |  \u001b[94m  0.029227\u001b[0m  |  \u001b[32m  0.029171\u001b[0m  |     1.001916  |             |  4.4s"
       ]
      },
      {
       "output_type": "stream",
       "stream": "stdout",
       "text": [
        "\n",
        "    19  |  \u001b[94m  0.029179\u001b[0m  |  \u001b[32m  0.029115\u001b[0m  |     1.002178  |             |  4.4s"
       ]
      },
      {
       "output_type": "stream",
       "stream": "stdout",
       "text": [
        "\n",
        "    20  |  \u001b[94m  0.029118\u001b[0m  |  \u001b[32m  0.029069\u001b[0m  |     1.001671  |             |  4.4s"
       ]
      }
     ],
     "prompt_number": "*"
    },
    {
     "cell_type": "code",
     "collapsed": false,
     "input": [
      "# import cPickle as pickle\n",
      "# with open('./Lasagne_3rd.pickle', 'rb') as f:\n",
      "#     model = pickle.load(f)\n"
     ],
     "language": "python",
     "metadata": {},
     "outputs": [],
     "prompt_number": 16
    },
    {
     "cell_type": "code",
     "collapsed": false,
     "input": [
      "# from sklearn.base import clone\n",
      "# model2 = clone(net7)\n",
      "# model2.load_weights_from(model)"
     ],
     "language": "python",
     "metadata": {},
     "outputs": [],
     "prompt_number": 18
    },
    {
     "cell_type": "code",
     "collapsed": false,
     "input": [
      "net7.train_history_"
     ],
     "language": "python",
     "metadata": {},
     "outputs": [
      {
       "metadata": {},
       "output_type": "pyout",
       "prompt_number": 23,
       "text": [
        "[{'epoch': 1,\n",
        "  'train_loss': 0.031680215,\n",
        "  'valid_accuracy': 0.03023749,\n",
        "  'valid_loss': 0.03023749},\n",
        " {'epoch': 2,\n",
        "  'train_loss': 0.030316459,\n",
        "  'valid_accuracy': 0.030136835,\n",
        "  'valid_loss': 0.030136835},\n",
        " {'epoch': 3,\n",
        "  'train_loss': 0.030183034,\n",
        "  'valid_accuracy': 0.030083001,\n",
        "  'valid_loss': 0.030083001},\n",
        " {'epoch': 4,\n",
        "  'train_loss': 0.030112324,\n",
        "  'valid_accuracy': 0.03003482,\n",
        "  'valid_loss': 0.03003482},\n",
        " {'epoch': 5,\n",
        "  'train_loss': 0.030074386,\n",
        "  'valid_accuracy': 0.029984117,\n",
        "  'valid_loss': 0.029984117},\n",
        " {'epoch': 6,\n",
        "  'train_loss': 0.030009732,\n",
        "  'valid_accuracy': 0.029925905,\n",
        "  'valid_loss': 0.029925905},\n",
        " {'epoch': 7,\n",
        "  'train_loss': 0.029947484,\n",
        "  'valid_accuracy': 0.029869253,\n",
        "  'valid_loss': 0.029869253},\n",
        " {'epoch': 8,\n",
        "  'train_loss': 0.029875627,\n",
        "  'valid_accuracy': 0.029796725,\n",
        "  'valid_loss': 0.029796725},\n",
        " {'epoch': 9,\n",
        "  'train_loss': 0.029819742,\n",
        "  'valid_accuracy': 0.02972696,\n",
        "  'valid_loss': 0.02972696},\n",
        " {'epoch': 10,\n",
        "  'train_loss': 0.029747283,\n",
        "  'valid_accuracy': 0.029659322,\n",
        "  'valid_loss': 0.029659322},\n",
        " {'epoch': 11,\n",
        "  'train_loss': 0.029681524,\n",
        "  'valid_accuracy': 0.029591544,\n",
        "  'valid_loss': 0.029591544},\n",
        " {'epoch': 12,\n",
        "  'train_loss': 0.029618973,\n",
        "  'valid_accuracy': 0.029529383,\n",
        "  'valid_loss': 0.029529383},\n",
        " {'epoch': 13,\n",
        "  'train_loss': 0.02954145,\n",
        "  'valid_accuracy': 0.029460235,\n",
        "  'valid_loss': 0.029460235},\n",
        " {'epoch': 14,\n",
        "  'train_loss': 0.029469326,\n",
        "  'valid_accuracy': 0.029397601,\n",
        "  'valid_loss': 0.029397601},\n",
        " {'epoch': 15,\n",
        "  'train_loss': 0.029404545,\n",
        "  'valid_accuracy': 0.0293262,\n",
        "  'valid_loss': 0.0293262},\n",
        " {'epoch': 16,\n",
        "  'train_loss': 0.029355599,\n",
        "  'valid_accuracy': 0.029278852,\n",
        "  'valid_loss': 0.029278852},\n",
        " {'epoch': 17,\n",
        "  'train_loss': 0.029268375,\n",
        "  'valid_accuracy': 0.029208412,\n",
        "  'valid_loss': 0.029208412},\n",
        " {'epoch': 18,\n",
        "  'train_loss': 0.029226715,\n",
        "  'valid_accuracy': 0.02917082,\n",
        "  'valid_loss': 0.02917082},\n",
        " {'epoch': 19,\n",
        "  'train_loss': 0.029178636,\n",
        "  'valid_accuracy': 0.029115228,\n",
        "  'valid_loss': 0.029115228},\n",
        " {'epoch': 20,\n",
        "  'train_loss': 0.029117668,\n",
        "  'valid_accuracy': 0.0290691,\n",
        "  'valid_loss': 0.0290691},\n",
        " {'epoch': 21,\n",
        "  'train_loss': 0.029071532,\n",
        "  'valid_accuracy': 0.029016111,\n",
        "  'valid_loss': 0.029016111},\n",
        " {'epoch': 22,\n",
        "  'train_loss': 0.029045582,\n",
        "  'valid_accuracy': 0.028970415,\n",
        "  'valid_loss': 0.028970415},\n",
        " {'epoch': 23,\n",
        "  'train_loss': 0.028998503,\n",
        "  'valid_accuracy': 0.028929114,\n",
        "  'valid_loss': 0.028929114},\n",
        " {'epoch': 24,\n",
        "  'train_loss': 0.028938198,\n",
        "  'valid_accuracy': 0.028889097,\n",
        "  'valid_loss': 0.028889097},\n",
        " {'epoch': 25,\n",
        "  'train_loss': 0.028904608,\n",
        "  'valid_accuracy': 0.028833769,\n",
        "  'valid_loss': 0.028833769},\n",
        " {'epoch': 26,\n",
        "  'train_loss': 0.028879737,\n",
        "  'valid_accuracy': 0.028784724,\n",
        "  'valid_loss': 0.028784724},\n",
        " {'epoch': 27,\n",
        "  'train_loss': 0.028820636,\n",
        "  'valid_accuracy': 0.028749082,\n",
        "  'valid_loss': 0.028749082},\n",
        " {'epoch': 28,\n",
        "  'train_loss': 0.028797822,\n",
        "  'valid_accuracy': 0.028693501,\n",
        "  'valid_loss': 0.028693501},\n",
        " {'epoch': 29,\n",
        "  'train_loss': 0.028730044,\n",
        "  'valid_accuracy': 0.028659908,\n",
        "  'valid_loss': 0.028659908},\n",
        " {'epoch': 30,\n",
        "  'train_loss': 0.028701369,\n",
        "  'valid_accuracy': 0.028617606,\n",
        "  'valid_loss': 0.028617606},\n",
        " {'epoch': 31,\n",
        "  'train_loss': 0.02864399,\n",
        "  'valid_accuracy': 0.028542774,\n",
        "  'valid_loss': 0.028542774},\n",
        " {'epoch': 32,\n",
        "  'train_loss': 0.028618017,\n",
        "  'valid_accuracy': 0.028512841,\n",
        "  'valid_loss': 0.028512841},\n",
        " {'epoch': 33,\n",
        "  'train_loss': 0.028565397,\n",
        "  'valid_accuracy': 0.028472446,\n",
        "  'valid_loss': 0.028472446},\n",
        " {'epoch': 34,\n",
        "  'train_loss': 0.028535165,\n",
        "  'valid_accuracy': 0.028419858,\n",
        "  'valid_loss': 0.028419858},\n",
        " {'epoch': 35,\n",
        "  'train_loss': 0.02847727,\n",
        "  'valid_accuracy': 0.028359544,\n",
        "  'valid_loss': 0.028359544},\n",
        " {'epoch': 36,\n",
        "  'train_loss': 0.028451087,\n",
        "  'valid_accuracy': 0.0283149,\n",
        "  'valid_loss': 0.0283149},\n",
        " {'epoch': 37,\n",
        "  'train_loss': 0.028431829,\n",
        "  'valid_accuracy': 0.028286317,\n",
        "  'valid_loss': 0.028286317},\n",
        " {'epoch': 38,\n",
        "  'train_loss': 0.028352045,\n",
        "  'valid_accuracy': 0.028207622,\n",
        "  'valid_loss': 0.028207622},\n",
        " {'epoch': 39,\n",
        "  'train_loss': 0.028322166,\n",
        "  'valid_accuracy': 0.028170833,\n",
        "  'valid_loss': 0.028170833},\n",
        " {'epoch': 40,\n",
        "  'train_loss': 0.028275829,\n",
        "  'valid_accuracy': 0.028119922,\n",
        "  'valid_loss': 0.028119922},\n",
        " {'epoch': 41,\n",
        "  'train_loss': 0.028244447,\n",
        "  'valid_accuracy': 0.028061345,\n",
        "  'valid_loss': 0.028061345},\n",
        " {'epoch': 42,\n",
        "  'train_loss': 0.0282095,\n",
        "  'valid_accuracy': 0.02802735,\n",
        "  'valid_loss': 0.02802735},\n",
        " {'epoch': 43,\n",
        "  'train_loss': 0.028134387,\n",
        "  'valid_accuracy': 0.027959367,\n",
        "  'valid_loss': 0.027959367},\n",
        " {'epoch': 44,\n",
        "  'train_loss': 0.028104087,\n",
        "  'valid_accuracy': 0.027931144,\n",
        "  'valid_loss': 0.027931144},\n",
        " {'epoch': 45,\n",
        "  'train_loss': 0.028035313,\n",
        "  'valid_accuracy': 0.027853543,\n",
        "  'valid_loss': 0.027853543},\n",
        " {'epoch': 46,\n",
        "  'train_loss': 0.028009688,\n",
        "  'valid_accuracy': 0.027820803,\n",
        "  'valid_loss': 0.027820803},\n",
        " {'epoch': 47,\n",
        "  'train_loss': 0.02796068,\n",
        "  'valid_accuracy': 0.027762109,\n",
        "  'valid_loss': 0.027762109},\n",
        " {'epoch': 48,\n",
        "  'train_loss': 0.027905272,\n",
        "  'valid_accuracy': 0.027663108,\n",
        "  'valid_loss': 0.027663108},\n",
        " {'epoch': 49,\n",
        "  'train_loss': 0.0278688,\n",
        "  'valid_accuracy': 0.02761339,\n",
        "  'valid_loss': 0.02761339},\n",
        " {'epoch': 50,\n",
        "  'train_loss': 0.027817875,\n",
        "  'valid_accuracy': 0.027584378,\n",
        "  'valid_loss': 0.027584378},\n",
        " {'epoch': 51,\n",
        "  'train_loss': 0.02778157,\n",
        "  'valid_accuracy': 0.02749151,\n",
        "  'valid_loss': 0.02749151},\n",
        " {'epoch': 52,\n",
        "  'train_loss': 0.027728178,\n",
        "  'valid_accuracy': 0.027451424,\n",
        "  'valid_loss': 0.027451424},\n",
        " {'epoch': 53,\n",
        "  'train_loss': 0.027672578,\n",
        "  'valid_accuracy': 0.027383262,\n",
        "  'valid_loss': 0.027383262},\n",
        " {'epoch': 54,\n",
        "  'train_loss': 0.027616935,\n",
        "  'valid_accuracy': 0.027332967,\n",
        "  'valid_loss': 0.027332967},\n",
        " {'epoch': 55,\n",
        "  'train_loss': 0.027575418,\n",
        "  'valid_accuracy': 0.027270075,\n",
        "  'valid_loss': 0.027270075},\n",
        " {'epoch': 56,\n",
        "  'train_loss': 0.027518781,\n",
        "  'valid_accuracy': 0.027233502,\n",
        "  'valid_loss': 0.027233502},\n",
        " {'epoch': 57,\n",
        "  'train_loss': 0.027455853,\n",
        "  'valid_accuracy': 0.027135,\n",
        "  'valid_loss': 0.027135},\n",
        " {'epoch': 58,\n",
        "  'train_loss': 0.027436499,\n",
        "  'valid_accuracy': 0.027083283,\n",
        "  'valid_loss': 0.027083283},\n",
        " {'epoch': 59,\n",
        "  'train_loss': 0.027372476,\n",
        "  'valid_accuracy': 0.027037237,\n",
        "  'valid_loss': 0.027037237},\n",
        " {'epoch': 60,\n",
        "  'train_loss': 0.027311925,\n",
        "  'valid_accuracy': 0.026974028,\n",
        "  'valid_loss': 0.026974028},\n",
        " {'epoch': 61,\n",
        "  'train_loss': 0.027215857,\n",
        "  'valid_accuracy': 0.026860412,\n",
        "  'valid_loss': 0.026860412},\n",
        " {'epoch': 62,\n",
        "  'train_loss': 0.027148396,\n",
        "  'valid_accuracy': 0.026799861,\n",
        "  'valid_loss': 0.026799861},\n",
        " {'epoch': 63,\n",
        "  'train_loss': 0.027117794,\n",
        "  'valid_accuracy': 0.026720842,\n",
        "  'valid_loss': 0.026720842},\n",
        " {'epoch': 64,\n",
        "  'train_loss': 0.027075302,\n",
        "  'valid_accuracy': 0.026668299,\n",
        "  'valid_loss': 0.026668299},\n",
        " {'epoch': 65,\n",
        "  'train_loss': 0.027001316,\n",
        "  'valid_accuracy': 0.026589915,\n",
        "  'valid_loss': 0.026589915},\n",
        " {'epoch': 66,\n",
        "  'train_loss': 0.026945608,\n",
        "  'valid_accuracy': 0.026534645,\n",
        "  'valid_loss': 0.026534645},\n",
        " {'epoch': 67,\n",
        "  'train_loss': 0.026851369,\n",
        "  'valid_accuracy': 0.026424885,\n",
        "  'valid_loss': 0.026424885},\n",
        " {'epoch': 68,\n",
        "  'train_loss': 0.026813542,\n",
        "  'valid_accuracy': 0.026367465,\n",
        "  'valid_loss': 0.026367465},\n",
        " {'epoch': 69,\n",
        "  'train_loss': 0.026730025,\n",
        "  'valid_accuracy': 0.026246596,\n",
        "  'valid_loss': 0.026246596},\n",
        " {'epoch': 70,\n",
        "  'train_loss': 0.026658701,\n",
        "  'valid_accuracy': 0.026194265,\n",
        "  'valid_loss': 0.026194265},\n",
        " {'epoch': 71,\n",
        "  'train_loss': 0.02662665,\n",
        "  'valid_accuracy': 0.026090991,\n",
        "  'valid_loss': 0.026090991},\n",
        " {'epoch': 72,\n",
        "  'train_loss': 0.026543915,\n",
        "  'valid_accuracy': 0.026047684,\n",
        "  'valid_loss': 0.026047684},\n",
        " {'epoch': 73,\n",
        "  'train_loss': 0.026466448,\n",
        "  'valid_accuracy': 0.025936976,\n",
        "  'valid_loss': 0.025936976},\n",
        " {'epoch': 74,\n",
        "  'train_loss': 0.02640962,\n",
        "  'valid_accuracy': 0.025856404,\n",
        "  'valid_loss': 0.025856404},\n",
        " {'epoch': 75,\n",
        "  'train_loss': 0.026322979,\n",
        "  'valid_accuracy': 0.025755445,\n",
        "  'valid_loss': 0.025755445},\n",
        " {'epoch': 76,\n",
        "  'train_loss': 0.026239311,\n",
        "  'valid_accuracy': 0.0256758,\n",
        "  'valid_loss': 0.0256758},\n",
        " {'epoch': 77,\n",
        "  'train_loss': 0.026189951,\n",
        "  'valid_accuracy': 0.025606539,\n",
        "  'valid_loss': 0.025606539},\n",
        " {'epoch': 78,\n",
        "  'train_loss': 0.026102252,\n",
        "  'valid_accuracy': 0.025498435,\n",
        "  'valid_loss': 0.025498435},\n",
        " {'epoch': 79,\n",
        "  'train_loss': 0.026008183,\n",
        "  'valid_accuracy': 0.02541277,\n",
        "  'valid_loss': 0.02541277},\n",
        " {'epoch': 80,\n",
        "  'train_loss': 0.02596426,\n",
        "  'valid_accuracy': 0.025344435,\n",
        "  'valid_loss': 0.025344435},\n",
        " {'epoch': 81,\n",
        "  'train_loss': 0.025853131,\n",
        "  'valid_accuracy': 0.025225006,\n",
        "  'valid_loss': 0.025225006},\n",
        " {'epoch': 82,\n",
        "  'train_loss': 0.025804425,\n",
        "  'valid_accuracy': 0.025153609,\n",
        "  'valid_loss': 0.025153609},\n",
        " {'epoch': 83,\n",
        "  'train_loss': 0.025716919,\n",
        "  'valid_accuracy': 0.025035115,\n",
        "  'valid_loss': 0.025035115},\n",
        " {'epoch': 84,\n",
        "  'train_loss': 0.025679769,\n",
        "  'valid_accuracy': 0.024990985,\n",
        "  'valid_loss': 0.024990985},\n",
        " {'epoch': 85,\n",
        "  'train_loss': 0.025592506,\n",
        "  'valid_accuracy': 0.024906596,\n",
        "  'valid_loss': 0.024906596},\n",
        " {'epoch': 86,\n",
        "  'train_loss': 0.025515439,\n",
        "  'valid_accuracy': 0.024800377,\n",
        "  'valid_loss': 0.024800377},\n",
        " {'epoch': 87,\n",
        "  'train_loss': 0.025485424,\n",
        "  'valid_accuracy': 0.024769941,\n",
        "  'valid_loss': 0.024769941},\n",
        " {'epoch': 88,\n",
        "  'train_loss': 0.025370764,\n",
        "  'valid_accuracy': 0.024616858,\n",
        "  'valid_loss': 0.024616858},\n",
        " {'epoch': 89,\n",
        "  'train_loss': 0.02531226,\n",
        "  'valid_accuracy': 0.024573706,\n",
        "  'valid_loss': 0.024573706},\n",
        " {'epoch': 90,\n",
        "  'train_loss': 0.025228146,\n",
        "  'valid_accuracy': 0.024468616,\n",
        "  'valid_loss': 0.024468616},\n",
        " {'epoch': 91,\n",
        "  'train_loss': 0.025166765,\n",
        "  'valid_accuracy': 0.024383929,\n",
        "  'valid_loss': 0.024383929},\n",
        " {'epoch': 92,\n",
        "  'train_loss': 0.025102891,\n",
        "  'valid_accuracy': 0.024311598,\n",
        "  'valid_loss': 0.024311598},\n",
        " {'epoch': 93,\n",
        "  'train_loss': 0.02503518,\n",
        "  'valid_accuracy': 0.024208643,\n",
        "  'valid_loss': 0.024208643},\n",
        " {'epoch': 94,\n",
        "  'train_loss': 0.024950139,\n",
        "  'valid_accuracy': 0.024129564,\n",
        "  'valid_loss': 0.024129564},\n",
        " {'epoch': 95,\n",
        "  'train_loss': 0.024887238,\n",
        "  'valid_accuracy': 0.0240492,\n",
        "  'valid_loss': 0.0240492},\n",
        " {'epoch': 96,\n",
        "  'train_loss': 0.024770832,\n",
        "  'valid_accuracy': 0.023938792,\n",
        "  'valid_loss': 0.023938792},\n",
        " {'epoch': 97,\n",
        "  'train_loss': 0.024703072,\n",
        "  'valid_accuracy': 0.023882167,\n",
        "  'valid_loss': 0.023882167},\n",
        " {'epoch': 98,\n",
        "  'train_loss': 0.024671925,\n",
        "  'valid_accuracy': 0.023800189,\n",
        "  'valid_loss': 0.023800189},\n",
        " {'epoch': 99,\n",
        "  'train_loss': 0.024589598,\n",
        "  'valid_accuracy': 0.023719523,\n",
        "  'valid_loss': 0.023719523},\n",
        " {'epoch': 100,\n",
        "  'train_loss': 0.02451604,\n",
        "  'valid_accuracy': 0.023671787,\n",
        "  'valid_loss': 0.023671787},\n",
        " {'epoch': 101,\n",
        "  'train_loss': 0.024416028,\n",
        "  'valid_accuracy': 0.023549482,\n",
        "  'valid_loss': 0.023549482},\n",
        " {'epoch': 102,\n",
        "  'train_loss': 0.024409892,\n",
        "  'valid_accuracy': 0.02347615,\n",
        "  'valid_loss': 0.02347615},\n",
        " {'epoch': 103,\n",
        "  'train_loss': 0.024334466,\n",
        "  'valid_accuracy': 0.023373816,\n",
        "  'valid_loss': 0.023373816},\n",
        " {'epoch': 104,\n",
        "  'train_loss': 0.024244562,\n",
        "  'valid_accuracy': 0.023290351,\n",
        "  'valid_loss': 0.023290351},\n",
        " {'epoch': 105,\n",
        "  'train_loss': 0.024175305,\n",
        "  'valid_accuracy': 0.023259405,\n",
        "  'valid_loss': 0.023259405},\n",
        " {'epoch': 106,\n",
        "  'train_loss': 0.024099339,\n",
        "  'valid_accuracy': 0.023179613,\n",
        "  'valid_loss': 0.023179613},\n",
        " {'epoch': 107,\n",
        "  'train_loss': 0.024057511,\n",
        "  'valid_accuracy': 0.023101343,\n",
        "  'valid_loss': 0.023101343},\n",
        " {'epoch': 108,\n",
        "  'train_loss': 0.023979288,\n",
        "  'valid_accuracy': 0.022987185,\n",
        "  'valid_loss': 0.022987185},\n",
        " {'epoch': 109,\n",
        "  'train_loss': 0.023919318,\n",
        "  'valid_accuracy': 0.022910068,\n",
        "  'valid_loss': 0.022910068},\n",
        " {'epoch': 110,\n",
        "  'train_loss': 0.023851773,\n",
        "  'valid_accuracy': 0.022859722,\n",
        "  'valid_loss': 0.022859722},\n",
        " {'epoch': 111,\n",
        "  'train_loss': 0.023749581,\n",
        "  'valid_accuracy': 0.022756092,\n",
        "  'valid_loss': 0.022756092},\n",
        " {'epoch': 112,\n",
        "  'train_loss': 0.02371582,\n",
        "  'valid_accuracy': 0.022655701,\n",
        "  'valid_loss': 0.022655701},\n",
        " {'epoch': 113,\n",
        "  'train_loss': 0.023657065,\n",
        "  'valid_accuracy': 0.022574922,\n",
        "  'valid_loss': 0.022574922},\n",
        " {'epoch': 114,\n",
        "  'train_loss': 0.023523422,\n",
        "  'valid_accuracy': 0.022496423,\n",
        "  'valid_loss': 0.022496423},\n",
        " {'epoch': 115,\n",
        "  'train_loss': 0.023489349,\n",
        "  'valid_accuracy': 0.022424372,\n",
        "  'valid_loss': 0.022424372},\n",
        " {'epoch': 116,\n",
        "  'train_loss': 0.023418598,\n",
        "  'valid_accuracy': 0.022338349,\n",
        "  'valid_loss': 0.022338349},\n",
        " {'epoch': 117,\n",
        "  'train_loss': 0.023330102,\n",
        "  'valid_accuracy': 0.022256946,\n",
        "  'valid_loss': 0.022256946},\n",
        " {'epoch': 118,\n",
        "  'train_loss': 0.023288675,\n",
        "  'valid_accuracy': 0.022184411,\n",
        "  'valid_loss': 0.022184411},\n",
        " {'epoch': 119,\n",
        "  'train_loss': 0.023220835,\n",
        "  'valid_accuracy': 0.022111693,\n",
        "  'valid_loss': 0.022111693},\n",
        " {'epoch': 120,\n",
        "  'train_loss': 0.023109594,\n",
        "  'valid_accuracy': 0.021977333,\n",
        "  'valid_loss': 0.021977333},\n",
        " {'epoch': 121,\n",
        "  'train_loss': 0.023031758,\n",
        "  'valid_accuracy': 0.021936623,\n",
        "  'valid_loss': 0.021936623},\n",
        " {'epoch': 122,\n",
        "  'train_loss': 0.023011895,\n",
        "  'valid_accuracy': 0.021848705,\n",
        "  'valid_loss': 0.021848705},\n",
        " {'epoch': 123,\n",
        "  'train_loss': 0.022909481,\n",
        "  'valid_accuracy': 0.021801589,\n",
        "  'valid_loss': 0.021801589},\n",
        " {'epoch': 124,\n",
        "  'train_loss': 0.022892462,\n",
        "  'valid_accuracy': 0.021703169,\n",
        "  'valid_loss': 0.021703169},\n",
        " {'epoch': 125,\n",
        "  'train_loss': 0.022818837,\n",
        "  'valid_accuracy': 0.021610117,\n",
        "  'valid_loss': 0.021610117},\n",
        " {'epoch': 126,\n",
        "  'train_loss': 0.022728974,\n",
        "  'valid_accuracy': 0.02154067,\n",
        "  'valid_loss': 0.02154067},\n",
        " {'epoch': 127,\n",
        "  'train_loss': 0.022686189,\n",
        "  'valid_accuracy': 0.021446923,\n",
        "  'valid_loss': 0.021446923},\n",
        " {'epoch': 128,\n",
        "  'train_loss': 0.022581449,\n",
        "  'valid_accuracy': 0.021368811,\n",
        "  'valid_loss': 0.021368811},\n",
        " {'epoch': 129,\n",
        "  'train_loss': 0.022515934,\n",
        "  'valid_accuracy': 0.021281769,\n",
        "  'valid_loss': 0.021281769},\n",
        " {'epoch': 130,\n",
        "  'train_loss': 0.022436265,\n",
        "  'valid_accuracy': 0.021143019,\n",
        "  'valid_loss': 0.021143019},\n",
        " {'epoch': 131,\n",
        "  'train_loss': 0.022392804,\n",
        "  'valid_accuracy': 0.021141898,\n",
        "  'valid_loss': 0.021141898},\n",
        " {'epoch': 132,\n",
        "  'train_loss': 0.02229384,\n",
        "  'valid_accuracy': 0.021046052,\n",
        "  'valid_loss': 0.021046052},\n",
        " {'epoch': 133,\n",
        "  'train_loss': 0.022233039,\n",
        "  'valid_accuracy': 0.020938065,\n",
        "  'valid_loss': 0.020938065},\n",
        " {'epoch': 134,\n",
        "  'train_loss': 0.022136098,\n",
        "  'valid_accuracy': 0.020881489,\n",
        "  'valid_loss': 0.020881489},\n",
        " {'epoch': 135,\n",
        "  'train_loss': 0.022054097,\n",
        "  'valid_accuracy': 0.020809665,\n",
        "  'valid_loss': 0.020809665},\n",
        " {'epoch': 136,\n",
        "  'train_loss': 0.022018747,\n",
        "  'valid_accuracy': 0.020701464,\n",
        "  'valid_loss': 0.020701464},\n",
        " {'epoch': 137,\n",
        "  'train_loss': 0.021902999,\n",
        "  'valid_accuracy': 0.02060746,\n",
        "  'valid_loss': 0.02060746},\n",
        " {'epoch': 138,\n",
        "  'train_loss': 0.02188555,\n",
        "  'valid_accuracy': 0.020586887,\n",
        "  'valid_loss': 0.020586887},\n",
        " {'epoch': 139,\n",
        "  'train_loss': 0.021790955,\n",
        "  'valid_accuracy': 0.020475134,\n",
        "  'valid_loss': 0.020475134},\n",
        " {'epoch': 140,\n",
        "  'train_loss': 0.021753704,\n",
        "  'valid_accuracy': 0.020371908,\n",
        "  'valid_loss': 0.020371908},\n",
        " {'epoch': 141,\n",
        "  'train_loss': 0.021670865,\n",
        "  'valid_accuracy': 0.020336593,\n",
        "  'valid_loss': 0.020336593},\n",
        " {'epoch': 142,\n",
        "  'train_loss': 0.021589151,\n",
        "  'valid_accuracy': 0.020179024,\n",
        "  'valid_loss': 0.020179024},\n",
        " {'epoch': 143,\n",
        "  'train_loss': 0.02150777,\n",
        "  'valid_accuracy': 0.020150602,\n",
        "  'valid_loss': 0.020150602},\n",
        " {'epoch': 144,\n",
        "  'train_loss': 0.021461735,\n",
        "  'valid_accuracy': 0.020058647,\n",
        "  'valid_loss': 0.020058647},\n",
        " {'epoch': 145,\n",
        "  'train_loss': 0.021425501,\n",
        "  'valid_accuracy': 0.019989571,\n",
        "  'valid_loss': 0.019989571},\n",
        " {'epoch': 146,\n",
        "  'train_loss': 0.021252509,\n",
        "  'valid_accuracy': 0.019869771,\n",
        "  'valid_loss': 0.019869771},\n",
        " {'epoch': 147,\n",
        "  'train_loss': 0.021210216,\n",
        "  'valid_accuracy': 0.019786226,\n",
        "  'valid_loss': 0.019786226},\n",
        " {'epoch': 148,\n",
        "  'train_loss': 0.021166559,\n",
        "  'valid_accuracy': 0.019776974,\n",
        "  'valid_loss': 0.019776974},\n",
        " {'epoch': 149,\n",
        "  'train_loss': 0.021104867,\n",
        "  'valid_accuracy': 0.019661393,\n",
        "  'valid_loss': 0.019661393},\n",
        " {'epoch': 150,\n",
        "  'train_loss': 0.021013539,\n",
        "  'valid_accuracy': 0.01955897,\n",
        "  'valid_loss': 0.01955897},\n",
        " {'epoch': 151,\n",
        "  'train_loss': 0.020968873,\n",
        "  'valid_accuracy': 0.019502141,\n",
        "  'valid_loss': 0.019502141},\n",
        " {'epoch': 152,\n",
        "  'train_loss': 0.020853266,\n",
        "  'valid_accuracy': 0.019386623,\n",
        "  'valid_loss': 0.019386623},\n",
        " {'epoch': 153,\n",
        "  'train_loss': 0.020817913,\n",
        "  'valid_accuracy': 0.019362554,\n",
        "  'valid_loss': 0.019362554},\n",
        " {'epoch': 154,\n",
        "  'train_loss': 0.020718634,\n",
        "  'valid_accuracy': 0.019274987,\n",
        "  'valid_loss': 0.019274987},\n",
        " {'epoch': 155,\n",
        "  'train_loss': 0.020714857,\n",
        "  'valid_accuracy': 0.019148555,\n",
        "  'valid_loss': 0.019148555},\n",
        " {'epoch': 156,\n",
        "  'train_loss': 0.020631151,\n",
        "  'valid_accuracy': 0.019078366,\n",
        "  'valid_loss': 0.019078366},\n",
        " {'epoch': 157,\n",
        "  'train_loss': 0.020485895,\n",
        "  'valid_accuracy': 0.019021921,\n",
        "  'valid_loss': 0.019021921},\n",
        " {'epoch': 158,\n",
        "  'train_loss': 0.020484421,\n",
        "  'valid_accuracy': 0.018947857,\n",
        "  'valid_loss': 0.018947857},\n",
        " {'epoch': 159,\n",
        "  'train_loss': 0.020411735,\n",
        "  'valid_accuracy': 0.01885172,\n",
        "  'valid_loss': 0.01885172},\n",
        " {'epoch': 160,\n",
        "  'train_loss': 0.020297324,\n",
        "  'valid_accuracy': 0.018747088,\n",
        "  'valid_loss': 0.018747088},\n",
        " {'epoch': 161,\n",
        "  'train_loss': 0.020244516,\n",
        "  'valid_accuracy': 0.018688127,\n",
        "  'valid_loss': 0.018688127},\n",
        " {'epoch': 162,\n",
        "  'train_loss': 0.02013333,\n",
        "  'valid_accuracy': 0.018629698,\n",
        "  'valid_loss': 0.018629698},\n",
        " {'epoch': 163,\n",
        "  'train_loss': 0.020132778,\n",
        "  'valid_accuracy': 0.018546423,\n",
        "  'valid_loss': 0.018546423},\n",
        " {'epoch': 164,\n",
        "  'train_loss': 0.020073736,\n",
        "  'valid_accuracy': 0.018481789,\n",
        "  'valid_loss': 0.018481789},\n",
        " {'epoch': 165,\n",
        "  'train_loss': 0.020002075,\n",
        "  'valid_accuracy': 0.018418366,\n",
        "  'valid_loss': 0.018418366},\n",
        " {'epoch': 166,\n",
        "  'train_loss': 0.019894388,\n",
        "  'valid_accuracy': 0.018318877,\n",
        "  'valid_loss': 0.018318877},\n",
        " {'epoch': 167,\n",
        "  'train_loss': 0.019866951,\n",
        "  'valid_accuracy': 0.018258734,\n",
        "  'valid_loss': 0.018258734},\n",
        " {'epoch': 168,\n",
        "  'train_loss': 0.019758344,\n",
        "  'valid_accuracy': 0.018181909,\n",
        "  'valid_loss': 0.018181909},\n",
        " {'epoch': 169,\n",
        "  'train_loss': 0.019678565,\n",
        "  'valid_accuracy': 0.018083164,\n",
        "  'valid_loss': 0.018083164},\n",
        " {'epoch': 170,\n",
        "  'train_loss': 0.019639961,\n",
        "  'valid_accuracy': 0.017994121,\n",
        "  'valid_loss': 0.017994121},\n",
        " {'epoch': 171,\n",
        "  'train_loss': 0.019610226,\n",
        "  'valid_accuracy': 0.017942794,\n",
        "  'valid_loss': 0.017942794},\n",
        " {'epoch': 172,\n",
        "  'train_loss': 0.019485217,\n",
        "  'valid_accuracy': 0.01789026,\n",
        "  'valid_loss': 0.01789026},\n",
        " {'epoch': 173,\n",
        "  'train_loss': 0.019442741,\n",
        "  'valid_accuracy': 0.017804641,\n",
        "  'valid_loss': 0.017804641},\n",
        " {'epoch': 174,\n",
        "  'train_loss': 0.019360846,\n",
        "  'valid_accuracy': 0.01771071,\n",
        "  'valid_loss': 0.01771071},\n",
        " {'epoch': 175,\n",
        "  'train_loss': 0.019335201,\n",
        "  'valid_accuracy': 0.017616333,\n",
        "  'valid_loss': 0.017616333},\n",
        " {'epoch': 176,\n",
        "  'train_loss': 0.01921561,\n",
        "  'valid_accuracy': 0.017576214,\n",
        "  'valid_loss': 0.017576214},\n",
        " {'epoch': 177,\n",
        "  'train_loss': 0.019128721,\n",
        "  'valid_accuracy': 0.017515039,\n",
        "  'valid_loss': 0.017515039},\n",
        " {'epoch': 178,\n",
        "  'train_loss': 0.019110532,\n",
        "  'valid_accuracy': 0.017460691,\n",
        "  'valid_loss': 0.017460691},\n",
        " {'epoch': 179,\n",
        "  'train_loss': 0.019067273,\n",
        "  'valid_accuracy': 0.017379289,\n",
        "  'valid_loss': 0.017379289},\n",
        " {'epoch': 180,\n",
        "  'train_loss': 0.018957043,\n",
        "  'valid_accuracy': 0.017337028,\n",
        "  'valid_loss': 0.017337028},\n",
        " {'epoch': 181,\n",
        "  'train_loss': 0.018883485,\n",
        "  'valid_accuracy': 0.017261347,\n",
        "  'valid_loss': 0.017261347},\n",
        " {'epoch': 182,\n",
        "  'train_loss': 0.018907541,\n",
        "  'valid_accuracy': 0.017160922,\n",
        "  'valid_loss': 0.017160922},\n",
        " {'epoch': 183,\n",
        "  'train_loss': 0.01879405,\n",
        "  'valid_accuracy': 0.01709117,\n",
        "  'valid_loss': 0.01709117},\n",
        " {'epoch': 184,\n",
        "  'train_loss': 0.018731369,\n",
        "  'valid_accuracy': 0.017025247,\n",
        "  'valid_loss': 0.017025247},\n",
        " {'epoch': 185,\n",
        "  'train_loss': 0.018681046,\n",
        "  'valid_accuracy': 0.016970007,\n",
        "  'valid_loss': 0.016970007},\n",
        " {'epoch': 186,\n",
        "  'train_loss': 0.018626263,\n",
        "  'valid_accuracy': 0.01690113,\n",
        "  'valid_loss': 0.01690113},\n",
        " {'epoch': 187,\n",
        "  'train_loss': 0.01854703,\n",
        "  'valid_accuracy': 0.016802054,\n",
        "  'valid_loss': 0.016802054},\n",
        " {'epoch': 188,\n",
        "  'train_loss': 0.01851847,\n",
        "  'valid_accuracy': 0.01678567,\n",
        "  'valid_loss': 0.01678567},\n",
        " {'epoch': 189,\n",
        "  'train_loss': 0.018419374,\n",
        "  'valid_accuracy': 0.016684929,\n",
        "  'valid_loss': 0.016684929},\n",
        " {'epoch': 190,\n",
        "  'train_loss': 0.01839116,\n",
        "  'valid_accuracy': 0.016640715,\n",
        "  'valid_loss': 0.016640715},\n",
        " {'epoch': 191,\n",
        "  'train_loss': 0.018266493,\n",
        "  'valid_accuracy': 0.016570859,\n",
        "  'valid_loss': 0.016570859},\n",
        " {'epoch': 192,\n",
        "  'train_loss': 0.018301336,\n",
        "  'valid_accuracy': 0.016471663,\n",
        "  'valid_loss': 0.016471663},\n",
        " {'epoch': 193,\n",
        "  'train_loss': 0.01817303,\n",
        "  'valid_accuracy': 0.016466105,\n",
        "  'valid_loss': 0.016466105},\n",
        " {'epoch': 194,\n",
        "  'train_loss': 0.018133424,\n",
        "  'valid_accuracy': 0.016387228,\n",
        "  'valid_loss': 0.016387228},\n",
        " {'epoch': 195,\n",
        "  'train_loss': 0.018069921,\n",
        "  'valid_accuracy': 0.016343551,\n",
        "  'valid_loss': 0.016343551},\n",
        " {'epoch': 196,\n",
        "  'train_loss': 0.0180171,\n",
        "  'valid_accuracy': 0.01626372,\n",
        "  'valid_loss': 0.01626372},\n",
        " {'epoch': 197,\n",
        "  'train_loss': 0.018026168,\n",
        "  'valid_accuracy': 0.016222637,\n",
        "  'valid_loss': 0.016222637},\n",
        " {'epoch': 198,\n",
        "  'train_loss': 0.017895559,\n",
        "  'valid_accuracy': 0.016147843,\n",
        "  'valid_loss': 0.016147843},\n",
        " {'epoch': 199,\n",
        "  'train_loss': 0.01788356,\n",
        "  'valid_accuracy': 0.016113846,\n",
        "  'valid_loss': 0.016113846},\n",
        " {'epoch': 200,\n",
        "  'train_loss': 0.017758129,\n",
        "  'valid_accuracy': 0.016018178,\n",
        "  'valid_loss': 0.016018178},\n",
        " {'epoch': 201,\n",
        "  'train_loss': 0.017735697,\n",
        "  'valid_accuracy': 0.015997728,\n",
        "  'valid_loss': 0.015997728},\n",
        " {'epoch': 202,\n",
        "  'train_loss': 0.017652368,\n",
        "  'valid_accuracy': 0.015915042,\n",
        "  'valid_loss': 0.015915042},\n",
        " {'epoch': 203,\n",
        "  'train_loss': 0.017659022,\n",
        "  'valid_accuracy': 0.015909733,\n",
        "  'valid_loss': 0.015909733},\n",
        " {'epoch': 204,\n",
        "  'train_loss': 0.017574567,\n",
        "  'valid_accuracy': 0.015826292,\n",
        "  'valid_loss': 0.015826292},\n",
        " {'epoch': 205,\n",
        "  'train_loss': 0.017541027,\n",
        "  'valid_accuracy': 0.015751168,\n",
        "  'valid_loss': 0.015751168},\n",
        " {'epoch': 206,\n",
        "  'train_loss': 0.017495673,\n",
        "  'valid_accuracy': 0.015744062,\n",
        "  'valid_loss': 0.015744062},\n",
        " {'epoch': 207,\n",
        "  'train_loss': 0.017417446,\n",
        "  'valid_accuracy': 0.015661083,\n",
        "  'valid_loss': 0.015661083},\n",
        " {'epoch': 208,\n",
        "  'train_loss': 0.017356522,\n",
        "  'valid_accuracy': 0.015632972,\n",
        "  'valid_loss': 0.015632972},\n",
        " {'epoch': 209,\n",
        "  'train_loss': 0.017372079,\n",
        "  'valid_accuracy': 0.015555583,\n",
        "  'valid_loss': 0.015555583},\n",
        " {'epoch': 210,\n",
        "  'train_loss': 0.017303294,\n",
        "  'valid_accuracy': 0.015504682,\n",
        "  'valid_loss': 0.015504682},\n",
        " {'epoch': 211,\n",
        "  'train_loss': 0.017180497,\n",
        "  'valid_accuracy': 0.015467933,\n",
        "  'valid_loss': 0.015467933},\n",
        " {'epoch': 212,\n",
        "  'train_loss': 0.017143669,\n",
        "  'valid_accuracy': 0.015403753,\n",
        "  'valid_loss': 0.015403753},\n",
        " {'epoch': 213,\n",
        "  'train_loss': 0.017088784,\n",
        "  'valid_accuracy': 0.015393255,\n",
        "  'valid_loss': 0.015393255},\n",
        " {'epoch': 214,\n",
        "  'train_loss': 0.017069945,\n",
        "  'valid_accuracy': 0.015338193,\n",
        "  'valid_loss': 0.015338193},\n",
        " {'epoch': 215,\n",
        "  'train_loss': 0.01696757,\n",
        "  'valid_accuracy': 0.015279313,\n",
        "  'valid_loss': 0.015279313},\n",
        " {'epoch': 216,\n",
        "  'train_loss': 0.017014099,\n",
        "  'valid_accuracy': 0.015231756,\n",
        "  'valid_loss': 0.015231756},\n",
        " {'epoch': 217,\n",
        "  'train_loss': 0.016834754,\n",
        "  'valid_accuracy': 0.015190257,\n",
        "  'valid_loss': 0.015190257},\n",
        " {'epoch': 218,\n",
        "  'train_loss': 0.016890446,\n",
        "  'valid_accuracy': 0.01509599,\n",
        "  'valid_loss': 0.01509599},\n",
        " {'epoch': 219,\n",
        "  'train_loss': 0.016853545,\n",
        "  'valid_accuracy': 0.015088354,\n",
        "  'valid_loss': 0.015088354},\n",
        " {'epoch': 220,\n",
        "  'train_loss': 0.016735161,\n",
        "  'valid_accuracy': 0.015052817,\n",
        "  'valid_loss': 0.015052817},\n",
        " {'epoch': 221,\n",
        "  'train_loss': 0.016717315,\n",
        "  'valid_accuracy': 0.015030676,\n",
        "  'valid_loss': 0.015030676},\n",
        " {'epoch': 222,\n",
        "  'train_loss': 0.016706897,\n",
        "  'valid_accuracy': 0.014948268,\n",
        "  'valid_loss': 0.014948268},\n",
        " {'epoch': 223,\n",
        "  'train_loss': 0.016643897,\n",
        "  'valid_accuracy': 0.01489774,\n",
        "  'valid_loss': 0.01489774},\n",
        " {'epoch': 224,\n",
        "  'train_loss': 0.016584264,\n",
        "  'valid_accuracy': 0.014876626,\n",
        "  'valid_loss': 0.014876626},\n",
        " {'epoch': 225,\n",
        "  'train_loss': 0.016519507,\n",
        "  'valid_accuracy': 0.014806178,\n",
        "  'valid_loss': 0.014806178},\n",
        " {'epoch': 226,\n",
        "  'train_loss': 0.016492575,\n",
        "  'valid_accuracy': 0.014785009,\n",
        "  'valid_loss': 0.014785009},\n",
        " {'epoch': 227,\n",
        "  'train_loss': 0.016407009,\n",
        "  'valid_accuracy': 0.014738737,\n",
        "  'valid_loss': 0.014738737},\n",
        " {'epoch': 228,\n",
        "  'train_loss': 0.016438801,\n",
        "  'valid_accuracy': 0.014716473,\n",
        "  'valid_loss': 0.014716473},\n",
        " {'epoch': 229,\n",
        "  'train_loss': 0.016357029,\n",
        "  'valid_accuracy': 0.014683574,\n",
        "  'valid_loss': 0.014683574},\n",
        " {'epoch': 230,\n",
        "  'train_loss': 0.016405482,\n",
        "  'valid_accuracy': 0.014615862,\n",
        "  'valid_loss': 0.014615862},\n",
        " {'epoch': 231,\n",
        "  'train_loss': 0.016241021,\n",
        "  'valid_accuracy': 0.014547142,\n",
        "  'valid_loss': 0.014547142},\n",
        " {'epoch': 232,\n",
        "  'train_loss': 0.01624579,\n",
        "  'valid_accuracy': 0.014548462,\n",
        "  'valid_loss': 0.014548462},\n",
        " {'epoch': 233,\n",
        "  'train_loss': 0.01618658,\n",
        "  'valid_accuracy': 0.014490537,\n",
        "  'valid_loss': 0.014490537},\n",
        " {'epoch': 234,\n",
        "  'train_loss': 0.01616689,\n",
        "  'valid_accuracy': 0.014482365,\n",
        "  'valid_loss': 0.014482365},\n",
        " {'epoch': 235,\n",
        "  'train_loss': 0.016177293,\n",
        "  'valid_accuracy': 0.01442763,\n",
        "  'valid_loss': 0.01442763},\n",
        " {'epoch': 236,\n",
        "  'train_loss': 0.016106162,\n",
        "  'valid_accuracy': 0.014394753,\n",
        "  'valid_loss': 0.014394753},\n",
        " {'epoch': 237,\n",
        "  'train_loss': 0.016069204,\n",
        "  'valid_accuracy': 0.014358293,\n",
        "  'valid_loss': 0.014358293},\n",
        " {'epoch': 238,\n",
        "  'train_loss': 0.016040705,\n",
        "  'valid_accuracy': 0.014317547,\n",
        "  'valid_loss': 0.014317547},\n",
        " {'epoch': 239,\n",
        "  'train_loss': 0.015935082,\n",
        "  'valid_accuracy': 0.014293259,\n",
        "  'valid_loss': 0.014293259},\n",
        " {'epoch': 240,\n",
        "  'train_loss': 0.015903238,\n",
        "  'valid_accuracy': 0.014284248,\n",
        "  'valid_loss': 0.014284248},\n",
        " {'epoch': 241,\n",
        "  'train_loss': 0.015929496,\n",
        "  'valid_accuracy': 0.01421761,\n",
        "  'valid_loss': 0.01421761},\n",
        " {'epoch': 242,\n",
        "  'train_loss': 0.015897833,\n",
        "  'valid_accuracy': 0.014195134,\n",
        "  'valid_loss': 0.014195134},\n",
        " {'epoch': 243,\n",
        "  'train_loss': 0.015814388,\n",
        "  'valid_accuracy': 0.014122491,\n",
        "  'valid_loss': 0.014122491},\n",
        " {'epoch': 244,\n",
        "  'train_loss': 0.015809095,\n",
        "  'valid_accuracy': 0.014095918,\n",
        "  'valid_loss': 0.014095918},\n",
        " {'epoch': 245,\n",
        "  'train_loss': 0.01576747,\n",
        "  'valid_accuracy': 0.014072047,\n",
        "  'valid_loss': 0.014072047},\n",
        " {'epoch': 246,\n",
        "  'train_loss': 0.015722014,\n",
        "  'valid_accuracy': 0.014073152,\n",
        "  'valid_loss': 0.014073152},\n",
        " {'epoch': 247,\n",
        "  'train_loss': 0.015706461,\n",
        "  'valid_accuracy': 0.014012423,\n",
        "  'valid_loss': 0.014012423},\n",
        " {'epoch': 248,\n",
        "  'train_loss': 0.015717113,\n",
        "  'valid_accuracy': 0.013974406,\n",
        "  'valid_loss': 0.013974406},\n",
        " {'epoch': 249,\n",
        "  'train_loss': 0.015603143,\n",
        "  'valid_accuracy': 0.013958166,\n",
        "  'valid_loss': 0.013958166},\n",
        " {'epoch': 250,\n",
        "  'train_loss': 0.015550599,\n",
        "  'valid_accuracy': 0.013901358,\n",
        "  'valid_loss': 0.013901358},\n",
        " {'epoch': 251,\n",
        "  'train_loss': 0.015516032,\n",
        "  'valid_accuracy': 0.013918577,\n",
        "  'valid_loss': 0.013918577},\n",
        " {'epoch': 252,\n",
        "  'train_loss': 0.015524623,\n",
        "  'valid_accuracy': 0.01384485,\n",
        "  'valid_loss': 0.01384485},\n",
        " {'epoch': 253,\n",
        "  'train_loss': 0.015514618,\n",
        "  'valid_accuracy': 0.013793634,\n",
        "  'valid_loss': 0.013793634},\n",
        " {'epoch': 254,\n",
        "  'train_loss': 0.015426707,\n",
        "  'valid_accuracy': 0.013778519,\n",
        "  'valid_loss': 0.013778519},\n",
        " {'epoch': 255,\n",
        "  'train_loss': 0.015396345,\n",
        "  'valid_accuracy': 0.013746939,\n",
        "  'valid_loss': 0.013746939},\n",
        " {'epoch': 256,\n",
        "  'train_loss': 0.015422975,\n",
        "  'valid_accuracy': 0.013749154,\n",
        "  'valid_loss': 0.013749154},\n",
        " {'epoch': 257,\n",
        "  'train_loss': 0.015306359,\n",
        "  'valid_accuracy': 0.013715818,\n",
        "  'valid_loss': 0.013715818},\n",
        " {'epoch': 258,\n",
        "  'train_loss': 0.015267471,\n",
        "  'valid_accuracy': 0.013693018,\n",
        "  'valid_loss': 0.013693018},\n",
        " {'epoch': 259,\n",
        "  'train_loss': 0.015242437,\n",
        "  'valid_accuracy': 0.013642985,\n",
        "  'valid_loss': 0.013642985},\n",
        " {'epoch': 260,\n",
        "  'train_loss': 0.015252887,\n",
        "  'valid_accuracy': 0.013619731,\n",
        "  'valid_loss': 0.013619731},\n",
        " {'epoch': 261,\n",
        "  'train_loss': 0.015219848,\n",
        "  'valid_accuracy': 0.013573963,\n",
        "  'valid_loss': 0.013573963},\n",
        " {'epoch': 262,\n",
        "  'train_loss': 0.015143715,\n",
        "  'valid_accuracy': 0.013547849,\n",
        "  'valid_loss': 0.013547849},\n",
        " {'epoch': 263,\n",
        "  'train_loss': 0.015209007,\n",
        "  'valid_accuracy': 0.01354411,\n",
        "  'valid_loss': 0.01354411},\n",
        " {'epoch': 264,\n",
        "  'train_loss': 0.015093024,\n",
        "  'valid_accuracy': 0.013530819,\n",
        "  'valid_loss': 0.013530819},\n",
        " {'epoch': 265,\n",
        "  'train_loss': 0.015120348,\n",
        "  'valid_accuracy': 0.013472097,\n",
        "  'valid_loss': 0.013472097},\n",
        " {'epoch': 266,\n",
        "  'train_loss': 0.015089503,\n",
        "  'valid_accuracy': 0.013462416,\n",
        "  'valid_loss': 0.013462416},\n",
        " {'epoch': 267,\n",
        "  'train_loss': 0.015080504,\n",
        "  'valid_accuracy': 0.013427872,\n",
        "  'valid_loss': 0.013427872},\n",
        " {'epoch': 268,\n",
        "  'train_loss': 0.01502311,\n",
        "  'valid_accuracy': 0.013395106,\n",
        "  'valid_loss': 0.013395106},\n",
        " {'epoch': 269,\n",
        "  'train_loss': 0.015001864,\n",
        "  'valid_accuracy': 0.013404881,\n",
        "  'valid_loss': 0.013404881},\n",
        " {'epoch': 270,\n",
        "  'train_loss': 0.015044873,\n",
        "  'valid_accuracy': 0.013352687,\n",
        "  'valid_loss': 0.013352687},\n",
        " {'epoch': 271,\n",
        "  'train_loss': 0.014918492,\n",
        "  'valid_accuracy': 0.013344415,\n",
        "  'valid_loss': 0.013344415},\n",
        " {'epoch': 272,\n",
        "  'train_loss': 0.014951325,\n",
        "  'valid_accuracy': 0.013338522,\n",
        "  'valid_loss': 0.013338522},\n",
        " {'epoch': 273,\n",
        "  'train_loss': 0.014839777,\n",
        "  'valid_accuracy': 0.013306501,\n",
        "  'valid_loss': 0.013306501},\n",
        " {'epoch': 274,\n",
        "  'train_loss': 0.014850844,\n",
        "  'valid_accuracy': 0.01323073,\n",
        "  'valid_loss': 0.01323073},\n",
        " {'epoch': 275,\n",
        "  'train_loss': 0.014866178,\n",
        "  'valid_accuracy': 0.013243529,\n",
        "  'valid_loss': 0.013243529},\n",
        " {'epoch': 276,\n",
        "  'train_loss': 0.014756799,\n",
        "  'valid_accuracy': 0.013214171,\n",
        "  'valid_loss': 0.013214171},\n",
        " {'epoch': 277,\n",
        "  'train_loss': 0.014838163,\n",
        "  'valid_accuracy': 0.013188189,\n",
        "  'valid_loss': 0.013188189},\n",
        " {'epoch': 278,\n",
        "  'train_loss': 0.014742011,\n",
        "  'valid_accuracy': 0.013171979,\n",
        "  'valid_loss': 0.013171979},\n",
        " {'epoch': 279,\n",
        "  'train_loss': 0.014730909,\n",
        "  'valid_accuracy': 0.013112287,\n",
        "  'valid_loss': 0.013112287},\n",
        " {'epoch': 280,\n",
        "  'train_loss': 0.014695163,\n",
        "  'valid_accuracy': 0.013158484,\n",
        "  'valid_loss': 0.013158484},\n",
        " {'epoch': 281,\n",
        "  'train_loss': 0.014661853,\n",
        "  'valid_accuracy': 0.013078064,\n",
        "  'valid_loss': 0.013078064},\n",
        " {'epoch': 282,\n",
        "  'train_loss': 0.014572721,\n",
        "  'valid_accuracy': 0.013066213,\n",
        "  'valid_loss': 0.013066213},\n",
        " {'epoch': 283,\n",
        "  'train_loss': 0.014691554,\n",
        "  'valid_accuracy': 0.013093426,\n",
        "  'valid_loss': 0.013093426},\n",
        " {'epoch': 284,\n",
        "  'train_loss': 0.014603622,\n",
        "  'valid_accuracy': 0.013028142,\n",
        "  'valid_loss': 0.013028142},\n",
        " {'epoch': 285,\n",
        "  'train_loss': 0.014580016,\n",
        "  'valid_accuracy': 0.012992291,\n",
        "  'valid_loss': 0.012992291},\n",
        " {'epoch': 286,\n",
        "  'train_loss': 0.014499868,\n",
        "  'valid_accuracy': 0.01299016,\n",
        "  'valid_loss': 0.01299016},\n",
        " {'epoch': 287,\n",
        "  'train_loss': 0.014507691,\n",
        "  'valid_accuracy': 0.012976319,\n",
        "  'valid_loss': 0.012976319},\n",
        " {'epoch': 288,\n",
        "  'train_loss': 0.014471538,\n",
        "  'valid_accuracy': 0.012949941,\n",
        "  'valid_loss': 0.012949941},\n",
        " {'epoch': 289,\n",
        "  'train_loss': 0.014416739,\n",
        "  'valid_accuracy': 0.012946606,\n",
        "  'valid_loss': 0.012946606},\n",
        " {'epoch': 290,\n",
        "  'train_loss': 0.014469743,\n",
        "  'valid_accuracy': 0.012936738,\n",
        "  'valid_loss': 0.012936738},\n",
        " {'epoch': 291,\n",
        "  'train_loss': 0.014457419,\n",
        "  'valid_accuracy': 0.012895032,\n",
        "  'valid_loss': 0.012895032},\n",
        " {'epoch': 292,\n",
        "  'train_loss': 0.014370743,\n",
        "  'valid_accuracy': 0.012848875,\n",
        "  'valid_loss': 0.012848875},\n",
        " {'epoch': 293,\n",
        "  'train_loss': 0.01441576,\n",
        "  'valid_accuracy': 0.012850697,\n",
        "  'valid_loss': 0.012850697},\n",
        " {'epoch': 294,\n",
        "  'train_loss': 0.014324836,\n",
        "  'valid_accuracy': 0.012853333,\n",
        "  'valid_loss': 0.012853333},\n",
        " {'epoch': 295,\n",
        "  'train_loss': 0.014259248,\n",
        "  'valid_accuracy': 0.012799155,\n",
        "  'valid_loss': 0.012799155},\n",
        " {'epoch': 296,\n",
        "  'train_loss': 0.01426244,\n",
        "  'valid_accuracy': 0.012784514,\n",
        "  'valid_loss': 0.012784514},\n",
        " {'epoch': 297,\n",
        "  'train_loss': 0.014204216,\n",
        "  'valid_accuracy': 0.012760774,\n",
        "  'valid_loss': 0.012760774},\n",
        " {'epoch': 298,\n",
        "  'train_loss': 0.014267321,\n",
        "  'valid_accuracy': 0.012809526,\n",
        "  'valid_loss': 0.012809526},\n",
        " {'epoch': 299,\n",
        "  'train_loss': 0.014257674,\n",
        "  'valid_accuracy': 0.012709539,\n",
        "  'valid_loss': 0.012709539},\n",
        " {'epoch': 300,\n",
        "  'train_loss': 0.014163203,\n",
        "  'valid_accuracy': 0.012699463,\n",
        "  'valid_loss': 0.012699463},\n",
        " {'epoch': 301,\n",
        "  'train_loss': 0.014191224,\n",
        "  'valid_accuracy': 0.012685372,\n",
        "  'valid_loss': 0.012685372},\n",
        " {'epoch': 302,\n",
        "  'train_loss': 0.014179927,\n",
        "  'valid_accuracy': 0.012695459,\n",
        "  'valid_loss': 0.012695459},\n",
        " {'epoch': 303,\n",
        "  'train_loss': 0.014131456,\n",
        "  'valid_accuracy': 0.012667697,\n",
        "  'valid_loss': 0.012667697},\n",
        " {'epoch': 304,\n",
        "  'train_loss': 0.014140939,\n",
        "  'valid_accuracy': 0.012623638,\n",
        "  'valid_loss': 0.012623638},\n",
        " {'epoch': 305,\n",
        "  'train_loss': 0.014142323,\n",
        "  'valid_accuracy': 0.012624851,\n",
        "  'valid_loss': 0.012624851},\n",
        " {'epoch': 306,\n",
        "  'train_loss': 0.014123634,\n",
        "  'valid_accuracy': 0.012626695,\n",
        "  'valid_loss': 0.012626695},\n",
        " {'epoch': 307,\n",
        "  'train_loss': 0.014041105,\n",
        "  'valid_accuracy': 0.012564676,\n",
        "  'valid_loss': 0.012564676},\n",
        " {'epoch': 308,\n",
        "  'train_loss': 0.014052902,\n",
        "  'valid_accuracy': 0.012582281,\n",
        "  'valid_loss': 0.012582281},\n",
        " {'epoch': 309,\n",
        "  'train_loss': 0.014010459,\n",
        "  'valid_accuracy': 0.012560546,\n",
        "  'valid_loss': 0.012560546},\n",
        " {'epoch': 310,\n",
        "  'train_loss': 0.013977014,\n",
        "  'valid_accuracy': 0.012536971,\n",
        "  'valid_loss': 0.012536971},\n",
        " {'epoch': 311,\n",
        "  'train_loss': 0.013983215,\n",
        "  'valid_accuracy': 0.012546464,\n",
        "  'valid_loss': 0.012546464},\n",
        " {'epoch': 312,\n",
        "  'train_loss': 0.01390218,\n",
        "  'valid_accuracy': 0.012520931,\n",
        "  'valid_loss': 0.012520931},\n",
        " {'epoch': 313,\n",
        "  'train_loss': 0.013874332,\n",
        "  'valid_accuracy': 0.012491952,\n",
        "  'valid_loss': 0.012491952},\n",
        " {'epoch': 314,\n",
        "  'train_loss': 0.013916978,\n",
        "  'valid_accuracy': 0.012458305,\n",
        "  'valid_loss': 0.012458305},\n",
        " {'epoch': 315,\n",
        "  'train_loss': 0.013912382,\n",
        "  'valid_accuracy': 0.012455994,\n",
        "  'valid_loss': 0.012455994},\n",
        " {'epoch': 316,\n",
        "  'train_loss': 0.013842857,\n",
        "  'valid_accuracy': 0.012446369,\n",
        "  'valid_loss': 0.012446369},\n",
        " {'epoch': 317,\n",
        "  'train_loss': 0.013786581,\n",
        "  'valid_accuracy': 0.012419941,\n",
        "  'valid_loss': 0.012419941},\n",
        " {'epoch': 318,\n",
        "  'train_loss': 0.013853974,\n",
        "  'valid_accuracy': 0.012444455,\n",
        "  'valid_loss': 0.012444455},\n",
        " {'epoch': 319,\n",
        "  'train_loss': 0.01383519,\n",
        "  'valid_accuracy': 0.012404013,\n",
        "  'valid_loss': 0.012404013},\n",
        " {'epoch': 320,\n",
        "  'train_loss': 0.013770127,\n",
        "  'valid_accuracy': 0.012407695,\n",
        "  'valid_loss': 0.012407695},\n",
        " {'epoch': 321,\n",
        "  'train_loss': 0.013813384,\n",
        "  'valid_accuracy': 0.01241139,\n",
        "  'valid_loss': 0.01241139},\n",
        " {'epoch': 322,\n",
        "  'train_loss': 0.013724172,\n",
        "  'valid_accuracy': 0.012342502,\n",
        "  'valid_loss': 0.012342502},\n",
        " {'epoch': 323,\n",
        "  'train_loss': 0.013755889,\n",
        "  'valid_accuracy': 0.012335157,\n",
        "  'valid_loss': 0.012335157},\n",
        " {'epoch': 324,\n",
        "  'train_loss': 0.013697709,\n",
        "  'valid_accuracy': 0.01231474,\n",
        "  'valid_loss': 0.01231474},\n",
        " {'epoch': 325,\n",
        "  'train_loss': 0.013739043,\n",
        "  'valid_accuracy': 0.012294127,\n",
        "  'valid_loss': 0.012294127},\n",
        " {'epoch': 326,\n",
        "  'train_loss': 0.013662471,\n",
        "  'valid_accuracy': 0.012268792,\n",
        "  'valid_loss': 0.012268792},\n",
        " {'epoch': 327,\n",
        "  'train_loss': 0.013669012,\n",
        "  'valid_accuracy': 0.012245848,\n",
        "  'valid_loss': 0.012245848},\n",
        " {'epoch': 328,\n",
        "  'train_loss': 0.013634091,\n",
        "  'valid_accuracy': 0.012216129,\n",
        "  'valid_loss': 0.012216129},\n",
        " {'epoch': 329,\n",
        "  'train_loss': 0.013574994,\n",
        "  'valid_accuracy': 0.01225545,\n",
        "  'valid_loss': 0.01225545},\n",
        " {'epoch': 330,\n",
        "  'train_loss': 0.013684513,\n",
        "  'valid_accuracy': 0.012222596,\n",
        "  'valid_loss': 0.012222596},\n",
        " {'epoch': 331,\n",
        "  'train_loss': 0.013628618,\n",
        "  'valid_accuracy': 0.012219451,\n",
        "  'valid_loss': 0.012219451},\n",
        " {'epoch': 332,\n",
        "  'train_loss': 0.013576643,\n",
        "  'valid_accuracy': 0.012196129,\n",
        "  'valid_loss': 0.012196129},\n",
        " {'epoch': 333,\n",
        "  'train_loss': 0.013536437,\n",
        "  'valid_accuracy': 0.012153547,\n",
        "  'valid_loss': 0.012153547},\n",
        " {'epoch': 334,\n",
        "  'train_loss': 0.013512789,\n",
        "  'valid_accuracy': 0.012170684,\n",
        "  'valid_loss': 0.012170684},\n",
        " {'epoch': 335,\n",
        "  'train_loss': 0.013441041,\n",
        "  'valid_accuracy': 0.012154756,\n",
        "  'valid_loss': 0.012154756},\n",
        " {'epoch': 336,\n",
        "  'train_loss': 0.013427915,\n",
        "  'valid_accuracy': 0.012152455,\n",
        "  'valid_loss': 0.012152455},\n",
        " {'epoch': 337,\n",
        "  'train_loss': 0.013512817,\n",
        "  'valid_accuracy': 0.012158309,\n",
        "  'valid_loss': 0.012158309},\n",
        " {'epoch': 338,\n",
        "  'train_loss': 0.013457028,\n",
        "  'valid_accuracy': 0.012159826,\n",
        "  'valid_loss': 0.012159826},\n",
        " {'epoch': 339,\n",
        "  'train_loss': 0.013435523,\n",
        "  'valid_accuracy': 0.012118955,\n",
        "  'valid_loss': 0.012118955},\n",
        " {'epoch': 340,\n",
        "  'train_loss': 0.013391693,\n",
        "  'valid_accuracy': 0.012072518,\n",
        "  'valid_loss': 0.012072518},\n",
        " {'epoch': 341,\n",
        "  'train_loss': 0.013431285,\n",
        "  'valid_accuracy': 0.012075029,\n",
        "  'valid_loss': 0.012075029},\n",
        " {'epoch': 342,\n",
        "  'train_loss': 0.013390321,\n",
        "  'valid_accuracy': 0.012046878,\n",
        "  'valid_loss': 0.012046878},\n",
        " {'epoch': 343,\n",
        "  'train_loss': 0.013381148,\n",
        "  'valid_accuracy': 0.012046554,\n",
        "  'valid_loss': 0.012046554},\n",
        " {'epoch': 344,\n",
        "  'train_loss': 0.013340651,\n",
        "  'valid_accuracy': 0.012029953,\n",
        "  'valid_loss': 0.012029953},\n",
        " {'epoch': 345,\n",
        "  'train_loss': 0.013339186,\n",
        "  'valid_accuracy': 0.012007688,\n",
        "  'valid_loss': 0.012007688},\n",
        " {'epoch': 346,\n",
        "  'train_loss': 0.013280108,\n",
        "  'valid_accuracy': 0.012028684,\n",
        "  'valid_loss': 0.012028684},\n",
        " {'epoch': 347,\n",
        "  'train_loss': 0.013243455,\n",
        "  'valid_accuracy': 0.012004185,\n",
        "  'valid_loss': 0.012004185},\n",
        " {'epoch': 348,\n",
        "  'train_loss': 0.013222584,\n",
        "  'valid_accuracy': 0.011983535,\n",
        "  'valid_loss': 0.011983535},\n",
        " {'epoch': 349,\n",
        "  'train_loss': 0.013257426,\n",
        "  'valid_accuracy': 0.01195373,\n",
        "  'valid_loss': 0.01195373},\n",
        " {'epoch': 350,\n",
        "  'train_loss': 0.013241897,\n",
        "  'valid_accuracy': 0.011937277,\n",
        "  'valid_loss': 0.011937277},\n",
        " {'epoch': 351,\n",
        "  'train_loss': 0.013221215,\n",
        "  'valid_accuracy': 0.011952003,\n",
        "  'valid_loss': 0.011952003},\n",
        " {'epoch': 352,\n",
        "  'train_loss': 0.013144416,\n",
        "  'valid_accuracy': 0.011926966,\n",
        "  'valid_loss': 0.011926966},\n",
        " {'epoch': 353,\n",
        "  'train_loss': 0.013229892,\n",
        "  'valid_accuracy': 0.011887617,\n",
        "  'valid_loss': 0.011887617},\n",
        " {'epoch': 354,\n",
        "  'train_loss': 0.013260651,\n",
        "  'valid_accuracy': 0.011896007,\n",
        "  'valid_loss': 0.011896007},\n",
        " {'epoch': 355,\n",
        "  'train_loss': 0.013139651,\n",
        "  'valid_accuracy': 0.011881833,\n",
        "  'valid_loss': 0.011881833},\n",
        " {'epoch': 356,\n",
        "  'train_loss': 0.013116653,\n",
        "  'valid_accuracy': 0.011868457,\n",
        "  'valid_loss': 0.011868457},\n",
        " {'epoch': 357,\n",
        "  'train_loss': 0.013123316,\n",
        "  'valid_accuracy': 0.011834396,\n",
        "  'valid_loss': 0.011834396},\n",
        " {'epoch': 358,\n",
        "  'train_loss': 0.013119589,\n",
        "  'valid_accuracy': 0.011812257,\n",
        "  'valid_loss': 0.011812257},\n",
        " {'epoch': 359,\n",
        "  'train_loss': 0.013066525,\n",
        "  'valid_accuracy': 0.01183526,\n",
        "  'valid_loss': 0.01183526},\n",
        " {'epoch': 360,\n",
        "  'train_loss': 0.013062919,\n",
        "  'valid_accuracy': 0.011798847,\n",
        "  'valid_loss': 0.011798847},\n",
        " {'epoch': 361,\n",
        "  'train_loss': 0.013063434,\n",
        "  'valid_accuracy': 0.01182031,\n",
        "  'valid_loss': 0.01182031},\n",
        " {'epoch': 362,\n",
        "  'train_loss': 0.013069709,\n",
        "  'valid_accuracy': 0.011793319,\n",
        "  'valid_loss': 0.011793319},\n",
        " {'epoch': 363,\n",
        "  'train_loss': 0.013055505,\n",
        "  'valid_accuracy': 0.01177047,\n",
        "  'valid_loss': 0.01177047},\n",
        " {'epoch': 364,\n",
        "  'train_loss': 0.013125785,\n",
        "  'valid_accuracy': 0.011769931,\n",
        "  'valid_loss': 0.011769931},\n",
        " {'epoch': 365,\n",
        "  'train_loss': 0.012961001,\n",
        "  'valid_accuracy': 0.011765405,\n",
        "  'valid_loss': 0.011765405},\n",
        " {'epoch': 366,\n",
        "  'train_loss': 0.013021231,\n",
        "  'valid_accuracy': 0.011745329,\n",
        "  'valid_loss': 0.011745329},\n",
        " {'epoch': 367,\n",
        "  'train_loss': 0.012969282,\n",
        "  'valid_accuracy': 0.011738692,\n",
        "  'valid_loss': 0.011738692},\n",
        " {'epoch': 368,\n",
        "  'train_loss': 0.012952251,\n",
        "  'valid_accuracy': 0.011721726,\n",
        "  'valid_loss': 0.011721726},\n",
        " {'epoch': 369,\n",
        "  'train_loss': 0.012951684,\n",
        "  'valid_accuracy': 0.011728837,\n",
        "  'valid_loss': 0.011728837},\n",
        " {'epoch': 370,\n",
        "  'train_loss': 0.013002875,\n",
        "  'valid_accuracy': 0.011707013,\n",
        "  'valid_loss': 0.011707013},\n",
        " {'epoch': 371,\n",
        "  'train_loss': 0.012930583,\n",
        "  'valid_accuracy': 0.011694289,\n",
        "  'valid_loss': 0.011694289},\n",
        " {'epoch': 372,\n",
        "  'train_loss': 0.012920546,\n",
        "  'valid_accuracy': 0.011695528,\n",
        "  'valid_loss': 0.011695528},\n",
        " {'epoch': 373,\n",
        "  'train_loss': 0.012903105,\n",
        "  'valid_accuracy': 0.011660354,\n",
        "  'valid_loss': 0.011660354},\n",
        " {'epoch': 374,\n",
        "  'train_loss': 0.012932375,\n",
        "  'valid_accuracy': 0.011667136,\n",
        "  'valid_loss': 0.011667136},\n",
        " {'epoch': 375,\n",
        "  'train_loss': 0.012866754,\n",
        "  'valid_accuracy': 0.011656225,\n",
        "  'valid_loss': 0.011656225},\n",
        " {'epoch': 376,\n",
        "  'train_loss': 0.012923024,\n",
        "  'valid_accuracy': 0.01166227,\n",
        "  'valid_loss': 0.01166227},\n",
        " {'epoch': 377,\n",
        "  'train_loss': 0.012766491,\n",
        "  'valid_accuracy': 0.011608033,\n",
        "  'valid_loss': 0.011608033},\n",
        " {'epoch': 378,\n",
        "  'train_loss': 0.0128716,\n",
        "  'valid_accuracy': 0.011611533,\n",
        "  'valid_loss': 0.011611533},\n",
        " {'epoch': 379,\n",
        "  'train_loss': 0.012817516,\n",
        "  'valid_accuracy': 0.01159412,\n",
        "  'valid_loss': 0.01159412},\n",
        " {'epoch': 380,\n",
        "  'train_loss': 0.012792376,\n",
        "  'valid_accuracy': 0.011598264,\n",
        "  'valid_loss': 0.011598264},\n",
        " {'epoch': 381,\n",
        "  'train_loss': 0.012693585,\n",
        "  'valid_accuracy': 0.011577275,\n",
        "  'valid_loss': 0.011577275},\n",
        " {'epoch': 382,\n",
        "  'train_loss': 0.012758835,\n",
        "  'valid_accuracy': 0.011589401,\n",
        "  'valid_loss': 0.011589401},\n",
        " {'epoch': 383,\n",
        "  'train_loss': 0.012722556,\n",
        "  'valid_accuracy': 0.01155148,\n",
        "  'valid_loss': 0.01155148},\n",
        " {'epoch': 384,\n",
        "  'train_loss': 0.012789419,\n",
        "  'valid_accuracy': 0.011569147,\n",
        "  'valid_loss': 0.011569147},\n",
        " {'epoch': 385,\n",
        "  'train_loss': 0.01268995,\n",
        "  'valid_accuracy': 0.011545869,\n",
        "  'valid_loss': 0.011545869},\n",
        " {'epoch': 386,\n",
        "  'train_loss': 0.012739166,\n",
        "  'valid_accuracy': 0.011536221,\n",
        "  'valid_loss': 0.011536221},\n",
        " {'epoch': 387,\n",
        "  'train_loss': 0.012714376,\n",
        "  'valid_accuracy': 0.011507814,\n",
        "  'valid_loss': 0.011507814},\n",
        " {'epoch': 388,\n",
        "  'train_loss': 0.01272022,\n",
        "  'valid_accuracy': 0.011518456,\n",
        "  'valid_loss': 0.011518456},\n",
        " {'epoch': 389,\n",
        "  'train_loss': 0.01273673,\n",
        "  'valid_accuracy': 0.011509902,\n",
        "  'valid_loss': 0.011509902},\n",
        " {'epoch': 390,\n",
        "  'train_loss': 0.012606595,\n",
        "  'valid_accuracy': 0.011477371,\n",
        "  'valid_loss': 0.011477371},\n",
        " {'epoch': 391,\n",
        "  'train_loss': 0.012597786,\n",
        "  'valid_accuracy': 0.011468695,\n",
        "  'valid_loss': 0.011468695},\n",
        " {'epoch': 392,\n",
        "  'train_loss': 0.012600544,\n",
        "  'valid_accuracy': 0.011457189,\n",
        "  'valid_loss': 0.011457189},\n",
        " {'epoch': 393,\n",
        "  'train_loss': 0.012574986,\n",
        "  'valid_accuracy': 0.011426852,\n",
        "  'valid_loss': 0.011426852},\n",
        " {'epoch': 394,\n",
        "  'train_loss': 0.012580222,\n",
        "  'valid_accuracy': 0.011444431,\n",
        "  'valid_loss': 0.011444431},\n",
        " {'epoch': 395,\n",
        "  'train_loss': 0.012585179,\n",
        "  'valid_accuracy': 0.011446978,\n",
        "  'valid_loss': 0.011446978},\n",
        " {'epoch': 396,\n",
        "  'train_loss': 0.012515967,\n",
        "  'valid_accuracy': 0.011416973,\n",
        "  'valid_loss': 0.011416973},\n",
        " {'epoch': 397,\n",
        "  'train_loss': 0.012549512,\n",
        "  'valid_accuracy': 0.01140301,\n",
        "  'valid_loss': 0.01140301},\n",
        " {'epoch': 398,\n",
        "  'train_loss': 0.012513258,\n",
        "  'valid_accuracy': 0.011404367,\n",
        "  'valid_loss': 0.011404367},\n",
        " {'epoch': 399,\n",
        "  'train_loss': 0.012501907,\n",
        "  'valid_accuracy': 0.011373404,\n",
        "  'valid_loss': 0.011373404},\n",
        " {'epoch': 400,\n",
        "  'train_loss': 0.01244053,\n",
        "  'valid_accuracy': 0.01136717,\n",
        "  'valid_loss': 0.01136717},\n",
        " {'epoch': 401,\n",
        "  'train_loss': 0.012514505,\n",
        "  'valid_accuracy': 0.011376513,\n",
        "  'valid_loss': 0.011376513},\n",
        " {'epoch': 402,\n",
        "  'train_loss': 0.012403763,\n",
        "  'valid_accuracy': 0.011338644,\n",
        "  'valid_loss': 0.011338644},\n",
        " {'epoch': 403,\n",
        "  'train_loss': 0.012400588,\n",
        "  'valid_accuracy': 0.01137066,\n",
        "  'valid_loss': 0.01137066},\n",
        " {'epoch': 404,\n",
        "  'train_loss': 0.012419806,\n",
        "  'valid_accuracy': 0.011354541,\n",
        "  'valid_loss': 0.011354541},\n",
        " {'epoch': 405,\n",
        "  'train_loss': 0.012427353,\n",
        "  'valid_accuracy': 0.011338657,\n",
        "  'valid_loss': 0.011338657},\n",
        " {'epoch': 406,\n",
        "  'train_loss': 0.012427579,\n",
        "  'valid_accuracy': 0.011351403,\n",
        "  'valid_loss': 0.011351403},\n",
        " {'epoch': 407,\n",
        "  'train_loss': 0.012372449,\n",
        "  'valid_accuracy': 0.011298096,\n",
        "  'valid_loss': 0.011298096},\n",
        " {'epoch': 408,\n",
        "  'train_loss': 0.01235975,\n",
        "  'valid_accuracy': 0.011294074,\n",
        "  'valid_loss': 0.011294074},\n",
        " {'epoch': 409,\n",
        "  'train_loss': 0.012406797,\n",
        "  'valid_accuracy': 0.011305728,\n",
        "  'valid_loss': 0.011305728},\n",
        " {'epoch': 410,\n",
        "  'train_loss': 0.012346055,\n",
        "  'valid_accuracy': 0.011277548,\n",
        "  'valid_loss': 0.011277548},\n",
        " {'epoch': 411,\n",
        "  'train_loss': 0.012390256,\n",
        "  'valid_accuracy': 0.011292448,\n",
        "  'valid_loss': 0.011292448},\n",
        " {'epoch': 412,\n",
        "  'train_loss': 0.012349147,\n",
        "  'valid_accuracy': 0.01125143,\n",
        "  'valid_loss': 0.01125143},\n",
        " {'epoch': 413,\n",
        "  'train_loss': 0.012410847,\n",
        "  'valid_accuracy': 0.011255134,\n",
        "  'valid_loss': 0.011255134},\n",
        " {'epoch': 414,\n",
        "  'train_loss': 0.012347444,\n",
        "  'valid_accuracy': 0.011226033,\n",
        "  'valid_loss': 0.011226033},\n",
        " {'epoch': 415,\n",
        "  'train_loss': 0.012346292,\n",
        "  'valid_accuracy': 0.011225584,\n",
        "  'valid_loss': 0.011225584},\n",
        " {'epoch': 416,\n",
        "  'train_loss': 0.012284843,\n",
        "  'valid_accuracy': 0.011258134,\n",
        "  'valid_loss': 0.011258134},\n",
        " {'epoch': 417,\n",
        "  'train_loss': 0.012298563,\n",
        "  'valid_accuracy': 0.011212425,\n",
        "  'valid_loss': 0.011212425},\n",
        " {'epoch': 418,\n",
        "  'train_loss': 0.012318349,\n",
        "  'valid_accuracy': 0.011215363,\n",
        "  'valid_loss': 0.011215363},\n",
        " {'epoch': 419,\n",
        "  'train_loss': 0.012234392,\n",
        "  'valid_accuracy': 0.011197547,\n",
        "  'valid_loss': 0.011197547},\n",
        " {'epoch': 420,\n",
        "  'train_loss': 0.012207228,\n",
        "  'valid_accuracy': 0.011201677,\n",
        "  'valid_loss': 0.011201677},\n",
        " {'epoch': 421,\n",
        "  'train_loss': 0.012166807,\n",
        "  'valid_accuracy': 0.01117656,\n",
        "  'valid_loss': 0.01117656},\n",
        " {'epoch': 422,\n",
        "  'train_loss': 0.01221722,\n",
        "  'valid_accuracy': 0.011176353,\n",
        "  'valid_loss': 0.011176353},\n",
        " {'epoch': 423,\n",
        "  'train_loss': 0.012213147,\n",
        "  'valid_accuracy': 0.011145743,\n",
        "  'valid_loss': 0.011145743},\n",
        " {'epoch': 424,\n",
        "  'train_loss': 0.012134423,\n",
        "  'valid_accuracy': 0.011154733,\n",
        "  'valid_loss': 0.011154733},\n",
        " {'epoch': 425,\n",
        "  'train_loss': 0.012229083,\n",
        "  'valid_accuracy': 0.011141638,\n",
        "  'valid_loss': 0.011141638},\n",
        " {'epoch': 426,\n",
        "  'train_loss': 0.012164497,\n",
        "  'valid_accuracy': 0.011143676,\n",
        "  'valid_loss': 0.011143676},\n",
        " {'epoch': 427,\n",
        "  'train_loss': 0.012228942,\n",
        "  'valid_accuracy': 0.011146657,\n",
        "  'valid_loss': 0.011146657},\n",
        " {'epoch': 428,\n",
        "  'train_loss': 0.012064178,\n",
        "  'valid_accuracy': 0.011127775,\n",
        "  'valid_loss': 0.011127775},\n",
        " {'epoch': 429,\n",
        "  'train_loss': 0.012069151,\n",
        "  'valid_accuracy': 0.01110165,\n",
        "  'valid_loss': 0.01110165},\n",
        " {'epoch': 430,\n",
        "  'train_loss': 0.012167597,\n",
        "  'valid_accuracy': 0.011120488,\n",
        "  'valid_loss': 0.011120488},\n",
        " {'epoch': 431,\n",
        "  'train_loss': 0.012059615,\n",
        "  'valid_accuracy': 0.011073155,\n",
        "  'valid_loss': 0.011073155},\n",
        " {'epoch': 432,\n",
        "  'train_loss': 0.012096961,\n",
        "  'valid_accuracy': 0.011104051,\n",
        "  'valid_loss': 0.011104051},\n",
        " {'epoch': 433,\n",
        "  'train_loss': 0.012071448,\n",
        "  'valid_accuracy': 0.011074381,\n",
        "  'valid_loss': 0.011074381},\n",
        " {'epoch': 434,\n",
        "  'train_loss': 0.012069794,\n",
        "  'valid_accuracy': 0.011065029,\n",
        "  'valid_loss': 0.011065029},\n",
        " {'epoch': 435,\n",
        "  'train_loss': 0.012087501,\n",
        "  'valid_accuracy': 0.011068951,\n",
        "  'valid_loss': 0.011068951},\n",
        " {'epoch': 436,\n",
        "  'train_loss': 0.012049127,\n",
        "  'valid_accuracy': 0.011059372,\n",
        "  'valid_loss': 0.011059372},\n",
        " {'epoch': 437,\n",
        "  'train_loss': 0.012102427,\n",
        "  'valid_accuracy': 0.011073778,\n",
        "  'valid_loss': 0.011073778},\n",
        " {'epoch': 438,\n",
        "  'train_loss': 0.012031585,\n",
        "  'valid_accuracy': 0.011045785,\n",
        "  'valid_loss': 0.011045785},\n",
        " {'epoch': 439,\n",
        "  'train_loss': 0.012046747,\n",
        "  'valid_accuracy': 0.011035587,\n",
        "  'valid_loss': 0.011035587},\n",
        " {'epoch': 440,\n",
        "  'train_loss': 0.011934439,\n",
        "  'valid_accuracy': 0.01099764,\n",
        "  'valid_loss': 0.01099764},\n",
        " {'epoch': 441,\n",
        "  'train_loss': 0.012020555,\n",
        "  'valid_accuracy': 0.011014102,\n",
        "  'valid_loss': 0.011014102},\n",
        " {'epoch': 442,\n",
        "  'train_loss': 0.012026288,\n",
        "  'valid_accuracy': 0.011012614,\n",
        "  'valid_loss': 0.011012614},\n",
        " {'epoch': 443,\n",
        "  'train_loss': 0.011950955,\n",
        "  'valid_accuracy': 0.010997914,\n",
        "  'valid_loss': 0.010997914},\n",
        " {'epoch': 444,\n",
        "  'train_loss': 0.012028153,\n",
        "  'valid_accuracy': 0.010987754,\n",
        "  'valid_loss': 0.010987754},\n",
        " {'epoch': 445,\n",
        "  'train_loss': 0.011901745,\n",
        "  'valid_accuracy': 0.01095841,\n",
        "  'valid_loss': 0.01095841},\n",
        " {'epoch': 446,\n",
        "  'train_loss': 0.011885927,\n",
        "  'valid_accuracy': 0.01097431,\n",
        "  'valid_loss': 0.01097431},\n",
        " {'epoch': 447,\n",
        "  'train_loss': 0.011934436,\n",
        "  'valid_accuracy': 0.010957085,\n",
        "  'valid_loss': 0.010957085},\n",
        " {'epoch': 448,\n",
        "  'train_loss': 0.011842221,\n",
        "  'valid_accuracy': 0.010924245,\n",
        "  'valid_loss': 0.010924245},\n",
        " {'epoch': 449,\n",
        "  'train_loss': 0.011920167,\n",
        "  'valid_accuracy': 0.010938883,\n",
        "  'valid_loss': 0.010938883},\n",
        " {'epoch': 450,\n",
        "  'train_loss': 0.011903021,\n",
        "  'valid_accuracy': 0.010954469,\n",
        "  'valid_loss': 0.010954469},\n",
        " {'epoch': 451,\n",
        "  'train_loss': 0.011825164,\n",
        "  'valid_accuracy': 0.010926072,\n",
        "  'valid_loss': 0.010926072},\n",
        " {'epoch': 452,\n",
        "  'train_loss': 0.011814307,\n",
        "  'valid_accuracy': 0.010936259,\n",
        "  'valid_loss': 0.010936259},\n",
        " {'epoch': 453,\n",
        "  'train_loss': 0.011859836,\n",
        "  'valid_accuracy': 0.010919685,\n",
        "  'valid_loss': 0.010919685},\n",
        " {'epoch': 454,\n",
        "  'train_loss': 0.011871598,\n",
        "  'valid_accuracy': 0.010900531,\n",
        "  'valid_loss': 0.010900531},\n",
        " {'epoch': 455,\n",
        "  'train_loss': 0.011878664,\n",
        "  'valid_accuracy': 0.010916861,\n",
        "  'valid_loss': 0.010916861},\n",
        " {'epoch': 456,\n",
        "  'train_loss': 0.011840816,\n",
        "  'valid_accuracy': 0.010870961,\n",
        "  'valid_loss': 0.010870961},\n",
        " {'epoch': 457,\n",
        "  'train_loss': 0.011873264,\n",
        "  'valid_accuracy': 0.010918553,\n",
        "  'valid_loss': 0.010918553},\n",
        " {'epoch': 458,\n",
        "  'train_loss': 0.011822265,\n",
        "  'valid_accuracy': 0.010881523,\n",
        "  'valid_loss': 0.010881523},\n",
        " {'epoch': 459,\n",
        "  'train_loss': 0.011753127,\n",
        "  'valid_accuracy': 0.010842941,\n",
        "  'valid_loss': 0.010842941},\n",
        " {'epoch': 460,\n",
        "  'train_loss': 0.011797267,\n",
        "  'valid_accuracy': 0.010864106,\n",
        "  'valid_loss': 0.010864106},\n",
        " {'epoch': 461,\n",
        "  'train_loss': 0.011779495,\n",
        "  'valid_accuracy': 0.010830073,\n",
        "  'valid_loss': 0.010830073},\n",
        " {'epoch': 462,\n",
        "  'train_loss': 0.011780022,\n",
        "  'valid_accuracy': 0.010831562,\n",
        "  'valid_loss': 0.010831562},\n",
        " {'epoch': 463,\n",
        "  'train_loss': 0.011726785,\n",
        "  'valid_accuracy': 0.010821261,\n",
        "  'valid_loss': 0.010821261},\n",
        " {'epoch': 464,\n",
        "  'train_loss': 0.011657347,\n",
        "  'valid_accuracy': 0.010810001,\n",
        "  'valid_loss': 0.010810001},\n",
        " {'epoch': 465,\n",
        "  'train_loss': 0.011736388,\n",
        "  'valid_accuracy': 0.010806055,\n",
        "  'valid_loss': 0.010806055},\n",
        " {'epoch': 466,\n",
        "  'train_loss': 0.011715283,\n",
        "  'valid_accuracy': 0.010805116,\n",
        "  'valid_loss': 0.010805116},\n",
        " {'epoch': 467,\n",
        "  'train_loss': 0.011696281,\n",
        "  'valid_accuracy': 0.010791271,\n",
        "  'valid_loss': 0.010791271},\n",
        " {'epoch': 468,\n",
        "  'train_loss': 0.01169113,\n",
        "  'valid_accuracy': 0.010788664,\n",
        "  'valid_loss': 0.010788664},\n",
        " {'epoch': 469,\n",
        "  'train_loss': 0.011677762,\n",
        "  'valid_accuracy': 0.010784991,\n",
        "  'valid_loss': 0.010784991},\n",
        " {'epoch': 470,\n",
        "  'train_loss': 0.011583513,\n",
        "  'valid_accuracy': 0.010789348,\n",
        "  'valid_loss': 0.010789348},\n",
        " {'epoch': 471,\n",
        "  'train_loss': 0.01161551,\n",
        "  'valid_accuracy': 0.010759745,\n",
        "  'valid_loss': 0.010759745},\n",
        " {'epoch': 472,\n",
        "  'train_loss': 0.011606436,\n",
        "  'valid_accuracy': 0.01077515,\n",
        "  'valid_loss': 0.01077515},\n",
        " {'epoch': 473,\n",
        "  'train_loss': 0.011621696,\n",
        "  'valid_accuracy': 0.010782375,\n",
        "  'valid_loss': 0.010782375},\n",
        " {'epoch': 474,\n",
        "  'train_loss': 0.011547442,\n",
        "  'valid_accuracy': 0.010731222,\n",
        "  'valid_loss': 0.010731222},\n",
        " {'epoch': 475,\n",
        "  'train_loss': 0.011621206,\n",
        "  'valid_accuracy': 0.010738797,\n",
        "  'valid_loss': 0.010738797},\n",
        " {'epoch': 476,\n",
        "  'train_loss': 0.011565846,\n",
        "  'valid_accuracy': 0.010730457,\n",
        "  'valid_loss': 0.010730457},\n",
        " {'epoch': 477,\n",
        "  'train_loss': 0.01151477,\n",
        "  'valid_accuracy': 0.010716769,\n",
        "  'valid_loss': 0.010716769},\n",
        " {'epoch': 478,\n",
        "  'train_loss': 0.011580988,\n",
        "  'valid_accuracy': 0.010738541,\n",
        "  'valid_loss': 0.010738541},\n",
        " {'epoch': 479,\n",
        "  'train_loss': 0.011522627,\n",
        "  'valid_accuracy': 0.010714682,\n",
        "  'valid_loss': 0.010714682},\n",
        " {'epoch': 480,\n",
        "  'train_loss': 0.011533632,\n",
        "  'valid_accuracy': 0.010685078,\n",
        "  'valid_loss': 0.010685078},\n",
        " {'epoch': 481,\n",
        "  'train_loss': 0.011564871,\n",
        "  'valid_accuracy': 0.010718313,\n",
        "  'valid_loss': 0.010718313},\n",
        " {'epoch': 482,\n",
        "  'train_loss': 0.011531293,\n",
        "  'valid_accuracy': 0.010698371,\n",
        "  'valid_loss': 0.010698371},\n",
        " {'epoch': 483,\n",
        "  'train_loss': 0.011543,\n",
        "  'valid_accuracy': 0.010650381,\n",
        "  'valid_loss': 0.010650381},\n",
        " {'epoch': 484,\n",
        "  'train_loss': 0.011533665,\n",
        "  'valid_accuracy': 0.010667538,\n",
        "  'valid_loss': 0.010667538},\n",
        " {'epoch': 485,\n",
        "  'train_loss': 0.011505979,\n",
        "  'valid_accuracy': 0.01066825,\n",
        "  'valid_loss': 0.01066825},\n",
        " {'epoch': 486,\n",
        "  'train_loss': 0.011476678,\n",
        "  'valid_accuracy': 0.010655406,\n",
        "  'valid_loss': 0.010655406},\n",
        " {'epoch': 487,\n",
        "  'train_loss': 0.011452516,\n",
        "  'valid_accuracy': 0.01064703,\n",
        "  'valid_loss': 0.01064703},\n",
        " {'epoch': 488,\n",
        "  'train_loss': 0.011519478,\n",
        "  'valid_accuracy': 0.010637574,\n",
        "  'valid_loss': 0.010637574},\n",
        " {'epoch': 489,\n",
        "  'train_loss': 0.011389234,\n",
        "  'valid_accuracy': 0.010649865,\n",
        "  'valid_loss': 0.010649865},\n",
        " {'epoch': 490,\n",
        "  'train_loss': 0.011383941,\n",
        "  'valid_accuracy': 0.010606628,\n",
        "  'valid_loss': 0.010606628},\n",
        " {'epoch': 491,\n",
        "  'train_loss': 0.011466411,\n",
        "  'valid_accuracy': 0.010618432,\n",
        "  'valid_loss': 0.010618432},\n",
        " {'epoch': 492,\n",
        "  'train_loss': 0.011425402,\n",
        "  'valid_accuracy': 0.010641714,\n",
        "  'valid_loss': 0.010641714},\n",
        " {'epoch': 493,\n",
        "  'train_loss': 0.011418153,\n",
        "  'valid_accuracy': 0.010592267,\n",
        "  'valid_loss': 0.010592267},\n",
        " {'epoch': 494,\n",
        "  'train_loss': 0.011423203,\n",
        "  'valid_accuracy': 0.010579501,\n",
        "  'valid_loss': 0.010579501},\n",
        " {'epoch': 495,\n",
        "  'train_loss': 0.011406377,\n",
        "  'valid_accuracy': 0.010569793,\n",
        "  'valid_loss': 0.010569793},\n",
        " {'epoch': 496,\n",
        "  'train_loss': 0.011361492,\n",
        "  'valid_accuracy': 0.010604994,\n",
        "  'valid_loss': 0.010604994},\n",
        " {'epoch': 497,\n",
        "  'train_loss': 0.011302627,\n",
        "  'valid_accuracy': 0.010566124,\n",
        "  'valid_loss': 0.010566124},\n",
        " {'epoch': 498,\n",
        "  'train_loss': 0.011321532,\n",
        "  'valid_accuracy': 0.010548159,\n",
        "  'valid_loss': 0.010548159},\n",
        " {'epoch': 499,\n",
        "  'train_loss': 0.011266399,\n",
        "  'valid_accuracy': 0.010542287,\n",
        "  'valid_loss': 0.010542287},\n",
        " {'epoch': 500,\n",
        "  'train_loss': 0.011324992,\n",
        "  'valid_accuracy': 0.01054356,\n",
        "  'valid_loss': 0.01054356},\n",
        " {'epoch': 501,\n",
        "  'train_loss': 0.011270461,\n",
        "  'valid_accuracy': 0.010553454,\n",
        "  'valid_loss': 0.010553454},\n",
        " {'epoch': 502,\n",
        "  'train_loss': 0.011278747,\n",
        "  'valid_accuracy': 0.010536258,\n",
        "  'valid_loss': 0.010536258},\n",
        " {'epoch': 503,\n",
        "  'train_loss': 0.01130393,\n",
        "  'valid_accuracy': 0.010544576,\n",
        "  'valid_loss': 0.010544576},\n",
        " {'epoch': 504,\n",
        "  'train_loss': 0.011297537,\n",
        "  'valid_accuracy': 0.010525174,\n",
        "  'valid_loss': 0.010525174},\n",
        " {'epoch': 505,\n",
        "  'train_loss': 0.011299871,\n",
        "  'valid_accuracy': 0.010522558,\n",
        "  'valid_loss': 0.010522558},\n",
        " {'epoch': 506,\n",
        "  'train_loss': 0.011305241,\n",
        "  'valid_accuracy': 0.010542976,\n",
        "  'valid_loss': 0.010542976},\n",
        " {'epoch': 507,\n",
        "  'train_loss': 0.011247491,\n",
        "  'valid_accuracy': 0.010512991,\n",
        "  'valid_loss': 0.010512991},\n",
        " {'epoch': 508,\n",
        "  'train_loss': 0.011266443,\n",
        "  'valid_accuracy': 0.010493084,\n",
        "  'valid_loss': 0.010493084},\n",
        " {'epoch': 509,\n",
        "  'train_loss': 0.011153235,\n",
        "  'valid_accuracy': 0.010495703,\n",
        "  'valid_loss': 0.010495703},\n",
        " {'epoch': 510,\n",
        "  'train_loss': 0.011206212,\n",
        "  'valid_accuracy': 0.010471882,\n",
        "  'valid_loss': 0.010471882},\n",
        " {'epoch': 511,\n",
        "  'train_loss': 0.011208897,\n",
        "  'valid_accuracy': 0.0104782,\n",
        "  'valid_loss': 0.0104782},\n",
        " {'epoch': 512,\n",
        "  'train_loss': 0.011208658,\n",
        "  'valid_accuracy': 0.010468604,\n",
        "  'valid_loss': 0.010468604},\n",
        " {'epoch': 513,\n",
        "  'train_loss': 0.011205588,\n",
        "  'valid_accuracy': 0.010473604,\n",
        "  'valid_loss': 0.010473604},\n",
        " {'epoch': 514,\n",
        "  'train_loss': 0.011107893,\n",
        "  'valid_accuracy': 0.010465349,\n",
        "  'valid_loss': 0.010465349},\n",
        " {'epoch': 515,\n",
        "  'train_loss': 0.011232011,\n",
        "  'valid_accuracy': 0.010468213,\n",
        "  'valid_loss': 0.010468213},\n",
        " {'epoch': 516,\n",
        "  'train_loss': 0.011135366,\n",
        "  'valid_accuracy': 0.010441948,\n",
        "  'valid_loss': 0.010441948},\n",
        " {'epoch': 517,\n",
        "  'train_loss': 0.01111284,\n",
        "  'valid_accuracy': 0.010408982,\n",
        "  'valid_loss': 0.010408982},\n",
        " {'epoch': 518,\n",
        "  'train_loss': 0.011088326,\n",
        "  'valid_accuracy': 0.01043237,\n",
        "  'valid_loss': 0.01043237},\n",
        " {'epoch': 519,\n",
        "  'train_loss': 0.01110371,\n",
        "  'valid_accuracy': 0.010431029,\n",
        "  'valid_loss': 0.010431029},\n",
        " {'epoch': 520,\n",
        "  'train_loss': 0.011128746,\n",
        "  'valid_accuracy': 0.010432038,\n",
        "  'valid_loss': 0.010432038},\n",
        " {'epoch': 521,\n",
        "  'train_loss': 0.011146183,\n",
        "  'valid_accuracy': 0.010412855,\n",
        "  'valid_loss': 0.010412855},\n",
        " {'epoch': 522,\n",
        "  'train_loss': 0.011236083,\n",
        "  'valid_accuracy': 0.010430481,\n",
        "  'valid_loss': 0.010430481},\n",
        " {'epoch': 523,\n",
        "  'train_loss': 0.01117612,\n",
        "  'valid_accuracy': 0.010399122,\n",
        "  'valid_loss': 0.010399122},\n",
        " {'epoch': 524,\n",
        "  'train_loss': 0.011080625,\n",
        "  'valid_accuracy': 0.0104087,\n",
        "  'valid_loss': 0.0104087},\n",
        " {'epoch': 525,\n",
        "  'train_loss': 0.011018145,\n",
        "  'valid_accuracy': 0.010372783,\n",
        "  'valid_loss': 0.010372783},\n",
        " {'epoch': 526,\n",
        "  'train_loss': 0.011034057,\n",
        "  'valid_accuracy': 0.010368956,\n",
        "  'valid_loss': 0.010368956},\n",
        " {'epoch': 527,\n",
        "  'train_loss': 0.01106177,\n",
        "  'valid_accuracy': 0.0103589,\n",
        "  'valid_loss': 0.0103589},\n",
        " {'epoch': 528,\n",
        "  'train_loss': 0.011029239,\n",
        "  'valid_accuracy': 0.010382283,\n",
        "  'valid_loss': 0.010382283},\n",
        " {'epoch': 529,\n",
        "  'train_loss': 0.011079325,\n",
        "  'valid_accuracy': 0.010328258,\n",
        "  'valid_loss': 0.010328258},\n",
        " {'epoch': 530,\n",
        "  'train_loss': 0.011019464,\n",
        "  'valid_accuracy': 0.010358821,\n",
        "  'valid_loss': 0.010358821},\n",
        " {'epoch': 531,\n",
        "  'train_loss': 0.010976112,\n",
        "  'valid_accuracy': 0.010356794,\n",
        "  'valid_loss': 0.010356794},\n",
        " {'epoch': 532,\n",
        "  'train_loss': 0.010905695,\n",
        "  'valid_accuracy': 0.010337486,\n",
        "  'valid_loss': 0.010337486},\n",
        " {'epoch': 533,\n",
        "  'train_loss': 0.010949859,\n",
        "  'valid_accuracy': 0.010331821,\n",
        "  'valid_loss': 0.010331821},\n",
        " {'epoch': 534,\n",
        "  'train_loss': 0.010901995,\n",
        "  'valid_accuracy': 0.010323797,\n",
        "  'valid_loss': 0.010323797},\n",
        " {'epoch': 535,\n",
        "  'train_loss': 0.010922099,\n",
        "  'valid_accuracy': 0.010321772,\n",
        "  'valid_loss': 0.010321772},\n",
        " {'epoch': 536,\n",
        "  'train_loss': 0.011014069,\n",
        "  'valid_accuracy': 0.010330675,\n",
        "  'valid_loss': 0.010330675},\n",
        " {'epoch': 537,\n",
        "  'train_loss': 0.010917313,\n",
        "  'valid_accuracy': 0.010294171,\n",
        "  'valid_loss': 0.010294171},\n",
        " {'epoch': 538,\n",
        "  'train_loss': 0.010893527,\n",
        "  'valid_accuracy': 0.010322254,\n",
        "  'valid_loss': 0.010322254},\n",
        " {'epoch': 539,\n",
        "  'train_loss': 0.010911023,\n",
        "  'valid_accuracy': 0.010281463,\n",
        "  'valid_loss': 0.010281463},\n",
        " {'epoch': 540,\n",
        "  'train_loss': 0.011025427,\n",
        "  'valid_accuracy': 0.010292128,\n",
        "  'valid_loss': 0.010292128},\n",
        " {'epoch': 541,\n",
        "  'train_loss': 0.010875237,\n",
        "  'valid_accuracy': 0.010320916,\n",
        "  'valid_loss': 0.010320916},\n",
        " {'epoch': 542,\n",
        "  'train_loss': 0.010869516,\n",
        "  'valid_accuracy': 0.010266405,\n",
        "  'valid_loss': 0.010266405},\n",
        " {'epoch': 543,\n",
        "  'train_loss': 0.010822195,\n",
        "  'valid_accuracy': 0.010276286,\n",
        "  'valid_loss': 0.010276286},\n",
        " {'epoch': 544,\n",
        "  'train_loss': 0.010868175,\n",
        "  'valid_accuracy': 0.010288241,\n",
        "  'valid_loss': 0.010288241},\n",
        " {'epoch': 545,\n",
        "  'train_loss': 0.010831397,\n",
        "  'valid_accuracy': 0.010272044,\n",
        "  'valid_loss': 0.010272044},\n",
        " {'epoch': 546,\n",
        "  'train_loss': 0.010895966,\n",
        "  'valid_accuracy': 0.010257686,\n",
        "  'valid_loss': 0.010257686},\n",
        " {'epoch': 547,\n",
        "  'train_loss': 0.010854453,\n",
        "  'valid_accuracy': 0.01024284,\n",
        "  'valid_loss': 0.01024284},\n",
        " {'epoch': 548,\n",
        "  'train_loss': 0.010797574,\n",
        "  'valid_accuracy': 0.010239275,\n",
        "  'valid_loss': 0.010239275},\n",
        " {'epoch': 549,\n",
        "  'train_loss': 0.010872209,\n",
        "  'valid_accuracy': 0.010242827,\n",
        "  'valid_loss': 0.010242827},\n",
        " {'epoch': 550,\n",
        "  'train_loss': 0.010837668,\n",
        "  'valid_accuracy': 0.010214327,\n",
        "  'valid_loss': 0.010214327},\n",
        " {'epoch': 551,\n",
        "  'train_loss': 0.010807948,\n",
        "  'valid_accuracy': 0.010209478,\n",
        "  'valid_loss': 0.010209478},\n",
        " {'epoch': 552,\n",
        "  'train_loss': 0.010806165,\n",
        "  'valid_accuracy': 0.010203999,\n",
        "  'valid_loss': 0.010203999},\n",
        " {'epoch': 553,\n",
        "  'train_loss': 0.010839226,\n",
        "  'valid_accuracy': 0.010204462,\n",
        "  'valid_loss': 0.010204462},\n",
        " {'epoch': 554,\n",
        "  'train_loss': 0.010824933,\n",
        "  'valid_accuracy': 0.010197399,\n",
        "  'valid_loss': 0.010197399},\n",
        " {'epoch': 555,\n",
        "  'train_loss': 0.010696284,\n",
        "  'valid_accuracy': 0.010194202,\n",
        "  'valid_loss': 0.010194202},\n",
        " {'epoch': 556,\n",
        "  'train_loss': 0.01076399,\n",
        "  'valid_accuracy': 0.010200085,\n",
        "  'valid_loss': 0.010200085},\n",
        " {'epoch': 557,\n",
        "  'train_loss': 0.010732172,\n",
        "  'valid_accuracy': 0.010178866,\n",
        "  'valid_loss': 0.010178866},\n",
        " {'epoch': 558,\n",
        "  'train_loss': 0.010744615,\n",
        "  'valid_accuracy': 0.010161809,\n",
        "  'valid_loss': 0.010161809},\n",
        " {'epoch': 559,\n",
        "  'train_loss': 0.010814897,\n",
        "  'valid_accuracy': 0.010201658,\n",
        "  'valid_loss': 0.010201658},\n",
        " {'epoch': 560,\n",
        "  'train_loss': 0.010683745,\n",
        "  'valid_accuracy': 0.010170553,\n",
        "  'valid_loss': 0.010170553},\n",
        " {'epoch': 561,\n",
        "  'train_loss': 0.010745223,\n",
        "  'valid_accuracy': 0.010169664,\n",
        "  'valid_loss': 0.010169664},\n",
        " {'epoch': 562,\n",
        "  'train_loss': 0.010626035,\n",
        "  'valid_accuracy': 0.01014896,\n",
        "  'valid_loss': 0.01014896},\n",
        " {'epoch': 563,\n",
        "  'train_loss': 0.010649196,\n",
        "  'valid_accuracy': 0.010136291,\n",
        "  'valid_loss': 0.010136291},\n",
        " {'epoch': 564,\n",
        "  'train_loss': 0.010673577,\n",
        "  'valid_accuracy': 0.010130834,\n",
        "  'valid_loss': 0.010130834},\n",
        " {'epoch': 565,\n",
        "  'train_loss': 0.010695514,\n",
        "  'valid_accuracy': 0.010141243,\n",
        "  'valid_loss': 0.010141243},\n",
        " {'epoch': 566,\n",
        "  'train_loss': 0.010677374,\n",
        "  'valid_accuracy': 0.010117025,\n",
        "  'valid_loss': 0.010117025},\n",
        " {'epoch': 567,\n",
        "  'train_loss': 0.01069609,\n",
        "  'valid_accuracy': 0.010109062,\n",
        "  'valid_loss': 0.010109062},\n",
        " {'epoch': 568,\n",
        "  'train_loss': 0.010610236,\n",
        "  'valid_accuracy': 0.010112994,\n",
        "  'valid_loss': 0.010112994},\n",
        " {'epoch': 569,\n",
        "  'train_loss': 0.010610127,\n",
        "  'valid_accuracy': 0.010120449,\n",
        "  'valid_loss': 0.010120449},\n",
        " {'epoch': 570,\n",
        "  'train_loss': 0.010605771,\n",
        "  'valid_accuracy': 0.010105869,\n",
        "  'valid_loss': 0.010105869},\n",
        " {'epoch': 571,\n",
        "  'train_loss': 0.010508172,\n",
        "  'valid_accuracy': 0.010099229,\n",
        "  'valid_loss': 0.010099229},\n",
        " {'epoch': 572,\n",
        "  'train_loss': 0.010518957,\n",
        "  'valid_accuracy': 0.0101113,\n",
        "  'valid_loss': 0.0101113},\n",
        " {'epoch': 573,\n",
        "  'train_loss': 0.010585868,\n",
        "  'valid_accuracy': 0.010095501,\n",
        "  'valid_loss': 0.010095501},\n",
        " {'epoch': 574,\n",
        "  'train_loss': 0.010621898,\n",
        "  'valid_accuracy': 0.010082981,\n",
        "  'valid_loss': 0.010082981},\n",
        " {'epoch': 575,\n",
        "  'train_loss': 0.010611812,\n",
        "  'valid_accuracy': 0.010069732,\n",
        "  'valid_loss': 0.010069732},\n",
        " {'epoch': 576,\n",
        "  'train_loss': 0.010577573,\n",
        "  'valid_accuracy': 0.010076631,\n",
        "  'valid_loss': 0.010076631},\n",
        " {'epoch': 577,\n",
        "  'train_loss': 0.010595156,\n",
        "  'valid_accuracy': 0.010052649,\n",
        "  'valid_loss': 0.010052649},\n",
        " {'epoch': 578,\n",
        "  'train_loss': 0.010525516,\n",
        "  'valid_accuracy': 0.010056745,\n",
        "  'valid_loss': 0.010056745},\n",
        " {'epoch': 579,\n",
        "  'train_loss': 0.010590496,\n",
        "  'valid_accuracy': 0.010081972,\n",
        "  'valid_loss': 0.010081972},\n",
        " {'epoch': 580,\n",
        "  'train_loss': 0.010488496,\n",
        "  'valid_accuracy': 0.010049807,\n",
        "  'valid_loss': 0.010049807},\n",
        " {'epoch': 581,\n",
        "  'train_loss': 0.010456352,\n",
        "  'valid_accuracy': 0.010012564,\n",
        "  'valid_loss': 0.010012564},\n",
        " {'epoch': 582,\n",
        "  'train_loss': 0.010553933,\n",
        "  'valid_accuracy': 0.010028069,\n",
        "  'valid_loss': 0.010028069},\n",
        " {'epoch': 583,\n",
        "  'train_loss': 0.010575919,\n",
        "  'valid_accuracy': 0.010042087,\n",
        "  'valid_loss': 0.010042087},\n",
        " {'epoch': 584,\n",
        "  'train_loss': 0.010546985,\n",
        "  'valid_accuracy': 0.010046482,\n",
        "  'valid_loss': 0.010046482},\n",
        " {'epoch': 585,\n",
        "  'train_loss': 0.010425581,\n",
        "  'valid_accuracy': 0.010026845,\n",
        "  'valid_loss': 0.010026845},\n",
        " {'epoch': 586,\n",
        "  'train_loss': 0.010488458,\n",
        "  'valid_accuracy': 0.010021933,\n",
        "  'valid_loss': 0.010021933},\n",
        " {'epoch': 587,\n",
        "  'train_loss': 0.010516627,\n",
        "  'valid_accuracy': 0.010005394,\n",
        "  'valid_loss': 0.010005394},\n",
        " {'epoch': 588,\n",
        "  'train_loss': 0.010350597,\n",
        "  'valid_accuracy': 0.0099889552,\n",
        "  'valid_loss': 0.0099889552},\n",
        " {'epoch': 589,\n",
        "  'train_loss': 0.010458135,\n",
        "  'valid_accuracy': 0.010016354,\n",
        "  'valid_loss': 0.010016354},\n",
        " {'epoch': 590,\n",
        "  'train_loss': 0.010400686,\n",
        "  'valid_accuracy': 0.0099842148,\n",
        "  'valid_loss': 0.0099842148},\n",
        " {'epoch': 591,\n",
        "  'train_loss': 0.010393714,\n",
        "  'valid_accuracy': 0.010003812,\n",
        "  'valid_loss': 0.010003812},\n",
        " {'epoch': 592,\n",
        "  'train_loss': 0.010426918,\n",
        "  'valid_accuracy': 0.0099526569,\n",
        "  'valid_loss': 0.0099526569},\n",
        " {'epoch': 593,\n",
        "  'train_loss': 0.010409167,\n",
        "  'valid_accuracy': 0.0099484604,\n",
        "  'valid_loss': 0.0099484604},\n",
        " {'epoch': 594,\n",
        "  'train_loss': 0.010429918,\n",
        "  'valid_accuracy': 0.009957321,\n",
        "  'valid_loss': 0.009957321},\n",
        " {'epoch': 595,\n",
        "  'train_loss': 0.010398391,\n",
        "  'valid_accuracy': 0.0099711195,\n",
        "  'valid_loss': 0.0099711195},\n",
        " {'epoch': 596,\n",
        "  'train_loss': 0.010327123,\n",
        "  'valid_accuracy': 0.0099455677,\n",
        "  'valid_loss': 0.0099455677},\n",
        " {'epoch': 597,\n",
        "  'train_loss': 0.010380918,\n",
        "  'valid_accuracy': 0.0099472255,\n",
        "  'valid_loss': 0.0099472255},\n",
        " {'epoch': 598,\n",
        "  'train_loss': 0.010332265,\n",
        "  'valid_accuracy': 0.0099559054,\n",
        "  'valid_loss': 0.0099559054},\n",
        " {'epoch': 599,\n",
        "  'train_loss': 0.010324976,\n",
        "  'valid_accuracy': 0.0099492213,\n",
        "  'valid_loss': 0.0099492213},\n",
        " {'epoch': 600,\n",
        "  'train_loss': 0.010366928,\n",
        "  'valid_accuracy': 0.0099310465,\n",
        "  'valid_loss': 0.0099310465},\n",
        " {'epoch': 601,\n",
        "  'train_loss': 0.010325965,\n",
        "  'valid_accuracy': 0.0099075455,\n",
        "  'valid_loss': 0.0099075455},\n",
        " {'epoch': 602,\n",
        "  'train_loss': 0.010315499,\n",
        "  'valid_accuracy': 0.0099061318,\n",
        "  'valid_loss': 0.0099061318},\n",
        " {'epoch': 603,\n",
        "  'train_loss': 0.010331111,\n",
        "  'valid_accuracy': 0.009901613,\n",
        "  'valid_loss': 0.009901613},\n",
        " {'epoch': 604,\n",
        "  'train_loss': 0.010365865,\n",
        "  'valid_accuracy': 0.0099081798,\n",
        "  'valid_loss': 0.0099081798},\n",
        " {'epoch': 605,\n",
        "  'train_loss': 0.010325644,\n",
        "  'valid_accuracy': 0.0099117216,\n",
        "  'valid_loss': 0.0099117216},\n",
        " {'epoch': 606,\n",
        "  'train_loss': 0.010293367,\n",
        "  'valid_accuracy': 0.0099038454,\n",
        "  'valid_loss': 0.0099038454},\n",
        " {'epoch': 607,\n",
        "  'train_loss': 0.010268321,\n",
        "  'valid_accuracy': 0.0099087581,\n",
        "  'valid_loss': 0.0099087581},\n",
        " {'epoch': 608,\n",
        "  'train_loss': 0.010281697,\n",
        "  'valid_accuracy': 0.0098932991,\n",
        "  'valid_loss': 0.0098932991},\n",
        " {'epoch': 609,\n",
        "  'train_loss': 0.010234185,\n",
        "  'valid_accuracy': 0.009890303,\n",
        "  'valid_loss': 0.009890303},\n",
        " {'epoch': 610,\n",
        "  'train_loss': 0.010273856,\n",
        "  'valid_accuracy': 0.0098847132,\n",
        "  'valid_loss': 0.0098847132},\n",
        " {'epoch': 611,\n",
        "  'train_loss': 0.010105741,\n",
        "  'valid_accuracy': 0.0098610548,\n",
        "  'valid_loss': 0.0098610548},\n",
        " {'epoch': 612,\n",
        "  'train_loss': 0.010228291,\n",
        "  'valid_accuracy': 0.0098720156,\n",
        "  'valid_loss': 0.0098720156},\n",
        " {'epoch': 613,\n",
        "  'train_loss': 0.010159553,\n",
        "  'valid_accuracy': 0.0098527418,\n",
        "  'valid_loss': 0.0098527418},\n",
        " {'epoch': 614,\n",
        "  'train_loss': 0.010100381,\n",
        "  'valid_accuracy': 0.0098808846,\n",
        "  'valid_loss': 0.0098808846},\n",
        " {'epoch': 615,\n",
        "  'train_loss': 0.010210313,\n",
        "  'valid_accuracy': 0.00986584,\n",
        "  'valid_loss': 0.00986584},\n",
        " {'epoch': 616,\n",
        "  'train_loss': 0.010120348,\n",
        "  'valid_accuracy': 0.0098402333,\n",
        "  'valid_loss': 0.0098402333},\n",
        " {'epoch': 617,\n",
        "  'train_loss': 0.010184935,\n",
        "  'valid_accuracy': 0.0098335613,\n",
        "  'valid_loss': 0.0098335613},\n",
        " {'epoch': 618,\n",
        "  'train_loss': 0.010209177,\n",
        "  'valid_accuracy': 0.0098373275,\n",
        "  'valid_loss': 0.0098373275},\n",
        " {'epoch': 619,\n",
        "  'train_loss': 0.010183771,\n",
        "  'valid_accuracy': 0.0098290686,\n",
        "  'valid_loss': 0.0098290686},\n",
        " {'epoch': 620,\n",
        "  'train_loss': 0.010152809,\n",
        "  'valid_accuracy': 0.0098074256,\n",
        "  'valid_loss': 0.0098074256},\n",
        " {'epoch': 621,\n",
        "  'train_loss': 0.010116412,\n",
        "  'valid_accuracy': 0.0098079424,\n",
        "  'valid_loss': 0.0098079424},\n",
        " {'epoch': 622,\n",
        "  'train_loss': 0.010167044,\n",
        "  'valid_accuracy': 0.009813752,\n",
        "  'valid_loss': 0.009813752},\n",
        " {'epoch': 623,\n",
        "  'train_loss': 0.010145076,\n",
        "  'valid_accuracy': 0.0097881863,\n",
        "  'valid_loss': 0.0097881863},\n",
        " {'epoch': 624,\n",
        "  'train_loss': 0.010101912,\n",
        "  'valid_accuracy': 0.0097976532,\n",
        "  'valid_loss': 0.0097976532},\n",
        " {'epoch': 625,\n",
        "  'train_loss': 0.010098065,\n",
        "  'valid_accuracy': 0.0097879451,\n",
        "  'valid_loss': 0.0097879451},\n",
        " {'epoch': 626,\n",
        "  'train_loss': 0.010075119,\n",
        "  'valid_accuracy': 0.0097770644,\n",
        "  'valid_loss': 0.0097770644},\n",
        " {'epoch': 627,\n",
        "  'train_loss': 0.010063751,\n",
        "  'valid_accuracy': 0.0097822556,\n",
        "  'valid_loss': 0.0097822556},\n",
        " {'epoch': 628,\n",
        "  'train_loss': 0.01005045,\n",
        "  'valid_accuracy': 0.0097794216,\n",
        "  'valid_loss': 0.0097794216},\n",
        " {'epoch': 629,\n",
        "  'train_loss': 0.010106771,\n",
        "  'valid_accuracy': 0.0097628487,\n",
        "  'valid_loss': 0.0097628487},\n",
        " {'epoch': 630,\n",
        "  'train_loss': 0.010042129,\n",
        "  'valid_accuracy': 0.0097668786,\n",
        "  'valid_loss': 0.0097668786},\n",
        " {'epoch': 631,\n",
        "  'train_loss': 0.010051551,\n",
        "  'valid_accuracy': 0.0097858245,\n",
        "  'valid_loss': 0.0097858245},\n",
        " {'epoch': 632,\n",
        "  'train_loss': 0.010035179,\n",
        "  'valid_accuracy': 0.0097641526,\n",
        "  'valid_loss': 0.0097641526},\n",
        " {'epoch': 633,\n",
        "  'train_loss': 0.0099985143,\n",
        "  'valid_accuracy': 0.0097403331,\n",
        "  'valid_loss': 0.0097403331},\n",
        " {'epoch': 634,\n",
        "  'train_loss': 0.010068563,\n",
        "  'valid_accuracy': 0.009750789,\n",
        "  'valid_loss': 0.009750789},\n",
        " {'epoch': 635,\n",
        "  'train_loss': 0.0099021085,\n",
        "  'valid_accuracy': 0.0097341584,\n",
        "  'valid_loss': 0.0097341584},\n",
        " {'epoch': 636,\n",
        "  'train_loss': 0.0099756783,\n",
        "  'valid_accuracy': 0.0097136823,\n",
        "  'valid_loss': 0.0097136823},\n",
        " {'epoch': 637,\n",
        "  'train_loss': 0.0099217696,\n",
        "  'valid_accuracy': 0.0097194742,\n",
        "  'valid_loss': 0.0097194742},\n",
        " {'epoch': 638,\n",
        "  'train_loss': 0.0099816322,\n",
        "  'valid_accuracy': 0.0097132074,\n",
        "  'valid_loss': 0.0097132074},\n",
        " {'epoch': 639,\n",
        "  'train_loss': 0.0099355541,\n",
        "  'valid_accuracy': 0.0097065158,\n",
        "  'valid_loss': 0.0097065158},\n",
        " {'epoch': 640,\n",
        "  'train_loss': 0.009981662,\n",
        "  'valid_accuracy': 0.0097048003,\n",
        "  'valid_loss': 0.0097048003},\n",
        " {'epoch': 641,\n",
        "  'train_loss': 0.0099508651,\n",
        "  'valid_accuracy': 0.0097161196,\n",
        "  'valid_loss': 0.0097161196},\n",
        " {'epoch': 642,\n",
        "  'train_loss': 0.010000774,\n",
        "  'valid_accuracy': 0.0097031249,\n",
        "  'valid_loss': 0.0097031249},\n",
        " {'epoch': 643,\n",
        "  'train_loss': 0.0099357469,\n",
        "  'valid_accuracy': 0.009712656,\n",
        "  'valid_loss': 0.009712656},\n",
        " {'epoch': 644,\n",
        "  'train_loss': 0.0098695569,\n",
        "  'valid_accuracy': 0.0096809827,\n",
        "  'valid_loss': 0.0096809827},\n",
        " {'epoch': 645,\n",
        "  'train_loss': 0.0099215712,\n",
        "  'valid_accuracy': 0.0096811056,\n",
        "  'valid_loss': 0.0096811056},\n",
        " {'epoch': 646,\n",
        "  'train_loss': 0.0099721281,\n",
        "  'valid_accuracy': 0.0096847489,\n",
        "  'valid_loss': 0.0096847489},\n",
        " {'epoch': 647,\n",
        "  'train_loss': 0.0098725148,\n",
        "  'valid_accuracy': 0.0096616577,\n",
        "  'valid_loss': 0.0096616577},\n",
        " {'epoch': 648,\n",
        "  'train_loss': 0.0098469229,\n",
        "  'valid_accuracy': 0.0096738581,\n",
        "  'valid_loss': 0.0096738581},\n",
        " {'epoch': 649,\n",
        "  'train_loss': 0.0098270234,\n",
        "  'valid_accuracy': 0.0096533764,\n",
        "  'valid_loss': 0.0096533764},\n",
        " {'epoch': 650,\n",
        "  'train_loss': 0.009889028,\n",
        "  'valid_accuracy': 0.0096725402,\n",
        "  'valid_loss': 0.0096725402},\n",
        " {'epoch': 651,\n",
        "  'train_loss': 0.009774074,\n",
        "  'valid_accuracy': 0.009661423,\n",
        "  'valid_loss': 0.009661423},\n",
        " {'epoch': 652,\n",
        "  'train_loss': 0.0098944157,\n",
        "  'valid_accuracy': 0.0096279476,\n",
        "  'valid_loss': 0.0096279476},\n",
        " {'epoch': 653,\n",
        "  'train_loss': 0.0098273959,\n",
        "  'valid_accuracy': 0.009630708,\n",
        "  'valid_loss': 0.009630708},\n",
        " {'epoch': 654,\n",
        "  'train_loss': 0.009780609,\n",
        "  'valid_accuracy': 0.0096695051,\n",
        "  'valid_loss': 0.0096695051},\n",
        " {'epoch': 655,\n",
        "  'train_loss': 0.0098442705,\n",
        "  'valid_accuracy': 0.0096299369,\n",
        "  'valid_loss': 0.0096299369},\n",
        " {'epoch': 656,\n",
        "  'train_loss': 0.0098883146,\n",
        "  'valid_accuracy': 0.0096309399,\n",
        "  'valid_loss': 0.0096309399},\n",
        " {'epoch': 657,\n",
        "  'train_loss': 0.0097589288,\n",
        "  'valid_accuracy': 0.0096062589,\n",
        "  'valid_loss': 0.0096062589},\n",
        " {'epoch': 658,\n",
        "  'train_loss': 0.0098087657,\n",
        "  'valid_accuracy': 0.0096056489,\n",
        "  'valid_loss': 0.0096056489},\n",
        " {'epoch': 659,\n",
        "  'train_loss': 0.0096992804,\n",
        "  'valid_accuracy': 0.0096002538,\n",
        "  'valid_loss': 0.0096002538},\n",
        " {'epoch': 660,\n",
        "  'train_loss': 0.0098091271,\n",
        "  'valid_accuracy': 0.0096099302,\n",
        "  'valid_loss': 0.0096099302},\n",
        " {'epoch': 661,\n",
        "  'train_loss': 0.0097492877,\n",
        "  'valid_accuracy': 0.0096076475,\n",
        "  'valid_loss': 0.0096076475},\n",
        " {'epoch': 662,\n",
        "  'train_loss': 0.0098429248,\n",
        "  'valid_accuracy': 0.009577007,\n",
        "  'valid_loss': 0.009577007},\n",
        " {'epoch': 663,\n",
        "  'train_loss': 0.0097738327,\n",
        "  'valid_accuracy': 0.0095790848,\n",
        "  'valid_loss': 0.0095790848},\n",
        " {'epoch': 664,\n",
        "  'train_loss': 0.0098249773,\n",
        "  'valid_accuracy': 0.009585347,\n",
        "  'valid_loss': 0.009585347},\n",
        " {'epoch': 665,\n",
        "  'train_loss': 0.0097173685,\n",
        "  'valid_accuracy': 0.0095705818,\n",
        "  'valid_loss': 0.0095705818},\n",
        " {'epoch': 666,\n",
        "  'train_loss': 0.0097612813,\n",
        "  'valid_accuracy': 0.0095852865,\n",
        "  'valid_loss': 0.0095852865},\n",
        " {'epoch': 667,\n",
        "  'train_loss': 0.0096876165,\n",
        "  'valid_accuracy': 0.0095628183,\n",
        "  'valid_loss': 0.0095628183},\n",
        " {'epoch': 668,\n",
        "  'train_loss': 0.0096885748,\n",
        "  'valid_accuracy': 0.0095880916,\n",
        "  'valid_loss': 0.0095880916},\n",
        " {'epoch': 669,\n",
        "  'train_loss': 0.0096824942,\n",
        "  'valid_accuracy': 0.0095500778,\n",
        "  'valid_loss': 0.0095500778},\n",
        " {'epoch': 670,\n",
        "  'train_loss': 0.0096671898,\n",
        "  'valid_accuracy': 0.0095498189,\n",
        "  'valid_loss': 0.0095498189},\n",
        " {'epoch': 671,\n",
        "  'train_loss': 0.0096694212,\n",
        "  'valid_accuracy': 0.0095253866,\n",
        "  'valid_loss': 0.0095253866},\n",
        " {'epoch': 672,\n",
        "  'train_loss': 0.0096751293,\n",
        "  'valid_accuracy': 0.0095472783,\n",
        "  'valid_loss': 0.0095472783},\n",
        " {'epoch': 673,\n",
        "  'train_loss': 0.00966838,\n",
        "  'valid_accuracy': 0.0095379557,\n",
        "  'valid_loss': 0.0095379557},\n",
        " {'epoch': 674,\n",
        "  'train_loss': 0.0095821582,\n",
        "  'valid_accuracy': 0.0095719723,\n",
        "  'valid_loss': 0.0095719723},\n",
        " {'epoch': 675,\n",
        "  'train_loss': 0.0096563138,\n",
        "  'valid_accuracy': 0.0095227258,\n",
        "  'valid_loss': 0.0095227258},\n",
        " {'epoch': 676,\n",
        "  'train_loss': 0.0096340599,\n",
        "  'valid_accuracy': 0.009536502,\n",
        "  'valid_loss': 0.009536502},\n",
        " {'epoch': 677,\n",
        "  'train_loss': 0.0096897082,\n",
        "  'valid_accuracy': 0.0095123686,\n",
        "  'valid_loss': 0.0095123686},\n",
        " {'epoch': 678,\n",
        "  'train_loss': 0.0095783817,\n",
        "  'valid_accuracy': 0.0095319133,\n",
        "  'valid_loss': 0.0095319133},\n",
        " {'epoch': 679,\n",
        "  'train_loss': 0.0096740397,\n",
        "  'valid_accuracy': 0.0094953729,\n",
        "  'valid_loss': 0.0094953729},\n",
        " {'epoch': 680,\n",
        "  'train_loss': 0.009592535,\n",
        "  'valid_accuracy': 0.0094766188,\n",
        "  'valid_loss': 0.0094766188},\n",
        " {'epoch': 681,\n",
        "  'train_loss': 0.0095711742,\n",
        "  'valid_accuracy': 0.0094664413,\n",
        "  'valid_loss': 0.0094664413},\n",
        " {'epoch': 682,\n",
        "  'train_loss': 0.0095609501,\n",
        "  'valid_accuracy': 0.0094698584,\n",
        "  'valid_loss': 0.0094698584},\n",
        " {'epoch': 683,\n",
        "  'train_loss': 0.0095923245,\n",
        "  'valid_accuracy': 0.009483452,\n",
        "  'valid_loss': 0.009483452},\n",
        " {'epoch': 684,\n",
        "  'train_loss': 0.0095508052,\n",
        "  'valid_accuracy': 0.0094797388,\n",
        "  'valid_loss': 0.0094797388},\n",
        " {'epoch': 685,\n",
        "  'train_loss': 0.0095842751,\n",
        "  'valid_accuracy': 0.0094789285,\n",
        "  'valid_loss': 0.0094789285},\n",
        " {'epoch': 686,\n",
        "  'train_loss': 0.0095603736,\n",
        "  'valid_accuracy': 0.009459788,\n",
        "  'valid_loss': 0.009459788},\n",
        " {'epoch': 687,\n",
        "  'train_loss': 0.0095008332,\n",
        "  'valid_accuracy': 0.0094469022,\n",
        "  'valid_loss': 0.0094469022},\n",
        " {'epoch': 688,\n",
        "  'train_loss': 0.0095943585,\n",
        "  'valid_accuracy': 0.0094672963,\n",
        "  'valid_loss': 0.0094672963},\n",
        " {'epoch': 689,\n",
        "  'train_loss': 0.0094786417,\n",
        "  'valid_accuracy': 0.0094589591,\n",
        "  'valid_loss': 0.0094589591},\n",
        " {'epoch': 690,\n",
        "  'train_loss': 0.0095751006,\n",
        "  'valid_accuracy': 0.0094420211,\n",
        "  'valid_loss': 0.0094420211},\n",
        " {'epoch': 691,\n",
        "  'train_loss': 0.009527877,\n",
        "  'valid_accuracy': 0.0094265761,\n",
        "  'valid_loss': 0.0094265761},\n",
        " {'epoch': 692,\n",
        "  'train_loss': 0.0095137097,\n",
        "  'valid_accuracy': 0.0094286688,\n",
        "  'valid_loss': 0.0094286688},\n",
        " {'epoch': 693,\n",
        "  'train_loss': 0.009530643,\n",
        "  'valid_accuracy': 0.0094354674,\n",
        "  'valid_loss': 0.0094354674},\n",
        " {'epoch': 694,\n",
        "  'train_loss': 0.0094983717,\n",
        "  'valid_accuracy': 0.0094329491,\n",
        "  'valid_loss': 0.0094329491},\n",
        " {'epoch': 695,\n",
        "  'train_loss': 0.009543797,\n",
        "  'valid_accuracy': 0.0094266338,\n",
        "  'valid_loss': 0.0094266338},\n",
        " {'epoch': 696,\n",
        "  'train_loss': 0.0094546378,\n",
        "  'valid_accuracy': 0.0094168736,\n",
        "  'valid_loss': 0.0094168736},\n",
        " {'epoch': 697,\n",
        "  'train_loss': 0.0094768014,\n",
        "  'valid_accuracy': 0.0094311908,\n",
        "  'valid_loss': 0.0094311908},\n",
        " {'epoch': 698,\n",
        "  'train_loss': 0.009374829,\n",
        "  'valid_accuracy': 0.0094121853,\n",
        "  'valid_loss': 0.0094121853},\n",
        " {'epoch': 699,\n",
        "  'train_loss': 0.0094525693,\n",
        "  'valid_accuracy': 0.0094063794,\n",
        "  'valid_loss': 0.0094063794},\n",
        " {'epoch': 700,\n",
        "  'train_loss': 0.0093818065,\n",
        "  'valid_accuracy': 0.0094217164,\n",
        "  'valid_loss': 0.0094217164},\n",
        " {'epoch': 701,\n",
        "  'train_loss': 0.0093973968,\n",
        "  'valid_accuracy': 0.0093967067,\n",
        "  'valid_loss': 0.0093967067},\n",
        " {'epoch': 702,\n",
        "  'train_loss': 0.0094021484,\n",
        "  'valid_accuracy': 0.0094022499,\n",
        "  'valid_loss': 0.0094022499},\n",
        " {'epoch': 703,\n",
        "  'train_loss': 0.009374639,\n",
        "  'valid_accuracy': 0.0093800612,\n",
        "  'valid_loss': 0.0093800612},\n",
        " {'epoch': 704,\n",
        "  'train_loss': 0.0094706211,\n",
        "  'valid_accuracy': 0.0093891248,\n",
        "  'valid_loss': 0.0093891248},\n",
        " {'epoch': 705,\n",
        "  'train_loss': 0.0093722232,\n",
        "  'valid_accuracy': 0.0093805166,\n",
        "  'valid_loss': 0.0093805166},\n",
        " {'epoch': 706,\n",
        "  'train_loss': 0.009391427,\n",
        "  'valid_accuracy': 0.0093569532,\n",
        "  'valid_loss': 0.0093569532},\n",
        " {'epoch': 707,\n",
        "  'train_loss': 0.0093537681,\n",
        "  'valid_accuracy': 0.0093680872,\n",
        "  'valid_loss': 0.0093680872},\n",
        " {'epoch': 708,\n",
        "  'train_loss': 0.009351192,\n",
        "  'valid_accuracy': 0.0093694944,\n",
        "  'valid_loss': 0.0093694944},\n",
        " {'epoch': 709,\n",
        "  'train_loss': 0.0093806889,\n",
        "  'valid_accuracy': 0.0093686124,\n",
        "  'valid_loss': 0.0093686124},\n",
        " {'epoch': 710,\n",
        "  'train_loss': 0.0093363421,\n",
        "  'valid_accuracy': 0.0093540903,\n",
        "  'valid_loss': 0.0093540903},\n",
        " {'epoch': 711,\n",
        "  'train_loss': 0.0093740299,\n",
        "  'valid_accuracy': 0.0093539823,\n",
        "  'valid_loss': 0.0093539823},\n",
        " {'epoch': 712,\n",
        "  'train_loss': 0.0093213459,\n",
        "  'valid_accuracy': 0.0093545988,\n",
        "  'valid_loss': 0.0093545988},\n",
        " {'epoch': 713,\n",
        "  'train_loss': 0.009302374,\n",
        "  'valid_accuracy': 0.0093338573,\n",
        "  'valid_loss': 0.0093338573},\n",
        " {'epoch': 714,\n",
        "  'train_loss': 0.0093632676,\n",
        "  'valid_accuracy': 0.0093137212,\n",
        "  'valid_loss': 0.0093137212},\n",
        " {'epoch': 715,\n",
        "  'train_loss': 0.0093241362,\n",
        "  'valid_accuracy': 0.0093535874,\n",
        "  'valid_loss': 0.0093535874},\n",
        " {'epoch': 716,\n",
        "  'train_loss': 0.0093492428,\n",
        "  'valid_accuracy': 0.0093308585,\n",
        "  'valid_loss': 0.0093308585},\n",
        " {'epoch': 717,\n",
        "  'train_loss': 0.0092694052,\n",
        "  'valid_accuracy': 0.0092968112,\n",
        "  'valid_loss': 0.0092968112},\n",
        " {'epoch': 718,\n",
        "  'train_loss': 0.0092991581,\n",
        "  'valid_accuracy': 0.0093101775,\n",
        "  'valid_loss': 0.0093101775},\n",
        " {'epoch': 719,\n",
        "  'train_loss': 0.009201685,\n",
        "  'valid_accuracy': 0.009301655,\n",
        "  'valid_loss': 0.009301655},\n",
        " {'epoch': 720,\n",
        "  'train_loss': 0.0092626018,\n",
        "  'valid_accuracy': 0.0092941802,\n",
        "  'valid_loss': 0.0092941802},\n",
        " {'epoch': 721,\n",
        "  'train_loss': 0.0092340223,\n",
        "  'valid_accuracy': 0.00929345,\n",
        "  'valid_loss': 0.00929345},\n",
        " {'epoch': 722,\n",
        "  'train_loss': 0.0092778159,\n",
        "  'valid_accuracy': 0.0093082953,\n",
        "  'valid_loss': 0.0093082953},\n",
        " {'epoch': 723,\n",
        "  'train_loss': 0.0092479885,\n",
        "  'valid_accuracy': 0.0092875902,\n",
        "  'valid_loss': 0.0092875902},\n",
        " {'epoch': 724,\n",
        "  'train_loss': 0.0092041725,\n",
        "  'valid_accuracy': 0.0092878984,\n",
        "  'valid_loss': 0.0092878984},\n",
        " {'epoch': 725,\n",
        "  'train_loss': 0.0091811987,\n",
        "  'valid_accuracy': 0.009292474,\n",
        "  'valid_loss': 0.009292474},\n",
        " {'epoch': 726,\n",
        "  'train_loss': 0.0092088953,\n",
        "  'valid_accuracy': 0.0092927702,\n",
        "  'valid_loss': 0.0092927702},\n",
        " {'epoch': 727,\n",
        "  'train_loss': 0.009195568,\n",
        "  'valid_accuracy': 0.0092660645,\n",
        "  'valid_loss': 0.0092660645},\n",
        " {'epoch': 728,\n",
        "  'train_loss': 0.0091794729,\n",
        "  'valid_accuracy': 0.009276377,\n",
        "  'valid_loss': 0.009276377},\n",
        " {'epoch': 729,\n",
        "  'train_loss': 0.0091205137,\n",
        "  'valid_accuracy': 0.0093014911,\n",
        "  'valid_loss': 0.0093014911},\n",
        " {'epoch': 730,\n",
        "  'train_loss': 0.0091820825,\n",
        "  'valid_accuracy': 0.0092663243,\n",
        "  'valid_loss': 0.0092663243},\n",
        " {'epoch': 731,\n",
        "  'train_loss': 0.0091535905,\n",
        "  'valid_accuracy': 0.009270885,\n",
        "  'valid_loss': 0.009270885},\n",
        " {'epoch': 732,\n",
        "  'train_loss': 0.0091411863,\n",
        "  'valid_accuracy': 0.0092513589,\n",
        "  'valid_loss': 0.0092513589},\n",
        " {'epoch': 733,\n",
        "  'train_loss': 0.0091329291,\n",
        "  'valid_accuracy': 0.009240129,\n",
        "  'valid_loss': 0.009240129},\n",
        " {'epoch': 734,\n",
        "  'train_loss': 0.0091192983,\n",
        "  'valid_accuracy': 0.0092280377,\n",
        "  'valid_loss': 0.0092280377},\n",
        " {'epoch': 735,\n",
        "  'train_loss': 0.0091078449,\n",
        "  'valid_accuracy': 0.0092404867,\n",
        "  'valid_loss': 0.0092404867},\n",
        " {'epoch': 736,\n",
        "  'train_loss': 0.0091610188,\n",
        "  'valid_accuracy': 0.0092273196,\n",
        "  'valid_loss': 0.0092273196},\n",
        " {'epoch': 737,\n",
        "  'train_loss': 0.0091520362,\n",
        "  'valid_accuracy': 0.0092364419,\n",
        "  'valid_loss': 0.0092364419},\n",
        " {'epoch': 738,\n",
        "  'train_loss': 0.0090394411,\n",
        "  'valid_accuracy': 0.0092163607,\n",
        "  'valid_loss': 0.0092163607},\n",
        " {'epoch': 739,\n",
        "  'train_loss': 0.0090544187,\n",
        "  'valid_accuracy': 0.0092013748,\n",
        "  'valid_loss': 0.0092013748},\n",
        " {'epoch': 740,\n",
        "  'train_loss': 0.0090443259,\n",
        "  'valid_accuracy': 0.0092013264,\n",
        "  'valid_loss': 0.0092013264},\n",
        " {'epoch': 741,\n",
        "  'train_loss': 0.008974974,\n",
        "  'valid_accuracy': 0.0092063667,\n",
        "  'valid_loss': 0.0092063667},\n",
        " {'epoch': 742,\n",
        "  'train_loss': 0.0090309968,\n",
        "  'valid_accuracy': 0.0091758026,\n",
        "  'valid_loss': 0.0091758026},\n",
        " {'epoch': 743,\n",
        "  'train_loss': 0.0090004932,\n",
        "  'valid_accuracy': 0.0091802897,\n",
        "  'valid_loss': 0.0091802897},\n",
        " {'epoch': 744,\n",
        "  'train_loss': 0.0091098128,\n",
        "  'valid_accuracy': 0.0092176879,\n",
        "  'valid_loss': 0.0092176879},\n",
        " {'epoch': 745,\n",
        "  'train_loss': 0.0090635158,\n",
        "  'valid_accuracy': 0.0091937436,\n",
        "  'valid_loss': 0.0091937436},\n",
        " {'epoch': 746,\n",
        "  'train_loss': 0.008970065,\n",
        "  'valid_accuracy': 0.0092015117,\n",
        "  'valid_loss': 0.0092015117},\n",
        " {'epoch': 747,\n",
        "  'train_loss': 0.0090565588,\n",
        "  'valid_accuracy': 0.0091821477,\n",
        "  'valid_loss': 0.0091821477},\n",
        " {'epoch': 748,\n",
        "  'train_loss': 0.0090442803,\n",
        "  'valid_accuracy': 0.0091576753,\n",
        "  'valid_loss': 0.0091576753},\n",
        " {'epoch': 749,\n",
        "  'train_loss': 0.0090166256,\n",
        "  'valid_accuracy': 0.0091804741,\n",
        "  'valid_loss': 0.0091804741},\n",
        " {'epoch': 750,\n",
        "  'train_loss': 0.0089836204,\n",
        "  'valid_accuracy': 0.0091703497,\n",
        "  'valid_loss': 0.0091703497},\n",
        " {'epoch': 751,\n",
        "  'train_loss': 0.0089489454,\n",
        "  'valid_accuracy': 0.0091511169,\n",
        "  'valid_loss': 0.0091511169},\n",
        " {'epoch': 752,\n",
        "  'train_loss': 0.0089633921,\n",
        "  'valid_accuracy': 0.0091604823,\n",
        "  'valid_loss': 0.0091604823},\n",
        " {'epoch': 753,\n",
        "  'train_loss': 0.0090223392,\n",
        "  'valid_accuracy': 0.0091313291,\n",
        "  'valid_loss': 0.0091313291},\n",
        " {'epoch': 754,\n",
        "  'train_loss': 0.0089380909,\n",
        "  'valid_accuracy': 0.0091573792,\n",
        "  'valid_loss': 0.0091573792},\n",
        " {'epoch': 755,\n",
        "  'train_loss': 0.0089811385,\n",
        "  'valid_accuracy': 0.0091327,\n",
        "  'valid_loss': 0.0091327},\n",
        " {'epoch': 756,\n",
        "  'train_loss': 0.008887657,\n",
        "  'valid_accuracy': 0.0091215437,\n",
        "  'valid_loss': 0.0091215437},\n",
        " {'epoch': 757,\n",
        "  'train_loss': 0.0088414354,\n",
        "  'valid_accuracy': 0.0091520967,\n",
        "  'valid_loss': 0.0091520967},\n",
        " {'epoch': 758,\n",
        "  'train_loss': 0.0089444062,\n",
        "  'valid_accuracy': 0.0091399988,\n",
        "  'valid_loss': 0.0091399988},\n",
        " {'epoch': 759,\n",
        "  'train_loss': 0.0089386273,\n",
        "  'valid_accuracy': 0.0091296593,\n",
        "  'valid_loss': 0.0091296593},\n",
        " {'epoch': 760,\n",
        "  'train_loss': 0.0088867247,\n",
        "  'valid_accuracy': 0.0091158375,\n",
        "  'valid_loss': 0.0091158375},\n",
        " {'epoch': 761,\n",
        "  'train_loss': 0.0089408942,\n",
        "  'valid_accuracy': 0.0091214087,\n",
        "  'valid_loss': 0.0091214087},\n",
        " {'epoch': 762,\n",
        "  'train_loss': 0.0089154765,\n",
        "  'valid_accuracy': 0.0091037704,\n",
        "  'valid_loss': 0.0091037704},\n",
        " {'epoch': 763,\n",
        "  'train_loss': 0.0088796495,\n",
        "  'valid_accuracy': 0.0091094524,\n",
        "  'valid_loss': 0.0091094524},\n",
        " {'epoch': 764,\n",
        "  'train_loss': 0.0088817058,\n",
        "  'valid_accuracy': 0.0090819998,\n",
        "  'valid_loss': 0.0090819998},\n",
        " {'epoch': 765,\n",
        "  'train_loss': 0.0088656154,\n",
        "  'valid_accuracy': 0.0091033289,\n",
        "  'valid_loss': 0.0091033289},\n",
        " {'epoch': 766,\n",
        "  'train_loss': 0.0088274386,\n",
        "  'valid_accuracy': 0.0090972884,\n",
        "  'valid_loss': 0.0090972884},\n",
        " {'epoch': 767,\n",
        "  'train_loss': 0.0088113602,\n",
        "  'valid_accuracy': 0.0090851467,\n",
        "  'valid_loss': 0.0090851467},\n",
        " {'epoch': 768,\n",
        "  'train_loss': 0.0088823354,\n",
        "  'valid_accuracy': 0.009073114,\n",
        "  'valid_loss': 0.009073114},\n",
        " {'epoch': 769,\n",
        "  'train_loss': 0.0088226125,\n",
        "  'valid_accuracy': 0.0090854876,\n",
        "  'valid_loss': 0.0090854876},\n",
        " {'epoch': 770,\n",
        "  'train_loss': 0.0088322917,\n",
        "  'valid_accuracy': 0.0090701841,\n",
        "  'valid_loss': 0.0090701841},\n",
        " {'epoch': 771,\n",
        "  'train_loss': 0.008853388,\n",
        "  'valid_accuracy': 0.009065127,\n",
        "  'valid_loss': 0.009065127},\n",
        " {'epoch': 772,\n",
        "  'train_loss': 0.0088174623,\n",
        "  'valid_accuracy': 0.0090672607,\n",
        "  'valid_loss': 0.0090672607},\n",
        " {'epoch': 773,\n",
        "  'train_loss': 0.008777366,\n",
        "  'valid_accuracy': 0.0090334043,\n",
        "  'valid_loss': 0.0090334043},\n",
        " {'epoch': 774,\n",
        "  'train_loss': 0.0087960167,\n",
        "  'valid_accuracy': 0.0090232715,\n",
        "  'valid_loss': 0.0090232715},\n",
        " {'epoch': 775,\n",
        "  'train_loss': 0.0087329792,\n",
        "  'valid_accuracy': 0.0090322476,\n",
        "  'valid_loss': 0.0090322476},\n",
        " {'epoch': 776,\n",
        "  'train_loss': 0.0088138692,\n",
        "  'valid_accuracy': 0.0090325549,\n",
        "  'valid_loss': 0.0090325549},\n",
        " {'epoch': 777,\n",
        "  'train_loss': 0.0087345764,\n",
        "  'valid_accuracy': 0.0090291006,\n",
        "  'valid_loss': 0.0090291006},\n",
        " {'epoch': 778,\n",
        "  'train_loss': 0.0087353177,\n",
        "  'valid_accuracy': 0.0090289684,\n",
        "  'valid_loss': 0.0090289684},\n",
        " {'epoch': 779,\n",
        "  'train_loss': 0.0086633116,\n",
        "  'valid_accuracy': 0.0090152575,\n",
        "  'valid_loss': 0.0090152575},\n",
        " {'epoch': 780,\n",
        "  'train_loss': 0.0087950304,\n",
        "  'valid_accuracy': 0.009033476,\n",
        "  'valid_loss': 0.009033476},\n",
        " {'epoch': 781,\n",
        "  'train_loss': 0.008726418,\n",
        "  'valid_accuracy': 0.0090238815,\n",
        "  'valid_loss': 0.0090238815},\n",
        " {'epoch': 782,\n",
        "  'train_loss': 0.0087054623,\n",
        "  'valid_accuracy': 0.0090270955,\n",
        "  'valid_loss': 0.0090270955},\n",
        " {'epoch': 783,\n",
        "  'train_loss': 0.0086685456,\n",
        "  'valid_accuracy': 0.0090097785,\n",
        "  'valid_loss': 0.0090097785},\n",
        " {'epoch': 784,\n",
        "  'train_loss': 0.0087524736,\n",
        "  'valid_accuracy': 0.0090065449,\n",
        "  'valid_loss': 0.0090065449},\n",
        " {'epoch': 785,\n",
        "  'train_loss': 0.0087576536,\n",
        "  'valid_accuracy': 0.0090364972,\n",
        "  'valid_loss': 0.0090364972},\n",
        " {'epoch': 786,\n",
        "  'train_loss': 0.0086657684,\n",
        "  'valid_accuracy': 0.0090106288,\n",
        "  'valid_loss': 0.0090106288},\n",
        " {'epoch': 787,\n",
        "  'train_loss': 0.0086512407,\n",
        "  'valid_accuracy': 0.0089866156,\n",
        "  'valid_loss': 0.0089866156},\n",
        " {'epoch': 788,\n",
        "  'train_loss': 0.0086639971,\n",
        "  'valid_accuracy': 0.0089919241,\n",
        "  'valid_loss': 0.0089919241},\n",
        " {'epoch': 789,\n",
        "  'train_loss': 0.008691635,\n",
        "  'valid_accuracy': 0.0089904945,\n",
        "  'valid_loss': 0.0089904945},\n",
        " {'epoch': 790,\n",
        "  'train_loss': 0.0087246895,\n",
        "  'valid_accuracy': 0.0089628026,\n",
        "  'valid_loss': 0.0089628026},\n",
        " {'epoch': 791,\n",
        "  'train_loss': 0.0086697657,\n",
        "  'valid_accuracy': 0.0089692073,\n",
        "  'valid_loss': 0.0089692073},\n",
        " {'epoch': 792,\n",
        "  'train_loss': 0.0085783331,\n",
        "  'valid_accuracy': 0.008946619,\n",
        "  'valid_loss': 0.008946619},\n",
        " {'epoch': 793,\n",
        "  'train_loss': 0.0085959453,\n",
        "  'valid_accuracy': 0.0089759426,\n",
        "  'valid_loss': 0.0089759426},\n",
        " {'epoch': 794,\n",
        "  'train_loss': 0.0086511914,\n",
        "  'valid_accuracy': 0.0089568831,\n",
        "  'valid_loss': 0.0089568831},\n",
        " {'epoch': 795,\n",
        "  'train_loss': 0.0085599115,\n",
        "  'valid_accuracy': 0.0089786761,\n",
        "  'valid_loss': 0.0089786761},\n",
        " {'epoch': 796,\n",
        "  'train_loss': 0.0085448949,\n",
        "  'valid_accuracy': 0.0089406651,\n",
        "  'valid_loss': 0.0089406651},\n",
        " {'epoch': 797,\n",
        "  'train_loss': 0.0086250035,\n",
        "  'valid_accuracy': 0.0089734718,\n",
        "  'valid_loss': 0.0089734718},\n",
        " {'epoch': 798,\n",
        "  'train_loss': 0.008596194,\n",
        "  'valid_accuracy': 0.0089563634,\n",
        "  'valid_loss': 0.0089563634},\n",
        " {'epoch': 799,\n",
        "  'train_loss': 0.0085962089,\n",
        "  'valid_accuracy': 0.0089440737,\n",
        "  'valid_loss': 0.0089440737},\n",
        " {'epoch': 800,\n",
        "  'train_loss': 0.0085678566,\n",
        "  'valid_accuracy': 0.0089516276,\n",
        "  'valid_loss': 0.0089516276},\n",
        " {'epoch': 801,\n",
        "  'train_loss': 0.0085650729,\n",
        "  'valid_accuracy': 0.0089261066,\n",
        "  'valid_loss': 0.0089261066},\n",
        " {'epoch': 802,\n",
        "  'train_loss': 0.0085217878,\n",
        "  'valid_accuracy': 0.0089246975,\n",
        "  'valid_loss': 0.0089246975},\n",
        " {'epoch': 803,\n",
        "  'train_loss': 0.0085045779,\n",
        "  'valid_accuracy': 0.008921993,\n",
        "  'valid_loss': 0.008921993},\n",
        " {'epoch': 804,\n",
        "  'train_loss': 0.0085453177,\n",
        "  'valid_accuracy': 0.0089174015,\n",
        "  'valid_loss': 0.0089174015},\n",
        " {'epoch': 805,\n",
        "  'train_loss': 0.0085242651,\n",
        "  'valid_accuracy': 0.0089120911,\n",
        "  'valid_loss': 0.0089120911},\n",
        " {'epoch': 806,\n",
        "  'train_loss': 0.0084528448,\n",
        "  'valid_accuracy': 0.0088976696,\n",
        "  'valid_loss': 0.0088976696},\n",
        " {'epoch': 807,\n",
        "  'train_loss': 0.0084763747,\n",
        "  'valid_accuracy': 0.0089038555,\n",
        "  'valid_loss': 0.0089038555},\n",
        " {'epoch': 808,\n",
        "  'train_loss': 0.0084686484,\n",
        "  'valid_accuracy': 0.0088928258,\n",
        "  'valid_loss': 0.0088928258},\n",
        " {'epoch': 809,\n",
        "  'train_loss': 0.0084632589,\n",
        "  'valid_accuracy': 0.0088950312,\n",
        "  'valid_loss': 0.0088950312},\n",
        " {'epoch': 810,\n",
        "  'train_loss': 0.0085237548,\n",
        "  'valid_accuracy': 0.0088932514,\n",
        "  'valid_loss': 0.0088932514},\n",
        " {'epoch': 811,\n",
        "  'train_loss': 0.0084968545,\n",
        "  'valid_accuracy': 0.0088851806,\n",
        "  'valid_loss': 0.0088851806},\n",
        " {'epoch': 812,\n",
        "  'train_loss': 0.0084951455,\n",
        "  'valid_accuracy': 0.0088811917,\n",
        "  'valid_loss': 0.0088811917},\n",
        " {'epoch': 813,\n",
        "  'train_loss': 0.0084378095,\n",
        "  'valid_accuracy': 0.0088870348,\n",
        "  'valid_loss': 0.0088870348},\n",
        " {'epoch': 814,\n",
        "  'train_loss': 0.0084499419,\n",
        "  'valid_accuracy': 0.008868699,\n",
        "  'valid_loss': 0.008868699},\n",
        " {'epoch': 815,\n",
        "  'train_loss': 0.0084175812,\n",
        "  'valid_accuracy': 0.0088520376,\n",
        "  'valid_loss': 0.0088520376},\n",
        " {'epoch': 816,\n",
        "  'train_loss': 0.0084638549,\n",
        "  'valid_accuracy': 0.0088661779,\n",
        "  'valid_loss': 0.0088661779},\n",
        " {'epoch': 817,\n",
        "  'train_loss': 0.0084968675,\n",
        "  'valid_accuracy': 0.0088511808,\n",
        "  'valid_loss': 0.0088511808},\n",
        " {'epoch': 818,\n",
        "  'train_loss': 0.0084394393,\n",
        "  'valid_accuracy': 0.0088612568,\n",
        "  'valid_loss': 0.0088612568},\n",
        " {'epoch': 819,\n",
        "  'train_loss': 0.0084894896,\n",
        "  'valid_accuracy': 0.0088570016,\n",
        "  'valid_loss': 0.0088570016},\n",
        " {'epoch': 820,\n",
        "  'train_loss': 0.0083475253,\n",
        "  'valid_accuracy': 0.0088725016,\n",
        "  'valid_loss': 0.0088725016},\n",
        " {'epoch': 821,\n",
        "  'train_loss': 0.0083759325,\n",
        "  'valid_accuracy': 0.008846567,\n",
        "  'valid_loss': 0.008846567},\n",
        " {'epoch': 822,\n",
        "  'train_loss': 0.0083603216,\n",
        "  'valid_accuracy': 0.0088362126,\n",
        "  'valid_loss': 0.0088362126},\n",
        " {'epoch': 823,\n",
        "  'train_loss': 0.0083524222,\n",
        "  'valid_accuracy': 0.0088499617,\n",
        "  'valid_loss': 0.0088499617},\n",
        " {'epoch': 824,\n",
        "  'train_loss': 0.0083660902,\n",
        "  'valid_accuracy': 0.0088259475,\n",
        "  'valid_loss': 0.0088259475},\n",
        " {'epoch': 825,\n",
        "  'train_loss': 0.0083478922,\n",
        "  'valid_accuracy': 0.0088294493,\n",
        "  'valid_loss': 0.0088294493},\n",
        " {'epoch': 826,\n",
        "  'train_loss': 0.0083474219,\n",
        "  'valid_accuracy': 0.0088199237,\n",
        "  'valid_loss': 0.0088199237},\n",
        " {'epoch': 827,\n",
        "  'train_loss': 0.0083120978,\n",
        "  'valid_accuracy': 0.0088342009,\n",
        "  'valid_loss': 0.0088342009},\n",
        " {'epoch': 828,\n",
        "  'train_loss': 0.0083480831,\n",
        "  'valid_accuracy': 0.0088066682,\n",
        "  'valid_loss': 0.0088066682},\n",
        " {'epoch': 829,\n",
        "  'train_loss': 0.0083234385,\n",
        "  'valid_accuracy': 0.0088072922,\n",
        "  'valid_loss': 0.0088072922},\n",
        " {'epoch': 830,\n",
        "  'train_loss': 0.0083011808,\n",
        "  'valid_accuracy': 0.008820626,\n",
        "  'valid_loss': 0.008820626},\n",
        " {'epoch': 831,\n",
        "  'train_loss': 0.0082776537,\n",
        "  'valid_accuracy': 0.0088127889,\n",
        "  'valid_loss': 0.0088127889},\n",
        " {'epoch': 832,\n",
        "  'train_loss': 0.0082518077,\n",
        "  'valid_accuracy': 0.0087921638,\n",
        "  'valid_loss': 0.0087921638},\n",
        " {'epoch': 833,\n",
        "  'train_loss': 0.0082511669,\n",
        "  'valid_accuracy': 0.0088200402,\n",
        "  'valid_loss': 0.0088200402},\n",
        " {'epoch': 834,\n",
        "  'train_loss': 0.0082493238,\n",
        "  'valid_accuracy': 0.0088012321,\n",
        "  'valid_loss': 0.0088012321},\n",
        " {'epoch': 835,\n",
        "  'train_loss': 0.0083166137,\n",
        "  'valid_accuracy': 0.008793138,\n",
        "  'valid_loss': 0.008793138},\n",
        " {'epoch': 836,\n",
        "  'train_loss': 0.0082730995,\n",
        "  'valid_accuracy': 0.0087982286,\n",
        "  'valid_loss': 0.0087982286},\n",
        " {'epoch': 837,\n",
        "  'train_loss': 0.0082413908,\n",
        "  'valid_accuracy': 0.0087792017,\n",
        "  'valid_loss': 0.0087792017},\n",
        " {'epoch': 838,\n",
        "  'train_loss': 0.0082382793,\n",
        "  'valid_accuracy': 0.0087689292,\n",
        "  'valid_loss': 0.0087689292},\n",
        " {'epoch': 839,\n",
        "  'train_loss': 0.0082520386,\n",
        "  'valid_accuracy': 0.0087637678,\n",
        "  'valid_loss': 0.0087637678},\n",
        " {'epoch': 840,\n",
        "  'train_loss': 0.0082359333,\n",
        "  'valid_accuracy': 0.0087849004,\n",
        "  'valid_loss': 0.0087849004},\n",
        " {'epoch': 841,\n",
        "  'train_loss': 0.0082571441,\n",
        "  'valid_accuracy': 0.0087495456,\n",
        "  'valid_loss': 0.0087495456},\n",
        " {'epoch': 842,\n",
        "  'train_loss': 0.0082628103,\n",
        "  'valid_accuracy': 0.0087594558,\n",
        "  'valid_loss': 0.0087594558},\n",
        " {'epoch': 843,\n",
        "  'train_loss': 0.0081999172,\n",
        "  'valid_accuracy': 0.0087807532,\n",
        "  'valid_loss': 0.0087807532},\n",
        " {'epoch': 844,\n",
        "  'train_loss': 0.0082149254,\n",
        "  'valid_accuracy': 0.0087758172,\n",
        "  'valid_loss': 0.0087758172},\n",
        " {'epoch': 845,\n",
        "  'train_loss': 0.0081751077,\n",
        "  'valid_accuracy': 0.0087589603,\n",
        "  'valid_loss': 0.0087589603},\n",
        " {'epoch': 846,\n",
        "  'train_loss': 0.0081702303,\n",
        "  'valid_accuracy': 0.008774125,\n",
        "  'valid_loss': 0.008774125},\n",
        " {'epoch': 847,\n",
        "  'train_loss': 0.0081510236,\n",
        "  'valid_accuracy': 0.0087503782,\n",
        "  'valid_loss': 0.0087503782},\n",
        " {'epoch': 848,\n",
        "  'train_loss': 0.0081624249,\n",
        "  'valid_accuracy': 0.0087613985,\n",
        "  'valid_loss': 0.0087613985},\n",
        " {'epoch': 849,\n",
        "  'train_loss': 0.0081809089,\n",
        "  'valid_accuracy': 0.0087335361,\n",
        "  'valid_loss': 0.0087335361},\n",
        " {'epoch': 850,\n",
        "  'train_loss': 0.0081469323,\n",
        "  'valid_accuracy': 0.008729388,\n",
        "  'valid_loss': 0.008729388},\n",
        " {'epoch': 851,\n",
        "  'train_loss': 0.0082123466,\n",
        "  'valid_accuracy': 0.0087448824,\n",
        "  'valid_loss': 0.0087448824},\n",
        " {'epoch': 852,\n",
        "  'train_loss': 0.0081671653,\n",
        "  'valid_accuracy': 0.008743952,\n",
        "  'valid_loss': 0.008743952},\n",
        " {'epoch': 853,\n",
        "  'train_loss': 0.0081731221,\n",
        "  'valid_accuracy': 0.008719719,\n",
        "  'valid_loss': 0.008719719},\n",
        " {'epoch': 854,\n",
        "  'train_loss': 0.0081283245,\n",
        "  'valid_accuracy': 0.0087188995,\n",
        "  'valid_loss': 0.0087188995},\n",
        " {'epoch': 855,\n",
        "  'train_loss': 0.0081184804,\n",
        "  'valid_accuracy': 0.0087280199,\n",
        "  'valid_loss': 0.0087280199},\n",
        " {'epoch': 856,\n",
        "  'train_loss': 0.00811332,\n",
        "  'valid_accuracy': 0.0086983135,\n",
        "  'valid_loss': 0.0086983135},\n",
        " {'epoch': 857,\n",
        "  'train_loss': 0.0081024291,\n",
        "  'valid_accuracy': 0.0087110437,\n",
        "  'valid_loss': 0.0087110437},\n",
        " {'epoch': 858,\n",
        "  'train_loss': 0.0080655757,\n",
        "  'valid_accuracy': 0.008708504,\n",
        "  'valid_loss': 0.008708504},\n",
        " {'epoch': 859,\n",
        "  'train_loss': 0.0081052994,\n",
        "  'valid_accuracy': 0.0087059252,\n",
        "  'valid_loss': 0.0087059252},\n",
        " {'epoch': 860,\n",
        "  'train_loss': 0.0081547471,\n",
        "  'valid_accuracy': 0.0086933458,\n",
        "  'valid_loss': 0.0086933458},\n",
        " {'epoch': 861,\n",
        "  'train_loss': 0.0080202483,\n",
        "  'valid_accuracy': 0.0086946702,\n",
        "  'valid_loss': 0.0086946702},\n",
        " {'epoch': 862,\n",
        "  'train_loss': 0.0080699185,\n",
        "  'valid_accuracy': 0.0086735347,\n",
        "  'valid_loss': 0.0086735347},\n",
        " {'epoch': 863,\n",
        "  'train_loss': 0.0080322828,\n",
        "  'valid_accuracy': 0.008679268,\n",
        "  'valid_loss': 0.008679268},\n",
        " {'epoch': 864,\n",
        "  'train_loss': 0.0080959816,\n",
        "  'valid_accuracy': 0.0086809229,\n",
        "  'valid_loss': 0.0086809229},\n",
        " {'epoch': 865,\n",
        "  'train_loss': 0.0079615256,\n",
        "  'valid_accuracy': 0.0086826701,\n",
        "  'valid_loss': 0.0086826701},\n",
        " {'epoch': 866,\n",
        "  'train_loss': 0.0079373689,\n",
        "  'valid_accuracy': 0.0086584697,\n",
        "  'valid_loss': 0.0086584697},\n",
        " {'epoch': 867,\n",
        "  'train_loss': 0.0080050603,\n",
        "  'valid_accuracy': 0.0086555406,\n",
        "  'valid_loss': 0.0086555406},\n",
        " {'epoch': 868,\n",
        "  'train_loss': 0.0080416566,\n",
        "  'valid_accuracy': 0.0086611034,\n",
        "  'valid_loss': 0.0086611034},\n",
        " {'epoch': 869,\n",
        "  'train_loss': 0.0080028316,\n",
        "  'valid_accuracy': 0.0086684423,\n",
        "  'valid_loss': 0.0086684423},\n",
        " {'epoch': 870,\n",
        "  'train_loss': 0.008092368,\n",
        "  'valid_accuracy': 0.0086556152,\n",
        "  'valid_loss': 0.0086556152},\n",
        " {'epoch': 871,\n",
        "  'train_loss': 0.0079847444,\n",
        "  'valid_accuracy': 0.0086675817,\n",
        "  'valid_loss': 0.0086675817},\n",
        " {'epoch': 872,\n",
        "  'train_loss': 0.0080142654,\n",
        "  'valid_accuracy': 0.0086511234,\n",
        "  'valid_loss': 0.0086511234},\n",
        " {'epoch': 873,\n",
        "  'train_loss': 0.0079708174,\n",
        "  'valid_accuracy': 0.0086538391,\n",
        "  'valid_loss': 0.0086538391},\n",
        " {'epoch': 874,\n",
        "  'train_loss': 0.0080401106,\n",
        "  'valid_accuracy': 0.0086326478,\n",
        "  'valid_loss': 0.0086326478},\n",
        " {'epoch': 875,\n",
        "  'train_loss': 0.0079290541,\n",
        "  'valid_accuracy': 0.0086453846,\n",
        "  'valid_loss': 0.0086453846},\n",
        " {'epoch': 876,\n",
        "  'train_loss': 0.0079348916,\n",
        "  'valid_accuracy': 0.0086303763,\n",
        "  'valid_loss': 0.0086303763},\n",
        " {'epoch': 877,\n",
        "  'train_loss': 0.0079172272,\n",
        "  'valid_accuracy': 0.0086595286,\n",
        "  'valid_loss': 0.0086595286},\n",
        " {'epoch': 878,\n",
        "  'train_loss': 0.0079333698,\n",
        "  'valid_accuracy': 0.0086328778,\n",
        "  'valid_loss': 0.0086328778},\n",
        " {'epoch': 879,\n",
        "  'train_loss': 0.0079322131,\n",
        "  'valid_accuracy': 0.0086304899,\n",
        "  'valid_loss': 0.0086304899},\n",
        " {'epoch': 880,\n",
        "  'train_loss': 0.0079190331,\n",
        "  'valid_accuracy': 0.0086134123,\n",
        "  'valid_loss': 0.0086134123},\n",
        " {'epoch': 881,\n",
        "  'train_loss': 0.0079086367,\n",
        "  'valid_accuracy': 0.0086443769,\n",
        "  'valid_loss': 0.0086443769},\n",
        " {'epoch': 882,\n",
        "  'train_loss': 0.0079472847,\n",
        "  'valid_accuracy': 0.0086236224,\n",
        "  'valid_loss': 0.0086236224},\n",
        " {'epoch': 883,\n",
        "  'train_loss': 0.0078647882,\n",
        "  'valid_accuracy': 0.0086083012,\n",
        "  'valid_loss': 0.0086083012},\n",
        " {'epoch': 884,\n",
        "  'train_loss': 0.0078695714,\n",
        "  'valid_accuracy': 0.0086003765,\n",
        "  'valid_loss': 0.0086003765},\n",
        " {'epoch': 885,\n",
        "  'train_loss': 0.0078713885,\n",
        "  'valid_accuracy': 0.0086374218,\n",
        "  'valid_loss': 0.0086374218},\n",
        " {'epoch': 886,\n",
        "  'train_loss': 0.0078861071,\n",
        "  'valid_accuracy': 0.0085990895,\n",
        "  'valid_loss': 0.0085990895},\n",
        " {'epoch': 887,\n",
        "  'train_loss': 0.0077819093,\n",
        "  'valid_accuracy': 0.0086043356,\n",
        "  'valid_loss': 0.0086043356},\n",
        " {'epoch': 888,\n",
        "  'train_loss': 0.0078629851,\n",
        "  'valid_accuracy': 0.0085957432,\n",
        "  'valid_loss': 0.0085957432},\n",
        " {'epoch': 889,\n",
        "  'train_loss': 0.0078391582,\n",
        "  'valid_accuracy': 0.0085928487,\n",
        "  'valid_loss': 0.0085928487},\n",
        " {'epoch': 890,\n",
        "  'train_loss': 0.007707099,\n",
        "  'valid_accuracy': 0.0086041605,\n",
        "  'valid_loss': 0.0086041605},\n",
        " {'epoch': 891,\n",
        "  'train_loss': 0.0078361994,\n",
        "  'valid_accuracy': 0.0086013125,\n",
        "  'valid_loss': 0.0086013125},\n",
        " {'epoch': 892,\n",
        "  'train_loss': 0.0078099379,\n",
        "  'valid_accuracy': 0.0085778674,\n",
        "  'valid_loss': 0.0085778674},\n",
        " {'epoch': 893,\n",
        "  'train_loss': 0.0078215385,\n",
        "  'valid_accuracy': 0.0085867709,\n",
        "  'valid_loss': 0.0085867709},\n",
        " {'epoch': 894,\n",
        "  'train_loss': 0.0078489594,\n",
        "  'valid_accuracy': 0.008594932,\n",
        "  'valid_loss': 0.008594932},\n",
        " {'epoch': 895,\n",
        "  'train_loss': 0.0078137731,\n",
        "  'valid_accuracy': 0.0085779754,\n",
        "  'valid_loss': 0.0085779754},\n",
        " {'epoch': 896,\n",
        "  'train_loss': 0.0077941311,\n",
        "  'valid_accuracy': 0.0085544586,\n",
        "  'valid_loss': 0.0085544586},\n",
        " {'epoch': 897,\n",
        "  'train_loss': 0.0077399104,\n",
        "  'valid_accuracy': 0.0085870912,\n",
        "  'valid_loss': 0.0085870912},\n",
        " {'epoch': 898,\n",
        "  'train_loss': 0.0077756182,\n",
        "  'valid_accuracy': 0.0085555892,\n",
        "  'valid_loss': 0.0085555892},\n",
        " {'epoch': 899,\n",
        "  'train_loss': 0.0077907592,\n",
        "  'valid_accuracy': 0.0085695731,\n",
        "  'valid_loss': 0.0085695731},\n",
        " {'epoch': 900,\n",
        "  'train_loss': 0.0077455281,\n",
        "  'valid_accuracy': 0.00855071,\n",
        "  'valid_loss': 0.00855071},\n",
        " {'epoch': 901,\n",
        "  'train_loss': 0.0078015416,\n",
        "  'valid_accuracy': 0.0085520456,\n",
        "  'valid_loss': 0.0085520456},\n",
        " {'epoch': 902,\n",
        "  'train_loss': 0.0077258549,\n",
        "  'valid_accuracy': 0.0085520986,\n",
        "  'valid_loss': 0.0085520986},\n",
        " {'epoch': 903,\n",
        "  'train_loss': 0.0077652498,\n",
        "  'valid_accuracy': 0.0085282158,\n",
        "  'valid_loss': 0.0085282158},\n",
        " {'epoch': 904,\n",
        "  'train_loss': 0.0077275103,\n",
        "  'valid_accuracy': 0.0085282046,\n",
        "  'valid_loss': 0.0085282046},\n",
        " {'epoch': 905,\n",
        "  'train_loss': 0.0076534646,\n",
        "  'valid_accuracy': 0.0085291639,\n",
        "  'valid_loss': 0.0085291639},\n",
        " {'epoch': 906,\n",
        "  'train_loss': 0.0077305348,\n",
        "  'valid_accuracy': 0.0085498346,\n",
        "  'valid_loss': 0.0085498346},\n",
        " {'epoch': 907,\n",
        "  'train_loss': 0.0077030496,\n",
        "  'valid_accuracy': 0.0085189808,\n",
        "  'valid_loss': 0.0085189808},\n",
        " {'epoch': 908,\n",
        "  'train_loss': 0.0076743667,\n",
        "  'valid_accuracy': 0.0085413251,\n",
        "  'valid_loss': 0.0085413251},\n",
        " {'epoch': 909,\n",
        "  'train_loss': 0.0077137328,\n",
        "  'valid_accuracy': 0.0085387761,\n",
        "  'valid_loss': 0.0085387761},\n",
        " {'epoch': 910,\n",
        "  'train_loss': 0.0076430999,\n",
        "  'valid_accuracy': 0.008541991,\n",
        "  'valid_loss': 0.008541991},\n",
        " {'epoch': 911,\n",
        "  'train_loss': 0.0076084151,\n",
        "  'valid_accuracy': 0.0085277986,\n",
        "  'valid_loss': 0.0085277986},\n",
        " {'epoch': 912,\n",
        "  'train_loss': 0.0076435036,\n",
        "  'valid_accuracy': 0.0085047632,\n",
        "  'valid_loss': 0.0085047632},\n",
        " {'epoch': 913,\n",
        "  'train_loss': 0.0076693385,\n",
        "  'valid_accuracy': 0.0085052503,\n",
        "  'valid_loss': 0.0085052503},\n",
        " {'epoch': 914,\n",
        "  'train_loss': 0.0076180859,\n",
        "  'valid_accuracy': 0.0085055046,\n",
        "  'valid_loss': 0.0085055046},\n",
        " {'epoch': 915,\n",
        "  'train_loss': 0.0076215356,\n",
        "  'valid_accuracy': 0.0085007176,\n",
        "  'valid_loss': 0.0085007176},\n",
        " {'epoch': 916,\n",
        "  'train_loss': 0.0076382887,\n",
        "  'valid_accuracy': 0.0085118962,\n",
        "  'valid_loss': 0.0085118962},\n",
        " {'epoch': 917,\n",
        "  'train_loss': 0.0075910301,\n",
        "  'valid_accuracy': 0.0084880963,\n",
        "  'valid_loss': 0.0084880963},\n",
        " {'epoch': 918,\n",
        "  'train_loss': 0.007608423,\n",
        "  'valid_accuracy': 0.0085085845,\n",
        "  'valid_loss': 0.0085085845},\n",
        " {'epoch': 919,\n",
        "  'train_loss': 0.0076030493,\n",
        "  'valid_accuracy': 0.0084956186,\n",
        "  'valid_loss': 0.0084956186},\n",
        " {'epoch': 920,\n",
        "  'train_loss': 0.0076617762,\n",
        "  'valid_accuracy': 0.0084967809,\n",
        "  'valid_loss': 0.0084967809},\n",
        " {'epoch': 921,\n",
        "  'train_loss': 0.0075617656,\n",
        "  'valid_accuracy': 0.008460287,\n",
        "  'valid_loss': 0.008460287},\n",
        " {'epoch': 922,\n",
        "  'train_loss': 0.0075340467,\n",
        "  'valid_accuracy': 0.0084861731,\n",
        "  'valid_loss': 0.0084861731},\n",
        " {'epoch': 923,\n",
        "  'train_loss': 0.0075836326,\n",
        "  'valid_accuracy': 0.0084814411,\n",
        "  'valid_loss': 0.0084814411},\n",
        " {'epoch': 924,\n",
        "  'train_loss': 0.0076487008,\n",
        "  'valid_accuracy': 0.0084593147,\n",
        "  'valid_loss': 0.0084593147},\n",
        " {'epoch': 925,\n",
        "  'train_loss': 0.0075617046,\n",
        "  'valid_accuracy': 0.008472926,\n",
        "  'valid_loss': 0.008472926},\n",
        " {'epoch': 926,\n",
        "  'train_loss': 0.0075277458,\n",
        "  'valid_accuracy': 0.0084857894,\n",
        "  'valid_loss': 0.0084857894},\n",
        " {'epoch': 927,\n",
        "  'train_loss': 0.0075555537,\n",
        "  'valid_accuracy': 0.0084614921,\n",
        "  'valid_loss': 0.0084614921},\n",
        " {'epoch': 928,\n",
        "  'train_loss': 0.0075207395,\n",
        "  'valid_accuracy': 0.0084728384,\n",
        "  'valid_loss': 0.0084728384},\n",
        " {'epoch': 929,\n",
        "  'train_loss': 0.0074950126,\n",
        "  'valid_accuracy': 0.0084640961,\n",
        "  'valid_loss': 0.0084640961},\n",
        " {'epoch': 930,\n",
        "  'train_loss': 0.0074882922,\n",
        "  'valid_accuracy': 0.0084722191,\n",
        "  'valid_loss': 0.0084722191},\n",
        " {'epoch': 931,\n",
        "  'train_loss': 0.0075155906,\n",
        "  'valid_accuracy': 0.0084664477,\n",
        "  'valid_loss': 0.0084664477},\n",
        " {'epoch': 932,\n",
        "  'train_loss': 0.0074633793,\n",
        "  'valid_accuracy': 0.0084556658,\n",
        "  'valid_loss': 0.0084556658},\n",
        " {'epoch': 933,\n",
        "  'train_loss': 0.0075201392,\n",
        "  'valid_accuracy': 0.0084467186,\n",
        "  'valid_loss': 0.0084467186},\n",
        " {'epoch': 934,\n",
        "  'train_loss': 0.0075009228,\n",
        "  'valid_accuracy': 0.0084513649,\n",
        "  'valid_loss': 0.0084513649},\n",
        " {'epoch': 935,\n",
        "  'train_loss': 0.0074586417,\n",
        "  'valid_accuracy': 0.0084530087,\n",
        "  'valid_loss': 0.0084530087},\n",
        " {'epoch': 936,\n",
        "  'train_loss': 0.0074682445,\n",
        "  'valid_accuracy': 0.0084281657,\n",
        "  'valid_loss': 0.0084281657},\n",
        " {'epoch': 937,\n",
        "  'train_loss': 0.0074447035,\n",
        "  'valid_accuracy': 0.0084483009,\n",
        "  'valid_loss': 0.0084483009},\n",
        " {'epoch': 938,\n",
        "  'train_loss': 0.0074866307,\n",
        "  'valid_accuracy': 0.0084352521,\n",
        "  'valid_loss': 0.0084352521},\n",
        " {'epoch': 939,\n",
        "  'train_loss': 0.007422565,\n",
        "  'valid_accuracy': 0.0084564965,\n",
        "  'valid_loss': 0.0084564965},\n",
        " {'epoch': 940,\n",
        "  'train_loss': 0.0075210305,\n",
        "  'valid_accuracy': 0.0084367227,\n",
        "  'valid_loss': 0.0084367227},\n",
        " {'epoch': 941,\n",
        "  'train_loss': 0.0074727219,\n",
        "  'valid_accuracy': 0.0084473686,\n",
        "  'valid_loss': 0.0084473686},\n",
        " {'epoch': 942,\n",
        "  'train_loss': 0.0074414718,\n",
        "  'valid_accuracy': 0.008436406,\n",
        "  'valid_loss': 0.008436406},\n",
        " {'epoch': 943,\n",
        "  'train_loss': 0.007437387,\n",
        "  'valid_accuracy': 0.0084110396,\n",
        "  'valid_loss': 0.0084110396},\n",
        " {'epoch': 944,\n",
        "  'train_loss': 0.0074555846,\n",
        "  'valid_accuracy': 0.0084158322,\n",
        "  'valid_loss': 0.0084158322},\n",
        " {'epoch': 945,\n",
        "  'train_loss': 0.0075315293,\n",
        "  'valid_accuracy': 0.0084345397,\n",
        "  'valid_loss': 0.0084345397},\n",
        " {'epoch': 946,\n",
        "  'train_loss': 0.0074020992,\n",
        "  'valid_accuracy': 0.0084086908,\n",
        "  'valid_loss': 0.0084086908},\n",
        " {'epoch': 947,\n",
        "  'train_loss': 0.0073735463,\n",
        "  'valid_accuracy': 0.0084178373,\n",
        "  'valid_loss': 0.0084178373},\n",
        " {'epoch': 948,\n",
        "  'train_loss': 0.0073625734,\n",
        "  'valid_accuracy': 0.0084183104,\n",
        "  'valid_loss': 0.0084183104},\n",
        " {'epoch': 949,\n",
        "  'train_loss': 0.0073627261,\n",
        "  'valid_accuracy': 0.008429395,\n",
        "  'valid_loss': 0.008429395},\n",
        " {'epoch': 950,\n",
        "  'train_loss': 0.0073508425,\n",
        "  'valid_accuracy': 0.0084245056,\n",
        "  'valid_loss': 0.0084245056},\n",
        " {'epoch': 951,\n",
        "  'train_loss': 0.0073904512,\n",
        "  'valid_accuracy': 0.0084233331,\n",
        "  'valid_loss': 0.0084233331},\n",
        " {'epoch': 952,\n",
        "  'train_loss': 0.0073514911,\n",
        "  'valid_accuracy': 0.008410288,\n",
        "  'valid_loss': 0.008410288},\n",
        " {'epoch': 953,\n",
        "  'train_loss': 0.0073071932,\n",
        "  'valid_accuracy': 0.0083962195,\n",
        "  'valid_loss': 0.0083962195},\n",
        " {'epoch': 954,\n",
        "  'train_loss': 0.007328406,\n",
        "  'valid_accuracy': 0.0083958227,\n",
        "  'valid_loss': 0.0083958227},\n",
        " {'epoch': 955,\n",
        "  'train_loss': 0.0074191731,\n",
        "  'valid_accuracy': 0.0083916252,\n",
        "  'valid_loss': 0.0083916252},\n",
        " {'epoch': 956,\n",
        "  'train_loss': 0.0072945557,\n",
        "  'valid_accuracy': 0.0083791753,\n",
        "  'valid_loss': 0.0083791753},\n",
        " {'epoch': 957,\n",
        "  'train_loss': 0.0072224694,\n",
        "  'valid_accuracy': 0.0083811972,\n",
        "  'valid_loss': 0.0083811972},\n",
        " {'epoch': 958,\n",
        "  'train_loss': 0.0073000672,\n",
        "  'valid_accuracy': 0.0083868559,\n",
        "  'valid_loss': 0.0083868559},\n",
        " {'epoch': 959,\n",
        "  'train_loss': 0.0073446403,\n",
        "  'valid_accuracy': 0.0083559342,\n",
        "  'valid_loss': 0.0083559342},\n",
        " {'epoch': 960,\n",
        "  'train_loss': 0.0072272648,\n",
        "  'valid_accuracy': 0.008364561,\n",
        "  'valid_loss': 0.008364561},\n",
        " {'epoch': 961,\n",
        "  'train_loss': 0.0072833858,\n",
        "  'valid_accuracy': 0.0083916346,\n",
        "  'valid_loss': 0.0083916346},\n",
        " {'epoch': 962,\n",
        "  'train_loss': 0.0072722062,\n",
        "  'valid_accuracy': 0.0083703538,\n",
        "  'valid_loss': 0.0083703538},\n",
        " {'epoch': 963,\n",
        "  'train_loss': 0.0073034405,\n",
        "  'valid_accuracy': 0.0084083108,\n",
        "  'valid_loss': 0.0084083108},\n",
        " {'epoch': 964,\n",
        "  'train_loss': 0.0072443536,\n",
        "  'valid_accuracy': 0.00837305,\n",
        "  'valid_loss': 0.00837305},\n",
        " {'epoch': 965,\n",
        "  'train_loss': 0.0072817309,\n",
        "  'valid_accuracy': 0.0083708474,\n",
        "  'valid_loss': 0.0083708474},\n",
        " {'epoch': 966,\n",
        "  'train_loss': 0.0072844611,\n",
        "  'valid_accuracy': 0.008351488,\n",
        "  'valid_loss': 0.008351488},\n",
        " {'epoch': 967,\n",
        "  'train_loss': 0.0072493562,\n",
        "  'valid_accuracy': 0.0083489679,\n",
        "  'valid_loss': 0.0083489679},\n",
        " {'epoch': 968,\n",
        "  'train_loss': 0.0072446694,\n",
        "  'valid_accuracy': 0.0083842762,\n",
        "  'valid_loss': 0.0083842762},\n",
        " {'epoch': 969,\n",
        "  'train_loss': 0.0072954334,\n",
        "  'valid_accuracy': 0.00835572,\n",
        "  'valid_loss': 0.00835572},\n",
        " {'epoch': 970,\n",
        "  'train_loss': 0.0072226296,\n",
        "  'valid_accuracy': 0.008338863,\n",
        "  'valid_loss': 0.008338863},\n",
        " {'epoch': 971,\n",
        "  'train_loss': 0.0072264564,\n",
        "  'valid_accuracy': 0.0083520561,\n",
        "  'valid_loss': 0.0083520561},\n",
        " {'epoch': 972,\n",
        "  'train_loss': 0.0071878443,\n",
        "  'valid_accuracy': 0.0083578294,\n",
        "  'valid_loss': 0.0083578294},\n",
        " {'epoch': 973,\n",
        "  'train_loss': 0.0072468147,\n",
        "  'valid_accuracy': 0.0083302176,\n",
        "  'valid_loss': 0.0083302176},\n",
        " {'epoch': 974,\n",
        "  'train_loss': 0.0071477131,\n",
        "  'valid_accuracy': 0.0083560441,\n",
        "  'valid_loss': 0.0083560441},\n",
        " {'epoch': 975,\n",
        "  'train_loss': 0.0071728774,\n",
        "  'valid_accuracy': 0.0083509954,\n",
        "  'valid_loss': 0.0083509954},\n",
        " {'epoch': 976,\n",
        "  'train_loss': 0.0071571227,\n",
        "  'valid_accuracy': 0.0083532762,\n",
        "  'valid_loss': 0.0083532762},\n",
        " {'epoch': 977,\n",
        "  'train_loss': 0.0071967691,\n",
        "  'valid_accuracy': 0.008328015,\n",
        "  'valid_loss': 0.008328015},\n",
        " {'epoch': 978,\n",
        "  'train_loss': 0.0071302867,\n",
        "  'valid_accuracy': 0.0083348518,\n",
        "  'valid_loss': 0.0083348518},\n",
        " {'epoch': 979,\n",
        "  'train_loss': 0.0071133981,\n",
        "  'valid_accuracy': 0.0083138328,\n",
        "  'valid_loss': 0.0083138328},\n",
        " {'epoch': 980,\n",
        "  'train_loss': 0.0071448232,\n",
        "  'valid_accuracy': 0.0083279228,\n",
        "  'valid_loss': 0.0083279228},\n",
        " {'epoch': 981,\n",
        "  'train_loss': 0.0071927495,\n",
        "  'valid_accuracy': 0.0083386619,\n",
        "  'valid_loss': 0.0083386619},\n",
        " {'epoch': 982,\n",
        "  'train_loss': 0.0071359845,\n",
        "  'valid_accuracy': 0.008317438,\n",
        "  'valid_loss': 0.008317438},\n",
        " {'epoch': 983,\n",
        "  'train_loss': 0.0071189175,\n",
        "  'valid_accuracy': 0.0083104344,\n",
        "  'valid_loss': 0.0083104344},\n",
        " {'epoch': 984,\n",
        "  'train_loss': 0.0071310983,\n",
        "  'valid_accuracy': 0.0083116274,\n",
        "  'valid_loss': 0.0083116274},\n",
        " {'epoch': 985,\n",
        "  'train_loss': 0.0071447599,\n",
        "  'valid_accuracy': 0.0083259465,\n",
        "  'valid_loss': 0.0083259465},\n",
        " {'epoch': 986,\n",
        "  'train_loss': 0.0071519073,\n",
        "  'valid_accuracy': 0.0083006294,\n",
        "  'valid_loss': 0.0083006294},\n",
        " {'epoch': 987,\n",
        "  'train_loss': 0.0070809508,\n",
        "  'valid_accuracy': 0.0083020823,\n",
        "  'valid_loss': 0.0083020823},\n",
        " {'epoch': 988,\n",
        "  'train_loss': 0.0070767365,\n",
        "  'valid_accuracy': 0.0083159013,\n",
        "  'valid_loss': 0.0083159013},\n",
        " {'epoch': 989,\n",
        "  'train_loss': 0.0070160665,\n",
        "  'valid_accuracy': 0.0082957139,\n",
        "  'valid_loss': 0.0082957139},\n",
        " {'epoch': 990,\n",
        "  'train_loss': 0.0071262494,\n",
        "  'valid_accuracy': 0.0083121601,\n",
        "  'valid_loss': 0.0083121601},\n",
        " {'epoch': 991,\n",
        "  'train_loss': 0.0070614321,\n",
        "  'valid_accuracy': 0.0083005726,\n",
        "  'valid_loss': 0.0083005726},\n",
        " {'epoch': 992,\n",
        "  'train_loss': 0.0070728273,\n",
        "  'valid_accuracy': 0.0083213123,\n",
        "  'valid_loss': 0.0083213123},\n",
        " {'epoch': 993,\n",
        "  'train_loss': 0.0070377919,\n",
        "  'valid_accuracy': 0.0083067911,\n",
        "  'valid_loss': 0.0083067911},\n",
        " {'epoch': 994,\n",
        "  'train_loss': 0.0070316833,\n",
        "  'valid_accuracy': 0.008293177,\n",
        "  'valid_loss': 0.008293177},\n",
        " {'epoch': 995,\n",
        "  'train_loss': 0.0070486097,\n",
        "  'valid_accuracy': 0.0082792342,\n",
        "  'valid_loss': 0.0082792342},\n",
        " {'epoch': 996,\n",
        "  'train_loss': 0.0069855209,\n",
        "  'valid_accuracy': 0.0082581555,\n",
        "  'valid_loss': 0.0082581555},\n",
        " {'epoch': 997,\n",
        "  'train_loss': 0.0070613362,\n",
        "  'valid_accuracy': 0.0082797268,\n",
        "  'valid_loss': 0.0082797268},\n",
        " {'epoch': 998,\n",
        "  'train_loss': 0.0070844623,\n",
        "  'valid_accuracy': 0.008272294,\n",
        "  'valid_loss': 0.008272294},\n",
        " {'epoch': 999,\n",
        "  'train_loss': 0.0070573622,\n",
        "  'valid_accuracy': 0.0082809702,\n",
        "  'valid_loss': 0.0082809702},\n",
        " {'epoch': 1000,\n",
        "  'train_loss': 0.0070275227,\n",
        "  'valid_accuracy': 0.0082661249,\n",
        "  'valid_loss': 0.0082661249},\n",
        " {'epoch': 1001,\n",
        "  'train_loss': 0.0069577638,\n",
        "  'valid_accuracy': 0.0082454635,\n",
        "  'valid_loss': 0.0082454635},\n",
        " {'epoch': 1002,\n",
        "  'train_loss': 0.0070198099,\n",
        "  'valid_accuracy': 0.0082642632,\n",
        "  'valid_loss': 0.0082642632},\n",
        " {'epoch': 1003,\n",
        "  'train_loss': 0.0069814175,\n",
        "  'valid_accuracy': 0.0082663875,\n",
        "  'valid_loss': 0.0082663875},\n",
        " {'epoch': 1004,\n",
        "  'train_loss': 0.006989351,\n",
        "  'valid_accuracy': 0.0082624489,\n",
        "  'valid_loss': 0.0082624489},\n",
        " {'epoch': 1005,\n",
        "  'train_loss': 0.007051623,\n",
        "  'valid_accuracy': 0.00825027,\n",
        "  'valid_loss': 0.00825027},\n",
        " {'epoch': 1006,\n",
        "  'train_loss': 0.0069465055,\n",
        "  'valid_accuracy': 0.008256413,\n",
        "  'valid_loss': 0.008256413},\n",
        " {'epoch': 1007,\n",
        "  'train_loss': 0.0069663171,\n",
        "  'valid_accuracy': 0.0082488731,\n",
        "  'valid_loss': 0.0082488731},\n",
        " {'epoch': 1008,\n",
        "  'train_loss': 0.0069360775,\n",
        "  'valid_accuracy': 0.0082414951,\n",
        "  'valid_loss': 0.0082414951},\n",
        " {'epoch': 1009,\n",
        "  'train_loss': 0.0069390349,\n",
        "  'valid_accuracy': 0.0082585718,\n",
        "  'valid_loss': 0.0082585718},\n",
        " {'epoch': 1010,\n",
        "  'train_loss': 0.0069654877,\n",
        "  'valid_accuracy': 0.0082232254,\n",
        "  'valid_loss': 0.0082232254},\n",
        " {'epoch': 1011,\n",
        "  'train_loss': 0.0069219535,\n",
        "  'valid_accuracy': 0.0082346005,\n",
        "  'valid_loss': 0.0082346005},\n",
        " {'epoch': 1012,\n",
        "  'train_loss': 0.0069565759,\n",
        "  'valid_accuracy': 0.0082334829,\n",
        "  'valid_loss': 0.0082334829},\n",
        " {'epoch': 1013,\n",
        "  'train_loss': 0.0069125914,\n",
        "  'valid_accuracy': 0.0082158102,\n",
        "  'valid_loss': 0.0082158102},\n",
        " {'epoch': 1014,\n",
        "  'train_loss': 0.0069696228,\n",
        "  'valid_accuracy': 0.008265675,\n",
        "  'valid_loss': 0.008265675},\n",
        " {'epoch': 1015,\n",
        "  'train_loss': 0.006889178,\n",
        "  'valid_accuracy': 0.0082569616,\n",
        "  'valid_loss': 0.0082569616},\n",
        " {'epoch': 1016,\n",
        "  'train_loss': 0.0069135232,\n",
        "  'valid_accuracy': 0.0082459692,\n",
        "  'valid_loss': 0.0082459692},\n",
        " {'epoch': 1017,\n",
        "  'train_loss': 0.0068479842,\n",
        "  'valid_accuracy': 0.0082355468,\n",
        "  'valid_loss': 0.0082355468},\n",
        " {'epoch': 1018,\n",
        "  'train_loss': 0.0069783824,\n",
        "  'valid_accuracy': 0.0082363952,\n",
        "  'valid_loss': 0.0082363952},\n",
        " {'epoch': 1019,\n",
        "  'train_loss': 0.0069178198,\n",
        "  'valid_accuracy': 0.0082140267,\n",
        "  'valid_loss': 0.0082140267},\n",
        " {'epoch': 1020,\n",
        "  'train_loss': 0.0069061648,\n",
        "  'valid_accuracy': 0.0082143825,\n",
        "  'valid_loss': 0.0082143825},\n",
        " {'epoch': 1021,\n",
        "  'train_loss': 0.0068554482,\n",
        "  'valid_accuracy': 0.0082260892,\n",
        "  'valid_loss': 0.0082260892},\n",
        " {'epoch': 1022,\n",
        "  'train_loss': 0.0068738312,\n",
        "  'valid_accuracy': 0.0082369205,\n",
        "  'valid_loss': 0.0082369205},\n",
        " {'epoch': 1023,\n",
        "  'train_loss': 0.0068757865,\n",
        "  'valid_accuracy': 0.0081997104,\n",
        "  'valid_loss': 0.0081997104},\n",
        " {'epoch': 1024,\n",
        "  'train_loss': 0.0068023563,\n",
        "  'valid_accuracy': 0.0081970291,\n",
        "  'valid_loss': 0.0081970291},\n",
        " {'epoch': 1025,\n",
        "  'train_loss': 0.0067622531,\n",
        "  'valid_accuracy': 0.0082077309,\n",
        "  'valid_loss': 0.0082077309},\n",
        " {'epoch': 1026,\n",
        "  'train_loss': 0.0068811388,\n",
        "  'valid_accuracy': 0.0082097156,\n",
        "  'valid_loss': 0.0082097156},\n",
        " {'epoch': 1027,\n",
        "  'train_loss': 0.0068125562,\n",
        "  'valid_accuracy': 0.0082096979,\n",
        "  'valid_loss': 0.0082096979},\n",
        " {'epoch': 1028,\n",
        "  'train_loss': 0.0067836288,\n",
        "  'valid_accuracy': 0.008212381,\n",
        "  'valid_loss': 0.008212381},\n",
        " {'epoch': 1029,\n",
        "  'train_loss': 0.0068215625,\n",
        "  'valid_accuracy': 0.0082070716,\n",
        "  'valid_loss': 0.0082070716},\n",
        " {'epoch': 1030,\n",
        "  'train_loss': 0.0068242261,\n",
        "  'valid_accuracy': 0.0081988592,\n",
        "  'valid_loss': 0.0081988592},\n",
        " {'epoch': 1031,\n",
        "  'train_loss': 0.0068496242,\n",
        "  'valid_accuracy': 0.0081996443,\n",
        "  'valid_loss': 0.0081996443},\n",
        " {'epoch': 1032,\n",
        "  'train_loss': 0.0067596156,\n",
        "  'valid_accuracy': 0.0081916694,\n",
        "  'valid_loss': 0.0081916694},\n",
        " {'epoch': 1033,\n",
        "  'train_loss': 0.0067966091,\n",
        "  'valid_accuracy': 0.0081804981,\n",
        "  'valid_loss': 0.0081804981},\n",
        " {'epoch': 1034,\n",
        "  'train_loss': 0.0068122908,\n",
        "  'valid_accuracy': 0.0081903292,\n",
        "  'valid_loss': 0.0081903292},\n",
        " {'epoch': 1035,\n",
        "  'train_loss': 0.0067418902,\n",
        "  'valid_accuracy': 0.0082105668,\n",
        "  'valid_loss': 0.0082105668},\n",
        " {'epoch': 1036,\n",
        "  'train_loss': 0.0067141028,\n",
        "  'valid_accuracy': 0.0081721442,\n",
        "  'valid_loss': 0.0081721442},\n",
        " {'epoch': 1037,\n",
        "  'train_loss': 0.0067463308,\n",
        "  'valid_accuracy': 0.0081961006,\n",
        "  'valid_loss': 0.0081961006},\n",
        " {'epoch': 1038,\n",
        "  'train_loss': 0.0066918833,\n",
        "  'valid_accuracy': 0.0081791272,\n",
        "  'valid_loss': 0.0081791272},\n",
        " {'epoch': 1039,\n",
        "  'train_loss': 0.0067090513,\n",
        "  'valid_accuracy': 0.0082038613,\n",
        "  'valid_loss': 0.0082038613},\n",
        " {'epoch': 1040,\n",
        "  'train_loss': 0.00675523,\n",
        "  'valid_accuracy': 0.0081972834,\n",
        "  'valid_loss': 0.0081972834},\n",
        " {'epoch': 1041,\n",
        "  'train_loss': 0.0067487005,\n",
        "  'valid_accuracy': 0.0081753526,\n",
        "  'valid_loss': 0.0081753526},\n",
        " {'epoch': 1042,\n",
        "  'train_loss': 0.0068214391,\n",
        "  'valid_accuracy': 0.0081735654,\n",
        "  'valid_loss': 0.0081735654},\n",
        " {'epoch': 1043,\n",
        "  'train_loss': 0.0067233308,\n",
        "  'valid_accuracy': 0.0081905238,\n",
        "  'valid_loss': 0.0081905238},\n",
        " {'epoch': 1044,\n",
        "  'train_loss': 0.0067076799,\n",
        "  'valid_accuracy': 0.0081677279,\n",
        "  'valid_loss': 0.0081677279},\n",
        " {'epoch': 1045,\n",
        "  'train_loss': 0.0067286505,\n",
        "  'valid_accuracy': 0.0081561543,\n",
        "  'valid_loss': 0.0081561543},\n",
        " {'epoch': 1046,\n",
        "  'train_loss': 0.006716439,\n",
        "  'valid_accuracy': 0.0081639243,\n",
        "  'valid_loss': 0.0081639243},\n",
        " {'epoch': 1047,\n",
        "  'train_loss': 0.0065470603,\n",
        "  'valid_accuracy': 0.0081881527,\n",
        "  'valid_loss': 0.0081881527},\n",
        " {'epoch': 1048,\n",
        "  'train_loss': 0.0066276602,\n",
        "  'valid_accuracy': 0.0081706811,\n",
        "  'valid_loss': 0.0081706811},\n",
        " {'epoch': 1049,\n",
        "  'train_loss': 0.0067260005,\n",
        "  'valid_accuracy': 0.0081624705,\n",
        "  'valid_loss': 0.0081624705},\n",
        " {'epoch': 1050,\n",
        "  'train_loss': 0.0066950624,\n",
        "  'valid_accuracy': 0.0081675909,\n",
        "  'valid_loss': 0.0081675909},\n",
        " {'epoch': 1051,\n",
        "  'train_loss': 0.0066407043,\n",
        "  'valid_accuracy': 0.0081644673,\n",
        "  'valid_loss': 0.0081644673},\n",
        " {'epoch': 1052,\n",
        "  'train_loss': 0.0066172956,\n",
        "  'valid_accuracy': 0.0081438292,\n",
        "  'valid_loss': 0.0081438292},\n",
        " {'epoch': 1053,\n",
        "  'train_loss': 0.0066324905,\n",
        "  'valid_accuracy': 0.0081732171,\n",
        "  'valid_loss': 0.0081732171},\n",
        " {'epoch': 1054,\n",
        "  'train_loss': 0.0067095305,\n",
        "  'valid_accuracy': 0.0081649646,\n",
        "  'valid_loss': 0.0081649646},\n",
        " {'epoch': 1055,\n",
        "  'train_loss': 0.0065843291,\n",
        "  'valid_accuracy': 0.0081592742,\n",
        "  'valid_loss': 0.0081592742},\n",
        " {'epoch': 1056,\n",
        "  'train_loss': 0.0066225315,\n",
        "  'valid_accuracy': 0.0081433523,\n",
        "  'valid_loss': 0.0081433523},\n",
        " {'epoch': 1057,\n",
        "  'train_loss': 0.006563711,\n",
        "  'valid_accuracy': 0.0081413481,\n",
        "  'valid_loss': 0.0081413481},\n",
        " {'epoch': 1058,\n",
        "  'train_loss': 0.0066223764,\n",
        "  'valid_accuracy': 0.0081379786,\n",
        "  'valid_loss': 0.0081379786},\n",
        " {'epoch': 1059,\n",
        "  'train_loss': 0.0066840844,\n",
        "  'valid_accuracy': 0.0081435787,\n",
        "  'valid_loss': 0.0081435787},\n",
        " {'epoch': 1060,\n",
        "  'train_loss': 0.0066254297,\n",
        "  'valid_accuracy': 0.0081535624,\n",
        "  'valid_loss': 0.0081535624},\n",
        " {'epoch': 1061,\n",
        "  'train_loss': 0.0065887137,\n",
        "  'valid_accuracy': 0.0081369812,\n",
        "  'valid_loss': 0.0081369812},\n",
        " {'epoch': 1062,\n",
        "  'train_loss': 0.0066235927,\n",
        "  'valid_accuracy': 0.0081362491,\n",
        "  'valid_loss': 0.0081362491},\n",
        " {'epoch': 1063,\n",
        "  'train_loss': 0.0065798666,\n",
        "  'valid_accuracy': 0.0081353141,\n",
        "  'valid_loss': 0.0081353141},\n",
        " {'epoch': 1064,\n",
        "  'train_loss': 0.0065596974,\n",
        "  'valid_accuracy': 0.0081335697,\n",
        "  'valid_loss': 0.0081335697},\n",
        " {'epoch': 1065,\n",
        "  'train_loss': 0.0065957285,\n",
        "  'valid_accuracy': 0.0081204847,\n",
        "  'valid_loss': 0.0081204847},\n",
        " {'epoch': 1066,\n",
        "  'train_loss': 0.0065950803,\n",
        "  'valid_accuracy': 0.0081444383,\n",
        "  'valid_loss': 0.0081444383},\n",
        " {'epoch': 1067,\n",
        "  'train_loss': 0.0065491428,\n",
        "  'valid_accuracy': 0.0081364131,\n",
        "  'valid_loss': 0.0081364131},\n",
        " {'epoch': 1068,\n",
        "  'train_loss': 0.0064640553,\n",
        "  'valid_accuracy': 0.0081527121,\n",
        "  'valid_loss': 0.0081527121},\n",
        " {'epoch': 1069,\n",
        "  'train_loss': 0.0065641254,\n",
        "  'valid_accuracy': 0.0081338296,\n",
        "  'valid_loss': 0.0081338296},\n",
        " {'epoch': 1070,\n",
        "  'train_loss': 0.0065372172,\n",
        "  'valid_accuracy': 0.0081118811,\n",
        "  'valid_loss': 0.0081118811},\n",
        " {'epoch': 1071,\n",
        "  'train_loss': 0.0065048393,\n",
        "  'valid_accuracy': 0.0081040598,\n",
        "  'valid_loss': 0.0081040598},\n",
        " {'epoch': 1072,\n",
        "  'train_loss': 0.0065683485,\n",
        "  'valid_accuracy': 0.0081181908,\n",
        "  'valid_loss': 0.0081181908},\n",
        " {'epoch': 1073,\n",
        "  'train_loss': 0.0066092345,\n",
        "  'valid_accuracy': 0.0080998028,\n",
        "  'valid_loss': 0.0080998028},\n",
        " {'epoch': 1074,\n",
        "  'train_loss': 0.0064263372,\n",
        "  'valid_accuracy': 0.0081014168,\n",
        "  'valid_loss': 0.0081014168},\n",
        " {'epoch': 1075,\n",
        "  'train_loss': 0.0064695375,\n",
        "  'valid_accuracy': 0.0081103947,\n",
        "  'valid_loss': 0.0081103947},\n",
        " {'epoch': 1076,\n",
        "  'train_loss': 0.0065270863,\n",
        "  'valid_accuracy': 0.0081142709,\n",
        "  'valid_loss': 0.0081142709},\n",
        " {'epoch': 1077,\n",
        "  'train_loss': 0.0064899097,\n",
        "  'valid_accuracy': 0.0081040524,\n",
        "  'valid_loss': 0.0081040524},\n",
        " {'epoch': 1078,\n",
        "  'train_loss': 0.0064409743,\n",
        "  'valid_accuracy': 0.0081216414,\n",
        "  'valid_loss': 0.0081216414},\n",
        " {'epoch': 1079,\n",
        "  'train_loss': 0.0064106639,\n",
        "  'valid_accuracy': 0.0081155049,\n",
        "  'valid_loss': 0.0081155049},\n",
        " {'epoch': 1080,\n",
        "  'train_loss': 0.00640667,\n",
        "  'valid_accuracy': 0.0081044491,\n",
        "  'valid_loss': 0.0081044491},\n",
        " {'epoch': 1081,\n",
        "  'train_loss': 0.0064570429,\n",
        "  'valid_accuracy': 0.0081094541,\n",
        "  'valid_loss': 0.0081094541},\n",
        " {'epoch': 1082,\n",
        "  'train_loss': 0.006424394,\n",
        "  'valid_accuracy': 0.0080861626,\n",
        "  'valid_loss': 0.0080861626},\n",
        " {'epoch': 1083,\n",
        "  'train_loss': 0.0064546494,\n",
        "  'valid_accuracy': 0.0081075188,\n",
        "  'valid_loss': 0.0081075188},\n",
        " {'epoch': 1084,\n",
        "  'train_loss': 0.0064346697,\n",
        "  'valid_accuracy': 0.0080818273,\n",
        "  'valid_loss': 0.0080818273},\n",
        " {'epoch': 1085,\n",
        "  'train_loss': 0.0065156482,\n",
        "  'valid_accuracy': 0.0080909058,\n",
        "  'valid_loss': 0.0080909058},\n",
        " {'epoch': 1086,\n",
        "  'train_loss': 0.0063950317,\n",
        "  'valid_accuracy': 0.0080907326,\n",
        "  'valid_loss': 0.0080907326},\n",
        " {'epoch': 1087,\n",
        "  'train_loss': 0.0064050406,\n",
        "  'valid_accuracy': 0.0080869412,\n",
        "  'valid_loss': 0.0080869412},\n",
        " {'epoch': 1088,\n",
        "  'train_loss': 0.0064569023,\n",
        "  'valid_accuracy': 0.0080991071,\n",
        "  'valid_loss': 0.0080991071},\n",
        " {'epoch': 1089,\n",
        "  'train_loss': 0.006415897,\n",
        "  'valid_accuracy': 0.0081065856,\n",
        "  'valid_loss': 0.0081065856},\n",
        " {'epoch': 1090,\n",
        "  'train_loss': 0.0064139022,\n",
        "  'valid_accuracy': 0.0080906088,\n",
        "  'valid_loss': 0.0080906088},\n",
        " {'epoch': 1091,\n",
        "  'train_loss': 0.0064611263,\n",
        "  'valid_accuracy': 0.008091527,\n",
        "  'valid_loss': 0.008091527},\n",
        " {'epoch': 1092,\n",
        "  'train_loss': 0.0064121778,\n",
        "  'valid_accuracy': 0.0081065344,\n",
        "  'valid_loss': 0.0081065344},\n",
        " {'epoch': 1093,\n",
        "  'train_loss': 0.0063404916,\n",
        "  'valid_accuracy': 0.0081000105,\n",
        "  'valid_loss': 0.0081000105},\n",
        " {'epoch': 1094,\n",
        "  'train_loss': 0.0063862414,\n",
        "  'valid_accuracy': 0.0080844257,\n",
        "  'valid_loss': 0.0080844257},\n",
        " {'epoch': 1095,\n",
        "  'train_loss': 0.0063674315,\n",
        "  'valid_accuracy': 0.0080701876,\n",
        "  'valid_loss': 0.0080701876},\n",
        " {'epoch': 1096,\n",
        "  'train_loss': 0.0063617467,\n",
        "  'valid_accuracy': 0.0080917524,\n",
        "  'valid_loss': 0.0080917524},\n",
        " {'epoch': 1097,\n",
        "  'train_loss': 0.0063509368,\n",
        "  'valid_accuracy': 0.008079024,\n",
        "  'valid_loss': 0.008079024},\n",
        " {'epoch': 1098,\n",
        "  'train_loss': 0.0063586342,\n",
        "  'valid_accuracy': 0.0080827512,\n",
        "  'valid_loss': 0.0080827512},\n",
        " {'epoch': 1099,\n",
        "  'train_loss': 0.0063541573,\n",
        "  'valid_accuracy': 0.0080804443,\n",
        "  'valid_loss': 0.0080804443},\n",
        " {'epoch': 1100,\n",
        "  'train_loss': 0.0064779054,\n",
        "  'valid_accuracy': 0.0080811549,\n",
        "  'valid_loss': 0.0080811549},\n",
        " {'epoch': 1101,\n",
        "  'train_loss': 0.0062692109,\n",
        "  'valid_accuracy': 0.00807284,\n",
        "  'valid_loss': 0.00807284},\n",
        " {'epoch': 1102,\n",
        "  'train_loss': 0.0063922699,\n",
        "  'valid_accuracy': 0.0080793938,\n",
        "  'valid_loss': 0.0080793938},\n",
        " {'epoch': 1103,\n",
        "  'train_loss': 0.0063527543,\n",
        "  'valid_accuracy': 0.0080654491,\n",
        "  'valid_loss': 0.0080654491},\n",
        " {'epoch': 1104,\n",
        "  'train_loss': 0.0064338674,\n",
        "  'valid_accuracy': 0.0080585824,\n",
        "  'valid_loss': 0.0080585824},\n",
        " {'epoch': 1105,\n",
        "  'train_loss': 0.0063053053,\n",
        "  'valid_accuracy': 0.0080553042,\n",
        "  'valid_loss': 0.0080553042},\n",
        " {'epoch': 1106,\n",
        "  'train_loss': 0.0063005937,\n",
        "  'valid_accuracy': 0.0080653029,\n",
        "  'valid_loss': 0.0080653029},\n",
        " {'epoch': 1107,\n",
        "  'train_loss': 0.0063621453,\n",
        "  'valid_accuracy': 0.0080750193,\n",
        "  'valid_loss': 0.0080750193},\n",
        " {'epoch': 1108,\n",
        "  'train_loss': 0.0062583499,\n",
        "  'valid_accuracy': 0.008047238,\n",
        "  'valid_loss': 0.008047238},\n",
        " {'epoch': 1109,\n",
        "  'train_loss': 0.0063023157,\n",
        "  'valid_accuracy': 0.0080563324,\n",
        "  'valid_loss': 0.0080563324},\n",
        " {'epoch': 1110,\n",
        "  'train_loss': 0.0063342755,\n",
        "  'valid_accuracy': 0.0080481516,\n",
        "  'valid_loss': 0.0080481516},\n",
        " {'epoch': 1111,\n",
        "  'train_loss': 0.0062849703,\n",
        "  'valid_accuracy': 0.0080633108,\n",
        "  'valid_loss': 0.0080633108},\n",
        " {'epoch': 1112,\n",
        "  'train_loss': 0.0062270509,\n",
        "  'valid_accuracy': 0.0080649154,\n",
        "  'valid_loss': 0.0080649154},\n",
        " {'epoch': 1113,\n",
        "  'train_loss': 0.0062293648,\n",
        "  'valid_accuracy': 0.0080588907,\n",
        "  'valid_loss': 0.0080588907},\n",
        " {'epoch': 1114,\n",
        "  'train_loss': 0.0063115726,\n",
        "  'valid_accuracy': 0.0080704987,\n",
        "  'valid_loss': 0.0080704987},\n",
        " {'epoch': 1115,\n",
        "  'train_loss': 0.0061961599,\n",
        "  'valid_accuracy': 0.0080486313,\n",
        "  'valid_loss': 0.0080486313},\n",
        " {'epoch': 1116,\n",
        "  'train_loss': 0.0062775095,\n",
        "  'valid_accuracy': 0.0080390191,\n",
        "  'valid_loss': 0.0080390191},\n",
        " {'epoch': 1117,\n",
        "  'train_loss': 0.006232006,\n",
        "  'valid_accuracy': 0.0080326581,\n",
        "  'valid_loss': 0.0080326581},\n",
        " {'epoch': 1118,\n",
        "  'train_loss': 0.0062335068,\n",
        "  'valid_accuracy': 0.0080303559,\n",
        "  'valid_loss': 0.0080303559},\n",
        " {'epoch': 1119,\n",
        "  'train_loss': 0.0062021306,\n",
        "  'valid_accuracy': 0.0080583086,\n",
        "  'valid_loss': 0.0080583086},\n",
        " {'epoch': 1120,\n",
        "  'train_loss': 0.0061541256,\n",
        "  'valid_accuracy': 0.0080364076,\n",
        "  'valid_loss': 0.0080364076},\n",
        " {'epoch': 1121,\n",
        "  'train_loss': 0.0062753265,\n",
        "  'valid_accuracy': 0.0080460738,\n",
        "  'valid_loss': 0.0080460738},\n",
        " {'epoch': 1122,\n",
        "  'train_loss': 0.0062897233,\n",
        "  'valid_accuracy': 0.0080226129,\n",
        "  'valid_loss': 0.0080226129},\n",
        " {'epoch': 1123,\n",
        "  'train_loss': 0.0061405711,\n",
        "  'valid_accuracy': 0.0080429045,\n",
        "  'valid_loss': 0.0080429045},\n",
        " {'epoch': 1124,\n",
        "  'train_loss': 0.006288013,\n",
        "  'valid_accuracy': 0.0080353245,\n",
        "  'valid_loss': 0.0080353245},\n",
        " {'epoch': 1125,\n",
        "  'train_loss': 0.0062290193,\n",
        "  'valid_accuracy': 0.0080239493,\n",
        "  'valid_loss': 0.0080239493},\n",
        " {'epoch': 1126,\n",
        "  'train_loss': 0.0061502592,\n",
        "  'valid_accuracy': 0.0080235722,\n",
        "  'valid_loss': 0.0080235722},\n",
        " {'epoch': 1127,\n",
        "  'train_loss': 0.0061676665,\n",
        "  'valid_accuracy': 0.0080524869,\n",
        "  'valid_loss': 0.0080524869},\n",
        " {'epoch': 1128,\n",
        "  'train_loss': 0.0061447881,\n",
        "  'valid_accuracy': 0.008045001,\n",
        "  'valid_loss': 0.008045001},\n",
        " {'epoch': 1129,\n",
        "  'train_loss': 0.006072565,\n",
        "  'valid_accuracy': 0.0080367727,\n",
        "  'valid_loss': 0.0080367727},\n",
        " {'epoch': 1130,\n",
        "  'train_loss': 0.0062319823,\n",
        "  'valid_accuracy': 0.0080342107,\n",
        "  'valid_loss': 0.0080342107},\n",
        " {'epoch': 1131,\n",
        "  'train_loss': 0.0062381453,\n",
        "  'valid_accuracy': 0.0080245212,\n",
        "  'valid_loss': 0.0080245212},\n",
        " {'epoch': 1132,\n",
        "  'train_loss': 0.0061656064,\n",
        "  'valid_accuracy': 0.0080242129,\n",
        "  'valid_loss': 0.0080242129},\n",
        " {'epoch': 1133,\n",
        "  'train_loss': 0.0061400793,\n",
        "  'valid_accuracy': 0.0080263494,\n",
        "  'valid_loss': 0.0080263494},\n",
        " {'epoch': 1134,\n",
        "  'train_loss': 0.0061941915,\n",
        "  'valid_accuracy': 0.008031874,\n",
        "  'valid_loss': 0.008031874},\n",
        " {'epoch': 1135,\n",
        "  'train_loss': 0.0061768019,\n",
        "  'valid_accuracy': 0.0080051934,\n",
        "  'valid_loss': 0.0080051934},\n",
        " {'epoch': 1136,\n",
        "  'train_loss': 0.0061513982,\n",
        "  'valid_accuracy': 0.0080310591,\n",
        "  'valid_loss': 0.0080310591},\n",
        " {'epoch': 1137,\n",
        "  'train_loss': 0.0060798018,\n",
        "  'valid_accuracy': 0.0080340607,\n",
        "  'valid_loss': 0.0080340607},\n",
        " {'epoch': 1138,\n",
        "  'train_loss': 0.0061809509,\n",
        "  'valid_accuracy': 0.008016604,\n",
        "  'valid_loss': 0.008016604},\n",
        " {'epoch': 1139,\n",
        "  'train_loss': 0.0061790189,\n",
        "  'valid_accuracy': 0.0080215679,\n",
        "  'valid_loss': 0.0080215679},\n",
        " {'epoch': 1140,\n",
        "  'train_loss': 0.0061282488,\n",
        "  'valid_accuracy': 0.0080064433,\n",
        "  'valid_loss': 0.0080064433},\n",
        " {'epoch': 1141,\n",
        "  'train_loss': 0.0061313785,\n",
        "  'valid_accuracy': 0.00801122,\n",
        "  'valid_loss': 0.00801122},\n",
        " {'epoch': 1142,\n",
        "  'train_loss': 0.0060764658,\n",
        "  'valid_accuracy': 0.0080075962,\n",
        "  'valid_loss': 0.0080075962},\n",
        " {'epoch': 1143,\n",
        "  'train_loss': 0.006192856,\n",
        "  'valid_accuracy': 0.0080101388,\n",
        "  'valid_loss': 0.0080101388},\n",
        " {'epoch': 1144,\n",
        "  'train_loss': 0.0061057373,\n",
        "  'valid_accuracy': 0.0079864785,\n",
        "  'valid_loss': 0.0079864785},\n",
        " {'epoch': 1145,\n",
        "  'train_loss': 0.0061240499,\n",
        "  'valid_accuracy': 0.0080072153,\n",
        "  'valid_loss': 0.0080072153},\n",
        " {'epoch': 1146,\n",
        "  'train_loss': 0.0061120535,\n",
        "  'valid_accuracy': 0.0080087967,\n",
        "  'valid_loss': 0.0080087967},\n",
        " {'epoch': 1147,\n",
        "  'train_loss': 0.0060494132,\n",
        "  'valid_accuracy': 0.0079876678,\n",
        "  'valid_loss': 0.0079876678},\n",
        " {'epoch': 1148,\n",
        "  'train_loss': 0.0060895174,\n",
        "  'valid_accuracy': 0.0079974812,\n",
        "  'valid_loss': 0.0079974812},\n",
        " {'epoch': 1149,\n",
        "  'train_loss': 0.0060307095,\n",
        "  'valid_accuracy': 0.0080135688,\n",
        "  'valid_loss': 0.0080135688},\n",
        " {'epoch': 1150,\n",
        "  'train_loss': 0.0060380138,\n",
        "  'valid_accuracy': 0.0080038328,\n",
        "  'valid_loss': 0.0080038328},\n",
        " {'epoch': 1151,\n",
        "  'train_loss': 0.0060498104,\n",
        "  'valid_accuracy': 0.0080063893,\n",
        "  'valid_loss': 0.0080063893},\n",
        " {'epoch': 1152,\n",
        "  'train_loss': 0.0060612503,\n",
        "  'valid_accuracy': 0.0080037639,\n",
        "  'valid_loss': 0.0080037639},\n",
        " {'epoch': 1153,\n",
        "  'train_loss': 0.0060523031,\n",
        "  'valid_accuracy': 0.0079916492,\n",
        "  'valid_loss': 0.0079916492},\n",
        " {'epoch': 1154,\n",
        "  'train_loss': 0.0060868063,\n",
        "  'valid_accuracy': 0.0079935389,\n",
        "  'valid_loss': 0.0079935389},\n",
        " {'epoch': 1155,\n",
        "  'train_loss': 0.0060071717,\n",
        "  'valid_accuracy': 0.0079815546,\n",
        "  'valid_loss': 0.0079815546},\n",
        " {'epoch': 1156,\n",
        "  'train_loss': 0.0060289674,\n",
        "  'valid_accuracy': 0.0079763466,\n",
        "  'valid_loss': 0.0079763466},\n",
        " {'epoch': 1157,\n",
        "  'train_loss': 0.006025305,\n",
        "  'valid_accuracy': 0.007966144,\n",
        "  'valid_loss': 0.007966144},\n",
        " {'epoch': 1158,\n",
        "  'train_loss': 0.0060180365,\n",
        "  'valid_accuracy': 0.0079904199,\n",
        "  'valid_loss': 0.0079904199},\n",
        " {'epoch': 1159,\n",
        "  'train_loss': 0.0060542771,\n",
        "  'valid_accuracy': 0.0080013527,\n",
        "  'valid_loss': 0.0080013527},\n",
        " {'epoch': 1160,\n",
        "  'train_loss': 0.0060337214,\n",
        "  'valid_accuracy': 0.0079830159,\n",
        "  'valid_loss': 0.0079830159},\n",
        " {'epoch': 1161,\n",
        "  'train_loss': 0.006004367,\n",
        "  'valid_accuracy': 0.0080209244,\n",
        "  'valid_loss': 0.0080209244},\n",
        " {'epoch': 1162,\n",
        "  'train_loss': 0.0059259543,\n",
        "  'valid_accuracy': 0.0079925973,\n",
        "  'valid_loss': 0.0079925973},\n",
        " {'epoch': 1163,\n",
        "  'train_loss': 0.0059919483,\n",
        "  'valid_accuracy': 0.0079803374,\n",
        "  'valid_loss': 0.0079803374},\n",
        " {'epoch': 1164,\n",
        "  'train_loss': 0.0059745586,\n",
        "  'valid_accuracy': 0.0079894252,\n",
        "  'valid_loss': 0.0079894252},\n",
        " {'epoch': 1165,\n",
        "  'train_loss': 0.0058853691,\n",
        "  'valid_accuracy': 0.0079725189,\n",
        "  'valid_loss': 0.0079725189},\n",
        " {'epoch': 1166,\n",
        "  'train_loss': 0.0059536467,\n",
        "  'valid_accuracy': 0.0079714805,\n",
        "  'valid_loss': 0.0079714805},\n",
        " {'epoch': 1167,\n",
        "  'train_loss': 0.0060017025,\n",
        "  'valid_accuracy': 0.007980098,\n",
        "  'valid_loss': 0.007980098},\n",
        " {'epoch': 1168,\n",
        "  'train_loss': 0.0059814304,\n",
        "  'valid_accuracy': 0.0079755206,\n",
        "  'valid_loss': 0.0079755206},\n",
        " {'epoch': 1169,\n",
        "  'train_loss': 0.0059497985,\n",
        "  'valid_accuracy': 0.0079802014,\n",
        "  'valid_loss': 0.0079802014},\n",
        " {'epoch': 1170,\n",
        "  'train_loss': 0.005975998,\n",
        "  'valid_accuracy': 0.0079692248,\n",
        "  'valid_loss': 0.0079692248},\n",
        " {'epoch': 1171,\n",
        "  'train_loss': 0.0058626933,\n",
        "  'valid_accuracy': 0.007975949,\n",
        "  'valid_loss': 0.007975949},\n",
        " {'epoch': 1172,\n",
        "  'train_loss': 0.0059071211,\n",
        "  'valid_accuracy': 0.0079830186,\n",
        "  'valid_loss': 0.0079830186},\n",
        " {'epoch': 1173,\n",
        "  'train_loss': 0.0058912388,\n",
        "  'valid_accuracy': 0.00798616,\n",
        "  'valid_loss': 0.00798616},\n",
        " {'epoch': 1174,\n",
        "  'train_loss': 0.0059509394,\n",
        "  'valid_accuracy': 0.007967894,\n",
        "  'valid_loss': 0.007967894},\n",
        " {'epoch': 1175,\n",
        "  'train_loss': 0.005955196,\n",
        "  'valid_accuracy': 0.0079710139,\n",
        "  'valid_loss': 0.0079710139},\n",
        " {'epoch': 1176,\n",
        "  'train_loss': 0.0059099407,\n",
        "  'valid_accuracy': 0.0079629999,\n",
        "  'valid_loss': 0.0079629999},\n",
        " {'epoch': 1177,\n",
        "  'train_loss': 0.0058550229,\n",
        "  'valid_accuracy': 0.0079585016,\n",
        "  'valid_loss': 0.0079585016},\n",
        " {'epoch': 1178,\n",
        "  'train_loss': 0.0059169051,\n",
        "  'valid_accuracy': 0.0079719741,\n",
        "  'valid_loss': 0.0079719741},\n",
        " {'epoch': 1179,\n",
        "  'train_loss': 0.0059015225,\n",
        "  'valid_accuracy': 0.0079793651,\n",
        "  'valid_loss': 0.0079793651},\n",
        " {'epoch': 1180,\n",
        "  'train_loss': 0.0058770659,\n",
        "  'valid_accuracy': 0.0079798754,\n",
        "  'valid_loss': 0.0079798754},\n",
        " {'epoch': 1181,\n",
        "  'train_loss': 0.0058742678,\n",
        "  'valid_accuracy': 0.0079616522,\n",
        "  'valid_loss': 0.0079616522},\n",
        " {'epoch': 1182,\n",
        "  'train_loss': 0.0058438894,\n",
        "  'valid_accuracy': 0.0079485355,\n",
        "  'valid_loss': 0.0079485355},\n",
        " {'epoch': 1183,\n",
        "  'train_loss': 0.005809905,\n",
        "  'valid_accuracy': 0.0079602739,\n",
        "  'valid_loss': 0.0079602739},\n",
        " {'epoch': 1184,\n",
        "  'train_loss': 0.0058604507,\n",
        "  'valid_accuracy': 0.007962428,\n",
        "  'valid_loss': 0.007962428},\n",
        " {'epoch': 1185,\n",
        "  'train_loss': 0.0059441556,\n",
        "  'valid_accuracy': 0.0079622641,\n",
        "  'valid_loss': 0.0079622641},\n",
        " {'epoch': 1186,\n",
        "  'train_loss': 0.0058677113,\n",
        "  'valid_accuracy': 0.0079645459,\n",
        "  'valid_loss': 0.0079645459},\n",
        " {'epoch': 1187,\n",
        "  'train_loss': 0.0058832248,\n",
        "  'valid_accuracy': 0.0079679238,\n",
        "  'valid_loss': 0.0079679238},\n",
        " {'epoch': 1188,\n",
        "  'train_loss': 0.0058075245,\n",
        "  'valid_accuracy': 0.0079773627,\n",
        "  'valid_loss': 0.0079773627},\n",
        " {'epoch': 1189,\n",
        "  'train_loss': 0.0058176136,\n",
        "  'valid_accuracy': 0.0079527507,\n",
        "  'valid_loss': 0.0079527507},\n",
        " {'epoch': 1190,\n",
        "  'train_loss': 0.0057946881,\n",
        "  'valid_accuracy': 0.0079516144,\n",
        "  'valid_loss': 0.0079516144},\n",
        " {'epoch': 1191,\n",
        "  'train_loss': 0.005818639,\n",
        "  'valid_accuracy': 0.0079400996,\n",
        "  'valid_loss': 0.0079400996},\n",
        " {'epoch': 1192,\n",
        "  'train_loss': 0.0058196657,\n",
        "  'valid_accuracy': 0.007943118,\n",
        "  'valid_loss': 0.007943118},\n",
        " {'epoch': 1193,\n",
        "  'train_loss': 0.0058489307,\n",
        "  'valid_accuracy': 0.0079324469,\n",
        "  'valid_loss': 0.0079324469},\n",
        " {'epoch': 1194,\n",
        "  'train_loss': 0.0058108717,\n",
        "  'valid_accuracy': 0.0079470929,\n",
        "  'valid_loss': 0.0079470929},\n",
        " {'epoch': 1195,\n",
        "  'train_loss': 0.0058123306,\n",
        "  'valid_accuracy': 0.0079396004,\n",
        "  'valid_loss': 0.0079396004},\n",
        " {'epoch': 1196,\n",
        "  'train_loss': 0.0057828478,\n",
        "  'valid_accuracy': 0.0079512363,\n",
        "  'valid_loss': 0.0079512363},\n",
        " {'epoch': 1197,\n",
        "  'train_loss': 0.0058183814,\n",
        "  'valid_accuracy': 0.0079402309,\n",
        "  'valid_loss': 0.0079402309},\n",
        " {'epoch': 1198,\n",
        "  'train_loss': 0.0057572061,\n",
        "  'valid_accuracy': 0.0079369927,\n",
        "  'valid_loss': 0.0079369927},\n",
        " {'epoch': 1199,\n",
        "  'train_loss': 0.0057891961,\n",
        "  'valid_accuracy': 0.0079326993,\n",
        "  'valid_loss': 0.0079326993},\n",
        " {'epoch': 1200,\n",
        "  'train_loss': 0.0058234697,\n",
        "  'valid_accuracy': 0.0079199756,\n",
        "  'valid_loss': 0.0079199756},\n",
        " {'epoch': 1201,\n",
        "  'train_loss': 0.0056624026,\n",
        "  'valid_accuracy': 0.0079221055,\n",
        "  'valid_loss': 0.0079221055},\n",
        " {'epoch': 1202,\n",
        "  'train_loss': 0.0057271915,\n",
        "  'valid_accuracy': 0.0079402523,\n",
        "  'valid_loss': 0.0079402523},\n",
        " {'epoch': 1203,\n",
        "  'train_loss': 0.0058284951,\n",
        "  'valid_accuracy': 0.0079348767,\n",
        "  'valid_loss': 0.0079348767},\n",
        " {'epoch': 1204,\n",
        "  'train_loss': 0.0056778546,\n",
        "  'valid_accuracy': 0.0079109073,\n",
        "  'valid_loss': 0.0079109073},\n",
        " {'epoch': 1205,\n",
        "  'train_loss': 0.005759534,\n",
        "  'valid_accuracy': 0.0079147741,\n",
        "  'valid_loss': 0.0079147741},\n",
        " {'epoch': 1206,\n",
        "  'train_loss': 0.0057037948,\n",
        "  'valid_accuracy': 0.0079322532,\n",
        "  'valid_loss': 0.0079322532},\n",
        " {'epoch': 1207,\n",
        "  'train_loss': 0.005722906,\n",
        "  'valid_accuracy': 0.0079264725,\n",
        "  'valid_loss': 0.0079264725},\n",
        " {'epoch': 1208,\n",
        "  'train_loss': 0.0056819748,\n",
        "  'valid_accuracy': 0.007935198,\n",
        "  'valid_loss': 0.007935198},\n",
        " {'epoch': 1209,\n",
        "  'train_loss': 0.0056737452,\n",
        "  'valid_accuracy': 0.0079431739,\n",
        "  'valid_loss': 0.0079431739},\n",
        " {'epoch': 1210,\n",
        "  'train_loss': 0.0057182652,\n",
        "  'valid_accuracy': 0.0079347864,\n",
        "  'valid_loss': 0.0079347864},\n",
        " {'epoch': 1211,\n",
        "  'train_loss': 0.0057489141,\n",
        "  'valid_accuracy': 0.0079241656,\n",
        "  'valid_loss': 0.0079241656},\n",
        " {'epoch': 1212,\n",
        "  'train_loss': 0.0057982495,\n",
        "  'valid_accuracy': 0.0079389084,\n",
        "  'valid_loss': 0.0079389084},\n",
        " {'epoch': 1213,\n",
        "  'train_loss': 0.005690597,\n",
        "  'valid_accuracy': 0.0079322951,\n",
        "  'valid_loss': 0.0079322951},\n",
        " {'epoch': 1214,\n",
        "  'train_loss': 0.0057025994,\n",
        "  'valid_accuracy': 0.0079347808,\n",
        "  'valid_loss': 0.0079347808},\n",
        " {'epoch': 1215,\n",
        "  'train_loss': 0.0057164016,\n",
        "  'valid_accuracy': 0.0079146158,\n",
        "  'valid_loss': 0.0079146158},\n",
        " {'epoch': 1216,\n",
        "  'train_loss': 0.0057251463,\n",
        "  'valid_accuracy': 0.0079208659,\n",
        "  'valid_loss': 0.0079208659},\n",
        " {'epoch': 1217,\n",
        "  'train_loss': 0.0056367046,\n",
        "  'valid_accuracy': 0.0079148402,\n",
        "  'valid_loss': 0.0079148402},\n",
        " {'epoch': 1218,\n",
        "  'train_loss': 0.0056094844,\n",
        "  'valid_accuracy': 0.0079054944,\n",
        "  'valid_loss': 0.0079054944},\n",
        " {'epoch': 1219,\n",
        "  'train_loss': 0.0056491164,\n",
        "  'valid_accuracy': 0.0079387706,\n",
        "  'valid_loss': 0.0079387706},\n",
        " {'epoch': 1220,\n",
        "  'train_loss': 0.0056810686,\n",
        "  'valid_accuracy': 0.0079313675,\n",
        "  'valid_loss': 0.0079313675},\n",
        " {'epoch': 1221,\n",
        "  'train_loss': 0.0056398599,\n",
        "  'valid_accuracy': 0.0079303095,\n",
        "  'valid_loss': 0.0079303095},\n",
        " {'epoch': 1222,\n",
        "  'train_loss': 0.0055930065,\n",
        "  'valid_accuracy': 0.0079229437,\n",
        "  'valid_loss': 0.0079229437},\n",
        " {'epoch': 1223,\n",
        "  'train_loss': 0.0056701461,\n",
        "  'valid_accuracy': 0.0079181613,\n",
        "  'valid_loss': 0.0079181613},\n",
        " {'epoch': 1224,\n",
        "  'train_loss': 0.0057102088,\n",
        "  'valid_accuracy': 0.0079038385,\n",
        "  'valid_loss': 0.0079038385},\n",
        " {'epoch': 1225,\n",
        "  'train_loss': 0.0057136212,\n",
        "  'valid_accuracy': 0.0079126023,\n",
        "  'valid_loss': 0.0079126023},\n",
        " {'epoch': 1226,\n",
        "  'train_loss': 0.0056595723,\n",
        "  'valid_accuracy': 0.0079156663,\n",
        "  'valid_loss': 0.0079156663},\n",
        " {'epoch': 1227,\n",
        "  'train_loss': 0.0055577904,\n",
        "  'valid_accuracy': 0.0079052923,\n",
        "  'valid_loss': 0.0079052923},\n",
        " {'epoch': 1228,\n",
        "  'train_loss': 0.0056724898,\n",
        "  'valid_accuracy': 0.0079084774,\n",
        "  'valid_loss': 0.0079084774},\n",
        " {'epoch': 1229,\n",
        "  'train_loss': 0.0056829108,\n",
        "  'valid_accuracy': 0.0079168836,\n",
        "  'valid_loss': 0.0079168836},\n",
        " {'epoch': 1230,\n",
        "  'train_loss': 0.005580402,\n",
        "  'valid_accuracy': 0.0079045882,\n",
        "  'valid_loss': 0.0079045882},\n",
        " {'epoch': 1231,\n",
        "  'train_loss': 0.0056154658,\n",
        "  'valid_accuracy': 0.0079137422,\n",
        "  'valid_loss': 0.0079137422},\n",
        " {'epoch': 1232,\n",
        "  'train_loss': 0.0056294412,\n",
        "  'valid_accuracy': 0.0078975745,\n",
        "  'valid_loss': 0.0078975745},\n",
        " {'epoch': 1233,\n",
        "  'train_loss': 0.005601082,\n",
        "  'valid_accuracy': 0.0079191495,\n",
        "  'valid_loss': 0.0079191495},\n",
        " {'epoch': 1234,\n",
        "  'train_loss': 0.0055586435,\n",
        "  'valid_accuracy': 0.007904239,\n",
        "  'valid_loss': 0.007904239},\n",
        " {'epoch': 1235,\n",
        "  'train_loss': 0.0056002056,\n",
        "  'valid_accuracy': 0.0079049608,\n",
        "  'valid_loss': 0.0079049608},\n",
        " {'epoch': 1236,\n",
        "  'train_loss': 0.0055830814,\n",
        "  'valid_accuracy': 0.0078963423,\n",
        "  'valid_loss': 0.0078963423},\n",
        " {'epoch': 1237,\n",
        "  'train_loss': 0.0055980734,\n",
        "  'valid_accuracy': 0.0079127206,\n",
        "  'valid_loss': 0.0079127206},\n",
        " {'epoch': 1238,\n",
        "  'train_loss': 0.0055634365,\n",
        "  'valid_accuracy': 0.0079115797,\n",
        "  'valid_loss': 0.0079115797},\n",
        " {'epoch': 1239,\n",
        "  'train_loss': 0.0055428753,\n",
        "  'valid_accuracy': 0.0079072462,\n",
        "  'valid_loss': 0.0079072462},\n",
        " {'epoch': 1240,\n",
        "  'train_loss': 0.005576544,\n",
        "  'valid_accuracy': 0.0079130679,\n",
        "  'valid_loss': 0.0079130679},\n",
        " {'epoch': 1241,\n",
        "  'train_loss': 0.0055756466,\n",
        "  'valid_accuracy': 0.0078989482,\n",
        "  'valid_loss': 0.0078989482},\n",
        " {'epoch': 1242,\n",
        "  'train_loss': 0.005578408,\n",
        "  'valid_accuracy': 0.0078780437,\n",
        "  'valid_loss': 0.0078780437},\n",
        " {'epoch': 1243,\n",
        "  'train_loss': 0.0055214134,\n",
        "  'valid_accuracy': 0.0079086777,\n",
        "  'valid_loss': 0.0079086777},\n",
        " {'epoch': 1244,\n",
        "  'train_loss': 0.0055386424,\n",
        "  'valid_accuracy': 0.0078856694,\n",
        "  'valid_loss': 0.0078856694},\n",
        " {'epoch': 1245,\n",
        "  'train_loss': 0.0055927085,\n",
        "  'valid_accuracy': 0.0078922464,\n",
        "  'valid_loss': 0.0078922464},\n",
        " {'epoch': 1246,\n",
        "  'train_loss': 0.0055494504,\n",
        "  'valid_accuracy': 0.0078896889,\n",
        "  'valid_loss': 0.0078896889},\n",
        " {'epoch': 1247,\n",
        "  'train_loss': 0.0054950952,\n",
        "  'valid_accuracy': 0.0078910422,\n",
        "  'valid_loss': 0.0078910422},\n",
        " {'epoch': 1248,\n",
        "  'train_loss': 0.0055050715,\n",
        "  'valid_accuracy': 0.0079275798,\n",
        "  'valid_loss': 0.0079275798},\n",
        " {'epoch': 1249,\n",
        "  'train_loss': 0.0055609429,\n",
        "  'valid_accuracy': 0.0079038758,\n",
        "  'valid_loss': 0.0079038758},\n",
        " {'epoch': 1250,\n",
        "  'train_loss': 0.0055009685,\n",
        "  'valid_accuracy': 0.0079063717,\n",
        "  'valid_loss': 0.0079063717},\n",
        " {'epoch': 1251,\n",
        "  'train_loss': 0.0054827831,\n",
        "  'valid_accuracy': 0.0078959065,\n",
        "  'valid_loss': 0.0078959065},\n",
        " {'epoch': 1252,\n",
        "  'train_loss': 0.0054758368,\n",
        "  'valid_accuracy': 0.0079029845,\n",
        "  'valid_loss': 0.0079029845},\n",
        " {'epoch': 1253,\n",
        "  'train_loss': 0.0054677906,\n",
        "  'valid_accuracy': 0.0079184575,\n",
        "  'valid_loss': 0.0079184575},\n",
        " {'epoch': 1254,\n",
        "  'train_loss': 0.0055293008,\n",
        "  'valid_accuracy': 0.007904781,\n",
        "  'valid_loss': 0.007904781},\n",
        " {'epoch': 1255,\n",
        "  'train_loss': 0.0054168692,\n",
        "  'valid_accuracy': 0.0078991819,\n",
        "  'valid_loss': 0.0078991819},\n",
        " {'epoch': 1256,\n",
        "  'train_loss': 0.0054806704,\n",
        "  'valid_accuracy': 0.0079027899,\n",
        "  'valid_loss': 0.0079027899},\n",
        " {'epoch': 1257,\n",
        "  'train_loss': 0.0054592942,\n",
        "  'valid_accuracy': 0.007878786,\n",
        "  'valid_loss': 0.007878786},\n",
        " {'epoch': 1258,\n",
        "  'train_loss': 0.0054753632,\n",
        "  'valid_accuracy': 0.0078780912,\n",
        "  'valid_loss': 0.0078780912},\n",
        " {'epoch': 1259,\n",
        "  'train_loss': 0.0054037017,\n",
        "  'valid_accuracy': 0.0078708129,\n",
        "  'valid_loss': 0.0078708129},\n",
        " {'epoch': 1260,\n",
        "  'train_loss': 0.0054696868,\n",
        "  'valid_accuracy': 0.0078787999,\n",
        "  'valid_loss': 0.0078787999},\n",
        " {'epoch': 1261,\n",
        "  'train_loss': 0.0054893633,\n",
        "  'valid_accuracy': 0.0078937951,\n",
        "  'valid_loss': 0.0078937951},\n",
        " {'epoch': 1262,\n",
        "  'train_loss': 0.0054759774,\n",
        "  'valid_accuracy': 0.0078862682,\n",
        "  'valid_loss': 0.0078862682},\n",
        " {'epoch': 1263,\n",
        "  'train_loss': 0.0054833824,\n",
        "  'valid_accuracy': 0.007874188,\n",
        "  'valid_loss': 0.007874188},\n",
        " {'epoch': 1264,\n",
        "  'train_loss': 0.0054210443,\n",
        "  'valid_accuracy': 0.0078750066,\n",
        "  'valid_loss': 0.0078750066},\n",
        " {'epoch': 1265,\n",
        "  'train_loss': 0.0054278262,\n",
        "  'valid_accuracy': 0.0078908606,\n",
        "  'valid_loss': 0.0078908606},\n",
        " {'epoch': 1266,\n",
        "  'train_loss': 0.0053968588,\n",
        "  'valid_accuracy': 0.0078896126,\n",
        "  'valid_loss': 0.0078896126},\n",
        " {'epoch': 1267,\n",
        "  'train_loss': 0.0054235025,\n",
        "  'valid_accuracy': 0.0078814412,\n",
        "  'valid_loss': 0.0078814412},\n",
        " {'epoch': 1268,\n",
        "  'train_loss': 0.0054101539,\n",
        "  'valid_accuracy': 0.0078965304,\n",
        "  'valid_loss': 0.0078965304},\n",
        " {'epoch': 1269,\n",
        "  'train_loss': 0.0054601487,\n",
        "  'valid_accuracy': 0.007889132,\n",
        "  'valid_loss': 0.007889132},\n",
        " {'epoch': 1270,\n",
        "  'train_loss': 0.0054017324,\n",
        "  'valid_accuracy': 0.0078806337,\n",
        "  'valid_loss': 0.0078806337},\n",
        " {'epoch': 1271,\n",
        "  'train_loss': 0.0054324963,\n",
        "  'valid_accuracy': 0.0078811552,\n",
        "  'valid_loss': 0.0078811552},\n",
        " {'epoch': 1272,\n",
        "  'train_loss': 0.0054227188,\n",
        "  'valid_accuracy': 0.0078766318,\n",
        "  'valid_loss': 0.0078766318},\n",
        " {'epoch': 1273,\n",
        "  'train_loss': 0.0053955889,\n",
        "  'valid_accuracy': 0.0078706229,\n",
        "  'valid_loss': 0.0078706229},\n",
        " {'epoch': 1274,\n",
        "  'train_loss': 0.0054614041,\n",
        "  'valid_accuracy': 0.00787686,\n",
        "  'valid_loss': 0.00787686},\n",
        " {'epoch': 1275,\n",
        "  'train_loss': 0.0053901225,\n",
        "  'valid_accuracy': 0.0078657707,\n",
        "  'valid_loss': 0.0078657707},\n",
        " {'epoch': 1276,\n",
        "  'train_loss': 0.0054446566,\n",
        "  'valid_accuracy': 0.0078618778,\n",
        "  'valid_loss': 0.0078618778},\n",
        " {'epoch': 1277,\n",
        "  'train_loss': 0.0054286225,\n",
        "  'valid_accuracy': 0.0078830291,\n",
        "  'valid_loss': 0.0078830291},\n",
        " {'epoch': 1278,\n",
        "  'train_loss': 0.0054681413,\n",
        "  'valid_accuracy': 0.0078710951,\n",
        "  'valid_loss': 0.0078710951},\n",
        " {'epoch': 1279,\n",
        "  'train_loss': 0.005334924,\n",
        "  'valid_accuracy': 0.0078531904,\n",
        "  'valid_loss': 0.0078531904},\n",
        " {'epoch': 1280,\n",
        "  'train_loss': 0.0053299731,\n",
        "  'valid_accuracy': 0.0078654923,\n",
        "  'valid_loss': 0.0078654923},\n",
        " {'epoch': 1281,\n",
        "  'train_loss': 0.0053998558,\n",
        "  'valid_accuracy': 0.0078734783,\n",
        "  'valid_loss': 0.0078734783},\n",
        " {'epoch': 1282,\n",
        "  'train_loss': 0.0054229852,\n",
        "  'valid_accuracy': 0.0078551918,\n",
        "  'valid_loss': 0.0078551918},\n",
        " {'epoch': 1283,\n",
        "  'train_loss': 0.0052679237,\n",
        "  'valid_accuracy': 0.0078630205,\n",
        "  'valid_loss': 0.0078630205},\n",
        " {'epoch': 1284,\n",
        "  'train_loss': 0.005344966,\n",
        "  'valid_accuracy': 0.0078554284,\n",
        "  'valid_loss': 0.0078554284},\n",
        " {'epoch': 1285,\n",
        "  'train_loss': 0.0053646113,\n",
        "  'valid_accuracy': 0.0078517003,\n",
        "  'valid_loss': 0.0078517003},\n",
        " {'epoch': 1286,\n",
        "  'train_loss': 0.0053383447,\n",
        "  'valid_accuracy': 0.0078531019,\n",
        "  'valid_loss': 0.0078531019},\n",
        " {'epoch': 1287,\n",
        "  'train_loss': 0.0053097317,\n",
        "  'valid_accuracy': 0.0078652678,\n",
        "  'valid_loss': 0.0078652678},\n",
        " {'epoch': 1288,\n",
        "  'train_loss': 0.0054475702,\n",
        "  'valid_accuracy': 0.0078400299,\n",
        "  'valid_loss': 0.0078400299},\n",
        " {'epoch': 1289,\n",
        "  'train_loss': 0.0052716974,\n",
        "  'valid_accuracy': 0.0078460323,\n",
        "  'valid_loss': 0.0078460323},\n",
        " {'epoch': 1290,\n",
        "  'train_loss': 0.0053445031,\n",
        "  'valid_accuracy': 0.0078339316,\n",
        "  'valid_loss': 0.0078339316},\n",
        " {'epoch': 1291,\n",
        "  'train_loss': 0.0052980212,\n",
        "  'valid_accuracy': 0.0078447312,\n",
        "  'valid_loss': 0.0078447312},\n",
        " {'epoch': 1292,\n",
        "  'train_loss': 0.0053634737,\n",
        "  'valid_accuracy': 0.0078614168,\n",
        "  'valid_loss': 0.0078614168},\n",
        " {'epoch': 1293,\n",
        "  'train_loss': 0.0052703721,\n",
        "  'valid_accuracy': 0.0078679966,\n",
        "  'valid_loss': 0.0078679966},\n",
        " {'epoch': 1294,\n",
        "  'train_loss': 0.0053357459,\n",
        "  'valid_accuracy': 0.0078640478,\n",
        "  'valid_loss': 0.0078640478},\n",
        " {'epoch': 1295,\n",
        "  'train_loss': 0.0053384593,\n",
        "  'valid_accuracy': 0.0078481641,\n",
        "  'valid_loss': 0.0078481641},\n",
        " {'epoch': 1296,\n",
        "  'train_loss': 0.005330998,\n",
        "  'valid_accuracy': 0.0078573357,\n",
        "  'valid_loss': 0.0078573357},\n",
        " {'epoch': 1297,\n",
        "  'train_loss': 0.0053553409,\n",
        "  'valid_accuracy': 0.0078430641,\n",
        "  'valid_loss': 0.0078430641},\n",
        " {'epoch': 1298,\n",
        "  'train_loss': 0.0052822796,\n",
        "  'valid_accuracy': 0.007847595,\n",
        "  'valid_loss': 0.007847595},\n",
        " {'epoch': 1299,\n",
        "  'train_loss': 0.0052882978,\n",
        "  'valid_accuracy': 0.00785759,\n",
        "  'valid_loss': 0.00785759},\n",
        " {'epoch': 1300,\n",
        "  'train_loss': 0.0052724737,\n",
        "  'valid_accuracy': 0.0078505622,\n",
        "  'valid_loss': 0.0078505622},\n",
        " {'epoch': 1301,\n",
        "  'train_loss': 0.0052521741,\n",
        "  'valid_accuracy': 0.007840151,\n",
        "  'valid_loss': 0.007840151},\n",
        " {'epoch': 1302,\n",
        "  'train_loss': 0.0052747177,\n",
        "  'valid_accuracy': 0.0078389123,\n",
        "  'valid_loss': 0.0078389123},\n",
        " {'epoch': 1303,\n",
        "  'train_loss': 0.0053532775,\n",
        "  'valid_accuracy': 0.0078469422,\n",
        "  'valid_loss': 0.0078469422},\n",
        " {'epoch': 1304,\n",
        "  'train_loss': 0.0052548014,\n",
        "  'valid_accuracy': 0.007848327,\n",
        "  'valid_loss': 0.007848327},\n",
        " {'epoch': 1305,\n",
        "  'train_loss': 0.0052757431,\n",
        "  'valid_accuracy': 0.0078756232,\n",
        "  'valid_loss': 0.0078756232},\n",
        " {'epoch': 1306,\n",
        "  'train_loss': 0.0052083973,\n",
        "  'valid_accuracy': 0.0078496207,\n",
        "  'valid_loss': 0.0078496207},\n",
        " {'epoch': 1307,\n",
        "  'train_loss': 0.0052551655,\n",
        "  'valid_accuracy': 0.0078522805,\n",
        "  'valid_loss': 0.0078522805},\n",
        " {'epoch': 1308,\n",
        "  'train_loss': 0.0052923583,\n",
        "  'valid_accuracy': 0.0078487983,\n",
        "  'valid_loss': 0.0078487983},\n",
        " {'epoch': 1309,\n",
        "  'train_loss': 0.0052002282,\n",
        "  'valid_accuracy': 0.0078490218,\n",
        "  'valid_loss': 0.0078490218},\n",
        " {'epoch': 1310,\n",
        "  'train_loss': 0.0051872875,\n",
        "  'valid_accuracy': 0.0078315251,\n",
        "  'valid_loss': 0.0078315251},\n",
        " {'epoch': 1311,\n",
        "  'train_loss': 0.0052180197,\n",
        "  'valid_accuracy': 0.0078371782,\n",
        "  'valid_loss': 0.0078371782},\n",
        " {'epoch': 1312,\n",
        "  'train_loss': 0.0052741985,\n",
        "  'valid_accuracy': 0.007841764,\n",
        "  'valid_loss': 0.007841764},\n",
        " {'epoch': 1313,\n",
        "  'train_loss': 0.0052274484,\n",
        "  'valid_accuracy': 0.0078697829,\n",
        "  'valid_loss': 0.0078697829},\n",
        " {'epoch': 1314,\n",
        "  'train_loss': 0.0051674228,\n",
        "  'valid_accuracy': 0.0078485385,\n",
        "  'valid_loss': 0.0078485385},\n",
        " {'epoch': 1315,\n",
        "  'train_loss': 0.00527533,\n",
        "  'valid_accuracy': 0.0078400038,\n",
        "  'valid_loss': 0.0078400038},\n",
        " {'epoch': 1316,\n",
        "  'train_loss': 0.0052173696,\n",
        "  'valid_accuracy': 0.0078450153,\n",
        "  'valid_loss': 0.0078450153},\n",
        " {'epoch': 1317,\n",
        "  'train_loss': 0.0050936202,\n",
        "  'valid_accuracy': 0.0078601036,\n",
        "  'valid_loss': 0.0078601036},\n",
        " {'epoch': 1318,\n",
        "  'train_loss': 0.0051797815,\n",
        "  'valid_accuracy': 0.0078442143,\n",
        "  'valid_loss': 0.0078442143},\n",
        " {'epoch': 1319,\n",
        "  'train_loss': 0.0051527526,\n",
        "  'valid_accuracy': 0.0078375507,\n",
        "  'valid_loss': 0.0078375507},\n",
        " {'epoch': 1320,\n",
        "  'train_loss': 0.0052221091,\n",
        "  'valid_accuracy': 0.0078510744,\n",
        "  'valid_loss': 0.0078510744},\n",
        " {'epoch': 1321,\n",
        "  'train_loss': 0.005175963,\n",
        "  'valid_accuracy': 0.007846592,\n",
        "  'valid_loss': 0.007846592},\n",
        " {'epoch': 1322,\n",
        "  'train_loss': 0.005224824,\n",
        "  'valid_accuracy': 0.0078447862,\n",
        "  'valid_loss': 0.0078447862},\n",
        " {'epoch': 1323,\n",
        "  'train_loss': 0.0051760138,\n",
        "  'valid_accuracy': 0.0078407312,\n",
        "  'valid_loss': 0.0078407312},\n",
        " {'epoch': 1324,\n",
        "  'train_loss': 0.0052022673,\n",
        "  'valid_accuracy': 0.0078412332,\n",
        "  'valid_loss': 0.0078412332},\n",
        " {'epoch': 1325,\n",
        "  'train_loss': 0.0051374137,\n",
        "  'valid_accuracy': 0.0078497389,\n",
        "  'valid_loss': 0.0078497389},\n",
        " {'epoch': 1326,\n",
        "  'train_loss': 0.0050745346,\n",
        "  'valid_accuracy': 0.0078463741,\n",
        "  'valid_loss': 0.0078463741},\n",
        " {'epoch': 1327,\n",
        "  'train_loss': 0.0051196651,\n",
        "  'valid_accuracy': 0.0078488132,\n",
        "  'valid_loss': 0.0078488132},\n",
        " {'epoch': 1328,\n",
        "  'train_loss': 0.0051974081,\n",
        "  'valid_accuracy': 0.007847487,\n",
        "  'valid_loss': 0.007847487},\n",
        " {'epoch': 1329,\n",
        "  'train_loss': 0.0050499118,\n",
        "  'valid_accuracy': 0.0078445124,\n",
        "  'valid_loss': 0.0078445124},\n",
        " {'epoch': 1330,\n",
        "  'train_loss': 0.0050875098,\n",
        "  'valid_accuracy': 0.0078371931,\n",
        "  'valid_loss': 0.0078371931},\n",
        " {'epoch': 1331,\n",
        "  'train_loss': 0.0051464741,\n",
        "  'valid_accuracy': 0.0078353183,\n",
        "  'valid_loss': 0.0078353183},\n",
        " {'epoch': 1332,\n",
        "  'train_loss': 0.0051196408,\n",
        "  'valid_accuracy': 0.007838509,\n",
        "  'valid_loss': 0.007838509},\n",
        " {'epoch': 1333,\n",
        "  'train_loss': 0.0051239575,\n",
        "  'valid_accuracy': 0.0078386823,\n",
        "  'valid_loss': 0.0078386823},\n",
        " {'epoch': 1334,\n",
        "  'train_loss': 0.0050425022,\n",
        "  'valid_accuracy': 0.0078380276,\n",
        "  'valid_loss': 0.0078380276},\n",
        " {'epoch': 1335,\n",
        "  'train_loss': 0.0050972658,\n",
        "  'valid_accuracy': 0.0078414343,\n",
        "  'valid_loss': 0.0078414343},\n",
        " {'epoch': 1336,\n",
        "  'train_loss': 0.0051479568,\n",
        "  'valid_accuracy': 0.0078340117,\n",
        "  'valid_loss': 0.0078340117},\n",
        " {'epoch': 1337,\n",
        "  'train_loss': 0.0051306207,\n",
        "  'valid_accuracy': 0.0078426609,\n",
        "  'valid_loss': 0.0078426609},\n",
        " {'epoch': 1338,\n",
        "  'train_loss': 0.0051059318,\n",
        "  'valid_accuracy': 0.007842103,\n",
        "  'valid_loss': 0.007842103},\n",
        " {'epoch': 1339,\n",
        "  'train_loss': 0.0051107453,\n",
        "  'valid_accuracy': 0.007831688,\n",
        "  'valid_loss': 0.007831688},\n",
        " {'epoch': 1340,\n",
        "  'train_loss': 0.0050449166,\n",
        "  'valid_accuracy': 0.0078184325,\n",
        "  'valid_loss': 0.0078184325},\n",
        " {'epoch': 1341,\n",
        "  'train_loss': 0.0051140101,\n",
        "  'valid_accuracy': 0.0078372592,\n",
        "  'valid_loss': 0.0078372592},\n",
        " {'epoch': 1342,\n",
        "  'train_loss': 0.0050714901,\n",
        "  'valid_accuracy': 0.0078277271,\n",
        "  'valid_loss': 0.0078277271},\n",
        " {'epoch': 1343,\n",
        "  'train_loss': 0.0050510871,\n",
        "  'valid_accuracy': 0.0078086923,\n",
        "  'valid_loss': 0.0078086923},\n",
        " {'epoch': 1344,\n",
        "  'train_loss': 0.0050660013,\n",
        "  'valid_accuracy': 0.0078405701,\n",
        "  'valid_loss': 0.0078405701},\n",
        " {'epoch': 1345,\n",
        "  'train_loss': 0.0050813518,\n",
        "  'valid_accuracy': 0.0078189429,\n",
        "  'valid_loss': 0.0078189429},\n",
        " {'epoch': 1346,\n",
        "  'train_loss': 0.0050593619,\n",
        "  'valid_accuracy': 0.0078062317,\n",
        "  'valid_loss': 0.0078062317},\n",
        " {'epoch': 1347,\n",
        "  'train_loss': 0.0050844778,\n",
        "  'valid_accuracy': 0.0078100031,\n",
        "  'valid_loss': 0.0078100031},\n",
        " {'epoch': 1348,\n",
        "  'train_loss': 0.0050189127,\n",
        "  'valid_accuracy': 0.0078342967,\n",
        "  'valid_loss': 0.0078342967},\n",
        " {'epoch': 1349,\n",
        "  'train_loss': 0.0049457219,\n",
        "  'valid_accuracy': 0.0078190854,\n",
        "  'valid_loss': 0.0078190854},\n",
        " {'epoch': 1350,\n",
        "  'train_loss': 0.0050728531,\n",
        "  'valid_accuracy': 0.0078325588,\n",
        "  'valid_loss': 0.0078325588},\n",
        " {'epoch': 1351,\n",
        "  'train_loss': 0.0050994945,\n",
        "  'valid_accuracy': 0.0078037544,\n",
        "  'valid_loss': 0.0078037544},\n",
        " {'epoch': 1352,\n",
        "  'train_loss': 0.0050171395,\n",
        "  'valid_accuracy': 0.0078283781,\n",
        "  'valid_loss': 0.0078283781},\n",
        " {'epoch': 1353,\n",
        "  'train_loss': 0.0050025466,\n",
        "  'valid_accuracy': 0.0078068366,\n",
        "  'valid_loss': 0.0078068366},\n",
        " {'epoch': 1354,\n",
        "  'train_loss': 0.0050345557,\n",
        "  'valid_accuracy': 0.007818874,\n",
        "  'valid_loss': 0.007818874},\n",
        " {'epoch': 1355,\n",
        "  'train_loss': 0.0050453269,\n",
        "  'valid_accuracy': 0.0078190621,\n",
        "  'valid_loss': 0.0078190621},\n",
        " {'epoch': 1356,\n",
        "  'train_loss': 0.0049918797,\n",
        "  'valid_accuracy': 0.0078226123,\n",
        "  'valid_loss': 0.0078226123},\n",
        " {'epoch': 1357,\n",
        "  'train_loss': 0.0050779073,\n",
        "  'valid_accuracy': 0.0078264084,\n",
        "  'valid_loss': 0.0078264084},\n",
        " {'epoch': 1358,\n",
        "  'train_loss': 0.0050682961,\n",
        "  'valid_accuracy': 0.0078274449,\n",
        "  'valid_loss': 0.0078274449},\n",
        " {'epoch': 1359,\n",
        "  'train_loss': 0.0050657922,\n",
        "  'valid_accuracy': 0.0078287972,\n",
        "  'valid_loss': 0.0078287972},\n",
        " {'epoch': 1360,\n",
        "  'train_loss': 0.0049572103,\n",
        "  'valid_accuracy': 0.007812148,\n",
        "  'valid_loss': 0.007812148},\n",
        " {'epoch': 1361,\n",
        "  'train_loss': 0.0051421719,\n",
        "  'valid_accuracy': 0.0078020622,\n",
        "  'valid_loss': 0.0078020622},\n",
        " {'epoch': 1362,\n",
        "  'train_loss': 0.0050257593,\n",
        "  'valid_accuracy': 0.0077994564,\n",
        "  'valid_loss': 0.0077994564},\n",
        " {'epoch': 1363,\n",
        "  'train_loss': 0.0049407319,\n",
        "  'valid_accuracy': 0.0077960747,\n",
        "  'valid_loss': 0.0077960747},\n",
        " {'epoch': 1364,\n",
        "  'train_loss': 0.0049758279,\n",
        "  'valid_accuracy': 0.0078172162,\n",
        "  'valid_loss': 0.0078172162},\n",
        " {'epoch': 1365,\n",
        "  'train_loss': 0.0050527337,\n",
        "  'valid_accuracy': 0.0078089712,\n",
        "  'valid_loss': 0.0078089712},\n",
        " {'epoch': 1366,\n",
        "  'train_loss': 0.0049869111,\n",
        "  'valid_accuracy': 0.0078143254,\n",
        "  'valid_loss': 0.0078143254},\n",
        " {'epoch': 1367,\n",
        "  'train_loss': 0.0048486772,\n",
        "  'valid_accuracy': 0.0077918265,\n",
        "  'valid_loss': 0.0077918265},\n",
        " {'epoch': 1368,\n",
        "  'train_loss': 0.0049559418,\n",
        "  'valid_accuracy': 0.0078128325,\n",
        "  'valid_loss': 0.0078128325},\n",
        " {'epoch': 1369,\n",
        "  'train_loss': 0.0049670977,\n",
        "  'valid_accuracy': 0.0077977017,\n",
        "  'valid_loss': 0.0077977017},\n",
        " {'epoch': 1370,\n",
        "  'train_loss': 0.0050504664,\n",
        "  'valid_accuracy': 0.0077982629,\n",
        "  'valid_loss': 0.0077982629},\n",
        " {'epoch': 1371,\n",
        "  'train_loss': 0.0049575665,\n",
        "  'valid_accuracy': 0.0078063174,\n",
        "  'valid_loss': 0.0078063174},\n",
        " {'epoch': 1372,\n",
        "  'train_loss': 0.0049899514,\n",
        "  'valid_accuracy': 0.0078108632,\n",
        "  'valid_loss': 0.0078108632},\n",
        " {'epoch': 1373,\n",
        "  'train_loss': 0.0049496614,\n",
        "  'valid_accuracy': 0.0078167049,\n",
        "  'valid_loss': 0.0078167049},\n",
        " {'epoch': 1374,\n",
        "  'train_loss': 0.0049465885,\n",
        "  'valid_accuracy': 0.0078135394,\n",
        "  'valid_loss': 0.0078135394},\n",
        " {'epoch': 1375,\n",
        "  'train_loss': 0.0048945937,\n",
        "  'valid_accuracy': 0.0077979807,\n",
        "  'valid_loss': 0.0077979807},\n",
        " {'epoch': 1376,\n",
        "  'train_loss': 0.0049348334,\n",
        "  'valid_accuracy': 0.0078065991,\n",
        "  'valid_loss': 0.0078065991},\n",
        " {'epoch': 1377,\n",
        "  'train_loss': 0.0049340054,\n",
        "  'valid_accuracy': 0.0077978373,\n",
        "  'valid_loss': 0.0077978373},\n",
        " {'epoch': 1378,\n",
        "  'train_loss': 0.0049129813,\n",
        "  'valid_accuracy': 0.0078033102,\n",
        "  'valid_loss': 0.0078033102},\n",
        " {'epoch': 1379,\n",
        "  'train_loss': 0.0049736551,\n",
        "  'valid_accuracy': 0.0078009912,\n",
        "  'valid_loss': 0.0078009912},\n",
        " {'epoch': 1380,\n",
        "  'train_loss': 0.0048937649,\n",
        "  'valid_accuracy': 0.0078015542,\n",
        "  'valid_loss': 0.0078015542},\n",
        " {'epoch': 1381,\n",
        "  'train_loss': 0.0049089114,\n",
        "  'valid_accuracy': 0.007804946,\n",
        "  'valid_loss': 0.007804946},\n",
        " {'epoch': 1382,\n",
        "  'train_loss': 0.0048598889,\n",
        "  'valid_accuracy': 0.0077971774,\n",
        "  'valid_loss': 0.0077971774},\n",
        " {'epoch': 1383,\n",
        "  'train_loss': 0.0049091037,\n",
        "  'valid_accuracy': 0.0077930442,\n",
        "  'valid_loss': 0.0077930442},\n",
        " {'epoch': 1384,\n",
        "  'train_loss': 0.0048173871,\n",
        "  'valid_accuracy': 0.0078179259,\n",
        "  'valid_loss': 0.0078179259},\n",
        " {'epoch': 1385,\n",
        "  'train_loss': 0.0049102036,\n",
        "  'valid_accuracy': 0.0077744913,\n",
        "  'valid_loss': 0.0077744913},\n",
        " {'epoch': 1386,\n",
        "  'train_loss': 0.0050047683,\n",
        "  'valid_accuracy': 0.0077878451,\n",
        "  'valid_loss': 0.0077878451},\n",
        " {'epoch': 1387,\n",
        "  'train_loss': 0.0048462194,\n",
        "  'valid_accuracy': 0.0077962158,\n",
        "  'valid_loss': 0.0077962158},\n",
        " {'epoch': 1388,\n",
        "  'train_loss': 0.0049356204,\n",
        "  'valid_accuracy': 0.0077905534,\n",
        "  'valid_loss': 0.0077905534},\n",
        " {'epoch': 1389,\n",
        "  'train_loss': 0.004908951,\n",
        "  'valid_accuracy': 0.0077875811,\n",
        "  'valid_loss': 0.0077875811},\n",
        " {'epoch': 1390,\n",
        "  'train_loss': 0.0048479359,\n",
        "  'valid_accuracy': 0.0078007006,\n",
        "  'valid_loss': 0.0078007006},\n",
        " {'epoch': 1391,\n",
        "  'train_loss': 0.0048169359,\n",
        "  'valid_accuracy': 0.0078002419,\n",
        "  'valid_loss': 0.0078002419},\n",
        " {'epoch': 1392,\n",
        "  'train_loss': 0.0048694666,\n",
        "  'valid_accuracy': 0.0078004939,\n",
        "  'valid_loss': 0.0078004939},\n",
        " {'epoch': 1393,\n",
        "  'train_loss': 0.0049368106,\n",
        "  'valid_accuracy': 0.0077971327,\n",
        "  'valid_loss': 0.0077971327},\n",
        " {'epoch': 1394,\n",
        "  'train_loss': 0.0048795766,\n",
        "  'valid_accuracy': 0.0077776858,\n",
        "  'valid_loss': 0.0077776858},\n",
        " {'epoch': 1395,\n",
        "  'train_loss': 0.0049496726,\n",
        "  'valid_accuracy': 0.007784842,\n",
        "  'valid_loss': 0.007784842},\n",
        " {'epoch': 1396,\n",
        "  'train_loss': 0.0049065654,\n",
        "  'valid_accuracy': 0.0077778236,\n",
        "  'valid_loss': 0.0077778236},\n",
        " {'epoch': 1397,\n",
        "  'train_loss': 0.004898435,\n",
        "  'valid_accuracy': 0.007764583,\n",
        "  'valid_loss': 0.007764583},\n",
        " {'epoch': 1398,\n",
        "  'train_loss': 0.0048523848,\n",
        "  'valid_accuracy': 0.0077834753,\n",
        "  'valid_loss': 0.0077834753},\n",
        " {'epoch': 1399,\n",
        "  'train_loss': 0.0048832498,\n",
        "  'valid_accuracy': 0.0077768215,\n",
        "  'valid_loss': 0.0077768215},\n",
        " {'epoch': 1400,\n",
        "  'train_loss': 0.0048365644,\n",
        "  'valid_accuracy': 0.0077874092,\n",
        "  'valid_loss': 0.0077874092},\n",
        " {'epoch': 1401,\n",
        "  'train_loss': 0.0049057491,\n",
        "  'valid_accuracy': 0.0077829417,\n",
        "  'valid_loss': 0.0077829417},\n",
        " {'epoch': 1402,\n",
        "  'train_loss': 0.0049079685,\n",
        "  'valid_accuracy': 0.0077912398,\n",
        "  'valid_loss': 0.0077912398},\n",
        " {'epoch': 1403,\n",
        "  'train_loss': 0.004776706,\n",
        "  'valid_accuracy': 0.0077849678,\n",
        "  'valid_loss': 0.0077849678},\n",
        " {'epoch': 1404,\n",
        "  'train_loss': 0.0048392452,\n",
        "  'valid_accuracy': 0.007780815,\n",
        "  'valid_loss': 0.007780815},\n",
        " {'epoch': 1405,\n",
        "  'train_loss': 0.0047451663,\n",
        "  'valid_accuracy': 0.0077934237,\n",
        "  'valid_loss': 0.0077934237},\n",
        " {'epoch': 1406,\n",
        "  'train_loss': 0.0047940006,\n",
        "  'valid_accuracy': 0.0077768471,\n",
        "  'valid_loss': 0.0077768471},\n",
        " {'epoch': 1407,\n",
        "  'train_loss': 0.0048294212,\n",
        "  'valid_accuracy': 0.0077648,\n",
        "  'valid_loss': 0.0077648},\n",
        " {'epoch': 1408,\n",
        "  'train_loss': 0.0047372761,\n",
        "  'valid_accuracy': 0.0077778767,\n",
        "  'valid_loss': 0.0077778767},\n",
        " {'epoch': 1409,\n",
        "  'train_loss': 0.0047905366,\n",
        "  'valid_accuracy': 0.0077821487,\n",
        "  'valid_loss': 0.0077821487},\n",
        " {'epoch': 1410,\n",
        "  'train_loss': 0.004836184,\n",
        "  'valid_accuracy': 0.0077564837,\n",
        "  'valid_loss': 0.0077564837},\n",
        " {'epoch': 1411,\n",
        "  'train_loss': 0.0048692147,\n",
        "  'valid_accuracy': 0.0077663818,\n",
        "  'valid_loss': 0.0077663818},\n",
        " {'epoch': 1412,\n",
        "  'train_loss': 0.0048142574,\n",
        "  'valid_accuracy': 0.0077744387,\n",
        "  'valid_loss': 0.0077744387},\n",
        " {'epoch': 1413,\n",
        "  'train_loss': 0.0048200996,\n",
        "  'valid_accuracy': 0.0077674538,\n",
        "  'valid_loss': 0.0077674538},\n",
        " {'epoch': 1414,\n",
        "  'train_loss': 0.0048371265,\n",
        "  'valid_accuracy': 0.007786782,\n",
        "  'valid_loss': 0.007786782},\n",
        " {'epoch': 1415,\n",
        "  'train_loss': 0.0047290772,\n",
        "  'valid_accuracy': 0.0077716,\n",
        "  'valid_loss': 0.0077716},\n",
        " {'epoch': 1416,\n",
        "  'train_loss': 0.0047719376,\n",
        "  'valid_accuracy': 0.0077717737,\n",
        "  'valid_loss': 0.0077717737},\n",
        " {'epoch': 1417,\n",
        "  'train_loss': 0.0048584491,\n",
        "  'valid_accuracy': 0.007780422,\n",
        "  'valid_loss': 0.007780422},\n",
        " {'epoch': 1418,\n",
        "  'train_loss': 0.0047135153,\n",
        "  'valid_accuracy': 0.0077786907,\n",
        "  'valid_loss': 0.0077786907},\n",
        " {'epoch': 1419,\n",
        "  'train_loss': 0.0047334787,\n",
        "  'valid_accuracy': 0.0077636042,\n",
        "  'valid_loss': 0.0077636042},\n",
        " {'epoch': 1420,\n",
        "  'train_loss': 0.0048738592,\n",
        "  'valid_accuracy': 0.0077577541,\n",
        "  'valid_loss': 0.0077577541},\n",
        " {'epoch': 1421,\n",
        "  'train_loss': 0.0047441893,\n",
        "  'valid_accuracy': 0.0077774334,\n",
        "  'valid_loss': 0.0077774334},\n",
        " {'epoch': 1422,\n",
        "  'train_loss': 0.0047822101,\n",
        "  'valid_accuracy': 0.0077597173,\n",
        "  'valid_loss': 0.0077597173},\n",
        " {'epoch': 1423,\n",
        "  'train_loss': 0.0047486541,\n",
        "  'valid_accuracy': 0.0077838264,\n",
        "  'valid_loss': 0.0077838264},\n",
        " {'epoch': 1424,\n",
        "  'train_loss': 0.0046894043,\n",
        "  'valid_accuracy': 0.0077702943,\n",
        "  'valid_loss': 0.0077702943},\n",
        " {'epoch': 1425,\n",
        "  'train_loss': 0.0047646593,\n",
        "  'valid_accuracy': 0.0077561,\n",
        "  'valid_loss': 0.0077561},\n",
        " {'epoch': 1426,\n",
        "  'train_loss': 0.0047309985,\n",
        "  'valid_accuracy': 0.0077647716,\n",
        "  'valid_loss': 0.0077647716},\n",
        " {'epoch': 1427,\n",
        "  'train_loss': 0.0047260839,\n",
        "  'valid_accuracy': 0.0077748937,\n",
        "  'valid_loss': 0.0077748937},\n",
        " {'epoch': 1428,\n",
        "  'train_loss': 0.0046946974,\n",
        "  'valid_accuracy': 0.0077656144,\n",
        "  'valid_loss': 0.0077656144},\n",
        " {'epoch': 1429,\n",
        "  'train_loss': 0.0046940744,\n",
        "  'valid_accuracy': 0.0077619255,\n",
        "  'valid_loss': 0.0077619255},\n",
        " {'epoch': 1430,\n",
        "  'train_loss': 0.0047361483,\n",
        "  'valid_accuracy': 0.0077594221,\n",
        "  'valid_loss': 0.0077594221},\n",
        " {'epoch': 1431,\n",
        "  'train_loss': 0.0047656833,\n",
        "  'valid_accuracy': 0.0077616284,\n",
        "  'valid_loss': 0.0077616284},\n",
        " {'epoch': 1432,\n",
        "  'train_loss': 0.0046900818,\n",
        "  'valid_accuracy': 0.0077724117,\n",
        "  'valid_loss': 0.0077724117},\n",
        " {'epoch': 1433,\n",
        "  'train_loss': 0.0047131712,\n",
        "  'valid_accuracy': 0.0077732899,\n",
        "  'valid_loss': 0.0077732899},\n",
        " {'epoch': 1434,\n",
        "  'train_loss': 0.0047423779,\n",
        "  'valid_accuracy': 0.0077691632,\n",
        "  'valid_loss': 0.0077691632},\n",
        " {'epoch': 1435,\n",
        "  'train_loss': 0.0047297203,\n",
        "  'valid_accuracy': 0.0077732573,\n",
        "  'valid_loss': 0.0077732573},\n",
        " {'epoch': 1436,\n",
        "  'train_loss': 0.0047078342,\n",
        "  'valid_accuracy': 0.0077580307,\n",
        "  'valid_loss': 0.0077580307},\n",
        " {'epoch': 1437,\n",
        "  'train_loss': 0.0046728374,\n",
        "  'valid_accuracy': 0.007769349,\n",
        "  'valid_loss': 0.007769349},\n",
        " {'epoch': 1438,\n",
        "  'train_loss': 0.0047819936,\n",
        "  'valid_accuracy': 0.0077737756,\n",
        "  'valid_loss': 0.0077737756},\n",
        " {'epoch': 1439,\n",
        "  'train_loss': 0.0047471677,\n",
        "  'valid_accuracy': 0.0077494867,\n",
        "  'valid_loss': 0.0077494867},\n",
        " {'epoch': 1440,\n",
        "  'train_loss': 0.0046653189,\n",
        "  'valid_accuracy': 0.0077610016,\n",
        "  'valid_loss': 0.0077610016},\n",
        " {'epoch': 1441,\n",
        "  'train_loss': 0.0046503991,\n",
        "  'valid_accuracy': 0.0077636354,\n",
        "  'valid_loss': 0.0077636354},\n",
        " {'epoch': 1442,\n",
        "  'train_loss': 0.0046699368,\n",
        "  'valid_accuracy': 0.0077609918,\n",
        "  'valid_loss': 0.0077609918},\n",
        " {'epoch': 1443,\n",
        "  'train_loss': 0.0046905391,\n",
        "  'valid_accuracy': 0.0077576367,\n",
        "  'valid_loss': 0.0077576367},\n",
        " {'epoch': 1444,\n",
        "  'train_loss': 0.0047028651,\n",
        "  'valid_accuracy': 0.0077615492,\n",
        "  'valid_loss': 0.0077615492},\n",
        " {'epoch': 1445,\n",
        "  'train_loss': 0.0046441914,\n",
        "  'valid_accuracy': 0.0077812863,\n",
        "  'valid_loss': 0.0077812863},\n",
        " {'epoch': 1446,\n",
        "  'train_loss': 0.0046545775,\n",
        "  'valid_accuracy': 0.0077524474,\n",
        "  'valid_loss': 0.0077524474},\n",
        " {'epoch': 1447,\n",
        "  'train_loss': 0.0046693101,\n",
        "  'valid_accuracy': 0.0077542854,\n",
        "  'valid_loss': 0.0077542854},\n",
        " {'epoch': 1448,\n",
        "  'train_loss': 0.0046720961,\n",
        "  'valid_accuracy': 0.0077410801,\n",
        "  'valid_loss': 0.0077410801},\n",
        " {'epoch': 1449,\n",
        "  'train_loss': 0.0046425657,\n",
        "  'valid_accuracy': 0.0077595795,\n",
        "  'valid_loss': 0.0077595795},\n",
        " {'epoch': 1450,\n",
        "  'train_loss': 0.0045943349,\n",
        "  'valid_accuracy': 0.0077580521,\n",
        "  'valid_loss': 0.0077580521},\n",
        " {'epoch': 1451,\n",
        "  'train_loss': 0.0046683685,\n",
        "  'valid_accuracy': 0.0077324682,\n",
        "  'valid_loss': 0.0077324682},\n",
        " {'epoch': 1452,\n",
        "  'train_loss': 0.0046312511,\n",
        "  'valid_accuracy': 0.0077506779,\n",
        "  'valid_loss': 0.0077506779},\n",
        " {'epoch': 1453,\n",
        "  'train_loss': 0.0046343873,\n",
        "  'valid_accuracy': 0.0077507575,\n",
        "  'valid_loss': 0.0077507575},\n",
        " {'epoch': 1454,\n",
        "  'train_loss': 0.0046667666,\n",
        "  'valid_accuracy': 0.007748818,\n",
        "  'valid_loss': 0.007748818},\n",
        " {'epoch': 1455,\n",
        "  'train_loss': 0.0046401536,\n",
        "  'valid_accuracy': 0.0077535934,\n",
        "  'valid_loss': 0.0077535934},\n",
        " {'epoch': 1456,\n",
        "  'train_loss': 0.0046116831,\n",
        "  'valid_accuracy': 0.0077624549,\n",
        "  'valid_loss': 0.0077624549},\n",
        " {'epoch': 1457,\n",
        "  'train_loss': 0.0046398616,\n",
        "  'valid_accuracy': 0.0077986708,\n",
        "  'valid_loss': 0.0077986708},\n",
        " {'epoch': 1458,\n",
        "  'train_loss': 0.0046058926,\n",
        "  'valid_accuracy': 0.0077503445,\n",
        "  'valid_loss': 0.0077503445},\n",
        " {'epoch': 1459,\n",
        "  'train_loss': 0.0047137993,\n",
        "  'valid_accuracy': 0.0077593965,\n",
        "  'valid_loss': 0.0077593965},\n",
        " {'epoch': 1460,\n",
        "  'train_loss': 0.0046294075,\n",
        "  'valid_accuracy': 0.0077524818,\n",
        "  'valid_loss': 0.0077524818},\n",
        " {'epoch': 1461,\n",
        "  'train_loss': 0.0046258867,\n",
        "  'valid_accuracy': 0.007753131,\n",
        "  'valid_loss': 0.007753131},\n",
        " {'epoch': 1462,\n",
        "  'train_loss': 0.0046436922,\n",
        "  'valid_accuracy': 0.0077626719,\n",
        "  'valid_loss': 0.0077626719},\n",
        " {'epoch': 1463,\n",
        "  'train_loss': 0.0045686443,\n",
        "  'valid_accuracy': 0.0077295532,\n",
        "  'valid_loss': 0.0077295532},\n",
        " {'epoch': 1464,\n",
        "  'train_loss': 0.0046190424,\n",
        "  'valid_accuracy': 0.007745632,\n",
        "  'valid_loss': 0.007745632},\n",
        " {'epoch': 1465,\n",
        "  'train_loss': 0.0045653,\n",
        "  'valid_accuracy': 0.0077642393,\n",
        "  'valid_loss': 0.0077642393},\n",
        " {'epoch': 1466,\n",
        "  'train_loss': 0.0045681586,\n",
        "  'valid_accuracy': 0.0077613387,\n",
        "  'valid_loss': 0.0077613387},\n",
        " {'epoch': 1467,\n",
        "  'train_loss': 0.0046542506,\n",
        "  'valid_accuracy': 0.0077588032,\n",
        "  'valid_loss': 0.0077588032},\n",
        " {'epoch': 1468,\n",
        "  'train_loss': 0.0046162298,\n",
        "  'valid_accuracy': 0.0077337297,\n",
        "  'valid_loss': 0.0077337297},\n",
        " {'epoch': 1469,\n",
        "  'train_loss': 0.004537832,\n",
        "  'valid_accuracy': 0.0077628591,\n",
        "  'valid_loss': 0.0077628591},\n",
        " {'epoch': 1470,\n",
        "  'train_loss': 0.0045966511,\n",
        "  'valid_accuracy': 0.0077608339,\n",
        "  'valid_loss': 0.0077608339},\n",
        " {'epoch': 1471,\n",
        "  'train_loss': 0.0046103648,\n",
        "  'valid_accuracy': 0.0077701546,\n",
        "  'valid_loss': 0.0077701546},\n",
        " {'epoch': 1472,\n",
        "  'train_loss': 0.0045694923,\n",
        "  'valid_accuracy': 0.0077607566,\n",
        "  'valid_loss': 0.0077607566},\n",
        " {'epoch': 1473,\n",
        "  'train_loss': 0.004614308,\n",
        "  'valid_accuracy': 0.0077731363,\n",
        "  'valid_loss': 0.0077731363},\n",
        " {'epoch': 1474,\n",
        "  'train_loss': 0.0045869034,\n",
        "  'valid_accuracy': 0.0077652656,\n",
        "  'valid_loss': 0.0077652656},\n",
        " {'epoch': 1475,\n",
        "  'train_loss': 0.0046383408,\n",
        "  'valid_accuracy': 0.0077763433,\n",
        "  'valid_loss': 0.0077763433},\n",
        " {'epoch': 1476,\n",
        "  'train_loss': 0.004445056,\n",
        "  'valid_accuracy': 0.007751286,\n",
        "  'valid_loss': 0.007751286},\n",
        " {'epoch': 1477,\n",
        "  'train_loss': 0.0045346771,\n",
        "  'valid_accuracy': 0.0077527286,\n",
        "  'valid_loss': 0.0077527286},\n",
        " {'epoch': 1478,\n",
        "  'train_loss': 0.004503754,\n",
        "  'valid_accuracy': 0.0077447025,\n",
        "  'valid_loss': 0.0077447025},\n",
        " {'epoch': 1479,\n",
        "  'train_loss': 0.0044097533,\n",
        "  'valid_accuracy': 0.0077514471,\n",
        "  'valid_loss': 0.0077514471},\n",
        " {'epoch': 1480,\n",
        "  'train_loss': 0.0045975703,\n",
        "  'valid_accuracy': 0.0077488436,\n",
        "  'valid_loss': 0.0077488436},\n",
        " {'epoch': 1481,\n",
        "  'train_loss': 0.0045129126,\n",
        "  'valid_accuracy': 0.0077521382,\n",
        "  'valid_loss': 0.0077521382},\n",
        " {'epoch': 1482,\n",
        "  'train_loss': 0.0045250254,\n",
        "  'valid_accuracy': 0.00774216,\n",
        "  'valid_loss': 0.00774216},\n",
        " {'epoch': 1483,\n",
        "  'train_loss': 0.004596943,\n",
        "  'valid_accuracy': 0.0077448119,\n",
        "  'valid_loss': 0.0077448119},\n",
        " {'epoch': 1484,\n",
        "  'train_loss': 0.0045593018,\n",
        "  'valid_accuracy': 0.0077483668,\n",
        "  'valid_loss': 0.0077483668},\n",
        " {'epoch': 1485,\n",
        "  'train_loss': 0.0045463089,\n",
        "  'valid_accuracy': 0.0077548581,\n",
        "  'valid_loss': 0.0077548581},\n",
        " {'epoch': 1486,\n",
        "  'train_loss': 0.0045522084,\n",
        "  'valid_accuracy': 0.0077529289,\n",
        "  'valid_loss': 0.0077529289},\n",
        " {'epoch': 1487,\n",
        "  'train_loss': 0.0044718427,\n",
        "  'valid_accuracy': 0.0077436022,\n",
        "  'valid_loss': 0.0077436022},\n",
        " {'epoch': 1488,\n",
        "  'train_loss': 0.004524597,\n",
        "  'valid_accuracy': 0.0077467496,\n",
        "  'valid_loss': 0.0077467496},\n",
        " {'epoch': 1489,\n",
        "  'train_loss': 0.0045075468,\n",
        "  'valid_accuracy': 0.0077409176,\n",
        "  'valid_loss': 0.0077409176},\n",
        " {'epoch': 1490,\n",
        "  'train_loss': 0.0045851665,\n",
        "  'valid_accuracy': 0.0077248202,\n",
        "  'valid_loss': 0.0077248202},\n",
        " {'epoch': 1491,\n",
        "  'train_loss': 0.004436933,\n",
        "  'valid_accuracy': 0.0077458909,\n",
        "  'valid_loss': 0.0077458909},\n",
        " {'epoch': 1492,\n",
        "  'train_loss': 0.0045628836,\n",
        "  'valid_accuracy': 0.0077508846,\n",
        "  'valid_loss': 0.0077508846},\n",
        " {'epoch': 1493,\n",
        "  'train_loss': 0.0045106104,\n",
        "  'valid_accuracy': 0.0077701751,\n",
        "  'valid_loss': 0.0077701751},\n",
        " {'epoch': 1494,\n",
        "  'train_loss': 0.0043709837,\n",
        "  'valid_accuracy': 0.0077656182,\n",
        "  'valid_loss': 0.0077656182},\n",
        " {'epoch': 1495,\n",
        "  'train_loss': 0.0045510116,\n",
        "  'valid_accuracy': 0.0077507547,\n",
        "  'valid_loss': 0.0077507547},\n",
        " {'epoch': 1496,\n",
        "  'train_loss': 0.0044475375,\n",
        "  'valid_accuracy': 0.0077527557,\n",
        "  'valid_loss': 0.0077527557},\n",
        " {'epoch': 1497,\n",
        "  'train_loss': 0.0044573429,\n",
        "  'valid_accuracy': 0.007741713,\n",
        "  'valid_loss': 0.007741713},\n",
        " {'epoch': 1498,\n",
        "  'train_loss': 0.0044589583,\n",
        "  'valid_accuracy': 0.0077342163,\n",
        "  'valid_loss': 0.0077342163},\n",
        " {'epoch': 1499,\n",
        "  'train_loss': 0.0045193662,\n",
        "  'valid_accuracy': 0.0077487878,\n",
        "  'valid_loss': 0.0077487878},\n",
        " {'epoch': 1500,\n",
        "  'train_loss': 0.0044615483,\n",
        "  'valid_accuracy': 0.0077196686,\n",
        "  'valid_loss': 0.0077196686},\n",
        " {'epoch': 1501,\n",
        "  'train_loss': 0.0044530928,\n",
        "  'valid_accuracy': 0.0077374154,\n",
        "  'valid_loss': 0.0077374154},\n",
        " {'epoch': 1502,\n",
        "  'train_loss': 0.004400386,\n",
        "  'valid_accuracy': 0.0077301045,\n",
        "  'valid_loss': 0.0077301045},\n",
        " {'epoch': 1503,\n",
        "  'train_loss': 0.0044835727,\n",
        "  'valid_accuracy': 0.0077475733,\n",
        "  'valid_loss': 0.0077475733},\n",
        " {'epoch': 1504,\n",
        "  'train_loss': 0.0045034862,\n",
        "  'valid_accuracy': 0.0077317585,\n",
        "  'valid_loss': 0.0077317585},\n",
        " {'epoch': 1505,\n",
        "  'train_loss': 0.00449302,\n",
        "  'valid_accuracy': 0.0077269413,\n",
        "  'valid_loss': 0.0077269413},\n",
        " {'epoch': 1506,\n",
        "  'train_loss': 0.0044338475,\n",
        "  'valid_accuracy': 0.0077392794,\n",
        "  'valid_loss': 0.0077392794},\n",
        " {'epoch': 1507,\n",
        "  'train_loss': 0.0044605313,\n",
        "  'valid_accuracy': 0.0077414373,\n",
        "  'valid_loss': 0.0077414373},\n",
        " {'epoch': 1508,\n",
        "  'train_loss': 0.0043929429,\n",
        "  'valid_accuracy': 0.0077451235,\n",
        "  'valid_loss': 0.0077451235},\n",
        " {'epoch': 1509,\n",
        "  'train_loss': 0.0044233087,\n",
        "  'valid_accuracy': 0.0077443831,\n",
        "  'valid_loss': 0.0077443831},\n",
        " {'epoch': 1510,\n",
        "  'train_loss': 0.0044277916,\n",
        "  'valid_accuracy': 0.0077452781,\n",
        "  'valid_loss': 0.0077452781},\n",
        " {'epoch': 1511,\n",
        "  'train_loss': 0.0044161701,\n",
        "  'valid_accuracy': 0.0077420659,\n",
        "  'valid_loss': 0.0077420659},\n",
        " {'epoch': 1512,\n",
        "  'train_loss': 0.0044462704,\n",
        "  'valid_accuracy': 0.0077435831,\n",
        "  'valid_loss': 0.0077435831},\n",
        " {'epoch': 1513,\n",
        "  'train_loss': 0.0044285804,\n",
        "  'valid_accuracy': 0.0077435318,\n",
        "  'valid_loss': 0.0077435318},\n",
        " {'epoch': 1514,\n",
        "  'train_loss': 0.0043797707,\n",
        "  'valid_accuracy': 0.0077394354,\n",
        "  'valid_loss': 0.0077394354},\n",
        " {'epoch': 1515,\n",
        "  'train_loss': 0.0044269301,\n",
        "  'valid_accuracy': 0.0077494183,\n",
        "  'valid_loss': 0.0077494183},\n",
        " {'epoch': 1516,\n",
        "  'train_loss': 0.0043921964,\n",
        "  'valid_accuracy': 0.0077363933,\n",
        "  'valid_loss': 0.0077363933},\n",
        " {'epoch': 1517,\n",
        "  'train_loss': 0.0044293725,\n",
        "  'valid_accuracy': 0.0077312151,\n",
        "  'valid_loss': 0.0077312151},\n",
        " {'epoch': 1518,\n",
        "  'train_loss': 0.0043888954,\n",
        "  'valid_accuracy': 0.0077472506,\n",
        "  'valid_loss': 0.0077472506},\n",
        " {'epoch': 1519,\n",
        "  'train_loss': 0.00437557,\n",
        "  'valid_accuracy': 0.0077284412,\n",
        "  'valid_loss': 0.0077284412},\n",
        " {'epoch': 1520,\n",
        "  'train_loss': 0.004431752,\n",
        "  'valid_accuracy': 0.0077379756,\n",
        "  'valid_loss': 0.0077379756},\n",
        " {'epoch': 1521,\n",
        "  'train_loss': 0.0043711332,\n",
        "  'valid_accuracy': 0.0077321138,\n",
        "  'valid_loss': 0.0077321138},\n",
        " {'epoch': 1522,\n",
        "  'train_loss': 0.0043896572,\n",
        "  'valid_accuracy': 0.0077553717,\n",
        "  'valid_loss': 0.0077553717},\n",
        " {'epoch': 1523,\n",
        "  'train_loss': 0.0044364007,\n",
        "  'valid_accuracy': 0.0077557364,\n",
        "  'valid_loss': 0.0077557364},\n",
        " {'epoch': 1524,\n",
        "  'train_loss': 0.0044598011,\n",
        "  'valid_accuracy': 0.007735163,\n",
        "  'valid_loss': 0.007735163},\n",
        " {'epoch': 1525,\n",
        "  'train_loss': 0.0043466217,\n",
        "  'valid_accuracy': 0.0077193072,\n",
        "  'valid_loss': 0.0077193072},\n",
        " {'epoch': 1526,\n",
        "  'train_loss': 0.0043615615,\n",
        "  'valid_accuracy': 0.0077345306,\n",
        "  'valid_loss': 0.0077345306},\n",
        " {'epoch': 1527,\n",
        "  'train_loss': 0.0043752859,\n",
        "  'valid_accuracy': 0.0077239489,\n",
        "  'valid_loss': 0.0077239489},\n",
        " {'epoch': 1528,\n",
        "  'train_loss': 0.0043399748,\n",
        "  'valid_accuracy': 0.0077251438,\n",
        "  'valid_loss': 0.0077251438},\n",
        " {'epoch': 1529,\n",
        "  'train_loss': 0.0043457253,\n",
        "  'valid_accuracy': 0.0077355192,\n",
        "  'valid_loss': 0.0077355192},\n",
        " {'epoch': 1530,\n",
        "  'train_loss': 0.0043735285,\n",
        "  'valid_accuracy': 0.0077399136,\n",
        "  'valid_loss': 0.0077399136},\n",
        " {'epoch': 1531,\n",
        "  'train_loss': 0.004380302,\n",
        "  'valid_accuracy': 0.0077338913,\n",
        "  'valid_loss': 0.0077338913},\n",
        " {'epoch': 1532,\n",
        "  'train_loss': 0.0044100815,\n",
        "  'valid_accuracy': 0.0077369609,\n",
        "  'valid_loss': 0.0077369609},\n",
        " {'epoch': 1533,\n",
        "  'train_loss': 0.0043594572,\n",
        "  'valid_accuracy': 0.0077262898,\n",
        "  'valid_loss': 0.0077262898},\n",
        " {'epoch': 1534,\n",
        "  'train_loss': 0.0043872129,\n",
        "  'valid_accuracy': 0.0077312901,\n",
        "  'valid_loss': 0.0077312901},\n",
        " {'epoch': 1535,\n",
        "  'train_loss': 0.0043909107,\n",
        "  'valid_accuracy': 0.0077320701,\n",
        "  'valid_loss': 0.0077320701},\n",
        " {'epoch': 1536,\n",
        "  'train_loss': 0.0043533156,\n",
        "  'valid_accuracy': 0.0077380957,\n",
        "  'valid_loss': 0.0077380957},\n",
        " {'epoch': 1537,\n",
        "  'train_loss': 0.0042710197,\n",
        "  'valid_accuracy': 0.0077311317,\n",
        "  'valid_loss': 0.0077311317},\n",
        " {'epoch': 1538,\n",
        "  'train_loss': 0.004356639,\n",
        "  'valid_accuracy': 0.0077307508,\n",
        "  'valid_loss': 0.0077307508},\n",
        " {'epoch': 1539,\n",
        "  'train_loss': 0.0043508299,\n",
        "  'valid_accuracy': 0.0077263359,\n",
        "  'valid_loss': 0.0077263359},\n",
        " {'epoch': 1540,\n",
        "  'train_loss': 0.0043693385,\n",
        "  'valid_accuracy': 0.0077325781,\n",
        "  'valid_loss': 0.0077325781},\n",
        " {'epoch': 1541,\n",
        "  'train_loss': 0.0043666326,\n",
        "  'valid_accuracy': 0.0077075716,\n",
        "  'valid_loss': 0.0077075716},\n",
        " {'epoch': 1542,\n",
        "  'train_loss': 0.0043345047,\n",
        "  'valid_accuracy': 0.0077187917,\n",
        "  'valid_loss': 0.0077187917},\n",
        " {'epoch': 1543,\n",
        "  'train_loss': 0.0043322472,\n",
        "  'valid_accuracy': 0.0077106017,\n",
        "  'valid_loss': 0.0077106017},\n",
        " {'epoch': 1544,\n",
        "  'train_loss': 0.0043506571,\n",
        "  'valid_accuracy': 0.0077173063,\n",
        "  'valid_loss': 0.0077173063},\n",
        " {'epoch': 1545,\n",
        "  'train_loss': 0.0043100393,\n",
        "  'valid_accuracy': 0.0077043311,\n",
        "  'valid_loss': 0.0077043311},\n",
        " {'epoch': 1546,\n",
        "  'train_loss': 0.0043068551,\n",
        "  'valid_accuracy': 0.0077218981,\n",
        "  'valid_loss': 0.0077218981},\n",
        " {'epoch': 1547,\n",
        "  'train_loss': 0.0043486692,\n",
        "  'valid_accuracy': 0.0077081905,\n",
        "  'valid_loss': 0.0077081905},\n",
        " {'epoch': 1548,\n",
        "  'train_loss': 0.0043046293,\n",
        "  'valid_accuracy': 0.0077231238,\n",
        "  'valid_loss': 0.0077231238},\n",
        " {'epoch': 1549,\n",
        "  'train_loss': 0.0043517514,\n",
        "  'valid_accuracy': 0.007725053,\n",
        "  'valid_loss': 0.007725053},\n",
        " {'epoch': 1550,\n",
        "  'train_loss': 0.0043550241,\n",
        "  'valid_accuracy': 0.0077331038,\n",
        "  'valid_loss': 0.0077331038},\n",
        " {'epoch': 1551,\n",
        "  'train_loss': 0.0042569325,\n",
        "  'valid_accuracy': 0.0077335378,\n",
        "  'valid_loss': 0.0077335378},\n",
        " {'epoch': 1552,\n",
        "  'train_loss': 0.0042376383,\n",
        "  'valid_accuracy': 0.0077213473,\n",
        "  'valid_loss': 0.0077213473},\n",
        " {'epoch': 1553,\n",
        "  'train_loss': 0.0042930092,\n",
        "  'valid_accuracy': 0.0076957196,\n",
        "  'valid_loss': 0.0076957196},\n",
        " {'epoch': 1554,\n",
        "  'train_loss': 0.0043147365,\n",
        "  'valid_accuracy': 0.0077295247,\n",
        "  'valid_loss': 0.0077295247},\n",
        " {'epoch': 1555,\n",
        "  'train_loss': 0.004385381,\n",
        "  'valid_accuracy': 0.0077255433,\n",
        "  'valid_loss': 0.0077255433},\n",
        " {'epoch': 1556,\n",
        "  'train_loss': 0.0042782463,\n",
        "  'valid_accuracy': 0.0076943133,\n",
        "  'valid_loss': 0.0076943133},\n",
        " {'epoch': 1557,\n",
        "  'train_loss': 0.0042913682,\n",
        "  'valid_accuracy': 0.0077112308,\n",
        "  'valid_loss': 0.0077112308},\n",
        " {'epoch': 1558,\n",
        "  'train_loss': 0.0042767292,\n",
        "  'valid_accuracy': 0.0077129644,\n",
        "  'valid_loss': 0.0077129644},\n",
        " {'epoch': 1559,\n",
        "  'train_loss': 0.0042065531,\n",
        "  'valid_accuracy': 0.0077226767,\n",
        "  'valid_loss': 0.0077226767},\n",
        " {'epoch': 1560,\n",
        "  'train_loss': 0.0043032039,\n",
        "  'valid_accuracy': 0.0077125458,\n",
        "  'valid_loss': 0.0077125458},\n",
        " {'epoch': 1561,\n",
        "  'train_loss': 0.0042748484,\n",
        "  'valid_accuracy': 0.0077212774,\n",
        "  'valid_loss': 0.0077212774},\n",
        " {'epoch': 1562,\n",
        "  'train_loss': 0.0042549302,\n",
        "  'valid_accuracy': 0.0077105393,\n",
        "  'valid_loss': 0.0077105393},\n",
        " {'epoch': 1563,\n",
        "  'train_loss': 0.0042051286,\n",
        "  'valid_accuracy': 0.0077041159,\n",
        "  'valid_loss': 0.0077041159},\n",
        " {'epoch': 1564,\n",
        "  'train_loss': 0.0041719964,\n",
        "  'valid_accuracy': 0.0077153472,\n",
        "  'valid_loss': 0.0077153472},\n",
        " {'epoch': 1565,\n",
        "  'train_loss': 0.0042219772,\n",
        "  'valid_accuracy': 0.0077298856,\n",
        "  'valid_loss': 0.0077298856},\n",
        " {'epoch': 1566,\n",
        "  'train_loss': 0.0043234406,\n",
        "  'valid_accuracy': 0.0077107735,\n",
        "  'valid_loss': 0.0077107735},\n",
        " {'epoch': 1567,\n",
        "  'train_loss': 0.0042301719,\n",
        "  'valid_accuracy': 0.007714163,\n",
        "  'valid_loss': 0.007714163},\n",
        " {'epoch': 1568,\n",
        "  'train_loss': 0.0042557097,\n",
        "  'valid_accuracy': 0.0077170888,\n",
        "  'valid_loss': 0.0077170888},\n",
        " {'epoch': 1569,\n",
        "  'train_loss': 0.0042443145,\n",
        "  'valid_accuracy': 0.0077181393,\n",
        "  'valid_loss': 0.0077181393},\n",
        " {'epoch': 1570,\n",
        "  'train_loss': 0.0042464687,\n",
        "  'valid_accuracy': 0.0077276565,\n",
        "  'valid_loss': 0.0077276565},\n",
        " {'epoch': 1571,\n",
        "  'train_loss': 0.0041716052,\n",
        "  'valid_accuracy': 0.0077098524,\n",
        "  'valid_loss': 0.0077098524},\n",
        " {'epoch': 1572,\n",
        "  'train_loss': 0.0042181402,\n",
        "  'valid_accuracy': 0.0077280048,\n",
        "  'valid_loss': 0.0077280048},\n",
        " {'epoch': 1573,\n",
        "  'train_loss': 0.0042496761,\n",
        "  'valid_accuracy': 0.0077294433,\n",
        "  'valid_loss': 0.0077294433},\n",
        " {'epoch': 1574,\n",
        "  'train_loss': 0.0042021335,\n",
        "  'valid_accuracy': 0.0077273091,\n",
        "  'valid_loss': 0.0077273091},\n",
        " {'epoch': 1575,\n",
        "  'train_loss': 0.0042151348,\n",
        "  'valid_accuracy': 0.007692521,\n",
        "  'valid_loss': 0.007692521},\n",
        " {'epoch': 1576,\n",
        "  'train_loss': 0.004270664,\n",
        "  'valid_accuracy': 0.0077108284,\n",
        "  'valid_loss': 0.0077108284},\n",
        " {'epoch': 1577,\n",
        "  'train_loss': 0.0042138705,\n",
        "  'valid_accuracy': 0.0077079632,\n",
        "  'valid_loss': 0.0077079632},\n",
        " {'epoch': 1578,\n",
        "  'train_loss': 0.0042140558,\n",
        "  'valid_accuracy': 0.0077035045,\n",
        "  'valid_loss': 0.0077035045},\n",
        " {'epoch': 1579,\n",
        "  'train_loss': 0.0041611898,\n",
        "  'valid_accuracy': 0.0076747402,\n",
        "  'valid_loss': 0.0076747402},\n",
        " {'epoch': 1580,\n",
        "  'train_loss': 0.0042445669,\n",
        "  'valid_accuracy': 0.0076931226,\n",
        "  'valid_loss': 0.0076931226},\n",
        " {'epoch': 1581,\n",
        "  'train_loss': 0.0042608432,\n",
        "  'valid_accuracy': 0.007678139,\n",
        "  'valid_loss': 0.007678139},\n",
        " {'epoch': 1582,\n",
        "  'train_loss': 0.0041937442,\n",
        "  'valid_accuracy': 0.0076897121,\n",
        "  'valid_loss': 0.0076897121},\n",
        " {'epoch': 1583,\n",
        "  'train_loss': 0.0041983444,\n",
        "  'valid_accuracy': 0.0077010565,\n",
        "  'valid_loss': 0.0077010565},\n",
        " {'epoch': 1584,\n",
        "  'train_loss': 0.0042574382,\n",
        "  'valid_accuracy': 0.0076876767,\n",
        "  'valid_loss': 0.0076876767},\n",
        " {'epoch': 1585,\n",
        "  'train_loss': 0.0042332769,\n",
        "  'valid_accuracy': 0.0076942751,\n",
        "  'valid_loss': 0.0076942751},\n",
        " {'epoch': 1586,\n",
        "  'train_loss': 0.0041944622,\n",
        "  'valid_accuracy': 0.007689774,\n",
        "  'valid_loss': 0.007689774},\n",
        " {'epoch': 1587,\n",
        "  'train_loss': 0.0041863266,\n",
        "  'valid_accuracy': 0.0076788934,\n",
        "  'valid_loss': 0.0076788934},\n",
        " {'epoch': 1588,\n",
        "  'train_loss': 0.0042085014,\n",
        "  'valid_accuracy': 0.0077086845,\n",
        "  'valid_loss': 0.0077086845},\n",
        " {'epoch': 1589,\n",
        "  'train_loss': 0.0041896668,\n",
        "  'valid_accuracy': 0.0077057099,\n",
        "  'valid_loss': 0.0077057099},\n",
        " {'epoch': 1590,\n",
        "  'train_loss': 0.0042101275,\n",
        "  'valid_accuracy': 0.0077001546,\n",
        "  'valid_loss': 0.0077001546},\n",
        " {'epoch': 1591,\n",
        "  'train_loss': 0.0041119833,\n",
        "  'valid_accuracy': 0.0077021229,\n",
        "  'valid_loss': 0.0077021229},\n",
        " {'epoch': 1592,\n",
        "  'train_loss': 0.004172748,\n",
        "  'valid_accuracy': 0.0076797293,\n",
        "  'valid_loss': 0.0076797293},\n",
        " {'epoch': 1593,\n",
        "  'train_loss': 0.0041375891,\n",
        "  'valid_accuracy': 0.0076768198,\n",
        "  'valid_loss': 0.0076768198},\n",
        " {'epoch': 1594,\n",
        "  'train_loss': 0.0041776458,\n",
        "  'valid_accuracy': 0.0077002617,\n",
        "  'valid_loss': 0.0077002617},\n",
        " {'epoch': 1595,\n",
        "  'train_loss': 0.0041857283,\n",
        "  'valid_accuracy': 0.0076912777,\n",
        "  'valid_loss': 0.0076912777},\n",
        " {'epoch': 1596,\n",
        "  'train_loss': 0.0041705333,\n",
        "  'valid_accuracy': 0.0076886145,\n",
        "  'valid_loss': 0.0076886145},\n",
        " {'epoch': 1597,\n",
        "  'train_loss': 0.0041452465,\n",
        "  'valid_accuracy': 0.0077037108,\n",
        "  'valid_loss': 0.0077037108},\n",
        " {'epoch': 1598,\n",
        "  'train_loss': 0.004166285,\n",
        "  'valid_accuracy': 0.007694548,\n",
        "  'valid_loss': 0.007694548},\n",
        " {'epoch': 1599,\n",
        "  'train_loss': 0.0041609812,\n",
        "  'valid_accuracy': 0.0076946281,\n",
        "  'valid_loss': 0.0076946281},\n",
        " {'epoch': 1600,\n",
        "  'train_loss': 0.004286218,\n",
        "  'valid_accuracy': 0.0076776366,\n",
        "  'valid_loss': 0.0076776366},\n",
        " {'epoch': 1601,\n",
        "  'train_loss': 0.0041448548,\n",
        "  'valid_accuracy': 0.0076627973,\n",
        "  'valid_loss': 0.0076627973},\n",
        " {'epoch': 1602,\n",
        "  'train_loss': 0.0040936233,\n",
        "  'valid_accuracy': 0.0076711327,\n",
        "  'valid_loss': 0.0076711327},\n",
        " {'epoch': 1603,\n",
        "  'train_loss': 0.0040711365,\n",
        "  'valid_accuracy': 0.0076697548,\n",
        "  'valid_loss': 0.0076697548},\n",
        " {'epoch': 1604,\n",
        "  'train_loss': 0.0040827976,\n",
        "  'valid_accuracy': 0.007686404,\n",
        "  'valid_loss': 0.007686404},\n",
        " {'epoch': 1605,\n",
        "  'train_loss': 0.0041280924,\n",
        "  'valid_accuracy': 0.0076770149,\n",
        "  'valid_loss': 0.0076770149},\n",
        " {'epoch': 1606,\n",
        "  'train_loss': 0.0041692462,\n",
        "  'valid_accuracy': 0.0076895263,\n",
        "  'valid_loss': 0.0076895263},\n",
        " {'epoch': 1607,\n",
        "  'train_loss': 0.0042082402,\n",
        "  'valid_accuracy': 0.0076789847,\n",
        "  'valid_loss': 0.0076789847},\n",
        " {'epoch': 1608,\n",
        "  'train_loss': 0.0040972335,\n",
        "  'valid_accuracy': 0.0076874197,\n",
        "  'valid_loss': 0.0076874197},\n",
        " {'epoch': 1609,\n",
        "  'train_loss': 0.0040865755,\n",
        "  'valid_accuracy': 0.0076896441,\n",
        "  'valid_loss': 0.0076896441},\n",
        " {'epoch': 1610,\n",
        "  'train_loss': 0.0041149203,\n",
        "  'valid_accuracy': 0.007704915,\n",
        "  'valid_loss': 0.007704915},\n",
        " {'epoch': 1611,\n",
        "  'train_loss': 0.0041111452,\n",
        "  'valid_accuracy': 0.0076954905,\n",
        "  'valid_loss': 0.0076954905},\n",
        " {'epoch': 1612,\n",
        "  'train_loss': 0.0041685873,\n",
        "  'valid_accuracy': 0.0076972935,\n",
        "  'valid_loss': 0.0076972935},\n",
        " {'epoch': 1613,\n",
        "  'train_loss': 0.0040286914,\n",
        "  'valid_accuracy': 0.0076956246,\n",
        "  'valid_loss': 0.0076956246},\n",
        " {'epoch': 1614,\n",
        "  'train_loss': 0.0041251658,\n",
        "  'valid_accuracy': 0.0076917587,\n",
        "  'valid_loss': 0.0076917587},\n",
        " {'epoch': 1615,\n",
        "  'train_loss': 0.0041738665,\n",
        "  'valid_accuracy': 0.0076971906,\n",
        "  'valid_loss': 0.0076971906},\n",
        " {'epoch': 1616,\n",
        "  'train_loss': 0.0041221189,\n",
        "  'valid_accuracy': 0.0076616146,\n",
        "  'valid_loss': 0.0076616146},\n",
        " {'epoch': 1617,\n",
        "  'train_loss': 0.0041590985,\n",
        "  'valid_accuracy': 0.0076682176,\n",
        "  'valid_loss': 0.0076682176},\n",
        " {'epoch': 1618,\n",
        "  'train_loss': 0.0040810443,\n",
        "  'valid_accuracy': 0.0076834317,\n",
        "  'valid_loss': 0.0076834317},\n",
        " {'epoch': 1619,\n",
        "  'train_loss': 0.0040653395,\n",
        "  'valid_accuracy': 0.0076798266,\n",
        "  'valid_loss': 0.0076798266},\n",
        " {'epoch': 1620,\n",
        "  'train_loss': 0.0041417177,\n",
        "  'valid_accuracy': 0.0076877186,\n",
        "  'valid_loss': 0.0076877186},\n",
        " {'epoch': 1621,\n",
        "  'train_loss': 0.0041626357,\n",
        "  'valid_accuracy': 0.0076639368,\n",
        "  'valid_loss': 0.0076639368},\n",
        " {'epoch': 1622,\n",
        "  'train_loss': 0.0040884144,\n",
        "  'valid_accuracy': 0.0076740095,\n",
        "  'valid_loss': 0.0076740095},\n",
        " {'epoch': 1623,\n",
        "  'train_loss': 0.0041491906,\n",
        "  'valid_accuracy': 0.0076541533,\n",
        "  'valid_loss': 0.0076541533},\n",
        " {'epoch': 1624,\n",
        "  'train_loss': 0.0040749339,\n",
        "  'valid_accuracy': 0.0076827188,\n",
        "  'valid_loss': 0.0076827188},\n",
        " {'epoch': 1625,\n",
        "  'train_loss': 0.0040607741,\n",
        "  'valid_accuracy': 0.0076769511,\n",
        "  'valid_loss': 0.0076769511},\n",
        " {'epoch': 1626,\n",
        "  'train_loss': 0.004033491,\n",
        "  'valid_accuracy': 0.0076749283,\n",
        "  'valid_loss': 0.0076749283},\n",
        " {'epoch': 1627,\n",
        "  'train_loss': 0.0040447563,\n",
        "  'valid_accuracy': 0.0076821037,\n",
        "  'valid_loss': 0.0076821037},\n",
        " {'epoch': 1628,\n",
        "  'train_loss': 0.0040204544,\n",
        "  'valid_accuracy': 0.0076986146,\n",
        "  'valid_loss': 0.0076986146},\n",
        " {'epoch': 1629,\n",
        "  'train_loss': 0.0040912516,\n",
        "  'valid_accuracy': 0.0076935091,\n",
        "  'valid_loss': 0.0076935091},\n",
        " {'epoch': 1630,\n",
        "  'train_loss': 0.0041126884,\n",
        "  'valid_accuracy': 0.0076801367,\n",
        "  'valid_loss': 0.0076801367},\n",
        " {'epoch': 1631,\n",
        "  'train_loss': 0.0039847079,\n",
        "  'valid_accuracy': 0.0076748589,\n",
        "  'valid_loss': 0.0076748589},\n",
        " {'epoch': 1632,\n",
        "  'train_loss': 0.0040466804,\n",
        "  'valid_accuracy': 0.0076879151,\n",
        "  'valid_loss': 0.0076879151},\n",
        " {'epoch': 1633,\n",
        "  'train_loss': 0.0040244861,\n",
        "  'valid_accuracy': 0.0076773325,\n",
        "  'valid_loss': 0.0076773325},\n",
        " {'epoch': 1634,\n",
        "  'train_loss': 0.0040517757,\n",
        "  'valid_accuracy': 0.0076915636,\n",
        "  'valid_loss': 0.0076915636},\n",
        " {'epoch': 1635,\n",
        "  'train_loss': 0.0040984065,\n",
        "  'valid_accuracy': 0.0076718754,\n",
        "  'valid_loss': 0.0076718754},\n",
        " {'epoch': 1636,\n",
        "  'train_loss': 0.0040770327,\n",
        "  'valid_accuracy': 0.007681008,\n",
        "  'valid_loss': 0.007681008},\n",
        " {'epoch': 1637,\n",
        "  'train_loss': 0.0040050643,\n",
        "  'valid_accuracy': 0.0076677972,\n",
        "  'valid_loss': 0.0076677972},\n",
        " {'epoch': 1638,\n",
        "  'train_loss': 0.0039969799,\n",
        "  'valid_accuracy': 0.0076613328,\n",
        "  'valid_loss': 0.0076613328},\n",
        " {'epoch': 1639,\n",
        "  'train_loss': 0.0040450133,\n",
        "  'valid_accuracy': 0.0076745371,\n",
        "  'valid_loss': 0.0076745371},\n",
        " {'epoch': 1640,\n",
        "  'train_loss': 0.0040384056,\n",
        "  'valid_accuracy': 0.0076729343,\n",
        "  'valid_loss': 0.0076729343},\n",
        " {'epoch': 1641,\n",
        "  'train_loss': 0.0040392037,\n",
        "  'valid_accuracy': 0.0076860636,\n",
        "  'valid_loss': 0.0076860636},\n",
        " {'epoch': 1642,\n",
        "  'train_loss': 0.0040765954,\n",
        "  'valid_accuracy': 0.0076757572,\n",
        "  'valid_loss': 0.0076757572},\n",
        " {'epoch': 1643,\n",
        "  'train_loss': 0.0040611788,\n",
        "  'valid_accuracy': 0.0076780804,\n",
        "  'valid_loss': 0.0076780804},\n",
        " {'epoch': 1644,\n",
        "  'train_loss': 0.0040112655,\n",
        "  'valid_accuracy': 0.0076640802,\n",
        "  'valid_loss': 0.0076640802},\n",
        " {'epoch': 1645,\n",
        "  'train_loss': 0.0040051113,\n",
        "  'valid_accuracy': 0.0076799216,\n",
        "  'valid_loss': 0.0076799216},\n",
        " {'epoch': 1646,\n",
        "  'train_loss': 0.0040218425,\n",
        "  'valid_accuracy': 0.0076620704,\n",
        "  'valid_loss': 0.0076620704},\n",
        " {'epoch': 1647,\n",
        "  'train_loss': 0.003927575,\n",
        "  'valid_accuracy': 0.0076764985,\n",
        "  'valid_loss': 0.0076764985},\n",
        " {'epoch': 1648,\n",
        "  'train_loss': 0.0039201956,\n",
        "  'valid_accuracy': 0.0076627214,\n",
        "  'valid_loss': 0.0076627214},\n",
        " {'epoch': 1649,\n",
        "  'train_loss': 0.003908773,\n",
        "  'valid_accuracy': 0.0076799118,\n",
        "  'valid_loss': 0.0076799118},\n",
        " {'epoch': 1650,\n",
        "  'train_loss': 0.0039363089,\n",
        "  'valid_accuracy': 0.0076866136,\n",
        "  'valid_loss': 0.0076866136},\n",
        " {'epoch': 1651,\n",
        "  'train_loss': 0.0039644851,\n",
        "  'valid_accuracy': 0.0076838257,\n",
        "  'valid_loss': 0.0076838257},\n",
        " {'epoch': 1652,\n",
        "  'train_loss': 0.0039454428,\n",
        "  'valid_accuracy': 0.0076779476,\n",
        "  'valid_loss': 0.0076779476},\n",
        " {'epoch': 1653,\n",
        "  'train_loss': 0.0039525651,\n",
        "  'valid_accuracy': 0.0076728626,\n",
        "  'valid_loss': 0.0076728626},\n",
        " {'epoch': 1654,\n",
        "  'train_loss': 0.0040554558,\n",
        "  'valid_accuracy': 0.0076725623,\n",
        "  'valid_loss': 0.0076725623},\n",
        " {'epoch': 1655,\n",
        "  'train_loss': 0.0040272977,\n",
        "  'valid_accuracy': 0.0076816282,\n",
        "  'valid_loss': 0.0076816282},\n",
        " {'epoch': 1656,\n",
        "  'train_loss': 0.0039703073,\n",
        "  'valid_accuracy': 0.0076616667,\n",
        "  'valid_loss': 0.0076616667},\n",
        " {'epoch': 1657,\n",
        "  'train_loss': 0.0039767083,\n",
        "  'valid_accuracy': 0.0076537379,\n",
        "  'valid_loss': 0.0076537379},\n",
        " {'epoch': 1658,\n",
        "  'train_loss': 0.0039415853,\n",
        "  'valid_accuracy': 0.0076750205,\n",
        "  'valid_loss': 0.0076750205},\n",
        " {'epoch': 1659,\n",
        "  'train_loss': 0.0039930535,\n",
        "  'valid_accuracy': 0.0076808468,\n",
        "  'valid_loss': 0.0076808468},\n",
        " {'epoch': 1660,\n",
        "  'train_loss': 0.0039564804,\n",
        "  'valid_accuracy': 0.0076598665,\n",
        "  'valid_loss': 0.0076598665},\n",
        " {'epoch': 1661,\n",
        "  'train_loss': 0.0039387867,\n",
        "  'valid_accuracy': 0.0077015287,\n",
        "  'valid_loss': 0.0077015287},\n",
        " {'epoch': 1662,\n",
        "  'train_loss': 0.0039484897,\n",
        "  'valid_accuracy': 0.0076551409,\n",
        "  'valid_loss': 0.0076551409},\n",
        " {'epoch': 1663,\n",
        "  'train_loss': 0.0039472049,\n",
        "  'valid_accuracy': 0.0076777013,\n",
        "  'valid_loss': 0.0076777013},\n",
        " {'epoch': 1664,\n",
        "  'train_loss': 0.0039803535,\n",
        "  'valid_accuracy': 0.0076953,\n",
        "  'valid_loss': 0.0076953},\n",
        " {'epoch': 1665,\n",
        "  'train_loss': 0.0039361343,\n",
        "  'valid_accuracy': 0.0076773209,\n",
        "  'valid_loss': 0.0076773209},\n",
        " {'epoch': 1666,\n",
        "  'train_loss': 0.0039455593,\n",
        "  'valid_accuracy': 0.0076792538,\n",
        "  'valid_loss': 0.0076792538},\n",
        " {'epoch': 1667,\n",
        "  'train_loss': 0.0038864545,\n",
        "  'valid_accuracy': 0.007690737,\n",
        "  'valid_loss': 0.007690737},\n",
        " {'epoch': 1668,\n",
        "  'train_loss': 0.0038989999,\n",
        "  'valid_accuracy': 0.007671963,\n",
        "  'valid_loss': 0.007671963},\n",
        " {'epoch': 1669,\n",
        "  'train_loss': 0.0039343112,\n",
        "  'valid_accuracy': 0.0076824478,\n",
        "  'valid_loss': 0.0076824478},\n",
        " {'epoch': 1670,\n",
        "  'train_loss': 0.0039996733,\n",
        "  'valid_accuracy': 0.0076703494,\n",
        "  'valid_loss': 0.0076703494},\n",
        " {'epoch': 1671,\n",
        "  'train_loss': 0.0039841486,\n",
        "  'valid_accuracy': 0.0076821474,\n",
        "  'valid_loss': 0.0076821474},\n",
        " {'epoch': 1672,\n",
        "  'train_loss': 0.0038769972,\n",
        "  'valid_accuracy': 0.0076676779,\n",
        "  'valid_loss': 0.0076676779},\n",
        " {'epoch': 1673,\n",
        "  'train_loss': 0.0038782146,\n",
        "  'valid_accuracy': 0.0076885861,\n",
        "  'valid_loss': 0.0076885861},\n",
        " {'epoch': 1674,\n",
        "  'train_loss': 0.003920556,\n",
        "  'valid_accuracy': 0.0076788501,\n",
        "  'valid_loss': 0.0076788501},\n",
        " {'epoch': 1675,\n",
        "  'train_loss': 0.003914102,\n",
        "  'valid_accuracy': 0.0076603391,\n",
        "  'valid_loss': 0.0076603391},\n",
        " {'epoch': 1676,\n",
        "  'train_loss': 0.0039928067,\n",
        "  'valid_accuracy': 0.0076716747,\n",
        "  'valid_loss': 0.0076716747},\n",
        " {'epoch': 1677,\n",
        "  'train_loss': 0.0039646467,\n",
        "  'valid_accuracy': 0.0076494985,\n",
        "  'valid_loss': 0.0076494985},\n",
        " {'epoch': 1678,\n",
        "  'train_loss': 0.0038348846,\n",
        "  'valid_accuracy': 0.0076741497,\n",
        "  'valid_loss': 0.0076741497},\n",
        " {'epoch': 1679,\n",
        "  'train_loss': 0.0039290348,\n",
        "  'valid_accuracy': 0.0076736021,\n",
        "  'valid_loss': 0.0076736021},\n",
        " {'epoch': 1680,\n",
        "  'train_loss': 0.0039390256,\n",
        "  'valid_accuracy': 0.0076642954,\n",
        "  'valid_loss': 0.0076642954},\n",
        " {'epoch': 1681,\n",
        "  'train_loss': 0.0040006852,\n",
        "  'valid_accuracy': 0.0076504988,\n",
        "  'valid_loss': 0.0076504988},\n",
        " {'epoch': 1682,\n",
        "  'train_loss': 0.0039461032,\n",
        "  'valid_accuracy': 0.0076889074,\n",
        "  'valid_loss': 0.0076889074},\n",
        " {'epoch': 1683,\n",
        "  'train_loss': 0.0038947801,\n",
        "  'valid_accuracy': 0.0076854145,\n",
        "  'valid_loss': 0.0076854145},\n",
        " {'epoch': 1684,\n",
        "  'train_loss': 0.0038675698,\n",
        "  'valid_accuracy': 0.0076783397,\n",
        "  'valid_loss': 0.0076783397},\n",
        " {'epoch': 1685,\n",
        "  'train_loss': 0.0038911367,\n",
        "  'valid_accuracy': 0.0076852329,\n",
        "  'valid_loss': 0.0076852329},\n",
        " {'epoch': 1686,\n",
        "  'train_loss': 0.0038780703,\n",
        "  'valid_accuracy': 0.007680018,\n",
        "  'valid_loss': 0.007680018},\n",
        " {'epoch': 1687,\n",
        "  'train_loss': 0.0039226548,\n",
        "  'valid_accuracy': 0.0076748291,\n",
        "  'valid_loss': 0.0076748291},\n",
        " {'epoch': 1688,\n",
        "  'train_loss': 0.0038957549,\n",
        "  'valid_accuracy': 0.0076745874,\n",
        "  'valid_loss': 0.0076745874},\n",
        " {'epoch': 1689,\n",
        "  'train_loss': 0.0038558885,\n",
        "  'valid_accuracy': 0.0076767514,\n",
        "  'valid_loss': 0.0076767514},\n",
        " {'epoch': 1690,\n",
        "  'train_loss': 0.0037595737,\n",
        "  'valid_accuracy': 0.007687124,\n",
        "  'valid_loss': 0.007687124},\n",
        " {'epoch': 1691,\n",
        "  'train_loss': 0.0039051296,\n",
        "  'valid_accuracy': 0.0076845358,\n",
        "  'valid_loss': 0.0076845358},\n",
        " {'epoch': 1692,\n",
        "  'train_loss': 0.0038661419,\n",
        "  'valid_accuracy': 0.0076803905,\n",
        "  'valid_loss': 0.0076803905},\n",
        " {'epoch': 1693,\n",
        "  'train_loss': 0.0038782246,\n",
        "  'valid_accuracy': 0.0076779169,\n",
        "  'valid_loss': 0.0076779169},\n",
        " {'epoch': 1694,\n",
        "  'train_loss': 0.0038332567,\n",
        "  'valid_accuracy': 0.0076900711,\n",
        "  'valid_loss': 0.0076900711},\n",
        " {'epoch': 1695,\n",
        "  'train_loss': 0.0039192019,\n",
        "  'valid_accuracy': 0.0076886723,\n",
        "  'valid_loss': 0.0076886723},\n",
        " {'epoch': 1696,\n",
        "  'train_loss': 0.0038690825,\n",
        "  'valid_accuracy': 0.0076825051,\n",
        "  'valid_loss': 0.0076825051},\n",
        " {'epoch': 1697,\n",
        "  'train_loss': 0.0038754113,\n",
        "  'valid_accuracy': 0.0076667843,\n",
        "  'valid_loss': 0.0076667843},\n",
        " {'epoch': 1698,\n",
        "  'train_loss': 0.0038480409,\n",
        "  'valid_accuracy': 0.0076531726,\n",
        "  'valid_loss': 0.0076531726},\n",
        " {'epoch': 1699,\n",
        "  'train_loss': 0.003850647,\n",
        "  'valid_accuracy': 0.0076766391,\n",
        "  'valid_loss': 0.0076766391},\n",
        " {'epoch': 1700,\n",
        "  'train_loss': 0.0038433564,\n",
        "  'valid_accuracy': 0.0076592523,\n",
        "  'valid_loss': 0.0076592523},\n",
        " {'epoch': 1701,\n",
        "  'train_loss': 0.0038839355,\n",
        "  'valid_accuracy': 0.0076898513,\n",
        "  'valid_loss': 0.0076898513},\n",
        " {'epoch': 1702,\n",
        "  'train_loss': 0.0038490966,\n",
        "  'valid_accuracy': 0.0076719993,\n",
        "  'valid_loss': 0.0076719993},\n",
        " {'epoch': 1703,\n",
        "  'train_loss': 0.0038676434,\n",
        "  'valid_accuracy': 0.007676851,\n",
        "  'valid_loss': 0.007676851},\n",
        " {'epoch': 1704,\n",
        "  'train_loss': 0.0037874978,\n",
        "  'valid_accuracy': 0.0076569999,\n",
        "  'valid_loss': 0.0076569999},\n",
        " {'epoch': 1705,\n",
        "  'train_loss': 0.0038844994,\n",
        "  'valid_accuracy': 0.0076624849,\n",
        "  'valid_loss': 0.0076624849},\n",
        " {'epoch': 1706,\n",
        "  'train_loss': 0.0037823922,\n",
        "  'valid_accuracy': 0.0076574222,\n",
        "  'valid_loss': 0.0076574222},\n",
        " {'epoch': 1707,\n",
        "  'train_loss': 0.0038817751,\n",
        "  'valid_accuracy': 0.007665325,\n",
        "  'valid_loss': 0.007665325},\n",
        " {'epoch': 1708,\n",
        "  'train_loss': 0.0038745033,\n",
        "  'valid_accuracy': 0.0076605924,\n",
        "  'valid_loss': 0.0076605924},\n",
        " {'epoch': 1709,\n",
        "  'train_loss': 0.003801638,\n",
        "  'valid_accuracy': 0.0076618493,\n",
        "  'valid_loss': 0.0076618493},\n",
        " {'epoch': 1710,\n",
        "  'train_loss': 0.00379912,\n",
        "  'valid_accuracy': 0.0076520038,\n",
        "  'valid_loss': 0.0076520038},\n",
        " {'epoch': 1711,\n",
        "  'train_loss': 0.0037489529,\n",
        "  'valid_accuracy': 0.0076477649,\n",
        "  'valid_loss': 0.0076477649},\n",
        " {'epoch': 1712,\n",
        "  'train_loss': 0.0038654506,\n",
        "  'valid_accuracy': 0.007671786,\n",
        "  'valid_loss': 0.007671786},\n",
        " {'epoch': 1713,\n",
        "  'train_loss': 0.003831021,\n",
        "  'valid_accuracy': 0.0076574208,\n",
        "  'valid_loss': 0.0076574208},\n",
        " {'epoch': 1714,\n",
        "  'train_loss': 0.0037647076,\n",
        "  'valid_accuracy': 0.0076673506,\n",
        "  'valid_loss': 0.0076673506},\n",
        " {'epoch': 1715,\n",
        "  'train_loss': 0.003772968,\n",
        "  'valid_accuracy': 0.0076534012,\n",
        "  'valid_loss': 0.0076534012},\n",
        " {'epoch': 1716,\n",
        "  'train_loss': 0.003756565,\n",
        "  'valid_accuracy': 0.0076641832,\n",
        "  'valid_loss': 0.0076641832},\n",
        " {'epoch': 1717,\n",
        "  'train_loss': 0.0037252128,\n",
        "  'valid_accuracy': 0.0076425872,\n",
        "  'valid_loss': 0.0076425872},\n",
        " {'epoch': 1718,\n",
        "  'train_loss': 0.0038062856,\n",
        "  'valid_accuracy': 0.0076255244,\n",
        "  'valid_loss': 0.0076255244},\n",
        " {'epoch': 1719,\n",
        "  'train_loss': 0.0037996266,\n",
        "  'valid_accuracy': 0.007648129,\n",
        "  'valid_loss': 0.007648129},\n",
        " {'epoch': 1720,\n",
        "  'train_loss': 0.0038305258,\n",
        "  'valid_accuracy': 0.0076552592,\n",
        "  'valid_loss': 0.0076552592},\n",
        " {'epoch': 1721,\n",
        "  'train_loss': 0.0038821294,\n",
        "  'valid_accuracy': 0.0076608201,\n",
        "  'valid_loss': 0.0076608201},\n",
        " {'epoch': 1722,\n",
        "  'train_loss': 0.0038143494,\n",
        "  'valid_accuracy': 0.0076533565,\n",
        "  'valid_loss': 0.0076533565},\n",
        " {'epoch': 1723,\n",
        "  'train_loss': 0.0038148018,\n",
        "  'valid_accuracy': 0.0076765488,\n",
        "  'valid_loss': 0.0076765488},\n",
        " {'epoch': 1724,\n",
        "  'train_loss': 0.0037751873,\n",
        "  'valid_accuracy': 0.0076673813,\n",
        "  'valid_loss': 0.0076673813},\n",
        " {'epoch': 1725,\n",
        "  'train_loss': 0.0038306138,\n",
        "  'valid_accuracy': 0.0076824566,\n",
        "  'valid_loss': 0.0076824566},\n",
        " {'epoch': 1726,\n",
        "  'train_loss': 0.0037603059,\n",
        "  'valid_accuracy': 0.0076790289,\n",
        "  'valid_loss': 0.0076790289},\n",
        " {'epoch': 1727,\n",
        "  'train_loss': 0.0037883499,\n",
        "  'valid_accuracy': 0.0076673869,\n",
        "  'valid_loss': 0.0076673869},\n",
        " {'epoch': 1728,\n",
        "  'train_loss': 0.0037545701,\n",
        "  'valid_accuracy': 0.0076906518,\n",
        "  'valid_loss': 0.0076906518},\n",
        " {'epoch': 1729,\n",
        "  'train_loss': 0.0037571352,\n",
        "  'valid_accuracy': 0.0076536899,\n",
        "  'valid_loss': 0.0076536899},\n",
        " {'epoch': 1730,\n",
        "  'train_loss': 0.0037885581,\n",
        "  'valid_accuracy': 0.0076543852,\n",
        "  'valid_loss': 0.0076543852},\n",
        " {'epoch': 1731,\n",
        "  'train_loss': 0.0037883893,\n",
        "  'valid_accuracy': 0.007644969,\n",
        "  'valid_loss': 0.007644969},\n",
        " {'epoch': 1732,\n",
        "  'train_loss': 0.0038080176,\n",
        "  'valid_accuracy': 0.0076775094,\n",
        "  'valid_loss': 0.0076775094},\n",
        " {'epoch': 1733,\n",
        "  'train_loss': 0.0037568104,\n",
        "  'valid_accuracy': 0.007666125,\n",
        "  'valid_loss': 0.007666125},\n",
        " {'epoch': 1734,\n",
        "  'train_loss': 0.0038221781,\n",
        "  'valid_accuracy': 0.0076652383,\n",
        "  'valid_loss': 0.0076652383},\n",
        " {'epoch': 1735,\n",
        "  'train_loss': 0.0038036194,\n",
        "  'valid_accuracy': 0.0076522669,\n",
        "  'valid_loss': 0.0076522669},\n",
        " {'epoch': 1736,\n",
        "  'train_loss': 0.0037854414,\n",
        "  'valid_accuracy': 0.0076691387,\n",
        "  'valid_loss': 0.0076691387},\n",
        " {'epoch': 1737,\n",
        "  'train_loss': 0.0037789512,\n",
        "  'valid_accuracy': 0.0076457746,\n",
        "  'valid_loss': 0.0076457746},\n",
        " {'epoch': 1738,\n",
        "  'train_loss': 0.0037782551,\n",
        "  'valid_accuracy': 0.0076638795,\n",
        "  'valid_loss': 0.0076638795},\n",
        " {'epoch': 1739,\n",
        "  'train_loss': 0.0037704851,\n",
        "  'valid_accuracy': 0.0076609659,\n",
        "  'valid_loss': 0.0076609659},\n",
        " {'epoch': 1740,\n",
        "  'train_loss': 0.0037950913,\n",
        "  'valid_accuracy': 0.0076708025,\n",
        "  'valid_loss': 0.0076708025},\n",
        " {'epoch': 1741,\n",
        "  'train_loss': 0.0037813291,\n",
        "  'valid_accuracy': 0.0076754945,\n",
        "  'valid_loss': 0.0076754945},\n",
        " {'epoch': 1742,\n",
        "  'train_loss': 0.0037918284,\n",
        "  'valid_accuracy': 0.00765215,\n",
        "  'valid_loss': 0.00765215},\n",
        " {'epoch': 1743,\n",
        "  'train_loss': 0.0037379623,\n",
        "  'valid_accuracy': 0.0076533668,\n",
        "  'valid_loss': 0.0076533668},\n",
        " {'epoch': 1744,\n",
        "  'train_loss': 0.0037464036,\n",
        "  'valid_accuracy': 0.0076546213,\n",
        "  'valid_loss': 0.0076546213},\n",
        " {'epoch': 1745,\n",
        "  'train_loss': 0.003758024,\n",
        "  'valid_accuracy': 0.0076512704,\n",
        "  'valid_loss': 0.0076512704},\n",
        " {'epoch': 1746,\n",
        "  'train_loss': 0.0037864505,\n",
        "  'valid_accuracy': 0.0076683336,\n",
        "  'valid_loss': 0.0076683336},\n",
        " {'epoch': 1747,\n",
        "  'train_loss': 0.003735563,\n",
        "  'valid_accuracy': 0.0076378384,\n",
        "  'valid_loss': 0.0076378384},\n",
        " {'epoch': 1748,\n",
        "  'train_loss': 0.0037071428,\n",
        "  'valid_accuracy': 0.0076394458,\n",
        "  'valid_loss': 0.0076394458},\n",
        " {'epoch': 1749,\n",
        "  'train_loss': 0.0037349409,\n",
        "  'valid_accuracy': 0.0076417811,\n",
        "  'valid_loss': 0.0076417811},\n",
        " {'epoch': 1750,\n",
        "  'train_loss': 0.0037354245,\n",
        "  'valid_accuracy': 0.0076583498,\n",
        "  'valid_loss': 0.0076583498},\n",
        " {'epoch': 1751,\n",
        "  'train_loss': 0.0037003313,\n",
        "  'valid_accuracy': 0.0076547009,\n",
        "  'valid_loss': 0.0076547009},\n",
        " {'epoch': 1752,\n",
        "  'train_loss': 0.0038208503,\n",
        "  'valid_accuracy': 0.0076442147,\n",
        "  'valid_loss': 0.0076442147},\n",
        " {'epoch': 1753,\n",
        "  'train_loss': 0.0037092068,\n",
        "  'valid_accuracy': 0.0076624113,\n",
        "  'valid_loss': 0.0076624113},\n",
        " {'epoch': 1754,\n",
        "  'train_loss': 0.0037602584,\n",
        "  'valid_accuracy': 0.007641776,\n",
        "  'valid_loss': 0.007641776},\n",
        " {'epoch': 1755,\n",
        "  'train_loss': 0.0037001418,\n",
        "  'valid_accuracy': 0.0076406272,\n",
        "  'valid_loss': 0.0076406272},\n",
        " {'epoch': 1756,\n",
        "  'train_loss': 0.0036948775,\n",
        "  'valid_accuracy': 0.0076527745,\n",
        "  'valid_loss': 0.0076527745},\n",
        " {'epoch': 1757,\n",
        "  'train_loss': 0.0036577319,\n",
        "  'valid_accuracy': 0.007664483,\n",
        "  'valid_loss': 0.007664483},\n",
        " {'epoch': 1758,\n",
        "  'train_loss': 0.0036365318,\n",
        "  'valid_accuracy': 0.0076431236,\n",
        "  'valid_loss': 0.0076431236},\n",
        " {'epoch': 1759,\n",
        "  'train_loss': 0.0036769577,\n",
        "  'valid_accuracy': 0.0076687946,\n",
        "  'valid_loss': 0.0076687946},\n",
        " {'epoch': 1760,\n",
        "  'train_loss': 0.0037274712,\n",
        "  'valid_accuracy': 0.0076520131,\n",
        "  'valid_loss': 0.0076520131},\n",
        " {'epoch': 1761,\n",
        "  'train_loss': 0.0036802464,\n",
        "  'valid_accuracy': 0.0076489937,\n",
        "  'valid_loss': 0.0076489937},\n",
        " {'epoch': 1762,\n",
        "  'train_loss': 0.003711615,\n",
        "  'valid_accuracy': 0.0076305065,\n",
        "  'valid_loss': 0.0076305065},\n",
        " {'epoch': 1763,\n",
        "  'train_loss': 0.0037148322,\n",
        "  'valid_accuracy': 0.0076397499,\n",
        "  'valid_loss': 0.0076397499},\n",
        " {'epoch': 1764,\n",
        "  'train_loss': 0.0036887533,\n",
        "  'valid_accuracy': 0.0076655135,\n",
        "  'valid_loss': 0.0076655135},\n",
        " {'epoch': 1765,\n",
        "  'train_loss': 0.003662206,\n",
        "  'valid_accuracy': 0.0076545151,\n",
        "  'valid_loss': 0.0076545151},\n",
        " {'epoch': 1766,\n",
        "  'train_loss': 0.0036969415,\n",
        "  'valid_accuracy': 0.0076368293,\n",
        "  'valid_loss': 0.0076368293},\n",
        " {'epoch': 1767,\n",
        "  'train_loss': 0.0037412723,\n",
        "  'valid_accuracy': 0.0076419711,\n",
        "  'valid_loss': 0.0076419711},\n",
        " {'epoch': 1768,\n",
        "  'train_loss': 0.003740265,\n",
        "  'valid_accuracy': 0.0076579358,\n",
        "  'valid_loss': 0.0076579358},\n",
        " {'epoch': 1769,\n",
        "  'train_loss': 0.0037229662,\n",
        "  'valid_accuracy': 0.0076446398,\n",
        "  'valid_loss': 0.0076446398},\n",
        " {'epoch': 1770,\n",
        "  'train_loss': 0.0036391187,\n",
        "  'valid_accuracy': 0.007662077,\n",
        "  'valid_loss': 0.007662077},\n",
        " {'epoch': 1771,\n",
        "  'train_loss': 0.0036672084,\n",
        "  'valid_accuracy': 0.007645465,\n",
        "  'valid_loss': 0.007645465},\n",
        " {'epoch': 1772,\n",
        "  'train_loss': 0.0037372471,\n",
        "  'valid_accuracy': 0.0076529421,\n",
        "  'valid_loss': 0.0076529421},\n",
        " {'epoch': 1773,\n",
        "  'train_loss': 0.0037071418,\n",
        "  'valid_accuracy': 0.0076521393,\n",
        "  'valid_loss': 0.0076521393},\n",
        " {'epoch': 1774,\n",
        "  'train_loss': 0.0036465419,\n",
        "  'valid_accuracy': 0.007674281,\n",
        "  'valid_loss': 0.007674281},\n",
        " {'epoch': 1775,\n",
        "  'train_loss': 0.0037449421,\n",
        "  'valid_accuracy': 0.007653059,\n",
        "  'valid_loss': 0.007653059},\n",
        " {'epoch': 1776,\n",
        "  'train_loss': 0.0036553296,\n",
        "  'valid_accuracy': 0.0076566366,\n",
        "  'valid_loss': 0.0076566366},\n",
        " {'epoch': 1777,\n",
        "  'train_loss': 0.0036064007,\n",
        "  'valid_accuracy': 0.0076472163,\n",
        "  'valid_loss': 0.0076472163},\n",
        " {'epoch': 1778,\n",
        "  'train_loss': 0.0036672461,\n",
        "  'valid_accuracy': 0.0076586986,\n",
        "  'valid_loss': 0.0076586986},\n",
        " {'epoch': 1779,\n",
        "  'train_loss': 0.0036674095,\n",
        "  'valid_accuracy': 0.0076479344,\n",
        "  'valid_loss': 0.0076479344},\n",
        " {'epoch': 1780,\n",
        "  'train_loss': 0.0037227133,\n",
        "  'valid_accuracy': 0.0076436158,\n",
        "  'valid_loss': 0.0076436158},\n",
        " {'epoch': 1781,\n",
        "  'train_loss': 0.0035347759,\n",
        "  'valid_accuracy': 0.0076486482,\n",
        "  'valid_loss': 0.0076486482},\n",
        " {'epoch': 1782,\n",
        "  'train_loss': 0.0036049725,\n",
        "  'valid_accuracy': 0.0076415846,\n",
        "  'valid_loss': 0.0076415846},\n",
        " {'epoch': 1783,\n",
        "  'train_loss': 0.0035717161,\n",
        "  'valid_accuracy': 0.007643606,\n",
        "  'valid_loss': 0.007643606},\n",
        " {'epoch': 1784,\n",
        "  'train_loss': 0.0036852718,\n",
        "  'valid_accuracy': 0.0076629184,\n",
        "  'valid_loss': 0.0076629184},\n",
        " {'epoch': 1785,\n",
        "  'train_loss': 0.0036428366,\n",
        "  'valid_accuracy': 0.0076514441,\n",
        "  'valid_loss': 0.0076514441},\n",
        " {'epoch': 1786,\n",
        "  'train_loss': 0.0035908322,\n",
        "  'valid_accuracy': 0.0076556914,\n",
        "  'valid_loss': 0.0076556914},\n",
        " {'epoch': 1787,\n",
        "  'train_loss': 0.003706764,\n",
        "  'valid_accuracy': 0.0076498142,\n",
        "  'valid_loss': 0.0076498142},\n",
        " {'epoch': 1788,\n",
        "  'train_loss': 0.0036495957,\n",
        "  'valid_accuracy': 0.0076530236,\n",
        "  'valid_loss': 0.0076530236},\n",
        " {'epoch': 1789,\n",
        "  'train_loss': 0.0036764431,\n",
        "  'valid_accuracy': 0.0076366258,\n",
        "  'valid_loss': 0.0076366258},\n",
        " {'epoch': 1790,\n",
        "  'train_loss': 0.0036524415,\n",
        "  'valid_accuracy': 0.0076738438,\n",
        "  'valid_loss': 0.0076738438},\n",
        " {'epoch': 1791,\n",
        "  'train_loss': 0.0037130152,\n",
        "  'valid_accuracy': 0.0076549309,\n",
        "  'valid_loss': 0.0076549309},\n",
        " {'epoch': 1792,\n",
        "  'train_loss': 0.0036033234,\n",
        "  'valid_accuracy': 0.0076789176,\n",
        "  'valid_loss': 0.0076789176},\n",
        " {'epoch': 1793,\n",
        "  'train_loss': 0.0035412502,\n",
        "  'valid_accuracy': 0.0076807984,\n",
        "  'valid_loss': 0.0076807984},\n",
        " {'epoch': 1794,\n",
        "  'train_loss': 0.0035992165,\n",
        "  'valid_accuracy': 0.0076559521,\n",
        "  'valid_loss': 0.0076559521},\n",
        " {'epoch': 1795,\n",
        "  'train_loss': 0.00360144,\n",
        "  'valid_accuracy': 0.0076537617,\n",
        "  'valid_loss': 0.0076537617},\n",
        " {'epoch': 1796,\n",
        "  'train_loss': 0.003620371,\n",
        "  'valid_accuracy': 0.0076632686,\n",
        "  'valid_loss': 0.0076632686},\n",
        " {'epoch': 1797,\n",
        "  'train_loss': 0.0036955855,\n",
        "  'valid_accuracy': 0.0076524685,\n",
        "  'valid_loss': 0.0076524685},\n",
        " {'epoch': 1798,\n",
        "  'train_loss': 0.0036748156,\n",
        "  'valid_accuracy': 0.0076695778,\n",
        "  'valid_loss': 0.0076695778},\n",
        " {'epoch': 1799,\n",
        "  'train_loss': 0.0035883773,\n",
        "  'valid_accuracy': 0.0076432526,\n",
        "  'valid_loss': 0.0076432526},\n",
        " {'epoch': 1800,\n",
        "  'train_loss': 0.00362724,\n",
        "  'valid_accuracy': 0.0076506683,\n",
        "  'valid_loss': 0.0076506683},\n",
        " {'epoch': 1801,\n",
        "  'train_loss': 0.0036260155,\n",
        "  'valid_accuracy': 0.0076501179,\n",
        "  'valid_loss': 0.0076501179},\n",
        " {'epoch': 1802,\n",
        "  'train_loss': 0.0036698591,\n",
        "  'valid_accuracy': 0.0076698386,\n",
        "  'valid_loss': 0.0076698386},\n",
        " {'epoch': 1803,\n",
        "  'train_loss': 0.00362727,\n",
        "  'valid_accuracy': 0.0076471064,\n",
        "  'valid_loss': 0.0076471064},\n",
        " {'epoch': 1804,\n",
        "  'train_loss': 0.00356049,\n",
        "  'valid_accuracy': 0.0076280674,\n",
        "  'valid_loss': 0.0076280674},\n",
        " {'epoch': 1805,\n",
        "  'train_loss': 0.0036332705,\n",
        "  'valid_accuracy': 0.0076588579,\n",
        "  'valid_loss': 0.0076588579},\n",
        " {'epoch': 1806,\n",
        "  'train_loss': 0.0036667048,\n",
        "  'valid_accuracy': 0.0076475535,\n",
        "  'valid_loss': 0.0076475535},\n",
        " {'epoch': 1807,\n",
        "  'train_loss': 0.003529934,\n",
        "  'valid_accuracy': 0.007644034,\n",
        "  'valid_loss': 0.007644034},\n",
        " {'epoch': 1808,\n",
        "  'train_loss': 0.003604345,\n",
        "  'valid_accuracy': 0.0076565146,\n",
        "  'valid_loss': 0.0076565146},\n",
        " {'epoch': 1809,\n",
        "  'train_loss': 0.0035782252,\n",
        "  'valid_accuracy': 0.0076329298,\n",
        "  'valid_loss': 0.0076329298},\n",
        " {'epoch': 1810,\n",
        "  'train_loss': 0.0036177868,\n",
        "  'valid_accuracy': 0.0076516843,\n",
        "  'valid_loss': 0.0076516843},\n",
        " {'epoch': 1811,\n",
        "  'train_loss': 0.0036510732,\n",
        "  'valid_accuracy': 0.007641051,\n",
        "  'valid_loss': 0.007641051},\n",
        " {'epoch': 1812,\n",
        "  'train_loss': 0.0036043748,\n",
        "  'valid_accuracy': 0.0076489272,\n",
        "  'valid_loss': 0.0076489272},\n",
        " {'epoch': 1813,\n",
        "  'train_loss': 0.0036712904,\n",
        "  'valid_accuracy': 0.0076509244,\n",
        "  'valid_loss': 0.0076509244},\n",
        " {'epoch': 1814,\n",
        "  'train_loss': 0.0035662076,\n",
        "  'valid_accuracy': 0.0076472275,\n",
        "  'valid_loss': 0.0076472275},\n",
        " {'epoch': 1815,\n",
        "  'train_loss': 0.0036372661,\n",
        "  'valid_accuracy': 0.0076370267,\n",
        "  'valid_loss': 0.0076370267},\n",
        " {'epoch': 1816,\n",
        "  'train_loss': 0.0034981733,\n",
        "  'valid_accuracy': 0.0076420563,\n",
        "  'valid_loss': 0.0076420563},\n",
        " {'epoch': 1817,\n",
        "  'train_loss': 0.0035653503,\n",
        "  'valid_accuracy': 0.0076325126,\n",
        "  'valid_loss': 0.0076325126},\n",
        " {'epoch': 1818,\n",
        "  'train_loss': 0.0035661415,\n",
        "  'valid_accuracy': 0.0076326216,\n",
        "  'valid_loss': 0.0076326216},\n",
        " {'epoch': 1819,\n",
        "  'train_loss': 0.0035498138,\n",
        "  'valid_accuracy': 0.0076274523,\n",
        "  'valid_loss': 0.0076274523},\n",
        " {'epoch': 1820,\n",
        "  'train_loss': 0.0035745224,\n",
        "  'valid_accuracy': 0.0076622311,\n",
        "  'valid_loss': 0.0076622311},\n",
        " {'epoch': 1821,\n",
        "  'train_loss': 0.0035836007,\n",
        "  'valid_accuracy': 0.0076449416,\n",
        "  'valid_loss': 0.0076449416},\n",
        " {'epoch': 1822,\n",
        "  'train_loss': 0.0035116347,\n",
        "  'valid_accuracy': 0.0076630171,\n",
        "  'valid_loss': 0.0076630171},\n",
        " {'epoch': 1823,\n",
        "  'train_loss': 0.003506091,\n",
        "  'valid_accuracy': 0.0076669496,\n",
        "  'valid_loss': 0.0076669496},\n",
        " {'epoch': 1824,\n",
        "  'train_loss': 0.0035341787,\n",
        "  'valid_accuracy': 0.0076486059,\n",
        "  'valid_loss': 0.0076486059},\n",
        " {'epoch': 1825,\n",
        "  'train_loss': 0.0035163851,\n",
        "  'valid_accuracy': 0.007633009,\n",
        "  'valid_loss': 0.007633009},\n",
        " {'epoch': 1826,\n",
        "  'train_loss': 0.0035812543,\n",
        "  'valid_accuracy': 0.0076423804,\n",
        "  'valid_loss': 0.0076423804},\n",
        " {'epoch': 1827,\n",
        "  'train_loss': 0.0035424277,\n",
        "  'valid_accuracy': 0.0076396125,\n",
        "  'valid_loss': 0.0076396125},\n",
        " {'epoch': 1828,\n",
        "  'train_loss': 0.0035016753,\n",
        "  'valid_accuracy': 0.0076538255,\n",
        "  'valid_loss': 0.0076538255},\n",
        " {'epoch': 1829,\n",
        "  'train_loss': 0.0035100856,\n",
        "  'valid_accuracy': 0.0076535484,\n",
        "  'valid_loss': 0.0076535484},\n",
        " {'epoch': 1830,\n",
        "  'train_loss': 0.0036022502,\n",
        "  'valid_accuracy': 0.0076605435,\n",
        "  'valid_loss': 0.0076605435},\n",
        " {'epoch': 1831,\n",
        "  'train_loss': 0.00362349,\n",
        "  'valid_accuracy': 0.0076495167,\n",
        "  'valid_loss': 0.0076495167},\n",
        " {'epoch': 1832,\n",
        "  'train_loss': 0.0035646404,\n",
        "  'valid_accuracy': 0.0076421835,\n",
        "  'valid_loss': 0.0076421835},\n",
        " {'epoch': 1833,\n",
        "  'train_loss': 0.0035319238,\n",
        "  'valid_accuracy': 0.0076494175,\n",
        "  'valid_loss': 0.0076494175},\n",
        " {'epoch': 1834,\n",
        "  'train_loss': 0.0035336567,\n",
        "  'valid_accuracy': 0.0076449206,\n",
        "  'valid_loss': 0.0076449206},\n",
        " {'epoch': 1835,\n",
        "  'train_loss': 0.0035362635,\n",
        "  'valid_accuracy': 0.0076294118,\n",
        "  'valid_loss': 0.0076294118},\n",
        " {'epoch': 1836,\n",
        "  'train_loss': 0.0035744316,\n",
        "  'valid_accuracy': 0.0076329238,\n",
        "  'valid_loss': 0.0076329238},\n",
        " {'epoch': 1837,\n",
        "  'train_loss': 0.0035197104,\n",
        "  'valid_accuracy': 0.0076350393,\n",
        "  'valid_loss': 0.0076350393},\n",
        " {'epoch': 1838,\n",
        "  'train_loss': 0.0035448656,\n",
        "  'valid_accuracy': 0.0076357685,\n",
        "  'valid_loss': 0.0076357685},\n",
        " {'epoch': 1839,\n",
        "  'train_loss': 0.0035474021,\n",
        "  'valid_accuracy': 0.0076304907,\n",
        "  'valid_loss': 0.0076304907},\n",
        " {'epoch': 1840,\n",
        "  'train_loss': 0.0035091478,\n",
        "  'valid_accuracy': 0.0076367883,\n",
        "  'valid_loss': 0.0076367883},\n",
        " {'epoch': 1841,\n",
        "  'train_loss': 0.0034262252,\n",
        "  'valid_accuracy': 0.0076404,\n",
        "  'valid_loss': 0.0076404},\n",
        " {'epoch': 1842,\n",
        "  'train_loss': 0.0035854399,\n",
        "  'valid_accuracy': 0.0076510594,\n",
        "  'valid_loss': 0.0076510594},\n",
        " {'epoch': 1843,\n",
        "  'train_loss': 0.0035317044,\n",
        "  'valid_accuracy': 0.007640148,\n",
        "  'valid_loss': 0.007640148},\n",
        " {'epoch': 1844,\n",
        "  'train_loss': 0.0034496263,\n",
        "  'valid_accuracy': 0.0076498808,\n",
        "  'valid_loss': 0.0076498808},\n",
        " {'epoch': 1845,\n",
        "  'train_loss': 0.0035614062,\n",
        "  'valid_accuracy': 0.0076456247,\n",
        "  'valid_loss': 0.0076456247},\n",
        " {'epoch': 1846,\n",
        "  'train_loss': 0.0035565642,\n",
        "  'valid_accuracy': 0.0076519847,\n",
        "  'valid_loss': 0.0076519847},\n",
        " {'epoch': 1847,\n",
        "  'train_loss': 0.0034807669,\n",
        "  'valid_accuracy': 0.0076352828,\n",
        "  'valid_loss': 0.0076352828},\n",
        " {'epoch': 1848,\n",
        "  'train_loss': 0.0035012895,\n",
        "  'valid_accuracy': 0.0076292166,\n",
        "  'valid_loss': 0.0076292166},\n",
        " {'epoch': 1849,\n",
        "  'train_loss': 0.0035285968,\n",
        "  'valid_accuracy': 0.007678438,\n",
        "  'valid_loss': 0.007678438},\n",
        " {'epoch': 1850,\n",
        "  'train_loss': 0.0035354223,\n",
        "  'valid_accuracy': 0.0076308954,\n",
        "  'valid_loss': 0.0076308954},\n",
        " {'epoch': 1851,\n",
        "  'train_loss': 0.0035429909,\n",
        "  'valid_accuracy': 0.0076437006,\n",
        "  'valid_loss': 0.0076437006},\n",
        " {'epoch': 1852,\n",
        "  'train_loss': 0.0035339633,\n",
        "  'valid_accuracy': 0.0076376563,\n",
        "  'valid_loss': 0.0076376563},\n",
        " {'epoch': 1853,\n",
        "  'train_loss': 0.0035781153,\n",
        "  'valid_accuracy': 0.0076363287,\n",
        "  'valid_loss': 0.0076363287},\n",
        " {'epoch': 1854,\n",
        "  'train_loss': 0.0034972436,\n",
        "  'valid_accuracy': 0.0076442673,\n",
        "  'valid_loss': 0.0076442673},\n",
        " {'epoch': 1855,\n",
        "  'train_loss': 0.0034508626,\n",
        "  'valid_accuracy': 0.0076512406,\n",
        "  'valid_loss': 0.0076512406},\n",
        " {'epoch': 1856,\n",
        "  'train_loss': 0.0034832703,\n",
        "  'valid_accuracy': 0.0076529048,\n",
        "  'valid_loss': 0.0076529048},\n",
        " {'epoch': 1857,\n",
        "  'train_loss': 0.0035101429,\n",
        "  'valid_accuracy': 0.0076270588,\n",
        "  'valid_loss': 0.0076270588},\n",
        " {'epoch': 1858,\n",
        "  'train_loss': 0.0035032257,\n",
        "  'valid_accuracy': 0.0076432298,\n",
        "  'valid_loss': 0.0076432298},\n",
        " {'epoch': 1859,\n",
        "  'train_loss': 0.0035427643,\n",
        "  'valid_accuracy': 0.0076259756,\n",
        "  'valid_loss': 0.0076259756},\n",
        " {'epoch': 1860,\n",
        "  'train_loss': 0.0034941218,\n",
        "  'valid_accuracy': 0.0076077674,\n",
        "  'valid_loss': 0.0076077674},\n",
        " {'epoch': 1861,\n",
        "  'train_loss': 0.0034629449,\n",
        "  'valid_accuracy': 0.0076303221,\n",
        "  'valid_loss': 0.0076303221},\n",
        " {'epoch': 1862,\n",
        "  'train_loss': 0.0034989663,\n",
        "  'valid_accuracy': 0.0076331981,\n",
        "  'valid_loss': 0.0076331981},\n",
        " {'epoch': 1863,\n",
        "  'train_loss': 0.0034801729,\n",
        "  'valid_accuracy': 0.0076291845,\n",
        "  'valid_loss': 0.0076291845},\n",
        " {'epoch': 1864,\n",
        "  'train_loss': 0.0034864014,\n",
        "  'valid_accuracy': 0.0076520033,\n",
        "  'valid_loss': 0.0076520033},\n",
        " {'epoch': 1865,\n",
        "  'train_loss': 0.0034591362,\n",
        "  'valid_accuracy': 0.0076228408,\n",
        "  'valid_loss': 0.0076228408},\n",
        " {'epoch': 1866,\n",
        "  'train_loss': 0.0035533786,\n",
        "  'valid_accuracy': 0.0076233,\n",
        "  'valid_loss': 0.0076233},\n",
        " {'epoch': 1867,\n",
        "  'train_loss': 0.0033825592,\n",
        "  'valid_accuracy': 0.0076246569,\n",
        "  'valid_loss': 0.0076246569},\n",
        " {'epoch': 1868,\n",
        "  'train_loss': 0.0034624953,\n",
        "  'valid_accuracy': 0.0076374738,\n",
        "  'valid_loss': 0.0076374738},\n",
        " {'epoch': 1869,\n",
        "  'train_loss': 0.0034450712,\n",
        "  'valid_accuracy': 0.0076292357,\n",
        "  'valid_loss': 0.0076292357},\n",
        " {'epoch': 1870,\n",
        "  'train_loss': 0.0034513064,\n",
        "  'valid_accuracy': 0.0076406188,\n",
        "  'valid_loss': 0.0076406188},\n",
        " {'epoch': 1871,\n",
        "  'train_loss': 0.003414396,\n",
        "  'valid_accuracy': 0.0076510403,\n",
        "  'valid_loss': 0.0076510403},\n",
        " {'epoch': 1872,\n",
        "  'train_loss': 0.0033984529,\n",
        "  'valid_accuracy': 0.0076479474,\n",
        "  'valid_loss': 0.0076479474},\n",
        " {'epoch': 1873,\n",
        "  'train_loss': 0.0034441894,\n",
        "  'valid_accuracy': 0.0076346747,\n",
        "  'valid_loss': 0.0076346747},\n",
        " {'epoch': 1874,\n",
        "  'train_loss': 0.0034406206,\n",
        "  'valid_accuracy': 0.0076359236,\n",
        "  'valid_loss': 0.0076359236},\n",
        " {'epoch': 1875,\n",
        "  'train_loss': 0.0034078737,\n",
        "  'valid_accuracy': 0.007646577,\n",
        "  'valid_loss': 0.007646577},\n",
        " {'epoch': 1876,\n",
        "  'train_loss': 0.0034563451,\n",
        "  'valid_accuracy': 0.0076428801,\n",
        "  'valid_loss': 0.0076428801},\n",
        " {'epoch': 1877,\n",
        "  'train_loss': 0.0033846372,\n",
        "  'valid_accuracy': 0.007617983,\n",
        "  'valid_loss': 0.007617983},\n",
        " {'epoch': 1878,\n",
        "  'train_loss': 0.0034650629,\n",
        "  'valid_accuracy': 0.0076470934,\n",
        "  'valid_loss': 0.0076470934},\n",
        " {'epoch': 1879,\n",
        "  'train_loss': 0.0035144063,\n",
        "  'valid_accuracy': 0.0076364619,\n",
        "  'valid_loss': 0.0076364619},\n",
        " {'epoch': 1880,\n",
        "  'train_loss': 0.0034116653,\n",
        "  'valid_accuracy': 0.0076215337,\n",
        "  'valid_loss': 0.0076215337},\n",
        " {'epoch': 1881,\n",
        "  'train_loss': 0.003505846,\n",
        "  'valid_accuracy': 0.0076343212,\n",
        "  'valid_loss': 0.0076343212},\n",
        " {'epoch': 1882,\n",
        "  'train_loss': 0.0034174242,\n",
        "  'valid_accuracy': 0.0076348549,\n",
        "  'valid_loss': 0.0076348549},\n",
        " {'epoch': 1883,\n",
        "  'train_loss': 0.0034629595,\n",
        "  'valid_accuracy': 0.0076216077,\n",
        "  'valid_loss': 0.0076216077},\n",
        " {'epoch': 1884,\n",
        "  'train_loss': 0.0034420558,\n",
        "  'valid_accuracy': 0.0076401602,\n",
        "  'valid_loss': 0.0076401602},\n",
        " {'epoch': 1885,\n",
        "  'train_loss': 0.0033823026,\n",
        "  'valid_accuracy': 0.0076221363,\n",
        "  'valid_loss': 0.0076221363},\n",
        " {'epoch': 1886,\n",
        "  'train_loss': 0.0034582508,\n",
        "  'valid_accuracy': 0.0076204054,\n",
        "  'valid_loss': 0.0076204054},\n",
        " {'epoch': 1887,\n",
        "  'train_loss': 0.0034422055,\n",
        "  'valid_accuracy': 0.0076171882,\n",
        "  'valid_loss': 0.0076171882},\n",
        " {'epoch': 1888,\n",
        "  'train_loss': 0.0033823717,\n",
        "  'valid_accuracy': 0.0076012099,\n",
        "  'valid_loss': 0.0076012099},\n",
        " {'epoch': 1889,\n",
        "  'train_loss': 0.0034386383,\n",
        "  'valid_accuracy': 0.0076206285,\n",
        "  'valid_loss': 0.0076206285},\n",
        " {'epoch': 1890,\n",
        "  'train_loss': 0.0034278266,\n",
        "  'valid_accuracy': 0.0076381415,\n",
        "  'valid_loss': 0.0076381415},\n",
        " {'epoch': 1891,\n",
        "  'train_loss': 0.003400712,\n",
        "  'valid_accuracy': 0.0076401257,\n",
        "  'valid_loss': 0.0076401257},\n",
        " {'epoch': 1892,\n",
        "  'train_loss': 0.0034397962,\n",
        "  'valid_accuracy': 0.0076434668,\n",
        "  'valid_loss': 0.0076434668},\n",
        " {'epoch': 1893,\n",
        "  'train_loss': 0.00336086,\n",
        "  'valid_accuracy': 0.0076410836,\n",
        "  'valid_loss': 0.0076410836},\n",
        " {'epoch': 1894,\n",
        "  'train_loss': 0.0034242708,\n",
        "  'valid_accuracy': 0.0076307668,\n",
        "  'valid_loss': 0.0076307668},\n",
        " {'epoch': 1895,\n",
        "  'train_loss': 0.0034025463,\n",
        "  'valid_accuracy': 0.0076260916,\n",
        "  'valid_loss': 0.0076260916},\n",
        " {'epoch': 1896,\n",
        "  'train_loss': 0.0033994014,\n",
        "  'valid_accuracy': 0.0076258858,\n",
        "  'valid_loss': 0.0076258858},\n",
        " {'epoch': 1897,\n",
        "  'train_loss': 0.0034031589,\n",
        "  'valid_accuracy': 0.007626723,\n",
        "  'valid_loss': 0.007626723},\n",
        " {'epoch': 1898,\n",
        "  'train_loss': 0.0033073267,\n",
        "  'valid_accuracy': 0.0076111234,\n",
        "  'valid_loss': 0.0076111234},\n",
        " {'epoch': 1899,\n",
        "  'train_loss': 0.003412921,\n",
        "  'valid_accuracy': 0.0076356689,\n",
        "  'valid_loss': 0.0076356689},\n",
        " {'epoch': 1900,\n",
        "  'train_loss': 0.0034246575,\n",
        "  'valid_accuracy': 0.007637524,\n",
        "  'valid_loss': 0.007637524},\n",
        " {'epoch': 1901,\n",
        "  'train_loss': 0.0034362627,\n",
        "  'valid_accuracy': 0.0076173921,\n",
        "  'valid_loss': 0.0076173921},\n",
        " {'epoch': 1902,\n",
        "  'train_loss': 0.0034403985,\n",
        "  'valid_accuracy': 0.0076127131,\n",
        "  'valid_loss': 0.0076127131},\n",
        " {'epoch': 1903,\n",
        "  'train_loss': 0.0033819736,\n",
        "  'valid_accuracy': 0.0076124477,\n",
        "  'valid_loss': 0.0076124477},\n",
        " {'epoch': 1904,\n",
        "  'train_loss': 0.0034971761,\n",
        "  'valid_accuracy': 0.0076268464,\n",
        "  'valid_loss': 0.0076268464},\n",
        " {'epoch': 1905,\n",
        "  'train_loss': 0.003370499,\n",
        "  'valid_accuracy': 0.0076497416,\n",
        "  'valid_loss': 0.0076497416},\n",
        " {'epoch': 1906,\n",
        "  'train_loss': 0.0033898095,\n",
        "  'valid_accuracy': 0.0076362682,\n",
        "  'valid_loss': 0.0076362682},\n",
        " {'epoch': 1907,\n",
        "  'train_loss': 0.0033433922,\n",
        "  'valid_accuracy': 0.0076298402,\n",
        "  'valid_loss': 0.0076298402},\n",
        " {'epoch': 1908,\n",
        "  'train_loss': 0.0033828141,\n",
        "  'valid_accuracy': 0.0076291249,\n",
        "  'valid_loss': 0.0076291249},\n",
        " {'epoch': 1909,\n",
        "  'train_loss': 0.0033026603,\n",
        "  'valid_accuracy': 0.0076340162,\n",
        "  'valid_loss': 0.0076340162},\n",
        " {'epoch': 1910,\n",
        "  'train_loss': 0.0034666187,\n",
        "  'valid_accuracy': 0.0076136966,\n",
        "  'valid_loss': 0.0076136966},\n",
        " {'epoch': 1911,\n",
        "  'train_loss': 0.0034243001,\n",
        "  'valid_accuracy': 0.007594035,\n",
        "  'valid_loss': 0.007594035},\n",
        " {'epoch': 1912,\n",
        "  'train_loss': 0.0033289613,\n",
        "  'valid_accuracy': 0.0076298211,\n",
        "  'valid_loss': 0.0076298211},\n",
        " {'epoch': 1913,\n",
        "  'train_loss': 0.0033718236,\n",
        "  'valid_accuracy': 0.0076197754,\n",
        "  'valid_loss': 0.0076197754},\n",
        " {'epoch': 1914,\n",
        "  'train_loss': 0.0033408687,\n",
        "  'valid_accuracy': 0.007626168,\n",
        "  'valid_loss': 0.007626168},\n",
        " {'epoch': 1915,\n",
        "  'train_loss': 0.0033784383,\n",
        "  'valid_accuracy': 0.0076242113,\n",
        "  'valid_loss': 0.0076242113},\n",
        " {'epoch': 1916,\n",
        "  'train_loss': 0.0033925415,\n",
        "  'valid_accuracy': 0.0076236585,\n",
        "  'valid_loss': 0.0076236585},\n",
        " {'epoch': 1917,\n",
        "  'train_loss': 0.0033787992,\n",
        "  'valid_accuracy': 0.0076036532,\n",
        "  'valid_loss': 0.0076036532},\n",
        " {'epoch': 1918,\n",
        "  'train_loss': 0.0033180071,\n",
        "  'valid_accuracy': 0.0076105269,\n",
        "  'valid_loss': 0.0076105269},\n",
        " {'epoch': 1919,\n",
        "  'train_loss': 0.0033208441,\n",
        "  'valid_accuracy': 0.0076409555,\n",
        "  'valid_loss': 0.0076409555},\n",
        " {'epoch': 1920,\n",
        "  'train_loss': 0.0034389205,\n",
        "  'valid_accuracy': 0.0076181241,\n",
        "  'valid_loss': 0.0076181241},\n",
        " {'epoch': 1921,\n",
        "  'train_loss': 0.003370818,\n",
        "  'valid_accuracy': 0.0076070144,\n",
        "  'valid_loss': 0.0076070144},\n",
        " {'epoch': 1922,\n",
        "  'train_loss': 0.0033510837,\n",
        "  'valid_accuracy': 0.0076075592,\n",
        "  'valid_loss': 0.0076075592},\n",
        " {'epoch': 1923,\n",
        "  'train_loss': 0.0033690447,\n",
        "  'valid_accuracy': 0.0076201679,\n",
        "  'valid_loss': 0.0076201679},\n",
        " {'epoch': 1924,\n",
        "  'train_loss': 0.0033559804,\n",
        "  'valid_accuracy': 0.0076228459,\n",
        "  'valid_loss': 0.0076228459},\n",
        " {'epoch': 1925,\n",
        "  'train_loss': 0.0033858113,\n",
        "  'valid_accuracy': 0.0076269847,\n",
        "  'valid_loss': 0.0076269847},\n",
        " {'epoch': 1926,\n",
        "  'train_loss': 0.0033445649,\n",
        "  'valid_accuracy': 0.0076201772,\n",
        "  'valid_loss': 0.0076201772},\n",
        " {'epoch': 1927,\n",
        "  'train_loss': 0.0034105922,\n",
        "  'valid_accuracy': 0.0076303128,\n",
        "  'valid_loss': 0.0076303128},\n",
        " {'epoch': 1928,\n",
        "  'train_loss': 0.0034174742,\n",
        "  'valid_accuracy': 0.0076229628,\n",
        "  'valid_loss': 0.0076229628},\n",
        " {'epoch': 1929,\n",
        "  'train_loss': 0.003430536,\n",
        "  'valid_accuracy': 0.0076035773,\n",
        "  'valid_loss': 0.0076035773},\n",
        " {'epoch': 1930,\n",
        "  'train_loss': 0.0033079109,\n",
        "  'valid_accuracy': 0.007635023,\n",
        "  'valid_loss': 0.007635023},\n",
        " {'epoch': 1931,\n",
        "  'train_loss': 0.0033816139,\n",
        "  'valid_accuracy': 0.0076113963,\n",
        "  'valid_loss': 0.0076113963},\n",
        " {'epoch': 1932,\n",
        "  'train_loss': 0.0033704054,\n",
        "  'valid_accuracy': 0.007612295,\n",
        "  'valid_loss': 0.007612295},\n",
        " {'epoch': 1933,\n",
        "  'train_loss': 0.0032653266,\n",
        "  'valid_accuracy': 0.0076191369,\n",
        "  'valid_loss': 0.0076191369},\n",
        " {'epoch': 1934,\n",
        "  'train_loss': 0.0033358356,\n",
        "  'valid_accuracy': 0.0076174196,\n",
        "  'valid_loss': 0.0076174196},\n",
        " {'epoch': 1935,\n",
        "  'train_loss': 0.0033605709,\n",
        "  'valid_accuracy': 0.0076426077,\n",
        "  'valid_loss': 0.0076426077},\n",
        " {'epoch': 1936,\n",
        "  'train_loss': 0.0033126599,\n",
        "  'valid_accuracy': 0.0076083951,\n",
        "  'valid_loss': 0.0076083951},\n",
        " {'epoch': 1937,\n",
        "  'train_loss': 0.0032936772,\n",
        "  'valid_accuracy': 0.0076271268,\n",
        "  'valid_loss': 0.0076271268},\n",
        " {'epoch': 1938,\n",
        "  'train_loss': 0.0033350918,\n",
        "  'valid_accuracy': 0.0076272958,\n",
        "  'valid_loss': 0.0076272958},\n",
        " {'epoch': 1939,\n",
        "  'train_loss': 0.0032821505,\n",
        "  'valid_accuracy': 0.0076370249,\n",
        "  'valid_loss': 0.0076370249},\n",
        " {'epoch': 1940,\n",
        "  'train_loss': 0.0033439291,\n",
        "  'valid_accuracy': 0.0076212068,\n",
        "  'valid_loss': 0.0076212068},\n",
        " {'epoch': 1941,\n",
        "  'train_loss': 0.0032911038,\n",
        "  'valid_accuracy': 0.0076251952,\n",
        "  'valid_loss': 0.0076251952},\n",
        " {'epoch': 1942,\n",
        "  'train_loss': 0.003332874,\n",
        "  'valid_accuracy': 0.0076390943,\n",
        "  'valid_loss': 0.0076390943},\n",
        " {'epoch': 1943,\n",
        "  'train_loss': 0.0033810849,\n",
        "  'valid_accuracy': 0.0076205665,\n",
        "  'valid_loss': 0.0076205665},\n",
        " {'epoch': 1944,\n",
        "  'train_loss': 0.0032921736,\n",
        "  'valid_accuracy': 0.0076315105,\n",
        "  'valid_loss': 0.0076315105},\n",
        " {'epoch': 1945,\n",
        "  'train_loss': 0.0033538337,\n",
        "  'valid_accuracy': 0.007607121,\n",
        "  'valid_loss': 0.007607121},\n",
        " {'epoch': 1946,\n",
        "  'train_loss': 0.0033549387,\n",
        "  'valid_accuracy': 0.00764642,\n",
        "  'valid_loss': 0.00764642},\n",
        " {'epoch': 1947,\n",
        "  'train_loss': 0.0032840376,\n",
        "  'valid_accuracy': 0.007639193,\n",
        "  'valid_loss': 0.007639193},\n",
        " {'epoch': 1948,\n",
        "  'train_loss': 0.0033207515,\n",
        "  'valid_accuracy': 0.0076180017,\n",
        "  'valid_loss': 0.0076180017},\n",
        " {'epoch': 1949,\n",
        "  'train_loss': 0.003345181,\n",
        "  'valid_accuracy': 0.0076184627,\n",
        "  'valid_loss': 0.0076184627},\n",
        " {'epoch': 1950,\n",
        "  'train_loss': 0.0032782229,\n",
        "  'valid_accuracy': 0.007630378,\n",
        "  'valid_loss': 0.007630378},\n",
        " {'epoch': 1951,\n",
        "  'train_loss': 0.0033633469,\n",
        "  'valid_accuracy': 0.007625585,\n",
        "  'valid_loss': 0.007625585},\n",
        " {'epoch': 1952,\n",
        "  'train_loss': 0.0032946442,\n",
        "  'valid_accuracy': 0.0076357997,\n",
        "  'valid_loss': 0.0076357997},\n",
        " {'epoch': 1953,\n",
        "  'train_loss': 0.0031672597,\n",
        "  'valid_accuracy': 0.0076224017,\n",
        "  'valid_loss': 0.0076224017},\n",
        " {'epoch': 1954,\n",
        "  'train_loss': 0.0033704061,\n",
        "  'valid_accuracy': 0.0076234434,\n",
        "  'valid_loss': 0.0076234434},\n",
        " {'epoch': 1955,\n",
        "  'train_loss': 0.0031970011,\n",
        "  'valid_accuracy': 0.0076282839,\n",
        "  'valid_loss': 0.0076282839},\n",
        " {'epoch': 1956,\n",
        "  'train_loss': 0.0032649208,\n",
        "  'valid_accuracy': 0.007624357,\n",
        "  'valid_loss': 0.007624357},\n",
        " {'epoch': 1957,\n",
        "  'train_loss': 0.0032900253,\n",
        "  'valid_accuracy': 0.0076234662,\n",
        "  'valid_loss': 0.0076234662},\n",
        " {'epoch': 1958,\n",
        "  'train_loss': 0.0032679781,\n",
        "  'valid_accuracy': 0.0076271156,\n",
        "  'valid_loss': 0.0076271156},\n",
        " {'epoch': 1959,\n",
        "  'train_loss': 0.0033149228,\n",
        "  'valid_accuracy': 0.0076351753,\n",
        "  'valid_loss': 0.0076351753},\n",
        " {'epoch': 1960,\n",
        "  'train_loss': 0.0032588686,\n",
        "  'valid_accuracy': 0.0076084058,\n",
        "  'valid_loss': 0.0076084058},\n",
        " {'epoch': 1961,\n",
        "  'train_loss': 0.0032549892,\n",
        "  'valid_accuracy': 0.007629212,\n",
        "  'valid_loss': 0.007629212},\n",
        " {'epoch': 1962,\n",
        "  'train_loss': 0.0032664186,\n",
        "  'valid_accuracy': 0.0076285312,\n",
        "  'valid_loss': 0.0076285312},\n",
        " {'epoch': 1963,\n",
        "  'train_loss': 0.0033392953,\n",
        "  'valid_accuracy': 0.0076435576,\n",
        "  'valid_loss': 0.0076435576},\n",
        " {'epoch': 1964,\n",
        "  'train_loss': 0.0032987243,\n",
        "  'valid_accuracy': 0.0076204403,\n",
        "  'valid_loss': 0.0076204403},\n",
        " {'epoch': 1965,\n",
        "  'train_loss': 0.0032916393,\n",
        "  'valid_accuracy': 0.0076196073,\n",
        "  'valid_loss': 0.0076196073},\n",
        " {'epoch': 1966,\n",
        "  'train_loss': 0.0032418491,\n",
        "  'valid_accuracy': 0.0076223174,\n",
        "  'valid_loss': 0.0076223174},\n",
        " {'epoch': 1967,\n",
        "  'train_loss': 0.0032541507,\n",
        "  'valid_accuracy': 0.0076251612,\n",
        "  'valid_loss': 0.0076251612},\n",
        " {'epoch': 1968,\n",
        "  'train_loss': 0.0031978735,\n",
        "  'valid_accuracy': 0.0076298267,\n",
        "  'valid_loss': 0.0076298267},\n",
        " {'epoch': 1969,\n",
        "  'train_loss': 0.003244173,\n",
        "  'valid_accuracy': 0.0076449392,\n",
        "  'valid_loss': 0.0076449392},\n",
        " {'epoch': 1970,\n",
        "  'train_loss': 0.003245865,\n",
        "  'valid_accuracy': 0.0076190666,\n",
        "  'valid_loss': 0.0076190666},\n",
        " {'epoch': 1971,\n",
        "  'train_loss': 0.0032266099,\n",
        "  'valid_accuracy': 0.0076165441,\n",
        "  'valid_loss': 0.0076165441},\n",
        " {'epoch': 1972,\n",
        "  'train_loss': 0.0032746235,\n",
        "  'valid_accuracy': 0.0076487055,\n",
        "  'valid_loss': 0.0076487055},\n",
        " {'epoch': 1973,\n",
        "  'train_loss': 0.0032921704,\n",
        "  'valid_accuracy': 0.0076501155,\n",
        "  'valid_loss': 0.0076501155},\n",
        " {'epoch': 1974,\n",
        "  'train_loss': 0.0032762873,\n",
        "  'valid_accuracy': 0.0076366109,\n",
        "  'valid_loss': 0.0076366109},\n",
        " {'epoch': 1975,\n",
        "  'train_loss': 0.0032469975,\n",
        "  'valid_accuracy': 0.0076441695,\n",
        "  'valid_loss': 0.0076441695},\n",
        " {'epoch': 1976,\n",
        "  'train_loss': 0.0032320872,\n",
        "  'valid_accuracy': 0.0076573067,\n",
        "  'valid_loss': 0.0076573067},\n",
        " {'epoch': 1977,\n",
        "  'train_loss': 0.0032615133,\n",
        "  'valid_accuracy': 0.0076358728,\n",
        "  'valid_loss': 0.0076358728},\n",
        " {'epoch': 1978,\n",
        "  'train_loss': 0.0032462147,\n",
        "  'valid_accuracy': 0.007644102,\n",
        "  'valid_loss': 0.007644102},\n",
        " {'epoch': 1979,\n",
        "  'train_loss': 0.0032431418,\n",
        "  'valid_accuracy': 0.0076135164,\n",
        "  'valid_loss': 0.0076135164},\n",
        " {'epoch': 1980,\n",
        "  'train_loss': 0.0032778706,\n",
        "  'valid_accuracy': 0.0076123816,\n",
        "  'valid_loss': 0.0076123816},\n",
        " {'epoch': 1981,\n",
        "  'train_loss': 0.0032169891,\n",
        "  'valid_accuracy': 0.0076242494,\n",
        "  'valid_loss': 0.0076242494},\n",
        " {'epoch': 1982,\n",
        "  'train_loss': 0.0032181197,\n",
        "  'valid_accuracy': 0.0076289242,\n",
        "  'valid_loss': 0.0076289242},\n",
        " {'epoch': 1983,\n",
        "  'train_loss': 0.0031979594,\n",
        "  'valid_accuracy': 0.0076267542,\n",
        "  'valid_loss': 0.0076267542},\n",
        " {'epoch': 1984,\n",
        "  'train_loss': 0.0032590085,\n",
        "  'valid_accuracy': 0.0076244678,\n",
        "  'valid_loss': 0.0076244678},\n",
        " {'epoch': 1985,\n",
        "  'train_loss': 0.0032048218,\n",
        "  'valid_accuracy': 0.0076302779,\n",
        "  'valid_loss': 0.0076302779},\n",
        " {'epoch': 1986,\n",
        "  'train_loss': 0.0032247119,\n",
        "  'valid_accuracy': 0.0076153995,\n",
        "  'valid_loss': 0.0076153995},\n",
        " {'epoch': 1987,\n",
        "  'train_loss': 0.0032124713,\n",
        "  'valid_accuracy': 0.0076221353,\n",
        "  'valid_loss': 0.0076221353},\n",
        " {'epoch': 1988,\n",
        "  'train_loss': 0.0031982965,\n",
        "  'valid_accuracy': 0.0076461625,\n",
        "  'valid_loss': 0.0076461625},\n",
        " {'epoch': 1989,\n",
        "  'train_loss': 0.0032421902,\n",
        "  'valid_accuracy': 0.0076300744,\n",
        "  'valid_loss': 0.0076300744},\n",
        " {'epoch': 1990,\n",
        "  'train_loss': 0.0032514725,\n",
        "  'valid_accuracy': 0.0076520182,\n",
        "  'valid_loss': 0.0076520182},\n",
        " {'epoch': 1991,\n",
        "  'train_loss': 0.0032548872,\n",
        "  'valid_accuracy': 0.0076385001,\n",
        "  'valid_loss': 0.0076385001},\n",
        " {'epoch': 1992,\n",
        "  'train_loss': 0.0031876615,\n",
        "  'valid_accuracy': 0.0076402333,\n",
        "  'valid_loss': 0.0076402333},\n",
        " {'epoch': 1993,\n",
        "  'train_loss': 0.0032018435,\n",
        "  'valid_accuracy': 0.0076442901,\n",
        "  'valid_loss': 0.0076442901},\n",
        " {'epoch': 1994,\n",
        "  'train_loss': 0.0031498282,\n",
        "  'valid_accuracy': 0.0076203141,\n",
        "  'valid_loss': 0.0076203141},\n",
        " {'epoch': 1995,\n",
        "  'train_loss': 0.0032000553,\n",
        "  'valid_accuracy': 0.0076245572,\n",
        "  'valid_loss': 0.0076245572},\n",
        " {'epoch': 1996,\n",
        "  'train_loss': 0.003167551,\n",
        "  'valid_accuracy': 0.0076180645,\n",
        "  'valid_loss': 0.0076180645},\n",
        " {'epoch': 1997,\n",
        "  'train_loss': 0.0032055504,\n",
        "  'valid_accuracy': 0.007615299,\n",
        "  'valid_loss': 0.007615299},\n",
        " {'epoch': 1998,\n",
        "  'train_loss': 0.0032519572,\n",
        "  'valid_accuracy': 0.0076055788,\n",
        "  'valid_loss': 0.0076055788},\n",
        " {'epoch': 1999,\n",
        "  'train_loss': 0.0031258131,\n",
        "  'valid_accuracy': 0.007644386,\n",
        "  'valid_loss': 0.007644386},\n",
        " {'epoch': 2000,\n",
        "  'train_loss': 0.0031836403,\n",
        "  'valid_accuracy': 0.0076357303,\n",
        "  'valid_loss': 0.0076357303},\n",
        " {'epoch': 2001,\n",
        "  'train_loss': 0.003188896,\n",
        "  'valid_accuracy': 0.0076373289,\n",
        "  'valid_loss': 0.0076373289},\n",
        " {'epoch': 2002,\n",
        "  'train_loss': 0.0032520075,\n",
        "  'valid_accuracy': 0.0076138903,\n",
        "  'valid_loss': 0.0076138903},\n",
        " {'epoch': 2003,\n",
        "  'train_loss': 0.003226348,\n",
        "  'valid_accuracy': 0.0076300558,\n",
        "  'valid_loss': 0.0076300558},\n",
        " {'epoch': 2004,\n",
        "  'train_loss': 0.0032300411,\n",
        "  'valid_accuracy': 0.0076327287,\n",
        "  'valid_loss': 0.0076327287},\n",
        " {'epoch': 2005,\n",
        "  'train_loss': 0.0032090107,\n",
        "  'valid_accuracy': 0.0076243905,\n",
        "  'valid_loss': 0.0076243905},\n",
        " {'epoch': 2006,\n",
        "  'train_loss': 0.003235911,\n",
        "  'valid_accuracy': 0.0076327017,\n",
        "  'valid_loss': 0.0076327017},\n",
        " {'epoch': 2007,\n",
        "  'train_loss': 0.0032201125,\n",
        "  'valid_accuracy': 0.0076112896,\n",
        "  'valid_loss': 0.0076112896},\n",
        " {'epoch': 2008,\n",
        "  'train_loss': 0.0031666558,\n",
        "  'valid_accuracy': 0.0076181539,\n",
        "  'valid_loss': 0.0076181539},\n",
        " {'epoch': 2009,\n",
        "  'train_loss': 0.0032080207,\n",
        "  'valid_accuracy': 0.0076167695,\n",
        "  'valid_loss': 0.0076167695},\n",
        " {'epoch': 2010,\n",
        "  'train_loss': 0.0032280274,\n",
        "  'valid_accuracy': 0.0076125199,\n",
        "  'valid_loss': 0.0076125199},\n",
        " {'epoch': 2011,\n",
        "  'train_loss': 0.0031377403,\n",
        "  'valid_accuracy': 0.007612945,\n",
        "  'valid_loss': 0.007612945},\n",
        " {'epoch': 2012,\n",
        "  'train_loss': 0.0032050426,\n",
        "  'valid_accuracy': 0.0076199393,\n",
        "  'valid_loss': 0.0076199393},\n",
        " {'epoch': 2013,\n",
        "  'train_loss': 0.0031641021,\n",
        "  'valid_accuracy': 0.0076208697,\n",
        "  'valid_loss': 0.0076208697},\n",
        " {'epoch': 2014,\n",
        "  'train_loss': 0.0032339864,\n",
        "  'valid_accuracy': 0.0076163667,\n",
        "  'valid_loss': 0.0076163667},\n",
        " {'epoch': 2015,\n",
        "  'train_loss': 0.0031880292,\n",
        "  'valid_accuracy': 0.0076240543,\n",
        "  'valid_loss': 0.0076240543},\n",
        " {'epoch': 2016,\n",
        "  'train_loss': 0.003146318,\n",
        "  'valid_accuracy': 0.0076188515,\n",
        "  'valid_loss': 0.0076188515},\n",
        " {'epoch': 2017,\n",
        "  'train_loss': 0.0031643822,\n",
        "  'valid_accuracy': 0.0076147737,\n",
        "  'valid_loss': 0.0076147737},\n",
        " {'epoch': 2018,\n",
        "  'train_loss': 0.003115925,\n",
        "  'valid_accuracy': 0.0076091178,\n",
        "  'valid_loss': 0.0076091178},\n",
        " {'epoch': 2019,\n",
        "  'train_loss': 0.0031941817,\n",
        "  'valid_accuracy': 0.0076282215,\n",
        "  'valid_loss': 0.0076282215},\n",
        " {'epoch': 2020,\n",
        "  'train_loss': 0.0032190098,\n",
        "  'valid_accuracy': 0.0076195276,\n",
        "  'valid_loss': 0.0076195276},\n",
        " {'epoch': 2021,\n",
        "  'train_loss': 0.0032033026,\n",
        "  'valid_accuracy': 0.0076296977,\n",
        "  'valid_loss': 0.0076296977},\n",
        " {'epoch': 2022,\n",
        "  'train_loss': 0.0031258296,\n",
        "  'valid_accuracy': 0.0076285196,\n",
        "  'valid_loss': 0.0076285196},\n",
        " {'epoch': 2023,\n",
        "  'train_loss': 0.0032010309,\n",
        "  'valid_accuracy': 0.0076092333,\n",
        "  'valid_loss': 0.0076092333},\n",
        " {'epoch': 2024,\n",
        "  'train_loss': 0.0031355124,\n",
        "  'valid_accuracy': 0.0075901705,\n",
        "  'valid_loss': 0.0075901705},\n",
        " {'epoch': 2025,\n",
        "  'train_loss': 0.0031166361,\n",
        "  'valid_accuracy': 0.007612105,\n",
        "  'valid_loss': 0.007612105},\n",
        " {'epoch': 2026,\n",
        "  'train_loss': 0.0031570785,\n",
        "  'valid_accuracy': 0.00760422,\n",
        "  'valid_loss': 0.00760422},\n",
        " {'epoch': 2027,\n",
        "  'train_loss': 0.0031476491,\n",
        "  'valid_accuracy': 0.007609468,\n",
        "  'valid_loss': 0.007609468},\n",
        " {'epoch': 2028,\n",
        "  'train_loss': 0.0031825926,\n",
        "  'valid_accuracy': 0.0076090358,\n",
        "  'valid_loss': 0.0076090358},\n",
        " {'epoch': 2029,\n",
        "  'train_loss': 0.0030888771,\n",
        "  'valid_accuracy': 0.0076378151,\n",
        "  'valid_loss': 0.0076378151},\n",
        " {'epoch': 2030,\n",
        "  'train_loss': 0.0031974665,\n",
        "  'valid_accuracy': 0.007608078,\n",
        "  'valid_loss': 0.007608078},\n",
        " {'epoch': 2031,\n",
        "  'train_loss': 0.0031015482,\n",
        "  'valid_accuracy': 0.0076023559,\n",
        "  'valid_loss': 0.0076023559},\n",
        " {'epoch': 2032,\n",
        "  'train_loss': 0.0031009172,\n",
        "  'valid_accuracy': 0.0076024509,\n",
        "  'valid_loss': 0.0076024509},\n",
        " {'epoch': 2033,\n",
        "  'train_loss': 0.0031710684,\n",
        "  'valid_accuracy': 0.0076155551,\n",
        "  'valid_loss': 0.0076155551},\n",
        " {'epoch': 2034,\n",
        "  'train_loss': 0.0031767534,\n",
        "  'valid_accuracy': 0.007615169,\n",
        "  'valid_loss': 0.007615169},\n",
        " {'epoch': 2035,\n",
        "  'train_loss': 0.0031874529,\n",
        "  'valid_accuracy': 0.00762471,\n",
        "  'valid_loss': 0.00762471},\n",
        " {'epoch': 2036,\n",
        "  'train_loss': 0.0031122067,\n",
        "  'valid_accuracy': 0.0076099089,\n",
        "  'valid_loss': 0.0076099089},\n",
        " {'epoch': 2037,\n",
        "  'train_loss': 0.0030807925,\n",
        "  'valid_accuracy': 0.0076035,\n",
        "  'valid_loss': 0.0076035},\n",
        " {'epoch': 2038,\n",
        "  'train_loss': 0.0031579852,\n",
        "  'valid_accuracy': 0.007609373,\n",
        "  'valid_loss': 0.007609373},\n",
        " {'epoch': 2039,\n",
        "  'train_loss': 0.0031118884,\n",
        "  'valid_accuracy': 0.0076155853,\n",
        "  'valid_loss': 0.0076155853},\n",
        " {'epoch': 2040,\n",
        "  'train_loss': 0.0031278823,\n",
        "  'valid_accuracy': 0.0075998465,\n",
        "  'valid_loss': 0.0075998465},\n",
        " {'epoch': 2041,\n",
        "  'train_loss': 0.0031568334,\n",
        "  'valid_accuracy': 0.0076075606,\n",
        "  'valid_loss': 0.0076075606},\n",
        " {'epoch': 2042,\n",
        "  'train_loss': 0.003129116,\n",
        "  'valid_accuracy': 0.0075955163,\n",
        "  'valid_loss': 0.0075955163},\n",
        " {'epoch': 2043,\n",
        "  'train_loss': 0.0031159865,\n",
        "  'valid_accuracy': 0.0076234946,\n",
        "  'valid_loss': 0.0076234946},\n",
        " {'epoch': 2044,\n",
        "  'train_loss': 0.0031476247,\n",
        "  'valid_accuracy': 0.0076163518,\n",
        "  'valid_loss': 0.0076163518},\n",
        " {'epoch': 2045,\n",
        "  'train_loss': 0.0031609086,\n",
        "  'valid_accuracy': 0.0076133022,\n",
        "  'valid_loss': 0.0076133022},\n",
        " {'epoch': 2046,\n",
        "  'train_loss': 0.0030791971,\n",
        "  'valid_accuracy': 0.0076211179,\n",
        "  'valid_loss': 0.0076211179},\n",
        " {'epoch': 2047,\n",
        "  'train_loss': 0.0031444647,\n",
        "  'valid_accuracy': 0.0076235137,\n",
        "  'valid_loss': 0.0076235137},\n",
        " {'epoch': 2048,\n",
        "  'train_loss': 0.0031389433,\n",
        "  'valid_accuracy': 0.0076252292,\n",
        "  'valid_loss': 0.0076252292},\n",
        " {'epoch': 2049,\n",
        "  'train_loss': 0.0030649763,\n",
        "  'valid_accuracy': 0.007614865,\n",
        "  'valid_loss': 0.007614865},\n",
        " {'epoch': 2050,\n",
        "  'train_loss': 0.0031125811,\n",
        "  'valid_accuracy': 0.0076301405,\n",
        "  'valid_loss': 0.0076301405},\n",
        " {'epoch': 2051,\n",
        "  'train_loss': 0.0030993721,\n",
        "  'valid_accuracy': 0.0076288865,\n",
        "  'valid_loss': 0.0076288865},\n",
        " {'epoch': 2052,\n",
        "  'train_loss': 0.003139551,\n",
        "  'valid_accuracy': 0.0076251584,\n",
        "  'valid_loss': 0.0076251584},\n",
        " {'epoch': 2053,\n",
        "  'train_loss': 0.003126953,\n",
        "  'valid_accuracy': 0.007620275,\n",
        "  'valid_loss': 0.007620275},\n",
        " {'epoch': 2054,\n",
        "  'train_loss': 0.0030992192,\n",
        "  'valid_accuracy': 0.0076256054,\n",
        "  'valid_loss': 0.0076256054},\n",
        " {'epoch': 2055,\n",
        "  'train_loss': 0.0030790854,\n",
        "  'valid_accuracy': 0.0076251724,\n",
        "  'valid_loss': 0.0076251724},\n",
        " {'epoch': 2056,\n",
        "  'train_loss': 0.0030649814,\n",
        "  'valid_accuracy': 0.007631016,\n",
        "  'valid_loss': 0.007631016},\n",
        " {'epoch': 2057,\n",
        "  'train_loss': 0.0031204668,\n",
        "  'valid_accuracy': 0.007624648,\n",
        "  'valid_loss': 0.007624648},\n",
        " {'epoch': 2058,\n",
        "  'train_loss': 0.0030943011,\n",
        "  'valid_accuracy': 0.0076241032,\n",
        "  'valid_loss': 0.0076241032},\n",
        " {'epoch': 2059,\n",
        "  'train_loss': 0.0030480737,\n",
        "  'valid_accuracy': 0.0076144943,\n",
        "  'valid_loss': 0.0076144943},\n",
        " {'epoch': 2060,\n",
        "  'train_loss': 0.0031097725,\n",
        "  'valid_accuracy': 0.0076188352,\n",
        "  'valid_loss': 0.0076188352},\n",
        " {'epoch': 2061,\n",
        "  'train_loss': 0.0030680327,\n",
        "  'valid_accuracy': 0.0076241856,\n",
        "  'valid_loss': 0.0076241856},\n",
        " {'epoch': 2062,\n",
        "  'train_loss': 0.0030629726,\n",
        "  'valid_accuracy': 0.0076279668,\n",
        "  'valid_loss': 0.0076279668},\n",
        " {'epoch': 2063,\n",
        "  'train_loss': 0.0030938021,\n",
        "  'valid_accuracy': 0.0076087699,\n",
        "  'valid_loss': 0.0076087699},\n",
        " {'epoch': 2064,\n",
        "  'train_loss': 0.0030686406,\n",
        "  'valid_accuracy': 0.0075955205,\n",
        "  'valid_loss': 0.0075955205},\n",
        " {'epoch': 2065,\n",
        "  'train_loss': 0.003056831,\n",
        "  'valid_accuracy': 0.0076022963,\n",
        "  'valid_loss': 0.0076022963},\n",
        " {'epoch': 2066,\n",
        "  'train_loss': 0.0030749738,\n",
        "  'valid_accuracy': 0.0076093609,\n",
        "  'valid_loss': 0.0076093609},\n",
        " {'epoch': 2067,\n",
        "  'train_loss': 0.0030615933,\n",
        "  'valid_accuracy': 0.0076054102,\n",
        "  'valid_loss': 0.0076054102},\n",
        " {'epoch': 2068,\n",
        "  'train_loss': 0.0030809785,\n",
        "  'valid_accuracy': 0.007607264,\n",
        "  'valid_loss': 0.007607264},\n",
        " {'epoch': 2069,\n",
        "  'train_loss': 0.0030105435,\n",
        "  'valid_accuracy': 0.0076160063,\n",
        "  'valid_loss': 0.0076160063},\n",
        " {'epoch': 2070,\n",
        "  'train_loss': 0.0031041733,\n",
        "  'valid_accuracy': 0.0075991522,\n",
        "  'valid_loss': 0.0075991522},\n",
        " {'epoch': 2071,\n",
        "  'train_loss': 0.0031333454,\n",
        "  'valid_accuracy': 0.007615576,\n",
        "  'valid_loss': 0.007615576},\n",
        " {'epoch': 2072,\n",
        "  'train_loss': 0.0030615374,\n",
        "  'valid_accuracy': 0.0076124263,\n",
        "  'valid_loss': 0.0076124263},\n",
        " {'epoch': 2073,\n",
        "  'train_loss': 0.003084955,\n",
        "  'valid_accuracy': 0.0075928322,\n",
        "  'valid_loss': 0.0075928322},\n",
        " {'epoch': 2074,\n",
        "  'train_loss': 0.0030281751,\n",
        "  'valid_accuracy': 0.0076101697,\n",
        "  'valid_loss': 0.0076101697},\n",
        " {'epoch': 2075,\n",
        "  'train_loss': 0.0029844181,\n",
        "  'valid_accuracy': 0.0076100705,\n",
        "  'valid_loss': 0.0076100705},\n",
        " {'epoch': 2076,\n",
        "  'train_loss': 0.0030518421,\n",
        "  'valid_accuracy': 0.0076033403,\n",
        "  'valid_loss': 0.0076033403},\n",
        " {'epoch': 2077,\n",
        "  'train_loss': 0.0030283539,\n",
        "  'valid_accuracy': 0.007610898,\n",
        "  'valid_loss': 0.007610898},\n",
        " {'epoch': 2078,\n",
        "  'train_loss': 0.0030553029,\n",
        "  'valid_accuracy': 0.0075968467,\n",
        "  'valid_loss': 0.0075968467},\n",
        " {'epoch': 2079,\n",
        "  'train_loss': 0.0031205569,\n",
        "  'valid_accuracy': 0.0076085846,\n",
        "  'valid_loss': 0.0076085846},\n",
        " {'epoch': 2080,\n",
        "  'train_loss': 0.0030518777,\n",
        "  'valid_accuracy': 0.0076030307,\n",
        "  'valid_loss': 0.0076030307},\n",
        " {'epoch': 2081,\n",
        "  'train_loss': 0.0030687419,\n",
        "  'valid_accuracy': 0.0076096975,\n",
        "  'valid_loss': 0.0076096975},\n",
        " {'epoch': 2082,\n",
        "  'train_loss': 0.0030616117,\n",
        "  'valid_accuracy': 0.0076128324,\n",
        "  'valid_loss': 0.0076128324},\n",
        " {'epoch': 2083,\n",
        "  'train_loss': 0.003005632,\n",
        "  'valid_accuracy': 0.0075990353,\n",
        "  'valid_loss': 0.0075990353},\n",
        " {'epoch': 2084,\n",
        "  'train_loss': 0.003028288,\n",
        "  'valid_accuracy': 0.0076110293,\n",
        "  'valid_loss': 0.0076110293},\n",
        " {'epoch': 2085,\n",
        "  'train_loss': 0.0029824856,\n",
        "  'valid_accuracy': 0.0076178312,\n",
        "  'valid_loss': 0.0076178312},\n",
        " {'epoch': 2086,\n",
        "  'train_loss': 0.0030895977,\n",
        "  'valid_accuracy': 0.0076138293,\n",
        "  'valid_loss': 0.0076138293},\n",
        " {'epoch': 2087,\n",
        "  'train_loss': 0.0030880983,\n",
        "  'valid_accuracy': 0.0076061063,\n",
        "  'valid_loss': 0.0076061063},\n",
        " {'epoch': 2088,\n",
        "  'train_loss': 0.0029711069,\n",
        "  'valid_accuracy': 0.0075930795,\n",
        "  'valid_loss': 0.0075930795},\n",
        " {'epoch': 2089,\n",
        "  'train_loss': 0.0030745703,\n",
        "  'valid_accuracy': 0.0076092673,\n",
        "  'valid_loss': 0.0076092673},\n",
        " {'epoch': 2090,\n",
        "  'train_loss': 0.0030539387,\n",
        "  'valid_accuracy': 0.0076085101,\n",
        "  'valid_loss': 0.0076085101},\n",
        " {'epoch': 2091,\n",
        "  'train_loss': 0.0030611826,\n",
        "  'valid_accuracy': 0.0075956471,\n",
        "  'valid_loss': 0.0075956471},\n",
        " {'epoch': 2092,\n",
        "  'train_loss': 0.0030844803,\n",
        "  'valid_accuracy': 0.0075935991,\n",
        "  'valid_loss': 0.0075935991},\n",
        " {'epoch': 2093,\n",
        "  'train_loss': 0.0030280866,\n",
        "  'valid_accuracy': 0.007604877,\n",
        "  'valid_loss': 0.007604877},\n",
        " {'epoch': 2094,\n",
        "  'train_loss': 0.0030407375,\n",
        "  'valid_accuracy': 0.0076049408,\n",
        "  'valid_loss': 0.0076049408},\n",
        " {'epoch': 2095,\n",
        "  'train_loss': 0.003049196,\n",
        "  'valid_accuracy': 0.0076061268,\n",
        "  'valid_loss': 0.0076061268},\n",
        " {'epoch': 2096,\n",
        "  'train_loss': 0.0030411815,\n",
        "  'valid_accuracy': 0.0076262476,\n",
        "  'valid_loss': 0.0076262476},\n",
        " {'epoch': 2097,\n",
        "  'train_loss': 0.0030148786,\n",
        "  'valid_accuracy': 0.0075973095,\n",
        "  'valid_loss': 0.0075973095},\n",
        " {'epoch': 2098,\n",
        "  'train_loss': 0.0030157717,\n",
        "  'valid_accuracy': 0.0076016882,\n",
        "  'valid_loss': 0.0076016882},\n",
        " {'epoch': 2099,\n",
        "  'train_loss': 0.0030003965,\n",
        "  'valid_accuracy': 0.0076123499,\n",
        "  'valid_loss': 0.0076123499},\n",
        " {'epoch': 2100,\n",
        "  'train_loss': 0.0030423061,\n",
        "  'valid_accuracy': 0.0076157339,\n",
        "  'valid_loss': 0.0076157339},\n",
        " {'epoch': 2101,\n",
        "  'train_loss': 0.0030127917,\n",
        "  'valid_accuracy': 0.0075987848,\n",
        "  'valid_loss': 0.0075987848},\n",
        " {'epoch': 2102,\n",
        "  'train_loss': 0.0030329174,\n",
        "  'valid_accuracy': 0.0075903074,\n",
        "  'valid_loss': 0.0075903074},\n",
        " {'epoch': 2103,\n",
        "  'train_loss': 0.0030017311,\n",
        "  'valid_accuracy': 0.0076015284,\n",
        "  'valid_loss': 0.0076015284},\n",
        " {'epoch': 2104,\n",
        "  'train_loss': 0.0029889201,\n",
        "  'valid_accuracy': 0.0075942716,\n",
        "  'valid_loss': 0.0075942716},\n",
        " {'epoch': 2105,\n",
        "  'train_loss': 0.0030283995,\n",
        "  'valid_accuracy': 0.0076022688,\n",
        "  'valid_loss': 0.0076022688},\n",
        " {'epoch': 2106,\n",
        "  'train_loss': 0.003023908,\n",
        "  'valid_accuracy': 0.0075992458,\n",
        "  'valid_loss': 0.0075992458},\n",
        " {'epoch': 2107,\n",
        "  'train_loss': 0.0029997507,\n",
        "  'valid_accuracy': 0.0076099285,\n",
        "  'valid_loss': 0.0076099285},\n",
        " {'epoch': 2108,\n",
        "  'train_loss': 0.0029504502,\n",
        "  'valid_accuracy': 0.0076025766,\n",
        "  'valid_loss': 0.0076025766},\n",
        " {'epoch': 2109,\n",
        "  'train_loss': 0.0029869401,\n",
        "  'valid_accuracy': 0.0075999633,\n",
        "  'valid_loss': 0.0075999633},\n",
        " {'epoch': 2110,\n",
        "  'train_loss': 0.0030141626,\n",
        "  'valid_accuracy': 0.0075987238,\n",
        "  'valid_loss': 0.0075987238},\n",
        " {'epoch': 2111,\n",
        "  'train_loss': 0.0030339267,\n",
        "  'valid_accuracy': 0.0076040206,\n",
        "  'valid_loss': 0.0076040206},\n",
        " {'epoch': 2112,\n",
        "  'train_loss': 0.0030345374,\n",
        "  'valid_accuracy': 0.0076008402,\n",
        "  'valid_loss': 0.0076008402},\n",
        " {'epoch': 2113,\n",
        "  'train_loss': 0.0030351162,\n",
        "  'valid_accuracy': 0.0075936723,\n",
        "  'valid_loss': 0.0075936723},\n",
        " {'epoch': 2114,\n",
        "  'train_loss': 0.0030110136,\n",
        "  'valid_accuracy': 0.0075941063,\n",
        "  'valid_loss': 0.0075941063},\n",
        " {'epoch': 2115,\n",
        "  'train_loss': 0.0030370911,\n",
        "  'valid_accuracy': 0.0075904834,\n",
        "  'valid_loss': 0.0075904834},\n",
        " {'epoch': 2116,\n",
        "  'train_loss': 0.002966264,\n",
        "  'valid_accuracy': 0.007594252,\n",
        "  'valid_loss': 0.007594252},\n",
        " {'epoch': 2117,\n",
        "  'train_loss': 0.002935051,\n",
        "  'valid_accuracy': 0.0075915712,\n",
        "  'valid_loss': 0.0075915712},\n",
        " {'epoch': 2118,\n",
        "  'train_loss': 0.0030104052,\n",
        "  'valid_accuracy': 0.0076266504,\n",
        "  'valid_loss': 0.0076266504},\n",
        " {'epoch': 2119,\n",
        "  'train_loss': 0.0030376108,\n",
        "  'valid_accuracy': 0.007607196,\n",
        "  'valid_loss': 0.007607196},\n",
        " {'epoch': 2120,\n",
        "  'train_loss': 0.0030104378,\n",
        "  'valid_accuracy': 0.0076079248,\n",
        "  'valid_loss': 0.0076079248},\n",
        " {'epoch': 2121,\n",
        "  'train_loss': 0.0029510555,\n",
        "  'valid_accuracy': 0.0076036388,\n",
        "  'valid_loss': 0.0076036388},\n",
        " {'epoch': 2122,\n",
        "  'train_loss': 0.002988209,\n",
        "  'valid_accuracy': 0.0076022903,\n",
        "  'valid_loss': 0.0076022903},\n",
        " {'epoch': 2123,\n",
        "  'train_loss': 0.0029630766,\n",
        "  'valid_accuracy': 0.0076129953,\n",
        "  'valid_loss': 0.0076129953},\n",
        " {'epoch': 2124,\n",
        "  'train_loss': 0.0029768688,\n",
        "  'valid_accuracy': 0.0076129395,\n",
        "  'valid_loss': 0.0076129395},\n",
        " {'epoch': 2125,\n",
        "  'train_loss': 0.0029323886,\n",
        "  'valid_accuracy': 0.0076247519,\n",
        "  'valid_loss': 0.0076247519},\n",
        " {'epoch': 2126,\n",
        "  'train_loss': 0.003061001,\n",
        "  'valid_accuracy': 0.0076136873,\n",
        "  'valid_loss': 0.0076136873},\n",
        " {'epoch': 2127,\n",
        "  'train_loss': 0.002969129,\n",
        "  'valid_accuracy': 0.0076184059,\n",
        "  'valid_loss': 0.0076184059},\n",
        " {'epoch': 2128,\n",
        "  'train_loss': 0.002955775,\n",
        "  'valid_accuracy': 0.0076094056,\n",
        "  'valid_loss': 0.0076094056},\n",
        " {'epoch': 2129,\n",
        "  'train_loss': 0.0030475091,\n",
        "  'valid_accuracy': 0.0075910231,\n",
        "  'valid_loss': 0.0075910231},\n",
        " {'epoch': 2130,\n",
        "  'train_loss': 0.0029720862,\n",
        "  'valid_accuracy': 0.0076179644,\n",
        "  'valid_loss': 0.0076179644},\n",
        " {'epoch': 2131,\n",
        "  'train_loss': 0.0030152856,\n",
        "  'valid_accuracy': 0.007605637,\n",
        "  'valid_loss': 0.007605637},\n",
        " {'epoch': 2132,\n",
        "  'train_loss': 0.0029727342,\n",
        "  'valid_accuracy': 0.0076206736,\n",
        "  'valid_loss': 0.0076206736},\n",
        " {'epoch': 2133,\n",
        "  'train_loss': 0.0030109838,\n",
        "  'valid_accuracy': 0.0076066027,\n",
        "  'valid_loss': 0.0076066027},\n",
        " {'epoch': 2134,\n",
        "  'train_loss': 0.0028927429,\n",
        "  'valid_accuracy': 0.0076074125,\n",
        "  'valid_loss': 0.0076074125},\n",
        " {'epoch': 2135,\n",
        "  'train_loss': 0.0029997397,\n",
        "  'valid_accuracy': 0.0076028802,\n",
        "  'valid_loss': 0.0076028802},\n",
        " {'epoch': 2136,\n",
        "  'train_loss': 0.0030745242,\n",
        "  'valid_accuracy': 0.0075930208,\n",
        "  'valid_loss': 0.0075930208},\n",
        " {'epoch': 2137,\n",
        "  'train_loss': 0.002990254,\n",
        "  'valid_accuracy': 0.0075978972,\n",
        "  'valid_loss': 0.0075978972},\n",
        " {'epoch': 2138,\n",
        "  'train_loss': 0.0029780606,\n",
        "  'valid_accuracy': 0.0075742346,\n",
        "  'valid_loss': 0.0075742346},\n",
        " {'epoch': 2139,\n",
        "  'train_loss': 0.0029549773,\n",
        "  'valid_accuracy': 0.0076027717,\n",
        "  'valid_loss': 0.0076027717},\n",
        " {'epoch': 2140,\n",
        "  'train_loss': 0.0029645292,\n",
        "  'valid_accuracy': 0.0075972443,\n",
        "  'valid_loss': 0.0075972443},\n",
        " {'epoch': 2141,\n",
        "  'train_loss': 0.0030037868,\n",
        "  'valid_accuracy': 0.0075990325,\n",
        "  'valid_loss': 0.0075990325},\n",
        " {'epoch': 2142,\n",
        "  'train_loss': 0.0029937753,\n",
        "  'valid_accuracy': 0.0076010171,\n",
        "  'valid_loss': 0.0076010171},\n",
        " {'epoch': 2143,\n",
        "  'train_loss': 0.002973059,\n",
        "  'valid_accuracy': 0.0076015582,\n",
        "  'valid_loss': 0.0076015582},\n",
        " {'epoch': 2144,\n",
        "  'train_loss': 0.0029713186,\n",
        "  'valid_accuracy': 0.0076097348,\n",
        "  'valid_loss': 0.0076097348},\n",
        " {'epoch': 2145,\n",
        "  'train_loss': 0.0029768322,\n",
        "  'valid_accuracy': 0.007619231,\n",
        "  'valid_loss': 0.007619231},\n",
        " {'epoch': 2146,\n",
        "  'train_loss': 0.0029537727,\n",
        "  'valid_accuracy': 0.0075932867,\n",
        "  'valid_loss': 0.0075932867},\n",
        " {'epoch': 2147,\n",
        "  'train_loss': 0.0029849256,\n",
        "  'valid_accuracy': 0.0075954809,\n",
        "  'valid_loss': 0.0075954809},\n",
        " {'epoch': 2148,\n",
        "  'train_loss': 0.0029251047,\n",
        "  'valid_accuracy': 0.0076175686,\n",
        "  'valid_loss': 0.0076175686},\n",
        " {'epoch': 2149,\n",
        "  'train_loss': 0.0029742466,\n",
        "  'valid_accuracy': 0.0076027527,\n",
        "  'valid_loss': 0.0076027527},\n",
        " {'epoch': 2150,\n",
        "  'train_loss': 0.0029275606,\n",
        "  'valid_accuracy': 0.0075941589,\n",
        "  'valid_loss': 0.0075941589},\n",
        " {'epoch': 2151,\n",
        "  'train_loss': 0.002933993,\n",
        "  'valid_accuracy': 0.007572819,\n",
        "  'valid_loss': 0.007572819},\n",
        " {'epoch': 2152,\n",
        "  'train_loss': 0.0029361693,\n",
        "  'valid_accuracy': 0.0076049636,\n",
        "  'valid_loss': 0.0076049636},\n",
        " {'epoch': 2153,\n",
        "  'train_loss': 0.002952903,\n",
        "  'valid_accuracy': 0.0076121213,\n",
        "  'valid_loss': 0.0076121213},\n",
        " {'epoch': 2154,\n",
        "  'train_loss': 0.0029268521,\n",
        "  'valid_accuracy': 0.0075952923,\n",
        "  'valid_loss': 0.0075952923},\n",
        " {'epoch': 2155,\n",
        "  'train_loss': 0.0029453929,\n",
        "  'valid_accuracy': 0.0075961133,\n",
        "  'valid_loss': 0.0075961133},\n",
        " {'epoch': 2156,\n",
        "  'train_loss': 0.0029090138,\n",
        "  'valid_accuracy': 0.0075886874,\n",
        "  'valid_loss': 0.0075886874},\n",
        " {'epoch': 2157,\n",
        "  'train_loss': 0.002905872,\n",
        "  'valid_accuracy': 0.0076018204,\n",
        "  'valid_loss': 0.0076018204},\n",
        " {'epoch': 2158,\n",
        "  'train_loss': 0.0029206625,\n",
        "  'valid_accuracy': 0.0076108305,\n",
        "  'valid_loss': 0.0076108305},\n",
        " {'epoch': 2159,\n",
        "  'train_loss': 0.0029261746,\n",
        "  'valid_accuracy': 0.0076056584,\n",
        "  'valid_loss': 0.0076056584},\n",
        " {'epoch': 2160,\n",
        "  'train_loss': 0.0028864967,\n",
        "  'valid_accuracy': 0.0075907698,\n",
        "  'valid_loss': 0.0075907698},\n",
        " {'epoch': 2161,\n",
        "  'train_loss': 0.0029052924,\n",
        "  'valid_accuracy': 0.0075866971,\n",
        "  'valid_loss': 0.0075866971},\n",
        " {'epoch': 2162,\n",
        "  'train_loss': 0.0029534933,\n",
        "  'valid_accuracy': 0.0075886534,\n",
        "  'valid_loss': 0.0075886534},\n",
        " {'epoch': 2163,\n",
        "  'train_loss': 0.0029137307,\n",
        "  'valid_accuracy': 0.0075815455,\n",
        "  'valid_loss': 0.0075815455},\n",
        " {'epoch': 2164,\n",
        "  'train_loss': 0.0028995741,\n",
        "  'valid_accuracy': 0.0075785182,\n",
        "  'valid_loss': 0.0075785182},\n",
        " {'epoch': 2165,\n",
        "  'train_loss': 0.0029468061,\n",
        "  'valid_accuracy': 0.0075808978,\n",
        "  'valid_loss': 0.0075808978},\n",
        " {'epoch': 2166,\n",
        "  'train_loss': 0.0029235666,\n",
        "  'valid_accuracy': 0.0075797681,\n",
        "  'valid_loss': 0.0075797681},\n",
        " {'epoch': 2167,\n",
        "  'train_loss': 0.0029100403,\n",
        "  'valid_accuracy': 0.0075862384,\n",
        "  'valid_loss': 0.0075862384},\n",
        " {'epoch': 2168,\n",
        "  'train_loss': 0.0028835966,\n",
        "  'valid_accuracy': 0.0075980239,\n",
        "  'valid_loss': 0.0075980239},\n",
        " {'epoch': 2169,\n",
        "  'train_loss': 0.002909495,\n",
        "  'valid_accuracy': 0.0075949416,\n",
        "  'valid_loss': 0.0075949416},\n",
        " {'epoch': 2170,\n",
        "  'train_loss': 0.0028595724,\n",
        "  'valid_accuracy': 0.0076104323,\n",
        "  'valid_loss': 0.0076104323},\n",
        " {'epoch': 2171,\n",
        "  'train_loss': 0.0029448697,\n",
        "  'valid_accuracy': 0.0075894021,\n",
        "  'valid_loss': 0.0075894021},\n",
        " {'epoch': 2172,\n",
        "  'train_loss': 0.0028888464,\n",
        "  'valid_accuracy': 0.0076025403,\n",
        "  'valid_loss': 0.0076025403},\n",
        " {'epoch': 2173,\n",
        "  'train_loss': 0.0029435311,\n",
        "  'valid_accuracy': 0.0075947158,\n",
        "  'valid_loss': 0.0075947158},\n",
        " {'epoch': 2174,\n",
        "  'train_loss': 0.0028986088,\n",
        "  'valid_accuracy': 0.0076011647,\n",
        "  'valid_loss': 0.0076011647},\n",
        " {'epoch': 2175,\n",
        "  'train_loss': 0.0028695478,\n",
        "  'valid_accuracy': 0.0076154307,\n",
        "  'valid_loss': 0.0076154307},\n",
        " {'epoch': 2176,\n",
        "  'train_loss': 0.002984216,\n",
        "  'valid_accuracy': 0.0076097483,\n",
        "  'valid_loss': 0.0076097483},\n",
        " {'epoch': 2177,\n",
        "  'train_loss': 0.0029046673,\n",
        "  'valid_accuracy': 0.007614783,\n",
        "  'valid_loss': 0.007614783},\n",
        " {'epoch': 2178,\n",
        "  'train_loss': 0.0029203084,\n",
        "  'valid_accuracy': 0.0076072267,\n",
        "  'valid_loss': 0.0076072267},\n",
        " {'epoch': 2179,\n",
        "  'train_loss': 0.0028928514,\n",
        "  'valid_accuracy': 0.0075967354,\n",
        "  'valid_loss': 0.0075967354},\n",
        " {'epoch': 2180,\n",
        "  'train_loss': 0.0029108576,\n",
        "  'valid_accuracy': 0.0075956257,\n",
        "  'valid_loss': 0.0075956257},\n",
        " {'epoch': 2181,\n",
        "  'train_loss': 0.0029097984,\n",
        "  'valid_accuracy': 0.0075950841,\n",
        "  'valid_loss': 0.0075950841},\n",
        " {'epoch': 2182,\n",
        "  'train_loss': 0.0029070927,\n",
        "  'valid_accuracy': 0.007611894,\n",
        "  'valid_loss': 0.007611894},\n",
        " {'epoch': 2183,\n",
        "  'train_loss': 0.0028301063,\n",
        "  'valid_accuracy': 0.0075940234,\n",
        "  'valid_loss': 0.0075940234},\n",
        " {'epoch': 2184,\n",
        "  'train_loss': 0.0029499808,\n",
        "  'valid_accuracy': 0.0076149632,\n",
        "  'valid_loss': 0.0076149632},\n",
        " {'epoch': 2185,\n",
        "  'train_loss': 0.0029049518,\n",
        "  'valid_accuracy': 0.0075762393,\n",
        "  'valid_loss': 0.0075762393},\n",
        " {'epoch': 2186,\n",
        "  'train_loss': 0.0028906842,\n",
        "  'valid_accuracy': 0.0075818705,\n",
        "  'valid_loss': 0.0075818705},\n",
        " {'epoch': 2187,\n",
        "  'train_loss': 0.0028988002,\n",
        "  'valid_accuracy': 0.0076084337,\n",
        "  'valid_loss': 0.0076084337},\n",
        " {'epoch': 2188,\n",
        "  'train_loss': 0.0028787623,\n",
        "  'valid_accuracy': 0.0076155565,\n",
        "  'valid_loss': 0.0076155565},\n",
        " {'epoch': 2189,\n",
        "  'train_loss': 0.0028129078,\n",
        "  'valid_accuracy': 0.0076195803,\n",
        "  'valid_loss': 0.0076195803},\n",
        " {'epoch': 2190,\n",
        "  'train_loss': 0.0028712302,\n",
        "  'valid_accuracy': 0.0076075485,\n",
        "  'valid_loss': 0.0076075485},\n",
        " {'epoch': 2191,\n",
        "  'train_loss': 0.0028267868,\n",
        "  'valid_accuracy': 0.0076097804,\n",
        "  'valid_loss': 0.0076097804},\n",
        " {'epoch': 2192,\n",
        "  'train_loss': 0.0029452024,\n",
        "  'valid_accuracy': 0.0076080356,\n",
        "  'valid_loss': 0.0076080356},\n",
        " {'epoch': 2193,\n",
        "  'train_loss': 0.00289307,\n",
        "  'valid_accuracy': 0.0076003592,\n",
        "  'valid_loss': 0.0076003592},\n",
        " {'epoch': 2194,\n",
        "  'train_loss': 0.0029044736,\n",
        "  'valid_accuracy': 0.007609155,\n",
        "  'valid_loss': 0.007609155},\n",
        " {'epoch': 2195,\n",
        "  'train_loss': 0.0028948931,\n",
        "  'valid_accuracy': 0.0076060891,\n",
        "  'valid_loss': 0.0076060891},\n",
        " {'epoch': 2196,\n",
        "  'train_loss': 0.0029191035,\n",
        "  'valid_accuracy': 0.0075844051,\n",
        "  'valid_loss': 0.0075844051},\n",
        " {'epoch': 2197,\n",
        "  'train_loss': 0.0027631687,\n",
        "  'valid_accuracy': 0.0075964211,\n",
        "  'valid_loss': 0.0075964211},\n",
        " {'epoch': 2198,\n",
        "  'train_loss': 0.0028894311,\n",
        "  'valid_accuracy': 0.0075829569,\n",
        "  'valid_loss': 0.0075829569},\n",
        " {'epoch': 2199,\n",
        "  'train_loss': 0.002838498,\n",
        "  'valid_accuracy': 0.0076065371,\n",
        "  'valid_loss': 0.0076065371},\n",
        " {'epoch': 2200,\n",
        "  'train_loss': 0.0029492273,\n",
        "  'valid_accuracy': 0.0075811544,\n",
        "  'valid_loss': 0.0075811544},\n",
        " {'epoch': 2201,\n",
        "  'train_loss': 0.0028887708,\n",
        "  'valid_accuracy': 0.0076046209,\n",
        "  'valid_loss': 0.0076046209},\n",
        " {'epoch': 2202,\n",
        "  'train_loss': 0.0029224993,\n",
        "  'valid_accuracy': 0.0076152706,\n",
        "  'valid_loss': 0.0076152706},\n",
        " {'epoch': 2203,\n",
        "  'train_loss': 0.0029349101,\n",
        "  'valid_accuracy': 0.0076113977,\n",
        "  'valid_loss': 0.0076113977},\n",
        " {'epoch': 2204,\n",
        "  'train_loss': 0.0029570605,\n",
        "  'valid_accuracy': 0.0076313089,\n",
        "  'valid_loss': 0.0076313089},\n",
        " {'epoch': 2205,\n",
        "  'train_loss': 0.0028636162,\n",
        "  'valid_accuracy': 0.0075926525,\n",
        "  'valid_loss': 0.0075926525},\n",
        " {'epoch': 2206,\n",
        "  'train_loss': 0.0028797437,\n",
        "  'valid_accuracy': 0.0076110256,\n",
        "  'valid_loss': 0.0076110256},\n",
        " {'epoch': 2207,\n",
        "  'train_loss': 0.0028703483,\n",
        "  'valid_accuracy': 0.0075976471,\n",
        "  'valid_loss': 0.0075976471},\n",
        " {'epoch': 2208,\n",
        "  'train_loss': 0.0028614262,\n",
        "  'valid_accuracy': 0.0076058875,\n",
        "  'valid_loss': 0.0076058875},\n",
        " {'epoch': 2209,\n",
        "  'train_loss': 0.0028221132,\n",
        "  'valid_accuracy': 0.0076060374,\n",
        "  'valid_loss': 0.0076060374},\n",
        " {'epoch': 2210,\n",
        "  'train_loss': 0.0029039078,\n",
        "  'valid_accuracy': 0.0076155877,\n",
        "  'valid_loss': 0.0076155877},\n",
        " {'epoch': 2211,\n",
        "  'train_loss': 0.0028750617,\n",
        "  'valid_accuracy': 0.0075979852,\n",
        "  'valid_loss': 0.0075979852},\n",
        " {'epoch': 2212,\n",
        "  'train_loss': 0.0028729222,\n",
        "  'valid_accuracy': 0.0076059457,\n",
        "  'valid_loss': 0.0076059457},\n",
        " {'epoch': 2213,\n",
        "  'train_loss': 0.0028452424,\n",
        "  'valid_accuracy': 0.0076099476,\n",
        "  'valid_loss': 0.0076099476},\n",
        " {'epoch': 2214,\n",
        "  'train_loss': 0.002889184,\n",
        "  'valid_accuracy': 0.0076088621,\n",
        "  'valid_loss': 0.0076088621},\n",
        " {'epoch': 2215,\n",
        "  'train_loss': 0.0028329543,\n",
        "  'valid_accuracy': 0.0076081255,\n",
        "  'valid_loss': 0.0076081255},\n",
        " {'epoch': 2216,\n",
        "  'train_loss': 0.0028816033,\n",
        "  'valid_accuracy': 0.007600612,\n",
        "  'valid_loss': 0.007600612},\n",
        " {'epoch': 2217,\n",
        "  'train_loss': 0.0028353741,\n",
        "  'valid_accuracy': 0.0075670565,\n",
        "  'valid_loss': 0.0075670565},\n",
        " {'epoch': 2218,\n",
        "  'train_loss': 0.0028232897,\n",
        "  'valid_accuracy': 0.0075910161,\n",
        "  'valid_loss': 0.0075910161},\n",
        " {'epoch': 2219,\n",
        "  'train_loss': 0.0028081648,\n",
        "  'valid_accuracy': 0.0076112826,\n",
        "  'valid_loss': 0.0076112826},\n",
        " {'epoch': 2220,\n",
        "  'train_loss': 0.0028447388,\n",
        "  'valid_accuracy': 0.0075928774,\n",
        "  'valid_loss': 0.0075928774},\n",
        " {'epoch': 2221,\n",
        "  'train_loss': 0.002841915,\n",
        "  'valid_accuracy': 0.0076029543,\n",
        "  'valid_loss': 0.0076029543},\n",
        " {'epoch': 2222,\n",
        "  'train_loss': 0.0028264686,\n",
        "  'valid_accuracy': 0.0076200594,\n",
        "  'valid_loss': 0.0076200594},\n",
        " {'epoch': 2223,\n",
        "  'train_loss': 0.0027846557,\n",
        "  'valid_accuracy': 0.0076050078,\n",
        "  'valid_loss': 0.0076050078},\n",
        " {'epoch': 2224,\n",
        "  'train_loss': 0.0028763083,\n",
        "  'valid_accuracy': 0.0075948252,\n",
        "  'valid_loss': 0.0075948252},\n",
        " {'epoch': 2225,\n",
        "  'train_loss': 0.0028624991,\n",
        "  'valid_accuracy': 0.0075954339,\n",
        "  'valid_loss': 0.0075954339},\n",
        " {'epoch': 2226,\n",
        "  'train_loss': 0.0028846189,\n",
        "  'valid_accuracy': 0.0075984159,\n",
        "  'valid_loss': 0.0075984159},\n",
        " {'epoch': 2227,\n",
        "  'train_loss': 0.0027814684,\n",
        "  'valid_accuracy': 0.0076177213,\n",
        "  'valid_loss': 0.0076177213},\n",
        " {'epoch': 2228,\n",
        "  'train_loss': 0.0027998518,\n",
        "  'valid_accuracy': 0.0076126447,\n",
        "  'valid_loss': 0.0076126447},\n",
        " {'epoch': 2229,\n",
        "  'train_loss': 0.0028129255,\n",
        "  'valid_accuracy': 0.007629924,\n",
        "  'valid_loss': 0.007629924},\n",
        " {'epoch': 2230,\n",
        "  'train_loss': 0.0027903314,\n",
        "  'valid_accuracy': 0.007616573,\n",
        "  'valid_loss': 0.007616573},\n",
        " {'epoch': 2231,\n",
        "  'train_loss': 0.0027769662,\n",
        "  'valid_accuracy': 0.0076189511,\n",
        "  'valid_loss': 0.0076189511},\n",
        " {'epoch': 2232,\n",
        "  'train_loss': 0.0028768189,\n",
        "  'valid_accuracy': 0.0076126107,\n",
        "  'valid_loss': 0.0076126107},\n",
        " {'epoch': 2233,\n",
        "  'train_loss': 0.002823005,\n",
        "  'valid_accuracy': 0.0075931479,\n",
        "  'valid_loss': 0.0075931479},\n",
        " {'epoch': 2234,\n",
        "  'train_loss': 0.0028582469,\n",
        "  'valid_accuracy': 0.0075871386,\n",
        "  'valid_loss': 0.0075871386},\n",
        " {'epoch': 2235,\n",
        "  'train_loss': 0.002804511,\n",
        "  'valid_accuracy': 0.0076052304,\n",
        "  'valid_loss': 0.0076052304},\n",
        " {'epoch': 2236,\n",
        "  'train_loss': 0.0028001554,\n",
        "  'valid_accuracy': 0.0075930422,\n",
        "  'valid_loss': 0.0075930422},\n",
        " {'epoch': 2237,\n",
        "  'train_loss': 0.0028381983,\n",
        "  'valid_accuracy': 0.0075860522,\n",
        "  'valid_loss': 0.0075860522},\n",
        " {'epoch': 2238,\n",
        "  'train_loss': 0.0028503633,\n",
        "  'valid_accuracy': 0.0075863204,\n",
        "  'valid_loss': 0.0075863204},\n",
        " {'epoch': 2239,\n",
        "  'train_loss': 0.00280169,\n",
        "  'valid_accuracy': 0.0075909118,\n",
        "  'valid_loss': 0.0075909118},\n",
        " {'epoch': 2240,\n",
        "  'train_loss': 0.0027500358,\n",
        "  'valid_accuracy': 0.0075944103,\n",
        "  'valid_loss': 0.0075944103},\n",
        " {'epoch': 2241,\n",
        "  'train_loss': 0.0027964022,\n",
        "  'valid_accuracy': 0.0076010148,\n",
        "  'valid_loss': 0.0076010148},\n",
        " {'epoch': 2242,\n",
        "  'train_loss': 0.0028413837,\n",
        "  'valid_accuracy': 0.0076065604,\n",
        "  'valid_loss': 0.0076065604},\n",
        " {'epoch': 2243,\n",
        "  'train_loss': 0.0027419254,\n",
        "  'valid_accuracy': 0.0076176007,\n",
        "  'valid_loss': 0.0076176007},\n",
        " {'epoch': 2244,\n",
        "  'train_loss': 0.0028522979,\n",
        "  'valid_accuracy': 0.0075971237,\n",
        "  'valid_loss': 0.0075971237},\n",
        " {'epoch': 2245,\n",
        "  'train_loss': 0.0028518289,\n",
        "  'valid_accuracy': 0.0076011042,\n",
        "  'valid_loss': 0.0076011042},\n",
        " {'epoch': 2246,\n",
        "  'train_loss': 0.0028642023,\n",
        "  'valid_accuracy': 0.0076132645,\n",
        "  'valid_loss': 0.0076132645},\n",
        " {'epoch': 2247,\n",
        "  'train_loss': 0.0028358086,\n",
        "  'valid_accuracy': 0.007604335,\n",
        "  'valid_loss': 0.007604335},\n",
        " {'epoch': 2248,\n",
        "  'train_loss': 0.0028171896,\n",
        "  'valid_accuracy': 0.0076126442,\n",
        "  'valid_loss': 0.0076126442},\n",
        " {'epoch': 2249,\n",
        "  'train_loss': 0.0028585342,\n",
        "  'valid_accuracy': 0.007603541,\n",
        "  'valid_loss': 0.007603541},\n",
        " {'epoch': 2250,\n",
        "  'train_loss': 0.0027912403,\n",
        "  'valid_accuracy': 0.00759257,\n",
        "  'valid_loss': 0.00759257},\n",
        " {'epoch': 2251,\n",
        "  'train_loss': 0.0027968797,\n",
        "  'valid_accuracy': 0.007594625,\n",
        "  'valid_loss': 0.007594625},\n",
        " {'epoch': 2252,\n",
        "  'train_loss': 0.0028192841,\n",
        "  'valid_accuracy': 0.0076032225,\n",
        "  'valid_loss': 0.0076032225},\n",
        " {'epoch': 2253,\n",
        "  'train_loss': 0.0028016979,\n",
        "  'valid_accuracy': 0.0076203276,\n",
        "  'valid_loss': 0.0076203276},\n",
        " {'epoch': 2254,\n",
        "  'train_loss': 0.0028617179,\n",
        "  'valid_accuracy': 0.0076000416,\n",
        "  'valid_loss': 0.0076000416},\n",
        " {'epoch': 2255,\n",
        "  'train_loss': 0.0027912958,\n",
        "  'valid_accuracy': 0.007595405,\n",
        "  'valid_loss': 0.007595405},\n",
        " {'epoch': 2256,\n",
        "  'train_loss': 0.0028001508,\n",
        "  'valid_accuracy': 0.0076111397,\n",
        "  'valid_loss': 0.0076111397},\n",
        " {'epoch': 2257,\n",
        "  'train_loss': 0.0027600469,\n",
        "  'valid_accuracy': 0.0076021375,\n",
        "  'valid_loss': 0.0076021375},\n",
        " {'epoch': 2258,\n",
        "  'train_loss': 0.0027853954,\n",
        "  'valid_accuracy': 0.0075902436,\n",
        "  'valid_loss': 0.0075902436},\n",
        " {'epoch': 2259,\n",
        "  'train_loss': 0.0028133029,\n",
        "  'valid_accuracy': 0.0075991792,\n",
        "  'valid_loss': 0.0075991792},\n",
        " {'epoch': 2260,\n",
        "  'train_loss': 0.0028595214,\n",
        "  'valid_accuracy': 0.0075952779,\n",
        "  'valid_loss': 0.0075952779},\n",
        " {'epoch': 2261,\n",
        "  'train_loss': 0.0028627636,\n",
        "  'valid_accuracy': 0.007590401,\n",
        "  'valid_loss': 0.007590401},\n",
        " {'epoch': 2262,\n",
        "  'train_loss': 0.0028296623,\n",
        "  'valid_accuracy': 0.00760205,\n",
        "  'valid_loss': 0.00760205},\n",
        " {'epoch': 2263,\n",
        "  'train_loss': 0.0027875823,\n",
        "  'valid_accuracy': 0.0076072039,\n",
        "  'valid_loss': 0.0076072039},\n",
        " {'epoch': 2264,\n",
        "  'train_loss': 0.0027836503,\n",
        "  'valid_accuracy': 0.0075973193,\n",
        "  'valid_loss': 0.0075973193},\n",
        " {'epoch': 2265,\n",
        "  'train_loss': 0.0027610082,\n",
        "  'valid_accuracy': 0.0076018879,\n",
        "  'valid_loss': 0.0076018879},\n",
        " {'epoch': 2266,\n",
        "  'train_loss': 0.0027967035,\n",
        "  'valid_accuracy': 0.0075851418,\n",
        "  'valid_loss': 0.0075851418},\n",
        " {'epoch': 2267,\n",
        "  'train_loss': 0.0028442927,\n",
        "  'valid_accuracy': 0.0075786766,\n",
        "  'valid_loss': 0.0075786766},\n",
        " {'epoch': 2268,\n",
        "  'train_loss': 0.0027929894,\n",
        "  'valid_accuracy': 0.0075779492,\n",
        "  'valid_loss': 0.0075779492},\n",
        " {'epoch': 2269,\n",
        "  'train_loss': 0.0028539773,\n",
        "  'valid_accuracy': 0.007589533,\n",
        "  'valid_loss': 0.007589533},\n",
        " {'epoch': 2270,\n",
        "  'train_loss': 0.0027805828,\n",
        "  'valid_accuracy': 0.0075786873,\n",
        "  'valid_loss': 0.0075786873},\n",
        " {'epoch': 2271,\n",
        "  'train_loss': 0.0027461811,\n",
        "  'valid_accuracy': 0.0075826561,\n",
        "  'valid_loss': 0.0075826561},\n",
        " {'epoch': 2272,\n",
        "  'train_loss': 0.0027935386,\n",
        "  'valid_accuracy': 0.00758343,\n",
        "  'valid_loss': 0.00758343},\n",
        " {'epoch': 2273,\n",
        "  'train_loss': 0.002760422,\n",
        "  'valid_accuracy': 0.0075889761,\n",
        "  'valid_loss': 0.0075889761},\n",
        " {'epoch': 2274,\n",
        "  'train_loss': 0.0027608222,\n",
        "  'valid_accuracy': 0.0075997803,\n",
        "  'valid_loss': 0.0075997803},\n",
        " {'epoch': 2275,\n",
        "  'train_loss': 0.0028475975,\n",
        "  'valid_accuracy': 0.0076104077,\n",
        "  'valid_loss': 0.0076104077},\n",
        " {'epoch': 2276,\n",
        "  'train_loss': 0.0027689741,\n",
        "  'valid_accuracy': 0.0075884899,\n",
        "  'valid_loss': 0.0075884899},\n",
        " {'epoch': 2277,\n",
        "  'train_loss': 0.0027382732,\n",
        "  'valid_accuracy': 0.0075914129,\n",
        "  'valid_loss': 0.0075914129},\n",
        " {'epoch': 2278,\n",
        "  'train_loss': 0.0027250785,\n",
        "  'valid_accuracy': 0.0075945342,\n",
        "  'valid_loss': 0.0075945342},\n",
        " {'epoch': 2279,\n",
        "  'train_loss': 0.0027381617,\n",
        "  'valid_accuracy': 0.0075960187,\n",
        "  'valid_loss': 0.0075960187},\n",
        " {'epoch': 2280,\n",
        "  'train_loss': 0.002790112,\n",
        "  'valid_accuracy': 0.0075803539,\n",
        "  'valid_loss': 0.0075803539},\n",
        " {'epoch': 2281,\n",
        "  'train_loss': 0.002731951,\n",
        "  'valid_accuracy': 0.0075880126,\n",
        "  'valid_loss': 0.0075880126},\n",
        " {'epoch': 2282,\n",
        "  'train_loss': 0.0027287402,\n",
        "  'valid_accuracy': 0.0075926376,\n",
        "  'valid_loss': 0.0075926376},\n",
        " {'epoch': 2283,\n",
        "  'train_loss': 0.0028036395,\n",
        "  'valid_accuracy': 0.0076057734,\n",
        "  'valid_loss': 0.0076057734},\n",
        " {'epoch': 2284,\n",
        "  'train_loss': 0.0028010914,\n",
        "  'valid_accuracy': 0.0075695706,\n",
        "  'valid_loss': 0.0075695706},\n",
        " {'epoch': 2285,\n",
        "  'train_loss': 0.00274405,\n",
        "  'valid_accuracy': 0.007593892,\n",
        "  'valid_loss': 0.007593892},\n",
        " {'epoch': 2286,\n",
        "  'train_loss': 0.0027537912,\n",
        "  'valid_accuracy': 0.007583735,\n",
        "  'valid_loss': 0.007583735},\n",
        " {'epoch': 2287,\n",
        "  'train_loss': 0.0027507211,\n",
        "  'valid_accuracy': 0.0075824191,\n",
        "  'valid_loss': 0.0075824191},\n",
        " {'epoch': 2288,\n",
        "  'train_loss': 0.0026806714,\n",
        "  'valid_accuracy': 0.0075942511,\n",
        "  'valid_loss': 0.0075942511},\n",
        " {'epoch': 2289,\n",
        "  'train_loss': 0.0027253511,\n",
        "  'valid_accuracy': 0.0075878394,\n",
        "  'valid_loss': 0.0075878394},\n",
        " {'epoch': 2290,\n",
        "  'train_loss': 0.0026859285,\n",
        "  'valid_accuracy': 0.0075854594,\n",
        "  'valid_loss': 0.0075854594},\n",
        " {'epoch': 2291,\n",
        "  'train_loss': 0.0027827185,\n",
        "  'valid_accuracy': 0.0075808871,\n",
        "  'valid_loss': 0.0075808871},\n",
        " {'epoch': 2292,\n",
        "  'train_loss': 0.0027388691,\n",
        "  'valid_accuracy': 0.0075885379,\n",
        "  'valid_loss': 0.0075885379},\n",
        " {'epoch': 2293,\n",
        "  'train_loss': 0.0027735401,\n",
        "  'valid_accuracy': 0.0075715403,\n",
        "  'valid_loss': 0.0075715403},\n",
        " {'epoch': 2294,\n",
        "  'train_loss': 0.0027626127,\n",
        "  'valid_accuracy': 0.0075791194,\n",
        "  'valid_loss': 0.0075791194},\n",
        " {'epoch': 2295,\n",
        "  'train_loss': 0.0026864605,\n",
        "  'valid_accuracy': 0.0075751841,\n",
        "  'valid_loss': 0.0075751841},\n",
        " {'epoch': 2296,\n",
        "  'train_loss': 0.0027549728,\n",
        "  'valid_accuracy': 0.0075739389,\n",
        "  'valid_loss': 0.0075739389},\n",
        " {'epoch': 2297,\n",
        "  'train_loss': 0.0027262033,\n",
        "  'valid_accuracy': 0.0075704893,\n",
        "  'valid_loss': 0.0075704893},\n",
        " {'epoch': 2298,\n",
        "  'train_loss': 0.0027329198,\n",
        "  'valid_accuracy': 0.0075658313,\n",
        "  'valid_loss': 0.0075658313},\n",
        " {'epoch': 2299,\n",
        "  'train_loss': 0.0027292299,\n",
        "  'valid_accuracy': 0.0075619314,\n",
        "  'valid_loss': 0.0075619314},\n",
        " {'epoch': 2300,\n",
        "  'train_loss': 0.0027451841,\n",
        "  'valid_accuracy': 0.0075668395,\n",
        "  'valid_loss': 0.0075668395},\n",
        " {'epoch': 2301,\n",
        "  'train_loss': 0.0027344222,\n",
        "  'valid_accuracy': 0.0075866827,\n",
        "  'valid_loss': 0.0075866827},\n",
        " {'epoch': 2302,\n",
        "  'train_loss': 0.002763479,\n",
        "  'valid_accuracy': 0.0076008625,\n",
        "  'valid_loss': 0.0076008625},\n",
        " {'epoch': 2303,\n",
        "  'train_loss': 0.0027288136,\n",
        "  'valid_accuracy': 0.0075900038,\n",
        "  'valid_loss': 0.0075900038},\n",
        " {'epoch': 2304,\n",
        "  'train_loss': 0.0027473394,\n",
        "  'valid_accuracy': 0.0075996788,\n",
        "  'valid_loss': 0.0075996788},\n",
        " {'epoch': 2305,\n",
        "  'train_loss': 0.0026976375,\n",
        "  'valid_accuracy': 0.0076098628,\n",
        "  'valid_loss': 0.0076098628},\n",
        " {'epoch': 2306,\n",
        "  'train_loss': 0.0027812065,\n",
        "  'valid_accuracy': 0.0075911856,\n",
        "  'valid_loss': 0.0075911856},\n",
        " {'epoch': 2307,\n",
        "  'train_loss': 0.0027582876,\n",
        "  'valid_accuracy': 0.0075892443,\n",
        "  'valid_loss': 0.0075892443},\n",
        " {'epoch': 2308,\n",
        "  'train_loss': 0.0027094746,\n",
        "  'valid_accuracy': 0.007581227,\n",
        "  'valid_loss': 0.007581227},\n",
        " {'epoch': 2309,\n",
        "  'train_loss': 0.0027014487,\n",
        "  'valid_accuracy': 0.0075838771,\n",
        "  'valid_loss': 0.0075838771},\n",
        " {'epoch': 2310,\n",
        "  'train_loss': 0.0027493713,\n",
        "  'valid_accuracy': 0.0075819157,\n",
        "  'valid_loss': 0.0075819157},\n",
        " {'epoch': 2311,\n",
        "  'train_loss': 0.0026825049,\n",
        "  'valid_accuracy': 0.0075947577,\n",
        "  'valid_loss': 0.0075947577},\n",
        " {'epoch': 2312,\n",
        "  'train_loss': 0.0027490908,\n",
        "  'valid_accuracy': 0.0075907516,\n",
        "  'valid_loss': 0.0075907516},\n",
        " {'epoch': 2313,\n",
        "  'train_loss': 0.0027203916,\n",
        "  'valid_accuracy': 0.0075797644,\n",
        "  'valid_loss': 0.0075797644},\n",
        " {'epoch': 2314,\n",
        "  'train_loss': 0.0026871613,\n",
        "  'valid_accuracy': 0.0075732311,\n",
        "  'valid_loss': 0.0075732311},\n",
        " {'epoch': 2315,\n",
        "  'train_loss': 0.0026807459,\n",
        "  'valid_accuracy': 0.007585478,\n",
        "  'valid_loss': 0.007585478},\n",
        " {'epoch': 2316,\n",
        "  'train_loss': 0.0027297495,\n",
        "  'valid_accuracy': 0.0075779431,\n",
        "  'valid_loss': 0.0075779431},\n",
        " {'epoch': 2317,\n",
        "  'train_loss': 0.0027472945,\n",
        "  'valid_accuracy': 0.0075959973,\n",
        "  'valid_loss': 0.0075959973},\n",
        " {'epoch': 2318,\n",
        "  'train_loss': 0.0026643225,\n",
        "  'valid_accuracy': 0.0075708777,\n",
        "  'valid_loss': 0.0075708777},\n",
        " {'epoch': 2319,\n",
        "  'train_loss': 0.0027304485,\n",
        "  'valid_accuracy': 0.0075714453,\n",
        "  'valid_loss': 0.0075714453},\n",
        " {'epoch': 2320,\n",
        "  'train_loss': 0.0026275923,\n",
        "  'valid_accuracy': 0.0075946208,\n",
        "  'valid_loss': 0.0075946208},\n",
        " {'epoch': 2321,\n",
        "  'train_loss': 0.0026799343,\n",
        "  'valid_accuracy': 0.007573504,\n",
        "  'valid_loss': 0.007573504},\n",
        " {'epoch': 2322,\n",
        "  'train_loss': 0.0026620759,\n",
        "  'valid_accuracy': 0.0076007331,\n",
        "  'valid_loss': 0.0076007331},\n",
        " {'epoch': 2323,\n",
        "  'train_loss': 0.0027103052,\n",
        "  'valid_accuracy': 0.00758992,\n",
        "  'valid_loss': 0.00758992},\n",
        " {'epoch': 2324,\n",
        "  'train_loss': 0.0026848023,\n",
        "  'valid_accuracy': 0.0075820498,\n",
        "  'valid_loss': 0.0075820498},\n",
        " {'epoch': 2325,\n",
        "  'train_loss': 0.0027078749,\n",
        "  'valid_accuracy': 0.0075849253,\n",
        "  'valid_loss': 0.0075849253},\n",
        " {'epoch': 2326,\n",
        "  'train_loss': 0.0027847404,\n",
        "  'valid_accuracy': 0.0075800526,\n",
        "  'valid_loss': 0.0075800526},\n",
        " {'epoch': 2327,\n",
        "  'train_loss': 0.0027658325,\n",
        "  'valid_accuracy': 0.0075776465,\n",
        "  'valid_loss': 0.0075776465},\n",
        " {'epoch': 2328,\n",
        "  'train_loss': 0.0027251984,\n",
        "  'valid_accuracy': 0.0075869667,\n",
        "  'valid_loss': 0.0075869667},\n",
        " {'epoch': 2329,\n",
        "  'train_loss': 0.0026823734,\n",
        "  'valid_accuracy': 0.0075649647,\n",
        "  'valid_loss': 0.0075649647},\n",
        " {'epoch': 2330,\n",
        "  'train_loss': 0.0027262557,\n",
        "  'valid_accuracy': 0.0075713424,\n",
        "  'valid_loss': 0.0075713424},\n",
        " {'epoch': 2331,\n",
        "  'train_loss': 0.002704687,\n",
        "  'valid_accuracy': 0.0075755212,\n",
        "  'valid_loss': 0.0075755212},\n",
        " {'epoch': 2332,\n",
        "  'train_loss': 0.0027574161,\n",
        "  'valid_accuracy': 0.0075792186,\n",
        "  'valid_loss': 0.0075792186},\n",
        " {'epoch': 2333,\n",
        "  'train_loss': 0.0027089051,\n",
        "  'valid_accuracy': 0.0075819101,\n",
        "  'valid_loss': 0.0075819101},\n",
        " {'epoch': 2334,\n",
        "  'train_loss': 0.0027143213,\n",
        "  'valid_accuracy': 0.0075637889,\n",
        "  'valid_loss': 0.0075637889},\n",
        " {'epoch': 2335,\n",
        "  'train_loss': 0.0027386064,\n",
        "  'valid_accuracy': 0.0075818789,\n",
        "  'valid_loss': 0.0075818789},\n",
        " {'epoch': 2336,\n",
        "  'train_loss': 0.0026885213,\n",
        "  'valid_accuracy': 0.0075826524,\n",
        "  'valid_loss': 0.0075826524},\n",
        " {'epoch': 2337,\n",
        "  'train_loss': 0.0025939222,\n",
        "  'valid_accuracy': 0.0075817215,\n",
        "  'valid_loss': 0.0075817215},\n",
        " {'epoch': 2338,\n",
        "  'train_loss': 0.0026755438,\n",
        "  'valid_accuracy': 0.0075932792,\n",
        "  'valid_loss': 0.0075932792},\n",
        " {'epoch': 2339,\n",
        "  'train_loss': 0.002654627,\n",
        "  'valid_accuracy': 0.0075783348,\n",
        "  'valid_loss': 0.0075783348},\n",
        " {'epoch': 2340,\n",
        "  'train_loss': 0.0027028488,\n",
        "  'valid_accuracy': 0.007593438,\n",
        "  'valid_loss': 0.007593438},\n",
        " {'epoch': 2341,\n",
        "  'train_loss': 0.0026948645,\n",
        "  'valid_accuracy': 0.0075723585,\n",
        "  'valid_loss': 0.0075723585},\n",
        " {'epoch': 2342,\n",
        "  'train_loss': 0.0026853227,\n",
        "  'valid_accuracy': 0.0075737038,\n",
        "  'valid_loss': 0.0075737038},\n",
        " {'epoch': 2343,\n",
        "  'train_loss': 0.0026893397,\n",
        "  'valid_accuracy': 0.0075675091,\n",
        "  'valid_loss': 0.0075675091},\n",
        " {'epoch': 2344,\n",
        "  'train_loss': 0.0027120353,\n",
        "  'valid_accuracy': 0.0075910427,\n",
        "  'valid_loss': 0.0075910427},\n",
        " {'epoch': 2345,\n",
        "  'train_loss': 0.0027190954,\n",
        "  'valid_accuracy': 0.0075886599,\n",
        "  'valid_loss': 0.0075886599},\n",
        " {'epoch': 2346,\n",
        "  'train_loss': 0.0027244545,\n",
        "  'valid_accuracy': 0.0075981468,\n",
        "  'valid_loss': 0.0075981468},\n",
        " {'epoch': 2347,\n",
        "  'train_loss': 0.0027267158,\n",
        "  'valid_accuracy': 0.0075818519,\n",
        "  'valid_loss': 0.0075818519},\n",
        " {'epoch': 2348,\n",
        "  'train_loss': 0.0027155452,\n",
        "  'valid_accuracy': 0.0075731184,\n",
        "  'valid_loss': 0.0075731184},\n",
        " {'epoch': 2349,\n",
        "  'train_loss': 0.0026717638,\n",
        "  'valid_accuracy': 0.0075881928,\n",
        "  'valid_loss': 0.0075881928},\n",
        " {'epoch': 2350,\n",
        "  'train_loss': 0.0026685034,\n",
        "  'valid_accuracy': 0.0075970008,\n",
        "  'valid_loss': 0.0075970008},\n",
        " {'epoch': 2351,\n",
        "  'train_loss': 0.0027142696,\n",
        "  'valid_accuracy': 0.007570364,\n",
        "  'valid_loss': 0.007570364},\n",
        " {'epoch': 2352,\n",
        "  'train_loss': 0.0026662978,\n",
        "  'valid_accuracy': 0.0075672134,\n",
        "  'valid_loss': 0.0075672134},\n",
        " {'epoch': 2353,\n",
        "  'train_loss': 0.0026995277,\n",
        "  'valid_accuracy': 0.007591398,\n",
        "  'valid_loss': 0.007591398},\n",
        " {'epoch': 2354,\n",
        "  'train_loss': 0.002658023,\n",
        "  'valid_accuracy': 0.0076024658,\n",
        "  'valid_loss': 0.0076024658},\n",
        " {'epoch': 2355,\n",
        "  'train_loss': 0.0026399717,\n",
        "  'valid_accuracy': 0.0075941556,\n",
        "  'valid_loss': 0.0075941556},\n",
        " {'epoch': 2356,\n",
        "  'train_loss': 0.0027032294,\n",
        "  'valid_accuracy': 0.0075595137,\n",
        "  'valid_loss': 0.0075595137},\n",
        " {'epoch': 2357,\n",
        "  'train_loss': 0.0027058802,\n",
        "  'valid_accuracy': 0.0075725829,\n",
        "  'valid_loss': 0.0075725829},\n",
        " {'epoch': 2358,\n",
        "  'train_loss': 0.0026987982,\n",
        "  'valid_accuracy': 0.0075742016,\n",
        "  'valid_loss': 0.0075742016},\n",
        " {'epoch': 2359,\n",
        "  'train_loss': 0.0026621036,\n",
        "  'valid_accuracy': 0.0075822761,\n",
        "  'valid_loss': 0.0075822761},\n",
        " {'epoch': 2360,\n",
        "  'train_loss': 0.0026979451,\n",
        "  'valid_accuracy': 0.0075652804,\n",
        "  'valid_loss': 0.0075652804},\n",
        " {'epoch': 2361,\n",
        "  'train_loss': 0.0026645809,\n",
        "  'valid_accuracy': 0.0075864536,\n",
        "  'valid_loss': 0.0075864536},\n",
        " {'epoch': 2362,\n",
        "  'train_loss': 0.0026252824,\n",
        "  'valid_accuracy': 0.0075895665,\n",
        "  'valid_loss': 0.0075895665},\n",
        " {'epoch': 2363,\n",
        "  'train_loss': 0.002606547,\n",
        "  'valid_accuracy': 0.0075795748,\n",
        "  'valid_loss': 0.0075795748},\n",
        " {'epoch': 2364,\n",
        "  'train_loss': 0.0025855978,\n",
        "  'valid_accuracy': 0.0076035568,\n",
        "  'valid_loss': 0.0076035568},\n",
        " {'epoch': 2365,\n",
        "  'train_loss': 0.0026441002,\n",
        "  'valid_accuracy': 0.0075861714,\n",
        "  'valid_loss': 0.0075861714},\n",
        " {'epoch': 2366,\n",
        "  'train_loss': 0.0027121678,\n",
        "  'valid_accuracy': 0.0075974576,\n",
        "  'valid_loss': 0.0075974576},\n",
        " {'epoch': 2367,\n",
        "  'train_loss': 0.0026656494,\n",
        "  'valid_accuracy': 0.0076078326,\n",
        "  'valid_loss': 0.0076078326},\n",
        " {'epoch': 2368,\n",
        "  'train_loss': 0.0026640075,\n",
        "  'valid_accuracy': 0.0075836792,\n",
        "  'valid_loss': 0.0075836792},\n",
        " {'epoch': 2369,\n",
        "  'train_loss': 0.0026186525,\n",
        "  'valid_accuracy': 0.0075847544,\n",
        "  'valid_loss': 0.0075847544},\n",
        " {'epoch': 2370,\n",
        "  'train_loss': 0.0026113025,\n",
        "  'valid_accuracy': 0.0075844042,\n",
        "  'valid_loss': 0.0075844042},\n",
        " {'epoch': 2371,\n",
        "  'train_loss': 0.0026338159,\n",
        "  'valid_accuracy': 0.0075759073,\n",
        "  'valid_loss': 0.0075759073},\n",
        " {'epoch': 2372,\n",
        "  'train_loss': 0.0026589416,\n",
        "  'valid_accuracy': 0.0075607058,\n",
        "  'valid_loss': 0.0075607058},\n",
        " {'epoch': 2373,\n",
        "  'train_loss': 0.0025700629,\n",
        "  'valid_accuracy': 0.0075690011,\n",
        "  'valid_loss': 0.0075690011},\n",
        " {'epoch': 2374,\n",
        "  'train_loss': 0.0026253473,\n",
        "  'valid_accuracy': 0.0075867632,\n",
        "  'valid_loss': 0.0075867632},\n",
        " {'epoch': 2375,\n",
        "  'train_loss': 0.0026968848,\n",
        "  'valid_accuracy': 0.0075756707,\n",
        "  'valid_loss': 0.0075756707},\n",
        " {'epoch': 2376,\n",
        "  'train_loss': 0.0025952414,\n",
        "  'valid_accuracy': 0.0075747399,\n",
        "  'valid_loss': 0.0075747399},\n",
        " {'epoch': 2377,\n",
        "  'train_loss': 0.0027082239,\n",
        "  'valid_accuracy': 0.0075702867,\n",
        "  'valid_loss': 0.0075702867},\n",
        " {'epoch': 2378,\n",
        "  'train_loss': 0.0026441442,\n",
        "  'valid_accuracy': 0.0075730355,\n",
        "  'valid_loss': 0.0075730355},\n",
        " {'epoch': 2379,\n",
        "  'train_loss': 0.0026690371,\n",
        "  'valid_accuracy': 0.0075729773,\n",
        "  'valid_loss': 0.0075729773},\n",
        " {'epoch': 2380,\n",
        "  'train_loss': 0.0026159652,\n",
        "  'valid_accuracy': 0.0075913942,\n",
        "  'valid_loss': 0.0075913942},\n",
        " {'epoch': 2381,\n",
        "  'train_loss': 0.0026768115,\n",
        "  'valid_accuracy': 0.0075912517,\n",
        "  'valid_loss': 0.0075912517},\n",
        " {'epoch': 2382,\n",
        "  'train_loss': 0.0025640563,\n",
        "  'valid_accuracy': 0.0075774533,\n",
        "  'valid_loss': 0.0075774533},\n",
        " {'epoch': 2383,\n",
        "  'train_loss': 0.0025848907,\n",
        "  'valid_accuracy': 0.0075646434,\n",
        "  'valid_loss': 0.0075646434},\n",
        " {'epoch': 2384,\n",
        "  'train_loss': 0.0025757272,\n",
        "  'valid_accuracy': 0.0075659766,\n",
        "  'valid_loss': 0.0075659766},\n",
        " {'epoch': 2385,\n",
        "  'train_loss': 0.0026285374,\n",
        "  'valid_accuracy': 0.0075705075,\n",
        "  'valid_loss': 0.0075705075},\n",
        " {'epoch': 2386,\n",
        "  'train_loss': 0.002594216,\n",
        "  'valid_accuracy': 0.0075802766,\n",
        "  'valid_loss': 0.0075802766},\n",
        " {'epoch': 2387,\n",
        "  'train_loss': 0.0026341311,\n",
        "  'valid_accuracy': 0.0075585255,\n",
        "  'valid_loss': 0.0075585255},\n",
        " {'epoch': 2388,\n",
        "  'train_loss': 0.0025953625,\n",
        "  'valid_accuracy': 0.0075607784,\n",
        "  'valid_loss': 0.0075607784},\n",
        " {'epoch': 2389,\n",
        "  'train_loss': 0.0026335712,\n",
        "  'valid_accuracy': 0.0075690961,\n",
        "  'valid_loss': 0.0075690961},\n",
        " {'epoch': 2390,\n",
        "  'train_loss': 0.0026431389,\n",
        "  'valid_accuracy': 0.0075859441,\n",
        "  'valid_loss': 0.0075859441},\n",
        " {'epoch': 2391,\n",
        "  'train_loss': 0.0026308112,\n",
        "  'valid_accuracy': 0.0075675994,\n",
        "  'valid_loss': 0.0075675994},\n",
        " {'epoch': 2392,\n",
        "  'train_loss': 0.002629044,\n",
        "  'valid_accuracy': 0.0075763101,\n",
        "  'valid_loss': 0.0075763101},\n",
        " {'epoch': 2393,\n",
        "  'train_loss': 0.002634522,\n",
        "  'valid_accuracy': 0.0075647221,\n",
        "  'valid_loss': 0.0075647221},\n",
        " {'epoch': 2394,\n",
        "  'train_loss': 0.002610225,\n",
        "  'valid_accuracy': 0.0075691598,\n",
        "  'valid_loss': 0.0075691598},\n",
        " {'epoch': 2395,\n",
        "  'train_loss': 0.0026367649,\n",
        "  'valid_accuracy': 0.0075583742,\n",
        "  'valid_loss': 0.0075583742},\n",
        " {'epoch': 2396,\n",
        "  'train_loss': 0.0026118492,\n",
        "  'valid_accuracy': 0.0075749094,\n",
        "  'valid_loss': 0.0075749094},\n",
        " {'epoch': 2397,\n",
        "  'train_loss': 0.0026146392,\n",
        "  'valid_accuracy': 0.0075740395,\n",
        "  'valid_loss': 0.0075740395},\n",
        " {'epoch': 2398,\n",
        "  'train_loss': 0.0026130306,\n",
        "  'valid_accuracy': 0.0075723431,\n",
        "  'valid_loss': 0.0075723431},\n",
        " {'epoch': 2399,\n",
        "  'train_loss': 0.0026431796,\n",
        "  'valid_accuracy': 0.0075837751,\n",
        "  'valid_loss': 0.0075837751},\n",
        " {'epoch': 2400,\n",
        "  'train_loss': 0.0026067568,\n",
        "  'valid_accuracy': 0.0075771376,\n",
        "  'valid_loss': 0.0075771376},\n",
        " {'epoch': 2401,\n",
        "  'train_loss': 0.0026086387,\n",
        "  'valid_accuracy': 0.007581688,\n",
        "  'valid_loss': 0.007581688},\n",
        " {'epoch': 2402,\n",
        "  'train_loss': 0.002597176,\n",
        "  'valid_accuracy': 0.0075632716,\n",
        "  'valid_loss': 0.0075632716},\n",
        " {'epoch': 2403,\n",
        "  'train_loss': 0.0025865606,\n",
        "  'valid_accuracy': 0.0075785839,\n",
        "  'valid_loss': 0.0075785839},\n",
        " {'epoch': 2404,\n",
        "  'train_loss': 0.0025900085,\n",
        "  'valid_accuracy': 0.0075944252,\n",
        "  'valid_loss': 0.0075944252},\n",
        " {'epoch': 2405,\n",
        "  'train_loss': 0.0026947553,\n",
        "  'valid_accuracy': 0.0075714896,\n",
        "  'valid_loss': 0.0075714896},\n",
        " {'epoch': 2406,\n",
        "  'train_loss': 0.0026205846,\n",
        "  'valid_accuracy': 0.0075865844,\n",
        "  'valid_loss': 0.0075865844},\n",
        " {'epoch': 2407,\n",
        "  'train_loss': 0.002619796,\n",
        "  'valid_accuracy': 0.0075852014,\n",
        "  'valid_loss': 0.0075852014},\n",
        " {'epoch': 2408,\n",
        "  'train_loss': 0.0025095663,\n",
        "  'valid_accuracy': 0.0075746235,\n",
        "  'valid_loss': 0.0075746235},\n",
        " {'epoch': 2409,\n",
        "  'train_loss': 0.002605499,\n",
        "  'valid_accuracy': 0.0075827907,\n",
        "  'valid_loss': 0.0075827907},\n",
        " {'epoch': 2410,\n",
        "  'train_loss': 0.0026157647,\n",
        "  'valid_accuracy': 0.0075798887,\n",
        "  'valid_loss': 0.0075798887},\n",
        " {'epoch': 2411,\n",
        "  'train_loss': 0.0026263522,\n",
        "  'valid_accuracy': 0.0075948727,\n",
        "  'valid_loss': 0.0075948727},\n",
        " {'epoch': 2412,\n",
        "  'train_loss': 0.0026128162,\n",
        "  'valid_accuracy': 0.0076023168,\n",
        "  'valid_loss': 0.0076023168},\n",
        " {'epoch': 2413,\n",
        "  'train_loss': 0.0025365921,\n",
        "  'valid_accuracy': 0.0075760968,\n",
        "  'valid_loss': 0.0075760968},\n",
        " {'epoch': 2414,\n",
        "  'train_loss': 0.0025783137,\n",
        "  'valid_accuracy': 0.0075801532,\n",
        "  'valid_loss': 0.0075801532},\n",
        " {'epoch': 2415,\n",
        "  'train_loss': 0.002602296,\n",
        "  'valid_accuracy': 0.007588882,\n",
        "  'valid_loss': 0.007588882},\n",
        " {'epoch': 2416,\n",
        "  'train_loss': 0.0025773749,\n",
        "  'valid_accuracy': 0.0075653368,\n",
        "  'valid_loss': 0.0075653368},\n",
        " {'epoch': 2417,\n",
        "  'train_loss': 0.0026113817,\n",
        "  'valid_accuracy': 0.0075798132,\n",
        "  'valid_loss': 0.0075798132},\n",
        " {'epoch': 2418,\n",
        "  'train_loss': 0.0026174691,\n",
        "  'valid_accuracy': 0.0075739855,\n",
        "  'valid_loss': 0.0075739855},\n",
        " {'epoch': 2419,\n",
        "  'train_loss': 0.0026267348,\n",
        "  'valid_accuracy': 0.0075895078,\n",
        "  'valid_loss': 0.0075895078},\n",
        " {'epoch': 2420,\n",
        "  'train_loss': 0.0026414508,\n",
        "  'valid_accuracy': 0.0075733755,\n",
        "  'valid_loss': 0.0075733755},\n",
        " {'epoch': 2421,\n",
        "  'train_loss': 0.0025669977,\n",
        "  'valid_accuracy': 0.0075634979,\n",
        "  'valid_loss': 0.0075634979},\n",
        " {'epoch': 2422,\n",
        "  'train_loss': 0.0026158933,\n",
        "  'valid_accuracy': 0.0075707068,\n",
        "  'valid_loss': 0.0075707068},\n",
        " {'epoch': 2423,\n",
        "  'train_loss': 0.0026179096,\n",
        "  'valid_accuracy': 0.0075727524,\n",
        "  'valid_loss': 0.0075727524},\n",
        " {'epoch': 2424,\n",
        "  'train_loss': 0.0025706661,\n",
        "  'valid_accuracy': 0.0075833998,\n",
        "  'valid_loss': 0.0075833998},\n",
        " {'epoch': 2425,\n",
        "  'train_loss': 0.002568536,\n",
        "  'valid_accuracy': 0.0075849458,\n",
        "  'valid_loss': 0.0075849458},\n",
        " {'epoch': 2426,\n",
        "  'train_loss': 0.0025727618,\n",
        "  'valid_accuracy': 0.0075674597,\n",
        "  'valid_loss': 0.0075674597},\n",
        " {'epoch': 2427,\n",
        "  'train_loss': 0.0025668459,\n",
        "  'valid_accuracy': 0.0075615942,\n",
        "  'valid_loss': 0.0075615942},\n",
        " {'epoch': 2428,\n",
        "  'train_loss': 0.0025508893,\n",
        "  'valid_accuracy': 0.0075614424,\n",
        "  'valid_loss': 0.0075614424},\n",
        " {'epoch': 2429,\n",
        "  'train_loss': 0.0025691558,\n",
        "  'valid_accuracy': 0.0075670099,\n",
        "  'valid_loss': 0.0075670099},\n",
        " {'epoch': 2430,\n",
        "  'train_loss': 0.0025646896,\n",
        "  'valid_accuracy': 0.0075769993,\n",
        "  'valid_loss': 0.0075769993},\n",
        " {'epoch': 2431,\n",
        "  'train_loss': 0.0026251965,\n",
        "  'valid_accuracy': 0.0075583896,\n",
        "  'valid_loss': 0.0075583896},\n",
        " {'epoch': 2432,\n",
        "  'train_loss': 0.0025379278,\n",
        "  'valid_accuracy': 0.007576766,\n",
        "  'valid_loss': 0.007576766},\n",
        " {'epoch': 2433,\n",
        "  'train_loss': 0.0025689609,\n",
        "  'valid_accuracy': 0.0075797667,\n",
        "  'valid_loss': 0.0075797667},\n",
        " {'epoch': 2434,\n",
        "  'train_loss': 0.0025539403,\n",
        "  'valid_accuracy': 0.0075824326,\n",
        "  'valid_loss': 0.0075824326},\n",
        " {'epoch': 2435,\n",
        "  'train_loss': 0.0026211268,\n",
        "  'valid_accuracy': 0.0075817164,\n",
        "  'valid_loss': 0.0075817164},\n",
        " {'epoch': 2436,\n",
        "  'train_loss': 0.002564823,\n",
        "  'valid_accuracy': 0.0075801234,\n",
        "  'valid_loss': 0.0075801234},\n",
        " {'epoch': 2437,\n",
        "  'train_loss': 0.0025908588,\n",
        "  'valid_accuracy': 0.0075825858,\n",
        "  'valid_loss': 0.0075825858},\n",
        " {'epoch': 2438,\n",
        "  'train_loss': 0.0025946051,\n",
        "  'valid_accuracy': 0.0075791352,\n",
        "  'valid_loss': 0.0075791352},\n",
        " {'epoch': 2439,\n",
        "  'train_loss': 0.0025555464,\n",
        "  'valid_accuracy': 0.0075703152,\n",
        "  'valid_loss': 0.0075703152},\n",
        " {'epoch': 2440,\n",
        "  'train_loss': 0.0025784792,\n",
        "  'valid_accuracy': 0.0075822393,\n",
        "  'valid_loss': 0.0075822393},\n",
        " {'epoch': 2441,\n",
        "  'train_loss': 0.0025884151,\n",
        "  'valid_accuracy': 0.0075809816,\n",
        "  'valid_loss': 0.0075809816},\n",
        " {'epoch': 2442,\n",
        "  'train_loss': 0.0025140569,\n",
        "  'valid_accuracy': 0.0075766854,\n",
        "  'valid_loss': 0.0075766854},\n",
        " {'epoch': 2443,\n",
        "  'train_loss': 0.0025510932,\n",
        "  'valid_accuracy': 0.0075794524,\n",
        "  'valid_loss': 0.0075794524},\n",
        " {'epoch': 2444,\n",
        "  'train_loss': 0.0025232378,\n",
        "  'valid_accuracy': 0.0075681275,\n",
        "  'valid_loss': 0.0075681275},\n",
        " {'epoch': 2445,\n",
        "  'train_loss': 0.0025418578,\n",
        "  'valid_accuracy': 0.0075702048,\n",
        "  'valid_loss': 0.0075702048},\n",
        " {'epoch': 2446,\n",
        "  'train_loss': 0.0025959467,\n",
        "  'valid_accuracy': 0.0075729275,\n",
        "  'valid_loss': 0.0075729275},\n",
        " {'epoch': 2447,\n",
        "  'train_loss': 0.0025351627,\n",
        "  'valid_accuracy': 0.0075740167,\n",
        "  'valid_loss': 0.0075740167},\n",
        " {'epoch': 2448,\n",
        "  'train_loss': 0.002607977,\n",
        "  'valid_accuracy': 0.0075666583,\n",
        "  'valid_loss': 0.0075666583},\n",
        " {'epoch': 2449,\n",
        "  'train_loss': 0.0025496094,\n",
        "  'valid_accuracy': 0.0075748945,\n",
        "  'valid_loss': 0.0075748945},\n",
        " {'epoch': 2450,\n",
        "  'train_loss': 0.0025730871,\n",
        "  'valid_accuracy': 0.0075767958,\n",
        "  'valid_loss': 0.0075767958},\n",
        " {'epoch': 2451,\n",
        "  'train_loss': 0.0025627653,\n",
        "  'valid_accuracy': 0.0075820782,\n",
        "  'valid_loss': 0.0075820782},\n",
        " {'epoch': 2452,\n",
        "  'train_loss': 0.002501172,\n",
        "  'valid_accuracy': 0.0075709927,\n",
        "  'valid_loss': 0.0075709927},\n",
        " {'epoch': 2453,\n",
        "  'train_loss': 0.0025161786,\n",
        "  'valid_accuracy': 0.007590998,\n",
        "  'valid_loss': 0.007590998},\n",
        " {'epoch': 2454,\n",
        "  'train_loss': 0.002554755,\n",
        "  'valid_accuracy': 0.0075627659,\n",
        "  'valid_loss': 0.0075627659},\n",
        " {'epoch': 2455,\n",
        "  'train_loss': 0.002500643,\n",
        "  'valid_accuracy': 0.007564778,\n",
        "  'valid_loss': 0.007564778},\n",
        " {'epoch': 2456,\n",
        "  'train_loss': 0.0025558104,\n",
        "  'valid_accuracy': 0.0075658332,\n",
        "  'valid_loss': 0.0075658332},\n",
        " {'epoch': 2457,\n",
        "  'train_loss': 0.0025511067,\n",
        "  'valid_accuracy': 0.0075792875,\n",
        "  'valid_loss': 0.0075792875},\n",
        " {'epoch': 2458,\n",
        "  'train_loss': 0.0026190763,\n",
        "  'valid_accuracy': 0.0075709424,\n",
        "  'valid_loss': 0.0075709424},\n",
        " {'epoch': 2459,\n",
        "  'train_loss': 0.0025131414,\n",
        "  'valid_accuracy': 0.0075759701,\n",
        "  'valid_loss': 0.0075759701},\n",
        " {'epoch': 2460,\n",
        "  'train_loss': 0.0025152285,\n",
        "  'valid_accuracy': 0.007575429,\n",
        "  'valid_loss': 0.007575429},\n",
        " {'epoch': 2461,\n",
        "  'train_loss': 0.0025413495,\n",
        "  'valid_accuracy': 0.007565367,\n",
        "  'valid_loss': 0.007565367},\n",
        " {'epoch': 2462,\n",
        "  'train_loss': 0.002578845,\n",
        "  'valid_accuracy': 0.007565558,\n",
        "  'valid_loss': 0.007565558},\n",
        " {'epoch': 2463,\n",
        "  'train_loss': 0.0024946716,\n",
        "  'valid_accuracy': 0.0075487318,\n",
        "  'valid_loss': 0.0075487318},\n",
        " {'epoch': 2464,\n",
        "  'train_loss': 0.002435836,\n",
        "  'valid_accuracy': 0.007571422,\n",
        "  'valid_loss': 0.007571422},\n",
        " {'epoch': 2465,\n",
        "  'train_loss': 0.0025114531,\n",
        "  'valid_accuracy': 0.007560926,\n",
        "  'valid_loss': 0.007560926},\n",
        " {'epoch': 2466,\n",
        "  'train_loss': 0.0025071122,\n",
        "  'valid_accuracy': 0.0075623477,\n",
        "  'valid_loss': 0.0075623477},\n",
        " {'epoch': 2467,\n",
        "  'train_loss': 0.0025402203,\n",
        "  'valid_accuracy': 0.0075751883,\n",
        "  'valid_loss': 0.0075751883},\n",
        " {'epoch': 2468,\n",
        "  'train_loss': 0.0025376067,\n",
        "  'valid_accuracy': 0.0075633945,\n",
        "  'valid_loss': 0.0075633945},\n",
        " {'epoch': 2469,\n",
        "  'train_loss': 0.0025179235,\n",
        "  'valid_accuracy': 0.0075810989,\n",
        "  'valid_loss': 0.0075810989},\n",
        " {'epoch': 2470,\n",
        "  'train_loss': 0.0025019203,\n",
        "  'valid_accuracy': 0.0075776046,\n",
        "  'valid_loss': 0.0075776046},\n",
        " {'epoch': 2471,\n",
        "  'train_loss': 0.0025644684,\n",
        "  'valid_accuracy': 0.007561475,\n",
        "  'valid_loss': 0.007561475},\n",
        " {'epoch': 2472,\n",
        "  'train_loss': 0.0025230912,\n",
        "  'valid_accuracy': 0.007577186,\n",
        "  'valid_loss': 0.007577186},\n",
        " {'epoch': 2473,\n",
        "  'train_loss': 0.0025044035,\n",
        "  'valid_accuracy': 0.0075904974,\n",
        "  'valid_loss': 0.0075904974},\n",
        " {'epoch': 2474,\n",
        "  'train_loss': 0.0024943119,\n",
        "  'valid_accuracy': 0.0075752507,\n",
        "  'valid_loss': 0.0075752507},\n",
        " {'epoch': 2475,\n",
        "  'train_loss': 0.0025163745,\n",
        "  'valid_accuracy': 0.0075695505,\n",
        "  'valid_loss': 0.0075695505},\n",
        " {'epoch': 2476,\n",
        "  'train_loss': 0.0024912942,\n",
        "  'valid_accuracy': 0.0075747184,\n",
        "  'valid_loss': 0.0075747184},\n",
        " {'epoch': 2477,\n",
        "  'train_loss': 0.0024977683,\n",
        "  'valid_accuracy': 0.0075614494,\n",
        "  'valid_loss': 0.0075614494},\n",
        " {'epoch': 2478,\n",
        "  'train_loss': 0.0025227896,\n",
        "  'valid_accuracy': 0.0075850016,\n",
        "  'valid_loss': 0.0075850016},\n",
        " {'epoch': 2479,\n",
        "  'train_loss': 0.0024893703,\n",
        "  'valid_accuracy': 0.007570555,\n",
        "  'valid_loss': 0.007570555},\n",
        " {'epoch': 2480,\n",
        "  'train_loss': 0.0024917533,\n",
        "  'valid_accuracy': 0.0075732698,\n",
        "  'valid_loss': 0.0075732698},\n",
        " {'epoch': 2481,\n",
        "  'train_loss': 0.0024562888,\n",
        "  'valid_accuracy': 0.0075532161,\n",
        "  'valid_loss': 0.0075532161},\n",
        " {'epoch': 2482,\n",
        "  'train_loss': 0.00250922,\n",
        "  'valid_accuracy': 0.0075769252,\n",
        "  'valid_loss': 0.0075769252},\n",
        " {'epoch': 2483,\n",
        "  'train_loss': 0.0025212979,\n",
        "  'valid_accuracy': 0.0075925915,\n",
        "  'valid_loss': 0.0075925915},\n",
        " {'epoch': 2484,\n",
        "  'train_loss': 0.0024986491,\n",
        "  'valid_accuracy': 0.0075775655,\n",
        "  'valid_loss': 0.0075775655},\n",
        " {'epoch': 2485,\n",
        "  'train_loss': 0.0024591328,\n",
        "  'valid_accuracy': 0.0075614313,\n",
        "  'valid_loss': 0.0075614313},\n",
        " {'epoch': 2486,\n",
        "  'train_loss': 0.0025090661,\n",
        "  'valid_accuracy': 0.0075753964,\n",
        "  'valid_loss': 0.0075753964},\n",
        " {'epoch': 2487,\n",
        "  'train_loss': 0.0024822399,\n",
        "  'valid_accuracy': 0.0075750854,\n",
        "  'valid_loss': 0.0075750854},\n",
        " {'epoch': 2488,\n",
        "  'train_loss': 0.0026084564,\n",
        "  'valid_accuracy': 0.0075709871,\n",
        "  'valid_loss': 0.0075709871},\n",
        " {'epoch': 2489,\n",
        "  'train_loss': 0.0025351727,\n",
        "  'valid_accuracy': 0.0075552301,\n",
        "  'valid_loss': 0.0075552301},\n",
        " {'epoch': 2490,\n",
        "  'train_loss': 0.0025115055,\n",
        "  'valid_accuracy': 0.0075617176,\n",
        "  'valid_loss': 0.0075617176},\n",
        " {'epoch': 2491,\n",
        "  'train_loss': 0.002490029,\n",
        "  'valid_accuracy': 0.0075582578,\n",
        "  'valid_loss': 0.0075582578},\n",
        " {'epoch': 2492,\n",
        "  'train_loss': 0.0024446081,\n",
        "  'valid_accuracy': 0.0075576063,\n",
        "  'valid_loss': 0.0075576063},\n",
        " {'epoch': 2493,\n",
        "  'train_loss': 0.0024639957,\n",
        "  'valid_accuracy': 0.0075595756,\n",
        "  'valid_loss': 0.0075595756},\n",
        " {'epoch': 2494,\n",
        "  'train_loss': 0.0024740575,\n",
        "  'valid_accuracy': 0.0075684013,\n",
        "  'valid_loss': 0.0075684013},\n",
        " {'epoch': 2495,\n",
        "  'train_loss': 0.0025429302,\n",
        "  'valid_accuracy': 0.00756654,\n",
        "  'valid_loss': 0.00756654},\n",
        " {'epoch': 2496,\n",
        "  'train_loss': 0.0024431883,\n",
        "  'valid_accuracy': 0.0075604226,\n",
        "  'valid_loss': 0.0075604226},\n",
        " {'epoch': 2497,\n",
        "  'train_loss': 0.0024580681,\n",
        "  'valid_accuracy': 0.007568216,\n",
        "  'valid_loss': 0.007568216},\n",
        " {'epoch': 2498,\n",
        "  'train_loss': 0.0025276975,\n",
        "  'valid_accuracy': 0.0075583891,\n",
        "  'valid_loss': 0.0075583891},\n",
        " {'epoch': 2499,\n",
        "  'train_loss': 0.0025034586,\n",
        "  'valid_accuracy': 0.007565341,\n",
        "  'valid_loss': 0.007565341},\n",
        " {'epoch': 2500,\n",
        "  'train_loss': 0.0025148464,\n",
        "  'valid_accuracy': 0.0075638783,\n",
        "  'valid_loss': 0.0075638783},\n",
        " {'epoch': 2501,\n",
        "  'train_loss': 0.0024798382,\n",
        "  'valid_accuracy': 0.0075585628,\n",
        "  'valid_loss': 0.0075585628},\n",
        " {'epoch': 2502,\n",
        "  'train_loss': 0.002534535,\n",
        "  'valid_accuracy': 0.0075666145,\n",
        "  'valid_loss': 0.0075666145},\n",
        " {'epoch': 2503,\n",
        "  'train_loss': 0.002439307,\n",
        "  'valid_accuracy': 0.0075623244,\n",
        "  'valid_loss': 0.0075623244},\n",
        " {'epoch': 2504,\n",
        "  'train_loss': 0.0025315094,\n",
        "  'valid_accuracy': 0.0075727962,\n",
        "  'valid_loss': 0.0075727962},\n",
        " {'epoch': 2505,\n",
        "  'train_loss': 0.0024606402,\n",
        "  'valid_accuracy': 0.0075777024,\n",
        "  'valid_loss': 0.0075777024},\n",
        " {'epoch': 2506,\n",
        "  'train_loss': 0.0024595631,\n",
        "  'valid_accuracy': 0.007577002,\n",
        "  'valid_loss': 0.007577002},\n",
        " {'epoch': 2507,\n",
        "  'train_loss': 0.0024838063,\n",
        "  'valid_accuracy': 0.0075901328,\n",
        "  'valid_loss': 0.0075901328},\n",
        " {'epoch': 2508,\n",
        "  'train_loss': 0.0024379145,\n",
        "  'valid_accuracy': 0.0075763306,\n",
        "  'valid_loss': 0.0075763306},\n",
        " {'epoch': 2509,\n",
        "  'train_loss': 0.0025502101,\n",
        "  'valid_accuracy': 0.0075762249,\n",
        "  'valid_loss': 0.0075762249},\n",
        " {'epoch': 2510,\n",
        "  'train_loss': 0.0024764137,\n",
        "  'valid_accuracy': 0.0075618406,\n",
        "  'valid_loss': 0.0075618406},\n",
        " {'epoch': 2511,\n",
        "  'train_loss': 0.0024982828,\n",
        "  'valid_accuracy': 0.0075615249,\n",
        "  'valid_loss': 0.0075615249},\n",
        " {'epoch': 2512,\n",
        "  'train_loss': 0.0025242225,\n",
        "  'valid_accuracy': 0.0075846291,\n",
        "  'valid_loss': 0.0075846291},\n",
        " {'epoch': 2513,\n",
        "  'train_loss': 0.0025193971,\n",
        "  'valid_accuracy': 0.0075852494,\n",
        "  'valid_loss': 0.0075852494},\n",
        " {'epoch': 2514,\n",
        "  'train_loss': 0.0024481697,\n",
        "  'valid_accuracy': 0.00758198,\n",
        "  'valid_loss': 0.00758198},\n",
        " {'epoch': 2515,\n",
        "  'train_loss': 0.0024882504,\n",
        "  'valid_accuracy': 0.0075930795,\n",
        "  'valid_loss': 0.0075930795},\n",
        " {'epoch': 2516,\n",
        "  'train_loss': 0.0024209584,\n",
        "  'valid_accuracy': 0.0075829336,\n",
        "  'valid_loss': 0.0075829336},\n",
        " {'epoch': 2517,\n",
        "  'train_loss': 0.0025193084,\n",
        "  'valid_accuracy': 0.0075745815,\n",
        "  'valid_loss': 0.0075745815},\n",
        " {'epoch': 2518,\n",
        "  'train_loss': 0.0025185363,\n",
        "  'valid_accuracy': 0.0075905793,\n",
        "  'valid_loss': 0.0075905793},\n",
        " {'epoch': 2519,\n",
        "  'train_loss': 0.0024904127,\n",
        "  'valid_accuracy': 0.0075842426,\n",
        "  'valid_loss': 0.0075842426},\n",
        " {'epoch': 2520,\n",
        "  'train_loss': 0.0024265081,\n",
        "  'valid_accuracy': 0.0076084556,\n",
        "  'valid_loss': 0.0076084556},\n",
        " {'epoch': 2521,\n",
        "  'train_loss': 0.0024588259,\n",
        "  'valid_accuracy': 0.0075846575,\n",
        "  'valid_loss': 0.0075846575},\n",
        " {'epoch': 2522,\n",
        "  'train_loss': 0.002399852,\n",
        "  'valid_accuracy': 0.0075946501,\n",
        "  'valid_loss': 0.0075946501},\n",
        " {'epoch': 2523,\n",
        "  'train_loss': 0.0024660248,\n",
        "  'valid_accuracy': 0.0075976062,\n",
        "  'valid_loss': 0.0075976062},\n",
        " {'epoch': 2524,\n",
        "  'train_loss': 0.0024760081,\n",
        "  'valid_accuracy': 0.007591649,\n",
        "  'valid_loss': 0.007591649},\n",
        " {'epoch': 2525,\n",
        "  'train_loss': 0.002466308,\n",
        "  'valid_accuracy': 0.0075744377,\n",
        "  'valid_loss': 0.0075744377},\n",
        " {'epoch': 2526,\n",
        "  'train_loss': 0.0025058566,\n",
        "  'valid_accuracy': 0.0075776791,\n",
        "  'valid_loss': 0.0075776791},\n",
        " {'epoch': 2527,\n",
        "  'train_loss': 0.0023923991,\n",
        "  'valid_accuracy': 0.007574534,\n",
        "  'valid_loss': 0.007574534},\n",
        " {'epoch': 2528,\n",
        "  'train_loss': 0.0024698891,\n",
        "  'valid_accuracy': 0.0075892592,\n",
        "  'valid_loss': 0.0075892592},\n",
        " {'epoch': 2529,\n",
        "  'train_loss': 0.002472234,\n",
        "  'valid_accuracy': 0.0075813737,\n",
        "  'valid_loss': 0.0075813737},\n",
        " {'epoch': 2530,\n",
        "  'train_loss': 0.0024767229,\n",
        "  'valid_accuracy': 0.0075937398,\n",
        "  'valid_loss': 0.0075937398},\n",
        " {'epoch': 2531,\n",
        "  'train_loss': 0.0024119089,\n",
        "  'valid_accuracy': 0.0075814328,\n",
        "  'valid_loss': 0.0075814328},\n",
        " {'epoch': 2532,\n",
        "  'train_loss': 0.0024554739,\n",
        "  'valid_accuracy': 0.0075922986,\n",
        "  'valid_loss': 0.0075922986},\n",
        " {'epoch': 2533,\n",
        "  'train_loss': 0.002451397,\n",
        "  'valid_accuracy': 0.007596978,\n",
        "  'valid_loss': 0.007596978},\n",
        " {'epoch': 2534,\n",
        "  'train_loss': 0.0024035259,\n",
        "  'valid_accuracy': 0.0075992234,\n",
        "  'valid_loss': 0.0075992234},\n",
        " {'epoch': 2535,\n",
        "  'train_loss': 0.0024868662,\n",
        "  'valid_accuracy': 0.007591994,\n",
        "  'valid_loss': 0.007591994},\n",
        " {'epoch': 2536,\n",
        "  'train_loss': 0.0024813309,\n",
        "  'valid_accuracy': 0.0075900219,\n",
        "  'valid_loss': 0.0075900219},\n",
        " {'epoch': 2537,\n",
        "  'train_loss': 0.002451617,\n",
        "  'valid_accuracy': 0.0076012472,\n",
        "  'valid_loss': 0.0076012472},\n",
        " {'epoch': 2538,\n",
        "  'train_loss': 0.0024718065,\n",
        "  'valid_accuracy': 0.0076132389,\n",
        "  'valid_loss': 0.0076132389},\n",
        " {'epoch': 2539,\n",
        "  'train_loss': 0.0024586583,\n",
        "  'valid_accuracy': 0.0076103183,\n",
        "  'valid_loss': 0.0076103183},\n",
        " {'epoch': 2540,\n",
        "  'train_loss': 0.0023877746,\n",
        "  'valid_accuracy': 0.0076088919,\n",
        "  'valid_loss': 0.0076088919},\n",
        " {'epoch': 2541,\n",
        "  'train_loss': 0.0025046144,\n",
        "  'valid_accuracy': 0.0075914874,\n",
        "  'valid_loss': 0.0075914874},\n",
        " {'epoch': 2542,\n",
        "  'train_loss': 0.0024010309,\n",
        "  'valid_accuracy': 0.007606016,\n",
        "  'valid_loss': 0.007606016},\n",
        " {'epoch': 2543,\n",
        "  'train_loss': 0.0025058405,\n",
        "  'valid_accuracy': 0.0075917435,\n",
        "  'valid_loss': 0.0075917435},\n",
        " {'epoch': 2544,\n",
        "  'train_loss': 0.0024235211,\n",
        "  'valid_accuracy': 0.0075923703,\n",
        "  'valid_loss': 0.0075923703},\n",
        " {'epoch': 2545,\n",
        "  'train_loss': 0.0024688814,\n",
        "  'valid_accuracy': 0.0075940867,\n",
        "  'valid_loss': 0.0075940867},\n",
        " {'epoch': 2546,\n",
        "  'train_loss': 0.0024842843,\n",
        "  'valid_accuracy': 0.007589791,\n",
        "  'valid_loss': 0.007589791},\n",
        " {'epoch': 2547,\n",
        "  'train_loss': 0.0023805765,\n",
        "  'valid_accuracy': 0.0075800279,\n",
        "  'valid_loss': 0.0075800279},\n",
        " {'epoch': 2548,\n",
        "  'train_loss': 0.0024646595,\n",
        "  'valid_accuracy': 0.0075867185,\n",
        "  'valid_loss': 0.0075867185},\n",
        " {'epoch': 2549,\n",
        "  'train_loss': 0.0024646416,\n",
        "  'valid_accuracy': 0.0075864438,\n",
        "  'valid_loss': 0.0075864438},\n",
        " {'epoch': 2550,\n",
        "  'train_loss': 0.0025037737,\n",
        "  'valid_accuracy': 0.0076083727,\n",
        "  'valid_loss': 0.0076083727},\n",
        " {'epoch': 2551,\n",
        "  'train_loss': 0.0024648102,\n",
        "  'valid_accuracy': 0.0076055215,\n",
        "  'valid_loss': 0.0076055215},\n",
        " {'epoch': 2552,\n",
        "  'train_loss': 0.0025276185,\n",
        "  'valid_accuracy': 0.0076083252,\n",
        "  'valid_loss': 0.0076083252},\n",
        " {'epoch': 2553,\n",
        "  'train_loss': 0.0024147497,\n",
        "  'valid_accuracy': 0.0076365811,\n",
        "  'valid_loss': 0.0076365811},\n",
        " {'epoch': 2554,\n",
        "  'train_loss': 0.0024557936,\n",
        "  'valid_accuracy': 0.0076026837,\n",
        "  'valid_loss': 0.0076026837},\n",
        " {'epoch': 2555,\n",
        "  'train_loss': 0.0024177546,\n",
        "  'valid_accuracy': 0.007598578,\n",
        "  'valid_loss': 0.007598578},\n",
        " {'epoch': 2556,\n",
        "  'train_loss': 0.0024927207,\n",
        "  'valid_accuracy': 0.0076173353,\n",
        "  'valid_loss': 0.0076173353},\n",
        " {'epoch': 2557,\n",
        "  'train_loss': 0.0024538208,\n",
        "  'valid_accuracy': 0.0076049143,\n",
        "  'valid_loss': 0.0076049143},\n",
        " {'epoch': 2558,\n",
        "  'train_loss': 0.0024576827,\n",
        "  'valid_accuracy': 0.0075979801,\n",
        "  'valid_loss': 0.0075979801},\n",
        " {'epoch': 2559,\n",
        "  'train_loss': 0.002380477,\n",
        "  'valid_accuracy': 0.0076022716,\n",
        "  'valid_loss': 0.0076022716},\n",
        " {'epoch': 2560,\n",
        "  'train_loss': 0.0024110405,\n",
        "  'valid_accuracy': 0.0075993808,\n",
        "  'valid_loss': 0.0075993808},\n",
        " {'epoch': 2561,\n",
        "  'train_loss': 0.0024060367,\n",
        "  'valid_accuracy': 0.0076019429,\n",
        "  'valid_loss': 0.0076019429},\n",
        " {'epoch': 2562,\n",
        "  'train_loss': 0.0024316674,\n",
        "  'valid_accuracy': 0.0075893039,\n",
        "  'valid_loss': 0.0075893039},\n",
        " {'epoch': 2563,\n",
        "  'train_loss': 0.0024195113,\n",
        "  'valid_accuracy': 0.0075827441,\n",
        "  'valid_loss': 0.0075827441},\n",
        " {'epoch': 2564,\n",
        "  'train_loss': 0.0023878166,\n",
        "  'valid_accuracy': 0.0076001165,\n",
        "  'valid_loss': 0.0076001165},\n",
        " {'epoch': 2565,\n",
        "  'train_loss': 0.0024220201,\n",
        "  'valid_accuracy': 0.007592693,\n",
        "  'valid_loss': 0.007592693},\n",
        " {'epoch': 2566,\n",
        "  'train_loss': 0.0023915272,\n",
        "  'valid_accuracy': 0.0075799157,\n",
        "  'valid_loss': 0.0075799157},\n",
        " {'epoch': 2567,\n",
        "  'train_loss': 0.0024629356,\n",
        "  'valid_accuracy': 0.00759133,\n",
        "  'valid_loss': 0.00759133},\n",
        " {'epoch': 2568,\n",
        "  'train_loss': 0.0024464407,\n",
        "  'valid_accuracy': 0.0075762114,\n",
        "  'valid_loss': 0.0075762114},\n",
        " {'epoch': 2569,\n",
        "  'train_loss': 0.0023470321,\n",
        "  'valid_accuracy': 0.0075747492,\n",
        "  'valid_loss': 0.0075747492},\n",
        " {'epoch': 2570,\n",
        "  'train_loss': 0.0024275116,\n",
        "  'valid_accuracy': 0.0075725508,\n",
        "  'valid_loss': 0.0075725508},\n",
        " {'epoch': 2571,\n",
        "  'train_loss': 0.0023769962,\n",
        "  'valid_accuracy': 0.0075922958,\n",
        "  'valid_loss': 0.0075922958},\n",
        " {'epoch': 2572,\n",
        "  'train_loss': 0.0024358549,\n",
        "  'valid_accuracy': 0.007593221,\n",
        "  'valid_loss': 0.007593221},\n",
        " {'epoch': 2573,\n",
        "  'train_loss': 0.0023512607,\n",
        "  'valid_accuracy': 0.0075817606,\n",
        "  'valid_loss': 0.0075817606},\n",
        " {'epoch': 2574,\n",
        "  'train_loss': 0.0023984271,\n",
        "  'valid_accuracy': 0.0075934608,\n",
        "  'valid_loss': 0.0075934608},\n",
        " {'epoch': 2575,\n",
        "  'train_loss': 0.0024152489,\n",
        "  'valid_accuracy': 0.0076013184,\n",
        "  'valid_loss': 0.0076013184},\n",
        " {'epoch': 2576,\n",
        "  'train_loss': 0.0023927405,\n",
        "  'valid_accuracy': 0.0076004779,\n",
        "  'valid_loss': 0.0076004779},\n",
        " {'epoch': 2577,\n",
        "  'train_loss': 0.0024214685,\n",
        "  'valid_accuracy': 0.007597948,\n",
        "  'valid_loss': 0.007597948},\n",
        " {'epoch': 2578,\n",
        "  'train_loss': 0.0024177346,\n",
        "  'valid_accuracy': 0.0075738593,\n",
        "  'valid_loss': 0.0075738593},\n",
        " {'epoch': 2579,\n",
        "  'train_loss': 0.0023794556,\n",
        "  'valid_accuracy': 0.0075752861,\n",
        "  'valid_loss': 0.0075752861},\n",
        " {'epoch': 2580,\n",
        "  'train_loss': 0.0024036337,\n",
        "  'valid_accuracy': 0.0075708544,\n",
        "  'valid_loss': 0.0075708544},\n",
        " {'epoch': 2581,\n",
        "  'train_loss': 0.0024363294,\n",
        "  'valid_accuracy': 0.0075949375,\n",
        "  'valid_loss': 0.0075949375},\n",
        " {'epoch': 2582,\n",
        "  'train_loss': 0.0023640082,\n",
        "  'valid_accuracy': 0.0075981757,\n",
        "  'valid_loss': 0.0075981757},\n",
        " {'epoch': 2583,\n",
        "  'train_loss': 0.0024156198,\n",
        "  'valid_accuracy': 0.0075875549,\n",
        "  'valid_loss': 0.0075875549},\n",
        " {'epoch': 2584,\n",
        "  'train_loss': 0.0023735613,\n",
        "  'valid_accuracy': 0.007592062,\n",
        "  'valid_loss': 0.007592062},\n",
        " {'epoch': 2585,\n",
        "  'train_loss': 0.0023936168,\n",
        "  'valid_accuracy': 0.0075858627,\n",
        "  'valid_loss': 0.0075858627},\n",
        " {'epoch': 2586,\n",
        "  'train_loss': 0.0024336916,\n",
        "  'valid_accuracy': 0.0075915656,\n",
        "  'valid_loss': 0.0075915656},\n",
        " {'epoch': 2587,\n",
        "  'train_loss': 0.0024806389,\n",
        "  'valid_accuracy': 0.0075957612,\n",
        "  'valid_loss': 0.0075957612},\n",
        " {'epoch': 2588,\n",
        "  'train_loss': 0.0023721405,\n",
        "  'valid_accuracy': 0.0075901109,\n",
        "  'valid_loss': 0.0075901109},\n",
        " {'epoch': 2589,\n",
        "  'train_loss': 0.0024059564,\n",
        "  'valid_accuracy': 0.0075774775,\n",
        "  'valid_loss': 0.0075774775},\n",
        " {'epoch': 2590,\n",
        "  'train_loss': 0.0024092444,\n",
        "  'valid_accuracy': 0.0075928993,\n",
        "  'valid_loss': 0.0075928993},\n",
        " {'epoch': 2591,\n",
        "  'train_loss': 0.0024264597,\n",
        "  'valid_accuracy': 0.0076083392,\n",
        "  'valid_loss': 0.0076083392},\n",
        " {'epoch': 2592,\n",
        "  'train_loss': 0.0023837904,\n",
        "  'valid_accuracy': 0.0075971759,\n",
        "  'valid_loss': 0.0075971759},\n",
        " {'epoch': 2593,\n",
        "  'train_loss': 0.0023488759,\n",
        "  'valid_accuracy': 0.0075927498,\n",
        "  'valid_loss': 0.0075927498},\n",
        " {'epoch': 2594,\n",
        "  'train_loss': 0.0024563493,\n",
        "  'valid_accuracy': 0.0076028313,\n",
        "  'valid_loss': 0.0076028313},\n",
        " {'epoch': 2595,\n",
        "  'train_loss': 0.0023803713,\n",
        "  'valid_accuracy': 0.0075824372,\n",
        "  'valid_loss': 0.0075824372},\n",
        " {'epoch': 2596,\n",
        "  'train_loss': 0.0023990506,\n",
        "  'valid_accuracy': 0.0075781606,\n",
        "  'valid_loss': 0.0075781606},\n",
        " {'epoch': 2597,\n",
        "  'train_loss': 0.0024318655,\n",
        "  'valid_accuracy': 0.0075896452,\n",
        "  'valid_loss': 0.0075896452},\n",
        " {'epoch': 2598,\n",
        "  'train_loss': 0.002393624,\n",
        "  'valid_accuracy': 0.0075855488,\n",
        "  'valid_loss': 0.0075855488},\n",
        " {'epoch': 2599,\n",
        "  'train_loss': 0.0024049894,\n",
        "  'valid_accuracy': 0.0075779269,\n",
        "  'valid_loss': 0.0075779269},\n",
        " {'epoch': 2600,\n",
        "  'train_loss': 0.0024199348,\n",
        "  'valid_accuracy': 0.0075774193,\n",
        "  'valid_loss': 0.0075774193},\n",
        " {'epoch': 2601,\n",
        "  'train_loss': 0.0023767913,\n",
        "  'valid_accuracy': 0.0075726481,\n",
        "  'valid_loss': 0.0075726481},\n",
        " {'epoch': 2602,\n",
        "  'train_loss': 0.0023807636,\n",
        "  'valid_accuracy': 0.0075902152,\n",
        "  'valid_loss': 0.0075902152},\n",
        " {'epoch': 2603,\n",
        "  'train_loss': 0.002361794,\n",
        "  'valid_accuracy': 0.0075995959,\n",
        "  'valid_loss': 0.0075995959},\n",
        " {'epoch': 2604,\n",
        "  'train_loss': 0.0024097825,\n",
        "  'valid_accuracy': 0.0075847218,\n",
        "  'valid_loss': 0.0075847218},\n",
        " {'epoch': 2605,\n",
        "  'train_loss': 0.0023615086,\n",
        "  'valid_accuracy': 0.0075981608,\n",
        "  'valid_loss': 0.0075981608},\n",
        " {'epoch': 2606,\n",
        "  'train_loss': 0.0024307244,\n",
        "  'valid_accuracy': 0.007584244,\n",
        "  'valid_loss': 0.007584244},\n",
        " {'epoch': 2607,\n",
        "  'train_loss': 0.0023637945,\n",
        "  'valid_accuracy': 0.0075731119,\n",
        "  'valid_loss': 0.0075731119},\n",
        " {'epoch': 2608,\n",
        "  'train_loss': 0.0023489376,\n",
        "  'valid_accuracy': 0.0075702341,\n",
        "  'valid_loss': 0.0075702341},\n",
        " {'epoch': 2609,\n",
        "  'train_loss': 0.0023667698,\n",
        "  'valid_accuracy': 0.0075809499,\n",
        "  'valid_loss': 0.0075809499},\n",
        " {'epoch': 2610,\n",
        "  'train_loss': 0.002363872,\n",
        "  'valid_accuracy': 0.007573531,\n",
        "  'valid_loss': 0.007573531},\n",
        " {'epoch': 2611,\n",
        "  'train_loss': 0.0023115026,\n",
        "  'valid_accuracy': 0.0075768735,\n",
        "  'valid_loss': 0.0075768735},\n",
        " {'epoch': 2612,\n",
        "  'train_loss': 0.0024410756,\n",
        "  'valid_accuracy': 0.0075720348,\n",
        "  'valid_loss': 0.0075720348},\n",
        " {'epoch': 2613,\n",
        "  'train_loss': 0.0024125369,\n",
        "  'valid_accuracy': 0.007562242,\n",
        "  'valid_loss': 0.007562242},\n",
        " {'epoch': 2614,\n",
        "  'train_loss': 0.0023758833,\n",
        "  'valid_accuracy': 0.0075806221,\n",
        "  'valid_loss': 0.0075806221},\n",
        " {'epoch': 2615,\n",
        "  'train_loss': 0.0023887758,\n",
        "  'valid_accuracy': 0.0075839837,\n",
        "  'valid_loss': 0.0075839837},\n",
        " {'epoch': 2616,\n",
        "  'train_loss': 0.0024058924,\n",
        "  'valid_accuracy': 0.0075859972,\n",
        "  'valid_loss': 0.0075859972},\n",
        " {'epoch': 2617,\n",
        "  'train_loss': 0.0023879006,\n",
        "  'valid_accuracy': 0.007579851,\n",
        "  'valid_loss': 0.007579851},\n",
        " {'epoch': 2618,\n",
        "  'train_loss': 0.0024233058,\n",
        "  'valid_accuracy': 0.0075889202,\n",
        "  'valid_loss': 0.0075889202},\n",
        " {'epoch': 2619,\n",
        "  'train_loss': 0.0023792279,\n",
        "  'valid_accuracy': 0.0075999149,\n",
        "  'valid_loss': 0.0075999149},\n",
        " {'epoch': 2620,\n",
        "  'train_loss': 0.0023441911,\n",
        "  'valid_accuracy': 0.0076077338,\n",
        "  'valid_loss': 0.0076077338},\n",
        " {'epoch': 2621,\n",
        "  'train_loss': 0.0024388984,\n",
        "  'valid_accuracy': 0.0076020993,\n",
        "  'valid_loss': 0.0076020993},\n",
        " {'epoch': 2622,\n",
        "  'train_loss': 0.0023546778,\n",
        "  'valid_accuracy': 0.007595764,\n",
        "  'valid_loss': 0.007595764},\n",
        " {'epoch': 2623,\n",
        "  'train_loss': 0.0023914378,\n",
        "  'valid_accuracy': 0.0075927759,\n",
        "  'valid_loss': 0.0075927759},\n",
        " {'epoch': 2624,\n",
        "  'train_loss': 0.0023744472,\n",
        "  'valid_accuracy': 0.0075843846,\n",
        "  'valid_loss': 0.0075843846},\n",
        " {'epoch': 2625,\n",
        "  'train_loss': 0.0023355191,\n",
        "  'valid_accuracy': 0.007584942,\n",
        "  'valid_loss': 0.007584942},\n",
        " {'epoch': 2626,\n",
        "  'train_loss': 0.0023799965,\n",
        "  'valid_accuracy': 0.0076115662,\n",
        "  'valid_loss': 0.0076115662},\n",
        " {'epoch': 2627,\n",
        "  'train_loss': 0.0023791755,\n",
        "  'valid_accuracy': 0.0076131742,\n",
        "  'valid_loss': 0.0076131742},\n",
        " {'epoch': 2628,\n",
        "  'train_loss': 0.0023771632,\n",
        "  'valid_accuracy': 0.0075876885,\n",
        "  'valid_loss': 0.0075876885},\n",
        " {'epoch': 2629,\n",
        "  'train_loss': 0.0024282264,\n",
        "  'valid_accuracy': 0.0075805625,\n",
        "  'valid_loss': 0.0075805625},\n",
        " {'epoch': 2630,\n",
        "  'train_loss': 0.002348254,\n",
        "  'valid_accuracy': 0.0075797439,\n",
        "  'valid_loss': 0.0075797439},\n",
        " {'epoch': 2631,\n",
        "  'train_loss': 0.0023684793,\n",
        "  'valid_accuracy': 0.0075917188,\n",
        "  'valid_loss': 0.0075917188},\n",
        " {'epoch': 2632,\n",
        "  'train_loss': 0.0023796908,\n",
        "  'valid_accuracy': 0.0075876811,\n",
        "  'valid_loss': 0.0075876811},\n",
        " {'epoch': 2633,\n",
        "  'train_loss': 0.0023420567,\n",
        "  'valid_accuracy': 0.0075871656,\n",
        "  'valid_loss': 0.0075871656},\n",
        " {'epoch': 2634,\n",
        "  'train_loss': 0.0023264471,\n",
        "  'valid_accuracy': 0.0075772335,\n",
        "  'valid_loss': 0.0075772335},\n",
        " {'epoch': 2635,\n",
        "  'train_loss': 0.0023688173,\n",
        "  'valid_accuracy': 0.0075929859,\n",
        "  'valid_loss': 0.0075929859},\n",
        " {'epoch': 2636,\n",
        "  'train_loss': 0.0023421431,\n",
        "  'valid_accuracy': 0.0075808577,\n",
        "  'valid_loss': 0.0075808577},\n",
        " {'epoch': 2637,\n",
        "  'train_loss': 0.0023587297,\n",
        "  'valid_accuracy': 0.0075838077,\n",
        "  'valid_loss': 0.0075838077},\n",
        " {'epoch': 2638,\n",
        "  'train_loss': 0.0022797303,\n",
        "  'valid_accuracy': 0.0075839469,\n",
        "  'valid_loss': 0.0075839469},\n",
        " {'epoch': 2639,\n",
        "  'train_loss': 0.0023380937,\n",
        "  'valid_accuracy': 0.007587479,\n",
        "  'valid_loss': 0.007587479},\n",
        " {'epoch': 2640,\n",
        "  'train_loss': 0.0023519197,\n",
        "  'valid_accuracy': 0.0075814063,\n",
        "  'valid_loss': 0.0075814063},\n",
        " {'epoch': 2641,\n",
        "  'train_loss': 0.0023842317,\n",
        "  'valid_accuracy': 0.0075958273,\n",
        "  'valid_loss': 0.0075958273},\n",
        " {'epoch': 2642,\n",
        "  'train_loss': 0.0023423673,\n",
        "  'valid_accuracy': 0.0075818244,\n",
        "  'valid_loss': 0.0075818244},\n",
        " {'epoch': 2643,\n",
        "  'train_loss': 0.0024045138,\n",
        "  'valid_accuracy': 0.0075885789,\n",
        "  'valid_loss': 0.0075885789},\n",
        " {'epoch': 2644,\n",
        "  'train_loss': 0.0023695722,\n",
        "  'valid_accuracy': 0.0075831776,\n",
        "  'valid_loss': 0.0075831776},\n",
        " {'epoch': 2645,\n",
        "  'train_loss': 0.0023533793,\n",
        "  'valid_accuracy': 0.007585349,\n",
        "  'valid_loss': 0.007585349},\n",
        " {'epoch': 2646,\n",
        "  'train_loss': 0.0023279858,\n",
        "  'valid_accuracy': 0.0076018111,\n",
        "  'valid_loss': 0.0076018111},\n",
        " {'epoch': 2647,\n",
        "  'train_loss': 0.0023519681,\n",
        "  'valid_accuracy': 0.007588583,\n",
        "  'valid_loss': 0.007588583},\n",
        " {'epoch': 2648,\n",
        "  'train_loss': 0.0022667565,\n",
        "  'valid_accuracy': 0.0075881574,\n",
        "  'valid_loss': 0.0075881574},\n",
        " {'epoch': 2649,\n",
        "  'train_loss': 0.0023851653,\n",
        "  'valid_accuracy': 0.0075908117,\n",
        "  'valid_loss': 0.0075908117},\n",
        " {'epoch': 2650,\n",
        "  'train_loss': 0.0023778346,\n",
        "  'valid_accuracy': 0.0075935707,\n",
        "  'valid_loss': 0.0075935707},\n",
        " {'epoch': 2651,\n",
        "  'train_loss': 0.0024409262,\n",
        "  'valid_accuracy': 0.0075754398,\n",
        "  'valid_loss': 0.0075754398},\n",
        " {'epoch': 2652,\n",
        "  'train_loss': 0.0023669077,\n",
        "  'valid_accuracy': 0.00757728,\n",
        "  'valid_loss': 0.00757728},\n",
        " {'epoch': 2653,\n",
        "  'train_loss': 0.0023293123,\n",
        "  'valid_accuracy': 0.007596116,\n",
        "  'valid_loss': 0.007596116},\n",
        " {'epoch': 2654,\n",
        "  'train_loss': 0.0023835318,\n",
        "  'valid_accuracy': 0.0075720372,\n",
        "  'valid_loss': 0.0075720372},\n",
        " {'epoch': 2655,\n",
        "  'train_loss': 0.0023017928,\n",
        "  'valid_accuracy': 0.0075820251,\n",
        "  'valid_loss': 0.0075820251},\n",
        " {'epoch': 2656,\n",
        "  'train_loss': 0.0023372278,\n",
        "  'valid_accuracy': 0.0075662937,\n",
        "  'valid_loss': 0.0075662937},\n",
        " {'epoch': 2657,\n",
        "  'train_loss': 0.0023599563,\n",
        "  'valid_accuracy': 0.0075747184,\n",
        "  'valid_loss': 0.0075747184},\n",
        " {'epoch': 2658,\n",
        "  'train_loss': 0.0023499092,\n",
        "  'valid_accuracy': 0.0075654695,\n",
        "  'valid_loss': 0.0075654695},\n",
        " {'epoch': 2659,\n",
        "  'train_loss': 0.0023028664,\n",
        "  'valid_accuracy': 0.0075760237,\n",
        "  'valid_loss': 0.0075760237},\n",
        " {'epoch': 2660,\n",
        "  'train_loss': 0.0023678269,\n",
        "  'valid_accuracy': 0.0075756637,\n",
        "  'valid_loss': 0.0075756637},\n",
        " {'epoch': 2661,\n",
        "  'train_loss': 0.0023256398,\n",
        "  'valid_accuracy': 0.0076002367,\n",
        "  'valid_loss': 0.0076002367},\n",
        " {'epoch': 2662,\n",
        "  'train_loss': 0.0023673379,\n",
        "  'valid_accuracy': 0.0075901803,\n",
        "  'valid_loss': 0.0075901803},\n",
        " {'epoch': 2663,\n",
        "  'train_loss': 0.0023119133,\n",
        "  'valid_accuracy': 0.0075699133,\n",
        "  'valid_loss': 0.0075699133},\n",
        " {'epoch': 2664,\n",
        "  'train_loss': 0.0022686501,\n",
        "  'valid_accuracy': 0.0075832796,\n",
        "  'valid_loss': 0.0075832796}]"
       ]
      }
     ],
     "prompt_number": 23
    },
    {
     "cell_type": "code",
     "collapsed": false,
     "input": [
      "train_loss_6 = np.array([i[\"train_loss\"] for i in net7.train_history_])\n",
      "valid_loss_6 = np.array([i[\"valid_loss\"] for i in net7.train_history_])\n",
      "pyplot.plot(train_loss_6, linewidth=3, label=\"train\")\n",
      "pyplot.plot(valid_loss_6, linewidth=3, label=\"valid\")\n",
      "pyplot.grid()\n",
      "pyplot.legend()\n",
      "pyplot.xlabel(\"epoch\")\n",
      "pyplot.ylabel(\"loss\")\n",
      "pyplot.ylim(0.1e-2, 3.2e-2)\n",
      "# pyplot.yscale(\"log\")\n",
      "pyplot.show()"
     ],
     "language": "python",
     "metadata": {},
     "outputs": [
      {
       "metadata": {},
       "output_type": "display_data",
       "png": "[encoded data removed]",
       "text": [
        "<matplotlib.figure.Figure at 0x7f959d0591d0>"
       ]
      }
     ],
     "prompt_number": 22
    },
    {
     "cell_type": "code",
     "collapsed": false,
     "input": [
      "from sklearn import metrics\n",
      "\n",
      "Xt_6, yt_6 = transform_6(X_test, y_test)\n",
      "\n",
      "# overfit result, should use validation result\n",
      "y_pred = net7.predict(Xt_6)\n",
      "# print y_pred[1]\n",
      "# np.argmax(y_pred[i]),np.argmax(y[i])\n",
      "y_pred = np.array(map((lambda x: np.argmax(x)), y_pred))\n",
      "yyy = np.array(map((lambda x: np.argmax(x)), yt_6))\n",
      "\n",
      "print metrics.classification_report((yyy), (y_pred))"
     ],
     "language": "python",
     "metadata": {},
     "outputs": [
      {
       "output_type": "stream",
       "stream": "stdout",
       "text": [
        "             precision    recall  f1-score   support\n",
        "\n",
        "          0       0.98      0.93      0.95        94\n",
        "          1       0.87      0.82      0.84       111\n",
        "          2       0.91      0.84      0.88       113\n",
        "          3       0.86      0.80      0.83       102\n",
        "          4       0.94      0.92      0.93       110\n",
        "          5       0.94      0.87      0.90       101\n",
        "          6       0.88      0.93      0.90       114\n",
        "          7       0.90      0.76      0.82       104\n",
        "          8       0.97      0.90      0.93       102\n",
        "          9       0.97      0.95      0.96       117\n",
        "         10       0.95      0.85      0.90       114\n",
        "         11       0.93      0.90      0.92       103\n",
        "         12       0.64      0.86      0.73       173\n",
        "         13       0.71      0.71      0.71       178\n",
        "         14       0.79      0.80      0.79       169\n",
        "         15       0.96      0.77      0.85        91\n",
        "         16       0.79      0.76      0.77        87\n",
        "         17       0.76      0.74      0.75        82\n",
        "         18       0.69      0.69      0.69        72\n",
        "         19       0.85      0.88      0.86        75\n",
        "         20       0.74      0.74      0.74        77\n",
        "         21       0.65      0.82      0.73       167\n",
        "         22       0.92      0.91      0.92        79\n",
        "         23       0.95      0.85      0.90        91\n",
        "         24       0.96      0.86      0.91        88\n",
        "         25       0.96      0.90      0.93        86\n",
        "         26       0.85      0.76      0.80        80\n",
        "         27       0.64      0.89      0.74        72\n",
        "         28       0.89      0.87      0.88        93\n",
        "         29       0.97      0.93      0.95        84\n",
        "         30       0.89      0.86      0.87        83\n",
        "         31       0.83      0.85      0.84        81\n",
        "\n",
        "avg / total       0.85      0.84      0.84      3293\n",
        "\n"
       ]
      }
     ],
     "prompt_number": 21
    },
    {
     "cell_type": "markdown",
     "metadata": {},
     "source": [
      "## load model"
     ]
    },
    {
     "cell_type": "code",
     "collapsed": false,
     "input": [
      "# import cPickle as pickle\n",
      "\n",
      "# with open('./Lasagne_2nd.pickle', 'rb') as f:\n",
      "#     specialists = pickle.load(f)\n"
     ],
     "language": "python",
     "metadata": {},
     "outputs": []
    },
    {
     "cell_type": "markdown",
     "metadata": {},
     "source": [
      "## submit test data "
     ]
    },
    {
     "cell_type": "code",
     "collapsed": false,
     "input": [
      "import pandas as pd\n",
      "\n",
      "xx_test, yy_test = load_svmlight_file(\"./phase1/aug_test_50.dat\")"
     ],
     "language": "python",
     "metadata": {},
     "outputs": [],
     "prompt_number": 24
    },
    {
     "cell_type": "code",
     "collapsed": false,
     "input": [
      "xx_test.shape"
     ],
     "language": "python",
     "metadata": {},
     "outputs": [
      {
       "metadata": {},
       "output_type": "pyout",
       "prompt_number": 25,
       "text": [
        "(7372, 2500)"
       ]
      }
     ],
     "prompt_number": 25
    },
    {
     "cell_type": "code",
     "collapsed": false,
     "input": [
      "xx_test = np.array(xx_test.todense()).reshape(-1,)\n",
      "# xx_train = xx_train.dtype(np.float32)\n",
      "xx_test = np.float32(xx_test)\n",
      "xx_test = xx_test.reshape(7372,2500)\n",
      "\n",
      "xx_test = xx_test.astype(np.float32)\n",
      "\n",
      "def one_hot(x,n):\n",
      "    if type(x) == list:\n",
      "            x = np.array(x)\n",
      "    x = x.flatten()\n",
      "    o_h = np.zeros((len(x),n))\n",
      "    o_h[np.arange(len(x)),x] = 1\n",
      "    return o_h\n",
      "\n",
      "yy_test = yy_test.astype(int32)    \n",
      "yy_test = one_hot(yy_test, 32)\n",
      "yy_test = yy_test.astype(np.float32)\n",
      "\n",
      "Xt, yt = transform_6(xx_test, yy_test)\n",
      "result = net7.predict(Xt)\n",
      "result = np.array(map((lambda x: np.argmax(x)), result))\n",
      "result.astype(int)"
     ],
     "language": "python",
     "metadata": {},
     "outputs": [
      {
       "metadata": {},
       "output_type": "pyout",
       "prompt_number": 34,
       "text": [
        "array([18, 23, 30, ..., 20, 28, 21])"
       ]
      }
     ],
     "prompt_number": 34
    },
    {
     "cell_type": "code",
     "collapsed": false,
     "input": [
      "df_submission = pd.DataFrame( result.astype(int) ,columns=None)\n",
      "\n",
      "df_submission.to_csv('./Lasagne_5th_combine_less_original_drop.dat', index=None)"
     ],
     "language": "python",
     "metadata": {},
     "outputs": [],
     "prompt_number": 35
    }
   ],
   "metadata": {}
  }
 ]
}