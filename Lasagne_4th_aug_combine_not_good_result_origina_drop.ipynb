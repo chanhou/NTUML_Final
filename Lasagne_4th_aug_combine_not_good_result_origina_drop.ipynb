{
 "metadata": {
  "name": ""
 },
 "nbformat": 3,
 "nbformat_minor": 0,
 "worksheets": [
  {
   "cells": [
    {
     "cell_type": "markdown",
     "metadata": {},
     "source": [
      "## Lasagne code try and edit"
     ]
    },
    {
     "cell_type": "markdown",
     "metadata": {},
     "source": [
      "## input our data"
     ]
    },
    {
     "cell_type": "code",
     "collapsed": false,
     "input": [
      "import numpy as np\n",
      "import math\n",
      "import scipy.linalg as sp\n",
      "from sklearn.datasets import load_svmlight_file"
     ],
     "language": "python",
     "metadata": {},
     "outputs": [],
     "prompt_number": 1
    },
    {
     "cell_type": "code",
     "collapsed": false,
     "input": [
      "xx_train, y = load_svmlight_file(\"./phase1/aug_train_50_add_combine.dat\")\n",
      "# print type(xx_train)\n",
      "print xx_train.shape\n",
      "xx_train = np.array(xx_train.todense()).reshape(-1,)\n",
      "# xx_train = xx_train.dtype(np.float32)\n",
      "xx_train = np.float32(xx_train)\n",
      "xx_train = xx_train.reshape(17754,2500)\n",
      "# print xx_train.shape\n",
      "print type(xx_train)"
     ],
     "language": "python",
     "metadata": {},
     "outputs": [
      {
       "output_type": "stream",
       "stream": "stdout",
       "text": [
        "(17754, 2500)\n",
        "<type 'numpy.ndarray'>"
       ]
      },
      {
       "output_type": "stream",
       "stream": "stdout",
       "text": [
        "\n"
       ]
      }
     ],
     "prompt_number": 2
    },
    {
     "cell_type": "code",
     "collapsed": false,
     "input": [
      "sizee = 50"
     ],
     "language": "python",
     "metadata": {},
     "outputs": [],
     "prompt_number": 3
    },
    {
     "cell_type": "code",
     "collapsed": false,
     "input": [
      "# pylab.ion()\n",
      "# pylab.imshow(xxxx[0],cmap=cm.gray)\n",
      "x = xx_train.reshape(17754,sizee**2)\n",
      "x = x.astype(np.float32)\n",
      "\n",
      "print x.shape\n",
      "print type(x)"
     ],
     "language": "python",
     "metadata": {},
     "outputs": [
      {
       "output_type": "stream",
       "stream": "stdout",
       "text": [
        "(17754, 2500)\n",
        "<type 'numpy.ndarray'>\n"
       ]
      }
     ],
     "prompt_number": 4
    },
    {
     "cell_type": "code",
     "collapsed": false,
     "input": [
      "def one_hot(x,n):\n",
      "    if type(x) == list:\n",
      "            x = np.array(x)\n",
      "    x = x.flatten()\n",
      "    o_h = np.zeros((len(x),n))\n",
      "    o_h[np.arange(len(x)),x] = 1\n",
      "    return o_h\n",
      "\n",
      "y = y.astype(int32)    \n",
      "y = one_hot(y, 32)\n",
      "y = y.astype(np.float32)\n",
      "\n",
      "print y.shape"
     ],
     "language": "python",
     "metadata": {},
     "outputs": [
      {
       "output_type": "stream",
       "stream": "stdout",
       "text": [
        "(17754, 32)\n"
       ]
      }
     ],
     "prompt_number": 5
    },
    {
     "cell_type": "markdown",
     "metadata": {},
     "source": [
      "## split data"
     ]
    },
    {
     "cell_type": "code",
     "collapsed": false,
     "input": [
      "from sklearn import cross_validation as cv\n",
      "from sklearn import svm\n",
      "from sklearn import metrics\n",
      "from sklearn import grid_search as gs"
     ],
     "language": "python",
     "metadata": {},
     "outputs": [],
     "prompt_number": 6
    },
    {
     "cell_type": "code",
     "collapsed": false,
     "input": [
      "X_train, X_test, y_train, y_test = cv.train_test_split(x, y, test_size=0.3)"
     ],
     "language": "python",
     "metadata": {},
     "outputs": [],
     "prompt_number": 7
    },
    {
     "cell_type": "code",
     "collapsed": false,
     "input": [
      "print X_train.shape\n",
      "print X_test.shape\n",
      "print y_train.shape\n",
      "print y_test.shape"
     ],
     "language": "python",
     "metadata": {},
     "outputs": [
      {
       "output_type": "stream",
       "stream": "stdout",
       "text": [
        "(12427, 2500)\n",
        "(5327, 2500)\n",
        "(12427, 32)\n",
        "(5327, 32)\n"
       ]
      }
     ],
     "prompt_number": 8
    },
    {
     "cell_type": "markdown",
     "metadata": {},
     "source": [
      "## First model of Lasagne with single hidden layer"
     ]
    },
    {
     "cell_type": "code",
     "collapsed": false,
     "input": [
      "# add to kfkd.py\n",
      "from lasagne import layers\n",
      "from lasagne.updates import nesterov_momentum\n",
      "from nolearn.lasagne import NeuralNet\n",
      "\n",
      "net1 = NeuralNet(\n",
      "    layers=[  # three layers: one hidden layer\n",
      "        ('input', layers.InputLayer),\n",
      "        ('hidden', layers.DenseLayer),\n",
      "        ('output', layers.DenseLayer),\n",
      "        ],\n",
      "    # layer parameters:\n",
      "    input_shape=(128, 2500),  # 128 images per batch times 100x100 input pixels\n",
      "    hidden_num_units=300,  # number of units in hidden layer\n",
      "    output_nonlinearity=None,  # output layer uses identity function\n",
      "    output_num_units=32,  # 30 target values\n",
      "\n",
      "    # optimization method:\n",
      "    upate=nesterov_momentum,\n",
      "    update_learning_rate=0.01,\n",
      "    update_momentum=0.9,\n",
      "\n",
      "    # regression=False,  # flag to indicate we're dealing with regression problem\n",
      "    regression=True,  # flag to indicate we're dealing with regression problem\n",
      "    max_epochs=1000,  # we want to train this many epochs\n",
      "    verbose=1,\n",
      "    )\n"
     ],
     "language": "python",
     "metadata": {},
     "outputs": [
      {
       "output_type": "stream",
       "stream": "stderr",
       "text": [
        "Using gpu device 0: GRID K520\n"
       ]
      }
     ],
     "prompt_number": 10
    },
    {
     "cell_type": "code",
     "collapsed": false,
     "input": [
      "%time net1.fit(X_train, y_train)"
     ],
     "language": "python",
     "metadata": {},
     "outputs": [
      {
       "output_type": "stream",
       "stream": "stdout",
       "text": [
        "  InputLayer        \t(128, 2500)         \tproduces    2500 outputs\n",
        "  DenseLayer        \t(128, 300)          \tproduces     300 outputs\n",
        "  DenseLayer        \t(128, 32)           \tproduces      32 outputs\n",
        "\n",
        " Epoch  |  Train loss  |  Valid loss  |  Train / Val  |  Valid acc  |  Dur\n",
        "--------|--------------|--------------|---------------|-------------|-------"
       ]
      },
      {
       "output_type": "stream",
       "stream": "stdout",
       "text": [
        "\n",
        "     1  |  \u001b[94m  0.070167\u001b[0m  |  \u001b[32m  0.057671\u001b[0m  |     1.216670  |             |  0.2s"
       ]
      },
      {
       "output_type": "stream",
       "stream": "stdout",
       "text": [
        "\n",
        "     2  |  \u001b[94m  0.051996\u001b[0m  |  \u001b[32m  0.048187\u001b[0m  |     1.079039  |             |  0.2s"
       ]
      },
      {
       "output_type": "stream",
       "stream": "stdout",
       "text": [
        "\n",
        "     3  |  \u001b[94m  0.044812\u001b[0m  |  \u001b[32m  0.043103\u001b[0m  |     1.039639  |             |  0.2s"
       ]
      },
      {
       "output_type": "stream",
       "stream": "stdout",
       "text": [
        "\n",
        "     4  |  \u001b[94m  0.040720\u001b[0m  |  \u001b[32m  0.039980\u001b[0m  |     1.018515  |             |  0.2s"
       ]
      },
      {
       "output_type": "stream",
       "stream": "stdout",
       "text": [
        "\n",
        "     5  |  \u001b[94m  0.038141\u001b[0m  |  \u001b[32m  0.037894\u001b[0m  |     1.006516  |             |  0.2s"
       ]
      },
      {
       "output_type": "stream",
       "stream": "stdout",
       "text": [
        "\n",
        "     6  |  \u001b[94m  0.036392\u001b[0m  |  \u001b[32m  0.036434\u001b[0m  |     0.998830  |             |  0.2s"
       ]
      },
      {
       "output_type": "stream",
       "stream": "stdout",
       "text": [
        "\n",
        "     7  |  \u001b[94m  0.035140\u001b[0m  |  \u001b[32m  0.035364\u001b[0m  |     0.993663  |             |  0.2s"
       ]
      },
      {
       "output_type": "stream",
       "stream": "stdout",
       "text": [
        "\n",
        "     8  |  \u001b[94m  0.034203\u001b[0m  |  \u001b[32m  0.034552\u001b[0m  |     0.989889  |             |  0.2s"
       ]
      },
      {
       "output_type": "stream",
       "stream": "stdout",
       "text": [
        "\n",
        "     9  |  \u001b[94m  0.033479\u001b[0m  |  \u001b[32m  0.033921\u001b[0m  |     0.986966  |             |  0.2s"
       ]
      },
      {
       "output_type": "stream",
       "stream": "stdout",
       "text": [
        "\n",
        "    10  |  \u001b[94m  0.032904\u001b[0m  |  \u001b[32m  0.033417\u001b[0m  |     0.984650  |             |  0.2s"
       ]
      },
      {
       "output_type": "stream",
       "stream": "stdout",
       "text": [
        "\n",
        "    11  |  \u001b[94m  0.032436\u001b[0m  |  \u001b[32m  0.033008\u001b[0m  |     0.982674  |             |  0.2s"
       ]
      },
      {
       "output_type": "stream",
       "stream": "stdout",
       "text": [
        "\n",
        "    12  |  \u001b[94m  0.032049\u001b[0m  |  \u001b[32m  0.032667\u001b[0m  |     0.981067  |             |  0.2s"
       ]
      },
      {
       "output_type": "stream",
       "stream": "stdout",
       "text": [
        "\n",
        "    13  |  \u001b[94m  0.031721\u001b[0m  |  \u001b[32m  0.032382\u001b[0m  |     0.979575  |             |  0.2s"
       ]
      },
      {
       "output_type": "stream",
       "stream": "stdout",
       "text": [
        "\n",
        "    14  |  \u001b[94m  0.031439\u001b[0m  |  \u001b[32m  0.032138\u001b[0m  |     0.978251  |             |  0.2s"
       ]
      },
      {
       "output_type": "stream",
       "stream": "stdout",
       "text": [
        "\n",
        "    15  |  \u001b[94m  0.031192\u001b[0m  |  \u001b[32m  0.031926\u001b[0m  |     0.977030  |             |  0.2s"
       ]
      },
      {
       "output_type": "stream",
       "stream": "stdout",
       "text": [
        "\n",
        "    16  |  \u001b[94m  0.030974\u001b[0m  |  \u001b[32m  0.031740\u001b[0m  |     0.975851  |             |  0.2s"
       ]
      },
      {
       "output_type": "stream",
       "stream": "stdout",
       "text": [
        "\n",
        "    17  |  \u001b[94m  0.030779\u001b[0m  |  \u001b[32m  0.031577\u001b[0m  |     0.974728  |             |  0.2s"
       ]
      },
      {
       "output_type": "stream",
       "stream": "stdout",
       "text": [
        "\n",
        "    18  |  \u001b[94m  0.030603\u001b[0m  |  \u001b[32m  0.031431\u001b[0m  |     0.973641  |             |  0.2s"
       ]
      },
      {
       "output_type": "stream",
       "stream": "stdout",
       "text": [
        "\n",
        "    19  |  \u001b[94m  0.030442\u001b[0m  |  \u001b[32m  0.031300\u001b[0m  |     0.972585  |             |  0.2s"
       ]
      },
      {
       "output_type": "stream",
       "stream": "stdout",
       "text": [
        "\n",
        "    20  |  \u001b[94m  0.030295\u001b[0m  |  \u001b[32m  0.031182\u001b[0m  |     0.971537  |             |  0.2s"
       ]
      },
      {
       "output_type": "stream",
       "stream": "stdout",
       "text": [
        "\n",
        "    21  |  \u001b[94m  0.030158\u001b[0m  |  \u001b[32m  0.031075\u001b[0m  |     0.970510  |             |  0.2s"
       ]
      },
      {
       "output_type": "stream",
       "stream": "stdout",
       "text": [
        "\n",
        "    22  |  \u001b[94m  0.030032\u001b[0m  |  \u001b[32m  0.030977\u001b[0m  |     0.969507  |             |  0.2s"
       ]
      },
      {
       "output_type": "stream",
       "stream": "stdout",
       "text": [
        "\n",
        "    23  |  \u001b[94m  0.029914\u001b[0m  |  \u001b[32m  0.030886\u001b[0m  |     0.968512  |             |  0.2s"
       ]
      },
      {
       "output_type": "stream",
       "stream": "stdout",
       "text": [
        "\n",
        "    24  |  \u001b[94m  0.029802\u001b[0m  |  \u001b[32m  0.030802\u001b[0m  |     0.967510  |             |  0.2s"
       ]
      },
      {
       "output_type": "stream",
       "stream": "stdout",
       "text": [
        "\n",
        "    25  |  \u001b[94m  0.029696\u001b[0m  |  \u001b[32m  0.030724\u001b[0m  |     0.966517  |             |  0.2s"
       ]
      },
      {
       "output_type": "stream",
       "stream": "stdout",
       "text": [
        "\n",
        "    26  |  \u001b[94m  0.029595\u001b[0m  |  \u001b[32m  0.030651\u001b[0m  |     0.965533  |             |  0.2s"
       ]
      },
      {
       "output_type": "stream",
       "stream": "stdout",
       "text": [
        "\n",
        "    27  |  \u001b[94m  0.029498\u001b[0m  |  \u001b[32m  0.030582\u001b[0m  |     0.964558  |             |  0.2s"
       ]
      },
      {
       "output_type": "stream",
       "stream": "stdout",
       "text": [
        "\n",
        "    28  |  \u001b[94m  0.029406\u001b[0m  |  \u001b[32m  0.030518\u001b[0m  |     0.963590  |             |  0.2s"
       ]
      },
      {
       "output_type": "stream",
       "stream": "stdout",
       "text": [
        "\n",
        "    29  |  \u001b[94m  0.029318\u001b[0m  |  \u001b[32m  0.030457\u001b[0m  |     0.962614  |             |  0.2s"
       ]
      },
      {
       "output_type": "stream",
       "stream": "stdout",
       "text": [
        "\n",
        "    30  |  \u001b[94m  0.029233\u001b[0m  |  \u001b[32m  0.030399\u001b[0m  |     0.961634  |             |  0.2s"
       ]
      },
      {
       "output_type": "stream",
       "stream": "stdout",
       "text": [
        "\n",
        "    31  |  \u001b[94m  0.029150\u001b[0m  |  \u001b[32m  0.030344\u001b[0m  |     0.960664  |             |  0.2s"
       ]
      },
      {
       "output_type": "stream",
       "stream": "stdout",
       "text": [
        "\n",
        "    32  |  \u001b[94m  0.029070\u001b[0m  |  \u001b[32m  0.030291\u001b[0m  |     0.959697  |             |  0.2s"
       ]
      },
      {
       "output_type": "stream",
       "stream": "stdout",
       "text": [
        "\n",
        "    33  |  \u001b[94m  0.028993\u001b[0m  |  \u001b[32m  0.030241\u001b[0m  |     0.958743  |             |  0.2s"
       ]
      },
      {
       "output_type": "stream",
       "stream": "stdout",
       "text": [
        "\n",
        "    34  |  \u001b[94m  0.028918\u001b[0m  |  \u001b[32m  0.030193\u001b[0m  |     0.957780  |             |  0.2s"
       ]
      },
      {
       "output_type": "stream",
       "stream": "stdout",
       "text": [
        "\n",
        "    35  |  \u001b[94m  0.028845\u001b[0m  |  \u001b[32m  0.030146\u001b[0m  |     0.956817  |             |  0.2s"
       ]
      },
      {
       "output_type": "stream",
       "stream": "stdout",
       "text": [
        "\n",
        "    36  |  \u001b[94m  0.028773\u001b[0m  |  \u001b[32m  0.030102\u001b[0m  |     0.955863  |             |  0.2s"
       ]
      },
      {
       "output_type": "stream",
       "stream": "stdout",
       "text": [
        "\n",
        "    37  |  \u001b[94m  0.028703\u001b[0m  |  \u001b[32m  0.030059\u001b[0m  |     0.954903  |             |  0.2s"
       ]
      },
      {
       "output_type": "stream",
       "stream": "stdout",
       "text": [
        "\n",
        "    38  |  \u001b[94m  0.028634\u001b[0m  |  \u001b[32m  0.030017\u001b[0m  |     0.953945  |             |  0.2s"
       ]
      },
      {
       "output_type": "stream",
       "stream": "stdout",
       "text": [
        "\n",
        "    39  |  \u001b[94m  0.028567\u001b[0m  |  \u001b[32m  0.029976\u001b[0m  |     0.952997  |             |  0.2s"
       ]
      },
      {
       "output_type": "stream",
       "stream": "stdout",
       "text": [
        "\n",
        "    40  |  \u001b[94m  0.028501\u001b[0m  |  \u001b[32m  0.029937\u001b[0m  |     0.952042  |             |  0.2s"
       ]
      },
      {
       "output_type": "stream",
       "stream": "stdout",
       "text": [
        "\n",
        "    41  |  \u001b[94m  0.028437\u001b[0m  |  \u001b[32m  0.029899\u001b[0m  |     0.951088  |             |  0.2s"
       ]
      },
      {
       "output_type": "stream",
       "stream": "stdout",
       "text": [
        "\n",
        "    42  |  \u001b[94m  0.028374\u001b[0m  |  \u001b[32m  0.029863\u001b[0m  |     0.950143  |             |  0.2s"
       ]
      },
      {
       "output_type": "stream",
       "stream": "stdout",
       "text": [
        "\n",
        "    43  |  \u001b[94m  0.028312\u001b[0m  |  \u001b[32m  0.029827\u001b[0m  |     0.949198  |             |  0.2s"
       ]
      },
      {
       "output_type": "stream",
       "stream": "stdout",
       "text": [
        "\n",
        "    44  |  \u001b[94m  0.028251\u001b[0m  |  \u001b[32m  0.029792\u001b[0m  |     0.948254  |             |  0.2s"
       ]
      },
      {
       "output_type": "stream",
       "stream": "stdout",
       "text": [
        "\n",
        "    45  |  \u001b[94m  0.028190\u001b[0m  |  \u001b[32m  0.029758\u001b[0m  |     0.947305  |             |  0.2s"
       ]
      },
      {
       "output_type": "stream",
       "stream": "stdout",
       "text": [
        "\n",
        "    46  |  \u001b[94m  0.028131\u001b[0m  |  \u001b[32m  0.029725\u001b[0m  |     0.946364  |             |  0.2s"
       ]
      },
      {
       "output_type": "stream",
       "stream": "stdout",
       "text": [
        "\n",
        "    47  |  \u001b[94m  0.028072\u001b[0m  |  \u001b[32m  0.029693\u001b[0m  |     0.945428  |             |  0.2s"
       ]
      },
      {
       "output_type": "stream",
       "stream": "stdout",
       "text": [
        "\n",
        "    48  |  \u001b[94m  0.028015\u001b[0m  |  \u001b[32m  0.029661\u001b[0m  |     0.944494  |             |  0.2s"
       ]
      },
      {
       "output_type": "stream",
       "stream": "stdout",
       "text": [
        "\n",
        "    49  |  \u001b[94m  0.027958\u001b[0m  |  \u001b[32m  0.029630\u001b[0m  |     0.943556  |             |  0.2s"
       ]
      },
      {
       "output_type": "stream",
       "stream": "stdout",
       "text": [
        "\n",
        "    50  |  \u001b[94m  0.027901\u001b[0m  |  \u001b[32m  0.029600\u001b[0m  |     0.942624  |             |  0.2s"
       ]
      },
      {
       "output_type": "stream",
       "stream": "stdout",
       "text": [
        "\n",
        "    51  |  \u001b[94m  0.027846\u001b[0m  |  \u001b[32m  0.029570\u001b[0m  |     0.941686  |             |  0.2s"
       ]
      },
      {
       "output_type": "stream",
       "stream": "stdout",
       "text": [
        "\n",
        "    52  |  \u001b[94m  0.027791\u001b[0m  |  \u001b[32m  0.029541\u001b[0m  |     0.940751  |             |  0.2s"
       ]
      },
      {
       "output_type": "stream",
       "stream": "stdout",
       "text": [
        "\n",
        "    53  |  \u001b[94m  0.027737\u001b[0m  |  \u001b[32m  0.029513\u001b[0m  |     0.939816  |             |  0.2s"
       ]
      },
      {
       "output_type": "stream",
       "stream": "stdout",
       "text": [
        "\n",
        "    54  |  \u001b[94m  0.027683\u001b[0m  |  \u001b[32m  0.029485\u001b[0m  |     0.938882  |             |  0.2s"
       ]
      },
      {
       "output_type": "stream",
       "stream": "stdout",
       "text": [
        "\n",
        "    55  |  \u001b[94m  0.027630\u001b[0m  |  \u001b[32m  0.029458\u001b[0m  |     0.937949  |             |  0.2s"
       ]
      },
      {
       "output_type": "stream",
       "stream": "stdout",
       "text": [
        "\n",
        "    56  |  \u001b[94m  0.027577\u001b[0m  |  \u001b[32m  0.029431\u001b[0m  |     0.937023  |             |  0.2s"
       ]
      },
      {
       "output_type": "stream",
       "stream": "stdout",
       "text": [
        "\n",
        "    57  |  \u001b[94m  0.027525\u001b[0m  |  \u001b[32m  0.029404\u001b[0m  |     0.936103  |             |  0.2s"
       ]
      },
      {
       "output_type": "stream",
       "stream": "stdout",
       "text": [
        "\n",
        "    58  |  \u001b[94m  0.027474\u001b[0m  |  \u001b[32m  0.029378\u001b[0m  |     0.935183  |             |  0.2s"
       ]
      },
      {
       "output_type": "stream",
       "stream": "stdout",
       "text": [
        "\n",
        "    59  |  \u001b[94m  0.027423\u001b[0m  |  \u001b[32m  0.029352\u001b[0m  |     0.934270  |             |  0.2s"
       ]
      },
      {
       "output_type": "stream",
       "stream": "stdout",
       "text": [
        "\n",
        "    60  |  \u001b[94m  0.027373\u001b[0m  |  \u001b[32m  0.029327\u001b[0m  |     0.933356  |             |  0.2s"
       ]
      },
      {
       "output_type": "stream",
       "stream": "stdout",
       "text": [
        "\n",
        "    61  |  \u001b[94m  0.027323\u001b[0m  |  \u001b[32m  0.029302\u001b[0m  |     0.932443  |             |  0.2s"
       ]
      },
      {
       "output_type": "stream",
       "stream": "stdout",
       "text": [
        "\n",
        "    62  |  \u001b[94m  0.027273\u001b[0m  |  \u001b[32m  0.029278\u001b[0m  |     0.931530  |             |  0.2s"
       ]
      },
      {
       "output_type": "stream",
       "stream": "stdout",
       "text": [
        "\n",
        "    63  |  \u001b[94m  0.027224\u001b[0m  |  \u001b[32m  0.029254\u001b[0m  |     0.930625  |             |  0.2s"
       ]
      },
      {
       "output_type": "stream",
       "stream": "stdout",
       "text": [
        "\n",
        "    64  |  \u001b[94m  0.027176\u001b[0m  |  \u001b[32m  0.029230\u001b[0m  |     0.929719  |             |  0.2s"
       ]
      },
      {
       "output_type": "stream",
       "stream": "stdout",
       "text": [
        "\n",
        "    65  |  \u001b[94m  0.027128\u001b[0m  |  \u001b[32m  0.029207\u001b[0m  |     0.928816  |             |  0.2s"
       ]
      },
      {
       "output_type": "stream",
       "stream": "stdout",
       "text": [
        "\n",
        "    66  |  \u001b[94m  0.027080\u001b[0m  |  \u001b[32m  0.029184\u001b[0m  |     0.927916  |             |  0.2s"
       ]
      },
      {
       "output_type": "stream",
       "stream": "stdout",
       "text": [
        "\n",
        "    67  |  \u001b[94m  0.027033\u001b[0m  |  \u001b[32m  0.029161\u001b[0m  |     0.927020  |             |  0.2s"
       ]
      },
      {
       "output_type": "stream",
       "stream": "stdout",
       "text": [
        "\n",
        "    68  |  \u001b[94m  0.026986\u001b[0m  |  \u001b[32m  0.029139\u001b[0m  |     0.926116  |             |  0.2s"
       ]
      },
      {
       "output_type": "stream",
       "stream": "stdout",
       "text": [
        "\n",
        "    69  |  \u001b[94m  0.026939\u001b[0m  |  \u001b[32m  0.029116\u001b[0m  |     0.925215  |             |  0.2s"
       ]
      },
      {
       "output_type": "stream",
       "stream": "stdout",
       "text": [
        "\n",
        "    70  |  \u001b[94m  0.026893\u001b[0m  |  \u001b[32m  0.029095\u001b[0m  |     0.924310  |             |  0.2s"
       ]
      },
      {
       "output_type": "stream",
       "stream": "stdout",
       "text": [
        "\n",
        "    71  |  \u001b[94m  0.026846\u001b[0m  |  \u001b[32m  0.029073\u001b[0m  |     0.923415  |             |  0.2s"
       ]
      },
      {
       "output_type": "stream",
       "stream": "stdout",
       "text": [
        "\n",
        "    72  |  \u001b[94m  0.026801\u001b[0m  |  \u001b[32m  0.029052\u001b[0m  |     0.922514  |             |  0.2s"
       ]
      },
      {
       "output_type": "stream",
       "stream": "stdout",
       "text": [
        "\n",
        "    73  |  \u001b[94m  0.026755\u001b[0m  |  \u001b[32m  0.029031\u001b[0m  |     0.921618  |             |  0.2s"
       ]
      },
      {
       "output_type": "stream",
       "stream": "stdout",
       "text": [
        "\n",
        "    74  |  \u001b[94m  0.026710\u001b[0m  |  \u001b[32m  0.029010\u001b[0m  |     0.920720  |             |  0.2s"
       ]
      },
      {
       "output_type": "stream",
       "stream": "stdout",
       "text": [
        "\n",
        "    75  |  \u001b[94m  0.026665\u001b[0m  |  \u001b[32m  0.028989\u001b[0m  |     0.919820  |             |  0.2s"
       ]
      },
      {
       "output_type": "stream",
       "stream": "stdout",
       "text": [
        "\n",
        "    76  |  \u001b[94m  0.026620\u001b[0m  |  \u001b[32m  0.028969\u001b[0m  |     0.918925  |             |  0.2s"
       ]
      },
      {
       "output_type": "stream",
       "stream": "stdout",
       "text": [
        "\n",
        "    77  |  \u001b[94m  0.026576\u001b[0m  |  \u001b[32m  0.028949\u001b[0m  |     0.918033  |             |  0.2s"
       ]
      },
      {
       "output_type": "stream",
       "stream": "stdout",
       "text": [
        "\n",
        "    78  |  \u001b[94m  0.026532\u001b[0m  |  \u001b[32m  0.028929\u001b[0m  |     0.917151  |             |  0.2s"
       ]
      },
      {
       "output_type": "stream",
       "stream": "stdout",
       "text": [
        "\n",
        "    79  |  \u001b[94m  0.026489\u001b[0m  |  \u001b[32m  0.028909\u001b[0m  |     0.916267  |             |  0.2s"
       ]
      },
      {
       "output_type": "stream",
       "stream": "stdout",
       "text": [
        "\n",
        "    80  |  \u001b[94m  0.026445\u001b[0m  |  \u001b[32m  0.028890\u001b[0m  |     0.915384  |             |  0.2s"
       ]
      },
      {
       "output_type": "stream",
       "stream": "stdout",
       "text": [
        "\n",
        "    81  |  \u001b[94m  0.026402\u001b[0m  |  \u001b[32m  0.028870\u001b[0m  |     0.914507  |             |  0.2s"
       ]
      },
      {
       "output_type": "stream",
       "stream": "stdout",
       "text": [
        "\n",
        "    82  |  \u001b[94m  0.026359\u001b[0m  |  \u001b[32m  0.028851\u001b[0m  |     0.913635  |             |  0.2s"
       ]
      },
      {
       "output_type": "stream",
       "stream": "stdout",
       "text": [
        "\n",
        "    83  |  \u001b[94m  0.026317\u001b[0m  |  \u001b[32m  0.028832\u001b[0m  |     0.912757  |             |  0.2s"
       ]
      },
      {
       "output_type": "stream",
       "stream": "stdout",
       "text": [
        "\n",
        "    84  |  \u001b[94m  0.026274\u001b[0m  |  \u001b[32m  0.028813\u001b[0m  |     0.911885  |             |  0.2s"
       ]
      },
      {
       "output_type": "stream",
       "stream": "stdout",
       "text": [
        "\n",
        "    85  |  \u001b[94m  0.026232\u001b[0m  |  \u001b[32m  0.028795\u001b[0m  |     0.911011  |             |  0.2s"
       ]
      },
      {
       "output_type": "stream",
       "stream": "stdout",
       "text": [
        "\n",
        "    86  |  \u001b[94m  0.026191\u001b[0m  |  \u001b[32m  0.028776\u001b[0m  |     0.910144  |             |  0.2s"
       ]
      },
      {
       "output_type": "stream",
       "stream": "stdout",
       "text": [
        "\n",
        "    87  |  \u001b[94m  0.026149\u001b[0m  |  \u001b[32m  0.028758\u001b[0m  |     0.909273  |             |  0.2s"
       ]
      },
      {
       "output_type": "stream",
       "stream": "stdout",
       "text": [
        "\n",
        "    88  |  \u001b[94m  0.026108\u001b[0m  |  \u001b[32m  0.028740\u001b[0m  |     0.908413  |             |  0.2s"
       ]
      },
      {
       "output_type": "stream",
       "stream": "stdout",
       "text": [
        "\n",
        "    89  |  \u001b[94m  0.026067\u001b[0m  |  \u001b[32m  0.028722\u001b[0m  |     0.907548  |             |  0.2s"
       ]
      },
      {
       "output_type": "stream",
       "stream": "stdout",
       "text": [
        "\n",
        "    90  |  \u001b[94m  0.026026\u001b[0m  |  \u001b[32m  0.028704\u001b[0m  |     0.906692  |             |  0.2s"
       ]
      },
      {
       "output_type": "stream",
       "stream": "stdout",
       "text": [
        "\n",
        "    91  |  \u001b[94m  0.025985\u001b[0m  |  \u001b[32m  0.028687\u001b[0m  |     0.905837  |             |  0.2s"
       ]
      },
      {
       "output_type": "stream",
       "stream": "stdout",
       "text": [
        "\n",
        "    92  |  \u001b[94m  0.025945\u001b[0m  |  \u001b[32m  0.028669\u001b[0m  |     0.904979  |             |  0.2s"
       ]
      },
      {
       "output_type": "stream",
       "stream": "stdout",
       "text": [
        "\n",
        "    93  |  \u001b[94m  0.025905\u001b[0m  |  \u001b[32m  0.028652\u001b[0m  |     0.904123  |             |  0.2s"
       ]
      },
      {
       "output_type": "stream",
       "stream": "stdout",
       "text": [
        "\n",
        "    94  |  \u001b[94m  0.025865\u001b[0m  |  \u001b[32m  0.028635\u001b[0m  |     0.903263  |             |  0.2s"
       ]
      },
      {
       "output_type": "stream",
       "stream": "stdout",
       "text": [
        "\n",
        "    95  |  \u001b[94m  0.025825\u001b[0m  |  \u001b[32m  0.028618\u001b[0m  |     0.902405  |             |  0.2s"
       ]
      },
      {
       "output_type": "stream",
       "stream": "stdout",
       "text": [
        "\n",
        "    96  |  \u001b[94m  0.025785\u001b[0m  |  \u001b[32m  0.028601\u001b[0m  |     0.901553  |             |  0.2s"
       ]
      },
      {
       "output_type": "stream",
       "stream": "stdout",
       "text": [
        "\n",
        "    97  |  \u001b[94m  0.025746\u001b[0m  |  \u001b[32m  0.028584\u001b[0m  |     0.900704  |             |  0.2s"
       ]
      },
      {
       "output_type": "stream",
       "stream": "stdout",
       "text": [
        "\n",
        "    98  |  \u001b[94m  0.025707\u001b[0m  |  \u001b[32m  0.028567\u001b[0m  |     0.899861  |             |  0.2s"
       ]
      },
      {
       "output_type": "stream",
       "stream": "stdout",
       "text": [
        "\n",
        "    99  |  \u001b[94m  0.025668\u001b[0m  |  \u001b[32m  0.028551\u001b[0m  |     0.899017  |             |  0.2s"
       ]
      },
      {
       "output_type": "stream",
       "stream": "stdout",
       "text": [
        "\n",
        "   100  |  \u001b[94m  0.025629\u001b[0m  |  \u001b[32m  0.028534\u001b[0m  |     0.898183  |             |  0.2s"
       ]
      },
      {
       "output_type": "stream",
       "stream": "stdout",
       "text": [
        "\n",
        "   101  |  \u001b[94m  0.025590\u001b[0m  |  \u001b[32m  0.028518\u001b[0m  |     0.897341  |             |  0.2s"
       ]
      },
      {
       "output_type": "stream",
       "stream": "stdout",
       "text": [
        "\n",
        "   102  |  \u001b[94m  0.025552\u001b[0m  |  \u001b[32m  0.028502\u001b[0m  |     0.896511  |             |  0.2s"
       ]
      },
      {
       "output_type": "stream",
       "stream": "stdout",
       "text": [
        "\n",
        "   103  |  \u001b[94m  0.025514\u001b[0m  |  \u001b[32m  0.028486\u001b[0m  |     0.895676  |             |  0.2s"
       ]
      },
      {
       "output_type": "stream",
       "stream": "stdout",
       "text": [
        "\n",
        "   104  |  \u001b[94m  0.025476\u001b[0m  |  \u001b[32m  0.028470\u001b[0m  |     0.894843  |             |  0.2s"
       ]
      },
      {
       "output_type": "stream",
       "stream": "stdout",
       "text": [
        "\n",
        "   105  |  \u001b[94m  0.025438\u001b[0m  |  \u001b[32m  0.028454\u001b[0m  |     0.894020  |             |  0.2s"
       ]
      },
      {
       "output_type": "stream",
       "stream": "stdout",
       "text": [
        "\n",
        "   106  |  \u001b[94m  0.025401\u001b[0m  |  \u001b[32m  0.028438\u001b[0m  |     0.893189  |             |  0.2s"
       ]
      },
      {
       "output_type": "stream",
       "stream": "stdout",
       "text": [
        "\n",
        "   107  |  \u001b[94m  0.025364\u001b[0m  |  \u001b[32m  0.028423\u001b[0m  |     0.892366  |             |  0.2s"
       ]
      },
      {
       "output_type": "stream",
       "stream": "stdout",
       "text": [
        "\n",
        "   108  |  \u001b[94m  0.025327\u001b[0m  |  \u001b[32m  0.028408\u001b[0m  |     0.891542  |             |  0.2s"
       ]
      },
      {
       "output_type": "stream",
       "stream": "stdout",
       "text": [
        "\n",
        "   109  |  \u001b[94m  0.025290\u001b[0m  |  \u001b[32m  0.028392\u001b[0m  |     0.890725  |             |  0.2s"
       ]
      },
      {
       "output_type": "stream",
       "stream": "stdout",
       "text": [
        "\n",
        "   110  |  \u001b[94m  0.025253\u001b[0m  |  \u001b[32m  0.028377\u001b[0m  |     0.889914  |             |  0.2s"
       ]
      },
      {
       "output_type": "stream",
       "stream": "stdout",
       "text": [
        "\n",
        "   111  |  \u001b[94m  0.025217\u001b[0m  |  \u001b[32m  0.028362\u001b[0m  |     0.889098  |             |  0.2s"
       ]
      },
      {
       "output_type": "stream",
       "stream": "stdout",
       "text": [
        "\n",
        "   112  |  \u001b[94m  0.025181\u001b[0m  |  \u001b[32m  0.028347\u001b[0m  |     0.888288  |             |  0.2s"
       ]
      },
      {
       "output_type": "stream",
       "stream": "stdout",
       "text": [
        "\n",
        "   113  |  \u001b[94m  0.025145\u001b[0m  |  \u001b[32m  0.028333\u001b[0m  |     0.887478  |             |  0.2s"
       ]
      },
      {
       "output_type": "stream",
       "stream": "stdout",
       "text": [
        "\n",
        "   114  |  \u001b[94m  0.025109\u001b[0m  |  \u001b[32m  0.028319\u001b[0m  |     0.886663  |             |  0.2s"
       ]
      },
      {
       "output_type": "stream",
       "stream": "stdout",
       "text": [
        "\n",
        "   115  |  \u001b[94m  0.025073\u001b[0m  |  \u001b[32m  0.028304\u001b[0m  |     0.885852  |             |  0.2s"
       ]
      },
      {
       "output_type": "stream",
       "stream": "stdout",
       "text": [
        "\n",
        "   116  |  \u001b[94m  0.025038\u001b[0m  |  \u001b[32m  0.028290\u001b[0m  |     0.885043  |             |  0.2s"
       ]
      },
      {
       "output_type": "stream",
       "stream": "stdout",
       "text": [
        "\n",
        "   117  |  \u001b[94m  0.025002\u001b[0m  |  \u001b[32m  0.028276\u001b[0m  |     0.884232  |             |  0.2s"
       ]
      },
      {
       "output_type": "stream",
       "stream": "stdout",
       "text": [
        "\n",
        "   118  |  \u001b[94m  0.024967\u001b[0m  |  \u001b[32m  0.028262\u001b[0m  |     0.883432  |             |  0.2s"
       ]
      },
      {
       "output_type": "stream",
       "stream": "stdout",
       "text": [
        "\n",
        "   119  |  \u001b[94m  0.024932\u001b[0m  |  \u001b[32m  0.028248\u001b[0m  |     0.882633  |             |  0.2s"
       ]
      },
      {
       "output_type": "stream",
       "stream": "stdout",
       "text": [
        "\n",
        "   120  |  \u001b[94m  0.024898\u001b[0m  |  \u001b[32m  0.028234\u001b[0m  |     0.881837  |             |  0.2s"
       ]
      },
      {
       "output_type": "stream",
       "stream": "stdout",
       "text": [
        "\n",
        "   121  |  \u001b[94m  0.024863\u001b[0m  |  \u001b[32m  0.028220\u001b[0m  |     0.881043  |             |  0.2s"
       ]
      },
      {
       "output_type": "stream",
       "stream": "stdout",
       "text": [
        "\n",
        "   122  |  \u001b[94m  0.024829\u001b[0m  |  \u001b[32m  0.028206\u001b[0m  |     0.880252  |             |  0.2s"
       ]
      },
      {
       "output_type": "stream",
       "stream": "stdout",
       "text": [
        "\n",
        "   123  |  \u001b[94m  0.024795\u001b[0m  |  \u001b[32m  0.028193\u001b[0m  |     0.879470  |             |  0.2s"
       ]
      },
      {
       "output_type": "stream",
       "stream": "stdout",
       "text": [
        "\n",
        "   124  |  \u001b[94m  0.024760\u001b[0m  |  \u001b[32m  0.028179\u001b[0m  |     0.878682  |             |  0.2s"
       ]
      },
      {
       "output_type": "stream",
       "stream": "stdout",
       "text": [
        "\n",
        "   125  |  \u001b[94m  0.024727\u001b[0m  |  \u001b[32m  0.028166\u001b[0m  |     0.877903  |             |  0.2s"
       ]
      },
      {
       "output_type": "stream",
       "stream": "stdout",
       "text": [
        "\n",
        "   126  |  \u001b[94m  0.024693\u001b[0m  |  \u001b[32m  0.028152\u001b[0m  |     0.877118  |             |  0.2s"
       ]
      },
      {
       "output_type": "stream",
       "stream": "stdout",
       "text": [
        "\n",
        "   127  |  \u001b[94m  0.024659\u001b[0m  |  \u001b[32m  0.028139\u001b[0m  |     0.876336  |             |  0.2s"
       ]
      },
      {
       "output_type": "stream",
       "stream": "stdout",
       "text": [
        "\n",
        "   128  |  \u001b[94m  0.024626\u001b[0m  |  \u001b[32m  0.028126\u001b[0m  |     0.875552  |             |  0.2s"
       ]
      },
      {
       "output_type": "stream",
       "stream": "stdout",
       "text": [
        "\n",
        "   129  |  \u001b[94m  0.024592\u001b[0m  |  \u001b[32m  0.028113\u001b[0m  |     0.874762  |             |  0.2s"
       ]
      },
      {
       "output_type": "stream",
       "stream": "stdout",
       "text": [
        "\n",
        "   130  |  \u001b[94m  0.024559\u001b[0m  |  \u001b[32m  0.028100\u001b[0m  |     0.873979  |             |  0.2s"
       ]
      },
      {
       "output_type": "stream",
       "stream": "stdout",
       "text": [
        "\n",
        "   131  |  \u001b[94m  0.024526\u001b[0m  |  \u001b[32m  0.028087\u001b[0m  |     0.873194  |             |  0.2s"
       ]
      },
      {
       "output_type": "stream",
       "stream": "stdout",
       "text": [
        "\n",
        "   132  |  \u001b[94m  0.024493\u001b[0m  |  \u001b[32m  0.028075\u001b[0m  |     0.872411  |             |  0.2s"
       ]
      },
      {
       "output_type": "stream",
       "stream": "stdout",
       "text": [
        "\n",
        "   133  |  \u001b[94m  0.024460\u001b[0m  |  \u001b[32m  0.028062\u001b[0m  |     0.871628  |             |  0.2s"
       ]
      },
      {
       "output_type": "stream",
       "stream": "stdout",
       "text": [
        "\n",
        "   134  |  \u001b[94m  0.024427\u001b[0m  |  \u001b[32m  0.028050\u001b[0m  |     0.870848  |             |  0.2s"
       ]
      },
      {
       "output_type": "stream",
       "stream": "stdout",
       "text": [
        "\n",
        "   135  |  \u001b[94m  0.024395\u001b[0m  |  \u001b[32m  0.028037\u001b[0m  |     0.870069  |             |  0.2s"
       ]
      },
      {
       "output_type": "stream",
       "stream": "stdout",
       "text": [
        "\n",
        "   136  |  \u001b[94m  0.024362\u001b[0m  |  \u001b[32m  0.028025\u001b[0m  |     0.869290  |             |  0.2s"
       ]
      },
      {
       "output_type": "stream",
       "stream": "stdout",
       "text": [
        "\n",
        "   137  |  \u001b[94m  0.024330\u001b[0m  |  \u001b[32m  0.028013\u001b[0m  |     0.868508  |             |  0.2s"
       ]
      },
      {
       "output_type": "stream",
       "stream": "stdout",
       "text": [
        "\n",
        "   138  |  \u001b[94m  0.024297\u001b[0m  |  \u001b[32m  0.028001\u001b[0m  |     0.867730  |             |  0.2s"
       ]
      },
      {
       "output_type": "stream",
       "stream": "stdout",
       "text": [
        "\n",
        "   139  |  \u001b[94m  0.024265\u001b[0m  |  \u001b[32m  0.027989\u001b[0m  |     0.866954  |             |  0.2s"
       ]
      },
      {
       "output_type": "stream",
       "stream": "stdout",
       "text": [
        "\n",
        "   140  |  \u001b[94m  0.024233\u001b[0m  |  \u001b[32m  0.027977\u001b[0m  |     0.866180  |             |  0.2s"
       ]
      },
      {
       "output_type": "stream",
       "stream": "stdout",
       "text": [
        "\n",
        "   141  |  \u001b[94m  0.024201\u001b[0m  |  \u001b[32m  0.027965\u001b[0m  |     0.865407  |             |  0.2s"
       ]
      },
      {
       "output_type": "stream",
       "stream": "stdout",
       "text": [
        "\n",
        "   142  |  \u001b[94m  0.024170\u001b[0m  |  \u001b[32m  0.027954\u001b[0m  |     0.864634  |             |  0.2s"
       ]
      },
      {
       "output_type": "stream",
       "stream": "stdout",
       "text": [
        "\n",
        "   143  |  \u001b[94m  0.024138\u001b[0m  |  \u001b[32m  0.027942\u001b[0m  |     0.863866  |             |  0.2s"
       ]
      },
      {
       "output_type": "stream",
       "stream": "stdout",
       "text": [
        "\n",
        "   144  |  \u001b[94m  0.024107\u001b[0m  |  \u001b[32m  0.027931\u001b[0m  |     0.863092  |             |  0.2s"
       ]
      },
      {
       "output_type": "stream",
       "stream": "stdout",
       "text": [
        "\n",
        "   145  |  \u001b[94m  0.024075\u001b[0m  |  \u001b[32m  0.027919\u001b[0m  |     0.862324  |             |  0.2s"
       ]
      },
      {
       "output_type": "stream",
       "stream": "stdout",
       "text": [
        "\n",
        "   146  |  \u001b[94m  0.024044\u001b[0m  |  \u001b[32m  0.027908\u001b[0m  |     0.861563  |             |  0.2s"
       ]
      },
      {
       "output_type": "stream",
       "stream": "stdout",
       "text": [
        "\n",
        "   147  |  \u001b[94m  0.024013\u001b[0m  |  \u001b[32m  0.027896\u001b[0m  |     0.860796  |             |  0.2s"
       ]
      },
      {
       "output_type": "stream",
       "stream": "stdout",
       "text": [
        "\n",
        "   148  |  \u001b[94m  0.023982\u001b[0m  |  \u001b[32m  0.027885\u001b[0m  |     0.860033  |             |  0.2s"
       ]
      },
      {
       "output_type": "stream",
       "stream": "stdout",
       "text": [
        "\n",
        "   149  |  \u001b[94m  0.023951\u001b[0m  |  \u001b[32m  0.027874\u001b[0m  |     0.859269  |             |  0.2s"
       ]
      },
      {
       "output_type": "stream",
       "stream": "stdout",
       "text": [
        "\n",
        "   150  |  \u001b[94m  0.023921\u001b[0m  |  \u001b[32m  0.027863\u001b[0m  |     0.858514  |             |  0.2s"
       ]
      },
      {
       "output_type": "stream",
       "stream": "stdout",
       "text": [
        "\n",
        "   151  |  \u001b[94m  0.023890\u001b[0m  |  \u001b[32m  0.027852\u001b[0m  |     0.857745  |             |  0.2s"
       ]
      },
      {
       "output_type": "stream",
       "stream": "stdout",
       "text": [
        "\n",
        "   152  |  \u001b[94m  0.023859\u001b[0m  |  \u001b[32m  0.027841\u001b[0m  |     0.856978  |             |  0.2s"
       ]
      },
      {
       "output_type": "stream",
       "stream": "stdout",
       "text": [
        "\n",
        "   153  |  \u001b[94m  0.023829\u001b[0m  |  \u001b[32m  0.027831\u001b[0m  |     0.856215  |             |  0.2s"
       ]
      },
      {
       "output_type": "stream",
       "stream": "stdout",
       "text": [
        "\n",
        "   154  |  \u001b[94m  0.023799\u001b[0m  |  \u001b[32m  0.027820\u001b[0m  |     0.855450  |             |  0.2s"
       ]
      },
      {
       "output_type": "stream",
       "stream": "stdout",
       "text": [
        "\n",
        "   155  |  \u001b[94m  0.023768\u001b[0m  |  \u001b[32m  0.027809\u001b[0m  |     0.854687  |             |  0.2s"
       ]
      },
      {
       "output_type": "stream",
       "stream": "stdout",
       "text": [
        "\n",
        "   156  |  \u001b[94m  0.023738\u001b[0m  |  \u001b[32m  0.027799\u001b[0m  |     0.853922  |             |  0.2s"
       ]
      },
      {
       "output_type": "stream",
       "stream": "stdout",
       "text": [
        "\n",
        "   157  |  \u001b[94m  0.023708\u001b[0m  |  \u001b[32m  0.027789\u001b[0m  |     0.853163  |             |  0.2s"
       ]
      },
      {
       "output_type": "stream",
       "stream": "stdout",
       "text": [
        "\n",
        "   158  |  \u001b[94m  0.023678\u001b[0m  |  \u001b[32m  0.027778\u001b[0m  |     0.852404  |             |  0.2s"
       ]
      },
      {
       "output_type": "stream",
       "stream": "stdout",
       "text": [
        "\n",
        "   159  |  \u001b[94m  0.023648\u001b[0m  |  \u001b[32m  0.027768\u001b[0m  |     0.851645  |             |  0.2s"
       ]
      },
      {
       "output_type": "stream",
       "stream": "stdout",
       "text": [
        "\n",
        "   160  |  \u001b[94m  0.023619\u001b[0m  |  \u001b[32m  0.027757\u001b[0m  |     0.850892  |             |  0.2s"
       ]
      },
      {
       "output_type": "stream",
       "stream": "stdout",
       "text": [
        "\n",
        "   161  |  \u001b[94m  0.023589\u001b[0m  |  \u001b[32m  0.027747\u001b[0m  |     0.850140  |             |  0.2s"
       ]
      },
      {
       "output_type": "stream",
       "stream": "stdout",
       "text": [
        "\n",
        "   162  |  \u001b[94m  0.023559\u001b[0m  |  \u001b[32m  0.027737\u001b[0m  |     0.849382  |             |  0.2s"
       ]
      },
      {
       "output_type": "stream",
       "stream": "stdout",
       "text": [
        "\n",
        "   163  |  \u001b[94m  0.023530\u001b[0m  |  \u001b[32m  0.027727\u001b[0m  |     0.848630  |             |  0.2s"
       ]
      },
      {
       "output_type": "stream",
       "stream": "stdout",
       "text": [
        "\n",
        "   164  |  \u001b[94m  0.023501\u001b[0m  |  \u001b[32m  0.027717\u001b[0m  |     0.847878  |             |  0.2s"
       ]
      },
      {
       "output_type": "stream",
       "stream": "stdout",
       "text": [
        "\n",
        "   165  |  \u001b[94m  0.023471\u001b[0m  |  \u001b[32m  0.027707\u001b[0m  |     0.847132  |             |  0.2s"
       ]
      },
      {
       "output_type": "stream",
       "stream": "stdout",
       "text": [
        "\n",
        "   166  |  \u001b[94m  0.023442\u001b[0m  |  \u001b[32m  0.027697\u001b[0m  |     0.846380  |             |  0.2s"
       ]
      },
      {
       "output_type": "stream",
       "stream": "stdout",
       "text": [
        "\n",
        "   167  |  \u001b[94m  0.023413\u001b[0m  |  \u001b[32m  0.027687\u001b[0m  |     0.845628  |             |  0.2s"
       ]
      },
      {
       "output_type": "stream",
       "stream": "stdout",
       "text": [
        "\n",
        "   168  |  \u001b[94m  0.023384\u001b[0m  |  \u001b[32m  0.027677\u001b[0m  |     0.844891  |             |  0.2s"
       ]
      },
      {
       "output_type": "stream",
       "stream": "stdout",
       "text": [
        "\n",
        "   169  |  \u001b[94m  0.023355\u001b[0m  |  \u001b[32m  0.027667\u001b[0m  |     0.844143  |             |  0.2s"
       ]
      },
      {
       "output_type": "stream",
       "stream": "stdout",
       "text": [
        "\n",
        "   170  |  \u001b[94m  0.023326\u001b[0m  |  \u001b[32m  0.027657\u001b[0m  |     0.843404  |             |  0.2s"
       ]
      },
      {
       "output_type": "stream",
       "stream": "stdout",
       "text": [
        "\n",
        "   171  |  \u001b[94m  0.023298\u001b[0m  |  \u001b[32m  0.027647\u001b[0m  |     0.842668  |             |  0.2s"
       ]
      },
      {
       "output_type": "stream",
       "stream": "stdout",
       "text": [
        "\n",
        "   172  |  \u001b[94m  0.023269\u001b[0m  |  \u001b[32m  0.027638\u001b[0m  |     0.841931  |             |  0.2s"
       ]
      },
      {
       "output_type": "stream",
       "stream": "stdout",
       "text": [
        "\n",
        "   173  |  \u001b[94m  0.023241\u001b[0m  |  \u001b[32m  0.027628\u001b[0m  |     0.841196  |             |  0.2s"
       ]
      },
      {
       "output_type": "stream",
       "stream": "stdout",
       "text": [
        "\n",
        "   174  |  \u001b[94m  0.023212\u001b[0m  |  \u001b[32m  0.027619\u001b[0m  |     0.840453  |             |  0.2s"
       ]
      },
      {
       "output_type": "stream",
       "stream": "stdout",
       "text": [
        "\n",
        "   175  |  \u001b[94m  0.023184\u001b[0m  |  \u001b[32m  0.027609\u001b[0m  |     0.839721  |             |  0.2s"
       ]
      },
      {
       "output_type": "stream",
       "stream": "stdout",
       "text": [
        "\n",
        "   176  |  \u001b[94m  0.023156\u001b[0m  |  \u001b[32m  0.027600\u001b[0m  |     0.838977  |             |  0.2s"
       ]
      },
      {
       "output_type": "stream",
       "stream": "stdout",
       "text": [
        "\n",
        "   177  |  \u001b[94m  0.023128\u001b[0m  |  \u001b[32m  0.027590\u001b[0m  |     0.838251  |             |  0.2s"
       ]
      },
      {
       "output_type": "stream",
       "stream": "stdout",
       "text": [
        "\n",
        "   178  |  \u001b[94m  0.023100\u001b[0m  |  \u001b[32m  0.027581\u001b[0m  |     0.837513  |             |  0.2s"
       ]
      },
      {
       "output_type": "stream",
       "stream": "stdout",
       "text": [
        "\n",
        "   179  |  \u001b[94m  0.023072\u001b[0m  |  \u001b[32m  0.027572\u001b[0m  |     0.836779  |             |  0.2s"
       ]
      },
      {
       "output_type": "stream",
       "stream": "stdout",
       "text": [
        "\n",
        "   180  |  \u001b[94m  0.023044\u001b[0m  |  \u001b[32m  0.027563\u001b[0m  |     0.836052  |             |  0.2s"
       ]
      },
      {
       "output_type": "stream",
       "stream": "stdout",
       "text": [
        "\n",
        "   181  |  \u001b[94m  0.023016\u001b[0m  |  \u001b[32m  0.027554\u001b[0m  |     0.835317  |             |  0.2s"
       ]
      },
      {
       "output_type": "stream",
       "stream": "stdout",
       "text": [
        "\n",
        "   182  |  \u001b[94m  0.022989\u001b[0m  |  \u001b[32m  0.027545\u001b[0m  |     0.834588  |             |  0.2s"
       ]
      },
      {
       "output_type": "stream",
       "stream": "stdout",
       "text": [
        "\n",
        "   183  |  \u001b[94m  0.022961\u001b[0m  |  \u001b[32m  0.027536\u001b[0m  |     0.833861  |             |  0.2s"
       ]
      },
      {
       "output_type": "stream",
       "stream": "stdout",
       "text": [
        "\n",
        "   184  |  \u001b[94m  0.022934\u001b[0m  |  \u001b[32m  0.027527\u001b[0m  |     0.833133  |             |  0.2s"
       ]
      },
      {
       "output_type": "stream",
       "stream": "stdout",
       "text": [
        "\n",
        "   185  |  \u001b[94m  0.022906\u001b[0m  |  \u001b[32m  0.027518\u001b[0m  |     0.832409  |             |  0.2s"
       ]
      },
      {
       "output_type": "stream",
       "stream": "stdout",
       "text": [
        "\n",
        "   186  |  \u001b[94m  0.022879\u001b[0m  |  \u001b[32m  0.027509\u001b[0m  |     0.831684  |             |  0.2s"
       ]
      },
      {
       "output_type": "stream",
       "stream": "stdout",
       "text": [
        "\n",
        "   187  |  \u001b[94m  0.022852\u001b[0m  |  \u001b[32m  0.027500\u001b[0m  |     0.830962  |             |  0.2s"
       ]
      },
      {
       "output_type": "stream",
       "stream": "stdout",
       "text": [
        "\n",
        "   188  |  \u001b[94m  0.022824\u001b[0m  |  \u001b[32m  0.027491\u001b[0m  |     0.830242  |             |  0.2s"
       ]
      },
      {
       "output_type": "stream",
       "stream": "stdout",
       "text": [
        "\n",
        "   189  |  \u001b[94m  0.022797\u001b[0m  |  \u001b[32m  0.027482\u001b[0m  |     0.829527  |             |  0.2s"
       ]
      },
      {
       "output_type": "stream",
       "stream": "stdout",
       "text": [
        "\n",
        "   190  |  \u001b[94m  0.022770\u001b[0m  |  \u001b[32m  0.027474\u001b[0m  |     0.828813  |             |  0.2s"
       ]
      },
      {
       "output_type": "stream",
       "stream": "stdout",
       "text": [
        "\n",
        "   191  |  \u001b[94m  0.022744\u001b[0m  |  \u001b[32m  0.027465\u001b[0m  |     0.828094  |             |  0.2s"
       ]
      },
      {
       "output_type": "stream",
       "stream": "stdout",
       "text": [
        "\n",
        "   192  |  \u001b[94m  0.022717\u001b[0m  |  \u001b[32m  0.027456\u001b[0m  |     0.827381  |             |  0.2s"
       ]
      },
      {
       "output_type": "stream",
       "stream": "stdout",
       "text": [
        "\n",
        "   193  |  \u001b[94m  0.022690\u001b[0m  |  \u001b[32m  0.027448\u001b[0m  |     0.826665  |             |  0.2s"
       ]
      },
      {
       "output_type": "stream",
       "stream": "stdout",
       "text": [
        "\n",
        "   194  |  \u001b[94m  0.022664\u001b[0m  |  \u001b[32m  0.027439\u001b[0m  |     0.825958  |             |  0.2s"
       ]
      },
      {
       "output_type": "stream",
       "stream": "stdout",
       "text": [
        "\n",
        "   195  |  \u001b[94m  0.022637\u001b[0m  |  \u001b[32m  0.027431\u001b[0m  |     0.825236  |             |  0.2s"
       ]
      },
      {
       "output_type": "stream",
       "stream": "stdout",
       "text": [
        "\n",
        "   196  |  \u001b[94m  0.022611\u001b[0m  |  \u001b[32m  0.027422\u001b[0m  |     0.824530  |             |  0.2s"
       ]
      },
      {
       "output_type": "stream",
       "stream": "stdout",
       "text": [
        "\n",
        "   197  |  \u001b[94m  0.022584\u001b[0m  |  \u001b[32m  0.027414\u001b[0m  |     0.823817  |             |  0.2s"
       ]
      },
      {
       "output_type": "stream",
       "stream": "stdout",
       "text": [
        "\n",
        "   198  |  \u001b[94m  0.022558\u001b[0m  |  \u001b[32m  0.027406\u001b[0m  |     0.823108  |             |  0.2s"
       ]
      },
      {
       "output_type": "stream",
       "stream": "stdout",
       "text": [
        "\n",
        "   199  |  \u001b[94m  0.022532\u001b[0m  |  \u001b[32m  0.027397\u001b[0m  |     0.822403  |             |  0.2s"
       ]
      },
      {
       "output_type": "stream",
       "stream": "stdout",
       "text": [
        "\n",
        "   200  |  \u001b[94m  0.022505\u001b[0m  |  \u001b[32m  0.027389\u001b[0m  |     0.821692  |             |  0.2s"
       ]
      },
      {
       "output_type": "stream",
       "stream": "stdout",
       "text": [
        "\n",
        "   201  |  \u001b[94m  0.022479\u001b[0m  |  \u001b[32m  0.027381\u001b[0m  |     0.820981  |             |  0.2s"
       ]
      },
      {
       "output_type": "stream",
       "stream": "stdout",
       "text": [
        "\n",
        "   202  |  \u001b[94m  0.022453\u001b[0m  |  \u001b[32m  0.027373\u001b[0m  |     0.820274  |             |  0.2s"
       ]
      },
      {
       "output_type": "stream",
       "stream": "stdout",
       "text": [
        "\n",
        "   203  |  \u001b[94m  0.022427\u001b[0m  |  \u001b[32m  0.027365\u001b[0m  |     0.819573  |             |  0.2s"
       ]
      },
      {
       "output_type": "stream",
       "stream": "stdout",
       "text": [
        "\n",
        "   204  |  \u001b[94m  0.022401\u001b[0m  |  \u001b[32m  0.027356\u001b[0m  |     0.818868  |             |  0.2s"
       ]
      },
      {
       "output_type": "stream",
       "stream": "stdout",
       "text": [
        "\n",
        "   205  |  \u001b[94m  0.022376\u001b[0m  |  \u001b[32m  0.027348\u001b[0m  |     0.818166  |             |  0.2s"
       ]
      },
      {
       "output_type": "stream",
       "stream": "stdout",
       "text": [
        "\n",
        "   206  |  \u001b[94m  0.022350\u001b[0m  |  \u001b[32m  0.027340\u001b[0m  |     0.817462  |             |  0.2s"
       ]
      },
      {
       "output_type": "stream",
       "stream": "stdout",
       "text": [
        "\n",
        "   207  |  \u001b[94m  0.022324\u001b[0m  |  \u001b[32m  0.027332\u001b[0m  |     0.816766  |             |  0.2s"
       ]
      },
      {
       "output_type": "stream",
       "stream": "stdout",
       "text": [
        "\n",
        "   208  |  \u001b[94m  0.022298\u001b[0m  |  \u001b[32m  0.027324\u001b[0m  |     0.816065  |             |  0.2s"
       ]
      },
      {
       "output_type": "stream",
       "stream": "stdout",
       "text": [
        "\n",
        "   209  |  \u001b[94m  0.022273\u001b[0m  |  \u001b[32m  0.027316\u001b[0m  |     0.815367  |             |  0.2s"
       ]
      },
      {
       "output_type": "stream",
       "stream": "stdout",
       "text": [
        "\n",
        "   210  |  \u001b[94m  0.022247\u001b[0m  |  \u001b[32m  0.027308\u001b[0m  |     0.814665  |             |  0.2s"
       ]
      },
      {
       "output_type": "stream",
       "stream": "stdout",
       "text": [
        "\n",
        "   211  |  \u001b[94m  0.022222\u001b[0m  |  \u001b[32m  0.027300\u001b[0m  |     0.813967  |             |  0.2s"
       ]
      },
      {
       "output_type": "stream",
       "stream": "stdout",
       "text": [
        "\n",
        "   212  |  \u001b[94m  0.022196\u001b[0m  |  \u001b[32m  0.027293\u001b[0m  |     0.813269  |             |  0.2s"
       ]
      },
      {
       "output_type": "stream",
       "stream": "stdout",
       "text": [
        "\n",
        "   213  |  \u001b[94m  0.022171\u001b[0m  |  \u001b[32m  0.027285\u001b[0m  |     0.812571  |             |  0.2s"
       ]
      },
      {
       "output_type": "stream",
       "stream": "stdout",
       "text": [
        "\n",
        "   214  |  \u001b[94m  0.022145\u001b[0m  |  \u001b[32m  0.027277\u001b[0m  |     0.811874  |             |  0.2s"
       ]
      },
      {
       "output_type": "stream",
       "stream": "stdout",
       "text": [
        "\n",
        "   215  |  \u001b[94m  0.022120\u001b[0m  |  \u001b[32m  0.027269\u001b[0m  |     0.811180  |             |  0.2s"
       ]
      },
      {
       "output_type": "stream",
       "stream": "stdout",
       "text": [
        "\n",
        "   216  |  \u001b[94m  0.022095\u001b[0m  |  \u001b[32m  0.027262\u001b[0m  |     0.810486  |             |  0.2s"
       ]
      },
      {
       "output_type": "stream",
       "stream": "stdout",
       "text": [
        "\n",
        "   217  |  \u001b[94m  0.022070\u001b[0m  |  \u001b[32m  0.027254\u001b[0m  |     0.809797  |             |  0.2s"
       ]
      },
      {
       "output_type": "stream",
       "stream": "stdout",
       "text": [
        "\n",
        "   218  |  \u001b[94m  0.022045\u001b[0m  |  \u001b[32m  0.027246\u001b[0m  |     0.809105  |             |  0.2s"
       ]
      },
      {
       "output_type": "stream",
       "stream": "stdout",
       "text": [
        "\n",
        "   219  |  \u001b[94m  0.022020\u001b[0m  |  \u001b[32m  0.027239\u001b[0m  |     0.808413  |             |  0.2s"
       ]
      },
      {
       "output_type": "stream",
       "stream": "stdout",
       "text": [
        "\n",
        "   220  |  \u001b[94m  0.021995\u001b[0m  |  \u001b[32m  0.027231\u001b[0m  |     0.807729  |             |  0.2s"
       ]
      },
      {
       "output_type": "stream",
       "stream": "stdout",
       "text": [
        "\n",
        "   221  |  \u001b[94m  0.021970\u001b[0m  |  \u001b[32m  0.027224\u001b[0m  |     0.807029  |             |  0.2s"
       ]
      },
      {
       "output_type": "stream",
       "stream": "stdout",
       "text": [
        "\n",
        "   222  |  \u001b[94m  0.021945\u001b[0m  |  \u001b[32m  0.027216\u001b[0m  |     0.806346  |             |  0.2s"
       ]
      },
      {
       "output_type": "stream",
       "stream": "stdout",
       "text": [
        "\n",
        "   223  |  \u001b[94m  0.021921\u001b[0m  |  \u001b[32m  0.027208\u001b[0m  |     0.805657  |             |  0.2s"
       ]
      },
      {
       "output_type": "stream",
       "stream": "stdout",
       "text": [
        "\n",
        "   224  |  \u001b[94m  0.021896\u001b[0m  |  \u001b[32m  0.027201\u001b[0m  |     0.804973  |             |  0.2s"
       ]
      },
      {
       "output_type": "stream",
       "stream": "stdout",
       "text": [
        "\n",
        "   225  |  \u001b[94m  0.021871\u001b[0m  |  \u001b[32m  0.027194\u001b[0m  |     0.804277  |             |  0.2s"
       ]
      },
      {
       "output_type": "stream",
       "stream": "stdout",
       "text": [
        "\n",
        "   226  |  \u001b[94m  0.021847\u001b[0m  |  \u001b[32m  0.027186\u001b[0m  |     0.803590  |             |  0.2s"
       ]
      },
      {
       "output_type": "stream",
       "stream": "stdout",
       "text": [
        "\n",
        "   227  |  \u001b[94m  0.021822\u001b[0m  |  \u001b[32m  0.027179\u001b[0m  |     0.802899  |             |  0.2s"
       ]
      },
      {
       "output_type": "stream",
       "stream": "stdout",
       "text": [
        "\n",
        "   228  |  \u001b[94m  0.021798\u001b[0m  |  \u001b[32m  0.027172\u001b[0m  |     0.802215  |             |  0.2s"
       ]
      },
      {
       "output_type": "stream",
       "stream": "stdout",
       "text": [
        "\n",
        "   229  |  \u001b[94m  0.021773\u001b[0m  |  \u001b[32m  0.027165\u001b[0m  |     0.801529  |             |  0.2s"
       ]
      },
      {
       "output_type": "stream",
       "stream": "stdout",
       "text": [
        "\n",
        "   230  |  \u001b[94m  0.021749\u001b[0m  |  \u001b[32m  0.027157\u001b[0m  |     0.800842  |             |  0.2s"
       ]
      },
      {
       "output_type": "stream",
       "stream": "stdout",
       "text": [
        "\n",
        "   231  |  \u001b[94m  0.021724\u001b[0m  |  \u001b[32m  0.027150\u001b[0m  |     0.800160  |             |  0.2s"
       ]
      },
      {
       "output_type": "stream",
       "stream": "stdout",
       "text": [
        "\n",
        "   232  |  \u001b[94m  0.021700\u001b[0m  |  \u001b[32m  0.027143\u001b[0m  |     0.799474  |             |  0.2s"
       ]
      },
      {
       "output_type": "stream",
       "stream": "stdout",
       "text": [
        "\n",
        "   233  |  \u001b[94m  0.021676\u001b[0m  |  \u001b[32m  0.027136\u001b[0m  |     0.798793  |             |  0.2s"
       ]
      },
      {
       "output_type": "stream",
       "stream": "stdout",
       "text": [
        "\n",
        "   234  |  \u001b[94m  0.021652\u001b[0m  |  \u001b[32m  0.027129\u001b[0m  |     0.798111  |             |  0.2s"
       ]
      },
      {
       "output_type": "stream",
       "stream": "stdout",
       "text": [
        "\n",
        "   235  |  \u001b[94m  0.021628\u001b[0m  |  \u001b[32m  0.027121\u001b[0m  |     0.797435  |             |  0.2s"
       ]
      },
      {
       "output_type": "stream",
       "stream": "stdout",
       "text": [
        "\n",
        "   236  |  \u001b[94m  0.021604\u001b[0m  |  \u001b[32m  0.027115\u001b[0m  |     0.796750  |             |  0.2s"
       ]
      },
      {
       "output_type": "stream",
       "stream": "stdout",
       "text": [
        "\n",
        "   237  |  \u001b[94m  0.021580\u001b[0m  |  \u001b[32m  0.027107\u001b[0m  |     0.796079  |             |  0.2s"
       ]
      },
      {
       "output_type": "stream",
       "stream": "stdout",
       "text": [
        "\n",
        "   238  |  \u001b[94m  0.021556\u001b[0m  |  \u001b[32m  0.027100\u001b[0m  |     0.795396  |             |  0.2s"
       ]
      },
      {
       "output_type": "stream",
       "stream": "stdout",
       "text": [
        "\n",
        "   239  |  \u001b[94m  0.021532\u001b[0m  |  \u001b[32m  0.027093\u001b[0m  |     0.794723  |             |  0.2s"
       ]
      },
      {
       "output_type": "stream",
       "stream": "stdout",
       "text": [
        "\n",
        "   240  |  \u001b[94m  0.021508\u001b[0m  |  \u001b[32m  0.027086\u001b[0m  |     0.794050  |             |  0.2s"
       ]
      },
      {
       "output_type": "stream",
       "stream": "stdout",
       "text": [
        "\n",
        "   241  |  \u001b[94m  0.021484\u001b[0m  |  \u001b[32m  0.027079\u001b[0m  |     0.793376  |             |  0.2s"
       ]
      },
      {
       "output_type": "stream",
       "stream": "stdout",
       "text": [
        "\n",
        "   242  |  \u001b[94m  0.021460\u001b[0m  |  \u001b[32m  0.027072\u001b[0m  |     0.792704  |             |  0.2s"
       ]
      },
      {
       "output_type": "stream",
       "stream": "stdout",
       "text": [
        "\n",
        "   243  |  \u001b[94m  0.021437\u001b[0m  |  \u001b[32m  0.027065\u001b[0m  |     0.792032  |             |  0.2s"
       ]
      },
      {
       "output_type": "stream",
       "stream": "stdout",
       "text": [
        "\n",
        "   244  |  \u001b[94m  0.021413\u001b[0m  |  \u001b[32m  0.027059\u001b[0m  |     0.791359  |             |  0.2s"
       ]
      },
      {
       "output_type": "stream",
       "stream": "stdout",
       "text": [
        "\n",
        "   245  |  \u001b[94m  0.021390\u001b[0m  |  \u001b[32m  0.027052\u001b[0m  |     0.790687  |             |  0.2s"
       ]
      },
      {
       "output_type": "stream",
       "stream": "stdout",
       "text": [
        "\n",
        "   246  |  \u001b[94m  0.021366\u001b[0m  |  \u001b[32m  0.027045\u001b[0m  |     0.790020  |             |  0.2s"
       ]
      },
      {
       "output_type": "stream",
       "stream": "stdout",
       "text": [
        "\n",
        "   247  |  \u001b[94m  0.021343\u001b[0m  |  \u001b[32m  0.027038\u001b[0m  |     0.789348  |             |  0.2s"
       ]
      },
      {
       "output_type": "stream",
       "stream": "stdout",
       "text": [
        "\n",
        "   248  |  \u001b[94m  0.021319\u001b[0m  |  \u001b[32m  0.027031\u001b[0m  |     0.788684  |             |  0.2s"
       ]
      },
      {
       "output_type": "stream",
       "stream": "stdout",
       "text": [
        "\n",
        "   249  |  \u001b[94m  0.021296\u001b[0m  |  \u001b[32m  0.027024\u001b[0m  |     0.788017  |             |  0.2s"
       ]
      },
      {
       "output_type": "stream",
       "stream": "stdout",
       "text": [
        "\n",
        "   250  |  \u001b[94m  0.021272\u001b[0m  |  \u001b[32m  0.027018\u001b[0m  |     0.787344  |             |  0.2s"
       ]
      },
      {
       "output_type": "stream",
       "stream": "stdout",
       "text": [
        "\n",
        "   251  |  \u001b[94m  0.021249\u001b[0m  |  \u001b[32m  0.027011\u001b[0m  |     0.786679  |             |  0.2s"
       ]
      },
      {
       "output_type": "stream",
       "stream": "stdout",
       "text": [
        "\n",
        "   252  |  \u001b[94m  0.021226\u001b[0m  |  \u001b[32m  0.027004\u001b[0m  |     0.786014  |             |  0.2s"
       ]
      },
      {
       "output_type": "stream",
       "stream": "stdout",
       "text": [
        "\n",
        "   253  |  \u001b[94m  0.021203\u001b[0m  |  \u001b[32m  0.026998\u001b[0m  |     0.785340  |             |  0.2s"
       ]
      },
      {
       "output_type": "stream",
       "stream": "stdout",
       "text": [
        "\n",
        "   254  |  \u001b[94m  0.021179\u001b[0m  |  \u001b[32m  0.026991\u001b[0m  |     0.784676  |             |  0.2s"
       ]
      },
      {
       "output_type": "stream",
       "stream": "stdout",
       "text": [
        "\n",
        "   255  |  \u001b[94m  0.021156\u001b[0m  |  \u001b[32m  0.026985\u001b[0m  |     0.784012  |             |  0.2s"
       ]
      },
      {
       "output_type": "stream",
       "stream": "stdout",
       "text": [
        "\n",
        "   256  |  \u001b[94m  0.021133\u001b[0m  |  \u001b[32m  0.026978\u001b[0m  |     0.783341  |             |  0.2s"
       ]
      },
      {
       "output_type": "stream",
       "stream": "stdout",
       "text": [
        "\n",
        "   257  |  \u001b[94m  0.021110\u001b[0m  |  \u001b[32m  0.026971\u001b[0m  |     0.782680  |             |  0.2s"
       ]
      },
      {
       "output_type": "stream",
       "stream": "stdout",
       "text": [
        "\n",
        "   258  |  \u001b[94m  0.021087\u001b[0m  |  \u001b[32m  0.026965\u001b[0m  |     0.782012  |             |  0.2s"
       ]
      },
      {
       "output_type": "stream",
       "stream": "stdout",
       "text": [
        "\n",
        "   259  |  \u001b[94m  0.021064\u001b[0m  |  \u001b[32m  0.026959\u001b[0m  |     0.781346  |             |  0.2s"
       ]
      },
      {
       "output_type": "stream",
       "stream": "stdout",
       "text": [
        "\n",
        "   260  |  \u001b[94m  0.021041\u001b[0m  |  \u001b[32m  0.026952\u001b[0m  |     0.780678  |             |  0.2s"
       ]
      },
      {
       "output_type": "stream",
       "stream": "stdout",
       "text": [
        "\n",
        "   261  |  \u001b[94m  0.021018\u001b[0m  |  \u001b[32m  0.026946\u001b[0m  |     0.780016  |             |  0.2s"
       ]
      },
      {
       "output_type": "stream",
       "stream": "stdout",
       "text": [
        "\n",
        "   262  |  \u001b[94m  0.020995\u001b[0m  |  \u001b[32m  0.026939\u001b[0m  |     0.779350  |             |  0.2s"
       ]
      },
      {
       "output_type": "stream",
       "stream": "stdout",
       "text": [
        "\n",
        "   263  |  \u001b[94m  0.020972\u001b[0m  |  \u001b[32m  0.026933\u001b[0m  |     0.778692  |             |  0.2s"
       ]
      },
      {
       "output_type": "stream",
       "stream": "stdout",
       "text": [
        "\n",
        "   264  |  \u001b[94m  0.020950\u001b[0m  |  \u001b[32m  0.026927\u001b[0m  |     0.778025  |             |  0.2s"
       ]
      },
      {
       "output_type": "stream",
       "stream": "stdout",
       "text": [
        "\n",
        "   265  |  \u001b[94m  0.020927\u001b[0m  |  \u001b[32m  0.026920\u001b[0m  |     0.777361  |             |  0.2s"
       ]
      },
      {
       "output_type": "stream",
       "stream": "stdout",
       "text": [
        "\n",
        "   266  |  \u001b[94m  0.020904\u001b[0m  |  \u001b[32m  0.026914\u001b[0m  |     0.776700  |             |  0.2s"
       ]
      },
      {
       "output_type": "stream",
       "stream": "stdout",
       "text": [
        "\n",
        "   267  |  \u001b[94m  0.020881\u001b[0m  |  \u001b[32m  0.026908\u001b[0m  |     0.776033  |             |  0.2s"
       ]
      },
      {
       "output_type": "stream",
       "stream": "stdout",
       "text": [
        "\n",
        "   268  |  \u001b[94m  0.020859\u001b[0m  |  \u001b[32m  0.026902\u001b[0m  |     0.775369  |             |  0.2s"
       ]
      },
      {
       "output_type": "stream",
       "stream": "stdout",
       "text": [
        "\n",
        "   269  |  \u001b[94m  0.020836\u001b[0m  |  \u001b[32m  0.026895\u001b[0m  |     0.774711  |             |  0.2s"
       ]
      },
      {
       "output_type": "stream",
       "stream": "stdout",
       "text": [
        "\n",
        "   270  |  \u001b[94m  0.020814\u001b[0m  |  \u001b[32m  0.026889\u001b[0m  |     0.774049  |             |  0.2s"
       ]
      },
      {
       "output_type": "stream",
       "stream": "stdout",
       "text": [
        "\n",
        "   271  |  \u001b[94m  0.020791\u001b[0m  |  \u001b[32m  0.026883\u001b[0m  |     0.773387  |             |  0.2s"
       ]
      },
      {
       "output_type": "stream",
       "stream": "stdout",
       "text": [
        "\n",
        "   272  |  \u001b[94m  0.020769\u001b[0m  |  \u001b[32m  0.026877\u001b[0m  |     0.772726  |             |  0.2s"
       ]
      },
      {
       "output_type": "stream",
       "stream": "stdout",
       "text": [
        "\n",
        "   273  |  \u001b[94m  0.020746\u001b[0m  |  \u001b[32m  0.026871\u001b[0m  |     0.772063  |             |  0.2s"
       ]
      },
      {
       "output_type": "stream",
       "stream": "stdout",
       "text": [
        "\n",
        "   274  |  \u001b[94m  0.020724\u001b[0m  |  \u001b[32m  0.026865\u001b[0m  |     0.771406  |             |  0.2s"
       ]
      },
      {
       "output_type": "stream",
       "stream": "stdout",
       "text": [
        "\n",
        "   275  |  \u001b[94m  0.020702\u001b[0m  |  \u001b[32m  0.026859\u001b[0m  |     0.770749  |             |  0.2s"
       ]
      },
      {
       "output_type": "stream",
       "stream": "stdout",
       "text": [
        "\n",
        "   276  |  \u001b[94m  0.020679\u001b[0m  |  \u001b[32m  0.026853\u001b[0m  |     0.770088  |             |  0.2s"
       ]
      },
      {
       "output_type": "stream",
       "stream": "stdout",
       "text": [
        "\n",
        "   277  |  \u001b[94m  0.020657\u001b[0m  |  \u001b[32m  0.026847\u001b[0m  |     0.769431  |             |  0.2s"
       ]
      },
      {
       "output_type": "stream",
       "stream": "stdout",
       "text": [
        "\n",
        "   278  |  \u001b[94m  0.020635\u001b[0m  |  \u001b[32m  0.026841\u001b[0m  |     0.768783  |             |  0.2s"
       ]
      },
      {
       "output_type": "stream",
       "stream": "stdout",
       "text": [
        "\n",
        "   279  |  \u001b[94m  0.020613\u001b[0m  |  \u001b[32m  0.026835\u001b[0m  |     0.768124  |             |  0.2s"
       ]
      },
      {
       "output_type": "stream",
       "stream": "stdout",
       "text": [
        "\n",
        "   280  |  \u001b[94m  0.020591\u001b[0m  |  \u001b[32m  0.026829\u001b[0m  |     0.767472  |             |  0.2s"
       ]
      },
      {
       "output_type": "stream",
       "stream": "stdout",
       "text": [
        "\n",
        "   281  |  \u001b[94m  0.020569\u001b[0m  |  \u001b[32m  0.026824\u001b[0m  |     0.766816  |             |  0.2s"
       ]
      },
      {
       "output_type": "stream",
       "stream": "stdout",
       "text": [
        "\n",
        "   282  |  \u001b[94m  0.020547\u001b[0m  |  \u001b[32m  0.026818\u001b[0m  |     0.766167  |             |  0.2s"
       ]
      },
      {
       "output_type": "stream",
       "stream": "stdout",
       "text": [
        "\n",
        "   283  |  \u001b[94m  0.020525\u001b[0m  |  \u001b[32m  0.026812\u001b[0m  |     0.765514  |             |  0.2s"
       ]
      },
      {
       "output_type": "stream",
       "stream": "stdout",
       "text": [
        "\n",
        "   284  |  \u001b[94m  0.020503\u001b[0m  |  \u001b[32m  0.026806\u001b[0m  |     0.764861  |             |  0.2s"
       ]
      },
      {
       "output_type": "stream",
       "stream": "stdout",
       "text": [
        "\n",
        "   285  |  \u001b[94m  0.020481\u001b[0m  |  \u001b[32m  0.026800\u001b[0m  |     0.764214  |             |  0.2s"
       ]
      },
      {
       "output_type": "stream",
       "stream": "stdout",
       "text": [
        "\n",
        "   286  |  \u001b[94m  0.020459\u001b[0m  |  \u001b[32m  0.026794\u001b[0m  |     0.763567  |             |  0.2s"
       ]
      },
      {
       "output_type": "stream",
       "stream": "stdout",
       "text": [
        "\n",
        "   287  |  \u001b[94m  0.020437\u001b[0m  |  \u001b[32m  0.026788\u001b[0m  |     0.762914  |             |  0.2s"
       ]
      },
      {
       "output_type": "stream",
       "stream": "stdout",
       "text": [
        "\n",
        "   288  |  \u001b[94m  0.020415\u001b[0m  |  \u001b[32m  0.026783\u001b[0m  |     0.762263  |             |  0.2s"
       ]
      },
      {
       "output_type": "stream",
       "stream": "stdout",
       "text": [
        "\n",
        "   289  |  \u001b[94m  0.020394\u001b[0m  |  \u001b[32m  0.026777\u001b[0m  |     0.761619  |             |  0.2s"
       ]
      },
      {
       "output_type": "stream",
       "stream": "stdout",
       "text": [
        "\n",
        "   290  |  \u001b[94m  0.020372\u001b[0m  |  \u001b[32m  0.026771\u001b[0m  |     0.760964  |             |  0.2s"
       ]
      },
      {
       "output_type": "stream",
       "stream": "stdout",
       "text": [
        "\n",
        "   291  |  \u001b[94m  0.020350\u001b[0m  |  \u001b[32m  0.026765\u001b[0m  |     0.760322  |             |  0.2s"
       ]
      },
      {
       "output_type": "stream",
       "stream": "stdout",
       "text": [
        "\n",
        "   292  |  \u001b[94m  0.020329\u001b[0m  |  \u001b[32m  0.026759\u001b[0m  |     0.759680  |             |  0.2s"
       ]
      },
      {
       "output_type": "stream",
       "stream": "stdout",
       "text": [
        "\n",
        "   293  |  \u001b[94m  0.020307\u001b[0m  |  \u001b[32m  0.026754\u001b[0m  |     0.759034  |             |  0.2s"
       ]
      },
      {
       "output_type": "stream",
       "stream": "stdout",
       "text": [
        "\n",
        "   294  |  \u001b[94m  0.020285\u001b[0m  |  \u001b[32m  0.026748\u001b[0m  |     0.758391  |             |  0.2s"
       ]
      },
      {
       "output_type": "stream",
       "stream": "stdout",
       "text": [
        "\n",
        "   295  |  \u001b[94m  0.020264\u001b[0m  |  \u001b[32m  0.026743\u001b[0m  |     0.757742  |             |  0.2s"
       ]
      },
      {
       "output_type": "stream",
       "stream": "stdout",
       "text": [
        "\n",
        "   296  |  \u001b[94m  0.020242\u001b[0m  |  \u001b[32m  0.026737\u001b[0m  |     0.757097  |             |  0.2s"
       ]
      },
      {
       "output_type": "stream",
       "stream": "stdout",
       "text": [
        "\n",
        "   297  |  \u001b[94m  0.020221\u001b[0m  |  \u001b[32m  0.026731\u001b[0m  |     0.756455  |             |  0.2s"
       ]
      },
      {
       "output_type": "stream",
       "stream": "stdout",
       "text": [
        "\n",
        "   298  |  \u001b[94m  0.020200\u001b[0m  |  \u001b[32m  0.026726\u001b[0m  |     0.755819  |             |  0.2s"
       ]
      },
      {
       "output_type": "stream",
       "stream": "stdout",
       "text": [
        "\n",
        "   299  |  \u001b[94m  0.020178\u001b[0m  |  \u001b[32m  0.026720\u001b[0m  |     0.755177  |             |  0.2s"
       ]
      },
      {
       "output_type": "stream",
       "stream": "stdout",
       "text": [
        "\n",
        "   300  |  \u001b[94m  0.020157\u001b[0m  |  \u001b[32m  0.026714\u001b[0m  |     0.754540  |             |  0.2s"
       ]
      },
      {
       "output_type": "stream",
       "stream": "stdout",
       "text": [
        "\n",
        "   301  |  \u001b[94m  0.020136\u001b[0m  |  \u001b[32m  0.026709\u001b[0m  |     0.753900  |             |  0.2s"
       ]
      },
      {
       "output_type": "stream",
       "stream": "stdout",
       "text": [
        "\n",
        "   302  |  \u001b[94m  0.020115\u001b[0m  |  \u001b[32m  0.026703\u001b[0m  |     0.753258  |             |  0.2s"
       ]
      },
      {
       "output_type": "stream",
       "stream": "stdout",
       "text": [
        "\n",
        "   303  |  \u001b[94m  0.020093\u001b[0m  |  \u001b[32m  0.026698\u001b[0m  |     0.752626  |             |  0.2s"
       ]
      },
      {
       "output_type": "stream",
       "stream": "stdout",
       "text": [
        "\n",
        "   304  |  \u001b[94m  0.020072\u001b[0m  |  \u001b[32m  0.026692\u001b[0m  |     0.751990  |             |  0.2s"
       ]
      },
      {
       "output_type": "stream",
       "stream": "stdout",
       "text": [
        "\n",
        "   305  |  \u001b[94m  0.020051\u001b[0m  |  \u001b[32m  0.026687\u001b[0m  |     0.751351  |             |  0.2s"
       ]
      },
      {
       "output_type": "stream",
       "stream": "stdout",
       "text": [
        "\n",
        "   306  |  \u001b[94m  0.020030\u001b[0m  |  \u001b[32m  0.026681\u001b[0m  |     0.750714  |             |  0.2s"
       ]
      },
      {
       "output_type": "stream",
       "stream": "stdout",
       "text": [
        "\n",
        "   307  |  \u001b[94m  0.020009\u001b[0m  |  \u001b[32m  0.026676\u001b[0m  |     0.750081  |             |  0.2s"
       ]
      },
      {
       "output_type": "stream",
       "stream": "stdout",
       "text": [
        "\n",
        "   308  |  \u001b[94m  0.019988\u001b[0m  |  \u001b[32m  0.026670\u001b[0m  |     0.749443  |             |  0.2s"
       ]
      },
      {
       "output_type": "stream",
       "stream": "stdout",
       "text": [
        "\n",
        "   309  |  \u001b[94m  0.019967\u001b[0m  |  \u001b[32m  0.026665\u001b[0m  |     0.748805  |             |  0.2s"
       ]
      },
      {
       "output_type": "stream",
       "stream": "stdout",
       "text": [
        "\n",
        "   310  |  \u001b[94m  0.019946\u001b[0m  |  \u001b[32m  0.026660\u001b[0m  |     0.748167  |             |  0.2s"
       ]
      },
      {
       "output_type": "stream",
       "stream": "stdout",
       "text": [
        "\n",
        "   311  |  \u001b[94m  0.019925\u001b[0m  |  \u001b[32m  0.026655\u001b[0m  |     0.747529  |             |  0.2s"
       ]
      },
      {
       "output_type": "stream",
       "stream": "stdout",
       "text": [
        "\n",
        "   312  |  \u001b[94m  0.019904\u001b[0m  |  \u001b[32m  0.026649\u001b[0m  |     0.746896  |             |  0.2s"
       ]
      },
      {
       "output_type": "stream",
       "stream": "stdout",
       "text": [
        "\n",
        "   313  |  \u001b[94m  0.019883\u001b[0m  |  \u001b[32m  0.026644\u001b[0m  |     0.746264  |             |  0.2s"
       ]
      },
      {
       "output_type": "stream",
       "stream": "stdout",
       "text": [
        "\n",
        "   314  |  \u001b[94m  0.019863\u001b[0m  |  \u001b[32m  0.026639\u001b[0m  |     0.745624  |             |  0.2s"
       ]
      },
      {
       "output_type": "stream",
       "stream": "stdout",
       "text": [
        "\n",
        "   315  |  \u001b[94m  0.019842\u001b[0m  |  \u001b[32m  0.026633\u001b[0m  |     0.744994  |             |  0.2s"
       ]
      },
      {
       "output_type": "stream",
       "stream": "stdout",
       "text": [
        "\n",
        "   316  |  \u001b[94m  0.019821\u001b[0m  |  \u001b[32m  0.026628\u001b[0m  |     0.744358  |             |  0.2s"
       ]
      },
      {
       "output_type": "stream",
       "stream": "stdout",
       "text": [
        "\n",
        "   317  |  \u001b[94m  0.019800\u001b[0m  |  \u001b[32m  0.026623\u001b[0m  |     0.743728  |             |  0.2s"
       ]
      },
      {
       "output_type": "stream",
       "stream": "stdout",
       "text": [
        "\n",
        "   318  |  \u001b[94m  0.019780\u001b[0m  |  \u001b[32m  0.026618\u001b[0m  |     0.743092  |             |  0.2s"
       ]
      },
      {
       "output_type": "stream",
       "stream": "stdout",
       "text": [
        "\n",
        "   319  |  \u001b[94m  0.019759\u001b[0m  |  \u001b[32m  0.026613\u001b[0m  |     0.742461  |             |  0.2s"
       ]
      },
      {
       "output_type": "stream",
       "stream": "stdout",
       "text": [
        "\n",
        "   320  |  \u001b[94m  0.019738\u001b[0m  |  \u001b[32m  0.026608\u001b[0m  |     0.741831  |             |  0.2s"
       ]
      },
      {
       "output_type": "stream",
       "stream": "stdout",
       "text": [
        "\n",
        "   321  |  \u001b[94m  0.019718\u001b[0m  |  \u001b[32m  0.026602\u001b[0m  |     0.741203  |             |  0.2s"
       ]
      },
      {
       "output_type": "stream",
       "stream": "stdout",
       "text": [
        "\n",
        "   322  |  \u001b[94m  0.019697\u001b[0m  |  \u001b[32m  0.026597\u001b[0m  |     0.740572  |             |  0.2s"
       ]
      },
      {
       "output_type": "stream",
       "stream": "stdout",
       "text": [
        "\n",
        "   323  |  \u001b[94m  0.019677\u001b[0m  |  \u001b[32m  0.026592\u001b[0m  |     0.739942  |             |  0.2s"
       ]
      },
      {
       "output_type": "stream",
       "stream": "stdout",
       "text": [
        "\n",
        "   324  |  \u001b[94m  0.019656\u001b[0m  |  \u001b[32m  0.026587\u001b[0m  |     0.739311  |             |  0.2s"
       ]
      },
      {
       "output_type": "stream",
       "stream": "stdout",
       "text": [
        "\n",
        "   325  |  \u001b[94m  0.019636\u001b[0m  |  \u001b[32m  0.026582\u001b[0m  |     0.738681  |             |  0.2s"
       ]
      },
      {
       "output_type": "stream",
       "stream": "stdout",
       "text": [
        "\n",
        "   326  |  \u001b[94m  0.019615\u001b[0m  |  \u001b[32m  0.026577\u001b[0m  |     0.738051  |             |  0.2s"
       ]
      },
      {
       "output_type": "stream",
       "stream": "stdout",
       "text": [
        "\n",
        "   327  |  \u001b[94m  0.019595\u001b[0m  |  \u001b[32m  0.026572\u001b[0m  |     0.737421  |             |  0.2s"
       ]
      },
      {
       "output_type": "stream",
       "stream": "stdout",
       "text": [
        "\n",
        "   328  |  \u001b[94m  0.019575\u001b[0m  |  \u001b[32m  0.026567\u001b[0m  |     0.736790  |             |  0.2s"
       ]
      },
      {
       "output_type": "stream",
       "stream": "stdout",
       "text": [
        "\n",
        "   329  |  \u001b[94m  0.019554\u001b[0m  |  \u001b[32m  0.026562\u001b[0m  |     0.736161  |             |  0.2s"
       ]
      },
      {
       "output_type": "stream",
       "stream": "stdout",
       "text": [
        "\n",
        "   330  |  \u001b[94m  0.019534\u001b[0m  |  \u001b[32m  0.026558\u001b[0m  |     0.735530  |             |  0.2s"
       ]
      },
      {
       "output_type": "stream",
       "stream": "stdout",
       "text": [
        "\n",
        "   331  |  \u001b[94m  0.019514\u001b[0m  |  \u001b[32m  0.026553\u001b[0m  |     0.734906  |             |  0.2s"
       ]
      },
      {
       "output_type": "stream",
       "stream": "stdout",
       "text": [
        "\n",
        "   332  |  \u001b[94m  0.019493\u001b[0m  |  \u001b[32m  0.026548\u001b[0m  |     0.734273  |             |  0.2s"
       ]
      },
      {
       "output_type": "stream",
       "stream": "stdout",
       "text": [
        "\n",
        "   333  |  \u001b[94m  0.019473\u001b[0m  |  \u001b[32m  0.026543\u001b[0m  |     0.733651  |             |  0.2s"
       ]
      },
      {
       "output_type": "stream",
       "stream": "stdout",
       "text": [
        "\n",
        "   334  |  \u001b[94m  0.019453\u001b[0m  |  \u001b[32m  0.026538\u001b[0m  |     0.733020  |             |  0.2s"
       ]
      },
      {
       "output_type": "stream",
       "stream": "stdout",
       "text": [
        "\n",
        "   335  |  \u001b[94m  0.019433\u001b[0m  |  \u001b[32m  0.026534\u001b[0m  |     0.732392  |             |  0.2s"
       ]
      },
      {
       "output_type": "stream",
       "stream": "stdout",
       "text": [
        "\n",
        "   336  |  \u001b[94m  0.019413\u001b[0m  |  \u001b[32m  0.026529\u001b[0m  |     0.731766  |             |  0.2s"
       ]
      },
      {
       "output_type": "stream",
       "stream": "stdout",
       "text": [
        "\n",
        "   337  |  \u001b[94m  0.019393\u001b[0m  |  \u001b[32m  0.026524\u001b[0m  |     0.731139  |             |  0.2s"
       ]
      },
      {
       "output_type": "stream",
       "stream": "stdout",
       "text": [
        "\n",
        "   338  |  \u001b[94m  0.019373\u001b[0m  |  \u001b[32m  0.026519\u001b[0m  |     0.730511  |             |  0.2s"
       ]
      },
      {
       "output_type": "stream",
       "stream": "stdout",
       "text": [
        "\n",
        "   339  |  \u001b[94m  0.019353\u001b[0m  |  \u001b[32m  0.026515\u001b[0m  |     0.729885  |             |  0.2s"
       ]
      },
      {
       "output_type": "stream",
       "stream": "stdout",
       "text": [
        "\n",
        "   340  |  \u001b[94m  0.019333\u001b[0m  |  \u001b[32m  0.026510\u001b[0m  |     0.729261  |             |  0.2s"
       ]
      },
      {
       "output_type": "stream",
       "stream": "stdout",
       "text": [
        "\n",
        "   341  |  \u001b[94m  0.019313\u001b[0m  |  \u001b[32m  0.026505\u001b[0m  |     0.728635  |             |  0.2s"
       ]
      },
      {
       "output_type": "stream",
       "stream": "stdout",
       "text": [
        "\n",
        "   342  |  \u001b[94m  0.019293\u001b[0m  |  \u001b[32m  0.026501\u001b[0m  |     0.728006  |             |  0.2s"
       ]
      },
      {
       "output_type": "stream",
       "stream": "stdout",
       "text": [
        "\n",
        "   343  |  \u001b[94m  0.019273\u001b[0m  |  \u001b[32m  0.026496\u001b[0m  |     0.727390  |             |  0.2s"
       ]
      },
      {
       "output_type": "stream",
       "stream": "stdout",
       "text": [
        "\n",
        "   344  |  \u001b[94m  0.019253\u001b[0m  |  \u001b[32m  0.026492\u001b[0m  |     0.726754  |             |  0.2s"
       ]
      },
      {
       "output_type": "stream",
       "stream": "stdout",
       "text": [
        "\n",
        "   345  |  \u001b[94m  0.019233\u001b[0m  |  \u001b[32m  0.026487\u001b[0m  |     0.726135  |             |  0.2s"
       ]
      },
      {
       "output_type": "stream",
       "stream": "stdout",
       "text": [
        "\n",
        "   346  |  \u001b[94m  0.019214\u001b[0m  |  \u001b[32m  0.026483\u001b[0m  |     0.725517  |             |  0.2s"
       ]
      },
      {
       "output_type": "stream",
       "stream": "stdout",
       "text": [
        "\n",
        "   347  |  \u001b[94m  0.019194\u001b[0m  |  \u001b[32m  0.026479\u001b[0m  |     0.724891  |             |  0.2s"
       ]
      },
      {
       "output_type": "stream",
       "stream": "stdout",
       "text": [
        "\n",
        "   348  |  \u001b[94m  0.019174\u001b[0m  |  \u001b[32m  0.026474\u001b[0m  |     0.724272  |             |  0.2s"
       ]
      },
      {
       "output_type": "stream",
       "stream": "stdout",
       "text": [
        "\n",
        "   349  |  \u001b[94m  0.019155\u001b[0m  |  \u001b[32m  0.026469\u001b[0m  |     0.723661  |             |  0.2s"
       ]
      },
      {
       "output_type": "stream",
       "stream": "stdout",
       "text": [
        "\n",
        "   350  |  \u001b[94m  0.019135\u001b[0m  |  \u001b[32m  0.026465\u001b[0m  |     0.723037  |             |  0.2s"
       ]
      },
      {
       "output_type": "stream",
       "stream": "stdout",
       "text": [
        "\n",
        "   351  |  \u001b[94m  0.019116\u001b[0m  |  \u001b[32m  0.026460\u001b[0m  |     0.722422  |             |  0.2s"
       ]
      },
      {
       "output_type": "stream",
       "stream": "stdout",
       "text": [
        "\n",
        "   352  |  \u001b[94m  0.019096\u001b[0m  |  \u001b[32m  0.026456\u001b[0m  |     0.721800  |             |  0.2s"
       ]
      },
      {
       "output_type": "stream",
       "stream": "stdout",
       "text": [
        "\n",
        "   353  |  \u001b[94m  0.019077\u001b[0m  |  \u001b[32m  0.026451\u001b[0m  |     0.721192  |             |  0.2s"
       ]
      },
      {
       "output_type": "stream",
       "stream": "stdout",
       "text": [
        "\n",
        "   354  |  \u001b[94m  0.019057\u001b[0m  |  \u001b[32m  0.026447\u001b[0m  |     0.720576  |             |  0.2s"
       ]
      },
      {
       "output_type": "stream",
       "stream": "stdout",
       "text": [
        "\n",
        "   355  |  \u001b[94m  0.019038\u001b[0m  |  \u001b[32m  0.026443\u001b[0m  |     0.719962  |             |  0.2s"
       ]
      },
      {
       "output_type": "stream",
       "stream": "stdout",
       "text": [
        "\n",
        "   356  |  \u001b[94m  0.019018\u001b[0m  |  \u001b[32m  0.026438\u001b[0m  |     0.719349  |             |  0.2s"
       ]
      },
      {
       "output_type": "stream",
       "stream": "stdout",
       "text": [
        "\n",
        "   357  |  \u001b[94m  0.018999\u001b[0m  |  \u001b[32m  0.026434\u001b[0m  |     0.718735  |             |  0.2s"
       ]
      },
      {
       "output_type": "stream",
       "stream": "stdout",
       "text": [
        "\n",
        "   358  |  \u001b[94m  0.018980\u001b[0m  |  \u001b[32m  0.026429\u001b[0m  |     0.718131  |             |  0.2s"
       ]
      },
      {
       "output_type": "stream",
       "stream": "stdout",
       "text": [
        "\n",
        "   359  |  \u001b[94m  0.018960\u001b[0m  |  \u001b[32m  0.026425\u001b[0m  |     0.717516  |             |  0.2s"
       ]
      },
      {
       "output_type": "stream",
       "stream": "stdout",
       "text": [
        "\n",
        "   360  |  \u001b[94m  0.018941\u001b[0m  |  \u001b[32m  0.026421\u001b[0m  |     0.716902  |             |  0.2s"
       ]
      },
      {
       "output_type": "stream",
       "stream": "stdout",
       "text": [
        "\n",
        "   361  |  \u001b[94m  0.018922\u001b[0m  |  \u001b[32m  0.026416\u001b[0m  |     0.716295  |             |  0.2s"
       ]
      },
      {
       "output_type": "stream",
       "stream": "stdout",
       "text": [
        "\n",
        "   362  |  \u001b[94m  0.018903\u001b[0m  |  \u001b[32m  0.026412\u001b[0m  |     0.715688  |             |  0.2s"
       ]
      },
      {
       "output_type": "stream",
       "stream": "stdout",
       "text": [
        "\n",
        "   363  |  \u001b[94m  0.018883\u001b[0m  |  \u001b[32m  0.026407\u001b[0m  |     0.715083  |             |  0.2s"
       ]
      },
      {
       "output_type": "stream",
       "stream": "stdout",
       "text": [
        "\n",
        "   364  |  \u001b[94m  0.018864\u001b[0m  |  \u001b[32m  0.026403\u001b[0m  |     0.714474  |             |  0.2s"
       ]
      },
      {
       "output_type": "stream",
       "stream": "stdout",
       "text": [
        "\n",
        "   365  |  \u001b[94m  0.018845\u001b[0m  |  \u001b[32m  0.026399\u001b[0m  |     0.713870  |             |  0.2s"
       ]
      },
      {
       "output_type": "stream",
       "stream": "stdout",
       "text": [
        "\n",
        "   366  |  \u001b[94m  0.018826\u001b[0m  |  \u001b[32m  0.026394\u001b[0m  |     0.713261  |             |  0.2s"
       ]
      },
      {
       "output_type": "stream",
       "stream": "stdout",
       "text": [
        "\n",
        "   367  |  \u001b[94m  0.018807\u001b[0m  |  \u001b[32m  0.026390\u001b[0m  |     0.712657  |             |  0.2s"
       ]
      },
      {
       "output_type": "stream",
       "stream": "stdout",
       "text": [
        "\n",
        "   368  |  \u001b[94m  0.018788\u001b[0m  |  \u001b[32m  0.026386\u001b[0m  |     0.712054  |             |  0.2s"
       ]
      },
      {
       "output_type": "stream",
       "stream": "stdout",
       "text": [
        "\n",
        "   369  |  \u001b[94m  0.018769\u001b[0m  |  \u001b[32m  0.026381\u001b[0m  |     0.711452  |             |  0.2s"
       ]
      },
      {
       "output_type": "stream",
       "stream": "stdout",
       "text": [
        "\n",
        "   370  |  \u001b[94m  0.018750\u001b[0m  |  \u001b[32m  0.026377\u001b[0m  |     0.710848  |             |  0.2s"
       ]
      },
      {
       "output_type": "stream",
       "stream": "stdout",
       "text": [
        "\n",
        "   371  |  \u001b[94m  0.018731\u001b[0m  |  \u001b[32m  0.026373\u001b[0m  |     0.710243  |             |  0.2s"
       ]
      },
      {
       "output_type": "stream",
       "stream": "stdout",
       "text": [
        "\n",
        "   372  |  \u001b[94m  0.018712\u001b[0m  |  \u001b[32m  0.026369\u001b[0m  |     0.709643  |             |  0.2s"
       ]
      },
      {
       "output_type": "stream",
       "stream": "stdout",
       "text": [
        "\n",
        "   373  |  \u001b[94m  0.018694\u001b[0m  |  \u001b[32m  0.026365\u001b[0m  |     0.709032  |             |  0.2s"
       ]
      },
      {
       "output_type": "stream",
       "stream": "stdout",
       "text": [
        "\n",
        "   374  |  \u001b[94m  0.018675\u001b[0m  |  \u001b[32m  0.026361\u001b[0m  |     0.708434  |             |  0.2s"
       ]
      },
      {
       "output_type": "stream",
       "stream": "stdout",
       "text": [
        "\n",
        "   375  |  \u001b[94m  0.018656\u001b[0m  |  \u001b[32m  0.026357\u001b[0m  |     0.707831  |             |  0.2s"
       ]
      },
      {
       "output_type": "stream",
       "stream": "stdout",
       "text": [
        "\n",
        "   376  |  \u001b[94m  0.018637\u001b[0m  |  \u001b[32m  0.026352\u001b[0m  |     0.707235  |             |  0.2s"
       ]
      },
      {
       "output_type": "stream",
       "stream": "stdout",
       "text": [
        "\n",
        "   377  |  \u001b[94m  0.018619\u001b[0m  |  \u001b[32m  0.026348\u001b[0m  |     0.706631  |             |  0.2s"
       ]
      },
      {
       "output_type": "stream",
       "stream": "stdout",
       "text": [
        "\n",
        "   378  |  \u001b[94m  0.018600\u001b[0m  |  \u001b[32m  0.026344\u001b[0m  |     0.706034  |             |  0.2s"
       ]
      },
      {
       "output_type": "stream",
       "stream": "stdout",
       "text": [
        "\n",
        "   379  |  \u001b[94m  0.018581\u001b[0m  |  \u001b[32m  0.026340\u001b[0m  |     0.705436  |             |  0.2s"
       ]
      },
      {
       "output_type": "stream",
       "stream": "stdout",
       "text": [
        "\n",
        "   380  |  \u001b[94m  0.018563\u001b[0m  |  \u001b[32m  0.026336\u001b[0m  |     0.704831  |             |  0.2s"
       ]
      },
      {
       "output_type": "stream",
       "stream": "stdout",
       "text": [
        "\n",
        "   381  |  \u001b[94m  0.018544\u001b[0m  |  \u001b[32m  0.026332\u001b[0m  |     0.704241  |             |  0.2s"
       ]
      },
      {
       "output_type": "stream",
       "stream": "stdout",
       "text": [
        "\n",
        "   382  |  \u001b[94m  0.018525\u001b[0m  |  \u001b[32m  0.026328\u001b[0m  |     0.703644  |             |  0.2s"
       ]
      },
      {
       "output_type": "stream",
       "stream": "stdout",
       "text": [
        "\n",
        "   383  |  \u001b[94m  0.018507\u001b[0m  |  \u001b[32m  0.026324\u001b[0m  |     0.703050  |             |  0.2s"
       ]
      },
      {
       "output_type": "stream",
       "stream": "stdout",
       "text": [
        "\n",
        "   384  |  \u001b[94m  0.018488\u001b[0m  |  \u001b[32m  0.026320\u001b[0m  |     0.702454  |             |  0.2s"
       ]
      },
      {
       "output_type": "stream",
       "stream": "stdout",
       "text": [
        "\n",
        "   385  |  \u001b[94m  0.018470\u001b[0m  |  \u001b[32m  0.026316\u001b[0m  |     0.701857  |             |  0.2s"
       ]
      },
      {
       "output_type": "stream",
       "stream": "stdout",
       "text": [
        "\n",
        "   386  |  \u001b[94m  0.018451\u001b[0m  |  \u001b[32m  0.026312\u001b[0m  |     0.701258  |             |  0.2s"
       ]
      },
      {
       "output_type": "stream",
       "stream": "stdout",
       "text": [
        "\n",
        "   387  |  \u001b[94m  0.018433\u001b[0m  |  \u001b[32m  0.026308\u001b[0m  |     0.700669  |             |  0.2s"
       ]
      },
      {
       "output_type": "stream",
       "stream": "stdout",
       "text": [
        "\n",
        "   388  |  \u001b[94m  0.018415\u001b[0m  |  \u001b[32m  0.026304\u001b[0m  |     0.700071  |             |  0.2s"
       ]
      },
      {
       "output_type": "stream",
       "stream": "stdout",
       "text": [
        "\n",
        "   389  |  \u001b[94m  0.018396\u001b[0m  |  \u001b[32m  0.026300\u001b[0m  |     0.699476  |             |  0.2s"
       ]
      },
      {
       "output_type": "stream",
       "stream": "stdout",
       "text": [
        "\n",
        "   390  |  \u001b[94m  0.018378\u001b[0m  |  \u001b[32m  0.026296\u001b[0m  |     0.698883  |             |  0.2s"
       ]
      },
      {
       "output_type": "stream",
       "stream": "stdout",
       "text": [
        "\n",
        "   391  |  \u001b[94m  0.018360\u001b[0m  |  \u001b[32m  0.026292\u001b[0m  |     0.698287  |             |  0.2s"
       ]
      },
      {
       "output_type": "stream",
       "stream": "stdout",
       "text": [
        "\n",
        "   392  |  \u001b[94m  0.018341\u001b[0m  |  \u001b[32m  0.026288\u001b[0m  |     0.697698  |             |  0.2s"
       ]
      },
      {
       "output_type": "stream",
       "stream": "stdout",
       "text": [
        "\n",
        "   393  |  \u001b[94m  0.018323\u001b[0m  |  \u001b[32m  0.026285\u001b[0m  |     0.697104  |             |  0.2s"
       ]
      },
      {
       "output_type": "stream",
       "stream": "stdout",
       "text": [
        "\n",
        "   394  |  \u001b[94m  0.018305\u001b[0m  |  \u001b[32m  0.026281\u001b[0m  |     0.696510  |             |  0.2s"
       ]
      },
      {
       "output_type": "stream",
       "stream": "stdout",
       "text": [
        "\n",
        "   395  |  \u001b[94m  0.018287\u001b[0m  |  \u001b[32m  0.026277\u001b[0m  |     0.695924  |             |  0.2s"
       ]
      },
      {
       "output_type": "stream",
       "stream": "stdout",
       "text": [
        "\n",
        "   396  |  \u001b[94m  0.018269\u001b[0m  |  \u001b[32m  0.026273\u001b[0m  |     0.695332  |             |  0.2s"
       ]
      },
      {
       "output_type": "stream",
       "stream": "stdout",
       "text": [
        "\n",
        "   397  |  \u001b[94m  0.018251\u001b[0m  |  \u001b[32m  0.026270\u001b[0m  |     0.694745  |             |  0.2s"
       ]
      },
      {
       "output_type": "stream",
       "stream": "stdout",
       "text": [
        "\n",
        "   398  |  \u001b[94m  0.018233\u001b[0m  |  \u001b[32m  0.026266\u001b[0m  |     0.694161  |             |  0.2s"
       ]
      },
      {
       "output_type": "stream",
       "stream": "stdout",
       "text": [
        "\n",
        "   399  |  \u001b[94m  0.018215\u001b[0m  |  \u001b[32m  0.026262\u001b[0m  |     0.693571  |             |  0.2s"
       ]
      },
      {
       "output_type": "stream",
       "stream": "stdout",
       "text": [
        "\n",
        "   400  |  \u001b[94m  0.018197\u001b[0m  |  \u001b[32m  0.026258\u001b[0m  |     0.692983  |             |  0.2s"
       ]
      },
      {
       "output_type": "stream",
       "stream": "stdout",
       "text": [
        "\n",
        "   401  |  \u001b[94m  0.018179\u001b[0m  |  \u001b[32m  0.026254\u001b[0m  |     0.692401  |             |  0.2s"
       ]
      },
      {
       "output_type": "stream",
       "stream": "stdout",
       "text": [
        "\n",
        "   402  |  \u001b[94m  0.018161\u001b[0m  |  \u001b[32m  0.026251\u001b[0m  |     0.691813  |             |  0.2s"
       ]
      },
      {
       "output_type": "stream",
       "stream": "stdout",
       "text": [
        "\n",
        "   403  |  \u001b[94m  0.018143\u001b[0m  |  \u001b[32m  0.026247\u001b[0m  |     0.691224  |             |  0.2s"
       ]
      },
      {
       "output_type": "stream",
       "stream": "stdout",
       "text": [
        "\n",
        "   404  |  \u001b[94m  0.018125\u001b[0m  |  \u001b[32m  0.026243\u001b[0m  |     0.690646  |             |  0.2s"
       ]
      },
      {
       "output_type": "stream",
       "stream": "stdout",
       "text": [
        "\n",
        "   405  |  \u001b[94m  0.018107\u001b[0m  |  \u001b[32m  0.026240\u001b[0m  |     0.690056  |             |  0.2s"
       ]
      },
      {
       "output_type": "stream",
       "stream": "stdout",
       "text": [
        "\n",
        "   406  |  \u001b[94m  0.018089\u001b[0m  |  \u001b[32m  0.026236\u001b[0m  |     0.689472  |             |  0.2s"
       ]
      },
      {
       "output_type": "stream",
       "stream": "stdout",
       "text": [
        "\n",
        "   407  |  \u001b[94m  0.018071\u001b[0m  |  \u001b[32m  0.026233\u001b[0m  |     0.688885  |             |  0.2s"
       ]
      },
      {
       "output_type": "stream",
       "stream": "stdout",
       "text": [
        "\n",
        "   408  |  \u001b[94m  0.018054\u001b[0m  |  \u001b[32m  0.026229\u001b[0m  |     0.688306  |             |  0.2s"
       ]
      },
      {
       "output_type": "stream",
       "stream": "stdout",
       "text": [
        "\n",
        "   409  |  \u001b[94m  0.018036\u001b[0m  |  \u001b[32m  0.026225\u001b[0m  |     0.687723  |             |  0.2s"
       ]
      },
      {
       "output_type": "stream",
       "stream": "stdout",
       "text": [
        "\n",
        "   410  |  \u001b[94m  0.018018\u001b[0m  |  \u001b[32m  0.026222\u001b[0m  |     0.687139  |             |  0.2s"
       ]
      },
      {
       "output_type": "stream",
       "stream": "stdout",
       "text": [
        "\n",
        "   411  |  \u001b[94m  0.018000\u001b[0m  |  \u001b[32m  0.026218\u001b[0m  |     0.686562  |             |  0.2s"
       ]
      },
      {
       "output_type": "stream",
       "stream": "stdout",
       "text": [
        "\n",
        "   412  |  \u001b[94m  0.017983\u001b[0m  |  \u001b[32m  0.026215\u001b[0m  |     0.685974  |             |  0.2s"
       ]
      },
      {
       "output_type": "stream",
       "stream": "stdout",
       "text": [
        "\n",
        "   413  |  \u001b[94m  0.017965\u001b[0m  |  \u001b[32m  0.026211\u001b[0m  |     0.685403  |             |  0.2s"
       ]
      },
      {
       "output_type": "stream",
       "stream": "stdout",
       "text": [
        "\n",
        "   414  |  \u001b[94m  0.017948\u001b[0m  |  \u001b[32m  0.026208\u001b[0m  |     0.684821  |             |  0.2s"
       ]
      },
      {
       "output_type": "stream",
       "stream": "stdout",
       "text": [
        "\n",
        "   415  |  \u001b[94m  0.017930\u001b[0m  |  \u001b[32m  0.026204\u001b[0m  |     0.684244  |             |  0.2s"
       ]
      },
      {
       "output_type": "stream",
       "stream": "stdout",
       "text": [
        "\n",
        "   416  |  \u001b[94m  0.017912\u001b[0m  |  \u001b[32m  0.026200\u001b[0m  |     0.683669  |             |  0.2s"
       ]
      },
      {
       "output_type": "stream",
       "stream": "stdout",
       "text": [
        "\n",
        "   417  |  \u001b[94m  0.017895\u001b[0m  |  \u001b[32m  0.026197\u001b[0m  |     0.683086  |             |  0.2s"
       ]
      },
      {
       "output_type": "stream",
       "stream": "stdout",
       "text": [
        "\n",
        "   418  |  \u001b[94m  0.017877\u001b[0m  |  \u001b[32m  0.026194\u001b[0m  |     0.682509  |             |  0.2s"
       ]
      },
      {
       "output_type": "stream",
       "stream": "stdout",
       "text": [
        "\n",
        "   419  |  \u001b[94m  0.017860\u001b[0m  |  \u001b[32m  0.026190\u001b[0m  |     0.681931  |             |  0.2s"
       ]
      },
      {
       "output_type": "stream",
       "stream": "stdout",
       "text": [
        "\n",
        "   420  |  \u001b[94m  0.017843\u001b[0m  |  \u001b[32m  0.026187\u001b[0m  |     0.681350  |             |  0.2s"
       ]
      },
      {
       "output_type": "stream",
       "stream": "stdout",
       "text": [
        "\n",
        "   421  |  \u001b[94m  0.017825\u001b[0m  |  \u001b[32m  0.026184\u001b[0m  |     0.680777  |             |  0.2s"
       ]
      },
      {
       "output_type": "stream",
       "stream": "stdout",
       "text": [
        "\n",
        "   422  |  \u001b[94m  0.017808\u001b[0m  |  \u001b[32m  0.026180\u001b[0m  |     0.680200  |             |  0.2s"
       ]
      },
      {
       "output_type": "stream",
       "stream": "stdout",
       "text": [
        "\n",
        "   423  |  \u001b[94m  0.017791\u001b[0m  |  \u001b[32m  0.026177\u001b[0m  |     0.679631  |             |  0.2s"
       ]
      },
      {
       "output_type": "stream",
       "stream": "stdout",
       "text": [
        "\n",
        "   424  |  \u001b[94m  0.017773\u001b[0m  |  \u001b[32m  0.026174\u001b[0m  |     0.679052  |             |  0.2s"
       ]
      },
      {
       "output_type": "stream",
       "stream": "stdout",
       "text": [
        "\n",
        "   425  |  \u001b[94m  0.017756\u001b[0m  |  \u001b[32m  0.026171\u001b[0m  |     0.678473  |             |  0.2s"
       ]
      },
      {
       "output_type": "stream",
       "stream": "stdout",
       "text": [
        "\n",
        "   426  |  \u001b[94m  0.017739\u001b[0m  |  \u001b[32m  0.026167\u001b[0m  |     0.677898  |             |  0.2s"
       ]
      },
      {
       "output_type": "stream",
       "stream": "stdout",
       "text": [
        "\n",
        "   427  |  \u001b[94m  0.017722\u001b[0m  |  \u001b[32m  0.026164\u001b[0m  |     0.677328  |             |  0.2s"
       ]
      },
      {
       "output_type": "stream",
       "stream": "stdout",
       "text": [
        "\n",
        "   428  |  \u001b[94m  0.017704\u001b[0m  |  \u001b[32m  0.026161\u001b[0m  |     0.676753  |             |  0.2s"
       ]
      },
      {
       "output_type": "stream",
       "stream": "stdout",
       "text": [
        "\n",
        "   429  |  \u001b[94m  0.017687\u001b[0m  |  \u001b[32m  0.026158\u001b[0m  |     0.676178  |             |  0.2s"
       ]
      },
      {
       "output_type": "stream",
       "stream": "stdout",
       "text": [
        "\n",
        "   430  |  \u001b[94m  0.017670\u001b[0m  |  \u001b[32m  0.026154\u001b[0m  |     0.675602  |             |  0.2s"
       ]
      },
      {
       "output_type": "stream",
       "stream": "stdout",
       "text": [
        "\n",
        "   431  |  \u001b[94m  0.017653\u001b[0m  |  \u001b[32m  0.026151\u001b[0m  |     0.675029  |             |  0.2s"
       ]
      },
      {
       "output_type": "stream",
       "stream": "stdout",
       "text": [
        "\n",
        "   432  |  \u001b[94m  0.017636\u001b[0m  |  \u001b[32m  0.026148\u001b[0m  |     0.674451  |             |  0.2s"
       ]
      },
      {
       "output_type": "stream",
       "stream": "stdout",
       "text": [
        "\n",
        "   433  |  \u001b[94m  0.017619\u001b[0m  |  \u001b[32m  0.026145\u001b[0m  |     0.673876  |             |  0.2s"
       ]
      },
      {
       "output_type": "stream",
       "stream": "stdout",
       "text": [
        "\n",
        "   434  |  \u001b[94m  0.017602\u001b[0m  |  \u001b[32m  0.026143\u001b[0m  |     0.673295  |             |  0.2s"
       ]
      },
      {
       "output_type": "stream",
       "stream": "stdout",
       "text": [
        "\n",
        "   435  |  \u001b[94m  0.017585\u001b[0m  |  \u001b[32m  0.026139\u001b[0m  |     0.672726  |             |  0.2s"
       ]
      },
      {
       "output_type": "stream",
       "stream": "stdout",
       "text": [
        "\n",
        "   436  |  \u001b[94m  0.017568\u001b[0m  |  \u001b[32m  0.026137\u001b[0m  |     0.672149  |             |  0.2s"
       ]
      },
      {
       "output_type": "stream",
       "stream": "stdout",
       "text": [
        "\n",
        "   437  |  \u001b[94m  0.017551\u001b[0m  |  \u001b[32m  0.026134\u001b[0m  |     0.671578  |             |  0.2s"
       ]
      },
      {
       "output_type": "stream",
       "stream": "stdout",
       "text": [
        "\n",
        "   438  |  \u001b[94m  0.017534\u001b[0m  |  \u001b[32m  0.026131\u001b[0m  |     0.671003  |             |  0.2s"
       ]
      },
      {
       "output_type": "stream",
       "stream": "stdout",
       "text": [
        "\n",
        "   439  |  \u001b[94m  0.017517\u001b[0m  |  \u001b[32m  0.026128\u001b[0m  |     0.670438  |             |  0.2s"
       ]
      },
      {
       "output_type": "stream",
       "stream": "stdout",
       "text": [
        "\n",
        "   440  |  \u001b[94m  0.017500\u001b[0m  |  \u001b[32m  0.026125\u001b[0m  |     0.669865  |             |  0.2s"
       ]
      },
      {
       "output_type": "stream",
       "stream": "stdout",
       "text": [
        "\n",
        "   441  |  \u001b[94m  0.017483\u001b[0m  |  \u001b[32m  0.026122\u001b[0m  |     0.669287  |             |  0.2s"
       ]
      },
      {
       "output_type": "stream",
       "stream": "stdout",
       "text": [
        "\n",
        "   442  |  \u001b[94m  0.017466\u001b[0m  |  \u001b[32m  0.026119\u001b[0m  |     0.668723  |             |  0.2s"
       ]
      },
      {
       "output_type": "stream",
       "stream": "stdout",
       "text": [
        "\n",
        "   443  |  \u001b[94m  0.017450\u001b[0m  |  \u001b[32m  0.026116\u001b[0m  |     0.668154  |             |  0.2s"
       ]
      },
      {
       "output_type": "stream",
       "stream": "stdout",
       "text": [
        "\n",
        "   444  |  \u001b[94m  0.017433\u001b[0m  |  \u001b[32m  0.026114\u001b[0m  |     0.667581  |             |  0.2s"
       ]
      },
      {
       "output_type": "stream",
       "stream": "stdout",
       "text": [
        "\n",
        "   445  |  \u001b[94m  0.017416\u001b[0m  |  \u001b[32m  0.026111\u001b[0m  |     0.667016  |             |  0.2s"
       ]
      },
      {
       "output_type": "stream",
       "stream": "stdout",
       "text": [
        "\n",
        "   446  |  \u001b[94m  0.017400\u001b[0m  |  \u001b[32m  0.026108\u001b[0m  |     0.666448  |             |  0.2s"
       ]
      },
      {
       "output_type": "stream",
       "stream": "stdout",
       "text": [
        "\n",
        "   447  |  \u001b[94m  0.017383\u001b[0m  |  \u001b[32m  0.026105\u001b[0m  |     0.665885  |             |  0.2s"
       ]
      },
      {
       "output_type": "stream",
       "stream": "stdout",
       "text": [
        "\n",
        "   448  |  \u001b[94m  0.017366\u001b[0m  |  \u001b[32m  0.026102\u001b[0m  |     0.665326  |             |  0.2s"
       ]
      },
      {
       "output_type": "stream",
       "stream": "stdout",
       "text": [
        "\n",
        "   449  |  \u001b[94m  0.017350\u001b[0m  |  \u001b[32m  0.026099\u001b[0m  |     0.664762  |             |  0.2s"
       ]
      },
      {
       "output_type": "stream",
       "stream": "stdout",
       "text": [
        "\n",
        "   450  |  \u001b[94m  0.017333\u001b[0m  |  \u001b[32m  0.026096\u001b[0m  |     0.664203  |             |  0.2s"
       ]
      },
      {
       "output_type": "stream",
       "stream": "stdout",
       "text": [
        "\n",
        "   451  |  \u001b[94m  0.017317\u001b[0m  |  \u001b[32m  0.026094\u001b[0m  |     0.663639  |             |  0.2s"
       ]
      },
      {
       "output_type": "stream",
       "stream": "stdout",
       "text": [
        "\n",
        "   452  |  \u001b[94m  0.017300\u001b[0m  |  \u001b[32m  0.026091\u001b[0m  |     0.663077  |             |  0.2s"
       ]
      },
      {
       "output_type": "stream",
       "stream": "stdout",
       "text": [
        "\n",
        "   453  |  \u001b[94m  0.017284\u001b[0m  |  \u001b[32m  0.026088\u001b[0m  |     0.662518  |             |  0.2s"
       ]
      },
      {
       "output_type": "stream",
       "stream": "stdout",
       "text": [
        "\n",
        "   454  |  \u001b[94m  0.017267\u001b[0m  |  \u001b[32m  0.026085\u001b[0m  |     0.661953  |             |  0.2s"
       ]
      },
      {
       "output_type": "stream",
       "stream": "stdout",
       "text": [
        "\n",
        "   455  |  \u001b[94m  0.017251\u001b[0m  |  \u001b[32m  0.026082\u001b[0m  |     0.661397  |             |  0.2s"
       ]
      },
      {
       "output_type": "stream",
       "stream": "stdout",
       "text": [
        "\n",
        "   456  |  \u001b[94m  0.017234\u001b[0m  |  \u001b[32m  0.026080\u001b[0m  |     0.660836  |             |  0.2s"
       ]
      },
      {
       "output_type": "stream",
       "stream": "stdout",
       "text": [
        "\n",
        "   457  |  \u001b[94m  0.017218\u001b[0m  |  \u001b[32m  0.026077\u001b[0m  |     0.660278  |             |  0.2s"
       ]
      },
      {
       "output_type": "stream",
       "stream": "stdout",
       "text": [
        "\n",
        "   458  |  \u001b[94m  0.017202\u001b[0m  |  \u001b[32m  0.026074\u001b[0m  |     0.659721  |             |  0.2s"
       ]
      },
      {
       "output_type": "stream",
       "stream": "stdout",
       "text": [
        "\n",
        "   459  |  \u001b[94m  0.017185\u001b[0m  |  \u001b[32m  0.026072\u001b[0m  |     0.659161  |             |  0.2s"
       ]
      },
      {
       "output_type": "stream",
       "stream": "stdout",
       "text": [
        "\n",
        "   460  |  \u001b[94m  0.017169\u001b[0m  |  \u001b[32m  0.026069\u001b[0m  |     0.658597  |             |  0.2s"
       ]
      },
      {
       "output_type": "stream",
       "stream": "stdout",
       "text": [
        "\n",
        "   461  |  \u001b[94m  0.017153\u001b[0m  |  \u001b[32m  0.026066\u001b[0m  |     0.658044  |             |  0.2s"
       ]
      },
      {
       "output_type": "stream",
       "stream": "stdout",
       "text": [
        "\n",
        "   462  |  \u001b[94m  0.017137\u001b[0m  |  \u001b[32m  0.026064\u001b[0m  |     0.657483  |             |  0.2s"
       ]
      },
      {
       "output_type": "stream",
       "stream": "stdout",
       "text": [
        "\n",
        "   463  |  \u001b[94m  0.017120\u001b[0m  |  \u001b[32m  0.026061\u001b[0m  |     0.656928  |             |  0.2s"
       ]
      },
      {
       "output_type": "stream",
       "stream": "stdout",
       "text": [
        "\n",
        "   464  |  \u001b[94m  0.017104\u001b[0m  |  \u001b[32m  0.026059\u001b[0m  |     0.656364  |             |  0.2s"
       ]
      },
      {
       "output_type": "stream",
       "stream": "stdout",
       "text": [
        "\n",
        "   465  |  \u001b[94m  0.017088\u001b[0m  |  \u001b[32m  0.026056\u001b[0m  |     0.655815  |             |  0.2s"
       ]
      },
      {
       "output_type": "stream",
       "stream": "stdout",
       "text": [
        "\n",
        "   466  |  \u001b[94m  0.017072\u001b[0m  |  \u001b[32m  0.026054\u001b[0m  |     0.655247  |             |  0.2s"
       ]
      },
      {
       "output_type": "stream",
       "stream": "stdout",
       "text": [
        "\n",
        "   467  |  \u001b[94m  0.017056\u001b[0m  |  \u001b[32m  0.026051\u001b[0m  |     0.654691  |             |  0.2s"
       ]
      },
      {
       "output_type": "stream",
       "stream": "stdout",
       "text": [
        "\n",
        "   468  |  \u001b[94m  0.017039\u001b[0m  |  \u001b[32m  0.026049\u001b[0m  |     0.654129  |             |  0.2s"
       ]
      },
      {
       "output_type": "stream",
       "stream": "stdout",
       "text": [
        "\n",
        "   469  |  \u001b[94m  0.017023\u001b[0m  |  \u001b[32m  0.026047\u001b[0m  |     0.653575  |             |  0.2s"
       ]
      },
      {
       "output_type": "stream",
       "stream": "stdout",
       "text": [
        "\n",
        "   470  |  \u001b[94m  0.017007\u001b[0m  |  \u001b[32m  0.026044\u001b[0m  |     0.653019  |             |  0.2s"
       ]
      },
      {
       "output_type": "stream",
       "stream": "stdout",
       "text": [
        "\n",
        "   471  |  \u001b[94m  0.016991\u001b[0m  |  \u001b[32m  0.026042\u001b[0m  |     0.652465  |             |  0.2s"
       ]
      },
      {
       "output_type": "stream",
       "stream": "stdout",
       "text": [
        "\n",
        "   472  |  \u001b[94m  0.016975\u001b[0m  |  \u001b[32m  0.026039\u001b[0m  |     0.651907  |             |  0.2s"
       ]
      },
      {
       "output_type": "stream",
       "stream": "stdout",
       "text": [
        "\n",
        "   473  |  \u001b[94m  0.016959\u001b[0m  |  \u001b[32m  0.026037\u001b[0m  |     0.651353  |             |  0.2s"
       ]
      },
      {
       "output_type": "stream",
       "stream": "stdout",
       "text": [
        "\n",
        "   474  |  \u001b[94m  0.016943\u001b[0m  |  \u001b[32m  0.026035\u001b[0m  |     0.650801  |             |  0.2s"
       ]
      },
      {
       "output_type": "stream",
       "stream": "stdout",
       "text": [
        "\n",
        "   475  |  \u001b[94m  0.016927\u001b[0m  |  \u001b[32m  0.026032\u001b[0m  |     0.650241  |             |  0.2s"
       ]
      },
      {
       "output_type": "stream",
       "stream": "stdout",
       "text": [
        "\n",
        "   476  |  \u001b[94m  0.016912\u001b[0m  |  \u001b[32m  0.026030\u001b[0m  |     0.649691  |             |  0.2s"
       ]
      },
      {
       "output_type": "stream",
       "stream": "stdout",
       "text": [
        "\n",
        "   477  |  \u001b[94m  0.016896\u001b[0m  |  \u001b[32m  0.026028\u001b[0m  |     0.649141  |             |  0.2s"
       ]
      },
      {
       "output_type": "stream",
       "stream": "stdout",
       "text": [
        "\n",
        "   478  |  \u001b[94m  0.016880\u001b[0m  |  \u001b[32m  0.026026\u001b[0m  |     0.648582  |             |  0.2s"
       ]
      },
      {
       "output_type": "stream",
       "stream": "stdout",
       "text": [
        "\n",
        "   479  |  \u001b[94m  0.016864\u001b[0m  |  \u001b[32m  0.026023\u001b[0m  |     0.648031  |             |  0.2s"
       ]
      },
      {
       "output_type": "stream",
       "stream": "stdout",
       "text": [
        "\n",
        "   480  |  \u001b[94m  0.016848\u001b[0m  |  \u001b[32m  0.026021\u001b[0m  |     0.647479  |             |  0.2s"
       ]
      },
      {
       "output_type": "stream",
       "stream": "stdout",
       "text": [
        "\n",
        "   481  |  \u001b[94m  0.016832\u001b[0m  |  \u001b[32m  0.026019\u001b[0m  |     0.646923  |             |  0.2s"
       ]
      },
      {
       "output_type": "stream",
       "stream": "stdout",
       "text": [
        "\n",
        "   482  |  \u001b[94m  0.016817\u001b[0m  |  \u001b[32m  0.026017\u001b[0m  |     0.646375  |             |  0.2s"
       ]
      },
      {
       "output_type": "stream",
       "stream": "stdout",
       "text": [
        "\n",
        "   483  |  \u001b[94m  0.016801\u001b[0m  |  \u001b[32m  0.026014\u001b[0m  |     0.645828  |             |  0.2s"
       ]
      },
      {
       "output_type": "stream",
       "stream": "stdout",
       "text": [
        "\n",
        "   484  |  \u001b[94m  0.016785\u001b[0m  |  \u001b[32m  0.026012\u001b[0m  |     0.645270  |             |  0.2s"
       ]
      },
      {
       "output_type": "stream",
       "stream": "stdout",
       "text": [
        "\n",
        "   485  |  \u001b[94m  0.016769\u001b[0m  |  \u001b[32m  0.026010\u001b[0m  |     0.644725  |             |  0.2s"
       ]
      },
      {
       "output_type": "stream",
       "stream": "stdout",
       "text": [
        "\n",
        "   486  |  \u001b[94m  0.016754\u001b[0m  |  \u001b[32m  0.026008\u001b[0m  |     0.644177  |             |  0.2s"
       ]
      },
      {
       "output_type": "stream",
       "stream": "stdout",
       "text": [
        "\n",
        "   487  |  \u001b[94m  0.016738\u001b[0m  |  \u001b[32m  0.026006\u001b[0m  |     0.643627  |             |  0.2s"
       ]
      },
      {
       "output_type": "stream",
       "stream": "stdout",
       "text": [
        "\n",
        "   488  |  \u001b[94m  0.016722\u001b[0m  |  \u001b[32m  0.026004\u001b[0m  |     0.643082  |             |  0.2s"
       ]
      },
      {
       "output_type": "stream",
       "stream": "stdout",
       "text": [
        "\n",
        "   489  |  \u001b[94m  0.016707\u001b[0m  |  \u001b[32m  0.026002\u001b[0m  |     0.642532  |             |  0.2s"
       ]
      },
      {
       "output_type": "stream",
       "stream": "stdout",
       "text": [
        "\n",
        "   490  |  \u001b[94m  0.016691\u001b[0m  |  \u001b[32m  0.026000\u001b[0m  |     0.641982  |             |  0.2s"
       ]
      },
      {
       "output_type": "stream",
       "stream": "stdout",
       "text": [
        "\n",
        "   491  |  \u001b[94m  0.016676\u001b[0m  |  \u001b[32m  0.025997\u001b[0m  |     0.641444  |             |  0.2s"
       ]
      },
      {
       "output_type": "stream",
       "stream": "stdout",
       "text": [
        "\n",
        "   492  |  \u001b[94m  0.016660\u001b[0m  |  \u001b[32m  0.025995\u001b[0m  |     0.640893  |             |  0.2s"
       ]
      },
      {
       "output_type": "stream",
       "stream": "stdout",
       "text": [
        "\n",
        "   493  |  \u001b[94m  0.016645\u001b[0m  |  \u001b[32m  0.025993\u001b[0m  |     0.640352  |             |  0.2s"
       ]
      },
      {
       "output_type": "stream",
       "stream": "stdout",
       "text": [
        "\n",
        "   494  |  \u001b[94m  0.016629\u001b[0m  |  \u001b[32m  0.025991\u001b[0m  |     0.639803  |             |  0.2s"
       ]
      },
      {
       "output_type": "stream",
       "stream": "stdout",
       "text": [
        "\n",
        "   495  |  \u001b[94m  0.016614\u001b[0m  |  \u001b[32m  0.025989\u001b[0m  |     0.639261  |             |  0.2s"
       ]
      },
      {
       "output_type": "stream",
       "stream": "stdout",
       "text": [
        "\n",
        "   496  |  \u001b[94m  0.016599\u001b[0m  |  \u001b[32m  0.025987\u001b[0m  |     0.638723  |             |  0.2s"
       ]
      },
      {
       "output_type": "stream",
       "stream": "stdout",
       "text": [
        "\n",
        "   497  |  \u001b[94m  0.016583\u001b[0m  |  \u001b[32m  0.025985\u001b[0m  |     0.638184  |             |  0.2s"
       ]
      },
      {
       "output_type": "stream",
       "stream": "stdout",
       "text": [
        "\n",
        "   498  |  \u001b[94m  0.016568\u001b[0m  |  \u001b[32m  0.025983\u001b[0m  |     0.637637  |             |  0.2s"
       ]
      },
      {
       "output_type": "stream",
       "stream": "stdout",
       "text": [
        "\n",
        "   499  |  \u001b[94m  0.016552\u001b[0m  |  \u001b[32m  0.025981\u001b[0m  |     0.637089  |             |  0.2s"
       ]
      },
      {
       "output_type": "stream",
       "stream": "stdout",
       "text": [
        "\n",
        "   500  |  \u001b[94m  0.016537\u001b[0m  |  \u001b[32m  0.025979\u001b[0m  |     0.636556  |             |  0.2s"
       ]
      },
      {
       "output_type": "stream",
       "stream": "stdout",
       "text": [
        "\n",
        "   501  |  \u001b[94m  0.016522\u001b[0m  |  \u001b[32m  0.025977\u001b[0m  |     0.636012  |             |  0.2s"
       ]
      },
      {
       "output_type": "stream",
       "stream": "stdout",
       "text": [
        "\n",
        "   502  |  \u001b[94m  0.016507\u001b[0m  |  \u001b[32m  0.025975\u001b[0m  |     0.635478  |             |  0.2s"
       ]
      },
      {
       "output_type": "stream",
       "stream": "stdout",
       "text": [
        "\n",
        "   503  |  \u001b[94m  0.016491\u001b[0m  |  \u001b[32m  0.025974\u001b[0m  |     0.634925  |             |  0.2s"
       ]
      },
      {
       "output_type": "stream",
       "stream": "stdout",
       "text": [
        "\n",
        "   504  |  \u001b[94m  0.016476\u001b[0m  |  \u001b[32m  0.025972\u001b[0m  |     0.634386  |             |  0.2s"
       ]
      },
      {
       "output_type": "stream",
       "stream": "stdout",
       "text": [
        "\n",
        "   505  |  \u001b[94m  0.016461\u001b[0m  |  \u001b[32m  0.025970\u001b[0m  |     0.633845  |             |  0.2s"
       ]
      },
      {
       "output_type": "stream",
       "stream": "stdout",
       "text": [
        "\n",
        "   506  |  \u001b[94m  0.016446\u001b[0m  |  \u001b[32m  0.025968\u001b[0m  |     0.633305  |             |  0.2s"
       ]
      },
      {
       "output_type": "stream",
       "stream": "stdout",
       "text": [
        "\n",
        "   507  |  \u001b[94m  0.016431\u001b[0m  |  \u001b[32m  0.025966\u001b[0m  |     0.632763  |             |  0.2s"
       ]
      },
      {
       "output_type": "stream",
       "stream": "stdout",
       "text": [
        "\n",
        "   508  |  \u001b[94m  0.016415\u001b[0m  |  \u001b[32m  0.025965\u001b[0m  |     0.632222  |             |  0.2s"
       ]
      },
      {
       "output_type": "stream",
       "stream": "stdout",
       "text": [
        "\n",
        "   509  |  \u001b[94m  0.016400\u001b[0m  |  \u001b[32m  0.025963\u001b[0m  |     0.631687  |             |  0.2s"
       ]
      },
      {
       "output_type": "stream",
       "stream": "stdout",
       "text": [
        "\n",
        "   510  |  \u001b[94m  0.016385\u001b[0m  |  \u001b[32m  0.025961\u001b[0m  |     0.631145  |             |  0.2s"
       ]
      },
      {
       "output_type": "stream",
       "stream": "stdout",
       "text": [
        "\n",
        "   511  |  \u001b[94m  0.016370\u001b[0m  |  \u001b[32m  0.025959\u001b[0m  |     0.630606  |             |  0.2s"
       ]
      },
      {
       "output_type": "stream",
       "stream": "stdout",
       "text": [
        "\n",
        "   512  |  \u001b[94m  0.016355\u001b[0m  |  \u001b[32m  0.025958\u001b[0m  |     0.630062  |             |  0.2s"
       ]
      },
      {
       "output_type": "stream",
       "stream": "stdout",
       "text": [
        "\n",
        "   513  |  \u001b[94m  0.016340\u001b[0m  |  \u001b[32m  0.025956\u001b[0m  |     0.629526  |             |  0.2s"
       ]
      },
      {
       "output_type": "stream",
       "stream": "stdout",
       "text": [
        "\n",
        "   514  |  \u001b[94m  0.016325\u001b[0m  |  \u001b[32m  0.025955\u001b[0m  |     0.628985  |             |  0.2s"
       ]
      },
      {
       "output_type": "stream",
       "stream": "stdout",
       "text": [
        "\n",
        "   515  |  \u001b[94m  0.016310\u001b[0m  |  \u001b[32m  0.025953\u001b[0m  |     0.628450  |             |  0.2s"
       ]
      },
      {
       "output_type": "stream",
       "stream": "stdout",
       "text": [
        "\n",
        "   516  |  \u001b[94m  0.016295\u001b[0m  |  \u001b[32m  0.025951\u001b[0m  |     0.627916  |             |  0.2s"
       ]
      },
      {
       "output_type": "stream",
       "stream": "stdout",
       "text": [
        "\n",
        "   517  |  \u001b[94m  0.016280\u001b[0m  |  \u001b[32m  0.025949\u001b[0m  |     0.627381  |             |  0.2s"
       ]
      },
      {
       "output_type": "stream",
       "stream": "stdout",
       "text": [
        "\n",
        "   518  |  \u001b[94m  0.016265\u001b[0m  |  \u001b[32m  0.025948\u001b[0m  |     0.626842  |             |  0.2s"
       ]
      },
      {
       "output_type": "stream",
       "stream": "stdout",
       "text": [
        "\n",
        "   519  |  \u001b[94m  0.016250\u001b[0m  |  \u001b[32m  0.025946\u001b[0m  |     0.626309  |             |  0.2s"
       ]
      },
      {
       "output_type": "stream",
       "stream": "stdout",
       "text": [
        "\n",
        "   520  |  \u001b[94m  0.016235\u001b[0m  |  \u001b[32m  0.025944\u001b[0m  |     0.625775  |             |  0.2s"
       ]
      },
      {
       "output_type": "stream",
       "stream": "stdout",
       "text": [
        "\n",
        "   521  |  \u001b[94m  0.016221\u001b[0m  |  \u001b[32m  0.025943\u001b[0m  |     0.625244  |             |  0.2s"
       ]
      },
      {
       "output_type": "stream",
       "stream": "stdout",
       "text": [
        "\n",
        "   522  |  \u001b[94m  0.016206\u001b[0m  |  \u001b[32m  0.025941\u001b[0m  |     0.624712  |             |  0.2s"
       ]
      },
      {
       "output_type": "stream",
       "stream": "stdout",
       "text": [
        "\n",
        "   523  |  \u001b[94m  0.016191\u001b[0m  |  \u001b[32m  0.025940\u001b[0m  |     0.624179  |             |  0.2s"
       ]
      },
      {
       "output_type": "stream",
       "stream": "stdout",
       "text": [
        "\n",
        "   524  |  \u001b[94m  0.016176\u001b[0m  |  \u001b[32m  0.025938\u001b[0m  |     0.623648  |             |  0.2s"
       ]
      },
      {
       "output_type": "stream",
       "stream": "stdout",
       "text": [
        "\n",
        "   525  |  \u001b[94m  0.016161\u001b[0m  |  \u001b[32m  0.025937\u001b[0m  |     0.623113  |             |  0.2s"
       ]
      },
      {
       "output_type": "stream",
       "stream": "stdout",
       "text": [
        "\n",
        "   526  |  \u001b[94m  0.016147\u001b[0m  |  \u001b[32m  0.025935\u001b[0m  |     0.622585  |             |  0.2s"
       ]
      },
      {
       "output_type": "stream",
       "stream": "stdout",
       "text": [
        "\n",
        "   527  |  \u001b[94m  0.016132\u001b[0m  |  \u001b[32m  0.025933\u001b[0m  |     0.622053  |             |  0.2s"
       ]
      },
      {
       "output_type": "stream",
       "stream": "stdout",
       "text": [
        "\n",
        "   528  |  \u001b[94m  0.016117\u001b[0m  |  \u001b[32m  0.025932\u001b[0m  |     0.621526  |             |  0.2s"
       ]
      },
      {
       "output_type": "stream",
       "stream": "stdout",
       "text": [
        "\n",
        "   529  |  \u001b[94m  0.016103\u001b[0m  |  \u001b[32m  0.025930\u001b[0m  |     0.620993  |             |  0.2s"
       ]
      },
      {
       "output_type": "stream",
       "stream": "stdout",
       "text": [
        "\n",
        "   530  |  \u001b[94m  0.016088\u001b[0m  |  \u001b[32m  0.025929\u001b[0m  |     0.620465  |             |  0.2s"
       ]
      },
      {
       "output_type": "stream",
       "stream": "stdout",
       "text": [
        "\n",
        "   531  |  \u001b[94m  0.016073\u001b[0m  |  \u001b[32m  0.025927\u001b[0m  |     0.619937  |             |  0.2s"
       ]
      },
      {
       "output_type": "stream",
       "stream": "stdout",
       "text": [
        "\n",
        "   532  |  \u001b[94m  0.016059\u001b[0m  |  \u001b[32m  0.025926\u001b[0m  |     0.619408  |             |  0.2s"
       ]
      },
      {
       "output_type": "stream",
       "stream": "stdout",
       "text": [
        "\n",
        "   533  |  \u001b[94m  0.016044\u001b[0m  |  \u001b[32m  0.025925\u001b[0m  |     0.618877  |             |  0.2s"
       ]
      },
      {
       "output_type": "stream",
       "stream": "stdout",
       "text": [
        "\n",
        "   534  |  \u001b[94m  0.016030\u001b[0m  |  \u001b[32m  0.025923\u001b[0m  |     0.618342  |             |  0.2s"
       ]
      },
      {
       "output_type": "stream",
       "stream": "stdout",
       "text": [
        "\n",
        "   535  |  \u001b[94m  0.016015\u001b[0m  |  \u001b[32m  0.025922\u001b[0m  |     0.617813  |             |  0.2s"
       ]
      },
      {
       "output_type": "stream",
       "stream": "stdout",
       "text": [
        "\n",
        "   536  |  \u001b[94m  0.016000\u001b[0m  |  \u001b[32m  0.025921\u001b[0m  |     0.617285  |             |  0.2s"
       ]
      },
      {
       "output_type": "stream",
       "stream": "stdout",
       "text": [
        "\n",
        "   537  |  \u001b[94m  0.015986\u001b[0m  |  \u001b[32m  0.025919\u001b[0m  |     0.616761  |             |  0.2s"
       ]
      },
      {
       "output_type": "stream",
       "stream": "stdout",
       "text": [
        "\n",
        "   538  |  \u001b[94m  0.015971\u001b[0m  |  \u001b[32m  0.025918\u001b[0m  |     0.616234  |             |  0.2s"
       ]
      },
      {
       "output_type": "stream",
       "stream": "stdout",
       "text": [
        "\n",
        "   539  |  \u001b[94m  0.015957\u001b[0m  |  \u001b[32m  0.025916\u001b[0m  |     0.615704  |             |  0.2s"
       ]
      },
      {
       "output_type": "stream",
       "stream": "stdout",
       "text": [
        "\n",
        "   540  |  \u001b[94m  0.015942\u001b[0m  |  \u001b[32m  0.025915\u001b[0m  |     0.615179  |             |  0.2s"
       ]
      },
      {
       "output_type": "stream",
       "stream": "stdout",
       "text": [
        "\n",
        "   541  |  \u001b[94m  0.015928\u001b[0m  |  \u001b[32m  0.025914\u001b[0m  |     0.614653  |             |  0.2s"
       ]
      },
      {
       "output_type": "stream",
       "stream": "stdout",
       "text": [
        "\n",
        "   542  |  \u001b[94m  0.015913\u001b[0m  |  \u001b[32m  0.025912\u001b[0m  |     0.614130  |             |  0.2s"
       ]
      },
      {
       "output_type": "stream",
       "stream": "stdout",
       "text": [
        "\n",
        "   543  |  \u001b[94m  0.015899\u001b[0m  |  \u001b[32m  0.025911\u001b[0m  |     0.613598  |             |  0.2s"
       ]
      },
      {
       "output_type": "stream",
       "stream": "stdout",
       "text": [
        "\n",
        "   544  |  \u001b[94m  0.015885\u001b[0m  |  \u001b[32m  0.025910\u001b[0m  |     0.613081  |             |  0.2s"
       ]
      },
      {
       "output_type": "stream",
       "stream": "stdout",
       "text": [
        "\n",
        "   545  |  \u001b[94m  0.015870\u001b[0m  |  \u001b[32m  0.025908\u001b[0m  |     0.612553  |             |  0.2s"
       ]
      },
      {
       "output_type": "stream",
       "stream": "stdout",
       "text": [
        "\n",
        "   546  |  \u001b[94m  0.015856\u001b[0m  |  \u001b[32m  0.025907\u001b[0m  |     0.612025  |             |  0.2s"
       ]
      },
      {
       "output_type": "stream",
       "stream": "stdout",
       "text": [
        "\n",
        "   547  |  \u001b[94m  0.015842\u001b[0m  |  \u001b[32m  0.025906\u001b[0m  |     0.611506  |             |  0.2s"
       ]
      },
      {
       "output_type": "stream",
       "stream": "stdout",
       "text": [
        "\n",
        "   548  |  \u001b[94m  0.015827\u001b[0m  |  \u001b[32m  0.025904\u001b[0m  |     0.610992  |             |  0.2s"
       ]
      },
      {
       "output_type": "stream",
       "stream": "stdout",
       "text": [
        "\n",
        "   549  |  \u001b[94m  0.015813\u001b[0m  |  \u001b[32m  0.025903\u001b[0m  |     0.610463  |             |  0.2s"
       ]
      },
      {
       "output_type": "stream",
       "stream": "stdout",
       "text": [
        "\n",
        "   550  |  \u001b[94m  0.015799\u001b[0m  |  \u001b[32m  0.025902\u001b[0m  |     0.609942  |             |  0.2s"
       ]
      },
      {
       "output_type": "stream",
       "stream": "stdout",
       "text": [
        "\n",
        "   551  |  \u001b[94m  0.015784\u001b[0m  |  \u001b[32m  0.025901\u001b[0m  |     0.609414  |             |  0.2s"
       ]
      },
      {
       "output_type": "stream",
       "stream": "stdout",
       "text": [
        "\n",
        "   552  |  \u001b[94m  0.015770\u001b[0m  |  \u001b[32m  0.025900\u001b[0m  |     0.608899  |             |  0.2s"
       ]
      },
      {
       "output_type": "stream",
       "stream": "stdout",
       "text": [
        "\n",
        "   553  |  \u001b[94m  0.015756\u001b[0m  |  \u001b[32m  0.025898\u001b[0m  |     0.608377  |             |  0.2s"
       ]
      },
      {
       "output_type": "stream",
       "stream": "stdout",
       "text": [
        "\n",
        "   554  |  \u001b[94m  0.015742\u001b[0m  |  \u001b[32m  0.025897\u001b[0m  |     0.607857  |             |  0.2s"
       ]
      },
      {
       "output_type": "stream",
       "stream": "stdout",
       "text": [
        "\n",
        "   555  |  \u001b[94m  0.015728\u001b[0m  |  \u001b[32m  0.025896\u001b[0m  |     0.607337  |             |  0.2s"
       ]
      },
      {
       "output_type": "stream",
       "stream": "stdout",
       "text": [
        "\n",
        "   556  |  \u001b[94m  0.015713\u001b[0m  |  \u001b[32m  0.025895\u001b[0m  |     0.606818  |             |  0.2s"
       ]
      },
      {
       "output_type": "stream",
       "stream": "stdout",
       "text": [
        "\n",
        "   557  |  \u001b[94m  0.015699\u001b[0m  |  \u001b[32m  0.025894\u001b[0m  |     0.606293  |             |  0.2s"
       ]
      },
      {
       "output_type": "stream",
       "stream": "stdout",
       "text": [
        "\n",
        "   558  |  \u001b[94m  0.015685\u001b[0m  |  \u001b[32m  0.025893\u001b[0m  |     0.605778  |             |  0.2s"
       ]
      },
      {
       "output_type": "stream",
       "stream": "stdout",
       "text": [
        "\n",
        "   559  |  \u001b[94m  0.015671\u001b[0m  |  \u001b[32m  0.025892\u001b[0m  |     0.605255  |             |  0.2s"
       ]
      },
      {
       "output_type": "stream",
       "stream": "stdout",
       "text": [
        "\n",
        "   560  |  \u001b[94m  0.015657\u001b[0m  |  \u001b[32m  0.025891\u001b[0m  |     0.604740  |             |  0.2s"
       ]
      },
      {
       "output_type": "stream",
       "stream": "stdout",
       "text": [
        "\n",
        "   561  |  \u001b[94m  0.015643\u001b[0m  |  \u001b[32m  0.025889\u001b[0m  |     0.604226  |             |  0.2s"
       ]
      },
      {
       "output_type": "stream",
       "stream": "stdout",
       "text": [
        "\n",
        "   562  |  \u001b[94m  0.015629\u001b[0m  |  \u001b[32m  0.025889\u001b[0m  |     0.603701  |             |  0.2s"
       ]
      },
      {
       "output_type": "stream",
       "stream": "stdout",
       "text": [
        "\n",
        "   563  |  \u001b[94m  0.015615\u001b[0m  |  \u001b[32m  0.025887\u001b[0m  |     0.603188  |             |  0.2s"
       ]
      },
      {
       "output_type": "stream",
       "stream": "stdout",
       "text": [
        "\n",
        "   564  |  \u001b[94m  0.015601\u001b[0m  |  \u001b[32m  0.025886\u001b[0m  |     0.602674  |             |  0.2s"
       ]
      },
      {
       "output_type": "stream",
       "stream": "stdout",
       "text": [
        "\n",
        "   565  |  \u001b[94m  0.015587\u001b[0m  |  \u001b[32m  0.025885\u001b[0m  |     0.602158  |             |  0.2s"
       ]
      },
      {
       "output_type": "stream",
       "stream": "stdout",
       "text": [
        "\n",
        "   566  |  \u001b[94m  0.015573\u001b[0m  |  \u001b[32m  0.025884\u001b[0m  |     0.601644  |             |  0.2s"
       ]
      },
      {
       "output_type": "stream",
       "stream": "stdout",
       "text": [
        "\n",
        "   567  |  \u001b[94m  0.015559\u001b[0m  |  \u001b[32m  0.025883\u001b[0m  |     0.601135  |             |  0.2s"
       ]
      },
      {
       "output_type": "stream",
       "stream": "stdout",
       "text": [
        "\n",
        "   568  |  \u001b[94m  0.015545\u001b[0m  |  \u001b[32m  0.025882\u001b[0m  |     0.600613  |             |  0.2s"
       ]
      },
      {
       "output_type": "stream",
       "stream": "stdout",
       "text": [
        "\n",
        "   569  |  \u001b[94m  0.015531\u001b[0m  |  \u001b[32m  0.025881\u001b[0m  |     0.600101  |             |  0.2s"
       ]
      },
      {
       "output_type": "stream",
       "stream": "stdout",
       "text": [
        "\n",
        "   570  |  \u001b[94m  0.015518\u001b[0m  |  \u001b[32m  0.025880\u001b[0m  |     0.599591  |             |  0.2s"
       ]
      },
      {
       "output_type": "stream",
       "stream": "stdout",
       "text": [
        "\n",
        "   571  |  \u001b[94m  0.015504\u001b[0m  |  \u001b[32m  0.025879\u001b[0m  |     0.599080  |             |  0.2s"
       ]
      },
      {
       "output_type": "stream",
       "stream": "stdout",
       "text": [
        "\n",
        "   572  |  \u001b[94m  0.015490\u001b[0m  |  \u001b[32m  0.025879\u001b[0m  |     0.598571  |             |  0.2s"
       ]
      },
      {
       "output_type": "stream",
       "stream": "stdout",
       "text": [
        "\n",
        "   573  |  \u001b[94m  0.015476\u001b[0m  |  \u001b[32m  0.025877\u001b[0m  |     0.598063  |             |  0.2s"
       ]
      },
      {
       "output_type": "stream",
       "stream": "stdout",
       "text": [
        "\n",
        "   574  |  \u001b[94m  0.015463\u001b[0m  |  \u001b[32m  0.025877\u001b[0m  |     0.597544  |             |  0.2s"
       ]
      },
      {
       "output_type": "stream",
       "stream": "stdout",
       "text": [
        "\n",
        "   575  |  \u001b[94m  0.015449\u001b[0m  |  \u001b[32m  0.025876\u001b[0m  |     0.597034  |             |  0.2s"
       ]
      },
      {
       "output_type": "stream",
       "stream": "stdout",
       "text": [
        "\n",
        "   576  |  \u001b[94m  0.015435\u001b[0m  |  \u001b[32m  0.025875\u001b[0m  |     0.596526  |             |  0.2s"
       ]
      },
      {
       "output_type": "stream",
       "stream": "stdout",
       "text": [
        "\n",
        "   577  |  \u001b[94m  0.015421\u001b[0m  |  \u001b[32m  0.025874\u001b[0m  |     0.596022  |             |  0.2s"
       ]
      },
      {
       "output_type": "stream",
       "stream": "stdout",
       "text": [
        "\n",
        "   578  |  \u001b[94m  0.015408\u001b[0m  |  \u001b[32m  0.025873\u001b[0m  |     0.595509  |             |  0.2s"
       ]
      },
      {
       "output_type": "stream",
       "stream": "stdout",
       "text": [
        "\n",
        "   579  |  \u001b[94m  0.015394\u001b[0m  |  \u001b[32m  0.025873\u001b[0m  |     0.594996  |             |  0.2s"
       ]
      },
      {
       "output_type": "stream",
       "stream": "stdout",
       "text": [
        "\n",
        "   580  |  \u001b[94m  0.015380\u001b[0m  |  \u001b[32m  0.025872\u001b[0m  |     0.594489  |             |  0.2s"
       ]
      },
      {
       "output_type": "stream",
       "stream": "stdout",
       "text": [
        "\n",
        "   581  |  \u001b[94m  0.015367\u001b[0m  |  \u001b[32m  0.025871\u001b[0m  |     0.593980  |             |  0.2s"
       ]
      },
      {
       "output_type": "stream",
       "stream": "stdout",
       "text": [
        "\n",
        "   582  |  \u001b[94m  0.015353\u001b[0m  |  \u001b[32m  0.025870\u001b[0m  |     0.593471  |             |  0.2s"
       ]
      },
      {
       "output_type": "stream",
       "stream": "stdout",
       "text": [
        "\n",
        "   583  |  \u001b[94m  0.015340\u001b[0m  |  \u001b[32m  0.025869\u001b[0m  |     0.592963  |             |  0.2s"
       ]
      },
      {
       "output_type": "stream",
       "stream": "stdout",
       "text": [
        "\n",
        "   584  |  \u001b[94m  0.015326\u001b[0m  |  \u001b[32m  0.025869\u001b[0m  |     0.592455  |             |  0.2s"
       ]
      },
      {
       "output_type": "stream",
       "stream": "stdout",
       "text": [
        "\n",
        "   585  |  \u001b[94m  0.015312\u001b[0m  |  \u001b[32m  0.025868\u001b[0m  |     0.591949  |             |  0.2s"
       ]
      },
      {
       "output_type": "stream",
       "stream": "stdout",
       "text": [
        "\n",
        "   586  |  \u001b[94m  0.015299\u001b[0m  |  \u001b[32m  0.025867\u001b[0m  |     0.591439  |             |  0.2s"
       ]
      },
      {
       "output_type": "stream",
       "stream": "stdout",
       "text": [
        "\n",
        "   587  |  \u001b[94m  0.015285\u001b[0m  |  \u001b[32m  0.025866\u001b[0m  |     0.590930  |             |  0.2s"
       ]
      },
      {
       "output_type": "stream",
       "stream": "stdout",
       "text": [
        "\n",
        "   588  |  \u001b[94m  0.015272\u001b[0m  |  \u001b[32m  0.025866\u001b[0m  |     0.590426  |             |  0.2s"
       ]
      },
      {
       "output_type": "stream",
       "stream": "stdout",
       "text": [
        "\n",
        "   589  |  \u001b[94m  0.015258\u001b[0m  |  \u001b[32m  0.025865\u001b[0m  |     0.589918  |             |  0.2s"
       ]
      },
      {
       "output_type": "stream",
       "stream": "stdout",
       "text": [
        "\n",
        "   590  |  \u001b[94m  0.015245\u001b[0m  |  \u001b[32m  0.025864\u001b[0m  |     0.589413  |             |  0.2s"
       ]
      },
      {
       "output_type": "stream",
       "stream": "stdout",
       "text": [
        "\n",
        "   591  |  \u001b[94m  0.015231\u001b[0m  |  \u001b[32m  0.025864\u001b[0m  |     0.588907  |             |  0.2s"
       ]
      },
      {
       "output_type": "stream",
       "stream": "stdout",
       "text": [
        "\n",
        "   592  |  \u001b[94m  0.015218\u001b[0m  |  \u001b[32m  0.025863\u001b[0m  |     0.588398  |             |  0.2s"
       ]
      },
      {
       "output_type": "stream",
       "stream": "stdout",
       "text": [
        "\n",
        "   593  |  \u001b[94m  0.015204\u001b[0m  |  \u001b[32m  0.025862\u001b[0m  |     0.587900  |             |  0.2s"
       ]
      },
      {
       "output_type": "stream",
       "stream": "stdout",
       "text": [
        "\n",
        "   594  |  \u001b[94m  0.015191\u001b[0m  |  \u001b[32m  0.025861\u001b[0m  |     0.587402  |             |  0.2s"
       ]
      },
      {
       "output_type": "stream",
       "stream": "stdout",
       "text": [
        "\n",
        "   595  |  \u001b[94m  0.015178\u001b[0m  |  \u001b[32m  0.025861\u001b[0m  |     0.586889  |             |  0.2s"
       ]
      },
      {
       "output_type": "stream",
       "stream": "stdout",
       "text": [
        "\n",
        "   596  |  \u001b[94m  0.015164\u001b[0m  |  \u001b[32m  0.025860\u001b[0m  |     0.586394  |             |  0.2s"
       ]
      },
      {
       "output_type": "stream",
       "stream": "stdout",
       "text": [
        "\n",
        "   597  |  \u001b[94m  0.015151\u001b[0m  |  \u001b[32m  0.025860\u001b[0m  |     0.585888  |             |  0.2s"
       ]
      },
      {
       "output_type": "stream",
       "stream": "stdout",
       "text": [
        "\n",
        "   598  |  \u001b[94m  0.015138\u001b[0m  |  \u001b[32m  0.025859\u001b[0m  |     0.585386  |             |  0.2s"
       ]
      },
      {
       "output_type": "stream",
       "stream": "stdout",
       "text": [
        "\n",
        "   599  |  \u001b[94m  0.015124\u001b[0m  |  \u001b[32m  0.025858\u001b[0m  |     0.584887  |             |  0.2s"
       ]
      },
      {
       "output_type": "stream",
       "stream": "stdout",
       "text": [
        "\n",
        "   600  |  \u001b[94m  0.015111\u001b[0m  |  \u001b[32m  0.025858\u001b[0m  |     0.584383  |             |  0.2s"
       ]
      },
      {
       "output_type": "stream",
       "stream": "stdout",
       "text": [
        "\n",
        "   601  |  \u001b[94m  0.015098\u001b[0m  |  \u001b[32m  0.025857\u001b[0m  |     0.583881  |             |  0.2s"
       ]
      },
      {
       "output_type": "stream",
       "stream": "stdout",
       "text": [
        "\n",
        "   602  |  \u001b[94m  0.015084\u001b[0m  |  \u001b[32m  0.025857\u001b[0m  |     0.583385  |             |  0.2s"
       ]
      },
      {
       "output_type": "stream",
       "stream": "stdout",
       "text": [
        "\n",
        "   603  |  \u001b[94m  0.015071\u001b[0m  |  \u001b[32m  0.025856\u001b[0m  |     0.582886  |             |  0.2s"
       ]
      },
      {
       "output_type": "stream",
       "stream": "stdout",
       "text": [
        "\n",
        "   604  |  \u001b[94m  0.015058\u001b[0m  |  \u001b[32m  0.025855\u001b[0m  |     0.582389  |             |  0.2s"
       ]
      },
      {
       "output_type": "stream",
       "stream": "stdout",
       "text": [
        "\n",
        "   605  |  \u001b[94m  0.015045\u001b[0m  |  \u001b[32m  0.025855\u001b[0m  |     0.581889  |             |  0.2s"
       ]
      },
      {
       "output_type": "stream",
       "stream": "stdout",
       "text": [
        "\n",
        "   606  |  \u001b[94m  0.015031\u001b[0m  |  \u001b[32m  0.025854\u001b[0m  |     0.581393  |             |  0.2s"
       ]
      },
      {
       "output_type": "stream",
       "stream": "stdout",
       "text": [
        "\n",
        "   607  |  \u001b[94m  0.015018\u001b[0m  |  \u001b[32m  0.025854\u001b[0m  |     0.580890  |             |  0.2s"
       ]
      },
      {
       "output_type": "stream",
       "stream": "stdout",
       "text": [
        "\n",
        "   608  |  \u001b[94m  0.015005\u001b[0m  |  \u001b[32m  0.025853\u001b[0m  |     0.580393  |             |  0.2s"
       ]
      },
      {
       "output_type": "stream",
       "stream": "stdout",
       "text": [
        "\n",
        "   609  |  \u001b[94m  0.014992\u001b[0m  |  \u001b[32m  0.025853\u001b[0m  |     0.579888  |             |  0.2s"
       ]
      },
      {
       "output_type": "stream",
       "stream": "stdout",
       "text": [
        "\n",
        "   610  |  \u001b[94m  0.014979\u001b[0m  |  \u001b[32m  0.025853\u001b[0m  |     0.579390  |             |  0.2s"
       ]
      },
      {
       "output_type": "stream",
       "stream": "stdout",
       "text": [
        "\n",
        "   611  |  \u001b[94m  0.014966\u001b[0m  |  \u001b[32m  0.025852\u001b[0m  |     0.578887  |             |  0.2s"
       ]
      },
      {
       "output_type": "stream",
       "stream": "stdout",
       "text": [
        "\n",
        "   612  |  \u001b[94m  0.014953\u001b[0m  |  \u001b[32m  0.025852\u001b[0m  |     0.578395  |             |  0.2s"
       ]
      },
      {
       "output_type": "stream",
       "stream": "stdout",
       "text": [
        "\n",
        "   613  |  \u001b[94m  0.014939\u001b[0m  |  \u001b[32m  0.025851\u001b[0m  |     0.577902  |             |  0.2s"
       ]
      },
      {
       "output_type": "stream",
       "stream": "stdout",
       "text": [
        "\n",
        "   614  |  \u001b[94m  0.014926\u001b[0m  |  \u001b[32m  0.025850\u001b[0m  |     0.577411  |             |  0.2s"
       ]
      },
      {
       "output_type": "stream",
       "stream": "stdout",
       "text": [
        "\n",
        "   615  |  \u001b[94m  0.014913\u001b[0m  |    0.025850  |     0.576901  |             |  0.2s"
       ]
      },
      {
       "output_type": "stream",
       "stream": "stdout",
       "text": [
        "\n",
        "   616  |  \u001b[94m  0.014900\u001b[0m  |  \u001b[32m  0.025850\u001b[0m  |     0.576406  |             |  0.2s"
       ]
      },
      {
       "output_type": "stream",
       "stream": "stdout",
       "text": [
        "\n",
        "   617  |  \u001b[94m  0.014887\u001b[0m  |  \u001b[32m  0.025849\u001b[0m  |     0.575914  |             |  0.2s"
       ]
      },
      {
       "output_type": "stream",
       "stream": "stdout",
       "text": [
        "\n",
        "   618  |  \u001b[94m  0.014874\u001b[0m  |  \u001b[32m  0.025849\u001b[0m  |     0.575419  |             |  0.2s"
       ]
      },
      {
       "output_type": "stream",
       "stream": "stdout",
       "text": [
        "\n",
        "   619  |  \u001b[94m  0.014861\u001b[0m  |  \u001b[32m  0.025849\u001b[0m  |     0.574923  |             |  0.2s"
       ]
      },
      {
       "output_type": "stream",
       "stream": "stdout",
       "text": [
        "\n",
        "   620  |  \u001b[94m  0.014848\u001b[0m  |  \u001b[32m  0.025848\u001b[0m  |     0.574426  |             |  0.2s"
       ]
      },
      {
       "output_type": "stream",
       "stream": "stdout",
       "text": [
        "\n",
        "   621  |  \u001b[94m  0.014835\u001b[0m  |  \u001b[32m  0.025848\u001b[0m  |     0.573939  |             |  0.2s"
       ]
      },
      {
       "output_type": "stream",
       "stream": "stdout",
       "text": [
        "\n",
        "   622  |  \u001b[94m  0.014822\u001b[0m  |  \u001b[32m  0.025847\u001b[0m  |     0.573451  |             |  0.2s"
       ]
      },
      {
       "output_type": "stream",
       "stream": "stdout",
       "text": [
        "\n",
        "   623  |  \u001b[94m  0.014809\u001b[0m  |  \u001b[32m  0.025847\u001b[0m  |     0.572954  |             |  0.2s"
       ]
      },
      {
       "output_type": "stream",
       "stream": "stdout",
       "text": [
        "\n",
        "   624  |  \u001b[94m  0.014796\u001b[0m  |  \u001b[32m  0.025847\u001b[0m  |     0.572459  |             |  0.2s"
       ]
      },
      {
       "output_type": "stream",
       "stream": "stdout",
       "text": [
        "\n",
        "   625  |  \u001b[94m  0.014783\u001b[0m  |  \u001b[32m  0.025846\u001b[0m  |     0.571970  |             |  0.2s"
       ]
      },
      {
       "output_type": "stream",
       "stream": "stdout",
       "text": [
        "\n",
        "   626  |  \u001b[94m  0.014770\u001b[0m  |  \u001b[32m  0.025846\u001b[0m  |     0.571477  |             |  0.2s"
       ]
      },
      {
       "output_type": "stream",
       "stream": "stdout",
       "text": [
        "\n",
        "   627  |  \u001b[94m  0.014757\u001b[0m  |  \u001b[32m  0.025845\u001b[0m  |     0.570992  |             |  0.2s"
       ]
      },
      {
       "output_type": "stream",
       "stream": "stdout",
       "text": [
        "\n",
        "   628  |  \u001b[94m  0.014745\u001b[0m  |  \u001b[32m  0.025845\u001b[0m  |     0.570500  |             |  0.2s"
       ]
      },
      {
       "output_type": "stream",
       "stream": "stdout",
       "text": [
        "\n",
        "   629  |  \u001b[94m  0.014732\u001b[0m  |  \u001b[32m  0.025845\u001b[0m  |     0.570007  |             |  0.2s"
       ]
      },
      {
       "output_type": "stream",
       "stream": "stdout",
       "text": [
        "\n",
        "   630  |  \u001b[94m  0.014719\u001b[0m  |  \u001b[32m  0.025844\u001b[0m  |     0.569525  |             |  0.2s"
       ]
      },
      {
       "output_type": "stream",
       "stream": "stdout",
       "text": [
        "\n",
        "   631  |  \u001b[94m  0.014706\u001b[0m  |  \u001b[32m  0.025844\u001b[0m  |     0.569031  |             |  0.2s"
       ]
      },
      {
       "output_type": "stream",
       "stream": "stdout",
       "text": [
        "\n",
        "   632  |  \u001b[94m  0.014693\u001b[0m  |  \u001b[32m  0.025844\u001b[0m  |     0.568541  |             |  0.2s"
       ]
      },
      {
       "output_type": "stream",
       "stream": "stdout",
       "text": [
        "\n",
        "   633  |  \u001b[94m  0.014680\u001b[0m  |  \u001b[32m  0.025843\u001b[0m  |     0.568055  |             |  0.2s"
       ]
      },
      {
       "output_type": "stream",
       "stream": "stdout",
       "text": [
        "\n",
        "   634  |  \u001b[94m  0.014668\u001b[0m  |  \u001b[32m  0.025843\u001b[0m  |     0.567570  |             |  0.2s"
       ]
      },
      {
       "output_type": "stream",
       "stream": "stdout",
       "text": [
        "\n",
        "   635  |  \u001b[94m  0.014655\u001b[0m  |  \u001b[32m  0.025843\u001b[0m  |     0.567079  |             |  0.2s"
       ]
      },
      {
       "output_type": "stream",
       "stream": "stdout",
       "text": [
        "\n",
        "   636  |  \u001b[94m  0.014642\u001b[0m  |  \u001b[32m  0.025843\u001b[0m  |     0.566597  |             |  0.2s"
       ]
      },
      {
       "output_type": "stream",
       "stream": "stdout",
       "text": [
        "\n",
        "   637  |  \u001b[94m  0.014630\u001b[0m  |    0.025843  |     0.566105  |             |  0.2s"
       ]
      },
      {
       "output_type": "stream",
       "stream": "stdout",
       "text": [
        "\n",
        "   638  |  \u001b[94m  0.014617\u001b[0m  |  \u001b[32m  0.025842\u001b[0m  |     0.565630  |             |  0.2s"
       ]
      },
      {
       "output_type": "stream",
       "stream": "stdout",
       "text": [
        "\n",
        "   639  |  \u001b[94m  0.014604\u001b[0m  |  \u001b[32m  0.025842\u001b[0m  |     0.565140  |             |  0.2s"
       ]
      },
      {
       "output_type": "stream",
       "stream": "stdout",
       "text": [
        "\n",
        "   640  |  \u001b[94m  0.014592\u001b[0m  |  \u001b[32m  0.025842\u001b[0m  |     0.564652  |             |  0.2s"
       ]
      },
      {
       "output_type": "stream",
       "stream": "stdout",
       "text": [
        "\n",
        "   641  |  \u001b[94m  0.014579\u001b[0m  |  \u001b[32m  0.025841\u001b[0m  |     0.564174  |             |  0.2s"
       ]
      },
      {
       "output_type": "stream",
       "stream": "stdout",
       "text": [
        "\n",
        "   642  |  \u001b[94m  0.014566\u001b[0m  |  \u001b[32m  0.025841\u001b[0m  |     0.563688  |             |  0.2s"
       ]
      },
      {
       "output_type": "stream",
       "stream": "stdout",
       "text": [
        "\n",
        "   643  |  \u001b[94m  0.014554\u001b[0m  |  \u001b[32m  0.025841\u001b[0m  |     0.563211  |             |  0.2s"
       ]
      },
      {
       "output_type": "stream",
       "stream": "stdout",
       "text": [
        "\n",
        "   644  |  \u001b[94m  0.014541\u001b[0m  |  \u001b[32m  0.025841\u001b[0m  |     0.562729  |             |  0.2s"
       ]
      },
      {
       "output_type": "stream",
       "stream": "stdout",
       "text": [
        "\n",
        "   645  |  \u001b[94m  0.014529\u001b[0m  |  \u001b[32m  0.025841\u001b[0m  |     0.562243  |             |  0.2s"
       ]
      },
      {
       "output_type": "stream",
       "stream": "stdout",
       "text": [
        "\n",
        "   646  |  \u001b[94m  0.014516\u001b[0m  |  \u001b[32m  0.025840\u001b[0m  |     0.561764  |             |  0.2s"
       ]
      },
      {
       "output_type": "stream",
       "stream": "stdout",
       "text": [
        "\n",
        "   647  |  \u001b[94m  0.014504\u001b[0m  |  \u001b[32m  0.025840\u001b[0m  |     0.561281  |             |  0.2s"
       ]
      },
      {
       "output_type": "stream",
       "stream": "stdout",
       "text": [
        "\n",
        "   648  |  \u001b[94m  0.014491\u001b[0m  |  \u001b[32m  0.025840\u001b[0m  |     0.560800  |             |  0.2s"
       ]
      },
      {
       "output_type": "stream",
       "stream": "stdout",
       "text": [
        "\n",
        "   649  |  \u001b[94m  0.014479\u001b[0m  |  \u001b[32m  0.025840\u001b[0m  |     0.560322  |             |  0.2s"
       ]
      },
      {
       "output_type": "stream",
       "stream": "stdout",
       "text": [
        "\n",
        "   650  |  \u001b[94m  0.014466\u001b[0m  |    0.025840  |     0.559838  |             |  0.2s"
       ]
      },
      {
       "output_type": "stream",
       "stream": "stdout",
       "text": [
        "\n",
        "   651  |  \u001b[94m  0.014454\u001b[0m  |  \u001b[32m  0.025840\u001b[0m  |     0.559361  |             |  0.2s"
       ]
      },
      {
       "output_type": "stream",
       "stream": "stdout",
       "text": [
        "\n",
        "   652  |  \u001b[94m  0.014441\u001b[0m  |  \u001b[32m  0.025839\u001b[0m  |     0.558882  |             |  0.2s"
       ]
      },
      {
       "output_type": "stream",
       "stream": "stdout",
       "text": [
        "\n",
        "   653  |  \u001b[94m  0.014429\u001b[0m  |  \u001b[32m  0.025839\u001b[0m  |     0.558403  |             |  0.2s"
       ]
      },
      {
       "output_type": "stream",
       "stream": "stdout",
       "text": [
        "\n",
        "   654  |  \u001b[94m  0.014416\u001b[0m  |    0.025840  |     0.557918  |             |  0.2s"
       ]
      },
      {
       "output_type": "stream",
       "stream": "stdout",
       "text": [
        "\n",
        "   655  |  \u001b[94m  0.014404\u001b[0m  |  \u001b[32m  0.025839\u001b[0m  |     0.557450  |             |  0.2s"
       ]
      },
      {
       "output_type": "stream",
       "stream": "stdout",
       "text": [
        "\n",
        "   656  |  \u001b[94m  0.014392\u001b[0m  |    0.025839  |     0.556967  |             |  0.2s"
       ]
      },
      {
       "output_type": "stream",
       "stream": "stdout",
       "text": [
        "\n",
        "   657  |  \u001b[94m  0.014379\u001b[0m  |    0.025839  |     0.556493  |             |  0.2s"
       ]
      },
      {
       "output_type": "stream",
       "stream": "stdout",
       "text": [
        "\n",
        "   658  |  \u001b[94m  0.014367\u001b[0m  |    0.025839  |     0.556016  |             |  0.2s"
       ]
      },
      {
       "output_type": "stream",
       "stream": "stdout",
       "text": [
        "\n",
        "   659  |  \u001b[94m  0.014355\u001b[0m  |    0.025839  |     0.555532  |             |  0.2s"
       ]
      },
      {
       "output_type": "stream",
       "stream": "stdout",
       "text": [
        "\n",
        "   660  |  \u001b[94m  0.014342\u001b[0m  |  \u001b[32m  0.025839\u001b[0m  |     0.555064  |             |  0.2s"
       ]
      },
      {
       "output_type": "stream",
       "stream": "stdout",
       "text": [
        "\n",
        "   661  |  \u001b[94m  0.014330\u001b[0m  |    0.025839  |     0.554589  |             |  0.2s"
       ]
      },
      {
       "output_type": "stream",
       "stream": "stdout",
       "text": [
        "\n",
        "   662  |  \u001b[94m  0.014318\u001b[0m  |  \u001b[32m  0.025839\u001b[0m  |     0.554117  |             |  0.2s"
       ]
      },
      {
       "output_type": "stream",
       "stream": "stdout",
       "text": [
        "\n",
        "   663  |  \u001b[94m  0.014306\u001b[0m  |    0.025839  |     0.553636  |             |  0.2s"
       ]
      },
      {
       "output_type": "stream",
       "stream": "stdout",
       "text": [
        "\n",
        "   664  |  \u001b[94m  0.014293\u001b[0m  |    0.025839  |     0.553159  |             |  0.2s"
       ]
      },
      {
       "output_type": "stream",
       "stream": "stdout",
       "text": [
        "\n",
        "   665  |  \u001b[94m  0.014281\u001b[0m  |    0.025839  |     0.552694  |             |  0.2s"
       ]
      },
      {
       "output_type": "stream",
       "stream": "stdout",
       "text": [
        "\n",
        "   666  |  \u001b[94m  0.014269\u001b[0m  |    0.025839  |     0.552221  |             |  0.2s"
       ]
      },
      {
       "output_type": "stream",
       "stream": "stdout",
       "text": [
        "\n",
        "   667  |  \u001b[94m  0.014257\u001b[0m  |    0.025839  |     0.551747  |             |  0.2s"
       ]
      },
      {
       "output_type": "stream",
       "stream": "stdout",
       "text": [
        "\n",
        "   668  |  \u001b[94m  0.014245\u001b[0m  |    0.025839  |     0.551280  |             |  0.2s"
       ]
      },
      {
       "output_type": "stream",
       "stream": "stdout",
       "text": [
        "\n",
        "   669  |  \u001b[94m  0.014232\u001b[0m  |  \u001b[32m  0.025839\u001b[0m  |     0.550814  |             |  0.2s"
       ]
      },
      {
       "output_type": "stream",
       "stream": "stdout",
       "text": [
        "\n",
        "   670  |  \u001b[94m  0.014220\u001b[0m  |    0.025839  |     0.550338  |             |  0.2s"
       ]
      },
      {
       "output_type": "stream",
       "stream": "stdout",
       "text": [
        "\n",
        "   671  |  \u001b[94m  0.014208\u001b[0m  |    0.025839  |     0.549866  |             |  0.2s"
       ]
      },
      {
       "output_type": "stream",
       "stream": "stdout",
       "text": [
        "\n",
        "   672  |  \u001b[94m  0.014196\u001b[0m  |    0.025839  |     0.549404  |             |  0.2s"
       ]
      },
      {
       "output_type": "stream",
       "stream": "stdout",
       "text": [
        "\n",
        "   673  |  \u001b[94m  0.014184\u001b[0m  |    0.025840  |     0.548929  |             |  0.2s"
       ]
      },
      {
       "output_type": "stream",
       "stream": "stdout",
       "text": [
        "\n",
        "   674  |  \u001b[94m  0.014172\u001b[0m  |    0.025840  |     0.548462  |             |  0.2s"
       ]
      },
      {
       "output_type": "stream",
       "stream": "stdout",
       "text": [
        "\n",
        "   675  |  \u001b[94m  0.014160\u001b[0m  |    0.025840  |     0.547996  |             |  0.2s"
       ]
      },
      {
       "output_type": "stream",
       "stream": "stdout",
       "text": [
        "\n",
        "   676  |  \u001b[94m  0.014148\u001b[0m  |    0.025840  |     0.547529  |             |  0.2s"
       ]
      },
      {
       "output_type": "stream",
       "stream": "stdout",
       "text": [
        "\n",
        "   677  |  \u001b[94m  0.014136\u001b[0m  |    0.025840  |     0.547060  |             |  0.2s"
       ]
      },
      {
       "output_type": "stream",
       "stream": "stdout",
       "text": [
        "\n",
        "   678  |  \u001b[94m  0.014124\u001b[0m  |    0.025840  |     0.546595  |             |  0.2s"
       ]
      },
      {
       "output_type": "stream",
       "stream": "stdout",
       "text": [
        "\n",
        "   679  |  \u001b[94m  0.014112\u001b[0m  |    0.025840  |     0.546133  |             |  0.2s"
       ]
      },
      {
       "output_type": "stream",
       "stream": "stdout",
       "text": [
        "\n",
        "   680  |  \u001b[94m  0.014100\u001b[0m  |    0.025840  |     0.545670  |             |  0.2s"
       ]
      },
      {
       "output_type": "stream",
       "stream": "stdout",
       "text": [
        "\n",
        "   681  |  \u001b[94m  0.014088\u001b[0m  |    0.025841  |     0.545199  |             |  0.2s"
       ]
      },
      {
       "output_type": "stream",
       "stream": "stdout",
       "text": [
        "\n",
        "   682  |  \u001b[94m  0.014076\u001b[0m  |    0.025841  |     0.544738  |             |  0.2s"
       ]
      },
      {
       "output_type": "stream",
       "stream": "stdout",
       "text": [
        "\n",
        "   683  |  \u001b[94m  0.014064\u001b[0m  |    0.025841  |     0.544275  |             |  0.2s"
       ]
      },
      {
       "output_type": "stream",
       "stream": "stdout",
       "text": [
        "\n",
        "   684  |  \u001b[94m  0.014053\u001b[0m  |    0.025841  |     0.543813  |             |  0.2s"
       ]
      },
      {
       "output_type": "stream",
       "stream": "stdout",
       "text": [
        "\n",
        "   685  |  \u001b[94m  0.014041\u001b[0m  |    0.025841  |     0.543351  |             |  0.2s"
       ]
      },
      {
       "output_type": "stream",
       "stream": "stdout",
       "text": [
        "\n",
        "   686  |  \u001b[94m  0.014029\u001b[0m  |    0.025841  |     0.542894  |             |  0.2s"
       ]
      },
      {
       "output_type": "stream",
       "stream": "stdout",
       "text": [
        "\n",
        "   687  |  \u001b[94m  0.014017\u001b[0m  |    0.025841  |     0.542429  |             |  0.2s"
       ]
      },
      {
       "output_type": "stream",
       "stream": "stdout",
       "text": [
        "\n",
        "   688  |  \u001b[94m  0.014005\u001b[0m  |    0.025841  |     0.541970  |             |  0.2s"
       ]
      },
      {
       "output_type": "stream",
       "stream": "stdout",
       "text": [
        "\n",
        "   689  |  \u001b[94m  0.013993\u001b[0m  |    0.025841  |     0.541511  |             |  0.2s"
       ]
      },
      {
       "output_type": "stream",
       "stream": "stdout",
       "text": [
        "\n",
        "   690  |  \u001b[94m  0.013982\u001b[0m  |    0.025842  |     0.541053  |             |  0.2s"
       ]
      },
      {
       "output_type": "stream",
       "stream": "stdout",
       "text": [
        "\n",
        "   691  |  \u001b[94m  0.013970\u001b[0m  |    0.025842  |     0.540592  |             |  0.2s"
       ]
      },
      {
       "output_type": "stream",
       "stream": "stdout",
       "text": [
        "\n",
        "   692  |  \u001b[94m  0.013958\u001b[0m  |    0.025842  |     0.540133  |             |  0.2s"
       ]
      },
      {
       "output_type": "stream",
       "stream": "stdout",
       "text": [
        "\n",
        "   693  |  \u001b[94m  0.013946\u001b[0m  |    0.025842  |     0.539677  |             |  0.2s"
       ]
      },
      {
       "output_type": "stream",
       "stream": "stdout",
       "text": [
        "\n",
        "   694  |  \u001b[94m  0.013935\u001b[0m  |    0.025842  |     0.539219  |             |  0.2s"
       ]
      },
      {
       "output_type": "stream",
       "stream": "stdout",
       "text": [
        "\n",
        "   695  |  \u001b[94m  0.013923\u001b[0m  |    0.025842  |     0.538765  |             |  0.2s"
       ]
      },
      {
       "output_type": "stream",
       "stream": "stdout",
       "text": [
        "\n",
        "   696  |  \u001b[94m  0.013911\u001b[0m  |    0.025843  |     0.538306  |             |  0.2s"
       ]
      },
      {
       "output_type": "stream",
       "stream": "stdout",
       "text": [
        "\n",
        "   697  |  \u001b[94m  0.013900\u001b[0m  |    0.025843  |     0.537858  |             |  0.2s"
       ]
      },
      {
       "output_type": "stream",
       "stream": "stdout",
       "text": [
        "\n",
        "   698  |  \u001b[94m  0.013888\u001b[0m  |    0.025843  |     0.537400  |             |  0.2s"
       ]
      },
      {
       "output_type": "stream",
       "stream": "stdout",
       "text": [
        "\n",
        "   699  |  \u001b[94m  0.013876\u001b[0m  |    0.025843  |     0.536940  |             |  0.2s"
       ]
      },
      {
       "output_type": "stream",
       "stream": "stdout",
       "text": [
        "\n",
        "   700  |  \u001b[94m  0.013865\u001b[0m  |    0.025844  |     0.536482  |             |  0.2s"
       ]
      },
      {
       "output_type": "stream",
       "stream": "stdout",
       "text": [
        "\n",
        "   701  |  \u001b[94m  0.013853\u001b[0m  |    0.025844  |     0.536027  |             |  0.2s"
       ]
      },
      {
       "output_type": "stream",
       "stream": "stdout",
       "text": [
        "\n",
        "   702  |  \u001b[94m  0.013841\u001b[0m  |    0.025844  |     0.535573  |             |  0.2s"
       ]
      },
      {
       "output_type": "stream",
       "stream": "stdout",
       "text": [
        "\n",
        "   703  |  \u001b[94m  0.013830\u001b[0m  |    0.025845  |     0.535118  |             |  0.2s"
       ]
      },
      {
       "output_type": "stream",
       "stream": "stdout",
       "text": [
        "\n",
        "   704  |  \u001b[94m  0.013818\u001b[0m  |    0.025845  |     0.534670  |             |  0.2s"
       ]
      },
      {
       "output_type": "stream",
       "stream": "stdout",
       "text": [
        "\n",
        "   705  |  \u001b[94m  0.013807\u001b[0m  |    0.025845  |     0.534214  |             |  0.2s"
       ]
      },
      {
       "output_type": "stream",
       "stream": "stdout",
       "text": [
        "\n",
        "   706  |  \u001b[94m  0.013795\u001b[0m  |    0.025845  |     0.533764  |             |  0.2s"
       ]
      },
      {
       "output_type": "stream",
       "stream": "stdout",
       "text": [
        "\n",
        "   707  |  \u001b[94m  0.013784\u001b[0m  |    0.025846  |     0.533309  |             |  0.2s"
       ]
      },
      {
       "output_type": "stream",
       "stream": "stdout",
       "text": [
        "\n",
        "   708  |  \u001b[94m  0.013772\u001b[0m  |    0.025846  |     0.532858  |             |  0.2s"
       ]
      },
      {
       "output_type": "stream",
       "stream": "stdout",
       "text": [
        "\n",
        "   709  |  \u001b[94m  0.013761\u001b[0m  |    0.025846  |     0.532409  |             |  0.2s"
       ]
      },
      {
       "output_type": "stream",
       "stream": "stdout",
       "text": [
        "\n",
        "   710  |  \u001b[94m  0.013749\u001b[0m  |    0.025847  |     0.531952  |             |  0.2s"
       ]
      },
      {
       "output_type": "stream",
       "stream": "stdout",
       "text": [
        "\n",
        "   711  |  \u001b[94m  0.013738\u001b[0m  |    0.025847  |     0.531499  |             |  0.2s"
       ]
      },
      {
       "output_type": "stream",
       "stream": "stdout",
       "text": [
        "\n",
        "   712  |  \u001b[94m  0.013726\u001b[0m  |    0.025847  |     0.531053  |             |  0.2s"
       ]
      },
      {
       "output_type": "stream",
       "stream": "stdout",
       "text": [
        "\n",
        "   713  |  \u001b[94m  0.013715\u001b[0m  |    0.025848  |     0.530605  |             |  0.2s"
       ]
      },
      {
       "output_type": "stream",
       "stream": "stdout",
       "text": [
        "\n",
        "   714  |  \u001b[94m  0.013704\u001b[0m  |    0.025848  |     0.530154  |             |  0.2s"
       ]
      },
      {
       "output_type": "stream",
       "stream": "stdout",
       "text": [
        "\n",
        "   715  |  \u001b[94m  0.013692\u001b[0m  |    0.025848  |     0.529709  |             |  0.2s"
       ]
      },
      {
       "output_type": "stream",
       "stream": "stdout",
       "text": [
        "\n",
        "   716  |  \u001b[94m  0.013681\u001b[0m  |    0.025849  |     0.529254  |             |  0.2s"
       ]
      },
      {
       "output_type": "stream",
       "stream": "stdout",
       "text": [
        "\n",
        "   717  |  \u001b[94m  0.013669\u001b[0m  |    0.025850  |     0.528808  |             |  0.2s"
       ]
      },
      {
       "output_type": "stream",
       "stream": "stdout",
       "text": [
        "\n",
        "   718  |  \u001b[94m  0.013658\u001b[0m  |    0.025850  |     0.528358  |             |  0.2s"
       ]
      },
      {
       "output_type": "stream",
       "stream": "stdout",
       "text": [
        "\n",
        "   719  |  \u001b[94m  0.013647\u001b[0m  |    0.025850  |     0.527913  |             |  0.2s"
       ]
      },
      {
       "output_type": "stream",
       "stream": "stdout",
       "text": [
        "\n",
        "   720  |  \u001b[94m  0.013635\u001b[0m  |    0.025851  |     0.527466  |             |  0.2s"
       ]
      },
      {
       "output_type": "stream",
       "stream": "stdout",
       "text": [
        "\n",
        "   721  |  \u001b[94m  0.013624\u001b[0m  |    0.025851  |     0.527024  |             |  0.2s"
       ]
      },
      {
       "output_type": "stream",
       "stream": "stdout",
       "text": [
        "\n",
        "   722  |  \u001b[94m  0.013613\u001b[0m  |    0.025851  |     0.526579  |             |  0.2s"
       ]
      },
      {
       "output_type": "stream",
       "stream": "stdout",
       "text": [
        "\n",
        "   723  |  \u001b[94m  0.013601\u001b[0m  |    0.025852  |     0.526126  |             |  0.2s"
       ]
      },
      {
       "output_type": "stream",
       "stream": "stdout",
       "text": [
        "\n",
        "   724  |  \u001b[94m  0.013590\u001b[0m  |    0.025853  |     0.525680  |             |  0.2s"
       ]
      },
      {
       "output_type": "stream",
       "stream": "stdout",
       "text": [
        "\n",
        "   725  |  \u001b[94m  0.013579\u001b[0m  |    0.025853  |     0.525233  |             |  0.2s"
       ]
      },
      {
       "output_type": "stream",
       "stream": "stdout",
       "text": [
        "\n",
        "   726  |  \u001b[94m  0.013568\u001b[0m  |    0.025853  |     0.524796  |             |  0.2s"
       ]
      },
      {
       "output_type": "stream",
       "stream": "stdout",
       "text": [
        "\n",
        "   727  |  \u001b[94m  0.013556\u001b[0m  |    0.025854  |     0.524350  |             |  0.2s"
       ]
      },
      {
       "output_type": "stream",
       "stream": "stdout",
       "text": [
        "\n",
        "   728  |  \u001b[94m  0.013545\u001b[0m  |    0.025855  |     0.523900  |             |  0.2s"
       ]
      },
      {
       "output_type": "stream",
       "stream": "stdout",
       "text": [
        "\n",
        "   729  |  \u001b[94m  0.013534\u001b[0m  |    0.025855  |     0.523461  |             |  0.2s"
       ]
      },
      {
       "output_type": "stream",
       "stream": "stdout",
       "text": [
        "\n",
        "   730  |  \u001b[94m  0.013523\u001b[0m  |    0.025855  |     0.523024  |             |  0.2s"
       ]
      },
      {
       "output_type": "stream",
       "stream": "stdout",
       "text": [
        "\n",
        "   731  |  \u001b[94m  0.013512\u001b[0m  |    0.025856  |     0.522581  |             |  0.2s"
       ]
      },
      {
       "output_type": "stream",
       "stream": "stdout",
       "text": [
        "\n",
        "   732  |  \u001b[94m  0.013501\u001b[0m  |    0.025856  |     0.522142  |             |  0.2s"
       ]
      },
      {
       "output_type": "stream",
       "stream": "stdout",
       "text": [
        "\n",
        "   733  |  \u001b[94m  0.013489\u001b[0m  |    0.025857  |     0.521695  |             |  0.2s"
       ]
      },
      {
       "output_type": "stream",
       "stream": "stdout",
       "text": [
        "\n",
        "   734  |  \u001b[94m  0.013478\u001b[0m  |    0.025857  |     0.521254  |             |  0.2s"
       ]
      },
      {
       "output_type": "stream",
       "stream": "stdout",
       "text": [
        "\n",
        "   735  |  \u001b[94m  0.013467\u001b[0m  |    0.025858  |     0.520808  |             |  0.2s"
       ]
      },
      {
       "output_type": "stream",
       "stream": "stdout",
       "text": [
        "\n",
        "   736  |  \u001b[94m  0.013456\u001b[0m  |    0.025859  |     0.520371  |             |  0.2s"
       ]
      },
      {
       "output_type": "stream",
       "stream": "stdout",
       "text": [
        "\n",
        "   737  |  \u001b[94m  0.013445\u001b[0m  |    0.025859  |     0.519932  |             |  0.2s"
       ]
      },
      {
       "output_type": "stream",
       "stream": "stdout",
       "text": [
        "\n",
        "   738  |  \u001b[94m  0.013434\u001b[0m  |    0.025860  |     0.519493  |             |  0.2s"
       ]
      },
      {
       "output_type": "stream",
       "stream": "stdout",
       "text": [
        "\n",
        "   739  |  \u001b[94m  0.013423\u001b[0m  |    0.025860  |     0.519054  |             |  0.2s"
       ]
      },
      {
       "output_type": "stream",
       "stream": "stdout",
       "text": [
        "\n",
        "   740  |  \u001b[94m  0.013412\u001b[0m  |    0.025861  |     0.518619  |             |  0.2s"
       ]
      },
      {
       "output_type": "stream",
       "stream": "stdout",
       "text": [
        "\n",
        "   741  |  \u001b[94m  0.013401\u001b[0m  |    0.025861  |     0.518184  |             |  0.2s"
       ]
      },
      {
       "output_type": "stream",
       "stream": "stdout",
       "text": [
        "\n",
        "   742  |  \u001b[94m  0.013390\u001b[0m  |    0.025862  |     0.517744  |             |  0.2s"
       ]
      },
      {
       "output_type": "stream",
       "stream": "stdout",
       "text": [
        "\n",
        "   743  |  \u001b[94m  0.013379\u001b[0m  |    0.025862  |     0.517305  |             |  0.2s"
       ]
      },
      {
       "output_type": "stream",
       "stream": "stdout",
       "text": [
        "\n",
        "   744  |  \u001b[94m  0.013368\u001b[0m  |    0.025863  |     0.516863  |             |  0.2s"
       ]
      },
      {
       "output_type": "stream",
       "stream": "stdout",
       "text": [
        "\n",
        "   745  |  \u001b[94m  0.013357\u001b[0m  |    0.025864  |     0.516434  |             |  0.2s"
       ]
      },
      {
       "output_type": "stream",
       "stream": "stdout",
       "text": [
        "\n",
        "   746  |  \u001b[94m  0.013346\u001b[0m  |    0.025865  |     0.515991  |             |  0.2s"
       ]
      },
      {
       "output_type": "stream",
       "stream": "stdout",
       "text": [
        "\n",
        "   747  |  \u001b[94m  0.013335\u001b[0m  |    0.025865  |     0.515559  |             |  0.2s"
       ]
      },
      {
       "output_type": "stream",
       "stream": "stdout",
       "text": [
        "\n",
        "   748  |  \u001b[94m  0.013324\u001b[0m  |    0.025865  |     0.515129  |             |  0.2s"
       ]
      },
      {
       "output_type": "stream",
       "stream": "stdout",
       "text": [
        "\n",
        "   749  |  \u001b[94m  0.013313\u001b[0m  |    0.025866  |     0.514689  |             |  0.2s"
       ]
      },
      {
       "output_type": "stream",
       "stream": "stdout",
       "text": [
        "\n",
        "   750  |  \u001b[94m  0.013302\u001b[0m  |    0.025867  |     0.514256  |             |  0.2s"
       ]
      },
      {
       "output_type": "stream",
       "stream": "stdout",
       "text": [
        "\n",
        "   751  |  \u001b[94m  0.013291\u001b[0m  |    0.025867  |     0.513829  |             |  0.2s"
       ]
      },
      {
       "output_type": "stream",
       "stream": "stdout",
       "text": [
        "\n",
        "   752  |  \u001b[94m  0.013280\u001b[0m  |    0.025868  |     0.513395  |             |  0.2s"
       ]
      },
      {
       "output_type": "stream",
       "stream": "stdout",
       "text": [
        "\n",
        "   753  |  \u001b[94m  0.013270\u001b[0m  |    0.025869  |     0.512956  |             |  0.2s"
       ]
      },
      {
       "output_type": "stream",
       "stream": "stdout",
       "text": [
        "\n",
        "   754  |  \u001b[94m  0.013259\u001b[0m  |    0.025869  |     0.512527  |             |  0.2s"
       ]
      },
      {
       "output_type": "stream",
       "stream": "stdout",
       "text": [
        "\n",
        "   755  |  \u001b[94m  0.013248\u001b[0m  |    0.025870  |     0.512096  |             |  0.2s"
       ]
      },
      {
       "output_type": "stream",
       "stream": "stdout",
       "text": [
        "\n",
        "   756  |  \u001b[94m  0.013237\u001b[0m  |    0.025871  |     0.511661  |             |  0.2s"
       ]
      },
      {
       "output_type": "stream",
       "stream": "stdout",
       "text": [
        "\n",
        "   757  |  \u001b[94m  0.013226\u001b[0m  |    0.025871  |     0.511234  |             |  0.2s"
       ]
      },
      {
       "output_type": "stream",
       "stream": "stdout",
       "text": [
        "\n",
        "   758  |  \u001b[94m  0.013216\u001b[0m  |    0.025872  |     0.510807  |             |  0.2s"
       ]
      },
      {
       "output_type": "stream",
       "stream": "stdout",
       "text": [
        "\n",
        "   759  |  \u001b[94m  0.013205\u001b[0m  |    0.025873  |     0.510377  |             |  0.2s"
       ]
      },
      {
       "output_type": "stream",
       "stream": "stdout",
       "text": [
        "\n",
        "   760  |  \u001b[94m  0.013194\u001b[0m  |    0.025873  |     0.509948  |             |  0.2s"
       ]
      },
      {
       "output_type": "stream",
       "stream": "stdout",
       "text": [
        "\n",
        "   761  |  \u001b[94m  0.013183\u001b[0m  |    0.025874  |     0.509512  |             |  0.2s"
       ]
      },
      {
       "output_type": "stream",
       "stream": "stdout",
       "text": [
        "\n",
        "   762  |  \u001b[94m  0.013173\u001b[0m  |    0.025875  |     0.509085  |             |  0.2s"
       ]
      },
      {
       "output_type": "stream",
       "stream": "stdout",
       "text": [
        "\n",
        "   763  |  \u001b[94m  0.013162\u001b[0m  |    0.025876  |     0.508659  |             |  0.2s"
       ]
      },
      {
       "output_type": "stream",
       "stream": "stdout",
       "text": [
        "\n",
        "   764  |  \u001b[94m  0.013151\u001b[0m  |    0.025877  |     0.508224  |             |  0.2s"
       ]
      },
      {
       "output_type": "stream",
       "stream": "stdout",
       "text": [
        "\n",
        "   765  |  \u001b[94m  0.013140\u001b[0m  |    0.025877  |     0.507799  |             |  0.2s"
       ]
      },
      {
       "output_type": "stream",
       "stream": "stdout",
       "text": [
        "\n",
        "   766  |  \u001b[94m  0.013130\u001b[0m  |    0.025878  |     0.507368  |             |  0.2s"
       ]
      },
      {
       "output_type": "stream",
       "stream": "stdout",
       "text": [
        "\n",
        "   767  |  \u001b[94m  0.013119\u001b[0m  |    0.025879  |     0.506944  |             |  0.2s"
       ]
      },
      {
       "output_type": "stream",
       "stream": "stdout",
       "text": [
        "\n",
        "   768  |  \u001b[94m  0.013108\u001b[0m  |    0.025880  |     0.506518  |             |  0.2s"
       ]
      },
      {
       "output_type": "stream",
       "stream": "stdout",
       "text": [
        "\n",
        "   769  |  \u001b[94m  0.013098\u001b[0m  |    0.025881  |     0.506086  |             |  0.2s"
       ]
      },
      {
       "output_type": "stream",
       "stream": "stdout",
       "text": [
        "\n",
        "   770  |  \u001b[94m  0.013087\u001b[0m  |    0.025881  |     0.505659  |             |  0.2s"
       ]
      },
      {
       "output_type": "stream",
       "stream": "stdout",
       "text": [
        "\n",
        "   771  |  \u001b[94m  0.013077\u001b[0m  |    0.025882  |     0.505238  |             |  0.2s"
       ]
      },
      {
       "output_type": "stream",
       "stream": "stdout",
       "text": [
        "\n",
        "   772  |  \u001b[94m  0.013066\u001b[0m  |    0.025883  |     0.504812  |             |  0.2s"
       ]
      },
      {
       "output_type": "stream",
       "stream": "stdout",
       "text": [
        "\n",
        "   773  |  \u001b[94m  0.013055\u001b[0m  |    0.025884  |     0.504382  |             |  0.2s"
       ]
      },
      {
       "output_type": "stream",
       "stream": "stdout",
       "text": [
        "\n",
        "   774  |  \u001b[94m  0.013045\u001b[0m  |    0.025885  |     0.503962  |             |  0.2s"
       ]
      },
      {
       "output_type": "stream",
       "stream": "stdout",
       "text": [
        "\n",
        "   775  |  \u001b[94m  0.013034\u001b[0m  |    0.025886  |     0.503536  |             |  0.2s"
       ]
      },
      {
       "output_type": "stream",
       "stream": "stdout",
       "text": [
        "\n",
        "   776  |  \u001b[94m  0.013024\u001b[0m  |    0.025886  |     0.503114  |             |  0.2s"
       ]
      },
      {
       "output_type": "stream",
       "stream": "stdout",
       "text": [
        "\n",
        "   777  |  \u001b[94m  0.013013\u001b[0m  |    0.025887  |     0.502692  |             |  0.2s"
       ]
      },
      {
       "output_type": "stream",
       "stream": "stdout",
       "text": [
        "\n",
        "   778  |  \u001b[94m  0.013003\u001b[0m  |    0.025888  |     0.502269  |             |  0.2s"
       ]
      },
      {
       "output_type": "stream",
       "stream": "stdout",
       "text": [
        "\n",
        "   779  |  \u001b[94m  0.012992\u001b[0m  |    0.025889  |     0.501844  |             |  0.2s"
       ]
      },
      {
       "output_type": "stream",
       "stream": "stdout",
       "text": [
        "\n",
        "   780  |  \u001b[94m  0.012982\u001b[0m  |    0.025890  |     0.501423  |             |  0.2s"
       ]
      },
      {
       "output_type": "stream",
       "stream": "stdout",
       "text": [
        "\n",
        "   781  |  \u001b[94m  0.012971\u001b[0m  |    0.025891  |     0.501008  |             |  0.2s"
       ]
      },
      {
       "output_type": "stream",
       "stream": "stdout",
       "text": [
        "\n",
        "   782  |  \u001b[94m  0.012961\u001b[0m  |    0.025892  |     0.500579  |             |  0.2s"
       ]
      },
      {
       "output_type": "stream",
       "stream": "stdout",
       "text": [
        "\n",
        "   783  |  \u001b[94m  0.012951\u001b[0m  |    0.025893  |     0.500165  |             |  0.2s"
       ]
      },
      {
       "output_type": "stream",
       "stream": "stdout",
       "text": [
        "\n",
        "   784  |  \u001b[94m  0.012940\u001b[0m  |    0.025894  |     0.499743  |             |  0.2s"
       ]
      },
      {
       "output_type": "stream",
       "stream": "stdout",
       "text": [
        "\n",
        "   785  |  \u001b[94m  0.012930\u001b[0m  |    0.025894  |     0.499325  |             |  0.2s"
       ]
      },
      {
       "output_type": "stream",
       "stream": "stdout",
       "text": [
        "\n",
        "   786  |  \u001b[94m  0.012919\u001b[0m  |    0.025895  |     0.498904  |             |  0.2s"
       ]
      },
      {
       "output_type": "stream",
       "stream": "stdout",
       "text": [
        "\n",
        "   787  |  \u001b[94m  0.012909\u001b[0m  |    0.025896  |     0.498488  |             |  0.2s"
       ]
      },
      {
       "output_type": "stream",
       "stream": "stdout",
       "text": [
        "\n",
        "   788  |  \u001b[94m  0.012899\u001b[0m  |    0.025897  |     0.498072  |             |  0.2s"
       ]
      },
      {
       "output_type": "stream",
       "stream": "stdout",
       "text": [
        "\n",
        "   789  |  \u001b[94m  0.012888\u001b[0m  |    0.025898  |     0.497653  |             |  0.2s"
       ]
      },
      {
       "output_type": "stream",
       "stream": "stdout",
       "text": [
        "\n",
        "   790  |  \u001b[94m  0.012878\u001b[0m  |    0.025899  |     0.497236  |             |  0.2s"
       ]
      },
      {
       "output_type": "stream",
       "stream": "stdout",
       "text": [
        "\n",
        "   791  |  \u001b[94m  0.012868\u001b[0m  |    0.025900  |     0.496822  |             |  0.2s"
       ]
      },
      {
       "output_type": "stream",
       "stream": "stdout",
       "text": [
        "\n",
        "   792  |  \u001b[94m  0.012857\u001b[0m  |    0.025901  |     0.496402  |             |  0.2s"
       ]
      },
      {
       "output_type": "stream",
       "stream": "stdout",
       "text": [
        "\n",
        "   793  |  \u001b[94m  0.012847\u001b[0m  |    0.025902  |     0.495984  |             |  0.2s"
       ]
      },
      {
       "output_type": "stream",
       "stream": "stdout",
       "text": [
        "\n",
        "   794  |  \u001b[94m  0.012837\u001b[0m  |    0.025903  |     0.495571  |             |  0.2s"
       ]
      },
      {
       "output_type": "stream",
       "stream": "stdout",
       "text": [
        "\n",
        "   795  |  \u001b[94m  0.012826\u001b[0m  |    0.025904  |     0.495151  |             |  0.2s"
       ]
      },
      {
       "output_type": "stream",
       "stream": "stdout",
       "text": [
        "\n",
        "   796  |  \u001b[94m  0.012816\u001b[0m  |    0.025905  |     0.494740  |             |  0.2s"
       ]
      },
      {
       "output_type": "stream",
       "stream": "stdout",
       "text": [
        "\n",
        "   797  |  \u001b[94m  0.012806\u001b[0m  |    0.025906  |     0.494321  |             |  0.2s"
       ]
      },
      {
       "output_type": "stream",
       "stream": "stdout",
       "text": [
        "\n",
        "   798  |  \u001b[94m  0.012796\u001b[0m  |    0.025907  |     0.493909  |             |  0.2s"
       ]
      },
      {
       "output_type": "stream",
       "stream": "stdout",
       "text": [
        "\n",
        "   799  |  \u001b[94m  0.012785\u001b[0m  |    0.025908  |     0.493495  |             |  0.2s"
       ]
      },
      {
       "output_type": "stream",
       "stream": "stdout",
       "text": [
        "\n",
        "   800  |  \u001b[94m  0.012775\u001b[0m  |    0.025909  |     0.493077  |             |  0.2s"
       ]
      },
      {
       "output_type": "stream",
       "stream": "stdout",
       "text": [
        "\n",
        "   801  |  \u001b[94m  0.012765\u001b[0m  |    0.025910  |     0.492669  |             |  0.2s"
       ]
      },
      {
       "output_type": "stream",
       "stream": "stdout",
       "text": [
        "\n",
        "   802  |  \u001b[94m  0.012755\u001b[0m  |    0.025912  |     0.492249  |             |  0.2s"
       ]
      },
      {
       "output_type": "stream",
       "stream": "stdout",
       "text": [
        "\n",
        "   803  |  \u001b[94m  0.012745\u001b[0m  |    0.025913  |     0.491837  |             |  0.2s"
       ]
      },
      {
       "output_type": "stream",
       "stream": "stdout",
       "text": [
        "\n",
        "   804  |  \u001b[94m  0.012735\u001b[0m  |    0.025914  |     0.491423  |             |  0.2s"
       ]
      },
      {
       "output_type": "stream",
       "stream": "stdout",
       "text": [
        "\n",
        "   805  |  \u001b[94m  0.012724\u001b[0m  |    0.025915  |     0.491010  |             |  0.2s"
       ]
      },
      {
       "output_type": "stream",
       "stream": "stdout",
       "text": [
        "\n",
        "   806  |  \u001b[94m  0.012714\u001b[0m  |    0.025916  |     0.490600  |             |  0.2s"
       ]
      },
      {
       "output_type": "stream",
       "stream": "stdout",
       "text": [
        "\n",
        "   807  |  \u001b[94m  0.012704\u001b[0m  |    0.025917  |     0.490187  |             |  0.2s"
       ]
      },
      {
       "output_type": "stream",
       "stream": "stdout",
       "text": [
        "\n",
        "   808  |  \u001b[94m  0.012694\u001b[0m  |    0.025918  |     0.489775  |             |  0.2s"
       ]
      },
      {
       "output_type": "stream",
       "stream": "stdout",
       "text": [
        "\n",
        "   809  |  \u001b[94m  0.012684\u001b[0m  |    0.025919  |     0.489370  |             |  0.2s"
       ]
      },
      {
       "output_type": "stream",
       "stream": "stdout",
       "text": [
        "\n",
        "   810  |  \u001b[94m  0.012674\u001b[0m  |    0.025920  |     0.488959  |             |  0.2s"
       ]
      },
      {
       "output_type": "stream",
       "stream": "stdout",
       "text": [
        "\n",
        "   811  |  \u001b[94m  0.012664\u001b[0m  |    0.025922  |     0.488547  |             |  0.2s"
       ]
      },
      {
       "output_type": "stream",
       "stream": "stdout",
       "text": [
        "\n",
        "   812  |  \u001b[94m  0.012654\u001b[0m  |    0.025923  |     0.488134  |             |  0.2s"
       ]
      },
      {
       "output_type": "stream",
       "stream": "stdout",
       "text": [
        "\n",
        "   813  |  \u001b[94m  0.012644\u001b[0m  |    0.025924  |     0.487727  |             |  0.2s"
       ]
      },
      {
       "output_type": "stream",
       "stream": "stdout",
       "text": [
        "\n",
        "   814  |  \u001b[94m  0.012634\u001b[0m  |    0.025925  |     0.487316  |             |  0.2s"
       ]
      },
      {
       "output_type": "stream",
       "stream": "stdout",
       "text": [
        "\n",
        "   815  |  \u001b[94m  0.012624\u001b[0m  |    0.025926  |     0.486914  |             |  0.2s"
       ]
      },
      {
       "output_type": "stream",
       "stream": "stdout",
       "text": [
        "\n",
        "   816  |  \u001b[94m  0.012614\u001b[0m  |    0.025928  |     0.486505  |             |  0.2s"
       ]
      },
      {
       "output_type": "stream",
       "stream": "stdout",
       "text": [
        "\n",
        "   817  |  \u001b[94m  0.012604\u001b[0m  |    0.025929  |     0.486096  |             |  0.2s"
       ]
      },
      {
       "output_type": "stream",
       "stream": "stdout",
       "text": [
        "\n",
        "   818  |  \u001b[94m  0.012594\u001b[0m  |    0.025930  |     0.485690  |             |  0.2s"
       ]
      },
      {
       "output_type": "stream",
       "stream": "stdout",
       "text": [
        "\n",
        "   819  |  \u001b[94m  0.012584\u001b[0m  |    0.025931  |     0.485285  |             |  0.2s"
       ]
      },
      {
       "output_type": "stream",
       "stream": "stdout",
       "text": [
        "\n",
        "   820  |  \u001b[94m  0.012574\u001b[0m  |    0.025932  |     0.484882  |             |  0.2s"
       ]
      },
      {
       "output_type": "stream",
       "stream": "stdout",
       "text": [
        "\n",
        "   821  |  \u001b[94m  0.012564\u001b[0m  |    0.025933  |     0.484478  |             |  0.2s"
       ]
      },
      {
       "output_type": "stream",
       "stream": "stdout",
       "text": [
        "\n",
        "   822  |  \u001b[94m  0.012554\u001b[0m  |    0.025935  |     0.484075  |             |  0.2s"
       ]
      },
      {
       "output_type": "stream",
       "stream": "stdout",
       "text": [
        "\n",
        "   823  |  \u001b[94m  0.012544\u001b[0m  |    0.025936  |     0.483665  |             |  0.2s"
       ]
      },
      {
       "output_type": "stream",
       "stream": "stdout",
       "text": [
        "\n",
        "   824  |  \u001b[94m  0.012534\u001b[0m  |    0.025937  |     0.483262  |             |  0.2s"
       ]
      },
      {
       "output_type": "stream",
       "stream": "stdout",
       "text": [
        "\n",
        "   825  |  \u001b[94m  0.012525\u001b[0m  |    0.025938  |     0.482860  |             |  0.2s"
       ]
      },
      {
       "output_type": "stream",
       "stream": "stdout",
       "text": [
        "\n",
        "   826  |  \u001b[94m  0.012515\u001b[0m  |    0.025939  |     0.482460  |             |  0.2s"
       ]
      },
      {
       "output_type": "stream",
       "stream": "stdout",
       "text": [
        "\n",
        "   827  |  \u001b[94m  0.012505\u001b[0m  |    0.025941  |     0.482057  |             |  0.2s"
       ]
      },
      {
       "output_type": "stream",
       "stream": "stdout",
       "text": [
        "\n",
        "   828  |  \u001b[94m  0.012495\u001b[0m  |    0.025942  |     0.481655  |             |  0.2s"
       ]
      },
      {
       "output_type": "stream",
       "stream": "stdout",
       "text": [
        "\n",
        "   829  |  \u001b[94m  0.012485\u001b[0m  |    0.025943  |     0.481250  |             |  0.2s"
       ]
      },
      {
       "output_type": "stream",
       "stream": "stdout",
       "text": [
        "\n",
        "   830  |  \u001b[94m  0.012476\u001b[0m  |    0.025945  |     0.480848  |             |  0.2s"
       ]
      },
      {
       "output_type": "stream",
       "stream": "stdout",
       "text": [
        "\n",
        "   831  |  \u001b[94m  0.012466\u001b[0m  |    0.025946  |     0.480443  |             |  0.2s"
       ]
      },
      {
       "output_type": "stream",
       "stream": "stdout",
       "text": [
        "\n",
        "   832  |  \u001b[94m  0.012456\u001b[0m  |    0.025947  |     0.480048  |             |  0.2s"
       ]
      },
      {
       "output_type": "stream",
       "stream": "stdout",
       "text": [
        "\n",
        "   833  |  \u001b[94m  0.012446\u001b[0m  |    0.025949  |     0.479644  |             |  0.2s"
       ]
      },
      {
       "output_type": "stream",
       "stream": "stdout",
       "text": [
        "\n",
        "   834  |  \u001b[94m  0.012436\u001b[0m  |    0.025950  |     0.479240  |             |  0.2s"
       ]
      },
      {
       "output_type": "stream",
       "stream": "stdout",
       "text": [
        "\n",
        "   835  |  \u001b[94m  0.012427\u001b[0m  |    0.025951  |     0.478842  |             |  0.2s"
       ]
      },
      {
       "output_type": "stream",
       "stream": "stdout",
       "text": [
        "\n",
        "   836  |  \u001b[94m  0.012417\u001b[0m  |    0.025953  |     0.478445  |             |  0.2s"
       ]
      },
      {
       "output_type": "stream",
       "stream": "stdout",
       "text": [
        "\n",
        "   837  |  \u001b[94m  0.012407\u001b[0m  |    0.025954  |     0.478042  |             |  0.2s"
       ]
      },
      {
       "output_type": "stream",
       "stream": "stdout",
       "text": [
        "\n",
        "   838  |  \u001b[94m  0.012397\u001b[0m  |    0.025955  |     0.477645  |             |  0.2s"
       ]
      },
      {
       "output_type": "stream",
       "stream": "stdout",
       "text": [
        "\n",
        "   839  |  \u001b[94m  0.012388\u001b[0m  |    0.025957  |     0.477246  |             |  0.2s"
       ]
      },
      {
       "output_type": "stream",
       "stream": "stdout",
       "text": [
        "\n",
        "   840  |  \u001b[94m  0.012378\u001b[0m  |    0.025958  |     0.476850  |             |  0.2s"
       ]
      },
      {
       "output_type": "stream",
       "stream": "stdout",
       "text": [
        "\n",
        "   841  |  \u001b[94m  0.012368\u001b[0m  |    0.025959  |     0.476449  |             |  0.2s"
       ]
      },
      {
       "output_type": "stream",
       "stream": "stdout",
       "text": [
        "\n",
        "   842  |  \u001b[94m  0.012359\u001b[0m  |    0.025961  |     0.476051  |             |  0.2s"
       ]
      },
      {
       "output_type": "stream",
       "stream": "stdout",
       "text": [
        "\n",
        "   843  |  \u001b[94m  0.012349\u001b[0m  |    0.025962  |     0.475656  |             |  0.2s"
       ]
      },
      {
       "output_type": "stream",
       "stream": "stdout",
       "text": [
        "\n",
        "   844  |  \u001b[94m  0.012339\u001b[0m  |    0.025963  |     0.475261  |             |  0.2s"
       ]
      },
      {
       "output_type": "stream",
       "stream": "stdout",
       "text": [
        "\n",
        "   845  |  \u001b[94m  0.012330\u001b[0m  |    0.025965  |     0.474855  |             |  0.2s"
       ]
      },
      {
       "output_type": "stream",
       "stream": "stdout",
       "text": [
        "\n",
        "   846  |  \u001b[94m  0.012320\u001b[0m  |    0.025966  |     0.474465  |             |  0.2s"
       ]
      },
      {
       "output_type": "stream",
       "stream": "stdout",
       "text": [
        "\n",
        "   847  |  \u001b[94m  0.012311\u001b[0m  |    0.025968  |     0.474061  |             |  0.2s"
       ]
      },
      {
       "output_type": "stream",
       "stream": "stdout",
       "text": [
        "\n",
        "   848  |  \u001b[94m  0.012301\u001b[0m  |    0.025969  |     0.473671  |             |  0.2s"
       ]
      },
      {
       "output_type": "stream",
       "stream": "stdout",
       "text": [
        "\n",
        "   849  |  \u001b[94m  0.012291\u001b[0m  |    0.025971  |     0.473276  |             |  0.2s"
       ]
      },
      {
       "output_type": "stream",
       "stream": "stdout",
       "text": [
        "\n",
        "   850  |  \u001b[94m  0.012282\u001b[0m  |    0.025972  |     0.472883  |             |  0.2s"
       ]
      },
      {
       "output_type": "stream",
       "stream": "stdout",
       "text": [
        "\n",
        "   851  |  \u001b[94m  0.012272\u001b[0m  |    0.025974  |     0.472485  |             |  0.2s"
       ]
      },
      {
       "output_type": "stream",
       "stream": "stdout",
       "text": [
        "\n",
        "   852  |  \u001b[94m  0.012263\u001b[0m  |    0.025975  |     0.472094  |             |  0.2s"
       ]
      },
      {
       "output_type": "stream",
       "stream": "stdout",
       "text": [
        "\n",
        "   853  |  \u001b[94m  0.012253\u001b[0m  |    0.025976  |     0.471699  |             |  0.2s"
       ]
      },
      {
       "output_type": "stream",
       "stream": "stdout",
       "text": [
        "\n",
        "   854  |  \u001b[94m  0.012243\u001b[0m  |    0.025978  |     0.471307  |             |  0.2s"
       ]
      },
      {
       "output_type": "stream",
       "stream": "stdout",
       "text": [
        "\n",
        "   855  |  \u001b[94m  0.012234\u001b[0m  |    0.025979  |     0.470917  |             |  0.2s"
       ]
      },
      {
       "output_type": "stream",
       "stream": "stdout",
       "text": [
        "\n",
        "   856  |  \u001b[94m  0.012224\u001b[0m  |    0.025981  |     0.470523  |             |  0.2s"
       ]
      },
      {
       "output_type": "stream",
       "stream": "stdout",
       "text": [
        "\n",
        "   857  |  \u001b[94m  0.012215\u001b[0m  |    0.025982  |     0.470133  |             |  0.2s"
       ]
      },
      {
       "output_type": "stream",
       "stream": "stdout",
       "text": [
        "\n",
        "   858  |  \u001b[94m  0.012205\u001b[0m  |    0.025983  |     0.469741  |             |  0.2s"
       ]
      },
      {
       "output_type": "stream",
       "stream": "stdout",
       "text": [
        "\n",
        "   859  |  \u001b[94m  0.012196\u001b[0m  |    0.025985  |     0.469344  |             |  0.2s"
       ]
      },
      {
       "output_type": "stream",
       "stream": "stdout",
       "text": [
        "\n",
        "   860  |  \u001b[94m  0.012187\u001b[0m  |    0.025986  |     0.468959  |             |  0.2s"
       ]
      },
      {
       "output_type": "stream",
       "stream": "stdout",
       "text": [
        "\n",
        "   861  |  \u001b[94m  0.012177\u001b[0m  |    0.025988  |     0.468569  |             |  0.2s"
       ]
      },
      {
       "output_type": "stream",
       "stream": "stdout",
       "text": [
        "\n",
        "   862  |  \u001b[94m  0.012168\u001b[0m  |    0.025989  |     0.468179  |             |  0.2s"
       ]
      },
      {
       "output_type": "stream",
       "stream": "stdout",
       "text": [
        "\n",
        "   863  |  \u001b[94m  0.012158\u001b[0m  |    0.025991  |     0.467789  |             |  0.2s"
       ]
      },
      {
       "output_type": "stream",
       "stream": "stdout",
       "text": [
        "\n",
        "   864  |  \u001b[94m  0.012149\u001b[0m  |    0.025992  |     0.467399  |             |  0.2s"
       ]
      },
      {
       "output_type": "stream",
       "stream": "stdout",
       "text": [
        "\n",
        "   865  |  \u001b[94m  0.012139\u001b[0m  |    0.025993  |     0.467018  |             |  0.2s"
       ]
      },
      {
       "output_type": "stream",
       "stream": "stdout",
       "text": [
        "\n",
        "   866  |  \u001b[94m  0.012130\u001b[0m  |    0.025995  |     0.466625  |             |  0.2s"
       ]
      },
      {
       "output_type": "stream",
       "stream": "stdout",
       "text": [
        "\n",
        "   867  |  \u001b[94m  0.012121\u001b[0m  |    0.025997  |     0.466241  |             |  0.2s"
       ]
      },
      {
       "output_type": "stream",
       "stream": "stdout",
       "text": [
        "\n",
        "   868  |  \u001b[94m  0.012111\u001b[0m  |    0.025998  |     0.465852  |             |  0.2s"
       ]
      },
      {
       "output_type": "stream",
       "stream": "stdout",
       "text": [
        "\n",
        "   869  |  \u001b[94m  0.012102\u001b[0m  |    0.025999  |     0.465466  |             |  0.2s"
       ]
      },
      {
       "output_type": "stream",
       "stream": "stdout",
       "text": [
        "\n",
        "   870  |  \u001b[94m  0.012093\u001b[0m  |    0.026001  |     0.465078  |             |  0.2s"
       ]
      },
      {
       "output_type": "stream",
       "stream": "stdout",
       "text": [
        "\n",
        "   871  |  \u001b[94m  0.012083\u001b[0m  |    0.026003  |     0.464692  |             |  0.2s"
       ]
      },
      {
       "output_type": "stream",
       "stream": "stdout",
       "text": [
        "\n",
        "   872  |  \u001b[94m  0.012074\u001b[0m  |    0.026004  |     0.464305  |             |  0.2s"
       ]
      },
      {
       "output_type": "stream",
       "stream": "stdout",
       "text": [
        "\n",
        "   873  |  \u001b[94m  0.012065\u001b[0m  |    0.026006  |     0.463918  |             |  0.2s"
       ]
      },
      {
       "output_type": "stream",
       "stream": "stdout",
       "text": [
        "\n",
        "   874  |  \u001b[94m  0.012055\u001b[0m  |    0.026007  |     0.463538  |             |  0.2s"
       ]
      },
      {
       "output_type": "stream",
       "stream": "stdout",
       "text": [
        "\n",
        "   875  |  \u001b[94m  0.012046\u001b[0m  |    0.026009  |     0.463151  |             |  0.2s"
       ]
      },
      {
       "output_type": "stream",
       "stream": "stdout",
       "text": [
        "\n",
        "   876  |  \u001b[94m  0.012037\u001b[0m  |    0.026011  |     0.462762  |             |  0.2s"
       ]
      },
      {
       "output_type": "stream",
       "stream": "stdout",
       "text": [
        "\n",
        "   877  |  \u001b[94m  0.012027\u001b[0m  |    0.026012  |     0.462380  |             |  0.2s"
       ]
      },
      {
       "output_type": "stream",
       "stream": "stdout",
       "text": [
        "\n",
        "   878  |  \u001b[94m  0.012018\u001b[0m  |    0.026014  |     0.461997  |             |  0.2s"
       ]
      },
      {
       "output_type": "stream",
       "stream": "stdout",
       "text": [
        "\n",
        "   879  |  \u001b[94m  0.012009\u001b[0m  |    0.026015  |     0.461613  |             |  0.2s"
       ]
      },
      {
       "output_type": "stream",
       "stream": "stdout",
       "text": [
        "\n",
        "   880  |  \u001b[94m  0.012000\u001b[0m  |    0.026017  |     0.461234  |             |  0.2s"
       ]
      },
      {
       "output_type": "stream",
       "stream": "stdout",
       "text": [
        "\n",
        "   881  |  \u001b[94m  0.011991\u001b[0m  |    0.026018  |     0.460850  |             |  0.2s"
       ]
      },
      {
       "output_type": "stream",
       "stream": "stdout",
       "text": [
        "\n",
        "   882  |  \u001b[94m  0.011981\u001b[0m  |    0.026020  |     0.460464  |             |  0.2s"
       ]
      },
      {
       "output_type": "stream",
       "stream": "stdout",
       "text": [
        "\n",
        "   883  |  \u001b[94m  0.011972\u001b[0m  |    0.026021  |     0.460088  |             |  0.2s"
       ]
      },
      {
       "output_type": "stream",
       "stream": "stdout",
       "text": [
        "\n",
        "   884  |  \u001b[94m  0.011963\u001b[0m  |    0.026023  |     0.459705  |             |  0.2s"
       ]
      },
      {
       "output_type": "stream",
       "stream": "stdout",
       "text": [
        "\n",
        "   885  |  \u001b[94m  0.011954\u001b[0m  |    0.026025  |     0.459323  |             |  0.2s"
       ]
      },
      {
       "output_type": "stream",
       "stream": "stdout",
       "text": [
        "\n",
        "   886  |  \u001b[94m  0.011945\u001b[0m  |    0.026027  |     0.458940  |             |  0.2s"
       ]
      },
      {
       "output_type": "stream",
       "stream": "stdout",
       "text": [
        "\n",
        "   887  |  \u001b[94m  0.011935\u001b[0m  |    0.026028  |     0.458564  |             |  0.2s"
       ]
      },
      {
       "output_type": "stream",
       "stream": "stdout",
       "text": [
        "\n",
        "   888  |  \u001b[94m  0.011926\u001b[0m  |    0.026030  |     0.458182  |             |  0.2s"
       ]
      },
      {
       "output_type": "stream",
       "stream": "stdout",
       "text": [
        "\n",
        "   889  |  \u001b[94m  0.011917\u001b[0m  |    0.026031  |     0.457806  |             |  0.2s"
       ]
      },
      {
       "output_type": "stream",
       "stream": "stdout",
       "text": [
        "\n",
        "   890  |  \u001b[94m  0.011908\u001b[0m  |    0.026033  |     0.457428  |             |  0.2s"
       ]
      },
      {
       "output_type": "stream",
       "stream": "stdout",
       "text": [
        "\n",
        "   891  |  \u001b[94m  0.011899\u001b[0m  |    0.026034  |     0.457055  |             |  0.2s"
       ]
      },
      {
       "output_type": "stream",
       "stream": "stdout",
       "text": [
        "\n",
        "   892  |  \u001b[94m  0.011890\u001b[0m  |    0.026036  |     0.456676  |             |  0.2s"
       ]
      },
      {
       "output_type": "stream",
       "stream": "stdout",
       "text": [
        "\n",
        "   893  |  \u001b[94m  0.011881\u001b[0m  |    0.026038  |     0.456290  |             |  0.2s"
       ]
      },
      {
       "output_type": "stream",
       "stream": "stdout",
       "text": [
        "\n",
        "   894  |  \u001b[94m  0.011872\u001b[0m  |    0.026039  |     0.455922  |             |  0.2s"
       ]
      },
      {
       "output_type": "stream",
       "stream": "stdout",
       "text": [
        "\n",
        "   895  |  \u001b[94m  0.011863\u001b[0m  |    0.026041  |     0.455546  |             |  0.2s"
       ]
      },
      {
       "output_type": "stream",
       "stream": "stdout",
       "text": [
        "\n",
        "   896  |  \u001b[94m  0.011854\u001b[0m  |    0.026042  |     0.455166  |             |  0.2s"
       ]
      },
      {
       "output_type": "stream",
       "stream": "stdout",
       "text": [
        "\n",
        "   897  |  \u001b[94m  0.011845\u001b[0m  |    0.026044  |     0.454793  |             |  0.2s"
       ]
      },
      {
       "output_type": "stream",
       "stream": "stdout",
       "text": [
        "\n",
        "   898  |  \u001b[94m  0.011836\u001b[0m  |    0.026046  |     0.454416  |             |  0.2s"
       ]
      },
      {
       "output_type": "stream",
       "stream": "stdout",
       "text": [
        "\n",
        "   899  |  \u001b[94m  0.011827\u001b[0m  |    0.026047  |     0.454040  |             |  0.2s"
       ]
      },
      {
       "output_type": "stream",
       "stream": "stdout",
       "text": [
        "\n",
        "   900  |  \u001b[94m  0.011818\u001b[0m  |    0.026049  |     0.453667  |             |  0.2s"
       ]
      },
      {
       "output_type": "stream",
       "stream": "stdout",
       "text": [
        "\n",
        "   901  |  \u001b[94m  0.011809\u001b[0m  |    0.026051  |     0.453291  |             |  0.2s"
       ]
      },
      {
       "output_type": "stream",
       "stream": "stdout",
       "text": [
        "\n",
        "   902  |  \u001b[94m  0.011800\u001b[0m  |    0.026052  |     0.452919  |             |  0.2s"
       ]
      },
      {
       "output_type": "stream",
       "stream": "stdout",
       "text": [
        "\n",
        "   903  |  \u001b[94m  0.011791\u001b[0m  |    0.026054  |     0.452550  |             |  0.2s"
       ]
      },
      {
       "output_type": "stream",
       "stream": "stdout",
       "text": [
        "\n",
        "   904  |  \u001b[94m  0.011782\u001b[0m  |    0.026056  |     0.452168  |             |  0.2s"
       ]
      },
      {
       "output_type": "stream",
       "stream": "stdout",
       "text": [
        "\n",
        "   905  |  \u001b[94m  0.011773\u001b[0m  |    0.026058  |     0.451795  |             |  0.2s"
       ]
      },
      {
       "output_type": "stream",
       "stream": "stdout",
       "text": [
        "\n",
        "   906  |  \u001b[94m  0.011764\u001b[0m  |    0.026059  |     0.451423  |             |  0.2s"
       ]
      },
      {
       "output_type": "stream",
       "stream": "stdout",
       "text": [
        "\n",
        "   907  |  \u001b[94m  0.011755\u001b[0m  |    0.026061  |     0.451054  |             |  0.2s"
       ]
      },
      {
       "output_type": "stream",
       "stream": "stdout",
       "text": [
        "\n",
        "   908  |  \u001b[94m  0.011746\u001b[0m  |    0.026063  |     0.450683  |             |  0.2s"
       ]
      },
      {
       "output_type": "stream",
       "stream": "stdout",
       "text": [
        "\n",
        "   909  |  \u001b[94m  0.011737\u001b[0m  |    0.026064  |     0.450314  |             |  0.2s"
       ]
      },
      {
       "output_type": "stream",
       "stream": "stdout",
       "text": [
        "\n",
        "   910  |  \u001b[94m  0.011728\u001b[0m  |    0.026066  |     0.449938  |             |  0.2s"
       ]
      },
      {
       "output_type": "stream",
       "stream": "stdout",
       "text": [
        "\n",
        "   911  |  \u001b[94m  0.011719\u001b[0m  |    0.026068  |     0.449570  |             |  0.2s"
       ]
      },
      {
       "output_type": "stream",
       "stream": "stdout",
       "text": [
        "\n",
        "   912  |  \u001b[94m  0.011710\u001b[0m  |    0.026070  |     0.449201  |             |  0.2s"
       ]
      },
      {
       "output_type": "stream",
       "stream": "stdout",
       "text": [
        "\n",
        "   913  |  \u001b[94m  0.011702\u001b[0m  |    0.026071  |     0.448829  |             |  0.2s"
       ]
      },
      {
       "output_type": "stream",
       "stream": "stdout",
       "text": [
        "\n",
        "   914  |  \u001b[94m  0.011693\u001b[0m  |    0.026073  |     0.448456  |             |  0.2s"
       ]
      },
      {
       "output_type": "stream",
       "stream": "stdout",
       "text": [
        "\n",
        "   915  |  \u001b[94m  0.011684\u001b[0m  |    0.026075  |     0.448088  |             |  0.2s"
       ]
      },
      {
       "output_type": "stream",
       "stream": "stdout",
       "text": [
        "\n",
        "   916  |  \u001b[94m  0.011675\u001b[0m  |    0.026077  |     0.447725  |             |  0.2s"
       ]
      },
      {
       "output_type": "stream",
       "stream": "stdout",
       "text": [
        "\n",
        "   917  |  \u001b[94m  0.011666\u001b[0m  |    0.026078  |     0.447358  |             |  0.2s"
       ]
      },
      {
       "output_type": "stream",
       "stream": "stdout",
       "text": [
        "\n",
        "   918  |  \u001b[94m  0.011657\u001b[0m  |    0.026080  |     0.446989  |             |  0.2s"
       ]
      },
      {
       "output_type": "stream",
       "stream": "stdout",
       "text": [
        "\n",
        "   919  |  \u001b[94m  0.011649\u001b[0m  |    0.026082  |     0.446619  |             |  0.2s"
       ]
      },
      {
       "output_type": "stream",
       "stream": "stdout",
       "text": [
        "\n",
        "   920  |  \u001b[94m  0.011640\u001b[0m  |    0.026083  |     0.446257  |             |  0.2s"
       ]
      },
      {
       "output_type": "stream",
       "stream": "stdout",
       "text": [
        "\n",
        "   921  |  \u001b[94m  0.011631\u001b[0m  |    0.026085  |     0.445890  |             |  0.2s"
       ]
      },
      {
       "output_type": "stream",
       "stream": "stdout",
       "text": [
        "\n",
        "   922  |  \u001b[94m  0.011622\u001b[0m  |    0.026087  |     0.445523  |             |  0.2s"
       ]
      },
      {
       "output_type": "stream",
       "stream": "stdout",
       "text": [
        "\n",
        "   923  |  \u001b[94m  0.011614\u001b[0m  |    0.026089  |     0.445160  |             |  0.2s"
       ]
      },
      {
       "output_type": "stream",
       "stream": "stdout",
       "text": [
        "\n",
        "   924  |  \u001b[94m  0.011605\u001b[0m  |    0.026091  |     0.444793  |             |  0.2s"
       ]
      },
      {
       "output_type": "stream",
       "stream": "stdout",
       "text": [
        "\n",
        "   925  |  \u001b[94m  0.011596\u001b[0m  |    0.026092  |     0.444428  |             |  0.2s"
       ]
      },
      {
       "output_type": "stream",
       "stream": "stdout",
       "text": [
        "\n",
        "   926  |  \u001b[94m  0.011587\u001b[0m  |    0.026094  |     0.444064  |             |  0.2s"
       ]
      },
      {
       "output_type": "stream",
       "stream": "stdout",
       "text": [
        "\n",
        "   927  |  \u001b[94m  0.011579\u001b[0m  |    0.026096  |     0.443702  |             |  0.2s"
       ]
      },
      {
       "output_type": "stream",
       "stream": "stdout",
       "text": [
        "\n",
        "   928  |  \u001b[94m  0.011570\u001b[0m  |    0.026098  |     0.443338  |             |  0.2s"
       ]
      },
      {
       "output_type": "stream",
       "stream": "stdout",
       "text": [
        "\n",
        "   929  |  \u001b[94m  0.011561\u001b[0m  |    0.026100  |     0.442973  |             |  0.2s"
       ]
      },
      {
       "output_type": "stream",
       "stream": "stdout",
       "text": [
        "\n",
        "   930  |  \u001b[94m  0.011553\u001b[0m  |    0.026101  |     0.442614  |             |  0.2s"
       ]
      },
      {
       "output_type": "stream",
       "stream": "stdout",
       "text": [
        "\n",
        "   931  |  \u001b[94m  0.011544\u001b[0m  |    0.026103  |     0.442251  |             |  0.2s"
       ]
      },
      {
       "output_type": "stream",
       "stream": "stdout",
       "text": [
        "\n",
        "   932  |  \u001b[94m  0.011535\u001b[0m  |    0.026105  |     0.441889  |             |  0.2s"
       ]
      },
      {
       "output_type": "stream",
       "stream": "stdout",
       "text": [
        "\n",
        "   933  |  \u001b[94m  0.011527\u001b[0m  |    0.026107  |     0.441530  |             |  0.2s"
       ]
      },
      {
       "output_type": "stream",
       "stream": "stdout",
       "text": [
        "\n",
        "   934  |  \u001b[94m  0.011518\u001b[0m  |    0.026109  |     0.441163  |             |  0.2s"
       ]
      },
      {
       "output_type": "stream",
       "stream": "stdout",
       "text": [
        "\n",
        "   935  |  \u001b[94m  0.011510\u001b[0m  |    0.026111  |     0.440801  |             |  0.2s"
       ]
      },
      {
       "output_type": "stream",
       "stream": "stdout",
       "text": [
        "\n",
        "   936  |  \u001b[94m  0.011501\u001b[0m  |    0.026113  |     0.440435  |             |  0.2s"
       ]
      },
      {
       "output_type": "stream",
       "stream": "stdout",
       "text": [
        "\n",
        "   937  |  \u001b[94m  0.011492\u001b[0m  |    0.026115  |     0.440076  |             |  0.2s"
       ]
      },
      {
       "output_type": "stream",
       "stream": "stdout",
       "text": [
        "\n",
        "   938  |  \u001b[94m  0.011484\u001b[0m  |    0.026116  |     0.439728  |             |  0.2s"
       ]
      },
      {
       "output_type": "stream",
       "stream": "stdout",
       "text": [
        "\n",
        "   939  |  \u001b[94m  0.011475\u001b[0m  |    0.026118  |     0.439366  |             |  0.2s"
       ]
      },
      {
       "output_type": "stream",
       "stream": "stdout",
       "text": [
        "\n",
        "   940  |  \u001b[94m  0.011467\u001b[0m  |    0.026120  |     0.439007  |             |  0.2s"
       ]
      },
      {
       "output_type": "stream",
       "stream": "stdout",
       "text": [
        "\n",
        "   941  |  \u001b[94m  0.011458\u001b[0m  |    0.026121  |     0.438648  |             |  0.2s"
       ]
      },
      {
       "output_type": "stream",
       "stream": "stdout",
       "text": [
        "\n",
        "   942  |  \u001b[94m  0.011450\u001b[0m  |    0.026124  |     0.438284  |             |  0.2s"
       ]
      },
      {
       "output_type": "stream",
       "stream": "stdout",
       "text": [
        "\n",
        "   943  |  \u001b[94m  0.011441\u001b[0m  |    0.026125  |     0.437929  |             |  0.2s"
       ]
      },
      {
       "output_type": "stream",
       "stream": "stdout",
       "text": [
        "\n",
        "   944  |  \u001b[94m  0.011433\u001b[0m  |    0.026127  |     0.437572  |             |  0.2s"
       ]
      },
      {
       "output_type": "stream",
       "stream": "stdout",
       "text": [
        "\n",
        "   945  |  \u001b[94m  0.011424\u001b[0m  |    0.026129  |     0.437210  |             |  0.2s"
       ]
      },
      {
       "output_type": "stream",
       "stream": "stdout",
       "text": [
        "\n",
        "   946  |  \u001b[94m  0.011415\u001b[0m  |    0.026131  |     0.436853  |             |  0.2s"
       ]
      },
      {
       "output_type": "stream",
       "stream": "stdout",
       "text": [
        "\n",
        "   947  |  \u001b[94m  0.011407\u001b[0m  |    0.026133  |     0.436496  |             |  0.2s"
       ]
      },
      {
       "output_type": "stream",
       "stream": "stdout",
       "text": [
        "\n",
        "   948  |  \u001b[94m  0.011398\u001b[0m  |    0.026135  |     0.436136  |             |  0.2s"
       ]
      },
      {
       "output_type": "stream",
       "stream": "stdout",
       "text": [
        "\n",
        "   949  |  \u001b[94m  0.011390\u001b[0m  |    0.026137  |     0.435781  |             |  0.2s"
       ]
      },
      {
       "output_type": "stream",
       "stream": "stdout",
       "text": [
        "\n",
        "   950  |  \u001b[94m  0.011382\u001b[0m  |    0.026139  |     0.435432  |             |  0.2s"
       ]
      },
      {
       "output_type": "stream",
       "stream": "stdout",
       "text": [
        "\n",
        "   951  |  \u001b[94m  0.011373\u001b[0m  |    0.026141  |     0.435071  |             |  0.2s"
       ]
      },
      {
       "output_type": "stream",
       "stream": "stdout",
       "text": [
        "\n",
        "   952  |  \u001b[94m  0.011365\u001b[0m  |    0.026143  |     0.434719  |             |  0.2s"
       ]
      },
      {
       "output_type": "stream",
       "stream": "stdout",
       "text": [
        "\n",
        "   953  |  \u001b[94m  0.011356\u001b[0m  |    0.026145  |     0.434362  |             |  0.2s"
       ]
      },
      {
       "output_type": "stream",
       "stream": "stdout",
       "text": [
        "\n",
        "   954  |  \u001b[94m  0.011348\u001b[0m  |    0.026147  |     0.434006  |             |  0.2s"
       ]
      },
      {
       "output_type": "stream",
       "stream": "stdout",
       "text": [
        "\n",
        "   955  |  \u001b[94m  0.011339\u001b[0m  |    0.026149  |     0.433649  |             |  0.2s"
       ]
      },
      {
       "output_type": "stream",
       "stream": "stdout",
       "text": [
        "\n",
        "   956  |  \u001b[94m  0.011331\u001b[0m  |    0.026151  |     0.433292  |             |  0.2s"
       ]
      },
      {
       "output_type": "stream",
       "stream": "stdout",
       "text": [
        "\n",
        "   957  |  \u001b[94m  0.011323\u001b[0m  |    0.026153  |     0.432941  |             |  0.2s"
       ]
      },
      {
       "output_type": "stream",
       "stream": "stdout",
       "text": [
        "\n",
        "   958  |  \u001b[94m  0.011314\u001b[0m  |    0.026155  |     0.432590  |             |  0.2s"
       ]
      },
      {
       "output_type": "stream",
       "stream": "stdout",
       "text": [
        "\n",
        "   959  |  \u001b[94m  0.011306\u001b[0m  |    0.026157  |     0.432238  |             |  0.2s"
       ]
      },
      {
       "output_type": "stream",
       "stream": "stdout",
       "text": [
        "\n",
        "   960  |  \u001b[94m  0.011298\u001b[0m  |    0.026158  |     0.431887  |             |  0.2s"
       ]
      },
      {
       "output_type": "stream",
       "stream": "stdout",
       "text": [
        "\n",
        "   961  |  \u001b[94m  0.011289\u001b[0m  |    0.026161  |     0.431530  |             |  0.2s"
       ]
      },
      {
       "output_type": "stream",
       "stream": "stdout",
       "text": [
        "\n",
        "   962  |  \u001b[94m  0.011281\u001b[0m  |    0.026163  |     0.431178  |             |  0.2s"
       ]
      },
      {
       "output_type": "stream",
       "stream": "stdout",
       "text": [
        "\n",
        "   963  |  \u001b[94m  0.011272\u001b[0m  |    0.026165  |     0.430824  |             |  0.2s"
       ]
      },
      {
       "output_type": "stream",
       "stream": "stdout",
       "text": [
        "\n",
        "   964  |  \u001b[94m  0.011264\u001b[0m  |    0.026167  |     0.430470  |             |  0.2s"
       ]
      },
      {
       "output_type": "stream",
       "stream": "stdout",
       "text": [
        "\n",
        "   965  |  \u001b[94m  0.011256\u001b[0m  |    0.026169  |     0.430124  |             |  0.2s"
       ]
      },
      {
       "output_type": "stream",
       "stream": "stdout",
       "text": [
        "\n",
        "   966  |  \u001b[94m  0.011248\u001b[0m  |    0.026171  |     0.429771  |             |  0.2s"
       ]
      },
      {
       "output_type": "stream",
       "stream": "stdout",
       "text": [
        "\n",
        "   967  |  \u001b[94m  0.011239\u001b[0m  |    0.026173  |     0.429424  |             |  0.2s"
       ]
      },
      {
       "output_type": "stream",
       "stream": "stdout",
       "text": [
        "\n",
        "   968  |  \u001b[94m  0.011231\u001b[0m  |    0.026175  |     0.429073  |             |  0.2s"
       ]
      },
      {
       "output_type": "stream",
       "stream": "stdout",
       "text": [
        "\n",
        "   969  |  \u001b[94m  0.011223\u001b[0m  |    0.026177  |     0.428718  |             |  0.2s"
       ]
      },
      {
       "output_type": "stream",
       "stream": "stdout",
       "text": [
        "\n",
        "   970  |  \u001b[94m  0.011214\u001b[0m  |    0.026179  |     0.428369  |             |  0.2s"
       ]
      },
      {
       "output_type": "stream",
       "stream": "stdout",
       "text": [
        "\n",
        "   971  |  \u001b[94m  0.011206\u001b[0m  |    0.026182  |     0.428014  |             |  0.2s"
       ]
      },
      {
       "output_type": "stream",
       "stream": "stdout",
       "text": [
        "\n",
        "   972  |  \u001b[94m  0.011198\u001b[0m  |    0.026184  |     0.427667  |             |  0.2s"
       ]
      },
      {
       "output_type": "stream",
       "stream": "stdout",
       "text": [
        "\n",
        "   973  |  \u001b[94m  0.011190\u001b[0m  |    0.026186  |     0.427314  |             |  0.2s"
       ]
      },
      {
       "output_type": "stream",
       "stream": "stdout",
       "text": [
        "\n",
        "   974  |  \u001b[94m  0.011181\u001b[0m  |    0.026188  |     0.426964  |             |  0.2s"
       ]
      },
      {
       "output_type": "stream",
       "stream": "stdout",
       "text": [
        "\n",
        "   975  |  \u001b[94m  0.011173\u001b[0m  |    0.026190  |     0.426620  |             |  0.2s"
       ]
      },
      {
       "output_type": "stream",
       "stream": "stdout",
       "text": [
        "\n",
        "   976  |  \u001b[94m  0.011165\u001b[0m  |    0.026192  |     0.426269  |             |  0.2s"
       ]
      },
      {
       "output_type": "stream",
       "stream": "stdout",
       "text": [
        "\n",
        "   977  |  \u001b[94m  0.011157\u001b[0m  |    0.026194  |     0.425921  |             |  0.2s"
       ]
      },
      {
       "output_type": "stream",
       "stream": "stdout",
       "text": [
        "\n",
        "   978  |  \u001b[94m  0.011148\u001b[0m  |    0.026196  |     0.425581  |             |  0.2s"
       ]
      },
      {
       "output_type": "stream",
       "stream": "stdout",
       "text": [
        "\n",
        "   979  |  \u001b[94m  0.011140\u001b[0m  |    0.026198  |     0.425232  |             |  0.2s"
       ]
      },
      {
       "output_type": "stream",
       "stream": "stdout",
       "text": [
        "\n",
        "   980  |  \u001b[94m  0.011132\u001b[0m  |    0.026201  |     0.424879  |             |  0.2s"
       ]
      },
      {
       "output_type": "stream",
       "stream": "stdout",
       "text": [
        "\n",
        "   981  |  \u001b[94m  0.011124\u001b[0m  |    0.026203  |     0.424532  |             |  0.2s"
       ]
      },
      {
       "output_type": "stream",
       "stream": "stdout",
       "text": [
        "\n",
        "   982  |  \u001b[94m  0.011116\u001b[0m  |    0.026205  |     0.424190  |             |  0.2s"
       ]
      },
      {
       "output_type": "stream",
       "stream": "stdout",
       "text": [
        "\n",
        "   983  |  \u001b[94m  0.011108\u001b[0m  |    0.026207  |     0.423847  |             |  0.2s"
       ]
      },
      {
       "output_type": "stream",
       "stream": "stdout",
       "text": [
        "\n",
        "   984  |  \u001b[94m  0.011099\u001b[0m  |    0.026209  |     0.423501  |             |  0.2s"
       ]
      },
      {
       "output_type": "stream",
       "stream": "stdout",
       "text": [
        "\n",
        "   985  |  \u001b[94m  0.011091\u001b[0m  |    0.026211  |     0.423159  |             |  0.2s"
       ]
      },
      {
       "output_type": "stream",
       "stream": "stdout",
       "text": [
        "\n",
        "   986  |  \u001b[94m  0.011083\u001b[0m  |    0.026213  |     0.422814  |             |  0.2s"
       ]
      },
      {
       "output_type": "stream",
       "stream": "stdout",
       "text": [
        "\n",
        "   987  |  \u001b[94m  0.011075\u001b[0m  |    0.026215  |     0.422476  |             |  0.2s"
       ]
      },
      {
       "output_type": "stream",
       "stream": "stdout",
       "text": [
        "\n",
        "   988  |  \u001b[94m  0.011067\u001b[0m  |    0.026217  |     0.422131  |             |  0.2s"
       ]
      },
      {
       "output_type": "stream",
       "stream": "stdout",
       "text": [
        "\n",
        "   989  |  \u001b[94m  0.011059\u001b[0m  |    0.026219  |     0.421787  |             |  0.2s"
       ]
      },
      {
       "output_type": "stream",
       "stream": "stdout",
       "text": [
        "\n",
        "   990  |  \u001b[94m  0.011051\u001b[0m  |    0.026221  |     0.421447  |             |  0.2s"
       ]
      },
      {
       "output_type": "stream",
       "stream": "stdout",
       "text": [
        "\n",
        "   991  |  \u001b[94m  0.011043\u001b[0m  |    0.026223  |     0.421105  |             |  0.2s"
       ]
      },
      {
       "output_type": "stream",
       "stream": "stdout",
       "text": [
        "\n",
        "   992  |  \u001b[94m  0.011035\u001b[0m  |    0.026226  |     0.420765  |             |  0.2s"
       ]
      },
      {
       "output_type": "stream",
       "stream": "stdout",
       "text": [
        "\n",
        "   993  |  \u001b[94m  0.011027\u001b[0m  |    0.026228  |     0.420421  |             |  0.2s"
       ]
      },
      {
       "output_type": "stream",
       "stream": "stdout",
       "text": [
        "\n",
        "   994  |  \u001b[94m  0.011019\u001b[0m  |    0.026230  |     0.420078  |             |  0.2s"
       ]
      },
      {
       "output_type": "stream",
       "stream": "stdout",
       "text": [
        "\n",
        "   995  |  \u001b[94m  0.011011\u001b[0m  |    0.026232  |     0.419747  |             |  0.2s"
       ]
      },
      {
       "output_type": "stream",
       "stream": "stdout",
       "text": [
        "\n",
        "   996  |  \u001b[94m  0.011003\u001b[0m  |    0.026234  |     0.419407  |             |  0.2s"
       ]
      },
      {
       "output_type": "stream",
       "stream": "stdout",
       "text": [
        "\n",
        "   997  |  \u001b[94m  0.010995\u001b[0m  |    0.026236  |     0.419072  |             |  0.2s"
       ]
      },
      {
       "output_type": "stream",
       "stream": "stdout",
       "text": [
        "\n",
        "   998  |  \u001b[94m  0.010987\u001b[0m  |    0.026238  |     0.418730  |             |  0.2s"
       ]
      },
      {
       "output_type": "stream",
       "stream": "stdout",
       "text": [
        "\n",
        "   999  |  \u001b[94m  0.010979\u001b[0m  |    0.026240  |     0.418393  |             |  0.2s"
       ]
      },
      {
       "output_type": "stream",
       "stream": "stdout",
       "text": [
        "\n",
        "  1000  |  \u001b[94m  0.010971\u001b[0m  |    0.026242  |     0.418057  |             |  0.2s"
       ]
      },
      {
       "output_type": "stream",
       "stream": "stdout",
       "text": [
        "\n",
        "CPU times: user 2min 39s, sys: 56.9 s, total: 3min 36s\n",
        "Wall time: 3min 36s\n"
       ]
      },
      {
       "metadata": {},
       "output_type": "pyout",
       "prompt_number": 11,
       "text": [
        "NeuralNet(X_tensor_type=<function matrix at 0x7f4a85b37c08>,\n",
        "     batch_iterator=<nolearn.lasagne.BatchIterator object at 0x7f4a33d3cd10>,\n",
        "     eval_size=0.2, hidden_num_units=300, input_shape=(128, 2500),\n",
        "     layers=[('input', <class 'lasagne.layers.base.InputLayer'>), ('hidden', <class 'lasagne.layers.base.DenseLayer'>), ('output', <class 'lasagne.layers.base.DenseLayer'>)],\n",
        "     loss=<function mse at 0x7f4a33da7b90>, max_epochs=1000,\n",
        "     more_params={}, on_epoch_finished=(), on_training_finished=(),\n",
        "     output_nonlinearity=None, output_num_units=32, regression=True,\n",
        "     upate=<function nesterov_momentum at 0x7f4a33d3a9b0>,\n",
        "     update=<function nesterov_momentum at 0x7f4a33d3a9b0>,\n",
        "     update_learning_rate=0.01, update_momentum=0.9,\n",
        "     use_label_encoder=False, verbose=1,\n",
        "     y_tensor_type=TensorType(float32, matrix))"
       ]
      }
     ],
     "prompt_number": 11
    },
    {
     "cell_type": "code",
     "collapsed": false,
     "input": [
      "train_loss = np.array([i[\"train_loss\"] for i in net1.train_history_])\n",
      "valid_loss = np.array([i[\"valid_loss\"] for i in net1.train_history_])\n",
      "pyplot.plot(train_loss, linewidth=3, label=\"train\")\n",
      "pyplot.plot(valid_loss, linewidth=3, label=\"valid\")\n",
      "pyplot.grid()\n",
      "pyplot.legend()\n",
      "pyplot.xlabel(\"epoch\")\n",
      "pyplot.ylabel(\"loss\")\n",
      "pyplot.ylim(2.5e-2, 0.32e-1)\n",
      "# pyplot.yscale(\"log\")\n",
      "pyplot.show()"
     ],
     "language": "python",
     "metadata": {},
     "outputs": [
      {
       "metadata": {},
       "output_type": "display_data",
       "png": "[encoded data removed]",
       "text": [
        "<matplotlib.figure.Figure at 0x7f4a283efcd0>"
       ]
      }
     ],
     "prompt_number": 13
    },
    {
     "cell_type": "code",
     "collapsed": false,
     "input": [
      "from sklearn import metrics\n",
      "\n",
      "# overfit result, should use validation result\n",
      "y_pred = net1.predict(X_test)\n",
      "# print y_pred[1]\n",
      "# np.argmax(y_pred[i]),np.argmax(y[i])\n",
      "y_pred = np.array(map((lambda x: np.argmax(x)), y_pred))\n",
      "yyy = np.array(map((lambda x: np.argmax(x)), y_test))\n",
      "\n",
      "print metrics.classification_report((yyy), (y_pred))"
     ],
     "language": "python",
     "metadata": {},
     "outputs": [
      {
       "output_type": "stream",
       "stream": "stdout",
       "text": [
        "             precision    recall  f1-score   support\n",
        "\n",
        "          0       0.67      0.60      0.64       154\n",
        "          1       0.32      0.32      0.32       146\n",
        "          2       0.47      0.32      0.38       157\n",
        "          3       0.42      0.34      0.37       156\n",
        "          4       0.41      0.42      0.42       155\n",
        "          5       0.56      0.55      0.55       144\n",
        "          6       0.40      0.30      0.35       146\n",
        "          7       0.42      0.44      0.43       150\n",
        "          8       0.44      0.52      0.48       150\n",
        "          9       0.38      0.39      0.39       154\n",
        "         10       0.46      0.44      0.45       158\n",
        "         11       0.57      0.47      0.51       159\n",
        "         12       0.46      0.71      0.56       278\n",
        "         13       0.44      0.54      0.48       261\n",
        "         14       0.40      0.50      0.45       230\n",
        "         15       0.54      0.61      0.57       262\n",
        "         16       0.37      0.34      0.35       112\n",
        "         17       0.27      0.34      0.30       243\n",
        "         18       0.42      0.36      0.39       132\n",
        "         19       0.49      0.69      0.57       255\n",
        "         20       0.45      0.16      0.24       142\n",
        "         21       0.35      0.43      0.39       260\n",
        "         22       0.54      0.40      0.46       144\n",
        "         23       0.53      0.39      0.45       143\n",
        "         24       0.31      0.22      0.26       137\n",
        "         25       0.38      0.41      0.39       112\n",
        "         26       0.41      0.31      0.36       125\n",
        "         27       0.46      0.48      0.47       122\n",
        "         28       0.43      0.36      0.39       126\n",
        "         29       0.73      0.61      0.66       135\n",
        "         30       0.35      0.21      0.27       132\n",
        "         31       0.43      0.26      0.32       147\n",
        "\n",
        "avg / total       0.44      0.44      0.43      5327\n",
        "\n"
       ]
      }
     ],
     "prompt_number": 14
    },
    {
     "cell_type": "markdown",
     "metadata": {},
     "source": [
      "## NET 6 in the rock"
     ]
    },
    {
     "cell_type": "code",
     "collapsed": false,
     "input": [
      "import theano\n",
      "from lasagne import layers\n",
      "from lasagne.updates import nesterov_momentum\n",
      "from nolearn.lasagne import NeuralNet\n",
      "\n",
      "def float32(k):\n",
      "    return np.cast['float32'](k)\n",
      "\n",
      "class AdjustVariable(object):\n",
      "    def __init__(self, name, start=0.03, stop=0.001):\n",
      "        self.name = name\n",
      "        self.start, self.stop = start, stop\n",
      "        self.ls = None\n",
      "\n",
      "    def __call__(self, nn, train_history):\n",
      "        if self.ls is None:\n",
      "            self.ls = np.linspace(self.start, self.stop, nn.max_epochs)\n",
      "\n",
      "        epoch = train_history[-1]['epoch']\n",
      "        new_value = float32(self.ls[epoch - 1])\n",
      "        getattr(nn, self.name).set_value(new_value)\n",
      "\n",
      "class EarlyStopping(object):\n",
      "    def __init__(self, patience=100):\n",
      "        self.patience = patience\n",
      "        self.best_valid = np.inf\n",
      "        self.best_valid_epoch = 0\n",
      "        self.best_weights = None\n",
      "\n",
      "    def __call__(self, nn, train_history):\n",
      "        current_valid = train_history[-1]['valid_loss']\n",
      "        current_epoch = train_history[-1]['epoch']\n",
      "        if current_valid < self.best_valid:\n",
      "            self.best_valid = current_valid\n",
      "            self.best_valid_epoch = current_epoch\n",
      "            self.best_weights = [w.get_value() for w in nn.get_all_params()]\n",
      "        elif self.best_valid_epoch + self.patience < current_epoch:\n",
      "            print(\"Early stopping.\")\n",
      "            print(\"Best valid loss was {:.6f} at epoch {}.\".format(\n",
      "                self.best_valid, self.best_valid_epoch))\n",
      "            nn.load_weights_from(self.best_weights)\n",
      "            raise StopIteration()\n",
      "        \n",
      "# use the cuda-convnet implementations of conv and max-pool layer\n",
      "Conv2DLayer = layers.cuda_convnet.Conv2DCCLayer\n",
      "MaxPool2DLayer = layers.cuda_convnet.MaxPool2DCCLayer\n",
      "\n",
      "net7 = NeuralNet(\n",
      "    layers=[\n",
      "        ('input', layers.InputLayer),\n",
      "        ('conv1', Conv2DLayer),\n",
      "        ('pool1', MaxPool2DLayer),\n",
      "        ('dropout1', layers.DropoutLayer),  # !\n",
      "        ('conv2', Conv2DLayer),\n",
      "        ('pool2', MaxPool2DLayer),\n",
      "        ('dropout2', layers.DropoutLayer),  # !\n",
      "        ('conv3', Conv2DLayer),\n",
      "        ('pool3', MaxPool2DLayer),\n",
      "        ('dropout3', layers.DropoutLayer),  # !\n",
      "        ('hidden4', layers.DenseLayer),\n",
      "        ('dropout4', layers.DropoutLayer),  # !\n",
      "        ('hidden5', layers.DenseLayer),\n",
      "        ('output', layers.DenseLayer),\n",
      "        ],\n",
      "    input_shape=(128, 1, 50,50),\n",
      "    conv1_num_filters=32, conv1_filter_size=(3, 3), pool1_ds=(2, 2),\n",
      "    # dropout1_p=0.1, # !\n",
      "    dropout1_p=0.1,  # !\n",
      "    conv2_num_filters=64, conv2_filter_size=(2, 2), pool2_ds=(2, 2),\n",
      "    # dropout2_p=0.2,  # !\n",
      "    dropout2_p=0.2,  # !\n",
      "    conv3_num_filters=128, conv3_filter_size=(2, 2), pool3_ds=(2, 2),\n",
      "    # dropout3_p=0.3,  # !\n",
      "    dropout3_p=0.3,  # !\n",
      "    hidden4_num_units=1000,\n",
      "    # hidden4_num_units=1000,  # !\n",
      "    dropout4_p=0.5,  # !\n",
      "    hidden5_num_units=1000,\n",
      "    # hidden5_num_units=1000,  # !\n",
      "    output_num_units=32, output_nonlinearity=None,\n",
      "\n",
      "    update_learning_rate=theano.shared(float32(0.03)),\n",
      "    update_momentum=theano.shared(float32(0.9)),\n",
      "\n",
      "    regression=True,\n",
      "#     batch_iterator=FlipBatchIterator(batch_size=128),\n",
      "    on_epoch_finished=[\n",
      "        AdjustVariable('update_learning_rate', start=0.03, stop=0.0001),\n",
      "        AdjustVariable('update_momentum', start=0.9, stop=0.999),\n",
      "        EarlyStopping(patience=175),\n",
      "        ],\n",
      "    max_epochs=4000,\n",
      "    # max_epochs=7000,\n",
      "    verbose=1,\n",
      "    )"
     ],
     "language": "python",
     "metadata": {},
     "outputs": [
      {
       "output_type": "stream",
       "stream": "stderr",
       "text": [
        "Using gpu device 0: GRID K520\n"
       ]
      }
     ],
     "prompt_number": 9
    },
    {
     "cell_type": "code",
     "collapsed": false,
     "input": [
      "def transform_6(X,y):\n",
      "    X = X.reshape(-1, 50,50, 1)\n",
      "    X = X.transpose(0, 3, 1, 2)\n",
      "    return X, y\n",
      "\n",
      "# X_train = X_train.reshape(-1,1,sizee,sizee)\n",
      "# X_test = X_test.reshape(-1, 1,sizee,sizee)\n",
      "# X_train.shape"
     ],
     "language": "python",
     "metadata": {},
     "outputs": [],
     "prompt_number": 10
    },
    {
     "cell_type": "code",
     "collapsed": false,
     "input": [
      "import sys\n",
      "sys.setrecursionlimit(10000)\n",
      "\n",
      "X_6, y_6 = transform_6(X_train, y_train)\n",
      "%time net7.fit(X_6, y_6)\n",
      "\n",
      "import cPickle as pickle\n",
      "with open('Lasagne_4th.pickle', 'wb') as f:\n",
      "    pickle.dump(net7, f, -1)"
     ],
     "language": "python",
     "metadata": {},
     "outputs": [
      {
       "output_type": "stream",
       "stream": "stdout",
       "text": [
        "  InputLayer        \t(128, 1, 50, 50)    \tproduces    2500 outputs\n",
        "  Conv2DCCLayer     \t(128, 32, 48, 48)   \tproduces   73728 outputs\n",
        "  MaxPool2DCCLayer  \t(128, 32, 24, 24)   \tproduces   18432 outputs\n",
        "  DropoutLayer      \t(128, 32, 24, 24)   \tproduces   18432 outputs\n",
        "  Conv2DCCLayer     \t(128, 64, 23, 23)   \tproduces   33856 outputs\n",
        "  MaxPool2DCCLayer  \t(128, 64, 12, 12)   \tproduces    9216 outputs\n",
        "  DropoutLayer      \t(128, 64, 12, 12)   \tproduces    9216 outputs\n",
        "  Conv2DCCLayer     \t(128, 128, 11, 11)  \tproduces   15488 outputs\n",
        "  MaxPool2DCCLayer  \t(128, 128, 6, 6)    \tproduces    4608 outputs\n",
        "  DropoutLayer      \t(128, 128, 6, 6)    \tproduces    4608 outputs\n",
        "  DenseLayer        \t(128, 1000)         \tproduces    1000 outputs\n",
        "  DropoutLayer      \t(128, 1000)         \tproduces    1000 outputs\n",
        "  DenseLayer        \t(128, 1000)         \tproduces    1000 outputs\n",
        "  DenseLayer        \t(128, 32)           \tproduces      32 outputs\n",
        "\n",
        " Epoch  |  Train loss  |  Valid loss  |  Train / Val  |  Valid acc  |  Dur\n",
        "--------|--------------|--------------|---------------|-------------|-------"
       ]
      },
      {
       "output_type": "stream",
       "stream": "stdout",
       "text": [
        "\n",
        "     1  |  \u001b[94m  0.032088\u001b[0m  |  \u001b[32m  0.030206\u001b[0m  |     1.062285  |             |  4.2s"
       ]
      },
      {
       "output_type": "stream",
       "stream": "stdout",
       "text": [
        "\n",
        "     2  |  \u001b[94m  0.030330\u001b[0m  |  \u001b[32m  0.030102\u001b[0m  |     1.007592  |             |  4.2s"
       ]
      },
      {
       "output_type": "stream",
       "stream": "stdout",
       "text": [
        "\n",
        "     3  |  \u001b[94m  0.030168\u001b[0m  |  \u001b[32m  0.030056\u001b[0m  |     1.003727  |             |  4.2s"
       ]
      },
      {
       "output_type": "stream",
       "stream": "stdout",
       "text": [
        "\n",
        "     4  |  \u001b[94m  0.030076\u001b[0m  |  \u001b[32m  0.030005\u001b[0m  |     1.002345  |             |  4.2s"
       ]
      },
      {
       "output_type": "stream",
       "stream": "stdout",
       "text": [
        "\n",
        "     5  |  \u001b[94m  0.029990\u001b[0m  |  \u001b[32m  0.029949\u001b[0m  |     1.001372  |             |  4.2s"
       ]
      },
      {
       "output_type": "stream",
       "stream": "stdout",
       "text": [
        "\n",
        "     6  |  \u001b[94m  0.029949\u001b[0m  |  \u001b[32m  0.029894\u001b[0m  |     1.001861  |             |  4.2s"
       ]
      },
      {
       "output_type": "stream",
       "stream": "stdout",
       "text": [
        "\n",
        "     7  |  \u001b[94m  0.029869\u001b[0m  |  \u001b[32m  0.029827\u001b[0m  |     1.001401  |             |  4.1s"
       ]
      },
      {
       "output_type": "stream",
       "stream": "stdout",
       "text": [
        "\n",
        "     8  |  \u001b[94m  0.029803\u001b[0m  |  \u001b[32m  0.029751\u001b[0m  |     1.001749  |             |  4.2s"
       ]
      },
      {
       "output_type": "stream",
       "stream": "stdout",
       "text": [
        "\n",
        "     9  |  \u001b[94m  0.029737\u001b[0m  |  \u001b[32m  0.029686\u001b[0m  |     1.001739  |             |  4.2s"
       ]
      },
      {
       "output_type": "stream",
       "stream": "stdout",
       "text": [
        "\n",
        "    10  |  \u001b[94m  0.029676\u001b[0m  |  \u001b[32m  0.029620\u001b[0m  |     1.001898  |             |  4.2s"
       ]
      },
      {
       "output_type": "stream",
       "stream": "stdout",
       "text": [
        "\n",
        "    11  |  \u001b[94m  0.029605\u001b[0m  |  \u001b[32m  0.029562\u001b[0m  |     1.001433  |             |  4.2s"
       ]
      },
      {
       "output_type": "stream",
       "stream": "stdout",
       "text": [
        "\n",
        "    12  |  \u001b[94m  0.029538\u001b[0m  |  \u001b[32m  0.029505\u001b[0m  |     1.001141  |             |  4.2s"
       ]
      },
      {
       "output_type": "stream",
       "stream": "stdout",
       "text": [
        "\n",
        "    13  |  \u001b[94m  0.029477\u001b[0m  |  \u001b[32m  0.029440\u001b[0m  |     1.001263  |             |  4.2s"
       ]
      },
      {
       "output_type": "stream",
       "stream": "stdout",
       "text": [
        "\n",
        "    14  |  \u001b[94m  0.029409\u001b[0m  |  \u001b[32m  0.029375\u001b[0m  |     1.001178  |             |  4.2s"
       ]
      },
      {
       "output_type": "stream",
       "stream": "stdout",
       "text": [
        "\n",
        "    15  |  \u001b[94m  0.029352\u001b[0m  |  \u001b[32m  0.029328\u001b[0m  |     1.000829  |             |  4.2s"
       ]
      },
      {
       "output_type": "stream",
       "stream": "stdout",
       "text": [
        "\n",
        "    16  |  \u001b[94m  0.029317\u001b[0m  |  \u001b[32m  0.029287\u001b[0m  |     1.001027  |             |  4.2s"
       ]
      },
      {
       "output_type": "stream",
       "stream": "stdout",
       "text": [
        "\n",
        "    17  |  \u001b[94m  0.029222\u001b[0m  |  \u001b[32m  0.029218\u001b[0m  |     1.000139  |             |  4.2s"
       ]
      },
      {
       "output_type": "stream",
       "stream": "stdout",
       "text": [
        "\n",
        "    18  |  \u001b[94m  0.029173\u001b[0m  |  \u001b[32m  0.029163\u001b[0m  |     1.000332  |             |  4.2s"
       ]
      },
      {
       "output_type": "stream",
       "stream": "stdout",
       "text": [
        "\n",
        "    19  |  \u001b[94m  0.029147\u001b[0m  |  \u001b[32m  0.029117\u001b[0m  |     1.001033  |             |  4.2s"
       ]
      },
      {
       "output_type": "stream",
       "stream": "stdout",
       "text": [
        "\n",
        "    20  |  \u001b[94m  0.029091\u001b[0m  |  \u001b[32m  0.029077\u001b[0m  |     1.000454  |             |  4.2s"
       ]
      },
      {
       "output_type": "stream",
       "stream": "stdout",
       "text": [
        "\n",
        "    21  |  \u001b[94m  0.029017\u001b[0m  |  \u001b[32m  0.029028\u001b[0m  |     0.999621  |             |  4.2s"
       ]
      },
      {
       "output_type": "stream",
       "stream": "stdout",
       "text": [
        "\n",
        "    22  |  \u001b[94m  0.028987\u001b[0m  |  \u001b[32m  0.028972\u001b[0m  |     1.000513  |             |  4.2s"
       ]
      },
      {
       "output_type": "stream",
       "stream": "stdout",
       "text": [
        "\n",
        "    23  |  \u001b[94m  0.028944\u001b[0m  |  \u001b[32m  0.028945\u001b[0m  |     0.999985  |             |  4.2s"
       ]
      },
      {
       "output_type": "stream",
       "stream": "stdout",
       "text": [
        "\n",
        "    24  |  \u001b[94m  0.028905\u001b[0m  |  \u001b[32m  0.028887\u001b[0m  |     1.000640  |             |  4.2s"
       ]
      },
      {
       "output_type": "stream",
       "stream": "stdout",
       "text": [
        "\n",
        "    25  |  \u001b[94m  0.028840\u001b[0m  |  \u001b[32m  0.028830\u001b[0m  |     1.000369  |             |  4.2s"
       ]
      },
      {
       "output_type": "stream",
       "stream": "stdout",
       "text": [
        "\n",
        "    26  |  \u001b[94m  0.028815\u001b[0m  |  \u001b[32m  0.028790\u001b[0m  |     1.000876  |             |  4.2s"
       ]
      },
      {
       "output_type": "stream",
       "stream": "stdout",
       "text": [
        "\n",
        "    27  |  \u001b[94m  0.028755\u001b[0m  |  \u001b[32m  0.028746\u001b[0m  |     1.000311  |             |  4.2s"
       ]
      },
      {
       "output_type": "stream",
       "stream": "stdout",
       "text": [
        "\n",
        "    28  |  \u001b[94m  0.028725\u001b[0m  |  \u001b[32m  0.028703\u001b[0m  |     1.000762  |             |  4.2s"
       ]
      },
      {
       "output_type": "stream",
       "stream": "stdout",
       "text": [
        "\n",
        "    29  |  \u001b[94m  0.028647\u001b[0m  |  \u001b[32m  0.028655\u001b[0m  |     0.999711  |             |  4.2s"
       ]
      },
      {
       "output_type": "stream",
       "stream": "stdout",
       "text": [
        "\n",
        "    30  |  \u001b[94m  0.028598\u001b[0m  |  \u001b[32m  0.028589\u001b[0m  |     1.000333  |             |  4.2s"
       ]
      },
      {
       "output_type": "stream",
       "stream": "stdout",
       "text": [
        "\n",
        "    31  |  \u001b[94m  0.028561\u001b[0m  |  \u001b[32m  0.028556\u001b[0m  |     1.000170  |             |  4.2s"
       ]
      },
      {
       "output_type": "stream",
       "stream": "stdout",
       "text": [
        "\n",
        "    32  |  \u001b[94m  0.028524\u001b[0m  |  \u001b[32m  0.028492\u001b[0m  |     1.001115  |             |  4.2s"
       ]
      },
      {
       "output_type": "stream",
       "stream": "stdout",
       "text": [
        "\n",
        "    33  |  \u001b[94m  0.028502\u001b[0m  |  \u001b[32m  0.028446\u001b[0m  |     1.001967  |             |  4.2s"
       ]
      },
      {
       "output_type": "stream",
       "stream": "stdout",
       "text": [
        "\n",
        "    34  |  \u001b[94m  0.028428\u001b[0m  |  \u001b[32m  0.028402\u001b[0m  |     1.000898  |             |  4.2s"
       ]
      },
      {
       "output_type": "stream",
       "stream": "stdout",
       "text": [
        "\n",
        "    35  |  \u001b[94m  0.028385\u001b[0m  |  \u001b[32m  0.028350\u001b[0m  |     1.001249  |             |  4.2s"
       ]
      },
      {
       "output_type": "stream",
       "stream": "stdout",
       "text": [
        "\n",
        "    36  |  \u001b[94m  0.028346\u001b[0m  |  \u001b[32m  0.028290\u001b[0m  |     1.001970  |             |  4.2s"
       ]
      },
      {
       "output_type": "stream",
       "stream": "stdout",
       "text": [
        "\n",
        "    37  |  \u001b[94m  0.028283\u001b[0m  |  \u001b[32m  0.028260\u001b[0m  |     1.000844  |             |  4.2s"
       ]
      },
      {
       "output_type": "stream",
       "stream": "stdout",
       "text": [
        "\n",
        "    38  |  \u001b[94m  0.028229\u001b[0m  |  \u001b[32m  0.028185\u001b[0m  |     1.001563  |             |  4.1s"
       ]
      },
      {
       "output_type": "stream",
       "stream": "stdout",
       "text": [
        "\n",
        "    39  |  \u001b[94m  0.028185\u001b[0m  |  \u001b[32m  0.028137\u001b[0m  |     1.001703  |             |  4.1s"
       ]
      },
      {
       "output_type": "stream",
       "stream": "stdout",
       "text": [
        "\n",
        "    40  |  \u001b[94m  0.028143\u001b[0m  |  \u001b[32m  0.028051\u001b[0m  |     1.003284  |             |  4.2s"
       ]
      },
      {
       "output_type": "stream",
       "stream": "stdout",
       "text": [
        "\n",
        "    41  |  \u001b[94m  0.028085\u001b[0m  |  \u001b[32m  0.028002\u001b[0m  |     1.002941  |             |  4.2s"
       ]
      },
      {
       "output_type": "stream",
       "stream": "stdout",
       "text": [
        "\n",
        "    42  |  \u001b[94m  0.028009\u001b[0m  |  \u001b[32m  0.027938\u001b[0m  |     1.002560  |             |  4.2s"
       ]
      },
      {
       "output_type": "stream",
       "stream": "stdout",
       "text": [
        "\n",
        "    43  |  \u001b[94m  0.027980\u001b[0m  |  \u001b[32m  0.027876\u001b[0m  |     1.003731  |             |  4.2s"
       ]
      },
      {
       "output_type": "stream",
       "stream": "stdout",
       "text": [
        "\n",
        "    44  |  \u001b[94m  0.027929\u001b[0m  |  \u001b[32m  0.027840\u001b[0m  |     1.003199  |             |  4.2s"
       ]
      },
      {
       "output_type": "stream",
       "stream": "stdout",
       "text": [
        "\n",
        "    45  |  \u001b[94m  0.027873\u001b[0m  |  \u001b[32m  0.027766\u001b[0m  |     1.003858  |             |  4.1s"
       ]
      },
      {
       "output_type": "stream",
       "stream": "stdout",
       "text": [
        "\n",
        "    46  |  \u001b[94m  0.027789\u001b[0m  |  \u001b[32m  0.027692\u001b[0m  |     1.003526  |             |  4.1s"
       ]
      },
      {
       "output_type": "stream",
       "stream": "stdout",
       "text": [
        "\n",
        "    47  |  \u001b[94m  0.027731\u001b[0m  |  \u001b[32m  0.027612\u001b[0m  |     1.004306  |             |  4.1s"
       ]
      },
      {
       "output_type": "stream",
       "stream": "stdout",
       "text": [
        "\n",
        "    48  |  \u001b[94m  0.027685\u001b[0m  |  \u001b[32m  0.027509\u001b[0m  |     1.006395  |             |  4.2s"
       ]
      },
      {
       "output_type": "stream",
       "stream": "stdout",
       "text": [
        "\n",
        "    49  |  \u001b[94m  0.027625\u001b[0m  |  \u001b[32m  0.027449\u001b[0m  |     1.006390  |             |  4.2s"
       ]
      },
      {
       "output_type": "stream",
       "stream": "stdout",
       "text": [
        "\n",
        "    50  |  \u001b[94m  0.027542\u001b[0m  |  \u001b[32m  0.027375\u001b[0m  |     1.006110  |             |  4.2s"
       ]
      },
      {
       "output_type": "stream",
       "stream": "stdout",
       "text": [
        "\n",
        "    51  |  \u001b[94m  0.027452\u001b[0m  |  \u001b[32m  0.027283\u001b[0m  |     1.006214  |             |  4.2s"
       ]
      },
      {
       "output_type": "stream",
       "stream": "stdout",
       "text": [
        "\n",
        "    52  |  \u001b[94m  0.027419\u001b[0m  |  \u001b[32m  0.027217\u001b[0m  |     1.007415  |             |  4.2s"
       ]
      },
      {
       "output_type": "stream",
       "stream": "stdout",
       "text": [
        "\n",
        "    53  |  \u001b[94m  0.027385\u001b[0m  |  \u001b[32m  0.027131\u001b[0m  |     1.009361  |             |  4.2s"
       ]
      },
      {
       "output_type": "stream",
       "stream": "stdout",
       "text": [
        "\n",
        "    54  |  \u001b[94m  0.027294\u001b[0m  |  \u001b[32m  0.027016\u001b[0m  |     1.010265  |             |  4.1s"
       ]
      },
      {
       "output_type": "stream",
       "stream": "stdout",
       "text": [
        "\n",
        "    55  |  \u001b[94m  0.027200\u001b[0m  |  \u001b[32m  0.026930\u001b[0m  |     1.010029  |             |  4.1s"
       ]
      },
      {
       "output_type": "stream",
       "stream": "stdout",
       "text": [
        "\n",
        "    56  |  \u001b[94m  0.027137\u001b[0m  |  \u001b[32m  0.026867\u001b[0m  |     1.010055  |             |  4.1s"
       ]
      },
      {
       "output_type": "stream",
       "stream": "stdout",
       "text": [
        "\n",
        "    57  |  \u001b[94m  0.027046\u001b[0m  |  \u001b[32m  0.026750\u001b[0m  |     1.011068  |             |  4.2s"
       ]
      },
      {
       "output_type": "stream",
       "stream": "stdout",
       "text": [
        "\n",
        "    58  |  \u001b[94m  0.026995\u001b[0m  |  \u001b[32m  0.026661\u001b[0m  |     1.012532  |             |  4.2s"
       ]
      },
      {
       "output_type": "stream",
       "stream": "stdout",
       "text": [
        "\n",
        "    59  |  \u001b[94m  0.026918\u001b[0m  |  \u001b[32m  0.026581\u001b[0m  |     1.012670  |             |  4.1s"
       ]
      },
      {
       "output_type": "stream",
       "stream": "stdout",
       "text": [
        "\n",
        "    60  |  \u001b[94m  0.026821\u001b[0m  |  \u001b[32m  0.026485\u001b[0m  |     1.012686  |             |  4.2s"
       ]
      },
      {
       "output_type": "stream",
       "stream": "stdout",
       "text": [
        "\n",
        "    61  |  \u001b[94m  0.026726\u001b[0m  |  \u001b[32m  0.026417\u001b[0m  |     1.011704  |             |  4.2s"
       ]
      },
      {
       "output_type": "stream",
       "stream": "stdout",
       "text": [
        "\n",
        "    62  |  \u001b[94m  0.026688\u001b[0m  |  \u001b[32m  0.026329\u001b[0m  |     1.013642  |             |  4.2s"
       ]
      },
      {
       "output_type": "stream",
       "stream": "stdout",
       "text": [
        "\n",
        "    63  |  \u001b[94m  0.026608\u001b[0m  |  \u001b[32m  0.026253\u001b[0m  |     1.013537  |             |  4.2s"
       ]
      },
      {
       "output_type": "stream",
       "stream": "stdout",
       "text": [
        "\n",
        "    64  |  \u001b[94m  0.026491\u001b[0m  |  \u001b[32m  0.026150\u001b[0m  |     1.013047  |             |  4.2s"
       ]
      },
      {
       "output_type": "stream",
       "stream": "stdout",
       "text": [
        "\n",
        "    65  |  \u001b[94m  0.026430\u001b[0m  |  \u001b[32m  0.026055\u001b[0m  |     1.014395  |             |  4.2s"
       ]
      },
      {
       "output_type": "stream",
       "stream": "stdout",
       "text": [
        "\n",
        "    66  |  \u001b[94m  0.026386\u001b[0m  |  \u001b[32m  0.025973\u001b[0m  |     1.015883  |             |  4.1s"
       ]
      },
      {
       "output_type": "stream",
       "stream": "stdout",
       "text": [
        "\n",
        "    67  |  \u001b[94m  0.026313\u001b[0m  |  \u001b[32m  0.025890\u001b[0m  |     1.016333  |             |  4.2s"
       ]
      },
      {
       "output_type": "stream",
       "stream": "stdout",
       "text": [
        "\n",
        "    68  |  \u001b[94m  0.026237\u001b[0m  |  \u001b[32m  0.025780\u001b[0m  |     1.017726  |             |  4.2s"
       ]
      },
      {
       "output_type": "stream",
       "stream": "stdout",
       "text": [
        "\n",
        "    69  |  \u001b[94m  0.026138\u001b[0m  |  \u001b[32m  0.025708\u001b[0m  |     1.016736  |             |  4.2s"
       ]
      },
      {
       "output_type": "stream",
       "stream": "stdout",
       "text": [
        "\n",
        "    70  |  \u001b[94m  0.026061\u001b[0m  |  \u001b[32m  0.025605\u001b[0m  |     1.017798  |             |  4.2s"
       ]
      },
      {
       "output_type": "stream",
       "stream": "stdout",
       "text": [
        "\n",
        "    71  |  \u001b[94m  0.025995\u001b[0m  |  \u001b[32m  0.025522\u001b[0m  |     1.018555  |             |  4.2s"
       ]
      },
      {
       "output_type": "stream",
       "stream": "stdout",
       "text": [
        "\n",
        "    72  |  \u001b[94m  0.025930\u001b[0m  |  \u001b[32m  0.025437\u001b[0m  |     1.019383  |             |  4.2s"
       ]
      },
      {
       "output_type": "stream",
       "stream": "stdout",
       "text": [
        "\n",
        "    73  |  \u001b[94m  0.025840\u001b[0m  |  \u001b[32m  0.025346\u001b[0m  |     1.019482  |             |  4.2s"
       ]
      },
      {
       "output_type": "stream",
       "stream": "stdout",
       "text": [
        "\n",
        "    74  |  \u001b[94m  0.025757\u001b[0m  |  \u001b[32m  0.025266\u001b[0m  |     1.019445  |             |  4.2s"
       ]
      },
      {
       "output_type": "stream",
       "stream": "stdout",
       "text": [
        "\n",
        "    75  |  \u001b[94m  0.025699\u001b[0m  |  \u001b[32m  0.025187\u001b[0m  |     1.020346  |             |  4.2s"
       ]
      },
      {
       "output_type": "stream",
       "stream": "stdout",
       "text": [
        "\n",
        "    76  |  \u001b[94m  0.025636\u001b[0m  |  \u001b[32m  0.025114\u001b[0m  |     1.020756  |             |  4.2s"
       ]
      },
      {
       "output_type": "stream",
       "stream": "stdout",
       "text": [
        "\n",
        "    77  |  \u001b[94m  0.025526\u001b[0m  |  \u001b[32m  0.025001\u001b[0m  |     1.020984  |             |  4.2s"
       ]
      },
      {
       "output_type": "stream",
       "stream": "stdout",
       "text": [
        "\n",
        "    78  |  \u001b[94m  0.025466\u001b[0m  |  \u001b[32m  0.024962\u001b[0m  |     1.020199  |             |  4.2s"
       ]
      },
      {
       "output_type": "stream",
       "stream": "stdout",
       "text": [
        "\n",
        "    79  |  \u001b[94m  0.025414\u001b[0m  |  \u001b[32m  0.024858\u001b[0m  |     1.022382  |             |  4.2s"
       ]
      },
      {
       "output_type": "stream",
       "stream": "stdout",
       "text": [
        "\n",
        "    80  |  \u001b[94m  0.025327\u001b[0m  |  \u001b[32m  0.024796\u001b[0m  |     1.021427  |             |  4.2s"
       ]
      },
      {
       "output_type": "stream",
       "stream": "stdout",
       "text": [
        "\n",
        "    81  |  \u001b[94m  0.025281\u001b[0m  |  \u001b[32m  0.024694\u001b[0m  |     1.023749  |             |  4.2s"
       ]
      },
      {
       "output_type": "stream",
       "stream": "stdout",
       "text": [
        "\n",
        "    82  |  \u001b[94m  0.025241\u001b[0m  |  \u001b[32m  0.024635\u001b[0m  |     1.024586  |             |  4.2s"
       ]
      },
      {
       "output_type": "stream",
       "stream": "stdout",
       "text": [
        "\n",
        "    83  |  \u001b[94m  0.025103\u001b[0m  |  \u001b[32m  0.024536\u001b[0m  |     1.023073  |             |  4.2s"
       ]
      },
      {
       "output_type": "stream",
       "stream": "stdout",
       "text": [
        "\n",
        "    84  |  \u001b[94m  0.025052\u001b[0m  |  \u001b[32m  0.024472\u001b[0m  |     1.023678  |             |  4.2s"
       ]
      },
      {
       "output_type": "stream",
       "stream": "stdout",
       "text": [
        "\n",
        "    85  |  \u001b[94m  0.024979\u001b[0m  |  \u001b[32m  0.024405\u001b[0m  |     1.023527  |             |  4.2s"
       ]
      },
      {
       "output_type": "stream",
       "stream": "stdout",
       "text": [
        "\n",
        "    86  |  \u001b[94m  0.024908\u001b[0m  |  \u001b[32m  0.024334\u001b[0m  |     1.023596  |             |  4.2s"
       ]
      },
      {
       "output_type": "stream",
       "stream": "stdout",
       "text": [
        "\n",
        "    87  |  \u001b[94m  0.024842\u001b[0m  |  \u001b[32m  0.024215\u001b[0m  |     1.025893  |             |  4.2s"
       ]
      },
      {
       "output_type": "stream",
       "stream": "stdout",
       "text": [
        "\n",
        "    88  |  \u001b[94m  0.024772\u001b[0m  |  \u001b[32m  0.024151\u001b[0m  |     1.025709  |             |  4.2s"
       ]
      },
      {
       "output_type": "stream",
       "stream": "stdout",
       "text": [
        "\n",
        "    89  |  \u001b[94m  0.024694\u001b[0m  |  \u001b[32m  0.024076\u001b[0m  |     1.025644  |             |  4.2s"
       ]
      },
      {
       "output_type": "stream",
       "stream": "stdout",
       "text": [
        "\n",
        "    90  |  \u001b[94m  0.024673\u001b[0m  |  \u001b[32m  0.024027\u001b[0m  |     1.026906  |             |  4.2s"
       ]
      },
      {
       "output_type": "stream",
       "stream": "stdout",
       "text": [
        "\n",
        "    91  |  \u001b[94m  0.024595\u001b[0m  |  \u001b[32m  0.023951\u001b[0m  |     1.026871  |             |  4.2s"
       ]
      },
      {
       "output_type": "stream",
       "stream": "stdout",
       "text": [
        "\n",
        "    92  |  \u001b[94m  0.024485\u001b[0m  |  \u001b[32m  0.023862\u001b[0m  |     1.026101  |             |  4.2s"
       ]
      },
      {
       "output_type": "stream",
       "stream": "stdout",
       "text": [
        "\n",
        "    93  |  \u001b[94m  0.024402\u001b[0m  |  \u001b[32m  0.023734\u001b[0m  |     1.028144  |             |  4.2s"
       ]
      },
      {
       "output_type": "stream",
       "stream": "stdout",
       "text": [
        "\n",
        "    94  |  \u001b[94m  0.024372\u001b[0m  |  \u001b[32m  0.023718\u001b[0m  |     1.027569  |             |  4.2s"
       ]
      },
      {
       "output_type": "stream",
       "stream": "stdout",
       "text": [
        "\n",
        "    95  |  \u001b[94m  0.024264\u001b[0m  |  \u001b[32m  0.023621\u001b[0m  |     1.027230  |             |  4.2s"
       ]
      },
      {
       "output_type": "stream",
       "stream": "stdout",
       "text": [
        "\n",
        "    96  |    0.024283  |  \u001b[32m  0.023530\u001b[0m  |     1.031990  |             |  4.2s"
       ]
      },
      {
       "output_type": "stream",
       "stream": "stdout",
       "text": [
        "\n",
        "    97  |  \u001b[94m  0.024152\u001b[0m  |  \u001b[32m  0.023441\u001b[0m  |     1.030352  |             |  4.2s"
       ]
      },
      {
       "output_type": "stream",
       "stream": "stdout",
       "text": [
        "\n",
        "    98  |  \u001b[94m  0.024114\u001b[0m  |  \u001b[32m  0.023380\u001b[0m  |     1.031398  |             |  4.1s"
       ]
      },
      {
       "output_type": "stream",
       "stream": "stdout",
       "text": [
        "\n",
        "    99  |  \u001b[94m  0.024038\u001b[0m  |  \u001b[32m  0.023268\u001b[0m  |     1.033065  |             |  4.2s"
       ]
      },
      {
       "output_type": "stream",
       "stream": "stdout",
       "text": [
        "\n",
        "   100  |  \u001b[94m  0.023996\u001b[0m  |  \u001b[32m  0.023228\u001b[0m  |     1.033057  |             |  4.1s"
       ]
      },
      {
       "output_type": "stream",
       "stream": "stdout",
       "text": [
        "\n",
        "   101  |  \u001b[94m  0.023890\u001b[0m  |  \u001b[32m  0.023158\u001b[0m  |     1.031616  |             |  4.2s"
       ]
      },
      {
       "output_type": "stream",
       "stream": "stdout",
       "text": [
        "\n",
        "   102  |  \u001b[94m  0.023857\u001b[0m  |  \u001b[32m  0.023092\u001b[0m  |     1.033129  |             |  4.2s"
       ]
      },
      {
       "output_type": "stream",
       "stream": "stdout",
       "text": [
        "\n",
        "   103  |  \u001b[94m  0.023757\u001b[0m  |  \u001b[32m  0.023013\u001b[0m  |     1.032334  |             |  4.2s"
       ]
      },
      {
       "output_type": "stream",
       "stream": "stdout",
       "text": [
        "\n",
        "   104  |  \u001b[94m  0.023691\u001b[0m  |  \u001b[32m  0.022928\u001b[0m  |     1.033272  |             |  4.2s"
       ]
      },
      {
       "output_type": "stream",
       "stream": "stdout",
       "text": [
        "\n",
        "   105  |  \u001b[94m  0.023615\u001b[0m  |  \u001b[32m  0.022865\u001b[0m  |     1.032765  |             |  4.1s"
       ]
      },
      {
       "output_type": "stream",
       "stream": "stdout",
       "text": [
        "\n",
        "   106  |  \u001b[94m  0.023588\u001b[0m  |  \u001b[32m  0.022806\u001b[0m  |     1.034277  |             |  4.2s"
       ]
      },
      {
       "output_type": "stream",
       "stream": "stdout",
       "text": [
        "\n",
        "   107  |  \u001b[94m  0.023484\u001b[0m  |  \u001b[32m  0.022713\u001b[0m  |     1.033945  |             |  4.2s"
       ]
      },
      {
       "output_type": "stream",
       "stream": "stdout",
       "text": [
        "\n",
        "   108  |  \u001b[94m  0.023422\u001b[0m  |  \u001b[32m  0.022630\u001b[0m  |     1.035012  |             |  4.2s"
       ]
      },
      {
       "output_type": "stream",
       "stream": "stdout",
       "text": [
        "\n",
        "   109  |  \u001b[94m  0.023384\u001b[0m  |  \u001b[32m  0.022560\u001b[0m  |     1.036495  |             |  4.1s"
       ]
      },
      {
       "output_type": "stream",
       "stream": "stdout",
       "text": [
        "\n",
        "   110  |  \u001b[94m  0.023300\u001b[0m  |  \u001b[32m  0.022490\u001b[0m  |     1.035991  |             |  4.2s"
       ]
      },
      {
       "output_type": "stream",
       "stream": "stdout",
       "text": [
        "\n",
        "   111  |  \u001b[94m  0.023266\u001b[0m  |  \u001b[32m  0.022426\u001b[0m  |     1.037456  |             |  4.2s"
       ]
      },
      {
       "output_type": "stream",
       "stream": "stdout",
       "text": [
        "\n",
        "   112  |  \u001b[94m  0.023184\u001b[0m  |  \u001b[32m  0.022333\u001b[0m  |     1.038139  |             |  4.1s"
       ]
      },
      {
       "output_type": "stream",
       "stream": "stdout",
       "text": [
        "\n",
        "   113  |  \u001b[94m  0.023120\u001b[0m  |  \u001b[32m  0.022256\u001b[0m  |     1.038808  |             |  4.2s"
       ]
      },
      {
       "output_type": "stream",
       "stream": "stdout",
       "text": [
        "\n",
        "   114  |  \u001b[94m  0.023052\u001b[0m  |  \u001b[32m  0.022202\u001b[0m  |     1.038251  |             |  4.2s"
       ]
      },
      {
       "output_type": "stream",
       "stream": "stdout",
       "text": [
        "\n",
        "   115  |  \u001b[94m  0.022940\u001b[0m  |  \u001b[32m  0.022099\u001b[0m  |     1.038061  |             |  4.2s"
       ]
      },
      {
       "output_type": "stream",
       "stream": "stdout",
       "text": [
        "\n",
        "   116  |    0.022969  |  \u001b[32m  0.022045\u001b[0m  |     1.041873  |             |  4.2s"
       ]
      },
      {
       "output_type": "stream",
       "stream": "stdout",
       "text": [
        "\n",
        "   117  |  \u001b[94m  0.022857\u001b[0m  |  \u001b[32m  0.021967\u001b[0m  |     1.040522  |             |  4.1s"
       ]
      },
      {
       "output_type": "stream",
       "stream": "stdout",
       "text": [
        "\n",
        "   118  |  \u001b[94m  0.022790\u001b[0m  |  \u001b[32m  0.021908\u001b[0m  |     1.040279  |             |  4.2s"
       ]
      },
      {
       "output_type": "stream",
       "stream": "stdout",
       "text": [
        "\n",
        "   119  |  \u001b[94m  0.022715\u001b[0m  |  \u001b[32m  0.021834\u001b[0m  |     1.040391  |             |  4.1s"
       ]
      },
      {
       "output_type": "stream",
       "stream": "stdout",
       "text": [
        "\n",
        "   120  |  \u001b[94m  0.022671\u001b[0m  |  \u001b[32m  0.021755\u001b[0m  |     1.042146  |             |  4.2s"
       ]
      },
      {
       "output_type": "stream",
       "stream": "stdout",
       "text": [
        "\n",
        "   121  |  \u001b[94m  0.022599\u001b[0m  |  \u001b[32m  0.021710\u001b[0m  |     1.040962  |             |  4.1s"
       ]
      },
      {
       "output_type": "stream",
       "stream": "stdout",
       "text": [
        "\n",
        "   122  |  \u001b[94m  0.022511\u001b[0m  |  \u001b[32m  0.021612\u001b[0m  |     1.041621  |             |  4.1s"
       ]
      },
      {
       "output_type": "stream",
       "stream": "stdout",
       "text": [
        "\n",
        "   123  |  \u001b[94m  0.022467\u001b[0m  |  \u001b[32m  0.021518\u001b[0m  |     1.044128  |             |  4.2s"
       ]
      },
      {
       "output_type": "stream",
       "stream": "stdout",
       "text": [
        "\n",
        "   124  |  \u001b[94m  0.022374\u001b[0m  |  \u001b[32m  0.021452\u001b[0m  |     1.042976  |             |  4.2s"
       ]
      },
      {
       "output_type": "stream",
       "stream": "stdout",
       "text": [
        "\n",
        "   125  |  \u001b[94m  0.022308\u001b[0m  |  \u001b[32m  0.021375\u001b[0m  |     1.043639  |             |  4.2s"
       ]
      },
      {
       "output_type": "stream",
       "stream": "stdout",
       "text": [
        "\n",
        "   126  |  \u001b[94m  0.022229\u001b[0m  |  \u001b[32m  0.021333\u001b[0m  |     1.042028  |             |  4.2s"
       ]
      },
      {
       "output_type": "stream",
       "stream": "stdout",
       "text": [
        "\n",
        "   127  |  \u001b[94m  0.022217\u001b[0m  |  \u001b[32m  0.021231\u001b[0m  |     1.046446  |             |  4.1s"
       ]
      },
      {
       "output_type": "stream",
       "stream": "stdout",
       "text": [
        "\n",
        "   128  |  \u001b[94m  0.022093\u001b[0m  |  \u001b[32m  0.021178\u001b[0m  |     1.043184  |             |  4.2s"
       ]
      },
      {
       "output_type": "stream",
       "stream": "stdout",
       "text": [
        "\n",
        "   129  |  \u001b[94m  0.022066\u001b[0m  |  \u001b[32m  0.021109\u001b[0m  |     1.045376  |             |  4.1s"
       ]
      },
      {
       "output_type": "stream",
       "stream": "stdout",
       "text": [
        "\n",
        "   130  |  \u001b[94m  0.022000\u001b[0m  |  \u001b[32m  0.021030\u001b[0m  |     1.046124  |             |  4.2s"
       ]
      },
      {
       "output_type": "stream",
       "stream": "stdout",
       "text": [
        "\n",
        "   131  |  \u001b[94m  0.021886\u001b[0m  |  \u001b[32m  0.020948\u001b[0m  |     1.044750  |             |  4.2s"
       ]
      },
      {
       "output_type": "stream",
       "stream": "stdout",
       "text": [
        "\n",
        "   132  |  \u001b[94m  0.021872\u001b[0m  |  \u001b[32m  0.020848\u001b[0m  |     1.049134  |             |  4.2s"
       ]
      },
      {
       "output_type": "stream",
       "stream": "stdout",
       "text": [
        "\n",
        "   133  |  \u001b[94m  0.021790\u001b[0m  |  \u001b[32m  0.020824\u001b[0m  |     1.046380  |             |  4.2s"
       ]
      },
      {
       "output_type": "stream",
       "stream": "stdout",
       "text": [
        "\n",
        "   134  |  \u001b[94m  0.021781\u001b[0m  |  \u001b[32m  0.020746\u001b[0m  |     1.049897  |             |  4.2s"
       ]
      },
      {
       "output_type": "stream",
       "stream": "stdout",
       "text": [
        "\n",
        "   135  |  \u001b[94m  0.021712\u001b[0m  |  \u001b[32m  0.020671\u001b[0m  |     1.050385  |             |  4.2s"
       ]
      },
      {
       "output_type": "stream",
       "stream": "stdout",
       "text": [
        "\n",
        "   136  |  \u001b[94m  0.021604\u001b[0m  |  \u001b[32m  0.020589\u001b[0m  |     1.049306  |             |  4.2s"
       ]
      },
      {
       "output_type": "stream",
       "stream": "stdout",
       "text": [
        "\n",
        "   137  |  \u001b[94m  0.021582\u001b[0m  |  \u001b[32m  0.020523\u001b[0m  |     1.051590  |             |  4.2s"
       ]
      },
      {
       "output_type": "stream",
       "stream": "stdout",
       "text": [
        "\n",
        "   138  |  \u001b[94m  0.021460\u001b[0m  |  \u001b[32m  0.020463\u001b[0m  |     1.048760  |             |  4.2s"
       ]
      },
      {
       "output_type": "stream",
       "stream": "stdout",
       "text": [
        "\n",
        "   139  |  \u001b[94m  0.021395\u001b[0m  |  \u001b[32m  0.020379\u001b[0m  |     1.049861  |             |  4.2s"
       ]
      },
      {
       "output_type": "stream",
       "stream": "stdout",
       "text": [
        "\n",
        "   140  |  \u001b[94m  0.021361\u001b[0m  |  \u001b[32m  0.020305\u001b[0m  |     1.051981  |             |  4.2s"
       ]
      },
      {
       "output_type": "stream",
       "stream": "stdout",
       "text": [
        "\n",
        "   141  |  \u001b[94m  0.021310\u001b[0m  |  \u001b[32m  0.020232\u001b[0m  |     1.053281  |             |  4.2s"
       ]
      },
      {
       "output_type": "stream",
       "stream": "stdout",
       "text": [
        "\n",
        "   142  |  \u001b[94m  0.021247\u001b[0m  |  \u001b[32m  0.020182\u001b[0m  |     1.052726  |             |  4.2s"
       ]
      },
      {
       "output_type": "stream",
       "stream": "stdout",
       "text": [
        "\n",
        "   143  |  \u001b[94m  0.021203\u001b[0m  |  \u001b[32m  0.020091\u001b[0m  |     1.055332  |             |  4.2s"
       ]
      },
      {
       "output_type": "stream",
       "stream": "stdout",
       "text": [
        "\n",
        "   144  |  \u001b[94m  0.021132\u001b[0m  |  \u001b[32m  0.020031\u001b[0m  |     1.054980  |             |  4.2s"
       ]
      },
      {
       "output_type": "stream",
       "stream": "stdout",
       "text": [
        "\n",
        "   145  |  \u001b[94m  0.021068\u001b[0m  |  \u001b[32m  0.020012\u001b[0m  |     1.052774  |             |  4.1s"
       ]
      },
      {
       "output_type": "stream",
       "stream": "stdout",
       "text": [
        "\n",
        "   146  |  \u001b[94m  0.020977\u001b[0m  |  \u001b[32m  0.019884\u001b[0m  |     1.055008  |             |  4.2s"
       ]
      },
      {
       "output_type": "stream",
       "stream": "stdout",
       "text": [
        "\n",
        "   147  |  \u001b[94m  0.020900\u001b[0m  |  \u001b[32m  0.019844\u001b[0m  |     1.053187  |             |  4.2s"
       ]
      },
      {
       "output_type": "stream",
       "stream": "stdout",
       "text": [
        "\n",
        "   148  |  \u001b[94m  0.020890\u001b[0m  |  \u001b[32m  0.019712\u001b[0m  |     1.059778  |             |  4.2s"
       ]
      },
      {
       "output_type": "stream",
       "stream": "stdout",
       "text": [
        "\n",
        "   149  |  \u001b[94m  0.020818\u001b[0m  |  \u001b[32m  0.019689\u001b[0m  |     1.057341  |             |  4.2s"
       ]
      },
      {
       "output_type": "stream",
       "stream": "stdout",
       "text": [
        "\n",
        "   150  |  \u001b[94m  0.020794\u001b[0m  |  \u001b[32m  0.019634\u001b[0m  |     1.059082  |             |  4.2s"
       ]
      },
      {
       "output_type": "stream",
       "stream": "stdout",
       "text": [
        "\n",
        "   151  |  \u001b[94m  0.020696\u001b[0m  |  \u001b[32m  0.019566\u001b[0m  |     1.057773  |             |  4.2s"
       ]
      },
      {
       "output_type": "stream",
       "stream": "stdout",
       "text": [
        "\n",
        "   152  |  \u001b[94m  0.020660\u001b[0m  |  \u001b[32m  0.019478\u001b[0m  |     1.060644  |             |  4.2s"
       ]
      },
      {
       "output_type": "stream",
       "stream": "stdout",
       "text": [
        "\n",
        "   153  |  \u001b[94m  0.020535\u001b[0m  |  \u001b[32m  0.019409\u001b[0m  |     1.057976  |             |  4.2s"
       ]
      },
      {
       "output_type": "stream",
       "stream": "stdout",
       "text": [
        "\n",
        "   154  |  \u001b[94m  0.020503\u001b[0m  |  \u001b[32m  0.019334\u001b[0m  |     1.060450  |             |  4.2s"
       ]
      },
      {
       "output_type": "stream",
       "stream": "stdout",
       "text": [
        "\n",
        "   155  |  \u001b[94m  0.020463\u001b[0m  |  \u001b[32m  0.019294\u001b[0m  |     1.060582  |             |  4.2s"
       ]
      },
      {
       "output_type": "stream",
       "stream": "stdout",
       "text": [
        "\n",
        "   156  |  \u001b[94m  0.020376\u001b[0m  |  \u001b[32m  0.019185\u001b[0m  |     1.062054  |             |  4.2s"
       ]
      },
      {
       "output_type": "stream",
       "stream": "stdout",
       "text": [
        "\n",
        "   157  |  \u001b[94m  0.020350\u001b[0m  |  \u001b[32m  0.019118\u001b[0m  |     1.064427  |             |  4.2s"
       ]
      },
      {
       "output_type": "stream",
       "stream": "stdout",
       "text": [
        "\n",
        "   158  |  \u001b[94m  0.020294\u001b[0m  |  \u001b[32m  0.019078\u001b[0m  |     1.063733  |             |  4.2s"
       ]
      },
      {
       "output_type": "stream",
       "stream": "stdout",
       "text": [
        "\n",
        "   159  |  \u001b[94m  0.020190\u001b[0m  |  \u001b[32m  0.019028\u001b[0m  |     1.061059  |             |  4.2s"
       ]
      },
      {
       "output_type": "stream",
       "stream": "stdout",
       "text": [
        "\n",
        "   160  |  \u001b[94m  0.020182\u001b[0m  |  \u001b[32m  0.018974\u001b[0m  |     1.063634  |             |  4.2s"
       ]
      },
      {
       "output_type": "stream",
       "stream": "stdout",
       "text": [
        "\n",
        "   161  |  \u001b[94m  0.020146\u001b[0m  |  \u001b[32m  0.018862\u001b[0m  |     1.068105  |             |  4.2s"
       ]
      },
      {
       "output_type": "stream",
       "stream": "stdout",
       "text": [
        "\n",
        "   162  |  \u001b[94m  0.020028\u001b[0m  |  \u001b[32m  0.018812\u001b[0m  |     1.064602  |             |  4.2s"
       ]
      },
      {
       "output_type": "stream",
       "stream": "stdout",
       "text": [
        "\n",
        "   163  |  \u001b[94m  0.020009\u001b[0m  |  \u001b[32m  0.018739\u001b[0m  |     1.067772  |             |  4.2s"
       ]
      },
      {
       "output_type": "stream",
       "stream": "stdout",
       "text": [
        "\n",
        "   164  |  \u001b[94m  0.019939\u001b[0m  |  \u001b[32m  0.018686\u001b[0m  |     1.067070  |             |  4.2s"
       ]
      },
      {
       "output_type": "stream",
       "stream": "stdout",
       "text": [
        "\n",
        "   165  |  \u001b[94m  0.019846\u001b[0m  |  \u001b[32m  0.018636\u001b[0m  |     1.064889  |             |  4.2s"
       ]
      },
      {
       "output_type": "stream",
       "stream": "stdout",
       "text": [
        "\n",
        "   166  |  \u001b[94m  0.019779\u001b[0m  |  \u001b[32m  0.018572\u001b[0m  |     1.064961  |             |  4.2s"
       ]
      },
      {
       "output_type": "stream",
       "stream": "stdout",
       "text": [
        "\n",
        "   167  |  \u001b[94m  0.019713\u001b[0m  |  \u001b[32m  0.018500\u001b[0m  |     1.065574  |             |  4.2s"
       ]
      },
      {
       "output_type": "stream",
       "stream": "stdout",
       "text": [
        "\n",
        "   168  |  \u001b[94m  0.019647\u001b[0m  |  \u001b[32m  0.018431\u001b[0m  |     1.065982  |             |  4.2s"
       ]
      },
      {
       "output_type": "stream",
       "stream": "stdout",
       "text": [
        "\n",
        "   169  |  \u001b[94m  0.019630\u001b[0m  |  \u001b[32m  0.018369\u001b[0m  |     1.068660  |             |  4.2s"
       ]
      },
      {
       "output_type": "stream",
       "stream": "stdout",
       "text": [
        "\n",
        "   170  |  \u001b[94m  0.019542\u001b[0m  |  \u001b[32m  0.018293\u001b[0m  |     1.068289  |             |  4.2s"
       ]
      },
      {
       "output_type": "stream",
       "stream": "stdout",
       "text": [
        "\n",
        "   171  |  \u001b[94m  0.019531\u001b[0m  |  \u001b[32m  0.018228\u001b[0m  |     1.071435  |             |  4.2s"
       ]
      },
      {
       "output_type": "stream",
       "stream": "stdout",
       "text": [
        "\n",
        "   172  |  \u001b[94m  0.019413\u001b[0m  |  \u001b[32m  0.018200\u001b[0m  |     1.066643  |             |  4.2s"
       ]
      },
      {
       "output_type": "stream",
       "stream": "stdout",
       "text": [
        "\n",
        "   173  |    0.019415  |  \u001b[32m  0.018111\u001b[0m  |     1.072019  |             |  4.2s"
       ]
      },
      {
       "output_type": "stream",
       "stream": "stdout",
       "text": [
        "\n",
        "   174  |  \u001b[94m  0.019327\u001b[0m  |  \u001b[32m  0.018032\u001b[0m  |     1.071829  |             |  4.2s"
       ]
      },
      {
       "output_type": "stream",
       "stream": "stdout",
       "text": [
        "\n",
        "   175  |  \u001b[94m  0.019252\u001b[0m  |  \u001b[32m  0.017984\u001b[0m  |     1.070515  |             |  4.2s"
       ]
      },
      {
       "output_type": "stream",
       "stream": "stdout",
       "text": [
        "\n",
        "   176  |  \u001b[94m  0.019220\u001b[0m  |  \u001b[32m  0.017924\u001b[0m  |     1.072278  |             |  4.2s"
       ]
      },
      {
       "output_type": "stream",
       "stream": "stdout",
       "text": [
        "\n",
        "   177  |  \u001b[94m  0.019173\u001b[0m  |  \u001b[32m  0.017842\u001b[0m  |     1.074583  |             |  4.2s"
       ]
      },
      {
       "output_type": "stream",
       "stream": "stdout",
       "text": [
        "\n",
        "   178  |  \u001b[94m  0.019058\u001b[0m  |  \u001b[32m  0.017782\u001b[0m  |     1.071776  |             |  4.2s"
       ]
      },
      {
       "output_type": "stream",
       "stream": "stdout",
       "text": [
        "\n",
        "   179  |  \u001b[94m  0.019023\u001b[0m  |  \u001b[32m  0.017740\u001b[0m  |     1.072332  |             |  4.2s"
       ]
      },
      {
       "output_type": "stream",
       "stream": "stdout",
       "text": [
        "\n",
        "   180  |  \u001b[94m  0.018935\u001b[0m  |  \u001b[32m  0.017683\u001b[0m  |     1.070802  |             |  4.2s"
       ]
      },
      {
       "output_type": "stream",
       "stream": "stdout",
       "text": [
        "\n",
        "   181  |  \u001b[94m  0.018874\u001b[0m  |  \u001b[32m  0.017600\u001b[0m  |     1.072397  |             |  4.2s"
       ]
      },
      {
       "output_type": "stream",
       "stream": "stdout",
       "text": [
        "\n",
        "   182  |  \u001b[94m  0.018830\u001b[0m  |  \u001b[32m  0.017537\u001b[0m  |     1.073715  |             |  4.2s"
       ]
      },
      {
       "output_type": "stream",
       "stream": "stdout",
       "text": [
        "\n",
        "   183  |  \u001b[94m  0.018771\u001b[0m  |  \u001b[32m  0.017501\u001b[0m  |     1.072539  |             |  4.2s"
       ]
      },
      {
       "output_type": "stream",
       "stream": "stdout",
       "text": [
        "\n",
        "   184  |    0.018783  |  \u001b[32m  0.017434\u001b[0m  |     1.077393  |             |  4.2s"
       ]
      },
      {
       "output_type": "stream",
       "stream": "stdout",
       "text": [
        "\n",
        "   185  |  \u001b[94m  0.018665\u001b[0m  |  \u001b[32m  0.017413\u001b[0m  |     1.071892  |             |  4.2s"
       ]
      },
      {
       "output_type": "stream",
       "stream": "stdout",
       "text": [
        "\n",
        "   186  |  \u001b[94m  0.018630\u001b[0m  |  \u001b[32m  0.017335\u001b[0m  |     1.074740  |             |  4.2s"
       ]
      },
      {
       "output_type": "stream",
       "stream": "stdout",
       "text": [
        "\n",
        "   187  |  \u001b[94m  0.018589\u001b[0m  |  \u001b[32m  0.017252\u001b[0m  |     1.077491  |             |  4.2s"
       ]
      },
      {
       "output_type": "stream",
       "stream": "stdout",
       "text": [
        "\n",
        "   188  |  \u001b[94m  0.018522\u001b[0m  |  \u001b[32m  0.017238\u001b[0m  |     1.074506  |             |  4.2s"
       ]
      },
      {
       "output_type": "stream",
       "stream": "stdout",
       "text": [
        "\n",
        "   189  |    0.018539  |  \u001b[32m  0.017169\u001b[0m  |     1.079817  |             |  4.2s"
       ]
      },
      {
       "output_type": "stream",
       "stream": "stdout",
       "text": [
        "\n",
        "   190  |  \u001b[94m  0.018470\u001b[0m  |  \u001b[32m  0.017099\u001b[0m  |     1.080198  |             |  4.2s"
       ]
      },
      {
       "output_type": "stream",
       "stream": "stdout",
       "text": [
        "\n",
        "   191  |  \u001b[94m  0.018362\u001b[0m  |  \u001b[32m  0.017079\u001b[0m  |     1.075117  |             |  4.1s"
       ]
      },
      {
       "output_type": "stream",
       "stream": "stdout",
       "text": [
        "\n",
        "   192  |  \u001b[94m  0.018326\u001b[0m  |  \u001b[32m  0.017030\u001b[0m  |     1.076074  |             |  4.1s"
       ]
      },
      {
       "output_type": "stream",
       "stream": "stdout",
       "text": [
        "\n",
        "   193  |  \u001b[94m  0.018260\u001b[0m  |  \u001b[32m  0.016921\u001b[0m  |     1.079158  |             |  4.2s"
       ]
      },
      {
       "output_type": "stream",
       "stream": "stdout",
       "text": [
        "\n",
        "   194  |  \u001b[94m  0.018194\u001b[0m  |  \u001b[32m  0.016860\u001b[0m  |     1.079098  |             |  4.2s"
       ]
      },
      {
       "output_type": "stream",
       "stream": "stdout",
       "text": [
        "\n",
        "   195  |  \u001b[94m  0.018150\u001b[0m  |  \u001b[32m  0.016799\u001b[0m  |     1.080429  |             |  4.2s"
       ]
      },
      {
       "output_type": "stream",
       "stream": "stdout",
       "text": [
        "\n",
        "   196  |  \u001b[94m  0.018125\u001b[0m  |  \u001b[32m  0.016768\u001b[0m  |     1.080951  |             |  4.2s"
       ]
      },
      {
       "output_type": "stream",
       "stream": "stdout",
       "text": [
        "\n",
        "   197  |  \u001b[94m  0.018022\u001b[0m  |  \u001b[32m  0.016715\u001b[0m  |     1.078194  |             |  4.2s"
       ]
      },
      {
       "output_type": "stream",
       "stream": "stdout",
       "text": [
        "\n",
        "   198  |  \u001b[94m  0.018007\u001b[0m  |  \u001b[32m  0.016691\u001b[0m  |     1.078817  |             |  4.2s"
       ]
      },
      {
       "output_type": "stream",
       "stream": "stdout",
       "text": [
        "\n",
        "   199  |  \u001b[94m  0.017959\u001b[0m  |  \u001b[32m  0.016637\u001b[0m  |     1.079448  |             |  4.2s"
       ]
      },
      {
       "output_type": "stream",
       "stream": "stdout",
       "text": [
        "\n",
        "   200  |  \u001b[94m  0.017853\u001b[0m  |  \u001b[32m  0.016520\u001b[0m  |     1.080679  |             |  4.1s"
       ]
      },
      {
       "output_type": "stream",
       "stream": "stdout",
       "text": [
        "\n",
        "   201  |    0.017864  |  \u001b[32m  0.016490\u001b[0m  |     1.083324  |             |  4.2s"
       ]
      },
      {
       "output_type": "stream",
       "stream": "stdout",
       "text": [
        "\n",
        "   202  |  \u001b[94m  0.017837\u001b[0m  |  \u001b[32m  0.016446\u001b[0m  |     1.084587  |             |  4.2s"
       ]
      },
      {
       "output_type": "stream",
       "stream": "stdout",
       "text": [
        "\n",
        "   203  |  \u001b[94m  0.017726\u001b[0m  |  \u001b[32m  0.016367\u001b[0m  |     1.083001  |             |  4.2s"
       ]
      },
      {
       "output_type": "stream",
       "stream": "stdout",
       "text": [
        "\n",
        "   204  |  \u001b[94m  0.017711\u001b[0m  |  \u001b[32m  0.016329\u001b[0m  |     1.084593  |             |  4.2s"
       ]
      },
      {
       "output_type": "stream",
       "stream": "stdout",
       "text": [
        "\n",
        "   205  |  \u001b[94m  0.017665\u001b[0m  |  \u001b[32m  0.016285\u001b[0m  |     1.084688  |             |  4.1s"
       ]
      },
      {
       "output_type": "stream",
       "stream": "stdout",
       "text": [
        "\n",
        "   206  |  \u001b[94m  0.017600\u001b[0m  |  \u001b[32m  0.016213\u001b[0m  |     1.085495  |             |  4.1s"
       ]
      },
      {
       "output_type": "stream",
       "stream": "stdout",
       "text": [
        "\n",
        "   207  |  \u001b[94m  0.017589\u001b[0m  |  \u001b[32m  0.016207\u001b[0m  |     1.085233  |             |  4.2s"
       ]
      },
      {
       "output_type": "stream",
       "stream": "stdout",
       "text": [
        "\n",
        "   208  |  \u001b[94m  0.017494\u001b[0m  |  \u001b[32m  0.016118\u001b[0m  |     1.085337  |             |  4.2s"
       ]
      },
      {
       "output_type": "stream",
       "stream": "stdout",
       "text": [
        "\n",
        "   209  |  \u001b[94m  0.017456\u001b[0m  |  \u001b[32m  0.016076\u001b[0m  |     1.085859  |             |  4.2s"
       ]
      },
      {
       "output_type": "stream",
       "stream": "stdout",
       "text": [
        "\n",
        "   210  |  \u001b[94m  0.017433\u001b[0m  |  \u001b[32m  0.016044\u001b[0m  |     1.086601  |             |  4.2s"
       ]
      },
      {
       "output_type": "stream",
       "stream": "stdout",
       "text": [
        "\n",
        "   211  |  \u001b[94m  0.017391\u001b[0m  |  \u001b[32m  0.016022\u001b[0m  |     1.085464  |             |  4.2s"
       ]
      },
      {
       "output_type": "stream",
       "stream": "stdout",
       "text": [
        "\n",
        "   212  |  \u001b[94m  0.017326\u001b[0m  |  \u001b[32m  0.015947\u001b[0m  |     1.086496  |             |  4.2s"
       ]
      },
      {
       "output_type": "stream",
       "stream": "stdout",
       "text": [
        "\n",
        "   213  |  \u001b[94m  0.017325\u001b[0m  |  \u001b[32m  0.015890\u001b[0m  |     1.090308  |             |  4.2s"
       ]
      },
      {
       "output_type": "stream",
       "stream": "stdout",
       "text": [
        "\n",
        "   214  |  \u001b[94m  0.017280\u001b[0m  |  \u001b[32m  0.015827\u001b[0m  |     1.091825  |             |  4.2s"
       ]
      },
      {
       "output_type": "stream",
       "stream": "stdout",
       "text": [
        "\n",
        "   215  |  \u001b[94m  0.017231\u001b[0m  |  \u001b[32m  0.015788\u001b[0m  |     1.091398  |             |  4.2s"
       ]
      },
      {
       "output_type": "stream",
       "stream": "stdout",
       "text": [
        "\n",
        "   216  |  \u001b[94m  0.017124\u001b[0m  |  \u001b[32m  0.015763\u001b[0m  |     1.086303  |             |  4.2s"
       ]
      },
      {
       "output_type": "stream",
       "stream": "stdout",
       "text": [
        "\n",
        "   217  |  \u001b[94m  0.017089\u001b[0m  |  \u001b[32m  0.015713\u001b[0m  |     1.087581  |             |  4.2s"
       ]
      },
      {
       "output_type": "stream",
       "stream": "stdout",
       "text": [
        "\n",
        "   218  |  \u001b[94m  0.017036\u001b[0m  |  \u001b[32m  0.015690\u001b[0m  |     1.085734  |             |  4.2s"
       ]
      },
      {
       "output_type": "stream",
       "stream": "stdout",
       "text": [
        "\n",
        "   219  |  \u001b[94m  0.017007\u001b[0m  |  \u001b[32m  0.015635\u001b[0m  |     1.087815  |             |  4.2s"
       ]
      },
      {
       "output_type": "stream",
       "stream": "stdout",
       "text": [
        "\n",
        "   220  |  \u001b[94m  0.016953\u001b[0m  |  \u001b[32m  0.015571\u001b[0m  |     1.088738  |             |  4.2s"
       ]
      },
      {
       "output_type": "stream",
       "stream": "stdout",
       "text": [
        "\n",
        "   221  |  \u001b[94m  0.016940\u001b[0m  |  \u001b[32m  0.015530\u001b[0m  |     1.090757  |             |  4.2s"
       ]
      },
      {
       "output_type": "stream",
       "stream": "stdout",
       "text": [
        "\n",
        "   222  |  \u001b[94m  0.016903\u001b[0m  |  \u001b[32m  0.015490\u001b[0m  |     1.091252  |             |  4.2s"
       ]
      },
      {
       "output_type": "stream",
       "stream": "stdout",
       "text": [
        "\n",
        "   223  |  \u001b[94m  0.016854\u001b[0m  |  \u001b[32m  0.015467\u001b[0m  |     1.089677  |             |  4.2s"
       ]
      },
      {
       "output_type": "stream",
       "stream": "stdout",
       "text": [
        "\n",
        "   224  |  \u001b[94m  0.016759\u001b[0m  |  \u001b[32m  0.015435\u001b[0m  |     1.085785  |             |  4.2s"
       ]
      },
      {
       "output_type": "stream",
       "stream": "stdout",
       "text": [
        "\n",
        "   225  |  \u001b[94m  0.016708\u001b[0m  |  \u001b[32m  0.015358\u001b[0m  |     1.087867  |             |  4.2s"
       ]
      },
      {
       "output_type": "stream",
       "stream": "stdout",
       "text": [
        "\n",
        "   226  |    0.016739  |  \u001b[32m  0.015346\u001b[0m  |     1.090779  |             |  4.2s"
       ]
      },
      {
       "output_type": "stream",
       "stream": "stdout",
       "text": [
        "\n",
        "   227  |    0.016733  |  \u001b[32m  0.015302\u001b[0m  |     1.093561  |             |  4.2s"
       ]
      },
      {
       "output_type": "stream",
       "stream": "stdout",
       "text": [
        "\n",
        "   228  |  \u001b[94m  0.016592\u001b[0m  |  \u001b[32m  0.015259\u001b[0m  |     1.087381  |             |  4.2s"
       ]
      },
      {
       "output_type": "stream",
       "stream": "stdout",
       "text": [
        "\n",
        "   229  |    0.016635  |  \u001b[32m  0.015226\u001b[0m  |     1.092557  |             |  4.2s"
       ]
      },
      {
       "output_type": "stream",
       "stream": "stdout",
       "text": [
        "\n",
        "   230  |  \u001b[94m  0.016573\u001b[0m  |  \u001b[32m  0.015145\u001b[0m  |     1.094289  |             |  4.2s"
       ]
      },
      {
       "output_type": "stream",
       "stream": "stdout",
       "text": [
        "\n",
        "   231  |  \u001b[94m  0.016552\u001b[0m  |    0.015161  |     1.091736  |             |  4.2s"
       ]
      },
      {
       "output_type": "stream",
       "stream": "stdout",
       "text": [
        "\n",
        "   232  |  \u001b[94m  0.016466\u001b[0m  |  \u001b[32m  0.015081\u001b[0m  |     1.091838  |             |  4.2s"
       ]
      },
      {
       "output_type": "stream",
       "stream": "stdout",
       "text": [
        "\n",
        "   233  |  \u001b[94m  0.016463\u001b[0m  |  \u001b[32m  0.015041\u001b[0m  |     1.094526  |             |  4.2s"
       ]
      },
      {
       "output_type": "stream",
       "stream": "stdout",
       "text": [
        "\n",
        "   234  |  \u001b[94m  0.016446\u001b[0m  |  \u001b[32m  0.015001\u001b[0m  |     1.096290  |             |  4.2s"
       ]
      },
      {
       "output_type": "stream",
       "stream": "stdout",
       "text": [
        "\n",
        "   235  |  \u001b[94m  0.016317\u001b[0m  |  \u001b[32m  0.014996\u001b[0m  |     1.088079  |             |  4.1s"
       ]
      },
      {
       "output_type": "stream",
       "stream": "stdout",
       "text": [
        "\n",
        "   236  |  \u001b[94m  0.016285\u001b[0m  |  \u001b[32m  0.014924\u001b[0m  |     1.091216  |             |  4.1s"
       ]
      },
      {
       "output_type": "stream",
       "stream": "stdout",
       "text": [
        "\n",
        "   237  |    0.016324  |    0.014924  |     1.093797  |             |  4.2s"
       ]
      },
      {
       "output_type": "stream",
       "stream": "stdout",
       "text": [
        "\n",
        "   238  |  \u001b[94m  0.016211\u001b[0m  |  \u001b[32m  0.014873\u001b[0m  |     1.089987  |             |  4.2s"
       ]
      },
      {
       "output_type": "stream",
       "stream": "stdout",
       "text": [
        "\n",
        "   239  |    0.016270  |  \u001b[32m  0.014865\u001b[0m  |     1.094553  |             |  4.2s"
       ]
      },
      {
       "output_type": "stream",
       "stream": "stdout",
       "text": [
        "\n",
        "   240  |  \u001b[94m  0.016183\u001b[0m  |  \u001b[32m  0.014789\u001b[0m  |     1.094219  |             |  4.2s"
       ]
      },
      {
       "output_type": "stream",
       "stream": "stdout",
       "text": [
        "\n",
        "   241  |  \u001b[94m  0.016130\u001b[0m  |  \u001b[32m  0.014738\u001b[0m  |     1.094451  |             |  4.2s"
       ]
      },
      {
       "output_type": "stream",
       "stream": "stdout",
       "text": [
        "\n",
        "   242  |  \u001b[94m  0.016101\u001b[0m  |    0.014745  |     1.091997  |             |  4.2s"
       ]
      },
      {
       "output_type": "stream",
       "stream": "stdout",
       "text": [
        "\n",
        "   243  |    0.016129  |  \u001b[32m  0.014695\u001b[0m  |     1.097620  |             |  4.2s"
       ]
      },
      {
       "output_type": "stream",
       "stream": "stdout",
       "text": [
        "\n",
        "   244  |  \u001b[94m  0.016070\u001b[0m  |  \u001b[32m  0.014692\u001b[0m  |     1.093791  |             |  4.2s"
       ]
      },
      {
       "output_type": "stream",
       "stream": "stdout",
       "text": [
        "\n",
        "   245  |  \u001b[94m  0.015988\u001b[0m  |  \u001b[32m  0.014655\u001b[0m  |     1.090974  |             |  4.2s"
       ]
      },
      {
       "output_type": "stream",
       "stream": "stdout",
       "text": [
        "\n",
        "   246  |  \u001b[94m  0.015955\u001b[0m  |  \u001b[32m  0.014596\u001b[0m  |     1.093105  |             |  4.2s"
       ]
      },
      {
       "output_type": "stream",
       "stream": "stdout",
       "text": [
        "\n",
        "   247  |  \u001b[94m  0.015955\u001b[0m  |  \u001b[32m  0.014566\u001b[0m  |     1.095320  |             |  4.2s"
       ]
      },
      {
       "output_type": "stream",
       "stream": "stdout",
       "text": [
        "\n",
        "   248  |  \u001b[94m  0.015873\u001b[0m  |    0.014573  |     1.089195  |             |  4.2s"
       ]
      },
      {
       "output_type": "stream",
       "stream": "stdout",
       "text": [
        "\n",
        "   249  |    0.015880  |  \u001b[32m  0.014498\u001b[0m  |     1.095381  |             |  4.2s"
       ]
      },
      {
       "output_type": "stream",
       "stream": "stdout",
       "text": [
        "\n",
        "   250  |  \u001b[94m  0.015804\u001b[0m  |  \u001b[32m  0.014491\u001b[0m  |     1.090574  |             |  4.2s"
       ]
      },
      {
       "output_type": "stream",
       "stream": "stdout",
       "text": [
        "\n",
        "   251  |  \u001b[94m  0.015744\u001b[0m  |  \u001b[32m  0.014421\u001b[0m  |     1.091718  |             |  4.2s"
       ]
      },
      {
       "output_type": "stream",
       "stream": "stdout",
       "text": [
        "\n",
        "   252  |    0.015750  |  \u001b[32m  0.014421\u001b[0m  |     1.092158  |             |  4.2s"
       ]
      },
      {
       "output_type": "stream",
       "stream": "stdout",
       "text": [
        "\n",
        "   253  |    0.015758  |  \u001b[32m  0.014396\u001b[0m  |     1.094646  |             |  4.2s"
       ]
      },
      {
       "output_type": "stream",
       "stream": "stdout",
       "text": [
        "\n",
        "   254  |    0.015773  |  \u001b[32m  0.014350\u001b[0m  |     1.099153  |             |  4.2s"
       ]
      },
      {
       "output_type": "stream",
       "stream": "stdout",
       "text": [
        "\n",
        "   255  |  \u001b[94m  0.015680\u001b[0m  |  \u001b[32m  0.014322\u001b[0m  |     1.094831  |             |  4.2s"
       ]
      },
      {
       "output_type": "stream",
       "stream": "stdout",
       "text": [
        "\n",
        "   256  |  \u001b[94m  0.015618\u001b[0m  |  \u001b[32m  0.014303\u001b[0m  |     1.091921  |             |  4.2s"
       ]
      },
      {
       "output_type": "stream",
       "stream": "stdout",
       "text": [
        "\n",
        "   257  |  \u001b[94m  0.015591\u001b[0m  |  \u001b[32m  0.014271\u001b[0m  |     1.092488  |             |  4.2s"
       ]
      },
      {
       "output_type": "stream",
       "stream": "stdout",
       "text": [
        "\n",
        "   258  |  \u001b[94m  0.015568\u001b[0m  |  \u001b[32m  0.014252\u001b[0m  |     1.092330  |             |  4.2s"
       ]
      },
      {
       "output_type": "stream",
       "stream": "stdout",
       "text": [
        "\n",
        "   259  |  \u001b[94m  0.015436\u001b[0m  |  \u001b[32m  0.014216\u001b[0m  |     1.085820  |             |  4.2s"
       ]
      },
      {
       "output_type": "stream",
       "stream": "stdout",
       "text": [
        "\n",
        "   260  |    0.015484  |  \u001b[32m  0.014181\u001b[0m  |     1.091855  |             |  4.2s"
       ]
      },
      {
       "output_type": "stream",
       "stream": "stdout",
       "text": [
        "\n",
        "   261  |  \u001b[94m  0.015424\u001b[0m  |  \u001b[32m  0.014179\u001b[0m  |     1.087793  |             |  4.2s"
       ]
      },
      {
       "output_type": "stream",
       "stream": "stdout",
       "text": [
        "\n",
        "   262  |    0.015457  |  \u001b[32m  0.014122\u001b[0m  |     1.094500  |             |  4.2s"
       ]
      },
      {
       "output_type": "stream",
       "stream": "stdout",
       "text": [
        "\n",
        "   263  |    0.015427  |  \u001b[32m  0.014106\u001b[0m  |     1.093687  |             |  4.2s"
       ]
      },
      {
       "output_type": "stream",
       "stream": "stdout",
       "text": [
        "\n",
        "   264  |  \u001b[94m  0.015398\u001b[0m  |  \u001b[32m  0.014069\u001b[0m  |     1.094502  |             |  4.2s"
       ]
      },
      {
       "output_type": "stream",
       "stream": "stdout",
       "text": [
        "\n",
        "   265  |  \u001b[94m  0.015367\u001b[0m  |  \u001b[32m  0.014030\u001b[0m  |     1.095272  |             |  4.2s"
       ]
      },
      {
       "output_type": "stream",
       "stream": "stdout",
       "text": [
        "\n",
        "   266  |  \u001b[94m  0.015281\u001b[0m  |  \u001b[32m  0.014002\u001b[0m  |     1.091319  |             |  4.2s"
       ]
      },
      {
       "output_type": "stream",
       "stream": "stdout",
       "text": [
        "\n",
        "   267  |  \u001b[94m  0.015268\u001b[0m  |  \u001b[32m  0.013963\u001b[0m  |     1.093454  |             |  4.2s"
       ]
      },
      {
       "output_type": "stream",
       "stream": "stdout",
       "text": [
        "\n",
        "   268  |  \u001b[94m  0.015267\u001b[0m  |  \u001b[32m  0.013947\u001b[0m  |     1.094673  |             |  4.2s"
       ]
      },
      {
       "output_type": "stream",
       "stream": "stdout",
       "text": [
        "\n",
        "   269  |  \u001b[94m  0.015213\u001b[0m  |    0.013947  |     1.090737  |             |  4.2s"
       ]
      },
      {
       "output_type": "stream",
       "stream": "stdout",
       "text": [
        "\n",
        "   270  |  \u001b[94m  0.015167\u001b[0m  |  \u001b[32m  0.013890\u001b[0m  |     1.091970  |             |  4.2s"
       ]
      },
      {
       "output_type": "stream",
       "stream": "stdout",
       "text": [
        "\n",
        "   271  |  \u001b[94m  0.015137\u001b[0m  |    0.013899  |     1.089047  |             |  4.2s"
       ]
      },
      {
       "output_type": "stream",
       "stream": "stdout",
       "text": [
        "\n",
        "   272  |  \u001b[94m  0.015106\u001b[0m  |  \u001b[32m  0.013840\u001b[0m  |     1.091490  |             |  4.2s"
       ]
      },
      {
       "output_type": "stream",
       "stream": "stdout",
       "text": [
        "\n",
        "   273  |  \u001b[94m  0.015068\u001b[0m  |    0.013858  |     1.087311  |             |  4.2s"
       ]
      },
      {
       "output_type": "stream",
       "stream": "stdout",
       "text": [
        "\n",
        "   274  |  \u001b[94m  0.015015\u001b[0m  |    0.013842  |     1.084780  |             |  4.2s"
       ]
      },
      {
       "output_type": "stream",
       "stream": "stdout",
       "text": [
        "\n",
        "   275  |    0.015058  |  \u001b[32m  0.013768\u001b[0m  |     1.093646  |             |  4.2s"
       ]
      },
      {
       "output_type": "stream",
       "stream": "stdout",
       "text": [
        "\n",
        "   276  |    0.015026  |  \u001b[32m  0.013733\u001b[0m  |     1.094216  |             |  4.2s"
       ]
      },
      {
       "output_type": "stream",
       "stream": "stdout",
       "text": [
        "\n",
        "   277  |  \u001b[94m  0.015009\u001b[0m  |    0.013753  |     1.091328  |             |  4.2s"
       ]
      },
      {
       "output_type": "stream",
       "stream": "stdout",
       "text": [
        "\n",
        "   278  |    0.015010  |    0.013753  |     1.091361  |             |  4.2s"
       ]
      },
      {
       "output_type": "stream",
       "stream": "stdout",
       "text": [
        "\n",
        "   279  |  \u001b[94m  0.014962\u001b[0m  |  \u001b[32m  0.013710\u001b[0m  |     1.091306  |             |  4.2s"
       ]
      },
      {
       "output_type": "stream",
       "stream": "stdout",
       "text": [
        "\n",
        "   280  |  \u001b[94m  0.014896\u001b[0m  |  \u001b[32m  0.013677\u001b[0m  |     1.089118  |             |  4.2s"
       ]
      },
      {
       "output_type": "stream",
       "stream": "stdout",
       "text": [
        "\n",
        "   281  |  \u001b[94m  0.014820\u001b[0m  |  \u001b[32m  0.013646\u001b[0m  |     1.085985  |             |  4.2s"
       ]
      },
      {
       "output_type": "stream",
       "stream": "stdout",
       "text": [
        "\n",
        "   282  |    0.014837  |  \u001b[32m  0.013624\u001b[0m  |     1.088968  |             |  4.2s"
       ]
      },
      {
       "output_type": "stream",
       "stream": "stdout",
       "text": [
        "\n",
        "   283  |    0.014847  |  \u001b[32m  0.013565\u001b[0m  |     1.094559  |             |  4.2s"
       ]
      },
      {
       "output_type": "stream",
       "stream": "stdout",
       "text": [
        "\n",
        "   284  |  \u001b[94m  0.014798\u001b[0m  |  \u001b[32m  0.013555\u001b[0m  |     1.091743  |             |  4.2s"
       ]
      },
      {
       "output_type": "stream",
       "stream": "stdout",
       "text": [
        "\n",
        "   285  |  \u001b[94m  0.014745\u001b[0m  |    0.013600  |     1.084238  |             |  4.2s"
       ]
      },
      {
       "output_type": "stream",
       "stream": "stdout",
       "text": [
        "\n",
        "   286  |  \u001b[94m  0.014662\u001b[0m  |  \u001b[32m  0.013547\u001b[0m  |     1.082279  |             |  4.2s"
       ]
      },
      {
       "output_type": "stream",
       "stream": "stdout",
       "text": [
        "\n",
        "   287  |    0.014726  |  \u001b[32m  0.013519\u001b[0m  |     1.089320  |             |  4.1s"
       ]
      },
      {
       "output_type": "stream",
       "stream": "stdout",
       "text": [
        "\n",
        "   288  |    0.014763  |    0.013520  |     1.091960  |             |  4.2s"
       ]
      },
      {
       "output_type": "stream",
       "stream": "stdout",
       "text": [
        "\n",
        "   289  |    0.014716  |  \u001b[32m  0.013468\u001b[0m  |     1.092666  |             |  4.2s"
       ]
      },
      {
       "output_type": "stream",
       "stream": "stdout",
       "text": [
        "\n",
        "   290  |  \u001b[94m  0.014632\u001b[0m  |  \u001b[32m  0.013446\u001b[0m  |     1.088223  |             |  4.2s"
       ]
      },
      {
       "output_type": "stream",
       "stream": "stdout",
       "text": [
        "\n",
        "   291  |  \u001b[94m  0.014631\u001b[0m  |  \u001b[32m  0.013420\u001b[0m  |     1.090253  |             |  4.1s"
       ]
      },
      {
       "output_type": "stream",
       "stream": "stdout",
       "text": [
        "\n",
        "   292  |  \u001b[94m  0.014589\u001b[0m  |  \u001b[32m  0.013407\u001b[0m  |     1.088169  |             |  4.2s"
       ]
      },
      {
       "output_type": "stream",
       "stream": "stdout",
       "text": [
        "\n",
        "   293  |    0.014649  |  \u001b[32m  0.013385\u001b[0m  |     1.094430  |             |  4.2s"
       ]
      },
      {
       "output_type": "stream",
       "stream": "stdout",
       "text": [
        "\n",
        "   294  |  \u001b[94m  0.014555\u001b[0m  |  \u001b[32m  0.013376\u001b[0m  |     1.088139  |             |  4.2s"
       ]
      },
      {
       "output_type": "stream",
       "stream": "stdout",
       "text": [
        "\n",
        "   295  |  \u001b[94m  0.014537\u001b[0m  |  \u001b[32m  0.013366\u001b[0m  |     1.087652  |             |  4.1s"
       ]
      },
      {
       "output_type": "stream",
       "stream": "stdout",
       "text": [
        "\n",
        "   296  |  \u001b[94m  0.014519\u001b[0m  |  \u001b[32m  0.013318\u001b[0m  |     1.090142  |             |  4.2s"
       ]
      },
      {
       "output_type": "stream",
       "stream": "stdout",
       "text": [
        "\n",
        "   297  |    0.014560  |    0.013347  |     1.090901  |             |  4.2s"
       ]
      },
      {
       "output_type": "stream",
       "stream": "stdout",
       "text": [
        "\n",
        "   298  |  \u001b[94m  0.014480\u001b[0m  |    0.013327  |     1.086545  |             |  4.2s"
       ]
      },
      {
       "output_type": "stream",
       "stream": "stdout",
       "text": [
        "\n",
        "   299  |  \u001b[94m  0.014477\u001b[0m  |  \u001b[32m  0.013287\u001b[0m  |     1.089523  |             |  4.1s"
       ]
      },
      {
       "output_type": "stream",
       "stream": "stdout",
       "text": [
        "\n",
        "   300  |  \u001b[94m  0.014420\u001b[0m  |  \u001b[32m  0.013244\u001b[0m  |     1.088800  |             |  4.2s"
       ]
      },
      {
       "output_type": "stream",
       "stream": "stdout",
       "text": [
        "\n",
        "   301  |  \u001b[94m  0.014418\u001b[0m  |    0.013273  |     1.086264  |             |  4.2s"
       ]
      },
      {
       "output_type": "stream",
       "stream": "stdout",
       "text": [
        "\n",
        "   302  |  \u001b[94m  0.014334\u001b[0m  |  \u001b[32m  0.013240\u001b[0m  |     1.082577  |             |  4.1s"
       ]
      },
      {
       "output_type": "stream",
       "stream": "stdout",
       "text": [
        "\n",
        "   303  |    0.014403  |  \u001b[32m  0.013234\u001b[0m  |     1.088348  |             |  4.2s"
       ]
      },
      {
       "output_type": "stream",
       "stream": "stdout",
       "text": [
        "\n",
        "   304  |  \u001b[94m  0.014330\u001b[0m  |  \u001b[32m  0.013193\u001b[0m  |     1.086151  |             |  4.2s"
       ]
      },
      {
       "output_type": "stream",
       "stream": "stdout",
       "text": [
        "\n",
        "   305  |    0.014407  |  \u001b[32m  0.013172\u001b[0m  |     1.093737  |             |  4.2s"
       ]
      },
      {
       "output_type": "stream",
       "stream": "stdout",
       "text": [
        "\n",
        "   306  |  \u001b[94m  0.014250\u001b[0m  |  \u001b[32m  0.013148\u001b[0m  |     1.083758  |             |  4.2s"
       ]
      },
      {
       "output_type": "stream",
       "stream": "stdout",
       "text": [
        "\n",
        "   307  |    0.014260  |  \u001b[32m  0.013116\u001b[0m  |     1.087210  |             |  4.2s"
       ]
      },
      {
       "output_type": "stream",
       "stream": "stdout",
       "text": [
        "\n",
        "   308  |  \u001b[94m  0.014247\u001b[0m  |    0.013130  |     1.085018  |             |  4.2s"
       ]
      },
      {
       "output_type": "stream",
       "stream": "stdout",
       "text": [
        "\n",
        "   309  |  \u001b[94m  0.014229\u001b[0m  |  \u001b[32m  0.013084\u001b[0m  |     1.087488  |             |  4.2s"
       ]
      },
      {
       "output_type": "stream",
       "stream": "stdout",
       "text": [
        "\n",
        "   310  |  \u001b[94m  0.014208\u001b[0m  |  \u001b[32m  0.013081\u001b[0m  |     1.086151  |             |  4.2s"
       ]
      },
      {
       "output_type": "stream",
       "stream": "stdout",
       "text": [
        "\n",
        "   311  |  \u001b[94m  0.014109\u001b[0m  |  \u001b[32m  0.013077\u001b[0m  |     1.078959  |             |  4.2s"
       ]
      },
      {
       "output_type": "stream",
       "stream": "stdout",
       "text": [
        "\n",
        "   312  |    0.014124  |  \u001b[32m  0.013067\u001b[0m  |     1.080821  |             |  4.2s"
       ]
      },
      {
       "output_type": "stream",
       "stream": "stdout",
       "text": [
        "\n",
        "   313  |    0.014141  |  \u001b[32m  0.013030\u001b[0m  |     1.085310  |             |  4.1s"
       ]
      },
      {
       "output_type": "stream",
       "stream": "stdout",
       "text": [
        "\n",
        "   314  |    0.014210  |  \u001b[32m  0.013007\u001b[0m  |     1.092502  |             |  4.2s"
       ]
      },
      {
       "output_type": "stream",
       "stream": "stdout",
       "text": [
        "\n",
        "   315  |  \u001b[94m  0.014060\u001b[0m  |    0.013008  |     1.080800  |             |  4.1s"
       ]
      },
      {
       "output_type": "stream",
       "stream": "stdout",
       "text": [
        "\n",
        "   316  |  \u001b[94m  0.014035\u001b[0m  |  \u001b[32m  0.012994\u001b[0m  |     1.080079  |             |  4.1s"
       ]
      },
      {
       "output_type": "stream",
       "stream": "stdout",
       "text": [
        "\n",
        "   317  |  \u001b[94m  0.014016\u001b[0m  |  \u001b[32m  0.012935\u001b[0m  |     1.083535  |             |  4.2s"
       ]
      },
      {
       "output_type": "stream",
       "stream": "stdout",
       "text": [
        "\n",
        "   318  |    0.014064  |    0.012949  |     1.086047  |             |  4.2s"
       ]
      },
      {
       "output_type": "stream",
       "stream": "stdout",
       "text": [
        "\n",
        "   319  |  \u001b[94m  0.014003\u001b[0m  |  \u001b[32m  0.012925\u001b[0m  |     1.083362  |             |  4.1s"
       ]
      },
      {
       "output_type": "stream",
       "stream": "stdout",
       "text": [
        "\n",
        "   320  |    0.014003  |  \u001b[32m  0.012924\u001b[0m  |     1.083468  |             |  4.2s"
       ]
      },
      {
       "output_type": "stream",
       "stream": "stdout",
       "text": [
        "\n",
        "   321  |  \u001b[94m  0.013886\u001b[0m  |  \u001b[32m  0.012905\u001b[0m  |     1.076064  |             |  4.1s"
       ]
      },
      {
       "output_type": "stream",
       "stream": "stdout",
       "text": [
        "\n",
        "   322  |    0.013926  |  \u001b[32m  0.012895\u001b[0m  |     1.079885  |             |  4.1s"
       ]
      },
      {
       "output_type": "stream",
       "stream": "stdout",
       "text": [
        "\n",
        "   323  |    0.014017  |  \u001b[32m  0.012870\u001b[0m  |     1.089135  |             |  4.1s"
       ]
      },
      {
       "output_type": "stream",
       "stream": "stdout",
       "text": [
        "\n",
        "   324  |    0.013929  |  \u001b[32m  0.012861\u001b[0m  |     1.083048  |             |  4.2s"
       ]
      },
      {
       "output_type": "stream",
       "stream": "stdout",
       "text": [
        "\n",
        "   325  |    0.014029  |  \u001b[32m  0.012840\u001b[0m  |     1.092605  |             |  4.2s"
       ]
      },
      {
       "output_type": "stream",
       "stream": "stdout",
       "text": [
        "\n",
        "   326  |  \u001b[94m  0.013848\u001b[0m  |  \u001b[32m  0.012835\u001b[0m  |     1.078918  |             |  4.2s"
       ]
      },
      {
       "output_type": "stream",
       "stream": "stdout",
       "text": [
        "\n",
        "   327  |  \u001b[94m  0.013796\u001b[0m  |  \u001b[32m  0.012799\u001b[0m  |     1.077881  |             |  4.2s"
       ]
      },
      {
       "output_type": "stream",
       "stream": "stdout",
       "text": [
        "\n",
        "   328  |    0.013911  |  \u001b[32m  0.012787\u001b[0m  |     1.087871  |             |  4.2s"
       ]
      },
      {
       "output_type": "stream",
       "stream": "stdout",
       "text": [
        "\n",
        "   329  |    0.013819  |  \u001b[32m  0.012775\u001b[0m  |     1.081716  |             |  4.2s"
       ]
      },
      {
       "output_type": "stream",
       "stream": "stdout",
       "text": [
        "\n",
        "   330  |    0.013815  |    0.012778  |     1.081208  |             |  4.2s"
       ]
      },
      {
       "output_type": "stream",
       "stream": "stdout",
       "text": [
        "\n",
        "   331  |    0.013820  |  \u001b[32m  0.012740\u001b[0m  |     1.084796  |             |  4.2s"
       ]
      },
      {
       "output_type": "stream",
       "stream": "stdout",
       "text": [
        "\n",
        "   332  |  \u001b[94m  0.013714\u001b[0m  |    0.012742  |     1.076271  |             |  4.2s"
       ]
      },
      {
       "output_type": "stream",
       "stream": "stdout",
       "text": [
        "\n",
        "   333  |    0.013873  |    0.012746  |     1.088403  |             |  4.2s"
       ]
      },
      {
       "output_type": "stream",
       "stream": "stdout",
       "text": [
        "\n",
        "   334  |  \u001b[94m  0.013707\u001b[0m  |  \u001b[32m  0.012705\u001b[0m  |     1.078813  |             |  4.2s"
       ]
      },
      {
       "output_type": "stream",
       "stream": "stdout",
       "text": [
        "\n",
        "   335  |    0.013761  |  \u001b[32m  0.012705\u001b[0m  |     1.083112  |             |  4.2s"
       ]
      },
      {
       "output_type": "stream",
       "stream": "stdout",
       "text": [
        "\n",
        "   336  |    0.013739  |    0.012716  |     1.080465  |             |  4.2s"
       ]
      },
      {
       "output_type": "stream",
       "stream": "stdout",
       "text": [
        "\n",
        "   337  |  \u001b[94m  0.013619\u001b[0m  |  \u001b[32m  0.012647\u001b[0m  |     1.076869  |             |  4.2s"
       ]
      },
      {
       "output_type": "stream",
       "stream": "stdout",
       "text": [
        "\n",
        "   338  |    0.013689  |    0.012673  |     1.080172  |             |  4.1s"
       ]
      },
      {
       "output_type": "stream",
       "stream": "stdout",
       "text": [
        "\n",
        "   339  |    0.013634  |    0.012683  |     1.074974  |             |  4.2s"
       ]
      },
      {
       "output_type": "stream",
       "stream": "stdout",
       "text": [
        "\n",
        "   340  |    0.013653  |  \u001b[32m  0.012628\u001b[0m  |     1.081113  |             |  4.2s"
       ]
      },
      {
       "output_type": "stream",
       "stream": "stdout",
       "text": [
        "\n",
        "   341  |  \u001b[94m  0.013546\u001b[0m  |  \u001b[32m  0.012611\u001b[0m  |     1.074175  |             |  4.2s"
       ]
      },
      {
       "output_type": "stream",
       "stream": "stdout",
       "text": [
        "\n",
        "   342  |    0.013550  |  \u001b[32m  0.012589\u001b[0m  |     1.076338  |             |  4.1s"
       ]
      },
      {
       "output_type": "stream",
       "stream": "stdout",
       "text": [
        "\n",
        "   343  |    0.013570  |  \u001b[32m  0.012583\u001b[0m  |     1.078434  |             |  4.2s"
       ]
      },
      {
       "output_type": "stream",
       "stream": "stdout",
       "text": [
        "\n",
        "   344  |    0.013665  |  \u001b[32m  0.012542\u001b[0m  |     1.089551  |             |  4.2s"
       ]
      },
      {
       "output_type": "stream",
       "stream": "stdout",
       "text": [
        "\n",
        "   345  |    0.013561  |    0.012594  |     1.076783  |             |  4.2s"
       ]
      },
      {
       "output_type": "stream",
       "stream": "stdout",
       "text": [
        "\n",
        "   346  |  \u001b[94m  0.013511\u001b[0m  |  \u001b[32m  0.012525\u001b[0m  |     1.078744  |             |  4.2s"
       ]
      },
      {
       "output_type": "stream",
       "stream": "stdout",
       "text": [
        "\n",
        "   347  |  \u001b[94m  0.013482\u001b[0m  |  \u001b[32m  0.012504\u001b[0m  |     1.078152  |             |  4.2s"
       ]
      },
      {
       "output_type": "stream",
       "stream": "stdout",
       "text": [
        "\n",
        "   348  |  \u001b[94m  0.013468\u001b[0m  |    0.012511  |     1.076547  |             |  4.2s"
       ]
      },
      {
       "output_type": "stream",
       "stream": "stdout",
       "text": [
        "\n",
        "   349  |  \u001b[94m  0.013436\u001b[0m  |  \u001b[32m  0.012493\u001b[0m  |     1.075441  |             |  4.2s"
       ]
      },
      {
       "output_type": "stream",
       "stream": "stdout",
       "text": [
        "\n",
        "   350  |    0.013454  |  \u001b[32m  0.012487\u001b[0m  |     1.077475  |             |  4.2s"
       ]
      },
      {
       "output_type": "stream",
       "stream": "stdout",
       "text": [
        "\n",
        "   351  |  \u001b[94m  0.013383\u001b[0m  |    0.012506  |     1.070071  |             |  4.2s"
       ]
      },
      {
       "output_type": "stream",
       "stream": "stdout",
       "text": [
        "\n",
        "   352  |    0.013463  |  \u001b[32m  0.012460\u001b[0m  |     1.080505  |             |  4.2s"
       ]
      },
      {
       "output_type": "stream",
       "stream": "stdout",
       "text": [
        "\n",
        "   353  |    0.013462  |    0.012473  |     1.079364  |             |  4.2s"
       ]
      },
      {
       "output_type": "stream",
       "stream": "stdout",
       "text": [
        "\n",
        "   354  |    0.013453  |  \u001b[32m  0.012437\u001b[0m  |     1.081769  |             |  4.2s"
       ]
      },
      {
       "output_type": "stream",
       "stream": "stdout",
       "text": [
        "\n",
        "   355  |  \u001b[94m  0.013366\u001b[0m  |  \u001b[32m  0.012420\u001b[0m  |     1.076135  |             |  4.2s"
       ]
      },
      {
       "output_type": "stream",
       "stream": "stdout",
       "text": [
        "\n",
        "   356  |  \u001b[94m  0.013288\u001b[0m  |  \u001b[32m  0.012395\u001b[0m  |     1.072027  |             |  4.2s"
       ]
      },
      {
       "output_type": "stream",
       "stream": "stdout",
       "text": [
        "\n",
        "   357  |    0.013381  |    0.012410  |     1.078212  |             |  4.2s"
       ]
      },
      {
       "output_type": "stream",
       "stream": "stdout",
       "text": [
        "\n",
        "   358  |  \u001b[94m  0.013278\u001b[0m  |  \u001b[32m  0.012390\u001b[0m  |     1.071646  |             |  4.2s"
       ]
      },
      {
       "output_type": "stream",
       "stream": "stdout",
       "text": [
        "\n",
        "   359  |    0.013341  |  \u001b[32m  0.012377\u001b[0m  |     1.077920  |             |  4.2s"
       ]
      },
      {
       "output_type": "stream",
       "stream": "stdout",
       "text": [
        "\n",
        "   360  |  \u001b[94m  0.013269\u001b[0m  |    0.012393  |     1.070728  |             |  4.2s"
       ]
      },
      {
       "output_type": "stream",
       "stream": "stdout",
       "text": [
        "\n",
        "   361  |  \u001b[94m  0.013206\u001b[0m  |  \u001b[32m  0.012367\u001b[0m  |     1.067844  |             |  4.2s"
       ]
      },
      {
       "output_type": "stream",
       "stream": "stdout",
       "text": [
        "\n",
        "   362  |    0.013249  |  \u001b[32m  0.012340\u001b[0m  |     1.073672  |             |  4.2s"
       ]
      },
      {
       "output_type": "stream",
       "stream": "stdout",
       "text": [
        "\n",
        "   363  |    0.013257  |  \u001b[32m  0.012332\u001b[0m  |     1.075009  |             |  4.2s"
       ]
      },
      {
       "output_type": "stream",
       "stream": "stdout",
       "text": [
        "\n",
        "   364  |    0.013240  |  \u001b[32m  0.012314\u001b[0m  |     1.075218  |             |  4.2s"
       ]
      },
      {
       "output_type": "stream",
       "stream": "stdout",
       "text": [
        "\n",
        "   365  |    0.013233  |    0.012327  |     1.073517  |             |  4.2s"
       ]
      },
      {
       "output_type": "stream",
       "stream": "stdout",
       "text": [
        "\n",
        "   366  |  \u001b[94m  0.013182\u001b[0m  |  \u001b[32m  0.012312\u001b[0m  |     1.070676  |             |  4.2s"
       ]
      },
      {
       "output_type": "stream",
       "stream": "stdout",
       "text": [
        "\n",
        "   367  |  \u001b[94m  0.013134\u001b[0m  |  \u001b[32m  0.012293\u001b[0m  |     1.068395  |             |  4.2s"
       ]
      },
      {
       "output_type": "stream",
       "stream": "stdout",
       "text": [
        "\n",
        "   368  |    0.013173  |  \u001b[32m  0.012270\u001b[0m  |     1.073615  |             |  4.2s"
       ]
      },
      {
       "output_type": "stream",
       "stream": "stdout",
       "text": [
        "\n",
        "   369  |  \u001b[94m  0.013104\u001b[0m  |  \u001b[32m  0.012241\u001b[0m  |     1.070562  |             |  4.2s"
       ]
      },
      {
       "output_type": "stream",
       "stream": "stdout",
       "text": [
        "\n",
        "   370  |    0.013152  |    0.012279  |     1.071074  |             |  4.2s"
       ]
      },
      {
       "output_type": "stream",
       "stream": "stdout",
       "text": [
        "\n",
        "   371  |  \u001b[94m  0.013089\u001b[0m  |    0.012271  |     1.066667  |             |  4.2s"
       ]
      },
      {
       "output_type": "stream",
       "stream": "stdout",
       "text": [
        "\n",
        "   372  |    0.013143  |  \u001b[32m  0.012209\u001b[0m  |     1.076545  |             |  4.2s"
       ]
      },
      {
       "output_type": "stream",
       "stream": "stdout",
       "text": [
        "\n",
        "   373  |    0.013095  |    0.012243  |     1.069579  |             |  4.2s"
       ]
      },
      {
       "output_type": "stream",
       "stream": "stdout",
       "text": [
        "\n",
        "   374  |  \u001b[94m  0.013059\u001b[0m  |  \u001b[32m  0.012196\u001b[0m  |     1.070748  |             |  4.2s"
       ]
      },
      {
       "output_type": "stream",
       "stream": "stdout",
       "text": [
        "\n",
        "   375  |    0.013077  |  \u001b[32m  0.012196\u001b[0m  |     1.072226  |             |  4.2s"
       ]
      },
      {
       "output_type": "stream",
       "stream": "stdout",
       "text": [
        "\n",
        "   376  |    0.013081  |  \u001b[32m  0.012183\u001b[0m  |     1.073760  |             |  4.2s"
       ]
      },
      {
       "output_type": "stream",
       "stream": "stdout",
       "text": [
        "\n",
        "   377  |    0.013074  |  \u001b[32m  0.012178\u001b[0m  |     1.073535  |             |  4.2s"
       ]
      },
      {
       "output_type": "stream",
       "stream": "stdout",
       "text": [
        "\n",
        "   378  |  \u001b[94m  0.013011\u001b[0m  |  \u001b[32m  0.012155\u001b[0m  |     1.070412  |             |  4.2s"
       ]
      },
      {
       "output_type": "stream",
       "stream": "stdout",
       "text": [
        "\n",
        "   379  |  \u001b[94m  0.013003\u001b[0m  |  \u001b[32m  0.012114\u001b[0m  |     1.073355  |             |  4.1s"
       ]
      },
      {
       "output_type": "stream",
       "stream": "stdout",
       "text": [
        "\n",
        "   380  |  \u001b[94m  0.012995\u001b[0m  |    0.012133  |     1.071105  |             |  4.1s"
       ]
      },
      {
       "output_type": "stream",
       "stream": "stdout",
       "text": [
        "\n",
        "   381  |  \u001b[94m  0.012944\u001b[0m  |    0.012122  |     1.067761  |             |  4.1s"
       ]
      },
      {
       "output_type": "stream",
       "stream": "stdout",
       "text": [
        "\n",
        "   382  |    0.012976  |  \u001b[32m  0.012113\u001b[0m  |     1.071322  |             |  4.2s"
       ]
      },
      {
       "output_type": "stream",
       "stream": "stdout",
       "text": [
        "\n",
        "   383  |  \u001b[94m  0.012906\u001b[0m  |    0.012116  |     1.065227  |             |  4.2s"
       ]
      },
      {
       "output_type": "stream",
       "stream": "stdout",
       "text": [
        "\n",
        "   384  |    0.012917  |  \u001b[32m  0.012074\u001b[0m  |     1.069867  |             |  4.2s"
       ]
      },
      {
       "output_type": "stream",
       "stream": "stdout",
       "text": [
        "\n",
        "   385  |    0.013013  |    0.012096  |     1.075783  |             |  4.1s"
       ]
      },
      {
       "output_type": "stream",
       "stream": "stdout",
       "text": [
        "\n",
        "   386  |  \u001b[94m  0.012865\u001b[0m  |    0.012083  |     1.064736  |             |  4.2s"
       ]
      },
      {
       "output_type": "stream",
       "stream": "stdout",
       "text": [
        "\n",
        "   387  |    0.012960  |  \u001b[32m  0.012058\u001b[0m  |     1.074867  |             |  4.2s"
       ]
      },
      {
       "output_type": "stream",
       "stream": "stdout",
       "text": [
        "\n",
        "   388  |    0.012937  |    0.012075  |     1.071375  |             |  4.2s"
       ]
      },
      {
       "output_type": "stream",
       "stream": "stdout",
       "text": [
        "\n",
        "   389  |    0.012898  |  \u001b[32m  0.012013\u001b[0m  |     1.073659  |             |  4.2s"
       ]
      },
      {
       "output_type": "stream",
       "stream": "stdout",
       "text": [
        "\n",
        "   390  |    0.012867  |    0.012058  |     1.067133  |             |  4.2s"
       ]
      },
      {
       "output_type": "stream",
       "stream": "stdout",
       "text": [
        "\n",
        "   391  |  \u001b[94m  0.012843\u001b[0m  |    0.012028  |     1.067744  |             |  4.1s"
       ]
      },
      {
       "output_type": "stream",
       "stream": "stdout",
       "text": [
        "\n",
        "   392  |  \u001b[94m  0.012793\u001b[0m  |  \u001b[32m  0.011996\u001b[0m  |     1.066397  |             |  4.2s"
       ]
      },
      {
       "output_type": "stream",
       "stream": "stdout",
       "text": [
        "\n",
        "   393  |    0.012811  |    0.012019  |     1.065873  |             |  4.2s"
       ]
      },
      {
       "output_type": "stream",
       "stream": "stdout",
       "text": [
        "\n",
        "   394  |    0.012810  |  \u001b[32m  0.011974\u001b[0m  |     1.069816  |             |  4.2s"
       ]
      },
      {
       "output_type": "stream",
       "stream": "stdout",
       "text": [
        "\n",
        "   395  |  \u001b[94m  0.012783\u001b[0m  |  \u001b[32m  0.011968\u001b[0m  |     1.068136  |             |  4.1s"
       ]
      },
      {
       "output_type": "stream",
       "stream": "stdout",
       "text": [
        "\n",
        "   396  |  \u001b[94m  0.012694\u001b[0m  |    0.011975  |     1.060039  |             |  4.2s"
       ]
      },
      {
       "output_type": "stream",
       "stream": "stdout",
       "text": [
        "\n",
        "   397  |    0.012742  |    0.011976  |     1.063973  |             |  4.2s"
       ]
      },
      {
       "output_type": "stream",
       "stream": "stdout",
       "text": [
        "\n",
        "   398  |  \u001b[94m  0.012676\u001b[0m  |  \u001b[32m  0.011965\u001b[0m  |     1.059460  |             |  4.1s"
       ]
      },
      {
       "output_type": "stream",
       "stream": "stdout",
       "text": [
        "\n",
        "   399  |  \u001b[94m  0.012666\u001b[0m  |  \u001b[32m  0.011928\u001b[0m  |     1.061804  |             |  4.2s"
       ]
      },
      {
       "output_type": "stream",
       "stream": "stdout",
       "text": [
        "\n",
        "   400  |    0.012754  |    0.011961  |     1.066260  |             |  4.1s"
       ]
      },
      {
       "output_type": "stream",
       "stream": "stdout",
       "text": [
        "\n",
        "   401  |  \u001b[94m  0.012619\u001b[0m  |    0.011944  |     1.056512  |             |  4.2s"
       ]
      },
      {
       "output_type": "stream",
       "stream": "stdout",
       "text": [
        "\n",
        "   402  |    0.012663  |  \u001b[32m  0.011922\u001b[0m  |     1.062173  |             |  4.1s"
       ]
      },
      {
       "output_type": "stream",
       "stream": "stdout",
       "text": [
        "\n",
        "   403  |    0.012686  |  \u001b[32m  0.011903\u001b[0m  |     1.065780  |             |  4.2s"
       ]
      },
      {
       "output_type": "stream",
       "stream": "stdout",
       "text": [
        "\n",
        "   404  |  \u001b[94m  0.012618\u001b[0m  |  \u001b[32m  0.011871\u001b[0m  |     1.062921  |             |  4.2s"
       ]
      },
      {
       "output_type": "stream",
       "stream": "stdout",
       "text": [
        "\n",
        "   405  |    0.012633  |    0.011884  |     1.063023  |             |  4.2s"
       ]
      },
      {
       "output_type": "stream",
       "stream": "stdout",
       "text": [
        "\n",
        "   406  |    0.012663  |    0.011897  |     1.064343  |             |  4.1s"
       ]
      },
      {
       "output_type": "stream",
       "stream": "stdout",
       "text": [
        "\n",
        "   407  |  \u001b[94m  0.012608\u001b[0m  |    0.011874  |     1.061761  |             |  4.1s"
       ]
      },
      {
       "output_type": "stream",
       "stream": "stdout",
       "text": [
        "\n",
        "   408  |    0.012624  |    0.011872  |     1.063329  |             |  4.2s"
       ]
      },
      {
       "output_type": "stream",
       "stream": "stdout",
       "text": [
        "\n",
        "   409  |  \u001b[94m  0.012554\u001b[0m  |  \u001b[32m  0.011838\u001b[0m  |     1.060495  |             |  4.2s"
       ]
      },
      {
       "output_type": "stream",
       "stream": "stdout",
       "text": [
        "\n",
        "   410  |    0.012554  |    0.011841  |     1.060259  |             |  4.2s"
       ]
      },
      {
       "output_type": "stream",
       "stream": "stdout",
       "text": [
        "\n",
        "   411  |  \u001b[94m  0.012523\u001b[0m  |  \u001b[32m  0.011831\u001b[0m  |     1.058453  |             |  4.2s"
       ]
      },
      {
       "output_type": "stream",
       "stream": "stdout",
       "text": [
        "\n",
        "   412  |    0.012598  |  \u001b[32m  0.011786\u001b[0m  |     1.068889  |             |  4.2s"
       ]
      },
      {
       "output_type": "stream",
       "stream": "stdout",
       "text": [
        "\n",
        "   413  |    0.012527  |    0.011827  |     1.059126  |             |  4.2s"
       ]
      },
      {
       "output_type": "stream",
       "stream": "stdout",
       "text": [
        "\n",
        "   414  |    0.012562  |    0.011808  |     1.063889  |             |  4.2s"
       ]
      },
      {
       "output_type": "stream",
       "stream": "stdout",
       "text": [
        "\n",
        "   415  |    0.012545  |    0.011812  |     1.062115  |             |  4.2s"
       ]
      },
      {
       "output_type": "stream",
       "stream": "stdout",
       "text": [
        "\n",
        "   416  |    0.012543  |  \u001b[32m  0.011781\u001b[0m  |     1.064693  |             |  4.2s"
       ]
      },
      {
       "output_type": "stream",
       "stream": "stdout",
       "text": [
        "\n",
        "   417  |    0.012527  |  \u001b[32m  0.011766\u001b[0m  |     1.064691  |             |  4.2s"
       ]
      },
      {
       "output_type": "stream",
       "stream": "stdout",
       "text": [
        "\n",
        "   418  |  \u001b[94m  0.012460\u001b[0m  |  \u001b[32m  0.011757\u001b[0m  |     1.059802  |             |  4.2s"
       ]
      },
      {
       "output_type": "stream",
       "stream": "stdout",
       "text": [
        "\n",
        "   419  |  \u001b[94m  0.012446\u001b[0m  |  \u001b[32m  0.011748\u001b[0m  |     1.059469  |             |  4.2s"
       ]
      },
      {
       "output_type": "stream",
       "stream": "stdout",
       "text": [
        "\n",
        "   420  |  \u001b[94m  0.012444\u001b[0m  |  \u001b[32m  0.011733\u001b[0m  |     1.060570  |             |  4.2s"
       ]
      },
      {
       "output_type": "stream",
       "stream": "stdout",
       "text": [
        "\n",
        "   421  |  \u001b[94m  0.012382\u001b[0m  |    0.011743  |     1.054386  |             |  4.2s"
       ]
      },
      {
       "output_type": "stream",
       "stream": "stdout",
       "text": [
        "\n",
        "   422  |    0.012462  |  \u001b[32m  0.011710\u001b[0m  |     1.064188  |             |  4.2s"
       ]
      },
      {
       "output_type": "stream",
       "stream": "stdout",
       "text": [
        "\n",
        "   423  |  \u001b[94m  0.012360\u001b[0m  |    0.011750  |     1.051924  |             |  4.2s"
       ]
      },
      {
       "output_type": "stream",
       "stream": "stdout",
       "text": [
        "\n",
        "   424  |    0.012430  |  \u001b[32m  0.011707\u001b[0m  |     1.061679  |             |  4.1s"
       ]
      },
      {
       "output_type": "stream",
       "stream": "stdout",
       "text": [
        "\n",
        "   425  |    0.012371  |    0.011711  |     1.056293  |             |  4.2s"
       ]
      },
      {
       "output_type": "stream",
       "stream": "stdout",
       "text": [
        "\n",
        "   426  |    0.012418  |  \u001b[32m  0.011692\u001b[0m  |     1.062084  |             |  4.2s"
       ]
      },
      {
       "output_type": "stream",
       "stream": "stdout",
       "text": [
        "\n",
        "   427  |    0.012405  |  \u001b[32m  0.011677\u001b[0m  |     1.062357  |             |  4.2s"
       ]
      },
      {
       "output_type": "stream",
       "stream": "stdout",
       "text": [
        "\n",
        "   428  |    0.012424  |    0.011718  |     1.060255  |             |  4.2s"
       ]
      },
      {
       "output_type": "stream",
       "stream": "stdout",
       "text": [
        "\n",
        "   429  |  \u001b[94m  0.012349\u001b[0m  |    0.011707  |     1.054884  |             |  4.2s"
       ]
      },
      {
       "output_type": "stream",
       "stream": "stdout",
       "text": [
        "\n",
        "   430  |  \u001b[94m  0.012311\u001b[0m  |  \u001b[32m  0.011647\u001b[0m  |     1.057062  |             |  4.2s"
       ]
      },
      {
       "output_type": "stream",
       "stream": "stdout",
       "text": [
        "\n",
        "   431  |    0.012321  |  \u001b[32m  0.011633\u001b[0m  |     1.059121  |             |  4.2s"
       ]
      },
      {
       "output_type": "stream",
       "stream": "stdout",
       "text": [
        "\n",
        "   432  |  \u001b[94m  0.012226\u001b[0m  |    0.011635  |     1.050800  |             |  4.1s"
       ]
      },
      {
       "output_type": "stream",
       "stream": "stdout",
       "text": [
        "\n",
        "   433  |    0.012289  |  \u001b[32m  0.011626\u001b[0m  |     1.057072  |             |  4.1s"
       ]
      },
      {
       "output_type": "stream",
       "stream": "stdout",
       "text": [
        "\n",
        "   434  |    0.012275  |  \u001b[32m  0.011591\u001b[0m  |     1.059009  |             |  4.2s"
       ]
      },
      {
       "output_type": "stream",
       "stream": "stdout",
       "text": [
        "\n",
        "   435  |  \u001b[94m  0.012225\u001b[0m  |    0.011620  |     1.051994  |             |  4.2s"
       ]
      },
      {
       "output_type": "stream",
       "stream": "stdout",
       "text": [
        "\n",
        "   436  |    0.012228  |    0.011620  |     1.052262  |             |  4.2s"
       ]
      },
      {
       "output_type": "stream",
       "stream": "stdout",
       "text": [
        "\n",
        "   437  |  \u001b[94m  0.012222\u001b[0m  |    0.011629  |     1.051051  |             |  4.2s"
       ]
      },
      {
       "output_type": "stream",
       "stream": "stdout",
       "text": [
        "\n",
        "   438  |  \u001b[94m  0.012216\u001b[0m  |  \u001b[32m  0.011568\u001b[0m  |     1.056029  |             |  4.2s"
       ]
      },
      {
       "output_type": "stream",
       "stream": "stdout",
       "text": [
        "\n",
        "   439  |    0.012226  |  \u001b[32m  0.011559\u001b[0m  |     1.057728  |             |  4.2s"
       ]
      },
      {
       "output_type": "stream",
       "stream": "stdout",
       "text": [
        "\n",
        "   440  |    0.012243  |  \u001b[32m  0.011546\u001b[0m  |     1.060344  |             |  4.2s"
       ]
      },
      {
       "output_type": "stream",
       "stream": "stdout",
       "text": [
        "\n",
        "   441  |    0.012230  |    0.011557  |     1.058187  |             |  4.2s"
       ]
      },
      {
       "output_type": "stream",
       "stream": "stdout",
       "text": [
        "\n",
        "   442  |  \u001b[94m  0.012178\u001b[0m  |  \u001b[32m  0.011545\u001b[0m  |     1.054839  |             |  4.2s"
       ]
      },
      {
       "output_type": "stream",
       "stream": "stdout",
       "text": [
        "\n",
        "   443  |    0.012186  |  \u001b[32m  0.011522\u001b[0m  |     1.057618  |             |  4.2s"
       ]
      },
      {
       "output_type": "stream",
       "stream": "stdout",
       "text": [
        "\n",
        "   444  |    0.012185  |    0.011538  |     1.056133  |             |  4.2s"
       ]
      },
      {
       "output_type": "stream",
       "stream": "stdout",
       "text": [
        "\n",
        "   445  |  \u001b[94m  0.012104\u001b[0m  |    0.011531  |     1.049721  |             |  4.2s"
       ]
      },
      {
       "output_type": "stream",
       "stream": "stdout",
       "text": [
        "\n",
        "   446  |    0.012142  |    0.011525  |     1.053569  |             |  4.2s"
       ]
      },
      {
       "output_type": "stream",
       "stream": "stdout",
       "text": [
        "\n",
        "   447  |  \u001b[94m  0.012025\u001b[0m  |  \u001b[32m  0.011506\u001b[0m  |     1.045140  |             |  4.2s"
       ]
      },
      {
       "output_type": "stream",
       "stream": "stdout",
       "text": [
        "\n",
        "   448  |    0.012080  |    0.011507  |     1.049785  |             |  4.2s"
       ]
      },
      {
       "output_type": "stream",
       "stream": "stdout",
       "text": [
        "\n",
        "   449  |    0.012053  |    0.011521  |     1.046100  |             |  4.2s"
       ]
      },
      {
       "output_type": "stream",
       "stream": "stdout",
       "text": [
        "\n",
        "   450  |    0.012111  |    0.011519  |     1.051391  |             |  4.2s"
       ]
      },
      {
       "output_type": "stream",
       "stream": "stdout",
       "text": [
        "\n",
        "   451  |    0.012037  |  \u001b[32m  0.011489\u001b[0m  |     1.047734  |             |  4.1s"
       ]
      },
      {
       "output_type": "stream",
       "stream": "stdout",
       "text": [
        "\n",
        "   452  |    0.012060  |    0.011497  |     1.048972  |             |  4.2s"
       ]
      },
      {
       "output_type": "stream",
       "stream": "stdout",
       "text": [
        "\n",
        "   453  |    0.012034  |  \u001b[32m  0.011482\u001b[0m  |     1.048079  |             |  4.2s"
       ]
      },
      {
       "output_type": "stream",
       "stream": "stdout",
       "text": [
        "\n",
        "   454  |    0.012048  |  \u001b[32m  0.011448\u001b[0m  |     1.052396  |             |  4.2s"
       ]
      },
      {
       "output_type": "stream",
       "stream": "stdout",
       "text": [
        "\n",
        "   455  |  \u001b[94m  0.011973\u001b[0m  |  \u001b[32m  0.011398\u001b[0m  |     1.050402  |             |  4.2s"
       ]
      },
      {
       "output_type": "stream",
       "stream": "stdout",
       "text": [
        "\n",
        "   456  |    0.011979  |    0.011429  |     1.048081  |             |  4.1s"
       ]
      },
      {
       "output_type": "stream",
       "stream": "stdout",
       "text": [
        "\n",
        "   457  |    0.011989  |    0.011420  |     1.049803  |             |  4.2s"
       ]
      },
      {
       "output_type": "stream",
       "stream": "stdout",
       "text": [
        "\n",
        "   458  |    0.012053  |    0.011432  |     1.054358  |             |  4.2s"
       ]
      },
      {
       "output_type": "stream",
       "stream": "stdout",
       "text": [
        "\n",
        "   459  |  \u001b[94m  0.011913\u001b[0m  |    0.011401  |     1.044859  |             |  4.2s"
       ]
      },
      {
       "output_type": "stream",
       "stream": "stdout",
       "text": [
        "\n",
        "   460  |    0.011978  |  \u001b[32m  0.011391\u001b[0m  |     1.051556  |             |  4.2s"
       ]
      },
      {
       "output_type": "stream",
       "stream": "stdout",
       "text": [
        "\n",
        "   461  |  \u001b[94m  0.011878\u001b[0m  |    0.011391  |     1.042778  |             |  4.2s"
       ]
      },
      {
       "output_type": "stream",
       "stream": "stdout",
       "text": [
        "\n",
        "   462  |    0.011917  |  \u001b[32m  0.011390\u001b[0m  |     1.046245  |             |  4.2s"
       ]
      },
      {
       "output_type": "stream",
       "stream": "stdout",
       "text": [
        "\n",
        "   463  |    0.011942  |  \u001b[32m  0.011385\u001b[0m  |     1.048994  |             |  4.1s"
       ]
      },
      {
       "output_type": "stream",
       "stream": "stdout",
       "text": [
        "\n",
        "   464  |    0.011927  |  \u001b[32m  0.011351\u001b[0m  |     1.050819  |             |  4.2s"
       ]
      },
      {
       "output_type": "stream",
       "stream": "stdout",
       "text": [
        "\n",
        "   465  |    0.011891  |  \u001b[32m  0.011345\u001b[0m  |     1.048161  |             |  4.2s"
       ]
      },
      {
       "output_type": "stream",
       "stream": "stdout",
       "text": [
        "\n",
        "   466  |    0.011879  |    0.011381  |     1.043775  |             |  4.2s"
       ]
      },
      {
       "output_type": "stream",
       "stream": "stdout",
       "text": [
        "\n",
        "   467  |  \u001b[94m  0.011842\u001b[0m  |    0.011375  |     1.041010  |             |  4.2s"
       ]
      },
      {
       "output_type": "stream",
       "stream": "stdout",
       "text": [
        "\n",
        "   468  |  \u001b[94m  0.011836\u001b[0m  |  \u001b[32m  0.011344\u001b[0m  |     1.043348  |             |  4.1s"
       ]
      },
      {
       "output_type": "stream",
       "stream": "stdout",
       "text": [
        "\n",
        "   469  |    0.011884  |    0.011351  |     1.046974  |             |  4.2s"
       ]
      },
      {
       "output_type": "stream",
       "stream": "stdout",
       "text": [
        "\n",
        "   470  |    0.011875  |  \u001b[32m  0.011343\u001b[0m  |     1.046873  |             |  4.2s"
       ]
      },
      {
       "output_type": "stream",
       "stream": "stdout",
       "text": [
        "\n",
        "   471  |    0.011841  |  \u001b[32m  0.011320\u001b[0m  |     1.046008  |             |  4.2s"
       ]
      },
      {
       "output_type": "stream",
       "stream": "stdout",
       "text": [
        "\n",
        "   472  |  \u001b[94m  0.011800\u001b[0m  |    0.011329  |     1.041521  |             |  4.1s"
       ]
      },
      {
       "output_type": "stream",
       "stream": "stdout",
       "text": [
        "\n",
        "   473  |  \u001b[94m  0.011727\u001b[0m  |  \u001b[32m  0.011293\u001b[0m  |     1.038463  |             |  4.1s"
       ]
      },
      {
       "output_type": "stream",
       "stream": "stdout",
       "text": [
        "\n",
        "   474  |    0.011772  |    0.011321  |     1.039853  |             |  4.2s"
       ]
      },
      {
       "output_type": "stream",
       "stream": "stdout",
       "text": [
        "\n",
        "   475  |    0.011752  |    0.011294  |     1.040573  |             |  4.2s"
       ]
      },
      {
       "output_type": "stream",
       "stream": "stdout",
       "text": [
        "\n",
        "   476  |  \u001b[94m  0.011720\u001b[0m  |    0.011293  |     1.037783  |             |  4.2s"
       ]
      },
      {
       "output_type": "stream",
       "stream": "stdout",
       "text": [
        "\n",
        "   477  |    0.011742  |  \u001b[32m  0.011271\u001b[0m  |     1.041791  |             |  4.2s"
       ]
      },
      {
       "output_type": "stream",
       "stream": "stdout",
       "text": [
        "\n",
        "   478  |    0.011755  |    0.011274  |     1.042701  |             |  4.2s"
       ]
      },
      {
       "output_type": "stream",
       "stream": "stdout",
       "text": [
        "\n",
        "   479  |    0.011787  |  \u001b[32m  0.011270\u001b[0m  |     1.045823  |             |  4.2s"
       ]
      },
      {
       "output_type": "stream",
       "stream": "stdout",
       "text": [
        "\n",
        "   480  |    0.011777  |  \u001b[32m  0.011261\u001b[0m  |     1.045837  |             |  4.2s"
       ]
      },
      {
       "output_type": "stream",
       "stream": "stdout",
       "text": [
        "\n",
        "   481  |  \u001b[94m  0.011699\u001b[0m  |  \u001b[32m  0.011235\u001b[0m  |     1.041316  |             |  4.2s"
       ]
      },
      {
       "output_type": "stream",
       "stream": "stdout",
       "text": [
        "\n",
        "   482  |    0.011738  |    0.011253  |     1.043155  |             |  4.2s"
       ]
      },
      {
       "output_type": "stream",
       "stream": "stdout",
       "text": [
        "\n",
        "   483  |  \u001b[94m  0.011643\u001b[0m  |    0.011245  |     1.035394  |             |  4.2s"
       ]
      },
      {
       "output_type": "stream",
       "stream": "stdout",
       "text": [
        "\n",
        "   484  |    0.011718  |    0.011258  |     1.040855  |             |  4.2s"
       ]
      },
      {
       "output_type": "stream",
       "stream": "stdout",
       "text": [
        "\n",
        "   485  |    0.011646  |  \u001b[32m  0.011224\u001b[0m  |     1.037570  |             |  4.2s"
       ]
      },
      {
       "output_type": "stream",
       "stream": "stdout",
       "text": [
        "\n",
        "   486  |    0.011702  |    0.011225  |     1.042500  |             |  4.2s"
       ]
      },
      {
       "output_type": "stream",
       "stream": "stdout",
       "text": [
        "\n",
        "   487  |  \u001b[94m  0.011610\u001b[0m  |  \u001b[32m  0.011206\u001b[0m  |     1.036055  |             |  4.2s"
       ]
      },
      {
       "output_type": "stream",
       "stream": "stdout",
       "text": [
        "\n",
        "   488  |    0.011650  |    0.011219  |     1.038430  |             |  4.2s"
       ]
      },
      {
       "output_type": "stream",
       "stream": "stdout",
       "text": [
        "\n",
        "   489  |    0.011636  |  \u001b[32m  0.011194\u001b[0m  |     1.039507  |             |  4.2s"
       ]
      },
      {
       "output_type": "stream",
       "stream": "stdout",
       "text": [
        "\n",
        "   490  |    0.011624  |  \u001b[32m  0.011180\u001b[0m  |     1.039722  |             |  4.2s"
       ]
      },
      {
       "output_type": "stream",
       "stream": "stdout",
       "text": [
        "\n",
        "   491  |    0.011627  |    0.011215  |     1.036807  |             |  4.1s"
       ]
      },
      {
       "output_type": "stream",
       "stream": "stdout",
       "text": [
        "\n",
        "   492  |  \u001b[94m  0.011576\u001b[0m  |    0.011190  |     1.034533  |             |  4.2s"
       ]
      },
      {
       "output_type": "stream",
       "stream": "stdout",
       "text": [
        "\n",
        "   493  |    0.011607  |  \u001b[32m  0.011152\u001b[0m  |     1.040785  |             |  4.2s"
       ]
      },
      {
       "output_type": "stream",
       "stream": "stdout",
       "text": [
        "\n",
        "   494  |    0.011628  |    0.011170  |     1.041016  |             |  4.2s"
       ]
      },
      {
       "output_type": "stream",
       "stream": "stdout",
       "text": [
        "\n",
        "   495  |    0.011593  |    0.011167  |     1.038104  |             |  4.2s"
       ]
      },
      {
       "output_type": "stream",
       "stream": "stdout",
       "text": [
        "\n",
        "   496  |    0.011665  |  \u001b[32m  0.011148\u001b[0m  |     1.046375  |             |  4.2s"
       ]
      },
      {
       "output_type": "stream",
       "stream": "stdout",
       "text": [
        "\n",
        "   497  |  \u001b[94m  0.011546\u001b[0m  |  \u001b[32m  0.011117\u001b[0m  |     1.038615  |             |  4.2s"
       ]
      },
      {
       "output_type": "stream",
       "stream": "stdout",
       "text": [
        "\n",
        "   498  |  \u001b[94m  0.011538\u001b[0m  |    0.011126  |     1.037005  |             |  4.2s"
       ]
      },
      {
       "output_type": "stream",
       "stream": "stdout",
       "text": [
        "\n",
        "   499  |  \u001b[94m  0.011517\u001b[0m  |    0.011137  |     1.034118  |             |  4.2s"
       ]
      },
      {
       "output_type": "stream",
       "stream": "stdout",
       "text": [
        "\n",
        "   500  |    0.011519  |  \u001b[32m  0.011112\u001b[0m  |     1.036650  |             |  4.2s"
       ]
      },
      {
       "output_type": "stream",
       "stream": "stdout",
       "text": [
        "\n",
        "   501  |    0.011559  |  \u001b[32m  0.011107\u001b[0m  |     1.040715  |             |  4.2s"
       ]
      },
      {
       "output_type": "stream",
       "stream": "stdout",
       "text": [
        "\n",
        "   502  |  \u001b[94m  0.011503\u001b[0m  |    0.011133  |     1.033227  |             |  4.2s"
       ]
      },
      {
       "output_type": "stream",
       "stream": "stdout",
       "text": [
        "\n",
        "   503  |  \u001b[94m  0.011497\u001b[0m  |    0.011109  |     1.034946  |             |  4.2s"
       ]
      },
      {
       "output_type": "stream",
       "stream": "stdout",
       "text": [
        "\n",
        "   504  |  \u001b[94m  0.011438\u001b[0m  |  \u001b[32m  0.011069\u001b[0m  |     1.033334  |             |  4.2s"
       ]
      },
      {
       "output_type": "stream",
       "stream": "stdout",
       "text": [
        "\n",
        "   505  |    0.011454  |    0.011098  |     1.032112  |             |  4.2s"
       ]
      },
      {
       "output_type": "stream",
       "stream": "stdout",
       "text": [
        "\n",
        "   506  |  \u001b[94m  0.011428\u001b[0m  |    0.011082  |     1.031218  |             |  4.1s"
       ]
      },
      {
       "output_type": "stream",
       "stream": "stdout",
       "text": [
        "\n",
        "   507  |    0.011492  |    0.011078  |     1.037446  |             |  4.2s"
       ]
      },
      {
       "output_type": "stream",
       "stream": "stdout",
       "text": [
        "\n",
        "   508  |    0.011497  |  \u001b[32m  0.011059\u001b[0m  |     1.039610  |             |  4.2s"
       ]
      },
      {
       "output_type": "stream",
       "stream": "stdout",
       "text": [
        "\n",
        "   509  |  \u001b[94m  0.011414\u001b[0m  |  \u001b[32m  0.011046\u001b[0m  |     1.033341  |             |  4.1s"
       ]
      },
      {
       "output_type": "stream",
       "stream": "stdout",
       "text": [
        "\n",
        "   510  |    0.011457  |  \u001b[32m  0.011036\u001b[0m  |     1.038081  |             |  4.1s"
       ]
      },
      {
       "output_type": "stream",
       "stream": "stdout",
       "text": [
        "\n",
        "   511  |  \u001b[94m  0.011375\u001b[0m  |  \u001b[32m  0.011024\u001b[0m  |     1.031809  |             |  4.1s"
       ]
      },
      {
       "output_type": "stream",
       "stream": "stdout",
       "text": [
        "\n",
        "   512  |    0.011460  |    0.011038  |     1.038187  |             |  4.2s"
       ]
      },
      {
       "output_type": "stream",
       "stream": "stdout",
       "text": [
        "\n",
        "   513  |  \u001b[94m  0.011373\u001b[0m  |  \u001b[32m  0.011022\u001b[0m  |     1.031851  |             |  4.2s"
       ]
      },
      {
       "output_type": "stream",
       "stream": "stdout",
       "text": [
        "\n",
        "   514  |  \u001b[94m  0.011362\u001b[0m  |  \u001b[32m  0.011012\u001b[0m  |     1.031773  |             |  4.1s"
       ]
      },
      {
       "output_type": "stream",
       "stream": "stdout",
       "text": [
        "\n",
        "   515  |  \u001b[94m  0.011298\u001b[0m  |    0.011016  |     1.025560  |             |  4.2s"
       ]
      },
      {
       "output_type": "stream",
       "stream": "stdout",
       "text": [
        "\n",
        "   516  |    0.011309  |    0.011023  |     1.025926  |             |  4.2s"
       ]
      },
      {
       "output_type": "stream",
       "stream": "stdout",
       "text": [
        "\n",
        "   517  |    0.011418  |  \u001b[32m  0.010999\u001b[0m  |     1.038174  |             |  4.1s"
       ]
      },
      {
       "output_type": "stream",
       "stream": "stdout",
       "text": [
        "\n",
        "   518  |    0.011330  |    0.011029  |     1.027275  |             |  4.1s"
       ]
      },
      {
       "output_type": "stream",
       "stream": "stdout",
       "text": [
        "\n",
        "   519  |    0.011338  |    0.011003  |     1.030413  |             |  4.2s"
       ]
      },
      {
       "output_type": "stream",
       "stream": "stdout",
       "text": [
        "\n",
        "   520  |    0.011427  |  \u001b[32m  0.010987\u001b[0m  |     1.040109  |             |  4.1s"
       ]
      },
      {
       "output_type": "stream",
       "stream": "stdout",
       "text": [
        "\n",
        "   521  |  \u001b[94m  0.011216\u001b[0m  |    0.011009  |     1.018811  |             |  4.1s"
       ]
      },
      {
       "output_type": "stream",
       "stream": "stdout",
       "text": [
        "\n",
        "   522  |    0.011267  |  \u001b[32m  0.010982\u001b[0m  |     1.025889  |             |  4.1s"
       ]
      },
      {
       "output_type": "stream",
       "stream": "stdout",
       "text": [
        "\n",
        "   523  |    0.011298  |  \u001b[32m  0.010969\u001b[0m  |     1.029974  |             |  4.2s"
       ]
      },
      {
       "output_type": "stream",
       "stream": "stdout",
       "text": [
        "\n",
        "   524  |    0.011293  |  \u001b[32m  0.010969\u001b[0m  |     1.029584  |             |  4.2s"
       ]
      },
      {
       "output_type": "stream",
       "stream": "stdout",
       "text": [
        "\n",
        "   525  |    0.011233  |  \u001b[32m  0.010955\u001b[0m  |     1.025411  |             |  4.1s"
       ]
      },
      {
       "output_type": "stream",
       "stream": "stdout",
       "text": [
        "\n",
        "   526  |  \u001b[94m  0.011207\u001b[0m  |    0.010974  |     1.021167  |             |  4.2s"
       ]
      },
      {
       "output_type": "stream",
       "stream": "stdout",
       "text": [
        "\n",
        "   527  |    0.011220  |  \u001b[32m  0.010944\u001b[0m  |     1.025218  |             |  4.2s"
       ]
      },
      {
       "output_type": "stream",
       "stream": "stdout",
       "text": [
        "\n",
        "   528  |  \u001b[94m  0.011164\u001b[0m  |  \u001b[32m  0.010915\u001b[0m  |     1.022814  |             |  4.2s"
       ]
      },
      {
       "output_type": "stream",
       "stream": "stdout",
       "text": [
        "\n",
        "   529  |    0.011230  |  \u001b[32m  0.010903\u001b[0m  |     1.030038  |             |  4.2s"
       ]
      },
      {
       "output_type": "stream",
       "stream": "stdout",
       "text": [
        "\n",
        "   530  |    0.011178  |    0.010910  |     1.024543  |             |  4.2s"
       ]
      },
      {
       "output_type": "stream",
       "stream": "stdout",
       "text": [
        "\n",
        "   531  |    0.011234  |  \u001b[32m  0.010899\u001b[0m  |     1.030711  |             |  4.2s"
       ]
      },
      {
       "output_type": "stream",
       "stream": "stdout",
       "text": [
        "\n",
        "   532  |    0.011223  |    0.010910  |     1.028738  |             |  4.2s"
       ]
      },
      {
       "output_type": "stream",
       "stream": "stdout",
       "text": [
        "\n",
        "   533  |    0.011213  |  \u001b[32m  0.010897\u001b[0m  |     1.029047  |             |  4.2s"
       ]
      },
      {
       "output_type": "stream",
       "stream": "stdout",
       "text": [
        "\n",
        "   534  |  \u001b[94m  0.011146\u001b[0m  |  \u001b[32m  0.010884\u001b[0m  |     1.024031  |             |  4.2s"
       ]
      },
      {
       "output_type": "stream",
       "stream": "stdout",
       "text": [
        "\n",
        "   535  |  \u001b[94m  0.011145\u001b[0m  |    0.010891  |     1.023352  |             |  4.2s"
       ]
      },
      {
       "output_type": "stream",
       "stream": "stdout",
       "text": [
        "\n",
        "   536  |  \u001b[94m  0.011123\u001b[0m  |  \u001b[32m  0.010876\u001b[0m  |     1.022756  |             |  4.2s"
       ]
      },
      {
       "output_type": "stream",
       "stream": "stdout",
       "text": [
        "\n",
        "   537  |    0.011201  |  \u001b[32m  0.010875\u001b[0m  |     1.029985  |             |  4.2s"
       ]
      },
      {
       "output_type": "stream",
       "stream": "stdout",
       "text": [
        "\n",
        "   538  |  \u001b[94m  0.011123\u001b[0m  |  \u001b[32m  0.010857\u001b[0m  |     1.024480  |             |  4.2s"
       ]
      },
      {
       "output_type": "stream",
       "stream": "stdout",
       "text": [
        "\n",
        "   539  |    0.011128  |    0.010879  |     1.022845  |             |  4.2s"
       ]
      },
      {
       "output_type": "stream",
       "stream": "stdout",
       "text": [
        "\n",
        "   540  |    0.011146  |    0.010859  |     1.026435  |             |  4.2s"
       ]
      },
      {
       "output_type": "stream",
       "stream": "stdout",
       "text": [
        "\n",
        "   541  |  \u001b[94m  0.011119\u001b[0m  |  \u001b[32m  0.010855\u001b[0m  |     1.024319  |             |  4.2s"
       ]
      },
      {
       "output_type": "stream",
       "stream": "stdout",
       "text": [
        "\n",
        "   542  |  \u001b[94m  0.011060\u001b[0m  |  \u001b[32m  0.010854\u001b[0m  |     1.018963  |             |  4.2s"
       ]
      },
      {
       "output_type": "stream",
       "stream": "stdout",
       "text": [
        "\n",
        "   543  |    0.011065  |  \u001b[32m  0.010818\u001b[0m  |     1.022876  |             |  4.2s"
       ]
      },
      {
       "output_type": "stream",
       "stream": "stdout",
       "text": [
        "\n",
        "   544  |    0.011112  |  \u001b[32m  0.010805\u001b[0m  |     1.028452  |             |  4.2s"
       ]
      },
      {
       "output_type": "stream",
       "stream": "stdout",
       "text": [
        "\n",
        "   545  |  \u001b[94m  0.011017\u001b[0m  |    0.010840  |     1.016293  |             |  4.2s"
       ]
      },
      {
       "output_type": "stream",
       "stream": "stdout",
       "text": [
        "\n",
        "   546  |    0.011083  |    0.010806  |     1.025626  |             |  4.2s"
       ]
      },
      {
       "output_type": "stream",
       "stream": "stdout",
       "text": [
        "\n",
        "   547  |    0.011096  |    0.010814  |     1.026119  |             |  4.1s"
       ]
      },
      {
       "output_type": "stream",
       "stream": "stdout",
       "text": [
        "\n",
        "   548  |  \u001b[94m  0.011012\u001b[0m  |  \u001b[32m  0.010799\u001b[0m  |     1.019703  |             |  4.2s"
       ]
      },
      {
       "output_type": "stream",
       "stream": "stdout",
       "text": [
        "\n",
        "   549  |    0.011043  |  \u001b[32m  0.010782\u001b[0m  |     1.024170  |             |  4.2s"
       ]
      },
      {
       "output_type": "stream",
       "stream": "stdout",
       "text": [
        "\n",
        "   550  |    0.011071  |    0.010790  |     1.026049  |             |  4.2s"
       ]
      },
      {
       "output_type": "stream",
       "stream": "stdout",
       "text": [
        "\n",
        "   551  |  \u001b[94m  0.011002\u001b[0m  |    0.010823  |     1.016548  |             |  4.1s"
       ]
      },
      {
       "output_type": "stream",
       "stream": "stdout",
       "text": [
        "\n",
        "   552  |  \u001b[94m  0.010977\u001b[0m  |    0.010796  |     1.016744  |             |  4.2s"
       ]
      },
      {
       "output_type": "stream",
       "stream": "stdout",
       "text": [
        "\n",
        "   553  |  \u001b[94m  0.010883\u001b[0m  |  \u001b[32m  0.010758\u001b[0m  |     1.011595  |             |  4.1s"
       ]
      },
      {
       "output_type": "stream",
       "stream": "stdout",
       "text": [
        "\n",
        "   554  |    0.010997  |    0.010774  |     1.020710  |             |  4.1s"
       ]
      },
      {
       "output_type": "stream",
       "stream": "stdout",
       "text": [
        "\n",
        "   555  |    0.010965  |  \u001b[32m  0.010751\u001b[0m  |     1.019824  |             |  4.2s"
       ]
      },
      {
       "output_type": "stream",
       "stream": "stdout",
       "text": [
        "\n",
        "   556  |    0.010988  |  \u001b[32m  0.010744\u001b[0m  |     1.022732  |             |  4.1s"
       ]
      },
      {
       "output_type": "stream",
       "stream": "stdout",
       "text": [
        "\n",
        "   557  |    0.011013  |  \u001b[32m  0.010734\u001b[0m  |     1.025968  |             |  4.2s"
       ]
      },
      {
       "output_type": "stream",
       "stream": "stdout",
       "text": [
        "\n",
        "   558  |    0.010885  |    0.010742  |     1.013274  |             |  4.2s"
       ]
      },
      {
       "output_type": "stream",
       "stream": "stdout",
       "text": [
        "\n",
        "   559  |    0.010917  |    0.010742  |     1.016328  |             |  4.2s"
       ]
      },
      {
       "output_type": "stream",
       "stream": "stdout",
       "text": [
        "\n",
        "   560  |    0.010969  |  \u001b[32m  0.010718\u001b[0m  |     1.023382  |             |  4.2s"
       ]
      },
      {
       "output_type": "stream",
       "stream": "stdout",
       "text": [
        "\n",
        "   561  |    0.010895  |  \u001b[32m  0.010703\u001b[0m  |     1.017892  |             |  4.2s"
       ]
      },
      {
       "output_type": "stream",
       "stream": "stdout",
       "text": [
        "\n",
        "   562  |    0.010950  |  \u001b[32m  0.010698\u001b[0m  |     1.023545  |             |  4.2s"
       ]
      },
      {
       "output_type": "stream",
       "stream": "stdout",
       "text": [
        "\n",
        "   563  |    0.010933  |    0.010704  |     1.021374  |             |  4.1s"
       ]
      },
      {
       "output_type": "stream",
       "stream": "stdout",
       "text": [
        "\n",
        "   564  |    0.010891  |  \u001b[32m  0.010686\u001b[0m  |     1.019142  |             |  4.1s"
       ]
      },
      {
       "output_type": "stream",
       "stream": "stdout",
       "text": [
        "\n",
        "   565  |    0.010891  |    0.010706  |     1.017248  |             |  4.1s"
       ]
      },
      {
       "output_type": "stream",
       "stream": "stdout",
       "text": [
        "\n",
        "   566  |    0.010888  |    0.010691  |     1.018456  |             |  4.2s"
       ]
      },
      {
       "output_type": "stream",
       "stream": "stdout",
       "text": [
        "\n",
        "   567  |  \u001b[94m  0.010847\u001b[0m  |  \u001b[32m  0.010684\u001b[0m  |     1.015210  |             |  4.2s"
       ]
      },
      {
       "output_type": "stream",
       "stream": "stdout",
       "text": [
        "\n",
        "   568  |  \u001b[94m  0.010840\u001b[0m  |  \u001b[32m  0.010672\u001b[0m  |     1.015741  |             |  4.2s"
       ]
      },
      {
       "output_type": "stream",
       "stream": "stdout",
       "text": [
        "\n",
        "   569  |  \u001b[94m  0.010821\u001b[0m  |    0.010696  |     1.011712  |             |  4.2s"
       ]
      },
      {
       "output_type": "stream",
       "stream": "stdout",
       "text": [
        "\n",
        "   570  |    0.010875  |    0.010694  |     1.016922  |             |  4.2s"
       ]
      },
      {
       "output_type": "stream",
       "stream": "stdout",
       "text": [
        "\n",
        "   571  |    0.010850  |  \u001b[32m  0.010671\u001b[0m  |     1.016848  |             |  4.2s"
       ]
      },
      {
       "output_type": "stream",
       "stream": "stdout",
       "text": [
        "\n",
        "   572  |  \u001b[94m  0.010714\u001b[0m  |  \u001b[32m  0.010655\u001b[0m  |     1.005479  |             |  4.2s"
       ]
      },
      {
       "output_type": "stream",
       "stream": "stdout",
       "text": [
        "\n",
        "   573  |    0.010815  |  \u001b[32m  0.010629\u001b[0m  |     1.017486  |             |  4.1s"
       ]
      },
      {
       "output_type": "stream",
       "stream": "stdout",
       "text": [
        "\n",
        "   574  |    0.010848  |    0.010637  |     1.019829  |             |  4.2s"
       ]
      },
      {
       "output_type": "stream",
       "stream": "stdout",
       "text": [
        "\n",
        "   575  |  \u001b[94m  0.010679\u001b[0m  |  \u001b[32m  0.010628\u001b[0m  |     1.004809  |             |  4.2s"
       ]
      },
      {
       "output_type": "stream",
       "stream": "stdout",
       "text": [
        "\n",
        "   576  |    0.010769  |    0.010669  |     1.009415  |             |  4.2s"
       ]
      },
      {
       "output_type": "stream",
       "stream": "stdout",
       "text": [
        "\n",
        "   577  |    0.010704  |    0.010637  |     1.006234  |             |  4.2s"
       ]
      },
      {
       "output_type": "stream",
       "stream": "stdout",
       "text": [
        "\n",
        "   578  |    0.010776  |  \u001b[32m  0.010609\u001b[0m  |     1.015744  |             |  4.1s"
       ]
      },
      {
       "output_type": "stream",
       "stream": "stdout",
       "text": [
        "\n",
        "   579  |    0.010752  |    0.010622  |     1.012300  |             |  4.2s"
       ]
      },
      {
       "output_type": "stream",
       "stream": "stdout",
       "text": [
        "\n",
        "   580  |    0.010824  |    0.010634  |     1.017870  |             |  4.2s"
       ]
      },
      {
       "output_type": "stream",
       "stream": "stdout",
       "text": [
        "\n",
        "   581  |    0.010714  |    0.010612  |     1.009606  |             |  4.2s"
       ]
      },
      {
       "output_type": "stream",
       "stream": "stdout",
       "text": [
        "\n",
        "   582  |    0.010712  |  \u001b[32m  0.010608\u001b[0m  |     1.009788  |             |  4.2s"
       ]
      },
      {
       "output_type": "stream",
       "stream": "stdout",
       "text": [
        "\n",
        "   583  |    0.010707  |    0.010623  |     1.007900  |             |  4.1s"
       ]
      },
      {
       "output_type": "stream",
       "stream": "stdout",
       "text": [
        "\n",
        "   584  |    0.010710  |    0.010608  |     1.009562  |             |  4.2s"
       ]
      },
      {
       "output_type": "stream",
       "stream": "stdout",
       "text": [
        "\n",
        "   585  |    0.010711  |    0.010617  |     1.008797  |             |  4.1s"
       ]
      },
      {
       "output_type": "stream",
       "stream": "stdout",
       "text": [
        "\n",
        "   586  |    0.010691  |  \u001b[32m  0.010577\u001b[0m  |     1.010756  |             |  4.2s"
       ]
      },
      {
       "output_type": "stream",
       "stream": "stdout",
       "text": [
        "\n",
        "   587  |  \u001b[94m  0.010667\u001b[0m  |  \u001b[32m  0.010566\u001b[0m  |     1.009569  |             |  4.2s"
       ]
      },
      {
       "output_type": "stream",
       "stream": "stdout",
       "text": [
        "\n",
        "   588  |    0.010694  |    0.010575  |     1.011263  |             |  4.2s"
       ]
      },
      {
       "output_type": "stream",
       "stream": "stdout",
       "text": [
        "\n",
        "   589  |  \u001b[94m  0.010629\u001b[0m  |    0.010579  |     1.004758  |             |  4.1s"
       ]
      },
      {
       "output_type": "stream",
       "stream": "stdout",
       "text": [
        "\n",
        "   590  |  \u001b[94m  0.010602\u001b[0m  |  \u001b[32m  0.010537\u001b[0m  |     1.006182  |             |  4.2s"
       ]
      },
      {
       "output_type": "stream",
       "stream": "stdout",
       "text": [
        "\n",
        "   591  |  \u001b[94m  0.010577\u001b[0m  |    0.010563  |     1.001370  |             |  4.2s"
       ]
      },
      {
       "output_type": "stream",
       "stream": "stdout",
       "text": [
        "\n",
        "   592  |    0.010668  |    0.010542  |     1.011989  |             |  4.2s"
       ]
      },
      {
       "output_type": "stream",
       "stream": "stdout",
       "text": [
        "\n",
        "   593  |  \u001b[94m  0.010564\u001b[0m  |    0.010542  |     1.002120  |             |  4.2s"
       ]
      },
      {
       "output_type": "stream",
       "stream": "stdout",
       "text": [
        "\n",
        "   594  |    0.010604  |    0.010543  |     1.005812  |             |  4.2s"
       ]
      },
      {
       "output_type": "stream",
       "stream": "stdout",
       "text": [
        "\n",
        "   595  |    0.010585  |  \u001b[32m  0.010521\u001b[0m  |     1.006020  |             |  4.1s"
       ]
      },
      {
       "output_type": "stream",
       "stream": "stdout",
       "text": [
        "\n",
        "   596  |    0.010634  |    0.010522  |     1.010585  |             |  4.1s"
       ]
      },
      {
       "output_type": "stream",
       "stream": "stdout",
       "text": [
        "\n",
        "   597  |    0.010577  |  \u001b[32m  0.010520\u001b[0m  |     1.005413  |             |  4.2s"
       ]
      },
      {
       "output_type": "stream",
       "stream": "stdout",
       "text": [
        "\n",
        "   598  |  \u001b[94m  0.010516\u001b[0m  |  \u001b[32m  0.010516\u001b[0m  |     1.000060  |             |  4.2s"
       ]
      },
      {
       "output_type": "stream",
       "stream": "stdout",
       "text": [
        "\n",
        "   599  |  \u001b[94m  0.010515\u001b[0m  |    0.010522  |     0.999298  |             |  4.2s"
       ]
      },
      {
       "output_type": "stream",
       "stream": "stdout",
       "text": [
        "\n",
        "   600  |  \u001b[94m  0.010480\u001b[0m  |  \u001b[32m  0.010504\u001b[0m  |     0.997742  |             |  4.2s"
       ]
      },
      {
       "output_type": "stream",
       "stream": "stdout",
       "text": [
        "\n",
        "   601  |    0.010622  |  \u001b[32m  0.010504\u001b[0m  |     1.011313  |             |  4.2s"
       ]
      },
      {
       "output_type": "stream",
       "stream": "stdout",
       "text": [
        "\n",
        "   602  |    0.010555  |  \u001b[32m  0.010502\u001b[0m  |     1.005034  |             |  4.2s"
       ]
      },
      {
       "output_type": "stream",
       "stream": "stdout",
       "text": [
        "\n",
        "   603  |    0.010497  |  \u001b[32m  0.010498\u001b[0m  |     0.999844  |             |  4.2s"
       ]
      },
      {
       "output_type": "stream",
       "stream": "stdout",
       "text": [
        "\n",
        "   604  |    0.010565  |  \u001b[32m  0.010495\u001b[0m  |     1.006649  |             |  4.2s"
       ]
      },
      {
       "output_type": "stream",
       "stream": "stdout",
       "text": [
        "\n",
        "   605  |    0.010532  |  \u001b[32m  0.010474\u001b[0m  |     1.005572  |             |  4.1s"
       ]
      },
      {
       "output_type": "stream",
       "stream": "stdout",
       "text": [
        "\n",
        "   606  |  \u001b[94m  0.010426\u001b[0m  |  \u001b[32m  0.010451\u001b[0m  |     0.997641  |             |  4.2s"
       ]
      },
      {
       "output_type": "stream",
       "stream": "stdout",
       "text": [
        "\n",
        "   607  |    0.010455  |    0.010473  |     0.998236  |             |  4.2s"
       ]
      },
      {
       "output_type": "stream",
       "stream": "stdout",
       "text": [
        "\n",
        "   608  |    0.010528  |    0.010461  |     1.006332  |             |  4.2s"
       ]
      },
      {
       "output_type": "stream",
       "stream": "stdout",
       "text": [
        "\n",
        "   609  |    0.010448  |    0.010454  |     0.999340  |             |  4.1s"
       ]
      },
      {
       "output_type": "stream",
       "stream": "stdout",
       "text": [
        "\n",
        "   610  |    0.010498  |  \u001b[32m  0.010443\u001b[0m  |     1.005265  |             |  4.2s"
       ]
      },
      {
       "output_type": "stream",
       "stream": "stdout",
       "text": [
        "\n",
        "   611  |    0.010427  |  \u001b[32m  0.010435\u001b[0m  |     0.999252  |             |  4.2s"
       ]
      },
      {
       "output_type": "stream",
       "stream": "stdout",
       "text": [
        "\n",
        "   612  |    0.010440  |    0.010447  |     0.999379  |             |  4.1s"
       ]
      },
      {
       "output_type": "stream",
       "stream": "stdout",
       "text": [
        "\n",
        "   613  |  \u001b[94m  0.010419\u001b[0m  |  \u001b[32m  0.010432\u001b[0m  |     0.998835  |             |  4.2s"
       ]
      },
      {
       "output_type": "stream",
       "stream": "stdout",
       "text": [
        "\n",
        "   614  |    0.010451  |    0.010447  |     1.000404  |             |  4.2s"
       ]
      },
      {
       "output_type": "stream",
       "stream": "stdout",
       "text": [
        "\n",
        "   615  |  \u001b[94m  0.010358\u001b[0m  |  \u001b[32m  0.010428\u001b[0m  |     0.993305  |             |  4.2s"
       ]
      },
      {
       "output_type": "stream",
       "stream": "stdout",
       "text": [
        "\n",
        "   616  |  \u001b[94m  0.010356\u001b[0m  |  \u001b[32m  0.010405\u001b[0m  |     0.995313  |             |  4.2s"
       ]
      },
      {
       "output_type": "stream",
       "stream": "stdout",
       "text": [
        "\n",
        "   617  |    0.010443  |  \u001b[32m  0.010388\u001b[0m  |     1.005292  |             |  4.2s"
       ]
      },
      {
       "output_type": "stream",
       "stream": "stdout",
       "text": [
        "\n",
        "   618  |    0.010386  |    0.010414  |     0.997302  |             |  4.1s"
       ]
      },
      {
       "output_type": "stream",
       "stream": "stdout",
       "text": [
        "\n",
        "   619  |    0.010369  |    0.010393  |     0.997691  |             |  4.1s"
       ]
      },
      {
       "output_type": "stream",
       "stream": "stdout",
       "text": [
        "\n",
        "   620  |  \u001b[94m  0.010338\u001b[0m  |  \u001b[32m  0.010388\u001b[0m  |     0.995223  |             |  4.2s"
       ]
      },
      {
       "output_type": "stream",
       "stream": "stdout",
       "text": [
        "\n",
        "   621  |    0.010340  |    0.010412  |     0.993083  |             |  4.1s"
       ]
      },
      {
       "output_type": "stream",
       "stream": "stdout",
       "text": [
        "\n",
        "   622  |  \u001b[94m  0.010287\u001b[0m  |  \u001b[32m  0.010371\u001b[0m  |     0.991879  |             |  4.1s"
       ]
      },
      {
       "output_type": "stream",
       "stream": "stdout",
       "text": [
        "\n",
        "   623  |    0.010374  |  \u001b[32m  0.010357\u001b[0m  |     1.001627  |             |  4.2s"
       ]
      },
      {
       "output_type": "stream",
       "stream": "stdout",
       "text": [
        "\n",
        "   624  |    0.010312  |    0.010383  |     0.993143  |             |  4.2s"
       ]
      },
      {
       "output_type": "stream",
       "stream": "stdout",
       "text": [
        "\n",
        "   625  |    0.010298  |    0.010397  |     0.990511  |             |  4.1s"
       ]
      },
      {
       "output_type": "stream",
       "stream": "stdout",
       "text": [
        "\n",
        "   626  |    0.010316  |    0.010363  |     0.995486  |             |  4.2s"
       ]
      },
      {
       "output_type": "stream",
       "stream": "stdout",
       "text": [
        "\n",
        "   627  |  \u001b[94m  0.010268\u001b[0m  |    0.010366  |     0.990566  |             |  4.2s"
       ]
      },
      {
       "output_type": "stream",
       "stream": "stdout",
       "text": [
        "\n",
        "   628  |    0.010296  |  \u001b[32m  0.010353\u001b[0m  |     0.994464  |             |  4.2s"
       ]
      },
      {
       "output_type": "stream",
       "stream": "stdout",
       "text": [
        "\n",
        "   629  |  \u001b[94m  0.010209\u001b[0m  |    0.010371  |     0.984354  |             |  4.2s"
       ]
      },
      {
       "output_type": "stream",
       "stream": "stdout",
       "text": [
        "\n",
        "   630  |  \u001b[94m  0.010192\u001b[0m  |    0.010364  |     0.983444  |             |  4.2s"
       ]
      },
      {
       "output_type": "stream",
       "stream": "stdout",
       "text": [
        "\n",
        "   631  |    0.010291  |  \u001b[32m  0.010351\u001b[0m  |     0.994230  |             |  4.2s"
       ]
      },
      {
       "output_type": "stream",
       "stream": "stdout",
       "text": [
        "\n",
        "   632  |    0.010352  |  \u001b[32m  0.010316\u001b[0m  |     1.003473  |             |  4.1s"
       ]
      },
      {
       "output_type": "stream",
       "stream": "stdout",
       "text": [
        "\n",
        "   633  |  \u001b[94m  0.010156\u001b[0m  |  \u001b[32m  0.010312\u001b[0m  |     0.984894  |             |  4.1s"
       ]
      },
      {
       "output_type": "stream",
       "stream": "stdout",
       "text": [
        "\n",
        "   634  |    0.010232  |  \u001b[32m  0.010300\u001b[0m  |     0.993333  |             |  4.2s"
       ]
      },
      {
       "output_type": "stream",
       "stream": "stdout",
       "text": [
        "\n",
        "   635  |    0.010230  |  \u001b[32m  0.010300\u001b[0m  |     0.993273  |             |  4.2s"
       ]
      },
      {
       "output_type": "stream",
       "stream": "stdout",
       "text": [
        "\n",
        "   636  |    0.010221  |  \u001b[32m  0.010295\u001b[0m  |     0.992851  |             |  4.2s"
       ]
      },
      {
       "output_type": "stream",
       "stream": "stdout",
       "text": [
        "\n",
        "   637  |    0.010161  |    0.010304  |     0.986154  |             |  4.2s"
       ]
      },
      {
       "output_type": "stream",
       "stream": "stdout",
       "text": [
        "\n",
        "   638  |    0.010158  |  \u001b[32m  0.010292\u001b[0m  |     0.986912  |             |  4.2s"
       ]
      },
      {
       "output_type": "stream",
       "stream": "stdout",
       "text": [
        "\n",
        "   639  |    0.010225  |  \u001b[32m  0.010283\u001b[0m  |     0.994408  |             |  4.1s"
       ]
      },
      {
       "output_type": "stream",
       "stream": "stdout",
       "text": [
        "\n",
        "   640  |    0.010212  |    0.010295  |     0.991972  |             |  4.2s"
       ]
      },
      {
       "output_type": "stream",
       "stream": "stdout",
       "text": [
        "\n",
        "   641  |    0.010310  |  \u001b[32m  0.010283\u001b[0m  |     1.002692  |             |  4.2s"
       ]
      },
      {
       "output_type": "stream",
       "stream": "stdout",
       "text": [
        "\n",
        "   642  |    0.010245  |    0.010305  |     0.994165  |             |  4.2s"
       ]
      },
      {
       "output_type": "stream",
       "stream": "stdout",
       "text": [
        "\n",
        "   643  |  \u001b[94m  0.010136\u001b[0m  |  \u001b[32m  0.010273\u001b[0m  |     0.986668  |             |  4.2s"
       ]
      },
      {
       "output_type": "stream",
       "stream": "stdout",
       "text": [
        "\n",
        "   644  |  \u001b[94m  0.010127\u001b[0m  |    0.010282  |     0.984977  |             |  4.2s"
       ]
      },
      {
       "output_type": "stream",
       "stream": "stdout",
       "text": [
        "\n",
        "   645  |    0.010208  |  \u001b[32m  0.010265\u001b[0m  |     0.994388  |             |  4.2s"
       ]
      },
      {
       "output_type": "stream",
       "stream": "stdout",
       "text": [
        "\n",
        "   646  |    0.010135  |  \u001b[32m  0.010238\u001b[0m  |     0.989983  |             |  4.1s"
       ]
      },
      {
       "output_type": "stream",
       "stream": "stdout",
       "text": [
        "\n",
        "   647  |    0.010161  |    0.010270  |     0.989435  |             |  4.2s"
       ]
      },
      {
       "output_type": "stream",
       "stream": "stdout",
       "text": [
        "\n",
        "   648  |    0.010160  |  \u001b[32m  0.010228\u001b[0m  |     0.993363  |             |  4.2s"
       ]
      },
      {
       "output_type": "stream",
       "stream": "stdout",
       "text": [
        "\n",
        "   649  |  \u001b[94m  0.010100\u001b[0m  |    0.010232  |     0.987083  |             |  4.2s"
       ]
      },
      {
       "output_type": "stream",
       "stream": "stdout",
       "text": [
        "\n",
        "   650  |    0.010113  |    0.010237  |     0.987840  |             |  4.2s"
       ]
      },
      {
       "output_type": "stream",
       "stream": "stdout",
       "text": [
        "\n",
        "   651  |    0.010153  |  \u001b[32m  0.010223\u001b[0m  |     0.993104  |             |  4.2s"
       ]
      },
      {
       "output_type": "stream",
       "stream": "stdout",
       "text": [
        "\n",
        "   652  |    0.010187  |    0.010240  |     0.994807  |             |  4.2s"
       ]
      },
      {
       "output_type": "stream",
       "stream": "stdout",
       "text": [
        "\n",
        "   653  |  \u001b[94m  0.010038\u001b[0m  |  \u001b[32m  0.010220\u001b[0m  |     0.982280  |             |  4.2s"
       ]
      },
      {
       "output_type": "stream",
       "stream": "stdout",
       "text": [
        "\n",
        "   654  |  \u001b[94m  0.010032\u001b[0m  |    0.010222  |     0.981408  |             |  4.2s"
       ]
      },
      {
       "output_type": "stream",
       "stream": "stdout",
       "text": [
        "\n",
        "   655  |    0.010123  |  \u001b[32m  0.010188\u001b[0m  |     0.993646  |             |  4.2s"
       ]
      },
      {
       "output_type": "stream",
       "stream": "stdout",
       "text": [
        "\n",
        "   656  |    0.010065  |  \u001b[32m  0.010183\u001b[0m  |     0.988412  |             |  4.2s"
       ]
      },
      {
       "output_type": "stream",
       "stream": "stdout",
       "text": [
        "\n",
        "   657  |  \u001b[94m  0.010013\u001b[0m  |    0.010190  |     0.982555  |             |  4.2s"
       ]
      },
      {
       "output_type": "stream",
       "stream": "stdout",
       "text": [
        "\n",
        "   658  |    0.010047  |    0.010189  |     0.986099  |             |  4.2s"
       ]
      },
      {
       "output_type": "stream",
       "stream": "stdout",
       "text": [
        "\n",
        "   659  |  \u001b[94m  0.009995\u001b[0m  |  \u001b[32m  0.010178\u001b[0m  |     0.982022  |             |  4.2s"
       ]
      },
      {
       "output_type": "stream",
       "stream": "stdout",
       "text": [
        "\n",
        "   660  |    0.010020  |    0.010188  |     0.983492  |             |  4.2s"
       ]
      },
      {
       "output_type": "stream",
       "stream": "stdout",
       "text": [
        "\n",
        "   661  |    0.010018  |    0.010192  |     0.982897  |             |  4.2s"
       ]
      },
      {
       "output_type": "stream",
       "stream": "stdout",
       "text": [
        "\n",
        "   662  |  \u001b[94m  0.009975\u001b[0m  |  \u001b[32m  0.010154\u001b[0m  |     0.982373  |             |  4.2s"
       ]
      },
      {
       "output_type": "stream",
       "stream": "stdout",
       "text": [
        "\n",
        "   663  |    0.009975  |    0.010174  |     0.980465  |             |  4.2s"
       ]
      },
      {
       "output_type": "stream",
       "stream": "stdout",
       "text": [
        "\n",
        "   664  |  \u001b[94m  0.009969\u001b[0m  |    0.010154  |     0.981810  |             |  4.2s"
       ]
      },
      {
       "output_type": "stream",
       "stream": "stdout",
       "text": [
        "\n",
        "   665  |  \u001b[94m  0.009968\u001b[0m  |  \u001b[32m  0.010149\u001b[0m  |     0.982119  |             |  4.2s"
       ]
      },
      {
       "output_type": "stream",
       "stream": "stdout",
       "text": [
        "\n",
        "   666  |    0.009996  |    0.010170  |     0.982881  |             |  4.1s"
       ]
      },
      {
       "output_type": "stream",
       "stream": "stdout",
       "text": [
        "\n",
        "   667  |  \u001b[94m  0.009946\u001b[0m  |  \u001b[32m  0.010130\u001b[0m  |     0.981748  |             |  4.1s"
       ]
      },
      {
       "output_type": "stream",
       "stream": "stdout",
       "text": [
        "\n",
        "   668  |  \u001b[94m  0.009925\u001b[0m  |  \u001b[32m  0.010113\u001b[0m  |     0.981390  |             |  4.2s"
       ]
      },
      {
       "output_type": "stream",
       "stream": "stdout",
       "text": [
        "\n",
        "   669  |  \u001b[94m  0.009892\u001b[0m  |    0.010131  |     0.976394  |             |  4.2s"
       ]
      },
      {
       "output_type": "stream",
       "stream": "stdout",
       "text": [
        "\n",
        "   670  |    0.009909  |    0.010124  |     0.978763  |             |  4.2s"
       ]
      },
      {
       "output_type": "stream",
       "stream": "stdout",
       "text": [
        "\n",
        "   671  |  \u001b[94m  0.009887\u001b[0m  |    0.010124  |     0.976576  |             |  4.2s"
       ]
      },
      {
       "output_type": "stream",
       "stream": "stdout",
       "text": [
        "\n",
        "   672  |    0.009915  |    0.010135  |     0.978308  |             |  4.2s"
       ]
      },
      {
       "output_type": "stream",
       "stream": "stdout",
       "text": [
        "\n",
        "   673  |    0.009907  |  \u001b[32m  0.010108\u001b[0m  |     0.980114  |             |  4.2s"
       ]
      },
      {
       "output_type": "stream",
       "stream": "stdout",
       "text": [
        "\n",
        "   674  |    0.009892  |    0.010112  |     0.978245  |             |  4.2s"
       ]
      },
      {
       "output_type": "stream",
       "stream": "stdout",
       "text": [
        "\n",
        "   675  |  \u001b[94m  0.009800\u001b[0m  |  \u001b[32m  0.010090\u001b[0m  |     0.971249  |             |  4.1s"
       ]
      },
      {
       "output_type": "stream",
       "stream": "stdout",
       "text": [
        "\n",
        "   676  |    0.009854  |  \u001b[32m  0.010088\u001b[0m  |     0.976808  |             |  4.2s"
       ]
      },
      {
       "output_type": "stream",
       "stream": "stdout",
       "text": [
        "\n",
        "   677  |    0.009886  |  \u001b[32m  0.010079\u001b[0m  |     0.980827  |             |  4.1s"
       ]
      },
      {
       "output_type": "stream",
       "stream": "stdout",
       "text": [
        "\n",
        "   678  |    0.009885  |    0.010082  |     0.980456  |             |  4.2s"
       ]
      },
      {
       "output_type": "stream",
       "stream": "stdout",
       "text": [
        "\n",
        "   679  |    0.009857  |  \u001b[32m  0.010065\u001b[0m  |     0.979334  |             |  4.2s"
       ]
      },
      {
       "output_type": "stream",
       "stream": "stdout",
       "text": [
        "\n",
        "   680  |  \u001b[94m  0.009755\u001b[0m  |  \u001b[32m  0.010065\u001b[0m  |     0.969238  |             |  4.2s"
       ]
      },
      {
       "output_type": "stream",
       "stream": "stdout",
       "text": [
        "\n",
        "   681  |    0.009871  |    0.010072  |     0.979997  |             |  4.2s"
       ]
      },
      {
       "output_type": "stream",
       "stream": "stdout",
       "text": [
        "\n",
        "   682  |    0.009773  |    0.010073  |     0.970279  |             |  4.2s"
       ]
      },
      {
       "output_type": "stream",
       "stream": "stdout",
       "text": [
        "\n",
        "   683  |    0.009781  |    0.010076  |     0.970697  |             |  4.1s"
       ]
      },
      {
       "output_type": "stream",
       "stream": "stdout",
       "text": [
        "\n",
        "   684  |    0.009779  |  \u001b[32m  0.010062\u001b[0m  |     0.971886  |             |  4.2s"
       ]
      },
      {
       "output_type": "stream",
       "stream": "stdout",
       "text": [
        "\n",
        "   685  |  \u001b[94m  0.009731\u001b[0m  |  \u001b[32m  0.010051\u001b[0m  |     0.968148  |             |  4.2s"
       ]
      },
      {
       "output_type": "stream",
       "stream": "stdout",
       "text": [
        "\n",
        "   686  |    0.009771  |  \u001b[32m  0.010028\u001b[0m  |     0.974374  |             |  4.2s"
       ]
      },
      {
       "output_type": "stream",
       "stream": "stdout",
       "text": [
        "\n",
        "   687  |  \u001b[94m  0.009728\u001b[0m  |    0.010042  |     0.968744  |             |  4.2s"
       ]
      },
      {
       "output_type": "stream",
       "stream": "stdout",
       "text": [
        "\n",
        "   688  |  \u001b[94m  0.009701\u001b[0m  |    0.010043  |     0.965915  |             |  4.1s"
       ]
      },
      {
       "output_type": "stream",
       "stream": "stdout",
       "text": [
        "\n",
        "   689  |    0.009817  |    0.010030  |     0.978735  |             |  4.2s"
       ]
      },
      {
       "output_type": "stream",
       "stream": "stdout",
       "text": [
        "\n",
        "   690  |    0.009821  |  \u001b[32m  0.010013\u001b[0m  |     0.980851  |             |  4.2s"
       ]
      },
      {
       "output_type": "stream",
       "stream": "stdout",
       "text": [
        "\n",
        "   691  |  \u001b[94m  0.009692\u001b[0m  |  \u001b[32m  0.010003\u001b[0m  |     0.968875  |             |  4.2s"
       ]
      },
      {
       "output_type": "stream",
       "stream": "stdout",
       "text": [
        "\n",
        "   692  |    0.009743  |  \u001b[32m  0.009994\u001b[0m  |     0.974934  |             |  4.2s"
       ]
      },
      {
       "output_type": "stream",
       "stream": "stdout",
       "text": [
        "\n",
        "   693  |  \u001b[94m  0.009682\u001b[0m  |    0.010015  |     0.966832  |             |  4.2s"
       ]
      },
      {
       "output_type": "stream",
       "stream": "stdout",
       "text": [
        "\n",
        "   694  |  \u001b[94m  0.009658\u001b[0m  |  \u001b[32m  0.009989\u001b[0m  |     0.966848  |             |  4.2s"
       ]
      },
      {
       "output_type": "stream",
       "stream": "stdout",
       "text": [
        "\n",
        "   695  |    0.009675  |  \u001b[32m  0.009976\u001b[0m  |     0.969861  |             |  4.2s"
       ]
      },
      {
       "output_type": "stream",
       "stream": "stdout",
       "text": [
        "\n",
        "   696  |    0.009688  |    0.010007  |     0.968135  |             |  4.2s"
       ]
      },
      {
       "output_type": "stream",
       "stream": "stdout",
       "text": [
        "\n",
        "   697  |    0.009684  |    0.009994  |     0.968976  |             |  4.2s"
       ]
      },
      {
       "output_type": "stream",
       "stream": "stdout",
       "text": [
        "\n",
        "   698  |    0.009701  |    0.009986  |     0.971453  |             |  4.2s"
       ]
      },
      {
       "output_type": "stream",
       "stream": "stdout",
       "text": [
        "\n",
        "   699  |  \u001b[94m  0.009635\u001b[0m  |    0.009987  |     0.964722  |             |  4.2s"
       ]
      },
      {
       "output_type": "stream",
       "stream": "stdout",
       "text": [
        "\n",
        "   700  |    0.009652  |  \u001b[32m  0.009963\u001b[0m  |     0.968774  |             |  4.1s"
       ]
      },
      {
       "output_type": "stream",
       "stream": "stdout",
       "text": [
        "\n",
        "   701  |    0.009709  |  \u001b[32m  0.009957\u001b[0m  |     0.975027  |             |  4.2s"
       ]
      },
      {
       "output_type": "stream",
       "stream": "stdout",
       "text": [
        "\n",
        "   702  |    0.009761  |    0.009978  |     0.978310  |             |  4.2s"
       ]
      },
      {
       "output_type": "stream",
       "stream": "stdout",
       "text": [
        "\n",
        "   703  |  \u001b[94m  0.009521\u001b[0m  |  \u001b[32m  0.009956\u001b[0m  |     0.956268  |             |  4.1s"
       ]
      },
      {
       "output_type": "stream",
       "stream": "stdout",
       "text": [
        "\n",
        "   704  |    0.009590  |    0.009962  |     0.962670  |             |  4.1s"
       ]
      },
      {
       "output_type": "stream",
       "stream": "stdout",
       "text": [
        "\n",
        "   705  |    0.009581  |  \u001b[32m  0.009933\u001b[0m  |     0.964559  |             |  4.2s"
       ]
      },
      {
       "output_type": "stream",
       "stream": "stdout",
       "text": [
        "\n",
        "   706  |    0.009643  |    0.009949  |     0.969248  |             |  4.1s"
       ]
      },
      {
       "output_type": "stream",
       "stream": "stdout",
       "text": [
        "\n",
        "   707  |    0.009624  |    0.009941  |     0.968142  |             |  4.1s"
       ]
      },
      {
       "output_type": "stream",
       "stream": "stdout",
       "text": [
        "\n",
        "   708  |    0.009586  |    0.009940  |     0.964436  |             |  4.2s"
       ]
      },
      {
       "output_type": "stream",
       "stream": "stdout",
       "text": [
        "\n",
        "   709  |    0.009559  |    0.009951  |     0.960607  |             |  4.2s"
       ]
      },
      {
       "output_type": "stream",
       "stream": "stdout",
       "text": [
        "\n",
        "   710  |    0.009596  |    0.009939  |     0.965435  |             |  4.2s"
       ]
      },
      {
       "output_type": "stream",
       "stream": "stdout",
       "text": [
        "\n",
        "   711  |  \u001b[94m  0.009507\u001b[0m  |  \u001b[32m  0.009905\u001b[0m  |     0.959836  |             |  4.2s"
       ]
      },
      {
       "output_type": "stream",
       "stream": "stdout",
       "text": [
        "\n",
        "   712  |    0.009550  |    0.009922  |     0.962474  |             |  4.2s"
       ]
      },
      {
       "output_type": "stream",
       "stream": "stdout",
       "text": [
        "\n",
        "   713  |    0.009530  |    0.009926  |     0.960093  |             |  4.2s"
       ]
      },
      {
       "output_type": "stream",
       "stream": "stdout",
       "text": [
        "\n",
        "   714  |  \u001b[94m  0.009499\u001b[0m  |    0.009933  |     0.956258  |             |  4.2s"
       ]
      },
      {
       "output_type": "stream",
       "stream": "stdout",
       "text": [
        "\n",
        "   715  |    0.009530  |  \u001b[32m  0.009888\u001b[0m  |     0.963715  |             |  4.2s"
       ]
      },
      {
       "output_type": "stream",
       "stream": "stdout",
       "text": [
        "\n",
        "   716  |    0.009569  |  \u001b[32m  0.009881\u001b[0m  |     0.968425  |             |  4.2s"
       ]
      },
      {
       "output_type": "stream",
       "stream": "stdout",
       "text": [
        "\n",
        "   717  |    0.009602  |    0.009902  |     0.969631  |             |  4.2s"
       ]
      },
      {
       "output_type": "stream",
       "stream": "stdout",
       "text": [
        "\n",
        "   718  |  \u001b[94m  0.009465\u001b[0m  |    0.009889  |     0.957155  |             |  4.2s"
       ]
      },
      {
       "output_type": "stream",
       "stream": "stdout",
       "text": [
        "\n",
        "   719  |    0.009491  |  \u001b[32m  0.009871\u001b[0m  |     0.961553  |             |  4.2s"
       ]
      },
      {
       "output_type": "stream",
       "stream": "stdout",
       "text": [
        "\n",
        "   720  |  \u001b[94m  0.009439\u001b[0m  |    0.009875  |     0.955861  |             |  4.2s"
       ]
      },
      {
       "output_type": "stream",
       "stream": "stdout",
       "text": [
        "\n",
        "   721  |    0.009488  |  \u001b[32m  0.009864\u001b[0m  |     0.961867  |             |  4.2s"
       ]
      },
      {
       "output_type": "stream",
       "stream": "stdout",
       "text": [
        "\n",
        "   722  |    0.009460  |    0.009875  |     0.958023  |             |  4.2s"
       ]
      },
      {
       "output_type": "stream",
       "stream": "stdout",
       "text": [
        "\n",
        "   723  |  \u001b[94m  0.009393\u001b[0m  |  \u001b[32m  0.009858\u001b[0m  |     0.952816  |             |  4.2s"
       ]
      },
      {
       "output_type": "stream",
       "stream": "stdout",
       "text": [
        "\n",
        "   724  |    0.009434  |  \u001b[32m  0.009852\u001b[0m  |     0.957619  |             |  4.2s"
       ]
      },
      {
       "output_type": "stream",
       "stream": "stdout",
       "text": [
        "\n",
        "   725  |    0.009460  |    0.009869  |     0.958597  |             |  4.2s"
       ]
      },
      {
       "output_type": "stream",
       "stream": "stdout",
       "text": [
        "\n",
        "   726  |    0.009454  |  \u001b[32m  0.009837\u001b[0m  |     0.961098  |             |  4.2s"
       ]
      },
      {
       "output_type": "stream",
       "stream": "stdout",
       "text": [
        "\n",
        "   727  |    0.009411  |    0.009864  |     0.954068  |             |  4.2s"
       ]
      },
      {
       "output_type": "stream",
       "stream": "stdout",
       "text": [
        "\n",
        "   728  |  \u001b[94m  0.009387\u001b[0m  |    0.009849  |     0.953005  |             |  4.2s"
       ]
      },
      {
       "output_type": "stream",
       "stream": "stdout",
       "text": [
        "\n",
        "   729  |    0.009395  |    0.009853  |     0.953549  |             |  4.2s"
       ]
      },
      {
       "output_type": "stream",
       "stream": "stdout",
       "text": [
        "\n",
        "   730  |  \u001b[94m  0.009385\u001b[0m  |  \u001b[32m  0.009822\u001b[0m  |     0.955554  |             |  4.2s"
       ]
      },
      {
       "output_type": "stream",
       "stream": "stdout",
       "text": [
        "\n",
        "   731  |    0.009399  |    0.009844  |     0.954748  |             |  4.2s"
       ]
      },
      {
       "output_type": "stream",
       "stream": "stdout",
       "text": [
        "\n",
        "   732  |  \u001b[94m  0.009318\u001b[0m  |    0.009823  |     0.948657  |             |  4.2s"
       ]
      },
      {
       "output_type": "stream",
       "stream": "stdout",
       "text": [
        "\n",
        "   733  |    0.009345  |  \u001b[32m  0.009818\u001b[0m  |     0.951897  |             |  4.2s"
       ]
      },
      {
       "output_type": "stream",
       "stream": "stdout",
       "text": [
        "\n",
        "   734  |  \u001b[94m  0.009303\u001b[0m  |    0.009826  |     0.946798  |             |  4.1s"
       ]
      },
      {
       "output_type": "stream",
       "stream": "stdout",
       "text": [
        "\n",
        "   735  |    0.009406  |    0.009825  |     0.957392  |             |  4.2s"
       ]
      },
      {
       "output_type": "stream",
       "stream": "stdout",
       "text": [
        "\n",
        "   736  |    0.009328  |  \u001b[32m  0.009801\u001b[0m  |     0.951752  |             |  4.2s"
       ]
      },
      {
       "output_type": "stream",
       "stream": "stdout",
       "text": [
        "\n",
        "   737  |  \u001b[94m  0.009288\u001b[0m  |    0.009810  |     0.946742  |             |  4.2s"
       ]
      },
      {
       "output_type": "stream",
       "stream": "stdout",
       "text": [
        "\n",
        "   738  |    0.009296  |  \u001b[32m  0.009799\u001b[0m  |     0.948676  |             |  4.2s"
       ]
      },
      {
       "output_type": "stream",
       "stream": "stdout",
       "text": [
        "\n",
        "   739  |    0.009312  |  \u001b[32m  0.009789\u001b[0m  |     0.951240  |             |  4.1s"
       ]
      },
      {
       "output_type": "stream",
       "stream": "stdout",
       "text": [
        "\n",
        "   740  |    0.009356  |  \u001b[32m  0.009779\u001b[0m  |     0.956744  |             |  4.1s"
       ]
      },
      {
       "output_type": "stream",
       "stream": "stdout",
       "text": [
        "\n",
        "   741  |    0.009354  |  \u001b[32m  0.009775\u001b[0m  |     0.956921  |             |  4.1s"
       ]
      },
      {
       "output_type": "stream",
       "stream": "stdout",
       "text": [
        "\n",
        "   742  |  \u001b[94m  0.009248\u001b[0m  |    0.009793  |     0.944366  |             |  4.1s"
       ]
      },
      {
       "output_type": "stream",
       "stream": "stdout",
       "text": [
        "\n",
        "   743  |    0.009283  |  \u001b[32m  0.009760\u001b[0m  |     0.951168  |             |  4.2s"
       ]
      },
      {
       "output_type": "stream",
       "stream": "stdout",
       "text": [
        "\n",
        "   744  |    0.009335  |    0.009764  |     0.956018  |             |  4.2s"
       ]
      },
      {
       "output_type": "stream",
       "stream": "stdout",
       "text": [
        "\n",
        "   745  |    0.009322  |    0.009799  |     0.951320  |             |  4.2s"
       ]
      },
      {
       "output_type": "stream",
       "stream": "stdout",
       "text": [
        "\n",
        "   746  |    0.009300  |    0.009786  |     0.950319  |             |  4.2s"
       ]
      },
      {
       "output_type": "stream",
       "stream": "stdout",
       "text": [
        "\n",
        "   747  |    0.009289  |    0.009776  |     0.950183  |             |  4.2s"
       ]
      },
      {
       "output_type": "stream",
       "stream": "stdout",
       "text": [
        "\n",
        "   748  |  \u001b[94m  0.009230\u001b[0m  |  \u001b[32m  0.009753\u001b[0m  |     0.946314  |             |  4.2s"
       ]
      },
      {
       "output_type": "stream",
       "stream": "stdout",
       "text": [
        "\n",
        "   749  |  \u001b[94m  0.009222\u001b[0m  |  \u001b[32m  0.009746\u001b[0m  |     0.946202  |             |  4.2s"
       ]
      },
      {
       "output_type": "stream",
       "stream": "stdout",
       "text": [
        "\n",
        "   750  |    0.009246  |    0.009750  |     0.948397  |             |  4.2s"
       ]
      },
      {
       "output_type": "stream",
       "stream": "stdout",
       "text": [
        "\n",
        "   751  |  \u001b[94m  0.009145\u001b[0m  |  \u001b[32m  0.009726\u001b[0m  |     0.940304  |             |  4.2s"
       ]
      },
      {
       "output_type": "stream",
       "stream": "stdout",
       "text": [
        "\n",
        "   752  |    0.009281  |    0.009755  |     0.951493  |             |  4.2s"
       ]
      },
      {
       "output_type": "stream",
       "stream": "stdout",
       "text": [
        "\n",
        "   753  |    0.009237  |  \u001b[32m  0.009724\u001b[0m  |     0.949913  |             |  4.1s"
       ]
      },
      {
       "output_type": "stream",
       "stream": "stdout",
       "text": [
        "\n",
        "   754  |    0.009241  |    0.009743  |     0.948463  |             |  4.2s"
       ]
      },
      {
       "output_type": "stream",
       "stream": "stdout",
       "text": [
        "\n",
        "   755  |  \u001b[94m  0.009131\u001b[0m  |  \u001b[32m  0.009702\u001b[0m  |     0.941091  |             |  4.2s"
       ]
      },
      {
       "output_type": "stream",
       "stream": "stdout",
       "text": [
        "\n",
        "   756  |  \u001b[94m  0.009101\u001b[0m  |    0.009728  |     0.935603  |             |  4.2s"
       ]
      },
      {
       "output_type": "stream",
       "stream": "stdout",
       "text": [
        "\n",
        "   757  |    0.009162  |    0.009725  |     0.942119  |             |  4.2s"
       ]
      },
      {
       "output_type": "stream",
       "stream": "stdout",
       "text": [
        "\n",
        "   758  |    0.009227  |  \u001b[32m  0.009700\u001b[0m  |     0.951203  |             |  4.2s"
       ]
      },
      {
       "output_type": "stream",
       "stream": "stdout",
       "text": [
        "\n",
        "   759  |    0.009125  |  \u001b[32m  0.009697\u001b[0m  |     0.941010  |             |  4.2s"
       ]
      },
      {
       "output_type": "stream",
       "stream": "stdout",
       "text": [
        "\n",
        "   760  |    0.009155  |  \u001b[32m  0.009689\u001b[0m  |     0.944911  |             |  4.2s"
       ]
      },
      {
       "output_type": "stream",
       "stream": "stdout",
       "text": [
        "\n",
        "   761  |    0.009127  |  \u001b[32m  0.009688\u001b[0m  |     0.942101  |             |  4.2s"
       ]
      },
      {
       "output_type": "stream",
       "stream": "stdout",
       "text": [
        "\n",
        "   762  |  \u001b[94m  0.009055\u001b[0m  |    0.009692  |     0.934268  |             |  4.2s"
       ]
      },
      {
       "output_type": "stream",
       "stream": "stdout",
       "text": [
        "\n",
        "   763  |    0.009179  |    0.009692  |     0.947056  |             |  4.2s"
       ]
      },
      {
       "output_type": "stream",
       "stream": "stdout",
       "text": [
        "\n",
        "   764  |    0.009150  |  \u001b[32m  0.009663\u001b[0m  |     0.946908  |             |  4.2s"
       ]
      },
      {
       "output_type": "stream",
       "stream": "stdout",
       "text": [
        "\n",
        "   765  |    0.009162  |    0.009664  |     0.948124  |             |  4.2s"
       ]
      },
      {
       "output_type": "stream",
       "stream": "stdout",
       "text": [
        "\n",
        "   766  |    0.009076  |  \u001b[32m  0.009663\u001b[0m  |     0.939296  |             |  4.2s"
       ]
      },
      {
       "output_type": "stream",
       "stream": "stdout",
       "text": [
        "\n",
        "   767  |    0.009099  |  \u001b[32m  0.009659\u001b[0m  |     0.942029  |             |  4.2s"
       ]
      },
      {
       "output_type": "stream",
       "stream": "stdout",
       "text": [
        "\n",
        "   768  |    0.009131  |    0.009667  |     0.944542  |             |  4.2s"
       ]
      },
      {
       "output_type": "stream",
       "stream": "stdout",
       "text": [
        "\n",
        "   769  |    0.009184  |    0.009673  |     0.949516  |             |  4.2s"
       ]
      },
      {
       "output_type": "stream",
       "stream": "stdout",
       "text": [
        "\n",
        "   770  |    0.009072  |    0.009661  |     0.938995  |             |  4.2s"
       ]
      },
      {
       "output_type": "stream",
       "stream": "stdout",
       "text": [
        "\n",
        "   771  |    0.009063  |  \u001b[32m  0.009645\u001b[0m  |     0.939681  |             |  4.2s"
       ]
      },
      {
       "output_type": "stream",
       "stream": "stdout",
       "text": [
        "\n",
        "   772  |    0.009089  |    0.009660  |     0.940906  |             |  4.2s"
       ]
      },
      {
       "output_type": "stream",
       "stream": "stdout",
       "text": [
        "\n",
        "   773  |  \u001b[94m  0.009028\u001b[0m  |  \u001b[32m  0.009605\u001b[0m  |     0.939922  |             |  4.2s"
       ]
      },
      {
       "output_type": "stream",
       "stream": "stdout",
       "text": [
        "\n",
        "   774  |    0.009038  |    0.009635  |     0.938002  |             |  4.2s"
       ]
      },
      {
       "output_type": "stream",
       "stream": "stdout",
       "text": [
        "\n",
        "   775  |    0.009037  |    0.009644  |     0.936991  |             |  4.2s"
       ]
      },
      {
       "output_type": "stream",
       "stream": "stdout",
       "text": [
        "\n",
        "   776  |  \u001b[94m  0.008991\u001b[0m  |    0.009633  |     0.933377  |             |  4.2s"
       ]
      },
      {
       "output_type": "stream",
       "stream": "stdout",
       "text": [
        "\n",
        "   777  |    0.008995  |    0.009627  |     0.934364  |             |  4.2s"
       ]
      },
      {
       "output_type": "stream",
       "stream": "stdout",
       "text": [
        "\n",
        "   778  |    0.009030  |  \u001b[32m  0.009597\u001b[0m  |     0.940994  |             |  4.2s"
       ]
      },
      {
       "output_type": "stream",
       "stream": "stdout",
       "text": [
        "\n",
        "   779  |    0.009090  |    0.009628  |     0.944159  |             |  4.2s"
       ]
      },
      {
       "output_type": "stream",
       "stream": "stdout",
       "text": [
        "\n",
        "   780  |  \u001b[94m  0.008971\u001b[0m  |    0.009615  |     0.933054  |             |  4.2s"
       ]
      },
      {
       "output_type": "stream",
       "stream": "stdout",
       "text": [
        "\n",
        "   781  |  \u001b[94m  0.008970\u001b[0m  |    0.009602  |     0.934107  |             |  4.2s"
       ]
      },
      {
       "output_type": "stream",
       "stream": "stdout",
       "text": [
        "\n",
        "   782  |  \u001b[94m  0.008966\u001b[0m  |  \u001b[32m  0.009596\u001b[0m  |     0.934380  |             |  4.2s"
       ]
      },
      {
       "output_type": "stream",
       "stream": "stdout",
       "text": [
        "\n",
        "   783  |    0.008968  |  \u001b[32m  0.009551\u001b[0m  |     0.938997  |             |  4.2s"
       ]
      },
      {
       "output_type": "stream",
       "stream": "stdout",
       "text": [
        "\n",
        "   784  |  \u001b[94m  0.008914\u001b[0m  |    0.009584  |     0.930085  |             |  4.2s"
       ]
      },
      {
       "output_type": "stream",
       "stream": "stdout",
       "text": [
        "\n",
        "   785  |    0.008967  |    0.009592  |     0.934866  |             |  4.2s"
       ]
      },
      {
       "output_type": "stream",
       "stream": "stdout",
       "text": [
        "\n",
        "   786  |  \u001b[94m  0.008874\u001b[0m  |    0.009589  |     0.925411  |             |  4.2s"
       ]
      },
      {
       "output_type": "stream",
       "stream": "stdout",
       "text": [
        "\n",
        "   787  |    0.008884  |  \u001b[32m  0.009532\u001b[0m  |     0.931930  |             |  4.2s"
       ]
      },
      {
       "output_type": "stream",
       "stream": "stdout",
       "text": [
        "\n",
        "   788  |    0.008920  |    0.009577  |     0.931353  |             |  4.2s"
       ]
      },
      {
       "output_type": "stream",
       "stream": "stdout",
       "text": [
        "\n",
        "   789  |    0.008879  |    0.009548  |     0.930014  |             |  4.1s"
       ]
      },
      {
       "output_type": "stream",
       "stream": "stdout",
       "text": [
        "\n",
        "   790  |  \u001b[94m  0.008825\u001b[0m  |    0.009534  |     0.925573  |             |  4.1s"
       ]
      },
      {
       "output_type": "stream",
       "stream": "stdout",
       "text": [
        "\n",
        "   791  |    0.008883  |    0.009550  |     0.930121  |             |  4.2s"
       ]
      },
      {
       "output_type": "stream",
       "stream": "stdout",
       "text": [
        "\n",
        "   792  |    0.008877  |  \u001b[32m  0.009525\u001b[0m  |     0.931956  |             |  4.2s"
       ]
      },
      {
       "output_type": "stream",
       "stream": "stdout",
       "text": [
        "\n",
        "   793  |    0.008851  |    0.009541  |     0.927662  |             |  4.2s"
       ]
      },
      {
       "output_type": "stream",
       "stream": "stdout",
       "text": [
        "\n",
        "   794  |    0.008902  |    0.009536  |     0.933562  |             |  4.2s"
       ]
      },
      {
       "output_type": "stream",
       "stream": "stdout",
       "text": [
        "\n",
        "   795  |    0.008827  |    0.009547  |     0.924603  |             |  4.2s"
       ]
      },
      {
       "output_type": "stream",
       "stream": "stdout",
       "text": [
        "\n",
        "   796  |    0.008887  |  \u001b[32m  0.009521\u001b[0m  |     0.933453  |             |  4.2s"
       ]
      },
      {
       "output_type": "stream",
       "stream": "stdout",
       "text": [
        "\n",
        "   797  |  \u001b[94m  0.008816\u001b[0m  |  \u001b[32m  0.009515\u001b[0m  |     0.926445  |             |  4.2s"
       ]
      },
      {
       "output_type": "stream",
       "stream": "stdout",
       "text": [
        "\n",
        "   798  |    0.008830  |  \u001b[32m  0.009490\u001b[0m  |     0.930435  |             |  4.2s"
       ]
      },
      {
       "output_type": "stream",
       "stream": "stdout",
       "text": [
        "\n",
        "   799  |  \u001b[94m  0.008800\u001b[0m  |    0.009517  |     0.924622  |             |  4.2s"
       ]
      },
      {
       "output_type": "stream",
       "stream": "stdout",
       "text": [
        "\n",
        "   800  |    0.008805  |    0.009503  |     0.926572  |             |  4.2s"
       ]
      },
      {
       "output_type": "stream",
       "stream": "stdout",
       "text": [
        "\n",
        "   801  |    0.008825  |    0.009499  |     0.929094  |             |  4.2s"
       ]
      },
      {
       "output_type": "stream",
       "stream": "stdout",
       "text": [
        "\n",
        "   802  |  \u001b[94m  0.008798\u001b[0m  |    0.009503  |     0.925838  |             |  4.2s"
       ]
      },
      {
       "output_type": "stream",
       "stream": "stdout",
       "text": [
        "\n",
        "   803  |  \u001b[94m  0.008747\u001b[0m  |    0.009496  |     0.921099  |             |  4.2s"
       ]
      },
      {
       "output_type": "stream",
       "stream": "stdout",
       "text": [
        "\n",
        "   804  |    0.008785  |  \u001b[32m  0.009485\u001b[0m  |     0.926211  |             |  4.2s"
       ]
      },
      {
       "output_type": "stream",
       "stream": "stdout",
       "text": [
        "\n",
        "   805  |    0.008766  |    0.009492  |     0.923562  |             |  4.2s"
       ]
      },
      {
       "output_type": "stream",
       "stream": "stdout",
       "text": [
        "\n",
        "   806  |    0.008790  |    0.009488  |     0.926485  |             |  4.2s"
       ]
      },
      {
       "output_type": "stream",
       "stream": "stdout",
       "text": [
        "\n",
        "   807  |    0.008802  |  \u001b[32m  0.009480\u001b[0m  |     0.928480  |             |  4.1s"
       ]
      },
      {
       "output_type": "stream",
       "stream": "stdout",
       "text": [
        "\n",
        "   808  |    0.008781  |  \u001b[32m  0.009468\u001b[0m  |     0.927493  |             |  4.2s"
       ]
      },
      {
       "output_type": "stream",
       "stream": "stdout",
       "text": [
        "\n",
        "   809  |  \u001b[94m  0.008682\u001b[0m  |    0.009470  |     0.916710  |             |  4.1s"
       ]
      },
      {
       "output_type": "stream",
       "stream": "stdout",
       "text": [
        "\n",
        "   810  |    0.008766  |  \u001b[32m  0.009462\u001b[0m  |     0.926444  |             |  4.1s"
       ]
      },
      {
       "output_type": "stream",
       "stream": "stdout",
       "text": [
        "\n",
        "   811  |    0.008683  |    0.009462  |     0.917678  |             |  4.2s"
       ]
      },
      {
       "output_type": "stream",
       "stream": "stdout",
       "text": [
        "\n",
        "   812  |    0.008711  |  \u001b[32m  0.009455\u001b[0m  |     0.921405  |             |  4.2s"
       ]
      },
      {
       "output_type": "stream",
       "stream": "stdout",
       "text": [
        "\n",
        "   813  |  \u001b[94m  0.008676\u001b[0m  |  \u001b[32m  0.009447\u001b[0m  |     0.918401  |             |  4.1s"
       ]
      },
      {
       "output_type": "stream",
       "stream": "stdout",
       "text": [
        "\n",
        "   814  |  \u001b[94m  0.008671\u001b[0m  |    0.009458  |     0.916778  |             |  4.2s"
       ]
      },
      {
       "output_type": "stream",
       "stream": "stdout",
       "text": [
        "\n",
        "   815  |  \u001b[94m  0.008633\u001b[0m  |  \u001b[32m  0.009439\u001b[0m  |     0.914584  |             |  4.2s"
       ]
      },
      {
       "output_type": "stream",
       "stream": "stdout",
       "text": [
        "\n",
        "   816  |  \u001b[94m  0.008598\u001b[0m  |  \u001b[32m  0.009410\u001b[0m  |     0.913735  |             |  4.2s"
       ]
      },
      {
       "output_type": "stream",
       "stream": "stdout",
       "text": [
        "\n",
        "   817  |    0.008643  |    0.009416  |     0.917892  |             |  4.2s"
       ]
      },
      {
       "output_type": "stream",
       "stream": "stdout",
       "text": [
        "\n",
        "   818  |    0.008651  |    0.009430  |     0.917389  |             |  4.2s"
       ]
      },
      {
       "output_type": "stream",
       "stream": "stdout",
       "text": [
        "\n",
        "   819  |    0.008669  |    0.009410  |     0.921236  |             |  4.1s"
       ]
      },
      {
       "output_type": "stream",
       "stream": "stdout",
       "text": [
        "\n",
        "   820  |    0.008619  |    0.009428  |     0.914180  |             |  4.2s"
       ]
      },
      {
       "output_type": "stream",
       "stream": "stdout",
       "text": [
        "\n",
        "   821  |    0.008685  |    0.009429  |     0.921080  |             |  4.2s"
       ]
      },
      {
       "output_type": "stream",
       "stream": "stdout",
       "text": [
        "\n",
        "   822  |    0.008676  |    0.009420  |     0.920997  |             |  4.2s"
       ]
      },
      {
       "output_type": "stream",
       "stream": "stdout",
       "text": [
        "\n",
        "   823  |    0.008694  |  \u001b[32m  0.009402\u001b[0m  |     0.924648  |             |  4.2s"
       ]
      },
      {
       "output_type": "stream",
       "stream": "stdout",
       "text": [
        "\n",
        "   824  |    0.008652  |    0.009406  |     0.919800  |             |  4.2s"
       ]
      },
      {
       "output_type": "stream",
       "stream": "stdout",
       "text": [
        "\n",
        "   825  |    0.008646  |    0.009412  |     0.918625  |             |  4.2s"
       ]
      },
      {
       "output_type": "stream",
       "stream": "stdout",
       "text": [
        "\n",
        "   826  |    0.008649  |  \u001b[32m  0.009384\u001b[0m  |     0.921678  |             |  4.2s"
       ]
      },
      {
       "output_type": "stream",
       "stream": "stdout",
       "text": [
        "\n",
        "   827  |  \u001b[94m  0.008557\u001b[0m  |    0.009423  |     0.908034  |             |  4.2s"
       ]
      },
      {
       "output_type": "stream",
       "stream": "stdout",
       "text": [
        "\n",
        "   828  |  \u001b[94m  0.008555\u001b[0m  |    0.009398  |     0.910341  |             |  4.2s"
       ]
      },
      {
       "output_type": "stream",
       "stream": "stdout",
       "text": [
        "\n",
        "   829  |    0.008567  |    0.009388  |     0.912501  |             |  4.2s"
       ]
      },
      {
       "output_type": "stream",
       "stream": "stdout",
       "text": [
        "\n",
        "   830  |    0.008636  |  \u001b[32m  0.009376\u001b[0m  |     0.921058  |             |  4.1s"
       ]
      },
      {
       "output_type": "stream",
       "stream": "stdout",
       "text": [
        "\n",
        "   831  |    0.008605  |    0.009384  |     0.917058  |             |  4.2s"
       ]
      },
      {
       "output_type": "stream",
       "stream": "stdout",
       "text": [
        "\n",
        "   832  |  \u001b[94m  0.008504\u001b[0m  |  \u001b[32m  0.009367\u001b[0m  |     0.907889  |             |  4.2s"
       ]
      },
      {
       "output_type": "stream",
       "stream": "stdout",
       "text": [
        "\n",
        "   833  |    0.008590  |    0.009380  |     0.915777  |             |  4.2s"
       ]
      },
      {
       "output_type": "stream",
       "stream": "stdout",
       "text": [
        "\n",
        "   834  |    0.008506  |    0.009374  |     0.907399  |             |  4.2s"
       ]
      },
      {
       "output_type": "stream",
       "stream": "stdout",
       "text": [
        "\n",
        "   835  |    0.008528  |  \u001b[32m  0.009358\u001b[0m  |     0.911258  |             |  4.2s"
       ]
      },
      {
       "output_type": "stream",
       "stream": "stdout",
       "text": [
        "\n",
        "   836  |    0.008507  |  \u001b[32m  0.009345\u001b[0m  |     0.910318  |             |  4.2s"
       ]
      },
      {
       "output_type": "stream",
       "stream": "stdout",
       "text": [
        "\n",
        "   837  |    0.008527  |  \u001b[32m  0.009343\u001b[0m  |     0.912701  |             |  4.2s"
       ]
      },
      {
       "output_type": "stream",
       "stream": "stdout",
       "text": [
        "\n",
        "   838  |  \u001b[94m  0.008503\u001b[0m  |  \u001b[32m  0.009334\u001b[0m  |     0.910944  |             |  4.1s"
       ]
      },
      {
       "output_type": "stream",
       "stream": "stdout",
       "text": [
        "\n",
        "   839  |    0.008538  |    0.009339  |     0.914183  |             |  4.2s"
       ]
      },
      {
       "output_type": "stream",
       "stream": "stdout",
       "text": [
        "\n",
        "   840  |  \u001b[94m  0.008497\u001b[0m  |  \u001b[32m  0.009330\u001b[0m  |     0.910757  |             |  4.1s"
       ]
      },
      {
       "output_type": "stream",
       "stream": "stdout",
       "text": [
        "\n",
        "   841  |  \u001b[94m  0.008446\u001b[0m  |    0.009345  |     0.903871  |             |  4.2s"
       ]
      },
      {
       "output_type": "stream",
       "stream": "stdout",
       "text": [
        "\n",
        "   842  |    0.008543  |  \u001b[32m  0.009317\u001b[0m  |     0.916940  |             |  4.2s"
       ]
      },
      {
       "output_type": "stream",
       "stream": "stdout",
       "text": [
        "\n",
        "   843  |    0.008476  |  \u001b[32m  0.009305\u001b[0m  |     0.910985  |             |  4.2s"
       ]
      },
      {
       "output_type": "stream",
       "stream": "stdout",
       "text": [
        "\n",
        "   844  |  \u001b[94m  0.008418\u001b[0m  |    0.009316  |     0.903653  |             |  4.2s"
       ]
      },
      {
       "output_type": "stream",
       "stream": "stdout",
       "text": [
        "\n",
        "   845  |    0.008453  |    0.009309  |     0.908091  |             |  4.2s"
       ]
      },
      {
       "output_type": "stream",
       "stream": "stdout",
       "text": [
        "\n",
        "   846  |    0.008494  |  \u001b[32m  0.009304\u001b[0m  |     0.912903  |             |  4.2s"
       ]
      },
      {
       "output_type": "stream",
       "stream": "stdout",
       "text": [
        "\n",
        "   847  |    0.008457  |  \u001b[32m  0.009290\u001b[0m  |     0.910342  |             |  4.2s"
       ]
      },
      {
       "output_type": "stream",
       "stream": "stdout",
       "text": [
        "\n",
        "   848  |  \u001b[94m  0.008399\u001b[0m  |    0.009305  |     0.902679  |             |  4.2s"
       ]
      },
      {
       "output_type": "stream",
       "stream": "stdout",
       "text": [
        "\n",
        "   849  |  \u001b[94m  0.008371\u001b[0m  |  \u001b[32m  0.009278\u001b[0m  |     0.902213  |             |  4.2s"
       ]
      },
      {
       "output_type": "stream",
       "stream": "stdout",
       "text": [
        "\n",
        "   850  |  \u001b[94m  0.008354\u001b[0m  |  \u001b[32m  0.009272\u001b[0m  |     0.901018  |             |  4.2s"
       ]
      },
      {
       "output_type": "stream",
       "stream": "stdout",
       "text": [
        "\n",
        "   851  |    0.008398  |    0.009295  |     0.903554  |             |  4.2s"
       ]
      },
      {
       "output_type": "stream",
       "stream": "stdout",
       "text": [
        "\n",
        "   852  |    0.008423  |    0.009277  |     0.907915  |             |  4.2s"
       ]
      },
      {
       "output_type": "stream",
       "stream": "stdout",
       "text": [
        "\n",
        "   853  |    0.008453  |  \u001b[32m  0.009258\u001b[0m  |     0.913000  |             |  4.2s"
       ]
      },
      {
       "output_type": "stream",
       "stream": "stdout",
       "text": [
        "\n",
        "   854  |  \u001b[94m  0.008312\u001b[0m  |  \u001b[32m  0.009249\u001b[0m  |     0.898708  |             |  4.2s"
       ]
      },
      {
       "output_type": "stream",
       "stream": "stdout",
       "text": [
        "\n",
        "   855  |    0.008344  |    0.009255  |     0.901532  |             |  4.2s"
       ]
      },
      {
       "output_type": "stream",
       "stream": "stdout",
       "text": [
        "\n",
        "   856  |    0.008431  |    0.009250  |     0.911440  |             |  4.2s"
       ]
      },
      {
       "output_type": "stream",
       "stream": "stdout",
       "text": [
        "\n",
        "   857  |    0.008370  |  \u001b[32m  0.009245\u001b[0m  |     0.905344  |             |  4.2s"
       ]
      },
      {
       "output_type": "stream",
       "stream": "stdout",
       "text": [
        "\n",
        "   858  |    0.008402  |  \u001b[32m  0.009241\u001b[0m  |     0.909255  |             |  4.2s"
       ]
      },
      {
       "output_type": "stream",
       "stream": "stdout",
       "text": [
        "\n",
        "   859  |    0.008377  |    0.009277  |     0.902982  |             |  4.2s"
       ]
      },
      {
       "output_type": "stream",
       "stream": "stdout",
       "text": [
        "\n",
        "   860  |    0.008318  |  \u001b[32m  0.009231\u001b[0m  |     0.901096  |             |  4.2s"
       ]
      },
      {
       "output_type": "stream",
       "stream": "stdout",
       "text": [
        "\n",
        "   861  |  \u001b[94m  0.008282\u001b[0m  |    0.009246  |     0.895717  |             |  4.2s"
       ]
      },
      {
       "output_type": "stream",
       "stream": "stdout",
       "text": [
        "\n",
        "   862  |  \u001b[94m  0.008278\u001b[0m  |    0.009237  |     0.896239  |             |  4.1s"
       ]
      },
      {
       "output_type": "stream",
       "stream": "stdout",
       "text": [
        "\n",
        "   863  |    0.008311  |    0.009237  |     0.899757  |             |  4.2s"
       ]
      },
      {
       "output_type": "stream",
       "stream": "stdout",
       "text": [
        "\n",
        "   864  |    0.008345  |    0.009235  |     0.903626  |             |  4.2s"
       ]
      },
      {
       "output_type": "stream",
       "stream": "stdout",
       "text": [
        "\n",
        "   865  |    0.008365  |    0.009233  |     0.905971  |             |  4.1s"
       ]
      },
      {
       "output_type": "stream",
       "stream": "stdout",
       "text": [
        "\n",
        "   866  |    0.008295  |  \u001b[32m  0.009205\u001b[0m  |     0.901099  |             |  4.1s"
       ]
      },
      {
       "output_type": "stream",
       "stream": "stdout",
       "text": [
        "\n",
        "   867  |    0.008287  |  \u001b[32m  0.009192\u001b[0m  |     0.901572  |             |  4.2s"
       ]
      },
      {
       "output_type": "stream",
       "stream": "stdout",
       "text": [
        "\n",
        "   868  |    0.008338  |    0.009212  |     0.905138  |             |  4.2s"
       ]
      },
      {
       "output_type": "stream",
       "stream": "stdout",
       "text": [
        "\n",
        "   869  |    0.008323  |    0.009206  |     0.904066  |             |  4.2s"
       ]
      },
      {
       "output_type": "stream",
       "stream": "stdout",
       "text": [
        "\n",
        "   870  |  \u001b[94m  0.008268\u001b[0m  |    0.009194  |     0.899264  |             |  4.2s"
       ]
      },
      {
       "output_type": "stream",
       "stream": "stdout",
       "text": [
        "\n",
        "   871  |  \u001b[94m  0.008268\u001b[0m  |    0.009214  |     0.897273  |             |  4.2s"
       ]
      },
      {
       "output_type": "stream",
       "stream": "stdout",
       "text": [
        "\n",
        "   872  |  \u001b[94m  0.008231\u001b[0m  |    0.009223  |     0.892451  |             |  4.2s"
       ]
      },
      {
       "output_type": "stream",
       "stream": "stdout",
       "text": [
        "\n",
        "   873  |    0.008245  |  \u001b[32m  0.009183\u001b[0m  |     0.897860  |             |  4.2s"
       ]
      },
      {
       "output_type": "stream",
       "stream": "stdout",
       "text": [
        "\n",
        "   874  |  \u001b[94m  0.008217\u001b[0m  |  \u001b[32m  0.009174\u001b[0m  |     0.895672  |             |  4.1s"
       ]
      },
      {
       "output_type": "stream",
       "stream": "stdout",
       "text": [
        "\n",
        "   875  |    0.008253  |    0.009180  |     0.899003  |             |  4.2s"
       ]
      },
      {
       "output_type": "stream",
       "stream": "stdout",
       "text": [
        "\n",
        "   876  |  \u001b[94m  0.008104\u001b[0m  |    0.009180  |     0.882792  |             |  4.2s"
       ]
      },
      {
       "output_type": "stream",
       "stream": "stdout",
       "text": [
        "\n",
        "   877  |    0.008219  |  \u001b[32m  0.009168\u001b[0m  |     0.896483  |             |  4.2s"
       ]
      },
      {
       "output_type": "stream",
       "stream": "stdout",
       "text": [
        "\n",
        "   878  |    0.008160  |  \u001b[32m  0.009164\u001b[0m  |     0.890381  |             |  4.2s"
       ]
      },
      {
       "output_type": "stream",
       "stream": "stdout",
       "text": [
        "\n",
        "   879  |    0.008201  |    0.009174  |     0.893910  |             |  4.2s"
       ]
      },
      {
       "output_type": "stream",
       "stream": "stdout",
       "text": [
        "\n",
        "   880  |    0.008174  |    0.009171  |     0.891291  |             |  4.2s"
       ]
      },
      {
       "output_type": "stream",
       "stream": "stdout",
       "text": [
        "\n",
        "   881  |    0.008193  |    0.009171  |     0.893398  |             |  4.1s"
       ]
      },
      {
       "output_type": "stream",
       "stream": "stdout",
       "text": [
        "\n",
        "   882  |    0.008171  |    0.009166  |     0.891469  |             |  4.1s"
       ]
      },
      {
       "output_type": "stream",
       "stream": "stdout",
       "text": [
        "\n",
        "   883  |    0.008158  |  \u001b[32m  0.009162\u001b[0m  |     0.890415  |             |  4.1s"
       ]
      },
      {
       "output_type": "stream",
       "stream": "stdout",
       "text": [
        "\n",
        "   884  |    0.008126  |  \u001b[32m  0.009148\u001b[0m  |     0.888248  |             |  4.2s"
       ]
      },
      {
       "output_type": "stream",
       "stream": "stdout",
       "text": [
        "\n",
        "   885  |    0.008110  |    0.009161  |     0.885247  |             |  4.2s"
       ]
      },
      {
       "output_type": "stream",
       "stream": "stdout",
       "text": [
        "\n",
        "   886  |  \u001b[94m  0.008085\u001b[0m  |  \u001b[32m  0.009139\u001b[0m  |     0.884703  |             |  4.2s"
       ]
      },
      {
       "output_type": "stream",
       "stream": "stdout",
       "text": [
        "\n",
        "   887  |    0.008110  |  \u001b[32m  0.009130\u001b[0m  |     0.888310  |             |  4.2s"
       ]
      },
      {
       "output_type": "stream",
       "stream": "stdout",
       "text": [
        "\n",
        "   888  |    0.008166  |    0.009145  |     0.892946  |             |  4.2s"
       ]
      },
      {
       "output_type": "stream",
       "stream": "stdout",
       "text": [
        "\n",
        "   889  |    0.008087  |  \u001b[32m  0.009127\u001b[0m  |     0.886052  |             |  4.2s"
       ]
      },
      {
       "output_type": "stream",
       "stream": "stdout",
       "text": [
        "\n",
        "   890  |  \u001b[94m  0.008043\u001b[0m  |    0.009139  |     0.880065  |             |  4.2s"
       ]
      },
      {
       "output_type": "stream",
       "stream": "stdout",
       "text": [
        "\n",
        "   891  |    0.008071  |  \u001b[32m  0.009109\u001b[0m  |     0.886078  |             |  4.2s"
       ]
      },
      {
       "output_type": "stream",
       "stream": "stdout",
       "text": [
        "\n",
        "   892  |    0.008090  |    0.009138  |     0.885387  |             |  4.2s"
       ]
      },
      {
       "output_type": "stream",
       "stream": "stdout",
       "text": [
        "\n",
        "   893  |    0.008105  |    0.009113  |     0.889363  |             |  4.2s"
       ]
      },
      {
       "output_type": "stream",
       "stream": "stdout",
       "text": [
        "\n",
        "   894  |    0.008052  |    0.009112  |     0.883605  |             |  4.2s"
       ]
      },
      {
       "output_type": "stream",
       "stream": "stdout",
       "text": [
        "\n",
        "   895  |    0.008072  |  \u001b[32m  0.009094\u001b[0m  |     0.887625  |             |  4.2s"
       ]
      },
      {
       "output_type": "stream",
       "stream": "stdout",
       "text": [
        "\n",
        "   896  |    0.008051  |  \u001b[32m  0.009088\u001b[0m  |     0.885951  |             |  4.2s"
       ]
      },
      {
       "output_type": "stream",
       "stream": "stdout",
       "text": [
        "\n",
        "   897  |    0.008052  |    0.009105  |     0.884291  |             |  4.2s"
       ]
      },
      {
       "output_type": "stream",
       "stream": "stdout",
       "text": [
        "\n",
        "   898  |  \u001b[94m  0.008011\u001b[0m  |  \u001b[32m  0.009079\u001b[0m  |     0.882345  |             |  4.2s"
       ]
      },
      {
       "output_type": "stream",
       "stream": "stdout",
       "text": [
        "\n",
        "   899  |    0.008083  |    0.009090  |     0.889290  |             |  4.2s"
       ]
      },
      {
       "output_type": "stream",
       "stream": "stdout",
       "text": [
        "\n",
        "   900  |    0.008102  |    0.009087  |     0.891621  |             |  4.2s"
       ]
      },
      {
       "output_type": "stream",
       "stream": "stdout",
       "text": [
        "\n",
        "   901  |    0.008035  |  \u001b[32m  0.009077\u001b[0m  |     0.885287  |             |  4.2s"
       ]
      },
      {
       "output_type": "stream",
       "stream": "stdout",
       "text": [
        "\n",
        "   902  |  \u001b[94m  0.007999\u001b[0m  |    0.009089  |     0.880121  |             |  4.2s"
       ]
      },
      {
       "output_type": "stream",
       "stream": "stdout",
       "text": [
        "\n",
        "   903  |    0.008047  |    0.009091  |     0.885183  |             |  4.2s"
       ]
      },
      {
       "output_type": "stream",
       "stream": "stdout",
       "text": [
        "\n",
        "   904  |  \u001b[94m  0.007992\u001b[0m  |  \u001b[32m  0.009056\u001b[0m  |     0.882528  |             |  4.2s"
       ]
      },
      {
       "output_type": "stream",
       "stream": "stdout",
       "text": [
        "\n",
        "   905  |  \u001b[94m  0.007977\u001b[0m  |    0.009077  |     0.878740  |             |  4.2s"
       ]
      },
      {
       "output_type": "stream",
       "stream": "stdout",
       "text": [
        "\n",
        "   906  |  \u001b[94m  0.007959\u001b[0m  |  \u001b[32m  0.009054\u001b[0m  |     0.879072  |             |  4.2s"
       ]
      },
      {
       "output_type": "stream",
       "stream": "stdout",
       "text": [
        "\n",
        "   907  |    0.007983  |    0.009056  |     0.881452  |             |  4.2s"
       ]
      },
      {
       "output_type": "stream",
       "stream": "stdout",
       "text": [
        "\n",
        "   908  |    0.007961  |    0.009080  |     0.876789  |             |  4.2s"
       ]
      },
      {
       "output_type": "stream",
       "stream": "stdout",
       "text": [
        "\n",
        "   909  |    0.008083  |    0.009072  |     0.891063  |             |  4.1s"
       ]
      },
      {
       "output_type": "stream",
       "stream": "stdout",
       "text": [
        "\n",
        "   910  |  \u001b[94m  0.007956\u001b[0m  |  \u001b[32m  0.009053\u001b[0m  |     0.878854  |             |  4.2s"
       ]
      },
      {
       "output_type": "stream",
       "stream": "stdout",
       "text": [
        "\n",
        "   911  |  \u001b[94m  0.007906\u001b[0m  |    0.009065  |     0.872078  |             |  4.2s"
       ]
      },
      {
       "output_type": "stream",
       "stream": "stdout",
       "text": [
        "\n",
        "   912  |  \u001b[94m  0.007876\u001b[0m  |  \u001b[32m  0.009048\u001b[0m  |     0.870394  |             |  4.2s"
       ]
      },
      {
       "output_type": "stream",
       "stream": "stdout",
       "text": [
        "\n",
        "   913  |    0.007945  |  \u001b[32m  0.009030\u001b[0m  |     0.879857  |             |  4.2s"
       ]
      },
      {
       "output_type": "stream",
       "stream": "stdout",
       "text": [
        "\n",
        "   914  |    0.007986  |    0.009032  |     0.884245  |             |  4.2s"
       ]
      },
      {
       "output_type": "stream",
       "stream": "stdout",
       "text": [
        "\n",
        "   915  |  \u001b[94m  0.007860\u001b[0m  |    0.009032  |     0.870283  |             |  4.1s"
       ]
      },
      {
       "output_type": "stream",
       "stream": "stdout",
       "text": [
        "\n",
        "   916  |    0.007895  |  \u001b[32m  0.009024\u001b[0m  |     0.874943  |             |  4.2s"
       ]
      },
      {
       "output_type": "stream",
       "stream": "stdout",
       "text": [
        "\n",
        "   917  |    0.007914  |    0.009034  |     0.876067  |             |  4.2s"
       ]
      },
      {
       "output_type": "stream",
       "stream": "stdout",
       "text": [
        "\n",
        "   918  |    0.007882  |    0.009029  |     0.873026  |             |  4.2s"
       ]
      },
      {
       "output_type": "stream",
       "stream": "stdout",
       "text": [
        "\n",
        "   919  |    0.007862  |  \u001b[32m  0.009014\u001b[0m  |     0.872194  |             |  4.2s"
       ]
      },
      {
       "output_type": "stream",
       "stream": "stdout",
       "text": [
        "\n",
        "   920  |    0.007944  |    0.009018  |     0.880949  |             |  4.2s"
       ]
      },
      {
       "output_type": "stream",
       "stream": "stdout",
       "text": [
        "\n",
        "   921  |  \u001b[94m  0.007845\u001b[0m  |  \u001b[32m  0.009005\u001b[0m  |     0.871137  |             |  4.2s"
       ]
      },
      {
       "output_type": "stream",
       "stream": "stdout",
       "text": [
        "\n",
        "   922  |  \u001b[94m  0.007772\u001b[0m  |    0.009022  |     0.861430  |             |  4.1s"
       ]
      },
      {
       "output_type": "stream",
       "stream": "stdout",
       "text": [
        "\n",
        "   923  |    0.007834  |  \u001b[32m  0.008996\u001b[0m  |     0.870789  |             |  4.2s"
       ]
      },
      {
       "output_type": "stream",
       "stream": "stdout",
       "text": [
        "\n",
        "   924  |    0.007821  |    0.009008  |     0.868263  |             |  4.2s"
       ]
      },
      {
       "output_type": "stream",
       "stream": "stdout",
       "text": [
        "\n",
        "   925  |    0.007830  |    0.008999  |     0.870052  |             |  4.1s"
       ]
      },
      {
       "output_type": "stream",
       "stream": "stdout",
       "text": [
        "\n",
        "   926  |    0.007829  |  \u001b[32m  0.008993\u001b[0m  |     0.870643  |             |  4.2s"
       ]
      },
      {
       "output_type": "stream",
       "stream": "stdout",
       "text": [
        "\n",
        "   927  |  \u001b[94m  0.007762\u001b[0m  |    0.009001  |     0.862368  |             |  4.2s"
       ]
      },
      {
       "output_type": "stream",
       "stream": "stdout",
       "text": [
        "\n",
        "   928  |    0.007809  |  \u001b[32m  0.008985\u001b[0m  |     0.869113  |             |  4.1s"
       ]
      },
      {
       "output_type": "stream",
       "stream": "stdout",
       "text": [
        "\n",
        "   929  |    0.007803  |  \u001b[32m  0.008970\u001b[0m  |     0.869878  |             |  4.2s"
       ]
      },
      {
       "output_type": "stream",
       "stream": "stdout",
       "text": [
        "\n",
        "   930  |  \u001b[94m  0.007709\u001b[0m  |    0.008982  |     0.858228  |             |  4.2s"
       ]
      },
      {
       "output_type": "stream",
       "stream": "stdout",
       "text": [
        "\n",
        "   931  |    0.007826  |    0.008974  |     0.872132  |             |  4.2s"
       ]
      },
      {
       "output_type": "stream",
       "stream": "stdout",
       "text": [
        "\n",
        "   932  |    0.007789  |  \u001b[32m  0.008956\u001b[0m  |     0.869767  |             |  4.2s"
       ]
      },
      {
       "output_type": "stream",
       "stream": "stdout",
       "text": [
        "\n",
        "   933  |    0.007718  |    0.008965  |     0.860841  |             |  4.2s"
       ]
      },
      {
       "output_type": "stream",
       "stream": "stdout",
       "text": [
        "\n",
        "   934  |    0.007781  |  \u001b[32m  0.008954\u001b[0m  |     0.868960  |             |  4.2s"
       ]
      },
      {
       "output_type": "stream",
       "stream": "stdout",
       "text": [
        "\n",
        "   935  |    0.007764  |    0.008972  |     0.865360  |             |  4.2s"
       ]
      },
      {
       "output_type": "stream",
       "stream": "stdout",
       "text": [
        "\n",
        "   936  |    0.007716  |    0.009001  |     0.857285  |             |  4.2s"
       ]
      },
      {
       "output_type": "stream",
       "stream": "stdout",
       "text": [
        "\n",
        "   937  |  \u001b[94m  0.007703\u001b[0m  |    0.008960  |     0.859761  |             |  4.2s"
       ]
      },
      {
       "output_type": "stream",
       "stream": "stdout",
       "text": [
        "\n",
        "   938  |    0.007709  |  \u001b[32m  0.008953\u001b[0m  |     0.861078  |             |  4.2s"
       ]
      },
      {
       "output_type": "stream",
       "stream": "stdout",
       "text": [
        "\n",
        "   939  |    0.007756  |    0.008954  |     0.866161  |             |  4.2s"
       ]
      },
      {
       "output_type": "stream",
       "stream": "stdout",
       "text": [
        "\n",
        "   940  |    0.007774  |  \u001b[32m  0.008943\u001b[0m  |     0.869255  |             |  4.2s"
       ]
      },
      {
       "output_type": "stream",
       "stream": "stdout",
       "text": [
        "\n",
        "   941  |  \u001b[94m  0.007646\u001b[0m  |  \u001b[32m  0.008921\u001b[0m  |     0.857063  |             |  4.2s"
       ]
      },
      {
       "output_type": "stream",
       "stream": "stdout",
       "text": [
        "\n",
        "   942  |  \u001b[94m  0.007641\u001b[0m  |    0.008952  |     0.853517  |             |  4.2s"
       ]
      },
      {
       "output_type": "stream",
       "stream": "stdout",
       "text": [
        "\n",
        "   943  |    0.007728  |    0.008927  |     0.865608  |             |  4.2s"
       ]
      },
      {
       "output_type": "stream",
       "stream": "stdout",
       "text": [
        "\n",
        "   944  |    0.007705  |    0.008926  |     0.863187  |             |  4.2s"
       ]
      },
      {
       "output_type": "stream",
       "stream": "stdout",
       "text": [
        "\n",
        "   945  |    0.007784  |    0.008926  |     0.871971  |             |  4.2s"
       ]
      },
      {
       "output_type": "stream",
       "stream": "stdout",
       "text": [
        "\n",
        "   946  |    0.007695  |  \u001b[32m  0.008919\u001b[0m  |     0.862715  |             |  4.2s"
       ]
      },
      {
       "output_type": "stream",
       "stream": "stdout",
       "text": [
        "\n",
        "   947  |    0.007700  |  \u001b[32m  0.008908\u001b[0m  |     0.864378  |             |  4.2s"
       ]
      },
      {
       "output_type": "stream",
       "stream": "stdout",
       "text": [
        "\n",
        "   948  |    0.007693  |    0.008921  |     0.862387  |             |  4.1s"
       ]
      },
      {
       "output_type": "stream",
       "stream": "stdout",
       "text": [
        "\n",
        "   949  |  \u001b[94m  0.007637\u001b[0m  |    0.008916  |     0.856515  |             |  4.2s"
       ]
      },
      {
       "output_type": "stream",
       "stream": "stdout",
       "text": [
        "\n",
        "   950  |  \u001b[94m  0.007565\u001b[0m  |  \u001b[32m  0.008894\u001b[0m  |     0.850620  |             |  4.1s"
       ]
      },
      {
       "output_type": "stream",
       "stream": "stdout",
       "text": [
        "\n",
        "   951  |  \u001b[94m  0.007532\u001b[0m  |  \u001b[32m  0.008889\u001b[0m  |     0.847405  |             |  4.2s"
       ]
      },
      {
       "output_type": "stream",
       "stream": "stdout",
       "text": [
        "\n",
        "   952  |    0.007616  |    0.008900  |     0.855716  |             |  4.2s"
       ]
      },
      {
       "output_type": "stream",
       "stream": "stdout",
       "text": [
        "\n",
        "   953  |    0.007659  |    0.008911  |     0.859520  |             |  4.2s"
       ]
      },
      {
       "output_type": "stream",
       "stream": "stdout",
       "text": [
        "\n",
        "   954  |    0.007619  |    0.008896  |     0.856483  |             |  4.2s"
       ]
      },
      {
       "output_type": "stream",
       "stream": "stdout",
       "text": [
        "\n",
        "   955  |  \u001b[94m  0.007514\u001b[0m  |    0.008898  |     0.844497  |             |  4.2s"
       ]
      },
      {
       "output_type": "stream",
       "stream": "stdout",
       "text": [
        "\n",
        "   956  |    0.007582  |  \u001b[32m  0.008875\u001b[0m  |     0.854212  |             |  4.2s"
       ]
      },
      {
       "output_type": "stream",
       "stream": "stdout",
       "text": [
        "\n",
        "   957  |    0.007614  |    0.008892  |     0.856317  |             |  4.2s"
       ]
      },
      {
       "output_type": "stream",
       "stream": "stdout",
       "text": [
        "\n",
        "   958  |    0.007566  |  \u001b[32m  0.008871\u001b[0m  |     0.852846  |             |  4.2s"
       ]
      },
      {
       "output_type": "stream",
       "stream": "stdout",
       "text": [
        "\n",
        "   959  |    0.007593  |    0.008876  |     0.855503  |             |  4.2s"
       ]
      },
      {
       "output_type": "stream",
       "stream": "stdout",
       "text": [
        "\n",
        "   960  |  \u001b[94m  0.007483\u001b[0m  |  \u001b[32m  0.008870\u001b[0m  |     0.843584  |             |  4.2s"
       ]
      },
      {
       "output_type": "stream",
       "stream": "stdout",
       "text": [
        "\n",
        "   961  |    0.007544  |    0.008872  |     0.850295  |             |  4.2s"
       ]
      },
      {
       "output_type": "stream",
       "stream": "stdout",
       "text": [
        "\n",
        "   962  |    0.007510  |    0.008881  |     0.845624  |             |  4.1s"
       ]
      },
      {
       "output_type": "stream",
       "stream": "stdout",
       "text": [
        "\n",
        "   963  |    0.007541  |    0.008881  |     0.849125  |             |  4.1s"
       ]
      },
      {
       "output_type": "stream",
       "stream": "stdout",
       "text": [
        "\n",
        "   964  |    0.007492  |    0.008884  |     0.843323  |             |  4.2s"
       ]
      },
      {
       "output_type": "stream",
       "stream": "stdout",
       "text": [
        "\n",
        "   965  |    0.007592  |  \u001b[32m  0.008856\u001b[0m  |     0.857329  |             |  4.2s"
       ]
      },
      {
       "output_type": "stream",
       "stream": "stdout",
       "text": [
        "\n",
        "   966  |    0.007518  |    0.008867  |     0.847799  |             |  4.2s"
       ]
      },
      {
       "output_type": "stream",
       "stream": "stdout",
       "text": [
        "\n",
        "   967  |  \u001b[94m  0.007479\u001b[0m  |  \u001b[32m  0.008846\u001b[0m  |     0.845469  |             |  4.2s"
       ]
      },
      {
       "output_type": "stream",
       "stream": "stdout",
       "text": [
        "\n",
        "   968  |  \u001b[94m  0.007417\u001b[0m  |  \u001b[32m  0.008842\u001b[0m  |     0.838831  |             |  4.1s"
       ]
      },
      {
       "output_type": "stream",
       "stream": "stdout",
       "text": [
        "\n",
        "   969  |    0.007552  |    0.008855  |     0.852825  |             |  4.2s"
       ]
      },
      {
       "output_type": "stream",
       "stream": "stdout",
       "text": [
        "\n",
        "   970  |    0.007462  |    0.008851  |     0.843085  |             |  4.2s"
       ]
      },
      {
       "output_type": "stream",
       "stream": "stdout",
       "text": [
        "\n",
        "   971  |    0.007446  |  \u001b[32m  0.008832\u001b[0m  |     0.843069  |             |  4.2s"
       ]
      },
      {
       "output_type": "stream",
       "stream": "stdout",
       "text": [
        "\n",
        "   972  |    0.007484  |  \u001b[32m  0.008825\u001b[0m  |     0.848056  |             |  4.2s"
       ]
      },
      {
       "output_type": "stream",
       "stream": "stdout",
       "text": [
        "\n",
        "   973  |    0.007460  |    0.008829  |     0.844983  |             |  4.2s"
       ]
      },
      {
       "output_type": "stream",
       "stream": "stdout",
       "text": [
        "\n",
        "   974  |    0.007524  |    0.008844  |     0.850697  |             |  4.2s"
       ]
      },
      {
       "output_type": "stream",
       "stream": "stdout",
       "text": [
        "\n",
        "   975  |    0.007463  |  \u001b[32m  0.008821\u001b[0m  |     0.846120  |             |  4.1s"
       ]
      },
      {
       "output_type": "stream",
       "stream": "stdout",
       "text": [
        "\n",
        "   976  |    0.007434  |  \u001b[32m  0.008808\u001b[0m  |     0.843992  |             |  4.2s"
       ]
      },
      {
       "output_type": "stream",
       "stream": "stdout",
       "text": [
        "\n",
        "   977  |    0.007438  |    0.008819  |     0.843449  |             |  4.1s"
       ]
      },
      {
       "output_type": "stream",
       "stream": "stdout",
       "text": [
        "\n",
        "   978  |    0.007450  |    0.008809  |     0.845698  |             |  4.1s"
       ]
      },
      {
       "output_type": "stream",
       "stream": "stdout",
       "text": [
        "\n",
        "   979  |  \u001b[94m  0.007380\u001b[0m  |  \u001b[32m  0.008793\u001b[0m  |     0.839270  |             |  4.2s"
       ]
      },
      {
       "output_type": "stream",
       "stream": "stdout",
       "text": [
        "\n",
        "   980  |    0.007391  |    0.008796  |     0.840220  |             |  4.2s"
       ]
      },
      {
       "output_type": "stream",
       "stream": "stdout",
       "text": [
        "\n",
        "   981  |    0.007407  |  \u001b[32m  0.008787\u001b[0m  |     0.843017  |             |  4.2s"
       ]
      },
      {
       "output_type": "stream",
       "stream": "stdout",
       "text": [
        "\n",
        "   982  |    0.007392  |  \u001b[32m  0.008784\u001b[0m  |     0.841488  |             |  4.2s"
       ]
      },
      {
       "output_type": "stream",
       "stream": "stdout",
       "text": [
        "\n",
        "   983  |    0.007440  |  \u001b[32m  0.008783\u001b[0m  |     0.847063  |             |  4.2s"
       ]
      },
      {
       "output_type": "stream",
       "stream": "stdout",
       "text": [
        "\n",
        "   984  |    0.007397  |    0.008795  |     0.841013  |             |  4.2s"
       ]
      },
      {
       "output_type": "stream",
       "stream": "stdout",
       "text": [
        "\n",
        "   985  |    0.007393  |    0.008789  |     0.841142  |             |  4.1s"
       ]
      },
      {
       "output_type": "stream",
       "stream": "stdout",
       "text": [
        "\n",
        "   986  |    0.007439  |    0.008796  |     0.845727  |             |  4.2s"
       ]
      },
      {
       "output_type": "stream",
       "stream": "stdout",
       "text": [
        "\n",
        "   987  |    0.007412  |    0.008788  |     0.843418  |             |  4.1s"
       ]
      },
      {
       "output_type": "stream",
       "stream": "stdout",
       "text": [
        "\n",
        "   988  |    0.007383  |    0.008787  |     0.840245  |             |  4.2s"
       ]
      },
      {
       "output_type": "stream",
       "stream": "stdout",
       "text": [
        "\n",
        "   989  |    0.007394  |  \u001b[32m  0.008759\u001b[0m  |     0.844087  |             |  4.2s"
       ]
      },
      {
       "output_type": "stream",
       "stream": "stdout",
       "text": [
        "\n",
        "   990  |  \u001b[94m  0.007368\u001b[0m  |    0.008768  |     0.840378  |             |  4.2s"
       ]
      },
      {
       "output_type": "stream",
       "stream": "stdout",
       "text": [
        "\n",
        "   991  |  \u001b[94m  0.007249\u001b[0m  |    0.008776  |     0.825992  |             |  4.2s"
       ]
      },
      {
       "output_type": "stream",
       "stream": "stdout",
       "text": [
        "\n",
        "   992  |    0.007371  |    0.008793  |     0.838248  |             |  4.2s"
       ]
      },
      {
       "output_type": "stream",
       "stream": "stdout",
       "text": [
        "\n",
        "   993  |    0.007286  |    0.008776  |     0.830138  |             |  4.2s"
       ]
      },
      {
       "output_type": "stream",
       "stream": "stdout",
       "text": [
        "\n",
        "   994  |    0.007297  |  \u001b[32m  0.008747\u001b[0m  |     0.834211  |             |  4.2s"
       ]
      },
      {
       "output_type": "stream",
       "stream": "stdout",
       "text": [
        "\n",
        "   995  |    0.007301  |    0.008754  |     0.833985  |             |  4.2s"
       ]
      },
      {
       "output_type": "stream",
       "stream": "stdout",
       "text": [
        "\n",
        "   996  |    0.007314  |    0.008748  |     0.836112  |             |  4.2s"
       ]
      },
      {
       "output_type": "stream",
       "stream": "stdout",
       "text": [
        "\n",
        "   997  |    0.007266  |  \u001b[32m  0.008745\u001b[0m  |     0.830904  |             |  4.2s"
       ]
      },
      {
       "output_type": "stream",
       "stream": "stdout",
       "text": [
        "\n",
        "   998  |    0.007299  |    0.008751  |     0.834137  |             |  4.2s"
       ]
      },
      {
       "output_type": "stream",
       "stream": "stdout",
       "text": [
        "\n",
        "   999  |    0.007295  |  \u001b[32m  0.008732\u001b[0m  |     0.835443  |             |  4.2s"
       ]
      },
      {
       "output_type": "stream",
       "stream": "stdout",
       "text": [
        "\n",
        "  1000  |    0.007268  |    0.008747  |     0.830918  |             |  4.2s"
       ]
      },
      {
       "output_type": "stream",
       "stream": "stdout",
       "text": [
        "\n",
        "  1001  |    0.007275  |  \u001b[32m  0.008727\u001b[0m  |     0.833543  |             |  4.2s"
       ]
      },
      {
       "output_type": "stream",
       "stream": "stdout",
       "text": [
        "\n",
        "  1002  |    0.007276  |    0.008735  |     0.832985  |             |  4.2s"
       ]
      },
      {
       "output_type": "stream",
       "stream": "stdout",
       "text": [
        "\n",
        "  1003  |  \u001b[94m  0.007247\u001b[0m  |  \u001b[32m  0.008724\u001b[0m  |     0.830711  |             |  4.2s"
       ]
      },
      {
       "output_type": "stream",
       "stream": "stdout",
       "text": [
        "\n",
        "  1004  |  \u001b[94m  0.007232\u001b[0m  |  \u001b[32m  0.008717\u001b[0m  |     0.829600  |             |  4.2s"
       ]
      },
      {
       "output_type": "stream",
       "stream": "stdout",
       "text": [
        "\n",
        "  1005  |    0.007264  |    0.008722  |     0.832862  |             |  4.2s"
       ]
      },
      {
       "output_type": "stream",
       "stream": "stdout",
       "text": [
        "\n",
        "  1006  |    0.007256  |    0.008720  |     0.832114  |             |  4.2s"
       ]
      },
      {
       "output_type": "stream",
       "stream": "stdout",
       "text": [
        "\n",
        "  1007  |    0.007321  |    0.008725  |     0.839141  |             |  4.2s"
       ]
      },
      {
       "output_type": "stream",
       "stream": "stdout",
       "text": [
        "\n",
        "  1008  |    0.007243  |  \u001b[32m  0.008703\u001b[0m  |     0.832244  |             |  4.2s"
       ]
      },
      {
       "output_type": "stream",
       "stream": "stdout",
       "text": [
        "\n",
        "  1009  |  \u001b[94m  0.007158\u001b[0m  |  \u001b[32m  0.008699\u001b[0m  |     0.822935  |             |  4.2s"
       ]
      },
      {
       "output_type": "stream",
       "stream": "stdout",
       "text": [
        "\n",
        "  1010  |  \u001b[94m  0.007111\u001b[0m  |    0.008709  |     0.816487  |             |  4.2s"
       ]
      },
      {
       "output_type": "stream",
       "stream": "stdout",
       "text": [
        "\n",
        "  1011  |    0.007224  |    0.008701  |     0.830263  |             |  4.1s"
       ]
      },
      {
       "output_type": "stream",
       "stream": "stdout",
       "text": [
        "\n",
        "  1012  |    0.007284  |  \u001b[32m  0.008690\u001b[0m  |     0.838222  |             |  4.2s"
       ]
      },
      {
       "output_type": "stream",
       "stream": "stdout",
       "text": [
        "\n",
        "  1013  |    0.007238  |    0.008713  |     0.830665  |             |  4.2s"
       ]
      },
      {
       "output_type": "stream",
       "stream": "stdout",
       "text": [
        "\n",
        "  1014  |    0.007123  |    0.008700  |     0.818726  |             |  4.2s"
       ]
      },
      {
       "output_type": "stream",
       "stream": "stdout",
       "text": [
        "\n",
        "  1015  |    0.007114  |    0.008699  |     0.817810  |             |  4.2s"
       ]
      },
      {
       "output_type": "stream",
       "stream": "stdout",
       "text": [
        "\n",
        "  1016  |    0.007177  |    0.008697  |     0.825174  |             |  4.2s"
       ]
      },
      {
       "output_type": "stream",
       "stream": "stdout",
       "text": [
        "\n",
        "  1017  |    0.007184  |  \u001b[32m  0.008679\u001b[0m  |     0.827742  |             |  4.2s"
       ]
      },
      {
       "output_type": "stream",
       "stream": "stdout",
       "text": [
        "\n",
        "  1018  |    0.007185  |    0.008687  |     0.827071  |             |  4.2s"
       ]
      },
      {
       "output_type": "stream",
       "stream": "stdout",
       "text": [
        "\n",
        "  1019  |    0.007193  |  \u001b[32m  0.008676\u001b[0m  |     0.829044  |             |  4.2s"
       ]
      },
      {
       "output_type": "stream",
       "stream": "stdout",
       "text": [
        "\n",
        "  1020  |  \u001b[94m  0.007096\u001b[0m  |  \u001b[32m  0.008662\u001b[0m  |     0.819202  |             |  4.2s"
       ]
      },
      {
       "output_type": "stream",
       "stream": "stdout",
       "text": [
        "\n",
        "  1021  |    0.007143  |    0.008668  |     0.824107  |             |  4.2s"
       ]
      },
      {
       "output_type": "stream",
       "stream": "stdout",
       "text": [
        "\n",
        "  1022  |  \u001b[94m  0.007074\u001b[0m  |    0.008688  |     0.814252  |             |  4.2s"
       ]
      },
      {
       "output_type": "stream",
       "stream": "stdout",
       "text": [
        "\n",
        "  1023  |  \u001b[94m  0.007051\u001b[0m  |    0.008664  |     0.813770  |             |  4.2s"
       ]
      },
      {
       "output_type": "stream",
       "stream": "stdout",
       "text": [
        "\n",
        "  1024  |    0.007074  |  \u001b[32m  0.008652\u001b[0m  |     0.817609  |             |  4.2s"
       ]
      },
      {
       "output_type": "stream",
       "stream": "stdout",
       "text": [
        "\n",
        "  1025  |    0.007122  |    0.008660  |     0.822399  |             |  4.1s"
       ]
      },
      {
       "output_type": "stream",
       "stream": "stdout",
       "text": [
        "\n",
        "  1026  |    0.007076  |  \u001b[32m  0.008635\u001b[0m  |     0.819461  |             |  4.2s"
       ]
      },
      {
       "output_type": "stream",
       "stream": "stdout",
       "text": [
        "\n",
        "  1027  |  \u001b[94m  0.007021\u001b[0m  |    0.008645  |     0.812183  |             |  4.2s"
       ]
      },
      {
       "output_type": "stream",
       "stream": "stdout",
       "text": [
        "\n",
        "  1028  |    0.007052  |    0.008649  |     0.815340  |             |  4.2s"
       ]
      },
      {
       "output_type": "stream",
       "stream": "stdout",
       "text": [
        "\n",
        "  1029  |    0.007076  |    0.008649  |     0.818165  |             |  4.2s"
       ]
      },
      {
       "output_type": "stream",
       "stream": "stdout",
       "text": [
        "\n",
        "  1030  |    0.007092  |  \u001b[32m  0.008633\u001b[0m  |     0.821490  |             |  4.2s"
       ]
      },
      {
       "output_type": "stream",
       "stream": "stdout",
       "text": [
        "\n",
        "  1031  |    0.007068  |    0.008640  |     0.818027  |             |  4.1s"
       ]
      },
      {
       "output_type": "stream",
       "stream": "stdout",
       "text": [
        "\n",
        "  1032  |    0.007029  |    0.008641  |     0.813474  |             |  4.1s"
       ]
      },
      {
       "output_type": "stream",
       "stream": "stdout",
       "text": [
        "\n",
        "  1033  |    0.007039  |  \u001b[32m  0.008629\u001b[0m  |     0.815666  |             |  4.2s"
       ]
      },
      {
       "output_type": "stream",
       "stream": "stdout",
       "text": [
        "\n",
        "  1034  |  \u001b[94m  0.006989\u001b[0m  |    0.008631  |     0.809699  |             |  4.2s"
       ]
      },
      {
       "output_type": "stream",
       "stream": "stdout",
       "text": [
        "\n",
        "  1035  |  \u001b[94m  0.006976\u001b[0m  |  \u001b[32m  0.008627\u001b[0m  |     0.808670  |             |  4.2s"
       ]
      },
      {
       "output_type": "stream",
       "stream": "stdout",
       "text": [
        "\n",
        "  1036  |  \u001b[94m  0.006974\u001b[0m  |    0.008634  |     0.807723  |             |  4.2s"
       ]
      },
      {
       "output_type": "stream",
       "stream": "stdout",
       "text": [
        "\n",
        "  1037  |  \u001b[94m  0.006962\u001b[0m  |  \u001b[32m  0.008621\u001b[0m  |     0.807574  |             |  4.2s"
       ]
      },
      {
       "output_type": "stream",
       "stream": "stdout",
       "text": [
        "\n",
        "  1038  |    0.006972  |    0.008624  |     0.808497  |             |  4.2s"
       ]
      },
      {
       "output_type": "stream",
       "stream": "stdout",
       "text": [
        "\n",
        "  1039  |    0.006982  |    0.008634  |     0.808738  |             |  4.2s"
       ]
      },
      {
       "output_type": "stream",
       "stream": "stdout",
       "text": [
        "\n",
        "  1040  |  \u001b[94m  0.006946\u001b[0m  |    0.008637  |     0.804205  |             |  4.2s"
       ]
      },
      {
       "output_type": "stream",
       "stream": "stdout",
       "text": [
        "\n",
        "  1041  |    0.006993  |  \u001b[32m  0.008610\u001b[0m  |     0.812180  |             |  4.2s"
       ]
      },
      {
       "output_type": "stream",
       "stream": "stdout",
       "text": [
        "\n",
        "  1042  |    0.007090  |    0.008613  |     0.823279  |             |  4.2s"
       ]
      },
      {
       "output_type": "stream",
       "stream": "stdout",
       "text": [
        "\n",
        "  1043  |    0.007025  |    0.008621  |     0.814827  |             |  4.1s"
       ]
      },
      {
       "output_type": "stream",
       "stream": "stdout",
       "text": [
        "\n",
        "  1044  |  \u001b[94m  0.006942\u001b[0m  |    0.008619  |     0.805408  |             |  4.2s"
       ]
      },
      {
       "output_type": "stream",
       "stream": "stdout",
       "text": [
        "\n",
        "  1045  |    0.006956  |    0.008620  |     0.806901  |             |  4.2s"
       ]
      },
      {
       "output_type": "stream",
       "stream": "stdout",
       "text": [
        "\n",
        "  1046  |  \u001b[94m  0.006929\u001b[0m  |  \u001b[32m  0.008607\u001b[0m  |     0.805026  |             |  4.2s"
       ]
      },
      {
       "output_type": "stream",
       "stream": "stdout",
       "text": [
        "\n",
        "  1047  |    0.006976  |    0.008617  |     0.809538  |             |  4.1s"
       ]
      },
      {
       "output_type": "stream",
       "stream": "stdout",
       "text": [
        "\n",
        "  1048  |  \u001b[94m  0.006869\u001b[0m  |  \u001b[32m  0.008597\u001b[0m  |     0.798950  |             |  4.2s"
       ]
      },
      {
       "output_type": "stream",
       "stream": "stdout",
       "text": [
        "\n",
        "  1049  |    0.006906  |    0.008601  |     0.802916  |             |  4.2s"
       ]
      },
      {
       "output_type": "stream",
       "stream": "stdout",
       "text": [
        "\n",
        "  1050  |    0.006935  |  \u001b[32m  0.008576\u001b[0m  |     0.808605  |             |  4.2s"
       ]
      },
      {
       "output_type": "stream",
       "stream": "stdout",
       "text": [
        "\n",
        "  1051  |    0.006916  |    0.008595  |     0.804649  |             |  4.2s"
       ]
      },
      {
       "output_type": "stream",
       "stream": "stdout",
       "text": [
        "\n",
        "  1052  |    0.006932  |    0.008599  |     0.806180  |             |  4.2s"
       ]
      },
      {
       "output_type": "stream",
       "stream": "stdout",
       "text": [
        "\n",
        "  1053  |  \u001b[94m  0.006820\u001b[0m  |    0.008583  |     0.794594  |             |  4.2s"
       ]
      },
      {
       "output_type": "stream",
       "stream": "stdout",
       "text": [
        "\n",
        "  1054  |    0.006885  |  \u001b[32m  0.008567\u001b[0m  |     0.803621  |             |  4.2s"
       ]
      },
      {
       "output_type": "stream",
       "stream": "stdout",
       "text": [
        "\n",
        "  1055  |    0.006930  |    0.008594  |     0.806430  |             |  4.2s"
       ]
      },
      {
       "output_type": "stream",
       "stream": "stdout",
       "text": [
        "\n",
        "  1056  |    0.006829  |  \u001b[32m  0.008567\u001b[0m  |     0.797063  |             |  4.1s"
       ]
      },
      {
       "output_type": "stream",
       "stream": "stdout",
       "text": [
        "\n",
        "  1057  |  \u001b[94m  0.006759\u001b[0m  |  \u001b[32m  0.008563\u001b[0m  |     0.789327  |             |  4.2s"
       ]
      },
      {
       "output_type": "stream",
       "stream": "stdout",
       "text": [
        "\n",
        "  1058  |    0.006859  |  \u001b[32m  0.008551\u001b[0m  |     0.802126  |             |  4.1s"
       ]
      },
      {
       "output_type": "stream",
       "stream": "stdout",
       "text": [
        "\n",
        "  1059  |    0.006877  |    0.008567  |     0.802805  |             |  4.2s"
       ]
      },
      {
       "output_type": "stream",
       "stream": "stdout",
       "text": [
        "\n",
        "  1060  |    0.006846  |    0.008562  |     0.799577  |             |  4.2s"
       ]
      },
      {
       "output_type": "stream",
       "stream": "stdout",
       "text": [
        "\n",
        "  1061  |    0.006805  |    0.008563  |     0.794674  |             |  4.2s"
       ]
      },
      {
       "output_type": "stream",
       "stream": "stdout",
       "text": [
        "\n",
        "  1062  |    0.006916  |    0.008594  |     0.804766  |             |  4.2s"
       ]
      },
      {
       "output_type": "stream",
       "stream": "stdout",
       "text": [
        "\n",
        "  1063  |    0.006887  |    0.008563  |     0.804292  |             |  4.2s"
       ]
      },
      {
       "output_type": "stream",
       "stream": "stdout",
       "text": [
        "\n",
        "  1064  |  \u001b[94m  0.006747\u001b[0m  |    0.008556  |     0.788568  |             |  4.2s"
       ]
      },
      {
       "output_type": "stream",
       "stream": "stdout",
       "text": [
        "\n",
        "  1065  |    0.006875  |  \u001b[32m  0.008549\u001b[0m  |     0.804281  |             |  4.2s"
       ]
      },
      {
       "output_type": "stream",
       "stream": "stdout",
       "text": [
        "\n",
        "  1066  |    0.006770  |    0.008575  |     0.789538  |             |  4.2s"
       ]
      },
      {
       "output_type": "stream",
       "stream": "stdout",
       "text": [
        "\n",
        "  1067  |    0.006761  |    0.008567  |     0.789277  |             |  4.2s"
       ]
      },
      {
       "output_type": "stream",
       "stream": "stdout",
       "text": [
        "\n",
        "  1068  |    0.006802  |    0.008567  |     0.793988  |             |  4.2s"
       ]
      },
      {
       "output_type": "stream",
       "stream": "stdout",
       "text": [
        "\n",
        "  1069  |    0.006851  |  \u001b[32m  0.008548\u001b[0m  |     0.801496  |             |  4.2s"
       ]
      },
      {
       "output_type": "stream",
       "stream": "stdout",
       "text": [
        "\n",
        "  1070  |    0.006763  |    0.008552  |     0.790824  |             |  4.2s"
       ]
      },
      {
       "output_type": "stream",
       "stream": "stdout",
       "text": [
        "\n",
        "  1071  |    0.006797  |  \u001b[32m  0.008539\u001b[0m  |     0.795950  |             |  4.2s"
       ]
      },
      {
       "output_type": "stream",
       "stream": "stdout",
       "text": [
        "\n",
        "  1072  |    0.006777  |    0.008545  |     0.793051  |             |  4.2s"
       ]
      },
      {
       "output_type": "stream",
       "stream": "stdout",
       "text": [
        "\n",
        "  1073  |    0.006760  |    0.008557  |     0.790001  |             |  4.1s"
       ]
      },
      {
       "output_type": "stream",
       "stream": "stdout",
       "text": [
        "\n",
        "  1074  |  \u001b[94m  0.006681\u001b[0m  |    0.008552  |     0.781272  |             |  4.2s"
       ]
      },
      {
       "output_type": "stream",
       "stream": "stdout",
       "text": [
        "\n",
        "  1075  |    0.006773  |  \u001b[32m  0.008522\u001b[0m  |     0.794746  |             |  4.2s"
       ]
      },
      {
       "output_type": "stream",
       "stream": "stdout",
       "text": [
        "\n",
        "  1076  |    0.006734  |    0.008526  |     0.789769  |             |  4.2s"
       ]
      },
      {
       "output_type": "stream",
       "stream": "stdout",
       "text": [
        "\n",
        "  1077  |    0.006749  |  \u001b[32m  0.008512\u001b[0m  |     0.792865  |             |  4.2s"
       ]
      },
      {
       "output_type": "stream",
       "stream": "stdout",
       "text": [
        "\n",
        "  1078  |    0.006709  |    0.008515  |     0.787883  |             |  4.1s"
       ]
      },
      {
       "output_type": "stream",
       "stream": "stdout",
       "text": [
        "\n",
        "  1079  |    0.006786  |    0.008532  |     0.795363  |             |  4.2s"
       ]
      },
      {
       "output_type": "stream",
       "stream": "stdout",
       "text": [
        "\n",
        "  1080  |    0.006710  |    0.008525  |     0.787071  |             |  4.2s"
       ]
      },
      {
       "output_type": "stream",
       "stream": "stdout",
       "text": [
        "\n",
        "  1081  |  \u001b[94m  0.006642\u001b[0m  |    0.008527  |     0.778934  |             |  4.2s"
       ]
      },
      {
       "output_type": "stream",
       "stream": "stdout",
       "text": [
        "\n",
        "  1082  |    0.006749  |  \u001b[32m  0.008511\u001b[0m  |     0.792957  |             |  4.1s"
       ]
      },
      {
       "output_type": "stream",
       "stream": "stdout",
       "text": [
        "\n",
        "  1083  |    0.006726  |    0.008530  |     0.788484  |             |  4.2s"
       ]
      },
      {
       "output_type": "stream",
       "stream": "stdout",
       "text": [
        "\n",
        "  1084  |    0.006723  |    0.008516  |     0.789409  |             |  4.1s"
       ]
      },
      {
       "output_type": "stream",
       "stream": "stdout",
       "text": [
        "\n",
        "  1085  |    0.006660  |  \u001b[32m  0.008510\u001b[0m  |     0.782642  |             |  4.2s"
       ]
      },
      {
       "output_type": "stream",
       "stream": "stdout",
       "text": [
        "\n",
        "  1086  |    0.006690  |  \u001b[32m  0.008502\u001b[0m  |     0.786919  |             |  4.2s"
       ]
      },
      {
       "output_type": "stream",
       "stream": "stdout",
       "text": [
        "\n",
        "  1087  |    0.006667  |  \u001b[32m  0.008488\u001b[0m  |     0.785498  |             |  4.2s"
       ]
      },
      {
       "output_type": "stream",
       "stream": "stdout",
       "text": [
        "\n",
        "  1088  |    0.006700  |    0.008496  |     0.788642  |             |  4.2s"
       ]
      },
      {
       "output_type": "stream",
       "stream": "stdout",
       "text": [
        "\n",
        "  1089  |  \u001b[94m  0.006638\u001b[0m  |    0.008514  |     0.779638  |             |  4.2s"
       ]
      },
      {
       "output_type": "stream",
       "stream": "stdout",
       "text": [
        "\n",
        "  1090  |    0.006659  |    0.008492  |     0.784158  |             |  4.2s"
       ]
      },
      {
       "output_type": "stream",
       "stream": "stdout",
       "text": [
        "\n",
        "  1091  |  \u001b[94m  0.006636\u001b[0m  |    0.008497  |     0.780999  |             |  4.2s"
       ]
      },
      {
       "output_type": "stream",
       "stream": "stdout",
       "text": [
        "\n",
        "  1092  |    0.006708  |    0.008488  |     0.790248  |             |  4.2s"
       ]
      },
      {
       "output_type": "stream",
       "stream": "stdout",
       "text": [
        "\n",
        "  1093  |    0.006667  |  \u001b[32m  0.008481\u001b[0m  |     0.786139  |             |  4.2s"
       ]
      },
      {
       "output_type": "stream",
       "stream": "stdout",
       "text": [
        "\n",
        "  1094  |  \u001b[94m  0.006583\u001b[0m  |    0.008483  |     0.776000  |             |  4.2s"
       ]
      },
      {
       "output_type": "stream",
       "stream": "stdout",
       "text": [
        "\n",
        "  1095  |    0.006641  |  \u001b[32m  0.008464\u001b[0m  |     0.784596  |             |  4.1s"
       ]
      },
      {
       "output_type": "stream",
       "stream": "stdout",
       "text": [
        "\n",
        "  1096  |  \u001b[94m  0.006531\u001b[0m  |    0.008500  |     0.768302  |             |  4.2s"
       ]
      },
      {
       "output_type": "stream",
       "stream": "stdout",
       "text": [
        "\n",
        "  1097  |    0.006623  |    0.008473  |     0.781617  |             |  4.2s"
       ]
      },
      {
       "output_type": "stream",
       "stream": "stdout",
       "text": [
        "\n",
        "  1098  |    0.006539  |    0.008477  |     0.771321  |             |  4.2s"
       ]
      },
      {
       "output_type": "stream",
       "stream": "stdout",
       "text": [
        "\n",
        "  1099  |    0.006590  |  \u001b[32m  0.008463\u001b[0m  |     0.778703  |             |  4.2s"
       ]
      },
      {
       "output_type": "stream",
       "stream": "stdout",
       "text": [
        "\n",
        "  1100  |    0.006537  |    0.008467  |     0.772085  |             |  4.2s"
       ]
      },
      {
       "output_type": "stream",
       "stream": "stdout",
       "text": [
        "\n",
        "  1101  |    0.006592  |    0.008471  |     0.778145  |             |  4.2s"
       ]
      },
      {
       "output_type": "stream",
       "stream": "stdout",
       "text": [
        "\n",
        "  1102  |    0.006571  |    0.008467  |     0.775978  |             |  4.2s"
       ]
      },
      {
       "output_type": "stream",
       "stream": "stdout",
       "text": [
        "\n",
        "  1103  |    0.006670  |  \u001b[32m  0.008453\u001b[0m  |     0.789154  |             |  4.2s"
       ]
      },
      {
       "output_type": "stream",
       "stream": "stdout",
       "text": [
        "\n",
        "  1104  |  \u001b[94m  0.006517\u001b[0m  |    0.008470  |     0.769333  |             |  4.2s"
       ]
      },
      {
       "output_type": "stream",
       "stream": "stdout",
       "text": [
        "\n",
        "  1105  |    0.006564  |    0.008466  |     0.775367  |             |  4.2s"
       ]
      },
      {
       "output_type": "stream",
       "stream": "stdout",
       "text": [
        "\n",
        "  1106  |    0.006576  |    0.008462  |     0.777095  |             |  4.2s"
       ]
      },
      {
       "output_type": "stream",
       "stream": "stdout",
       "text": [
        "\n",
        "  1107  |    0.006571  |    0.008467  |     0.776045  |             |  4.2s"
       ]
      },
      {
       "output_type": "stream",
       "stream": "stdout",
       "text": [
        "\n",
        "  1108  |    0.006559  |    0.008466  |     0.774787  |             |  4.2s"
       ]
      },
      {
       "output_type": "stream",
       "stream": "stdout",
       "text": [
        "\n",
        "  1109  |    0.006582  |    0.008461  |     0.777879  |             |  4.2s"
       ]
      },
      {
       "output_type": "stream",
       "stream": "stdout",
       "text": [
        "\n",
        "  1110  |  \u001b[94m  0.006501\u001b[0m  |    0.008466  |     0.767902  |             |  4.2s"
       ]
      },
      {
       "output_type": "stream",
       "stream": "stdout",
       "text": [
        "\n",
        "  1111  |  \u001b[94m  0.006485\u001b[0m  |  \u001b[32m  0.008442\u001b[0m  |     0.768162  |             |  4.2s"
       ]
      },
      {
       "output_type": "stream",
       "stream": "stdout",
       "text": [
        "\n",
        "  1112  |    0.006569  |    0.008447  |     0.777635  |             |  4.2s"
       ]
      },
      {
       "output_type": "stream",
       "stream": "stdout",
       "text": [
        "\n",
        "  1113  |  \u001b[94m  0.006443\u001b[0m  |  \u001b[32m  0.008425\u001b[0m  |     0.764718  |             |  4.2s"
       ]
      },
      {
       "output_type": "stream",
       "stream": "stdout",
       "text": [
        "\n",
        "  1114  |    0.006478  |    0.008431  |     0.768325  |             |  4.2s"
       ]
      },
      {
       "output_type": "stream",
       "stream": "stdout",
       "text": [
        "\n",
        "  1115  |    0.006510  |    0.008433  |     0.771954  |             |  4.2s"
       ]
      },
      {
       "output_type": "stream",
       "stream": "stdout",
       "text": [
        "\n",
        "  1116  |  \u001b[94m  0.006394\u001b[0m  |    0.008433  |     0.758165  |             |  4.2s"
       ]
      },
      {
       "output_type": "stream",
       "stream": "stdout",
       "text": [
        "\n",
        "  1117  |    0.006523  |    0.008434  |     0.773359  |             |  4.2s"
       ]
      },
      {
       "output_type": "stream",
       "stream": "stdout",
       "text": [
        "\n",
        "  1118  |    0.006498  |  \u001b[32m  0.008422\u001b[0m  |     0.771565  |             |  4.2s"
       ]
      },
      {
       "output_type": "stream",
       "stream": "stdout",
       "text": [
        "\n",
        "  1119  |    0.006421  |    0.008424  |     0.762262  |             |  4.2s"
       ]
      },
      {
       "output_type": "stream",
       "stream": "stdout",
       "text": [
        "\n",
        "  1120  |    0.006469  |    0.008440  |     0.766467  |             |  4.2s"
       ]
      },
      {
       "output_type": "stream",
       "stream": "stdout",
       "text": [
        "\n",
        "  1121  |    0.006434  |    0.008443  |     0.762081  |             |  4.2s"
       ]
      },
      {
       "output_type": "stream",
       "stream": "stdout",
       "text": [
        "\n",
        "  1122  |    0.006408  |  \u001b[32m  0.008421\u001b[0m  |     0.761020  |             |  4.2s"
       ]
      },
      {
       "output_type": "stream",
       "stream": "stdout",
       "text": [
        "\n",
        "  1123  |  \u001b[94m  0.006393\u001b[0m  |  \u001b[32m  0.008414\u001b[0m  |     0.759813  |             |  4.2s"
       ]
      },
      {
       "output_type": "stream",
       "stream": "stdout",
       "text": [
        "\n",
        "  1124  |    0.006397  |  \u001b[32m  0.008413\u001b[0m  |     0.760411  |             |  4.2s"
       ]
      },
      {
       "output_type": "stream",
       "stream": "stdout",
       "text": [
        "\n",
        "  1125  |    0.006406  |    0.008416  |     0.761127  |             |  4.2s"
       ]
      },
      {
       "output_type": "stream",
       "stream": "stdout",
       "text": [
        "\n",
        "  1126  |    0.006407  |  \u001b[32m  0.008403\u001b[0m  |     0.762392  |             |  4.2s"
       ]
      },
      {
       "output_type": "stream",
       "stream": "stdout",
       "text": [
        "\n",
        "  1127  |  \u001b[94m  0.006372\u001b[0m  |    0.008403  |     0.758320  |             |  4.2s"
       ]
      },
      {
       "output_type": "stream",
       "stream": "stdout",
       "text": [
        "\n",
        "  1128  |    0.006420  |    0.008424  |     0.762076  |             |  4.2s"
       ]
      },
      {
       "output_type": "stream",
       "stream": "stdout",
       "text": [
        "\n",
        "  1129  |    0.006398  |  \u001b[32m  0.008398\u001b[0m  |     0.761858  |             |  4.2s"
       ]
      },
      {
       "output_type": "stream",
       "stream": "stdout",
       "text": [
        "\n",
        "  1130  |    0.006430  |    0.008419  |     0.763706  |             |  4.2s"
       ]
      },
      {
       "output_type": "stream",
       "stream": "stdout",
       "text": [
        "\n",
        "  1131  |    0.006393  |    0.008414  |     0.759839  |             |  4.2s"
       ]
      },
      {
       "output_type": "stream",
       "stream": "stdout",
       "text": [
        "\n",
        "  1132  |  \u001b[94m  0.006348\u001b[0m  |  \u001b[32m  0.008388\u001b[0m  |     0.756744  |             |  4.2s"
       ]
      },
      {
       "output_type": "stream",
       "stream": "stdout",
       "text": [
        "\n",
        "  1133  |  \u001b[94m  0.006330\u001b[0m  |    0.008392  |     0.754343  |             |  4.2s"
       ]
      },
      {
       "output_type": "stream",
       "stream": "stdout",
       "text": [
        "\n",
        "  1134  |  \u001b[94m  0.006315\u001b[0m  |  \u001b[32m  0.008380\u001b[0m  |     0.753570  |             |  4.2s"
       ]
      },
      {
       "output_type": "stream",
       "stream": "stdout",
       "text": [
        "\n",
        "  1135  |    0.006355  |    0.008402  |     0.756389  |             |  4.2s"
       ]
      },
      {
       "output_type": "stream",
       "stream": "stdout",
       "text": [
        "\n",
        "  1136  |    0.006361  |    0.008406  |     0.756644  |             |  4.2s"
       ]
      },
      {
       "output_type": "stream",
       "stream": "stdout",
       "text": [
        "\n",
        "  1137  |  \u001b[94m  0.006262\u001b[0m  |    0.008398  |     0.745703  |             |  4.2s"
       ]
      },
      {
       "output_type": "stream",
       "stream": "stdout",
       "text": [
        "\n",
        "  1138  |    0.006389  |    0.008390  |     0.761529  |             |  4.2s"
       ]
      },
      {
       "output_type": "stream",
       "stream": "stdout",
       "text": [
        "\n",
        "  1139  |    0.006344  |    0.008384  |     0.756650  |             |  4.2s"
       ]
      },
      {
       "output_type": "stream",
       "stream": "stdout",
       "text": [
        "\n",
        "  1140  |    0.006306  |  \u001b[32m  0.008377\u001b[0m  |     0.752800  |             |  4.2s"
       ]
      },
      {
       "output_type": "stream",
       "stream": "stdout",
       "text": [
        "\n",
        "  1141  |  \u001b[94m  0.006248\u001b[0m  |    0.008383  |     0.745306  |             |  4.2s"
       ]
      },
      {
       "output_type": "stream",
       "stream": "stdout",
       "text": [
        "\n",
        "  1142  |    0.006332  |  \u001b[32m  0.008366\u001b[0m  |     0.756923  |             |  4.2s"
       ]
      },
      {
       "output_type": "stream",
       "stream": "stdout",
       "text": [
        "\n",
        "  1143  |    0.006341  |    0.008374  |     0.757271  |             |  4.2s"
       ]
      },
      {
       "output_type": "stream",
       "stream": "stdout",
       "text": [
        "\n",
        "  1144  |    0.006324  |  \u001b[32m  0.008362\u001b[0m  |     0.756339  |             |  4.2s"
       ]
      },
      {
       "output_type": "stream",
       "stream": "stdout",
       "text": [
        "\n",
        "  1145  |    0.006325  |    0.008373  |     0.755368  |             |  4.2s"
       ]
      },
      {
       "output_type": "stream",
       "stream": "stdout",
       "text": [
        "\n",
        "  1146  |  \u001b[94m  0.006233\u001b[0m  |  \u001b[32m  0.008353\u001b[0m  |     0.746183  |             |  4.2s"
       ]
      },
      {
       "output_type": "stream",
       "stream": "stdout",
       "text": [
        "\n",
        "  1147  |    0.006292  |  \u001b[32m  0.008348\u001b[0m  |     0.753650  |             |  4.2s"
       ]
      },
      {
       "output_type": "stream",
       "stream": "stdout",
       "text": [
        "\n",
        "  1148  |    0.006318  |    0.008353  |     0.756377  |             |  4.2s"
       ]
      },
      {
       "output_type": "stream",
       "stream": "stdout",
       "text": [
        "\n",
        "  1149  |    0.006277  |    0.008361  |     0.750709  |             |  4.2s"
       ]
      },
      {
       "output_type": "stream",
       "stream": "stdout",
       "text": [
        "\n",
        "  1150  |    0.006252  |    0.008361  |     0.747711  |             |  4.2s"
       ]
      },
      {
       "output_type": "stream",
       "stream": "stdout",
       "text": [
        "\n",
        "  1151  |  \u001b[94m  0.006197\u001b[0m  |    0.008354  |     0.741770  |             |  4.2s"
       ]
      },
      {
       "output_type": "stream",
       "stream": "stdout",
       "text": [
        "\n",
        "  1152  |    0.006199  |    0.008363  |     0.741264  |             |  4.2s"
       ]
      },
      {
       "output_type": "stream",
       "stream": "stdout",
       "text": [
        "\n",
        "  1153  |    0.006251  |    0.008350  |     0.748572  |             |  4.2s"
       ]
      },
      {
       "output_type": "stream",
       "stream": "stdout",
       "text": [
        "\n",
        "  1154  |  \u001b[94m  0.006197\u001b[0m  |    0.008374  |     0.740051  |             |  4.2s"
       ]
      },
      {
       "output_type": "stream",
       "stream": "stdout",
       "text": [
        "\n",
        "  1155  |    0.006295  |    0.008361  |     0.752883  |             |  4.2s"
       ]
      },
      {
       "output_type": "stream",
       "stream": "stdout",
       "text": [
        "\n",
        "  1156  |    0.006222  |    0.008353  |     0.744902  |             |  4.2s"
       ]
      },
      {
       "output_type": "stream",
       "stream": "stdout",
       "text": [
        "\n",
        "  1157  |  \u001b[94m  0.006174\u001b[0m  |    0.008353  |     0.739113  |             |  4.2s"
       ]
      },
      {
       "output_type": "stream",
       "stream": "stdout",
       "text": [
        "\n",
        "  1158  |    0.006259  |  \u001b[32m  0.008343\u001b[0m  |     0.750178  |             |  4.2s"
       ]
      },
      {
       "output_type": "stream",
       "stream": "stdout",
       "text": [
        "\n",
        "  1159  |    0.006258  |  \u001b[32m  0.008339\u001b[0m  |     0.750486  |             |  4.1s"
       ]
      },
      {
       "output_type": "stream",
       "stream": "stdout",
       "text": [
        "\n",
        "  1160  |    0.006208  |    0.008344  |     0.744027  |             |  4.2s"
       ]
      },
      {
       "output_type": "stream",
       "stream": "stdout",
       "text": [
        "\n",
        "  1161  |    0.006263  |  \u001b[32m  0.008332\u001b[0m  |     0.751647  |             |  4.2s"
       ]
      },
      {
       "output_type": "stream",
       "stream": "stdout",
       "text": [
        "\n",
        "  1162  |    0.006189  |  \u001b[32m  0.008332\u001b[0m  |     0.742824  |             |  4.2s"
       ]
      },
      {
       "output_type": "stream",
       "stream": "stdout",
       "text": [
        "\n",
        "  1163  |    0.006210  |    0.008340  |     0.744625  |             |  4.2s"
       ]
      },
      {
       "output_type": "stream",
       "stream": "stdout",
       "text": [
        "\n",
        "  1164  |    0.006186  |  \u001b[32m  0.008327\u001b[0m  |     0.742786  |             |  4.2s"
       ]
      },
      {
       "output_type": "stream",
       "stream": "stdout",
       "text": [
        "\n",
        "  1165  |  \u001b[94m  0.006159\u001b[0m  |    0.008345  |     0.738076  |             |  4.2s"
       ]
      },
      {
       "output_type": "stream",
       "stream": "stdout",
       "text": [
        "\n",
        "  1166  |  \u001b[94m  0.006140\u001b[0m  |    0.008343  |     0.735908  |             |  4.2s"
       ]
      },
      {
       "output_type": "stream",
       "stream": "stdout",
       "text": [
        "\n",
        "  1167  |    0.006213  |  \u001b[32m  0.008319\u001b[0m  |     0.746783  |             |  4.2s"
       ]
      },
      {
       "output_type": "stream",
       "stream": "stdout",
       "text": [
        "\n",
        "  1168  |    0.006165  |    0.008326  |     0.740458  |             |  4.2s"
       ]
      },
      {
       "output_type": "stream",
       "stream": "stdout",
       "text": [
        "\n",
        "  1169  |  \u001b[94m  0.006136\u001b[0m  |  \u001b[32m  0.008314\u001b[0m  |     0.738066  |             |  4.2s"
       ]
      },
      {
       "output_type": "stream",
       "stream": "stdout",
       "text": [
        "\n",
        "  1170  |  \u001b[94m  0.006107\u001b[0m  |    0.008324  |     0.733694  |             |  4.2s"
       ]
      },
      {
       "output_type": "stream",
       "stream": "stdout",
       "text": [
        "\n",
        "  1171  |    0.006146  |    0.008330  |     0.737817  |             |  4.2s"
       ]
      },
      {
       "output_type": "stream",
       "stream": "stdout",
       "text": [
        "\n",
        "  1172  |  \u001b[94m  0.006074\u001b[0m  |    0.008330  |     0.729117  |             |  4.2s"
       ]
      },
      {
       "output_type": "stream",
       "stream": "stdout",
       "text": [
        "\n",
        "  1173  |    0.006201  |  \u001b[32m  0.008310\u001b[0m  |     0.746168  |             |  4.2s"
       ]
      },
      {
       "output_type": "stream",
       "stream": "stdout",
       "text": [
        "\n",
        "  1174  |    0.006166  |    0.008310  |     0.741942  |             |  4.2s"
       ]
      },
      {
       "output_type": "stream",
       "stream": "stdout",
       "text": [
        "\n",
        "  1175  |    0.006076  |  \u001b[32m  0.008307\u001b[0m  |     0.731391  |             |  4.2s"
       ]
      },
      {
       "output_type": "stream",
       "stream": "stdout",
       "text": [
        "\n",
        "  1176  |    0.006179  |  \u001b[32m  0.008293\u001b[0m  |     0.745022  |             |  4.2s"
       ]
      },
      {
       "output_type": "stream",
       "stream": "stdout",
       "text": [
        "\n",
        "  1177  |  \u001b[94m  0.006061\u001b[0m  |    0.008324  |     0.728065  |             |  4.2s"
       ]
      },
      {
       "output_type": "stream",
       "stream": "stdout",
       "text": [
        "\n",
        "  1178  |    0.006138  |    0.008300  |     0.739518  |             |  4.2s"
       ]
      },
      {
       "output_type": "stream",
       "stream": "stdout",
       "text": [
        "\n",
        "  1179  |    0.006135  |    0.008304  |     0.738799  |             |  4.2s"
       ]
      },
      {
       "output_type": "stream",
       "stream": "stdout",
       "text": [
        "\n",
        "  1180  |    0.006135  |    0.008309  |     0.738331  |             |  4.2s"
       ]
      },
      {
       "output_type": "stream",
       "stream": "stdout",
       "text": [
        "\n",
        "  1181  |    0.006064  |    0.008318  |     0.729068  |             |  4.2s"
       ]
      },
      {
       "output_type": "stream",
       "stream": "stdout",
       "text": [
        "\n",
        "  1182  |    0.006139  |    0.008310  |     0.738687  |             |  4.2s"
       ]
      },
      {
       "output_type": "stream",
       "stream": "stdout",
       "text": [
        "\n",
        "  1183  |    0.006075  |    0.008315  |     0.730563  |             |  4.2s"
       ]
      },
      {
       "output_type": "stream",
       "stream": "stdout",
       "text": [
        "\n",
        "  1184  |    0.006117  |    0.008318  |     0.735393  |             |  4.2s"
       ]
      },
      {
       "output_type": "stream",
       "stream": "stdout",
       "text": [
        "\n",
        "  1185  |  \u001b[94m  0.005988\u001b[0m  |    0.008315  |     0.720086  |             |  4.2s"
       ]
      },
      {
       "output_type": "stream",
       "stream": "stdout",
       "text": [
        "\n",
        "  1186  |    0.006051  |    0.008302  |     0.728891  |             |  4.2s"
       ]
      },
      {
       "output_type": "stream",
       "stream": "stdout",
       "text": [
        "\n",
        "  1187  |    0.006093  |    0.008301  |     0.734024  |             |  4.2s"
       ]
      },
      {
       "output_type": "stream",
       "stream": "stdout",
       "text": [
        "\n",
        "  1188  |    0.006097  |    0.008299  |     0.734615  |             |  4.2s"
       ]
      },
      {
       "output_type": "stream",
       "stream": "stdout",
       "text": [
        "\n",
        "  1189  |    0.006119  |    0.008305  |     0.736767  |             |  4.2s"
       ]
      },
      {
       "output_type": "stream",
       "stream": "stdout",
       "text": [
        "\n",
        "  1190  |    0.006060  |    0.008301  |     0.730006  |             |  4.2s"
       ]
      },
      {
       "output_type": "stream",
       "stream": "stdout",
       "text": [
        "\n",
        "  1191  |    0.005996  |  \u001b[32m  0.008287\u001b[0m  |     0.723529  |             |  4.2s"
       ]
      },
      {
       "output_type": "stream",
       "stream": "stdout",
       "text": [
        "\n",
        "  1192  |    0.006026  |    0.008290  |     0.726915  |             |  4.2s"
       ]
      },
      {
       "output_type": "stream",
       "stream": "stdout",
       "text": [
        "\n",
        "  1193  |    0.005994  |  \u001b[32m  0.008287\u001b[0m  |     0.723304  |             |  4.2s"
       ]
      },
      {
       "output_type": "stream",
       "stream": "stdout",
       "text": [
        "\n",
        "  1194  |  \u001b[94m  0.005981\u001b[0m  |    0.008294  |     0.721114  |             |  4.2s"
       ]
      },
      {
       "output_type": "stream",
       "stream": "stdout",
       "text": [
        "\n",
        "  1195  |  \u001b[94m  0.005969\u001b[0m  |  \u001b[32m  0.008285\u001b[0m  |     0.720529  |             |  4.2s"
       ]
      },
      {
       "output_type": "stream",
       "stream": "stdout",
       "text": [
        "\n",
        "  1196  |  \u001b[94m  0.005935\u001b[0m  |  \u001b[32m  0.008253\u001b[0m  |     0.719125  |             |  4.2s"
       ]
      },
      {
       "output_type": "stream",
       "stream": "stdout",
       "text": [
        "\n",
        "  1197  |    0.005987  |    0.008261  |     0.724739  |             |  4.2s"
       ]
      },
      {
       "output_type": "stream",
       "stream": "stdout",
       "text": [
        "\n",
        "  1198  |  \u001b[94m  0.005906\u001b[0m  |    0.008287  |     0.712656  |             |  4.2s"
       ]
      },
      {
       "output_type": "stream",
       "stream": "stdout",
       "text": [
        "\n",
        "  1199  |    0.005973  |    0.008276  |     0.721746  |             |  4.2s"
       ]
      },
      {
       "output_type": "stream",
       "stream": "stdout",
       "text": [
        "\n",
        "  1200  |    0.005925  |    0.008272  |     0.716307  |             |  4.2s"
       ]
      },
      {
       "output_type": "stream",
       "stream": "stdout",
       "text": [
        "\n",
        "  1201  |    0.005980  |    0.008298  |     0.720635  |             |  4.2s"
       ]
      },
      {
       "output_type": "stream",
       "stream": "stdout",
       "text": [
        "\n",
        "  1202  |    0.005957  |    0.008277  |     0.719641  |             |  4.2s"
       ]
      },
      {
       "output_type": "stream",
       "stream": "stdout",
       "text": [
        "\n",
        "  1203  |    0.005959  |    0.008268  |     0.720724  |             |  4.2s"
       ]
      },
      {
       "output_type": "stream",
       "stream": "stdout",
       "text": [
        "\n",
        "  1204  |    0.005932  |    0.008266  |     0.717593  |             |  4.2s"
       ]
      },
      {
       "output_type": "stream",
       "stream": "stdout",
       "text": [
        "\n",
        "  1205  |    0.005943  |    0.008262  |     0.719331  |             |  4.2s"
       ]
      },
      {
       "output_type": "stream",
       "stream": "stdout",
       "text": [
        "\n",
        "  1206  |    0.005955  |    0.008265  |     0.720537  |             |  4.2s"
       ]
      },
      {
       "output_type": "stream",
       "stream": "stdout",
       "text": [
        "\n",
        "  1207  |    0.006007  |    0.008270  |     0.726446  |             |  4.2s"
       ]
      },
      {
       "output_type": "stream",
       "stream": "stdout",
       "text": [
        "\n",
        "  1208  |    0.005948  |    0.008262  |     0.719915  |             |  4.2s"
       ]
      },
      {
       "output_type": "stream",
       "stream": "stdout",
       "text": [
        "\n",
        "  1209  |    0.005933  |  \u001b[32m  0.008252\u001b[0m  |     0.718943  |             |  4.2s"
       ]
      },
      {
       "output_type": "stream",
       "stream": "stdout",
       "text": [
        "\n",
        "  1210  |  \u001b[94m  0.005892\u001b[0m  |  \u001b[32m  0.008248\u001b[0m  |     0.714395  |             |  4.2s"
       ]
      },
      {
       "output_type": "stream",
       "stream": "stdout",
       "text": [
        "\n",
        "  1211  |  \u001b[94m  0.005888\u001b[0m  |    0.008248  |     0.713782  |             |  4.2s"
       ]
      },
      {
       "output_type": "stream",
       "stream": "stdout",
       "text": [
        "\n",
        "  1212  |    0.005924  |    0.008251  |     0.717958  |             |  4.2s"
       ]
      },
      {
       "output_type": "stream",
       "stream": "stdout",
       "text": [
        "\n",
        "  1213  |  \u001b[94m  0.005839\u001b[0m  |    0.008260  |     0.706939  |             |  4.2s"
       ]
      },
      {
       "output_type": "stream",
       "stream": "stdout",
       "text": [
        "\n",
        "  1214  |    0.005843  |  \u001b[32m  0.008238\u001b[0m  |     0.709249  |             |  4.2s"
       ]
      },
      {
       "output_type": "stream",
       "stream": "stdout",
       "text": [
        "\n",
        "  1215  |    0.005933  |  \u001b[32m  0.008236\u001b[0m  |     0.720372  |             |  4.2s"
       ]
      },
      {
       "output_type": "stream",
       "stream": "stdout",
       "text": [
        "\n",
        "  1216  |    0.005926  |    0.008244  |     0.718801  |             |  4.2s"
       ]
      },
      {
       "output_type": "stream",
       "stream": "stdout",
       "text": [
        "\n",
        "  1217  |    0.005891  |    0.008250  |     0.714093  |             |  4.2s"
       ]
      },
      {
       "output_type": "stream",
       "stream": "stdout",
       "text": [
        "\n",
        "  1218  |    0.005896  |  \u001b[32m  0.008235\u001b[0m  |     0.716021  |             |  4.2s"
       ]
      },
      {
       "output_type": "stream",
       "stream": "stdout",
       "text": [
        "\n",
        "  1219  |    0.005874  |    0.008239  |     0.712955  |             |  4.2s"
       ]
      },
      {
       "output_type": "stream",
       "stream": "stdout",
       "text": [
        "\n",
        "  1220  |    0.005885  |    0.008237  |     0.714501  |             |  4.2s"
       ]
      },
      {
       "output_type": "stream",
       "stream": "stdout",
       "text": [
        "\n",
        "  1221  |    0.005881  |    0.008249  |     0.712987  |             |  4.2s"
       ]
      },
      {
       "output_type": "stream",
       "stream": "stdout",
       "text": [
        "\n",
        "  1222  |  \u001b[94m  0.005822\u001b[0m  |  \u001b[32m  0.008230\u001b[0m  |     0.707394  |             |  4.1s"
       ]
      },
      {
       "output_type": "stream",
       "stream": "stdout",
       "text": [
        "\n",
        "  1223  |    0.005895  |    0.008230  |     0.716263  |             |  4.2s"
       ]
      },
      {
       "output_type": "stream",
       "stream": "stdout",
       "text": [
        "\n",
        "  1224  |    0.005826  |  \u001b[32m  0.008229\u001b[0m  |     0.708000  |             |  4.2s"
       ]
      },
      {
       "output_type": "stream",
       "stream": "stdout",
       "text": [
        "\n",
        "  1225  |    0.005936  |  \u001b[32m  0.008228\u001b[0m  |     0.721454  |             |  4.2s"
       ]
      },
      {
       "output_type": "stream",
       "stream": "stdout",
       "text": [
        "\n",
        "  1226  |    0.005873  |  \u001b[32m  0.008211\u001b[0m  |     0.715222  |             |  4.2s"
       ]
      },
      {
       "output_type": "stream",
       "stream": "stdout",
       "text": [
        "\n",
        "  1227  |    0.005858  |    0.008219  |     0.712823  |             |  4.2s"
       ]
      },
      {
       "output_type": "stream",
       "stream": "stdout",
       "text": [
        "\n",
        "  1228  |  \u001b[94m  0.005813\u001b[0m  |  \u001b[32m  0.008206\u001b[0m  |     0.708406  |             |  4.2s"
       ]
      },
      {
       "output_type": "stream",
       "stream": "stdout",
       "text": [
        "\n",
        "  1229  |  \u001b[94m  0.005811\u001b[0m  |    0.008223  |     0.706659  |             |  4.1s"
       ]
      },
      {
       "output_type": "stream",
       "stream": "stdout",
       "text": [
        "\n",
        "  1230  |    0.005817  |    0.008217  |     0.707889  |             |  4.2s"
       ]
      },
      {
       "output_type": "stream",
       "stream": "stdout",
       "text": [
        "\n",
        "  1231  |    0.005897  |    0.008214  |     0.717927  |             |  4.2s"
       ]
      },
      {
       "output_type": "stream",
       "stream": "stdout",
       "text": [
        "\n",
        "  1232  |    0.005852  |    0.008223  |     0.711653  |             |  4.1s"
       ]
      },
      {
       "output_type": "stream",
       "stream": "stdout",
       "text": [
        "\n",
        "  1233  |    0.005823  |    0.008228  |     0.707741  |             |  4.1s"
       ]
      },
      {
       "output_type": "stream",
       "stream": "stdout",
       "text": [
        "\n",
        "  1234  |    0.005831  |    0.008221  |     0.709246  |             |  4.2s"
       ]
      },
      {
       "output_type": "stream",
       "stream": "stdout",
       "text": [
        "\n",
        "  1235  |  \u001b[94m  0.005773\u001b[0m  |    0.008224  |     0.702004  |             |  4.2s"
       ]
      },
      {
       "output_type": "stream",
       "stream": "stdout",
       "text": [
        "\n",
        "  1236  |    0.005785  |    0.008218  |     0.703927  |             |  4.2s"
       ]
      },
      {
       "output_type": "stream",
       "stream": "stdout",
       "text": [
        "\n",
        "  1237  |    0.005816  |    0.008234  |     0.706340  |             |  4.1s"
       ]
      },
      {
       "output_type": "stream",
       "stream": "stdout",
       "text": [
        "\n",
        "  1238  |  \u001b[94m  0.005737\u001b[0m  |    0.008215  |     0.698401  |             |  4.2s"
       ]
      },
      {
       "output_type": "stream",
       "stream": "stdout",
       "text": [
        "\n",
        "  1239  |    0.005762  |    0.008208  |     0.702006  |             |  4.2s"
       ]
      },
      {
       "output_type": "stream",
       "stream": "stdout",
       "text": [
        "\n",
        "  1240  |    0.005769  |    0.008206  |     0.703036  |             |  4.2s"
       ]
      },
      {
       "output_type": "stream",
       "stream": "stdout",
       "text": [
        "\n",
        "  1241  |  \u001b[94m  0.005729\u001b[0m  |    0.008226  |     0.696536  |             |  4.2s"
       ]
      },
      {
       "output_type": "stream",
       "stream": "stdout",
       "text": [
        "\n",
        "  1242  |    0.005777  |    0.008226  |     0.702347  |             |  4.2s"
       ]
      },
      {
       "output_type": "stream",
       "stream": "stdout",
       "text": [
        "\n",
        "  1243  |    0.005789  |  \u001b[32m  0.008195\u001b[0m  |     0.706323  |             |  4.2s"
       ]
      },
      {
       "output_type": "stream",
       "stream": "stdout",
       "text": [
        "\n",
        "  1244  |  \u001b[94m  0.005684\u001b[0m  |    0.008206  |     0.692655  |             |  4.2s"
       ]
      },
      {
       "output_type": "stream",
       "stream": "stdout",
       "text": [
        "\n",
        "  1245  |    0.005760  |    0.008205  |     0.702022  |             |  4.2s"
       ]
      },
      {
       "output_type": "stream",
       "stream": "stdout",
       "text": [
        "\n",
        "  1246  |  \u001b[94m  0.005677\u001b[0m  |    0.008217  |     0.690874  |             |  4.2s"
       ]
      },
      {
       "output_type": "stream",
       "stream": "stdout",
       "text": [
        "\n",
        "  1247  |    0.005760  |    0.008219  |     0.700797  |             |  4.2s"
       ]
      },
      {
       "output_type": "stream",
       "stream": "stdout",
       "text": [
        "\n",
        "  1248  |  \u001b[94m  0.005653\u001b[0m  |    0.008217  |     0.687996  |             |  4.2s"
       ]
      },
      {
       "output_type": "stream",
       "stream": "stdout",
       "text": [
        "\n",
        "  1249  |    0.005662  |    0.008226  |     0.688372  |             |  4.2s"
       ]
      },
      {
       "output_type": "stream",
       "stream": "stdout",
       "text": [
        "\n",
        "  1250  |    0.005692  |    0.008216  |     0.692784  |             |  4.2s"
       ]
      },
      {
       "output_type": "stream",
       "stream": "stdout",
       "text": [
        "\n",
        "  1251  |    0.005773  |  \u001b[32m  0.008192\u001b[0m  |     0.704724  |             |  4.2s"
       ]
      },
      {
       "output_type": "stream",
       "stream": "stdout",
       "text": [
        "\n",
        "  1252  |    0.005670  |    0.008204  |     0.691156  |             |  4.2s"
       ]
      },
      {
       "output_type": "stream",
       "stream": "stdout",
       "text": [
        "\n",
        "  1253  |    0.005669  |    0.008205  |     0.690908  |             |  4.2s"
       ]
      },
      {
       "output_type": "stream",
       "stream": "stdout",
       "text": [
        "\n",
        "  1254  |    0.005759  |    0.008193  |     0.702876  |             |  4.1s"
       ]
      },
      {
       "output_type": "stream",
       "stream": "stdout",
       "text": [
        "\n",
        "  1255  |    0.005686  |    0.008201  |     0.693386  |             |  4.2s"
       ]
      },
      {
       "output_type": "stream",
       "stream": "stdout",
       "text": [
        "\n",
        "  1256  |  \u001b[94m  0.005621\u001b[0m  |    0.008208  |     0.684877  |             |  4.2s"
       ]
      },
      {
       "output_type": "stream",
       "stream": "stdout",
       "text": [
        "\n",
        "  1257  |  \u001b[94m  0.005610\u001b[0m  |    0.008205  |     0.683678  |             |  4.2s"
       ]
      },
      {
       "output_type": "stream",
       "stream": "stdout",
       "text": [
        "\n",
        "  1258  |    0.005758  |  \u001b[32m  0.008189\u001b[0m  |     0.703150  |             |  4.1s"
       ]
      },
      {
       "output_type": "stream",
       "stream": "stdout",
       "text": [
        "\n",
        "  1259  |    0.005664  |  \u001b[32m  0.008177\u001b[0m  |     0.692669  |             |  4.2s"
       ]
      },
      {
       "output_type": "stream",
       "stream": "stdout",
       "text": [
        "\n",
        "  1260  |    0.005651  |    0.008196  |     0.689485  |             |  4.2s"
       ]
      },
      {
       "output_type": "stream",
       "stream": "stdout",
       "text": [
        "\n",
        "  1261  |    0.005617  |    0.008178  |     0.686800  |             |  4.2s"
       ]
      },
      {
       "output_type": "stream",
       "stream": "stdout",
       "text": [
        "\n",
        "  1262  |    0.005640  |    0.008190  |     0.688590  |             |  4.2s"
       ]
      },
      {
       "output_type": "stream",
       "stream": "stdout",
       "text": [
        "\n",
        "  1263  |    0.005668  |    0.008184  |     0.692633  |             |  4.2s"
       ]
      },
      {
       "output_type": "stream",
       "stream": "stdout",
       "text": [
        "\n",
        "  1264  |  \u001b[94m  0.005539\u001b[0m  |  \u001b[32m  0.008169\u001b[0m  |     0.678008  |             |  4.2s"
       ]
      },
      {
       "output_type": "stream",
       "stream": "stdout",
       "text": [
        "\n",
        "  1265  |    0.005691  |    0.008186  |     0.695213  |             |  4.2s"
       ]
      },
      {
       "output_type": "stream",
       "stream": "stdout",
       "text": [
        "\n",
        "  1266  |    0.005568  |    0.008180  |     0.680723  |             |  4.2s"
       ]
      },
      {
       "output_type": "stream",
       "stream": "stdout",
       "text": [
        "\n",
        "  1267  |    0.005664  |  \u001b[32m  0.008163\u001b[0m  |     0.693891  |             |  4.2s"
       ]
      },
      {
       "output_type": "stream",
       "stream": "stdout",
       "text": [
        "\n",
        "  1268  |    0.005599  |    0.008178  |     0.684667  |             |  4.2s"
       ]
      },
      {
       "output_type": "stream",
       "stream": "stdout",
       "text": [
        "\n",
        "  1269  |    0.005586  |    0.008175  |     0.683294  |             |  4.2s"
       ]
      },
      {
       "output_type": "stream",
       "stream": "stdout",
       "text": [
        "\n",
        "  1270  |    0.005586  |    0.008189  |     0.682132  |             |  4.2s"
       ]
      },
      {
       "output_type": "stream",
       "stream": "stdout",
       "text": [
        "\n",
        "  1271  |    0.005551  |    0.008178  |     0.678744  |             |  4.2s"
       ]
      },
      {
       "output_type": "stream",
       "stream": "stdout",
       "text": [
        "\n",
        "  1272  |    0.005606  |    0.008183  |     0.685015  |             |  4.2s"
       ]
      },
      {
       "output_type": "stream",
       "stream": "stdout",
       "text": [
        "\n",
        "  1273  |    0.005610  |    0.008176  |     0.686211  |             |  4.2s"
       ]
      },
      {
       "output_type": "stream",
       "stream": "stdout",
       "text": [
        "\n",
        "  1274  |    0.005592  |    0.008168  |     0.684629  |             |  4.2s"
       ]
      },
      {
       "output_type": "stream",
       "stream": "stdout",
       "text": [
        "\n",
        "  1275  |    0.005636  |    0.008175  |     0.689495  |             |  4.2s"
       ]
      },
      {
       "output_type": "stream",
       "stream": "stdout",
       "text": [
        "\n",
        "  1276  |    0.005580  |    0.008163  |     0.683613  |             |  4.2s"
       ]
      },
      {
       "output_type": "stream",
       "stream": "stdout",
       "text": [
        "\n",
        "  1277  |    0.005553  |    0.008171  |     0.679567  |             |  4.2s"
       ]
      },
      {
       "output_type": "stream",
       "stream": "stdout",
       "text": [
        "\n",
        "  1278  |    0.005568  |    0.008164  |     0.682045  |             |  4.2s"
       ]
      },
      {
       "output_type": "stream",
       "stream": "stdout",
       "text": [
        "\n",
        "  1279  |    0.005574  |    0.008176  |     0.681726  |             |  4.2s"
       ]
      },
      {
       "output_type": "stream",
       "stream": "stdout",
       "text": [
        "\n",
        "  1280  |    0.005539  |  \u001b[32m  0.008157\u001b[0m  |     0.679078  |             |  4.2s"
       ]
      },
      {
       "output_type": "stream",
       "stream": "stdout",
       "text": [
        "\n",
        "  1281  |  \u001b[94m  0.005534\u001b[0m  |  \u001b[32m  0.008157\u001b[0m  |     0.678458  |             |  4.2s"
       ]
      },
      {
       "output_type": "stream",
       "stream": "stdout",
       "text": [
        "\n",
        "  1282  |    0.005547  |    0.008164  |     0.679417  |             |  4.2s"
       ]
      },
      {
       "output_type": "stream",
       "stream": "stdout",
       "text": [
        "\n",
        "  1283  |  \u001b[94m  0.005475\u001b[0m  |    0.008159  |     0.671089  |             |  4.2s"
       ]
      },
      {
       "output_type": "stream",
       "stream": "stdout",
       "text": [
        "\n",
        "  1284  |    0.005570  |  \u001b[32m  0.008156\u001b[0m  |     0.682986  |             |  4.2s"
       ]
      },
      {
       "output_type": "stream",
       "stream": "stdout",
       "text": [
        "\n",
        "  1285  |  \u001b[94m  0.005472\u001b[0m  |  \u001b[32m  0.008144\u001b[0m  |     0.671940  |             |  4.2s"
       ]
      },
      {
       "output_type": "stream",
       "stream": "stdout",
       "text": [
        "\n",
        "  1286  |    0.005622  |  \u001b[32m  0.008142\u001b[0m  |     0.690427  |             |  4.2s"
       ]
      },
      {
       "output_type": "stream",
       "stream": "stdout",
       "text": [
        "\n",
        "  1287  |    0.005574  |  \u001b[32m  0.008128\u001b[0m  |     0.685792  |             |  4.2s"
       ]
      },
      {
       "output_type": "stream",
       "stream": "stdout",
       "text": [
        "\n",
        "  1288  |    0.005573  |    0.008141  |     0.684576  |             |  4.2s"
       ]
      },
      {
       "output_type": "stream",
       "stream": "stdout",
       "text": [
        "\n",
        "  1289  |    0.005472  |    0.008144  |     0.671973  |             |  4.2s"
       ]
      },
      {
       "output_type": "stream",
       "stream": "stdout",
       "text": [
        "\n",
        "  1290  |  \u001b[94m  0.005462\u001b[0m  |    0.008133  |     0.671638  |             |  4.2s"
       ]
      },
      {
       "output_type": "stream",
       "stream": "stdout",
       "text": [
        "\n",
        "  1291  |    0.005479  |    0.008139  |     0.673158  |             |  4.2s"
       ]
      },
      {
       "output_type": "stream",
       "stream": "stdout",
       "text": [
        "\n",
        "  1292  |    0.005562  |    0.008138  |     0.683424  |             |  4.2s"
       ]
      },
      {
       "output_type": "stream",
       "stream": "stdout",
       "text": [
        "\n",
        "  1293  |  \u001b[94m  0.005440\u001b[0m  |    0.008144  |     0.667940  |             |  4.2s"
       ]
      },
      {
       "output_type": "stream",
       "stream": "stdout",
       "text": [
        "\n",
        "  1294  |    0.005487  |    0.008134  |     0.674576  |             |  4.2s"
       ]
      },
      {
       "output_type": "stream",
       "stream": "stdout",
       "text": [
        "\n",
        "  1295  |    0.005553  |    0.008134  |     0.682627  |             |  4.2s"
       ]
      },
      {
       "output_type": "stream",
       "stream": "stdout",
       "text": [
        "\n",
        "  1296  |    0.005458  |    0.008142  |     0.670376  |             |  4.2s"
       ]
      },
      {
       "output_type": "stream",
       "stream": "stdout",
       "text": [
        "\n",
        "  1297  |    0.005469  |    0.008132  |     0.672543  |             |  4.2s"
       ]
      },
      {
       "output_type": "stream",
       "stream": "stdout",
       "text": [
        "\n",
        "  1298  |  \u001b[94m  0.005403\u001b[0m  |    0.008141  |     0.663592  |             |  4.2s"
       ]
      },
      {
       "output_type": "stream",
       "stream": "stdout",
       "text": [
        "\n",
        "  1299  |    0.005503  |    0.008133  |     0.676683  |             |  4.1s"
       ]
      },
      {
       "output_type": "stream",
       "stream": "stdout",
       "text": [
        "\n",
        "  1300  |    0.005438  |    0.008130  |     0.668842  |             |  4.1s"
       ]
      },
      {
       "output_type": "stream",
       "stream": "stdout",
       "text": [
        "\n",
        "  1301  |    0.005466  |    0.008148  |     0.670820  |             |  4.2s"
       ]
      },
      {
       "output_type": "stream",
       "stream": "stdout",
       "text": [
        "\n",
        "  1302  |    0.005466  |    0.008152  |     0.670503  |             |  4.1s"
       ]
      },
      {
       "output_type": "stream",
       "stream": "stdout",
       "text": [
        "\n",
        "  1303  |    0.005449  |    0.008154  |     0.668207  |             |  4.2s"
       ]
      },
      {
       "output_type": "stream",
       "stream": "stdout",
       "text": [
        "\n",
        "  1304  |  \u001b[94m  0.005373\u001b[0m  |    0.008142  |     0.659935  |             |  4.2s"
       ]
      },
      {
       "output_type": "stream",
       "stream": "stdout",
       "text": [
        "\n",
        "  1305  |    0.005395  |    0.008163  |     0.660846  |             |  4.2s"
       ]
      },
      {
       "output_type": "stream",
       "stream": "stdout",
       "text": [
        "\n",
        "  1306  |    0.005476  |    0.008132  |     0.673468  |             |  4.2s"
       ]
      },
      {
       "output_type": "stream",
       "stream": "stdout",
       "text": [
        "\n",
        "  1307  |    0.005380  |    0.008137  |     0.661233  |             |  4.2s"
       ]
      },
      {
       "output_type": "stream",
       "stream": "stdout",
       "text": [
        "\n",
        "  1308  |    0.005460  |  \u001b[32m  0.008127\u001b[0m  |     0.671842  |             |  4.2s"
       ]
      },
      {
       "output_type": "stream",
       "stream": "stdout",
       "text": [
        "\n",
        "  1309  |  \u001b[94m  0.005362\u001b[0m  |  \u001b[32m  0.008117\u001b[0m  |     0.660521  |             |  4.2s"
       ]
      },
      {
       "output_type": "stream",
       "stream": "stdout",
       "text": [
        "\n",
        "  1310  |    0.005376  |    0.008125  |     0.661708  |             |  4.2s"
       ]
      },
      {
       "output_type": "stream",
       "stream": "stdout",
       "text": [
        "\n",
        "  1311  |    0.005392  |    0.008132  |     0.662999  |             |  4.2s"
       ]
      },
      {
       "output_type": "stream",
       "stream": "stdout",
       "text": [
        "\n",
        "  1312  |    0.005402  |    0.008144  |     0.663330  |             |  4.2s"
       ]
      },
      {
       "output_type": "stream",
       "stream": "stdout",
       "text": [
        "\n",
        "  1313  |  \u001b[94m  0.005277\u001b[0m  |    0.008123  |     0.649631  |             |  4.2s"
       ]
      },
      {
       "output_type": "stream",
       "stream": "stdout",
       "text": [
        "\n",
        "  1314  |    0.005390  |    0.008128  |     0.663157  |             |  4.2s"
       ]
      },
      {
       "output_type": "stream",
       "stream": "stdout",
       "text": [
        "\n",
        "  1315  |    0.005498  |    0.008127  |     0.676491  |             |  4.2s"
       ]
      },
      {
       "output_type": "stream",
       "stream": "stdout",
       "text": [
        "\n",
        "  1316  |    0.005378  |    0.008133  |     0.661198  |             |  4.2s"
       ]
      },
      {
       "output_type": "stream",
       "stream": "stdout",
       "text": [
        "\n",
        "  1317  |    0.005361  |  \u001b[32m  0.008117\u001b[0m  |     0.660533  |             |  4.2s"
       ]
      },
      {
       "output_type": "stream",
       "stream": "stdout",
       "text": [
        "\n",
        "  1318  |    0.005407  |    0.008142  |     0.664050  |             |  4.2s"
       ]
      },
      {
       "output_type": "stream",
       "stream": "stdout",
       "text": [
        "\n",
        "  1319  |    0.005396  |    0.008143  |     0.662704  |             |  4.2s"
       ]
      },
      {
       "output_type": "stream",
       "stream": "stdout",
       "text": [
        "\n",
        "  1320  |    0.005296  |    0.008130  |     0.651465  |             |  4.2s"
       ]
      },
      {
       "output_type": "stream",
       "stream": "stdout",
       "text": [
        "\n",
        "  1321  |    0.005294  |    0.008135  |     0.650816  |             |  4.2s"
       ]
      },
      {
       "output_type": "stream",
       "stream": "stdout",
       "text": [
        "\n",
        "  1322  |    0.005301  |    0.008119  |     0.652908  |             |  4.2s"
       ]
      },
      {
       "output_type": "stream",
       "stream": "stdout",
       "text": [
        "\n",
        "  1323  |    0.005326  |    0.008120  |     0.655954  |             |  4.2s"
       ]
      },
      {
       "output_type": "stream",
       "stream": "stdout",
       "text": [
        "\n",
        "  1324  |    0.005296  |  \u001b[32m  0.008115\u001b[0m  |     0.652596  |             |  4.2s"
       ]
      },
      {
       "output_type": "stream",
       "stream": "stdout",
       "text": [
        "\n",
        "  1325  |    0.005339  |  \u001b[32m  0.008108\u001b[0m  |     0.658552  |             |  4.2s"
       ]
      },
      {
       "output_type": "stream",
       "stream": "stdout",
       "text": [
        "\n",
        "  1326  |    0.005327  |  \u001b[32m  0.008101\u001b[0m  |     0.657554  |             |  4.1s"
       ]
      },
      {
       "output_type": "stream",
       "stream": "stdout",
       "text": [
        "\n",
        "  1327  |    0.005310  |  \u001b[32m  0.008093\u001b[0m  |     0.656160  |             |  4.2s"
       ]
      },
      {
       "output_type": "stream",
       "stream": "stdout",
       "text": [
        "\n",
        "  1328  |  \u001b[94m  0.005273\u001b[0m  |    0.008117  |     0.649650  |             |  4.2s"
       ]
      },
      {
       "output_type": "stream",
       "stream": "stdout",
       "text": [
        "\n",
        "  1329  |    0.005367  |    0.008107  |     0.662063  |             |  4.2s"
       ]
      },
      {
       "output_type": "stream",
       "stream": "stdout",
       "text": [
        "\n",
        "  1330  |    0.005293  |  \u001b[32m  0.008088\u001b[0m  |     0.654433  |             |  4.2s"
       ]
      },
      {
       "output_type": "stream",
       "stream": "stdout",
       "text": [
        "\n",
        "  1331  |    0.005302  |  \u001b[32m  0.008085\u001b[0m  |     0.655806  |             |  4.2s"
       ]
      },
      {
       "output_type": "stream",
       "stream": "stdout",
       "text": [
        "\n",
        "  1332  |    0.005307  |    0.008101  |     0.655129  |             |  4.2s"
       ]
      },
      {
       "output_type": "stream",
       "stream": "stdout",
       "text": [
        "\n",
        "  1333  |    0.005303  |    0.008112  |     0.653722  |             |  4.2s"
       ]
      },
      {
       "output_type": "stream",
       "stream": "stdout",
       "text": [
        "\n",
        "  1334  |  \u001b[94m  0.005242\u001b[0m  |    0.008115  |     0.645983  |             |  4.2s"
       ]
      },
      {
       "output_type": "stream",
       "stream": "stdout",
       "text": [
        "\n",
        "  1335  |  \u001b[94m  0.005229\u001b[0m  |    0.008109  |     0.644784  |             |  4.2s"
       ]
      },
      {
       "output_type": "stream",
       "stream": "stdout",
       "text": [
        "\n",
        "  1336  |    0.005324  |    0.008099  |     0.657327  |             |  4.2s"
       ]
      },
      {
       "output_type": "stream",
       "stream": "stdout",
       "text": [
        "\n",
        "  1337  |    0.005373  |    0.008121  |     0.661605  |             |  4.2s"
       ]
      },
      {
       "output_type": "stream",
       "stream": "stdout",
       "text": [
        "\n",
        "  1338  |    0.005259  |    0.008102  |     0.649030  |             |  4.2s"
       ]
      },
      {
       "output_type": "stream",
       "stream": "stdout",
       "text": [
        "\n",
        "  1339  |    0.005231  |    0.008124  |     0.643872  |             |  4.2s"
       ]
      },
      {
       "output_type": "stream",
       "stream": "stdout",
       "text": [
        "\n",
        "  1340  |    0.005287  |    0.008096  |     0.653052  |             |  4.1s"
       ]
      },
      {
       "output_type": "stream",
       "stream": "stdout",
       "text": [
        "\n",
        "  1341  |    0.005246  |    0.008098  |     0.647784  |             |  4.2s"
       ]
      },
      {
       "output_type": "stream",
       "stream": "stdout",
       "text": [
        "\n",
        "  1342  |    0.005240  |    0.008100  |     0.646965  |             |  4.2s"
       ]
      },
      {
       "output_type": "stream",
       "stream": "stdout",
       "text": [
        "\n",
        "  1343  |    0.005255  |    0.008098  |     0.648930  |             |  4.2s"
       ]
      },
      {
       "output_type": "stream",
       "stream": "stdout",
       "text": [
        "\n",
        "  1344  |    0.005253  |    0.008096  |     0.648840  |             |  4.2s"
       ]
      },
      {
       "output_type": "stream",
       "stream": "stdout",
       "text": [
        "\n",
        "  1345  |  \u001b[94m  0.005210\u001b[0m  |    0.008094  |     0.643700  |             |  4.2s"
       ]
      },
      {
       "output_type": "stream",
       "stream": "stdout",
       "text": [
        "\n",
        "  1346  |    0.005284  |    0.008114  |     0.651232  |             |  4.2s"
       ]
      },
      {
       "output_type": "stream",
       "stream": "stdout",
       "text": [
        "\n",
        "  1347  |    0.005236  |    0.008100  |     0.646455  |             |  4.2s"
       ]
      },
      {
       "output_type": "stream",
       "stream": "stdout",
       "text": [
        "\n",
        "  1348  |    0.005227  |    0.008099  |     0.645448  |             |  4.2s"
       ]
      },
      {
       "output_type": "stream",
       "stream": "stdout",
       "text": [
        "\n",
        "  1349  |  \u001b[94m  0.005164\u001b[0m  |    0.008107  |     0.636985  |             |  4.2s"
       ]
      },
      {
       "output_type": "stream",
       "stream": "stdout",
       "text": [
        "\n",
        "  1350  |    0.005183  |    0.008094  |     0.640304  |             |  4.2s"
       ]
      },
      {
       "output_type": "stream",
       "stream": "stdout",
       "text": [
        "\n",
        "  1351  |    0.005198  |    0.008120  |     0.640120  |             |  4.2s"
       ]
      },
      {
       "output_type": "stream",
       "stream": "stdout",
       "text": [
        "\n",
        "  1352  |    0.005209  |    0.008113  |     0.642036  |             |  4.2s"
       ]
      },
      {
       "output_type": "stream",
       "stream": "stdout",
       "text": [
        "\n",
        "  1353  |    0.005206  |    0.008103  |     0.642426  |             |  4.2s"
       ]
      },
      {
       "output_type": "stream",
       "stream": "stdout",
       "text": [
        "\n",
        "  1354  |    0.005199  |    0.008089  |     0.642724  |             |  4.2s"
       ]
      },
      {
       "output_type": "stream",
       "stream": "stdout",
       "text": [
        "\n",
        "  1355  |    0.005216  |    0.008115  |     0.642683  |             |  4.2s"
       ]
      },
      {
       "output_type": "stream",
       "stream": "stdout",
       "text": [
        "\n",
        "  1356  |    0.005223  |    0.008103  |     0.644541  |             |  4.2s"
       ]
      },
      {
       "output_type": "stream",
       "stream": "stdout",
       "text": [
        "\n",
        "  1357  |  \u001b[94m  0.005082\u001b[0m  |    0.008090  |     0.628277  |             |  4.2s"
       ]
      },
      {
       "output_type": "stream",
       "stream": "stdout",
       "text": [
        "\n",
        "  1358  |    0.005208  |    0.008100  |     0.642954  |             |  4.2s"
       ]
      },
      {
       "output_type": "stream",
       "stream": "stdout",
       "text": [
        "\n",
        "  1359  |    0.005134  |    0.008097  |     0.634115  |             |  4.2s"
       ]
      },
      {
       "output_type": "stream",
       "stream": "stdout",
       "text": [
        "\n",
        "  1360  |    0.005238  |    0.008093  |     0.647226  |             |  4.2s"
       ]
      },
      {
       "output_type": "stream",
       "stream": "stdout",
       "text": [
        "\n",
        "  1361  |    0.005157  |    0.008087  |     0.637645  |             |  4.2s"
       ]
      },
      {
       "output_type": "stream",
       "stream": "stdout",
       "text": [
        "\n",
        "  1362  |    0.005208  |    0.008085  |     0.644158  |             |  4.2s"
       ]
      },
      {
       "output_type": "stream",
       "stream": "stdout",
       "text": [
        "\n",
        "  1363  |    0.005164  |  \u001b[32m  0.008061\u001b[0m  |     0.640601  |             |  4.2s"
       ]
      },
      {
       "output_type": "stream",
       "stream": "stdout",
       "text": [
        "\n",
        "  1364  |    0.005097  |    0.008066  |     0.631853  |             |  4.2s"
       ]
      },
      {
       "output_type": "stream",
       "stream": "stdout",
       "text": [
        "\n",
        "  1365  |    0.005178  |    0.008095  |     0.639710  |             |  4.2s"
       ]
      },
      {
       "output_type": "stream",
       "stream": "stdout",
       "text": [
        "\n",
        "  1366  |    0.005161  |    0.008091  |     0.637835  |             |  4.2s"
       ]
      },
      {
       "output_type": "stream",
       "stream": "stdout",
       "text": [
        "\n",
        "  1367  |    0.005183  |    0.008074  |     0.641934  |             |  4.2s"
       ]
      },
      {
       "output_type": "stream",
       "stream": "stdout",
       "text": [
        "\n",
        "  1368  |    0.005116  |    0.008082  |     0.633066  |             |  4.2s"
       ]
      },
      {
       "output_type": "stream",
       "stream": "stdout",
       "text": [
        "\n",
        "  1369  |    0.005118  |    0.008096  |     0.632144  |             |  4.2s"
       ]
      },
      {
       "output_type": "stream",
       "stream": "stdout",
       "text": [
        "\n",
        "  1370  |    0.005146  |    0.008088  |     0.636298  |             |  4.2s"
       ]
      },
      {
       "output_type": "stream",
       "stream": "stdout",
       "text": [
        "\n",
        "  1371  |    0.005144  |    0.008088  |     0.636034  |             |  4.2s"
       ]
      },
      {
       "output_type": "stream",
       "stream": "stdout",
       "text": [
        "\n",
        "  1372  |    0.005112  |    0.008084  |     0.632284  |             |  4.2s"
       ]
      },
      {
       "output_type": "stream",
       "stream": "stdout",
       "text": [
        "\n",
        "  1373  |  \u001b[94m  0.005081\u001b[0m  |    0.008082  |     0.628608  |             |  4.2s"
       ]
      },
      {
       "output_type": "stream",
       "stream": "stdout",
       "text": [
        "\n",
        "  1374  |  \u001b[94m  0.005049\u001b[0m  |    0.008084  |     0.624630  |             |  4.2s"
       ]
      },
      {
       "output_type": "stream",
       "stream": "stdout",
       "text": [
        "\n",
        "  1375  |    0.005130  |    0.008081  |     0.634827  |             |  4.2s"
       ]
      },
      {
       "output_type": "stream",
       "stream": "stdout",
       "text": [
        "\n",
        "  1376  |    0.005122  |    0.008084  |     0.633557  |             |  4.2s"
       ]
      },
      {
       "output_type": "stream",
       "stream": "stdout",
       "text": [
        "\n",
        "  1377  |    0.005094  |    0.008077  |     0.630761  |             |  4.2s"
       ]
      },
      {
       "output_type": "stream",
       "stream": "stdout",
       "text": [
        "\n",
        "  1378  |    0.005123  |    0.008077  |     0.634255  |             |  4.2s"
       ]
      },
      {
       "output_type": "stream",
       "stream": "stdout",
       "text": [
        "\n",
        "  1379  |    0.005136  |    0.008076  |     0.635915  |             |  4.2s"
       ]
      },
      {
       "output_type": "stream",
       "stream": "stdout",
       "text": [
        "\n",
        "  1380  |    0.005101  |    0.008074  |     0.631802  |             |  4.2s"
       ]
      },
      {
       "output_type": "stream",
       "stream": "stdout",
       "text": [
        "\n",
        "  1381  |    0.005095  |    0.008081  |     0.630457  |             |  4.2s"
       ]
      },
      {
       "output_type": "stream",
       "stream": "stdout",
       "text": [
        "\n",
        "  1382  |  \u001b[94m  0.005015\u001b[0m  |    0.008093  |     0.619733  |             |  4.2s"
       ]
      },
      {
       "output_type": "stream",
       "stream": "stdout",
       "text": [
        "\n",
        "  1383  |    0.005067  |    0.008075  |     0.627449  |             |  4.2s"
       ]
      },
      {
       "output_type": "stream",
       "stream": "stdout",
       "text": [
        "\n",
        "  1384  |    0.005070  |    0.008064  |     0.628753  |             |  4.2s"
       ]
      },
      {
       "output_type": "stream",
       "stream": "stdout",
       "text": [
        "\n",
        "  1385  |  \u001b[94m  0.004975\u001b[0m  |    0.008064  |     0.616926  |             |  4.2s"
       ]
      },
      {
       "output_type": "stream",
       "stream": "stdout",
       "text": [
        "\n",
        "  1386  |    0.005044  |    0.008077  |     0.624495  |             |  4.2s"
       ]
      },
      {
       "output_type": "stream",
       "stream": "stdout",
       "text": [
        "\n",
        "  1387  |    0.005096  |  \u001b[32m  0.008058\u001b[0m  |     0.632352  |             |  4.2s"
       ]
      },
      {
       "output_type": "stream",
       "stream": "stdout",
       "text": [
        "\n",
        "  1388  |    0.005018  |    0.008061  |     0.622496  |             |  4.2s"
       ]
      },
      {
       "output_type": "stream",
       "stream": "stdout",
       "text": [
        "\n",
        "  1389  |    0.005095  |  \u001b[32m  0.008057\u001b[0m  |     0.632352  |             |  4.2s"
       ]
      },
      {
       "output_type": "stream",
       "stream": "stdout",
       "text": [
        "\n",
        "  1390  |    0.004985  |    0.008062  |     0.618287  |             |  4.2s"
       ]
      },
      {
       "output_type": "stream",
       "stream": "stdout",
       "text": [
        "\n",
        "  1391  |    0.005018  |    0.008073  |     0.621568  |             |  4.2s"
       ]
      },
      {
       "output_type": "stream",
       "stream": "stdout",
       "text": [
        "\n",
        "  1392  |    0.005069  |    0.008065  |     0.628503  |             |  4.2s"
       ]
      },
      {
       "output_type": "stream",
       "stream": "stdout",
       "text": [
        "\n",
        "  1393  |    0.005000  |    0.008065  |     0.619943  |             |  4.2s"
       ]
      },
      {
       "output_type": "stream",
       "stream": "stdout",
       "text": [
        "\n",
        "  1394  |    0.004993  |    0.008079  |     0.618058  |             |  4.2s"
       ]
      },
      {
       "output_type": "stream",
       "stream": "stdout",
       "text": [
        "\n",
        "  1395  |    0.004995  |    0.008071  |     0.618848  |             |  4.2s"
       ]
      },
      {
       "output_type": "stream",
       "stream": "stdout",
       "text": [
        "\n",
        "  1396  |    0.005035  |    0.008071  |     0.623898  |             |  4.2s"
       ]
      },
      {
       "output_type": "stream",
       "stream": "stdout",
       "text": [
        "\n",
        "  1397  |    0.005076  |    0.008065  |     0.629392  |             |  4.2s"
       ]
      },
      {
       "output_type": "stream",
       "stream": "stdout",
       "text": [
        "\n",
        "  1398  |    0.005018  |    0.008062  |     0.622387  |             |  4.2s"
       ]
      },
      {
       "output_type": "stream",
       "stream": "stdout",
       "text": [
        "\n",
        "  1399  |    0.004985  |    0.008065  |     0.618089  |             |  4.2s"
       ]
      },
      {
       "output_type": "stream",
       "stream": "stdout",
       "text": [
        "\n",
        "  1400  |  \u001b[94m  0.004951\u001b[0m  |  \u001b[32m  0.008057\u001b[0m  |     0.614548  |             |  4.2s"
       ]
      },
      {
       "output_type": "stream",
       "stream": "stdout",
       "text": [
        "\n",
        "  1401  |  \u001b[94m  0.004944\u001b[0m  |  \u001b[32m  0.008053\u001b[0m  |     0.613987  |             |  4.2s"
       ]
      },
      {
       "output_type": "stream",
       "stream": "stdout",
       "text": [
        "\n",
        "  1402  |    0.004987  |    0.008056  |     0.619065  |             |  4.2s"
       ]
      },
      {
       "output_type": "stream",
       "stream": "stdout",
       "text": [
        "\n",
        "  1403  |    0.005009  |  \u001b[32m  0.008037\u001b[0m  |     0.623248  |             |  4.2s"
       ]
      },
      {
       "output_type": "stream",
       "stream": "stdout",
       "text": [
        "\n",
        "  1404  |    0.005015  |    0.008058  |     0.622294  |             |  4.2s"
       ]
      },
      {
       "output_type": "stream",
       "stream": "stdout",
       "text": [
        "\n",
        "  1405  |    0.004978  |    0.008044  |     0.618807  |             |  4.2s"
       ]
      },
      {
       "output_type": "stream",
       "stream": "stdout",
       "text": [
        "\n",
        "  1406  |    0.004952  |    0.008038  |     0.616076  |             |  4.2s"
       ]
      },
      {
       "output_type": "stream",
       "stream": "stdout",
       "text": [
        "\n",
        "  1407  |    0.005003  |    0.008048  |     0.621682  |             |  4.2s"
       ]
      },
      {
       "output_type": "stream",
       "stream": "stdout",
       "text": [
        "\n",
        "  1408  |  \u001b[94m  0.004894\u001b[0m  |    0.008043  |     0.608458  |             |  4.2s"
       ]
      },
      {
       "output_type": "stream",
       "stream": "stdout",
       "text": [
        "\n",
        "  1409  |    0.004992  |  \u001b[32m  0.008036\u001b[0m  |     0.621203  |             |  4.2s"
       ]
      },
      {
       "output_type": "stream",
       "stream": "stdout",
       "text": [
        "\n",
        "  1410  |    0.005015  |    0.008052  |     0.622791  |             |  4.1s"
       ]
      },
      {
       "output_type": "stream",
       "stream": "stdout",
       "text": [
        "\n",
        "  1411  |  \u001b[94m  0.004887\u001b[0m  |    0.008039  |     0.607880  |             |  4.2s"
       ]
      },
      {
       "output_type": "stream",
       "stream": "stdout",
       "text": [
        "\n",
        "  1412  |    0.004894  |    0.008038  |     0.608900  |             |  4.2s"
       ]
      },
      {
       "output_type": "stream",
       "stream": "stdout",
       "text": [
        "\n",
        "  1413  |  \u001b[94m  0.004879\u001b[0m  |    0.008047  |     0.606345  |             |  4.2s"
       ]
      },
      {
       "output_type": "stream",
       "stream": "stdout",
       "text": [
        "\n",
        "  1414  |    0.004962  |    0.008048  |     0.616543  |             |  4.2s"
       ]
      },
      {
       "output_type": "stream",
       "stream": "stdout",
       "text": [
        "\n",
        "  1415  |    0.004983  |    0.008042  |     0.619621  |             |  4.2s"
       ]
      },
      {
       "output_type": "stream",
       "stream": "stdout",
       "text": [
        "\n",
        "  1416  |    0.004951  |    0.008042  |     0.615663  |             |  4.2s"
       ]
      },
      {
       "output_type": "stream",
       "stream": "stdout",
       "text": [
        "\n",
        "  1417  |    0.004991  |  \u001b[32m  0.008028\u001b[0m  |     0.621750  |             |  4.2s"
       ]
      },
      {
       "output_type": "stream",
       "stream": "stdout",
       "text": [
        "\n",
        "  1418  |  \u001b[94m  0.004842\u001b[0m  |    0.008038  |     0.602408  |             |  4.2s"
       ]
      },
      {
       "output_type": "stream",
       "stream": "stdout",
       "text": [
        "\n",
        "  1419  |    0.004870  |    0.008032  |     0.606352  |             |  4.2s"
       ]
      },
      {
       "output_type": "stream",
       "stream": "stdout",
       "text": [
        "\n",
        "  1420  |    0.004903  |    0.008037  |     0.610073  |             |  4.2s"
       ]
      },
      {
       "output_type": "stream",
       "stream": "stdout",
       "text": [
        "\n",
        "  1421  |    0.004875  |    0.008042  |     0.606189  |             |  4.2s"
       ]
      },
      {
       "output_type": "stream",
       "stream": "stdout",
       "text": [
        "\n",
        "  1422  |    0.004885  |    0.008036  |     0.607898  |             |  4.2s"
       ]
      },
      {
       "output_type": "stream",
       "stream": "stdout",
       "text": [
        "\n",
        "  1423  |    0.004934  |    0.008039  |     0.613701  |             |  4.2s"
       ]
      },
      {
       "output_type": "stream",
       "stream": "stdout",
       "text": [
        "\n",
        "  1424  |    0.004879  |    0.008060  |     0.605270  |             |  4.2s"
       ]
      },
      {
       "output_type": "stream",
       "stream": "stdout",
       "text": [
        "\n",
        "  1425  |    0.004877  |    0.008059  |     0.605128  |             |  4.2s"
       ]
      },
      {
       "output_type": "stream",
       "stream": "stdout",
       "text": [
        "\n",
        "  1426  |    0.004947  |    0.008037  |     0.615475  |             |  4.2s"
       ]
      },
      {
       "output_type": "stream",
       "stream": "stdout",
       "text": [
        "\n",
        "  1427  |    0.004848  |    0.008046  |     0.602610  |             |  4.2s"
       ]
      },
      {
       "output_type": "stream",
       "stream": "stdout",
       "text": [
        "\n",
        "  1428  |    0.004858  |    0.008037  |     0.604403  |             |  4.2s"
       ]
      },
      {
       "output_type": "stream",
       "stream": "stdout",
       "text": [
        "\n",
        "  1429  |    0.004854  |    0.008029  |     0.604589  |             |  4.2s"
       ]
      },
      {
       "output_type": "stream",
       "stream": "stdout",
       "text": [
        "\n",
        "  1430  |    0.004924  |  \u001b[32m  0.008014\u001b[0m  |     0.614450  |             |  4.2s"
       ]
      },
      {
       "output_type": "stream",
       "stream": "stdout",
       "text": [
        "\n",
        "  1431  |    0.004845  |    0.008041  |     0.602539  |             |  4.2s"
       ]
      },
      {
       "output_type": "stream",
       "stream": "stdout",
       "text": [
        "\n",
        "  1432  |  \u001b[94m  0.004826\u001b[0m  |    0.008036  |     0.600570  |             |  4.2s"
       ]
      },
      {
       "output_type": "stream",
       "stream": "stdout",
       "text": [
        "\n",
        "  1433  |    0.004879  |    0.008047  |     0.606290  |             |  4.2s"
       ]
      },
      {
       "output_type": "stream",
       "stream": "stdout",
       "text": [
        "\n",
        "  1434  |    0.004859  |    0.008039  |     0.604405  |             |  4.2s"
       ]
      },
      {
       "output_type": "stream",
       "stream": "stdout",
       "text": [
        "\n",
        "  1435  |    0.004844  |    0.008040  |     0.602541  |             |  4.2s"
       ]
      },
      {
       "output_type": "stream",
       "stream": "stdout",
       "text": [
        "\n",
        "  1436  |    0.004827  |    0.008023  |     0.601602  |             |  4.2s"
       ]
      },
      {
       "output_type": "stream",
       "stream": "stdout",
       "text": [
        "\n",
        "  1437  |    0.004828  |    0.008034  |     0.600971  |             |  4.2s"
       ]
      },
      {
       "output_type": "stream",
       "stream": "stdout",
       "text": [
        "\n",
        "  1438  |  \u001b[94m  0.004816\u001b[0m  |    0.008039  |     0.599115  |             |  4.2s"
       ]
      },
      {
       "output_type": "stream",
       "stream": "stdout",
       "text": [
        "\n",
        "  1439  |    0.004821  |    0.008032  |     0.600132  |             |  4.2s"
       ]
      },
      {
       "output_type": "stream",
       "stream": "stdout",
       "text": [
        "\n",
        "  1440  |    0.004926  |  \u001b[32m  0.008012\u001b[0m  |     0.614856  |             |  4.2s"
       ]
      },
      {
       "output_type": "stream",
       "stream": "stdout",
       "text": [
        "\n",
        "  1441  |    0.004885  |    0.008031  |     0.608330  |             |  4.2s"
       ]
      },
      {
       "output_type": "stream",
       "stream": "stdout",
       "text": [
        "\n",
        "  1442  |  \u001b[94m  0.004793\u001b[0m  |    0.008039  |     0.596258  |             |  4.2s"
       ]
      },
      {
       "output_type": "stream",
       "stream": "stdout",
       "text": [
        "\n",
        "  1443  |    0.004890  |    0.008038  |     0.608368  |             |  4.2s"
       ]
      },
      {
       "output_type": "stream",
       "stream": "stdout",
       "text": [
        "\n",
        "  1444  |    0.004828  |    0.008052  |     0.599544  |             |  4.2s"
       ]
      },
      {
       "output_type": "stream",
       "stream": "stdout",
       "text": [
        "\n",
        "  1445  |  \u001b[94m  0.004788\u001b[0m  |    0.008037  |     0.595716  |             |  4.2s"
       ]
      },
      {
       "output_type": "stream",
       "stream": "stdout",
       "text": [
        "\n",
        "  1446  |    0.004814  |    0.008033  |     0.599262  |             |  4.2s"
       ]
      },
      {
       "output_type": "stream",
       "stream": "stdout",
       "text": [
        "\n",
        "  1447  |    0.004840  |    0.008047  |     0.601436  |             |  4.2s"
       ]
      },
      {
       "output_type": "stream",
       "stream": "stdout",
       "text": [
        "\n",
        "  1448  |  \u001b[94m  0.004771\u001b[0m  |    0.008037  |     0.593711  |             |  4.2s"
       ]
      },
      {
       "output_type": "stream",
       "stream": "stdout",
       "text": [
        "\n",
        "  1449  |    0.004782  |    0.008042  |     0.594615  |             |  4.2s"
       ]
      },
      {
       "output_type": "stream",
       "stream": "stdout",
       "text": [
        "\n",
        "  1450  |    0.004777  |    0.008018  |     0.595840  |             |  4.2s"
       ]
      },
      {
       "output_type": "stream",
       "stream": "stdout",
       "text": [
        "\n",
        "  1451  |    0.004804  |    0.008030  |     0.598174  |             |  4.2s"
       ]
      },
      {
       "output_type": "stream",
       "stream": "stdout",
       "text": [
        "\n",
        "  1452  |    0.004832  |  \u001b[32m  0.008011\u001b[0m  |     0.603164  |             |  4.2s"
       ]
      },
      {
       "output_type": "stream",
       "stream": "stdout",
       "text": [
        "\n",
        "  1453  |    0.004814  |    0.008018  |     0.600461  |             |  4.2s"
       ]
      },
      {
       "output_type": "stream",
       "stream": "stdout",
       "text": [
        "\n",
        "  1454  |    0.004777  |    0.008013  |     0.596094  |             |  4.2s"
       ]
      },
      {
       "output_type": "stream",
       "stream": "stdout",
       "text": [
        "\n",
        "  1455  |  \u001b[94m  0.004738\u001b[0m  |    0.008017  |     0.591006  |             |  4.2s"
       ]
      },
      {
       "output_type": "stream",
       "stream": "stdout",
       "text": [
        "\n",
        "  1456  |    0.004763  |    0.008033  |     0.592877  |             |  4.2s"
       ]
      },
      {
       "output_type": "stream",
       "stream": "stdout",
       "text": [
        "\n",
        "  1457  |    0.004819  |    0.008014  |     0.601305  |             |  4.2s"
       ]
      },
      {
       "output_type": "stream",
       "stream": "stdout",
       "text": [
        "\n",
        "  1458  |    0.004738  |    0.008032  |     0.589951  |             |  4.2s"
       ]
      },
      {
       "output_type": "stream",
       "stream": "stdout",
       "text": [
        "\n",
        "  1459  |  \u001b[94m  0.004704\u001b[0m  |    0.008027  |     0.586039  |             |  4.2s"
       ]
      },
      {
       "output_type": "stream",
       "stream": "stdout",
       "text": [
        "\n",
        "  1460  |    0.004715  |    0.008025  |     0.587510  |             |  4.2s"
       ]
      },
      {
       "output_type": "stream",
       "stream": "stdout",
       "text": [
        "\n",
        "  1461  |    0.004839  |    0.008017  |     0.603540  |             |  4.2s"
       ]
      },
      {
       "output_type": "stream",
       "stream": "stdout",
       "text": [
        "\n",
        "  1462  |    0.004747  |    0.008013  |     0.592370  |             |  4.2s"
       ]
      },
      {
       "output_type": "stream",
       "stream": "stdout",
       "text": [
        "\n",
        "  1463  |    0.004723  |    0.008025  |     0.588606  |             |  4.2s"
       ]
      },
      {
       "output_type": "stream",
       "stream": "stdout",
       "text": [
        "\n",
        "  1464  |  \u001b[94m  0.004701\u001b[0m  |    0.008020  |     0.586175  |             |  4.2s"
       ]
      },
      {
       "output_type": "stream",
       "stream": "stdout",
       "text": [
        "\n",
        "  1465  |    0.004808  |  \u001b[32m  0.008011\u001b[0m  |     0.600250  |             |  4.1s"
       ]
      },
      {
       "output_type": "stream",
       "stream": "stdout",
       "text": [
        "\n",
        "  1466  |    0.004742  |    0.008032  |     0.590380  |             |  4.2s"
       ]
      },
      {
       "output_type": "stream",
       "stream": "stdout",
       "text": [
        "\n",
        "  1467  |  \u001b[94m  0.004654\u001b[0m  |    0.008022  |     0.580138  |             |  4.2s"
       ]
      },
      {
       "output_type": "stream",
       "stream": "stdout",
       "text": [
        "\n",
        "  1468  |    0.004785  |    0.008042  |     0.594953  |             |  4.2s"
       ]
      },
      {
       "output_type": "stream",
       "stream": "stdout",
       "text": [
        "\n",
        "  1469  |  \u001b[94m  0.004624\u001b[0m  |    0.008032  |     0.575755  |             |  4.2s"
       ]
      },
      {
       "output_type": "stream",
       "stream": "stdout",
       "text": [
        "\n",
        "  1470  |    0.004701  |  \u001b[32m  0.008007\u001b[0m  |     0.587122  |             |  4.2s"
       ]
      },
      {
       "output_type": "stream",
       "stream": "stdout",
       "text": [
        "\n",
        "  1471  |    0.004741  |    0.008039  |     0.589768  |             |  4.2s"
       ]
      },
      {
       "output_type": "stream",
       "stream": "stdout",
       "text": [
        "\n",
        "  1472  |  \u001b[94m  0.004585\u001b[0m  |    0.008014  |     0.572039  |             |  4.2s"
       ]
      },
      {
       "output_type": "stream",
       "stream": "stdout",
       "text": [
        "\n",
        "  1473  |    0.004687  |    0.008029  |     0.583804  |             |  4.2s"
       ]
      },
      {
       "output_type": "stream",
       "stream": "stdout",
       "text": [
        "\n",
        "  1474  |    0.004723  |    0.008015  |     0.589234  |             |  4.2s"
       ]
      },
      {
       "output_type": "stream",
       "stream": "stdout",
       "text": [
        "\n",
        "  1475  |    0.004691  |    0.008033  |     0.583938  |             |  4.2s"
       ]
      },
      {
       "output_type": "stream",
       "stream": "stdout",
       "text": [
        "\n",
        "  1476  |  \u001b[94m  0.004580\u001b[0m  |    0.008028  |     0.570487  |             |  4.2s"
       ]
      },
      {
       "output_type": "stream",
       "stream": "stdout",
       "text": [
        "\n",
        "  1477  |    0.004659  |    0.008015  |     0.581237  |             |  4.1s"
       ]
      },
      {
       "output_type": "stream",
       "stream": "stdout",
       "text": [
        "\n",
        "  1478  |    0.004713  |    0.008013  |     0.588175  |             |  4.2s"
       ]
      },
      {
       "output_type": "stream",
       "stream": "stdout",
       "text": [
        "\n",
        "  1479  |    0.004664  |  \u001b[32m  0.008002\u001b[0m  |     0.582872  |             |  4.2s"
       ]
      },
      {
       "output_type": "stream",
       "stream": "stdout",
       "text": [
        "\n",
        "  1480  |    0.004722  |  \u001b[32m  0.007999\u001b[0m  |     0.590282  |             |  4.2s"
       ]
      },
      {
       "output_type": "stream",
       "stream": "stdout",
       "text": [
        "\n",
        "  1481  |    0.004668  |  \u001b[32m  0.007993\u001b[0m  |     0.584026  |             |  4.2s"
       ]
      },
      {
       "output_type": "stream",
       "stream": "stdout",
       "text": [
        "\n",
        "  1482  |    0.004600  |    0.007996  |     0.575338  |             |  4.2s"
       ]
      },
      {
       "output_type": "stream",
       "stream": "stdout",
       "text": [
        "\n",
        "  1483  |    0.004690  |    0.007998  |     0.586380  |             |  4.2s"
       ]
      },
      {
       "output_type": "stream",
       "stream": "stdout",
       "text": [
        "\n",
        "  1484  |    0.004648  |    0.008012  |     0.580152  |             |  4.2s"
       ]
      },
      {
       "output_type": "stream",
       "stream": "stdout",
       "text": [
        "\n",
        "  1485  |    0.004644  |    0.008004  |     0.580240  |             |  4.2s"
       ]
      },
      {
       "output_type": "stream",
       "stream": "stdout",
       "text": [
        "\n",
        "  1486  |    0.004595  |    0.008017  |     0.573174  |             |  4.2s"
       ]
      },
      {
       "output_type": "stream",
       "stream": "stdout",
       "text": [
        "\n",
        "  1487  |    0.004657  |    0.008022  |     0.580590  |             |  4.2s"
       ]
      },
      {
       "output_type": "stream",
       "stream": "stdout",
       "text": [
        "\n",
        "  1488  |    0.004617  |    0.008016  |     0.575994  |             |  4.2s"
       ]
      },
      {
       "output_type": "stream",
       "stream": "stdout",
       "text": [
        "\n",
        "  1489  |    0.004739  |    0.008004  |     0.592106  |             |  4.1s"
       ]
      },
      {
       "output_type": "stream",
       "stream": "stdout",
       "text": [
        "\n",
        "  1490  |  \u001b[94m  0.004563\u001b[0m  |    0.008005  |     0.570060  |             |  4.2s"
       ]
      },
      {
       "output_type": "stream",
       "stream": "stdout",
       "text": [
        "\n",
        "  1491  |    0.004624  |    0.008022  |     0.576356  |             |  4.2s"
       ]
      },
      {
       "output_type": "stream",
       "stream": "stdout",
       "text": [
        "\n",
        "  1492  |    0.004599  |    0.008013  |     0.573968  |             |  4.2s"
       ]
      },
      {
       "output_type": "stream",
       "stream": "stdout",
       "text": [
        "\n",
        "  1493  |    0.004694  |    0.008017  |     0.585522  |             |  4.2s"
       ]
      },
      {
       "output_type": "stream",
       "stream": "stdout",
       "text": [
        "\n",
        "  1494  |    0.004702  |    0.007995  |     0.588033  |             |  4.2s"
       ]
      },
      {
       "output_type": "stream",
       "stream": "stdout",
       "text": [
        "\n",
        "  1495  |    0.004588  |    0.008023  |     0.571891  |             |  4.2s"
       ]
      },
      {
       "output_type": "stream",
       "stream": "stdout",
       "text": [
        "\n",
        "  1496  |    0.004636  |    0.008012  |     0.578569  |             |  4.2s"
       ]
      },
      {
       "output_type": "stream",
       "stream": "stdout",
       "text": [
        "\n",
        "  1497  |    0.004596  |    0.008009  |     0.573896  |             |  4.2s"
       ]
      },
      {
       "output_type": "stream",
       "stream": "stdout",
       "text": [
        "\n",
        "  1498  |    0.004677  |    0.008013  |     0.583653  |             |  4.2s"
       ]
      },
      {
       "output_type": "stream",
       "stream": "stdout",
       "text": [
        "\n",
        "  1499  |    0.004615  |    0.008018  |     0.575509  |             |  4.2s"
       ]
      },
      {
       "output_type": "stream",
       "stream": "stdout",
       "text": [
        "\n",
        "  1500  |  \u001b[94m  0.004542\u001b[0m  |    0.008007  |     0.567215  |             |  4.2s"
       ]
      },
      {
       "output_type": "stream",
       "stream": "stdout",
       "text": [
        "\n",
        "  1501  |    0.004569  |    0.008014  |     0.570057  |             |  4.2s"
       ]
      },
      {
       "output_type": "stream",
       "stream": "stdout",
       "text": [
        "\n",
        "  1502  |    0.004651  |    0.008017  |     0.580132  |             |  4.2s"
       ]
      },
      {
       "output_type": "stream",
       "stream": "stdout",
       "text": [
        "\n",
        "  1503  |    0.004594  |    0.008008  |     0.573669  |             |  4.2s"
       ]
      },
      {
       "output_type": "stream",
       "stream": "stdout",
       "text": [
        "\n",
        "  1504  |    0.004565  |    0.008009  |     0.569957  |             |  4.2s"
       ]
      },
      {
       "output_type": "stream",
       "stream": "stdout",
       "text": [
        "\n",
        "  1505  |    0.004582  |    0.008007  |     0.572216  |             |  4.2s"
       ]
      },
      {
       "output_type": "stream",
       "stream": "stdout",
       "text": [
        "\n",
        "  1506  |    0.004547  |    0.008011  |     0.567577  |             |  4.2s"
       ]
      },
      {
       "output_type": "stream",
       "stream": "stdout",
       "text": [
        "\n",
        "  1507  |    0.004573  |  \u001b[32m  0.007987\u001b[0m  |     0.572520  |             |  4.2s"
       ]
      },
      {
       "output_type": "stream",
       "stream": "stdout",
       "text": [
        "\n",
        "  1508  |    0.004605  |    0.008000  |     0.575658  |             |  4.2s"
       ]
      },
      {
       "output_type": "stream",
       "stream": "stdout",
       "text": [
        "\n",
        "  1509  |    0.004604  |    0.007993  |     0.575926  |             |  4.2s"
       ]
      },
      {
       "output_type": "stream",
       "stream": "stdout",
       "text": [
        "\n",
        "  1510  |    0.004636  |  \u001b[32m  0.007986\u001b[0m  |     0.580590  |             |  4.2s"
       ]
      },
      {
       "output_type": "stream",
       "stream": "stdout",
       "text": [
        "\n",
        "  1511  |  \u001b[94m  0.004504\u001b[0m  |    0.007998  |     0.563115  |             |  4.2s"
       ]
      },
      {
       "output_type": "stream",
       "stream": "stdout",
       "text": [
        "\n",
        "  1512  |    0.004516  |    0.008006  |     0.564085  |             |  4.2s"
       ]
      },
      {
       "output_type": "stream",
       "stream": "stdout",
       "text": [
        "\n",
        "  1513  |    0.004515  |    0.008012  |     0.563538  |             |  4.1s"
       ]
      },
      {
       "output_type": "stream",
       "stream": "stdout",
       "text": [
        "\n",
        "  1514  |    0.004524  |    0.008012  |     0.564604  |             |  4.1s"
       ]
      },
      {
       "output_type": "stream",
       "stream": "stdout",
       "text": [
        "\n",
        "  1515  |    0.004536  |    0.008011  |     0.566288  |             |  4.2s"
       ]
      },
      {
       "output_type": "stream",
       "stream": "stdout",
       "text": [
        "\n",
        "  1516  |  \u001b[94m  0.004471\u001b[0m  |    0.007995  |     0.559256  |             |  4.2s"
       ]
      },
      {
       "output_type": "stream",
       "stream": "stdout",
       "text": [
        "\n",
        "  1517  |    0.004609  |    0.007998  |     0.576270  |             |  4.2s"
       ]
      },
      {
       "output_type": "stream",
       "stream": "stdout",
       "text": [
        "\n",
        "  1518  |    0.004552  |    0.007999  |     0.569057  |             |  4.1s"
       ]
      },
      {
       "output_type": "stream",
       "stream": "stdout",
       "text": [
        "\n",
        "  1519  |    0.004543  |    0.008007  |     0.567398  |             |  4.2s"
       ]
      },
      {
       "output_type": "stream",
       "stream": "stdout",
       "text": [
        "\n",
        "  1520  |    0.004495  |    0.008009  |     0.561222  |             |  4.2s"
       ]
      },
      {
       "output_type": "stream",
       "stream": "stdout",
       "text": [
        "\n",
        "  1521  |    0.004528  |    0.007998  |     0.566175  |             |  4.2s"
       ]
      },
      {
       "output_type": "stream",
       "stream": "stdout",
       "text": [
        "\n",
        "  1522  |    0.004481  |    0.008006  |     0.559733  |             |  4.2s"
       ]
      },
      {
       "output_type": "stream",
       "stream": "stdout",
       "text": [
        "\n",
        "  1523  |    0.004518  |    0.008007  |     0.564281  |             |  4.2s"
       ]
      },
      {
       "output_type": "stream",
       "stream": "stdout",
       "text": [
        "\n",
        "  1524  |  \u001b[94m  0.004458\u001b[0m  |    0.008005  |     0.556818  |             |  4.2s"
       ]
      },
      {
       "output_type": "stream",
       "stream": "stdout",
       "text": [
        "\n",
        "  1525  |    0.004500  |    0.007992  |     0.562992  |             |  4.1s"
       ]
      },
      {
       "output_type": "stream",
       "stream": "stdout",
       "text": [
        "\n",
        "  1526  |    0.004552  |    0.007997  |     0.569253  |             |  4.2s"
       ]
      },
      {
       "output_type": "stream",
       "stream": "stdout",
       "text": [
        "\n",
        "  1527  |    0.004499  |    0.008000  |     0.562333  |             |  4.2s"
       ]
      },
      {
       "output_type": "stream",
       "stream": "stdout",
       "text": [
        "\n",
        "  1528  |  \u001b[94m  0.004429\u001b[0m  |    0.007993  |     0.554098  |             |  4.2s"
       ]
      },
      {
       "output_type": "stream",
       "stream": "stdout",
       "text": [
        "\n",
        "  1529  |    0.004481  |    0.007997  |     0.560345  |             |  4.2s"
       ]
      },
      {
       "output_type": "stream",
       "stream": "stdout",
       "text": [
        "\n",
        "  1530  |    0.004450  |    0.007996  |     0.556514  |             |  4.2s"
       ]
      },
      {
       "output_type": "stream",
       "stream": "stdout",
       "text": [
        "\n",
        "  1531  |    0.004546  |    0.008003  |     0.568111  |             |  4.2s"
       ]
      },
      {
       "output_type": "stream",
       "stream": "stdout",
       "text": [
        "\n",
        "  1532  |    0.004445  |    0.007989  |     0.556395  |             |  4.2s"
       ]
      },
      {
       "output_type": "stream",
       "stream": "stdout",
       "text": [
        "\n",
        "  1533  |    0.004478  |    0.007991  |     0.560289  |             |  4.2s"
       ]
      },
      {
       "output_type": "stream",
       "stream": "stdout",
       "text": [
        "\n",
        "  1534  |    0.004435  |    0.007990  |     0.555144  |             |  4.2s"
       ]
      },
      {
       "output_type": "stream",
       "stream": "stdout",
       "text": [
        "\n",
        "  1535  |    0.004486  |    0.008005  |     0.560478  |             |  4.1s"
       ]
      },
      {
       "output_type": "stream",
       "stream": "stdout",
       "text": [
        "\n",
        "  1536  |  \u001b[94m  0.004403\u001b[0m  |    0.007997  |     0.550548  |             |  4.1s"
       ]
      },
      {
       "output_type": "stream",
       "stream": "stdout",
       "text": [
        "\n",
        "  1537  |    0.004454  |  \u001b[32m  0.007984\u001b[0m  |     0.557880  |             |  4.2s"
       ]
      },
      {
       "output_type": "stream",
       "stream": "stdout",
       "text": [
        "\n",
        "  1538  |    0.004462  |  \u001b[32m  0.007984\u001b[0m  |     0.558839  |             |  4.2s"
       ]
      },
      {
       "output_type": "stream",
       "stream": "stdout",
       "text": [
        "\n",
        "  1539  |    0.004493  |  \u001b[32m  0.007975\u001b[0m  |     0.563352  |             |  4.2s"
       ]
      },
      {
       "output_type": "stream",
       "stream": "stdout",
       "text": [
        "\n",
        "  1540  |    0.004465  |    0.007976  |     0.559809  |             |  4.2s"
       ]
      },
      {
       "output_type": "stream",
       "stream": "stdout",
       "text": [
        "\n",
        "  1541  |  \u001b[94m  0.004399\u001b[0m  |    0.007981  |     0.551198  |             |  4.2s"
       ]
      },
      {
       "output_type": "stream",
       "stream": "stdout",
       "text": [
        "\n",
        "  1542  |    0.004445  |    0.007982  |     0.556903  |             |  4.2s"
       ]
      },
      {
       "output_type": "stream",
       "stream": "stdout",
       "text": [
        "\n",
        "  1543  |    0.004458  |    0.007978  |     0.558860  |             |  4.2s"
       ]
      },
      {
       "output_type": "stream",
       "stream": "stdout",
       "text": [
        "\n",
        "  1544  |    0.004505  |    0.007977  |     0.564736  |             |  4.2s"
       ]
      },
      {
       "output_type": "stream",
       "stream": "stdout",
       "text": [
        "\n",
        "  1545  |    0.004434  |    0.007984  |     0.555350  |             |  4.2s"
       ]
      },
      {
       "output_type": "stream",
       "stream": "stdout",
       "text": [
        "\n",
        "  1546  |  \u001b[94m  0.004371\u001b[0m  |    0.007976  |     0.548067  |             |  4.2s"
       ]
      },
      {
       "output_type": "stream",
       "stream": "stdout",
       "text": [
        "\n",
        "  1547  |    0.004418  |    0.007998  |     0.552460  |             |  4.2s"
       ]
      },
      {
       "output_type": "stream",
       "stream": "stdout",
       "text": [
        "\n",
        "  1548  |    0.004502  |    0.007982  |     0.564011  |             |  4.2s"
       ]
      },
      {
       "output_type": "stream",
       "stream": "stdout",
       "text": [
        "\n",
        "  1549  |    0.004407  |    0.007978  |     0.552379  |             |  4.2s"
       ]
      },
      {
       "output_type": "stream",
       "stream": "stdout",
       "text": [
        "\n",
        "  1550  |    0.004437  |  \u001b[32m  0.007964\u001b[0m  |     0.557093  |             |  4.2s"
       ]
      },
      {
       "output_type": "stream",
       "stream": "stdout",
       "text": [
        "\n",
        "  1551  |    0.004429  |    0.007976  |     0.555268  |             |  4.2s"
       ]
      },
      {
       "output_type": "stream",
       "stream": "stdout",
       "text": [
        "\n",
        "  1552  |    0.004417  |    0.007977  |     0.553719  |             |  4.2s"
       ]
      },
      {
       "output_type": "stream",
       "stream": "stdout",
       "text": [
        "\n",
        "  1553  |    0.004444  |    0.007981  |     0.556833  |             |  4.2s"
       ]
      },
      {
       "output_type": "stream",
       "stream": "stdout",
       "text": [
        "\n",
        "  1554  |    0.004393  |    0.007985  |     0.550148  |             |  4.2s"
       ]
      },
      {
       "output_type": "stream",
       "stream": "stdout",
       "text": [
        "\n",
        "  1555  |    0.004394  |    0.007969  |     0.551427  |             |  4.2s"
       ]
      },
      {
       "output_type": "stream",
       "stream": "stdout",
       "text": [
        "\n",
        "  1556  |    0.004380  |  \u001b[32m  0.007964\u001b[0m  |     0.549965  |             |  4.2s"
       ]
      },
      {
       "output_type": "stream",
       "stream": "stdout",
       "text": [
        "\n",
        "  1557  |    0.004448  |  \u001b[32m  0.007956\u001b[0m  |     0.559056  |             |  4.2s"
       ]
      },
      {
       "output_type": "stream",
       "stream": "stdout",
       "text": [
        "\n",
        "  1558  |    0.004377  |    0.007963  |     0.549653  |             |  4.2s"
       ]
      },
      {
       "output_type": "stream",
       "stream": "stdout",
       "text": [
        "\n",
        "  1559  |    0.004411  |  \u001b[32m  0.007953\u001b[0m  |     0.554664  |             |  4.2s"
       ]
      },
      {
       "output_type": "stream",
       "stream": "stdout",
       "text": [
        "\n",
        "  1560  |  \u001b[94m  0.004349\u001b[0m  |    0.007967  |     0.545874  |             |  4.2s"
       ]
      },
      {
       "output_type": "stream",
       "stream": "stdout",
       "text": [
        "\n",
        "  1561  |  \u001b[94m  0.004331\u001b[0m  |    0.007965  |     0.543826  |             |  4.2s"
       ]
      },
      {
       "output_type": "stream",
       "stream": "stdout",
       "text": [
        "\n",
        "  1562  |    0.004366  |    0.007968  |     0.547969  |             |  4.2s"
       ]
      },
      {
       "output_type": "stream",
       "stream": "stdout",
       "text": [
        "\n",
        "  1563  |    0.004374  |    0.007973  |     0.548547  |             |  4.2s"
       ]
      },
      {
       "output_type": "stream",
       "stream": "stdout",
       "text": [
        "\n",
        "  1564  |    0.004388  |    0.007991  |     0.549128  |             |  4.2s"
       ]
      },
      {
       "output_type": "stream",
       "stream": "stdout",
       "text": [
        "\n",
        "  1565  |    0.004371  |    0.007977  |     0.547939  |             |  4.2s"
       ]
      },
      {
       "output_type": "stream",
       "stream": "stdout",
       "text": [
        "\n",
        "  1566  |    0.004352  |    0.007969  |     0.546079  |             |  4.2s"
       ]
      },
      {
       "output_type": "stream",
       "stream": "stdout",
       "text": [
        "\n",
        "  1567  |  \u001b[94m  0.004277\u001b[0m  |    0.007975  |     0.536362  |             |  4.2s"
       ]
      },
      {
       "output_type": "stream",
       "stream": "stdout",
       "text": [
        "\n",
        "  1568  |    0.004329  |    0.007989  |     0.541789  |             |  4.2s"
       ]
      },
      {
       "output_type": "stream",
       "stream": "stdout",
       "text": [
        "\n",
        "  1569  |    0.004438  |    0.007981  |     0.556055  |             |  4.2s"
       ]
      },
      {
       "output_type": "stream",
       "stream": "stdout",
       "text": [
        "\n",
        "  1570  |  \u001b[94m  0.004273\u001b[0m  |    0.007983  |     0.535291  |             |  4.2s"
       ]
      },
      {
       "output_type": "stream",
       "stream": "stdout",
       "text": [
        "\n",
        "  1571  |    0.004384  |    0.007981  |     0.549254  |             |  4.2s"
       ]
      },
      {
       "output_type": "stream",
       "stream": "stdout",
       "text": [
        "\n",
        "  1572  |  \u001b[94m  0.004228\u001b[0m  |    0.008003  |     0.528335  |             |  4.2s"
       ]
      },
      {
       "output_type": "stream",
       "stream": "stdout",
       "text": [
        "\n",
        "  1573  |    0.004342  |    0.007987  |     0.543675  |             |  4.2s"
       ]
      },
      {
       "output_type": "stream",
       "stream": "stdout",
       "text": [
        "\n",
        "  1574  |    0.004280  |    0.007988  |     0.535830  |             |  4.2s"
       ]
      },
      {
       "output_type": "stream",
       "stream": "stdout",
       "text": [
        "\n",
        "  1575  |    0.004341  |    0.007971  |     0.544659  |             |  4.2s"
       ]
      },
      {
       "output_type": "stream",
       "stream": "stdout",
       "text": [
        "\n",
        "  1576  |    0.004377  |    0.007990  |     0.547845  |             |  4.2s"
       ]
      },
      {
       "output_type": "stream",
       "stream": "stdout",
       "text": [
        "\n",
        "  1577  |    0.004246  |    0.007961  |     0.533387  |             |  4.2s"
       ]
      },
      {
       "output_type": "stream",
       "stream": "stdout",
       "text": [
        "\n",
        "  1578  |    0.004369  |    0.007982  |     0.547396  |             |  4.2s"
       ]
      },
      {
       "output_type": "stream",
       "stream": "stdout",
       "text": [
        "\n",
        "  1579  |    0.004320  |    0.007974  |     0.541758  |             |  4.2s"
       ]
      },
      {
       "output_type": "stream",
       "stream": "stdout",
       "text": [
        "\n",
        "  1580  |    0.004354  |    0.007970  |     0.546286  |             |  4.2s"
       ]
      },
      {
       "output_type": "stream",
       "stream": "stdout",
       "text": [
        "\n",
        "  1581  |    0.004398  |    0.007960  |     0.552577  |             |  4.2s"
       ]
      },
      {
       "output_type": "stream",
       "stream": "stdout",
       "text": [
        "\n",
        "  1582  |    0.004306  |    0.007955  |     0.541245  |             |  4.2s"
       ]
      },
      {
       "output_type": "stream",
       "stream": "stdout",
       "text": [
        "\n",
        "  1583  |    0.004266  |    0.007967  |     0.535512  |             |  4.2s"
       ]
      },
      {
       "output_type": "stream",
       "stream": "stdout",
       "text": [
        "\n",
        "  1584  |    0.004326  |    0.007966  |     0.543098  |             |  4.2s"
       ]
      },
      {
       "output_type": "stream",
       "stream": "stdout",
       "text": [
        "\n",
        "  1585  |    0.004334  |    0.007963  |     0.544323  |             |  4.2s"
       ]
      },
      {
       "output_type": "stream",
       "stream": "stdout",
       "text": [
        "\n",
        "  1586  |    0.004313  |    0.007983  |     0.540242  |             |  4.2s"
       ]
      },
      {
       "output_type": "stream",
       "stream": "stdout",
       "text": [
        "\n",
        "  1587  |    0.004246  |    0.007989  |     0.531517  |             |  4.2s"
       ]
      },
      {
       "output_type": "stream",
       "stream": "stdout",
       "text": [
        "\n",
        "  1588  |    0.004343  |    0.007978  |     0.544339  |             |  4.2s"
       ]
      },
      {
       "output_type": "stream",
       "stream": "stdout",
       "text": [
        "\n",
        "  1589  |    0.004322  |    0.007974  |     0.542002  |             |  4.2s"
       ]
      },
      {
       "output_type": "stream",
       "stream": "stdout",
       "text": [
        "\n",
        "  1590  |    0.004250  |    0.007979  |     0.532723  |             |  4.2s"
       ]
      },
      {
       "output_type": "stream",
       "stream": "stdout",
       "text": [
        "\n",
        "  1591  |    0.004237  |    0.007971  |     0.531546  |             |  4.2s"
       ]
      },
      {
       "output_type": "stream",
       "stream": "stdout",
       "text": [
        "\n",
        "  1592  |    0.004260  |    0.007974  |     0.534193  |             |  4.2s"
       ]
      },
      {
       "output_type": "stream",
       "stream": "stdout",
       "text": [
        "\n",
        "  1593  |    0.004263  |    0.007982  |     0.534113  |             |  4.2s"
       ]
      },
      {
       "output_type": "stream",
       "stream": "stdout",
       "text": [
        "\n",
        "  1594  |    0.004283  |    0.007963  |     0.537942  |             |  4.2s"
       ]
      },
      {
       "output_type": "stream",
       "stream": "stdout",
       "text": [
        "\n",
        "  1595  |    0.004280  |    0.007961  |     0.537618  |             |  4.2s"
       ]
      },
      {
       "output_type": "stream",
       "stream": "stdout",
       "text": [
        "\n",
        "  1596  |    0.004292  |    0.007961  |     0.539154  |             |  4.2s"
       ]
      },
      {
       "output_type": "stream",
       "stream": "stdout",
       "text": [
        "\n",
        "  1597  |    0.004280  |  \u001b[32m  0.007945\u001b[0m  |     0.538692  |             |  4.2s"
       ]
      },
      {
       "output_type": "stream",
       "stream": "stdout",
       "text": [
        "\n",
        "  1598  |    0.004239  |    0.007955  |     0.532819  |             |  4.2s"
       ]
      },
      {
       "output_type": "stream",
       "stream": "stdout",
       "text": [
        "\n",
        "  1599  |    0.004277  |    0.007963  |     0.537102  |             |  4.2s"
       ]
      },
      {
       "output_type": "stream",
       "stream": "stdout",
       "text": [
        "\n",
        "  1600  |    0.004309  |    0.007952  |     0.541819  |             |  4.2s"
       ]
      },
      {
       "output_type": "stream",
       "stream": "stdout",
       "text": [
        "\n",
        "  1601  |  \u001b[94m  0.004227\u001b[0m  |    0.007968  |     0.530448  |             |  4.2s"
       ]
      },
      {
       "output_type": "stream",
       "stream": "stdout",
       "text": [
        "\n",
        "  1602  |    0.004256  |    0.007973  |     0.533848  |             |  4.2s"
       ]
      },
      {
       "output_type": "stream",
       "stream": "stdout",
       "text": [
        "\n",
        "  1603  |    0.004236  |    0.007960  |     0.532207  |             |  4.2s"
       ]
      },
      {
       "output_type": "stream",
       "stream": "stdout",
       "text": [
        "\n",
        "  1604  |  \u001b[94m  0.004226\u001b[0m  |    0.007957  |     0.531134  |             |  4.2s"
       ]
      },
      {
       "output_type": "stream",
       "stream": "stdout",
       "text": [
        "\n",
        "  1605  |  \u001b[94m  0.004217\u001b[0m  |    0.007965  |     0.529449  |             |  4.2s"
       ]
      },
      {
       "output_type": "stream",
       "stream": "stdout",
       "text": [
        "\n",
        "  1606  |    0.004259  |    0.007966  |     0.534692  |             |  4.2s"
       ]
      },
      {
       "output_type": "stream",
       "stream": "stdout",
       "text": [
        "\n",
        "  1607  |  \u001b[94m  0.004205\u001b[0m  |    0.007976  |     0.527150  |             |  4.2s"
       ]
      },
      {
       "output_type": "stream",
       "stream": "stdout",
       "text": [
        "\n",
        "  1608  |    0.004248  |    0.007971  |     0.532973  |             |  4.2s"
       ]
      },
      {
       "output_type": "stream",
       "stream": "stdout",
       "text": [
        "\n",
        "  1609  |  \u001b[94m  0.004141\u001b[0m  |    0.007965  |     0.519937  |             |  4.2s"
       ]
      },
      {
       "output_type": "stream",
       "stream": "stdout",
       "text": [
        "\n",
        "  1610  |    0.004207  |    0.007967  |     0.528071  |             |  4.2s"
       ]
      },
      {
       "output_type": "stream",
       "stream": "stdout",
       "text": [
        "\n",
        "  1611  |  \u001b[94m  0.004124\u001b[0m  |    0.007955  |     0.518401  |             |  4.2s"
       ]
      },
      {
       "output_type": "stream",
       "stream": "stdout",
       "text": [
        "\n",
        "  1612  |    0.004183  |    0.007950  |     0.526143  |             |  4.2s"
       ]
      },
      {
       "output_type": "stream",
       "stream": "stdout",
       "text": [
        "\n",
        "  1613  |  \u001b[94m  0.004108\u001b[0m  |    0.007954  |     0.516480  |             |  4.2s"
       ]
      },
      {
       "output_type": "stream",
       "stream": "stdout",
       "text": [
        "\n",
        "  1614  |    0.004179  |    0.007954  |     0.525353  |             |  4.2s"
       ]
      },
      {
       "output_type": "stream",
       "stream": "stdout",
       "text": [
        "\n",
        "  1615  |    0.004242  |  \u001b[32m  0.007942\u001b[0m  |     0.534140  |             |  4.1s"
       ]
      },
      {
       "output_type": "stream",
       "stream": "stdout",
       "text": [
        "\n",
        "  1616  |    0.004188  |    0.007944  |     0.527192  |             |  4.2s"
       ]
      },
      {
       "output_type": "stream",
       "stream": "stdout",
       "text": [
        "\n",
        "  1617  |    0.004224  |    0.007957  |     0.530870  |             |  4.1s"
       ]
      },
      {
       "output_type": "stream",
       "stream": "stdout",
       "text": [
        "\n",
        "  1618  |    0.004156  |    0.007980  |     0.520822  |             |  4.2s"
       ]
      },
      {
       "output_type": "stream",
       "stream": "stdout",
       "text": [
        "\n",
        "  1619  |    0.004151  |    0.007953  |     0.521987  |             |  4.2s"
       ]
      },
      {
       "output_type": "stream",
       "stream": "stdout",
       "text": [
        "\n",
        "  1620  |    0.004239  |    0.007956  |     0.532844  |             |  4.2s"
       ]
      },
      {
       "output_type": "stream",
       "stream": "stdout",
       "text": [
        "\n",
        "  1621  |    0.004142  |    0.007965  |     0.520075  |             |  4.2s"
       ]
      },
      {
       "output_type": "stream",
       "stream": "stdout",
       "text": [
        "\n",
        "  1622  |    0.004149  |    0.007963  |     0.520996  |             |  4.2s"
       ]
      },
      {
       "output_type": "stream",
       "stream": "stdout",
       "text": [
        "\n",
        "  1623  |    0.004133  |    0.007950  |     0.519798  |             |  4.2s"
       ]
      },
      {
       "output_type": "stream",
       "stream": "stdout",
       "text": [
        "\n",
        "  1624  |    0.004234  |    0.007950  |     0.532553  |             |  4.2s"
       ]
      },
      {
       "output_type": "stream",
       "stream": "stdout",
       "text": [
        "\n",
        "  1625  |  \u001b[94m  0.004072\u001b[0m  |    0.007947  |     0.512424  |             |  4.2s"
       ]
      },
      {
       "output_type": "stream",
       "stream": "stdout",
       "text": [
        "\n",
        "  1626  |    0.004204  |    0.007969  |     0.527607  |             |  4.2s"
       ]
      },
      {
       "output_type": "stream",
       "stream": "stdout",
       "text": [
        "\n",
        "  1627  |    0.004131  |    0.007961  |     0.518941  |             |  4.2s"
       ]
      },
      {
       "output_type": "stream",
       "stream": "stdout",
       "text": [
        "\n",
        "  1628  |    0.004173  |    0.007948  |     0.525012  |             |  4.2s"
       ]
      },
      {
       "output_type": "stream",
       "stream": "stdout",
       "text": [
        "\n",
        "  1629  |    0.004122  |    0.007952  |     0.518321  |             |  4.2s"
       ]
      },
      {
       "output_type": "stream",
       "stream": "stdout",
       "text": [
        "\n",
        "  1630  |    0.004148  |    0.007943  |     0.522228  |             |  4.2s"
       ]
      },
      {
       "output_type": "stream",
       "stream": "stdout",
       "text": [
        "\n",
        "  1631  |    0.004100  |    0.007960  |     0.515124  |             |  4.2s"
       ]
      },
      {
       "output_type": "stream",
       "stream": "stdout",
       "text": [
        "\n",
        "  1632  |    0.004195  |    0.007953  |     0.527388  |             |  4.1s"
       ]
      },
      {
       "output_type": "stream",
       "stream": "stdout",
       "text": [
        "\n",
        "  1633  |    0.004101  |    0.007943  |     0.516300  |             |  4.2s"
       ]
      },
      {
       "output_type": "stream",
       "stream": "stdout",
       "text": [
        "\n",
        "  1634  |    0.004119  |  \u001b[32m  0.007938\u001b[0m  |     0.518918  |             |  4.2s"
       ]
      },
      {
       "output_type": "stream",
       "stream": "stdout",
       "text": [
        "\n",
        "  1635  |    0.004099  |    0.007965  |     0.514632  |             |  4.2s"
       ]
      },
      {
       "output_type": "stream",
       "stream": "stdout",
       "text": [
        "\n",
        "  1636  |    0.004126  |    0.007959  |     0.518376  |             |  4.2s"
       ]
      },
      {
       "output_type": "stream",
       "stream": "stdout",
       "text": [
        "\n",
        "  1637  |    0.004094  |    0.007956  |     0.514590  |             |  4.2s"
       ]
      },
      {
       "output_type": "stream",
       "stream": "stdout",
       "text": [
        "\n",
        "  1638  |  \u001b[94m  0.004064\u001b[0m  |    0.007957  |     0.510661  |             |  4.2s"
       ]
      },
      {
       "output_type": "stream",
       "stream": "stdout",
       "text": [
        "\n",
        "  1639  |    0.004092  |  \u001b[32m  0.007936\u001b[0m  |     0.515600  |             |  4.2s"
       ]
      },
      {
       "output_type": "stream",
       "stream": "stdout",
       "text": [
        "\n",
        "  1640  |    0.004086  |    0.007946  |     0.514198  |             |  4.2s"
       ]
      },
      {
       "output_type": "stream",
       "stream": "stdout",
       "text": [
        "\n",
        "  1641  |    0.004107  |    0.007939  |     0.517309  |             |  4.2s"
       ]
      },
      {
       "output_type": "stream",
       "stream": "stdout",
       "text": [
        "\n",
        "  1642  |    0.004112  |    0.007942  |     0.517814  |             |  4.2s"
       ]
      },
      {
       "output_type": "stream",
       "stream": "stdout",
       "text": [
        "\n",
        "  1643  |    0.004092  |    0.007941  |     0.515333  |             |  4.2s"
       ]
      },
      {
       "output_type": "stream",
       "stream": "stdout",
       "text": [
        "\n",
        "  1644  |  \u001b[94m  0.004044\u001b[0m  |    0.007945  |     0.508951  |             |  4.2s"
       ]
      },
      {
       "output_type": "stream",
       "stream": "stdout",
       "text": [
        "\n",
        "  1645  |    0.004109  |    0.007964  |     0.515974  |             |  4.2s"
       ]
      },
      {
       "output_type": "stream",
       "stream": "stdout",
       "text": [
        "\n",
        "  1646  |    0.004169  |    0.007963  |     0.523565  |             |  4.2s"
       ]
      },
      {
       "output_type": "stream",
       "stream": "stdout",
       "text": [
        "\n",
        "  1647  |    0.004109  |    0.007958  |     0.516285  |             |  4.2s"
       ]
      },
      {
       "output_type": "stream",
       "stream": "stdout",
       "text": [
        "\n",
        "  1648  |    0.004143  |    0.007958  |     0.520566  |             |  4.2s"
       ]
      },
      {
       "output_type": "stream",
       "stream": "stdout",
       "text": [
        "\n",
        "  1649  |    0.004113  |    0.007956  |     0.516956  |             |  4.2s"
       ]
      },
      {
       "output_type": "stream",
       "stream": "stdout",
       "text": [
        "\n",
        "  1650  |    0.004112  |    0.007936  |     0.518065  |             |  4.2s"
       ]
      },
      {
       "output_type": "stream",
       "stream": "stdout",
       "text": [
        "\n",
        "  1651  |    0.004105  |  \u001b[32m  0.007932\u001b[0m  |     0.517563  |             |  4.2s"
       ]
      },
      {
       "output_type": "stream",
       "stream": "stdout",
       "text": [
        "\n",
        "  1652  |    0.004124  |    0.007951  |     0.518670  |             |  4.2s"
       ]
      },
      {
       "output_type": "stream",
       "stream": "stdout",
       "text": [
        "\n",
        "  1653  |  \u001b[94m  0.004009\u001b[0m  |    0.007944  |     0.504608  |             |  4.2s"
       ]
      },
      {
       "output_type": "stream",
       "stream": "stdout",
       "text": [
        "\n",
        "  1654  |    0.004091  |    0.007961  |     0.513836  |             |  4.2s"
       ]
      },
      {
       "output_type": "stream",
       "stream": "stdout",
       "text": [
        "\n",
        "  1655  |    0.004067  |    0.007943  |     0.512065  |             |  4.2s"
       ]
      },
      {
       "output_type": "stream",
       "stream": "stdout",
       "text": [
        "\n",
        "  1656  |    0.004057  |    0.007943  |     0.510709  |             |  4.1s"
       ]
      },
      {
       "output_type": "stream",
       "stream": "stdout",
       "text": [
        "\n",
        "  1657  |    0.004096  |    0.007949  |     0.515363  |             |  4.2s"
       ]
      },
      {
       "output_type": "stream",
       "stream": "stdout",
       "text": [
        "\n",
        "  1658  |    0.004110  |    0.007970  |     0.515735  |             |  4.2s"
       ]
      },
      {
       "output_type": "stream",
       "stream": "stdout",
       "text": [
        "\n",
        "  1659  |    0.004047  |    0.007960  |     0.508416  |             |  4.2s"
       ]
      },
      {
       "output_type": "stream",
       "stream": "stdout",
       "text": [
        "\n",
        "  1660  |    0.004042  |    0.007951  |     0.508389  |             |  4.2s"
       ]
      },
      {
       "output_type": "stream",
       "stream": "stdout",
       "text": [
        "\n",
        "  1661  |    0.004112  |    0.007965  |     0.516279  |             |  4.2s"
       ]
      },
      {
       "output_type": "stream",
       "stream": "stdout",
       "text": [
        "\n",
        "  1662  |    0.004049  |    0.007950  |     0.509300  |             |  4.2s"
       ]
      },
      {
       "output_type": "stream",
       "stream": "stdout",
       "text": [
        "\n",
        "  1663  |    0.004127  |    0.007947  |     0.519346  |             |  4.2s"
       ]
      },
      {
       "output_type": "stream",
       "stream": "stdout",
       "text": [
        "\n",
        "  1664  |    0.004065  |    0.007952  |     0.511196  |             |  4.2s"
       ]
      },
      {
       "output_type": "stream",
       "stream": "stdout",
       "text": [
        "\n",
        "  1665  |    0.004076  |    0.007957  |     0.512275  |             |  4.2s"
       ]
      },
      {
       "output_type": "stream",
       "stream": "stdout",
       "text": [
        "\n",
        "  1666  |    0.004071  |    0.007974  |     0.510553  |             |  4.2s"
       ]
      },
      {
       "output_type": "stream",
       "stream": "stdout",
       "text": [
        "\n",
        "  1667  |    0.004028  |    0.007973  |     0.505223  |             |  4.2s"
       ]
      },
      {
       "output_type": "stream",
       "stream": "stdout",
       "text": [
        "\n",
        "  1668  |  \u001b[94m  0.004009\u001b[0m  |    0.007974  |     0.502718  |             |  4.2s"
       ]
      },
      {
       "output_type": "stream",
       "stream": "stdout",
       "text": [
        "\n",
        "  1669  |    0.004085  |    0.007942  |     0.514313  |             |  4.2s"
       ]
      },
      {
       "output_type": "stream",
       "stream": "stdout",
       "text": [
        "\n",
        "  1670  |    0.004079  |    0.007955  |     0.512706  |             |  4.2s"
       ]
      },
      {
       "output_type": "stream",
       "stream": "stdout",
       "text": [
        "\n",
        "  1671  |    0.004030  |    0.007936  |     0.507768  |             |  4.2s"
       ]
      },
      {
       "output_type": "stream",
       "stream": "stdout",
       "text": [
        "\n",
        "  1672  |  \u001b[94m  0.004007\u001b[0m  |    0.007942  |     0.504579  |             |  4.2s"
       ]
      },
      {
       "output_type": "stream",
       "stream": "stdout",
       "text": [
        "\n",
        "  1673  |    0.004058  |    0.007948  |     0.510552  |             |  4.2s"
       ]
      },
      {
       "output_type": "stream",
       "stream": "stdout",
       "text": [
        "\n",
        "  1674  |    0.004018  |    0.007959  |     0.504850  |             |  4.2s"
       ]
      },
      {
       "output_type": "stream",
       "stream": "stdout",
       "text": [
        "\n",
        "  1675  |    0.004059  |    0.007946  |     0.510750  |             |  4.2s"
       ]
      },
      {
       "output_type": "stream",
       "stream": "stdout",
       "text": [
        "\n",
        "  1676  |    0.004042  |    0.007947  |     0.508605  |             |  4.2s"
       ]
      },
      {
       "output_type": "stream",
       "stream": "stdout",
       "text": [
        "\n",
        "  1677  |    0.004039  |    0.007937  |     0.508910  |             |  4.2s"
       ]
      },
      {
       "output_type": "stream",
       "stream": "stdout",
       "text": [
        "\n",
        "  1678  |    0.004021  |    0.007947  |     0.505971  |             |  4.2s"
       ]
      },
      {
       "output_type": "stream",
       "stream": "stdout",
       "text": [
        "\n",
        "  1679  |  \u001b[94m  0.003918\u001b[0m  |    0.007942  |     0.493299  |             |  4.2s"
       ]
      },
      {
       "output_type": "stream",
       "stream": "stdout",
       "text": [
        "\n",
        "  1680  |    0.004037  |    0.007956  |     0.507395  |             |  4.2s"
       ]
      },
      {
       "output_type": "stream",
       "stream": "stdout",
       "text": [
        "\n",
        "  1681  |    0.004082  |    0.007940  |     0.514088  |             |  4.2s"
       ]
      },
      {
       "output_type": "stream",
       "stream": "stdout",
       "text": [
        "\n",
        "  1682  |    0.004019  |    0.007948  |     0.505711  |             |  4.2s"
       ]
      },
      {
       "output_type": "stream",
       "stream": "stdout",
       "text": [
        "\n",
        "  1683  |    0.004067  |    0.007954  |     0.511370  |             |  4.2s"
       ]
      },
      {
       "output_type": "stream",
       "stream": "stdout",
       "text": [
        "\n",
        "  1684  |    0.003993  |    0.007954  |     0.502089  |             |  4.2s"
       ]
      },
      {
       "output_type": "stream",
       "stream": "stdout",
       "text": [
        "\n",
        "  1685  |    0.004007  |    0.007941  |     0.504569  |             |  4.1s"
       ]
      },
      {
       "output_type": "stream",
       "stream": "stdout",
       "text": [
        "\n",
        "  1686  |    0.004014  |    0.007952  |     0.504767  |             |  4.1s"
       ]
      },
      {
       "output_type": "stream",
       "stream": "stdout",
       "text": [
        "\n",
        "  1687  |    0.003948  |    0.007942  |     0.497069  |             |  4.1s"
       ]
      },
      {
       "output_type": "stream",
       "stream": "stdout",
       "text": [
        "\n",
        "  1688  |    0.003982  |    0.007965  |     0.499928  |             |  4.1s"
       ]
      },
      {
       "output_type": "stream",
       "stream": "stdout",
       "text": [
        "\n",
        "  1689  |    0.003945  |    0.007957  |     0.495801  |             |  4.2s"
       ]
      },
      {
       "output_type": "stream",
       "stream": "stdout",
       "text": [
        "\n",
        "  1690  |    0.004009  |    0.007944  |     0.504612  |             |  4.2s"
       ]
      },
      {
       "output_type": "stream",
       "stream": "stdout",
       "text": [
        "\n",
        "  1691  |    0.003950  |    0.007941  |     0.497471  |             |  4.2s"
       ]
      },
      {
       "output_type": "stream",
       "stream": "stdout",
       "text": [
        "\n",
        "  1692  |    0.003958  |    0.007942  |     0.498439  |             |  4.2s"
       ]
      },
      {
       "output_type": "stream",
       "stream": "stdout",
       "text": [
        "\n",
        "  1693  |    0.004029  |    0.007934  |     0.507765  |             |  4.2s"
       ]
      },
      {
       "output_type": "stream",
       "stream": "stdout",
       "text": [
        "\n",
        "  1694  |    0.003962  |    0.007943  |     0.498810  |             |  4.2s"
       ]
      },
      {
       "output_type": "stream",
       "stream": "stdout",
       "text": [
        "\n",
        "  1695  |    0.003972  |    0.007948  |     0.499691  |             |  4.2s"
       ]
      },
      {
       "output_type": "stream",
       "stream": "stdout",
       "text": [
        "\n",
        "  1696  |    0.003970  |    0.007953  |     0.499253  |             |  4.2s"
       ]
      },
      {
       "output_type": "stream",
       "stream": "stdout",
       "text": [
        "\n",
        "  1697  |    0.003978  |  \u001b[32m  0.007931\u001b[0m  |     0.501526  |             |  4.2s"
       ]
      },
      {
       "output_type": "stream",
       "stream": "stdout",
       "text": [
        "\n",
        "  1698  |    0.003966  |    0.007933  |     0.499922  |             |  4.2s"
       ]
      },
      {
       "output_type": "stream",
       "stream": "stdout",
       "text": [
        "\n",
        "  1699  |    0.004000  |    0.007938  |     0.503878  |             |  4.2s"
       ]
      },
      {
       "output_type": "stream",
       "stream": "stdout",
       "text": [
        "\n",
        "  1700  |    0.003931  |    0.007938  |     0.495172  |             |  4.2s"
       ]
      },
      {
       "output_type": "stream",
       "stream": "stdout",
       "text": [
        "\n",
        "  1701  |    0.003962  |    0.007936  |     0.499272  |             |  4.2s"
       ]
      },
      {
       "output_type": "stream",
       "stream": "stdout",
       "text": [
        "\n",
        "  1702  |    0.004001  |    0.007935  |     0.504183  |             |  4.2s"
       ]
      },
      {
       "output_type": "stream",
       "stream": "stdout",
       "text": [
        "\n",
        "  1703  |    0.004015  |    0.007957  |     0.504537  |             |  4.2s"
       ]
      },
      {
       "output_type": "stream",
       "stream": "stdout",
       "text": [
        "\n",
        "  1704  |    0.003958  |    0.007947  |     0.498068  |             |  4.2s"
       ]
      },
      {
       "output_type": "stream",
       "stream": "stdout",
       "text": [
        "\n",
        "  1705  |  \u001b[94m  0.003853\u001b[0m  |    0.007953  |     0.484479  |             |  4.2s"
       ]
      },
      {
       "output_type": "stream",
       "stream": "stdout",
       "text": [
        "\n",
        "  1706  |    0.003998  |    0.007955  |     0.502600  |             |  4.2s"
       ]
      },
      {
       "output_type": "stream",
       "stream": "stdout",
       "text": [
        "\n",
        "  1707  |    0.003949  |    0.007947  |     0.496938  |             |  4.2s"
       ]
      },
      {
       "output_type": "stream",
       "stream": "stdout",
       "text": [
        "\n",
        "  1708  |    0.003859  |    0.007936  |     0.486349  |             |  4.2s"
       ]
      },
      {
       "output_type": "stream",
       "stream": "stdout",
       "text": [
        "\n",
        "  1709  |    0.003904  |    0.007936  |     0.491974  |             |  4.2s"
       ]
      },
      {
       "output_type": "stream",
       "stream": "stdout",
       "text": [
        "\n",
        "  1710  |    0.003870  |    0.007946  |     0.487082  |             |  4.2s"
       ]
      },
      {
       "output_type": "stream",
       "stream": "stdout",
       "text": [
        "\n",
        "  1711  |    0.003978  |  \u001b[32m  0.007930\u001b[0m  |     0.501676  |             |  4.2s"
       ]
      },
      {
       "output_type": "stream",
       "stream": "stdout",
       "text": [
        "\n",
        "  1712  |    0.003878  |    0.007932  |     0.488975  |             |  4.2s"
       ]
      },
      {
       "output_type": "stream",
       "stream": "stdout",
       "text": [
        "\n",
        "  1713  |    0.003888  |  \u001b[32m  0.007922\u001b[0m  |     0.490759  |             |  4.2s"
       ]
      },
      {
       "output_type": "stream",
       "stream": "stdout",
       "text": [
        "\n",
        "  1714  |    0.003945  |    0.007928  |     0.497649  |             |  4.2s"
       ]
      },
      {
       "output_type": "stream",
       "stream": "stdout",
       "text": [
        "\n",
        "  1715  |    0.003903  |    0.007934  |     0.491896  |             |  4.2s"
       ]
      },
      {
       "output_type": "stream",
       "stream": "stdout",
       "text": [
        "\n",
        "  1716  |    0.003899  |    0.007935  |     0.491367  |             |  4.2s"
       ]
      },
      {
       "output_type": "stream",
       "stream": "stdout",
       "text": [
        "\n",
        "  1717  |    0.003975  |    0.007940  |     0.500609  |             |  4.2s"
       ]
      },
      {
       "output_type": "stream",
       "stream": "stdout",
       "text": [
        "\n",
        "  1718  |    0.003873  |    0.007926  |     0.488699  |             |  4.2s"
       ]
      },
      {
       "output_type": "stream",
       "stream": "stdout",
       "text": [
        "\n",
        "  1719  |    0.003903  |    0.007927  |     0.492342  |             |  4.2s"
       ]
      },
      {
       "output_type": "stream",
       "stream": "stdout",
       "text": [
        "\n",
        "  1720  |    0.003976  |    0.007922  |     0.501915  |             |  4.1s"
       ]
      },
      {
       "output_type": "stream",
       "stream": "stdout",
       "text": [
        "\n",
        "  1721  |    0.003909  |    0.007940  |     0.492291  |             |  4.2s"
       ]
      },
      {
       "output_type": "stream",
       "stream": "stdout",
       "text": [
        "\n",
        "  1722  |    0.003913  |    0.007935  |     0.493095  |             |  4.1s"
       ]
      },
      {
       "output_type": "stream",
       "stream": "stdout",
       "text": [
        "\n",
        "  1723  |    0.003900  |    0.007940  |     0.491214  |             |  4.2s"
       ]
      },
      {
       "output_type": "stream",
       "stream": "stdout",
       "text": [
        "\n",
        "  1724  |    0.003915  |    0.007938  |     0.493247  |             |  4.2s"
       ]
      },
      {
       "output_type": "stream",
       "stream": "stdout",
       "text": [
        "\n",
        "  1725  |    0.003915  |    0.007933  |     0.493493  |             |  4.2s"
       ]
      },
      {
       "output_type": "stream",
       "stream": "stdout",
       "text": [
        "\n",
        "  1726  |  \u001b[94m  0.003831\u001b[0m  |    0.007926  |     0.483341  |             |  4.2s"
       ]
      },
      {
       "output_type": "stream",
       "stream": "stdout",
       "text": [
        "\n",
        "  1727  |    0.003962  |  \u001b[32m  0.007911\u001b[0m  |     0.500872  |             |  4.2s"
       ]
      },
      {
       "output_type": "stream",
       "stream": "stdout",
       "text": [
        "\n",
        "  1728  |    0.003895  |    0.007934  |     0.490992  |             |  4.2s"
       ]
      },
      {
       "output_type": "stream",
       "stream": "stdout",
       "text": [
        "\n",
        "  1729  |  \u001b[94m  0.003811\u001b[0m  |    0.007918  |     0.481236  |             |  4.2s"
       ]
      },
      {
       "output_type": "stream",
       "stream": "stdout",
       "text": [
        "\n",
        "  1730  |  \u001b[94m  0.003759\u001b[0m  |    0.007926  |     0.474272  |             |  4.2s"
       ]
      },
      {
       "output_type": "stream",
       "stream": "stdout",
       "text": [
        "\n",
        "  1731  |    0.003831  |    0.007928  |     0.483184  |             |  4.2s"
       ]
      },
      {
       "output_type": "stream",
       "stream": "stdout",
       "text": [
        "\n",
        "  1732  |    0.003847  |    0.007920  |     0.485704  |             |  4.2s"
       ]
      },
      {
       "output_type": "stream",
       "stream": "stdout",
       "text": [
        "\n",
        "  1733  |    0.003888  |    0.007932  |     0.490225  |             |  4.2s"
       ]
      },
      {
       "output_type": "stream",
       "stream": "stdout",
       "text": [
        "\n",
        "  1734  |    0.003898  |    0.007916  |     0.492443  |             |  4.2s"
       ]
      },
      {
       "output_type": "stream",
       "stream": "stdout",
       "text": [
        "\n",
        "  1735  |    0.003786  |    0.007933  |     0.477210  |             |  4.1s"
       ]
      },
      {
       "output_type": "stream",
       "stream": "stdout",
       "text": [
        "\n",
        "  1736  |    0.003875  |    0.007921  |     0.489165  |             |  4.2s"
       ]
      },
      {
       "output_type": "stream",
       "stream": "stdout",
       "text": [
        "\n",
        "  1737  |    0.003896  |    0.007916  |     0.492139  |             |  4.2s"
       ]
      },
      {
       "output_type": "stream",
       "stream": "stdout",
       "text": [
        "\n",
        "  1738  |    0.003810  |    0.007929  |     0.480479  |             |  4.2s"
       ]
      },
      {
       "output_type": "stream",
       "stream": "stdout",
       "text": [
        "\n",
        "  1739  |    0.003838  |    0.007935  |     0.483714  |             |  4.2s"
       ]
      },
      {
       "output_type": "stream",
       "stream": "stdout",
       "text": [
        "\n",
        "  1740  |    0.003830  |    0.007929  |     0.482963  |             |  4.2s"
       ]
      },
      {
       "output_type": "stream",
       "stream": "stdout",
       "text": [
        "\n",
        "  1741  |    0.003867  |    0.007944  |     0.486761  |             |  4.2s"
       ]
      },
      {
       "output_type": "stream",
       "stream": "stdout",
       "text": [
        "\n",
        "  1742  |    0.003837  |    0.007928  |     0.483963  |             |  4.2s"
       ]
      },
      {
       "output_type": "stream",
       "stream": "stdout",
       "text": [
        "\n",
        "  1743  |    0.003852  |    0.007934  |     0.485519  |             |  4.2s"
       ]
      },
      {
       "output_type": "stream",
       "stream": "stdout",
       "text": [
        "\n",
        "  1744  |    0.003852  |    0.007915  |     0.486644  |             |  4.2s"
       ]
      },
      {
       "output_type": "stream",
       "stream": "stdout",
       "text": [
        "\n",
        "  1745  |    0.003791  |    0.007920  |     0.478614  |             |  4.2s"
       ]
      },
      {
       "output_type": "stream",
       "stream": "stdout",
       "text": [
        "\n",
        "  1746  |    0.003908  |    0.007923  |     0.493286  |             |  4.2s"
       ]
      },
      {
       "output_type": "stream",
       "stream": "stdout",
       "text": [
        "\n",
        "  1747  |    0.003828  |    0.007918  |     0.483451  |             |  4.2s"
       ]
      },
      {
       "output_type": "stream",
       "stream": "stdout",
       "text": [
        "\n",
        "  1748  |    0.003886  |    0.007917  |     0.490873  |             |  4.2s"
       ]
      },
      {
       "output_type": "stream",
       "stream": "stdout",
       "text": [
        "\n",
        "  1749  |  \u001b[94m  0.003757\u001b[0m  |    0.007934  |     0.473500  |             |  4.2s"
       ]
      },
      {
       "output_type": "stream",
       "stream": "stdout",
       "text": [
        "\n",
        "  1750  |    0.003762  |    0.007918  |     0.475085  |             |  4.2s"
       ]
      },
      {
       "output_type": "stream",
       "stream": "stdout",
       "text": [
        "\n",
        "  1751  |    0.003892  |    0.007929  |     0.490818  |             |  4.2s"
       ]
      },
      {
       "output_type": "stream",
       "stream": "stdout",
       "text": [
        "\n",
        "  1752  |    0.003838  |    0.007940  |     0.483376  |             |  4.2s"
       ]
      },
      {
       "output_type": "stream",
       "stream": "stdout",
       "text": [
        "\n",
        "  1753  |    0.003885  |    0.007931  |     0.489837  |             |  4.2s"
       ]
      },
      {
       "output_type": "stream",
       "stream": "stdout",
       "text": [
        "\n",
        "  1754  |    0.003822  |    0.007922  |     0.482465  |             |  4.2s"
       ]
      },
      {
       "output_type": "stream",
       "stream": "stdout",
       "text": [
        "\n",
        "  1755  |    0.003837  |  \u001b[32m  0.007911\u001b[0m  |     0.485000  |             |  4.2s"
       ]
      },
      {
       "output_type": "stream",
       "stream": "stdout",
       "text": [
        "\n",
        "  1756  |    0.003822  |  \u001b[32m  0.007910\u001b[0m  |     0.483253  |             |  4.2s"
       ]
      },
      {
       "output_type": "stream",
       "stream": "stdout",
       "text": [
        "\n",
        "  1757  |    0.003814  |  \u001b[32m  0.007909\u001b[0m  |     0.482202  |             |  4.2s"
       ]
      },
      {
       "output_type": "stream",
       "stream": "stdout",
       "text": [
        "\n",
        "  1758  |    0.003794  |    0.007920  |     0.479038  |             |  4.2s"
       ]
      },
      {
       "output_type": "stream",
       "stream": "stdout",
       "text": [
        "\n",
        "  1759  |    0.003807  |    0.007910  |     0.481287  |             |  4.2s"
       ]
      },
      {
       "output_type": "stream",
       "stream": "stdout",
       "text": [
        "\n",
        "  1760  |    0.003773  |    0.007927  |     0.475956  |             |  4.2s"
       ]
      },
      {
       "output_type": "stream",
       "stream": "stdout",
       "text": [
        "\n",
        "  1761  |    0.003774  |    0.007922  |     0.476420  |             |  4.2s"
       ]
      },
      {
       "output_type": "stream",
       "stream": "stdout",
       "text": [
        "\n",
        "  1762  |    0.003840  |    0.007922  |     0.484758  |             |  4.2s"
       ]
      },
      {
       "output_type": "stream",
       "stream": "stdout",
       "text": [
        "\n",
        "  1763  |    0.003802  |    0.007950  |     0.478187  |             |  4.2s"
       ]
      },
      {
       "output_type": "stream",
       "stream": "stdout",
       "text": [
        "\n",
        "  1764  |  \u001b[94m  0.003691\u001b[0m  |    0.007938  |     0.464992  |             |  4.2s"
       ]
      },
      {
       "output_type": "stream",
       "stream": "stdout",
       "text": [
        "\n",
        "  1765  |    0.003777  |    0.007918  |     0.477006  |             |  4.2s"
       ]
      },
      {
       "output_type": "stream",
       "stream": "stdout",
       "text": [
        "\n",
        "  1766  |    0.003854  |    0.007921  |     0.486493  |             |  4.2s"
       ]
      },
      {
       "output_type": "stream",
       "stream": "stdout",
       "text": [
        "\n",
        "  1767  |    0.003774  |    0.007931  |     0.475879  |             |  4.2s"
       ]
      },
      {
       "output_type": "stream",
       "stream": "stdout",
       "text": [
        "\n",
        "  1768  |    0.003770  |    0.007917  |     0.476156  |             |  4.2s"
       ]
      },
      {
       "output_type": "stream",
       "stream": "stdout",
       "text": [
        "\n",
        "  1769  |    0.003763  |  \u001b[32m  0.007908\u001b[0m  |     0.475815  |             |  4.2s"
       ]
      },
      {
       "output_type": "stream",
       "stream": "stdout",
       "text": [
        "\n",
        "  1770  |    0.003799  |    0.007917  |     0.479841  |             |  4.2s"
       ]
      },
      {
       "output_type": "stream",
       "stream": "stdout",
       "text": [
        "\n",
        "  1771  |    0.003751  |    0.007932  |     0.472899  |             |  4.2s"
       ]
      },
      {
       "output_type": "stream",
       "stream": "stdout",
       "text": [
        "\n",
        "  1772  |    0.003798  |    0.007918  |     0.479662  |             |  4.2s"
       ]
      },
      {
       "output_type": "stream",
       "stream": "stdout",
       "text": [
        "\n",
        "  1773  |  \u001b[94m  0.003652\u001b[0m  |    0.007934  |     0.460284  |             |  4.1s"
       ]
      },
      {
       "output_type": "stream",
       "stream": "stdout",
       "text": [
        "\n",
        "  1774  |    0.003755  |    0.007940  |     0.472958  |             |  4.2s"
       ]
      },
      {
       "output_type": "stream",
       "stream": "stdout",
       "text": [
        "\n",
        "  1775  |    0.003727  |    0.007934  |     0.469727  |             |  4.2s"
       ]
      },
      {
       "output_type": "stream",
       "stream": "stdout",
       "text": [
        "\n",
        "  1776  |    0.003711  |    0.007949  |     0.466825  |             |  4.2s"
       ]
      },
      {
       "output_type": "stream",
       "stream": "stdout",
       "text": [
        "\n",
        "  1777  |    0.003699  |    0.007924  |     0.466813  |             |  4.2s"
       ]
      },
      {
       "output_type": "stream",
       "stream": "stdout",
       "text": [
        "\n",
        "  1778  |    0.003710  |    0.007936  |     0.467484  |             |  4.2s"
       ]
      },
      {
       "output_type": "stream",
       "stream": "stdout",
       "text": [
        "\n",
        "  1779  |    0.003730  |    0.007929  |     0.470372  |             |  4.2s"
       ]
      },
      {
       "output_type": "stream",
       "stream": "stdout",
       "text": [
        "\n",
        "  1780  |    0.003722  |    0.007921  |     0.469821  |             |  4.1s"
       ]
      },
      {
       "output_type": "stream",
       "stream": "stdout",
       "text": [
        "\n",
        "  1781  |    0.003655  |    0.007917  |     0.461682  |             |  4.2s"
       ]
      },
      {
       "output_type": "stream",
       "stream": "stdout",
       "text": [
        "\n",
        "  1782  |    0.003724  |    0.007917  |     0.470405  |             |  4.2s"
       ]
      },
      {
       "output_type": "stream",
       "stream": "stdout",
       "text": [
        "\n",
        "  1783  |    0.003707  |    0.007924  |     0.467776  |             |  4.2s"
       ]
      },
      {
       "output_type": "stream",
       "stream": "stdout",
       "text": [
        "\n",
        "  1784  |    0.003746  |    0.007926  |     0.472683  |             |  4.2s"
       ]
      },
      {
       "output_type": "stream",
       "stream": "stdout",
       "text": [
        "\n",
        "  1785  |    0.003773  |    0.007940  |     0.475145  |             |  4.2s"
       ]
      },
      {
       "output_type": "stream",
       "stream": "stdout",
       "text": [
        "\n",
        "  1786  |    0.003726  |    0.007941  |     0.469163  |             |  4.2s"
       ]
      },
      {
       "output_type": "stream",
       "stream": "stdout",
       "text": [
        "\n",
        "  1787  |  \u001b[94m  0.003633\u001b[0m  |    0.007934  |     0.457951  |             |  4.2s"
       ]
      },
      {
       "output_type": "stream",
       "stream": "stdout",
       "text": [
        "\n",
        "  1788  |    0.003671  |    0.007920  |     0.463550  |             |  4.2s"
       ]
      },
      {
       "output_type": "stream",
       "stream": "stdout",
       "text": [
        "\n",
        "  1789  |    0.003649  |    0.007920  |     0.460685  |             |  4.2s"
       ]
      },
      {
       "output_type": "stream",
       "stream": "stdout",
       "text": [
        "\n",
        "  1790  |    0.003778  |    0.007925  |     0.476660  |             |  4.2s"
       ]
      },
      {
       "output_type": "stream",
       "stream": "stdout",
       "text": [
        "\n",
        "  1791  |    0.003679  |    0.007926  |     0.464127  |             |  4.2s"
       ]
      },
      {
       "output_type": "stream",
       "stream": "stdout",
       "text": [
        "\n",
        "  1792  |    0.003658  |    0.007948  |     0.460306  |             |  4.2s"
       ]
      },
      {
       "output_type": "stream",
       "stream": "stdout",
       "text": [
        "\n",
        "  1793  |  \u001b[94m  0.003628\u001b[0m  |    0.007935  |     0.457193  |             |  4.2s"
       ]
      },
      {
       "output_type": "stream",
       "stream": "stdout",
       "text": [
        "\n",
        "  1794  |    0.003747  |    0.007934  |     0.472300  |             |  4.2s"
       ]
      },
      {
       "output_type": "stream",
       "stream": "stdout",
       "text": [
        "\n",
        "  1795  |    0.003722  |    0.007943  |     0.468623  |             |  4.2s"
       ]
      },
      {
       "output_type": "stream",
       "stream": "stdout",
       "text": [
        "\n",
        "  1796  |    0.003680  |    0.007937  |     0.463614  |             |  4.2s"
       ]
      },
      {
       "output_type": "stream",
       "stream": "stdout",
       "text": [
        "\n",
        "  1797  |    0.003707  |    0.007915  |     0.468388  |             |  4.2s"
       ]
      },
      {
       "output_type": "stream",
       "stream": "stdout",
       "text": [
        "\n",
        "  1798  |    0.003648  |    0.007921  |     0.460605  |             |  4.2s"
       ]
      },
      {
       "output_type": "stream",
       "stream": "stdout",
       "text": [
        "\n",
        "  1799  |    0.003739  |    0.007914  |     0.472450  |             |  4.2s"
       ]
      },
      {
       "output_type": "stream",
       "stream": "stdout",
       "text": [
        "\n",
        "  1800  |  \u001b[94m  0.003596\u001b[0m  |    0.007926  |     0.453714  |             |  4.2s"
       ]
      },
      {
       "output_type": "stream",
       "stream": "stdout",
       "text": [
        "\n",
        "  1801  |    0.003677  |    0.007938  |     0.463230  |             |  4.2s"
       ]
      },
      {
       "output_type": "stream",
       "stream": "stdout",
       "text": [
        "\n",
        "  1802  |    0.003704  |    0.007914  |     0.467983  |             |  4.2s"
       ]
      },
      {
       "output_type": "stream",
       "stream": "stdout",
       "text": [
        "\n",
        "  1803  |    0.003723  |    0.007917  |     0.470293  |             |  4.2s"
       ]
      },
      {
       "output_type": "stream",
       "stream": "stdout",
       "text": [
        "\n",
        "  1804  |    0.003711  |    0.007936  |     0.467598  |             |  4.2s"
       ]
      },
      {
       "output_type": "stream",
       "stream": "stdout",
       "text": [
        "\n",
        "  1805  |    0.003648  |    0.007942  |     0.459359  |             |  4.2s"
       ]
      },
      {
       "output_type": "stream",
       "stream": "stdout",
       "text": [
        "\n",
        "  1806  |    0.003614  |    0.007936  |     0.455405  |             |  4.2s"
       ]
      },
      {
       "output_type": "stream",
       "stream": "stdout",
       "text": [
        "\n",
        "  1807  |    0.003602  |    0.007935  |     0.453926  |             |  4.2s"
       ]
      },
      {
       "output_type": "stream",
       "stream": "stdout",
       "text": [
        "\n",
        "  1808  |    0.003668  |    0.007935  |     0.462230  |             |  4.2s"
       ]
      },
      {
       "output_type": "stream",
       "stream": "stdout",
       "text": [
        "\n",
        "  1809  |    0.003705  |    0.007943  |     0.466393  |             |  4.2s"
       ]
      },
      {
       "output_type": "stream",
       "stream": "stdout",
       "text": [
        "\n",
        "  1810  |    0.003730  |    0.007928  |     0.470515  |             |  4.2s"
       ]
      },
      {
       "output_type": "stream",
       "stream": "stdout",
       "text": [
        "\n",
        "  1811  |    0.003729  |    0.007924  |     0.470643  |             |  4.2s"
       ]
      },
      {
       "output_type": "stream",
       "stream": "stdout",
       "text": [
        "\n",
        "  1812  |    0.003634  |    0.007926  |     0.458537  |             |  4.2s"
       ]
      },
      {
       "output_type": "stream",
       "stream": "stdout",
       "text": [
        "\n",
        "  1813  |    0.003671  |    0.007940  |     0.462334  |             |  4.2s"
       ]
      },
      {
       "output_type": "stream",
       "stream": "stdout",
       "text": [
        "\n",
        "  1814  |    0.003618  |    0.007941  |     0.455652  |             |  4.1s"
       ]
      },
      {
       "output_type": "stream",
       "stream": "stdout",
       "text": [
        "\n",
        "  1815  |    0.003626  |    0.007940  |     0.456702  |             |  4.2s"
       ]
      },
      {
       "output_type": "stream",
       "stream": "stdout",
       "text": [
        "\n",
        "  1816  |    0.003672  |    0.007932  |     0.462890  |             |  4.2s"
       ]
      },
      {
       "output_type": "stream",
       "stream": "stdout",
       "text": [
        "\n",
        "  1817  |    0.003680  |    0.007932  |     0.463865  |             |  4.2s"
       ]
      },
      {
       "output_type": "stream",
       "stream": "stdout",
       "text": [
        "\n",
        "  1818  |    0.003655  |    0.007940  |     0.460365  |             |  4.2s"
       ]
      },
      {
       "output_type": "stream",
       "stream": "stdout",
       "text": [
        "\n",
        "  1819  |    0.003662  |    0.007926  |     0.461992  |             |  4.2s"
       ]
      },
      {
       "output_type": "stream",
       "stream": "stdout",
       "text": [
        "\n",
        "  1820  |  \u001b[94m  0.003563\u001b[0m  |    0.007932  |     0.449145  |             |  4.2s"
       ]
      },
      {
       "output_type": "stream",
       "stream": "stdout",
       "text": [
        "\n",
        "  1821  |    0.003621  |    0.007924  |     0.456946  |             |  4.2s"
       ]
      },
      {
       "output_type": "stream",
       "stream": "stdout",
       "text": [
        "\n",
        "  1822  |    0.003650  |    0.007939  |     0.459760  |             |  4.2s"
       ]
      },
      {
       "output_type": "stream",
       "stream": "stdout",
       "text": [
        "\n",
        "  1823  |    0.003651  |    0.007923  |     0.460812  |             |  4.2s"
       ]
      },
      {
       "output_type": "stream",
       "stream": "stdout",
       "text": [
        "\n",
        "  1824  |    0.003611  |    0.007924  |     0.455739  |             |  4.1s"
       ]
      },
      {
       "output_type": "stream",
       "stream": "stdout",
       "text": [
        "\n",
        "  1825  |    0.003678  |    0.007919  |     0.464398  |             |  4.2s"
       ]
      },
      {
       "output_type": "stream",
       "stream": "stdout",
       "text": [
        "\n",
        "  1826  |    0.003612  |    0.007916  |     0.456308  |             |  4.2s"
       ]
      },
      {
       "output_type": "stream",
       "stream": "stdout",
       "text": [
        "\n",
        "  1827  |    0.003721  |    0.007918  |     0.469946  |             |  4.2s"
       ]
      },
      {
       "output_type": "stream",
       "stream": "stdout",
       "text": [
        "\n",
        "  1828  |    0.003648  |    0.007914  |     0.460885  |             |  4.2s"
       ]
      },
      {
       "output_type": "stream",
       "stream": "stdout",
       "text": [
        "\n",
        "  1829  |    0.003653  |    0.007920  |     0.461211  |             |  4.2s"
       ]
      },
      {
       "output_type": "stream",
       "stream": "stdout",
       "text": [
        "\n",
        "  1830  |  \u001b[94m  0.003546\u001b[0m  |    0.007940  |     0.446605  |             |  4.1s"
       ]
      },
      {
       "output_type": "stream",
       "stream": "stdout",
       "text": [
        "\n",
        "  1831  |    0.003609  |    0.007946  |     0.454173  |             |  4.2s"
       ]
      },
      {
       "output_type": "stream",
       "stream": "stdout",
       "text": [
        "\n",
        "  1832  |    0.003644  |    0.007937  |     0.459091  |             |  4.2s"
       ]
      },
      {
       "output_type": "stream",
       "stream": "stdout",
       "text": [
        "\n",
        "  1833  |    0.003565  |    0.007939  |     0.449062  |             |  4.1s"
       ]
      },
      {
       "output_type": "stream",
       "stream": "stdout",
       "text": [
        "\n",
        "  1834  |    0.003586  |    0.007934  |     0.451952  |             |  4.2s"
       ]
      },
      {
       "output_type": "stream",
       "stream": "stdout",
       "text": [
        "\n",
        "  1835  |    0.003642  |    0.007925  |     0.459614  |             |  4.1s"
       ]
      },
      {
       "output_type": "stream",
       "stream": "stdout",
       "text": [
        "\n",
        "  1836  |    0.003623  |    0.007923  |     0.457341  |             |  4.2s"
       ]
      },
      {
       "output_type": "stream",
       "stream": "stdout",
       "text": [
        "\n",
        "  1837  |    0.003595  |    0.007915  |     0.454137  |             |  4.2s"
       ]
      },
      {
       "output_type": "stream",
       "stream": "stdout",
       "text": [
        "\n",
        "  1838  |    0.003549  |    0.007929  |     0.447639  |             |  4.2s"
       ]
      },
      {
       "output_type": "stream",
       "stream": "stdout",
       "text": [
        "\n",
        "  1839  |    0.003672  |    0.007927  |     0.463200  |             |  4.2s"
       ]
      },
      {
       "output_type": "stream",
       "stream": "stdout",
       "text": [
        "\n",
        "  1840  |    0.003551  |    0.007913  |     0.448760  |             |  4.2s"
       ]
      },
      {
       "output_type": "stream",
       "stream": "stdout",
       "text": [
        "\n",
        "  1841  |  \u001b[94m  0.003474\u001b[0m  |    0.007939  |     0.437572  |             |  4.2s"
       ]
      },
      {
       "output_type": "stream",
       "stream": "stdout",
       "text": [
        "\n",
        "  1842  |    0.003547  |    0.007920  |     0.447790  |             |  4.2s"
       ]
      },
      {
       "output_type": "stream",
       "stream": "stdout",
       "text": [
        "\n",
        "  1843  |    0.003673  |    0.007914  |     0.464167  |             |  4.2s"
       ]
      },
      {
       "output_type": "stream",
       "stream": "stdout",
       "text": [
        "\n",
        "  1844  |    0.003525  |    0.007921  |     0.445011  |             |  4.2s"
       ]
      },
      {
       "output_type": "stream",
       "stream": "stdout",
       "text": [
        "\n",
        "  1845  |    0.003547  |    0.007920  |     0.447853  |             |  4.2s"
       ]
      },
      {
       "output_type": "stream",
       "stream": "stdout",
       "text": [
        "\n",
        "  1846  |    0.003547  |    0.007923  |     0.447646  |             |  4.2s"
       ]
      },
      {
       "output_type": "stream",
       "stream": "stdout",
       "text": [
        "\n",
        "  1847  |    0.003556  |    0.007928  |     0.448466  |             |  4.2s"
       ]
      },
      {
       "output_type": "stream",
       "stream": "stdout",
       "text": [
        "\n",
        "  1848  |    0.003610  |    0.007919  |     0.455893  |             |  4.2s"
       ]
      },
      {
       "output_type": "stream",
       "stream": "stdout",
       "text": [
        "\n",
        "  1849  |    0.003540  |    0.007919  |     0.446992  |             |  4.2s"
       ]
      },
      {
       "output_type": "stream",
       "stream": "stdout",
       "text": [
        "\n",
        "  1850  |    0.003659  |    0.007930  |     0.461475  |             |  4.2s"
       ]
      },
      {
       "output_type": "stream",
       "stream": "stdout",
       "text": [
        "\n",
        "  1851  |    0.003557  |    0.007912  |     0.449529  |             |  4.2s"
       ]
      },
      {
       "output_type": "stream",
       "stream": "stdout",
       "text": [
        "\n",
        "  1852  |    0.003584  |    0.007931  |     0.451897  |             |  4.2s"
       ]
      },
      {
       "output_type": "stream",
       "stream": "stdout",
       "text": [
        "\n",
        "  1853  |    0.003578  |    0.007918  |     0.451922  |             |  4.2s"
       ]
      },
      {
       "output_type": "stream",
       "stream": "stdout",
       "text": [
        "\n",
        "  1854  |    0.003548  |    0.007929  |     0.447435  |             |  4.2s"
       ]
      },
      {
       "output_type": "stream",
       "stream": "stdout",
       "text": [
        "\n",
        "  1855  |    0.003499  |    0.007927  |     0.441397  |             |  4.2s"
       ]
      },
      {
       "output_type": "stream",
       "stream": "stdout",
       "text": [
        "\n",
        "  1856  |    0.003506  |    0.007946  |     0.441252  |             |  4.2s"
       ]
      },
      {
       "output_type": "stream",
       "stream": "stdout",
       "text": [
        "\n",
        "  1857  |    0.003625  |  \u001b[32m  0.007906\u001b[0m  |     0.458476  |             |  4.1s"
       ]
      },
      {
       "output_type": "stream",
       "stream": "stdout",
       "text": [
        "\n",
        "  1858  |    0.003589  |    0.007930  |     0.452532  |             |  4.2s"
       ]
      },
      {
       "output_type": "stream",
       "stream": "stdout",
       "text": [
        "\n",
        "  1859  |    0.003546  |    0.007915  |     0.448046  |             |  4.2s"
       ]
      },
      {
       "output_type": "stream",
       "stream": "stdout",
       "text": [
        "\n",
        "  1860  |    0.003508  |    0.007932  |     0.442283  |             |  4.1s"
       ]
      },
      {
       "output_type": "stream",
       "stream": "stdout",
       "text": [
        "\n",
        "  1861  |    0.003523  |    0.007925  |     0.444486  |             |  4.2s"
       ]
      },
      {
       "output_type": "stream",
       "stream": "stdout",
       "text": [
        "\n",
        "  1862  |    0.003541  |    0.007909  |     0.447656  |             |  4.2s"
       ]
      },
      {
       "output_type": "stream",
       "stream": "stdout",
       "text": [
        "\n",
        "  1863  |    0.003504  |    0.007914  |     0.442774  |             |  4.2s"
       ]
      },
      {
       "output_type": "stream",
       "stream": "stdout",
       "text": [
        "\n",
        "  1864  |    0.003545  |    0.007915  |     0.447926  |             |  4.2s"
       ]
      },
      {
       "output_type": "stream",
       "stream": "stdout",
       "text": [
        "\n",
        "  1865  |    0.003583  |  \u001b[32m  0.007902\u001b[0m  |     0.453415  |             |  4.2s"
       ]
      },
      {
       "output_type": "stream",
       "stream": "stdout",
       "text": [
        "\n",
        "  1866  |    0.003545  |    0.007924  |     0.447358  |             |  4.2s"
       ]
      },
      {
       "output_type": "stream",
       "stream": "stdout",
       "text": [
        "\n",
        "  1867  |    0.003611  |    0.007908  |     0.456562  |             |  4.1s"
       ]
      },
      {
       "output_type": "stream",
       "stream": "stdout",
       "text": [
        "\n",
        "  1868  |    0.003474  |    0.007919  |     0.438726  |             |  4.2s"
       ]
      },
      {
       "output_type": "stream",
       "stream": "stdout",
       "text": [
        "\n",
        "  1869  |    0.003487  |    0.007924  |     0.439985  |             |  4.2s"
       ]
      },
      {
       "output_type": "stream",
       "stream": "stdout",
       "text": [
        "\n",
        "  1870  |  \u001b[94m  0.003434\u001b[0m  |    0.007929  |     0.433065  |             |  4.2s"
       ]
      },
      {
       "output_type": "stream",
       "stream": "stdout",
       "text": [
        "\n",
        "  1871  |    0.003509  |    0.007920  |     0.443073  |             |  4.2s"
       ]
      },
      {
       "output_type": "stream",
       "stream": "stdout",
       "text": [
        "\n",
        "  1872  |    0.003556  |    0.007909  |     0.449584  |             |  4.2s"
       ]
      },
      {
       "output_type": "stream",
       "stream": "stdout",
       "text": [
        "\n",
        "  1873  |    0.003588  |    0.007931  |     0.452412  |             |  4.2s"
       ]
      },
      {
       "output_type": "stream",
       "stream": "stdout",
       "text": [
        "\n",
        "  1874  |    0.003562  |    0.007927  |     0.449317  |             |  4.2s"
       ]
      },
      {
       "output_type": "stream",
       "stream": "stdout",
       "text": [
        "\n",
        "  1875  |  \u001b[94m  0.003431\u001b[0m  |    0.007932  |     0.432554  |             |  4.2s"
       ]
      },
      {
       "output_type": "stream",
       "stream": "stdout",
       "text": [
        "\n",
        "  1876  |    0.003541  |    0.007923  |     0.446957  |             |  4.2s"
       ]
      },
      {
       "output_type": "stream",
       "stream": "stdout",
       "text": [
        "\n",
        "  1877  |    0.003508  |    0.007924  |     0.442705  |             |  4.2s"
       ]
      },
      {
       "output_type": "stream",
       "stream": "stdout",
       "text": [
        "\n",
        "  1878  |    0.003519  |    0.007926  |     0.443910  |             |  4.2s"
       ]
      },
      {
       "output_type": "stream",
       "stream": "stdout",
       "text": [
        "\n",
        "  1879  |    0.003458  |    0.007921  |     0.436536  |             |  4.2s"
       ]
      },
      {
       "output_type": "stream",
       "stream": "stdout",
       "text": [
        "\n",
        "  1880  |    0.003486  |    0.007925  |     0.439936  |             |  4.2s"
       ]
      },
      {
       "output_type": "stream",
       "stream": "stdout",
       "text": [
        "\n",
        "  1881  |    0.003495  |    0.007914  |     0.441621  |             |  4.2s"
       ]
      },
      {
       "output_type": "stream",
       "stream": "stdout",
       "text": [
        "\n",
        "  1882  |    0.003600  |    0.007910  |     0.455138  |             |  4.2s"
       ]
      },
      {
       "output_type": "stream",
       "stream": "stdout",
       "text": [
        "\n",
        "  1883  |    0.003527  |    0.007911  |     0.445866  |             |  4.2s"
       ]
      },
      {
       "output_type": "stream",
       "stream": "stdout",
       "text": [
        "\n",
        "  1884  |    0.003549  |    0.007914  |     0.448425  |             |  4.2s"
       ]
      },
      {
       "output_type": "stream",
       "stream": "stdout",
       "text": [
        "\n",
        "  1885  |    0.003477  |    0.007921  |     0.438963  |             |  4.2s"
       ]
      },
      {
       "output_type": "stream",
       "stream": "stdout",
       "text": [
        "\n",
        "  1886  |    0.003576  |    0.007925  |     0.451209  |             |  4.2s"
       ]
      },
      {
       "output_type": "stream",
       "stream": "stdout",
       "text": [
        "\n",
        "  1887  |    0.003547  |    0.007916  |     0.448057  |             |  4.2s"
       ]
      },
      {
       "output_type": "stream",
       "stream": "stdout",
       "text": [
        "\n",
        "  1888  |  \u001b[94m  0.003403\u001b[0m  |    0.007912  |     0.430134  |             |  4.2s"
       ]
      },
      {
       "output_type": "stream",
       "stream": "stdout",
       "text": [
        "\n",
        "  1889  |    0.003446  |    0.007903  |     0.435997  |             |  4.2s"
       ]
      },
      {
       "output_type": "stream",
       "stream": "stdout",
       "text": [
        "\n",
        "  1890  |    0.003457  |    0.007903  |     0.437395  |             |  4.2s"
       ]
      },
      {
       "output_type": "stream",
       "stream": "stdout",
       "text": [
        "\n",
        "  1891  |    0.003527  |    0.007909  |     0.445948  |             |  4.2s"
       ]
      },
      {
       "output_type": "stream",
       "stream": "stdout",
       "text": [
        "\n",
        "  1892  |    0.003454  |    0.007929  |     0.435623  |             |  4.2s"
       ]
      },
      {
       "output_type": "stream",
       "stream": "stdout",
       "text": [
        "\n",
        "  1893  |    0.003471  |    0.007933  |     0.437541  |             |  4.2s"
       ]
      },
      {
       "output_type": "stream",
       "stream": "stdout",
       "text": [
        "\n",
        "  1894  |    0.003515  |    0.007936  |     0.442881  |             |  4.2s"
       ]
      },
      {
       "output_type": "stream",
       "stream": "stdout",
       "text": [
        "\n",
        "  1895  |    0.003475  |    0.007929  |     0.438237  |             |  4.2s"
       ]
      },
      {
       "output_type": "stream",
       "stream": "stdout",
       "text": [
        "\n",
        "  1896  |    0.003437  |    0.007937  |     0.432964  |             |  4.2s"
       ]
      },
      {
       "output_type": "stream",
       "stream": "stdout",
       "text": [
        "\n",
        "  1897  |    0.003470  |    0.007943  |     0.436901  |             |  4.2s"
       ]
      },
      {
       "output_type": "stream",
       "stream": "stdout",
       "text": [
        "\n",
        "  1898  |    0.003458  |    0.007940  |     0.435518  |             |  4.2s"
       ]
      },
      {
       "output_type": "stream",
       "stream": "stdout",
       "text": [
        "\n",
        "  1899  |    0.003597  |    0.007925  |     0.453888  |             |  4.2s"
       ]
      },
      {
       "output_type": "stream",
       "stream": "stdout",
       "text": [
        "\n",
        "  1900  |    0.003406  |    0.007920  |     0.430025  |             |  4.2s"
       ]
      },
      {
       "output_type": "stream",
       "stream": "stdout",
       "text": [
        "\n",
        "  1901  |    0.003447  |    0.007937  |     0.434316  |             |  4.2s"
       ]
      },
      {
       "output_type": "stream",
       "stream": "stdout",
       "text": [
        "\n",
        "  1902  |    0.003438  |    0.007953  |     0.432280  |             |  4.2s"
       ]
      },
      {
       "output_type": "stream",
       "stream": "stdout",
       "text": [
        "\n",
        "  1903  |    0.003517  |    0.007930  |     0.443470  |             |  4.2s"
       ]
      },
      {
       "output_type": "stream",
       "stream": "stdout",
       "text": [
        "\n",
        "  1904  |    0.003483  |    0.007921  |     0.439730  |             |  4.2s"
       ]
      },
      {
       "output_type": "stream",
       "stream": "stdout",
       "text": [
        "\n",
        "  1905  |    0.003472  |    0.007917  |     0.438525  |             |  4.2s"
       ]
      },
      {
       "output_type": "stream",
       "stream": "stdout",
       "text": [
        "\n",
        "  1906  |    0.003497  |    0.007933  |     0.440832  |             |  4.2s"
       ]
      },
      {
       "output_type": "stream",
       "stream": "stdout",
       "text": [
        "\n",
        "  1907  |  \u001b[94m  0.003390\u001b[0m  |    0.007919  |     0.428037  |             |  4.2s"
       ]
      },
      {
       "output_type": "stream",
       "stream": "stdout",
       "text": [
        "\n",
        "  1908  |    0.003488  |    0.007936  |     0.439499  |             |  4.2s"
       ]
      },
      {
       "output_type": "stream",
       "stream": "stdout",
       "text": [
        "\n",
        "  1909  |  \u001b[94m  0.003356\u001b[0m  |    0.007925  |     0.423432  |             |  4.2s"
       ]
      },
      {
       "output_type": "stream",
       "stream": "stdout",
       "text": [
        "\n",
        "  1910  |    0.003412  |    0.007911  |     0.431230  |             |  4.2s"
       ]
      },
      {
       "output_type": "stream",
       "stream": "stdout",
       "text": [
        "\n",
        "  1911  |    0.003395  |    0.007932  |     0.428063  |             |  4.2s"
       ]
      },
      {
       "output_type": "stream",
       "stream": "stdout",
       "text": [
        "\n",
        "  1912  |    0.003446  |    0.007931  |     0.434557  |             |  4.2s"
       ]
      },
      {
       "output_type": "stream",
       "stream": "stdout",
       "text": [
        "\n",
        "  1913  |    0.003446  |    0.007915  |     0.435429  |             |  4.2s"
       ]
      },
      {
       "output_type": "stream",
       "stream": "stdout",
       "text": [
        "\n",
        "  1914  |    0.003383  |    0.007923  |     0.427025  |             |  4.2s"
       ]
      },
      {
       "output_type": "stream",
       "stream": "stdout",
       "text": [
        "\n",
        "  1915  |  \u001b[94m  0.003323\u001b[0m  |    0.007922  |     0.419529  |             |  4.2s"
       ]
      },
      {
       "output_type": "stream",
       "stream": "stdout",
       "text": [
        "\n",
        "  1916  |    0.003457  |    0.007921  |     0.436405  |             |  4.2s"
       ]
      },
      {
       "output_type": "stream",
       "stream": "stdout",
       "text": [
        "\n",
        "  1917  |    0.003449  |    0.007922  |     0.435309  |             |  4.2s"
       ]
      },
      {
       "output_type": "stream",
       "stream": "stdout",
       "text": [
        "\n",
        "  1918  |    0.003488  |    0.007920  |     0.440418  |             |  4.2s"
       ]
      },
      {
       "output_type": "stream",
       "stream": "stdout",
       "text": [
        "\n",
        "  1919  |    0.003459  |    0.007923  |     0.436553  |             |  4.2s"
       ]
      },
      {
       "output_type": "stream",
       "stream": "stdout",
       "text": [
        "\n",
        "  1920  |    0.003443  |    0.007921  |     0.434659  |             |  4.2s"
       ]
      },
      {
       "output_type": "stream",
       "stream": "stdout",
       "text": [
        "\n",
        "  1921  |    0.003373  |    0.007931  |     0.425258  |             |  4.2s"
       ]
      },
      {
       "output_type": "stream",
       "stream": "stdout",
       "text": [
        "\n",
        "  1922  |    0.003424  |    0.007931  |     0.431753  |             |  4.2s"
       ]
      },
      {
       "output_type": "stream",
       "stream": "stdout",
       "text": [
        "\n",
        "  1923  |    0.003408  |    0.007930  |     0.429744  |             |  4.2s"
       ]
      },
      {
       "output_type": "stream",
       "stream": "stdout",
       "text": [
        "\n",
        "  1924  |    0.003422  |    0.007905  |     0.432956  |             |  4.2s"
       ]
      },
      {
       "output_type": "stream",
       "stream": "stdout",
       "text": [
        "\n",
        "  1925  |    0.003360  |    0.007923  |     0.424079  |             |  4.2s"
       ]
      },
      {
       "output_type": "stream",
       "stream": "stdout",
       "text": [
        "\n",
        "  1926  |    0.003363  |    0.007926  |     0.424349  |             |  4.2s"
       ]
      },
      {
       "output_type": "stream",
       "stream": "stdout",
       "text": [
        "\n",
        "  1927  |    0.003417  |    0.007915  |     0.431688  |             |  4.2s"
       ]
      },
      {
       "output_type": "stream",
       "stream": "stdout",
       "text": [
        "\n",
        "  1928  |    0.003405  |  \u001b[32m  0.007902\u001b[0m  |     0.430906  |             |  4.2s"
       ]
      },
      {
       "output_type": "stream",
       "stream": "stdout",
       "text": [
        "\n",
        "  1929  |    0.003457  |    0.007915  |     0.436844  |             |  4.2s"
       ]
      },
      {
       "output_type": "stream",
       "stream": "stdout",
       "text": [
        "\n",
        "  1930  |    0.003470  |    0.007941  |     0.436964  |             |  4.2s"
       ]
      },
      {
       "output_type": "stream",
       "stream": "stdout",
       "text": [
        "\n",
        "  1931  |    0.003453  |    0.007913  |     0.436382  |             |  4.2s"
       ]
      },
      {
       "output_type": "stream",
       "stream": "stdout",
       "text": [
        "\n",
        "  1932  |    0.003384  |    0.007910  |     0.427839  |             |  4.2s"
       ]
      },
      {
       "output_type": "stream",
       "stream": "stdout",
       "text": [
        "\n",
        "  1933  |    0.003393  |    0.007914  |     0.428716  |             |  4.2s"
       ]
      },
      {
       "output_type": "stream",
       "stream": "stdout",
       "text": [
        "\n",
        "  1934  |    0.003362  |    0.007924  |     0.424316  |             |  4.2s"
       ]
      },
      {
       "output_type": "stream",
       "stream": "stdout",
       "text": [
        "\n",
        "  1935  |    0.003346  |    0.007927  |     0.422121  |             |  4.2s"
       ]
      },
      {
       "output_type": "stream",
       "stream": "stdout",
       "text": [
        "\n",
        "  1936  |    0.003399  |    0.007924  |     0.428966  |             |  4.2s"
       ]
      },
      {
       "output_type": "stream",
       "stream": "stdout",
       "text": [
        "\n",
        "  1937  |    0.003448  |    0.007931  |     0.434772  |             |  4.2s"
       ]
      },
      {
       "output_type": "stream",
       "stream": "stdout",
       "text": [
        "\n",
        "  1938  |    0.003376  |    0.007935  |     0.425453  |             |  4.2s"
       ]
      },
      {
       "output_type": "stream",
       "stream": "stdout",
       "text": [
        "\n",
        "  1939  |    0.003378  |    0.007919  |     0.426529  |             |  4.2s"
       ]
      },
      {
       "output_type": "stream",
       "stream": "stdout",
       "text": [
        "\n",
        "  1940  |    0.003401  |    0.007928  |     0.428949  |             |  4.2s"
       ]
      },
      {
       "output_type": "stream",
       "stream": "stdout",
       "text": [
        "\n",
        "  1941  |    0.003375  |    0.007920  |     0.426153  |             |  4.2s"
       ]
      },
      {
       "output_type": "stream",
       "stream": "stdout",
       "text": [
        "\n",
        "  1942  |    0.003329  |    0.007921  |     0.420305  |             |  4.2s"
       ]
      },
      {
       "output_type": "stream",
       "stream": "stdout",
       "text": [
        "\n",
        "  1943  |    0.003394  |    0.007935  |     0.427704  |             |  4.2s"
       ]
      },
      {
       "output_type": "stream",
       "stream": "stdout",
       "text": [
        "\n",
        "  1944  |  \u001b[94m  0.003295\u001b[0m  |    0.007909  |     0.416634  |             |  4.2s"
       ]
      },
      {
       "output_type": "stream",
       "stream": "stdout",
       "text": [
        "\n",
        "  1945  |    0.003337  |    0.007910  |     0.421873  |             |  4.1s"
       ]
      },
      {
       "output_type": "stream",
       "stream": "stdout",
       "text": [
        "\n",
        "  1946  |  \u001b[94m  0.003283\u001b[0m  |    0.007914  |     0.414801  |             |  4.2s"
       ]
      },
      {
       "output_type": "stream",
       "stream": "stdout",
       "text": [
        "\n",
        "  1947  |    0.003459  |    0.007912  |     0.437176  |             |  4.2s"
       ]
      },
      {
       "output_type": "stream",
       "stream": "stdout",
       "text": [
        "\n",
        "  1948  |    0.003291  |    0.007929  |     0.415032  |             |  4.2s"
       ]
      },
      {
       "output_type": "stream",
       "stream": "stdout",
       "text": [
        "\n",
        "  1949  |    0.003390  |    0.007914  |     0.428339  |             |  4.2s"
       ]
      },
      {
       "output_type": "stream",
       "stream": "stdout",
       "text": [
        "\n",
        "  1950  |    0.003384  |    0.007919  |     0.427322  |             |  4.2s"
       ]
      },
      {
       "output_type": "stream",
       "stream": "stdout",
       "text": [
        "\n",
        "  1951  |    0.003374  |    0.007917  |     0.426103  |             |  4.2s"
       ]
      },
      {
       "output_type": "stream",
       "stream": "stdout",
       "text": [
        "\n",
        "  1952  |    0.003377  |    0.007913  |     0.426687  |             |  4.2s"
       ]
      },
      {
       "output_type": "stream",
       "stream": "stdout",
       "text": [
        "\n",
        "  1953  |    0.003363  |    0.007921  |     0.424559  |             |  4.2s"
       ]
      },
      {
       "output_type": "stream",
       "stream": "stdout",
       "text": [
        "\n",
        "  1954  |    0.003336  |    0.007907  |     0.421869  |             |  4.2s"
       ]
      },
      {
       "output_type": "stream",
       "stream": "stdout",
       "text": [
        "\n",
        "  1955  |    0.003374  |    0.007905  |     0.426867  |             |  4.2s"
       ]
      },
      {
       "output_type": "stream",
       "stream": "stdout",
       "text": [
        "\n",
        "  1956  |    0.003324  |    0.007907  |     0.420370  |             |  4.2s"
       ]
      },
      {
       "output_type": "stream",
       "stream": "stdout",
       "text": [
        "\n",
        "  1957  |    0.003317  |    0.007907  |     0.419492  |             |  4.2s"
       ]
      },
      {
       "output_type": "stream",
       "stream": "stdout",
       "text": [
        "\n",
        "  1958  |    0.003293  |    0.007911  |     0.416317  |             |  4.2s"
       ]
      },
      {
       "output_type": "stream",
       "stream": "stdout",
       "text": [
        "\n",
        "  1959  |    0.003346  |    0.007927  |     0.422058  |             |  4.2s"
       ]
      },
      {
       "output_type": "stream",
       "stream": "stdout",
       "text": [
        "\n",
        "  1960  |    0.003403  |    0.007928  |     0.429267  |             |  4.2s"
       ]
      },
      {
       "output_type": "stream",
       "stream": "stdout",
       "text": [
        "\n",
        "  1961  |    0.003389  |    0.007926  |     0.427502  |             |  4.2s"
       ]
      },
      {
       "output_type": "stream",
       "stream": "stdout",
       "text": [
        "\n",
        "  1962  |    0.003303  |    0.007931  |     0.416414  |             |  4.1s"
       ]
      },
      {
       "output_type": "stream",
       "stream": "stdout",
       "text": [
        "\n",
        "  1963  |    0.003287  |    0.007941  |     0.413987  |             |  4.2s"
       ]
      },
      {
       "output_type": "stream",
       "stream": "stdout",
       "text": [
        "\n",
        "  1964  |    0.003285  |    0.007907  |     0.415419  |             |  4.2s"
       ]
      },
      {
       "output_type": "stream",
       "stream": "stdout",
       "text": [
        "\n",
        "  1965  |    0.003300  |    0.007929  |     0.416240  |             |  4.2s"
       ]
      },
      {
       "output_type": "stream",
       "stream": "stdout",
       "text": [
        "\n",
        "  1966  |  \u001b[94m  0.003271\u001b[0m  |    0.007925  |     0.412718  |             |  4.2s"
       ]
      },
      {
       "output_type": "stream",
       "stream": "stdout",
       "text": [
        "\n",
        "  1967  |    0.003319  |    0.007919  |     0.419162  |             |  4.2s"
       ]
      },
      {
       "output_type": "stream",
       "stream": "stdout",
       "text": [
        "\n",
        "  1968  |    0.003328  |    0.007927  |     0.419853  |             |  4.1s"
       ]
      },
      {
       "output_type": "stream",
       "stream": "stdout",
       "text": [
        "\n",
        "  1969  |    0.003343  |    0.007933  |     0.421374  |             |  4.2s"
       ]
      },
      {
       "output_type": "stream",
       "stream": "stdout",
       "text": [
        "\n",
        "  1970  |    0.003347  |    0.007911  |     0.423107  |             |  4.2s"
       ]
      },
      {
       "output_type": "stream",
       "stream": "stdout",
       "text": [
        "\n",
        "  1971  |    0.003366  |    0.007933  |     0.424302  |             |  4.2s"
       ]
      },
      {
       "output_type": "stream",
       "stream": "stdout",
       "text": [
        "\n",
        "  1972  |    0.003387  |    0.007911  |     0.428078  |             |  4.2s"
       ]
      },
      {
       "output_type": "stream",
       "stream": "stdout",
       "text": [
        "\n",
        "  1973  |    0.003326  |    0.007927  |     0.419532  |             |  4.2s"
       ]
      },
      {
       "output_type": "stream",
       "stream": "stdout",
       "text": [
        "\n",
        "  1974  |    0.003315  |    0.007909  |     0.419102  |             |  4.2s"
       ]
      },
      {
       "output_type": "stream",
       "stream": "stdout",
       "text": [
        "\n",
        "  1975  |    0.003327  |    0.007925  |     0.419742  |             |  4.2s"
       ]
      },
      {
       "output_type": "stream",
       "stream": "stdout",
       "text": [
        "\n",
        "  1976  |    0.003341  |    0.007921  |     0.421817  |             |  4.2s"
       ]
      },
      {
       "output_type": "stream",
       "stream": "stdout",
       "text": [
        "\n",
        "  1977  |    0.003314  |    0.007927  |     0.417981  |             |  4.2s"
       ]
      },
      {
       "output_type": "stream",
       "stream": "stdout",
       "text": [
        "\n",
        "  1978  |    0.003338  |    0.007914  |     0.421863  |             |  4.2s"
       ]
      },
      {
       "output_type": "stream",
       "stream": "stdout",
       "text": [
        "\n",
        "  1979  |    0.003333  |    0.007917  |     0.421022  |             |  4.1s"
       ]
      },
      {
       "output_type": "stream",
       "stream": "stdout",
       "text": [
        "\n",
        "  1980  |    0.003307  |    0.007907  |     0.418198  |             |  4.2s"
       ]
      },
      {
       "output_type": "stream",
       "stream": "stdout",
       "text": [
        "\n",
        "  1981  |    0.003283  |    0.007916  |     0.414769  |             |  4.2s"
       ]
      },
      {
       "output_type": "stream",
       "stream": "stdout",
       "text": [
        "\n",
        "  1982  |  \u001b[94m  0.003253\u001b[0m  |    0.007919  |     0.410765  |             |  4.2s"
       ]
      },
      {
       "output_type": "stream",
       "stream": "stdout",
       "text": [
        "\n",
        "  1983  |    0.003259  |    0.007923  |     0.411359  |             |  4.2s"
       ]
      },
      {
       "output_type": "stream",
       "stream": "stdout",
       "text": [
        "\n",
        "  1984  |    0.003281  |    0.007918  |     0.414342  |             |  4.2s"
       ]
      },
      {
       "output_type": "stream",
       "stream": "stdout",
       "text": [
        "\n",
        "  1985  |    0.003306  |    0.007921  |     0.417356  |             |  4.2s"
       ]
      },
      {
       "output_type": "stream",
       "stream": "stdout",
       "text": [
        "\n",
        "  1986  |  \u001b[94m  0.003222\u001b[0m  |    0.007920  |     0.406829  |             |  4.1s"
       ]
      },
      {
       "output_type": "stream",
       "stream": "stdout",
       "text": [
        "\n",
        "  1987  |    0.003305  |    0.007927  |     0.416886  |             |  4.2s"
       ]
      },
      {
       "output_type": "stream",
       "stream": "stdout",
       "text": [
        "\n",
        "  1988  |    0.003291  |    0.007930  |     0.414991  |             |  4.2s"
       ]
      },
      {
       "output_type": "stream",
       "stream": "stdout",
       "text": [
        "\n",
        "  1989  |    0.003304  |    0.007937  |     0.416252  |             |  4.2s"
       ]
      },
      {
       "output_type": "stream",
       "stream": "stdout",
       "text": [
        "\n",
        "  1990  |    0.003240  |    0.007928  |     0.408669  |             |  4.2s"
       ]
      },
      {
       "output_type": "stream",
       "stream": "stdout",
       "text": [
        "\n",
        "  1991  |    0.003275  |    0.007903  |     0.414398  |             |  4.2s"
       ]
      },
      {
       "output_type": "stream",
       "stream": "stdout",
       "text": [
        "\n",
        "  1992  |  \u001b[94m  0.003202\u001b[0m  |    0.007911  |     0.404794  |             |  4.2s"
       ]
      },
      {
       "output_type": "stream",
       "stream": "stdout",
       "text": [
        "\n",
        "  1993  |    0.003245  |    0.007905  |     0.410511  |             |  4.2s"
       ]
      },
      {
       "output_type": "stream",
       "stream": "stdout",
       "text": [
        "\n",
        "  1994  |    0.003301  |    0.007911  |     0.417285  |             |  4.1s"
       ]
      },
      {
       "output_type": "stream",
       "stream": "stdout",
       "text": [
        "\n",
        "  1995  |    0.003219  |    0.007924  |     0.406202  |             |  4.2s"
       ]
      },
      {
       "output_type": "stream",
       "stream": "stdout",
       "text": [
        "\n",
        "  1996  |    0.003222  |    0.007918  |     0.406837  |             |  4.1s"
       ]
      },
      {
       "output_type": "stream",
       "stream": "stdout",
       "text": [
        "\n",
        "  1997  |    0.003273  |    0.007921  |     0.413269  |             |  4.2s"
       ]
      },
      {
       "output_type": "stream",
       "stream": "stdout",
       "text": [
        "\n",
        "  1998  |    0.003261  |    0.007916  |     0.412015  |             |  4.2s"
       ]
      },
      {
       "output_type": "stream",
       "stream": "stdout",
       "text": [
        "\n",
        "  1999  |    0.003237  |    0.007905  |     0.409530  |             |  4.2s"
       ]
      },
      {
       "output_type": "stream",
       "stream": "stdout",
       "text": [
        "\n",
        "  2000  |    0.003208  |  \u001b[32m  0.007902\u001b[0m  |     0.406057  |             |  4.2s"
       ]
      },
      {
       "output_type": "stream",
       "stream": "stdout",
       "text": [
        "\n",
        "  2001  |    0.003207  |    0.007916  |     0.405169  |             |  4.2s"
       ]
      },
      {
       "output_type": "stream",
       "stream": "stdout",
       "text": [
        "\n",
        "  2002  |  \u001b[94m  0.003196\u001b[0m  |    0.007925  |     0.403290  |             |  4.2s"
       ]
      },
      {
       "output_type": "stream",
       "stream": "stdout",
       "text": [
        "\n",
        "  2003  |    0.003263  |    0.007933  |     0.411343  |             |  4.2s"
       ]
      },
      {
       "output_type": "stream",
       "stream": "stdout",
       "text": [
        "\n",
        "  2004  |    0.003205  |    0.007925  |     0.404479  |             |  4.2s"
       ]
      },
      {
       "output_type": "stream",
       "stream": "stdout",
       "text": [
        "\n",
        "  2005  |    0.003226  |    0.007932  |     0.406709  |             |  4.2s"
       ]
      },
      {
       "output_type": "stream",
       "stream": "stdout",
       "text": [
        "\n",
        "  2006  |    0.003256  |    0.007925  |     0.410865  |             |  4.2s"
       ]
      },
      {
       "output_type": "stream",
       "stream": "stdout",
       "text": [
        "\n",
        "  2007  |    0.003258  |    0.007928  |     0.410935  |             |  4.2s"
       ]
      },
      {
       "output_type": "stream",
       "stream": "stdout",
       "text": [
        "\n",
        "  2008  |  \u001b[94m  0.003171\u001b[0m  |    0.007940  |     0.399406  |             |  4.2s"
       ]
      },
      {
       "output_type": "stream",
       "stream": "stdout",
       "text": [
        "\n",
        "  2009  |    0.003236  |    0.007938  |     0.407588  |             |  4.2s"
       ]
      },
      {
       "output_type": "stream",
       "stream": "stdout",
       "text": [
        "\n",
        "  2010  |    0.003213  |    0.007936  |     0.404846  |             |  4.2s"
       ]
      },
      {
       "output_type": "stream",
       "stream": "stdout",
       "text": [
        "\n",
        "  2011  |    0.003222  |    0.007927  |     0.406451  |             |  4.2s"
       ]
      },
      {
       "output_type": "stream",
       "stream": "stdout",
       "text": [
        "\n",
        "  2012  |    0.003279  |    0.007934  |     0.413217  |             |  4.2s"
       ]
      },
      {
       "output_type": "stream",
       "stream": "stdout",
       "text": [
        "\n",
        "  2013  |    0.003226  |    0.007933  |     0.406687  |             |  4.2s"
       ]
      },
      {
       "output_type": "stream",
       "stream": "stdout",
       "text": [
        "\n",
        "  2014  |    0.003205  |    0.007928  |     0.404307  |             |  4.2s"
       ]
      },
      {
       "output_type": "stream",
       "stream": "stdout",
       "text": [
        "\n",
        "  2015  |    0.003172  |    0.007906  |     0.401175  |             |  4.2s"
       ]
      },
      {
       "output_type": "stream",
       "stream": "stdout",
       "text": [
        "\n",
        "  2016  |    0.003301  |    0.007926  |     0.416475  |             |  4.2s"
       ]
      },
      {
       "output_type": "stream",
       "stream": "stdout",
       "text": [
        "\n",
        "  2017  |    0.003274  |    0.007931  |     0.412887  |             |  4.2s"
       ]
      },
      {
       "output_type": "stream",
       "stream": "stdout",
       "text": [
        "\n",
        "  2018  |    0.003236  |    0.007918  |     0.408636  |             |  4.2s"
       ]
      },
      {
       "output_type": "stream",
       "stream": "stdout",
       "text": [
        "\n",
        "  2019  |    0.003187  |    0.007924  |     0.402154  |             |  4.2s"
       ]
      },
      {
       "output_type": "stream",
       "stream": "stdout",
       "text": [
        "\n",
        "  2020  |    0.003247  |    0.007916  |     0.410249  |             |  4.2s"
       ]
      },
      {
       "output_type": "stream",
       "stream": "stdout",
       "text": [
        "\n",
        "  2021  |    0.003205  |    0.007923  |     0.404504  |             |  4.2s"
       ]
      },
      {
       "output_type": "stream",
       "stream": "stdout",
       "text": [
        "\n",
        "  2022  |    0.003184  |    0.007933  |     0.401309  |             |  4.2s"
       ]
      },
      {
       "output_type": "stream",
       "stream": "stdout",
       "text": [
        "\n",
        "  2023  |    0.003230  |    0.007917  |     0.408030  |             |  4.1s"
       ]
      },
      {
       "output_type": "stream",
       "stream": "stdout",
       "text": [
        "\n",
        "  2024  |    0.003240  |    0.007920  |     0.409119  |             |  4.2s"
       ]
      },
      {
       "output_type": "stream",
       "stream": "stdout",
       "text": [
        "\n",
        "  2025  |    0.003178  |    0.007917  |     0.401425  |             |  4.2s"
       ]
      },
      {
       "output_type": "stream",
       "stream": "stdout",
       "text": [
        "\n",
        "  2026  |    0.003200  |    0.007904  |     0.404932  |             |  4.2s"
       ]
      },
      {
       "output_type": "stream",
       "stream": "stdout",
       "text": [
        "\n",
        "  2027  |    0.003253  |    0.007903  |     0.411602  |             |  4.2s"
       ]
      },
      {
       "output_type": "stream",
       "stream": "stdout",
       "text": [
        "\n",
        "  2028  |  \u001b[94m  0.003125\u001b[0m  |    0.007904  |     0.395329  |             |  4.2s"
       ]
      },
      {
       "output_type": "stream",
       "stream": "stdout",
       "text": [
        "\n",
        "  2029  |    0.003184  |    0.007925  |     0.401784  |             |  4.2s"
       ]
      },
      {
       "output_type": "stream",
       "stream": "stdout",
       "text": [
        "\n",
        "  2030  |    0.003228  |  \u001b[32m  0.007891\u001b[0m  |     0.409051  |             |  4.1s"
       ]
      },
      {
       "output_type": "stream",
       "stream": "stdout",
       "text": [
        "\n",
        "  2031  |    0.003130  |    0.007914  |     0.395487  |             |  4.2s"
       ]
      },
      {
       "output_type": "stream",
       "stream": "stdout",
       "text": [
        "\n",
        "  2032  |    0.003252  |    0.007923  |     0.410438  |             |  4.2s"
       ]
      },
      {
       "output_type": "stream",
       "stream": "stdout",
       "text": [
        "\n",
        "  2033  |    0.003218  |    0.007907  |     0.406940  |             |  4.2s"
       ]
      },
      {
       "output_type": "stream",
       "stream": "stdout",
       "text": [
        "\n",
        "  2034  |    0.003202  |    0.007921  |     0.404248  |             |  4.1s"
       ]
      },
      {
       "output_type": "stream",
       "stream": "stdout",
       "text": [
        "\n",
        "  2035  |  \u001b[94m  0.003108\u001b[0m  |    0.007902  |     0.393261  |             |  4.2s"
       ]
      },
      {
       "output_type": "stream",
       "stream": "stdout",
       "text": [
        "\n",
        "  2036  |    0.003179  |    0.007903  |     0.402283  |             |  4.1s"
       ]
      },
      {
       "output_type": "stream",
       "stream": "stdout",
       "text": [
        "\n",
        "  2037  |    0.003250  |    0.007927  |     0.409967  |             |  4.2s"
       ]
      },
      {
       "output_type": "stream",
       "stream": "stdout",
       "text": [
        "\n",
        "  2038  |    0.003172  |    0.007920  |     0.400474  |             |  4.2s"
       ]
      },
      {
       "output_type": "stream",
       "stream": "stdout",
       "text": [
        "\n",
        "  2039  |    0.003153  |    0.007914  |     0.398441  |             |  4.2s"
       ]
      },
      {
       "output_type": "stream",
       "stream": "stdout",
       "text": [
        "\n",
        "  2040  |    0.003215  |    0.007909  |     0.406499  |             |  4.1s"
       ]
      },
      {
       "output_type": "stream",
       "stream": "stdout",
       "text": [
        "\n",
        "  2041  |    0.003151  |    0.007923  |     0.397711  |             |  4.2s"
       ]
      },
      {
       "output_type": "stream",
       "stream": "stdout",
       "text": [
        "\n",
        "  2042  |    0.003185  |    0.007906  |     0.402849  |             |  4.2s"
       ]
      },
      {
       "output_type": "stream",
       "stream": "stdout",
       "text": [
        "\n",
        "  2043  |    0.003136  |    0.007911  |     0.396353  |             |  4.2s"
       ]
      },
      {
       "output_type": "stream",
       "stream": "stdout",
       "text": [
        "\n",
        "  2044  |    0.003109  |    0.007917  |     0.392673  |             |  4.2s"
       ]
      },
      {
       "output_type": "stream",
       "stream": "stdout",
       "text": [
        "\n",
        "  2045  |    0.003138  |    0.007912  |     0.396572  |             |  4.2s"
       ]
      },
      {
       "output_type": "stream",
       "stream": "stdout",
       "text": [
        "\n",
        "  2046  |    0.003209  |    0.007916  |     0.405374  |             |  4.2s"
       ]
      },
      {
       "output_type": "stream",
       "stream": "stdout",
       "text": [
        "\n",
        "  2047  |  \u001b[94m  0.003107\u001b[0m  |    0.007910  |     0.392744  |             |  4.2s"
       ]
      },
      {
       "output_type": "stream",
       "stream": "stdout",
       "text": [
        "\n",
        "  2048  |    0.003192  |    0.007919  |     0.403042  |             |  4.2s"
       ]
      },
      {
       "output_type": "stream",
       "stream": "stdout",
       "text": [
        "\n",
        "  2049  |    0.003120  |    0.007930  |     0.393471  |             |  4.2s"
       ]
      },
      {
       "output_type": "stream",
       "stream": "stdout",
       "text": [
        "\n",
        "  2050  |    0.003130  |    0.007920  |     0.395257  |             |  4.2s"
       ]
      },
      {
       "output_type": "stream",
       "stream": "stdout",
       "text": [
        "\n",
        "  2051  |  \u001b[94m  0.003104\u001b[0m  |    0.007917  |     0.392081  |             |  4.2s"
       ]
      },
      {
       "output_type": "stream",
       "stream": "stdout",
       "text": [
        "\n",
        "  2052  |    0.003202  |    0.007917  |     0.404412  |             |  4.2s"
       ]
      },
      {
       "output_type": "stream",
       "stream": "stdout",
       "text": [
        "\n",
        "  2053  |    0.003152  |    0.007912  |     0.398401  |             |  4.2s"
       ]
      },
      {
       "output_type": "stream",
       "stream": "stdout",
       "text": [
        "\n",
        "  2054  |    0.003193  |    0.007914  |     0.403456  |             |  4.2s"
       ]
      },
      {
       "output_type": "stream",
       "stream": "stdout",
       "text": [
        "\n",
        "  2055  |    0.003118  |    0.007914  |     0.394065  |             |  4.2s"
       ]
      },
      {
       "output_type": "stream",
       "stream": "stdout",
       "text": [
        "\n",
        "  2056  |    0.003113  |    0.007913  |     0.393383  |             |  4.2s"
       ]
      },
      {
       "output_type": "stream",
       "stream": "stdout",
       "text": [
        "\n",
        "  2057  |  \u001b[94m  0.003090\u001b[0m  |    0.007897  |     0.391239  |             |  4.2s"
       ]
      },
      {
       "output_type": "stream",
       "stream": "stdout",
       "text": [
        "\n",
        "  2058  |    0.003191  |    0.007926  |     0.402666  |             |  4.2s"
       ]
      },
      {
       "output_type": "stream",
       "stream": "stdout",
       "text": [
        "\n",
        "  2059  |    0.003201  |  \u001b[32m  0.007891\u001b[0m  |     0.405638  |             |  4.2s"
       ]
      },
      {
       "output_type": "stream",
       "stream": "stdout",
       "text": [
        "\n",
        "  2060  |    0.003157  |    0.007903  |     0.399461  |             |  4.2s"
       ]
      },
      {
       "output_type": "stream",
       "stream": "stdout",
       "text": [
        "\n",
        "  2061  |    0.003151  |    0.007916  |     0.398006  |             |  4.1s"
       ]
      },
      {
       "output_type": "stream",
       "stream": "stdout",
       "text": [
        "\n",
        "  2062  |    0.003172  |    0.007914  |     0.400877  |             |  4.2s"
       ]
      },
      {
       "output_type": "stream",
       "stream": "stdout",
       "text": [
        "\n",
        "  2063  |    0.003097  |    0.007927  |     0.390681  |             |  4.2s"
       ]
      },
      {
       "output_type": "stream",
       "stream": "stdout",
       "text": [
        "\n",
        "  2064  |    0.003119  |    0.007919  |     0.393793  |             |  4.2s"
       ]
      },
      {
       "output_type": "stream",
       "stream": "stdout",
       "text": [
        "\n",
        "  2065  |    0.003156  |    0.007929  |     0.397996  |             |  4.2s"
       ]
      },
      {
       "output_type": "stream",
       "stream": "stdout",
       "text": [
        "\n",
        "  2066  |    0.003146  |    0.007902  |     0.398126  |             |  4.2s"
       ]
      },
      {
       "output_type": "stream",
       "stream": "stdout",
       "text": [
        "\n",
        "  2067  |    0.003125  |    0.007906  |     0.395245  |             |  4.2s"
       ]
      },
      {
       "output_type": "stream",
       "stream": "stdout",
       "text": [
        "\n",
        "  2068  |    0.003147  |    0.007920  |     0.397403  |             |  4.2s"
       ]
      },
      {
       "output_type": "stream",
       "stream": "stdout",
       "text": [
        "\n",
        "  2069  |    0.003144  |    0.007927  |     0.396586  |             |  4.1s"
       ]
      },
      {
       "output_type": "stream",
       "stream": "stdout",
       "text": [
        "\n",
        "  2070  |    0.003155  |    0.007908  |     0.398906  |             |  4.2s"
       ]
      },
      {
       "output_type": "stream",
       "stream": "stdout",
       "text": [
        "\n",
        "  2071  |    0.003128  |    0.007918  |     0.395101  |             |  4.2s"
       ]
      },
      {
       "output_type": "stream",
       "stream": "stdout",
       "text": [
        "\n",
        "  2072  |    0.003125  |    0.007908  |     0.395197  |             |  4.2s"
       ]
      },
      {
       "output_type": "stream",
       "stream": "stdout",
       "text": [
        "\n",
        "  2073  |  \u001b[94m  0.003067\u001b[0m  |    0.007923  |     0.387078  |             |  4.2s"
       ]
      },
      {
       "output_type": "stream",
       "stream": "stdout",
       "text": [
        "\n",
        "  2074  |  \u001b[94m  0.003013\u001b[0m  |    0.007916  |     0.380644  |             |  4.2s"
       ]
      },
      {
       "output_type": "stream",
       "stream": "stdout",
       "text": [
        "\n",
        "  2075  |    0.003068  |    0.007930  |     0.386868  |             |  4.2s"
       ]
      },
      {
       "output_type": "stream",
       "stream": "stdout",
       "text": [
        "\n",
        "  2076  |    0.003093  |    0.007914  |     0.390843  |             |  4.2s"
       ]
      },
      {
       "output_type": "stream",
       "stream": "stdout",
       "text": [
        "\n",
        "  2077  |    0.003169  |    0.007899  |     0.401156  |             |  4.2s"
       ]
      },
      {
       "output_type": "stream",
       "stream": "stdout",
       "text": [
        "\n",
        "  2078  |    0.003098  |    0.007903  |     0.392008  |             |  4.2s"
       ]
      },
      {
       "output_type": "stream",
       "stream": "stdout",
       "text": [
        "\n",
        "  2079  |    0.003140  |    0.007902  |     0.397331  |             |  4.2s"
       ]
      },
      {
       "output_type": "stream",
       "stream": "stdout",
       "text": [
        "\n",
        "  2080  |    0.003121  |    0.007895  |     0.395323  |             |  4.2s"
       ]
      },
      {
       "output_type": "stream",
       "stream": "stdout",
       "text": [
        "\n",
        "  2081  |    0.003110  |    0.007913  |     0.392975  |             |  4.2s"
       ]
      },
      {
       "output_type": "stream",
       "stream": "stdout",
       "text": [
        "\n",
        "  2082  |    0.003092  |    0.007911  |     0.390845  |             |  4.2s"
       ]
      },
      {
       "output_type": "stream",
       "stream": "stdout",
       "text": [
        "\n",
        "  2083  |    0.003106  |    0.007913  |     0.392480  |             |  4.2s"
       ]
      },
      {
       "output_type": "stream",
       "stream": "stdout",
       "text": [
        "\n",
        "  2084  |    0.003123  |  \u001b[32m  0.007878\u001b[0m  |     0.396475  |             |  4.2s"
       ]
      },
      {
       "output_type": "stream",
       "stream": "stdout",
       "text": [
        "\n",
        "  2085  |    0.003084  |    0.007893  |     0.390768  |             |  4.2s"
       ]
      },
      {
       "output_type": "stream",
       "stream": "stdout",
       "text": [
        "\n",
        "  2086  |    0.003083  |    0.007912  |     0.389610  |             |  4.2s"
       ]
      },
      {
       "output_type": "stream",
       "stream": "stdout",
       "text": [
        "\n",
        "  2087  |    0.003050  |    0.007903  |     0.385990  |             |  4.2s"
       ]
      },
      {
       "output_type": "stream",
       "stream": "stdout",
       "text": [
        "\n",
        "  2088  |    0.003143  |    0.007909  |     0.397437  |             |  4.2s"
       ]
      },
      {
       "output_type": "stream",
       "stream": "stdout",
       "text": [
        "\n",
        "  2089  |    0.003060  |    0.007909  |     0.386900  |             |  4.2s"
       ]
      },
      {
       "output_type": "stream",
       "stream": "stdout",
       "text": [
        "\n",
        "  2090  |    0.003038  |    0.007913  |     0.383892  |             |  4.2s"
       ]
      },
      {
       "output_type": "stream",
       "stream": "stdout",
       "text": [
        "\n",
        "  2091  |    0.003129  |    0.007917  |     0.395173  |             |  4.2s"
       ]
      },
      {
       "output_type": "stream",
       "stream": "stdout",
       "text": [
        "\n",
        "  2092  |    0.003123  |    0.007898  |     0.395381  |             |  4.2s"
       ]
      },
      {
       "output_type": "stream",
       "stream": "stdout",
       "text": [
        "\n",
        "  2093  |    0.003073  |    0.007909  |     0.388560  |             |  4.2s"
       ]
      },
      {
       "output_type": "stream",
       "stream": "stdout",
       "text": [
        "\n",
        "  2094  |  \u001b[94m  0.002985\u001b[0m  |    0.007929  |     0.376505  |             |  4.2s"
       ]
      },
      {
       "output_type": "stream",
       "stream": "stdout",
       "text": [
        "\n",
        "  2095  |    0.003088  |    0.007931  |     0.389313  |             |  4.2s"
       ]
      },
      {
       "output_type": "stream",
       "stream": "stdout",
       "text": [
        "\n",
        "  2096  |    0.003102  |    0.007912  |     0.392084  |             |  4.2s"
       ]
      },
      {
       "output_type": "stream",
       "stream": "stdout",
       "text": [
        "\n",
        "  2097  |    0.003031  |    0.007902  |     0.383605  |             |  4.2s"
       ]
      },
      {
       "output_type": "stream",
       "stream": "stdout",
       "text": [
        "\n",
        "  2098  |    0.003078  |    0.007921  |     0.388573  |             |  4.1s"
       ]
      },
      {
       "output_type": "stream",
       "stream": "stdout",
       "text": [
        "\n",
        "  2099  |    0.003072  |    0.007902  |     0.388810  |             |  4.2s"
       ]
      },
      {
       "output_type": "stream",
       "stream": "stdout",
       "text": [
        "\n",
        "  2100  |    0.003127  |    0.007906  |     0.395558  |             |  4.2s"
       ]
      },
      {
       "output_type": "stream",
       "stream": "stdout",
       "text": [
        "\n",
        "  2101  |    0.003061  |    0.007897  |     0.387641  |             |  4.2s"
       ]
      },
      {
       "output_type": "stream",
       "stream": "stdout",
       "text": [
        "\n",
        "  2102  |    0.003122  |    0.007915  |     0.394416  |             |  4.2s"
       ]
      },
      {
       "output_type": "stream",
       "stream": "stdout",
       "text": [
        "\n",
        "  2103  |    0.003055  |    0.007927  |     0.385328  |             |  4.2s"
       ]
      },
      {
       "output_type": "stream",
       "stream": "stdout",
       "text": [
        "\n",
        "  2104  |    0.002995  |    0.007915  |     0.378427  |             |  4.2s"
       ]
      },
      {
       "output_type": "stream",
       "stream": "stdout",
       "text": [
        "\n",
        "  2105  |    0.003097  |    0.007918  |     0.391102  |             |  4.2s"
       ]
      },
      {
       "output_type": "stream",
       "stream": "stdout",
       "text": [
        "\n",
        "  2106  |    0.003021  |    0.007915  |     0.381675  |             |  4.1s"
       ]
      },
      {
       "output_type": "stream",
       "stream": "stdout",
       "text": [
        "\n",
        "  2107  |    0.003001  |    0.007913  |     0.379184  |             |  4.2s"
       ]
      },
      {
       "output_type": "stream",
       "stream": "stdout",
       "text": [
        "\n",
        "  2108  |    0.003043  |    0.007911  |     0.384715  |             |  4.2s"
       ]
      },
      {
       "output_type": "stream",
       "stream": "stdout",
       "text": [
        "\n",
        "  2109  |    0.003091  |    0.007917  |     0.390413  |             |  4.2s"
       ]
      },
      {
       "output_type": "stream",
       "stream": "stdout",
       "text": [
        "\n",
        "  2110  |    0.003031  |    0.007910  |     0.383244  |             |  4.2s"
       ]
      },
      {
       "output_type": "stream",
       "stream": "stdout",
       "text": [
        "\n",
        "  2111  |    0.003026  |    0.007897  |     0.383155  |             |  4.2s"
       ]
      },
      {
       "output_type": "stream",
       "stream": "stdout",
       "text": [
        "\n",
        "  2112  |    0.003029  |    0.007914  |     0.382746  |             |  4.2s"
       ]
      },
      {
       "output_type": "stream",
       "stream": "stdout",
       "text": [
        "\n",
        "  2113  |    0.003082  |    0.007917  |     0.389214  |             |  4.2s"
       ]
      },
      {
       "output_type": "stream",
       "stream": "stdout",
       "text": [
        "\n",
        "  2114  |    0.003082  |    0.007917  |     0.389338  |             |  4.2s"
       ]
      },
      {
       "output_type": "stream",
       "stream": "stdout",
       "text": [
        "\n",
        "  2115  |    0.003105  |    0.007923  |     0.391862  |             |  4.2s"
       ]
      },
      {
       "output_type": "stream",
       "stream": "stdout",
       "text": [
        "\n",
        "  2116  |    0.003090  |    0.007916  |     0.390332  |             |  4.2s"
       ]
      },
      {
       "output_type": "stream",
       "stream": "stdout",
       "text": [
        "\n",
        "  2117  |    0.003020  |    0.007928  |     0.380968  |             |  4.2s"
       ]
      },
      {
       "output_type": "stream",
       "stream": "stdout",
       "text": [
        "\n",
        "  2118  |    0.003067  |    0.007926  |     0.387017  |             |  4.1s"
       ]
      },
      {
       "output_type": "stream",
       "stream": "stdout",
       "text": [
        "\n",
        "  2119  |    0.003024  |    0.007920  |     0.381820  |             |  4.2s"
       ]
      },
      {
       "output_type": "stream",
       "stream": "stdout",
       "text": [
        "\n",
        "  2120  |    0.003070  |    0.007917  |     0.387707  |             |  4.2s"
       ]
      },
      {
       "output_type": "stream",
       "stream": "stdout",
       "text": [
        "\n",
        "  2121  |    0.003087  |    0.007904  |     0.390569  |             |  4.2s"
       ]
      },
      {
       "output_type": "stream",
       "stream": "stdout",
       "text": [
        "\n",
        "  2122  |    0.003068  |    0.007908  |     0.388001  |             |  4.2s"
       ]
      },
      {
       "output_type": "stream",
       "stream": "stdout",
       "text": [
        "\n",
        "  2123  |  \u001b[94m  0.002954\u001b[0m  |    0.007907  |     0.373649  |             |  4.2s"
       ]
      },
      {
       "output_type": "stream",
       "stream": "stdout",
       "text": [
        "\n",
        "  2124  |    0.003077  |    0.007912  |     0.388898  |             |  4.2s"
       ]
      },
      {
       "output_type": "stream",
       "stream": "stdout",
       "text": [
        "\n",
        "  2125  |    0.003008  |    0.007913  |     0.380164  |             |  4.1s"
       ]
      },
      {
       "output_type": "stream",
       "stream": "stdout",
       "text": [
        "\n",
        "  2126  |    0.003002  |    0.007919  |     0.379127  |             |  4.2s"
       ]
      },
      {
       "output_type": "stream",
       "stream": "stdout",
       "text": [
        "\n",
        "  2127  |    0.003033  |    0.007926  |     0.382720  |             |  4.2s"
       ]
      },
      {
       "output_type": "stream",
       "stream": "stdout",
       "text": [
        "\n",
        "  2128  |    0.003051  |    0.007925  |     0.385063  |             |  4.2s"
       ]
      },
      {
       "output_type": "stream",
       "stream": "stdout",
       "text": [
        "\n",
        "  2129  |    0.003059  |    0.007920  |     0.386239  |             |  4.2s"
       ]
      },
      {
       "output_type": "stream",
       "stream": "stdout",
       "text": [
        "\n",
        "  2130  |    0.002991  |    0.007909  |     0.378226  |             |  4.2s"
       ]
      },
      {
       "output_type": "stream",
       "stream": "stdout",
       "text": [
        "\n",
        "  2131  |    0.002969  |    0.007925  |     0.374595  |             |  4.2s"
       ]
      },
      {
       "output_type": "stream",
       "stream": "stdout",
       "text": [
        "\n",
        "  2132  |    0.003103  |    0.007943  |     0.390705  |             |  4.2s"
       ]
      },
      {
       "output_type": "stream",
       "stream": "stdout",
       "text": [
        "\n",
        "  2133  |    0.002972  |    0.007913  |     0.375643  |             |  4.2s"
       ]
      },
      {
       "output_type": "stream",
       "stream": "stdout",
       "text": [
        "\n",
        "  2134  |    0.002997  |    0.007929  |     0.377965  |             |  4.2s"
       ]
      },
      {
       "output_type": "stream",
       "stream": "stdout",
       "text": [
        "\n",
        "  2135  |    0.002970  |    0.007921  |     0.374953  |             |  4.2s"
       ]
      },
      {
       "output_type": "stream",
       "stream": "stdout",
       "text": [
        "\n",
        "  2136  |    0.003048  |    0.007906  |     0.385535  |             |  4.2s"
       ]
      },
      {
       "output_type": "stream",
       "stream": "stdout",
       "text": [
        "\n",
        "  2137  |    0.003039  |    0.007915  |     0.383924  |             |  4.2s"
       ]
      },
      {
       "output_type": "stream",
       "stream": "stdout",
       "text": [
        "\n",
        "  2138  |    0.002981  |    0.007918  |     0.376483  |             |  4.2s"
       ]
      },
      {
       "output_type": "stream",
       "stream": "stdout",
       "text": [
        "\n",
        "  2139  |  \u001b[94m  0.002950\u001b[0m  |    0.007912  |     0.372829  |             |  4.2s"
       ]
      },
      {
       "output_type": "stream",
       "stream": "stdout",
       "text": [
        "\n",
        "  2140  |    0.003058  |    0.007912  |     0.386536  |             |  4.2s"
       ]
      },
      {
       "output_type": "stream",
       "stream": "stdout",
       "text": [
        "\n",
        "  2141  |  \u001b[94m  0.002917\u001b[0m  |    0.007896  |     0.369374  |             |  4.2s"
       ]
      },
      {
       "output_type": "stream",
       "stream": "stdout",
       "text": [
        "\n",
        "  2142  |    0.002977  |    0.007914  |     0.376128  |             |  4.2s"
       ]
      },
      {
       "output_type": "stream",
       "stream": "stdout",
       "text": [
        "\n",
        "  2143  |    0.002984  |    0.007912  |     0.377130  |             |  4.2s"
       ]
      },
      {
       "output_type": "stream",
       "stream": "stdout",
       "text": [
        "\n",
        "  2144  |    0.003004  |    0.007919  |     0.379408  |             |  4.2s"
       ]
      },
      {
       "output_type": "stream",
       "stream": "stdout",
       "text": [
        "\n",
        "  2145  |    0.003070  |    0.007902  |     0.388475  |             |  4.2s"
       ]
      },
      {
       "output_type": "stream",
       "stream": "stdout",
       "text": [
        "\n",
        "  2146  |    0.002997  |    0.007913  |     0.378771  |             |  4.2s"
       ]
      },
      {
       "output_type": "stream",
       "stream": "stdout",
       "text": [
        "\n",
        "  2147  |    0.003028  |    0.007927  |     0.381987  |             |  4.2s"
       ]
      },
      {
       "output_type": "stream",
       "stream": "stdout",
       "text": [
        "\n",
        "  2148  |    0.002988  |    0.007921  |     0.377238  |             |  4.2s"
       ]
      },
      {
       "output_type": "stream",
       "stream": "stdout",
       "text": [
        "\n",
        "  2149  |    0.002980  |    0.007922  |     0.376214  |             |  4.2s"
       ]
      },
      {
       "output_type": "stream",
       "stream": "stdout",
       "text": [
        "\n",
        "  2150  |    0.002971  |    0.007899  |     0.376062  |             |  4.2s"
       ]
      },
      {
       "output_type": "stream",
       "stream": "stdout",
       "text": [
        "\n",
        "  2151  |    0.002973  |    0.007907  |     0.375986  |             |  4.2s"
       ]
      },
      {
       "output_type": "stream",
       "stream": "stdout",
       "text": [
        "\n",
        "  2152  |  \u001b[94m  0.002888\u001b[0m  |    0.007907  |     0.365236  |             |  4.2s"
       ]
      },
      {
       "output_type": "stream",
       "stream": "stdout",
       "text": [
        "\n",
        "  2153  |    0.002956  |    0.007917  |     0.373425  |             |  4.2s"
       ]
      },
      {
       "output_type": "stream",
       "stream": "stdout",
       "text": [
        "\n",
        "  2154  |    0.002967  |    0.007912  |     0.375041  |             |  4.2s"
       ]
      },
      {
       "output_type": "stream",
       "stream": "stdout",
       "text": [
        "\n",
        "  2155  |    0.002963  |    0.007898  |     0.375114  |             |  4.2s"
       ]
      },
      {
       "output_type": "stream",
       "stream": "stdout",
       "text": [
        "\n",
        "  2156  |    0.002954  |    0.007898  |     0.374045  |             |  4.1s"
       ]
      },
      {
       "output_type": "stream",
       "stream": "stdout",
       "text": [
        "\n",
        "  2157  |    0.002950  |    0.007889  |     0.373929  |             |  4.2s"
       ]
      },
      {
       "output_type": "stream",
       "stream": "stdout",
       "text": [
        "\n",
        "  2158  |    0.002965  |    0.007896  |     0.375458  |             |  4.2s"
       ]
      },
      {
       "output_type": "stream",
       "stream": "stdout",
       "text": [
        "\n",
        "  2159  |    0.002948  |    0.007907  |     0.372824  |             |  4.2s"
       ]
      },
      {
       "output_type": "stream",
       "stream": "stdout",
       "text": [
        "\n",
        "  2160  |    0.002982  |    0.007921  |     0.376456  |             |  4.2s"
       ]
      },
      {
       "output_type": "stream",
       "stream": "stdout",
       "text": [
        "\n",
        "  2161  |    0.003008  |    0.007910  |     0.380231  |             |  4.2s"
       ]
      },
      {
       "output_type": "stream",
       "stream": "stdout",
       "text": [
        "\n",
        "  2162  |    0.002977  |    0.007908  |     0.376502  |             |  4.2s"
       ]
      },
      {
       "output_type": "stream",
       "stream": "stdout",
       "text": [
        "\n",
        "  2163  |    0.002967  |    0.007929  |     0.374215  |             |  4.2s"
       ]
      },
      {
       "output_type": "stream",
       "stream": "stdout",
       "text": [
        "\n",
        "  2164  |    0.003008  |    0.007916  |     0.379954  |             |  4.2s"
       ]
      },
      {
       "output_type": "stream",
       "stream": "stdout",
       "text": [
        "\n",
        "  2165  |    0.003008  |    0.007927  |     0.379473  |             |  4.2s"
       ]
      },
      {
       "output_type": "stream",
       "stream": "stdout",
       "text": [
        "\n",
        "  2166  |    0.002992  |    0.007922  |     0.377691  |             |  4.2s"
       ]
      },
      {
       "output_type": "stream",
       "stream": "stdout",
       "text": [
        "\n",
        "  2167  |    0.002960  |    0.007906  |     0.374452  |             |  4.2s"
       ]
      },
      {
       "output_type": "stream",
       "stream": "stdout",
       "text": [
        "\n",
        "  2168  |    0.002930  |    0.007924  |     0.369817  |             |  4.2s"
       ]
      },
      {
       "output_type": "stream",
       "stream": "stdout",
       "text": [
        "\n",
        "  2169  |    0.002903  |    0.007908  |     0.367073  |             |  4.2s"
       ]
      },
      {
       "output_type": "stream",
       "stream": "stdout",
       "text": [
        "\n",
        "  2170  |    0.002982  |    0.007916  |     0.376756  |             |  4.2s"
       ]
      },
      {
       "output_type": "stream",
       "stream": "stdout",
       "text": [
        "\n",
        "  2171  |    0.002976  |    0.007890  |     0.377152  |             |  4.1s"
       ]
      },
      {
       "output_type": "stream",
       "stream": "stdout",
       "text": [
        "\n",
        "  2172  |    0.002981  |    0.007909  |     0.376890  |             |  4.2s"
       ]
      },
      {
       "output_type": "stream",
       "stream": "stdout",
       "text": [
        "\n",
        "  2173  |    0.002974  |    0.007899  |     0.376541  |             |  4.2s"
       ]
      },
      {
       "output_type": "stream",
       "stream": "stdout",
       "text": [
        "\n",
        "  2174  |    0.002907  |    0.007901  |     0.367916  |             |  4.2s"
       ]
      },
      {
       "output_type": "stream",
       "stream": "stdout",
       "text": [
        "\n",
        "  2175  |    0.002961  |    0.007902  |     0.374749  |             |  4.2s"
       ]
      },
      {
       "output_type": "stream",
       "stream": "stdout",
       "text": [
        "\n",
        "  2176  |    0.002984  |    0.007892  |     0.378132  |             |  4.2s"
       ]
      },
      {
       "output_type": "stream",
       "stream": "stdout",
       "text": [
        "\n",
        "  2177  |    0.002952  |    0.007892  |     0.374003  |             |  4.1s"
       ]
      },
      {
       "output_type": "stream",
       "stream": "stdout",
       "text": [
        "\n",
        "  2178  |    0.002932  |    0.007912  |     0.370537  |             |  4.2s"
       ]
      },
      {
       "output_type": "stream",
       "stream": "stdout",
       "text": [
        "\n",
        "  2179  |    0.002947  |    0.007905  |     0.372785  |             |  4.2s"
       ]
      },
      {
       "output_type": "stream",
       "stream": "stdout",
       "text": [
        "\n",
        "  2180  |    0.002988  |    0.007906  |     0.377883  |             |  4.2s"
       ]
      },
      {
       "output_type": "stream",
       "stream": "stdout",
       "text": [
        "\n",
        "  2181  |    0.002943  |    0.007904  |     0.372313  |             |  4.2s"
       ]
      },
      {
       "output_type": "stream",
       "stream": "stdout",
       "text": [
        "\n",
        "  2182  |    0.002937  |    0.007919  |     0.370927  |             |  4.2s"
       ]
      },
      {
       "output_type": "stream",
       "stream": "stdout",
       "text": [
        "\n",
        "  2183  |    0.002933  |    0.007916  |     0.370576  |             |  4.1s"
       ]
      },
      {
       "output_type": "stream",
       "stream": "stdout",
       "text": [
        "\n",
        "  2184  |    0.002990  |    0.007924  |     0.377365  |             |  4.1s"
       ]
      },
      {
       "output_type": "stream",
       "stream": "stdout",
       "text": [
        "\n",
        "  2185  |    0.002935  |    0.007916  |     0.370824  |             |  4.2s"
       ]
      },
      {
       "output_type": "stream",
       "stream": "stdout",
       "text": [
        "\n",
        "  2186  |    0.002985  |    0.007927  |     0.376582  |             |  4.2s"
       ]
      },
      {
       "output_type": "stream",
       "stream": "stdout",
       "text": [
        "\n",
        "  2187  |    0.002926  |    0.007920  |     0.369424  |             |  4.2s"
       ]
      },
      {
       "output_type": "stream",
       "stream": "stdout",
       "text": [
        "\n",
        "  2188  |    0.002961  |    0.007922  |     0.373735  |             |  4.2s"
       ]
      },
      {
       "output_type": "stream",
       "stream": "stdout",
       "text": [
        "\n",
        "  2189  |    0.002948  |    0.007931  |     0.371662  |             |  4.2s"
       ]
      },
      {
       "output_type": "stream",
       "stream": "stdout",
       "text": [
        "\n",
        "  2190  |  \u001b[94m  0.002876\u001b[0m  |    0.007917  |     0.363273  |             |  4.1s"
       ]
      },
      {
       "output_type": "stream",
       "stream": "stdout",
       "text": [
        "\n",
        "  2191  |    0.002923  |    0.007927  |     0.368680  |             |  4.2s"
       ]
      },
      {
       "output_type": "stream",
       "stream": "stdout",
       "text": [
        "\n",
        "  2192  |    0.002911  |    0.007924  |     0.367426  |             |  4.2s"
       ]
      },
      {
       "output_type": "stream",
       "stream": "stdout",
       "text": [
        "\n",
        "  2193  |  \u001b[94m  0.002847\u001b[0m  |    0.007925  |     0.359205  |             |  4.2s"
       ]
      },
      {
       "output_type": "stream",
       "stream": "stdout",
       "text": [
        "\n",
        "  2194  |    0.002919  |    0.007922  |     0.368467  |             |  4.2s"
       ]
      },
      {
       "output_type": "stream",
       "stream": "stdout",
       "text": [
        "\n",
        "  2195  |    0.002892  |    0.007926  |     0.364843  |             |  4.2s"
       ]
      },
      {
       "output_type": "stream",
       "stream": "stdout",
       "text": [
        "\n",
        "  2196  |    0.003016  |    0.007915  |     0.380979  |             |  4.2s"
       ]
      },
      {
       "output_type": "stream",
       "stream": "stdout",
       "text": [
        "\n",
        "  2197  |    0.002947  |    0.007915  |     0.372323  |             |  4.2s"
       ]
      },
      {
       "output_type": "stream",
       "stream": "stdout",
       "text": [
        "\n",
        "  2198  |    0.002927  |    0.007920  |     0.369589  |             |  4.2s"
       ]
      },
      {
       "output_type": "stream",
       "stream": "stdout",
       "text": [
        "\n",
        "  2199  |    0.002881  |    0.007920  |     0.363722  |             |  4.2s"
       ]
      },
      {
       "output_type": "stream",
       "stream": "stdout",
       "text": [
        "\n",
        "  2200  |    0.002887  |    0.007927  |     0.364259  |             |  4.2s"
       ]
      },
      {
       "output_type": "stream",
       "stream": "stdout",
       "text": [
        "\n",
        "  2201  |  \u001b[94m  0.002840\u001b[0m  |    0.007928  |     0.358249  |             |  4.2s"
       ]
      },
      {
       "output_type": "stream",
       "stream": "stdout",
       "text": [
        "\n",
        "  2202  |    0.002879  |    0.007909  |     0.364004  |             |  4.2s"
       ]
      },
      {
       "output_type": "stream",
       "stream": "stdout",
       "text": [
        "\n",
        "  2203  |    0.002861  |    0.007948  |     0.359972  |             |  4.2s"
       ]
      },
      {
       "output_type": "stream",
       "stream": "stdout",
       "text": [
        "\n",
        "  2204  |    0.002897  |    0.007920  |     0.365845  |             |  4.2s"
       ]
      },
      {
       "output_type": "stream",
       "stream": "stdout",
       "text": [
        "\n",
        "  2205  |    0.002901  |    0.007916  |     0.366455  |             |  4.2s"
       ]
      },
      {
       "output_type": "stream",
       "stream": "stdout",
       "text": [
        "\n",
        "  2206  |    0.002879  |    0.007917  |     0.363619  |             |  4.2s"
       ]
      },
      {
       "output_type": "stream",
       "stream": "stdout",
       "text": [
        "\n",
        "  2207  |    0.002897  |    0.007940  |     0.364883  |             |  4.2s"
       ]
      },
      {
       "output_type": "stream",
       "stream": "stdout",
       "text": [
        "\n",
        "  2208  |    0.002946  |    0.007916  |     0.372217  |             |  4.2s"
       ]
      },
      {
       "output_type": "stream",
       "stream": "stdout",
       "text": [
        "\n",
        "  2209  |    0.002937  |    0.007897  |     0.371861  |             |  4.2s"
       ]
      },
      {
       "output_type": "stream",
       "stream": "stdout",
       "text": [
        "\n",
        "  2210  |    0.002889  |    0.007910  |     0.365263  |             |  4.2s"
       ]
      },
      {
       "output_type": "stream",
       "stream": "stdout",
       "text": [
        "\n",
        "  2211  |    0.002866  |    0.007910  |     0.362349  |             |  4.2s"
       ]
      },
      {
       "output_type": "stream",
       "stream": "stdout",
       "text": [
        "\n",
        "  2212  |    0.002893  |    0.007921  |     0.365187  |             |  4.2s"
       ]
      },
      {
       "output_type": "stream",
       "stream": "stdout",
       "text": [
        "\n",
        "  2213  |    0.002915  |    0.007916  |     0.368239  |             |  4.2s"
       ]
      },
      {
       "output_type": "stream",
       "stream": "stdout",
       "text": [
        "\n",
        "  2214  |  \u001b[94m  0.002834\u001b[0m  |    0.007919  |     0.357888  |             |  4.2s"
       ]
      },
      {
       "output_type": "stream",
       "stream": "stdout",
       "text": [
        "\n",
        "  2215  |    0.002898  |    0.007913  |     0.366259  |             |  4.2s"
       ]
      },
      {
       "output_type": "stream",
       "stream": "stdout",
       "text": [
        "\n",
        "  2216  |    0.002885  |    0.007917  |     0.364387  |             |  4.2s"
       ]
      },
      {
       "output_type": "stream",
       "stream": "stdout",
       "text": [
        "\n",
        "  2217  |    0.002905  |    0.007913  |     0.367102  |             |  4.2s"
       ]
      },
      {
       "output_type": "stream",
       "stream": "stdout",
       "text": [
        "\n",
        "  2218  |  \u001b[94m  0.002832\u001b[0m  |    0.007911  |     0.358000  |             |  4.2s"
       ]
      },
      {
       "output_type": "stream",
       "stream": "stdout",
       "text": [
        "\n",
        "  2219  |    0.002851  |    0.007917  |     0.360108  |             |  4.2s"
       ]
      },
      {
       "output_type": "stream",
       "stream": "stdout",
       "text": [
        "\n",
        "  2220  |  \u001b[94m  0.002831\u001b[0m  |    0.007920  |     0.357497  |             |  4.2s"
       ]
      },
      {
       "output_type": "stream",
       "stream": "stdout",
       "text": [
        "\n",
        "  2221  |    0.002843  |    0.007933  |     0.358325  |             |  4.2s"
       ]
      },
      {
       "output_type": "stream",
       "stream": "stdout",
       "text": [
        "\n",
        "  2222  |    0.002890  |    0.007918  |     0.364990  |             |  4.2s"
       ]
      },
      {
       "output_type": "stream",
       "stream": "stdout",
       "text": [
        "\n",
        "  2223  |    0.002849  |    0.007911  |     0.360123  |             |  4.2s"
       ]
      },
      {
       "output_type": "stream",
       "stream": "stdout",
       "text": [
        "\n",
        "  2224  |    0.002902  |    0.007923  |     0.366340  |             |  4.2s"
       ]
      },
      {
       "output_type": "stream",
       "stream": "stdout",
       "text": [
        "\n",
        "  2225  |    0.002864  |    0.007915  |     0.361799  |             |  4.2s"
       ]
      },
      {
       "output_type": "stream",
       "stream": "stdout",
       "text": [
        "\n",
        "  2226  |    0.002856  |    0.007924  |     0.360380  |             |  4.2s"
       ]
      },
      {
       "output_type": "stream",
       "stream": "stdout",
       "text": [
        "\n",
        "  2227  |    0.002888  |    0.007922  |     0.364556  |             |  4.2s"
       ]
      },
      {
       "output_type": "stream",
       "stream": "stdout",
       "text": [
        "\n",
        "  2228  |    0.002853  |    0.007902  |     0.361000  |             |  4.2s"
       ]
      },
      {
       "output_type": "stream",
       "stream": "stdout",
       "text": [
        "\n",
        "  2229  |    0.002859  |    0.007929  |     0.360536  |             |  4.2s"
       ]
      },
      {
       "output_type": "stream",
       "stream": "stdout",
       "text": [
        "\n",
        "  2230  |    0.002898  |    0.007941  |     0.364969  |             |  4.2s"
       ]
      },
      {
       "output_type": "stream",
       "stream": "stdout",
       "text": [
        "\n",
        "  2231  |    0.002847  |    0.007939  |     0.358609  |             |  4.2s"
       ]
      },
      {
       "output_type": "stream",
       "stream": "stdout",
       "text": [
        "\n",
        "  2232  |    0.002913  |    0.007930  |     0.367361  |             |  4.2s"
       ]
      },
      {
       "output_type": "stream",
       "stream": "stdout",
       "text": [
        "\n",
        "  2233  |    0.002882  |    0.007925  |     0.363678  |             |  4.2s"
       ]
      },
      {
       "output_type": "stream",
       "stream": "stdout",
       "text": [
        "\n",
        "  2234  |    0.002834  |    0.007914  |     0.358094  |             |  4.2s"
       ]
      },
      {
       "output_type": "stream",
       "stream": "stdout",
       "text": [
        "\n",
        "  2235  |    0.002907  |    0.007907  |     0.367703  |             |  4.2s"
       ]
      },
      {
       "output_type": "stream",
       "stream": "stdout",
       "text": [
        "\n",
        "  2236  |  \u001b[94m  0.002815\u001b[0m  |    0.007911  |     0.355802  |             |  4.2s"
       ]
      },
      {
       "output_type": "stream",
       "stream": "stdout",
       "text": [
        "\n",
        "  2237  |    0.002860  |    0.007909  |     0.361536  |             |  4.2s"
       ]
      },
      {
       "output_type": "stream",
       "stream": "stdout",
       "text": [
        "\n",
        "  2238  |    0.002858  |    0.007925  |     0.360657  |             |  4.2s"
       ]
      },
      {
       "output_type": "stream",
       "stream": "stdout",
       "text": [
        "\n",
        "  2239  |    0.002856  |    0.007921  |     0.360581  |             |  4.2s"
       ]
      },
      {
       "output_type": "stream",
       "stream": "stdout",
       "text": [
        "\n",
        "  2240  |    0.002874  |    0.007912  |     0.363195  |             |  4.2s"
       ]
      },
      {
       "output_type": "stream",
       "stream": "stdout",
       "text": [
        "\n",
        "  2241  |    0.002866  |    0.007919  |     0.361982  |             |  4.2s"
       ]
      },
      {
       "output_type": "stream",
       "stream": "stdout",
       "text": [
        "\n",
        "  2242  |    0.002857  |    0.007908  |     0.361288  |             |  4.2s"
       ]
      },
      {
       "output_type": "stream",
       "stream": "stdout",
       "text": [
        "\n",
        "  2243  |    0.002907  |    0.007909  |     0.367529  |             |  4.2s"
       ]
      },
      {
       "output_type": "stream",
       "stream": "stdout",
       "text": [
        "\n",
        "  2244  |    0.002886  |    0.007911  |     0.364834  |             |  4.2s"
       ]
      },
      {
       "output_type": "stream",
       "stream": "stdout",
       "text": [
        "\n",
        "  2245  |    0.002844  |    0.007918  |     0.359097  |             |  4.2s"
       ]
      },
      {
       "output_type": "stream",
       "stream": "stdout",
       "text": [
        "\n",
        "  2246  |    0.002830  |    0.007911  |     0.357727  |             |  4.2s"
       ]
      },
      {
       "output_type": "stream",
       "stream": "stdout",
       "text": [
        "\n",
        "  2247  |  \u001b[94m  0.002805\u001b[0m  |    0.007914  |     0.354465  |             |  4.2s"
       ]
      },
      {
       "output_type": "stream",
       "stream": "stdout",
       "text": [
        "\n",
        "  2248  |    0.002886  |    0.007920  |     0.364385  |             |  4.2s"
       ]
      },
      {
       "output_type": "stream",
       "stream": "stdout",
       "text": [
        "\n",
        "  2249  |    0.002866  |    0.007936  |     0.361178  |             |  4.2s"
       ]
      },
      {
       "output_type": "stream",
       "stream": "stdout",
       "text": [
        "\n",
        "  2250  |  \u001b[94m  0.002778\u001b[0m  |    0.007922  |     0.350625  |             |  4.2s"
       ]
      },
      {
       "output_type": "stream",
       "stream": "stdout",
       "text": [
        "\n",
        "  2251  |    0.002779  |    0.007934  |     0.350316  |             |  4.2s"
       ]
      },
      {
       "output_type": "stream",
       "stream": "stdout",
       "text": [
        "\n",
        "  2252  |    0.002818  |    0.007930  |     0.355423  |             |  4.2s"
       ]
      },
      {
       "output_type": "stream",
       "stream": "stdout",
       "text": [
        "\n",
        "  2253  |    0.002834  |    0.007929  |     0.357390  |             |  4.2s"
       ]
      },
      {
       "output_type": "stream",
       "stream": "stdout",
       "text": [
        "\n",
        "  2254  |    0.002810  |    0.007914  |     0.355086  |             |  4.2s"
       ]
      },
      {
       "output_type": "stream",
       "stream": "stdout",
       "text": [
        "\n",
        "  2255  |    0.002832  |    0.007919  |     0.357623  |             |  4.1s"
       ]
      },
      {
       "output_type": "stream",
       "stream": "stdout",
       "text": [
        "\n",
        "  2256  |    0.002859  |    0.007942  |     0.359973  |             |  4.2s"
       ]
      },
      {
       "output_type": "stream",
       "stream": "stdout",
       "text": [
        "\n",
        "  2257  |  \u001b[94m  0.002767\u001b[0m  |    0.007927  |     0.349048  |             |  4.2s"
       ]
      },
      {
       "output_type": "stream",
       "stream": "stdout",
       "text": [
        "\n",
        "  2258  |    0.002873  |    0.007920  |     0.362770  |             |  4.2s"
       ]
      },
      {
       "output_type": "stream",
       "stream": "stdout",
       "text": [
        "\n",
        "  2259  |    0.002854  |    0.007915  |     0.360583  |             |  4.2s"
       ]
      },
      {
       "output_type": "stream",
       "stream": "stdout",
       "text": [
        "\n",
        "  2260  |    0.002834  |    0.007939  |     0.356957  |             |  4.2s"
       ]
      },
      {
       "output_type": "stream",
       "stream": "stdout",
       "text": [
        "\n",
        "Early stopping.\n",
        "Best valid loss was 0.007878 at epoch 2084.\n",
        "CPU times: user 1h 36min 49s, sys: 59min 50s, total: 2h 36min 39s"
       ]
      },
      {
       "output_type": "stream",
       "stream": "stdout",
       "text": [
        "\n",
        "Wall time: 2h 36min 42s\n"
       ]
      },
      {
       "output_type": "stream",
       "stream": "stderr",
       "text": [
        "/home/ubuntu/src/theano/theano/sandbox/rng_mrg.py:1188: UserWarning: MRG_RandomStreams Can't determine #streams from size (Shape.0), guessing 60*256\n",
        "  nstreams = self.n_streams(size)\n"
       ]
      }
     ],
     "prompt_number": 11
    },
    {
     "cell_type": "code",
     "collapsed": false,
     "input": [
      "# import cPickle as pickle\n",
      "# with open('./Lasagne_3rd.pickle', 'rb') as f:\n",
      "#     model = pickle.load(f)\n"
     ],
     "language": "python",
     "metadata": {},
     "outputs": [],
     "prompt_number": 16
    },
    {
     "cell_type": "code",
     "collapsed": false,
     "input": [
      "# from sklearn.base import clone\n",
      "# model2 = clone(net7)\n",
      "# model2.load_weights_from(model)"
     ],
     "language": "python",
     "metadata": {},
     "outputs": [],
     "prompt_number": 18
    },
    {
     "cell_type": "code",
     "collapsed": false,
     "input": [
      "# model"
     ],
     "language": "python",
     "metadata": {},
     "outputs": [],
     "prompt_number": 12
    },
    {
     "cell_type": "code",
     "collapsed": false,
     "input": [
      "train_loss_6 = np.array([i[\"train_loss\"] for i in net7.train_history_])\n",
      "valid_loss_6 = np.array([i[\"valid_loss\"] for i in net7.train_history_])\n",
      "pyplot.plot(train_loss_6, linewidth=3, label=\"train\")\n",
      "pyplot.plot(valid_loss_6, linewidth=3, label=\"valid\")\n",
      "pyplot.grid()\n",
      "pyplot.legend()\n",
      "pyplot.xlabel(\"epoch\")\n",
      "pyplot.ylabel(\"loss\")\n",
      "pyplot.ylim(0.1e-2, 3.2e-2)\n",
      "# pyplot.yscale(\"log\")\n",
      "pyplot.show()"
     ],
     "language": "python",
     "metadata": {},
     "outputs": [
      {
       "metadata": {},
       "output_type": "display_data",
       "png": "[encoded data removed]",
       "text": [
        "<matplotlib.figure.Figure at 0x7f76e4e05fd0>"
       ]
      }
     ],
     "prompt_number": 12
    },
    {
     "cell_type": "code",
     "collapsed": false,
     "input": [
      "from sklearn import metrics\n",
      "\n",
      "Xt_6, yt_6 = transform_6(X_test, y_test)\n",
      "\n",
      "# overfit result, should use validation result\n",
      "y_pred = net7.predict(Xt_6)\n",
      "# print y_pred[1]\n",
      "# np.argmax(y_pred[i]),np.argmax(y[i])\n",
      "y_pred = np.array(map((lambda x: np.argmax(x)), y_pred))\n",
      "yyy = np.array(map((lambda x: np.argmax(x)), yt_6))\n",
      "\n",
      "print metrics.classification_report((yyy), (y_pred))"
     ],
     "language": "python",
     "metadata": {},
     "outputs": [
      {
       "output_type": "stream",
       "stream": "stdout",
       "text": [
        "             precision    recall  f1-score   support\n",
        "\n",
        "          0       0.93      0.94      0.93       140\n",
        "          1       0.88      0.81      0.84       165\n",
        "          2       0.83      0.84      0.83       165\n",
        "          3       0.82      0.83      0.82       145\n",
        "          4       0.94      0.79      0.86       151\n",
        "          5       0.97      0.88      0.92       145\n",
        "          6       0.89      0.86      0.88       147\n",
        "          7       0.86      0.86      0.86       148\n",
        "          8       0.94      0.87      0.90       144\n",
        "          9       0.96      0.95      0.96       140\n",
        "         10       0.90      0.81      0.85       151\n",
        "         11       0.96      0.88      0.92       161\n",
        "         12       0.65      0.87      0.74       290\n",
        "         13       0.67      0.69      0.68       252\n",
        "         14       0.75      0.72      0.73       246\n",
        "         15       0.89      0.82      0.85       259\n",
        "         16       0.69      0.70      0.70       108\n",
        "         17       0.59      0.82      0.68       259\n",
        "         18       0.69      0.82      0.75       101\n",
        "         19       0.86      0.84      0.85       270\n",
        "         20       0.83      0.71      0.77       122\n",
        "         21       0.73      0.76      0.74       273\n",
        "         22       0.94      0.86      0.90       143\n",
        "         23       0.96      0.89      0.93       121\n",
        "         24       0.93      0.88      0.91       137\n",
        "         25       0.98      0.89      0.93       159\n",
        "         26       0.87      0.76      0.81       137\n",
        "         27       0.95      0.88      0.92       135\n",
        "         28       0.93      0.91      0.92       128\n",
        "         29       0.91      0.90      0.91       124\n",
        "         30       0.87      0.82      0.84       126\n",
        "         31       0.85      0.76      0.80       135\n",
        "\n",
        "avg / total       0.84      0.83      0.83      5327\n",
        "\n"
       ]
      }
     ],
     "prompt_number": 13
    },
    {
     "cell_type": "markdown",
     "metadata": {},
     "source": [
      "## load model"
     ]
    },
    {
     "cell_type": "code",
     "collapsed": false,
     "input": [
      "import cPickle as pickle\n",
      "\n",
      "with open('./Lasagne_2nd.pickle', 'rb') as f:\n",
      "    specialists = pickle.load(f)\n"
     ],
     "language": "python",
     "metadata": {},
     "outputs": []
    },
    {
     "cell_type": "markdown",
     "metadata": {},
     "source": [
      "## submit test data "
     ]
    },
    {
     "cell_type": "code",
     "collapsed": false,
     "input": [
      "import pandas as pd\n",
      "\n",
      "xx_test, yy_test = load_svmlight_file(\"./phase1/aug_test_50.dat\")"
     ],
     "language": "python",
     "metadata": {},
     "outputs": [],
     "prompt_number": 32
    },
    {
     "cell_type": "code",
     "collapsed": false,
     "input": [
      "xx_test.shape"
     ],
     "language": "python",
     "metadata": {},
     "outputs": [
      {
       "metadata": {},
       "output_type": "pyout",
       "prompt_number": 33,
       "text": [
        "(7372, 2500)"
       ]
      }
     ],
     "prompt_number": 33
    },
    {
     "cell_type": "code",
     "collapsed": false,
     "input": [
      "xx_test = np.array(xx_test.todense()).reshape(-1,)\n",
      "# xx_train = xx_train.dtype(np.float32)\n",
      "xx_test = np.float32(xx_test)\n",
      "xx_test = xx_test.reshape(7372,2500)\n",
      "\n",
      "xx_test = xx_test.astype(np.float32)\n",
      "\n",
      "def one_hot(x,n):\n",
      "    if type(x) == list:\n",
      "            x = np.array(x)\n",
      "    x = x.flatten()\n",
      "    o_h = np.zeros((len(x),n))\n",
      "    o_h[np.arange(len(x)),x] = 1\n",
      "    return o_h\n",
      "\n",
      "yy_test = yy_test.astype(int32)    \n",
      "yy_test = one_hot(yy_test, 32)\n",
      "yy_test = yy_test.astype(np.float32)\n",
      "\n",
      "Xt, yt = transform_6(xx_test, yy_test)\n",
      "result = net7.predict(Xt)\n",
      "result = np.array(map((lambda x: np.argmax(x)), result))\n",
      "result.astype(int)"
     ],
     "language": "python",
     "metadata": {},
     "outputs": [
      {
       "metadata": {},
       "output_type": "pyout",
       "prompt_number": 34,
       "text": [
        "array([18, 23, 30, ..., 20, 28, 21])"
       ]
      }
     ],
     "prompt_number": 34
    },
    {
     "cell_type": "code",
     "collapsed": false,
     "input": [
      "df_submission = pd.DataFrame( result.astype(int) ,columns=None)\n",
      "\n",
      "df_submission.to_csv('./Lasagne_4th.dat', index=None)"
     ],
     "language": "python",
     "metadata": {},
     "outputs": [],
     "prompt_number": 35
    }
   ],
   "metadata": {}
  }
 ]
}