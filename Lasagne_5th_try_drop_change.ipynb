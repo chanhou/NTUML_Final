{
 "metadata": {
  "name": ""
 },
 "nbformat": 3,
 "nbformat_minor": 0,
 "worksheets": [
  {
   "cells": [
    {
     "cell_type": "markdown",
     "metadata": {},
     "source": [
      "## Lasagne code try and edit"
     ]
    },
    {
     "cell_type": "markdown",
     "metadata": {},
     "source": [
      "## input our data"
     ]
    },
    {
     "cell_type": "code",
     "collapsed": false,
     "input": [
      "import numpy as np\n",
      "import math\n",
      "import scipy.linalg as sp\n",
      "from sklearn.datasets import load_svmlight_file"
     ],
     "language": "python",
     "metadata": {},
     "outputs": [],
     "prompt_number": 1
    },
    {
     "cell_type": "code",
     "collapsed": false,
     "input": [
      "xx_train, y = load_svmlight_file(\"./phase1/aug_train_50_combine_less.dat\")\n",
      "# print type(xx_train)\n",
      "print xx_train.shape\n",
      "xx_train = np.array(xx_train.todense()).reshape(-1,)\n",
      "# xx_train = xx_train.dtype(np.float32)\n",
      "xx_train = np.float32(xx_train)\n",
      "xx_train = xx_train.reshape(16464,2500)\n",
      "# print xx_train.shape\n",
      "print type(xx_train)"
     ],
     "language": "python",
     "metadata": {},
     "outputs": [
      {
       "output_type": "stream",
       "stream": "stdout",
       "text": [
        "(16464, 2500)\n",
        "<type 'numpy.ndarray'>"
       ]
      },
      {
       "output_type": "stream",
       "stream": "stdout",
       "text": [
        "\n"
       ]
      }
     ],
     "prompt_number": 2
    },
    {
     "cell_type": "code",
     "collapsed": false,
     "input": [
      "sizee = 50"
     ],
     "language": "python",
     "metadata": {},
     "outputs": [],
     "prompt_number": 3
    },
    {
     "cell_type": "code",
     "collapsed": false,
     "input": [
      "# pylab.ion()\n",
      "# pylab.imshow(xxxx[0],cmap=cm.gray)\n",
      "x = xx_train.reshape(16464,sizee**2)\n",
      "x = x.astype(np.float32)\n",
      "\n",
      "print x.shape\n",
      "print type(x)"
     ],
     "language": "python",
     "metadata": {},
     "outputs": [
      {
       "output_type": "stream",
       "stream": "stdout",
       "text": [
        "(16464, 2500)\n",
        "<type 'numpy.ndarray'>\n"
       ]
      }
     ],
     "prompt_number": 4
    },
    {
     "cell_type": "code",
     "collapsed": false,
     "input": [
      "def one_hot(x,n):\n",
      "    if type(x) == list:\n",
      "            x = np.array(x)\n",
      "    x = x.flatten()\n",
      "    o_h = np.zeros((len(x),n))\n",
      "    o_h[np.arange(len(x)),x] = 1\n",
      "    return o_h\n",
      "\n",
      "y = y.astype(int32)    \n",
      "y = one_hot(y, 32)\n",
      "y = y.astype(np.float32)\n",
      "\n",
      "print y.shape"
     ],
     "language": "python",
     "metadata": {},
     "outputs": [
      {
       "output_type": "stream",
       "stream": "stdout",
       "text": [
        "(16464, 32)\n"
       ]
      }
     ],
     "prompt_number": 5
    },
    {
     "cell_type": "markdown",
     "metadata": {},
     "source": [
      "## split data"
     ]
    },
    {
     "cell_type": "code",
     "collapsed": false,
     "input": [
      "from sklearn import cross_validation as cv\n",
      "from sklearn import svm\n",
      "from sklearn import metrics\n",
      "from sklearn import grid_search as gs"
     ],
     "language": "python",
     "metadata": {},
     "outputs": [],
     "prompt_number": 6
    },
    {
     "cell_type": "code",
     "collapsed": false,
     "input": [
      "X_train, X_test, y_train, y_test = cv.train_test_split(x, y, test_size=0.2)"
     ],
     "language": "python",
     "metadata": {},
     "outputs": [],
     "prompt_number": 7
    },
    {
     "cell_type": "code",
     "collapsed": false,
     "input": [
      "print X_train.shape\n",
      "print X_test.shape\n",
      "print y_train.shape\n",
      "print y_test.shape"
     ],
     "language": "python",
     "metadata": {},
     "outputs": [
      {
       "output_type": "stream",
       "stream": "stdout",
       "text": [
        "(13171, 2500)\n",
        "(3293, 2500)\n",
        "(13171, 32)\n",
        "(3293, 32)\n"
       ]
      }
     ],
     "prompt_number": 8
    },
    {
     "cell_type": "markdown",
     "metadata": {},
     "source": [
      "## First model of Lasagne with single hidden layer"
     ]
    },
    {
     "cell_type": "code",
     "collapsed": false,
     "input": [
      "# add to kfkd.py\n",
      "from lasagne import layers\n",
      "from lasagne.updates import nesterov_momentum\n",
      "from nolearn.lasagne import NeuralNet\n",
      "\n",
      "net1 = NeuralNet(\n",
      "    layers=[  # three layers: one hidden layer\n",
      "        ('input', layers.InputLayer),\n",
      "        ('hidden', layers.DenseLayer),\n",
      "        ('output', layers.DenseLayer),\n",
      "        ],\n",
      "    # layer parameters:\n",
      "    input_shape=(128, 2500),  # 128 images per batch times 100x100 input pixels\n",
      "    hidden_num_units=200,  # number of units in hidden layer\n",
      "    output_nonlinearity=None,  # output layer uses identity function\n",
      "    output_num_units=32,  # 30 target values\n",
      "\n",
      "    # optimization method:\n",
      "    upate=nesterov_momentum,\n",
      "    update_learning_rate=0.01,\n",
      "    update_momentum=0.9,\n",
      "\n",
      "    # regression=False,  # flag to indicate we're dealing with regression problem\n",
      "    regression=True,  # flag to indicate we're dealing with regression problem\n",
      "    max_epochs=1000,  # we want to train this many epochs\n",
      "    verbose=1,\n",
      "    )\n"
     ],
     "language": "python",
     "metadata": {},
     "outputs": [
      {
       "output_type": "stream",
       "stream": "stderr",
       "text": [
        "Using gpu device 0: GRID K520\n"
       ]
      }
     ],
     "prompt_number": 9
    },
    {
     "cell_type": "code",
     "collapsed": false,
     "input": [
      "%time net1.fit(X_train, y_train)"
     ],
     "language": "python",
     "metadata": {},
     "outputs": [
      {
       "output_type": "stream",
       "stream": "stdout",
       "text": [
        "  InputLayer        \t(128, 2500)         \tproduces    2500 outputs\n",
        "  DenseLayer        \t(128, 200)          \tproduces     200 outputs\n",
        "  DenseLayer        \t(128, 32)           \tproduces      32 outputs\n",
        "\n",
        " Epoch  |  Train loss  |  Valid loss  |  Train / Val  |  Valid acc  |  Dur\n",
        "--------|--------------|--------------|---------------|-------------|-------"
       ]
      },
      {
       "output_type": "stream",
       "stream": "stdout",
       "text": [
        "\n",
        "     1  |  \u001b[94m  0.067654\u001b[0m  |  \u001b[32m  0.051491\u001b[0m  |     1.313907  |             |  0.2s"
       ]
      },
      {
       "output_type": "stream",
       "stream": "stdout",
       "text": [
        "\n",
        "     2  |  \u001b[94m  0.046061\u001b[0m  |  \u001b[32m  0.042331\u001b[0m  |     1.088134  |             |  0.2s"
       ]
      },
      {
       "output_type": "stream",
       "stream": "stdout",
       "text": [
        "\n",
        "     3  |  \u001b[94m  0.039759\u001b[0m  |  \u001b[32m  0.038127\u001b[0m  |     1.042796  |             |  0.2s"
       ]
      },
      {
       "output_type": "stream",
       "stream": "stdout",
       "text": [
        "\n",
        "     4  |  \u001b[94m  0.036639\u001b[0m  |  \u001b[32m  0.035859\u001b[0m  |     1.021741  |             |  0.2s"
       ]
      },
      {
       "output_type": "stream",
       "stream": "stdout",
       "text": [
        "\n",
        "     5  |  \u001b[94m  0.034861\u001b[0m  |  \u001b[32m  0.034503\u001b[0m  |     1.010385  |             |  0.2s"
       ]
      },
      {
       "output_type": "stream",
       "stream": "stdout",
       "text": [
        "\n",
        "     6  |  \u001b[94m  0.033740\u001b[0m  |  \u001b[32m  0.033609\u001b[0m  |     1.003891  |             |  0.2s"
       ]
      },
      {
       "output_type": "stream",
       "stream": "stdout",
       "text": [
        "\n",
        "     7  |  \u001b[94m  0.032970\u001b[0m  |  \u001b[32m  0.032976\u001b[0m  |     0.999817  |             |  0.2s"
       ]
      },
      {
       "output_type": "stream",
       "stream": "stdout",
       "text": [
        "\n",
        "     8  |  \u001b[94m  0.032411\u001b[0m  |  \u001b[32m  0.032505\u001b[0m  |     0.997085  |             |  0.2s"
       ]
      },
      {
       "output_type": "stream",
       "stream": "stdout",
       "text": [
        "\n",
        "     9  |  \u001b[94m  0.031987\u001b[0m  |  \u001b[32m  0.032147\u001b[0m  |     0.995023  |             |  0.2s"
       ]
      },
      {
       "output_type": "stream",
       "stream": "stdout",
       "text": [
        "\n",
        "    10  |  \u001b[94m  0.031653\u001b[0m  |  \u001b[32m  0.031864\u001b[0m  |     0.993375  |             |  0.2s"
       ]
      },
      {
       "output_type": "stream",
       "stream": "stdout",
       "text": [
        "\n",
        "    11  |  \u001b[94m  0.031383\u001b[0m  |  \u001b[32m  0.031636\u001b[0m  |     0.992018  |             |  0.2s"
       ]
      },
      {
       "output_type": "stream",
       "stream": "stdout",
       "text": [
        "\n",
        "    12  |  \u001b[94m  0.031160\u001b[0m  |  \u001b[32m  0.031446\u001b[0m  |     0.990902  |             |  0.2s"
       ]
      },
      {
       "output_type": "stream",
       "stream": "stdout",
       "text": [
        "\n",
        "    13  |  \u001b[94m  0.030972\u001b[0m  |  \u001b[32m  0.031285\u001b[0m  |     0.989972  |             |  0.2s"
       ]
      },
      {
       "output_type": "stream",
       "stream": "stdout",
       "text": [
        "\n",
        "    14  |  \u001b[94m  0.030810\u001b[0m  |  \u001b[32m  0.031148\u001b[0m  |     0.989155  |             |  0.2s"
       ]
      },
      {
       "output_type": "stream",
       "stream": "stdout",
       "text": [
        "\n",
        "    15  |  \u001b[94m  0.030669\u001b[0m  |  \u001b[32m  0.031029\u001b[0m  |     0.988399  |             |  0.2s"
       ]
      },
      {
       "output_type": "stream",
       "stream": "stdout",
       "text": [
        "\n",
        "    16  |  \u001b[94m  0.030544\u001b[0m  |  \u001b[32m  0.030925\u001b[0m  |     0.987687  |             |  0.2s"
       ]
      },
      {
       "output_type": "stream",
       "stream": "stdout",
       "text": [
        "\n",
        "    17  |  \u001b[94m  0.030432\u001b[0m  |  \u001b[32m  0.030832\u001b[0m  |     0.987031  |             |  0.2s"
       ]
      },
      {
       "output_type": "stream",
       "stream": "stdout",
       "text": [
        "\n",
        "    18  |  \u001b[94m  0.030331\u001b[0m  |  \u001b[32m  0.030749\u001b[0m  |     0.986417  |             |  0.2s"
       ]
      },
      {
       "output_type": "stream",
       "stream": "stdout",
       "text": [
        "\n",
        "    19  |  \u001b[94m  0.030239\u001b[0m  |  \u001b[32m  0.030674\u001b[0m  |     0.985810  |             |  0.2s"
       ]
      },
      {
       "output_type": "stream",
       "stream": "stdout",
       "text": [
        "\n",
        "    20  |  \u001b[94m  0.030153\u001b[0m  |  \u001b[32m  0.030606\u001b[0m  |     0.985212  |             |  0.2s"
       ]
      },
      {
       "output_type": "stream",
       "stream": "stdout",
       "text": [
        "\n",
        "    21  |  \u001b[94m  0.030074\u001b[0m  |  \u001b[32m  0.030544\u001b[0m  |     0.984611  |             |  0.2s"
       ]
      },
      {
       "output_type": "stream",
       "stream": "stdout",
       "text": [
        "\n",
        "    22  |  \u001b[94m  0.030000\u001b[0m  |  \u001b[32m  0.030487\u001b[0m  |     0.984021  |             |  0.2s"
       ]
      },
      {
       "output_type": "stream",
       "stream": "stdout",
       "text": [
        "\n",
        "    23  |  \u001b[94m  0.029930\u001b[0m  |  \u001b[32m  0.030434\u001b[0m  |     0.983433  |             |  0.2s"
       ]
      },
      {
       "output_type": "stream",
       "stream": "stdout",
       "text": [
        "\n",
        "    24  |  \u001b[94m  0.029864\u001b[0m  |  \u001b[32m  0.030386\u001b[0m  |     0.982838  |             |  0.2s"
       ]
      },
      {
       "output_type": "stream",
       "stream": "stdout",
       "text": [
        "\n",
        "    25  |  \u001b[94m  0.029802\u001b[0m  |  \u001b[32m  0.030340\u001b[0m  |     0.982247  |             |  0.2s"
       ]
      },
      {
       "output_type": "stream",
       "stream": "stdout",
       "text": [
        "\n",
        "    26  |  \u001b[94m  0.029742\u001b[0m  |  \u001b[32m  0.030298\u001b[0m  |     0.981658  |             |  0.2s"
       ]
      },
      {
       "output_type": "stream",
       "stream": "stdout",
       "text": [
        "\n",
        "    27  |  \u001b[94m  0.029684\u001b[0m  |  \u001b[32m  0.030257\u001b[0m  |     0.981067  |             |  0.2s"
       ]
      },
      {
       "output_type": "stream",
       "stream": "stdout",
       "text": [
        "\n",
        "    28  |  \u001b[94m  0.029629\u001b[0m  |  \u001b[32m  0.030219\u001b[0m  |     0.980476  |             |  0.2s"
       ]
      },
      {
       "output_type": "stream",
       "stream": "stdout",
       "text": [
        "\n",
        "    29  |  \u001b[94m  0.029576\u001b[0m  |  \u001b[32m  0.030183\u001b[0m  |     0.979884  |             |  0.2s"
       ]
      },
      {
       "output_type": "stream",
       "stream": "stdout",
       "text": [
        "\n",
        "    30  |  \u001b[94m  0.029524\u001b[0m  |  \u001b[32m  0.030149\u001b[0m  |     0.979288  |             |  0.2s"
       ]
      },
      {
       "output_type": "stream",
       "stream": "stdout",
       "text": [
        "\n",
        "    31  |  \u001b[94m  0.029474\u001b[0m  |  \u001b[32m  0.030116\u001b[0m  |     0.978689  |             |  0.2s"
       ]
      },
      {
       "output_type": "stream",
       "stream": "stdout",
       "text": [
        "\n",
        "    32  |  \u001b[94m  0.029426\u001b[0m  |  \u001b[32m  0.030085\u001b[0m  |     0.978087  |             |  0.2s"
       ]
      },
      {
       "output_type": "stream",
       "stream": "stdout",
       "text": [
        "\n",
        "    33  |  \u001b[94m  0.029379\u001b[0m  |  \u001b[32m  0.030055\u001b[0m  |     0.977485  |             |  0.2s"
       ]
      },
      {
       "output_type": "stream",
       "stream": "stdout",
       "text": [
        "\n",
        "    34  |  \u001b[94m  0.029333\u001b[0m  |  \u001b[32m  0.030027\u001b[0m  |     0.976885  |             |  0.2s"
       ]
      },
      {
       "output_type": "stream",
       "stream": "stdout",
       "text": [
        "\n",
        "    35  |  \u001b[94m  0.029287\u001b[0m  |  \u001b[32m  0.029999\u001b[0m  |     0.976285  |             |  0.2s"
       ]
      },
      {
       "output_type": "stream",
       "stream": "stdout",
       "text": [
        "\n",
        "    36  |  \u001b[94m  0.029243\u001b[0m  |  \u001b[32m  0.029972\u001b[0m  |     0.975681  |             |  0.2s"
       ]
      },
      {
       "output_type": "stream",
       "stream": "stdout",
       "text": [
        "\n",
        "    37  |  \u001b[94m  0.029200\u001b[0m  |  \u001b[32m  0.029946\u001b[0m  |     0.975075  |             |  0.2s"
       ]
      },
      {
       "output_type": "stream",
       "stream": "stdout",
       "text": [
        "\n",
        "    38  |  \u001b[94m  0.029158\u001b[0m  |  \u001b[32m  0.029922\u001b[0m  |     0.974466  |             |  0.2s"
       ]
      },
      {
       "output_type": "stream",
       "stream": "stdout",
       "text": [
        "\n",
        "    39  |  \u001b[94m  0.029116\u001b[0m  |  \u001b[32m  0.029897\u001b[0m  |     0.973856  |             |  0.2s"
       ]
      },
      {
       "output_type": "stream",
       "stream": "stdout",
       "text": [
        "\n",
        "    40  |  \u001b[94m  0.029075\u001b[0m  |  \u001b[32m  0.029874\u001b[0m  |     0.973245  |             |  0.2s"
       ]
      },
      {
       "output_type": "stream",
       "stream": "stdout",
       "text": [
        "\n",
        "    41  |  \u001b[94m  0.029034\u001b[0m  |  \u001b[32m  0.029851\u001b[0m  |     0.972636  |             |  0.2s"
       ]
      },
      {
       "output_type": "stream",
       "stream": "stdout",
       "text": [
        "\n",
        "    42  |  \u001b[94m  0.028994\u001b[0m  |  \u001b[32m  0.029829\u001b[0m  |     0.972024  |             |  0.2s"
       ]
      },
      {
       "output_type": "stream",
       "stream": "stdout",
       "text": [
        "\n",
        "    43  |  \u001b[94m  0.028955\u001b[0m  |  \u001b[32m  0.029807\u001b[0m  |     0.971411  |             |  0.2s"
       ]
      },
      {
       "output_type": "stream",
       "stream": "stdout",
       "text": [
        "\n",
        "    44  |  \u001b[94m  0.028916\u001b[0m  |  \u001b[32m  0.029786\u001b[0m  |     0.970800  |             |  0.2s"
       ]
      },
      {
       "output_type": "stream",
       "stream": "stdout",
       "text": [
        "\n",
        "    45  |  \u001b[94m  0.028878\u001b[0m  |  \u001b[32m  0.029765\u001b[0m  |     0.970197  |             |  0.2s"
       ]
      },
      {
       "output_type": "stream",
       "stream": "stdout",
       "text": [
        "\n",
        "    46  |  \u001b[94m  0.028840\u001b[0m  |  \u001b[32m  0.029745\u001b[0m  |     0.969593  |             |  0.2s"
       ]
      },
      {
       "output_type": "stream",
       "stream": "stdout",
       "text": [
        "\n",
        "    47  |  \u001b[94m  0.028803\u001b[0m  |  \u001b[32m  0.029725\u001b[0m  |     0.968980  |             |  0.2s"
       ]
      },
      {
       "output_type": "stream",
       "stream": "stdout",
       "text": [
        "\n",
        "    48  |  \u001b[94m  0.028766\u001b[0m  |  \u001b[32m  0.029706\u001b[0m  |     0.968373  |             |  0.2s"
       ]
      },
      {
       "output_type": "stream",
       "stream": "stdout",
       "text": [
        "\n",
        "    49  |  \u001b[94m  0.028729\u001b[0m  |  \u001b[32m  0.029686\u001b[0m  |     0.967770  |             |  0.2s"
       ]
      },
      {
       "output_type": "stream",
       "stream": "stdout",
       "text": [
        "\n",
        "    50  |  \u001b[94m  0.028693\u001b[0m  |  \u001b[32m  0.029667\u001b[0m  |     0.967170  |             |  0.2s"
       ]
      },
      {
       "output_type": "stream",
       "stream": "stdout",
       "text": [
        "\n",
        "    51  |  \u001b[94m  0.028657\u001b[0m  |  \u001b[32m  0.029648\u001b[0m  |     0.966571  |             |  0.2s"
       ]
      },
      {
       "output_type": "stream",
       "stream": "stdout",
       "text": [
        "\n",
        "    52  |  \u001b[94m  0.028622\u001b[0m  |  \u001b[32m  0.029630\u001b[0m  |     0.965969  |             |  0.2s"
       ]
      },
      {
       "output_type": "stream",
       "stream": "stdout",
       "text": [
        "\n",
        "    53  |  \u001b[94m  0.028586\u001b[0m  |  \u001b[32m  0.029612\u001b[0m  |     0.965374  |             |  0.2s"
       ]
      },
      {
       "output_type": "stream",
       "stream": "stdout",
       "text": [
        "\n",
        "    54  |  \u001b[94m  0.028551\u001b[0m  |  \u001b[32m  0.029593\u001b[0m  |     0.964780  |             |  0.2s"
       ]
      },
      {
       "output_type": "stream",
       "stream": "stdout",
       "text": [
        "\n",
        "    55  |  \u001b[94m  0.028517\u001b[0m  |  \u001b[32m  0.029576\u001b[0m  |     0.964186  |             |  0.2s"
       ]
      },
      {
       "output_type": "stream",
       "stream": "stdout",
       "text": [
        "\n",
        "    56  |  \u001b[94m  0.028482\u001b[0m  |  \u001b[32m  0.029558\u001b[0m  |     0.963593  |             |  0.2s"
       ]
      },
      {
       "output_type": "stream",
       "stream": "stdout",
       "text": [
        "\n",
        "    57  |  \u001b[94m  0.028448\u001b[0m  |  \u001b[32m  0.029541\u001b[0m  |     0.963000  |             |  0.2s"
       ]
      },
      {
       "output_type": "stream",
       "stream": "stdout",
       "text": [
        "\n",
        "    58  |  \u001b[94m  0.028415\u001b[0m  |  \u001b[32m  0.029525\u001b[0m  |     0.962405  |             |  0.2s"
       ]
      },
      {
       "output_type": "stream",
       "stream": "stdout",
       "text": [
        "\n",
        "    59  |  \u001b[94m  0.028381\u001b[0m  |  \u001b[32m  0.029508\u001b[0m  |     0.961809  |             |  0.2s"
       ]
      },
      {
       "output_type": "stream",
       "stream": "stdout",
       "text": [
        "\n",
        "    60  |  \u001b[94m  0.028348\u001b[0m  |  \u001b[32m  0.029492\u001b[0m  |     0.961214  |             |  0.2s"
       ]
      },
      {
       "output_type": "stream",
       "stream": "stdout",
       "text": [
        "\n",
        "    61  |  \u001b[94m  0.028315\u001b[0m  |  \u001b[32m  0.029476\u001b[0m  |     0.960618  |             |  0.2s"
       ]
      },
      {
       "output_type": "stream",
       "stream": "stdout",
       "text": [
        "\n",
        "    62  |  \u001b[94m  0.028282\u001b[0m  |  \u001b[32m  0.029460\u001b[0m  |     0.960023  |             |  0.2s"
       ]
      },
      {
       "output_type": "stream",
       "stream": "stdout",
       "text": [
        "\n",
        "    63  |  \u001b[94m  0.028249\u001b[0m  |  \u001b[32m  0.029444\u001b[0m  |     0.959427  |             |  0.2s"
       ]
      },
      {
       "output_type": "stream",
       "stream": "stdout",
       "text": [
        "\n",
        "    64  |  \u001b[94m  0.028217\u001b[0m  |  \u001b[32m  0.029428\u001b[0m  |     0.958830  |             |  0.2s"
       ]
      },
      {
       "output_type": "stream",
       "stream": "stdout",
       "text": [
        "\n",
        "    65  |  \u001b[94m  0.028184\u001b[0m  |  \u001b[32m  0.029413\u001b[0m  |     0.958234  |             |  0.2s"
       ]
      },
      {
       "output_type": "stream",
       "stream": "stdout",
       "text": [
        "\n",
        "    66  |  \u001b[94m  0.028152\u001b[0m  |  \u001b[32m  0.029397\u001b[0m  |     0.957633  |             |  0.2s"
       ]
      },
      {
       "output_type": "stream",
       "stream": "stdout",
       "text": [
        "\n",
        "    67  |  \u001b[94m  0.028120\u001b[0m  |  \u001b[32m  0.029382\u001b[0m  |     0.957032  |             |  0.2s"
       ]
      },
      {
       "output_type": "stream",
       "stream": "stdout",
       "text": [
        "\n",
        "    68  |  \u001b[94m  0.028087\u001b[0m  |  \u001b[32m  0.029367\u001b[0m  |     0.956438  |             |  0.2s"
       ]
      },
      {
       "output_type": "stream",
       "stream": "stdout",
       "text": [
        "\n",
        "    69  |  \u001b[94m  0.028055\u001b[0m  |  \u001b[32m  0.029351\u001b[0m  |     0.955843  |             |  0.2s"
       ]
      },
      {
       "output_type": "stream",
       "stream": "stdout",
       "text": [
        "\n",
        "    70  |  \u001b[94m  0.028023\u001b[0m  |  \u001b[32m  0.029336\u001b[0m  |     0.955248  |             |  0.2s"
       ]
      },
      {
       "output_type": "stream",
       "stream": "stdout",
       "text": [
        "\n",
        "    71  |  \u001b[94m  0.027991\u001b[0m  |  \u001b[32m  0.029321\u001b[0m  |     0.954650  |             |  0.2s"
       ]
      },
      {
       "output_type": "stream",
       "stream": "stdout",
       "text": [
        "\n",
        "    72  |  \u001b[94m  0.027959\u001b[0m  |  \u001b[32m  0.029306\u001b[0m  |     0.954052  |             |  0.2s"
       ]
      },
      {
       "output_type": "stream",
       "stream": "stdout",
       "text": [
        "\n",
        "    73  |  \u001b[94m  0.027928\u001b[0m  |  \u001b[32m  0.029291\u001b[0m  |     0.953454  |             |  0.2s"
       ]
      },
      {
       "output_type": "stream",
       "stream": "stdout",
       "text": [
        "\n",
        "    74  |  \u001b[94m  0.027896\u001b[0m  |  \u001b[32m  0.029276\u001b[0m  |     0.952857  |             |  0.2s"
       ]
      },
      {
       "output_type": "stream",
       "stream": "stdout",
       "text": [
        "\n",
        "    75  |  \u001b[94m  0.027865\u001b[0m  |  \u001b[32m  0.029262\u001b[0m  |     0.952254  |             |  0.2s"
       ]
      },
      {
       "output_type": "stream",
       "stream": "stdout",
       "text": [
        "\n",
        "    76  |  \u001b[94m  0.027833\u001b[0m  |  \u001b[32m  0.029247\u001b[0m  |     0.951648  |             |  0.2s"
       ]
      },
      {
       "output_type": "stream",
       "stream": "stdout",
       "text": [
        "\n",
        "    77  |  \u001b[94m  0.027802\u001b[0m  |  \u001b[32m  0.029233\u001b[0m  |     0.951041  |             |  0.2s"
       ]
      },
      {
       "output_type": "stream",
       "stream": "stdout",
       "text": [
        "\n",
        "    78  |  \u001b[94m  0.027771\u001b[0m  |  \u001b[32m  0.029219\u001b[0m  |     0.950429  |             |  0.2s"
       ]
      },
      {
       "output_type": "stream",
       "stream": "stdout",
       "text": [
        "\n",
        "    79  |  \u001b[94m  0.027739\u001b[0m  |  \u001b[32m  0.029205\u001b[0m  |     0.949816  |             |  0.2s"
       ]
      },
      {
       "output_type": "stream",
       "stream": "stdout",
       "text": [
        "\n",
        "    80  |  \u001b[94m  0.027708\u001b[0m  |  \u001b[32m  0.029191\u001b[0m  |     0.949205  |             |  0.2s"
       ]
      },
      {
       "output_type": "stream",
       "stream": "stdout",
       "text": [
        "\n",
        "    81  |  \u001b[94m  0.027677\u001b[0m  |  \u001b[32m  0.029177\u001b[0m  |     0.948598  |             |  0.2s"
       ]
      },
      {
       "output_type": "stream",
       "stream": "stdout",
       "text": [
        "\n",
        "    82  |  \u001b[94m  0.027646\u001b[0m  |  \u001b[32m  0.029163\u001b[0m  |     0.947990  |             |  0.2s"
       ]
      },
      {
       "output_type": "stream",
       "stream": "stdout",
       "text": [
        "\n",
        "    83  |  \u001b[94m  0.027615\u001b[0m  |  \u001b[32m  0.029149\u001b[0m  |     0.947389  |             |  0.2s"
       ]
      },
      {
       "output_type": "stream",
       "stream": "stdout",
       "text": [
        "\n",
        "    84  |  \u001b[94m  0.027585\u001b[0m  |  \u001b[32m  0.029135\u001b[0m  |     0.946795  |             |  0.2s"
       ]
      },
      {
       "output_type": "stream",
       "stream": "stdout",
       "text": [
        "\n",
        "    85  |  \u001b[94m  0.027554\u001b[0m  |  \u001b[32m  0.029121\u001b[0m  |     0.946194  |             |  0.2s"
       ]
      },
      {
       "output_type": "stream",
       "stream": "stdout",
       "text": [
        "\n",
        "    86  |  \u001b[94m  0.027523\u001b[0m  |  \u001b[32m  0.029107\u001b[0m  |     0.945594  |             |  0.2s"
       ]
      },
      {
       "output_type": "stream",
       "stream": "stdout",
       "text": [
        "\n",
        "    87  |  \u001b[94m  0.027492\u001b[0m  |  \u001b[32m  0.029093\u001b[0m  |     0.944999  |             |  0.2s"
       ]
      },
      {
       "output_type": "stream",
       "stream": "stdout",
       "text": [
        "\n",
        "    88  |  \u001b[94m  0.027462\u001b[0m  |  \u001b[32m  0.029078\u001b[0m  |     0.944406  |             |  0.2s"
       ]
      },
      {
       "output_type": "stream",
       "stream": "stdout",
       "text": [
        "\n",
        "    89  |  \u001b[94m  0.027431\u001b[0m  |  \u001b[32m  0.029064\u001b[0m  |     0.943814  |             |  0.2s"
       ]
      },
      {
       "output_type": "stream",
       "stream": "stdout",
       "text": [
        "\n",
        "    90  |  \u001b[94m  0.027400\u001b[0m  |  \u001b[32m  0.029050\u001b[0m  |     0.943220  |             |  0.2s"
       ]
      },
      {
       "output_type": "stream",
       "stream": "stdout",
       "text": [
        "\n",
        "    91  |  \u001b[94m  0.027370\u001b[0m  |  \u001b[32m  0.029036\u001b[0m  |     0.942624  |             |  0.2s"
       ]
      },
      {
       "output_type": "stream",
       "stream": "stdout",
       "text": [
        "\n",
        "    92  |  \u001b[94m  0.027339\u001b[0m  |  \u001b[32m  0.029022\u001b[0m  |     0.942030  |             |  0.2s"
       ]
      },
      {
       "output_type": "stream",
       "stream": "stdout",
       "text": [
        "\n",
        "    93  |  \u001b[94m  0.027309\u001b[0m  |  \u001b[32m  0.029007\u001b[0m  |     0.941444  |             |  0.2s"
       ]
      },
      {
       "output_type": "stream",
       "stream": "stdout",
       "text": [
        "\n",
        "    94  |  \u001b[94m  0.027279\u001b[0m  |  \u001b[32m  0.028993\u001b[0m  |     0.940851  |             |  0.2s"
       ]
      },
      {
       "output_type": "stream",
       "stream": "stdout",
       "text": [
        "\n",
        "    95  |  \u001b[94m  0.027248\u001b[0m  |  \u001b[32m  0.028979\u001b[0m  |     0.940261  |             |  0.2s"
       ]
      },
      {
       "output_type": "stream",
       "stream": "stdout",
       "text": [
        "\n",
        "    96  |  \u001b[94m  0.027218\u001b[0m  |  \u001b[32m  0.028965\u001b[0m  |     0.939671  |             |  0.2s"
       ]
      },
      {
       "output_type": "stream",
       "stream": "stdout",
       "text": [
        "\n",
        "    97  |  \u001b[94m  0.027188\u001b[0m  |  \u001b[32m  0.028951\u001b[0m  |     0.939076  |             |  0.2s"
       ]
      },
      {
       "output_type": "stream",
       "stream": "stdout",
       "text": [
        "\n",
        "    98  |  \u001b[94m  0.027157\u001b[0m  |  \u001b[32m  0.028937\u001b[0m  |     0.938483  |             |  0.2s"
       ]
      },
      {
       "output_type": "stream",
       "stream": "stdout",
       "text": [
        "\n",
        "    99  |  \u001b[94m  0.027127\u001b[0m  |  \u001b[32m  0.028923\u001b[0m  |     0.937895  |             |  0.2s"
       ]
      },
      {
       "output_type": "stream",
       "stream": "stdout",
       "text": [
        "\n",
        "   100  |  \u001b[94m  0.027097\u001b[0m  |  \u001b[32m  0.028909\u001b[0m  |     0.937304  |             |  0.2s"
       ]
      },
      {
       "output_type": "stream",
       "stream": "stdout",
       "text": [
        "\n",
        "   101  |  \u001b[94m  0.027067\u001b[0m  |  \u001b[32m  0.028895\u001b[0m  |     0.936713  |             |  0.2s"
       ]
      },
      {
       "output_type": "stream",
       "stream": "stdout",
       "text": [
        "\n",
        "   102  |  \u001b[94m  0.027037\u001b[0m  |  \u001b[32m  0.028882\u001b[0m  |     0.936120  |             |  0.2s"
       ]
      },
      {
       "output_type": "stream",
       "stream": "stdout",
       "text": [
        "\n",
        "   103  |  \u001b[94m  0.027006\u001b[0m  |  \u001b[32m  0.028868\u001b[0m  |     0.935527  |             |  0.2s"
       ]
      },
      {
       "output_type": "stream",
       "stream": "stdout",
       "text": [
        "\n",
        "   104  |  \u001b[94m  0.026976\u001b[0m  |  \u001b[32m  0.028854\u001b[0m  |     0.934941  |             |  0.2s"
       ]
      },
      {
       "output_type": "stream",
       "stream": "stdout",
       "text": [
        "\n",
        "   105  |  \u001b[94m  0.026947\u001b[0m  |  \u001b[32m  0.028839\u001b[0m  |     0.934362  |             |  0.2s"
       ]
      },
      {
       "output_type": "stream",
       "stream": "stdout",
       "text": [
        "\n",
        "   106  |  \u001b[94m  0.026917\u001b[0m  |  \u001b[32m  0.028825\u001b[0m  |     0.933781  |             |  0.2s"
       ]
      },
      {
       "output_type": "stream",
       "stream": "stdout",
       "text": [
        "\n",
        "   107  |  \u001b[94m  0.026887\u001b[0m  |  \u001b[32m  0.028811\u001b[0m  |     0.933199  |             |  0.2s"
       ]
      },
      {
       "output_type": "stream",
       "stream": "stdout",
       "text": [
        "\n",
        "   108  |  \u001b[94m  0.026857\u001b[0m  |  \u001b[32m  0.028797\u001b[0m  |     0.932619  |             |  0.2s"
       ]
      },
      {
       "output_type": "stream",
       "stream": "stdout",
       "text": [
        "\n",
        "   109  |  \u001b[94m  0.026827\u001b[0m  |  \u001b[32m  0.028784\u001b[0m  |     0.932031  |             |  0.2s"
       ]
      },
      {
       "output_type": "stream",
       "stream": "stdout",
       "text": [
        "\n",
        "   110  |  \u001b[94m  0.026798\u001b[0m  |  \u001b[32m  0.028770\u001b[0m  |     0.931449  |             |  0.2s"
       ]
      },
      {
       "output_type": "stream",
       "stream": "stdout",
       "text": [
        "\n",
        "   111  |  \u001b[94m  0.026768\u001b[0m  |  \u001b[32m  0.028756\u001b[0m  |     0.930875  |             |  0.2s"
       ]
      },
      {
       "output_type": "stream",
       "stream": "stdout",
       "text": [
        "\n",
        "   112  |  \u001b[94m  0.026738\u001b[0m  |  \u001b[32m  0.028742\u001b[0m  |     0.930298  |             |  0.2s"
       ]
      },
      {
       "output_type": "stream",
       "stream": "stdout",
       "text": [
        "\n",
        "   113  |  \u001b[94m  0.026709\u001b[0m  |  \u001b[32m  0.028728\u001b[0m  |     0.929733  |             |  0.2s"
       ]
      },
      {
       "output_type": "stream",
       "stream": "stdout",
       "text": [
        "\n",
        "   114  |  \u001b[94m  0.026680\u001b[0m  |  \u001b[32m  0.028714\u001b[0m  |     0.929172  |             |  0.2s"
       ]
      },
      {
       "output_type": "stream",
       "stream": "stdout",
       "text": [
        "\n",
        "   115  |  \u001b[94m  0.026651\u001b[0m  |  \u001b[32m  0.028699\u001b[0m  |     0.928607  |             |  0.2s"
       ]
      },
      {
       "output_type": "stream",
       "stream": "stdout",
       "text": [
        "\n",
        "   116  |  \u001b[94m  0.026621\u001b[0m  |  \u001b[32m  0.028685\u001b[0m  |     0.928046  |             |  0.2s"
       ]
      },
      {
       "output_type": "stream",
       "stream": "stdout",
       "text": [
        "\n",
        "   117  |  \u001b[94m  0.026592\u001b[0m  |  \u001b[32m  0.028671\u001b[0m  |     0.927484  |             |  0.2s"
       ]
      },
      {
       "output_type": "stream",
       "stream": "stdout",
       "text": [
        "\n",
        "   118  |  \u001b[94m  0.026563\u001b[0m  |  \u001b[32m  0.028658\u001b[0m  |     0.926924  |             |  0.2s"
       ]
      },
      {
       "output_type": "stream",
       "stream": "stdout",
       "text": [
        "\n",
        "   119  |  \u001b[94m  0.026535\u001b[0m  |  \u001b[32m  0.028644\u001b[0m  |     0.926365  |             |  0.2s"
       ]
      },
      {
       "output_type": "stream",
       "stream": "stdout",
       "text": [
        "\n",
        "   120  |  \u001b[94m  0.026506\u001b[0m  |  \u001b[32m  0.028630\u001b[0m  |     0.925800  |             |  0.2s"
       ]
      },
      {
       "output_type": "stream",
       "stream": "stdout",
       "text": [
        "\n",
        "   121  |  \u001b[94m  0.026477\u001b[0m  |  \u001b[32m  0.028617\u001b[0m  |     0.925248  |             |  0.2s"
       ]
      },
      {
       "output_type": "stream",
       "stream": "stdout",
       "text": [
        "\n",
        "   122  |  \u001b[94m  0.026449\u001b[0m  |  \u001b[32m  0.028603\u001b[0m  |     0.924692  |             |  0.2s"
       ]
      },
      {
       "output_type": "stream",
       "stream": "stdout",
       "text": [
        "\n",
        "   123  |  \u001b[94m  0.026420\u001b[0m  |  \u001b[32m  0.028589\u001b[0m  |     0.924137  |             |  0.2s"
       ]
      },
      {
       "output_type": "stream",
       "stream": "stdout",
       "text": [
        "\n",
        "   124  |  \u001b[94m  0.026392\u001b[0m  |  \u001b[32m  0.028576\u001b[0m  |     0.923571  |             |  0.2s"
       ]
      },
      {
       "output_type": "stream",
       "stream": "stdout",
       "text": [
        "\n",
        "   125  |  \u001b[94m  0.026363\u001b[0m  |  \u001b[32m  0.028562\u001b[0m  |     0.923015  |             |  0.2s"
       ]
      },
      {
       "output_type": "stream",
       "stream": "stdout",
       "text": [
        "\n",
        "   126  |  \u001b[94m  0.026335\u001b[0m  |  \u001b[32m  0.028548\u001b[0m  |     0.922459  |             |  0.2s"
       ]
      },
      {
       "output_type": "stream",
       "stream": "stdout",
       "text": [
        "\n",
        "   127  |  \u001b[94m  0.026307\u001b[0m  |  \u001b[32m  0.028535\u001b[0m  |     0.921901  |             |  0.2s"
       ]
      },
      {
       "output_type": "stream",
       "stream": "stdout",
       "text": [
        "\n",
        "   128  |  \u001b[94m  0.026278\u001b[0m  |  \u001b[32m  0.028522\u001b[0m  |     0.921342  |             |  0.2s"
       ]
      },
      {
       "output_type": "stream",
       "stream": "stdout",
       "text": [
        "\n",
        "   129  |  \u001b[94m  0.026250\u001b[0m  |  \u001b[32m  0.028509\u001b[0m  |     0.920775  |             |  0.2s"
       ]
      },
      {
       "output_type": "stream",
       "stream": "stdout",
       "text": [
        "\n",
        "   130  |  \u001b[94m  0.026222\u001b[0m  |  \u001b[32m  0.028495\u001b[0m  |     0.920223  |             |  0.2s"
       ]
      },
      {
       "output_type": "stream",
       "stream": "stdout",
       "text": [
        "\n",
        "   131  |  \u001b[94m  0.026194\u001b[0m  |  \u001b[32m  0.028482\u001b[0m  |     0.919667  |             |  0.2s"
       ]
      },
      {
       "output_type": "stream",
       "stream": "stdout",
       "text": [
        "\n",
        "   132  |  \u001b[94m  0.026166\u001b[0m  |  \u001b[32m  0.028469\u001b[0m  |     0.919117  |             |  0.2s"
       ]
      },
      {
       "output_type": "stream",
       "stream": "stdout",
       "text": [
        "\n",
        "   133  |  \u001b[94m  0.026139\u001b[0m  |  \u001b[32m  0.028456\u001b[0m  |     0.918568  |             |  0.2s"
       ]
      },
      {
       "output_type": "stream",
       "stream": "stdout",
       "text": [
        "\n",
        "   134  |  \u001b[94m  0.026111\u001b[0m  |  \u001b[32m  0.028443\u001b[0m  |     0.918017  |             |  0.2s"
       ]
      },
      {
       "output_type": "stream",
       "stream": "stdout",
       "text": [
        "\n",
        "   135  |  \u001b[94m  0.026083\u001b[0m  |  \u001b[32m  0.028430\u001b[0m  |     0.917469  |             |  0.2s"
       ]
      },
      {
       "output_type": "stream",
       "stream": "stdout",
       "text": [
        "\n",
        "   136  |  \u001b[94m  0.026056\u001b[0m  |  \u001b[32m  0.028417\u001b[0m  |     0.916914  |             |  0.2s"
       ]
      },
      {
       "output_type": "stream",
       "stream": "stdout",
       "text": [
        "\n",
        "   137  |  \u001b[94m  0.026028\u001b[0m  |  \u001b[32m  0.028404\u001b[0m  |     0.916359  |             |  0.2s"
       ]
      },
      {
       "output_type": "stream",
       "stream": "stdout",
       "text": [
        "\n",
        "   138  |  \u001b[94m  0.026000\u001b[0m  |  \u001b[32m  0.028391\u001b[0m  |     0.915809  |             |  0.2s"
       ]
      },
      {
       "output_type": "stream",
       "stream": "stdout",
       "text": [
        "\n",
        "   139  |  \u001b[94m  0.025973\u001b[0m  |  \u001b[32m  0.028378\u001b[0m  |     0.915264  |             |  0.2s"
       ]
      },
      {
       "output_type": "stream",
       "stream": "stdout",
       "text": [
        "\n",
        "   140  |  \u001b[94m  0.025946\u001b[0m  |  \u001b[32m  0.028365\u001b[0m  |     0.914718  |             |  0.2s"
       ]
      },
      {
       "output_type": "stream",
       "stream": "stdout",
       "text": [
        "\n",
        "   141  |  \u001b[94m  0.025919\u001b[0m  |  \u001b[32m  0.028352\u001b[0m  |     0.914179  |             |  0.2s"
       ]
      },
      {
       "output_type": "stream",
       "stream": "stdout",
       "text": [
        "\n",
        "   142  |  \u001b[94m  0.025891\u001b[0m  |  \u001b[32m  0.028339\u001b[0m  |     0.913636  |             |  0.2s"
       ]
      },
      {
       "output_type": "stream",
       "stream": "stdout",
       "text": [
        "\n",
        "   143  |  \u001b[94m  0.025865\u001b[0m  |  \u001b[32m  0.028326\u001b[0m  |     0.913095  |             |  0.2s"
       ]
      },
      {
       "output_type": "stream",
       "stream": "stdout",
       "text": [
        "\n",
        "   144  |  \u001b[94m  0.025837\u001b[0m  |  \u001b[32m  0.028313\u001b[0m  |     0.912557  |             |  0.2s"
       ]
      },
      {
       "output_type": "stream",
       "stream": "stdout",
       "text": [
        "\n",
        "   145  |  \u001b[94m  0.025811\u001b[0m  |  \u001b[32m  0.028301\u001b[0m  |     0.912015  |             |  0.2s"
       ]
      },
      {
       "output_type": "stream",
       "stream": "stdout",
       "text": [
        "\n",
        "   146  |  \u001b[94m  0.025784\u001b[0m  |  \u001b[32m  0.028288\u001b[0m  |     0.911474  |             |  0.2s"
       ]
      },
      {
       "output_type": "stream",
       "stream": "stdout",
       "text": [
        "\n",
        "   147  |  \u001b[94m  0.025757\u001b[0m  |  \u001b[32m  0.028275\u001b[0m  |     0.910919  |             |  0.2s"
       ]
      },
      {
       "output_type": "stream",
       "stream": "stdout",
       "text": [
        "\n",
        "   148  |  \u001b[94m  0.025730\u001b[0m  |  \u001b[32m  0.028263\u001b[0m  |     0.910372  |             |  0.2s"
       ]
      },
      {
       "output_type": "stream",
       "stream": "stdout",
       "text": [
        "\n",
        "   149  |  \u001b[94m  0.025703\u001b[0m  |  \u001b[32m  0.028251\u001b[0m  |     0.909820  |             |  0.2s"
       ]
      },
      {
       "output_type": "stream",
       "stream": "stdout",
       "text": [
        "\n",
        "   150  |  \u001b[94m  0.025676\u001b[0m  |  \u001b[32m  0.028238\u001b[0m  |     0.909267  |             |  0.2s"
       ]
      },
      {
       "output_type": "stream",
       "stream": "stdout",
       "text": [
        "\n",
        "   151  |  \u001b[94m  0.025649\u001b[0m  |  \u001b[32m  0.028226\u001b[0m  |     0.908718  |             |  0.2s"
       ]
      },
      {
       "output_type": "stream",
       "stream": "stdout",
       "text": [
        "\n",
        "   152  |  \u001b[94m  0.025623\u001b[0m  |  \u001b[32m  0.028213\u001b[0m  |     0.908168  |             |  0.2s"
       ]
      },
      {
       "output_type": "stream",
       "stream": "stdout",
       "text": [
        "\n",
        "   153  |  \u001b[94m  0.025596\u001b[0m  |  \u001b[32m  0.028201\u001b[0m  |     0.907623  |             |  0.2s"
       ]
      },
      {
       "output_type": "stream",
       "stream": "stdout",
       "text": [
        "\n",
        "   154  |  \u001b[94m  0.025569\u001b[0m  |  \u001b[32m  0.028189\u001b[0m  |     0.907080  |             |  0.2s"
       ]
      },
      {
       "output_type": "stream",
       "stream": "stdout",
       "text": [
        "\n",
        "   155  |  \u001b[94m  0.025543\u001b[0m  |  \u001b[32m  0.028176\u001b[0m  |     0.906533  |             |  0.2s"
       ]
      },
      {
       "output_type": "stream",
       "stream": "stdout",
       "text": [
        "\n",
        "   156  |  \u001b[94m  0.025517\u001b[0m  |  \u001b[32m  0.028164\u001b[0m  |     0.905985  |             |  0.2s"
       ]
      },
      {
       "output_type": "stream",
       "stream": "stdout",
       "text": [
        "\n",
        "   157  |  \u001b[94m  0.025490\u001b[0m  |  \u001b[32m  0.028152\u001b[0m  |     0.905438  |             |  0.2s"
       ]
      },
      {
       "output_type": "stream",
       "stream": "stdout",
       "text": [
        "\n",
        "   158  |  \u001b[94m  0.025464\u001b[0m  |  \u001b[32m  0.028141\u001b[0m  |     0.904880  |             |  0.2s"
       ]
      },
      {
       "output_type": "stream",
       "stream": "stdout",
       "text": [
        "\n",
        "   159  |  \u001b[94m  0.025438\u001b[0m  |  \u001b[32m  0.028129\u001b[0m  |     0.904334  |             |  0.2s"
       ]
      },
      {
       "output_type": "stream",
       "stream": "stdout",
       "text": [
        "\n",
        "   160  |  \u001b[94m  0.025411\u001b[0m  |  \u001b[32m  0.028117\u001b[0m  |     0.903779  |             |  0.2s"
       ]
      },
      {
       "output_type": "stream",
       "stream": "stdout",
       "text": [
        "\n",
        "   161  |  \u001b[94m  0.025385\u001b[0m  |  \u001b[32m  0.028105\u001b[0m  |     0.903228  |             |  0.2s"
       ]
      },
      {
       "output_type": "stream",
       "stream": "stdout",
       "text": [
        "\n",
        "   162  |  \u001b[94m  0.025359\u001b[0m  |  \u001b[32m  0.028094\u001b[0m  |     0.902673  |             |  0.2s"
       ]
      },
      {
       "output_type": "stream",
       "stream": "stdout",
       "text": [
        "\n",
        "   163  |  \u001b[94m  0.025333\u001b[0m  |  \u001b[32m  0.028082\u001b[0m  |     0.902118  |             |  0.2s"
       ]
      },
      {
       "output_type": "stream",
       "stream": "stdout",
       "text": [
        "\n",
        "   164  |  \u001b[94m  0.025308\u001b[0m  |  \u001b[32m  0.028071\u001b[0m  |     0.901563  |             |  0.2s"
       ]
      },
      {
       "output_type": "stream",
       "stream": "stdout",
       "text": [
        "\n",
        "   165  |  \u001b[94m  0.025282\u001b[0m  |  \u001b[32m  0.028059\u001b[0m  |     0.901014  |             |  0.2s"
       ]
      },
      {
       "output_type": "stream",
       "stream": "stdout",
       "text": [
        "\n",
        "   166  |  \u001b[94m  0.025256\u001b[0m  |  \u001b[32m  0.028048\u001b[0m  |     0.900461  |             |  0.2s"
       ]
      },
      {
       "output_type": "stream",
       "stream": "stdout",
       "text": [
        "\n",
        "   167  |  \u001b[94m  0.025231\u001b[0m  |  \u001b[32m  0.028037\u001b[0m  |     0.899912  |             |  0.2s"
       ]
      },
      {
       "output_type": "stream",
       "stream": "stdout",
       "text": [
        "\n",
        "   168  |  \u001b[94m  0.025205\u001b[0m  |  \u001b[32m  0.028026\u001b[0m  |     0.899359  |             |  0.2s"
       ]
      },
      {
       "output_type": "stream",
       "stream": "stdout",
       "text": [
        "\n",
        "   169  |  \u001b[94m  0.025180\u001b[0m  |  \u001b[32m  0.028015\u001b[0m  |     0.898805  |             |  0.2s"
       ]
      },
      {
       "output_type": "stream",
       "stream": "stdout",
       "text": [
        "\n",
        "   170  |  \u001b[94m  0.025154\u001b[0m  |  \u001b[32m  0.028004\u001b[0m  |     0.898251  |             |  0.2s"
       ]
      },
      {
       "output_type": "stream",
       "stream": "stdout",
       "text": [
        "\n",
        "   171  |  \u001b[94m  0.025129\u001b[0m  |  \u001b[32m  0.027993\u001b[0m  |     0.897694  |             |  0.2s"
       ]
      },
      {
       "output_type": "stream",
       "stream": "stdout",
       "text": [
        "\n",
        "   172  |  \u001b[94m  0.025104\u001b[0m  |  \u001b[32m  0.027982\u001b[0m  |     0.897140  |             |  0.2s"
       ]
      },
      {
       "output_type": "stream",
       "stream": "stdout",
       "text": [
        "\n",
        "   173  |  \u001b[94m  0.025078\u001b[0m  |  \u001b[32m  0.027971\u001b[0m  |     0.896583  |             |  0.2s"
       ]
      },
      {
       "output_type": "stream",
       "stream": "stdout",
       "text": [
        "\n",
        "   174  |  \u001b[94m  0.025053\u001b[0m  |  \u001b[32m  0.027960\u001b[0m  |     0.896033  |             |  0.2s"
       ]
      },
      {
       "output_type": "stream",
       "stream": "stdout",
       "text": [
        "\n",
        "   175  |  \u001b[94m  0.025028\u001b[0m  |  \u001b[32m  0.027949\u001b[0m  |     0.895473  |             |  0.2s"
       ]
      },
      {
       "output_type": "stream",
       "stream": "stdout",
       "text": [
        "\n",
        "   176  |  \u001b[94m  0.025003\u001b[0m  |  \u001b[32m  0.027939\u001b[0m  |     0.894916  |             |  0.2s"
       ]
      },
      {
       "output_type": "stream",
       "stream": "stdout",
       "text": [
        "\n",
        "   177  |  \u001b[94m  0.024978\u001b[0m  |  \u001b[32m  0.027928\u001b[0m  |     0.894362  |             |  0.2s"
       ]
      },
      {
       "output_type": "stream",
       "stream": "stdout",
       "text": [
        "\n",
        "   178  |  \u001b[94m  0.024953\u001b[0m  |  \u001b[32m  0.027917\u001b[0m  |     0.893804  |             |  0.2s"
       ]
      },
      {
       "output_type": "stream",
       "stream": "stdout",
       "text": [
        "\n",
        "   179  |  \u001b[94m  0.024928\u001b[0m  |  \u001b[32m  0.027907\u001b[0m  |     0.893251  |             |  0.2s"
       ]
      },
      {
       "output_type": "stream",
       "stream": "stdout",
       "text": [
        "\n",
        "   180  |  \u001b[94m  0.024903\u001b[0m  |  \u001b[32m  0.027896\u001b[0m  |     0.892695  |             |  0.2s"
       ]
      },
      {
       "output_type": "stream",
       "stream": "stdout",
       "text": [
        "\n",
        "   181  |  \u001b[94m  0.024878\u001b[0m  |  \u001b[32m  0.027886\u001b[0m  |     0.892143  |             |  0.2s"
       ]
      },
      {
       "output_type": "stream",
       "stream": "stdout",
       "text": [
        "\n",
        "   182  |  \u001b[94m  0.024853\u001b[0m  |  \u001b[32m  0.027876\u001b[0m  |     0.891582  |             |  0.2s"
       ]
      },
      {
       "output_type": "stream",
       "stream": "stdout",
       "text": [
        "\n",
        "   183  |  \u001b[94m  0.024829\u001b[0m  |  \u001b[32m  0.027865\u001b[0m  |     0.891024  |             |  0.2s"
       ]
      },
      {
       "output_type": "stream",
       "stream": "stdout",
       "text": [
        "\n",
        "   184  |  \u001b[94m  0.024804\u001b[0m  |  \u001b[32m  0.027855\u001b[0m  |     0.890470  |             |  0.2s"
       ]
      },
      {
       "output_type": "stream",
       "stream": "stdout",
       "text": [
        "\n",
        "   185  |  \u001b[94m  0.024779\u001b[0m  |  \u001b[32m  0.027845\u001b[0m  |     0.889909  |             |  0.2s"
       ]
      },
      {
       "output_type": "stream",
       "stream": "stdout",
       "text": [
        "\n",
        "   186  |  \u001b[94m  0.024755\u001b[0m  |  \u001b[32m  0.027835\u001b[0m  |     0.889357  |             |  0.2s"
       ]
      },
      {
       "output_type": "stream",
       "stream": "stdout",
       "text": [
        "\n",
        "   187  |  \u001b[94m  0.024731\u001b[0m  |  \u001b[32m  0.027825\u001b[0m  |     0.888801  |             |  0.2s"
       ]
      },
      {
       "output_type": "stream",
       "stream": "stdout",
       "text": [
        "\n",
        "   188  |  \u001b[94m  0.024706\u001b[0m  |  \u001b[32m  0.027815\u001b[0m  |     0.888249  |             |  0.2s"
       ]
      },
      {
       "output_type": "stream",
       "stream": "stdout",
       "text": [
        "\n",
        "   189  |  \u001b[94m  0.024682\u001b[0m  |  \u001b[32m  0.027805\u001b[0m  |     0.887689  |             |  0.2s"
       ]
      },
      {
       "output_type": "stream",
       "stream": "stdout",
       "text": [
        "\n",
        "   190  |  \u001b[94m  0.024658\u001b[0m  |  \u001b[32m  0.027795\u001b[0m  |     0.887140  |             |  0.2s"
       ]
      },
      {
       "output_type": "stream",
       "stream": "stdout",
       "text": [
        "\n",
        "   191  |  \u001b[94m  0.024634\u001b[0m  |  \u001b[32m  0.027785\u001b[0m  |     0.886582  |             |  0.2s"
       ]
      },
      {
       "output_type": "stream",
       "stream": "stdout",
       "text": [
        "\n",
        "   192  |  \u001b[94m  0.024610\u001b[0m  |  \u001b[32m  0.027775\u001b[0m  |     0.886034  |             |  0.2s"
       ]
      },
      {
       "output_type": "stream",
       "stream": "stdout",
       "text": [
        "\n",
        "   193  |  \u001b[94m  0.024586\u001b[0m  |  \u001b[32m  0.027765\u001b[0m  |     0.885479  |             |  0.2s"
       ]
      },
      {
       "output_type": "stream",
       "stream": "stdout",
       "text": [
        "\n",
        "   194  |  \u001b[94m  0.024562\u001b[0m  |  \u001b[32m  0.027756\u001b[0m  |     0.884927  |             |  0.2s"
       ]
      },
      {
       "output_type": "stream",
       "stream": "stdout",
       "text": [
        "\n",
        "   195  |  \u001b[94m  0.024538\u001b[0m  |  \u001b[32m  0.027746\u001b[0m  |     0.884373  |             |  0.2s"
       ]
      },
      {
       "output_type": "stream",
       "stream": "stdout",
       "text": [
        "\n",
        "   196  |  \u001b[94m  0.024514\u001b[0m  |  \u001b[32m  0.027737\u001b[0m  |     0.883819  |             |  0.2s"
       ]
      },
      {
       "output_type": "stream",
       "stream": "stdout",
       "text": [
        "\n",
        "   197  |  \u001b[94m  0.024490\u001b[0m  |  \u001b[32m  0.027727\u001b[0m  |     0.883270  |             |  0.2s"
       ]
      },
      {
       "output_type": "stream",
       "stream": "stdout",
       "text": [
        "\n",
        "   198  |  \u001b[94m  0.024467\u001b[0m  |  \u001b[32m  0.027718\u001b[0m  |     0.882716  |             |  0.2s"
       ]
      },
      {
       "output_type": "stream",
       "stream": "stdout",
       "text": [
        "\n",
        "   199  |  \u001b[94m  0.024443\u001b[0m  |  \u001b[32m  0.027708\u001b[0m  |     0.882164  |             |  0.2s"
       ]
      },
      {
       "output_type": "stream",
       "stream": "stdout",
       "text": [
        "\n",
        "   200  |  \u001b[94m  0.024420\u001b[0m  |  \u001b[32m  0.027699\u001b[0m  |     0.881609  |             |  0.2s"
       ]
      },
      {
       "output_type": "stream",
       "stream": "stdout",
       "text": [
        "\n",
        "   201  |  \u001b[94m  0.024396\u001b[0m  |  \u001b[32m  0.027690\u001b[0m  |     0.881060  |             |  0.2s"
       ]
      },
      {
       "output_type": "stream",
       "stream": "stdout",
       "text": [
        "\n",
        "   202  |  \u001b[94m  0.024373\u001b[0m  |  \u001b[32m  0.027680\u001b[0m  |     0.880509  |             |  0.2s"
       ]
      },
      {
       "output_type": "stream",
       "stream": "stdout",
       "text": [
        "\n",
        "   203  |  \u001b[94m  0.024349\u001b[0m  |  \u001b[32m  0.027671\u001b[0m  |     0.879954  |             |  0.2s"
       ]
      },
      {
       "output_type": "stream",
       "stream": "stdout",
       "text": [
        "\n",
        "   204  |  \u001b[94m  0.024326\u001b[0m  |  \u001b[32m  0.027662\u001b[0m  |     0.879404  |             |  0.2s"
       ]
      },
      {
       "output_type": "stream",
       "stream": "stdout",
       "text": [
        "\n",
        "   205  |  \u001b[94m  0.024303\u001b[0m  |  \u001b[32m  0.027653\u001b[0m  |     0.878848  |             |  0.2s"
       ]
      },
      {
       "output_type": "stream",
       "stream": "stdout",
       "text": [
        "\n",
        "   206  |  \u001b[94m  0.024280\u001b[0m  |  \u001b[32m  0.027644\u001b[0m  |     0.878299  |             |  0.2s"
       ]
      },
      {
       "output_type": "stream",
       "stream": "stdout",
       "text": [
        "\n",
        "   207  |  \u001b[94m  0.024257\u001b[0m  |  \u001b[32m  0.027635\u001b[0m  |     0.877752  |             |  0.2s"
       ]
      },
      {
       "output_type": "stream",
       "stream": "stdout",
       "text": [
        "\n",
        "   208  |  \u001b[94m  0.024233\u001b[0m  |  \u001b[32m  0.027626\u001b[0m  |     0.877199  |             |  0.2s"
       ]
      },
      {
       "output_type": "stream",
       "stream": "stdout",
       "text": [
        "\n",
        "   209  |  \u001b[94m  0.024210\u001b[0m  |  \u001b[32m  0.027617\u001b[0m  |     0.876657  |             |  0.2s"
       ]
      },
      {
       "output_type": "stream",
       "stream": "stdout",
       "text": [
        "\n",
        "   210  |  \u001b[94m  0.024187\u001b[0m  |  \u001b[32m  0.027608\u001b[0m  |     0.876114  |             |  0.2s"
       ]
      },
      {
       "output_type": "stream",
       "stream": "stdout",
       "text": [
        "\n",
        "   211  |  \u001b[94m  0.024164\u001b[0m  |  \u001b[32m  0.027599\u001b[0m  |     0.875561  |             |  0.2s"
       ]
      },
      {
       "output_type": "stream",
       "stream": "stdout",
       "text": [
        "\n",
        "   212  |  \u001b[94m  0.024142\u001b[0m  |  \u001b[32m  0.027590\u001b[0m  |     0.875013  |             |  0.2s"
       ]
      },
      {
       "output_type": "stream",
       "stream": "stdout",
       "text": [
        "\n",
        "   213  |  \u001b[94m  0.024119\u001b[0m  |  \u001b[32m  0.027581\u001b[0m  |     0.874464  |             |  0.2s"
       ]
      },
      {
       "output_type": "stream",
       "stream": "stdout",
       "text": [
        "\n",
        "   214  |  \u001b[94m  0.024096\u001b[0m  |  \u001b[32m  0.027572\u001b[0m  |     0.873913  |             |  0.2s"
       ]
      },
      {
       "output_type": "stream",
       "stream": "stdout",
       "text": [
        "\n",
        "   215  |  \u001b[94m  0.024073\u001b[0m  |  \u001b[32m  0.027564\u001b[0m  |     0.873369  |             |  0.2s"
       ]
      },
      {
       "output_type": "stream",
       "stream": "stdout",
       "text": [
        "\n",
        "   216  |  \u001b[94m  0.024051\u001b[0m  |  \u001b[32m  0.027555\u001b[0m  |     0.872825  |             |  0.2s"
       ]
      },
      {
       "output_type": "stream",
       "stream": "stdout",
       "text": [
        "\n",
        "   217  |  \u001b[94m  0.024028\u001b[0m  |  \u001b[32m  0.027546\u001b[0m  |     0.872279  |             |  0.2s"
       ]
      },
      {
       "output_type": "stream",
       "stream": "stdout",
       "text": [
        "\n",
        "   218  |  \u001b[94m  0.024006\u001b[0m  |  \u001b[32m  0.027538\u001b[0m  |     0.871736  |             |  0.2s"
       ]
      },
      {
       "output_type": "stream",
       "stream": "stdout",
       "text": [
        "\n",
        "   219  |  \u001b[94m  0.023983\u001b[0m  |  \u001b[32m  0.027529\u001b[0m  |     0.871186  |             |  0.2s"
       ]
      },
      {
       "output_type": "stream",
       "stream": "stdout",
       "text": [
        "\n",
        "   220  |  \u001b[94m  0.023961\u001b[0m  |  \u001b[32m  0.027521\u001b[0m  |     0.870641  |             |  0.2s"
       ]
      },
      {
       "output_type": "stream",
       "stream": "stdout",
       "text": [
        "\n",
        "   221  |  \u001b[94m  0.023938\u001b[0m  |  \u001b[32m  0.027512\u001b[0m  |     0.870095  |             |  0.2s"
       ]
      },
      {
       "output_type": "stream",
       "stream": "stdout",
       "text": [
        "\n",
        "   222  |  \u001b[94m  0.023916\u001b[0m  |  \u001b[32m  0.027504\u001b[0m  |     0.869548  |             |  0.2s"
       ]
      },
      {
       "output_type": "stream",
       "stream": "stdout",
       "text": [
        "\n",
        "   223  |  \u001b[94m  0.023893\u001b[0m  |  \u001b[32m  0.027495\u001b[0m  |     0.869002  |             |  0.2s"
       ]
      },
      {
       "output_type": "stream",
       "stream": "stdout",
       "text": [
        "\n",
        "   224  |  \u001b[94m  0.023871\u001b[0m  |  \u001b[32m  0.027487\u001b[0m  |     0.868465  |             |  0.2s"
       ]
      },
      {
       "output_type": "stream",
       "stream": "stdout",
       "text": [
        "\n",
        "   225  |  \u001b[94m  0.023849\u001b[0m  |  \u001b[32m  0.027478\u001b[0m  |     0.867918  |             |  0.2s"
       ]
      },
      {
       "output_type": "stream",
       "stream": "stdout",
       "text": [
        "\n",
        "   226  |  \u001b[94m  0.023827\u001b[0m  |  \u001b[32m  0.027470\u001b[0m  |     0.867379  |             |  0.2s"
       ]
      },
      {
       "output_type": "stream",
       "stream": "stdout",
       "text": [
        "\n",
        "   227  |  \u001b[94m  0.023804\u001b[0m  |  \u001b[32m  0.027461\u001b[0m  |     0.866841  |             |  0.2s"
       ]
      },
      {
       "output_type": "stream",
       "stream": "stdout",
       "text": [
        "\n",
        "   228  |  \u001b[94m  0.023782\u001b[0m  |  \u001b[32m  0.027453\u001b[0m  |     0.866297  |             |  0.2s"
       ]
      },
      {
       "output_type": "stream",
       "stream": "stdout",
       "text": [
        "\n",
        "   229  |  \u001b[94m  0.023760\u001b[0m  |  \u001b[32m  0.027444\u001b[0m  |     0.865756  |             |  0.2s"
       ]
      },
      {
       "output_type": "stream",
       "stream": "stdout",
       "text": [
        "\n",
        "   230  |  \u001b[94m  0.023738\u001b[0m  |  \u001b[32m  0.027436\u001b[0m  |     0.865212  |             |  0.2s"
       ]
      },
      {
       "output_type": "stream",
       "stream": "stdout",
       "text": [
        "\n",
        "   231  |  \u001b[94m  0.023716\u001b[0m  |  \u001b[32m  0.027428\u001b[0m  |     0.864674  |             |  0.2s"
       ]
      },
      {
       "output_type": "stream",
       "stream": "stdout",
       "text": [
        "\n",
        "   232  |  \u001b[94m  0.023694\u001b[0m  |  \u001b[32m  0.027420\u001b[0m  |     0.864135  |             |  0.2s"
       ]
      },
      {
       "output_type": "stream",
       "stream": "stdout",
       "text": [
        "\n",
        "   233  |  \u001b[94m  0.023673\u001b[0m  |  \u001b[32m  0.027411\u001b[0m  |     0.863601  |             |  0.2s"
       ]
      },
      {
       "output_type": "stream",
       "stream": "stdout",
       "text": [
        "\n",
        "   234  |  \u001b[94m  0.023651\u001b[0m  |  \u001b[32m  0.027403\u001b[0m  |     0.863068  |             |  0.2s"
       ]
      },
      {
       "output_type": "stream",
       "stream": "stdout",
       "text": [
        "\n",
        "   235  |  \u001b[94m  0.023629\u001b[0m  |  \u001b[32m  0.027395\u001b[0m  |     0.862533  |             |  0.2s"
       ]
      },
      {
       "output_type": "stream",
       "stream": "stdout",
       "text": [
        "\n",
        "   236  |  \u001b[94m  0.023607\u001b[0m  |  \u001b[32m  0.027387\u001b[0m  |     0.861996  |             |  0.2s"
       ]
      },
      {
       "output_type": "stream",
       "stream": "stdout",
       "text": [
        "\n",
        "   237  |  \u001b[94m  0.023586\u001b[0m  |  \u001b[32m  0.027379\u001b[0m  |     0.861463  |             |  0.2s"
       ]
      },
      {
       "output_type": "stream",
       "stream": "stdout",
       "text": [
        "\n",
        "   238  |  \u001b[94m  0.023564\u001b[0m  |  \u001b[32m  0.027370\u001b[0m  |     0.860929  |             |  0.2s"
       ]
      },
      {
       "output_type": "stream",
       "stream": "stdout",
       "text": [
        "\n",
        "   239  |  \u001b[94m  0.023542\u001b[0m  |  \u001b[32m  0.027362\u001b[0m  |     0.860400  |             |  0.2s"
       ]
      },
      {
       "output_type": "stream",
       "stream": "stdout",
       "text": [
        "\n",
        "   240  |  \u001b[94m  0.023521\u001b[0m  |  \u001b[32m  0.027354\u001b[0m  |     0.859871  |             |  0.2s"
       ]
      },
      {
       "output_type": "stream",
       "stream": "stdout",
       "text": [
        "\n",
        "   241  |  \u001b[94m  0.023499\u001b[0m  |  \u001b[32m  0.027346\u001b[0m  |     0.859336  |             |  0.2s"
       ]
      },
      {
       "output_type": "stream",
       "stream": "stdout",
       "text": [
        "\n",
        "   242  |  \u001b[94m  0.023478\u001b[0m  |  \u001b[32m  0.027338\u001b[0m  |     0.858815  |             |  0.2s"
       ]
      },
      {
       "output_type": "stream",
       "stream": "stdout",
       "text": [
        "\n",
        "   243  |  \u001b[94m  0.023457\u001b[0m  |  \u001b[32m  0.027330\u001b[0m  |     0.858284  |             |  0.2s"
       ]
      },
      {
       "output_type": "stream",
       "stream": "stdout",
       "text": [
        "\n",
        "   244  |  \u001b[94m  0.023435\u001b[0m  |  \u001b[32m  0.027321\u001b[0m  |     0.857763  |             |  0.2s"
       ]
      },
      {
       "output_type": "stream",
       "stream": "stdout",
       "text": [
        "\n",
        "   245  |  \u001b[94m  0.023414\u001b[0m  |  \u001b[32m  0.027313\u001b[0m  |     0.857234  |             |  0.2s"
       ]
      },
      {
       "output_type": "stream",
       "stream": "stdout",
       "text": [
        "\n",
        "   246  |  \u001b[94m  0.023393\u001b[0m  |  \u001b[32m  0.027305\u001b[0m  |     0.856705  |             |  0.2s"
       ]
      },
      {
       "output_type": "stream",
       "stream": "stdout",
       "text": [
        "\n",
        "   247  |  \u001b[94m  0.023372\u001b[0m  |  \u001b[32m  0.027297\u001b[0m  |     0.856182  |             |  0.2s"
       ]
      },
      {
       "output_type": "stream",
       "stream": "stdout",
       "text": [
        "\n",
        "   248  |  \u001b[94m  0.023350\u001b[0m  |  \u001b[32m  0.027289\u001b[0m  |     0.855658  |             |  0.2s"
       ]
      },
      {
       "output_type": "stream",
       "stream": "stdout",
       "text": [
        "\n",
        "   249  |  \u001b[94m  0.023329\u001b[0m  |  \u001b[32m  0.027282\u001b[0m  |     0.855127  |             |  0.2s"
       ]
      },
      {
       "output_type": "stream",
       "stream": "stdout",
       "text": [
        "\n",
        "   250  |  \u001b[94m  0.023308\u001b[0m  |  \u001b[32m  0.027274\u001b[0m  |     0.854603  |             |  0.2s"
       ]
      },
      {
       "output_type": "stream",
       "stream": "stdout",
       "text": [
        "\n",
        "   251  |  \u001b[94m  0.023287\u001b[0m  |  \u001b[32m  0.027266\u001b[0m  |     0.854074  |             |  0.2s"
       ]
      },
      {
       "output_type": "stream",
       "stream": "stdout",
       "text": [
        "\n",
        "   252  |  \u001b[94m  0.023266\u001b[0m  |  \u001b[32m  0.027258\u001b[0m  |     0.853550  |             |  0.2s"
       ]
      },
      {
       "output_type": "stream",
       "stream": "stdout",
       "text": [
        "\n",
        "   253  |  \u001b[94m  0.023246\u001b[0m  |  \u001b[32m  0.027251\u001b[0m  |     0.853027  |             |  0.2s"
       ]
      },
      {
       "output_type": "stream",
       "stream": "stdout",
       "text": [
        "\n",
        "   254  |  \u001b[94m  0.023225\u001b[0m  |  \u001b[32m  0.027243\u001b[0m  |     0.852499  |             |  0.2s"
       ]
      },
      {
       "output_type": "stream",
       "stream": "stdout",
       "text": [
        "\n",
        "   255  |  \u001b[94m  0.023204\u001b[0m  |  \u001b[32m  0.027235\u001b[0m  |     0.851976  |             |  0.2s"
       ]
      },
      {
       "output_type": "stream",
       "stream": "stdout",
       "text": [
        "\n",
        "   256  |  \u001b[94m  0.023183\u001b[0m  |  \u001b[32m  0.027228\u001b[0m  |     0.851443  |             |  0.2s"
       ]
      },
      {
       "output_type": "stream",
       "stream": "stdout",
       "text": [
        "\n",
        "   257  |  \u001b[94m  0.023162\u001b[0m  |  \u001b[32m  0.027220\u001b[0m  |     0.850918  |             |  0.2s"
       ]
      },
      {
       "output_type": "stream",
       "stream": "stdout",
       "text": [
        "\n",
        "   258  |  \u001b[94m  0.023142\u001b[0m  |  \u001b[32m  0.027213\u001b[0m  |     0.850395  |             |  0.2s"
       ]
      },
      {
       "output_type": "stream",
       "stream": "stdout",
       "text": [
        "\n",
        "   259  |  \u001b[94m  0.023121\u001b[0m  |  \u001b[32m  0.027205\u001b[0m  |     0.849869  |             |  0.2s"
       ]
      },
      {
       "output_type": "stream",
       "stream": "stdout",
       "text": [
        "\n",
        "   260  |  \u001b[94m  0.023100\u001b[0m  |  \u001b[32m  0.027198\u001b[0m  |     0.849345  |             |  0.2s"
       ]
      },
      {
       "output_type": "stream",
       "stream": "stdout",
       "text": [
        "\n",
        "   261  |  \u001b[94m  0.023080\u001b[0m  |  \u001b[32m  0.027190\u001b[0m  |     0.848813  |             |  0.2s"
       ]
      },
      {
       "output_type": "stream",
       "stream": "stdout",
       "text": [
        "\n",
        "   262  |  \u001b[94m  0.023059\u001b[0m  |  \u001b[32m  0.027183\u001b[0m  |     0.848294  |             |  0.2s"
       ]
      },
      {
       "output_type": "stream",
       "stream": "stdout",
       "text": [
        "\n",
        "   263  |  \u001b[94m  0.023038\u001b[0m  |  \u001b[32m  0.027175\u001b[0m  |     0.847765  |             |  0.2s"
       ]
      },
      {
       "output_type": "stream",
       "stream": "stdout",
       "text": [
        "\n",
        "   264  |  \u001b[94m  0.023018\u001b[0m  |  \u001b[32m  0.027168\u001b[0m  |     0.847234  |             |  0.2s"
       ]
      },
      {
       "output_type": "stream",
       "stream": "stdout",
       "text": [
        "\n",
        "   265  |  \u001b[94m  0.022997\u001b[0m  |  \u001b[32m  0.027161\u001b[0m  |     0.846711  |             |  0.2s"
       ]
      },
      {
       "output_type": "stream",
       "stream": "stdout",
       "text": [
        "\n",
        "   266  |  \u001b[94m  0.022977\u001b[0m  |  \u001b[32m  0.027153\u001b[0m  |     0.846184  |             |  0.2s"
       ]
      },
      {
       "output_type": "stream",
       "stream": "stdout",
       "text": [
        "\n",
        "   267  |  \u001b[94m  0.022956\u001b[0m  |  \u001b[32m  0.027146\u001b[0m  |     0.845656  |             |  0.2s"
       ]
      },
      {
       "output_type": "stream",
       "stream": "stdout",
       "text": [
        "\n",
        "   268  |  \u001b[94m  0.022936\u001b[0m  |  \u001b[32m  0.027139\u001b[0m  |     0.845136  |             |  0.2s"
       ]
      },
      {
       "output_type": "stream",
       "stream": "stdout",
       "text": [
        "\n",
        "   269  |  \u001b[94m  0.022915\u001b[0m  |  \u001b[32m  0.027131\u001b[0m  |     0.844608  |             |  0.2s"
       ]
      },
      {
       "output_type": "stream",
       "stream": "stdout",
       "text": [
        "\n",
        "   270  |  \u001b[94m  0.022895\u001b[0m  |  \u001b[32m  0.027124\u001b[0m  |     0.844080  |             |  0.2s"
       ]
      },
      {
       "output_type": "stream",
       "stream": "stdout",
       "text": [
        "\n",
        "   271  |  \u001b[94m  0.022875\u001b[0m  |  \u001b[32m  0.027117\u001b[0m  |     0.843562  |             |  0.2s"
       ]
      },
      {
       "output_type": "stream",
       "stream": "stdout",
       "text": [
        "\n",
        "   272  |  \u001b[94m  0.022854\u001b[0m  |  \u001b[32m  0.027110\u001b[0m  |     0.843034  |             |  0.2s"
       ]
      },
      {
       "output_type": "stream",
       "stream": "stdout",
       "text": [
        "\n",
        "   273  |  \u001b[94m  0.022834\u001b[0m  |  \u001b[32m  0.027102\u001b[0m  |     0.842506  |             |  0.2s"
       ]
      },
      {
       "output_type": "stream",
       "stream": "stdout",
       "text": [
        "\n",
        "   274  |  \u001b[94m  0.022814\u001b[0m  |  \u001b[32m  0.027095\u001b[0m  |     0.841977  |             |  0.2s"
       ]
      },
      {
       "output_type": "stream",
       "stream": "stdout",
       "text": [
        "\n",
        "   275  |  \u001b[94m  0.022793\u001b[0m  |  \u001b[32m  0.027088\u001b[0m  |     0.841450  |             |  0.2s"
       ]
      },
      {
       "output_type": "stream",
       "stream": "stdout",
       "text": [
        "\n",
        "   276  |  \u001b[94m  0.022773\u001b[0m  |  \u001b[32m  0.027081\u001b[0m  |     0.840920  |             |  0.2s"
       ]
      },
      {
       "output_type": "stream",
       "stream": "stdout",
       "text": [
        "\n",
        "   277  |  \u001b[94m  0.022753\u001b[0m  |  \u001b[32m  0.027074\u001b[0m  |     0.840388  |             |  0.2s"
       ]
      },
      {
       "output_type": "stream",
       "stream": "stdout",
       "text": [
        "\n",
        "   278  |  \u001b[94m  0.022733\u001b[0m  |  \u001b[32m  0.027067\u001b[0m  |     0.839868  |             |  0.2s"
       ]
      },
      {
       "output_type": "stream",
       "stream": "stdout",
       "text": [
        "\n",
        "   279  |  \u001b[94m  0.022713\u001b[0m  |  \u001b[32m  0.027060\u001b[0m  |     0.839335  |             |  0.2s"
       ]
      },
      {
       "output_type": "stream",
       "stream": "stdout",
       "text": [
        "\n",
        "   280  |  \u001b[94m  0.022693\u001b[0m  |  \u001b[32m  0.027054\u001b[0m  |     0.838801  |             |  0.2s"
       ]
      },
      {
       "output_type": "stream",
       "stream": "stdout",
       "text": [
        "\n",
        "   281  |  \u001b[94m  0.022673\u001b[0m  |  \u001b[32m  0.027047\u001b[0m  |     0.838274  |             |  0.2s"
       ]
      },
      {
       "output_type": "stream",
       "stream": "stdout",
       "text": [
        "\n",
        "   282  |  \u001b[94m  0.022652\u001b[0m  |  \u001b[32m  0.027040\u001b[0m  |     0.837744  |             |  0.2s"
       ]
      },
      {
       "output_type": "stream",
       "stream": "stdout",
       "text": [
        "\n",
        "   283  |  \u001b[94m  0.022632\u001b[0m  |  \u001b[32m  0.027033\u001b[0m  |     0.837210  |             |  0.2s"
       ]
      },
      {
       "output_type": "stream",
       "stream": "stdout",
       "text": [
        "\n",
        "   284  |  \u001b[94m  0.022612\u001b[0m  |  \u001b[32m  0.027026\u001b[0m  |     0.836674  |             |  0.2s"
       ]
      },
      {
       "output_type": "stream",
       "stream": "stdout",
       "text": [
        "\n",
        "   285  |  \u001b[94m  0.022592\u001b[0m  |  \u001b[32m  0.027020\u001b[0m  |     0.836142  |             |  0.2s"
       ]
      },
      {
       "output_type": "stream",
       "stream": "stdout",
       "text": [
        "\n",
        "   286  |  \u001b[94m  0.022572\u001b[0m  |  \u001b[32m  0.027013\u001b[0m  |     0.835618  |             |  0.2s"
       ]
      },
      {
       "output_type": "stream",
       "stream": "stdout",
       "text": [
        "\n",
        "   287  |  \u001b[94m  0.022552\u001b[0m  |  \u001b[32m  0.027006\u001b[0m  |     0.835081  |             |  0.2s"
       ]
      },
      {
       "output_type": "stream",
       "stream": "stdout",
       "text": [
        "\n",
        "   288  |  \u001b[94m  0.022532\u001b[0m  |  \u001b[32m  0.026999\u001b[0m  |     0.834544  |             |  0.2s"
       ]
      },
      {
       "output_type": "stream",
       "stream": "stdout",
       "text": [
        "\n",
        "   289  |  \u001b[94m  0.022512\u001b[0m  |  \u001b[32m  0.026993\u001b[0m  |     0.834010  |             |  0.2s"
       ]
      },
      {
       "output_type": "stream",
       "stream": "stdout",
       "text": [
        "\n",
        "   290  |  \u001b[94m  0.022492\u001b[0m  |  \u001b[32m  0.026986\u001b[0m  |     0.833469  |             |  0.2s"
       ]
      },
      {
       "output_type": "stream",
       "stream": "stdout",
       "text": [
        "\n",
        "   291  |  \u001b[94m  0.022472\u001b[0m  |  \u001b[32m  0.026979\u001b[0m  |     0.832936  |             |  0.2s"
       ]
      },
      {
       "output_type": "stream",
       "stream": "stdout",
       "text": [
        "\n",
        "   292  |  \u001b[94m  0.022452\u001b[0m  |  \u001b[32m  0.026973\u001b[0m  |     0.832397  |             |  0.2s"
       ]
      },
      {
       "output_type": "stream",
       "stream": "stdout",
       "text": [
        "\n",
        "   293  |  \u001b[94m  0.022432\u001b[0m  |  \u001b[32m  0.026966\u001b[0m  |     0.831863  |             |  0.2s"
       ]
      },
      {
       "output_type": "stream",
       "stream": "stdout",
       "text": [
        "\n",
        "   294  |  \u001b[94m  0.022412\u001b[0m  |  \u001b[32m  0.026960\u001b[0m  |     0.831318  |             |  0.2s"
       ]
      },
      {
       "output_type": "stream",
       "stream": "stdout",
       "text": [
        "\n",
        "   295  |  \u001b[94m  0.022393\u001b[0m  |  \u001b[32m  0.026953\u001b[0m  |     0.830789  |             |  0.2s"
       ]
      },
      {
       "output_type": "stream",
       "stream": "stdout",
       "text": [
        "\n",
        "   296  |  \u001b[94m  0.022373\u001b[0m  |  \u001b[32m  0.026947\u001b[0m  |     0.830253  |             |  0.2s"
       ]
      },
      {
       "output_type": "stream",
       "stream": "stdout",
       "text": [
        "\n",
        "   297  |  \u001b[94m  0.022353\u001b[0m  |  \u001b[32m  0.026940\u001b[0m  |     0.829713  |             |  0.2s"
       ]
      },
      {
       "output_type": "stream",
       "stream": "stdout",
       "text": [
        "\n",
        "   298  |  \u001b[94m  0.022333\u001b[0m  |  \u001b[32m  0.026934\u001b[0m  |     0.829178  |             |  0.2s"
       ]
      },
      {
       "output_type": "stream",
       "stream": "stdout",
       "text": [
        "\n",
        "   299  |  \u001b[94m  0.022313\u001b[0m  |  \u001b[32m  0.026927\u001b[0m  |     0.828643  |             |  0.2s"
       ]
      },
      {
       "output_type": "stream",
       "stream": "stdout",
       "text": [
        "\n",
        "   300  |  \u001b[94m  0.022293\u001b[0m  |  \u001b[32m  0.026921\u001b[0m  |     0.828102  |             |  0.2s"
       ]
      },
      {
       "output_type": "stream",
       "stream": "stdout",
       "text": [
        "\n",
        "   301  |  \u001b[94m  0.022274\u001b[0m  |  \u001b[32m  0.026915\u001b[0m  |     0.827568  |             |  0.2s"
       ]
      },
      {
       "output_type": "stream",
       "stream": "stdout",
       "text": [
        "\n",
        "   302  |  \u001b[94m  0.022254\u001b[0m  |  \u001b[32m  0.026909\u001b[0m  |     0.827026  |             |  0.2s"
       ]
      },
      {
       "output_type": "stream",
       "stream": "stdout",
       "text": [
        "\n",
        "   303  |  \u001b[94m  0.022234\u001b[0m  |  \u001b[32m  0.026902\u001b[0m  |     0.826486  |             |  0.2s"
       ]
      },
      {
       "output_type": "stream",
       "stream": "stdout",
       "text": [
        "\n",
        "   304  |  \u001b[94m  0.022215\u001b[0m  |  \u001b[32m  0.026896\u001b[0m  |     0.825943  |             |  0.2s"
       ]
      },
      {
       "output_type": "stream",
       "stream": "stdout",
       "text": [
        "\n",
        "   305  |  \u001b[94m  0.022195\u001b[0m  |  \u001b[32m  0.026890\u001b[0m  |     0.825405  |             |  0.2s"
       ]
      },
      {
       "output_type": "stream",
       "stream": "stdout",
       "text": [
        "\n",
        "   306  |  \u001b[94m  0.022175\u001b[0m  |  \u001b[32m  0.026884\u001b[0m  |     0.824860  |             |  0.2s"
       ]
      },
      {
       "output_type": "stream",
       "stream": "stdout",
       "text": [
        "\n",
        "   307  |  \u001b[94m  0.022156\u001b[0m  |  \u001b[32m  0.026878\u001b[0m  |     0.824319  |             |  0.2s"
       ]
      },
      {
       "output_type": "stream",
       "stream": "stdout",
       "text": [
        "\n",
        "   308  |  \u001b[94m  0.022136\u001b[0m  |  \u001b[32m  0.026872\u001b[0m  |     0.823775  |             |  0.2s"
       ]
      },
      {
       "output_type": "stream",
       "stream": "stdout",
       "text": [
        "\n",
        "   309  |  \u001b[94m  0.022117\u001b[0m  |  \u001b[32m  0.026865\u001b[0m  |     0.823235  |             |  0.2s"
       ]
      },
      {
       "output_type": "stream",
       "stream": "stdout",
       "text": [
        "\n",
        "   310  |  \u001b[94m  0.022097\u001b[0m  |  \u001b[32m  0.026859\u001b[0m  |     0.822697  |             |  0.2s"
       ]
      },
      {
       "output_type": "stream",
       "stream": "stdout",
       "text": [
        "\n",
        "   311  |  \u001b[94m  0.022077\u001b[0m  |  \u001b[32m  0.026853\u001b[0m  |     0.822148  |             |  0.2s"
       ]
      },
      {
       "output_type": "stream",
       "stream": "stdout",
       "text": [
        "\n",
        "   312  |  \u001b[94m  0.022058\u001b[0m  |  \u001b[32m  0.026847\u001b[0m  |     0.821607  |             |  0.2s"
       ]
      },
      {
       "output_type": "stream",
       "stream": "stdout",
       "text": [
        "\n",
        "   313  |  \u001b[94m  0.022038\u001b[0m  |  \u001b[32m  0.026841\u001b[0m  |     0.821068  |             |  0.2s"
       ]
      },
      {
       "output_type": "stream",
       "stream": "stdout",
       "text": [
        "\n",
        "   314  |  \u001b[94m  0.022019\u001b[0m  |  \u001b[32m  0.026835\u001b[0m  |     0.820525  |             |  0.2s"
       ]
      },
      {
       "output_type": "stream",
       "stream": "stdout",
       "text": [
        "\n",
        "   315  |  \u001b[94m  0.021999\u001b[0m  |  \u001b[32m  0.026829\u001b[0m  |     0.819985  |             |  0.2s"
       ]
      },
      {
       "output_type": "stream",
       "stream": "stdout",
       "text": [
        "\n",
        "   316  |  \u001b[94m  0.021980\u001b[0m  |  \u001b[32m  0.026823\u001b[0m  |     0.819443  |             |  0.2s"
       ]
      },
      {
       "output_type": "stream",
       "stream": "stdout",
       "text": [
        "\n",
        "   317  |  \u001b[94m  0.021961\u001b[0m  |  \u001b[32m  0.026817\u001b[0m  |     0.818904  |             |  0.2s"
       ]
      },
      {
       "output_type": "stream",
       "stream": "stdout",
       "text": [
        "\n",
        "   318  |  \u001b[94m  0.021941\u001b[0m  |  \u001b[32m  0.026811\u001b[0m  |     0.818358  |             |  0.2s"
       ]
      },
      {
       "output_type": "stream",
       "stream": "stdout",
       "text": [
        "\n",
        "   319  |  \u001b[94m  0.021922\u001b[0m  |  \u001b[32m  0.026806\u001b[0m  |     0.817806  |             |  0.2s"
       ]
      },
      {
       "output_type": "stream",
       "stream": "stdout",
       "text": [
        "\n",
        "   320  |  \u001b[94m  0.021903\u001b[0m  |  \u001b[32m  0.026800\u001b[0m  |     0.817268  |             |  0.2s"
       ]
      },
      {
       "output_type": "stream",
       "stream": "stdout",
       "text": [
        "\n",
        "   321  |  \u001b[94m  0.021883\u001b[0m  |  \u001b[32m  0.026794\u001b[0m  |     0.816728  |             |  0.2s"
       ]
      },
      {
       "output_type": "stream",
       "stream": "stdout",
       "text": [
        "\n",
        "   322  |  \u001b[94m  0.021864\u001b[0m  |  \u001b[32m  0.026788\u001b[0m  |     0.816185  |             |  0.2s"
       ]
      },
      {
       "output_type": "stream",
       "stream": "stdout",
       "text": [
        "\n",
        "   323  |  \u001b[94m  0.021845\u001b[0m  |  \u001b[32m  0.026782\u001b[0m  |     0.815641  |             |  0.2s"
       ]
      },
      {
       "output_type": "stream",
       "stream": "stdout",
       "text": [
        "\n",
        "   324  |  \u001b[94m  0.021826\u001b[0m  |  \u001b[32m  0.026777\u001b[0m  |     0.815098  |             |  0.2s"
       ]
      },
      {
       "output_type": "stream",
       "stream": "stdout",
       "text": [
        "\n",
        "   325  |  \u001b[94m  0.021806\u001b[0m  |  \u001b[32m  0.026771\u001b[0m  |     0.814562  |             |  0.2s"
       ]
      },
      {
       "output_type": "stream",
       "stream": "stdout",
       "text": [
        "\n",
        "   326  |  \u001b[94m  0.021787\u001b[0m  |  \u001b[32m  0.026765\u001b[0m  |     0.814021  |             |  0.2s"
       ]
      },
      {
       "output_type": "stream",
       "stream": "stdout",
       "text": [
        "\n",
        "   327  |  \u001b[94m  0.021768\u001b[0m  |  \u001b[32m  0.026759\u001b[0m  |     0.813488  |             |  0.2s"
       ]
      },
      {
       "output_type": "stream",
       "stream": "stdout",
       "text": [
        "\n",
        "   328  |  \u001b[94m  0.021749\u001b[0m  |  \u001b[32m  0.026753\u001b[0m  |     0.812946  |             |  0.2s"
       ]
      },
      {
       "output_type": "stream",
       "stream": "stdout",
       "text": [
        "\n",
        "   329  |  \u001b[94m  0.021730\u001b[0m  |  \u001b[32m  0.026747\u001b[0m  |     0.812412  |             |  0.2s"
       ]
      },
      {
       "output_type": "stream",
       "stream": "stdout",
       "text": [
        "\n",
        "   330  |  \u001b[94m  0.021711\u001b[0m  |  \u001b[32m  0.026742\u001b[0m  |     0.811862  |             |  0.2s"
       ]
      },
      {
       "output_type": "stream",
       "stream": "stdout",
       "text": [
        "\n",
        "   331  |  \u001b[94m  0.021692\u001b[0m  |  \u001b[32m  0.026736\u001b[0m  |     0.811320  |             |  0.2s"
       ]
      },
      {
       "output_type": "stream",
       "stream": "stdout",
       "text": [
        "\n",
        "   332  |  \u001b[94m  0.021673\u001b[0m  |  \u001b[32m  0.026731\u001b[0m  |     0.810776  |             |  0.2s"
       ]
      },
      {
       "output_type": "stream",
       "stream": "stdout",
       "text": [
        "\n",
        "   333  |  \u001b[94m  0.021654\u001b[0m  |  \u001b[32m  0.026725\u001b[0m  |     0.810240  |             |  0.2s"
       ]
      },
      {
       "output_type": "stream",
       "stream": "stdout",
       "text": [
        "\n",
        "   334  |  \u001b[94m  0.021635\u001b[0m  |  \u001b[32m  0.026719\u001b[0m  |     0.809699  |             |  0.2s"
       ]
      },
      {
       "output_type": "stream",
       "stream": "stdout",
       "text": [
        "\n",
        "   335  |  \u001b[94m  0.021616\u001b[0m  |  \u001b[32m  0.026714\u001b[0m  |     0.809154  |             |  0.2s"
       ]
      },
      {
       "output_type": "stream",
       "stream": "stdout",
       "text": [
        "\n",
        "   336  |  \u001b[94m  0.021597\u001b[0m  |  \u001b[32m  0.026708\u001b[0m  |     0.808609  |             |  0.2s"
       ]
      },
      {
       "output_type": "stream",
       "stream": "stdout",
       "text": [
        "\n",
        "   337  |  \u001b[94m  0.021578\u001b[0m  |  \u001b[32m  0.026703\u001b[0m  |     0.808067  |             |  0.2s"
       ]
      },
      {
       "output_type": "stream",
       "stream": "stdout",
       "text": [
        "\n",
        "   338  |  \u001b[94m  0.021559\u001b[0m  |  \u001b[32m  0.026697\u001b[0m  |     0.807529  |             |  0.2s"
       ]
      },
      {
       "output_type": "stream",
       "stream": "stdout",
       "text": [
        "\n",
        "   339  |  \u001b[94m  0.021540\u001b[0m  |  \u001b[32m  0.026692\u001b[0m  |     0.806982  |             |  0.2s"
       ]
      },
      {
       "output_type": "stream",
       "stream": "stdout",
       "text": [
        "\n",
        "   340  |  \u001b[94m  0.021521\u001b[0m  |  \u001b[32m  0.026686\u001b[0m  |     0.806438  |             |  0.2s"
       ]
      },
      {
       "output_type": "stream",
       "stream": "stdout",
       "text": [
        "\n",
        "   341  |  \u001b[94m  0.021502\u001b[0m  |  \u001b[32m  0.026680\u001b[0m  |     0.805901  |             |  0.2s"
       ]
      },
      {
       "output_type": "stream",
       "stream": "stdout",
       "text": [
        "\n",
        "   342  |  \u001b[94m  0.021483\u001b[0m  |  \u001b[32m  0.026675\u001b[0m  |     0.805355  |             |  0.2s"
       ]
      },
      {
       "output_type": "stream",
       "stream": "stdout",
       "text": [
        "\n",
        "   343  |  \u001b[94m  0.021464\u001b[0m  |  \u001b[32m  0.026670\u001b[0m  |     0.804815  |             |  0.2s"
       ]
      },
      {
       "output_type": "stream",
       "stream": "stdout",
       "text": [
        "\n",
        "   344  |  \u001b[94m  0.021445\u001b[0m  |  \u001b[32m  0.026664\u001b[0m  |     0.804272  |             |  0.2s"
       ]
      },
      {
       "output_type": "stream",
       "stream": "stdout",
       "text": [
        "\n",
        "   345  |  \u001b[94m  0.021426\u001b[0m  |  \u001b[32m  0.026659\u001b[0m  |     0.803726  |             |  0.2s"
       ]
      },
      {
       "output_type": "stream",
       "stream": "stdout",
       "text": [
        "\n",
        "   346  |  \u001b[94m  0.021407\u001b[0m  |  \u001b[32m  0.026653\u001b[0m  |     0.803192  |             |  0.2s"
       ]
      },
      {
       "output_type": "stream",
       "stream": "stdout",
       "text": [
        "\n",
        "   347  |  \u001b[94m  0.021389\u001b[0m  |  \u001b[32m  0.026648\u001b[0m  |     0.802643  |             |  0.2s"
       ]
      },
      {
       "output_type": "stream",
       "stream": "stdout",
       "text": [
        "\n",
        "   348  |  \u001b[94m  0.021370\u001b[0m  |  \u001b[32m  0.026642\u001b[0m  |     0.802103  |             |  0.2s"
       ]
      },
      {
       "output_type": "stream",
       "stream": "stdout",
       "text": [
        "\n",
        "   349  |  \u001b[94m  0.021351\u001b[0m  |  \u001b[32m  0.026637\u001b[0m  |     0.801561  |             |  0.2s"
       ]
      },
      {
       "output_type": "stream",
       "stream": "stdout",
       "text": [
        "\n",
        "   350  |  \u001b[94m  0.021332\u001b[0m  |  \u001b[32m  0.026631\u001b[0m  |     0.801020  |             |  0.2s"
       ]
      },
      {
       "output_type": "stream",
       "stream": "stdout",
       "text": [
        "\n",
        "   351  |  \u001b[94m  0.021314\u001b[0m  |  \u001b[32m  0.026626\u001b[0m  |     0.800485  |             |  0.2s"
       ]
      },
      {
       "output_type": "stream",
       "stream": "stdout",
       "text": [
        "\n",
        "   352  |  \u001b[94m  0.021295\u001b[0m  |  \u001b[32m  0.026621\u001b[0m  |     0.799939  |             |  0.2s"
       ]
      },
      {
       "output_type": "stream",
       "stream": "stdout",
       "text": [
        "\n",
        "   353  |  \u001b[94m  0.021276\u001b[0m  |  \u001b[32m  0.026615\u001b[0m  |     0.799399  |             |  0.2s"
       ]
      },
      {
       "output_type": "stream",
       "stream": "stdout",
       "text": [
        "\n",
        "   354  |  \u001b[94m  0.021258\u001b[0m  |  \u001b[32m  0.026610\u001b[0m  |     0.798862  |             |  0.2s"
       ]
      },
      {
       "output_type": "stream",
       "stream": "stdout",
       "text": [
        "\n",
        "   355  |  \u001b[94m  0.021239\u001b[0m  |  \u001b[32m  0.026605\u001b[0m  |     0.798319  |             |  0.2s"
       ]
      },
      {
       "output_type": "stream",
       "stream": "stdout",
       "text": [
        "\n",
        "   356  |  \u001b[94m  0.021221\u001b[0m  |  \u001b[32m  0.026599\u001b[0m  |     0.797786  |             |  0.2s"
       ]
      },
      {
       "output_type": "stream",
       "stream": "stdout",
       "text": [
        "\n",
        "   357  |  \u001b[94m  0.021202\u001b[0m  |  \u001b[32m  0.026594\u001b[0m  |     0.797246  |             |  0.2s"
       ]
      },
      {
       "output_type": "stream",
       "stream": "stdout",
       "text": [
        "\n",
        "   358  |  \u001b[94m  0.021184\u001b[0m  |  \u001b[32m  0.026589\u001b[0m  |     0.796714  |             |  0.2s"
       ]
      },
      {
       "output_type": "stream",
       "stream": "stdout",
       "text": [
        "\n",
        "   359  |  \u001b[94m  0.021165\u001b[0m  |  \u001b[32m  0.026583\u001b[0m  |     0.796186  |             |  0.2s"
       ]
      },
      {
       "output_type": "stream",
       "stream": "stdout",
       "text": [
        "\n",
        "   360  |  \u001b[94m  0.021147\u001b[0m  |  \u001b[32m  0.026578\u001b[0m  |     0.795647  |             |  0.2s"
       ]
      },
      {
       "output_type": "stream",
       "stream": "stdout",
       "text": [
        "\n",
        "   361  |  \u001b[94m  0.021128\u001b[0m  |  \u001b[32m  0.026573\u001b[0m  |     0.795116  |             |  0.2s"
       ]
      },
      {
       "output_type": "stream",
       "stream": "stdout",
       "text": [
        "\n",
        "   362  |  \u001b[94m  0.021110\u001b[0m  |  \u001b[32m  0.026567\u001b[0m  |     0.794589  |             |  0.2s"
       ]
      },
      {
       "output_type": "stream",
       "stream": "stdout",
       "text": [
        "\n",
        "   363  |  \u001b[94m  0.021092\u001b[0m  |  \u001b[32m  0.026562\u001b[0m  |     0.794060  |             |  0.2s"
       ]
      },
      {
       "output_type": "stream",
       "stream": "stdout",
       "text": [
        "\n",
        "   364  |  \u001b[94m  0.021074\u001b[0m  |  \u001b[32m  0.026557\u001b[0m  |     0.793524  |             |  0.2s"
       ]
      },
      {
       "output_type": "stream",
       "stream": "stdout",
       "text": [
        "\n",
        "   365  |  \u001b[94m  0.021055\u001b[0m  |  \u001b[32m  0.026552\u001b[0m  |     0.792993  |             |  0.2s"
       ]
      },
      {
       "output_type": "stream",
       "stream": "stdout",
       "text": [
        "\n",
        "   366  |  \u001b[94m  0.021037\u001b[0m  |  \u001b[32m  0.026547\u001b[0m  |     0.792453  |             |  0.2s"
       ]
      },
      {
       "output_type": "stream",
       "stream": "stdout",
       "text": [
        "\n",
        "   367  |  \u001b[94m  0.021019\u001b[0m  |  \u001b[32m  0.026541\u001b[0m  |     0.791919  |             |  0.2s"
       ]
      },
      {
       "output_type": "stream",
       "stream": "stdout",
       "text": [
        "\n",
        "   368  |  \u001b[94m  0.021000\u001b[0m  |  \u001b[32m  0.026536\u001b[0m  |     0.791383  |             |  0.2s"
       ]
      },
      {
       "output_type": "stream",
       "stream": "stdout",
       "text": [
        "\n",
        "   369  |  \u001b[94m  0.020982\u001b[0m  |  \u001b[32m  0.026531\u001b[0m  |     0.790853  |             |  0.2s"
       ]
      },
      {
       "output_type": "stream",
       "stream": "stdout",
       "text": [
        "\n",
        "   370  |  \u001b[94m  0.020964\u001b[0m  |  \u001b[32m  0.026526\u001b[0m  |     0.790319  |             |  0.2s"
       ]
      },
      {
       "output_type": "stream",
       "stream": "stdout",
       "text": [
        "\n",
        "   371  |  \u001b[94m  0.020946\u001b[0m  |  \u001b[32m  0.026521\u001b[0m  |     0.789781  |             |  0.2s"
       ]
      },
      {
       "output_type": "stream",
       "stream": "stdout",
       "text": [
        "\n",
        "   372  |  \u001b[94m  0.020927\u001b[0m  |  \u001b[32m  0.026516\u001b[0m  |     0.789243  |             |  0.2s"
       ]
      },
      {
       "output_type": "stream",
       "stream": "stdout",
       "text": [
        "\n",
        "   373  |  \u001b[94m  0.020909\u001b[0m  |  \u001b[32m  0.026511\u001b[0m  |     0.788708  |             |  0.2s"
       ]
      },
      {
       "output_type": "stream",
       "stream": "stdout",
       "text": [
        "\n",
        "   374  |  \u001b[94m  0.020891\u001b[0m  |  \u001b[32m  0.026505\u001b[0m  |     0.788169  |             |  0.2s"
       ]
      },
      {
       "output_type": "stream",
       "stream": "stdout",
       "text": [
        "\n",
        "   375  |  \u001b[94m  0.020872\u001b[0m  |  \u001b[32m  0.026500\u001b[0m  |     0.787628  |             |  0.2s"
       ]
      },
      {
       "output_type": "stream",
       "stream": "stdout",
       "text": [
        "\n",
        "   376  |  \u001b[94m  0.020854\u001b[0m  |  \u001b[32m  0.026495\u001b[0m  |     0.787092  |             |  0.2s"
       ]
      },
      {
       "output_type": "stream",
       "stream": "stdout",
       "text": [
        "\n",
        "   377  |  \u001b[94m  0.020836\u001b[0m  |  \u001b[32m  0.026490\u001b[0m  |     0.786557  |             |  0.2s"
       ]
      },
      {
       "output_type": "stream",
       "stream": "stdout",
       "text": [
        "\n",
        "   378  |  \u001b[94m  0.020818\u001b[0m  |  \u001b[32m  0.026485\u001b[0m  |     0.786027  |             |  0.2s"
       ]
      },
      {
       "output_type": "stream",
       "stream": "stdout",
       "text": [
        "\n",
        "   379  |  \u001b[94m  0.020800\u001b[0m  |  \u001b[32m  0.026480\u001b[0m  |     0.785486  |             |  0.2s"
       ]
      },
      {
       "output_type": "stream",
       "stream": "stdout",
       "text": [
        "\n",
        "   380  |  \u001b[94m  0.020782\u001b[0m  |  \u001b[32m  0.026475\u001b[0m  |     0.784953  |             |  0.2s"
       ]
      },
      {
       "output_type": "stream",
       "stream": "stdout",
       "text": [
        "\n",
        "   381  |  \u001b[94m  0.020763\u001b[0m  |  \u001b[32m  0.026470\u001b[0m  |     0.784418  |             |  0.2s"
       ]
      },
      {
       "output_type": "stream",
       "stream": "stdout",
       "text": [
        "\n",
        "   382  |  \u001b[94m  0.020745\u001b[0m  |  \u001b[32m  0.026465\u001b[0m  |     0.783885  |             |  0.2s"
       ]
      },
      {
       "output_type": "stream",
       "stream": "stdout",
       "text": [
        "\n",
        "   383  |  \u001b[94m  0.020727\u001b[0m  |  \u001b[32m  0.026460\u001b[0m  |     0.783352  |             |  0.2s"
       ]
      },
      {
       "output_type": "stream",
       "stream": "stdout",
       "text": [
        "\n",
        "   384  |  \u001b[94m  0.020709\u001b[0m  |  \u001b[32m  0.026455\u001b[0m  |     0.782815  |             |  0.2s"
       ]
      },
      {
       "output_type": "stream",
       "stream": "stdout",
       "text": [
        "\n",
        "   385  |  \u001b[94m  0.020691\u001b[0m  |  \u001b[32m  0.026450\u001b[0m  |     0.782276  |             |  0.2s"
       ]
      },
      {
       "output_type": "stream",
       "stream": "stdout",
       "text": [
        "\n",
        "   386  |  \u001b[94m  0.020673\u001b[0m  |  \u001b[32m  0.026445\u001b[0m  |     0.781733  |             |  0.2s"
       ]
      },
      {
       "output_type": "stream",
       "stream": "stdout",
       "text": [
        "\n",
        "   387  |  \u001b[94m  0.020655\u001b[0m  |  \u001b[32m  0.026440\u001b[0m  |     0.781197  |             |  0.2s"
       ]
      },
      {
       "output_type": "stream",
       "stream": "stdout",
       "text": [
        "\n",
        "   388  |  \u001b[94m  0.020637\u001b[0m  |  \u001b[32m  0.026435\u001b[0m  |     0.780662  |             |  0.2s"
       ]
      },
      {
       "output_type": "stream",
       "stream": "stdout",
       "text": [
        "\n",
        "   389  |  \u001b[94m  0.020619\u001b[0m  |  \u001b[32m  0.026430\u001b[0m  |     0.780121  |             |  0.2s"
       ]
      },
      {
       "output_type": "stream",
       "stream": "stdout",
       "text": [
        "\n",
        "   390  |  \u001b[94m  0.020600\u001b[0m  |  \u001b[32m  0.026425\u001b[0m  |     0.779587  |             |  0.2s"
       ]
      },
      {
       "output_type": "stream",
       "stream": "stdout",
       "text": [
        "\n",
        "   391  |  \u001b[94m  0.020582\u001b[0m  |  \u001b[32m  0.026420\u001b[0m  |     0.779045  |             |  0.2s"
       ]
      },
      {
       "output_type": "stream",
       "stream": "stdout",
       "text": [
        "\n",
        "   392  |  \u001b[94m  0.020564\u001b[0m  |  \u001b[32m  0.026415\u001b[0m  |     0.778511  |             |  0.2s"
       ]
      },
      {
       "output_type": "stream",
       "stream": "stdout",
       "text": [
        "\n",
        "   393  |  \u001b[94m  0.020546\u001b[0m  |  \u001b[32m  0.026410\u001b[0m  |     0.777978  |             |  0.2s"
       ]
      },
      {
       "output_type": "stream",
       "stream": "stdout",
       "text": [
        "\n",
        "   394  |  \u001b[94m  0.020529\u001b[0m  |  \u001b[32m  0.026405\u001b[0m  |     0.777444  |             |  0.2s"
       ]
      },
      {
       "output_type": "stream",
       "stream": "stdout",
       "text": [
        "\n",
        "   395  |  \u001b[94m  0.020511\u001b[0m  |  \u001b[32m  0.026400\u001b[0m  |     0.776911  |             |  0.2s"
       ]
      },
      {
       "output_type": "stream",
       "stream": "stdout",
       "text": [
        "\n",
        "   396  |  \u001b[94m  0.020493\u001b[0m  |  \u001b[32m  0.026395\u001b[0m  |     0.776376  |             |  0.2s"
       ]
      },
      {
       "output_type": "stream",
       "stream": "stdout",
       "text": [
        "\n",
        "   397  |  \u001b[94m  0.020475\u001b[0m  |  \u001b[32m  0.026390\u001b[0m  |     0.775842  |             |  0.2s"
       ]
      },
      {
       "output_type": "stream",
       "stream": "stdout",
       "text": [
        "\n",
        "   398  |  \u001b[94m  0.020457\u001b[0m  |  \u001b[32m  0.026386\u001b[0m  |     0.775304  |             |  0.2s"
       ]
      },
      {
       "output_type": "stream",
       "stream": "stdout",
       "text": [
        "\n",
        "   399  |  \u001b[94m  0.020439\u001b[0m  |  \u001b[32m  0.026381\u001b[0m  |     0.774765  |             |  0.2s"
       ]
      },
      {
       "output_type": "stream",
       "stream": "stdout",
       "text": [
        "\n",
        "   400  |  \u001b[94m  0.020421\u001b[0m  |  \u001b[32m  0.026376\u001b[0m  |     0.774230  |             |  0.2s"
       ]
      },
      {
       "output_type": "stream",
       "stream": "stdout",
       "text": [
        "\n",
        "   401  |  \u001b[94m  0.020403\u001b[0m  |  \u001b[32m  0.026371\u001b[0m  |     0.773698  |             |  0.2s"
       ]
      },
      {
       "output_type": "stream",
       "stream": "stdout",
       "text": [
        "\n",
        "   402  |  \u001b[94m  0.020386\u001b[0m  |  \u001b[32m  0.026366\u001b[0m  |     0.773165  |             |  0.2s"
       ]
      },
      {
       "output_type": "stream",
       "stream": "stdout",
       "text": [
        "\n",
        "   403  |  \u001b[94m  0.020368\u001b[0m  |  \u001b[32m  0.026362\u001b[0m  |     0.772632  |             |  0.2s"
       ]
      },
      {
       "output_type": "stream",
       "stream": "stdout",
       "text": [
        "\n",
        "   404  |  \u001b[94m  0.020350\u001b[0m  |  \u001b[32m  0.026357\u001b[0m  |     0.772096  |             |  0.2s"
       ]
      },
      {
       "output_type": "stream",
       "stream": "stdout",
       "text": [
        "\n",
        "   405  |  \u001b[94m  0.020332\u001b[0m  |  \u001b[32m  0.026352\u001b[0m  |     0.771565  |             |  0.2s"
       ]
      },
      {
       "output_type": "stream",
       "stream": "stdout",
       "text": [
        "\n",
        "   406  |  \u001b[94m  0.020315\u001b[0m  |  \u001b[32m  0.026347\u001b[0m  |     0.771034  |             |  0.2s"
       ]
      },
      {
       "output_type": "stream",
       "stream": "stdout",
       "text": [
        "\n",
        "   407  |  \u001b[94m  0.020297\u001b[0m  |  \u001b[32m  0.026342\u001b[0m  |     0.770498  |             |  0.2s"
       ]
      },
      {
       "output_type": "stream",
       "stream": "stdout",
       "text": [
        "\n",
        "   408  |  \u001b[94m  0.020279\u001b[0m  |  \u001b[32m  0.026338\u001b[0m  |     0.769971  |             |  0.2s"
       ]
      },
      {
       "output_type": "stream",
       "stream": "stdout",
       "text": [
        "\n",
        "   409  |  \u001b[94m  0.020261\u001b[0m  |  \u001b[32m  0.026333\u001b[0m  |     0.769438  |             |  0.2s"
       ]
      },
      {
       "output_type": "stream",
       "stream": "stdout",
       "text": [
        "\n",
        "   410  |  \u001b[94m  0.020244\u001b[0m  |  \u001b[32m  0.026328\u001b[0m  |     0.768903  |             |  0.2s"
       ]
      },
      {
       "output_type": "stream",
       "stream": "stdout",
       "text": [
        "\n",
        "   411  |  \u001b[94m  0.020226\u001b[0m  |  \u001b[32m  0.026324\u001b[0m  |     0.768360  |             |  0.2s"
       ]
      },
      {
       "output_type": "stream",
       "stream": "stdout",
       "text": [
        "\n",
        "   412  |  \u001b[94m  0.020209\u001b[0m  |  \u001b[32m  0.026319\u001b[0m  |     0.767826  |             |  0.2s"
       ]
      },
      {
       "output_type": "stream",
       "stream": "stdout",
       "text": [
        "\n",
        "   413  |  \u001b[94m  0.020191\u001b[0m  |  \u001b[32m  0.026315\u001b[0m  |     0.767290  |             |  0.2s"
       ]
      },
      {
       "output_type": "stream",
       "stream": "stdout",
       "text": [
        "\n",
        "   414  |  \u001b[94m  0.020173\u001b[0m  |  \u001b[32m  0.026310\u001b[0m  |     0.766755  |             |  0.2s"
       ]
      },
      {
       "output_type": "stream",
       "stream": "stdout",
       "text": [
        "\n",
        "   415  |  \u001b[94m  0.020156\u001b[0m  |  \u001b[32m  0.026306\u001b[0m  |     0.766219  |             |  0.2s"
       ]
      },
      {
       "output_type": "stream",
       "stream": "stdout",
       "text": [
        "\n",
        "   416  |  \u001b[94m  0.020138\u001b[0m  |  \u001b[32m  0.026301\u001b[0m  |     0.765686  |             |  0.2s"
       ]
      },
      {
       "output_type": "stream",
       "stream": "stdout",
       "text": [
        "\n",
        "   417  |  \u001b[94m  0.020121\u001b[0m  |  \u001b[32m  0.026297\u001b[0m  |     0.765153  |             |  0.2s"
       ]
      },
      {
       "output_type": "stream",
       "stream": "stdout",
       "text": [
        "\n",
        "   418  |  \u001b[94m  0.020104\u001b[0m  |  \u001b[32m  0.026292\u001b[0m  |     0.764624  |             |  0.2s"
       ]
      },
      {
       "output_type": "stream",
       "stream": "stdout",
       "text": [
        "\n",
        "   419  |  \u001b[94m  0.020086\u001b[0m  |  \u001b[32m  0.026288\u001b[0m  |     0.764086  |             |  0.2s"
       ]
      },
      {
       "output_type": "stream",
       "stream": "stdout",
       "text": [
        "\n",
        "   420  |  \u001b[94m  0.020069\u001b[0m  |  \u001b[32m  0.026283\u001b[0m  |     0.763549  |             |  0.2s"
       ]
      },
      {
       "output_type": "stream",
       "stream": "stdout",
       "text": [
        "\n",
        "   421  |  \u001b[94m  0.020051\u001b[0m  |  \u001b[32m  0.026279\u001b[0m  |     0.763019  |             |  0.2s"
       ]
      },
      {
       "output_type": "stream",
       "stream": "stdout",
       "text": [
        "\n",
        "   422  |  \u001b[94m  0.020034\u001b[0m  |  \u001b[32m  0.026274\u001b[0m  |     0.762487  |             |  0.2s"
       ]
      },
      {
       "output_type": "stream",
       "stream": "stdout",
       "text": [
        "\n",
        "   423  |  \u001b[94m  0.020017\u001b[0m  |  \u001b[32m  0.026270\u001b[0m  |     0.761944  |             |  0.2s"
       ]
      },
      {
       "output_type": "stream",
       "stream": "stdout",
       "text": [
        "\n",
        "   424  |  \u001b[94m  0.019999\u001b[0m  |  \u001b[32m  0.026266\u001b[0m  |     0.761418  |             |  0.2s"
       ]
      },
      {
       "output_type": "stream",
       "stream": "stdout",
       "text": [
        "\n",
        "   425  |  \u001b[94m  0.019982\u001b[0m  |  \u001b[32m  0.026262\u001b[0m  |     0.760877  |             |  0.2s"
       ]
      },
      {
       "output_type": "stream",
       "stream": "stdout",
       "text": [
        "\n",
        "   426  |  \u001b[94m  0.019964\u001b[0m  |  \u001b[32m  0.026257\u001b[0m  |     0.760343  |             |  0.2s"
       ]
      },
      {
       "output_type": "stream",
       "stream": "stdout",
       "text": [
        "\n",
        "   427  |  \u001b[94m  0.019947\u001b[0m  |  \u001b[32m  0.026253\u001b[0m  |     0.759808  |             |  0.2s"
       ]
      },
      {
       "output_type": "stream",
       "stream": "stdout",
       "text": [
        "\n",
        "   428  |  \u001b[94m  0.019930\u001b[0m  |  \u001b[32m  0.026248\u001b[0m  |     0.759269  |             |  0.2s"
       ]
      },
      {
       "output_type": "stream",
       "stream": "stdout",
       "text": [
        "\n",
        "   429  |  \u001b[94m  0.019912\u001b[0m  |  \u001b[32m  0.026244\u001b[0m  |     0.758743  |             |  0.2s"
       ]
      },
      {
       "output_type": "stream",
       "stream": "stdout",
       "text": [
        "\n",
        "   430  |  \u001b[94m  0.019895\u001b[0m  |  \u001b[32m  0.026240\u001b[0m  |     0.758205  |             |  0.2s"
       ]
      },
      {
       "output_type": "stream",
       "stream": "stdout",
       "text": [
        "\n",
        "   431  |  \u001b[94m  0.019878\u001b[0m  |  \u001b[32m  0.026235\u001b[0m  |     0.757667  |             |  0.2s"
       ]
      },
      {
       "output_type": "stream",
       "stream": "stdout",
       "text": [
        "\n",
        "   432  |  \u001b[94m  0.019860\u001b[0m  |  \u001b[32m  0.026231\u001b[0m  |     0.757136  |             |  0.2s"
       ]
      },
      {
       "output_type": "stream",
       "stream": "stdout",
       "text": [
        "\n",
        "   433  |  \u001b[94m  0.019843\u001b[0m  |  \u001b[32m  0.026227\u001b[0m  |     0.756598  |             |  0.2s"
       ]
      },
      {
       "output_type": "stream",
       "stream": "stdout",
       "text": [
        "\n",
        "   434  |  \u001b[94m  0.019826\u001b[0m  |  \u001b[32m  0.026222\u001b[0m  |     0.756060  |             |  0.2s"
       ]
      },
      {
       "output_type": "stream",
       "stream": "stdout",
       "text": [
        "\n",
        "   435  |  \u001b[94m  0.019808\u001b[0m  |  \u001b[32m  0.026218\u001b[0m  |     0.755527  |             |  0.2s"
       ]
      },
      {
       "output_type": "stream",
       "stream": "stdout",
       "text": [
        "\n",
        "   436  |  \u001b[94m  0.019791\u001b[0m  |  \u001b[32m  0.026214\u001b[0m  |     0.754993  |             |  0.2s"
       ]
      },
      {
       "output_type": "stream",
       "stream": "stdout",
       "text": [
        "\n",
        "   437  |  \u001b[94m  0.019774\u001b[0m  |  \u001b[32m  0.026210\u001b[0m  |     0.754448  |             |  0.2s"
       ]
      },
      {
       "output_type": "stream",
       "stream": "stdout",
       "text": [
        "\n",
        "   438  |  \u001b[94m  0.019756\u001b[0m  |  \u001b[32m  0.026205\u001b[0m  |     0.753912  |             |  0.2s"
       ]
      },
      {
       "output_type": "stream",
       "stream": "stdout",
       "text": [
        "\n",
        "   439  |  \u001b[94m  0.019739\u001b[0m  |  \u001b[32m  0.026201\u001b[0m  |     0.753370  |             |  0.2s"
       ]
      },
      {
       "output_type": "stream",
       "stream": "stdout",
       "text": [
        "\n",
        "   440  |  \u001b[94m  0.019722\u001b[0m  |  \u001b[32m  0.026197\u001b[0m  |     0.752833  |             |  0.2s"
       ]
      },
      {
       "output_type": "stream",
       "stream": "stdout",
       "text": [
        "\n",
        "   441  |  \u001b[94m  0.019705\u001b[0m  |  \u001b[32m  0.026193\u001b[0m  |     0.752297  |             |  0.2s"
       ]
      },
      {
       "output_type": "stream",
       "stream": "stdout",
       "text": [
        "\n",
        "   442  |  \u001b[94m  0.019687\u001b[0m  |  \u001b[32m  0.026188\u001b[0m  |     0.751770  |             |  0.2s"
       ]
      },
      {
       "output_type": "stream",
       "stream": "stdout",
       "text": [
        "\n",
        "   443  |  \u001b[94m  0.019670\u001b[0m  |  \u001b[32m  0.026184\u001b[0m  |     0.751225  |             |  0.2s"
       ]
      },
      {
       "output_type": "stream",
       "stream": "stdout",
       "text": [
        "\n",
        "   444  |  \u001b[94m  0.019653\u001b[0m  |  \u001b[32m  0.026180\u001b[0m  |     0.750686  |             |  0.2s"
       ]
      },
      {
       "output_type": "stream",
       "stream": "stdout",
       "text": [
        "\n",
        "   445  |  \u001b[94m  0.019636\u001b[0m  |  \u001b[32m  0.026176\u001b[0m  |     0.750150  |             |  0.2s"
       ]
      },
      {
       "output_type": "stream",
       "stream": "stdout",
       "text": [
        "\n",
        "   446  |  \u001b[94m  0.019619\u001b[0m  |  \u001b[32m  0.026172\u001b[0m  |     0.749617  |             |  0.2s"
       ]
      },
      {
       "output_type": "stream",
       "stream": "stdout",
       "text": [
        "\n",
        "   447  |  \u001b[94m  0.019602\u001b[0m  |  \u001b[32m  0.026168\u001b[0m  |     0.749085  |             |  0.2s"
       ]
      },
      {
       "output_type": "stream",
       "stream": "stdout",
       "text": [
        "\n",
        "   448  |  \u001b[94m  0.019585\u001b[0m  |  \u001b[32m  0.026164\u001b[0m  |     0.748538  |             |  0.2s"
       ]
      },
      {
       "output_type": "stream",
       "stream": "stdout",
       "text": [
        "\n",
        "   449  |  \u001b[94m  0.019567\u001b[0m  |  \u001b[32m  0.026160\u001b[0m  |     0.748000  |             |  0.2s"
       ]
      },
      {
       "output_type": "stream",
       "stream": "stdout",
       "text": [
        "\n",
        "   450  |  \u001b[94m  0.019550\u001b[0m  |  \u001b[32m  0.026156\u001b[0m  |     0.747459  |             |  0.2s"
       ]
      },
      {
       "output_type": "stream",
       "stream": "stdout",
       "text": [
        "\n",
        "   451  |  \u001b[94m  0.019533\u001b[0m  |  \u001b[32m  0.026152\u001b[0m  |     0.746914  |             |  0.2s"
       ]
      },
      {
       "output_type": "stream",
       "stream": "stdout",
       "text": [
        "\n",
        "   452  |  \u001b[94m  0.019516\u001b[0m  |  \u001b[32m  0.026147\u001b[0m  |     0.746380  |             |  0.2s"
       ]
      },
      {
       "output_type": "stream",
       "stream": "stdout",
       "text": [
        "\n",
        "   453  |  \u001b[94m  0.019499\u001b[0m  |  \u001b[32m  0.026144\u001b[0m  |     0.745832  |             |  0.2s"
       ]
      },
      {
       "output_type": "stream",
       "stream": "stdout",
       "text": [
        "\n",
        "   454  |  \u001b[94m  0.019482\u001b[0m  |  \u001b[32m  0.026140\u001b[0m  |     0.745290  |             |  0.2s"
       ]
      },
      {
       "output_type": "stream",
       "stream": "stdout",
       "text": [
        "\n",
        "   455  |  \u001b[94m  0.019465\u001b[0m  |  \u001b[32m  0.026135\u001b[0m  |     0.744764  |             |  0.2s"
       ]
      },
      {
       "output_type": "stream",
       "stream": "stdout",
       "text": [
        "\n",
        "   456  |  \u001b[94m  0.019448\u001b[0m  |  \u001b[32m  0.026131\u001b[0m  |     0.744219  |             |  0.2s"
       ]
      },
      {
       "output_type": "stream",
       "stream": "stdout",
       "text": [
        "\n",
        "   457  |  \u001b[94m  0.019430\u001b[0m  |  \u001b[32m  0.026127\u001b[0m  |     0.743685  |             |  0.2s"
       ]
      },
      {
       "output_type": "stream",
       "stream": "stdout",
       "text": [
        "\n",
        "   458  |  \u001b[94m  0.019413\u001b[0m  |  \u001b[32m  0.026123\u001b[0m  |     0.743143  |             |  0.2s"
       ]
      },
      {
       "output_type": "stream",
       "stream": "stdout",
       "text": [
        "\n",
        "   459  |  \u001b[94m  0.019397\u001b[0m  |  \u001b[32m  0.026119\u001b[0m  |     0.742607  |             |  0.2s"
       ]
      },
      {
       "output_type": "stream",
       "stream": "stdout",
       "text": [
        "\n",
        "   460  |  \u001b[94m  0.019380\u001b[0m  |  \u001b[32m  0.026116\u001b[0m  |     0.742064  |             |  0.2s"
       ]
      },
      {
       "output_type": "stream",
       "stream": "stdout",
       "text": [
        "\n",
        "   461  |  \u001b[94m  0.019363\u001b[0m  |  \u001b[32m  0.026111\u001b[0m  |     0.741537  |             |  0.2s"
       ]
      },
      {
       "output_type": "stream",
       "stream": "stdout",
       "text": [
        "\n",
        "   462  |  \u001b[94m  0.019346\u001b[0m  |  \u001b[32m  0.026107\u001b[0m  |     0.741006  |             |  0.2s"
       ]
      },
      {
       "output_type": "stream",
       "stream": "stdout",
       "text": [
        "\n",
        "   463  |  \u001b[94m  0.019329\u001b[0m  |  \u001b[32m  0.026104\u001b[0m  |     0.740466  |             |  0.2s"
       ]
      },
      {
       "output_type": "stream",
       "stream": "stdout",
       "text": [
        "\n",
        "   464  |  \u001b[94m  0.019312\u001b[0m  |  \u001b[32m  0.026100\u001b[0m  |     0.739934  |             |  0.2s"
       ]
      },
      {
       "output_type": "stream",
       "stream": "stdout",
       "text": [
        "\n",
        "   465  |  \u001b[94m  0.019295\u001b[0m  |  \u001b[32m  0.026096\u001b[0m  |     0.739394  |             |  0.2s"
       ]
      },
      {
       "output_type": "stream",
       "stream": "stdout",
       "text": [
        "\n",
        "   466  |  \u001b[94m  0.019278\u001b[0m  |  \u001b[32m  0.026092\u001b[0m  |     0.738854  |             |  0.2s"
       ]
      },
      {
       "output_type": "stream",
       "stream": "stdout",
       "text": [
        "\n",
        "   467  |  \u001b[94m  0.019261\u001b[0m  |  \u001b[32m  0.026088\u001b[0m  |     0.738324  |             |  0.2s"
       ]
      },
      {
       "output_type": "stream",
       "stream": "stdout",
       "text": [
        "\n",
        "   468  |  \u001b[94m  0.019245\u001b[0m  |  \u001b[32m  0.026084\u001b[0m  |     0.737791  |             |  0.2s"
       ]
      },
      {
       "output_type": "stream",
       "stream": "stdout",
       "text": [
        "\n",
        "   469  |  \u001b[94m  0.019228\u001b[0m  |  \u001b[32m  0.026080\u001b[0m  |     0.737262  |             |  0.2s"
       ]
      },
      {
       "output_type": "stream",
       "stream": "stdout",
       "text": [
        "\n",
        "   470  |  \u001b[94m  0.019211\u001b[0m  |  \u001b[32m  0.026077\u001b[0m  |     0.736724  |             |  0.2s"
       ]
      },
      {
       "output_type": "stream",
       "stream": "stdout",
       "text": [
        "\n",
        "   471  |  \u001b[94m  0.019195\u001b[0m  |  \u001b[32m  0.026072\u001b[0m  |     0.736200  |             |  0.2s"
       ]
      },
      {
       "output_type": "stream",
       "stream": "stdout",
       "text": [
        "\n",
        "   472  |  \u001b[94m  0.019178\u001b[0m  |  \u001b[32m  0.026069\u001b[0m  |     0.735660  |             |  0.2s"
       ]
      },
      {
       "output_type": "stream",
       "stream": "stdout",
       "text": [
        "\n",
        "   473  |  \u001b[94m  0.019161\u001b[0m  |  \u001b[32m  0.026065\u001b[0m  |     0.735137  |             |  0.2s"
       ]
      },
      {
       "output_type": "stream",
       "stream": "stdout",
       "text": [
        "\n",
        "   474  |  \u001b[94m  0.019145\u001b[0m  |  \u001b[32m  0.026061\u001b[0m  |     0.734610  |             |  0.2s"
       ]
      },
      {
       "output_type": "stream",
       "stream": "stdout",
       "text": [
        "\n",
        "   475  |  \u001b[94m  0.019128\u001b[0m  |  \u001b[32m  0.026057\u001b[0m  |     0.734072  |             |  0.2s"
       ]
      },
      {
       "output_type": "stream",
       "stream": "stdout",
       "text": [
        "\n",
        "   476  |  \u001b[94m  0.019111\u001b[0m  |  \u001b[32m  0.026054\u001b[0m  |     0.733546  |             |  0.2s"
       ]
      },
      {
       "output_type": "stream",
       "stream": "stdout",
       "text": [
        "\n",
        "   477  |  \u001b[94m  0.019095\u001b[0m  |  \u001b[32m  0.026049\u001b[0m  |     0.733030  |             |  0.2s"
       ]
      },
      {
       "output_type": "stream",
       "stream": "stdout",
       "text": [
        "\n",
        "   478  |  \u001b[94m  0.019078\u001b[0m  |  \u001b[32m  0.026046\u001b[0m  |     0.732497  |             |  0.2s"
       ]
      },
      {
       "output_type": "stream",
       "stream": "stdout",
       "text": [
        "\n",
        "   479  |  \u001b[94m  0.019062\u001b[0m  |  \u001b[32m  0.026042\u001b[0m  |     0.731965  |             |  0.2s"
       ]
      },
      {
       "output_type": "stream",
       "stream": "stdout",
       "text": [
        "\n",
        "   480  |  \u001b[94m  0.019045\u001b[0m  |  \u001b[32m  0.026038\u001b[0m  |     0.731435  |             |  0.2s"
       ]
      },
      {
       "output_type": "stream",
       "stream": "stdout",
       "text": [
        "\n",
        "   481  |  \u001b[94m  0.019029\u001b[0m  |  \u001b[32m  0.026035\u001b[0m  |     0.730905  |             |  0.2s"
       ]
      },
      {
       "output_type": "stream",
       "stream": "stdout",
       "text": [
        "\n",
        "   482  |  \u001b[94m  0.019012\u001b[0m  |  \u001b[32m  0.026031\u001b[0m  |     0.730380  |             |  0.2s"
       ]
      },
      {
       "output_type": "stream",
       "stream": "stdout",
       "text": [
        "\n",
        "   483  |  \u001b[94m  0.018996\u001b[0m  |  \u001b[32m  0.026027\u001b[0m  |     0.729853  |             |  0.2s"
       ]
      },
      {
       "output_type": "stream",
       "stream": "stdout",
       "text": [
        "\n",
        "   484  |  \u001b[94m  0.018980\u001b[0m  |  \u001b[32m  0.026023\u001b[0m  |     0.729333  |             |  0.2s"
       ]
      },
      {
       "output_type": "stream",
       "stream": "stdout",
       "text": [
        "\n",
        "   485  |  \u001b[94m  0.018963\u001b[0m  |  \u001b[32m  0.026020\u001b[0m  |     0.728801  |             |  0.2s"
       ]
      },
      {
       "output_type": "stream",
       "stream": "stdout",
       "text": [
        "\n",
        "   486  |  \u001b[94m  0.018947\u001b[0m  |  \u001b[32m  0.026016\u001b[0m  |     0.728283  |             |  0.2s"
       ]
      },
      {
       "output_type": "stream",
       "stream": "stdout",
       "text": [
        "\n",
        "   487  |  \u001b[94m  0.018930\u001b[0m  |  \u001b[32m  0.026012\u001b[0m  |     0.727760  |             |  0.2s"
       ]
      },
      {
       "output_type": "stream",
       "stream": "stdout",
       "text": [
        "\n",
        "   488  |  \u001b[94m  0.018914\u001b[0m  |  \u001b[32m  0.026008\u001b[0m  |     0.727244  |             |  0.2s"
       ]
      },
      {
       "output_type": "stream",
       "stream": "stdout",
       "text": [
        "\n",
        "   489  |  \u001b[94m  0.018898\u001b[0m  |  \u001b[32m  0.026004\u001b[0m  |     0.726723  |             |  0.2s"
       ]
      },
      {
       "output_type": "stream",
       "stream": "stdout",
       "text": [
        "\n",
        "   490  |  \u001b[94m  0.018882\u001b[0m  |  \u001b[32m  0.026001\u001b[0m  |     0.726199  |             |  0.2s"
       ]
      },
      {
       "output_type": "stream",
       "stream": "stdout",
       "text": [
        "\n",
        "   491  |  \u001b[94m  0.018865\u001b[0m  |  \u001b[32m  0.025997\u001b[0m  |     0.725676  |             |  0.2s"
       ]
      },
      {
       "output_type": "stream",
       "stream": "stdout",
       "text": [
        "\n",
        "   492  |  \u001b[94m  0.018849\u001b[0m  |  \u001b[32m  0.025993\u001b[0m  |     0.725156  |             |  0.2s"
       ]
      },
      {
       "output_type": "stream",
       "stream": "stdout",
       "text": [
        "\n",
        "   493  |  \u001b[94m  0.018833\u001b[0m  |  \u001b[32m  0.025990\u001b[0m  |     0.724634  |             |  0.2s"
       ]
      },
      {
       "output_type": "stream",
       "stream": "stdout",
       "text": [
        "\n",
        "   494  |  \u001b[94m  0.018817\u001b[0m  |  \u001b[32m  0.025986\u001b[0m  |     0.724114  |             |  0.2s"
       ]
      },
      {
       "output_type": "stream",
       "stream": "stdout",
       "text": [
        "\n",
        "   495  |  \u001b[94m  0.018800\u001b[0m  |  \u001b[32m  0.025982\u001b[0m  |     0.723592  |             |  0.2s"
       ]
      },
      {
       "output_type": "stream",
       "stream": "stdout",
       "text": [
        "\n",
        "   496  |  \u001b[94m  0.018784\u001b[0m  |  \u001b[32m  0.025978\u001b[0m  |     0.723071  |             |  0.2s"
       ]
      },
      {
       "output_type": "stream",
       "stream": "stdout",
       "text": [
        "\n",
        "   497  |  \u001b[94m  0.018768\u001b[0m  |  \u001b[32m  0.025975\u001b[0m  |     0.722543  |             |  0.2s"
       ]
      },
      {
       "output_type": "stream",
       "stream": "stdout",
       "text": [
        "\n",
        "   498  |  \u001b[94m  0.018752\u001b[0m  |  \u001b[32m  0.025971\u001b[0m  |     0.722017  |             |  0.2s"
       ]
      },
      {
       "output_type": "stream",
       "stream": "stdout",
       "text": [
        "\n",
        "   499  |  \u001b[94m  0.018736\u001b[0m  |  \u001b[32m  0.025968\u001b[0m  |     0.721491  |             |  0.2s"
       ]
      },
      {
       "output_type": "stream",
       "stream": "stdout",
       "text": [
        "\n",
        "   500  |  \u001b[94m  0.018719\u001b[0m  |  \u001b[32m  0.025964\u001b[0m  |     0.720974  |             |  0.2s"
       ]
      },
      {
       "output_type": "stream",
       "stream": "stdout",
       "text": [
        "\n",
        "   501  |  \u001b[94m  0.018703\u001b[0m  |  \u001b[32m  0.025960\u001b[0m  |     0.720450  |             |  0.2s"
       ]
      },
      {
       "output_type": "stream",
       "stream": "stdout",
       "text": [
        "\n",
        "   502  |  \u001b[94m  0.018687\u001b[0m  |  \u001b[32m  0.025957\u001b[0m  |     0.719923  |             |  0.2s"
       ]
      },
      {
       "output_type": "stream",
       "stream": "stdout",
       "text": [
        "\n",
        "   503  |  \u001b[94m  0.018671\u001b[0m  |  \u001b[32m  0.025953\u001b[0m  |     0.719403  |             |  0.2s"
       ]
      },
      {
       "output_type": "stream",
       "stream": "stdout",
       "text": [
        "\n",
        "   504  |  \u001b[94m  0.018655\u001b[0m  |  \u001b[32m  0.025950\u001b[0m  |     0.718881  |             |  0.2s"
       ]
      },
      {
       "output_type": "stream",
       "stream": "stdout",
       "text": [
        "\n",
        "   505  |  \u001b[94m  0.018639\u001b[0m  |  \u001b[32m  0.025946\u001b[0m  |     0.718363  |             |  0.2s"
       ]
      },
      {
       "output_type": "stream",
       "stream": "stdout",
       "text": [
        "\n",
        "   506  |  \u001b[94m  0.018623\u001b[0m  |  \u001b[32m  0.025943\u001b[0m  |     0.717836  |             |  0.2s"
       ]
      },
      {
       "output_type": "stream",
       "stream": "stdout",
       "text": [
        "\n",
        "   507  |  \u001b[94m  0.018607\u001b[0m  |  \u001b[32m  0.025939\u001b[0m  |     0.717315  |             |  0.2s"
       ]
      },
      {
       "output_type": "stream",
       "stream": "stdout",
       "text": [
        "\n",
        "   508  |  \u001b[94m  0.018590\u001b[0m  |  \u001b[32m  0.025936\u001b[0m  |     0.716791  |             |  0.2s"
       ]
      },
      {
       "output_type": "stream",
       "stream": "stdout",
       "text": [
        "\n",
        "   509  |  \u001b[94m  0.018574\u001b[0m  |  \u001b[32m  0.025932\u001b[0m  |     0.716269  |             |  0.2s"
       ]
      },
      {
       "output_type": "stream",
       "stream": "stdout",
       "text": [
        "\n",
        "   510  |  \u001b[94m  0.018558\u001b[0m  |  \u001b[32m  0.025929\u001b[0m  |     0.715747  |             |  0.2s"
       ]
      },
      {
       "output_type": "stream",
       "stream": "stdout",
       "text": [
        "\n",
        "   511  |  \u001b[94m  0.018542\u001b[0m  |  \u001b[32m  0.025925\u001b[0m  |     0.715229  |             |  0.2s"
       ]
      },
      {
       "output_type": "stream",
       "stream": "stdout",
       "text": [
        "\n",
        "   512  |  \u001b[94m  0.018526\u001b[0m  |  \u001b[32m  0.025922\u001b[0m  |     0.714703  |             |  0.2s"
       ]
      },
      {
       "output_type": "stream",
       "stream": "stdout",
       "text": [
        "\n",
        "   513  |  \u001b[94m  0.018511\u001b[0m  |  \u001b[32m  0.025918\u001b[0m  |     0.714188  |             |  0.2s"
       ]
      },
      {
       "output_type": "stream",
       "stream": "stdout",
       "text": [
        "\n",
        "   514  |  \u001b[94m  0.018495\u001b[0m  |  \u001b[32m  0.025915\u001b[0m  |     0.713660  |             |  0.2s"
       ]
      },
      {
       "output_type": "stream",
       "stream": "stdout",
       "text": [
        "\n",
        "   515  |  \u001b[94m  0.018479\u001b[0m  |  \u001b[32m  0.025912\u001b[0m  |     0.713136  |             |  0.2s"
       ]
      },
      {
       "output_type": "stream",
       "stream": "stdout",
       "text": [
        "\n",
        "   516  |  \u001b[94m  0.018463\u001b[0m  |  \u001b[32m  0.025909\u001b[0m  |     0.712613  |             |  0.2s"
       ]
      },
      {
       "output_type": "stream",
       "stream": "stdout",
       "text": [
        "\n",
        "   517  |  \u001b[94m  0.018447\u001b[0m  |  \u001b[32m  0.025905\u001b[0m  |     0.712102  |             |  0.2s"
       ]
      },
      {
       "output_type": "stream",
       "stream": "stdout",
       "text": [
        "\n",
        "   518  |  \u001b[94m  0.018431\u001b[0m  |  \u001b[32m  0.025902\u001b[0m  |     0.711580  |             |  0.2s"
       ]
      },
      {
       "output_type": "stream",
       "stream": "stdout",
       "text": [
        "\n",
        "   519  |  \u001b[94m  0.018415\u001b[0m  |  \u001b[32m  0.025899\u001b[0m  |     0.711056  |             |  0.2s"
       ]
      },
      {
       "output_type": "stream",
       "stream": "stdout",
       "text": [
        "\n",
        "   520  |  \u001b[94m  0.018400\u001b[0m  |  \u001b[32m  0.025895\u001b[0m  |     0.710539  |             |  0.2s"
       ]
      },
      {
       "output_type": "stream",
       "stream": "stdout",
       "text": [
        "\n",
        "   521  |  \u001b[94m  0.018384\u001b[0m  |  \u001b[32m  0.025892\u001b[0m  |     0.710018  |             |  0.2s"
       ]
      },
      {
       "output_type": "stream",
       "stream": "stdout",
       "text": [
        "\n",
        "   522  |  \u001b[94m  0.018368\u001b[0m  |  \u001b[32m  0.025889\u001b[0m  |     0.709502  |             |  0.2s"
       ]
      },
      {
       "output_type": "stream",
       "stream": "stdout",
       "text": [
        "\n",
        "   523  |  \u001b[94m  0.018352\u001b[0m  |  \u001b[32m  0.025885\u001b[0m  |     0.708988  |             |  0.2s"
       ]
      },
      {
       "output_type": "stream",
       "stream": "stdout",
       "text": [
        "\n",
        "   524  |  \u001b[94m  0.018337\u001b[0m  |  \u001b[32m  0.025882\u001b[0m  |     0.708474  |             |  0.2s"
       ]
      },
      {
       "output_type": "stream",
       "stream": "stdout",
       "text": [
        "\n",
        "   525  |  \u001b[94m  0.018321\u001b[0m  |  \u001b[32m  0.025879\u001b[0m  |     0.707952  |             |  0.2s"
       ]
      },
      {
       "output_type": "stream",
       "stream": "stdout",
       "text": [
        "\n",
        "   526  |  \u001b[94m  0.018305\u001b[0m  |  \u001b[32m  0.025876\u001b[0m  |     0.707430  |             |  0.2s"
       ]
      },
      {
       "output_type": "stream",
       "stream": "stdout",
       "text": [
        "\n",
        "   527  |  \u001b[94m  0.018290\u001b[0m  |  \u001b[32m  0.025872\u001b[0m  |     0.706915  |             |  0.2s"
       ]
      },
      {
       "output_type": "stream",
       "stream": "stdout",
       "text": [
        "\n",
        "   528  |  \u001b[94m  0.018274\u001b[0m  |  \u001b[32m  0.025869\u001b[0m  |     0.706394  |             |  0.2s"
       ]
      },
      {
       "output_type": "stream",
       "stream": "stdout",
       "text": [
        "\n",
        "   529  |  \u001b[94m  0.018258\u001b[0m  |  \u001b[32m  0.025866\u001b[0m  |     0.705875  |             |  0.2s"
       ]
      },
      {
       "output_type": "stream",
       "stream": "stdout",
       "text": [
        "\n",
        "   530  |  \u001b[94m  0.018243\u001b[0m  |  \u001b[32m  0.025863\u001b[0m  |     0.705350  |             |  0.2s"
       ]
      },
      {
       "output_type": "stream",
       "stream": "stdout",
       "text": [
        "\n",
        "   531  |  \u001b[94m  0.018227\u001b[0m  |  \u001b[32m  0.025860\u001b[0m  |     0.704836  |             |  0.2s"
       ]
      },
      {
       "output_type": "stream",
       "stream": "stdout",
       "text": [
        "\n",
        "   532  |  \u001b[94m  0.018212\u001b[0m  |  \u001b[32m  0.025857\u001b[0m  |     0.704319  |             |  0.2s"
       ]
      },
      {
       "output_type": "stream",
       "stream": "stdout",
       "text": [
        "\n",
        "   533  |  \u001b[94m  0.018196\u001b[0m  |  \u001b[32m  0.025854\u001b[0m  |     0.703799  |             |  0.2s"
       ]
      },
      {
       "output_type": "stream",
       "stream": "stdout",
       "text": [
        "\n",
        "   534  |  \u001b[94m  0.018181\u001b[0m  |  \u001b[32m  0.025851\u001b[0m  |     0.703286  |             |  0.2s"
       ]
      },
      {
       "output_type": "stream",
       "stream": "stdout",
       "text": [
        "\n",
        "   535  |  \u001b[94m  0.018165\u001b[0m  |  \u001b[32m  0.025848\u001b[0m  |     0.702771  |             |  0.2s"
       ]
      },
      {
       "output_type": "stream",
       "stream": "stdout",
       "text": [
        "\n",
        "   536  |  \u001b[94m  0.018149\u001b[0m  |  \u001b[32m  0.025845\u001b[0m  |     0.702250  |             |  0.2s"
       ]
      },
      {
       "output_type": "stream",
       "stream": "stdout",
       "text": [
        "\n",
        "   537  |  \u001b[94m  0.018134\u001b[0m  |  \u001b[32m  0.025842\u001b[0m  |     0.701732  |             |  0.2s"
       ]
      },
      {
       "output_type": "stream",
       "stream": "stdout",
       "text": [
        "\n",
        "   538  |  \u001b[94m  0.018118\u001b[0m  |  \u001b[32m  0.025839\u001b[0m  |     0.701207  |             |  0.2s"
       ]
      },
      {
       "output_type": "stream",
       "stream": "stdout",
       "text": [
        "\n",
        "   539  |  \u001b[94m  0.018103\u001b[0m  |  \u001b[32m  0.025836\u001b[0m  |     0.700693  |             |  0.2s"
       ]
      },
      {
       "output_type": "stream",
       "stream": "stdout",
       "text": [
        "\n",
        "   540  |  \u001b[94m  0.018087\u001b[0m  |  \u001b[32m  0.025833\u001b[0m  |     0.700175  |             |  0.2s"
       ]
      },
      {
       "output_type": "stream",
       "stream": "stdout",
       "text": [
        "\n",
        "   541  |  \u001b[94m  0.018072\u001b[0m  |  \u001b[32m  0.025830\u001b[0m  |     0.699656  |             |  0.2s"
       ]
      },
      {
       "output_type": "stream",
       "stream": "stdout",
       "text": [
        "\n",
        "   542  |  \u001b[94m  0.018056\u001b[0m  |  \u001b[32m  0.025827\u001b[0m  |     0.699135  |             |  0.2s"
       ]
      },
      {
       "output_type": "stream",
       "stream": "stdout",
       "text": [
        "\n",
        "   543  |  \u001b[94m  0.018041\u001b[0m  |  \u001b[32m  0.025824\u001b[0m  |     0.698624  |             |  0.2s"
       ]
      },
      {
       "output_type": "stream",
       "stream": "stdout",
       "text": [
        "\n",
        "   544  |  \u001b[94m  0.018025\u001b[0m  |  \u001b[32m  0.025821\u001b[0m  |     0.698101  |             |  0.2s"
       ]
      },
      {
       "output_type": "stream",
       "stream": "stdout",
       "text": [
        "\n",
        "   545  |  \u001b[94m  0.018010\u001b[0m  |  \u001b[32m  0.025818\u001b[0m  |     0.697574  |             |  0.2s"
       ]
      },
      {
       "output_type": "stream",
       "stream": "stdout",
       "text": [
        "\n",
        "   546  |  \u001b[94m  0.017995\u001b[0m  |  \u001b[32m  0.025815\u001b[0m  |     0.697063  |             |  0.2s"
       ]
      },
      {
       "output_type": "stream",
       "stream": "stdout",
       "text": [
        "\n",
        "   547  |  \u001b[94m  0.017979\u001b[0m  |  \u001b[32m  0.025812\u001b[0m  |     0.696536  |             |  0.2s"
       ]
      },
      {
       "output_type": "stream",
       "stream": "stdout",
       "text": [
        "\n",
        "   548  |  \u001b[94m  0.017964\u001b[0m  |  \u001b[32m  0.025809\u001b[0m  |     0.696013  |             |  0.2s"
       ]
      },
      {
       "output_type": "stream",
       "stream": "stdout",
       "text": [
        "\n",
        "   549  |  \u001b[94m  0.017948\u001b[0m  |  \u001b[32m  0.025807\u001b[0m  |     0.695485  |             |  0.2s"
       ]
      },
      {
       "output_type": "stream",
       "stream": "stdout",
       "text": [
        "\n",
        "   550  |  \u001b[94m  0.017933\u001b[0m  |  \u001b[32m  0.025804\u001b[0m  |     0.694965  |             |  0.2s"
       ]
      },
      {
       "output_type": "stream",
       "stream": "stdout",
       "text": [
        "\n",
        "   551  |  \u001b[94m  0.017917\u001b[0m  |  \u001b[32m  0.025801\u001b[0m  |     0.694450  |             |  0.2s"
       ]
      },
      {
       "output_type": "stream",
       "stream": "stdout",
       "text": [
        "\n",
        "   552  |  \u001b[94m  0.017902\u001b[0m  |  \u001b[32m  0.025798\u001b[0m  |     0.693930  |             |  0.2s"
       ]
      },
      {
       "output_type": "stream",
       "stream": "stdout",
       "text": [
        "\n",
        "   553  |  \u001b[94m  0.017887\u001b[0m  |  \u001b[32m  0.025795\u001b[0m  |     0.693418  |             |  0.2s"
       ]
      },
      {
       "output_type": "stream",
       "stream": "stdout",
       "text": [
        "\n",
        "   554  |  \u001b[94m  0.017872\u001b[0m  |  \u001b[32m  0.025793\u001b[0m  |     0.692891  |             |  0.2s"
       ]
      },
      {
       "output_type": "stream",
       "stream": "stdout",
       "text": [
        "\n",
        "   555  |  \u001b[94m  0.017856\u001b[0m  |  \u001b[32m  0.025790\u001b[0m  |     0.692372  |             |  0.2s"
       ]
      },
      {
       "output_type": "stream",
       "stream": "stdout",
       "text": [
        "\n",
        "   556  |  \u001b[94m  0.017841\u001b[0m  |  \u001b[32m  0.025787\u001b[0m  |     0.691854  |             |  0.2s"
       ]
      },
      {
       "output_type": "stream",
       "stream": "stdout",
       "text": [
        "\n",
        "   557  |  \u001b[94m  0.017826\u001b[0m  |  \u001b[32m  0.025785\u001b[0m  |     0.691328  |             |  0.2s"
       ]
      },
      {
       "output_type": "stream",
       "stream": "stdout",
       "text": [
        "\n",
        "   558  |  \u001b[94m  0.017810\u001b[0m  |  \u001b[32m  0.025782\u001b[0m  |     0.690802  |             |  0.2s"
       ]
      },
      {
       "output_type": "stream",
       "stream": "stdout",
       "text": [
        "\n",
        "   559  |  \u001b[94m  0.017795\u001b[0m  |  \u001b[32m  0.025779\u001b[0m  |     0.690288  |             |  0.2s"
       ]
      },
      {
       "output_type": "stream",
       "stream": "stdout",
       "text": [
        "\n",
        "   560  |  \u001b[94m  0.017780\u001b[0m  |  \u001b[32m  0.025776\u001b[0m  |     0.689776  |             |  0.2s"
       ]
      },
      {
       "output_type": "stream",
       "stream": "stdout",
       "text": [
        "\n",
        "   561  |  \u001b[94m  0.017765\u001b[0m  |  \u001b[32m  0.025774\u001b[0m  |     0.689260  |             |  0.2s"
       ]
      },
      {
       "output_type": "stream",
       "stream": "stdout",
       "text": [
        "\n",
        "   562  |  \u001b[94m  0.017750\u001b[0m  |  \u001b[32m  0.025771\u001b[0m  |     0.688740  |             |  0.2s"
       ]
      },
      {
       "output_type": "stream",
       "stream": "stdout",
       "text": [
        "\n",
        "   563  |  \u001b[94m  0.017734\u001b[0m  |  \u001b[32m  0.025768\u001b[0m  |     0.688218  |             |  0.2s"
       ]
      },
      {
       "output_type": "stream",
       "stream": "stdout",
       "text": [
        "\n",
        "   564  |  \u001b[94m  0.017719\u001b[0m  |  \u001b[32m  0.025766\u001b[0m  |     0.687701  |             |  0.2s"
       ]
      },
      {
       "output_type": "stream",
       "stream": "stdout",
       "text": [
        "\n",
        "   565  |  \u001b[94m  0.017704\u001b[0m  |  \u001b[32m  0.025763\u001b[0m  |     0.687175  |             |  0.2s"
       ]
      },
      {
       "output_type": "stream",
       "stream": "stdout",
       "text": [
        "\n",
        "   566  |  \u001b[94m  0.017689\u001b[0m  |  \u001b[32m  0.025761\u001b[0m  |     0.686653  |             |  0.2s"
       ]
      },
      {
       "output_type": "stream",
       "stream": "stdout",
       "text": [
        "\n",
        "   567  |  \u001b[94m  0.017674\u001b[0m  |  \u001b[32m  0.025758\u001b[0m  |     0.686143  |             |  0.2s"
       ]
      },
      {
       "output_type": "stream",
       "stream": "stdout",
       "text": [
        "\n",
        "   568  |  \u001b[94m  0.017659\u001b[0m  |  \u001b[32m  0.025755\u001b[0m  |     0.685626  |             |  0.2s"
       ]
      },
      {
       "output_type": "stream",
       "stream": "stdout",
       "text": [
        "\n",
        "   569  |  \u001b[94m  0.017643\u001b[0m  |  \u001b[32m  0.025753\u001b[0m  |     0.685110  |             |  0.2s"
       ]
      },
      {
       "output_type": "stream",
       "stream": "stdout",
       "text": [
        "\n",
        "   570  |  \u001b[94m  0.017628\u001b[0m  |  \u001b[32m  0.025750\u001b[0m  |     0.684594  |             |  0.2s"
       ]
      },
      {
       "output_type": "stream",
       "stream": "stdout",
       "text": [
        "\n",
        "   571  |  \u001b[94m  0.017613\u001b[0m  |  \u001b[32m  0.025748\u001b[0m  |     0.684076  |             |  0.2s"
       ]
      },
      {
       "output_type": "stream",
       "stream": "stdout",
       "text": [
        "\n",
        "   572  |  \u001b[94m  0.017598\u001b[0m  |  \u001b[32m  0.025745\u001b[0m  |     0.683572  |             |  0.2s"
       ]
      },
      {
       "output_type": "stream",
       "stream": "stdout",
       "text": [
        "\n",
        "   573  |  \u001b[94m  0.017583\u001b[0m  |  \u001b[32m  0.025743\u001b[0m  |     0.683046  |             |  0.2s"
       ]
      },
      {
       "output_type": "stream",
       "stream": "stdout",
       "text": [
        "\n",
        "   574  |  \u001b[94m  0.017568\u001b[0m  |  \u001b[32m  0.025740\u001b[0m  |     0.682537  |             |  0.2s"
       ]
      },
      {
       "output_type": "stream",
       "stream": "stdout",
       "text": [
        "\n",
        "   575  |  \u001b[94m  0.017554\u001b[0m  |  \u001b[32m  0.025737\u001b[0m  |     0.682023  |             |  0.2s"
       ]
      },
      {
       "output_type": "stream",
       "stream": "stdout",
       "text": [
        "\n",
        "   576  |  \u001b[94m  0.017539\u001b[0m  |  \u001b[32m  0.025735\u001b[0m  |     0.681515  |             |  0.2s"
       ]
      },
      {
       "output_type": "stream",
       "stream": "stdout",
       "text": [
        "\n",
        "   577  |  \u001b[94m  0.017524\u001b[0m  |  \u001b[32m  0.025732\u001b[0m  |     0.681005  |             |  0.2s"
       ]
      },
      {
       "output_type": "stream",
       "stream": "stdout",
       "text": [
        "\n",
        "   578  |  \u001b[94m  0.017509\u001b[0m  |  \u001b[32m  0.025730\u001b[0m  |     0.680485  |             |  0.2s"
       ]
      },
      {
       "output_type": "stream",
       "stream": "stdout",
       "text": [
        "\n",
        "   579  |  \u001b[94m  0.017494\u001b[0m  |  \u001b[32m  0.025727\u001b[0m  |     0.679967  |             |  0.2s"
       ]
      },
      {
       "output_type": "stream",
       "stream": "stdout",
       "text": [
        "\n",
        "   580  |  \u001b[94m  0.017479\u001b[0m  |  \u001b[32m  0.025725\u001b[0m  |     0.679447  |             |  0.2s"
       ]
      },
      {
       "output_type": "stream",
       "stream": "stdout",
       "text": [
        "\n",
        "   581  |  \u001b[94m  0.017464\u001b[0m  |  \u001b[32m  0.025722\u001b[0m  |     0.678935  |             |  0.2s"
       ]
      },
      {
       "output_type": "stream",
       "stream": "stdout",
       "text": [
        "\n",
        "   582  |  \u001b[94m  0.017449\u001b[0m  |  \u001b[32m  0.025720\u001b[0m  |     0.678411  |             |  0.2s"
       ]
      },
      {
       "output_type": "stream",
       "stream": "stdout",
       "text": [
        "\n",
        "   583  |  \u001b[94m  0.017434\u001b[0m  |  \u001b[32m  0.025717\u001b[0m  |     0.677905  |             |  0.2s"
       ]
      },
      {
       "output_type": "stream",
       "stream": "stdout",
       "text": [
        "\n",
        "   584  |  \u001b[94m  0.017419\u001b[0m  |  \u001b[32m  0.025715\u001b[0m  |     0.677383  |             |  0.2s"
       ]
      },
      {
       "output_type": "stream",
       "stream": "stdout",
       "text": [
        "\n",
        "   585  |  \u001b[94m  0.017404\u001b[0m  |  \u001b[32m  0.025713\u001b[0m  |     0.676874  |             |  0.2s"
       ]
      },
      {
       "output_type": "stream",
       "stream": "stdout",
       "text": [
        "\n",
        "   586  |  \u001b[94m  0.017389\u001b[0m  |  \u001b[32m  0.025710\u001b[0m  |     0.676356  |             |  0.2s"
       ]
      },
      {
       "output_type": "stream",
       "stream": "stdout",
       "text": [
        "\n",
        "   587  |  \u001b[94m  0.017374\u001b[0m  |  \u001b[32m  0.025708\u001b[0m  |     0.675849  |             |  0.2s"
       ]
      },
      {
       "output_type": "stream",
       "stream": "stdout",
       "text": [
        "\n",
        "   588  |  \u001b[94m  0.017360\u001b[0m  |  \u001b[32m  0.025706\u001b[0m  |     0.675325  |             |  0.2s"
       ]
      },
      {
       "output_type": "stream",
       "stream": "stdout",
       "text": [
        "\n",
        "   589  |  \u001b[94m  0.017345\u001b[0m  |  \u001b[32m  0.025703\u001b[0m  |     0.674801  |             |  0.2s"
       ]
      },
      {
       "output_type": "stream",
       "stream": "stdout",
       "text": [
        "\n",
        "   590  |  \u001b[94m  0.017330\u001b[0m  |  \u001b[32m  0.025701\u001b[0m  |     0.674286  |             |  0.2s"
       ]
      },
      {
       "output_type": "stream",
       "stream": "stdout",
       "text": [
        "\n",
        "   591  |  \u001b[94m  0.017315\u001b[0m  |  \u001b[32m  0.025699\u001b[0m  |     0.673765  |             |  0.2s"
       ]
      },
      {
       "output_type": "stream",
       "stream": "stdout",
       "text": [
        "\n",
        "   592  |  \u001b[94m  0.017300\u001b[0m  |  \u001b[32m  0.025697\u001b[0m  |     0.673240  |             |  0.2s"
       ]
      },
      {
       "output_type": "stream",
       "stream": "stdout",
       "text": [
        "\n",
        "   593  |  \u001b[94m  0.017285\u001b[0m  |  \u001b[32m  0.025695\u001b[0m  |     0.672721  |             |  0.2s"
       ]
      },
      {
       "output_type": "stream",
       "stream": "stdout",
       "text": [
        "\n",
        "   594  |  \u001b[94m  0.017270\u001b[0m  |  \u001b[32m  0.025692\u001b[0m  |     0.672202  |             |  0.2s"
       ]
      },
      {
       "output_type": "stream",
       "stream": "stdout",
       "text": [
        "\n",
        "   595  |  \u001b[94m  0.017256\u001b[0m  |  \u001b[32m  0.025690\u001b[0m  |     0.671679  |             |  0.2s"
       ]
      },
      {
       "output_type": "stream",
       "stream": "stdout",
       "text": [
        "\n",
        "   596  |  \u001b[94m  0.017241\u001b[0m  |  \u001b[32m  0.025688\u001b[0m  |     0.671162  |             |  0.2s"
       ]
      },
      {
       "output_type": "stream",
       "stream": "stdout",
       "text": [
        "\n",
        "   597  |  \u001b[94m  0.017226\u001b[0m  |  \u001b[32m  0.025686\u001b[0m  |     0.670644  |             |  0.2s"
       ]
      },
      {
       "output_type": "stream",
       "stream": "stdout",
       "text": [
        "\n",
        "   598  |  \u001b[94m  0.017211\u001b[0m  |  \u001b[32m  0.025684\u001b[0m  |     0.670127  |             |  0.2s"
       ]
      },
      {
       "output_type": "stream",
       "stream": "stdout",
       "text": [
        "\n",
        "   599  |  \u001b[94m  0.017196\u001b[0m  |  \u001b[32m  0.025681\u001b[0m  |     0.669614  |             |  0.2s"
       ]
      },
      {
       "output_type": "stream",
       "stream": "stdout",
       "text": [
        "\n",
        "   600  |  \u001b[94m  0.017182\u001b[0m  |  \u001b[32m  0.025679\u001b[0m  |     0.669093  |             |  0.2s"
       ]
      },
      {
       "output_type": "stream",
       "stream": "stdout",
       "text": [
        "\n",
        "   601  |  \u001b[94m  0.017167\u001b[0m  |  \u001b[32m  0.025677\u001b[0m  |     0.668585  |             |  0.2s"
       ]
      },
      {
       "output_type": "stream",
       "stream": "stdout",
       "text": [
        "\n",
        "   602  |  \u001b[94m  0.017152\u001b[0m  |  \u001b[32m  0.025675\u001b[0m  |     0.668069  |             |  0.2s"
       ]
      },
      {
       "output_type": "stream",
       "stream": "stdout",
       "text": [
        "\n",
        "   603  |  \u001b[94m  0.017138\u001b[0m  |  \u001b[32m  0.025672\u001b[0m  |     0.667564  |             |  0.2s"
       ]
      },
      {
       "output_type": "stream",
       "stream": "stdout",
       "text": [
        "\n",
        "   604  |  \u001b[94m  0.017123\u001b[0m  |  \u001b[32m  0.025670\u001b[0m  |     0.667044  |             |  0.2s"
       ]
      },
      {
       "output_type": "stream",
       "stream": "stdout",
       "text": [
        "\n",
        "   605  |  \u001b[94m  0.017109\u001b[0m  |  \u001b[32m  0.025668\u001b[0m  |     0.666536  |             |  0.2s"
       ]
      },
      {
       "output_type": "stream",
       "stream": "stdout",
       "text": [
        "\n",
        "   606  |  \u001b[94m  0.017094\u001b[0m  |  \u001b[32m  0.025666\u001b[0m  |     0.666027  |             |  0.2s"
       ]
      },
      {
       "output_type": "stream",
       "stream": "stdout",
       "text": [
        "\n",
        "   607  |  \u001b[94m  0.017080\u001b[0m  |  \u001b[32m  0.025663\u001b[0m  |     0.665526  |             |  0.2s"
       ]
      },
      {
       "output_type": "stream",
       "stream": "stdout",
       "text": [
        "\n",
        "   608  |  \u001b[94m  0.017065\u001b[0m  |  \u001b[32m  0.025661\u001b[0m  |     0.665015  |             |  0.2s"
       ]
      },
      {
       "output_type": "stream",
       "stream": "stdout",
       "text": [
        "\n",
        "   609  |  \u001b[94m  0.017051\u001b[0m  |  \u001b[32m  0.025659\u001b[0m  |     0.664507  |             |  0.2s"
       ]
      },
      {
       "output_type": "stream",
       "stream": "stdout",
       "text": [
        "\n",
        "   610  |  \u001b[94m  0.017036\u001b[0m  |  \u001b[32m  0.025657\u001b[0m  |     0.664003  |             |  0.2s"
       ]
      },
      {
       "output_type": "stream",
       "stream": "stdout",
       "text": [
        "\n",
        "   611  |  \u001b[94m  0.017022\u001b[0m  |  \u001b[32m  0.025655\u001b[0m  |     0.663491  |             |  0.2s"
       ]
      },
      {
       "output_type": "stream",
       "stream": "stdout",
       "text": [
        "\n",
        "   612  |  \u001b[94m  0.017007\u001b[0m  |  \u001b[32m  0.025653\u001b[0m  |     0.662982  |             |  0.2s"
       ]
      },
      {
       "output_type": "stream",
       "stream": "stdout",
       "text": [
        "\n",
        "   613  |  \u001b[94m  0.016993\u001b[0m  |  \u001b[32m  0.025650\u001b[0m  |     0.662478  |             |  0.2s"
       ]
      },
      {
       "output_type": "stream",
       "stream": "stdout",
       "text": [
        "\n",
        "   614  |  \u001b[94m  0.016978\u001b[0m  |  \u001b[32m  0.025648\u001b[0m  |     0.661976  |             |  0.2s"
       ]
      },
      {
       "output_type": "stream",
       "stream": "stdout",
       "text": [
        "\n",
        "   615  |  \u001b[94m  0.016964\u001b[0m  |  \u001b[32m  0.025646\u001b[0m  |     0.661462  |             |  0.2s"
       ]
      },
      {
       "output_type": "stream",
       "stream": "stdout",
       "text": [
        "\n",
        "   616  |  \u001b[94m  0.016950\u001b[0m  |  \u001b[32m  0.025644\u001b[0m  |     0.660950  |             |  0.2s"
       ]
      },
      {
       "output_type": "stream",
       "stream": "stdout",
       "text": [
        "\n",
        "   617  |  \u001b[94m  0.016935\u001b[0m  |  \u001b[32m  0.025642\u001b[0m  |     0.660446  |             |  0.2s"
       ]
      },
      {
       "output_type": "stream",
       "stream": "stdout",
       "text": [
        "\n",
        "   618  |  \u001b[94m  0.016921\u001b[0m  |  \u001b[32m  0.025640\u001b[0m  |     0.659942  |             |  0.2s"
       ]
      },
      {
       "output_type": "stream",
       "stream": "stdout",
       "text": [
        "\n",
        "   619  |  \u001b[94m  0.016906\u001b[0m  |  \u001b[32m  0.025638\u001b[0m  |     0.659428  |             |  0.2s"
       ]
      },
      {
       "output_type": "stream",
       "stream": "stdout",
       "text": [
        "\n",
        "   620  |  \u001b[94m  0.016892\u001b[0m  |  \u001b[32m  0.025636\u001b[0m  |     0.658924  |             |  0.2s"
       ]
      },
      {
       "output_type": "stream",
       "stream": "stdout",
       "text": [
        "\n",
        "   621  |  \u001b[94m  0.016878\u001b[0m  |  \u001b[32m  0.025634\u001b[0m  |     0.658417  |             |  0.2s"
       ]
      },
      {
       "output_type": "stream",
       "stream": "stdout",
       "text": [
        "\n",
        "   622  |  \u001b[94m  0.016864\u001b[0m  |  \u001b[32m  0.025632\u001b[0m  |     0.657916  |             |  0.2s"
       ]
      },
      {
       "output_type": "stream",
       "stream": "stdout",
       "text": [
        "\n",
        "   623  |  \u001b[94m  0.016849\u001b[0m  |  \u001b[32m  0.025631\u001b[0m  |     0.657390  |             |  0.2s"
       ]
      },
      {
       "output_type": "stream",
       "stream": "stdout",
       "text": [
        "\n",
        "   624  |  \u001b[94m  0.016835\u001b[0m  |  \u001b[32m  0.025628\u001b[0m  |     0.656892  |             |  0.2s"
       ]
      },
      {
       "output_type": "stream",
       "stream": "stdout",
       "text": [
        "\n",
        "   625  |  \u001b[94m  0.016821\u001b[0m  |  \u001b[32m  0.025627\u001b[0m  |     0.656378  |             |  0.2s"
       ]
      },
      {
       "output_type": "stream",
       "stream": "stdout",
       "text": [
        "\n",
        "   626  |  \u001b[94m  0.016807\u001b[0m  |  \u001b[32m  0.025625\u001b[0m  |     0.655882  |             |  0.2s"
       ]
      },
      {
       "output_type": "stream",
       "stream": "stdout",
       "text": [
        "\n",
        "   627  |  \u001b[94m  0.016793\u001b[0m  |  \u001b[32m  0.025623\u001b[0m  |     0.655370  |             |  0.2s"
       ]
      },
      {
       "output_type": "stream",
       "stream": "stdout",
       "text": [
        "\n",
        "   628  |  \u001b[94m  0.016778\u001b[0m  |  \u001b[32m  0.025621\u001b[0m  |     0.654873  |             |  0.2s"
       ]
      },
      {
       "output_type": "stream",
       "stream": "stdout",
       "text": [
        "\n",
        "   629  |  \u001b[94m  0.016764\u001b[0m  |  \u001b[32m  0.025619\u001b[0m  |     0.654366  |             |  0.2s"
       ]
      },
      {
       "output_type": "stream",
       "stream": "stdout",
       "text": [
        "\n",
        "   630  |  \u001b[94m  0.016750\u001b[0m  |  \u001b[32m  0.025617\u001b[0m  |     0.653861  |             |  0.2s"
       ]
      },
      {
       "output_type": "stream",
       "stream": "stdout",
       "text": [
        "\n",
        "   631  |  \u001b[94m  0.016736\u001b[0m  |  \u001b[32m  0.025616\u001b[0m  |     0.653354  |             |  0.2s"
       ]
      },
      {
       "output_type": "stream",
       "stream": "stdout",
       "text": [
        "\n",
        "   632  |  \u001b[94m  0.016722\u001b[0m  |  \u001b[32m  0.025614\u001b[0m  |     0.652857  |             |  0.2s"
       ]
      },
      {
       "output_type": "stream",
       "stream": "stdout",
       "text": [
        "\n",
        "   633  |  \u001b[94m  0.016708\u001b[0m  |  \u001b[32m  0.025612\u001b[0m  |     0.652350  |             |  0.2s"
       ]
      },
      {
       "output_type": "stream",
       "stream": "stdout",
       "text": [
        "\n",
        "   634  |  \u001b[94m  0.016694\u001b[0m  |  \u001b[32m  0.025610\u001b[0m  |     0.651859  |             |  0.2s"
       ]
      },
      {
       "output_type": "stream",
       "stream": "stdout",
       "text": [
        "\n",
        "   635  |  \u001b[94m  0.016680\u001b[0m  |  \u001b[32m  0.025608\u001b[0m  |     0.651346  |             |  0.2s"
       ]
      },
      {
       "output_type": "stream",
       "stream": "stdout",
       "text": [
        "\n",
        "   636  |  \u001b[94m  0.016666\u001b[0m  |  \u001b[32m  0.025606\u001b[0m  |     0.650849  |             |  0.2s"
       ]
      },
      {
       "output_type": "stream",
       "stream": "stdout",
       "text": [
        "\n",
        "   637  |  \u001b[94m  0.016652\u001b[0m  |  \u001b[32m  0.025605\u001b[0m  |     0.650343  |             |  0.2s"
       ]
      },
      {
       "output_type": "stream",
       "stream": "stdout",
       "text": [
        "\n",
        "   638  |  \u001b[94m  0.016638\u001b[0m  |  \u001b[32m  0.025603\u001b[0m  |     0.649838  |             |  0.2s"
       ]
      },
      {
       "output_type": "stream",
       "stream": "stdout",
       "text": [
        "\n",
        "   639  |  \u001b[94m  0.016624\u001b[0m  |  \u001b[32m  0.025601\u001b[0m  |     0.649346  |             |  0.2s"
       ]
      },
      {
       "output_type": "stream",
       "stream": "stdout",
       "text": [
        "\n",
        "   640  |  \u001b[94m  0.016610\u001b[0m  |  \u001b[32m  0.025599\u001b[0m  |     0.648842  |             |  0.2s"
       ]
      },
      {
       "output_type": "stream",
       "stream": "stdout",
       "text": [
        "\n",
        "   641  |  \u001b[94m  0.016596\u001b[0m  |  \u001b[32m  0.025598\u001b[0m  |     0.648340  |             |  0.2s"
       ]
      },
      {
       "output_type": "stream",
       "stream": "stdout",
       "text": [
        "\n",
        "   642  |  \u001b[94m  0.016582\u001b[0m  |  \u001b[32m  0.025596\u001b[0m  |     0.647834  |             |  0.2s"
       ]
      },
      {
       "output_type": "stream",
       "stream": "stdout",
       "text": [
        "\n",
        "   643  |  \u001b[94m  0.016568\u001b[0m  |  \u001b[32m  0.025594\u001b[0m  |     0.647341  |             |  0.2s"
       ]
      },
      {
       "output_type": "stream",
       "stream": "stdout",
       "text": [
        "\n",
        "   644  |  \u001b[94m  0.016554\u001b[0m  |  \u001b[32m  0.025592\u001b[0m  |     0.646843  |             |  0.2s"
       ]
      },
      {
       "output_type": "stream",
       "stream": "stdout",
       "text": [
        "\n",
        "   645  |  \u001b[94m  0.016540\u001b[0m  |  \u001b[32m  0.025590\u001b[0m  |     0.646350  |             |  0.2s"
       ]
      },
      {
       "output_type": "stream",
       "stream": "stdout",
       "text": [
        "\n",
        "   646  |  \u001b[94m  0.016526\u001b[0m  |  \u001b[32m  0.025589\u001b[0m  |     0.645848  |             |  0.2s"
       ]
      },
      {
       "output_type": "stream",
       "stream": "stdout",
       "text": [
        "\n",
        "   647  |  \u001b[94m  0.016512\u001b[0m  |  \u001b[32m  0.025587\u001b[0m  |     0.645351  |             |  0.2s"
       ]
      },
      {
       "output_type": "stream",
       "stream": "stdout",
       "text": [
        "\n",
        "   648  |  \u001b[94m  0.016498\u001b[0m  |  \u001b[32m  0.025585\u001b[0m  |     0.644855  |             |  0.2s"
       ]
      },
      {
       "output_type": "stream",
       "stream": "stdout",
       "text": [
        "\n",
        "   649  |  \u001b[94m  0.016485\u001b[0m  |  \u001b[32m  0.025583\u001b[0m  |     0.644364  |             |  0.2s"
       ]
      },
      {
       "output_type": "stream",
       "stream": "stdout",
       "text": [
        "\n",
        "   650  |  \u001b[94m  0.016471\u001b[0m  |  \u001b[32m  0.025581\u001b[0m  |     0.643858  |             |  0.2s"
       ]
      },
      {
       "output_type": "stream",
       "stream": "stdout",
       "text": [
        "\n",
        "   651  |  \u001b[94m  0.016457\u001b[0m  |  \u001b[32m  0.025579\u001b[0m  |     0.643370  |             |  0.2s"
       ]
      },
      {
       "output_type": "stream",
       "stream": "stdout",
       "text": [
        "\n",
        "   652  |  \u001b[94m  0.016443\u001b[0m  |  \u001b[32m  0.025578\u001b[0m  |     0.642867  |             |  0.2s"
       ]
      },
      {
       "output_type": "stream",
       "stream": "stdout",
       "text": [
        "\n",
        "   653  |  \u001b[94m  0.016429\u001b[0m  |  \u001b[32m  0.025576\u001b[0m  |     0.642371  |             |  0.2s"
       ]
      },
      {
       "output_type": "stream",
       "stream": "stdout",
       "text": [
        "\n",
        "   654  |  \u001b[94m  0.016416\u001b[0m  |  \u001b[32m  0.025574\u001b[0m  |     0.641878  |             |  0.2s"
       ]
      },
      {
       "output_type": "stream",
       "stream": "stdout",
       "text": [
        "\n",
        "   655  |  \u001b[94m  0.016402\u001b[0m  |  \u001b[32m  0.025572\u001b[0m  |     0.641390  |             |  0.2s"
       ]
      },
      {
       "output_type": "stream",
       "stream": "stdout",
       "text": [
        "\n",
        "   656  |  \u001b[94m  0.016388\u001b[0m  |  \u001b[32m  0.025570\u001b[0m  |     0.640903  |             |  0.2s"
       ]
      },
      {
       "output_type": "stream",
       "stream": "stdout",
       "text": [
        "\n",
        "   657  |  \u001b[94m  0.016374\u001b[0m  |  \u001b[32m  0.025569\u001b[0m  |     0.640409  |             |  0.2s"
       ]
      },
      {
       "output_type": "stream",
       "stream": "stdout",
       "text": [
        "\n",
        "   658  |  \u001b[94m  0.016361\u001b[0m  |  \u001b[32m  0.025567\u001b[0m  |     0.639920  |             |  0.2s"
       ]
      },
      {
       "output_type": "stream",
       "stream": "stdout",
       "text": [
        "\n",
        "   659  |  \u001b[94m  0.016347\u001b[0m  |  \u001b[32m  0.025565\u001b[0m  |     0.639422  |             |  0.2s"
       ]
      },
      {
       "output_type": "stream",
       "stream": "stdout",
       "text": [
        "\n",
        "   660  |  \u001b[94m  0.016333\u001b[0m  |  \u001b[32m  0.025563\u001b[0m  |     0.638929  |             |  0.2s"
       ]
      },
      {
       "output_type": "stream",
       "stream": "stdout",
       "text": [
        "\n",
        "   661  |  \u001b[94m  0.016319\u001b[0m  |  \u001b[32m  0.025561\u001b[0m  |     0.638436  |             |  0.2s"
       ]
      },
      {
       "output_type": "stream",
       "stream": "stdout",
       "text": [
        "\n",
        "   662  |  \u001b[94m  0.016306\u001b[0m  |  \u001b[32m  0.025560\u001b[0m  |     0.637945  |             |  0.2s"
       ]
      },
      {
       "output_type": "stream",
       "stream": "stdout",
       "text": [
        "\n",
        "   663  |  \u001b[94m  0.016292\u001b[0m  |  \u001b[32m  0.025558\u001b[0m  |     0.637462  |             |  0.2s"
       ]
      },
      {
       "output_type": "stream",
       "stream": "stdout",
       "text": [
        "\n",
        "   664  |  \u001b[94m  0.016278\u001b[0m  |  \u001b[32m  0.025556\u001b[0m  |     0.636968  |             |  0.2s"
       ]
      },
      {
       "output_type": "stream",
       "stream": "stdout",
       "text": [
        "\n",
        "   665  |  \u001b[94m  0.016265\u001b[0m  |  \u001b[32m  0.025554\u001b[0m  |     0.636485  |             |  0.2s"
       ]
      },
      {
       "output_type": "stream",
       "stream": "stdout",
       "text": [
        "\n",
        "   666  |  \u001b[94m  0.016251\u001b[0m  |  \u001b[32m  0.025552\u001b[0m  |     0.635995  |             |  0.2s"
       ]
      },
      {
       "output_type": "stream",
       "stream": "stdout",
       "text": [
        "\n",
        "   667  |  \u001b[94m  0.016238\u001b[0m  |  \u001b[32m  0.025551\u001b[0m  |     0.635491  |             |  0.2s"
       ]
      },
      {
       "output_type": "stream",
       "stream": "stdout",
       "text": [
        "\n",
        "   668  |  \u001b[94m  0.016224\u001b[0m  |  \u001b[32m  0.025549\u001b[0m  |     0.635010  |             |  0.2s"
       ]
      },
      {
       "output_type": "stream",
       "stream": "stdout",
       "text": [
        "\n",
        "   669  |  \u001b[94m  0.016210\u001b[0m  |  \u001b[32m  0.025548\u001b[0m  |     0.634512  |             |  0.2s"
       ]
      },
      {
       "output_type": "stream",
       "stream": "stdout",
       "text": [
        "\n",
        "   670  |  \u001b[94m  0.016197\u001b[0m  |  \u001b[32m  0.025546\u001b[0m  |     0.634031  |             |  0.2s"
       ]
      },
      {
       "output_type": "stream",
       "stream": "stdout",
       "text": [
        "\n",
        "   671  |  \u001b[94m  0.016183\u001b[0m  |  \u001b[32m  0.025544\u001b[0m  |     0.633546  |             |  0.2s"
       ]
      },
      {
       "output_type": "stream",
       "stream": "stdout",
       "text": [
        "\n",
        "   672  |  \u001b[94m  0.016170\u001b[0m  |  \u001b[32m  0.025543\u001b[0m  |     0.633053  |             |  0.2s"
       ]
      },
      {
       "output_type": "stream",
       "stream": "stdout",
       "text": [
        "\n",
        "   673  |  \u001b[94m  0.016156\u001b[0m  |  \u001b[32m  0.025541\u001b[0m  |     0.632561  |             |  0.2s"
       ]
      },
      {
       "output_type": "stream",
       "stream": "stdout",
       "text": [
        "\n",
        "   674  |  \u001b[94m  0.016143\u001b[0m  |  \u001b[32m  0.025539\u001b[0m  |     0.632075  |             |  0.2s"
       ]
      },
      {
       "output_type": "stream",
       "stream": "stdout",
       "text": [
        "\n",
        "   675  |  \u001b[94m  0.016129\u001b[0m  |  \u001b[32m  0.025538\u001b[0m  |     0.631585  |             |  0.2s"
       ]
      },
      {
       "output_type": "stream",
       "stream": "stdout",
       "text": [
        "\n",
        "   676  |  \u001b[94m  0.016116\u001b[0m  |  \u001b[32m  0.025536\u001b[0m  |     0.631094  |             |  0.2s"
       ]
      },
      {
       "output_type": "stream",
       "stream": "stdout",
       "text": [
        "\n",
        "   677  |  \u001b[94m  0.016102\u001b[0m  |  \u001b[32m  0.025535\u001b[0m  |     0.630602  |             |  0.2s"
       ]
      },
      {
       "output_type": "stream",
       "stream": "stdout",
       "text": [
        "\n",
        "   678  |  \u001b[94m  0.016089\u001b[0m  |  \u001b[32m  0.025533\u001b[0m  |     0.630113  |             |  0.2s"
       ]
      },
      {
       "output_type": "stream",
       "stream": "stdout",
       "text": [
        "\n",
        "   679  |  \u001b[94m  0.016075\u001b[0m  |  \u001b[32m  0.025531\u001b[0m  |     0.629626  |             |  0.2s"
       ]
      },
      {
       "output_type": "stream",
       "stream": "stdout",
       "text": [
        "\n",
        "   680  |  \u001b[94m  0.016062\u001b[0m  |  \u001b[32m  0.025529\u001b[0m  |     0.629145  |             |  0.2s"
       ]
      },
      {
       "output_type": "stream",
       "stream": "stdout",
       "text": [
        "\n",
        "   681  |  \u001b[94m  0.016048\u001b[0m  |  \u001b[32m  0.025528\u001b[0m  |     0.628655  |             |  0.2s"
       ]
      },
      {
       "output_type": "stream",
       "stream": "stdout",
       "text": [
        "\n",
        "   682  |  \u001b[94m  0.016035\u001b[0m  |  \u001b[32m  0.025526\u001b[0m  |     0.628168  |             |  0.2s"
       ]
      },
      {
       "output_type": "stream",
       "stream": "stdout",
       "text": [
        "\n",
        "   683  |  \u001b[94m  0.016021\u001b[0m  |  \u001b[32m  0.025525\u001b[0m  |     0.627680  |             |  0.2s"
       ]
      },
      {
       "output_type": "stream",
       "stream": "stdout",
       "text": [
        "\n",
        "   684  |  \u001b[94m  0.016008\u001b[0m  |  \u001b[32m  0.025523\u001b[0m  |     0.627192  |             |  0.2s"
       ]
      },
      {
       "output_type": "stream",
       "stream": "stdout",
       "text": [
        "\n",
        "   685  |  \u001b[94m  0.015994\u001b[0m  |  \u001b[32m  0.025521\u001b[0m  |     0.626709  |             |  0.2s"
       ]
      },
      {
       "output_type": "stream",
       "stream": "stdout",
       "text": [
        "\n",
        "   686  |  \u001b[94m  0.015981\u001b[0m  |  \u001b[32m  0.025519\u001b[0m  |     0.626236  |             |  0.2s"
       ]
      },
      {
       "output_type": "stream",
       "stream": "stdout",
       "text": [
        "\n",
        "   687  |  \u001b[94m  0.015967\u001b[0m  |  \u001b[32m  0.025517\u001b[0m  |     0.625747  |             |  0.2s"
       ]
      },
      {
       "output_type": "stream",
       "stream": "stdout",
       "text": [
        "\n",
        "   688  |  \u001b[94m  0.015954\u001b[0m  |  \u001b[32m  0.025516\u001b[0m  |     0.625262  |             |  0.2s"
       ]
      },
      {
       "output_type": "stream",
       "stream": "stdout",
       "text": [
        "\n",
        "   689  |  \u001b[94m  0.015941\u001b[0m  |  \u001b[32m  0.025514\u001b[0m  |     0.624790  |             |  0.2s"
       ]
      },
      {
       "output_type": "stream",
       "stream": "stdout",
       "text": [
        "\n",
        "   690  |  \u001b[94m  0.015927\u001b[0m  |  \u001b[32m  0.025512\u001b[0m  |     0.624301  |             |  0.2s"
       ]
      },
      {
       "output_type": "stream",
       "stream": "stdout",
       "text": [
        "\n",
        "   691  |  \u001b[94m  0.015914\u001b[0m  |  \u001b[32m  0.025510\u001b[0m  |     0.623834  |             |  0.2s"
       ]
      },
      {
       "output_type": "stream",
       "stream": "stdout",
       "text": [
        "\n",
        "   692  |  \u001b[94m  0.015901\u001b[0m  |  \u001b[32m  0.025508\u001b[0m  |     0.623351  |             |  0.2s"
       ]
      },
      {
       "output_type": "stream",
       "stream": "stdout",
       "text": [
        "\n",
        "   693  |  \u001b[94m  0.015887\u001b[0m  |  \u001b[32m  0.025506\u001b[0m  |     0.622869  |             |  0.2s"
       ]
      },
      {
       "output_type": "stream",
       "stream": "stdout",
       "text": [
        "\n",
        "   694  |  \u001b[94m  0.015874\u001b[0m  |  \u001b[32m  0.025505\u001b[0m  |     0.622392  |             |  0.2s"
       ]
      },
      {
       "output_type": "stream",
       "stream": "stdout",
       "text": [
        "\n",
        "   695  |  \u001b[94m  0.015861\u001b[0m  |  \u001b[32m  0.025503\u001b[0m  |     0.621910  |             |  0.2s"
       ]
      },
      {
       "output_type": "stream",
       "stream": "stdout",
       "text": [
        "\n",
        "   696  |  \u001b[94m  0.015847\u001b[0m  |  \u001b[32m  0.025501\u001b[0m  |     0.621425  |             |  0.2s"
       ]
      },
      {
       "output_type": "stream",
       "stream": "stdout",
       "text": [
        "\n",
        "   697  |  \u001b[94m  0.015834\u001b[0m  |  \u001b[32m  0.025499\u001b[0m  |     0.620947  |             |  0.2s"
       ]
      },
      {
       "output_type": "stream",
       "stream": "stdout",
       "text": [
        "\n",
        "   698  |  \u001b[94m  0.015820\u001b[0m  |  \u001b[32m  0.025498\u001b[0m  |     0.620464  |             |  0.2s"
       ]
      },
      {
       "output_type": "stream",
       "stream": "stdout",
       "text": [
        "\n",
        "   699  |  \u001b[94m  0.015807\u001b[0m  |  \u001b[32m  0.025496\u001b[0m  |     0.619991  |             |  0.2s"
       ]
      },
      {
       "output_type": "stream",
       "stream": "stdout",
       "text": [
        "\n",
        "   700  |  \u001b[94m  0.015794\u001b[0m  |  \u001b[32m  0.025495\u001b[0m  |     0.619502  |             |  0.2s"
       ]
      },
      {
       "output_type": "stream",
       "stream": "stdout",
       "text": [
        "\n",
        "   701  |  \u001b[94m  0.015781\u001b[0m  |  \u001b[32m  0.025493\u001b[0m  |     0.619024  |             |  0.2s"
       ]
      },
      {
       "output_type": "stream",
       "stream": "stdout",
       "text": [
        "\n",
        "   702  |  \u001b[94m  0.015768\u001b[0m  |  \u001b[32m  0.025491\u001b[0m  |     0.618552  |             |  0.2s"
       ]
      },
      {
       "output_type": "stream",
       "stream": "stdout",
       "text": [
        "\n",
        "   703  |  \u001b[94m  0.015754\u001b[0m  |  \u001b[32m  0.025489\u001b[0m  |     0.618075  |             |  0.2s"
       ]
      },
      {
       "output_type": "stream",
       "stream": "stdout",
       "text": [
        "\n",
        "   704  |  \u001b[94m  0.015741\u001b[0m  |  \u001b[32m  0.025488\u001b[0m  |     0.617595  |             |  0.2s"
       ]
      },
      {
       "output_type": "stream",
       "stream": "stdout",
       "text": [
        "\n",
        "   705  |  \u001b[94m  0.015728\u001b[0m  |  \u001b[32m  0.025486\u001b[0m  |     0.617131  |             |  0.2s"
       ]
      },
      {
       "output_type": "stream",
       "stream": "stdout",
       "text": [
        "\n",
        "   706  |  \u001b[94m  0.015715\u001b[0m  |  \u001b[32m  0.025484\u001b[0m  |     0.616655  |             |  0.2s"
       ]
      },
      {
       "output_type": "stream",
       "stream": "stdout",
       "text": [
        "\n",
        "   707  |  \u001b[94m  0.015702\u001b[0m  |  \u001b[32m  0.025483\u001b[0m  |     0.616169  |             |  0.2s"
       ]
      },
      {
       "output_type": "stream",
       "stream": "stdout",
       "text": [
        "\n",
        "   708  |  \u001b[94m  0.015689\u001b[0m  |  \u001b[32m  0.025481\u001b[0m  |     0.615690  |             |  0.2s"
       ]
      },
      {
       "output_type": "stream",
       "stream": "stdout",
       "text": [
        "\n",
        "   709  |  \u001b[94m  0.015675\u001b[0m  |  \u001b[32m  0.025479\u001b[0m  |     0.615218  |             |  0.2s"
       ]
      },
      {
       "output_type": "stream",
       "stream": "stdout",
       "text": [
        "\n",
        "   710  |  \u001b[94m  0.015662\u001b[0m  |  \u001b[32m  0.025478\u001b[0m  |     0.614734  |             |  0.2s"
       ]
      },
      {
       "output_type": "stream",
       "stream": "stdout",
       "text": [
        "\n",
        "   711  |  \u001b[94m  0.015649\u001b[0m  |  \u001b[32m  0.025477\u001b[0m  |     0.614263  |             |  0.2s"
       ]
      },
      {
       "output_type": "stream",
       "stream": "stdout",
       "text": [
        "\n",
        "   712  |  \u001b[94m  0.015636\u001b[0m  |  \u001b[32m  0.025475\u001b[0m  |     0.613781  |             |  0.2s"
       ]
      },
      {
       "output_type": "stream",
       "stream": "stdout",
       "text": [
        "\n",
        "   713  |  \u001b[94m  0.015623\u001b[0m  |  \u001b[32m  0.025474\u001b[0m  |     0.613304  |             |  0.2s"
       ]
      },
      {
       "output_type": "stream",
       "stream": "stdout",
       "text": [
        "\n",
        "   714  |  \u001b[94m  0.015610\u001b[0m  |  \u001b[32m  0.025473\u001b[0m  |     0.612821  |             |  0.2s"
       ]
      },
      {
       "output_type": "stream",
       "stream": "stdout",
       "text": [
        "\n",
        "   715  |  \u001b[94m  0.015597\u001b[0m  |  \u001b[32m  0.025471\u001b[0m  |     0.612347  |             |  0.2s"
       ]
      },
      {
       "output_type": "stream",
       "stream": "stdout",
       "text": [
        "\n",
        "   716  |  \u001b[94m  0.015584\u001b[0m  |  \u001b[32m  0.025470\u001b[0m  |     0.611873  |             |  0.2s"
       ]
      },
      {
       "output_type": "stream",
       "stream": "stdout",
       "text": [
        "\n",
        "   717  |  \u001b[94m  0.015571\u001b[0m  |  \u001b[32m  0.025468\u001b[0m  |     0.611390  |             |  0.2s"
       ]
      },
      {
       "output_type": "stream",
       "stream": "stdout",
       "text": [
        "\n",
        "   718  |  \u001b[94m  0.015558\u001b[0m  |  \u001b[32m  0.025467\u001b[0m  |     0.610918  |             |  0.2s"
       ]
      },
      {
       "output_type": "stream",
       "stream": "stdout",
       "text": [
        "\n",
        "   719  |  \u001b[94m  0.015545\u001b[0m  |  \u001b[32m  0.025466\u001b[0m  |     0.610440  |             |  0.2s"
       ]
      },
      {
       "output_type": "stream",
       "stream": "stdout",
       "text": [
        "\n",
        "   720  |  \u001b[94m  0.015532\u001b[0m  |  \u001b[32m  0.025464\u001b[0m  |     0.609958  |             |  0.2s"
       ]
      },
      {
       "output_type": "stream",
       "stream": "stdout",
       "text": [
        "\n",
        "   721  |  \u001b[94m  0.015519\u001b[0m  |  \u001b[32m  0.025463\u001b[0m  |     0.609489  |             |  0.2s"
       ]
      },
      {
       "output_type": "stream",
       "stream": "stdout",
       "text": [
        "\n",
        "   722  |  \u001b[94m  0.015506\u001b[0m  |  \u001b[32m  0.025462\u001b[0m  |     0.609007  |             |  0.2s"
       ]
      },
      {
       "output_type": "stream",
       "stream": "stdout",
       "text": [
        "\n",
        "   723  |  \u001b[94m  0.015493\u001b[0m  |  \u001b[32m  0.025460\u001b[0m  |     0.608532  |             |  0.2s"
       ]
      },
      {
       "output_type": "stream",
       "stream": "stdout",
       "text": [
        "\n",
        "   724  |  \u001b[94m  0.015480\u001b[0m  |  \u001b[32m  0.025459\u001b[0m  |     0.608061  |             |  0.2s"
       ]
      },
      {
       "output_type": "stream",
       "stream": "stdout",
       "text": [
        "\n",
        "   725  |  \u001b[94m  0.015468\u001b[0m  |  \u001b[32m  0.025457\u001b[0m  |     0.607584  |             |  0.2s"
       ]
      },
      {
       "output_type": "stream",
       "stream": "stdout",
       "text": [
        "\n",
        "   726  |  \u001b[94m  0.015455\u001b[0m  |  \u001b[32m  0.025457\u001b[0m  |     0.607101  |             |  0.2s"
       ]
      },
      {
       "output_type": "stream",
       "stream": "stdout",
       "text": [
        "\n",
        "   727  |  \u001b[94m  0.015442\u001b[0m  |  \u001b[32m  0.025455\u001b[0m  |     0.606641  |             |  0.2s"
       ]
      },
      {
       "output_type": "stream",
       "stream": "stdout",
       "text": [
        "\n",
        "   728  |  \u001b[94m  0.015429\u001b[0m  |  \u001b[32m  0.025453\u001b[0m  |     0.606169  |             |  0.2s"
       ]
      },
      {
       "output_type": "stream",
       "stream": "stdout",
       "text": [
        "\n",
        "   729  |  \u001b[94m  0.015416\u001b[0m  |  \u001b[32m  0.025452\u001b[0m  |     0.605709  |             |  0.2s"
       ]
      },
      {
       "output_type": "stream",
       "stream": "stdout",
       "text": [
        "\n",
        "   730  |  \u001b[94m  0.015404\u001b[0m  |  \u001b[32m  0.025451\u001b[0m  |     0.605233  |             |  0.2s"
       ]
      },
      {
       "output_type": "stream",
       "stream": "stdout",
       "text": [
        "\n",
        "   731  |  \u001b[94m  0.015391\u001b[0m  |  \u001b[32m  0.025449\u001b[0m  |     0.604766  |             |  0.2s"
       ]
      },
      {
       "output_type": "stream",
       "stream": "stdout",
       "text": [
        "\n",
        "   732  |  \u001b[94m  0.015378\u001b[0m  |  \u001b[32m  0.025448\u001b[0m  |     0.604297  |             |  0.2s"
       ]
      },
      {
       "output_type": "stream",
       "stream": "stdout",
       "text": [
        "\n",
        "   733  |  \u001b[94m  0.015365\u001b[0m  |  \u001b[32m  0.025447\u001b[0m  |     0.603828  |             |  0.2s"
       ]
      },
      {
       "output_type": "stream",
       "stream": "stdout",
       "text": [
        "\n",
        "   734  |  \u001b[94m  0.015353\u001b[0m  |  \u001b[32m  0.025445\u001b[0m  |     0.603368  |             |  0.2s"
       ]
      },
      {
       "output_type": "stream",
       "stream": "stdout",
       "text": [
        "\n",
        "   735  |  \u001b[94m  0.015340\u001b[0m  |  \u001b[32m  0.025444\u001b[0m  |     0.602902  |             |  0.2s"
       ]
      },
      {
       "output_type": "stream",
       "stream": "stdout",
       "text": [
        "\n",
        "   736  |  \u001b[94m  0.015327\u001b[0m  |  \u001b[32m  0.025442\u001b[0m  |     0.602442  |             |  0.2s"
       ]
      },
      {
       "output_type": "stream",
       "stream": "stdout",
       "text": [
        "\n",
        "   737  |  \u001b[94m  0.015315\u001b[0m  |  \u001b[32m  0.025441\u001b[0m  |     0.601964  |             |  0.2s"
       ]
      },
      {
       "output_type": "stream",
       "stream": "stdout",
       "text": [
        "\n",
        "   738  |  \u001b[94m  0.015302\u001b[0m  |  \u001b[32m  0.025440\u001b[0m  |     0.601496  |             |  0.2s"
       ]
      },
      {
       "output_type": "stream",
       "stream": "stdout",
       "text": [
        "\n",
        "   739  |  \u001b[94m  0.015289\u001b[0m  |  \u001b[32m  0.025439\u001b[0m  |     0.601032  |             |  0.2s"
       ]
      },
      {
       "output_type": "stream",
       "stream": "stdout",
       "text": [
        "\n",
        "   740  |  \u001b[94m  0.015277\u001b[0m  |  \u001b[32m  0.025437\u001b[0m  |     0.600565  |             |  0.2s"
       ]
      },
      {
       "output_type": "stream",
       "stream": "stdout",
       "text": [
        "\n",
        "   741  |  \u001b[94m  0.015264\u001b[0m  |  \u001b[32m  0.025436\u001b[0m  |     0.600094  |             |  0.2s"
       ]
      },
      {
       "output_type": "stream",
       "stream": "stdout",
       "text": [
        "\n",
        "   742  |  \u001b[94m  0.015252\u001b[0m  |  \u001b[32m  0.025435\u001b[0m  |     0.599627  |             |  0.2s"
       ]
      },
      {
       "output_type": "stream",
       "stream": "stdout",
       "text": [
        "\n",
        "   743  |  \u001b[94m  0.015239\u001b[0m  |  \u001b[32m  0.025434\u001b[0m  |     0.599151  |             |  0.2s"
       ]
      },
      {
       "output_type": "stream",
       "stream": "stdout",
       "text": [
        "\n",
        "   744  |  \u001b[94m  0.015226\u001b[0m  |  \u001b[32m  0.025433\u001b[0m  |     0.598693  |             |  0.2s"
       ]
      },
      {
       "output_type": "stream",
       "stream": "stdout",
       "text": [
        "\n",
        "   745  |  \u001b[94m  0.015214\u001b[0m  |  \u001b[32m  0.025432\u001b[0m  |     0.598228  |             |  0.2s"
       ]
      },
      {
       "output_type": "stream",
       "stream": "stdout",
       "text": [
        "\n",
        "   746  |  \u001b[94m  0.015201\u001b[0m  |  \u001b[32m  0.025431\u001b[0m  |     0.597762  |             |  0.2s"
       ]
      },
      {
       "output_type": "stream",
       "stream": "stdout",
       "text": [
        "\n",
        "   747  |  \u001b[94m  0.015189\u001b[0m  |  \u001b[32m  0.025429\u001b[0m  |     0.597298  |             |  0.2s"
       ]
      },
      {
       "output_type": "stream",
       "stream": "stdout",
       "text": [
        "\n",
        "   748  |  \u001b[94m  0.015176\u001b[0m  |  \u001b[32m  0.025428\u001b[0m  |     0.596834  |             |  0.2s"
       ]
      },
      {
       "output_type": "stream",
       "stream": "stdout",
       "text": [
        "\n",
        "   749  |  \u001b[94m  0.015164\u001b[0m  |  \u001b[32m  0.025427\u001b[0m  |     0.596378  |             |  0.2s"
       ]
      },
      {
       "output_type": "stream",
       "stream": "stdout",
       "text": [
        "\n",
        "   750  |  \u001b[94m  0.015152\u001b[0m  |  \u001b[32m  0.025426\u001b[0m  |     0.595918  |             |  0.2s"
       ]
      },
      {
       "output_type": "stream",
       "stream": "stdout",
       "text": [
        "\n",
        "   751  |  \u001b[94m  0.015139\u001b[0m  |  \u001b[32m  0.025425\u001b[0m  |     0.595458  |             |  0.2s"
       ]
      },
      {
       "output_type": "stream",
       "stream": "stdout",
       "text": [
        "\n",
        "   752  |  \u001b[94m  0.015127\u001b[0m  |  \u001b[32m  0.025423\u001b[0m  |     0.595001  |             |  0.2s"
       ]
      },
      {
       "output_type": "stream",
       "stream": "stdout",
       "text": [
        "\n",
        "   753  |  \u001b[94m  0.015114\u001b[0m  |  \u001b[32m  0.025422\u001b[0m  |     0.594540  |             |  0.2s"
       ]
      },
      {
       "output_type": "stream",
       "stream": "stdout",
       "text": [
        "\n",
        "   754  |  \u001b[94m  0.015102\u001b[0m  |  \u001b[32m  0.025421\u001b[0m  |     0.594070  |             |  0.2s"
       ]
      },
      {
       "output_type": "stream",
       "stream": "stdout",
       "text": [
        "\n",
        "   755  |  \u001b[94m  0.015090\u001b[0m  |  \u001b[32m  0.025421\u001b[0m  |     0.593603  |             |  0.2s"
       ]
      },
      {
       "output_type": "stream",
       "stream": "stdout",
       "text": [
        "\n",
        "   756  |  \u001b[94m  0.015077\u001b[0m  |  \u001b[32m  0.025419\u001b[0m  |     0.593151  |             |  0.2s"
       ]
      },
      {
       "output_type": "stream",
       "stream": "stdout",
       "text": [
        "\n",
        "   757  |  \u001b[94m  0.015065\u001b[0m  |  \u001b[32m  0.025418\u001b[0m  |     0.592689  |             |  0.2s"
       ]
      },
      {
       "output_type": "stream",
       "stream": "stdout",
       "text": [
        "\n",
        "   758  |  \u001b[94m  0.015053\u001b[0m  |  \u001b[32m  0.025417\u001b[0m  |     0.592234  |             |  0.2s"
       ]
      },
      {
       "output_type": "stream",
       "stream": "stdout",
       "text": [
        "\n",
        "   759  |  \u001b[94m  0.015041\u001b[0m  |  \u001b[32m  0.025416\u001b[0m  |     0.591775  |             |  0.2s"
       ]
      },
      {
       "output_type": "stream",
       "stream": "stdout",
       "text": [
        "\n",
        "   760  |  \u001b[94m  0.015028\u001b[0m  |  \u001b[32m  0.025415\u001b[0m  |     0.591319  |             |  0.2s"
       ]
      },
      {
       "output_type": "stream",
       "stream": "stdout",
       "text": [
        "\n",
        "   761  |  \u001b[94m  0.015016\u001b[0m  |  \u001b[32m  0.025414\u001b[0m  |     0.590857  |             |  0.2s"
       ]
      },
      {
       "output_type": "stream",
       "stream": "stdout",
       "text": [
        "\n",
        "   762  |  \u001b[94m  0.015004\u001b[0m  |  \u001b[32m  0.025413\u001b[0m  |     0.590402  |             |  0.2s"
       ]
      },
      {
       "output_type": "stream",
       "stream": "stdout",
       "text": [
        "\n",
        "   763  |  \u001b[94m  0.014992\u001b[0m  |  \u001b[32m  0.025412\u001b[0m  |     0.589941  |             |  0.2s"
       ]
      },
      {
       "output_type": "stream",
       "stream": "stdout",
       "text": [
        "\n",
        "   764  |  \u001b[94m  0.014980\u001b[0m  |  \u001b[32m  0.025411\u001b[0m  |     0.589481  |             |  0.2s"
       ]
      },
      {
       "output_type": "stream",
       "stream": "stdout",
       "text": [
        "\n",
        "   765  |  \u001b[94m  0.014967\u001b[0m  |  \u001b[32m  0.025410\u001b[0m  |     0.589033  |             |  0.2s"
       ]
      },
      {
       "output_type": "stream",
       "stream": "stdout",
       "text": [
        "\n",
        "   766  |  \u001b[94m  0.014955\u001b[0m  |  \u001b[32m  0.025409\u001b[0m  |     0.588579  |             |  0.2s"
       ]
      },
      {
       "output_type": "stream",
       "stream": "stdout",
       "text": [
        "\n",
        "   767  |  \u001b[94m  0.014943\u001b[0m  |  \u001b[32m  0.025408\u001b[0m  |     0.588122  |             |  0.2s"
       ]
      },
      {
       "output_type": "stream",
       "stream": "stdout",
       "text": [
        "\n",
        "   768  |  \u001b[94m  0.014931\u001b[0m  |  \u001b[32m  0.025407\u001b[0m  |     0.587670  |             |  0.2s"
       ]
      },
      {
       "output_type": "stream",
       "stream": "stdout",
       "text": [
        "\n",
        "   769  |  \u001b[94m  0.014919\u001b[0m  |  \u001b[32m  0.025406\u001b[0m  |     0.587226  |             |  0.2s"
       ]
      },
      {
       "output_type": "stream",
       "stream": "stdout",
       "text": [
        "\n",
        "   770  |  \u001b[94m  0.014907\u001b[0m  |  \u001b[32m  0.025405\u001b[0m  |     0.586763  |             |  0.2s"
       ]
      },
      {
       "output_type": "stream",
       "stream": "stdout",
       "text": [
        "\n",
        "   771  |  \u001b[94m  0.014895\u001b[0m  |  \u001b[32m  0.025404\u001b[0m  |     0.586311  |             |  0.2s"
       ]
      },
      {
       "output_type": "stream",
       "stream": "stdout",
       "text": [
        "\n",
        "   772  |  \u001b[94m  0.014883\u001b[0m  |  \u001b[32m  0.025404\u001b[0m  |     0.585854  |             |  0.2s"
       ]
      },
      {
       "output_type": "stream",
       "stream": "stdout",
       "text": [
        "\n",
        "   773  |  \u001b[94m  0.014871\u001b[0m  |  \u001b[32m  0.025403\u001b[0m  |     0.585404  |             |  0.2s"
       ]
      },
      {
       "output_type": "stream",
       "stream": "stdout",
       "text": [
        "\n",
        "   774  |  \u001b[94m  0.014859\u001b[0m  |  \u001b[32m  0.025402\u001b[0m  |     0.584940  |             |  0.2s"
       ]
      },
      {
       "output_type": "stream",
       "stream": "stdout",
       "text": [
        "\n",
        "   775  |  \u001b[94m  0.014847\u001b[0m  |  \u001b[32m  0.025402\u001b[0m  |     0.584482  |             |  0.2s"
       ]
      },
      {
       "output_type": "stream",
       "stream": "stdout",
       "text": [
        "\n",
        "   776  |  \u001b[94m  0.014835\u001b[0m  |  \u001b[32m  0.025401\u001b[0m  |     0.584029  |             |  0.2s"
       ]
      },
      {
       "output_type": "stream",
       "stream": "stdout",
       "text": [
        "\n",
        "   777  |  \u001b[94m  0.014823\u001b[0m  |  \u001b[32m  0.025400\u001b[0m  |     0.583573  |             |  0.2s"
       ]
      },
      {
       "output_type": "stream",
       "stream": "stdout",
       "text": [
        "\n",
        "   778  |  \u001b[94m  0.014811\u001b[0m  |  \u001b[32m  0.025399\u001b[0m  |     0.583115  |             |  0.2s"
       ]
      },
      {
       "output_type": "stream",
       "stream": "stdout",
       "text": [
        "\n",
        "   779  |  \u001b[94m  0.014799\u001b[0m  |  \u001b[32m  0.025398\u001b[0m  |     0.582664  |             |  0.2s"
       ]
      },
      {
       "output_type": "stream",
       "stream": "stdout",
       "text": [
        "\n",
        "   780  |  \u001b[94m  0.014787\u001b[0m  |  \u001b[32m  0.025398\u001b[0m  |     0.582207  |             |  0.2s"
       ]
      },
      {
       "output_type": "stream",
       "stream": "stdout",
       "text": [
        "\n",
        "   781  |  \u001b[94m  0.014775\u001b[0m  |  \u001b[32m  0.025397\u001b[0m  |     0.581761  |             |  0.2s"
       ]
      },
      {
       "output_type": "stream",
       "stream": "stdout",
       "text": [
        "\n",
        "   782  |  \u001b[94m  0.014763\u001b[0m  |  \u001b[32m  0.025396\u001b[0m  |     0.581307  |             |  0.2s"
       ]
      },
      {
       "output_type": "stream",
       "stream": "stdout",
       "text": [
        "\n",
        "   783  |  \u001b[94m  0.014751\u001b[0m  |  \u001b[32m  0.025396\u001b[0m  |     0.580850  |             |  0.2s"
       ]
      },
      {
       "output_type": "stream",
       "stream": "stdout",
       "text": [
        "\n",
        "   784  |  \u001b[94m  0.014739\u001b[0m  |  \u001b[32m  0.025395\u001b[0m  |     0.580401  |             |  0.2s"
       ]
      },
      {
       "output_type": "stream",
       "stream": "stdout",
       "text": [
        "\n",
        "   785  |  \u001b[94m  0.014727\u001b[0m  |  \u001b[32m  0.025394\u001b[0m  |     0.579947  |             |  0.2s"
       ]
      },
      {
       "output_type": "stream",
       "stream": "stdout",
       "text": [
        "\n",
        "   786  |  \u001b[94m  0.014716\u001b[0m  |  \u001b[32m  0.025394\u001b[0m  |     0.579496  |             |  0.2s"
       ]
      },
      {
       "output_type": "stream",
       "stream": "stdout",
       "text": [
        "\n",
        "   787  |  \u001b[94m  0.014704\u001b[0m  |  \u001b[32m  0.025393\u001b[0m  |     0.579044  |             |  0.2s"
       ]
      },
      {
       "output_type": "stream",
       "stream": "stdout",
       "text": [
        "\n",
        "   788  |  \u001b[94m  0.014692\u001b[0m  |  \u001b[32m  0.025392\u001b[0m  |     0.578595  |             |  0.2s"
       ]
      },
      {
       "output_type": "stream",
       "stream": "stdout",
       "text": [
        "\n",
        "   789  |  \u001b[94m  0.014680\u001b[0m  |  \u001b[32m  0.025392\u001b[0m  |     0.578142  |             |  0.2s"
       ]
      },
      {
       "output_type": "stream",
       "stream": "stdout",
       "text": [
        "\n",
        "   790  |  \u001b[94m  0.014668\u001b[0m  |  \u001b[32m  0.025391\u001b[0m  |     0.577698  |             |  0.2s"
       ]
      },
      {
       "output_type": "stream",
       "stream": "stdout",
       "text": [
        "\n",
        "   791  |  \u001b[94m  0.014657\u001b[0m  |  \u001b[32m  0.025390\u001b[0m  |     0.577248  |             |  0.2s"
       ]
      },
      {
       "output_type": "stream",
       "stream": "stdout",
       "text": [
        "\n",
        "   792  |  \u001b[94m  0.014645\u001b[0m  |  \u001b[32m  0.025390\u001b[0m  |     0.576794  |             |  0.2s"
       ]
      },
      {
       "output_type": "stream",
       "stream": "stdout",
       "text": [
        "\n",
        "   793  |  \u001b[94m  0.014633\u001b[0m  |  \u001b[32m  0.025389\u001b[0m  |     0.576353  |             |  0.2s"
       ]
      },
      {
       "output_type": "stream",
       "stream": "stdout",
       "text": [
        "\n",
        "   794  |  \u001b[94m  0.014621\u001b[0m  |  \u001b[32m  0.025389\u001b[0m  |     0.575898  |             |  0.2s"
       ]
      },
      {
       "output_type": "stream",
       "stream": "stdout",
       "text": [
        "\n",
        "   795  |  \u001b[94m  0.014610\u001b[0m  |  \u001b[32m  0.025388\u001b[0m  |     0.575453  |             |  0.2s"
       ]
      },
      {
       "output_type": "stream",
       "stream": "stdout",
       "text": [
        "\n",
        "   796  |  \u001b[94m  0.014598\u001b[0m  |  \u001b[32m  0.025388\u001b[0m  |     0.575003  |             |  0.2s"
       ]
      },
      {
       "output_type": "stream",
       "stream": "stdout",
       "text": [
        "\n",
        "   797  |  \u001b[94m  0.014586\u001b[0m  |  \u001b[32m  0.025387\u001b[0m  |     0.574560  |             |  0.2s"
       ]
      },
      {
       "output_type": "stream",
       "stream": "stdout",
       "text": [
        "\n",
        "   798  |  \u001b[94m  0.014575\u001b[0m  |  \u001b[32m  0.025386\u001b[0m  |     0.574120  |             |  0.2s"
       ]
      },
      {
       "output_type": "stream",
       "stream": "stdout",
       "text": [
        "\n",
        "   799  |  \u001b[94m  0.014563\u001b[0m  |  \u001b[32m  0.025386\u001b[0m  |     0.573667  |             |  0.2s"
       ]
      },
      {
       "output_type": "stream",
       "stream": "stdout",
       "text": [
        "\n",
        "   800  |  \u001b[94m  0.014552\u001b[0m  |  \u001b[32m  0.025385\u001b[0m  |     0.573230  |             |  0.2s"
       ]
      },
      {
       "output_type": "stream",
       "stream": "stdout",
       "text": [
        "\n",
        "   801  |  \u001b[94m  0.014540\u001b[0m  |  \u001b[32m  0.025385\u001b[0m  |     0.572787  |             |  0.2s"
       ]
      },
      {
       "output_type": "stream",
       "stream": "stdout",
       "text": [
        "\n",
        "   802  |  \u001b[94m  0.014528\u001b[0m  |  \u001b[32m  0.025384\u001b[0m  |     0.572339  |             |  0.2s"
       ]
      },
      {
       "output_type": "stream",
       "stream": "stdout",
       "text": [
        "\n",
        "   803  |  \u001b[94m  0.014517\u001b[0m  |  \u001b[32m  0.025384\u001b[0m  |     0.571892  |             |  0.2s"
       ]
      },
      {
       "output_type": "stream",
       "stream": "stdout",
       "text": [
        "\n",
        "   804  |  \u001b[94m  0.014505\u001b[0m  |  \u001b[32m  0.025383\u001b[0m  |     0.571454  |             |  0.2s"
       ]
      },
      {
       "output_type": "stream",
       "stream": "stdout",
       "text": [
        "\n",
        "   805  |  \u001b[94m  0.014494\u001b[0m  |  \u001b[32m  0.025383\u001b[0m  |     0.571018  |             |  0.2s"
       ]
      },
      {
       "output_type": "stream",
       "stream": "stdout",
       "text": [
        "\n",
        "   806  |  \u001b[94m  0.014483\u001b[0m  |  \u001b[32m  0.025382\u001b[0m  |     0.570574  |             |  0.2s"
       ]
      },
      {
       "output_type": "stream",
       "stream": "stdout",
       "text": [
        "\n",
        "   807  |  \u001b[94m  0.014471\u001b[0m  |  \u001b[32m  0.025382\u001b[0m  |     0.570136  |             |  0.2s"
       ]
      },
      {
       "output_type": "stream",
       "stream": "stdout",
       "text": [
        "\n",
        "   808  |  \u001b[94m  0.014460\u001b[0m  |  \u001b[32m  0.025381\u001b[0m  |     0.569702  |             |  0.2s"
       ]
      },
      {
       "output_type": "stream",
       "stream": "stdout",
       "text": [
        "\n",
        "   809  |  \u001b[94m  0.014448\u001b[0m  |  \u001b[32m  0.025381\u001b[0m  |     0.569258  |             |  0.2s"
       ]
      },
      {
       "output_type": "stream",
       "stream": "stdout",
       "text": [
        "\n",
        "   810  |  \u001b[94m  0.014437\u001b[0m  |  \u001b[32m  0.025381\u001b[0m  |     0.568820  |             |  0.2s"
       ]
      },
      {
       "output_type": "stream",
       "stream": "stdout",
       "text": [
        "\n",
        "   811  |  \u001b[94m  0.014426\u001b[0m  |  \u001b[32m  0.025380\u001b[0m  |     0.568384  |             |  0.2s"
       ]
      },
      {
       "output_type": "stream",
       "stream": "stdout",
       "text": [
        "\n",
        "   812  |  \u001b[94m  0.014414\u001b[0m  |  \u001b[32m  0.025380\u001b[0m  |     0.567945  |             |  0.2s"
       ]
      },
      {
       "output_type": "stream",
       "stream": "stdout",
       "text": [
        "\n",
        "   813  |  \u001b[94m  0.014403\u001b[0m  |  \u001b[32m  0.025379\u001b[0m  |     0.567511  |             |  0.2s"
       ]
      },
      {
       "output_type": "stream",
       "stream": "stdout",
       "text": [
        "\n",
        "   814  |  \u001b[94m  0.014392\u001b[0m  |  \u001b[32m  0.025379\u001b[0m  |     0.567076  |             |  0.2s"
       ]
      },
      {
       "output_type": "stream",
       "stream": "stdout",
       "text": [
        "\n",
        "   815  |  \u001b[94m  0.014381\u001b[0m  |  \u001b[32m  0.025378\u001b[0m  |     0.566643  |             |  0.2s"
       ]
      },
      {
       "output_type": "stream",
       "stream": "stdout",
       "text": [
        "\n",
        "   816  |  \u001b[94m  0.014369\u001b[0m  |  \u001b[32m  0.025378\u001b[0m  |     0.566207  |             |  0.2s"
       ]
      },
      {
       "output_type": "stream",
       "stream": "stdout",
       "text": [
        "\n",
        "   817  |  \u001b[94m  0.014358\u001b[0m  |  \u001b[32m  0.025377\u001b[0m  |     0.565781  |             |  0.2s"
       ]
      },
      {
       "output_type": "stream",
       "stream": "stdout",
       "text": [
        "\n",
        "   818  |  \u001b[94m  0.014347\u001b[0m  |  \u001b[32m  0.025377\u001b[0m  |     0.565347  |             |  0.2s"
       ]
      },
      {
       "output_type": "stream",
       "stream": "stdout",
       "text": [
        "\n",
        "   819  |  \u001b[94m  0.014336\u001b[0m  |  \u001b[32m  0.025377\u001b[0m  |     0.564919  |             |  0.2s"
       ]
      },
      {
       "output_type": "stream",
       "stream": "stdout",
       "text": [
        "\n",
        "   820  |  \u001b[94m  0.014325\u001b[0m  |  \u001b[32m  0.025376\u001b[0m  |     0.564484  |             |  0.2s"
       ]
      },
      {
       "output_type": "stream",
       "stream": "stdout",
       "text": [
        "\n",
        "   821  |  \u001b[94m  0.014313\u001b[0m  |  \u001b[32m  0.025376\u001b[0m  |     0.564055  |             |  0.2s"
       ]
      },
      {
       "output_type": "stream",
       "stream": "stdout",
       "text": [
        "\n",
        "   822  |  \u001b[94m  0.014302\u001b[0m  |  \u001b[32m  0.025376\u001b[0m  |     0.563626  |             |  0.2s"
       ]
      },
      {
       "output_type": "stream",
       "stream": "stdout",
       "text": [
        "\n",
        "   823  |  \u001b[94m  0.014291\u001b[0m  |  \u001b[32m  0.025375\u001b[0m  |     0.563191  |             |  0.2s"
       ]
      },
      {
       "output_type": "stream",
       "stream": "stdout",
       "text": [
        "\n",
        "   824  |  \u001b[94m  0.014280\u001b[0m  |  \u001b[32m  0.025375\u001b[0m  |     0.562761  |             |  0.2s"
       ]
      },
      {
       "output_type": "stream",
       "stream": "stdout",
       "text": [
        "\n",
        "   825  |  \u001b[94m  0.014269\u001b[0m  |  \u001b[32m  0.025375\u001b[0m  |     0.562332  |             |  0.2s"
       ]
      },
      {
       "output_type": "stream",
       "stream": "stdout",
       "text": [
        "\n",
        "   826  |  \u001b[94m  0.014258\u001b[0m  |    0.025375  |     0.561896  |             |  0.2s"
       ]
      },
      {
       "output_type": "stream",
       "stream": "stdout",
       "text": [
        "\n",
        "   827  |  \u001b[94m  0.014247\u001b[0m  |  \u001b[32m  0.025374\u001b[0m  |     0.561471  |             |  0.2s"
       ]
      },
      {
       "output_type": "stream",
       "stream": "stdout",
       "text": [
        "\n",
        "   828  |  \u001b[94m  0.014236\u001b[0m  |  \u001b[32m  0.025374\u001b[0m  |     0.561042  |             |  0.2s"
       ]
      },
      {
       "output_type": "stream",
       "stream": "stdout",
       "text": [
        "\n",
        "   829  |  \u001b[94m  0.014225\u001b[0m  |  \u001b[32m  0.025373\u001b[0m  |     0.560620  |             |  0.2s"
       ]
      },
      {
       "output_type": "stream",
       "stream": "stdout",
       "text": [
        "\n",
        "   830  |  \u001b[94m  0.014214\u001b[0m  |  \u001b[32m  0.025373\u001b[0m  |     0.560193  |             |  0.2s"
       ]
      },
      {
       "output_type": "stream",
       "stream": "stdout",
       "text": [
        "\n",
        "   831  |  \u001b[94m  0.014203\u001b[0m  |  \u001b[32m  0.025373\u001b[0m  |     0.559761  |             |  0.2s"
       ]
      },
      {
       "output_type": "stream",
       "stream": "stdout",
       "text": [
        "\n",
        "   832  |  \u001b[94m  0.014192\u001b[0m  |  \u001b[32m  0.025373\u001b[0m  |     0.559333  |             |  0.2s"
       ]
      },
      {
       "output_type": "stream",
       "stream": "stdout",
       "text": [
        "\n",
        "   833  |  \u001b[94m  0.014181\u001b[0m  |  \u001b[32m  0.025372\u001b[0m  |     0.558907  |             |  0.2s"
       ]
      },
      {
       "output_type": "stream",
       "stream": "stdout",
       "text": [
        "\n",
        "   834  |  \u001b[94m  0.014170\u001b[0m  |  \u001b[32m  0.025372\u001b[0m  |     0.558482  |             |  0.2s"
       ]
      },
      {
       "output_type": "stream",
       "stream": "stdout",
       "text": [
        "\n",
        "   835  |  \u001b[94m  0.014159\u001b[0m  |  \u001b[32m  0.025372\u001b[0m  |     0.558055  |             |  0.2s"
       ]
      },
      {
       "output_type": "stream",
       "stream": "stdout",
       "text": [
        "\n",
        "   836  |  \u001b[94m  0.014148\u001b[0m  |  \u001b[32m  0.025372\u001b[0m  |     0.557627  |             |  0.2s"
       ]
      },
      {
       "output_type": "stream",
       "stream": "stdout",
       "text": [
        "\n",
        "   837  |  \u001b[94m  0.014137\u001b[0m  |  \u001b[32m  0.025371\u001b[0m  |     0.557202  |             |  0.2s"
       ]
      },
      {
       "output_type": "stream",
       "stream": "stdout",
       "text": [
        "\n",
        "   838  |  \u001b[94m  0.014126\u001b[0m  |  \u001b[32m  0.025371\u001b[0m  |     0.556776  |             |  0.2s"
       ]
      },
      {
       "output_type": "stream",
       "stream": "stdout",
       "text": [
        "\n",
        "   839  |  \u001b[94m  0.014115\u001b[0m  |    0.025371  |     0.556342  |             |  0.2s"
       ]
      },
      {
       "output_type": "stream",
       "stream": "stdout",
       "text": [
        "\n",
        "   840  |  \u001b[94m  0.014104\u001b[0m  |    0.025371  |     0.555918  |             |  0.2s"
       ]
      },
      {
       "output_type": "stream",
       "stream": "stdout",
       "text": [
        "\n",
        "   841  |  \u001b[94m  0.014093\u001b[0m  |  \u001b[32m  0.025371\u001b[0m  |     0.555492  |             |  0.2s"
       ]
      },
      {
       "output_type": "stream",
       "stream": "stdout",
       "text": [
        "\n",
        "   842  |  \u001b[94m  0.014083\u001b[0m  |  \u001b[32m  0.025371\u001b[0m  |     0.555071  |             |  0.2s"
       ]
      },
      {
       "output_type": "stream",
       "stream": "stdout",
       "text": [
        "\n",
        "   843  |  \u001b[94m  0.014072\u001b[0m  |    0.025371  |     0.554644  |             |  0.2s"
       ]
      },
      {
       "output_type": "stream",
       "stream": "stdout",
       "text": [
        "\n",
        "   844  |  \u001b[94m  0.014061\u001b[0m  |    0.025371  |     0.554218  |             |  0.2s"
       ]
      },
      {
       "output_type": "stream",
       "stream": "stdout",
       "text": [
        "\n",
        "   845  |  \u001b[94m  0.014050\u001b[0m  |  \u001b[32m  0.025371\u001b[0m  |     0.553798  |             |  0.2s"
       ]
      },
      {
       "output_type": "stream",
       "stream": "stdout",
       "text": [
        "\n",
        "   846  |  \u001b[94m  0.014040\u001b[0m  |    0.025371  |     0.553372  |             |  0.2s"
       ]
      },
      {
       "output_type": "stream",
       "stream": "stdout",
       "text": [
        "\n",
        "   847  |  \u001b[94m  0.014029\u001b[0m  |    0.025371  |     0.552949  |             |  0.2s"
       ]
      },
      {
       "output_type": "stream",
       "stream": "stdout",
       "text": [
        "\n",
        "   848  |  \u001b[94m  0.014018\u001b[0m  |    0.025371  |     0.552521  |             |  0.2s"
       ]
      },
      {
       "output_type": "stream",
       "stream": "stdout",
       "text": [
        "\n",
        "   849  |  \u001b[94m  0.014008\u001b[0m  |    0.025371  |     0.552101  |             |  0.2s"
       ]
      },
      {
       "output_type": "stream",
       "stream": "stdout",
       "text": [
        "\n",
        "   850  |  \u001b[94m  0.013997\u001b[0m  |    0.025371  |     0.551680  |             |  0.2s"
       ]
      },
      {
       "output_type": "stream",
       "stream": "stdout",
       "text": [
        "\n",
        "   851  |  \u001b[94m  0.013986\u001b[0m  |    0.025372  |     0.551256  |             |  0.2s"
       ]
      },
      {
       "output_type": "stream",
       "stream": "stdout",
       "text": [
        "\n",
        "   852  |  \u001b[94m  0.013976\u001b[0m  |    0.025372  |     0.550838  |             |  0.2s"
       ]
      },
      {
       "output_type": "stream",
       "stream": "stdout",
       "text": [
        "\n",
        "   853  |  \u001b[94m  0.013965\u001b[0m  |    0.025372  |     0.550414  |             |  0.2s"
       ]
      },
      {
       "output_type": "stream",
       "stream": "stdout",
       "text": [
        "\n",
        "   854  |  \u001b[94m  0.013954\u001b[0m  |    0.025372  |     0.549998  |             |  0.2s"
       ]
      },
      {
       "output_type": "stream",
       "stream": "stdout",
       "text": [
        "\n",
        "   855  |  \u001b[94m  0.013944\u001b[0m  |    0.025371  |     0.549589  |             |  0.2s"
       ]
      },
      {
       "output_type": "stream",
       "stream": "stdout",
       "text": [
        "\n",
        "   856  |  \u001b[94m  0.013933\u001b[0m  |    0.025372  |     0.549170  |             |  0.2s"
       ]
      },
      {
       "output_type": "stream",
       "stream": "stdout",
       "text": [
        "\n",
        "   857  |  \u001b[94m  0.013923\u001b[0m  |    0.025372  |     0.548753  |             |  0.2s"
       ]
      },
      {
       "output_type": "stream",
       "stream": "stdout",
       "text": [
        "\n",
        "   858  |  \u001b[94m  0.013912\u001b[0m  |    0.025372  |     0.548334  |             |  0.2s"
       ]
      },
      {
       "output_type": "stream",
       "stream": "stdout",
       "text": [
        "\n",
        "   859  |  \u001b[94m  0.013902\u001b[0m  |    0.025372  |     0.547919  |             |  0.2s"
       ]
      },
      {
       "output_type": "stream",
       "stream": "stdout",
       "text": [
        "\n",
        "   860  |  \u001b[94m  0.013891\u001b[0m  |    0.025372  |     0.547506  |             |  0.2s"
       ]
      },
      {
       "output_type": "stream",
       "stream": "stdout",
       "text": [
        "\n",
        "   861  |  \u001b[94m  0.013881\u001b[0m  |    0.025372  |     0.547099  |             |  0.2s"
       ]
      },
      {
       "output_type": "stream",
       "stream": "stdout",
       "text": [
        "\n",
        "   862  |  \u001b[94m  0.013871\u001b[0m  |    0.025373  |     0.546677  |             |  0.2s"
       ]
      },
      {
       "output_type": "stream",
       "stream": "stdout",
       "text": [
        "\n",
        "   863  |  \u001b[94m  0.013860\u001b[0m  |    0.025373  |     0.546265  |             |  0.2s"
       ]
      },
      {
       "output_type": "stream",
       "stream": "stdout",
       "text": [
        "\n",
        "   864  |  \u001b[94m  0.013850\u001b[0m  |    0.025372  |     0.545861  |             |  0.2s"
       ]
      },
      {
       "output_type": "stream",
       "stream": "stdout",
       "text": [
        "\n",
        "   865  |  \u001b[94m  0.013839\u001b[0m  |    0.025373  |     0.545452  |             |  0.2s"
       ]
      },
      {
       "output_type": "stream",
       "stream": "stdout",
       "text": [
        "\n",
        "   866  |  \u001b[94m  0.013829\u001b[0m  |    0.025373  |     0.545038  |             |  0.2s"
       ]
      },
      {
       "output_type": "stream",
       "stream": "stdout",
       "text": [
        "\n",
        "   867  |  \u001b[94m  0.013819\u001b[0m  |    0.025373  |     0.544621  |             |  0.2s"
       ]
      },
      {
       "output_type": "stream",
       "stream": "stdout",
       "text": [
        "\n",
        "   868  |  \u001b[94m  0.013809\u001b[0m  |    0.025374  |     0.544210  |             |  0.2s"
       ]
      },
      {
       "output_type": "stream",
       "stream": "stdout",
       "text": [
        "\n",
        "   869  |  \u001b[94m  0.013798\u001b[0m  |    0.025374  |     0.543807  |             |  0.2s"
       ]
      },
      {
       "output_type": "stream",
       "stream": "stdout",
       "text": [
        "\n",
        "   870  |  \u001b[94m  0.013788\u001b[0m  |    0.025374  |     0.543404  |             |  0.2s"
       ]
      },
      {
       "output_type": "stream",
       "stream": "stdout",
       "text": [
        "\n",
        "   871  |  \u001b[94m  0.013778\u001b[0m  |    0.025374  |     0.542994  |             |  0.2s"
       ]
      },
      {
       "output_type": "stream",
       "stream": "stdout",
       "text": [
        "\n",
        "   872  |  \u001b[94m  0.013768\u001b[0m  |    0.025374  |     0.542584  |             |  0.2s"
       ]
      },
      {
       "output_type": "stream",
       "stream": "stdout",
       "text": [
        "\n",
        "   873  |  \u001b[94m  0.013757\u001b[0m  |    0.025374  |     0.542180  |             |  0.2s"
       ]
      },
      {
       "output_type": "stream",
       "stream": "stdout",
       "text": [
        "\n",
        "   874  |  \u001b[94m  0.013747\u001b[0m  |    0.025375  |     0.541773  |             |  0.2s"
       ]
      },
      {
       "output_type": "stream",
       "stream": "stdout",
       "text": [
        "\n",
        "   875  |  \u001b[94m  0.013737\u001b[0m  |    0.025375  |     0.541368  |             |  0.2s"
       ]
      },
      {
       "output_type": "stream",
       "stream": "stdout",
       "text": [
        "\n",
        "   876  |  \u001b[94m  0.013727\u001b[0m  |    0.025375  |     0.540958  |             |  0.2s"
       ]
      },
      {
       "output_type": "stream",
       "stream": "stdout",
       "text": [
        "\n",
        "   877  |  \u001b[94m  0.013717\u001b[0m  |    0.025375  |     0.540563  |             |  0.2s"
       ]
      },
      {
       "output_type": "stream",
       "stream": "stdout",
       "text": [
        "\n",
        "   878  |  \u001b[94m  0.013707\u001b[0m  |    0.025375  |     0.540155  |             |  0.2s"
       ]
      },
      {
       "output_type": "stream",
       "stream": "stdout",
       "text": [
        "\n",
        "   879  |  \u001b[94m  0.013697\u001b[0m  |    0.025376  |     0.539751  |             |  0.2s"
       ]
      },
      {
       "output_type": "stream",
       "stream": "stdout",
       "text": [
        "\n",
        "   880  |  \u001b[94m  0.013686\u001b[0m  |    0.025376  |     0.539352  |             |  0.2s"
       ]
      },
      {
       "output_type": "stream",
       "stream": "stdout",
       "text": [
        "\n",
        "   881  |  \u001b[94m  0.013676\u001b[0m  |    0.025376  |     0.538939  |             |  0.2s"
       ]
      },
      {
       "output_type": "stream",
       "stream": "stdout",
       "text": [
        "\n",
        "   882  |  \u001b[94m  0.013666\u001b[0m  |    0.025377  |     0.538539  |             |  0.2s"
       ]
      },
      {
       "output_type": "stream",
       "stream": "stdout",
       "text": [
        "\n",
        "   883  |  \u001b[94m  0.013656\u001b[0m  |    0.025377  |     0.538137  |             |  0.2s"
       ]
      },
      {
       "output_type": "stream",
       "stream": "stdout",
       "text": [
        "\n",
        "   884  |  \u001b[94m  0.013646\u001b[0m  |    0.025377  |     0.537744  |             |  0.2s"
       ]
      },
      {
       "output_type": "stream",
       "stream": "stdout",
       "text": [
        "\n",
        "   885  |  \u001b[94m  0.013636\u001b[0m  |    0.025377  |     0.537340  |             |  0.2s"
       ]
      },
      {
       "output_type": "stream",
       "stream": "stdout",
       "text": [
        "\n",
        "   886  |  \u001b[94m  0.013626\u001b[0m  |    0.025378  |     0.536939  |             |  0.2s"
       ]
      },
      {
       "output_type": "stream",
       "stream": "stdout",
       "text": [
        "\n",
        "   887  |  \u001b[94m  0.013616\u001b[0m  |    0.025378  |     0.536545  |             |  0.2s"
       ]
      },
      {
       "output_type": "stream",
       "stream": "stdout",
       "text": [
        "\n",
        "   888  |  \u001b[94m  0.013606\u001b[0m  |    0.025378  |     0.536140  |             |  0.2s"
       ]
      },
      {
       "output_type": "stream",
       "stream": "stdout",
       "text": [
        "\n",
        "   889  |  \u001b[94m  0.013596\u001b[0m  |    0.025379  |     0.535745  |             |  0.2s"
       ]
      },
      {
       "output_type": "stream",
       "stream": "stdout",
       "text": [
        "\n",
        "   890  |  \u001b[94m  0.013587\u001b[0m  |    0.025379  |     0.535348  |             |  0.2s"
       ]
      },
      {
       "output_type": "stream",
       "stream": "stdout",
       "text": [
        "\n",
        "   891  |  \u001b[94m  0.013577\u001b[0m  |    0.025380  |     0.534947  |             |  0.2s"
       ]
      },
      {
       "output_type": "stream",
       "stream": "stdout",
       "text": [
        "\n",
        "   892  |  \u001b[94m  0.013567\u001b[0m  |    0.025380  |     0.534554  |             |  0.2s"
       ]
      },
      {
       "output_type": "stream",
       "stream": "stdout",
       "text": [
        "\n",
        "   893  |  \u001b[94m  0.013557\u001b[0m  |    0.025380  |     0.534155  |             |  0.2s"
       ]
      },
      {
       "output_type": "stream",
       "stream": "stdout",
       "text": [
        "\n",
        "   894  |  \u001b[94m  0.013547\u001b[0m  |    0.025381  |     0.533760  |             |  0.2s"
       ]
      },
      {
       "output_type": "stream",
       "stream": "stdout",
       "text": [
        "\n",
        "   895  |  \u001b[94m  0.013537\u001b[0m  |    0.025381  |     0.533369  |             |  0.2s"
       ]
      },
      {
       "output_type": "stream",
       "stream": "stdout",
       "text": [
        "\n",
        "   896  |  \u001b[94m  0.013528\u001b[0m  |    0.025381  |     0.532973  |             |  0.2s"
       ]
      },
      {
       "output_type": "stream",
       "stream": "stdout",
       "text": [
        "\n",
        "   897  |  \u001b[94m  0.013518\u001b[0m  |    0.025382  |     0.532572  |             |  0.2s"
       ]
      },
      {
       "output_type": "stream",
       "stream": "stdout",
       "text": [
        "\n",
        "   898  |  \u001b[94m  0.013508\u001b[0m  |    0.025383  |     0.532174  |             |  0.2s"
       ]
      },
      {
       "output_type": "stream",
       "stream": "stdout",
       "text": [
        "\n",
        "   899  |  \u001b[94m  0.013498\u001b[0m  |    0.025383  |     0.531782  |             |  0.2s"
       ]
      },
      {
       "output_type": "stream",
       "stream": "stdout",
       "text": [
        "\n",
        "   900  |  \u001b[94m  0.013488\u001b[0m  |    0.025383  |     0.531390  |             |  0.2s"
       ]
      },
      {
       "output_type": "stream",
       "stream": "stdout",
       "text": [
        "\n",
        "   901  |  \u001b[94m  0.013479\u001b[0m  |    0.025384  |     0.531000  |             |  0.2s"
       ]
      },
      {
       "output_type": "stream",
       "stream": "stdout",
       "text": [
        "\n",
        "   902  |  \u001b[94m  0.013469\u001b[0m  |    0.025384  |     0.530610  |             |  0.2s"
       ]
      },
      {
       "output_type": "stream",
       "stream": "stdout",
       "text": [
        "\n",
        "   903  |  \u001b[94m  0.013459\u001b[0m  |    0.025385  |     0.530208  |             |  0.2s"
       ]
      },
      {
       "output_type": "stream",
       "stream": "stdout",
       "text": [
        "\n",
        "   904  |  \u001b[94m  0.013450\u001b[0m  |    0.025386  |     0.529811  |             |  0.2s"
       ]
      },
      {
       "output_type": "stream",
       "stream": "stdout",
       "text": [
        "\n",
        "   905  |  \u001b[94m  0.013440\u001b[0m  |    0.025386  |     0.529417  |             |  0.2s"
       ]
      },
      {
       "output_type": "stream",
       "stream": "stdout",
       "text": [
        "\n",
        "   906  |  \u001b[94m  0.013430\u001b[0m  |    0.025387  |     0.529029  |             |  0.2s"
       ]
      },
      {
       "output_type": "stream",
       "stream": "stdout",
       "text": [
        "\n",
        "   907  |  \u001b[94m  0.013421\u001b[0m  |    0.025387  |     0.528645  |             |  0.2s"
       ]
      },
      {
       "output_type": "stream",
       "stream": "stdout",
       "text": [
        "\n",
        "   908  |  \u001b[94m  0.013411\u001b[0m  |    0.025388  |     0.528251  |             |  0.2s"
       ]
      },
      {
       "output_type": "stream",
       "stream": "stdout",
       "text": [
        "\n",
        "   909  |  \u001b[94m  0.013402\u001b[0m  |    0.025388  |     0.527868  |             |  0.2s"
       ]
      },
      {
       "output_type": "stream",
       "stream": "stdout",
       "text": [
        "\n",
        "   910  |  \u001b[94m  0.013392\u001b[0m  |    0.025389  |     0.527477  |             |  0.2s"
       ]
      },
      {
       "output_type": "stream",
       "stream": "stdout",
       "text": [
        "\n",
        "   911  |  \u001b[94m  0.013382\u001b[0m  |    0.025389  |     0.527087  |             |  0.2s"
       ]
      },
      {
       "output_type": "stream",
       "stream": "stdout",
       "text": [
        "\n",
        "   912  |  \u001b[94m  0.013373\u001b[0m  |    0.025390  |     0.526700  |             |  0.2s"
       ]
      },
      {
       "output_type": "stream",
       "stream": "stdout",
       "text": [
        "\n",
        "   913  |  \u001b[94m  0.013363\u001b[0m  |    0.025390  |     0.526315  |             |  0.2s"
       ]
      },
      {
       "output_type": "stream",
       "stream": "stdout",
       "text": [
        "\n",
        "   914  |  \u001b[94m  0.013354\u001b[0m  |    0.025391  |     0.525926  |             |  0.2s"
       ]
      },
      {
       "output_type": "stream",
       "stream": "stdout",
       "text": [
        "\n",
        "   915  |  \u001b[94m  0.013344\u001b[0m  |    0.025391  |     0.525540  |             |  0.2s"
       ]
      },
      {
       "output_type": "stream",
       "stream": "stdout",
       "text": [
        "\n",
        "   916  |  \u001b[94m  0.013335\u001b[0m  |    0.025392  |     0.525156  |             |  0.2s"
       ]
      },
      {
       "output_type": "stream",
       "stream": "stdout",
       "text": [
        "\n",
        "   917  |  \u001b[94m  0.013325\u001b[0m  |    0.025392  |     0.524769  |             |  0.2s"
       ]
      },
      {
       "output_type": "stream",
       "stream": "stdout",
       "text": [
        "\n",
        "   918  |  \u001b[94m  0.013316\u001b[0m  |    0.025393  |     0.524391  |             |  0.2s"
       ]
      },
      {
       "output_type": "stream",
       "stream": "stdout",
       "text": [
        "\n",
        "   919  |  \u001b[94m  0.013306\u001b[0m  |    0.025393  |     0.524008  |             |  0.2s"
       ]
      },
      {
       "output_type": "stream",
       "stream": "stdout",
       "text": [
        "\n",
        "   920  |  \u001b[94m  0.013297\u001b[0m  |    0.025394  |     0.523620  |             |  0.2s"
       ]
      },
      {
       "output_type": "stream",
       "stream": "stdout",
       "text": [
        "\n",
        "   921  |  \u001b[94m  0.013287\u001b[0m  |    0.025394  |     0.523233  |             |  0.2s"
       ]
      },
      {
       "output_type": "stream",
       "stream": "stdout",
       "text": [
        "\n",
        "   922  |  \u001b[94m  0.013278\u001b[0m  |    0.025395  |     0.522854  |             |  0.2s"
       ]
      },
      {
       "output_type": "stream",
       "stream": "stdout",
       "text": [
        "\n",
        "   923  |  \u001b[94m  0.013268\u001b[0m  |    0.025395  |     0.522469  |             |  0.2s"
       ]
      },
      {
       "output_type": "stream",
       "stream": "stdout",
       "text": [
        "\n",
        "   924  |  \u001b[94m  0.013259\u001b[0m  |    0.025396  |     0.522088  |             |  0.2s"
       ]
      },
      {
       "output_type": "stream",
       "stream": "stdout",
       "text": [
        "\n",
        "   925  |  \u001b[94m  0.013250\u001b[0m  |    0.025396  |     0.521712  |             |  0.2s"
       ]
      },
      {
       "output_type": "stream",
       "stream": "stdout",
       "text": [
        "\n",
        "   926  |  \u001b[94m  0.013240\u001b[0m  |    0.025397  |     0.521330  |             |  0.2s"
       ]
      },
      {
       "output_type": "stream",
       "stream": "stdout",
       "text": [
        "\n",
        "   927  |  \u001b[94m  0.013231\u001b[0m  |    0.025397  |     0.520954  |             |  0.2s"
       ]
      },
      {
       "output_type": "stream",
       "stream": "stdout",
       "text": [
        "\n",
        "   928  |  \u001b[94m  0.013221\u001b[0m  |    0.025398  |     0.520562  |             |  0.2s"
       ]
      },
      {
       "output_type": "stream",
       "stream": "stdout",
       "text": [
        "\n",
        "   929  |  \u001b[94m  0.013212\u001b[0m  |    0.025399  |     0.520188  |             |  0.2s"
       ]
      },
      {
       "output_type": "stream",
       "stream": "stdout",
       "text": [
        "\n",
        "   930  |  \u001b[94m  0.013203\u001b[0m  |    0.025399  |     0.519807  |             |  0.2s"
       ]
      },
      {
       "output_type": "stream",
       "stream": "stdout",
       "text": [
        "\n",
        "   931  |  \u001b[94m  0.013194\u001b[0m  |    0.025400  |     0.519433  |             |  0.2s"
       ]
      },
      {
       "output_type": "stream",
       "stream": "stdout",
       "text": [
        "\n",
        "   932  |  \u001b[94m  0.013184\u001b[0m  |    0.025401  |     0.519053  |             |  0.2s"
       ]
      },
      {
       "output_type": "stream",
       "stream": "stdout",
       "text": [
        "\n",
        "   933  |  \u001b[94m  0.013175\u001b[0m  |    0.025402  |     0.518663  |             |  0.2s"
       ]
      },
      {
       "output_type": "stream",
       "stream": "stdout",
       "text": [
        "\n",
        "   934  |  \u001b[94m  0.013166\u001b[0m  |    0.025402  |     0.518289  |             |  0.2s"
       ]
      },
      {
       "output_type": "stream",
       "stream": "stdout",
       "text": [
        "\n",
        "   935  |  \u001b[94m  0.013156\u001b[0m  |    0.025403  |     0.517902  |             |  0.2s"
       ]
      },
      {
       "output_type": "stream",
       "stream": "stdout",
       "text": [
        "\n",
        "   936  |  \u001b[94m  0.013147\u001b[0m  |    0.025404  |     0.517520  |             |  0.2s"
       ]
      },
      {
       "output_type": "stream",
       "stream": "stdout",
       "text": [
        "\n",
        "   937  |  \u001b[94m  0.013138\u001b[0m  |    0.025405  |     0.517136  |             |  0.2s"
       ]
      },
      {
       "output_type": "stream",
       "stream": "stdout",
       "text": [
        "\n",
        "   938  |  \u001b[94m  0.013129\u001b[0m  |    0.025405  |     0.516760  |             |  0.2s"
       ]
      },
      {
       "output_type": "stream",
       "stream": "stdout",
       "text": [
        "\n",
        "   939  |  \u001b[94m  0.013119\u001b[0m  |    0.025406  |     0.516378  |             |  0.2s"
       ]
      },
      {
       "output_type": "stream",
       "stream": "stdout",
       "text": [
        "\n",
        "   940  |  \u001b[94m  0.013110\u001b[0m  |    0.025407  |     0.516007  |             |  0.2s"
       ]
      },
      {
       "output_type": "stream",
       "stream": "stdout",
       "text": [
        "\n",
        "   941  |  \u001b[94m  0.013101\u001b[0m  |    0.025408  |     0.515624  |             |  0.2s"
       ]
      },
      {
       "output_type": "stream",
       "stream": "stdout",
       "text": [
        "\n",
        "   942  |  \u001b[94m  0.013092\u001b[0m  |    0.025408  |     0.515254  |             |  0.2s"
       ]
      },
      {
       "output_type": "stream",
       "stream": "stdout",
       "text": [
        "\n",
        "   943  |  \u001b[94m  0.013083\u001b[0m  |    0.025409  |     0.514873  |             |  0.2s"
       ]
      },
      {
       "output_type": "stream",
       "stream": "stdout",
       "text": [
        "\n",
        "   944  |  \u001b[94m  0.013073\u001b[0m  |    0.025410  |     0.514490  |             |  0.2s"
       ]
      },
      {
       "output_type": "stream",
       "stream": "stdout",
       "text": [
        "\n",
        "   945  |  \u001b[94m  0.013064\u001b[0m  |    0.025411  |     0.514112  |             |  0.2s"
       ]
      },
      {
       "output_type": "stream",
       "stream": "stdout",
       "text": [
        "\n",
        "   946  |  \u001b[94m  0.013055\u001b[0m  |    0.025412  |     0.513742  |             |  0.2s"
       ]
      },
      {
       "output_type": "stream",
       "stream": "stdout",
       "text": [
        "\n",
        "   947  |  \u001b[94m  0.013046\u001b[0m  |    0.025413  |     0.513363  |             |  0.2s"
       ]
      },
      {
       "output_type": "stream",
       "stream": "stdout",
       "text": [
        "\n",
        "   948  |  \u001b[94m  0.013037\u001b[0m  |    0.025414  |     0.512990  |             |  0.2s"
       ]
      },
      {
       "output_type": "stream",
       "stream": "stdout",
       "text": [
        "\n",
        "   949  |  \u001b[94m  0.013028\u001b[0m  |    0.025414  |     0.512615  |             |  0.2s"
       ]
      },
      {
       "output_type": "stream",
       "stream": "stdout",
       "text": [
        "\n",
        "   950  |  \u001b[94m  0.013019\u001b[0m  |    0.025415  |     0.512252  |             |  0.2s"
       ]
      },
      {
       "output_type": "stream",
       "stream": "stdout",
       "text": [
        "\n",
        "   951  |  \u001b[94m  0.013010\u001b[0m  |    0.025416  |     0.511870  |             |  0.2s"
       ]
      },
      {
       "output_type": "stream",
       "stream": "stdout",
       "text": [
        "\n",
        "   952  |  \u001b[94m  0.013001\u001b[0m  |    0.025417  |     0.511495  |             |  0.2s"
       ]
      },
      {
       "output_type": "stream",
       "stream": "stdout",
       "text": [
        "\n",
        "   953  |  \u001b[94m  0.012992\u001b[0m  |    0.025418  |     0.511123  |             |  0.2s"
       ]
      },
      {
       "output_type": "stream",
       "stream": "stdout",
       "text": [
        "\n",
        "   954  |  \u001b[94m  0.012982\u001b[0m  |    0.025418  |     0.510753  |             |  0.2s"
       ]
      },
      {
       "output_type": "stream",
       "stream": "stdout",
       "text": [
        "\n",
        "   955  |  \u001b[94m  0.012973\u001b[0m  |    0.025419  |     0.510394  |             |  0.2s"
       ]
      },
      {
       "output_type": "stream",
       "stream": "stdout",
       "text": [
        "\n",
        "   956  |  \u001b[94m  0.012964\u001b[0m  |    0.025420  |     0.510021  |             |  0.2s"
       ]
      },
      {
       "output_type": "stream",
       "stream": "stdout",
       "text": [
        "\n",
        "   957  |  \u001b[94m  0.012956\u001b[0m  |    0.025420  |     0.509650  |             |  0.2s"
       ]
      },
      {
       "output_type": "stream",
       "stream": "stdout",
       "text": [
        "\n",
        "   958  |  \u001b[94m  0.012947\u001b[0m  |    0.025421  |     0.509275  |             |  0.2s"
       ]
      },
      {
       "output_type": "stream",
       "stream": "stdout",
       "text": [
        "\n",
        "   959  |  \u001b[94m  0.012938\u001b[0m  |    0.025422  |     0.508913  |             |  0.2s"
       ]
      },
      {
       "output_type": "stream",
       "stream": "stdout",
       "text": [
        "\n",
        "   960  |  \u001b[94m  0.012929\u001b[0m  |    0.025423  |     0.508537  |             |  0.2s"
       ]
      },
      {
       "output_type": "stream",
       "stream": "stdout",
       "text": [
        "\n",
        "   961  |  \u001b[94m  0.012920\u001b[0m  |    0.025424  |     0.508173  |             |  0.2s"
       ]
      },
      {
       "output_type": "stream",
       "stream": "stdout",
       "text": [
        "\n",
        "   962  |  \u001b[94m  0.012911\u001b[0m  |    0.025424  |     0.507813  |             |  0.2s"
       ]
      },
      {
       "output_type": "stream",
       "stream": "stdout",
       "text": [
        "\n",
        "   963  |  \u001b[94m  0.012902\u001b[0m  |    0.025426  |     0.507437  |             |  0.2s"
       ]
      },
      {
       "output_type": "stream",
       "stream": "stdout",
       "text": [
        "\n",
        "   964  |  \u001b[94m  0.012893\u001b[0m  |    0.025426  |     0.507075  |             |  0.2s"
       ]
      },
      {
       "output_type": "stream",
       "stream": "stdout",
       "text": [
        "\n",
        "   965  |  \u001b[94m  0.012884\u001b[0m  |    0.025427  |     0.506705  |             |  0.2s"
       ]
      },
      {
       "output_type": "stream",
       "stream": "stdout",
       "text": [
        "\n",
        "   966  |  \u001b[94m  0.012875\u001b[0m  |    0.025428  |     0.506345  |             |  0.2s"
       ]
      },
      {
       "output_type": "stream",
       "stream": "stdout",
       "text": [
        "\n",
        "   967  |  \u001b[94m  0.012866\u001b[0m  |    0.025429  |     0.505978  |             |  0.2s"
       ]
      },
      {
       "output_type": "stream",
       "stream": "stdout",
       "text": [
        "\n",
        "   968  |  \u001b[94m  0.012858\u001b[0m  |    0.025430  |     0.505609  |             |  0.2s"
       ]
      },
      {
       "output_type": "stream",
       "stream": "stdout",
       "text": [
        "\n",
        "   969  |  \u001b[94m  0.012849\u001b[0m  |    0.025431  |     0.505246  |             |  0.2s"
       ]
      },
      {
       "output_type": "stream",
       "stream": "stdout",
       "text": [
        "\n",
        "   970  |  \u001b[94m  0.012840\u001b[0m  |    0.025432  |     0.504877  |             |  0.2s"
       ]
      },
      {
       "output_type": "stream",
       "stream": "stdout",
       "text": [
        "\n",
        "   971  |  \u001b[94m  0.012831\u001b[0m  |    0.025432  |     0.504517  |             |  0.2s"
       ]
      },
      {
       "output_type": "stream",
       "stream": "stdout",
       "text": [
        "\n",
        "   972  |  \u001b[94m  0.012822\u001b[0m  |    0.025433  |     0.504163  |             |  0.2s"
       ]
      },
      {
       "output_type": "stream",
       "stream": "stdout",
       "text": [
        "\n",
        "   973  |  \u001b[94m  0.012814\u001b[0m  |    0.025434  |     0.503794  |             |  0.2s"
       ]
      },
      {
       "output_type": "stream",
       "stream": "stdout",
       "text": [
        "\n",
        "   974  |  \u001b[94m  0.012805\u001b[0m  |    0.025435  |     0.503433  |             |  0.2s"
       ]
      },
      {
       "output_type": "stream",
       "stream": "stdout",
       "text": [
        "\n",
        "   975  |  \u001b[94m  0.012796\u001b[0m  |    0.025435  |     0.503079  |             |  0.2s"
       ]
      },
      {
       "output_type": "stream",
       "stream": "stdout",
       "text": [
        "\n",
        "   976  |  \u001b[94m  0.012787\u001b[0m  |    0.025437  |     0.502704  |             |  0.2s"
       ]
      },
      {
       "output_type": "stream",
       "stream": "stdout",
       "text": [
        "\n",
        "   977  |  \u001b[94m  0.012779\u001b[0m  |    0.025438  |     0.502351  |             |  0.2s"
       ]
      },
      {
       "output_type": "stream",
       "stream": "stdout",
       "text": [
        "\n",
        "   978  |  \u001b[94m  0.012770\u001b[0m  |    0.025439  |     0.501986  |             |  0.2s"
       ]
      },
      {
       "output_type": "stream",
       "stream": "stdout",
       "text": [
        "\n",
        "   979  |  \u001b[94m  0.012761\u001b[0m  |    0.025440  |     0.501624  |             |  0.2s"
       ]
      },
      {
       "output_type": "stream",
       "stream": "stdout",
       "text": [
        "\n",
        "   980  |  \u001b[94m  0.012752\u001b[0m  |    0.025440  |     0.501267  |             |  0.2s"
       ]
      },
      {
       "output_type": "stream",
       "stream": "stdout",
       "text": [
        "\n",
        "   981  |  \u001b[94m  0.012744\u001b[0m  |    0.025441  |     0.500905  |             |  0.2s"
       ]
      },
      {
       "output_type": "stream",
       "stream": "stdout",
       "text": [
        "\n",
        "   982  |  \u001b[94m  0.012735\u001b[0m  |    0.025442  |     0.500550  |             |  0.2s"
       ]
      },
      {
       "output_type": "stream",
       "stream": "stdout",
       "text": [
        "\n",
        "   983  |  \u001b[94m  0.012726\u001b[0m  |    0.025443  |     0.500184  |             |  0.2s"
       ]
      },
      {
       "output_type": "stream",
       "stream": "stdout",
       "text": [
        "\n",
        "   984  |  \u001b[94m  0.012718\u001b[0m  |    0.025444  |     0.499824  |             |  0.2s"
       ]
      },
      {
       "output_type": "stream",
       "stream": "stdout",
       "text": [
        "\n",
        "   985  |  \u001b[94m  0.012709\u001b[0m  |    0.025445  |     0.499466  |             |  0.2s"
       ]
      },
      {
       "output_type": "stream",
       "stream": "stdout",
       "text": [
        "\n",
        "   986  |  \u001b[94m  0.012700\u001b[0m  |    0.025446  |     0.499107  |             |  0.2s"
       ]
      },
      {
       "output_type": "stream",
       "stream": "stdout",
       "text": [
        "\n",
        "   987  |  \u001b[94m  0.012692\u001b[0m  |    0.025448  |     0.498742  |             |  0.2s"
       ]
      },
      {
       "output_type": "stream",
       "stream": "stdout",
       "text": [
        "\n",
        "   988  |  \u001b[94m  0.012683\u001b[0m  |    0.025449  |     0.498384  |             |  0.2s"
       ]
      },
      {
       "output_type": "stream",
       "stream": "stdout",
       "text": [
        "\n",
        "   989  |  \u001b[94m  0.012675\u001b[0m  |    0.025449  |     0.498032  |             |  0.2s"
       ]
      },
      {
       "output_type": "stream",
       "stream": "stdout",
       "text": [
        "\n",
        "   990  |  \u001b[94m  0.012666\u001b[0m  |    0.025450  |     0.497673  |             |  0.2s"
       ]
      },
      {
       "output_type": "stream",
       "stream": "stdout",
       "text": [
        "\n",
        "   991  |  \u001b[94m  0.012657\u001b[0m  |    0.025451  |     0.497321  |             |  0.2s"
       ]
      },
      {
       "output_type": "stream",
       "stream": "stdout",
       "text": [
        "\n",
        "   992  |  \u001b[94m  0.012649\u001b[0m  |    0.025452  |     0.496966  |             |  0.2s"
       ]
      },
      {
       "output_type": "stream",
       "stream": "stdout",
       "text": [
        "\n",
        "   993  |  \u001b[94m  0.012640\u001b[0m  |    0.025454  |     0.496601  |             |  0.2s"
       ]
      },
      {
       "output_type": "stream",
       "stream": "stdout",
       "text": [
        "\n",
        "   994  |  \u001b[94m  0.012632\u001b[0m  |    0.025455  |     0.496246  |             |  0.2s"
       ]
      },
      {
       "output_type": "stream",
       "stream": "stdout",
       "text": [
        "\n",
        "   995  |  \u001b[94m  0.012623\u001b[0m  |    0.025456  |     0.495881  |             |  0.2s"
       ]
      },
      {
       "output_type": "stream",
       "stream": "stdout",
       "text": [
        "\n",
        "   996  |  \u001b[94m  0.012615\u001b[0m  |    0.025457  |     0.495534  |             |  0.2s"
       ]
      },
      {
       "output_type": "stream",
       "stream": "stdout",
       "text": [
        "\n",
        "   997  |  \u001b[94m  0.012606\u001b[0m  |    0.025458  |     0.495177  |             |  0.2s"
       ]
      },
      {
       "output_type": "stream",
       "stream": "stdout",
       "text": [
        "\n",
        "   998  |  \u001b[94m  0.012598\u001b[0m  |    0.025459  |     0.494824  |             |  0.2s"
       ]
      },
      {
       "output_type": "stream",
       "stream": "stdout",
       "text": [
        "\n",
        "   999  |  \u001b[94m  0.012589\u001b[0m  |    0.025460  |     0.494464  |             |  0.2s"
       ]
      },
      {
       "output_type": "stream",
       "stream": "stdout",
       "text": [
        "\n",
        "  1000  |  \u001b[94m  0.012581\u001b[0m  |    0.025461  |     0.494111  |             |  0.2s"
       ]
      },
      {
       "output_type": "stream",
       "stream": "stdout",
       "text": [
        "\n",
        "CPU times: user 2min 23s, sys: 54 s, total: 3min 17s\n",
        "Wall time: 3min 19s\n"
       ]
      },
      {
       "metadata": {},
       "output_type": "pyout",
       "prompt_number": 10,
       "text": [
        "NeuralNet(X_tensor_type=<function matrix at 0x7fb934673758>,\n",
        "     batch_iterator=<nolearn.lasagne.BatchIterator object at 0x7fb8d6fd44d0>,\n",
        "     eval_size=0.2, hidden_num_units=200, input_shape=(128, 2500),\n",
        "     layers=[('input', <class 'lasagne.layers.base.InputLayer'>), ('hidden', <class 'lasagne.layers.base.DenseLayer'>), ('output', <class 'lasagne.layers.base.DenseLayer'>)],\n",
        "     loss=<function mse at 0x7fb8d6fc5140>, max_epochs=1000,\n",
        "     more_params={}, on_epoch_finished=(), on_training_finished=(),\n",
        "     output_nonlinearity=None, output_num_units=32, regression=True,\n",
        "     upate=<function nesterov_momentum at 0x7fb8d6fcaed8>,\n",
        "     update=<function nesterov_momentum at 0x7fb8d6fcaed8>,\n",
        "     update_learning_rate=0.01, update_momentum=0.9,\n",
        "     use_label_encoder=False, verbose=1,\n",
        "     y_tensor_type=TensorType(float32, matrix))"
       ]
      }
     ],
     "prompt_number": 10
    },
    {
     "cell_type": "code",
     "collapsed": false,
     "input": [
      "train_loss = np.array([i[\"train_loss\"] for i in net1.train_history_])\n",
      "valid_loss = np.array([i[\"valid_loss\"] for i in net1.train_history_])\n",
      "pyplot.plot(train_loss, linewidth=3, label=\"train\")\n",
      "pyplot.plot(valid_loss, linewidth=3, label=\"valid\")\n",
      "pyplot.grid()\n",
      "pyplot.legend()\n",
      "pyplot.xlabel(\"epoch\")\n",
      "pyplot.ylabel(\"loss\")\n",
      "pyplot.ylim(2.5e-2, 0.32e-1)\n",
      "# pyplot.yscale(\"log\")\n",
      "pyplot.show()"
     ],
     "language": "python",
     "metadata": {},
     "outputs": [
      {
       "metadata": {},
       "output_type": "display_data",
       "png": "[encoded data removed]",
       "text": [
        "<matplotlib.figure.Figure at 0x7fb8cb05b350>"
       ]
      }
     ],
     "prompt_number": 11
    },
    {
     "cell_type": "code",
     "collapsed": false,
     "input": [
      "from sklearn import metrics\n",
      "\n",
      "# overfit result, should use validation result\n",
      "y_pred = net1.predict(X_test)\n",
      "# print y_pred[1]\n",
      "# np.argmax(y_pred[i]),np.argmax(y[i])\n",
      "y_pred = np.array(map((lambda x: np.argmax(x)), y_pred))\n",
      "yyy = np.array(map((lambda x: np.argmax(x)), y_test))\n",
      "\n",
      "print metrics.classification_report((yyy), (y_pred))"
     ],
     "language": "python",
     "metadata": {},
     "outputs": [
      {
       "output_type": "stream",
       "stream": "stdout",
       "text": [
        "             precision    recall  f1-score   support\n",
        "\n",
        "          0       0.57      0.62      0.60        82\n",
        "          1       0.36      0.33      0.35       111\n",
        "          2       0.38      0.35      0.37        99\n",
        "          3       0.36      0.27      0.31        97\n",
        "          4       0.47      0.32      0.38       103\n",
        "          5       0.55      0.49      0.52        96\n",
        "          6       0.41      0.44      0.42       103\n",
        "          7       0.28      0.35      0.31       112\n",
        "          8       0.46      0.43      0.45       115\n",
        "          9       0.44      0.53      0.48       100\n",
        "         10       0.53      0.46      0.49       104\n",
        "         11       0.45      0.50      0.47       110\n",
        "         12       0.46      0.68      0.55       170\n",
        "         13       0.47      0.63      0.54       179\n",
        "         14       0.52      0.51      0.51       184\n",
        "         15       0.48      0.51      0.49        83\n",
        "         16       0.46      0.37      0.41        90\n",
        "         17       0.36      0.21      0.27        90\n",
        "         18       0.36      0.26      0.30        70\n",
        "         19       0.49      0.53      0.51        94\n",
        "         20       0.30      0.26      0.28        74\n",
        "         21       0.33      0.44      0.38       175\n",
        "         22       0.48      0.56      0.52        85\n",
        "         23       0.51      0.49      0.50        86\n",
        "         24       0.21      0.22      0.22        83\n",
        "         25       0.38      0.40      0.39        81\n",
        "         26       0.32      0.12      0.17        93\n",
        "         27       0.54      0.45      0.49        85\n",
        "         28       0.34      0.36      0.35        75\n",
        "         29       0.60      0.65      0.62        82\n",
        "         30       0.29      0.19      0.23        90\n",
        "         31       0.35      0.30      0.32        92\n",
        "\n",
        "avg / total       0.43      0.43      0.42      3293\n",
        "\n"
       ]
      }
     ],
     "prompt_number": 12
    },
    {
     "cell_type": "markdown",
     "metadata": {},
     "source": [
      "## NET 6 in the rock"
     ]
    },
    {
     "cell_type": "code",
     "collapsed": false,
     "input": [
      "import theano\n",
      "from lasagne import layers\n",
      "from lasagne.updates import nesterov_momentum\n",
      "from nolearn.lasagne import NeuralNet\n",
      "\n",
      "def float32(k):\n",
      "    return np.cast['float32'](k)\n",
      "\n",
      "class AdjustVariable(object):\n",
      "    def __init__(self, name, start=0.03, stop=0.001):\n",
      "        self.name = name\n",
      "        self.start, self.stop = start, stop\n",
      "        self.ls = None\n",
      "\n",
      "    def __call__(self, nn, train_history):\n",
      "        if self.ls is None:\n",
      "            self.ls = np.linspace(self.start, self.stop, nn.max_epochs)\n",
      "\n",
      "        epoch = train_history[-1]['epoch']\n",
      "        new_value = float32(self.ls[epoch - 1])\n",
      "        getattr(nn, self.name).set_value(new_value)\n",
      "\n",
      "class EarlyStopping(object):\n",
      "    def __init__(self, patience=100):\n",
      "        self.patience = patience\n",
      "        self.best_valid = np.inf\n",
      "        self.best_valid_epoch = 0\n",
      "        self.best_weights = None\n",
      "\n",
      "    def __call__(self, nn, train_history):\n",
      "        current_valid = train_history[-1]['valid_loss']\n",
      "        current_epoch = train_history[-1]['epoch']\n",
      "        if current_valid < self.best_valid:\n",
      "            self.best_valid = current_valid\n",
      "            self.best_valid_epoch = current_epoch\n",
      "            self.best_weights = [w.get_value() for w in nn.get_all_params()]\n",
      "        elif self.best_valid_epoch + self.patience < current_epoch:\n",
      "            print(\"Early stopping.\")\n",
      "            print(\"Best valid loss was {:.6f} at epoch {}.\".format(\n",
      "                self.best_valid, self.best_valid_epoch))\n",
      "            nn.load_weights_from(self.best_weights)\n",
      "            raise StopIteration()\n",
      "        \n",
      "# use the cuda-convnet implementations of conv and max-pool layer\n",
      "Conv2DLayer = layers.cuda_convnet.Conv2DCCLayer\n",
      "MaxPool2DLayer = layers.cuda_convnet.MaxPool2DCCLayer\n",
      "\n",
      "net7 = NeuralNet(\n",
      "    layers=[\n",
      "        ('input', layers.InputLayer),\n",
      "        ('conv1', Conv2DLayer),\n",
      "        ('pool1', MaxPool2DLayer),\n",
      "        ('dropout1', layers.DropoutLayer),  # !\n",
      "        ('conv2', Conv2DLayer),\n",
      "        ('pool2', MaxPool2DLayer),\n",
      "        ('dropout2', layers.DropoutLayer),  # !\n",
      "        ('conv3', Conv2DLayer),\n",
      "        ('pool3', MaxPool2DLayer),\n",
      "        ('dropout3', layers.DropoutLayer),  # !\n",
      "        ('hidden4', layers.DenseLayer),\n",
      "        ('dropout4', layers.DropoutLayer),  # !\n",
      "        ('hidden5', layers.DenseLayer),\n",
      "        ('output', layers.DenseLayer),\n",
      "        ],\n",
      "    input_shape=(128, 1, 50,50),\n",
      "    conv1_num_filters=32, conv1_filter_size=(3, 3), pool1_ds=(2, 2),\n",
      "    # dropout1_p=0.1, # !\n",
      "    dropout1_p=0.2,  # !\n",
      "    conv2_num_filters=64, conv2_filter_size=(2, 2), pool2_ds=(2, 2),\n",
      "    # dropout2_p=0.2,  # !\n",
      "    dropout2_p=0.3,  # !\n",
      "    conv3_num_filters=128, conv3_filter_size=(2, 2), pool3_ds=(2, 2),\n",
      "    # dropout3_p=0.3,  # !\n",
      "    dropout3_p=0.4,  # !\n",
      "    hidden4_num_units=1000,\n",
      "    # hidden4_num_units=1000,  # !\n",
      "    dropout4_p=0.5,  # !\n",
      "    hidden5_num_units=1000,\n",
      "    # hidden5_num_units=1000,  # !\n",
      "    output_num_units=32, output_nonlinearity=None,\n",
      "\n",
      "    update_learning_rate=theano.shared(float32(0.03)),\n",
      "    update_momentum=theano.shared(float32(0.9)),\n",
      "\n",
      "    regression=True,\n",
      "#     batch_iterator=FlipBatchIterator(batch_size=128),\n",
      "    on_epoch_finished=[\n",
      "        AdjustVariable('update_learning_rate', start=0.03, stop=0.0001),\n",
      "        AdjustVariable('update_momentum', start=0.9, stop=0.999),\n",
      "        EarlyStopping(patience=175),\n",
      "        ],\n",
      "    max_epochs=3000,\n",
      "    # max_epochs=7000,\n",
      "    verbose=1,\n",
      "    )"
     ],
     "language": "python",
     "metadata": {},
     "outputs": [],
     "prompt_number": 13
    },
    {
     "cell_type": "code",
     "collapsed": false,
     "input": [
      "def transform_6(X,y):\n",
      "    X = X.reshape(-1, 50,50, 1)\n",
      "    X = X.transpose(0, 3, 1, 2)\n",
      "    return X, y\n",
      "\n",
      "# X_train = X_train.reshape(-1,1,sizee,sizee)\n",
      "# X_test = X_test.reshape(-1, 1,sizee,sizee)\n",
      "# X_train.shape"
     ],
     "language": "python",
     "metadata": {},
     "outputs": [],
     "prompt_number": 14
    },
    {
     "cell_type": "code",
     "collapsed": false,
     "input": [
      "import sys\n",
      "sys.setrecursionlimit(10000)\n",
      "\n",
      "X_6, y_6 = transform_6(X_train, y_train)\n",
      "%time .fit(X_6, y_6)\n",
      "\n",
      "import cPickle as pickle\n",
      "with open('Lasagne_5th_try_drop_change.pickle', 'wb') as f:\n",
      "    pickle.dump(net7, f, -1)"
     ],
     "language": "python",
     "metadata": {},
     "outputs": [
      {
       "output_type": "stream",
       "stream": "stdout",
       "text": [
        "  InputLayer        \t(128, 1, 50, 50)    \tproduces    2500 outputs\n",
        "  Conv2DCCLayer     \t(128, 32, 48, 48)   \tproduces   73728 outputs\n",
        "  MaxPool2DCCLayer  \t(128, 32, 24, 24)   \tproduces   18432 outputs\n",
        "  DropoutLayer      \t(128, 32, 24, 24)   \tproduces   18432 outputs\n",
        "  Conv2DCCLayer     \t(128, 64, 23, 23)   \tproduces   33856 outputs\n",
        "  MaxPool2DCCLayer  \t(128, 64, 12, 12)   \tproduces    9216 outputs\n",
        "  DropoutLayer      \t(128, 64, 12, 12)   \tproduces    9216 outputs\n",
        "  Conv2DCCLayer     \t(128, 128, 11, 11)  \tproduces   15488 outputs\n",
        "  MaxPool2DCCLayer  \t(128, 128, 6, 6)    \tproduces    4608 outputs\n",
        "  DropoutLayer      \t(128, 128, 6, 6)    \tproduces    4608 outputs\n",
        "  DenseLayer        \t(128, 1000)         \tproduces    1000 outputs\n",
        "  DropoutLayer      \t(128, 1000)         \tproduces    1000 outputs\n",
        "  DenseLayer        \t(128, 1000)         \tproduces    1000 outputs\n",
        "  DenseLayer        \t(128, 32)           \tproduces      32 outputs\n",
        "\n",
        " Epoch  |  Train loss  |  Valid loss  |  Train / Val  |  Valid acc  |  Dur\n",
        "--------|--------------|--------------|---------------|-------------|-------"
       ]
      },
      {
       "output_type": "stream",
       "stream": "stdout",
       "text": [
        "\n",
        "     1  |  \u001b[94m  0.031749\u001b[0m  |  \u001b[32m  0.030278\u001b[0m  |     1.048576  |             |  4.4s"
       ]
      },
      {
       "output_type": "stream",
       "stream": "stdout",
       "text": [
        "\n",
        "     2  |  \u001b[94m  0.030316\u001b[0m  |  \u001b[32m  0.030173\u001b[0m  |     1.004737  |             |  4.4s"
       ]
      },
      {
       "output_type": "stream",
       "stream": "stdout",
       "text": [
        "\n",
        "     3  |  \u001b[94m  0.030195\u001b[0m  |  \u001b[32m  0.030133\u001b[0m  |     1.002058  |             |  4.4s"
       ]
      },
      {
       "output_type": "stream",
       "stream": "stdout",
       "text": [
        "\n",
        "     4  |  \u001b[94m  0.030111\u001b[0m  |  \u001b[32m  0.030092\u001b[0m  |     1.000628  |             |  4.4s"
       ]
      },
      {
       "output_type": "stream",
       "stream": "stdout",
       "text": [
        "\n",
        "     5  |  \u001b[94m  0.030051\u001b[0m  |  \u001b[32m  0.030056\u001b[0m  |     0.999842  |             |  4.4s"
       ]
      },
      {
       "output_type": "stream",
       "stream": "stdout",
       "text": [
        "\n",
        "     6  |  \u001b[94m  0.029994\u001b[0m  |  \u001b[32m  0.030014\u001b[0m  |     0.999323  |             |  4.4s"
       ]
      },
      {
       "output_type": "stream",
       "stream": "stdout",
       "text": [
        "\n",
        "     7  |  \u001b[94m  0.029931\u001b[0m  |  \u001b[32m  0.029961\u001b[0m  |     0.999000  |             |  4.4s"
       ]
      },
      {
       "output_type": "stream",
       "stream": "stdout",
       "text": [
        "\n",
        "     8  |  \u001b[94m  0.029867\u001b[0m  |  \u001b[32m  0.029921\u001b[0m  |     0.998193  |             |  4.4s"
       ]
      },
      {
       "output_type": "stream",
       "stream": "stdout",
       "text": [
        "\n",
        "     9  |  \u001b[94m  0.029802\u001b[0m  |  \u001b[32m  0.029876\u001b[0m  |     0.997511  |             |  4.4s"
       ]
      },
      {
       "output_type": "stream",
       "stream": "stdout",
       "text": [
        "\n",
        "    10  |  \u001b[94m  0.029730\u001b[0m  |  \u001b[32m  0.029835\u001b[0m  |     0.996469  |             |  4.4s"
       ]
      },
      {
       "output_type": "stream",
       "stream": "stdout",
       "text": [
        "\n",
        "    11  |  \u001b[94m  0.029654\u001b[0m  |  \u001b[32m  0.029793\u001b[0m  |     0.995337  |             |  4.4s"
       ]
      },
      {
       "output_type": "stream",
       "stream": "stdout",
       "text": [
        "\n",
        "    12  |  \u001b[94m  0.029593\u001b[0m  |  \u001b[32m  0.029777\u001b[0m  |     0.993832  |             |  4.4s"
       ]
      },
      {
       "output_type": "stream",
       "stream": "stdout",
       "text": [
        "\n",
        "    13  |  \u001b[94m  0.029530\u001b[0m  |  \u001b[32m  0.029729\u001b[0m  |     0.993321  |             |  4.4s"
       ]
      },
      {
       "output_type": "stream",
       "stream": "stdout",
       "text": [
        "\n",
        "    14  |  \u001b[94m  0.029481\u001b[0m  |  \u001b[32m  0.029702\u001b[0m  |     0.992556  |             |  4.4s"
       ]
      },
      {
       "output_type": "stream",
       "stream": "stdout",
       "text": [
        "\n",
        "    15  |  \u001b[94m  0.029420\u001b[0m  |  \u001b[32m  0.029667\u001b[0m  |     0.991688  |             |  4.4s"
       ]
      },
      {
       "output_type": "stream",
       "stream": "stdout",
       "text": [
        "\n",
        "    16  |  \u001b[94m  0.029368\u001b[0m  |    0.029672  |     0.989731  |             |  4.4s"
       ]
      },
      {
       "output_type": "stream",
       "stream": "stdout",
       "text": [
        "\n",
        "    17  |  \u001b[94m  0.029342\u001b[0m  |  \u001b[32m  0.029637\u001b[0m  |     0.990042  |             |  4.4s"
       ]
      },
      {
       "output_type": "stream",
       "stream": "stdout",
       "text": [
        "\n",
        "    18  |  \u001b[94m  0.029283\u001b[0m  |  \u001b[32m  0.029611\u001b[0m  |     0.988924  |             |  4.4s"
       ]
      },
      {
       "output_type": "stream",
       "stream": "stdout",
       "text": [
        "\n",
        "    19  |  \u001b[94m  0.029258\u001b[0m  |  \u001b[32m  0.029598\u001b[0m  |     0.988530  |             |  4.4s"
       ]
      },
      {
       "output_type": "stream",
       "stream": "stdout",
       "text": [
        "\n",
        "    20  |  \u001b[94m  0.029226\u001b[0m  |  \u001b[32m  0.029575\u001b[0m  |     0.988180  |             |  4.4s"
       ]
      },
      {
       "output_type": "stream",
       "stream": "stdout",
       "text": [
        "\n",
        "    21  |  \u001b[94m  0.029195\u001b[0m  |  \u001b[32m  0.029543\u001b[0m  |     0.988243  |             |  4.4s"
       ]
      },
      {
       "output_type": "stream",
       "stream": "stdout",
       "text": [
        "\n",
        "    22  |  \u001b[94m  0.029155\u001b[0m  |  \u001b[32m  0.029492\u001b[0m  |     0.988583  |             |  4.4s"
       ]
      },
      {
       "output_type": "stream",
       "stream": "stdout",
       "text": [
        "\n",
        "    23  |  \u001b[94m  0.029135\u001b[0m  |  \u001b[32m  0.029484\u001b[0m  |     0.988158  |             |  4.4s"
       ]
      },
      {
       "output_type": "stream",
       "stream": "stdout",
       "text": [
        "\n",
        "    24  |  \u001b[94m  0.029080\u001b[0m  |  \u001b[32m  0.029455\u001b[0m  |     0.987271  |             |  4.4s"
       ]
      },
      {
       "output_type": "stream",
       "stream": "stdout",
       "text": [
        "\n",
        "    25  |  \u001b[94m  0.029069\u001b[0m  |  \u001b[32m  0.029423\u001b[0m  |     0.987965  |             |  4.4s"
       ]
      },
      {
       "output_type": "stream",
       "stream": "stdout",
       "text": [
        "\n",
        "    26  |  \u001b[94m  0.029045\u001b[0m  |  \u001b[32m  0.029389\u001b[0m  |     0.988265  |             |  4.4s"
       ]
      },
      {
       "output_type": "stream",
       "stream": "stdout",
       "text": [
        "\n",
        "    27  |  \u001b[94m  0.029025\u001b[0m  |  \u001b[32m  0.029347\u001b[0m  |     0.989021  |             |  4.4s"
       ]
      },
      {
       "output_type": "stream",
       "stream": "stdout",
       "text": [
        "\n",
        "    28  |  \u001b[94m  0.028972\u001b[0m  |  \u001b[32m  0.029346\u001b[0m  |     0.987256  |             |  4.4s"
       ]
      },
      {
       "output_type": "stream",
       "stream": "stdout",
       "text": [
        "\n",
        "    29  |  \u001b[94m  0.028936\u001b[0m  |  \u001b[32m  0.029326\u001b[0m  |     0.986722  |             |  4.4s"
       ]
      },
      {
       "output_type": "stream",
       "stream": "stdout",
       "text": [
        "\n",
        "    30  |  \u001b[94m  0.028917\u001b[0m  |  \u001b[32m  0.029290\u001b[0m  |     0.987249  |             |  4.4s"
       ]
      },
      {
       "output_type": "stream",
       "stream": "stdout",
       "text": [
        "\n",
        "    31  |  \u001b[94m  0.028888\u001b[0m  |    0.029293  |     0.986165  |             |  4.4s"
       ]
      },
      {
       "output_type": "stream",
       "stream": "stdout",
       "text": [
        "\n",
        "    32  |  \u001b[94m  0.028872\u001b[0m  |  \u001b[32m  0.029250\u001b[0m  |     0.987076  |             |  4.4s"
       ]
      },
      {
       "output_type": "stream",
       "stream": "stdout",
       "text": [
        "\n",
        "    33  |  \u001b[94m  0.028847\u001b[0m  |  \u001b[32m  0.029208\u001b[0m  |     0.987671  |             |  4.4s"
       ]
      },
      {
       "output_type": "stream",
       "stream": "stdout",
       "text": [
        "\n",
        "    34  |  \u001b[94m  0.028796\u001b[0m  |  \u001b[32m  0.029168\u001b[0m  |     0.987269  |             |  4.4s"
       ]
      },
      {
       "output_type": "stream",
       "stream": "stdout",
       "text": [
        "\n",
        "    35  |  \u001b[94m  0.028774\u001b[0m  |  \u001b[32m  0.029130\u001b[0m  |     0.987785  |             |  4.4s"
       ]
      },
      {
       "output_type": "stream",
       "stream": "stdout",
       "text": [
        "\n",
        "    36  |  \u001b[94m  0.028746\u001b[0m  |  \u001b[32m  0.029090\u001b[0m  |     0.988174  |             |  4.4s"
       ]
      },
      {
       "output_type": "stream",
       "stream": "stdout",
       "text": [
        "\n",
        "    37  |  \u001b[94m  0.028733\u001b[0m  |  \u001b[32m  0.029084\u001b[0m  |     0.987920  |             |  4.4s"
       ]
      },
      {
       "output_type": "stream",
       "stream": "stdout",
       "text": [
        "\n",
        "    38  |  \u001b[94m  0.028692\u001b[0m  |  \u001b[32m  0.029046\u001b[0m  |     0.987826  |             |  4.4s"
       ]
      },
      {
       "output_type": "stream",
       "stream": "stdout",
       "text": [
        "\n",
        "    39  |  \u001b[94m  0.028637\u001b[0m  |  \u001b[32m  0.029020\u001b[0m  |     0.986799  |             |  4.4s"
       ]
      },
      {
       "output_type": "stream",
       "stream": "stdout",
       "text": [
        "\n",
        "    40  |    0.028640  |  \u001b[32m  0.028987\u001b[0m  |     0.988024  |             |  4.4s"
       ]
      },
      {
       "output_type": "stream",
       "stream": "stdout",
       "text": [
        "\n",
        "    41  |  \u001b[94m  0.028568\u001b[0m  |  \u001b[32m  0.028947\u001b[0m  |     0.986898  |             |  4.4s"
       ]
      },
      {
       "output_type": "stream",
       "stream": "stdout",
       "text": [
        "\n",
        "    42  |  \u001b[94m  0.028545\u001b[0m  |  \u001b[32m  0.028886\u001b[0m  |     0.988190  |             |  4.4s"
       ]
      },
      {
       "output_type": "stream",
       "stream": "stdout",
       "text": [
        "\n",
        "    43  |  \u001b[94m  0.028501\u001b[0m  |  \u001b[32m  0.028884\u001b[0m  |     0.986754  |             |  4.4s"
       ]
      },
      {
       "output_type": "stream",
       "stream": "stdout",
       "text": [
        "\n",
        "    44  |  \u001b[94m  0.028484\u001b[0m  |  \u001b[32m  0.028860\u001b[0m  |     0.986963  |             |  4.4s"
       ]
      },
      {
       "output_type": "stream",
       "stream": "stdout",
       "text": [
        "\n",
        "    45  |  \u001b[94m  0.028459\u001b[0m  |  \u001b[32m  0.028807\u001b[0m  |     0.987913  |             |  4.4s"
       ]
      },
      {
       "output_type": "stream",
       "stream": "stdout",
       "text": [
        "\n",
        "    46  |  \u001b[94m  0.028427\u001b[0m  |  \u001b[32m  0.028791\u001b[0m  |     0.987376  |             |  4.4s"
       ]
      },
      {
       "output_type": "stream",
       "stream": "stdout",
       "text": [
        "\n",
        "    47  |  \u001b[94m  0.028394\u001b[0m  |  \u001b[32m  0.028780\u001b[0m  |     0.986593  |             |  4.4s"
       ]
      },
      {
       "output_type": "stream",
       "stream": "stdout",
       "text": [
        "\n",
        "    48  |  \u001b[94m  0.028360\u001b[0m  |  \u001b[32m  0.028731\u001b[0m  |     0.987086  |             |  4.4s"
       ]
      },
      {
       "output_type": "stream",
       "stream": "stdout",
       "text": [
        "\n",
        "    49  |  \u001b[94m  0.028331\u001b[0m  |  \u001b[32m  0.028710\u001b[0m  |     0.986805  |             |  4.4s"
       ]
      },
      {
       "output_type": "stream",
       "stream": "stdout",
       "text": [
        "\n",
        "    50  |  \u001b[94m  0.028307\u001b[0m  |  \u001b[32m  0.028664\u001b[0m  |     0.987527  |             |  4.4s"
       ]
      },
      {
       "output_type": "stream",
       "stream": "stdout",
       "text": [
        "\n",
        "    51  |  \u001b[94m  0.028254\u001b[0m  |  \u001b[32m  0.028611\u001b[0m  |     0.987502  |             |  4.4s"
       ]
      },
      {
       "output_type": "stream",
       "stream": "stdout",
       "text": [
        "\n",
        "    52  |  \u001b[94m  0.028224\u001b[0m  |  \u001b[32m  0.028588\u001b[0m  |     0.987270  |             |  4.4s"
       ]
      },
      {
       "output_type": "stream",
       "stream": "stdout",
       "text": [
        "\n",
        "    53  |  \u001b[94m  0.028182\u001b[0m  |    0.028591  |     0.985679  |             |  4.4s"
       ]
      },
      {
       "output_type": "stream",
       "stream": "stdout",
       "text": [
        "\n",
        "    54  |  \u001b[94m  0.028161\u001b[0m  |  \u001b[32m  0.028576\u001b[0m  |     0.985469  |             |  4.4s"
       ]
      },
      {
       "output_type": "stream",
       "stream": "stdout",
       "text": [
        "\n",
        "    55  |  \u001b[94m  0.028140\u001b[0m  |  \u001b[32m  0.028494\u001b[0m  |     0.987577  |             |  4.4s"
       ]
      },
      {
       "output_type": "stream",
       "stream": "stdout",
       "text": [
        "\n",
        "    56  |  \u001b[94m  0.028104\u001b[0m  |  \u001b[32m  0.028476\u001b[0m  |     0.986942  |             |  4.4s"
       ]
      },
      {
       "output_type": "stream",
       "stream": "stdout",
       "text": [
        "\n",
        "    57  |  \u001b[94m  0.028061\u001b[0m  |  \u001b[32m  0.028452\u001b[0m  |     0.986260  |             |  4.4s"
       ]
      },
      {
       "output_type": "stream",
       "stream": "stdout",
       "text": [
        "\n",
        "    58  |  \u001b[94m  0.028010\u001b[0m  |  \u001b[32m  0.028416\u001b[0m  |     0.985746  |             |  4.4s"
       ]
      },
      {
       "output_type": "stream",
       "stream": "stdout",
       "text": [
        "\n",
        "    59  |  \u001b[94m  0.027977\u001b[0m  |  \u001b[32m  0.028371\u001b[0m  |     0.986119  |             |  4.4s"
       ]
      },
      {
       "output_type": "stream",
       "stream": "stdout",
       "text": [
        "\n",
        "    60  |  \u001b[94m  0.027937\u001b[0m  |  \u001b[32m  0.028312\u001b[0m  |     0.986750  |             |  4.4s"
       ]
      },
      {
       "output_type": "stream",
       "stream": "stdout",
       "text": [
        "\n",
        "    61  |    0.027941  |  \u001b[32m  0.028289\u001b[0m  |     0.987703  |             |  4.4s"
       ]
      },
      {
       "output_type": "stream",
       "stream": "stdout",
       "text": [
        "\n",
        "    62  |  \u001b[94m  0.027875\u001b[0m  |  \u001b[32m  0.028268\u001b[0m  |     0.986091  |             |  4.4s"
       ]
      },
      {
       "output_type": "stream",
       "stream": "stdout",
       "text": [
        "\n",
        "    63  |  \u001b[94m  0.027865\u001b[0m  |  \u001b[32m  0.028267\u001b[0m  |     0.985767  |             |  4.4s"
       ]
      },
      {
       "output_type": "stream",
       "stream": "stdout",
       "text": [
        "\n",
        "    64  |  \u001b[94m  0.027821\u001b[0m  |  \u001b[32m  0.028202\u001b[0m  |     0.986496  |             |  4.4s"
       ]
      },
      {
       "output_type": "stream",
       "stream": "stdout",
       "text": [
        "\n",
        "    65  |  \u001b[94m  0.027791\u001b[0m  |  \u001b[32m  0.028161\u001b[0m  |     0.986872  |             |  4.4s"
       ]
      },
      {
       "output_type": "stream",
       "stream": "stdout",
       "text": [
        "\n",
        "    66  |  \u001b[94m  0.027746\u001b[0m  |  \u001b[32m  0.028114\u001b[0m  |     0.986918  |             |  4.4s"
       ]
      },
      {
       "output_type": "stream",
       "stream": "stdout",
       "text": [
        "\n",
        "    67  |  \u001b[94m  0.027716\u001b[0m  |  \u001b[32m  0.028092\u001b[0m  |     0.986599  |             |  4.4s"
       ]
      },
      {
       "output_type": "stream",
       "stream": "stdout",
       "text": [
        "\n",
        "    68  |  \u001b[94m  0.027660\u001b[0m  |  \u001b[32m  0.028060\u001b[0m  |     0.985761  |             |  4.4s"
       ]
      },
      {
       "output_type": "stream",
       "stream": "stdout",
       "text": [
        "\n",
        "    69  |  \u001b[94m  0.027637\u001b[0m  |  \u001b[32m  0.027997\u001b[0m  |     0.987143  |             |  4.4s"
       ]
      },
      {
       "output_type": "stream",
       "stream": "stdout",
       "text": [
        "\n",
        "    70  |  \u001b[94m  0.027606\u001b[0m  |  \u001b[32m  0.027995\u001b[0m  |     0.986097  |             |  4.4s"
       ]
      },
      {
       "output_type": "stream",
       "stream": "stdout",
       "text": [
        "\n",
        "    71  |  \u001b[94m  0.027592\u001b[0m  |  \u001b[32m  0.027970\u001b[0m  |     0.986505  |             |  4.4s"
       ]
      },
      {
       "output_type": "stream",
       "stream": "stdout",
       "text": [
        "\n",
        "    72  |  \u001b[94m  0.027533\u001b[0m  |  \u001b[32m  0.027915\u001b[0m  |     0.986297  |             |  4.4s"
       ]
      },
      {
       "output_type": "stream",
       "stream": "stdout",
       "text": [
        "\n",
        "    73  |  \u001b[94m  0.027501\u001b[0m  |  \u001b[32m  0.027864\u001b[0m  |     0.986962  |             |  4.4s"
       ]
      },
      {
       "output_type": "stream",
       "stream": "stdout",
       "text": [
        "\n",
        "    74  |  \u001b[94m  0.027474\u001b[0m  |    0.027869  |     0.985843  |             |  4.4s"
       ]
      },
      {
       "output_type": "stream",
       "stream": "stdout",
       "text": [
        "\n",
        "    75  |  \u001b[94m  0.027448\u001b[0m  |  \u001b[32m  0.027800\u001b[0m  |     0.987339  |             |  4.4s"
       ]
      },
      {
       "output_type": "stream",
       "stream": "stdout",
       "text": [
        "\n",
        "    76  |  \u001b[94m  0.027406\u001b[0m  |  \u001b[32m  0.027743\u001b[0m  |     0.987850  |             |  4.4s"
       ]
      },
      {
       "output_type": "stream",
       "stream": "stdout",
       "text": [
        "\n",
        "    77  |  \u001b[94m  0.027325\u001b[0m  |  \u001b[32m  0.027710\u001b[0m  |     0.986102  |             |  4.4s"
       ]
      },
      {
       "output_type": "stream",
       "stream": "stdout",
       "text": [
        "\n",
        "    78  |  \u001b[94m  0.027318\u001b[0m  |    0.027710  |     0.985855  |             |  4.4s"
       ]
      },
      {
       "output_type": "stream",
       "stream": "stdout",
       "text": [
        "\n",
        "    79  |  \u001b[94m  0.027245\u001b[0m  |  \u001b[32m  0.027670\u001b[0m  |     0.984641  |             |  4.4s"
       ]
      },
      {
       "output_type": "stream",
       "stream": "stdout",
       "text": [
        "\n",
        "    80  |  \u001b[94m  0.027223\u001b[0m  |  \u001b[32m  0.027592\u001b[0m  |     0.986623  |             |  4.4s"
       ]
      },
      {
       "output_type": "stream",
       "stream": "stdout",
       "text": [
        "\n",
        "    81  |  \u001b[94m  0.027216\u001b[0m  |  \u001b[32m  0.027541\u001b[0m  |     0.988195  |             |  4.4s"
       ]
      },
      {
       "output_type": "stream",
       "stream": "stdout",
       "text": [
        "\n",
        "    82  |  \u001b[94m  0.027147\u001b[0m  |  \u001b[32m  0.027493\u001b[0m  |     0.987424  |             |  4.4s"
       ]
      },
      {
       "output_type": "stream",
       "stream": "stdout",
       "text": [
        "\n",
        "    83  |  \u001b[94m  0.027110\u001b[0m  |  \u001b[32m  0.027486\u001b[0m  |     0.986307  |             |  4.4s"
       ]
      },
      {
       "output_type": "stream",
       "stream": "stdout",
       "text": [
        "\n",
        "    84  |  \u001b[94m  0.027077\u001b[0m  |  \u001b[32m  0.027451\u001b[0m  |     0.986388  |             |  4.4s"
       ]
      },
      {
       "output_type": "stream",
       "stream": "stdout",
       "text": [
        "\n",
        "    85  |  \u001b[94m  0.027034\u001b[0m  |  \u001b[32m  0.027427\u001b[0m  |     0.985656  |             |  4.4s"
       ]
      },
      {
       "output_type": "stream",
       "stream": "stdout",
       "text": [
        "\n",
        "    86  |  \u001b[94m  0.026994\u001b[0m  |  \u001b[32m  0.027363\u001b[0m  |     0.986524  |             |  4.4s"
       ]
      },
      {
       "output_type": "stream",
       "stream": "stdout",
       "text": [
        "\n",
        "    87  |  \u001b[94m  0.026952\u001b[0m  |  \u001b[32m  0.027297\u001b[0m  |     0.987373  |             |  4.4s"
       ]
      },
      {
       "output_type": "stream",
       "stream": "stdout",
       "text": [
        "\n",
        "    88  |  \u001b[94m  0.026910\u001b[0m  |  \u001b[32m  0.027268\u001b[0m  |     0.986865  |             |  4.4s"
       ]
      },
      {
       "output_type": "stream",
       "stream": "stdout",
       "text": [
        "\n",
        "    89  |  \u001b[94m  0.026863\u001b[0m  |  \u001b[32m  0.027195\u001b[0m  |     0.987794  |             |  4.4s"
       ]
      },
      {
       "output_type": "stream",
       "stream": "stdout",
       "text": [
        "\n",
        "    90  |  \u001b[94m  0.026789\u001b[0m  |  \u001b[32m  0.027180\u001b[0m  |     0.985612  |             |  4.4s"
       ]
      },
      {
       "output_type": "stream",
       "stream": "stdout",
       "text": [
        "\n",
        "    91  |    0.026794  |  \u001b[32m  0.027098\u001b[0m  |     0.988801  |             |  4.4s"
       ]
      },
      {
       "output_type": "stream",
       "stream": "stdout",
       "text": [
        "\n",
        "    92  |  \u001b[94m  0.026725\u001b[0m  |  \u001b[32m  0.027048\u001b[0m  |     0.988076  |             |  4.4s"
       ]
      },
      {
       "output_type": "stream",
       "stream": "stdout",
       "text": [
        "\n",
        "    93  |  \u001b[94m  0.026672\u001b[0m  |  \u001b[32m  0.026991\u001b[0m  |     0.988189  |             |  4.4s"
       ]
      },
      {
       "output_type": "stream",
       "stream": "stdout",
       "text": [
        "\n",
        "    94  |  \u001b[94m  0.026656\u001b[0m  |    0.026998  |     0.987321  |             |  4.4s"
       ]
      },
      {
       "output_type": "stream",
       "stream": "stdout",
       "text": [
        "\n",
        "    95  |  \u001b[94m  0.026618\u001b[0m  |  \u001b[32m  0.026961\u001b[0m  |     0.987283  |             |  4.4s"
       ]
      },
      {
       "output_type": "stream",
       "stream": "stdout",
       "text": [
        "\n",
        "    96  |  \u001b[94m  0.026519\u001b[0m  |  \u001b[32m  0.026852\u001b[0m  |     0.987582  |             |  4.4s"
       ]
      },
      {
       "output_type": "stream",
       "stream": "stdout",
       "text": [
        "\n",
        "    97  |  \u001b[94m  0.026502\u001b[0m  |  \u001b[32m  0.026828\u001b[0m  |     0.987863  |             |  4.4s"
       ]
      },
      {
       "output_type": "stream",
       "stream": "stdout",
       "text": [
        "\n",
        "    98  |  \u001b[94m  0.026470\u001b[0m  |  \u001b[32m  0.026766\u001b[0m  |     0.988925  |             |  4.4s"
       ]
      },
      {
       "output_type": "stream",
       "stream": "stdout",
       "text": [
        "\n",
        "    99  |  \u001b[94m  0.026407\u001b[0m  |  \u001b[32m  0.026696\u001b[0m  |     0.989139  |             |  4.4s"
       ]
      },
      {
       "output_type": "stream",
       "stream": "stdout",
       "text": [
        "\n",
        "   100  |    0.026409  |  \u001b[32m  0.026636\u001b[0m  |     0.991455  |             |  4.4s"
       ]
      },
      {
       "output_type": "stream",
       "stream": "stdout",
       "text": [
        "\n",
        "   101  |  \u001b[94m  0.026364\u001b[0m  |  \u001b[32m  0.026604\u001b[0m  |     0.990988  |             |  4.4s"
       ]
      },
      {
       "output_type": "stream",
       "stream": "stdout",
       "text": [
        "\n",
        "   102  |  \u001b[94m  0.026291\u001b[0m  |  \u001b[32m  0.026555\u001b[0m  |     0.990035  |             |  4.4s"
       ]
      },
      {
       "output_type": "stream",
       "stream": "stdout",
       "text": [
        "\n",
        "   103  |  \u001b[94m  0.026227\u001b[0m  |  \u001b[32m  0.026508\u001b[0m  |     0.989391  |             |  4.4s"
       ]
      },
      {
       "output_type": "stream",
       "stream": "stdout",
       "text": [
        "\n",
        "   104  |  \u001b[94m  0.026179\u001b[0m  |  \u001b[32m  0.026432\u001b[0m  |     0.990416  |             |  4.4s"
       ]
      },
      {
       "output_type": "stream",
       "stream": "stdout",
       "text": [
        "\n",
        "   105  |  \u001b[94m  0.026141\u001b[0m  |  \u001b[32m  0.026376\u001b[0m  |     0.991085  |             |  4.4s"
       ]
      },
      {
       "output_type": "stream",
       "stream": "stdout",
       "text": [
        "\n",
        "   106  |  \u001b[94m  0.026089\u001b[0m  |  \u001b[32m  0.026318\u001b[0m  |     0.991328  |             |  4.4s"
       ]
      },
      {
       "output_type": "stream",
       "stream": "stdout",
       "text": [
        "\n",
        "   107  |  \u001b[94m  0.026015\u001b[0m  |  \u001b[32m  0.026243\u001b[0m  |     0.991297  |             |  4.4s"
       ]
      },
      {
       "output_type": "stream",
       "stream": "stdout",
       "text": [
        "\n",
        "   108  |  \u001b[94m  0.026000\u001b[0m  |  \u001b[32m  0.026213\u001b[0m  |     0.991867  |             |  4.4s"
       ]
      },
      {
       "output_type": "stream",
       "stream": "stdout",
       "text": [
        "\n",
        "   109  |  \u001b[94m  0.025977\u001b[0m  |  \u001b[32m  0.026149\u001b[0m  |     0.993404  |             |  4.4s"
       ]
      },
      {
       "output_type": "stream",
       "stream": "stdout",
       "text": [
        "\n",
        "   110  |  \u001b[94m  0.025884\u001b[0m  |  \u001b[32m  0.026107\u001b[0m  |     0.991454  |             |  4.4s"
       ]
      },
      {
       "output_type": "stream",
       "stream": "stdout",
       "text": [
        "\n",
        "   111  |  \u001b[94m  0.025862\u001b[0m  |  \u001b[32m  0.026097\u001b[0m  |     0.990979  |             |  4.4s"
       ]
      },
      {
       "output_type": "stream",
       "stream": "stdout",
       "text": [
        "\n",
        "   112  |  \u001b[94m  0.025821\u001b[0m  |  \u001b[32m  0.026006\u001b[0m  |     0.992887  |             |  4.4s"
       ]
      },
      {
       "output_type": "stream",
       "stream": "stdout",
       "text": [
        "\n",
        "   113  |  \u001b[94m  0.025752\u001b[0m  |  \u001b[32m  0.025940\u001b[0m  |     0.992743  |             |  4.4s"
       ]
      },
      {
       "output_type": "stream",
       "stream": "stdout",
       "text": [
        "\n",
        "   114  |  \u001b[94m  0.025734\u001b[0m  |  \u001b[32m  0.025898\u001b[0m  |     0.993656  |             |  4.4s"
       ]
      },
      {
       "output_type": "stream",
       "stream": "stdout",
       "text": [
        "\n",
        "   115  |  \u001b[94m  0.025695\u001b[0m  |  \u001b[32m  0.025850\u001b[0m  |     0.994013  |             |  4.4s"
       ]
      },
      {
       "output_type": "stream",
       "stream": "stdout",
       "text": [
        "\n",
        "   116  |  \u001b[94m  0.025615\u001b[0m  |  \u001b[32m  0.025779\u001b[0m  |     0.993635  |             |  4.4s"
       ]
      },
      {
       "output_type": "stream",
       "stream": "stdout",
       "text": [
        "\n",
        "   117  |  \u001b[94m  0.025573\u001b[0m  |  \u001b[32m  0.025747\u001b[0m  |     0.993230  |             |  4.4s"
       ]
      },
      {
       "output_type": "stream",
       "stream": "stdout",
       "text": [
        "\n",
        "   118  |  \u001b[94m  0.025501\u001b[0m  |  \u001b[32m  0.025622\u001b[0m  |     0.995278  |             |  4.4s"
       ]
      },
      {
       "output_type": "stream",
       "stream": "stdout",
       "text": [
        "\n",
        "   119  |  \u001b[94m  0.025486\u001b[0m  |  \u001b[32m  0.025596\u001b[0m  |     0.995728  |             |  4.4s"
       ]
      },
      {
       "output_type": "stream",
       "stream": "stdout",
       "text": [
        "\n",
        "   120  |  \u001b[94m  0.025426\u001b[0m  |  \u001b[32m  0.025529\u001b[0m  |     0.995993  |             |  4.4s"
       ]
      },
      {
       "output_type": "stream",
       "stream": "stdout",
       "text": [
        "\n",
        "   121  |  \u001b[94m  0.025410\u001b[0m  |  \u001b[32m  0.025454\u001b[0m  |     0.998281  |             |  4.4s"
       ]
      },
      {
       "output_type": "stream",
       "stream": "stdout",
       "text": [
        "\n",
        "   122  |  \u001b[94m  0.025353\u001b[0m  |  \u001b[32m  0.025419\u001b[0m  |     0.997418  |             |  4.4s"
       ]
      },
      {
       "output_type": "stream",
       "stream": "stdout",
       "text": [
        "\n",
        "   123  |  \u001b[94m  0.025322\u001b[0m  |  \u001b[32m  0.025375\u001b[0m  |     0.997919  |             |  4.4s"
       ]
      },
      {
       "output_type": "stream",
       "stream": "stdout",
       "text": [
        "\n",
        "   124  |  \u001b[94m  0.025222\u001b[0m  |  \u001b[32m  0.025277\u001b[0m  |     0.997797  |             |  4.4s"
       ]
      },
      {
       "output_type": "stream",
       "stream": "stdout",
       "text": [
        "\n",
        "   125  |  \u001b[94m  0.025200\u001b[0m  |  \u001b[32m  0.025267\u001b[0m  |     0.997332  |             |  4.4s"
       ]
      },
      {
       "output_type": "stream",
       "stream": "stdout",
       "text": [
        "\n",
        "   126  |  \u001b[94m  0.025130\u001b[0m  |  \u001b[32m  0.025217\u001b[0m  |     0.996566  |             |  4.4s"
       ]
      },
      {
       "output_type": "stream",
       "stream": "stdout",
       "text": [
        "\n",
        "   127  |  \u001b[94m  0.025079\u001b[0m  |  \u001b[32m  0.025106\u001b[0m  |     0.998964  |             |  4.4s"
       ]
      },
      {
       "output_type": "stream",
       "stream": "stdout",
       "text": [
        "\n",
        "   128  |  \u001b[94m  0.025057\u001b[0m  |    0.025112  |     0.997824  |             |  4.4s"
       ]
      },
      {
       "output_type": "stream",
       "stream": "stdout",
       "text": [
        "\n",
        "   129  |  \u001b[94m  0.024963\u001b[0m  |  \u001b[32m  0.024978\u001b[0m  |     0.999389  |             |  4.4s"
       ]
      },
      {
       "output_type": "stream",
       "stream": "stdout",
       "text": [
        "\n",
        "   130  |  \u001b[94m  0.024938\u001b[0m  |    0.024982  |     0.998254  |             |  4.4s"
       ]
      },
      {
       "output_type": "stream",
       "stream": "stdout",
       "text": [
        "\n",
        "   131  |  \u001b[94m  0.024888\u001b[0m  |  \u001b[32m  0.024931\u001b[0m  |     0.998285  |             |  4.4s"
       ]
      },
      {
       "output_type": "stream",
       "stream": "stdout",
       "text": [
        "\n",
        "   132  |  \u001b[94m  0.024820\u001b[0m  |  \u001b[32m  0.024858\u001b[0m  |     0.998500  |             |  4.4s"
       ]
      },
      {
       "output_type": "stream",
       "stream": "stdout",
       "text": [
        "\n",
        "   133  |  \u001b[94m  0.024793\u001b[0m  |  \u001b[32m  0.024812\u001b[0m  |     0.999236  |             |  4.4s"
       ]
      },
      {
       "output_type": "stream",
       "stream": "stdout",
       "text": [
        "\n",
        "   134  |  \u001b[94m  0.024717\u001b[0m  |  \u001b[32m  0.024688\u001b[0m  |     1.001193  |             |  4.4s"
       ]
      },
      {
       "output_type": "stream",
       "stream": "stdout",
       "text": [
        "\n",
        "   135  |  \u001b[94m  0.024654\u001b[0m  |  \u001b[32m  0.024637\u001b[0m  |     1.000698  |             |  4.4s"
       ]
      },
      {
       "output_type": "stream",
       "stream": "stdout",
       "text": [
        "\n",
        "   136  |  \u001b[94m  0.024581\u001b[0m  |  \u001b[32m  0.024551\u001b[0m  |     1.001239  |             |  4.4s"
       ]
      },
      {
       "output_type": "stream",
       "stream": "stdout",
       "text": [
        "\n",
        "   137  |  \u001b[94m  0.024551\u001b[0m  |  \u001b[32m  0.024493\u001b[0m  |     1.002367  |             |  4.4s"
       ]
      },
      {
       "output_type": "stream",
       "stream": "stdout",
       "text": [
        "\n",
        "   138  |  \u001b[94m  0.024494\u001b[0m  |  \u001b[32m  0.024410\u001b[0m  |     1.003467  |             |  4.4s"
       ]
      },
      {
       "output_type": "stream",
       "stream": "stdout",
       "text": [
        "\n",
        "   139  |  \u001b[94m  0.024462\u001b[0m  |  \u001b[32m  0.024402\u001b[0m  |     1.002467  |             |  4.4s"
       ]
      },
      {
       "output_type": "stream",
       "stream": "stdout",
       "text": [
        "\n",
        "   140  |  \u001b[94m  0.024403\u001b[0m  |  \u001b[32m  0.024280\u001b[0m  |     1.005067  |             |  4.4s"
       ]
      },
      {
       "output_type": "stream",
       "stream": "stdout",
       "text": [
        "\n",
        "   141  |  \u001b[94m  0.024386\u001b[0m  |  \u001b[32m  0.024260\u001b[0m  |     1.005200  |             |  4.4s"
       ]
      },
      {
       "output_type": "stream",
       "stream": "stdout",
       "text": [
        "\n",
        "   142  |  \u001b[94m  0.024270\u001b[0m  |  \u001b[32m  0.024219\u001b[0m  |     1.002109  |             |  4.4s"
       ]
      },
      {
       "output_type": "stream",
       "stream": "stdout",
       "text": [
        "\n",
        "   143  |  \u001b[94m  0.024260\u001b[0m  |  \u001b[32m  0.024117\u001b[0m  |     1.005914  |             |  4.4s"
       ]
      },
      {
       "output_type": "stream",
       "stream": "stdout",
       "text": [
        "\n",
        "   144  |  \u001b[94m  0.024210\u001b[0m  |  \u001b[32m  0.024056\u001b[0m  |     1.006425  |             |  4.4s"
       ]
      },
      {
       "output_type": "stream",
       "stream": "stdout",
       "text": [
        "\n",
        "   145  |  \u001b[94m  0.024159\u001b[0m  |  \u001b[32m  0.023977\u001b[0m  |     1.007611  |             |  4.4s"
       ]
      },
      {
       "output_type": "stream",
       "stream": "stdout",
       "text": [
        "\n",
        "   146  |  \u001b[94m  0.024085\u001b[0m  |  \u001b[32m  0.023910\u001b[0m  |     1.007312  |             |  4.4s"
       ]
      },
      {
       "output_type": "stream",
       "stream": "stdout",
       "text": [
        "\n",
        "   147  |  \u001b[94m  0.024037\u001b[0m  |  \u001b[32m  0.023881\u001b[0m  |     1.006519  |             |  4.4s"
       ]
      },
      {
       "output_type": "stream",
       "stream": "stdout",
       "text": [
        "\n",
        "   148  |  \u001b[94m  0.023964\u001b[0m  |  \u001b[32m  0.023819\u001b[0m  |     1.006092  |             |  4.4s"
       ]
      },
      {
       "output_type": "stream",
       "stream": "stdout",
       "text": [
        "\n",
        "   149  |  \u001b[94m  0.023955\u001b[0m  |  \u001b[32m  0.023669\u001b[0m  |     1.012055  |             |  4.4s"
       ]
      },
      {
       "output_type": "stream",
       "stream": "stdout",
       "text": [
        "\n",
        "   150  |  \u001b[94m  0.023926\u001b[0m  |  \u001b[32m  0.023648\u001b[0m  |     1.011737  |             |  4.4s"
       ]
      },
      {
       "output_type": "stream",
       "stream": "stdout",
       "text": [
        "\n",
        "   151  |  \u001b[94m  0.023836\u001b[0m  |  \u001b[32m  0.023550\u001b[0m  |     1.012140  |             |  4.4s"
       ]
      },
      {
       "output_type": "stream",
       "stream": "stdout",
       "text": [
        "\n",
        "   152  |  \u001b[94m  0.023805\u001b[0m  |  \u001b[32m  0.023515\u001b[0m  |     1.012348  |             |  4.4s"
       ]
      },
      {
       "output_type": "stream",
       "stream": "stdout",
       "text": [
        "\n",
        "   153  |  \u001b[94m  0.023705\u001b[0m  |  \u001b[32m  0.023500\u001b[0m  |     1.008713  |             |  4.4s"
       ]
      },
      {
       "output_type": "stream",
       "stream": "stdout",
       "text": [
        "\n",
        "   154  |  \u001b[94m  0.023699\u001b[0m  |  \u001b[32m  0.023395\u001b[0m  |     1.013004  |             |  4.4s"
       ]
      },
      {
       "output_type": "stream",
       "stream": "stdout",
       "text": [
        "\n",
        "   155  |  \u001b[94m  0.023605\u001b[0m  |  \u001b[32m  0.023376\u001b[0m  |     1.009777  |             |  4.4s"
       ]
      },
      {
       "output_type": "stream",
       "stream": "stdout",
       "text": [
        "\n",
        "   156  |  \u001b[94m  0.023558\u001b[0m  |  \u001b[32m  0.023264\u001b[0m  |     1.012641  |             |  4.4s"
       ]
      },
      {
       "output_type": "stream",
       "stream": "stdout",
       "text": [
        "\n",
        "   157  |  \u001b[94m  0.023453\u001b[0m  |  \u001b[32m  0.023173\u001b[0m  |     1.012094  |             |  4.4s"
       ]
      },
      {
       "output_type": "stream",
       "stream": "stdout",
       "text": [
        "\n",
        "   158  |  \u001b[94m  0.023444\u001b[0m  |  \u001b[32m  0.023143\u001b[0m  |     1.012977  |             |  4.4s"
       ]
      },
      {
       "output_type": "stream",
       "stream": "stdout",
       "text": [
        "\n",
        "   159  |  \u001b[94m  0.023402\u001b[0m  |  \u001b[32m  0.023101\u001b[0m  |     1.013006  |             |  4.4s"
       ]
      },
      {
       "output_type": "stream",
       "stream": "stdout",
       "text": [
        "\n",
        "   160  |  \u001b[94m  0.023290\u001b[0m  |  \u001b[32m  0.023025\u001b[0m  |     1.011540  |             |  4.4s"
       ]
      },
      {
       "output_type": "stream",
       "stream": "stdout",
       "text": [
        "\n",
        "   161  |  \u001b[94m  0.023246\u001b[0m  |  \u001b[32m  0.022940\u001b[0m  |     1.013302  |             |  4.4s"
       ]
      },
      {
       "output_type": "stream",
       "stream": "stdout",
       "text": [
        "\n",
        "   162  |  \u001b[94m  0.023237\u001b[0m  |  \u001b[32m  0.022916\u001b[0m  |     1.013999  |             |  4.4s"
       ]
      },
      {
       "output_type": "stream",
       "stream": "stdout",
       "text": [
        "\n",
        "   163  |  \u001b[94m  0.023188\u001b[0m  |  \u001b[32m  0.022819\u001b[0m  |     1.016168  |             |  4.4s"
       ]
      },
      {
       "output_type": "stream",
       "stream": "stdout",
       "text": [
        "\n",
        "   164  |  \u001b[94m  0.023138\u001b[0m  |  \u001b[32m  0.022737\u001b[0m  |     1.017634  |             |  4.4s"
       ]
      },
      {
       "output_type": "stream",
       "stream": "stdout",
       "text": [
        "\n",
        "   165  |  \u001b[94m  0.023090\u001b[0m  |  \u001b[32m  0.022650\u001b[0m  |     1.019446  |             |  4.4s"
       ]
      },
      {
       "output_type": "stream",
       "stream": "stdout",
       "text": [
        "\n",
        "   166  |  \u001b[94m  0.023021\u001b[0m  |  \u001b[32m  0.022630\u001b[0m  |     1.017268  |             |  4.4s"
       ]
      },
      {
       "output_type": "stream",
       "stream": "stdout",
       "text": [
        "\n",
        "   167  |  \u001b[94m  0.022937\u001b[0m  |  \u001b[32m  0.022519\u001b[0m  |     1.018564  |             |  4.4s"
       ]
      },
      {
       "output_type": "stream",
       "stream": "stdout",
       "text": [
        "\n",
        "   168  |  \u001b[94m  0.022872\u001b[0m  |  \u001b[32m  0.022430\u001b[0m  |     1.019708  |             |  4.4s"
       ]
      },
      {
       "output_type": "stream",
       "stream": "stdout",
       "text": [
        "\n",
        "   169  |  \u001b[94m  0.022820\u001b[0m  |  \u001b[32m  0.022416\u001b[0m  |     1.018046  |             |  4.4s"
       ]
      },
      {
       "output_type": "stream",
       "stream": "stdout",
       "text": [
        "\n",
        "   170  |    0.022821  |  \u001b[32m  0.022308\u001b[0m  |     1.022989  |             |  4.4s"
       ]
      },
      {
       "output_type": "stream",
       "stream": "stdout",
       "text": [
        "\n",
        "   171  |  \u001b[94m  0.022711\u001b[0m  |  \u001b[32m  0.022257\u001b[0m  |     1.020411  |             |  4.4s"
       ]
      },
      {
       "output_type": "stream",
       "stream": "stdout",
       "text": [
        "\n",
        "   172  |    0.022717  |  \u001b[32m  0.022218\u001b[0m  |     1.022462  |             |  4.4s"
       ]
      },
      {
       "output_type": "stream",
       "stream": "stdout",
       "text": [
        "\n",
        "   173  |  \u001b[94m  0.022632\u001b[0m  |  \u001b[32m  0.022158\u001b[0m  |     1.021392  |             |  4.4s"
       ]
      },
      {
       "output_type": "stream",
       "stream": "stdout",
       "text": [
        "\n",
        "   174  |  \u001b[94m  0.022548\u001b[0m  |  \u001b[32m  0.022058\u001b[0m  |     1.022218  |             |  4.4s"
       ]
      },
      {
       "output_type": "stream",
       "stream": "stdout",
       "text": [
        "\n",
        "   175  |  \u001b[94m  0.022425\u001b[0m  |  \u001b[32m  0.021967\u001b[0m  |     1.020823  |             |  4.4s"
       ]
      },
      {
       "output_type": "stream",
       "stream": "stdout",
       "text": [
        "\n",
        "   176  |    0.022442  |    0.021994  |     1.020377  |             |  4.4s"
       ]
      },
      {
       "output_type": "stream",
       "stream": "stdout",
       "text": [
        "\n",
        "   177  |    0.022457  |  \u001b[32m  0.021849\u001b[0m  |     1.027816  |             |  4.4s"
       ]
      },
      {
       "output_type": "stream",
       "stream": "stdout",
       "text": [
        "\n",
        "   178  |  \u001b[94m  0.022266\u001b[0m  |  \u001b[32m  0.021825\u001b[0m  |     1.020189  |             |  4.4s"
       ]
      },
      {
       "output_type": "stream",
       "stream": "stdout",
       "text": [
        "\n",
        "   179  |    0.022292  |  \u001b[32m  0.021733\u001b[0m  |     1.025744  |             |  4.4s"
       ]
      },
      {
       "output_type": "stream",
       "stream": "stdout",
       "text": [
        "\n",
        "   180  |  \u001b[94m  0.022243\u001b[0m  |  \u001b[32m  0.021679\u001b[0m  |     1.026046  |             |  4.4s"
       ]
      },
      {
       "output_type": "stream",
       "stream": "stdout",
       "text": [
        "\n",
        "   181  |  \u001b[94m  0.022171\u001b[0m  |  \u001b[32m  0.021612\u001b[0m  |     1.025861  |             |  4.4s"
       ]
      },
      {
       "output_type": "stream",
       "stream": "stdout",
       "text": [
        "\n",
        "   182  |  \u001b[94m  0.022069\u001b[0m  |  \u001b[32m  0.021564\u001b[0m  |     1.023420  |             |  4.4s"
       ]
      },
      {
       "output_type": "stream",
       "stream": "stdout",
       "text": [
        "\n",
        "   183  |  \u001b[94m  0.022032\u001b[0m  |  \u001b[32m  0.021430\u001b[0m  |     1.028080  |             |  4.4s"
       ]
      },
      {
       "output_type": "stream",
       "stream": "stdout",
       "text": [
        "\n",
        "   184  |  \u001b[94m  0.021970\u001b[0m  |  \u001b[32m  0.021420\u001b[0m  |     1.025669  |             |  4.4s"
       ]
      },
      {
       "output_type": "stream",
       "stream": "stdout",
       "text": [
        "\n",
        "   185  |  \u001b[94m  0.021942\u001b[0m  |  \u001b[32m  0.021286\u001b[0m  |     1.030823  |             |  4.4s"
       ]
      },
      {
       "output_type": "stream",
       "stream": "stdout",
       "text": [
        "\n",
        "   186  |  \u001b[94m  0.021888\u001b[0m  |  \u001b[32m  0.021227\u001b[0m  |     1.031139  |             |  4.4s"
       ]
      },
      {
       "output_type": "stream",
       "stream": "stdout",
       "text": [
        "\n",
        "   187  |  \u001b[94m  0.021844\u001b[0m  |  \u001b[32m  0.021166\u001b[0m  |     1.032072  |             |  4.4s"
       ]
      },
      {
       "output_type": "stream",
       "stream": "stdout",
       "text": [
        "\n",
        "   188  |  \u001b[94m  0.021807\u001b[0m  |    0.021169  |     1.030095  |             |  4.4s"
       ]
      },
      {
       "output_type": "stream",
       "stream": "stdout",
       "text": [
        "\n",
        "   189  |  \u001b[94m  0.021719\u001b[0m  |  \u001b[32m  0.021030\u001b[0m  |     1.032765  |             |  4.4s"
       ]
      },
      {
       "output_type": "stream",
       "stream": "stdout",
       "text": [
        "\n",
        "   190  |  \u001b[94m  0.021640\u001b[0m  |  \u001b[32m  0.020991\u001b[0m  |     1.030944  |             |  4.4s"
       ]
      },
      {
       "output_type": "stream",
       "stream": "stdout",
       "text": [
        "\n",
        "   191  |  \u001b[94m  0.021629\u001b[0m  |  \u001b[32m  0.020902\u001b[0m  |     1.034783  |             |  4.4s"
       ]
      },
      {
       "output_type": "stream",
       "stream": "stdout",
       "text": [
        "\n",
        "   192  |  \u001b[94m  0.021608\u001b[0m  |  \u001b[32m  0.020841\u001b[0m  |     1.036831  |             |  4.4s"
       ]
      },
      {
       "output_type": "stream",
       "stream": "stdout",
       "text": [
        "\n",
        "   193  |  \u001b[94m  0.021509\u001b[0m  |  \u001b[32m  0.020826\u001b[0m  |     1.032815  |             |  4.4s"
       ]
      },
      {
       "output_type": "stream",
       "stream": "stdout",
       "text": [
        "\n",
        "   194  |  \u001b[94m  0.021496\u001b[0m  |  \u001b[32m  0.020729\u001b[0m  |     1.036998  |             |  4.4s"
       ]
      },
      {
       "output_type": "stream",
       "stream": "stdout",
       "text": [
        "\n",
        "   195  |  \u001b[94m  0.021370\u001b[0m  |  \u001b[32m  0.020639\u001b[0m  |     1.035425  |             |  4.4s"
       ]
      },
      {
       "output_type": "stream",
       "stream": "stdout",
       "text": [
        "\n",
        "   196  |  \u001b[94m  0.021369\u001b[0m  |  \u001b[32m  0.020603\u001b[0m  |     1.037180  |             |  4.4s"
       ]
      },
      {
       "output_type": "stream",
       "stream": "stdout",
       "text": [
        "\n",
        "   197  |  \u001b[94m  0.021231\u001b[0m  |  \u001b[32m  0.020528\u001b[0m  |     1.034232  |             |  4.4s"
       ]
      },
      {
       "output_type": "stream",
       "stream": "stdout",
       "text": [
        "\n",
        "   198  |    0.021271  |  \u001b[32m  0.020434\u001b[0m  |     1.040960  |             |  4.4s"
       ]
      },
      {
       "output_type": "stream",
       "stream": "stdout",
       "text": [
        "\n",
        "   199  |  \u001b[94m  0.021197\u001b[0m  |  \u001b[32m  0.020407\u001b[0m  |     1.038695  |             |  4.4s"
       ]
      },
      {
       "output_type": "stream",
       "stream": "stdout",
       "text": [
        "\n",
        "   200  |  \u001b[94m  0.021129\u001b[0m  |  \u001b[32m  0.020359\u001b[0m  |     1.037843  |             |  4.4s"
       ]
      },
      {
       "output_type": "stream",
       "stream": "stdout",
       "text": [
        "\n",
        "   201  |  \u001b[94m  0.021032\u001b[0m  |  \u001b[32m  0.020283\u001b[0m  |     1.036938  |             |  4.4s"
       ]
      },
      {
       "output_type": "stream",
       "stream": "stdout",
       "text": [
        "\n",
        "   202  |    0.021051  |  \u001b[32m  0.020183\u001b[0m  |     1.043011  |             |  4.4s"
       ]
      },
      {
       "output_type": "stream",
       "stream": "stdout",
       "text": [
        "\n",
        "   203  |  \u001b[94m  0.020982\u001b[0m  |  \u001b[32m  0.020140\u001b[0m  |     1.041830  |             |  4.4s"
       ]
      },
      {
       "output_type": "stream",
       "stream": "stdout",
       "text": [
        "\n",
        "   204  |  \u001b[94m  0.020933\u001b[0m  |    0.020155  |     1.038626  |             |  4.4s"
       ]
      },
      {
       "output_type": "stream",
       "stream": "stdout",
       "text": [
        "\n",
        "   205  |  \u001b[94m  0.020844\u001b[0m  |  \u001b[32m  0.019984\u001b[0m  |     1.043076  |             |  4.4s"
       ]
      },
      {
       "output_type": "stream",
       "stream": "stdout",
       "text": [
        "\n",
        "   206  |  \u001b[94m  0.020840\u001b[0m  |  \u001b[32m  0.019924\u001b[0m  |     1.045969  |             |  4.4s"
       ]
      },
      {
       "output_type": "stream",
       "stream": "stdout",
       "text": [
        "\n",
        "   207  |  \u001b[94m  0.020721\u001b[0m  |  \u001b[32m  0.019851\u001b[0m  |     1.043822  |             |  4.4s"
       ]
      },
      {
       "output_type": "stream",
       "stream": "stdout",
       "text": [
        "\n",
        "   208  |  \u001b[94m  0.020684\u001b[0m  |  \u001b[32m  0.019808\u001b[0m  |     1.044185  |             |  4.4s"
       ]
      },
      {
       "output_type": "stream",
       "stream": "stdout",
       "text": [
        "\n",
        "   209  |  \u001b[94m  0.020662\u001b[0m  |  \u001b[32m  0.019725\u001b[0m  |     1.047486  |             |  4.4s"
       ]
      },
      {
       "output_type": "stream",
       "stream": "stdout",
       "text": [
        "\n",
        "   210  |  \u001b[94m  0.020603\u001b[0m  |  \u001b[32m  0.019681\u001b[0m  |     1.046864  |             |  4.4s"
       ]
      },
      {
       "output_type": "stream",
       "stream": "stdout",
       "text": [
        "\n",
        "   211  |  \u001b[94m  0.020554\u001b[0m  |  \u001b[32m  0.019602\u001b[0m  |     1.048536  |             |  4.4s"
       ]
      },
      {
       "output_type": "stream",
       "stream": "stdout",
       "text": [
        "\n",
        "   212  |  \u001b[94m  0.020543\u001b[0m  |  \u001b[32m  0.019555\u001b[0m  |     1.050521  |             |  4.4s"
       ]
      },
      {
       "output_type": "stream",
       "stream": "stdout",
       "text": [
        "\n",
        "   213  |  \u001b[94m  0.020399\u001b[0m  |  \u001b[32m  0.019460\u001b[0m  |     1.048261  |             |  4.4s"
       ]
      },
      {
       "output_type": "stream",
       "stream": "stdout",
       "text": [
        "\n",
        "   214  |    0.020404  |  \u001b[32m  0.019420\u001b[0m  |     1.050673  |             |  4.4s"
       ]
      },
      {
       "output_type": "stream",
       "stream": "stdout",
       "text": [
        "\n",
        "   215  |  \u001b[94m  0.020317\u001b[0m  |  \u001b[32m  0.019303\u001b[0m  |     1.052514  |             |  4.4s"
       ]
      },
      {
       "output_type": "stream",
       "stream": "stdout",
       "text": [
        "\n",
        "   216  |  \u001b[94m  0.020241\u001b[0m  |    0.019340  |     1.046571  |             |  4.4s"
       ]
      },
      {
       "output_type": "stream",
       "stream": "stdout",
       "text": [
        "\n",
        "   217  |  \u001b[94m  0.020229\u001b[0m  |    0.019307  |     1.047758  |             |  4.4s"
       ]
      },
      {
       "output_type": "stream",
       "stream": "stdout",
       "text": [
        "\n",
        "   218  |  \u001b[94m  0.020148\u001b[0m  |  \u001b[32m  0.019192\u001b[0m  |     1.049850  |             |  4.4s"
       ]
      },
      {
       "output_type": "stream",
       "stream": "stdout",
       "text": [
        "\n",
        "   219  |  \u001b[94m  0.020084\u001b[0m  |  \u001b[32m  0.019079\u001b[0m  |     1.052648  |             |  4.4s"
       ]
      },
      {
       "output_type": "stream",
       "stream": "stdout",
       "text": [
        "\n",
        "   220  |  \u001b[94m  0.020075\u001b[0m  |  \u001b[32m  0.019032\u001b[0m  |     1.054820  |             |  4.4s"
       ]
      },
      {
       "output_type": "stream",
       "stream": "stdout",
       "text": [
        "\n",
        "   221  |  \u001b[94m  0.019976\u001b[0m  |    0.019036  |     1.049370  |             |  4.4s"
       ]
      },
      {
       "output_type": "stream",
       "stream": "stdout",
       "text": [
        "\n",
        "   222  |    0.019983  |  \u001b[32m  0.018922\u001b[0m  |     1.056076  |             |  4.4s"
       ]
      },
      {
       "output_type": "stream",
       "stream": "stdout",
       "text": [
        "\n",
        "   223  |  \u001b[94m  0.019936\u001b[0m  |  \u001b[32m  0.018882\u001b[0m  |     1.055856  |             |  4.4s"
       ]
      },
      {
       "output_type": "stream",
       "stream": "stdout",
       "text": [
        "\n",
        "   224  |  \u001b[94m  0.019852\u001b[0m  |  \u001b[32m  0.018825\u001b[0m  |     1.054516  |             |  4.4s"
       ]
      },
      {
       "output_type": "stream",
       "stream": "stdout",
       "text": [
        "\n",
        "   225  |  \u001b[94m  0.019769\u001b[0m  |  \u001b[32m  0.018718\u001b[0m  |     1.056128  |             |  4.4s"
       ]
      },
      {
       "output_type": "stream",
       "stream": "stdout",
       "text": [
        "\n",
        "   226  |    0.019771  |  \u001b[32m  0.018707\u001b[0m  |     1.056878  |             |  4.4s"
       ]
      },
      {
       "output_type": "stream",
       "stream": "stdout",
       "text": [
        "\n",
        "   227  |  \u001b[94m  0.019732\u001b[0m  |  \u001b[32m  0.018622\u001b[0m  |     1.059589  |             |  4.4s"
       ]
      },
      {
       "output_type": "stream",
       "stream": "stdout",
       "text": [
        "\n",
        "   228  |  \u001b[94m  0.019682\u001b[0m  |  \u001b[32m  0.018586\u001b[0m  |     1.059010  |             |  4.4s"
       ]
      },
      {
       "output_type": "stream",
       "stream": "stdout",
       "text": [
        "\n",
        "   229  |  \u001b[94m  0.019562\u001b[0m  |  \u001b[32m  0.018508\u001b[0m  |     1.056911  |             |  4.4s"
       ]
      },
      {
       "output_type": "stream",
       "stream": "stdout",
       "text": [
        "\n",
        "   230  |    0.019605  |    0.018514  |     1.058943  |             |  4.4s"
       ]
      },
      {
       "output_type": "stream",
       "stream": "stdout",
       "text": [
        "\n",
        "   231  |    0.019566  |  \u001b[32m  0.018394\u001b[0m  |     1.063734  |             |  4.4s"
       ]
      },
      {
       "output_type": "stream",
       "stream": "stdout",
       "text": [
        "\n",
        "   232  |  \u001b[94m  0.019552\u001b[0m  |  \u001b[32m  0.018340\u001b[0m  |     1.066055  |             |  4.4s"
       ]
      },
      {
       "output_type": "stream",
       "stream": "stdout",
       "text": [
        "\n",
        "   233  |  \u001b[94m  0.019355\u001b[0m  |  \u001b[32m  0.018287\u001b[0m  |     1.058438  |             |  4.4s"
       ]
      },
      {
       "output_type": "stream",
       "stream": "stdout",
       "text": [
        "\n",
        "   234  |    0.019410  |  \u001b[32m  0.018189\u001b[0m  |     1.067117  |             |  4.4s"
       ]
      },
      {
       "output_type": "stream",
       "stream": "stdout",
       "text": [
        "\n",
        "   235  |  \u001b[94m  0.019323\u001b[0m  |  \u001b[32m  0.018143\u001b[0m  |     1.065037  |             |  4.4s"
       ]
      },
      {
       "output_type": "stream",
       "stream": "stdout",
       "text": [
        "\n",
        "   236  |  \u001b[94m  0.019309\u001b[0m  |    0.018148  |     1.063953  |             |  4.4s"
       ]
      },
      {
       "output_type": "stream",
       "stream": "stdout",
       "text": [
        "\n",
        "   237  |  \u001b[94m  0.019292\u001b[0m  |  \u001b[32m  0.018053\u001b[0m  |     1.068647  |             |  4.4s"
       ]
      },
      {
       "output_type": "stream",
       "stream": "stdout",
       "text": [
        "\n",
        "   238  |  \u001b[94m  0.019204\u001b[0m  |  \u001b[32m  0.018032\u001b[0m  |     1.064997  |             |  4.4s"
       ]
      },
      {
       "output_type": "stream",
       "stream": "stdout",
       "text": [
        "\n",
        "   239  |  \u001b[94m  0.019077\u001b[0m  |  \u001b[32m  0.017926\u001b[0m  |     1.064217  |             |  4.4s"
       ]
      },
      {
       "output_type": "stream",
       "stream": "stdout",
       "text": [
        "\n",
        "   240  |    0.019144  |  \u001b[32m  0.017883\u001b[0m  |     1.070517  |             |  4.4s"
       ]
      },
      {
       "output_type": "stream",
       "stream": "stdout",
       "text": [
        "\n",
        "   241  |  \u001b[94m  0.019001\u001b[0m  |  \u001b[32m  0.017768\u001b[0m  |     1.069406  |             |  4.4s"
       ]
      },
      {
       "output_type": "stream",
       "stream": "stdout",
       "text": [
        "\n",
        "   242  |    0.019038  |    0.017787  |     1.070355  |             |  4.4s"
       ]
      },
      {
       "output_type": "stream",
       "stream": "stdout",
       "text": [
        "\n",
        "   243  |  \u001b[94m  0.018931\u001b[0m  |  \u001b[32m  0.017731\u001b[0m  |     1.067694  |             |  4.4s"
       ]
      },
      {
       "output_type": "stream",
       "stream": "stdout",
       "text": [
        "\n",
        "   244  |  \u001b[94m  0.018857\u001b[0m  |  \u001b[32m  0.017651\u001b[0m  |     1.068306  |             |  4.4s"
       ]
      },
      {
       "output_type": "stream",
       "stream": "stdout",
       "text": [
        "\n",
        "   245  |    0.018863  |    0.017692  |     1.066215  |             |  4.4s"
       ]
      },
      {
       "output_type": "stream",
       "stream": "stdout",
       "text": [
        "\n",
        "   246  |  \u001b[94m  0.018820\u001b[0m  |  \u001b[32m  0.017621\u001b[0m  |     1.068017  |             |  4.4s"
       ]
      },
      {
       "output_type": "stream",
       "stream": "stdout",
       "text": [
        "\n",
        "   247  |  \u001b[94m  0.018783\u001b[0m  |  \u001b[32m  0.017499\u001b[0m  |     1.073398  |             |  4.4s"
       ]
      },
      {
       "output_type": "stream",
       "stream": "stdout",
       "text": [
        "\n",
        "   248  |  \u001b[94m  0.018655\u001b[0m  |  \u001b[32m  0.017444\u001b[0m  |     1.069427  |             |  4.4s"
       ]
      },
      {
       "output_type": "stream",
       "stream": "stdout",
       "text": [
        "\n",
        "   249  |  \u001b[94m  0.018639\u001b[0m  |  \u001b[32m  0.017396\u001b[0m  |     1.071451  |             |  4.4s"
       ]
      },
      {
       "output_type": "stream",
       "stream": "stdout",
       "text": [
        "\n",
        "   250  |    0.018653  |  \u001b[32m  0.017304\u001b[0m  |     1.077933  |             |  4.4s"
       ]
      },
      {
       "output_type": "stream",
       "stream": "stdout",
       "text": [
        "\n",
        "   251  |  \u001b[94m  0.018599\u001b[0m  |    0.017315  |     1.074164  |             |  4.4s"
       ]
      },
      {
       "output_type": "stream",
       "stream": "stdout",
       "text": [
        "\n",
        "   252  |  \u001b[94m  0.018575\u001b[0m  |  \u001b[32m  0.017259\u001b[0m  |     1.076245  |             |  4.4s"
       ]
      },
      {
       "output_type": "stream",
       "stream": "stdout",
       "text": [
        "\n",
        "   253  |  \u001b[94m  0.018482\u001b[0m  |  \u001b[32m  0.017160\u001b[0m  |     1.077021  |             |  4.4s"
       ]
      },
      {
       "output_type": "stream",
       "stream": "stdout",
       "text": [
        "\n",
        "   254  |  \u001b[94m  0.018464\u001b[0m  |  \u001b[32m  0.017107\u001b[0m  |     1.079308  |             |  4.4s"
       ]
      },
      {
       "output_type": "stream",
       "stream": "stdout",
       "text": [
        "\n",
        "   255  |  \u001b[94m  0.018446\u001b[0m  |  \u001b[32m  0.017059\u001b[0m  |     1.081253  |             |  4.4s"
       ]
      },
      {
       "output_type": "stream",
       "stream": "stdout",
       "text": [
        "\n",
        "   256  |  \u001b[94m  0.018301\u001b[0m  |  \u001b[32m  0.017059\u001b[0m  |     1.072812  |             |  4.4s"
       ]
      },
      {
       "output_type": "stream",
       "stream": "stdout",
       "text": [
        "\n",
        "   257  |    0.018338  |  \u001b[32m  0.016991\u001b[0m  |     1.079327  |             |  4.4s"
       ]
      },
      {
       "output_type": "stream",
       "stream": "stdout",
       "text": [
        "\n",
        "   258  |    0.018305  |  \u001b[32m  0.016916\u001b[0m  |     1.082137  |             |  4.4s"
       ]
      },
      {
       "output_type": "stream",
       "stream": "stdout",
       "text": [
        "\n",
        "   259  |  \u001b[94m  0.018222\u001b[0m  |  \u001b[32m  0.016892\u001b[0m  |     1.078747  |             |  4.4s"
       ]
      },
      {
       "output_type": "stream",
       "stream": "stdout",
       "text": [
        "\n",
        "   260  |  \u001b[94m  0.018181\u001b[0m  |  \u001b[32m  0.016828\u001b[0m  |     1.080352  |             |  4.4s"
       ]
      },
      {
       "output_type": "stream",
       "stream": "stdout",
       "text": [
        "\n",
        "   261  |    0.018205  |  \u001b[32m  0.016797\u001b[0m  |     1.083854  |             |  4.4s"
       ]
      },
      {
       "output_type": "stream",
       "stream": "stdout",
       "text": [
        "\n",
        "   262  |  \u001b[94m  0.018050\u001b[0m  |  \u001b[32m  0.016786\u001b[0m  |     1.075271  |             |  4.4s"
       ]
      },
      {
       "output_type": "stream",
       "stream": "stdout",
       "text": [
        "\n",
        "   263  |    0.018069  |  \u001b[32m  0.016722\u001b[0m  |     1.080554  |             |  4.4s"
       ]
      },
      {
       "output_type": "stream",
       "stream": "stdout",
       "text": [
        "\n",
        "   264  |  \u001b[94m  0.017951\u001b[0m  |  \u001b[32m  0.016675\u001b[0m  |     1.076537  |             |  4.4s"
       ]
      },
      {
       "output_type": "stream",
       "stream": "stdout",
       "text": [
        "\n",
        "   265  |    0.018018  |  \u001b[32m  0.016585\u001b[0m  |     1.086382  |             |  4.4s"
       ]
      },
      {
       "output_type": "stream",
       "stream": "stdout",
       "text": [
        "\n",
        "   266  |  \u001b[94m  0.017912\u001b[0m  |  \u001b[32m  0.016583\u001b[0m  |     1.080163  |             |  4.4s"
       ]
      },
      {
       "output_type": "stream",
       "stream": "stdout",
       "text": [
        "\n",
        "   267  |    0.017922  |  \u001b[32m  0.016482\u001b[0m  |     1.087398  |             |  4.4s"
       ]
      },
      {
       "output_type": "stream",
       "stream": "stdout",
       "text": [
        "\n",
        "   268  |  \u001b[94m  0.017885\u001b[0m  |  \u001b[32m  0.016470\u001b[0m  |     1.085877  |             |  4.4s"
       ]
      },
      {
       "output_type": "stream",
       "stream": "stdout",
       "text": [
        "\n",
        "   269  |  \u001b[94m  0.017818\u001b[0m  |  \u001b[32m  0.016430\u001b[0m  |     1.084441  |             |  4.4s"
       ]
      },
      {
       "output_type": "stream",
       "stream": "stdout",
       "text": [
        "\n",
        "   270  |    0.017872  |  \u001b[32m  0.016394\u001b[0m  |     1.090153  |             |  4.4s"
       ]
      },
      {
       "output_type": "stream",
       "stream": "stdout",
       "text": [
        "\n",
        "   271  |  \u001b[94m  0.017776\u001b[0m  |  \u001b[32m  0.016306\u001b[0m  |     1.090198  |             |  4.4s"
       ]
      },
      {
       "output_type": "stream",
       "stream": "stdout",
       "text": [
        "\n",
        "   272  |  \u001b[94m  0.017735\u001b[0m  |  \u001b[32m  0.016289\u001b[0m  |     1.088815  |             |  4.4s"
       ]
      },
      {
       "output_type": "stream",
       "stream": "stdout",
       "text": [
        "\n",
        "   273  |  \u001b[94m  0.017635\u001b[0m  |  \u001b[32m  0.016250\u001b[0m  |     1.085258  |             |  4.4s"
       ]
      },
      {
       "output_type": "stream",
       "stream": "stdout",
       "text": [
        "\n",
        "   274  |  \u001b[94m  0.017617\u001b[0m  |  \u001b[32m  0.016186\u001b[0m  |     1.088413  |             |  4.4s"
       ]
      },
      {
       "output_type": "stream",
       "stream": "stdout",
       "text": [
        "\n",
        "   275  |  \u001b[94m  0.017590\u001b[0m  |  \u001b[32m  0.016131\u001b[0m  |     1.090407  |             |  4.4s"
       ]
      },
      {
       "output_type": "stream",
       "stream": "stdout",
       "text": [
        "\n",
        "   276  |  \u001b[94m  0.017545\u001b[0m  |  \u001b[32m  0.016102\u001b[0m  |     1.089566  |             |  4.4s"
       ]
      },
      {
       "output_type": "stream",
       "stream": "stdout",
       "text": [
        "\n",
        "   277  |    0.017565  |  \u001b[32m  0.016077\u001b[0m  |     1.092552  |             |  4.4s"
       ]
      },
      {
       "output_type": "stream",
       "stream": "stdout",
       "text": [
        "\n",
        "   278  |  \u001b[94m  0.017517\u001b[0m  |  \u001b[32m  0.015991\u001b[0m  |     1.095446  |             |  4.4s"
       ]
      },
      {
       "output_type": "stream",
       "stream": "stdout",
       "text": [
        "\n",
        "   279  |  \u001b[94m  0.017502\u001b[0m  |  \u001b[32m  0.015983\u001b[0m  |     1.095042  |             |  4.4s"
       ]
      },
      {
       "output_type": "stream",
       "stream": "stdout",
       "text": [
        "\n",
        "   280  |  \u001b[94m  0.017495\u001b[0m  |  \u001b[32m  0.015922\u001b[0m  |     1.098805  |             |  4.4s"
       ]
      },
      {
       "output_type": "stream",
       "stream": "stdout",
       "text": [
        "\n",
        "   281  |  \u001b[94m  0.017363\u001b[0m  |  \u001b[32m  0.015909\u001b[0m  |     1.091377  |             |  4.4s"
       ]
      },
      {
       "output_type": "stream",
       "stream": "stdout",
       "text": [
        "\n",
        "   282  |  \u001b[94m  0.017290\u001b[0m  |  \u001b[32m  0.015847\u001b[0m  |     1.091087  |             |  4.4s"
       ]
      },
      {
       "output_type": "stream",
       "stream": "stdout",
       "text": [
        "\n",
        "   283  |    0.017345  |  \u001b[32m  0.015808\u001b[0m  |     1.097258  |             |  4.4s"
       ]
      },
      {
       "output_type": "stream",
       "stream": "stdout",
       "text": [
        "\n",
        "   284  |  \u001b[94m  0.017224\u001b[0m  |  \u001b[32m  0.015723\u001b[0m  |     1.095449  |             |  4.4s"
       ]
      },
      {
       "output_type": "stream",
       "stream": "stdout",
       "text": [
        "\n",
        "   285  |    0.017271  |    0.015763  |     1.095653  |             |  4.4s"
       ]
      },
      {
       "output_type": "stream",
       "stream": "stdout",
       "text": [
        "\n",
        "   286  |    0.017228  |  \u001b[32m  0.015713\u001b[0m  |     1.096428  |             |  4.4s"
       ]
      },
      {
       "output_type": "stream",
       "stream": "stdout",
       "text": [
        "\n",
        "   287  |  \u001b[94m  0.017207\u001b[0m  |  \u001b[32m  0.015645\u001b[0m  |     1.099842  |             |  4.4s"
       ]
      },
      {
       "output_type": "stream",
       "stream": "stdout",
       "text": [
        "\n",
        "   288  |  \u001b[94m  0.017203\u001b[0m  |  \u001b[32m  0.015589\u001b[0m  |     1.103576  |             |  4.4s"
       ]
      },
      {
       "output_type": "stream",
       "stream": "stdout",
       "text": [
        "\n",
        "   289  |  \u001b[94m  0.017182\u001b[0m  |  \u001b[32m  0.015573\u001b[0m  |     1.103278  |             |  4.4s"
       ]
      },
      {
       "output_type": "stream",
       "stream": "stdout",
       "text": [
        "\n",
        "   290  |  \u001b[94m  0.017035\u001b[0m  |  \u001b[32m  0.015463\u001b[0m  |     1.101715  |             |  4.4s"
       ]
      },
      {
       "output_type": "stream",
       "stream": "stdout",
       "text": [
        "\n",
        "   291  |  \u001b[94m  0.017034\u001b[0m  |    0.015501  |     1.098921  |             |  4.4s"
       ]
      },
      {
       "output_type": "stream",
       "stream": "stdout",
       "text": [
        "\n",
        "   292  |  \u001b[94m  0.016968\u001b[0m  |  \u001b[32m  0.015452\u001b[0m  |     1.098104  |             |  4.4s"
       ]
      },
      {
       "output_type": "stream",
       "stream": "stdout",
       "text": [
        "\n",
        "   293  |  \u001b[94m  0.016941\u001b[0m  |  \u001b[32m  0.015448\u001b[0m  |     1.096594  |             |  4.4s"
       ]
      },
      {
       "output_type": "stream",
       "stream": "stdout",
       "text": [
        "\n",
        "   294  |  \u001b[94m  0.016930\u001b[0m  |  \u001b[32m  0.015427\u001b[0m  |     1.097401  |             |  4.4s"
       ]
      },
      {
       "output_type": "stream",
       "stream": "stdout",
       "text": [
        "\n",
        "   295  |  \u001b[94m  0.016837\u001b[0m  |  \u001b[32m  0.015318\u001b[0m  |     1.099149  |             |  4.4s"
       ]
      },
      {
       "output_type": "stream",
       "stream": "stdout",
       "text": [
        "\n",
        "   296  |    0.016857  |    0.015336  |     1.099153  |             |  4.4s"
       ]
      },
      {
       "output_type": "stream",
       "stream": "stdout",
       "text": [
        "\n",
        "   297  |  \u001b[94m  0.016828\u001b[0m  |  \u001b[32m  0.015239\u001b[0m  |     1.104286  |             |  4.4s"
       ]
      },
      {
       "output_type": "stream",
       "stream": "stdout",
       "text": [
        "\n",
        "   298  |  \u001b[94m  0.016789\u001b[0m  |    0.015275  |     1.099148  |             |  4.4s"
       ]
      },
      {
       "output_type": "stream",
       "stream": "stdout",
       "text": [
        "\n",
        "   299  |    0.016795  |    0.015246  |     1.101594  |             |  4.4s"
       ]
      },
      {
       "output_type": "stream",
       "stream": "stdout",
       "text": [
        "\n",
        "   300  |  \u001b[94m  0.016705\u001b[0m  |  \u001b[32m  0.015154\u001b[0m  |     1.102303  |             |  4.4s"
       ]
      },
      {
       "output_type": "stream",
       "stream": "stdout",
       "text": [
        "\n",
        "   301  |    0.016734  |    0.015163  |     1.103587  |             |  4.4s"
       ]
      },
      {
       "output_type": "stream",
       "stream": "stdout",
       "text": [
        "\n",
        "   302  |    0.016706  |  \u001b[32m  0.015112\u001b[0m  |     1.105522  |             |  4.4s"
       ]
      },
      {
       "output_type": "stream",
       "stream": "stdout",
       "text": [
        "\n",
        "   303  |  \u001b[94m  0.016613\u001b[0m  |  \u001b[32m  0.015052\u001b[0m  |     1.103706  |             |  4.4s"
       ]
      },
      {
       "output_type": "stream",
       "stream": "stdout",
       "text": [
        "\n",
        "   304  |  \u001b[94m  0.016612\u001b[0m  |  \u001b[32m  0.015043\u001b[0m  |     1.104291  |             |  4.4s"
       ]
      },
      {
       "output_type": "stream",
       "stream": "stdout",
       "text": [
        "\n",
        "   305  |    0.016619  |  \u001b[32m  0.015037\u001b[0m  |     1.105227  |             |  4.4s"
       ]
      },
      {
       "output_type": "stream",
       "stream": "stdout",
       "text": [
        "\n",
        "   306  |  \u001b[94m  0.016544\u001b[0m  |  \u001b[32m  0.014949\u001b[0m  |     1.106692  |             |  4.4s"
       ]
      },
      {
       "output_type": "stream",
       "stream": "stdout",
       "text": [
        "\n",
        "   307  |    0.016582  |    0.014954  |     1.108906  |             |  4.4s"
       ]
      },
      {
       "output_type": "stream",
       "stream": "stdout",
       "text": [
        "\n",
        "   308  |  \u001b[94m  0.016463\u001b[0m  |  \u001b[32m  0.014933\u001b[0m  |     1.102466  |             |  4.4s"
       ]
      },
      {
       "output_type": "stream",
       "stream": "stdout",
       "text": [
        "\n",
        "   309  |  \u001b[94m  0.016426\u001b[0m  |  \u001b[32m  0.014929\u001b[0m  |     1.100283  |             |  4.4s"
       ]
      },
      {
       "output_type": "stream",
       "stream": "stdout",
       "text": [
        "\n",
        "   310  |  \u001b[94m  0.016413\u001b[0m  |  \u001b[32m  0.014810\u001b[0m  |     1.108275  |             |  4.4s"
       ]
      },
      {
       "output_type": "stream",
       "stream": "stdout",
       "text": [
        "\n",
        "   311  |  \u001b[94m  0.016367\u001b[0m  |    0.014833  |     1.103409  |             |  4.4s"
       ]
      },
      {
       "output_type": "stream",
       "stream": "stdout",
       "text": [
        "\n",
        "   312  |  \u001b[94m  0.016357\u001b[0m  |    0.014811  |     1.104383  |             |  4.4s"
       ]
      },
      {
       "output_type": "stream",
       "stream": "stdout",
       "text": [
        "\n",
        "   313  |  \u001b[94m  0.016316\u001b[0m  |  \u001b[32m  0.014745\u001b[0m  |     1.106498  |             |  4.4s"
       ]
      },
      {
       "output_type": "stream",
       "stream": "stdout",
       "text": [
        "\n",
        "   314  |    0.016350  |  \u001b[32m  0.014725\u001b[0m  |     1.110307  |             |  4.4s"
       ]
      },
      {
       "output_type": "stream",
       "stream": "stdout",
       "text": [
        "\n",
        "   315  |    0.016339  |  \u001b[32m  0.014707\u001b[0m  |     1.110925  |             |  4.4s"
       ]
      },
      {
       "output_type": "stream",
       "stream": "stdout",
       "text": [
        "\n",
        "   316  |  \u001b[94m  0.016247\u001b[0m  |  \u001b[32m  0.014668\u001b[0m  |     1.107669  |             |  4.4s"
       ]
      },
      {
       "output_type": "stream",
       "stream": "stdout",
       "text": [
        "\n",
        "   317  |  \u001b[94m  0.016163\u001b[0m  |  \u001b[32m  0.014618\u001b[0m  |     1.105698  |             |  4.4s"
       ]
      },
      {
       "output_type": "stream",
       "stream": "stdout",
       "text": [
        "\n",
        "   318  |    0.016168  |    0.014638  |     1.104486  |             |  4.4s"
       ]
      },
      {
       "output_type": "stream",
       "stream": "stdout",
       "text": [
        "\n",
        "   319  |  \u001b[94m  0.016160\u001b[0m  |  \u001b[32m  0.014560\u001b[0m  |     1.109874  |             |  4.4s"
       ]
      },
      {
       "output_type": "stream",
       "stream": "stdout",
       "text": [
        "\n",
        "   320  |    0.016167  |    0.014564  |     1.110077  |             |  4.4s"
       ]
      },
      {
       "output_type": "stream",
       "stream": "stdout",
       "text": [
        "\n",
        "   321  |  \u001b[94m  0.016051\u001b[0m  |  \u001b[32m  0.014459\u001b[0m  |     1.110099  |             |  4.4s"
       ]
      },
      {
       "output_type": "stream",
       "stream": "stdout",
       "text": [
        "\n",
        "   322  |  \u001b[94m  0.016008\u001b[0m  |  \u001b[32m  0.014439\u001b[0m  |     1.108659  |             |  4.4s"
       ]
      },
      {
       "output_type": "stream",
       "stream": "stdout",
       "text": [
        "\n",
        "   323  |    0.016035  |    0.014441  |     1.110348  |             |  4.4s"
       ]
      },
      {
       "output_type": "stream",
       "stream": "stdout",
       "text": [
        "\n",
        "   324  |    0.016035  |  \u001b[32m  0.014431\u001b[0m  |     1.111167  |             |  4.4s"
       ]
      },
      {
       "output_type": "stream",
       "stream": "stdout",
       "text": [
        "\n",
        "   325  |    0.016074  |    0.014439  |     1.113250  |             |  4.4s"
       ]
      },
      {
       "output_type": "stream",
       "stream": "stdout",
       "text": [
        "\n",
        "   326  |  \u001b[94m  0.015924\u001b[0m  |  \u001b[32m  0.014412\u001b[0m  |     1.104910  |             |  4.4s"
       ]
      },
      {
       "output_type": "stream",
       "stream": "stdout",
       "text": [
        "\n",
        "   327  |    0.016048  |  \u001b[32m  0.014341\u001b[0m  |     1.119047  |             |  4.4s"
       ]
      },
      {
       "output_type": "stream",
       "stream": "stdout",
       "text": [
        "\n",
        "   328  |    0.015993  |  \u001b[32m  0.014340\u001b[0m  |     1.115324  |             |  4.4s"
       ]
      },
      {
       "output_type": "stream",
       "stream": "stdout",
       "text": [
        "\n",
        "   329  |  \u001b[94m  0.015891\u001b[0m  |  \u001b[32m  0.014257\u001b[0m  |     1.114592  |             |  4.4s"
       ]
      },
      {
       "output_type": "stream",
       "stream": "stdout",
       "text": [
        "\n",
        "   330  |    0.015949  |    0.014286  |     1.116422  |             |  4.4s"
       ]
      },
      {
       "output_type": "stream",
       "stream": "stdout",
       "text": [
        "\n",
        "   331  |  \u001b[94m  0.015875\u001b[0m  |  \u001b[32m  0.014231\u001b[0m  |     1.115499  |             |  4.4s"
       ]
      },
      {
       "output_type": "stream",
       "stream": "stdout",
       "text": [
        "\n",
        "   332  |  \u001b[94m  0.015814\u001b[0m  |  \u001b[32m  0.014191\u001b[0m  |     1.114344  |             |  4.4s"
       ]
      },
      {
       "output_type": "stream",
       "stream": "stdout",
       "text": [
        "\n",
        "   333  |  \u001b[94m  0.015803\u001b[0m  |    0.014243  |     1.109515  |             |  4.4s"
       ]
      },
      {
       "output_type": "stream",
       "stream": "stdout",
       "text": [
        "\n",
        "   334  |  \u001b[94m  0.015742\u001b[0m  |  \u001b[32m  0.014144\u001b[0m  |     1.112989  |             |  4.4s"
       ]
      },
      {
       "output_type": "stream",
       "stream": "stdout",
       "text": [
        "\n",
        "   335  |  \u001b[94m  0.015689\u001b[0m  |    0.014172  |     1.107031  |             |  4.4s"
       ]
      },
      {
       "output_type": "stream",
       "stream": "stdout",
       "text": [
        "\n",
        "   336  |    0.015733  |    0.014166  |     1.110627  |             |  4.4s"
       ]
      },
      {
       "output_type": "stream",
       "stream": "stdout",
       "text": [
        "\n",
        "   337  |    0.015742  |  \u001b[32m  0.014110\u001b[0m  |     1.115637  |             |  4.4s"
       ]
      },
      {
       "output_type": "stream",
       "stream": "stdout",
       "text": [
        "\n",
        "   338  |    0.015717  |  \u001b[32m  0.014102\u001b[0m  |     1.114531  |             |  4.4s"
       ]
      },
      {
       "output_type": "stream",
       "stream": "stdout",
       "text": [
        "\n",
        "   339  |    0.015690  |  \u001b[32m  0.014092\u001b[0m  |     1.113355  |             |  4.4s"
       ]
      },
      {
       "output_type": "stream",
       "stream": "stdout",
       "text": [
        "\n",
        "   340  |  \u001b[94m  0.015667\u001b[0m  |  \u001b[32m  0.014042\u001b[0m  |     1.115737  |             |  4.4s"
       ]
      },
      {
       "output_type": "stream",
       "stream": "stdout",
       "text": [
        "\n",
        "   341  |    0.015681  |    0.014117  |     1.110826  |             |  4.4s"
       ]
      },
      {
       "output_type": "stream",
       "stream": "stdout",
       "text": [
        "\n",
        "   342  |  \u001b[94m  0.015645\u001b[0m  |  \u001b[32m  0.014016\u001b[0m  |     1.116190  |             |  4.4s"
       ]
      },
      {
       "output_type": "stream",
       "stream": "stdout",
       "text": [
        "\n",
        "   343  |  \u001b[94m  0.015545\u001b[0m  |  \u001b[32m  0.013942\u001b[0m  |     1.115014  |             |  4.4s"
       ]
      },
      {
       "output_type": "stream",
       "stream": "stdout",
       "text": [
        "\n",
        "   344  |    0.015579  |  \u001b[32m  0.013931\u001b[0m  |     1.118294  |             |  4.4s"
       ]
      },
      {
       "output_type": "stream",
       "stream": "stdout",
       "text": [
        "\n",
        "   345  |  \u001b[94m  0.015508\u001b[0m  |    0.013957  |     1.111093  |             |  4.4s"
       ]
      },
      {
       "output_type": "stream",
       "stream": "stdout",
       "text": [
        "\n",
        "   346  |  \u001b[94m  0.015496\u001b[0m  |    0.013964  |     1.109703  |             |  4.4s"
       ]
      },
      {
       "output_type": "stream",
       "stream": "stdout",
       "text": [
        "\n",
        "   347  |    0.015551  |  \u001b[32m  0.013903\u001b[0m  |     1.118494  |             |  4.4s"
       ]
      },
      {
       "output_type": "stream",
       "stream": "stdout",
       "text": [
        "\n",
        "   348  |  \u001b[94m  0.015436\u001b[0m  |  \u001b[32m  0.013892\u001b[0m  |     1.111167  |             |  4.4s"
       ]
      },
      {
       "output_type": "stream",
       "stream": "stdout",
       "text": [
        "\n",
        "   349  |  \u001b[94m  0.015356\u001b[0m  |  \u001b[32m  0.013835\u001b[0m  |     1.109911  |             |  4.4s"
       ]
      },
      {
       "output_type": "stream",
       "stream": "stdout",
       "text": [
        "\n",
        "   350  |    0.015483  |    0.013858  |     1.117223  |             |  4.4s"
       ]
      },
      {
       "output_type": "stream",
       "stream": "stdout",
       "text": [
        "\n",
        "   351  |    0.015391  |  \u001b[32m  0.013771\u001b[0m  |     1.117594  |             |  4.4s"
       ]
      },
      {
       "output_type": "stream",
       "stream": "stdout",
       "text": [
        "\n",
        "   352  |  \u001b[94m  0.015316\u001b[0m  |    0.013832  |     1.107252  |             |  4.4s"
       ]
      },
      {
       "output_type": "stream",
       "stream": "stdout",
       "text": [
        "\n",
        "   353  |    0.015393  |    0.013780  |     1.117059  |             |  4.4s"
       ]
      },
      {
       "output_type": "stream",
       "stream": "stdout",
       "text": [
        "\n",
        "   354  |    0.015333  |  \u001b[32m  0.013771\u001b[0m  |     1.113452  |             |  4.4s"
       ]
      },
      {
       "output_type": "stream",
       "stream": "stdout",
       "text": [
        "\n",
        "   355  |  \u001b[94m  0.015312\u001b[0m  |  \u001b[32m  0.013714\u001b[0m  |     1.116538  |             |  4.4s"
       ]
      },
      {
       "output_type": "stream",
       "stream": "stdout",
       "text": [
        "\n",
        "   356  |  \u001b[94m  0.015260\u001b[0m  |  \u001b[32m  0.013662\u001b[0m  |     1.116956  |             |  4.4s"
       ]
      },
      {
       "output_type": "stream",
       "stream": "stdout",
       "text": [
        "\n",
        "   357  |  \u001b[94m  0.015252\u001b[0m  |  \u001b[32m  0.013644\u001b[0m  |     1.117899  |             |  4.4s"
       ]
      },
      {
       "output_type": "stream",
       "stream": "stdout",
       "text": [
        "\n",
        "   358  |    0.015273  |  \u001b[32m  0.013616\u001b[0m  |     1.121699  |             |  4.4s"
       ]
      },
      {
       "output_type": "stream",
       "stream": "stdout",
       "text": [
        "\n",
        "   359  |  \u001b[94m  0.015230\u001b[0m  |  \u001b[32m  0.013610\u001b[0m  |     1.119060  |             |  4.4s"
       ]
      },
      {
       "output_type": "stream",
       "stream": "stdout",
       "text": [
        "\n",
        "   360  |    0.015241  |    0.013625  |     1.118536  |             |  4.4s"
       ]
      },
      {
       "output_type": "stream",
       "stream": "stdout",
       "text": [
        "\n",
        "   361  |    0.015238  |    0.013644  |     1.116776  |             |  4.4s"
       ]
      },
      {
       "output_type": "stream",
       "stream": "stdout",
       "text": [
        "\n",
        "   362  |  \u001b[94m  0.015130\u001b[0m  |  \u001b[32m  0.013529\u001b[0m  |     1.118341  |             |  4.4s"
       ]
      },
      {
       "output_type": "stream",
       "stream": "stdout",
       "text": [
        "\n",
        "   363  |    0.015165  |    0.013544  |     1.119701  |             |  4.4s"
       ]
      },
      {
       "output_type": "stream",
       "stream": "stdout",
       "text": [
        "\n",
        "   364  |  \u001b[94m  0.015097\u001b[0m  |    0.013588  |     1.111069  |             |  4.4s"
       ]
      },
      {
       "output_type": "stream",
       "stream": "stdout",
       "text": [
        "\n",
        "   365  |    0.015121  |    0.013530  |     1.117622  |             |  4.4s"
       ]
      },
      {
       "output_type": "stream",
       "stream": "stdout",
       "text": [
        "\n",
        "   366  |  \u001b[94m  0.015080\u001b[0m  |  \u001b[32m  0.013439\u001b[0m  |     1.122107  |             |  4.4s"
       ]
      },
      {
       "output_type": "stream",
       "stream": "stdout",
       "text": [
        "\n",
        "   367  |    0.015143  |    0.013480  |     1.123430  |             |  4.4s"
       ]
      },
      {
       "output_type": "stream",
       "stream": "stdout",
       "text": [
        "\n",
        "   368  |  \u001b[94m  0.015079\u001b[0m  |    0.013464  |     1.119956  |             |  4.4s"
       ]
      },
      {
       "output_type": "stream",
       "stream": "stdout",
       "text": [
        "\n",
        "   369  |  \u001b[94m  0.015008\u001b[0m  |  \u001b[32m  0.013415\u001b[0m  |     1.118756  |             |  4.4s"
       ]
      },
      {
       "output_type": "stream",
       "stream": "stdout",
       "text": [
        "\n",
        "   370  |  \u001b[94m  0.014974\u001b[0m  |    0.013423  |     1.115550  |             |  4.4s"
       ]
      },
      {
       "output_type": "stream",
       "stream": "stdout",
       "text": [
        "\n",
        "   371  |    0.014994  |  \u001b[32m  0.013398\u001b[0m  |     1.119153  |             |  4.4s"
       ]
      },
      {
       "output_type": "stream",
       "stream": "stdout",
       "text": [
        "\n",
        "   372  |  \u001b[94m  0.014934\u001b[0m  |  \u001b[32m  0.013375\u001b[0m  |     1.116560  |             |  4.4s"
       ]
      },
      {
       "output_type": "stream",
       "stream": "stdout",
       "text": [
        "\n",
        "   373  |    0.014934  |  \u001b[32m  0.013373\u001b[0m  |     1.116748  |             |  4.4s"
       ]
      },
      {
       "output_type": "stream",
       "stream": "stdout",
       "text": [
        "\n",
        "   374  |  \u001b[94m  0.014879\u001b[0m  |    0.013374  |     1.112496  |             |  4.4s"
       ]
      },
      {
       "output_type": "stream",
       "stream": "stdout",
       "text": [
        "\n",
        "   375  |    0.014925  |  \u001b[32m  0.013292\u001b[0m  |     1.122888  |             |  4.4s"
       ]
      },
      {
       "output_type": "stream",
       "stream": "stdout",
       "text": [
        "\n",
        "   376  |    0.014917  |    0.013333  |     1.118803  |             |  4.4s"
       ]
      },
      {
       "output_type": "stream",
       "stream": "stdout",
       "text": [
        "\n",
        "   377  |    0.014918  |    0.013346  |     1.117746  |             |  4.4s"
       ]
      },
      {
       "output_type": "stream",
       "stream": "stdout",
       "text": [
        "\n",
        "   378  |  \u001b[94m  0.014843\u001b[0m  |  \u001b[32m  0.013283\u001b[0m  |     1.117396  |             |  4.4s"
       ]
      },
      {
       "output_type": "stream",
       "stream": "stdout",
       "text": [
        "\n",
        "   379  |    0.014856  |    0.013294  |     1.117460  |             |  4.4s"
       ]
      },
      {
       "output_type": "stream",
       "stream": "stdout",
       "text": [
        "\n",
        "   380  |  \u001b[94m  0.014824\u001b[0m  |  \u001b[32m  0.013238\u001b[0m  |     1.119832  |             |  4.4s"
       ]
      },
      {
       "output_type": "stream",
       "stream": "stdout",
       "text": [
        "\n",
        "   381  |    0.014833  |    0.013289  |     1.116252  |             |  4.4s"
       ]
      },
      {
       "output_type": "stream",
       "stream": "stdout",
       "text": [
        "\n",
        "   382  |    0.014869  |    0.013250  |     1.122204  |             |  4.4s"
       ]
      },
      {
       "output_type": "stream",
       "stream": "stdout",
       "text": [
        "\n",
        "   383  |  \u001b[94m  0.014717\u001b[0m  |  \u001b[32m  0.013217\u001b[0m  |     1.113476  |             |  4.4s"
       ]
      },
      {
       "output_type": "stream",
       "stream": "stdout",
       "text": [
        "\n",
        "   384  |  \u001b[94m  0.014687\u001b[0m  |  \u001b[32m  0.013153\u001b[0m  |     1.116685  |             |  4.4s"
       ]
      },
      {
       "output_type": "stream",
       "stream": "stdout",
       "text": [
        "\n",
        "   385  |  \u001b[94m  0.014685\u001b[0m  |    0.013172  |     1.114908  |             |  4.4s"
       ]
      },
      {
       "output_type": "stream",
       "stream": "stdout",
       "text": [
        "\n",
        "   386  |    0.014752  |  \u001b[32m  0.013108\u001b[0m  |     1.125439  |             |  4.4s"
       ]
      },
      {
       "output_type": "stream",
       "stream": "stdout",
       "text": [
        "\n",
        "   387  |    0.014750  |    0.013112  |     1.124967  |             |  4.4s"
       ]
      },
      {
       "output_type": "stream",
       "stream": "stdout",
       "text": [
        "\n",
        "   388  |  \u001b[94m  0.014615\u001b[0m  |  \u001b[32m  0.013056\u001b[0m  |     1.119402  |             |  4.4s"
       ]
      },
      {
       "output_type": "stream",
       "stream": "stdout",
       "text": [
        "\n",
        "   389  |    0.014651  |  \u001b[32m  0.013034\u001b[0m  |     1.124006  |             |  4.4s"
       ]
      },
      {
       "output_type": "stream",
       "stream": "stdout",
       "text": [
        "\n",
        "   390  |    0.014625  |    0.013082  |     1.117924  |             |  4.4s"
       ]
      },
      {
       "output_type": "stream",
       "stream": "stdout",
       "text": [
        "\n",
        "   391  |    0.014670  |    0.013161  |     1.114599  |             |  4.4s"
       ]
      },
      {
       "output_type": "stream",
       "stream": "stdout",
       "text": [
        "\n",
        "   392  |  \u001b[94m  0.014572\u001b[0m  |  \u001b[32m  0.013033\u001b[0m  |     1.118123  |             |  4.4s"
       ]
      },
      {
       "output_type": "stream",
       "stream": "stdout",
       "text": [
        "\n",
        "   393  |    0.014597  |  \u001b[32m  0.012993\u001b[0m  |     1.123467  |             |  4.4s"
       ]
      },
      {
       "output_type": "stream",
       "stream": "stdout",
       "text": [
        "\n",
        "   394  |  \u001b[94m  0.014537\u001b[0m  |    0.013029  |     1.115715  |             |  4.4s"
       ]
      },
      {
       "output_type": "stream",
       "stream": "stdout",
       "text": [
        "\n",
        "   395  |    0.014545  |  \u001b[32m  0.012944\u001b[0m  |     1.123679  |             |  4.4s"
       ]
      },
      {
       "output_type": "stream",
       "stream": "stdout",
       "text": [
        "\n",
        "   396  |  \u001b[94m  0.014511\u001b[0m  |    0.013051  |     1.111937  |             |  4.4s"
       ]
      },
      {
       "output_type": "stream",
       "stream": "stdout",
       "text": [
        "\n",
        "   397  |  \u001b[94m  0.014452\u001b[0m  |    0.012949  |     1.116013  |             |  4.4s"
       ]
      },
      {
       "output_type": "stream",
       "stream": "stdout",
       "text": [
        "\n",
        "   398  |    0.014478  |  \u001b[32m  0.012918\u001b[0m  |     1.120740  |             |  4.4s"
       ]
      },
      {
       "output_type": "stream",
       "stream": "stdout",
       "text": [
        "\n",
        "   399  |    0.014506  |    0.012994  |     1.116369  |             |  4.4s"
       ]
      },
      {
       "output_type": "stream",
       "stream": "stdout",
       "text": [
        "\n",
        "   400  |    0.014466  |    0.012969  |     1.115405  |             |  4.4s"
       ]
      },
      {
       "output_type": "stream",
       "stream": "stdout",
       "text": [
        "\n",
        "   401  |    0.014467  |  \u001b[32m  0.012881\u001b[0m  |     1.123084  |             |  4.4s"
       ]
      },
      {
       "output_type": "stream",
       "stream": "stdout",
       "text": [
        "\n",
        "   402  |    0.014463  |  \u001b[32m  0.012874\u001b[0m  |     1.123472  |             |  4.4s"
       ]
      },
      {
       "output_type": "stream",
       "stream": "stdout",
       "text": [
        "\n",
        "   403  |    0.014462  |  \u001b[32m  0.012857\u001b[0m  |     1.124860  |             |  4.4s"
       ]
      },
      {
       "output_type": "stream",
       "stream": "stdout",
       "text": [
        "\n",
        "   404  |  \u001b[94m  0.014441\u001b[0m  |    0.012878  |     1.121342  |             |  4.4s"
       ]
      },
      {
       "output_type": "stream",
       "stream": "stdout",
       "text": [
        "\n",
        "   405  |    0.014485  |  \u001b[32m  0.012798\u001b[0m  |     1.131811  |             |  4.4s"
       ]
      },
      {
       "output_type": "stream",
       "stream": "stdout",
       "text": [
        "\n",
        "   406  |  \u001b[94m  0.014426\u001b[0m  |    0.012819  |     1.125324  |             |  4.4s"
       ]
      },
      {
       "output_type": "stream",
       "stream": "stdout",
       "text": [
        "\n",
        "   407  |  \u001b[94m  0.014373\u001b[0m  |  \u001b[32m  0.012793\u001b[0m  |     1.123514  |             |  4.4s"
       ]
      },
      {
       "output_type": "stream",
       "stream": "stdout",
       "text": [
        "\n",
        "   408  |  \u001b[94m  0.014327\u001b[0m  |    0.012832  |     1.116559  |             |  4.4s"
       ]
      },
      {
       "output_type": "stream",
       "stream": "stdout",
       "text": [
        "\n",
        "   409  |    0.014401  |  \u001b[32m  0.012735\u001b[0m  |     1.130859  |             |  4.4s"
       ]
      },
      {
       "output_type": "stream",
       "stream": "stdout",
       "text": [
        "\n",
        "   410  |  \u001b[94m  0.014214\u001b[0m  |    0.012738  |     1.115867  |             |  4.4s"
       ]
      },
      {
       "output_type": "stream",
       "stream": "stdout",
       "text": [
        "\n",
        "   411  |    0.014289  |    0.012795  |     1.116760  |             |  4.4s"
       ]
      },
      {
       "output_type": "stream",
       "stream": "stdout",
       "text": [
        "\n",
        "   412  |    0.014299  |    0.012833  |     1.114255  |             |  4.4s"
       ]
      },
      {
       "output_type": "stream",
       "stream": "stdout",
       "text": [
        "\n",
        "   413  |    0.014239  |  \u001b[32m  0.012719\u001b[0m  |     1.119509  |             |  4.4s"
       ]
      },
      {
       "output_type": "stream",
       "stream": "stdout",
       "text": [
        "\n",
        "   414  |    0.014253  |    0.012800  |     1.113491  |             |  4.4s"
       ]
      },
      {
       "output_type": "stream",
       "stream": "stdout",
       "text": [
        "\n",
        "   415  |  \u001b[94m  0.014209\u001b[0m  |    0.012778  |     1.111981  |             |  4.4s"
       ]
      },
      {
       "output_type": "stream",
       "stream": "stdout",
       "text": [
        "\n",
        "   416  |    0.014264  |  \u001b[32m  0.012671\u001b[0m  |     1.125726  |             |  4.4s"
       ]
      },
      {
       "output_type": "stream",
       "stream": "stdout",
       "text": [
        "\n",
        "   417  |    0.014240  |    0.012728  |     1.118779  |             |  4.4s"
       ]
      },
      {
       "output_type": "stream",
       "stream": "stdout",
       "text": [
        "\n",
        "   418  |    0.014214  |    0.012728  |     1.116769  |             |  4.4s"
       ]
      },
      {
       "output_type": "stream",
       "stream": "stdout",
       "text": [
        "\n",
        "   419  |  \u001b[94m  0.014129\u001b[0m  |  \u001b[32m  0.012647\u001b[0m  |     1.117165  |             |  4.4s"
       ]
      },
      {
       "output_type": "stream",
       "stream": "stdout",
       "text": [
        "\n",
        "   420  |    0.014164  |  \u001b[32m  0.012611\u001b[0m  |     1.123214  |             |  4.4s"
       ]
      },
      {
       "output_type": "stream",
       "stream": "stdout",
       "text": [
        "\n",
        "   421  |  \u001b[94m  0.014129\u001b[0m  |    0.012635  |     1.118206  |             |  4.4s"
       ]
      },
      {
       "output_type": "stream",
       "stream": "stdout",
       "text": [
        "\n",
        "   422  |  \u001b[94m  0.014079\u001b[0m  |  \u001b[32m  0.012570\u001b[0m  |     1.120049  |             |  4.4s"
       ]
      },
      {
       "output_type": "stream",
       "stream": "stdout",
       "text": [
        "\n",
        "   423  |    0.014147  |    0.012621  |     1.120964  |             |  4.4s"
       ]
      },
      {
       "output_type": "stream",
       "stream": "stdout",
       "text": [
        "\n",
        "   424  |  \u001b[94m  0.014071\u001b[0m  |  \u001b[32m  0.012565\u001b[0m  |     1.119869  |             |  4.4s"
       ]
      },
      {
       "output_type": "stream",
       "stream": "stdout",
       "text": [
        "\n",
        "   425  |    0.014116  |    0.012589  |     1.121327  |             |  4.4s"
       ]
      },
      {
       "output_type": "stream",
       "stream": "stdout",
       "text": [
        "\n",
        "   426  |    0.014083  |  \u001b[32m  0.012549\u001b[0m  |     1.122219  |             |  4.4s"
       ]
      },
      {
       "output_type": "stream",
       "stream": "stdout",
       "text": [
        "\n",
        "   427  |  \u001b[94m  0.014032\u001b[0m  |  \u001b[32m  0.012537\u001b[0m  |     1.119258  |             |  4.4s"
       ]
      },
      {
       "output_type": "stream",
       "stream": "stdout",
       "text": [
        "\n",
        "   428  |    0.014066  |    0.012568  |     1.119239  |             |  4.4s"
       ]
      },
      {
       "output_type": "stream",
       "stream": "stdout",
       "text": [
        "\n",
        "   429  |  \u001b[94m  0.014027\u001b[0m  |    0.012549  |     1.117794  |             |  4.4s"
       ]
      },
      {
       "output_type": "stream",
       "stream": "stdout",
       "text": [
        "\n",
        "   430  |    0.014041  |    0.012571  |     1.116930  |             |  4.4s"
       ]
      },
      {
       "output_type": "stream",
       "stream": "stdout",
       "text": [
        "\n",
        "   431  |    0.014075  |    0.012550  |     1.121517  |             |  4.4s"
       ]
      },
      {
       "output_type": "stream",
       "stream": "stdout",
       "text": [
        "\n",
        "   432  |  \u001b[94m  0.014024\u001b[0m  |  \u001b[32m  0.012439\u001b[0m  |     1.127380  |             |  4.4s"
       ]
      },
      {
       "output_type": "stream",
       "stream": "stdout",
       "text": [
        "\n",
        "   433  |  \u001b[94m  0.013982\u001b[0m  |    0.012494  |     1.119077  |             |  4.4s"
       ]
      },
      {
       "output_type": "stream",
       "stream": "stdout",
       "text": [
        "\n",
        "   434  |  \u001b[94m  0.013970\u001b[0m  |    0.012456  |     1.121559  |             |  4.4s"
       ]
      },
      {
       "output_type": "stream",
       "stream": "stdout",
       "text": [
        "\n",
        "   435  |  \u001b[94m  0.013923\u001b[0m  |  \u001b[32m  0.012421\u001b[0m  |     1.120925  |             |  4.4s"
       ]
      },
      {
       "output_type": "stream",
       "stream": "stdout",
       "text": [
        "\n",
        "   436  |    0.013945  |    0.012468  |     1.118459  |             |  4.4s"
       ]
      },
      {
       "output_type": "stream",
       "stream": "stdout",
       "text": [
        "\n",
        "   437  |    0.013924  |    0.012453  |     1.118159  |             |  4.4s"
       ]
      },
      {
       "output_type": "stream",
       "stream": "stdout",
       "text": [
        "\n",
        "   438  |  \u001b[94m  0.013875\u001b[0m  |  \u001b[32m  0.012395\u001b[0m  |     1.119475  |             |  4.4s"
       ]
      },
      {
       "output_type": "stream",
       "stream": "stdout",
       "text": [
        "\n",
        "   439  |  \u001b[94m  0.013870\u001b[0m  |  \u001b[32m  0.012390\u001b[0m  |     1.119427  |             |  4.4s"
       ]
      },
      {
       "output_type": "stream",
       "stream": "stdout",
       "text": [
        "\n",
        "   440  |  \u001b[94m  0.013818\u001b[0m  |    0.012409  |     1.113503  |             |  4.4s"
       ]
      },
      {
       "output_type": "stream",
       "stream": "stdout",
       "text": [
        "\n",
        "   441  |  \u001b[94m  0.013735\u001b[0m  |  \u001b[32m  0.012364\u001b[0m  |     1.110865  |             |  4.4s"
       ]
      },
      {
       "output_type": "stream",
       "stream": "stdout",
       "text": [
        "\n",
        "   442  |    0.013826  |  \u001b[32m  0.012361\u001b[0m  |     1.118464  |             |  4.4s"
       ]
      },
      {
       "output_type": "stream",
       "stream": "stdout",
       "text": [
        "\n",
        "   443  |    0.013842  |  \u001b[32m  0.012338\u001b[0m  |     1.121913  |             |  4.4s"
       ]
      },
      {
       "output_type": "stream",
       "stream": "stdout",
       "text": [
        "\n",
        "   444  |    0.013775  |    0.012360  |     1.114465  |             |  4.4s"
       ]
      },
      {
       "output_type": "stream",
       "stream": "stdout",
       "text": [
        "\n",
        "   445  |    0.013802  |    0.012355  |     1.117161  |             |  4.4s"
       ]
      },
      {
       "output_type": "stream",
       "stream": "stdout",
       "text": [
        "\n",
        "   446  |    0.013855  |    0.012355  |     1.121364  |             |  4.4s"
       ]
      },
      {
       "output_type": "stream",
       "stream": "stdout",
       "text": [
        "\n",
        "   447  |    0.013782  |  \u001b[32m  0.012286\u001b[0m  |     1.121770  |             |  4.4s"
       ]
      },
      {
       "output_type": "stream",
       "stream": "stdout",
       "text": [
        "\n",
        "   448  |  \u001b[94m  0.013708\u001b[0m  |    0.012344  |     1.110495  |             |  4.4s"
       ]
      },
      {
       "output_type": "stream",
       "stream": "stdout",
       "text": [
        "\n",
        "   449  |    0.013732  |    0.012295  |     1.116882  |             |  4.4s"
       ]
      },
      {
       "output_type": "stream",
       "stream": "stdout",
       "text": [
        "\n",
        "   450  |  \u001b[94m  0.013688\u001b[0m  |  \u001b[32m  0.012199\u001b[0m  |     1.122091  |             |  4.4s"
       ]
      },
      {
       "output_type": "stream",
       "stream": "stdout",
       "text": [
        "\n",
        "   451  |    0.013773  |    0.012253  |     1.124041  |             |  4.4s"
       ]
      },
      {
       "output_type": "stream",
       "stream": "stdout",
       "text": [
        "\n",
        "   452  |  \u001b[94m  0.013647\u001b[0m  |    0.012214  |     1.117347  |             |  4.4s"
       ]
      },
      {
       "output_type": "stream",
       "stream": "stdout",
       "text": [
        "\n",
        "   453  |  \u001b[94m  0.013635\u001b[0m  |    0.012292  |     1.109262  |             |  4.4s"
       ]
      },
      {
       "output_type": "stream",
       "stream": "stdout",
       "text": [
        "\n",
        "   454  |  \u001b[94m  0.013631\u001b[0m  |    0.012229  |     1.114657  |             |  4.4s"
       ]
      },
      {
       "output_type": "stream",
       "stream": "stdout",
       "text": [
        "\n",
        "   455  |    0.013655  |  \u001b[32m  0.012194\u001b[0m  |     1.119780  |             |  4.4s"
       ]
      },
      {
       "output_type": "stream",
       "stream": "stdout",
       "text": [
        "\n",
        "   456  |  \u001b[94m  0.013559\u001b[0m  |    0.012198  |     1.111583  |             |  4.4s"
       ]
      },
      {
       "output_type": "stream",
       "stream": "stdout",
       "text": [
        "\n",
        "   457  |    0.013612  |    0.012251  |     1.111149  |             |  4.4s"
       ]
      },
      {
       "output_type": "stream",
       "stream": "stdout",
       "text": [
        "\n",
        "   458  |    0.013727  |    0.012202  |     1.124952  |             |  4.4s"
       ]
      },
      {
       "output_type": "stream",
       "stream": "stdout",
       "text": [
        "\n",
        "   459  |    0.013633  |  \u001b[32m  0.012156\u001b[0m  |     1.121451  |             |  4.4s"
       ]
      },
      {
       "output_type": "stream",
       "stream": "stdout",
       "text": [
        "\n",
        "   460  |  \u001b[94m  0.013554\u001b[0m  |  \u001b[32m  0.012147\u001b[0m  |     1.115840  |             |  4.4s"
       ]
      },
      {
       "output_type": "stream",
       "stream": "stdout",
       "text": [
        "\n",
        "   461  |    0.013618  |    0.012186  |     1.117520  |             |  4.4s"
       ]
      },
      {
       "output_type": "stream",
       "stream": "stdout",
       "text": [
        "\n",
        "   462  |    0.013567  |  \u001b[32m  0.012113\u001b[0m  |     1.120049  |             |  4.4s"
       ]
      },
      {
       "output_type": "stream",
       "stream": "stdout",
       "text": [
        "\n",
        "   463  |  \u001b[94m  0.013506\u001b[0m  |    0.012153  |     1.111348  |             |  4.4s"
       ]
      },
      {
       "output_type": "stream",
       "stream": "stdout",
       "text": [
        "\n",
        "   464  |    0.013529  |    0.012115  |     1.116703  |             |  4.4s"
       ]
      },
      {
       "output_type": "stream",
       "stream": "stdout",
       "text": [
        "\n",
        "   465  |  \u001b[94m  0.013502\u001b[0m  |  \u001b[32m  0.012088\u001b[0m  |     1.117032  |             |  4.4s"
       ]
      },
      {
       "output_type": "stream",
       "stream": "stdout",
       "text": [
        "\n",
        "   466  |  \u001b[94m  0.013484\u001b[0m  |    0.012136  |     1.111021  |             |  4.4s"
       ]
      },
      {
       "output_type": "stream",
       "stream": "stdout",
       "text": [
        "\n",
        "   467  |    0.013534  |    0.012134  |     1.115394  |             |  4.4s"
       ]
      },
      {
       "output_type": "stream",
       "stream": "stdout",
       "text": [
        "\n",
        "   468  |    0.013528  |  \u001b[32m  0.012086\u001b[0m  |     1.119317  |             |  4.4s"
       ]
      },
      {
       "output_type": "stream",
       "stream": "stdout",
       "text": [
        "\n",
        "   469  |    0.013516  |  \u001b[32m  0.012061\u001b[0m  |     1.120643  |             |  4.4s"
       ]
      },
      {
       "output_type": "stream",
       "stream": "stdout",
       "text": [
        "\n",
        "   470  |  \u001b[94m  0.013455\u001b[0m  |    0.012095  |     1.112481  |             |  4.4s"
       ]
      },
      {
       "output_type": "stream",
       "stream": "stdout",
       "text": [
        "\n",
        "   471  |    0.013473  |  \u001b[32m  0.012045\u001b[0m  |     1.118578  |             |  4.4s"
       ]
      },
      {
       "output_type": "stream",
       "stream": "stdout",
       "text": [
        "\n",
        "   472  |  \u001b[94m  0.013422\u001b[0m  |    0.012046  |     1.114225  |             |  4.4s"
       ]
      },
      {
       "output_type": "stream",
       "stream": "stdout",
       "text": [
        "\n",
        "   473  |    0.013463  |  \u001b[32m  0.012035\u001b[0m  |     1.118601  |             |  4.4s"
       ]
      },
      {
       "output_type": "stream",
       "stream": "stdout",
       "text": [
        "\n",
        "   474  |    0.013452  |  \u001b[32m  0.012003\u001b[0m  |     1.120712  |             |  4.4s"
       ]
      },
      {
       "output_type": "stream",
       "stream": "stdout",
       "text": [
        "\n",
        "   475  |  \u001b[94m  0.013386\u001b[0m  |  \u001b[32m  0.011999\u001b[0m  |     1.115616  |             |  4.4s"
       ]
      },
      {
       "output_type": "stream",
       "stream": "stdout",
       "text": [
        "\n",
        "   476  |    0.013400  |    0.012035  |     1.113463  |             |  4.4s"
       ]
      },
      {
       "output_type": "stream",
       "stream": "stdout",
       "text": [
        "\n",
        "   477  |    0.013432  |    0.012018  |     1.117676  |             |  4.4s"
       ]
      },
      {
       "output_type": "stream",
       "stream": "stdout",
       "text": [
        "\n",
        "   478  |  \u001b[94m  0.013323\u001b[0m  |  \u001b[32m  0.011962\u001b[0m  |     1.113841  |             |  4.4s"
       ]
      },
      {
       "output_type": "stream",
       "stream": "stdout",
       "text": [
        "\n",
        "   479  |    0.013353  |    0.011969  |     1.115654  |             |  4.4s"
       ]
      },
      {
       "output_type": "stream",
       "stream": "stdout",
       "text": [
        "\n",
        "   480  |    0.013333  |    0.011997  |     1.111390  |             |  4.4s"
       ]
      },
      {
       "output_type": "stream",
       "stream": "stdout",
       "text": [
        "\n",
        "   481  |    0.013333  |  \u001b[32m  0.011911\u001b[0m  |     1.119336  |             |  4.4s"
       ]
      },
      {
       "output_type": "stream",
       "stream": "stdout",
       "text": [
        "\n",
        "   482  |    0.013341  |    0.011937  |     1.117633  |             |  4.4s"
       ]
      },
      {
       "output_type": "stream",
       "stream": "stdout",
       "text": [
        "\n",
        "   483  |    0.013380  |    0.011960  |     1.118675  |             |  4.4s"
       ]
      },
      {
       "output_type": "stream",
       "stream": "stdout",
       "text": [
        "\n",
        "   484  |  \u001b[94m  0.013194\u001b[0m  |    0.011938  |     1.105235  |             |  4.4s"
       ]
      },
      {
       "output_type": "stream",
       "stream": "stdout",
       "text": [
        "\n",
        "   485  |    0.013254  |    0.011912  |     1.112584  |             |  4.4s"
       ]
      },
      {
       "output_type": "stream",
       "stream": "stdout",
       "text": [
        "\n",
        "   486  |    0.013229  |  \u001b[32m  0.011867\u001b[0m  |     1.114846  |             |  4.4s"
       ]
      },
      {
       "output_type": "stream",
       "stream": "stdout",
       "text": [
        "\n",
        "   487  |  \u001b[94m  0.013186\u001b[0m  |  \u001b[32m  0.011846\u001b[0m  |     1.113173  |             |  4.4s"
       ]
      },
      {
       "output_type": "stream",
       "stream": "stdout",
       "text": [
        "\n",
        "   488  |    0.013235  |    0.011929  |     1.109426  |             |  4.4s"
       ]
      },
      {
       "output_type": "stream",
       "stream": "stdout",
       "text": [
        "\n",
        "   489  |    0.013188  |    0.011904  |     1.107885  |             |  4.4s"
       ]
      },
      {
       "output_type": "stream",
       "stream": "stdout",
       "text": [
        "\n",
        "   490  |    0.013226  |    0.011886  |     1.112733  |             |  4.4s"
       ]
      },
      {
       "output_type": "stream",
       "stream": "stdout",
       "text": [
        "\n",
        "   491  |    0.013270  |    0.011905  |     1.114637  |             |  4.4s"
       ]
      },
      {
       "output_type": "stream",
       "stream": "stdout",
       "text": [
        "\n",
        "   492  |    0.013225  |  \u001b[32m  0.011843\u001b[0m  |     1.116665  |             |  4.4s"
       ]
      },
      {
       "output_type": "stream",
       "stream": "stdout",
       "text": [
        "\n",
        "   493  |    0.013193  |  \u001b[32m  0.011811\u001b[0m  |     1.117061  |             |  4.4s"
       ]
      },
      {
       "output_type": "stream",
       "stream": "stdout",
       "text": [
        "\n",
        "   494  |    0.013204  |    0.011822  |     1.116921  |             |  4.4s"
       ]
      },
      {
       "output_type": "stream",
       "stream": "stdout",
       "text": [
        "\n",
        "   495  |    0.013292  |    0.011840  |     1.122576  |             |  4.4s"
       ]
      },
      {
       "output_type": "stream",
       "stream": "stdout",
       "text": [
        "\n",
        "   496  |    0.013230  |    0.011840  |     1.117328  |             |  4.4s"
       ]
      },
      {
       "output_type": "stream",
       "stream": "stdout",
       "text": [
        "\n",
        "   497  |  \u001b[94m  0.013184\u001b[0m  |  \u001b[32m  0.011776\u001b[0m  |     1.119627  |             |  4.4s"
       ]
      },
      {
       "output_type": "stream",
       "stream": "stdout",
       "text": [
        "\n",
        "   498  |  \u001b[94m  0.013089\u001b[0m  |    0.011808  |     1.108428  |             |  4.4s"
       ]
      },
      {
       "output_type": "stream",
       "stream": "stdout",
       "text": [
        "\n",
        "   499  |  \u001b[94m  0.013087\u001b[0m  |  \u001b[32m  0.011766\u001b[0m  |     1.112241  |             |  4.4s"
       ]
      },
      {
       "output_type": "stream",
       "stream": "stdout",
       "text": [
        "\n",
        "   500  |    0.013116  |    0.011772  |     1.114150  |             |  4.4s"
       ]
      },
      {
       "output_type": "stream",
       "stream": "stdout",
       "text": [
        "\n",
        "   501  |    0.013141  |  \u001b[32m  0.011723\u001b[0m  |     1.120985  |             |  4.4s"
       ]
      },
      {
       "output_type": "stream",
       "stream": "stdout",
       "text": [
        "\n",
        "   502  |  \u001b[94m  0.012991\u001b[0m  |    0.011751  |     1.105546  |             |  4.4s"
       ]
      },
      {
       "output_type": "stream",
       "stream": "stdout",
       "text": [
        "\n",
        "   503  |    0.013135  |    0.011748  |     1.118039  |             |  4.4s"
       ]
      },
      {
       "output_type": "stream",
       "stream": "stdout",
       "text": [
        "\n",
        "   504  |    0.013077  |    0.011740  |     1.113895  |             |  4.4s"
       ]
      },
      {
       "output_type": "stream",
       "stream": "stdout",
       "text": [
        "\n",
        "   505  |    0.013077  |    0.011807  |     1.107537  |             |  4.4s"
       ]
      },
      {
       "output_type": "stream",
       "stream": "stdout",
       "text": [
        "\n",
        "   506  |    0.013111  |  \u001b[32m  0.011711\u001b[0m  |     1.119601  |             |  4.4s"
       ]
      },
      {
       "output_type": "stream",
       "stream": "stdout",
       "text": [
        "\n",
        "   507  |    0.013109  |    0.011754  |     1.115234  |             |  4.4s"
       ]
      },
      {
       "output_type": "stream",
       "stream": "stdout",
       "text": [
        "\n",
        "   508  |    0.013030  |  \u001b[32m  0.011697\u001b[0m  |     1.113933  |             |  4.4s"
       ]
      },
      {
       "output_type": "stream",
       "stream": "stdout",
       "text": [
        "\n",
        "   509  |    0.013029  |  \u001b[32m  0.011656\u001b[0m  |     1.117822  |             |  4.4s"
       ]
      },
      {
       "output_type": "stream",
       "stream": "stdout",
       "text": [
        "\n",
        "   510  |  \u001b[94m  0.012981\u001b[0m  |  \u001b[32m  0.011631\u001b[0m  |     1.116057  |             |  4.4s"
       ]
      },
      {
       "output_type": "stream",
       "stream": "stdout",
       "text": [
        "\n",
        "   511  |    0.013041  |    0.011744  |     1.110480  |             |  4.4s"
       ]
      },
      {
       "output_type": "stream",
       "stream": "stdout",
       "text": [
        "\n",
        "   512  |  \u001b[94m  0.012963\u001b[0m  |    0.011678  |     1.109981  |             |  4.4s"
       ]
      },
      {
       "output_type": "stream",
       "stream": "stdout",
       "text": [
        "\n",
        "   513  |    0.013004  |  \u001b[32m  0.011603\u001b[0m  |     1.120700  |             |  4.4s"
       ]
      },
      {
       "output_type": "stream",
       "stream": "stdout",
       "text": [
        "\n",
        "   514  |    0.012994  |    0.011653  |     1.115107  |             |  4.4s"
       ]
      },
      {
       "output_type": "stream",
       "stream": "stdout",
       "text": [
        "\n",
        "   515  |    0.012991  |    0.011660  |     1.114189  |             |  4.4s"
       ]
      },
      {
       "output_type": "stream",
       "stream": "stdout",
       "text": [
        "\n",
        "   516  |  \u001b[94m  0.012916\u001b[0m  |    0.011623  |     1.111215  |             |  4.4s"
       ]
      },
      {
       "output_type": "stream",
       "stream": "stdout",
       "text": [
        "\n",
        "   517  |    0.012952  |  \u001b[32m  0.011582\u001b[0m  |     1.118292  |             |  4.4s"
       ]
      },
      {
       "output_type": "stream",
       "stream": "stdout",
       "text": [
        "\n",
        "   518  |  \u001b[94m  0.012858\u001b[0m  |  \u001b[32m  0.011568\u001b[0m  |     1.111493  |             |  4.4s"
       ]
      },
      {
       "output_type": "stream",
       "stream": "stdout",
       "text": [
        "\n",
        "   519  |    0.012955  |    0.011571  |     1.119535  |             |  4.4s"
       ]
      },
      {
       "output_type": "stream",
       "stream": "stdout",
       "text": [
        "\n",
        "   520  |    0.012917  |  \u001b[32m  0.011550\u001b[0m  |     1.118419  |             |  4.4s"
       ]
      },
      {
       "output_type": "stream",
       "stream": "stdout",
       "text": [
        "\n",
        "   521  |  \u001b[94m  0.012803\u001b[0m  |    0.011606  |     1.103116  |             |  4.4s"
       ]
      },
      {
       "output_type": "stream",
       "stream": "stdout",
       "text": [
        "\n",
        "   522  |    0.012885  |  \u001b[32m  0.011535\u001b[0m  |     1.117053  |             |  4.4s"
       ]
      },
      {
       "output_type": "stream",
       "stream": "stdout",
       "text": [
        "\n",
        "   523  |    0.012891  |    0.011556  |     1.115528  |             |  4.4s"
       ]
      },
      {
       "output_type": "stream",
       "stream": "stdout",
       "text": [
        "\n",
        "   524  |    0.012815  |    0.011561  |     1.108473  |             |  4.4s"
       ]
      },
      {
       "output_type": "stream",
       "stream": "stdout",
       "text": [
        "\n",
        "   525  |    0.012829  |    0.011589  |     1.106951  |             |  4.4s"
       ]
      },
      {
       "output_type": "stream",
       "stream": "stdout",
       "text": [
        "\n",
        "   526  |    0.012932  |  \u001b[32m  0.011513\u001b[0m  |     1.123233  |             |  4.4s"
       ]
      },
      {
       "output_type": "stream",
       "stream": "stdout",
       "text": [
        "\n",
        "   527  |    0.012814  |    0.011602  |     1.104505  |             |  4.4s"
       ]
      },
      {
       "output_type": "stream",
       "stream": "stdout",
       "text": [
        "\n",
        "   528  |    0.012846  |    0.011549  |     1.112357  |             |  4.4s"
       ]
      },
      {
       "output_type": "stream",
       "stream": "stdout",
       "text": [
        "\n",
        "   529  |    0.012818  |  \u001b[32m  0.011510\u001b[0m  |     1.113669  |             |  4.4s"
       ]
      },
      {
       "output_type": "stream",
       "stream": "stdout",
       "text": [
        "\n",
        "   530  |    0.012806  |    0.011541  |     1.109556  |             |  4.4s"
       ]
      },
      {
       "output_type": "stream",
       "stream": "stdout",
       "text": [
        "\n",
        "   531  |  \u001b[94m  0.012768\u001b[0m  |  \u001b[32m  0.011463\u001b[0m  |     1.113836  |             |  4.4s"
       ]
      },
      {
       "output_type": "stream",
       "stream": "stdout",
       "text": [
        "\n",
        "   532  |    0.012793  |    0.011508  |     1.111664  |             |  4.4s"
       ]
      },
      {
       "output_type": "stream",
       "stream": "stdout",
       "text": [
        "\n",
        "   533  |    0.012779  |  \u001b[32m  0.011462\u001b[0m  |     1.114899  |             |  4.4s"
       ]
      },
      {
       "output_type": "stream",
       "stream": "stdout",
       "text": [
        "\n",
        "   534  |  \u001b[94m  0.012671\u001b[0m  |  \u001b[32m  0.011458\u001b[0m  |     1.105867  |             |  4.4s"
       ]
      },
      {
       "output_type": "stream",
       "stream": "stdout",
       "text": [
        "\n",
        "   535  |    0.012799  |    0.011495  |     1.113410  |             |  4.4s"
       ]
      },
      {
       "output_type": "stream",
       "stream": "stdout",
       "text": [
        "\n",
        "   536  |    0.012699  |    0.011489  |     1.105302  |             |  4.4s"
       ]
      },
      {
       "output_type": "stream",
       "stream": "stdout",
       "text": [
        "\n",
        "   537  |    0.012708  |  \u001b[32m  0.011409\u001b[0m  |     1.113862  |             |  4.4s"
       ]
      },
      {
       "output_type": "stream",
       "stream": "stdout",
       "text": [
        "\n",
        "   538  |    0.012724  |    0.011446  |     1.111645  |             |  4.4s"
       ]
      },
      {
       "output_type": "stream",
       "stream": "stdout",
       "text": [
        "\n",
        "   539  |  \u001b[94m  0.012604\u001b[0m  |    0.011474  |     1.098467  |             |  4.4s"
       ]
      },
      {
       "output_type": "stream",
       "stream": "stdout",
       "text": [
        "\n",
        "   540  |    0.012713  |    0.011410  |     1.114251  |             |  4.4s"
       ]
      },
      {
       "output_type": "stream",
       "stream": "stdout",
       "text": [
        "\n",
        "   541  |    0.012619  |    0.011453  |     1.101839  |             |  4.4s"
       ]
      },
      {
       "output_type": "stream",
       "stream": "stdout",
       "text": [
        "\n",
        "   542  |    0.012660  |    0.011410  |     1.109591  |             |  4.4s"
       ]
      },
      {
       "output_type": "stream",
       "stream": "stdout",
       "text": [
        "\n",
        "   543  |    0.012651  |    0.011446  |     1.105281  |             |  4.4s"
       ]
      },
      {
       "output_type": "stream",
       "stream": "stdout",
       "text": [
        "\n",
        "   544  |    0.012630  |  \u001b[32m  0.011349\u001b[0m  |     1.112837  |             |  4.4s"
       ]
      },
      {
       "output_type": "stream",
       "stream": "stdout",
       "text": [
        "\n",
        "   545  |  \u001b[94m  0.012584\u001b[0m  |  \u001b[32m  0.011348\u001b[0m  |     1.108855  |             |  4.4s"
       ]
      },
      {
       "output_type": "stream",
       "stream": "stdout",
       "text": [
        "\n",
        "   546  |    0.012712  |  \u001b[32m  0.011344\u001b[0m  |     1.120624  |             |  4.4s"
       ]
      },
      {
       "output_type": "stream",
       "stream": "stdout",
       "text": [
        "\n",
        "   547  |  \u001b[94m  0.012539\u001b[0m  |  \u001b[32m  0.011338\u001b[0m  |     1.105886  |             |  4.4s"
       ]
      },
      {
       "output_type": "stream",
       "stream": "stdout",
       "text": [
        "\n",
        "   548  |    0.012601  |  \u001b[32m  0.011322\u001b[0m  |     1.112902  |             |  4.4s"
       ]
      },
      {
       "output_type": "stream",
       "stream": "stdout",
       "text": [
        "\n",
        "   549  |    0.012574  |  \u001b[32m  0.011322\u001b[0m  |     1.110587  |             |  4.4s"
       ]
      },
      {
       "output_type": "stream",
       "stream": "stdout",
       "text": [
        "\n",
        "   550  |    0.012570  |    0.011340  |     1.108475  |             |  4.4s"
       ]
      },
      {
       "output_type": "stream",
       "stream": "stdout",
       "text": [
        "\n",
        "   551  |    0.012661  |    0.011330  |     1.117488  |             |  4.4s"
       ]
      },
      {
       "output_type": "stream",
       "stream": "stdout",
       "text": [
        "\n",
        "   552  |  \u001b[94m  0.012533\u001b[0m  |  \u001b[32m  0.011298\u001b[0m  |     1.109361  |             |  4.4s"
       ]
      },
      {
       "output_type": "stream",
       "stream": "stdout",
       "text": [
        "\n",
        "   553  |    0.012587  |    0.011309  |     1.113077  |             |  4.4s"
       ]
      },
      {
       "output_type": "stream",
       "stream": "stdout",
       "text": [
        "\n",
        "   554  |    0.012601  |    0.011319  |     1.113328  |             |  4.4s"
       ]
      },
      {
       "output_type": "stream",
       "stream": "stdout",
       "text": [
        "\n",
        "   555  |  \u001b[94m  0.012495\u001b[0m  |    0.011327  |     1.103093  |             |  4.4s"
       ]
      },
      {
       "output_type": "stream",
       "stream": "stdout",
       "text": [
        "\n",
        "   556  |    0.012530  |    0.011307  |     1.108170  |             |  4.4s"
       ]
      },
      {
       "output_type": "stream",
       "stream": "stdout",
       "text": [
        "\n",
        "   557  |  \u001b[94m  0.012488\u001b[0m  |  \u001b[32m  0.011295\u001b[0m  |     1.105568  |             |  4.4s"
       ]
      },
      {
       "output_type": "stream",
       "stream": "stdout",
       "text": [
        "\n",
        "   558  |  \u001b[94m  0.012474\u001b[0m  |  \u001b[32m  0.011277\u001b[0m  |     1.106148  |             |  4.4s"
       ]
      },
      {
       "output_type": "stream",
       "stream": "stdout",
       "text": [
        "\n",
        "   559  |    0.012561  |  \u001b[32m  0.011225\u001b[0m  |     1.119070  |             |  4.4s"
       ]
      },
      {
       "output_type": "stream",
       "stream": "stdout",
       "text": [
        "\n",
        "   560  |    0.012476  |    0.011238  |     1.110164  |             |  4.4s"
       ]
      },
      {
       "output_type": "stream",
       "stream": "stdout",
       "text": [
        "\n",
        "   561  |  \u001b[94m  0.012421\u001b[0m  |    0.011239  |     1.105179  |             |  4.4s"
       ]
      },
      {
       "output_type": "stream",
       "stream": "stdout",
       "text": [
        "\n",
        "   562  |    0.012470  |    0.011232  |     1.110181  |             |  4.4s"
       ]
      },
      {
       "output_type": "stream",
       "stream": "stdout",
       "text": [
        "\n",
        "   563  |    0.012424  |  \u001b[32m  0.011216\u001b[0m  |     1.107698  |             |  4.4s"
       ]
      },
      {
       "output_type": "stream",
       "stream": "stdout",
       "text": [
        "\n",
        "   564  |    0.012484  |    0.011245  |     1.110228  |             |  4.4s"
       ]
      },
      {
       "output_type": "stream",
       "stream": "stdout",
       "text": [
        "\n",
        "   565  |    0.012449  |    0.011246  |     1.107000  |             |  4.4s"
       ]
      },
      {
       "output_type": "stream",
       "stream": "stdout",
       "text": [
        "\n",
        "   566  |  \u001b[94m  0.012389\u001b[0m  |  \u001b[32m  0.011180\u001b[0m  |     1.108120  |             |  4.4s"
       ]
      },
      {
       "output_type": "stream",
       "stream": "stdout",
       "text": [
        "\n",
        "   567  |    0.012516  |    0.011189  |     1.118561  |             |  4.4s"
       ]
      },
      {
       "output_type": "stream",
       "stream": "stdout",
       "text": [
        "\n",
        "   568  |  \u001b[94m  0.012342\u001b[0m  |    0.011225  |     1.099447  |             |  4.4s"
       ]
      },
      {
       "output_type": "stream",
       "stream": "stdout",
       "text": [
        "\n",
        "   569  |    0.012382  |    0.011249  |     1.100726  |             |  4.4s"
       ]
      },
      {
       "output_type": "stream",
       "stream": "stdout",
       "text": [
        "\n",
        "   570  |  \u001b[94m  0.012303\u001b[0m  |  \u001b[32m  0.011167\u001b[0m  |     1.101687  |             |  4.4s"
       ]
      },
      {
       "output_type": "stream",
       "stream": "stdout",
       "text": [
        "\n",
        "   571  |    0.012452  |  \u001b[32m  0.011167\u001b[0m  |     1.115158  |             |  4.4s"
       ]
      },
      {
       "output_type": "stream",
       "stream": "stdout",
       "text": [
        "\n",
        "   572  |    0.012316  |  \u001b[32m  0.011155\u001b[0m  |     1.104110  |             |  4.4s"
       ]
      },
      {
       "output_type": "stream",
       "stream": "stdout",
       "text": [
        "\n",
        "   573  |    0.012378  |    0.011188  |     1.106329  |             |  4.4s"
       ]
      },
      {
       "output_type": "stream",
       "stream": "stdout",
       "text": [
        "\n",
        "   574  |    0.012323  |    0.011170  |     1.103179  |             |  4.4s"
       ]
      },
      {
       "output_type": "stream",
       "stream": "stdout",
       "text": [
        "\n",
        "   575  |    0.012387  |    0.011165  |     1.109478  |             |  4.4s"
       ]
      },
      {
       "output_type": "stream",
       "stream": "stdout",
       "text": [
        "\n",
        "   576  |    0.012391  |  \u001b[32m  0.011115\u001b[0m  |     1.114797  |             |  4.4s"
       ]
      },
      {
       "output_type": "stream",
       "stream": "stdout",
       "text": [
        "\n",
        "   577  |  \u001b[94m  0.012256\u001b[0m  |    0.011162  |     1.097960  |             |  4.4s"
       ]
      },
      {
       "output_type": "stream",
       "stream": "stdout",
       "text": [
        "\n",
        "   578  |    0.012287  |  \u001b[32m  0.011095\u001b[0m  |     1.107419  |             |  4.4s"
       ]
      },
      {
       "output_type": "stream",
       "stream": "stdout",
       "text": [
        "\n",
        "   579  |  \u001b[94m  0.012229\u001b[0m  |  \u001b[32m  0.011093\u001b[0m  |     1.102349  |             |  4.4s"
       ]
      },
      {
       "output_type": "stream",
       "stream": "stdout",
       "text": [
        "\n",
        "   580  |    0.012331  |    0.011122  |     1.108710  |             |  4.4s"
       ]
      },
      {
       "output_type": "stream",
       "stream": "stdout",
       "text": [
        "\n",
        "   581  |    0.012349  |  \u001b[32m  0.011087\u001b[0m  |     1.113828  |             |  4.4s"
       ]
      },
      {
       "output_type": "stream",
       "stream": "stdout",
       "text": [
        "\n",
        "   582  |  \u001b[94m  0.012223\u001b[0m  |  \u001b[32m  0.011083\u001b[0m  |     1.102926  |             |  4.4s"
       ]
      },
      {
       "output_type": "stream",
       "stream": "stdout",
       "text": [
        "\n",
        "   583  |    0.012236  |  \u001b[32m  0.011054\u001b[0m  |     1.106846  |             |  4.4s"
       ]
      },
      {
       "output_type": "stream",
       "stream": "stdout",
       "text": [
        "\n",
        "   584  |  \u001b[94m  0.012213\u001b[0m  |    0.011096  |     1.100707  |             |  4.4s"
       ]
      },
      {
       "output_type": "stream",
       "stream": "stdout",
       "text": [
        "\n",
        "   585  |    0.012276  |    0.011122  |     1.103677  |             |  4.4s"
       ]
      },
      {
       "output_type": "stream",
       "stream": "stdout",
       "text": [
        "\n",
        "   586  |  \u001b[94m  0.012200\u001b[0m  |    0.011056  |     1.103516  |             |  4.4s"
       ]
      },
      {
       "output_type": "stream",
       "stream": "stdout",
       "text": [
        "\n",
        "   587  |    0.012220  |  \u001b[32m  0.011030\u001b[0m  |     1.107870  |             |  4.4s"
       ]
      },
      {
       "output_type": "stream",
       "stream": "stdout",
       "text": [
        "\n",
        "   588  |  \u001b[94m  0.012183\u001b[0m  |    0.011058  |     1.101696  |             |  4.4s"
       ]
      },
      {
       "output_type": "stream",
       "stream": "stdout",
       "text": [
        "\n",
        "   589  |  \u001b[94m  0.012152\u001b[0m  |    0.011047  |     1.100045  |             |  4.4s"
       ]
      },
      {
       "output_type": "stream",
       "stream": "stdout",
       "text": [
        "\n",
        "   590  |    0.012180  |  \u001b[32m  0.011013\u001b[0m  |     1.105923  |             |  4.4s"
       ]
      },
      {
       "output_type": "stream",
       "stream": "stdout",
       "text": [
        "\n",
        "   591  |    0.012196  |    0.011025  |     1.106247  |             |  4.4s"
       ]
      },
      {
       "output_type": "stream",
       "stream": "stdout",
       "text": [
        "\n",
        "   592  |    0.012221  |    0.011034  |     1.107590  |             |  4.4s"
       ]
      },
      {
       "output_type": "stream",
       "stream": "stdout",
       "text": [
        "\n",
        "   593  |    0.012216  |  \u001b[32m  0.011007\u001b[0m  |     1.109788  |             |  4.4s"
       ]
      },
      {
       "output_type": "stream",
       "stream": "stdout",
       "text": [
        "\n",
        "   594  |    0.012211  |  \u001b[32m  0.011000\u001b[0m  |     1.110042  |             |  4.4s"
       ]
      },
      {
       "output_type": "stream",
       "stream": "stdout",
       "text": [
        "\n",
        "   595  |  \u001b[94m  0.012134\u001b[0m  |    0.011005  |     1.102556  |             |  4.4s"
       ]
      },
      {
       "output_type": "stream",
       "stream": "stdout",
       "text": [
        "\n",
        "   596  |    0.012235  |  \u001b[32m  0.010986\u001b[0m  |     1.113685  |             |  4.4s"
       ]
      },
      {
       "output_type": "stream",
       "stream": "stdout",
       "text": [
        "\n",
        "   597  |    0.012224  |  \u001b[32m  0.010969\u001b[0m  |     1.114389  |             |  4.4s"
       ]
      },
      {
       "output_type": "stream",
       "stream": "stdout",
       "text": [
        "\n",
        "   598  |    0.012145  |    0.011025  |     1.101612  |             |  4.4s"
       ]
      },
      {
       "output_type": "stream",
       "stream": "stdout",
       "text": [
        "\n",
        "   599  |  \u001b[94m  0.012067\u001b[0m  |  \u001b[32m  0.010946\u001b[0m  |     1.102424  |             |  4.4s"
       ]
      },
      {
       "output_type": "stream",
       "stream": "stdout",
       "text": [
        "\n",
        "   600  |    0.012132  |    0.010976  |     1.105266  |             |  4.4s"
       ]
      },
      {
       "output_type": "stream",
       "stream": "stdout",
       "text": [
        "\n",
        "   601  |    0.012090  |  \u001b[32m  0.010925\u001b[0m  |     1.106569  |             |  4.4s"
       ]
      },
      {
       "output_type": "stream",
       "stream": "stdout",
       "text": [
        "\n",
        "   602  |    0.012113  |  \u001b[32m  0.010904\u001b[0m  |     1.110869  |             |  4.4s"
       ]
      },
      {
       "output_type": "stream",
       "stream": "stdout",
       "text": [
        "\n",
        "   603  |    0.012076  |    0.010909  |     1.106944  |             |  4.4s"
       ]
      },
      {
       "output_type": "stream",
       "stream": "stdout",
       "text": [
        "\n",
        "   604  |  \u001b[94m  0.011997\u001b[0m  |  \u001b[32m  0.010885\u001b[0m  |     1.102133  |             |  4.4s"
       ]
      },
      {
       "output_type": "stream",
       "stream": "stdout",
       "text": [
        "\n",
        "   605  |    0.012084  |    0.010904  |     1.108194  |             |  4.4s"
       ]
      },
      {
       "output_type": "stream",
       "stream": "stdout",
       "text": [
        "\n",
        "   606  |    0.012049  |    0.010931  |     1.102299  |             |  4.4s"
       ]
      },
      {
       "output_type": "stream",
       "stream": "stdout",
       "text": [
        "\n",
        "   607  |    0.012030  |    0.010931  |     1.100466  |             |  4.4s"
       ]
      },
      {
       "output_type": "stream",
       "stream": "stdout",
       "text": [
        "\n",
        "   608  |    0.011998  |    0.010914  |     1.099322  |             |  4.4s"
       ]
      },
      {
       "output_type": "stream",
       "stream": "stdout",
       "text": [
        "\n",
        "   609  |    0.012070  |    0.010926  |     1.104698  |             |  4.4s"
       ]
      },
      {
       "output_type": "stream",
       "stream": "stdout",
       "text": [
        "\n",
        "   610  |    0.012043  |    0.010905  |     1.104326  |             |  4.4s"
       ]
      },
      {
       "output_type": "stream",
       "stream": "stdout",
       "text": [
        "\n",
        "   611  |  \u001b[94m  0.011975\u001b[0m  |    0.010895  |     1.099112  |             |  4.4s"
       ]
      },
      {
       "output_type": "stream",
       "stream": "stdout",
       "text": [
        "\n",
        "   612  |  \u001b[94m  0.011891\u001b[0m  |    0.010903  |     1.090653  |             |  4.4s"
       ]
      },
      {
       "output_type": "stream",
       "stream": "stdout",
       "text": [
        "\n",
        "   613  |    0.012045  |    0.010918  |     1.103187  |             |  4.4s"
       ]
      },
      {
       "output_type": "stream",
       "stream": "stdout",
       "text": [
        "\n",
        "   614  |    0.011999  |  \u001b[32m  0.010880\u001b[0m  |     1.102851  |             |  4.4s"
       ]
      },
      {
       "output_type": "stream",
       "stream": "stdout",
       "text": [
        "\n",
        "   615  |    0.011904  |  \u001b[32m  0.010880\u001b[0m  |     1.094141  |             |  4.4s"
       ]
      },
      {
       "output_type": "stream",
       "stream": "stdout",
       "text": [
        "\n",
        "   616  |    0.012002  |  \u001b[32m  0.010845\u001b[0m  |     1.106663  |             |  4.4s"
       ]
      },
      {
       "output_type": "stream",
       "stream": "stdout",
       "text": [
        "\n",
        "   617  |    0.011992  |    0.010877  |     1.102469  |             |  4.4s"
       ]
      },
      {
       "output_type": "stream",
       "stream": "stdout",
       "text": [
        "\n",
        "   618  |    0.011922  |    0.010877  |     1.096069  |             |  4.4s"
       ]
      },
      {
       "output_type": "stream",
       "stream": "stdout",
       "text": [
        "\n",
        "   619  |    0.011953  |  \u001b[32m  0.010806\u001b[0m  |     1.106213  |             |  4.4s"
       ]
      },
      {
       "output_type": "stream",
       "stream": "stdout",
       "text": [
        "\n",
        "   620  |  \u001b[94m  0.011864\u001b[0m  |    0.010827  |     1.095814  |             |  4.4s"
       ]
      },
      {
       "output_type": "stream",
       "stream": "stdout",
       "text": [
        "\n",
        "   621  |    0.011962  |    0.010834  |     1.104073  |             |  4.4s"
       ]
      },
      {
       "output_type": "stream",
       "stream": "stdout",
       "text": [
        "\n",
        "   622  |    0.011880  |  \u001b[32m  0.010803\u001b[0m  |     1.099652  |             |  4.4s"
       ]
      },
      {
       "output_type": "stream",
       "stream": "stdout",
       "text": [
        "\n",
        "   623  |    0.011881  |    0.010832  |     1.096866  |             |  4.4s"
       ]
      },
      {
       "output_type": "stream",
       "stream": "stdout",
       "text": [
        "\n",
        "   624  |  \u001b[94m  0.011861\u001b[0m  |  \u001b[32m  0.010787\u001b[0m  |     1.099563  |             |  4.4s"
       ]
      },
      {
       "output_type": "stream",
       "stream": "stdout",
       "text": [
        "\n",
        "   625  |    0.011865  |    0.010816  |     1.096930  |             |  4.4s"
       ]
      },
      {
       "output_type": "stream",
       "stream": "stdout",
       "text": [
        "\n",
        "   626  |    0.011877  |  \u001b[32m  0.010782\u001b[0m  |     1.101605  |             |  4.4s"
       ]
      },
      {
       "output_type": "stream",
       "stream": "stdout",
       "text": [
        "\n",
        "   627  |    0.011886  |  \u001b[32m  0.010781\u001b[0m  |     1.102576  |             |  4.4s"
       ]
      },
      {
       "output_type": "stream",
       "stream": "stdout",
       "text": [
        "\n",
        "   628  |  \u001b[94m  0.011859\u001b[0m  |    0.010803  |     1.097694  |             |  4.4s"
       ]
      },
      {
       "output_type": "stream",
       "stream": "stdout",
       "text": [
        "\n",
        "   629  |  \u001b[94m  0.011812\u001b[0m  |  \u001b[32m  0.010756\u001b[0m  |     1.098106  |             |  4.4s"
       ]
      },
      {
       "output_type": "stream",
       "stream": "stdout",
       "text": [
        "\n",
        "   630  |  \u001b[94m  0.011796\u001b[0m  |    0.010783  |     1.093923  |             |  4.4s"
       ]
      },
      {
       "output_type": "stream",
       "stream": "stdout",
       "text": [
        "\n",
        "   631  |  \u001b[94m  0.011788\u001b[0m  |  \u001b[32m  0.010728\u001b[0m  |     1.098872  |             |  4.4s"
       ]
      },
      {
       "output_type": "stream",
       "stream": "stdout",
       "text": [
        "\n",
        "   632  |  \u001b[94m  0.011782\u001b[0m  |    0.010736  |     1.097417  |             |  4.4s"
       ]
      },
      {
       "output_type": "stream",
       "stream": "stdout",
       "text": [
        "\n",
        "   633  |  \u001b[94m  0.011774\u001b[0m  |  \u001b[32m  0.010713\u001b[0m  |     1.099131  |             |  4.4s"
       ]
      },
      {
       "output_type": "stream",
       "stream": "stdout",
       "text": [
        "\n",
        "   634  |    0.011790  |    0.010754  |     1.096374  |             |  4.4s"
       ]
      },
      {
       "output_type": "stream",
       "stream": "stdout",
       "text": [
        "\n",
        "   635  |  \u001b[94m  0.011759\u001b[0m  |  \u001b[32m  0.010708\u001b[0m  |     1.098175  |             |  4.4s"
       ]
      },
      {
       "output_type": "stream",
       "stream": "stdout",
       "text": [
        "\n",
        "   636  |    0.011824  |    0.010737  |     1.101219  |             |  4.4s"
       ]
      },
      {
       "output_type": "stream",
       "stream": "stdout",
       "text": [
        "\n",
        "   637  |  \u001b[94m  0.011712\u001b[0m  |    0.010743  |     1.090225  |             |  4.4s"
       ]
      },
      {
       "output_type": "stream",
       "stream": "stdout",
       "text": [
        "\n",
        "   638  |    0.011763  |  \u001b[32m  0.010705\u001b[0m  |     1.098824  |             |  4.4s"
       ]
      },
      {
       "output_type": "stream",
       "stream": "stdout",
       "text": [
        "\n",
        "   639  |    0.011752  |    0.010714  |     1.096814  |             |  4.4s"
       ]
      },
      {
       "output_type": "stream",
       "stream": "stdout",
       "text": [
        "\n",
        "   640  |    0.011803  |    0.010718  |     1.101255  |             |  4.4s"
       ]
      },
      {
       "output_type": "stream",
       "stream": "stdout",
       "text": [
        "\n",
        "   641  |    0.011805  |  \u001b[32m  0.010677\u001b[0m  |     1.105646  |             |  4.4s"
       ]
      },
      {
       "output_type": "stream",
       "stream": "stdout",
       "text": [
        "\n",
        "   642  |  \u001b[94m  0.011704\u001b[0m  |    0.010751  |     1.088630  |             |  4.4s"
       ]
      },
      {
       "output_type": "stream",
       "stream": "stdout",
       "text": [
        "\n",
        "   643  |    0.011759  |  \u001b[32m  0.010675\u001b[0m  |     1.101552  |             |  4.4s"
       ]
      },
      {
       "output_type": "stream",
       "stream": "stdout",
       "text": [
        "\n",
        "   644  |  \u001b[94m  0.011688\u001b[0m  |    0.010707  |     1.091667  |             |  4.4s"
       ]
      },
      {
       "output_type": "stream",
       "stream": "stdout",
       "text": [
        "\n",
        "   645  |    0.011715  |  \u001b[32m  0.010657\u001b[0m  |     1.099282  |             |  4.4s"
       ]
      },
      {
       "output_type": "stream",
       "stream": "stdout",
       "text": [
        "\n",
        "   646  |    0.011736  |    0.010678  |     1.099133  |             |  4.4s"
       ]
      },
      {
       "output_type": "stream",
       "stream": "stdout",
       "text": [
        "\n",
        "   647  |    0.011695  |  \u001b[32m  0.010641\u001b[0m  |     1.099037  |             |  4.4s"
       ]
      },
      {
       "output_type": "stream",
       "stream": "stdout",
       "text": [
        "\n",
        "   648  |  \u001b[94m  0.011661\u001b[0m  |    0.010692  |     1.090657  |             |  4.4s"
       ]
      },
      {
       "output_type": "stream",
       "stream": "stdout",
       "text": [
        "\n",
        "   649  |  \u001b[94m  0.011657\u001b[0m  |  \u001b[32m  0.010621\u001b[0m  |     1.097504  |             |  4.4s"
       ]
      },
      {
       "output_type": "stream",
       "stream": "stdout",
       "text": [
        "\n",
        "   650  |    0.011667  |  \u001b[32m  0.010616\u001b[0m  |     1.099059  |             |  4.4s"
       ]
      },
      {
       "output_type": "stream",
       "stream": "stdout",
       "text": [
        "\n",
        "   651  |  \u001b[94m  0.011583\u001b[0m  |    0.010619  |     1.090836  |             |  4.4s"
       ]
      },
      {
       "output_type": "stream",
       "stream": "stdout",
       "text": [
        "\n",
        "   652  |  \u001b[94m  0.011574\u001b[0m  |    0.010658  |     1.085967  |             |  4.4s"
       ]
      },
      {
       "output_type": "stream",
       "stream": "stdout",
       "text": [
        "\n",
        "   653  |    0.011680  |    0.010622  |     1.099612  |             |  4.4s"
       ]
      },
      {
       "output_type": "stream",
       "stream": "stdout",
       "text": [
        "\n",
        "   654  |    0.011613  |    0.010639  |     1.091622  |             |  4.4s"
       ]
      },
      {
       "output_type": "stream",
       "stream": "stdout",
       "text": [
        "\n",
        "   655  |    0.011652  |  \u001b[32m  0.010599\u001b[0m  |     1.099405  |             |  4.4s"
       ]
      },
      {
       "output_type": "stream",
       "stream": "stdout",
       "text": [
        "\n",
        "   656  |  \u001b[94m  0.011561\u001b[0m  |  \u001b[32m  0.010587\u001b[0m  |     1.091924  |             |  4.4s"
       ]
      },
      {
       "output_type": "stream",
       "stream": "stdout",
       "text": [
        "\n",
        "   657  |    0.011565  |    0.010589  |     1.092221  |             |  4.4s"
       ]
      },
      {
       "output_type": "stream",
       "stream": "stdout",
       "text": [
        "\n",
        "   658  |    0.011644  |    0.010604  |     1.098107  |             |  4.4s"
       ]
      },
      {
       "output_type": "stream",
       "stream": "stdout",
       "text": [
        "\n",
        "   659  |  \u001b[94m  0.011541\u001b[0m  |  \u001b[32m  0.010547\u001b[0m  |     1.094259  |             |  4.4s"
       ]
      },
      {
       "output_type": "stream",
       "stream": "stdout",
       "text": [
        "\n",
        "   660  |    0.011557  |    0.010576  |     1.092783  |             |  4.4s"
       ]
      },
      {
       "output_type": "stream",
       "stream": "stdout",
       "text": [
        "\n",
        "   661  |    0.011547  |  \u001b[32m  0.010518\u001b[0m  |     1.097803  |             |  4.4s"
       ]
      },
      {
       "output_type": "stream",
       "stream": "stdout",
       "text": [
        "\n",
        "   662  |    0.011575  |    0.010572  |     1.094873  |             |  4.4s"
       ]
      },
      {
       "output_type": "stream",
       "stream": "stdout",
       "text": [
        "\n",
        "   663  |    0.011616  |    0.010569  |     1.099090  |             |  4.4s"
       ]
      },
      {
       "output_type": "stream",
       "stream": "stdout",
       "text": [
        "\n",
        "   664  |    0.011609  |    0.010581  |     1.097093  |             |  4.4s"
       ]
      },
      {
       "output_type": "stream",
       "stream": "stdout",
       "text": [
        "\n",
        "   665  |  \u001b[94m  0.011529\u001b[0m  |    0.010543  |     1.093511  |             |  4.4s"
       ]
      },
      {
       "output_type": "stream",
       "stream": "stdout",
       "text": [
        "\n",
        "   666  |  \u001b[94m  0.011518\u001b[0m  |    0.010535  |     1.093271  |             |  4.4s"
       ]
      },
      {
       "output_type": "stream",
       "stream": "stdout",
       "text": [
        "\n",
        "   667  |    0.011523  |    0.010547  |     1.092522  |             |  4.4s"
       ]
      },
      {
       "output_type": "stream",
       "stream": "stdout",
       "text": [
        "\n",
        "   668  |    0.011543  |  \u001b[32m  0.010488\u001b[0m  |     1.100524  |             |  4.4s"
       ]
      },
      {
       "output_type": "stream",
       "stream": "stdout",
       "text": [
        "\n",
        "   669  |  \u001b[94m  0.011488\u001b[0m  |    0.010513  |     1.092753  |             |  4.4s"
       ]
      },
      {
       "output_type": "stream",
       "stream": "stdout",
       "text": [
        "\n",
        "   670  |  \u001b[94m  0.011401\u001b[0m  |    0.010519  |     1.083783  |             |  4.4s"
       ]
      },
      {
       "output_type": "stream",
       "stream": "stdout",
       "text": [
        "\n",
        "   671  |    0.011471  |    0.010537  |     1.088650  |             |  4.4s"
       ]
      },
      {
       "output_type": "stream",
       "stream": "stdout",
       "text": [
        "\n",
        "   672  |    0.011408  |    0.010495  |     1.087054  |             |  4.4s"
       ]
      },
      {
       "output_type": "stream",
       "stream": "stdout",
       "text": [
        "\n",
        "   673  |    0.011477  |  \u001b[32m  0.010462\u001b[0m  |     1.097034  |             |  4.4s"
       ]
      },
      {
       "output_type": "stream",
       "stream": "stdout",
       "text": [
        "\n",
        "   674  |    0.011417  |    0.010484  |     1.089045  |             |  4.4s"
       ]
      },
      {
       "output_type": "stream",
       "stream": "stdout",
       "text": [
        "\n",
        "   675  |    0.011409  |  \u001b[32m  0.010435\u001b[0m  |     1.093390  |             |  4.4s"
       ]
      },
      {
       "output_type": "stream",
       "stream": "stdout",
       "text": [
        "\n",
        "   676  |    0.011401  |    0.010463  |     1.089730  |             |  4.4s"
       ]
      },
      {
       "output_type": "stream",
       "stream": "stdout",
       "text": [
        "\n",
        "   677  |    0.011420  |    0.010501  |     1.087488  |             |  4.4s"
       ]
      },
      {
       "output_type": "stream",
       "stream": "stdout",
       "text": [
        "\n",
        "   678  |  \u001b[94m  0.011395\u001b[0m  |    0.010466  |     1.088803  |             |  4.4s"
       ]
      },
      {
       "output_type": "stream",
       "stream": "stdout",
       "text": [
        "\n",
        "   679  |  \u001b[94m  0.011350\u001b[0m  |    0.010444  |     1.086709  |             |  4.4s"
       ]
      },
      {
       "output_type": "stream",
       "stream": "stdout",
       "text": [
        "\n",
        "   680  |    0.011489  |    0.010461  |     1.098221  |             |  4.4s"
       ]
      },
      {
       "output_type": "stream",
       "stream": "stdout",
       "text": [
        "\n",
        "   681  |    0.011391  |  \u001b[32m  0.010435\u001b[0m  |     1.091673  |             |  4.4s"
       ]
      },
      {
       "output_type": "stream",
       "stream": "stdout",
       "text": [
        "\n",
        "   682  |    0.011482  |  \u001b[32m  0.010415\u001b[0m  |     1.102436  |             |  4.4s"
       ]
      },
      {
       "output_type": "stream",
       "stream": "stdout",
       "text": [
        "\n",
        "   683  |    0.011406  |  \u001b[32m  0.010406\u001b[0m  |     1.096097  |             |  4.4s"
       ]
      },
      {
       "output_type": "stream",
       "stream": "stdout",
       "text": [
        "\n",
        "   684  |    0.011395  |    0.010458  |     1.089543  |             |  4.4s"
       ]
      },
      {
       "output_type": "stream",
       "stream": "stdout",
       "text": [
        "\n",
        "   685  |  \u001b[94m  0.011264\u001b[0m  |    0.010418  |     1.081182  |             |  4.4s"
       ]
      },
      {
       "output_type": "stream",
       "stream": "stdout",
       "text": [
        "\n",
        "   686  |    0.011293  |  \u001b[32m  0.010392\u001b[0m  |     1.086652  |             |  4.4s"
       ]
      },
      {
       "output_type": "stream",
       "stream": "stdout",
       "text": [
        "\n",
        "   687  |    0.011330  |  \u001b[32m  0.010391\u001b[0m  |     1.090401  |             |  4.4s"
       ]
      },
      {
       "output_type": "stream",
       "stream": "stdout",
       "text": [
        "\n",
        "   688  |    0.011342  |  \u001b[32m  0.010383\u001b[0m  |     1.092351  |             |  4.4s"
       ]
      },
      {
       "output_type": "stream",
       "stream": "stdout",
       "text": [
        "\n",
        "   689  |    0.011364  |    0.010438  |     1.088747  |             |  4.4s"
       ]
      },
      {
       "output_type": "stream",
       "stream": "stdout",
       "text": [
        "\n",
        "   690  |    0.011277  |    0.010392  |     1.085163  |             |  4.4s"
       ]
      },
      {
       "output_type": "stream",
       "stream": "stdout",
       "text": [
        "\n",
        "   691  |    0.011298  |    0.010408  |     1.085567  |             |  4.4s"
       ]
      },
      {
       "output_type": "stream",
       "stream": "stdout",
       "text": [
        "\n",
        "   692  |    0.011288  |  \u001b[32m  0.010368\u001b[0m  |     1.088771  |             |  4.4s"
       ]
      },
      {
       "output_type": "stream",
       "stream": "stdout",
       "text": [
        "\n",
        "   693  |    0.011270  |  \u001b[32m  0.010338\u001b[0m  |     1.090101  |             |  4.4s"
       ]
      },
      {
       "output_type": "stream",
       "stream": "stdout",
       "text": [
        "\n",
        "   694  |    0.011339  |    0.010384  |     1.091913  |             |  4.4s"
       ]
      },
      {
       "output_type": "stream",
       "stream": "stdout",
       "text": [
        "\n",
        "   695  |    0.011266  |    0.010356  |     1.087800  |             |  4.4s"
       ]
      },
      {
       "output_type": "stream",
       "stream": "stdout",
       "text": [
        "\n",
        "   696  |  \u001b[94m  0.011246\u001b[0m  |  \u001b[32m  0.010333\u001b[0m  |     1.088361  |             |  4.4s"
       ]
      },
      {
       "output_type": "stream",
       "stream": "stdout",
       "text": [
        "\n",
        "   697  |  \u001b[94m  0.011223\u001b[0m  |  \u001b[32m  0.010328\u001b[0m  |     1.086721  |             |  4.4s"
       ]
      },
      {
       "output_type": "stream",
       "stream": "stdout",
       "text": [
        "\n",
        "   698  |    0.011325  |    0.010427  |     1.086101  |             |  4.4s"
       ]
      },
      {
       "output_type": "stream",
       "stream": "stdout",
       "text": [
        "\n",
        "   699  |    0.011246  |  \u001b[32m  0.010296\u001b[0m  |     1.092197  |             |  4.4s"
       ]
      },
      {
       "output_type": "stream",
       "stream": "stdout",
       "text": [
        "\n",
        "   700  |    0.011233  |    0.010324  |     1.087995  |             |  4.4s"
       ]
      },
      {
       "output_type": "stream",
       "stream": "stdout",
       "text": [
        "\n",
        "   701  |    0.011233  |    0.010330  |     1.087409  |             |  4.4s"
       ]
      },
      {
       "output_type": "stream",
       "stream": "stdout",
       "text": [
        "\n",
        "   702  |    0.011228  |    0.010318  |     1.088228  |             |  4.4s"
       ]
      },
      {
       "output_type": "stream",
       "stream": "stdout",
       "text": [
        "\n",
        "   703  |    0.011235  |    0.010307  |     1.090059  |             |  4.4s"
       ]
      },
      {
       "output_type": "stream",
       "stream": "stdout",
       "text": [
        "\n",
        "   704  |    0.011248  |  \u001b[32m  0.010293\u001b[0m  |     1.092791  |             |  4.4s"
       ]
      },
      {
       "output_type": "stream",
       "stream": "stdout",
       "text": [
        "\n",
        "   705  |  \u001b[94m  0.011128\u001b[0m  |    0.010309  |     1.079541  |             |  4.4s"
       ]
      },
      {
       "output_type": "stream",
       "stream": "stdout",
       "text": [
        "\n",
        "   706  |  \u001b[94m  0.011118\u001b[0m  |    0.010313  |     1.078031  |             |  4.4s"
       ]
      },
      {
       "output_type": "stream",
       "stream": "stdout",
       "text": [
        "\n",
        "   707  |  \u001b[94m  0.011110\u001b[0m  |  \u001b[32m  0.010277\u001b[0m  |     1.081040  |             |  4.4s"
       ]
      },
      {
       "output_type": "stream",
       "stream": "stdout",
       "text": [
        "\n",
        "   708  |    0.011202  |  \u001b[32m  0.010233\u001b[0m  |     1.094704  |             |  4.4s"
       ]
      },
      {
       "output_type": "stream",
       "stream": "stdout",
       "text": [
        "\n",
        "   709  |    0.011121  |    0.010317  |     1.077944  |             |  4.4s"
       ]
      },
      {
       "output_type": "stream",
       "stream": "stdout",
       "text": [
        "\n",
        "   710  |    0.011178  |    0.010274  |     1.087926  |             |  4.4s"
       ]
      },
      {
       "output_type": "stream",
       "stream": "stdout",
       "text": [
        "\n",
        "   711  |  \u001b[94m  0.011107\u001b[0m  |    0.010287  |     1.079742  |             |  4.4s"
       ]
      },
      {
       "output_type": "stream",
       "stream": "stdout",
       "text": [
        "\n",
        "   712  |    0.011156  |    0.010275  |     1.085749  |             |  4.4s"
       ]
      },
      {
       "output_type": "stream",
       "stream": "stdout",
       "text": [
        "\n",
        "   713  |    0.011117  |    0.010280  |     1.081417  |             |  4.4s"
       ]
      },
      {
       "output_type": "stream",
       "stream": "stdout",
       "text": [
        "\n",
        "   714  |    0.011127  |    0.010246  |     1.085987  |             |  4.4s"
       ]
      },
      {
       "output_type": "stream",
       "stream": "stdout",
       "text": [
        "\n",
        "   715  |  \u001b[94m  0.011061\u001b[0m  |    0.010262  |     1.077915  |             |  4.4s"
       ]
      },
      {
       "output_type": "stream",
       "stream": "stdout",
       "text": [
        "\n",
        "   716  |    0.011178  |    0.010266  |     1.088822  |             |  4.4s"
       ]
      },
      {
       "output_type": "stream",
       "stream": "stdout",
       "text": [
        "\n",
        "   717  |    0.011187  |    0.010263  |     1.089981  |             |  4.4s"
       ]
      },
      {
       "output_type": "stream",
       "stream": "stdout",
       "text": [
        "\n",
        "   718  |  \u001b[94m  0.011060\u001b[0m  |  \u001b[32m  0.010215\u001b[0m  |     1.082725  |             |  4.4s"
       ]
      },
      {
       "output_type": "stream",
       "stream": "stdout",
       "text": [
        "\n",
        "   719  |    0.011109  |    0.010215  |     1.087486  |             |  4.4s"
       ]
      },
      {
       "output_type": "stream",
       "stream": "stdout",
       "text": [
        "\n",
        "   720  |    0.011120  |  \u001b[32m  0.010176\u001b[0m  |     1.092719  |             |  4.4s"
       ]
      },
      {
       "output_type": "stream",
       "stream": "stdout",
       "text": [
        "\n",
        "   721  |  \u001b[94m  0.011008\u001b[0m  |    0.010196  |     1.079685  |             |  4.4s"
       ]
      },
      {
       "output_type": "stream",
       "stream": "stdout",
       "text": [
        "\n",
        "   722  |  \u001b[94m  0.011000\u001b[0m  |  \u001b[32m  0.010148\u001b[0m  |     1.084018  |             |  4.4s"
       ]
      },
      {
       "output_type": "stream",
       "stream": "stdout",
       "text": [
        "\n",
        "   723  |    0.011100  |    0.010212  |     1.086964  |             |  4.4s"
       ]
      },
      {
       "output_type": "stream",
       "stream": "stdout",
       "text": [
        "\n",
        "   724  |    0.011065  |    0.010186  |     1.086370  |             |  4.4s"
       ]
      },
      {
       "output_type": "stream",
       "stream": "stdout",
       "text": [
        "\n",
        "   725  |  \u001b[94m  0.010998\u001b[0m  |    0.010178  |     1.080568  |             |  4.4s"
       ]
      },
      {
       "output_type": "stream",
       "stream": "stdout",
       "text": [
        "\n",
        "   726  |  \u001b[94m  0.010990\u001b[0m  |    0.010149  |     1.082876  |             |  4.4s"
       ]
      },
      {
       "output_type": "stream",
       "stream": "stdout",
       "text": [
        "\n",
        "   727  |    0.011116  |  \u001b[32m  0.010142\u001b[0m  |     1.095976  |             |  4.4s"
       ]
      },
      {
       "output_type": "stream",
       "stream": "stdout",
       "text": [
        "\n",
        "   728  |    0.011038  |    0.010150  |     1.087407  |             |  4.4s"
       ]
      },
      {
       "output_type": "stream",
       "stream": "stdout",
       "text": [
        "\n",
        "   729  |  \u001b[94m  0.010990\u001b[0m  |    0.010182  |     1.079353  |             |  4.4s"
       ]
      },
      {
       "output_type": "stream",
       "stream": "stdout",
       "text": [
        "\n",
        "   730  |    0.011020  |  \u001b[32m  0.010142\u001b[0m  |     1.086521  |             |  4.4s"
       ]
      },
      {
       "output_type": "stream",
       "stream": "stdout",
       "text": [
        "\n",
        "   731  |  \u001b[94m  0.010919\u001b[0m  |  \u001b[32m  0.010142\u001b[0m  |     1.076684  |             |  4.4s"
       ]
      },
      {
       "output_type": "stream",
       "stream": "stdout",
       "text": [
        "\n",
        "   732  |    0.011033  |  \u001b[32m  0.010128\u001b[0m  |     1.089367  |             |  4.4s"
       ]
      },
      {
       "output_type": "stream",
       "stream": "stdout",
       "text": [
        "\n",
        "   733  |    0.010963  |  \u001b[32m  0.010085\u001b[0m  |     1.086977  |             |  4.4s"
       ]
      },
      {
       "output_type": "stream",
       "stream": "stdout",
       "text": [
        "\n",
        "   734  |    0.010941  |    0.010117  |     1.081455  |             |  4.4s"
       ]
      },
      {
       "output_type": "stream",
       "stream": "stdout",
       "text": [
        "\n",
        "   735  |  \u001b[94m  0.010874\u001b[0m  |    0.010131  |     1.073370  |             |  4.4s"
       ]
      },
      {
       "output_type": "stream",
       "stream": "stdout",
       "text": [
        "\n",
        "   736  |    0.010937  |    0.010102  |     1.082619  |             |  4.4s"
       ]
      },
      {
       "output_type": "stream",
       "stream": "stdout",
       "text": [
        "\n",
        "   737  |    0.010961  |    0.010125  |     1.082548  |             |  4.4s"
       ]
      },
      {
       "output_type": "stream",
       "stream": "stdout",
       "text": [
        "\n",
        "   738  |    0.010912  |    0.010112  |     1.079106  |             |  4.4s"
       ]
      },
      {
       "output_type": "stream",
       "stream": "stdout",
       "text": [
        "\n",
        "   739  |  \u001b[94m  0.010815\u001b[0m  |    0.010139  |     1.066717  |             |  4.4s"
       ]
      },
      {
       "output_type": "stream",
       "stream": "stdout",
       "text": [
        "\n",
        "   740  |    0.010897  |    0.010114  |     1.077443  |             |  4.4s"
       ]
      },
      {
       "output_type": "stream",
       "stream": "stdout",
       "text": [
        "\n",
        "   741  |    0.010893  |  \u001b[32m  0.010073\u001b[0m  |     1.081504  |             |  4.4s"
       ]
      },
      {
       "output_type": "stream",
       "stream": "stdout",
       "text": [
        "\n",
        "   742  |    0.010846  |  \u001b[32m  0.010050\u001b[0m  |     1.079184  |             |  4.4s"
       ]
      },
      {
       "output_type": "stream",
       "stream": "stdout",
       "text": [
        "\n",
        "   743  |  \u001b[94m  0.010808\u001b[0m  |    0.010086  |     1.071633  |             |  4.4s"
       ]
      },
      {
       "output_type": "stream",
       "stream": "stdout",
       "text": [
        "\n",
        "   744  |    0.010909  |    0.010053  |     1.085100  |             |  4.4s"
       ]
      },
      {
       "output_type": "stream",
       "stream": "stdout",
       "text": [
        "\n",
        "   745  |    0.010842  |  \u001b[32m  0.010015\u001b[0m  |     1.082520  |             |  4.4s"
       ]
      },
      {
       "output_type": "stream",
       "stream": "stdout",
       "text": [
        "\n",
        "   746  |    0.010870  |    0.010043  |     1.082340  |             |  4.4s"
       ]
      },
      {
       "output_type": "stream",
       "stream": "stdout",
       "text": [
        "\n",
        "   747  |  \u001b[94m  0.010800\u001b[0m  |    0.010076  |     1.071850  |             |  4.4s"
       ]
      },
      {
       "output_type": "stream",
       "stream": "stdout",
       "text": [
        "\n",
        "   748  |  \u001b[94m  0.010763\u001b[0m  |    0.010053  |     1.070572  |             |  4.4s"
       ]
      },
      {
       "output_type": "stream",
       "stream": "stdout",
       "text": [
        "\n",
        "   749  |    0.010797  |    0.010061  |     1.073125  |             |  4.4s"
       ]
      },
      {
       "output_type": "stream",
       "stream": "stdout",
       "text": [
        "\n",
        "   750  |    0.010808  |    0.010022  |     1.078427  |             |  4.4s"
       ]
      },
      {
       "output_type": "stream",
       "stream": "stdout",
       "text": [
        "\n",
        "   751  |  \u001b[94m  0.010739\u001b[0m  |    0.010048  |     1.068696  |             |  4.4s"
       ]
      },
      {
       "output_type": "stream",
       "stream": "stdout",
       "text": [
        "\n",
        "   752  |    0.010782  |  \u001b[32m  0.010005\u001b[0m  |     1.077715  |             |  4.4s"
       ]
      },
      {
       "output_type": "stream",
       "stream": "stdout",
       "text": [
        "\n",
        "   753  |    0.010845  |    0.010019  |     1.082496  |             |  4.4s"
       ]
      },
      {
       "output_type": "stream",
       "stream": "stdout",
       "text": [
        "\n",
        "   754  |    0.010839  |    0.010053  |     1.078229  |             |  4.4s"
       ]
      },
      {
       "output_type": "stream",
       "stream": "stdout",
       "text": [
        "\n",
        "   755  |    0.010834  |    0.010014  |     1.081853  |             |  4.4s"
       ]
      },
      {
       "output_type": "stream",
       "stream": "stdout",
       "text": [
        "\n",
        "   756  |    0.010820  |    0.010008  |     1.081079  |             |  4.4s"
       ]
      },
      {
       "output_type": "stream",
       "stream": "stdout",
       "text": [
        "\n",
        "   757  |    0.010798  |    0.010041  |     1.075351  |             |  4.4s"
       ]
      },
      {
       "output_type": "stream",
       "stream": "stdout",
       "text": [
        "\n",
        "   758  |    0.010755  |  \u001b[32m  0.009990\u001b[0m  |     1.076536  |             |  4.4s"
       ]
      },
      {
       "output_type": "stream",
       "stream": "stdout",
       "text": [
        "\n",
        "   759  |    0.010773  |  \u001b[32m  0.009957\u001b[0m  |     1.081997  |             |  4.4s"
       ]
      },
      {
       "output_type": "stream",
       "stream": "stdout",
       "text": [
        "\n",
        "   760  |  \u001b[94m  0.010728\u001b[0m  |    0.009982  |     1.074680  |             |  4.4s"
       ]
      },
      {
       "output_type": "stream",
       "stream": "stdout",
       "text": [
        "\n",
        "   761  |    0.010775  |    0.009979  |     1.079772  |             |  4.4s"
       ]
      },
      {
       "output_type": "stream",
       "stream": "stdout",
       "text": [
        "\n",
        "   762  |    0.010774  |    0.009973  |     1.080249  |             |  4.4s"
       ]
      },
      {
       "output_type": "stream",
       "stream": "stdout",
       "text": [
        "\n",
        "   763  |  \u001b[94m  0.010721\u001b[0m  |  \u001b[32m  0.009954\u001b[0m  |     1.076973  |             |  4.4s"
       ]
      },
      {
       "output_type": "stream",
       "stream": "stdout",
       "text": [
        "\n",
        "   764  |  \u001b[94m  0.010677\u001b[0m  |  \u001b[32m  0.009923\u001b[0m  |     1.075997  |             |  4.4s"
       ]
      },
      {
       "output_type": "stream",
       "stream": "stdout",
       "text": [
        "\n",
        "   765  |    0.010786  |    0.009977  |     1.081115  |             |  4.4s"
       ]
      },
      {
       "output_type": "stream",
       "stream": "stdout",
       "text": [
        "\n",
        "   766  |    0.010713  |    0.009960  |     1.075636  |             |  4.4s"
       ]
      },
      {
       "output_type": "stream",
       "stream": "stdout",
       "text": [
        "\n",
        "   767  |    0.010750  |    0.009976  |     1.077621  |             |  4.4s"
       ]
      },
      {
       "output_type": "stream",
       "stream": "stdout",
       "text": [
        "\n",
        "   768  |    0.010717  |    0.009975  |     1.074454  |             |  4.4s"
       ]
      },
      {
       "output_type": "stream",
       "stream": "stdout",
       "text": [
        "\n",
        "   769  |  \u001b[94m  0.010664\u001b[0m  |    0.009930  |     1.073979  |             |  4.4s"
       ]
      },
      {
       "output_type": "stream",
       "stream": "stdout",
       "text": [
        "\n",
        "   770  |  \u001b[94m  0.010659\u001b[0m  |  \u001b[32m  0.009906\u001b[0m  |     1.076007  |             |  4.4s"
       ]
      },
      {
       "output_type": "stream",
       "stream": "stdout",
       "text": [
        "\n",
        "   771  |    0.010675  |  \u001b[32m  0.009903\u001b[0m  |     1.077960  |             |  4.4s"
       ]
      },
      {
       "output_type": "stream",
       "stream": "stdout",
       "text": [
        "\n",
        "   772  |  \u001b[94m  0.010636\u001b[0m  |    0.009931  |     1.070917  |             |  4.4s"
       ]
      },
      {
       "output_type": "stream",
       "stream": "stdout",
       "text": [
        "\n",
        "   773  |    0.010672  |  \u001b[32m  0.009884\u001b[0m  |     1.079738  |             |  4.4s"
       ]
      },
      {
       "output_type": "stream",
       "stream": "stdout",
       "text": [
        "\n",
        "   774  |  \u001b[94m  0.010578\u001b[0m  |    0.009891  |     1.069389  |             |  4.4s"
       ]
      },
      {
       "output_type": "stream",
       "stream": "stdout",
       "text": [
        "\n",
        "   775  |    0.010628  |    0.009918  |     1.071609  |             |  4.4s"
       ]
      },
      {
       "output_type": "stream",
       "stream": "stdout",
       "text": [
        "\n",
        "   776  |    0.010617  |    0.009902  |     1.072188  |             |  4.4s"
       ]
      },
      {
       "output_type": "stream",
       "stream": "stdout",
       "text": [
        "\n",
        "   777  |    0.010618  |  \u001b[32m  0.009867\u001b[0m  |     1.076024  |             |  4.4s"
       ]
      },
      {
       "output_type": "stream",
       "stream": "stdout",
       "text": [
        "\n",
        "   778  |  \u001b[94m  0.010547\u001b[0m  |  \u001b[32m  0.009854\u001b[0m  |     1.070429  |             |  4.4s"
       ]
      },
      {
       "output_type": "stream",
       "stream": "stdout",
       "text": [
        "\n",
        "   779  |  \u001b[94m  0.010526\u001b[0m  |    0.009862  |     1.067410  |             |  4.4s"
       ]
      },
      {
       "output_type": "stream",
       "stream": "stdout",
       "text": [
        "\n",
        "   780  |    0.010560  |    0.009875  |     1.069377  |             |  4.4s"
       ]
      },
      {
       "output_type": "stream",
       "stream": "stdout",
       "text": [
        "\n",
        "   781  |    0.010663  |  \u001b[32m  0.009831\u001b[0m  |     1.084612  |             |  4.4s"
       ]
      },
      {
       "output_type": "stream",
       "stream": "stdout",
       "text": [
        "\n",
        "   782  |  \u001b[94m  0.010445\u001b[0m  |    0.009866  |     1.058643  |             |  4.4s"
       ]
      },
      {
       "output_type": "stream",
       "stream": "stdout",
       "text": [
        "\n",
        "   783  |    0.010567  |    0.009842  |     1.073695  |             |  4.4s"
       ]
      },
      {
       "output_type": "stream",
       "stream": "stdout",
       "text": [
        "\n",
        "   784  |    0.010544  |  \u001b[32m  0.009826\u001b[0m  |     1.073105  |             |  4.4s"
       ]
      },
      {
       "output_type": "stream",
       "stream": "stdout",
       "text": [
        "\n",
        "   785  |    0.010500  |  \u001b[32m  0.009823\u001b[0m  |     1.068925  |             |  4.4s"
       ]
      },
      {
       "output_type": "stream",
       "stream": "stdout",
       "text": [
        "\n",
        "   786  |    0.010514  |    0.009858  |     1.066530  |             |  4.4s"
       ]
      },
      {
       "output_type": "stream",
       "stream": "stdout",
       "text": [
        "\n",
        "   787  |    0.010528  |    0.009834  |     1.070543  |             |  4.4s"
       ]
      },
      {
       "output_type": "stream",
       "stream": "stdout",
       "text": [
        "\n",
        "   788  |    0.010586  |    0.009833  |     1.076582  |             |  4.4s"
       ]
      },
      {
       "output_type": "stream",
       "stream": "stdout",
       "text": [
        "\n",
        "   789  |    0.010466  |  \u001b[32m  0.009814\u001b[0m  |     1.066396  |             |  4.4s"
       ]
      },
      {
       "output_type": "stream",
       "stream": "stdout",
       "text": [
        "\n",
        "   790  |  \u001b[94m  0.010430\u001b[0m  |    0.009822  |     1.061867  |             |  4.4s"
       ]
      },
      {
       "output_type": "stream",
       "stream": "stdout",
       "text": [
        "\n",
        "   791  |    0.010507  |  \u001b[32m  0.009801\u001b[0m  |     1.072109  |             |  4.4s"
       ]
      },
      {
       "output_type": "stream",
       "stream": "stdout",
       "text": [
        "\n",
        "   792  |    0.010469  |  \u001b[32m  0.009794\u001b[0m  |     1.068889  |             |  4.4s"
       ]
      },
      {
       "output_type": "stream",
       "stream": "stdout",
       "text": [
        "\n",
        "   793  |    0.010473  |    0.009800  |     1.068706  |             |  4.4s"
       ]
      },
      {
       "output_type": "stream",
       "stream": "stdout",
       "text": [
        "\n",
        "   794  |    0.010505  |    0.009801  |     1.071868  |             |  4.4s"
       ]
      },
      {
       "output_type": "stream",
       "stream": "stdout",
       "text": [
        "\n",
        "   795  |  \u001b[94m  0.010426\u001b[0m  |  \u001b[32m  0.009786\u001b[0m  |     1.065361  |             |  4.4s"
       ]
      },
      {
       "output_type": "stream",
       "stream": "stdout",
       "text": [
        "\n",
        "   796  |    0.010433  |    0.009795  |     1.065111  |             |  4.4s"
       ]
      },
      {
       "output_type": "stream",
       "stream": "stdout",
       "text": [
        "\n",
        "   797  |    0.010453  |    0.009812  |     1.065379  |             |  4.4s"
       ]
      },
      {
       "output_type": "stream",
       "stream": "stdout",
       "text": [
        "\n",
        "   798  |    0.010430  |    0.009798  |     1.064522  |             |  4.4s"
       ]
      },
      {
       "output_type": "stream",
       "stream": "stdout",
       "text": [
        "\n",
        "   799  |    0.010466  |  \u001b[32m  0.009780\u001b[0m  |     1.070075  |             |  4.4s"
       ]
      },
      {
       "output_type": "stream",
       "stream": "stdout",
       "text": [
        "\n",
        "   800  |    0.010489  |    0.009798  |     1.070533  |             |  4.4s"
       ]
      },
      {
       "output_type": "stream",
       "stream": "stdout",
       "text": [
        "\n",
        "   801  |    0.010430  |  \u001b[32m  0.009773\u001b[0m  |     1.067182  |             |  4.4s"
       ]
      },
      {
       "output_type": "stream",
       "stream": "stdout",
       "text": [
        "\n",
        "   802  |    0.010463  |  \u001b[32m  0.009766\u001b[0m  |     1.071320  |             |  4.4s"
       ]
      },
      {
       "output_type": "stream",
       "stream": "stdout",
       "text": [
        "\n",
        "   803  |  \u001b[94m  0.010352\u001b[0m  |  \u001b[32m  0.009752\u001b[0m  |     1.061586  |             |  4.4s"
       ]
      },
      {
       "output_type": "stream",
       "stream": "stdout",
       "text": [
        "\n",
        "   804  |    0.010392  |    0.009757  |     1.065106  |             |  4.4s"
       ]
      },
      {
       "output_type": "stream",
       "stream": "stdout",
       "text": [
        "\n",
        "   805  |    0.010391  |    0.009766  |     1.064080  |             |  4.4s"
       ]
      },
      {
       "output_type": "stream",
       "stream": "stdout",
       "text": [
        "\n",
        "   806  |    0.010410  |  \u001b[32m  0.009736\u001b[0m  |     1.069246  |             |  4.4s"
       ]
      },
      {
       "output_type": "stream",
       "stream": "stdout",
       "text": [
        "\n",
        "   807  |    0.010413  |  \u001b[32m  0.009697\u001b[0m  |     1.073828  |             |  4.4s"
       ]
      },
      {
       "output_type": "stream",
       "stream": "stdout",
       "text": [
        "\n",
        "   808  |    0.010437  |    0.009723  |     1.073387  |             |  4.4s"
       ]
      },
      {
       "output_type": "stream",
       "stream": "stdout",
       "text": [
        "\n",
        "   809  |  \u001b[94m  0.010347\u001b[0m  |  \u001b[32m  0.009694\u001b[0m  |     1.067385  |             |  4.4s"
       ]
      },
      {
       "output_type": "stream",
       "stream": "stdout",
       "text": [
        "\n",
        "   810  |    0.010397  |    0.009700  |     1.071815  |             |  4.4s"
       ]
      },
      {
       "output_type": "stream",
       "stream": "stdout",
       "text": [
        "\n",
        "   811  |  \u001b[94m  0.010268\u001b[0m  |    0.009700  |     1.058472  |             |  4.4s"
       ]
      },
      {
       "output_type": "stream",
       "stream": "stdout",
       "text": [
        "\n",
        "   812  |    0.010275  |    0.009737  |     1.055291  |             |  4.4s"
       ]
      },
      {
       "output_type": "stream",
       "stream": "stdout",
       "text": [
        "\n",
        "   813  |    0.010296  |    0.009701  |     1.061382  |             |  4.4s"
       ]
      },
      {
       "output_type": "stream",
       "stream": "stdout",
       "text": [
        "\n",
        "   814  |    0.010310  |  \u001b[32m  0.009686\u001b[0m  |     1.064481  |             |  4.4s"
       ]
      },
      {
       "output_type": "stream",
       "stream": "stdout",
       "text": [
        "\n",
        "   815  |    0.010355  |  \u001b[32m  0.009682\u001b[0m  |     1.069504  |             |  4.4s"
       ]
      },
      {
       "output_type": "stream",
       "stream": "stdout",
       "text": [
        "\n",
        "   816  |  \u001b[94m  0.010190\u001b[0m  |    0.009686  |     1.052065  |             |  4.4s"
       ]
      },
      {
       "output_type": "stream",
       "stream": "stdout",
       "text": [
        "\n",
        "   817  |    0.010331  |  \u001b[32m  0.009666\u001b[0m  |     1.068802  |             |  4.4s"
       ]
      },
      {
       "output_type": "stream",
       "stream": "stdout",
       "text": [
        "\n",
        "   818  |    0.010322  |  \u001b[32m  0.009624\u001b[0m  |     1.072524  |             |  4.4s"
       ]
      },
      {
       "output_type": "stream",
       "stream": "stdout",
       "text": [
        "\n",
        "   819  |  \u001b[94m  0.010163\u001b[0m  |    0.009670  |     1.050998  |             |  4.4s"
       ]
      },
      {
       "output_type": "stream",
       "stream": "stdout",
       "text": [
        "\n",
        "   820  |    0.010343  |    0.009653  |     1.071487  |             |  4.4s"
       ]
      },
      {
       "output_type": "stream",
       "stream": "stdout",
       "text": [
        "\n",
        "   821  |    0.010372  |    0.009699  |     1.069348  |             |  4.4s"
       ]
      },
      {
       "output_type": "stream",
       "stream": "stdout",
       "text": [
        "\n",
        "   822  |    0.010253  |    0.009667  |     1.060580  |             |  4.4s"
       ]
      },
      {
       "output_type": "stream",
       "stream": "stdout",
       "text": [
        "\n",
        "   823  |    0.010279  |    0.009656  |     1.064607  |             |  4.4s"
       ]
      },
      {
       "output_type": "stream",
       "stream": "stdout",
       "text": [
        "\n",
        "   824  |    0.010191  |    0.009649  |     1.056205  |             |  4.4s"
       ]
      },
      {
       "output_type": "stream",
       "stream": "stdout",
       "text": [
        "\n",
        "   825  |    0.010282  |  \u001b[32m  0.009623\u001b[0m  |     1.068404  |             |  4.4s"
       ]
      },
      {
       "output_type": "stream",
       "stream": "stdout",
       "text": [
        "\n",
        "   826  |    0.010235  |    0.009628  |     1.063078  |             |  4.4s"
       ]
      },
      {
       "output_type": "stream",
       "stream": "stdout",
       "text": [
        "\n",
        "   827  |    0.010179  |  \u001b[32m  0.009607\u001b[0m  |     1.059549  |             |  4.4s"
       ]
      },
      {
       "output_type": "stream",
       "stream": "stdout",
       "text": [
        "\n",
        "   828  |    0.010192  |    0.009642  |     1.057048  |             |  4.4s"
       ]
      },
      {
       "output_type": "stream",
       "stream": "stdout",
       "text": [
        "\n",
        "   829  |    0.010172  |    0.009658  |     1.053241  |             |  4.4s"
       ]
      },
      {
       "output_type": "stream",
       "stream": "stdout",
       "text": [
        "\n",
        "   830  |    0.010212  |  \u001b[32m  0.009577\u001b[0m  |     1.066293  |             |  4.4s"
       ]
      },
      {
       "output_type": "stream",
       "stream": "stdout",
       "text": [
        "\n",
        "   831  |    0.010253  |    0.009611  |     1.066825  |             |  4.4s"
       ]
      },
      {
       "output_type": "stream",
       "stream": "stdout",
       "text": [
        "\n",
        "   832  |    0.010216  |    0.009610  |     1.063068  |             |  4.4s"
       ]
      },
      {
       "output_type": "stream",
       "stream": "stdout",
       "text": [
        "\n",
        "   833  |    0.010208  |    0.009597  |     1.063637  |             |  4.4s"
       ]
      },
      {
       "output_type": "stream",
       "stream": "stdout",
       "text": [
        "\n",
        "   834  |    0.010215  |    0.009631  |     1.060632  |             |  4.4s"
       ]
      },
      {
       "output_type": "stream",
       "stream": "stdout",
       "text": [
        "\n",
        "   835  |  \u001b[94m  0.010145\u001b[0m  |    0.009580  |     1.058950  |             |  4.4s"
       ]
      },
      {
       "output_type": "stream",
       "stream": "stdout",
       "text": [
        "\n",
        "   836  |    0.010165  |  \u001b[32m  0.009564\u001b[0m  |     1.062838  |             |  4.4s"
       ]
      },
      {
       "output_type": "stream",
       "stream": "stdout",
       "text": [
        "\n",
        "   837  |  \u001b[94m  0.010040\u001b[0m  |    0.009576  |     1.048455  |             |  4.4s"
       ]
      },
      {
       "output_type": "stream",
       "stream": "stdout",
       "text": [
        "\n",
        "   838  |    0.010115  |    0.009609  |     1.052656  |             |  4.4s"
       ]
      },
      {
       "output_type": "stream",
       "stream": "stdout",
       "text": [
        "\n",
        "   839  |    0.010117  |  \u001b[32m  0.009549\u001b[0m  |     1.059491  |             |  4.4s"
       ]
      },
      {
       "output_type": "stream",
       "stream": "stdout",
       "text": [
        "\n",
        "   840  |    0.010208  |    0.009572  |     1.066365  |             |  4.4s"
       ]
      },
      {
       "output_type": "stream",
       "stream": "stdout",
       "text": [
        "\n",
        "   841  |    0.010161  |    0.009559  |     1.063006  |             |  4.4s"
       ]
      },
      {
       "output_type": "stream",
       "stream": "stdout",
       "text": [
        "\n",
        "   842  |  \u001b[94m  0.009971\u001b[0m  |  \u001b[32m  0.009544\u001b[0m  |     1.044691  |             |  4.4s"
       ]
      },
      {
       "output_type": "stream",
       "stream": "stdout",
       "text": [
        "\n",
        "   843  |    0.010110  |  \u001b[32m  0.009532\u001b[0m  |     1.060628  |             |  4.4s"
       ]
      },
      {
       "output_type": "stream",
       "stream": "stdout",
       "text": [
        "\n",
        "   844  |    0.010119  |    0.009559  |     1.058567  |             |  4.4s"
       ]
      },
      {
       "output_type": "stream",
       "stream": "stdout",
       "text": [
        "\n",
        "   845  |    0.010078  |  \u001b[32m  0.009521\u001b[0m  |     1.058499  |             |  4.4s"
       ]
      },
      {
       "output_type": "stream",
       "stream": "stdout",
       "text": [
        "\n",
        "   846  |    0.010090  |    0.009524  |     1.059390  |             |  4.4s"
       ]
      },
      {
       "output_type": "stream",
       "stream": "stdout",
       "text": [
        "\n",
        "   847  |    0.010075  |    0.009523  |     1.057901  |             |  4.4s"
       ]
      },
      {
       "output_type": "stream",
       "stream": "stdout",
       "text": [
        "\n",
        "   848  |    0.010020  |  \u001b[32m  0.009511\u001b[0m  |     1.053478  |             |  4.4s"
       ]
      },
      {
       "output_type": "stream",
       "stream": "stdout",
       "text": [
        "\n",
        "   849  |    0.010091  |    0.009535  |     1.058325  |             |  4.4s"
       ]
      },
      {
       "output_type": "stream",
       "stream": "stdout",
       "text": [
        "\n",
        "   850  |    0.010051  |  \u001b[32m  0.009495\u001b[0m  |     1.058576  |             |  4.4s"
       ]
      },
      {
       "output_type": "stream",
       "stream": "stdout",
       "text": [
        "\n",
        "   851  |    0.010069  |    0.009502  |     1.059667  |             |  4.4s"
       ]
      },
      {
       "output_type": "stream",
       "stream": "stdout",
       "text": [
        "\n",
        "   852  |    0.010015  |    0.009500  |     1.054252  |             |  4.4s"
       ]
      },
      {
       "output_type": "stream",
       "stream": "stdout",
       "text": [
        "\n",
        "   853  |    0.010050  |    0.009533  |     1.054269  |             |  4.4s"
       ]
      },
      {
       "output_type": "stream",
       "stream": "stdout",
       "text": [
        "\n",
        "   854  |    0.009975  |    0.009499  |     1.050097  |             |  4.4s"
       ]
      },
      {
       "output_type": "stream",
       "stream": "stdout",
       "text": [
        "\n",
        "   855  |    0.009973  |    0.009500  |     1.049716  |             |  4.4s"
       ]
      },
      {
       "output_type": "stream",
       "stream": "stdout",
       "text": [
        "\n",
        "   856  |    0.010060  |    0.009521  |     1.056539  |             |  4.4s"
       ]
      },
      {
       "output_type": "stream",
       "stream": "stdout",
       "text": [
        "\n",
        "   857  |    0.009992  |  \u001b[32m  0.009475\u001b[0m  |     1.054543  |             |  4.4s"
       ]
      },
      {
       "output_type": "stream",
       "stream": "stdout",
       "text": [
        "\n",
        "   858  |  \u001b[94m  0.009952\u001b[0m  |    0.009499  |     1.047693  |             |  4.4s"
       ]
      },
      {
       "output_type": "stream",
       "stream": "stdout",
       "text": [
        "\n",
        "   859  |    0.009954  |    0.009515  |     1.046198  |             |  4.4s"
       ]
      },
      {
       "output_type": "stream",
       "stream": "stdout",
       "text": [
        "\n",
        "   860  |    0.009981  |    0.009486  |     1.052176  |             |  4.4s"
       ]
      },
      {
       "output_type": "stream",
       "stream": "stdout",
       "text": [
        "\n",
        "   861  |    0.009962  |    0.009496  |     1.049063  |             |  4.4s"
       ]
      },
      {
       "output_type": "stream",
       "stream": "stdout",
       "text": [
        "\n",
        "   862  |  \u001b[94m  0.009947\u001b[0m  |    0.009482  |     1.049008  |             |  4.4s"
       ]
      },
      {
       "output_type": "stream",
       "stream": "stdout",
       "text": [
        "\n",
        "   863  |  \u001b[94m  0.009927\u001b[0m  |  \u001b[32m  0.009445\u001b[0m  |     1.050999  |             |  4.4s"
       ]
      },
      {
       "output_type": "stream",
       "stream": "stdout",
       "text": [
        "\n",
        "   864  |  \u001b[94m  0.009906\u001b[0m  |    0.009450  |     1.048240  |             |  4.4s"
       ]
      },
      {
       "output_type": "stream",
       "stream": "stdout",
       "text": [
        "\n",
        "   865  |    0.009910  |    0.009462  |     1.047382  |             |  4.4s"
       ]
      },
      {
       "output_type": "stream",
       "stream": "stdout",
       "text": [
        "\n",
        "   866  |    0.009957  |    0.009458  |     1.052763  |             |  4.4s"
       ]
      },
      {
       "output_type": "stream",
       "stream": "stdout",
       "text": [
        "\n",
        "   867  |    0.009919  |  \u001b[32m  0.009439\u001b[0m  |     1.050828  |             |  4.4s"
       ]
      },
      {
       "output_type": "stream",
       "stream": "stdout",
       "text": [
        "\n",
        "   868  |    0.009912  |    0.009464  |     1.047289  |             |  4.4s"
       ]
      },
      {
       "output_type": "stream",
       "stream": "stdout",
       "text": [
        "\n",
        "   869  |  \u001b[94m  0.009900\u001b[0m  |  \u001b[32m  0.009432\u001b[0m  |     1.049656  |             |  4.4s"
       ]
      },
      {
       "output_type": "stream",
       "stream": "stdout",
       "text": [
        "\n",
        "   870  |    0.009908  |  \u001b[32m  0.009420\u001b[0m  |     1.051799  |             |  4.4s"
       ]
      },
      {
       "output_type": "stream",
       "stream": "stdout",
       "text": [
        "\n",
        "   871  |    0.009921  |    0.009423  |     1.052901  |             |  4.4s"
       ]
      },
      {
       "output_type": "stream",
       "stream": "stdout",
       "text": [
        "\n",
        "   872  |    0.009904  |    0.009428  |     1.050503  |             |  4.4s"
       ]
      },
      {
       "output_type": "stream",
       "stream": "stdout",
       "text": [
        "\n",
        "   873  |  \u001b[94m  0.009814\u001b[0m  |  \u001b[32m  0.009373\u001b[0m  |     1.047041  |             |  4.4s"
       ]
      },
      {
       "output_type": "stream",
       "stream": "stdout",
       "text": [
        "\n",
        "   874  |    0.009829  |    0.009428  |     1.042474  |             |  4.4s"
       ]
      },
      {
       "output_type": "stream",
       "stream": "stdout",
       "text": [
        "\n",
        "   875  |    0.009935  |  \u001b[32m  0.009372\u001b[0m  |     1.060096  |             |  4.4s"
       ]
      },
      {
       "output_type": "stream",
       "stream": "stdout",
       "text": [
        "\n",
        "   876  |    0.009872  |  \u001b[32m  0.009369\u001b[0m  |     1.053704  |             |  4.4s"
       ]
      },
      {
       "output_type": "stream",
       "stream": "stdout",
       "text": [
        "\n",
        "   877  |    0.009831  |    0.009383  |     1.047753  |             |  4.4s"
       ]
      },
      {
       "output_type": "stream",
       "stream": "stdout",
       "text": [
        "\n",
        "   878  |  \u001b[94m  0.009791\u001b[0m  |    0.009394  |     1.042216  |             |  4.4s"
       ]
      },
      {
       "output_type": "stream",
       "stream": "stdout",
       "text": [
        "\n",
        "   879  |    0.009867  |    0.009394  |     1.050413  |             |  4.4s"
       ]
      },
      {
       "output_type": "stream",
       "stream": "stdout",
       "text": [
        "\n",
        "   880  |  \u001b[94m  0.009781\u001b[0m  |    0.009405  |     1.040060  |             |  4.4s"
       ]
      },
      {
       "output_type": "stream",
       "stream": "stdout",
       "text": [
        "\n",
        "   881  |    0.009837  |  \u001b[32m  0.009359\u001b[0m  |     1.051040  |             |  4.4s"
       ]
      },
      {
       "output_type": "stream",
       "stream": "stdout",
       "text": [
        "\n",
        "   882  |    0.009863  |  \u001b[32m  0.009325\u001b[0m  |     1.057709  |             |  4.4s"
       ]
      },
      {
       "output_type": "stream",
       "stream": "stdout",
       "text": [
        "\n",
        "   883  |    0.009810  |    0.009382  |     1.045604  |             |  4.4s"
       ]
      },
      {
       "output_type": "stream",
       "stream": "stdout",
       "text": [
        "\n",
        "   884  |  \u001b[94m  0.009712\u001b[0m  |    0.009367  |     1.036829  |             |  4.4s"
       ]
      },
      {
       "output_type": "stream",
       "stream": "stdout",
       "text": [
        "\n",
        "   885  |    0.009749  |    0.009388  |     1.038454  |             |  4.4s"
       ]
      },
      {
       "output_type": "stream",
       "stream": "stdout",
       "text": [
        "\n",
        "   886  |    0.009715  |    0.009335  |     1.040690  |             |  4.4s"
       ]
      },
      {
       "output_type": "stream",
       "stream": "stdout",
       "text": [
        "\n",
        "   887  |    0.009779  |    0.009332  |     1.047893  |             |  4.4s"
       ]
      },
      {
       "output_type": "stream",
       "stream": "stdout",
       "text": [
        "\n",
        "   888  |    0.009796  |    0.009362  |     1.046386  |             |  4.4s"
       ]
      },
      {
       "output_type": "stream",
       "stream": "stdout",
       "text": [
        "\n",
        "   889  |    0.009793  |    0.009370  |     1.045179  |             |  4.4s"
       ]
      },
      {
       "output_type": "stream",
       "stream": "stdout",
       "text": [
        "\n",
        "   890  |    0.009819  |    0.009335  |     1.051757  |             |  4.4s"
       ]
      },
      {
       "output_type": "stream",
       "stream": "stdout",
       "text": [
        "\n",
        "   891  |    0.009815  |    0.009328  |     1.052243  |             |  4.4s"
       ]
      },
      {
       "output_type": "stream",
       "stream": "stdout",
       "text": [
        "\n",
        "   892  |  \u001b[94m  0.009700\u001b[0m  |  \u001b[32m  0.009308\u001b[0m  |     1.042152  |             |  4.4s"
       ]
      },
      {
       "output_type": "stream",
       "stream": "stdout",
       "text": [
        "\n",
        "   893  |    0.009724  |    0.009308  |     1.044724  |             |  4.4s"
       ]
      },
      {
       "output_type": "stream",
       "stream": "stdout",
       "text": [
        "\n",
        "   894  |    0.009795  |  \u001b[32m  0.009301\u001b[0m  |     1.053157  |             |  4.4s"
       ]
      },
      {
       "output_type": "stream",
       "stream": "stdout",
       "text": [
        "\n",
        "   895  |  \u001b[94m  0.009678\u001b[0m  |  \u001b[32m  0.009296\u001b[0m  |     1.041095  |             |  4.4s"
       ]
      },
      {
       "output_type": "stream",
       "stream": "stdout",
       "text": [
        "\n",
        "   896  |  \u001b[94m  0.009670\u001b[0m  |  \u001b[32m  0.009286\u001b[0m  |     1.041284  |             |  4.4s"
       ]
      },
      {
       "output_type": "stream",
       "stream": "stdout",
       "text": [
        "\n",
        "   897  |  \u001b[94m  0.009623\u001b[0m  |    0.009322  |     1.032259  |             |  4.4s"
       ]
      },
      {
       "output_type": "stream",
       "stream": "stdout",
       "text": [
        "\n",
        "   898  |    0.009733  |  \u001b[32m  0.009280\u001b[0m  |     1.048801  |             |  4.4s"
       ]
      },
      {
       "output_type": "stream",
       "stream": "stdout",
       "text": [
        "\n",
        "   899  |    0.009650  |    0.009324  |     1.034922  |             |  4.4s"
       ]
      },
      {
       "output_type": "stream",
       "stream": "stdout",
       "text": [
        "\n",
        "   900  |    0.009635  |    0.009295  |     1.036491  |             |  4.4s"
       ]
      },
      {
       "output_type": "stream",
       "stream": "stdout",
       "text": [
        "\n",
        "   901  |    0.009655  |  \u001b[32m  0.009271\u001b[0m  |     1.041451  |             |  4.4s"
       ]
      },
      {
       "output_type": "stream",
       "stream": "stdout",
       "text": [
        "\n",
        "   902  |  \u001b[94m  0.009553\u001b[0m  |  \u001b[32m  0.009268\u001b[0m  |     1.030774  |             |  4.4s"
       ]
      },
      {
       "output_type": "stream",
       "stream": "stdout",
       "text": [
        "\n",
        "   903  |    0.009646  |  \u001b[32m  0.009262\u001b[0m  |     1.041409  |             |  4.4s"
       ]
      },
      {
       "output_type": "stream",
       "stream": "stdout",
       "text": [
        "\n",
        "   904  |    0.009596  |  \u001b[32m  0.009245\u001b[0m  |     1.037977  |             |  4.4s"
       ]
      },
      {
       "output_type": "stream",
       "stream": "stdout",
       "text": [
        "\n",
        "   905  |  \u001b[94m  0.009514\u001b[0m  |    0.009286  |     1.024545  |             |  4.4s"
       ]
      },
      {
       "output_type": "stream",
       "stream": "stdout",
       "text": [
        "\n",
        "   906  |    0.009600  |    0.009259  |     1.036833  |             |  4.4s"
       ]
      },
      {
       "output_type": "stream",
       "stream": "stdout",
       "text": [
        "\n",
        "   907  |    0.009580  |    0.009247  |     1.035984  |             |  4.4s"
       ]
      },
      {
       "output_type": "stream",
       "stream": "stdout",
       "text": [
        "\n",
        "   908  |    0.009640  |    0.009251  |     1.042136  |             |  4.4s"
       ]
      },
      {
       "output_type": "stream",
       "stream": "stdout",
       "text": [
        "\n",
        "   909  |    0.009585  |    0.009274  |     1.033442  |             |  4.4s"
       ]
      },
      {
       "output_type": "stream",
       "stream": "stdout",
       "text": [
        "\n",
        "   910  |    0.009591  |  \u001b[32m  0.009232\u001b[0m  |     1.038892  |             |  4.4s"
       ]
      },
      {
       "output_type": "stream",
       "stream": "stdout",
       "text": [
        "\n",
        "   911  |    0.009565  |  \u001b[32m  0.009220\u001b[0m  |     1.037523  |             |  4.4s"
       ]
      },
      {
       "output_type": "stream",
       "stream": "stdout",
       "text": [
        "\n",
        "   912  |    0.009665  |    0.009232  |     1.046864  |             |  4.4s"
       ]
      },
      {
       "output_type": "stream",
       "stream": "stdout",
       "text": [
        "\n",
        "   913  |  \u001b[94m  0.009508\u001b[0m  |    0.009255  |     1.027274  |             |  4.4s"
       ]
      },
      {
       "output_type": "stream",
       "stream": "stdout",
       "text": [
        "\n",
        "   914  |    0.009562  |    0.009226  |     1.036416  |             |  4.4s"
       ]
      },
      {
       "output_type": "stream",
       "stream": "stdout",
       "text": [
        "\n",
        "   915  |    0.009513  |    0.009231  |     1.030513  |             |  4.4s"
       ]
      },
      {
       "output_type": "stream",
       "stream": "stdout",
       "text": [
        "\n",
        "   916  |  \u001b[94m  0.009489\u001b[0m  |    0.009224  |     1.028710  |             |  4.4s"
       ]
      },
      {
       "output_type": "stream",
       "stream": "stdout",
       "text": [
        "\n",
        "   917  |    0.009509  |  \u001b[32m  0.009200\u001b[0m  |     1.033582  |             |  4.4s"
       ]
      },
      {
       "output_type": "stream",
       "stream": "stdout",
       "text": [
        "\n",
        "   918  |    0.009571  |    0.009224  |     1.037622  |             |  4.4s"
       ]
      },
      {
       "output_type": "stream",
       "stream": "stdout",
       "text": [
        "\n",
        "   919  |    0.009527  |  \u001b[32m  0.009193\u001b[0m  |     1.036327  |             |  4.4s"
       ]
      },
      {
       "output_type": "stream",
       "stream": "stdout",
       "text": [
        "\n",
        "   920  |  \u001b[94m  0.009466\u001b[0m  |    0.009206  |     1.028301  |             |  4.4s"
       ]
      },
      {
       "output_type": "stream",
       "stream": "stdout",
       "text": [
        "\n",
        "   921  |    0.009478  |  \u001b[32m  0.009185\u001b[0m  |     1.031929  |             |  4.4s"
       ]
      },
      {
       "output_type": "stream",
       "stream": "stdout",
       "text": [
        "\n",
        "   922  |    0.009560  |    0.009186  |     1.040659  |             |  4.4s"
       ]
      },
      {
       "output_type": "stream",
       "stream": "stdout",
       "text": [
        "\n",
        "   923  |    0.009537  |  \u001b[32m  0.009183\u001b[0m  |     1.038536  |             |  4.4s"
       ]
      },
      {
       "output_type": "stream",
       "stream": "stdout",
       "text": [
        "\n",
        "   924  |  \u001b[94m  0.009422\u001b[0m  |  \u001b[32m  0.009171\u001b[0m  |     1.027298  |             |  4.4s"
       ]
      },
      {
       "output_type": "stream",
       "stream": "stdout",
       "text": [
        "\n",
        "   925  |    0.009450  |  \u001b[32m  0.009169\u001b[0m  |     1.030622  |             |  4.4s"
       ]
      },
      {
       "output_type": "stream",
       "stream": "stdout",
       "text": [
        "\n",
        "   926  |    0.009451  |    0.009188  |     1.028605  |             |  4.4s"
       ]
      },
      {
       "output_type": "stream",
       "stream": "stdout",
       "text": [
        "\n",
        "   927  |    0.009426  |    0.009189  |     1.025809  |             |  4.4s"
       ]
      },
      {
       "output_type": "stream",
       "stream": "stdout",
       "text": [
        "\n",
        "   928  |    0.009531  |  \u001b[32m  0.009164\u001b[0m  |     1.040072  |             |  4.4s"
       ]
      },
      {
       "output_type": "stream",
       "stream": "stdout",
       "text": [
        "\n",
        "   929  |  \u001b[94m  0.009406\u001b[0m  |  \u001b[32m  0.009129\u001b[0m  |     1.030337  |             |  4.4s"
       ]
      },
      {
       "output_type": "stream",
       "stream": "stdout",
       "text": [
        "\n",
        "   930  |  \u001b[94m  0.009393\u001b[0m  |    0.009195  |     1.021468  |             |  4.4s"
       ]
      },
      {
       "output_type": "stream",
       "stream": "stdout",
       "text": [
        "\n",
        "   931  |    0.009451  |    0.009156  |     1.032236  |             |  4.4s"
       ]
      },
      {
       "output_type": "stream",
       "stream": "stdout",
       "text": [
        "\n",
        "   932  |  \u001b[94m  0.009379\u001b[0m  |    0.009168  |     1.023069  |             |  4.4s"
       ]
      },
      {
       "output_type": "stream",
       "stream": "stdout",
       "text": [
        "\n",
        "   933  |    0.009459  |    0.009140  |     1.034945  |             |  4.4s"
       ]
      },
      {
       "output_type": "stream",
       "stream": "stdout",
       "text": [
        "\n",
        "   934  |    0.009397  |    0.009156  |     1.026351  |             |  4.4s"
       ]
      },
      {
       "output_type": "stream",
       "stream": "stdout",
       "text": [
        "\n",
        "   935  |    0.009397  |    0.009154  |     1.026571  |             |  4.4s"
       ]
      },
      {
       "output_type": "stream",
       "stream": "stdout",
       "text": [
        "\n",
        "   936  |    0.009383  |    0.009137  |     1.026946  |             |  4.4s"
       ]
      },
      {
       "output_type": "stream",
       "stream": "stdout",
       "text": [
        "\n",
        "   937  |  \u001b[94m  0.009361\u001b[0m  |  \u001b[32m  0.009106\u001b[0m  |     1.028007  |             |  4.4s"
       ]
      },
      {
       "output_type": "stream",
       "stream": "stdout",
       "text": [
        "\n",
        "   938  |    0.009389  |    0.009147  |     1.026412  |             |  4.4s"
       ]
      },
      {
       "output_type": "stream",
       "stream": "stdout",
       "text": [
        "\n",
        "   939  |    0.009378  |    0.009128  |     1.027407  |             |  4.4s"
       ]
      },
      {
       "output_type": "stream",
       "stream": "stdout",
       "text": [
        "\n",
        "   940  |    0.009399  |    0.009135  |     1.028913  |             |  4.4s"
       ]
      },
      {
       "output_type": "stream",
       "stream": "stdout",
       "text": [
        "\n",
        "   941  |    0.009376  |    0.009131  |     1.026928  |             |  4.4s"
       ]
      },
      {
       "output_type": "stream",
       "stream": "stdout",
       "text": [
        "\n",
        "   942  |    0.009388  |    0.009113  |     1.030235  |             |  4.4s"
       ]
      },
      {
       "output_type": "stream",
       "stream": "stdout",
       "text": [
        "\n",
        "   943  |  \u001b[94m  0.009265\u001b[0m  |    0.009107  |     1.017319  |             |  4.4s"
       ]
      },
      {
       "output_type": "stream",
       "stream": "stdout",
       "text": [
        "\n",
        "   944  |    0.009361  |    0.009109  |     1.027640  |             |  4.4s"
       ]
      },
      {
       "output_type": "stream",
       "stream": "stdout",
       "text": [
        "\n",
        "   945  |    0.009383  |  \u001b[32m  0.009103\u001b[0m  |     1.030810  |             |  4.4s"
       ]
      },
      {
       "output_type": "stream",
       "stream": "stdout",
       "text": [
        "\n",
        "   946  |    0.009292  |  \u001b[32m  0.009090\u001b[0m  |     1.022197  |             |  4.4s"
       ]
      },
      {
       "output_type": "stream",
       "stream": "stdout",
       "text": [
        "\n",
        "   947  |    0.009349  |    0.009105  |     1.026748  |             |  4.4s"
       ]
      },
      {
       "output_type": "stream",
       "stream": "stdout",
       "text": [
        "\n",
        "   948  |    0.009299  |    0.009099  |     1.022014  |             |  4.4s"
       ]
      },
      {
       "output_type": "stream",
       "stream": "stdout",
       "text": [
        "\n",
        "   949  |    0.009389  |    0.009095  |     1.032356  |             |  4.4s"
       ]
      },
      {
       "output_type": "stream",
       "stream": "stdout",
       "text": [
        "\n",
        "   950  |  \u001b[94m  0.009249\u001b[0m  |    0.009099  |     1.016459  |             |  4.4s"
       ]
      },
      {
       "output_type": "stream",
       "stream": "stdout",
       "text": [
        "\n",
        "   951  |    0.009366  |  \u001b[32m  0.009082\u001b[0m  |     1.031235  |             |  4.4s"
       ]
      },
      {
       "output_type": "stream",
       "stream": "stdout",
       "text": [
        "\n",
        "   952  |    0.009379  |    0.009094  |     1.031371  |             |  4.4s"
       ]
      },
      {
       "output_type": "stream",
       "stream": "stdout",
       "text": [
        "\n",
        "   953  |    0.009325  |    0.009084  |     1.026507  |             |  4.4s"
       ]
      },
      {
       "output_type": "stream",
       "stream": "stdout",
       "text": [
        "\n",
        "   954  |  \u001b[94m  0.009244\u001b[0m  |  \u001b[32m  0.009054\u001b[0m  |     1.021005  |             |  4.4s"
       ]
      },
      {
       "output_type": "stream",
       "stream": "stdout",
       "text": [
        "\n",
        "   955  |    0.009323  |    0.009065  |     1.028457  |             |  4.4s"
       ]
      },
      {
       "output_type": "stream",
       "stream": "stdout",
       "text": [
        "\n",
        "   956  |    0.009320  |  \u001b[32m  0.009042\u001b[0m  |     1.030673  |             |  4.4s"
       ]
      },
      {
       "output_type": "stream",
       "stream": "stdout",
       "text": [
        "\n",
        "   957  |    0.009301  |  \u001b[32m  0.009035\u001b[0m  |     1.029353  |             |  4.4s"
       ]
      },
      {
       "output_type": "stream",
       "stream": "stdout",
       "text": [
        "\n",
        "   958  |    0.009252  |  \u001b[32m  0.009031\u001b[0m  |     1.024464  |             |  4.4s"
       ]
      },
      {
       "output_type": "stream",
       "stream": "stdout",
       "text": [
        "\n",
        "   959  |    0.009292  |    0.009045  |     1.027328  |             |  4.4s"
       ]
      },
      {
       "output_type": "stream",
       "stream": "stdout",
       "text": [
        "\n",
        "   960  |  \u001b[94m  0.009218\u001b[0m  |    0.009066  |     1.016707  |             |  4.4s"
       ]
      },
      {
       "output_type": "stream",
       "stream": "stdout",
       "text": [
        "\n",
        "   961  |  \u001b[94m  0.009185\u001b[0m  |  \u001b[32m  0.009001\u001b[0m  |     1.020409  |             |  4.4s"
       ]
      },
      {
       "output_type": "stream",
       "stream": "stdout",
       "text": [
        "\n",
        "   962  |  \u001b[94m  0.009168\u001b[0m  |    0.009021  |     1.016223  |             |  4.4s"
       ]
      },
      {
       "output_type": "stream",
       "stream": "stdout",
       "text": [
        "\n",
        "   963  |    0.009244  |    0.009053  |     1.021021  |             |  4.4s"
       ]
      },
      {
       "output_type": "stream",
       "stream": "stdout",
       "text": [
        "\n",
        "   964  |    0.009220  |    0.009023  |     1.021834  |             |  4.4s"
       ]
      },
      {
       "output_type": "stream",
       "stream": "stdout",
       "text": [
        "\n",
        "   965  |    0.009247  |    0.009014  |     1.025908  |             |  4.4s"
       ]
      },
      {
       "output_type": "stream",
       "stream": "stdout",
       "text": [
        "\n",
        "   966  |  \u001b[94m  0.009167\u001b[0m  |  \u001b[32m  0.008994\u001b[0m  |     1.019154  |             |  4.4s"
       ]
      },
      {
       "output_type": "stream",
       "stream": "stdout",
       "text": [
        "\n",
        "   967  |    0.009244  |    0.009011  |     1.025884  |             |  4.4s"
       ]
      },
      {
       "output_type": "stream",
       "stream": "stdout",
       "text": [
        "\n",
        "   968  |    0.009215  |    0.009026  |     1.020915  |             |  4.4s"
       ]
      },
      {
       "output_type": "stream",
       "stream": "stdout",
       "text": [
        "\n",
        "   969  |  \u001b[94m  0.009126\u001b[0m  |  \u001b[32m  0.008986\u001b[0m  |     1.015666  |             |  4.4s"
       ]
      },
      {
       "output_type": "stream",
       "stream": "stdout",
       "text": [
        "\n",
        "   970  |    0.009156  |    0.009002  |     1.017173  |             |  4.4s"
       ]
      },
      {
       "output_type": "stream",
       "stream": "stdout",
       "text": [
        "\n",
        "   971  |  \u001b[94m  0.009115\u001b[0m  |  \u001b[32m  0.008985\u001b[0m  |     1.014465  |             |  4.4s"
       ]
      },
      {
       "output_type": "stream",
       "stream": "stdout",
       "text": [
        "\n",
        "   972  |    0.009242  |  \u001b[32m  0.008978\u001b[0m  |     1.029399  |             |  4.4s"
       ]
      },
      {
       "output_type": "stream",
       "stream": "stdout",
       "text": [
        "\n",
        "   973  |    0.009155  |    0.008997  |     1.017580  |             |  4.4s"
       ]
      },
      {
       "output_type": "stream",
       "stream": "stdout",
       "text": [
        "\n",
        "   974  |    0.009156  |    0.008984  |     1.019162  |             |  4.4s"
       ]
      },
      {
       "output_type": "stream",
       "stream": "stdout",
       "text": [
        "\n",
        "   975  |    0.009161  |  \u001b[32m  0.008966\u001b[0m  |     1.021778  |             |  4.4s"
       ]
      },
      {
       "output_type": "stream",
       "stream": "stdout",
       "text": [
        "\n",
        "   976  |    0.009136  |  \u001b[32m  0.008962\u001b[0m  |     1.019417  |             |  4.4s"
       ]
      },
      {
       "output_type": "stream",
       "stream": "stdout",
       "text": [
        "\n",
        "   977  |    0.009122  |    0.008986  |     1.015169  |             |  4.4s"
       ]
      },
      {
       "output_type": "stream",
       "stream": "stdout",
       "text": [
        "\n",
        "   978  |    0.009124  |    0.008985  |     1.015472  |             |  4.4s"
       ]
      },
      {
       "output_type": "stream",
       "stream": "stdout",
       "text": [
        "\n",
        "   979  |    0.009129  |    0.008986  |     1.015940  |             |  4.4s"
       ]
      },
      {
       "output_type": "stream",
       "stream": "stdout",
       "text": [
        "\n",
        "   980  |  \u001b[94m  0.009084\u001b[0m  |    0.008969  |     1.012829  |             |  4.4s"
       ]
      },
      {
       "output_type": "stream",
       "stream": "stdout",
       "text": [
        "\n",
        "   981  |    0.009108  |  \u001b[32m  0.008943\u001b[0m  |     1.018466  |             |  4.4s"
       ]
      },
      {
       "output_type": "stream",
       "stream": "stdout",
       "text": [
        "\n",
        "   982  |  \u001b[94m  0.009057\u001b[0m  |    0.008943  |     1.012745  |             |  4.4s"
       ]
      },
      {
       "output_type": "stream",
       "stream": "stdout",
       "text": [
        "\n",
        "   983  |    0.009110  |  \u001b[32m  0.008919\u001b[0m  |     1.021508  |             |  4.4s"
       ]
      },
      {
       "output_type": "stream",
       "stream": "stdout",
       "text": [
        "\n",
        "   984  |    0.009132  |    0.008954  |     1.019848  |             |  4.4s"
       ]
      },
      {
       "output_type": "stream",
       "stream": "stdout",
       "text": [
        "\n",
        "   985  |  \u001b[94m  0.008988\u001b[0m  |    0.008939  |     1.005459  |             |  4.4s"
       ]
      },
      {
       "output_type": "stream",
       "stream": "stdout",
       "text": [
        "\n",
        "   986  |    0.009079  |    0.008987  |     1.010287  |             |  4.4s"
       ]
      },
      {
       "output_type": "stream",
       "stream": "stdout",
       "text": [
        "\n",
        "   987  |    0.009014  |    0.008933  |     1.009138  |             |  4.4s"
       ]
      },
      {
       "output_type": "stream",
       "stream": "stdout",
       "text": [
        "\n",
        "   988  |    0.009076  |    0.008952  |     1.013866  |             |  4.4s"
       ]
      },
      {
       "output_type": "stream",
       "stream": "stdout",
       "text": [
        "\n",
        "   989  |    0.009016  |  \u001b[32m  0.008896\u001b[0m  |     1.013495  |             |  4.4s"
       ]
      },
      {
       "output_type": "stream",
       "stream": "stdout",
       "text": [
        "\n",
        "   990  |  \u001b[94m  0.008981\u001b[0m  |    0.008914  |     1.007474  |             |  4.4s"
       ]
      },
      {
       "output_type": "stream",
       "stream": "stdout",
       "text": [
        "\n",
        "   991  |    0.009048  |    0.008930  |     1.013259  |             |  4.4s"
       ]
      },
      {
       "output_type": "stream",
       "stream": "stdout",
       "text": [
        "\n",
        "   992  |    0.009006  |    0.008949  |     1.006438  |             |  4.4s"
       ]
      },
      {
       "output_type": "stream",
       "stream": "stdout",
       "text": [
        "\n",
        "   993  |  \u001b[94m  0.008917\u001b[0m  |    0.008943  |     0.997057  |             |  4.4s"
       ]
      },
      {
       "output_type": "stream",
       "stream": "stdout",
       "text": [
        "\n",
        "   994  |    0.008968  |    0.008901  |     1.007528  |             |  4.4s"
       ]
      },
      {
       "output_type": "stream",
       "stream": "stdout",
       "text": [
        "\n",
        "   995  |    0.008939  |    0.008904  |     1.003909  |             |  4.4s"
       ]
      },
      {
       "output_type": "stream",
       "stream": "stdout",
       "text": [
        "\n",
        "   996  |    0.009034  |    0.008915  |     1.013342  |             |  4.4s"
       ]
      },
      {
       "output_type": "stream",
       "stream": "stdout",
       "text": [
        "\n",
        "   997  |    0.009022  |    0.008904  |     1.013317  |             |  4.4s"
       ]
      },
      {
       "output_type": "stream",
       "stream": "stdout",
       "text": [
        "\n",
        "   998  |    0.009028  |  \u001b[32m  0.008884\u001b[0m  |     1.016150  |             |  4.4s"
       ]
      },
      {
       "output_type": "stream",
       "stream": "stdout",
       "text": [
        "\n",
        "   999  |    0.009000  |  \u001b[32m  0.008862\u001b[0m  |     1.015541  |             |  4.4s"
       ]
      },
      {
       "output_type": "stream",
       "stream": "stdout",
       "text": [
        "\n",
        "  1000  |    0.008972  |    0.008888  |     1.009458  |             |  4.4s"
       ]
      },
      {
       "output_type": "stream",
       "stream": "stdout",
       "text": [
        "\n",
        "  1001  |    0.008994  |    0.008899  |     1.010757  |             |  4.4s"
       ]
      },
      {
       "output_type": "stream",
       "stream": "stdout",
       "text": [
        "\n",
        "  1002  |  \u001b[94m  0.008916\u001b[0m  |    0.008900  |     1.001828  |             |  4.4s"
       ]
      },
      {
       "output_type": "stream",
       "stream": "stdout",
       "text": [
        "\n",
        "  1003  |    0.008977  |    0.008915  |     1.006928  |             |  4.4s"
       ]
      },
      {
       "output_type": "stream",
       "stream": "stdout",
       "text": [
        "\n",
        "  1004  |    0.008930  |    0.008898  |     1.003639  |             |  4.4s"
       ]
      },
      {
       "output_type": "stream",
       "stream": "stdout",
       "text": [
        "\n",
        "  1005  |    0.008933  |    0.008866  |     1.007544  |             |  4.4s"
       ]
      },
      {
       "output_type": "stream",
       "stream": "stdout",
       "text": [
        "\n",
        "  1006  |    0.008933  |    0.008894  |     1.004369  |             |  4.4s"
       ]
      },
      {
       "output_type": "stream",
       "stream": "stdout",
       "text": [
        "\n",
        "  1007  |  \u001b[94m  0.008873\u001b[0m  |  \u001b[32m  0.008839\u001b[0m  |     1.003794  |             |  4.4s"
       ]
      },
      {
       "output_type": "stream",
       "stream": "stdout",
       "text": [
        "\n",
        "  1008  |    0.008909  |    0.008858  |     1.005737  |             |  4.4s"
       ]
      },
      {
       "output_type": "stream",
       "stream": "stdout",
       "text": [
        "\n",
        "  1009  |  \u001b[94m  0.008859\u001b[0m  |    0.008869  |     0.998950  |             |  4.4s"
       ]
      },
      {
       "output_type": "stream",
       "stream": "stdout",
       "text": [
        "\n",
        "  1010  |  \u001b[94m  0.008820\u001b[0m  |    0.008859  |     0.995652  |             |  4.4s"
       ]
      },
      {
       "output_type": "stream",
       "stream": "stdout",
       "text": [
        "\n",
        "  1011  |    0.008886  |    0.008840  |     1.005121  |             |  4.4s"
       ]
      },
      {
       "output_type": "stream",
       "stream": "stdout",
       "text": [
        "\n",
        "  1012  |  \u001b[94m  0.008806\u001b[0m  |    0.008849  |     0.995135  |             |  4.4s"
       ]
      },
      {
       "output_type": "stream",
       "stream": "stdout",
       "text": [
        "\n",
        "  1013  |    0.008810  |  \u001b[32m  0.008838\u001b[0m  |     0.996821  |             |  4.4s"
       ]
      },
      {
       "output_type": "stream",
       "stream": "stdout",
       "text": [
        "\n",
        "  1014  |    0.008811  |    0.008856  |     0.994877  |             |  4.4s"
       ]
      },
      {
       "output_type": "stream",
       "stream": "stdout",
       "text": [
        "\n",
        "  1015  |    0.008919  |    0.008853  |     1.007429  |             |  4.4s"
       ]
      },
      {
       "output_type": "stream",
       "stream": "stdout",
       "text": [
        "\n",
        "  1016  |    0.008820  |    0.008862  |     0.995259  |             |  4.4s"
       ]
      },
      {
       "output_type": "stream",
       "stream": "stdout",
       "text": [
        "\n",
        "  1017  |  \u001b[94m  0.008791\u001b[0m  |    0.008856  |     0.992615  |             |  4.4s"
       ]
      },
      {
       "output_type": "stream",
       "stream": "stdout",
       "text": [
        "\n",
        "  1018  |    0.008812  |  \u001b[32m  0.008833\u001b[0m  |     0.997653  |             |  4.4s"
       ]
      },
      {
       "output_type": "stream",
       "stream": "stdout",
       "text": [
        "\n",
        "  1019  |    0.008829  |  \u001b[32m  0.008824\u001b[0m  |     1.000550  |             |  4.4s"
       ]
      },
      {
       "output_type": "stream",
       "stream": "stdout",
       "text": [
        "\n",
        "  1020  |    0.008806  |    0.008826  |     0.997667  |             |  4.4s"
       ]
      },
      {
       "output_type": "stream",
       "stream": "stdout",
       "text": [
        "\n",
        "  1021  |  \u001b[94m  0.008786\u001b[0m  |  \u001b[32m  0.008813\u001b[0m  |     0.996968  |             |  4.4s"
       ]
      },
      {
       "output_type": "stream",
       "stream": "stdout",
       "text": [
        "\n",
        "  1022  |    0.008839  |    0.008848  |     0.998968  |             |  4.4s"
       ]
      },
      {
       "output_type": "stream",
       "stream": "stdout",
       "text": [
        "\n",
        "  1023  |    0.008814  |  \u001b[32m  0.008811\u001b[0m  |     1.000351  |             |  4.4s"
       ]
      },
      {
       "output_type": "stream",
       "stream": "stdout",
       "text": [
        "\n",
        "  1024  |  \u001b[94m  0.008760\u001b[0m  |    0.008814  |     0.993846  |             |  4.4s"
       ]
      },
      {
       "output_type": "stream",
       "stream": "stdout",
       "text": [
        "\n",
        "  1025  |  \u001b[94m  0.008753\u001b[0m  |    0.008820  |     0.992431  |             |  4.4s"
       ]
      },
      {
       "output_type": "stream",
       "stream": "stdout",
       "text": [
        "\n",
        "  1026  |  \u001b[94m  0.008752\u001b[0m  |  \u001b[32m  0.008774\u001b[0m  |     0.997574  |             |  4.4s"
       ]
      },
      {
       "output_type": "stream",
       "stream": "stdout",
       "text": [
        "\n",
        "  1027  |    0.008851  |    0.008829  |     1.002502  |             |  4.4s"
       ]
      },
      {
       "output_type": "stream",
       "stream": "stdout",
       "text": [
        "\n",
        "  1028  |  \u001b[94m  0.008732\u001b[0m  |    0.008785  |     0.993969  |             |  4.4s"
       ]
      },
      {
       "output_type": "stream",
       "stream": "stdout",
       "text": [
        "\n",
        "  1029  |  \u001b[94m  0.008720\u001b[0m  |    0.008807  |     0.990195  |             |  4.4s"
       ]
      },
      {
       "output_type": "stream",
       "stream": "stdout",
       "text": [
        "\n",
        "  1030  |  \u001b[94m  0.008706\u001b[0m  |    0.008780  |     0.991508  |             |  4.4s"
       ]
      },
      {
       "output_type": "stream",
       "stream": "stdout",
       "text": [
        "\n",
        "  1031  |    0.008754  |    0.008802  |     0.994560  |             |  4.4s"
       ]
      },
      {
       "output_type": "stream",
       "stream": "stdout",
       "text": [
        "\n",
        "  1032  |  \u001b[94m  0.008680\u001b[0m  |    0.008783  |     0.988292  |             |  4.4s"
       ]
      },
      {
       "output_type": "stream",
       "stream": "stdout",
       "text": [
        "\n",
        "  1033  |    0.008698  |    0.008798  |     0.988678  |             |  4.4s"
       ]
      },
      {
       "output_type": "stream",
       "stream": "stdout",
       "text": [
        "\n",
        "  1034  |    0.008682  |  \u001b[32m  0.008739\u001b[0m  |     0.993407  |             |  4.4s"
       ]
      },
      {
       "output_type": "stream",
       "stream": "stdout",
       "text": [
        "\n",
        "  1035  |    0.008715  |    0.008755  |     0.995479  |             |  4.4s"
       ]
      },
      {
       "output_type": "stream",
       "stream": "stdout",
       "text": [
        "\n",
        "  1036  |  \u001b[94m  0.008679\u001b[0m  |    0.008745  |     0.992520  |             |  4.4s"
       ]
      },
      {
       "output_type": "stream",
       "stream": "stdout",
       "text": [
        "\n",
        "  1037  |    0.008686  |    0.008750  |     0.992687  |             |  4.4s"
       ]
      },
      {
       "output_type": "stream",
       "stream": "stdout",
       "text": [
        "\n",
        "  1038  |  \u001b[94m  0.008662\u001b[0m  |    0.008755  |     0.989376  |             |  4.4s"
       ]
      },
      {
       "output_type": "stream",
       "stream": "stdout",
       "text": [
        "\n",
        "  1039  |    0.008693  |    0.008778  |     0.990301  |             |  4.4s"
       ]
      },
      {
       "output_type": "stream",
       "stream": "stdout",
       "text": [
        "\n",
        "  1040  |    0.008688  |    0.008789  |     0.988540  |             |  4.4s"
       ]
      },
      {
       "output_type": "stream",
       "stream": "stdout",
       "text": [
        "\n",
        "  1041  |    0.008696  |    0.008744  |     0.994492  |             |  4.4s"
       ]
      },
      {
       "output_type": "stream",
       "stream": "stdout",
       "text": [
        "\n",
        "  1042  |    0.008677  |  \u001b[32m  0.008738\u001b[0m  |     0.992996  |             |  4.4s"
       ]
      },
      {
       "output_type": "stream",
       "stream": "stdout",
       "text": [
        "\n",
        "  1043  |  \u001b[94m  0.008579\u001b[0m  |  \u001b[32m  0.008734\u001b[0m  |     0.982287  |             |  4.4s"
       ]
      },
      {
       "output_type": "stream",
       "stream": "stdout",
       "text": [
        "\n",
        "  1044  |    0.008609  |    0.008768  |     0.981893  |             |  4.4s"
       ]
      },
      {
       "output_type": "stream",
       "stream": "stdout",
       "text": [
        "\n",
        "  1045  |    0.008683  |  \u001b[32m  0.008723\u001b[0m  |     0.995337  |             |  4.4s"
       ]
      },
      {
       "output_type": "stream",
       "stream": "stdout",
       "text": [
        "\n",
        "  1046  |    0.008601  |    0.008737  |     0.984521  |             |  4.4s"
       ]
      },
      {
       "output_type": "stream",
       "stream": "stdout",
       "text": [
        "\n",
        "  1047  |    0.008639  |    0.008745  |     0.987920  |             |  4.4s"
       ]
      },
      {
       "output_type": "stream",
       "stream": "stdout",
       "text": [
        "\n",
        "  1048  |    0.008596  |  \u001b[32m  0.008712\u001b[0m  |     0.986694  |             |  4.4s"
       ]
      },
      {
       "output_type": "stream",
       "stream": "stdout",
       "text": [
        "\n",
        "  1049  |    0.008634  |  \u001b[32m  0.008707\u001b[0m  |     0.991608  |             |  4.4s"
       ]
      },
      {
       "output_type": "stream",
       "stream": "stdout",
       "text": [
        "\n",
        "  1050  |    0.008653  |    0.008733  |     0.990885  |             |  4.4s"
       ]
      },
      {
       "output_type": "stream",
       "stream": "stdout",
       "text": [
        "\n",
        "  1051  |    0.008593  |    0.008734  |     0.983834  |             |  4.4s"
       ]
      },
      {
       "output_type": "stream",
       "stream": "stdout",
       "text": [
        "\n",
        "  1052  |    0.008658  |    0.008739  |     0.990682  |             |  4.4s"
       ]
      },
      {
       "output_type": "stream",
       "stream": "stdout",
       "text": [
        "\n",
        "  1053  |    0.008643  |    0.008723  |     0.990816  |             |  4.4s"
       ]
      },
      {
       "output_type": "stream",
       "stream": "stdout",
       "text": [
        "\n",
        "  1054  |    0.008601  |    0.008732  |     0.984959  |             |  4.4s"
       ]
      },
      {
       "output_type": "stream",
       "stream": "stdout",
       "text": [
        "\n",
        "  1055  |    0.008648  |    0.008753  |     0.987963  |             |  4.4s"
       ]
      },
      {
       "output_type": "stream",
       "stream": "stdout",
       "text": [
        "\n",
        "  1056  |  \u001b[94m  0.008544\u001b[0m  |    0.008719  |     0.979858  |             |  4.4s"
       ]
      },
      {
       "output_type": "stream",
       "stream": "stdout",
       "text": [
        "\n",
        "  1057  |    0.008588  |    0.008708  |     0.986212  |             |  4.4s"
       ]
      },
      {
       "output_type": "stream",
       "stream": "stdout",
       "text": [
        "\n",
        "  1058  |  \u001b[94m  0.008506\u001b[0m  |    0.008714  |     0.976188  |             |  4.4s"
       ]
      },
      {
       "output_type": "stream",
       "stream": "stdout",
       "text": [
        "\n",
        "  1059  |    0.008568  |    0.008715  |     0.983105  |             |  4.4s"
       ]
      },
      {
       "output_type": "stream",
       "stream": "stdout",
       "text": [
        "\n",
        "  1060  |    0.008541  |    0.008714  |     0.980162  |             |  4.4s"
       ]
      },
      {
       "output_type": "stream",
       "stream": "stdout",
       "text": [
        "\n",
        "  1061  |    0.008523  |    0.008711  |     0.978366  |             |  4.4s"
       ]
      },
      {
       "output_type": "stream",
       "stream": "stdout",
       "text": [
        "\n",
        "  1062  |    0.008559  |  \u001b[32m  0.008702\u001b[0m  |     0.983516  |             |  4.4s"
       ]
      },
      {
       "output_type": "stream",
       "stream": "stdout",
       "text": [
        "\n",
        "  1063  |  \u001b[94m  0.008496\u001b[0m  |  \u001b[32m  0.008697\u001b[0m  |     0.976887  |             |  4.4s"
       ]
      },
      {
       "output_type": "stream",
       "stream": "stdout",
       "text": [
        "\n",
        "  1064  |    0.008525  |  \u001b[32m  0.008658\u001b[0m  |     0.984714  |             |  4.4s"
       ]
      },
      {
       "output_type": "stream",
       "stream": "stdout",
       "text": [
        "\n",
        "  1065  |    0.008632  |    0.008667  |     0.996012  |             |  4.4s"
       ]
      },
      {
       "output_type": "stream",
       "stream": "stdout",
       "text": [
        "\n",
        "  1066  |  \u001b[94m  0.008450\u001b[0m  |    0.008699  |     0.971406  |             |  4.4s"
       ]
      },
      {
       "output_type": "stream",
       "stream": "stdout",
       "text": [
        "\n",
        "  1067  |  \u001b[94m  0.008345\u001b[0m  |    0.008703  |     0.958812  |             |  4.4s"
       ]
      },
      {
       "output_type": "stream",
       "stream": "stdout",
       "text": [
        "\n",
        "  1068  |    0.008500  |    0.008664  |     0.981042  |             |  4.4s"
       ]
      },
      {
       "output_type": "stream",
       "stream": "stdout",
       "text": [
        "\n",
        "  1069  |    0.008430  |    0.008693  |     0.969724  |             |  4.4s"
       ]
      },
      {
       "output_type": "stream",
       "stream": "stdout",
       "text": [
        "\n",
        "  1070  |    0.008495  |  \u001b[32m  0.008641\u001b[0m  |     0.983159  |             |  4.4s"
       ]
      },
      {
       "output_type": "stream",
       "stream": "stdout",
       "text": [
        "\n",
        "  1071  |    0.008476  |    0.008691  |     0.975250  |             |  4.4s"
       ]
      },
      {
       "output_type": "stream",
       "stream": "stdout",
       "text": [
        "\n",
        "  1072  |    0.008392  |    0.008695  |     0.965147  |             |  4.4s"
       ]
      },
      {
       "output_type": "stream",
       "stream": "stdout",
       "text": [
        "\n",
        "  1073  |    0.008527  |    0.008662  |     0.984391  |             |  4.4s"
       ]
      },
      {
       "output_type": "stream",
       "stream": "stdout",
       "text": [
        "\n",
        "  1074  |    0.008439  |    0.008661  |     0.974350  |             |  4.4s"
       ]
      },
      {
       "output_type": "stream",
       "stream": "stdout",
       "text": [
        "\n",
        "  1075  |    0.008467  |    0.008650  |     0.978883  |             |  4.4s"
       ]
      },
      {
       "output_type": "stream",
       "stream": "stdout",
       "text": [
        "\n",
        "  1076  |    0.008504  |    0.008652  |     0.982814  |             |  4.4s"
       ]
      },
      {
       "output_type": "stream",
       "stream": "stdout",
       "text": [
        "\n",
        "  1077  |    0.008443  |    0.008658  |     0.975131  |             |  4.4s"
       ]
      },
      {
       "output_type": "stream",
       "stream": "stdout",
       "text": [
        "\n",
        "  1078  |    0.008397  |    0.008669  |     0.968625  |             |  4.4s"
       ]
      },
      {
       "output_type": "stream",
       "stream": "stdout",
       "text": [
        "\n",
        "  1079  |    0.008368  |    0.008678  |     0.964188  |             |  4.4s"
       ]
      },
      {
       "output_type": "stream",
       "stream": "stdout",
       "text": [
        "\n",
        "  1080  |    0.008418  |    0.008652  |     0.972935  |             |  4.4s"
       ]
      },
      {
       "output_type": "stream",
       "stream": "stdout",
       "text": [
        "\n",
        "  1081  |    0.008375  |  \u001b[32m  0.008621\u001b[0m  |     0.971487  |             |  4.4s"
       ]
      },
      {
       "output_type": "stream",
       "stream": "stdout",
       "text": [
        "\n",
        "  1082  |    0.008435  |    0.008634  |     0.977037  |             |  4.4s"
       ]
      },
      {
       "output_type": "stream",
       "stream": "stdout",
       "text": [
        "\n",
        "  1083  |  \u001b[94m  0.008324\u001b[0m  |  \u001b[32m  0.008616\u001b[0m  |     0.966100  |             |  4.4s"
       ]
      },
      {
       "output_type": "stream",
       "stream": "stdout",
       "text": [
        "\n",
        "  1084  |    0.008447  |    0.008638  |     0.977951  |             |  4.4s"
       ]
      },
      {
       "output_type": "stream",
       "stream": "stdout",
       "text": [
        "\n",
        "  1085  |  \u001b[94m  0.008309\u001b[0m  |  \u001b[32m  0.008598\u001b[0m  |     0.966354  |             |  4.4s"
       ]
      },
      {
       "output_type": "stream",
       "stream": "stdout",
       "text": [
        "\n",
        "  1086  |    0.008407  |    0.008627  |     0.974463  |             |  4.4s"
       ]
      },
      {
       "output_type": "stream",
       "stream": "stdout",
       "text": [
        "\n",
        "  1087  |    0.008372  |    0.008601  |     0.973279  |             |  4.4s"
       ]
      },
      {
       "output_type": "stream",
       "stream": "stdout",
       "text": [
        "\n",
        "  1088  |    0.008320  |    0.008630  |     0.964084  |             |  4.4s"
       ]
      },
      {
       "output_type": "stream",
       "stream": "stdout",
       "text": [
        "\n",
        "  1089  |    0.008396  |  \u001b[32m  0.008597\u001b[0m  |     0.976625  |             |  4.4s"
       ]
      },
      {
       "output_type": "stream",
       "stream": "stdout",
       "text": [
        "\n",
        "  1090  |    0.008378  |    0.008607  |     0.973393  |             |  4.4s"
       ]
      },
      {
       "output_type": "stream",
       "stream": "stdout",
       "text": [
        "\n",
        "  1091  |    0.008359  |    0.008610  |     0.970800  |             |  4.4s"
       ]
      },
      {
       "output_type": "stream",
       "stream": "stdout",
       "text": [
        "\n",
        "  1092  |    0.008346  |    0.008602  |     0.970180  |             |  4.4s"
       ]
      },
      {
       "output_type": "stream",
       "stream": "stdout",
       "text": [
        "\n",
        "  1093  |    0.008328  |    0.008601  |     0.968172  |             |  4.4s"
       ]
      },
      {
       "output_type": "stream",
       "stream": "stdout",
       "text": [
        "\n",
        "  1094  |    0.008423  |  \u001b[32m  0.008568\u001b[0m  |     0.983120  |             |  4.4s"
       ]
      },
      {
       "output_type": "stream",
       "stream": "stdout",
       "text": [
        "\n",
        "  1095  |    0.008399  |    0.008615  |     0.974922  |             |  4.4s"
       ]
      },
      {
       "output_type": "stream",
       "stream": "stdout",
       "text": [
        "\n",
        "  1096  |    0.008352  |    0.008589  |     0.972362  |             |  4.4s"
       ]
      },
      {
       "output_type": "stream",
       "stream": "stdout",
       "text": [
        "\n",
        "  1097  |    0.008376  |    0.008595  |     0.974610  |             |  4.4s"
       ]
      },
      {
       "output_type": "stream",
       "stream": "stdout",
       "text": [
        "\n",
        "  1098  |  \u001b[94m  0.008264\u001b[0m  |  \u001b[32m  0.008566\u001b[0m  |     0.964718  |             |  4.4s"
       ]
      },
      {
       "output_type": "stream",
       "stream": "stdout",
       "text": [
        "\n",
        "  1099  |    0.008307  |    0.008597  |     0.966300  |             |  4.4s"
       ]
      },
      {
       "output_type": "stream",
       "stream": "stdout",
       "text": [
        "\n",
        "  1100  |    0.008275  |    0.008567  |     0.965887  |             |  4.4s"
       ]
      },
      {
       "output_type": "stream",
       "stream": "stdout",
       "text": [
        "\n",
        "  1101  |  \u001b[94m  0.008195\u001b[0m  |  \u001b[32m  0.008561\u001b[0m  |     0.957256  |             |  4.4s"
       ]
      },
      {
       "output_type": "stream",
       "stream": "stdout",
       "text": [
        "\n",
        "  1102  |    0.008304  |  \u001b[32m  0.008555\u001b[0m  |     0.970655  |             |  4.4s"
       ]
      },
      {
       "output_type": "stream",
       "stream": "stdout",
       "text": [
        "\n",
        "  1103  |    0.008240  |    0.008614  |     0.956601  |             |  4.4s"
       ]
      },
      {
       "output_type": "stream",
       "stream": "stdout",
       "text": [
        "\n",
        "  1104  |    0.008315  |    0.008587  |     0.968238  |             |  4.4s"
       ]
      },
      {
       "output_type": "stream",
       "stream": "stdout",
       "text": [
        "\n",
        "  1105  |    0.008315  |  \u001b[32m  0.008541\u001b[0m  |     0.973556  |             |  4.4s"
       ]
      },
      {
       "output_type": "stream",
       "stream": "stdout",
       "text": [
        "\n",
        "  1106  |    0.008268  |    0.008581  |     0.963432  |             |  4.4s"
       ]
      },
      {
       "output_type": "stream",
       "stream": "stdout",
       "text": [
        "\n",
        "  1107  |    0.008288  |    0.008582  |     0.965710  |             |  4.4s"
       ]
      },
      {
       "output_type": "stream",
       "stream": "stdout",
       "text": [
        "\n",
        "  1108  |    0.008216  |    0.008545  |     0.961424  |             |  4.4s"
       ]
      },
      {
       "output_type": "stream",
       "stream": "stdout",
       "text": [
        "\n",
        "  1109  |    0.008198  |    0.008576  |     0.955970  |             |  4.4s"
       ]
      },
      {
       "output_type": "stream",
       "stream": "stdout",
       "text": [
        "\n",
        "  1110  |  \u001b[94m  0.008178\u001b[0m  |    0.008542  |     0.957342  |             |  4.4s"
       ]
      },
      {
       "output_type": "stream",
       "stream": "stdout",
       "text": [
        "\n",
        "  1111  |    0.008238  |    0.008544  |     0.964132  |             |  4.4s"
       ]
      },
      {
       "output_type": "stream",
       "stream": "stdout",
       "text": [
        "\n",
        "  1112  |    0.008193  |    0.008554  |     0.957886  |             |  4.4s"
       ]
      },
      {
       "output_type": "stream",
       "stream": "stdout",
       "text": [
        "\n",
        "  1113  |    0.008233  |    0.008572  |     0.960461  |             |  4.4s"
       ]
      },
      {
       "output_type": "stream",
       "stream": "stdout",
       "text": [
        "\n",
        "  1114  |    0.008196  |    0.008564  |     0.957094  |             |  4.4s"
       ]
      },
      {
       "output_type": "stream",
       "stream": "stdout",
       "text": [
        "\n",
        "  1115  |    0.008180  |    0.008542  |     0.957669  |             |  4.4s"
       ]
      },
      {
       "output_type": "stream",
       "stream": "stdout",
       "text": [
        "\n",
        "  1116  |    0.008182  |    0.008560  |     0.955858  |             |  4.4s"
       ]
      },
      {
       "output_type": "stream",
       "stream": "stdout",
       "text": [
        "\n",
        "  1117  |    0.008240  |    0.008542  |     0.964620  |             |  4.4s"
       ]
      },
      {
       "output_type": "stream",
       "stream": "stdout",
       "text": [
        "\n",
        "  1118  |  \u001b[94m  0.008176\u001b[0m  |    0.008544  |     0.956987  |             |  4.4s"
       ]
      },
      {
       "output_type": "stream",
       "stream": "stdout",
       "text": [
        "\n",
        "  1119  |    0.008189  |    0.008547  |     0.958205  |             |  4.4s"
       ]
      },
      {
       "output_type": "stream",
       "stream": "stdout",
       "text": [
        "\n",
        "  1120  |    0.008210  |  \u001b[32m  0.008541\u001b[0m  |     0.961207  |             |  4.4s"
       ]
      },
      {
       "output_type": "stream",
       "stream": "stdout",
       "text": [
        "\n",
        "  1121  |  \u001b[94m  0.008158\u001b[0m  |    0.008547  |     0.954427  |             |  4.4s"
       ]
      },
      {
       "output_type": "stream",
       "stream": "stdout",
       "text": [
        "\n",
        "  1122  |    0.008186  |  \u001b[32m  0.008524\u001b[0m  |     0.960371  |             |  4.4s"
       ]
      },
      {
       "output_type": "stream",
       "stream": "stdout",
       "text": [
        "\n",
        "  1123  |    0.008207  |    0.008536  |     0.961402  |             |  4.4s"
       ]
      },
      {
       "output_type": "stream",
       "stream": "stdout",
       "text": [
        "\n",
        "  1124  |    0.008160  |  \u001b[32m  0.008502\u001b[0m  |     0.959832  |             |  4.4s"
       ]
      },
      {
       "output_type": "stream",
       "stream": "stdout",
       "text": [
        "\n",
        "  1125  |    0.008174  |    0.008543  |     0.956800  |             |  4.4s"
       ]
      },
      {
       "output_type": "stream",
       "stream": "stdout",
       "text": [
        "\n",
        "  1126  |  \u001b[94m  0.007985\u001b[0m  |    0.008504  |     0.938919  |             |  4.4s"
       ]
      },
      {
       "output_type": "stream",
       "stream": "stdout",
       "text": [
        "\n",
        "  1127  |    0.008086  |    0.008521  |     0.948997  |             |  4.4s"
       ]
      },
      {
       "output_type": "stream",
       "stream": "stdout",
       "text": [
        "\n",
        "  1128  |    0.008073  |    0.008516  |     0.948006  |             |  4.4s"
       ]
      },
      {
       "output_type": "stream",
       "stream": "stdout",
       "text": [
        "\n",
        "  1129  |    0.008135  |  \u001b[32m  0.008494\u001b[0m  |     0.957714  |             |  4.4s"
       ]
      },
      {
       "output_type": "stream",
       "stream": "stdout",
       "text": [
        "\n",
        "  1130  |    0.008163  |    0.008510  |     0.959200  |             |  4.4s"
       ]
      },
      {
       "output_type": "stream",
       "stream": "stdout",
       "text": [
        "\n",
        "  1131  |    0.008183  |    0.008509  |     0.961679  |             |  4.4s"
       ]
      },
      {
       "output_type": "stream",
       "stream": "stdout",
       "text": [
        "\n",
        "  1132  |    0.008042  |    0.008521  |     0.943770  |             |  4.4s"
       ]
      },
      {
       "output_type": "stream",
       "stream": "stdout",
       "text": [
        "\n",
        "  1133  |    0.008100  |    0.008522  |     0.950566  |             |  4.4s"
       ]
      },
      {
       "output_type": "stream",
       "stream": "stdout",
       "text": [
        "\n",
        "  1134  |    0.008094  |  \u001b[32m  0.008478\u001b[0m  |     0.954745  |             |  4.4s"
       ]
      },
      {
       "output_type": "stream",
       "stream": "stdout",
       "text": [
        "\n",
        "  1135  |    0.008114  |    0.008515  |     0.952919  |             |  4.4s"
       ]
      },
      {
       "output_type": "stream",
       "stream": "stdout",
       "text": [
        "\n",
        "  1136  |    0.008018  |    0.008546  |     0.938218  |             |  4.4s"
       ]
      },
      {
       "output_type": "stream",
       "stream": "stdout",
       "text": [
        "\n",
        "  1137  |    0.008057  |    0.008509  |     0.946813  |             |  4.4s"
       ]
      },
      {
       "output_type": "stream",
       "stream": "stdout",
       "text": [
        "\n",
        "  1138  |    0.008099  |    0.008479  |     0.955212  |             |  4.4s"
       ]
      },
      {
       "output_type": "stream",
       "stream": "stdout",
       "text": [
        "\n",
        "  1139  |    0.008069  |    0.008490  |     0.950429  |             |  4.4s"
       ]
      },
      {
       "output_type": "stream",
       "stream": "stdout",
       "text": [
        "\n",
        "  1140  |    0.008039  |    0.008511  |     0.944526  |             |  4.4s"
       ]
      },
      {
       "output_type": "stream",
       "stream": "stdout",
       "text": [
        "\n",
        "  1141  |    0.008084  |    0.008496  |     0.951528  |             |  4.4s"
       ]
      },
      {
       "output_type": "stream",
       "stream": "stdout",
       "text": [
        "\n",
        "  1142  |    0.008060  |    0.008491  |     0.949231  |             |  4.4s"
       ]
      },
      {
       "output_type": "stream",
       "stream": "stdout",
       "text": [
        "\n",
        "  1143  |    0.008066  |  \u001b[32m  0.008478\u001b[0m  |     0.951391  |             |  4.4s"
       ]
      },
      {
       "output_type": "stream",
       "stream": "stdout",
       "text": [
        "\n",
        "  1144  |    0.008092  |    0.008498  |     0.952251  |             |  4.4s"
       ]
      },
      {
       "output_type": "stream",
       "stream": "stdout",
       "text": [
        "\n",
        "  1145  |    0.007987  |    0.008499  |     0.939801  |             |  4.4s"
       ]
      },
      {
       "output_type": "stream",
       "stream": "stdout",
       "text": [
        "\n",
        "  1146  |    0.008094  |  \u001b[32m  0.008460\u001b[0m  |     0.956748  |             |  4.4s"
       ]
      },
      {
       "output_type": "stream",
       "stream": "stdout",
       "text": [
        "\n",
        "  1147  |  \u001b[94m  0.007960\u001b[0m  |    0.008474  |     0.939415  |             |  4.4s"
       ]
      },
      {
       "output_type": "stream",
       "stream": "stdout",
       "text": [
        "\n",
        "  1148  |    0.007992  |    0.008477  |     0.942795  |             |  4.4s"
       ]
      },
      {
       "output_type": "stream",
       "stream": "stdout",
       "text": [
        "\n",
        "  1149  |    0.008041  |    0.008489  |     0.947262  |             |  4.4s"
       ]
      },
      {
       "output_type": "stream",
       "stream": "stdout",
       "text": [
        "\n",
        "  1150  |  \u001b[94m  0.007960\u001b[0m  |    0.008463  |     0.940576  |             |  4.4s"
       ]
      },
      {
       "output_type": "stream",
       "stream": "stdout",
       "text": [
        "\n",
        "  1151  |    0.007998  |    0.008486  |     0.942446  |             |  4.4s"
       ]
      },
      {
       "output_type": "stream",
       "stream": "stdout",
       "text": [
        "\n",
        "  1152  |    0.007977  |  \u001b[32m  0.008435\u001b[0m  |     0.945707  |             |  4.4s"
       ]
      },
      {
       "output_type": "stream",
       "stream": "stdout",
       "text": [
        "\n",
        "  1153  |  \u001b[94m  0.007938\u001b[0m  |    0.008467  |     0.937435  |             |  4.4s"
       ]
      },
      {
       "output_type": "stream",
       "stream": "stdout",
       "text": [
        "\n",
        "  1154  |  \u001b[94m  0.007903\u001b[0m  |    0.008474  |     0.932643  |             |  4.4s"
       ]
      },
      {
       "output_type": "stream",
       "stream": "stdout",
       "text": [
        "\n",
        "  1155  |  \u001b[94m  0.007898\u001b[0m  |    0.008466  |     0.932861  |             |  4.4s"
       ]
      },
      {
       "output_type": "stream",
       "stream": "stdout",
       "text": [
        "\n",
        "  1156  |    0.007967  |    0.008476  |     0.939972  |             |  4.4s"
       ]
      },
      {
       "output_type": "stream",
       "stream": "stdout",
       "text": [
        "\n",
        "  1157  |    0.007912  |    0.008448  |     0.936526  |             |  4.4s"
       ]
      },
      {
       "output_type": "stream",
       "stream": "stdout",
       "text": [
        "\n",
        "  1158  |    0.007916  |    0.008497  |     0.931710  |             |  4.4s"
       ]
      },
      {
       "output_type": "stream",
       "stream": "stdout",
       "text": [
        "\n",
        "  1159  |    0.007959  |    0.008445  |     0.942447  |             |  4.4s"
       ]
      },
      {
       "output_type": "stream",
       "stream": "stdout",
       "text": [
        "\n",
        "  1160  |  \u001b[94m  0.007863\u001b[0m  |    0.008448  |     0.930771  |             |  4.4s"
       ]
      },
      {
       "output_type": "stream",
       "stream": "stdout",
       "text": [
        "\n",
        "  1161  |    0.007917  |    0.008484  |     0.933186  |             |  4.4s"
       ]
      },
      {
       "output_type": "stream",
       "stream": "stdout",
       "text": [
        "\n",
        "  1162  |    0.007886  |    0.008463  |     0.931831  |             |  4.4s"
       ]
      },
      {
       "output_type": "stream",
       "stream": "stdout",
       "text": [
        "\n",
        "  1163  |    0.007933  |    0.008463  |     0.937337  |             |  4.4s"
       ]
      },
      {
       "output_type": "stream",
       "stream": "stdout",
       "text": [
        "\n",
        "  1164  |    0.007898  |    0.008455  |     0.934189  |             |  4.4s"
       ]
      },
      {
       "output_type": "stream",
       "stream": "stdout",
       "text": [
        "\n",
        "  1165  |    0.007973  |    0.008443  |     0.944358  |             |  4.4s"
       ]
      },
      {
       "output_type": "stream",
       "stream": "stdout",
       "text": [
        "\n",
        "  1166  |    0.007951  |    0.008454  |     0.940524  |             |  4.4s"
       ]
      },
      {
       "output_type": "stream",
       "stream": "stdout",
       "text": [
        "\n",
        "  1167  |    0.007886  |  \u001b[32m  0.008423\u001b[0m  |     0.936319  |             |  4.4s"
       ]
      },
      {
       "output_type": "stream",
       "stream": "stdout",
       "text": [
        "\n",
        "  1168  |    0.007906  |    0.008432  |     0.937655  |             |  4.4s"
       ]
      },
      {
       "output_type": "stream",
       "stream": "stdout",
       "text": [
        "\n",
        "  1169  |    0.007918  |    0.008449  |     0.937150  |             |  4.4s"
       ]
      },
      {
       "output_type": "stream",
       "stream": "stdout",
       "text": [
        "\n",
        "  1170  |    0.007868  |    0.008445  |     0.931648  |             |  4.4s"
       ]
      },
      {
       "output_type": "stream",
       "stream": "stdout",
       "text": [
        "\n",
        "  1171  |    0.007876  |  \u001b[32m  0.008420\u001b[0m  |     0.935367  |             |  4.4s"
       ]
      },
      {
       "output_type": "stream",
       "stream": "stdout",
       "text": [
        "\n",
        "  1172  |    0.007929  |  \u001b[32m  0.008406\u001b[0m  |     0.943173  |             |  4.4s"
       ]
      },
      {
       "output_type": "stream",
       "stream": "stdout",
       "text": [
        "\n",
        "  1173  |    0.007927  |  \u001b[32m  0.008401\u001b[0m  |     0.943561  |             |  4.4s"
       ]
      },
      {
       "output_type": "stream",
       "stream": "stdout",
       "text": [
        "\n",
        "  1174  |  \u001b[94m  0.007855\u001b[0m  |    0.008420  |     0.932922  |             |  4.4s"
       ]
      },
      {
       "output_type": "stream",
       "stream": "stdout",
       "text": [
        "\n",
        "  1175  |    0.007876  |    0.008413  |     0.936153  |             |  4.4s"
       ]
      },
      {
       "output_type": "stream",
       "stream": "stdout",
       "text": [
        "\n",
        "  1176  |    0.007862  |    0.008415  |     0.934245  |             |  4.4s"
       ]
      },
      {
       "output_type": "stream",
       "stream": "stdout",
       "text": [
        "\n",
        "  1177  |  \u001b[94m  0.007761\u001b[0m  |  \u001b[32m  0.008399\u001b[0m  |     0.923966  |             |  4.4s"
       ]
      },
      {
       "output_type": "stream",
       "stream": "stdout",
       "text": [
        "\n",
        "  1178  |    0.007816  |  \u001b[32m  0.008398\u001b[0m  |     0.930645  |             |  4.4s"
       ]
      },
      {
       "output_type": "stream",
       "stream": "stdout",
       "text": [
        "\n",
        "  1179  |    0.007882  |    0.008408  |     0.937464  |             |  4.4s"
       ]
      },
      {
       "output_type": "stream",
       "stream": "stdout",
       "text": [
        "\n",
        "  1180  |    0.007769  |    0.008403  |     0.924553  |             |  4.4s"
       ]
      },
      {
       "output_type": "stream",
       "stream": "stdout",
       "text": [
        "\n",
        "  1181  |    0.007770  |    0.008417  |     0.923132  |             |  4.4s"
       ]
      },
      {
       "output_type": "stream",
       "stream": "stdout",
       "text": [
        "\n",
        "  1182  |    0.007831  |  \u001b[32m  0.008396\u001b[0m  |     0.932680  |             |  4.4s"
       ]
      },
      {
       "output_type": "stream",
       "stream": "stdout",
       "text": [
        "\n",
        "  1183  |    0.007805  |  \u001b[32m  0.008380\u001b[0m  |     0.931424  |             |  4.4s"
       ]
      },
      {
       "output_type": "stream",
       "stream": "stdout",
       "text": [
        "\n",
        "  1184  |    0.007799  |    0.008384  |     0.930276  |             |  4.4s"
       ]
      },
      {
       "output_type": "stream",
       "stream": "stdout",
       "text": [
        "\n",
        "  1185  |    0.007792  |    0.008408  |     0.926820  |             |  4.4s"
       ]
      },
      {
       "output_type": "stream",
       "stream": "stdout",
       "text": [
        "\n",
        "  1186  |  \u001b[94m  0.007709\u001b[0m  |    0.008403  |     0.917479  |             |  4.4s"
       ]
      },
      {
       "output_type": "stream",
       "stream": "stdout",
       "text": [
        "\n",
        "  1187  |    0.007741  |  \u001b[32m  0.008374\u001b[0m  |     0.924359  |             |  4.4s"
       ]
      },
      {
       "output_type": "stream",
       "stream": "stdout",
       "text": [
        "\n",
        "  1188  |    0.007717  |  \u001b[32m  0.008369\u001b[0m  |     0.922085  |             |  4.4s"
       ]
      },
      {
       "output_type": "stream",
       "stream": "stdout",
       "text": [
        "\n",
        "  1189  |    0.007749  |    0.008404  |     0.922066  |             |  4.4s"
       ]
      },
      {
       "output_type": "stream",
       "stream": "stdout",
       "text": [
        "\n",
        "  1190  |    0.007832  |    0.008402  |     0.932181  |             |  4.4s"
       ]
      },
      {
       "output_type": "stream",
       "stream": "stdout",
       "text": [
        "\n",
        "  1191  |    0.007755  |    0.008376  |     0.925858  |             |  4.4s"
       ]
      },
      {
       "output_type": "stream",
       "stream": "stdout",
       "text": [
        "\n",
        "  1192  |  \u001b[94m  0.007664\u001b[0m  |    0.008402  |     0.912157  |             |  4.4s"
       ]
      },
      {
       "output_type": "stream",
       "stream": "stdout",
       "text": [
        "\n",
        "  1193  |    0.007732  |    0.008391  |     0.921488  |             |  4.4s"
       ]
      },
      {
       "output_type": "stream",
       "stream": "stdout",
       "text": [
        "\n",
        "  1194  |    0.007709  |    0.008391  |     0.918711  |             |  4.4s"
       ]
      },
      {
       "output_type": "stream",
       "stream": "stdout",
       "text": [
        "\n",
        "  1195  |    0.007698  |    0.008373  |     0.919302  |             |  4.4s"
       ]
      },
      {
       "output_type": "stream",
       "stream": "stdout",
       "text": [
        "\n",
        "  1196  |    0.007699  |  \u001b[32m  0.008364\u001b[0m  |     0.920483  |             |  4.4s"
       ]
      },
      {
       "output_type": "stream",
       "stream": "stdout",
       "text": [
        "\n",
        "  1197  |    0.007699  |    0.008381  |     0.918559  |             |  4.4s"
       ]
      },
      {
       "output_type": "stream",
       "stream": "stdout",
       "text": [
        "\n",
        "  1198  |    0.007769  |  \u001b[32m  0.008350\u001b[0m  |     0.930357  |             |  4.4s"
       ]
      },
      {
       "output_type": "stream",
       "stream": "stdout",
       "text": [
        "\n",
        "  1199  |  \u001b[94m  0.007654\u001b[0m  |    0.008397  |     0.911510  |             |  4.4s"
       ]
      },
      {
       "output_type": "stream",
       "stream": "stdout",
       "text": [
        "\n",
        "  1200  |    0.007704  |    0.008363  |     0.921128  |             |  4.4s"
       ]
      },
      {
       "output_type": "stream",
       "stream": "stdout",
       "text": [
        "\n",
        "  1201  |    0.007682  |    0.008366  |     0.918183  |             |  4.4s"
       ]
      },
      {
       "output_type": "stream",
       "stream": "stdout",
       "text": [
        "\n",
        "  1202  |    0.007745  |    0.008353  |     0.927246  |             |  4.4s"
       ]
      },
      {
       "output_type": "stream",
       "stream": "stdout",
       "text": [
        "\n",
        "  1203  |    0.007658  |    0.008370  |     0.914901  |             |  4.4s"
       ]
      },
      {
       "output_type": "stream",
       "stream": "stdout",
       "text": [
        "\n",
        "  1204  |    0.007738  |    0.008370  |     0.924428  |             |  4.4s"
       ]
      },
      {
       "output_type": "stream",
       "stream": "stdout",
       "text": [
        "\n",
        "  1205  |    0.007732  |    0.008377  |     0.923069  |             |  4.4s"
       ]
      },
      {
       "output_type": "stream",
       "stream": "stdout",
       "text": [
        "\n",
        "  1206  |    0.007672  |    0.008375  |     0.916058  |             |  4.4s"
       ]
      },
      {
       "output_type": "stream",
       "stream": "stdout",
       "text": [
        "\n",
        "  1207  |  \u001b[94m  0.007613\u001b[0m  |    0.008361  |     0.910583  |             |  4.4s"
       ]
      },
      {
       "output_type": "stream",
       "stream": "stdout",
       "text": [
        "\n",
        "  1208  |  \u001b[94m  0.007603\u001b[0m  |  \u001b[32m  0.008308\u001b[0m  |     0.915163  |             |  4.4s"
       ]
      },
      {
       "output_type": "stream",
       "stream": "stdout",
       "text": [
        "\n",
        "  1209  |    0.007622  |    0.008343  |     0.913583  |             |  4.4s"
       ]
      },
      {
       "output_type": "stream",
       "stream": "stdout",
       "text": [
        "\n",
        "  1210  |    0.007632  |    0.008341  |     0.914993  |             |  4.4s"
       ]
      },
      {
       "output_type": "stream",
       "stream": "stdout",
       "text": [
        "\n",
        "  1211  |    0.007609  |    0.008346  |     0.911686  |             |  4.4s"
       ]
      },
      {
       "output_type": "stream",
       "stream": "stdout",
       "text": [
        "\n",
        "  1212  |  \u001b[94m  0.007599\u001b[0m  |    0.008365  |     0.908459  |             |  4.4s"
       ]
      },
      {
       "output_type": "stream",
       "stream": "stdout",
       "text": [
        "\n",
        "  1213  |    0.007641  |    0.008335  |     0.916647  |             |  4.4s"
       ]
      },
      {
       "output_type": "stream",
       "stream": "stdout",
       "text": [
        "\n",
        "  1214  |    0.007681  |    0.008321  |     0.923104  |             |  4.4s"
       ]
      },
      {
       "output_type": "stream",
       "stream": "stdout",
       "text": [
        "\n",
        "  1215  |    0.007659  |    0.008324  |     0.920108  |             |  4.4s"
       ]
      },
      {
       "output_type": "stream",
       "stream": "stdout",
       "text": [
        "\n",
        "  1216  |    0.007637  |    0.008357  |     0.913825  |             |  4.4s"
       ]
      },
      {
       "output_type": "stream",
       "stream": "stdout",
       "text": [
        "\n",
        "  1217  |    0.007648  |    0.008351  |     0.915725  |             |  4.4s"
       ]
      },
      {
       "output_type": "stream",
       "stream": "stdout",
       "text": [
        "\n",
        "  1218  |    0.007650  |    0.008324  |     0.919006  |             |  4.4s"
       ]
      },
      {
       "output_type": "stream",
       "stream": "stdout",
       "text": [
        "\n",
        "  1219  |  \u001b[94m  0.007595\u001b[0m  |    0.008329  |     0.911857  |             |  4.4s"
       ]
      },
      {
       "output_type": "stream",
       "stream": "stdout",
       "text": [
        "\n",
        "  1220  |    0.007641  |  \u001b[32m  0.008298\u001b[0m  |     0.920765  |             |  4.4s"
       ]
      },
      {
       "output_type": "stream",
       "stream": "stdout",
       "text": [
        "\n",
        "  1221  |    0.007653  |    0.008306  |     0.921419  |             |  4.4s"
       ]
      },
      {
       "output_type": "stream",
       "stream": "stdout",
       "text": [
        "\n",
        "  1222  |  \u001b[94m  0.007548\u001b[0m  |    0.008320  |     0.907193  |             |  4.4s"
       ]
      },
      {
       "output_type": "stream",
       "stream": "stdout",
       "text": [
        "\n",
        "  1223  |    0.007596  |    0.008323  |     0.912683  |             |  4.4s"
       ]
      },
      {
       "output_type": "stream",
       "stream": "stdout",
       "text": [
        "\n",
        "  1224  |    0.007576  |    0.008316  |     0.911038  |             |  4.4s"
       ]
      },
      {
       "output_type": "stream",
       "stream": "stdout",
       "text": [
        "\n",
        "  1225  |  \u001b[94m  0.007543\u001b[0m  |    0.008310  |     0.907794  |             |  4.4s"
       ]
      },
      {
       "output_type": "stream",
       "stream": "stdout",
       "text": [
        "\n",
        "  1226  |    0.007578  |  \u001b[32m  0.008289\u001b[0m  |     0.914193  |             |  4.4s"
       ]
      },
      {
       "output_type": "stream",
       "stream": "stdout",
       "text": [
        "\n",
        "  1227  |  \u001b[94m  0.007503\u001b[0m  |  \u001b[32m  0.008275\u001b[0m  |     0.906725  |             |  4.4s"
       ]
      },
      {
       "output_type": "stream",
       "stream": "stdout",
       "text": [
        "\n",
        "  1228  |    0.007547  |    0.008293  |     0.910093  |             |  4.4s"
       ]
      },
      {
       "output_type": "stream",
       "stream": "stdout",
       "text": [
        "\n",
        "  1229  |    0.007569  |    0.008301  |     0.911846  |             |  4.4s"
       ]
      },
      {
       "output_type": "stream",
       "stream": "stdout",
       "text": [
        "\n",
        "  1230  |    0.007594  |    0.008336  |     0.910996  |             |  4.4s"
       ]
      },
      {
       "output_type": "stream",
       "stream": "stdout",
       "text": [
        "\n",
        "  1231  |  \u001b[94m  0.007502\u001b[0m  |    0.008295  |     0.904484  |             |  4.4s"
       ]
      },
      {
       "output_type": "stream",
       "stream": "stdout",
       "text": [
        "\n",
        "  1232  |    0.007617  |    0.008309  |     0.916775  |             |  4.4s"
       ]
      },
      {
       "output_type": "stream",
       "stream": "stdout",
       "text": [
        "\n",
        "  1233  |    0.007584  |    0.008319  |     0.911669  |             |  4.4s"
       ]
      },
      {
       "output_type": "stream",
       "stream": "stdout",
       "text": [
        "\n",
        "  1234  |    0.007544  |    0.008321  |     0.906634  |             |  4.4s"
       ]
      },
      {
       "output_type": "stream",
       "stream": "stdout",
       "text": [
        "\n",
        "  1235  |    0.007515  |    0.008298  |     0.905590  |             |  4.4s"
       ]
      },
      {
       "output_type": "stream",
       "stream": "stdout",
       "text": [
        "\n",
        "  1236  |  \u001b[94m  0.007495\u001b[0m  |    0.008301  |     0.902918  |             |  4.4s"
       ]
      },
      {
       "output_type": "stream",
       "stream": "stdout",
       "text": [
        "\n",
        "  1237  |    0.007537  |    0.008300  |     0.908020  |             |  4.4s"
       ]
      },
      {
       "output_type": "stream",
       "stream": "stdout",
       "text": [
        "\n",
        "  1238  |    0.007566  |  \u001b[32m  0.008260\u001b[0m  |     0.916037  |             |  4.4s"
       ]
      },
      {
       "output_type": "stream",
       "stream": "stdout",
       "text": [
        "\n",
        "  1239  |  \u001b[94m  0.007458\u001b[0m  |    0.008299  |     0.898644  |             |  4.4s"
       ]
      },
      {
       "output_type": "stream",
       "stream": "stdout",
       "text": [
        "\n",
        "  1240  |    0.007578  |    0.008292  |     0.913883  |             |  4.4s"
       ]
      },
      {
       "output_type": "stream",
       "stream": "stdout",
       "text": [
        "\n",
        "  1241  |    0.007501  |    0.008287  |     0.905173  |             |  4.4s"
       ]
      },
      {
       "output_type": "stream",
       "stream": "stdout",
       "text": [
        "\n",
        "  1242  |    0.007574  |    0.008280  |     0.914659  |             |  4.4s"
       ]
      },
      {
       "output_type": "stream",
       "stream": "stdout",
       "text": [
        "\n",
        "  1243  |  \u001b[94m  0.007435\u001b[0m  |    0.008292  |     0.896592  |             |  4.4s"
       ]
      },
      {
       "output_type": "stream",
       "stream": "stdout",
       "text": [
        "\n",
        "  1244  |    0.007494  |    0.008306  |     0.902241  |             |  4.4s"
       ]
      },
      {
       "output_type": "stream",
       "stream": "stdout",
       "text": [
        "\n",
        "  1245  |    0.007453  |    0.008290  |     0.898995  |             |  4.4s"
       ]
      },
      {
       "output_type": "stream",
       "stream": "stdout",
       "text": [
        "\n",
        "  1246  |    0.007537  |    0.008294  |     0.908705  |             |  4.4s"
       ]
      },
      {
       "output_type": "stream",
       "stream": "stdout",
       "text": [
        "\n",
        "  1247  |    0.007479  |    0.008285  |     0.902754  |             |  4.4s"
       ]
      },
      {
       "output_type": "stream",
       "stream": "stdout",
       "text": [
        "\n",
        "  1248  |  \u001b[94m  0.007345\u001b[0m  |    0.008287  |     0.886305  |             |  4.4s"
       ]
      },
      {
       "output_type": "stream",
       "stream": "stdout",
       "text": [
        "\n",
        "  1249  |    0.007472  |    0.008302  |     0.900064  |             |  4.4s"
       ]
      },
      {
       "output_type": "stream",
       "stream": "stdout",
       "text": [
        "\n",
        "  1250  |    0.007451  |    0.008287  |     0.899183  |             |  4.4s"
       ]
      },
      {
       "output_type": "stream",
       "stream": "stdout",
       "text": [
        "\n",
        "  1251  |    0.007426  |    0.008269  |     0.898088  |             |  4.4s"
       ]
      },
      {
       "output_type": "stream",
       "stream": "stdout",
       "text": [
        "\n",
        "  1252  |    0.007364  |    0.008279  |     0.889414  |             |  4.4s"
       ]
      },
      {
       "output_type": "stream",
       "stream": "stdout",
       "text": [
        "\n",
        "  1253  |    0.007477  |    0.008271  |     0.904084  |             |  4.4s"
       ]
      },
      {
       "output_type": "stream",
       "stream": "stdout",
       "text": [
        "\n",
        "  1254  |    0.007428  |    0.008265  |     0.898751  |             |  4.4s"
       ]
      },
      {
       "output_type": "stream",
       "stream": "stdout",
       "text": [
        "\n",
        "  1255  |    0.007416  |  \u001b[32m  0.008237\u001b[0m  |     0.900433  |             |  4.4s"
       ]
      },
      {
       "output_type": "stream",
       "stream": "stdout",
       "text": [
        "\n",
        "  1256  |    0.007360  |    0.008250  |     0.892087  |             |  4.4s"
       ]
      },
      {
       "output_type": "stream",
       "stream": "stdout",
       "text": [
        "\n",
        "  1257  |    0.007487  |    0.008272  |     0.905145  |             |  4.4s"
       ]
      },
      {
       "output_type": "stream",
       "stream": "stdout",
       "text": [
        "\n",
        "  1258  |    0.007438  |    0.008250  |     0.901566  |             |  4.4s"
       ]
      },
      {
       "output_type": "stream",
       "stream": "stdout",
       "text": [
        "\n",
        "  1259  |    0.007382  |    0.008257  |     0.893937  |             |  4.4s"
       ]
      },
      {
       "output_type": "stream",
       "stream": "stdout",
       "text": [
        "\n",
        "  1260  |  \u001b[94m  0.007271\u001b[0m  |    0.008266  |     0.879692  |             |  4.4s"
       ]
      },
      {
       "output_type": "stream",
       "stream": "stdout",
       "text": [
        "\n",
        "  1261  |    0.007380  |    0.008249  |     0.894694  |             |  4.4s"
       ]
      },
      {
       "output_type": "stream",
       "stream": "stdout",
       "text": [
        "\n",
        "  1262  |    0.007396  |    0.008273  |     0.894044  |             |  4.4s"
       ]
      },
      {
       "output_type": "stream",
       "stream": "stdout",
       "text": [
        "\n",
        "  1263  |    0.007318  |    0.008246  |     0.887497  |             |  4.4s"
       ]
      },
      {
       "output_type": "stream",
       "stream": "stdout",
       "text": [
        "\n",
        "  1264  |    0.007340  |    0.008246  |     0.890087  |             |  4.4s"
       ]
      },
      {
       "output_type": "stream",
       "stream": "stdout",
       "text": [
        "\n",
        "  1265  |    0.007358  |    0.008264  |     0.890342  |             |  4.4s"
       ]
      },
      {
       "output_type": "stream",
       "stream": "stdout",
       "text": [
        "\n",
        "  1266  |    0.007315  |    0.008270  |     0.884590  |             |  4.4s"
       ]
      },
      {
       "output_type": "stream",
       "stream": "stdout",
       "text": [
        "\n",
        "  1267  |    0.007373  |    0.008259  |     0.892676  |             |  4.4s"
       ]
      },
      {
       "output_type": "stream",
       "stream": "stdout",
       "text": [
        "\n",
        "  1268  |    0.007344  |    0.008247  |     0.890505  |             |  4.4s"
       ]
      },
      {
       "output_type": "stream",
       "stream": "stdout",
       "text": [
        "\n",
        "  1269  |    0.007352  |  \u001b[32m  0.008220\u001b[0m  |     0.894368  |             |  4.4s"
       ]
      },
      {
       "output_type": "stream",
       "stream": "stdout",
       "text": [
        "\n",
        "  1270  |  \u001b[94m  0.007266\u001b[0m  |    0.008237  |     0.882128  |             |  4.4s"
       ]
      },
      {
       "output_type": "stream",
       "stream": "stdout",
       "text": [
        "\n",
        "  1271  |    0.007295  |    0.008232  |     0.886165  |             |  4.4s"
       ]
      },
      {
       "output_type": "stream",
       "stream": "stdout",
       "text": [
        "\n",
        "  1272  |    0.007301  |    0.008238  |     0.886279  |             |  4.4s"
       ]
      },
      {
       "output_type": "stream",
       "stream": "stdout",
       "text": [
        "\n",
        "  1273  |    0.007300  |    0.008263  |     0.883461  |             |  4.4s"
       ]
      },
      {
       "output_type": "stream",
       "stream": "stdout",
       "text": [
        "\n",
        "  1274  |  \u001b[94m  0.007180\u001b[0m  |    0.008259  |     0.869313  |             |  4.4s"
       ]
      },
      {
       "output_type": "stream",
       "stream": "stdout",
       "text": [
        "\n",
        "  1275  |    0.007289  |    0.008235  |     0.885067  |             |  4.4s"
       ]
      },
      {
       "output_type": "stream",
       "stream": "stdout",
       "text": [
        "\n",
        "  1276  |    0.007345  |    0.008231  |     0.892312  |             |  4.4s"
       ]
      },
      {
       "output_type": "stream",
       "stream": "stdout",
       "text": [
        "\n",
        "  1277  |    0.007348  |    0.008233  |     0.892464  |             |  4.4s"
       ]
      },
      {
       "output_type": "stream",
       "stream": "stdout",
       "text": [
        "\n",
        "  1278  |    0.007315  |    0.008229  |     0.888938  |             |  4.4s"
       ]
      },
      {
       "output_type": "stream",
       "stream": "stdout",
       "text": [
        "\n",
        "  1279  |    0.007286  |    0.008237  |     0.884611  |             |  4.4s"
       ]
      },
      {
       "output_type": "stream",
       "stream": "stdout",
       "text": [
        "\n",
        "  1280  |    0.007234  |  \u001b[32m  0.008193\u001b[0m  |     0.882948  |             |  4.4s"
       ]
      },
      {
       "output_type": "stream",
       "stream": "stdout",
       "text": [
        "\n",
        "  1281  |    0.007314  |    0.008226  |     0.889142  |             |  4.4s"
       ]
      },
      {
       "output_type": "stream",
       "stream": "stdout",
       "text": [
        "\n",
        "  1282  |    0.007239  |    0.008223  |     0.880389  |             |  4.4s"
       ]
      },
      {
       "output_type": "stream",
       "stream": "stdout",
       "text": [
        "\n",
        "  1283  |    0.007205  |    0.008231  |     0.875373  |             |  4.4s"
       ]
      },
      {
       "output_type": "stream",
       "stream": "stdout",
       "text": [
        "\n",
        "  1284  |    0.007280  |    0.008238  |     0.883695  |             |  4.4s"
       ]
      },
      {
       "output_type": "stream",
       "stream": "stdout",
       "text": [
        "\n",
        "  1285  |    0.007273  |  \u001b[32m  0.008171\u001b[0m  |     0.890006  |             |  4.4s"
       ]
      },
      {
       "output_type": "stream",
       "stream": "stdout",
       "text": [
        "\n",
        "  1286  |    0.007297  |    0.008179  |     0.892193  |             |  4.4s"
       ]
      },
      {
       "output_type": "stream",
       "stream": "stdout",
       "text": [
        "\n",
        "  1287  |    0.007276  |    0.008213  |     0.885920  |             |  4.4s"
       ]
      },
      {
       "output_type": "stream",
       "stream": "stdout",
       "text": [
        "\n",
        "  1288  |  \u001b[94m  0.007164\u001b[0m  |    0.008210  |     0.872647  |             |  4.4s"
       ]
      },
      {
       "output_type": "stream",
       "stream": "stdout",
       "text": [
        "\n",
        "  1289  |    0.007231  |    0.008225  |     0.879221  |             |  4.4s"
       ]
      },
      {
       "output_type": "stream",
       "stream": "stdout",
       "text": [
        "\n",
        "  1290  |    0.007291  |    0.008255  |     0.883278  |             |  4.4s"
       ]
      },
      {
       "output_type": "stream",
       "stream": "stdout",
       "text": [
        "\n",
        "  1291  |    0.007194  |    0.008219  |     0.875245  |             |  4.4s"
       ]
      },
      {
       "output_type": "stream",
       "stream": "stdout",
       "text": [
        "\n",
        "  1292  |    0.007247  |    0.008199  |     0.883912  |             |  4.4s"
       ]
      },
      {
       "output_type": "stream",
       "stream": "stdout",
       "text": [
        "\n",
        "  1293  |    0.007171  |    0.008203  |     0.874163  |             |  4.4s"
       ]
      },
      {
       "output_type": "stream",
       "stream": "stdout",
       "text": [
        "\n",
        "  1294  |    0.007259  |    0.008211  |     0.884072  |             |  4.4s"
       ]
      },
      {
       "output_type": "stream",
       "stream": "stdout",
       "text": [
        "\n",
        "  1295  |    0.007174  |    0.008190  |     0.875931  |             |  4.4s"
       ]
      },
      {
       "output_type": "stream",
       "stream": "stdout",
       "text": [
        "\n",
        "  1296  |  \u001b[94m  0.007158\u001b[0m  |    0.008210  |     0.871872  |             |  4.4s"
       ]
      },
      {
       "output_type": "stream",
       "stream": "stdout",
       "text": [
        "\n",
        "  1297  |  \u001b[94m  0.007117\u001b[0m  |    0.008187  |     0.869404  |             |  4.4s"
       ]
      },
      {
       "output_type": "stream",
       "stream": "stdout",
       "text": [
        "\n",
        "  1298  |    0.007178  |    0.008206  |     0.874823  |             |  4.4s"
       ]
      },
      {
       "output_type": "stream",
       "stream": "stdout",
       "text": [
        "\n",
        "  1299  |    0.007199  |    0.008227  |     0.875114  |             |  4.4s"
       ]
      },
      {
       "output_type": "stream",
       "stream": "stdout",
       "text": [
        "\n",
        "  1300  |    0.007198  |    0.008190  |     0.878910  |             |  4.4s"
       ]
      },
      {
       "output_type": "stream",
       "stream": "stdout",
       "text": [
        "\n",
        "  1301  |    0.007224  |    0.008191  |     0.881948  |             |  4.4s"
       ]
      },
      {
       "output_type": "stream",
       "stream": "stdout",
       "text": [
        "\n",
        "  1302  |    0.007194  |    0.008190  |     0.878406  |             |  4.4s"
       ]
      },
      {
       "output_type": "stream",
       "stream": "stdout",
       "text": [
        "\n",
        "  1303  |    0.007145  |    0.008187  |     0.872687  |             |  4.4s"
       ]
      },
      {
       "output_type": "stream",
       "stream": "stdout",
       "text": [
        "\n",
        "  1304  |    0.007183  |  \u001b[32m  0.008163\u001b[0m  |     0.879950  |             |  4.4s"
       ]
      },
      {
       "output_type": "stream",
       "stream": "stdout",
       "text": [
        "\n",
        "  1305  |    0.007150  |    0.008179  |     0.874171  |             |  4.4s"
       ]
      },
      {
       "output_type": "stream",
       "stream": "stdout",
       "text": [
        "\n",
        "  1306  |    0.007133  |    0.008186  |     0.871356  |             |  4.4s"
       ]
      },
      {
       "output_type": "stream",
       "stream": "stdout",
       "text": [
        "\n",
        "  1307  |  \u001b[94m  0.007106\u001b[0m  |    0.008173  |     0.869396  |             |  4.4s"
       ]
      },
      {
       "output_type": "stream",
       "stream": "stdout",
       "text": [
        "\n",
        "  1308  |  \u001b[94m  0.007057\u001b[0m  |    0.008180  |     0.862726  |             |  4.4s"
       ]
      },
      {
       "output_type": "stream",
       "stream": "stdout",
       "text": [
        "\n",
        "  1309  |    0.007127  |    0.008172  |     0.872154  |             |  4.4s"
       ]
      },
      {
       "output_type": "stream",
       "stream": "stdout",
       "text": [
        "\n",
        "  1310  |    0.007170  |    0.008183  |     0.876159  |             |  4.4s"
       ]
      },
      {
       "output_type": "stream",
       "stream": "stdout",
       "text": [
        "\n",
        "  1311  |    0.007094  |    0.008170  |     0.868343  |             |  4.4s"
       ]
      },
      {
       "output_type": "stream",
       "stream": "stdout",
       "text": [
        "\n",
        "  1312  |    0.007136  |    0.008187  |     0.871663  |             |  4.4s"
       ]
      },
      {
       "output_type": "stream",
       "stream": "stdout",
       "text": [
        "\n",
        "  1313  |    0.007082  |    0.008181  |     0.865667  |             |  4.4s"
       ]
      },
      {
       "output_type": "stream",
       "stream": "stdout",
       "text": [
        "\n",
        "  1314  |    0.007116  |    0.008178  |     0.870106  |             |  4.4s"
       ]
      },
      {
       "output_type": "stream",
       "stream": "stdout",
       "text": [
        "\n",
        "  1315  |    0.007161  |    0.008185  |     0.874883  |             |  4.4s"
       ]
      },
      {
       "output_type": "stream",
       "stream": "stdout",
       "text": [
        "\n",
        "  1316  |    0.007091  |  \u001b[32m  0.008153\u001b[0m  |     0.869708  |             |  4.4s"
       ]
      },
      {
       "output_type": "stream",
       "stream": "stdout",
       "text": [
        "\n",
        "  1317  |    0.007170  |    0.008180  |     0.876603  |             |  4.4s"
       ]
      },
      {
       "output_type": "stream",
       "stream": "stdout",
       "text": [
        "\n",
        "  1318  |    0.007088  |    0.008164  |     0.868272  |             |  4.4s"
       ]
      },
      {
       "output_type": "stream",
       "stream": "stdout",
       "text": [
        "\n",
        "  1319  |    0.007100  |    0.008173  |     0.868709  |             |  4.4s"
       ]
      },
      {
       "output_type": "stream",
       "stream": "stdout",
       "text": [
        "\n",
        "  1320  |    0.007123  |    0.008178  |     0.870976  |             |  4.4s"
       ]
      },
      {
       "output_type": "stream",
       "stream": "stdout",
       "text": [
        "\n",
        "  1321  |    0.007070  |  \u001b[32m  0.008146\u001b[0m  |     0.867919  |             |  4.4s"
       ]
      },
      {
       "output_type": "stream",
       "stream": "stdout",
       "text": [
        "\n",
        "  1322  |    0.007077  |    0.008165  |     0.866721  |             |  4.4s"
       ]
      },
      {
       "output_type": "stream",
       "stream": "stdout",
       "text": [
        "\n",
        "  1323  |    0.007073  |    0.008177  |     0.864950  |             |  4.4s"
       ]
      },
      {
       "output_type": "stream",
       "stream": "stdout",
       "text": [
        "\n",
        "  1324  |    0.007109  |    0.008169  |     0.870155  |             |  4.4s"
       ]
      },
      {
       "output_type": "stream",
       "stream": "stdout",
       "text": [
        "\n",
        "  1325  |  \u001b[94m  0.007011\u001b[0m  |    0.008159  |     0.859313  |             |  4.4s"
       ]
      },
      {
       "output_type": "stream",
       "stream": "stdout",
       "text": [
        "\n",
        "  1326  |    0.007120  |    0.008159  |     0.872622  |             |  4.4s"
       ]
      },
      {
       "output_type": "stream",
       "stream": "stdout",
       "text": [
        "\n",
        "  1327  |    0.007051  |    0.008159  |     0.864268  |             |  4.4s"
       ]
      },
      {
       "output_type": "stream",
       "stream": "stdout",
       "text": [
        "\n",
        "  1328  |    0.007143  |    0.008174  |     0.873867  |             |  4.4s"
       ]
      },
      {
       "output_type": "stream",
       "stream": "stdout",
       "text": [
        "\n",
        "  1329  |    0.007189  |    0.008155  |     0.881499  |             |  4.4s"
       ]
      },
      {
       "output_type": "stream",
       "stream": "stdout",
       "text": [
        "\n",
        "  1330  |    0.007113  |    0.008152  |     0.872548  |             |  4.4s"
       ]
      },
      {
       "output_type": "stream",
       "stream": "stdout",
       "text": [
        "\n",
        "  1331  |  \u001b[94m  0.007006\u001b[0m  |    0.008147  |     0.860012  |             |  4.4s"
       ]
      },
      {
       "output_type": "stream",
       "stream": "stdout",
       "text": [
        "\n",
        "  1332  |    0.007030  |    0.008150  |     0.862558  |             |  4.4s"
       ]
      },
      {
       "output_type": "stream",
       "stream": "stdout",
       "text": [
        "\n",
        "  1333  |  \u001b[94m  0.006950\u001b[0m  |  \u001b[32m  0.008128\u001b[0m  |     0.855097  |             |  4.4s"
       ]
      },
      {
       "output_type": "stream",
       "stream": "stdout",
       "text": [
        "\n",
        "  1334  |    0.007022  |    0.008185  |     0.857871  |             |  4.4s"
       ]
      },
      {
       "output_type": "stream",
       "stream": "stdout",
       "text": [
        "\n",
        "  1335  |    0.007013  |    0.008154  |     0.860079  |             |  4.4s"
       ]
      },
      {
       "output_type": "stream",
       "stream": "stdout",
       "text": [
        "\n",
        "  1336  |    0.006985  |    0.008166  |     0.855406  |             |  4.4s"
       ]
      },
      {
       "output_type": "stream",
       "stream": "stdout",
       "text": [
        "\n",
        "  1337  |    0.007035  |    0.008143  |     0.863930  |             |  4.4s"
       ]
      },
      {
       "output_type": "stream",
       "stream": "stdout",
       "text": [
        "\n",
        "  1338  |    0.007040  |    0.008133  |     0.865617  |             |  4.4s"
       ]
      },
      {
       "output_type": "stream",
       "stream": "stdout",
       "text": [
        "\n",
        "  1339  |    0.006959  |    0.008188  |     0.849886  |             |  4.4s"
       ]
      },
      {
       "output_type": "stream",
       "stream": "stdout",
       "text": [
        "\n",
        "  1340  |  \u001b[94m  0.006950\u001b[0m  |    0.008144  |     0.853364  |             |  4.4s"
       ]
      },
      {
       "output_type": "stream",
       "stream": "stdout",
       "text": [
        "\n",
        "  1341  |  \u001b[94m  0.006917\u001b[0m  |    0.008145  |     0.849212  |             |  4.4s"
       ]
      },
      {
       "output_type": "stream",
       "stream": "stdout",
       "text": [
        "\n",
        "  1342  |    0.006970  |    0.008152  |     0.854996  |             |  4.4s"
       ]
      },
      {
       "output_type": "stream",
       "stream": "stdout",
       "text": [
        "\n",
        "  1343  |  \u001b[94m  0.006909\u001b[0m  |  \u001b[32m  0.008128\u001b[0m  |     0.850095  |             |  4.4s"
       ]
      },
      {
       "output_type": "stream",
       "stream": "stdout",
       "text": [
        "\n",
        "  1344  |    0.006977  |    0.008131  |     0.858067  |             |  4.4s"
       ]
      },
      {
       "output_type": "stream",
       "stream": "stdout",
       "text": [
        "\n",
        "  1345  |    0.006954  |    0.008134  |     0.854959  |             |  4.4s"
       ]
      },
      {
       "output_type": "stream",
       "stream": "stdout",
       "text": [
        "\n",
        "  1346  |    0.006955  |  \u001b[32m  0.008118\u001b[0m  |     0.856716  |             |  4.4s"
       ]
      },
      {
       "output_type": "stream",
       "stream": "stdout",
       "text": [
        "\n",
        "  1347  |    0.006988  |    0.008127  |     0.859844  |             |  4.4s"
       ]
      },
      {
       "output_type": "stream",
       "stream": "stdout",
       "text": [
        "\n",
        "  1348  |    0.006987  |  \u001b[32m  0.008113\u001b[0m  |     0.861197  |             |  4.4s"
       ]
      },
      {
       "output_type": "stream",
       "stream": "stdout",
       "text": [
        "\n",
        "  1349  |    0.006989  |    0.008115  |     0.861187  |             |  4.4s"
       ]
      },
      {
       "output_type": "stream",
       "stream": "stdout",
       "text": [
        "\n",
        "  1350  |    0.006934  |    0.008138  |     0.851974  |             |  4.4s"
       ]
      },
      {
       "output_type": "stream",
       "stream": "stdout",
       "text": [
        "\n",
        "  1351  |    0.006937  |    0.008140  |     0.852227  |             |  4.4s"
       ]
      },
      {
       "output_type": "stream",
       "stream": "stdout",
       "text": [
        "\n",
        "  1352  |  \u001b[94m  0.006904\u001b[0m  |    0.008133  |     0.848893  |             |  4.4s"
       ]
      },
      {
       "output_type": "stream",
       "stream": "stdout",
       "text": [
        "\n",
        "  1353  |    0.006966  |    0.008117  |     0.858179  |             |  4.4s"
       ]
      },
      {
       "output_type": "stream",
       "stream": "stdout",
       "text": [
        "\n",
        "  1354  |  \u001b[94m  0.006873\u001b[0m  |    0.008135  |     0.844940  |             |  4.4s"
       ]
      },
      {
       "output_type": "stream",
       "stream": "stdout",
       "text": [
        "\n",
        "  1355  |    0.006950  |  \u001b[32m  0.008107\u001b[0m  |     0.857302  |             |  4.4s"
       ]
      },
      {
       "output_type": "stream",
       "stream": "stdout",
       "text": [
        "\n",
        "  1356  |    0.006888  |    0.008132  |     0.847078  |             |  4.4s"
       ]
      },
      {
       "output_type": "stream",
       "stream": "stdout",
       "text": [
        "\n",
        "  1357  |    0.006908  |    0.008127  |     0.850005  |             |  4.4s"
       ]
      },
      {
       "output_type": "stream",
       "stream": "stdout",
       "text": [
        "\n",
        "  1358  |    0.006877  |    0.008124  |     0.846546  |             |  4.4s"
       ]
      },
      {
       "output_type": "stream",
       "stream": "stdout",
       "text": [
        "\n",
        "  1359  |  \u001b[94m  0.006860\u001b[0m  |    0.008127  |     0.844068  |             |  4.4s"
       ]
      },
      {
       "output_type": "stream",
       "stream": "stdout",
       "text": [
        "\n",
        "  1360  |    0.006878  |    0.008121  |     0.846977  |             |  4.4s"
       ]
      },
      {
       "output_type": "stream",
       "stream": "stdout",
       "text": [
        "\n",
        "  1361  |  \u001b[94m  0.006839\u001b[0m  |  \u001b[32m  0.008102\u001b[0m  |     0.844147  |             |  4.4s"
       ]
      },
      {
       "output_type": "stream",
       "stream": "stdout",
       "text": [
        "\n",
        "  1362  |    0.006875  |    0.008130  |     0.845554  |             |  4.4s"
       ]
      },
      {
       "output_type": "stream",
       "stream": "stdout",
       "text": [
        "\n",
        "  1363  |    0.006843  |    0.008135  |     0.841201  |             |  4.4s"
       ]
      },
      {
       "output_type": "stream",
       "stream": "stdout",
       "text": [
        "\n",
        "  1364  |    0.006874  |  \u001b[32m  0.008097\u001b[0m  |     0.848862  |             |  4.4s"
       ]
      },
      {
       "output_type": "stream",
       "stream": "stdout",
       "text": [
        "\n",
        "  1365  |    0.006868  |    0.008106  |     0.847318  |             |  4.4s"
       ]
      },
      {
       "output_type": "stream",
       "stream": "stdout",
       "text": [
        "\n",
        "  1366  |    0.006871  |    0.008098  |     0.848500  |             |  4.4s"
       ]
      },
      {
       "output_type": "stream",
       "stream": "stdout",
       "text": [
        "\n",
        "  1367  |    0.006865  |    0.008101  |     0.847363  |             |  4.4s"
       ]
      },
      {
       "output_type": "stream",
       "stream": "stdout",
       "text": [
        "\n",
        "  1368  |    0.006921  |    0.008128  |     0.851398  |             |  4.4s"
       ]
      },
      {
       "output_type": "stream",
       "stream": "stdout",
       "text": [
        "\n",
        "  1369  |  \u001b[94m  0.006786\u001b[0m  |    0.008113  |     0.836512  |             |  4.4s"
       ]
      },
      {
       "output_type": "stream",
       "stream": "stdout",
       "text": [
        "\n",
        "  1370  |    0.006911  |    0.008113  |     0.851784  |             |  4.4s"
       ]
      },
      {
       "output_type": "stream",
       "stream": "stdout",
       "text": [
        "\n",
        "  1371  |    0.006871  |    0.008103  |     0.847861  |             |  4.4s"
       ]
      },
      {
       "output_type": "stream",
       "stream": "stdout",
       "text": [
        "\n",
        "  1372  |    0.006809  |  \u001b[32m  0.008093\u001b[0m  |     0.841374  |             |  4.4s"
       ]
      },
      {
       "output_type": "stream",
       "stream": "stdout",
       "text": [
        "\n",
        "  1373  |    0.006875  |    0.008099  |     0.848835  |             |  4.4s"
       ]
      },
      {
       "output_type": "stream",
       "stream": "stdout",
       "text": [
        "\n",
        "  1374  |  \u001b[94m  0.006747\u001b[0m  |    0.008094  |     0.833594  |             |  4.4s"
       ]
      },
      {
       "output_type": "stream",
       "stream": "stdout",
       "text": [
        "\n",
        "  1375  |    0.006867  |    0.008122  |     0.845458  |             |  4.4s"
       ]
      },
      {
       "output_type": "stream",
       "stream": "stdout",
       "text": [
        "\n",
        "  1376  |    0.006805  |  \u001b[32m  0.008090\u001b[0m  |     0.841103  |             |  4.4s"
       ]
      },
      {
       "output_type": "stream",
       "stream": "stdout",
       "text": [
        "\n",
        "  1377  |  \u001b[94m  0.006673\u001b[0m  |    0.008100  |     0.823845  |             |  4.4s"
       ]
      },
      {
       "output_type": "stream",
       "stream": "stdout",
       "text": [
        "\n",
        "  1378  |    0.006763  |  \u001b[32m  0.008084\u001b[0m  |     0.836604  |             |  4.4s"
       ]
      },
      {
       "output_type": "stream",
       "stream": "stdout",
       "text": [
        "\n",
        "  1379  |    0.006829  |    0.008103  |     0.842784  |             |  4.4s"
       ]
      },
      {
       "output_type": "stream",
       "stream": "stdout",
       "text": [
        "\n",
        "  1380  |    0.006808  |    0.008102  |     0.840225  |             |  4.4s"
       ]
      },
      {
       "output_type": "stream",
       "stream": "stdout",
       "text": [
        "\n",
        "  1381  |    0.006869  |    0.008088  |     0.849229  |             |  4.4s"
       ]
      },
      {
       "output_type": "stream",
       "stream": "stdout",
       "text": [
        "\n",
        "  1382  |    0.006713  |    0.008088  |     0.829967  |             |  4.4s"
       ]
      },
      {
       "output_type": "stream",
       "stream": "stdout",
       "text": [
        "\n",
        "  1383  |    0.006723  |    0.008105  |     0.829582  |             |  4.4s"
       ]
      },
      {
       "output_type": "stream",
       "stream": "stdout",
       "text": [
        "\n",
        "  1384  |    0.006742  |    0.008115  |     0.830853  |             |  4.4s"
       ]
      },
      {
       "output_type": "stream",
       "stream": "stdout",
       "text": [
        "\n",
        "  1385  |    0.006747  |  \u001b[32m  0.008074\u001b[0m  |     0.835660  |             |  4.4s"
       ]
      },
      {
       "output_type": "stream",
       "stream": "stdout",
       "text": [
        "\n",
        "  1386  |    0.006734  |  \u001b[32m  0.008062\u001b[0m  |     0.835205  |             |  4.4s"
       ]
      },
      {
       "output_type": "stream",
       "stream": "stdout",
       "text": [
        "\n",
        "  1387  |    0.006778  |    0.008079  |     0.839016  |             |  4.4s"
       ]
      },
      {
       "output_type": "stream",
       "stream": "stdout",
       "text": [
        "\n",
        "  1388  |    0.006763  |    0.008074  |     0.837578  |             |  4.4s"
       ]
      },
      {
       "output_type": "stream",
       "stream": "stdout",
       "text": [
        "\n",
        "  1389  |    0.006675  |    0.008074  |     0.826749  |             |  4.4s"
       ]
      },
      {
       "output_type": "stream",
       "stream": "stdout",
       "text": [
        "\n",
        "  1390  |    0.006696  |    0.008105  |     0.826163  |             |  4.4s"
       ]
      },
      {
       "output_type": "stream",
       "stream": "stdout",
       "text": [
        "\n",
        "  1391  |    0.006741  |    0.008067  |     0.835643  |             |  4.4s"
       ]
      },
      {
       "output_type": "stream",
       "stream": "stdout",
       "text": [
        "\n",
        "  1392  |    0.006789  |    0.008077  |     0.840510  |             |  4.4s"
       ]
      },
      {
       "output_type": "stream",
       "stream": "stdout",
       "text": [
        "\n",
        "  1393  |    0.006706  |    0.008077  |     0.830293  |             |  4.4s"
       ]
      },
      {
       "output_type": "stream",
       "stream": "stdout",
       "text": [
        "\n",
        "  1394  |    0.006715  |    0.008089  |     0.830131  |             |  4.4s"
       ]
      },
      {
       "output_type": "stream",
       "stream": "stdout",
       "text": [
        "\n",
        "  1395  |  \u001b[94m  0.006672\u001b[0m  |    0.008073  |     0.826420  |             |  4.4s"
       ]
      },
      {
       "output_type": "stream",
       "stream": "stdout",
       "text": [
        "\n",
        "  1396  |    0.006743  |    0.008077  |     0.834751  |             |  4.4s"
       ]
      },
      {
       "output_type": "stream",
       "stream": "stdout",
       "text": [
        "\n",
        "  1397  |    0.006787  |    0.008064  |     0.841567  |             |  4.4s"
       ]
      },
      {
       "output_type": "stream",
       "stream": "stdout",
       "text": [
        "\n",
        "  1398  |    0.006711  |    0.008077  |     0.830937  |             |  4.4s"
       ]
      },
      {
       "output_type": "stream",
       "stream": "stdout",
       "text": [
        "\n",
        "  1399  |    0.006697  |    0.008065  |     0.830403  |             |  4.4s"
       ]
      },
      {
       "output_type": "stream",
       "stream": "stdout",
       "text": [
        "\n",
        "  1400  |    0.006729  |  \u001b[32m  0.008051\u001b[0m  |     0.835739  |             |  4.4s"
       ]
      },
      {
       "output_type": "stream",
       "stream": "stdout",
       "text": [
        "\n",
        "  1401  |    0.006726  |    0.008070  |     0.833399  |             |  4.4s"
       ]
      },
      {
       "output_type": "stream",
       "stream": "stdout",
       "text": [
        "\n",
        "  1402  |    0.006724  |  \u001b[32m  0.008049\u001b[0m  |     0.835321  |             |  4.4s"
       ]
      },
      {
       "output_type": "stream",
       "stream": "stdout",
       "text": [
        "\n",
        "  1403  |  \u001b[94m  0.006642\u001b[0m  |    0.008056  |     0.824494  |             |  4.4s"
       ]
      },
      {
       "output_type": "stream",
       "stream": "stdout",
       "text": [
        "\n",
        "  1404  |    0.006713  |    0.008073  |     0.831581  |             |  4.4s"
       ]
      },
      {
       "output_type": "stream",
       "stream": "stdout",
       "text": [
        "\n",
        "  1405  |    0.006649  |    0.008083  |     0.822678  |             |  4.4s"
       ]
      },
      {
       "output_type": "stream",
       "stream": "stdout",
       "text": [
        "\n",
        "  1406  |  \u001b[94m  0.006638\u001b[0m  |    0.008064  |     0.823159  |             |  4.4s"
       ]
      },
      {
       "output_type": "stream",
       "stream": "stdout",
       "text": [
        "\n",
        "  1407  |    0.006691  |    0.008051  |     0.831101  |             |  4.4s"
       ]
      },
      {
       "output_type": "stream",
       "stream": "stdout",
       "text": [
        "\n",
        "  1408  |    0.006689  |    0.008081  |     0.827762  |             |  4.4s"
       ]
      },
      {
       "output_type": "stream",
       "stream": "stdout",
       "text": [
        "\n",
        "  1409  |    0.006675  |    0.008060  |     0.828165  |             |  4.4s"
       ]
      },
      {
       "output_type": "stream",
       "stream": "stdout",
       "text": [
        "\n",
        "  1410  |    0.006684  |    0.008051  |     0.830217  |             |  4.4s"
       ]
      },
      {
       "output_type": "stream",
       "stream": "stdout",
       "text": [
        "\n",
        "  1411  |    0.006671  |  \u001b[32m  0.008031\u001b[0m  |     0.830651  |             |  4.4s"
       ]
      },
      {
       "output_type": "stream",
       "stream": "stdout",
       "text": [
        "\n",
        "  1412  |  \u001b[94m  0.006629\u001b[0m  |    0.008065  |     0.821944  |             |  4.4s"
       ]
      },
      {
       "output_type": "stream",
       "stream": "stdout",
       "text": [
        "\n",
        "  1413  |  \u001b[94m  0.006569\u001b[0m  |    0.008065  |     0.814491  |             |  4.4s"
       ]
      },
      {
       "output_type": "stream",
       "stream": "stdout",
       "text": [
        "\n",
        "  1414  |    0.006645  |  \u001b[32m  0.008016\u001b[0m  |     0.828994  |             |  4.4s"
       ]
      },
      {
       "output_type": "stream",
       "stream": "stdout",
       "text": [
        "\n",
        "  1415  |    0.006643  |    0.008038  |     0.826450  |             |  4.4s"
       ]
      },
      {
       "output_type": "stream",
       "stream": "stdout",
       "text": [
        "\n",
        "  1416  |    0.006569  |    0.008035  |     0.817531  |             |  4.4s"
       ]
      },
      {
       "output_type": "stream",
       "stream": "stdout",
       "text": [
        "\n",
        "  1417  |    0.006609  |    0.008063  |     0.819665  |             |  4.4s"
       ]
      },
      {
       "output_type": "stream",
       "stream": "stdout",
       "text": [
        "\n",
        "  1418  |    0.006658  |    0.008040  |     0.828065  |             |  4.4s"
       ]
      },
      {
       "output_type": "stream",
       "stream": "stdout",
       "text": [
        "\n",
        "  1419  |    0.006570  |    0.008041  |     0.817034  |             |  4.4s"
       ]
      },
      {
       "output_type": "stream",
       "stream": "stdout",
       "text": [
        "\n",
        "  1420  |    0.006653  |    0.008061  |     0.825292  |             |  4.4s"
       ]
      },
      {
       "output_type": "stream",
       "stream": "stdout",
       "text": [
        "\n",
        "  1421  |    0.006616  |    0.008076  |     0.819218  |             |  4.4s"
       ]
      },
      {
       "output_type": "stream",
       "stream": "stdout",
       "text": [
        "\n",
        "  1422  |  \u001b[94m  0.006531\u001b[0m  |    0.008044  |     0.811928  |             |  4.4s"
       ]
      },
      {
       "output_type": "stream",
       "stream": "stdout",
       "text": [
        "\n",
        "  1423  |  \u001b[94m  0.006524\u001b[0m  |    0.008059  |     0.809522  |             |  4.4s"
       ]
      },
      {
       "output_type": "stream",
       "stream": "stdout",
       "text": [
        "\n",
        "  1424  |    0.006622  |    0.008043  |     0.823290  |             |  4.4s"
       ]
      },
      {
       "output_type": "stream",
       "stream": "stdout",
       "text": [
        "\n",
        "  1425  |    0.006605  |    0.008052  |     0.820249  |             |  4.4s"
       ]
      },
      {
       "output_type": "stream",
       "stream": "stdout",
       "text": [
        "\n",
        "  1426  |    0.006555  |  \u001b[32m  0.008014\u001b[0m  |     0.817916  |             |  4.4s"
       ]
      },
      {
       "output_type": "stream",
       "stream": "stdout",
       "text": [
        "\n",
        "  1427  |    0.006666  |    0.008047  |     0.828354  |             |  4.4s"
       ]
      },
      {
       "output_type": "stream",
       "stream": "stdout",
       "text": [
        "\n",
        "  1428  |    0.006551  |    0.008021  |     0.816741  |             |  4.4s"
       ]
      },
      {
       "output_type": "stream",
       "stream": "stdout",
       "text": [
        "\n",
        "  1429  |    0.006590  |    0.008022  |     0.821502  |             |  4.4s"
       ]
      },
      {
       "output_type": "stream",
       "stream": "stdout",
       "text": [
        "\n",
        "  1430  |    0.006654  |    0.008016  |     0.830141  |             |  4.4s"
       ]
      },
      {
       "output_type": "stream",
       "stream": "stdout",
       "text": [
        "\n",
        "  1431  |    0.006538  |    0.008030  |     0.814229  |             |  4.4s"
       ]
      },
      {
       "output_type": "stream",
       "stream": "stdout",
       "text": [
        "\n",
        "  1432  |    0.006581  |    0.008068  |     0.815615  |             |  4.4s"
       ]
      },
      {
       "output_type": "stream",
       "stream": "stdout",
       "text": [
        "\n",
        "  1433  |    0.006566  |    0.008051  |     0.815596  |             |  4.4s"
       ]
      },
      {
       "output_type": "stream",
       "stream": "stdout",
       "text": [
        "\n",
        "  1434  |    0.006555  |    0.008037  |     0.815666  |             |  4.4s"
       ]
      },
      {
       "output_type": "stream",
       "stream": "stdout",
       "text": [
        "\n",
        "  1435  |    0.006594  |    0.008049  |     0.819264  |             |  4.4s"
       ]
      },
      {
       "output_type": "stream",
       "stream": "stdout",
       "text": [
        "\n",
        "  1436  |    0.006641  |  \u001b[32m  0.008005\u001b[0m  |     0.829605  |             |  4.4s"
       ]
      },
      {
       "output_type": "stream",
       "stream": "stdout",
       "text": [
        "\n",
        "  1437  |    0.006576  |    0.008016  |     0.820371  |             |  4.4s"
       ]
      },
      {
       "output_type": "stream",
       "stream": "stdout",
       "text": [
        "\n",
        "  1438  |    0.006554  |    0.008022  |     0.816936  |             |  4.4s"
       ]
      },
      {
       "output_type": "stream",
       "stream": "stdout",
       "text": [
        "\n",
        "  1439  |  \u001b[94m  0.006482\u001b[0m  |    0.008009  |     0.809360  |             |  4.4s"
       ]
      },
      {
       "output_type": "stream",
       "stream": "stdout",
       "text": [
        "\n",
        "  1440  |    0.006595  |    0.008024  |     0.821953  |             |  4.4s"
       ]
      },
      {
       "output_type": "stream",
       "stream": "stdout",
       "text": [
        "\n",
        "  1441  |    0.006576  |  \u001b[32m  0.008002\u001b[0m  |     0.821772  |             |  4.4s"
       ]
      },
      {
       "output_type": "stream",
       "stream": "stdout",
       "text": [
        "\n",
        "  1442  |    0.006531  |    0.008015  |     0.814794  |             |  4.4s"
       ]
      },
      {
       "output_type": "stream",
       "stream": "stdout",
       "text": [
        "\n",
        "  1443  |  \u001b[94m  0.006475\u001b[0m  |  \u001b[32m  0.007985\u001b[0m  |     0.810933  |             |  4.4s"
       ]
      },
      {
       "output_type": "stream",
       "stream": "stdout",
       "text": [
        "\n",
        "  1444  |    0.006501  |    0.008034  |     0.809183  |             |  4.4s"
       ]
      },
      {
       "output_type": "stream",
       "stream": "stdout",
       "text": [
        "\n",
        "  1445  |    0.006509  |    0.008020  |     0.811595  |             |  4.4s"
       ]
      },
      {
       "output_type": "stream",
       "stream": "stdout",
       "text": [
        "\n",
        "  1446  |    0.006513  |    0.008007  |     0.813334  |             |  4.4s"
       ]
      },
      {
       "output_type": "stream",
       "stream": "stdout",
       "text": [
        "\n",
        "  1447  |    0.006476  |    0.007994  |     0.810137  |             |  4.4s"
       ]
      },
      {
       "output_type": "stream",
       "stream": "stdout",
       "text": [
        "\n",
        "  1448  |    0.006569  |    0.008012  |     0.819876  |             |  4.4s"
       ]
      },
      {
       "output_type": "stream",
       "stream": "stdout",
       "text": [
        "\n",
        "  1449  |  \u001b[94m  0.006425\u001b[0m  |    0.007998  |     0.803358  |             |  4.4s"
       ]
      },
      {
       "output_type": "stream",
       "stream": "stdout",
       "text": [
        "\n",
        "  1450  |    0.006487  |    0.008010  |     0.809868  |             |  4.4s"
       ]
      },
      {
       "output_type": "stream",
       "stream": "stdout",
       "text": [
        "\n",
        "  1451  |    0.006506  |    0.008028  |     0.810440  |             |  4.4s"
       ]
      },
      {
       "output_type": "stream",
       "stream": "stdout",
       "text": [
        "\n",
        "  1452  |    0.006436  |    0.008013  |     0.803259  |             |  4.4s"
       ]
      },
      {
       "output_type": "stream",
       "stream": "stdout",
       "text": [
        "\n",
        "  1453  |    0.006538  |    0.008022  |     0.814993  |             |  4.4s"
       ]
      },
      {
       "output_type": "stream",
       "stream": "stdout",
       "text": [
        "\n",
        "  1454  |    0.006497  |    0.008026  |     0.809530  |             |  4.4s"
       ]
      },
      {
       "output_type": "stream",
       "stream": "stdout",
       "text": [
        "\n",
        "  1455  |    0.006427  |    0.008002  |     0.803097  |             |  4.4s"
       ]
      },
      {
       "output_type": "stream",
       "stream": "stdout",
       "text": [
        "\n",
        "  1456  |  \u001b[94m  0.006408\u001b[0m  |    0.007999  |     0.801160  |             |  4.4s"
       ]
      },
      {
       "output_type": "stream",
       "stream": "stdout",
       "text": [
        "\n",
        "  1457  |    0.006436  |    0.008011  |     0.803350  |             |  4.4s"
       ]
      },
      {
       "output_type": "stream",
       "stream": "stdout",
       "text": [
        "\n",
        "  1458  |    0.006473  |    0.007998  |     0.809393  |             |  4.4s"
       ]
      },
      {
       "output_type": "stream",
       "stream": "stdout",
       "text": [
        "\n",
        "  1459  |    0.006451  |    0.008012  |     0.805132  |             |  4.4s"
       ]
      },
      {
       "output_type": "stream",
       "stream": "stdout",
       "text": [
        "\n",
        "  1460  |    0.006436  |    0.008005  |     0.804061  |             |  4.4s"
       ]
      },
      {
       "output_type": "stream",
       "stream": "stdout",
       "text": [
        "\n",
        "  1461  |    0.006411  |    0.008014  |     0.799987  |             |  4.4s"
       ]
      },
      {
       "output_type": "stream",
       "stream": "stdout",
       "text": [
        "\n",
        "  1462  |    0.006448  |    0.008008  |     0.805173  |             |  4.4s"
       ]
      },
      {
       "output_type": "stream",
       "stream": "stdout",
       "text": [
        "\n",
        "  1463  |    0.006448  |    0.008023  |     0.803722  |             |  4.4s"
       ]
      },
      {
       "output_type": "stream",
       "stream": "stdout",
       "text": [
        "\n",
        "  1464  |    0.006438  |    0.008006  |     0.804131  |             |  4.4s"
       ]
      },
      {
       "output_type": "stream",
       "stream": "stdout",
       "text": [
        "\n",
        "  1465  |    0.006409  |    0.008005  |     0.800549  |             |  4.4s"
       ]
      },
      {
       "output_type": "stream",
       "stream": "stdout",
       "text": [
        "\n",
        "  1466  |  \u001b[94m  0.006378\u001b[0m  |    0.007998  |     0.797490  |             |  4.4s"
       ]
      },
      {
       "output_type": "stream",
       "stream": "stdout",
       "text": [
        "\n",
        "  1467  |    0.006509  |    0.007987  |     0.814964  |             |  4.4s"
       ]
      },
      {
       "output_type": "stream",
       "stream": "stdout",
       "text": [
        "\n",
        "  1468  |  \u001b[94m  0.006372\u001b[0m  |    0.007989  |     0.797515  |             |  4.4s"
       ]
      },
      {
       "output_type": "stream",
       "stream": "stdout",
       "text": [
        "\n",
        "  1469  |    0.006419  |    0.007997  |     0.802684  |             |  4.4s"
       ]
      },
      {
       "output_type": "stream",
       "stream": "stdout",
       "text": [
        "\n",
        "  1470  |    0.006474  |    0.007991  |     0.810116  |             |  4.4s"
       ]
      },
      {
       "output_type": "stream",
       "stream": "stdout",
       "text": [
        "\n",
        "  1471  |    0.006379  |    0.007995  |     0.797833  |             |  4.4s"
       ]
      },
      {
       "output_type": "stream",
       "stream": "stdout",
       "text": [
        "\n",
        "  1472  |  \u001b[94m  0.006365\u001b[0m  |  \u001b[32m  0.007979\u001b[0m  |     0.797730  |             |  4.4s"
       ]
      },
      {
       "output_type": "stream",
       "stream": "stdout",
       "text": [
        "\n",
        "  1473  |    0.006388  |  \u001b[32m  0.007960\u001b[0m  |     0.802613  |             |  4.4s"
       ]
      },
      {
       "output_type": "stream",
       "stream": "stdout",
       "text": [
        "\n",
        "  1474  |    0.006369  |    0.007987  |     0.797490  |             |  4.4s"
       ]
      },
      {
       "output_type": "stream",
       "stream": "stdout",
       "text": [
        "\n",
        "  1475  |    0.006369  |    0.007980  |     0.798117  |             |  4.4s"
       ]
      },
      {
       "output_type": "stream",
       "stream": "stdout",
       "text": [
        "\n",
        "  1476  |  \u001b[94m  0.006328\u001b[0m  |    0.008011  |     0.789853  |             |  4.4s"
       ]
      },
      {
       "output_type": "stream",
       "stream": "stdout",
       "text": [
        "\n",
        "  1477  |    0.006334  |    0.007992  |     0.792549  |             |  4.4s"
       ]
      },
      {
       "output_type": "stream",
       "stream": "stdout",
       "text": [
        "\n",
        "  1478  |    0.006417  |    0.008022  |     0.799848  |             |  4.4s"
       ]
      },
      {
       "output_type": "stream",
       "stream": "stdout",
       "text": [
        "\n",
        "  1479  |  \u001b[94m  0.006307\u001b[0m  |    0.007977  |     0.790742  |             |  4.4s"
       ]
      },
      {
       "output_type": "stream",
       "stream": "stdout",
       "text": [
        "\n",
        "  1480  |    0.006341  |  \u001b[32m  0.007959\u001b[0m  |     0.796735  |             |  4.4s"
       ]
      },
      {
       "output_type": "stream",
       "stream": "stdout",
       "text": [
        "\n",
        "  1481  |    0.006322  |    0.007983  |     0.791967  |             |  4.4s"
       ]
      },
      {
       "output_type": "stream",
       "stream": "stdout",
       "text": [
        "\n",
        "  1482  |    0.006346  |    0.007971  |     0.796171  |             |  4.4s"
       ]
      },
      {
       "output_type": "stream",
       "stream": "stdout",
       "text": [
        "\n",
        "  1483  |    0.006442  |    0.007979  |     0.807378  |             |  4.4s"
       ]
      },
      {
       "output_type": "stream",
       "stream": "stdout",
       "text": [
        "\n",
        "  1484  |    0.006324  |    0.007982  |     0.792259  |             |  4.4s"
       ]
      },
      {
       "output_type": "stream",
       "stream": "stdout",
       "text": [
        "\n",
        "  1485  |    0.006367  |  \u001b[32m  0.007956\u001b[0m  |     0.800230  |             |  4.4s"
       ]
      },
      {
       "output_type": "stream",
       "stream": "stdout",
       "text": [
        "\n",
        "  1486  |    0.006341  |    0.007982  |     0.794416  |             |  4.4s"
       ]
      },
      {
       "output_type": "stream",
       "stream": "stdout",
       "text": [
        "\n",
        "  1487  |    0.006372  |    0.007967  |     0.799737  |             |  4.4s"
       ]
      },
      {
       "output_type": "stream",
       "stream": "stdout",
       "text": [
        "\n",
        "  1488  |    0.006389  |    0.007985  |     0.800157  |             |  4.4s"
       ]
      },
      {
       "output_type": "stream",
       "stream": "stdout",
       "text": [
        "\n",
        "  1489  |  \u001b[94m  0.006221\u001b[0m  |    0.007997  |     0.777855  |             |  4.4s"
       ]
      },
      {
       "output_type": "stream",
       "stream": "stdout",
       "text": [
        "\n",
        "  1490  |    0.006287  |    0.007986  |     0.787320  |             |  4.4s"
       ]
      },
      {
       "output_type": "stream",
       "stream": "stdout",
       "text": [
        "\n",
        "  1491  |    0.006310  |    0.007981  |     0.790695  |             |  4.4s"
       ]
      },
      {
       "output_type": "stream",
       "stream": "stdout",
       "text": [
        "\n",
        "  1492  |    0.006306  |    0.007974  |     0.790788  |             |  4.4s"
       ]
      },
      {
       "output_type": "stream",
       "stream": "stdout",
       "text": [
        "\n",
        "  1493  |    0.006362  |    0.007961  |     0.799096  |             |  4.4s"
       ]
      },
      {
       "output_type": "stream",
       "stream": "stdout",
       "text": [
        "\n",
        "  1494  |    0.006358  |    0.007976  |     0.797188  |             |  4.4s"
       ]
      },
      {
       "output_type": "stream",
       "stream": "stdout",
       "text": [
        "\n",
        "  1495  |    0.006331  |    0.007976  |     0.793701  |             |  4.4s"
       ]
      },
      {
       "output_type": "stream",
       "stream": "stdout",
       "text": [
        "\n",
        "  1496  |    0.006328  |  \u001b[32m  0.007953\u001b[0m  |     0.795645  |             |  4.4s"
       ]
      },
      {
       "output_type": "stream",
       "stream": "stdout",
       "text": [
        "\n",
        "  1497  |    0.006304  |  \u001b[32m  0.007949\u001b[0m  |     0.793072  |             |  4.4s"
       ]
      },
      {
       "output_type": "stream",
       "stream": "stdout",
       "text": [
        "\n",
        "  1498  |    0.006353  |    0.007989  |     0.795227  |             |  4.4s"
       ]
      },
      {
       "output_type": "stream",
       "stream": "stdout",
       "text": [
        "\n",
        "  1499  |    0.006302  |    0.007959  |     0.791879  |             |  4.4s"
       ]
      },
      {
       "output_type": "stream",
       "stream": "stdout",
       "text": [
        "\n",
        "  1500  |  \u001b[94m  0.006174\u001b[0m  |    0.007952  |     0.776351  |             |  4.4s"
       ]
      },
      {
       "output_type": "stream",
       "stream": "stdout",
       "text": [
        "\n",
        "  1501  |    0.006247  |    0.007963  |     0.784462  |             |  4.4s"
       ]
      },
      {
       "output_type": "stream",
       "stream": "stdout",
       "text": [
        "\n",
        "  1502  |    0.006224  |    0.007960  |     0.781858  |             |  4.4s"
       ]
      },
      {
       "output_type": "stream",
       "stream": "stdout",
       "text": [
        "\n",
        "  1503  |    0.006235  |    0.007957  |     0.783521  |             |  4.4s"
       ]
      },
      {
       "output_type": "stream",
       "stream": "stdout",
       "text": [
        "\n",
        "  1504  |    0.006248  |    0.007951  |     0.785884  |             |  4.4s"
       ]
      },
      {
       "output_type": "stream",
       "stream": "stdout",
       "text": [
        "\n",
        "  1505  |    0.006228  |    0.007960  |     0.782365  |             |  4.4s"
       ]
      },
      {
       "output_type": "stream",
       "stream": "stdout",
       "text": [
        "\n",
        "  1506  |    0.006270  |    0.007971  |     0.786625  |             |  4.4s"
       ]
      },
      {
       "output_type": "stream",
       "stream": "stdout",
       "text": [
        "\n",
        "  1507  |    0.006211  |    0.007975  |     0.778823  |             |  4.4s"
       ]
      },
      {
       "output_type": "stream",
       "stream": "stdout",
       "text": [
        "\n",
        "  1508  |    0.006181  |    0.007960  |     0.776508  |             |  4.4s"
       ]
      },
      {
       "output_type": "stream",
       "stream": "stdout",
       "text": [
        "\n",
        "  1509  |    0.006290  |  \u001b[32m  0.007947\u001b[0m  |     0.791480  |             |  4.4s"
       ]
      },
      {
       "output_type": "stream",
       "stream": "stdout",
       "text": [
        "\n",
        "  1510  |    0.006178  |  \u001b[32m  0.007940\u001b[0m  |     0.778105  |             |  4.4s"
       ]
      },
      {
       "output_type": "stream",
       "stream": "stdout",
       "text": [
        "\n",
        "  1511  |    0.006297  |    0.007965  |     0.790584  |             |  4.4s"
       ]
      },
      {
       "output_type": "stream",
       "stream": "stdout",
       "text": [
        "\n",
        "  1512  |    0.006277  |  \u001b[32m  0.007938\u001b[0m  |     0.790776  |             |  4.4s"
       ]
      },
      {
       "output_type": "stream",
       "stream": "stdout",
       "text": [
        "\n",
        "  1513  |  \u001b[94m  0.006168\u001b[0m  |    0.007959  |     0.774901  |             |  4.4s"
       ]
      },
      {
       "output_type": "stream",
       "stream": "stdout",
       "text": [
        "\n",
        "  1514  |    0.006212  |    0.007943  |     0.782074  |             |  4.4s"
       ]
      },
      {
       "output_type": "stream",
       "stream": "stdout",
       "text": [
        "\n",
        "  1515  |  \u001b[94m  0.006148\u001b[0m  |  \u001b[32m  0.007932\u001b[0m  |     0.775107  |             |  4.4s"
       ]
      },
      {
       "output_type": "stream",
       "stream": "stdout",
       "text": [
        "\n",
        "  1516  |    0.006281  |    0.007934  |     0.791660  |             |  4.4s"
       ]
      },
      {
       "output_type": "stream",
       "stream": "stdout",
       "text": [
        "\n",
        "  1517  |    0.006219  |  \u001b[32m  0.007929\u001b[0m  |     0.784349  |             |  4.4s"
       ]
      },
      {
       "output_type": "stream",
       "stream": "stdout",
       "text": [
        "\n",
        "  1518  |    0.006213  |    0.007952  |     0.781373  |             |  4.4s"
       ]
      },
      {
       "output_type": "stream",
       "stream": "stdout",
       "text": [
        "\n",
        "  1519  |    0.006246  |    0.007948  |     0.785855  |             |  4.4s"
       ]
      },
      {
       "output_type": "stream",
       "stream": "stdout",
       "text": [
        "\n",
        "  1520  |  \u001b[94m  0.006101\u001b[0m  |    0.007943  |     0.768097  |             |  4.4s"
       ]
      },
      {
       "output_type": "stream",
       "stream": "stdout",
       "text": [
        "\n",
        "  1521  |    0.006123  |    0.007936  |     0.771544  |             |  4.4s"
       ]
      },
      {
       "output_type": "stream",
       "stream": "stdout",
       "text": [
        "\n",
        "  1522  |    0.006230  |  \u001b[32m  0.007925\u001b[0m  |     0.786120  |             |  4.4s"
       ]
      },
      {
       "output_type": "stream",
       "stream": "stdout",
       "text": [
        "\n",
        "  1523  |    0.006218  |    0.007956  |     0.781619  |             |  4.4s"
       ]
      },
      {
       "output_type": "stream",
       "stream": "stdout",
       "text": [
        "\n",
        "  1524  |    0.006173  |  \u001b[32m  0.007922\u001b[0m  |     0.779178  |             |  4.4s"
       ]
      },
      {
       "output_type": "stream",
       "stream": "stdout",
       "text": [
        "\n",
        "  1525  |    0.006257  |    0.007953  |     0.786708  |             |  4.4s"
       ]
      },
      {
       "output_type": "stream",
       "stream": "stdout",
       "text": [
        "\n",
        "  1526  |    0.006225  |    0.007930  |     0.785019  |             |  4.4s"
       ]
      },
      {
       "output_type": "stream",
       "stream": "stdout",
       "text": [
        "\n",
        "  1527  |    0.006189  |    0.007926  |     0.780854  |             |  4.4s"
       ]
      },
      {
       "output_type": "stream",
       "stream": "stdout",
       "text": [
        "\n",
        "  1528  |    0.006223  |    0.007933  |     0.784459  |             |  4.4s"
       ]
      },
      {
       "output_type": "stream",
       "stream": "stdout",
       "text": [
        "\n",
        "  1529  |    0.006104  |    0.007947  |     0.768119  |             |  4.4s"
       ]
      },
      {
       "output_type": "stream",
       "stream": "stdout",
       "text": [
        "\n",
        "  1530  |    0.006255  |    0.007967  |     0.785026  |             |  4.4s"
       ]
      },
      {
       "output_type": "stream",
       "stream": "stdout",
       "text": [
        "\n",
        "  1531  |    0.006155  |    0.007933  |     0.775931  |             |  4.4s"
       ]
      },
      {
       "output_type": "stream",
       "stream": "stdout",
       "text": [
        "\n",
        "  1532  |    0.006145  |  \u001b[32m  0.007919\u001b[0m  |     0.776062  |             |  4.4s"
       ]
      },
      {
       "output_type": "stream",
       "stream": "stdout",
       "text": [
        "\n",
        "  1533  |  \u001b[94m  0.006093\u001b[0m  |  \u001b[32m  0.007918\u001b[0m  |     0.769533  |             |  4.4s"
       ]
      },
      {
       "output_type": "stream",
       "stream": "stdout",
       "text": [
        "\n",
        "  1534  |  \u001b[94m  0.006074\u001b[0m  |    0.007956  |     0.763406  |             |  4.4s"
       ]
      },
      {
       "output_type": "stream",
       "stream": "stdout",
       "text": [
        "\n",
        "  1535  |    0.006131  |    0.007929  |     0.773238  |             |  4.4s"
       ]
      },
      {
       "output_type": "stream",
       "stream": "stdout",
       "text": [
        "\n",
        "  1536  |  \u001b[94m  0.006051\u001b[0m  |    0.007933  |     0.762812  |             |  4.4s"
       ]
      },
      {
       "output_type": "stream",
       "stream": "stdout",
       "text": [
        "\n",
        "  1537  |    0.006090  |    0.007934  |     0.767590  |             |  4.4s"
       ]
      },
      {
       "output_type": "stream",
       "stream": "stdout",
       "text": [
        "\n",
        "  1538  |    0.006109  |    0.007926  |     0.770792  |             |  4.4s"
       ]
      },
      {
       "output_type": "stream",
       "stream": "stdout",
       "text": [
        "\n",
        "  1539  |    0.006146  |    0.007929  |     0.775158  |             |  4.4s"
       ]
      },
      {
       "output_type": "stream",
       "stream": "stdout",
       "text": [
        "\n",
        "  1540  |    0.006097  |    0.007943  |     0.767557  |             |  4.4s"
       ]
      },
      {
       "output_type": "stream",
       "stream": "stdout",
       "text": [
        "\n",
        "  1541  |    0.006128  |    0.007922  |     0.773629  |             |  4.4s"
       ]
      },
      {
       "output_type": "stream",
       "stream": "stdout",
       "text": [
        "\n",
        "  1542  |    0.006111  |  \u001b[32m  0.007914\u001b[0m  |     0.772129  |             |  4.4s"
       ]
      },
      {
       "output_type": "stream",
       "stream": "stdout",
       "text": [
        "\n",
        "  1543  |    0.006112  |    0.007921  |     0.771580  |             |  4.4s"
       ]
      },
      {
       "output_type": "stream",
       "stream": "stdout",
       "text": [
        "\n",
        "  1544  |    0.006138  |  \u001b[32m  0.007913\u001b[0m  |     0.775729  |             |  4.4s"
       ]
      },
      {
       "output_type": "stream",
       "stream": "stdout",
       "text": [
        "\n",
        "  1545  |    0.006216  |    0.007918  |     0.785011  |             |  4.4s"
       ]
      },
      {
       "output_type": "stream",
       "stream": "stdout",
       "text": [
        "\n",
        "  1546  |    0.006093  |  \u001b[32m  0.007912\u001b[0m  |     0.770079  |             |  4.4s"
       ]
      },
      {
       "output_type": "stream",
       "stream": "stdout",
       "text": [
        "\n",
        "  1547  |  \u001b[94m  0.005999\u001b[0m  |  \u001b[32m  0.007887\u001b[0m  |     0.760628  |             |  4.4s"
       ]
      },
      {
       "output_type": "stream",
       "stream": "stdout",
       "text": [
        "\n",
        "  1548  |    0.006086  |    0.007932  |     0.767254  |             |  4.4s"
       ]
      },
      {
       "output_type": "stream",
       "stream": "stdout",
       "text": [
        "\n",
        "  1549  |    0.006015  |    0.007922  |     0.759257  |             |  4.4s"
       ]
      },
      {
       "output_type": "stream",
       "stream": "stdout",
       "text": [
        "\n",
        "  1550  |    0.006107  |    0.007946  |     0.768644  |             |  4.4s"
       ]
      },
      {
       "output_type": "stream",
       "stream": "stdout",
       "text": [
        "\n",
        "  1551  |    0.006138  |    0.007908  |     0.776203  |             |  4.4s"
       ]
      },
      {
       "output_type": "stream",
       "stream": "stdout",
       "text": [
        "\n",
        "  1552  |    0.006026  |    0.007912  |     0.761538  |             |  4.4s"
       ]
      },
      {
       "output_type": "stream",
       "stream": "stdout",
       "text": [
        "\n",
        "  1553  |    0.006122  |    0.007912  |     0.773814  |             |  4.4s"
       ]
      },
      {
       "output_type": "stream",
       "stream": "stdout",
       "text": [
        "\n",
        "  1554  |    0.006025  |    0.007913  |     0.761374  |             |  4.4s"
       ]
      },
      {
       "output_type": "stream",
       "stream": "stdout",
       "text": [
        "\n",
        "  1555  |  \u001b[94m  0.005998\u001b[0m  |    0.007919  |     0.757414  |             |  4.4s"
       ]
      },
      {
       "output_type": "stream",
       "stream": "stdout",
       "text": [
        "\n",
        "  1556  |    0.006014  |    0.007913  |     0.760029  |             |  4.4s"
       ]
      },
      {
       "output_type": "stream",
       "stream": "stdout",
       "text": [
        "\n",
        "  1557  |    0.006021  |    0.007927  |     0.759616  |             |  4.4s"
       ]
      },
      {
       "output_type": "stream",
       "stream": "stdout",
       "text": [
        "\n",
        "  1558  |    0.006000  |    0.007912  |     0.758351  |             |  4.4s"
       ]
      },
      {
       "output_type": "stream",
       "stream": "stdout",
       "text": [
        "\n",
        "  1559  |    0.006053  |    0.007920  |     0.764264  |             |  4.4s"
       ]
      },
      {
       "output_type": "stream",
       "stream": "stdout",
       "text": [
        "\n",
        "  1560  |    0.006007  |    0.007921  |     0.758297  |             |  4.4s"
       ]
      },
      {
       "output_type": "stream",
       "stream": "stdout",
       "text": [
        "\n",
        "  1561  |    0.006089  |    0.007942  |     0.766608  |             |  4.4s"
       ]
      },
      {
       "output_type": "stream",
       "stream": "stdout",
       "text": [
        "\n",
        "  1562  |    0.006123  |    0.007939  |     0.771288  |             |  4.4s"
       ]
      },
      {
       "output_type": "stream",
       "stream": "stdout",
       "text": [
        "\n",
        "  1563  |    0.006021  |    0.007927  |     0.759558  |             |  4.4s"
       ]
      },
      {
       "output_type": "stream",
       "stream": "stdout",
       "text": [
        "\n",
        "  1564  |    0.006056  |    0.007924  |     0.764229  |             |  4.4s"
       ]
      },
      {
       "output_type": "stream",
       "stream": "stdout",
       "text": [
        "\n",
        "  1565  |    0.006116  |    0.007905  |     0.773708  |             |  4.4s"
       ]
      },
      {
       "output_type": "stream",
       "stream": "stdout",
       "text": [
        "\n",
        "  1566  |  \u001b[94m  0.005993\u001b[0m  |    0.007919  |     0.756736  |             |  4.4s"
       ]
      },
      {
       "output_type": "stream",
       "stream": "stdout",
       "text": [
        "\n",
        "  1567  |    0.006042  |    0.007914  |     0.763510  |             |  4.4s"
       ]
      },
      {
       "output_type": "stream",
       "stream": "stdout",
       "text": [
        "\n",
        "  1568  |    0.006038  |    0.007921  |     0.762360  |             |  4.4s"
       ]
      },
      {
       "output_type": "stream",
       "stream": "stdout",
       "text": [
        "\n",
        "  1569  |    0.006046  |    0.007944  |     0.761124  |             |  4.4s"
       ]
      },
      {
       "output_type": "stream",
       "stream": "stdout",
       "text": [
        "\n",
        "  1570  |    0.006035  |    0.007891  |     0.764853  |             |  4.4s"
       ]
      },
      {
       "output_type": "stream",
       "stream": "stdout",
       "text": [
        "\n",
        "  1571  |  \u001b[94m  0.005892\u001b[0m  |    0.007922  |     0.743767  |             |  4.4s"
       ]
      },
      {
       "output_type": "stream",
       "stream": "stdout",
       "text": [
        "\n",
        "  1572  |    0.005964  |    0.007922  |     0.752785  |             |  4.4s"
       ]
      },
      {
       "output_type": "stream",
       "stream": "stdout",
       "text": [
        "\n",
        "  1573  |    0.005974  |    0.007924  |     0.753887  |             |  4.4s"
       ]
      },
      {
       "output_type": "stream",
       "stream": "stdout",
       "text": [
        "\n",
        "  1574  |    0.005979  |    0.007905  |     0.756418  |             |  4.4s"
       ]
      },
      {
       "output_type": "stream",
       "stream": "stdout",
       "text": [
        "\n",
        "  1575  |    0.006032  |    0.007923  |     0.761300  |             |  4.4s"
       ]
      },
      {
       "output_type": "stream",
       "stream": "stdout",
       "text": [
        "\n",
        "  1576  |    0.005987  |    0.007921  |     0.755891  |             |  4.4s"
       ]
      },
      {
       "output_type": "stream",
       "stream": "stdout",
       "text": [
        "\n",
        "  1577  |    0.005915  |  \u001b[32m  0.007884\u001b[0m  |     0.750320  |             |  4.4s"
       ]
      },
      {
       "output_type": "stream",
       "stream": "stdout",
       "text": [
        "\n",
        "  1578  |    0.005980  |    0.007899  |     0.757050  |             |  4.4s"
       ]
      },
      {
       "output_type": "stream",
       "stream": "stdout",
       "text": [
        "\n",
        "  1579  |    0.005967  |    0.007897  |     0.755616  |             |  4.4s"
       ]
      },
      {
       "output_type": "stream",
       "stream": "stdout",
       "text": [
        "\n",
        "  1580  |    0.005931  |  \u001b[32m  0.007878\u001b[0m  |     0.752940  |             |  4.4s"
       ]
      },
      {
       "output_type": "stream",
       "stream": "stdout",
       "text": [
        "\n",
        "  1581  |    0.005946  |    0.007902  |     0.752504  |             |  4.4s"
       ]
      },
      {
       "output_type": "stream",
       "stream": "stdout",
       "text": [
        "\n",
        "  1582  |    0.006011  |    0.007884  |     0.762381  |             |  4.4s"
       ]
      },
      {
       "output_type": "stream",
       "stream": "stdout",
       "text": [
        "\n",
        "  1583  |    0.005931  |    0.007891  |     0.751642  |             |  4.4s"
       ]
      },
      {
       "output_type": "stream",
       "stream": "stdout",
       "text": [
        "\n",
        "  1584  |    0.005967  |  \u001b[32m  0.007869\u001b[0m  |     0.758281  |             |  4.4s"
       ]
      },
      {
       "output_type": "stream",
       "stream": "stdout",
       "text": [
        "\n",
        "  1585  |    0.006032  |    0.007895  |     0.763977  |             |  4.4s"
       ]
      },
      {
       "output_type": "stream",
       "stream": "stdout",
       "text": [
        "\n",
        "  1586  |    0.006038  |    0.007910  |     0.763294  |             |  4.4s"
       ]
      },
      {
       "output_type": "stream",
       "stream": "stdout",
       "text": [
        "\n",
        "  1587  |    0.005927  |    0.007877  |     0.752400  |             |  4.4s"
       ]
      },
      {
       "output_type": "stream",
       "stream": "stdout",
       "text": [
        "\n",
        "  1588  |    0.005904  |    0.007888  |     0.748411  |             |  4.4s"
       ]
      },
      {
       "output_type": "stream",
       "stream": "stdout",
       "text": [
        "\n",
        "  1589  |  \u001b[94m  0.005873\u001b[0m  |    0.007877  |     0.745634  |             |  4.4s"
       ]
      },
      {
       "output_type": "stream",
       "stream": "stdout",
       "text": [
        "\n",
        "  1590  |    0.005959  |    0.007891  |     0.755254  |             |  4.4s"
       ]
      },
      {
       "output_type": "stream",
       "stream": "stdout",
       "text": [
        "\n",
        "  1591  |    0.005952  |    0.007885  |     0.754798  |             |  4.4s"
       ]
      },
      {
       "output_type": "stream",
       "stream": "stdout",
       "text": [
        "\n",
        "  1592  |    0.005900  |    0.007926  |     0.744358  |             |  4.4s"
       ]
      },
      {
       "output_type": "stream",
       "stream": "stdout",
       "text": [
        "\n",
        "  1593  |    0.005891  |    0.007871  |     0.748388  |             |  4.4s"
       ]
      },
      {
       "output_type": "stream",
       "stream": "stdout",
       "text": [
        "\n",
        "  1594  |  \u001b[94m  0.005851\u001b[0m  |    0.007894  |     0.741179  |             |  4.4s"
       ]
      },
      {
       "output_type": "stream",
       "stream": "stdout",
       "text": [
        "\n",
        "  1595  |  \u001b[94m  0.005849\u001b[0m  |    0.007892  |     0.741128  |             |  4.4s"
       ]
      },
      {
       "output_type": "stream",
       "stream": "stdout",
       "text": [
        "\n",
        "  1596  |    0.005901  |    0.007899  |     0.747125  |             |  4.4s"
       ]
      },
      {
       "output_type": "stream",
       "stream": "stdout",
       "text": [
        "\n",
        "  1597  |    0.005936  |    0.007902  |     0.751141  |             |  4.4s"
       ]
      },
      {
       "output_type": "stream",
       "stream": "stdout",
       "text": [
        "\n",
        "  1598  |    0.005999  |    0.007874  |     0.761888  |             |  4.4s"
       ]
      },
      {
       "output_type": "stream",
       "stream": "stdout",
       "text": [
        "\n",
        "  1599  |    0.005891  |    0.007872  |     0.748267  |             |  4.4s"
       ]
      },
      {
       "output_type": "stream",
       "stream": "stdout",
       "text": [
        "\n",
        "  1600  |    0.005924  |    0.007878  |     0.751950  |             |  4.4s"
       ]
      },
      {
       "output_type": "stream",
       "stream": "stdout",
       "text": [
        "\n",
        "  1601  |    0.005862  |    0.007889  |     0.743074  |             |  4.4s"
       ]
      },
      {
       "output_type": "stream",
       "stream": "stdout",
       "text": [
        "\n",
        "  1602  |    0.005920  |    0.007877  |     0.751532  |             |  4.4s"
       ]
      },
      {
       "output_type": "stream",
       "stream": "stdout",
       "text": [
        "\n",
        "  1603  |    0.005902  |  \u001b[32m  0.007865\u001b[0m  |     0.750480  |             |  4.4s"
       ]
      },
      {
       "output_type": "stream",
       "stream": "stdout",
       "text": [
        "\n",
        "  1604  |    0.005883  |    0.007880  |     0.746618  |             |  4.4s"
       ]
      },
      {
       "output_type": "stream",
       "stream": "stdout",
       "text": [
        "\n",
        "  1605  |  \u001b[94m  0.005785\u001b[0m  |    0.007873  |     0.734832  |             |  4.4s"
       ]
      },
      {
       "output_type": "stream",
       "stream": "stdout",
       "text": [
        "\n",
        "  1606  |    0.005874  |    0.007872  |     0.746219  |             |  4.4s"
       ]
      },
      {
       "output_type": "stream",
       "stream": "stdout",
       "text": [
        "\n",
        "  1607  |    0.005870  |    0.007872  |     0.745600  |             |  4.4s"
       ]
      },
      {
       "output_type": "stream",
       "stream": "stdout",
       "text": [
        "\n",
        "  1608  |    0.005870  |    0.007883  |     0.744544  |             |  4.4s"
       ]
      },
      {
       "output_type": "stream",
       "stream": "stdout",
       "text": [
        "\n",
        "  1609  |    0.005882  |    0.007879  |     0.746606  |             |  4.4s"
       ]
      },
      {
       "output_type": "stream",
       "stream": "stdout",
       "text": [
        "\n",
        "  1610  |    0.005848  |  \u001b[32m  0.007860\u001b[0m  |     0.744025  |             |  4.4s"
       ]
      },
      {
       "output_type": "stream",
       "stream": "stdout",
       "text": [
        "\n",
        "  1611  |    0.005822  |    0.007875  |     0.739232  |             |  4.4s"
       ]
      },
      {
       "output_type": "stream",
       "stream": "stdout",
       "text": [
        "\n",
        "  1612  |    0.005817  |    0.007864  |     0.739785  |             |  4.4s"
       ]
      },
      {
       "output_type": "stream",
       "stream": "stdout",
       "text": [
        "\n",
        "  1613  |    0.005876  |    0.007883  |     0.745446  |             |  4.4s"
       ]
      },
      {
       "output_type": "stream",
       "stream": "stdout",
       "text": [
        "\n",
        "  1614  |    0.005826  |    0.007879  |     0.739383  |             |  4.4s"
       ]
      },
      {
       "output_type": "stream",
       "stream": "stdout",
       "text": [
        "\n",
        "  1615  |    0.005888  |    0.007884  |     0.746749  |             |  4.4s"
       ]
      },
      {
       "output_type": "stream",
       "stream": "stdout",
       "text": [
        "\n",
        "  1616  |    0.005892  |    0.007880  |     0.747718  |             |  4.4s"
       ]
      },
      {
       "output_type": "stream",
       "stream": "stdout",
       "text": [
        "\n",
        "  1617  |    0.005883  |    0.007865  |     0.747933  |             |  4.4s"
       ]
      },
      {
       "output_type": "stream",
       "stream": "stdout",
       "text": [
        "\n",
        "  1618  |    0.005841  |    0.007878  |     0.741427  |             |  4.4s"
       ]
      },
      {
       "output_type": "stream",
       "stream": "stdout",
       "text": [
        "\n",
        "  1619  |    0.005842  |  \u001b[32m  0.007850\u001b[0m  |     0.744164  |             |  4.4s"
       ]
      },
      {
       "output_type": "stream",
       "stream": "stdout",
       "text": [
        "\n",
        "  1620  |    0.005846  |    0.007859  |     0.743811  |             |  4.4s"
       ]
      },
      {
       "output_type": "stream",
       "stream": "stdout",
       "text": [
        "\n",
        "  1621  |    0.005857  |    0.007871  |     0.744164  |             |  4.4s"
       ]
      },
      {
       "output_type": "stream",
       "stream": "stdout",
       "text": [
        "\n",
        "  1622  |    0.005831  |    0.007869  |     0.741004  |             |  4.4s"
       ]
      },
      {
       "output_type": "stream",
       "stream": "stdout",
       "text": [
        "\n",
        "  1623  |  \u001b[94m  0.005743\u001b[0m  |    0.007868  |     0.729849  |             |  4.4s"
       ]
      },
      {
       "output_type": "stream",
       "stream": "stdout",
       "text": [
        "\n",
        "  1624  |    0.005757  |    0.007879  |     0.730655  |             |  4.4s"
       ]
      },
      {
       "output_type": "stream",
       "stream": "stdout",
       "text": [
        "\n",
        "  1625  |    0.005829  |    0.007865  |     0.741200  |             |  4.4s"
       ]
      },
      {
       "output_type": "stream",
       "stream": "stdout",
       "text": [
        "\n",
        "  1626  |    0.005777  |    0.007880  |     0.733082  |             |  4.4s"
       ]
      },
      {
       "output_type": "stream",
       "stream": "stdout",
       "text": [
        "\n",
        "  1627  |    0.005760  |    0.007883  |     0.730758  |             |  4.4s"
       ]
      },
      {
       "output_type": "stream",
       "stream": "stdout",
       "text": [
        "\n",
        "  1628  |    0.005841  |    0.007877  |     0.741514  |             |  4.4s"
       ]
      },
      {
       "output_type": "stream",
       "stream": "stdout",
       "text": [
        "\n",
        "  1629  |    0.005755  |    0.007871  |     0.731091  |             |  4.4s"
       ]
      },
      {
       "output_type": "stream",
       "stream": "stdout",
       "text": [
        "\n",
        "  1630  |    0.005826  |    0.007866  |     0.740637  |             |  4.4s"
       ]
      },
      {
       "output_type": "stream",
       "stream": "stdout",
       "text": [
        "\n",
        "  1631  |    0.005813  |    0.007853  |     0.740255  |             |  4.4s"
       ]
      },
      {
       "output_type": "stream",
       "stream": "stdout",
       "text": [
        "\n",
        "  1632  |    0.005788  |    0.007862  |     0.736216  |             |  4.4s"
       ]
      },
      {
       "output_type": "stream",
       "stream": "stdout",
       "text": [
        "\n",
        "  1633  |  \u001b[94m  0.005739\u001b[0m  |    0.007863  |     0.729858  |             |  4.4s"
       ]
      },
      {
       "output_type": "stream",
       "stream": "stdout",
       "text": [
        "\n",
        "  1634  |    0.005765  |    0.007851  |     0.734247  |             |  4.4s"
       ]
      },
      {
       "output_type": "stream",
       "stream": "stdout",
       "text": [
        "\n",
        "  1635  |    0.005760  |  \u001b[32m  0.007849\u001b[0m  |     0.733908  |             |  4.4s"
       ]
      },
      {
       "output_type": "stream",
       "stream": "stdout",
       "text": [
        "\n",
        "  1636  |    0.005749  |    0.007858  |     0.731637  |             |  4.4s"
       ]
      },
      {
       "output_type": "stream",
       "stream": "stdout",
       "text": [
        "\n",
        "  1637  |    0.005792  |    0.007861  |     0.736824  |             |  4.4s"
       ]
      },
      {
       "output_type": "stream",
       "stream": "stdout",
       "text": [
        "\n",
        "  1638  |    0.005782  |  \u001b[32m  0.007848\u001b[0m  |     0.736730  |             |  4.4s"
       ]
      },
      {
       "output_type": "stream",
       "stream": "stdout",
       "text": [
        "\n",
        "  1639  |    0.005856  |  \u001b[32m  0.007837\u001b[0m  |     0.747123  |             |  4.4s"
       ]
      },
      {
       "output_type": "stream",
       "stream": "stdout",
       "text": [
        "\n",
        "  1640  |  \u001b[94m  0.005694\u001b[0m  |    0.007857  |     0.724695  |             |  4.4s"
       ]
      },
      {
       "output_type": "stream",
       "stream": "stdout",
       "text": [
        "\n",
        "  1641  |    0.005733  |  \u001b[32m  0.007831\u001b[0m  |     0.732129  |             |  4.4s"
       ]
      },
      {
       "output_type": "stream",
       "stream": "stdout",
       "text": [
        "\n",
        "  1642  |    0.005697  |    0.007855  |     0.725205  |             |  4.4s"
       ]
      },
      {
       "output_type": "stream",
       "stream": "stdout",
       "text": [
        "\n",
        "  1643  |    0.005743  |    0.007855  |     0.731089  |             |  4.4s"
       ]
      },
      {
       "output_type": "stream",
       "stream": "stdout",
       "text": [
        "\n",
        "  1644  |    0.005805  |    0.007857  |     0.738871  |             |  4.4s"
       ]
      },
      {
       "output_type": "stream",
       "stream": "stdout",
       "text": [
        "\n",
        "  1645  |    0.005786  |    0.007846  |     0.737420  |             |  4.4s"
       ]
      },
      {
       "output_type": "stream",
       "stream": "stdout",
       "text": [
        "\n",
        "  1646  |    0.005795  |  \u001b[32m  0.007831\u001b[0m  |     0.740006  |             |  4.4s"
       ]
      },
      {
       "output_type": "stream",
       "stream": "stdout",
       "text": [
        "\n",
        "  1647  |  \u001b[94m  0.005689\u001b[0m  |  \u001b[32m  0.007814\u001b[0m  |     0.728025  |             |  4.4s"
       ]
      },
      {
       "output_type": "stream",
       "stream": "stdout",
       "text": [
        "\n",
        "  1648  |    0.005706  |    0.007858  |     0.726165  |             |  4.4s"
       ]
      },
      {
       "output_type": "stream",
       "stream": "stdout",
       "text": [
        "\n",
        "  1649  |    0.005748  |    0.007843  |     0.732827  |             |  4.4s"
       ]
      },
      {
       "output_type": "stream",
       "stream": "stdout",
       "text": [
        "\n",
        "  1650  |    0.005753  |    0.007827  |     0.734979  |             |  4.4s"
       ]
      },
      {
       "output_type": "stream",
       "stream": "stdout",
       "text": [
        "\n",
        "  1651  |  \u001b[94m  0.005665\u001b[0m  |    0.007846  |     0.722060  |             |  4.4s"
       ]
      },
      {
       "output_type": "stream",
       "stream": "stdout",
       "text": [
        "\n",
        "  1652  |    0.005709  |    0.007841  |     0.728077  |             |  4.4s"
       ]
      },
      {
       "output_type": "stream",
       "stream": "stdout",
       "text": [
        "\n",
        "  1653  |    0.005771  |    0.007850  |     0.735235  |             |  4.4s"
       ]
      },
      {
       "output_type": "stream",
       "stream": "stdout",
       "text": [
        "\n",
        "  1654  |  \u001b[94m  0.005641\u001b[0m  |    0.007819  |     0.721350  |             |  4.4s"
       ]
      },
      {
       "output_type": "stream",
       "stream": "stdout",
       "text": [
        "\n",
        "  1655  |    0.005745  |    0.007843  |     0.732537  |             |  4.4s"
       ]
      },
      {
       "output_type": "stream",
       "stream": "stdout",
       "text": [
        "\n",
        "  1656  |    0.005683  |    0.007838  |     0.725075  |             |  4.4s"
       ]
      },
      {
       "output_type": "stream",
       "stream": "stdout",
       "text": [
        "\n",
        "  1657  |    0.005821  |    0.007840  |     0.742432  |             |  4.4s"
       ]
      },
      {
       "output_type": "stream",
       "stream": "stdout",
       "text": [
        "\n",
        "  1658  |    0.005650  |    0.007851  |     0.719651  |             |  4.4s"
       ]
      },
      {
       "output_type": "stream",
       "stream": "stdout",
       "text": [
        "\n",
        "  1659  |    0.005672  |    0.007826  |     0.724783  |             |  4.4s"
       ]
      },
      {
       "output_type": "stream",
       "stream": "stdout",
       "text": [
        "\n",
        "  1660  |    0.005654  |    0.007832  |     0.721876  |             |  4.4s"
       ]
      },
      {
       "output_type": "stream",
       "stream": "stdout",
       "text": [
        "\n",
        "  1661  |    0.005709  |    0.007838  |     0.728357  |             |  4.4s"
       ]
      },
      {
       "output_type": "stream",
       "stream": "stdout",
       "text": [
        "\n",
        "  1662  |    0.005654  |    0.007832  |     0.721907  |             |  4.4s"
       ]
      },
      {
       "output_type": "stream",
       "stream": "stdout",
       "text": [
        "\n",
        "  1663  |    0.005713  |    0.007822  |     0.730442  |             |  4.4s"
       ]
      },
      {
       "output_type": "stream",
       "stream": "stdout",
       "text": [
        "\n",
        "  1664  |    0.005733  |    0.007819  |     0.733190  |             |  4.4s"
       ]
      },
      {
       "output_type": "stream",
       "stream": "stdout",
       "text": [
        "\n",
        "  1665  |    0.005684  |  \u001b[32m  0.007808\u001b[0m  |     0.728035  |             |  4.4s"
       ]
      },
      {
       "output_type": "stream",
       "stream": "stdout",
       "text": [
        "\n",
        "  1666  |  \u001b[94m  0.005630\u001b[0m  |    0.007842  |     0.717989  |             |  4.4s"
       ]
      },
      {
       "output_type": "stream",
       "stream": "stdout",
       "text": [
        "\n",
        "  1667  |  \u001b[94m  0.005610\u001b[0m  |    0.007809  |     0.718416  |             |  4.4s"
       ]
      },
      {
       "output_type": "stream",
       "stream": "stdout",
       "text": [
        "\n",
        "  1668  |    0.005637  |    0.007825  |     0.720388  |             |  4.4s"
       ]
      },
      {
       "output_type": "stream",
       "stream": "stdout",
       "text": [
        "\n",
        "  1669  |    0.005641  |    0.007829  |     0.720541  |             |  4.4s"
       ]
      },
      {
       "output_type": "stream",
       "stream": "stdout",
       "text": [
        "\n",
        "  1670  |    0.005664  |    0.007863  |     0.720264  |             |  4.4s"
       ]
      },
      {
       "output_type": "stream",
       "stream": "stdout",
       "text": [
        "\n",
        "  1671  |  \u001b[94m  0.005593\u001b[0m  |    0.007838  |     0.713560  |             |  4.4s"
       ]
      },
      {
       "output_type": "stream",
       "stream": "stdout",
       "text": [
        "\n",
        "  1672  |  \u001b[94m  0.005586\u001b[0m  |  \u001b[32m  0.007806\u001b[0m  |     0.715561  |             |  4.4s"
       ]
      },
      {
       "output_type": "stream",
       "stream": "stdout",
       "text": [
        "\n",
        "  1673  |    0.005626  |    0.007813  |     0.720075  |             |  4.4s"
       ]
      },
      {
       "output_type": "stream",
       "stream": "stdout",
       "text": [
        "\n",
        "  1674  |  \u001b[94m  0.005536\u001b[0m  |    0.007844  |     0.705771  |             |  4.4s"
       ]
      },
      {
       "output_type": "stream",
       "stream": "stdout",
       "text": [
        "\n",
        "  1675  |    0.005697  |    0.007845  |     0.726205  |             |  4.4s"
       ]
      },
      {
       "output_type": "stream",
       "stream": "stdout",
       "text": [
        "\n",
        "  1676  |    0.005658  |    0.007817  |     0.723862  |             |  4.4s"
       ]
      },
      {
       "output_type": "stream",
       "stream": "stdout",
       "text": [
        "\n",
        "  1677  |    0.005647  |    0.007830  |     0.721158  |             |  4.4s"
       ]
      },
      {
       "output_type": "stream",
       "stream": "stdout",
       "text": [
        "\n",
        "  1678  |    0.005666  |    0.007834  |     0.723191  |             |  4.4s"
       ]
      },
      {
       "output_type": "stream",
       "stream": "stdout",
       "text": [
        "\n",
        "  1679  |    0.005596  |    0.007818  |     0.715817  |             |  4.4s"
       ]
      },
      {
       "output_type": "stream",
       "stream": "stdout",
       "text": [
        "\n",
        "  1680  |    0.005590  |    0.007836  |     0.713352  |             |  4.4s"
       ]
      },
      {
       "output_type": "stream",
       "stream": "stdout",
       "text": [
        "\n",
        "  1681  |    0.005683  |    0.007852  |     0.723751  |             |  4.4s"
       ]
      },
      {
       "output_type": "stream",
       "stream": "stdout",
       "text": [
        "\n",
        "  1682  |    0.005636  |    0.007820  |     0.720730  |             |  4.4s"
       ]
      },
      {
       "output_type": "stream",
       "stream": "stdout",
       "text": [
        "\n",
        "  1683  |    0.005574  |    0.007818  |     0.712921  |             |  4.4s"
       ]
      },
      {
       "output_type": "stream",
       "stream": "stdout",
       "text": [
        "\n",
        "  1684  |    0.005602  |    0.007806  |     0.717614  |             |  4.4s"
       ]
      },
      {
       "output_type": "stream",
       "stream": "stdout",
       "text": [
        "\n",
        "  1685  |    0.005611  |    0.007820  |     0.717518  |             |  4.4s"
       ]
      },
      {
       "output_type": "stream",
       "stream": "stdout",
       "text": [
        "\n",
        "  1686  |    0.005606  |    0.007817  |     0.717215  |             |  4.4s"
       ]
      },
      {
       "output_type": "stream",
       "stream": "stdout",
       "text": [
        "\n",
        "  1687  |    0.005571  |    0.007807  |     0.713524  |             |  4.4s"
       ]
      },
      {
       "output_type": "stream",
       "stream": "stdout",
       "text": [
        "\n",
        "  1688  |    0.005659  |    0.007829  |     0.722825  |             |  4.4s"
       ]
      },
      {
       "output_type": "stream",
       "stream": "stdout",
       "text": [
        "\n",
        "  1689  |    0.005618  |    0.007817  |     0.718739  |             |  4.4s"
       ]
      },
      {
       "output_type": "stream",
       "stream": "stdout",
       "text": [
        "\n",
        "  1690  |  \u001b[94m  0.005524\u001b[0m  |    0.007820  |     0.706449  |             |  4.4s"
       ]
      },
      {
       "output_type": "stream",
       "stream": "stdout",
       "text": [
        "\n",
        "  1691  |  \u001b[94m  0.005521\u001b[0m  |    0.007809  |     0.706992  |             |  4.4s"
       ]
      },
      {
       "output_type": "stream",
       "stream": "stdout",
       "text": [
        "\n",
        "  1692  |    0.005525  |    0.007829  |     0.705690  |             |  4.4s"
       ]
      },
      {
       "output_type": "stream",
       "stream": "stdout",
       "text": [
        "\n",
        "  1693  |    0.005543  |    0.007815  |     0.709288  |             |  4.4s"
       ]
      },
      {
       "output_type": "stream",
       "stream": "stdout",
       "text": [
        "\n",
        "  1694  |  \u001b[94m  0.005448\u001b[0m  |    0.007842  |     0.694707  |             |  4.4s"
       ]
      },
      {
       "output_type": "stream",
       "stream": "stdout",
       "text": [
        "\n",
        "  1695  |    0.005626  |    0.007836  |     0.717965  |             |  4.4s"
       ]
      },
      {
       "output_type": "stream",
       "stream": "stdout",
       "text": [
        "\n",
        "  1696  |    0.005498  |    0.007828  |     0.702388  |             |  4.4s"
       ]
      },
      {
       "output_type": "stream",
       "stream": "stdout",
       "text": [
        "\n",
        "  1697  |    0.005535  |    0.007835  |     0.706508  |             |  4.4s"
       ]
      },
      {
       "output_type": "stream",
       "stream": "stdout",
       "text": [
        "\n",
        "  1698  |    0.005558  |    0.007840  |     0.709009  |             |  4.4s"
       ]
      },
      {
       "output_type": "stream",
       "stream": "stdout",
       "text": [
        "\n",
        "  1699  |    0.005557  |  \u001b[32m  0.007801\u001b[0m  |     0.712280  |             |  4.4s"
       ]
      },
      {
       "output_type": "stream",
       "stream": "stdout",
       "text": [
        "\n",
        "  1700  |    0.005533  |  \u001b[32m  0.007801\u001b[0m  |     0.709256  |             |  4.4s"
       ]
      },
      {
       "output_type": "stream",
       "stream": "stdout",
       "text": [
        "\n",
        "  1701  |    0.005568  |    0.007834  |     0.710756  |             |  4.4s"
       ]
      },
      {
       "output_type": "stream",
       "stream": "stdout",
       "text": [
        "\n",
        "  1702  |    0.005513  |    0.007804  |     0.706453  |             |  4.4s"
       ]
      },
      {
       "output_type": "stream",
       "stream": "stdout",
       "text": [
        "\n",
        "  1703  |    0.005551  |    0.007834  |     0.708640  |             |  4.4s"
       ]
      },
      {
       "output_type": "stream",
       "stream": "stdout",
       "text": [
        "\n",
        "  1704  |    0.005528  |    0.007818  |     0.707171  |             |  4.4s"
       ]
      },
      {
       "output_type": "stream",
       "stream": "stdout",
       "text": [
        "\n",
        "  1705  |    0.005521  |    0.007812  |     0.706707  |             |  4.4s"
       ]
      },
      {
       "output_type": "stream",
       "stream": "stdout",
       "text": [
        "\n",
        "  1706  |    0.005532  |    0.007804  |     0.708939  |             |  4.4s"
       ]
      },
      {
       "output_type": "stream",
       "stream": "stdout",
       "text": [
        "\n",
        "  1707  |    0.005537  |  \u001b[32m  0.007799\u001b[0m  |     0.709974  |             |  4.4s"
       ]
      },
      {
       "output_type": "stream",
       "stream": "stdout",
       "text": [
        "\n",
        "  1708  |    0.005531  |    0.007810  |     0.708131  |             |  4.4s"
       ]
      },
      {
       "output_type": "stream",
       "stream": "stdout",
       "text": [
        "\n",
        "  1709  |    0.005457  |  \u001b[32m  0.007798\u001b[0m  |     0.699866  |             |  4.4s"
       ]
      },
      {
       "output_type": "stream",
       "stream": "stdout",
       "text": [
        "\n",
        "  1710  |  \u001b[94m  0.005426\u001b[0m  |  \u001b[32m  0.007792\u001b[0m  |     0.696285  |             |  4.4s"
       ]
      },
      {
       "output_type": "stream",
       "stream": "stdout",
       "text": [
        "\n",
        "  1711  |    0.005523  |    0.007800  |     0.708001  |             |  4.4s"
       ]
      },
      {
       "output_type": "stream",
       "stream": "stdout",
       "text": [
        "\n",
        "  1712  |    0.005466  |    0.007804  |     0.700453  |             |  4.4s"
       ]
      },
      {
       "output_type": "stream",
       "stream": "stdout",
       "text": [
        "\n",
        "  1713  |    0.005520  |    0.007805  |     0.707226  |             |  4.4s"
       ]
      },
      {
       "output_type": "stream",
       "stream": "stdout",
       "text": [
        "\n",
        "  1714  |    0.005488  |    0.007808  |     0.702853  |             |  4.4s"
       ]
      },
      {
       "output_type": "stream",
       "stream": "stdout",
       "text": [
        "\n",
        "  1715  |    0.005482  |    0.007821  |     0.700976  |             |  4.4s"
       ]
      },
      {
       "output_type": "stream",
       "stream": "stdout",
       "text": [
        "\n",
        "  1716  |    0.005534  |    0.007806  |     0.708934  |             |  4.4s"
       ]
      },
      {
       "output_type": "stream",
       "stream": "stdout",
       "text": [
        "\n",
        "  1717  |    0.005508  |    0.007806  |     0.705664  |             |  4.4s"
       ]
      },
      {
       "output_type": "stream",
       "stream": "stdout",
       "text": [
        "\n",
        "  1718  |    0.005440  |    0.007804  |     0.697126  |             |  4.4s"
       ]
      },
      {
       "output_type": "stream",
       "stream": "stdout",
       "text": [
        "\n",
        "  1719  |    0.005499  |    0.007807  |     0.704447  |             |  4.4s"
       ]
      },
      {
       "output_type": "stream",
       "stream": "stdout",
       "text": [
        "\n",
        "  1720  |    0.005429  |    0.007806  |     0.695509  |             |  4.4s"
       ]
      },
      {
       "output_type": "stream",
       "stream": "stdout",
       "text": [
        "\n",
        "  1721  |    0.005514  |    0.007819  |     0.705245  |             |  4.4s"
       ]
      },
      {
       "output_type": "stream",
       "stream": "stdout",
       "text": [
        "\n",
        "  1722  |    0.005499  |    0.007832  |     0.702215  |             |  4.4s"
       ]
      },
      {
       "output_type": "stream",
       "stream": "stdout",
       "text": [
        "\n",
        "  1723  |    0.005443  |  \u001b[32m  0.007789\u001b[0m  |     0.698818  |             |  4.4s"
       ]
      },
      {
       "output_type": "stream",
       "stream": "stdout",
       "text": [
        "\n",
        "  1724  |    0.005442  |    0.007827  |     0.695323  |             |  4.4s"
       ]
      },
      {
       "output_type": "stream",
       "stream": "stdout",
       "text": [
        "\n",
        "  1725  |    0.005438  |    0.007824  |     0.695115  |             |  4.4s"
       ]
      },
      {
       "output_type": "stream",
       "stream": "stdout",
       "text": [
        "\n",
        "  1726  |  \u001b[94m  0.005348\u001b[0m  |    0.007802  |     0.685457  |             |  4.4s"
       ]
      },
      {
       "output_type": "stream",
       "stream": "stdout",
       "text": [
        "\n",
        "  1727  |    0.005432  |    0.007798  |     0.696616  |             |  4.4s"
       ]
      },
      {
       "output_type": "stream",
       "stream": "stdout",
       "text": [
        "\n",
        "  1728  |    0.005408  |    0.007802  |     0.693161  |             |  4.4s"
       ]
      },
      {
       "output_type": "stream",
       "stream": "stdout",
       "text": [
        "\n",
        "  1729  |    0.005494  |    0.007794  |     0.704870  |             |  4.4s"
       ]
      },
      {
       "output_type": "stream",
       "stream": "stdout",
       "text": [
        "\n",
        "  1730  |    0.005410  |  \u001b[32m  0.007775\u001b[0m  |     0.695714  |             |  4.4s"
       ]
      },
      {
       "output_type": "stream",
       "stream": "stdout",
       "text": [
        "\n",
        "  1731  |    0.005436  |    0.007805  |     0.696476  |             |  4.4s"
       ]
      },
      {
       "output_type": "stream",
       "stream": "stdout",
       "text": [
        "\n",
        "  1732  |    0.005412  |    0.007807  |     0.693247  |             |  4.4s"
       ]
      },
      {
       "output_type": "stream",
       "stream": "stdout",
       "text": [
        "\n",
        "  1733  |    0.005440  |    0.007787  |     0.698577  |             |  4.4s"
       ]
      },
      {
       "output_type": "stream",
       "stream": "stdout",
       "text": [
        "\n",
        "  1734  |    0.005363  |    0.007805  |     0.687091  |             |  4.4s"
       ]
      },
      {
       "output_type": "stream",
       "stream": "stdout",
       "text": [
        "\n",
        "  1735  |  \u001b[94m  0.005340\u001b[0m  |    0.007800  |     0.684654  |             |  4.4s"
       ]
      },
      {
       "output_type": "stream",
       "stream": "stdout",
       "text": [
        "\n",
        "  1736  |    0.005448  |    0.007792  |     0.699149  |             |  4.4s"
       ]
      },
      {
       "output_type": "stream",
       "stream": "stdout",
       "text": [
        "\n",
        "  1737  |    0.005455  |    0.007813  |     0.698269  |             |  4.4s"
       ]
      },
      {
       "output_type": "stream",
       "stream": "stdout",
       "text": [
        "\n",
        "  1738  |    0.005390  |    0.007810  |     0.690134  |             |  4.4s"
       ]
      },
      {
       "output_type": "stream",
       "stream": "stdout",
       "text": [
        "\n",
        "  1739  |    0.005451  |    0.007818  |     0.697249  |             |  4.4s"
       ]
      },
      {
       "output_type": "stream",
       "stream": "stdout",
       "text": [
        "\n",
        "  1740  |    0.005355  |    0.007807  |     0.685944  |             |  4.4s"
       ]
      },
      {
       "output_type": "stream",
       "stream": "stdout",
       "text": [
        "\n",
        "  1741  |    0.005376  |    0.007791  |     0.690038  |             |  4.4s"
       ]
      },
      {
       "output_type": "stream",
       "stream": "stdout",
       "text": [
        "\n",
        "  1742  |    0.005432  |    0.007799  |     0.696451  |             |  4.4s"
       ]
      },
      {
       "output_type": "stream",
       "stream": "stdout",
       "text": [
        "\n",
        "  1743  |  \u001b[94m  0.005326\u001b[0m  |    0.007795  |     0.683288  |             |  4.4s"
       ]
      },
      {
       "output_type": "stream",
       "stream": "stdout",
       "text": [
        "\n",
        "  1744  |    0.005389  |    0.007789  |     0.691965  |             |  4.4s"
       ]
      },
      {
       "output_type": "stream",
       "stream": "stdout",
       "text": [
        "\n",
        "  1745  |    0.005440  |    0.007803  |     0.697222  |             |  4.4s"
       ]
      },
      {
       "output_type": "stream",
       "stream": "stdout",
       "text": [
        "\n",
        "  1746  |  \u001b[94m  0.005325\u001b[0m  |    0.007797  |     0.682941  |             |  4.4s"
       ]
      },
      {
       "output_type": "stream",
       "stream": "stdout",
       "text": [
        "\n",
        "  1747  |    0.005492  |  \u001b[32m  0.007765\u001b[0m  |     0.707353  |             |  4.4s"
       ]
      },
      {
       "output_type": "stream",
       "stream": "stdout",
       "text": [
        "\n",
        "  1748  |    0.005367  |    0.007804  |     0.687655  |             |  4.4s"
       ]
      },
      {
       "output_type": "stream",
       "stream": "stdout",
       "text": [
        "\n",
        "  1749  |    0.005467  |    0.007801  |     0.700800  |             |  4.4s"
       ]
      },
      {
       "output_type": "stream",
       "stream": "stdout",
       "text": [
        "\n",
        "  1750  |    0.005439  |    0.007786  |     0.698520  |             |  4.4s"
       ]
      },
      {
       "output_type": "stream",
       "stream": "stdout",
       "text": [
        "\n",
        "  1751  |    0.005343  |    0.007795  |     0.685360  |             |  4.4s"
       ]
      },
      {
       "output_type": "stream",
       "stream": "stdout",
       "text": [
        "\n",
        "  1752  |    0.005352  |    0.007799  |     0.686190  |             |  4.4s"
       ]
      },
      {
       "output_type": "stream",
       "stream": "stdout",
       "text": [
        "\n",
        "  1753  |  \u001b[94m  0.005278\u001b[0m  |    0.007781  |     0.678259  |             |  4.4s"
       ]
      },
      {
       "output_type": "stream",
       "stream": "stdout",
       "text": [
        "\n",
        "  1754  |  \u001b[94m  0.005275\u001b[0m  |    0.007793  |     0.676957  |             |  4.4s"
       ]
      },
      {
       "output_type": "stream",
       "stream": "stdout",
       "text": [
        "\n",
        "  1755  |    0.005318  |    0.007798  |     0.682004  |             |  4.4s"
       ]
      },
      {
       "output_type": "stream",
       "stream": "stdout",
       "text": [
        "\n",
        "  1756  |    0.005318  |    0.007799  |     0.681900  |             |  4.4s"
       ]
      },
      {
       "output_type": "stream",
       "stream": "stdout",
       "text": [
        "\n",
        "  1757  |    0.005382  |  \u001b[32m  0.007762\u001b[0m  |     0.693391  |             |  4.4s"
       ]
      },
      {
       "output_type": "stream",
       "stream": "stdout",
       "text": [
        "\n",
        "  1758  |    0.005361  |    0.007782  |     0.688887  |             |  4.4s"
       ]
      },
      {
       "output_type": "stream",
       "stream": "stdout",
       "text": [
        "\n",
        "  1759  |    0.005385  |    0.007787  |     0.691457  |             |  4.4s"
       ]
      },
      {
       "output_type": "stream",
       "stream": "stdout",
       "text": [
        "\n",
        "  1760  |    0.005355  |    0.007796  |     0.686907  |             |  4.4s"
       ]
      },
      {
       "output_type": "stream",
       "stream": "stdout",
       "text": [
        "\n",
        "  1761  |    0.005354  |    0.007795  |     0.686777  |             |  4.4s"
       ]
      },
      {
       "output_type": "stream",
       "stream": "stdout",
       "text": [
        "\n",
        "  1762  |    0.005367  |    0.007772  |     0.690601  |             |  4.4s"
       ]
      },
      {
       "output_type": "stream",
       "stream": "stdout",
       "text": [
        "\n",
        "  1763  |    0.005300  |    0.007802  |     0.679242  |             |  4.4s"
       ]
      },
      {
       "output_type": "stream",
       "stream": "stdout",
       "text": [
        "\n",
        "  1764  |    0.005278  |    0.007774  |     0.678992  |             |  4.4s"
       ]
      },
      {
       "output_type": "stream",
       "stream": "stdout",
       "text": [
        "\n",
        "  1765  |    0.005331  |    0.007802  |     0.683279  |             |  4.4s"
       ]
      },
      {
       "output_type": "stream",
       "stream": "stdout",
       "text": [
        "\n",
        "  1766  |  \u001b[94m  0.005263\u001b[0m  |    0.007780  |     0.676482  |             |  4.4s"
       ]
      },
      {
       "output_type": "stream",
       "stream": "stdout",
       "text": [
        "\n",
        "  1767  |    0.005372  |    0.007778  |     0.690621  |             |  4.4s"
       ]
      },
      {
       "output_type": "stream",
       "stream": "stdout",
       "text": [
        "\n",
        "  1768  |    0.005299  |    0.007795  |     0.679862  |             |  4.4s"
       ]
      },
      {
       "output_type": "stream",
       "stream": "stdout",
       "text": [
        "\n",
        "  1769  |    0.005306  |  \u001b[32m  0.007759\u001b[0m  |     0.683889  |             |  4.4s"
       ]
      },
      {
       "output_type": "stream",
       "stream": "stdout",
       "text": [
        "\n",
        "  1770  |    0.005263  |    0.007770  |     0.677345  |             |  4.4s"
       ]
      },
      {
       "output_type": "stream",
       "stream": "stdout",
       "text": [
        "\n",
        "  1771  |    0.005263  |    0.007791  |     0.675521  |             |  4.4s"
       ]
      },
      {
       "output_type": "stream",
       "stream": "stdout",
       "text": [
        "\n",
        "  1772  |    0.005332  |    0.007781  |     0.685286  |             |  4.4s"
       ]
      },
      {
       "output_type": "stream",
       "stream": "stdout",
       "text": [
        "\n",
        "  1773  |    0.005316  |    0.007767  |     0.684441  |             |  4.4s"
       ]
      },
      {
       "output_type": "stream",
       "stream": "stdout",
       "text": [
        "\n",
        "  1774  |  \u001b[94m  0.005224\u001b[0m  |    0.007772  |     0.672231  |             |  4.4s"
       ]
      },
      {
       "output_type": "stream",
       "stream": "stdout",
       "text": [
        "\n",
        "  1775  |    0.005295  |    0.007775  |     0.681080  |             |  4.4s"
       ]
      },
      {
       "output_type": "stream",
       "stream": "stdout",
       "text": [
        "\n",
        "  1776  |    0.005310  |    0.007772  |     0.683182  |             |  4.4s"
       ]
      },
      {
       "output_type": "stream",
       "stream": "stdout",
       "text": [
        "\n",
        "  1777  |    0.005255  |    0.007776  |     0.675768  |             |  4.4s"
       ]
      },
      {
       "output_type": "stream",
       "stream": "stdout",
       "text": [
        "\n",
        "  1778  |    0.005273  |    0.007793  |     0.676598  |             |  4.4s"
       ]
      },
      {
       "output_type": "stream",
       "stream": "stdout",
       "text": [
        "\n",
        "  1779  |    0.005269  |    0.007773  |     0.677807  |             |  4.4s"
       ]
      },
      {
       "output_type": "stream",
       "stream": "stdout",
       "text": [
        "\n",
        "  1780  |    0.005287  |    0.007771  |     0.680302  |             |  4.4s"
       ]
      },
      {
       "output_type": "stream",
       "stream": "stdout",
       "text": [
        "\n",
        "  1781  |    0.005342  |  \u001b[32m  0.007756\u001b[0m  |     0.688757  |             |  4.4s"
       ]
      },
      {
       "output_type": "stream",
       "stream": "stdout",
       "text": [
        "\n",
        "  1782  |    0.005302  |    0.007766  |     0.682765  |             |  4.4s"
       ]
      },
      {
       "output_type": "stream",
       "stream": "stdout",
       "text": [
        "\n",
        "  1783  |    0.005259  |    0.007777  |     0.676297  |             |  4.4s"
       ]
      },
      {
       "output_type": "stream",
       "stream": "stdout",
       "text": [
        "\n",
        "  1784  |    0.005292  |  \u001b[32m  0.007754\u001b[0m  |     0.682413  |             |  4.4s"
       ]
      },
      {
       "output_type": "stream",
       "stream": "stdout",
       "text": [
        "\n",
        "  1785  |    0.005308  |    0.007778  |     0.682444  |             |  4.4s"
       ]
      },
      {
       "output_type": "stream",
       "stream": "stdout",
       "text": [
        "\n",
        "  1786  |    0.005279  |    0.007774  |     0.679073  |             |  4.4s"
       ]
      },
      {
       "output_type": "stream",
       "stream": "stdout",
       "text": [
        "\n",
        "  1787  |    0.005301  |    0.007768  |     0.682388  |             |  4.4s"
       ]
      },
      {
       "output_type": "stream",
       "stream": "stdout",
       "text": [
        "\n",
        "  1788  |    0.005301  |    0.007758  |     0.683265  |             |  4.4s"
       ]
      },
      {
       "output_type": "stream",
       "stream": "stdout",
       "text": [
        "\n",
        "  1789  |    0.005273  |    0.007770  |     0.678568  |             |  4.4s"
       ]
      },
      {
       "output_type": "stream",
       "stream": "stdout",
       "text": [
        "\n",
        "  1790  |    0.005241  |  \u001b[32m  0.007746\u001b[0m  |     0.676690  |             |  4.4s"
       ]
      },
      {
       "output_type": "stream",
       "stream": "stdout",
       "text": [
        "\n",
        "  1791  |    0.005262  |    0.007768  |     0.677448  |             |  4.4s"
       ]
      },
      {
       "output_type": "stream",
       "stream": "stdout",
       "text": [
        "\n",
        "  1792  |    0.005279  |    0.007790  |     0.677657  |             |  4.4s"
       ]
      },
      {
       "output_type": "stream",
       "stream": "stdout",
       "text": [
        "\n",
        "  1793  |  \u001b[94m  0.005207\u001b[0m  |    0.007755  |     0.671478  |             |  4.4s"
       ]
      },
      {
       "output_type": "stream",
       "stream": "stdout",
       "text": [
        "\n",
        "  1794  |    0.005261  |  \u001b[32m  0.007744\u001b[0m  |     0.679291  |             |  4.4s"
       ]
      },
      {
       "output_type": "stream",
       "stream": "stdout",
       "text": [
        "\n",
        "  1795  |    0.005265  |  \u001b[32m  0.007739\u001b[0m  |     0.680296  |             |  4.4s"
       ]
      },
      {
       "output_type": "stream",
       "stream": "stdout",
       "text": [
        "\n",
        "  1796  |  \u001b[94m  0.005180\u001b[0m  |    0.007748  |     0.668553  |             |  4.4s"
       ]
      },
      {
       "output_type": "stream",
       "stream": "stdout",
       "text": [
        "\n",
        "  1797  |    0.005280  |    0.007775  |     0.679047  |             |  4.4s"
       ]
      },
      {
       "output_type": "stream",
       "stream": "stdout",
       "text": [
        "\n",
        "  1798  |    0.005282  |  \u001b[32m  0.007728\u001b[0m  |     0.683470  |             |  4.4s"
       ]
      },
      {
       "output_type": "stream",
       "stream": "stdout",
       "text": [
        "\n",
        "  1799  |    0.005212  |    0.007768  |     0.670901  |             |  4.4s"
       ]
      },
      {
       "output_type": "stream",
       "stream": "stdout",
       "text": [
        "\n",
        "  1800  |    0.005241  |    0.007762  |     0.675205  |             |  4.4s"
       ]
      },
      {
       "output_type": "stream",
       "stream": "stdout",
       "text": [
        "\n",
        "  1801  |    0.005279  |    0.007786  |     0.678037  |             |  4.4s"
       ]
      },
      {
       "output_type": "stream",
       "stream": "stdout",
       "text": [
        "\n",
        "  1802  |    0.005231  |    0.007735  |     0.676357  |             |  4.4s"
       ]
      },
      {
       "output_type": "stream",
       "stream": "stdout",
       "text": [
        "\n",
        "  1803  |    0.005184  |    0.007787  |     0.665677  |             |  4.4s"
       ]
      },
      {
       "output_type": "stream",
       "stream": "stdout",
       "text": [
        "\n",
        "  1804  |    0.005298  |    0.007777  |     0.681341  |             |  4.4s"
       ]
      },
      {
       "output_type": "stream",
       "stream": "stdout",
       "text": [
        "\n",
        "  1805  |    0.005253  |    0.007754  |     0.677481  |             |  4.4s"
       ]
      },
      {
       "output_type": "stream",
       "stream": "stdout",
       "text": [
        "\n",
        "  1806  |  \u001b[94m  0.005136\u001b[0m  |    0.007758  |     0.662012  |             |  4.4s"
       ]
      },
      {
       "output_type": "stream",
       "stream": "stdout",
       "text": [
        "\n",
        "  1807  |    0.005246  |    0.007772  |     0.675011  |             |  4.4s"
       ]
      },
      {
       "output_type": "stream",
       "stream": "stdout",
       "text": [
        "\n",
        "  1808  |    0.005216  |    0.007783  |     0.670213  |             |  4.4s"
       ]
      },
      {
       "output_type": "stream",
       "stream": "stdout",
       "text": [
        "\n",
        "  1809  |    0.005201  |    0.007761  |     0.670099  |             |  4.4s"
       ]
      },
      {
       "output_type": "stream",
       "stream": "stdout",
       "text": [
        "\n",
        "  1810  |    0.005203  |    0.007773  |     0.669370  |             |  4.4s"
       ]
      },
      {
       "output_type": "stream",
       "stream": "stdout",
       "text": [
        "\n",
        "  1811  |    0.005197  |    0.007744  |     0.671011  |             |  4.4s"
       ]
      },
      {
       "output_type": "stream",
       "stream": "stdout",
       "text": [
        "\n",
        "  1812  |    0.005317  |    0.007765  |     0.684727  |             |  4.4s"
       ]
      },
      {
       "output_type": "stream",
       "stream": "stdout",
       "text": [
        "\n",
        "  1813  |    0.005213  |    0.007752  |     0.672480  |             |  4.4s"
       ]
      },
      {
       "output_type": "stream",
       "stream": "stdout",
       "text": [
        "\n",
        "  1814  |    0.005178  |    0.007755  |     0.667665  |             |  4.4s"
       ]
      },
      {
       "output_type": "stream",
       "stream": "stdout",
       "text": [
        "\n",
        "  1815  |    0.005180  |    0.007767  |     0.666985  |             |  4.4s"
       ]
      },
      {
       "output_type": "stream",
       "stream": "stdout",
       "text": [
        "\n",
        "  1816  |    0.005230  |  \u001b[32m  0.007719\u001b[0m  |     0.677534  |             |  4.4s"
       ]
      },
      {
       "output_type": "stream",
       "stream": "stdout",
       "text": [
        "\n",
        "  1817  |    0.005226  |    0.007750  |     0.674317  |             |  4.4s"
       ]
      },
      {
       "output_type": "stream",
       "stream": "stdout",
       "text": [
        "\n",
        "  1818  |    0.005140  |    0.007753  |     0.663047  |             |  4.4s"
       ]
      },
      {
       "output_type": "stream",
       "stream": "stdout",
       "text": [
        "\n",
        "  1819  |    0.005191  |    0.007742  |     0.670391  |             |  4.4s"
       ]
      },
      {
       "output_type": "stream",
       "stream": "stdout",
       "text": [
        "\n",
        "  1820  |  \u001b[94m  0.005132\u001b[0m  |    0.007740  |     0.663052  |             |  4.4s"
       ]
      },
      {
       "output_type": "stream",
       "stream": "stdout",
       "text": [
        "\n",
        "  1821  |  \u001b[94m  0.005118\u001b[0m  |    0.007745  |     0.660743  |             |  4.4s"
       ]
      },
      {
       "output_type": "stream",
       "stream": "stdout",
       "text": [
        "\n",
        "  1822  |    0.005123  |    0.007759  |     0.660234  |             |  4.4s"
       ]
      },
      {
       "output_type": "stream",
       "stream": "stdout",
       "text": [
        "\n",
        "  1823  |    0.005205  |    0.007746  |     0.671975  |             |  4.4s"
       ]
      },
      {
       "output_type": "stream",
       "stream": "stdout",
       "text": [
        "\n",
        "  1824  |    0.005128  |    0.007754  |     0.661385  |             |  4.4s"
       ]
      },
      {
       "output_type": "stream",
       "stream": "stdout",
       "text": [
        "\n",
        "  1825  |  \u001b[94m  0.005111\u001b[0m  |    0.007762  |     0.658528  |             |  4.4s"
       ]
      },
      {
       "output_type": "stream",
       "stream": "stdout",
       "text": [
        "\n",
        "  1826  |    0.005159  |    0.007759  |     0.664897  |             |  4.4s"
       ]
      },
      {
       "output_type": "stream",
       "stream": "stdout",
       "text": [
        "\n",
        "  1827  |    0.005133  |    0.007744  |     0.662792  |             |  4.4s"
       ]
      },
      {
       "output_type": "stream",
       "stream": "stdout",
       "text": [
        "\n",
        "  1828  |    0.005228  |    0.007721  |     0.677131  |             |  4.4s"
       ]
      },
      {
       "output_type": "stream",
       "stream": "stdout",
       "text": [
        "\n",
        "  1829  |    0.005116  |    0.007749  |     0.660218  |             |  4.4s"
       ]
      },
      {
       "output_type": "stream",
       "stream": "stdout",
       "text": [
        "\n",
        "  1830  |    0.005130  |    0.007757  |     0.661352  |             |  4.4s"
       ]
      },
      {
       "output_type": "stream",
       "stream": "stdout",
       "text": [
        "\n",
        "  1831  |    0.005139  |    0.007759  |     0.662312  |             |  4.4s"
       ]
      },
      {
       "output_type": "stream",
       "stream": "stdout",
       "text": [
        "\n",
        "  1832  |    0.005148  |    0.007768  |     0.662726  |             |  4.4s"
       ]
      },
      {
       "output_type": "stream",
       "stream": "stdout",
       "text": [
        "\n",
        "  1833  |  \u001b[94m  0.005092\u001b[0m  |    0.007741  |     0.657796  |             |  4.4s"
       ]
      },
      {
       "output_type": "stream",
       "stream": "stdout",
       "text": [
        "\n",
        "  1834  |    0.005200  |    0.007753  |     0.670717  |             |  4.4s"
       ]
      },
      {
       "output_type": "stream",
       "stream": "stdout",
       "text": [
        "\n",
        "  1835  |    0.005144  |    0.007762  |     0.662658  |             |  4.4s"
       ]
      },
      {
       "output_type": "stream",
       "stream": "stdout",
       "text": [
        "\n",
        "  1836  |    0.005134  |    0.007741  |     0.663223  |             |  4.4s"
       ]
      },
      {
       "output_type": "stream",
       "stream": "stdout",
       "text": [
        "\n",
        "  1837  |    0.005187  |    0.007771  |     0.667503  |             |  4.4s"
       ]
      },
      {
       "output_type": "stream",
       "stream": "stdout",
       "text": [
        "\n",
        "  1838  |    0.005112  |    0.007740  |     0.660378  |             |  4.4s"
       ]
      },
      {
       "output_type": "stream",
       "stream": "stdout",
       "text": [
        "\n",
        "  1839  |  \u001b[94m  0.005092\u001b[0m  |    0.007746  |     0.657427  |             |  4.4s"
       ]
      },
      {
       "output_type": "stream",
       "stream": "stdout",
       "text": [
        "\n",
        "  1840  |    0.005150  |    0.007755  |     0.664045  |             |  4.4s"
       ]
      },
      {
       "output_type": "stream",
       "stream": "stdout",
       "text": [
        "\n",
        "  1841  |    0.005099  |    0.007767  |     0.656521  |             |  4.4s"
       ]
      },
      {
       "output_type": "stream",
       "stream": "stdout",
       "text": [
        "\n",
        "  1842  |  \u001b[94m  0.005036\u001b[0m  |    0.007737  |     0.650975  |             |  4.4s"
       ]
      },
      {
       "output_type": "stream",
       "stream": "stdout",
       "text": [
        "\n",
        "  1843  |    0.005094  |    0.007754  |     0.656993  |             |  4.4s"
       ]
      },
      {
       "output_type": "stream",
       "stream": "stdout",
       "text": [
        "\n",
        "  1844  |  \u001b[94m  0.005003\u001b[0m  |    0.007764  |     0.644346  |             |  4.4s"
       ]
      },
      {
       "output_type": "stream",
       "stream": "stdout",
       "text": [
        "\n",
        "  1845  |    0.005044  |    0.007765  |     0.649542  |             |  4.4s"
       ]
      },
      {
       "output_type": "stream",
       "stream": "stdout",
       "text": [
        "\n",
        "  1846  |    0.005086  |    0.007746  |     0.656571  |             |  4.4s"
       ]
      },
      {
       "output_type": "stream",
       "stream": "stdout",
       "text": [
        "\n",
        "  1847  |    0.005074  |    0.007752  |     0.654599  |             |  4.4s"
       ]
      },
      {
       "output_type": "stream",
       "stream": "stdout",
       "text": [
        "\n",
        "  1848  |    0.005135  |    0.007734  |     0.664012  |             |  4.4s"
       ]
      },
      {
       "output_type": "stream",
       "stream": "stdout",
       "text": [
        "\n",
        "  1849  |    0.005033  |    0.007742  |     0.650058  |             |  4.4s"
       ]
      },
      {
       "output_type": "stream",
       "stream": "stdout",
       "text": [
        "\n",
        "  1850  |    0.005028  |    0.007745  |     0.649189  |             |  4.4s"
       ]
      },
      {
       "output_type": "stream",
       "stream": "stdout",
       "text": [
        "\n",
        "  1851  |    0.005072  |    0.007720  |     0.656989  |             |  4.4s"
       ]
      },
      {
       "output_type": "stream",
       "stream": "stdout",
       "text": [
        "\n",
        "  1852  |    0.005085  |    0.007719  |     0.658691  |             |  4.4s"
       ]
      },
      {
       "output_type": "stream",
       "stream": "stdout",
       "text": [
        "\n",
        "  1853  |  \u001b[94m  0.004963\u001b[0m  |    0.007740  |     0.641225  |             |  4.4s"
       ]
      },
      {
       "output_type": "stream",
       "stream": "stdout",
       "text": [
        "\n",
        "  1854  |    0.005050  |    0.007730  |     0.653335  |             |  4.4s"
       ]
      },
      {
       "output_type": "stream",
       "stream": "stdout",
       "text": [
        "\n",
        "  1855  |    0.004967  |    0.007755  |     0.640521  |             |  4.4s"
       ]
      },
      {
       "output_type": "stream",
       "stream": "stdout",
       "text": [
        "\n",
        "  1856  |    0.005044  |    0.007721  |     0.653330  |             |  4.4s"
       ]
      },
      {
       "output_type": "stream",
       "stream": "stdout",
       "text": [
        "\n",
        "  1857  |    0.005096  |    0.007734  |     0.658969  |             |  4.4s"
       ]
      },
      {
       "output_type": "stream",
       "stream": "stdout",
       "text": [
        "\n",
        "  1858  |    0.005114  |    0.007733  |     0.661367  |             |  4.4s"
       ]
      },
      {
       "output_type": "stream",
       "stream": "stdout",
       "text": [
        "\n",
        "  1859  |    0.005078  |    0.007727  |     0.657180  |             |  4.4s"
       ]
      },
      {
       "output_type": "stream",
       "stream": "stdout",
       "text": [
        "\n",
        "  1860  |    0.004977  |    0.007720  |     0.644696  |             |  4.4s"
       ]
      },
      {
       "output_type": "stream",
       "stream": "stdout",
       "text": [
        "\n",
        "  1861  |    0.005111  |  \u001b[32m  0.007695\u001b[0m  |     0.664179  |             |  4.4s"
       ]
      },
      {
       "output_type": "stream",
       "stream": "stdout",
       "text": [
        "\n",
        "  1862  |    0.005028  |    0.007728  |     0.650650  |             |  4.4s"
       ]
      },
      {
       "output_type": "stream",
       "stream": "stdout",
       "text": [
        "\n",
        "  1863  |    0.005067  |    0.007718  |     0.656482  |             |  4.4s"
       ]
      },
      {
       "output_type": "stream",
       "stream": "stdout",
       "text": [
        "\n",
        "  1864  |    0.005068  |    0.007698  |     0.658392  |             |  4.4s"
       ]
      },
      {
       "output_type": "stream",
       "stream": "stdout",
       "text": [
        "\n",
        "  1865  |  \u001b[94m  0.004956\u001b[0m  |    0.007717  |     0.642274  |             |  4.4s"
       ]
      },
      {
       "output_type": "stream",
       "stream": "stdout",
       "text": [
        "\n",
        "  1866  |  \u001b[94m  0.004956\u001b[0m  |  \u001b[32m  0.007693\u001b[0m  |     0.644235  |             |  4.4s"
       ]
      },
      {
       "output_type": "stream",
       "stream": "stdout",
       "text": [
        "\n",
        "  1867  |    0.005086  |    0.007716  |     0.659233  |             |  4.4s"
       ]
      },
      {
       "output_type": "stream",
       "stream": "stdout",
       "text": [
        "\n",
        "  1868  |    0.005012  |    0.007718  |     0.649301  |             |  4.4s"
       ]
      },
      {
       "output_type": "stream",
       "stream": "stdout",
       "text": [
        "\n",
        "  1869  |    0.005032  |    0.007734  |     0.650580  |             |  4.4s"
       ]
      },
      {
       "output_type": "stream",
       "stream": "stdout",
       "text": [
        "\n",
        "  1870  |    0.005040  |    0.007726  |     0.652282  |             |  4.4s"
       ]
      },
      {
       "output_type": "stream",
       "stream": "stdout",
       "text": [
        "\n",
        "  1871  |    0.005026  |    0.007724  |     0.650779  |             |  4.4s"
       ]
      },
      {
       "output_type": "stream",
       "stream": "stdout",
       "text": [
        "\n",
        "  1872  |    0.004992  |    0.007729  |     0.645800  |             |  4.4s"
       ]
      },
      {
       "output_type": "stream",
       "stream": "stdout",
       "text": [
        "\n",
        "  1873  |    0.005061  |    0.007707  |     0.656636  |             |  4.4s"
       ]
      },
      {
       "output_type": "stream",
       "stream": "stdout",
       "text": [
        "\n",
        "  1874  |    0.005009  |    0.007719  |     0.648850  |             |  4.4s"
       ]
      },
      {
       "output_type": "stream",
       "stream": "stdout",
       "text": [
        "\n",
        "  1875  |  \u001b[94m  0.004903\u001b[0m  |    0.007714  |     0.635601  |             |  4.4s"
       ]
      },
      {
       "output_type": "stream",
       "stream": "stdout",
       "text": [
        "\n",
        "  1876  |    0.004970  |    0.007733  |     0.642670  |             |  4.4s"
       ]
      },
      {
       "output_type": "stream",
       "stream": "stdout",
       "text": [
        "\n",
        "  1877  |    0.004992  |    0.007715  |     0.646989  |             |  4.4s"
       ]
      },
      {
       "output_type": "stream",
       "stream": "stdout",
       "text": [
        "\n",
        "  1878  |    0.005070  |    0.007703  |     0.658205  |             |  4.4s"
       ]
      },
      {
       "output_type": "stream",
       "stream": "stdout",
       "text": [
        "\n",
        "  1879  |    0.004968  |    0.007719  |     0.643581  |             |  4.4s"
       ]
      },
      {
       "output_type": "stream",
       "stream": "stdout",
       "text": [
        "\n",
        "  1880  |    0.004967  |    0.007719  |     0.643473  |             |  4.4s"
       ]
      },
      {
       "output_type": "stream",
       "stream": "stdout",
       "text": [
        "\n",
        "  1881  |    0.004976  |    0.007726  |     0.644045  |             |  4.4s"
       ]
      },
      {
       "output_type": "stream",
       "stream": "stdout",
       "text": [
        "\n",
        "  1882  |    0.005001  |    0.007753  |     0.645063  |             |  4.4s"
       ]
      },
      {
       "output_type": "stream",
       "stream": "stdout",
       "text": [
        "\n",
        "  1883  |    0.004979  |    0.007728  |     0.644249  |             |  4.4s"
       ]
      },
      {
       "output_type": "stream",
       "stream": "stdout",
       "text": [
        "\n",
        "  1884  |    0.005015  |    0.007696  |     0.651638  |             |  4.4s"
       ]
      },
      {
       "output_type": "stream",
       "stream": "stdout",
       "text": [
        "\n",
        "  1885  |    0.005007  |    0.007717  |     0.648784  |             |  4.4s"
       ]
      },
      {
       "output_type": "stream",
       "stream": "stdout",
       "text": [
        "\n",
        "  1886  |    0.005011  |    0.007710  |     0.649954  |             |  4.4s"
       ]
      },
      {
       "output_type": "stream",
       "stream": "stdout",
       "text": [
        "\n",
        "  1887  |    0.004993  |    0.007701  |     0.648339  |             |  4.4s"
       ]
      },
      {
       "output_type": "stream",
       "stream": "stdout",
       "text": [
        "\n",
        "  1888  |  \u001b[94m  0.004875\u001b[0m  |    0.007696  |     0.633459  |             |  4.4s"
       ]
      },
      {
       "output_type": "stream",
       "stream": "stdout",
       "text": [
        "\n",
        "  1889  |    0.004979  |    0.007726  |     0.644399  |             |  4.4s"
       ]
      },
      {
       "output_type": "stream",
       "stream": "stdout",
       "text": [
        "\n",
        "  1890  |    0.004882  |    0.007709  |     0.633327  |             |  4.4s"
       ]
      },
      {
       "output_type": "stream",
       "stream": "stdout",
       "text": [
        "\n",
        "  1891  |    0.005007  |    0.007695  |     0.650652  |             |  4.4s"
       ]
      },
      {
       "output_type": "stream",
       "stream": "stdout",
       "text": [
        "\n",
        "  1892  |    0.004898  |  \u001b[32m  0.007692\u001b[0m  |     0.636797  |             |  4.4s"
       ]
      },
      {
       "output_type": "stream",
       "stream": "stdout",
       "text": [
        "\n",
        "  1893  |  \u001b[94m  0.004872\u001b[0m  |    0.007708  |     0.632014  |             |  4.4s"
       ]
      },
      {
       "output_type": "stream",
       "stream": "stdout",
       "text": [
        "\n",
        "  1894  |    0.004873  |    0.007695  |     0.633279  |             |  4.4s"
       ]
      },
      {
       "output_type": "stream",
       "stream": "stdout",
       "text": [
        "\n",
        "  1895  |    0.004938  |  \u001b[32m  0.007665\u001b[0m  |     0.644156  |             |  4.4s"
       ]
      },
      {
       "output_type": "stream",
       "stream": "stdout",
       "text": [
        "\n",
        "  1896  |    0.004944  |    0.007697  |     0.642379  |             |  4.4s"
       ]
      },
      {
       "output_type": "stream",
       "stream": "stdout",
       "text": [
        "\n",
        "  1897  |    0.004943  |    0.007714  |     0.640794  |             |  4.4s"
       ]
      },
      {
       "output_type": "stream",
       "stream": "stdout",
       "text": [
        "\n",
        "  1898  |    0.004906  |    0.007705  |     0.636751  |             |  4.4s"
       ]
      },
      {
       "output_type": "stream",
       "stream": "stdout",
       "text": [
        "\n",
        "  1899  |    0.004893  |    0.007675  |     0.637550  |             |  4.4s"
       ]
      },
      {
       "output_type": "stream",
       "stream": "stdout",
       "text": [
        "\n",
        "  1900  |    0.004956  |    0.007722  |     0.641880  |             |  4.4s"
       ]
      },
      {
       "output_type": "stream",
       "stream": "stdout",
       "text": [
        "\n",
        "  1901  |    0.004992  |    0.007682  |     0.649811  |             |  4.4s"
       ]
      },
      {
       "output_type": "stream",
       "stream": "stdout",
       "text": [
        "\n",
        "  1902  |    0.004959  |    0.007708  |     0.643329  |             |  4.4s"
       ]
      },
      {
       "output_type": "stream",
       "stream": "stdout",
       "text": [
        "\n",
        "  1903  |  \u001b[94m  0.004864\u001b[0m  |    0.007699  |     0.631764  |             |  4.4s"
       ]
      },
      {
       "output_type": "stream",
       "stream": "stdout",
       "text": [
        "\n",
        "  1904  |  \u001b[94m  0.004815\u001b[0m  |    0.007700  |     0.625260  |             |  4.4s"
       ]
      },
      {
       "output_type": "stream",
       "stream": "stdout",
       "text": [
        "\n",
        "  1905  |    0.004893  |    0.007709  |     0.634699  |             |  4.4s"
       ]
      },
      {
       "output_type": "stream",
       "stream": "stdout",
       "text": [
        "\n",
        "  1906  |    0.004866  |    0.007697  |     0.632218  |             |  4.4s"
       ]
      },
      {
       "output_type": "stream",
       "stream": "stdout",
       "text": [
        "\n",
        "  1907  |    0.004910  |    0.007676  |     0.639670  |             |  4.4s"
       ]
      },
      {
       "output_type": "stream",
       "stream": "stdout",
       "text": [
        "\n",
        "  1908  |    0.004912  |    0.007680  |     0.639520  |             |  4.4s"
       ]
      },
      {
       "output_type": "stream",
       "stream": "stdout",
       "text": [
        "\n",
        "  1909  |    0.004920  |    0.007688  |     0.639944  |             |  4.4s"
       ]
      },
      {
       "output_type": "stream",
       "stream": "stdout",
       "text": [
        "\n",
        "  1910  |    0.004895  |    0.007674  |     0.637880  |             |  4.4s"
       ]
      },
      {
       "output_type": "stream",
       "stream": "stdout",
       "text": [
        "\n",
        "  1911  |    0.004888  |    0.007700  |     0.634810  |             |  4.4s"
       ]
      },
      {
       "output_type": "stream",
       "stream": "stdout",
       "text": [
        "\n",
        "  1912  |    0.004924  |    0.007682  |     0.640928  |             |  4.4s"
       ]
      },
      {
       "output_type": "stream",
       "stream": "stdout",
       "text": [
        "\n",
        "  1913  |    0.004937  |    0.007703  |     0.640933  |             |  4.4s"
       ]
      },
      {
       "output_type": "stream",
       "stream": "stdout",
       "text": [
        "\n",
        "  1914  |    0.004835  |    0.007685  |     0.629239  |             |  4.4s"
       ]
      },
      {
       "output_type": "stream",
       "stream": "stdout",
       "text": [
        "\n",
        "  1915  |    0.004884  |    0.007688  |     0.635299  |             |  4.4s"
       ]
      },
      {
       "output_type": "stream",
       "stream": "stdout",
       "text": [
        "\n",
        "  1916  |    0.004931  |    0.007711  |     0.639408  |             |  4.4s"
       ]
      },
      {
       "output_type": "stream",
       "stream": "stdout",
       "text": [
        "\n",
        "  1917  |    0.004895  |    0.007671  |     0.638138  |             |  4.4s"
       ]
      },
      {
       "output_type": "stream",
       "stream": "stdout",
       "text": [
        "\n",
        "  1918  |    0.004970  |    0.007710  |     0.644600  |             |  4.4s"
       ]
      },
      {
       "output_type": "stream",
       "stream": "stdout",
       "text": [
        "\n",
        "  1919  |    0.004898  |    0.007688  |     0.637151  |             |  4.4s"
       ]
      },
      {
       "output_type": "stream",
       "stream": "stdout",
       "text": [
        "\n",
        "  1920  |    0.004866  |    0.007671  |     0.634362  |             |  4.4s"
       ]
      },
      {
       "output_type": "stream",
       "stream": "stdout",
       "text": [
        "\n",
        "  1921  |    0.004900  |    0.007686  |     0.637598  |             |  4.4s"
       ]
      },
      {
       "output_type": "stream",
       "stream": "stdout",
       "text": [
        "\n",
        "  1922  |    0.004888  |    0.007701  |     0.634703  |             |  4.4s"
       ]
      },
      {
       "output_type": "stream",
       "stream": "stdout",
       "text": [
        "\n",
        "  1923  |    0.004838  |    0.007670  |     0.630760  |             |  4.4s"
       ]
      },
      {
       "output_type": "stream",
       "stream": "stdout",
       "text": [
        "\n",
        "  1924  |    0.004879  |    0.007680  |     0.635323  |             |  4.4s"
       ]
      },
      {
       "output_type": "stream",
       "stream": "stdout",
       "text": [
        "\n",
        "  1925  |    0.004822  |    0.007668  |     0.628849  |             |  4.4s"
       ]
      },
      {
       "output_type": "stream",
       "stream": "stdout",
       "text": [
        "\n",
        "  1926  |    0.004915  |    0.007672  |     0.640629  |             |  4.4s"
       ]
      },
      {
       "output_type": "stream",
       "stream": "stdout",
       "text": [
        "\n",
        "  1927  |    0.004870  |    0.007685  |     0.633600  |             |  4.4s"
       ]
      },
      {
       "output_type": "stream",
       "stream": "stdout",
       "text": [
        "\n",
        "  1928  |    0.004847  |    0.007681  |     0.631007  |             |  4.4s"
       ]
      },
      {
       "output_type": "stream",
       "stream": "stdout",
       "text": [
        "\n",
        "  1929  |    0.004866  |    0.007674  |     0.634099  |             |  4.4s"
       ]
      },
      {
       "output_type": "stream",
       "stream": "stdout",
       "text": [
        "\n",
        "  1930  |    0.004836  |    0.007678  |     0.629857  |             |  4.4s"
       ]
      },
      {
       "output_type": "stream",
       "stream": "stdout",
       "text": [
        "\n",
        "  1931  |    0.004966  |    0.007677  |     0.646838  |             |  4.4s"
       ]
      },
      {
       "output_type": "stream",
       "stream": "stdout",
       "text": [
        "\n",
        "  1932  |    0.004854  |    0.007680  |     0.631989  |             |  4.4s"
       ]
      },
      {
       "output_type": "stream",
       "stream": "stdout",
       "text": [
        "\n",
        "  1933  |  \u001b[94m  0.004778\u001b[0m  |    0.007686  |     0.621704  |             |  4.4s"
       ]
      },
      {
       "output_type": "stream",
       "stream": "stdout",
       "text": [
        "\n",
        "  1934  |    0.004842  |    0.007689  |     0.629731  |             |  4.4s"
       ]
      },
      {
       "output_type": "stream",
       "stream": "stdout",
       "text": [
        "\n",
        "  1935  |    0.004852  |    0.007681  |     0.631593  |             |  4.4s"
       ]
      },
      {
       "output_type": "stream",
       "stream": "stdout",
       "text": [
        "\n",
        "  1936  |    0.004797  |    0.007666  |     0.625771  |             |  4.4s"
       ]
      },
      {
       "output_type": "stream",
       "stream": "stdout",
       "text": [
        "\n",
        "  1937  |  \u001b[94m  0.004767\u001b[0m  |    0.007685  |     0.620241  |             |  4.4s"
       ]
      },
      {
       "output_type": "stream",
       "stream": "stdout",
       "text": [
        "\n",
        "  1938  |    0.004847  |    0.007681  |     0.631021  |             |  4.4s"
       ]
      },
      {
       "output_type": "stream",
       "stream": "stdout",
       "text": [
        "\n",
        "  1939  |    0.004833  |    0.007684  |     0.629056  |             |  4.4s"
       ]
      },
      {
       "output_type": "stream",
       "stream": "stdout",
       "text": [
        "\n",
        "  1940  |    0.004921  |    0.007675  |     0.641187  |             |  4.4s"
       ]
      },
      {
       "output_type": "stream",
       "stream": "stdout",
       "text": [
        "\n",
        "  1941  |    0.004829  |    0.007680  |     0.628794  |             |  4.4s"
       ]
      },
      {
       "output_type": "stream",
       "stream": "stdout",
       "text": [
        "\n",
        "  1942  |    0.004797  |    0.007666  |     0.625788  |             |  4.4s"
       ]
      },
      {
       "output_type": "stream",
       "stream": "stdout",
       "text": [
        "\n",
        "  1943  |    0.004844  |    0.007673  |     0.631388  |             |  4.4s"
       ]
      },
      {
       "output_type": "stream",
       "stream": "stdout",
       "text": [
        "\n",
        "  1944  |    0.004844  |    0.007668  |     0.631738  |             |  4.4s"
       ]
      },
      {
       "output_type": "stream",
       "stream": "stdout",
       "text": [
        "\n",
        "  1945  |    0.004825  |    0.007679  |     0.628374  |             |  4.4s"
       ]
      },
      {
       "output_type": "stream",
       "stream": "stdout",
       "text": [
        "\n",
        "  1946  |    0.004813  |  \u001b[32m  0.007663\u001b[0m  |     0.628146  |             |  4.4s"
       ]
      },
      {
       "output_type": "stream",
       "stream": "stdout",
       "text": [
        "\n",
        "  1947  |    0.004853  |  \u001b[32m  0.007660\u001b[0m  |     0.633504  |             |  4.4s"
       ]
      },
      {
       "output_type": "stream",
       "stream": "stdout",
       "text": [
        "\n",
        "  1948  |    0.004810  |    0.007685  |     0.625951  |             |  4.4s"
       ]
      },
      {
       "output_type": "stream",
       "stream": "stdout",
       "text": [
        "\n",
        "  1949  |  \u001b[94m  0.004758\u001b[0m  |    0.007700  |     0.617923  |             |  4.4s"
       ]
      },
      {
       "output_type": "stream",
       "stream": "stdout",
       "text": [
        "\n",
        "  1950  |    0.004850  |    0.007664  |     0.632754  |             |  4.4s"
       ]
      },
      {
       "output_type": "stream",
       "stream": "stdout",
       "text": [
        "\n",
        "  1951  |  \u001b[94m  0.004711\u001b[0m  |    0.007668  |     0.614322  |             |  4.4s"
       ]
      },
      {
       "output_type": "stream",
       "stream": "stdout",
       "text": [
        "\n",
        "  1952  |    0.004820  |    0.007663  |     0.629090  |             |  4.4s"
       ]
      },
      {
       "output_type": "stream",
       "stream": "stdout",
       "text": [
        "\n",
        "  1953  |    0.004839  |  \u001b[32m  0.007654\u001b[0m  |     0.632257  |             |  4.4s"
       ]
      },
      {
       "output_type": "stream",
       "stream": "stdout",
       "text": [
        "\n",
        "  1954  |    0.004733  |    0.007688  |     0.615608  |             |  4.4s"
       ]
      },
      {
       "output_type": "stream",
       "stream": "stdout",
       "text": [
        "\n",
        "  1955  |    0.004784  |    0.007685  |     0.622463  |             |  4.4s"
       ]
      },
      {
       "output_type": "stream",
       "stream": "stdout",
       "text": [
        "\n",
        "  1956  |    0.004782  |    0.007675  |     0.623054  |             |  4.4s"
       ]
      },
      {
       "output_type": "stream",
       "stream": "stdout",
       "text": [
        "\n",
        "  1957  |    0.004796  |    0.007665  |     0.625748  |             |  4.4s"
       ]
      },
      {
       "output_type": "stream",
       "stream": "stdout",
       "text": [
        "\n",
        "  1958  |    0.004844  |    0.007701  |     0.628965  |             |  4.4s"
       ]
      },
      {
       "output_type": "stream",
       "stream": "stdout",
       "text": [
        "\n",
        "  1959  |    0.004811  |    0.007689  |     0.625727  |             |  4.4s"
       ]
      },
      {
       "output_type": "stream",
       "stream": "stdout",
       "text": [
        "\n",
        "  1960  |    0.004851  |    0.007679  |     0.631765  |             |  4.4s"
       ]
      },
      {
       "output_type": "stream",
       "stream": "stdout",
       "text": [
        "\n",
        "  1961  |    0.004767  |  \u001b[32m  0.007645\u001b[0m  |     0.623509  |             |  4.4s"
       ]
      },
      {
       "output_type": "stream",
       "stream": "stdout",
       "text": [
        "\n",
        "  1962  |    0.004730  |  \u001b[32m  0.007643\u001b[0m  |     0.618860  |             |  4.4s"
       ]
      },
      {
       "output_type": "stream",
       "stream": "stdout",
       "text": [
        "\n",
        "  1963  |    0.004861  |    0.007657  |     0.634756  |             |  4.4s"
       ]
      },
      {
       "output_type": "stream",
       "stream": "stdout",
       "text": [
        "\n",
        "  1964  |    0.004751  |  \u001b[32m  0.007639\u001b[0m  |     0.621971  |             |  4.4s"
       ]
      },
      {
       "output_type": "stream",
       "stream": "stdout",
       "text": [
        "\n",
        "  1965  |    0.004772  |    0.007657  |     0.623186  |             |  4.4s"
       ]
      },
      {
       "output_type": "stream",
       "stream": "stdout",
       "text": [
        "\n",
        "  1966  |    0.004724  |    0.007648  |     0.617725  |             |  4.4s"
       ]
      },
      {
       "output_type": "stream",
       "stream": "stdout",
       "text": [
        "\n",
        "  1967  |    0.004786  |    0.007676  |     0.623553  |             |  4.4s"
       ]
      },
      {
       "output_type": "stream",
       "stream": "stdout",
       "text": [
        "\n",
        "  1968  |  \u001b[94m  0.004700\u001b[0m  |    0.007668  |     0.613019  |             |  4.4s"
       ]
      },
      {
       "output_type": "stream",
       "stream": "stdout",
       "text": [
        "\n",
        "  1969  |    0.004774  |    0.007685  |     0.621301  |             |  4.4s"
       ]
      },
      {
       "output_type": "stream",
       "stream": "stdout",
       "text": [
        "\n",
        "  1970  |    0.004768  |    0.007669  |     0.621704  |             |  4.4s"
       ]
      },
      {
       "output_type": "stream",
       "stream": "stdout",
       "text": [
        "\n",
        "  1971  |    0.004773  |    0.007682  |     0.621380  |             |  4.4s"
       ]
      },
      {
       "output_type": "stream",
       "stream": "stdout",
       "text": [
        "\n",
        "  1972  |  \u001b[94m  0.004696\u001b[0m  |    0.007683  |     0.611186  |             |  4.4s"
       ]
      },
      {
       "output_type": "stream",
       "stream": "stdout",
       "text": [
        "\n",
        "  1973  |    0.004715  |    0.007669  |     0.614816  |             |  4.4s"
       ]
      },
      {
       "output_type": "stream",
       "stream": "stdout",
       "text": [
        "\n",
        "  1974  |    0.004723  |    0.007663  |     0.616323  |             |  4.4s"
       ]
      },
      {
       "output_type": "stream",
       "stream": "stdout",
       "text": [
        "\n",
        "  1975  |    0.004784  |    0.007679  |     0.622972  |             |  4.4s"
       ]
      },
      {
       "output_type": "stream",
       "stream": "stdout",
       "text": [
        "\n",
        "  1976  |    0.004721  |    0.007666  |     0.615924  |             |  4.4s"
       ]
      },
      {
       "output_type": "stream",
       "stream": "stdout",
       "text": [
        "\n",
        "  1977  |  \u001b[94m  0.004688\u001b[0m  |    0.007674  |     0.610931  |             |  4.4s"
       ]
      },
      {
       "output_type": "stream",
       "stream": "stdout",
       "text": [
        "\n",
        "  1978  |    0.004715  |    0.007661  |     0.615412  |             |  4.4s"
       ]
      },
      {
       "output_type": "stream",
       "stream": "stdout",
       "text": [
        "\n",
        "  1979  |  \u001b[94m  0.004661\u001b[0m  |    0.007682  |     0.606787  |             |  4.4s"
       ]
      },
      {
       "output_type": "stream",
       "stream": "stdout",
       "text": [
        "\n",
        "  1980  |    0.004679  |    0.007658  |     0.611027  |             |  4.4s"
       ]
      },
      {
       "output_type": "stream",
       "stream": "stdout",
       "text": [
        "\n",
        "  1981  |    0.004744  |    0.007658  |     0.619508  |             |  4.4s"
       ]
      },
      {
       "output_type": "stream",
       "stream": "stdout",
       "text": [
        "\n",
        "  1982  |    0.004694  |    0.007662  |     0.612640  |             |  4.4s"
       ]
      },
      {
       "output_type": "stream",
       "stream": "stdout",
       "text": [
        "\n",
        "  1983  |    0.004796  |    0.007679  |     0.624528  |             |  4.4s"
       ]
      },
      {
       "output_type": "stream",
       "stream": "stdout",
       "text": [
        "\n",
        "  1984  |    0.004721  |    0.007660  |     0.616278  |             |  4.4s"
       ]
      },
      {
       "output_type": "stream",
       "stream": "stdout",
       "text": [
        "\n",
        "  1985  |  \u001b[94m  0.004597\u001b[0m  |    0.007658  |     0.600275  |             |  4.4s"
       ]
      },
      {
       "output_type": "stream",
       "stream": "stdout",
       "text": [
        "\n",
        "  1986  |    0.004715  |    0.007653  |     0.616111  |             |  4.4s"
       ]
      },
      {
       "output_type": "stream",
       "stream": "stdout",
       "text": [
        "\n",
        "  1987  |    0.004661  |    0.007674  |     0.607334  |             |  4.4s"
       ]
      },
      {
       "output_type": "stream",
       "stream": "stdout",
       "text": [
        "\n",
        "  1988  |    0.004686  |    0.007651  |     0.612512  |             |  4.4s"
       ]
      },
      {
       "output_type": "stream",
       "stream": "stdout",
       "text": [
        "\n",
        "  1989  |    0.004745  |    0.007664  |     0.619129  |             |  4.4s"
       ]
      },
      {
       "output_type": "stream",
       "stream": "stdout",
       "text": [
        "\n",
        "  1990  |    0.004721  |    0.007682  |     0.614533  |             |  4.4s"
       ]
      },
      {
       "output_type": "stream",
       "stream": "stdout",
       "text": [
        "\n",
        "  1991  |    0.004745  |    0.007651  |     0.620185  |             |  4.4s"
       ]
      },
      {
       "output_type": "stream",
       "stream": "stdout",
       "text": [
        "\n",
        "  1992  |    0.004710  |    0.007666  |     0.614420  |             |  4.4s"
       ]
      },
      {
       "output_type": "stream",
       "stream": "stdout",
       "text": [
        "\n",
        "  1993  |    0.004728  |    0.007669  |     0.616450  |             |  4.4s"
       ]
      },
      {
       "output_type": "stream",
       "stream": "stdout",
       "text": [
        "\n",
        "  1994  |    0.004695  |    0.007672  |     0.611998  |             |  4.4s"
       ]
      },
      {
       "output_type": "stream",
       "stream": "stdout",
       "text": [
        "\n",
        "  1995  |    0.004742  |    0.007654  |     0.619548  |             |  4.4s"
       ]
      },
      {
       "output_type": "stream",
       "stream": "stdout",
       "text": [
        "\n",
        "  1996  |    0.004678  |    0.007649  |     0.611560  |             |  4.4s"
       ]
      },
      {
       "output_type": "stream",
       "stream": "stdout",
       "text": [
        "\n",
        "  1997  |  \u001b[94m  0.004581\u001b[0m  |    0.007650  |     0.598805  |             |  4.4s"
       ]
      },
      {
       "output_type": "stream",
       "stream": "stdout",
       "text": [
        "\n",
        "  1998  |    0.004711  |    0.007649  |     0.615879  |             |  4.4s"
       ]
      },
      {
       "output_type": "stream",
       "stream": "stdout",
       "text": [
        "\n",
        "  1999  |    0.004674  |    0.007653  |     0.610737  |             |  4.4s"
       ]
      },
      {
       "output_type": "stream",
       "stream": "stdout",
       "text": [
        "\n",
        "  2000  |    0.004789  |    0.007652  |     0.625830  |             |  4.4s"
       ]
      },
      {
       "output_type": "stream",
       "stream": "stdout",
       "text": [
        "\n",
        "  2001  |    0.004663  |    0.007647  |     0.609736  |             |  4.4s"
       ]
      },
      {
       "output_type": "stream",
       "stream": "stdout",
       "text": [
        "\n",
        "  2002  |    0.004630  |    0.007646  |     0.605502  |             |  4.4s"
       ]
      },
      {
       "output_type": "stream",
       "stream": "stdout",
       "text": [
        "\n",
        "  2003  |    0.004669  |  \u001b[32m  0.007636\u001b[0m  |     0.611451  |             |  4.4s"
       ]
      },
      {
       "output_type": "stream",
       "stream": "stdout",
       "text": [
        "\n",
        "  2004  |    0.004660  |    0.007642  |     0.609799  |             |  4.4s"
       ]
      },
      {
       "output_type": "stream",
       "stream": "stdout",
       "text": [
        "\n",
        "  2005  |    0.004648  |    0.007646  |     0.607885  |             |  4.4s"
       ]
      },
      {
       "output_type": "stream",
       "stream": "stdout",
       "text": [
        "\n",
        "  2006  |    0.004660  |    0.007638  |     0.610098  |             |  4.4s"
       ]
      },
      {
       "output_type": "stream",
       "stream": "stdout",
       "text": [
        "\n",
        "  2007  |    0.004662  |  \u001b[32m  0.007628\u001b[0m  |     0.611147  |             |  4.4s"
       ]
      },
      {
       "output_type": "stream",
       "stream": "stdout",
       "text": [
        "\n",
        "  2008  |    0.004700  |    0.007654  |     0.614066  |             |  4.4s"
       ]
      },
      {
       "output_type": "stream",
       "stream": "stdout",
       "text": [
        "\n",
        "  2009  |    0.004670  |    0.007660  |     0.609684  |             |  4.4s"
       ]
      },
      {
       "output_type": "stream",
       "stream": "stdout",
       "text": [
        "\n",
        "  2010  |    0.004684  |    0.007651  |     0.612160  |             |  4.4s"
       ]
      },
      {
       "output_type": "stream",
       "stream": "stdout",
       "text": [
        "\n",
        "  2011  |    0.004591  |    0.007630  |     0.601736  |             |  4.4s"
       ]
      },
      {
       "output_type": "stream",
       "stream": "stdout",
       "text": [
        "\n",
        "  2012  |    0.004588  |    0.007648  |     0.599952  |             |  4.4s"
       ]
      },
      {
       "output_type": "stream",
       "stream": "stdout",
       "text": [
        "\n",
        "  2013  |    0.004625  |    0.007649  |     0.604687  |             |  4.4s"
       ]
      },
      {
       "output_type": "stream",
       "stream": "stdout",
       "text": [
        "\n",
        "  2014  |    0.004691  |    0.007635  |     0.614398  |             |  4.4s"
       ]
      },
      {
       "output_type": "stream",
       "stream": "stdout",
       "text": [
        "\n",
        "  2015  |    0.004701  |    0.007665  |     0.613305  |             |  4.4s"
       ]
      },
      {
       "output_type": "stream",
       "stream": "stdout",
       "text": [
        "\n",
        "  2016  |  \u001b[94m  0.004482\u001b[0m  |  \u001b[32m  0.007625\u001b[0m  |     0.587751  |             |  4.4s"
       ]
      },
      {
       "output_type": "stream",
       "stream": "stdout",
       "text": [
        "\n",
        "  2017  |    0.004732  |    0.007683  |     0.615964  |             |  4.4s"
       ]
      },
      {
       "output_type": "stream",
       "stream": "stdout",
       "text": [
        "\n",
        "  2018  |    0.004639  |    0.007638  |     0.607441  |             |  4.4s"
       ]
      },
      {
       "output_type": "stream",
       "stream": "stdout",
       "text": [
        "\n",
        "  2019  |    0.004612  |    0.007633  |     0.604299  |             |  4.4s"
       ]
      },
      {
       "output_type": "stream",
       "stream": "stdout",
       "text": [
        "\n",
        "  2020  |    0.004588  |    0.007642  |     0.600279  |             |  4.4s"
       ]
      },
      {
       "output_type": "stream",
       "stream": "stdout",
       "text": [
        "\n",
        "  2021  |    0.004653  |    0.007625  |     0.610231  |             |  4.4s"
       ]
      },
      {
       "output_type": "stream",
       "stream": "stdout",
       "text": [
        "\n",
        "  2022  |    0.004618  |    0.007645  |     0.604050  |             |  4.4s"
       ]
      },
      {
       "output_type": "stream",
       "stream": "stdout",
       "text": [
        "\n",
        "  2023  |    0.004684  |  \u001b[32m  0.007615\u001b[0m  |     0.615172  |             |  4.4s"
       ]
      },
      {
       "output_type": "stream",
       "stream": "stdout",
       "text": [
        "\n",
        "  2024  |    0.004609  |    0.007645  |     0.602833  |             |  4.4s"
       ]
      },
      {
       "output_type": "stream",
       "stream": "stdout",
       "text": [
        "\n",
        "  2025  |    0.004659  |    0.007623  |     0.611187  |             |  4.4s"
       ]
      },
      {
       "output_type": "stream",
       "stream": "stdout",
       "text": [
        "\n",
        "  2026  |    0.004620  |    0.007625  |     0.605935  |             |  4.4s"
       ]
      },
      {
       "output_type": "stream",
       "stream": "stdout",
       "text": [
        "\n",
        "  2027  |    0.004672  |    0.007645  |     0.611187  |             |  4.4s"
       ]
      },
      {
       "output_type": "stream",
       "stream": "stdout",
       "text": [
        "\n",
        "  2028  |    0.004556  |    0.007642  |     0.596084  |             |  4.4s"
       ]
      },
      {
       "output_type": "stream",
       "stream": "stdout",
       "text": [
        "\n",
        "  2029  |    0.004568  |    0.007638  |     0.598035  |             |  4.4s"
       ]
      },
      {
       "output_type": "stream",
       "stream": "stdout",
       "text": [
        "\n",
        "  2030  |    0.004561  |    0.007646  |     0.596492  |             |  4.4s"
       ]
      },
      {
       "output_type": "stream",
       "stream": "stdout",
       "text": [
        "\n",
        "  2031  |    0.004650  |    0.007628  |     0.609568  |             |  4.4s"
       ]
      },
      {
       "output_type": "stream",
       "stream": "stdout",
       "text": [
        "\n",
        "  2032  |    0.004606  |    0.007649  |     0.602159  |             |  4.4s"
       ]
      },
      {
       "output_type": "stream",
       "stream": "stdout",
       "text": [
        "\n",
        "  2033  |    0.004674  |    0.007644  |     0.611505  |             |  4.4s"
       ]
      },
      {
       "output_type": "stream",
       "stream": "stdout",
       "text": [
        "\n",
        "  2034  |    0.004595  |    0.007631  |     0.602119  |             |  4.4s"
       ]
      },
      {
       "output_type": "stream",
       "stream": "stdout",
       "text": [
        "\n",
        "  2035  |    0.004581  |    0.007643  |     0.599397  |             |  4.4s"
       ]
      },
      {
       "output_type": "stream",
       "stream": "stdout",
       "text": [
        "\n",
        "  2036  |    0.004520  |    0.007643  |     0.591429  |             |  4.4s"
       ]
      },
      {
       "output_type": "stream",
       "stream": "stdout",
       "text": [
        "\n",
        "  2037  |    0.004586  |    0.007636  |     0.600522  |             |  4.4s"
       ]
      },
      {
       "output_type": "stream",
       "stream": "stdout",
       "text": [
        "\n",
        "  2038  |    0.004562  |    0.007656  |     0.595918  |             |  4.4s"
       ]
      },
      {
       "output_type": "stream",
       "stream": "stdout",
       "text": [
        "\n",
        "  2039  |    0.004537  |    0.007627  |     0.594879  |             |  4.4s"
       ]
      },
      {
       "output_type": "stream",
       "stream": "stdout",
       "text": [
        "\n",
        "  2040  |    0.004566  |    0.007638  |     0.597763  |             |  4.4s"
       ]
      },
      {
       "output_type": "stream",
       "stream": "stdout",
       "text": [
        "\n",
        "  2041  |    0.004554  |    0.007629  |     0.596953  |             |  4.4s"
       ]
      },
      {
       "output_type": "stream",
       "stream": "stdout",
       "text": [
        "\n",
        "  2042  |    0.004558  |    0.007647  |     0.596053  |             |  4.4s"
       ]
      },
      {
       "output_type": "stream",
       "stream": "stdout",
       "text": [
        "\n",
        "  2043  |    0.004564  |    0.007650  |     0.596571  |             |  4.4s"
       ]
      },
      {
       "output_type": "stream",
       "stream": "stdout",
       "text": [
        "\n",
        "  2044  |    0.004564  |    0.007649  |     0.596757  |             |  4.4s"
       ]
      },
      {
       "output_type": "stream",
       "stream": "stdout",
       "text": [
        "\n",
        "  2045  |    0.004645  |    0.007623  |     0.609336  |             |  4.4s"
       ]
      },
      {
       "output_type": "stream",
       "stream": "stdout",
       "text": [
        "\n",
        "  2046  |    0.004603  |    0.007641  |     0.602396  |             |  4.4s"
       ]
      },
      {
       "output_type": "stream",
       "stream": "stdout",
       "text": [
        "\n",
        "  2047  |    0.004607  |    0.007616  |     0.604898  |             |  4.4s"
       ]
      },
      {
       "output_type": "stream",
       "stream": "stdout",
       "text": [
        "\n",
        "  2048  |    0.004548  |    0.007644  |     0.594886  |             |  4.4s"
       ]
      },
      {
       "output_type": "stream",
       "stream": "stdout",
       "text": [
        "\n",
        "  2049  |    0.004528  |    0.007653  |     0.591653  |             |  4.4s"
       ]
      },
      {
       "output_type": "stream",
       "stream": "stdout",
       "text": [
        "\n",
        "  2050  |    0.004571  |    0.007654  |     0.597238  |             |  4.4s"
       ]
      },
      {
       "output_type": "stream",
       "stream": "stdout",
       "text": [
        "\n",
        "  2051  |  \u001b[94m  0.004449\u001b[0m  |    0.007658  |     0.580938  |             |  4.4s"
       ]
      },
      {
       "output_type": "stream",
       "stream": "stdout",
       "text": [
        "\n",
        "  2052  |    0.004475  |    0.007663  |     0.583942  |             |  4.4s"
       ]
      },
      {
       "output_type": "stream",
       "stream": "stdout",
       "text": [
        "\n",
        "  2053  |    0.004615  |    0.007659  |     0.602508  |             |  4.4s"
       ]
      },
      {
       "output_type": "stream",
       "stream": "stdout",
       "text": [
        "\n",
        "  2054  |    0.004530  |    0.007641  |     0.592915  |             |  4.4s"
       ]
      },
      {
       "output_type": "stream",
       "stream": "stdout",
       "text": [
        "\n",
        "  2055  |    0.004555  |    0.007633  |     0.596743  |             |  4.4s"
       ]
      },
      {
       "output_type": "stream",
       "stream": "stdout",
       "text": [
        "\n",
        "  2056  |    0.004518  |    0.007629  |     0.592289  |             |  4.4s"
       ]
      },
      {
       "output_type": "stream",
       "stream": "stdout",
       "text": [
        "\n",
        "  2057  |    0.004542  |    0.007637  |     0.594659  |             |  4.4s"
       ]
      },
      {
       "output_type": "stream",
       "stream": "stdout",
       "text": [
        "\n",
        "  2058  |    0.004545  |    0.007664  |     0.592997  |             |  4.4s"
       ]
      },
      {
       "output_type": "stream",
       "stream": "stdout",
       "text": [
        "\n",
        "  2059  |    0.004501  |    0.007627  |     0.590179  |             |  4.4s"
       ]
      },
      {
       "output_type": "stream",
       "stream": "stdout",
       "text": [
        "\n",
        "  2060  |    0.004559  |    0.007647  |     0.596135  |             |  4.4s"
       ]
      },
      {
       "output_type": "stream",
       "stream": "stdout",
       "text": [
        "\n",
        "  2061  |    0.004516  |    0.007625  |     0.592254  |             |  4.4s"
       ]
      },
      {
       "output_type": "stream",
       "stream": "stdout",
       "text": [
        "\n",
        "  2062  |    0.004503  |    0.007627  |     0.590368  |             |  4.4s"
       ]
      },
      {
       "output_type": "stream",
       "stream": "stdout",
       "text": [
        "\n",
        "  2063  |    0.004504  |    0.007641  |     0.589498  |             |  4.4s"
       ]
      },
      {
       "output_type": "stream",
       "stream": "stdout",
       "text": [
        "\n",
        "  2064  |    0.004467  |    0.007637  |     0.584868  |             |  4.4s"
       ]
      },
      {
       "output_type": "stream",
       "stream": "stdout",
       "text": [
        "\n",
        "  2065  |    0.004524  |    0.007624  |     0.593376  |             |  4.4s"
       ]
      },
      {
       "output_type": "stream",
       "stream": "stdout",
       "text": [
        "\n",
        "  2066  |    0.004565  |    0.007633  |     0.598066  |             |  4.4s"
       ]
      },
      {
       "output_type": "stream",
       "stream": "stdout",
       "text": [
        "\n",
        "  2067  |    0.004522  |    0.007625  |     0.593070  |             |  4.4s"
       ]
      },
      {
       "output_type": "stream",
       "stream": "stdout",
       "text": [
        "\n",
        "  2068  |    0.004452  |    0.007643  |     0.582496  |             |  4.4s"
       ]
      },
      {
       "output_type": "stream",
       "stream": "stdout",
       "text": [
        "\n",
        "  2069  |    0.004517  |  \u001b[32m  0.007611\u001b[0m  |     0.593427  |             |  4.4s"
       ]
      },
      {
       "output_type": "stream",
       "stream": "stdout",
       "text": [
        "\n",
        "  2070  |    0.004523  |    0.007620  |     0.593592  |             |  4.4s"
       ]
      },
      {
       "output_type": "stream",
       "stream": "stdout",
       "text": [
        "\n",
        "  2071  |    0.004527  |    0.007621  |     0.594086  |             |  4.4s"
       ]
      },
      {
       "output_type": "stream",
       "stream": "stdout",
       "text": [
        "\n",
        "  2072  |    0.004479  |    0.007630  |     0.586982  |             |  4.4s"
       ]
      },
      {
       "output_type": "stream",
       "stream": "stdout",
       "text": [
        "\n",
        "  2073  |    0.004461  |    0.007636  |     0.584192  |             |  4.4s"
       ]
      },
      {
       "output_type": "stream",
       "stream": "stdout",
       "text": [
        "\n",
        "  2074  |  \u001b[94m  0.004430\u001b[0m  |    0.007641  |     0.579781  |             |  4.4s"
       ]
      },
      {
       "output_type": "stream",
       "stream": "stdout",
       "text": [
        "\n",
        "  2075  |    0.004553  |    0.007651  |     0.595112  |             |  4.4s"
       ]
      },
      {
       "output_type": "stream",
       "stream": "stdout",
       "text": [
        "\n",
        "  2076  |    0.004547  |    0.007621  |     0.596666  |             |  4.4s"
       ]
      },
      {
       "output_type": "stream",
       "stream": "stdout",
       "text": [
        "\n",
        "  2077  |    0.004568  |    0.007625  |     0.599092  |             |  4.4s"
       ]
      },
      {
       "output_type": "stream",
       "stream": "stdout",
       "text": [
        "\n",
        "  2078  |    0.004437  |    0.007634  |     0.581238  |             |  4.4s"
       ]
      },
      {
       "output_type": "stream",
       "stream": "stdout",
       "text": [
        "\n",
        "  2079  |    0.004431  |    0.007641  |     0.579889  |             |  4.4s"
       ]
      },
      {
       "output_type": "stream",
       "stream": "stdout",
       "text": [
        "\n",
        "  2080  |    0.004461  |    0.007644  |     0.583576  |             |  4.4s"
       ]
      },
      {
       "output_type": "stream",
       "stream": "stdout",
       "text": [
        "\n",
        "  2081  |    0.004501  |    0.007650  |     0.588392  |             |  4.4s"
       ]
      },
      {
       "output_type": "stream",
       "stream": "stdout",
       "text": [
        "\n",
        "  2082  |    0.004472  |    0.007615  |     0.587304  |             |  4.4s"
       ]
      },
      {
       "output_type": "stream",
       "stream": "stdout",
       "text": [
        "\n",
        "  2083  |    0.004497  |    0.007629  |     0.589544  |             |  4.4s"
       ]
      },
      {
       "output_type": "stream",
       "stream": "stdout",
       "text": [
        "\n",
        "  2084  |    0.004486  |    0.007621  |     0.588605  |             |  4.4s"
       ]
      },
      {
       "output_type": "stream",
       "stream": "stdout",
       "text": [
        "\n",
        "  2085  |    0.004482  |    0.007655  |     0.585515  |             |  4.4s"
       ]
      },
      {
       "output_type": "stream",
       "stream": "stdout",
       "text": [
        "\n",
        "  2086  |  \u001b[94m  0.004393\u001b[0m  |  \u001b[32m  0.007610\u001b[0m  |     0.577268  |             |  4.4s"
       ]
      },
      {
       "output_type": "stream",
       "stream": "stdout",
       "text": [
        "\n",
        "  2087  |    0.004459  |    0.007620  |     0.585158  |             |  4.4s"
       ]
      },
      {
       "output_type": "stream",
       "stream": "stdout",
       "text": [
        "\n",
        "  2088  |    0.004473  |    0.007629  |     0.586347  |             |  4.4s"
       ]
      },
      {
       "output_type": "stream",
       "stream": "stdout",
       "text": [
        "\n",
        "  2089  |    0.004488  |    0.007627  |     0.588509  |             |  4.4s"
       ]
      },
      {
       "output_type": "stream",
       "stream": "stdout",
       "text": [
        "\n",
        "  2090  |    0.004397  |    0.007642  |     0.575413  |             |  4.4s"
       ]
      },
      {
       "output_type": "stream",
       "stream": "stdout",
       "text": [
        "\n",
        "  2091  |    0.004465  |    0.007622  |     0.585753  |             |  4.4s"
       ]
      },
      {
       "output_type": "stream",
       "stream": "stdout",
       "text": [
        "\n",
        "  2092  |  \u001b[94m  0.004386\u001b[0m  |    0.007623  |     0.575387  |             |  4.4s"
       ]
      },
      {
       "output_type": "stream",
       "stream": "stdout",
       "text": [
        "\n",
        "  2093  |    0.004393  |    0.007620  |     0.576544  |             |  4.4s"
       ]
      },
      {
       "output_type": "stream",
       "stream": "stdout",
       "text": [
        "\n",
        "  2094  |    0.004467  |    0.007637  |     0.584928  |             |  4.4s"
       ]
      },
      {
       "output_type": "stream",
       "stream": "stdout",
       "text": [
        "\n",
        "  2095  |    0.004406  |    0.007624  |     0.577909  |             |  4.4s"
       ]
      },
      {
       "output_type": "stream",
       "stream": "stdout",
       "text": [
        "\n",
        "  2096  |  \u001b[94m  0.004333\u001b[0m  |    0.007626  |     0.568158  |             |  4.4s"
       ]
      },
      {
       "output_type": "stream",
       "stream": "stdout",
       "text": [
        "\n",
        "  2097  |    0.004429  |    0.007647  |     0.579200  |             |  4.4s"
       ]
      },
      {
       "output_type": "stream",
       "stream": "stdout",
       "text": [
        "\n",
        "  2098  |    0.004500  |    0.007633  |     0.589571  |             |  4.4s"
       ]
      },
      {
       "output_type": "stream",
       "stream": "stdout",
       "text": [
        "\n",
        "  2099  |    0.004426  |    0.007633  |     0.579869  |             |  4.4s"
       ]
      },
      {
       "output_type": "stream",
       "stream": "stdout",
       "text": [
        "\n",
        "  2100  |    0.004418  |    0.007638  |     0.578434  |             |  4.4s"
       ]
      },
      {
       "output_type": "stream",
       "stream": "stdout",
       "text": [
        "\n",
        "  2101  |    0.004487  |    0.007634  |     0.587783  |             |  4.4s"
       ]
      },
      {
       "output_type": "stream",
       "stream": "stdout",
       "text": [
        "\n",
        "  2102  |    0.004464  |    0.007636  |     0.584537  |             |  4.4s"
       ]
      },
      {
       "output_type": "stream",
       "stream": "stdout",
       "text": [
        "\n",
        "  2103  |    0.004412  |    0.007638  |     0.577647  |             |  4.4s"
       ]
      },
      {
       "output_type": "stream",
       "stream": "stdout",
       "text": [
        "\n",
        "  2104  |    0.004485  |    0.007632  |     0.587713  |             |  4.4s"
       ]
      },
      {
       "output_type": "stream",
       "stream": "stdout",
       "text": [
        "\n",
        "  2105  |    0.004425  |    0.007643  |     0.578977  |             |  4.4s"
       ]
      },
      {
       "output_type": "stream",
       "stream": "stdout",
       "text": [
        "\n",
        "  2106  |    0.004416  |  \u001b[32m  0.007604\u001b[0m  |     0.580727  |             |  4.4s"
       ]
      },
      {
       "output_type": "stream",
       "stream": "stdout",
       "text": [
        "\n",
        "  2107  |    0.004412  |    0.007613  |     0.579452  |             |  4.4s"
       ]
      },
      {
       "output_type": "stream",
       "stream": "stdout",
       "text": [
        "\n",
        "  2108  |    0.004423  |    0.007639  |     0.578995  |             |  4.4s"
       ]
      },
      {
       "output_type": "stream",
       "stream": "stdout",
       "text": [
        "\n",
        "  2109  |    0.004466  |    0.007624  |     0.585724  |             |  4.4s"
       ]
      },
      {
       "output_type": "stream",
       "stream": "stdout",
       "text": [
        "\n",
        "  2110  |    0.004396  |    0.007613  |     0.577357  |             |  4.4s"
       ]
      },
      {
       "output_type": "stream",
       "stream": "stdout",
       "text": [
        "\n",
        "  2111  |    0.004388  |    0.007622  |     0.575667  |             |  4.4s"
       ]
      },
      {
       "output_type": "stream",
       "stream": "stdout",
       "text": [
        "\n",
        "  2112  |    0.004474  |    0.007626  |     0.586680  |             |  4.4s"
       ]
      },
      {
       "output_type": "stream",
       "stream": "stdout",
       "text": [
        "\n",
        "  2113  |    0.004412  |    0.007611  |     0.579718  |             |  4.4s"
       ]
      },
      {
       "output_type": "stream",
       "stream": "stdout",
       "text": [
        "\n",
        "  2114  |    0.004379  |    0.007618  |     0.574788  |             |  4.4s"
       ]
      },
      {
       "output_type": "stream",
       "stream": "stdout",
       "text": [
        "\n",
        "  2115  |    0.004415  |    0.007631  |     0.578552  |             |  4.4s"
       ]
      },
      {
       "output_type": "stream",
       "stream": "stdout",
       "text": [
        "\n",
        "  2116  |  \u001b[94m  0.004308\u001b[0m  |    0.007644  |     0.563652  |             |  4.4s"
       ]
      },
      {
       "output_type": "stream",
       "stream": "stdout",
       "text": [
        "\n",
        "  2117  |    0.004327  |    0.007619  |     0.567955  |             |  4.4s"
       ]
      },
      {
       "output_type": "stream",
       "stream": "stdout",
       "text": [
        "\n",
        "  2118  |    0.004452  |    0.007626  |     0.583789  |             |  4.4s"
       ]
      },
      {
       "output_type": "stream",
       "stream": "stdout",
       "text": [
        "\n",
        "  2119  |    0.004391  |    0.007637  |     0.574957  |             |  4.4s"
       ]
      },
      {
       "output_type": "stream",
       "stream": "stdout",
       "text": [
        "\n",
        "  2120  |    0.004464  |    0.007619  |     0.585918  |             |  4.4s"
       ]
      },
      {
       "output_type": "stream",
       "stream": "stdout",
       "text": [
        "\n",
        "  2121  |  \u001b[94m  0.004295\u001b[0m  |    0.007623  |     0.563508  |             |  4.4s"
       ]
      },
      {
       "output_type": "stream",
       "stream": "stdout",
       "text": [
        "\n",
        "  2122  |    0.004310  |    0.007605  |     0.566706  |             |  4.4s"
       ]
      },
      {
       "output_type": "stream",
       "stream": "stdout",
       "text": [
        "\n",
        "  2123  |    0.004406  |    0.007611  |     0.578873  |             |  4.4s"
       ]
      },
      {
       "output_type": "stream",
       "stream": "stdout",
       "text": [
        "\n",
        "  2124  |    0.004405  |    0.007631  |     0.577156  |             |  4.4s"
       ]
      },
      {
       "output_type": "stream",
       "stream": "stdout",
       "text": [
        "\n",
        "  2125  |    0.004410  |    0.007624  |     0.578356  |             |  4.4s"
       ]
      },
      {
       "output_type": "stream",
       "stream": "stdout",
       "text": [
        "\n",
        "  2126  |    0.004399  |    0.007609  |     0.578046  |             |  4.4s"
       ]
      },
      {
       "output_type": "stream",
       "stream": "stdout",
       "text": [
        "\n",
        "  2127  |    0.004330  |    0.007621  |     0.568169  |             |  4.4s"
       ]
      },
      {
       "output_type": "stream",
       "stream": "stdout",
       "text": [
        "\n",
        "  2128  |    0.004380  |    0.007632  |     0.573936  |             |  4.4s"
       ]
      },
      {
       "output_type": "stream",
       "stream": "stdout",
       "text": [
        "\n",
        "  2129  |    0.004392  |  \u001b[32m  0.007603\u001b[0m  |     0.577615  |             |  4.4s"
       ]
      },
      {
       "output_type": "stream",
       "stream": "stdout",
       "text": [
        "\n",
        "  2130  |    0.004403  |    0.007611  |     0.578459  |             |  4.4s"
       ]
      },
      {
       "output_type": "stream",
       "stream": "stdout",
       "text": [
        "\n",
        "  2131  |    0.004303  |    0.007611  |     0.565325  |             |  4.4s"
       ]
      },
      {
       "output_type": "stream",
       "stream": "stdout",
       "text": [
        "\n",
        "  2132  |  \u001b[94m  0.004281\u001b[0m  |    0.007617  |     0.562016  |             |  4.4s"
       ]
      },
      {
       "output_type": "stream",
       "stream": "stdout",
       "text": [
        "\n",
        "  2133  |    0.004350  |    0.007633  |     0.569974  |             |  4.4s"
       ]
      },
      {
       "output_type": "stream",
       "stream": "stdout",
       "text": [
        "\n",
        "  2134  |    0.004445  |    0.007625  |     0.582968  |             |  4.4s"
       ]
      },
      {
       "output_type": "stream",
       "stream": "stdout",
       "text": [
        "\n",
        "  2135  |    0.004388  |    0.007614  |     0.576270  |             |  4.4s"
       ]
      },
      {
       "output_type": "stream",
       "stream": "stdout",
       "text": [
        "\n",
        "  2136  |    0.004362  |    0.007615  |     0.572796  |             |  4.4s"
       ]
      },
      {
       "output_type": "stream",
       "stream": "stdout",
       "text": [
        "\n",
        "  2137  |    0.004337  |    0.007618  |     0.569347  |             |  4.4s"
       ]
      },
      {
       "output_type": "stream",
       "stream": "stdout",
       "text": [
        "\n",
        "  2138  |    0.004322  |    0.007619  |     0.567250  |             |  4.4s"
       ]
      },
      {
       "output_type": "stream",
       "stream": "stdout",
       "text": [
        "\n",
        "  2139  |  \u001b[94m  0.004275\u001b[0m  |    0.007606  |     0.562043  |             |  4.4s"
       ]
      },
      {
       "output_type": "stream",
       "stream": "stdout",
       "text": [
        "\n",
        "  2140  |    0.004292  |    0.007633  |     0.562274  |             |  4.4s"
       ]
      },
      {
       "output_type": "stream",
       "stream": "stdout",
       "text": [
        "\n",
        "  2141  |    0.004385  |    0.007620  |     0.575429  |             |  4.4s"
       ]
      },
      {
       "output_type": "stream",
       "stream": "stdout",
       "text": [
        "\n",
        "  2142  |    0.004298  |    0.007629  |     0.563317  |             |  4.4s"
       ]
      },
      {
       "output_type": "stream",
       "stream": "stdout",
       "text": [
        "\n",
        "  2143  |    0.004366  |    0.007613  |     0.573507  |             |  4.4s"
       ]
      },
      {
       "output_type": "stream",
       "stream": "stdout",
       "text": [
        "\n",
        "  2144  |    0.004356  |    0.007618  |     0.571836  |             |  4.4s"
       ]
      },
      {
       "output_type": "stream",
       "stream": "stdout",
       "text": [
        "\n",
        "  2145  |  \u001b[94m  0.004264\u001b[0m  |    0.007604  |     0.560766  |             |  4.4s"
       ]
      },
      {
       "output_type": "stream",
       "stream": "stdout",
       "text": [
        "\n",
        "  2146  |    0.004310  |  \u001b[32m  0.007602\u001b[0m  |     0.567018  |             |  4.4s"
       ]
      },
      {
       "output_type": "stream",
       "stream": "stdout",
       "text": [
        "\n",
        "  2147  |    0.004307  |    0.007621  |     0.565161  |             |  4.4s"
       ]
      },
      {
       "output_type": "stream",
       "stream": "stdout",
       "text": [
        "\n",
        "  2148  |    0.004276  |    0.007610  |     0.561940  |             |  4.4s"
       ]
      },
      {
       "output_type": "stream",
       "stream": "stdout",
       "text": [
        "\n",
        "  2149  |    0.004332  |    0.007612  |     0.569034  |             |  4.4s"
       ]
      },
      {
       "output_type": "stream",
       "stream": "stdout",
       "text": [
        "\n",
        "  2150  |    0.004311  |    0.007626  |     0.565335  |             |  4.4s"
       ]
      },
      {
       "output_type": "stream",
       "stream": "stdout",
       "text": [
        "\n",
        "  2151  |    0.004331  |    0.007620  |     0.568452  |             |  4.4s"
       ]
      },
      {
       "output_type": "stream",
       "stream": "stdout",
       "text": [
        "\n",
        "  2152  |    0.004313  |  \u001b[32m  0.007597\u001b[0m  |     0.567680  |             |  4.4s"
       ]
      },
      {
       "output_type": "stream",
       "stream": "stdout",
       "text": [
        "\n",
        "  2153  |    0.004391  |    0.007602  |     0.577567  |             |  4.4s"
       ]
      },
      {
       "output_type": "stream",
       "stream": "stdout",
       "text": [
        "\n",
        "  2154  |    0.004297  |    0.007606  |     0.564916  |             |  4.4s"
       ]
      },
      {
       "output_type": "stream",
       "stream": "stdout",
       "text": [
        "\n",
        "  2155  |    0.004329  |  \u001b[32m  0.007596\u001b[0m  |     0.569891  |             |  4.4s"
       ]
      },
      {
       "output_type": "stream",
       "stream": "stdout",
       "text": [
        "\n",
        "  2156  |    0.004272  |    0.007612  |     0.561182  |             |  4.4s"
       ]
      },
      {
       "output_type": "stream",
       "stream": "stdout",
       "text": [
        "\n",
        "  2157  |    0.004273  |    0.007608  |     0.561650  |             |  4.4s"
       ]
      },
      {
       "output_type": "stream",
       "stream": "stdout",
       "text": [
        "\n",
        "  2158  |    0.004403  |    0.007609  |     0.578709  |             |  4.4s"
       ]
      },
      {
       "output_type": "stream",
       "stream": "stdout",
       "text": [
        "\n",
        "  2159  |    0.004277  |    0.007597  |     0.562938  |             |  4.4s"
       ]
      },
      {
       "output_type": "stream",
       "stream": "stdout",
       "text": [
        "\n",
        "  2160  |    0.004284  |  \u001b[32m  0.007595\u001b[0m  |     0.563976  |             |  4.4s"
       ]
      },
      {
       "output_type": "stream",
       "stream": "stdout",
       "text": [
        "\n",
        "  2161  |    0.004337  |    0.007608  |     0.570075  |             |  4.4s"
       ]
      },
      {
       "output_type": "stream",
       "stream": "stdout",
       "text": [
        "\n",
        "  2162  |    0.004312  |    0.007600  |     0.567395  |             |  4.4s"
       ]
      },
      {
       "output_type": "stream",
       "stream": "stdout",
       "text": [
        "\n",
        "  2163  |    0.004397  |    0.007616  |     0.577372  |             |  4.4s"
       ]
      },
      {
       "output_type": "stream",
       "stream": "stdout",
       "text": [
        "\n",
        "  2164  |    0.004265  |    0.007618  |     0.559798  |             |  4.4s"
       ]
      },
      {
       "output_type": "stream",
       "stream": "stdout",
       "text": [
        "\n",
        "  2165  |    0.004268  |    0.007604  |     0.561283  |             |  4.4s"
       ]
      },
      {
       "output_type": "stream",
       "stream": "stdout",
       "text": [
        "\n",
        "  2166  |    0.004344  |    0.007611  |     0.570763  |             |  4.4s"
       ]
      },
      {
       "output_type": "stream",
       "stream": "stdout",
       "text": [
        "\n",
        "  2167  |    0.004303  |    0.007609  |     0.565471  |             |  4.4s"
       ]
      },
      {
       "output_type": "stream",
       "stream": "stdout",
       "text": [
        "\n",
        "  2168  |  \u001b[94m  0.004257\u001b[0m  |  \u001b[32m  0.007590\u001b[0m  |     0.560884  |             |  4.4s"
       ]
      },
      {
       "output_type": "stream",
       "stream": "stdout",
       "text": [
        "\n",
        "  2169  |    0.004306  |    0.007610  |     0.565793  |             |  4.4s"
       ]
      },
      {
       "output_type": "stream",
       "stream": "stdout",
       "text": [
        "\n",
        "  2170  |    0.004259  |    0.007594  |     0.560839  |             |  4.4s"
       ]
      },
      {
       "output_type": "stream",
       "stream": "stdout",
       "text": [
        "\n",
        "  2171  |  \u001b[94m  0.004252\u001b[0m  |    0.007623  |     0.557828  |             |  4.4s"
       ]
      },
      {
       "output_type": "stream",
       "stream": "stdout",
       "text": [
        "\n",
        "  2172  |  \u001b[94m  0.004223\u001b[0m  |    0.007609  |     0.554960  |             |  4.4s"
       ]
      },
      {
       "output_type": "stream",
       "stream": "stdout",
       "text": [
        "\n",
        "  2173  |    0.004255  |    0.007619  |     0.558531  |             |  4.4s"
       ]
      },
      {
       "output_type": "stream",
       "stream": "stdout",
       "text": [
        "\n",
        "  2174  |    0.004306  |    0.007603  |     0.566435  |             |  4.4s"
       ]
      },
      {
       "output_type": "stream",
       "stream": "stdout",
       "text": [
        "\n",
        "  2175  |    0.004329  |    0.007599  |     0.569635  |             |  4.4s"
       ]
      },
      {
       "output_type": "stream",
       "stream": "stdout",
       "text": [
        "\n",
        "  2176  |    0.004328  |  \u001b[32m  0.007585\u001b[0m  |     0.570624  |             |  4.4s"
       ]
      },
      {
       "output_type": "stream",
       "stream": "stdout",
       "text": [
        "\n",
        "  2177  |    0.004270  |    0.007624  |     0.560101  |             |  4.4s"
       ]
      },
      {
       "output_type": "stream",
       "stream": "stdout",
       "text": [
        "\n",
        "  2178  |    0.004277  |    0.007604  |     0.562493  |             |  4.4s"
       ]
      },
      {
       "output_type": "stream",
       "stream": "stdout",
       "text": [
        "\n",
        "  2179  |    0.004242  |    0.007600  |     0.558195  |             |  4.4s"
       ]
      },
      {
       "output_type": "stream",
       "stream": "stdout",
       "text": [
        "\n",
        "  2180  |  \u001b[94m  0.004165\u001b[0m  |    0.007610  |     0.547295  |             |  4.4s"
       ]
      },
      {
       "output_type": "stream",
       "stream": "stdout",
       "text": [
        "\n",
        "  2181  |    0.004300  |    0.007594  |     0.566230  |             |  4.4s"
       ]
      },
      {
       "output_type": "stream",
       "stream": "stdout",
       "text": [
        "\n",
        "  2182  |    0.004267  |    0.007612  |     0.560477  |             |  4.4s"
       ]
      },
      {
       "output_type": "stream",
       "stream": "stdout",
       "text": [
        "\n",
        "  2183  |    0.004246  |    0.007604  |     0.558418  |             |  4.4s"
       ]
      },
      {
       "output_type": "stream",
       "stream": "stdout",
       "text": [
        "\n",
        "  2184  |    0.004269  |    0.007596  |     0.561927  |             |  4.4s"
       ]
      },
      {
       "output_type": "stream",
       "stream": "stdout",
       "text": [
        "\n",
        "  2185  |    0.004273  |    0.007608  |     0.561569  |             |  4.4s"
       ]
      },
      {
       "output_type": "stream",
       "stream": "stdout",
       "text": [
        "\n",
        "  2186  |    0.004289  |    0.007597  |     0.564567  |             |  4.4s"
       ]
      },
      {
       "output_type": "stream",
       "stream": "stdout",
       "text": [
        "\n",
        "  2187  |    0.004213  |    0.007625  |     0.552515  |             |  4.4s"
       ]
      },
      {
       "output_type": "stream",
       "stream": "stdout",
       "text": [
        "\n",
        "  2188  |    0.004212  |    0.007612  |     0.553342  |             |  4.4s"
       ]
      },
      {
       "output_type": "stream",
       "stream": "stdout",
       "text": [
        "\n",
        "  2189  |    0.004215  |    0.007628  |     0.552500  |             |  4.4s"
       ]
      },
      {
       "output_type": "stream",
       "stream": "stdout",
       "text": [
        "\n",
        "  2190  |    0.004256  |    0.007628  |     0.557890  |             |  4.4s"
       ]
      },
      {
       "output_type": "stream",
       "stream": "stdout",
       "text": [
        "\n",
        "  2191  |    0.004235  |    0.007622  |     0.555665  |             |  4.4s"
       ]
      },
      {
       "output_type": "stream",
       "stream": "stdout",
       "text": [
        "\n",
        "  2192  |    0.004200  |    0.007587  |     0.553631  |             |  4.4s"
       ]
      },
      {
       "output_type": "stream",
       "stream": "stdout",
       "text": [
        "\n",
        "  2193  |    0.004329  |    0.007602  |     0.569409  |             |  4.4s"
       ]
      },
      {
       "output_type": "stream",
       "stream": "stdout",
       "text": [
        "\n",
        "  2194  |    0.004286  |    0.007629  |     0.561816  |             |  4.4s"
       ]
      },
      {
       "output_type": "stream",
       "stream": "stdout",
       "text": [
        "\n",
        "  2195  |    0.004189  |    0.007620  |     0.549737  |             |  4.4s"
       ]
      },
      {
       "output_type": "stream",
       "stream": "stdout",
       "text": [
        "\n",
        "  2196  |    0.004260  |    0.007606  |     0.560106  |             |  4.4s"
       ]
      },
      {
       "output_type": "stream",
       "stream": "stdout",
       "text": [
        "\n",
        "  2197  |    0.004215  |    0.007602  |     0.554459  |             |  4.4s"
       ]
      },
      {
       "output_type": "stream",
       "stream": "stdout",
       "text": [
        "\n",
        "  2198  |    0.004191  |    0.007591  |     0.552050  |             |  4.4s"
       ]
      },
      {
       "output_type": "stream",
       "stream": "stdout",
       "text": [
        "\n",
        "  2199  |    0.004172  |    0.007608  |     0.548365  |             |  4.4s"
       ]
      },
      {
       "output_type": "stream",
       "stream": "stdout",
       "text": [
        "\n",
        "  2200  |    0.004263  |    0.007608  |     0.560325  |             |  4.4s"
       ]
      },
      {
       "output_type": "stream",
       "stream": "stdout",
       "text": [
        "\n",
        "  2201  |    0.004211  |    0.007618  |     0.552808  |             |  4.4s"
       ]
      },
      {
       "output_type": "stream",
       "stream": "stdout",
       "text": [
        "\n",
        "  2202  |    0.004198  |    0.007629  |     0.550333  |             |  4.4s"
       ]
      },
      {
       "output_type": "stream",
       "stream": "stdout",
       "text": [
        "\n",
        "  2203  |    0.004186  |    0.007629  |     0.548660  |             |  4.4s"
       ]
      },
      {
       "output_type": "stream",
       "stream": "stdout",
       "text": [
        "\n",
        "  2204  |    0.004255  |    0.007623  |     0.558237  |             |  4.4s"
       ]
      },
      {
       "output_type": "stream",
       "stream": "stdout",
       "text": [
        "\n",
        "  2205  |  \u001b[94m  0.004160\u001b[0m  |    0.007612  |     0.546446  |             |  4.4s"
       ]
      },
      {
       "output_type": "stream",
       "stream": "stdout",
       "text": [
        "\n",
        "  2206  |    0.004211  |    0.007615  |     0.552950  |             |  4.4s"
       ]
      },
      {
       "output_type": "stream",
       "stream": "stdout",
       "text": [
        "\n",
        "  2207  |    0.004173  |    0.007618  |     0.547820  |             |  4.4s"
       ]
      },
      {
       "output_type": "stream",
       "stream": "stdout",
       "text": [
        "\n",
        "  2208  |    0.004221  |    0.007607  |     0.554897  |             |  4.4s"
       ]
      },
      {
       "output_type": "stream",
       "stream": "stdout",
       "text": [
        "\n",
        "  2209  |    0.004207  |    0.007628  |     0.551466  |             |  4.4s"
       ]
      },
      {
       "output_type": "stream",
       "stream": "stdout",
       "text": [
        "\n",
        "  2210  |    0.004216  |    0.007606  |     0.554308  |             |  4.4s"
       ]
      },
      {
       "output_type": "stream",
       "stream": "stdout",
       "text": [
        "\n",
        "  2211  |    0.004165  |    0.007599  |     0.548072  |             |  4.4s"
       ]
      },
      {
       "output_type": "stream",
       "stream": "stdout",
       "text": [
        "\n",
        "  2212  |    0.004228  |    0.007614  |     0.555383  |             |  4.4s"
       ]
      },
      {
       "output_type": "stream",
       "stream": "stdout",
       "text": [
        "\n",
        "  2213  |    0.004242  |    0.007620  |     0.556677  |             |  4.4s"
       ]
      },
      {
       "output_type": "stream",
       "stream": "stdout",
       "text": [
        "\n",
        "  2214  |    0.004246  |    0.007607  |     0.558142  |             |  4.4s"
       ]
      },
      {
       "output_type": "stream",
       "stream": "stdout",
       "text": [
        "\n",
        "  2215  |    0.004189  |    0.007630  |     0.549012  |             |  4.4s"
       ]
      },
      {
       "output_type": "stream",
       "stream": "stdout",
       "text": [
        "\n",
        "  2216  |  \u001b[94m  0.004142\u001b[0m  |    0.007630  |     0.542874  |             |  4.4s"
       ]
      },
      {
       "output_type": "stream",
       "stream": "stdout",
       "text": [
        "\n",
        "  2217  |    0.004256  |    0.007613  |     0.558991  |             |  4.4s"
       ]
      },
      {
       "output_type": "stream",
       "stream": "stdout",
       "text": [
        "\n",
        "  2218  |  \u001b[94m  0.004110\u001b[0m  |    0.007605  |     0.540360  |             |  4.4s"
       ]
      },
      {
       "output_type": "stream",
       "stream": "stdout",
       "text": [
        "\n",
        "  2219  |    0.004161  |    0.007603  |     0.547296  |             |  4.4s"
       ]
      },
      {
       "output_type": "stream",
       "stream": "stdout",
       "text": [
        "\n",
        "  2220  |    0.004193  |    0.007601  |     0.551716  |             |  4.4s"
       ]
      },
      {
       "output_type": "stream",
       "stream": "stdout",
       "text": [
        "\n",
        "  2221  |    0.004127  |    0.007587  |     0.543911  |             |  4.4s"
       ]
      },
      {
       "output_type": "stream",
       "stream": "stdout",
       "text": [
        "\n",
        "  2222  |    0.004167  |    0.007609  |     0.547621  |             |  4.4s"
       ]
      },
      {
       "output_type": "stream",
       "stream": "stdout",
       "text": [
        "\n",
        "  2223  |  \u001b[94m  0.004105\u001b[0m  |    0.007610  |     0.539372  |             |  4.4s"
       ]
      },
      {
       "output_type": "stream",
       "stream": "stdout",
       "text": [
        "\n",
        "  2224  |    0.004155  |    0.007612  |     0.545859  |             |  4.4s"
       ]
      },
      {
       "output_type": "stream",
       "stream": "stdout",
       "text": [
        "\n",
        "  2225  |    0.004168  |    0.007589  |     0.549233  |             |  4.4s"
       ]
      },
      {
       "output_type": "stream",
       "stream": "stdout",
       "text": [
        "\n",
        "  2226  |    0.004110  |    0.007604  |     0.540566  |             |  4.4s"
       ]
      },
      {
       "output_type": "stream",
       "stream": "stdout",
       "text": [
        "\n",
        "  2227  |    0.004143  |    0.007620  |     0.543671  |             |  4.4s"
       ]
      },
      {
       "output_type": "stream",
       "stream": "stdout",
       "text": [
        "\n",
        "  2228  |    0.004188  |    0.007645  |     0.547787  |             |  4.4s"
       ]
      },
      {
       "output_type": "stream",
       "stream": "stdout",
       "text": [
        "\n",
        "  2229  |  \u001b[94m  0.004085\u001b[0m  |    0.007629  |     0.535449  |             |  4.4s"
       ]
      },
      {
       "output_type": "stream",
       "stream": "stdout",
       "text": [
        "\n",
        "  2230  |    0.004141  |    0.007613  |     0.543903  |             |  4.4s"
       ]
      },
      {
       "output_type": "stream",
       "stream": "stdout",
       "text": [
        "\n",
        "  2231  |  \u001b[94m  0.004045\u001b[0m  |    0.007626  |     0.530411  |             |  4.4s"
       ]
      },
      {
       "output_type": "stream",
       "stream": "stdout",
       "text": [
        "\n",
        "  2232  |    0.004185  |    0.007599  |     0.550715  |             |  4.4s"
       ]
      },
      {
       "output_type": "stream",
       "stream": "stdout",
       "text": [
        "\n",
        "  2233  |    0.004190  |    0.007615  |     0.550244  |             |  4.4s"
       ]
      },
      {
       "output_type": "stream",
       "stream": "stdout",
       "text": [
        "\n",
        "  2234  |    0.004121  |    0.007631  |     0.540032  |             |  4.4s"
       ]
      },
      {
       "output_type": "stream",
       "stream": "stdout",
       "text": [
        "\n",
        "  2235  |    0.004141  |  \u001b[32m  0.007584\u001b[0m  |     0.546029  |             |  4.4s"
       ]
      },
      {
       "output_type": "stream",
       "stream": "stdout",
       "text": [
        "\n",
        "  2236  |    0.004142  |    0.007617  |     0.543843  |             |  4.4s"
       ]
      },
      {
       "output_type": "stream",
       "stream": "stdout",
       "text": [
        "\n",
        "  2237  |    0.004113  |    0.007617  |     0.540018  |             |  4.4s"
       ]
      },
      {
       "output_type": "stream",
       "stream": "stdout",
       "text": [
        "\n",
        "  2238  |    0.004126  |    0.007626  |     0.541080  |             |  4.4s"
       ]
      },
      {
       "output_type": "stream",
       "stream": "stdout",
       "text": [
        "\n",
        "  2239  |    0.004057  |    0.007600  |     0.533864  |             |  4.4s"
       ]
      },
      {
       "output_type": "stream",
       "stream": "stdout",
       "text": [
        "\n",
        "  2240  |    0.004167  |    0.007605  |     0.547937  |             |  4.4s"
       ]
      },
      {
       "output_type": "stream",
       "stream": "stdout",
       "text": [
        "\n",
        "  2241  |    0.004079  |    0.007626  |     0.534842  |             |  4.4s"
       ]
      },
      {
       "output_type": "stream",
       "stream": "stdout",
       "text": [
        "\n",
        "  2242  |    0.004166  |    0.007594  |     0.548512  |             |  4.4s"
       ]
      },
      {
       "output_type": "stream",
       "stream": "stdout",
       "text": [
        "\n",
        "  2243  |    0.004171  |    0.007620  |     0.547343  |             |  4.4s"
       ]
      },
      {
       "output_type": "stream",
       "stream": "stdout",
       "text": [
        "\n",
        "  2244  |    0.004089  |    0.007614  |     0.537057  |             |  4.4s"
       ]
      },
      {
       "output_type": "stream",
       "stream": "stdout",
       "text": [
        "\n",
        "  2245  |    0.004109  |    0.007598  |     0.540787  |             |  4.4s"
       ]
      },
      {
       "output_type": "stream",
       "stream": "stdout",
       "text": [
        "\n",
        "  2246  |    0.004146  |    0.007585  |     0.546605  |             |  4.4s"
       ]
      },
      {
       "output_type": "stream",
       "stream": "stdout",
       "text": [
        "\n",
        "  2247  |    0.004172  |    0.007603  |     0.548773  |             |  4.4s"
       ]
      },
      {
       "output_type": "stream",
       "stream": "stdout",
       "text": [
        "\n",
        "  2248  |    0.004091  |    0.007585  |     0.539396  |             |  4.4s"
       ]
      },
      {
       "output_type": "stream",
       "stream": "stdout",
       "text": [
        "\n",
        "  2249  |    0.004106  |    0.007596  |     0.540515  |             |  4.4s"
       ]
      },
      {
       "output_type": "stream",
       "stream": "stdout",
       "text": [
        "\n",
        "  2250  |    0.004089  |    0.007613  |     0.537101  |             |  4.4s"
       ]
      },
      {
       "output_type": "stream",
       "stream": "stdout",
       "text": [
        "\n",
        "  2251  |    0.004156  |    0.007594  |     0.547313  |             |  4.4s"
       ]
      },
      {
       "output_type": "stream",
       "stream": "stdout",
       "text": [
        "\n",
        "  2252  |    0.004102  |  \u001b[32m  0.007576\u001b[0m  |     0.541365  |             |  4.4s"
       ]
      },
      {
       "output_type": "stream",
       "stream": "stdout",
       "text": [
        "\n",
        "  2253  |    0.004063  |    0.007589  |     0.535352  |             |  4.4s"
       ]
      },
      {
       "output_type": "stream",
       "stream": "stdout",
       "text": [
        "\n",
        "  2254  |    0.004134  |    0.007578  |     0.545539  |             |  4.4s"
       ]
      },
      {
       "output_type": "stream",
       "stream": "stdout",
       "text": [
        "\n",
        "  2255  |    0.004081  |    0.007586  |     0.537971  |             |  4.4s"
       ]
      },
      {
       "output_type": "stream",
       "stream": "stdout",
       "text": [
        "\n",
        "  2256  |    0.004135  |    0.007596  |     0.544337  |             |  4.4s"
       ]
      },
      {
       "output_type": "stream",
       "stream": "stdout",
       "text": [
        "\n",
        "  2257  |    0.004134  |    0.007609  |     0.543336  |             |  4.4s"
       ]
      },
      {
       "output_type": "stream",
       "stream": "stdout",
       "text": [
        "\n",
        "  2258  |    0.004164  |    0.007606  |     0.547475  |             |  4.4s"
       ]
      },
      {
       "output_type": "stream",
       "stream": "stdout",
       "text": [
        "\n",
        "  2259  |    0.004087  |    0.007604  |     0.537403  |             |  4.4s"
       ]
      },
      {
       "output_type": "stream",
       "stream": "stdout",
       "text": [
        "\n",
        "  2260  |    0.004129  |    0.007599  |     0.543314  |             |  4.4s"
       ]
      },
      {
       "output_type": "stream",
       "stream": "stdout",
       "text": [
        "\n",
        "  2261  |    0.004072  |    0.007615  |     0.534700  |             |  4.4s"
       ]
      },
      {
       "output_type": "stream",
       "stream": "stdout",
       "text": [
        "\n",
        "  2262  |    0.004084  |    0.007621  |     0.535845  |             |  4.4s"
       ]
      },
      {
       "output_type": "stream",
       "stream": "stdout",
       "text": [
        "\n",
        "  2263  |    0.004084  |    0.007578  |     0.538912  |             |  4.4s"
       ]
      },
      {
       "output_type": "stream",
       "stream": "stdout",
       "text": [
        "\n",
        "  2264  |    0.004064  |    0.007627  |     0.532801  |             |  4.4s"
       ]
      },
      {
       "output_type": "stream",
       "stream": "stdout",
       "text": [
        "\n",
        "  2265  |    0.004137  |    0.007601  |     0.544268  |             |  4.4s"
       ]
      },
      {
       "output_type": "stream",
       "stream": "stdout",
       "text": [
        "\n",
        "  2266  |  \u001b[94m  0.004013\u001b[0m  |    0.007612  |     0.527157  |             |  4.4s"
       ]
      },
      {
       "output_type": "stream",
       "stream": "stdout",
       "text": [
        "\n",
        "  2267  |    0.004105  |    0.007585  |     0.541215  |             |  4.4s"
       ]
      },
      {
       "output_type": "stream",
       "stream": "stdout",
       "text": [
        "\n",
        "  2268  |    0.004088  |    0.007578  |     0.539479  |             |  4.4s"
       ]
      },
      {
       "output_type": "stream",
       "stream": "stdout",
       "text": [
        "\n",
        "  2269  |    0.004058  |    0.007598  |     0.534099  |             |  4.4s"
       ]
      },
      {
       "output_type": "stream",
       "stream": "stdout",
       "text": [
        "\n",
        "  2270  |    0.004104  |    0.007587  |     0.540991  |             |  4.4s"
       ]
      },
      {
       "output_type": "stream",
       "stream": "stdout",
       "text": [
        "\n",
        "  2271  |  \u001b[94m  0.003998\u001b[0m  |    0.007583  |     0.527276  |             |  4.4s"
       ]
      },
      {
       "output_type": "stream",
       "stream": "stdout",
       "text": [
        "\n",
        "  2272  |    0.004082  |    0.007583  |     0.538305  |             |  4.4s"
       ]
      },
      {
       "output_type": "stream",
       "stream": "stdout",
       "text": [
        "\n",
        "  2273  |    0.004146  |    0.007580  |     0.546961  |             |  4.4s"
       ]
      },
      {
       "output_type": "stream",
       "stream": "stdout",
       "text": [
        "\n",
        "  2274  |    0.004105  |    0.007600  |     0.540208  |             |  4.4s"
       ]
      },
      {
       "output_type": "stream",
       "stream": "stdout",
       "text": [
        "\n",
        "  2275  |  \u001b[94m  0.003982\u001b[0m  |    0.007603  |     0.523708  |             |  4.4s"
       ]
      },
      {
       "output_type": "stream",
       "stream": "stdout",
       "text": [
        "\n",
        "  2276  |    0.004063  |    0.007589  |     0.535312  |             |  4.4s"
       ]
      },
      {
       "output_type": "stream",
       "stream": "stdout",
       "text": [
        "\n",
        "  2277  |    0.004107  |    0.007593  |     0.540962  |             |  4.4s"
       ]
      },
      {
       "output_type": "stream",
       "stream": "stdout",
       "text": [
        "\n",
        "  2278  |    0.004039  |    0.007585  |     0.532454  |             |  4.4s"
       ]
      },
      {
       "output_type": "stream",
       "stream": "stdout",
       "text": [
        "\n",
        "  2279  |    0.004100  |    0.007580  |     0.540851  |             |  4.4s"
       ]
      },
      {
       "output_type": "stream",
       "stream": "stdout",
       "text": [
        "\n",
        "  2280  |    0.004081  |  \u001b[32m  0.007563\u001b[0m  |     0.539628  |             |  4.4s"
       ]
      },
      {
       "output_type": "stream",
       "stream": "stdout",
       "text": [
        "\n",
        "  2281  |    0.004000  |    0.007591  |     0.526926  |             |  4.4s"
       ]
      },
      {
       "output_type": "stream",
       "stream": "stdout",
       "text": [
        "\n",
        "  2282  |    0.004001  |    0.007579  |     0.527853  |             |  4.4s"
       ]
      },
      {
       "output_type": "stream",
       "stream": "stdout",
       "text": [
        "\n",
        "  2283  |    0.004010  |  \u001b[32m  0.007556\u001b[0m  |     0.530698  |             |  4.4s"
       ]
      },
      {
       "output_type": "stream",
       "stream": "stdout",
       "text": [
        "\n",
        "  2284  |    0.004060  |    0.007597  |     0.534435  |             |  4.4s"
       ]
      },
      {
       "output_type": "stream",
       "stream": "stdout",
       "text": [
        "\n",
        "  2285  |    0.004040  |    0.007559  |     0.534539  |             |  4.4s"
       ]
      },
      {
       "output_type": "stream",
       "stream": "stdout",
       "text": [
        "\n",
        "  2286  |    0.003993  |    0.007588  |     0.526172  |             |  4.4s"
       ]
      },
      {
       "output_type": "stream",
       "stream": "stdout",
       "text": [
        "\n",
        "  2287  |    0.004127  |    0.007602  |     0.542861  |             |  4.4s"
       ]
      },
      {
       "output_type": "stream",
       "stream": "stdout",
       "text": [
        "\n",
        "  2288  |    0.004046  |    0.007579  |     0.533862  |             |  4.4s"
       ]
      },
      {
       "output_type": "stream",
       "stream": "stdout",
       "text": [
        "\n",
        "  2289  |    0.004019  |    0.007596  |     0.529108  |             |  4.4s"
       ]
      },
      {
       "output_type": "stream",
       "stream": "stdout",
       "text": [
        "\n",
        "  2290  |    0.004066  |    0.007567  |     0.537292  |             |  4.4s"
       ]
      },
      {
       "output_type": "stream",
       "stream": "stdout",
       "text": [
        "\n",
        "  2291  |    0.004001  |    0.007622  |     0.524910  |             |  4.4s"
       ]
      },
      {
       "output_type": "stream",
       "stream": "stdout",
       "text": [
        "\n",
        "  2292  |    0.004098  |    0.007603  |     0.539082  |             |  4.4s"
       ]
      },
      {
       "output_type": "stream",
       "stream": "stdout",
       "text": [
        "\n",
        "  2293  |    0.004049  |    0.007609  |     0.532122  |             |  4.4s"
       ]
      },
      {
       "output_type": "stream",
       "stream": "stdout",
       "text": [
        "\n",
        "  2294  |    0.004158  |    0.007602  |     0.546995  |             |  4.4s"
       ]
      },
      {
       "output_type": "stream",
       "stream": "stdout",
       "text": [
        "\n",
        "  2295  |    0.003987  |    0.007587  |     0.525562  |             |  4.4s"
       ]
      },
      {
       "output_type": "stream",
       "stream": "stdout",
       "text": [
        "\n",
        "  2296  |    0.003983  |    0.007592  |     0.524660  |             |  4.4s"
       ]
      },
      {
       "output_type": "stream",
       "stream": "stdout",
       "text": [
        "\n",
        "  2297  |    0.004086  |    0.007599  |     0.537737  |             |  4.4s"
       ]
      },
      {
       "output_type": "stream",
       "stream": "stdout",
       "text": [
        "\n",
        "  2298  |  \u001b[94m  0.003970\u001b[0m  |    0.007587  |     0.523341  |             |  4.4s"
       ]
      },
      {
       "output_type": "stream",
       "stream": "stdout",
       "text": [
        "\n",
        "  2299  |    0.004019  |    0.007578  |     0.530285  |             |  4.4s"
       ]
      },
      {
       "output_type": "stream",
       "stream": "stdout",
       "text": [
        "\n",
        "  2300  |    0.004036  |    0.007570  |     0.533120  |             |  4.4s"
       ]
      },
      {
       "output_type": "stream",
       "stream": "stdout",
       "text": [
        "\n",
        "  2301  |  \u001b[94m  0.003891\u001b[0m  |    0.007590  |     0.512667  |             |  4.4s"
       ]
      },
      {
       "output_type": "stream",
       "stream": "stdout",
       "text": [
        "\n",
        "  2302  |    0.004047  |    0.007601  |     0.532371  |             |  4.4s"
       ]
      },
      {
       "output_type": "stream",
       "stream": "stdout",
       "text": [
        "\n",
        "  2303  |    0.004029  |    0.007595  |     0.530417  |             |  4.4s"
       ]
      },
      {
       "output_type": "stream",
       "stream": "stdout",
       "text": [
        "\n",
        "  2304  |    0.004025  |    0.007589  |     0.530389  |             |  4.4s"
       ]
      },
      {
       "output_type": "stream",
       "stream": "stdout",
       "text": [
        "\n",
        "  2305  |    0.004022  |    0.007594  |     0.529649  |             |  4.4s"
       ]
      },
      {
       "output_type": "stream",
       "stream": "stdout",
       "text": [
        "\n",
        "  2306  |  \u001b[94m  0.003871\u001b[0m  |    0.007596  |     0.509618  |             |  4.4s"
       ]
      },
      {
       "output_type": "stream",
       "stream": "stdout",
       "text": [
        "\n",
        "  2307  |    0.004025  |    0.007580  |     0.530941  |             |  4.4s"
       ]
      },
      {
       "output_type": "stream",
       "stream": "stdout",
       "text": [
        "\n",
        "  2308  |    0.003942  |    0.007601  |     0.518654  |             |  4.4s"
       ]
      },
      {
       "output_type": "stream",
       "stream": "stdout",
       "text": [
        "\n",
        "  2309  |    0.004052  |    0.007591  |     0.533744  |             |  4.4s"
       ]
      },
      {
       "output_type": "stream",
       "stream": "stdout",
       "text": [
        "\n",
        "  2310  |    0.004097  |    0.007594  |     0.539548  |             |  4.4s"
       ]
      },
      {
       "output_type": "stream",
       "stream": "stdout",
       "text": [
        "\n",
        "  2311  |    0.004032  |    0.007586  |     0.531447  |             |  4.4s"
       ]
      },
      {
       "output_type": "stream",
       "stream": "stdout",
       "text": [
        "\n",
        "  2312  |    0.003954  |    0.007605  |     0.519952  |             |  4.4s"
       ]
      },
      {
       "output_type": "stream",
       "stream": "stdout",
       "text": [
        "\n",
        "  2313  |    0.004013  |    0.007605  |     0.527724  |             |  4.4s"
       ]
      },
      {
       "output_type": "stream",
       "stream": "stdout",
       "text": [
        "\n",
        "  2314  |    0.003979  |    0.007616  |     0.522481  |             |  4.4s"
       ]
      },
      {
       "output_type": "stream",
       "stream": "stdout",
       "text": [
        "\n",
        "  2315  |    0.004004  |    0.007590  |     0.527510  |             |  4.4s"
       ]
      },
      {
       "output_type": "stream",
       "stream": "stdout",
       "text": [
        "\n",
        "  2316  |    0.003998  |    0.007595  |     0.526376  |             |  4.4s"
       ]
      },
      {
       "output_type": "stream",
       "stream": "stdout",
       "text": [
        "\n",
        "  2317  |    0.004019  |    0.007604  |     0.528559  |             |  4.4s"
       ]
      },
      {
       "output_type": "stream",
       "stream": "stdout",
       "text": [
        "\n",
        "  2318  |    0.003967  |    0.007597  |     0.522154  |             |  4.4s"
       ]
      },
      {
       "output_type": "stream",
       "stream": "stdout",
       "text": [
        "\n",
        "  2319  |    0.003998  |    0.007594  |     0.526500  |             |  4.4s"
       ]
      },
      {
       "output_type": "stream",
       "stream": "stdout",
       "text": [
        "\n",
        "  2320  |    0.003916  |    0.007585  |     0.516260  |             |  4.4s"
       ]
      },
      {
       "output_type": "stream",
       "stream": "stdout",
       "text": [
        "\n",
        "  2321  |    0.004007  |    0.007591  |     0.527941  |             |  4.4s"
       ]
      },
      {
       "output_type": "stream",
       "stream": "stdout",
       "text": [
        "\n",
        "  2322  |    0.003928  |    0.007599  |     0.516930  |             |  4.4s"
       ]
      },
      {
       "output_type": "stream",
       "stream": "stdout",
       "text": [
        "\n",
        "  2323  |    0.004026  |  \u001b[32m  0.007553\u001b[0m  |     0.533039  |             |  4.4s"
       ]
      },
      {
       "output_type": "stream",
       "stream": "stdout",
       "text": [
        "\n",
        "  2324  |    0.003967  |    0.007578  |     0.523486  |             |  4.4s"
       ]
      },
      {
       "output_type": "stream",
       "stream": "stdout",
       "text": [
        "\n",
        "  2325  |    0.003957  |    0.007574  |     0.522418  |             |  4.4s"
       ]
      },
      {
       "output_type": "stream",
       "stream": "stdout",
       "text": [
        "\n",
        "  2326  |    0.003933  |    0.007585  |     0.518508  |             |  4.4s"
       ]
      },
      {
       "output_type": "stream",
       "stream": "stdout",
       "text": [
        "\n",
        "  2327  |    0.003936  |    0.007559  |     0.520693  |             |  4.4s"
       ]
      },
      {
       "output_type": "stream",
       "stream": "stdout",
       "text": [
        "\n",
        "  2328  |    0.004006  |    0.007579  |     0.528522  |             |  4.4s"
       ]
      },
      {
       "output_type": "stream",
       "stream": "stdout",
       "text": [
        "\n",
        "  2329  |    0.003970  |    0.007558  |     0.525260  |             |  4.4s"
       ]
      },
      {
       "output_type": "stream",
       "stream": "stdout",
       "text": [
        "\n",
        "  2330  |    0.003976  |    0.007574  |     0.525031  |             |  4.4s"
       ]
      },
      {
       "output_type": "stream",
       "stream": "stdout",
       "text": [
        "\n",
        "  2331  |    0.004005  |    0.007570  |     0.529102  |             |  4.4s"
       ]
      },
      {
       "output_type": "stream",
       "stream": "stdout",
       "text": [
        "\n",
        "  2332  |    0.003983  |    0.007583  |     0.525291  |             |  4.4s"
       ]
      },
      {
       "output_type": "stream",
       "stream": "stdout",
       "text": [
        "\n",
        "  2333  |    0.004003  |    0.007590  |     0.527456  |             |  4.4s"
       ]
      },
      {
       "output_type": "stream",
       "stream": "stdout",
       "text": [
        "\n",
        "  2334  |    0.004022  |    0.007591  |     0.529855  |             |  4.4s"
       ]
      },
      {
       "output_type": "stream",
       "stream": "stdout",
       "text": [
        "\n",
        "  2335  |    0.003887  |    0.007559  |     0.514221  |             |  4.4s"
       ]
      },
      {
       "output_type": "stream",
       "stream": "stdout",
       "text": [
        "\n",
        "  2336  |    0.003945  |    0.007577  |     0.520672  |             |  4.4s"
       ]
      },
      {
       "output_type": "stream",
       "stream": "stdout",
       "text": [
        "\n",
        "  2337  |    0.004005  |    0.007588  |     0.527791  |             |  4.4s"
       ]
      },
      {
       "output_type": "stream",
       "stream": "stdout",
       "text": [
        "\n",
        "  2338  |    0.004026  |    0.007565  |     0.532233  |             |  4.4s"
       ]
      },
      {
       "output_type": "stream",
       "stream": "stdout",
       "text": [
        "\n",
        "  2339  |    0.003890  |  \u001b[32m  0.007546\u001b[0m  |     0.515461  |             |  4.4s"
       ]
      },
      {
       "output_type": "stream",
       "stream": "stdout",
       "text": [
        "\n",
        "  2340  |    0.003905  |    0.007587  |     0.514756  |             |  4.4s"
       ]
      },
      {
       "output_type": "stream",
       "stream": "stdout",
       "text": [
        "\n",
        "  2341  |    0.003993  |    0.007550  |     0.528921  |             |  4.4s"
       ]
      },
      {
       "output_type": "stream",
       "stream": "stdout",
       "text": [
        "\n",
        "  2342  |    0.003943  |    0.007573  |     0.520690  |             |  4.4s"
       ]
      },
      {
       "output_type": "stream",
       "stream": "stdout",
       "text": [
        "\n",
        "  2343  |    0.003965  |    0.007579  |     0.523115  |             |  4.4s"
       ]
      },
      {
       "output_type": "stream",
       "stream": "stdout",
       "text": [
        "\n",
        "  2344  |    0.003899  |    0.007573  |     0.514837  |             |  4.4s"
       ]
      },
      {
       "output_type": "stream",
       "stream": "stdout",
       "text": [
        "\n",
        "  2345  |  \u001b[94m  0.003869\u001b[0m  |    0.007578  |     0.510509  |             |  4.4s"
       ]
      },
      {
       "output_type": "stream",
       "stream": "stdout",
       "text": [
        "\n",
        "  2346  |    0.003898  |    0.007564  |     0.515336  |             |  4.4s"
       ]
      },
      {
       "output_type": "stream",
       "stream": "stdout",
       "text": [
        "\n",
        "  2347  |    0.003910  |    0.007594  |     0.514825  |             |  4.4s"
       ]
      },
      {
       "output_type": "stream",
       "stream": "stdout",
       "text": [
        "\n",
        "  2348  |    0.003923  |    0.007578  |     0.517709  |             |  4.4s"
       ]
      },
      {
       "output_type": "stream",
       "stream": "stdout",
       "text": [
        "\n",
        "  2349  |    0.003880  |    0.007585  |     0.511533  |             |  4.4s"
       ]
      },
      {
       "output_type": "stream",
       "stream": "stdout",
       "text": [
        "\n",
        "  2350  |    0.003937  |    0.007549  |     0.521534  |             |  4.4s"
       ]
      },
      {
       "output_type": "stream",
       "stream": "stdout",
       "text": [
        "\n",
        "  2351  |    0.003958  |    0.007554  |     0.523935  |             |  4.4s"
       ]
      },
      {
       "output_type": "stream",
       "stream": "stdout",
       "text": [
        "\n",
        "  2352  |    0.003924  |    0.007570  |     0.518290  |             |  4.4s"
       ]
      },
      {
       "output_type": "stream",
       "stream": "stdout",
       "text": [
        "\n",
        "  2353  |    0.003871  |    0.007556  |     0.512344  |             |  4.4s"
       ]
      },
      {
       "output_type": "stream",
       "stream": "stdout",
       "text": [
        "\n",
        "  2354  |    0.003920  |    0.007549  |     0.519237  |             |  4.4s"
       ]
      },
      {
       "output_type": "stream",
       "stream": "stdout",
       "text": [
        "\n",
        "  2355  |    0.003907  |    0.007567  |     0.516234  |             |  4.4s"
       ]
      },
      {
       "output_type": "stream",
       "stream": "stdout",
       "text": [
        "\n",
        "  2356  |    0.003881  |    0.007559  |     0.513355  |             |  4.4s"
       ]
      },
      {
       "output_type": "stream",
       "stream": "stdout",
       "text": [
        "\n",
        "  2357  |  \u001b[94m  0.003861\u001b[0m  |    0.007557  |     0.510833  |             |  4.4s"
       ]
      },
      {
       "output_type": "stream",
       "stream": "stdout",
       "text": [
        "\n",
        "  2358  |    0.003934  |    0.007571  |     0.519628  |             |  4.4s"
       ]
      },
      {
       "output_type": "stream",
       "stream": "stdout",
       "text": [
        "\n",
        "  2359  |    0.003961  |    0.007546  |     0.524889  |             |  4.4s"
       ]
      },
      {
       "output_type": "stream",
       "stream": "stdout",
       "text": [
        "\n",
        "  2360  |    0.003936  |    0.007564  |     0.520382  |             |  4.4s"
       ]
      },
      {
       "output_type": "stream",
       "stream": "stdout",
       "text": [
        "\n",
        "  2361  |    0.003909  |    0.007583  |     0.515469  |             |  4.4s"
       ]
      },
      {
       "output_type": "stream",
       "stream": "stdout",
       "text": [
        "\n",
        "  2362  |    0.003934  |  \u001b[32m  0.007538\u001b[0m  |     0.521929  |             |  4.4s"
       ]
      },
      {
       "output_type": "stream",
       "stream": "stdout",
       "text": [
        "\n",
        "  2363  |    0.003935  |    0.007549  |     0.521255  |             |  4.4s"
       ]
      },
      {
       "output_type": "stream",
       "stream": "stdout",
       "text": [
        "\n",
        "  2364  |  \u001b[94m  0.003845\u001b[0m  |    0.007553  |     0.509038  |             |  4.4s"
       ]
      },
      {
       "output_type": "stream",
       "stream": "stdout",
       "text": [
        "\n",
        "  2365  |    0.004005  |    0.007569  |     0.529100  |             |  4.4s"
       ]
      },
      {
       "output_type": "stream",
       "stream": "stdout",
       "text": [
        "\n",
        "  2366  |    0.003900  |    0.007542  |     0.517032  |             |  4.4s"
       ]
      },
      {
       "output_type": "stream",
       "stream": "stdout",
       "text": [
        "\n",
        "  2367  |    0.003850  |    0.007564  |     0.508979  |             |  4.4s"
       ]
      },
      {
       "output_type": "stream",
       "stream": "stdout",
       "text": [
        "\n",
        "  2368  |    0.003858  |    0.007572  |     0.509477  |             |  4.4s"
       ]
      },
      {
       "output_type": "stream",
       "stream": "stdout",
       "text": [
        "\n",
        "  2369  |  \u001b[94m  0.003836\u001b[0m  |    0.007547  |     0.508290  |             |  4.4s"
       ]
      },
      {
       "output_type": "stream",
       "stream": "stdout",
       "text": [
        "\n",
        "  2370  |    0.003854  |    0.007576  |     0.508706  |             |  4.4s"
       ]
      },
      {
       "output_type": "stream",
       "stream": "stdout",
       "text": [
        "\n",
        "  2371  |    0.003867  |    0.007555  |     0.511829  |             |  4.4s"
       ]
      },
      {
       "output_type": "stream",
       "stream": "stdout",
       "text": [
        "\n",
        "  2372  |    0.003876  |    0.007568  |     0.512131  |             |  4.4s"
       ]
      },
      {
       "output_type": "stream",
       "stream": "stdout",
       "text": [
        "\n",
        "  2373  |  \u001b[94m  0.003812\u001b[0m  |    0.007554  |     0.504664  |             |  4.4s"
       ]
      },
      {
       "output_type": "stream",
       "stream": "stdout",
       "text": [
        "\n",
        "  2374  |    0.003879  |  \u001b[32m  0.007533\u001b[0m  |     0.514985  |             |  4.4s"
       ]
      },
      {
       "output_type": "stream",
       "stream": "stdout",
       "text": [
        "\n",
        "  2375  |    0.003887  |    0.007550  |     0.514901  |             |  4.4s"
       ]
      },
      {
       "output_type": "stream",
       "stream": "stdout",
       "text": [
        "\n",
        "  2376  |    0.003876  |    0.007554  |     0.513133  |             |  4.4s"
       ]
      },
      {
       "output_type": "stream",
       "stream": "stdout",
       "text": [
        "\n",
        "  2377  |    0.003822  |    0.007568  |     0.504957  |             |  4.4s"
       ]
      },
      {
       "output_type": "stream",
       "stream": "stdout",
       "text": [
        "\n",
        "  2378  |  \u001b[94m  0.003774\u001b[0m  |    0.007545  |     0.500238  |             |  4.4s"
       ]
      },
      {
       "output_type": "stream",
       "stream": "stdout",
       "text": [
        "\n",
        "  2379  |    0.003880  |    0.007552  |     0.513825  |             |  4.4s"
       ]
      },
      {
       "output_type": "stream",
       "stream": "stdout",
       "text": [
        "\n",
        "  2380  |    0.003807  |    0.007547  |     0.504441  |             |  4.4s"
       ]
      },
      {
       "output_type": "stream",
       "stream": "stdout",
       "text": [
        "\n",
        "  2381  |    0.003868  |    0.007557  |     0.511788  |             |  4.4s"
       ]
      },
      {
       "output_type": "stream",
       "stream": "stdout",
       "text": [
        "\n",
        "  2382  |    0.003859  |    0.007562  |     0.510297  |             |  4.4s"
       ]
      },
      {
       "output_type": "stream",
       "stream": "stdout",
       "text": [
        "\n",
        "  2383  |    0.003817  |    0.007578  |     0.503668  |             |  4.4s"
       ]
      },
      {
       "output_type": "stream",
       "stream": "stdout",
       "text": [
        "\n",
        "  2384  |    0.003845  |    0.007564  |     0.508326  |             |  4.4s"
       ]
      },
      {
       "output_type": "stream",
       "stream": "stdout",
       "text": [
        "\n",
        "  2385  |    0.003839  |    0.007560  |     0.507839  |             |  4.4s"
       ]
      },
      {
       "output_type": "stream",
       "stream": "stdout",
       "text": [
        "\n",
        "  2386  |    0.003903  |    0.007570  |     0.515660  |             |  4.4s"
       ]
      },
      {
       "output_type": "stream",
       "stream": "stdout",
       "text": [
        "\n",
        "  2387  |    0.003796  |    0.007559  |     0.502261  |             |  4.4s"
       ]
      },
      {
       "output_type": "stream",
       "stream": "stdout",
       "text": [
        "\n",
        "  2388  |    0.003832  |    0.007557  |     0.507085  |             |  4.4s"
       ]
      },
      {
       "output_type": "stream",
       "stream": "stdout",
       "text": [
        "\n",
        "  2389  |    0.003918  |    0.007563  |     0.518056  |             |  4.4s"
       ]
      },
      {
       "output_type": "stream",
       "stream": "stdout",
       "text": [
        "\n",
        "  2390  |    0.003834  |    0.007547  |     0.508007  |             |  4.4s"
       ]
      },
      {
       "output_type": "stream",
       "stream": "stdout",
       "text": [
        "\n",
        "  2391  |  \u001b[94m  0.003767\u001b[0m  |    0.007551  |     0.498904  |             |  4.4s"
       ]
      },
      {
       "output_type": "stream",
       "stream": "stdout",
       "text": [
        "\n",
        "  2392  |    0.003843  |    0.007574  |     0.507453  |             |  4.4s"
       ]
      },
      {
       "output_type": "stream",
       "stream": "stdout",
       "text": [
        "\n",
        "  2393  |    0.003957  |    0.007575  |     0.522306  |             |  4.4s"
       ]
      },
      {
       "output_type": "stream",
       "stream": "stdout",
       "text": [
        "\n",
        "  2394  |    0.003864  |    0.007570  |     0.510428  |             |  4.4s"
       ]
      },
      {
       "output_type": "stream",
       "stream": "stdout",
       "text": [
        "\n",
        "  2395  |    0.003923  |    0.007570  |     0.518195  |             |  4.4s"
       ]
      },
      {
       "output_type": "stream",
       "stream": "stdout",
       "text": [
        "\n",
        "  2396  |    0.003880  |    0.007556  |     0.513556  |             |  4.4s"
       ]
      },
      {
       "output_type": "stream",
       "stream": "stdout",
       "text": [
        "\n",
        "  2397  |    0.003815  |    0.007550  |     0.505337  |             |  4.4s"
       ]
      },
      {
       "output_type": "stream",
       "stream": "stdout",
       "text": [
        "\n",
        "  2398  |    0.003807  |    0.007569  |     0.503036  |             |  4.4s"
       ]
      },
      {
       "output_type": "stream",
       "stream": "stdout",
       "text": [
        "\n",
        "  2399  |    0.003870  |    0.007575  |     0.510926  |             |  4.4s"
       ]
      },
      {
       "output_type": "stream",
       "stream": "stdout",
       "text": [
        "\n",
        "  2400  |    0.003806  |    0.007546  |     0.504367  |             |  4.4s"
       ]
      },
      {
       "output_type": "stream",
       "stream": "stdout",
       "text": [
        "\n",
        "  2401  |    0.003870  |    0.007559  |     0.511940  |             |  4.4s"
       ]
      },
      {
       "output_type": "stream",
       "stream": "stdout",
       "text": [
        "\n",
        "  2402  |    0.003822  |    0.007545  |     0.506494  |             |  4.4s"
       ]
      },
      {
       "output_type": "stream",
       "stream": "stdout",
       "text": [
        "\n",
        "  2403  |    0.003832  |    0.007548  |     0.507697  |             |  4.4s"
       ]
      },
      {
       "output_type": "stream",
       "stream": "stdout",
       "text": [
        "\n",
        "  2404  |    0.003832  |    0.007547  |     0.507692  |             |  4.4s"
       ]
      },
      {
       "output_type": "stream",
       "stream": "stdout",
       "text": [
        "\n",
        "  2405  |    0.003849  |    0.007551  |     0.509758  |             |  4.4s"
       ]
      },
      {
       "output_type": "stream",
       "stream": "stdout",
       "text": [
        "\n",
        "  2406  |    0.003826  |    0.007552  |     0.506635  |             |  4.4s"
       ]
      },
      {
       "output_type": "stream",
       "stream": "stdout",
       "text": [
        "\n",
        "  2407  |    0.003906  |    0.007537  |     0.518220  |             |  4.4s"
       ]
      },
      {
       "output_type": "stream",
       "stream": "stdout",
       "text": [
        "\n",
        "  2408  |    0.003926  |    0.007546  |     0.520347  |             |  4.4s"
       ]
      },
      {
       "output_type": "stream",
       "stream": "stdout",
       "text": [
        "\n",
        "  2409  |    0.003790  |    0.007537  |     0.502914  |             |  4.4s"
       ]
      },
      {
       "output_type": "stream",
       "stream": "stdout",
       "text": [
        "\n",
        "  2410  |    0.003849  |    0.007534  |     0.510848  |             |  4.4s"
       ]
      },
      {
       "output_type": "stream",
       "stream": "stdout",
       "text": [
        "\n",
        "  2411  |    0.003834  |    0.007539  |     0.508582  |             |  4.4s"
       ]
      },
      {
       "output_type": "stream",
       "stream": "stdout",
       "text": [
        "\n",
        "  2412  |    0.003845  |    0.007543  |     0.509803  |             |  4.4s"
       ]
      },
      {
       "output_type": "stream",
       "stream": "stdout",
       "text": [
        "\n",
        "  2413  |    0.003802  |    0.007553  |     0.503414  |             |  4.4s"
       ]
      },
      {
       "output_type": "stream",
       "stream": "stdout",
       "text": [
        "\n",
        "  2414  |    0.003834  |    0.007538  |     0.508688  |             |  4.4s"
       ]
      },
      {
       "output_type": "stream",
       "stream": "stdout",
       "text": [
        "\n",
        "  2415  |    0.003791  |    0.007562  |     0.501320  |             |  4.4s"
       ]
      },
      {
       "output_type": "stream",
       "stream": "stdout",
       "text": [
        "\n",
        "  2416  |    0.003789  |    0.007543  |     0.502268  |             |  4.4s"
       ]
      },
      {
       "output_type": "stream",
       "stream": "stdout",
       "text": [
        "\n",
        "  2417  |    0.003796  |    0.007567  |     0.501624  |             |  4.4s"
       ]
      },
      {
       "output_type": "stream",
       "stream": "stdout",
       "text": [
        "\n",
        "  2418  |    0.003791  |    0.007546  |     0.502430  |             |  4.4s"
       ]
      },
      {
       "output_type": "stream",
       "stream": "stdout",
       "text": [
        "\n",
        "  2419  |    0.003877  |    0.007545  |     0.513852  |             |  4.4s"
       ]
      },
      {
       "output_type": "stream",
       "stream": "stdout",
       "text": [
        "\n",
        "  2420  |  \u001b[94m  0.003752\u001b[0m  |    0.007548  |     0.497131  |             |  4.4s"
       ]
      },
      {
       "output_type": "stream",
       "stream": "stdout",
       "text": [
        "\n",
        "  2421  |    0.003886  |    0.007564  |     0.513808  |             |  4.4s"
       ]
      },
      {
       "output_type": "stream",
       "stream": "stdout",
       "text": [
        "\n",
        "  2422  |    0.003765  |    0.007557  |     0.498283  |             |  4.4s"
       ]
      },
      {
       "output_type": "stream",
       "stream": "stdout",
       "text": [
        "\n",
        "  2423  |    0.003879  |    0.007545  |     0.514050  |             |  4.4s"
       ]
      },
      {
       "output_type": "stream",
       "stream": "stdout",
       "text": [
        "\n",
        "  2424  |    0.003853  |    0.007551  |     0.510284  |             |  4.4s"
       ]
      },
      {
       "output_type": "stream",
       "stream": "stdout",
       "text": [
        "\n",
        "  2425  |    0.003887  |    0.007544  |     0.515286  |             |  4.4s"
       ]
      },
      {
       "output_type": "stream",
       "stream": "stdout",
       "text": [
        "\n",
        "  2426  |    0.003886  |    0.007544  |     0.515066  |             |  4.4s"
       ]
      },
      {
       "output_type": "stream",
       "stream": "stdout",
       "text": [
        "\n",
        "  2427  |    0.003778  |    0.007557  |     0.499954  |             |  4.4s"
       ]
      },
      {
       "output_type": "stream",
       "stream": "stdout",
       "text": [
        "\n",
        "  2428  |    0.003790  |    0.007567  |     0.500843  |             |  4.4s"
       ]
      },
      {
       "output_type": "stream",
       "stream": "stdout",
       "text": [
        "\n",
        "  2429  |    0.003780  |    0.007585  |     0.498381  |             |  4.4s"
       ]
      },
      {
       "output_type": "stream",
       "stream": "stdout",
       "text": [
        "\n",
        "  2430  |    0.003781  |    0.007548  |     0.500857  |             |  4.4s"
       ]
      },
      {
       "output_type": "stream",
       "stream": "stdout",
       "text": [
        "\n",
        "  2431  |    0.003779  |    0.007569  |     0.499296  |             |  4.4s"
       ]
      },
      {
       "output_type": "stream",
       "stream": "stdout",
       "text": [
        "\n",
        "  2432  |    0.003819  |    0.007582  |     0.503619  |             |  4.4s"
       ]
      },
      {
       "output_type": "stream",
       "stream": "stdout",
       "text": [
        "\n",
        "  2433  |    0.003762  |    0.007556  |     0.497896  |             |  4.4s"
       ]
      },
      {
       "output_type": "stream",
       "stream": "stdout",
       "text": [
        "\n",
        "  2434  |    0.003780  |    0.007572  |     0.499172  |             |  4.4s"
       ]
      },
      {
       "output_type": "stream",
       "stream": "stdout",
       "text": [
        "\n",
        "  2435  |    0.003768  |    0.007548  |     0.499217  |             |  4.4s"
       ]
      },
      {
       "output_type": "stream",
       "stream": "stdout",
       "text": [
        "\n",
        "  2436  |    0.003806  |    0.007556  |     0.503763  |             |  4.4s"
       ]
      },
      {
       "output_type": "stream",
       "stream": "stdout",
       "text": [
        "\n",
        "  2437  |  \u001b[94m  0.003729\u001b[0m  |    0.007559  |     0.493311  |             |  4.4s"
       ]
      },
      {
       "output_type": "stream",
       "stream": "stdout",
       "text": [
        "\n",
        "  2438  |    0.003779  |    0.007544  |     0.501009  |             |  4.4s"
       ]
      },
      {
       "output_type": "stream",
       "stream": "stdout",
       "text": [
        "\n",
        "  2439  |    0.003838  |    0.007545  |     0.508735  |             |  4.4s"
       ]
      },
      {
       "output_type": "stream",
       "stream": "stdout",
       "text": [
        "\n",
        "  2440  |  \u001b[94m  0.003655\u001b[0m  |    0.007548  |     0.484189  |             |  4.4s"
       ]
      },
      {
       "output_type": "stream",
       "stream": "stdout",
       "text": [
        "\n",
        "  2441  |    0.003735  |    0.007557  |     0.494331  |             |  4.4s"
       ]
      },
      {
       "output_type": "stream",
       "stream": "stdout",
       "text": [
        "\n",
        "  2442  |    0.003907  |    0.007571  |     0.515970  |             |  4.4s"
       ]
      },
      {
       "output_type": "stream",
       "stream": "stdout",
       "text": [
        "\n",
        "  2443  |    0.003779  |  \u001b[32m  0.007528\u001b[0m  |     0.502016  |             |  4.4s"
       ]
      },
      {
       "output_type": "stream",
       "stream": "stdout",
       "text": [
        "\n",
        "  2444  |    0.003808  |    0.007554  |     0.504098  |             |  4.4s"
       ]
      },
      {
       "output_type": "stream",
       "stream": "stdout",
       "text": [
        "\n",
        "  2445  |    0.003713  |    0.007553  |     0.491594  |             |  4.4s"
       ]
      },
      {
       "output_type": "stream",
       "stream": "stdout",
       "text": [
        "\n",
        "  2446  |    0.003726  |    0.007575  |     0.491868  |             |  4.4s"
       ]
      },
      {
       "output_type": "stream",
       "stream": "stdout",
       "text": [
        "\n",
        "  2447  |    0.003785  |    0.007560  |     0.500656  |             |  4.4s"
       ]
      },
      {
       "output_type": "stream",
       "stream": "stdout",
       "text": [
        "\n",
        "  2448  |    0.003806  |  \u001b[32m  0.007528\u001b[0m  |     0.505650  |             |  4.4s"
       ]
      },
      {
       "output_type": "stream",
       "stream": "stdout",
       "text": [
        "\n",
        "  2449  |    0.003779  |    0.007553  |     0.500305  |             |  4.4s"
       ]
      },
      {
       "output_type": "stream",
       "stream": "stdout",
       "text": [
        "\n",
        "  2450  |    0.003785  |    0.007583  |     0.499060  |             |  4.4s"
       ]
      },
      {
       "output_type": "stream",
       "stream": "stdout",
       "text": [
        "\n",
        "  2451  |    0.003753  |    0.007551  |     0.497041  |             |  4.4s"
       ]
      },
      {
       "output_type": "stream",
       "stream": "stdout",
       "text": [
        "\n",
        "  2452  |    0.003752  |    0.007568  |     0.495783  |             |  4.4s"
       ]
      },
      {
       "output_type": "stream",
       "stream": "stdout",
       "text": [
        "\n",
        "  2453  |    0.003733  |    0.007575  |     0.492835  |             |  4.4s"
       ]
      },
      {
       "output_type": "stream",
       "stream": "stdout",
       "text": [
        "\n",
        "  2454  |    0.003770  |    0.007548  |     0.499499  |             |  4.4s"
       ]
      },
      {
       "output_type": "stream",
       "stream": "stdout",
       "text": [
        "\n",
        "  2455  |    0.003714  |    0.007568  |     0.490825  |             |  4.4s"
       ]
      },
      {
       "output_type": "stream",
       "stream": "stdout",
       "text": [
        "\n",
        "  2456  |    0.003795  |    0.007546  |     0.502959  |             |  4.4s"
       ]
      },
      {
       "output_type": "stream",
       "stream": "stdout",
       "text": [
        "\n",
        "  2457  |    0.003784  |    0.007531  |     0.502389  |             |  4.4s"
       ]
      },
      {
       "output_type": "stream",
       "stream": "stdout",
       "text": [
        "\n",
        "  2458  |    0.003801  |    0.007545  |     0.503859  |             |  4.4s"
       ]
      },
      {
       "output_type": "stream",
       "stream": "stdout",
       "text": [
        "\n",
        "  2459  |    0.003765  |    0.007555  |     0.498426  |             |  4.4s"
       ]
      },
      {
       "output_type": "stream",
       "stream": "stdout",
       "text": [
        "\n",
        "  2460  |    0.003690  |    0.007571  |     0.487445  |             |  4.4s"
       ]
      },
      {
       "output_type": "stream",
       "stream": "stdout",
       "text": [
        "\n",
        "  2461  |    0.003742  |    0.007531  |     0.496897  |             |  4.4s"
       ]
      },
      {
       "output_type": "stream",
       "stream": "stdout",
       "text": [
        "\n",
        "  2462  |    0.003761  |    0.007537  |     0.498997  |             |  4.4s"
       ]
      },
      {
       "output_type": "stream",
       "stream": "stdout",
       "text": [
        "\n",
        "  2463  |    0.003747  |    0.007555  |     0.496006  |             |  4.4s"
       ]
      },
      {
       "output_type": "stream",
       "stream": "stdout",
       "text": [
        "\n",
        "  2464  |    0.003723  |    0.007568  |     0.491960  |             |  4.4s"
       ]
      },
      {
       "output_type": "stream",
       "stream": "stdout",
       "text": [
        "\n",
        "  2465  |    0.003659  |    0.007554  |     0.484419  |             |  4.4s"
       ]
      },
      {
       "output_type": "stream",
       "stream": "stdout",
       "text": [
        "\n",
        "  2466  |    0.003717  |    0.007548  |     0.492448  |             |  4.4s"
       ]
      },
      {
       "output_type": "stream",
       "stream": "stdout",
       "text": [
        "\n",
        "  2467  |    0.003698  |    0.007554  |     0.489515  |             |  4.4s"
       ]
      },
      {
       "output_type": "stream",
       "stream": "stdout",
       "text": [
        "\n",
        "  2468  |    0.003735  |    0.007556  |     0.494325  |             |  4.4s"
       ]
      },
      {
       "output_type": "stream",
       "stream": "stdout",
       "text": [
        "\n",
        "  2469  |    0.003712  |    0.007546  |     0.491970  |             |  4.4s"
       ]
      },
      {
       "output_type": "stream",
       "stream": "stdout",
       "text": [
        "\n",
        "  2470  |    0.003669  |    0.007556  |     0.485571  |             |  4.4s"
       ]
      },
      {
       "output_type": "stream",
       "stream": "stdout",
       "text": [
        "\n",
        "  2471  |    0.003713  |    0.007550  |     0.491740  |             |  4.4s"
       ]
      },
      {
       "output_type": "stream",
       "stream": "stdout",
       "text": [
        "\n",
        "  2472  |    0.003674  |    0.007557  |     0.486098  |             |  4.4s"
       ]
      },
      {
       "output_type": "stream",
       "stream": "stdout",
       "text": [
        "\n",
        "  2473  |    0.003712  |    0.007568  |     0.490485  |             |  4.4s"
       ]
      },
      {
       "output_type": "stream",
       "stream": "stdout",
       "text": [
        "\n",
        "  2474  |    0.003693  |    0.007548  |     0.489255  |             |  4.4s"
       ]
      },
      {
       "output_type": "stream",
       "stream": "stdout",
       "text": [
        "\n",
        "  2475  |    0.003746  |    0.007570  |     0.494913  |             |  4.4s"
       ]
      },
      {
       "output_type": "stream",
       "stream": "stdout",
       "text": [
        "\n",
        "  2476  |    0.003770  |    0.007551  |     0.499328  |             |  4.4s"
       ]
      },
      {
       "output_type": "stream",
       "stream": "stdout",
       "text": [
        "\n",
        "  2477  |    0.003723  |    0.007577  |     0.491336  |             |  4.4s"
       ]
      },
      {
       "output_type": "stream",
       "stream": "stdout",
       "text": [
        "\n",
        "  2478  |    0.003751  |    0.007546  |     0.497027  |             |  4.4s"
       ]
      },
      {
       "output_type": "stream",
       "stream": "stdout",
       "text": [
        "\n",
        "  2479  |    0.003704  |    0.007560  |     0.489889  |             |  4.4s"
       ]
      },
      {
       "output_type": "stream",
       "stream": "stdout",
       "text": [
        "\n",
        "  2480  |    0.003703  |    0.007575  |     0.488770  |             |  4.4s"
       ]
      },
      {
       "output_type": "stream",
       "stream": "stdout",
       "text": [
        "\n",
        "  2481  |  \u001b[94m  0.003574\u001b[0m  |    0.007558  |     0.472930  |             |  4.4s"
       ]
      },
      {
       "output_type": "stream",
       "stream": "stdout",
       "text": [
        "\n",
        "  2482  |    0.003698  |    0.007561  |     0.489176  |             |  4.4s"
       ]
      },
      {
       "output_type": "stream",
       "stream": "stdout",
       "text": [
        "\n",
        "  2483  |    0.003618  |    0.007573  |     0.477773  |             |  4.4s"
       ]
      },
      {
       "output_type": "stream",
       "stream": "stdout",
       "text": [
        "\n",
        "  2484  |    0.003702  |    0.007551  |     0.490224  |             |  4.4s"
       ]
      },
      {
       "output_type": "stream",
       "stream": "stdout",
       "text": [
        "\n",
        "  2485  |    0.003712  |    0.007567  |     0.490544  |             |  4.4s"
       ]
      },
      {
       "output_type": "stream",
       "stream": "stdout",
       "text": [
        "\n",
        "  2486  |    0.003699  |    0.007552  |     0.489900  |             |  4.4s"
       ]
      },
      {
       "output_type": "stream",
       "stream": "stdout",
       "text": [
        "\n",
        "  2487  |    0.003676  |    0.007535  |     0.487878  |             |  4.4s"
       ]
      },
      {
       "output_type": "stream",
       "stream": "stdout",
       "text": [
        "\n",
        "  2488  |    0.003733  |    0.007569  |     0.493200  |             |  4.4s"
       ]
      },
      {
       "output_type": "stream",
       "stream": "stdout",
       "text": [
        "\n",
        "  2489  |    0.003747  |    0.007570  |     0.495050  |             |  4.4s"
       ]
      },
      {
       "output_type": "stream",
       "stream": "stdout",
       "text": [
        "\n",
        "  2490  |    0.003702  |    0.007544  |     0.490705  |             |  4.4s"
       ]
      },
      {
       "output_type": "stream",
       "stream": "stdout",
       "text": [
        "\n",
        "  2491  |    0.003595  |    0.007539  |     0.476795  |             |  4.4s"
       ]
      },
      {
       "output_type": "stream",
       "stream": "stdout",
       "text": [
        "\n",
        "  2492  |    0.003762  |    0.007532  |     0.499437  |             |  4.4s"
       ]
      },
      {
       "output_type": "stream",
       "stream": "stdout",
       "text": [
        "\n",
        "  2493  |    0.003641  |    0.007551  |     0.482131  |             |  4.4s"
       ]
      },
      {
       "output_type": "stream",
       "stream": "stdout",
       "text": [
        "\n",
        "  2494  |    0.003652  |    0.007565  |     0.482702  |             |  4.4s"
       ]
      },
      {
       "output_type": "stream",
       "stream": "stdout",
       "text": [
        "\n",
        "  2495  |    0.003660  |    0.007536  |     0.485588  |             |  4.4s"
       ]
      },
      {
       "output_type": "stream",
       "stream": "stdout",
       "text": [
        "\n",
        "  2496  |    0.003690  |    0.007544  |     0.489179  |             |  4.4s"
       ]
      },
      {
       "output_type": "stream",
       "stream": "stdout",
       "text": [
        "\n",
        "  2497  |    0.003671  |    0.007543  |     0.486638  |             |  4.4s"
       ]
      },
      {
       "output_type": "stream",
       "stream": "stdout",
       "text": [
        "\n",
        "  2498  |    0.003653  |    0.007556  |     0.483539  |             |  4.4s"
       ]
      },
      {
       "output_type": "stream",
       "stream": "stdout",
       "text": [
        "\n",
        "  2499  |    0.003716  |    0.007560  |     0.491475  |             |  4.4s"
       ]
      },
      {
       "output_type": "stream",
       "stream": "stdout",
       "text": [
        "\n",
        "  2500  |    0.003597  |    0.007534  |     0.477376  |             |  4.4s"
       ]
      },
      {
       "output_type": "stream",
       "stream": "stdout",
       "text": [
        "\n",
        "  2501  |    0.003723  |    0.007552  |     0.492975  |             |  4.4s"
       ]
      },
      {
       "output_type": "stream",
       "stream": "stdout",
       "text": [
        "\n",
        "  2502  |    0.003665  |    0.007554  |     0.485164  |             |  4.4s"
       ]
      },
      {
       "output_type": "stream",
       "stream": "stdout",
       "text": [
        "\n",
        "  2503  |    0.003640  |    0.007540  |     0.482738  |             |  4.4s"
       ]
      },
      {
       "output_type": "stream",
       "stream": "stdout",
       "text": [
        "\n",
        "  2504  |    0.003665  |    0.007530  |     0.486721  |             |  4.4s"
       ]
      },
      {
       "output_type": "stream",
       "stream": "stdout",
       "text": [
        "\n",
        "  2505  |    0.003677  |    0.007533  |     0.488171  |             |  4.4s"
       ]
      },
      {
       "output_type": "stream",
       "stream": "stdout",
       "text": [
        "\n",
        "  2506  |    0.003690  |    0.007549  |     0.488780  |             |  4.4s"
       ]
      },
      {
       "output_type": "stream",
       "stream": "stdout",
       "text": [
        "\n",
        "  2507  |    0.003666  |    0.007547  |     0.485721  |             |  4.4s"
       ]
      },
      {
       "output_type": "stream",
       "stream": "stdout",
       "text": [
        "\n",
        "  2508  |    0.003709  |    0.007541  |     0.491801  |             |  4.4s"
       ]
      },
      {
       "output_type": "stream",
       "stream": "stdout",
       "text": [
        "\n",
        "  2509  |    0.003626  |    0.007549  |     0.480386  |             |  4.4s"
       ]
      },
      {
       "output_type": "stream",
       "stream": "stdout",
       "text": [
        "\n",
        "  2510  |    0.003608  |    0.007543  |     0.478320  |             |  4.4s"
       ]
      },
      {
       "output_type": "stream",
       "stream": "stdout",
       "text": [
        "\n",
        "  2511  |    0.003662  |  \u001b[32m  0.007526\u001b[0m  |     0.486663  |             |  4.4s"
       ]
      },
      {
       "output_type": "stream",
       "stream": "stdout",
       "text": [
        "\n",
        "  2512  |    0.003580  |    0.007532  |     0.475307  |             |  4.4s"
       ]
      },
      {
       "output_type": "stream",
       "stream": "stdout",
       "text": [
        "\n",
        "  2513  |    0.003699  |    0.007539  |     0.490633  |             |  4.4s"
       ]
      },
      {
       "output_type": "stream",
       "stream": "stdout",
       "text": [
        "\n",
        "  2514  |    0.003650  |    0.007530  |     0.484727  |             |  4.4s"
       ]
      },
      {
       "output_type": "stream",
       "stream": "stdout",
       "text": [
        "\n",
        "  2515  |    0.003649  |    0.007545  |     0.483543  |             |  4.4s"
       ]
      },
      {
       "output_type": "stream",
       "stream": "stdout",
       "text": [
        "\n",
        "  2516  |    0.003719  |    0.007526  |     0.494111  |             |  4.4s"
       ]
      },
      {
       "output_type": "stream",
       "stream": "stdout",
       "text": [
        "\n",
        "  2517  |    0.003628  |  \u001b[32m  0.007523\u001b[0m  |     0.482227  |             |  4.4s"
       ]
      },
      {
       "output_type": "stream",
       "stream": "stdout",
       "text": [
        "\n",
        "  2518  |    0.003637  |    0.007554  |     0.481465  |             |  4.4s"
       ]
      },
      {
       "output_type": "stream",
       "stream": "stdout",
       "text": [
        "\n",
        "  2519  |    0.003624  |  \u001b[32m  0.007522\u001b[0m  |     0.481812  |             |  4.4s"
       ]
      },
      {
       "output_type": "stream",
       "stream": "stdout",
       "text": [
        "\n",
        "  2520  |    0.003723  |  \u001b[32m  0.007520\u001b[0m  |     0.495107  |             |  4.4s"
       ]
      },
      {
       "output_type": "stream",
       "stream": "stdout",
       "text": [
        "\n",
        "  2521  |    0.003641  |    0.007539  |     0.483027  |             |  4.4s"
       ]
      },
      {
       "output_type": "stream",
       "stream": "stdout",
       "text": [
        "\n",
        "  2522  |    0.003672  |    0.007543  |     0.486794  |             |  4.4s"
       ]
      },
      {
       "output_type": "stream",
       "stream": "stdout",
       "text": [
        "\n",
        "  2523  |    0.003621  |    0.007523  |     0.481331  |             |  4.4s"
       ]
      },
      {
       "output_type": "stream",
       "stream": "stdout",
       "text": [
        "\n",
        "  2524  |  \u001b[94m  0.003566\u001b[0m  |    0.007542  |     0.472786  |             |  4.4s"
       ]
      },
      {
       "output_type": "stream",
       "stream": "stdout",
       "text": [
        "\n",
        "  2525  |    0.003581  |    0.007551  |     0.474259  |             |  4.4s"
       ]
      },
      {
       "output_type": "stream",
       "stream": "stdout",
       "text": [
        "\n",
        "  2526  |    0.003616  |    0.007552  |     0.478867  |             |  4.4s"
       ]
      },
      {
       "output_type": "stream",
       "stream": "stdout",
       "text": [
        "\n",
        "  2527  |    0.003665  |    0.007574  |     0.483901  |             |  4.4s"
       ]
      },
      {
       "output_type": "stream",
       "stream": "stdout",
       "text": [
        "\n",
        "  2528  |    0.003630  |    0.007568  |     0.479647  |             |  4.4s"
       ]
      },
      {
       "output_type": "stream",
       "stream": "stdout",
       "text": [
        "\n",
        "  2529  |  \u001b[94m  0.003563\u001b[0m  |    0.007552  |     0.471785  |             |  4.4s"
       ]
      },
      {
       "output_type": "stream",
       "stream": "stdout",
       "text": [
        "\n",
        "  2530  |    0.003587  |    0.007546  |     0.475319  |             |  4.4s"
       ]
      },
      {
       "output_type": "stream",
       "stream": "stdout",
       "text": [
        "\n",
        "  2531  |    0.003585  |    0.007536  |     0.475648  |             |  4.4s"
       ]
      },
      {
       "output_type": "stream",
       "stream": "stdout",
       "text": [
        "\n",
        "  2532  |    0.003594  |    0.007539  |     0.476741  |             |  4.4s"
       ]
      },
      {
       "output_type": "stream",
       "stream": "stdout",
       "text": [
        "\n",
        "  2533  |    0.003631  |    0.007548  |     0.481128  |             |  4.4s"
       ]
      },
      {
       "output_type": "stream",
       "stream": "stdout",
       "text": [
        "\n",
        "  2534  |    0.003651  |    0.007543  |     0.483997  |             |  4.4s"
       ]
      },
      {
       "output_type": "stream",
       "stream": "stdout",
       "text": [
        "\n",
        "  2535  |    0.003578  |    0.007551  |     0.473852  |             |  4.4s"
       ]
      },
      {
       "output_type": "stream",
       "stream": "stdout",
       "text": [
        "\n",
        "  2536  |    0.003643  |    0.007574  |     0.480936  |             |  4.4s"
       ]
      },
      {
       "output_type": "stream",
       "stream": "stdout",
       "text": [
        "\n",
        "  2537  |    0.003606  |    0.007562  |     0.476821  |             |  4.4s"
       ]
      },
      {
       "output_type": "stream",
       "stream": "stdout",
       "text": [
        "\n",
        "  2538  |    0.003580  |    0.007581  |     0.472273  |             |  4.4s"
       ]
      },
      {
       "output_type": "stream",
       "stream": "stdout",
       "text": [
        "\n",
        "  2539  |    0.003601  |    0.007578  |     0.475256  |             |  4.4s"
       ]
      },
      {
       "output_type": "stream",
       "stream": "stdout",
       "text": [
        "\n",
        "  2540  |    0.003603  |    0.007553  |     0.476993  |             |  4.4s"
       ]
      },
      {
       "output_type": "stream",
       "stream": "stdout",
       "text": [
        "\n",
        "  2541  |  \u001b[94m  0.003551\u001b[0m  |    0.007550  |     0.470300  |             |  4.4s"
       ]
      },
      {
       "output_type": "stream",
       "stream": "stdout",
       "text": [
        "\n",
        "  2542  |  \u001b[94m  0.003535\u001b[0m  |    0.007559  |     0.467669  |             |  4.4s"
       ]
      },
      {
       "output_type": "stream",
       "stream": "stdout",
       "text": [
        "\n",
        "  2543  |    0.003674  |    0.007566  |     0.485624  |             |  4.4s"
       ]
      },
      {
       "output_type": "stream",
       "stream": "stdout",
       "text": [
        "\n",
        "  2544  |    0.003586  |    0.007578  |     0.473206  |             |  4.4s"
       ]
      },
      {
       "output_type": "stream",
       "stream": "stdout",
       "text": [
        "\n",
        "  2545  |    0.003608  |    0.007557  |     0.477484  |             |  4.4s"
       ]
      },
      {
       "output_type": "stream",
       "stream": "stdout",
       "text": [
        "\n",
        "  2546  |    0.003603  |    0.007549  |     0.477352  |             |  4.4s"
       ]
      },
      {
       "output_type": "stream",
       "stream": "stdout",
       "text": [
        "\n",
        "  2547  |    0.003672  |    0.007559  |     0.485819  |             |  4.4s"
       ]
      },
      {
       "output_type": "stream",
       "stream": "stdout",
       "text": [
        "\n",
        "  2548  |    0.003622  |    0.007564  |     0.478814  |             |  4.4s"
       ]
      },
      {
       "output_type": "stream",
       "stream": "stdout",
       "text": [
        "\n",
        "  2549  |    0.003614  |    0.007563  |     0.477784  |             |  4.4s"
       ]
      },
      {
       "output_type": "stream",
       "stream": "stdout",
       "text": [
        "\n",
        "  2550  |    0.003664  |    0.007554  |     0.485015  |             |  4.4s"
       ]
      },
      {
       "output_type": "stream",
       "stream": "stdout",
       "text": [
        "\n",
        "  2551  |    0.003593  |    0.007544  |     0.476316  |             |  4.4s"
       ]
      },
      {
       "output_type": "stream",
       "stream": "stdout",
       "text": [
        "\n",
        "  2552  |    0.003629  |    0.007553  |     0.480451  |             |  4.4s"
       ]
      },
      {
       "output_type": "stream",
       "stream": "stdout",
       "text": [
        "\n",
        "  2553  |    0.003559  |    0.007559  |     0.470802  |             |  4.4s"
       ]
      },
      {
       "output_type": "stream",
       "stream": "stdout",
       "text": [
        "\n",
        "  2554  |    0.003580  |    0.007565  |     0.473157  |             |  4.4s"
       ]
      },
      {
       "output_type": "stream",
       "stream": "stdout",
       "text": [
        "\n",
        "  2555  |    0.003557  |    0.007562  |     0.470327  |             |  4.4s"
       ]
      },
      {
       "output_type": "stream",
       "stream": "stdout",
       "text": [
        "\n",
        "  2556  |    0.003585  |    0.007545  |     0.475154  |             |  4.4s"
       ]
      },
      {
       "output_type": "stream",
       "stream": "stdout",
       "text": [
        "\n",
        "  2557  |    0.003643  |    0.007532  |     0.483680  |             |  4.4s"
       ]
      },
      {
       "output_type": "stream",
       "stream": "stdout",
       "text": [
        "\n",
        "  2558  |    0.003589  |    0.007547  |     0.475541  |             |  4.4s"
       ]
      },
      {
       "output_type": "stream",
       "stream": "stdout",
       "text": [
        "\n",
        "  2559  |    0.003617  |    0.007544  |     0.479464  |             |  4.4s"
       ]
      },
      {
       "output_type": "stream",
       "stream": "stdout",
       "text": [
        "\n",
        "  2560  |    0.003535  |    0.007549  |     0.468363  |             |  4.4s"
       ]
      },
      {
       "output_type": "stream",
       "stream": "stdout",
       "text": [
        "\n",
        "  2561  |    0.003617  |    0.007549  |     0.479142  |             |  4.4s"
       ]
      },
      {
       "output_type": "stream",
       "stream": "stdout",
       "text": [
        "\n",
        "  2562  |    0.003576  |    0.007547  |     0.473807  |             |  4.4s"
       ]
      },
      {
       "output_type": "stream",
       "stream": "stdout",
       "text": [
        "\n",
        "  2563  |    0.003649  |    0.007542  |     0.483813  |             |  4.4s"
       ]
      },
      {
       "output_type": "stream",
       "stream": "stdout",
       "text": [
        "\n",
        "  2564  |  \u001b[94m  0.003503\u001b[0m  |    0.007540  |     0.464608  |             |  4.4s"
       ]
      },
      {
       "output_type": "stream",
       "stream": "stdout",
       "text": [
        "\n",
        "  2565  |    0.003610  |    0.007544  |     0.478507  |             |  4.4s"
       ]
      },
      {
       "output_type": "stream",
       "stream": "stdout",
       "text": [
        "\n",
        "  2566  |    0.003609  |    0.007540  |     0.478625  |             |  4.4s"
       ]
      },
      {
       "output_type": "stream",
       "stream": "stdout",
       "text": [
        "\n",
        "  2567  |    0.003638  |    0.007546  |     0.482106  |             |  4.4s"
       ]
      },
      {
       "output_type": "stream",
       "stream": "stdout",
       "text": [
        "\n",
        "  2568  |    0.003552  |    0.007522  |     0.472170  |             |  4.4s"
       ]
      },
      {
       "output_type": "stream",
       "stream": "stdout",
       "text": [
        "\n",
        "  2569  |    0.003580  |    0.007550  |     0.474182  |             |  4.4s"
       ]
      },
      {
       "output_type": "stream",
       "stream": "stdout",
       "text": [
        "\n",
        "  2570  |    0.003647  |    0.007532  |     0.484225  |             |  4.4s"
       ]
      },
      {
       "output_type": "stream",
       "stream": "stdout",
       "text": [
        "\n",
        "  2571  |    0.003576  |    0.007543  |     0.474117  |             |  4.4s"
       ]
      },
      {
       "output_type": "stream",
       "stream": "stdout",
       "text": [
        "\n",
        "  2572  |    0.003607  |    0.007535  |     0.478785  |             |  4.4s"
       ]
      },
      {
       "output_type": "stream",
       "stream": "stdout",
       "text": [
        "\n",
        "  2573  |    0.003530  |    0.007537  |     0.468360  |             |  4.4s"
       ]
      },
      {
       "output_type": "stream",
       "stream": "stdout",
       "text": [
        "\n",
        "  2574  |    0.003621  |    0.007546  |     0.479866  |             |  4.4s"
       ]
      },
      {
       "output_type": "stream",
       "stream": "stdout",
       "text": [
        "\n",
        "  2575  |    0.003632  |    0.007567  |     0.479992  |             |  4.4s"
       ]
      },
      {
       "output_type": "stream",
       "stream": "stdout",
       "text": [
        "\n",
        "  2576  |    0.003532  |    0.007564  |     0.466942  |             |  4.4s"
       ]
      },
      {
       "output_type": "stream",
       "stream": "stdout",
       "text": [
        "\n",
        "  2577  |    0.003629  |    0.007543  |     0.481165  |             |  4.4s"
       ]
      },
      {
       "output_type": "stream",
       "stream": "stdout",
       "text": [
        "\n",
        "  2578  |    0.003527  |    0.007550  |     0.467085  |             |  4.4s"
       ]
      },
      {
       "output_type": "stream",
       "stream": "stdout",
       "text": [
        "\n",
        "  2579  |    0.003587  |    0.007538  |     0.475814  |             |  4.4s"
       ]
      },
      {
       "output_type": "stream",
       "stream": "stdout",
       "text": [
        "\n",
        "  2580  |    0.003618  |    0.007547  |     0.479433  |             |  4.4s"
       ]
      },
      {
       "output_type": "stream",
       "stream": "stdout",
       "text": [
        "\n",
        "  2581  |    0.003567  |    0.007579  |     0.470623  |             |  4.4s"
       ]
      },
      {
       "output_type": "stream",
       "stream": "stdout",
       "text": [
        "\n",
        "  2582  |    0.003541  |    0.007557  |     0.468569  |             |  4.4s"
       ]
      },
      {
       "output_type": "stream",
       "stream": "stdout",
       "text": [
        "\n",
        "  2583  |    0.003541  |    0.007534  |     0.469952  |             |  4.4s"
       ]
      },
      {
       "output_type": "stream",
       "stream": "stdout",
       "text": [
        "\n",
        "  2584  |    0.003606  |    0.007537  |     0.478393  |             |  4.4s"
       ]
      },
      {
       "output_type": "stream",
       "stream": "stdout",
       "text": [
        "\n",
        "  2585  |    0.003537  |    0.007538  |     0.469215  |             |  4.4s"
       ]
      },
      {
       "output_type": "stream",
       "stream": "stdout",
       "text": [
        "\n",
        "  2586  |    0.003521  |    0.007542  |     0.466905  |             |  4.4s"
       ]
      },
      {
       "output_type": "stream",
       "stream": "stdout",
       "text": [
        "\n",
        "  2587  |    0.003510  |    0.007550  |     0.464914  |             |  4.4s"
       ]
      },
      {
       "output_type": "stream",
       "stream": "stdout",
       "text": [
        "\n",
        "  2588  |    0.003526  |    0.007571  |     0.465733  |             |  4.4s"
       ]
      },
      {
       "output_type": "stream",
       "stream": "stdout",
       "text": [
        "\n",
        "  2589  |    0.003561  |    0.007539  |     0.472314  |             |  4.4s"
       ]
      },
      {
       "output_type": "stream",
       "stream": "stdout",
       "text": [
        "\n",
        "  2590  |    0.003507  |    0.007548  |     0.464574  |             |  4.4s"
       ]
      },
      {
       "output_type": "stream",
       "stream": "stdout",
       "text": [
        "\n",
        "  2591  |    0.003511  |    0.007553  |     0.464797  |             |  4.4s"
       ]
      },
      {
       "output_type": "stream",
       "stream": "stdout",
       "text": [
        "\n",
        "  2592  |    0.003525  |    0.007547  |     0.467132  |             |  4.4s"
       ]
      },
      {
       "output_type": "stream",
       "stream": "stdout",
       "text": [
        "\n",
        "  2593  |    0.003533  |    0.007560  |     0.467278  |             |  4.4s"
       ]
      },
      {
       "output_type": "stream",
       "stream": "stdout",
       "text": [
        "\n",
        "  2594  |    0.003509  |    0.007549  |     0.464892  |             |  4.4s"
       ]
      },
      {
       "output_type": "stream",
       "stream": "stdout",
       "text": [
        "\n",
        "  2595  |    0.003541  |    0.007557  |     0.468636  |             |  4.4s"
       ]
      },
      {
       "output_type": "stream",
       "stream": "stdout",
       "text": [
        "\n",
        "  2596  |    0.003507  |    0.007555  |     0.464179  |             |  4.4s"
       ]
      },
      {
       "output_type": "stream",
       "stream": "stdout",
       "text": [
        "\n",
        "  2597  |    0.003557  |    0.007546  |     0.471315  |             |  4.4s"
       ]
      },
      {
       "output_type": "stream",
       "stream": "stdout",
       "text": [
        "\n",
        "  2598  |    0.003551  |    0.007564  |     0.469462  |             |  4.4s"
       ]
      },
      {
       "output_type": "stream",
       "stream": "stdout",
       "text": [
        "\n",
        "  2599  |    0.003554  |    0.007538  |     0.471493  |             |  4.4s"
       ]
      },
      {
       "output_type": "stream",
       "stream": "stdout",
       "text": [
        "\n",
        "  2600  |    0.003558  |    0.007531  |     0.472390  |             |  4.4s"
       ]
      },
      {
       "output_type": "stream",
       "stream": "stdout",
       "text": [
        "\n",
        "  2601  |    0.003523  |    0.007540  |     0.467267  |             |  4.4s"
       ]
      },
      {
       "output_type": "stream",
       "stream": "stdout",
       "text": [
        "\n",
        "  2602  |  \u001b[94m  0.003499\u001b[0m  |    0.007531  |     0.464562  |             |  4.4s"
       ]
      },
      {
       "output_type": "stream",
       "stream": "stdout",
       "text": [
        "\n",
        "  2603  |    0.003570  |    0.007541  |     0.473391  |             |  4.4s"
       ]
      },
      {
       "output_type": "stream",
       "stream": "stdout",
       "text": [
        "\n",
        "  2604  |  \u001b[94m  0.003442\u001b[0m  |    0.007544  |     0.456192  |             |  4.4s"
       ]
      },
      {
       "output_type": "stream",
       "stream": "stdout",
       "text": [
        "\n",
        "  2605  |    0.003446  |    0.007529  |     0.457650  |             |  4.4s"
       ]
      },
      {
       "output_type": "stream",
       "stream": "stdout",
       "text": [
        "\n",
        "  2606  |    0.003481  |    0.007531  |     0.462291  |             |  4.4s"
       ]
      },
      {
       "output_type": "stream",
       "stream": "stdout",
       "text": [
        "\n",
        "  2607  |    0.003528  |    0.007538  |     0.468035  |             |  4.4s"
       ]
      },
      {
       "output_type": "stream",
       "stream": "stdout",
       "text": [
        "\n",
        "  2608  |    0.003501  |    0.007533  |     0.464749  |             |  4.4s"
       ]
      },
      {
       "output_type": "stream",
       "stream": "stdout",
       "text": [
        "\n",
        "  2609  |    0.003467  |    0.007526  |     0.460743  |             |  4.4s"
       ]
      },
      {
       "output_type": "stream",
       "stream": "stdout",
       "text": [
        "\n",
        "  2610  |  \u001b[94m  0.003427\u001b[0m  |    0.007520  |     0.455736  |             |  4.4s"
       ]
      },
      {
       "output_type": "stream",
       "stream": "stdout",
       "text": [
        "\n",
        "  2611  |    0.003495  |    0.007545  |     0.463210  |             |  4.4s"
       ]
      },
      {
       "output_type": "stream",
       "stream": "stdout",
       "text": [
        "\n",
        "  2612  |    0.003464  |    0.007551  |     0.458712  |             |  4.4s"
       ]
      },
      {
       "output_type": "stream",
       "stream": "stdout",
       "text": [
        "\n",
        "  2613  |    0.003513  |    0.007523  |     0.466997  |             |  4.4s"
       ]
      },
      {
       "output_type": "stream",
       "stream": "stdout",
       "text": [
        "\n",
        "  2614  |    0.003438  |  \u001b[32m  0.007516\u001b[0m  |     0.457451  |             |  4.4s"
       ]
      },
      {
       "output_type": "stream",
       "stream": "stdout",
       "text": [
        "\n",
        "  2615  |    0.003473  |    0.007548  |     0.460134  |             |  4.4s"
       ]
      },
      {
       "output_type": "stream",
       "stream": "stdout",
       "text": [
        "\n",
        "  2616  |    0.003490  |    0.007558  |     0.461805  |             |  4.4s"
       ]
      },
      {
       "output_type": "stream",
       "stream": "stdout",
       "text": [
        "\n",
        "  2617  |    0.003564  |    0.007537  |     0.472933  |             |  4.4s"
       ]
      },
      {
       "output_type": "stream",
       "stream": "stdout",
       "text": [
        "\n",
        "  2618  |    0.003496  |    0.007525  |     0.464605  |             |  4.4s"
       ]
      },
      {
       "output_type": "stream",
       "stream": "stdout",
       "text": [
        "\n",
        "  2619  |    0.003535  |    0.007554  |     0.468007  |             |  4.4s"
       ]
      },
      {
       "output_type": "stream",
       "stream": "stdout",
       "text": [
        "\n",
        "  2620  |    0.003518  |    0.007545  |     0.466338  |             |  4.4s"
       ]
      },
      {
       "output_type": "stream",
       "stream": "stdout",
       "text": [
        "\n",
        "  2621  |    0.003474  |    0.007524  |     0.461727  |             |  4.4s"
       ]
      },
      {
       "output_type": "stream",
       "stream": "stdout",
       "text": [
        "\n",
        "  2622  |    0.003430  |    0.007541  |     0.454824  |             |  4.4s"
       ]
      },
      {
       "output_type": "stream",
       "stream": "stdout",
       "text": [
        "\n",
        "  2623  |    0.003473  |    0.007537  |     0.460865  |             |  4.4s"
       ]
      },
      {
       "output_type": "stream",
       "stream": "stdout",
       "text": [
        "\n",
        "  2624  |    0.003525  |    0.007552  |     0.466751  |             |  4.4s"
       ]
      },
      {
       "output_type": "stream",
       "stream": "stdout",
       "text": [
        "\n",
        "  2625  |  \u001b[94m  0.003396\u001b[0m  |    0.007549  |     0.449832  |             |  4.4s"
       ]
      },
      {
       "output_type": "stream",
       "stream": "stdout",
       "text": [
        "\n",
        "  2626  |  \u001b[94m  0.003390\u001b[0m  |    0.007524  |     0.450505  |             |  4.4s"
       ]
      },
      {
       "output_type": "stream",
       "stream": "stdout",
       "text": [
        "\n",
        "  2627  |    0.003512  |    0.007523  |     0.466830  |             |  4.4s"
       ]
      },
      {
       "output_type": "stream",
       "stream": "stdout",
       "text": [
        "\n",
        "  2628  |    0.003496  |    0.007557  |     0.462603  |             |  4.4s"
       ]
      },
      {
       "output_type": "stream",
       "stream": "stdout",
       "text": [
        "\n",
        "  2629  |    0.003486  |    0.007553  |     0.461522  |             |  4.4s"
       ]
      },
      {
       "output_type": "stream",
       "stream": "stdout",
       "text": [
        "\n",
        "  2630  |    0.003544  |    0.007550  |     0.469326  |             |  4.4s"
       ]
      },
      {
       "output_type": "stream",
       "stream": "stdout",
       "text": [
        "\n",
        "  2631  |    0.003512  |    0.007554  |     0.464832  |             |  4.4s"
       ]
      },
      {
       "output_type": "stream",
       "stream": "stdout",
       "text": [
        "\n",
        "  2632  |    0.003526  |    0.007547  |     0.467218  |             |  4.4s"
       ]
      },
      {
       "output_type": "stream",
       "stream": "stdout",
       "text": [
        "\n",
        "  2633  |    0.003495  |    0.007531  |     0.464117  |             |  4.4s"
       ]
      },
      {
       "output_type": "stream",
       "stream": "stdout",
       "text": [
        "\n",
        "  2634  |    0.003438  |    0.007524  |     0.456912  |             |  4.4s"
       ]
      },
      {
       "output_type": "stream",
       "stream": "stdout",
       "text": [
        "\n",
        "  2635  |    0.003474  |    0.007540  |     0.460798  |             |  4.4s"
       ]
      },
      {
       "output_type": "stream",
       "stream": "stdout",
       "text": [
        "\n",
        "  2636  |  \u001b[94m  0.003383\u001b[0m  |    0.007546  |     0.448248  |             |  4.4s"
       ]
      },
      {
       "output_type": "stream",
       "stream": "stdout",
       "text": [
        "\n",
        "  2637  |    0.003472  |    0.007552  |     0.459715  |             |  4.4s"
       ]
      },
      {
       "output_type": "stream",
       "stream": "stdout",
       "text": [
        "\n",
        "  2638  |    0.003431  |    0.007540  |     0.455085  |             |  4.4s"
       ]
      },
      {
       "output_type": "stream",
       "stream": "stdout",
       "text": [
        "\n",
        "  2639  |    0.003405  |    0.007532  |     0.452108  |             |  4.4s"
       ]
      },
      {
       "output_type": "stream",
       "stream": "stdout",
       "text": [
        "\n",
        "  2640  |    0.003471  |    0.007547  |     0.459908  |             |  4.4s"
       ]
      },
      {
       "output_type": "stream",
       "stream": "stdout",
       "text": [
        "\n",
        "  2641  |    0.003539  |    0.007552  |     0.468680  |             |  4.4s"
       ]
      },
      {
       "output_type": "stream",
       "stream": "stdout",
       "text": [
        "\n",
        "  2642  |    0.003485  |    0.007557  |     0.461176  |             |  4.4s"
       ]
      },
      {
       "output_type": "stream",
       "stream": "stdout",
       "text": [
        "\n",
        "  2643  |    0.003420  |    0.007538  |     0.453682  |             |  4.4s"
       ]
      },
      {
       "output_type": "stream",
       "stream": "stdout",
       "text": [
        "\n",
        "  2644  |    0.003446  |    0.007521  |     0.458203  |             |  4.4s"
       ]
      },
      {
       "output_type": "stream",
       "stream": "stdout",
       "text": [
        "\n",
        "  2645  |    0.003421  |    0.007526  |     0.454499  |             |  4.4s"
       ]
      },
      {
       "output_type": "stream",
       "stream": "stdout",
       "text": [
        "\n",
        "  2646  |    0.003493  |    0.007541  |     0.463166  |             |  4.4s"
       ]
      },
      {
       "output_type": "stream",
       "stream": "stdout",
       "text": [
        "\n",
        "  2647  |    0.003434  |    0.007527  |     0.456276  |             |  4.4s"
       ]
      },
      {
       "output_type": "stream",
       "stream": "stdout",
       "text": [
        "\n",
        "  2648  |  \u001b[94m  0.003382\u001b[0m  |    0.007523  |     0.449597  |             |  4.4s"
       ]
      },
      {
       "output_type": "stream",
       "stream": "stdout",
       "text": [
        "\n",
        "  2649  |    0.003470  |  \u001b[32m  0.007512\u001b[0m  |     0.461975  |             |  4.4s"
       ]
      },
      {
       "output_type": "stream",
       "stream": "stdout",
       "text": [
        "\n",
        "  2650  |    0.003439  |    0.007526  |     0.456951  |             |  4.4s"
       ]
      },
      {
       "output_type": "stream",
       "stream": "stdout",
       "text": [
        "\n",
        "  2651  |  \u001b[94m  0.003362\u001b[0m  |    0.007546  |     0.445533  |             |  4.4s"
       ]
      },
      {
       "output_type": "stream",
       "stream": "stdout",
       "text": [
        "\n",
        "  2652  |    0.003396  |    0.007537  |     0.450586  |             |  4.4s"
       ]
      },
      {
       "output_type": "stream",
       "stream": "stdout",
       "text": [
        "\n",
        "  2653  |    0.003402  |  \u001b[32m  0.007509\u001b[0m  |     0.452986  |             |  4.4s"
       ]
      },
      {
       "output_type": "stream",
       "stream": "stdout",
       "text": [
        "\n",
        "  2654  |    0.003502  |    0.007524  |     0.465428  |             |  4.4s"
       ]
      },
      {
       "output_type": "stream",
       "stream": "stdout",
       "text": [
        "\n",
        "  2655  |    0.003419  |    0.007542  |     0.453329  |             |  4.4s"
       ]
      },
      {
       "output_type": "stream",
       "stream": "stdout",
       "text": [
        "\n",
        "  2656  |    0.003483  |    0.007517  |     0.463354  |             |  4.4s"
       ]
      },
      {
       "output_type": "stream",
       "stream": "stdout",
       "text": [
        "\n",
        "  2657  |    0.003489  |    0.007524  |     0.463648  |             |  4.4s"
       ]
      },
      {
       "output_type": "stream",
       "stream": "stdout",
       "text": [
        "\n",
        "  2658  |    0.003463  |    0.007524  |     0.460187  |             |  4.4s"
       ]
      },
      {
       "output_type": "stream",
       "stream": "stdout",
       "text": [
        "\n",
        "  2659  |    0.003430  |    0.007534  |     0.455206  |             |  4.4s"
       ]
      },
      {
       "output_type": "stream",
       "stream": "stdout",
       "text": [
        "\n",
        "  2660  |    0.003411  |    0.007513  |     0.453950  |             |  4.4s"
       ]
      },
      {
       "output_type": "stream",
       "stream": "stdout",
       "text": [
        "\n",
        "  2661  |    0.003475  |    0.007521  |     0.462104  |             |  4.4s"
       ]
      },
      {
       "output_type": "stream",
       "stream": "stdout",
       "text": [
        "\n",
        "  2662  |    0.003395  |    0.007551  |     0.449572  |             |  4.4s"
       ]
      },
      {
       "output_type": "stream",
       "stream": "stdout",
       "text": [
        "\n",
        "  2663  |    0.003490  |    0.007532  |     0.463329  |             |  4.4s"
       ]
      },
      {
       "output_type": "stream",
       "stream": "stdout",
       "text": [
        "\n",
        "  2664  |    0.003372  |    0.007524  |     0.448161  |             |  4.4s"
       ]
      },
      {
       "output_type": "stream",
       "stream": "stdout",
       "text": [
        "\n",
        "  2665  |    0.003410  |    0.007545  |     0.451951  |             |  4.4s"
       ]
      },
      {
       "output_type": "stream",
       "stream": "stdout",
       "text": [
        "\n",
        "  2666  |  \u001b[94m  0.003334\u001b[0m  |    0.007556  |     0.441213  |             |  4.4s"
       ]
      },
      {
       "output_type": "stream",
       "stream": "stdout",
       "text": [
        "\n",
        "  2667  |    0.003426  |    0.007537  |     0.454569  |             |  4.4s"
       ]
      },
      {
       "output_type": "stream",
       "stream": "stdout",
       "text": [
        "\n",
        "  2668  |    0.003446  |    0.007538  |     0.457141  |             |  4.4s"
       ]
      },
      {
       "output_type": "stream",
       "stream": "stdout",
       "text": [
        "\n",
        "  2669  |    0.003427  |    0.007542  |     0.454448  |             |  4.4s"
       ]
      },
      {
       "output_type": "stream",
       "stream": "stdout",
       "text": [
        "\n",
        "  2670  |    0.003375  |    0.007538  |     0.447736  |             |  4.4s"
       ]
      },
      {
       "output_type": "stream",
       "stream": "stdout",
       "text": [
        "\n",
        "  2671  |    0.003463  |    0.007540  |     0.459272  |             |  4.4s"
       ]
      },
      {
       "output_type": "stream",
       "stream": "stdout",
       "text": [
        "\n",
        "  2672  |    0.003472  |    0.007538  |     0.460545  |             |  4.4s"
       ]
      },
      {
       "output_type": "stream",
       "stream": "stdout",
       "text": [
        "\n",
        "  2673  |    0.003395  |    0.007541  |     0.450205  |             |  4.4s"
       ]
      },
      {
       "output_type": "stream",
       "stream": "stdout",
       "text": [
        "\n",
        "  2674  |    0.003492  |    0.007534  |     0.463526  |             |  4.4s"
       ]
      },
      {
       "output_type": "stream",
       "stream": "stdout",
       "text": [
        "\n",
        "  2675  |  \u001b[94m  0.003314\u001b[0m  |    0.007513  |     0.441183  |             |  4.4s"
       ]
      },
      {
       "output_type": "stream",
       "stream": "stdout",
       "text": [
        "\n",
        "  2676  |    0.003420  |    0.007520  |     0.454815  |             |  4.4s"
       ]
      },
      {
       "output_type": "stream",
       "stream": "stdout",
       "text": [
        "\n",
        "  2677  |    0.003434  |    0.007528  |     0.456222  |             |  4.4s"
       ]
      },
      {
       "output_type": "stream",
       "stream": "stdout",
       "text": [
        "\n",
        "  2678  |    0.003400  |    0.007525  |     0.451850  |             |  4.4s"
       ]
      },
      {
       "output_type": "stream",
       "stream": "stdout",
       "text": [
        "\n",
        "  2679  |    0.003347  |    0.007528  |     0.444672  |             |  4.4s"
       ]
      },
      {
       "output_type": "stream",
       "stream": "stdout",
       "text": [
        "\n",
        "  2680  |    0.003373  |    0.007535  |     0.447704  |             |  4.4s"
       ]
      },
      {
       "output_type": "stream",
       "stream": "stdout",
       "text": [
        "\n",
        "  2681  |    0.003383  |    0.007536  |     0.448969  |             |  4.4s"
       ]
      },
      {
       "output_type": "stream",
       "stream": "stdout",
       "text": [
        "\n",
        "  2682  |    0.003417  |    0.007540  |     0.453175  |             |  4.4s"
       ]
      },
      {
       "output_type": "stream",
       "stream": "stdout",
       "text": [
        "\n",
        "  2683  |    0.003360  |    0.007548  |     0.445109  |             |  4.4s"
       ]
      },
      {
       "output_type": "stream",
       "stream": "stdout",
       "text": [
        "\n",
        "  2684  |    0.003454  |    0.007550  |     0.457443  |             |  4.4s"
       ]
      },
      {
       "output_type": "stream",
       "stream": "stdout",
       "text": [
        "\n",
        "  2685  |    0.003390  |    0.007559  |     0.448467  |             |  4.4s"
       ]
      },
      {
       "output_type": "stream",
       "stream": "stdout",
       "text": [
        "\n",
        "  2686  |    0.003455  |    0.007536  |     0.458478  |             |  4.4s"
       ]
      },
      {
       "output_type": "stream",
       "stream": "stdout",
       "text": [
        "\n",
        "  2687  |    0.003419  |    0.007517  |     0.454877  |             |  4.4s"
       ]
      },
      {
       "output_type": "stream",
       "stream": "stdout",
       "text": [
        "\n",
        "  2688  |    0.003450  |    0.007554  |     0.456695  |             |  4.4s"
       ]
      },
      {
       "output_type": "stream",
       "stream": "stdout",
       "text": [
        "\n",
        "  2689  |    0.003456  |    0.007540  |     0.458385  |             |  4.4s"
       ]
      },
      {
       "output_type": "stream",
       "stream": "stdout",
       "text": [
        "\n",
        "  2690  |    0.003373  |    0.007534  |     0.447776  |             |  4.4s"
       ]
      },
      {
       "output_type": "stream",
       "stream": "stdout",
       "text": [
        "\n",
        "  2691  |    0.003421  |    0.007543  |     0.453453  |             |  4.4s"
       ]
      },
      {
       "output_type": "stream",
       "stream": "stdout",
       "text": [
        "\n",
        "  2692  |    0.003375  |    0.007535  |     0.447906  |             |  4.4s"
       ]
      },
      {
       "output_type": "stream",
       "stream": "stdout",
       "text": [
        "\n",
        "  2693  |    0.003364  |    0.007535  |     0.446459  |             |  4.4s"
       ]
      },
      {
       "output_type": "stream",
       "stream": "stdout",
       "text": [
        "\n",
        "  2694  |    0.003366  |    0.007568  |     0.444820  |             |  4.4s"
       ]
      },
      {
       "output_type": "stream",
       "stream": "stdout",
       "text": [
        "\n",
        "  2695  |    0.003348  |    0.007549  |     0.443567  |             |  4.4s"
       ]
      },
      {
       "output_type": "stream",
       "stream": "stdout",
       "text": [
        "\n",
        "  2696  |    0.003375  |    0.007513  |     0.449175  |             |  4.4s"
       ]
      },
      {
       "output_type": "stream",
       "stream": "stdout",
       "text": [
        "\n",
        "  2697  |    0.003414  |    0.007531  |     0.453348  |             |  4.4s"
       ]
      },
      {
       "output_type": "stream",
       "stream": "stdout",
       "text": [
        "\n",
        "  2698  |    0.003436  |    0.007536  |     0.455906  |             |  4.4s"
       ]
      },
      {
       "output_type": "stream",
       "stream": "stdout",
       "text": [
        "\n",
        "  2699  |    0.003394  |    0.007541  |     0.450106  |             |  4.4s"
       ]
      },
      {
       "output_type": "stream",
       "stream": "stdout",
       "text": [
        "\n",
        "  2700  |    0.003430  |    0.007531  |     0.455465  |             |  4.4s"
       ]
      },
      {
       "output_type": "stream",
       "stream": "stdout",
       "text": [
        "\n",
        "  2701  |    0.003347  |    0.007517  |     0.445259  |             |  4.4s"
       ]
      },
      {
       "output_type": "stream",
       "stream": "stdout",
       "text": [
        "\n",
        "  2702  |    0.003468  |    0.007527  |     0.460750  |             |  4.4s"
       ]
      },
      {
       "output_type": "stream",
       "stream": "stdout",
       "text": [
        "\n",
        "  2703  |    0.003412  |  \u001b[32m  0.007508\u001b[0m  |     0.454485  |             |  4.4s"
       ]
      },
      {
       "output_type": "stream",
       "stream": "stdout",
       "text": [
        "\n",
        "  2704  |    0.003322  |    0.007519  |     0.441826  |             |  4.4s"
       ]
      },
      {
       "output_type": "stream",
       "stream": "stdout",
       "text": [
        "\n",
        "  2705  |    0.003324  |    0.007539  |     0.440908  |             |  4.4s"
       ]
      },
      {
       "output_type": "stream",
       "stream": "stdout",
       "text": [
        "\n",
        "  2706  |  \u001b[94m  0.003310\u001b[0m  |    0.007525  |     0.439916  |             |  4.4s"
       ]
      },
      {
       "output_type": "stream",
       "stream": "stdout",
       "text": [
        "\n",
        "  2707  |    0.003373  |    0.007514  |     0.448856  |             |  4.4s"
       ]
      },
      {
       "output_type": "stream",
       "stream": "stdout",
       "text": [
        "\n",
        "  2708  |    0.003360  |    0.007525  |     0.446416  |             |  4.4s"
       ]
      },
      {
       "output_type": "stream",
       "stream": "stdout",
       "text": [
        "\n",
        "  2709  |    0.003409  |    0.007536  |     0.452320  |             |  4.4s"
       ]
      },
      {
       "output_type": "stream",
       "stream": "stdout",
       "text": [
        "\n",
        "  2710  |    0.003381  |    0.007527  |     0.449213  |             |  4.4s"
       ]
      },
      {
       "output_type": "stream",
       "stream": "stdout",
       "text": [
        "\n",
        "  2711  |    0.003374  |    0.007525  |     0.448389  |             |  4.4s"
       ]
      },
      {
       "output_type": "stream",
       "stream": "stdout",
       "text": [
        "\n",
        "  2712  |    0.003317  |    0.007540  |     0.439945  |             |  4.4s"
       ]
      },
      {
       "output_type": "stream",
       "stream": "stdout",
       "text": [
        "\n",
        "  2713  |    0.003324  |    0.007546  |     0.440551  |             |  4.4s"
       ]
      },
      {
       "output_type": "stream",
       "stream": "stdout",
       "text": [
        "\n",
        "  2714  |    0.003411  |  \u001b[32m  0.007505\u001b[0m  |     0.454496  |             |  4.4s"
       ]
      },
      {
       "output_type": "stream",
       "stream": "stdout",
       "text": [
        "\n",
        "  2715  |    0.003371  |    0.007524  |     0.448053  |             |  4.4s"
       ]
      },
      {
       "output_type": "stream",
       "stream": "stdout",
       "text": [
        "\n",
        "  2716  |    0.003370  |    0.007525  |     0.447927  |             |  4.4s"
       ]
      },
      {
       "output_type": "stream",
       "stream": "stdout",
       "text": [
        "\n",
        "  2717  |    0.003408  |    0.007537  |     0.452160  |             |  4.4s"
       ]
      },
      {
       "output_type": "stream",
       "stream": "stdout",
       "text": [
        "\n",
        "  2718  |  \u001b[94m  0.003280\u001b[0m  |    0.007534  |     0.435274  |             |  4.4s"
       ]
      },
      {
       "output_type": "stream",
       "stream": "stdout",
       "text": [
        "\n",
        "  2719  |    0.003368  |    0.007533  |     0.447071  |             |  4.4s"
       ]
      },
      {
       "output_type": "stream",
       "stream": "stdout",
       "text": [
        "\n",
        "  2720  |    0.003427  |    0.007526  |     0.455312  |             |  4.4s"
       ]
      },
      {
       "output_type": "stream",
       "stream": "stdout",
       "text": [
        "\n",
        "  2721  |    0.003354  |    0.007540  |     0.444852  |             |  4.4s"
       ]
      },
      {
       "output_type": "stream",
       "stream": "stdout",
       "text": [
        "\n",
        "  2722  |    0.003310  |    0.007549  |     0.438473  |             |  4.4s"
       ]
      },
      {
       "output_type": "stream",
       "stream": "stdout",
       "text": [
        "\n",
        "  2723  |    0.003409  |    0.007537  |     0.452336  |             |  4.4s"
       ]
      },
      {
       "output_type": "stream",
       "stream": "stdout",
       "text": [
        "\n",
        "  2724  |    0.003322  |    0.007520  |     0.441708  |             |  4.4s"
       ]
      },
      {
       "output_type": "stream",
       "stream": "stdout",
       "text": [
        "\n",
        "  2725  |    0.003418  |    0.007506  |     0.455416  |             |  4.4s"
       ]
      },
      {
       "output_type": "stream",
       "stream": "stdout",
       "text": [
        "\n",
        "  2726  |    0.003357  |    0.007532  |     0.445748  |             |  4.4s"
       ]
      },
      {
       "output_type": "stream",
       "stream": "stdout",
       "text": [
        "\n",
        "  2727  |    0.003322  |    0.007546  |     0.440315  |             |  4.4s"
       ]
      },
      {
       "output_type": "stream",
       "stream": "stdout",
       "text": [
        "\n",
        "  2728  |    0.003329  |    0.007534  |     0.441813  |             |  4.4s"
       ]
      },
      {
       "output_type": "stream",
       "stream": "stdout",
       "text": [
        "\n",
        "  2729  |    0.003328  |    0.007525  |     0.442198  |             |  4.4s"
       ]
      },
      {
       "output_type": "stream",
       "stream": "stdout",
       "text": [
        "\n",
        "  2730  |    0.003335  |    0.007527  |     0.443071  |             |  4.4s"
       ]
      },
      {
       "output_type": "stream",
       "stream": "stdout",
       "text": [
        "\n",
        "  2731  |    0.003285  |    0.007519  |     0.436896  |             |  4.4s"
       ]
      },
      {
       "output_type": "stream",
       "stream": "stdout",
       "text": [
        "\n",
        "  2732  |    0.003367  |    0.007525  |     0.447421  |             |  4.4s"
       ]
      },
      {
       "output_type": "stream",
       "stream": "stdout",
       "text": [
        "\n",
        "  2733  |    0.003380  |    0.007526  |     0.449150  |             |  4.4s"
       ]
      },
      {
       "output_type": "stream",
       "stream": "stdout",
       "text": [
        "\n",
        "  2734  |    0.003302  |    0.007526  |     0.438722  |             |  4.4s"
       ]
      },
      {
       "output_type": "stream",
       "stream": "stdout",
       "text": [
        "\n",
        "  2735  |    0.003357  |    0.007536  |     0.445434  |             |  4.4s"
       ]
      },
      {
       "output_type": "stream",
       "stream": "stdout",
       "text": [
        "\n",
        "  2736  |    0.003334  |    0.007532  |     0.442604  |             |  4.4s"
       ]
      },
      {
       "output_type": "stream",
       "stream": "stdout",
       "text": [
        "\n",
        "  2737  |  \u001b[94m  0.003241\u001b[0m  |    0.007514  |     0.431297  |             |  4.4s"
       ]
      },
      {
       "output_type": "stream",
       "stream": "stdout",
       "text": [
        "\n",
        "  2738  |    0.003361  |    0.007530  |     0.446375  |             |  4.4s"
       ]
      },
      {
       "output_type": "stream",
       "stream": "stdout",
       "text": [
        "\n",
        "  2739  |    0.003442  |    0.007531  |     0.457040  |             |  4.4s"
       ]
      },
      {
       "output_type": "stream",
       "stream": "stdout",
       "text": [
        "\n",
        "  2740  |    0.003283  |    0.007526  |     0.436226  |             |  4.4s"
       ]
      },
      {
       "output_type": "stream",
       "stream": "stdout",
       "text": [
        "\n",
        "  2741  |    0.003403  |    0.007511  |     0.453082  |             |  4.4s"
       ]
      },
      {
       "output_type": "stream",
       "stream": "stdout",
       "text": [
        "\n",
        "  2742  |    0.003316  |    0.007522  |     0.440802  |             |  4.4s"
       ]
      },
      {
       "output_type": "stream",
       "stream": "stdout",
       "text": [
        "\n",
        "  2743  |    0.003339  |  \u001b[32m  0.007501\u001b[0m  |     0.445147  |             |  4.4s"
       ]
      },
      {
       "output_type": "stream",
       "stream": "stdout",
       "text": [
        "\n",
        "  2744  |    0.003320  |  \u001b[32m  0.007497\u001b[0m  |     0.442900  |             |  4.4s"
       ]
      },
      {
       "output_type": "stream",
       "stream": "stdout",
       "text": [
        "\n",
        "  2745  |    0.003288  |    0.007517  |     0.437452  |             |  4.4s"
       ]
      },
      {
       "output_type": "stream",
       "stream": "stdout",
       "text": [
        "\n",
        "  2746  |    0.003288  |    0.007534  |     0.436389  |             |  4.4s"
       ]
      },
      {
       "output_type": "stream",
       "stream": "stdout",
       "text": [
        "\n",
        "  2747  |    0.003327  |    0.007535  |     0.441525  |             |  4.4s"
       ]
      },
      {
       "output_type": "stream",
       "stream": "stdout",
       "text": [
        "\n",
        "  2748  |    0.003326  |    0.007522  |     0.442252  |             |  4.4s"
       ]
      },
      {
       "output_type": "stream",
       "stream": "stdout",
       "text": [
        "\n",
        "  2749  |    0.003363  |    0.007523  |     0.447058  |             |  4.4s"
       ]
      },
      {
       "output_type": "stream",
       "stream": "stdout",
       "text": [
        "\n",
        "  2750  |    0.003336  |    0.007532  |     0.442925  |             |  4.4s"
       ]
      },
      {
       "output_type": "stream",
       "stream": "stdout",
       "text": [
        "\n",
        "  2751  |    0.003301  |    0.007546  |     0.437409  |             |  4.4s"
       ]
      },
      {
       "output_type": "stream",
       "stream": "stdout",
       "text": [
        "\n",
        "  2752  |    0.003303  |    0.007541  |     0.437995  |             |  4.4s"
       ]
      },
      {
       "output_type": "stream",
       "stream": "stdout",
       "text": [
        "\n",
        "  2753  |    0.003272  |    0.007519  |     0.435170  |             |  4.4s"
       ]
      },
      {
       "output_type": "stream",
       "stream": "stdout",
       "text": [
        "\n",
        "  2754  |    0.003393  |    0.007515  |     0.451495  |             |  4.4s"
       ]
      },
      {
       "output_type": "stream",
       "stream": "stdout",
       "text": [
        "\n",
        "  2755  |    0.003355  |    0.007534  |     0.445367  |             |  4.4s"
       ]
      },
      {
       "output_type": "stream",
       "stream": "stdout",
       "text": [
        "\n",
        "  2756  |    0.003316  |    0.007531  |     0.440311  |             |  4.4s"
       ]
      },
      {
       "output_type": "stream",
       "stream": "stdout",
       "text": [
        "\n",
        "  2757  |    0.003299  |    0.007531  |     0.438001  |             |  4.4s"
       ]
      },
      {
       "output_type": "stream",
       "stream": "stdout",
       "text": [
        "\n",
        "  2758  |    0.003288  |    0.007535  |     0.436428  |             |  4.4s"
       ]
      },
      {
       "output_type": "stream",
       "stream": "stdout",
       "text": [
        "\n",
        "  2759  |    0.003342  |    0.007519  |     0.444560  |             |  4.4s"
       ]
      },
      {
       "output_type": "stream",
       "stream": "stdout",
       "text": [
        "\n",
        "  2760  |    0.003373  |    0.007517  |     0.448698  |             |  4.4s"
       ]
      },
      {
       "output_type": "stream",
       "stream": "stdout",
       "text": [
        "\n",
        "  2761  |  \u001b[94m  0.003219\u001b[0m  |    0.007521  |     0.427965  |             |  4.4s"
       ]
      },
      {
       "output_type": "stream",
       "stream": "stdout",
       "text": [
        "\n",
        "  2762  |    0.003351  |    0.007527  |     0.445231  |             |  4.4s"
       ]
      },
      {
       "output_type": "stream",
       "stream": "stdout",
       "text": [
        "\n",
        "  2763  |    0.003354  |    0.007525  |     0.445622  |             |  4.4s"
       ]
      },
      {
       "output_type": "stream",
       "stream": "stdout",
       "text": [
        "\n",
        "  2764  |    0.003304  |    0.007520  |     0.439415  |             |  4.4s"
       ]
      },
      {
       "output_type": "stream",
       "stream": "stdout",
       "text": [
        "\n",
        "  2765  |    0.003260  |    0.007508  |     0.434238  |             |  4.4s"
       ]
      },
      {
       "output_type": "stream",
       "stream": "stdout",
       "text": [
        "\n",
        "  2766  |    0.003357  |    0.007510  |     0.447029  |             |  4.4s"
       ]
      },
      {
       "output_type": "stream",
       "stream": "stdout",
       "text": [
        "\n",
        "  2767  |    0.003269  |    0.007522  |     0.434592  |             |  4.4s"
       ]
      },
      {
       "output_type": "stream",
       "stream": "stdout",
       "text": [
        "\n",
        "  2768  |    0.003262  |    0.007532  |     0.433094  |             |  4.4s"
       ]
      },
      {
       "output_type": "stream",
       "stream": "stdout",
       "text": [
        "\n",
        "  2769  |    0.003275  |    0.007527  |     0.435131  |             |  4.4s"
       ]
      },
      {
       "output_type": "stream",
       "stream": "stdout",
       "text": [
        "\n",
        "  2770  |    0.003286  |    0.007529  |     0.436481  |             |  4.4s"
       ]
      },
      {
       "output_type": "stream",
       "stream": "stdout",
       "text": [
        "\n",
        "  2771  |    0.003356  |    0.007532  |     0.445609  |             |  4.4s"
       ]
      },
      {
       "output_type": "stream",
       "stream": "stdout",
       "text": [
        "\n",
        "  2772  |    0.003274  |    0.007508  |     0.436000  |             |  4.4s"
       ]
      },
      {
       "output_type": "stream",
       "stream": "stdout",
       "text": [
        "\n",
        "  2773  |    0.003291  |    0.007518  |     0.437786  |             |  4.4s"
       ]
      },
      {
       "output_type": "stream",
       "stream": "stdout",
       "text": [
        "\n",
        "  2774  |    0.003253  |    0.007519  |     0.432653  |             |  4.4s"
       ]
      },
      {
       "output_type": "stream",
       "stream": "stdout",
       "text": [
        "\n",
        "  2775  |    0.003335  |    0.007521  |     0.443387  |             |  4.4s"
       ]
      },
      {
       "output_type": "stream",
       "stream": "stdout",
       "text": [
        "\n",
        "  2776  |    0.003356  |    0.007546  |     0.444697  |             |  4.4s"
       ]
      },
      {
       "output_type": "stream",
       "stream": "stdout",
       "text": [
        "\n",
        "  2777  |    0.003311  |    0.007537  |     0.439223  |             |  4.4s"
       ]
      },
      {
       "output_type": "stream",
       "stream": "stdout",
       "text": [
        "\n",
        "  2778  |    0.003278  |    0.007504  |     0.436825  |             |  4.4s"
       ]
      },
      {
       "output_type": "stream",
       "stream": "stdout",
       "text": [
        "\n",
        "  2779  |    0.003283  |  \u001b[32m  0.007492\u001b[0m  |     0.438232  |             |  4.4s"
       ]
      },
      {
       "output_type": "stream",
       "stream": "stdout",
       "text": [
        "\n",
        "  2780  |    0.003327  |    0.007511  |     0.442977  |             |  4.4s"
       ]
      },
      {
       "output_type": "stream",
       "stream": "stdout",
       "text": [
        "\n",
        "  2781  |  \u001b[94m  0.003218\u001b[0m  |    0.007514  |     0.428340  |             |  4.4s"
       ]
      },
      {
       "output_type": "stream",
       "stream": "stdout",
       "text": [
        "\n",
        "  2782  |    0.003272  |    0.007496  |     0.436508  |             |  4.4s"
       ]
      },
      {
       "output_type": "stream",
       "stream": "stdout",
       "text": [
        "\n",
        "  2783  |    0.003228  |    0.007502  |     0.430251  |             |  4.4s"
       ]
      },
      {
       "output_type": "stream",
       "stream": "stdout",
       "text": [
        "\n",
        "  2784  |    0.003242  |    0.007511  |     0.431650  |             |  4.4s"
       ]
      },
      {
       "output_type": "stream",
       "stream": "stdout",
       "text": [
        "\n",
        "  2785  |    0.003310  |    0.007520  |     0.440193  |             |  4.4s"
       ]
      },
      {
       "output_type": "stream",
       "stream": "stdout",
       "text": [
        "\n",
        "  2786  |    0.003293  |    0.007533  |     0.437174  |             |  4.4s"
       ]
      },
      {
       "output_type": "stream",
       "stream": "stdout",
       "text": [
        "\n",
        "  2787  |    0.003235  |    0.007521  |     0.430176  |             |  4.4s"
       ]
      },
      {
       "output_type": "stream",
       "stream": "stdout",
       "text": [
        "\n",
        "  2788  |    0.003261  |    0.007510  |     0.434239  |             |  4.4s"
       ]
      },
      {
       "output_type": "stream",
       "stream": "stdout",
       "text": [
        "\n",
        "  2789  |    0.003256  |    0.007510  |     0.433523  |             |  4.4s"
       ]
      },
      {
       "output_type": "stream",
       "stream": "stdout",
       "text": [
        "\n",
        "  2790  |    0.003255  |    0.007524  |     0.432624  |             |  4.4s"
       ]
      },
      {
       "output_type": "stream",
       "stream": "stdout",
       "text": [
        "\n",
        "  2791  |    0.003275  |    0.007529  |     0.434957  |             |  4.4s"
       ]
      },
      {
       "output_type": "stream",
       "stream": "stdout",
       "text": [
        "\n",
        "  2792  |    0.003247  |    0.007530  |     0.431264  |             |  4.4s"
       ]
      },
      {
       "output_type": "stream",
       "stream": "stdout",
       "text": [
        "\n",
        "  2793  |    0.003266  |    0.007527  |     0.433859  |             |  4.4s"
       ]
      },
      {
       "output_type": "stream",
       "stream": "stdout",
       "text": [
        "\n",
        "  2794  |  \u001b[94m  0.003192\u001b[0m  |    0.007510  |     0.424972  |             |  4.4s"
       ]
      },
      {
       "output_type": "stream",
       "stream": "stdout",
       "text": [
        "\n",
        "  2795  |    0.003240  |    0.007508  |     0.431544  |             |  4.4s"
       ]
      },
      {
       "output_type": "stream",
       "stream": "stdout",
       "text": [
        "\n",
        "  2796  |    0.003221  |    0.007518  |     0.428464  |             |  4.4s"
       ]
      },
      {
       "output_type": "stream",
       "stream": "stdout",
       "text": [
        "\n",
        "  2797  |    0.003282  |    0.007545  |     0.435038  |             |  4.4s"
       ]
      },
      {
       "output_type": "stream",
       "stream": "stdout",
       "text": [
        "\n",
        "  2798  |    0.003288  |    0.007551  |     0.435400  |             |  4.4s"
       ]
      },
      {
       "output_type": "stream",
       "stream": "stdout",
       "text": [
        "\n",
        "  2799  |    0.003295  |    0.007521  |     0.438077  |             |  4.4s"
       ]
      },
      {
       "output_type": "stream",
       "stream": "stdout",
       "text": [
        "\n",
        "  2800  |    0.003321  |    0.007524  |     0.441414  |             |  4.4s"
       ]
      },
      {
       "output_type": "stream",
       "stream": "stdout",
       "text": [
        "\n",
        "  2801  |    0.003267  |    0.007522  |     0.434295  |             |  4.4s"
       ]
      },
      {
       "output_type": "stream",
       "stream": "stdout",
       "text": [
        "\n",
        "  2802  |    0.003272  |    0.007529  |     0.434580  |             |  4.4s"
       ]
      },
      {
       "output_type": "stream",
       "stream": "stdout",
       "text": [
        "\n",
        "  2803  |    0.003242  |    0.007520  |     0.431039  |             |  4.4s"
       ]
      },
      {
       "output_type": "stream",
       "stream": "stdout",
       "text": [
        "\n",
        "  2804  |    0.003258  |    0.007517  |     0.433404  |             |  4.4s"
       ]
      },
      {
       "output_type": "stream",
       "stream": "stdout",
       "text": [
        "\n",
        "  2805  |    0.003238  |    0.007525  |     0.430336  |             |  4.4s"
       ]
      },
      {
       "output_type": "stream",
       "stream": "stdout",
       "text": [
        "\n",
        "  2806  |    0.003289  |    0.007521  |     0.437325  |             |  4.4s"
       ]
      },
      {
       "output_type": "stream",
       "stream": "stdout",
       "text": [
        "\n",
        "  2807  |    0.003241  |    0.007513  |     0.431397  |             |  4.4s"
       ]
      },
      {
       "output_type": "stream",
       "stream": "stdout",
       "text": [
        "\n",
        "  2808  |    0.003304  |    0.007504  |     0.440306  |             |  4.4s"
       ]
      },
      {
       "output_type": "stream",
       "stream": "stdout",
       "text": [
        "\n",
        "  2809  |    0.003264  |    0.007507  |     0.434762  |             |  4.4s"
       ]
      },
      {
       "output_type": "stream",
       "stream": "stdout",
       "text": [
        "\n",
        "  2810  |    0.003283  |    0.007524  |     0.436403  |             |  4.4s"
       ]
      },
      {
       "output_type": "stream",
       "stream": "stdout",
       "text": [
        "\n",
        "  2811  |    0.003238  |    0.007529  |     0.430046  |             |  4.4s"
       ]
      },
      {
       "output_type": "stream",
       "stream": "stdout",
       "text": [
        "\n",
        "  2812  |    0.003234  |    0.007516  |     0.430248  |             |  4.4s"
       ]
      },
      {
       "output_type": "stream",
       "stream": "stdout",
       "text": [
        "\n",
        "  2813  |    0.003265  |    0.007514  |     0.434463  |             |  4.4s"
       ]
      },
      {
       "output_type": "stream",
       "stream": "stdout",
       "text": [
        "\n",
        "  2814  |    0.003210  |    0.007513  |     0.427317  |             |  4.4s"
       ]
      },
      {
       "output_type": "stream",
       "stream": "stdout",
       "text": [
        "\n",
        "  2815  |    0.003297  |    0.007498  |     0.439757  |             |  4.4s"
       ]
      },
      {
       "output_type": "stream",
       "stream": "stdout",
       "text": [
        "\n",
        "  2816  |    0.003247  |    0.007501  |     0.432857  |             |  4.4s"
       ]
      },
      {
       "output_type": "stream",
       "stream": "stdout",
       "text": [
        "\n",
        "  2817  |    0.003208  |    0.007511  |     0.427053  |             |  4.4s"
       ]
      },
      {
       "output_type": "stream",
       "stream": "stdout",
       "text": [
        "\n",
        "  2818  |    0.003197  |    0.007529  |     0.424659  |             |  4.4s"
       ]
      },
      {
       "output_type": "stream",
       "stream": "stdout",
       "text": [
        "\n",
        "  2819  |    0.003201  |    0.007519  |     0.425689  |             |  4.4s"
       ]
      },
      {
       "output_type": "stream",
       "stream": "stdout",
       "text": [
        "\n",
        "  2820  |    0.003214  |    0.007510  |     0.427984  |             |  4.4s"
       ]
      },
      {
       "output_type": "stream",
       "stream": "stdout",
       "text": [
        "\n",
        "  2821  |    0.003210  |    0.007505  |     0.427675  |             |  4.4s"
       ]
      },
      {
       "output_type": "stream",
       "stream": "stdout",
       "text": [
        "\n",
        "  2822  |    0.003202  |    0.007514  |     0.426191  |             |  4.4s"
       ]
      },
      {
       "output_type": "stream",
       "stream": "stdout",
       "text": [
        "\n",
        "  2823  |    0.003241  |    0.007521  |     0.430936  |             |  4.4s"
       ]
      },
      {
       "output_type": "stream",
       "stream": "stdout",
       "text": [
        "\n",
        "  2824  |    0.003205  |    0.007517  |     0.426445  |             |  4.4s"
       ]
      },
      {
       "output_type": "stream",
       "stream": "stdout",
       "text": [
        "\n",
        "  2825  |    0.003233  |    0.007515  |     0.430243  |             |  4.4s"
       ]
      },
      {
       "output_type": "stream",
       "stream": "stdout",
       "text": [
        "\n",
        "  2826  |    0.003241  |    0.007513  |     0.431320  |             |  4.4s"
       ]
      },
      {
       "output_type": "stream",
       "stream": "stdout",
       "text": [
        "\n",
        "  2827  |    0.003226  |    0.007501  |     0.430032  |             |  4.4s"
       ]
      },
      {
       "output_type": "stream",
       "stream": "stdout",
       "text": [
        "\n",
        "  2828  |    0.003232  |    0.007500  |     0.430979  |             |  4.4s"
       ]
      },
      {
       "output_type": "stream",
       "stream": "stdout",
       "text": [
        "\n",
        "  2829  |    0.003221  |  \u001b[32m  0.007491\u001b[0m  |     0.430074  |             |  4.4s"
       ]
      },
      {
       "output_type": "stream",
       "stream": "stdout",
       "text": [
        "\n",
        "  2830  |    0.003215  |    0.007499  |     0.428694  |             |  4.4s"
       ]
      },
      {
       "output_type": "stream",
       "stream": "stdout",
       "text": [
        "\n",
        "  2831  |    0.003315  |    0.007527  |     0.440481  |             |  4.4s"
       ]
      },
      {
       "output_type": "stream",
       "stream": "stdout",
       "text": [
        "\n",
        "  2832  |    0.003214  |    0.007538  |     0.426406  |             |  4.4s"
       ]
      },
      {
       "output_type": "stream",
       "stream": "stdout",
       "text": [
        "\n",
        "  2833  |    0.003286  |    0.007512  |     0.437501  |             |  4.4s"
       ]
      },
      {
       "output_type": "stream",
       "stream": "stdout",
       "text": [
        "\n",
        "  2834  |    0.003216  |    0.007504  |     0.428594  |             |  4.4s"
       ]
      },
      {
       "output_type": "stream",
       "stream": "stdout",
       "text": [
        "\n",
        "  2835  |  \u001b[94m  0.003176\u001b[0m  |    0.007516  |     0.422605  |             |  4.4s"
       ]
      },
      {
       "output_type": "stream",
       "stream": "stdout",
       "text": [
        "\n",
        "  2836  |    0.003226  |    0.007510  |     0.429576  |             |  4.4s"
       ]
      },
      {
       "output_type": "stream",
       "stream": "stdout",
       "text": [
        "\n",
        "  2837  |    0.003220  |    0.007505  |     0.429049  |             |  4.4s"
       ]
      },
      {
       "output_type": "stream",
       "stream": "stdout",
       "text": [
        "\n",
        "  2838  |    0.003230  |    0.007504  |     0.430493  |             |  4.4s"
       ]
      },
      {
       "output_type": "stream",
       "stream": "stdout",
       "text": [
        "\n",
        "  2839  |    0.003264  |    0.007525  |     0.433771  |             |  4.4s"
       ]
      },
      {
       "output_type": "stream",
       "stream": "stdout",
       "text": [
        "\n",
        "  2840  |    0.003186  |    0.007539  |     0.422573  |             |  4.4s"
       ]
      },
      {
       "output_type": "stream",
       "stream": "stdout",
       "text": [
        "\n",
        "  2841  |    0.003186  |    0.007532  |     0.423007  |             |  4.4s"
       ]
      },
      {
       "output_type": "stream",
       "stream": "stdout",
       "text": [
        "\n",
        "  2842  |    0.003194  |    0.007520  |     0.424794  |             |  4.4s"
       ]
      },
      {
       "output_type": "stream",
       "stream": "stdout",
       "text": [
        "\n",
        "  2843  |    0.003190  |    0.007520  |     0.424166  |             |  4.4s"
       ]
      },
      {
       "output_type": "stream",
       "stream": "stdout",
       "text": [
        "\n",
        "  2844  |    0.003225  |    0.007515  |     0.429199  |             |  4.4s"
       ]
      },
      {
       "output_type": "stream",
       "stream": "stdout",
       "text": [
        "\n",
        "  2845  |    0.003186  |    0.007518  |     0.423808  |             |  4.4s"
       ]
      },
      {
       "output_type": "stream",
       "stream": "stdout",
       "text": [
        "\n",
        "  2846  |  \u001b[94m  0.003169\u001b[0m  |    0.007518  |     0.421476  |             |  4.4s"
       ]
      },
      {
       "output_type": "stream",
       "stream": "stdout",
       "text": [
        "\n",
        "  2847  |    0.003241  |    0.007525  |     0.430715  |             |  4.4s"
       ]
      },
      {
       "output_type": "stream",
       "stream": "stdout",
       "text": [
        "\n",
        "  2848  |    0.003243  |    0.007515  |     0.431471  |             |  4.4s"
       ]
      },
      {
       "output_type": "stream",
       "stream": "stdout",
       "text": [
        "\n",
        "  2849  |  \u001b[94m  0.003168\u001b[0m  |    0.007511  |     0.421802  |             |  4.4s"
       ]
      },
      {
       "output_type": "stream",
       "stream": "stdout",
       "text": [
        "\n",
        "  2850  |    0.003198  |    0.007507  |     0.426050  |             |  4.4s"
       ]
      },
      {
       "output_type": "stream",
       "stream": "stdout",
       "text": [
        "\n",
        "  2851  |    0.003243  |    0.007506  |     0.432080  |             |  4.4s"
       ]
      },
      {
       "output_type": "stream",
       "stream": "stdout",
       "text": [
        "\n",
        "  2852  |    0.003233  |    0.007507  |     0.430710  |             |  4.4s"
       ]
      },
      {
       "output_type": "stream",
       "stream": "stdout",
       "text": [
        "\n",
        "  2853  |  \u001b[94m  0.003165\u001b[0m  |    0.007512  |     0.421300  |             |  4.4s"
       ]
      },
      {
       "output_type": "stream",
       "stream": "stdout",
       "text": [
        "\n",
        "  2854  |    0.003220  |    0.007512  |     0.428676  |             |  4.4s"
       ]
      },
      {
       "output_type": "stream",
       "stream": "stdout",
       "text": [
        "\n",
        "  2855  |    0.003182  |    0.007508  |     0.423896  |             |  4.4s"
       ]
      },
      {
       "output_type": "stream",
       "stream": "stdout",
       "text": [
        "\n",
        "  2856  |    0.003226  |    0.007520  |     0.428946  |             |  4.4s"
       ]
      },
      {
       "output_type": "stream",
       "stream": "stdout",
       "text": [
        "\n",
        "  2857  |    0.003203  |    0.007522  |     0.425825  |             |  4.4s"
       ]
      },
      {
       "output_type": "stream",
       "stream": "stdout",
       "text": [
        "\n",
        "  2858  |  \u001b[94m  0.003156\u001b[0m  |    0.007507  |     0.420431  |             |  4.4s"
       ]
      },
      {
       "output_type": "stream",
       "stream": "stdout",
       "text": [
        "\n",
        "  2859  |  \u001b[94m  0.003106\u001b[0m  |    0.007505  |     0.413793  |             |  4.4s"
       ]
      },
      {
       "output_type": "stream",
       "stream": "stdout",
       "text": [
        "\n",
        "  2860  |    0.003173  |    0.007504  |     0.422772  |             |  4.4s"
       ]
      },
      {
       "output_type": "stream",
       "stream": "stdout",
       "text": [
        "\n",
        "  2861  |    0.003215  |    0.007512  |     0.427966  |             |  4.4s"
       ]
      },
      {
       "output_type": "stream",
       "stream": "stdout",
       "text": [
        "\n",
        "  2862  |    0.003161  |    0.007521  |     0.420333  |             |  4.4s"
       ]
      },
      {
       "output_type": "stream",
       "stream": "stdout",
       "text": [
        "\n",
        "  2863  |    0.003145  |    0.007509  |     0.418804  |             |  4.4s"
       ]
      },
      {
       "output_type": "stream",
       "stream": "stdout",
       "text": [
        "\n",
        "  2864  |    0.003180  |    0.007503  |     0.423850  |             |  4.4s"
       ]
      },
      {
       "output_type": "stream",
       "stream": "stdout",
       "text": [
        "\n",
        "  2865  |    0.003168  |    0.007509  |     0.421935  |             |  4.4s"
       ]
      },
      {
       "output_type": "stream",
       "stream": "stdout",
       "text": [
        "\n",
        "  2866  |    0.003217  |    0.007516  |     0.427993  |             |  4.4s"
       ]
      },
      {
       "output_type": "stream",
       "stream": "stdout",
       "text": [
        "\n",
        "  2867  |    0.003229  |    0.007512  |     0.429808  |             |  4.4s"
       ]
      },
      {
       "output_type": "stream",
       "stream": "stdout",
       "text": [
        "\n",
        "  2868  |    0.003126  |    0.007506  |     0.416487  |             |  4.4s"
       ]
      },
      {
       "output_type": "stream",
       "stream": "stdout",
       "text": [
        "\n",
        "  2869  |    0.003265  |    0.007508  |     0.434890  |             |  4.4s"
       ]
      },
      {
       "output_type": "stream",
       "stream": "stdout",
       "text": [
        "\n",
        "  2870  |    0.003142  |    0.007511  |     0.418323  |             |  4.4s"
       ]
      },
      {
       "output_type": "stream",
       "stream": "stdout",
       "text": [
        "\n",
        "  2871  |    0.003233  |    0.007508  |     0.430637  |             |  4.4s"
       ]
      },
      {
       "output_type": "stream",
       "stream": "stdout",
       "text": [
        "\n",
        "  2872  |    0.003148  |    0.007509  |     0.419196  |             |  4.4s"
       ]
      },
      {
       "output_type": "stream",
       "stream": "stdout",
       "text": [
        "\n",
        "  2873  |    0.003182  |    0.007501  |     0.424230  |             |  4.4s"
       ]
      },
      {
       "output_type": "stream",
       "stream": "stdout",
       "text": [
        "\n",
        "  2874  |    0.003134  |  \u001b[32m  0.007487\u001b[0m  |     0.418523  |             |  4.4s"
       ]
      },
      {
       "output_type": "stream",
       "stream": "stdout",
       "text": [
        "\n",
        "  2875  |    0.003155  |  \u001b[32m  0.007479\u001b[0m  |     0.421864  |             |  4.4s"
       ]
      },
      {
       "output_type": "stream",
       "stream": "stdout",
       "text": [
        "\n",
        "  2876  |    0.003133  |    0.007487  |     0.418527  |             |  4.4s"
       ]
      },
      {
       "output_type": "stream",
       "stream": "stdout",
       "text": [
        "\n",
        "  2877  |    0.003159  |    0.007491  |     0.421673  |             |  4.4s"
       ]
      },
      {
       "output_type": "stream",
       "stream": "stdout",
       "text": [
        "\n",
        "  2878  |    0.003176  |    0.007491  |     0.423928  |             |  4.4s"
       ]
      },
      {
       "output_type": "stream",
       "stream": "stdout",
       "text": [
        "\n",
        "  2879  |    0.003157  |    0.007493  |     0.421276  |             |  4.4s"
       ]
      },
      {
       "output_type": "stream",
       "stream": "stdout",
       "text": [
        "\n",
        "  2880  |    0.003137  |    0.007491  |     0.418822  |             |  4.4s"
       ]
      },
      {
       "output_type": "stream",
       "stream": "stdout",
       "text": [
        "\n",
        "  2881  |    0.003170  |    0.007486  |     0.423402  |             |  4.4s"
       ]
      },
      {
       "output_type": "stream",
       "stream": "stdout",
       "text": [
        "\n",
        "  2882  |    0.003145  |    0.007496  |     0.419613  |             |  4.4s"
       ]
      },
      {
       "output_type": "stream",
       "stream": "stdout",
       "text": [
        "\n",
        "  2883  |    0.003172  |    0.007506  |     0.422644  |             |  4.4s"
       ]
      },
      {
       "output_type": "stream",
       "stream": "stdout",
       "text": [
        "\n",
        "  2884  |    0.003210  |    0.007500  |     0.427997  |             |  4.4s"
       ]
      },
      {
       "output_type": "stream",
       "stream": "stdout",
       "text": [
        "\n",
        "  2885  |    0.003152  |    0.007482  |     0.421305  |             |  4.4s"
       ]
      },
      {
       "output_type": "stream",
       "stream": "stdout",
       "text": [
        "\n",
        "  2886  |    0.003224  |  \u001b[32m  0.007478\u001b[0m  |     0.431162  |             |  4.4s"
       ]
      },
      {
       "output_type": "stream",
       "stream": "stdout",
       "text": [
        "\n",
        "  2887  |    0.003115  |    0.007484  |     0.416187  |             |  4.4s"
       ]
      },
      {
       "output_type": "stream",
       "stream": "stdout",
       "text": [
        "\n",
        "  2888  |    0.003179  |    0.007486  |     0.424677  |             |  4.4s"
       ]
      },
      {
       "output_type": "stream",
       "stream": "stdout",
       "text": [
        "\n",
        "  2889  |    0.003109  |    0.007493  |     0.414882  |             |  4.4s"
       ]
      },
      {
       "output_type": "stream",
       "stream": "stdout",
       "text": [
        "\n",
        "  2890  |    0.003237  |    0.007498  |     0.431718  |             |  4.4s"
       ]
      },
      {
       "output_type": "stream",
       "stream": "stdout",
       "text": [
        "\n",
        "  2891  |    0.003237  |    0.007505  |     0.431348  |             |  4.4s"
       ]
      },
      {
       "output_type": "stream",
       "stream": "stdout",
       "text": [
        "\n",
        "  2892  |    0.003156  |    0.007506  |     0.420463  |             |  4.4s"
       ]
      },
      {
       "output_type": "stream",
       "stream": "stdout",
       "text": [
        "\n",
        "  2893  |    0.003136  |    0.007497  |     0.418268  |             |  4.4s"
       ]
      },
      {
       "output_type": "stream",
       "stream": "stdout",
       "text": [
        "\n",
        "  2894  |  \u001b[94m  0.003086\u001b[0m  |    0.007489  |     0.412120  |             |  4.4s"
       ]
      },
      {
       "output_type": "stream",
       "stream": "stdout",
       "text": [
        "\n",
        "  2895  |    0.003095  |    0.007493  |     0.413063  |             |  4.4s"
       ]
      },
      {
       "output_type": "stream",
       "stream": "stdout",
       "text": [
        "\n",
        "  2896  |    0.003111  |    0.007499  |     0.414840  |             |  4.4s"
       ]
      },
      {
       "output_type": "stream",
       "stream": "stdout",
       "text": [
        "\n",
        "  2897  |    0.003115  |    0.007504  |     0.415093  |             |  4.4s"
       ]
      },
      {
       "output_type": "stream",
       "stream": "stdout",
       "text": [
        "\n",
        "  2898  |    0.003139  |    0.007499  |     0.418547  |             |  4.4s"
       ]
      },
      {
       "output_type": "stream",
       "stream": "stdout",
       "text": [
        "\n",
        "  2899  |  \u001b[94m  0.003064\u001b[0m  |    0.007497  |     0.408653  |             |  4.4s"
       ]
      },
      {
       "output_type": "stream",
       "stream": "stdout",
       "text": [
        "\n",
        "  2900  |    0.003152  |    0.007488  |     0.420859  |             |  4.4s"
       ]
      },
      {
       "output_type": "stream",
       "stream": "stdout",
       "text": [
        "\n",
        "  2901  |    0.003105  |    0.007490  |     0.414531  |             |  4.4s"
       ]
      },
      {
       "output_type": "stream",
       "stream": "stdout",
       "text": [
        "\n",
        "  2902  |    0.003152  |    0.007502  |     0.420074  |             |  4.4s"
       ]
      },
      {
       "output_type": "stream",
       "stream": "stdout",
       "text": [
        "\n",
        "  2903  |    0.003166  |    0.007517  |     0.421121  |             |  4.4s"
       ]
      },
      {
       "output_type": "stream",
       "stream": "stdout",
       "text": [
        "\n",
        "  2904  |    0.003165  |    0.007516  |     0.421178  |             |  4.4s"
       ]
      },
      {
       "output_type": "stream",
       "stream": "stdout",
       "text": [
        "\n",
        "  2905  |    0.003168  |    0.007501  |     0.422350  |             |  4.4s"
       ]
      },
      {
       "output_type": "stream",
       "stream": "stdout",
       "text": [
        "\n",
        "  2906  |    0.003189  |    0.007501  |     0.425121  |             |  4.4s"
       ]
      },
      {
       "output_type": "stream",
       "stream": "stdout",
       "text": [
        "\n",
        "  2907  |    0.003150  |    0.007502  |     0.419916  |             |  4.4s"
       ]
      },
      {
       "output_type": "stream",
       "stream": "stdout",
       "text": [
        "\n",
        "  2908  |    0.003123  |    0.007497  |     0.416607  |             |  4.4s"
       ]
      },
      {
       "output_type": "stream",
       "stream": "stdout",
       "text": [
        "\n",
        "  2909  |    0.003110  |    0.007501  |     0.414644  |             |  4.4s"
       ]
      },
      {
       "output_type": "stream",
       "stream": "stdout",
       "text": [
        "\n",
        "  2910  |    0.003229  |    0.007497  |     0.430714  |             |  4.4s"
       ]
      },
      {
       "output_type": "stream",
       "stream": "stdout",
       "text": [
        "\n",
        "  2911  |    0.003108  |    0.007495  |     0.414706  |             |  4.4s"
       ]
      },
      {
       "output_type": "stream",
       "stream": "stdout",
       "text": [
        "\n",
        "  2912  |    0.003240  |    0.007490  |     0.432597  |             |  4.4s"
       ]
      },
      {
       "output_type": "stream",
       "stream": "stdout",
       "text": [
        "\n",
        "  2913  |    0.003201  |    0.007495  |     0.427030  |             |  4.4s"
       ]
      },
      {
       "output_type": "stream",
       "stream": "stdout",
       "text": [
        "\n",
        "  2914  |    0.003116  |    0.007501  |     0.415468  |             |  4.4s"
       ]
      },
      {
       "output_type": "stream",
       "stream": "stdout",
       "text": [
        "\n",
        "  2915  |    0.003129  |    0.007504  |     0.416906  |             |  4.4s"
       ]
      },
      {
       "output_type": "stream",
       "stream": "stdout",
       "text": [
        "\n",
        "  2916  |    0.003149  |    0.007503  |     0.419678  |             |  4.4s"
       ]
      },
      {
       "output_type": "stream",
       "stream": "stdout",
       "text": [
        "\n",
        "  2917  |    0.003180  |    0.007504  |     0.423779  |             |  4.4s"
       ]
      },
      {
       "output_type": "stream",
       "stream": "stdout",
       "text": [
        "\n",
        "  2918  |    0.003159  |    0.007499  |     0.421308  |             |  4.4s"
       ]
      },
      {
       "output_type": "stream",
       "stream": "stdout",
       "text": [
        "\n",
        "  2919  |    0.003182  |    0.007495  |     0.424509  |             |  4.4s"
       ]
      },
      {
       "output_type": "stream",
       "stream": "stdout",
       "text": [
        "\n",
        "  2920  |    0.003087  |    0.007497  |     0.411729  |             |  4.4s"
       ]
      },
      {
       "output_type": "stream",
       "stream": "stdout",
       "text": [
        "\n",
        "  2921  |    0.003127  |    0.007497  |     0.417073  |             |  4.4s"
       ]
      },
      {
       "output_type": "stream",
       "stream": "stdout",
       "text": [
        "\n",
        "  2922  |    0.003131  |    0.007494  |     0.417787  |             |  4.4s"
       ]
      },
      {
       "output_type": "stream",
       "stream": "stdout",
       "text": [
        "\n",
        "  2923  |    0.003158  |    0.007495  |     0.421272  |             |  4.4s"
       ]
      },
      {
       "output_type": "stream",
       "stream": "stdout",
       "text": [
        "\n",
        "  2924  |    0.003174  |    0.007497  |     0.423368  |             |  4.4s"
       ]
      },
      {
       "output_type": "stream",
       "stream": "stdout",
       "text": [
        "\n",
        "  2925  |    0.003132  |    0.007501  |     0.417538  |             |  4.4s"
       ]
      },
      {
       "output_type": "stream",
       "stream": "stdout",
       "text": [
        "\n",
        "  2926  |    0.003157  |    0.007495  |     0.421212  |             |  4.4s"
       ]
      },
      {
       "output_type": "stream",
       "stream": "stdout",
       "text": [
        "\n",
        "  2927  |    0.003153  |    0.007482  |     0.421334  |             |  4.4s"
       ]
      },
      {
       "output_type": "stream",
       "stream": "stdout",
       "text": [
        "\n",
        "  2928  |    0.003161  |    0.007481  |     0.422572  |             |  4.4s"
       ]
      },
      {
       "output_type": "stream",
       "stream": "stdout",
       "text": [
        "\n",
        "  2929  |    0.003095  |    0.007489  |     0.413342  |             |  4.4s"
       ]
      },
      {
       "output_type": "stream",
       "stream": "stdout",
       "text": [
        "\n",
        "  2930  |    0.003099  |    0.007495  |     0.413438  |             |  4.4s"
       ]
      },
      {
       "output_type": "stream",
       "stream": "stdout",
       "text": [
        "\n",
        "  2931  |    0.003064  |    0.007498  |     0.408603  |             |  4.4s"
       ]
      },
      {
       "output_type": "stream",
       "stream": "stdout",
       "text": [
        "\n",
        "  2932  |    0.003156  |    0.007494  |     0.421160  |             |  4.4s"
       ]
      },
      {
       "output_type": "stream",
       "stream": "stdout",
       "text": [
        "\n",
        "  2933  |    0.003104  |    0.007499  |     0.413958  |             |  4.4s"
       ]
      },
      {
       "output_type": "stream",
       "stream": "stdout",
       "text": [
        "\n",
        "  2934  |    0.003099  |    0.007500  |     0.413203  |             |  4.4s"
       ]
      },
      {
       "output_type": "stream",
       "stream": "stdout",
       "text": [
        "\n",
        "  2935  |    0.003133  |    0.007501  |     0.417669  |             |  4.4s"
       ]
      },
      {
       "output_type": "stream",
       "stream": "stdout",
       "text": [
        "\n",
        "  2936  |    0.003095  |    0.007501  |     0.412648  |             |  4.4s"
       ]
      },
      {
       "output_type": "stream",
       "stream": "stdout",
       "text": [
        "\n",
        "  2937  |    0.003084  |    0.007505  |     0.410905  |             |  4.4s"
       ]
      },
      {
       "output_type": "stream",
       "stream": "stdout",
       "text": [
        "\n",
        "  2938  |    0.003091  |    0.007502  |     0.412032  |             |  4.4s"
       ]
      },
      {
       "output_type": "stream",
       "stream": "stdout",
       "text": [
        "\n",
        "  2939  |    0.003082  |    0.007493  |     0.411371  |             |  4.4s"
       ]
      },
      {
       "output_type": "stream",
       "stream": "stdout",
       "text": [
        "\n",
        "  2940  |    0.003091  |    0.007486  |     0.412986  |             |  4.4s"
       ]
      },
      {
       "output_type": "stream",
       "stream": "stdout",
       "text": [
        "\n",
        "  2941  |    0.003113  |  \u001b[32m  0.007476\u001b[0m  |     0.416416  |             |  4.4s"
       ]
      },
      {
       "output_type": "stream",
       "stream": "stdout",
       "text": [
        "\n",
        "  2942  |  \u001b[94m  0.003049\u001b[0m  |    0.007476  |     0.407851  |             |  4.4s"
       ]
      },
      {
       "output_type": "stream",
       "stream": "stdout",
       "text": [
        "\n",
        "  2943  |    0.003112  |    0.007485  |     0.415752  |             |  4.4s"
       ]
      },
      {
       "output_type": "stream",
       "stream": "stdout",
       "text": [
        "\n",
        "  2944  |    0.003171  |    0.007496  |     0.422964  |             |  4.4s"
       ]
      },
      {
       "output_type": "stream",
       "stream": "stdout",
       "text": [
        "\n",
        "  2945  |    0.003170  |    0.007496  |     0.422804  |             |  4.4s"
       ]
      },
      {
       "output_type": "stream",
       "stream": "stdout",
       "text": [
        "\n",
        "  2946  |    0.003077  |    0.007507  |     0.409912  |             |  4.4s"
       ]
      },
      {
       "output_type": "stream",
       "stream": "stdout",
       "text": [
        "\n",
        "  2947  |    0.003153  |    0.007508  |     0.419969  |             |  4.4s"
       ]
      },
      {
       "output_type": "stream",
       "stream": "stdout",
       "text": [
        "\n",
        "  2948  |    0.003079  |    0.007504  |     0.410339  |             |  4.4s"
       ]
      },
      {
       "output_type": "stream",
       "stream": "stdout",
       "text": [
        "\n",
        "  2949  |    0.003085  |    0.007499  |     0.411463  |             |  4.4s"
       ]
      },
      {
       "output_type": "stream",
       "stream": "stdout",
       "text": [
        "\n",
        "  2950  |  \u001b[94m  0.003045\u001b[0m  |    0.007496  |     0.406303  |             |  4.4s"
       ]
      },
      {
       "output_type": "stream",
       "stream": "stdout",
       "text": [
        "\n",
        "  2951  |    0.003139  |    0.007497  |     0.418726  |             |  4.4s"
       ]
      },
      {
       "output_type": "stream",
       "stream": "stdout",
       "text": [
        "\n",
        "  2952  |    0.003072  |    0.007500  |     0.409612  |             |  4.4s"
       ]
      },
      {
       "output_type": "stream",
       "stream": "stdout",
       "text": [
        "\n",
        "  2953  |    0.003122  |    0.007503  |     0.416131  |             |  4.4s"
       ]
      },
      {
       "output_type": "stream",
       "stream": "stdout",
       "text": [
        "\n",
        "  2954  |    0.003126  |    0.007507  |     0.416423  |             |  4.4s"
       ]
      },
      {
       "output_type": "stream",
       "stream": "stdout",
       "text": [
        "\n",
        "  2955  |  \u001b[94m  0.003035\u001b[0m  |    0.007505  |     0.404330  |             |  4.4s"
       ]
      },
      {
       "output_type": "stream",
       "stream": "stdout",
       "text": [
        "\n",
        "  2956  |    0.003040  |    0.007502  |     0.405209  |             |  4.4s"
       ]
      },
      {
       "output_type": "stream",
       "stream": "stdout",
       "text": [
        "\n",
        "  2957  |    0.003062  |    0.007501  |     0.408263  |             |  4.4s"
       ]
      },
      {
       "output_type": "stream",
       "stream": "stdout",
       "text": [
        "\n",
        "  2958  |    0.003082  |    0.007500  |     0.410941  |             |  4.4s"
       ]
      },
      {
       "output_type": "stream",
       "stream": "stdout",
       "text": [
        "\n",
        "  2959  |    0.003191  |    0.007499  |     0.425607  |             |  4.4s"
       ]
      },
      {
       "output_type": "stream",
       "stream": "stdout",
       "text": [
        "\n",
        "  2960  |    0.003110  |    0.007490  |     0.415265  |             |  4.4s"
       ]
      },
      {
       "output_type": "stream",
       "stream": "stdout",
       "text": [
        "\n",
        "  2961  |  \u001b[94m  0.003010\u001b[0m  |    0.007479  |     0.402424  |             |  4.4s"
       ]
      },
      {
       "output_type": "stream",
       "stream": "stdout",
       "text": [
        "\n",
        "  2962  |    0.003078  |  \u001b[32m  0.007476\u001b[0m  |     0.411667  |             |  4.4s"
       ]
      },
      {
       "output_type": "stream",
       "stream": "stdout",
       "text": [
        "\n",
        "  2963  |    0.003162  |    0.007479  |     0.422693  |             |  4.4s"
       ]
      },
      {
       "output_type": "stream",
       "stream": "stdout",
       "text": [
        "\n",
        "  2964  |    0.003022  |    0.007490  |     0.403443  |             |  4.4s"
       ]
      },
      {
       "output_type": "stream",
       "stream": "stdout",
       "text": [
        "\n",
        "  2965  |    0.003119  |    0.007497  |     0.416078  |             |  4.4s"
       ]
      },
      {
       "output_type": "stream",
       "stream": "stdout",
       "text": [
        "\n",
        "  2966  |    0.003119  |    0.007501  |     0.415768  |             |  4.4s"
       ]
      },
      {
       "output_type": "stream",
       "stream": "stdout",
       "text": [
        "\n",
        "  2967  |    0.003061  |    0.007503  |     0.407939  |             |  4.4s"
       ]
      },
      {
       "output_type": "stream",
       "stream": "stdout",
       "text": [
        "\n",
        "  2968  |    0.003145  |    0.007502  |     0.419163  |             |  4.4s"
       ]
      },
      {
       "output_type": "stream",
       "stream": "stdout",
       "text": [
        "\n",
        "  2969  |    0.003098  |    0.007500  |     0.413124  |             |  4.4s"
       ]
      },
      {
       "output_type": "stream",
       "stream": "stdout",
       "text": [
        "\n",
        "  2970  |    0.003048  |    0.007491  |     0.406843  |             |  4.4s"
       ]
      },
      {
       "output_type": "stream",
       "stream": "stdout",
       "text": [
        "\n",
        "  2971  |    0.003087  |    0.007487  |     0.412316  |             |  4.4s"
       ]
      },
      {
       "output_type": "stream",
       "stream": "stdout",
       "text": [
        "\n",
        "  2972  |    0.003051  |    0.007492  |     0.407300  |             |  4.4s"
       ]
      },
      {
       "output_type": "stream",
       "stream": "stdout",
       "text": [
        "\n",
        "  2973  |    0.003167  |    0.007499  |     0.422271  |             |  4.4s"
       ]
      },
      {
       "output_type": "stream",
       "stream": "stdout",
       "text": [
        "\n",
        "  2974  |    0.003088  |    0.007504  |     0.411463  |             |  4.4s"
       ]
      },
      {
       "output_type": "stream",
       "stream": "stdout",
       "text": [
        "\n",
        "  2975  |    0.003095  |    0.007509  |     0.412161  |             |  4.4s"
       ]
      },
      {
       "output_type": "stream",
       "stream": "stdout",
       "text": [
        "\n",
        "  2976  |    0.003150  |    0.007508  |     0.419518  |             |  4.4s"
       ]
      },
      {
       "output_type": "stream",
       "stream": "stdout",
       "text": [
        "\n",
        "  2977  |    0.003117  |    0.007503  |     0.415408  |             |  4.4s"
       ]
      },
      {
       "output_type": "stream",
       "stream": "stdout",
       "text": [
        "\n",
        "  2978  |    0.003034  |    0.007495  |     0.404759  |             |  4.4s"
       ]
      },
      {
       "output_type": "stream",
       "stream": "stdout",
       "text": [
        "\n",
        "  2979  |    0.003086  |    0.007488  |     0.412075  |             |  4.4s"
       ]
      },
      {
       "output_type": "stream",
       "stream": "stdout",
       "text": [
        "\n",
        "  2980  |    0.003057  |    0.007483  |     0.408595  |             |  4.4s"
       ]
      },
      {
       "output_type": "stream",
       "stream": "stdout",
       "text": [
        "\n",
        "  2981  |    0.003020  |    0.007479  |     0.403868  |             |  4.4s"
       ]
      },
      {
       "output_type": "stream",
       "stream": "stdout",
       "text": [
        "\n",
        "  2982  |    0.003115  |    0.007476  |     0.416612  |             |  4.4s"
       ]
      },
      {
       "output_type": "stream",
       "stream": "stdout",
       "text": [
        "\n",
        "  2983  |    0.003136  |  \u001b[32m  0.007472\u001b[0m  |     0.419727  |             |  4.4s"
       ]
      },
      {
       "output_type": "stream",
       "stream": "stdout",
       "text": [
        "\n",
        "  2984  |    0.003148  |    0.007473  |     0.421173  |             |  4.4s"
       ]
      },
      {
       "output_type": "stream",
       "stream": "stdout",
       "text": [
        "\n",
        "  2985  |    0.003116  |    0.007477  |     0.416800  |             |  4.4s"
       ]
      },
      {
       "output_type": "stream",
       "stream": "stdout",
       "text": [
        "\n",
        "  2986  |    0.003098  |    0.007480  |     0.414097  |             |  4.4s"
       ]
      },
      {
       "output_type": "stream",
       "stream": "stdout",
       "text": [
        "\n",
        "  2987  |    0.003104  |    0.007484  |     0.414776  |             |  4.4s"
       ]
      },
      {
       "output_type": "stream",
       "stream": "stdout",
       "text": [
        "\n",
        "  2988  |    0.003045  |    0.007489  |     0.406538  |             |  4.4s"
       ]
      },
      {
       "output_type": "stream",
       "stream": "stdout",
       "text": [
        "\n",
        "  2989  |    0.003033  |    0.007495  |     0.404706  |             |  4.4s"
       ]
      },
      {
       "output_type": "stream",
       "stream": "stdout",
       "text": [
        "\n",
        "  2990  |    0.003064  |    0.007498  |     0.408594  |             |  4.4s"
       ]
      },
      {
       "output_type": "stream",
       "stream": "stdout",
       "text": [
        "\n",
        "  2991  |    0.003031  |    0.007499  |     0.404160  |             |  4.4s"
       ]
      },
      {
       "output_type": "stream",
       "stream": "stdout",
       "text": [
        "\n",
        "  2992  |    0.003057  |    0.007500  |     0.407629  |             |  4.4s"
       ]
      },
      {
       "output_type": "stream",
       "stream": "stdout",
       "text": [
        "\n",
        "  2993  |    0.003124  |    0.007501  |     0.416518  |             |  4.4s"
       ]
      },
      {
       "output_type": "stream",
       "stream": "stdout",
       "text": [
        "\n",
        "  2994  |    0.003044  |    0.007502  |     0.405768  |             |  4.4s"
       ]
      },
      {
       "output_type": "stream",
       "stream": "stdout",
       "text": [
        "\n",
        "  2995  |    0.003190  |    0.007501  |     0.425279  |             |  4.4s"
       ]
      },
      {
       "output_type": "stream",
       "stream": "stdout",
       "text": [
        "\n",
        "  2996  |    0.003100  |    0.007500  |     0.413321  |             |  4.4s"
       ]
      },
      {
       "output_type": "stream",
       "stream": "stdout",
       "text": [
        "\n",
        "  2997  |    0.003026  |    0.007499  |     0.403504  |             |  4.4s"
       ]
      },
      {
       "output_type": "stream",
       "stream": "stdout",
       "text": [
        "\n",
        "  2998  |    0.003106  |    0.007499  |     0.414144  |             |  4.4s"
       ]
      },
      {
       "output_type": "stream",
       "stream": "stdout",
       "text": [
        "\n",
        "  2999  |    0.003049  |    0.007500  |     0.406577  |             |  4.4s"
       ]
      },
      {
       "output_type": "stream",
       "stream": "stdout",
       "text": [
        "\n",
        "  3000  |    0.003139  |    0.007500  |     0.418593  |             |  4.4s"
       ]
      },
      {
       "output_type": "stream",
       "stream": "stdout",
       "text": [
        "\n",
        "CPU times: user 2h 25min 19s, sys: 1h 12min 22s, total: 3h 37min 41s\n",
        "Wall time: 3h 38min 59s\n"
       ]
      },
      {
       "output_type": "stream",
       "stream": "stderr",
       "text": [
        "/home/ubuntu/src/theano/theano/sandbox/rng_mrg.py:1188: UserWarning: MRG_RandomStreams Can't determine #streams from size (Shape.0), guessing 60*256\n",
        "  nstreams = self.n_streams(size)\n"
       ]
      }
     ],
     "prompt_number": 15
    },
    {
     "cell_type": "code",
     "collapsed": false,
     "input": [
      "# import cPickle as pickle\n",
      "# with open('./Lasagne_3rd.pickle', 'rb') as f:\n",
      "#     model = pickle.load(f)\n"
     ],
     "language": "python",
     "metadata": {},
     "outputs": []
    },
    {
     "cell_type": "code",
     "collapsed": false,
     "input": [
      "# from sklearn.base import clone\n",
      "# model2 = clone(net7)\n",
      "# model2.load_weights_from(model)"
     ],
     "language": "python",
     "metadata": {},
     "outputs": []
    },
    {
     "cell_type": "code",
     "collapsed": false,
     "input": [
      "# model"
     ],
     "language": "python",
     "metadata": {},
     "outputs": []
    },
    {
     "cell_type": "code",
     "collapsed": false,
     "input": [
      "train_loss_6 = np.array([i[\"train_loss\"] for i in net7.train_history_])\n",
      "valid_loss_6 = np.array([i[\"valid_loss\"] for i in net7.train_history_])\n",
      "pyplot.plot(train_loss_6, linewidth=3, label=\"train\")\n",
      "pyplot.plot(valid_loss_6, linewidth=3, label=\"valid\")\n",
      "pyplot.grid()\n",
      "pyplot.legend()\n",
      "pyplot.xlabel(\"epoch\")\n",
      "pyplot.ylabel(\"loss\")\n",
      "pyplot.ylim(0.1e-2, 3.2e-2)\n",
      "# pyplot.yscale(\"log\")\n",
      "pyplot.show()"
     ],
     "language": "python",
     "metadata": {},
     "outputs": [
      {
       "metadata": {},
       "output_type": "display_data",
       "png": "[encoded data removed]",
       "text": [
        "<matplotlib.figure.Figure at 0x7fb8c5af4d50>"
       ]
      }
     ],
     "prompt_number": 16
    },
    {
     "cell_type": "code",
     "collapsed": false,
     "input": [
      "from sklearn import metrics\n",
      "\n",
      "Xt_6, yt_6 = transform_6(X_test, y_test)\n",
      "\n",
      "# overfit result, should use validation result\n",
      "y_pred = net7.predict(Xt_6)\n",
      "# print y_pred[1]\n",
      "# np.argmax(y_pred[i]),np.argmax(y[i])\n",
      "y_pred = np.array(map((lambda x: np.argmax(x)), y_pred))\n",
      "yyy = np.array(map((lambda x: np.argmax(x)), yt_6))\n",
      "\n",
      "print metrics.classification_report((yyy), (y_pred))"
     ],
     "language": "python",
     "metadata": {},
     "outputs": [
      {
       "output_type": "stream",
       "stream": "stdout",
       "text": [
        "             precision    recall  f1-score   support\n",
        "\n",
        "          0       0.95      0.94      0.94        82\n",
        "          1       0.90      0.86      0.88       111\n",
        "          2       0.90      0.84      0.87        99\n",
        "          3       0.84      0.90      0.87        97\n",
        "          4       0.96      0.85      0.90       103\n",
        "          5       0.91      0.90      0.91        96\n",
        "          6       0.90      0.92      0.91       103\n",
        "          7       0.90      0.79      0.84       112\n",
        "          8       0.95      0.89      0.92       115\n",
        "          9       0.97      0.92      0.94       100\n",
        "         10       0.94      0.88      0.91       104\n",
        "         11       0.98      0.94      0.96       110\n",
        "         12       0.65      0.79      0.72       170\n",
        "         13       0.67      0.77      0.72       179\n",
        "         14       0.82      0.74      0.78       184\n",
        "         15       0.86      0.81      0.83        83\n",
        "         16       0.82      0.74      0.78        90\n",
        "         17       0.76      0.77      0.76        90\n",
        "         18       0.72      0.60      0.66        70\n",
        "         19       0.85      0.84      0.84        94\n",
        "         20       0.80      0.76      0.78        74\n",
        "         21       0.66      0.83      0.74       175\n",
        "         22       0.91      0.88      0.90        85\n",
        "         23       0.99      0.88      0.93        86\n",
        "         24       0.95      0.93      0.94        83\n",
        "         25       0.97      0.94      0.96        81\n",
        "         26       0.90      0.83      0.86        93\n",
        "         27       0.96      0.93      0.95        85\n",
        "         28       0.87      0.91      0.89        75\n",
        "         29       0.97      0.93      0.95        82\n",
        "         30       0.88      0.86      0.87        90\n",
        "         31       0.66      0.84      0.74        92\n",
        "\n",
        "avg / total       0.85      0.84      0.85      3293\n",
        "\n"
       ]
      }
     ],
     "prompt_number": 17
    },
    {
     "cell_type": "markdown",
     "metadata": {},
     "source": [
      "## load model"
     ]
    },
    {
     "cell_type": "code",
     "collapsed": false,
     "input": [
      "# import cPickle as pickle\n",
      "\n",
      "# with open('./Lasagne_2nd.pickle', 'rb') as f:\n",
      "#     specialists = pickle.load(f)\n"
     ],
     "language": "python",
     "metadata": {},
     "outputs": []
    },
    {
     "cell_type": "markdown",
     "metadata": {},
     "source": [
      "## submit test data "
     ]
    },
    {
     "cell_type": "code",
     "collapsed": false,
     "input": [
      "import pandas as pd\n",
      "\n",
      "xx_test, yy_test = load_svmlight_file(\"./phase1/aug_test_50.dat\")"
     ],
     "language": "python",
     "metadata": {},
     "outputs": [],
     "prompt_number": 18
    },
    {
     "cell_type": "code",
     "collapsed": false,
     "input": [
      "xx_test.shape"
     ],
     "language": "python",
     "metadata": {},
     "outputs": [
      {
       "metadata": {},
       "output_type": "pyout",
       "prompt_number": 19,
       "text": [
        "(7372, 2500)"
       ]
      }
     ],
     "prompt_number": 19
    },
    {
     "cell_type": "code",
     "collapsed": false,
     "input": [
      "xx_test = np.array(xx_test.todense()).reshape(-1,)\n",
      "# xx_train = xx_train.dtype(np.float32)\n",
      "xx_test = np.float32(xx_test)\n",
      "xx_test = xx_test.reshape(7372,2500)\n",
      "\n",
      "xx_test = xx_test.astype(np.float32)\n",
      "\n",
      "def one_hot(x,n):\n",
      "    if type(x) == list:\n",
      "            x = np.array(x)\n",
      "    x = x.flatten()\n",
      "    o_h = np.zeros((len(x),n))\n",
      "    o_h[np.arange(len(x)),x] = 1\n",
      "    return o_h\n",
      "\n",
      "yy_test = yy_test.astype(int32)    \n",
      "yy_test = one_hot(yy_test, 32)\n",
      "yy_test = yy_test.astype(np.float32)\n",
      "\n",
      "Xt, yt = transform_6(xx_test, yy_test)\n",
      "result = net7.predict(Xt)\n",
      "result = np.array(map((lambda x: np.argmax(x)), result))\n",
      "result.astype(int)"
     ],
     "language": "python",
     "metadata": {},
     "outputs": [
      {
       "metadata": {},
       "output_type": "pyout",
       "prompt_number": 20,
       "text": [
        "array([18, 23, 30, ..., 20, 28, 21])"
       ]
      }
     ],
     "prompt_number": 20
    },
    {
     "cell_type": "code",
     "collapsed": false,
     "input": [
      "df_submission = pd.DataFrame( result.astype(int) ,columns=None)\n",
      "\n",
      "df_submission.to_csv('./Lasagne_5th_try_drop_change.dat', index=None)"
     ],
     "language": "python",
     "metadata": {},
     "outputs": [],
     "prompt_number": 21
    }
   ],
   "metadata": {}
  }
 ]
}