{
 "metadata": {
  "name": ""
 },
 "nbformat": 3,
 "nbformat_minor": 0,
 "worksheets": [
  {
   "cells": [
    {
     "cell_type": "markdown",
     "metadata": {},
     "source": [
      "## Lasagne code try and edit"
     ]
    },
    {
     "cell_type": "markdown",
     "metadata": {},
     "source": [
      "## input our data"
     ]
    },
    {
     "cell_type": "code",
     "collapsed": false,
     "input": [
      "import numpy as np\n",
      "import math\n",
      "import scipy.linalg as sp\n",
      "from sklearn.datasets import load_svmlight_file"
     ],
     "language": "python",
     "metadata": {},
     "outputs": [],
     "prompt_number": 1
    },
    {
     "cell_type": "code",
     "collapsed": false,
     "input": [
      "xx_train, y = load_svmlight_file(\"./phase1/new/new2/hogtrainsymetry.dat\")\n",
      "# print type(xx_train)\n",
      "print xx_train.shape\n",
      "xx_train = np.array(xx_train.todense()).reshape(-1,)\n",
      "# xx_train = xx_train.dtype(np.float32)\n",
      "xx_train = np.float32(xx_train)\n",
      "xx_train = xx_train.reshape(22116,144)\n",
      "# print xx_train.shape\n",
      "print type(xx_train)"
     ],
     "language": "python",
     "metadata": {},
     "outputs": [
      {
       "output_type": "stream",
       "stream": "stdout",
       "text": [
        "(22116, 144)\n",
        "<type 'numpy.ndarray'>\n"
       ]
      }
     ],
     "prompt_number": 3
    },
    {
     "cell_type": "code",
     "collapsed": false,
     "input": [
      "sizee = 12"
     ],
     "language": "python",
     "metadata": {},
     "outputs": [],
     "prompt_number": 4
    },
    {
     "cell_type": "code",
     "collapsed": false,
     "input": [
      "# pylab.ion()\n",
      "# pylab.imshow(xxxx[0],cmap=cm.gray)\n",
      "x = xx_train.reshape(22116,sizee**2)\n",
      "x = x.astype(np.float32)\n",
      "\n",
      "print x.shape\n",
      "print type(x)"
     ],
     "language": "python",
     "metadata": {},
     "outputs": [
      {
       "output_type": "stream",
       "stream": "stdout",
       "text": [
        "(22116, 144)\n",
        "<type 'numpy.ndarray'>\n"
       ]
      }
     ],
     "prompt_number": 5
    },
    {
     "cell_type": "code",
     "collapsed": false,
     "input": [
      "def one_hot(x,n):\n",
      "    if type(x) == list:\n",
      "            x = np.array(x)\n",
      "    x = x.flatten()\n",
      "    o_h = np.zeros((len(x),n))\n",
      "    o_h[np.arange(len(x)),x] = 1\n",
      "    return o_h\n",
      "\n",
      "y = y.astype(int32)    \n",
      "y = one_hot(y, 32)\n",
      "y = y.astype(np.float32)\n",
      "\n",
      "print y.shape"
     ],
     "language": "python",
     "metadata": {},
     "outputs": [
      {
       "output_type": "stream",
       "stream": "stdout",
       "text": [
        "(22116, 32)\n"
       ]
      }
     ],
     "prompt_number": 6
    },
    {
     "cell_type": "markdown",
     "metadata": {},
     "source": [
      "## split data"
     ]
    },
    {
     "cell_type": "code",
     "collapsed": false,
     "input": [
      "from sklearn import cross_validation as cv\n",
      "from sklearn import svm\n",
      "from sklearn import metrics\n",
      "from sklearn import grid_search as gs"
     ],
     "language": "python",
     "metadata": {},
     "outputs": []
    },
    {
     "cell_type": "code",
     "collapsed": false,
     "input": [
      "X_train, X_test, y_train, y_test = cv.train_test_split(x, y, test_size=0.2)"
     ],
     "language": "python",
     "metadata": {},
     "outputs": []
    },
    {
     "cell_type": "code",
     "collapsed": false,
     "input": [
      "print X_train.shape\n",
      "print X_test.shape\n",
      "print y_train.shape\n",
      "print y_test.shape"
     ],
     "language": "python",
     "metadata": {},
     "outputs": []
    },
    {
     "cell_type": "markdown",
     "metadata": {},
     "source": [
      "## First model of Lasagne with single hidden layer"
     ]
    },
    {
     "cell_type": "code",
     "collapsed": false,
     "input": [
      "# add to kfkd.py\n",
      "from lasagne import layers\n",
      "from lasagne.updates import nesterov_momentum\n",
      "from nolearn.lasagne import NeuralNet\n",
      "\n",
      "net1 = NeuralNet(\n",
      "    layers=[  # three layers: one hidden layer\n",
      "        ('input', layers.InputLayer),\n",
      "        ('hidden', layers.DenseLayer),\n",
      "        ('output', layers.DenseLayer),\n",
      "        ],\n",
      "    # layer parameters:\n",
      "    input_shape=(128, 2500),  # 128 images per batch times 100x100 input pixels\n",
      "    hidden_num_units=300,  # number of units in hidden layer\n",
      "    output_nonlinearity=None,  # output layer uses identity function\n",
      "    output_num_units=32,  # 30 target values\n",
      "\n",
      "    # optimization method:\n",
      "    upate=nesterov_momentum,\n",
      "    update_learning_rate=0.01,\n",
      "    update_momentum=0.9,\n",
      "\n",
      "    # regression=False,  # flag to indicate we're dealing with regression problem\n",
      "    regression=True,  # flag to indicate we're dealing with regression problem\n",
      "    max_epochs=1000,  # we want to train this many epochs\n",
      "    verbose=1,\n",
      "    )\n"
     ],
     "language": "python",
     "metadata": {},
     "outputs": [],
     "prompt_number": 10
    },
    {
     "cell_type": "code",
     "collapsed": false,
     "input": [
      "%time net1.fit(X_train, y_train)"
     ],
     "language": "python",
     "metadata": {},
     "outputs": []
    },
    {
     "cell_type": "code",
     "collapsed": false,
     "input": [
      "train_loss = np.array([i[\"train_loss\"] for i in net1.train_history_])\n",
      "valid_loss = np.array([i[\"valid_loss\"] for i in net1.train_history_])\n",
      "pyplot.plot(train_loss, linewidth=3, label=\"train\")\n",
      "pyplot.plot(valid_loss, linewidth=3, label=\"valid\")\n",
      "pyplot.grid()\n",
      "pyplot.legend()\n",
      "pyplot.xlabel(\"epoch\")\n",
      "pyplot.ylabel(\"loss\")\n",
      "pyplot.ylim(2.5e-2, 0.32e-1)\n",
      "# pyplot.yscale(\"log\")\n",
      "pyplot.show()"
     ],
     "language": "python",
     "metadata": {},
     "outputs": []
    },
    {
     "cell_type": "code",
     "collapsed": false,
     "input": [
      "from sklearn import metrics\n",
      "\n",
      "# overfit result, should use validation result\n",
      "y_pred = net1.predict(X_test)\n",
      "# print y_pred[1]\n",
      "# np.argmax(y_pred[i]),np.argmax(y[i])\n",
      "y_pred = np.array(map((lambda x: np.argmax(x)), y_pred))\n",
      "yyy = np.array(map((lambda x: np.argmax(x)), y_test))\n",
      "\n",
      "print metrics.classification_report((yyy), (y_pred))"
     ],
     "language": "python",
     "metadata": {},
     "outputs": []
    },
    {
     "cell_type": "markdown",
     "metadata": {},
     "source": [
      "## NET 6 in the rock"
     ]
    },
    {
     "cell_type": "code",
     "collapsed": false,
     "input": [
      "import theano\n",
      "from lasagne import layers\n",
      "from lasagne.updates import nesterov_momentum\n",
      "from nolearn.lasagne import NeuralNet\n",
      "\n",
      "def float32(k):\n",
      "    return np.cast['float32'](k)\n",
      "\n",
      "class AdjustVariable(object):\n",
      "    def __init__(self, name, start=0.03, stop=0.001):\n",
      "        self.name = name\n",
      "        self.start, self.stop = start, stop\n",
      "        self.ls = None\n",
      "\n",
      "    def __call__(self, nn, train_history):\n",
      "        if self.ls is None:\n",
      "            self.ls = np.linspace(self.start, self.stop, nn.max_epochs)\n",
      "\n",
      "        epoch = train_history[-1]['epoch']\n",
      "        new_value = float32(self.ls[epoch - 1])\n",
      "        getattr(nn, self.name).set_value(new_value)\n",
      "\n",
      "class EarlyStopping(object):\n",
      "    def __init__(self, patience=100):\n",
      "        self.patience = patience\n",
      "        self.best_valid = np.inf\n",
      "        self.best_valid_epoch = 0\n",
      "        self.best_weights = None\n",
      "\n",
      "    def __call__(self, nn, train_history):\n",
      "        current_valid = train_history[-1]['valid_loss']\n",
      "        current_epoch = train_history[-1]['epoch']\n",
      "        if current_valid < self.best_valid:\n",
      "            self.best_valid = current_valid\n",
      "            self.best_valid_epoch = current_epoch\n",
      "            self.best_weights = [w.get_value() for w in nn.get_all_params()]\n",
      "        elif self.best_valid_epoch + self.patience < current_epoch:\n",
      "            print(\"Early stopping.\")\n",
      "            print(\"Best valid loss was {:.6f} at epoch {}.\".format(\n",
      "                self.best_valid, self.best_valid_epoch))\n",
      "            nn.load_weights_from(self.best_weights)\n",
      "            raise StopIteration()\n",
      "        \n",
      "# use the cuda-convnet implementations of conv and max-pool layer\n",
      "Conv2DLayer = layers.cuda_convnet.Conv2DCCLayer\n",
      "MaxPool2DLayer = layers.cuda_convnet.MaxPool2DCCLayer\n",
      "\n",
      "net7 = NeuralNet(\n",
      "    layers=[\n",
      "        ('input', layers.InputLayer),\n",
      "        ('conv1', Conv2DLayer),\n",
      "        ('pool1', MaxPool2DLayer),\n",
      "        ('dropout1', layers.DropoutLayer),  # !\n",
      "        ('conv2', Conv2DLayer),\n",
      "        ('pool2', MaxPool2DLayer),\n",
      "        ('dropout2', layers.DropoutLayer),  # !\n",
      "#         ('conv3', Conv2DLayer),\n",
      "#         ('pool3', MaxPool2DLayer),\n",
      "#         ('dropout3', layers.DropoutLayer),  # !\n",
      "        ('hidden4', layers.DenseLayer),\n",
      "        ('dropout4', layers.DropoutLayer),  # !\n",
      "        ('hidden5', layers.DenseLayer),\n",
      "        ('output', layers.DenseLayer),\n",
      "        ],\n",
      "    input_shape=(128, 1, 12,12),\n",
      "    conv1_num_filters=32, conv1_filter_size=(3, 3), pool1_ds=(2, 2),\n",
      "    # dropout1_p=0.1, # !\n",
      "    dropout1_p=0.1,  # !\n",
      "    conv2_num_filters=64, conv2_filter_size=(2, 2), pool2_ds=(2, 2),\n",
      "    # dropout2_p=0.2,  # !\n",
      "    dropout2_p=0.2,  # !\n",
      "#     conv3_num_filters=128, conv3_filter_size=(2, 2), pool3_ds=(2, 2),\n",
      "#     # dropout3_p=0.3,  # !\n",
      "#     dropout3_p=0.4,  # !\n",
      "    hidden4_num_units=400,\n",
      "    # hidden4_num_units=1000,  # !\n",
      "    dropout4_p=0.4,  # !\n",
      "    hidden5_num_units=400,\n",
      "    # hidden5_num_units=1000,  # !\n",
      "    output_num_units=32, output_nonlinearity=None,\n",
      "\n",
      "    update_learning_rate=theano.shared(float32(0.03)),\n",
      "    update_momentum=theano.shared(float32(0.9)),\n",
      "\n",
      "    regression=True,\n",
      "#     batch_iterator=FlipBatchIterator(batch_size=128),\n",
      "    on_epoch_finished=[\n",
      "        AdjustVariable('update_learning_rate', start=0.03, stop=0.0001),\n",
      "        AdjustVariable('update_momentum', start=0.9, stop=0.999),\n",
      "        EarlyStopping(patience=200),\n",
      "        ],\n",
      "    # max_epochs=3000,\n",
      "    max_epochs=10000,\n",
      "    verbose=1,\n",
      "    )"
     ],
     "language": "python",
     "metadata": {},
     "outputs": [],
     "prompt_number": 14
    },
    {
     "cell_type": "code",
     "collapsed": false,
     "input": [
      "def transform_6(X,y):\n",
      "    X = X.reshape(-1, 12,12, 1)\n",
      "    X = X.transpose(0, 3, 1, 2)\n",
      "    return X, y\n",
      "\n",
      "# X_train = X_train.reshape(-1,1,sizee,sizee)\n",
      "# X_test = X_test.reshape(-1, 1,sizee,sizee)\n",
      "# X_train.shape"
     ],
     "language": "python",
     "metadata": {},
     "outputs": [],
     "prompt_number": 8
    },
    {
     "cell_type": "code",
     "collapsed": false,
     "input": [
      "import sys\n",
      "sys.setrecursionlimit(10000)\n",
      "\n",
      "X_6, y_6 = transform_6(x, y)\n",
      "%time net7.fit(X_6, y_6)\n",
      "\n",
      "import cPickle as pickle\n",
      "with open('Lasagne_8th_hog.pickle', 'wb') as f:\n",
      "    pickle.dump(net7, f, -1)"
     ],
     "language": "python",
     "metadata": {},
     "outputs": [
      {
       "output_type": "stream",
       "stream": "stdout",
       "text": [
        "  InputLayer        \t(128, 1, 12, 12)    \tproduces     144 outputs\n",
        "  Conv2DCCLayer     \t(128, 32, 10, 10)   \tproduces    3200 outputs\n",
        "  MaxPool2DCCLayer  \t(128, 32, 5, 5)     \tproduces     800 outputs\n",
        "  DropoutLayer      \t(128, 32, 5, 5)     \tproduces     800 outputs\n",
        "  Conv2DCCLayer     \t(128, 64, 4, 4)     \tproduces    1024 outputs\n",
        "  MaxPool2DCCLayer  \t(128, 64, 2, 2)     \tproduces     256 outputs\n",
        "  DropoutLayer      \t(128, 64, 2, 2)     \tproduces     256 outputs\n",
        "  DenseLayer        \t(128, 500)          \tproduces     500 outputs\n",
        "  DropoutLayer      \t(128, 500)          \tproduces     500 outputs\n",
        "  DenseLayer        \t(128, 500)          \tproduces     500 outputs\n",
        "  DenseLayer        \t(128, 32)           \tproduces      32 outputs\n",
        "\n",
        " Epoch  |  Train loss  |  Valid loss  |  Train / Val  |  Valid acc  |  Dur\n",
        "--------|--------------|--------------|---------------|-------------|-------"
       ]
      },
      {
       "output_type": "stream",
       "stream": "stdout",
       "text": [
        "\n",
        "     1  |  \u001b[94m  0.030497\u001b[0m  |  \u001b[32m  0.030249\u001b[0m  |     1.008195  |             |  0.7s"
       ]
      },
      {
       "output_type": "stream",
       "stream": "stdout",
       "text": [
        "\n",
        "     2  |  \u001b[94m  0.030253\u001b[0m  |  \u001b[32m  0.030210\u001b[0m  |     1.001394  |             |  0.7s"
       ]
      },
      {
       "output_type": "stream",
       "stream": "stdout",
       "text": [
        "\n",
        "     3  |  \u001b[94m  0.030214\u001b[0m  |  \u001b[32m  0.030178\u001b[0m  |     1.001208  |             |  0.7s"
       ]
      },
      {
       "output_type": "stream",
       "stream": "stdout",
       "text": [
        "\n",
        "     4  |  \u001b[94m  0.030189\u001b[0m  |  \u001b[32m  0.030152\u001b[0m  |     1.001216  |             |  0.7s"
       ]
      },
      {
       "output_type": "stream",
       "stream": "stdout",
       "text": [
        "\n",
        "     5  |  \u001b[94m  0.030161\u001b[0m  |  \u001b[32m  0.030128\u001b[0m  |     1.001123  |             |  0.7s"
       ]
      },
      {
       "output_type": "stream",
       "stream": "stdout",
       "text": [
        "\n",
        "     6  |  \u001b[94m  0.030146\u001b[0m  |  \u001b[32m  0.030109\u001b[0m  |     1.001244  |             |  0.7s"
       ]
      },
      {
       "output_type": "stream",
       "stream": "stdout",
       "text": [
        "\n",
        "     7  |  \u001b[94m  0.030123\u001b[0m  |  \u001b[32m  0.030087\u001b[0m  |     1.001196  |             |  0.7s"
       ]
      },
      {
       "output_type": "stream",
       "stream": "stdout",
       "text": [
        "\n",
        "     8  |  \u001b[94m  0.030108\u001b[0m  |  \u001b[32m  0.030071\u001b[0m  |     1.001251  |             |  0.7s"
       ]
      },
      {
       "output_type": "stream",
       "stream": "stdout",
       "text": [
        "\n",
        "     9  |  \u001b[94m  0.030096\u001b[0m  |  \u001b[32m  0.030056\u001b[0m  |     1.001354  |             |  0.7s"
       ]
      },
      {
       "output_type": "stream",
       "stream": "stdout",
       "text": [
        "\n",
        "    10  |  \u001b[94m  0.030081\u001b[0m  |  \u001b[32m  0.030038\u001b[0m  |     1.001443  |             |  0.7s"
       ]
      },
      {
       "output_type": "stream",
       "stream": "stdout",
       "text": [
        "\n",
        "    11  |  \u001b[94m  0.030070\u001b[0m  |  \u001b[32m  0.030025\u001b[0m  |     1.001500  |             |  0.7s"
       ]
      },
      {
       "output_type": "stream",
       "stream": "stdout",
       "text": [
        "\n",
        "    12  |  \u001b[94m  0.030057\u001b[0m  |  \u001b[32m  0.030007\u001b[0m  |     1.001677  |             |  0.7s"
       ]
      },
      {
       "output_type": "stream",
       "stream": "stdout",
       "text": [
        "\n",
        "    13  |  \u001b[94m  0.030040\u001b[0m  |  \u001b[32m  0.029990\u001b[0m  |     1.001689  |             |  0.7s"
       ]
      },
      {
       "output_type": "stream",
       "stream": "stdout",
       "text": [
        "\n",
        "    14  |  \u001b[94m  0.030024\u001b[0m  |  \u001b[32m  0.029978\u001b[0m  |     1.001519  |             |  0.7s"
       ]
      },
      {
       "output_type": "stream",
       "stream": "stdout",
       "text": [
        "\n",
        "    15  |  \u001b[94m  0.030020\u001b[0m  |  \u001b[32m  0.029962\u001b[0m  |     1.001939  |             |  0.7s"
       ]
      },
      {
       "output_type": "stream",
       "stream": "stdout",
       "text": [
        "\n",
        "    16  |  \u001b[94m  0.030003\u001b[0m  |  \u001b[32m  0.029941\u001b[0m  |     1.002082  |             |  0.7s"
       ]
      },
      {
       "output_type": "stream",
       "stream": "stdout",
       "text": [
        "\n",
        "    17  |  \u001b[94m  0.029989\u001b[0m  |  \u001b[32m  0.029928\u001b[0m  |     1.002038  |             |  0.7s"
       ]
      },
      {
       "output_type": "stream",
       "stream": "stdout",
       "text": [
        "\n",
        "    18  |  \u001b[94m  0.029962\u001b[0m  |  \u001b[32m  0.029906\u001b[0m  |     1.001849  |             |  0.7s"
       ]
      },
      {
       "output_type": "stream",
       "stream": "stdout",
       "text": [
        "\n",
        "    19  |  \u001b[94m  0.029958\u001b[0m  |  \u001b[32m  0.029883\u001b[0m  |     1.002490  |             |  0.7s"
       ]
      },
      {
       "output_type": "stream",
       "stream": "stdout",
       "text": [
        "\n",
        "    20  |  \u001b[94m  0.029938\u001b[0m  |  \u001b[32m  0.029865\u001b[0m  |     1.002443  |             |  0.7s"
       ]
      },
      {
       "output_type": "stream",
       "stream": "stdout",
       "text": [
        "\n",
        "    21  |  \u001b[94m  0.029919\u001b[0m  |  \u001b[32m  0.029841\u001b[0m  |     1.002603  |             |  0.7s"
       ]
      },
      {
       "output_type": "stream",
       "stream": "stdout",
       "text": [
        "\n",
        "    22  |  \u001b[94m  0.029904\u001b[0m  |  \u001b[32m  0.029827\u001b[0m  |     1.002568  |             |  0.7s"
       ]
      },
      {
       "output_type": "stream",
       "stream": "stdout",
       "text": [
        "\n",
        "    23  |  \u001b[94m  0.029885\u001b[0m  |  \u001b[32m  0.029805\u001b[0m  |     1.002663  |             |  0.7s"
       ]
      },
      {
       "output_type": "stream",
       "stream": "stdout",
       "text": [
        "\n",
        "    24  |  \u001b[94m  0.029869\u001b[0m  |  \u001b[32m  0.029778\u001b[0m  |     1.003058  |             |  0.7s"
       ]
      },
      {
       "output_type": "stream",
       "stream": "stdout",
       "text": [
        "\n",
        "    25  |  \u001b[94m  0.029857\u001b[0m  |  \u001b[32m  0.029758\u001b[0m  |     1.003318  |             |  0.7s"
       ]
      },
      {
       "output_type": "stream",
       "stream": "stdout",
       "text": [
        "\n",
        "    26  |  \u001b[94m  0.029832\u001b[0m  |  \u001b[32m  0.029731\u001b[0m  |     1.003407  |             |  0.7s"
       ]
      },
      {
       "output_type": "stream",
       "stream": "stdout",
       "text": [
        "\n",
        "    27  |  \u001b[94m  0.029817\u001b[0m  |  \u001b[32m  0.029714\u001b[0m  |     1.003445  |             |  0.7s"
       ]
      },
      {
       "output_type": "stream",
       "stream": "stdout",
       "text": [
        "\n",
        "    28  |  \u001b[94m  0.029791\u001b[0m  |  \u001b[32m  0.029689\u001b[0m  |     1.003426  |             |  0.7s"
       ]
      },
      {
       "output_type": "stream",
       "stream": "stdout",
       "text": [
        "\n",
        "    29  |  \u001b[94m  0.029768\u001b[0m  |  \u001b[32m  0.029664\u001b[0m  |     1.003499  |             |  0.7s"
       ]
      },
      {
       "output_type": "stream",
       "stream": "stdout",
       "text": [
        "\n",
        "    30  |  \u001b[94m  0.029750\u001b[0m  |  \u001b[32m  0.029638\u001b[0m  |     1.003763  |             |  0.7s"
       ]
      },
      {
       "output_type": "stream",
       "stream": "stdout",
       "text": [
        "\n",
        "    31  |  \u001b[94m  0.029727\u001b[0m  |  \u001b[32m  0.029612\u001b[0m  |     1.003871  |             |  0.7s"
       ]
      },
      {
       "output_type": "stream",
       "stream": "stdout",
       "text": [
        "\n",
        "    32  |  \u001b[94m  0.029708\u001b[0m  |  \u001b[32m  0.029585\u001b[0m  |     1.004174  |             |  0.7s"
       ]
      },
      {
       "output_type": "stream",
       "stream": "stdout",
       "text": [
        "\n",
        "    33  |  \u001b[94m  0.029672\u001b[0m  |  \u001b[32m  0.029555\u001b[0m  |     1.003933  |             |  0.7s"
       ]
      },
      {
       "output_type": "stream",
       "stream": "stdout",
       "text": [
        "\n",
        "    34  |  \u001b[94m  0.029667\u001b[0m  |  \u001b[32m  0.029533\u001b[0m  |     1.004542  |             |  0.7s"
       ]
      },
      {
       "output_type": "stream",
       "stream": "stdout",
       "text": [
        "\n",
        "    35  |  \u001b[94m  0.029646\u001b[0m  |  \u001b[32m  0.029506\u001b[0m  |     1.004758  |             |  0.7s"
       ]
      },
      {
       "output_type": "stream",
       "stream": "stdout",
       "text": [
        "\n",
        "    36  |  \u001b[94m  0.029626\u001b[0m  |  \u001b[32m  0.029485\u001b[0m  |     1.004759  |             |  0.7s"
       ]
      },
      {
       "output_type": "stream",
       "stream": "stdout",
       "text": [
        "\n",
        "    37  |  \u001b[94m  0.029602\u001b[0m  |  \u001b[32m  0.029464\u001b[0m  |     1.004674  |             |  0.7s"
       ]
      },
      {
       "output_type": "stream",
       "stream": "stdout",
       "text": [
        "\n",
        "    38  |  \u001b[94m  0.029582\u001b[0m  |  \u001b[32m  0.029427\u001b[0m  |     1.005247  |             |  0.7s"
       ]
      },
      {
       "output_type": "stream",
       "stream": "stdout",
       "text": [
        "\n",
        "    39  |  \u001b[94m  0.029571\u001b[0m  |  \u001b[32m  0.029415\u001b[0m  |     1.005287  |             |  0.7s"
       ]
      },
      {
       "output_type": "stream",
       "stream": "stdout",
       "text": [
        "\n",
        "    40  |  \u001b[94m  0.029548\u001b[0m  |  \u001b[32m  0.029384\u001b[0m  |     1.005585  |             |  0.7s"
       ]
      },
      {
       "output_type": "stream",
       "stream": "stdout",
       "text": [
        "\n",
        "    41  |  \u001b[94m  0.029531\u001b[0m  |  \u001b[32m  0.029358\u001b[0m  |     1.005867  |             |  0.7s"
       ]
      },
      {
       "output_type": "stream",
       "stream": "stdout",
       "text": [
        "\n",
        "    42  |  \u001b[94m  0.029510\u001b[0m  |  \u001b[32m  0.029350\u001b[0m  |     1.005450  |             |  0.7s"
       ]
      },
      {
       "output_type": "stream",
       "stream": "stdout",
       "text": [
        "\n",
        "    43  |  \u001b[94m  0.029486\u001b[0m  |  \u001b[32m  0.029313\u001b[0m  |     1.005898  |             |  0.7s"
       ]
      },
      {
       "output_type": "stream",
       "stream": "stdout",
       "text": [
        "\n",
        "    44  |  \u001b[94m  0.029466\u001b[0m  |  \u001b[32m  0.029308\u001b[0m  |     1.005372  |             |  0.7s"
       ]
      },
      {
       "output_type": "stream",
       "stream": "stdout",
       "text": [
        "\n",
        "    45  |  \u001b[94m  0.029461\u001b[0m  |  \u001b[32m  0.029270\u001b[0m  |     1.006519  |             |  0.7s"
       ]
      },
      {
       "output_type": "stream",
       "stream": "stdout",
       "text": [
        "\n",
        "    46  |  \u001b[94m  0.029448\u001b[0m  |  \u001b[32m  0.029252\u001b[0m  |     1.006698  |             |  0.7s"
       ]
      },
      {
       "output_type": "stream",
       "stream": "stdout",
       "text": [
        "\n",
        "    47  |  \u001b[94m  0.029427\u001b[0m  |  \u001b[32m  0.029229\u001b[0m  |     1.006751  |             |  0.7s"
       ]
      },
      {
       "output_type": "stream",
       "stream": "stdout",
       "text": [
        "\n",
        "    48  |  \u001b[94m  0.029408\u001b[0m  |  \u001b[32m  0.029210\u001b[0m  |     1.006763  |             |  0.7s"
       ]
      },
      {
       "output_type": "stream",
       "stream": "stdout",
       "text": [
        "\n",
        "    49  |  \u001b[94m  0.029397\u001b[0m  |  \u001b[32m  0.029194\u001b[0m  |     1.006958  |             |  0.7s"
       ]
      },
      {
       "output_type": "stream",
       "stream": "stdout",
       "text": [
        "\n",
        "    50  |  \u001b[94m  0.029390\u001b[0m  |  \u001b[32m  0.029173\u001b[0m  |     1.007425  |             |  0.7s"
       ]
      },
      {
       "output_type": "stream",
       "stream": "stdout",
       "text": [
        "\n",
        "    51  |  \u001b[94m  0.029366\u001b[0m  |  \u001b[32m  0.029163\u001b[0m  |     1.006957  |             |  0.7s"
       ]
      },
      {
       "output_type": "stream",
       "stream": "stdout",
       "text": [
        "\n",
        "    52  |  \u001b[94m  0.029339\u001b[0m  |  \u001b[32m  0.029141\u001b[0m  |     1.006804  |             |  0.7s"
       ]
      },
      {
       "output_type": "stream",
       "stream": "stdout",
       "text": [
        "\n",
        "    53  |  \u001b[94m  0.029327\u001b[0m  |  \u001b[32m  0.029114\u001b[0m  |     1.007314  |             |  0.7s"
       ]
      },
      {
       "output_type": "stream",
       "stream": "stdout",
       "text": [
        "\n",
        "    54  |  \u001b[94m  0.029322\u001b[0m  |  \u001b[32m  0.029100\u001b[0m  |     1.007632  |             |  0.7s"
       ]
      },
      {
       "output_type": "stream",
       "stream": "stdout",
       "text": [
        "\n",
        "    55  |  \u001b[94m  0.029305\u001b[0m  |  \u001b[32m  0.029079\u001b[0m  |     1.007769  |             |  0.7s"
       ]
      },
      {
       "output_type": "stream",
       "stream": "stdout",
       "text": [
        "\n",
        "    56  |  \u001b[94m  0.029289\u001b[0m  |  \u001b[32m  0.029057\u001b[0m  |     1.008005  |             |  0.7s"
       ]
      },
      {
       "output_type": "stream",
       "stream": "stdout",
       "text": [
        "\n",
        "    57  |  \u001b[94m  0.029264\u001b[0m  |  \u001b[32m  0.029051\u001b[0m  |     1.007352  |             |  0.7s"
       ]
      },
      {
       "output_type": "stream",
       "stream": "stdout",
       "text": [
        "\n",
        "    58  |  \u001b[94m  0.029260\u001b[0m  |  \u001b[32m  0.029027\u001b[0m  |     1.008044  |             |  0.7s"
       ]
      },
      {
       "output_type": "stream",
       "stream": "stdout",
       "text": [
        "\n",
        "    59  |  \u001b[94m  0.029253\u001b[0m  |  \u001b[32m  0.029000\u001b[0m  |     1.008727  |             |  0.7s"
       ]
      },
      {
       "output_type": "stream",
       "stream": "stdout",
       "text": [
        "\n",
        "    60  |  \u001b[94m  0.029224\u001b[0m  |  \u001b[32m  0.028992\u001b[0m  |     1.008027  |             |  0.7s"
       ]
      },
      {
       "output_type": "stream",
       "stream": "stdout",
       "text": [
        "\n",
        "    61  |    0.029225  |  \u001b[32m  0.028981\u001b[0m  |     1.008433  |             |  0.7s"
       ]
      },
      {
       "output_type": "stream",
       "stream": "stdout",
       "text": [
        "\n",
        "    62  |  \u001b[94m  0.029192\u001b[0m  |  \u001b[32m  0.028950\u001b[0m  |     1.008337  |             |  0.7s"
       ]
      },
      {
       "output_type": "stream",
       "stream": "stdout",
       "text": [
        "\n",
        "    63  |    0.029195  |  \u001b[32m  0.028936\u001b[0m  |     1.008953  |             |  0.7s"
       ]
      },
      {
       "output_type": "stream",
       "stream": "stdout",
       "text": [
        "\n",
        "    64  |  \u001b[94m  0.029176\u001b[0m  |  \u001b[32m  0.028924\u001b[0m  |     1.008703  |             |  0.7s"
       ]
      },
      {
       "output_type": "stream",
       "stream": "stdout",
       "text": [
        "\n",
        "    65  |  \u001b[94m  0.029157\u001b[0m  |  \u001b[32m  0.028889\u001b[0m  |     1.009280  |             |  0.7s"
       ]
      },
      {
       "output_type": "stream",
       "stream": "stdout",
       "text": [
        "\n",
        "    66  |  \u001b[94m  0.029148\u001b[0m  |  \u001b[32m  0.028888\u001b[0m  |     1.008971  |             |  0.7s"
       ]
      },
      {
       "output_type": "stream",
       "stream": "stdout",
       "text": [
        "\n",
        "    67  |  \u001b[94m  0.029141\u001b[0m  |  \u001b[32m  0.028875\u001b[0m  |     1.009196  |             |  0.7s"
       ]
      },
      {
       "output_type": "stream",
       "stream": "stdout",
       "text": [
        "\n",
        "    68  |  \u001b[94m  0.029124\u001b[0m  |  \u001b[32m  0.028847\u001b[0m  |     1.009597  |             |  0.7s"
       ]
      },
      {
       "output_type": "stream",
       "stream": "stdout",
       "text": [
        "\n",
        "    69  |  \u001b[94m  0.029096\u001b[0m  |  \u001b[32m  0.028828\u001b[0m  |     1.009297  |             |  0.7s"
       ]
      },
      {
       "output_type": "stream",
       "stream": "stdout",
       "text": [
        "\n",
        "    70  |  \u001b[94m  0.029095\u001b[0m  |  \u001b[32m  0.028815\u001b[0m  |     1.009732  |             |  0.7s"
       ]
      },
      {
       "output_type": "stream",
       "stream": "stdout",
       "text": [
        "\n",
        "    71  |  \u001b[94m  0.029076\u001b[0m  |  \u001b[32m  0.028802\u001b[0m  |     1.009517  |             |  0.7s"
       ]
      },
      {
       "output_type": "stream",
       "stream": "stdout",
       "text": [
        "\n",
        "    72  |  \u001b[94m  0.029055\u001b[0m  |  \u001b[32m  0.028785\u001b[0m  |     1.009368  |             |  0.7s"
       ]
      },
      {
       "output_type": "stream",
       "stream": "stdout",
       "text": [
        "\n",
        "    73  |  \u001b[94m  0.029054\u001b[0m  |  \u001b[32m  0.028751\u001b[0m  |     1.010553  |             |  0.7s"
       ]
      },
      {
       "output_type": "stream",
       "stream": "stdout",
       "text": [
        "\n",
        "    74  |  \u001b[94m  0.029032\u001b[0m  |  \u001b[32m  0.028731\u001b[0m  |     1.010474  |             |  0.7s"
       ]
      },
      {
       "output_type": "stream",
       "stream": "stdout",
       "text": [
        "\n",
        "    75  |  \u001b[94m  0.029009\u001b[0m  |  \u001b[32m  0.028731\u001b[0m  |     1.009678  |             |  0.7s"
       ]
      },
      {
       "output_type": "stream",
       "stream": "stdout",
       "text": [
        "\n",
        "    76  |  \u001b[94m  0.029007\u001b[0m  |  \u001b[32m  0.028704\u001b[0m  |     1.010580  |             |  0.7s"
       ]
      },
      {
       "output_type": "stream",
       "stream": "stdout",
       "text": [
        "\n",
        "    77  |  \u001b[94m  0.028993\u001b[0m  |  \u001b[32m  0.028682\u001b[0m  |     1.010845  |             |  0.7s"
       ]
      },
      {
       "output_type": "stream",
       "stream": "stdout",
       "text": [
        "\n",
        "    78  |  \u001b[94m  0.028980\u001b[0m  |    0.028685  |     1.010280  |             |  0.7s"
       ]
      },
      {
       "output_type": "stream",
       "stream": "stdout",
       "text": [
        "\n",
        "    79  |  \u001b[94m  0.028947\u001b[0m  |  \u001b[32m  0.028650\u001b[0m  |     1.010348  |             |  0.7s"
       ]
      },
      {
       "output_type": "stream",
       "stream": "stdout",
       "text": [
        "\n",
        "    80  |    0.028948  |  \u001b[32m  0.028634\u001b[0m  |     1.010944  |             |  0.7s"
       ]
      },
      {
       "output_type": "stream",
       "stream": "stdout",
       "text": [
        "\n",
        "    81  |  \u001b[94m  0.028932\u001b[0m  |  \u001b[32m  0.028610\u001b[0m  |     1.011236  |             |  0.7s"
       ]
      },
      {
       "output_type": "stream",
       "stream": "stdout",
       "text": [
        "\n",
        "    82  |  \u001b[94m  0.028920\u001b[0m  |  \u001b[32m  0.028604\u001b[0m  |     1.011047  |             |  0.7s"
       ]
      },
      {
       "output_type": "stream",
       "stream": "stdout",
       "text": [
        "\n",
        "    83  |  \u001b[94m  0.028907\u001b[0m  |  \u001b[32m  0.028598\u001b[0m  |     1.010791  |             |  0.7s"
       ]
      },
      {
       "output_type": "stream",
       "stream": "stdout",
       "text": [
        "\n",
        "    84  |  \u001b[94m  0.028884\u001b[0m  |  \u001b[32m  0.028562\u001b[0m  |     1.011279  |             |  0.7s"
       ]
      },
      {
       "output_type": "stream",
       "stream": "stdout",
       "text": [
        "\n",
        "    85  |  \u001b[94m  0.028877\u001b[0m  |  \u001b[32m  0.028557\u001b[0m  |     1.011210  |             |  0.7s"
       ]
      },
      {
       "output_type": "stream",
       "stream": "stdout",
       "text": [
        "\n",
        "    86  |    0.028880  |  \u001b[32m  0.028538\u001b[0m  |     1.011990  |             |  0.7s"
       ]
      },
      {
       "output_type": "stream",
       "stream": "stdout",
       "text": [
        "\n",
        "    87  |  \u001b[94m  0.028853\u001b[0m  |  \u001b[32m  0.028520\u001b[0m  |     1.011663  |             |  0.7s"
       ]
      },
      {
       "output_type": "stream",
       "stream": "stdout",
       "text": [
        "\n",
        "    88  |  \u001b[94m  0.028832\u001b[0m  |  \u001b[32m  0.028501\u001b[0m  |     1.011610  |             |  0.7s"
       ]
      },
      {
       "output_type": "stream",
       "stream": "stdout",
       "text": [
        "\n",
        "    89  |    0.028837  |  \u001b[32m  0.028492\u001b[0m  |     1.012087  |             |  0.7s"
       ]
      },
      {
       "output_type": "stream",
       "stream": "stdout",
       "text": [
        "\n",
        "    90  |  \u001b[94m  0.028819\u001b[0m  |  \u001b[32m  0.028474\u001b[0m  |     1.012121  |             |  0.7s"
       ]
      },
      {
       "output_type": "stream",
       "stream": "stdout",
       "text": [
        "\n",
        "    91  |  \u001b[94m  0.028799\u001b[0m  |  \u001b[32m  0.028450\u001b[0m  |     1.012250  |             |  0.7s"
       ]
      },
      {
       "output_type": "stream",
       "stream": "stdout",
       "text": [
        "\n",
        "    92  |  \u001b[94m  0.028777\u001b[0m  |  \u001b[32m  0.028421\u001b[0m  |     1.012505  |             |  0.7s"
       ]
      },
      {
       "output_type": "stream",
       "stream": "stdout",
       "text": [
        "\n",
        "    93  |    0.028779  |    0.028429  |     1.012320  |             |  0.7s"
       ]
      },
      {
       "output_type": "stream",
       "stream": "stdout",
       "text": [
        "\n",
        "    94  |  \u001b[94m  0.028754\u001b[0m  |  \u001b[32m  0.028398\u001b[0m  |     1.012545  |             |  0.7s"
       ]
      },
      {
       "output_type": "stream",
       "stream": "stdout",
       "text": [
        "\n",
        "    95  |    0.028755  |  \u001b[32m  0.028379\u001b[0m  |     1.013251  |             |  0.7s"
       ]
      },
      {
       "output_type": "stream",
       "stream": "stdout",
       "text": [
        "\n",
        "    96  |  \u001b[94m  0.028719\u001b[0m  |  \u001b[32m  0.028351\u001b[0m  |     1.012963  |             |  0.7s"
       ]
      },
      {
       "output_type": "stream",
       "stream": "stdout",
       "text": [
        "\n",
        "    97  |  \u001b[94m  0.028715\u001b[0m  |  \u001b[32m  0.028344\u001b[0m  |     1.013075  |             |  0.7s"
       ]
      },
      {
       "output_type": "stream",
       "stream": "stdout",
       "text": [
        "\n",
        "    98  |  \u001b[94m  0.028697\u001b[0m  |  \u001b[32m  0.028322\u001b[0m  |     1.013254  |             |  0.7s"
       ]
      },
      {
       "output_type": "stream",
       "stream": "stdout",
       "text": [
        "\n",
        "    99  |  \u001b[94m  0.028670\u001b[0m  |  \u001b[32m  0.028295\u001b[0m  |     1.013238  |             |  0.7s"
       ]
      },
      {
       "output_type": "stream",
       "stream": "stdout",
       "text": [
        "\n",
        "   100  |  \u001b[94m  0.028666\u001b[0m  |  \u001b[32m  0.028279\u001b[0m  |     1.013700  |             |  0.7s"
       ]
      },
      {
       "output_type": "stream",
       "stream": "stdout",
       "text": [
        "\n",
        "   101  |  \u001b[94m  0.028658\u001b[0m  |  \u001b[32m  0.028268\u001b[0m  |     1.013800  |             |  0.7s"
       ]
      },
      {
       "output_type": "stream",
       "stream": "stdout",
       "text": [
        "\n",
        "   102  |  \u001b[94m  0.028629\u001b[0m  |  \u001b[32m  0.028264\u001b[0m  |     1.012900  |             |  0.7s"
       ]
      },
      {
       "output_type": "stream",
       "stream": "stdout",
       "text": [
        "\n",
        "   103  |  \u001b[94m  0.028606\u001b[0m  |  \u001b[32m  0.028215\u001b[0m  |     1.013853  |             |  0.7s"
       ]
      },
      {
       "output_type": "stream",
       "stream": "stdout",
       "text": [
        "\n",
        "   104  |    0.028616  |    0.028224  |     1.013888  |             |  0.7s"
       ]
      },
      {
       "output_type": "stream",
       "stream": "stdout",
       "text": [
        "\n",
        "   105  |  \u001b[94m  0.028592\u001b[0m  |  \u001b[32m  0.028198\u001b[0m  |     1.014002  |             |  0.7s"
       ]
      },
      {
       "output_type": "stream",
       "stream": "stdout",
       "text": [
        "\n",
        "   106  |  \u001b[94m  0.028571\u001b[0m  |  \u001b[32m  0.028179\u001b[0m  |     1.013902  |             |  0.7s"
       ]
      },
      {
       "output_type": "stream",
       "stream": "stdout",
       "text": [
        "\n",
        "   107  |  \u001b[94m  0.028563\u001b[0m  |  \u001b[32m  0.028146\u001b[0m  |     1.014797  |             |  0.7s"
       ]
      },
      {
       "output_type": "stream",
       "stream": "stdout",
       "text": [
        "\n",
        "   108  |  \u001b[94m  0.028555\u001b[0m  |    0.028154  |     1.014263  |             |  0.7s"
       ]
      },
      {
       "output_type": "stream",
       "stream": "stdout",
       "text": [
        "\n",
        "   109  |  \u001b[94m  0.028517\u001b[0m  |  \u001b[32m  0.028109\u001b[0m  |     1.014548  |             |  0.7s"
       ]
      },
      {
       "output_type": "stream",
       "stream": "stdout",
       "text": [
        "\n",
        "   110  |    0.028529  |  \u001b[32m  0.028091\u001b[0m  |     1.015578  |             |  0.7s"
       ]
      },
      {
       "output_type": "stream",
       "stream": "stdout",
       "text": [
        "\n",
        "   111  |    0.028523  |  \u001b[32m  0.028071\u001b[0m  |     1.016090  |             |  0.7s"
       ]
      },
      {
       "output_type": "stream",
       "stream": "stdout",
       "text": [
        "\n",
        "   112  |  \u001b[94m  0.028509\u001b[0m  |    0.028091  |     1.014888  |             |  0.7s"
       ]
      },
      {
       "output_type": "stream",
       "stream": "stdout",
       "text": [
        "\n",
        "   113  |  \u001b[94m  0.028482\u001b[0m  |  \u001b[32m  0.028051\u001b[0m  |     1.015370  |             |  0.7s"
       ]
      },
      {
       "output_type": "stream",
       "stream": "stdout",
       "text": [
        "\n",
        "   114  |  \u001b[94m  0.028472\u001b[0m  |  \u001b[32m  0.028034\u001b[0m  |     1.015622  |             |  0.7s"
       ]
      },
      {
       "output_type": "stream",
       "stream": "stdout",
       "text": [
        "\n",
        "   115  |  \u001b[94m  0.028436\u001b[0m  |  \u001b[32m  0.028015\u001b[0m  |     1.015029  |             |  0.7s"
       ]
      },
      {
       "output_type": "stream",
       "stream": "stdout",
       "text": [
        "\n",
        "   116  |    0.028450  |  \u001b[32m  0.027990\u001b[0m  |     1.016410  |             |  0.7s"
       ]
      },
      {
       "output_type": "stream",
       "stream": "stdout",
       "text": [
        "\n",
        "   117  |  \u001b[94m  0.028429\u001b[0m  |  \u001b[32m  0.027980\u001b[0m  |     1.016048  |             |  0.7s"
       ]
      },
      {
       "output_type": "stream",
       "stream": "stdout",
       "text": [
        "\n",
        "   118  |  \u001b[94m  0.028422\u001b[0m  |  \u001b[32m  0.027971\u001b[0m  |     1.016151  |             |  0.7s"
       ]
      },
      {
       "output_type": "stream",
       "stream": "stdout",
       "text": [
        "\n",
        "   119  |  \u001b[94m  0.028391\u001b[0m  |  \u001b[32m  0.027938\u001b[0m  |     1.016204  |             |  0.7s"
       ]
      },
      {
       "output_type": "stream",
       "stream": "stdout",
       "text": [
        "\n",
        "   120  |  \u001b[94m  0.028375\u001b[0m  |    0.027946  |     1.015353  |             |  0.7s"
       ]
      },
      {
       "output_type": "stream",
       "stream": "stdout",
       "text": [
        "\n",
        "   121  |    0.028380  |  \u001b[32m  0.027915\u001b[0m  |     1.016662  |             |  0.7s"
       ]
      },
      {
       "output_type": "stream",
       "stream": "stdout",
       "text": [
        "\n",
        "   122  |  \u001b[94m  0.028332\u001b[0m  |  \u001b[32m  0.027906\u001b[0m  |     1.015268  |             |  0.7s"
       ]
      },
      {
       "output_type": "stream",
       "stream": "stdout",
       "text": [
        "\n",
        "   123  |  \u001b[94m  0.028327\u001b[0m  |  \u001b[32m  0.027866\u001b[0m  |     1.016532  |             |  0.7s"
       ]
      },
      {
       "output_type": "stream",
       "stream": "stdout",
       "text": [
        "\n",
        "   124  |  \u001b[94m  0.028325\u001b[0m  |  \u001b[32m  0.027864\u001b[0m  |     1.016555  |             |  0.7s"
       ]
      },
      {
       "output_type": "stream",
       "stream": "stdout",
       "text": [
        "\n",
        "   125  |  \u001b[94m  0.028324\u001b[0m  |  \u001b[32m  0.027857\u001b[0m  |     1.016769  |             |  0.7s"
       ]
      },
      {
       "output_type": "stream",
       "stream": "stdout",
       "text": [
        "\n",
        "   126  |  \u001b[94m  0.028306\u001b[0m  |  \u001b[32m  0.027832\u001b[0m  |     1.017017  |             |  0.7s"
       ]
      },
      {
       "output_type": "stream",
       "stream": "stdout",
       "text": [
        "\n",
        "   127  |  \u001b[94m  0.028281\u001b[0m  |  \u001b[32m  0.027808\u001b[0m  |     1.017008  |             |  0.7s"
       ]
      },
      {
       "output_type": "stream",
       "stream": "stdout",
       "text": [
        "\n",
        "   128  |    0.028293  |  \u001b[32m  0.027804\u001b[0m  |     1.017564  |             |  0.7s"
       ]
      },
      {
       "output_type": "stream",
       "stream": "stdout",
       "text": [
        "\n",
        "   129  |  \u001b[94m  0.028274\u001b[0m  |  \u001b[32m  0.027762\u001b[0m  |     1.018447  |             |  0.7s"
       ]
      },
      {
       "output_type": "stream",
       "stream": "stdout",
       "text": [
        "\n",
        "   130  |  \u001b[94m  0.028244\u001b[0m  |    0.027769  |     1.017129  |             |  0.7s"
       ]
      },
      {
       "output_type": "stream",
       "stream": "stdout",
       "text": [
        "\n",
        "   131  |  \u001b[94m  0.028242\u001b[0m  |  \u001b[32m  0.027739\u001b[0m  |     1.018139  |             |  0.7s"
       ]
      },
      {
       "output_type": "stream",
       "stream": "stdout",
       "text": [
        "\n",
        "   132  |  \u001b[94m  0.028228\u001b[0m  |  \u001b[32m  0.027731\u001b[0m  |     1.017938  |             |  0.7s"
       ]
      },
      {
       "output_type": "stream",
       "stream": "stdout",
       "text": [
        "\n",
        "   133  |  \u001b[94m  0.028197\u001b[0m  |  \u001b[32m  0.027705\u001b[0m  |     1.017742  |             |  0.7s"
       ]
      },
      {
       "output_type": "stream",
       "stream": "stdout",
       "text": [
        "\n",
        "   134  |  \u001b[94m  0.028173\u001b[0m  |    0.027710  |     1.016702  |             |  0.7s"
       ]
      },
      {
       "output_type": "stream",
       "stream": "stdout",
       "text": [
        "\n",
        "   135  |    0.028217  |  \u001b[32m  0.027687\u001b[0m  |     1.019150  |             |  0.7s"
       ]
      },
      {
       "output_type": "stream",
       "stream": "stdout",
       "text": [
        "\n",
        "   136  |  \u001b[94m  0.028162\u001b[0m  |  \u001b[32m  0.027664\u001b[0m  |     1.017997  |             |  0.7s"
       ]
      },
      {
       "output_type": "stream",
       "stream": "stdout",
       "text": [
        "\n",
        "   137  |    0.028164  |  \u001b[32m  0.027651\u001b[0m  |     1.018548  |             |  0.7s"
       ]
      },
      {
       "output_type": "stream",
       "stream": "stdout",
       "text": [
        "\n",
        "   138  |  \u001b[94m  0.028151\u001b[0m  |  \u001b[32m  0.027630\u001b[0m  |     1.018860  |             |  0.7s"
       ]
      },
      {
       "output_type": "stream",
       "stream": "stdout",
       "text": [
        "\n",
        "   139  |  \u001b[94m  0.028138\u001b[0m  |  \u001b[32m  0.027621\u001b[0m  |     1.018723  |             |  0.7s"
       ]
      },
      {
       "output_type": "stream",
       "stream": "stdout",
       "text": [
        "\n",
        "   140  |  \u001b[94m  0.028117\u001b[0m  |  \u001b[32m  0.027617\u001b[0m  |     1.018113  |             |  0.7s"
       ]
      },
      {
       "output_type": "stream",
       "stream": "stdout",
       "text": [
        "\n",
        "   141  |    0.028118  |  \u001b[32m  0.027606\u001b[0m  |     1.018543  |             |  0.7s"
       ]
      },
      {
       "output_type": "stream",
       "stream": "stdout",
       "text": [
        "\n",
        "   142  |  \u001b[94m  0.028091\u001b[0m  |  \u001b[32m  0.027579\u001b[0m  |     1.018573  |             |  0.7s"
       ]
      },
      {
       "output_type": "stream",
       "stream": "stdout",
       "text": [
        "\n",
        "   143  |    0.028100  |  \u001b[32m  0.027559\u001b[0m  |     1.019659  |             |  0.7s"
       ]
      },
      {
       "output_type": "stream",
       "stream": "stdout",
       "text": [
        "\n",
        "   144  |  \u001b[94m  0.028070\u001b[0m  |  \u001b[32m  0.027557\u001b[0m  |     1.018640  |             |  0.7s"
       ]
      },
      {
       "output_type": "stream",
       "stream": "stdout",
       "text": [
        "\n",
        "   145  |    0.028092  |  \u001b[32m  0.027540\u001b[0m  |     1.020031  |             |  0.7s"
       ]
      },
      {
       "output_type": "stream",
       "stream": "stdout",
       "text": [
        "\n",
        "   146  |  \u001b[94m  0.028043\u001b[0m  |  \u001b[32m  0.027530\u001b[0m  |     1.018646  |             |  0.7s"
       ]
      },
      {
       "output_type": "stream",
       "stream": "stdout",
       "text": [
        "\n",
        "   147  |  \u001b[94m  0.028039\u001b[0m  |  \u001b[32m  0.027510\u001b[0m  |     1.019218  |             |  0.7s"
       ]
      },
      {
       "output_type": "stream",
       "stream": "stdout",
       "text": [
        "\n",
        "   148  |  \u001b[94m  0.028025\u001b[0m  |  \u001b[32m  0.027496\u001b[0m  |     1.019252  |             |  0.7s"
       ]
      },
      {
       "output_type": "stream",
       "stream": "stdout",
       "text": [
        "\n",
        "   149  |  \u001b[94m  0.028017\u001b[0m  |  \u001b[32m  0.027482\u001b[0m  |     1.019464  |             |  0.7s"
       ]
      },
      {
       "output_type": "stream",
       "stream": "stdout",
       "text": [
        "\n",
        "   150  |  \u001b[94m  0.028004\u001b[0m  |  \u001b[32m  0.027479\u001b[0m  |     1.019123  |             |  0.7s"
       ]
      },
      {
       "output_type": "stream",
       "stream": "stdout",
       "text": [
        "\n",
        "   151  |  \u001b[94m  0.027995\u001b[0m  |  \u001b[32m  0.027455\u001b[0m  |     1.019661  |             |  0.7s"
       ]
      },
      {
       "output_type": "stream",
       "stream": "stdout",
       "text": [
        "\n",
        "   152  |  \u001b[94m  0.027986\u001b[0m  |  \u001b[32m  0.027452\u001b[0m  |     1.019434  |             |  0.7s"
       ]
      },
      {
       "output_type": "stream",
       "stream": "stdout",
       "text": [
        "\n",
        "   153  |  \u001b[94m  0.027973\u001b[0m  |  \u001b[32m  0.027437\u001b[0m  |     1.019516  |             |  0.7s"
       ]
      },
      {
       "output_type": "stream",
       "stream": "stdout",
       "text": [
        "\n",
        "   154  |  \u001b[94m  0.027970\u001b[0m  |  \u001b[32m  0.027426\u001b[0m  |     1.019850  |             |  0.7s"
       ]
      },
      {
       "output_type": "stream",
       "stream": "stdout",
       "text": [
        "\n",
        "   155  |  \u001b[94m  0.027959\u001b[0m  |  \u001b[32m  0.027402\u001b[0m  |     1.020343  |             |  0.7s"
       ]
      },
      {
       "output_type": "stream",
       "stream": "stdout",
       "text": [
        "\n",
        "   156  |  \u001b[94m  0.027955\u001b[0m  |  \u001b[32m  0.027399\u001b[0m  |     1.020302  |             |  0.7s"
       ]
      },
      {
       "output_type": "stream",
       "stream": "stdout",
       "text": [
        "\n",
        "   157  |  \u001b[94m  0.027945\u001b[0m  |  \u001b[32m  0.027374\u001b[0m  |     1.020845  |             |  0.7s"
       ]
      },
      {
       "output_type": "stream",
       "stream": "stdout",
       "text": [
        "\n",
        "   158  |  \u001b[94m  0.027904\u001b[0m  |  \u001b[32m  0.027367\u001b[0m  |     1.019631  |             |  0.7s"
       ]
      },
      {
       "output_type": "stream",
       "stream": "stdout",
       "text": [
        "\n",
        "   159  |  \u001b[94m  0.027902\u001b[0m  |  \u001b[32m  0.027351\u001b[0m  |     1.020134  |             |  0.7s"
       ]
      },
      {
       "output_type": "stream",
       "stream": "stdout",
       "text": [
        "\n",
        "   160  |  \u001b[94m  0.027901\u001b[0m  |  \u001b[32m  0.027332\u001b[0m  |     1.020820  |             |  0.7s"
       ]
      },
      {
       "output_type": "stream",
       "stream": "stdout",
       "text": [
        "\n",
        "   161  |  \u001b[94m  0.027889\u001b[0m  |    0.027334  |     1.020292  |             |  0.7s"
       ]
      },
      {
       "output_type": "stream",
       "stream": "stdout",
       "text": [
        "\n",
        "   162  |  \u001b[94m  0.027888\u001b[0m  |  \u001b[32m  0.027312\u001b[0m  |     1.021090  |             |  0.7s"
       ]
      },
      {
       "output_type": "stream",
       "stream": "stdout",
       "text": [
        "\n",
        "   163  |  \u001b[94m  0.027873\u001b[0m  |  \u001b[32m  0.027311\u001b[0m  |     1.020581  |             |  0.7s"
       ]
      },
      {
       "output_type": "stream",
       "stream": "stdout",
       "text": [
        "\n",
        "   164  |  \u001b[94m  0.027847\u001b[0m  |  \u001b[32m  0.027288\u001b[0m  |     1.020477  |             |  0.7s"
       ]
      },
      {
       "output_type": "stream",
       "stream": "stdout",
       "text": [
        "\n",
        "   165  |  \u001b[94m  0.027840\u001b[0m  |  \u001b[32m  0.027279\u001b[0m  |     1.020536  |             |  0.7s"
       ]
      },
      {
       "output_type": "stream",
       "stream": "stdout",
       "text": [
        "\n",
        "   166  |  \u001b[94m  0.027831\u001b[0m  |  \u001b[32m  0.027246\u001b[0m  |     1.021469  |             |  0.7s"
       ]
      },
      {
       "output_type": "stream",
       "stream": "stdout",
       "text": [
        "\n",
        "   167  |  \u001b[94m  0.027822\u001b[0m  |    0.027267  |     1.020369  |             |  0.7s"
       ]
      },
      {
       "output_type": "stream",
       "stream": "stdout",
       "text": [
        "\n",
        "   168  |  \u001b[94m  0.027793\u001b[0m  |  \u001b[32m  0.027240\u001b[0m  |     1.020291  |             |  0.7s"
       ]
      },
      {
       "output_type": "stream",
       "stream": "stdout",
       "text": [
        "\n",
        "   169  |    0.027816  |  \u001b[32m  0.027239\u001b[0m  |     1.021169  |             |  0.7s"
       ]
      },
      {
       "output_type": "stream",
       "stream": "stdout",
       "text": [
        "\n",
        "   170  |    0.027820  |  \u001b[32m  0.027216\u001b[0m  |     1.022190  |             |  0.7s"
       ]
      },
      {
       "output_type": "stream",
       "stream": "stdout",
       "text": [
        "\n",
        "   171  |  \u001b[94m  0.027792\u001b[0m  |    0.027224  |     1.020880  |             |  0.7s"
       ]
      },
      {
       "output_type": "stream",
       "stream": "stdout",
       "text": [
        "\n",
        "   172  |  \u001b[94m  0.027790\u001b[0m  |  \u001b[32m  0.027211\u001b[0m  |     1.021269  |             |  0.7s"
       ]
      },
      {
       "output_type": "stream",
       "stream": "stdout",
       "text": [
        "\n",
        "   173  |  \u001b[94m  0.027775\u001b[0m  |  \u001b[32m  0.027197\u001b[0m  |     1.021239  |             |  0.7s"
       ]
      },
      {
       "output_type": "stream",
       "stream": "stdout",
       "text": [
        "\n",
        "   174  |  \u001b[94m  0.027767\u001b[0m  |  \u001b[32m  0.027172\u001b[0m  |     1.021910  |             |  0.7s"
       ]
      },
      {
       "output_type": "stream",
       "stream": "stdout",
       "text": [
        "\n",
        "   175  |  \u001b[94m  0.027740\u001b[0m  |  \u001b[32m  0.027171\u001b[0m  |     1.020939  |             |  0.7s"
       ]
      },
      {
       "output_type": "stream",
       "stream": "stdout",
       "text": [
        "\n",
        "   176  |    0.027749  |  \u001b[32m  0.027164\u001b[0m  |     1.021523  |             |  0.7s"
       ]
      },
      {
       "output_type": "stream",
       "stream": "stdout",
       "text": [
        "\n",
        "   177  |  \u001b[94m  0.027724\u001b[0m  |  \u001b[32m  0.027145\u001b[0m  |     1.021359  |             |  0.7s"
       ]
      },
      {
       "output_type": "stream",
       "stream": "stdout",
       "text": [
        "\n",
        "   178  |  \u001b[94m  0.027705\u001b[0m  |  \u001b[32m  0.027126\u001b[0m  |     1.021354  |             |  0.7s"
       ]
      },
      {
       "output_type": "stream",
       "stream": "stdout",
       "text": [
        "\n",
        "   179  |    0.027716  |    0.027139  |     1.021282  |             |  0.7s"
       ]
      },
      {
       "output_type": "stream",
       "stream": "stdout",
       "text": [
        "\n",
        "   180  |  \u001b[94m  0.027693\u001b[0m  |    0.027130  |     1.020732  |             |  0.7s"
       ]
      },
      {
       "output_type": "stream",
       "stream": "stdout",
       "text": [
        "\n",
        "   181  |  \u001b[94m  0.027688\u001b[0m  |  \u001b[32m  0.027122\u001b[0m  |     1.020877  |             |  0.7s"
       ]
      },
      {
       "output_type": "stream",
       "stream": "stdout",
       "text": [
        "\n",
        "   182  |  \u001b[94m  0.027672\u001b[0m  |  \u001b[32m  0.027076\u001b[0m  |     1.022016  |             |  0.7s"
       ]
      },
      {
       "output_type": "stream",
       "stream": "stdout",
       "text": [
        "\n",
        "   183  |    0.027688  |    0.027085  |     1.022266  |             |  0.7s"
       ]
      },
      {
       "output_type": "stream",
       "stream": "stdout",
       "text": [
        "\n",
        "   184  |  \u001b[94m  0.027647\u001b[0m  |  \u001b[32m  0.027055\u001b[0m  |     1.021869  |             |  0.7s"
       ]
      },
      {
       "output_type": "stream",
       "stream": "stdout",
       "text": [
        "\n",
        "   185  |  \u001b[94m  0.027642\u001b[0m  |    0.027075  |     1.020948  |             |  0.7s"
       ]
      },
      {
       "output_type": "stream",
       "stream": "stdout",
       "text": [
        "\n",
        "   186  |    0.027651  |  \u001b[32m  0.027031\u001b[0m  |     1.022939  |             |  0.7s"
       ]
      },
      {
       "output_type": "stream",
       "stream": "stdout",
       "text": [
        "\n",
        "   187  |    0.027678  |    0.027055  |     1.023018  |             |  0.7s"
       ]
      },
      {
       "output_type": "stream",
       "stream": "stdout",
       "text": [
        "\n",
        "   188  |  \u001b[94m  0.027634\u001b[0m  |    0.027032  |     1.022262  |             |  0.7s"
       ]
      },
      {
       "output_type": "stream",
       "stream": "stdout",
       "text": [
        "\n",
        "   189  |  \u001b[94m  0.027626\u001b[0m  |  \u001b[32m  0.027006\u001b[0m  |     1.022966  |             |  0.7s"
       ]
      },
      {
       "output_type": "stream",
       "stream": "stdout",
       "text": [
        "\n",
        "   190  |  \u001b[94m  0.027622\u001b[0m  |  \u001b[32m  0.026998\u001b[0m  |     1.023131  |             |  0.7s"
       ]
      },
      {
       "output_type": "stream",
       "stream": "stdout",
       "text": [
        "\n",
        "   191  |    0.027629  |  \u001b[32m  0.026996\u001b[0m  |     1.023460  |             |  0.7s"
       ]
      },
      {
       "output_type": "stream",
       "stream": "stdout",
       "text": [
        "\n",
        "   192  |  \u001b[94m  0.027569\u001b[0m  |  \u001b[32m  0.026983\u001b[0m  |     1.021696  |             |  0.7s"
       ]
      },
      {
       "output_type": "stream",
       "stream": "stdout",
       "text": [
        "\n",
        "   193  |    0.027576  |  \u001b[32m  0.026983\u001b[0m  |     1.021986  |             |  0.7s"
       ]
      },
      {
       "output_type": "stream",
       "stream": "stdout",
       "text": [
        "\n",
        "   194  |    0.027592  |  \u001b[32m  0.026938\u001b[0m  |     1.024280  |             |  0.7s"
       ]
      },
      {
       "output_type": "stream",
       "stream": "stdout",
       "text": [
        "\n",
        "   195  |    0.027572  |    0.026940  |     1.023446  |             |  0.7s"
       ]
      },
      {
       "output_type": "stream",
       "stream": "stdout",
       "text": [
        "\n",
        "   196  |  \u001b[94m  0.027548\u001b[0m  |    0.026948  |     1.022259  |             |  0.7s"
       ]
      },
      {
       "output_type": "stream",
       "stream": "stdout",
       "text": [
        "\n",
        "   197  |    0.027556  |  \u001b[32m  0.026926\u001b[0m  |     1.023389  |             |  0.7s"
       ]
      },
      {
       "output_type": "stream",
       "stream": "stdout",
       "text": [
        "\n",
        "   198  |    0.027548  |    0.026933  |     1.022853  |             |  0.7s"
       ]
      },
      {
       "output_type": "stream",
       "stream": "stdout",
       "text": [
        "\n",
        "   199  |  \u001b[94m  0.027516\u001b[0m  |  \u001b[32m  0.026907\u001b[0m  |     1.022609  |             |  0.7s"
       ]
      },
      {
       "output_type": "stream",
       "stream": "stdout",
       "text": [
        "\n",
        "   200  |    0.027525  |  \u001b[32m  0.026900\u001b[0m  |     1.023240  |             |  0.7s"
       ]
      },
      {
       "output_type": "stream",
       "stream": "stdout",
       "text": [
        "\n",
        "   201  |    0.027536  |  \u001b[32m  0.026894\u001b[0m  |     1.023844  |             |  0.7s"
       ]
      },
      {
       "output_type": "stream",
       "stream": "stdout",
       "text": [
        "\n",
        "   202  |  \u001b[94m  0.027508\u001b[0m  |  \u001b[32m  0.026876\u001b[0m  |     1.023522  |             |  0.7s"
       ]
      },
      {
       "output_type": "stream",
       "stream": "stdout",
       "text": [
        "\n",
        "   203  |  \u001b[94m  0.027484\u001b[0m  |  \u001b[32m  0.026860\u001b[0m  |     1.023218  |             |  0.7s"
       ]
      },
      {
       "output_type": "stream",
       "stream": "stdout",
       "text": [
        "\n",
        "   204  |  \u001b[94m  0.027459\u001b[0m  |  \u001b[32m  0.026848\u001b[0m  |     1.022771  |             |  0.7s"
       ]
      },
      {
       "output_type": "stream",
       "stream": "stdout",
       "text": [
        "\n",
        "   205  |    0.027473  |  \u001b[32m  0.026843\u001b[0m  |     1.023481  |             |  0.7s"
       ]
      },
      {
       "output_type": "stream",
       "stream": "stdout",
       "text": [
        "\n",
        "   206  |    0.027469  |  \u001b[32m  0.026827\u001b[0m  |     1.023923  |             |  0.7s"
       ]
      },
      {
       "output_type": "stream",
       "stream": "stdout",
       "text": [
        "\n",
        "   207  |    0.027460  |  \u001b[32m  0.026806\u001b[0m  |     1.024393  |             |  0.7s"
       ]
      },
      {
       "output_type": "stream",
       "stream": "stdout",
       "text": [
        "\n",
        "   208  |  \u001b[94m  0.027434\u001b[0m  |    0.026822  |     1.022808  |             |  0.7s"
       ]
      },
      {
       "output_type": "stream",
       "stream": "stdout",
       "text": [
        "\n",
        "   209  |  \u001b[94m  0.027434\u001b[0m  |    0.026807  |     1.023360  |             |  0.7s"
       ]
      },
      {
       "output_type": "stream",
       "stream": "stdout",
       "text": [
        "\n",
        "   210  |  \u001b[94m  0.027417\u001b[0m  |  \u001b[32m  0.026805\u001b[0m  |     1.022825  |             |  0.7s"
       ]
      },
      {
       "output_type": "stream",
       "stream": "stdout",
       "text": [
        "\n",
        "   211  |    0.027427  |  \u001b[32m  0.026799\u001b[0m  |     1.023443  |             |  0.7s"
       ]
      },
      {
       "output_type": "stream",
       "stream": "stdout",
       "text": [
        "\n",
        "   212  |    0.027439  |  \u001b[32m  0.026783\u001b[0m  |     1.024500  |             |  0.7s"
       ]
      },
      {
       "output_type": "stream",
       "stream": "stdout",
       "text": [
        "\n",
        "   213  |  \u001b[94m  0.027411\u001b[0m  |  \u001b[32m  0.026762\u001b[0m  |     1.024244  |             |  0.7s"
       ]
      },
      {
       "output_type": "stream",
       "stream": "stdout",
       "text": [
        "\n",
        "   214  |    0.027415  |    0.026773  |     1.023957  |             |  0.7s"
       ]
      },
      {
       "output_type": "stream",
       "stream": "stdout",
       "text": [
        "\n",
        "   215  |  \u001b[94m  0.027402\u001b[0m  |  \u001b[32m  0.026757\u001b[0m  |     1.024108  |             |  0.7s"
       ]
      },
      {
       "output_type": "stream",
       "stream": "stdout",
       "text": [
        "\n",
        "   216  |  \u001b[94m  0.027365\u001b[0m  |  \u001b[32m  0.026747\u001b[0m  |     1.023091  |             |  0.7s"
       ]
      },
      {
       "output_type": "stream",
       "stream": "stdout",
       "text": [
        "\n",
        "   217  |    0.027383  |  \u001b[32m  0.026718\u001b[0m  |     1.024894  |             |  0.7s"
       ]
      },
      {
       "output_type": "stream",
       "stream": "stdout",
       "text": [
        "\n",
        "   218  |  \u001b[94m  0.027357\u001b[0m  |    0.026724  |     1.023659  |             |  0.7s"
       ]
      },
      {
       "output_type": "stream",
       "stream": "stdout",
       "text": [
        "\n",
        "   219  |    0.027368  |  \u001b[32m  0.026716\u001b[0m  |     1.024395  |             |  0.7s"
       ]
      },
      {
       "output_type": "stream",
       "stream": "stdout",
       "text": [
        "\n",
        "   220  |  \u001b[94m  0.027337\u001b[0m  |  \u001b[32m  0.026696\u001b[0m  |     1.024014  |             |  0.7s"
       ]
      },
      {
       "output_type": "stream",
       "stream": "stdout",
       "text": [
        "\n",
        "   221  |  \u001b[94m  0.027334\u001b[0m  |    0.026714  |     1.023194  |             |  0.7s"
       ]
      },
      {
       "output_type": "stream",
       "stream": "stdout",
       "text": [
        "\n",
        "   222  |    0.027336  |  \u001b[32m  0.026687\u001b[0m  |     1.024300  |             |  0.7s"
       ]
      },
      {
       "output_type": "stream",
       "stream": "stdout",
       "text": [
        "\n",
        "   223  |    0.027357  |    0.026689  |     1.025020  |             |  0.7s"
       ]
      },
      {
       "output_type": "stream",
       "stream": "stdout",
       "text": [
        "\n",
        "   224  |  \u001b[94m  0.027319\u001b[0m  |  \u001b[32m  0.026644\u001b[0m  |     1.025344  |             |  0.7s"
       ]
      },
      {
       "output_type": "stream",
       "stream": "stdout",
       "text": [
        "\n",
        "   225  |  \u001b[94m  0.027305\u001b[0m  |    0.026670  |     1.023833  |             |  0.7s"
       ]
      },
      {
       "output_type": "stream",
       "stream": "stdout",
       "text": [
        "\n",
        "   226  |  \u001b[94m  0.027294\u001b[0m  |    0.026661  |     1.023729  |             |  0.7s"
       ]
      },
      {
       "output_type": "stream",
       "stream": "stdout",
       "text": [
        "\n",
        "   227  |    0.027304  |    0.026663  |     1.024052  |             |  0.7s"
       ]
      },
      {
       "output_type": "stream",
       "stream": "stdout",
       "text": [
        "\n",
        "   228  |  \u001b[94m  0.027290\u001b[0m  |  \u001b[32m  0.026622\u001b[0m  |     1.025099  |             |  0.7s"
       ]
      },
      {
       "output_type": "stream",
       "stream": "stdout",
       "text": [
        "\n",
        "   229  |  \u001b[94m  0.027259\u001b[0m  |  \u001b[32m  0.026610\u001b[0m  |     1.024385  |             |  0.7s"
       ]
      },
      {
       "output_type": "stream",
       "stream": "stdout",
       "text": [
        "\n",
        "   230  |    0.027285  |    0.026626  |     1.024738  |             |  0.7s"
       ]
      },
      {
       "output_type": "stream",
       "stream": "stdout",
       "text": [
        "\n",
        "   231  |  \u001b[94m  0.027253\u001b[0m  |    0.026611  |     1.024143  |             |  0.7s"
       ]
      },
      {
       "output_type": "stream",
       "stream": "stdout",
       "text": [
        "\n",
        "   232  |    0.027255  |  \u001b[32m  0.026580\u001b[0m  |     1.025379  |             |  0.7s"
       ]
      },
      {
       "output_type": "stream",
       "stream": "stdout",
       "text": [
        "\n",
        "   233  |    0.027263  |  \u001b[32m  0.026575\u001b[0m  |     1.025901  |             |  0.7s"
       ]
      },
      {
       "output_type": "stream",
       "stream": "stdout",
       "text": [
        "\n",
        "   234  |  \u001b[94m  0.027246\u001b[0m  |  \u001b[32m  0.026568\u001b[0m  |     1.025523  |             |  0.7s"
       ]
      },
      {
       "output_type": "stream",
       "stream": "stdout",
       "text": [
        "\n",
        "   235  |  \u001b[94m  0.027243\u001b[0m  |  \u001b[32m  0.026565\u001b[0m  |     1.025520  |             |  0.7s"
       ]
      },
      {
       "output_type": "stream",
       "stream": "stdout",
       "text": [
        "\n",
        "   236  |  \u001b[94m  0.027208\u001b[0m  |  \u001b[32m  0.026556\u001b[0m  |     1.024543  |             |  0.7s"
       ]
      },
      {
       "output_type": "stream",
       "stream": "stdout",
       "text": [
        "\n",
        "   237  |    0.027240  |  \u001b[32m  0.026534\u001b[0m  |     1.026598  |             |  0.7s"
       ]
      },
      {
       "output_type": "stream",
       "stream": "stdout",
       "text": [
        "\n",
        "   238  |  \u001b[94m  0.027193\u001b[0m  |    0.026542  |     1.024541  |             |  0.7s"
       ]
      },
      {
       "output_type": "stream",
       "stream": "stdout",
       "text": [
        "\n",
        "   239  |    0.027209  |  \u001b[32m  0.026531\u001b[0m  |     1.025549  |             |  0.7s"
       ]
      },
      {
       "output_type": "stream",
       "stream": "stdout",
       "text": [
        "\n",
        "   240  |    0.027207  |  \u001b[32m  0.026516\u001b[0m  |     1.026063  |             |  0.7s"
       ]
      },
      {
       "output_type": "stream",
       "stream": "stdout",
       "text": [
        "\n",
        "   241  |    0.027197  |  \u001b[32m  0.026499\u001b[0m  |     1.026353  |             |  0.7s"
       ]
      },
      {
       "output_type": "stream",
       "stream": "stdout",
       "text": [
        "\n",
        "   242  |    0.027201  |  \u001b[32m  0.026494\u001b[0m  |     1.026675  |             |  0.7s"
       ]
      },
      {
       "output_type": "stream",
       "stream": "stdout",
       "text": [
        "\n",
        "   243  |  \u001b[94m  0.027169\u001b[0m  |  \u001b[32m  0.026478\u001b[0m  |     1.026087  |             |  0.7s"
       ]
      },
      {
       "output_type": "stream",
       "stream": "stdout",
       "text": [
        "\n",
        "   244  |  \u001b[94m  0.027165\u001b[0m  |  \u001b[32m  0.026464\u001b[0m  |     1.026465  |             |  0.7s"
       ]
      },
      {
       "output_type": "stream",
       "stream": "stdout",
       "text": [
        "\n",
        "   245  |  \u001b[94m  0.027143\u001b[0m  |  \u001b[32m  0.026458\u001b[0m  |     1.025876  |             |  0.7s"
       ]
      },
      {
       "output_type": "stream",
       "stream": "stdout",
       "text": [
        "\n",
        "   246  |    0.027151  |    0.026472  |     1.025686  |             |  0.7s"
       ]
      },
      {
       "output_type": "stream",
       "stream": "stdout",
       "text": [
        "\n",
        "   247  |  \u001b[94m  0.027136\u001b[0m  |  \u001b[32m  0.026435\u001b[0m  |     1.026546  |             |  0.7s"
       ]
      },
      {
       "output_type": "stream",
       "stream": "stdout",
       "text": [
        "\n",
        "   248  |  \u001b[94m  0.027130\u001b[0m  |  \u001b[32m  0.026431\u001b[0m  |     1.026466  |             |  0.7s"
       ]
      },
      {
       "output_type": "stream",
       "stream": "stdout",
       "text": [
        "\n",
        "   249  |  \u001b[94m  0.027127\u001b[0m  |  \u001b[32m  0.026423\u001b[0m  |     1.026662  |             |  0.7s"
       ]
      },
      {
       "output_type": "stream",
       "stream": "stdout",
       "text": [
        "\n",
        "   250  |    0.027132  |  \u001b[32m  0.026398\u001b[0m  |     1.027794  |             |  0.7s"
       ]
      },
      {
       "output_type": "stream",
       "stream": "stdout",
       "text": [
        "\n",
        "   251  |  \u001b[94m  0.027115\u001b[0m  |    0.026405  |     1.026887  |             |  0.7s"
       ]
      },
      {
       "output_type": "stream",
       "stream": "stdout",
       "text": [
        "\n",
        "   252  |  \u001b[94m  0.027090\u001b[0m  |  \u001b[32m  0.026388\u001b[0m  |     1.026614  |             |  0.7s"
       ]
      },
      {
       "output_type": "stream",
       "stream": "stdout",
       "text": [
        "\n",
        "   253  |  \u001b[94m  0.027059\u001b[0m  |    0.026395  |     1.025175  |             |  0.7s"
       ]
      },
      {
       "output_type": "stream",
       "stream": "stdout",
       "text": [
        "\n",
        "   254  |    0.027103  |  \u001b[32m  0.026377\u001b[0m  |     1.027513  |             |  0.7s"
       ]
      },
      {
       "output_type": "stream",
       "stream": "stdout",
       "text": [
        "\n",
        "   255  |    0.027090  |  \u001b[32m  0.026374\u001b[0m  |     1.027180  |             |  0.7s"
       ]
      },
      {
       "output_type": "stream",
       "stream": "stdout",
       "text": [
        "\n",
        "   256  |    0.027066  |  \u001b[32m  0.026362\u001b[0m  |     1.026699  |             |  0.7s"
       ]
      },
      {
       "output_type": "stream",
       "stream": "stdout",
       "text": [
        "\n",
        "   257  |  \u001b[94m  0.027037\u001b[0m  |  \u001b[32m  0.026325\u001b[0m  |     1.027042  |             |  0.7s"
       ]
      },
      {
       "output_type": "stream",
       "stream": "stdout",
       "text": [
        "\n",
        "   258  |    0.027048  |    0.026330  |     1.027263  |             |  0.7s"
       ]
      },
      {
       "output_type": "stream",
       "stream": "stdout",
       "text": [
        "\n",
        "   259  |    0.027044  |    0.026347  |     1.026439  |             |  0.7s"
       ]
      },
      {
       "output_type": "stream",
       "stream": "stdout",
       "text": [
        "\n",
        "   260  |  \u001b[94m  0.026995\u001b[0m  |  \u001b[32m  0.026322\u001b[0m  |     1.025587  |             |  0.7s"
       ]
      },
      {
       "output_type": "stream",
       "stream": "stdout",
       "text": [
        "\n",
        "   261  |    0.027015  |  \u001b[32m  0.026304\u001b[0m  |     1.027014  |             |  0.7s"
       ]
      },
      {
       "output_type": "stream",
       "stream": "stdout",
       "text": [
        "\n",
        "   262  |    0.027018  |  \u001b[32m  0.026293\u001b[0m  |     1.027546  |             |  0.7s"
       ]
      },
      {
       "output_type": "stream",
       "stream": "stdout",
       "text": [
        "\n",
        "   263  |    0.027047  |  \u001b[32m  0.026292\u001b[0m  |     1.028731  |             |  0.7s"
       ]
      },
      {
       "output_type": "stream",
       "stream": "stdout",
       "text": [
        "\n",
        "   264  |    0.027008  |  \u001b[32m  0.026290\u001b[0m  |     1.027285  |             |  0.7s"
       ]
      },
      {
       "output_type": "stream",
       "stream": "stdout",
       "text": [
        "\n",
        "   265  |    0.027022  |  \u001b[32m  0.026267\u001b[0m  |     1.028723  |             |  0.7s"
       ]
      },
      {
       "output_type": "stream",
       "stream": "stdout",
       "text": [
        "\n",
        "   266  |  \u001b[94m  0.026987\u001b[0m  |  \u001b[32m  0.026265\u001b[0m  |     1.027495  |             |  0.7s"
       ]
      },
      {
       "output_type": "stream",
       "stream": "stdout",
       "text": [
        "\n",
        "   267  |  \u001b[94m  0.026969\u001b[0m  |  \u001b[32m  0.026242\u001b[0m  |     1.027730  |             |  0.7s"
       ]
      },
      {
       "output_type": "stream",
       "stream": "stdout",
       "text": [
        "\n",
        "   268  |  \u001b[94m  0.026942\u001b[0m  |  \u001b[32m  0.026236\u001b[0m  |     1.026892  |             |  0.7s"
       ]
      },
      {
       "output_type": "stream",
       "stream": "stdout",
       "text": [
        "\n",
        "   269  |    0.026961  |  \u001b[32m  0.026222\u001b[0m  |     1.028191  |             |  0.7s"
       ]
      },
      {
       "output_type": "stream",
       "stream": "stdout",
       "text": [
        "\n",
        "   270  |    0.026982  |  \u001b[32m  0.026216\u001b[0m  |     1.029225  |             |  0.7s"
       ]
      },
      {
       "output_type": "stream",
       "stream": "stdout",
       "text": [
        "\n",
        "   271  |    0.026944  |    0.026224  |     1.027470  |             |  0.7s"
       ]
      },
      {
       "output_type": "stream",
       "stream": "stdout",
       "text": [
        "\n",
        "   272  |  \u001b[94m  0.026915\u001b[0m  |  \u001b[32m  0.026200\u001b[0m  |     1.027278  |             |  0.7s"
       ]
      },
      {
       "output_type": "stream",
       "stream": "stdout",
       "text": [
        "\n",
        "   273  |    0.026945  |    0.026214  |     1.027891  |             |  0.7s"
       ]
      },
      {
       "output_type": "stream",
       "stream": "stdout",
       "text": [
        "\n",
        "   274  |    0.026929  |  \u001b[32m  0.026183\u001b[0m  |     1.028507  |             |  0.7s"
       ]
      },
      {
       "output_type": "stream",
       "stream": "stdout",
       "text": [
        "\n",
        "   275  |  \u001b[94m  0.026885\u001b[0m  |  \u001b[32m  0.026152\u001b[0m  |     1.028018  |             |  0.7s"
       ]
      },
      {
       "output_type": "stream",
       "stream": "stdout",
       "text": [
        "\n",
        "   276  |  \u001b[94m  0.026885\u001b[0m  |    0.026160  |     1.027696  |             |  0.7s"
       ]
      },
      {
       "output_type": "stream",
       "stream": "stdout",
       "text": [
        "\n",
        "   277  |  \u001b[94m  0.026871\u001b[0m  |    0.026157  |     1.027301  |             |  0.7s"
       ]
      },
      {
       "output_type": "stream",
       "stream": "stdout",
       "text": [
        "\n",
        "   278  |    0.026878  |  \u001b[32m  0.026148\u001b[0m  |     1.027945  |             |  0.7s"
       ]
      },
      {
       "output_type": "stream",
       "stream": "stdout",
       "text": [
        "\n",
        "   279  |    0.026888  |    0.026154  |     1.028065  |             |  0.7s"
       ]
      },
      {
       "output_type": "stream",
       "stream": "stdout",
       "text": [
        "\n",
        "   280  |  \u001b[94m  0.026854\u001b[0m  |    0.026150  |     1.026892  |             |  0.7s"
       ]
      },
      {
       "output_type": "stream",
       "stream": "stdout",
       "text": [
        "\n",
        "   281  |    0.026905  |  \u001b[32m  0.026115\u001b[0m  |     1.030262  |             |  0.7s"
       ]
      },
      {
       "output_type": "stream",
       "stream": "stdout",
       "text": [
        "\n",
        "   282  |    0.026878  |  \u001b[32m  0.026093\u001b[0m  |     1.030095  |             |  0.7s"
       ]
      },
      {
       "output_type": "stream",
       "stream": "stdout",
       "text": [
        "\n",
        "   283  |    0.026869  |    0.026106  |     1.029229  |             |  0.7s"
       ]
      },
      {
       "output_type": "stream",
       "stream": "stdout",
       "text": [
        "\n",
        "   284  |  \u001b[94m  0.026832\u001b[0m  |  \u001b[32m  0.026082\u001b[0m  |     1.028772  |             |  0.7s"
       ]
      },
      {
       "output_type": "stream",
       "stream": "stdout",
       "text": [
        "\n",
        "   285  |    0.026835  |    0.026084  |     1.028779  |             |  0.7s"
       ]
      },
      {
       "output_type": "stream",
       "stream": "stdout",
       "text": [
        "\n",
        "   286  |  \u001b[94m  0.026805\u001b[0m  |  \u001b[32m  0.026063\u001b[0m  |     1.028478  |             |  0.7s"
       ]
      },
      {
       "output_type": "stream",
       "stream": "stdout",
       "text": [
        "\n",
        "   287  |  \u001b[94m  0.026801\u001b[0m  |    0.026068  |     1.028115  |             |  0.7s"
       ]
      },
      {
       "output_type": "stream",
       "stream": "stdout",
       "text": [
        "\n",
        "   288  |    0.026817  |  \u001b[32m  0.026056\u001b[0m  |     1.029211  |             |  0.7s"
       ]
      },
      {
       "output_type": "stream",
       "stream": "stdout",
       "text": [
        "\n",
        "   289  |    0.026819  |    0.026060  |     1.029148  |             |  0.7s"
       ]
      },
      {
       "output_type": "stream",
       "stream": "stdout",
       "text": [
        "\n",
        "   290  |  \u001b[94m  0.026787\u001b[0m  |  \u001b[32m  0.026026\u001b[0m  |     1.029263  |             |  0.7s"
       ]
      },
      {
       "output_type": "stream",
       "stream": "stdout",
       "text": [
        "\n",
        "   291  |    0.026845  |    0.026054  |     1.030365  |             |  0.7s"
       ]
      },
      {
       "output_type": "stream",
       "stream": "stdout",
       "text": [
        "\n",
        "   292  |  \u001b[94m  0.026768\u001b[0m  |    0.026042  |     1.027875  |             |  0.7s"
       ]
      },
      {
       "output_type": "stream",
       "stream": "stdout",
       "text": [
        "\n",
        "   293  |  \u001b[94m  0.026767\u001b[0m  |  \u001b[32m  0.026018\u001b[0m  |     1.028798  |             |  0.7s"
       ]
      },
      {
       "output_type": "stream",
       "stream": "stdout",
       "text": [
        "\n",
        "   294  |  \u001b[94m  0.026757\u001b[0m  |  \u001b[32m  0.025997\u001b[0m  |     1.029261  |             |  0.7s"
       ]
      },
      {
       "output_type": "stream",
       "stream": "stdout",
       "text": [
        "\n",
        "   295  |  \u001b[94m  0.026741\u001b[0m  |  \u001b[32m  0.025995\u001b[0m  |     1.028676  |             |  0.7s"
       ]
      },
      {
       "output_type": "stream",
       "stream": "stdout",
       "text": [
        "\n",
        "   296  |    0.026771  |  \u001b[32m  0.025969\u001b[0m  |     1.030908  |             |  0.7s"
       ]
      },
      {
       "output_type": "stream",
       "stream": "stdout",
       "text": [
        "\n",
        "   297  |    0.026765  |  \u001b[32m  0.025968\u001b[0m  |     1.030708  |             |  0.7s"
       ]
      },
      {
       "output_type": "stream",
       "stream": "stdout",
       "text": [
        "\n",
        "   298  |    0.026768  |  \u001b[32m  0.025943\u001b[0m  |     1.031777  |             |  0.7s"
       ]
      },
      {
       "output_type": "stream",
       "stream": "stdout",
       "text": [
        "\n",
        "   299  |  \u001b[94m  0.026733\u001b[0m  |  \u001b[32m  0.025934\u001b[0m  |     1.030808  |             |  0.7s"
       ]
      },
      {
       "output_type": "stream",
       "stream": "stdout",
       "text": [
        "\n",
        "   300  |  \u001b[94m  0.026720\u001b[0m  |  \u001b[32m  0.025923\u001b[0m  |     1.030745  |             |  0.7s"
       ]
      },
      {
       "output_type": "stream",
       "stream": "stdout",
       "text": [
        "\n",
        "   301  |    0.026748  |  \u001b[32m  0.025919\u001b[0m  |     1.031991  |             |  0.7s"
       ]
      },
      {
       "output_type": "stream",
       "stream": "stdout",
       "text": [
        "\n",
        "   302  |    0.026723  |    0.025932  |     1.030527  |             |  0.7s"
       ]
      },
      {
       "output_type": "stream",
       "stream": "stdout",
       "text": [
        "\n",
        "   303  |  \u001b[94m  0.026686\u001b[0m  |  \u001b[32m  0.025902\u001b[0m  |     1.030240  |             |  0.7s"
       ]
      },
      {
       "output_type": "stream",
       "stream": "stdout",
       "text": [
        "\n",
        "   304  |  \u001b[94m  0.026678\u001b[0m  |  \u001b[32m  0.025885\u001b[0m  |     1.030625  |             |  0.7s"
       ]
      },
      {
       "output_type": "stream",
       "stream": "stdout",
       "text": [
        "\n",
        "   305  |  \u001b[94m  0.026677\u001b[0m  |    0.025900  |     1.029984  |             |  0.7s"
       ]
      },
      {
       "output_type": "stream",
       "stream": "stdout",
       "text": [
        "\n",
        "   306  |    0.026682  |    0.025885  |     1.030807  |             |  0.7s"
       ]
      },
      {
       "output_type": "stream",
       "stream": "stdout",
       "text": [
        "\n",
        "   307  |    0.026697  |  \u001b[32m  0.025869\u001b[0m  |     1.032023  |             |  0.7s"
       ]
      },
      {
       "output_type": "stream",
       "stream": "stdout",
       "text": [
        "\n",
        "   308  |  \u001b[94m  0.026657\u001b[0m  |    0.025876  |     1.030184  |             |  0.7s"
       ]
      },
      {
       "output_type": "stream",
       "stream": "stdout",
       "text": [
        "\n",
        "   309  |    0.026677  |    0.025878  |     1.030885  |             |  0.7s"
       ]
      },
      {
       "output_type": "stream",
       "stream": "stdout",
       "text": [
        "\n",
        "   310  |    0.026669  |  \u001b[32m  0.025850\u001b[0m  |     1.031696  |             |  0.7s"
       ]
      },
      {
       "output_type": "stream",
       "stream": "stdout",
       "text": [
        "\n",
        "   311  |  \u001b[94m  0.026644\u001b[0m  |  \u001b[32m  0.025840\u001b[0m  |     1.031119  |             |  0.7s"
       ]
      },
      {
       "output_type": "stream",
       "stream": "stdout",
       "text": [
        "\n",
        "   312  |  \u001b[94m  0.026630\u001b[0m  |    0.025847  |     1.030313  |             |  0.7s"
       ]
      },
      {
       "output_type": "stream",
       "stream": "stdout",
       "text": [
        "\n",
        "   313  |    0.026633  |  \u001b[32m  0.025806\u001b[0m  |     1.032058  |             |  0.7s"
       ]
      },
      {
       "output_type": "stream",
       "stream": "stdout",
       "text": [
        "\n",
        "   314  |  \u001b[94m  0.026607\u001b[0m  |  \u001b[32m  0.025790\u001b[0m  |     1.031651  |             |  0.7s"
       ]
      },
      {
       "output_type": "stream",
       "stream": "stdout",
       "text": [
        "\n",
        "   315  |  \u001b[94m  0.026596\u001b[0m  |    0.025801  |     1.030798  |             |  0.7s"
       ]
      },
      {
       "output_type": "stream",
       "stream": "stdout",
       "text": [
        "\n",
        "   316  |    0.026605  |  \u001b[32m  0.025767\u001b[0m  |     1.032514  |             |  0.7s"
       ]
      },
      {
       "output_type": "stream",
       "stream": "stdout",
       "text": [
        "\n",
        "   317  |    0.026600  |    0.025775  |     1.031975  |             |  0.7s"
       ]
      },
      {
       "output_type": "stream",
       "stream": "stdout",
       "text": [
        "\n",
        "   318  |  \u001b[94m  0.026567\u001b[0m  |  \u001b[32m  0.025755\u001b[0m  |     1.031524  |             |  0.7s"
       ]
      },
      {
       "output_type": "stream",
       "stream": "stdout",
       "text": [
        "\n",
        "   319  |  \u001b[94m  0.026553\u001b[0m  |    0.025766  |     1.030558  |             |  0.7s"
       ]
      },
      {
       "output_type": "stream",
       "stream": "stdout",
       "text": [
        "\n",
        "   320  |    0.026558  |  \u001b[32m  0.025731\u001b[0m  |     1.032119  |             |  0.7s"
       ]
      },
      {
       "output_type": "stream",
       "stream": "stdout",
       "text": [
        "\n",
        "   321  |  \u001b[94m  0.026529\u001b[0m  |    0.025733  |     1.030924  |             |  0.7s"
       ]
      },
      {
       "output_type": "stream",
       "stream": "stdout",
       "text": [
        "\n",
        "   322  |  \u001b[94m  0.026521\u001b[0m  |  \u001b[32m  0.025723\u001b[0m  |     1.031009  |             |  0.7s"
       ]
      },
      {
       "output_type": "stream",
       "stream": "stdout",
       "text": [
        "\n",
        "   323  |    0.026571  |  \u001b[32m  0.025712\u001b[0m  |     1.033394  |             |  0.7s"
       ]
      },
      {
       "output_type": "stream",
       "stream": "stdout",
       "text": [
        "\n",
        "   324  |  \u001b[94m  0.026514\u001b[0m  |  \u001b[32m  0.025710\u001b[0m  |     1.031252  |             |  0.7s"
       ]
      },
      {
       "output_type": "stream",
       "stream": "stdout",
       "text": [
        "\n",
        "   325  |    0.026549  |  \u001b[32m  0.025698\u001b[0m  |     1.033123  |             |  0.7s"
       ]
      },
      {
       "output_type": "stream",
       "stream": "stdout",
       "text": [
        "\n",
        "   326  |    0.026521  |  \u001b[32m  0.025685\u001b[0m  |     1.032539  |             |  0.7s"
       ]
      },
      {
       "output_type": "stream",
       "stream": "stdout",
       "text": [
        "\n",
        "   327  |    0.026534  |  \u001b[32m  0.025659\u001b[0m  |     1.034082  |             |  0.7s"
       ]
      },
      {
       "output_type": "stream",
       "stream": "stdout",
       "text": [
        "\n",
        "   328  |  \u001b[94m  0.026478\u001b[0m  |    0.025682  |     1.031006  |             |  0.7s"
       ]
      },
      {
       "output_type": "stream",
       "stream": "stdout",
       "text": [
        "\n",
        "   329  |    0.026492  |  \u001b[32m  0.025635\u001b[0m  |     1.033396  |             |  0.7s"
       ]
      },
      {
       "output_type": "stream",
       "stream": "stdout",
       "text": [
        "\n",
        "   330  |    0.026534  |    0.025665  |     1.033846  |             |  0.7s"
       ]
      },
      {
       "output_type": "stream",
       "stream": "stdout",
       "text": [
        "\n",
        "   331  |  \u001b[94m  0.026469\u001b[0m  |  \u001b[32m  0.025612\u001b[0m  |     1.033460  |             |  0.7s"
       ]
      },
      {
       "output_type": "stream",
       "stream": "stdout",
       "text": [
        "\n",
        "   332  |  \u001b[94m  0.026440\u001b[0m  |    0.025628  |     1.031709  |             |  0.7s"
       ]
      },
      {
       "output_type": "stream",
       "stream": "stdout",
       "text": [
        "\n",
        "   333  |    0.026475  |  \u001b[32m  0.025607\u001b[0m  |     1.033924  |             |  0.7s"
       ]
      },
      {
       "output_type": "stream",
       "stream": "stdout",
       "text": [
        "\n",
        "   334  |  \u001b[94m  0.026434\u001b[0m  |    0.025607  |     1.032273  |             |  0.7s"
       ]
      },
      {
       "output_type": "stream",
       "stream": "stdout",
       "text": [
        "\n",
        "   335  |    0.026450  |  \u001b[32m  0.025591\u001b[0m  |     1.033545  |             |  0.7s"
       ]
      },
      {
       "output_type": "stream",
       "stream": "stdout",
       "text": [
        "\n",
        "   336  |    0.026449  |  \u001b[32m  0.025559\u001b[0m  |     1.034818  |             |  0.7s"
       ]
      },
      {
       "output_type": "stream",
       "stream": "stdout",
       "text": [
        "\n",
        "   337  |    0.026437  |    0.025577  |     1.033605  |             |  0.7s"
       ]
      },
      {
       "output_type": "stream",
       "stream": "stdout",
       "text": [
        "\n",
        "   338  |  \u001b[94m  0.026428\u001b[0m  |    0.025566  |     1.033738  |             |  0.7s"
       ]
      },
      {
       "output_type": "stream",
       "stream": "stdout",
       "text": [
        "\n",
        "   339  |  \u001b[94m  0.026391\u001b[0m  |  \u001b[32m  0.025538\u001b[0m  |     1.033409  |             |  0.7s"
       ]
      },
      {
       "output_type": "stream",
       "stream": "stdout",
       "text": [
        "\n",
        "   340  |    0.026412  |    0.025543  |     1.034021  |             |  0.7s"
       ]
      },
      {
       "output_type": "stream",
       "stream": "stdout",
       "text": [
        "\n",
        "   341  |    0.026406  |  \u001b[32m  0.025528\u001b[0m  |     1.034398  |             |  0.7s"
       ]
      },
      {
       "output_type": "stream",
       "stream": "stdout",
       "text": [
        "\n",
        "   342  |    0.026419  |    0.025544  |     1.034260  |             |  0.7s"
       ]
      },
      {
       "output_type": "stream",
       "stream": "stdout",
       "text": [
        "\n",
        "   343  |  \u001b[94m  0.026344\u001b[0m  |    0.025533  |     1.031760  |             |  0.7s"
       ]
      },
      {
       "output_type": "stream",
       "stream": "stdout",
       "text": [
        "\n",
        "   344  |    0.026359  |  \u001b[32m  0.025510\u001b[0m  |     1.033270  |             |  0.7s"
       ]
      },
      {
       "output_type": "stream",
       "stream": "stdout",
       "text": [
        "\n",
        "   345  |  \u001b[94m  0.026333\u001b[0m  |  \u001b[32m  0.025479\u001b[0m  |     1.033524  |             |  0.7s"
       ]
      },
      {
       "output_type": "stream",
       "stream": "stdout",
       "text": [
        "\n",
        "   346  |    0.026378  |  \u001b[32m  0.025469\u001b[0m  |     1.035659  |             |  0.7s"
       ]
      },
      {
       "output_type": "stream",
       "stream": "stdout",
       "text": [
        "\n",
        "   347  |    0.026355  |    0.025496  |     1.033692  |             |  0.7s"
       ]
      },
      {
       "output_type": "stream",
       "stream": "stdout",
       "text": [
        "\n",
        "   348  |    0.026357  |  \u001b[32m  0.025459\u001b[0m  |     1.035261  |             |  0.7s"
       ]
      },
      {
       "output_type": "stream",
       "stream": "stdout",
       "text": [
        "\n",
        "   349  |    0.026336  |  \u001b[32m  0.025452\u001b[0m  |     1.034716  |             |  0.7s"
       ]
      },
      {
       "output_type": "stream",
       "stream": "stdout",
       "text": [
        "\n",
        "   350  |  \u001b[94m  0.026328\u001b[0m  |    0.025461  |     1.034063  |             |  0.7s"
       ]
      },
      {
       "output_type": "stream",
       "stream": "stdout",
       "text": [
        "\n",
        "   351  |  \u001b[94m  0.026303\u001b[0m  |  \u001b[32m  0.025450\u001b[0m  |     1.033515  |             |  0.7s"
       ]
      },
      {
       "output_type": "stream",
       "stream": "stdout",
       "text": [
        "\n",
        "   352  |    0.026322  |  \u001b[32m  0.025442\u001b[0m  |     1.034574  |             |  0.7s"
       ]
      },
      {
       "output_type": "stream",
       "stream": "stdout",
       "text": [
        "\n",
        "   353  |    0.026309  |  \u001b[32m  0.025413\u001b[0m  |     1.035263  |             |  0.7s"
       ]
      },
      {
       "output_type": "stream",
       "stream": "stdout",
       "text": [
        "\n",
        "   354  |    0.026318  |  \u001b[32m  0.025410\u001b[0m  |     1.035730  |             |  0.7s"
       ]
      },
      {
       "output_type": "stream",
       "stream": "stdout",
       "text": [
        "\n",
        "   355  |  \u001b[94m  0.026265\u001b[0m  |  \u001b[32m  0.025374\u001b[0m  |     1.035101  |             |  0.7s"
       ]
      },
      {
       "output_type": "stream",
       "stream": "stdout",
       "text": [
        "\n",
        "   356  |    0.026295  |    0.025388  |     1.035727  |             |  0.7s"
       ]
      },
      {
       "output_type": "stream",
       "stream": "stdout",
       "text": [
        "\n",
        "   357  |    0.026283  |  \u001b[32m  0.025361\u001b[0m  |     1.036348  |             |  0.7s"
       ]
      },
      {
       "output_type": "stream",
       "stream": "stdout",
       "text": [
        "\n",
        "   358  |    0.026279  |  \u001b[32m  0.025353\u001b[0m  |     1.036554  |             |  0.7s"
       ]
      },
      {
       "output_type": "stream",
       "stream": "stdout",
       "text": [
        "\n",
        "   359  |  \u001b[94m  0.026252\u001b[0m  |    0.025356  |     1.035318  |             |  0.7s"
       ]
      },
      {
       "output_type": "stream",
       "stream": "stdout",
       "text": [
        "\n",
        "   360  |    0.026284  |  \u001b[32m  0.025331\u001b[0m  |     1.037616  |             |  0.7s"
       ]
      },
      {
       "output_type": "stream",
       "stream": "stdout",
       "text": [
        "\n",
        "   361  |  \u001b[94m  0.026232\u001b[0m  |    0.025332  |     1.035504  |             |  0.7s"
       ]
      },
      {
       "output_type": "stream",
       "stream": "stdout",
       "text": [
        "\n",
        "   362  |    0.026239  |  \u001b[32m  0.025324\u001b[0m  |     1.036126  |             |  0.7s"
       ]
      },
      {
       "output_type": "stream",
       "stream": "stdout",
       "text": [
        "\n",
        "   363  |  \u001b[94m  0.026206\u001b[0m  |  \u001b[32m  0.025308\u001b[0m  |     1.035476  |             |  0.7s"
       ]
      },
      {
       "output_type": "stream",
       "stream": "stdout",
       "text": [
        "\n",
        "   364  |  \u001b[94m  0.026187\u001b[0m  |    0.025310  |     1.034655  |             |  0.7s"
       ]
      },
      {
       "output_type": "stream",
       "stream": "stdout",
       "text": [
        "\n",
        "   365  |    0.026219  |  \u001b[32m  0.025265\u001b[0m  |     1.037753  |             |  0.7s"
       ]
      },
      {
       "output_type": "stream",
       "stream": "stdout",
       "text": [
        "\n",
        "   366  |    0.026210  |    0.025312  |     1.035499  |             |  0.7s"
       ]
      },
      {
       "output_type": "stream",
       "stream": "stdout",
       "text": [
        "\n",
        "   367  |  \u001b[94m  0.026185\u001b[0m  |    0.025269  |     1.036232  |             |  0.7s"
       ]
      },
      {
       "output_type": "stream",
       "stream": "stdout",
       "text": [
        "\n",
        "   368  |    0.026210  |  \u001b[32m  0.025257\u001b[0m  |     1.037712  |             |  0.7s"
       ]
      },
      {
       "output_type": "stream",
       "stream": "stdout",
       "text": [
        "\n",
        "   369  |  \u001b[94m  0.026146\u001b[0m  |  \u001b[32m  0.025243\u001b[0m  |     1.035781  |             |  0.7s"
       ]
      },
      {
       "output_type": "stream",
       "stream": "stdout",
       "text": [
        "\n",
        "   370  |    0.026155  |    0.025251  |     1.035804  |             |  0.7s"
       ]
      },
      {
       "output_type": "stream",
       "stream": "stdout",
       "text": [
        "\n",
        "   371  |  \u001b[94m  0.026141\u001b[0m  |    0.025245  |     1.035459  |             |  0.7s"
       ]
      },
      {
       "output_type": "stream",
       "stream": "stdout",
       "text": [
        "\n",
        "   372  |  \u001b[94m  0.026134\u001b[0m  |    0.025244  |     1.035255  |             |  0.7s"
       ]
      },
      {
       "output_type": "stream",
       "stream": "stdout",
       "text": [
        "\n",
        "   373  |  \u001b[94m  0.026122\u001b[0m  |  \u001b[32m  0.025201\u001b[0m  |     1.036551  |             |  0.7s"
       ]
      },
      {
       "output_type": "stream",
       "stream": "stdout",
       "text": [
        "\n",
        "   374  |  \u001b[94m  0.026118\u001b[0m  |  \u001b[32m  0.025191\u001b[0m  |     1.036798  |             |  0.7s"
       ]
      },
      {
       "output_type": "stream",
       "stream": "stdout",
       "text": [
        "\n",
        "   375  |    0.026130  |  \u001b[32m  0.025183\u001b[0m  |     1.037603  |             |  0.7s"
       ]
      },
      {
       "output_type": "stream",
       "stream": "stdout",
       "text": [
        "\n",
        "   376  |    0.026125  |  \u001b[32m  0.025180\u001b[0m  |     1.037552  |             |  0.7s"
       ]
      },
      {
       "output_type": "stream",
       "stream": "stdout",
       "text": [
        "\n",
        "   377  |    0.026120  |  \u001b[32m  0.025175\u001b[0m  |     1.037519  |             |  0.7s"
       ]
      },
      {
       "output_type": "stream",
       "stream": "stdout",
       "text": [
        "\n",
        "   378  |  \u001b[94m  0.026097\u001b[0m  |    0.025180  |     1.036400  |             |  0.7s"
       ]
      },
      {
       "output_type": "stream",
       "stream": "stdout",
       "text": [
        "\n",
        "   379  |  \u001b[94m  0.026095\u001b[0m  |  \u001b[32m  0.025141\u001b[0m  |     1.037980  |             |  0.7s"
       ]
      },
      {
       "output_type": "stream",
       "stream": "stdout",
       "text": [
        "\n",
        "   380  |    0.026101  |  \u001b[32m  0.025133\u001b[0m  |     1.038493  |             |  0.7s"
       ]
      },
      {
       "output_type": "stream",
       "stream": "stdout",
       "text": [
        "\n",
        "   381  |    0.026108  |    0.025137  |     1.038617  |             |  0.7s"
       ]
      },
      {
       "output_type": "stream",
       "stream": "stdout",
       "text": [
        "\n",
        "   382  |  \u001b[94m  0.026082\u001b[0m  |  \u001b[32m  0.025107\u001b[0m  |     1.038850  |             |  0.7s"
       ]
      },
      {
       "output_type": "stream",
       "stream": "stdout",
       "text": [
        "\n",
        "   383  |  \u001b[94m  0.026061\u001b[0m  |    0.025112  |     1.037811  |             |  0.7s"
       ]
      },
      {
       "output_type": "stream",
       "stream": "stdout",
       "text": [
        "\n",
        "   384  |    0.026077  |    0.025116  |     1.038291  |             |  0.7s"
       ]
      },
      {
       "output_type": "stream",
       "stream": "stdout",
       "text": [
        "\n",
        "   385  |    0.026063  |  \u001b[32m  0.025088\u001b[0m  |     1.038850  |             |  0.7s"
       ]
      },
      {
       "output_type": "stream",
       "stream": "stdout",
       "text": [
        "\n",
        "   386  |  \u001b[94m  0.026027\u001b[0m  |    0.025098  |     1.037005  |             |  0.7s"
       ]
      },
      {
       "output_type": "stream",
       "stream": "stdout",
       "text": [
        "\n",
        "   387  |    0.026046  |  \u001b[32m  0.025071\u001b[0m  |     1.038888  |             |  0.7s"
       ]
      },
      {
       "output_type": "stream",
       "stream": "stdout",
       "text": [
        "\n",
        "   388  |    0.026038  |    0.025075  |     1.038381  |             |  0.7s"
       ]
      },
      {
       "output_type": "stream",
       "stream": "stdout",
       "text": [
        "\n",
        "   389  |    0.026041  |  \u001b[32m  0.025064\u001b[0m  |     1.038961  |             |  0.7s"
       ]
      },
      {
       "output_type": "stream",
       "stream": "stdout",
       "text": [
        "\n",
        "   390  |  \u001b[94m  0.025981\u001b[0m  |  \u001b[32m  0.025036\u001b[0m  |     1.037720  |             |  0.7s"
       ]
      },
      {
       "output_type": "stream",
       "stream": "stdout",
       "text": [
        "\n",
        "   391  |    0.025988  |  \u001b[32m  0.025014\u001b[0m  |     1.038917  |             |  0.7s"
       ]
      },
      {
       "output_type": "stream",
       "stream": "stdout",
       "text": [
        "\n",
        "   392  |    0.026000  |    0.025020  |     1.039206  |             |  0.7s"
       ]
      },
      {
       "output_type": "stream",
       "stream": "stdout",
       "text": [
        "\n",
        "   393  |    0.025992  |  \u001b[32m  0.024992\u001b[0m  |     1.039988  |             |  0.7s"
       ]
      },
      {
       "output_type": "stream",
       "stream": "stdout",
       "text": [
        "\n",
        "   394  |  \u001b[94m  0.025975\u001b[0m  |    0.025009  |     1.038617  |             |  0.7s"
       ]
      },
      {
       "output_type": "stream",
       "stream": "stdout",
       "text": [
        "\n",
        "   395  |  \u001b[94m  0.025971\u001b[0m  |  \u001b[32m  0.024979\u001b[0m  |     1.039699  |             |  0.7s"
       ]
      },
      {
       "output_type": "stream",
       "stream": "stdout",
       "text": [
        "\n",
        "   396  |  \u001b[94m  0.025940\u001b[0m  |  \u001b[32m  0.024967\u001b[0m  |     1.038975  |             |  0.7s"
       ]
      },
      {
       "output_type": "stream",
       "stream": "stdout",
       "text": [
        "\n",
        "   397  |    0.025966  |    0.024978  |     1.039548  |             |  0.7s"
       ]
      },
      {
       "output_type": "stream",
       "stream": "stdout",
       "text": [
        "\n",
        "   398  |  \u001b[94m  0.025930\u001b[0m  |  \u001b[32m  0.024962\u001b[0m  |     1.038776  |             |  0.7s"
       ]
      },
      {
       "output_type": "stream",
       "stream": "stdout",
       "text": [
        "\n",
        "   399  |    0.025942  |  \u001b[32m  0.024953\u001b[0m  |     1.039646  |             |  0.7s"
       ]
      },
      {
       "output_type": "stream",
       "stream": "stdout",
       "text": [
        "\n",
        "   400  |  \u001b[94m  0.025920\u001b[0m  |  \u001b[32m  0.024933\u001b[0m  |     1.039607  |             |  0.7s"
       ]
      },
      {
       "output_type": "stream",
       "stream": "stdout",
       "text": [
        "\n",
        "   401  |    0.025953  |    0.024945  |     1.040396  |             |  0.7s"
       ]
      },
      {
       "output_type": "stream",
       "stream": "stdout",
       "text": [
        "\n",
        "   402  |    0.025934  |  \u001b[32m  0.024901\u001b[0m  |     1.041476  |             |  0.7s"
       ]
      },
      {
       "output_type": "stream",
       "stream": "stdout",
       "text": [
        "\n",
        "   403  |  \u001b[94m  0.025908\u001b[0m  |    0.024913  |     1.039917  |             |  0.7s"
       ]
      },
      {
       "output_type": "stream",
       "stream": "stdout",
       "text": [
        "\n",
        "   404  |  \u001b[94m  0.025877\u001b[0m  |  \u001b[32m  0.024857\u001b[0m  |     1.041044  |             |  0.7s"
       ]
      },
      {
       "output_type": "stream",
       "stream": "stdout",
       "text": [
        "\n",
        "   405  |    0.025895  |    0.024882  |     1.040709  |             |  0.7s"
       ]
      },
      {
       "output_type": "stream",
       "stream": "stdout",
       "text": [
        "\n",
        "   406  |  \u001b[94m  0.025865\u001b[0m  |    0.024887  |     1.039314  |             |  0.7s"
       ]
      },
      {
       "output_type": "stream",
       "stream": "stdout",
       "text": [
        "\n",
        "   407  |    0.025878  |  \u001b[32m  0.024853\u001b[0m  |     1.041236  |             |  0.7s"
       ]
      },
      {
       "output_type": "stream",
       "stream": "stdout",
       "text": [
        "\n",
        "   408  |  \u001b[94m  0.025854\u001b[0m  |  \u001b[32m  0.024845\u001b[0m  |     1.040644  |             |  0.7s"
       ]
      },
      {
       "output_type": "stream",
       "stream": "stdout",
       "text": [
        "\n",
        "   409  |    0.025864  |  \u001b[32m  0.024836\u001b[0m  |     1.041408  |             |  0.7s"
       ]
      },
      {
       "output_type": "stream",
       "stream": "stdout",
       "text": [
        "\n",
        "   410  |  \u001b[94m  0.025830\u001b[0m  |    0.024842  |     1.039761  |             |  0.7s"
       ]
      },
      {
       "output_type": "stream",
       "stream": "stdout",
       "text": [
        "\n",
        "   411  |    0.025841  |  \u001b[32m  0.024829\u001b[0m  |     1.040787  |             |  0.7s"
       ]
      },
      {
       "output_type": "stream",
       "stream": "stdout",
       "text": [
        "\n",
        "   412  |    0.025861  |  \u001b[32m  0.024806\u001b[0m  |     1.042503  |             |  0.7s"
       ]
      },
      {
       "output_type": "stream",
       "stream": "stdout",
       "text": [
        "\n",
        "   413  |  \u001b[94m  0.025786\u001b[0m  |  \u001b[32m  0.024786\u001b[0m  |     1.040324  |             |  0.7s"
       ]
      },
      {
       "output_type": "stream",
       "stream": "stdout",
       "text": [
        "\n",
        "   414  |    0.025837  |    0.024803  |     1.041675  |             |  0.7s"
       ]
      },
      {
       "output_type": "stream",
       "stream": "stdout",
       "text": [
        "\n",
        "   415  |    0.025833  |    0.024788  |     1.042186  |             |  0.7s"
       ]
      },
      {
       "output_type": "stream",
       "stream": "stdout",
       "text": [
        "\n",
        "   416  |    0.025818  |  \u001b[32m  0.024754\u001b[0m  |     1.042973  |             |  0.7s"
       ]
      },
      {
       "output_type": "stream",
       "stream": "stdout",
       "text": [
        "\n",
        "   417  |  \u001b[94m  0.025769\u001b[0m  |    0.024771  |     1.040283  |             |  0.7s"
       ]
      },
      {
       "output_type": "stream",
       "stream": "stdout",
       "text": [
        "\n",
        "   418  |    0.025801  |    0.024775  |     1.041416  |             |  0.7s"
       ]
      },
      {
       "output_type": "stream",
       "stream": "stdout",
       "text": [
        "\n",
        "   419  |    0.025796  |    0.024766  |     1.041562  |             |  0.7s"
       ]
      },
      {
       "output_type": "stream",
       "stream": "stdout",
       "text": [
        "\n",
        "   420  |    0.025794  |  \u001b[32m  0.024724\u001b[0m  |     1.043291  |             |  0.7s"
       ]
      },
      {
       "output_type": "stream",
       "stream": "stdout",
       "text": [
        "\n",
        "   421  |  \u001b[94m  0.025755\u001b[0m  |    0.024734  |     1.041283  |             |  0.7s"
       ]
      },
      {
       "output_type": "stream",
       "stream": "stdout",
       "text": [
        "\n",
        "   422  |  \u001b[94m  0.025722\u001b[0m  |    0.024728  |     1.040167  |             |  0.7s"
       ]
      },
      {
       "output_type": "stream",
       "stream": "stdout",
       "text": [
        "\n",
        "   423  |    0.025795  |  \u001b[32m  0.024711\u001b[0m  |     1.043874  |             |  0.7s"
       ]
      },
      {
       "output_type": "stream",
       "stream": "stdout",
       "text": [
        "\n",
        "   424  |    0.025725  |  \u001b[32m  0.024691\u001b[0m  |     1.041850  |             |  0.7s"
       ]
      },
      {
       "output_type": "stream",
       "stream": "stdout",
       "text": [
        "\n",
        "   425  |    0.025723  |  \u001b[32m  0.024670\u001b[0m  |     1.042644  |             |  0.7s"
       ]
      },
      {
       "output_type": "stream",
       "stream": "stdout",
       "text": [
        "\n",
        "   426  |    0.025728  |    0.024682  |     1.042367  |             |  0.7s"
       ]
      },
      {
       "output_type": "stream",
       "stream": "stdout",
       "text": [
        "\n",
        "   427  |  \u001b[94m  0.025693\u001b[0m  |  \u001b[32m  0.024652\u001b[0m  |     1.042235  |             |  0.7s"
       ]
      },
      {
       "output_type": "stream",
       "stream": "stdout",
       "text": [
        "\n",
        "   428  |    0.025704  |    0.024652  |     1.042673  |             |  0.7s"
       ]
      },
      {
       "output_type": "stream",
       "stream": "stdout",
       "text": [
        "\n",
        "   429  |  \u001b[94m  0.025690\u001b[0m  |  \u001b[32m  0.024641\u001b[0m  |     1.042579  |             |  0.7s"
       ]
      },
      {
       "output_type": "stream",
       "stream": "stdout",
       "text": [
        "\n",
        "   430  |    0.025698  |  \u001b[32m  0.024631\u001b[0m  |     1.043324  |             |  0.7s"
       ]
      },
      {
       "output_type": "stream",
       "stream": "stdout",
       "text": [
        "\n",
        "   431  |  \u001b[94m  0.025681\u001b[0m  |  \u001b[32m  0.024595\u001b[0m  |     1.044165  |             |  0.7s"
       ]
      },
      {
       "output_type": "stream",
       "stream": "stdout",
       "text": [
        "\n",
        "   432  |    0.025683  |    0.024612  |     1.043515  |             |  0.7s"
       ]
      },
      {
       "output_type": "stream",
       "stream": "stdout",
       "text": [
        "\n",
        "   433  |  \u001b[94m  0.025633\u001b[0m  |  \u001b[32m  0.024589\u001b[0m  |     1.042472  |             |  0.7s"
       ]
      },
      {
       "output_type": "stream",
       "stream": "stdout",
       "text": [
        "\n",
        "   434  |  \u001b[94m  0.025619\u001b[0m  |  \u001b[32m  0.024584\u001b[0m  |     1.042062  |             |  0.7s"
       ]
      },
      {
       "output_type": "stream",
       "stream": "stdout",
       "text": [
        "\n",
        "   435  |    0.025655  |  \u001b[32m  0.024579\u001b[0m  |     1.043788  |             |  0.7s"
       ]
      },
      {
       "output_type": "stream",
       "stream": "stdout",
       "text": [
        "\n",
        "   436  |  \u001b[94m  0.025618\u001b[0m  |  \u001b[32m  0.024572\u001b[0m  |     1.042566  |             |  0.7s"
       ]
      },
      {
       "output_type": "stream",
       "stream": "stdout",
       "text": [
        "\n",
        "   437  |  \u001b[94m  0.025617\u001b[0m  |  \u001b[32m  0.024517\u001b[0m  |     1.044846  |             |  0.7s"
       ]
      },
      {
       "output_type": "stream",
       "stream": "stdout",
       "text": [
        "\n",
        "   438  |    0.025652  |    0.024539  |     1.045356  |             |  0.7s"
       ]
      },
      {
       "output_type": "stream",
       "stream": "stdout",
       "text": [
        "\n",
        "   439  |  \u001b[94m  0.025607\u001b[0m  |    0.024535  |     1.043723  |             |  0.7s"
       ]
      },
      {
       "output_type": "stream",
       "stream": "stdout",
       "text": [
        "\n",
        "   440  |  \u001b[94m  0.025595\u001b[0m  |    0.024530  |     1.043423  |             |  0.7s"
       ]
      },
      {
       "output_type": "stream",
       "stream": "stdout",
       "text": [
        "\n",
        "   441  |    0.025671  |  \u001b[32m  0.024501\u001b[0m  |     1.047737  |             |  0.7s"
       ]
      },
      {
       "output_type": "stream",
       "stream": "stdout",
       "text": [
        "\n",
        "   442  |  \u001b[94m  0.025573\u001b[0m  |    0.024528  |     1.042605  |             |  0.7s"
       ]
      },
      {
       "output_type": "stream",
       "stream": "stdout",
       "text": [
        "\n",
        "   443  |  \u001b[94m  0.025570\u001b[0m  |  \u001b[32m  0.024496\u001b[0m  |     1.043831  |             |  0.7s"
       ]
      },
      {
       "output_type": "stream",
       "stream": "stdout",
       "text": [
        "\n",
        "   444  |  \u001b[94m  0.025557\u001b[0m  |    0.024500  |     1.043137  |             |  0.7s"
       ]
      },
      {
       "output_type": "stream",
       "stream": "stdout",
       "text": [
        "\n",
        "   445  |    0.025586  |  \u001b[32m  0.024468\u001b[0m  |     1.045675  |             |  0.7s"
       ]
      },
      {
       "output_type": "stream",
       "stream": "stdout",
       "text": [
        "\n",
        "   446  |    0.025573  |  \u001b[32m  0.024444\u001b[0m  |     1.046181  |             |  0.7s"
       ]
      },
      {
       "output_type": "stream",
       "stream": "stdout",
       "text": [
        "\n",
        "   447  |    0.025566  |    0.024448  |     1.045729  |             |  0.7s"
       ]
      },
      {
       "output_type": "stream",
       "stream": "stdout",
       "text": [
        "\n",
        "   448  |  \u001b[94m  0.025548\u001b[0m  |  \u001b[32m  0.024432\u001b[0m  |     1.045690  |             |  0.7s"
       ]
      },
      {
       "output_type": "stream",
       "stream": "stdout",
       "text": [
        "\n",
        "   449  |  \u001b[94m  0.025534\u001b[0m  |  \u001b[32m  0.024407\u001b[0m  |     1.046160  |             |  0.7s"
       ]
      },
      {
       "output_type": "stream",
       "stream": "stdout",
       "text": [
        "\n",
        "   450  |  \u001b[94m  0.025497\u001b[0m  |    0.024417  |     1.044234  |             |  0.7s"
       ]
      },
      {
       "output_type": "stream",
       "stream": "stdout",
       "text": [
        "\n",
        "   451  |    0.025523  |    0.024410  |     1.045568  |             |  0.7s"
       ]
      },
      {
       "output_type": "stream",
       "stream": "stdout",
       "text": [
        "\n",
        "   452  |  \u001b[94m  0.025483\u001b[0m  |  \u001b[32m  0.024392\u001b[0m  |     1.044706  |             |  0.7s"
       ]
      },
      {
       "output_type": "stream",
       "stream": "stdout",
       "text": [
        "\n",
        "   453  |    0.025487  |    0.024412  |     1.044034  |             |  0.7s"
       ]
      },
      {
       "output_type": "stream",
       "stream": "stdout",
       "text": [
        "\n",
        "   454  |    0.025497  |  \u001b[32m  0.024362\u001b[0m  |     1.046564  |             |  0.7s"
       ]
      },
      {
       "output_type": "stream",
       "stream": "stdout",
       "text": [
        "\n",
        "   455  |  \u001b[94m  0.025450\u001b[0m  |    0.024381  |     1.043862  |             |  0.7s"
       ]
      },
      {
       "output_type": "stream",
       "stream": "stdout",
       "text": [
        "\n",
        "   456  |  \u001b[94m  0.025434\u001b[0m  |  \u001b[32m  0.024342\u001b[0m  |     1.044846  |             |  0.7s"
       ]
      },
      {
       "output_type": "stream",
       "stream": "stdout",
       "text": [
        "\n",
        "   457  |    0.025502  |    0.024344  |     1.047544  |             |  0.7s"
       ]
      },
      {
       "output_type": "stream",
       "stream": "stdout",
       "text": [
        "\n",
        "   458  |    0.025457  |  \u001b[32m  0.024342\u001b[0m  |     1.045794  |             |  0.7s"
       ]
      },
      {
       "output_type": "stream",
       "stream": "stdout",
       "text": [
        "\n",
        "   459  |  \u001b[94m  0.025402\u001b[0m  |  \u001b[32m  0.024324\u001b[0m  |     1.044318  |             |  0.7s"
       ]
      },
      {
       "output_type": "stream",
       "stream": "stdout",
       "text": [
        "\n",
        "   460  |    0.025443  |  \u001b[32m  0.024303\u001b[0m  |     1.046925  |             |  0.7s"
       ]
      },
      {
       "output_type": "stream",
       "stream": "stdout",
       "text": [
        "\n",
        "   461  |    0.025440  |  \u001b[32m  0.024298\u001b[0m  |     1.046995  |             |  0.7s"
       ]
      },
      {
       "output_type": "stream",
       "stream": "stdout",
       "text": [
        "\n",
        "   462  |    0.025456  |    0.024310  |     1.047162  |             |  0.7s"
       ]
      },
      {
       "output_type": "stream",
       "stream": "stdout",
       "text": [
        "\n",
        "   463  |  \u001b[94m  0.025401\u001b[0m  |  \u001b[32m  0.024286\u001b[0m  |     1.045923  |             |  0.7s"
       ]
      },
      {
       "output_type": "stream",
       "stream": "stdout",
       "text": [
        "\n",
        "   464  |  \u001b[94m  0.025355\u001b[0m  |  \u001b[32m  0.024274\u001b[0m  |     1.044519  |             |  0.7s"
       ]
      },
      {
       "output_type": "stream",
       "stream": "stdout",
       "text": [
        "\n",
        "   465  |    0.025385  |  \u001b[32m  0.024259\u001b[0m  |     1.046405  |             |  0.7s"
       ]
      },
      {
       "output_type": "stream",
       "stream": "stdout",
       "text": [
        "\n",
        "   466  |    0.025398  |  \u001b[32m  0.024246\u001b[0m  |     1.047495  |             |  0.7s"
       ]
      },
      {
       "output_type": "stream",
       "stream": "stdout",
       "text": [
        "\n",
        "   467  |    0.025383  |  \u001b[32m  0.024236\u001b[0m  |     1.047343  |             |  0.7s"
       ]
      },
      {
       "output_type": "stream",
       "stream": "stdout",
       "text": [
        "\n",
        "   468  |    0.025400  |    0.024236  |     1.048026  |             |  0.7s"
       ]
      },
      {
       "output_type": "stream",
       "stream": "stdout",
       "text": [
        "\n",
        "   469  |    0.025380  |    0.024237  |     1.047151  |             |  0.7s"
       ]
      },
      {
       "output_type": "stream",
       "stream": "stdout",
       "text": [
        "\n",
        "   470  |  \u001b[94m  0.025342\u001b[0m  |  \u001b[32m  0.024217\u001b[0m  |     1.046439  |             |  0.7s"
       ]
      },
      {
       "output_type": "stream",
       "stream": "stdout",
       "text": [
        "\n",
        "   471  |    0.025344  |  \u001b[32m  0.024174\u001b[0m  |     1.048368  |             |  0.7s"
       ]
      },
      {
       "output_type": "stream",
       "stream": "stdout",
       "text": [
        "\n",
        "   472  |  \u001b[94m  0.025333\u001b[0m  |    0.024185  |     1.047494  |             |  0.7s"
       ]
      },
      {
       "output_type": "stream",
       "stream": "stdout",
       "text": [
        "\n",
        "   473  |  \u001b[94m  0.025311\u001b[0m  |  \u001b[32m  0.024174\u001b[0m  |     1.047013  |             |  0.7s"
       ]
      },
      {
       "output_type": "stream",
       "stream": "stdout",
       "text": [
        "\n",
        "   474  |    0.025341  |    0.024175  |     1.048224  |             |  0.7s"
       ]
      },
      {
       "output_type": "stream",
       "stream": "stdout",
       "text": [
        "\n",
        "   475  |  \u001b[94m  0.025298\u001b[0m  |  \u001b[32m  0.024150\u001b[0m  |     1.047540  |             |  0.7s"
       ]
      },
      {
       "output_type": "stream",
       "stream": "stdout",
       "text": [
        "\n",
        "   476  |  \u001b[94m  0.025281\u001b[0m  |  \u001b[32m  0.024126\u001b[0m  |     1.047881  |             |  0.7s"
       ]
      },
      {
       "output_type": "stream",
       "stream": "stdout",
       "text": [
        "\n",
        "   477  |    0.025319  |    0.024132  |     1.049195  |             |  0.7s"
       ]
      },
      {
       "output_type": "stream",
       "stream": "stdout",
       "text": [
        "\n",
        "   478  |    0.025284  |    0.024130  |     1.047809  |             |  0.7s"
       ]
      },
      {
       "output_type": "stream",
       "stream": "stdout",
       "text": [
        "\n",
        "   479  |    0.025288  |  \u001b[32m  0.024104\u001b[0m  |     1.049116  |             |  0.7s"
       ]
      },
      {
       "output_type": "stream",
       "stream": "stdout",
       "text": [
        "\n",
        "   480  |  \u001b[94m  0.025251\u001b[0m  |  \u001b[32m  0.024078\u001b[0m  |     1.048706  |             |  0.7s"
       ]
      },
      {
       "output_type": "stream",
       "stream": "stdout",
       "text": [
        "\n",
        "   481  |    0.025294  |    0.024089  |     1.050038  |             |  0.7s"
       ]
      },
      {
       "output_type": "stream",
       "stream": "stdout",
       "text": [
        "\n",
        "   482  |    0.025281  |  \u001b[32m  0.024051\u001b[0m  |     1.051139  |             |  0.7s"
       ]
      },
      {
       "output_type": "stream",
       "stream": "stdout",
       "text": [
        "\n",
        "   483  |  \u001b[94m  0.025246\u001b[0m  |    0.024068  |     1.048933  |             |  0.7s"
       ]
      },
      {
       "output_type": "stream",
       "stream": "stdout",
       "text": [
        "\n",
        "   484  |    0.025248  |    0.024053  |     1.049695  |             |  0.7s"
       ]
      },
      {
       "output_type": "stream",
       "stream": "stdout",
       "text": [
        "\n",
        "   485  |    0.025269  |  \u001b[32m  0.024016\u001b[0m  |     1.052184  |             |  0.7s"
       ]
      },
      {
       "output_type": "stream",
       "stream": "stdout",
       "text": [
        "\n",
        "   486  |    0.025250  |    0.024043  |     1.050187  |             |  0.7s"
       ]
      },
      {
       "output_type": "stream",
       "stream": "stdout",
       "text": [
        "\n",
        "   487  |  \u001b[94m  0.025187\u001b[0m  |    0.024029  |     1.048196  |             |  0.7s"
       ]
      },
      {
       "output_type": "stream",
       "stream": "stdout",
       "text": [
        "\n",
        "   488  |  \u001b[94m  0.025147\u001b[0m  |    0.024029  |     1.046511  |             |  0.7s"
       ]
      },
      {
       "output_type": "stream",
       "stream": "stdout",
       "text": [
        "\n",
        "   489  |    0.025225  |  \u001b[32m  0.024000\u001b[0m  |     1.051031  |             |  0.7s"
       ]
      },
      {
       "output_type": "stream",
       "stream": "stdout",
       "text": [
        "\n",
        "   490  |    0.025222  |    0.024004  |     1.050742  |             |  0.7s"
       ]
      },
      {
       "output_type": "stream",
       "stream": "stdout",
       "text": [
        "\n",
        "   491  |    0.025187  |  \u001b[32m  0.023977\u001b[0m  |     1.050430  |             |  0.7s"
       ]
      },
      {
       "output_type": "stream",
       "stream": "stdout",
       "text": [
        "\n",
        "   492  |    0.025178  |    0.023989  |     1.049576  |             |  0.7s"
       ]
      },
      {
       "output_type": "stream",
       "stream": "stdout",
       "text": [
        "\n",
        "   493  |    0.025159  |  \u001b[32m  0.023948\u001b[0m  |     1.050572  |             |  0.7s"
       ]
      },
      {
       "output_type": "stream",
       "stream": "stdout",
       "text": [
        "\n",
        "   494  |    0.025202  |    0.023951  |     1.052240  |             |  0.7s"
       ]
      },
      {
       "output_type": "stream",
       "stream": "stdout",
       "text": [
        "\n",
        "   495  |    0.025203  |  \u001b[32m  0.023922\u001b[0m  |     1.053559  |             |  0.7s"
       ]
      },
      {
       "output_type": "stream",
       "stream": "stdout",
       "text": [
        "\n",
        "   496  |    0.025156  |    0.023929  |     1.051276  |             |  0.7s"
       ]
      },
      {
       "output_type": "stream",
       "stream": "stdout",
       "text": [
        "\n",
        "   497  |    0.025148  |  \u001b[32m  0.023909\u001b[0m  |     1.051837  |             |  0.7s"
       ]
      },
      {
       "output_type": "stream",
       "stream": "stdout",
       "text": [
        "\n",
        "   498  |  \u001b[94m  0.025090\u001b[0m  |    0.023914  |     1.049180  |             |  0.7s"
       ]
      },
      {
       "output_type": "stream",
       "stream": "stdout",
       "text": [
        "\n",
        "   499  |    0.025108  |  \u001b[32m  0.023902\u001b[0m  |     1.050451  |             |  0.7s"
       ]
      },
      {
       "output_type": "stream",
       "stream": "stdout",
       "text": [
        "\n",
        "   500  |  \u001b[94m  0.025062\u001b[0m  |  \u001b[32m  0.023861\u001b[0m  |     1.050324  |             |  0.7s"
       ]
      },
      {
       "output_type": "stream",
       "stream": "stdout",
       "text": [
        "\n",
        "   501  |    0.025109  |    0.023872  |     1.051841  |             |  0.7s"
       ]
      },
      {
       "output_type": "stream",
       "stream": "stdout",
       "text": [
        "\n",
        "   502  |    0.025118  |    0.023895  |     1.051192  |             |  0.7s"
       ]
      },
      {
       "output_type": "stream",
       "stream": "stdout",
       "text": [
        "\n",
        "   503  |    0.025113  |  \u001b[32m  0.023859\u001b[0m  |     1.052539  |             |  0.7s"
       ]
      },
      {
       "output_type": "stream",
       "stream": "stdout",
       "text": [
        "\n",
        "   504  |    0.025091  |  \u001b[32m  0.023858\u001b[0m  |     1.051663  |             |  0.7s"
       ]
      },
      {
       "output_type": "stream",
       "stream": "stdout",
       "text": [
        "\n",
        "   505  |    0.025103  |  \u001b[32m  0.023830\u001b[0m  |     1.053431  |             |  0.7s"
       ]
      },
      {
       "output_type": "stream",
       "stream": "stdout",
       "text": [
        "\n",
        "   506  |    0.025064  |  \u001b[32m  0.023825\u001b[0m  |     1.052029  |             |  0.7s"
       ]
      },
      {
       "output_type": "stream",
       "stream": "stdout",
       "text": [
        "\n",
        "   507  |  \u001b[94m  0.025018\u001b[0m  |    0.023835  |     1.049634  |             |  0.7s"
       ]
      },
      {
       "output_type": "stream",
       "stream": "stdout",
       "text": [
        "\n",
        "   508  |    0.025054  |  \u001b[32m  0.023808\u001b[0m  |     1.052352  |             |  0.7s"
       ]
      },
      {
       "output_type": "stream",
       "stream": "stdout",
       "text": [
        "\n",
        "   509  |  \u001b[94m  0.025002\u001b[0m  |    0.023811  |     1.050020  |             |  0.7s"
       ]
      },
      {
       "output_type": "stream",
       "stream": "stdout",
       "text": [
        "\n",
        "   510  |    0.025018  |  \u001b[32m  0.023767\u001b[0m  |     1.052624  |             |  0.7s"
       ]
      },
      {
       "output_type": "stream",
       "stream": "stdout",
       "text": [
        "\n",
        "   511  |  \u001b[94m  0.024975\u001b[0m  |  \u001b[32m  0.023754\u001b[0m  |     1.051391  |             |  0.7s"
       ]
      },
      {
       "output_type": "stream",
       "stream": "stdout",
       "text": [
        "\n",
        "   512  |    0.025027  |    0.023755  |     1.053517  |             |  0.7s"
       ]
      },
      {
       "output_type": "stream",
       "stream": "stdout",
       "text": [
        "\n",
        "   513  |    0.024997  |  \u001b[32m  0.023739\u001b[0m  |     1.053001  |             |  0.7s"
       ]
      },
      {
       "output_type": "stream",
       "stream": "stdout",
       "text": [
        "\n",
        "   514  |    0.025056  |  \u001b[32m  0.023738\u001b[0m  |     1.055543  |             |  0.7s"
       ]
      },
      {
       "output_type": "stream",
       "stream": "stdout",
       "text": [
        "\n",
        "   515  |    0.024984  |  \u001b[32m  0.023735\u001b[0m  |     1.052616  |             |  0.7s"
       ]
      },
      {
       "output_type": "stream",
       "stream": "stdout",
       "text": [
        "\n",
        "   516  |    0.024995  |  \u001b[32m  0.023709\u001b[0m  |     1.054265  |             |  0.7s"
       ]
      },
      {
       "output_type": "stream",
       "stream": "stdout",
       "text": [
        "\n",
        "   517  |    0.024996  |    0.023709  |     1.054273  |             |  0.7s"
       ]
      },
      {
       "output_type": "stream",
       "stream": "stdout",
       "text": [
        "\n",
        "   518  |  \u001b[94m  0.024967\u001b[0m  |  \u001b[32m  0.023687\u001b[0m  |     1.054056  |             |  0.7s"
       ]
      },
      {
       "output_type": "stream",
       "stream": "stdout",
       "text": [
        "\n",
        "   519  |  \u001b[94m  0.024952\u001b[0m  |    0.023697  |     1.052976  |             |  0.7s"
       ]
      },
      {
       "output_type": "stream",
       "stream": "stdout",
       "text": [
        "\n",
        "   520  |  \u001b[94m  0.024944\u001b[0m  |  \u001b[32m  0.023680\u001b[0m  |     1.053381  |             |  0.7s"
       ]
      },
      {
       "output_type": "stream",
       "stream": "stdout",
       "text": [
        "\n",
        "   521  |  \u001b[94m  0.024886\u001b[0m  |  \u001b[32m  0.023673\u001b[0m  |     1.051253  |             |  0.7s"
       ]
      },
      {
       "output_type": "stream",
       "stream": "stdout",
       "text": [
        "\n",
        "   522  |    0.024915  |  \u001b[32m  0.023657\u001b[0m  |     1.053145  |             |  0.7s"
       ]
      },
      {
       "output_type": "stream",
       "stream": "stdout",
       "text": [
        "\n",
        "   523  |    0.024943  |  \u001b[32m  0.023637\u001b[0m  |     1.055257  |             |  0.7s"
       ]
      },
      {
       "output_type": "stream",
       "stream": "stdout",
       "text": [
        "\n",
        "   524  |    0.024925  |  \u001b[32m  0.023635\u001b[0m  |     1.054578  |             |  0.7s"
       ]
      },
      {
       "output_type": "stream",
       "stream": "stdout",
       "text": [
        "\n",
        "   525  |    0.024934  |  \u001b[32m  0.023611\u001b[0m  |     1.056061  |             |  0.7s"
       ]
      },
      {
       "output_type": "stream",
       "stream": "stdout",
       "text": [
        "\n",
        "   526  |  \u001b[94m  0.024881\u001b[0m  |    0.023611  |     1.053777  |             |  0.7s"
       ]
      },
      {
       "output_type": "stream",
       "stream": "stdout",
       "text": [
        "\n",
        "   527  |  \u001b[94m  0.024867\u001b[0m  |  \u001b[32m  0.023575\u001b[0m  |     1.054803  |             |  0.7s"
       ]
      },
      {
       "output_type": "stream",
       "stream": "stdout",
       "text": [
        "\n",
        "   528  |    0.024921  |  \u001b[32m  0.023571\u001b[0m  |     1.057252  |             |  0.7s"
       ]
      },
      {
       "output_type": "stream",
       "stream": "stdout",
       "text": [
        "\n",
        "   529  |  \u001b[94m  0.024854\u001b[0m  |    0.023584  |     1.053854  |             |  0.7s"
       ]
      },
      {
       "output_type": "stream",
       "stream": "stdout",
       "text": [
        "\n",
        "   530  |  \u001b[94m  0.024840\u001b[0m  |  \u001b[32m  0.023568\u001b[0m  |     1.053944  |             |  0.7s"
       ]
      },
      {
       "output_type": "stream",
       "stream": "stdout",
       "text": [
        "\n",
        "   531  |    0.024858  |  \u001b[32m  0.023561\u001b[0m  |     1.055021  |             |  0.7s"
       ]
      },
      {
       "output_type": "stream",
       "stream": "stdout",
       "text": [
        "\n",
        "   532  |    0.024860  |    0.023570  |     1.054744  |             |  0.7s"
       ]
      },
      {
       "output_type": "stream",
       "stream": "stdout",
       "text": [
        "\n",
        "   533  |  \u001b[94m  0.024825\u001b[0m  |    0.023577  |     1.052962  |             |  0.7s"
       ]
      },
      {
       "output_type": "stream",
       "stream": "stdout",
       "text": [
        "\n",
        "   534  |    0.024865  |  \u001b[32m  0.023520\u001b[0m  |     1.057180  |             |  0.7s"
       ]
      },
      {
       "output_type": "stream",
       "stream": "stdout",
       "text": [
        "\n",
        "   535  |    0.024858  |    0.023524  |     1.056714  |             |  0.7s"
       ]
      },
      {
       "output_type": "stream",
       "stream": "stdout",
       "text": [
        "\n",
        "   536  |  \u001b[94m  0.024788\u001b[0m  |  \u001b[32m  0.023494\u001b[0m  |     1.055109  |             |  0.7s"
       ]
      },
      {
       "output_type": "stream",
       "stream": "stdout",
       "text": [
        "\n",
        "   537  |    0.024826  |    0.023498  |     1.056524  |             |  0.7s"
       ]
      },
      {
       "output_type": "stream",
       "stream": "stdout",
       "text": [
        "\n",
        "   538  |  \u001b[94m  0.024774\u001b[0m  |  \u001b[32m  0.023478\u001b[0m  |     1.055229  |             |  0.7s"
       ]
      },
      {
       "output_type": "stream",
       "stream": "stdout",
       "text": [
        "\n",
        "   539  |    0.024829  |  \u001b[32m  0.023453\u001b[0m  |     1.058692  |             |  0.7s"
       ]
      },
      {
       "output_type": "stream",
       "stream": "stdout",
       "text": [
        "\n",
        "   540  |  \u001b[94m  0.024752\u001b[0m  |    0.023467  |     1.054769  |             |  0.7s"
       ]
      },
      {
       "output_type": "stream",
       "stream": "stdout",
       "text": [
        "\n",
        "   541  |    0.024773  |    0.023456  |     1.056151  |             |  0.7s"
       ]
      },
      {
       "output_type": "stream",
       "stream": "stdout",
       "text": [
        "\n",
        "   542  |    0.024788  |    0.023474  |     1.055979  |             |  0.7s"
       ]
      },
      {
       "output_type": "stream",
       "stream": "stdout",
       "text": [
        "\n",
        "   543  |    0.024782  |  \u001b[32m  0.023409\u001b[0m  |     1.058638  |             |  0.7s"
       ]
      },
      {
       "output_type": "stream",
       "stream": "stdout",
       "text": [
        "\n",
        "   544  |  \u001b[94m  0.024737\u001b[0m  |  \u001b[32m  0.023385\u001b[0m  |     1.057798  |             |  0.7s"
       ]
      },
      {
       "output_type": "stream",
       "stream": "stdout",
       "text": [
        "\n",
        "   545  |    0.024745  |    0.023429  |     1.056183  |             |  0.7s"
       ]
      },
      {
       "output_type": "stream",
       "stream": "stdout",
       "text": [
        "\n",
        "   546  |  \u001b[94m  0.024675\u001b[0m  |  \u001b[32m  0.023373\u001b[0m  |     1.055722  |             |  0.7s"
       ]
      },
      {
       "output_type": "stream",
       "stream": "stdout",
       "text": [
        "\n",
        "   547  |    0.024721  |    0.023381  |     1.057316  |             |  0.7s"
       ]
      },
      {
       "output_type": "stream",
       "stream": "stdout",
       "text": [
        "\n",
        "   548  |    0.024712  |  \u001b[32m  0.023359\u001b[0m  |     1.057938  |             |  0.7s"
       ]
      },
      {
       "output_type": "stream",
       "stream": "stdout",
       "text": [
        "\n",
        "   549  |    0.024693  |  \u001b[32m  0.023349\u001b[0m  |     1.057524  |             |  0.7s"
       ]
      },
      {
       "output_type": "stream",
       "stream": "stdout",
       "text": [
        "\n",
        "   550  |    0.024690  |  \u001b[32m  0.023346\u001b[0m  |     1.057554  |             |  0.7s"
       ]
      },
      {
       "output_type": "stream",
       "stream": "stdout",
       "text": [
        "\n",
        "   551  |  \u001b[94m  0.024630\u001b[0m  |    0.023361  |     1.054313  |             |  0.7s"
       ]
      },
      {
       "output_type": "stream",
       "stream": "stdout",
       "text": [
        "\n",
        "   552  |    0.024702  |  \u001b[32m  0.023332\u001b[0m  |     1.058698  |             |  0.7s"
       ]
      },
      {
       "output_type": "stream",
       "stream": "stdout",
       "text": [
        "\n",
        "   553  |    0.024636  |  \u001b[32m  0.023320\u001b[0m  |     1.056424  |             |  0.7s"
       ]
      },
      {
       "output_type": "stream",
       "stream": "stdout",
       "text": [
        "\n",
        "   554  |    0.024704  |  \u001b[32m  0.023310\u001b[0m  |     1.059794  |             |  0.7s"
       ]
      },
      {
       "output_type": "stream",
       "stream": "stdout",
       "text": [
        "\n",
        "   555  |    0.024639  |  \u001b[32m  0.023303\u001b[0m  |     1.057314  |             |  0.7s"
       ]
      },
      {
       "output_type": "stream",
       "stream": "stdout",
       "text": [
        "\n",
        "   556  |  \u001b[94m  0.024626\u001b[0m  |  \u001b[32m  0.023300\u001b[0m  |     1.056906  |             |  0.7s"
       ]
      },
      {
       "output_type": "stream",
       "stream": "stdout",
       "text": [
        "\n",
        "   557  |    0.024631  |  \u001b[32m  0.023259\u001b[0m  |     1.058962  |             |  0.7s"
       ]
      },
      {
       "output_type": "stream",
       "stream": "stdout",
       "text": [
        "\n",
        "   558  |    0.024659  |    0.023279  |     1.059267  |             |  0.7s"
       ]
      },
      {
       "output_type": "stream",
       "stream": "stdout",
       "text": [
        "\n",
        "   559  |    0.024630  |  \u001b[32m  0.023250\u001b[0m  |     1.059348  |             |  0.7s"
       ]
      },
      {
       "output_type": "stream",
       "stream": "stdout",
       "text": [
        "\n",
        "   560  |  \u001b[94m  0.024583\u001b[0m  |    0.023270  |     1.056403  |             |  0.7s"
       ]
      },
      {
       "output_type": "stream",
       "stream": "stdout",
       "text": [
        "\n",
        "   561  |    0.024628  |    0.023258  |     1.058883  |             |  0.7s"
       ]
      },
      {
       "output_type": "stream",
       "stream": "stdout",
       "text": [
        "\n",
        "   562  |    0.024610  |  \u001b[32m  0.023223\u001b[0m  |     1.059723  |             |  0.7s"
       ]
      },
      {
       "output_type": "stream",
       "stream": "stdout",
       "text": [
        "\n",
        "   563  |    0.024592  |    0.023264  |     1.057119  |             |  0.7s"
       ]
      },
      {
       "output_type": "stream",
       "stream": "stdout",
       "text": [
        "\n",
        "   564  |  \u001b[94m  0.024528\u001b[0m  |  \u001b[32m  0.023207\u001b[0m  |     1.056926  |             |  0.7s"
       ]
      },
      {
       "output_type": "stream",
       "stream": "stdout",
       "text": [
        "\n",
        "   565  |    0.024575  |    0.023209  |     1.058827  |             |  0.7s"
       ]
      },
      {
       "output_type": "stream",
       "stream": "stdout",
       "text": [
        "\n",
        "   566  |    0.024547  |  \u001b[32m  0.023178\u001b[0m  |     1.059036  |             |  0.7s"
       ]
      },
      {
       "output_type": "stream",
       "stream": "stdout",
       "text": [
        "\n",
        "   567  |    0.024556  |  \u001b[32m  0.023173\u001b[0m  |     1.059661  |             |  0.7s"
       ]
      },
      {
       "output_type": "stream",
       "stream": "stdout",
       "text": [
        "\n",
        "   568  |    0.024545  |  \u001b[32m  0.023133\u001b[0m  |     1.061049  |             |  0.7s"
       ]
      },
      {
       "output_type": "stream",
       "stream": "stdout",
       "text": [
        "\n",
        "   569  |  \u001b[94m  0.024503\u001b[0m  |    0.023146  |     1.058588  |             |  0.7s"
       ]
      },
      {
       "output_type": "stream",
       "stream": "stdout",
       "text": [
        "\n",
        "   570  |    0.024551  |  \u001b[32m  0.023111\u001b[0m  |     1.062335  |             |  0.7s"
       ]
      },
      {
       "output_type": "stream",
       "stream": "stdout",
       "text": [
        "\n",
        "   571  |  \u001b[94m  0.024474\u001b[0m  |    0.023115  |     1.058786  |             |  0.7s"
       ]
      },
      {
       "output_type": "stream",
       "stream": "stdout",
       "text": [
        "\n",
        "   572  |    0.024499  |    0.023121  |     1.059611  |             |  0.7s"
       ]
      },
      {
       "output_type": "stream",
       "stream": "stdout",
       "text": [
        "\n",
        "   573  |    0.024474  |  \u001b[32m  0.023107\u001b[0m  |     1.059152  |             |  0.7s"
       ]
      },
      {
       "output_type": "stream",
       "stream": "stdout",
       "text": [
        "\n",
        "   574  |    0.024496  |    0.023112  |     1.059898  |             |  0.7s"
       ]
      },
      {
       "output_type": "stream",
       "stream": "stdout",
       "text": [
        "\n",
        "   575  |  \u001b[94m  0.024453\u001b[0m  |  \u001b[32m  0.023081\u001b[0m  |     1.059447  |             |  0.7s"
       ]
      },
      {
       "output_type": "stream",
       "stream": "stdout",
       "text": [
        "\n",
        "   576  |    0.024454  |  \u001b[32m  0.023072\u001b[0m  |     1.059892  |             |  0.7s"
       ]
      },
      {
       "output_type": "stream",
       "stream": "stdout",
       "text": [
        "\n",
        "   577  |  \u001b[94m  0.024448\u001b[0m  |  \u001b[32m  0.023058\u001b[0m  |     1.060298  |             |  0.7s"
       ]
      },
      {
       "output_type": "stream",
       "stream": "stdout",
       "text": [
        "\n",
        "   578  |    0.024490  |    0.023073  |     1.061414  |             |  0.7s"
       ]
      },
      {
       "output_type": "stream",
       "stream": "stdout",
       "text": [
        "\n",
        "   579  |    0.024494  |  \u001b[32m  0.023037\u001b[0m  |     1.063232  |             |  0.7s"
       ]
      },
      {
       "output_type": "stream",
       "stream": "stdout",
       "text": [
        "\n",
        "   580  |  \u001b[94m  0.024435\u001b[0m  |  \u001b[32m  0.023023\u001b[0m  |     1.061348  |             |  0.7s"
       ]
      },
      {
       "output_type": "stream",
       "stream": "stdout",
       "text": [
        "\n",
        "   581  |    0.024444  |  \u001b[32m  0.023010\u001b[0m  |     1.062317  |             |  0.7s"
       ]
      },
      {
       "output_type": "stream",
       "stream": "stdout",
       "text": [
        "\n",
        "   582  |  \u001b[94m  0.024414\u001b[0m  |  \u001b[32m  0.022987\u001b[0m  |     1.062085  |             |  0.7s"
       ]
      },
      {
       "output_type": "stream",
       "stream": "stdout",
       "text": [
        "\n",
        "   583  |    0.024420  |    0.023011  |     1.061234  |             |  0.7s"
       ]
      },
      {
       "output_type": "stream",
       "stream": "stdout",
       "text": [
        "\n",
        "   584  |  \u001b[94m  0.024400\u001b[0m  |    0.023003  |     1.060734  |             |  0.7s"
       ]
      },
      {
       "output_type": "stream",
       "stream": "stdout",
       "text": [
        "\n",
        "   585  |    0.024428  |  \u001b[32m  0.022964\u001b[0m  |     1.063779  |             |  0.7s"
       ]
      },
      {
       "output_type": "stream",
       "stream": "stdout",
       "text": [
        "\n",
        "   586  |    0.024411  |    0.022976  |     1.062496  |             |  0.7s"
       ]
      },
      {
       "output_type": "stream",
       "stream": "stdout",
       "text": [
        "\n",
        "   587  |  \u001b[94m  0.024396\u001b[0m  |    0.022968  |     1.062154  |             |  0.7s"
       ]
      },
      {
       "output_type": "stream",
       "stream": "stdout",
       "text": [
        "\n",
        "   588  |  \u001b[94m  0.024358\u001b[0m  |  \u001b[32m  0.022961\u001b[0m  |     1.060839  |             |  0.7s"
       ]
      },
      {
       "output_type": "stream",
       "stream": "stdout",
       "text": [
        "\n",
        "   589  |    0.024363  |  \u001b[32m  0.022949\u001b[0m  |     1.061614  |             |  0.7s"
       ]
      },
      {
       "output_type": "stream",
       "stream": "stdout",
       "text": [
        "\n",
        "   590  |  \u001b[94m  0.024326\u001b[0m  |  \u001b[32m  0.022908\u001b[0m  |     1.061869  |             |  0.7s"
       ]
      },
      {
       "output_type": "stream",
       "stream": "stdout",
       "text": [
        "\n",
        "   591  |    0.024340  |  \u001b[32m  0.022892\u001b[0m  |     1.063256  |             |  0.7s"
       ]
      },
      {
       "output_type": "stream",
       "stream": "stdout",
       "text": [
        "\n",
        "   592  |    0.024354  |    0.022895  |     1.063760  |             |  0.7s"
       ]
      },
      {
       "output_type": "stream",
       "stream": "stdout",
       "text": [
        "\n",
        "   593  |    0.024343  |  \u001b[32m  0.022887\u001b[0m  |     1.063656  |             |  0.7s"
       ]
      },
      {
       "output_type": "stream",
       "stream": "stdout",
       "text": [
        "\n",
        "   594  |    0.024348  |  \u001b[32m  0.022883\u001b[0m  |     1.063996  |             |  0.7s"
       ]
      },
      {
       "output_type": "stream",
       "stream": "stdout",
       "text": [
        "\n",
        "   595  |  \u001b[94m  0.024298\u001b[0m  |  \u001b[32m  0.022842\u001b[0m  |     1.063734  |             |  0.7s"
       ]
      },
      {
       "output_type": "stream",
       "stream": "stdout",
       "text": [
        "\n",
        "   596  |    0.024315  |  \u001b[32m  0.022834\u001b[0m  |     1.064873  |             |  0.7s"
       ]
      },
      {
       "output_type": "stream",
       "stream": "stdout",
       "text": [
        "\n",
        "   597  |    0.024368  |    0.022842  |     1.066832  |             |  0.7s"
       ]
      },
      {
       "output_type": "stream",
       "stream": "stdout",
       "text": [
        "\n",
        "   598  |    0.024310  |  \u001b[32m  0.022830\u001b[0m  |     1.064806  |             |  0.7s"
       ]
      },
      {
       "output_type": "stream",
       "stream": "stdout",
       "text": [
        "\n",
        "   599  |  \u001b[94m  0.024274\u001b[0m  |    0.022846  |     1.062510  |             |  0.7s"
       ]
      },
      {
       "output_type": "stream",
       "stream": "stdout",
       "text": [
        "\n",
        "   600  |    0.024274  |  \u001b[32m  0.022817\u001b[0m  |     1.063852  |             |  0.7s"
       ]
      },
      {
       "output_type": "stream",
       "stream": "stdout",
       "text": [
        "\n",
        "   601  |    0.024289  |    0.022825  |     1.064125  |             |  0.7s"
       ]
      },
      {
       "output_type": "stream",
       "stream": "stdout",
       "text": [
        "\n",
        "   602  |    0.024281  |  \u001b[32m  0.022785\u001b[0m  |     1.065649  |             |  0.7s"
       ]
      },
      {
       "output_type": "stream",
       "stream": "stdout",
       "text": [
        "\n",
        "   603  |  \u001b[94m  0.024224\u001b[0m  |    0.022795  |     1.062680  |             |  0.7s"
       ]
      },
      {
       "output_type": "stream",
       "stream": "stdout",
       "text": [
        "\n",
        "   604  |    0.024233  |  \u001b[32m  0.022774\u001b[0m  |     1.064056  |             |  0.7s"
       ]
      },
      {
       "output_type": "stream",
       "stream": "stdout",
       "text": [
        "\n",
        "   605  |  \u001b[94m  0.024208\u001b[0m  |  \u001b[32m  0.022752\u001b[0m  |     1.063964  |             |  0.7s"
       ]
      },
      {
       "output_type": "stream",
       "stream": "stdout",
       "text": [
        "\n",
        "   606  |    0.024236  |    0.022768  |     1.064455  |             |  0.7s"
       ]
      },
      {
       "output_type": "stream",
       "stream": "stdout",
       "text": [
        "\n",
        "   607  |    0.024254  |  \u001b[32m  0.022745\u001b[0m  |     1.066345  |             |  0.7s"
       ]
      },
      {
       "output_type": "stream",
       "stream": "stdout",
       "text": [
        "\n",
        "   608  |    0.024209  |  \u001b[32m  0.022727\u001b[0m  |     1.065221  |             |  0.7s"
       ]
      },
      {
       "output_type": "stream",
       "stream": "stdout",
       "text": [
        "\n",
        "   609  |  \u001b[94m  0.024196\u001b[0m  |  \u001b[32m  0.022725\u001b[0m  |     1.064759  |             |  0.7s"
       ]
      },
      {
       "output_type": "stream",
       "stream": "stdout",
       "text": [
        "\n",
        "   610  |  \u001b[94m  0.024177\u001b[0m  |    0.022729  |     1.063714  |             |  0.7s"
       ]
      },
      {
       "output_type": "stream",
       "stream": "stdout",
       "text": [
        "\n",
        "   611  |    0.024232  |  \u001b[32m  0.022705\u001b[0m  |     1.067261  |             |  0.7s"
       ]
      },
      {
       "output_type": "stream",
       "stream": "stdout",
       "text": [
        "\n",
        "   612  |  \u001b[94m  0.024146\u001b[0m  |  \u001b[32m  0.022671\u001b[0m  |     1.065040  |             |  0.7s"
       ]
      },
      {
       "output_type": "stream",
       "stream": "stdout",
       "text": [
        "\n",
        "   613  |    0.024177  |  \u001b[32m  0.022645\u001b[0m  |     1.067648  |             |  0.7s"
       ]
      },
      {
       "output_type": "stream",
       "stream": "stdout",
       "text": [
        "\n",
        "   614  |    0.024151  |    0.022655  |     1.066061  |             |  0.7s"
       ]
      },
      {
       "output_type": "stream",
       "stream": "stdout",
       "text": [
        "\n",
        "   615  |    0.024166  |    0.022660  |     1.066454  |             |  0.7s"
       ]
      },
      {
       "output_type": "stream",
       "stream": "stdout",
       "text": [
        "\n",
        "   616  |  \u001b[94m  0.024132\u001b[0m  |  \u001b[32m  0.022640\u001b[0m  |     1.065922  |             |  0.7s"
       ]
      },
      {
       "output_type": "stream",
       "stream": "stdout",
       "text": [
        "\n",
        "   617  |  \u001b[94m  0.024131\u001b[0m  |  \u001b[32m  0.022639\u001b[0m  |     1.065893  |             |  0.7s"
       ]
      },
      {
       "output_type": "stream",
       "stream": "stdout",
       "text": [
        "\n",
        "   618  |  \u001b[94m  0.024119\u001b[0m  |  \u001b[32m  0.022604\u001b[0m  |     1.067030  |             |  0.7s"
       ]
      },
      {
       "output_type": "stream",
       "stream": "stdout",
       "text": [
        "\n",
        "   619  |  \u001b[94m  0.024093\u001b[0m  |    0.022605  |     1.065850  |             |  0.7s"
       ]
      },
      {
       "output_type": "stream",
       "stream": "stdout",
       "text": [
        "\n",
        "   620  |    0.024108  |  \u001b[32m  0.022586\u001b[0m  |     1.067406  |             |  0.7s"
       ]
      },
      {
       "output_type": "stream",
       "stream": "stdout",
       "text": [
        "\n",
        "   621  |    0.024122  |    0.022594  |     1.067634  |             |  0.7s"
       ]
      },
      {
       "output_type": "stream",
       "stream": "stdout",
       "text": [
        "\n",
        "   622  |  \u001b[94m  0.024087\u001b[0m  |    0.022591  |     1.066245  |             |  0.7s"
       ]
      },
      {
       "output_type": "stream",
       "stream": "stdout",
       "text": [
        "\n",
        "   623  |    0.024099  |  \u001b[32m  0.022581\u001b[0m  |     1.067235  |             |  0.7s"
       ]
      },
      {
       "output_type": "stream",
       "stream": "stdout",
       "text": [
        "\n",
        "   624  |  \u001b[94m  0.024066\u001b[0m  |  \u001b[32m  0.022568\u001b[0m  |     1.066361  |             |  0.7s"
       ]
      },
      {
       "output_type": "stream",
       "stream": "stdout",
       "text": [
        "\n",
        "   625  |    0.024074  |  \u001b[32m  0.022560\u001b[0m  |     1.067109  |             |  0.7s"
       ]
      },
      {
       "output_type": "stream",
       "stream": "stdout",
       "text": [
        "\n",
        "   626  |  \u001b[94m  0.024012\u001b[0m  |  \u001b[32m  0.022543\u001b[0m  |     1.065145  |             |  0.7s"
       ]
      },
      {
       "output_type": "stream",
       "stream": "stdout",
       "text": [
        "\n",
        "   627  |    0.024047  |  \u001b[32m  0.022499\u001b[0m  |     1.068775  |             |  0.7s"
       ]
      },
      {
       "output_type": "stream",
       "stream": "stdout",
       "text": [
        "\n",
        "   628  |    0.024070  |    0.022501  |     1.069692  |             |  0.7s"
       ]
      },
      {
       "output_type": "stream",
       "stream": "stdout",
       "text": [
        "\n",
        "   629  |    0.024032  |    0.022507  |     1.067767  |             |  0.8s"
       ]
      },
      {
       "output_type": "stream",
       "stream": "stdout",
       "text": [
        "\n",
        "   630  |    0.024055  |  \u001b[32m  0.022475\u001b[0m  |     1.070262  |             |  0.7s"
       ]
      },
      {
       "output_type": "stream",
       "stream": "stdout",
       "text": [
        "\n",
        "   631  |    0.024014  |  \u001b[32m  0.022468\u001b[0m  |     1.068805  |             |  0.7s"
       ]
      },
      {
       "output_type": "stream",
       "stream": "stdout",
       "text": [
        "\n",
        "   632  |  \u001b[94m  0.023968\u001b[0m  |    0.022483  |     1.066052  |             |  0.7s"
       ]
      },
      {
       "output_type": "stream",
       "stream": "stdout",
       "text": [
        "\n",
        "   633  |    0.024018  |    0.022486  |     1.068120  |             |  0.7s"
       ]
      },
      {
       "output_type": "stream",
       "stream": "stdout",
       "text": [
        "\n",
        "   634  |    0.024013  |  \u001b[32m  0.022444\u001b[0m  |     1.069916  |             |  0.7s"
       ]
      },
      {
       "output_type": "stream",
       "stream": "stdout",
       "text": [
        "\n",
        "   635  |    0.024004  |  \u001b[32m  0.022440\u001b[0m  |     1.069669  |             |  0.7s"
       ]
      },
      {
       "output_type": "stream",
       "stream": "stdout",
       "text": [
        "\n",
        "   636  |  \u001b[94m  0.023961\u001b[0m  |    0.022450  |     1.067282  |             |  0.7s"
       ]
      },
      {
       "output_type": "stream",
       "stream": "stdout",
       "text": [
        "\n",
        "   637  |    0.024005  |    0.022443  |     1.069626  |             |  0.7s"
       ]
      },
      {
       "output_type": "stream",
       "stream": "stdout",
       "text": [
        "\n",
        "   638  |  \u001b[94m  0.023911\u001b[0m  |  \u001b[32m  0.022382\u001b[0m  |     1.068317  |             |  0.7s"
       ]
      },
      {
       "output_type": "stream",
       "stream": "stdout",
       "text": [
        "\n",
        "   639  |    0.023968  |  \u001b[32m  0.022376\u001b[0m  |     1.071187  |             |  0.7s"
       ]
      },
      {
       "output_type": "stream",
       "stream": "stdout",
       "text": [
        "\n",
        "   640  |    0.023977  |    0.022384  |     1.071171  |             |  0.7s"
       ]
      },
      {
       "output_type": "stream",
       "stream": "stdout",
       "text": [
        "\n",
        "   641  |  \u001b[94m  0.023909\u001b[0m  |    0.022390  |     1.067865  |             |  0.7s"
       ]
      },
      {
       "output_type": "stream",
       "stream": "stdout",
       "text": [
        "\n",
        "   642  |  \u001b[94m  0.023869\u001b[0m  |  \u001b[32m  0.022371\u001b[0m  |     1.066948  |             |  0.7s"
       ]
      },
      {
       "output_type": "stream",
       "stream": "stdout",
       "text": [
        "\n",
        "   643  |    0.023954  |  \u001b[32m  0.022346\u001b[0m  |     1.071962  |             |  0.7s"
       ]
      },
      {
       "output_type": "stream",
       "stream": "stdout",
       "text": [
        "\n",
        "   644  |    0.023898  |    0.022369  |     1.068367  |             |  0.7s"
       ]
      },
      {
       "output_type": "stream",
       "stream": "stdout",
       "text": [
        "\n",
        "   645  |  \u001b[94m  0.023848\u001b[0m  |  \u001b[32m  0.022315\u001b[0m  |     1.068681  |             |  0.7s"
       ]
      },
      {
       "output_type": "stream",
       "stream": "stdout",
       "text": [
        "\n",
        "   646  |  \u001b[94m  0.023839\u001b[0m  |  \u001b[32m  0.022303\u001b[0m  |     1.068852  |             |  0.7s"
       ]
      },
      {
       "output_type": "stream",
       "stream": "stdout",
       "text": [
        "\n",
        "   647  |    0.023865  |    0.022314  |     1.069515  |             |  0.7s"
       ]
      },
      {
       "output_type": "stream",
       "stream": "stdout",
       "text": [
        "\n",
        "   648  |  \u001b[94m  0.023785\u001b[0m  |  \u001b[32m  0.022298\u001b[0m  |     1.066712  |             |  0.7s"
       ]
      },
      {
       "output_type": "stream",
       "stream": "stdout",
       "text": [
        "\n",
        "   649  |    0.023901  |  \u001b[32m  0.022269\u001b[0m  |     1.073283  |             |  0.7s"
       ]
      },
      {
       "output_type": "stream",
       "stream": "stdout",
       "text": [
        "\n",
        "   650  |    0.023800  |    0.022270  |     1.068702  |             |  0.7s"
       ]
      },
      {
       "output_type": "stream",
       "stream": "stdout",
       "text": [
        "\n",
        "   651  |    0.023853  |  \u001b[32m  0.022233\u001b[0m  |     1.072854  |             |  0.7s"
       ]
      },
      {
       "output_type": "stream",
       "stream": "stdout",
       "text": [
        "\n",
        "   652  |    0.023882  |    0.022240  |     1.073845  |             |  0.7s"
       ]
      },
      {
       "output_type": "stream",
       "stream": "stdout",
       "text": [
        "\n",
        "   653  |    0.023818  |    0.022243  |     1.070804  |             |  0.7s"
       ]
      },
      {
       "output_type": "stream",
       "stream": "stdout",
       "text": [
        "\n",
        "   654  |    0.023866  |    0.022244  |     1.072911  |             |  0.7s"
       ]
      },
      {
       "output_type": "stream",
       "stream": "stdout",
       "text": [
        "\n",
        "   655  |    0.023786  |  \u001b[32m  0.022218\u001b[0m  |     1.070580  |             |  0.7s"
       ]
      },
      {
       "output_type": "stream",
       "stream": "stdout",
       "text": [
        "\n",
        "   656  |    0.023839  |    0.022219  |     1.072912  |             |  0.7s"
       ]
      },
      {
       "output_type": "stream",
       "stream": "stdout",
       "text": [
        "\n",
        "   657  |    0.023797  |  \u001b[32m  0.022189\u001b[0m  |     1.072464  |             |  0.7s"
       ]
      },
      {
       "output_type": "stream",
       "stream": "stdout",
       "text": [
        "\n",
        "   658  |  \u001b[94m  0.023769\u001b[0m  |  \u001b[32m  0.022185\u001b[0m  |     1.071395  |             |  0.7s"
       ]
      },
      {
       "output_type": "stream",
       "stream": "stdout",
       "text": [
        "\n",
        "   659  |    0.023776  |  \u001b[32m  0.022183\u001b[0m  |     1.071840  |             |  0.7s"
       ]
      },
      {
       "output_type": "stream",
       "stream": "stdout",
       "text": [
        "\n",
        "   660  |  \u001b[94m  0.023724\u001b[0m  |  \u001b[32m  0.022170\u001b[0m  |     1.070096  |             |  0.7s"
       ]
      },
      {
       "output_type": "stream",
       "stream": "stdout",
       "text": [
        "\n",
        "   661  |    0.023753  |  \u001b[32m  0.022169\u001b[0m  |     1.071416  |             |  0.7s"
       ]
      },
      {
       "output_type": "stream",
       "stream": "stdout",
       "text": [
        "\n",
        "   662  |    0.023771  |  \u001b[32m  0.022149\u001b[0m  |     1.073211  |             |  0.7s"
       ]
      },
      {
       "output_type": "stream",
       "stream": "stdout",
       "text": [
        "\n",
        "   663  |    0.023742  |  \u001b[32m  0.022140\u001b[0m  |     1.072387  |             |  0.7s"
       ]
      },
      {
       "output_type": "stream",
       "stream": "stdout",
       "text": [
        "\n",
        "   664  |    0.023730  |  \u001b[32m  0.022128\u001b[0m  |     1.072404  |             |  0.7s"
       ]
      },
      {
       "output_type": "stream",
       "stream": "stdout",
       "text": [
        "\n",
        "   665  |    0.023731  |  \u001b[32m  0.022109\u001b[0m  |     1.073363  |             |  0.7s"
       ]
      },
      {
       "output_type": "stream",
       "stream": "stdout",
       "text": [
        "\n",
        "   666  |  \u001b[94m  0.023715\u001b[0m  |  \u001b[32m  0.022108\u001b[0m  |     1.072685  |             |  0.7s"
       ]
      },
      {
       "output_type": "stream",
       "stream": "stdout",
       "text": [
        "\n",
        "   667  |    0.023732  |  \u001b[32m  0.022095\u001b[0m  |     1.074093  |             |  0.7s"
       ]
      },
      {
       "output_type": "stream",
       "stream": "stdout",
       "text": [
        "\n",
        "   668  |    0.023718  |  \u001b[32m  0.022084\u001b[0m  |     1.073990  |             |  0.7s"
       ]
      },
      {
       "output_type": "stream",
       "stream": "stdout",
       "text": [
        "\n",
        "   669  |  \u001b[94m  0.023695\u001b[0m  |  \u001b[32m  0.022072\u001b[0m  |     1.073545  |             |  0.7s"
       ]
      },
      {
       "output_type": "stream",
       "stream": "stdout",
       "text": [
        "\n",
        "   670  |  \u001b[94m  0.023667\u001b[0m  |    0.022074  |     1.072150  |             |  0.7s"
       ]
      },
      {
       "output_type": "stream",
       "stream": "stdout",
       "text": [
        "\n",
        "   671  |    0.023733  |  \u001b[32m  0.022055\u001b[0m  |     1.076109  |             |  0.7s"
       ]
      },
      {
       "output_type": "stream",
       "stream": "stdout",
       "text": [
        "\n",
        "   672  |    0.023702  |    0.022085  |     1.073191  |             |  0.7s"
       ]
      },
      {
       "output_type": "stream",
       "stream": "stdout",
       "text": [
        "\n",
        "   673  |  \u001b[94m  0.023661\u001b[0m  |  \u001b[32m  0.022052\u001b[0m  |     1.072999  |             |  0.7s"
       ]
      },
      {
       "output_type": "stream",
       "stream": "stdout",
       "text": [
        "\n",
        "   674  |  \u001b[94m  0.023630\u001b[0m  |  \u001b[32m  0.022004\u001b[0m  |     1.073904  |             |  0.7s"
       ]
      },
      {
       "output_type": "stream",
       "stream": "stdout",
       "text": [
        "\n",
        "   675  |    0.023658  |    0.022031  |     1.073824  |             |  0.7s"
       ]
      },
      {
       "output_type": "stream",
       "stream": "stdout",
       "text": [
        "\n",
        "   676  |  \u001b[94m  0.023597\u001b[0m  |  \u001b[32m  0.021991\u001b[0m  |     1.073012  |             |  0.7s"
       ]
      },
      {
       "output_type": "stream",
       "stream": "stdout",
       "text": [
        "\n",
        "   677  |    0.023617  |  \u001b[32m  0.021979\u001b[0m  |     1.074545  |             |  0.7s"
       ]
      },
      {
       "output_type": "stream",
       "stream": "stdout",
       "text": [
        "\n",
        "   678  |    0.023631  |    0.021987  |     1.074779  |             |  0.7s"
       ]
      },
      {
       "output_type": "stream",
       "stream": "stdout",
       "text": [
        "\n",
        "   679  |  \u001b[94m  0.023580\u001b[0m  |  \u001b[32m  0.021971\u001b[0m  |     1.073231  |             |  0.7s"
       ]
      },
      {
       "output_type": "stream",
       "stream": "stdout",
       "text": [
        "\n",
        "   680  |  \u001b[94m  0.023515\u001b[0m  |  \u001b[32m  0.021968\u001b[0m  |     1.070409  |             |  0.7s"
       ]
      },
      {
       "output_type": "stream",
       "stream": "stdout",
       "text": [
        "\n",
        "   681  |    0.023578  |    0.021973  |     1.073055  |             |  0.7s"
       ]
      },
      {
       "output_type": "stream",
       "stream": "stdout",
       "text": [
        "\n",
        "   682  |    0.023583  |    0.021970  |     1.073399  |             |  0.7s"
       ]
      },
      {
       "output_type": "stream",
       "stream": "stdout",
       "text": [
        "\n",
        "   683  |    0.023572  |  \u001b[32m  0.021931\u001b[0m  |     1.074839  |             |  0.7s"
       ]
      },
      {
       "output_type": "stream",
       "stream": "stdout",
       "text": [
        "\n",
        "   684  |    0.023594  |    0.021952  |     1.074780  |             |  0.7s"
       ]
      },
      {
       "output_type": "stream",
       "stream": "stdout",
       "text": [
        "\n",
        "   685  |    0.023632  |  \u001b[32m  0.021930\u001b[0m  |     1.077610  |             |  0.7s"
       ]
      },
      {
       "output_type": "stream",
       "stream": "stdout",
       "text": [
        "\n",
        "   686  |    0.023597  |  \u001b[32m  0.021920\u001b[0m  |     1.076532  |             |  0.7s"
       ]
      },
      {
       "output_type": "stream",
       "stream": "stdout",
       "text": [
        "\n",
        "   687  |    0.023537  |  \u001b[32m  0.021904\u001b[0m  |     1.074540  |             |  0.7s"
       ]
      },
      {
       "output_type": "stream",
       "stream": "stdout",
       "text": [
        "\n",
        "   688  |    0.023647  |    0.021913  |     1.079160  |             |  0.7s"
       ]
      },
      {
       "output_type": "stream",
       "stream": "stdout",
       "text": [
        "\n",
        "   689  |  \u001b[94m  0.023506\u001b[0m  |  \u001b[32m  0.021884\u001b[0m  |     1.074083  |             |  0.7s"
       ]
      },
      {
       "output_type": "stream",
       "stream": "stdout",
       "text": [
        "\n",
        "   690  |    0.023553  |  \u001b[32m  0.021862\u001b[0m  |     1.077380  |             |  0.7s"
       ]
      },
      {
       "output_type": "stream",
       "stream": "stdout",
       "text": [
        "\n",
        "   691  |  \u001b[94m  0.023496\u001b[0m  |  \u001b[32m  0.021857\u001b[0m  |     1.074951  |             |  0.7s"
       ]
      },
      {
       "output_type": "stream",
       "stream": "stdout",
       "text": [
        "\n",
        "   692  |  \u001b[94m  0.023470\u001b[0m  |  \u001b[32m  0.021846\u001b[0m  |     1.074341  |             |  0.7s"
       ]
      },
      {
       "output_type": "stream",
       "stream": "stdout",
       "text": [
        "\n",
        "   693  |    0.023495  |  \u001b[32m  0.021827\u001b[0m  |     1.076407  |             |  0.7s"
       ]
      },
      {
       "output_type": "stream",
       "stream": "stdout",
       "text": [
        "\n",
        "   694  |    0.023512  |  \u001b[32m  0.021815\u001b[0m  |     1.077791  |             |  0.7s"
       ]
      },
      {
       "output_type": "stream",
       "stream": "stdout",
       "text": [
        "\n",
        "   695  |  \u001b[94m  0.023448\u001b[0m  |  \u001b[32m  0.021804\u001b[0m  |     1.075407  |             |  0.7s"
       ]
      },
      {
       "output_type": "stream",
       "stream": "stdout",
       "text": [
        "\n",
        "   696  |  \u001b[94m  0.023432\u001b[0m  |  \u001b[32m  0.021795\u001b[0m  |     1.075074  |             |  0.7s"
       ]
      },
      {
       "output_type": "stream",
       "stream": "stdout",
       "text": [
        "\n",
        "   697  |  \u001b[94m  0.023425\u001b[0m  |  \u001b[32m  0.021781\u001b[0m  |     1.075451  |             |  0.7s"
       ]
      },
      {
       "output_type": "stream",
       "stream": "stdout",
       "text": [
        "\n",
        "   698  |    0.023437  |  \u001b[32m  0.021758\u001b[0m  |     1.077149  |             |  0.7s"
       ]
      },
      {
       "output_type": "stream",
       "stream": "stdout",
       "text": [
        "\n",
        "   699  |    0.023507  |    0.021795  |     1.078542  |             |  0.7s"
       ]
      },
      {
       "output_type": "stream",
       "stream": "stdout",
       "text": [
        "\n",
        "   700  |    0.023483  |    0.021775  |     1.078416  |             |  0.7s"
       ]
      },
      {
       "output_type": "stream",
       "stream": "stdout",
       "text": [
        "\n",
        "   701  |  \u001b[94m  0.023388\u001b[0m  |    0.021771  |     1.074261  |             |  0.7s"
       ]
      },
      {
       "output_type": "stream",
       "stream": "stdout",
       "text": [
        "\n",
        "   702  |    0.023428  |  \u001b[32m  0.021734\u001b[0m  |     1.077953  |             |  0.7s"
       ]
      },
      {
       "output_type": "stream",
       "stream": "stdout",
       "text": [
        "\n",
        "   703  |    0.023423  |    0.021754  |     1.076707  |             |  0.7s"
       ]
      },
      {
       "output_type": "stream",
       "stream": "stdout",
       "text": [
        "\n",
        "   704  |    0.023391  |  \u001b[32m  0.021729\u001b[0m  |     1.076444  |             |  0.7s"
       ]
      },
      {
       "output_type": "stream",
       "stream": "stdout",
       "text": [
        "\n",
        "   705  |    0.023413  |  \u001b[32m  0.021683\u001b[0m  |     1.079778  |             |  0.7s"
       ]
      },
      {
       "output_type": "stream",
       "stream": "stdout",
       "text": [
        "\n",
        "   706  |  \u001b[94m  0.023384\u001b[0m  |    0.021685  |     1.078329  |             |  0.7s"
       ]
      },
      {
       "output_type": "stream",
       "stream": "stdout",
       "text": [
        "\n",
        "   707  |  \u001b[94m  0.023294\u001b[0m  |  \u001b[32m  0.021676\u001b[0m  |     1.074622  |             |  0.7s"
       ]
      },
      {
       "output_type": "stream",
       "stream": "stdout",
       "text": [
        "\n",
        "   708  |    0.023344  |    0.021703  |     1.075617  |             |  0.7s"
       ]
      },
      {
       "output_type": "stream",
       "stream": "stdout",
       "text": [
        "\n",
        "   709  |    0.023333  |  \u001b[32m  0.021670\u001b[0m  |     1.076773  |             |  0.7s"
       ]
      },
      {
       "output_type": "stream",
       "stream": "stdout",
       "text": [
        "\n",
        "   710  |    0.023309  |  \u001b[32m  0.021646\u001b[0m  |     1.076826  |             |  0.7s"
       ]
      },
      {
       "output_type": "stream",
       "stream": "stdout",
       "text": [
        "\n",
        "   711  |    0.023302  |  \u001b[32m  0.021645\u001b[0m  |     1.076547  |             |  0.7s"
       ]
      },
      {
       "output_type": "stream",
       "stream": "stdout",
       "text": [
        "\n",
        "   712  |    0.023390  |  \u001b[32m  0.021637\u001b[0m  |     1.080997  |             |  0.7s"
       ]
      },
      {
       "output_type": "stream",
       "stream": "stdout",
       "text": [
        "\n",
        "   713  |    0.023349  |  \u001b[32m  0.021615\u001b[0m  |     1.080227  |             |  0.7s"
       ]
      },
      {
       "output_type": "stream",
       "stream": "stdout",
       "text": [
        "\n",
        "   714  |    0.023344  |    0.021659  |     1.077791  |             |  0.7s"
       ]
      },
      {
       "output_type": "stream",
       "stream": "stdout",
       "text": [
        "\n",
        "   715  |    0.023351  |    0.021640  |     1.079052  |             |  0.7s"
       ]
      },
      {
       "output_type": "stream",
       "stream": "stdout",
       "text": [
        "\n",
        "   716  |  \u001b[94m  0.023272\u001b[0m  |  \u001b[32m  0.021591\u001b[0m  |     1.077842  |             |  0.7s"
       ]
      },
      {
       "output_type": "stream",
       "stream": "stdout",
       "text": [
        "\n",
        "   717  |    0.023341  |  \u001b[32m  0.021588\u001b[0m  |     1.081190  |             |  0.7s"
       ]
      },
      {
       "output_type": "stream",
       "stream": "stdout",
       "text": [
        "\n",
        "   718  |    0.023285  |  \u001b[32m  0.021573\u001b[0m  |     1.079375  |             |  0.7s"
       ]
      },
      {
       "output_type": "stream",
       "stream": "stdout",
       "text": [
        "\n",
        "   719  |  \u001b[94m  0.023226\u001b[0m  |  \u001b[32m  0.021551\u001b[0m  |     1.077726  |             |  0.7s"
       ]
      },
      {
       "output_type": "stream",
       "stream": "stdout",
       "text": [
        "\n",
        "   720  |    0.023258  |  \u001b[32m  0.021530\u001b[0m  |     1.080285  |             |  0.7s"
       ]
      },
      {
       "output_type": "stream",
       "stream": "stdout",
       "text": [
        "\n",
        "   721  |    0.023285  |    0.021563  |     1.079859  |             |  0.7s"
       ]
      },
      {
       "output_type": "stream",
       "stream": "stdout",
       "text": [
        "\n",
        "   722  |    0.023241  |  \u001b[32m  0.021516\u001b[0m  |     1.080155  |             |  0.7s"
       ]
      },
      {
       "output_type": "stream",
       "stream": "stdout",
       "text": [
        "\n",
        "   723  |    0.023255  |    0.021524  |     1.080407  |             |  0.7s"
       ]
      },
      {
       "output_type": "stream",
       "stream": "stdout",
       "text": [
        "\n",
        "   724  |    0.023235  |    0.021525  |     1.079443  |             |  0.7s"
       ]
      },
      {
       "output_type": "stream",
       "stream": "stdout",
       "text": [
        "\n",
        "   725  |  \u001b[94m  0.023222\u001b[0m  |  \u001b[32m  0.021496\u001b[0m  |     1.080288  |             |  0.7s"
       ]
      },
      {
       "output_type": "stream",
       "stream": "stdout",
       "text": [
        "\n",
        "   726  |    0.023233  |  \u001b[32m  0.021491\u001b[0m  |     1.081067  |             |  0.7s"
       ]
      },
      {
       "output_type": "stream",
       "stream": "stdout",
       "text": [
        "\n",
        "   727  |    0.023224  |  \u001b[32m  0.021480\u001b[0m  |     1.081156  |             |  0.7s"
       ]
      },
      {
       "output_type": "stream",
       "stream": "stdout",
       "text": [
        "\n",
        "   728  |  \u001b[94m  0.023197\u001b[0m  |  \u001b[32m  0.021466\u001b[0m  |     1.080651  |             |  0.7s"
       ]
      },
      {
       "output_type": "stream",
       "stream": "stdout",
       "text": [
        "\n",
        "   729  |    0.023215  |  \u001b[32m  0.021455\u001b[0m  |     1.082045  |             |  0.7s"
       ]
      },
      {
       "output_type": "stream",
       "stream": "stdout",
       "text": [
        "\n",
        "   730  |  \u001b[94m  0.023187\u001b[0m  |  \u001b[32m  0.021436\u001b[0m  |     1.081685  |             |  0.7s"
       ]
      },
      {
       "output_type": "stream",
       "stream": "stdout",
       "text": [
        "\n",
        "   731  |  \u001b[94m  0.023129\u001b[0m  |    0.021441  |     1.078732  |             |  0.7s"
       ]
      },
      {
       "output_type": "stream",
       "stream": "stdout",
       "text": [
        "\n",
        "   732  |  \u001b[94m  0.023093\u001b[0m  |  \u001b[32m  0.021421\u001b[0m  |     1.078069  |             |  0.7s"
       ]
      },
      {
       "output_type": "stream",
       "stream": "stdout",
       "text": [
        "\n",
        "   733  |    0.023179  |  \u001b[32m  0.021413\u001b[0m  |     1.082462  |             |  0.7s"
       ]
      },
      {
       "output_type": "stream",
       "stream": "stdout",
       "text": [
        "\n",
        "   734  |    0.023147  |  \u001b[32m  0.021400\u001b[0m  |     1.081658  |             |  0.7s"
       ]
      },
      {
       "output_type": "stream",
       "stream": "stdout",
       "text": [
        "\n",
        "   735  |    0.023177  |    0.021403  |     1.082906  |             |  0.7s"
       ]
      },
      {
       "output_type": "stream",
       "stream": "stdout",
       "text": [
        "\n",
        "   736  |    0.023150  |  \u001b[32m  0.021373\u001b[0m  |     1.083112  |             |  0.7s"
       ]
      },
      {
       "output_type": "stream",
       "stream": "stdout",
       "text": [
        "\n",
        "   737  |    0.023122  |    0.021385  |     1.081231  |             |  0.7s"
       ]
      },
      {
       "output_type": "stream",
       "stream": "stdout",
       "text": [
        "\n",
        "   738  |    0.023104  |    0.021383  |     1.080520  |             |  0.7s"
       ]
      },
      {
       "output_type": "stream",
       "stream": "stdout",
       "text": [
        "\n",
        "   739  |    0.023096  |  \u001b[32m  0.021337\u001b[0m  |     1.082460  |             |  0.7s"
       ]
      },
      {
       "output_type": "stream",
       "stream": "stdout",
       "text": [
        "\n",
        "   740  |  \u001b[94m  0.023060\u001b[0m  |    0.021350  |     1.080128  |             |  0.7s"
       ]
      },
      {
       "output_type": "stream",
       "stream": "stdout",
       "text": [
        "\n",
        "   741  |    0.023100  |    0.021344  |     1.082266  |             |  0.7s"
       ]
      },
      {
       "output_type": "stream",
       "stream": "stdout",
       "text": [
        "\n",
        "   742  |    0.023097  |  \u001b[32m  0.021319\u001b[0m  |     1.083400  |             |  0.7s"
       ]
      },
      {
       "output_type": "stream",
       "stream": "stdout",
       "text": [
        "\n",
        "   743  |    0.023100  |  \u001b[32m  0.021296\u001b[0m  |     1.084723  |             |  0.7s"
       ]
      },
      {
       "output_type": "stream",
       "stream": "stdout",
       "text": [
        "\n",
        "   744  |    0.023106  |    0.021308  |     1.084373  |             |  0.7s"
       ]
      },
      {
       "output_type": "stream",
       "stream": "stdout",
       "text": [
        "\n",
        "   745  |  \u001b[94m  0.023030\u001b[0m  |    0.021296  |     1.081419  |             |  0.7s"
       ]
      },
      {
       "output_type": "stream",
       "stream": "stdout",
       "text": [
        "\n",
        "   746  |  \u001b[94m  0.023014\u001b[0m  |    0.021309  |     1.080023  |             |  0.7s"
       ]
      },
      {
       "output_type": "stream",
       "stream": "stdout",
       "text": [
        "\n",
        "   747  |    0.023015  |  \u001b[32m  0.021277\u001b[0m  |     1.081685  |             |  0.7s"
       ]
      },
      {
       "output_type": "stream",
       "stream": "stdout",
       "text": [
        "\n",
        "   748  |  \u001b[94m  0.022985\u001b[0m  |    0.021280  |     1.080110  |             |  0.7s"
       ]
      },
      {
       "output_type": "stream",
       "stream": "stdout",
       "text": [
        "\n",
        "   749  |    0.023077  |  \u001b[32m  0.021243\u001b[0m  |     1.086315  |             |  0.7s"
       ]
      },
      {
       "output_type": "stream",
       "stream": "stdout",
       "text": [
        "\n",
        "   750  |    0.023044  |    0.021251  |     1.084372  |             |  0.7s"
       ]
      },
      {
       "output_type": "stream",
       "stream": "stdout",
       "text": [
        "\n",
        "   751  |    0.023047  |    0.021259  |     1.084093  |             |  0.7s"
       ]
      },
      {
       "output_type": "stream",
       "stream": "stdout",
       "text": [
        "\n",
        "   752  |    0.023062  |  \u001b[32m  0.021234\u001b[0m  |     1.086113  |             |  0.7s"
       ]
      },
      {
       "output_type": "stream",
       "stream": "stdout",
       "text": [
        "\n",
        "   753  |    0.022991  |  \u001b[32m  0.021231\u001b[0m  |     1.082921  |             |  0.7s"
       ]
      },
      {
       "output_type": "stream",
       "stream": "stdout",
       "text": [
        "\n",
        "   754  |    0.023005  |  \u001b[32m  0.021221\u001b[0m  |     1.084061  |             |  0.7s"
       ]
      },
      {
       "output_type": "stream",
       "stream": "stdout",
       "text": [
        "\n",
        "   755  |    0.023049  |  \u001b[32m  0.021214\u001b[0m  |     1.086515  |             |  0.7s"
       ]
      },
      {
       "output_type": "stream",
       "stream": "stdout",
       "text": [
        "\n",
        "   756  |  \u001b[94m  0.022970\u001b[0m  |  \u001b[32m  0.021173\u001b[0m  |     1.084880  |             |  0.7s"
       ]
      },
      {
       "output_type": "stream",
       "stream": "stdout",
       "text": [
        "\n",
        "   757  |  \u001b[94m  0.022965\u001b[0m  |    0.021174  |     1.084577  |             |  0.7s"
       ]
      },
      {
       "output_type": "stream",
       "stream": "stdout",
       "text": [
        "\n",
        "   758  |  \u001b[94m  0.022917\u001b[0m  |  \u001b[32m  0.021145\u001b[0m  |     1.083794  |             |  0.7s"
       ]
      },
      {
       "output_type": "stream",
       "stream": "stdout",
       "text": [
        "\n",
        "   759  |  \u001b[94m  0.022886\u001b[0m  |    0.021152  |     1.081989  |             |  0.7s"
       ]
      },
      {
       "output_type": "stream",
       "stream": "stdout",
       "text": [
        "\n",
        "   760  |    0.022959  |    0.021166  |     1.084730  |             |  0.7s"
       ]
      },
      {
       "output_type": "stream",
       "stream": "stdout",
       "text": [
        "\n",
        "   761  |    0.022971  |  \u001b[32m  0.021138\u001b[0m  |     1.086731  |             |  0.7s"
       ]
      },
      {
       "output_type": "stream",
       "stream": "stdout",
       "text": [
        "\n",
        "   762  |  \u001b[94m  0.022883\u001b[0m  |  \u001b[32m  0.021111\u001b[0m  |     1.083896  |             |  0.7s"
       ]
      },
      {
       "output_type": "stream",
       "stream": "stdout",
       "text": [
        "\n",
        "   763  |  \u001b[94m  0.022852\u001b[0m  |  \u001b[32m  0.021081\u001b[0m  |     1.084032  |             |  0.7s"
       ]
      },
      {
       "output_type": "stream",
       "stream": "stdout",
       "text": [
        "\n",
        "   764  |    0.022923  |    0.021087  |     1.087081  |             |  0.7s"
       ]
      },
      {
       "output_type": "stream",
       "stream": "stdout",
       "text": [
        "\n",
        "   765  |    0.022943  |    0.021088  |     1.087954  |             |  0.7s"
       ]
      },
      {
       "output_type": "stream",
       "stream": "stdout",
       "text": [
        "\n",
        "   766  |    0.022913  |  \u001b[32m  0.021072\u001b[0m  |     1.087368  |             |  0.7s"
       ]
      },
      {
       "output_type": "stream",
       "stream": "stdout",
       "text": [
        "\n",
        "   767  |    0.022944  |    0.021095  |     1.087655  |             |  0.7s"
       ]
      },
      {
       "output_type": "stream",
       "stream": "stdout",
       "text": [
        "\n",
        "   768  |    0.022921  |    0.021088  |     1.086937  |             |  0.7s"
       ]
      },
      {
       "output_type": "stream",
       "stream": "stdout",
       "text": [
        "\n",
        "   769  |    0.022858  |  \u001b[32m  0.021031\u001b[0m  |     1.086875  |             |  0.7s"
       ]
      },
      {
       "output_type": "stream",
       "stream": "stdout",
       "text": [
        "\n",
        "   770  |  \u001b[94m  0.022838\u001b[0m  |    0.021056  |     1.084636  |             |  0.7s"
       ]
      },
      {
       "output_type": "stream",
       "stream": "stdout",
       "text": [
        "\n",
        "   771  |    0.022844  |  \u001b[32m  0.021009\u001b[0m  |     1.087333  |             |  0.7s"
       ]
      },
      {
       "output_type": "stream",
       "stream": "stdout",
       "text": [
        "\n",
        "   772  |  \u001b[94m  0.022806\u001b[0m  |    0.021023  |     1.084805  |             |  0.7s"
       ]
      },
      {
       "output_type": "stream",
       "stream": "stdout",
       "text": [
        "\n",
        "   773  |    0.022865  |    0.021020  |     1.087766  |             |  0.7s"
       ]
      },
      {
       "output_type": "stream",
       "stream": "stdout",
       "text": [
        "\n",
        "   774  |    0.022837  |    0.021011  |     1.086903  |             |  0.7s"
       ]
      },
      {
       "output_type": "stream",
       "stream": "stdout",
       "text": [
        "\n",
        "   775  |    0.022832  |  \u001b[32m  0.020994\u001b[0m  |     1.087541  |             |  0.7s"
       ]
      },
      {
       "output_type": "stream",
       "stream": "stdout",
       "text": [
        "\n",
        "   776  |    0.022830  |    0.021009  |     1.086681  |             |  0.7s"
       ]
      },
      {
       "output_type": "stream",
       "stream": "stdout",
       "text": [
        "\n",
        "   777  |    0.022816  |  \u001b[32m  0.020965\u001b[0m  |     1.088300  |             |  0.7s"
       ]
      },
      {
       "output_type": "stream",
       "stream": "stdout",
       "text": [
        "\n",
        "   778  |  \u001b[94m  0.022777\u001b[0m  |  \u001b[32m  0.020940\u001b[0m  |     1.087731  |             |  0.7s"
       ]
      },
      {
       "output_type": "stream",
       "stream": "stdout",
       "text": [
        "\n",
        "   779  |    0.022845  |    0.020959  |     1.090015  |             |  0.7s"
       ]
      },
      {
       "output_type": "stream",
       "stream": "stdout",
       "text": [
        "\n",
        "   780  |  \u001b[94m  0.022730\u001b[0m  |    0.020956  |     1.084668  |             |  0.7s"
       ]
      },
      {
       "output_type": "stream",
       "stream": "stdout",
       "text": [
        "\n",
        "   781  |    0.022736  |    0.020944  |     1.085588  |             |  0.7s"
       ]
      },
      {
       "output_type": "stream",
       "stream": "stdout",
       "text": [
        "\n",
        "   782  |    0.022774  |  \u001b[32m  0.020927\u001b[0m  |     1.088248  |             |  0.7s"
       ]
      },
      {
       "output_type": "stream",
       "stream": "stdout",
       "text": [
        "\n",
        "   783  |  \u001b[94m  0.022719\u001b[0m  |  \u001b[32m  0.020924\u001b[0m  |     1.085787  |             |  0.7s"
       ]
      },
      {
       "output_type": "stream",
       "stream": "stdout",
       "text": [
        "\n",
        "   784  |    0.022828  |  \u001b[32m  0.020915\u001b[0m  |     1.091442  |             |  0.7s"
       ]
      },
      {
       "output_type": "stream",
       "stream": "stdout",
       "text": [
        "\n",
        "   785  |    0.022751  |    0.020917  |     1.087677  |             |  0.7s"
       ]
      },
      {
       "output_type": "stream",
       "stream": "stdout",
       "text": [
        "\n",
        "   786  |  \u001b[94m  0.022713\u001b[0m  |  \u001b[32m  0.020885\u001b[0m  |     1.087546  |             |  0.7s"
       ]
      },
      {
       "output_type": "stream",
       "stream": "stdout",
       "text": [
        "\n",
        "   787  |    0.022758  |  \u001b[32m  0.020860\u001b[0m  |     1.091003  |             |  0.7s"
       ]
      },
      {
       "output_type": "stream",
       "stream": "stdout",
       "text": [
        "\n",
        "   788  |    0.022776  |    0.020875  |     1.091032  |             |  0.7s"
       ]
      },
      {
       "output_type": "stream",
       "stream": "stdout",
       "text": [
        "\n",
        "   789  |    0.022715  |    0.020871  |     1.088343  |             |  0.7s"
       ]
      },
      {
       "output_type": "stream",
       "stream": "stdout",
       "text": [
        "\n",
        "   790  |  \u001b[94m  0.022699\u001b[0m  |    0.020869  |     1.087717  |             |  0.7s"
       ]
      },
      {
       "output_type": "stream",
       "stream": "stdout",
       "text": [
        "\n",
        "   791  |  \u001b[94m  0.022693\u001b[0m  |    0.020875  |     1.087067  |             |  0.7s"
       ]
      },
      {
       "output_type": "stream",
       "stream": "stdout",
       "text": [
        "\n",
        "   792  |    0.022702  |    0.020871  |     1.087754  |             |  0.7s"
       ]
      },
      {
       "output_type": "stream",
       "stream": "stdout",
       "text": [
        "\n",
        "   793  |  \u001b[94m  0.022691\u001b[0m  |  \u001b[32m  0.020800\u001b[0m  |     1.090906  |             |  0.7s"
       ]
      },
      {
       "output_type": "stream",
       "stream": "stdout",
       "text": [
        "\n",
        "   794  |  \u001b[94m  0.022659\u001b[0m  |  \u001b[32m  0.020783\u001b[0m  |     1.090268  |             |  0.7s"
       ]
      },
      {
       "output_type": "stream",
       "stream": "stdout",
       "text": [
        "\n",
        "   795  |  \u001b[94m  0.022657\u001b[0m  |    0.020811  |     1.088733  |             |  0.7s"
       ]
      },
      {
       "output_type": "stream",
       "stream": "stdout",
       "text": [
        "\n",
        "   796  |    0.022658  |    0.020805  |     1.089105  |             |  0.7s"
       ]
      },
      {
       "output_type": "stream",
       "stream": "stdout",
       "text": [
        "\n",
        "   797  |  \u001b[94m  0.022628\u001b[0m  |    0.020784  |     1.088693  |             |  0.7s"
       ]
      },
      {
       "output_type": "stream",
       "stream": "stdout",
       "text": [
        "\n",
        "   798  |    0.022662  |  \u001b[32m  0.020768\u001b[0m  |     1.091193  |             |  0.7s"
       ]
      },
      {
       "output_type": "stream",
       "stream": "stdout",
       "text": [
        "\n",
        "   799  |    0.022677  |    0.020787  |     1.090922  |             |  0.7s"
       ]
      },
      {
       "output_type": "stream",
       "stream": "stdout",
       "text": [
        "\n",
        "   800  |    0.022642  |  \u001b[32m  0.020762\u001b[0m  |     1.090536  |             |  0.7s"
       ]
      },
      {
       "output_type": "stream",
       "stream": "stdout",
       "text": [
        "\n",
        "   801  |    0.022674  |  \u001b[32m  0.020734\u001b[0m  |     1.093585  |             |  0.7s"
       ]
      },
      {
       "output_type": "stream",
       "stream": "stdout",
       "text": [
        "\n",
        "   802  |  \u001b[94m  0.022570\u001b[0m  |  \u001b[32m  0.020725\u001b[0m  |     1.089038  |             |  0.7s"
       ]
      },
      {
       "output_type": "stream",
       "stream": "stdout",
       "text": [
        "\n",
        "   803  |    0.022631  |  \u001b[32m  0.020709\u001b[0m  |     1.092807  |             |  0.7s"
       ]
      },
      {
       "output_type": "stream",
       "stream": "stdout",
       "text": [
        "\n",
        "   804  |    0.022576  |    0.020711  |     1.090065  |             |  0.7s"
       ]
      },
      {
       "output_type": "stream",
       "stream": "stdout",
       "text": [
        "\n",
        "   805  |    0.022641  |    0.020727  |     1.092316  |             |  0.7s"
       ]
      },
      {
       "output_type": "stream",
       "stream": "stdout",
       "text": [
        "\n",
        "   806  |    0.022607  |  \u001b[32m  0.020694\u001b[0m  |     1.092457  |             |  0.7s"
       ]
      },
      {
       "output_type": "stream",
       "stream": "stdout",
       "text": [
        "\n",
        "   807  |    0.022668  |    0.020711  |     1.094505  |             |  0.7s"
       ]
      },
      {
       "output_type": "stream",
       "stream": "stdout",
       "text": [
        "\n",
        "   808  |  \u001b[94m  0.022559\u001b[0m  |  \u001b[32m  0.020693\u001b[0m  |     1.090197  |             |  0.7s"
       ]
      },
      {
       "output_type": "stream",
       "stream": "stdout",
       "text": [
        "\n",
        "   809  |    0.022561  |  \u001b[32m  0.020662\u001b[0m  |     1.091905  |             |  0.7s"
       ]
      },
      {
       "output_type": "stream",
       "stream": "stdout",
       "text": [
        "\n",
        "   810  |  \u001b[94m  0.022537\u001b[0m  |  \u001b[32m  0.020655\u001b[0m  |     1.091118  |             |  0.7s"
       ]
      },
      {
       "output_type": "stream",
       "stream": "stdout",
       "text": [
        "\n",
        "   811  |  \u001b[94m  0.022536\u001b[0m  |  \u001b[32m  0.020642\u001b[0m  |     1.091769  |             |  0.7s"
       ]
      },
      {
       "output_type": "stream",
       "stream": "stdout",
       "text": [
        "\n",
        "   812  |    0.022567  |    0.020646  |     1.093069  |             |  0.7s"
       ]
      },
      {
       "output_type": "stream",
       "stream": "stdout",
       "text": [
        "\n",
        "   813  |    0.022600  |    0.020671  |     1.093333  |             |  0.7s"
       ]
      },
      {
       "output_type": "stream",
       "stream": "stdout",
       "text": [
        "\n",
        "   814  |    0.022545  |  \u001b[32m  0.020640\u001b[0m  |     1.092306  |             |  0.7s"
       ]
      },
      {
       "output_type": "stream",
       "stream": "stdout",
       "text": [
        "\n",
        "   815  |    0.022581  |  \u001b[32m  0.020635\u001b[0m  |     1.094330  |             |  0.7s"
       ]
      },
      {
       "output_type": "stream",
       "stream": "stdout",
       "text": [
        "\n",
        "   816  |  \u001b[94m  0.022452\u001b[0m  |  \u001b[32m  0.020633\u001b[0m  |     1.088166  |             |  0.7s"
       ]
      },
      {
       "output_type": "stream",
       "stream": "stdout",
       "text": [
        "\n",
        "   817  |    0.022531  |  \u001b[32m  0.020588\u001b[0m  |     1.094375  |             |  0.7s"
       ]
      },
      {
       "output_type": "stream",
       "stream": "stdout",
       "text": [
        "\n",
        "   818  |    0.022499  |    0.020594  |     1.092509  |             |  0.7s"
       ]
      },
      {
       "output_type": "stream",
       "stream": "stdout",
       "text": [
        "\n",
        "   819  |    0.022543  |    0.020591  |     1.094780  |             |  0.7s"
       ]
      },
      {
       "output_type": "stream",
       "stream": "stdout",
       "text": [
        "\n",
        "   820  |    0.022456  |    0.020590  |     1.090642  |             |  0.7s"
       ]
      },
      {
       "output_type": "stream",
       "stream": "stdout",
       "text": [
        "\n",
        "   821  |    0.022527  |  \u001b[32m  0.020569\u001b[0m  |     1.095186  |             |  0.7s"
       ]
      },
      {
       "output_type": "stream",
       "stream": "stdout",
       "text": [
        "\n",
        "   822  |    0.022486  |  \u001b[32m  0.020547\u001b[0m  |     1.094401  |             |  0.7s"
       ]
      },
      {
       "output_type": "stream",
       "stream": "stdout",
       "text": [
        "\n",
        "   823  |    0.022488  |    0.020548  |     1.094415  |             |  0.7s"
       ]
      },
      {
       "output_type": "stream",
       "stream": "stdout",
       "text": [
        "\n",
        "   824  |    0.022468  |  \u001b[32m  0.020532\u001b[0m  |     1.094324  |             |  0.7s"
       ]
      },
      {
       "output_type": "stream",
       "stream": "stdout",
       "text": [
        "\n",
        "   825  |  \u001b[94m  0.022450\u001b[0m  |  \u001b[32m  0.020523\u001b[0m  |     1.093869  |             |  0.7s"
       ]
      },
      {
       "output_type": "stream",
       "stream": "stdout",
       "text": [
        "\n",
        "   826  |    0.022476  |    0.020527  |     1.094964  |             |  0.7s"
       ]
      },
      {
       "output_type": "stream",
       "stream": "stdout",
       "text": [
        "\n",
        "   827  |    0.022457  |  \u001b[32m  0.020506\u001b[0m  |     1.095130  |             |  0.7s"
       ]
      },
      {
       "output_type": "stream",
       "stream": "stdout",
       "text": [
        "\n",
        "   828  |  \u001b[94m  0.022423\u001b[0m  |    0.020523  |     1.092546  |             |  0.7s"
       ]
      },
      {
       "output_type": "stream",
       "stream": "stdout",
       "text": [
        "\n",
        "   829  |  \u001b[94m  0.022389\u001b[0m  |    0.020508  |     1.091685  |             |  0.7s"
       ]
      },
      {
       "output_type": "stream",
       "stream": "stdout",
       "text": [
        "\n",
        "   830  |    0.022469  |  \u001b[32m  0.020481\u001b[0m  |     1.097102  |             |  0.7s"
       ]
      },
      {
       "output_type": "stream",
       "stream": "stdout",
       "text": [
        "\n",
        "   831  |  \u001b[94m  0.022376\u001b[0m  |  \u001b[32m  0.020464\u001b[0m  |     1.093396  |             |  0.7s"
       ]
      },
      {
       "output_type": "stream",
       "stream": "stdout",
       "text": [
        "\n",
        "   832  |    0.022404  |    0.020465  |     1.094760  |             |  0.7s"
       ]
      },
      {
       "output_type": "stream",
       "stream": "stdout",
       "text": [
        "\n",
        "   833  |    0.022379  |  \u001b[32m  0.020422\u001b[0m  |     1.095829  |             |  0.7s"
       ]
      },
      {
       "output_type": "stream",
       "stream": "stdout",
       "text": [
        "\n",
        "   834  |  \u001b[94m  0.022361\u001b[0m  |    0.020472  |     1.092279  |             |  0.7s"
       ]
      },
      {
       "output_type": "stream",
       "stream": "stdout",
       "text": [
        "\n",
        "   835  |    0.022383  |    0.020447  |     1.094682  |             |  0.7s"
       ]
      },
      {
       "output_type": "stream",
       "stream": "stdout",
       "text": [
        "\n",
        "   836  |  \u001b[94m  0.022312\u001b[0m  |    0.020449  |     1.091125  |             |  0.7s"
       ]
      },
      {
       "output_type": "stream",
       "stream": "stdout",
       "text": [
        "\n",
        "   837  |    0.022380  |  \u001b[32m  0.020411\u001b[0m  |     1.096481  |             |  0.7s"
       ]
      },
      {
       "output_type": "stream",
       "stream": "stdout",
       "text": [
        "\n",
        "   838  |    0.022342  |    0.020414  |     1.094477  |             |  0.7s"
       ]
      },
      {
       "output_type": "stream",
       "stream": "stdout",
       "text": [
        "\n",
        "   839  |    0.022429  |  \u001b[32m  0.020385\u001b[0m  |     1.100292  |             |  0.7s"
       ]
      },
      {
       "output_type": "stream",
       "stream": "stdout",
       "text": [
        "\n",
        "   840  |    0.022369  |    0.020397  |     1.096648  |             |  0.7s"
       ]
      },
      {
       "output_type": "stream",
       "stream": "stdout",
       "text": [
        "\n",
        "   841  |  \u001b[94m  0.022278\u001b[0m  |    0.020396  |     1.092258  |             |  0.7s"
       ]
      },
      {
       "output_type": "stream",
       "stream": "stdout",
       "text": [
        "\n",
        "   842  |  \u001b[94m  0.022250\u001b[0m  |    0.020400  |     1.090677  |             |  0.7s"
       ]
      },
      {
       "output_type": "stream",
       "stream": "stdout",
       "text": [
        "\n",
        "   843  |    0.022268  |  \u001b[32m  0.020348\u001b[0m  |     1.094360  |             |  0.7s"
       ]
      },
      {
       "output_type": "stream",
       "stream": "stdout",
       "text": [
        "\n",
        "   844  |    0.022318  |    0.020401  |     1.093961  |             |  0.7s"
       ]
      },
      {
       "output_type": "stream",
       "stream": "stdout",
       "text": [
        "\n",
        "   845  |    0.022253  |    0.020369  |     1.092456  |             |  0.7s"
       ]
      },
      {
       "output_type": "stream",
       "stream": "stdout",
       "text": [
        "\n",
        "   846  |    0.022261  |  \u001b[32m  0.020331\u001b[0m  |     1.094972  |             |  0.7s"
       ]
      },
      {
       "output_type": "stream",
       "stream": "stdout",
       "text": [
        "\n",
        "   847  |    0.022278  |  \u001b[32m  0.020320\u001b[0m  |     1.096353  |             |  0.7s"
       ]
      },
      {
       "output_type": "stream",
       "stream": "stdout",
       "text": [
        "\n",
        "   848  |    0.022349  |    0.020321  |     1.099777  |             |  0.7s"
       ]
      },
      {
       "output_type": "stream",
       "stream": "stdout",
       "text": [
        "\n",
        "   849  |    0.022328  |    0.020333  |     1.098100  |             |  0.7s"
       ]
      },
      {
       "output_type": "stream",
       "stream": "stdout",
       "text": [
        "\n",
        "   850  |  \u001b[94m  0.022221\u001b[0m  |  \u001b[32m  0.020298\u001b[0m  |     1.094767  |             |  0.7s"
       ]
      },
      {
       "output_type": "stream",
       "stream": "stdout",
       "text": [
        "\n",
        "   851  |    0.022285  |    0.020310  |     1.097267  |             |  0.7s"
       ]
      },
      {
       "output_type": "stream",
       "stream": "stdout",
       "text": [
        "\n",
        "   852  |    0.022291  |  \u001b[32m  0.020290\u001b[0m  |     1.098579  |             |  0.7s"
       ]
      },
      {
       "output_type": "stream",
       "stream": "stdout",
       "text": [
        "\n",
        "   853  |    0.022280  |  \u001b[32m  0.020284\u001b[0m  |     1.098421  |             |  0.7s"
       ]
      },
      {
       "output_type": "stream",
       "stream": "stdout",
       "text": [
        "\n",
        "   854  |    0.022253  |  \u001b[32m  0.020268\u001b[0m  |     1.097944  |             |  0.7s"
       ]
      },
      {
       "output_type": "stream",
       "stream": "stdout",
       "text": [
        "\n",
        "   855  |  \u001b[94m  0.022217\u001b[0m  |    0.020273  |     1.095895  |             |  0.7s"
       ]
      },
      {
       "output_type": "stream",
       "stream": "stdout",
       "text": [
        "\n",
        "   856  |    0.022292  |    0.020276  |     1.099395  |             |  0.7s"
       ]
      },
      {
       "output_type": "stream",
       "stream": "stdout",
       "text": [
        "\n",
        "   857  |    0.022263  |    0.020269  |     1.098363  |             |  0.7s"
       ]
      },
      {
       "output_type": "stream",
       "stream": "stdout",
       "text": [
        "\n",
        "   858  |  \u001b[94m  0.022184\u001b[0m  |  \u001b[32m  0.020233\u001b[0m  |     1.096407  |             |  0.7s"
       ]
      },
      {
       "output_type": "stream",
       "stream": "stdout",
       "text": [
        "\n",
        "   859  |  \u001b[94m  0.022182\u001b[0m  |  \u001b[32m  0.020202\u001b[0m  |     1.098025  |             |  0.7s"
       ]
      },
      {
       "output_type": "stream",
       "stream": "stdout",
       "text": [
        "\n",
        "   860  |  \u001b[94m  0.022174\u001b[0m  |    0.020218  |     1.096759  |             |  0.7s"
       ]
      },
      {
       "output_type": "stream",
       "stream": "stdout",
       "text": [
        "\n",
        "   861  |    0.022226  |    0.020239  |     1.098191  |             |  0.7s"
       ]
      },
      {
       "output_type": "stream",
       "stream": "stdout",
       "text": [
        "\n",
        "   862  |    0.022200  |    0.020215  |     1.098217  |             |  0.7s"
       ]
      },
      {
       "output_type": "stream",
       "stream": "stdout",
       "text": [
        "\n",
        "   863  |    0.022187  |    0.020213  |     1.097655  |             |  0.7s"
       ]
      },
      {
       "output_type": "stream",
       "stream": "stdout",
       "text": [
        "\n",
        "   864  |  \u001b[94m  0.022158\u001b[0m  |  \u001b[32m  0.020197\u001b[0m  |     1.097112  |             |  0.7s"
       ]
      },
      {
       "output_type": "stream",
       "stream": "stdout",
       "text": [
        "\n",
        "   865  |  \u001b[94m  0.022128\u001b[0m  |    0.020225  |     1.094119  |             |  0.7s"
       ]
      },
      {
       "output_type": "stream",
       "stream": "stdout",
       "text": [
        "\n",
        "   866  |    0.022142  |  \u001b[32m  0.020166\u001b[0m  |     1.098026  |             |  0.7s"
       ]
      },
      {
       "output_type": "stream",
       "stream": "stdout",
       "text": [
        "\n",
        "   867  |  \u001b[94m  0.022042\u001b[0m  |  \u001b[32m  0.020165\u001b[0m  |     1.093081  |             |  0.7s"
       ]
      },
      {
       "output_type": "stream",
       "stream": "stdout",
       "text": [
        "\n",
        "   868  |    0.022128  |    0.020179  |     1.096596  |             |  0.7s"
       ]
      },
      {
       "output_type": "stream",
       "stream": "stdout",
       "text": [
        "\n",
        "   869  |    0.022100  |  \u001b[32m  0.020133\u001b[0m  |     1.097714  |             |  0.7s"
       ]
      },
      {
       "output_type": "stream",
       "stream": "stdout",
       "text": [
        "\n",
        "   870  |    0.022077  |  \u001b[32m  0.020119\u001b[0m  |     1.097339  |             |  0.7s"
       ]
      },
      {
       "output_type": "stream",
       "stream": "stdout",
       "text": [
        "\n",
        "   871  |    0.022069  |    0.020139  |     1.095853  |             |  0.7s"
       ]
      },
      {
       "output_type": "stream",
       "stream": "stdout",
       "text": [
        "\n",
        "   872  |    0.022104  |  \u001b[32m  0.020113\u001b[0m  |     1.098998  |             |  0.7s"
       ]
      },
      {
       "output_type": "stream",
       "stream": "stdout",
       "text": [
        "\n",
        "   873  |    0.022115  |  \u001b[32m  0.020088\u001b[0m  |     1.100901  |             |  0.7s"
       ]
      },
      {
       "output_type": "stream",
       "stream": "stdout",
       "text": [
        "\n",
        "   874  |    0.022156  |    0.020126  |     1.100838  |             |  0.7s"
       ]
      },
      {
       "output_type": "stream",
       "stream": "stdout",
       "text": [
        "\n",
        "   875  |    0.022084  |    0.020090  |     1.099218  |             |  0.7s"
       ]
      },
      {
       "output_type": "stream",
       "stream": "stdout",
       "text": [
        "\n",
        "   876  |  \u001b[94m  0.022020\u001b[0m  |    0.020118  |     1.094546  |             |  0.7s"
       ]
      },
      {
       "output_type": "stream",
       "stream": "stdout",
       "text": [
        "\n",
        "   877  |  \u001b[94m  0.021994\u001b[0m  |  \u001b[32m  0.020062\u001b[0m  |     1.096268  |             |  0.7s"
       ]
      },
      {
       "output_type": "stream",
       "stream": "stdout",
       "text": [
        "\n",
        "   878  |    0.022171  |    0.020081  |     1.104122  |             |  0.7s"
       ]
      },
      {
       "output_type": "stream",
       "stream": "stdout",
       "text": [
        "\n",
        "   879  |    0.022133  |    0.020079  |     1.102266  |             |  0.7s"
       ]
      },
      {
       "output_type": "stream",
       "stream": "stdout",
       "text": [
        "\n",
        "   880  |    0.022051  |    0.020122  |     1.095908  |             |  0.7s"
       ]
      },
      {
       "output_type": "stream",
       "stream": "stdout",
       "text": [
        "\n",
        "   881  |    0.022023  |    0.020084  |     1.096545  |             |  0.7s"
       ]
      },
      {
       "output_type": "stream",
       "stream": "stdout",
       "text": [
        "\n",
        "   882  |    0.022064  |  \u001b[32m  0.020039\u001b[0m  |     1.101086  |             |  0.7s"
       ]
      },
      {
       "output_type": "stream",
       "stream": "stdout",
       "text": [
        "\n",
        "   883  |    0.022042  |    0.020044  |     1.099669  |             |  0.7s"
       ]
      },
      {
       "output_type": "stream",
       "stream": "stdout",
       "text": [
        "\n",
        "   884  |    0.022102  |  \u001b[32m  0.020028\u001b[0m  |     1.103575  |             |  0.7s"
       ]
      },
      {
       "output_type": "stream",
       "stream": "stdout",
       "text": [
        "\n",
        "   885  |    0.022061  |  \u001b[32m  0.020027\u001b[0m  |     1.101554  |             |  0.7s"
       ]
      },
      {
       "output_type": "stream",
       "stream": "stdout",
       "text": [
        "\n",
        "   886  |  \u001b[94m  0.021992\u001b[0m  |  \u001b[32m  0.020011\u001b[0m  |     1.099019  |             |  0.7s"
       ]
      },
      {
       "output_type": "stream",
       "stream": "stdout",
       "text": [
        "\n",
        "   887  |    0.022015  |  \u001b[32m  0.020007\u001b[0m  |     1.100377  |             |  0.7s"
       ]
      },
      {
       "output_type": "stream",
       "stream": "stdout",
       "text": [
        "\n",
        "   888  |  \u001b[94m  0.021928\u001b[0m  |  \u001b[32m  0.019970\u001b[0m  |     1.098018  |             |  0.7s"
       ]
      },
      {
       "output_type": "stream",
       "stream": "stdout",
       "text": [
        "\n",
        "   889  |    0.021945  |    0.019981  |     1.098265  |             |  0.7s"
       ]
      },
      {
       "output_type": "stream",
       "stream": "stdout",
       "text": [
        "\n",
        "   890  |    0.021948  |  \u001b[32m  0.019945\u001b[0m  |     1.100452  |             |  0.7s"
       ]
      },
      {
       "output_type": "stream",
       "stream": "stdout",
       "text": [
        "\n",
        "   891  |    0.022056  |    0.019990  |     1.103322  |             |  0.7s"
       ]
      },
      {
       "output_type": "stream",
       "stream": "stdout",
       "text": [
        "\n",
        "   892  |    0.021964  |    0.019968  |     1.099957  |             |  0.7s"
       ]
      },
      {
       "output_type": "stream",
       "stream": "stdout",
       "text": [
        "\n",
        "   893  |  \u001b[94m  0.021919\u001b[0m  |    0.019964  |     1.097943  |             |  0.7s"
       ]
      },
      {
       "output_type": "stream",
       "stream": "stdout",
       "text": [
        "\n",
        "   894  |    0.021953  |    0.019955  |     1.100111  |             |  0.7s"
       ]
      },
      {
       "output_type": "stream",
       "stream": "stdout",
       "text": [
        "\n",
        "   895  |  \u001b[94m  0.021904\u001b[0m  |  \u001b[32m  0.019909\u001b[0m  |     1.100160  |             |  0.7s"
       ]
      },
      {
       "output_type": "stream",
       "stream": "stdout",
       "text": [
        "\n",
        "   896  |    0.021918  |    0.019936  |     1.099428  |             |  0.7s"
       ]
      },
      {
       "output_type": "stream",
       "stream": "stdout",
       "text": [
        "\n",
        "   897  |  \u001b[94m  0.021895\u001b[0m  |  \u001b[32m  0.019900\u001b[0m  |     1.100271  |             |  0.7s"
       ]
      },
      {
       "output_type": "stream",
       "stream": "stdout",
       "text": [
        "\n",
        "   898  |    0.021917  |    0.019911  |     1.100732  |             |  0.7s"
       ]
      },
      {
       "output_type": "stream",
       "stream": "stdout",
       "text": [
        "\n",
        "   899  |    0.021901  |    0.019914  |     1.099820  |             |  0.7s"
       ]
      },
      {
       "output_type": "stream",
       "stream": "stdout",
       "text": [
        "\n",
        "   900  |  \u001b[94m  0.021840\u001b[0m  |  \u001b[32m  0.019897\u001b[0m  |     1.097674  |             |  0.7s"
       ]
      },
      {
       "output_type": "stream",
       "stream": "stdout",
       "text": [
        "\n",
        "   901  |    0.021953  |    0.019924  |     1.101883  |             |  0.7s"
       ]
      },
      {
       "output_type": "stream",
       "stream": "stdout",
       "text": [
        "\n",
        "   902  |    0.021897  |  \u001b[32m  0.019894\u001b[0m  |     1.100680  |             |  0.7s"
       ]
      },
      {
       "output_type": "stream",
       "stream": "stdout",
       "text": [
        "\n",
        "   903  |    0.021943  |    0.019918  |     1.101690  |             |  0.7s"
       ]
      },
      {
       "output_type": "stream",
       "stream": "stdout",
       "text": [
        "\n",
        "   904  |    0.021930  |  \u001b[32m  0.019861\u001b[0m  |     1.104182  |             |  0.7s"
       ]
      },
      {
       "output_type": "stream",
       "stream": "stdout",
       "text": [
        "\n",
        "   905  |    0.021899  |    0.019864  |     1.102480  |             |  0.7s"
       ]
      },
      {
       "output_type": "stream",
       "stream": "stdout",
       "text": [
        "\n",
        "   906  |    0.021866  |  \u001b[32m  0.019859\u001b[0m  |     1.101086  |             |  0.7s"
       ]
      },
      {
       "output_type": "stream",
       "stream": "stdout",
       "text": [
        "\n",
        "   907  |    0.021850  |  \u001b[32m  0.019855\u001b[0m  |     1.100479  |             |  0.7s"
       ]
      },
      {
       "output_type": "stream",
       "stream": "stdout",
       "text": [
        "\n",
        "   908  |    0.021928  |  \u001b[32m  0.019837\u001b[0m  |     1.105404  |             |  0.7s"
       ]
      },
      {
       "output_type": "stream",
       "stream": "stdout",
       "text": [
        "\n",
        "   909  |    0.021912  |  \u001b[32m  0.019797\u001b[0m  |     1.106874  |             |  0.7s"
       ]
      },
      {
       "output_type": "stream",
       "stream": "stdout",
       "text": [
        "\n",
        "   910  |    0.021856  |    0.019844  |     1.101388  |             |  0.7s"
       ]
      },
      {
       "output_type": "stream",
       "stream": "stdout",
       "text": [
        "\n",
        "   911  |    0.021864  |  \u001b[32m  0.019795\u001b[0m  |     1.104561  |             |  0.7s"
       ]
      },
      {
       "output_type": "stream",
       "stream": "stdout",
       "text": [
        "\n",
        "   912  |    0.021856  |    0.019811  |     1.103249  |             |  0.7s"
       ]
      },
      {
       "output_type": "stream",
       "stream": "stdout",
       "text": [
        "\n",
        "   913  |    0.021869  |    0.019806  |     1.104134  |             |  0.7s"
       ]
      },
      {
       "output_type": "stream",
       "stream": "stdout",
       "text": [
        "\n",
        "   914  |  \u001b[94m  0.021820\u001b[0m  |    0.019811  |     1.101369  |             |  0.7s"
       ]
      },
      {
       "output_type": "stream",
       "stream": "stdout",
       "text": [
        "\n",
        "   915  |  \u001b[94m  0.021777\u001b[0m  |    0.019847  |     1.097213  |             |  0.7s"
       ]
      },
      {
       "output_type": "stream",
       "stream": "stdout",
       "text": [
        "\n",
        "   916  |    0.021786  |  \u001b[32m  0.019759\u001b[0m  |     1.102553  |             |  0.7s"
       ]
      },
      {
       "output_type": "stream",
       "stream": "stdout",
       "text": [
        "\n",
        "   917  |    0.021815  |    0.019793  |     1.102149  |             |  0.7s"
       ]
      },
      {
       "output_type": "stream",
       "stream": "stdout",
       "text": [
        "\n",
        "   918  |    0.021805  |    0.019785  |     1.102114  |             |  0.7s"
       ]
      },
      {
       "output_type": "stream",
       "stream": "stdout",
       "text": [
        "\n",
        "   919  |    0.021803  |  \u001b[32m  0.019730\u001b[0m  |     1.105075  |             |  0.7s"
       ]
      },
      {
       "output_type": "stream",
       "stream": "stdout",
       "text": [
        "\n",
        "   920  |  \u001b[94m  0.021756\u001b[0m  |    0.019748  |     1.101720  |             |  0.7s"
       ]
      },
      {
       "output_type": "stream",
       "stream": "stdout",
       "text": [
        "\n",
        "   921  |    0.021787  |  \u001b[32m  0.019721\u001b[0m  |     1.104790  |             |  0.7s"
       ]
      },
      {
       "output_type": "stream",
       "stream": "stdout",
       "text": [
        "\n",
        "   922  |    0.021766  |    0.019744  |     1.102410  |             |  0.7s"
       ]
      },
      {
       "output_type": "stream",
       "stream": "stdout",
       "text": [
        "\n",
        "   923  |    0.021816  |    0.019756  |     1.104246  |             |  0.7s"
       ]
      },
      {
       "output_type": "stream",
       "stream": "stdout",
       "text": [
        "\n",
        "   924  |  \u001b[94m  0.021753\u001b[0m  |  \u001b[32m  0.019717\u001b[0m  |     1.103279  |             |  0.7s"
       ]
      },
      {
       "output_type": "stream",
       "stream": "stdout",
       "text": [
        "\n",
        "   925  |    0.021789  |    0.019735  |     1.104075  |             |  0.7s"
       ]
      },
      {
       "output_type": "stream",
       "stream": "stdout",
       "text": [
        "\n",
        "   926  |    0.021815  |  \u001b[32m  0.019710\u001b[0m  |     1.106772  |             |  0.7s"
       ]
      },
      {
       "output_type": "stream",
       "stream": "stdout",
       "text": [
        "\n",
        "   927  |    0.021808  |  \u001b[32m  0.019709\u001b[0m  |     1.106518  |             |  0.7s"
       ]
      },
      {
       "output_type": "stream",
       "stream": "stdout",
       "text": [
        "\n",
        "   928  |    0.021807  |  \u001b[32m  0.019680\u001b[0m  |     1.108047  |             |  0.7s"
       ]
      },
      {
       "output_type": "stream",
       "stream": "stdout",
       "text": [
        "\n",
        "   929  |    0.021777  |    0.019701  |     1.105356  |             |  0.7s"
       ]
      },
      {
       "output_type": "stream",
       "stream": "stdout",
       "text": [
        "\n",
        "   930  |  \u001b[94m  0.021749\u001b[0m  |  \u001b[32m  0.019655\u001b[0m  |     1.106530  |             |  0.7s"
       ]
      },
      {
       "output_type": "stream",
       "stream": "stdout",
       "text": [
        "\n",
        "   931  |    0.021773  |    0.019687  |     1.105944  |             |  0.7s"
       ]
      },
      {
       "output_type": "stream",
       "stream": "stdout",
       "text": [
        "\n",
        "   932  |  \u001b[94m  0.021665\u001b[0m  |    0.019657  |     1.102175  |             |  0.7s"
       ]
      },
      {
       "output_type": "stream",
       "stream": "stdout",
       "text": [
        "\n",
        "   933  |    0.021702  |    0.019658  |     1.103937  |             |  0.7s"
       ]
      },
      {
       "output_type": "stream",
       "stream": "stdout",
       "text": [
        "\n",
        "   934  |    0.021680  |    0.019675  |     1.101915  |             |  0.7s"
       ]
      },
      {
       "output_type": "stream",
       "stream": "stdout",
       "text": [
        "\n",
        "   935  |    0.021705  |  \u001b[32m  0.019655\u001b[0m  |     1.104304  |             |  0.7s"
       ]
      },
      {
       "output_type": "stream",
       "stream": "stdout",
       "text": [
        "\n",
        "   936  |    0.021698  |    0.019665  |     1.103414  |             |  0.7s"
       ]
      },
      {
       "output_type": "stream",
       "stream": "stdout",
       "text": [
        "\n",
        "   937  |    0.021725  |    0.019666  |     1.104654  |             |  0.7s"
       ]
      },
      {
       "output_type": "stream",
       "stream": "stdout",
       "text": [
        "\n",
        "   938  |    0.021686  |  \u001b[32m  0.019638\u001b[0m  |     1.104287  |             |  0.7s"
       ]
      },
      {
       "output_type": "stream",
       "stream": "stdout",
       "text": [
        "\n",
        "   939  |  \u001b[94m  0.021612\u001b[0m  |  \u001b[32m  0.019603\u001b[0m  |     1.102446  |             |  0.7s"
       ]
      },
      {
       "output_type": "stream",
       "stream": "stdout",
       "text": [
        "\n",
        "   940  |    0.021702  |    0.019645  |     1.104729  |             |  0.7s"
       ]
      },
      {
       "output_type": "stream",
       "stream": "stdout",
       "text": [
        "\n",
        "   941  |  \u001b[94m  0.021605\u001b[0m  |  \u001b[32m  0.019578\u001b[0m  |     1.103523  |             |  0.7s"
       ]
      },
      {
       "output_type": "stream",
       "stream": "stdout",
       "text": [
        "\n",
        "   942  |    0.021613  |    0.019595  |     1.102943  |             |  0.7s"
       ]
      },
      {
       "output_type": "stream",
       "stream": "stdout",
       "text": [
        "\n",
        "   943  |    0.021611  |  \u001b[32m  0.019573\u001b[0m  |     1.104136  |             |  0.7s"
       ]
      },
      {
       "output_type": "stream",
       "stream": "stdout",
       "text": [
        "\n",
        "   944  |    0.021622  |  \u001b[32m  0.019549\u001b[0m  |     1.106037  |             |  0.7s"
       ]
      },
      {
       "output_type": "stream",
       "stream": "stdout",
       "text": [
        "\n",
        "   945  |    0.021664  |    0.019581  |     1.106329  |             |  0.7s"
       ]
      },
      {
       "output_type": "stream",
       "stream": "stdout",
       "text": [
        "\n",
        "   946  |    0.021717  |    0.019598  |     1.108101  |             |  0.7s"
       ]
      },
      {
       "output_type": "stream",
       "stream": "stdout",
       "text": [
        "\n",
        "   947  |    0.021697  |    0.019559  |     1.109309  |             |  0.7s"
       ]
      },
      {
       "output_type": "stream",
       "stream": "stdout",
       "text": [
        "\n",
        "   948  |  \u001b[94m  0.021520\u001b[0m  |    0.019560  |     1.100164  |             |  0.7s"
       ]
      },
      {
       "output_type": "stream",
       "stream": "stdout",
       "text": [
        "\n",
        "   949  |    0.021579  |  \u001b[32m  0.019533\u001b[0m  |     1.104749  |             |  0.7s"
       ]
      },
      {
       "output_type": "stream",
       "stream": "stdout",
       "text": [
        "\n",
        "   950  |    0.021622  |  \u001b[32m  0.019529\u001b[0m  |     1.107210  |             |  0.7s"
       ]
      },
      {
       "output_type": "stream",
       "stream": "stdout",
       "text": [
        "\n",
        "   951  |    0.021618  |    0.019572  |     1.104527  |             |  0.7s"
       ]
      },
      {
       "output_type": "stream",
       "stream": "stdout",
       "text": [
        "\n",
        "   952  |    0.021607  |    0.019559  |     1.104706  |             |  0.7s"
       ]
      },
      {
       "output_type": "stream",
       "stream": "stdout",
       "text": [
        "\n",
        "   953  |    0.021586  |  \u001b[32m  0.019516\u001b[0m  |     1.106081  |             |  0.7s"
       ]
      },
      {
       "output_type": "stream",
       "stream": "stdout",
       "text": [
        "\n",
        "   954  |    0.021562  |  \u001b[32m  0.019489\u001b[0m  |     1.106348  |             |  0.7s"
       ]
      },
      {
       "output_type": "stream",
       "stream": "stdout",
       "text": [
        "\n",
        "   955  |    0.021548  |    0.019515  |     1.104150  |             |  0.7s"
       ]
      },
      {
       "output_type": "stream",
       "stream": "stdout",
       "text": [
        "\n",
        "   956  |    0.021545  |    0.019491  |     1.105345  |             |  0.7s"
       ]
      },
      {
       "output_type": "stream",
       "stream": "stdout",
       "text": [
        "\n",
        "   957  |    0.021521  |  \u001b[32m  0.019471\u001b[0m  |     1.105304  |             |  0.7s"
       ]
      },
      {
       "output_type": "stream",
       "stream": "stdout",
       "text": [
        "\n",
        "   958  |    0.021593  |  \u001b[32m  0.019470\u001b[0m  |     1.109025  |             |  0.7s"
       ]
      },
      {
       "output_type": "stream",
       "stream": "stdout",
       "text": [
        "\n",
        "   959  |    0.021638  |    0.019518  |     1.108617  |             |  0.7s"
       ]
      },
      {
       "output_type": "stream",
       "stream": "stdout",
       "text": [
        "\n",
        "   960  |    0.021569  |  \u001b[32m  0.019464\u001b[0m  |     1.108145  |             |  0.7s"
       ]
      },
      {
       "output_type": "stream",
       "stream": "stdout",
       "text": [
        "\n",
        "   961  |    0.021607  |    0.019481  |     1.109167  |             |  0.7s"
       ]
      },
      {
       "output_type": "stream",
       "stream": "stdout",
       "text": [
        "\n",
        "   962  |    0.021586  |  \u001b[32m  0.019463\u001b[0m  |     1.109088  |             |  0.7s"
       ]
      },
      {
       "output_type": "stream",
       "stream": "stdout",
       "text": [
        "\n",
        "   963  |  \u001b[94m  0.021500\u001b[0m  |  \u001b[32m  0.019450\u001b[0m  |     1.105403  |             |  0.7s"
       ]
      },
      {
       "output_type": "stream",
       "stream": "stdout",
       "text": [
        "\n",
        "   964  |    0.021503  |  \u001b[32m  0.019438\u001b[0m  |     1.106240  |             |  0.7s"
       ]
      },
      {
       "output_type": "stream",
       "stream": "stdout",
       "text": [
        "\n",
        "   965  |    0.021516  |  \u001b[32m  0.019418\u001b[0m  |     1.108059  |             |  0.7s"
       ]
      },
      {
       "output_type": "stream",
       "stream": "stdout",
       "text": [
        "\n",
        "   966  |    0.021533  |  \u001b[32m  0.019414\u001b[0m  |     1.109152  |             |  0.7s"
       ]
      },
      {
       "output_type": "stream",
       "stream": "stdout",
       "text": [
        "\n",
        "   967  |    0.021531  |  \u001b[32m  0.019412\u001b[0m  |     1.109113  |             |  0.7s"
       ]
      },
      {
       "output_type": "stream",
       "stream": "stdout",
       "text": [
        "\n",
        "   968  |    0.021565  |  \u001b[32m  0.019407\u001b[0m  |     1.111199  |             |  0.7s"
       ]
      },
      {
       "output_type": "stream",
       "stream": "stdout",
       "text": [
        "\n",
        "   969  |    0.021517  |  \u001b[32m  0.019390\u001b[0m  |     1.109679  |             |  0.7s"
       ]
      },
      {
       "output_type": "stream",
       "stream": "stdout",
       "text": [
        "\n",
        "   970  |  \u001b[94m  0.021467\u001b[0m  |  \u001b[32m  0.019381\u001b[0m  |     1.107614  |             |  0.7s"
       ]
      },
      {
       "output_type": "stream",
       "stream": "stdout",
       "text": [
        "\n",
        "   971  |    0.021488  |    0.019426  |     1.106170  |             |  0.7s"
       ]
      },
      {
       "output_type": "stream",
       "stream": "stdout",
       "text": [
        "\n",
        "   972  |    0.021498  |  \u001b[32m  0.019378\u001b[0m  |     1.109401  |             |  0.7s"
       ]
      },
      {
       "output_type": "stream",
       "stream": "stdout",
       "text": [
        "\n",
        "   973  |    0.021492  |    0.019420  |     1.106724  |             |  0.7s"
       ]
      },
      {
       "output_type": "stream",
       "stream": "stdout",
       "text": [
        "\n",
        "   974  |    0.021502  |  \u001b[32m  0.019358\u001b[0m  |     1.110750  |             |  0.7s"
       ]
      },
      {
       "output_type": "stream",
       "stream": "stdout",
       "text": [
        "\n",
        "   975  |  \u001b[94m  0.021398\u001b[0m  |    0.019383  |     1.104008  |             |  0.7s"
       ]
      },
      {
       "output_type": "stream",
       "stream": "stdout",
       "text": [
        "\n",
        "   976  |    0.021438  |  \u001b[32m  0.019341\u001b[0m  |     1.108431  |             |  0.7s"
       ]
      },
      {
       "output_type": "stream",
       "stream": "stdout",
       "text": [
        "\n",
        "   977  |    0.021450  |    0.019393  |     1.106069  |             |  0.7s"
       ]
      },
      {
       "output_type": "stream",
       "stream": "stdout",
       "text": [
        "\n",
        "   978  |    0.021462  |    0.019361  |     1.108491  |             |  0.7s"
       ]
      },
      {
       "output_type": "stream",
       "stream": "stdout",
       "text": [
        "\n",
        "   979  |    0.021452  |    0.019345  |     1.108930  |             |  0.7s"
       ]
      },
      {
       "output_type": "stream",
       "stream": "stdout",
       "text": [
        "\n",
        "   980  |    0.021470  |  \u001b[32m  0.019335\u001b[0m  |     1.110444  |             |  0.7s"
       ]
      },
      {
       "output_type": "stream",
       "stream": "stdout",
       "text": [
        "\n",
        "   981  |    0.021414  |  \u001b[32m  0.019313\u001b[0m  |     1.108766  |             |  0.7s"
       ]
      },
      {
       "output_type": "stream",
       "stream": "stdout",
       "text": [
        "\n",
        "   982  |    0.021481  |    0.019331  |     1.111248  |             |  0.7s"
       ]
      },
      {
       "output_type": "stream",
       "stream": "stdout",
       "text": [
        "\n",
        "   983  |    0.021413  |    0.019352  |     1.106478  |             |  0.7s"
       ]
      },
      {
       "output_type": "stream",
       "stream": "stdout",
       "text": [
        "\n",
        "   984  |    0.021447  |  \u001b[32m  0.019301\u001b[0m  |     1.111175  |             |  0.7s"
       ]
      },
      {
       "output_type": "stream",
       "stream": "stdout",
       "text": [
        "\n",
        "   985  |    0.021417  |    0.019302  |     1.109542  |             |  0.7s"
       ]
      },
      {
       "output_type": "stream",
       "stream": "stdout",
       "text": [
        "\n",
        "   986  |  \u001b[94m  0.021379\u001b[0m  |    0.019306  |     1.107360  |             |  0.7s"
       ]
      },
      {
       "output_type": "stream",
       "stream": "stdout",
       "text": [
        "\n",
        "   987  |    0.021450  |  \u001b[32m  0.019276\u001b[0m  |     1.112794  |             |  0.7s"
       ]
      },
      {
       "output_type": "stream",
       "stream": "stdout",
       "text": [
        "\n",
        "   988  |    0.021425  |  \u001b[32m  0.019270\u001b[0m  |     1.111840  |             |  0.7s"
       ]
      },
      {
       "output_type": "stream",
       "stream": "stdout",
       "text": [
        "\n",
        "   989  |    0.021435  |    0.019312  |     1.109934  |             |  0.7s"
       ]
      },
      {
       "output_type": "stream",
       "stream": "stdout",
       "text": [
        "\n",
        "   990  |    0.021402  |  \u001b[32m  0.019268\u001b[0m  |     1.110786  |             |  0.7s"
       ]
      },
      {
       "output_type": "stream",
       "stream": "stdout",
       "text": [
        "\n",
        "   991  |    0.021388  |  \u001b[32m  0.019258\u001b[0m  |     1.110606  |             |  0.7s"
       ]
      },
      {
       "output_type": "stream",
       "stream": "stdout",
       "text": [
        "\n",
        "   992  |  \u001b[94m  0.021328\u001b[0m  |    0.019260  |     1.107399  |             |  0.7s"
       ]
      },
      {
       "output_type": "stream",
       "stream": "stdout",
       "text": [
        "\n",
        "   993  |  \u001b[94m  0.021327\u001b[0m  |  \u001b[32m  0.019239\u001b[0m  |     1.108542  |             |  0.7s"
       ]
      },
      {
       "output_type": "stream",
       "stream": "stdout",
       "text": [
        "\n",
        "   994  |    0.021427  |    0.019247  |     1.113286  |             |  0.7s"
       ]
      },
      {
       "output_type": "stream",
       "stream": "stdout",
       "text": [
        "\n",
        "   995  |  \u001b[94m  0.021320\u001b[0m  |    0.019252  |     1.107421  |             |  0.7s"
       ]
      },
      {
       "output_type": "stream",
       "stream": "stdout",
       "text": [
        "\n",
        "   996  |    0.021347  |    0.019247  |     1.109116  |             |  0.7s"
       ]
      },
      {
       "output_type": "stream",
       "stream": "stdout",
       "text": [
        "\n",
        "   997  |    0.021378  |  \u001b[32m  0.019228\u001b[0m  |     1.111826  |             |  0.7s"
       ]
      },
      {
       "output_type": "stream",
       "stream": "stdout",
       "text": [
        "\n",
        "   998  |    0.021328  |  \u001b[32m  0.019224\u001b[0m  |     1.109486  |             |  0.7s"
       ]
      },
      {
       "output_type": "stream",
       "stream": "stdout",
       "text": [
        "\n",
        "   999  |    0.021334  |  \u001b[32m  0.019208\u001b[0m  |     1.110678  |             |  0.7s"
       ]
      },
      {
       "output_type": "stream",
       "stream": "stdout",
       "text": [
        "\n",
        "  1000  |  \u001b[94m  0.021315\u001b[0m  |  \u001b[32m  0.019181\u001b[0m  |     1.111237  |             |  0.7s"
       ]
      },
      {
       "output_type": "stream",
       "stream": "stdout",
       "text": [
        "\n",
        "  1001  |    0.021338  |    0.019183  |     1.112318  |             |  0.7s"
       ]
      },
      {
       "output_type": "stream",
       "stream": "stdout",
       "text": [
        "\n",
        "  1002  |    0.021366  |    0.019223  |     1.111457  |             |  0.7s"
       ]
      },
      {
       "output_type": "stream",
       "stream": "stdout",
       "text": [
        "\n",
        "  1003  |  \u001b[94m  0.021216\u001b[0m  |  \u001b[32m  0.019168\u001b[0m  |     1.106816  |             |  0.7s"
       ]
      },
      {
       "output_type": "stream",
       "stream": "stdout",
       "text": [
        "\n",
        "  1004  |    0.021331  |    0.019206  |     1.110674  |             |  0.7s"
       ]
      },
      {
       "output_type": "stream",
       "stream": "stdout",
       "text": [
        "\n",
        "  1005  |    0.021301  |  \u001b[32m  0.019149\u001b[0m  |     1.112383  |             |  0.7s"
       ]
      },
      {
       "output_type": "stream",
       "stream": "stdout",
       "text": [
        "\n",
        "  1006  |    0.021314  |    0.019180  |     1.111260  |             |  0.7s"
       ]
      },
      {
       "output_type": "stream",
       "stream": "stdout",
       "text": [
        "\n",
        "  1007  |    0.021259  |    0.019152  |     1.110041  |             |  0.7s"
       ]
      },
      {
       "output_type": "stream",
       "stream": "stdout",
       "text": [
        "\n",
        "  1008  |    0.021265  |  \u001b[32m  0.019133\u001b[0m  |     1.111424  |             |  0.7s"
       ]
      },
      {
       "output_type": "stream",
       "stream": "stdout",
       "text": [
        "\n",
        "  1009  |    0.021259  |    0.019141  |     1.110659  |             |  0.7s"
       ]
      },
      {
       "output_type": "stream",
       "stream": "stdout",
       "text": [
        "\n",
        "  1010  |    0.021244  |    0.019164  |     1.108526  |             |  0.7s"
       ]
      },
      {
       "output_type": "stream",
       "stream": "stdout",
       "text": [
        "\n",
        "  1011  |    0.021244  |    0.019143  |     1.109745  |             |  0.7s"
       ]
      },
      {
       "output_type": "stream",
       "stream": "stdout",
       "text": [
        "\n",
        "  1012  |  \u001b[94m  0.021154\u001b[0m  |    0.019134  |     1.105581  |             |  0.7s"
       ]
      },
      {
       "output_type": "stream",
       "stream": "stdout",
       "text": [
        "\n",
        "  1013  |    0.021230  |  \u001b[32m  0.019107\u001b[0m  |     1.111078  |             |  0.7s"
       ]
      },
      {
       "output_type": "stream",
       "stream": "stdout",
       "text": [
        "\n",
        "  1014  |    0.021216  |  \u001b[32m  0.019097\u001b[0m  |     1.110956  |             |  0.7s"
       ]
      },
      {
       "output_type": "stream",
       "stream": "stdout",
       "text": [
        "\n",
        "  1015  |    0.021245  |    0.019111  |     1.111684  |             |  0.7s"
       ]
      },
      {
       "output_type": "stream",
       "stream": "stdout",
       "text": [
        "\n",
        "  1016  |    0.021222  |    0.019135  |     1.109070  |             |  0.7s"
       ]
      },
      {
       "output_type": "stream",
       "stream": "stdout",
       "text": [
        "\n",
        "  1017  |    0.021205  |    0.019147  |     1.107463  |             |  0.7s"
       ]
      },
      {
       "output_type": "stream",
       "stream": "stdout",
       "text": [
        "\n",
        "  1018  |    0.021206  |  \u001b[32m  0.019096\u001b[0m  |     1.110474  |             |  0.7s"
       ]
      },
      {
       "output_type": "stream",
       "stream": "stdout",
       "text": [
        "\n",
        "  1019  |    0.021175  |  \u001b[32m  0.019074\u001b[0m  |     1.110186  |             |  0.7s"
       ]
      },
      {
       "output_type": "stream",
       "stream": "stdout",
       "text": [
        "\n",
        "  1020  |    0.021238  |    0.019086  |     1.112766  |             |  0.7s"
       ]
      },
      {
       "output_type": "stream",
       "stream": "stdout",
       "text": [
        "\n",
        "  1021  |    0.021235  |  \u001b[32m  0.019073\u001b[0m  |     1.113356  |             |  0.7s"
       ]
      },
      {
       "output_type": "stream",
       "stream": "stdout",
       "text": [
        "\n",
        "  1022  |    0.021196  |    0.019092  |     1.110183  |             |  0.7s"
       ]
      },
      {
       "output_type": "stream",
       "stream": "stdout",
       "text": [
        "\n",
        "  1023  |    0.021171  |  \u001b[32m  0.019056\u001b[0m  |     1.110998  |             |  0.7s"
       ]
      },
      {
       "output_type": "stream",
       "stream": "stdout",
       "text": [
        "\n",
        "  1024  |  \u001b[94m  0.021130\u001b[0m  |  \u001b[32m  0.019036\u001b[0m  |     1.110029  |             |  0.7s"
       ]
      },
      {
       "output_type": "stream",
       "stream": "stdout",
       "text": [
        "\n",
        "  1025  |    0.021141  |    0.019055  |     1.109488  |             |  0.7s"
       ]
      },
      {
       "output_type": "stream",
       "stream": "stdout",
       "text": [
        "\n",
        "  1026  |  \u001b[94m  0.021118\u001b[0m  |  \u001b[32m  0.019024\u001b[0m  |     1.110072  |             |  0.7s"
       ]
      },
      {
       "output_type": "stream",
       "stream": "stdout",
       "text": [
        "\n",
        "  1027  |    0.021259  |    0.019027  |     1.117335  |             |  0.7s"
       ]
      },
      {
       "output_type": "stream",
       "stream": "stdout",
       "text": [
        "\n",
        "  1028  |    0.021203  |  \u001b[32m  0.019018\u001b[0m  |     1.114896  |             |  0.7s"
       ]
      },
      {
       "output_type": "stream",
       "stream": "stdout",
       "text": [
        "\n",
        "  1029  |  \u001b[94m  0.021100\u001b[0m  |    0.019024  |     1.109131  |             |  0.7s"
       ]
      },
      {
       "output_type": "stream",
       "stream": "stdout",
       "text": [
        "\n",
        "  1030  |    0.021142  |    0.019039  |     1.110422  |             |  0.7s"
       ]
      },
      {
       "output_type": "stream",
       "stream": "stdout",
       "text": [
        "\n",
        "  1031  |    0.021112  |  \u001b[32m  0.019013\u001b[0m  |     1.110445  |             |  0.7s"
       ]
      },
      {
       "output_type": "stream",
       "stream": "stdout",
       "text": [
        "\n",
        "  1032  |    0.021159  |  \u001b[32m  0.019008\u001b[0m  |     1.113172  |             |  0.7s"
       ]
      },
      {
       "output_type": "stream",
       "stream": "stdout",
       "text": [
        "\n",
        "  1033  |    0.021130  |  \u001b[32m  0.019004\u001b[0m  |     1.111880  |             |  0.7s"
       ]
      },
      {
       "output_type": "stream",
       "stream": "stdout",
       "text": [
        "\n",
        "  1034  |  \u001b[94m  0.021050\u001b[0m  |  \u001b[32m  0.018954\u001b[0m  |     1.110549  |             |  0.7s"
       ]
      },
      {
       "output_type": "stream",
       "stream": "stdout",
       "text": [
        "\n",
        "  1035  |  \u001b[94m  0.021044\u001b[0m  |    0.018965  |     1.109613  |             |  0.7s"
       ]
      },
      {
       "output_type": "stream",
       "stream": "stdout",
       "text": [
        "\n",
        "  1036  |    0.021122  |    0.018961  |     1.113953  |             |  0.7s"
       ]
      },
      {
       "output_type": "stream",
       "stream": "stdout",
       "text": [
        "\n",
        "  1037  |    0.021131  |    0.018961  |     1.114462  |             |  0.7s"
       ]
      },
      {
       "output_type": "stream",
       "stream": "stdout",
       "text": [
        "\n",
        "  1038  |    0.021117  |    0.018975  |     1.112883  |             |  0.7s"
       ]
      },
      {
       "output_type": "stream",
       "stream": "stdout",
       "text": [
        "\n",
        "  1039  |    0.021150  |    0.018971  |     1.114825  |             |  0.7s"
       ]
      },
      {
       "output_type": "stream",
       "stream": "stdout",
       "text": [
        "\n",
        "  1040  |    0.021119  |  \u001b[32m  0.018942\u001b[0m  |     1.114907  |             |  0.7s"
       ]
      },
      {
       "output_type": "stream",
       "stream": "stdout",
       "text": [
        "\n",
        "  1041  |    0.021072  |    0.018950  |     1.111978  |             |  0.7s"
       ]
      },
      {
       "output_type": "stream",
       "stream": "stdout",
       "text": [
        "\n",
        "  1042  |    0.021071  |    0.018946  |     1.112136  |             |  0.7s"
       ]
      },
      {
       "output_type": "stream",
       "stream": "stdout",
       "text": [
        "\n",
        "  1043  |    0.021096  |  \u001b[32m  0.018913\u001b[0m  |     1.115461  |             |  0.7s"
       ]
      },
      {
       "output_type": "stream",
       "stream": "stdout",
       "text": [
        "\n",
        "  1044  |    0.021057  |    0.018921  |     1.112921  |             |  0.7s"
       ]
      },
      {
       "output_type": "stream",
       "stream": "stdout",
       "text": [
        "\n",
        "  1045  |    0.021093  |    0.018938  |     1.113817  |             |  0.7s"
       ]
      },
      {
       "output_type": "stream",
       "stream": "stdout",
       "text": [
        "\n",
        "  1046  |  \u001b[94m  0.021026\u001b[0m  |    0.018937  |     1.110282  |             |  0.7s"
       ]
      },
      {
       "output_type": "stream",
       "stream": "stdout",
       "text": [
        "\n",
        "  1047  |    0.021064  |  \u001b[32m  0.018899\u001b[0m  |     1.114552  |             |  0.7s"
       ]
      },
      {
       "output_type": "stream",
       "stream": "stdout",
       "text": [
        "\n",
        "  1048  |    0.021089  |    0.018913  |     1.115028  |             |  0.7s"
       ]
      },
      {
       "output_type": "stream",
       "stream": "stdout",
       "text": [
        "\n",
        "  1049  |    0.021059  |    0.018900  |     1.114266  |             |  0.7s"
       ]
      },
      {
       "output_type": "stream",
       "stream": "stdout",
       "text": [
        "\n",
        "  1050  |    0.021127  |    0.018934  |     1.115851  |             |  0.7s"
       ]
      },
      {
       "output_type": "stream",
       "stream": "stdout",
       "text": [
        "\n",
        "  1051  |    0.021045  |  \u001b[32m  0.018888\u001b[0m  |     1.114199  |             |  0.7s"
       ]
      },
      {
       "output_type": "stream",
       "stream": "stdout",
       "text": [
        "\n",
        "  1052  |    0.021097  |  \u001b[32m  0.018886\u001b[0m  |     1.117048  |             |  0.7s"
       ]
      },
      {
       "output_type": "stream",
       "stream": "stdout",
       "text": [
        "\n",
        "  1053  |    0.021055  |  \u001b[32m  0.018874\u001b[0m  |     1.115556  |             |  0.7s"
       ]
      },
      {
       "output_type": "stream",
       "stream": "stdout",
       "text": [
        "\n",
        "  1054  |    0.021046  |    0.018879  |     1.114795  |             |  0.7s"
       ]
      },
      {
       "output_type": "stream",
       "stream": "stdout",
       "text": [
        "\n",
        "  1055  |  \u001b[94m  0.020977\u001b[0m  |    0.018879  |     1.111097  |             |  0.7s"
       ]
      },
      {
       "output_type": "stream",
       "stream": "stdout",
       "text": [
        "\n",
        "  1056  |    0.021057  |    0.018898  |     1.114257  |             |  0.7s"
       ]
      },
      {
       "output_type": "stream",
       "stream": "stdout",
       "text": [
        "\n",
        "  1057  |    0.021051  |    0.018888  |     1.114503  |             |  0.7s"
       ]
      },
      {
       "output_type": "stream",
       "stream": "stdout",
       "text": [
        "\n",
        "  1058  |    0.021001  |  \u001b[32m  0.018862\u001b[0m  |     1.113377  |             |  0.7s"
       ]
      },
      {
       "output_type": "stream",
       "stream": "stdout",
       "text": [
        "\n",
        "  1059  |  \u001b[94m  0.020933\u001b[0m  |  \u001b[32m  0.018827\u001b[0m  |     1.111886  |             |  0.7s"
       ]
      },
      {
       "output_type": "stream",
       "stream": "stdout",
       "text": [
        "\n",
        "  1060  |    0.021051  |    0.018871  |     1.115518  |             |  0.7s"
       ]
      },
      {
       "output_type": "stream",
       "stream": "stdout",
       "text": [
        "\n",
        "  1061  |    0.021025  |    0.018830  |     1.116568  |             |  0.7s"
       ]
      },
      {
       "output_type": "stream",
       "stream": "stdout",
       "text": [
        "\n",
        "  1062  |  \u001b[94m  0.020928\u001b[0m  |  \u001b[32m  0.018808\u001b[0m  |     1.112759  |             |  0.7s"
       ]
      },
      {
       "output_type": "stream",
       "stream": "stdout",
       "text": [
        "\n",
        "  1063  |    0.021067  |    0.018829  |     1.118832  |             |  0.7s"
       ]
      },
      {
       "output_type": "stream",
       "stream": "stdout",
       "text": [
        "\n",
        "  1064  |    0.020955  |    0.018818  |     1.113578  |             |  0.7s"
       ]
      },
      {
       "output_type": "stream",
       "stream": "stdout",
       "text": [
        "\n",
        "  1065  |    0.021003  |    0.018818  |     1.116080  |             |  0.7s"
       ]
      },
      {
       "output_type": "stream",
       "stream": "stdout",
       "text": [
        "\n",
        "  1066  |    0.021018  |    0.018811  |     1.117334  |             |  0.7s"
       ]
      },
      {
       "output_type": "stream",
       "stream": "stdout",
       "text": [
        "\n",
        "  1067  |  \u001b[94m  0.020886\u001b[0m  |  \u001b[32m  0.018805\u001b[0m  |     1.110655  |             |  0.7s"
       ]
      },
      {
       "output_type": "stream",
       "stream": "stdout",
       "text": [
        "\n",
        "  1068  |    0.020972  |  \u001b[32m  0.018794\u001b[0m  |     1.115910  |             |  0.7s"
       ]
      },
      {
       "output_type": "stream",
       "stream": "stdout",
       "text": [
        "\n",
        "  1069  |    0.020973  |    0.018813  |     1.114808  |             |  0.7s"
       ]
      },
      {
       "output_type": "stream",
       "stream": "stdout",
       "text": [
        "\n",
        "  1070  |    0.020947  |    0.018815  |     1.113286  |             |  0.7s"
       ]
      },
      {
       "output_type": "stream",
       "stream": "stdout",
       "text": [
        "\n",
        "  1071  |    0.020920  |  \u001b[32m  0.018766\u001b[0m  |     1.114782  |             |  0.7s"
       ]
      },
      {
       "output_type": "stream",
       "stream": "stdout",
       "text": [
        "\n",
        "  1072  |    0.020941  |  \u001b[32m  0.018756\u001b[0m  |     1.116510  |             |  0.7s"
       ]
      },
      {
       "output_type": "stream",
       "stream": "stdout",
       "text": [
        "\n",
        "  1073  |    0.021002  |  \u001b[32m  0.018751\u001b[0m  |     1.120051  |             |  0.7s"
       ]
      },
      {
       "output_type": "stream",
       "stream": "stdout",
       "text": [
        "\n",
        "  1074  |    0.020910  |    0.018774  |     1.113771  |             |  0.7s"
       ]
      },
      {
       "output_type": "stream",
       "stream": "stdout",
       "text": [
        "\n",
        "  1075  |    0.020896  |    0.018777  |     1.112842  |             |  0.7s"
       ]
      },
      {
       "output_type": "stream",
       "stream": "stdout",
       "text": [
        "\n",
        "  1076  |    0.020951  |  \u001b[32m  0.018735\u001b[0m  |     1.118283  |             |  0.7s"
       ]
      },
      {
       "output_type": "stream",
       "stream": "stdout",
       "text": [
        "\n",
        "  1077  |    0.020893  |  \u001b[32m  0.018732\u001b[0m  |     1.115364  |             |  0.7s"
       ]
      },
      {
       "output_type": "stream",
       "stream": "stdout",
       "text": [
        "\n",
        "  1078  |    0.020964  |  \u001b[32m  0.018721\u001b[0m  |     1.119794  |             |  0.7s"
       ]
      },
      {
       "output_type": "stream",
       "stream": "stdout",
       "text": [
        "\n",
        "  1079  |    0.020894  |    0.018747  |     1.114543  |             |  0.7s"
       ]
      },
      {
       "output_type": "stream",
       "stream": "stdout",
       "text": [
        "\n",
        "  1080  |  \u001b[94m  0.020869\u001b[0m  |    0.018726  |     1.114448  |             |  0.7s"
       ]
      },
      {
       "output_type": "stream",
       "stream": "stdout",
       "text": [
        "\n",
        "  1081  |  \u001b[94m  0.020858\u001b[0m  |    0.018733  |     1.113482  |             |  0.7s"
       ]
      },
      {
       "output_type": "stream",
       "stream": "stdout",
       "text": [
        "\n",
        "  1082  |    0.020889  |    0.018741  |     1.114595  |             |  0.7s"
       ]
      },
      {
       "output_type": "stream",
       "stream": "stdout",
       "text": [
        "\n",
        "  1083  |    0.020874  |    0.018741  |     1.113819  |             |  0.7s"
       ]
      },
      {
       "output_type": "stream",
       "stream": "stdout",
       "text": [
        "\n",
        "  1084  |  \u001b[94m  0.020794\u001b[0m  |  \u001b[32m  0.018697\u001b[0m  |     1.112147  |             |  0.7s"
       ]
      },
      {
       "output_type": "stream",
       "stream": "stdout",
       "text": [
        "\n",
        "  1085  |    0.020845  |  \u001b[32m  0.018682\u001b[0m  |     1.115781  |             |  0.7s"
       ]
      },
      {
       "output_type": "stream",
       "stream": "stdout",
       "text": [
        "\n",
        "  1086  |    0.020876  |    0.018689  |     1.116988  |             |  0.7s"
       ]
      },
      {
       "output_type": "stream",
       "stream": "stdout",
       "text": [
        "\n",
        "  1087  |    0.020875  |  \u001b[32m  0.018680\u001b[0m  |     1.117509  |             |  0.7s"
       ]
      },
      {
       "output_type": "stream",
       "stream": "stdout",
       "text": [
        "\n",
        "  1088  |    0.020851  |  \u001b[32m  0.018671\u001b[0m  |     1.116769  |             |  0.7s"
       ]
      },
      {
       "output_type": "stream",
       "stream": "stdout",
       "text": [
        "\n",
        "  1089  |    0.020896  |    0.018672  |     1.119109  |             |  0.7s"
       ]
      },
      {
       "output_type": "stream",
       "stream": "stdout",
       "text": [
        "\n",
        "  1090  |    0.020884  |    0.018675  |     1.118270  |             |  0.7s"
       ]
      },
      {
       "output_type": "stream",
       "stream": "stdout",
       "text": [
        "\n",
        "  1091  |    0.020812  |  \u001b[32m  0.018667\u001b[0m  |     1.114893  |             |  0.7s"
       ]
      },
      {
       "output_type": "stream",
       "stream": "stdout",
       "text": [
        "\n",
        "  1092  |    0.020844  |  \u001b[32m  0.018646\u001b[0m  |     1.117850  |             |  0.7s"
       ]
      },
      {
       "output_type": "stream",
       "stream": "stdout",
       "text": [
        "\n",
        "  1093  |    0.020887  |    0.018662  |     1.119221  |             |  0.7s"
       ]
      },
      {
       "output_type": "stream",
       "stream": "stdout",
       "text": [
        "\n",
        "  1094  |    0.020818  |  \u001b[32m  0.018642\u001b[0m  |     1.116774  |             |  0.7s"
       ]
      },
      {
       "output_type": "stream",
       "stream": "stdout",
       "text": [
        "\n",
        "  1095  |    0.020857  |    0.018648  |     1.118454  |             |  0.7s"
       ]
      },
      {
       "output_type": "stream",
       "stream": "stdout",
       "text": [
        "\n",
        "  1096  |  \u001b[94m  0.020754\u001b[0m  |  \u001b[32m  0.018613\u001b[0m  |     1.115033  |             |  0.7s"
       ]
      },
      {
       "output_type": "stream",
       "stream": "stdout",
       "text": [
        "\n",
        "  1097  |    0.020898  |  \u001b[32m  0.018607\u001b[0m  |     1.123122  |             |  0.7s"
       ]
      },
      {
       "output_type": "stream",
       "stream": "stdout",
       "text": [
        "\n",
        "  1098  |    0.020873  |    0.018614  |     1.121369  |             |  0.7s"
       ]
      },
      {
       "output_type": "stream",
       "stream": "stdout",
       "text": [
        "\n",
        "  1099  |    0.020784  |  \u001b[32m  0.018582\u001b[0m  |     1.118498  |             |  0.7s"
       ]
      },
      {
       "output_type": "stream",
       "stream": "stdout",
       "text": [
        "\n",
        "  1100  |    0.020805  |    0.018640  |     1.116127  |             |  0.7s"
       ]
      },
      {
       "output_type": "stream",
       "stream": "stdout",
       "text": [
        "\n",
        "  1101  |    0.020812  |    0.018637  |     1.116719  |             |  0.7s"
       ]
      },
      {
       "output_type": "stream",
       "stream": "stdout",
       "text": [
        "\n",
        "  1102  |    0.020917  |    0.018613  |     1.123788  |             |  0.7s"
       ]
      },
      {
       "output_type": "stream",
       "stream": "stdout",
       "text": [
        "\n",
        "  1103  |    0.020833  |    0.018601  |     1.119954  |             |  0.7s"
       ]
      },
      {
       "output_type": "stream",
       "stream": "stdout",
       "text": [
        "\n",
        "  1104  |    0.020778  |    0.018624  |     1.115667  |             |  0.7s"
       ]
      },
      {
       "output_type": "stream",
       "stream": "stdout",
       "text": [
        "\n",
        "  1105  |    0.020773  |    0.018601  |     1.116768  |             |  0.7s"
       ]
      },
      {
       "output_type": "stream",
       "stream": "stdout",
       "text": [
        "\n",
        "  1106  |    0.020825  |    0.018597  |     1.119754  |             |  0.7s"
       ]
      },
      {
       "output_type": "stream",
       "stream": "stdout",
       "text": [
        "\n",
        "  1107  |    0.020826  |    0.018603  |     1.119485  |             |  0.7s"
       ]
      },
      {
       "output_type": "stream",
       "stream": "stdout",
       "text": [
        "\n",
        "  1108  |    0.020784  |  \u001b[32m  0.018577\u001b[0m  |     1.118783  |             |  0.7s"
       ]
      },
      {
       "output_type": "stream",
       "stream": "stdout",
       "text": [
        "\n",
        "  1109  |  \u001b[94m  0.020746\u001b[0m  |  \u001b[32m  0.018573\u001b[0m  |     1.116966  |             |  0.7s"
       ]
      },
      {
       "output_type": "stream",
       "stream": "stdout",
       "text": [
        "\n",
        "  1110  |  \u001b[94m  0.020721\u001b[0m  |  \u001b[32m  0.018547\u001b[0m  |     1.117225  |             |  0.7s"
       ]
      },
      {
       "output_type": "stream",
       "stream": "stdout",
       "text": [
        "\n",
        "  1111  |    0.020760  |  \u001b[32m  0.018545\u001b[0m  |     1.119460  |             |  0.7s"
       ]
      },
      {
       "output_type": "stream",
       "stream": "stdout",
       "text": [
        "\n",
        "  1112  |    0.020771  |    0.018558  |     1.119261  |             |  0.7s"
       ]
      },
      {
       "output_type": "stream",
       "stream": "stdout",
       "text": [
        "\n",
        "  1113  |    0.020793  |    0.018546  |     1.121198  |             |  0.7s"
       ]
      },
      {
       "output_type": "stream",
       "stream": "stdout",
       "text": [
        "\n",
        "  1114  |    0.020790  |    0.018568  |     1.119645  |             |  0.7s"
       ]
      },
      {
       "output_type": "stream",
       "stream": "stdout",
       "text": [
        "\n",
        "  1115  |    0.020756  |  \u001b[32m  0.018542\u001b[0m  |     1.119390  |             |  0.7s"
       ]
      },
      {
       "output_type": "stream",
       "stream": "stdout",
       "text": [
        "\n",
        "  1116  |    0.020761  |    0.018557  |     1.118747  |             |  0.7s"
       ]
      },
      {
       "output_type": "stream",
       "stream": "stdout",
       "text": [
        "\n",
        "  1117  |  \u001b[94m  0.020688\u001b[0m  |  \u001b[32m  0.018520\u001b[0m  |     1.117078  |             |  0.7s"
       ]
      },
      {
       "output_type": "stream",
       "stream": "stdout",
       "text": [
        "\n",
        "  1118  |    0.020767  |    0.018542  |     1.120025  |             |  0.7s"
       ]
      },
      {
       "output_type": "stream",
       "stream": "stdout",
       "text": [
        "\n",
        "  1119  |    0.020737  |    0.018538  |     1.118611  |             |  0.7s"
       ]
      },
      {
       "output_type": "stream",
       "stream": "stdout",
       "text": [
        "\n",
        "  1120  |    0.020751  |    0.018528  |     1.120004  |             |  0.7s"
       ]
      },
      {
       "output_type": "stream",
       "stream": "stdout",
       "text": [
        "\n",
        "  1121  |  \u001b[94m  0.020677\u001b[0m  |  \u001b[32m  0.018502\u001b[0m  |     1.117515  |             |  0.7s"
       ]
      },
      {
       "output_type": "stream",
       "stream": "stdout",
       "text": [
        "\n",
        "  1122  |    0.020733  |  \u001b[32m  0.018501\u001b[0m  |     1.120659  |             |  0.7s"
       ]
      },
      {
       "output_type": "stream",
       "stream": "stdout",
       "text": [
        "\n",
        "  1123  |  \u001b[94m  0.020647\u001b[0m  |  \u001b[32m  0.018486\u001b[0m  |     1.116919  |             |  0.7s"
       ]
      },
      {
       "output_type": "stream",
       "stream": "stdout",
       "text": [
        "\n",
        "  1124  |    0.020719  |    0.018500  |     1.119953  |             |  0.7s"
       ]
      },
      {
       "output_type": "stream",
       "stream": "stdout",
       "text": [
        "\n",
        "  1125  |    0.020678  |    0.018520  |     1.116538  |             |  0.7s"
       ]
      },
      {
       "output_type": "stream",
       "stream": "stdout",
       "text": [
        "\n",
        "  1126  |    0.020698  |    0.018499  |     1.118886  |             |  0.7s"
       ]
      },
      {
       "output_type": "stream",
       "stream": "stdout",
       "text": [
        "\n",
        "  1127  |    0.020664  |  \u001b[32m  0.018478\u001b[0m  |     1.118305  |             |  0.7s"
       ]
      },
      {
       "output_type": "stream",
       "stream": "stdout",
       "text": [
        "\n",
        "  1128  |    0.020662  |  \u001b[32m  0.018441\u001b[0m  |     1.120411  |             |  0.7s"
       ]
      },
      {
       "output_type": "stream",
       "stream": "stdout",
       "text": [
        "\n",
        "  1129  |  \u001b[94m  0.020607\u001b[0m  |    0.018470  |     1.115744  |             |  0.7s"
       ]
      },
      {
       "output_type": "stream",
       "stream": "stdout",
       "text": [
        "\n",
        "  1130  |    0.020745  |    0.018458  |     1.123889  |             |  0.7s"
       ]
      },
      {
       "output_type": "stream",
       "stream": "stdout",
       "text": [
        "\n",
        "  1131  |    0.020747  |    0.018459  |     1.123996  |             |  0.7s"
       ]
      },
      {
       "output_type": "stream",
       "stream": "stdout",
       "text": [
        "\n",
        "  1132  |    0.020635  |    0.018454  |     1.118205  |             |  0.7s"
       ]
      },
      {
       "output_type": "stream",
       "stream": "stdout",
       "text": [
        "\n",
        "  1133  |    0.020690  |  \u001b[32m  0.018418\u001b[0m  |     1.123369  |             |  0.7s"
       ]
      },
      {
       "output_type": "stream",
       "stream": "stdout",
       "text": [
        "\n",
        "  1134  |  \u001b[94m  0.020602\u001b[0m  |  \u001b[32m  0.018409\u001b[0m  |     1.119141  |             |  0.7s"
       ]
      },
      {
       "output_type": "stream",
       "stream": "stdout",
       "text": [
        "\n",
        "  1135  |    0.020661  |    0.018451  |     1.119810  |             |  0.7s"
       ]
      },
      {
       "output_type": "stream",
       "stream": "stdout",
       "text": [
        "\n",
        "  1136  |    0.020654  |    0.018442  |     1.119941  |             |  0.7s"
       ]
      },
      {
       "output_type": "stream",
       "stream": "stdout",
       "text": [
        "\n",
        "  1137  |    0.020650  |    0.018437  |     1.120054  |             |  0.7s"
       ]
      },
      {
       "output_type": "stream",
       "stream": "stdout",
       "text": [
        "\n",
        "  1138  |    0.020606  |    0.018429  |     1.118092  |             |  0.7s"
       ]
      },
      {
       "output_type": "stream",
       "stream": "stdout",
       "text": [
        "\n",
        "  1139  |    0.020628  |    0.018451  |     1.118022  |             |  0.7s"
       ]
      },
      {
       "output_type": "stream",
       "stream": "stdout",
       "text": [
        "\n",
        "  1140  |    0.020669  |  \u001b[32m  0.018398\u001b[0m  |     1.123425  |             |  0.7s"
       ]
      },
      {
       "output_type": "stream",
       "stream": "stdout",
       "text": [
        "\n",
        "  1141  |    0.020607  |    0.018420  |     1.118718  |             |  0.7s"
       ]
      },
      {
       "output_type": "stream",
       "stream": "stdout",
       "text": [
        "\n",
        "  1142  |    0.020700  |  \u001b[32m  0.018396\u001b[0m  |     1.125276  |             |  0.7s"
       ]
      },
      {
       "output_type": "stream",
       "stream": "stdout",
       "text": [
        "\n",
        "  1143  |    0.020650  |    0.018455  |     1.118981  |             |  0.7s"
       ]
      },
      {
       "output_type": "stream",
       "stream": "stdout",
       "text": [
        "\n",
        "  1144  |  \u001b[94m  0.020594\u001b[0m  |  \u001b[32m  0.018391\u001b[0m  |     1.119749  |             |  0.7s"
       ]
      },
      {
       "output_type": "stream",
       "stream": "stdout",
       "text": [
        "\n",
        "  1145  |    0.020621  |    0.018397  |     1.120912  |             |  0.7s"
       ]
      },
      {
       "output_type": "stream",
       "stream": "stdout",
       "text": [
        "\n",
        "  1146  |    0.020596  |    0.018395  |     1.119636  |             |  0.7s"
       ]
      },
      {
       "output_type": "stream",
       "stream": "stdout",
       "text": [
        "\n",
        "  1147  |    0.020614  |  \u001b[32m  0.018391\u001b[0m  |     1.120851  |             |  0.7s"
       ]
      },
      {
       "output_type": "stream",
       "stream": "stdout",
       "text": [
        "\n",
        "  1148  |    0.020637  |  \u001b[32m  0.018364\u001b[0m  |     1.123766  |             |  0.7s"
       ]
      },
      {
       "output_type": "stream",
       "stream": "stdout",
       "text": [
        "\n",
        "  1149  |    0.020609  |    0.018375  |     1.121609  |             |  0.7s"
       ]
      },
      {
       "output_type": "stream",
       "stream": "stdout",
       "text": [
        "\n",
        "  1150  |    0.020601  |    0.018372  |     1.121280  |             |  0.7s"
       ]
      },
      {
       "output_type": "stream",
       "stream": "stdout",
       "text": [
        "\n",
        "  1151  |  \u001b[94m  0.020571\u001b[0m  |    0.018368  |     1.119966  |             |  0.7s"
       ]
      },
      {
       "output_type": "stream",
       "stream": "stdout",
       "text": [
        "\n",
        "  1152  |    0.020583  |    0.018375  |     1.120183  |             |  0.7s"
       ]
      },
      {
       "output_type": "stream",
       "stream": "stdout",
       "text": [
        "\n",
        "  1153  |    0.020606  |    0.018372  |     1.121600  |             |  0.7s"
       ]
      },
      {
       "output_type": "stream",
       "stream": "stdout",
       "text": [
        "\n",
        "  1154  |    0.020577  |    0.018369  |     1.120198  |             |  0.7s"
       ]
      },
      {
       "output_type": "stream",
       "stream": "stdout",
       "text": [
        "\n",
        "  1155  |  \u001b[94m  0.020554\u001b[0m  |  \u001b[32m  0.018341\u001b[0m  |     1.120640  |             |  0.7s"
       ]
      },
      {
       "output_type": "stream",
       "stream": "stdout",
       "text": [
        "\n",
        "  1156  |  \u001b[94m  0.020541\u001b[0m  |    0.018349  |     1.119459  |             |  0.7s"
       ]
      },
      {
       "output_type": "stream",
       "stream": "stdout",
       "text": [
        "\n",
        "  1157  |  \u001b[94m  0.020532\u001b[0m  |  \u001b[32m  0.018335\u001b[0m  |     1.119819  |             |  0.7s"
       ]
      },
      {
       "output_type": "stream",
       "stream": "stdout",
       "text": [
        "\n",
        "  1158  |    0.020553  |    0.018349  |     1.120121  |             |  0.7s"
       ]
      },
      {
       "output_type": "stream",
       "stream": "stdout",
       "text": [
        "\n",
        "  1159  |    0.020567  |  \u001b[32m  0.018317\u001b[0m  |     1.122819  |             |  0.7s"
       ]
      },
      {
       "output_type": "stream",
       "stream": "stdout",
       "text": [
        "\n",
        "  1160  |  \u001b[94m  0.020501\u001b[0m  |    0.018331  |     1.118382  |             |  0.7s"
       ]
      },
      {
       "output_type": "stream",
       "stream": "stdout",
       "text": [
        "\n",
        "  1161  |    0.020622  |    0.018322  |     1.125583  |             |  0.7s"
       ]
      },
      {
       "output_type": "stream",
       "stream": "stdout",
       "text": [
        "\n",
        "  1162  |  \u001b[94m  0.020490\u001b[0m  |    0.018348  |     1.116773  |             |  0.7s"
       ]
      },
      {
       "output_type": "stream",
       "stream": "stdout",
       "text": [
        "\n",
        "  1163  |    0.020504  |  \u001b[32m  0.018306\u001b[0m  |     1.120057  |             |  0.7s"
       ]
      },
      {
       "output_type": "stream",
       "stream": "stdout",
       "text": [
        "\n",
        "  1164  |  \u001b[94m  0.020481\u001b[0m  |  \u001b[32m  0.018303\u001b[0m  |     1.118980  |             |  0.7s"
       ]
      },
      {
       "output_type": "stream",
       "stream": "stdout",
       "text": [
        "\n",
        "  1165  |  \u001b[94m  0.020466\u001b[0m  |  \u001b[32m  0.018283\u001b[0m  |     1.119391  |             |  0.7s"
       ]
      },
      {
       "output_type": "stream",
       "stream": "stdout",
       "text": [
        "\n",
        "  1166  |    0.020499  |    0.018295  |     1.120467  |             |  0.7s"
       ]
      },
      {
       "output_type": "stream",
       "stream": "stdout",
       "text": [
        "\n",
        "  1167  |    0.020488  |    0.018296  |     1.119811  |             |  0.7s"
       ]
      },
      {
       "output_type": "stream",
       "stream": "stdout",
       "text": [
        "\n",
        "  1168  |    0.020476  |  \u001b[32m  0.018282\u001b[0m  |     1.120025  |             |  0.7s"
       ]
      },
      {
       "output_type": "stream",
       "stream": "stdout",
       "text": [
        "\n",
        "  1169  |    0.020506  |    0.018310  |     1.119908  |             |  0.7s"
       ]
      },
      {
       "output_type": "stream",
       "stream": "stdout",
       "text": [
        "\n",
        "  1170  |    0.020572  |    0.018306  |     1.123764  |             |  0.7s"
       ]
      },
      {
       "output_type": "stream",
       "stream": "stdout",
       "text": [
        "\n",
        "  1171  |    0.020480  |  \u001b[32m  0.018273\u001b[0m  |     1.120756  |             |  0.7s"
       ]
      },
      {
       "output_type": "stream",
       "stream": "stdout",
       "text": [
        "\n",
        "  1172  |    0.020566  |    0.018281  |     1.125019  |             |  0.7s"
       ]
      },
      {
       "output_type": "stream",
       "stream": "stdout",
       "text": [
        "\n",
        "  1173  |    0.020497  |  \u001b[32m  0.018235\u001b[0m  |     1.124029  |             |  0.7s"
       ]
      },
      {
       "output_type": "stream",
       "stream": "stdout",
       "text": [
        "\n",
        "  1174  |    0.020531  |    0.018276  |     1.123364  |             |  0.7s"
       ]
      },
      {
       "output_type": "stream",
       "stream": "stdout",
       "text": [
        "\n",
        "  1175  |  \u001b[94m  0.020353\u001b[0m  |    0.018244  |     1.115585  |             |  0.7s"
       ]
      },
      {
       "output_type": "stream",
       "stream": "stdout",
       "text": [
        "\n",
        "  1176  |    0.020498  |    0.018274  |     1.121679  |             |  0.7s"
       ]
      },
      {
       "output_type": "stream",
       "stream": "stdout",
       "text": [
        "\n",
        "  1177  |    0.020399  |    0.018270  |     1.116487  |             |  0.7s"
       ]
      },
      {
       "output_type": "stream",
       "stream": "stdout",
       "text": [
        "\n",
        "  1178  |    0.020431  |  \u001b[32m  0.018232\u001b[0m  |     1.120584  |             |  0.7s"
       ]
      },
      {
       "output_type": "stream",
       "stream": "stdout",
       "text": [
        "\n",
        "  1179  |    0.020372  |    0.018238  |     1.117025  |             |  0.7s"
       ]
      },
      {
       "output_type": "stream",
       "stream": "stdout",
       "text": [
        "\n",
        "  1180  |    0.020477  |    0.018233  |     1.123083  |             |  0.7s"
       ]
      },
      {
       "output_type": "stream",
       "stream": "stdout",
       "text": [
        "\n",
        "  1181  |    0.020432  |  \u001b[32m  0.018209\u001b[0m  |     1.122083  |             |  0.7s"
       ]
      },
      {
       "output_type": "stream",
       "stream": "stdout",
       "text": [
        "\n",
        "  1182  |    0.020432  |    0.018232  |     1.120632  |             |  0.7s"
       ]
      },
      {
       "output_type": "stream",
       "stream": "stdout",
       "text": [
        "\n",
        "  1183  |    0.020468  |    0.018235  |     1.122476  |             |  0.7s"
       ]
      },
      {
       "output_type": "stream",
       "stream": "stdout",
       "text": [
        "\n",
        "  1184  |    0.020365  |    0.018215  |     1.118006  |             |  0.7s"
       ]
      },
      {
       "output_type": "stream",
       "stream": "stdout",
       "text": [
        "\n",
        "  1185  |    0.020384  |  \u001b[32m  0.018187\u001b[0m  |     1.120822  |             |  0.7s"
       ]
      },
      {
       "output_type": "stream",
       "stream": "stdout",
       "text": [
        "\n",
        "  1186  |    0.020479  |    0.018211  |     1.124551  |             |  0.7s"
       ]
      },
      {
       "output_type": "stream",
       "stream": "stdout",
       "text": [
        "\n",
        "  1187  |    0.020365  |    0.018192  |     1.119427  |             |  0.7s"
       ]
      },
      {
       "output_type": "stream",
       "stream": "stdout",
       "text": [
        "\n",
        "  1188  |    0.020433  |  \u001b[32m  0.018162\u001b[0m  |     1.125040  |             |  0.7s"
       ]
      },
      {
       "output_type": "stream",
       "stream": "stdout",
       "text": [
        "\n",
        "  1189  |    0.020423  |    0.018164  |     1.124412  |             |  0.7s"
       ]
      },
      {
       "output_type": "stream",
       "stream": "stdout",
       "text": [
        "\n",
        "  1190  |    0.020418  |    0.018164  |     1.124068  |             |  0.7s"
       ]
      },
      {
       "output_type": "stream",
       "stream": "stdout",
       "text": [
        "\n",
        "  1191  |    0.020440  |    0.018168  |     1.125066  |             |  0.7s"
       ]
      },
      {
       "output_type": "stream",
       "stream": "stdout",
       "text": [
        "\n",
        "  1192  |    0.020461  |    0.018210  |     1.123588  |             |  0.7s"
       ]
      },
      {
       "output_type": "stream",
       "stream": "stdout",
       "text": [
        "\n",
        "  1193  |    0.020368  |    0.018167  |     1.121125  |             |  0.7s"
       ]
      },
      {
       "output_type": "stream",
       "stream": "stdout",
       "text": [
        "\n",
        "  1194  |    0.020436  |    0.018163  |     1.125140  |             |  0.7s"
       ]
      },
      {
       "output_type": "stream",
       "stream": "stdout",
       "text": [
        "\n",
        "  1195  |    0.020398  |    0.018174  |     1.122319  |             |  0.7s"
       ]
      },
      {
       "output_type": "stream",
       "stream": "stdout",
       "text": [
        "\n",
        "  1196  |  \u001b[94m  0.020322\u001b[0m  |  \u001b[32m  0.018149\u001b[0m  |     1.119731  |             |  0.7s"
       ]
      },
      {
       "output_type": "stream",
       "stream": "stdout",
       "text": [
        "\n",
        "  1197  |    0.020385  |  \u001b[32m  0.018141\u001b[0m  |     1.123687  |             |  0.7s"
       ]
      },
      {
       "output_type": "stream",
       "stream": "stdout",
       "text": [
        "\n",
        "  1198  |    0.020378  |  \u001b[32m  0.018121\u001b[0m  |     1.124564  |             |  0.7s"
       ]
      },
      {
       "output_type": "stream",
       "stream": "stdout",
       "text": [
        "\n",
        "  1199  |    0.020417  |    0.018142  |     1.125384  |             |  0.7s"
       ]
      },
      {
       "output_type": "stream",
       "stream": "stdout",
       "text": [
        "\n",
        "  1200  |  \u001b[94m  0.020322\u001b[0m  |    0.018127  |     1.121077  |             |  0.7s"
       ]
      },
      {
       "output_type": "stream",
       "stream": "stdout",
       "text": [
        "\n",
        "  1201  |    0.020351  |  \u001b[32m  0.018108\u001b[0m  |     1.123849  |             |  0.7s"
       ]
      },
      {
       "output_type": "stream",
       "stream": "stdout",
       "text": [
        "\n",
        "  1202  |    0.020378  |    0.018119  |     1.124661  |             |  0.7s"
       ]
      },
      {
       "output_type": "stream",
       "stream": "stdout",
       "text": [
        "\n",
        "  1203  |    0.020348  |    0.018113  |     1.123387  |             |  0.7s"
       ]
      },
      {
       "output_type": "stream",
       "stream": "stdout",
       "text": [
        "\n",
        "  1204  |  \u001b[94m  0.020291\u001b[0m  |    0.018109  |     1.120446  |             |  0.7s"
       ]
      },
      {
       "output_type": "stream",
       "stream": "stdout",
       "text": [
        "\n",
        "  1205  |    0.020329  |    0.018142  |     1.120525  |             |  0.7s"
       ]
      },
      {
       "output_type": "stream",
       "stream": "stdout",
       "text": [
        "\n",
        "  1206  |    0.020343  |  \u001b[32m  0.018091\u001b[0m  |     1.124495  |             |  0.7s"
       ]
      },
      {
       "output_type": "stream",
       "stream": "stdout",
       "text": [
        "\n",
        "  1207  |  \u001b[94m  0.020252\u001b[0m  |  \u001b[32m  0.018090\u001b[0m  |     1.119528  |             |  0.7s"
       ]
      },
      {
       "output_type": "stream",
       "stream": "stdout",
       "text": [
        "\n",
        "  1208  |    0.020320  |    0.018114  |     1.121771  |             |  0.7s"
       ]
      },
      {
       "output_type": "stream",
       "stream": "stdout",
       "text": [
        "\n",
        "  1209  |    0.020283  |    0.018133  |     1.118617  |             |  0.7s"
       ]
      },
      {
       "output_type": "stream",
       "stream": "stdout",
       "text": [
        "\n",
        "  1210  |    0.020357  |    0.018090  |     1.125294  |             |  0.7s"
       ]
      },
      {
       "output_type": "stream",
       "stream": "stdout",
       "text": [
        "\n",
        "  1211  |    0.020278  |    0.018104  |     1.120060  |             |  0.7s"
       ]
      },
      {
       "output_type": "stream",
       "stream": "stdout",
       "text": [
        "\n",
        "  1212  |    0.020375  |  \u001b[32m  0.018070\u001b[0m  |     1.127519  |             |  0.7s"
       ]
      },
      {
       "output_type": "stream",
       "stream": "stdout",
       "text": [
        "\n",
        "  1213  |    0.020346  |    0.018082  |     1.125255  |             |  0.7s"
       ]
      },
      {
       "output_type": "stream",
       "stream": "stdout",
       "text": [
        "\n",
        "  1214  |    0.020303  |  \u001b[32m  0.018063\u001b[0m  |     1.124030  |             |  0.7s"
       ]
      },
      {
       "output_type": "stream",
       "stream": "stdout",
       "text": [
        "\n",
        "  1215  |  \u001b[94m  0.020223\u001b[0m  |  \u001b[32m  0.018036\u001b[0m  |     1.121289  |             |  0.7s"
       ]
      },
      {
       "output_type": "stream",
       "stream": "stdout",
       "text": [
        "\n",
        "  1216  |    0.020325  |    0.018074  |     1.124550  |             |  0.7s"
       ]
      },
      {
       "output_type": "stream",
       "stream": "stdout",
       "text": [
        "\n",
        "  1217  |    0.020375  |    0.018041  |     1.129388  |             |  0.7s"
       ]
      },
      {
       "output_type": "stream",
       "stream": "stdout",
       "text": [
        "\n",
        "  1218  |    0.020335  |    0.018089  |     1.124166  |             |  0.7s"
       ]
      },
      {
       "output_type": "stream",
       "stream": "stdout",
       "text": [
        "\n",
        "  1219  |  \u001b[94m  0.020189\u001b[0m  |    0.018048  |     1.118620  |             |  0.7s"
       ]
      },
      {
       "output_type": "stream",
       "stream": "stdout",
       "text": [
        "\n",
        "  1220  |    0.020350  |    0.018039  |     1.128132  |             |  0.7s"
       ]
      },
      {
       "output_type": "stream",
       "stream": "stdout",
       "text": [
        "\n",
        "  1221  |    0.020320  |    0.018074  |     1.124267  |             |  0.7s"
       ]
      },
      {
       "output_type": "stream",
       "stream": "stdout",
       "text": [
        "\n",
        "  1222  |    0.020306  |  \u001b[32m  0.018014\u001b[0m  |     1.127191  |             |  0.7s"
       ]
      },
      {
       "output_type": "stream",
       "stream": "stdout",
       "text": [
        "\n",
        "  1223  |    0.020293  |    0.018068  |     1.123178  |             |  0.7s"
       ]
      },
      {
       "output_type": "stream",
       "stream": "stdout",
       "text": [
        "\n",
        "  1224  |    0.020242  |    0.018024  |     1.123056  |             |  0.7s"
       ]
      },
      {
       "output_type": "stream",
       "stream": "stdout",
       "text": [
        "\n",
        "  1225  |    0.020273  |    0.018024  |     1.124786  |             |  0.7s"
       ]
      },
      {
       "output_type": "stream",
       "stream": "stdout",
       "text": [
        "\n",
        "  1226  |    0.020241  |    0.018017  |     1.123461  |             |  0.7s"
       ]
      },
      {
       "output_type": "stream",
       "stream": "stdout",
       "text": [
        "\n",
        "  1227  |    0.020240  |    0.018039  |     1.122034  |             |  0.7s"
       ]
      },
      {
       "output_type": "stream",
       "stream": "stdout",
       "text": [
        "\n",
        "  1228  |    0.020205  |  \u001b[32m  0.017996\u001b[0m  |     1.122728  |             |  0.7s"
       ]
      },
      {
       "output_type": "stream",
       "stream": "stdout",
       "text": [
        "\n",
        "  1229  |    0.020253  |    0.018005  |     1.124840  |             |  0.7s"
       ]
      },
      {
       "output_type": "stream",
       "stream": "stdout",
       "text": [
        "\n",
        "  1230  |    0.020291  |    0.018018  |     1.126189  |             |  0.7s"
       ]
      },
      {
       "output_type": "stream",
       "stream": "stdout",
       "text": [
        "\n",
        "  1231  |    0.020213  |    0.018013  |     1.122137  |             |  0.7s"
       ]
      },
      {
       "output_type": "stream",
       "stream": "stdout",
       "text": [
        "\n",
        "  1232  |    0.020253  |    0.018016  |     1.124157  |             |  0.7s"
       ]
      },
      {
       "output_type": "stream",
       "stream": "stdout",
       "text": [
        "\n",
        "  1233  |    0.020219  |  \u001b[32m  0.017995\u001b[0m  |     1.123578  |             |  0.7s"
       ]
      },
      {
       "output_type": "stream",
       "stream": "stdout",
       "text": [
        "\n",
        "  1234  |    0.020254  |  \u001b[32m  0.017991\u001b[0m  |     1.125825  |             |  0.7s"
       ]
      },
      {
       "output_type": "stream",
       "stream": "stdout",
       "text": [
        "\n",
        "  1235  |    0.020246  |    0.017997  |     1.124961  |             |  0.7s"
       ]
      },
      {
       "output_type": "stream",
       "stream": "stdout",
       "text": [
        "\n",
        "  1236  |  \u001b[94m  0.020180\u001b[0m  |  \u001b[32m  0.017950\u001b[0m  |     1.124261  |             |  0.7s"
       ]
      },
      {
       "output_type": "stream",
       "stream": "stdout",
       "text": [
        "\n",
        "  1237  |    0.020229  |    0.017973  |     1.125503  |             |  0.7s"
       ]
      },
      {
       "output_type": "stream",
       "stream": "stdout",
       "text": [
        "\n",
        "  1238  |    0.020223  |    0.017972  |     1.125258  |             |  0.7s"
       ]
      },
      {
       "output_type": "stream",
       "stream": "stdout",
       "text": [
        "\n",
        "  1239  |    0.020202  |    0.017954  |     1.125214  |             |  0.7s"
       ]
      },
      {
       "output_type": "stream",
       "stream": "stdout",
       "text": [
        "\n",
        "  1240  |    0.020219  |    0.017970  |     1.125118  |             |  0.7s"
       ]
      },
      {
       "output_type": "stream",
       "stream": "stdout",
       "text": [
        "\n",
        "  1241  |  \u001b[94m  0.020147\u001b[0m  |    0.017991  |     1.119861  |             |  0.7s"
       ]
      },
      {
       "output_type": "stream",
       "stream": "stdout",
       "text": [
        "\n",
        "  1242  |    0.020165  |    0.017957  |     1.123000  |             |  0.7s"
       ]
      },
      {
       "output_type": "stream",
       "stream": "stdout",
       "text": [
        "\n",
        "  1243  |    0.020180  |  \u001b[32m  0.017946\u001b[0m  |     1.124492  |             |  0.7s"
       ]
      },
      {
       "output_type": "stream",
       "stream": "stdout",
       "text": [
        "\n",
        "  1244  |  \u001b[94m  0.020120\u001b[0m  |    0.017960  |     1.120273  |             |  0.7s"
       ]
      },
      {
       "output_type": "stream",
       "stream": "stdout",
       "text": [
        "\n",
        "  1245  |  \u001b[94m  0.020090\u001b[0m  |  \u001b[32m  0.017915\u001b[0m  |     1.121406  |             |  0.7s"
       ]
      },
      {
       "output_type": "stream",
       "stream": "stdout",
       "text": [
        "\n",
        "  1246  |    0.020189  |    0.017940  |     1.125341  |             |  0.7s"
       ]
      },
      {
       "output_type": "stream",
       "stream": "stdout",
       "text": [
        "\n",
        "  1247  |    0.020232  |    0.017955  |     1.126790  |             |  0.7s"
       ]
      },
      {
       "output_type": "stream",
       "stream": "stdout",
       "text": [
        "\n",
        "  1248  |    0.020195  |  \u001b[32m  0.017913\u001b[0m  |     1.127358  |             |  0.7s"
       ]
      },
      {
       "output_type": "stream",
       "stream": "stdout",
       "text": [
        "\n",
        "  1249  |    0.020123  |  \u001b[32m  0.017902\u001b[0m  |     1.124058  |             |  0.7s"
       ]
      },
      {
       "output_type": "stream",
       "stream": "stdout",
       "text": [
        "\n",
        "  1250  |    0.020179  |    0.017907  |     1.126885  |             |  0.7s"
       ]
      },
      {
       "output_type": "stream",
       "stream": "stdout",
       "text": [
        "\n",
        "  1251  |    0.020176  |  \u001b[32m  0.017897\u001b[0m  |     1.127344  |             |  0.7s"
       ]
      },
      {
       "output_type": "stream",
       "stream": "stdout",
       "text": [
        "\n",
        "  1252  |    0.020218  |  \u001b[32m  0.017893\u001b[0m  |     1.129901  |             |  0.7s"
       ]
      },
      {
       "output_type": "stream",
       "stream": "stdout",
       "text": [
        "\n",
        "  1253  |    0.020135  |    0.017909  |     1.124333  |             |  0.7s"
       ]
      },
      {
       "output_type": "stream",
       "stream": "stdout",
       "text": [
        "\n",
        "  1254  |    0.020133  |    0.017903  |     1.124514  |             |  0.7s"
       ]
      },
      {
       "output_type": "stream",
       "stream": "stdout",
       "text": [
        "\n",
        "  1255  |    0.020239  |    0.017902  |     1.130506  |             |  0.7s"
       ]
      },
      {
       "output_type": "stream",
       "stream": "stdout",
       "text": [
        "\n",
        "  1256  |    0.020142  |  \u001b[32m  0.017889\u001b[0m  |     1.125982  |             |  0.7s"
       ]
      },
      {
       "output_type": "stream",
       "stream": "stdout",
       "text": [
        "\n",
        "  1257  |    0.020138  |  \u001b[32m  0.017873\u001b[0m  |     1.126775  |             |  0.7s"
       ]
      },
      {
       "output_type": "stream",
       "stream": "stdout",
       "text": [
        "\n",
        "  1258  |    0.020110  |    0.017889  |     1.124138  |             |  0.7s"
       ]
      },
      {
       "output_type": "stream",
       "stream": "stdout",
       "text": [
        "\n",
        "  1259  |    0.020093  |  \u001b[32m  0.017849\u001b[0m  |     1.125708  |             |  0.7s"
       ]
      },
      {
       "output_type": "stream",
       "stream": "stdout",
       "text": [
        "\n",
        "  1260  |    0.020120  |    0.017860  |     1.126555  |             |  0.7s"
       ]
      },
      {
       "output_type": "stream",
       "stream": "stdout",
       "text": [
        "\n",
        "  1261  |    0.020110  |    0.017867  |     1.125554  |             |  0.7s"
       ]
      },
      {
       "output_type": "stream",
       "stream": "stdout",
       "text": [
        "\n",
        "  1262  |  \u001b[94m  0.020046\u001b[0m  |    0.017877  |     1.121299  |             |  0.7s"
       ]
      },
      {
       "output_type": "stream",
       "stream": "stdout",
       "text": [
        "\n",
        "  1263  |    0.020053  |    0.017871  |     1.122089  |             |  0.7s"
       ]
      },
      {
       "output_type": "stream",
       "stream": "stdout",
       "text": [
        "\n",
        "  1264  |    0.020151  |    0.017883  |     1.126823  |             |  0.7s"
       ]
      },
      {
       "output_type": "stream",
       "stream": "stdout",
       "text": [
        "\n",
        "  1265  |    0.020092  |    0.017851  |     1.125512  |             |  0.7s"
       ]
      },
      {
       "output_type": "stream",
       "stream": "stdout",
       "text": [
        "\n",
        "  1266  |    0.020061  |    0.017872  |     1.122485  |             |  0.7s"
       ]
      },
      {
       "output_type": "stream",
       "stream": "stdout",
       "text": [
        "\n",
        "  1267  |    0.020072  |  \u001b[32m  0.017847\u001b[0m  |     1.124681  |             |  0.7s"
       ]
      },
      {
       "output_type": "stream",
       "stream": "stdout",
       "text": [
        "\n",
        "  1268  |    0.020055  |    0.017848  |     1.123641  |             |  0.7s"
       ]
      },
      {
       "output_type": "stream",
       "stream": "stdout",
       "text": [
        "\n",
        "  1269  |  \u001b[94m  0.019983\u001b[0m  |  \u001b[32m  0.017836\u001b[0m  |     1.120358  |             |  0.7s"
       ]
      },
      {
       "output_type": "stream",
       "stream": "stdout",
       "text": [
        "\n",
        "  1270  |    0.020117  |    0.017836  |     1.127872  |             |  0.7s"
       ]
      },
      {
       "output_type": "stream",
       "stream": "stdout",
       "text": [
        "\n",
        "  1271  |    0.020009  |  \u001b[32m  0.017818\u001b[0m  |     1.122956  |             |  0.7s"
       ]
      },
      {
       "output_type": "stream",
       "stream": "stdout",
       "text": [
        "\n",
        "  1272  |    0.020057  |  \u001b[32m  0.017817\u001b[0m  |     1.125719  |             |  0.7s"
       ]
      },
      {
       "output_type": "stream",
       "stream": "stdout",
       "text": [
        "\n",
        "  1273  |    0.020047  |  \u001b[32m  0.017789\u001b[0m  |     1.126937  |             |  0.7s"
       ]
      },
      {
       "output_type": "stream",
       "stream": "stdout",
       "text": [
        "\n",
        "  1274  |    0.020117  |    0.017798  |     1.130308  |             |  0.7s"
       ]
      },
      {
       "output_type": "stream",
       "stream": "stdout",
       "text": [
        "\n",
        "  1275  |    0.020125  |    0.017851  |     1.127334  |             |  0.7s"
       ]
      },
      {
       "output_type": "stream",
       "stream": "stdout",
       "text": [
        "\n",
        "  1276  |    0.020023  |    0.017835  |     1.122706  |             |  0.7s"
       ]
      },
      {
       "output_type": "stream",
       "stream": "stdout",
       "text": [
        "\n",
        "  1277  |    0.020143  |    0.017868  |     1.127320  |             |  0.7s"
       ]
      },
      {
       "output_type": "stream",
       "stream": "stdout",
       "text": [
        "\n",
        "  1278  |    0.020084  |    0.017821  |     1.126957  |             |  0.7s"
       ]
      },
      {
       "output_type": "stream",
       "stream": "stdout",
       "text": [
        "\n",
        "  1279  |    0.019997  |  \u001b[32m  0.017785\u001b[0m  |     1.124385  |             |  0.7s"
       ]
      },
      {
       "output_type": "stream",
       "stream": "stdout",
       "text": [
        "\n",
        "  1280  |    0.020028  |    0.017828  |     1.123434  |             |  0.7s"
       ]
      },
      {
       "output_type": "stream",
       "stream": "stdout",
       "text": [
        "\n",
        "  1281  |  \u001b[94m  0.019932\u001b[0m  |  \u001b[32m  0.017751\u001b[0m  |     1.122868  |             |  0.7s"
       ]
      },
      {
       "output_type": "stream",
       "stream": "stdout",
       "text": [
        "\n",
        "  1282  |    0.019969  |    0.017770  |     1.123741  |             |  0.7s"
       ]
      },
      {
       "output_type": "stream",
       "stream": "stdout",
       "text": [
        "\n",
        "  1283  |    0.020033  |    0.017781  |     1.126626  |             |  0.7s"
       ]
      },
      {
       "output_type": "stream",
       "stream": "stdout",
       "text": [
        "\n",
        "  1284  |    0.020040  |    0.017769  |     1.127795  |             |  0.7s"
       ]
      },
      {
       "output_type": "stream",
       "stream": "stdout",
       "text": [
        "\n",
        "  1285  |    0.020018  |    0.017789  |     1.125317  |             |  0.7s"
       ]
      },
      {
       "output_type": "stream",
       "stream": "stdout",
       "text": [
        "\n",
        "  1286  |    0.020124  |  \u001b[32m  0.017750\u001b[0m  |     1.133741  |             |  0.7s"
       ]
      },
      {
       "output_type": "stream",
       "stream": "stdout",
       "text": [
        "\n",
        "  1287  |    0.019977  |    0.017785  |     1.123204  |             |  0.7s"
       ]
      },
      {
       "output_type": "stream",
       "stream": "stdout",
       "text": [
        "\n",
        "  1288  |    0.020006  |    0.017784  |     1.124910  |             |  0.7s"
       ]
      },
      {
       "output_type": "stream",
       "stream": "stdout",
       "text": [
        "\n",
        "  1289  |    0.019996  |    0.017755  |     1.126256  |             |  0.7s"
       ]
      },
      {
       "output_type": "stream",
       "stream": "stdout",
       "text": [
        "\n",
        "  1290  |    0.020071  |    0.017775  |     1.129178  |             |  0.7s"
       ]
      },
      {
       "output_type": "stream",
       "stream": "stdout",
       "text": [
        "\n",
        "  1291  |    0.020015  |  \u001b[32m  0.017736\u001b[0m  |     1.128518  |             |  0.7s"
       ]
      },
      {
       "output_type": "stream",
       "stream": "stdout",
       "text": [
        "\n",
        "  1292  |    0.019996  |  \u001b[32m  0.017735\u001b[0m  |     1.127473  |             |  0.7s"
       ]
      },
      {
       "output_type": "stream",
       "stream": "stdout",
       "text": [
        "\n",
        "  1293  |    0.020060  |    0.017768  |     1.128988  |             |  0.7s"
       ]
      },
      {
       "output_type": "stream",
       "stream": "stdout",
       "text": [
        "\n",
        "  1294  |    0.020035  |  \u001b[32m  0.017729\u001b[0m  |     1.130046  |             |  0.7s"
       ]
      },
      {
       "output_type": "stream",
       "stream": "stdout",
       "text": [
        "\n",
        "  1295  |    0.020012  |    0.017753  |     1.127257  |             |  0.7s"
       ]
      },
      {
       "output_type": "stream",
       "stream": "stdout",
       "text": [
        "\n",
        "  1296  |    0.019985  |  \u001b[32m  0.017716\u001b[0m  |     1.128083  |             |  0.7s"
       ]
      },
      {
       "output_type": "stream",
       "stream": "stdout",
       "text": [
        "\n",
        "  1297  |    0.019951  |  \u001b[32m  0.017710\u001b[0m  |     1.126543  |             |  0.7s"
       ]
      },
      {
       "output_type": "stream",
       "stream": "stdout",
       "text": [
        "\n",
        "  1298  |    0.019950  |  \u001b[32m  0.017704\u001b[0m  |     1.126878  |             |  0.7s"
       ]
      },
      {
       "output_type": "stream",
       "stream": "stdout",
       "text": [
        "\n",
        "  1299  |    0.019940  |    0.017720  |     1.125250  |             |  0.7s"
       ]
      },
      {
       "output_type": "stream",
       "stream": "stdout",
       "text": [
        "\n",
        "  1300  |    0.020020  |    0.017752  |     1.127762  |             |  0.7s"
       ]
      },
      {
       "output_type": "stream",
       "stream": "stdout",
       "text": [
        "\n",
        "  1301  |    0.019973  |    0.017711  |     1.127758  |             |  0.7s"
       ]
      },
      {
       "output_type": "stream",
       "stream": "stdout",
       "text": [
        "\n",
        "  1302  |  \u001b[94m  0.019930\u001b[0m  |  \u001b[32m  0.017700\u001b[0m  |     1.125977  |             |  0.7s"
       ]
      },
      {
       "output_type": "stream",
       "stream": "stdout",
       "text": [
        "\n",
        "  1303  |    0.019976  |  \u001b[32m  0.017690\u001b[0m  |     1.129218  |             |  0.7s"
       ]
      },
      {
       "output_type": "stream",
       "stream": "stdout",
       "text": [
        "\n",
        "  1304  |    0.019933  |    0.017715  |     1.125178  |             |  0.7s"
       ]
      },
      {
       "output_type": "stream",
       "stream": "stdout",
       "text": [
        "\n",
        "  1305  |    0.019990  |    0.017721  |     1.128017  |             |  0.7s"
       ]
      },
      {
       "output_type": "stream",
       "stream": "stdout",
       "text": [
        "\n",
        "  1306  |    0.020037  |  \u001b[32m  0.017666\u001b[0m  |     1.134219  |             |  0.7s"
       ]
      },
      {
       "output_type": "stream",
       "stream": "stdout",
       "text": [
        "\n",
        "  1307  |    0.019974  |    0.017668  |     1.130562  |             |  0.7s"
       ]
      },
      {
       "output_type": "stream",
       "stream": "stdout",
       "text": [
        "\n",
        "  1308  |    0.019975  |    0.017701  |     1.128446  |             |  0.7s"
       ]
      },
      {
       "output_type": "stream",
       "stream": "stdout",
       "text": [
        "\n",
        "  1309  |  \u001b[94m  0.019907\u001b[0m  |    0.017696  |     1.124972  |             |  0.7s"
       ]
      },
      {
       "output_type": "stream",
       "stream": "stdout",
       "text": [
        "\n",
        "  1310  |  \u001b[94m  0.019904\u001b[0m  |    0.017717  |     1.123423  |             |  0.7s"
       ]
      },
      {
       "output_type": "stream",
       "stream": "stdout",
       "text": [
        "\n",
        "  1311  |  \u001b[94m  0.019894\u001b[0m  |  \u001b[32m  0.017658\u001b[0m  |     1.126595  |             |  0.7s"
       ]
      },
      {
       "output_type": "stream",
       "stream": "stdout",
       "text": [
        "\n",
        "  1312  |    0.019972  |    0.017724  |     1.126839  |             |  0.7s"
       ]
      },
      {
       "output_type": "stream",
       "stream": "stdout",
       "text": [
        "\n",
        "  1313  |    0.019944  |    0.017682  |     1.127913  |             |  0.7s"
       ]
      },
      {
       "output_type": "stream",
       "stream": "stdout",
       "text": [
        "\n",
        "  1314  |    0.019908  |    0.017669  |     1.126698  |             |  0.7s"
       ]
      },
      {
       "output_type": "stream",
       "stream": "stdout",
       "text": [
        "\n",
        "  1315  |    0.019908  |    0.017687  |     1.125556  |             |  0.7s"
       ]
      },
      {
       "output_type": "stream",
       "stream": "stdout",
       "text": [
        "\n",
        "  1316  |    0.019974  |  \u001b[32m  0.017642\u001b[0m  |     1.132205  |             |  0.7s"
       ]
      },
      {
       "output_type": "stream",
       "stream": "stdout",
       "text": [
        "\n",
        "  1317  |    0.019996  |    0.017655  |     1.132603  |             |  0.7s"
       ]
      },
      {
       "output_type": "stream",
       "stream": "stdout",
       "text": [
        "\n",
        "  1318  |  \u001b[94m  0.019869\u001b[0m  |    0.017678  |     1.123978  |             |  0.7s"
       ]
      },
      {
       "output_type": "stream",
       "stream": "stdout",
       "text": [
        "\n",
        "  1319  |    0.019984  |    0.017668  |     1.131052  |             |  0.7s"
       ]
      },
      {
       "output_type": "stream",
       "stream": "stdout",
       "text": [
        "\n",
        "  1320  |  \u001b[94m  0.019811\u001b[0m  |    0.017647  |     1.122616  |             |  0.7s"
       ]
      },
      {
       "output_type": "stream",
       "stream": "stdout",
       "text": [
        "\n",
        "  1321  |    0.019814  |  \u001b[32m  0.017641\u001b[0m  |     1.123148  |             |  0.7s"
       ]
      },
      {
       "output_type": "stream",
       "stream": "stdout",
       "text": [
        "\n",
        "  1322  |    0.019864  |  \u001b[32m  0.017631\u001b[0m  |     1.126649  |             |  0.7s"
       ]
      },
      {
       "output_type": "stream",
       "stream": "stdout",
       "text": [
        "\n",
        "  1323  |    0.019895  |    0.017640  |     1.127820  |             |  0.7s"
       ]
      },
      {
       "output_type": "stream",
       "stream": "stdout",
       "text": [
        "\n",
        "  1324  |  \u001b[94m  0.019800\u001b[0m  |  \u001b[32m  0.017604\u001b[0m  |     1.124736  |             |  0.7s"
       ]
      },
      {
       "output_type": "stream",
       "stream": "stdout",
       "text": [
        "\n",
        "  1325  |    0.019869  |    0.017611  |     1.128181  |             |  0.7s"
       ]
      },
      {
       "output_type": "stream",
       "stream": "stdout",
       "text": [
        "\n",
        "  1326  |    0.019823  |    0.017610  |     1.125654  |             |  0.7s"
       ]
      },
      {
       "output_type": "stream",
       "stream": "stdout",
       "text": [
        "\n",
        "  1327  |    0.019882  |    0.017653  |     1.126232  |             |  0.7s"
       ]
      },
      {
       "output_type": "stream",
       "stream": "stdout",
       "text": [
        "\n",
        "  1328  |    0.019833  |  \u001b[32m  0.017603\u001b[0m  |     1.126666  |             |  0.7s"
       ]
      },
      {
       "output_type": "stream",
       "stream": "stdout",
       "text": [
        "\n",
        "  1329  |    0.019877  |  \u001b[32m  0.017582\u001b[0m  |     1.130549  |             |  0.7s"
       ]
      },
      {
       "output_type": "stream",
       "stream": "stdout",
       "text": [
        "\n",
        "  1330  |  \u001b[94m  0.019783\u001b[0m  |    0.017615  |     1.123093  |             |  0.7s"
       ]
      },
      {
       "output_type": "stream",
       "stream": "stdout",
       "text": [
        "\n",
        "  1331  |    0.019912  |    0.017636  |     1.129044  |             |  0.7s"
       ]
      },
      {
       "output_type": "stream",
       "stream": "stdout",
       "text": [
        "\n",
        "  1332  |    0.019900  |    0.017617  |     1.129613  |             |  0.7s"
       ]
      },
      {
       "output_type": "stream",
       "stream": "stdout",
       "text": [
        "\n",
        "  1333  |    0.019793  |    0.017595  |     1.124925  |             |  0.7s"
       ]
      },
      {
       "output_type": "stream",
       "stream": "stdout",
       "text": [
        "\n",
        "  1334  |    0.019867  |    0.017603  |     1.128647  |             |  0.7s"
       ]
      },
      {
       "output_type": "stream",
       "stream": "stdout",
       "text": [
        "\n",
        "  1335  |    0.019840  |  \u001b[32m  0.017553\u001b[0m  |     1.130281  |             |  0.7s"
       ]
      },
      {
       "output_type": "stream",
       "stream": "stdout",
       "text": [
        "\n",
        "  1336  |    0.019912  |    0.017597  |     1.131539  |             |  0.7s"
       ]
      },
      {
       "output_type": "stream",
       "stream": "stdout",
       "text": [
        "\n",
        "  1337  |    0.019842  |    0.017592  |     1.127860  |             |  0.7s"
       ]
      },
      {
       "output_type": "stream",
       "stream": "stdout",
       "text": [
        "\n",
        "  1338  |    0.019808  |  \u001b[32m  0.017541\u001b[0m  |     1.129277  |             |  0.7s"
       ]
      },
      {
       "output_type": "stream",
       "stream": "stdout",
       "text": [
        "\n",
        "  1339  |    0.019795  |    0.017616  |     1.123699  |             |  0.7s"
       ]
      },
      {
       "output_type": "stream",
       "stream": "stdout",
       "text": [
        "\n",
        "  1340  |    0.019854  |    0.017591  |     1.128621  |             |  0.7s"
       ]
      },
      {
       "output_type": "stream",
       "stream": "stdout",
       "text": [
        "\n",
        "  1341  |    0.019829  |    0.017567  |     1.128767  |             |  0.7s"
       ]
      },
      {
       "output_type": "stream",
       "stream": "stdout",
       "text": [
        "\n",
        "  1342  |    0.019874  |    0.017549  |     1.132483  |             |  0.7s"
       ]
      },
      {
       "output_type": "stream",
       "stream": "stdout",
       "text": [
        "\n",
        "  1343  |    0.019825  |    0.017568  |     1.128459  |             |  0.7s"
       ]
      },
      {
       "output_type": "stream",
       "stream": "stdout",
       "text": [
        "\n",
        "  1344  |    0.019844  |    0.017543  |     1.131163  |             |  0.7s"
       ]
      },
      {
       "output_type": "stream",
       "stream": "stdout",
       "text": [
        "\n",
        "  1345  |    0.019801  |  \u001b[32m  0.017533\u001b[0m  |     1.129297  |             |  0.7s"
       ]
      },
      {
       "output_type": "stream",
       "stream": "stdout",
       "text": [
        "\n",
        "  1346  |    0.019789  |  \u001b[32m  0.017527\u001b[0m  |     1.129075  |             |  0.7s"
       ]
      },
      {
       "output_type": "stream",
       "stream": "stdout",
       "text": [
        "\n",
        "  1347  |  \u001b[94m  0.019723\u001b[0m  |  \u001b[32m  0.017523\u001b[0m  |     1.125570  |             |  0.7s"
       ]
      },
      {
       "output_type": "stream",
       "stream": "stdout",
       "text": [
        "\n",
        "  1348  |    0.019823  |    0.017535  |     1.130485  |             |  0.7s"
       ]
      },
      {
       "output_type": "stream",
       "stream": "stdout",
       "text": [
        "\n",
        "  1349  |    0.019840  |  \u001b[32m  0.017515\u001b[0m  |     1.132712  |             |  0.7s"
       ]
      },
      {
       "output_type": "stream",
       "stream": "stdout",
       "text": [
        "\n",
        "  1350  |    0.019801  |    0.017557  |     1.127821  |             |  0.7s"
       ]
      },
      {
       "output_type": "stream",
       "stream": "stdout",
       "text": [
        "\n",
        "  1351  |    0.019815  |    0.017543  |     1.129493  |             |  0.7s"
       ]
      },
      {
       "output_type": "stream",
       "stream": "stdout",
       "text": [
        "\n",
        "  1352  |    0.019837  |  \u001b[32m  0.017509\u001b[0m  |     1.132957  |             |  0.7s"
       ]
      },
      {
       "output_type": "stream",
       "stream": "stdout",
       "text": [
        "\n",
        "  1353  |    0.019800  |  \u001b[32m  0.017505\u001b[0m  |     1.131095  |             |  0.7s"
       ]
      },
      {
       "output_type": "stream",
       "stream": "stdout",
       "text": [
        "\n",
        "  1354  |    0.019741  |    0.017525  |     1.126439  |             |  0.7s"
       ]
      },
      {
       "output_type": "stream",
       "stream": "stdout",
       "text": [
        "\n",
        "  1355  |  \u001b[94m  0.019721\u001b[0m  |    0.017526  |     1.125217  |             |  0.7s"
       ]
      },
      {
       "output_type": "stream",
       "stream": "stdout",
       "text": [
        "\n",
        "  1356  |  \u001b[94m  0.019643\u001b[0m  |    0.017515  |     1.121473  |             |  0.7s"
       ]
      },
      {
       "output_type": "stream",
       "stream": "stdout",
       "text": [
        "\n",
        "  1357  |    0.019863  |    0.017522  |     1.133608  |             |  0.7s"
       ]
      },
      {
       "output_type": "stream",
       "stream": "stdout",
       "text": [
        "\n",
        "  1358  |    0.019723  |    0.017509  |     1.126429  |             |  0.7s"
       ]
      },
      {
       "output_type": "stream",
       "stream": "stdout",
       "text": [
        "\n",
        "  1359  |    0.019774  |  \u001b[32m  0.017499\u001b[0m  |     1.130018  |             |  0.7s"
       ]
      },
      {
       "output_type": "stream",
       "stream": "stdout",
       "text": [
        "\n",
        "  1360  |    0.019808  |  \u001b[32m  0.017487\u001b[0m  |     1.132696  |             |  0.7s"
       ]
      },
      {
       "output_type": "stream",
       "stream": "stdout",
       "text": [
        "\n",
        "  1361  |    0.019751  |  \u001b[32m  0.017472\u001b[0m  |     1.130471  |             |  0.7s"
       ]
      },
      {
       "output_type": "stream",
       "stream": "stdout",
       "text": [
        "\n",
        "  1362  |    0.019721  |    0.017549  |     1.123761  |             |  0.7s"
       ]
      },
      {
       "output_type": "stream",
       "stream": "stdout",
       "text": [
        "\n",
        "  1363  |    0.019712  |    0.017487  |     1.127253  |             |  0.7s"
       ]
      },
      {
       "output_type": "stream",
       "stream": "stdout",
       "text": [
        "\n",
        "  1364  |    0.019670  |  \u001b[32m  0.017429\u001b[0m  |     1.128548  |             |  0.7s"
       ]
      },
      {
       "output_type": "stream",
       "stream": "stdout",
       "text": [
        "\n",
        "  1365  |    0.019839  |    0.017446  |     1.137207  |             |  0.7s"
       ]
      },
      {
       "output_type": "stream",
       "stream": "stdout",
       "text": [
        "\n",
        "  1366  |    0.019743  |    0.017455  |     1.131112  |             |  0.7s"
       ]
      },
      {
       "output_type": "stream",
       "stream": "stdout",
       "text": [
        "\n",
        "  1367  |    0.019704  |    0.017487  |     1.126782  |             |  0.7s"
       ]
      },
      {
       "output_type": "stream",
       "stream": "stdout",
       "text": [
        "\n",
        "  1368  |    0.019693  |    0.017459  |     1.127916  |             |  0.7s"
       ]
      },
      {
       "output_type": "stream",
       "stream": "stdout",
       "text": [
        "\n",
        "  1369  |    0.019681  |    0.017457  |     1.127377  |             |  0.7s"
       ]
      },
      {
       "output_type": "stream",
       "stream": "stdout",
       "text": [
        "\n",
        "  1370  |  \u001b[94m  0.019641\u001b[0m  |    0.017463  |     1.124774  |             |  0.7s"
       ]
      },
      {
       "output_type": "stream",
       "stream": "stdout",
       "text": [
        "\n",
        "  1371  |    0.019756  |    0.017442  |     1.132680  |             |  0.7s"
       ]
      },
      {
       "output_type": "stream",
       "stream": "stdout",
       "text": [
        "\n",
        "  1372  |  \u001b[94m  0.019629\u001b[0m  |    0.017469  |     1.123659  |             |  0.7s"
       ]
      },
      {
       "output_type": "stream",
       "stream": "stdout",
       "text": [
        "\n",
        "  1373  |    0.019768  |    0.017445  |     1.133121  |             |  0.7s"
       ]
      },
      {
       "output_type": "stream",
       "stream": "stdout",
       "text": [
        "\n",
        "  1374  |    0.019724  |    0.017454  |     1.130046  |             |  0.7s"
       ]
      },
      {
       "output_type": "stream",
       "stream": "stdout",
       "text": [
        "\n",
        "  1375  |  \u001b[94m  0.019580\u001b[0m  |  \u001b[32m  0.017422\u001b[0m  |     1.123855  |             |  0.7s"
       ]
      },
      {
       "output_type": "stream",
       "stream": "stdout",
       "text": [
        "\n",
        "  1376  |    0.019726  |    0.017438  |     1.131229  |             |  0.7s"
       ]
      },
      {
       "output_type": "stream",
       "stream": "stdout",
       "text": [
        "\n",
        "  1377  |    0.019659  |  \u001b[32m  0.017399\u001b[0m  |     1.129871  |             |  0.7s"
       ]
      },
      {
       "output_type": "stream",
       "stream": "stdout",
       "text": [
        "\n",
        "  1378  |    0.019676  |    0.017437  |     1.128377  |             |  0.7s"
       ]
      },
      {
       "output_type": "stream",
       "stream": "stdout",
       "text": [
        "\n",
        "  1379  |    0.019642  |    0.017427  |     1.127133  |             |  0.7s"
       ]
      },
      {
       "output_type": "stream",
       "stream": "stdout",
       "text": [
        "\n",
        "  1380  |    0.019629  |    0.017445  |     1.125135  |             |  0.7s"
       ]
      },
      {
       "output_type": "stream",
       "stream": "stdout",
       "text": [
        "\n",
        "  1381  |    0.019736  |    0.017414  |     1.133328  |             |  0.7s"
       ]
      },
      {
       "output_type": "stream",
       "stream": "stdout",
       "text": [
        "\n",
        "  1382  |    0.019722  |    0.017433  |     1.131304  |             |  0.7s"
       ]
      },
      {
       "output_type": "stream",
       "stream": "stdout",
       "text": [
        "\n",
        "  1383  |    0.019720  |    0.017446  |     1.130342  |             |  0.7s"
       ]
      },
      {
       "output_type": "stream",
       "stream": "stdout",
       "text": [
        "\n",
        "  1384  |    0.019693  |    0.017407  |     1.131329  |             |  0.7s"
       ]
      },
      {
       "output_type": "stream",
       "stream": "stdout",
       "text": [
        "\n",
        "  1385  |    0.019658  |  \u001b[32m  0.017388\u001b[0m  |     1.130553  |             |  0.7s"
       ]
      },
      {
       "output_type": "stream",
       "stream": "stdout",
       "text": [
        "\n",
        "  1386  |    0.019702  |    0.017416  |     1.131251  |             |  0.7s"
       ]
      },
      {
       "output_type": "stream",
       "stream": "stdout",
       "text": [
        "\n",
        "  1387  |    0.019677  |    0.017395  |     1.131161  |             |  0.7s"
       ]
      },
      {
       "output_type": "stream",
       "stream": "stdout",
       "text": [
        "\n",
        "  1388  |    0.019651  |    0.017427  |     1.127617  |             |  0.7s"
       ]
      },
      {
       "output_type": "stream",
       "stream": "stdout",
       "text": [
        "\n",
        "  1389  |    0.019584  |    0.017405  |     1.125168  |             |  0.7s"
       ]
      },
      {
       "output_type": "stream",
       "stream": "stdout",
       "text": [
        "\n",
        "  1390  |    0.019700  |    0.017406  |     1.131822  |             |  0.7s"
       ]
      },
      {
       "output_type": "stream",
       "stream": "stdout",
       "text": [
        "\n",
        "  1391  |    0.019597  |  \u001b[32m  0.017370\u001b[0m  |     1.128208  |             |  0.7s"
       ]
      },
      {
       "output_type": "stream",
       "stream": "stdout",
       "text": [
        "\n",
        "  1392  |    0.019592  |    0.017405  |     1.125684  |             |  0.7s"
       ]
      },
      {
       "output_type": "stream",
       "stream": "stdout",
       "text": [
        "\n",
        "  1393  |    0.019627  |    0.017412  |     1.127248  |             |  0.7s"
       ]
      },
      {
       "output_type": "stream",
       "stream": "stdout",
       "text": [
        "\n",
        "  1394  |    0.019626  |  \u001b[32m  0.017366\u001b[0m  |     1.130117  |             |  0.7s"
       ]
      },
      {
       "output_type": "stream",
       "stream": "stdout",
       "text": [
        "\n",
        "  1395  |    0.019594  |  \u001b[32m  0.017366\u001b[0m  |     1.128310  |             |  0.7s"
       ]
      },
      {
       "output_type": "stream",
       "stream": "stdout",
       "text": [
        "\n",
        "  1396  |    0.019623  |    0.017398  |     1.127875  |             |  0.7s"
       ]
      },
      {
       "output_type": "stream",
       "stream": "stdout",
       "text": [
        "\n",
        "  1397  |    0.019657  |  \u001b[32m  0.017362\u001b[0m  |     1.132201  |             |  0.7s"
       ]
      },
      {
       "output_type": "stream",
       "stream": "stdout",
       "text": [
        "\n",
        "  1398  |  \u001b[94m  0.019566\u001b[0m  |    0.017381  |     1.125742  |             |  0.7s"
       ]
      },
      {
       "output_type": "stream",
       "stream": "stdout",
       "text": [
        "\n",
        "  1399  |    0.019684  |    0.017366  |     1.133486  |             |  0.7s"
       ]
      },
      {
       "output_type": "stream",
       "stream": "stdout",
       "text": [
        "\n",
        "  1400  |    0.019581  |    0.017383  |     1.126445  |             |  0.7s"
       ]
      },
      {
       "output_type": "stream",
       "stream": "stdout",
       "text": [
        "\n",
        "  1401  |    0.019577  |  \u001b[32m  0.017357\u001b[0m  |     1.127884  |             |  0.7s"
       ]
      },
      {
       "output_type": "stream",
       "stream": "stdout",
       "text": [
        "\n",
        "  1402  |    0.019603  |  \u001b[32m  0.017357\u001b[0m  |     1.129442  |             |  0.7s"
       ]
      },
      {
       "output_type": "stream",
       "stream": "stdout",
       "text": [
        "\n",
        "  1403  |    0.019589  |  \u001b[32m  0.017320\u001b[0m  |     1.130956  |             |  0.7s"
       ]
      },
      {
       "output_type": "stream",
       "stream": "stdout",
       "text": [
        "\n",
        "  1404  |    0.019592  |    0.017385  |     1.126954  |             |  0.7s"
       ]
      },
      {
       "output_type": "stream",
       "stream": "stdout",
       "text": [
        "\n",
        "  1405  |    0.019581  |    0.017371  |     1.127234  |             |  0.7s"
       ]
      },
      {
       "output_type": "stream",
       "stream": "stdout",
       "text": [
        "\n",
        "  1406  |    0.019631  |    0.017374  |     1.129931  |             |  0.7s"
       ]
      },
      {
       "output_type": "stream",
       "stream": "stdout",
       "text": [
        "\n",
        "  1407  |    0.019616  |  \u001b[32m  0.017320\u001b[0m  |     1.132551  |             |  0.7s"
       ]
      },
      {
       "output_type": "stream",
       "stream": "stdout",
       "text": [
        "\n",
        "  1408  |    0.019587  |    0.017325  |     1.130550  |             |  0.7s"
       ]
      },
      {
       "output_type": "stream",
       "stream": "stdout",
       "text": [
        "\n",
        "  1409  |  \u001b[94m  0.019559\u001b[0m  |    0.017323  |     1.129071  |             |  0.7s"
       ]
      },
      {
       "output_type": "stream",
       "stream": "stdout",
       "text": [
        "\n",
        "  1410  |    0.019606  |    0.017335  |     1.130992  |             |  0.7s"
       ]
      },
      {
       "output_type": "stream",
       "stream": "stdout",
       "text": [
        "\n",
        "  1411  |  \u001b[94m  0.019541\u001b[0m  |  \u001b[32m  0.017313\u001b[0m  |     1.128683  |             |  0.7s"
       ]
      },
      {
       "output_type": "stream",
       "stream": "stdout",
       "text": [
        "\n",
        "  1412  |    0.019633  |  \u001b[32m  0.017300\u001b[0m  |     1.134806  |             |  0.7s"
       ]
      },
      {
       "output_type": "stream",
       "stream": "stdout",
       "text": [
        "\n",
        "  1413  |  \u001b[94m  0.019496\u001b[0m  |    0.017336  |     1.124637  |             |  0.7s"
       ]
      },
      {
       "output_type": "stream",
       "stream": "stdout",
       "text": [
        "\n",
        "  1414  |    0.019670  |    0.017363  |     1.132867  |             |  0.7s"
       ]
      },
      {
       "output_type": "stream",
       "stream": "stdout",
       "text": [
        "\n",
        "  1415  |    0.019680  |    0.017331  |     1.135514  |             |  0.7s"
       ]
      },
      {
       "output_type": "stream",
       "stream": "stdout",
       "text": [
        "\n",
        "  1416  |    0.019605  |    0.017310  |     1.132587  |             |  0.7s"
       ]
      },
      {
       "output_type": "stream",
       "stream": "stdout",
       "text": [
        "\n",
        "  1417  |    0.019582  |    0.017305  |     1.131547  |             |  0.7s"
       ]
      },
      {
       "output_type": "stream",
       "stream": "stdout",
       "text": [
        "\n",
        "  1418  |    0.019605  |    0.017321  |     1.131825  |             |  0.7s"
       ]
      },
      {
       "output_type": "stream",
       "stream": "stdout",
       "text": [
        "\n",
        "  1419  |    0.019509  |    0.017308  |     1.127200  |             |  0.7s"
       ]
      },
      {
       "output_type": "stream",
       "stream": "stdout",
       "text": [
        "\n",
        "  1420  |    0.019576  |  \u001b[32m  0.017239\u001b[0m  |     1.135549  |             |  0.7s"
       ]
      },
      {
       "output_type": "stream",
       "stream": "stdout",
       "text": [
        "\n",
        "  1421  |    0.019497  |    0.017319  |     1.125735  |             |  0.7s"
       ]
      },
      {
       "output_type": "stream",
       "stream": "stdout",
       "text": [
        "\n",
        "  1422  |  \u001b[94m  0.019493\u001b[0m  |    0.017276  |     1.128329  |             |  0.7s"
       ]
      },
      {
       "output_type": "stream",
       "stream": "stdout",
       "text": [
        "\n",
        "  1423  |    0.019574  |    0.017284  |     1.132466  |             |  0.7s"
       ]
      },
      {
       "output_type": "stream",
       "stream": "stdout",
       "text": [
        "\n",
        "  1424  |    0.019520  |    0.017258  |     1.131125  |             |  0.7s"
       ]
      },
      {
       "output_type": "stream",
       "stream": "stdout",
       "text": [
        "\n",
        "  1425  |    0.019540  |    0.017252  |     1.132646  |             |  0.7s"
       ]
      },
      {
       "output_type": "stream",
       "stream": "stdout",
       "text": [
        "\n",
        "  1426  |  \u001b[94m  0.019452\u001b[0m  |    0.017259  |     1.127012  |             |  0.7s"
       ]
      },
      {
       "output_type": "stream",
       "stream": "stdout",
       "text": [
        "\n",
        "  1427  |    0.019534  |    0.017261  |     1.131701  |             |  0.7s"
       ]
      },
      {
       "output_type": "stream",
       "stream": "stdout",
       "text": [
        "\n",
        "  1428  |    0.019533  |    0.017307  |     1.128620  |             |  0.7s"
       ]
      },
      {
       "output_type": "stream",
       "stream": "stdout",
       "text": [
        "\n",
        "  1429  |    0.019595  |    0.017273  |     1.134428  |             |  0.7s"
       ]
      },
      {
       "output_type": "stream",
       "stream": "stdout",
       "text": [
        "\n",
        "  1430  |    0.019469  |    0.017271  |     1.127294  |             |  0.7s"
       ]
      },
      {
       "output_type": "stream",
       "stream": "stdout",
       "text": [
        "\n",
        "  1431  |    0.019540  |    0.017278  |     1.130924  |             |  0.7s"
       ]
      },
      {
       "output_type": "stream",
       "stream": "stdout",
       "text": [
        "\n",
        "  1432  |    0.019550  |  \u001b[32m  0.017236\u001b[0m  |     1.134270  |             |  0.7s"
       ]
      },
      {
       "output_type": "stream",
       "stream": "stdout",
       "text": [
        "\n",
        "  1433  |    0.019521  |    0.017260  |     1.130995  |             |  0.7s"
       ]
      },
      {
       "output_type": "stream",
       "stream": "stdout",
       "text": [
        "\n",
        "  1434  |    0.019613  |    0.017267  |     1.135899  |             |  0.7s"
       ]
      },
      {
       "output_type": "stream",
       "stream": "stdout",
       "text": [
        "\n",
        "  1435  |    0.019484  |  \u001b[32m  0.017226\u001b[0m  |     1.131072  |             |  0.7s"
       ]
      },
      {
       "output_type": "stream",
       "stream": "stdout",
       "text": [
        "\n",
        "  1436  |  \u001b[94m  0.019321\u001b[0m  |  \u001b[32m  0.017224\u001b[0m  |     1.121728  |             |  0.7s"
       ]
      },
      {
       "output_type": "stream",
       "stream": "stdout",
       "text": [
        "\n",
        "  1437  |    0.019483  |  \u001b[32m  0.017217\u001b[0m  |     1.131625  |             |  0.7s"
       ]
      },
      {
       "output_type": "stream",
       "stream": "stdout",
       "text": [
        "\n",
        "  1438  |    0.019487  |    0.017223  |     1.131502  |             |  0.7s"
       ]
      },
      {
       "output_type": "stream",
       "stream": "stdout",
       "text": [
        "\n",
        "  1439  |    0.019443  |  \u001b[32m  0.017212\u001b[0m  |     1.129629  |             |  0.7s"
       ]
      },
      {
       "output_type": "stream",
       "stream": "stdout",
       "text": [
        "\n",
        "  1440  |    0.019551  |    0.017243  |     1.133878  |             |  0.7s"
       ]
      },
      {
       "output_type": "stream",
       "stream": "stdout",
       "text": [
        "\n",
        "  1441  |    0.019460  |    0.017213  |     1.130558  |             |  0.7s"
       ]
      },
      {
       "output_type": "stream",
       "stream": "stdout",
       "text": [
        "\n",
        "  1442  |    0.019494  |    0.017212  |     1.132597  |             |  0.7s"
       ]
      },
      {
       "output_type": "stream",
       "stream": "stdout",
       "text": [
        "\n",
        "  1443  |    0.019532  |    0.017221  |     1.134204  |             |  0.7s"
       ]
      },
      {
       "output_type": "stream",
       "stream": "stdout",
       "text": [
        "\n",
        "  1444  |    0.019517  |  \u001b[32m  0.017209\u001b[0m  |     1.134107  |             |  0.7s"
       ]
      },
      {
       "output_type": "stream",
       "stream": "stdout",
       "text": [
        "\n",
        "  1445  |    0.019446  |    0.017226  |     1.128846  |             |  0.7s"
       ]
      },
      {
       "output_type": "stream",
       "stream": "stdout",
       "text": [
        "\n",
        "  1446  |    0.019425  |    0.017220  |     1.128074  |             |  0.7s"
       ]
      },
      {
       "output_type": "stream",
       "stream": "stdout",
       "text": [
        "\n",
        "  1447  |    0.019411  |  \u001b[32m  0.017202\u001b[0m  |     1.128428  |             |  0.7s"
       ]
      },
      {
       "output_type": "stream",
       "stream": "stdout",
       "text": [
        "\n",
        "  1448  |    0.019452  |  \u001b[32m  0.017185\u001b[0m  |     1.131936  |             |  0.7s"
       ]
      },
      {
       "output_type": "stream",
       "stream": "stdout",
       "text": [
        "\n",
        "  1449  |    0.019497  |    0.017200  |     1.133544  |             |  0.7s"
       ]
      },
      {
       "output_type": "stream",
       "stream": "stdout",
       "text": [
        "\n",
        "  1450  |    0.019434  |    0.017220  |     1.128587  |             |  0.7s"
       ]
      },
      {
       "output_type": "stream",
       "stream": "stdout",
       "text": [
        "\n",
        "  1451  |    0.019418  |    0.017248  |     1.125785  |             |  0.7s"
       ]
      },
      {
       "output_type": "stream",
       "stream": "stdout",
       "text": [
        "\n",
        "  1452  |    0.019396  |    0.017199  |     1.127699  |             |  0.7s"
       ]
      },
      {
       "output_type": "stream",
       "stream": "stdout",
       "text": [
        "\n",
        "  1453  |    0.019333  |    0.017201  |     1.123940  |             |  0.7s"
       ]
      },
      {
       "output_type": "stream",
       "stream": "stdout",
       "text": [
        "\n",
        "  1454  |    0.019450  |    0.017225  |     1.129182  |             |  0.7s"
       ]
      },
      {
       "output_type": "stream",
       "stream": "stdout",
       "text": [
        "\n",
        "  1455  |    0.019396  |    0.017200  |     1.127688  |             |  0.7s"
       ]
      },
      {
       "output_type": "stream",
       "stream": "stdout",
       "text": [
        "\n",
        "  1456  |    0.019425  |  \u001b[32m  0.017153\u001b[0m  |     1.132484  |             |  0.7s"
       ]
      },
      {
       "output_type": "stream",
       "stream": "stdout",
       "text": [
        "\n",
        "  1457  |    0.019407  |    0.017167  |     1.130481  |             |  0.7s"
       ]
      },
      {
       "output_type": "stream",
       "stream": "stdout",
       "text": [
        "\n",
        "  1458  |    0.019459  |    0.017173  |     1.133135  |             |  0.7s"
       ]
      },
      {
       "output_type": "stream",
       "stream": "stdout",
       "text": [
        "\n",
        "  1459  |    0.019476  |    0.017168  |     1.134420  |             |  0.7s"
       ]
      },
      {
       "output_type": "stream",
       "stream": "stdout",
       "text": [
        "\n",
        "  1460  |    0.019366  |    0.017162  |     1.128372  |             |  0.7s"
       ]
      },
      {
       "output_type": "stream",
       "stream": "stdout",
       "text": [
        "\n",
        "  1461  |    0.019463  |  \u001b[32m  0.017148\u001b[0m  |     1.134986  |             |  0.7s"
       ]
      },
      {
       "output_type": "stream",
       "stream": "stdout",
       "text": [
        "\n",
        "  1462  |    0.019481  |    0.017153  |     1.135696  |             |  0.7s"
       ]
      },
      {
       "output_type": "stream",
       "stream": "stdout",
       "text": [
        "\n",
        "  1463  |    0.019349  |    0.017199  |     1.125008  |             |  0.7s"
       ]
      },
      {
       "output_type": "stream",
       "stream": "stdout",
       "text": [
        "\n",
        "  1464  |    0.019483  |    0.017194  |     1.133106  |             |  0.7s"
       ]
      },
      {
       "output_type": "stream",
       "stream": "stdout",
       "text": [
        "\n",
        "  1465  |    0.019333  |  \u001b[32m  0.017142\u001b[0m  |     1.127838  |             |  0.7s"
       ]
      },
      {
       "output_type": "stream",
       "stream": "stdout",
       "text": [
        "\n",
        "  1466  |    0.019393  |  \u001b[32m  0.017133\u001b[0m  |     1.131915  |             |  0.7s"
       ]
      },
      {
       "output_type": "stream",
       "stream": "stdout",
       "text": [
        "\n",
        "  1467  |    0.019466  |    0.017159  |     1.134472  |             |  0.7s"
       ]
      },
      {
       "output_type": "stream",
       "stream": "stdout",
       "text": [
        "\n",
        "  1468  |    0.019441  |  \u001b[32m  0.017124\u001b[0m  |     1.135326  |             |  0.8s"
       ]
      },
      {
       "output_type": "stream",
       "stream": "stdout",
       "text": [
        "\n",
        "  1469  |    0.019418  |    0.017150  |     1.132253  |             |  0.7s"
       ]
      },
      {
       "output_type": "stream",
       "stream": "stdout",
       "text": [
        "\n",
        "  1470  |    0.019348  |  \u001b[32m  0.017118\u001b[0m  |     1.130237  |             |  0.7s"
       ]
      },
      {
       "output_type": "stream",
       "stream": "stdout",
       "text": [
        "\n",
        "  1471  |    0.019334  |    0.017144  |     1.127760  |             |  0.7s"
       ]
      },
      {
       "output_type": "stream",
       "stream": "stdout",
       "text": [
        "\n",
        "  1472  |    0.019421  |    0.017147  |     1.132627  |             |  0.7s"
       ]
      },
      {
       "output_type": "stream",
       "stream": "stdout",
       "text": [
        "\n",
        "  1473  |    0.019327  |  \u001b[32m  0.017106\u001b[0m  |     1.129833  |             |  0.7s"
       ]
      },
      {
       "output_type": "stream",
       "stream": "stdout",
       "text": [
        "\n",
        "  1474  |    0.019407  |  \u001b[32m  0.017102\u001b[0m  |     1.134790  |             |  0.7s"
       ]
      },
      {
       "output_type": "stream",
       "stream": "stdout",
       "text": [
        "\n",
        "  1475  |    0.019389  |    0.017108  |     1.133364  |             |  0.7s"
       ]
      },
      {
       "output_type": "stream",
       "stream": "stdout",
       "text": [
        "\n",
        "  1476  |    0.019363  |    0.017122  |     1.130861  |             |  0.7s"
       ]
      },
      {
       "output_type": "stream",
       "stream": "stdout",
       "text": [
        "\n",
        "  1477  |    0.019392  |    0.017112  |     1.133239  |             |  0.7s"
       ]
      },
      {
       "output_type": "stream",
       "stream": "stdout",
       "text": [
        "\n",
        "  1478  |    0.019376  |    0.017143  |     1.130219  |             |  0.7s"
       ]
      },
      {
       "output_type": "stream",
       "stream": "stdout",
       "text": [
        "\n",
        "  1479  |    0.019353  |  \u001b[32m  0.017061\u001b[0m  |     1.134334  |             |  0.7s"
       ]
      },
      {
       "output_type": "stream",
       "stream": "stdout",
       "text": [
        "\n",
        "  1480  |  \u001b[94m  0.019316\u001b[0m  |    0.017127  |     1.127798  |             |  0.7s"
       ]
      },
      {
       "output_type": "stream",
       "stream": "stdout",
       "text": [
        "\n",
        "  1481  |    0.019338  |    0.017088  |     1.131675  |             |  0.7s"
       ]
      },
      {
       "output_type": "stream",
       "stream": "stdout",
       "text": [
        "\n",
        "  1482  |    0.019370  |    0.017112  |     1.131913  |             |  0.7s"
       ]
      },
      {
       "output_type": "stream",
       "stream": "stdout",
       "text": [
        "\n",
        "  1483  |    0.019411  |    0.017089  |     1.135927  |             |  0.7s"
       ]
      },
      {
       "output_type": "stream",
       "stream": "stdout",
       "text": [
        "\n",
        "  1484  |    0.019375  |    0.017118  |     1.131844  |             |  0.7s"
       ]
      },
      {
       "output_type": "stream",
       "stream": "stdout",
       "text": [
        "\n",
        "  1485  |  \u001b[94m  0.019309\u001b[0m  |    0.017081  |     1.130420  |             |  0.7s"
       ]
      },
      {
       "output_type": "stream",
       "stream": "stdout",
       "text": [
        "\n",
        "  1486  |    0.019377  |    0.017078  |     1.134573  |             |  0.7s"
       ]
      },
      {
       "output_type": "stream",
       "stream": "stdout",
       "text": [
        "\n",
        "  1487  |    0.019379  |  \u001b[32m  0.017042\u001b[0m  |     1.137142  |             |  0.7s"
       ]
      },
      {
       "output_type": "stream",
       "stream": "stdout",
       "text": [
        "\n",
        "  1488  |    0.019342  |    0.017075  |     1.132768  |             |  0.7s"
       ]
      },
      {
       "output_type": "stream",
       "stream": "stdout",
       "text": [
        "\n",
        "  1489  |    0.019323  |    0.017092  |     1.130494  |             |  0.7s"
       ]
      },
      {
       "output_type": "stream",
       "stream": "stdout",
       "text": [
        "\n",
        "  1490  |  \u001b[94m  0.019297\u001b[0m  |    0.017072  |     1.130320  |             |  0.7s"
       ]
      },
      {
       "output_type": "stream",
       "stream": "stdout",
       "text": [
        "\n",
        "  1491  |  \u001b[94m  0.019277\u001b[0m  |    0.017060  |     1.129939  |             |  0.7s"
       ]
      },
      {
       "output_type": "stream",
       "stream": "stdout",
       "text": [
        "\n",
        "  1492  |    0.019365  |    0.017071  |     1.134379  |             |  0.7s"
       ]
      },
      {
       "output_type": "stream",
       "stream": "stdout",
       "text": [
        "\n",
        "  1493  |    0.019380  |    0.017064  |     1.135743  |             |  0.7s"
       ]
      },
      {
       "output_type": "stream",
       "stream": "stdout",
       "text": [
        "\n",
        "  1494  |  \u001b[94m  0.019209\u001b[0m  |    0.017081  |     1.124582  |             |  0.7s"
       ]
      },
      {
       "output_type": "stream",
       "stream": "stdout",
       "text": [
        "\n",
        "  1495  |    0.019328  |  \u001b[32m  0.017027\u001b[0m  |     1.135147  |             |  0.7s"
       ]
      },
      {
       "output_type": "stream",
       "stream": "stdout",
       "text": [
        "\n",
        "  1496  |    0.019333  |    0.017041  |     1.134529  |             |  0.7s"
       ]
      },
      {
       "output_type": "stream",
       "stream": "stdout",
       "text": [
        "\n",
        "  1497  |    0.019220  |    0.017054  |     1.127008  |             |  0.7s"
       ]
      },
      {
       "output_type": "stream",
       "stream": "stdout",
       "text": [
        "\n",
        "  1498  |    0.019354  |    0.017031  |     1.136380  |             |  0.7s"
       ]
      },
      {
       "output_type": "stream",
       "stream": "stdout",
       "text": [
        "\n",
        "  1499  |    0.019246  |    0.017068  |     1.127560  |             |  0.7s"
       ]
      },
      {
       "output_type": "stream",
       "stream": "stdout",
       "text": [
        "\n",
        "  1500  |    0.019321  |    0.017046  |     1.133511  |             |  0.7s"
       ]
      },
      {
       "output_type": "stream",
       "stream": "stdout",
       "text": [
        "\n",
        "  1501  |    0.019332  |    0.017036  |     1.134746  |             |  0.7s"
       ]
      },
      {
       "output_type": "stream",
       "stream": "stdout",
       "text": [
        "\n",
        "  1502  |    0.019354  |    0.017063  |     1.134205  |             |  0.7s"
       ]
      },
      {
       "output_type": "stream",
       "stream": "stdout",
       "text": [
        "\n",
        "  1503  |    0.019333  |    0.017044  |     1.134289  |             |  0.7s"
       ]
      },
      {
       "output_type": "stream",
       "stream": "stdout",
       "text": [
        "\n",
        "  1504  |    0.019322  |    0.017071  |     1.131915  |             |  0.7s"
       ]
      },
      {
       "output_type": "stream",
       "stream": "stdout",
       "text": [
        "\n",
        "  1505  |    0.019292  |    0.017046  |     1.131736  |             |  0.7s"
       ]
      },
      {
       "output_type": "stream",
       "stream": "stdout",
       "text": [
        "\n",
        "  1506  |    0.019280  |    0.017036  |     1.131747  |             |  0.7s"
       ]
      },
      {
       "output_type": "stream",
       "stream": "stdout",
       "text": [
        "\n",
        "  1507  |    0.019324  |  \u001b[32m  0.017013\u001b[0m  |     1.135885  |             |  0.7s"
       ]
      },
      {
       "output_type": "stream",
       "stream": "stdout",
       "text": [
        "\n",
        "  1508  |    0.019250  |  \u001b[32m  0.017010\u001b[0m  |     1.131668  |             |  0.7s"
       ]
      },
      {
       "output_type": "stream",
       "stream": "stdout",
       "text": [
        "\n",
        "  1509  |    0.019306  |    0.017047  |     1.132494  |             |  0.7s"
       ]
      },
      {
       "output_type": "stream",
       "stream": "stdout",
       "text": [
        "\n",
        "  1510  |    0.019226  |    0.017014  |     1.130008  |             |  0.7s"
       ]
      },
      {
       "output_type": "stream",
       "stream": "stdout",
       "text": [
        "\n",
        "  1511  |    0.019296  |    0.017026  |     1.133330  |             |  0.7s"
       ]
      },
      {
       "output_type": "stream",
       "stream": "stdout",
       "text": [
        "\n",
        "  1512  |    0.019283  |    0.017032  |     1.132118  |             |  0.7s"
       ]
      },
      {
       "output_type": "stream",
       "stream": "stdout",
       "text": [
        "\n",
        "  1513  |    0.019274  |    0.017011  |     1.133024  |             |  0.7s"
       ]
      },
      {
       "output_type": "stream",
       "stream": "stdout",
       "text": [
        "\n",
        "  1514  |    0.019226  |    0.017020  |     1.129591  |             |  0.7s"
       ]
      },
      {
       "output_type": "stream",
       "stream": "stdout",
       "text": [
        "\n",
        "  1515  |    0.019218  |  \u001b[32m  0.017003\u001b[0m  |     1.130295  |             |  0.7s"
       ]
      },
      {
       "output_type": "stream",
       "stream": "stdout",
       "text": [
        "\n",
        "  1516  |    0.019245  |    0.017015  |     1.131085  |             |  0.7s"
       ]
      },
      {
       "output_type": "stream",
       "stream": "stdout",
       "text": [
        "\n",
        "  1517  |    0.019295  |    0.017020  |     1.133703  |             |  0.7s"
       ]
      },
      {
       "output_type": "stream",
       "stream": "stdout",
       "text": [
        "\n",
        "  1518  |    0.019216  |    0.017013  |     1.129536  |             |  0.7s"
       ]
      },
      {
       "output_type": "stream",
       "stream": "stdout",
       "text": [
        "\n",
        "  1519  |    0.019273  |  \u001b[32m  0.016973\u001b[0m  |     1.135516  |             |  0.7s"
       ]
      },
      {
       "output_type": "stream",
       "stream": "stdout",
       "text": [
        "\n",
        "  1520  |    0.019215  |  \u001b[32m  0.016968\u001b[0m  |     1.132465  |             |  0.7s"
       ]
      },
      {
       "output_type": "stream",
       "stream": "stdout",
       "text": [
        "\n",
        "  1521  |  \u001b[94m  0.019121\u001b[0m  |    0.017010  |     1.124067  |             |  0.7s"
       ]
      },
      {
       "output_type": "stream",
       "stream": "stdout",
       "text": [
        "\n",
        "  1522  |    0.019241  |    0.016982  |     1.133037  |             |  0.7s"
       ]
      },
      {
       "output_type": "stream",
       "stream": "stdout",
       "text": [
        "\n",
        "  1523  |    0.019189  |    0.016982  |     1.129968  |             |  0.7s"
       ]
      },
      {
       "output_type": "stream",
       "stream": "stdout",
       "text": [
        "\n",
        "  1524  |    0.019265  |    0.016987  |     1.134102  |             |  0.7s"
       ]
      },
      {
       "output_type": "stream",
       "stream": "stdout",
       "text": [
        "\n",
        "  1525  |    0.019219  |    0.016992  |     1.131079  |             |  0.7s"
       ]
      },
      {
       "output_type": "stream",
       "stream": "stdout",
       "text": [
        "\n",
        "  1526  |    0.019195  |  \u001b[32m  0.016956\u001b[0m  |     1.132022  |             |  0.7s"
       ]
      },
      {
       "output_type": "stream",
       "stream": "stdout",
       "text": [
        "\n",
        "  1527  |    0.019225  |    0.016974  |     1.132572  |             |  0.7s"
       ]
      },
      {
       "output_type": "stream",
       "stream": "stdout",
       "text": [
        "\n",
        "  1528  |    0.019237  |  \u001b[32m  0.016922\u001b[0m  |     1.136841  |             |  0.7s"
       ]
      },
      {
       "output_type": "stream",
       "stream": "stdout",
       "text": [
        "\n",
        "  1529  |  \u001b[94m  0.019103\u001b[0m  |    0.016959  |     1.126434  |             |  0.7s"
       ]
      },
      {
       "output_type": "stream",
       "stream": "stdout",
       "text": [
        "\n",
        "  1530  |    0.019240  |    0.016949  |     1.135145  |             |  0.7s"
       ]
      },
      {
       "output_type": "stream",
       "stream": "stdout",
       "text": [
        "\n",
        "  1531  |    0.019264  |    0.016963  |     1.135623  |             |  0.7s"
       ]
      },
      {
       "output_type": "stream",
       "stream": "stdout",
       "text": [
        "\n",
        "  1532  |    0.019147  |    0.016922  |     1.131430  |             |  0.7s"
       ]
      },
      {
       "output_type": "stream",
       "stream": "stdout",
       "text": [
        "\n",
        "  1533  |    0.019148  |    0.016967  |     1.128547  |             |  0.7s"
       ]
      },
      {
       "output_type": "stream",
       "stream": "stdout",
       "text": [
        "\n",
        "  1534  |    0.019285  |    0.016950  |     1.137775  |             |  0.7s"
       ]
      },
      {
       "output_type": "stream",
       "stream": "stdout",
       "text": [
        "\n",
        "  1535  |    0.019162  |    0.016935  |     1.131489  |             |  0.7s"
       ]
      },
      {
       "output_type": "stream",
       "stream": "stdout",
       "text": [
        "\n",
        "  1536  |    0.019161  |    0.016942  |     1.130980  |             |  0.7s"
       ]
      },
      {
       "output_type": "stream",
       "stream": "stdout",
       "text": [
        "\n",
        "  1537  |    0.019121  |    0.016922  |     1.129934  |             |  0.7s"
       ]
      },
      {
       "output_type": "stream",
       "stream": "stdout",
       "text": [
        "\n",
        "  1538  |    0.019228  |    0.016946  |     1.134658  |             |  0.7s"
       ]
      },
      {
       "output_type": "stream",
       "stream": "stdout",
       "text": [
        "\n",
        "  1539  |    0.019179  |    0.016932  |     1.132730  |             |  0.7s"
       ]
      },
      {
       "output_type": "stream",
       "stream": "stdout",
       "text": [
        "\n",
        "  1540  |    0.019210  |    0.016926  |     1.134957  |             |  0.7s"
       ]
      },
      {
       "output_type": "stream",
       "stream": "stdout",
       "text": [
        "\n",
        "  1541  |    0.019223  |    0.016925  |     1.135768  |             |  0.7s"
       ]
      },
      {
       "output_type": "stream",
       "stream": "stdout",
       "text": [
        "\n",
        "  1542  |    0.019161  |    0.016924  |     1.132170  |             |  0.7s"
       ]
      },
      {
       "output_type": "stream",
       "stream": "stdout",
       "text": [
        "\n",
        "  1543  |    0.019155  |  \u001b[32m  0.016905\u001b[0m  |     1.133113  |             |  0.7s"
       ]
      },
      {
       "output_type": "stream",
       "stream": "stdout",
       "text": [
        "\n",
        "  1544  |    0.019130  |    0.016906  |     1.131566  |             |  0.7s"
       ]
      },
      {
       "output_type": "stream",
       "stream": "stdout",
       "text": [
        "\n",
        "  1545  |    0.019206  |    0.016911  |     1.135728  |             |  0.7s"
       ]
      },
      {
       "output_type": "stream",
       "stream": "stdout",
       "text": [
        "\n",
        "  1546  |    0.019231  |    0.016918  |     1.136698  |             |  0.7s"
       ]
      },
      {
       "output_type": "stream",
       "stream": "stdout",
       "text": [
        "\n",
        "  1547  |  \u001b[94m  0.019099\u001b[0m  |  \u001b[32m  0.016883\u001b[0m  |     1.131273  |             |  0.7s"
       ]
      },
      {
       "output_type": "stream",
       "stream": "stdout",
       "text": [
        "\n",
        "  1548  |  \u001b[94m  0.019067\u001b[0m  |    0.016906  |     1.127833  |             |  0.7s"
       ]
      },
      {
       "output_type": "stream",
       "stream": "stdout",
       "text": [
        "\n",
        "  1549  |    0.019150  |    0.016923  |     1.131607  |             |  0.7s"
       ]
      },
      {
       "output_type": "stream",
       "stream": "stdout",
       "text": [
        "\n",
        "  1550  |    0.019153  |    0.016915  |     1.132330  |             |  0.7s"
       ]
      },
      {
       "output_type": "stream",
       "stream": "stdout",
       "text": [
        "\n",
        "  1551  |    0.019156  |  \u001b[32m  0.016878\u001b[0m  |     1.134929  |             |  0.7s"
       ]
      },
      {
       "output_type": "stream",
       "stream": "stdout",
       "text": [
        "\n",
        "  1552  |    0.019149  |  \u001b[32m  0.016878\u001b[0m  |     1.134549  |             |  0.7s"
       ]
      },
      {
       "output_type": "stream",
       "stream": "stdout",
       "text": [
        "\n",
        "  1553  |    0.019195  |    0.016905  |     1.135447  |             |  0.7s"
       ]
      },
      {
       "output_type": "stream",
       "stream": "stdout",
       "text": [
        "\n",
        "  1554  |    0.019129  |    0.016884  |     1.132938  |             |  0.7s"
       ]
      },
      {
       "output_type": "stream",
       "stream": "stdout",
       "text": [
        "\n",
        "  1555  |    0.019101  |    0.016901  |     1.130193  |             |  0.7s"
       ]
      },
      {
       "output_type": "stream",
       "stream": "stdout",
       "text": [
        "\n",
        "  1556  |    0.019133  |    0.016908  |     1.131650  |             |  0.7s"
       ]
      },
      {
       "output_type": "stream",
       "stream": "stdout",
       "text": [
        "\n",
        "  1557  |    0.019115  |    0.016903  |     1.130842  |             |  0.7s"
       ]
      },
      {
       "output_type": "stream",
       "stream": "stdout",
       "text": [
        "\n",
        "  1558  |    0.019133  |  \u001b[32m  0.016877\u001b[0m  |     1.133632  |             |  0.7s"
       ]
      },
      {
       "output_type": "stream",
       "stream": "stdout",
       "text": [
        "\n",
        "  1559  |    0.019129  |    0.016880  |     1.133203  |             |  0.7s"
       ]
      },
      {
       "output_type": "stream",
       "stream": "stdout",
       "text": [
        "\n",
        "  1560  |    0.019163  |    0.016897  |     1.134084  |             |  0.7s"
       ]
      },
      {
       "output_type": "stream",
       "stream": "stdout",
       "text": [
        "\n",
        "  1561  |  \u001b[94m  0.019045\u001b[0m  |  \u001b[32m  0.016851\u001b[0m  |     1.130255  |             |  0.7s"
       ]
      },
      {
       "output_type": "stream",
       "stream": "stdout",
       "text": [
        "\n",
        "  1562  |  \u001b[94m  0.019037\u001b[0m  |    0.016917  |     1.125336  |             |  0.7s"
       ]
      },
      {
       "output_type": "stream",
       "stream": "stdout",
       "text": [
        "\n",
        "  1563  |    0.019170  |    0.016865  |     1.136704  |             |  0.7s"
       ]
      },
      {
       "output_type": "stream",
       "stream": "stdout",
       "text": [
        "\n",
        "  1564  |    0.019171  |    0.016870  |     1.136359  |             |  0.7s"
       ]
      },
      {
       "output_type": "stream",
       "stream": "stdout",
       "text": [
        "\n",
        "  1565  |    0.019180  |  \u001b[32m  0.016835\u001b[0m  |     1.139255  |             |  0.7s"
       ]
      },
      {
       "output_type": "stream",
       "stream": "stdout",
       "text": [
        "\n",
        "  1566  |    0.019050  |    0.016848  |     1.130658  |             |  0.7s"
       ]
      },
      {
       "output_type": "stream",
       "stream": "stdout",
       "text": [
        "\n",
        "  1567  |    0.019079  |    0.016869  |     1.131024  |             |  0.7s"
       ]
      },
      {
       "output_type": "stream",
       "stream": "stdout",
       "text": [
        "\n",
        "  1568  |    0.019038  |    0.016865  |     1.128833  |             |  0.7s"
       ]
      },
      {
       "output_type": "stream",
       "stream": "stdout",
       "text": [
        "\n",
        "  1569  |    0.019200  |  \u001b[32m  0.016834\u001b[0m  |     1.140558  |             |  0.7s"
       ]
      },
      {
       "output_type": "stream",
       "stream": "stdout",
       "text": [
        "\n",
        "  1570  |    0.019108  |  \u001b[32m  0.016823\u001b[0m  |     1.135846  |             |  0.7s"
       ]
      },
      {
       "output_type": "stream",
       "stream": "stdout",
       "text": [
        "\n",
        "  1571  |    0.019202  |    0.016836  |     1.140520  |             |  0.7s"
       ]
      },
      {
       "output_type": "stream",
       "stream": "stdout",
       "text": [
        "\n",
        "  1572  |    0.019076  |    0.016879  |     1.130159  |             |  0.7s"
       ]
      },
      {
       "output_type": "stream",
       "stream": "stdout",
       "text": [
        "\n",
        "  1573  |    0.019072  |    0.016833  |     1.133028  |             |  0.7s"
       ]
      },
      {
       "output_type": "stream",
       "stream": "stdout",
       "text": [
        "\n",
        "  1574  |    0.019059  |  \u001b[32m  0.016808\u001b[0m  |     1.133884  |             |  0.7s"
       ]
      },
      {
       "output_type": "stream",
       "stream": "stdout",
       "text": [
        "\n",
        "  1575  |    0.019081  |    0.016864  |     1.131462  |             |  0.7s"
       ]
      },
      {
       "output_type": "stream",
       "stream": "stdout",
       "text": [
        "\n",
        "  1576  |    0.019112  |    0.016827  |     1.135808  |             |  0.7s"
       ]
      },
      {
       "output_type": "stream",
       "stream": "stdout",
       "text": [
        "\n",
        "  1577  |    0.019058  |    0.016816  |     1.133337  |             |  0.7s"
       ]
      },
      {
       "output_type": "stream",
       "stream": "stdout",
       "text": [
        "\n",
        "  1578  |    0.019053  |  \u001b[32m  0.016801\u001b[0m  |     1.134071  |             |  0.7s"
       ]
      },
      {
       "output_type": "stream",
       "stream": "stdout",
       "text": [
        "\n",
        "  1579  |    0.019054  |    0.016815  |     1.133191  |             |  0.7s"
       ]
      },
      {
       "output_type": "stream",
       "stream": "stdout",
       "text": [
        "\n",
        "  1580  |    0.019089  |    0.016822  |     1.134752  |             |  0.7s"
       ]
      },
      {
       "output_type": "stream",
       "stream": "stdout",
       "text": [
        "\n",
        "  1581  |    0.019092  |    0.016861  |     1.132331  |             |  0.7s"
       ]
      },
      {
       "output_type": "stream",
       "stream": "stdout",
       "text": [
        "\n",
        "  1582  |  \u001b[94m  0.018967\u001b[0m  |    0.016873  |     1.124128  |             |  0.7s"
       ]
      },
      {
       "output_type": "stream",
       "stream": "stdout",
       "text": [
        "\n",
        "  1583  |    0.019103  |    0.016839  |     1.134503  |             |  0.7s"
       ]
      },
      {
       "output_type": "stream",
       "stream": "stdout",
       "text": [
        "\n",
        "  1584  |    0.019067  |    0.016803  |     1.134785  |             |  0.7s"
       ]
      },
      {
       "output_type": "stream",
       "stream": "stdout",
       "text": [
        "\n",
        "  1585  |    0.018985  |    0.016804  |     1.129734  |             |  0.7s"
       ]
      },
      {
       "output_type": "stream",
       "stream": "stdout",
       "text": [
        "\n",
        "  1586  |    0.019037  |    0.016808  |     1.132624  |             |  0.7s"
       ]
      },
      {
       "output_type": "stream",
       "stream": "stdout",
       "text": [
        "\n",
        "  1587  |    0.019142  |    0.016843  |     1.136515  |             |  0.7s"
       ]
      },
      {
       "output_type": "stream",
       "stream": "stdout",
       "text": [
        "\n",
        "  1588  |    0.019083  |    0.016827  |     1.134087  |             |  0.7s"
       ]
      },
      {
       "output_type": "stream",
       "stream": "stdout",
       "text": [
        "\n",
        "  1589  |    0.019052  |  \u001b[32m  0.016785\u001b[0m  |     1.135114  |             |  0.7s"
       ]
      },
      {
       "output_type": "stream",
       "stream": "stdout",
       "text": [
        "\n",
        "  1590  |    0.019091  |    0.016785  |     1.137365  |             |  0.7s"
       ]
      },
      {
       "output_type": "stream",
       "stream": "stdout",
       "text": [
        "\n",
        "  1591  |    0.019008  |  \u001b[32m  0.016761\u001b[0m  |     1.134044  |             |  0.7s"
       ]
      },
      {
       "output_type": "stream",
       "stream": "stdout",
       "text": [
        "\n",
        "  1592  |  \u001b[94m  0.018964\u001b[0m  |  \u001b[32m  0.016754\u001b[0m  |     1.131915  |             |  0.7s"
       ]
      },
      {
       "output_type": "stream",
       "stream": "stdout",
       "text": [
        "\n",
        "  1593  |    0.019025  |    0.016775  |     1.134148  |             |  0.7s"
       ]
      },
      {
       "output_type": "stream",
       "stream": "stdout",
       "text": [
        "\n",
        "  1594  |    0.019085  |    0.016786  |     1.136950  |             |  0.7s"
       ]
      },
      {
       "output_type": "stream",
       "stream": "stdout",
       "text": [
        "\n",
        "  1595  |    0.019108  |    0.016797  |     1.137621  |             |  0.7s"
       ]
      },
      {
       "output_type": "stream",
       "stream": "stdout",
       "text": [
        "\n",
        "  1596  |    0.019003  |    0.016784  |     1.132226  |             |  0.7s"
       ]
      },
      {
       "output_type": "stream",
       "stream": "stdout",
       "text": [
        "\n",
        "  1597  |    0.019039  |    0.016821  |     1.131887  |             |  0.7s"
       ]
      },
      {
       "output_type": "stream",
       "stream": "stdout",
       "text": [
        "\n",
        "  1598  |    0.019041  |    0.016757  |     1.136285  |             |  0.7s"
       ]
      },
      {
       "output_type": "stream",
       "stream": "stdout",
       "text": [
        "\n",
        "  1599  |    0.019056  |  \u001b[32m  0.016753\u001b[0m  |     1.137426  |             |  0.7s"
       ]
      },
      {
       "output_type": "stream",
       "stream": "stdout",
       "text": [
        "\n",
        "  1600  |    0.019099  |    0.016776  |     1.138455  |             |  0.7s"
       ]
      },
      {
       "output_type": "stream",
       "stream": "stdout",
       "text": [
        "\n",
        "  1601  |    0.018983  |  \u001b[32m  0.016746\u001b[0m  |     1.133609  |             |  0.7s"
       ]
      },
      {
       "output_type": "stream",
       "stream": "stdout",
       "text": [
        "\n",
        "  1602  |    0.019021  |    0.016776  |     1.133837  |             |  0.7s"
       ]
      },
      {
       "output_type": "stream",
       "stream": "stdout",
       "text": [
        "\n",
        "  1603  |    0.019012  |    0.016747  |     1.135231  |             |  0.7s"
       ]
      },
      {
       "output_type": "stream",
       "stream": "stdout",
       "text": [
        "\n",
        "  1604  |    0.019051  |    0.016757  |     1.136937  |             |  0.7s"
       ]
      },
      {
       "output_type": "stream",
       "stream": "stdout",
       "text": [
        "\n",
        "  1605  |    0.019009  |    0.016765  |     1.133834  |             |  0.7s"
       ]
      },
      {
       "output_type": "stream",
       "stream": "stdout",
       "text": [
        "\n",
        "  1606  |    0.018988  |    0.016748  |     1.133717  |             |  0.7s"
       ]
      },
      {
       "output_type": "stream",
       "stream": "stdout",
       "text": [
        "\n",
        "  1607  |    0.019038  |    0.016751  |     1.136507  |             |  0.7s"
       ]
      },
      {
       "output_type": "stream",
       "stream": "stdout",
       "text": [
        "\n",
        "  1608  |    0.019023  |    0.016785  |     1.133353  |             |  0.7s"
       ]
      },
      {
       "output_type": "stream",
       "stream": "stdout",
       "text": [
        "\n",
        "  1609  |    0.019023  |    0.016776  |     1.133909  |             |  0.7s"
       ]
      },
      {
       "output_type": "stream",
       "stream": "stdout",
       "text": [
        "\n",
        "  1610  |  \u001b[94m  0.018860\u001b[0m  |    0.016762  |     1.125168  |             |  0.7s"
       ]
      },
      {
       "output_type": "stream",
       "stream": "stdout",
       "text": [
        "\n",
        "  1611  |    0.019033  |    0.016753  |     1.136082  |             |  0.7s"
       ]
      },
      {
       "output_type": "stream",
       "stream": "stdout",
       "text": [
        "\n",
        "  1612  |    0.018927  |  \u001b[32m  0.016725\u001b[0m  |     1.131664  |             |  0.7s"
       ]
      },
      {
       "output_type": "stream",
       "stream": "stdout",
       "text": [
        "\n",
        "  1613  |    0.018911  |    0.016738  |     1.129819  |             |  0.7s"
       ]
      },
      {
       "output_type": "stream",
       "stream": "stdout",
       "text": [
        "\n",
        "  1614  |    0.019004  |    0.016741  |     1.135175  |             |  0.7s"
       ]
      },
      {
       "output_type": "stream",
       "stream": "stdout",
       "text": [
        "\n",
        "  1615  |    0.018977  |    0.016736  |     1.133906  |             |  0.7s"
       ]
      },
      {
       "output_type": "stream",
       "stream": "stdout",
       "text": [
        "\n",
        "  1616  |    0.018941  |    0.016742  |     1.131363  |             |  0.7s"
       ]
      },
      {
       "output_type": "stream",
       "stream": "stdout",
       "text": [
        "\n",
        "  1617  |    0.018910  |  \u001b[32m  0.016708\u001b[0m  |     1.131793  |             |  0.7s"
       ]
      },
      {
       "output_type": "stream",
       "stream": "stdout",
       "text": [
        "\n",
        "  1618  |    0.018981  |    0.016725  |     1.134907  |             |  0.7s"
       ]
      },
      {
       "output_type": "stream",
       "stream": "stdout",
       "text": [
        "\n",
        "  1619  |    0.018935  |    0.016733  |     1.131604  |             |  0.7s"
       ]
      },
      {
       "output_type": "stream",
       "stream": "stdout",
       "text": [
        "\n",
        "  1620  |    0.018883  |  \u001b[32m  0.016703\u001b[0m  |     1.130501  |             |  0.7s"
       ]
      },
      {
       "output_type": "stream",
       "stream": "stdout",
       "text": [
        "\n",
        "  1621  |    0.018905  |    0.016777  |     1.126841  |             |  0.7s"
       ]
      },
      {
       "output_type": "stream",
       "stream": "stdout",
       "text": [
        "\n",
        "  1622  |    0.018983  |    0.016704  |     1.136442  |             |  0.7s"
       ]
      },
      {
       "output_type": "stream",
       "stream": "stdout",
       "text": [
        "\n",
        "  1623  |    0.018974  |    0.016748  |     1.132926  |             |  0.7s"
       ]
      },
      {
       "output_type": "stream",
       "stream": "stdout",
       "text": [
        "\n",
        "  1624  |    0.018937  |    0.016721  |     1.132554  |             |  0.7s"
       ]
      },
      {
       "output_type": "stream",
       "stream": "stdout",
       "text": [
        "\n",
        "  1625  |    0.018938  |    0.016745  |     1.130990  |             |  0.7s"
       ]
      },
      {
       "output_type": "stream",
       "stream": "stdout",
       "text": [
        "\n",
        "  1626  |    0.018954  |    0.016722  |     1.133483  |             |  0.7s"
       ]
      },
      {
       "output_type": "stream",
       "stream": "stdout",
       "text": [
        "\n",
        "  1627  |    0.018975  |    0.016756  |     1.132427  |             |  0.7s"
       ]
      },
      {
       "output_type": "stream",
       "stream": "stdout",
       "text": [
        "\n",
        "  1628  |    0.018927  |  \u001b[32m  0.016690\u001b[0m  |     1.134058  |             |  0.7s"
       ]
      },
      {
       "output_type": "stream",
       "stream": "stdout",
       "text": [
        "\n",
        "  1629  |    0.018924  |  \u001b[32m  0.016684\u001b[0m  |     1.134260  |             |  0.7s"
       ]
      },
      {
       "output_type": "stream",
       "stream": "stdout",
       "text": [
        "\n",
        "  1630  |    0.018959  |    0.016694  |     1.135678  |             |  0.7s"
       ]
      },
      {
       "output_type": "stream",
       "stream": "stdout",
       "text": [
        "\n",
        "  1631  |    0.018890  |    0.016698  |     1.131283  |             |  0.7s"
       ]
      },
      {
       "output_type": "stream",
       "stream": "stdout",
       "text": [
        "\n",
        "  1632  |    0.018898  |    0.016704  |     1.131301  |             |  0.7s"
       ]
      },
      {
       "output_type": "stream",
       "stream": "stdout",
       "text": [
        "\n",
        "  1633  |    0.018970  |  \u001b[32m  0.016670\u001b[0m  |     1.137956  |             |  0.7s"
       ]
      },
      {
       "output_type": "stream",
       "stream": "stdout",
       "text": [
        "\n",
        "  1634  |    0.018899  |    0.016706  |     1.131281  |             |  0.7s"
       ]
      },
      {
       "output_type": "stream",
       "stream": "stdout",
       "text": [
        "\n",
        "  1635  |    0.018900  |  \u001b[32m  0.016664\u001b[0m  |     1.134179  |             |  0.7s"
       ]
      },
      {
       "output_type": "stream",
       "stream": "stdout",
       "text": [
        "\n",
        "  1636  |    0.018895  |    0.016676  |     1.133054  |             |  0.7s"
       ]
      },
      {
       "output_type": "stream",
       "stream": "stdout",
       "text": [
        "\n",
        "  1637  |    0.018923  |    0.016724  |     1.131478  |             |  0.7s"
       ]
      },
      {
       "output_type": "stream",
       "stream": "stdout",
       "text": [
        "\n",
        "  1638  |    0.018952  |    0.016671  |     1.136782  |             |  0.7s"
       ]
      },
      {
       "output_type": "stream",
       "stream": "stdout",
       "text": [
        "\n",
        "  1639  |    0.018860  |    0.016683  |     1.130532  |             |  0.7s"
       ]
      },
      {
       "output_type": "stream",
       "stream": "stdout",
       "text": [
        "\n",
        "  1640  |    0.018948  |  \u001b[32m  0.016646\u001b[0m  |     1.138309  |             |  0.7s"
       ]
      },
      {
       "output_type": "stream",
       "stream": "stdout",
       "text": [
        "\n",
        "  1641  |    0.018972  |    0.016709  |     1.135405  |             |  0.7s"
       ]
      },
      {
       "output_type": "stream",
       "stream": "stdout",
       "text": [
        "\n",
        "  1642  |    0.018917  |    0.016694  |     1.133144  |             |  0.7s"
       ]
      },
      {
       "output_type": "stream",
       "stream": "stdout",
       "text": [
        "\n",
        "  1643  |  \u001b[94m  0.018854\u001b[0m  |  \u001b[32m  0.016615\u001b[0m  |     1.134704  |             |  0.7s"
       ]
      },
      {
       "output_type": "stream",
       "stream": "stdout",
       "text": [
        "\n",
        "  1644  |    0.018897  |    0.016688  |     1.132368  |             |  0.7s"
       ]
      },
      {
       "output_type": "stream",
       "stream": "stdout",
       "text": [
        "\n",
        "  1645  |    0.018909  |    0.016621  |     1.137660  |             |  0.7s"
       ]
      },
      {
       "output_type": "stream",
       "stream": "stdout",
       "text": [
        "\n",
        "  1646  |    0.018919  |    0.016651  |     1.136203  |             |  0.7s"
       ]
      },
      {
       "output_type": "stream",
       "stream": "stdout",
       "text": [
        "\n",
        "  1647  |    0.018914  |    0.016650  |     1.135957  |             |  0.7s"
       ]
      },
      {
       "output_type": "stream",
       "stream": "stdout",
       "text": [
        "\n",
        "  1648  |  \u001b[94m  0.018852\u001b[0m  |    0.016663  |     1.131365  |             |  0.7s"
       ]
      },
      {
       "output_type": "stream",
       "stream": "stdout",
       "text": [
        "\n",
        "  1649  |  \u001b[94m  0.018755\u001b[0m  |    0.016635  |     1.127451  |             |  0.7s"
       ]
      },
      {
       "output_type": "stream",
       "stream": "stdout",
       "text": [
        "\n",
        "  1650  |    0.018889  |    0.016664  |     1.133516  |             |  0.7s"
       ]
      },
      {
       "output_type": "stream",
       "stream": "stdout",
       "text": [
        "\n",
        "  1651  |    0.018785  |    0.016639  |     1.128958  |             |  0.7s"
       ]
      },
      {
       "output_type": "stream",
       "stream": "stdout",
       "text": [
        "\n",
        "  1652  |    0.018819  |    0.016638  |     1.131076  |             |  0.7s"
       ]
      },
      {
       "output_type": "stream",
       "stream": "stdout",
       "text": [
        "\n",
        "  1653  |    0.018867  |    0.016625  |     1.134871  |             |  0.7s"
       ]
      },
      {
       "output_type": "stream",
       "stream": "stdout",
       "text": [
        "\n",
        "  1654  |    0.018887  |    0.016677  |     1.132520  |             |  0.7s"
       ]
      },
      {
       "output_type": "stream",
       "stream": "stdout",
       "text": [
        "\n",
        "  1655  |    0.018986  |    0.016650  |     1.140312  |             |  0.7s"
       ]
      },
      {
       "output_type": "stream",
       "stream": "stdout",
       "text": [
        "\n",
        "  1656  |    0.018933  |    0.016634  |     1.138202  |             |  0.7s"
       ]
      },
      {
       "output_type": "stream",
       "stream": "stdout",
       "text": [
        "\n",
        "  1657  |    0.018914  |    0.016640  |     1.136637  |             |  0.7s"
       ]
      },
      {
       "output_type": "stream",
       "stream": "stdout",
       "text": [
        "\n",
        "  1658  |    0.018876  |  \u001b[32m  0.016611\u001b[0m  |     1.136350  |             |  0.7s"
       ]
      },
      {
       "output_type": "stream",
       "stream": "stdout",
       "text": [
        "\n",
        "  1659  |    0.018786  |    0.016628  |     1.129775  |             |  0.7s"
       ]
      },
      {
       "output_type": "stream",
       "stream": "stdout",
       "text": [
        "\n",
        "  1660  |    0.018800  |    0.016638  |     1.129944  |             |  0.7s"
       ]
      },
      {
       "output_type": "stream",
       "stream": "stdout",
       "text": [
        "\n",
        "  1661  |    0.018817  |    0.016651  |     1.130091  |             |  0.7s"
       ]
      },
      {
       "output_type": "stream",
       "stream": "stdout",
       "text": [
        "\n",
        "  1662  |    0.018851  |    0.016628  |     1.133687  |             |  0.7s"
       ]
      },
      {
       "output_type": "stream",
       "stream": "stdout",
       "text": [
        "\n",
        "  1663  |    0.018820  |  \u001b[32m  0.016604\u001b[0m  |     1.133482  |             |  0.7s"
       ]
      },
      {
       "output_type": "stream",
       "stream": "stdout",
       "text": [
        "\n",
        "  1664  |    0.018860  |  \u001b[32m  0.016603\u001b[0m  |     1.135954  |             |  0.7s"
       ]
      },
      {
       "output_type": "stream",
       "stream": "stdout",
       "text": [
        "\n",
        "  1665  |    0.018821  |    0.016637  |     1.131281  |             |  0.7s"
       ]
      },
      {
       "output_type": "stream",
       "stream": "stdout",
       "text": [
        "\n",
        "  1666  |    0.018812  |    0.016621  |     1.131795  |             |  0.7s"
       ]
      },
      {
       "output_type": "stream",
       "stream": "stdout",
       "text": [
        "\n",
        "  1667  |    0.018929  |  \u001b[32m  0.016599\u001b[0m  |     1.140377  |             |  0.7s"
       ]
      },
      {
       "output_type": "stream",
       "stream": "stdout",
       "text": [
        "\n",
        "  1668  |    0.018832  |  \u001b[32m  0.016585\u001b[0m  |     1.135525  |             |  0.7s"
       ]
      },
      {
       "output_type": "stream",
       "stream": "stdout",
       "text": [
        "\n",
        "  1669  |    0.018899  |  \u001b[32m  0.016581\u001b[0m  |     1.139737  |             |  0.7s"
       ]
      },
      {
       "output_type": "stream",
       "stream": "stdout",
       "text": [
        "\n",
        "  1670  |    0.018861  |    0.016663  |     1.131897  |             |  0.7s"
       ]
      },
      {
       "output_type": "stream",
       "stream": "stdout",
       "text": [
        "\n",
        "  1671  |  \u001b[94m  0.018741\u001b[0m  |    0.016638  |     1.126422  |             |  0.7s"
       ]
      },
      {
       "output_type": "stream",
       "stream": "stdout",
       "text": [
        "\n",
        "  1672  |    0.018909  |    0.016614  |     1.138169  |             |  0.7s"
       ]
      },
      {
       "output_type": "stream",
       "stream": "stdout",
       "text": [
        "\n",
        "  1673  |    0.018817  |    0.016586  |     1.134519  |             |  0.7s"
       ]
      },
      {
       "output_type": "stream",
       "stream": "stdout",
       "text": [
        "\n",
        "  1674  |    0.018780  |    0.016632  |     1.129140  |             |  0.7s"
       ]
      },
      {
       "output_type": "stream",
       "stream": "stdout",
       "text": [
        "\n",
        "  1675  |    0.018765  |    0.016590  |     1.131108  |             |  0.7s"
       ]
      },
      {
       "output_type": "stream",
       "stream": "stdout",
       "text": [
        "\n",
        "  1676  |    0.018841  |  \u001b[32m  0.016562\u001b[0m  |     1.137614  |             |  0.7s"
       ]
      },
      {
       "output_type": "stream",
       "stream": "stdout",
       "text": [
        "\n",
        "  1677  |    0.018845  |    0.016581  |     1.136596  |             |  0.7s"
       ]
      },
      {
       "output_type": "stream",
       "stream": "stdout",
       "text": [
        "\n",
        "  1678  |  \u001b[94m  0.018732\u001b[0m  |    0.016573  |     1.130253  |             |  0.7s"
       ]
      },
      {
       "output_type": "stream",
       "stream": "stdout",
       "text": [
        "\n",
        "  1679  |    0.018835  |    0.016570  |     1.136684  |             |  0.7s"
       ]
      },
      {
       "output_type": "stream",
       "stream": "stdout",
       "text": [
        "\n",
        "  1680  |    0.018795  |    0.016589  |     1.132991  |             |  0.7s"
       ]
      },
      {
       "output_type": "stream",
       "stream": "stdout",
       "text": [
        "\n",
        "  1681  |    0.018785  |  \u001b[32m  0.016549\u001b[0m  |     1.135106  |             |  0.7s"
       ]
      },
      {
       "output_type": "stream",
       "stream": "stdout",
       "text": [
        "\n",
        "  1682  |    0.018865  |    0.016593  |     1.136898  |             |  0.7s"
       ]
      },
      {
       "output_type": "stream",
       "stream": "stdout",
       "text": [
        "\n",
        "  1683  |    0.018794  |    0.016619  |     1.130927  |             |  0.7s"
       ]
      },
      {
       "output_type": "stream",
       "stream": "stdout",
       "text": [
        "\n",
        "  1684  |    0.018800  |    0.016586  |     1.133456  |             |  0.7s"
       ]
      },
      {
       "output_type": "stream",
       "stream": "stdout",
       "text": [
        "\n",
        "  1685  |    0.018832  |    0.016628  |     1.132496  |             |  0.7s"
       ]
      },
      {
       "output_type": "stream",
       "stream": "stdout",
       "text": [
        "\n",
        "  1686  |    0.018767  |    0.016638  |     1.127989  |             |  0.7s"
       ]
      },
      {
       "output_type": "stream",
       "stream": "stdout",
       "text": [
        "\n",
        "  1687  |    0.018750  |    0.016624  |     1.127912  |             |  0.7s"
       ]
      },
      {
       "output_type": "stream",
       "stream": "stdout",
       "text": [
        "\n",
        "  1688  |    0.018823  |    0.016591  |     1.134554  |             |  0.7s"
       ]
      },
      {
       "output_type": "stream",
       "stream": "stdout",
       "text": [
        "\n",
        "  1689  |  \u001b[94m  0.018728\u001b[0m  |    0.016586  |     1.129121  |             |  0.7s"
       ]
      },
      {
       "output_type": "stream",
       "stream": "stdout",
       "text": [
        "\n",
        "  1690  |    0.018796  |    0.016584  |     1.133403  |             |  0.7s"
       ]
      },
      {
       "output_type": "stream",
       "stream": "stdout",
       "text": [
        "\n",
        "  1691  |    0.018783  |    0.016550  |     1.134905  |             |  0.7s"
       ]
      },
      {
       "output_type": "stream",
       "stream": "stdout",
       "text": [
        "\n",
        "  1692  |  \u001b[94m  0.018724\u001b[0m  |  \u001b[32m  0.016537\u001b[0m  |     1.132263  |             |  0.7s"
       ]
      },
      {
       "output_type": "stream",
       "stream": "stdout",
       "text": [
        "\n",
        "  1693  |    0.018749  |  \u001b[32m  0.016534\u001b[0m  |     1.133931  |             |  0.7s"
       ]
      },
      {
       "output_type": "stream",
       "stream": "stdout",
       "text": [
        "\n",
        "  1694  |    0.018778  |    0.016567  |     1.133468  |             |  0.7s"
       ]
      },
      {
       "output_type": "stream",
       "stream": "stdout",
       "text": [
        "\n",
        "  1695  |    0.018749  |    0.016564  |     1.131944  |             |  0.7s"
       ]
      },
      {
       "output_type": "stream",
       "stream": "stdout",
       "text": [
        "\n",
        "  1696  |    0.018825  |  \u001b[32m  0.016528\u001b[0m  |     1.139021  |             |  0.7s"
       ]
      },
      {
       "output_type": "stream",
       "stream": "stdout",
       "text": [
        "\n",
        "  1697  |  \u001b[94m  0.018722\u001b[0m  |    0.016542  |     1.131809  |             |  0.7s"
       ]
      },
      {
       "output_type": "stream",
       "stream": "stdout",
       "text": [
        "\n",
        "  1698  |    0.018843  |    0.016540  |     1.139270  |             |  0.7s"
       ]
      },
      {
       "output_type": "stream",
       "stream": "stdout",
       "text": [
        "\n",
        "  1699  |  \u001b[94m  0.018640\u001b[0m  |    0.016579  |     1.124308  |             |  0.7s"
       ]
      },
      {
       "output_type": "stream",
       "stream": "stdout",
       "text": [
        "\n",
        "  1700  |    0.018730  |    0.016569  |     1.130423  |             |  0.7s"
       ]
      },
      {
       "output_type": "stream",
       "stream": "stdout",
       "text": [
        "\n",
        "  1701  |    0.018829  |  \u001b[32m  0.016526\u001b[0m  |     1.139360  |             |  0.7s"
       ]
      },
      {
       "output_type": "stream",
       "stream": "stdout",
       "text": [
        "\n",
        "  1702  |    0.018697  |    0.016545  |     1.130118  |             |  0.7s"
       ]
      },
      {
       "output_type": "stream",
       "stream": "stdout",
       "text": [
        "\n",
        "  1703  |    0.018734  |    0.016564  |     1.131033  |             |  0.7s"
       ]
      },
      {
       "output_type": "stream",
       "stream": "stdout",
       "text": [
        "\n",
        "  1704  |    0.018782  |    0.016542  |     1.135416  |             |  0.7s"
       ]
      },
      {
       "output_type": "stream",
       "stream": "stdout",
       "text": [
        "\n",
        "  1705  |    0.018791  |    0.016537  |     1.136273  |             |  0.7s"
       ]
      },
      {
       "output_type": "stream",
       "stream": "stdout",
       "text": [
        "\n",
        "  1706  |    0.018731  |  \u001b[32m  0.016522\u001b[0m  |     1.133668  |             |  0.7s"
       ]
      },
      {
       "output_type": "stream",
       "stream": "stdout",
       "text": [
        "\n",
        "  1707  |    0.018808  |  \u001b[32m  0.016509\u001b[0m  |     1.139270  |             |  0.7s"
       ]
      },
      {
       "output_type": "stream",
       "stream": "stdout",
       "text": [
        "\n",
        "  1708  |    0.018678  |    0.016510  |     1.131288  |             |  0.7s"
       ]
      },
      {
       "output_type": "stream",
       "stream": "stdout",
       "text": [
        "\n",
        "  1709  |    0.018788  |    0.016537  |     1.136122  |             |  0.7s"
       ]
      },
      {
       "output_type": "stream",
       "stream": "stdout",
       "text": [
        "\n",
        "  1710  |    0.018674  |  \u001b[32m  0.016504\u001b[0m  |     1.131522  |             |  0.7s"
       ]
      },
      {
       "output_type": "stream",
       "stream": "stdout",
       "text": [
        "\n",
        "  1711  |    0.018767  |    0.016539  |     1.134724  |             |  0.7s"
       ]
      },
      {
       "output_type": "stream",
       "stream": "stdout",
       "text": [
        "\n",
        "  1712  |    0.018689  |    0.016519  |     1.131368  |             |  0.7s"
       ]
      },
      {
       "output_type": "stream",
       "stream": "stdout",
       "text": [
        "\n",
        "  1713  |    0.018791  |    0.016545  |     1.135773  |             |  0.7s"
       ]
      },
      {
       "output_type": "stream",
       "stream": "stdout",
       "text": [
        "\n",
        "  1714  |    0.018807  |    0.016544  |     1.136784  |             |  0.7s"
       ]
      },
      {
       "output_type": "stream",
       "stream": "stdout",
       "text": [
        "\n",
        "  1715  |    0.018773  |    0.016504  |     1.137462  |             |  0.7s"
       ]
      },
      {
       "output_type": "stream",
       "stream": "stdout",
       "text": [
        "\n",
        "  1716  |    0.018741  |    0.016540  |     1.133058  |             |  0.7s"
       ]
      },
      {
       "output_type": "stream",
       "stream": "stdout",
       "text": [
        "\n",
        "  1717  |    0.018733  |  \u001b[32m  0.016490\u001b[0m  |     1.136054  |             |  0.7s"
       ]
      },
      {
       "output_type": "stream",
       "stream": "stdout",
       "text": [
        "\n",
        "  1718  |    0.018707  |    0.016491  |     1.134343  |             |  0.7s"
       ]
      },
      {
       "output_type": "stream",
       "stream": "stdout",
       "text": [
        "\n",
        "  1719  |    0.018723  |    0.016501  |     1.134656  |             |  0.7s"
       ]
      },
      {
       "output_type": "stream",
       "stream": "stdout",
       "text": [
        "\n",
        "  1720  |    0.018705  |    0.016505  |     1.133257  |             |  0.7s"
       ]
      },
      {
       "output_type": "stream",
       "stream": "stdout",
       "text": [
        "\n",
        "  1721  |    0.018674  |  \u001b[32m  0.016472\u001b[0m  |     1.133665  |             |  0.7s"
       ]
      },
      {
       "output_type": "stream",
       "stream": "stdout",
       "text": [
        "\n",
        "  1722  |    0.018697  |    0.016481  |     1.134475  |             |  0.7s"
       ]
      },
      {
       "output_type": "stream",
       "stream": "stdout",
       "text": [
        "\n",
        "  1723  |    0.018652  |    0.016475  |     1.132167  |             |  0.7s"
       ]
      },
      {
       "output_type": "stream",
       "stream": "stdout",
       "text": [
        "\n",
        "  1724  |    0.018714  |    0.016494  |     1.134590  |             |  0.7s"
       ]
      },
      {
       "output_type": "stream",
       "stream": "stdout",
       "text": [
        "\n",
        "  1725  |    0.018863  |    0.016494  |     1.143679  |             |  0.7s"
       ]
      },
      {
       "output_type": "stream",
       "stream": "stdout",
       "text": [
        "\n",
        "  1726  |    0.018745  |    0.016505  |     1.135734  |             |  0.7s"
       ]
      },
      {
       "output_type": "stream",
       "stream": "stdout",
       "text": [
        "\n",
        "  1727  |    0.018768  |    0.016489  |     1.138222  |             |  0.7s"
       ]
      },
      {
       "output_type": "stream",
       "stream": "stdout",
       "text": [
        "\n",
        "  1728  |    0.018660  |    0.016497  |     1.131137  |             |  0.7s"
       ]
      },
      {
       "output_type": "stream",
       "stream": "stdout",
       "text": [
        "\n",
        "  1729  |    0.018740  |  \u001b[32m  0.016460\u001b[0m  |     1.138528  |             |  0.7s"
       ]
      },
      {
       "output_type": "stream",
       "stream": "stdout",
       "text": [
        "\n",
        "  1730  |    0.018650  |    0.016470  |     1.132338  |             |  0.7s"
       ]
      },
      {
       "output_type": "stream",
       "stream": "stdout",
       "text": [
        "\n",
        "  1731  |    0.018723  |    0.016484  |     1.135824  |             |  0.7s"
       ]
      },
      {
       "output_type": "stream",
       "stream": "stdout",
       "text": [
        "\n",
        "  1732  |    0.018661  |    0.016463  |     1.133535  |             |  0.7s"
       ]
      },
      {
       "output_type": "stream",
       "stream": "stdout",
       "text": [
        "\n",
        "  1733  |    0.018744  |    0.016484  |     1.137093  |             |  0.7s"
       ]
      },
      {
       "output_type": "stream",
       "stream": "stdout",
       "text": [
        "\n",
        "  1734  |  \u001b[94m  0.018575\u001b[0m  |    0.016473  |     1.127593  |             |  0.7s"
       ]
      },
      {
       "output_type": "stream",
       "stream": "stdout",
       "text": [
        "\n",
        "  1735  |    0.018711  |  \u001b[32m  0.016456\u001b[0m  |     1.137036  |             |  0.7s"
       ]
      },
      {
       "output_type": "stream",
       "stream": "stdout",
       "text": [
        "\n",
        "  1736  |  \u001b[94m  0.018572\u001b[0m  |    0.016468  |     1.127746  |             |  0.7s"
       ]
      },
      {
       "output_type": "stream",
       "stream": "stdout",
       "text": [
        "\n",
        "  1737  |  \u001b[94m  0.018567\u001b[0m  |  \u001b[32m  0.016438\u001b[0m  |     1.129560  |             |  0.7s"
       ]
      },
      {
       "output_type": "stream",
       "stream": "stdout",
       "text": [
        "\n",
        "  1738  |  \u001b[94m  0.018555\u001b[0m  |    0.016453  |     1.127759  |             |  0.7s"
       ]
      },
      {
       "output_type": "stream",
       "stream": "stdout",
       "text": [
        "\n",
        "  1739  |    0.018659  |  \u001b[32m  0.016430\u001b[0m  |     1.135658  |             |  0.7s"
       ]
      },
      {
       "output_type": "stream",
       "stream": "stdout",
       "text": [
        "\n",
        "  1740  |    0.018649  |    0.016460  |     1.132982  |             |  0.7s"
       ]
      },
      {
       "output_type": "stream",
       "stream": "stdout",
       "text": [
        "\n",
        "  1741  |    0.018600  |    0.016448  |     1.130824  |             |  0.7s"
       ]
      },
      {
       "output_type": "stream",
       "stream": "stdout",
       "text": [
        "\n",
        "  1742  |    0.018697  |    0.016441  |     1.137223  |             |  0.7s"
       ]
      },
      {
       "output_type": "stream",
       "stream": "stdout",
       "text": [
        "\n",
        "  1743  |    0.018691  |  \u001b[32m  0.016409\u001b[0m  |     1.139069  |             |  0.7s"
       ]
      },
      {
       "output_type": "stream",
       "stream": "stdout",
       "text": [
        "\n",
        "  1744  |    0.018669  |    0.016456  |     1.134452  |             |  0.7s"
       ]
      },
      {
       "output_type": "stream",
       "stream": "stdout",
       "text": [
        "\n",
        "  1745  |    0.018646  |    0.016438  |     1.134285  |             |  0.7s"
       ]
      },
      {
       "output_type": "stream",
       "stream": "stdout",
       "text": [
        "\n",
        "  1746  |    0.018622  |    0.016453  |     1.131830  |             |  0.7s"
       ]
      },
      {
       "output_type": "stream",
       "stream": "stdout",
       "text": [
        "\n",
        "  1747  |    0.018606  |    0.016437  |     1.131924  |             |  0.7s"
       ]
      },
      {
       "output_type": "stream",
       "stream": "stdout",
       "text": [
        "\n",
        "  1748  |    0.018647  |    0.016422  |     1.135500  |             |  0.7s"
       ]
      },
      {
       "output_type": "stream",
       "stream": "stdout",
       "text": [
        "\n",
        "  1749  |    0.018759  |    0.016426  |     1.142007  |             |  0.7s"
       ]
      },
      {
       "output_type": "stream",
       "stream": "stdout",
       "text": [
        "\n",
        "  1750  |  \u001b[94m  0.018553\u001b[0m  |    0.016441  |     1.128449  |             |  0.7s"
       ]
      },
      {
       "output_type": "stream",
       "stream": "stdout",
       "text": [
        "\n",
        "  1751  |    0.018622  |    0.016448  |     1.132134  |             |  0.7s"
       ]
      },
      {
       "output_type": "stream",
       "stream": "stdout",
       "text": [
        "\n",
        "  1752  |    0.018690  |    0.016431  |     1.137447  |             |  0.7s"
       ]
      },
      {
       "output_type": "stream",
       "stream": "stdout",
       "text": [
        "\n",
        "  1753  |    0.018646  |    0.016452  |     1.133367  |             |  0.7s"
       ]
      },
      {
       "output_type": "stream",
       "stream": "stdout",
       "text": [
        "\n",
        "  1754  |    0.018702  |    0.016414  |     1.139370  |             |  0.7s"
       ]
      },
      {
       "output_type": "stream",
       "stream": "stdout",
       "text": [
        "\n",
        "  1755  |    0.018606  |    0.016415  |     1.133486  |             |  0.7s"
       ]
      },
      {
       "output_type": "stream",
       "stream": "stdout",
       "text": [
        "\n",
        "  1756  |    0.018554  |  \u001b[32m  0.016388\u001b[0m  |     1.132203  |             |  0.7s"
       ]
      },
      {
       "output_type": "stream",
       "stream": "stdout",
       "text": [
        "\n",
        "  1757  |    0.018584  |    0.016431  |     1.130987  |             |  0.7s"
       ]
      },
      {
       "output_type": "stream",
       "stream": "stdout",
       "text": [
        "\n",
        "  1758  |    0.018636  |    0.016401  |     1.136217  |             |  0.7s"
       ]
      },
      {
       "output_type": "stream",
       "stream": "stdout",
       "text": [
        "\n",
        "  1759  |    0.018669  |    0.016403  |     1.138101  |             |  0.7s"
       ]
      },
      {
       "output_type": "stream",
       "stream": "stdout",
       "text": [
        "\n",
        "  1760  |    0.018620  |    0.016395  |     1.135711  |             |  0.7s"
       ]
      },
      {
       "output_type": "stream",
       "stream": "stdout",
       "text": [
        "\n",
        "  1761  |    0.018665  |    0.016442  |     1.135201  |             |  0.7s"
       ]
      },
      {
       "output_type": "stream",
       "stream": "stdout",
       "text": [
        "\n",
        "  1762  |    0.018679  |  \u001b[32m  0.016383\u001b[0m  |     1.140149  |             |  0.7s"
       ]
      },
      {
       "output_type": "stream",
       "stream": "stdout",
       "text": [
        "\n",
        "  1763  |    0.018604  |    0.016413  |     1.133511  |             |  0.7s"
       ]
      },
      {
       "output_type": "stream",
       "stream": "stdout",
       "text": [
        "\n",
        "  1764  |    0.018594  |    0.016417  |     1.132602  |             |  0.7s"
       ]
      },
      {
       "output_type": "stream",
       "stream": "stdout",
       "text": [
        "\n",
        "  1765  |  \u001b[94m  0.018543\u001b[0m  |    0.016398  |     1.130838  |             |  0.7s"
       ]
      },
      {
       "output_type": "stream",
       "stream": "stdout",
       "text": [
        "\n",
        "  1766  |    0.018640  |    0.016440  |     1.133838  |             |  0.7s"
       ]
      },
      {
       "output_type": "stream",
       "stream": "stdout",
       "text": [
        "\n",
        "  1767  |    0.018561  |    0.016434  |     1.129377  |             |  0.7s"
       ]
      },
      {
       "output_type": "stream",
       "stream": "stdout",
       "text": [
        "\n",
        "  1768  |    0.018567  |    0.016385  |     1.133151  |             |  0.7s"
       ]
      },
      {
       "output_type": "stream",
       "stream": "stdout",
       "text": [
        "\n",
        "  1769  |    0.018582  |    0.016393  |     1.133586  |             |  0.7s"
       ]
      },
      {
       "output_type": "stream",
       "stream": "stdout",
       "text": [
        "\n",
        "  1770  |    0.018563  |    0.016395  |     1.132238  |             |  0.7s"
       ]
      },
      {
       "output_type": "stream",
       "stream": "stdout",
       "text": [
        "\n",
        "  1771  |    0.018604  |    0.016388  |     1.135240  |             |  0.7s"
       ]
      },
      {
       "output_type": "stream",
       "stream": "stdout",
       "text": [
        "\n",
        "  1772  |    0.018632  |    0.016399  |     1.136155  |             |  0.7s"
       ]
      },
      {
       "output_type": "stream",
       "stream": "stdout",
       "text": [
        "\n",
        "  1773  |    0.018557  |  \u001b[32m  0.016375\u001b[0m  |     1.133220  |             |  0.7s"
       ]
      },
      {
       "output_type": "stream",
       "stream": "stdout",
       "text": [
        "\n",
        "  1774  |  \u001b[94m  0.018527\u001b[0m  |  \u001b[32m  0.016372\u001b[0m  |     1.131582  |             |  0.7s"
       ]
      },
      {
       "output_type": "stream",
       "stream": "stdout",
       "text": [
        "\n",
        "  1775  |  \u001b[94m  0.018475\u001b[0m  |  \u001b[32m  0.016358\u001b[0m  |     1.129434  |             |  0.7s"
       ]
      },
      {
       "output_type": "stream",
       "stream": "stdout",
       "text": [
        "\n",
        "  1776  |    0.018533  |    0.016379  |     1.131466  |             |  0.7s"
       ]
      },
      {
       "output_type": "stream",
       "stream": "stdout",
       "text": [
        "\n",
        "  1777  |    0.018491  |    0.016374  |     1.129287  |             |  0.7s"
       ]
      },
      {
       "output_type": "stream",
       "stream": "stdout",
       "text": [
        "\n",
        "  1778  |    0.018658  |    0.016394  |     1.138085  |             |  0.7s"
       ]
      },
      {
       "output_type": "stream",
       "stream": "stdout",
       "text": [
        "\n",
        "  1779  |  \u001b[94m  0.018468\u001b[0m  |  \u001b[32m  0.016355\u001b[0m  |     1.129251  |             |  0.7s"
       ]
      },
      {
       "output_type": "stream",
       "stream": "stdout",
       "text": [
        "\n",
        "  1780  |    0.018545  |    0.016380  |     1.132217  |             |  0.7s"
       ]
      },
      {
       "output_type": "stream",
       "stream": "stdout",
       "text": [
        "\n",
        "  1781  |    0.018615  |    0.016356  |     1.138111  |             |  0.7s"
       ]
      },
      {
       "output_type": "stream",
       "stream": "stdout",
       "text": [
        "\n",
        "  1782  |    0.018604  |    0.016381  |     1.135714  |             |  0.7s"
       ]
      },
      {
       "output_type": "stream",
       "stream": "stdout",
       "text": [
        "\n",
        "  1783  |    0.018577  |    0.016361  |     1.135467  |             |  0.7s"
       ]
      },
      {
       "output_type": "stream",
       "stream": "stdout",
       "text": [
        "\n",
        "  1784  |    0.018478  |  \u001b[32m  0.016352\u001b[0m  |     1.130018  |             |  0.7s"
       ]
      },
      {
       "output_type": "stream",
       "stream": "stdout",
       "text": [
        "\n",
        "  1785  |    0.018535  |    0.016372  |     1.132122  |             |  0.7s"
       ]
      },
      {
       "output_type": "stream",
       "stream": "stdout",
       "text": [
        "\n",
        "  1786  |  \u001b[94m  0.018421\u001b[0m  |    0.016412  |     1.122418  |             |  0.7s"
       ]
      },
      {
       "output_type": "stream",
       "stream": "stdout",
       "text": [
        "\n",
        "  1787  |    0.018539  |  \u001b[32m  0.016345\u001b[0m  |     1.134292  |             |  0.7s"
       ]
      },
      {
       "output_type": "stream",
       "stream": "stdout",
       "text": [
        "\n",
        "  1788  |    0.018666  |    0.016412  |     1.137349  |             |  0.7s"
       ]
      },
      {
       "output_type": "stream",
       "stream": "stdout",
       "text": [
        "\n",
        "  1789  |    0.018493  |    0.016378  |     1.129140  |             |  0.7s"
       ]
      },
      {
       "output_type": "stream",
       "stream": "stdout",
       "text": [
        "\n",
        "  1790  |    0.018539  |  \u001b[32m  0.016344\u001b[0m  |     1.134295  |             |  0.7s"
       ]
      },
      {
       "output_type": "stream",
       "stream": "stdout",
       "text": [
        "\n",
        "  1791  |    0.018515  |  \u001b[32m  0.016331\u001b[0m  |     1.133689  |             |  0.7s"
       ]
      },
      {
       "output_type": "stream",
       "stream": "stdout",
       "text": [
        "\n",
        "  1792  |    0.018603  |    0.016351  |     1.137713  |             |  0.7s"
       ]
      },
      {
       "output_type": "stream",
       "stream": "stdout",
       "text": [
        "\n",
        "  1793  |    0.018545  |  \u001b[32m  0.016310\u001b[0m  |     1.137029  |             |  0.7s"
       ]
      },
      {
       "output_type": "stream",
       "stream": "stdout",
       "text": [
        "\n",
        "  1794  |    0.018490  |    0.016347  |     1.131051  |             |  0.7s"
       ]
      },
      {
       "output_type": "stream",
       "stream": "stdout",
       "text": [
        "\n",
        "  1795  |    0.018638  |    0.016338  |     1.140793  |             |  0.7s"
       ]
      },
      {
       "output_type": "stream",
       "stream": "stdout",
       "text": [
        "\n",
        "  1796  |    0.018594  |    0.016343  |     1.137745  |             |  0.7s"
       ]
      },
      {
       "output_type": "stream",
       "stream": "stdout",
       "text": [
        "\n",
        "  1797  |    0.018443  |    0.016339  |     1.128739  |             |  0.7s"
       ]
      },
      {
       "output_type": "stream",
       "stream": "stdout",
       "text": [
        "\n",
        "  1798  |    0.018516  |    0.016315  |     1.134866  |             |  0.7s"
       ]
      },
      {
       "output_type": "stream",
       "stream": "stdout",
       "text": [
        "\n",
        "  1799  |    0.018583  |    0.016330  |     1.137995  |             |  0.7s"
       ]
      },
      {
       "output_type": "stream",
       "stream": "stdout",
       "text": [
        "\n",
        "  1800  |    0.018562  |  \u001b[32m  0.016299\u001b[0m  |     1.138851  |             |  0.7s"
       ]
      },
      {
       "output_type": "stream",
       "stream": "stdout",
       "text": [
        "\n",
        "  1801  |    0.018534  |    0.016314  |     1.136077  |             |  0.7s"
       ]
      },
      {
       "output_type": "stream",
       "stream": "stdout",
       "text": [
        "\n",
        "  1802  |    0.018575  |  \u001b[32m  0.016298\u001b[0m  |     1.139698  |             |  0.7s"
       ]
      },
      {
       "output_type": "stream",
       "stream": "stdout",
       "text": [
        "\n",
        "  1803  |    0.018594  |    0.016324  |     1.139004  |             |  0.7s"
       ]
      },
      {
       "output_type": "stream",
       "stream": "stdout",
       "text": [
        "\n",
        "  1804  |    0.018516  |    0.016354  |     1.132229  |             |  0.7s"
       ]
      },
      {
       "output_type": "stream",
       "stream": "stdout",
       "text": [
        "\n",
        "  1805  |    0.018573  |    0.016314  |     1.138443  |             |  0.7s"
       ]
      },
      {
       "output_type": "stream",
       "stream": "stdout",
       "text": [
        "\n",
        "  1806  |    0.018513  |    0.016304  |     1.135463  |             |  0.7s"
       ]
      },
      {
       "output_type": "stream",
       "stream": "stdout",
       "text": [
        "\n",
        "  1807  |    0.018471  |  \u001b[32m  0.016296\u001b[0m  |     1.133447  |             |  0.7s"
       ]
      },
      {
       "output_type": "stream",
       "stream": "stdout",
       "text": [
        "\n",
        "  1808  |    0.018497  |  \u001b[32m  0.016265\u001b[0m  |     1.137234  |             |  0.7s"
       ]
      },
      {
       "output_type": "stream",
       "stream": "stdout",
       "text": [
        "\n",
        "  1809  |    0.018578  |    0.016325  |     1.137997  |             |  0.7s"
       ]
      },
      {
       "output_type": "stream",
       "stream": "stdout",
       "text": [
        "\n",
        "  1810  |    0.018455  |    0.016323  |     1.130649  |             |  0.7s"
       ]
      },
      {
       "output_type": "stream",
       "stream": "stdout",
       "text": [
        "\n",
        "  1811  |    0.018483  |    0.016303  |     1.133741  |             |  0.7s"
       ]
      },
      {
       "output_type": "stream",
       "stream": "stdout",
       "text": [
        "\n",
        "  1812  |    0.018479  |    0.016311  |     1.132945  |             |  0.7s"
       ]
      },
      {
       "output_type": "stream",
       "stream": "stdout",
       "text": [
        "\n",
        "  1813  |    0.018500  |    0.016315  |     1.133879  |             |  0.7s"
       ]
      },
      {
       "output_type": "stream",
       "stream": "stdout",
       "text": [
        "\n",
        "  1814  |    0.018492  |    0.016318  |     1.133214  |             |  0.7s"
       ]
      },
      {
       "output_type": "stream",
       "stream": "stdout",
       "text": [
        "\n",
        "  1815  |    0.018498  |    0.016280  |     1.136250  |             |  0.7s"
       ]
      },
      {
       "output_type": "stream",
       "stream": "stdout",
       "text": [
        "\n",
        "  1816  |    0.018582  |    0.016311  |     1.139258  |             |  0.7s"
       ]
      },
      {
       "output_type": "stream",
       "stream": "stdout",
       "text": [
        "\n",
        "  1817  |    0.018525  |    0.016350  |     1.132985  |             |  0.7s"
       ]
      },
      {
       "output_type": "stream",
       "stream": "stdout",
       "text": [
        "\n",
        "  1818  |    0.018553  |  \u001b[32m  0.016258\u001b[0m  |     1.141139  |             |  0.7s"
       ]
      },
      {
       "output_type": "stream",
       "stream": "stdout",
       "text": [
        "\n",
        "  1819  |    0.018506  |    0.016261  |     1.138100  |             |  0.7s"
       ]
      },
      {
       "output_type": "stream",
       "stream": "stdout",
       "text": [
        "\n",
        "  1820  |    0.018537  |    0.016328  |     1.135299  |             |  0.7s"
       ]
      },
      {
       "output_type": "stream",
       "stream": "stdout",
       "text": [
        "\n",
        "  1821  |    0.018479  |    0.016292  |     1.134234  |             |  0.7s"
       ]
      },
      {
       "output_type": "stream",
       "stream": "stdout",
       "text": [
        "\n",
        "  1822  |  \u001b[94m  0.018383\u001b[0m  |    0.016274  |     1.129558  |             |  0.7s"
       ]
      },
      {
       "output_type": "stream",
       "stream": "stdout",
       "text": [
        "\n",
        "  1823  |    0.018496  |  \u001b[32m  0.016256\u001b[0m  |     1.137749  |             |  0.7s"
       ]
      },
      {
       "output_type": "stream",
       "stream": "stdout",
       "text": [
        "\n",
        "  1824  |    0.018433  |  \u001b[32m  0.016238\u001b[0m  |     1.135172  |             |  0.7s"
       ]
      },
      {
       "output_type": "stream",
       "stream": "stdout",
       "text": [
        "\n",
        "  1825  |    0.018419  |    0.016285  |     1.131041  |             |  0.7s"
       ]
      },
      {
       "output_type": "stream",
       "stream": "stdout",
       "text": [
        "\n",
        "  1826  |    0.018417  |    0.016310  |     1.129158  |             |  0.7s"
       ]
      },
      {
       "output_type": "stream",
       "stream": "stdout",
       "text": [
        "\n",
        "  1827  |    0.018401  |    0.016274  |     1.130705  |             |  0.7s"
       ]
      },
      {
       "output_type": "stream",
       "stream": "stdout",
       "text": [
        "\n",
        "  1828  |    0.018435  |    0.016324  |     1.129341  |             |  0.7s"
       ]
      },
      {
       "output_type": "stream",
       "stream": "stdout",
       "text": [
        "\n",
        "  1829  |    0.018493  |    0.016307  |     1.134070  |             |  0.7s"
       ]
      },
      {
       "output_type": "stream",
       "stream": "stdout",
       "text": [
        "\n",
        "  1830  |    0.018475  |    0.016262  |     1.136072  |             |  0.7s"
       ]
      },
      {
       "output_type": "stream",
       "stream": "stdout",
       "text": [
        "\n",
        "  1831  |    0.018578  |    0.016273  |     1.141640  |             |  0.7s"
       ]
      },
      {
       "output_type": "stream",
       "stream": "stdout",
       "text": [
        "\n",
        "  1832  |    0.018442  |    0.016285  |     1.132463  |             |  0.7s"
       ]
      },
      {
       "output_type": "stream",
       "stream": "stdout",
       "text": [
        "\n",
        "  1833  |    0.018469  |    0.016280  |     1.134461  |             |  0.7s"
       ]
      },
      {
       "output_type": "stream",
       "stream": "stdout",
       "text": [
        "\n",
        "  1834  |    0.018501  |  \u001b[32m  0.016236\u001b[0m  |     1.139505  |             |  0.7s"
       ]
      },
      {
       "output_type": "stream",
       "stream": "stdout",
       "text": [
        "\n",
        "  1835  |    0.018402  |    0.016266  |     1.131324  |             |  0.7s"
       ]
      },
      {
       "output_type": "stream",
       "stream": "stdout",
       "text": [
        "\n",
        "  1836  |    0.018488  |    0.016266  |     1.136647  |             |  0.7s"
       ]
      },
      {
       "output_type": "stream",
       "stream": "stdout",
       "text": [
        "\n",
        "  1837  |    0.018444  |  \u001b[32m  0.016228\u001b[0m  |     1.136546  |             |  0.7s"
       ]
      },
      {
       "output_type": "stream",
       "stream": "stdout",
       "text": [
        "\n",
        "  1838  |    0.018482  |    0.016258  |     1.136778  |             |  0.7s"
       ]
      },
      {
       "output_type": "stream",
       "stream": "stdout",
       "text": [
        "\n",
        "  1839  |    0.018416  |    0.016239  |     1.134075  |             |  0.7s"
       ]
      },
      {
       "output_type": "stream",
       "stream": "stdout",
       "text": [
        "\n",
        "  1840  |    0.018472  |    0.016253  |     1.136560  |             |  0.7s"
       ]
      },
      {
       "output_type": "stream",
       "stream": "stdout",
       "text": [
        "\n",
        "  1841  |    0.018529  |    0.016246  |     1.140564  |             |  0.7s"
       ]
      },
      {
       "output_type": "stream",
       "stream": "stdout",
       "text": [
        "\n",
        "  1842  |  \u001b[94m  0.018342\u001b[0m  |    0.016269  |     1.127440  |             |  0.7s"
       ]
      },
      {
       "output_type": "stream",
       "stream": "stdout",
       "text": [
        "\n",
        "  1843  |    0.018463  |  \u001b[32m  0.016216\u001b[0m  |     1.138515  |             |  0.7s"
       ]
      },
      {
       "output_type": "stream",
       "stream": "stdout",
       "text": [
        "\n",
        "  1844  |    0.018419  |    0.016277  |     1.131588  |             |  0.7s"
       ]
      },
      {
       "output_type": "stream",
       "stream": "stdout",
       "text": [
        "\n",
        "  1845  |    0.018388  |    0.016257  |     1.131092  |             |  0.7s"
       ]
      },
      {
       "output_type": "stream",
       "stream": "stdout",
       "text": [
        "\n",
        "  1846  |    0.018436  |    0.016235  |     1.135564  |             |  0.7s"
       ]
      },
      {
       "output_type": "stream",
       "stream": "stdout",
       "text": [
        "\n",
        "  1847  |    0.018481  |    0.016224  |     1.139122  |             |  0.7s"
       ]
      },
      {
       "output_type": "stream",
       "stream": "stdout",
       "text": [
        "\n",
        "  1848  |    0.018457  |    0.016238  |     1.136603  |             |  0.7s"
       ]
      },
      {
       "output_type": "stream",
       "stream": "stdout",
       "text": [
        "\n",
        "  1849  |    0.018386  |    0.016248  |     1.131589  |             |  0.7s"
       ]
      },
      {
       "output_type": "stream",
       "stream": "stdout",
       "text": [
        "\n",
        "  1850  |    0.018392  |    0.016228  |     1.133379  |             |  0.7s"
       ]
      },
      {
       "output_type": "stream",
       "stream": "stdout",
       "text": [
        "\n",
        "  1851  |    0.018496  |    0.016233  |     1.139390  |             |  0.7s"
       ]
      },
      {
       "output_type": "stream",
       "stream": "stdout",
       "text": [
        "\n",
        "  1852  |    0.018420  |    0.016230  |     1.134910  |             |  0.7s"
       ]
      },
      {
       "output_type": "stream",
       "stream": "stdout",
       "text": [
        "\n",
        "  1853  |    0.018466  |  \u001b[32m  0.016173\u001b[0m  |     1.141786  |             |  0.7s"
       ]
      },
      {
       "output_type": "stream",
       "stream": "stdout",
       "text": [
        "\n",
        "  1854  |    0.018364  |    0.016241  |     1.130709  |             |  0.7s"
       ]
      },
      {
       "output_type": "stream",
       "stream": "stdout",
       "text": [
        "\n",
        "  1855  |    0.018419  |    0.016224  |     1.135273  |             |  0.7s"
       ]
      },
      {
       "output_type": "stream",
       "stream": "stdout",
       "text": [
        "\n",
        "  1856  |    0.018362  |    0.016240  |     1.130668  |             |  0.7s"
       ]
      },
      {
       "output_type": "stream",
       "stream": "stdout",
       "text": [
        "\n",
        "  1857  |  \u001b[94m  0.018295\u001b[0m  |    0.016205  |     1.128984  |             |  0.7s"
       ]
      },
      {
       "output_type": "stream",
       "stream": "stdout",
       "text": [
        "\n",
        "  1858  |    0.018339  |    0.016201  |     1.131976  |             |  0.7s"
       ]
      },
      {
       "output_type": "stream",
       "stream": "stdout",
       "text": [
        "\n",
        "  1859  |    0.018520  |    0.016226  |     1.141425  |             |  0.7s"
       ]
      },
      {
       "output_type": "stream",
       "stream": "stdout",
       "text": [
        "\n",
        "  1860  |    0.018435  |    0.016177  |     1.139557  |             |  0.7s"
       ]
      },
      {
       "output_type": "stream",
       "stream": "stdout",
       "text": [
        "\n",
        "  1861  |    0.018479  |    0.016235  |     1.138217  |             |  0.7s"
       ]
      },
      {
       "output_type": "stream",
       "stream": "stdout",
       "text": [
        "\n",
        "  1862  |    0.018423  |    0.016215  |     1.136193  |             |  0.7s"
       ]
      },
      {
       "output_type": "stream",
       "stream": "stdout",
       "text": [
        "\n",
        "  1863  |    0.018414  |    0.016244  |     1.133581  |             |  0.7s"
       ]
      },
      {
       "output_type": "stream",
       "stream": "stdout",
       "text": [
        "\n",
        "  1864  |    0.018372  |    0.016242  |     1.131088  |             |  0.7s"
       ]
      },
      {
       "output_type": "stream",
       "stream": "stdout",
       "text": [
        "\n",
        "  1865  |    0.018500  |    0.016210  |     1.141275  |             |  0.7s"
       ]
      },
      {
       "output_type": "stream",
       "stream": "stdout",
       "text": [
        "\n",
        "  1866  |    0.018374  |    0.016198  |     1.134346  |             |  0.7s"
       ]
      },
      {
       "output_type": "stream",
       "stream": "stdout",
       "text": [
        "\n",
        "  1867  |    0.018449  |    0.016221  |     1.137346  |             |  0.7s"
       ]
      },
      {
       "output_type": "stream",
       "stream": "stdout",
       "text": [
        "\n",
        "  1868  |    0.018502  |    0.016194  |     1.142542  |             |  0.7s"
       ]
      },
      {
       "output_type": "stream",
       "stream": "stdout",
       "text": [
        "\n",
        "  1869  |    0.018388  |    0.016213  |     1.134115  |             |  0.7s"
       ]
      },
      {
       "output_type": "stream",
       "stream": "stdout",
       "text": [
        "\n",
        "  1870  |    0.018331  |    0.016216  |     1.130415  |             |  0.7s"
       ]
      },
      {
       "output_type": "stream",
       "stream": "stdout",
       "text": [
        "\n",
        "  1871  |    0.018393  |    0.016212  |     1.134565  |             |  0.7s"
       ]
      },
      {
       "output_type": "stream",
       "stream": "stdout",
       "text": [
        "\n",
        "  1872  |    0.018437  |    0.016175  |     1.139861  |             |  0.7s"
       ]
      },
      {
       "output_type": "stream",
       "stream": "stdout",
       "text": [
        "\n",
        "  1873  |    0.018330  |  \u001b[32m  0.016163\u001b[0m  |     1.134114  |             |  0.7s"
       ]
      },
      {
       "output_type": "stream",
       "stream": "stdout",
       "text": [
        "\n",
        "  1874  |    0.018382  |    0.016203  |     1.134484  |             |  0.7s"
       ]
      },
      {
       "output_type": "stream",
       "stream": "stdout",
       "text": [
        "\n",
        "  1875  |    0.018373  |  \u001b[32m  0.016162\u001b[0m  |     1.136802  |             |  0.7s"
       ]
      },
      {
       "output_type": "stream",
       "stream": "stdout",
       "text": [
        "\n",
        "  1876  |    0.018332  |    0.016241  |     1.128723  |             |  0.7s"
       ]
      },
      {
       "output_type": "stream",
       "stream": "stdout",
       "text": [
        "\n",
        "  1877  |  \u001b[94m  0.018250\u001b[0m  |    0.016180  |     1.127933  |             |  0.7s"
       ]
      },
      {
       "output_type": "stream",
       "stream": "stdout",
       "text": [
        "\n",
        "  1878  |    0.018323  |    0.016200  |     1.131012  |             |  0.7s"
       ]
      },
      {
       "output_type": "stream",
       "stream": "stdout",
       "text": [
        "\n",
        "  1879  |    0.018300  |    0.016192  |     1.130212  |             |  0.7s"
       ]
      },
      {
       "output_type": "stream",
       "stream": "stdout",
       "text": [
        "\n",
        "  1880  |    0.018373  |    0.016204  |     1.133856  |             |  0.7s"
       ]
      },
      {
       "output_type": "stream",
       "stream": "stdout",
       "text": [
        "\n",
        "  1881  |    0.018394  |  \u001b[32m  0.016161\u001b[0m  |     1.138166  |             |  0.7s"
       ]
      },
      {
       "output_type": "stream",
       "stream": "stdout",
       "text": [
        "\n",
        "  1882  |    0.018287  |  \u001b[32m  0.016142\u001b[0m  |     1.132894  |             |  0.7s"
       ]
      },
      {
       "output_type": "stream",
       "stream": "stdout",
       "text": [
        "\n",
        "  1883  |    0.018381  |    0.016185  |     1.135683  |             |  0.7s"
       ]
      },
      {
       "output_type": "stream",
       "stream": "stdout",
       "text": [
        "\n",
        "  1884  |    0.018312  |    0.016179  |     1.131803  |             |  0.7s"
       ]
      },
      {
       "output_type": "stream",
       "stream": "stdout",
       "text": [
        "\n",
        "  1885  |    0.018410  |    0.016193  |     1.136931  |             |  0.7s"
       ]
      },
      {
       "output_type": "stream",
       "stream": "stdout",
       "text": [
        "\n",
        "  1886  |    0.018372  |    0.016159  |     1.136988  |             |  0.7s"
       ]
      },
      {
       "output_type": "stream",
       "stream": "stdout",
       "text": [
        "\n",
        "  1887  |    0.018316  |    0.016176  |     1.132326  |             |  0.7s"
       ]
      },
      {
       "output_type": "stream",
       "stream": "stdout",
       "text": [
        "\n",
        "  1888  |    0.018332  |    0.016187  |     1.132541  |             |  0.7s"
       ]
      },
      {
       "output_type": "stream",
       "stream": "stdout",
       "text": [
        "\n",
        "  1889  |    0.018345  |    0.016180  |     1.133855  |             |  0.7s"
       ]
      },
      {
       "output_type": "stream",
       "stream": "stdout",
       "text": [
        "\n",
        "  1890  |    0.018349  |    0.016159  |     1.135515  |             |  0.7s"
       ]
      },
      {
       "output_type": "stream",
       "stream": "stdout",
       "text": [
        "\n",
        "  1891  |    0.018250  |    0.016167  |     1.128846  |             |  0.7s"
       ]
      },
      {
       "output_type": "stream",
       "stream": "stdout",
       "text": [
        "\n",
        "  1892  |    0.018337  |    0.016194  |     1.132300  |             |  0.7s"
       ]
      },
      {
       "output_type": "stream",
       "stream": "stdout",
       "text": [
        "\n",
        "  1893  |    0.018401  |    0.016212  |     1.135053  |             |  0.7s"
       ]
      },
      {
       "output_type": "stream",
       "stream": "stdout",
       "text": [
        "\n",
        "  1894  |    0.018390  |    0.016160  |     1.137956  |             |  0.7s"
       ]
      },
      {
       "output_type": "stream",
       "stream": "stdout",
       "text": [
        "\n",
        "  1895  |    0.018330  |  \u001b[32m  0.016120\u001b[0m  |     1.137098  |             |  0.7s"
       ]
      },
      {
       "output_type": "stream",
       "stream": "stdout",
       "text": [
        "\n",
        "  1896  |  \u001b[94m  0.018246\u001b[0m  |    0.016135  |     1.130784  |             |  0.7s"
       ]
      },
      {
       "output_type": "stream",
       "stream": "stdout",
       "text": [
        "\n",
        "  1897  |    0.018362  |    0.016131  |     1.138311  |             |  0.7s"
       ]
      },
      {
       "output_type": "stream",
       "stream": "stdout",
       "text": [
        "\n",
        "  1898  |    0.018296  |    0.016170  |     1.131480  |             |  0.7s"
       ]
      },
      {
       "output_type": "stream",
       "stream": "stdout",
       "text": [
        "\n",
        "  1899  |    0.018374  |    0.016176  |     1.135849  |             |  0.7s"
       ]
      },
      {
       "output_type": "stream",
       "stream": "stdout",
       "text": [
        "\n",
        "  1900  |  \u001b[94m  0.018222\u001b[0m  |    0.016162  |     1.127486  |             |  0.7s"
       ]
      },
      {
       "output_type": "stream",
       "stream": "stdout",
       "text": [
        "\n",
        "  1901  |  \u001b[94m  0.018200\u001b[0m  |    0.016203  |     1.123221  |             |  0.7s"
       ]
      },
      {
       "output_type": "stream",
       "stream": "stdout",
       "text": [
        "\n",
        "  1902  |    0.018317  |    0.016188  |     1.131515  |             |  0.7s"
       ]
      },
      {
       "output_type": "stream",
       "stream": "stdout",
       "text": [
        "\n",
        "  1903  |    0.018270  |    0.016155  |     1.130909  |             |  0.7s"
       ]
      },
      {
       "output_type": "stream",
       "stream": "stdout",
       "text": [
        "\n",
        "  1904  |    0.018446  |    0.016136  |     1.143201  |             |  0.7s"
       ]
      },
      {
       "output_type": "stream",
       "stream": "stdout",
       "text": [
        "\n",
        "  1905  |    0.018285  |    0.016155  |     1.131870  |             |  0.7s"
       ]
      },
      {
       "output_type": "stream",
       "stream": "stdout",
       "text": [
        "\n",
        "  1906  |    0.018215  |    0.016132  |     1.129158  |             |  0.7s"
       ]
      },
      {
       "output_type": "stream",
       "stream": "stdout",
       "text": [
        "\n",
        "  1907  |    0.018306  |    0.016130  |     1.134895  |             |  0.7s"
       ]
      },
      {
       "output_type": "stream",
       "stream": "stdout",
       "text": [
        "\n",
        "  1908  |    0.018366  |    0.016156  |     1.136838  |             |  0.7s"
       ]
      },
      {
       "output_type": "stream",
       "stream": "stdout",
       "text": [
        "\n",
        "  1909  |    0.018272  |    0.016134  |     1.132461  |             |  0.7s"
       ]
      },
      {
       "output_type": "stream",
       "stream": "stdout",
       "text": [
        "\n",
        "  1910  |    0.018358  |    0.016152  |     1.136539  |             |  0.7s"
       ]
      },
      {
       "output_type": "stream",
       "stream": "stdout",
       "text": [
        "\n",
        "  1911  |    0.018327  |    0.016127  |     1.136398  |             |  0.7s"
       ]
      },
      {
       "output_type": "stream",
       "stream": "stdout",
       "text": [
        "\n",
        "  1912  |    0.018324  |    0.016135  |     1.135688  |             |  0.7s"
       ]
      },
      {
       "output_type": "stream",
       "stream": "stdout",
       "text": [
        "\n",
        "  1913  |    0.018354  |    0.016154  |     1.136171  |             |  0.7s"
       ]
      },
      {
       "output_type": "stream",
       "stream": "stdout",
       "text": [
        "\n",
        "  1914  |    0.018301  |  \u001b[32m  0.016085\u001b[0m  |     1.137769  |             |  0.7s"
       ]
      },
      {
       "output_type": "stream",
       "stream": "stdout",
       "text": [
        "\n",
        "  1915  |    0.018290  |    0.016107  |     1.135527  |             |  0.7s"
       ]
      },
      {
       "output_type": "stream",
       "stream": "stdout",
       "text": [
        "\n",
        "  1916  |    0.018222  |    0.016143  |     1.128803  |             |  0.7s"
       ]
      },
      {
       "output_type": "stream",
       "stream": "stdout",
       "text": [
        "\n",
        "  1917  |    0.018347  |    0.016127  |     1.137675  |             |  0.7s"
       ]
      },
      {
       "output_type": "stream",
       "stream": "stdout",
       "text": [
        "\n",
        "  1918  |    0.018243  |    0.016167  |     1.128415  |             |  0.7s"
       ]
      },
      {
       "output_type": "stream",
       "stream": "stdout",
       "text": [
        "\n",
        "  1919  |    0.018204  |    0.016118  |     1.129377  |             |  0.7s"
       ]
      },
      {
       "output_type": "stream",
       "stream": "stdout",
       "text": [
        "\n",
        "  1920  |    0.018320  |    0.016142  |     1.134945  |             |  0.7s"
       ]
      },
      {
       "output_type": "stream",
       "stream": "stdout",
       "text": [
        "\n",
        "  1921  |    0.018299  |    0.016106  |     1.136176  |             |  0.7s"
       ]
      },
      {
       "output_type": "stream",
       "stream": "stdout",
       "text": [
        "\n",
        "  1922  |    0.018210  |    0.016107  |     1.130532  |             |  0.7s"
       ]
      },
      {
       "output_type": "stream",
       "stream": "stdout",
       "text": [
        "\n",
        "  1923  |  \u001b[94m  0.018186\u001b[0m  |    0.016149  |     1.126093  |             |  0.7s"
       ]
      },
      {
       "output_type": "stream",
       "stream": "stdout",
       "text": [
        "\n",
        "  1924  |    0.018270  |  \u001b[32m  0.016081\u001b[0m  |     1.136134  |             |  0.7s"
       ]
      },
      {
       "output_type": "stream",
       "stream": "stdout",
       "text": [
        "\n",
        "  1925  |    0.018199  |    0.016104  |     1.130113  |             |  0.7s"
       ]
      },
      {
       "output_type": "stream",
       "stream": "stdout",
       "text": [
        "\n",
        "  1926  |    0.018333  |    0.016119  |     1.137363  |             |  0.7s"
       ]
      },
      {
       "output_type": "stream",
       "stream": "stdout",
       "text": [
        "\n",
        "  1927  |    0.018333  |    0.016131  |     1.136505  |             |  0.7s"
       ]
      },
      {
       "output_type": "stream",
       "stream": "stdout",
       "text": [
        "\n",
        "  1928  |    0.018271  |    0.016113  |     1.133953  |             |  0.7s"
       ]
      },
      {
       "output_type": "stream",
       "stream": "stdout",
       "text": [
        "\n",
        "  1929  |    0.018255  |    0.016101  |     1.133772  |             |  0.7s"
       ]
      },
      {
       "output_type": "stream",
       "stream": "stdout",
       "text": [
        "\n",
        "  1930  |  \u001b[94m  0.018150\u001b[0m  |    0.016106  |     1.126950  |             |  0.7s"
       ]
      },
      {
       "output_type": "stream",
       "stream": "stdout",
       "text": [
        "\n",
        "  1931  |    0.018257  |    0.016104  |     1.133725  |             |  0.7s"
       ]
      },
      {
       "output_type": "stream",
       "stream": "stdout",
       "text": [
        "\n",
        "  1932  |    0.018343  |    0.016090  |     1.140040  |             |  0.7s"
       ]
      },
      {
       "output_type": "stream",
       "stream": "stdout",
       "text": [
        "\n",
        "  1933  |    0.018283  |  \u001b[32m  0.016061\u001b[0m  |     1.138359  |             |  0.7s"
       ]
      },
      {
       "output_type": "stream",
       "stream": "stdout",
       "text": [
        "\n",
        "  1934  |    0.018236  |    0.016103  |     1.132467  |             |  0.7s"
       ]
      },
      {
       "output_type": "stream",
       "stream": "stdout",
       "text": [
        "\n",
        "  1935  |    0.018184  |    0.016080  |     1.130871  |             |  0.7s"
       ]
      },
      {
       "output_type": "stream",
       "stream": "stdout",
       "text": [
        "\n",
        "  1936  |    0.018272  |    0.016075  |     1.136646  |             |  0.7s"
       ]
      },
      {
       "output_type": "stream",
       "stream": "stdout",
       "text": [
        "\n",
        "  1937  |    0.018265  |  \u001b[32m  0.016029\u001b[0m  |     1.139473  |             |  0.7s"
       ]
      },
      {
       "output_type": "stream",
       "stream": "stdout",
       "text": [
        "\n",
        "  1938  |    0.018201  |    0.016054  |     1.133720  |             |  0.7s"
       ]
      },
      {
       "output_type": "stream",
       "stream": "stdout",
       "text": [
        "\n",
        "  1939  |    0.018317  |    0.016086  |     1.138700  |             |  0.7s"
       ]
      },
      {
       "output_type": "stream",
       "stream": "stdout",
       "text": [
        "\n",
        "  1940  |    0.018331  |    0.016047  |     1.142387  |             |  0.7s"
       ]
      },
      {
       "output_type": "stream",
       "stream": "stdout",
       "text": [
        "\n",
        "  1941  |    0.018335  |    0.016064  |     1.141306  |             |  0.7s"
       ]
      },
      {
       "output_type": "stream",
       "stream": "stdout",
       "text": [
        "\n",
        "  1942  |    0.018196  |    0.016053  |     1.133544  |             |  0.7s"
       ]
      },
      {
       "output_type": "stream",
       "stream": "stdout",
       "text": [
        "\n",
        "  1943  |    0.018192  |    0.016106  |     1.129526  |             |  0.7s"
       ]
      },
      {
       "output_type": "stream",
       "stream": "stdout",
       "text": [
        "\n",
        "  1944  |    0.018276  |    0.016083  |     1.136296  |             |  0.7s"
       ]
      },
      {
       "output_type": "stream",
       "stream": "stdout",
       "text": [
        "\n",
        "  1945  |    0.018320  |    0.016049  |     1.141536  |             |  0.7s"
       ]
      },
      {
       "output_type": "stream",
       "stream": "stdout",
       "text": [
        "\n",
        "  1946  |    0.018191  |    0.016058  |     1.132789  |             |  0.7s"
       ]
      },
      {
       "output_type": "stream",
       "stream": "stdout",
       "text": [
        "\n",
        "  1947  |    0.018223  |    0.016058  |     1.134826  |             |  0.7s"
       ]
      },
      {
       "output_type": "stream",
       "stream": "stdout",
       "text": [
        "\n",
        "  1948  |    0.018187  |    0.016105  |     1.129259  |             |  0.7s"
       ]
      },
      {
       "output_type": "stream",
       "stream": "stdout",
       "text": [
        "\n",
        "  1949  |    0.018267  |    0.016108  |     1.134066  |             |  0.7s"
       ]
      },
      {
       "output_type": "stream",
       "stream": "stdout",
       "text": [
        "\n",
        "  1950  |    0.018271  |    0.016061  |     1.137569  |             |  0.7s"
       ]
      },
      {
       "output_type": "stream",
       "stream": "stdout",
       "text": [
        "\n",
        "  1951  |  \u001b[94m  0.018124\u001b[0m  |    0.016060  |     1.128576  |             |  0.7s"
       ]
      },
      {
       "output_type": "stream",
       "stream": "stdout",
       "text": [
        "\n",
        "  1952  |    0.018226  |  \u001b[32m  0.016014\u001b[0m  |     1.138088  |             |  0.7s"
       ]
      },
      {
       "output_type": "stream",
       "stream": "stdout",
       "text": [
        "\n",
        "  1953  |    0.018275  |    0.016039  |     1.139362  |             |  0.7s"
       ]
      },
      {
       "output_type": "stream",
       "stream": "stdout",
       "text": [
        "\n",
        "  1954  |    0.018254  |    0.016052  |     1.137140  |             |  0.7s"
       ]
      },
      {
       "output_type": "stream",
       "stream": "stdout",
       "text": [
        "\n",
        "  1955  |    0.018266  |    0.016052  |     1.137928  |             |  0.7s"
       ]
      },
      {
       "output_type": "stream",
       "stream": "stdout",
       "text": [
        "\n",
        "  1956  |    0.018193  |    0.016079  |     1.131474  |             |  0.7s"
       ]
      },
      {
       "output_type": "stream",
       "stream": "stdout",
       "text": [
        "\n",
        "  1957  |    0.018206  |    0.016080  |     1.132165  |             |  0.7s"
       ]
      },
      {
       "output_type": "stream",
       "stream": "stdout",
       "text": [
        "\n",
        "  1958  |    0.018215  |    0.016080  |     1.132792  |             |  0.7s"
       ]
      },
      {
       "output_type": "stream",
       "stream": "stdout",
       "text": [
        "\n",
        "  1959  |    0.018310  |    0.016059  |     1.140212  |             |  0.7s"
       ]
      },
      {
       "output_type": "stream",
       "stream": "stdout",
       "text": [
        "\n",
        "  1960  |  \u001b[94m  0.018120\u001b[0m  |    0.016038  |     1.129794  |             |  0.7s"
       ]
      },
      {
       "output_type": "stream",
       "stream": "stdout",
       "text": [
        "\n",
        "  1961  |    0.018223  |    0.016049  |     1.135444  |             |  0.7s"
       ]
      },
      {
       "output_type": "stream",
       "stream": "stdout",
       "text": [
        "\n",
        "  1962  |    0.018311  |    0.016020  |     1.142971  |             |  0.7s"
       ]
      },
      {
       "output_type": "stream",
       "stream": "stdout",
       "text": [
        "\n",
        "  1963  |    0.018160  |    0.016023  |     1.133383  |             |  0.7s"
       ]
      },
      {
       "output_type": "stream",
       "stream": "stdout",
       "text": [
        "\n",
        "  1964  |    0.018143  |    0.016053  |     1.130183  |             |  0.7s"
       ]
      },
      {
       "output_type": "stream",
       "stream": "stdout",
       "text": [
        "\n",
        "  1965  |    0.018254  |    0.016024  |     1.139184  |             |  0.7s"
       ]
      },
      {
       "output_type": "stream",
       "stream": "stdout",
       "text": [
        "\n",
        "  1966  |    0.018152  |  \u001b[32m  0.016012\u001b[0m  |     1.133654  |             |  0.7s"
       ]
      },
      {
       "output_type": "stream",
       "stream": "stdout",
       "text": [
        "\n",
        "  1967  |    0.018151  |    0.016044  |     1.131310  |             |  0.7s"
       ]
      },
      {
       "output_type": "stream",
       "stream": "stdout",
       "text": [
        "\n",
        "  1968  |  \u001b[94m  0.018117\u001b[0m  |    0.016079  |     1.126779  |             |  0.7s"
       ]
      },
      {
       "output_type": "stream",
       "stream": "stdout",
       "text": [
        "\n",
        "  1969  |    0.018268  |  \u001b[32m  0.015995\u001b[0m  |     1.142114  |             |  0.7s"
       ]
      },
      {
       "output_type": "stream",
       "stream": "stdout",
       "text": [
        "\n",
        "  1970  |    0.018171  |    0.016006  |     1.135284  |             |  0.7s"
       ]
      },
      {
       "output_type": "stream",
       "stream": "stdout",
       "text": [
        "\n",
        "  1971  |    0.018124  |    0.016028  |     1.130754  |             |  0.7s"
       ]
      },
      {
       "output_type": "stream",
       "stream": "stdout",
       "text": [
        "\n",
        "  1972  |    0.018200  |    0.016018  |     1.136222  |             |  0.7s"
       ]
      },
      {
       "output_type": "stream",
       "stream": "stdout",
       "text": [
        "\n",
        "  1973  |  \u001b[94m  0.018100\u001b[0m  |    0.016051  |     1.127685  |             |  0.7s"
       ]
      },
      {
       "output_type": "stream",
       "stream": "stdout",
       "text": [
        "\n",
        "  1974  |    0.018103  |    0.016057  |     1.127417  |             |  0.7s"
       ]
      },
      {
       "output_type": "stream",
       "stream": "stdout",
       "text": [
        "\n",
        "  1975  |  \u001b[94m  0.018075\u001b[0m  |    0.016014  |     1.128662  |             |  0.7s"
       ]
      },
      {
       "output_type": "stream",
       "stream": "stdout",
       "text": [
        "\n",
        "  1976  |    0.018123  |    0.016088  |     1.126515  |             |  0.7s"
       ]
      },
      {
       "output_type": "stream",
       "stream": "stdout",
       "text": [
        "\n",
        "  1977  |    0.018155  |    0.016028  |     1.132669  |             |  0.7s"
       ]
      },
      {
       "output_type": "stream",
       "stream": "stdout",
       "text": [
        "\n",
        "  1978  |    0.018206  |    0.016040  |     1.135053  |             |  0.7s"
       ]
      },
      {
       "output_type": "stream",
       "stream": "stdout",
       "text": [
        "\n",
        "  1979  |    0.018161  |    0.016008  |     1.134489  |             |  0.7s"
       ]
      },
      {
       "output_type": "stream",
       "stream": "stdout",
       "text": [
        "\n",
        "  1980  |    0.018131  |    0.016012  |     1.132333  |             |  0.7s"
       ]
      },
      {
       "output_type": "stream",
       "stream": "stdout",
       "text": [
        "\n",
        "  1981  |    0.018133  |    0.016038  |     1.130634  |             |  0.7s"
       ]
      },
      {
       "output_type": "stream",
       "stream": "stdout",
       "text": [
        "\n",
        "  1982  |    0.018182  |    0.016013  |     1.135493  |             |  0.7s"
       ]
      },
      {
       "output_type": "stream",
       "stream": "stdout",
       "text": [
        "\n",
        "  1983  |    0.018193  |  \u001b[32m  0.015985\u001b[0m  |     1.138179  |             |  0.7s"
       ]
      },
      {
       "output_type": "stream",
       "stream": "stdout",
       "text": [
        "\n",
        "  1984  |    0.018176  |  \u001b[32m  0.015982\u001b[0m  |     1.137283  |             |  0.7s"
       ]
      },
      {
       "output_type": "stream",
       "stream": "stdout",
       "text": [
        "\n",
        "  1985  |    0.018167  |    0.016002  |     1.135281  |             |  0.7s"
       ]
      },
      {
       "output_type": "stream",
       "stream": "stdout",
       "text": [
        "\n",
        "  1986  |    0.018299  |    0.016063  |     1.139173  |             |  0.7s"
       ]
      },
      {
       "output_type": "stream",
       "stream": "stdout",
       "text": [
        "\n",
        "  1987  |  \u001b[94m  0.018059\u001b[0m  |    0.016035  |     1.126284  |             |  0.7s"
       ]
      },
      {
       "output_type": "stream",
       "stream": "stdout",
       "text": [
        "\n",
        "  1988  |    0.018214  |    0.016023  |     1.136756  |             |  0.7s"
       ]
      },
      {
       "output_type": "stream",
       "stream": "stdout",
       "text": [
        "\n",
        "  1989  |    0.018117  |    0.016010  |     1.131598  |             |  0.7s"
       ]
      },
      {
       "output_type": "stream",
       "stream": "stdout",
       "text": [
        "\n",
        "  1990  |    0.018113  |    0.016057  |     1.128034  |             |  0.7s"
       ]
      },
      {
       "output_type": "stream",
       "stream": "stdout",
       "text": [
        "\n",
        "  1991  |    0.018140  |    0.015995  |     1.134101  |             |  0.7s"
       ]
      },
      {
       "output_type": "stream",
       "stream": "stdout",
       "text": [
        "\n",
        "  1992  |  \u001b[94m  0.018058\u001b[0m  |    0.016021  |     1.127157  |             |  0.7s"
       ]
      },
      {
       "output_type": "stream",
       "stream": "stdout",
       "text": [
        "\n",
        "  1993  |  \u001b[94m  0.017964\u001b[0m  |    0.016029  |     1.120662  |             |  0.7s"
       ]
      },
      {
       "output_type": "stream",
       "stream": "stdout",
       "text": [
        "\n",
        "  1994  |    0.018118  |    0.016010  |     1.131677  |             |  0.7s"
       ]
      },
      {
       "output_type": "stream",
       "stream": "stdout",
       "text": [
        "\n",
        "  1995  |    0.018067  |    0.015986  |     1.130162  |             |  0.7s"
       ]
      },
      {
       "output_type": "stream",
       "stream": "stdout",
       "text": [
        "\n",
        "  1996  |    0.018273  |    0.015995  |     1.142421  |             |  0.7s"
       ]
      },
      {
       "output_type": "stream",
       "stream": "stdout",
       "text": [
        "\n",
        "  1997  |    0.018053  |    0.015989  |     1.129063  |             |  0.7s"
       ]
      },
      {
       "output_type": "stream",
       "stream": "stdout",
       "text": [
        "\n",
        "  1998  |    0.018132  |    0.016029  |     1.131244  |             |  0.7s"
       ]
      },
      {
       "output_type": "stream",
       "stream": "stdout",
       "text": [
        "\n",
        "  1999  |    0.018104  |    0.015983  |     1.132694  |             |  0.7s"
       ]
      },
      {
       "output_type": "stream",
       "stream": "stdout",
       "text": [
        "\n",
        "  2000  |    0.018142  |    0.016004  |     1.133613  |             |  0.7s"
       ]
      },
      {
       "output_type": "stream",
       "stream": "stdout",
       "text": [
        "\n",
        "  2001  |    0.018099  |    0.015990  |     1.131895  |             |  0.7s"
       ]
      },
      {
       "output_type": "stream",
       "stream": "stdout",
       "text": [
        "\n",
        "  2002  |    0.018092  |  \u001b[32m  0.015973\u001b[0m  |     1.132645  |             |  0.7s"
       ]
      },
      {
       "output_type": "stream",
       "stream": "stdout",
       "text": [
        "\n",
        "  2003  |    0.018033  |  \u001b[32m  0.015948\u001b[0m  |     1.130724  |             |  0.7s"
       ]
      },
      {
       "output_type": "stream",
       "stream": "stdout",
       "text": [
        "\n",
        "  2004  |    0.018085  |    0.016028  |     1.128344  |             |  0.7s"
       ]
      },
      {
       "output_type": "stream",
       "stream": "stdout",
       "text": [
        "\n",
        "  2005  |    0.018085  |    0.015968  |     1.132601  |             |  0.7s"
       ]
      },
      {
       "output_type": "stream",
       "stream": "stdout",
       "text": [
        "\n",
        "  2006  |    0.018096  |    0.015951  |     1.134444  |             |  0.7s"
       ]
      },
      {
       "output_type": "stream",
       "stream": "stdout",
       "text": [
        "\n",
        "  2007  |    0.018016  |    0.015953  |     1.129322  |             |  0.7s"
       ]
      },
      {
       "output_type": "stream",
       "stream": "stdout",
       "text": [
        "\n",
        "  2008  |    0.018109  |    0.015971  |     1.133907  |             |  0.7s"
       ]
      },
      {
       "output_type": "stream",
       "stream": "stdout",
       "text": [
        "\n",
        "  2009  |    0.018109  |    0.015970  |     1.133987  |             |  0.7s"
       ]
      },
      {
       "output_type": "stream",
       "stream": "stdout",
       "text": [
        "\n",
        "  2010  |    0.018109  |    0.015959  |     1.134727  |             |  0.7s"
       ]
      },
      {
       "output_type": "stream",
       "stream": "stdout",
       "text": [
        "\n",
        "  2011  |    0.018142  |    0.015980  |     1.135310  |             |  0.7s"
       ]
      },
      {
       "output_type": "stream",
       "stream": "stdout",
       "text": [
        "\n",
        "  2012  |    0.018050  |    0.015967  |     1.130472  |             |  0.7s"
       ]
      },
      {
       "output_type": "stream",
       "stream": "stdout",
       "text": [
        "\n",
        "  2013  |    0.018155  |    0.016000  |     1.134652  |             |  0.7s"
       ]
      },
      {
       "output_type": "stream",
       "stream": "stdout",
       "text": [
        "\n",
        "  2014  |    0.018102  |    0.015975  |     1.133083  |             |  0.7s"
       ]
      },
      {
       "output_type": "stream",
       "stream": "stdout",
       "text": [
        "\n",
        "  2015  |    0.018147  |  \u001b[32m  0.015939\u001b[0m  |     1.138494  |             |  0.7s"
       ]
      },
      {
       "output_type": "stream",
       "stream": "stdout",
       "text": [
        "\n",
        "  2016  |    0.018168  |    0.015979  |     1.137001  |             |  0.7s"
       ]
      },
      {
       "output_type": "stream",
       "stream": "stdout",
       "text": [
        "\n",
        "  2017  |    0.018120  |    0.015981  |     1.133812  |             |  0.7s"
       ]
      },
      {
       "output_type": "stream",
       "stream": "stdout",
       "text": [
        "\n",
        "  2018  |    0.018111  |  \u001b[32m  0.015922\u001b[0m  |     1.137465  |             |  0.7s"
       ]
      },
      {
       "output_type": "stream",
       "stream": "stdout",
       "text": [
        "\n",
        "  2019  |    0.018031  |    0.015955  |     1.130094  |             |  0.7s"
       ]
      },
      {
       "output_type": "stream",
       "stream": "stdout",
       "text": [
        "\n",
        "  2020  |    0.018121  |    0.015942  |     1.136684  |             |  0.7s"
       ]
      },
      {
       "output_type": "stream",
       "stream": "stdout",
       "text": [
        "\n",
        "  2021  |    0.018066  |    0.015947  |     1.132887  |             |  0.7s"
       ]
      },
      {
       "output_type": "stream",
       "stream": "stdout",
       "text": [
        "\n",
        "  2022  |    0.018045  |    0.015932  |     1.132647  |             |  0.7s"
       ]
      },
      {
       "output_type": "stream",
       "stream": "stdout",
       "text": [
        "\n",
        "  2023  |    0.018108  |    0.015931  |     1.136629  |             |  0.7s"
       ]
      },
      {
       "output_type": "stream",
       "stream": "stdout",
       "text": [
        "\n",
        "  2024  |    0.018114  |    0.015962  |     1.134759  |             |  0.7s"
       ]
      },
      {
       "output_type": "stream",
       "stream": "stdout",
       "text": [
        "\n",
        "  2025  |    0.018101  |    0.015966  |     1.133712  |             |  0.7s"
       ]
      },
      {
       "output_type": "stream",
       "stream": "stdout",
       "text": [
        "\n",
        "  2026  |    0.018038  |    0.015935  |     1.131965  |             |  0.7s"
       ]
      },
      {
       "output_type": "stream",
       "stream": "stdout",
       "text": [
        "\n",
        "  2027  |    0.018036  |    0.015941  |     1.131428  |             |  0.7s"
       ]
      },
      {
       "output_type": "stream",
       "stream": "stdout",
       "text": [
        "\n",
        "  2028  |    0.018109  |    0.015952  |     1.135241  |             |  0.7s"
       ]
      },
      {
       "output_type": "stream",
       "stream": "stdout",
       "text": [
        "\n",
        "  2029  |    0.018062  |    0.015985  |     1.129925  |             |  0.7s"
       ]
      },
      {
       "output_type": "stream",
       "stream": "stdout",
       "text": [
        "\n",
        "  2030  |    0.018007  |    0.015943  |     1.129504  |             |  0.7s"
       ]
      },
      {
       "output_type": "stream",
       "stream": "stdout",
       "text": [
        "\n",
        "  2031  |    0.018000  |    0.015985  |     1.126083  |             |  0.7s"
       ]
      },
      {
       "output_type": "stream",
       "stream": "stdout",
       "text": [
        "\n",
        "  2032  |    0.018052  |    0.015928  |     1.133321  |             |  0.7s"
       ]
      },
      {
       "output_type": "stream",
       "stream": "stdout",
       "text": [
        "\n",
        "  2033  |    0.018097  |    0.015966  |     1.133445  |             |  0.7s"
       ]
      },
      {
       "output_type": "stream",
       "stream": "stdout",
       "text": [
        "\n",
        "  2034  |    0.018092  |    0.015948  |     1.134445  |             |  0.7s"
       ]
      },
      {
       "output_type": "stream",
       "stream": "stdout",
       "text": [
        "\n",
        "  2035  |    0.018054  |    0.015950  |     1.131916  |             |  0.7s"
       ]
      },
      {
       "output_type": "stream",
       "stream": "stdout",
       "text": [
        "\n",
        "  2036  |    0.018142  |    0.015933  |     1.138702  |             |  0.7s"
       ]
      },
      {
       "output_type": "stream",
       "stream": "stdout",
       "text": [
        "\n",
        "  2037  |    0.018061  |    0.015953  |     1.132139  |             |  0.7s"
       ]
      },
      {
       "output_type": "stream",
       "stream": "stdout",
       "text": [
        "\n",
        "  2038  |    0.018019  |    0.015952  |     1.129623  |             |  0.7s"
       ]
      },
      {
       "output_type": "stream",
       "stream": "stdout",
       "text": [
        "\n",
        "  2039  |    0.018052  |    0.015999  |     1.128367  |             |  0.7s"
       ]
      },
      {
       "output_type": "stream",
       "stream": "stdout",
       "text": [
        "\n",
        "  2040  |    0.017985  |    0.015928  |     1.129157  |             |  0.7s"
       ]
      },
      {
       "output_type": "stream",
       "stream": "stdout",
       "text": [
        "\n",
        "  2041  |    0.018070  |    0.015963  |     1.132001  |             |  0.7s"
       ]
      },
      {
       "output_type": "stream",
       "stream": "stdout",
       "text": [
        "\n",
        "  2042  |    0.018118  |    0.015940  |     1.136596  |             |  0.7s"
       ]
      },
      {
       "output_type": "stream",
       "stream": "stdout",
       "text": [
        "\n",
        "  2043  |  \u001b[94m  0.017961\u001b[0m  |    0.015930  |     1.127533  |             |  0.7s"
       ]
      },
      {
       "output_type": "stream",
       "stream": "stdout",
       "text": [
        "\n",
        "  2044  |    0.018063  |  \u001b[32m  0.015918\u001b[0m  |     1.134756  |             |  0.7s"
       ]
      },
      {
       "output_type": "stream",
       "stream": "stdout",
       "text": [
        "\n",
        "  2045  |    0.017992  |    0.015949  |     1.128098  |             |  0.7s"
       ]
      },
      {
       "output_type": "stream",
       "stream": "stdout",
       "text": [
        "\n",
        "  2046  |    0.018020  |    0.015926  |     1.131456  |             |  0.7s"
       ]
      },
      {
       "output_type": "stream",
       "stream": "stdout",
       "text": [
        "\n",
        "  2047  |    0.018053  |  \u001b[32m  0.015880\u001b[0m  |     1.136865  |             |  0.7s"
       ]
      },
      {
       "output_type": "stream",
       "stream": "stdout",
       "text": [
        "\n",
        "  2048  |    0.018117  |    0.015913  |     1.138486  |             |  0.7s"
       ]
      },
      {
       "output_type": "stream",
       "stream": "stdout",
       "text": [
        "\n",
        "  2049  |  \u001b[94m  0.017929\u001b[0m  |    0.015902  |     1.127462  |             |  0.7s"
       ]
      },
      {
       "output_type": "stream",
       "stream": "stdout",
       "text": [
        "\n",
        "  2050  |  \u001b[94m  0.017923\u001b[0m  |    0.015935  |     1.124714  |             |  0.7s"
       ]
      },
      {
       "output_type": "stream",
       "stream": "stdout",
       "text": [
        "\n",
        "  2051  |    0.018031  |  \u001b[32m  0.015878\u001b[0m  |     1.135594  |             |  0.7s"
       ]
      },
      {
       "output_type": "stream",
       "stream": "stdout",
       "text": [
        "\n",
        "  2052  |    0.018007  |    0.015913  |     1.131574  |             |  0.7s"
       ]
      },
      {
       "output_type": "stream",
       "stream": "stdout",
       "text": [
        "\n",
        "  2053  |    0.018010  |    0.015880  |     1.134134  |             |  0.7s"
       ]
      },
      {
       "output_type": "stream",
       "stream": "stdout",
       "text": [
        "\n",
        "  2054  |    0.018078  |    0.015895  |     1.137338  |             |  0.7s"
       ]
      },
      {
       "output_type": "stream",
       "stream": "stdout",
       "text": [
        "\n",
        "  2055  |    0.017986  |    0.015880  |     1.132578  |             |  0.7s"
       ]
      },
      {
       "output_type": "stream",
       "stream": "stdout",
       "text": [
        "\n",
        "  2056  |    0.018036  |    0.015901  |     1.134273  |             |  0.7s"
       ]
      },
      {
       "output_type": "stream",
       "stream": "stdout",
       "text": [
        "\n",
        "  2057  |    0.018070  |    0.015913  |     1.135557  |             |  0.7s"
       ]
      },
      {
       "output_type": "stream",
       "stream": "stdout",
       "text": [
        "\n",
        "  2058  |    0.018063  |    0.015930  |     1.133957  |             |  0.7s"
       ]
      },
      {
       "output_type": "stream",
       "stream": "stdout",
       "text": [
        "\n",
        "  2059  |    0.017942  |    0.015899  |     1.128522  |             |  0.7s"
       ]
      },
      {
       "output_type": "stream",
       "stream": "stdout",
       "text": [
        "\n",
        "  2060  |    0.018050  |  \u001b[32m  0.015860\u001b[0m  |     1.138120  |             |  0.7s"
       ]
      },
      {
       "output_type": "stream",
       "stream": "stdout",
       "text": [
        "\n",
        "  2061  |    0.018059  |    0.015936  |     1.133265  |             |  0.7s"
       ]
      },
      {
       "output_type": "stream",
       "stream": "stdout",
       "text": [
        "\n",
        "  2062  |    0.018016  |    0.015874  |     1.134913  |             |  0.7s"
       ]
      },
      {
       "output_type": "stream",
       "stream": "stdout",
       "text": [
        "\n",
        "  2063  |    0.017994  |    0.015887  |     1.132567  |             |  0.7s"
       ]
      },
      {
       "output_type": "stream",
       "stream": "stdout",
       "text": [
        "\n",
        "  2064  |    0.017963  |    0.015886  |     1.130749  |             |  0.7s"
       ]
      },
      {
       "output_type": "stream",
       "stream": "stdout",
       "text": [
        "\n",
        "  2065  |  \u001b[94m  0.017912\u001b[0m  |    0.015886  |     1.127519  |             |  0.7s"
       ]
      },
      {
       "output_type": "stream",
       "stream": "stdout",
       "text": [
        "\n",
        "  2066  |    0.018069  |    0.015864  |     1.139013  |             |  0.7s"
       ]
      },
      {
       "output_type": "stream",
       "stream": "stdout",
       "text": [
        "\n",
        "  2067  |    0.017960  |    0.015874  |     1.131439  |             |  0.7s"
       ]
      },
      {
       "output_type": "stream",
       "stream": "stdout",
       "text": [
        "\n",
        "  2068  |    0.017995  |    0.015886  |     1.132778  |             |  0.7s"
       ]
      },
      {
       "output_type": "stream",
       "stream": "stdout",
       "text": [
        "\n",
        "  2069  |    0.017987  |    0.015893  |     1.131782  |             |  0.7s"
       ]
      },
      {
       "output_type": "stream",
       "stream": "stdout",
       "text": [
        "\n",
        "  2070  |  \u001b[94m  0.017901\u001b[0m  |    0.015866  |     1.128307  |             |  0.7s"
       ]
      },
      {
       "output_type": "stream",
       "stream": "stdout",
       "text": [
        "\n",
        "  2071  |    0.018000  |    0.015883  |     1.133323  |             |  0.7s"
       ]
      },
      {
       "output_type": "stream",
       "stream": "stdout",
       "text": [
        "\n",
        "  2072  |  \u001b[94m  0.017901\u001b[0m  |    0.015881  |     1.127156  |             |  0.7s"
       ]
      },
      {
       "output_type": "stream",
       "stream": "stdout",
       "text": [
        "\n",
        "  2073  |    0.017960  |    0.015876  |     1.131258  |             |  0.7s"
       ]
      },
      {
       "output_type": "stream",
       "stream": "stdout",
       "text": [
        "\n",
        "  2074  |    0.017965  |  \u001b[32m  0.015854\u001b[0m  |     1.133156  |             |  0.7s"
       ]
      },
      {
       "output_type": "stream",
       "stream": "stdout",
       "text": [
        "\n",
        "  2075  |    0.017938  |    0.015918  |     1.126863  |             |  0.7s"
       ]
      },
      {
       "output_type": "stream",
       "stream": "stdout",
       "text": [
        "\n",
        "  2076  |    0.017966  |    0.015880  |     1.131350  |             |  0.7s"
       ]
      },
      {
       "output_type": "stream",
       "stream": "stdout",
       "text": [
        "\n",
        "  2077  |    0.018011  |    0.015868  |     1.135035  |             |  0.7s"
       ]
      },
      {
       "output_type": "stream",
       "stream": "stdout",
       "text": [
        "\n",
        "  2078  |    0.017976  |    0.015878  |     1.132113  |             |  0.7s"
       ]
      },
      {
       "output_type": "stream",
       "stream": "stdout",
       "text": [
        "\n",
        "  2079  |    0.017988  |    0.015896  |     1.131626  |             |  0.7s"
       ]
      },
      {
       "output_type": "stream",
       "stream": "stdout",
       "text": [
        "\n",
        "  2080  |    0.017957  |    0.015897  |     1.129537  |             |  0.7s"
       ]
      },
      {
       "output_type": "stream",
       "stream": "stdout",
       "text": [
        "\n",
        "  2081  |    0.017948  |  \u001b[32m  0.015834\u001b[0m  |     1.133500  |             |  0.7s"
       ]
      },
      {
       "output_type": "stream",
       "stream": "stdout",
       "text": [
        "\n",
        "  2082  |    0.018029  |    0.015848  |     1.137581  |             |  0.7s"
       ]
      },
      {
       "output_type": "stream",
       "stream": "stdout",
       "text": [
        "\n",
        "  2083  |  \u001b[94m  0.017891\u001b[0m  |    0.015867  |     1.127568  |             |  0.7s"
       ]
      },
      {
       "output_type": "stream",
       "stream": "stdout",
       "text": [
        "\n",
        "  2084  |    0.017988  |    0.015877  |     1.132971  |             |  0.7s"
       ]
      },
      {
       "output_type": "stream",
       "stream": "stdout",
       "text": [
        "\n",
        "  2085  |    0.018026  |    0.015902  |     1.133551  |             |  0.7s"
       ]
      },
      {
       "output_type": "stream",
       "stream": "stdout",
       "text": [
        "\n",
        "  2086  |    0.018073  |    0.015864  |     1.139227  |             |  0.7s"
       ]
      },
      {
       "output_type": "stream",
       "stream": "stdout",
       "text": [
        "\n",
        "  2087  |    0.017991  |    0.015879  |     1.132969  |             |  0.7s"
       ]
      },
      {
       "output_type": "stream",
       "stream": "stdout",
       "text": [
        "\n",
        "  2088  |    0.017941  |    0.015854  |     1.131690  |             |  0.7s"
       ]
      },
      {
       "output_type": "stream",
       "stream": "stdout",
       "text": [
        "\n",
        "  2089  |    0.017897  |    0.015858  |     1.128585  |             |  0.7s"
       ]
      },
      {
       "output_type": "stream",
       "stream": "stdout",
       "text": [
        "\n",
        "  2090  |    0.017924  |    0.015866  |     1.129746  |             |  0.7s"
       ]
      },
      {
       "output_type": "stream",
       "stream": "stdout",
       "text": [
        "\n",
        "  2091  |  \u001b[94m  0.017888\u001b[0m  |    0.015852  |     1.128452  |             |  0.7s"
       ]
      },
      {
       "output_type": "stream",
       "stream": "stdout",
       "text": [
        "\n",
        "  2092  |    0.017919  |    0.015835  |     1.131648  |             |  0.7s"
       ]
      },
      {
       "output_type": "stream",
       "stream": "stdout",
       "text": [
        "\n",
        "  2093  |    0.017905  |    0.015852  |     1.129532  |             |  0.7s"
       ]
      },
      {
       "output_type": "stream",
       "stream": "stdout",
       "text": [
        "\n",
        "  2094  |    0.017890  |    0.015888  |     1.126028  |             |  0.7s"
       ]
      },
      {
       "output_type": "stream",
       "stream": "stdout",
       "text": [
        "\n",
        "  2095  |    0.017962  |    0.015847  |     1.133451  |             |  0.7s"
       ]
      },
      {
       "output_type": "stream",
       "stream": "stdout",
       "text": [
        "\n",
        "  2096  |    0.017972  |    0.015852  |     1.133727  |             |  0.7s"
       ]
      },
      {
       "output_type": "stream",
       "stream": "stdout",
       "text": [
        "\n",
        "  2097  |    0.017903  |    0.015850  |     1.129525  |             |  0.7s"
       ]
      },
      {
       "output_type": "stream",
       "stream": "stdout",
       "text": [
        "\n",
        "  2098  |    0.017969  |    0.015856  |     1.133287  |             |  0.7s"
       ]
      },
      {
       "output_type": "stream",
       "stream": "stdout",
       "text": [
        "\n",
        "  2099  |    0.017914  |    0.015851  |     1.130147  |             |  0.7s"
       ]
      },
      {
       "output_type": "stream",
       "stream": "stdout",
       "text": [
        "\n",
        "  2100  |    0.017950  |    0.015843  |     1.133020  |             |  0.7s"
       ]
      },
      {
       "output_type": "stream",
       "stream": "stdout",
       "text": [
        "\n",
        "  2101  |    0.017940  |  \u001b[32m  0.015820\u001b[0m  |     1.134055  |             |  0.7s"
       ]
      },
      {
       "output_type": "stream",
       "stream": "stdout",
       "text": [
        "\n",
        "  2102  |    0.018031  |    0.015901  |     1.133913  |             |  0.7s"
       ]
      },
      {
       "output_type": "stream",
       "stream": "stdout",
       "text": [
        "\n",
        "  2103  |    0.017965  |    0.015865  |     1.132346  |             |  0.7s"
       ]
      },
      {
       "output_type": "stream",
       "stream": "stdout",
       "text": [
        "\n",
        "  2104  |    0.017930  |    0.015869  |     1.129866  |             |  0.7s"
       ]
      },
      {
       "output_type": "stream",
       "stream": "stdout",
       "text": [
        "\n",
        "  2105  |    0.018013  |    0.015877  |     1.134505  |             |  0.7s"
       ]
      },
      {
       "output_type": "stream",
       "stream": "stdout",
       "text": [
        "\n",
        "  2106  |    0.017993  |    0.015892  |     1.132191  |             |  0.7s"
       ]
      },
      {
       "output_type": "stream",
       "stream": "stdout",
       "text": [
        "\n",
        "  2107  |  \u001b[94m  0.017880\u001b[0m  |    0.015844  |     1.128559  |             |  0.7s"
       ]
      },
      {
       "output_type": "stream",
       "stream": "stdout",
       "text": [
        "\n",
        "  2108  |    0.018039  |    0.015833  |     1.139311  |             |  0.7s"
       ]
      },
      {
       "output_type": "stream",
       "stream": "stdout",
       "text": [
        "\n",
        "  2109  |    0.017902  |    0.015875  |     1.127691  |             |  0.7s"
       ]
      },
      {
       "output_type": "stream",
       "stream": "stdout",
       "text": [
        "\n",
        "  2110  |    0.017892  |    0.015861  |     1.128014  |             |  0.7s"
       ]
      },
      {
       "output_type": "stream",
       "stream": "stdout",
       "text": [
        "\n",
        "  2111  |    0.017921  |    0.015888  |     1.127915  |             |  0.7s"
       ]
      },
      {
       "output_type": "stream",
       "stream": "stdout",
       "text": [
        "\n",
        "  2112  |  \u001b[94m  0.017865\u001b[0m  |    0.015847  |     1.127329  |             |  0.7s"
       ]
      },
      {
       "output_type": "stream",
       "stream": "stdout",
       "text": [
        "\n",
        "  2113  |  \u001b[94m  0.017837\u001b[0m  |    0.015820  |     1.127478  |             |  0.7s"
       ]
      },
      {
       "output_type": "stream",
       "stream": "stdout",
       "text": [
        "\n",
        "  2114  |    0.017935  |    0.015825  |     1.133366  |             |  0.7s"
       ]
      },
      {
       "output_type": "stream",
       "stream": "stdout",
       "text": [
        "\n",
        "  2115  |    0.017975  |    0.015859  |     1.133418  |             |  0.7s"
       ]
      },
      {
       "output_type": "stream",
       "stream": "stdout",
       "text": [
        "\n",
        "  2116  |    0.017903  |  \u001b[32m  0.015818\u001b[0m  |     1.131826  |             |  0.7s"
       ]
      },
      {
       "output_type": "stream",
       "stream": "stdout",
       "text": [
        "\n",
        "  2117  |    0.017848  |    0.015827  |     1.127712  |             |  0.7s"
       ]
      },
      {
       "output_type": "stream",
       "stream": "stdout",
       "text": [
        "\n",
        "  2118  |    0.018002  |  \u001b[32m  0.015813\u001b[0m  |     1.138434  |             |  0.7s"
       ]
      },
      {
       "output_type": "stream",
       "stream": "stdout",
       "text": [
        "\n",
        "  2119  |    0.018064  |    0.015862  |     1.138836  |             |  0.7s"
       ]
      },
      {
       "output_type": "stream",
       "stream": "stdout",
       "text": [
        "\n",
        "  2120  |    0.017948  |  \u001b[32m  0.015810\u001b[0m  |     1.135252  |             |  0.7s"
       ]
      },
      {
       "output_type": "stream",
       "stream": "stdout",
       "text": [
        "\n",
        "  2121  |    0.017962  |    0.015835  |     1.134351  |             |  0.7s"
       ]
      },
      {
       "output_type": "stream",
       "stream": "stdout",
       "text": [
        "\n",
        "  2122  |  \u001b[94m  0.017835\u001b[0m  |  \u001b[32m  0.015790\u001b[0m  |     1.129503  |             |  0.7s"
       ]
      },
      {
       "output_type": "stream",
       "stream": "stdout",
       "text": [
        "\n",
        "  2123  |    0.017918  |    0.015838  |     1.131370  |             |  0.7s"
       ]
      },
      {
       "output_type": "stream",
       "stream": "stdout",
       "text": [
        "\n",
        "  2124  |    0.017872  |    0.015811  |     1.130358  |             |  0.7s"
       ]
      },
      {
       "output_type": "stream",
       "stream": "stdout",
       "text": [
        "\n",
        "  2125  |  \u001b[94m  0.017812\u001b[0m  |    0.015805  |     1.126997  |             |  0.7s"
       ]
      },
      {
       "output_type": "stream",
       "stream": "stdout",
       "text": [
        "\n",
        "  2126  |    0.017863  |    0.015809  |     1.129918  |             |  0.7s"
       ]
      },
      {
       "output_type": "stream",
       "stream": "stdout",
       "text": [
        "\n",
        "  2127  |    0.017920  |  \u001b[32m  0.015772\u001b[0m  |     1.136171  |             |  0.7s"
       ]
      },
      {
       "output_type": "stream",
       "stream": "stdout",
       "text": [
        "\n",
        "  2128  |    0.017871  |    0.015817  |     1.129844  |             |  0.7s"
       ]
      },
      {
       "output_type": "stream",
       "stream": "stdout",
       "text": [
        "\n",
        "  2129  |    0.017954  |    0.015799  |     1.136383  |             |  0.7s"
       ]
      },
      {
       "output_type": "stream",
       "stream": "stdout",
       "text": [
        "\n",
        "  2130  |    0.017839  |    0.015794  |     1.129508  |             |  0.7s"
       ]
      },
      {
       "output_type": "stream",
       "stream": "stdout",
       "text": [
        "\n",
        "  2131  |    0.017943  |    0.015781  |     1.137055  |             |  0.7s"
       ]
      },
      {
       "output_type": "stream",
       "stream": "stdout",
       "text": [
        "\n",
        "  2132  |    0.017960  |  \u001b[32m  0.015770\u001b[0m  |     1.138889  |             |  0.7s"
       ]
      },
      {
       "output_type": "stream",
       "stream": "stdout",
       "text": [
        "\n",
        "  2133  |    0.017988  |    0.015786  |     1.139511  |             |  0.7s"
       ]
      },
      {
       "output_type": "stream",
       "stream": "stdout",
       "text": [
        "\n",
        "  2134  |    0.017846  |    0.015810  |     1.128792  |             |  0.7s"
       ]
      },
      {
       "output_type": "stream",
       "stream": "stdout",
       "text": [
        "\n",
        "  2135  |    0.017915  |    0.015843  |     1.130770  |             |  0.7s"
       ]
      },
      {
       "output_type": "stream",
       "stream": "stdout",
       "text": [
        "\n",
        "  2136  |  \u001b[94m  0.017812\u001b[0m  |    0.015803  |     1.127126  |             |  0.7s"
       ]
      },
      {
       "output_type": "stream",
       "stream": "stdout",
       "text": [
        "\n",
        "  2137  |    0.017875  |    0.015783  |     1.132551  |             |  0.7s"
       ]
      },
      {
       "output_type": "stream",
       "stream": "stdout",
       "text": [
        "\n",
        "  2138  |    0.017909  |  \u001b[32m  0.015763\u001b[0m  |     1.136177  |             |  0.7s"
       ]
      },
      {
       "output_type": "stream",
       "stream": "stdout",
       "text": [
        "\n",
        "  2139  |    0.017882  |    0.015825  |     1.129940  |             |  0.7s"
       ]
      },
      {
       "output_type": "stream",
       "stream": "stdout",
       "text": [
        "\n",
        "  2140  |    0.017883  |    0.015799  |     1.131958  |             |  0.7s"
       ]
      },
      {
       "output_type": "stream",
       "stream": "stdout",
       "text": [
        "\n",
        "  2141  |    0.017869  |    0.015789  |     1.131696  |             |  0.7s"
       ]
      },
      {
       "output_type": "stream",
       "stream": "stdout",
       "text": [
        "\n",
        "  2142  |    0.017877  |    0.015768  |     1.133734  |             |  0.7s"
       ]
      },
      {
       "output_type": "stream",
       "stream": "stdout",
       "text": [
        "\n",
        "  2143  |    0.017872  |    0.015777  |     1.132766  |             |  0.7s"
       ]
      },
      {
       "output_type": "stream",
       "stream": "stdout",
       "text": [
        "\n",
        "  2144  |    0.017970  |    0.015790  |     1.138070  |             |  0.7s"
       ]
      },
      {
       "output_type": "stream",
       "stream": "stdout",
       "text": [
        "\n",
        "  2145  |    0.017853  |    0.015765  |     1.132453  |             |  0.7s"
       ]
      },
      {
       "output_type": "stream",
       "stream": "stdout",
       "text": [
        "\n",
        "  2146  |  \u001b[94m  0.017791\u001b[0m  |    0.015783  |     1.127234  |             |  0.7s"
       ]
      },
      {
       "output_type": "stream",
       "stream": "stdout",
       "text": [
        "\n",
        "  2147  |    0.017807  |  \u001b[32m  0.015751\u001b[0m  |     1.130545  |             |  0.7s"
       ]
      },
      {
       "output_type": "stream",
       "stream": "stdout",
       "text": [
        "\n",
        "  2148  |    0.017828  |    0.015776  |     1.130054  |             |  0.7s"
       ]
      },
      {
       "output_type": "stream",
       "stream": "stdout",
       "text": [
        "\n",
        "  2149  |    0.017833  |  \u001b[32m  0.015747\u001b[0m  |     1.132457  |             |  0.7s"
       ]
      },
      {
       "output_type": "stream",
       "stream": "stdout",
       "text": [
        "\n",
        "  2150  |    0.017809  |    0.015843  |     1.124082  |             |  0.7s"
       ]
      },
      {
       "output_type": "stream",
       "stream": "stdout",
       "text": [
        "\n",
        "  2151  |    0.017940  |    0.015793  |     1.135954  |             |  0.7s"
       ]
      },
      {
       "output_type": "stream",
       "stream": "stdout",
       "text": [
        "\n",
        "  2152  |    0.017806  |    0.015778  |     1.128535  |             |  0.7s"
       ]
      },
      {
       "output_type": "stream",
       "stream": "stdout",
       "text": [
        "\n",
        "  2153  |    0.017804  |  \u001b[32m  0.015744\u001b[0m  |     1.130897  |             |  0.7s"
       ]
      },
      {
       "output_type": "stream",
       "stream": "stdout",
       "text": [
        "\n",
        "  2154  |    0.017845  |    0.015765  |     1.131938  |             |  0.7s"
       ]
      },
      {
       "output_type": "stream",
       "stream": "stdout",
       "text": [
        "\n",
        "  2155  |    0.017807  |  \u001b[32m  0.015737\u001b[0m  |     1.131521  |             |  0.7s"
       ]
      },
      {
       "output_type": "stream",
       "stream": "stdout",
       "text": [
        "\n",
        "  2156  |    0.017907  |    0.015768  |     1.135653  |             |  0.7s"
       ]
      },
      {
       "output_type": "stream",
       "stream": "stdout",
       "text": [
        "\n",
        "  2157  |    0.017830  |    0.015766  |     1.130909  |             |  0.7s"
       ]
      },
      {
       "output_type": "stream",
       "stream": "stdout",
       "text": [
        "\n",
        "  2158  |    0.017943  |    0.015767  |     1.138072  |             |  0.7s"
       ]
      },
      {
       "output_type": "stream",
       "stream": "stdout",
       "text": [
        "\n",
        "  2159  |    0.017896  |    0.015742  |     1.136878  |             |  0.7s"
       ]
      },
      {
       "output_type": "stream",
       "stream": "stdout",
       "text": [
        "\n",
        "  2160  |    0.017942  |    0.015768  |     1.137840  |             |  0.7s"
       ]
      },
      {
       "output_type": "stream",
       "stream": "stdout",
       "text": [
        "\n",
        "  2161  |    0.017807  |    0.015763  |     1.129712  |             |  0.7s"
       ]
      },
      {
       "output_type": "stream",
       "stream": "stdout",
       "text": [
        "\n",
        "  2162  |    0.017834  |    0.015818  |     1.127455  |             |  0.7s"
       ]
      },
      {
       "output_type": "stream",
       "stream": "stdout",
       "text": [
        "\n",
        "  2163  |  \u001b[94m  0.017761\u001b[0m  |    0.015843  |     1.121063  |             |  0.7s"
       ]
      },
      {
       "output_type": "stream",
       "stream": "stdout",
       "text": [
        "\n",
        "  2164  |    0.017876  |    0.015766  |     1.133831  |             |  0.7s"
       ]
      },
      {
       "output_type": "stream",
       "stream": "stdout",
       "text": [
        "\n",
        "  2165  |    0.017793  |    0.015759  |     1.129077  |             |  0.7s"
       ]
      },
      {
       "output_type": "stream",
       "stream": "stdout",
       "text": [
        "\n",
        "  2166  |    0.017774  |    0.015751  |     1.128444  |             |  0.7s"
       ]
      },
      {
       "output_type": "stream",
       "stream": "stdout",
       "text": [
        "\n",
        "  2167  |    0.017869  |    0.015756  |     1.134084  |             |  0.7s"
       ]
      },
      {
       "output_type": "stream",
       "stream": "stdout",
       "text": [
        "\n",
        "  2168  |    0.017828  |    0.015780  |     1.129793  |             |  0.7s"
       ]
      },
      {
       "output_type": "stream",
       "stream": "stdout",
       "text": [
        "\n",
        "  2169  |    0.017843  |    0.015759  |     1.132216  |             |  0.7s"
       ]
      },
      {
       "output_type": "stream",
       "stream": "stdout",
       "text": [
        "\n",
        "  2170  |    0.017852  |    0.015770  |     1.132037  |             |  0.7s"
       ]
      },
      {
       "output_type": "stream",
       "stream": "stdout",
       "text": [
        "\n",
        "  2171  |    0.017853  |  \u001b[32m  0.015714\u001b[0m  |     1.136136  |             |  0.7s"
       ]
      },
      {
       "output_type": "stream",
       "stream": "stdout",
       "text": [
        "\n",
        "  2172  |    0.017846  |    0.015746  |     1.133349  |             |  0.7s"
       ]
      },
      {
       "output_type": "stream",
       "stream": "stdout",
       "text": [
        "\n",
        "  2173  |    0.017803  |    0.015765  |     1.129244  |             |  0.7s"
       ]
      },
      {
       "output_type": "stream",
       "stream": "stdout",
       "text": [
        "\n",
        "  2174  |    0.017894  |    0.015741  |     1.136768  |             |  0.7s"
       ]
      },
      {
       "output_type": "stream",
       "stream": "stdout",
       "text": [
        "\n",
        "  2175  |    0.017826  |    0.015733  |     1.133052  |             |  0.7s"
       ]
      },
      {
       "output_type": "stream",
       "stream": "stdout",
       "text": [
        "\n",
        "  2176  |    0.017890  |    0.015746  |     1.136154  |             |  0.7s"
       ]
      },
      {
       "output_type": "stream",
       "stream": "stdout",
       "text": [
        "\n",
        "  2177  |    0.017919  |    0.015752  |     1.137564  |             |  0.7s"
       ]
      },
      {
       "output_type": "stream",
       "stream": "stdout",
       "text": [
        "\n",
        "  2178  |    0.017801  |    0.015753  |     1.129968  |             |  0.7s"
       ]
      },
      {
       "output_type": "stream",
       "stream": "stdout",
       "text": [
        "\n",
        "  2179  |    0.017834  |    0.015714  |     1.134933  |             |  0.7s"
       ]
      },
      {
       "output_type": "stream",
       "stream": "stdout",
       "text": [
        "\n",
        "  2180  |    0.017814  |    0.015803  |     1.127264  |             |  0.7s"
       ]
      },
      {
       "output_type": "stream",
       "stream": "stdout",
       "text": [
        "\n",
        "  2181  |    0.017816  |    0.015785  |     1.128636  |             |  0.7s"
       ]
      },
      {
       "output_type": "stream",
       "stream": "stdout",
       "text": [
        "\n",
        "  2182  |  \u001b[94m  0.017720\u001b[0m  |    0.015758  |     1.124526  |             |  0.7s"
       ]
      },
      {
       "output_type": "stream",
       "stream": "stdout",
       "text": [
        "\n",
        "  2183  |    0.017839  |    0.015773  |     1.131005  |             |  0.7s"
       ]
      },
      {
       "output_type": "stream",
       "stream": "stdout",
       "text": [
        "\n",
        "  2184  |    0.017757  |    0.015725  |     1.129211  |             |  0.7s"
       ]
      },
      {
       "output_type": "stream",
       "stream": "stdout",
       "text": [
        "\n",
        "  2185  |    0.017731  |    0.015714  |     1.128361  |             |  0.7s"
       ]
      },
      {
       "output_type": "stream",
       "stream": "stdout",
       "text": [
        "\n",
        "  2186  |    0.017832  |    0.015752  |     1.131993  |             |  0.7s"
       ]
      },
      {
       "output_type": "stream",
       "stream": "stdout",
       "text": [
        "\n",
        "  2187  |    0.017750  |    0.015794  |     1.123878  |             |  0.7s"
       ]
      },
      {
       "output_type": "stream",
       "stream": "stdout",
       "text": [
        "\n",
        "  2188  |    0.017814  |    0.015735  |     1.132121  |             |  0.7s"
       ]
      },
      {
       "output_type": "stream",
       "stream": "stdout",
       "text": [
        "\n",
        "  2189  |    0.017772  |  \u001b[32m  0.015700\u001b[0m  |     1.131983  |             |  0.7s"
       ]
      },
      {
       "output_type": "stream",
       "stream": "stdout",
       "text": [
        "\n",
        "  2190  |    0.017819  |    0.015742  |     1.131950  |             |  0.7s"
       ]
      },
      {
       "output_type": "stream",
       "stream": "stdout",
       "text": [
        "\n",
        "  2191  |    0.017815  |    0.015717  |     1.133441  |             |  0.7s"
       ]
      },
      {
       "output_type": "stream",
       "stream": "stdout",
       "text": [
        "\n",
        "  2192  |    0.017881  |    0.015741  |     1.135957  |             |  0.7s"
       ]
      },
      {
       "output_type": "stream",
       "stream": "stdout",
       "text": [
        "\n",
        "  2193  |    0.017835  |    0.015728  |     1.133966  |             |  0.7s"
       ]
      },
      {
       "output_type": "stream",
       "stream": "stdout",
       "text": [
        "\n",
        "  2194  |    0.017766  |    0.015726  |     1.129755  |             |  0.7s"
       ]
      },
      {
       "output_type": "stream",
       "stream": "stdout",
       "text": [
        "\n",
        "  2195  |  \u001b[94m  0.017622\u001b[0m  |    0.015727  |     1.120448  |             |  0.7s"
       ]
      },
      {
       "output_type": "stream",
       "stream": "stdout",
       "text": [
        "\n",
        "  2196  |    0.017795  |    0.015713  |     1.132548  |             |  0.7s"
       ]
      },
      {
       "output_type": "stream",
       "stream": "stdout",
       "text": [
        "\n",
        "  2197  |    0.017729  |    0.015737  |     1.126584  |             |  0.7s"
       ]
      },
      {
       "output_type": "stream",
       "stream": "stdout",
       "text": [
        "\n",
        "  2198  |    0.017718  |    0.015750  |     1.124933  |             |  0.7s"
       ]
      },
      {
       "output_type": "stream",
       "stream": "stdout",
       "text": [
        "\n",
        "  2199  |    0.017717  |    0.015711  |     1.127701  |             |  0.7s"
       ]
      },
      {
       "output_type": "stream",
       "stream": "stdout",
       "text": [
        "\n",
        "  2200  |    0.017757  |    0.015747  |     1.127654  |             |  0.7s"
       ]
      },
      {
       "output_type": "stream",
       "stream": "stdout",
       "text": [
        "\n",
        "  2201  |    0.017717  |  \u001b[32m  0.015690\u001b[0m  |     1.129186  |             |  0.7s"
       ]
      },
      {
       "output_type": "stream",
       "stream": "stdout",
       "text": [
        "\n",
        "  2202  |    0.017757  |    0.015708  |     1.130479  |             |  0.7s"
       ]
      },
      {
       "output_type": "stream",
       "stream": "stdout",
       "text": [
        "\n",
        "  2203  |    0.017866  |    0.015697  |     1.138190  |             |  0.7s"
       ]
      },
      {
       "output_type": "stream",
       "stream": "stdout",
       "text": [
        "\n",
        "  2204  |    0.017727  |    0.015717  |     1.127871  |             |  0.7s"
       ]
      },
      {
       "output_type": "stream",
       "stream": "stdout",
       "text": [
        "\n",
        "  2205  |    0.017845  |    0.015711  |     1.135846  |             |  0.7s"
       ]
      },
      {
       "output_type": "stream",
       "stream": "stdout",
       "text": [
        "\n",
        "  2206  |    0.017736  |  \u001b[32m  0.015687\u001b[0m  |     1.130579  |             |  0.7s"
       ]
      },
      {
       "output_type": "stream",
       "stream": "stdout",
       "text": [
        "\n",
        "  2207  |    0.017754  |    0.015703  |     1.130559  |             |  0.7s"
       ]
      },
      {
       "output_type": "stream",
       "stream": "stdout",
       "text": [
        "\n",
        "  2208  |    0.017669  |  \u001b[32m  0.015654\u001b[0m  |     1.128748  |             |  0.7s"
       ]
      },
      {
       "output_type": "stream",
       "stream": "stdout",
       "text": [
        "\n",
        "  2209  |    0.017744  |    0.015751  |     1.126544  |             |  0.7s"
       ]
      },
      {
       "output_type": "stream",
       "stream": "stdout",
       "text": [
        "\n",
        "  2210  |    0.017728  |    0.015690  |     1.129838  |             |  0.7s"
       ]
      },
      {
       "output_type": "stream",
       "stream": "stdout",
       "text": [
        "\n",
        "  2211  |    0.017837  |    0.015669  |     1.138329  |             |  0.7s"
       ]
      },
      {
       "output_type": "stream",
       "stream": "stdout",
       "text": [
        "\n",
        "  2212  |    0.017785  |    0.015720  |     1.131366  |             |  0.7s"
       ]
      },
      {
       "output_type": "stream",
       "stream": "stdout",
       "text": [
        "\n",
        "  2213  |    0.017778  |    0.015709  |     1.131682  |             |  0.7s"
       ]
      },
      {
       "output_type": "stream",
       "stream": "stdout",
       "text": [
        "\n",
        "  2214  |    0.017710  |    0.015684  |     1.129183  |             |  0.7s"
       ]
      },
      {
       "output_type": "stream",
       "stream": "stdout",
       "text": [
        "\n",
        "  2215  |    0.017803  |    0.015725  |     1.132135  |             |  0.7s"
       ]
      },
      {
       "output_type": "stream",
       "stream": "stdout",
       "text": [
        "\n",
        "  2216  |    0.017721  |    0.015706  |     1.128313  |             |  0.7s"
       ]
      },
      {
       "output_type": "stream",
       "stream": "stdout",
       "text": [
        "\n",
        "  2217  |    0.017876  |    0.015724  |     1.136873  |             |  0.7s"
       ]
      },
      {
       "output_type": "stream",
       "stream": "stdout",
       "text": [
        "\n",
        "  2218  |    0.017822  |    0.015695  |     1.135553  |             |  0.7s"
       ]
      },
      {
       "output_type": "stream",
       "stream": "stdout",
       "text": [
        "\n",
        "  2219  |    0.017698  |    0.015703  |     1.127026  |             |  0.7s"
       ]
      },
      {
       "output_type": "stream",
       "stream": "stdout",
       "text": [
        "\n",
        "  2220  |    0.017701  |    0.015701  |     1.127348  |             |  0.7s"
       ]
      },
      {
       "output_type": "stream",
       "stream": "stdout",
       "text": [
        "\n",
        "  2221  |    0.017793  |    0.015736  |     1.130741  |             |  0.7s"
       ]
      },
      {
       "output_type": "stream",
       "stream": "stdout",
       "text": [
        "\n",
        "  2222  |    0.017658  |    0.015678  |     1.126316  |             |  0.7s"
       ]
      },
      {
       "output_type": "stream",
       "stream": "stdout",
       "text": [
        "\n",
        "  2223  |    0.017777  |    0.015684  |     1.133410  |             |  0.7s"
       ]
      },
      {
       "output_type": "stream",
       "stream": "stdout",
       "text": [
        "\n",
        "  2224  |    0.017688  |    0.015733  |     1.124216  |             |  0.7s"
       ]
      },
      {
       "output_type": "stream",
       "stream": "stdout",
       "text": [
        "\n",
        "  2225  |    0.017691  |    0.015669  |     1.129078  |             |  0.7s"
       ]
      },
      {
       "output_type": "stream",
       "stream": "stdout",
       "text": [
        "\n",
        "  2226  |    0.017764  |    0.015698  |     1.131608  |             |  0.7s"
       ]
      },
      {
       "output_type": "stream",
       "stream": "stdout",
       "text": [
        "\n",
        "  2227  |    0.017730  |    0.015690  |     1.130021  |             |  0.7s"
       ]
      },
      {
       "output_type": "stream",
       "stream": "stdout",
       "text": [
        "\n",
        "  2228  |    0.017705  |    0.015682  |     1.128994  |             |  0.7s"
       ]
      },
      {
       "output_type": "stream",
       "stream": "stdout",
       "text": [
        "\n",
        "  2229  |    0.017711  |    0.015675  |     1.129878  |             |  0.7s"
       ]
      },
      {
       "output_type": "stream",
       "stream": "stdout",
       "text": [
        "\n",
        "  2230  |    0.017730  |    0.015707  |     1.128809  |             |  0.7s"
       ]
      },
      {
       "output_type": "stream",
       "stream": "stdout",
       "text": [
        "\n",
        "  2231  |    0.017740  |    0.015699  |     1.130001  |             |  0.7s"
       ]
      },
      {
       "output_type": "stream",
       "stream": "stdout",
       "text": [
        "\n",
        "  2232  |    0.017674  |    0.015698  |     1.125823  |             |  0.7s"
       ]
      },
      {
       "output_type": "stream",
       "stream": "stdout",
       "text": [
        "\n",
        "  2233  |    0.017671  |    0.015699  |     1.125597  |             |  0.7s"
       ]
      },
      {
       "output_type": "stream",
       "stream": "stdout",
       "text": [
        "\n",
        "  2234  |    0.017696  |    0.015667  |     1.129459  |             |  0.7s"
       ]
      },
      {
       "output_type": "stream",
       "stream": "stdout",
       "text": [
        "\n",
        "  2235  |  \u001b[94m  0.017614\u001b[0m  |    0.015676  |     1.123622  |             |  0.7s"
       ]
      },
      {
       "output_type": "stream",
       "stream": "stdout",
       "text": [
        "\n",
        "  2236  |    0.017710  |    0.015669  |     1.130301  |             |  0.7s"
       ]
      },
      {
       "output_type": "stream",
       "stream": "stdout",
       "text": [
        "\n",
        "  2237  |    0.017812  |  \u001b[32m  0.015632\u001b[0m  |     1.139474  |             |  0.7s"
       ]
      },
      {
       "output_type": "stream",
       "stream": "stdout",
       "text": [
        "\n",
        "  2238  |    0.017825  |    0.015635  |     1.140051  |             |  0.7s"
       ]
      },
      {
       "output_type": "stream",
       "stream": "stdout",
       "text": [
        "\n",
        "  2239  |    0.017677  |    0.015704  |     1.125610  |             |  0.7s"
       ]
      },
      {
       "output_type": "stream",
       "stream": "stdout",
       "text": [
        "\n",
        "  2240  |    0.017654  |    0.015661  |     1.127262  |             |  0.7s"
       ]
      },
      {
       "output_type": "stream",
       "stream": "stdout",
       "text": [
        "\n",
        "  2241  |    0.017680  |    0.015653  |     1.129488  |             |  0.7s"
       ]
      },
      {
       "output_type": "stream",
       "stream": "stdout",
       "text": [
        "\n",
        "  2242  |    0.017666  |    0.015685  |     1.126312  |             |  0.7s"
       ]
      },
      {
       "output_type": "stream",
       "stream": "stdout",
       "text": [
        "\n",
        "  2243  |    0.017626  |    0.015667  |     1.125060  |             |  0.7s"
       ]
      },
      {
       "output_type": "stream",
       "stream": "stdout",
       "text": [
        "\n",
        "  2244  |    0.017783  |    0.015694  |     1.133074  |             |  0.7s"
       ]
      },
      {
       "output_type": "stream",
       "stream": "stdout",
       "text": [
        "\n",
        "  2245  |    0.017705  |    0.015642  |     1.131891  |             |  0.7s"
       ]
      },
      {
       "output_type": "stream",
       "stream": "stdout",
       "text": [
        "\n",
        "  2246  |    0.017702  |    0.015635  |     1.132192  |             |  0.7s"
       ]
      },
      {
       "output_type": "stream",
       "stream": "stdout",
       "text": [
        "\n",
        "  2247  |    0.017775  |    0.015641  |     1.136445  |             |  0.7s"
       ]
      },
      {
       "output_type": "stream",
       "stream": "stdout",
       "text": [
        "\n",
        "  2248  |    0.017723  |    0.015713  |     1.127926  |             |  0.7s"
       ]
      },
      {
       "output_type": "stream",
       "stream": "stdout",
       "text": [
        "\n",
        "  2249  |    0.017650  |    0.015658  |     1.127192  |             |  0.7s"
       ]
      },
      {
       "output_type": "stream",
       "stream": "stdout",
       "text": [
        "\n",
        "  2250  |    0.017698  |    0.015646  |     1.131204  |             |  0.7s"
       ]
      },
      {
       "output_type": "stream",
       "stream": "stdout",
       "text": [
        "\n",
        "  2251  |    0.017745  |    0.015648  |     1.133974  |             |  0.7s"
       ]
      },
      {
       "output_type": "stream",
       "stream": "stdout",
       "text": [
        "\n",
        "  2252  |    0.017680  |    0.015663  |     1.128775  |             |  0.7s"
       ]
      },
      {
       "output_type": "stream",
       "stream": "stdout",
       "text": [
        "\n",
        "  2253  |    0.017776  |  \u001b[32m  0.015622\u001b[0m  |     1.137848  |             |  0.7s"
       ]
      },
      {
       "output_type": "stream",
       "stream": "stdout",
       "text": [
        "\n",
        "  2254  |    0.017643  |  \u001b[32m  0.015620\u001b[0m  |     1.129492  |             |  0.7s"
       ]
      },
      {
       "output_type": "stream",
       "stream": "stdout",
       "text": [
        "\n",
        "  2255  |    0.017690  |  \u001b[32m  0.015616\u001b[0m  |     1.132814  |             |  0.7s"
       ]
      },
      {
       "output_type": "stream",
       "stream": "stdout",
       "text": [
        "\n",
        "  2256  |  \u001b[94m  0.017552\u001b[0m  |    0.015633  |     1.122717  |             |  0.7s"
       ]
      },
      {
       "output_type": "stream",
       "stream": "stdout",
       "text": [
        "\n",
        "  2257  |    0.017685  |    0.015634  |     1.131155  |             |  0.7s"
       ]
      },
      {
       "output_type": "stream",
       "stream": "stdout",
       "text": [
        "\n",
        "  2258  |    0.017682  |    0.015627  |     1.131548  |             |  0.7s"
       ]
      },
      {
       "output_type": "stream",
       "stream": "stdout",
       "text": [
        "\n",
        "  2259  |    0.017657  |    0.015653  |     1.127984  |             |  0.7s"
       ]
      },
      {
       "output_type": "stream",
       "stream": "stdout",
       "text": [
        "\n",
        "  2260  |    0.017600  |  \u001b[32m  0.015603\u001b[0m  |     1.127938  |             |  0.7s"
       ]
      },
      {
       "output_type": "stream",
       "stream": "stdout",
       "text": [
        "\n",
        "  2261  |  \u001b[94m  0.017544\u001b[0m  |    0.015619  |     1.123252  |             |  0.7s"
       ]
      },
      {
       "output_type": "stream",
       "stream": "stdout",
       "text": [
        "\n",
        "  2262  |    0.017682  |    0.015643  |     1.130380  |             |  0.7s"
       ]
      },
      {
       "output_type": "stream",
       "stream": "stdout",
       "text": [
        "\n",
        "  2263  |    0.017681  |    0.015629  |     1.131243  |             |  0.7s"
       ]
      },
      {
       "output_type": "stream",
       "stream": "stdout",
       "text": [
        "\n",
        "  2264  |    0.017640  |    0.015617  |     1.129539  |             |  0.7s"
       ]
      },
      {
       "output_type": "stream",
       "stream": "stdout",
       "text": [
        "\n",
        "  2265  |    0.017592  |    0.015635  |     1.125158  |             |  0.7s"
       ]
      },
      {
       "output_type": "stream",
       "stream": "stdout",
       "text": [
        "\n",
        "  2266  |    0.017666  |    0.015638  |     1.129709  |             |  0.7s"
       ]
      },
      {
       "output_type": "stream",
       "stream": "stdout",
       "text": [
        "\n",
        "  2267  |    0.017601  |    0.015647  |     1.124860  |             |  0.7s"
       ]
      },
      {
       "output_type": "stream",
       "stream": "stdout",
       "text": [
        "\n",
        "  2268  |    0.017685  |    0.015609  |     1.133025  |             |  0.7s"
       ]
      },
      {
       "output_type": "stream",
       "stream": "stdout",
       "text": [
        "\n",
        "  2269  |    0.017617  |    0.015611  |     1.128524  |             |  0.7s"
       ]
      },
      {
       "output_type": "stream",
       "stream": "stdout",
       "text": [
        "\n",
        "  2270  |    0.017576  |    0.015630  |     1.124525  |             |  0.7s"
       ]
      },
      {
       "output_type": "stream",
       "stream": "stdout",
       "text": [
        "\n",
        "  2271  |    0.017744  |    0.015648  |     1.133934  |             |  0.7s"
       ]
      },
      {
       "output_type": "stream",
       "stream": "stdout",
       "text": [
        "\n",
        "  2272  |    0.017671  |    0.015679  |     1.127013  |             |  0.7s"
       ]
      },
      {
       "output_type": "stream",
       "stream": "stdout",
       "text": [
        "\n",
        "  2273  |    0.017603  |  \u001b[32m  0.015593\u001b[0m  |     1.128919  |             |  0.7s"
       ]
      },
      {
       "output_type": "stream",
       "stream": "stdout",
       "text": [
        "\n",
        "  2274  |    0.017565  |    0.015604  |     1.125685  |             |  0.7s"
       ]
      },
      {
       "output_type": "stream",
       "stream": "stdout",
       "text": [
        "\n",
        "  2275  |    0.017636  |    0.015618  |     1.129167  |             |  0.7s"
       ]
      },
      {
       "output_type": "stream",
       "stream": "stdout",
       "text": [
        "\n",
        "  2276  |    0.017590  |    0.015621  |     1.126035  |             |  0.7s"
       ]
      },
      {
       "output_type": "stream",
       "stream": "stdout",
       "text": [
        "\n",
        "  2277  |    0.017733  |    0.015651  |     1.133041  |             |  0.7s"
       ]
      },
      {
       "output_type": "stream",
       "stream": "stdout",
       "text": [
        "\n",
        "  2278  |    0.017696  |    0.015625  |     1.132509  |             |  0.7s"
       ]
      },
      {
       "output_type": "stream",
       "stream": "stdout",
       "text": [
        "\n",
        "  2279  |    0.017637  |    0.015622  |     1.128973  |             |  0.7s"
       ]
      },
      {
       "output_type": "stream",
       "stream": "stdout",
       "text": [
        "\n",
        "  2280  |    0.017672  |    0.015607  |     1.132299  |             |  0.7s"
       ]
      },
      {
       "output_type": "stream",
       "stream": "stdout",
       "text": [
        "\n",
        "  2281  |    0.017649  |    0.015595  |     1.131741  |             |  0.7s"
       ]
      },
      {
       "output_type": "stream",
       "stream": "stdout",
       "text": [
        "\n",
        "  2282  |    0.017758  |    0.015646  |     1.134976  |             |  0.7s"
       ]
      },
      {
       "output_type": "stream",
       "stream": "stdout",
       "text": [
        "\n",
        "  2283  |    0.017654  |    0.015635  |     1.129128  |             |  0.7s"
       ]
      },
      {
       "output_type": "stream",
       "stream": "stdout",
       "text": [
        "\n",
        "  2284  |    0.017606  |    0.015595  |     1.128925  |             |  0.7s"
       ]
      },
      {
       "output_type": "stream",
       "stream": "stdout",
       "text": [
        "\n",
        "  2285  |    0.017630  |    0.015624  |     1.128420  |             |  0.7s"
       ]
      },
      {
       "output_type": "stream",
       "stream": "stdout",
       "text": [
        "\n",
        "  2286  |    0.017602  |    0.015599  |     1.128429  |             |  0.7s"
       ]
      },
      {
       "output_type": "stream",
       "stream": "stdout",
       "text": [
        "\n",
        "  2287  |    0.017576  |    0.015593  |     1.127164  |             |  0.7s"
       ]
      },
      {
       "output_type": "stream",
       "stream": "stdout",
       "text": [
        "\n",
        "  2288  |    0.017659  |    0.015634  |     1.129485  |             |  0.7s"
       ]
      },
      {
       "output_type": "stream",
       "stream": "stdout",
       "text": [
        "\n",
        "  2289  |    0.017700  |    0.015606  |     1.134164  |             |  0.7s"
       ]
      },
      {
       "output_type": "stream",
       "stream": "stdout",
       "text": [
        "\n",
        "  2290  |    0.017570  |    0.015612  |     1.125400  |             |  0.7s"
       ]
      },
      {
       "output_type": "stream",
       "stream": "stdout",
       "text": [
        "\n",
        "  2291  |    0.017693  |    0.015596  |     1.134421  |             |  0.7s"
       ]
      },
      {
       "output_type": "stream",
       "stream": "stdout",
       "text": [
        "\n",
        "  2292  |    0.017661  |    0.015610  |     1.131392  |             |  0.7s"
       ]
      },
      {
       "output_type": "stream",
       "stream": "stdout",
       "text": [
        "\n",
        "  2293  |    0.017590  |    0.015646  |     1.124277  |             |  0.7s"
       ]
      },
      {
       "output_type": "stream",
       "stream": "stdout",
       "text": [
        "\n",
        "  2294  |    0.017559  |    0.015599  |     1.125666  |             |  0.7s"
       ]
      },
      {
       "output_type": "stream",
       "stream": "stdout",
       "text": [
        "\n",
        "  2295  |    0.017663  |    0.015610  |     1.131577  |             |  0.7s"
       ]
      },
      {
       "output_type": "stream",
       "stream": "stdout",
       "text": [
        "\n",
        "  2296  |    0.017616  |    0.015598  |     1.129377  |             |  0.7s"
       ]
      },
      {
       "output_type": "stream",
       "stream": "stdout",
       "text": [
        "\n",
        "  2297  |    0.017695  |    0.015617  |     1.133073  |             |  0.7s"
       ]
      },
      {
       "output_type": "stream",
       "stream": "stdout",
       "text": [
        "\n",
        "  2298  |    0.017719  |  \u001b[32m  0.015575\u001b[0m  |     1.137682  |             |  0.7s"
       ]
      },
      {
       "output_type": "stream",
       "stream": "stdout",
       "text": [
        "\n",
        "  2299  |    0.017660  |    0.015600  |     1.132074  |             |  0.7s"
       ]
      },
      {
       "output_type": "stream",
       "stream": "stdout",
       "text": [
        "\n",
        "  2300  |    0.017694  |    0.015588  |     1.135136  |             |  0.7s"
       ]
      },
      {
       "output_type": "stream",
       "stream": "stdout",
       "text": [
        "\n",
        "  2301  |    0.017572  |  \u001b[32m  0.015555\u001b[0m  |     1.129668  |             |  0.7s"
       ]
      },
      {
       "output_type": "stream",
       "stream": "stdout",
       "text": [
        "\n",
        "  2302  |    0.017608  |    0.015570  |     1.130933  |             |  0.7s"
       ]
      },
      {
       "output_type": "stream",
       "stream": "stdout",
       "text": [
        "\n",
        "  2303  |    0.017697  |    0.015574  |     1.136320  |             |  0.7s"
       ]
      },
      {
       "output_type": "stream",
       "stream": "stdout",
       "text": [
        "\n",
        "  2304  |  \u001b[94m  0.017531\u001b[0m  |    0.015588  |     1.124620  |             |  0.7s"
       ]
      },
      {
       "output_type": "stream",
       "stream": "stdout",
       "text": [
        "\n",
        "  2305  |    0.017589  |    0.015581  |     1.128913  |             |  0.7s"
       ]
      },
      {
       "output_type": "stream",
       "stream": "stdout",
       "text": [
        "\n",
        "  2306  |    0.017717  |    0.015629  |     1.133597  |             |  0.7s"
       ]
      },
      {
       "output_type": "stream",
       "stream": "stdout",
       "text": [
        "\n",
        "  2307  |    0.017634  |    0.015609  |     1.129741  |             |  0.7s"
       ]
      },
      {
       "output_type": "stream",
       "stream": "stdout",
       "text": [
        "\n",
        "  2308  |    0.017641  |    0.015583  |     1.132048  |             |  0.7s"
       ]
      },
      {
       "output_type": "stream",
       "stream": "stdout",
       "text": [
        "\n",
        "  2309  |    0.017546  |    0.015619  |     1.123373  |             |  0.7s"
       ]
      },
      {
       "output_type": "stream",
       "stream": "stdout",
       "text": [
        "\n",
        "  2310  |    0.017538  |    0.015598  |     1.124338  |             |  0.7s"
       ]
      },
      {
       "output_type": "stream",
       "stream": "stdout",
       "text": [
        "\n",
        "  2311  |    0.017539  |    0.015596  |     1.124582  |             |  0.7s"
       ]
      },
      {
       "output_type": "stream",
       "stream": "stdout",
       "text": [
        "\n",
        "  2312  |    0.017632  |    0.015559  |     1.133278  |             |  0.7s"
       ]
      },
      {
       "output_type": "stream",
       "stream": "stdout",
       "text": [
        "\n",
        "  2313  |    0.017631  |    0.015593  |     1.130690  |             |  0.7s"
       ]
      },
      {
       "output_type": "stream",
       "stream": "stdout",
       "text": [
        "\n",
        "  2314  |    0.017592  |    0.015564  |     1.130272  |             |  0.7s"
       ]
      },
      {
       "output_type": "stream",
       "stream": "stdout",
       "text": [
        "\n",
        "  2315  |    0.017603  |    0.015612  |     1.127503  |             |  0.7s"
       ]
      },
      {
       "output_type": "stream",
       "stream": "stdout",
       "text": [
        "\n",
        "  2316  |    0.017608  |    0.015614  |     1.127730  |             |  0.7s"
       ]
      },
      {
       "output_type": "stream",
       "stream": "stdout",
       "text": [
        "\n",
        "  2317  |    0.017730  |    0.015565  |     1.139061  |             |  0.7s"
       ]
      },
      {
       "output_type": "stream",
       "stream": "stdout",
       "text": [
        "\n",
        "  2318  |  \u001b[94m  0.017505\u001b[0m  |    0.015576  |     1.123863  |             |  0.7s"
       ]
      },
      {
       "output_type": "stream",
       "stream": "stdout",
       "text": [
        "\n",
        "  2319  |    0.017592  |  \u001b[32m  0.015551\u001b[0m  |     1.131268  |             |  0.7s"
       ]
      },
      {
       "output_type": "stream",
       "stream": "stdout",
       "text": [
        "\n",
        "  2320  |  \u001b[94m  0.017489\u001b[0m  |    0.015594  |     1.121480  |             |  0.7s"
       ]
      },
      {
       "output_type": "stream",
       "stream": "stdout",
       "text": [
        "\n",
        "  2321  |    0.017540  |  \u001b[32m  0.015541\u001b[0m  |     1.128640  |             |  0.7s"
       ]
      },
      {
       "output_type": "stream",
       "stream": "stdout",
       "text": [
        "\n",
        "  2322  |    0.017572  |    0.015555  |     1.129714  |             |  0.7s"
       ]
      },
      {
       "output_type": "stream",
       "stream": "stdout",
       "text": [
        "\n",
        "  2323  |    0.017566  |    0.015568  |     1.128371  |             |  0.7s"
       ]
      },
      {
       "output_type": "stream",
       "stream": "stdout",
       "text": [
        "\n",
        "  2324  |    0.017606  |    0.015572  |     1.130592  |             |  0.7s"
       ]
      },
      {
       "output_type": "stream",
       "stream": "stdout",
       "text": [
        "\n",
        "  2325  |    0.017590  |    0.015565  |     1.130114  |             |  0.7s"
       ]
      },
      {
       "output_type": "stream",
       "stream": "stdout",
       "text": [
        "\n",
        "  2326  |    0.017579  |    0.015570  |     1.129047  |             |  0.7s"
       ]
      },
      {
       "output_type": "stream",
       "stream": "stdout",
       "text": [
        "\n",
        "  2327  |    0.017597  |  \u001b[32m  0.015521\u001b[0m  |     1.133757  |             |  0.7s"
       ]
      },
      {
       "output_type": "stream",
       "stream": "stdout",
       "text": [
        "\n",
        "  2328  |    0.017664  |    0.015561  |     1.135144  |             |  0.7s"
       ]
      },
      {
       "output_type": "stream",
       "stream": "stdout",
       "text": [
        "\n",
        "  2329  |    0.017544  |    0.015542  |     1.128780  |             |  0.7s"
       ]
      },
      {
       "output_type": "stream",
       "stream": "stdout",
       "text": [
        "\n",
        "  2330  |    0.017566  |    0.015540  |     1.130401  |             |  0.7s"
       ]
      },
      {
       "output_type": "stream",
       "stream": "stdout",
       "text": [
        "\n",
        "  2331  |    0.017559  |    0.015552  |     1.129044  |             |  0.7s"
       ]
      },
      {
       "output_type": "stream",
       "stream": "stdout",
       "text": [
        "\n",
        "  2332  |    0.017502  |    0.015570  |     1.124051  |             |  0.7s"
       ]
      },
      {
       "output_type": "stream",
       "stream": "stdout",
       "text": [
        "\n",
        "  2333  |    0.017531  |    0.015561  |     1.126608  |             |  0.7s"
       ]
      },
      {
       "output_type": "stream",
       "stream": "stdout",
       "text": [
        "\n",
        "  2334  |    0.017529  |    0.015563  |     1.126353  |             |  0.7s"
       ]
      },
      {
       "output_type": "stream",
       "stream": "stdout",
       "text": [
        "\n",
        "  2335  |    0.017538  |    0.015569  |     1.126433  |             |  0.7s"
       ]
      },
      {
       "output_type": "stream",
       "stream": "stdout",
       "text": [
        "\n",
        "  2336  |    0.017537  |    0.015562  |     1.126938  |             |  0.7s"
       ]
      },
      {
       "output_type": "stream",
       "stream": "stdout",
       "text": [
        "\n",
        "  2337  |    0.017537  |    0.015568  |     1.126504  |             |  0.7s"
       ]
      },
      {
       "output_type": "stream",
       "stream": "stdout",
       "text": [
        "\n",
        "  2338  |    0.017568  |    0.015547  |     1.129983  |             |  0.7s"
       ]
      },
      {
       "output_type": "stream",
       "stream": "stdout",
       "text": [
        "\n",
        "  2339  |    0.017545  |    0.015558  |     1.127705  |             |  0.7s"
       ]
      },
      {
       "output_type": "stream",
       "stream": "stdout",
       "text": [
        "\n",
        "  2340  |    0.017646  |    0.015583  |     1.132384  |             |  0.7s"
       ]
      },
      {
       "output_type": "stream",
       "stream": "stdout",
       "text": [
        "\n",
        "  2341  |    0.017550  |    0.015550  |     1.128557  |             |  0.7s"
       ]
      },
      {
       "output_type": "stream",
       "stream": "stdout",
       "text": [
        "\n",
        "  2342  |    0.017703  |    0.015559  |     1.137815  |             |  0.7s"
       ]
      },
      {
       "output_type": "stream",
       "stream": "stdout",
       "text": [
        "\n",
        "  2343  |    0.017497  |    0.015559  |     1.124544  |             |  0.7s"
       ]
      },
      {
       "output_type": "stream",
       "stream": "stdout",
       "text": [
        "\n",
        "  2344  |    0.017518  |    0.015546  |     1.126793  |             |  0.7s"
       ]
      },
      {
       "output_type": "stream",
       "stream": "stdout",
       "text": [
        "\n",
        "  2345  |    0.017511  |    0.015578  |     1.124049  |             |  0.7s"
       ]
      },
      {
       "output_type": "stream",
       "stream": "stdout",
       "text": [
        "\n",
        "  2346  |    0.017586  |  \u001b[32m  0.015515\u001b[0m  |     1.133481  |             |  0.7s"
       ]
      },
      {
       "output_type": "stream",
       "stream": "stdout",
       "text": [
        "\n",
        "  2347  |    0.017561  |    0.015545  |     1.129684  |             |  0.7s"
       ]
      },
      {
       "output_type": "stream",
       "stream": "stdout",
       "text": [
        "\n",
        "  2348  |    0.017547  |    0.015559  |     1.127767  |             |  0.7s"
       ]
      },
      {
       "output_type": "stream",
       "stream": "stdout",
       "text": [
        "\n",
        "  2349  |    0.017545  |    0.015519  |     1.130575  |             |  0.7s"
       ]
      },
      {
       "output_type": "stream",
       "stream": "stdout",
       "text": [
        "\n",
        "  2350  |    0.017543  |    0.015529  |     1.129674  |             |  0.7s"
       ]
      },
      {
       "output_type": "stream",
       "stream": "stdout",
       "text": [
        "\n",
        "  2351  |    0.017574  |    0.015551  |     1.130118  |             |  0.7s"
       ]
      },
      {
       "output_type": "stream",
       "stream": "stdout",
       "text": [
        "\n",
        "  2352  |    0.017502  |    0.015551  |     1.125454  |             |  0.7s"
       ]
      },
      {
       "output_type": "stream",
       "stream": "stdout",
       "text": [
        "\n",
        "  2353  |    0.017525  |    0.015523  |     1.128952  |             |  0.7s"
       ]
      },
      {
       "output_type": "stream",
       "stream": "stdout",
       "text": [
        "\n",
        "  2354  |    0.017586  |    0.015556  |     1.130474  |             |  0.7s"
       ]
      },
      {
       "output_type": "stream",
       "stream": "stdout",
       "text": [
        "\n",
        "  2355  |    0.017516  |    0.015550  |     1.126429  |             |  0.7s"
       ]
      },
      {
       "output_type": "stream",
       "stream": "stdout",
       "text": [
        "\n",
        "  2356  |    0.017642  |  \u001b[32m  0.015501\u001b[0m  |     1.138077  |             |  0.7s"
       ]
      },
      {
       "output_type": "stream",
       "stream": "stdout",
       "text": [
        "\n",
        "  2357  |    0.017507  |    0.015521  |     1.127916  |             |  0.7s"
       ]
      },
      {
       "output_type": "stream",
       "stream": "stdout",
       "text": [
        "\n",
        "  2358  |    0.017521  |    0.015543  |     1.127298  |             |  0.7s"
       ]
      },
      {
       "output_type": "stream",
       "stream": "stdout",
       "text": [
        "\n",
        "  2359  |    0.017502  |    0.015506  |     1.128763  |             |  0.7s"
       ]
      },
      {
       "output_type": "stream",
       "stream": "stdout",
       "text": [
        "\n",
        "  2360  |  \u001b[94m  0.017455\u001b[0m  |    0.015545  |     1.122874  |             |  0.7s"
       ]
      },
      {
       "output_type": "stream",
       "stream": "stdout",
       "text": [
        "\n",
        "  2361  |    0.017464  |    0.015512  |     1.125865  |             |  0.7s"
       ]
      },
      {
       "output_type": "stream",
       "stream": "stdout",
       "text": [
        "\n",
        "  2362  |    0.017515  |    0.015530  |     1.127859  |             |  0.7s"
       ]
      },
      {
       "output_type": "stream",
       "stream": "stdout",
       "text": [
        "\n",
        "  2363  |    0.017571  |    0.015567  |     1.128742  |             |  0.7s"
       ]
      },
      {
       "output_type": "stream",
       "stream": "stdout",
       "text": [
        "\n",
        "  2364  |    0.017556  |    0.015525  |     1.130761  |             |  0.7s"
       ]
      },
      {
       "output_type": "stream",
       "stream": "stdout",
       "text": [
        "\n",
        "  2365  |    0.017577  |    0.015577  |     1.128412  |             |  0.7s"
       ]
      },
      {
       "output_type": "stream",
       "stream": "stdout",
       "text": [
        "\n",
        "  2366  |    0.017614  |    0.015520  |     1.134922  |             |  0.7s"
       ]
      },
      {
       "output_type": "stream",
       "stream": "stdout",
       "text": [
        "\n",
        "  2367  |    0.017491  |    0.015551  |     1.124756  |             |  0.7s"
       ]
      },
      {
       "output_type": "stream",
       "stream": "stdout",
       "text": [
        "\n",
        "  2368  |    0.017510  |    0.015520  |     1.128207  |             |  0.7s"
       ]
      },
      {
       "output_type": "stream",
       "stream": "stdout",
       "text": [
        "\n",
        "  2369  |    0.017473  |    0.015531  |     1.125064  |             |  0.7s"
       ]
      },
      {
       "output_type": "stream",
       "stream": "stdout",
       "text": [
        "\n",
        "  2370  |    0.017483  |  \u001b[32m  0.015497\u001b[0m  |     1.128206  |             |  0.7s"
       ]
      },
      {
       "output_type": "stream",
       "stream": "stdout",
       "text": [
        "\n",
        "  2371  |    0.017570  |    0.015514  |     1.132550  |             |  0.7s"
       ]
      },
      {
       "output_type": "stream",
       "stream": "stdout",
       "text": [
        "\n",
        "  2372  |    0.017509  |    0.015509  |     1.128998  |             |  0.7s"
       ]
      },
      {
       "output_type": "stream",
       "stream": "stdout",
       "text": [
        "\n",
        "  2373  |    0.017462  |    0.015531  |     1.124312  |             |  0.7s"
       ]
      },
      {
       "output_type": "stream",
       "stream": "stdout",
       "text": [
        "\n",
        "  2374  |  \u001b[94m  0.017435\u001b[0m  |    0.015526  |     1.122929  |             |  0.7s"
       ]
      },
      {
       "output_type": "stream",
       "stream": "stdout",
       "text": [
        "\n",
        "  2375  |    0.017603  |    0.015542  |     1.132562  |             |  0.7s"
       ]
      },
      {
       "output_type": "stream",
       "stream": "stdout",
       "text": [
        "\n",
        "  2376  |    0.017530  |    0.015524  |     1.129218  |             |  0.7s"
       ]
      },
      {
       "output_type": "stream",
       "stream": "stdout",
       "text": [
        "\n",
        "  2377  |    0.017500  |    0.015523  |     1.127389  |             |  0.7s"
       ]
      },
      {
       "output_type": "stream",
       "stream": "stdout",
       "text": [
        "\n",
        "  2378  |    0.017488  |    0.015501  |     1.128183  |             |  0.7s"
       ]
      },
      {
       "output_type": "stream",
       "stream": "stdout",
       "text": [
        "\n",
        "  2379  |    0.017476  |    0.015544  |     1.124259  |             |  0.7s"
       ]
      },
      {
       "output_type": "stream",
       "stream": "stdout",
       "text": [
        "\n",
        "  2380  |    0.017517  |    0.015529  |     1.128034  |             |  0.7s"
       ]
      },
      {
       "output_type": "stream",
       "stream": "stdout",
       "text": [
        "\n",
        "  2381  |    0.017525  |    0.015519  |     1.129288  |             |  0.7s"
       ]
      },
      {
       "output_type": "stream",
       "stream": "stdout",
       "text": [
        "\n",
        "  2382  |  \u001b[94m  0.017404\u001b[0m  |    0.015545  |     1.119619  |             |  0.7s"
       ]
      },
      {
       "output_type": "stream",
       "stream": "stdout",
       "text": [
        "\n",
        "  2383  |    0.017506  |  \u001b[32m  0.015484\u001b[0m  |     1.130562  |             |  0.7s"
       ]
      },
      {
       "output_type": "stream",
       "stream": "stdout",
       "text": [
        "\n",
        "  2384  |    0.017514  |    0.015512  |     1.129127  |             |  0.7s"
       ]
      },
      {
       "output_type": "stream",
       "stream": "stdout",
       "text": [
        "\n",
        "  2385  |    0.017509  |    0.015500  |     1.129614  |             |  0.7s"
       ]
      },
      {
       "output_type": "stream",
       "stream": "stdout",
       "text": [
        "\n",
        "  2386  |    0.017442  |    0.015562  |     1.120781  |             |  0.7s"
       ]
      },
      {
       "output_type": "stream",
       "stream": "stdout",
       "text": [
        "\n",
        "  2387  |  \u001b[94m  0.017370\u001b[0m  |    0.015496  |     1.120951  |             |  0.7s"
       ]
      },
      {
       "output_type": "stream",
       "stream": "stdout",
       "text": [
        "\n",
        "  2388  |    0.017480  |    0.015519  |     1.126363  |             |  0.7s"
       ]
      },
      {
       "output_type": "stream",
       "stream": "stdout",
       "text": [
        "\n",
        "  2389  |    0.017605  |    0.015514  |     1.134736  |             |  0.7s"
       ]
      },
      {
       "output_type": "stream",
       "stream": "stdout",
       "text": [
        "\n",
        "  2390  |    0.017461  |  \u001b[32m  0.015481\u001b[0m  |     1.127866  |             |  0.7s"
       ]
      },
      {
       "output_type": "stream",
       "stream": "stdout",
       "text": [
        "\n",
        "  2391  |    0.017457  |    0.015503  |     1.126032  |             |  0.7s"
       ]
      },
      {
       "output_type": "stream",
       "stream": "stdout",
       "text": [
        "\n",
        "  2392  |    0.017531  |    0.015522  |     1.129483  |             |  0.7s"
       ]
      },
      {
       "output_type": "stream",
       "stream": "stdout",
       "text": [
        "\n",
        "  2393  |    0.017453  |    0.015501  |     1.125938  |             |  0.7s"
       ]
      },
      {
       "output_type": "stream",
       "stream": "stdout",
       "text": [
        "\n",
        "  2394  |    0.017472  |    0.015526  |     1.125388  |             |  0.7s"
       ]
      },
      {
       "output_type": "stream",
       "stream": "stdout",
       "text": [
        "\n",
        "  2395  |    0.017521  |    0.015526  |     1.128474  |             |  0.7s"
       ]
      },
      {
       "output_type": "stream",
       "stream": "stdout",
       "text": [
        "\n",
        "  2396  |    0.017471  |    0.015527  |     1.125209  |             |  0.7s"
       ]
      },
      {
       "output_type": "stream",
       "stream": "stdout",
       "text": [
        "\n",
        "  2397  |  \u001b[94m  0.017369\u001b[0m  |    0.015511  |     1.119752  |             |  0.7s"
       ]
      },
      {
       "output_type": "stream",
       "stream": "stdout",
       "text": [
        "\n",
        "  2398  |    0.017413  |    0.015487  |     1.124386  |             |  0.7s"
       ]
      },
      {
       "output_type": "stream",
       "stream": "stdout",
       "text": [
        "\n",
        "  2399  |    0.017489  |  \u001b[32m  0.015481\u001b[0m  |     1.129659  |             |  0.7s"
       ]
      },
      {
       "output_type": "stream",
       "stream": "stdout",
       "text": [
        "\n",
        "  2400  |    0.017500  |    0.015520  |     1.127605  |             |  0.7s"
       ]
      },
      {
       "output_type": "stream",
       "stream": "stdout",
       "text": [
        "\n",
        "  2401  |    0.017520  |    0.015497  |     1.130548  |             |  0.7s"
       ]
      },
      {
       "output_type": "stream",
       "stream": "stdout",
       "text": [
        "\n",
        "  2402  |    0.017469  |    0.015530  |     1.124859  |             |  0.7s"
       ]
      },
      {
       "output_type": "stream",
       "stream": "stdout",
       "text": [
        "\n",
        "  2403  |    0.017529  |  \u001b[32m  0.015475\u001b[0m  |     1.132765  |             |  0.7s"
       ]
      },
      {
       "output_type": "stream",
       "stream": "stdout",
       "text": [
        "\n",
        "  2404  |    0.017425  |    0.015485  |     1.125265  |             |  0.7s"
       ]
      },
      {
       "output_type": "stream",
       "stream": "stdout",
       "text": [
        "\n",
        "  2405  |    0.017496  |    0.015503  |     1.128568  |             |  0.7s"
       ]
      },
      {
       "output_type": "stream",
       "stream": "stdout",
       "text": [
        "\n",
        "  2406  |    0.017409  |    0.015486  |     1.124165  |             |  0.7s"
       ]
      },
      {
       "output_type": "stream",
       "stream": "stdout",
       "text": [
        "\n",
        "  2407  |    0.017461  |    0.015511  |     1.125744  |             |  0.7s"
       ]
      },
      {
       "output_type": "stream",
       "stream": "stdout",
       "text": [
        "\n",
        "  2408  |    0.017545  |    0.015509  |     1.131280  |             |  0.7s"
       ]
      },
      {
       "output_type": "stream",
       "stream": "stdout",
       "text": [
        "\n",
        "  2409  |    0.017436  |  \u001b[32m  0.015463\u001b[0m  |     1.127595  |             |  0.7s"
       ]
      },
      {
       "output_type": "stream",
       "stream": "stdout",
       "text": [
        "\n",
        "  2410  |    0.017527  |    0.015491  |     1.131420  |             |  0.7s"
       ]
      },
      {
       "output_type": "stream",
       "stream": "stdout",
       "text": [
        "\n",
        "  2411  |    0.017502  |    0.015468  |     1.131559  |             |  0.7s"
       ]
      },
      {
       "output_type": "stream",
       "stream": "stdout",
       "text": [
        "\n",
        "  2412  |    0.017534  |    0.015508  |     1.130651  |             |  0.7s"
       ]
      },
      {
       "output_type": "stream",
       "stream": "stdout",
       "text": [
        "\n",
        "  2413  |    0.017447  |  \u001b[32m  0.015433\u001b[0m  |     1.130513  |             |  0.7s"
       ]
      },
      {
       "output_type": "stream",
       "stream": "stdout",
       "text": [
        "\n",
        "  2414  |    0.017487  |    0.015472  |     1.130260  |             |  0.7s"
       ]
      },
      {
       "output_type": "stream",
       "stream": "stdout",
       "text": [
        "\n",
        "  2415  |    0.017470  |    0.015460  |     1.129975  |             |  0.7s"
       ]
      },
      {
       "output_type": "stream",
       "stream": "stdout",
       "text": [
        "\n",
        "  2416  |    0.017559  |    0.015501  |     1.132758  |             |  0.7s"
       ]
      },
      {
       "output_type": "stream",
       "stream": "stdout",
       "text": [
        "\n",
        "  2417  |    0.017519  |  \u001b[32m  0.015431\u001b[0m  |     1.135327  |             |  0.7s"
       ]
      },
      {
       "output_type": "stream",
       "stream": "stdout",
       "text": [
        "\n",
        "  2418  |    0.017425  |    0.015474  |     1.126094  |             |  0.7s"
       ]
      },
      {
       "output_type": "stream",
       "stream": "stdout",
       "text": [
        "\n",
        "  2419  |    0.017378  |    0.015491  |     1.121819  |             |  0.7s"
       ]
      },
      {
       "output_type": "stream",
       "stream": "stdout",
       "text": [
        "\n",
        "  2420  |    0.017416  |  \u001b[32m  0.015395\u001b[0m  |     1.131273  |             |  0.7s"
       ]
      },
      {
       "output_type": "stream",
       "stream": "stdout",
       "text": [
        "\n",
        "  2421  |  \u001b[94m  0.017348\u001b[0m  |    0.015429  |     1.124417  |             |  0.7s"
       ]
      },
      {
       "output_type": "stream",
       "stream": "stdout",
       "text": [
        "\n",
        "  2422  |    0.017359  |    0.015467  |     1.122338  |             |  0.7s"
       ]
      },
      {
       "output_type": "stream",
       "stream": "stdout",
       "text": [
        "\n",
        "  2423  |  \u001b[94m  0.017288\u001b[0m  |    0.015491  |     1.115991  |             |  0.7s"
       ]
      },
      {
       "output_type": "stream",
       "stream": "stdout",
       "text": [
        "\n",
        "  2424  |    0.017360  |    0.015446  |     1.123889  |             |  0.7s"
       ]
      },
      {
       "output_type": "stream",
       "stream": "stdout",
       "text": [
        "\n",
        "  2425  |    0.017369  |    0.015436  |     1.125277  |             |  0.7s"
       ]
      },
      {
       "output_type": "stream",
       "stream": "stdout",
       "text": [
        "\n",
        "  2426  |    0.017481  |    0.015487  |     1.128780  |             |  0.7s"
       ]
      },
      {
       "output_type": "stream",
       "stream": "stdout",
       "text": [
        "\n",
        "  2427  |    0.017428  |    0.015479  |     1.125870  |             |  0.7s"
       ]
      },
      {
       "output_type": "stream",
       "stream": "stdout",
       "text": [
        "\n",
        "  2428  |    0.017430  |    0.015429  |     1.129745  |             |  0.7s"
       ]
      },
      {
       "output_type": "stream",
       "stream": "stdout",
       "text": [
        "\n",
        "  2429  |    0.017459  |    0.015446  |     1.130317  |             |  0.7s"
       ]
      },
      {
       "output_type": "stream",
       "stream": "stdout",
       "text": [
        "\n",
        "  2430  |    0.017491  |    0.015470  |     1.130646  |             |  0.7s"
       ]
      },
      {
       "output_type": "stream",
       "stream": "stdout",
       "text": [
        "\n",
        "  2431  |    0.017456  |    0.015458  |     1.129229  |             |  0.7s"
       ]
      },
      {
       "output_type": "stream",
       "stream": "stdout",
       "text": [
        "\n",
        "  2432  |    0.017348  |    0.015459  |     1.122204  |             |  0.7s"
       ]
      },
      {
       "output_type": "stream",
       "stream": "stdout",
       "text": [
        "\n",
        "  2433  |    0.017370  |    0.015476  |     1.122363  |             |  0.7s"
       ]
      },
      {
       "output_type": "stream",
       "stream": "stdout",
       "text": [
        "\n",
        "  2434  |    0.017457  |    0.015467  |     1.128635  |             |  0.7s"
       ]
      },
      {
       "output_type": "stream",
       "stream": "stdout",
       "text": [
        "\n",
        "  2435  |    0.017400  |    0.015487  |     1.123539  |             |  0.7s"
       ]
      },
      {
       "output_type": "stream",
       "stream": "stdout",
       "text": [
        "\n",
        "  2436  |    0.017468  |    0.015474  |     1.128879  |             |  0.7s"
       ]
      },
      {
       "output_type": "stream",
       "stream": "stdout",
       "text": [
        "\n",
        "  2437  |    0.017442  |    0.015441  |     1.129625  |             |  0.7s"
       ]
      },
      {
       "output_type": "stream",
       "stream": "stdout",
       "text": [
        "\n",
        "  2438  |    0.017556  |    0.015449  |     1.136397  |             |  0.7s"
       ]
      },
      {
       "output_type": "stream",
       "stream": "stdout",
       "text": [
        "\n",
        "  2439  |    0.017448  |    0.015442  |     1.129859  |             |  0.7s"
       ]
      },
      {
       "output_type": "stream",
       "stream": "stdout",
       "text": [
        "\n",
        "  2440  |    0.017389  |    0.015456  |     1.125054  |             |  0.7s"
       ]
      },
      {
       "output_type": "stream",
       "stream": "stdout",
       "text": [
        "\n",
        "  2441  |    0.017382  |    0.015458  |     1.124475  |             |  0.7s"
       ]
      },
      {
       "output_type": "stream",
       "stream": "stdout",
       "text": [
        "\n",
        "  2442  |    0.017508  |    0.015460  |     1.132494  |             |  0.7s"
       ]
      },
      {
       "output_type": "stream",
       "stream": "stdout",
       "text": [
        "\n",
        "  2443  |    0.017444  |    0.015473  |     1.127339  |             |  0.7s"
       ]
      },
      {
       "output_type": "stream",
       "stream": "stdout",
       "text": [
        "\n",
        "  2444  |    0.017343  |    0.015464  |     1.121465  |             |  0.7s"
       ]
      },
      {
       "output_type": "stream",
       "stream": "stdout",
       "text": [
        "\n",
        "  2445  |    0.017456  |    0.015455  |     1.129442  |             |  0.7s"
       ]
      },
      {
       "output_type": "stream",
       "stream": "stdout",
       "text": [
        "\n",
        "  2446  |    0.017416  |    0.015440  |     1.127973  |             |  0.7s"
       ]
      },
      {
       "output_type": "stream",
       "stream": "stdout",
       "text": [
        "\n",
        "  2447  |    0.017382  |    0.015453  |     1.124808  |             |  0.7s"
       ]
      },
      {
       "output_type": "stream",
       "stream": "stdout",
       "text": [
        "\n",
        "  2448  |    0.017512  |    0.015425  |     1.135345  |             |  0.7s"
       ]
      },
      {
       "output_type": "stream",
       "stream": "stdout",
       "text": [
        "\n",
        "  2449  |    0.017329  |    0.015446  |     1.121949  |             |  0.7s"
       ]
      },
      {
       "output_type": "stream",
       "stream": "stdout",
       "text": [
        "\n",
        "  2450  |    0.017368  |    0.015459  |     1.123487  |             |  0.7s"
       ]
      },
      {
       "output_type": "stream",
       "stream": "stdout",
       "text": [
        "\n",
        "  2451  |    0.017476  |    0.015484  |     1.128666  |             |  0.7s"
       ]
      },
      {
       "output_type": "stream",
       "stream": "stdout",
       "text": [
        "\n",
        "  2452  |    0.017328  |    0.015425  |     1.123403  |             |  0.7s"
       ]
      },
      {
       "output_type": "stream",
       "stream": "stdout",
       "text": [
        "\n",
        "  2453  |    0.017450  |    0.015415  |     1.132010  |             |  0.7s"
       ]
      },
      {
       "output_type": "stream",
       "stream": "stdout",
       "text": [
        "\n",
        "  2454  |    0.017382  |    0.015445  |     1.125456  |             |  0.7s"
       ]
      },
      {
       "output_type": "stream",
       "stream": "stdout",
       "text": [
        "\n",
        "  2455  |    0.017458  |    0.015448  |     1.130103  |             |  0.7s"
       ]
      },
      {
       "output_type": "stream",
       "stream": "stdout",
       "text": [
        "\n",
        "  2456  |    0.017317  |    0.015464  |     1.119830  |             |  0.7s"
       ]
      },
      {
       "output_type": "stream",
       "stream": "stdout",
       "text": [
        "\n",
        "  2457  |    0.017383  |    0.015455  |     1.124781  |             |  0.7s"
       ]
      },
      {
       "output_type": "stream",
       "stream": "stdout",
       "text": [
        "\n",
        "  2458  |    0.017377  |    0.015451  |     1.124706  |             |  0.7s"
       ]
      },
      {
       "output_type": "stream",
       "stream": "stdout",
       "text": [
        "\n",
        "  2459  |    0.017548  |    0.015424  |     1.137696  |             |  0.7s"
       ]
      },
      {
       "output_type": "stream",
       "stream": "stdout",
       "text": [
        "\n",
        "  2460  |    0.017288  |    0.015456  |     1.118549  |             |  0.7s"
       ]
      },
      {
       "output_type": "stream",
       "stream": "stdout",
       "text": [
        "\n",
        "  2461  |    0.017420  |    0.015426  |     1.129285  |             |  0.7s"
       ]
      },
      {
       "output_type": "stream",
       "stream": "stdout",
       "text": [
        "\n",
        "  2462  |    0.017415  |    0.015409  |     1.130173  |             |  0.7s"
       ]
      },
      {
       "output_type": "stream",
       "stream": "stdout",
       "text": [
        "\n",
        "  2463  |    0.017427  |    0.015448  |     1.128126  |             |  0.7s"
       ]
      },
      {
       "output_type": "stream",
       "stream": "stdout",
       "text": [
        "\n",
        "  2464  |    0.017324  |    0.015486  |     1.118670  |             |  0.7s"
       ]
      },
      {
       "output_type": "stream",
       "stream": "stdout",
       "text": [
        "\n",
        "  2465  |    0.017442  |    0.015426  |     1.130675  |             |  0.7s"
       ]
      },
      {
       "output_type": "stream",
       "stream": "stdout",
       "text": [
        "\n",
        "  2466  |    0.017356  |    0.015445  |     1.123734  |             |  0.7s"
       ]
      },
      {
       "output_type": "stream",
       "stream": "stdout",
       "text": [
        "\n",
        "  2467  |    0.017494  |    0.015405  |     1.135603  |             |  0.7s"
       ]
      },
      {
       "output_type": "stream",
       "stream": "stdout",
       "text": [
        "\n",
        "  2468  |  \u001b[94m  0.017238\u001b[0m  |    0.015423  |     1.117686  |             |  0.7s"
       ]
      },
      {
       "output_type": "stream",
       "stream": "stdout",
       "text": [
        "\n",
        "  2469  |    0.017358  |    0.015441  |     1.124088  |             |  0.7s"
       ]
      },
      {
       "output_type": "stream",
       "stream": "stdout",
       "text": [
        "\n",
        "  2470  |    0.017409  |    0.015446  |     1.127106  |             |  0.7s"
       ]
      },
      {
       "output_type": "stream",
       "stream": "stdout",
       "text": [
        "\n",
        "  2471  |    0.017431  |    0.015432  |     1.129552  |             |  0.7s"
       ]
      },
      {
       "output_type": "stream",
       "stream": "stdout",
       "text": [
        "\n",
        "  2472  |    0.017401  |    0.015446  |     1.126517  |             |  0.7s"
       ]
      },
      {
       "output_type": "stream",
       "stream": "stdout",
       "text": [
        "\n",
        "  2473  |    0.017434  |    0.015423  |     1.130414  |             |  0.7s"
       ]
      },
      {
       "output_type": "stream",
       "stream": "stdout",
       "text": [
        "\n",
        "  2474  |    0.017281  |  \u001b[32m  0.015391\u001b[0m  |     1.122798  |             |  0.7s"
       ]
      },
      {
       "output_type": "stream",
       "stream": "stdout",
       "text": [
        "\n",
        "  2475  |    0.017289  |    0.015397  |     1.122886  |             |  0.7s"
       ]
      },
      {
       "output_type": "stream",
       "stream": "stdout",
       "text": [
        "\n",
        "  2476  |    0.017338  |    0.015413  |     1.124913  |             |  0.7s"
       ]
      },
      {
       "output_type": "stream",
       "stream": "stdout",
       "text": [
        "\n",
        "  2477  |    0.017493  |    0.015430  |     1.133764  |             |  0.7s"
       ]
      },
      {
       "output_type": "stream",
       "stream": "stdout",
       "text": [
        "\n",
        "  2478  |    0.017388  |    0.015398  |     1.129256  |             |  0.7s"
       ]
      },
      {
       "output_type": "stream",
       "stream": "stdout",
       "text": [
        "\n",
        "  2479  |    0.017485  |    0.015422  |     1.133770  |             |  0.7s"
       ]
      },
      {
       "output_type": "stream",
       "stream": "stdout",
       "text": [
        "\n",
        "  2480  |    0.017424  |    0.015435  |     1.128836  |             |  0.7s"
       ]
      },
      {
       "output_type": "stream",
       "stream": "stdout",
       "text": [
        "\n",
        "  2481  |    0.017398  |    0.015441  |     1.126772  |             |  0.7s"
       ]
      },
      {
       "output_type": "stream",
       "stream": "stdout",
       "text": [
        "\n",
        "  2482  |    0.017401  |    0.015441  |     1.126908  |             |  0.7s"
       ]
      },
      {
       "output_type": "stream",
       "stream": "stdout",
       "text": [
        "\n",
        "  2483  |    0.017373  |    0.015450  |     1.124443  |             |  0.7s"
       ]
      },
      {
       "output_type": "stream",
       "stream": "stdout",
       "text": [
        "\n",
        "  2484  |    0.017453  |    0.015401  |     1.133220  |             |  0.7s"
       ]
      },
      {
       "output_type": "stream",
       "stream": "stdout",
       "text": [
        "\n",
        "  2485  |    0.017520  |    0.015437  |     1.134927  |             |  0.7s"
       ]
      },
      {
       "output_type": "stream",
       "stream": "stdout",
       "text": [
        "\n",
        "  2486  |    0.017423  |    0.015451  |     1.127640  |             |  0.7s"
       ]
      },
      {
       "output_type": "stream",
       "stream": "stdout",
       "text": [
        "\n",
        "  2487  |    0.017347  |    0.015419  |     1.125042  |             |  0.7s"
       ]
      },
      {
       "output_type": "stream",
       "stream": "stdout",
       "text": [
        "\n",
        "  2488  |    0.017382  |    0.015403  |     1.128479  |             |  0.7s"
       ]
      },
      {
       "output_type": "stream",
       "stream": "stdout",
       "text": [
        "\n",
        "  2489  |    0.017351  |    0.015424  |     1.124960  |             |  0.7s"
       ]
      },
      {
       "output_type": "stream",
       "stream": "stdout",
       "text": [
        "\n",
        "  2490  |    0.017375  |  \u001b[32m  0.015360\u001b[0m  |     1.131126  |             |  0.7s"
       ]
      },
      {
       "output_type": "stream",
       "stream": "stdout",
       "text": [
        "\n",
        "  2491  |    0.017366  |    0.015436  |     1.125075  |             |  0.7s"
       ]
      },
      {
       "output_type": "stream",
       "stream": "stdout",
       "text": [
        "\n",
        "  2492  |    0.017377  |    0.015445  |     1.125094  |             |  0.7s"
       ]
      },
      {
       "output_type": "stream",
       "stream": "stdout",
       "text": [
        "\n",
        "  2493  |    0.017363  |    0.015389  |     1.128299  |             |  0.7s"
       ]
      },
      {
       "output_type": "stream",
       "stream": "stdout",
       "text": [
        "\n",
        "  2494  |    0.017348  |    0.015384  |     1.127711  |             |  0.7s"
       ]
      },
      {
       "output_type": "stream",
       "stream": "stdout",
       "text": [
        "\n",
        "  2495  |    0.017318  |  \u001b[32m  0.015346\u001b[0m  |     1.128532  |             |  0.7s"
       ]
      },
      {
       "output_type": "stream",
       "stream": "stdout",
       "text": [
        "\n",
        "  2496  |    0.017400  |    0.015422  |     1.128231  |             |  0.7s"
       ]
      },
      {
       "output_type": "stream",
       "stream": "stdout",
       "text": [
        "\n",
        "  2497  |    0.017394  |    0.015385  |     1.130578  |             |  0.7s"
       ]
      },
      {
       "output_type": "stream",
       "stream": "stdout",
       "text": [
        "\n",
        "  2498  |    0.017325  |    0.015385  |     1.126099  |             |  0.7s"
       ]
      },
      {
       "output_type": "stream",
       "stream": "stdout",
       "text": [
        "\n",
        "  2499  |    0.017264  |    0.015403  |     1.120786  |             |  0.7s"
       ]
      },
      {
       "output_type": "stream",
       "stream": "stdout",
       "text": [
        "\n",
        "  2500  |    0.017332  |    0.015434  |     1.122993  |             |  0.7s"
       ]
      },
      {
       "output_type": "stream",
       "stream": "stdout",
       "text": [
        "\n",
        "  2501  |    0.017333  |    0.015379  |     1.127082  |             |  0.7s"
       ]
      },
      {
       "output_type": "stream",
       "stream": "stdout",
       "text": [
        "\n",
        "  2502  |    0.017331  |    0.015408  |     1.124839  |             |  0.7s"
       ]
      },
      {
       "output_type": "stream",
       "stream": "stdout",
       "text": [
        "\n",
        "  2503  |    0.017385  |    0.015384  |     1.130121  |             |  0.7s"
       ]
      },
      {
       "output_type": "stream",
       "stream": "stdout",
       "text": [
        "\n",
        "  2504  |    0.017367  |    0.015434  |     1.125230  |             |  0.7s"
       ]
      },
      {
       "output_type": "stream",
       "stream": "stdout",
       "text": [
        "\n",
        "  2505  |    0.017315  |    0.015416  |     1.123164  |             |  0.7s"
       ]
      },
      {
       "output_type": "stream",
       "stream": "stdout",
       "text": [
        "\n",
        "  2506  |    0.017299  |    0.015387  |     1.124292  |             |  0.7s"
       ]
      },
      {
       "output_type": "stream",
       "stream": "stdout",
       "text": [
        "\n",
        "  2507  |    0.017354  |    0.015465  |     1.122118  |             |  0.7s"
       ]
      },
      {
       "output_type": "stream",
       "stream": "stdout",
       "text": [
        "\n",
        "  2508  |    0.017394  |    0.015364  |     1.132142  |             |  0.7s"
       ]
      },
      {
       "output_type": "stream",
       "stream": "stdout",
       "text": [
        "\n",
        "  2509  |    0.017277  |    0.015378  |     1.123460  |             |  0.7s"
       ]
      },
      {
       "output_type": "stream",
       "stream": "stdout",
       "text": [
        "\n",
        "  2510  |    0.017382  |    0.015383  |     1.129911  |             |  0.7s"
       ]
      },
      {
       "output_type": "stream",
       "stream": "stdout",
       "text": [
        "\n",
        "  2511  |    0.017307  |    0.015379  |     1.125362  |             |  0.7s"
       ]
      },
      {
       "output_type": "stream",
       "stream": "stdout",
       "text": [
        "\n",
        "  2512  |    0.017385  |    0.015385  |     1.129977  |             |  0.7s"
       ]
      },
      {
       "output_type": "stream",
       "stream": "stdout",
       "text": [
        "\n",
        "  2513  |    0.017264  |    0.015363  |     1.123748  |             |  0.7s"
       ]
      },
      {
       "output_type": "stream",
       "stream": "stdout",
       "text": [
        "\n",
        "  2514  |    0.017281  |  \u001b[32m  0.015336\u001b[0m  |     1.126787  |             |  0.7s"
       ]
      },
      {
       "output_type": "stream",
       "stream": "stdout",
       "text": [
        "\n",
        "  2515  |    0.017346  |    0.015357  |     1.129474  |             |  0.7s"
       ]
      },
      {
       "output_type": "stream",
       "stream": "stdout",
       "text": [
        "\n",
        "  2516  |    0.017300  |    0.015381  |     1.124737  |             |  0.7s"
       ]
      },
      {
       "output_type": "stream",
       "stream": "stdout",
       "text": [
        "\n",
        "  2517  |    0.017325  |    0.015383  |     1.126306  |             |  0.7s"
       ]
      },
      {
       "output_type": "stream",
       "stream": "stdout",
       "text": [
        "\n",
        "  2518  |  \u001b[94m  0.017238\u001b[0m  |    0.015414  |     1.118347  |             |  0.7s"
       ]
      },
      {
       "output_type": "stream",
       "stream": "stdout",
       "text": [
        "\n",
        "  2519  |    0.017385  |    0.015350  |     1.132567  |             |  0.7s"
       ]
      },
      {
       "output_type": "stream",
       "stream": "stdout",
       "text": [
        "\n",
        "  2520  |    0.017283  |    0.015366  |     1.124733  |             |  0.7s"
       ]
      },
      {
       "output_type": "stream",
       "stream": "stdout",
       "text": [
        "\n",
        "  2521  |    0.017300  |    0.015354  |     1.126714  |             |  0.7s"
       ]
      },
      {
       "output_type": "stream",
       "stream": "stdout",
       "text": [
        "\n",
        "  2522  |    0.017406  |    0.015427  |     1.128313  |             |  0.7s"
       ]
      },
      {
       "output_type": "stream",
       "stream": "stdout",
       "text": [
        "\n",
        "  2523  |    0.017323  |    0.015382  |     1.126181  |             |  0.7s"
       ]
      },
      {
       "output_type": "stream",
       "stream": "stdout",
       "text": [
        "\n",
        "  2524  |    0.017338  |    0.015362  |     1.128644  |             |  0.7s"
       ]
      },
      {
       "output_type": "stream",
       "stream": "stdout",
       "text": [
        "\n",
        "  2525  |    0.017313  |  \u001b[32m  0.015324\u001b[0m  |     1.129767  |             |  0.7s"
       ]
      },
      {
       "output_type": "stream",
       "stream": "stdout",
       "text": [
        "\n",
        "  2526  |    0.017365  |    0.015415  |     1.126474  |             |  0.7s"
       ]
      },
      {
       "output_type": "stream",
       "stream": "stdout",
       "text": [
        "\n",
        "  2527  |    0.017396  |    0.015337  |     1.134251  |             |  0.7s"
       ]
      },
      {
       "output_type": "stream",
       "stream": "stdout",
       "text": [
        "\n",
        "  2528  |  \u001b[94m  0.017217\u001b[0m  |    0.015378  |     1.119603  |             |  0.7s"
       ]
      },
      {
       "output_type": "stream",
       "stream": "stdout",
       "text": [
        "\n",
        "  2529  |    0.017328  |    0.015361  |     1.128027  |             |  0.7s"
       ]
      },
      {
       "output_type": "stream",
       "stream": "stdout",
       "text": [
        "\n",
        "  2530  |    0.017281  |    0.015405  |     1.121765  |             |  0.7s"
       ]
      },
      {
       "output_type": "stream",
       "stream": "stdout",
       "text": [
        "\n",
        "  2531  |    0.017260  |    0.015365  |     1.123324  |             |  0.7s"
       ]
      },
      {
       "output_type": "stream",
       "stream": "stdout",
       "text": [
        "\n",
        "  2532  |    0.017363  |    0.015346  |     1.131479  |             |  0.7s"
       ]
      },
      {
       "output_type": "stream",
       "stream": "stdout",
       "text": [
        "\n",
        "  2533  |    0.017289  |    0.015365  |     1.125247  |             |  0.7s"
       ]
      },
      {
       "output_type": "stream",
       "stream": "stdout",
       "text": [
        "\n",
        "  2534  |  \u001b[94m  0.017200\u001b[0m  |    0.015353  |     1.120308  |             |  0.7s"
       ]
      },
      {
       "output_type": "stream",
       "stream": "stdout",
       "text": [
        "\n",
        "  2535  |    0.017262  |    0.015384  |     1.122096  |             |  0.7s"
       ]
      },
      {
       "output_type": "stream",
       "stream": "stdout",
       "text": [
        "\n",
        "  2536  |    0.017295  |  \u001b[32m  0.015307\u001b[0m  |     1.129862  |             |  0.7s"
       ]
      },
      {
       "output_type": "stream",
       "stream": "stdout",
       "text": [
        "\n",
        "  2537  |    0.017330  |    0.015350  |     1.129005  |             |  0.7s"
       ]
      },
      {
       "output_type": "stream",
       "stream": "stdout",
       "text": [
        "\n",
        "  2538  |    0.017286  |    0.015340  |     1.126829  |             |  0.7s"
       ]
      },
      {
       "output_type": "stream",
       "stream": "stdout",
       "text": [
        "\n",
        "  2539  |    0.017233  |    0.015393  |     1.119495  |             |  0.7s"
       ]
      },
      {
       "output_type": "stream",
       "stream": "stdout",
       "text": [
        "\n",
        "  2540  |    0.017258  |    0.015373  |     1.122607  |             |  0.7s"
       ]
      },
      {
       "output_type": "stream",
       "stream": "stdout",
       "text": [
        "\n",
        "  2541  |    0.017280  |    0.015365  |     1.124645  |             |  0.7s"
       ]
      },
      {
       "output_type": "stream",
       "stream": "stdout",
       "text": [
        "\n",
        "  2542  |    0.017275  |    0.015368  |     1.124135  |             |  0.7s"
       ]
      },
      {
       "output_type": "stream",
       "stream": "stdout",
       "text": [
        "\n",
        "  2543  |    0.017303  |    0.015309  |     1.130202  |             |  0.7s"
       ]
      },
      {
       "output_type": "stream",
       "stream": "stdout",
       "text": [
        "\n",
        "  2544  |    0.017210  |    0.015343  |     1.121697  |             |  0.7s"
       ]
      },
      {
       "output_type": "stream",
       "stream": "stdout",
       "text": [
        "\n",
        "  2545  |  \u001b[94m  0.017197\u001b[0m  |    0.015348  |     1.120443  |             |  0.7s"
       ]
      },
      {
       "output_type": "stream",
       "stream": "stdout",
       "text": [
        "\n",
        "  2546  |    0.017279  |    0.015357  |     1.125134  |             |  0.7s"
       ]
      },
      {
       "output_type": "stream",
       "stream": "stdout",
       "text": [
        "\n",
        "  2547  |  \u001b[94m  0.017193\u001b[0m  |    0.015343  |     1.120604  |             |  0.7s"
       ]
      },
      {
       "output_type": "stream",
       "stream": "stdout",
       "text": [
        "\n",
        "  2548  |    0.017239  |    0.015405  |     1.119067  |             |  0.7s"
       ]
      },
      {
       "output_type": "stream",
       "stream": "stdout",
       "text": [
        "\n",
        "  2549  |    0.017266  |    0.015327  |     1.126484  |             |  0.7s"
       ]
      },
      {
       "output_type": "stream",
       "stream": "stdout",
       "text": [
        "\n",
        "  2550  |    0.017266  |    0.015320  |     1.127017  |             |  0.7s"
       ]
      },
      {
       "output_type": "stream",
       "stream": "stdout",
       "text": [
        "\n",
        "  2551  |    0.017220  |    0.015354  |     1.121539  |             |  0.7s"
       ]
      },
      {
       "output_type": "stream",
       "stream": "stdout",
       "text": [
        "\n",
        "  2552  |    0.017269  |    0.015332  |     1.126347  |             |  0.7s"
       ]
      },
      {
       "output_type": "stream",
       "stream": "stdout",
       "text": [
        "\n",
        "  2553  |    0.017385  |    0.015417  |     1.127641  |             |  0.7s"
       ]
      },
      {
       "output_type": "stream",
       "stream": "stdout",
       "text": [
        "\n",
        "  2554  |    0.017375  |    0.015369  |     1.130514  |             |  0.7s"
       ]
      },
      {
       "output_type": "stream",
       "stream": "stdout",
       "text": [
        "\n",
        "  2555  |    0.017341  |    0.015350  |     1.129717  |             |  0.7s"
       ]
      },
      {
       "output_type": "stream",
       "stream": "stdout",
       "text": [
        "\n",
        "  2556  |    0.017330  |    0.015341  |     1.129665  |             |  0.7s"
       ]
      },
      {
       "output_type": "stream",
       "stream": "stdout",
       "text": [
        "\n",
        "  2557  |    0.017245  |    0.015370  |     1.121987  |             |  0.7s"
       ]
      },
      {
       "output_type": "stream",
       "stream": "stdout",
       "text": [
        "\n",
        "  2558  |    0.017208  |  \u001b[32m  0.015292\u001b[0m  |     1.125249  |             |  0.7s"
       ]
      },
      {
       "output_type": "stream",
       "stream": "stdout",
       "text": [
        "\n",
        "  2559  |    0.017228  |    0.015336  |     1.123362  |             |  0.7s"
       ]
      },
      {
       "output_type": "stream",
       "stream": "stdout",
       "text": [
        "\n",
        "  2560  |    0.017350  |    0.015343  |     1.130855  |             |  0.7s"
       ]
      },
      {
       "output_type": "stream",
       "stream": "stdout",
       "text": [
        "\n",
        "  2561  |    0.017433  |    0.015338  |     1.136581  |             |  0.7s"
       ]
      },
      {
       "output_type": "stream",
       "stream": "stdout",
       "text": [
        "\n",
        "  2562  |    0.017448  |    0.015349  |     1.136777  |             |  0.7s"
       ]
      },
      {
       "output_type": "stream",
       "stream": "stdout",
       "text": [
        "\n",
        "  2563  |    0.017282  |    0.015352  |     1.125676  |             |  0.7s"
       ]
      },
      {
       "output_type": "stream",
       "stream": "stdout",
       "text": [
        "\n",
        "  2564  |    0.017242  |    0.015349  |     1.123370  |             |  0.7s"
       ]
      },
      {
       "output_type": "stream",
       "stream": "stdout",
       "text": [
        "\n",
        "  2565  |    0.017200  |    0.015353  |     1.120329  |             |  0.7s"
       ]
      },
      {
       "output_type": "stream",
       "stream": "stdout",
       "text": [
        "\n",
        "  2566  |    0.017289  |    0.015357  |     1.125783  |             |  0.7s"
       ]
      },
      {
       "output_type": "stream",
       "stream": "stdout",
       "text": [
        "\n",
        "  2567  |  \u001b[94m  0.017178\u001b[0m  |    0.015346  |     1.119396  |             |  0.7s"
       ]
      },
      {
       "output_type": "stream",
       "stream": "stdout",
       "text": [
        "\n",
        "  2568  |    0.017219  |    0.015340  |     1.122531  |             |  0.7s"
       ]
      },
      {
       "output_type": "stream",
       "stream": "stdout",
       "text": [
        "\n",
        "  2569  |  \u001b[94m  0.017163\u001b[0m  |    0.015340  |     1.118838  |             |  0.7s"
       ]
      },
      {
       "output_type": "stream",
       "stream": "stdout",
       "text": [
        "\n",
        "  2570  |    0.017197  |    0.015339  |     1.121155  |             |  0.7s"
       ]
      },
      {
       "output_type": "stream",
       "stream": "stdout",
       "text": [
        "\n",
        "  2571  |    0.017350  |    0.015341  |     1.130951  |             |  0.7s"
       ]
      },
      {
       "output_type": "stream",
       "stream": "stdout",
       "text": [
        "\n",
        "  2572  |    0.017242  |    0.015307  |     1.126412  |             |  0.7s"
       ]
      },
      {
       "output_type": "stream",
       "stream": "stdout",
       "text": [
        "\n",
        "  2573  |  \u001b[94m  0.017142\u001b[0m  |    0.015307  |     1.119848  |             |  0.7s"
       ]
      },
      {
       "output_type": "stream",
       "stream": "stdout",
       "text": [
        "\n",
        "  2574  |    0.017382  |    0.015345  |     1.132761  |             |  0.7s"
       ]
      },
      {
       "output_type": "stream",
       "stream": "stdout",
       "text": [
        "\n",
        "  2575  |    0.017284  |    0.015359  |     1.125323  |             |  0.7s"
       ]
      },
      {
       "output_type": "stream",
       "stream": "stdout",
       "text": [
        "\n",
        "  2576  |    0.017281  |    0.015323  |     1.127823  |             |  0.7s"
       ]
      },
      {
       "output_type": "stream",
       "stream": "stdout",
       "text": [
        "\n",
        "  2577  |    0.017273  |  \u001b[32m  0.015286\u001b[0m  |     1.129950  |             |  0.7s"
       ]
      },
      {
       "output_type": "stream",
       "stream": "stdout",
       "text": [
        "\n",
        "  2578  |    0.017308  |    0.015332  |     1.128839  |             |  0.7s"
       ]
      },
      {
       "output_type": "stream",
       "stream": "stdout",
       "text": [
        "\n",
        "  2579  |    0.017289  |    0.015294  |     1.130436  |             |  0.7s"
       ]
      },
      {
       "output_type": "stream",
       "stream": "stdout",
       "text": [
        "\n",
        "  2580  |    0.017289  |    0.015288  |     1.130876  |             |  0.7s"
       ]
      },
      {
       "output_type": "stream",
       "stream": "stdout",
       "text": [
        "\n",
        "  2581  |    0.017292  |    0.015299  |     1.130237  |             |  0.7s"
       ]
      },
      {
       "output_type": "stream",
       "stream": "stdout",
       "text": [
        "\n",
        "  2582  |    0.017269  |    0.015318  |     1.127320  |             |  0.7s"
       ]
      },
      {
       "output_type": "stream",
       "stream": "stdout",
       "text": [
        "\n",
        "  2583  |    0.017160  |  \u001b[32m  0.015275\u001b[0m  |     1.123388  |             |  0.7s"
       ]
      },
      {
       "output_type": "stream",
       "stream": "stdout",
       "text": [
        "\n",
        "  2584  |    0.017147  |  \u001b[32m  0.015273\u001b[0m  |     1.122722  |             |  0.7s"
       ]
      },
      {
       "output_type": "stream",
       "stream": "stdout",
       "text": [
        "\n",
        "  2585  |    0.017146  |    0.015282  |     1.122030  |             |  0.7s"
       ]
      },
      {
       "output_type": "stream",
       "stream": "stdout",
       "text": [
        "\n",
        "  2586  |    0.017185  |    0.015317  |     1.121938  |             |  0.7s"
       ]
      },
      {
       "output_type": "stream",
       "stream": "stdout",
       "text": [
        "\n",
        "  2587  |    0.017275  |    0.015339  |     1.126214  |             |  0.7s"
       ]
      },
      {
       "output_type": "stream",
       "stream": "stdout",
       "text": [
        "\n",
        "  2588  |    0.017274  |  \u001b[32m  0.015272\u001b[0m  |     1.131124  |             |  0.7s"
       ]
      },
      {
       "output_type": "stream",
       "stream": "stdout",
       "text": [
        "\n",
        "  2589  |    0.017155  |    0.015315  |     1.120166  |             |  0.7s"
       ]
      },
      {
       "output_type": "stream",
       "stream": "stdout",
       "text": [
        "\n",
        "  2590  |    0.017333  |    0.015322  |     1.131251  |             |  0.7s"
       ]
      },
      {
       "output_type": "stream",
       "stream": "stdout",
       "text": [
        "\n",
        "  2591  |    0.017164  |    0.015339  |     1.118979  |             |  0.7s"
       ]
      },
      {
       "output_type": "stream",
       "stream": "stdout",
       "text": [
        "\n",
        "  2592  |    0.017275  |    0.015320  |     1.127612  |             |  0.7s"
       ]
      },
      {
       "output_type": "stream",
       "stream": "stdout",
       "text": [
        "\n",
        "  2593  |  \u001b[94m  0.017133\u001b[0m  |    0.015329  |     1.117684  |             |  0.7s"
       ]
      },
      {
       "output_type": "stream",
       "stream": "stdout",
       "text": [
        "\n",
        "  2594  |    0.017221  |    0.015296  |     1.125828  |             |  0.7s"
       ]
      },
      {
       "output_type": "stream",
       "stream": "stdout",
       "text": [
        "\n",
        "  2595  |    0.017187  |    0.015328  |     1.121337  |             |  0.7s"
       ]
      },
      {
       "output_type": "stream",
       "stream": "stdout",
       "text": [
        "\n",
        "  2596  |    0.017235  |    0.015289  |     1.127241  |             |  0.7s"
       ]
      },
      {
       "output_type": "stream",
       "stream": "stdout",
       "text": [
        "\n",
        "  2597  |    0.017235  |    0.015290  |     1.127246  |             |  0.7s"
       ]
      },
      {
       "output_type": "stream",
       "stream": "stdout",
       "text": [
        "\n",
        "  2598  |    0.017188  |  \u001b[32m  0.015264\u001b[0m  |     1.126000  |             |  0.7s"
       ]
      },
      {
       "output_type": "stream",
       "stream": "stdout",
       "text": [
        "\n",
        "  2599  |    0.017376  |    0.015287  |     1.136643  |             |  0.7s"
       ]
      },
      {
       "output_type": "stream",
       "stream": "stdout",
       "text": [
        "\n",
        "  2600  |    0.017232  |    0.015277  |     1.127982  |             |  0.7s"
       ]
      },
      {
       "output_type": "stream",
       "stream": "stdout",
       "text": [
        "\n",
        "  2601  |    0.017250  |    0.015300  |     1.127468  |             |  0.7s"
       ]
      },
      {
       "output_type": "stream",
       "stream": "stdout",
       "text": [
        "\n",
        "  2602  |    0.017210  |    0.015334  |     1.122311  |             |  0.7s"
       ]
      },
      {
       "output_type": "stream",
       "stream": "stdout",
       "text": [
        "\n",
        "  2603  |  \u001b[94m  0.017121\u001b[0m  |    0.015286  |     1.120086  |             |  0.7s"
       ]
      },
      {
       "output_type": "stream",
       "stream": "stdout",
       "text": [
        "\n",
        "  2604  |    0.017201  |    0.015283  |     1.125468  |             |  0.7s"
       ]
      },
      {
       "output_type": "stream",
       "stream": "stdout",
       "text": [
        "\n",
        "  2605  |    0.017173  |  \u001b[32m  0.015249\u001b[0m  |     1.126155  |             |  0.7s"
       ]
      },
      {
       "output_type": "stream",
       "stream": "stdout",
       "text": [
        "\n",
        "  2606  |  \u001b[94m  0.017107\u001b[0m  |    0.015280  |     1.119575  |             |  0.7s"
       ]
      },
      {
       "output_type": "stream",
       "stream": "stdout",
       "text": [
        "\n",
        "  2607  |    0.017224  |    0.015285  |     1.126823  |             |  0.7s"
       ]
      },
      {
       "output_type": "stream",
       "stream": "stdout",
       "text": [
        "\n",
        "  2608  |    0.017132  |    0.015319  |     1.118394  |             |  0.7s"
       ]
      },
      {
       "output_type": "stream",
       "stream": "stdout",
       "text": [
        "\n",
        "  2609  |    0.017239  |    0.015257  |     1.129926  |             |  0.7s"
       ]
      },
      {
       "output_type": "stream",
       "stream": "stdout",
       "text": [
        "\n",
        "  2610  |    0.017140  |    0.015303  |     1.120057  |             |  0.7s"
       ]
      },
      {
       "output_type": "stream",
       "stream": "stdout",
       "text": [
        "\n",
        "  2611  |    0.017135  |  \u001b[32m  0.015243\u001b[0m  |     1.124081  |             |  0.7s"
       ]
      },
      {
       "output_type": "stream",
       "stream": "stdout",
       "text": [
        "\n",
        "  2612  |    0.017226  |    0.015252  |     1.129377  |             |  0.7s"
       ]
      },
      {
       "output_type": "stream",
       "stream": "stdout",
       "text": [
        "\n",
        "  2613  |    0.017271  |    0.015302  |     1.128698  |             |  0.7s"
       ]
      },
      {
       "output_type": "stream",
       "stream": "stdout",
       "text": [
        "\n",
        "  2614  |    0.017213  |    0.015252  |     1.128523  |             |  0.7s"
       ]
      },
      {
       "output_type": "stream",
       "stream": "stdout",
       "text": [
        "\n",
        "  2615  |    0.017187  |    0.015300  |     1.123322  |             |  0.7s"
       ]
      },
      {
       "output_type": "stream",
       "stream": "stdout",
       "text": [
        "\n",
        "  2616  |    0.017167  |    0.015295  |     1.122410  |             |  0.7s"
       ]
      },
      {
       "output_type": "stream",
       "stream": "stdout",
       "text": [
        "\n",
        "  2617  |  \u001b[94m  0.017025\u001b[0m  |    0.015276  |     1.114484  |             |  0.7s"
       ]
      },
      {
       "output_type": "stream",
       "stream": "stdout",
       "text": [
        "\n",
        "  2618  |    0.017141  |    0.015276  |     1.122143  |             |  0.7s"
       ]
      },
      {
       "output_type": "stream",
       "stream": "stdout",
       "text": [
        "\n",
        "  2619  |    0.017166  |    0.015285  |     1.123069  |             |  0.7s"
       ]
      },
      {
       "output_type": "stream",
       "stream": "stdout",
       "text": [
        "\n",
        "  2620  |    0.017133  |    0.015284  |     1.120985  |             |  0.7s"
       ]
      },
      {
       "output_type": "stream",
       "stream": "stdout",
       "text": [
        "\n",
        "  2621  |    0.017075  |    0.015269  |     1.118250  |             |  0.7s"
       ]
      },
      {
       "output_type": "stream",
       "stream": "stdout",
       "text": [
        "\n",
        "  2622  |    0.017263  |    0.015267  |     1.130780  |             |  0.7s"
       ]
      },
      {
       "output_type": "stream",
       "stream": "stdout",
       "text": [
        "\n",
        "  2623  |    0.017085  |    0.015316  |     1.115478  |             |  0.7s"
       ]
      },
      {
       "output_type": "stream",
       "stream": "stdout",
       "text": [
        "\n",
        "  2624  |    0.017237  |    0.015307  |     1.126032  |             |  0.7s"
       ]
      },
      {
       "output_type": "stream",
       "stream": "stdout",
       "text": [
        "\n",
        "  2625  |    0.017144  |    0.015338  |     1.117747  |             |  0.7s"
       ]
      },
      {
       "output_type": "stream",
       "stream": "stdout",
       "text": [
        "\n",
        "  2626  |    0.017213  |    0.015262  |     1.127814  |             |  0.7s"
       ]
      },
      {
       "output_type": "stream",
       "stream": "stdout",
       "text": [
        "\n",
        "  2627  |    0.017100  |    0.015278  |     1.119222  |             |  0.7s"
       ]
      },
      {
       "output_type": "stream",
       "stream": "stdout",
       "text": [
        "\n",
        "  2628  |    0.017089  |    0.015272  |     1.119030  |             |  0.7s"
       ]
      },
      {
       "output_type": "stream",
       "stream": "stdout",
       "text": [
        "\n",
        "  2629  |    0.017152  |    0.015250  |     1.124712  |             |  0.7s"
       ]
      },
      {
       "output_type": "stream",
       "stream": "stdout",
       "text": [
        "\n",
        "  2630  |    0.017278  |    0.015267  |     1.131741  |             |  0.7s"
       ]
      },
      {
       "output_type": "stream",
       "stream": "stdout",
       "text": [
        "\n",
        "  2631  |    0.017149  |  \u001b[32m  0.015239\u001b[0m  |     1.125341  |             |  0.7s"
       ]
      },
      {
       "output_type": "stream",
       "stream": "stdout",
       "text": [
        "\n",
        "  2632  |    0.017166  |    0.015274  |     1.123836  |             |  0.7s"
       ]
      },
      {
       "output_type": "stream",
       "stream": "stdout",
       "text": [
        "\n",
        "  2633  |    0.017085  |    0.015302  |     1.116514  |             |  0.7s"
       ]
      },
      {
       "output_type": "stream",
       "stream": "stdout",
       "text": [
        "\n",
        "  2634  |    0.017137  |    0.015289  |     1.120923  |             |  0.7s"
       ]
      },
      {
       "output_type": "stream",
       "stream": "stdout",
       "text": [
        "\n",
        "  2635  |    0.017177  |    0.015307  |     1.122159  |             |  0.7s"
       ]
      },
      {
       "output_type": "stream",
       "stream": "stdout",
       "text": [
        "\n",
        "  2636  |    0.017160  |    0.015262  |     1.124319  |             |  0.7s"
       ]
      },
      {
       "output_type": "stream",
       "stream": "stdout",
       "text": [
        "\n",
        "  2637  |    0.017155  |    0.015306  |     1.120817  |             |  0.7s"
       ]
      },
      {
       "output_type": "stream",
       "stream": "stdout",
       "text": [
        "\n",
        "  2638  |    0.017087  |    0.015247  |     1.120668  |             |  0.7s"
       ]
      },
      {
       "output_type": "stream",
       "stream": "stdout",
       "text": [
        "\n",
        "  2639  |    0.017248  |    0.015319  |     1.125889  |             |  0.7s"
       ]
      },
      {
       "output_type": "stream",
       "stream": "stdout",
       "text": [
        "\n",
        "  2640  |    0.017196  |    0.015257  |     1.127058  |             |  0.7s"
       ]
      },
      {
       "output_type": "stream",
       "stream": "stdout",
       "text": [
        "\n",
        "  2641  |    0.017122  |    0.015272  |     1.121151  |             |  0.7s"
       ]
      },
      {
       "output_type": "stream",
       "stream": "stdout",
       "text": [
        "\n",
        "  2642  |    0.017104  |  \u001b[32m  0.015221\u001b[0m  |     1.123711  |             |  0.7s"
       ]
      },
      {
       "output_type": "stream",
       "stream": "stdout",
       "text": [
        "\n",
        "  2643  |    0.017103  |    0.015265  |     1.120421  |             |  0.7s"
       ]
      },
      {
       "output_type": "stream",
       "stream": "stdout",
       "text": [
        "\n",
        "  2644  |    0.017186  |    0.015280  |     1.124780  |             |  0.7s"
       ]
      },
      {
       "output_type": "stream",
       "stream": "stdout",
       "text": [
        "\n",
        "  2645  |    0.017143  |    0.015275  |     1.122286  |             |  0.7s"
       ]
      },
      {
       "output_type": "stream",
       "stream": "stdout",
       "text": [
        "\n",
        "  2646  |    0.017167  |    0.015280  |     1.123475  |             |  0.7s"
       ]
      },
      {
       "output_type": "stream",
       "stream": "stdout",
       "text": [
        "\n",
        "  2647  |    0.017073  |    0.015285  |     1.116930  |             |  0.7s"
       ]
      },
      {
       "output_type": "stream",
       "stream": "stdout",
       "text": [
        "\n",
        "  2648  |    0.017108  |    0.015291  |     1.118849  |             |  0.7s"
       ]
      },
      {
       "output_type": "stream",
       "stream": "stdout",
       "text": [
        "\n",
        "  2649  |    0.017103  |    0.015260  |     1.120808  |             |  0.7s"
       ]
      },
      {
       "output_type": "stream",
       "stream": "stdout",
       "text": [
        "\n",
        "  2650  |    0.017088  |    0.015280  |     1.118291  |             |  0.7s"
       ]
      },
      {
       "output_type": "stream",
       "stream": "stdout",
       "text": [
        "\n",
        "  2651  |    0.017050  |    0.015287  |     1.115341  |             |  0.7s"
       ]
      },
      {
       "output_type": "stream",
       "stream": "stdout",
       "text": [
        "\n",
        "  2652  |    0.017168  |    0.015292  |     1.122674  |             |  0.7s"
       ]
      },
      {
       "output_type": "stream",
       "stream": "stdout",
       "text": [
        "\n",
        "  2653  |    0.017164  |    0.015301  |     1.121750  |             |  0.7s"
       ]
      },
      {
       "output_type": "stream",
       "stream": "stdout",
       "text": [
        "\n",
        "  2654  |    0.017135  |    0.015269  |     1.122171  |             |  0.7s"
       ]
      },
      {
       "output_type": "stream",
       "stream": "stdout",
       "text": [
        "\n",
        "  2655  |    0.017228  |    0.015255  |     1.129317  |             |  0.7s"
       ]
      },
      {
       "output_type": "stream",
       "stream": "stdout",
       "text": [
        "\n",
        "  2656  |    0.017209  |    0.015255  |     1.128107  |             |  0.7s"
       ]
      },
      {
       "output_type": "stream",
       "stream": "stdout",
       "text": [
        "\n",
        "  2657  |    0.017077  |    0.015283  |     1.117403  |             |  0.7s"
       ]
      },
      {
       "output_type": "stream",
       "stream": "stdout",
       "text": [
        "\n",
        "  2658  |    0.017132  |    0.015287  |     1.120664  |             |  0.7s"
       ]
      },
      {
       "output_type": "stream",
       "stream": "stdout",
       "text": [
        "\n",
        "  2659  |    0.017185  |    0.015257  |     1.126411  |             |  0.7s"
       ]
      },
      {
       "output_type": "stream",
       "stream": "stdout",
       "text": [
        "\n",
        "  2660  |    0.017148  |    0.015249  |     1.124515  |             |  0.7s"
       ]
      },
      {
       "output_type": "stream",
       "stream": "stdout",
       "text": [
        "\n",
        "  2661  |    0.017118  |    0.015261  |     1.121706  |             |  0.7s"
       ]
      },
      {
       "output_type": "stream",
       "stream": "stdout",
       "text": [
        "\n",
        "  2662  |    0.017226  |    0.015277  |     1.127553  |             |  0.7s"
       ]
      },
      {
       "output_type": "stream",
       "stream": "stdout",
       "text": [
        "\n",
        "  2663  |    0.017182  |    0.015266  |     1.125524  |             |  0.7s"
       ]
      },
      {
       "output_type": "stream",
       "stream": "stdout",
       "text": [
        "\n",
        "  2664  |    0.017164  |    0.015266  |     1.124339  |             |  0.7s"
       ]
      },
      {
       "output_type": "stream",
       "stream": "stdout",
       "text": [
        "\n",
        "  2665  |    0.017163  |    0.015262  |     1.124536  |             |  0.7s"
       ]
      },
      {
       "output_type": "stream",
       "stream": "stdout",
       "text": [
        "\n",
        "  2666  |    0.017062  |    0.015257  |     1.118300  |             |  0.7s"
       ]
      },
      {
       "output_type": "stream",
       "stream": "stdout",
       "text": [
        "\n",
        "  2667  |    0.017162  |    0.015256  |     1.124914  |             |  0.7s"
       ]
      },
      {
       "output_type": "stream",
       "stream": "stdout",
       "text": [
        "\n",
        "  2668  |    0.017083  |    0.015252  |     1.120045  |             |  0.7s"
       ]
      },
      {
       "output_type": "stream",
       "stream": "stdout",
       "text": [
        "\n",
        "  2669  |    0.017149  |    0.015276  |     1.122565  |             |  0.7s"
       ]
      },
      {
       "output_type": "stream",
       "stream": "stdout",
       "text": [
        "\n",
        "  2670  |    0.017116  |    0.015240  |     1.123097  |             |  0.7s"
       ]
      },
      {
       "output_type": "stream",
       "stream": "stdout",
       "text": [
        "\n",
        "  2671  |    0.017086  |    0.015282  |     1.118020  |             |  0.7s"
       ]
      },
      {
       "output_type": "stream",
       "stream": "stdout",
       "text": [
        "\n",
        "  2672  |    0.017142  |    0.015224  |     1.126028  |             |  0.7s"
       ]
      },
      {
       "output_type": "stream",
       "stream": "stdout",
       "text": [
        "\n",
        "  2673  |    0.017225  |    0.015246  |     1.129800  |             |  0.7s"
       ]
      },
      {
       "output_type": "stream",
       "stream": "stdout",
       "text": [
        "\n",
        "  2674  |    0.017146  |    0.015263  |     1.123420  |             |  0.7s"
       ]
      },
      {
       "output_type": "stream",
       "stream": "stdout",
       "text": [
        "\n",
        "  2675  |    0.017151  |    0.015228  |     1.126311  |             |  0.7s"
       ]
      },
      {
       "output_type": "stream",
       "stream": "stdout",
       "text": [
        "\n",
        "  2676  |    0.017115  |    0.015227  |     1.123986  |             |  0.7s"
       ]
      },
      {
       "output_type": "stream",
       "stream": "stdout",
       "text": [
        "\n",
        "  2677  |    0.017091  |    0.015267  |     1.119469  |             |  0.7s"
       ]
      },
      {
       "output_type": "stream",
       "stream": "stdout",
       "text": [
        "\n",
        "  2678  |    0.017069  |    0.015232  |     1.120638  |             |  0.7s"
       ]
      },
      {
       "output_type": "stream",
       "stream": "stdout",
       "text": [
        "\n",
        "  2679  |    0.017147  |    0.015234  |     1.125591  |             |  0.7s"
       ]
      },
      {
       "output_type": "stream",
       "stream": "stdout",
       "text": [
        "\n",
        "  2680  |    0.017045  |    0.015227  |     1.119377  |             |  0.7s"
       ]
      },
      {
       "output_type": "stream",
       "stream": "stdout",
       "text": [
        "\n",
        "  2681  |    0.017033  |    0.015239  |     1.117688  |             |  0.7s"
       ]
      },
      {
       "output_type": "stream",
       "stream": "stdout",
       "text": [
        "\n",
        "  2682  |    0.017091  |  \u001b[32m  0.015211\u001b[0m  |     1.123607  |             |  0.7s"
       ]
      },
      {
       "output_type": "stream",
       "stream": "stdout",
       "text": [
        "\n",
        "  2683  |    0.017166  |    0.015244  |     1.126111  |             |  0.7s"
       ]
      },
      {
       "output_type": "stream",
       "stream": "stdout",
       "text": [
        "\n",
        "  2684  |    0.017094  |  \u001b[32m  0.015195\u001b[0m  |     1.124925  |             |  0.7s"
       ]
      },
      {
       "output_type": "stream",
       "stream": "stdout",
       "text": [
        "\n",
        "  2685  |    0.017072  |    0.015252  |     1.119309  |             |  0.7s"
       ]
      },
      {
       "output_type": "stream",
       "stream": "stdout",
       "text": [
        "\n",
        "  2686  |    0.017241  |    0.015260  |     1.129769  |             |  0.7s"
       ]
      },
      {
       "output_type": "stream",
       "stream": "stdout",
       "text": [
        "\n",
        "  2687  |    0.017116  |    0.015261  |     1.121596  |             |  0.7s"
       ]
      },
      {
       "output_type": "stream",
       "stream": "stdout",
       "text": [
        "\n",
        "  2688  |    0.017179  |    0.015209  |     1.129521  |             |  0.7s"
       ]
      },
      {
       "output_type": "stream",
       "stream": "stdout",
       "text": [
        "\n",
        "  2689  |    0.017065  |    0.015207  |     1.122145  |             |  0.7s"
       ]
      },
      {
       "output_type": "stream",
       "stream": "stdout",
       "text": [
        "\n",
        "  2690  |    0.017128  |    0.015215  |     1.125717  |             |  0.7s"
       ]
      },
      {
       "output_type": "stream",
       "stream": "stdout",
       "text": [
        "\n",
        "  2691  |    0.017051  |    0.015228  |     1.119716  |             |  0.7s"
       ]
      },
      {
       "output_type": "stream",
       "stream": "stdout",
       "text": [
        "\n",
        "  2692  |    0.017061  |    0.015262  |     1.117873  |             |  0.7s"
       ]
      },
      {
       "output_type": "stream",
       "stream": "stdout",
       "text": [
        "\n",
        "  2693  |    0.017056  |    0.015255  |     1.118081  |             |  0.7s"
       ]
      },
      {
       "output_type": "stream",
       "stream": "stdout",
       "text": [
        "\n",
        "  2694  |    0.017077  |    0.015251  |     1.119718  |             |  0.7s"
       ]
      },
      {
       "output_type": "stream",
       "stream": "stdout",
       "text": [
        "\n",
        "  2695  |    0.017071  |    0.015205  |     1.122703  |             |  0.7s"
       ]
      },
      {
       "output_type": "stream",
       "stream": "stdout",
       "text": [
        "\n",
        "  2696  |    0.017134  |    0.015228  |     1.125158  |             |  0.7s"
       ]
      },
      {
       "output_type": "stream",
       "stream": "stdout",
       "text": [
        "\n",
        "  2697  |    0.017074  |    0.015217  |     1.121988  |             |  0.7s"
       ]
      },
      {
       "output_type": "stream",
       "stream": "stdout",
       "text": [
        "\n",
        "  2698  |    0.017090  |    0.015215  |     1.123205  |             |  0.7s"
       ]
      },
      {
       "output_type": "stream",
       "stream": "stdout",
       "text": [
        "\n",
        "  2699  |    0.017046  |    0.015232  |     1.119089  |             |  0.7s"
       ]
      },
      {
       "output_type": "stream",
       "stream": "stdout",
       "text": [
        "\n",
        "  2700  |    0.017036  |    0.015210  |     1.120095  |             |  0.7s"
       ]
      },
      {
       "output_type": "stream",
       "stream": "stdout",
       "text": [
        "\n",
        "  2701  |    0.017184  |    0.015230  |     1.128296  |             |  0.7s"
       ]
      },
      {
       "output_type": "stream",
       "stream": "stdout",
       "text": [
        "\n",
        "  2702  |    0.017090  |    0.015225  |     1.122489  |             |  0.7s"
       ]
      },
      {
       "output_type": "stream",
       "stream": "stdout",
       "text": [
        "\n",
        "  2703  |  \u001b[94m  0.017009\u001b[0m  |  \u001b[32m  0.015186\u001b[0m  |     1.120069  |             |  0.7s"
       ]
      },
      {
       "output_type": "stream",
       "stream": "stdout",
       "text": [
        "\n",
        "  2704  |    0.017065  |  \u001b[32m  0.015177\u001b[0m  |     1.124373  |             |  0.7s"
       ]
      },
      {
       "output_type": "stream",
       "stream": "stdout",
       "text": [
        "\n",
        "  2705  |    0.017157  |    0.015208  |     1.128183  |             |  0.7s"
       ]
      },
      {
       "output_type": "stream",
       "stream": "stdout",
       "text": [
        "\n",
        "  2706  |    0.017160  |    0.015215  |     1.127809  |             |  0.7s"
       ]
      },
      {
       "output_type": "stream",
       "stream": "stdout",
       "text": [
        "\n",
        "  2707  |  \u001b[94m  0.016981\u001b[0m  |    0.015203  |     1.116953  |             |  0.7s"
       ]
      },
      {
       "output_type": "stream",
       "stream": "stdout",
       "text": [
        "\n",
        "  2708  |    0.016992  |    0.015193  |     1.118387  |             |  0.7s"
       ]
      },
      {
       "output_type": "stream",
       "stream": "stdout",
       "text": [
        "\n",
        "  2709  |    0.016994  |    0.015192  |     1.118600  |             |  0.7s"
       ]
      },
      {
       "output_type": "stream",
       "stream": "stdout",
       "text": [
        "\n",
        "  2710  |    0.017093  |    0.015212  |     1.123677  |             |  0.7s"
       ]
      },
      {
       "output_type": "stream",
       "stream": "stdout",
       "text": [
        "\n",
        "  2711  |    0.017179  |    0.015210  |     1.129452  |             |  0.7s"
       ]
      },
      {
       "output_type": "stream",
       "stream": "stdout",
       "text": [
        "\n",
        "  2712  |    0.016992  |    0.015233  |     1.115510  |             |  0.7s"
       ]
      },
      {
       "output_type": "stream",
       "stream": "stdout",
       "text": [
        "\n",
        "  2713  |    0.017070  |  \u001b[32m  0.015172\u001b[0m  |     1.125115  |             |  0.7s"
       ]
      },
      {
       "output_type": "stream",
       "stream": "stdout",
       "text": [
        "\n",
        "  2714  |    0.017007  |    0.015235  |     1.116314  |             |  0.7s"
       ]
      },
      {
       "output_type": "stream",
       "stream": "stdout",
       "text": [
        "\n",
        "  2715  |    0.017104  |    0.015172  |     1.127368  |             |  0.7s"
       ]
      },
      {
       "output_type": "stream",
       "stream": "stdout",
       "text": [
        "\n",
        "  2716  |    0.017016  |    0.015224  |     1.117700  |             |  0.7s"
       ]
      },
      {
       "output_type": "stream",
       "stream": "stdout",
       "text": [
        "\n",
        "  2717  |    0.017019  |    0.015200  |     1.119681  |             |  0.7s"
       ]
      },
      {
       "output_type": "stream",
       "stream": "stdout",
       "text": [
        "\n",
        "  2718  |    0.017084  |    0.015175  |     1.125824  |             |  0.7s"
       ]
      },
      {
       "output_type": "stream",
       "stream": "stdout",
       "text": [
        "\n",
        "  2719  |    0.017066  |    0.015210  |     1.122065  |             |  0.7s"
       ]
      },
      {
       "output_type": "stream",
       "stream": "stdout",
       "text": [
        "\n",
        "  2720  |    0.017121  |    0.015209  |     1.125694  |             |  0.7s"
       ]
      },
      {
       "output_type": "stream",
       "stream": "stdout",
       "text": [
        "\n",
        "  2721  |    0.017068  |    0.015224  |     1.121126  |             |  0.7s"
       ]
      },
      {
       "output_type": "stream",
       "stream": "stdout",
       "text": [
        "\n",
        "  2722  |    0.017044  |    0.015201  |     1.121266  |             |  0.7s"
       ]
      },
      {
       "output_type": "stream",
       "stream": "stdout",
       "text": [
        "\n",
        "  2723  |    0.017154  |    0.015178  |     1.130189  |             |  0.7s"
       ]
      },
      {
       "output_type": "stream",
       "stream": "stdout",
       "text": [
        "\n",
        "  2724  |    0.017109  |    0.015187  |     1.126586  |             |  0.7s"
       ]
      },
      {
       "output_type": "stream",
       "stream": "stdout",
       "text": [
        "\n",
        "  2725  |    0.017100  |    0.015181  |     1.126407  |             |  0.7s"
       ]
      },
      {
       "output_type": "stream",
       "stream": "stdout",
       "text": [
        "\n",
        "  2726  |    0.017004  |    0.015198  |     1.118832  |             |  0.7s"
       ]
      },
      {
       "output_type": "stream",
       "stream": "stdout",
       "text": [
        "\n",
        "  2727  |    0.017030  |    0.015250  |     1.116736  |             |  0.7s"
       ]
      },
      {
       "output_type": "stream",
       "stream": "stdout",
       "text": [
        "\n",
        "  2728  |    0.017047  |    0.015218  |     1.120202  |             |  0.7s"
       ]
      },
      {
       "output_type": "stream",
       "stream": "stdout",
       "text": [
        "\n",
        "  2729  |    0.017051  |    0.015191  |     1.122487  |             |  0.7s"
       ]
      },
      {
       "output_type": "stream",
       "stream": "stdout",
       "text": [
        "\n",
        "  2730  |    0.017024  |    0.015243  |     1.116827  |             |  0.7s"
       ]
      },
      {
       "output_type": "stream",
       "stream": "stdout",
       "text": [
        "\n",
        "  2731  |    0.017101  |    0.015176  |     1.126817  |             |  0.7s"
       ]
      },
      {
       "output_type": "stream",
       "stream": "stdout",
       "text": [
        "\n",
        "  2732  |    0.017028  |    0.015199  |     1.120336  |             |  0.7s"
       ]
      },
      {
       "output_type": "stream",
       "stream": "stdout",
       "text": [
        "\n",
        "  2733  |    0.017096  |    0.015187  |     1.125706  |             |  0.7s"
       ]
      },
      {
       "output_type": "stream",
       "stream": "stdout",
       "text": [
        "\n",
        "  2734  |    0.017179  |    0.015202  |     1.130026  |             |  0.7s"
       ]
      },
      {
       "output_type": "stream",
       "stream": "stdout",
       "text": [
        "\n",
        "  2735  |    0.017116  |  \u001b[32m  0.015171\u001b[0m  |     1.128251  |             |  0.7s"
       ]
      },
      {
       "output_type": "stream",
       "stream": "stdout",
       "text": [
        "\n",
        "  2736  |    0.017009  |    0.015215  |     1.117899  |             |  0.7s"
       ]
      },
      {
       "output_type": "stream",
       "stream": "stdout",
       "text": [
        "\n",
        "  2737  |    0.017031  |    0.015232  |     1.118129  |             |  0.7s"
       ]
      },
      {
       "output_type": "stream",
       "stream": "stdout",
       "text": [
        "\n",
        "  2738  |    0.017014  |  \u001b[32m  0.015151\u001b[0m  |     1.122992  |             |  0.7s"
       ]
      },
      {
       "output_type": "stream",
       "stream": "stdout",
       "text": [
        "\n",
        "  2739  |    0.017137  |    0.015208  |     1.126872  |             |  0.7s"
       ]
      },
      {
       "output_type": "stream",
       "stream": "stdout",
       "text": [
        "\n",
        "  2740  |    0.017123  |    0.015189  |     1.127302  |             |  0.7s"
       ]
      },
      {
       "output_type": "stream",
       "stream": "stdout",
       "text": [
        "\n",
        "  2741  |    0.017029  |    0.015205  |     1.119979  |             |  0.7s"
       ]
      },
      {
       "output_type": "stream",
       "stream": "stdout",
       "text": [
        "\n",
        "  2742  |    0.017022  |    0.015185  |     1.120980  |             |  0.7s"
       ]
      },
      {
       "output_type": "stream",
       "stream": "stdout",
       "text": [
        "\n",
        "  2743  |    0.017048  |    0.015191  |     1.122250  |             |  0.7s"
       ]
      },
      {
       "output_type": "stream",
       "stream": "stdout",
       "text": [
        "\n",
        "  2744  |    0.017090  |    0.015193  |     1.124822  |             |  0.7s"
       ]
      },
      {
       "output_type": "stream",
       "stream": "stdout",
       "text": [
        "\n",
        "  2745  |    0.017033  |    0.015189  |     1.121362  |             |  0.7s"
       ]
      },
      {
       "output_type": "stream",
       "stream": "stdout",
       "text": [
        "\n",
        "  2746  |    0.017115  |    0.015164  |     1.128646  |             |  0.7s"
       ]
      },
      {
       "output_type": "stream",
       "stream": "stdout",
       "text": [
        "\n",
        "  2747  |  \u001b[94m  0.016945\u001b[0m  |  \u001b[32m  0.015138\u001b[0m  |     1.119365  |             |  0.7s"
       ]
      },
      {
       "output_type": "stream",
       "stream": "stdout",
       "text": [
        "\n",
        "  2748  |    0.017040  |    0.015191  |     1.121735  |             |  0.7s"
       ]
      },
      {
       "output_type": "stream",
       "stream": "stdout",
       "text": [
        "\n",
        "  2749  |    0.017024  |    0.015176  |     1.121769  |             |  0.7s"
       ]
      },
      {
       "output_type": "stream",
       "stream": "stdout",
       "text": [
        "\n",
        "  2750  |    0.017060  |    0.015212  |     1.121520  |             |  0.7s"
       ]
      },
      {
       "output_type": "stream",
       "stream": "stdout",
       "text": [
        "\n",
        "  2751  |    0.017049  |    0.015189  |     1.122500  |             |  0.7s"
       ]
      },
      {
       "output_type": "stream",
       "stream": "stdout",
       "text": [
        "\n",
        "  2752  |    0.017038  |    0.015160  |     1.123881  |             |  0.7s"
       ]
      },
      {
       "output_type": "stream",
       "stream": "stdout",
       "text": [
        "\n",
        "  2753  |    0.017031  |    0.015144  |     1.124573  |             |  0.7s"
       ]
      },
      {
       "output_type": "stream",
       "stream": "stdout",
       "text": [
        "\n",
        "  2754  |  \u001b[94m  0.016909\u001b[0m  |    0.015167  |     1.114877  |             |  0.7s"
       ]
      },
      {
       "output_type": "stream",
       "stream": "stdout",
       "text": [
        "\n",
        "  2755  |    0.016974  |    0.015177  |     1.118430  |             |  0.7s"
       ]
      },
      {
       "output_type": "stream",
       "stream": "stdout",
       "text": [
        "\n",
        "  2756  |    0.017080  |    0.015153  |     1.127207  |             |  0.7s"
       ]
      },
      {
       "output_type": "stream",
       "stream": "stdout",
       "text": [
        "\n",
        "  2757  |    0.016956  |    0.015156  |     1.118770  |             |  0.7s"
       ]
      },
      {
       "output_type": "stream",
       "stream": "stdout",
       "text": [
        "\n",
        "  2758  |    0.017046  |  \u001b[32m  0.015131\u001b[0m  |     1.126575  |             |  0.7s"
       ]
      },
      {
       "output_type": "stream",
       "stream": "stdout",
       "text": [
        "\n",
        "  2759  |    0.017046  |    0.015195  |     1.121776  |             |  0.7s"
       ]
      },
      {
       "output_type": "stream",
       "stream": "stdout",
       "text": [
        "\n",
        "  2760  |    0.017039  |    0.015163  |     1.123726  |             |  0.7s"
       ]
      },
      {
       "output_type": "stream",
       "stream": "stdout",
       "text": [
        "\n",
        "  2761  |    0.017050  |    0.015170  |     1.123874  |             |  0.7s"
       ]
      },
      {
       "output_type": "stream",
       "stream": "stdout",
       "text": [
        "\n",
        "  2762  |    0.016943  |    0.015154  |     1.118068  |             |  0.7s"
       ]
      },
      {
       "output_type": "stream",
       "stream": "stdout",
       "text": [
        "\n",
        "  2763  |    0.017005  |    0.015163  |     1.121484  |             |  0.7s"
       ]
      },
      {
       "output_type": "stream",
       "stream": "stdout",
       "text": [
        "\n",
        "  2764  |    0.017051  |    0.015174  |     1.123680  |             |  0.7s"
       ]
      },
      {
       "output_type": "stream",
       "stream": "stdout",
       "text": [
        "\n",
        "  2765  |    0.017010  |    0.015164  |     1.121738  |             |  0.7s"
       ]
      },
      {
       "output_type": "stream",
       "stream": "stdout",
       "text": [
        "\n",
        "  2766  |    0.016992  |    0.015131  |     1.122946  |             |  0.7s"
       ]
      },
      {
       "output_type": "stream",
       "stream": "stdout",
       "text": [
        "\n",
        "  2767  |    0.017078  |    0.015157  |     1.126707  |             |  0.7s"
       ]
      },
      {
       "output_type": "stream",
       "stream": "stdout",
       "text": [
        "\n",
        "  2768  |    0.016932  |    0.015162  |     1.116731  |             |  0.7s"
       ]
      },
      {
       "output_type": "stream",
       "stream": "stdout",
       "text": [
        "\n",
        "  2769  |    0.016967  |    0.015171  |     1.118377  |             |  0.7s"
       ]
      },
      {
       "output_type": "stream",
       "stream": "stdout",
       "text": [
        "\n",
        "  2770  |    0.017008  |    0.015158  |     1.122090  |             |  0.7s"
       ]
      },
      {
       "output_type": "stream",
       "stream": "stdout",
       "text": [
        "\n",
        "  2771  |    0.017001  |    0.015163  |     1.121193  |             |  0.7s"
       ]
      },
      {
       "output_type": "stream",
       "stream": "stdout",
       "text": [
        "\n",
        "  2772  |    0.017069  |    0.015186  |     1.123996  |             |  0.7s"
       ]
      },
      {
       "output_type": "stream",
       "stream": "stdout",
       "text": [
        "\n",
        "  2773  |    0.017065  |  \u001b[32m  0.015130\u001b[0m  |     1.127868  |             |  0.7s"
       ]
      },
      {
       "output_type": "stream",
       "stream": "stdout",
       "text": [
        "\n",
        "  2774  |    0.016947  |    0.015143  |     1.119159  |             |  0.7s"
       ]
      },
      {
       "output_type": "stream",
       "stream": "stdout",
       "text": [
        "\n",
        "  2775  |    0.016977  |    0.015147  |     1.120820  |             |  0.7s"
       ]
      },
      {
       "output_type": "stream",
       "stream": "stdout",
       "text": [
        "\n",
        "  2776  |    0.016994  |    0.015163  |     1.120745  |             |  0.7s"
       ]
      },
      {
       "output_type": "stream",
       "stream": "stdout",
       "text": [
        "\n",
        "  2777  |    0.016944  |    0.015155  |     1.118044  |             |  0.7s"
       ]
      },
      {
       "output_type": "stream",
       "stream": "stdout",
       "text": [
        "\n",
        "  2778  |    0.017075  |    0.015204  |     1.123020  |             |  0.7s"
       ]
      },
      {
       "output_type": "stream",
       "stream": "stdout",
       "text": [
        "\n",
        "  2779  |    0.017056  |    0.015183  |     1.123399  |             |  0.7s"
       ]
      },
      {
       "output_type": "stream",
       "stream": "stdout",
       "text": [
        "\n",
        "  2780  |    0.017035  |    0.015135  |     1.125538  |             |  0.7s"
       ]
      },
      {
       "output_type": "stream",
       "stream": "stdout",
       "text": [
        "\n",
        "  2781  |    0.016979  |  \u001b[32m  0.015127\u001b[0m  |     1.122434  |             |  0.7s"
       ]
      },
      {
       "output_type": "stream",
       "stream": "stdout",
       "text": [
        "\n",
        "  2782  |    0.016983  |    0.015154  |     1.120742  |             |  0.7s"
       ]
      },
      {
       "output_type": "stream",
       "stream": "stdout",
       "text": [
        "\n",
        "  2783  |    0.016961  |    0.015176  |     1.117622  |             |  0.7s"
       ]
      },
      {
       "output_type": "stream",
       "stream": "stdout",
       "text": [
        "\n",
        "  2784  |    0.016968  |    0.015219  |     1.114970  |             |  0.7s"
       ]
      },
      {
       "output_type": "stream",
       "stream": "stdout",
       "text": [
        "\n",
        "  2785  |    0.017014  |    0.015179  |     1.120866  |             |  0.7s"
       ]
      },
      {
       "output_type": "stream",
       "stream": "stdout",
       "text": [
        "\n",
        "  2786  |    0.017143  |  \u001b[32m  0.015121\u001b[0m  |     1.133729  |             |  0.7s"
       ]
      },
      {
       "output_type": "stream",
       "stream": "stdout",
       "text": [
        "\n",
        "  2787  |    0.016920  |  \u001b[32m  0.015120\u001b[0m  |     1.119009  |             |  0.7s"
       ]
      },
      {
       "output_type": "stream",
       "stream": "stdout",
       "text": [
        "\n",
        "  2788  |    0.017044  |  \u001b[32m  0.015100\u001b[0m  |     1.128784  |             |  0.7s"
       ]
      },
      {
       "output_type": "stream",
       "stream": "stdout",
       "text": [
        "\n",
        "  2789  |    0.016985  |    0.015167  |     1.119923  |             |  0.7s"
       ]
      },
      {
       "output_type": "stream",
       "stream": "stdout",
       "text": [
        "\n",
        "  2790  |    0.017009  |    0.015150  |     1.122745  |             |  0.7s"
       ]
      },
      {
       "output_type": "stream",
       "stream": "stdout",
       "text": [
        "\n",
        "  2791  |    0.016966  |    0.015181  |     1.117597  |             |  0.7s"
       ]
      },
      {
       "output_type": "stream",
       "stream": "stdout",
       "text": [
        "\n",
        "  2792  |    0.017055  |    0.015163  |     1.124766  |             |  0.7s"
       ]
      },
      {
       "output_type": "stream",
       "stream": "stdout",
       "text": [
        "\n",
        "  2793  |  \u001b[94m  0.016897\u001b[0m  |    0.015137  |     1.116259  |             |  0.7s"
       ]
      },
      {
       "output_type": "stream",
       "stream": "stdout",
       "text": [
        "\n",
        "  2794  |    0.017009  |    0.015157  |     1.122150  |             |  0.7s"
       ]
      },
      {
       "output_type": "stream",
       "stream": "stdout",
       "text": [
        "\n",
        "  2795  |    0.016978  |    0.015135  |     1.121729  |             |  0.7s"
       ]
      },
      {
       "output_type": "stream",
       "stream": "stdout",
       "text": [
        "\n",
        "  2796  |    0.016953  |    0.015118  |     1.121332  |             |  0.7s"
       ]
      },
      {
       "output_type": "stream",
       "stream": "stdout",
       "text": [
        "\n",
        "  2797  |    0.016936  |    0.015130  |     1.119369  |             |  0.7s"
       ]
      },
      {
       "output_type": "stream",
       "stream": "stdout",
       "text": [
        "\n",
        "  2798  |    0.016976  |    0.015162  |     1.119655  |             |  0.7s"
       ]
      },
      {
       "output_type": "stream",
       "stream": "stdout",
       "text": [
        "\n",
        "  2799  |  \u001b[94m  0.016884\u001b[0m  |    0.015178  |     1.112414  |             |  0.7s"
       ]
      },
      {
       "output_type": "stream",
       "stream": "stdout",
       "text": [
        "\n",
        "  2800  |    0.017052  |    0.015161  |     1.124729  |             |  0.7s"
       ]
      },
      {
       "output_type": "stream",
       "stream": "stdout",
       "text": [
        "\n",
        "  2801  |    0.016958  |    0.015129  |     1.120894  |             |  0.7s"
       ]
      },
      {
       "output_type": "stream",
       "stream": "stdout",
       "text": [
        "\n",
        "  2802  |    0.016991  |    0.015109  |     1.124535  |             |  0.7s"
       ]
      },
      {
       "output_type": "stream",
       "stream": "stdout",
       "text": [
        "\n",
        "  2803  |    0.017084  |    0.015176  |     1.125718  |             |  0.7s"
       ]
      },
      {
       "output_type": "stream",
       "stream": "stdout",
       "text": [
        "\n",
        "  2804  |    0.017010  |    0.015129  |     1.124286  |             |  0.7s"
       ]
      },
      {
       "output_type": "stream",
       "stream": "stdout",
       "text": [
        "\n",
        "  2805  |    0.017026  |    0.015137  |     1.124747  |             |  0.7s"
       ]
      },
      {
       "output_type": "stream",
       "stream": "stdout",
       "text": [
        "\n",
        "  2806  |    0.016938  |    0.015112  |     1.120801  |             |  0.7s"
       ]
      },
      {
       "output_type": "stream",
       "stream": "stdout",
       "text": [
        "\n",
        "  2807  |    0.016887  |    0.015118  |     1.116984  |             |  0.7s"
       ]
      },
      {
       "output_type": "stream",
       "stream": "stdout",
       "text": [
        "\n",
        "  2808  |    0.016915  |    0.015129  |     1.118078  |             |  0.7s"
       ]
      },
      {
       "output_type": "stream",
       "stream": "stdout",
       "text": [
        "\n",
        "  2809  |    0.017018  |  \u001b[32m  0.015089\u001b[0m  |     1.127841  |             |  0.7s"
       ]
      },
      {
       "output_type": "stream",
       "stream": "stdout",
       "text": [
        "\n",
        "  2810  |    0.017065  |    0.015113  |     1.129194  |             |  0.7s"
       ]
      },
      {
       "output_type": "stream",
       "stream": "stdout",
       "text": [
        "\n",
        "  2811  |  \u001b[94m  0.016870\u001b[0m  |    0.015101  |     1.117122  |             |  0.7s"
       ]
      },
      {
       "output_type": "stream",
       "stream": "stdout",
       "text": [
        "\n",
        "  2812  |    0.016934  |    0.015098  |     1.121635  |             |  0.7s"
       ]
      },
      {
       "output_type": "stream",
       "stream": "stdout",
       "text": [
        "\n",
        "  2813  |    0.017000  |    0.015107  |     1.125285  |             |  0.7s"
       ]
      },
      {
       "output_type": "stream",
       "stream": "stdout",
       "text": [
        "\n",
        "  2814  |    0.016990  |    0.015146  |     1.121756  |             |  0.7s"
       ]
      },
      {
       "output_type": "stream",
       "stream": "stdout",
       "text": [
        "\n",
        "  2815  |    0.016975  |    0.015117  |     1.122932  |             |  0.7s"
       ]
      },
      {
       "output_type": "stream",
       "stream": "stdout",
       "text": [
        "\n",
        "  2816  |    0.017049  |    0.015129  |     1.126921  |             |  0.7s"
       ]
      },
      {
       "output_type": "stream",
       "stream": "stdout",
       "text": [
        "\n",
        "  2817  |    0.017035  |    0.015132  |     1.125755  |             |  0.7s"
       ]
      },
      {
       "output_type": "stream",
       "stream": "stdout",
       "text": [
        "\n",
        "  2818  |    0.016902  |    0.015152  |     1.115549  |             |  0.7s"
       ]
      },
      {
       "output_type": "stream",
       "stream": "stdout",
       "text": [
        "\n",
        "  2819  |    0.016984  |    0.015141  |     1.121699  |             |  0.7s"
       ]
      },
      {
       "output_type": "stream",
       "stream": "stdout",
       "text": [
        "\n",
        "  2820  |    0.017079  |    0.015152  |     1.127181  |             |  0.7s"
       ]
      },
      {
       "output_type": "stream",
       "stream": "stdout",
       "text": [
        "\n",
        "  2821  |    0.016986  |    0.015108  |     1.124343  |             |  0.7s"
       ]
      },
      {
       "output_type": "stream",
       "stream": "stdout",
       "text": [
        "\n",
        "  2822  |    0.016986  |    0.015154  |     1.120870  |             |  0.7s"
       ]
      },
      {
       "output_type": "stream",
       "stream": "stdout",
       "text": [
        "\n",
        "  2823  |    0.017109  |    0.015118  |     1.131657  |             |  0.7s"
       ]
      },
      {
       "output_type": "stream",
       "stream": "stdout",
       "text": [
        "\n",
        "  2824  |    0.016974  |  \u001b[32m  0.015079\u001b[0m  |     1.125659  |             |  0.7s"
       ]
      },
      {
       "output_type": "stream",
       "stream": "stdout",
       "text": [
        "\n",
        "  2825  |    0.016923  |    0.015124  |     1.118999  |             |  0.7s"
       ]
      },
      {
       "output_type": "stream",
       "stream": "stdout",
       "text": [
        "\n",
        "  2826  |    0.016972  |    0.015091  |     1.124608  |             |  0.7s"
       ]
      },
      {
       "output_type": "stream",
       "stream": "stdout",
       "text": [
        "\n",
        "  2827  |    0.017063  |    0.015099  |     1.130114  |             |  0.7s"
       ]
      },
      {
       "output_type": "stream",
       "stream": "stdout",
       "text": [
        "\n",
        "  2828  |    0.016916  |    0.015142  |     1.117113  |             |  0.7s"
       ]
      },
      {
       "output_type": "stream",
       "stream": "stdout",
       "text": [
        "\n",
        "  2829  |    0.016960  |    0.015126  |     1.121293  |             |  0.7s"
       ]
      },
      {
       "output_type": "stream",
       "stream": "stdout",
       "text": [
        "\n",
        "  2830  |    0.016879  |    0.015110  |     1.117065  |             |  0.7s"
       ]
      },
      {
       "output_type": "stream",
       "stream": "stdout",
       "text": [
        "\n",
        "  2831  |    0.016942  |    0.015090  |     1.122666  |             |  0.7s"
       ]
      },
      {
       "output_type": "stream",
       "stream": "stdout",
       "text": [
        "\n",
        "  2832  |    0.016984  |    0.015125  |     1.122960  |             |  0.7s"
       ]
      },
      {
       "output_type": "stream",
       "stream": "stdout",
       "text": [
        "\n",
        "  2833  |    0.016953  |    0.015100  |     1.122744  |             |  0.7s"
       ]
      },
      {
       "output_type": "stream",
       "stream": "stdout",
       "text": [
        "\n",
        "  2834  |    0.016988  |    0.015101  |     1.124929  |             |  0.7s"
       ]
      },
      {
       "output_type": "stream",
       "stream": "stdout",
       "text": [
        "\n",
        "  2835  |    0.016946  |    0.015123  |     1.120520  |             |  0.7s"
       ]
      },
      {
       "output_type": "stream",
       "stream": "stdout",
       "text": [
        "\n",
        "  2836  |    0.016910  |    0.015106  |     1.119418  |             |  0.7s"
       ]
      },
      {
       "output_type": "stream",
       "stream": "stdout",
       "text": [
        "\n",
        "  2837  |    0.017025  |    0.015117  |     1.126190  |             |  0.7s"
       ]
      },
      {
       "output_type": "stream",
       "stream": "stdout",
       "text": [
        "\n",
        "  2838  |    0.016930  |    0.015137  |     1.118467  |             |  0.7s"
       ]
      },
      {
       "output_type": "stream",
       "stream": "stdout",
       "text": [
        "\n",
        "  2839  |  \u001b[94m  0.016868\u001b[0m  |    0.015099  |     1.117175  |             |  0.7s"
       ]
      },
      {
       "output_type": "stream",
       "stream": "stdout",
       "text": [
        "\n",
        "  2840  |    0.016880  |    0.015148  |     1.114314  |             |  0.7s"
       ]
      },
      {
       "output_type": "stream",
       "stream": "stdout",
       "text": [
        "\n",
        "  2841  |    0.016890  |    0.015156  |     1.114397  |             |  0.7s"
       ]
      },
      {
       "output_type": "stream",
       "stream": "stdout",
       "text": [
        "\n",
        "  2842  |    0.016982  |    0.015105  |     1.124280  |             |  0.7s"
       ]
      },
      {
       "output_type": "stream",
       "stream": "stdout",
       "text": [
        "\n",
        "  2843  |  \u001b[94m  0.016812\u001b[0m  |    0.015117  |     1.112167  |             |  0.7s"
       ]
      },
      {
       "output_type": "stream",
       "stream": "stdout",
       "text": [
        "\n",
        "  2844  |    0.016925  |    0.015103  |     1.120630  |             |  0.7s"
       ]
      },
      {
       "output_type": "stream",
       "stream": "stdout",
       "text": [
        "\n",
        "  2845  |    0.016999  |    0.015114  |     1.124711  |             |  0.7s"
       ]
      },
      {
       "output_type": "stream",
       "stream": "stdout",
       "text": [
        "\n",
        "  2846  |    0.016981  |    0.015086  |     1.125639  |             |  0.7s"
       ]
      },
      {
       "output_type": "stream",
       "stream": "stdout",
       "text": [
        "\n",
        "  2847  |    0.016941  |  \u001b[32m  0.015077\u001b[0m  |     1.123623  |             |  0.7s"
       ]
      },
      {
       "output_type": "stream",
       "stream": "stdout",
       "text": [
        "\n",
        "  2848  |    0.017021  |    0.015104  |     1.126901  |             |  0.7s"
       ]
      },
      {
       "output_type": "stream",
       "stream": "stdout",
       "text": [
        "\n",
        "  2849  |    0.017032  |    0.015125  |     1.126101  |             |  0.7s"
       ]
      },
      {
       "output_type": "stream",
       "stream": "stdout",
       "text": [
        "\n",
        "  2850  |    0.017057  |    0.015100  |     1.129630  |             |  0.7s"
       ]
      },
      {
       "output_type": "stream",
       "stream": "stdout",
       "text": [
        "\n",
        "  2851  |    0.017011  |    0.015107  |     1.126025  |             |  0.7s"
       ]
      },
      {
       "output_type": "stream",
       "stream": "stdout",
       "text": [
        "\n",
        "  2852  |    0.016970  |    0.015079  |     1.125397  |             |  0.7s"
       ]
      },
      {
       "output_type": "stream",
       "stream": "stdout",
       "text": [
        "\n",
        "  2853  |    0.016836  |    0.015147  |     1.111511  |             |  0.7s"
       ]
      },
      {
       "output_type": "stream",
       "stream": "stdout",
       "text": [
        "\n",
        "  2854  |    0.016906  |    0.015135  |     1.116978  |             |  0.7s"
       ]
      },
      {
       "output_type": "stream",
       "stream": "stdout",
       "text": [
        "\n",
        "  2855  |    0.016828  |    0.015131  |     1.112158  |             |  0.7s"
       ]
      },
      {
       "output_type": "stream",
       "stream": "stdout",
       "text": [
        "\n",
        "  2856  |  \u001b[94m  0.016790\u001b[0m  |  \u001b[32m  0.015060\u001b[0m  |     1.114829  |             |  0.7s"
       ]
      },
      {
       "output_type": "stream",
       "stream": "stdout",
       "text": [
        "\n",
        "  2857  |    0.017014  |    0.015106  |     1.126279  |             |  0.7s"
       ]
      },
      {
       "output_type": "stream",
       "stream": "stdout",
       "text": [
        "\n",
        "  2858  |    0.016898  |    0.015093  |     1.119601  |             |  0.7s"
       ]
      },
      {
       "output_type": "stream",
       "stream": "stdout",
       "text": [
        "\n",
        "  2859  |    0.016893  |    0.015098  |     1.118878  |             |  0.7s"
       ]
      },
      {
       "output_type": "stream",
       "stream": "stdout",
       "text": [
        "\n",
        "  2860  |    0.016926  |    0.015113  |     1.119948  |             |  0.7s"
       ]
      },
      {
       "output_type": "stream",
       "stream": "stdout",
       "text": [
        "\n",
        "  2861  |    0.016923  |    0.015103  |     1.120473  |             |  0.7s"
       ]
      },
      {
       "output_type": "stream",
       "stream": "stdout",
       "text": [
        "\n",
        "  2862  |    0.016959  |    0.015138  |     1.120327  |             |  0.7s"
       ]
      },
      {
       "output_type": "stream",
       "stream": "stdout",
       "text": [
        "\n",
        "  2863  |    0.016940  |    0.015098  |     1.122045  |             |  0.7s"
       ]
      },
      {
       "output_type": "stream",
       "stream": "stdout",
       "text": [
        "\n",
        "  2864  |    0.016924  |    0.015128  |     1.118720  |             |  0.7s"
       ]
      },
      {
       "output_type": "stream",
       "stream": "stdout",
       "text": [
        "\n",
        "  2865  |    0.016925  |    0.015086  |     1.121912  |             |  0.7s"
       ]
      },
      {
       "output_type": "stream",
       "stream": "stdout",
       "text": [
        "\n",
        "  2866  |    0.016885  |    0.015108  |     1.117609  |             |  0.7s"
       ]
      },
      {
       "output_type": "stream",
       "stream": "stdout",
       "text": [
        "\n",
        "  2867  |    0.016933  |    0.015078  |     1.123019  |             |  0.7s"
       ]
      },
      {
       "output_type": "stream",
       "stream": "stdout",
       "text": [
        "\n",
        "  2868  |    0.016904  |    0.015067  |     1.121908  |             |  0.7s"
       ]
      },
      {
       "output_type": "stream",
       "stream": "stdout",
       "text": [
        "\n",
        "  2869  |    0.016912  |    0.015091  |     1.120709  |             |  0.7s"
       ]
      },
      {
       "output_type": "stream",
       "stream": "stdout",
       "text": [
        "\n",
        "  2870  |  \u001b[94m  0.016708\u001b[0m  |    0.015095  |     1.106892  |             |  0.7s"
       ]
      },
      {
       "output_type": "stream",
       "stream": "stdout",
       "text": [
        "\n",
        "  2871  |    0.016951  |    0.015082  |     1.123896  |             |  0.7s"
       ]
      },
      {
       "output_type": "stream",
       "stream": "stdout",
       "text": [
        "\n",
        "  2872  |    0.016814  |  \u001b[32m  0.015051\u001b[0m  |     1.117167  |             |  0.7s"
       ]
      },
      {
       "output_type": "stream",
       "stream": "stdout",
       "text": [
        "\n",
        "  2873  |    0.016792  |    0.015072  |     1.114138  |             |  0.7s"
       ]
      },
      {
       "output_type": "stream",
       "stream": "stdout",
       "text": [
        "\n",
        "  2874  |    0.016861  |    0.015089  |     1.117452  |             |  0.7s"
       ]
      },
      {
       "output_type": "stream",
       "stream": "stdout",
       "text": [
        "\n",
        "  2875  |    0.016889  |    0.015068  |     1.120831  |             |  0.7s"
       ]
      },
      {
       "output_type": "stream",
       "stream": "stdout",
       "text": [
        "\n",
        "  2876  |    0.016872  |    0.015110  |     1.116635  |             |  0.7s"
       ]
      },
      {
       "output_type": "stream",
       "stream": "stdout",
       "text": [
        "\n",
        "  2877  |    0.016903  |    0.015066  |     1.121988  |             |  0.7s"
       ]
      },
      {
       "output_type": "stream",
       "stream": "stdout",
       "text": [
        "\n",
        "  2878  |    0.016838  |    0.015055  |     1.118432  |             |  0.7s"
       ]
      },
      {
       "output_type": "stream",
       "stream": "stdout",
       "text": [
        "\n",
        "  2879  |    0.016923  |    0.015113  |     1.119773  |             |  0.7s"
       ]
      },
      {
       "output_type": "stream",
       "stream": "stdout",
       "text": [
        "\n",
        "  2880  |    0.016808  |  \u001b[32m  0.015040\u001b[0m  |     1.117556  |             |  0.7s"
       ]
      },
      {
       "output_type": "stream",
       "stream": "stdout",
       "text": [
        "\n",
        "  2881  |    0.016837  |    0.015073  |     1.117020  |             |  0.7s"
       ]
      },
      {
       "output_type": "stream",
       "stream": "stdout",
       "text": [
        "\n",
        "  2882  |    0.016956  |    0.015046  |     1.126928  |             |  0.7s"
       ]
      },
      {
       "output_type": "stream",
       "stream": "stdout",
       "text": [
        "\n",
        "  2883  |    0.016859  |  \u001b[32m  0.015039\u001b[0m  |     1.121030  |             |  0.7s"
       ]
      },
      {
       "output_type": "stream",
       "stream": "stdout",
       "text": [
        "\n",
        "  2884  |    0.016824  |    0.015044  |     1.118330  |             |  0.7s"
       ]
      },
      {
       "output_type": "stream",
       "stream": "stdout",
       "text": [
        "\n",
        "  2885  |    0.016837  |    0.015060  |     1.117972  |             |  0.7s"
       ]
      },
      {
       "output_type": "stream",
       "stream": "stdout",
       "text": [
        "\n",
        "  2886  |    0.016941  |    0.015078  |     1.123529  |             |  0.7s"
       ]
      },
      {
       "output_type": "stream",
       "stream": "stdout",
       "text": [
        "\n",
        "  2887  |    0.016893  |    0.015070  |     1.121001  |             |  0.7s"
       ]
      },
      {
       "output_type": "stream",
       "stream": "stdout",
       "text": [
        "\n",
        "  2888  |    0.016863  |    0.015082  |     1.118078  |             |  0.7s"
       ]
      },
      {
       "output_type": "stream",
       "stream": "stdout",
       "text": [
        "\n",
        "  2889  |    0.016840  |    0.015108  |     1.114689  |             |  0.7s"
       ]
      },
      {
       "output_type": "stream",
       "stream": "stdout",
       "text": [
        "\n",
        "  2890  |    0.016955  |    0.015074  |     1.124767  |             |  0.7s"
       ]
      },
      {
       "output_type": "stream",
       "stream": "stdout",
       "text": [
        "\n",
        "  2891  |    0.016945  |  \u001b[32m  0.015029\u001b[0m  |     1.127456  |             |  0.7s"
       ]
      },
      {
       "output_type": "stream",
       "stream": "stdout",
       "text": [
        "\n",
        "  2892  |    0.016944  |    0.015031  |     1.127287  |             |  0.7s"
       ]
      },
      {
       "output_type": "stream",
       "stream": "stdout",
       "text": [
        "\n",
        "  2893  |    0.016729  |    0.015081  |     1.109254  |             |  0.7s"
       ]
      },
      {
       "output_type": "stream",
       "stream": "stdout",
       "text": [
        "\n",
        "  2894  |    0.016879  |    0.015082  |     1.119172  |             |  0.7s"
       ]
      },
      {
       "output_type": "stream",
       "stream": "stdout",
       "text": [
        "\n",
        "  2895  |    0.016947  |    0.015070  |     1.124579  |             |  0.7s"
       ]
      },
      {
       "output_type": "stream",
       "stream": "stdout",
       "text": [
        "\n",
        "  2896  |    0.016906  |    0.015107  |     1.119110  |             |  0.7s"
       ]
      },
      {
       "output_type": "stream",
       "stream": "stdout",
       "text": [
        "\n",
        "  2897  |    0.016825  |    0.015080  |     1.115698  |             |  0.7s"
       ]
      },
      {
       "output_type": "stream",
       "stream": "stdout",
       "text": [
        "\n",
        "  2898  |    0.016851  |    0.015035  |     1.120746  |             |  0.7s"
       ]
      },
      {
       "output_type": "stream",
       "stream": "stdout",
       "text": [
        "\n",
        "  2899  |    0.016864  |  \u001b[32m  0.015018\u001b[0m  |     1.122912  |             |  0.7s"
       ]
      },
      {
       "output_type": "stream",
       "stream": "stdout",
       "text": [
        "\n",
        "  2900  |    0.016848  |    0.015078  |     1.117351  |             |  0.7s"
       ]
      },
      {
       "output_type": "stream",
       "stream": "stdout",
       "text": [
        "\n",
        "  2901  |    0.016810  |  \u001b[32m  0.015017\u001b[0m  |     1.119372  |             |  0.7s"
       ]
      },
      {
       "output_type": "stream",
       "stream": "stdout",
       "text": [
        "\n",
        "  2902  |    0.016946  |    0.015085  |     1.123338  |             |  0.7s"
       ]
      },
      {
       "output_type": "stream",
       "stream": "stdout",
       "text": [
        "\n",
        "  2903  |    0.016796  |    0.015042  |     1.116618  |             |  0.7s"
       ]
      },
      {
       "output_type": "stream",
       "stream": "stdout",
       "text": [
        "\n",
        "  2904  |    0.016838  |    0.015058  |     1.118215  |             |  0.7s"
       ]
      },
      {
       "output_type": "stream",
       "stream": "stdout",
       "text": [
        "\n",
        "  2905  |    0.016874  |    0.015046  |     1.121428  |             |  0.7s"
       ]
      },
      {
       "output_type": "stream",
       "stream": "stdout",
       "text": [
        "\n",
        "  2906  |    0.016852  |    0.015046  |     1.119996  |             |  0.7s"
       ]
      },
      {
       "output_type": "stream",
       "stream": "stdout",
       "text": [
        "\n",
        "  2907  |    0.016847  |    0.015089  |     1.116561  |             |  0.7s"
       ]
      },
      {
       "output_type": "stream",
       "stream": "stdout",
       "text": [
        "\n",
        "  2908  |    0.016838  |    0.015022  |     1.120926  |             |  0.7s"
       ]
      },
      {
       "output_type": "stream",
       "stream": "stdout",
       "text": [
        "\n",
        "  2909  |    0.016814  |    0.015045  |     1.117561  |             |  0.7s"
       ]
      },
      {
       "output_type": "stream",
       "stream": "stdout",
       "text": [
        "\n",
        "  2910  |    0.016779  |    0.015032  |     1.116217  |             |  0.7s"
       ]
      },
      {
       "output_type": "stream",
       "stream": "stdout",
       "text": [
        "\n",
        "  2911  |    0.016804  |    0.015083  |     1.114124  |             |  0.7s"
       ]
      },
      {
       "output_type": "stream",
       "stream": "stdout",
       "text": [
        "\n",
        "  2912  |    0.016779  |    0.015052  |     1.114679  |             |  0.7s"
       ]
      },
      {
       "output_type": "stream",
       "stream": "stdout",
       "text": [
        "\n",
        "  2913  |    0.016867  |    0.015069  |     1.119284  |             |  0.7s"
       ]
      },
      {
       "output_type": "stream",
       "stream": "stdout",
       "text": [
        "\n",
        "  2914  |    0.016875  |    0.015058  |     1.120668  |             |  0.7s"
       ]
      },
      {
       "output_type": "stream",
       "stream": "stdout",
       "text": [
        "\n",
        "  2915  |    0.016893  |    0.015047  |     1.122685  |             |  0.7s"
       ]
      },
      {
       "output_type": "stream",
       "stream": "stdout",
       "text": [
        "\n",
        "  2916  |    0.016755  |    0.015083  |     1.110844  |             |  0.7s"
       ]
      },
      {
       "output_type": "stream",
       "stream": "stdout",
       "text": [
        "\n",
        "  2917  |    0.016999  |    0.015099  |     1.125784  |             |  0.7s"
       ]
      },
      {
       "output_type": "stream",
       "stream": "stdout",
       "text": [
        "\n",
        "  2918  |    0.016924  |    0.015106  |     1.120358  |             |  0.7s"
       ]
      },
      {
       "output_type": "stream",
       "stream": "stdout",
       "text": [
        "\n",
        "  2919  |    0.016904  |    0.015057  |     1.122687  |             |  0.7s"
       ]
      },
      {
       "output_type": "stream",
       "stream": "stdout",
       "text": [
        "\n",
        "  2920  |    0.016879  |    0.015022  |     1.123639  |             |  0.7s"
       ]
      },
      {
       "output_type": "stream",
       "stream": "stdout",
       "text": [
        "\n",
        "  2921  |    0.016876  |    0.015052  |     1.121129  |             |  0.7s"
       ]
      },
      {
       "output_type": "stream",
       "stream": "stdout",
       "text": [
        "\n",
        "  2922  |    0.016850  |    0.015047  |     1.119833  |             |  0.7s"
       ]
      },
      {
       "output_type": "stream",
       "stream": "stdout",
       "text": [
        "\n",
        "  2923  |    0.016868  |    0.015076  |     1.118865  |             |  0.7s"
       ]
      },
      {
       "output_type": "stream",
       "stream": "stdout",
       "text": [
        "\n",
        "  2924  |    0.016894  |    0.015053  |     1.122290  |             |  0.7s"
       ]
      },
      {
       "output_type": "stream",
       "stream": "stdout",
       "text": [
        "\n",
        "  2925  |    0.016803  |    0.015064  |     1.115449  |             |  0.7s"
       ]
      },
      {
       "output_type": "stream",
       "stream": "stdout",
       "text": [
        "\n",
        "  2926  |    0.016813  |    0.015037  |     1.118076  |             |  0.7s"
       ]
      },
      {
       "output_type": "stream",
       "stream": "stdout",
       "text": [
        "\n",
        "  2927  |    0.016761  |    0.015039  |     1.114458  |             |  0.7s"
       ]
      },
      {
       "output_type": "stream",
       "stream": "stdout",
       "text": [
        "\n",
        "  2928  |    0.016814  |  \u001b[32m  0.015014\u001b[0m  |     1.119889  |             |  0.7s"
       ]
      },
      {
       "output_type": "stream",
       "stream": "stdout",
       "text": [
        "\n",
        "  2929  |    0.016846  |    0.015066  |     1.118149  |             |  0.7s"
       ]
      },
      {
       "output_type": "stream",
       "stream": "stdout",
       "text": [
        "\n",
        "  2930  |    0.016754  |    0.015053  |     1.113045  |             |  0.7s"
       ]
      },
      {
       "output_type": "stream",
       "stream": "stdout",
       "text": [
        "\n",
        "  2931  |    0.016903  |    0.015064  |     1.122093  |             |  0.7s"
       ]
      },
      {
       "output_type": "stream",
       "stream": "stdout",
       "text": [
        "\n",
        "  2932  |    0.016835  |    0.015073  |     1.116929  |             |  0.7s"
       ]
      },
      {
       "output_type": "stream",
       "stream": "stdout",
       "text": [
        "\n",
        "  2933  |    0.016920  |    0.015049  |     1.124320  |             |  0.7s"
       ]
      },
      {
       "output_type": "stream",
       "stream": "stdout",
       "text": [
        "\n",
        "  2934  |    0.016785  |    0.015065  |     1.114161  |             |  0.7s"
       ]
      },
      {
       "output_type": "stream",
       "stream": "stdout",
       "text": [
        "\n",
        "  2935  |    0.016849  |    0.015047  |     1.119790  |             |  0.7s"
       ]
      },
      {
       "output_type": "stream",
       "stream": "stdout",
       "text": [
        "\n",
        "  2936  |    0.016813  |    0.015075  |     1.115273  |             |  0.7s"
       ]
      },
      {
       "output_type": "stream",
       "stream": "stdout",
       "text": [
        "\n",
        "  2937  |    0.016760  |    0.015032  |     1.114946  |             |  0.7s"
       ]
      },
      {
       "output_type": "stream",
       "stream": "stdout",
       "text": [
        "\n",
        "  2938  |    0.016852  |    0.015067  |     1.118477  |             |  0.7s"
       ]
      },
      {
       "output_type": "stream",
       "stream": "stdout",
       "text": [
        "\n",
        "  2939  |    0.016871  |  \u001b[32m  0.015006\u001b[0m  |     1.124265  |             |  0.7s"
       ]
      },
      {
       "output_type": "stream",
       "stream": "stdout",
       "text": [
        "\n",
        "  2940  |    0.016838  |    0.015057  |     1.118246  |             |  0.7s"
       ]
      },
      {
       "output_type": "stream",
       "stream": "stdout",
       "text": [
        "\n",
        "  2941  |    0.016845  |    0.015063  |     1.118351  |             |  0.7s"
       ]
      },
      {
       "output_type": "stream",
       "stream": "stdout",
       "text": [
        "\n",
        "  2942  |    0.016893  |    0.015009  |     1.125520  |             |  0.7s"
       ]
      },
      {
       "output_type": "stream",
       "stream": "stdout",
       "text": [
        "\n",
        "  2943  |    0.016932  |    0.015037  |     1.126074  |             |  0.7s"
       ]
      },
      {
       "output_type": "stream",
       "stream": "stdout",
       "text": [
        "\n",
        "  2944  |    0.016874  |    0.015032  |     1.122533  |             |  0.7s"
       ]
      },
      {
       "output_type": "stream",
       "stream": "stdout",
       "text": [
        "\n",
        "  2945  |    0.016850  |    0.015074  |     1.117866  |             |  0.7s"
       ]
      },
      {
       "output_type": "stream",
       "stream": "stdout",
       "text": [
        "\n",
        "  2946  |    0.016848  |    0.015048  |     1.119635  |             |  0.7s"
       ]
      }
     ],
     "prompt_number": "*"
    },
    {
     "cell_type": "code",
     "collapsed": false,
     "input": [
      "# import cPickle as pickle\n",
      "# with open('./Lasagne_3rd.pickle', 'rb') as f:\n",
      "#     model = pickle.load(f)\n"
     ],
     "language": "python",
     "metadata": {},
     "outputs": []
    },
    {
     "cell_type": "code",
     "collapsed": false,
     "input": [
      "# from sklearn.base import clone\n",
      "# model2 = clone(net7)\n",
      "# model2.load_weights_from(model)"
     ],
     "language": "python",
     "metadata": {},
     "outputs": []
    },
    {
     "cell_type": "code",
     "collapsed": false,
     "input": [
      "# model"
     ],
     "language": "python",
     "metadata": {},
     "outputs": []
    },
    {
     "cell_type": "code",
     "collapsed": false,
     "input": [
      "train_loss_6 = np.array([i[\"train_loss\"] for i in net7.train_history_])\n",
      "valid_loss_6 = np.array([i[\"valid_loss\"] for i in net7.train_history_])\n",
      "pyplot.plot(train_loss_6, linewidth=3, label=\"train\")\n",
      "pyplot.plot(valid_loss_6, linewidth=3, label=\"valid\")\n",
      "pyplot.grid()\n",
      "pyplot.legend()\n",
      "pyplot.xlabel(\"epoch\")\n",
      "pyplot.ylabel(\"loss\")\n",
      "pyplot.ylim(0.1e-2, 3.2e-2)\n",
      "# pyplot.yscale(\"log\")\n",
      "pyplot.show()"
     ],
     "language": "python",
     "metadata": {},
     "outputs": []
    },
    {
     "cell_type": "code",
     "collapsed": false,
     "input": [
      "from sklearn import metrics\n",
      "\n",
      "Xt_6, yt_6 = transform_6(X_test, y_test)\n",
      "\n",
      "# overfit result, should use validation result\n",
      "y_pred = net7.predict(Xt_6)\n",
      "# print y_pred[1]\n",
      "# np.argmax(y_pred[i]),np.argmax(y[i])\n",
      "y_pred = np.array(map((lambda x: np.argmax(x)), y_pred))\n",
      "yyy = np.array(map((lambda x: np.argmax(x)), yt_6))\n",
      "\n",
      "print metrics.classification_report((yyy), (y_pred))"
     ],
     "language": "python",
     "metadata": {},
     "outputs": []
    },
    {
     "cell_type": "markdown",
     "metadata": {},
     "source": [
      "## load model"
     ]
    },
    {
     "cell_type": "code",
     "collapsed": false,
     "input": [
      "# import cPickle as pickle\n",
      "\n",
      "# with open('./Lasagne_2nd.pickle', 'rb') as f:\n",
      "#     specialists = pickle.load(f)\n"
     ],
     "language": "python",
     "metadata": {},
     "outputs": []
    },
    {
     "cell_type": "markdown",
     "metadata": {},
     "source": [
      "## submit test data "
     ]
    },
    {
     "cell_type": "code",
     "collapsed": false,
     "input": [
      "import pandas as pd\n",
      "\n",
      "xx_test, yy_test = load_svmlight_file(\"./phase1/new/new2/hogtestdatawithnoAnswer.dat\")"
     ],
     "language": "python",
     "metadata": {},
     "outputs": []
    },
    {
     "cell_type": "code",
     "collapsed": false,
     "input": [
      "xx_test.shape"
     ],
     "language": "python",
     "metadata": {},
     "outputs": []
    },
    {
     "cell_type": "code",
     "collapsed": false,
     "input": [
      "xx_test = np.array(xx_test.todense()).reshape(-1,)\n",
      "# xx_train = xx_train.dtype(np.float32)\n",
      "xx_test = np.float32(xx_test)\n",
      "xx_test = xx_test.reshape(7472,144)\n",
      "\n",
      "xx_test = xx_test.astype(np.float32)\n",
      "\n",
      "def one_hot(x,n):\n",
      "    if type(x) == list:\n",
      "            x = np.array(x)\n",
      "    x = x.flatten()\n",
      "    o_h = np.zeros((len(x),n))\n",
      "    o_h[np.arange(len(x)),x] = 1\n",
      "    return o_h\n",
      "\n",
      "yy_test = yy_test.astype(int32)    \n",
      "yy_test = one_hot(yy_test, 32)\n",
      "yy_test = yy_test.astype(np.float32)\n",
      "\n",
      "Xt, yt = transform_6(xx_test, yy_test)\n",
      "result = net7.predict(Xt)\n",
      "result = np.array(map((lambda x: np.argmax(x)), result))\n",
      "result.astype(int)"
     ],
     "language": "python",
     "metadata": {},
     "outputs": []
    },
    {
     "cell_type": "code",
     "collapsed": false,
     "input": [
      "df_submission = pd.DataFrame( result.astype(int) ,columns=None)\n",
      "\n",
      "df_submission.to_csv('./Lasagne_8th_hog.dat', index=None)"
     ],
     "language": "python",
     "metadata": {},
     "outputs": []
    }
   ],
   "metadata": {}
  }
 ]
}