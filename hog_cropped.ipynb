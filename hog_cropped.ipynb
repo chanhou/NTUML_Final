{
 "metadata": {
  "name": "",
  "signature": "sha256:5b242e1698262a023135a83d426bb7e818c5757cc16170b99bc1daf4b9162a59"
 },
 "nbformat": 3,
 "nbformat_minor": 0,
 "worksheets": [
  {
   "cells": [
    {
     "cell_type": "code",
     "collapsed": false,
     "input": [
      "%matplotlib inline\n",
      "import cv\n",
      "import cv2\n",
      "import numpy as np\n",
      "from scipy import sparse\n",
      "from sklearn.datasets import *\n",
      "from matplotlib import pyplot as plt\n",
      "import matplotlib.cm as cm\n",
      "import matplotlib as mpl\n",
      "from numpy.linalg import norm\n",
      "\n",
      "\n",
      "def preprocess_hog(img):\n",
      "    \n",
      "    gx = cv2.Sobel(img, cv2.CV_32F, 1, 0)\n",
      "    gy = cv2.Sobel(img, cv2.CV_32F, 0, 1)\n",
      "    mag, ang = cv2.cartToPolar(gx, gy)\n",
      "    bin_n = 36\n",
      "    bin = np.int32(bin_n*ang/(2*np.pi))\n",
      "    bin_cells = bin[:10,:10], bin[10:,:10], bin[:10,10:], bin[10:,10:]\n",
      "    mag_cells = mag[:10,:10], mag[10:,:10], mag[:10,10:], mag[10:,10:]\n",
      "    hists = [np.bincount(b.ravel(), m.ravel(), bin_n) for b, m in zip(bin_cells, mag_cells)]\n",
      "    hist = np.hstack(hists)\n",
      "\n",
      "    # transform to Hellinger kernel\n",
      "    eps = 1e-7\n",
      "    hist /= hist.sum() + eps\n",
      "    hist = np.sqrt(hist)\n",
      "    hist /= norm(hist) + eps\n",
      "\n",
      "    return np.float32(hist)\n",
      "\n",
      "def deskew(img):\n",
      "    return img\n",
      "\n",
      "imageArray = np.zeros(144)\n",
      "imageArray = [imageArray]\n",
      "\n",
      "x_train, y_train = load_svmlight_file(\"testdataraw.dat\") #load cropped file\n",
      "\n",
      "for index in range(len(y_train)):\n",
      "\te =  np.asarray(x_train[index,:].todense().reshape(57,49))\n",
      "        \n",
      "        digits2 = map(deskew, e)\n",
      "        samples = preprocess_hog(np.float32(digits2))\n",
      "        if len(samples) > 144:\n",
      "            print index\n",
      "            print len(samples)\n",
      "            i = len(samples)\n",
      "            while i >= 145:\n",
      "                samples = np.delete(samples, 0, None)\n",
      "                i -= 1\n",
      "\n",
      "        imageArray = np.vstack((imageArray, [samples]))\n",
      "        \n",
      "        \n",
      "imageArray = imageArray[1:,:]\n",
      "            \n",
      "\n"
     ],
     "language": "python",
     "metadata": {},
     "outputs": [
      {
       "output_type": "stream",
       "stream": "stdout",
       "text": [
        "1538\n",
        "145\n",
        "1674"
       ]
      },
      {
       "output_type": "stream",
       "stream": "stdout",
       "text": [
        "\n",
        "145\n",
        "2009"
       ]
      },
      {
       "output_type": "stream",
       "stream": "stdout",
       "text": [
        "\n",
        "145\n",
        "2056"
       ]
      },
      {
       "output_type": "stream",
       "stream": "stdout",
       "text": [
        "\n",
        "145\n",
        "2186"
       ]
      },
      {
       "output_type": "stream",
       "stream": "stdout",
       "text": [
        "\n",
        "145\n",
        "2970"
       ]
      },
      {
       "output_type": "stream",
       "stream": "stdout",
       "text": [
        "\n",
        "145\n",
        "3163"
       ]
      },
      {
       "output_type": "stream",
       "stream": "stdout",
       "text": [
        "\n",
        "145\n",
        "4081"
       ]
      },
      {
       "output_type": "stream",
       "stream": "stdout",
       "text": [
        "\n",
        "145\n",
        "4112"
       ]
      },
      {
       "output_type": "stream",
       "stream": "stdout",
       "text": [
        "\n",
        "145\n",
        "5505"
       ]
      },
      {
       "output_type": "stream",
       "stream": "stdout",
       "text": [
        "\n",
        "145\n",
        "5899"
       ]
      },
      {
       "output_type": "stream",
       "stream": "stdout",
       "text": [
        "\n",
        "145\n",
        "6027"
       ]
      },
      {
       "output_type": "stream",
       "stream": "stdout",
       "text": [
        "\n",
        "145\n",
        "6153"
       ]
      },
      {
       "output_type": "stream",
       "stream": "stdout",
       "text": [
        "\n",
        "146\n",
        "6500"
       ]
      },
      {
       "output_type": "stream",
       "stream": "stdout",
       "text": [
        "\n",
        "145\n",
        "6568"
       ]
      },
      {
       "output_type": "stream",
       "stream": "stdout",
       "text": [
        "\n",
        "145\n"
       ]
      }
     ],
     "prompt_number": 9
    },
    {
     "cell_type": "code",
     "collapsed": false,
     "input": [
      "x = imageArray\n",
      "y_train = np.array(y_train*1e-00)\n",
      "xx = x[0].flatten()\n",
      "\n",
      "for i in range(len(y_train)):\n",
      "    if i == 0:\n",
      "        continue #already flatten\n",
      "    xx = np.vstack((xx, x[i].flatten()))\n",
      "    \n",
      "y = y_train.tolist()\n",
      "xx = xx.tolist()\n",
      "\n",
      "#dump_svmlight_file(xx, y, \"hogtestdatawithnoAnswer.dat\")"
     ],
     "language": "python",
     "metadata": {},
     "outputs": [],
     "prompt_number": 10
    },
    {
     "cell_type": "code",
     "collapsed": false,
     "input": [
      "from sklearn import cross_validation\n",
      "from sklearn import svm\n",
      "\n",
      "X_train, X_test, y_train, y_test = cross_validation.train_test_split(xx, y, test_size=0.3, random_state=0)\n",
      "\n",
      "clf = svm.SVC(kernel='poly', degree=3, C=6920000).fit(X_train, y_train)\n",
      "clf.score(X_test, y_test)"
     ],
     "language": "python",
     "metadata": {},
     "outputs": [
      {
       "output_type": "stream",
       "stream": "stdout",
       "text": [
        "ok\n"
       ]
      },
      {
       "metadata": {},
       "output_type": "pyout",
       "prompt_number": 8,
       "text": [
        "0.70113036925395633"
       ]
      }
     ],
     "prompt_number": 8
    },
    {
     "cell_type": "code",
     "collapsed": false,
     "input": [],
     "language": "python",
     "metadata": {},
     "outputs": []
    }
   ],
   "metadata": {}
  }
 ]
}