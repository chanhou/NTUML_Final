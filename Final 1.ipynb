{
 "metadata": {
  "name": ""
 },
 "nbformat": 3,
 "nbformat_minor": 0,
 "worksheets": [
  {
   "cells": [
    {
     "cell_type": "markdown",
     "metadata": {},
     "source": [
      "# data reading"
     ]
    },
    {
     "cell_type": "code",
     "collapsed": false,
     "input": [
      "import numpy as np\n",
      "import math\n",
      "import scipy.linalg as sp\n",
      "from sklearn.datasets import load_svmlight_file"
     ],
     "language": "python",
     "metadata": {},
     "outputs": [],
     "prompt_number": 1
    },
    {
     "cell_type": "code",
     "collapsed": false,
     "input": [
      "%pylab inline"
     ],
     "language": "python",
     "metadata": {},
     "outputs": [
      {
       "output_type": "stream",
       "stream": "stdout",
       "text": [
        "Populating the interactive namespace from numpy and matplotlib\n"
       ]
      }
     ],
     "prompt_number": 2
    },
    {
     "cell_type": "code",
     "collapsed": false,
     "input": [
      "# xx_train, yy_train = load_svmlight_file(\"./phase1/ml14fall_train.dat\")\n",
      "xx_train, yy_train = load_svmlight_file(\"./phase1/test2.dat\")\n"
     ],
     "language": "python",
     "metadata": {},
     "outputs": [],
     "prompt_number": 3
    },
    {
     "cell_type": "code",
     "collapsed": false,
     "input": [
      "xx_train"
     ],
     "language": "python",
     "metadata": {},
     "outputs": [
      {
       "metadata": {},
       "output_type": "pyout",
       "prompt_number": 4,
       "text": [
        "<14744x2500 sparse matrix of type '<type 'numpy.float64'>'\n",
        "\twith 8169206 stored elements in Compressed Sparse Row format>"
       ]
      }
     ],
     "prompt_number": 4
    },
    {
     "cell_type": "code",
     "collapsed": false,
     "input": [
      "# print X_train\n",
      "X_data = xx_train[:,:].todense()"
     ],
     "language": "python",
     "metadata": {},
     "outputs": [],
     "prompt_number": 4
    },
    {
     "cell_type": "code",
     "collapsed": false,
     "input": [
      "xx_train[0, :].todense().reshape(105,122)"
     ],
     "language": "python",
     "metadata": {},
     "outputs": [
      {
       "metadata": {},
       "output_type": "pyout",
       "prompt_number": 12,
       "text": [
        "matrix([[ 0.,  0.,  0., ...,  0.,  0.,  0.],\n",
        "        [ 0.,  0.,  0., ...,  0.,  0.,  0.],\n",
        "        [ 0.,  0.,  0., ...,  0.,  0.,  0.],\n",
        "        ..., \n",
        "        [ 0.,  0.,  0., ...,  0.,  0.,  0.],\n",
        "        [ 0.,  0.,  0., ...,  0.,  0.,  0.],\n",
        "        [ 0.,  0.,  0., ...,  0.,  0.,  0.]])"
       ]
      }
     ],
     "prompt_number": 12
    },
    {
     "cell_type": "markdown",
     "metadata": {},
     "source": [
      "# transform data format to orange "
     ]
    },
    {
     "cell_type": "code",
     "collapsed": false,
     "input": [
      "# append path\n",
      "import sys \n",
      "import os\n",
      "sys.path.append(os.path.abspath(\"self/Data group/NANO-Data-Camp-201409/\"))"
     ],
     "language": "python",
     "metadata": {},
     "outputs": [],
     "prompt_number": 5
    },
    {
     "cell_type": "code",
     "collapsed": false,
     "input": [
      "import pandas as pd\n",
      "# import numpy as np\n",
      "from nanodata2014.orange import tools"
     ],
     "language": "python",
     "metadata": {},
     "outputs": [],
     "prompt_number": 7
    },
    {
     "cell_type": "code",
     "collapsed": false,
     "input": [
      "columns=[]\n",
      "for i in range (12810):\n",
      "    columns.append('pixel'+str(i))\n",
      "    \n",
      "# columns"
     ],
     "language": "python",
     "metadata": {},
     "outputs": [],
     "prompt_number": 9
    },
    {
     "cell_type": "code",
     "collapsed": false,
     "input": [
      "orange1 = pd.DataFrame( X_data ,columns = columns)"
     ],
     "language": "python",
     "metadata": {},
     "outputs": [],
     "prompt_number": 10
    },
    {
     "cell_type": "code",
     "collapsed": false,
     "input": [
      "orange1.head()"
     ],
     "language": "python",
     "metadata": {},
     "outputs": [
      {
       "html": [
        "<div style=\"max-height:1000px;max-width:1500px;overflow:auto;\">\n",
        "<table border=\"1\" class=\"dataframe\">\n",
        "  <thead>\n",
        "    <tr style=\"text-align: right;\">\n",
        "      <th></th>\n",
        "      <th>pixel0</th>\n",
        "      <th>pixel1</th>\n",
        "      <th>pixel2</th>\n",
        "      <th>pixel3</th>\n",
        "      <th>pixel4</th>\n",
        "      <th>pixel5</th>\n",
        "      <th>pixel6</th>\n",
        "      <th>pixel7</th>\n",
        "      <th>pixel8</th>\n",
        "      <th>pixel9</th>\n",
        "      <th>...</th>\n",
        "      <th>pixel12800</th>\n",
        "      <th>pixel12801</th>\n",
        "      <th>pixel12802</th>\n",
        "      <th>pixel12803</th>\n",
        "      <th>pixel12804</th>\n",
        "      <th>pixel12805</th>\n",
        "      <th>pixel12806</th>\n",
        "      <th>pixel12807</th>\n",
        "      <th>pixel12808</th>\n",
        "      <th>pixel12809</th>\n",
        "    </tr>\n",
        "  </thead>\n",
        "  <tbody>\n",
        "    <tr>\n",
        "      <th>0</th>\n",
        "      <td> 0</td>\n",
        "      <td> 0</td>\n",
        "      <td> 0</td>\n",
        "      <td> 0</td>\n",
        "      <td> 0</td>\n",
        "      <td> 0</td>\n",
        "      <td> 0</td>\n",
        "      <td> 0</td>\n",
        "      <td> 0</td>\n",
        "      <td> 0</td>\n",
        "      <td>...</td>\n",
        "      <td> 0</td>\n",
        "      <td> 0</td>\n",
        "      <td> 0</td>\n",
        "      <td> 0</td>\n",
        "      <td> 0</td>\n",
        "      <td> 0</td>\n",
        "      <td> 0</td>\n",
        "      <td> 0</td>\n",
        "      <td> 0</td>\n",
        "      <td> 0</td>\n",
        "    </tr>\n",
        "    <tr>\n",
        "      <th>1</th>\n",
        "      <td> 0</td>\n",
        "      <td> 0</td>\n",
        "      <td> 0</td>\n",
        "      <td> 0</td>\n",
        "      <td> 0</td>\n",
        "      <td> 0</td>\n",
        "      <td> 0</td>\n",
        "      <td> 0</td>\n",
        "      <td> 0</td>\n",
        "      <td> 0</td>\n",
        "      <td>...</td>\n",
        "      <td> 0</td>\n",
        "      <td> 0</td>\n",
        "      <td> 0</td>\n",
        "      <td> 0</td>\n",
        "      <td> 0</td>\n",
        "      <td> 0</td>\n",
        "      <td> 0</td>\n",
        "      <td> 0</td>\n",
        "      <td> 0</td>\n",
        "      <td> 0</td>\n",
        "    </tr>\n",
        "    <tr>\n",
        "      <th>2</th>\n",
        "      <td> 0</td>\n",
        "      <td> 0</td>\n",
        "      <td> 0</td>\n",
        "      <td> 0</td>\n",
        "      <td> 0</td>\n",
        "      <td> 0</td>\n",
        "      <td> 0</td>\n",
        "      <td> 0</td>\n",
        "      <td> 0</td>\n",
        "      <td> 0</td>\n",
        "      <td>...</td>\n",
        "      <td> 0</td>\n",
        "      <td> 0</td>\n",
        "      <td> 0</td>\n",
        "      <td> 0</td>\n",
        "      <td> 0</td>\n",
        "      <td> 0</td>\n",
        "      <td> 0</td>\n",
        "      <td> 0</td>\n",
        "      <td> 0</td>\n",
        "      <td> 0</td>\n",
        "    </tr>\n",
        "    <tr>\n",
        "      <th>3</th>\n",
        "      <td> 0</td>\n",
        "      <td> 0</td>\n",
        "      <td> 0</td>\n",
        "      <td> 0</td>\n",
        "      <td> 0</td>\n",
        "      <td> 0</td>\n",
        "      <td> 0</td>\n",
        "      <td> 0</td>\n",
        "      <td> 0</td>\n",
        "      <td> 0</td>\n",
        "      <td>...</td>\n",
        "      <td> 0</td>\n",
        "      <td> 0</td>\n",
        "      <td> 0</td>\n",
        "      <td> 0</td>\n",
        "      <td> 0</td>\n",
        "      <td> 0</td>\n",
        "      <td> 0</td>\n",
        "      <td> 0</td>\n",
        "      <td> 0</td>\n",
        "      <td> 0</td>\n",
        "    </tr>\n",
        "    <tr>\n",
        "      <th>4</th>\n",
        "      <td> 0</td>\n",
        "      <td> 0</td>\n",
        "      <td> 0</td>\n",
        "      <td> 0</td>\n",
        "      <td> 0</td>\n",
        "      <td> 0</td>\n",
        "      <td> 0</td>\n",
        "      <td> 0</td>\n",
        "      <td> 0</td>\n",
        "      <td> 0</td>\n",
        "      <td>...</td>\n",
        "      <td> 0</td>\n",
        "      <td> 0</td>\n",
        "      <td> 0</td>\n",
        "      <td> 0</td>\n",
        "      <td> 0</td>\n",
        "      <td> 0</td>\n",
        "      <td> 0</td>\n",
        "      <td> 0</td>\n",
        "      <td> 0</td>\n",
        "      <td> 0</td>\n",
        "    </tr>\n",
        "  </tbody>\n",
        "</table>\n",
        "<p>5 rows \u00d7 12810 columns</p>\n",
        "</div>"
       ],
       "metadata": {},
       "output_type": "pyout",
       "prompt_number": 11,
       "text": [
        "   pixel0  pixel1  pixel2  pixel3  pixel4  pixel5  pixel6  pixel7  pixel8  \\\n",
        "0       0       0       0       0       0       0       0       0       0   \n",
        "1       0       0       0       0       0       0       0       0       0   \n",
        "2       0       0       0       0       0       0       0       0       0   \n",
        "3       0       0       0       0       0       0       0       0       0   \n",
        "4       0       0       0       0       0       0       0       0       0   \n",
        "\n",
        "   pixel9   ...    pixel12800  pixel12801  pixel12802  pixel12803  pixel12804  \\\n",
        "0       0   ...             0           0           0           0           0   \n",
        "1       0   ...             0           0           0           0           0   \n",
        "2       0   ...             0           0           0           0           0   \n",
        "3       0   ...             0           0           0           0           0   \n",
        "4       0   ...             0           0           0           0           0   \n",
        "\n",
        "   pixel12805  pixel12806  pixel12807  pixel12808  pixel12809  \n",
        "0           0           0           0           0           0  \n",
        "1           0           0           0           0           0  \n",
        "2           0           0           0           0           0  \n",
        "3           0           0           0           0           0  \n",
        "4           0           0           0           0           0  \n",
        "\n",
        "[5 rows x 12810 columns]"
       ]
      }
     ],
     "prompt_number": 11
    },
    {
     "cell_type": "code",
     "collapsed": false,
     "input": [
      "orange1['label'] = yy_train"
     ],
     "language": "python",
     "metadata": {},
     "outputs": [],
     "prompt_number": 12
    },
    {
     "cell_type": "code",
     "collapsed": false,
     "input": [
      "orange1.head()\n",
      "# orange1.dtypes\n",
      "# orange1['label']"
     ],
     "language": "python",
     "metadata": {},
     "outputs": [
      {
       "html": [
        "<div style=\"max-height:1000px;max-width:1500px;overflow:auto;\">\n",
        "<table border=\"1\" class=\"dataframe\">\n",
        "  <thead>\n",
        "    <tr style=\"text-align: right;\">\n",
        "      <th></th>\n",
        "      <th>pixel0</th>\n",
        "      <th>pixel1</th>\n",
        "      <th>pixel2</th>\n",
        "      <th>pixel3</th>\n",
        "      <th>pixel4</th>\n",
        "      <th>pixel5</th>\n",
        "      <th>pixel6</th>\n",
        "      <th>pixel7</th>\n",
        "      <th>pixel8</th>\n",
        "      <th>pixel9</th>\n",
        "      <th>...</th>\n",
        "      <th>pixel12801</th>\n",
        "      <th>pixel12802</th>\n",
        "      <th>pixel12803</th>\n",
        "      <th>pixel12804</th>\n",
        "      <th>pixel12805</th>\n",
        "      <th>pixel12806</th>\n",
        "      <th>pixel12807</th>\n",
        "      <th>pixel12808</th>\n",
        "      <th>pixel12809</th>\n",
        "      <th>label</th>\n",
        "    </tr>\n",
        "  </thead>\n",
        "  <tbody>\n",
        "    <tr>\n",
        "      <th>0</th>\n",
        "      <td> 0</td>\n",
        "      <td> 0</td>\n",
        "      <td> 0</td>\n",
        "      <td> 0</td>\n",
        "      <td> 0</td>\n",
        "      <td> 0</td>\n",
        "      <td> 0</td>\n",
        "      <td> 0</td>\n",
        "      <td> 0</td>\n",
        "      <td> 0</td>\n",
        "      <td>...</td>\n",
        "      <td> 0</td>\n",
        "      <td> 0</td>\n",
        "      <td> 0</td>\n",
        "      <td> 0</td>\n",
        "      <td> 0</td>\n",
        "      <td> 0</td>\n",
        "      <td> 0</td>\n",
        "      <td> 0</td>\n",
        "      <td> 0</td>\n",
        "      <td> 21</td>\n",
        "    </tr>\n",
        "    <tr>\n",
        "      <th>1</th>\n",
        "      <td> 0</td>\n",
        "      <td> 0</td>\n",
        "      <td> 0</td>\n",
        "      <td> 0</td>\n",
        "      <td> 0</td>\n",
        "      <td> 0</td>\n",
        "      <td> 0</td>\n",
        "      <td> 0</td>\n",
        "      <td> 0</td>\n",
        "      <td> 0</td>\n",
        "      <td>...</td>\n",
        "      <td> 0</td>\n",
        "      <td> 0</td>\n",
        "      <td> 0</td>\n",
        "      <td> 0</td>\n",
        "      <td> 0</td>\n",
        "      <td> 0</td>\n",
        "      <td> 0</td>\n",
        "      <td> 0</td>\n",
        "      <td> 0</td>\n",
        "      <td> 30</td>\n",
        "    </tr>\n",
        "    <tr>\n",
        "      <th>2</th>\n",
        "      <td> 0</td>\n",
        "      <td> 0</td>\n",
        "      <td> 0</td>\n",
        "      <td> 0</td>\n",
        "      <td> 0</td>\n",
        "      <td> 0</td>\n",
        "      <td> 0</td>\n",
        "      <td> 0</td>\n",
        "      <td> 0</td>\n",
        "      <td> 0</td>\n",
        "      <td>...</td>\n",
        "      <td> 0</td>\n",
        "      <td> 0</td>\n",
        "      <td> 0</td>\n",
        "      <td> 0</td>\n",
        "      <td> 0</td>\n",
        "      <td> 0</td>\n",
        "      <td> 0</td>\n",
        "      <td> 0</td>\n",
        "      <td> 0</td>\n",
        "      <td> 17</td>\n",
        "    </tr>\n",
        "    <tr>\n",
        "      <th>3</th>\n",
        "      <td> 0</td>\n",
        "      <td> 0</td>\n",
        "      <td> 0</td>\n",
        "      <td> 0</td>\n",
        "      <td> 0</td>\n",
        "      <td> 0</td>\n",
        "      <td> 0</td>\n",
        "      <td> 0</td>\n",
        "      <td> 0</td>\n",
        "      <td> 0</td>\n",
        "      <td>...</td>\n",
        "      <td> 0</td>\n",
        "      <td> 0</td>\n",
        "      <td> 0</td>\n",
        "      <td> 0</td>\n",
        "      <td> 0</td>\n",
        "      <td> 0</td>\n",
        "      <td> 0</td>\n",
        "      <td> 0</td>\n",
        "      <td> 0</td>\n",
        "      <td>  4</td>\n",
        "    </tr>\n",
        "    <tr>\n",
        "      <th>4</th>\n",
        "      <td> 0</td>\n",
        "      <td> 0</td>\n",
        "      <td> 0</td>\n",
        "      <td> 0</td>\n",
        "      <td> 0</td>\n",
        "      <td> 0</td>\n",
        "      <td> 0</td>\n",
        "      <td> 0</td>\n",
        "      <td> 0</td>\n",
        "      <td> 0</td>\n",
        "      <td>...</td>\n",
        "      <td> 0</td>\n",
        "      <td> 0</td>\n",
        "      <td> 0</td>\n",
        "      <td> 0</td>\n",
        "      <td> 0</td>\n",
        "      <td> 0</td>\n",
        "      <td> 0</td>\n",
        "      <td> 0</td>\n",
        "      <td> 0</td>\n",
        "      <td>  3</td>\n",
        "    </tr>\n",
        "  </tbody>\n",
        "</table>\n",
        "<p>5 rows \u00d7 12811 columns</p>\n",
        "</div>"
       ],
       "metadata": {},
       "output_type": "pyout",
       "prompt_number": 13,
       "text": [
        "   pixel0  pixel1  pixel2  pixel3  pixel4  pixel5  pixel6  pixel7  pixel8  \\\n",
        "0       0       0       0       0       0       0       0       0       0   \n",
        "1       0       0       0       0       0       0       0       0       0   \n",
        "2       0       0       0       0       0       0       0       0       0   \n",
        "3       0       0       0       0       0       0       0       0       0   \n",
        "4       0       0       0       0       0       0       0       0       0   \n",
        "\n",
        "   pixel9   ...    pixel12801  pixel12802  pixel12803  pixel12804  pixel12805  \\\n",
        "0       0   ...             0           0           0           0           0   \n",
        "1       0   ...             0           0           0           0           0   \n",
        "2       0   ...             0           0           0           0           0   \n",
        "3       0   ...             0           0           0           0           0   \n",
        "4       0   ...             0           0           0           0           0   \n",
        "\n",
        "   pixel12806  pixel12807  pixel12808  pixel12809  label  \n",
        "0           0           0           0           0     21  \n",
        "1           0           0           0           0     30  \n",
        "2           0           0           0           0     17  \n",
        "3           0           0           0           0      4  \n",
        "4           0           0           0           0      3  \n",
        "\n",
        "[5 rows x 12811 columns]"
       ]
      }
     ],
     "prompt_number": 13
    },
    {
     "cell_type": "code",
     "collapsed": false,
     "input": [
      "orange1_table = tools.df_to_orange_table(orange1 , output_column='label')"
     ],
     "language": "python",
     "metadata": {},
     "outputs": [],
     "prompt_number": "*"
    },
    {
     "cell_type": "code",
     "collapsed": false,
     "input": [
      "orange1_table.save(\"./phase1/orange_tabel.tab\")"
     ],
     "language": "python",
     "metadata": {},
     "outputs": []
    },
    {
     "cell_type": "markdown",
     "metadata": {},
     "source": [
      "# data peaking"
     ]
    },
    {
     "cell_type": "code",
     "collapsed": false,
     "input": [
      "import matplotlib.pyplot as plt\n",
      "from matplotlib import pylab\n",
      "import matplotlib.cm as cm"
     ],
     "language": "python",
     "metadata": {},
     "outputs": [],
     "prompt_number": 4
    },
    {
     "cell_type": "code",
     "collapsed": false,
     "input": [
      "# plt.plot(X_train[0,:].todense())\n",
      "pylab.ion()\n",
      "pylab.imshow(xx_train[0,:].todense().reshape(122,105),cmap=cm.gray)\n",
      "# pylab.show()\n"
     ],
     "language": "python",
     "metadata": {},
     "outputs": [
      {
       "metadata": {},
       "output_type": "pyout",
       "prompt_number": 14,
       "text": [
        "<matplotlib.image.AxesImage at 0x7fa38e3909d0>"
       ]
      },
      {
       "metadata": {},
       "output_type": "display_data",
       "png": "[encoded data removed]",
       "text": [
        "<matplotlib.figure.Figure at 0x7fa3904ee6d0>"
       ]
      }
     ],
     "prompt_number": 14
    },
    {
     "cell_type": "code",
     "collapsed": false,
     "input": [
      "# copied from notebook 02_sklearn_data.ipynb\n",
      "fig = plt.figure(figsize=(10, 10))  # figure size in inches\n",
      "fig.subplots_adjust(left=0, right=1, bottom=0, top=1, hspace=0.05, wspace=0.05)\n",
      "\n",
      "# plot the digits: each image is 122x105 pixels\n",
      "for i in range(64):\n",
      "    ax = fig.add_subplot(10, 10, i + 1, xticks=[], yticks=[])\n",
      "    #     ax.imshow(X_train[i,:].todense().reshape(122,105), cmap=plt.cm.binary)\n",
      "    ax.imshow(xx_train[i,:].todense().reshape(122,105), cmap=cm.gray)\n",
      "    \n",
      "    # label the image with the target value\n",
      "    #  ax.text(0, 7, str(y_train[i]))"
     ],
     "language": "python",
     "metadata": {},
     "outputs": [
      {
       "ename": "NameError",
       "evalue": "name 'plt' is not defined",
       "output_type": "pyerr",
       "traceback": [
        "\u001b[0;31m---------------------------------------------------------------------------\u001b[0m\n\u001b[0;31mNameError\u001b[0m                                 Traceback (most recent call last)",
        "\u001b[0;32m<ipython-input-1-b6ec348174b0>\u001b[0m in \u001b[0;36m<module>\u001b[0;34m()\u001b[0m\n\u001b[1;32m      1\u001b[0m \u001b[0;31m# copied from notebook 02_sklearn_data.ipynb\u001b[0m\u001b[0;34m\u001b[0m\u001b[0;34m\u001b[0m\u001b[0m\n\u001b[0;32m----> 2\u001b[0;31m \u001b[0mfig\u001b[0m \u001b[0;34m=\u001b[0m \u001b[0mplt\u001b[0m\u001b[0;34m.\u001b[0m\u001b[0mfigure\u001b[0m\u001b[0;34m(\u001b[0m\u001b[0mfigsize\u001b[0m\u001b[0;34m=\u001b[0m\u001b[0;34m(\u001b[0m\u001b[0;36m10\u001b[0m\u001b[0;34m,\u001b[0m \u001b[0;36m10\u001b[0m\u001b[0;34m)\u001b[0m\u001b[0;34m)\u001b[0m  \u001b[0;31m# figure size in inches\u001b[0m\u001b[0;34m\u001b[0m\u001b[0m\n\u001b[0m\u001b[1;32m      3\u001b[0m \u001b[0mfig\u001b[0m\u001b[0;34m.\u001b[0m\u001b[0msubplots_adjust\u001b[0m\u001b[0;34m(\u001b[0m\u001b[0mleft\u001b[0m\u001b[0;34m=\u001b[0m\u001b[0;36m0\u001b[0m\u001b[0;34m,\u001b[0m \u001b[0mright\u001b[0m\u001b[0;34m=\u001b[0m\u001b[0;36m1\u001b[0m\u001b[0;34m,\u001b[0m \u001b[0mbottom\u001b[0m\u001b[0;34m=\u001b[0m\u001b[0;36m0\u001b[0m\u001b[0;34m,\u001b[0m \u001b[0mtop\u001b[0m\u001b[0;34m=\u001b[0m\u001b[0;36m1\u001b[0m\u001b[0;34m,\u001b[0m \u001b[0mhspace\u001b[0m\u001b[0;34m=\u001b[0m\u001b[0;36m0.05\u001b[0m\u001b[0;34m,\u001b[0m \u001b[0mwspace\u001b[0m\u001b[0;34m=\u001b[0m\u001b[0;36m0.05\u001b[0m\u001b[0;34m)\u001b[0m\u001b[0;34m\u001b[0m\u001b[0m\n\u001b[1;32m      4\u001b[0m \u001b[0;34m\u001b[0m\u001b[0m\n\u001b[1;32m      5\u001b[0m \u001b[0;31m# plot the digits: each image is 122x105 pixels\u001b[0m\u001b[0;34m\u001b[0m\u001b[0;34m\u001b[0m\u001b[0m\n",
        "\u001b[0;31mNameError\u001b[0m: name 'plt' is not defined"
       ]
      }
     ],
     "prompt_number": 1
    },
    {
     "cell_type": "markdown",
     "metadata": {},
     "source": [
      "# split data to train and test"
     ]
    },
    {
     "cell_type": "code",
     "collapsed": false,
     "input": [
      "from sklearn import cross_validation as cv\n",
      "from sklearn import svm\n",
      "from sklearn import metrics\n",
      "from sklearn import grid_search as gs"
     ],
     "language": "python",
     "metadata": {},
     "outputs": [],
     "prompt_number": 5
    },
    {
     "cell_type": "code",
     "collapsed": false,
     "input": [
      "X_train, X_test, y_train, y_test = cv.train_test_split(xx_train, yy_train, test_size=0.3)"
     ],
     "language": "python",
     "metadata": {},
     "outputs": [],
     "prompt_number": 6
    },
    {
     "cell_type": "code",
     "collapsed": false,
     "input": [
      "X_train"
     ],
     "language": "python",
     "metadata": {},
     "outputs": [
      {
       "metadata": {},
       "output_type": "pyout",
       "prompt_number": 7,
       "text": [
        "<10320x2500 sparse matrix of type '<type 'numpy.float64'>'\n",
        "\twith 5707832 stored elements in Compressed Sparse Row format>"
       ]
      }
     ],
     "prompt_number": 7
    },
    {
     "cell_type": "markdown",
     "metadata": {},
     "source": [
      "# SVM linear kernel try"
     ]
    },
    {
     "cell_type": "code",
     "collapsed": false,
     "input": [
      "c_range = 10.0 ** np.arange(6, 9)\n",
      "gamma_range = 10.0 ** np.arange(-2, 2)\n",
      "# params = [{'kernel': ['rbf'], 'gamma': gamma_range, 'C': c_range}]\n",
      "c_range = 10.0 ** np.arange(0,6)\n",
      "params = [{'kernel': ['linear'], 'C': c_range}]\n",
      "\n",
      "print('C     : %s' % c_range)\n",
      "print('gamma : %s' % gamma_range)\n",
      "print('kernel: %s' % ['rbf'])"
     ],
     "language": "python",
     "metadata": {},
     "outputs": [
      {
       "output_type": "stream",
       "stream": "stdout",
       "text": [
        "C     : [  1.00000000e+00   1.00000000e+01   1.00000000e+02   1.00000000e+03\n",
        "   1.00000000e+04   1.00000000e+05]\n",
        "gamma : [  0.01   0.1    1.    10.  ]\n",
        "kernel: ['rbf']\n"
       ]
      }
     ],
     "prompt_number": 6
    },
    {
     "cell_type": "code",
     "collapsed": false,
     "input": [
      "# K-Fold & GridSearchCV\n",
      "cvk = cv.StratifiedKFold(y_train, n_folds=5)\n",
      "svm_linear_1 = gs.GridSearchCV(svm.SVC(), params,scoring=callable, cv=cvk,n_jobs=2)"
     ],
     "language": "python",
     "metadata": {},
     "outputs": [],
     "prompt_number": 7
    },
    {
     "cell_type": "code",
     "collapsed": false,
     "input": [
      "# from sklearn.cross_validation import ShuffleSplit\n",
      "# cv = ShuffleSplit(3, test_fraction=0.2, train_fraction=0.2, random_state=0)\n",
      "# gs = GridSeachCV(clf, params_grid, cv=cv, n_jobs=-1, verbose=2)\n",
      "# gs.fit(X, y)"
     ],
     "language": "python",
     "metadata": {},
     "outputs": [],
     "prompt_number": 10
    },
    {
     "cell_type": "code",
     "collapsed": false,
     "input": [
      "# Fit the Model\n",
      "%time svm_linear_1.fit(X_train, y_train)"
     ],
     "language": "python",
     "metadata": {},
     "outputs": [
      {
       "output_type": "stream",
       "stream": "stdout",
       "text": [
        "CPU times: user 9min 38s, sys: 7.89 s, total: 9min 46s\n",
        "Wall time: 2h 24min 5s\n"
       ]
      },
      {
       "metadata": {},
       "output_type": "pyout",
       "prompt_number": 8,
       "text": [
        "GridSearchCV(cv=sklearn.cross_validation.StratifiedKFold(labels=[ 16.   7. ...,  12.  10.], n_folds=5, shuffle=False, random_state=None),\n",
        "       estimator=SVC(C=1.0, cache_size=200, class_weight=None, coef0=0.0, degree=3, gamma=0.0,\n",
        "  kernel='rbf', max_iter=-1, probability=False, random_state=None,\n",
        "  shrinking=True, tol=0.001, verbose=False),\n",
        "       fit_params={}, iid=True, loss_func=None, n_jobs=2,\n",
        "       param_grid=[{'kernel': ['linear'], 'C': array([  1.00000e+00,   1.00000e+01,   1.00000e+02,   1.00000e+03,\n",
        "         1.00000e+04,   1.00000e+05])}],\n",
        "       pre_dispatch='2*n_jobs', refit=True, score_func=None, scoring=None,\n",
        "       verbose=0)"
       ]
      }
     ],
     "prompt_number": 8
    },
    {
     "cell_type": "code",
     "collapsed": false,
     "input": [
      "# Accuracy Score\n",
      "print( metrics.accuracy_score(y_test, svm_linear_1.predict(X_test)) )"
     ],
     "language": "python",
     "metadata": {},
     "outputs": [
      {
       "output_type": "stream",
       "stream": "stdout",
       "text": [
        "0.208634719711\n"
       ]
      }
     ],
     "prompt_number": 9
    },
    {
     "cell_type": "code",
     "collapsed": false,
     "input": [
      "svm_linear_1.best_score_"
     ],
     "language": "python",
     "metadata": {},
     "outputs": [
      {
       "metadata": {},
       "output_type": "pyout",
       "prompt_number": 11,
       "text": [
        "0.19728682170542636"
       ]
      }
     ],
     "prompt_number": 11
    },
    {
     "cell_type": "code",
     "collapsed": false,
     "input": [
      "svm_linear_1.best_params_"
     ],
     "language": "python",
     "metadata": {},
     "outputs": [
      {
       "metadata": {},
       "output_type": "pyout",
       "prompt_number": 13,
       "text": [
        "{'C': 1.0, 'kernel': 'linear'}"
       ]
      }
     ],
     "prompt_number": 13
    },
    {
     "cell_type": "code",
     "collapsed": false,
     "input": [
      "svm_linear_1.best_estimator_"
     ],
     "language": "python",
     "metadata": {},
     "outputs": [
      {
       "metadata": {},
       "output_type": "pyout",
       "prompt_number": 15,
       "text": [
        "SVC(C=1.0, cache_size=200, class_weight=None, coef0=0.0, degree=3, gamma=0.0,\n",
        "  kernel='linear', max_iter=-1, probability=False, random_state=None,\n",
        "  shrinking=True, tol=0.001, verbose=False)"
       ]
      }
     ],
     "prompt_number": 15
    },
    {
     "cell_type": "code",
     "collapsed": false,
     "input": [
      "svm_linear_1.grid_scores_"
     ],
     "language": "python",
     "metadata": {},
     "outputs": [
      {
       "metadata": {},
       "output_type": "pyout",
       "prompt_number": 17,
       "text": [
        "[mean: 0.19729, std: 0.00613, params: {'kernel': 'linear', 'C': 1.0},\n",
        " mean: 0.18895, std: 0.00491, params: {'kernel': 'linear', 'C': 10.0},\n",
        " mean: 0.18217, std: 0.00258, params: {'kernel': 'linear', 'C': 100.0},\n",
        " mean: 0.18178, std: 0.00430, params: {'kernel': 'linear', 'C': 1000.0},\n",
        " mean: 0.18178, std: 0.00430, params: {'kernel': 'linear', 'C': 10000.0},\n",
        " mean: 0.18178, std: 0.00430, params: {'kernel': 'linear', 'C': 100000.0}]"
       ]
      }
     ],
     "prompt_number": 17
    },
    {
     "cell_type": "code",
     "collapsed": false,
     "input": [
      "c_range = 10.0 ** np.arange(6, 9)\n",
      "gamma_range = 10.0 ** np.arange(-2, 2)\n",
      "# params = [{'kernel': ['rbf'], 'gamma': gamma_range, 'C': c_range}]\n",
      "c_range = 10.0 ** np.arange(-4,0)\n",
      "params = [{'kernel': ['linear'], 'C': c_range}]\n",
      "\n",
      "print('C     : %s' % c_range)\n",
      "print('gamma : %s' % gamma_range)\n",
      "print('kernel: %s' % ['rbf'])"
     ],
     "language": "python",
     "metadata": {},
     "outputs": [
      {
       "output_type": "stream",
       "stream": "stdout",
       "text": [
        "C     : [ 0.0001  0.001   0.01    0.1   ]\n",
        "gamma : [  0.01   0.1    1.    10.  ]\n",
        "kernel: ['rbf']\n"
       ]
      }
     ],
     "prompt_number": 12
    },
    {
     "cell_type": "code",
     "collapsed": false,
     "input": [
      "from sklearn import grid_search as gs\n",
      "\n",
      "# K-Fold & GridSearchCV\n",
      "cvk = cv.StratifiedKFold(y_train, n_folds=5)\n",
      "# clf = gs.GridSearchCV(svm.SVC(), params,scoring=callable, cv=cvk,n_jobs=3)\n",
      "svm_linear_2 = gs.GridSearchCV(svm.SVC(), params, cv=cvk,n_jobs=3)"
     ],
     "language": "python",
     "metadata": {},
     "outputs": [],
     "prompt_number": 13
    },
    {
     "cell_type": "code",
     "collapsed": false,
     "input": [
      "# Fit the Model\n",
      "%time svm_linear_2.fit(X_train, y_train)"
     ],
     "language": "python",
     "metadata": {},
     "outputs": [
      {
       "output_type": "stream",
       "stream": "stdout",
       "text": [
        "CPU times: user 8min 51s, sys: 5.58 s, total: 8min 56s\n",
        "Wall time: 1h 19min 38s\n"
       ]
      },
      {
       "metadata": {},
       "output_type": "pyout",
       "prompt_number": 14,
       "text": [
        "GridSearchCV(cv=sklearn.cross_validation.StratifiedKFold(labels=[ 10.  15. ...,  19.   1.], n_folds=5, shuffle=False, random_state=None),\n",
        "       estimator=SVC(C=1.0, cache_size=200, class_weight=None, coef0=0.0, degree=3, gamma=0.0,\n",
        "  kernel='rbf', max_iter=-1, probability=False, random_state=None,\n",
        "  shrinking=True, tol=0.001, verbose=False),\n",
        "       fit_params={}, iid=True, loss_func=None, n_jobs=3,\n",
        "       param_grid=[{'kernel': ['linear'], 'C': array([ 0.0001,  0.001 ,  0.01  ,  0.1   ])}],\n",
        "       pre_dispatch='2*n_jobs', refit=True, score_func=None, scoring=None,\n",
        "       verbose=0)"
       ]
      }
     ],
     "prompt_number": 14
    },
    {
     "cell_type": "code",
     "collapsed": false,
     "input": [
      "# Accuracy Score\n",
      "print( metrics.accuracy_score(y_test, svm_linear_2.predict(X_test)) )"
     ],
     "language": "python",
     "metadata": {},
     "outputs": [
      {
       "output_type": "stream",
       "stream": "stdout",
       "text": [
        "0.237567811935\n"
       ]
      }
     ],
     "prompt_number": 15
    },
    {
     "cell_type": "code",
     "collapsed": false,
     "input": [
      "print svm_linear_2.best_score_\n",
      "print svm_linear_2.best_params_\n",
      "print svm_linear_2.best_estimator_"
     ],
     "language": "python",
     "metadata": {},
     "outputs": [
      {
       "output_type": "stream",
       "stream": "stdout",
       "text": [
        "0.241279069767\n",
        "{'kernel': 'linear', 'C': 0.01}\n",
        "SVC(C=0.01, cache_size=200, class_weight=None, coef0=0.0, degree=3, gamma=0.0,\n",
        "  kernel='linear', max_iter=-1, probability=False, random_state=None,\n",
        "  shrinking=True, tol=0.001, verbose=False)\n"
       ]
      }
     ],
     "prompt_number": 17
    },
    {
     "cell_type": "code",
     "collapsed": false,
     "input": [
      "svm_linear_2.grid_scores_"
     ],
     "language": "python",
     "metadata": {},
     "outputs": [
      {
       "metadata": {},
       "output_type": "pyout",
       "prompt_number": 19,
       "text": [
        "[mean: 0.03702, std: 0.00061, params: {'kernel': 'linear', 'C': 0.0001},\n",
        " mean: 0.20281, std: 0.00653, params: {'kernel': 'linear', 'C': 0.001},\n",
        " mean: 0.24128, std: 0.01026, params: {'kernel': 'linear', 'C': 0.01},\n",
        " mean: 0.22054, std: 0.00808, params: {'kernel': 'linear', 'C': 0.10000000000000001}]"
       ]
      }
     ],
     "prompt_number": 19
    },
    {
     "cell_type": "markdown",
     "metadata": {},
     "source": [
      "# Dimension reduction try"
     ]
    },
    {
     "cell_type": "code",
     "collapsed": false,
     "input": [
      "from sklearn.decomposition import RandomizedPCA\n",
      "pca = RandomizedPCA(n_components=2)\n",
      "%time proj = pca.fit_transform(xx_train.todense())"
     ],
     "language": "python",
     "metadata": {},
     "outputs": [
      {
       "output_type": "stream",
       "stream": "stdout",
       "text": [
        "CPU times: user 1min 50s, sys: 2.45 s, total: 1min 53s\n"
       ]
      },
      {
       "output_type": "stream",
       "stream": "stdout",
       "text": [
        "Wall time: 2min 27s\n"
       ]
      }
     ],
     "prompt_number": 8
    },
    {
     "cell_type": "code",
     "collapsed": false,
     "input": [
      "plt.scatter(proj[:, 0], proj[:, 1], c=yy_train)\n",
      "plt.colorbar()"
     ],
     "language": "python",
     "metadata": {},
     "outputs": [
      {
       "metadata": {},
       "output_type": "pyout",
       "prompt_number": 9,
       "text": [
        "<matplotlib.colorbar.Colorbar instance at 0x7fdd31c14d88>"
       ]
      },
      {
       "metadata": {},
       "output_type": "display_data",
       "png": "[encoded data removed]",
       "text": [
        "<matplotlib.figure.Figure at 0x7fdd31d80c50>"
       ]
      }
     ],
     "prompt_number": 9
    },
    {
     "cell_type": "code",
     "collapsed": false,
     "input": [
      "from sklearn.decomposition import TruncatedSVD\n",
      "svd = TruncatedSVD(n_components=2)\n",
      "proj = svd.fit_transform(xx_train) "
     ],
     "language": "python",
     "metadata": {},
     "outputs": [],
     "prompt_number": 7
    },
    {
     "cell_type": "code",
     "collapsed": false,
     "input": [
      "plt.scatter(proj[:, 0], proj[:, 1], c=yy_train)\n",
      "plt.colorbar()"
     ],
     "language": "python",
     "metadata": {},
     "outputs": [
      {
       "metadata": {},
       "output_type": "pyout",
       "prompt_number": 8,
       "text": [
        "<matplotlib.colorbar.Colorbar instance at 0x7fbfe68b6488>"
       ]
      },
      {
       "metadata": {},
       "output_type": "display_data",
       "png": "[encoded data removed]",
       "text": [
        "<matplotlib.figure.Figure at 0x7fbfe69d0c10>"
       ]
      }
     ],
     "prompt_number": 8
    },
    {
     "cell_type": "code",
     "collapsed": false,
     "input": [
      "print(svd.explained_variance_ratio_) "
     ],
     "language": "python",
     "metadata": {},
     "outputs": [
      {
       "output_type": "stream",
       "stream": "stdout",
       "text": [
        "[ 0.03301965  0.02866646  0.01575303  0.01441324  0.01239169  0.0098747\n",
        "  0.0072206   0.00693889  0.00636758  0.00550479  0.00532335  0.00518476\n",
        "  0.00496986  0.00495633  0.00493269  0.00471034  0.00456898  0.0045059\n",
        "  0.00437449  0.00422622  0.00414328  0.00400708  0.00387624  0.00379335\n",
        "  0.00366605  0.00356889  0.00351105  0.00342317  0.00332201  0.00330571\n",
        "  0.00318353  0.00307534]\n"
       ]
      }
     ],
     "prompt_number": 21
    },
    {
     "cell_type": "code",
     "collapsed": false,
     "input": [
      "from sklearn.manifold import Isomap\n",
      "iso = Isomap(n_neighbors=5, n_components=2)\n",
      "%time proj = iso.fit_transform(xx_train.todense())"
     ],
     "language": "python",
     "metadata": {},
     "outputs": [],
     "prompt_number": "*"
    },
    {
     "cell_type": "code",
     "collapsed": false,
     "input": [
      "plt.scatter(proj[:, 0], proj[:, 1], c=xx_test)\n",
      "plt.colorbar()"
     ],
     "language": "python",
     "metadata": {},
     "outputs": []
    },
    {
     "cell_type": "code",
     "collapsed": false,
     "input": [
      "# from sklearn.manifold import locally_linear_embedding\n",
      "# %time lle = locally_linear_embedding(xx_train,n_neighbors=5, n_components=2) "
     ],
     "language": "python",
     "metadata": {},
     "outputs": [],
     "prompt_number": 64
    },
    {
     "cell_type": "code",
     "collapsed": false,
     "input": [
      "# plt.scatter(lle[:, 0], lle[:, 1], c=xx_test)\n",
      "# plt.colorbar()"
     ],
     "language": "python",
     "metadata": {},
     "outputs": [],
     "prompt_number": 65
    },
    {
     "cell_type": "markdown",
     "metadata": {},
     "source": [
      "# SVM RBF kernel try"
     ]
    },
    {
     "cell_type": "code",
     "collapsed": false,
     "input": [
      "c_range = 10.0 ** np.arange(-2,3)\n",
      "gamma_range = 10.0 ** np.arange(-2, 2)\n",
      "params = [{'kernel': ['rbf'], 'gamma': gamma_range, 'C': c_range}]\n",
      "\n",
      "print('C     : %s' % c_range)\n",
      "print('gamma : %s' % gamma_range)\n",
      "print('kernel: %s' % ['rbf'])"
     ],
     "language": "python",
     "metadata": {},
     "outputs": [
      {
       "output_type": "stream",
       "stream": "stdout",
       "text": [
        "C     : [  1.00000000e-02   1.00000000e-01   1.00000000e+00   1.00000000e+01\n",
        "   1.00000000e+02]\n",
        "gamma : [  0.01   0.1    1.    10.  ]\n",
        "kernel: ['rbf']\n"
       ]
      }
     ],
     "prompt_number": 11
    },
    {
     "cell_type": "code",
     "collapsed": false,
     "input": [
      "# K-Fold & GridSearchCV\n",
      "cvk = cv.StratifiedKFold(y_train, n_folds=5)\n",
      "# clf = gs.GridSearchCV(svm.SVC(), params,scoring=callable, cv=cvk,n_jobs=3)\n",
      "clf = gs.GridSearchCV(svm.SVC(), params, cv=cvk,n_jobs=-1)"
     ],
     "language": "python",
     "metadata": {},
     "outputs": [],
     "prompt_number": 12
    },
    {
     "cell_type": "code",
     "collapsed": false,
     "input": [
      "# Fit the Model\n",
      "%time clf.fit(X_train, y_train)"
     ],
     "language": "python",
     "metadata": {},
     "outputs": [
      {
       "output_type": "stream",
       "stream": "stdout",
       "text": [
        "CPU times: user 13min 23s, sys: 24.6 s, total: 13min 48s\n",
        "Wall time: 6h 20min 16s\n"
       ]
      },
      {
       "metadata": {},
       "output_type": "pyout",
       "prompt_number": 13,
       "text": [
        "GridSearchCV(cv=sklearn.cross_validation.StratifiedKFold(labels=[  4.  13. ...,  23.  17.], n_folds=5, shuffle=False, random_state=None),\n",
        "       estimator=SVC(C=1.0, cache_size=200, class_weight=None, coef0=0.0, degree=3, gamma=0.0,\n",
        "  kernel='rbf', max_iter=-1, probability=False, random_state=None,\n",
        "  shrinking=True, tol=0.001, verbose=False),\n",
        "       fit_params={}, iid=True, loss_func=None, n_jobs=-1,\n",
        "       param_grid=[{'kernel': ['rbf'], 'C': array([  1.00000e-02,   1.00000e-01,   1.00000e+00,   1.00000e+01,\n",
        "         1.00000e+02]), 'gamma': array([  0.01,   0.1 ,   1.  ,  10.  ])}],\n",
        "       pre_dispatch='2*n_jobs', refit=True, score_func=None, scoring=None,\n",
        "       verbose=0)"
       ]
      }
     ],
     "prompt_number": 13
    },
    {
     "cell_type": "code",
     "collapsed": false,
     "input": [
      "clf.grid_scores_"
     ],
     "language": "python",
     "metadata": {},
     "outputs": [
      {
       "metadata": {},
       "output_type": "pyout",
       "prompt_number": 14,
       "text": [
        "[mean: 0.03682, std: 0.00031, params: {'kernel': 'rbf', 'C': 0.01, 'gamma': 0.01},\n",
        " mean: 0.03692, std: 0.00014, params: {'kernel': 'rbf', 'C': 0.01, 'gamma': 0.10000000000000001},\n",
        " mean: 0.03692, std: 0.00014, params: {'kernel': 'rbf', 'C': 0.01, 'gamma': 1.0},\n",
        " mean: 0.03692, std: 0.00014, params: {'kernel': 'rbf', 'C': 0.01, 'gamma': 10.0},\n",
        " mean: 0.06076, std: 0.00340, params: {'kernel': 'rbf', 'C': 0.10000000000000001, 'gamma': 0.01},\n",
        " mean: 0.03769, std: 0.00054, params: {'kernel': 'rbf', 'C': 0.10000000000000001, 'gamma': 0.10000000000000001},\n",
        " mean: 0.03692, std: 0.00014, params: {'kernel': 'rbf', 'C': 0.10000000000000001, 'gamma': 1.0},\n",
        " mean: 0.03692, std: 0.00014, params: {'kernel': 'rbf', 'C': 0.10000000000000001, 'gamma': 10.0},\n",
        " mean: 0.21037, std: 0.00569, params: {'kernel': 'rbf', 'C': 1.0, 'gamma': 0.01},\n",
        " mean: 0.04273, std: 0.00218, params: {'kernel': 'rbf', 'C': 1.0, 'gamma': 0.10000000000000001},\n",
        " mean: 0.03779, std: 0.00048, params: {'kernel': 'rbf', 'C': 1.0, 'gamma': 1.0},\n",
        " mean: 0.03740, std: 0.00030, params: {'kernel': 'rbf', 'C': 1.0, 'gamma': 10.0},\n",
        " mean: 0.23033, std: 0.00451, params: {'kernel': 'rbf', 'C': 10.0, 'gamma': 0.01},\n",
        " mean: 0.04351, std: 0.00077, params: {'kernel': 'rbf', 'C': 10.0, 'gamma': 0.10000000000000001},\n",
        " mean: 0.03779, std: 0.00066, params: {'kernel': 'rbf', 'C': 10.0, 'gamma': 1.0},\n",
        " mean: 0.03740, std: 0.00030, params: {'kernel': 'rbf', 'C': 10.0, 'gamma': 10.0},\n",
        " mean: 0.21541, std: 0.00339, params: {'kernel': 'rbf', 'C': 100.0, 'gamma': 0.01},\n",
        " mean: 0.04273, std: 0.00119, params: {'kernel': 'rbf', 'C': 100.0, 'gamma': 0.10000000000000001},\n",
        " mean: 0.03779, std: 0.00066, params: {'kernel': 'rbf', 'C': 100.0, 'gamma': 1.0},\n",
        " mean: 0.03740, std: 0.00030, params: {'kernel': 'rbf', 'C': 100.0, 'gamma': 10.0}]"
       ]
      }
     ],
     "prompt_number": 14
    },
    {
     "cell_type": "code",
     "collapsed": false,
     "input": [
      "# Accuracy Score\n",
      "%time print( metrics.accuracy_score(y_test, clf.predict(X_test)) )"
     ],
     "language": "python",
     "metadata": {},
     "outputs": [
      {
       "output_type": "stream",
       "stream": "stdout",
       "text": [
        "0.239602169982\n",
        "CPU times: user 3min 2s, sys: 0 ns, total: 3min 2s\n",
        "Wall time: 3min 2s\n"
       ]
      }
     ],
     "prompt_number": 15
    },
    {
     "cell_type": "code",
     "collapsed": false,
     "input": [
      "predict = clf.predict(X_test)"
     ],
     "language": "python",
     "metadata": {},
     "outputs": [],
     "prompt_number": 16
    },
    {
     "cell_type": "code",
     "collapsed": false,
     "input": [
      "print metrics.classification_report(y_test, predict)"
     ],
     "language": "python",
     "metadata": {},
     "outputs": [
      {
       "output_type": "stream",
       "stream": "stdout",
       "text": [
        "             precision    recall  f1-score   support\n",
        "\n",
        "        0.0       0.14      0.28      0.19       144\n",
        "        1.0       0.29      0.27      0.28       159\n",
        "        2.0       0.28      0.29      0.29       146\n",
        "        3.0       0.23      0.14      0.18       155\n",
        "        4.0       0.16      0.20      0.18       131\n",
        "        5.0       0.25      0.36      0.29       145\n",
        "        6.0       0.26      0.15      0.19       157\n",
        "        7.0       0.30      0.35      0.32       152\n",
        "        8.0       0.16      0.14      0.15       145\n",
        "        9.0       0.18      0.34      0.24       154\n",
        "       10.0       0.19      0.15      0.17       165\n",
        "       11.0       0.13      0.16      0.14       153\n",
        "       12.0       0.29      0.69      0.41       136\n",
        "       13.0       0.29      0.25      0.27       135\n",
        "       14.0       0.36      0.27      0.31       126\n",
        "       15.0       0.41      0.09      0.14       126\n",
        "       16.0       0.21      0.15      0.17       130\n",
        "       17.0       0.28      0.17      0.21       129\n",
        "       18.0       0.37      0.18      0.24       127\n",
        "       19.0       0.57      0.45      0.50       129\n",
        "       20.0       0.32      0.15      0.21       142\n",
        "       21.0       0.34      0.24      0.28       133\n",
        "       22.0       0.27      0.23      0.25       138\n",
        "       23.0       0.17      0.43      0.25       115\n",
        "       24.0       0.22      0.20      0.21       125\n",
        "       25.0       0.56      0.26      0.36       126\n",
        "       26.0       0.34      0.07      0.12       136\n",
        "       27.0       0.42      0.16      0.23       129\n",
        "       28.0       0.34      0.12      0.18       137\n",
        "       29.0       0.15      0.73      0.25       119\n",
        "       30.0       0.35      0.10      0.16       125\n",
        "       31.0       0.14      0.01      0.01       155\n",
        "\n",
        "avg / total       0.28      0.24      0.23      4424\n",
        "\n"
       ]
      }
     ],
     "prompt_number": 17
    },
    {
     "cell_type": "code",
     "collapsed": true,
     "input": [
      "set_printoptions(threshold=nan) # show all the array\n",
      "print metrics.confusion_matrix(y_test, predict)"
     ],
     "language": "python",
     "metadata": {},
     "outputs": [
      {
       "output_type": "stream",
       "stream": "stdout",
       "text": [
        "[[ 9  2  8  2  6 10  2  3 11  6  3  7 13  3  4  0  3  5  0  4  2  5  2 15\n",
        "   4  1  3  1  0 20  3  0]\n",
        " [11  7  3  1 11 10  3  8  7 10  7  4  7  3  2  1  4  3  2  5  1  4  5  9\n",
        "   3  1  2  1  2 15  2  0]\n",
        " [ 6  3  2  2  6  7  4 10  3  9  3  7 11  1  2  2  6  1  5  2  4  1  3  7\n",
        "   5  1  2  2  2 24  0  1]\n",
        " [ 9  6  6  1  8  8  7  7  5 11  2  6 12  0  2  1  3  2  2  4  1  3  5 10\n",
        "   5  4  0  3  1 20  0  1]\n",
        " [15  3  2  3  2  6  4  7  7  5  4  8 19  6  0  0  1  2  2  5  1  1  3 10\n",
        "   7  2  3  1  2 16  0  0]\n",
        " [10  6  8  2 11  9  1 10  6 11  1  3 10  2  6  0  3  5  1  4  1  0  7 10\n",
        "   0  1  0  0  3 17  2  0]\n",
        " [ 8  4  7  6  3  4  3  7  2 14  6  5 10  9  1  2  7  1  3  3  3  7  9 16\n",
        "   4  2  3  1  3 21  1  0]\n",
        " [ 8  6  3  4  6  7  2  9  5 11  3  5 11  7  8  1  2  2  5  2  4  4  6 13\n",
        "   2  2  0  4  3 20  1  0]\n",
        " [15  2  7  4  2  8  3  3  2 10  8  8  9  4  4  1  3  0  1  3  3  4  3  6\n",
        "   6  2  0  2  0 18  2  0]\n",
        " [ 9  6 10  3  8  8  1 11  4 14  5 10 11  3  2  1  6  4  2  3  4  3  7 11\n",
        "   5  2  1  0  1 17  2  0]\n",
        " [13  5  8  4  6  5  1  3  5  9  6  7  6  6  4  0  2  6  1  4  2  5  3  9\n",
        "   2  1  0  2  1 21  0  0]\n",
        " [ 8  9  3  2  3 12  3 13  3  9  8  7 11  3  2  0  2  1  1  3  2  4  3 10\n",
        "   7  2  1  2  1 16  2  0]\n",
        " [ 6  1  5  4  9  6  0  4  5  6  6  8  7  2  3  0  0  3  2  4  0  2  4  8\n",
        "   4  2  0  0  1 23  0  1]\n",
        " [10  8  7  3  3  2  3  4  3  3  2  4  6  2  4  0  2  1  2  4  2  1  0  3\n",
        "   5  2  2  1  3 19  2  0]\n",
        " [10  7  7  2  5  5  3  7  3 10  1  4  4  4  4  0  2  5  0  3  3  6  3 10\n",
        "   1  2  1  3  2 14  1  0]\n",
        " [12  4  2  0  3 10  6  2  1 10  3  8 16  4  7  2  2  4  0  0  1  3  1  7\n",
        "   8  3  2  3  0 12  0  0]\n",
        " [10  4  5  4  6  5  3  4  6  5  5  6  6  3  4  2  4  2  0  5  2  1  3 15\n",
        "   5  3  1  2  0 18  0  0]\n",
        " [ 8  4  3  2  7  5  1  6  3  8  4  6 14  5  4  1  2  1  2  5  3  5  2  9\n",
        "   2  1  0  1  2 19  1  0]\n",
        " [ 8  9  4  4  3  4  4  5  2  5  5  9  9  2  2  0  4  3  1  1  0  2  4  7\n",
        "   2  1  1  0  1 13  0  0]\n",
        " [ 7  3  2  2  5  5  2  4  1 11  7  1  9  1  2  0  3  2  5  1  0  0  4  7\n",
        "   3  3  1  0  2 23  0  1]\n",
        " [ 8  5  3  1  5  8  4  6  4 12  2  5  8  1  4  2  3  1  1  3  6  3  4  9\n",
        "   5  3  1  1  1 14  3  0]\n",
        " [ 9  2  3  3  4 10  4  6  3 10  5  6 14  4  4  0  1  2  0  3  0  3  6  7\n",
        "   1  2  0  2  0 22  0  0]\n",
        " [ 8  3  3  6  1  7  4  3  7 10  4  9  7  4  1  0  5  4  5  2  2  4  3 10\n",
        "   2  1  2  1  3 21  1  1]\n",
        " [12  5  2  3  2  6  1  4  4  8  0  4 12  6  5  1  4  2  5  7  2  5  3 11\n",
        "   2  3  0  0  2 22  2  0]\n",
        " [ 5  3  8  4  2  5  1  4  5  9  3  5  6  8  1  2  0  5  4  3  2  0  1  8\n",
        "   3  1  0  1  1 12  0  0]\n",
        " [ 8  2  5  1 10  2  2  4  5  7  5  6  6  2  1  2  3  1  1  4  2  1  2  7\n",
        "   4  1  0  2  5 23  1  0]\n",
        " [ 7  5  9  3  2  4  5  1  5 13  1  6 10  2  0  0  4  2  2  4  1  3  3  8\n",
        "   3  2  0  3  2 16  1  0]\n",
        " [11  4  3  6  4 12  4  3  2  7  1  5 12  2  3  2  2  3  1  1  3  3  2  6\n",
        "   4  0  0  1  2 14  1  0]\n",
        " [ 5  9  2  3  6  6  3  3  4  7  4  5  9  5  2  1  4  1  2  3  5  3  4 11\n",
        "   3  1  0  5  0 12  2  1]\n",
        " [ 4  2  8  1  7  5  3  3  7  9  6  5 10  8  1  1  2  4  2  2  1  0  5 10\n",
        "   4  2  1  1  1 18  2  0]\n",
        " [ 6  5  4  3  6  5  0  7  2  7  1  2 15  3  1  1  2  1  0  3  3  5  2 10\n",
        "   2  4  1  1  0 12  2  1]\n",
        " [ 3  3  2  5  3  5  3  6  2  6  4  3 12  2  4  1  1  1  2  2  3  4  6  2\n",
        "   3  1  1  1  3 16  3  0]]\n"
       ]
      }
     ],
     "prompt_number": 62
    },
    {
     "cell_type": "markdown",
     "metadata": {},
     "source": [
      "# pass result to real test file"
     ]
    },
    {
     "cell_type": "code",
     "collapsed": false,
     "input": [
      "xx_test, yy_test = load_svmlight_file(\"./phase1/ml14fall_test1_no_answer.dat\")"
     ],
     "language": "python",
     "metadata": {},
     "outputs": [],
     "prompt_number": 24
    },
    {
     "cell_type": "code",
     "collapsed": false,
     "input": [
      "xx_test"
     ],
     "language": "python",
     "metadata": {},
     "outputs": [
      {
       "metadata": {},
       "output_type": "pyout",
       "prompt_number": 25,
       "text": [
        "<7372x12810 sparse matrix of type '<type 'numpy.float64'>'\n",
        "\twith 3921022 stored elements in Compressed Sparse Row format>"
       ]
      }
     ],
     "prompt_number": 25
    },
    {
     "cell_type": "code",
     "collapsed": false,
     "input": [
      "result = clf.predict(xx_test)"
     ],
     "language": "python",
     "metadata": {},
     "outputs": [],
     "prompt_number": 26
    },
    {
     "cell_type": "code",
     "collapsed": false,
     "input": [
      "result.astype(int)"
     ],
     "language": "python",
     "metadata": {},
     "outputs": [
      {
       "metadata": {},
       "output_type": "pyout",
       "prompt_number": 39,
       "text": [
        "array([ 6, 29, 30, ..., 20, 29,  7])"
       ]
      }
     ],
     "prompt_number": 39
    },
    {
     "cell_type": "code",
     "collapsed": false,
     "input": [
      "import pandas as pd\n"
     ],
     "language": "python",
     "metadata": {},
     "outputs": [],
     "prompt_number": 31
    },
    {
     "cell_type": "code",
     "collapsed": false,
     "input": [
      "df_submission = pd.DataFrame( result.astype(int) ,columns=None)\n",
      "# df_submission"
     ],
     "language": "python",
     "metadata": {},
     "outputs": [],
     "prompt_number": 46
    },
    {
     "cell_type": "code",
     "collapsed": false,
     "input": [
      "# df_submission\n",
      "df_submission.to_csv('./submission1.dat', index=None)"
     ],
     "language": "python",
     "metadata": {},
     "outputs": [],
     "prompt_number": 43
    },
    {
     "cell_type": "code",
     "collapsed": false,
     "input": [
      "# np.savetxt(\"./submission.dat\", result.astype(int), delimiter=\",\")\n",
      "# import csv\n",
      "\n",
      "# with open(\"./submit.dat\", \"wb\") as f:\n",
      "#     writer = csv.writer(f)\n",
      "#     writer.writerows(result.astype(int))"
     ],
     "language": "python",
     "metadata": {},
     "outputs": [],
     "prompt_number": 50
    },
    {
     "cell_type": "markdown",
     "metadata": {},
     "source": [
      "# shogun try"
     ]
    },
    {
     "cell_type": "markdown",
     "metadata": {},
     "source": [
      "## LIBLINEAR try"
     ]
    },
    {
     "cell_type": "code",
     "collapsed": false,
     "input": [
      "# append path\n",
      "# import sys \n",
      "# import os\n",
      "# sys.path.append(os.path.abspath(\"/usr/local/lib/python2.7/dist-packages/\"))\n",
      "\n",
      "from modshogun import *\n",
      "# import os\n",
      "# print os.environ[\"PYTHONPATH\"]"
     ],
     "language": "python",
     "metadata": {},
     "outputs": [],
     "prompt_number": 12
    },
    {
     "cell_type": "code",
     "collapsed": false,
     "input": [
      "feats_train = RealFeatures( X_train.todense() )\n",
      "lab_train = MulticlassLabels( y_train )\n",
      "\n",
      "feats_test = RealFeatures( X_test.todense() )\n",
      "lab_test = MulticlassLabels( y_test )"
     ],
     "language": "python",
     "metadata": {},
     "outputs": [],
     "prompt_number": 18
    },
    {
     "cell_type": "code",
     "collapsed": false,
     "input": [
      "#prameters to svm\n",
      "#parameter C is described in a later section.\n",
      "# C=0.01\n",
      "# epsilon=1e-3\n",
      "\n",
      "# svm=LibLinear(C, feats_train, labels)\n",
      "# svm.set_liblinear_solver_type(L2R_L2LOSS_SVC)\n",
      "# svm.set_epsilon(epsilon)\n",
      "#train\n",
      "# svm.train()\n",
      "\n",
      "#without normalization\n",
      "gaussian_kernel=GaussianKernel()\n",
      "gaussian_kernel.init(feats_train, feats_train)\n",
      "gaussian_kernel.set_width(0.01)\n",
      "\n",
      "# C=10\n",
      "# svm=LibSVM(C, gaussian_kernel, lab_train)\n",
      "# _=svm.train()\n",
      "# output=svm.apply(feats_test)\n",
      "\n",
      "# Err=ErrorRateMeasure()\n",
      "# error=Err.evaluate(output, lab_test)\n",
      "# print 'Error:', error\n",
      "\n",
      "# gaussian_kernel=GaussianKernel(feats_train, feats_train, 2)\n",
      "# poly_kernel=PolyKernel(feats_train, feats_train, 4, True)\n",
      "# linear_kernel=LinearKernel(feats_train, feats_train)\n",
      "\n",
      "svm = GMNPSVM(10, gaussian_kernel, lab_train)\n",
      "_=svm.train(feats_train)\n",
      "\n",
      "output=svm.apply(feats_test)\n",
      "\n",
      "Err=ErrorRateMeasure()\n",
      "error=Err.evaluate(output, lab_test)\n",
      "print 'Error:', error"
     ],
     "language": "python",
     "metadata": {},
     "outputs": [
      {
       "ename": "NameError",
       "evalue": "name 'feats_train' is not defined",
       "output_type": "pyerr",
       "traceback": [
        "\u001b[0;31m---------------------------------------------------------------------------\u001b[0m\n\u001b[0;31mNameError\u001b[0m                                 Traceback (most recent call last)",
        "\u001b[0;32m<ipython-input-9-3dc180cbcbd3>\u001b[0m in \u001b[0;36m<module>\u001b[0;34m()\u001b[0m\n\u001b[1;32m     12\u001b[0m \u001b[0;31m#without normalization\u001b[0m\u001b[0;34m\u001b[0m\u001b[0;34m\u001b[0m\u001b[0m\n\u001b[1;32m     13\u001b[0m \u001b[0mgaussian_kernel\u001b[0m\u001b[0;34m=\u001b[0m\u001b[0mGaussianKernel\u001b[0m\u001b[0;34m(\u001b[0m\u001b[0;34m)\u001b[0m\u001b[0;34m\u001b[0m\u001b[0m\n\u001b[0;32m---> 14\u001b[0;31m \u001b[0mgaussian_kernel\u001b[0m\u001b[0;34m.\u001b[0m\u001b[0minit\u001b[0m\u001b[0;34m(\u001b[0m\u001b[0mfeats_train\u001b[0m\u001b[0;34m,\u001b[0m \u001b[0mfeats_train\u001b[0m\u001b[0;34m)\u001b[0m\u001b[0;34m\u001b[0m\u001b[0m\n\u001b[0m\u001b[1;32m     15\u001b[0m \u001b[0mgaussian_kernel\u001b[0m\u001b[0;34m.\u001b[0m\u001b[0mset_width\u001b[0m\u001b[0;34m(\u001b[0m\u001b[0;36m0.01\u001b[0m\u001b[0;34m)\u001b[0m\u001b[0;34m\u001b[0m\u001b[0m\n\u001b[1;32m     16\u001b[0m \u001b[0;34m\u001b[0m\u001b[0m\n",
        "\u001b[0;31mNameError\u001b[0m: name 'feats_train' is not defined"
       ]
      }
     ],
     "prompt_number": 9
    },
    {
     "cell_type": "markdown",
     "metadata": {},
     "source": [
      "## DBNs in SHOGUN"
     ]
    },
    {
     "cell_type": "code",
     "collapsed": false,
     "input": [
      "from modshogun import DeepBeliefNetwork\n",
      "\n",
      "dbn = DeepBeliefNetwork(2500) # 12810 visible units\n",
      "dbn.add_hidden_layer(500) # 200 units in the first hidden layer\n",
      "dbn.add_hidden_layer(600) # 300 units in the second hidden layer\n",
      "\n",
      "dbn.initialize()"
     ],
     "language": "python",
     "metadata": {},
     "outputs": [],
     "prompt_number": 9
    },
    {
     "cell_type": "code",
     "collapsed": false,
     "input": [
      "# take 3000 examples for training, the rest for testing\n",
      "xxx_train = X_train.todense()\n",
      "yyy_train = y_train\n",
      "xxx_test = X_test.todense()\n",
      "yyy_test = y_test\n",
      "\n",
      "Xtrain = xxx_train.T\n",
      "Ytrain = yyy_train\n",
      "Xtest = xxx_test.T\n",
      "Ytest = yyy_test"
     ],
     "language": "python",
     "metadata": {},
     "outputs": [],
     "prompt_number": 10
    },
    {
     "cell_type": "code",
     "collapsed": false,
     "input": [
      "from modshogun import RealFeatures, RBMMM_PSEUDO_LIKELIHOOD\n",
      "\n",
      "# set the number of contrastive divergence steps\n",
      "dbn.pt_cd_num_steps.set_const(5)\n",
      "\n",
      "# set the gradient descent parameters\n",
      "dbn.pt_gd_learning_rate.set_const(0.01)\n",
      "dbn.pt_gd_mini_batch_size.set_const(100)\n",
      "dbn.pt_max_num_epochs.set_const(30)\n",
      "\n",
      "# binarize the data and start pre-training\n",
      "%time dbn.pre_train(RealFeatures((Xtrain>0).astype(float64)))"
     ],
     "language": "python",
     "metadata": {},
     "outputs": [
      {
       "output_type": "stream",
       "stream": "stdout",
       "text": [
        "CPU times: user 3h 17min 21s, sys: 1min 24s, total: 3h 18min 46s\n",
        "Wall time: 1h 11min 32s\n"
       ]
      }
     ],
     "prompt_number": 11
    },
    {
     "cell_type": "code",
     "collapsed": false,
     "input": [
      "# obtain the weights of the first hidden layer\n",
      "w1 = dbn.get_weights(0)\n",
      "print w1.shape\n",
      "# plot the weights between the first 100 units in the hidden layer and the visible units\n",
      "figure(figsize=(16,16))\n",
      "for i in range(100):\n",
      "\tax1=subplot(10,10,i+1)\n",
      "# \tax1.imshow(w1[i,:].reshape((122,105)), interpolation='nearest', cmap = cm.Greys_r)\n",
      "    ax1.imshow(w1[i,:].reshape((50,50)), interpolation='nearest', cmap = cm.Greys_r)\n",
      "\tax1.set_xticks([])\n",
      "\tax1.set_yticks([])"
     ],
     "language": "python",
     "metadata": {},
     "outputs": [
      {
       "ename": "IndentationError",
       "evalue": "unindent does not match any outer indentation level (<ipython-input-13-e91c92873bdc>, line 9)",
       "output_type": "pyerr",
       "traceback": [
        "\u001b[0;36m  File \u001b[0;32m\"<ipython-input-13-e91c92873bdc>\"\u001b[0;36m, line \u001b[0;32m9\u001b[0m\n\u001b[0;31m    ax1.imshow(w1[i,:].reshape((50,50)), interpolation='nearest')\u001b[0m\n\u001b[0m                                                                 ^\u001b[0m\n\u001b[0;31mIndentationError\u001b[0m\u001b[0;31m:\u001b[0m unindent does not match any outer indentation level\n"
       ]
      }
     ],
     "prompt_number": 13
    },
    {
     "cell_type": "code",
     "collapsed": false,
     "input": [
      "from modshogun import NeuralSoftmaxLayer, MulticlassLabels\n",
      "\n",
      "# get the neural network\n",
      "nn = dbn.convert_to_neural_network(NeuralSoftmaxLayer(32))\n",
      "\n",
      "# add some L2 regularization\n",
      "nn.l2_coefficient = 0.0001\n",
      "\n",
      "# start training\n",
      "nn.set_labels(MulticlassLabels(Ytrain))\n",
      "_ = nn.train(RealFeatures(Xtrain))"
     ],
     "language": "python",
     "metadata": {},
     "outputs": [],
     "prompt_number": "*"
    },
    {
     "cell_type": "code",
     "collapsed": false,
     "input": [
      "from modshogun import MulticlassAccuracy\n",
      "\n",
      "predictions = nn.apply_multiclass(RealFeatures(Xtest))\n",
      "accuracy = MulticlassAccuracy().evaluate(predictions, MulticlassLabels(Ytest)) * 100\n",
      "\n",
      "print \"Classification accuracy on the test set =\", accuracy, \"%\""
     ],
     "language": "python",
     "metadata": {},
     "outputs": [
      {
       "output_type": "stream",
       "stream": "stdout",
       "text": [
        "Classification accuracy on the test set = 14.1853932584 %\n"
       ]
      }
     ],
     "prompt_number": 38
    }
   ],
   "metadata": {}
  }
 ]
}