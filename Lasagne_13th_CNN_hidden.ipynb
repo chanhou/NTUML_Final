{
 "metadata": {
  "name": ""
 },
 "nbformat": 3,
 "nbformat_minor": 0,
 "worksheets": [
  {
   "cells": [
    {
     "cell_type": "markdown",
     "metadata": {},
     "source": [
      "## Lasagne code try and edit"
     ]
    },
    {
     "cell_type": "markdown",
     "metadata": {},
     "source": [
      "## input our data"
     ]
    },
    {
     "cell_type": "code",
     "collapsed": false,
     "input": [
      "import numpy as np\n",
      "import math\n",
      "import scipy.linalg as sp\n",
      "from sklearn.datasets import load_svmlight_file"
     ],
     "language": "python",
     "metadata": {},
     "outputs": [],
     "prompt_number": 1
    },
    {
     "cell_type": "code",
     "collapsed": false,
     "input": [
      "xx_train, y = load_svmlight_file(\"./phase1/new/aug_train_50_big.dat\")\n",
      "# print type(xx_train)\n",
      "print xx_train.shape\n",
      "xx_train = np.array(xx_train.todense()).reshape(-1,)\n",
      "# xx_train = xx_train.dtype(np.float32)\n",
      "xx_train = np.float32(xx_train)\n",
      "xx_train = xx_train.reshape(24696,2500)\n",
      "# print xx_train.shape\n",
      "print type(xx_train)"
     ],
     "language": "python",
     "metadata": {},
     "outputs": [
      {
       "output_type": "stream",
       "stream": "stdout",
       "text": [
        "(24696, 2500)\n",
        "<type 'numpy.ndarray'>"
       ]
      },
      {
       "output_type": "stream",
       "stream": "stdout",
       "text": [
        "\n"
       ]
      }
     ],
     "prompt_number": 2
    },
    {
     "cell_type": "code",
     "collapsed": false,
     "input": [
      "sizee = 50"
     ],
     "language": "python",
     "metadata": {},
     "outputs": [],
     "prompt_number": 3
    },
    {
     "cell_type": "code",
     "collapsed": false,
     "input": [
      "# pylab.ion()\n",
      "# pylab.imshow(xxxx[0],cmap=cm.gray)\n",
      "x = xx_train.reshape(24696,sizee**2)\n",
      "x = x.astype(np.float32)\n",
      "\n",
      "print x.shape\n",
      "print type(x)"
     ],
     "language": "python",
     "metadata": {},
     "outputs": [
      {
       "output_type": "stream",
       "stream": "stdout",
       "text": [
        "(24696, 2500)\n",
        "<type 'numpy.ndarray'>\n"
       ]
      }
     ],
     "prompt_number": 4
    },
    {
     "cell_type": "code",
     "collapsed": false,
     "input": [
      "def one_hot(x,n):\n",
      "    if type(x) == list:\n",
      "            x = np.array(x)\n",
      "    x = x.flatten()\n",
      "    o_h = np.zeros((len(x),n))\n",
      "    o_h[np.arange(len(x)),x] = 1\n",
      "    return o_h\n",
      "\n",
      "y = y.astype(int32)    \n",
      "y = one_hot(y, 32)\n",
      "y = y.astype(np.float32)\n",
      "\n",
      "print y.shape"
     ],
     "language": "python",
     "metadata": {},
     "outputs": [
      {
       "output_type": "stream",
       "stream": "stdout",
       "text": [
        "(24696, 32)\n"
       ]
      }
     ],
     "prompt_number": 5
    },
    {
     "cell_type": "markdown",
     "metadata": {},
     "source": [
      "## split data"
     ]
    },
    {
     "cell_type": "code",
     "collapsed": false,
     "input": [
      "from sklearn import cross_validation as cv\n",
      "from sklearn import svm\n",
      "from sklearn import metrics\n",
      "from sklearn import grid_search as gs"
     ],
     "language": "python",
     "metadata": {},
     "outputs": []
    },
    {
     "cell_type": "code",
     "collapsed": false,
     "input": [
      "X_train, X_test, y_train, y_test = cv.train_test_split(x, y, test_size=0.2)"
     ],
     "language": "python",
     "metadata": {},
     "outputs": []
    },
    {
     "cell_type": "code",
     "collapsed": false,
     "input": [
      "print X_train.shape\n",
      "print X_test.shape\n",
      "print y_train.shape\n",
      "print y_test.shape"
     ],
     "language": "python",
     "metadata": {},
     "outputs": []
    },
    {
     "cell_type": "markdown",
     "metadata": {},
     "source": [
      "## First model of Lasagne with single hidden layer"
     ]
    },
    {
     "cell_type": "code",
     "collapsed": false,
     "input": [
      "# add to kfkd.py\n",
      "from lasagne import layers\n",
      "from lasagne.updates import nesterov_momentum\n",
      "from nolearn.lasagne import NeuralNet\n",
      "\n",
      "net1 = NeuralNet(\n",
      "    layers=[  # three layers: one hidden layer\n",
      "        ('input', layers.InputLayer),\n",
      "        ('hidden', layers.DenseLayer),\n",
      "        ('output', layers.DenseLayer),\n",
      "        ],\n",
      "    # layer parameters:\n",
      "    input_shape=(128, 2500),  # 128 images per batch times 100x100 input pixels\n",
      "    hidden_num_units=300,  # number of units in hidden layer\n",
      "    output_nonlinearity=None,  # output layer uses identity function\n",
      "    output_num_units=32,  # 30 target values\n",
      "\n",
      "    # optimization method:\n",
      "    upate=nesterov_momentum,\n",
      "    update_learning_rate=0.01,\n",
      "    update_momentum=0.9,\n",
      "\n",
      "    # regression=False,  # flag to indicate we're dealing with regression problem\n",
      "    regression=True,  # flag to indicate we're dealing with regression problem\n",
      "    max_epochs=1000,  # we want to train this many epochs\n",
      "    verbose=1,\n",
      "    )\n"
     ],
     "language": "python",
     "metadata": {},
     "outputs": [
      {
       "output_type": "stream",
       "stream": "stderr",
       "text": [
        "Using gpu device 0: GRID K520\n"
       ]
      }
     ],
     "prompt_number": 6
    },
    {
     "cell_type": "code",
     "collapsed": false,
     "input": [
      "%time net1.fit(X_train, y_train)"
     ],
     "language": "python",
     "metadata": {},
     "outputs": []
    },
    {
     "cell_type": "code",
     "collapsed": false,
     "input": [
      "train_loss = np.array([i[\"train_loss\"] for i in net1.train_history_])\n",
      "valid_loss = np.array([i[\"valid_loss\"] for i in net1.train_history_])\n",
      "pyplot.plot(train_loss, linewidth=3, label=\"train\")\n",
      "pyplot.plot(valid_loss, linewidth=3, label=\"valid\")\n",
      "pyplot.grid()\n",
      "pyplot.legend()\n",
      "pyplot.xlabel(\"epoch\")\n",
      "pyplot.ylabel(\"loss\")\n",
      "pyplot.ylim(2.5e-2, 0.32e-1)\n",
      "# pyplot.yscale(\"log\")\n",
      "pyplot.show()"
     ],
     "language": "python",
     "metadata": {},
     "outputs": []
    },
    {
     "cell_type": "code",
     "collapsed": false,
     "input": [
      "from sklearn import metrics\n",
      "\n",
      "# overfit result, should use validation result\n",
      "y_pred = net1.predict(X_test)\n",
      "# print y_pred[1]\n",
      "# np.argmax(y_pred[i]),np.argmax(y[i])\n",
      "y_pred = np.array(map((lambda x: np.argmax(x)), y_pred))\n",
      "yyy = np.array(map((lambda x: np.argmax(x)), y_test))\n",
      "\n",
      "print metrics.classification_report((yyy), (y_pred))"
     ],
     "language": "python",
     "metadata": {},
     "outputs": []
    },
    {
     "cell_type": "markdown",
     "metadata": {},
     "source": [
      "## NET 6 in the rock"
     ]
    },
    {
     "cell_type": "code",
     "collapsed": false,
     "input": [
      "import theano\n",
      "from lasagne import layers\n",
      "from lasagne.updates import nesterov_momentum\n",
      "from nolearn.lasagne import NeuralNet\n",
      "\n",
      "def float32(k):\n",
      "    return np.cast['float32'](k)\n",
      "\n",
      "class AdjustVariable(object):\n",
      "    def __init__(self, name, start=0.03, stop=0.001):\n",
      "        self.name = name\n",
      "        self.start, self.stop = start, stop\n",
      "        self.ls = None\n",
      "\n",
      "    def __call__(self, nn, train_history):\n",
      "        if self.ls is None:\n",
      "            self.ls = np.linspace(self.start, self.stop, nn.max_epochs)\n",
      "\n",
      "        epoch = train_history[-1]['epoch']\n",
      "        new_value = float32(self.ls[epoch - 1])\n",
      "        getattr(nn, self.name).set_value(new_value)\n",
      "\n",
      "class EarlyStopping(object):\n",
      "    def __init__(self, patience=100):\n",
      "        self.patience = patience\n",
      "        self.best_valid = np.inf\n",
      "        self.best_valid_epoch = 0\n",
      "        self.best_weights = None\n",
      "\n",
      "    def __call__(self, nn, train_history):\n",
      "        current_valid = train_history[-1]['valid_loss']\n",
      "        current_epoch = train_history[-1]['epoch']\n",
      "        if current_valid < self.best_valid:\n",
      "            self.best_valid = current_valid\n",
      "            self.best_valid_epoch = current_epoch\n",
      "            self.best_weights = [w.get_value() for w in nn.get_all_params()]\n",
      "        elif self.best_valid_epoch + self.patience < current_epoch:\n",
      "            print(\"Early stopping.\")\n",
      "            print(\"Best valid loss was {:.6f} at epoch {}.\".format(\n",
      "                self.best_valid, self.best_valid_epoch))\n",
      "            nn.load_weights_from(self.best_weights)\n",
      "            raise StopIteration()\n",
      "        \n",
      "# use the cuda-convnet implementations of conv and max-pool layer\n",
      "Conv2DLayer = layers.cuda_convnet.Conv2DCCLayer\n",
      "MaxPool2DLayer = layers.cuda_convnet.MaxPool2DCCLayer\n",
      "\n",
      "net7 = NeuralNet(\n",
      "    layers=[\n",
      "        ('input', layers.InputLayer),\n",
      "        ('conv1', Conv2DLayer),\n",
      "        ('pool1', MaxPool2DLayer),\n",
      "        ('dropout1', layers.DropoutLayer),  # !\n",
      "        ('conv2', Conv2DLayer),\n",
      "        ('pool2', MaxPool2DLayer),\n",
      "        ('dropout2', layers.DropoutLayer),  # !\n",
      "        ('conv3', Conv2DLayer),\n",
      "        ('pool3', MaxPool2DLayer),\n",
      "        ('dropout3', layers.DropoutLayer),  # !\n",
      "        ('conv4', Conv2DLayer),###\n",
      "        ('pool4', MaxPool2DLayer),###\n",
      "        ('dropout4', layers.DropoutLayer),  # !###\n",
      "        ('hidden5', layers.DenseLayer),\n",
      "        ('dropout5', layers.DropoutLayer),  # !\n",
      "        ('hidden6', layers.DenseLayer),############\n",
      "        ('dropout6', layers.DropoutLayer),  # !###############\n",
      "        ('hidden7', layers.DenseLayer),\n",
      "        ('output', layers.DenseLayer),\n",
      "        ],\n",
      "    input_shape=(128, 1, 50,50),\n",
      "    conv1_num_filters=32, conv1_filter_size=(3, 3), pool1_ds=(2, 2),\n",
      "    # dropout1_p=0.1, # !\n",
      "    dropout1_p=0.1,  # !\n",
      "    conv2_num_filters=64, conv2_filter_size=(2, 2), pool2_ds=(2, 2),\n",
      "    # dropout2_p=0.2,  # !\n",
      "    dropout2_p=0.2,  # !\n",
      "    conv3_num_filters=128, conv3_filter_size=(2, 2), pool3_ds=(2, 2),\n",
      "    # dropout3_p=0.3,  # !\n",
      "    dropout3_p=0.3,  # !\n",
      "    conv4_num_filters=256, conv4_filter_size=(2, 2), pool4_ds=(2, 2), ######\n",
      "    # dropout3_p=0.3,  # !\n",
      "    dropout4_p=0.4,  # !#########\n",
      "    hidden5_num_units=1000,\n",
      "    # hidden4_num_units=1000,  # !\n",
      "    dropout5_p=0.5,  # !\n",
      "    hidden6_num_units=1000,\n",
      "    # hidden4_num_units=1000,  # !\n",
      "    dropout6_p=0.5,  # !\n",
      "    hidden7_num_units=1000,\n",
      "    # hidden5_num_units=1000,  # !\n",
      "    output_num_units=32, output_nonlinearity=None,\n",
      "\n",
      "    update_learning_rate=theano.shared(float32(0.03)),\n",
      "    update_momentum=theano.shared(float32(0.9)),\n",
      "\n",
      "    regression=True,\n",
      "#     batch_iterator=FlipBatchIterator(batch_size=128),\n",
      "    on_epoch_finished=[\n",
      "        AdjustVariable('update_learning_rate', start=0.03, stop=0.0001),\n",
      "        AdjustVariable('update_momentum', start=0.9, stop=0.999),\n",
      "        EarlyStopping(patience=270),\n",
      "        ],\n",
      "    # max_epochs=3000,\n",
      "    max_epochs=10000,\n",
      "    verbose=1,\n",
      "    )"
     ],
     "language": "python",
     "metadata": {},
     "outputs": [],
     "prompt_number": 7
    },
    {
     "cell_type": "code",
     "collapsed": false,
     "input": [
      "def transform_6(X,y):\n",
      "    X = X.reshape(-1, 50,50, 1)\n",
      "    X = X.transpose(0, 3, 1, 2)\n",
      "    return X, y\n",
      "\n",
      "# X_train = X_train.reshape(-1,1,sizee,sizee)\n",
      "# X_test = X_test.reshape(-1, 1,sizee,sizee)\n",
      "# X_train.shape"
     ],
     "language": "python",
     "metadata": {},
     "outputs": [],
     "prompt_number": 8
    },
    {
     "cell_type": "code",
     "collapsed": false,
     "input": [
      "import sys\n",
      "sys.setrecursionlimit(10000)\n",
      "\n",
      "X_6, y_6 = transform_6(x, y)\n",
      "%time net7.fit(X_6, y_6)\n",
      "\n",
      "import cPickle as pickle\n",
      "with open('Lasagne_13th_CNN_hidden.pickle', 'wb') as f:\n",
      "    pickle.dump(net7, f, -1)"
     ],
     "language": "python",
     "metadata": {},
     "outputs": [
      {
       "output_type": "stream",
       "stream": "stdout",
       "text": [
        "  InputLayer        \t(128, 1, 50, 50)    \tproduces    2500 outputs\n",
        "  Conv2DCCLayer     \t(128, 32, 48, 48)   \tproduces   73728 outputs\n",
        "  MaxPool2DCCLayer  \t(128, 32, 24, 24)   \tproduces   18432 outputs\n",
        "  DropoutLayer      \t(128, 32, 24, 24)   \tproduces   18432 outputs\n",
        "  Conv2DCCLayer     \t(128, 64, 23, 23)   \tproduces   33856 outputs\n",
        "  MaxPool2DCCLayer  \t(128, 64, 12, 12)   \tproduces    9216 outputs\n",
        "  DropoutLayer      \t(128, 64, 12, 12)   \tproduces    9216 outputs\n",
        "  Conv2DCCLayer     \t(128, 128, 11, 11)  \tproduces   15488 outputs\n",
        "  MaxPool2DCCLayer  \t(128, 128, 6, 6)    \tproduces    4608 outputs\n",
        "  DropoutLayer      \t(128, 128, 6, 6)    \tproduces    4608 outputs\n",
        "  Conv2DCCLayer     \t(128, 256, 5, 5)    \tproduces    6400 outputs\n",
        "  MaxPool2DCCLayer  \t(128, 256, 3, 3)    \tproduces    2304 outputs\n",
        "  DropoutLayer      \t(128, 256, 3, 3)    \tproduces    2304 outputs\n",
        "  DenseLayer        \t(128, 1000)         \tproduces    1000 outputs\n",
        "  DropoutLayer      \t(128, 1000)         \tproduces    1000 outputs\n",
        "  DenseLayer        \t(128, 1000)         \tproduces    1000 outputs\n",
        "  DropoutLayer      \t(128, 1000)         \tproduces    1000 outputs\n",
        "  DenseLayer        \t(128, 1000)         \tproduces    1000 outputs\n",
        "  DenseLayer        \t(128, 32)           \tproduces      32 outputs\n",
        "\n",
        " Epoch  |  Train loss  |  Valid loss  |  Train / Val  |  Valid acc  |  Dur\n",
        "--------|--------------|--------------|---------------|-------------|-------"
       ]
      },
      {
       "output_type": "stream",
       "stream": "stdout",
       "text": [
        "\n",
        "     1  |  \u001b[94m  0.030896\u001b[0m  |  \u001b[32m  0.030233\u001b[0m  |     1.021931  |             |  9.4s"
       ]
      },
      {
       "output_type": "stream",
       "stream": "stdout",
       "text": [
        "\n",
        "     2  |  \u001b[94m  0.030178\u001b[0m  |  \u001b[32m  0.030220\u001b[0m  |     0.998589  |             |  9.4s"
       ]
      },
      {
       "output_type": "stream",
       "stream": "stdout",
       "text": [
        "\n",
        "     3  |  \u001b[94m  0.030083\u001b[0m  |  \u001b[32m  0.030212\u001b[0m  |     0.995730  |             |  9.4s"
       ]
      },
      {
       "output_type": "stream",
       "stream": "stdout",
       "text": [
        "\n",
        "     4  |  \u001b[94m  0.029986\u001b[0m  |  \u001b[32m  0.030196\u001b[0m  |     0.993052  |             |  9.4s"
       ]
      },
      {
       "output_type": "stream",
       "stream": "stdout",
       "text": [
        "\n",
        "     5  |  \u001b[94m  0.029897\u001b[0m  |  \u001b[32m  0.030175\u001b[0m  |     0.990801  |             |  9.4s"
       ]
      },
      {
       "output_type": "stream",
       "stream": "stdout",
       "text": [
        "\n",
        "     6  |  \u001b[94m  0.029805\u001b[0m  |  \u001b[32m  0.030157\u001b[0m  |     0.988311  |             |  9.4s"
       ]
      },
      {
       "output_type": "stream",
       "stream": "stdout",
       "text": [
        "\n",
        "     7  |  \u001b[94m  0.029723\u001b[0m  |  \u001b[32m  0.030147\u001b[0m  |     0.985916  |             |  9.4s"
       ]
      },
      {
       "output_type": "stream",
       "stream": "stdout",
       "text": [
        "\n",
        "     8  |  \u001b[94m  0.029643\u001b[0m  |  \u001b[32m  0.030144\u001b[0m  |     0.983384  |             |  9.4s"
       ]
      },
      {
       "output_type": "stream",
       "stream": "stdout",
       "text": [
        "\n",
        "     9  |  \u001b[94m  0.029566\u001b[0m  |  \u001b[32m  0.030132\u001b[0m  |     0.981192  |             |  9.4s"
       ]
      },
      {
       "output_type": "stream",
       "stream": "stdout",
       "text": [
        "\n",
        "    10  |  \u001b[94m  0.029512\u001b[0m  |    0.030141  |     0.979122  |             |  9.4s"
       ]
      },
      {
       "output_type": "stream",
       "stream": "stdout",
       "text": [
        "\n",
        "    11  |  \u001b[94m  0.029460\u001b[0m  |    0.030139  |     0.977442  |             |  9.4s"
       ]
      },
      {
       "output_type": "stream",
       "stream": "stdout",
       "text": [
        "\n",
        "    12  |  \u001b[94m  0.029414\u001b[0m  |  \u001b[32m  0.030128\u001b[0m  |     0.976329  |             |  9.4s"
       ]
      },
      {
       "output_type": "stream",
       "stream": "stdout",
       "text": [
        "\n",
        "    13  |  \u001b[94m  0.029391\u001b[0m  |  \u001b[32m  0.030125\u001b[0m  |     0.975630  |             |  9.4s"
       ]
      },
      {
       "output_type": "stream",
       "stream": "stdout",
       "text": [
        "\n",
        "    14  |  \u001b[94m  0.029368\u001b[0m  |    0.030140  |     0.974385  |             |  9.4s"
       ]
      },
      {
       "output_type": "stream",
       "stream": "stdout",
       "text": [
        "\n",
        "    15  |  \u001b[94m  0.029340\u001b[0m  |  \u001b[32m  0.030117\u001b[0m  |     0.974213  |             |  9.4s"
       ]
      },
      {
       "output_type": "stream",
       "stream": "stdout",
       "text": [
        "\n",
        "    16  |  \u001b[94m  0.029316\u001b[0m  |    0.030119  |     0.973321  |             |  9.4s"
       ]
      },
      {
       "output_type": "stream",
       "stream": "stdout",
       "text": [
        "\n",
        "    17  |  \u001b[94m  0.029291\u001b[0m  |  \u001b[32m  0.030096\u001b[0m  |     0.973259  |             |  9.4s"
       ]
      },
      {
       "output_type": "stream",
       "stream": "stdout",
       "text": [
        "\n",
        "    18  |  \u001b[94m  0.029280\u001b[0m  |  \u001b[32m  0.030091\u001b[0m  |     0.973042  |             |  9.4s"
       ]
      },
      {
       "output_type": "stream",
       "stream": "stdout",
       "text": [
        "\n",
        "    19  |  \u001b[94m  0.029253\u001b[0m  |  \u001b[32m  0.030087\u001b[0m  |     0.972301  |             |  9.4s"
       ]
      },
      {
       "output_type": "stream",
       "stream": "stdout",
       "text": [
        "\n",
        "    20  |  \u001b[94m  0.029246\u001b[0m  |  \u001b[32m  0.030063\u001b[0m  |     0.972844  |             |  9.4s"
       ]
      },
      {
       "output_type": "stream",
       "stream": "stdout",
       "text": [
        "\n",
        "    21  |  \u001b[94m  0.029222\u001b[0m  |  \u001b[32m  0.030046\u001b[0m  |     0.972563  |             |  9.4s"
       ]
      },
      {
       "output_type": "stream",
       "stream": "stdout",
       "text": [
        "\n",
        "    22  |  \u001b[94m  0.029203\u001b[0m  |  \u001b[32m  0.030036\u001b[0m  |     0.972262  |             |  9.4s"
       ]
      },
      {
       "output_type": "stream",
       "stream": "stdout",
       "text": [
        "\n",
        "    23  |  \u001b[94m  0.029184\u001b[0m  |  \u001b[32m  0.030005\u001b[0m  |     0.972638  |             |  9.4s"
       ]
      },
      {
       "output_type": "stream",
       "stream": "stdout",
       "text": [
        "\n",
        "    24  |  \u001b[94m  0.029172\u001b[0m  |    0.030006  |     0.972185  |             |  9.4s"
       ]
      },
      {
       "output_type": "stream",
       "stream": "stdout",
       "text": [
        "\n",
        "    25  |  \u001b[94m  0.029159\u001b[0m  |    0.030007  |     0.971766  |             |  9.4s"
       ]
      },
      {
       "output_type": "stream",
       "stream": "stdout",
       "text": [
        "\n",
        "    26  |  \u001b[94m  0.029134\u001b[0m  |    0.030006  |     0.970934  |             |  9.4s"
       ]
      },
      {
       "output_type": "stream",
       "stream": "stdout",
       "text": [
        "\n",
        "    27  |  \u001b[94m  0.029110\u001b[0m  |  \u001b[32m  0.029978\u001b[0m  |     0.971066  |             |  9.4s"
       ]
      },
      {
       "output_type": "stream",
       "stream": "stdout",
       "text": [
        "\n",
        "    28  |  \u001b[94m  0.029105\u001b[0m  |  \u001b[32m  0.029957\u001b[0m  |     0.971571  |             |  9.4s"
       ]
      },
      {
       "output_type": "stream",
       "stream": "stdout",
       "text": [
        "\n",
        "    29  |  \u001b[94m  0.029083\u001b[0m  |  \u001b[32m  0.029937\u001b[0m  |     0.971447  |             |  9.4s"
       ]
      },
      {
       "output_type": "stream",
       "stream": "stdout",
       "text": [
        "\n",
        "    30  |  \u001b[94m  0.029067\u001b[0m  |    0.029950  |     0.970491  |             |  9.4s"
       ]
      },
      {
       "output_type": "stream",
       "stream": "stdout",
       "text": [
        "\n",
        "    31  |  \u001b[94m  0.029038\u001b[0m  |  \u001b[32m  0.029900\u001b[0m  |     0.971179  |             |  9.4s"
       ]
      },
      {
       "output_type": "stream",
       "stream": "stdout",
       "text": [
        "\n",
        "    32  |  \u001b[94m  0.029004\u001b[0m  |    0.029904  |     0.969900  |             |  9.4s"
       ]
      },
      {
       "output_type": "stream",
       "stream": "stdout",
       "text": [
        "\n",
        "    33  |  \u001b[94m  0.029002\u001b[0m  |  \u001b[32m  0.029889\u001b[0m  |     0.970312  |             |  9.4s"
       ]
      },
      {
       "output_type": "stream",
       "stream": "stdout",
       "text": [
        "\n",
        "    34  |  \u001b[94m  0.028991\u001b[0m  |  \u001b[32m  0.029869\u001b[0m  |     0.970593  |             |  9.4s"
       ]
      },
      {
       "output_type": "stream",
       "stream": "stdout",
       "text": [
        "\n",
        "    35  |  \u001b[94m  0.028961\u001b[0m  |  \u001b[32m  0.029869\u001b[0m  |     0.969600  |             |  9.4s"
       ]
      },
      {
       "output_type": "stream",
       "stream": "stdout",
       "text": [
        "\n",
        "    36  |  \u001b[94m  0.028951\u001b[0m  |    0.029888  |     0.968675  |             |  9.4s"
       ]
      },
      {
       "output_type": "stream",
       "stream": "stdout",
       "text": [
        "\n",
        "    37  |  \u001b[94m  0.028917\u001b[0m  |  \u001b[32m  0.029845\u001b[0m  |     0.968906  |             |  9.4s"
       ]
      },
      {
       "output_type": "stream",
       "stream": "stdout",
       "text": [
        "\n",
        "    38  |    0.028920  |  \u001b[32m  0.029816\u001b[0m  |     0.969948  |             |  9.4s"
       ]
      },
      {
       "output_type": "stream",
       "stream": "stdout",
       "text": [
        "\n",
        "    39  |  \u001b[94m  0.028880\u001b[0m  |  \u001b[32m  0.029799\u001b[0m  |     0.969155  |             |  9.4s"
       ]
      },
      {
       "output_type": "stream",
       "stream": "stdout",
       "text": [
        "\n",
        "    40  |  \u001b[94m  0.028867\u001b[0m  |  \u001b[32m  0.029788\u001b[0m  |     0.969067  |             |  9.4s"
       ]
      },
      {
       "output_type": "stream",
       "stream": "stdout",
       "text": [
        "\n",
        "    41  |  \u001b[94m  0.028835\u001b[0m  |  \u001b[32m  0.029771\u001b[0m  |     0.968534  |             |  9.4s"
       ]
      },
      {
       "output_type": "stream",
       "stream": "stdout",
       "text": [
        "\n",
        "    42  |  \u001b[94m  0.028821\u001b[0m  |  \u001b[32m  0.029755\u001b[0m  |     0.968640  |             |  9.4s"
       ]
      },
      {
       "output_type": "stream",
       "stream": "stdout",
       "text": [
        "\n",
        "    43  |  \u001b[94m  0.028805\u001b[0m  |  \u001b[32m  0.029719\u001b[0m  |     0.969232  |             |  9.4s"
       ]
      },
      {
       "output_type": "stream",
       "stream": "stdout",
       "text": [
        "\n",
        "    44  |  \u001b[94m  0.028776\u001b[0m  |    0.029730  |     0.967892  |             |  9.4s"
       ]
      },
      {
       "output_type": "stream",
       "stream": "stdout",
       "text": [
        "\n",
        "    45  |  \u001b[94m  0.028756\u001b[0m  |  \u001b[32m  0.029672\u001b[0m  |     0.969106  |             |  9.4s"
       ]
      },
      {
       "output_type": "stream",
       "stream": "stdout",
       "text": [
        "\n",
        "    46  |  \u001b[94m  0.028746\u001b[0m  |    0.029702  |     0.967819  |             |  9.4s"
       ]
      },
      {
       "output_type": "stream",
       "stream": "stdout",
       "text": [
        "\n",
        "    47  |  \u001b[94m  0.028716\u001b[0m  |    0.029680  |     0.967511  |             |  9.4s"
       ]
      },
      {
       "output_type": "stream",
       "stream": "stdout",
       "text": [
        "\n",
        "    48  |  \u001b[94m  0.028699\u001b[0m  |  \u001b[32m  0.029664\u001b[0m  |     0.967472  |             |  9.4s"
       ]
      },
      {
       "output_type": "stream",
       "stream": "stdout",
       "text": [
        "\n",
        "    49  |  \u001b[94m  0.028674\u001b[0m  |  \u001b[32m  0.029642\u001b[0m  |     0.967349  |             |  9.4s"
       ]
      },
      {
       "output_type": "stream",
       "stream": "stdout",
       "text": [
        "\n",
        "    50  |  \u001b[94m  0.028660\u001b[0m  |  \u001b[32m  0.029613\u001b[0m  |     0.967795  |             |  9.4s"
       ]
      },
      {
       "output_type": "stream",
       "stream": "stdout",
       "text": [
        "\n",
        "    51  |  \u001b[94m  0.028644\u001b[0m  |  \u001b[32m  0.029584\u001b[0m  |     0.968239  |             |  9.4s"
       ]
      },
      {
       "output_type": "stream",
       "stream": "stdout",
       "text": [
        "\n",
        "    52  |  \u001b[94m  0.028623\u001b[0m  |  \u001b[32m  0.029575\u001b[0m  |     0.967803  |             |  9.4s"
       ]
      },
      {
       "output_type": "stream",
       "stream": "stdout",
       "text": [
        "\n",
        "    53  |  \u001b[94m  0.028598\u001b[0m  |  \u001b[32m  0.029531\u001b[0m  |     0.968406  |             |  9.4s"
       ]
      },
      {
       "output_type": "stream",
       "stream": "stdout",
       "text": [
        "\n",
        "    54  |  \u001b[94m  0.028597\u001b[0m  |    0.029550  |     0.967730  |             |  9.4s"
       ]
      },
      {
       "output_type": "stream",
       "stream": "stdout",
       "text": [
        "\n",
        "    55  |  \u001b[94m  0.028567\u001b[0m  |    0.029542  |     0.966995  |             |  9.4s"
       ]
      },
      {
       "output_type": "stream",
       "stream": "stdout",
       "text": [
        "\n",
        "    56  |    0.028568  |    0.029542  |     0.967030  |             |  9.4s"
       ]
      },
      {
       "output_type": "stream",
       "stream": "stdout",
       "text": [
        "\n",
        "    57  |  \u001b[94m  0.028534\u001b[0m  |  \u001b[32m  0.029503\u001b[0m  |     0.967179  |             |  9.4s"
       ]
      },
      {
       "output_type": "stream",
       "stream": "stdout",
       "text": [
        "\n",
        "    58  |  \u001b[94m  0.028521\u001b[0m  |  \u001b[32m  0.029478\u001b[0m  |     0.967525  |             |  9.4s"
       ]
      },
      {
       "output_type": "stream",
       "stream": "stdout",
       "text": [
        "\n",
        "    59  |  \u001b[94m  0.028505\u001b[0m  |  \u001b[32m  0.029448\u001b[0m  |     0.967990  |             |  9.4s"
       ]
      },
      {
       "output_type": "stream",
       "stream": "stdout",
       "text": [
        "\n",
        "    60  |  \u001b[94m  0.028480\u001b[0m  |  \u001b[32m  0.029440\u001b[0m  |     0.967406  |             |  9.4s"
       ]
      },
      {
       "output_type": "stream",
       "stream": "stdout",
       "text": [
        "\n",
        "    61  |  \u001b[94m  0.028473\u001b[0m  |    0.029450  |     0.966813  |             |  9.4s"
       ]
      },
      {
       "output_type": "stream",
       "stream": "stdout",
       "text": [
        "\n",
        "    62  |  \u001b[94m  0.028442\u001b[0m  |  \u001b[32m  0.029384\u001b[0m  |     0.967938  |             |  9.4s"
       ]
      },
      {
       "output_type": "stream",
       "stream": "stdout",
       "text": [
        "\n",
        "    63  |  \u001b[94m  0.028426\u001b[0m  |    0.029438  |     0.965608  |             |  9.4s"
       ]
      },
      {
       "output_type": "stream",
       "stream": "stdout",
       "text": [
        "\n",
        "    64  |  \u001b[94m  0.028407\u001b[0m  |    0.029387  |     0.966627  |             |  9.4s"
       ]
      },
      {
       "output_type": "stream",
       "stream": "stdout",
       "text": [
        "\n",
        "    65  |  \u001b[94m  0.028401\u001b[0m  |  \u001b[32m  0.029367\u001b[0m  |     0.967103  |             |  9.4s"
       ]
      },
      {
       "output_type": "stream",
       "stream": "stdout",
       "text": [
        "\n",
        "    66  |  \u001b[94m  0.028372\u001b[0m  |    0.029368  |     0.966086  |             |  9.4s"
       ]
      },
      {
       "output_type": "stream",
       "stream": "stdout",
       "text": [
        "\n",
        "    67  |  \u001b[94m  0.028359\u001b[0m  |    0.029374  |     0.965459  |             |  9.4s"
       ]
      },
      {
       "output_type": "stream",
       "stream": "stdout",
       "text": [
        "\n",
        "    68  |  \u001b[94m  0.028335\u001b[0m  |  \u001b[32m  0.029333\u001b[0m  |     0.965986  |             |  9.4s"
       ]
      },
      {
       "output_type": "stream",
       "stream": "stdout",
       "text": [
        "\n",
        "    69  |  \u001b[94m  0.028327\u001b[0m  |  \u001b[32m  0.029328\u001b[0m  |     0.965853  |             |  9.4s"
       ]
      },
      {
       "output_type": "stream",
       "stream": "stdout",
       "text": [
        "\n",
        "    70  |  \u001b[94m  0.028323\u001b[0m  |  \u001b[32m  0.029295\u001b[0m  |     0.966817  |             |  9.3s"
       ]
      },
      {
       "output_type": "stream",
       "stream": "stdout",
       "text": [
        "\n",
        "    71  |  \u001b[94m  0.028305\u001b[0m  |    0.029310  |     0.965731  |             |  9.4s"
       ]
      },
      {
       "output_type": "stream",
       "stream": "stdout",
       "text": [
        "\n",
        "    72  |  \u001b[94m  0.028291\u001b[0m  |  \u001b[32m  0.029226\u001b[0m  |     0.968027  |             |  9.4s"
       ]
      },
      {
       "output_type": "stream",
       "stream": "stdout",
       "text": [
        "\n",
        "    73  |  \u001b[94m  0.028279\u001b[0m  |    0.029260  |     0.966496  |             |  9.3s"
       ]
      },
      {
       "output_type": "stream",
       "stream": "stdout",
       "text": [
        "\n",
        "    74  |  \u001b[94m  0.028264\u001b[0m  |  \u001b[32m  0.029208\u001b[0m  |     0.967677  |             |  9.4s"
       ]
      },
      {
       "output_type": "stream",
       "stream": "stdout",
       "text": [
        "\n",
        "    75  |  \u001b[94m  0.028255\u001b[0m  |    0.029226  |     0.966754  |             |  9.4s"
       ]
      },
      {
       "output_type": "stream",
       "stream": "stdout",
       "text": [
        "\n",
        "    76  |  \u001b[94m  0.028237\u001b[0m  |  \u001b[32m  0.029180\u001b[0m  |     0.967705  |             |  9.4s"
       ]
      },
      {
       "output_type": "stream",
       "stream": "stdout",
       "text": [
        "\n",
        "    77  |  \u001b[94m  0.028229\u001b[0m  |    0.029201  |     0.966701  |             |  9.4s"
       ]
      },
      {
       "output_type": "stream",
       "stream": "stdout",
       "text": [
        "\n",
        "    78  |  \u001b[94m  0.028221\u001b[0m  |    0.029220  |     0.965841  |             |  9.4s"
       ]
      },
      {
       "output_type": "stream",
       "stream": "stdout",
       "text": [
        "\n",
        "    79  |  \u001b[94m  0.028207\u001b[0m  |    0.029196  |     0.966126  |             |  9.3s"
       ]
      },
      {
       "output_type": "stream",
       "stream": "stdout",
       "text": [
        "\n",
        "    80  |  \u001b[94m  0.028188\u001b[0m  |  \u001b[32m  0.029170\u001b[0m  |     0.966348  |             |  9.4s"
       ]
      },
      {
       "output_type": "stream",
       "stream": "stdout",
       "text": [
        "\n",
        "    81  |  \u001b[94m  0.028145\u001b[0m  |  \u001b[32m  0.029128\u001b[0m  |     0.966220  |             |  9.4s"
       ]
      },
      {
       "output_type": "stream",
       "stream": "stdout",
       "text": [
        "\n",
        "    82  |  \u001b[94m  0.028142\u001b[0m  |    0.029136  |     0.965855  |             |  9.4s"
       ]
      },
      {
       "output_type": "stream",
       "stream": "stdout",
       "text": [
        "\n",
        "    83  |    0.028144  |    0.029131  |     0.966130  |             |  9.4s"
       ]
      },
      {
       "output_type": "stream",
       "stream": "stdout",
       "text": [
        "\n",
        "    84  |  \u001b[94m  0.028125\u001b[0m  |  \u001b[32m  0.029115\u001b[0m  |     0.966013  |             |  9.4s"
       ]
      },
      {
       "output_type": "stream",
       "stream": "stdout",
       "text": [
        "\n",
        "    85  |  \u001b[94m  0.028116\u001b[0m  |  \u001b[32m  0.029075\u001b[0m  |     0.967004  |             |  9.4s"
       ]
      },
      {
       "output_type": "stream",
       "stream": "stdout",
       "text": [
        "\n",
        "    86  |  \u001b[94m  0.028107\u001b[0m  |    0.029150  |     0.964245  |             |  9.4s"
       ]
      },
      {
       "output_type": "stream",
       "stream": "stdout",
       "text": [
        "\n",
        "    87  |  \u001b[94m  0.028083\u001b[0m  |  \u001b[32m  0.029055\u001b[0m  |     0.966569  |             |  9.4s"
       ]
      },
      {
       "output_type": "stream",
       "stream": "stdout",
       "text": [
        "\n",
        "    88  |    0.028090  |    0.029059  |     0.966651  |             |  9.4s"
       ]
      },
      {
       "output_type": "stream",
       "stream": "stdout",
       "text": [
        "\n",
        "    89  |  \u001b[94m  0.028060\u001b[0m  |  \u001b[32m  0.029042\u001b[0m  |     0.966164  |             |  9.3s"
       ]
      },
      {
       "output_type": "stream",
       "stream": "stdout",
       "text": [
        "\n",
        "    90  |  \u001b[94m  0.028052\u001b[0m  |    0.029052  |     0.965572  |             |  9.3s"
       ]
      },
      {
       "output_type": "stream",
       "stream": "stdout",
       "text": [
        "\n",
        "    91  |  \u001b[94m  0.028041\u001b[0m  |    0.029045  |     0.965451  |             |  9.4s"
       ]
      },
      {
       "output_type": "stream",
       "stream": "stdout",
       "text": [
        "\n",
        "    92  |  \u001b[94m  0.028036\u001b[0m  |  \u001b[32m  0.029024\u001b[0m  |     0.965938  |             |  9.3s"
       ]
      },
      {
       "output_type": "stream",
       "stream": "stdout",
       "text": [
        "\n",
        "    93  |  \u001b[94m  0.028014\u001b[0m  |  \u001b[32m  0.029016\u001b[0m  |     0.965461  |             |  9.3s"
       ]
      },
      {
       "output_type": "stream",
       "stream": "stdout",
       "text": [
        "\n",
        "    94  |  \u001b[94m  0.028005\u001b[0m  |  \u001b[32m  0.028965\u001b[0m  |     0.966852  |             |  9.4s"
       ]
      },
      {
       "output_type": "stream",
       "stream": "stdout",
       "text": [
        "\n",
        "    95  |  \u001b[94m  0.027993\u001b[0m  |    0.029026  |     0.964428  |             |  9.4s"
       ]
      },
      {
       "output_type": "stream",
       "stream": "stdout",
       "text": [
        "\n",
        "    96  |  \u001b[94m  0.027981\u001b[0m  |    0.029005  |     0.964704  |             |  9.3s"
       ]
      },
      {
       "output_type": "stream",
       "stream": "stdout",
       "text": [
        "\n",
        "    97  |  \u001b[94m  0.027961\u001b[0m  |  \u001b[32m  0.028964\u001b[0m  |     0.965382  |             |  9.4s"
       ]
      },
      {
       "output_type": "stream",
       "stream": "stdout",
       "text": [
        "\n",
        "    98  |  \u001b[94m  0.027948\u001b[0m  |  \u001b[32m  0.028904\u001b[0m  |     0.966921  |             |  9.4s"
       ]
      },
      {
       "output_type": "stream",
       "stream": "stdout",
       "text": [
        "\n",
        "    99  |    0.027948  |    0.028999  |     0.963775  |             |  9.3s"
       ]
      },
      {
       "output_type": "stream",
       "stream": "stdout",
       "text": [
        "\n",
        "   100  |  \u001b[94m  0.027934\u001b[0m  |  \u001b[32m  0.028898\u001b[0m  |     0.966653  |             |  9.4s"
       ]
      },
      {
       "output_type": "stream",
       "stream": "stdout",
       "text": [
        "\n",
        "   101  |    0.027941  |    0.028980  |     0.964130  |             |  9.4s"
       ]
      },
      {
       "output_type": "stream",
       "stream": "stdout",
       "text": [
        "\n",
        "   102  |  \u001b[94m  0.027914\u001b[0m  |  \u001b[32m  0.028880\u001b[0m  |     0.966556  |             |  9.4s"
       ]
      },
      {
       "output_type": "stream",
       "stream": "stdout",
       "text": [
        "\n",
        "   103  |  \u001b[94m  0.027883\u001b[0m  |    0.028889  |     0.965149  |             |  9.4s"
       ]
      },
      {
       "output_type": "stream",
       "stream": "stdout",
       "text": [
        "\n",
        "   104  |  \u001b[94m  0.027872\u001b[0m  |    0.028880  |     0.965092  |             |  9.4s"
       ]
      },
      {
       "output_type": "stream",
       "stream": "stdout",
       "text": [
        "\n",
        "   105  |  \u001b[94m  0.027863\u001b[0m  |    0.028888  |     0.964511  |             |  9.4s"
       ]
      },
      {
       "output_type": "stream",
       "stream": "stdout",
       "text": [
        "\n",
        "   106  |  \u001b[94m  0.027847\u001b[0m  |    0.028894  |     0.963782  |             |  9.3s"
       ]
      },
      {
       "output_type": "stream",
       "stream": "stdout",
       "text": [
        "\n",
        "   107  |    0.027848  |    0.028884  |     0.964146  |             |  9.4s"
       ]
      },
      {
       "output_type": "stream",
       "stream": "stdout",
       "text": [
        "\n",
        "   108  |  \u001b[94m  0.027832\u001b[0m  |  \u001b[32m  0.028856\u001b[0m  |     0.964509  |             |  9.4s"
       ]
      },
      {
       "output_type": "stream",
       "stream": "stdout",
       "text": [
        "\n",
        "   109  |  \u001b[94m  0.027807\u001b[0m  |  \u001b[32m  0.028827\u001b[0m  |     0.964608  |             |  9.4s"
       ]
      },
      {
       "output_type": "stream",
       "stream": "stdout",
       "text": [
        "\n",
        "   110  |  \u001b[94m  0.027796\u001b[0m  |  \u001b[32m  0.028812\u001b[0m  |     0.964738  |             |  9.4s"
       ]
      },
      {
       "output_type": "stream",
       "stream": "stdout",
       "text": [
        "\n",
        "   111  |  \u001b[94m  0.027782\u001b[0m  |    0.028817  |     0.964064  |             |  9.4s"
       ]
      },
      {
       "output_type": "stream",
       "stream": "stdout",
       "text": [
        "\n",
        "   112  |  \u001b[94m  0.027769\u001b[0m  |  \u001b[32m  0.028800\u001b[0m  |     0.964201  |             |  9.4s"
       ]
      },
      {
       "output_type": "stream",
       "stream": "stdout",
       "text": [
        "\n",
        "   113  |  \u001b[94m  0.027755\u001b[0m  |    0.028834  |     0.962580  |             |  9.4s"
       ]
      },
      {
       "output_type": "stream",
       "stream": "stdout",
       "text": [
        "\n",
        "   114  |    0.027755  |  \u001b[32m  0.028784\u001b[0m  |     0.964253  |             |  9.4s"
       ]
      },
      {
       "output_type": "stream",
       "stream": "stdout",
       "text": [
        "\n",
        "   115  |  \u001b[94m  0.027731\u001b[0m  |  \u001b[32m  0.028759\u001b[0m  |     0.964259  |             |  9.4s"
       ]
      },
      {
       "output_type": "stream",
       "stream": "stdout",
       "text": [
        "\n",
        "   116  |  \u001b[94m  0.027717\u001b[0m  |  \u001b[32m  0.028731\u001b[0m  |     0.964737  |             |  9.4s"
       ]
      },
      {
       "output_type": "stream",
       "stream": "stdout",
       "text": [
        "\n",
        "   117  |  \u001b[94m  0.027698\u001b[0m  |  \u001b[32m  0.028675\u001b[0m  |     0.965927  |             |  9.3s"
       ]
      },
      {
       "output_type": "stream",
       "stream": "stdout",
       "text": [
        "\n",
        "   118  |    0.027700  |    0.028732  |     0.964070  |             |  9.3s"
       ]
      },
      {
       "output_type": "stream",
       "stream": "stdout",
       "text": [
        "\n",
        "   119  |  \u001b[94m  0.027680\u001b[0m  |    0.028755  |     0.962589  |             |  9.4s"
       ]
      },
      {
       "output_type": "stream",
       "stream": "stdout",
       "text": [
        "\n",
        "   120  |  \u001b[94m  0.027662\u001b[0m  |    0.028681  |     0.964477  |             |  9.4s"
       ]
      },
      {
       "output_type": "stream",
       "stream": "stdout",
       "text": [
        "\n",
        "   121  |  \u001b[94m  0.027642\u001b[0m  |    0.028711  |     0.962741  |             |  9.4s"
       ]
      },
      {
       "output_type": "stream",
       "stream": "stdout",
       "text": [
        "\n",
        "   122  |    0.027648  |    0.028687  |     0.963786  |             |  9.4s"
       ]
      },
      {
       "output_type": "stream",
       "stream": "stdout",
       "text": [
        "\n",
        "   123  |  \u001b[94m  0.027602\u001b[0m  |    0.028692  |     0.962025  |             |  9.4s"
       ]
      },
      {
       "output_type": "stream",
       "stream": "stdout",
       "text": [
        "\n",
        "   124  |    0.027609  |    0.028693  |     0.962249  |             |  9.4s"
       ]
      },
      {
       "output_type": "stream",
       "stream": "stdout",
       "text": [
        "\n",
        "   125  |    0.027603  |  \u001b[32m  0.028629\u001b[0m  |     0.964168  |             |  9.4s"
       ]
      },
      {
       "output_type": "stream",
       "stream": "stdout",
       "text": [
        "\n",
        "   126  |  \u001b[94m  0.027601\u001b[0m  |    0.028653  |     0.963295  |             |  9.4s"
       ]
      },
      {
       "output_type": "stream",
       "stream": "stdout",
       "text": [
        "\n",
        "   127  |  \u001b[94m  0.027564\u001b[0m  |  \u001b[32m  0.028569\u001b[0m  |     0.964806  |             |  9.4s"
       ]
      },
      {
       "output_type": "stream",
       "stream": "stdout",
       "text": [
        "\n",
        "   128  |    0.027576  |  \u001b[32m  0.028553\u001b[0m  |     0.965806  |             |  9.4s"
       ]
      },
      {
       "output_type": "stream",
       "stream": "stdout",
       "text": [
        "\n",
        "   129  |  \u001b[94m  0.027534\u001b[0m  |    0.028555  |     0.964262  |             |  9.3s"
       ]
      },
      {
       "output_type": "stream",
       "stream": "stdout",
       "text": [
        "\n",
        "   130  |  \u001b[94m  0.027526\u001b[0m  |    0.028685  |     0.959591  |             |  9.3s"
       ]
      },
      {
       "output_type": "stream",
       "stream": "stdout",
       "text": [
        "\n",
        "   131  |  \u001b[94m  0.027506\u001b[0m  |    0.028606  |     0.961531  |             |  9.4s"
       ]
      },
      {
       "output_type": "stream",
       "stream": "stdout",
       "text": [
        "\n",
        "   132  |  \u001b[94m  0.027485\u001b[0m  |    0.028593  |     0.961252  |             |  9.4s"
       ]
      },
      {
       "output_type": "stream",
       "stream": "stdout",
       "text": [
        "\n",
        "   133  |    0.027496  |  \u001b[32m  0.028517\u001b[0m  |     0.964177  |             |  9.4s"
       ]
      },
      {
       "output_type": "stream",
       "stream": "stdout",
       "text": [
        "\n",
        "   134  |  \u001b[94m  0.027451\u001b[0m  |    0.028534  |     0.962057  |             |  9.3s"
       ]
      },
      {
       "output_type": "stream",
       "stream": "stdout",
       "text": [
        "\n",
        "   135  |    0.027473  |    0.028534  |     0.962838  |             |  9.4s"
       ]
      },
      {
       "output_type": "stream",
       "stream": "stdout",
       "text": [
        "\n",
        "   136  |  \u001b[94m  0.027440\u001b[0m  |    0.028543  |     0.961368  |             |  9.3s"
       ]
      },
      {
       "output_type": "stream",
       "stream": "stdout",
       "text": [
        "\n",
        "   137  |  \u001b[94m  0.027427\u001b[0m  |  \u001b[32m  0.028461\u001b[0m  |     0.963674  |             |  9.4s"
       ]
      },
      {
       "output_type": "stream",
       "stream": "stdout",
       "text": [
        "\n",
        "   138  |  \u001b[94m  0.027408\u001b[0m  |    0.028480  |     0.962356  |             |  9.3s"
       ]
      },
      {
       "output_type": "stream",
       "stream": "stdout",
       "text": [
        "\n",
        "   139  |  \u001b[94m  0.027388\u001b[0m  |    0.028478  |     0.961695  |             |  9.4s"
       ]
      },
      {
       "output_type": "stream",
       "stream": "stdout",
       "text": [
        "\n",
        "   140  |  \u001b[94m  0.027382\u001b[0m  |  \u001b[32m  0.028451\u001b[0m  |     0.962417  |             |  9.4s"
       ]
      },
      {
       "output_type": "stream",
       "stream": "stdout",
       "text": [
        "\n",
        "   141  |  \u001b[94m  0.027358\u001b[0m  |  \u001b[32m  0.028385\u001b[0m  |     0.963827  |             |  9.4s"
       ]
      },
      {
       "output_type": "stream",
       "stream": "stdout",
       "text": [
        "\n",
        "   142  |  \u001b[94m  0.027347\u001b[0m  |    0.028405  |     0.962747  |             |  9.3s"
       ]
      },
      {
       "output_type": "stream",
       "stream": "stdout",
       "text": [
        "\n",
        "   143  |  \u001b[94m  0.027316\u001b[0m  |    0.028396  |     0.961979  |             |  9.4s"
       ]
      },
      {
       "output_type": "stream",
       "stream": "stdout",
       "text": [
        "\n",
        "   144  |  \u001b[94m  0.027295\u001b[0m  |  \u001b[32m  0.028353\u001b[0m  |     0.962663  |             |  9.4s"
       ]
      },
      {
       "output_type": "stream",
       "stream": "stdout",
       "text": [
        "\n",
        "   145  |    0.027314  |    0.028369  |     0.962800  |             |  9.4s"
       ]
      },
      {
       "output_type": "stream",
       "stream": "stdout",
       "text": [
        "\n",
        "   146  |  \u001b[94m  0.027283\u001b[0m  |    0.028356  |     0.962160  |             |  9.4s"
       ]
      },
      {
       "output_type": "stream",
       "stream": "stdout",
       "text": [
        "\n",
        "   147  |  \u001b[94m  0.027263\u001b[0m  |    0.028395  |     0.960127  |             |  9.4s"
       ]
      },
      {
       "output_type": "stream",
       "stream": "stdout",
       "text": [
        "\n",
        "   148  |  \u001b[94m  0.027235\u001b[0m  |  \u001b[32m  0.028313\u001b[0m  |     0.961909  |             |  9.4s"
       ]
      },
      {
       "output_type": "stream",
       "stream": "stdout",
       "text": [
        "\n",
        "   149  |    0.027238  |  \u001b[32m  0.028269\u001b[0m  |     0.963537  |             |  9.4s"
       ]
      },
      {
       "output_type": "stream",
       "stream": "stdout",
       "text": [
        "\n",
        "   150  |  \u001b[94m  0.027228\u001b[0m  |    0.028296  |     0.962235  |             |  9.4s"
       ]
      },
      {
       "output_type": "stream",
       "stream": "stdout",
       "text": [
        "\n",
        "   151  |  \u001b[94m  0.027188\u001b[0m  |  \u001b[32m  0.028210\u001b[0m  |     0.963768  |             |  9.4s"
       ]
      },
      {
       "output_type": "stream",
       "stream": "stdout",
       "text": [
        "\n",
        "   152  |    0.027215  |    0.028242  |     0.963628  |             |  9.4s"
       ]
      },
      {
       "output_type": "stream",
       "stream": "stdout",
       "text": [
        "\n",
        "   153  |  \u001b[94m  0.027171\u001b[0m  |    0.028272  |     0.961081  |             |  9.4s"
       ]
      },
      {
       "output_type": "stream",
       "stream": "stdout",
       "text": [
        "\n",
        "   154  |  \u001b[94m  0.027136\u001b[0m  |  \u001b[32m  0.028140\u001b[0m  |     0.964330  |             |  9.4s"
       ]
      },
      {
       "output_type": "stream",
       "stream": "stdout",
       "text": [
        "\n",
        "   155  |  \u001b[94m  0.027130\u001b[0m  |    0.028174  |     0.962926  |             |  9.4s"
       ]
      },
      {
       "output_type": "stream",
       "stream": "stdout",
       "text": [
        "\n",
        "   156  |  \u001b[94m  0.027122\u001b[0m  |    0.028202  |     0.961710  |             |  9.4s"
       ]
      },
      {
       "output_type": "stream",
       "stream": "stdout",
       "text": [
        "\n",
        "   157  |  \u001b[94m  0.027097\u001b[0m  |  \u001b[32m  0.028125\u001b[0m  |     0.963437  |             |  9.4s"
       ]
      },
      {
       "output_type": "stream",
       "stream": "stdout",
       "text": [
        "\n",
        "   158  |  \u001b[94m  0.027091\u001b[0m  |    0.028156  |     0.962168  |             |  9.4s"
       ]
      },
      {
       "output_type": "stream",
       "stream": "stdout",
       "text": [
        "\n",
        "   159  |  \u001b[94m  0.027072\u001b[0m  |    0.028174  |     0.960903  |             |  9.4s"
       ]
      },
      {
       "output_type": "stream",
       "stream": "stdout",
       "text": [
        "\n",
        "   160  |  \u001b[94m  0.027061\u001b[0m  |  \u001b[32m  0.028053\u001b[0m  |     0.964660  |             |  9.4s"
       ]
      },
      {
       "output_type": "stream",
       "stream": "stdout",
       "text": [
        "\n",
        "   161  |    0.027063  |    0.028067  |     0.964221  |             |  9.4s"
       ]
      },
      {
       "output_type": "stream",
       "stream": "stdout",
       "text": [
        "\n",
        "   162  |  \u001b[94m  0.027019\u001b[0m  |    0.028087  |     0.961971  |             |  9.4s"
       ]
      },
      {
       "output_type": "stream",
       "stream": "stdout",
       "text": [
        "\n",
        "   163  |  \u001b[94m  0.026990\u001b[0m  |    0.028063  |     0.961790  |             |  9.4s"
       ]
      },
      {
       "output_type": "stream",
       "stream": "stdout",
       "text": [
        "\n",
        "   164  |    0.026994  |  \u001b[32m  0.027997\u001b[0m  |     0.964154  |             |  9.4s"
       ]
      },
      {
       "output_type": "stream",
       "stream": "stdout",
       "text": [
        "\n",
        "   165  |  \u001b[94m  0.026962\u001b[0m  |    0.028001  |     0.962910  |             |  9.4s"
       ]
      },
      {
       "output_type": "stream",
       "stream": "stdout",
       "text": [
        "\n",
        "   166  |  \u001b[94m  0.026944\u001b[0m  |  \u001b[32m  0.027967\u001b[0m  |     0.963434  |             |  9.4s"
       ]
      },
      {
       "output_type": "stream",
       "stream": "stdout",
       "text": [
        "\n",
        "   167  |  \u001b[94m  0.026937\u001b[0m  |  \u001b[32m  0.027963\u001b[0m  |     0.963276  |             |  9.4s"
       ]
      },
      {
       "output_type": "stream",
       "stream": "stdout",
       "text": [
        "\n",
        "   168  |  \u001b[94m  0.026929\u001b[0m  |    0.028015  |     0.961262  |             |  9.4s"
       ]
      },
      {
       "output_type": "stream",
       "stream": "stdout",
       "text": [
        "\n",
        "   169  |  \u001b[94m  0.026900\u001b[0m  |  \u001b[32m  0.027921\u001b[0m  |     0.963409  |             |  9.4s"
       ]
      },
      {
       "output_type": "stream",
       "stream": "stdout",
       "text": [
        "\n",
        "   170  |  \u001b[94m  0.026870\u001b[0m  |    0.027925  |     0.962246  |             |  9.4s"
       ]
      },
      {
       "output_type": "stream",
       "stream": "stdout",
       "text": [
        "\n",
        "   171  |  \u001b[94m  0.026868\u001b[0m  |  \u001b[32m  0.027883\u001b[0m  |     0.963576  |             |  9.4s"
       ]
      },
      {
       "output_type": "stream",
       "stream": "stdout",
       "text": [
        "\n",
        "   172  |  \u001b[94m  0.026843\u001b[0m  |  \u001b[32m  0.027879\u001b[0m  |     0.962837  |             |  9.4s"
       ]
      },
      {
       "output_type": "stream",
       "stream": "stdout",
       "text": [
        "\n",
        "   173  |  \u001b[94m  0.026832\u001b[0m  |    0.027893  |     0.961952  |             |  9.4s"
       ]
      },
      {
       "output_type": "stream",
       "stream": "stdout",
       "text": [
        "\n",
        "   174  |  \u001b[94m  0.026780\u001b[0m  |  \u001b[32m  0.027833\u001b[0m  |     0.962147  |             |  9.4s"
       ]
      },
      {
       "output_type": "stream",
       "stream": "stdout",
       "text": [
        "\n",
        "   175  |    0.026781  |  \u001b[32m  0.027758\u001b[0m  |     0.964804  |             |  9.4s"
       ]
      },
      {
       "output_type": "stream",
       "stream": "stdout",
       "text": [
        "\n",
        "   176  |  \u001b[94m  0.026773\u001b[0m  |    0.027830  |     0.962008  |             |  9.4s"
       ]
      },
      {
       "output_type": "stream",
       "stream": "stdout",
       "text": [
        "\n",
        "   177  |  \u001b[94m  0.026767\u001b[0m  |    0.027780  |     0.963524  |             |  9.4s"
       ]
      },
      {
       "output_type": "stream",
       "stream": "stdout",
       "text": [
        "\n",
        "   178  |  \u001b[94m  0.026734\u001b[0m  |  \u001b[32m  0.027682\u001b[0m  |     0.965760  |             |  9.4s"
       ]
      },
      {
       "output_type": "stream",
       "stream": "stdout",
       "text": [
        "\n",
        "   179  |  \u001b[94m  0.026715\u001b[0m  |    0.027779  |     0.961705  |             |  9.4s"
       ]
      },
      {
       "output_type": "stream",
       "stream": "stdout",
       "text": [
        "\n",
        "   180  |  \u001b[94m  0.026678\u001b[0m  |    0.027726  |     0.962202  |             |  9.4s"
       ]
      },
      {
       "output_type": "stream",
       "stream": "stdout",
       "text": [
        "\n",
        "   181  |  \u001b[94m  0.026676\u001b[0m  |  \u001b[32m  0.027648\u001b[0m  |     0.964813  |             |  9.4s"
       ]
      },
      {
       "output_type": "stream",
       "stream": "stdout",
       "text": [
        "\n",
        "   182  |  \u001b[94m  0.026663\u001b[0m  |    0.027693  |     0.962814  |             |  9.4s"
       ]
      },
      {
       "output_type": "stream",
       "stream": "stdout",
       "text": [
        "\n",
        "   183  |  \u001b[94m  0.026655\u001b[0m  |    0.027662  |     0.963580  |             |  9.4s"
       ]
      },
      {
       "output_type": "stream",
       "stream": "stdout",
       "text": [
        "\n",
        "   184  |  \u001b[94m  0.026629\u001b[0m  |  \u001b[32m  0.027620\u001b[0m  |     0.964128  |             |  9.4s"
       ]
      },
      {
       "output_type": "stream",
       "stream": "stdout",
       "text": [
        "\n",
        "   185  |  \u001b[94m  0.026605\u001b[0m  |  \u001b[32m  0.027607\u001b[0m  |     0.963709  |             |  9.4s"
       ]
      },
      {
       "output_type": "stream",
       "stream": "stdout",
       "text": [
        "\n",
        "   186  |  \u001b[94m  0.026591\u001b[0m  |  \u001b[32m  0.027605\u001b[0m  |     0.963290  |             |  9.4s"
       ]
      },
      {
       "output_type": "stream",
       "stream": "stdout",
       "text": [
        "\n",
        "   187  |  \u001b[94m  0.026554\u001b[0m  |  \u001b[32m  0.027465\u001b[0m  |     0.966851  |             |  9.4s"
       ]
      },
      {
       "output_type": "stream",
       "stream": "stdout",
       "text": [
        "\n",
        "   188  |  \u001b[94m  0.026541\u001b[0m  |    0.027563  |     0.962899  |             |  9.4s"
       ]
      },
      {
       "output_type": "stream",
       "stream": "stdout",
       "text": [
        "\n",
        "   189  |  \u001b[94m  0.026534\u001b[0m  |  \u001b[32m  0.027434\u001b[0m  |     0.967171  |             |  9.4s"
       ]
      },
      {
       "output_type": "stream",
       "stream": "stdout",
       "text": [
        "\n",
        "   190  |  \u001b[94m  0.026503\u001b[0m  |    0.027438  |     0.965912  |             |  9.4s"
       ]
      },
      {
       "output_type": "stream",
       "stream": "stdout",
       "text": [
        "\n",
        "   191  |  \u001b[94m  0.026473\u001b[0m  |    0.027439  |     0.964798  |             |  9.4s"
       ]
      },
      {
       "output_type": "stream",
       "stream": "stdout",
       "text": [
        "\n",
        "   192  |  \u001b[94m  0.026469\u001b[0m  |    0.027446  |     0.964415  |             |  9.4s"
       ]
      },
      {
       "output_type": "stream",
       "stream": "stdout",
       "text": [
        "\n",
        "   193  |  \u001b[94m  0.026446\u001b[0m  |  \u001b[32m  0.027352\u001b[0m  |     0.966881  |             |  9.4s"
       ]
      },
      {
       "output_type": "stream",
       "stream": "stdout",
       "text": [
        "\n",
        "   194  |  \u001b[94m  0.026435\u001b[0m  |    0.027400  |     0.964790  |             |  9.4s"
       ]
      },
      {
       "output_type": "stream",
       "stream": "stdout",
       "text": [
        "\n",
        "   195  |  \u001b[94m  0.026398\u001b[0m  |    0.027406  |     0.963227  |             |  9.4s"
       ]
      },
      {
       "output_type": "stream",
       "stream": "stdout",
       "text": [
        "\n",
        "   196  |  \u001b[94m  0.026388\u001b[0m  |    0.027360  |     0.964488  |             |  9.4s"
       ]
      },
      {
       "output_type": "stream",
       "stream": "stdout",
       "text": [
        "\n",
        "   197  |  \u001b[94m  0.026357\u001b[0m  |  \u001b[32m  0.027304\u001b[0m  |     0.965340  |             |  9.4s"
       ]
      },
      {
       "output_type": "stream",
       "stream": "stdout",
       "text": [
        "\n",
        "   198  |  \u001b[94m  0.026313\u001b[0m  |    0.027379  |     0.961064  |             |  9.4s"
       ]
      },
      {
       "output_type": "stream",
       "stream": "stdout",
       "text": [
        "\n",
        "   199  |    0.026327  |    0.027333  |     0.963200  |             |  9.4s"
       ]
      },
      {
       "output_type": "stream",
       "stream": "stdout",
       "text": [
        "\n",
        "   200  |  \u001b[94m  0.026281\u001b[0m  |  \u001b[32m  0.027264\u001b[0m  |     0.963933  |             |  9.4s"
       ]
      },
      {
       "output_type": "stream",
       "stream": "stdout",
       "text": [
        "\n",
        "   201  |    0.026285  |  \u001b[32m  0.027218\u001b[0m  |     0.965701  |             |  9.4s"
       ]
      },
      {
       "output_type": "stream",
       "stream": "stdout",
       "text": [
        "\n",
        "   202  |  \u001b[94m  0.026259\u001b[0m  |  \u001b[32m  0.027182\u001b[0m  |     0.966060  |             |  9.4s"
       ]
      },
      {
       "output_type": "stream",
       "stream": "stdout",
       "text": [
        "\n",
        "   203  |  \u001b[94m  0.026216\u001b[0m  |  \u001b[32m  0.027064\u001b[0m  |     0.968662  |             |  9.4s"
       ]
      },
      {
       "output_type": "stream",
       "stream": "stdout",
       "text": [
        "\n",
        "   204  |  \u001b[94m  0.026207\u001b[0m  |    0.027136  |     0.965759  |             |  9.4s"
       ]
      },
      {
       "output_type": "stream",
       "stream": "stdout",
       "text": [
        "\n",
        "   205  |  \u001b[94m  0.026182\u001b[0m  |  \u001b[32m  0.027019\u001b[0m  |     0.969001  |             |  9.4s"
       ]
      },
      {
       "output_type": "stream",
       "stream": "stdout",
       "text": [
        "\n",
        "   206  |  \u001b[94m  0.026179\u001b[0m  |    0.027066  |     0.967251  |             |  9.4s"
       ]
      },
      {
       "output_type": "stream",
       "stream": "stdout",
       "text": [
        "\n",
        "   207  |  \u001b[94m  0.026139\u001b[0m  |    0.027102  |     0.964477  |             |  9.4s"
       ]
      },
      {
       "output_type": "stream",
       "stream": "stdout",
       "text": [
        "\n",
        "   208  |  \u001b[94m  0.026127\u001b[0m  |    0.027087  |     0.964583  |             |  9.4s"
       ]
      },
      {
       "output_type": "stream",
       "stream": "stdout",
       "text": [
        "\n",
        "   209  |  \u001b[94m  0.026093\u001b[0m  |  \u001b[32m  0.026957\u001b[0m  |     0.967946  |             |  9.4s"
       ]
      },
      {
       "output_type": "stream",
       "stream": "stdout",
       "text": [
        "\n",
        "   210  |  \u001b[94m  0.026085\u001b[0m  |    0.027046  |     0.964462  |             |  9.4s"
       ]
      },
      {
       "output_type": "stream",
       "stream": "stdout",
       "text": [
        "\n",
        "   211  |  \u001b[94m  0.026052\u001b[0m  |  \u001b[32m  0.026906\u001b[0m  |     0.968252  |             |  9.4s"
       ]
      },
      {
       "output_type": "stream",
       "stream": "stdout",
       "text": [
        "\n",
        "   212  |  \u001b[94m  0.026031\u001b[0m  |    0.026942  |     0.966209  |             |  9.4s"
       ]
      },
      {
       "output_type": "stream",
       "stream": "stdout",
       "text": [
        "\n",
        "   213  |  \u001b[94m  0.025974\u001b[0m  |  \u001b[32m  0.026812\u001b[0m  |     0.968760  |             |  9.4s"
       ]
      },
      {
       "output_type": "stream",
       "stream": "stdout",
       "text": [
        "\n",
        "   214  |  \u001b[94m  0.025952\u001b[0m  |    0.026903  |     0.964652  |             |  9.4s"
       ]
      },
      {
       "output_type": "stream",
       "stream": "stdout",
       "text": [
        "\n",
        "   215  |  \u001b[94m  0.025947\u001b[0m  |  \u001b[32m  0.026749\u001b[0m  |     0.970019  |             |  9.4s"
       ]
      },
      {
       "output_type": "stream",
       "stream": "stdout",
       "text": [
        "\n",
        "   216  |  \u001b[94m  0.025937\u001b[0m  |  \u001b[32m  0.026739\u001b[0m  |     0.970008  |             |  9.4s"
       ]
      },
      {
       "output_type": "stream",
       "stream": "stdout",
       "text": [
        "\n",
        "   217  |  \u001b[94m  0.025895\u001b[0m  |    0.026776  |     0.967102  |             |  9.4s"
       ]
      },
      {
       "output_type": "stream",
       "stream": "stdout",
       "text": [
        "\n",
        "   218  |  \u001b[94m  0.025860\u001b[0m  |    0.026762  |     0.966293  |             |  9.4s"
       ]
      },
      {
       "output_type": "stream",
       "stream": "stdout",
       "text": [
        "\n",
        "   219  |    0.025880  |    0.026777  |     0.966510  |             |  9.4s"
       ]
      },
      {
       "output_type": "stream",
       "stream": "stdout",
       "text": [
        "\n",
        "   220  |  \u001b[94m  0.025788\u001b[0m  |  \u001b[32m  0.026548\u001b[0m  |     0.971375  |             |  9.4s"
       ]
      },
      {
       "output_type": "stream",
       "stream": "stdout",
       "text": [
        "\n",
        "   221  |  \u001b[94m  0.025780\u001b[0m  |    0.026680  |     0.966240  |             |  9.4s"
       ]
      },
      {
       "output_type": "stream",
       "stream": "stdout",
       "text": [
        "\n",
        "   222  |  \u001b[94m  0.025763\u001b[0m  |    0.026621  |     0.967785  |             |  9.4s"
       ]
      },
      {
       "output_type": "stream",
       "stream": "stdout",
       "text": [
        "\n",
        "   223  |  \u001b[94m  0.025737\u001b[0m  |    0.026570  |     0.968649  |             |  9.4s"
       ]
      },
      {
       "output_type": "stream",
       "stream": "stdout",
       "text": [
        "\n",
        "   224  |  \u001b[94m  0.025705\u001b[0m  |    0.026561  |     0.967784  |             |  9.4s"
       ]
      },
      {
       "output_type": "stream",
       "stream": "stdout",
       "text": [
        "\n",
        "   225  |  \u001b[94m  0.025693\u001b[0m  |  \u001b[32m  0.026530\u001b[0m  |     0.968469  |             |  9.4s"
       ]
      },
      {
       "output_type": "stream",
       "stream": "stdout",
       "text": [
        "\n",
        "   226  |  \u001b[94m  0.025638\u001b[0m  |  \u001b[32m  0.026512\u001b[0m  |     0.967029  |             |  9.4s"
       ]
      },
      {
       "output_type": "stream",
       "stream": "stdout",
       "text": [
        "\n",
        "   227  |  \u001b[94m  0.025612\u001b[0m  |  \u001b[32m  0.026417\u001b[0m  |     0.969515  |             |  9.4s"
       ]
      },
      {
       "output_type": "stream",
       "stream": "stdout",
       "text": [
        "\n",
        "   228  |  \u001b[94m  0.025609\u001b[0m  |    0.026516  |     0.965791  |             |  9.4s"
       ]
      },
      {
       "output_type": "stream",
       "stream": "stdout",
       "text": [
        "\n",
        "   229  |  \u001b[94m  0.025576\u001b[0m  |  \u001b[32m  0.026409\u001b[0m  |     0.968476  |             |  9.4s"
       ]
      },
      {
       "output_type": "stream",
       "stream": "stdout",
       "text": [
        "\n",
        "   230  |  \u001b[94m  0.025537\u001b[0m  |  \u001b[32m  0.026321\u001b[0m  |     0.970214  |             |  9.4s"
       ]
      },
      {
       "output_type": "stream",
       "stream": "stdout",
       "text": [
        "\n",
        "   231  |  \u001b[94m  0.025498\u001b[0m  |  \u001b[32m  0.026241\u001b[0m  |     0.971685  |             |  9.4s"
       ]
      },
      {
       "output_type": "stream",
       "stream": "stdout",
       "text": [
        "\n",
        "   232  |  \u001b[94m  0.025465\u001b[0m  |    0.026267  |     0.969456  |             |  9.4s"
       ]
      },
      {
       "output_type": "stream",
       "stream": "stdout",
       "text": [
        "\n",
        "   233  |    0.025470  |  \u001b[32m  0.026212\u001b[0m  |     0.971681  |             |  9.4s"
       ]
      },
      {
       "output_type": "stream",
       "stream": "stdout",
       "text": [
        "\n",
        "   234  |  \u001b[94m  0.025435\u001b[0m  |  \u001b[32m  0.026152\u001b[0m  |     0.972547  |             |  9.4s"
       ]
      },
      {
       "output_type": "stream",
       "stream": "stdout",
       "text": [
        "\n",
        "   235  |  \u001b[94m  0.025372\u001b[0m  |  \u001b[32m  0.026055\u001b[0m  |     0.973799  |             |  9.4s"
       ]
      },
      {
       "output_type": "stream",
       "stream": "stdout",
       "text": [
        "\n",
        "   236  |  \u001b[94m  0.025336\u001b[0m  |    0.026108  |     0.970402  |             |  9.4s"
       ]
      },
      {
       "output_type": "stream",
       "stream": "stdout",
       "text": [
        "\n",
        "   237  |    0.025339  |  \u001b[32m  0.026046\u001b[0m  |     0.972876  |             |  9.4s"
       ]
      },
      {
       "output_type": "stream",
       "stream": "stdout",
       "text": [
        "\n",
        "   238  |  \u001b[94m  0.025275\u001b[0m  |  \u001b[32m  0.026015\u001b[0m  |     0.971533  |             |  9.4s"
       ]
      },
      {
       "output_type": "stream",
       "stream": "stdout",
       "text": [
        "\n",
        "   239  |  \u001b[94m  0.025244\u001b[0m  |  \u001b[32m  0.025974\u001b[0m  |     0.971886  |             |  9.4s"
       ]
      },
      {
       "output_type": "stream",
       "stream": "stdout",
       "text": [
        "\n",
        "   240  |  \u001b[94m  0.025239\u001b[0m  |    0.025979  |     0.971522  |             |  9.4s"
       ]
      },
      {
       "output_type": "stream",
       "stream": "stdout",
       "text": [
        "\n",
        "   241  |  \u001b[94m  0.025218\u001b[0m  |    0.026011  |     0.969521  |             |  9.4s"
       ]
      },
      {
       "output_type": "stream",
       "stream": "stdout",
       "text": [
        "\n",
        "   242  |  \u001b[94m  0.025166\u001b[0m  |  \u001b[32m  0.025812\u001b[0m  |     0.974988  |             |  9.4s"
       ]
      },
      {
       "output_type": "stream",
       "stream": "stdout",
       "text": [
        "\n",
        "   243  |  \u001b[94m  0.025137\u001b[0m  |    0.025831  |     0.973142  |             |  9.4s"
       ]
      },
      {
       "output_type": "stream",
       "stream": "stdout",
       "text": [
        "\n",
        "   244  |  \u001b[94m  0.025086\u001b[0m  |  \u001b[32m  0.025762\u001b[0m  |     0.973759  |             |  9.4s"
       ]
      },
      {
       "output_type": "stream",
       "stream": "stdout",
       "text": [
        "\n",
        "   245  |  \u001b[94m  0.025051\u001b[0m  |  \u001b[32m  0.025710\u001b[0m  |     0.974355  |             |  9.4s"
       ]
      },
      {
       "output_type": "stream",
       "stream": "stdout",
       "text": [
        "\n",
        "   246  |  \u001b[94m  0.025016\u001b[0m  |  \u001b[32m  0.025675\u001b[0m  |     0.974326  |             |  9.4s"
       ]
      },
      {
       "output_type": "stream",
       "stream": "stdout",
       "text": [
        "\n",
        "   247  |  \u001b[94m  0.024983\u001b[0m  |  \u001b[32m  0.025624\u001b[0m  |     0.974964  |             |  9.4s"
       ]
      },
      {
       "output_type": "stream",
       "stream": "stdout",
       "text": [
        "\n",
        "   248  |  \u001b[94m  0.024957\u001b[0m  |  \u001b[32m  0.025571\u001b[0m  |     0.976002  |             |  9.4s"
       ]
      },
      {
       "output_type": "stream",
       "stream": "stdout",
       "text": [
        "\n",
        "   249  |  \u001b[94m  0.024923\u001b[0m  |    0.025605  |     0.973356  |             |  9.4s"
       ]
      },
      {
       "output_type": "stream",
       "stream": "stdout",
       "text": [
        "\n",
        "   250  |  \u001b[94m  0.024905\u001b[0m  |  \u001b[32m  0.025459\u001b[0m  |     0.978222  |             |  9.4s"
       ]
      },
      {
       "output_type": "stream",
       "stream": "stdout",
       "text": [
        "\n",
        "   251  |  \u001b[94m  0.024844\u001b[0m  |  \u001b[32m  0.025397\u001b[0m  |     0.978205  |             |  9.4s"
       ]
      },
      {
       "output_type": "stream",
       "stream": "stdout",
       "text": [
        "\n",
        "   252  |  \u001b[94m  0.024827\u001b[0m  |    0.025412  |     0.976979  |             |  9.4s"
       ]
      },
      {
       "output_type": "stream",
       "stream": "stdout",
       "text": [
        "\n",
        "   253  |  \u001b[94m  0.024765\u001b[0m  |  \u001b[32m  0.025390\u001b[0m  |     0.975368  |             |  9.4s"
       ]
      },
      {
       "output_type": "stream",
       "stream": "stdout",
       "text": [
        "\n",
        "   254  |    0.024769  |    0.025421  |     0.974327  |             |  9.4s"
       ]
      },
      {
       "output_type": "stream",
       "stream": "stdout",
       "text": [
        "\n",
        "   255  |  \u001b[94m  0.024721\u001b[0m  |  \u001b[32m  0.025291\u001b[0m  |     0.977452  |             |  9.4s"
       ]
      },
      {
       "output_type": "stream",
       "stream": "stdout",
       "text": [
        "\n",
        "   256  |  \u001b[94m  0.024670\u001b[0m  |  \u001b[32m  0.025109\u001b[0m  |     0.982521  |             |  9.4s"
       ]
      },
      {
       "output_type": "stream",
       "stream": "stdout",
       "text": [
        "\n",
        "   257  |  \u001b[94m  0.024651\u001b[0m  |  \u001b[32m  0.025049\u001b[0m  |     0.984104  |             |  9.4s"
       ]
      },
      {
       "output_type": "stream",
       "stream": "stdout",
       "text": [
        "\n",
        "   258  |  \u001b[94m  0.024574\u001b[0m  |    0.025088  |     0.979540  |             |  9.4s"
       ]
      },
      {
       "output_type": "stream",
       "stream": "stdout",
       "text": [
        "\n",
        "   259  |  \u001b[94m  0.024549\u001b[0m  |    0.025055  |     0.979794  |             |  9.4s"
       ]
      },
      {
       "output_type": "stream",
       "stream": "stdout",
       "text": [
        "\n",
        "   260  |  \u001b[94m  0.024524\u001b[0m  |  \u001b[32m  0.024987\u001b[0m  |     0.981456  |             |  9.4s"
       ]
      },
      {
       "output_type": "stream",
       "stream": "stdout",
       "text": [
        "\n",
        "   261  |  \u001b[94m  0.024492\u001b[0m  |  \u001b[32m  0.024850\u001b[0m  |     0.985618  |             |  9.4s"
       ]
      },
      {
       "output_type": "stream",
       "stream": "stdout",
       "text": [
        "\n",
        "   262  |  \u001b[94m  0.024456\u001b[0m  |    0.024995  |     0.978449  |             |  9.4s"
       ]
      },
      {
       "output_type": "stream",
       "stream": "stdout",
       "text": [
        "\n",
        "   263  |  \u001b[94m  0.024403\u001b[0m  |    0.024945  |     0.978258  |             |  9.4s"
       ]
      },
      {
       "output_type": "stream",
       "stream": "stdout",
       "text": [
        "\n",
        "   264  |  \u001b[94m  0.024370\u001b[0m  |  \u001b[32m  0.024747\u001b[0m  |     0.984789  |             |  9.4s"
       ]
      },
      {
       "output_type": "stream",
       "stream": "stdout",
       "text": [
        "\n",
        "   265  |  \u001b[94m  0.024322\u001b[0m  |  \u001b[32m  0.024675\u001b[0m  |     0.985706  |             |  9.4s"
       ]
      },
      {
       "output_type": "stream",
       "stream": "stdout",
       "text": [
        "\n",
        "   266  |  \u001b[94m  0.024289\u001b[0m  |  \u001b[32m  0.024644\u001b[0m  |     0.985608  |             |  9.4s"
       ]
      },
      {
       "output_type": "stream",
       "stream": "stdout",
       "text": [
        "\n",
        "   267  |  \u001b[94m  0.024232\u001b[0m  |  \u001b[32m  0.024576\u001b[0m  |     0.985988  |             |  9.4s"
       ]
      },
      {
       "output_type": "stream",
       "stream": "stdout",
       "text": [
        "\n",
        "   268  |  \u001b[94m  0.024183\u001b[0m  |    0.024655  |     0.980868  |             |  9.4s"
       ]
      },
      {
       "output_type": "stream",
       "stream": "stdout",
       "text": [
        "\n",
        "   269  |  \u001b[94m  0.024173\u001b[0m  |  \u001b[32m  0.024497\u001b[0m  |     0.986787  |             |  9.4s"
       ]
      },
      {
       "output_type": "stream",
       "stream": "stdout",
       "text": [
        "\n",
        "   270  |  \u001b[94m  0.024147\u001b[0m  |  \u001b[32m  0.024451\u001b[0m  |     0.987556  |             |  9.4s"
       ]
      },
      {
       "output_type": "stream",
       "stream": "stdout",
       "text": [
        "\n",
        "   271  |  \u001b[94m  0.024109\u001b[0m  |    0.024533  |     0.982715  |             |  9.4s"
       ]
      },
      {
       "output_type": "stream",
       "stream": "stdout",
       "text": [
        "\n",
        "   272  |  \u001b[94m  0.024095\u001b[0m  |  \u001b[32m  0.024446\u001b[0m  |     0.985657  |             |  9.4s"
       ]
      },
      {
       "output_type": "stream",
       "stream": "stdout",
       "text": [
        "\n",
        "   273  |  \u001b[94m  0.024018\u001b[0m  |  \u001b[32m  0.024294\u001b[0m  |     0.988643  |             |  9.4s"
       ]
      },
      {
       "output_type": "stream",
       "stream": "stdout",
       "text": [
        "\n",
        "   274  |  \u001b[94m  0.023981\u001b[0m  |    0.024367  |     0.984170  |             |  9.4s"
       ]
      },
      {
       "output_type": "stream",
       "stream": "stdout",
       "text": [
        "\n",
        "   275  |  \u001b[94m  0.023902\u001b[0m  |    0.024305  |     0.983432  |             |  9.4s"
       ]
      },
      {
       "output_type": "stream",
       "stream": "stdout",
       "text": [
        "\n",
        "   276  |    0.023910  |  \u001b[32m  0.024049\u001b[0m  |     0.994224  |             |  9.4s"
       ]
      },
      {
       "output_type": "stream",
       "stream": "stdout",
       "text": [
        "\n",
        "   277  |  \u001b[94m  0.023834\u001b[0m  |  \u001b[32m  0.024041\u001b[0m  |     0.991410  |             |  9.4s"
       ]
      },
      {
       "output_type": "stream",
       "stream": "stdout",
       "text": [
        "\n",
        "   278  |  \u001b[94m  0.023812\u001b[0m  |    0.024067  |     0.989380  |             |  9.4s"
       ]
      },
      {
       "output_type": "stream",
       "stream": "stdout",
       "text": [
        "\n",
        "   279  |  \u001b[94m  0.023788\u001b[0m  |  \u001b[32m  0.023936\u001b[0m  |     0.993797  |             |  9.4s"
       ]
      },
      {
       "output_type": "stream",
       "stream": "stdout",
       "text": [
        "\n",
        "   280  |  \u001b[94m  0.023731\u001b[0m  |    0.023952  |     0.990795  |             |  9.4s"
       ]
      },
      {
       "output_type": "stream",
       "stream": "stdout",
       "text": [
        "\n",
        "   281  |  \u001b[94m  0.023661\u001b[0m  |  \u001b[32m  0.023832\u001b[0m  |     0.992793  |             |  9.4s"
       ]
      },
      {
       "output_type": "stream",
       "stream": "stdout",
       "text": [
        "\n",
        "   282  |  \u001b[94m  0.023649\u001b[0m  |  \u001b[32m  0.023822\u001b[0m  |     0.992750  |             |  9.4s"
       ]
      },
      {
       "output_type": "stream",
       "stream": "stdout",
       "text": [
        "\n",
        "   283  |  \u001b[94m  0.023577\u001b[0m  |  \u001b[32m  0.023764\u001b[0m  |     0.992125  |             |  9.4s"
       ]
      },
      {
       "output_type": "stream",
       "stream": "stdout",
       "text": [
        "\n",
        "   284  |  \u001b[94m  0.023565\u001b[0m  |  \u001b[32m  0.023630\u001b[0m  |     0.997233  |             |  9.4s"
       ]
      },
      {
       "output_type": "stream",
       "stream": "stdout",
       "text": [
        "\n",
        "   285  |  \u001b[94m  0.023535\u001b[0m  |    0.023700  |     0.993054  |             |  9.4s"
       ]
      },
      {
       "output_type": "stream",
       "stream": "stdout",
       "text": [
        "\n",
        "   286  |  \u001b[94m  0.023479\u001b[0m  |  \u001b[32m  0.023605\u001b[0m  |     0.994653  |             |  9.4s"
       ]
      },
      {
       "output_type": "stream",
       "stream": "stdout",
       "text": [
        "\n",
        "   287  |  \u001b[94m  0.023456\u001b[0m  |  \u001b[32m  0.023521\u001b[0m  |     0.997198  |             |  9.4s"
       ]
      },
      {
       "output_type": "stream",
       "stream": "stdout",
       "text": [
        "\n",
        "   288  |  \u001b[94m  0.023414\u001b[0m  |  \u001b[32m  0.023482\u001b[0m  |     0.997118  |             |  9.4s"
       ]
      },
      {
       "output_type": "stream",
       "stream": "stdout",
       "text": [
        "\n",
        "   289  |  \u001b[94m  0.023379\u001b[0m  |  \u001b[32m  0.023375\u001b[0m  |     1.000164  |             |  9.4s"
       ]
      },
      {
       "output_type": "stream",
       "stream": "stdout",
       "text": [
        "\n",
        "   290  |  \u001b[94m  0.023336\u001b[0m  |  \u001b[32m  0.023290\u001b[0m  |     1.001978  |             |  9.4s"
       ]
      },
      {
       "output_type": "stream",
       "stream": "stdout",
       "text": [
        "\n",
        "   291  |    0.023340  |    0.023433  |     0.996049  |             |  9.4s"
       ]
      },
      {
       "output_type": "stream",
       "stream": "stdout",
       "text": [
        "\n",
        "   292  |  \u001b[94m  0.023232\u001b[0m  |  \u001b[32m  0.023233\u001b[0m  |     0.999975  |             |  9.4s"
       ]
      },
      {
       "output_type": "stream",
       "stream": "stdout",
       "text": [
        "\n",
        "   293  |  \u001b[94m  0.023193\u001b[0m  |  \u001b[32m  0.023225\u001b[0m  |     0.998619  |             |  9.4s"
       ]
      },
      {
       "output_type": "stream",
       "stream": "stdout",
       "text": [
        "\n",
        "   294  |    0.023202  |  \u001b[32m  0.023161\u001b[0m  |     1.001761  |             |  9.4s"
       ]
      },
      {
       "output_type": "stream",
       "stream": "stdout",
       "text": [
        "\n",
        "   295  |  \u001b[94m  0.023124\u001b[0m  |    0.023198  |     0.996806  |             |  9.4s"
       ]
      },
      {
       "output_type": "stream",
       "stream": "stdout",
       "text": [
        "\n",
        "   296  |  \u001b[94m  0.023096\u001b[0m  |  \u001b[32m  0.022980\u001b[0m  |     1.005048  |             |  9.4s"
       ]
      },
      {
       "output_type": "stream",
       "stream": "stdout",
       "text": [
        "\n",
        "   297  |    0.023108  |  \u001b[32m  0.022954\u001b[0m  |     1.006705  |             |  9.4s"
       ]
      },
      {
       "output_type": "stream",
       "stream": "stdout",
       "text": [
        "\n",
        "   298  |  \u001b[94m  0.023023\u001b[0m  |  \u001b[32m  0.022939\u001b[0m  |     1.003675  |             |  9.4s"
       ]
      },
      {
       "output_type": "stream",
       "stream": "stdout",
       "text": [
        "\n",
        "   299  |  \u001b[94m  0.022963\u001b[0m  |  \u001b[32m  0.022929\u001b[0m  |     1.001495  |             |  9.4s"
       ]
      },
      {
       "output_type": "stream",
       "stream": "stdout",
       "text": [
        "\n",
        "   300  |  \u001b[94m  0.022934\u001b[0m  |  \u001b[32m  0.022859\u001b[0m  |     1.003279  |             |  9.4s"
       ]
      },
      {
       "output_type": "stream",
       "stream": "stdout",
       "text": [
        "\n",
        "   301  |  \u001b[94m  0.022910\u001b[0m  |  \u001b[32m  0.022724\u001b[0m  |     1.008211  |             |  9.4s"
       ]
      },
      {
       "output_type": "stream",
       "stream": "stdout",
       "text": [
        "\n",
        "   302  |  \u001b[94m  0.022851\u001b[0m  |  \u001b[32m  0.022600\u001b[0m  |     1.011131  |             |  9.4s"
       ]
      },
      {
       "output_type": "stream",
       "stream": "stdout",
       "text": [
        "\n",
        "   303  |    0.022865  |    0.022827  |     1.001663  |             |  9.4s"
       ]
      },
      {
       "output_type": "stream",
       "stream": "stdout",
       "text": [
        "\n",
        "   304  |  \u001b[94m  0.022779\u001b[0m  |  \u001b[32m  0.022560\u001b[0m  |     1.009723  |             |  9.4s"
       ]
      },
      {
       "output_type": "stream",
       "stream": "stdout",
       "text": [
        "\n",
        "   305  |  \u001b[94m  0.022746\u001b[0m  |    0.022628  |     1.005223  |             |  9.4s"
       ]
      },
      {
       "output_type": "stream",
       "stream": "stdout",
       "text": [
        "\n",
        "   306  |  \u001b[94m  0.022679\u001b[0m  |  \u001b[32m  0.022436\u001b[0m  |     1.010808  |             |  9.4s"
       ]
      },
      {
       "output_type": "stream",
       "stream": "stdout",
       "text": [
        "\n",
        "   307  |  \u001b[94m  0.022654\u001b[0m  |    0.022444  |     1.009354  |             |  9.4s"
       ]
      },
      {
       "output_type": "stream",
       "stream": "stdout",
       "text": [
        "\n",
        "   308  |  \u001b[94m  0.022631\u001b[0m  |  \u001b[32m  0.022294\u001b[0m  |     1.015123  |             |  9.4s"
       ]
      },
      {
       "output_type": "stream",
       "stream": "stdout",
       "text": [
        "\n",
        "   309  |  \u001b[94m  0.022565\u001b[0m  |  \u001b[32m  0.022261\u001b[0m  |     1.013658  |             |  9.4s"
       ]
      },
      {
       "output_type": "stream",
       "stream": "stdout",
       "text": [
        "\n",
        "   310  |  \u001b[94m  0.022559\u001b[0m  |    0.022321  |     1.010653  |             |  9.4s"
       ]
      },
      {
       "output_type": "stream",
       "stream": "stdout",
       "text": [
        "\n",
        "   311  |  \u001b[94m  0.022517\u001b[0m  |  \u001b[32m  0.022218\u001b[0m  |     1.013485  |             |  9.4s"
       ]
      },
      {
       "output_type": "stream",
       "stream": "stdout",
       "text": [
        "\n",
        "   312  |  \u001b[94m  0.022448\u001b[0m  |  \u001b[32m  0.022092\u001b[0m  |     1.016125  |             |  9.4s"
       ]
      },
      {
       "output_type": "stream",
       "stream": "stdout",
       "text": [
        "\n",
        "   313  |  \u001b[94m  0.022441\u001b[0m  |  \u001b[32m  0.021980\u001b[0m  |     1.020942  |             |  9.4s"
       ]
      },
      {
       "output_type": "stream",
       "stream": "stdout",
       "text": [
        "\n",
        "   314  |  \u001b[94m  0.022382\u001b[0m  |    0.022012  |     1.016816  |             |  9.4s"
       ]
      },
      {
       "output_type": "stream",
       "stream": "stdout",
       "text": [
        "\n",
        "   315  |  \u001b[94m  0.022328\u001b[0m  |    0.021988  |     1.015463  |             |  9.4s"
       ]
      },
      {
       "output_type": "stream",
       "stream": "stdout",
       "text": [
        "\n",
        "   316  |  \u001b[94m  0.022315\u001b[0m  |  \u001b[32m  0.021912\u001b[0m  |     1.018369  |             |  9.4s"
       ]
      },
      {
       "output_type": "stream",
       "stream": "stdout",
       "text": [
        "\n",
        "   317  |  \u001b[94m  0.022258\u001b[0m  |  \u001b[32m  0.021912\u001b[0m  |     1.015788  |             |  9.4s"
       ]
      },
      {
       "output_type": "stream",
       "stream": "stdout",
       "text": [
        "\n",
        "   318  |  \u001b[94m  0.022189\u001b[0m  |  \u001b[32m  0.021850\u001b[0m  |     1.015535  |             |  9.4s"
       ]
      },
      {
       "output_type": "stream",
       "stream": "stdout",
       "text": [
        "\n",
        "   319  |    0.022212  |  \u001b[32m  0.021770\u001b[0m  |     1.020343  |             |  9.4s"
       ]
      },
      {
       "output_type": "stream",
       "stream": "stdout",
       "text": [
        "\n",
        "   320  |  \u001b[94m  0.022130\u001b[0m  |  \u001b[32m  0.021641\u001b[0m  |     1.022595  |             |  9.4s"
       ]
      },
      {
       "output_type": "stream",
       "stream": "stdout",
       "text": [
        "\n",
        "   321  |  \u001b[94m  0.022092\u001b[0m  |    0.021663  |     1.019784  |             |  9.4s"
       ]
      },
      {
       "output_type": "stream",
       "stream": "stdout",
       "text": [
        "\n",
        "   322  |  \u001b[94m  0.022023\u001b[0m  |  \u001b[32m  0.021485\u001b[0m  |     1.025009  |             |  9.4s"
       ]
      },
      {
       "output_type": "stream",
       "stream": "stdout",
       "text": [
        "\n",
        "   323  |  \u001b[94m  0.022006\u001b[0m  |    0.021515  |     1.022831  |             |  9.4s"
       ]
      },
      {
       "output_type": "stream",
       "stream": "stdout",
       "text": [
        "\n",
        "   324  |  \u001b[94m  0.021953\u001b[0m  |  \u001b[32m  0.021437\u001b[0m  |     1.024082  |             |  9.4s"
       ]
      },
      {
       "output_type": "stream",
       "stream": "stdout",
       "text": [
        "\n",
        "   325  |  \u001b[94m  0.021921\u001b[0m  |  \u001b[32m  0.021351\u001b[0m  |     1.026699  |             |  9.4s"
       ]
      },
      {
       "output_type": "stream",
       "stream": "stdout",
       "text": [
        "\n",
        "   326  |  \u001b[94m  0.021868\u001b[0m  |  \u001b[32m  0.021227\u001b[0m  |     1.030195  |             |  9.4s"
       ]
      },
      {
       "output_type": "stream",
       "stream": "stdout",
       "text": [
        "\n",
        "   327  |  \u001b[94m  0.021849\u001b[0m  |    0.021331  |     1.024281  |             |  9.4s"
       ]
      },
      {
       "output_type": "stream",
       "stream": "stdout",
       "text": [
        "\n",
        "   328  |  \u001b[94m  0.021790\u001b[0m  |  \u001b[32m  0.021104\u001b[0m  |     1.032527  |             |  9.4s"
       ]
      },
      {
       "output_type": "stream",
       "stream": "stdout",
       "text": [
        "\n",
        "   329  |  \u001b[94m  0.021756\u001b[0m  |    0.021141  |     1.029085  |             |  9.4s"
       ]
      },
      {
       "output_type": "stream",
       "stream": "stdout",
       "text": [
        "\n",
        "   330  |  \u001b[94m  0.021687\u001b[0m  |  \u001b[32m  0.021065\u001b[0m  |     1.029527  |             |  9.4s"
       ]
      },
      {
       "output_type": "stream",
       "stream": "stdout",
       "text": [
        "\n",
        "   331  |  \u001b[94m  0.021683\u001b[0m  |    0.021097  |     1.027779  |             |  9.4s"
       ]
      },
      {
       "output_type": "stream",
       "stream": "stdout",
       "text": [
        "\n",
        "   332  |  \u001b[94m  0.021604\u001b[0m  |  \u001b[32m  0.020889\u001b[0m  |     1.034209  |             |  9.4s"
       ]
      },
      {
       "output_type": "stream",
       "stream": "stdout",
       "text": [
        "\n",
        "   333  |  \u001b[94m  0.021586\u001b[0m  |    0.020977  |     1.029072  |             |  9.4s"
       ]
      },
      {
       "output_type": "stream",
       "stream": "stdout",
       "text": [
        "\n",
        "   334  |  \u001b[94m  0.021534\u001b[0m  |    0.020914  |     1.029656  |             |  9.4s"
       ]
      },
      {
       "output_type": "stream",
       "stream": "stdout",
       "text": [
        "\n",
        "   335  |  \u001b[94m  0.021494\u001b[0m  |  \u001b[32m  0.020854\u001b[0m  |     1.030675  |             |  9.4s"
       ]
      },
      {
       "output_type": "stream",
       "stream": "stdout",
       "text": [
        "\n",
        "   336  |  \u001b[94m  0.021450\u001b[0m  |    0.020884  |     1.027089  |             |  9.4s"
       ]
      },
      {
       "output_type": "stream",
       "stream": "stdout",
       "text": [
        "\n",
        "   337  |  \u001b[94m  0.021435\u001b[0m  |  \u001b[32m  0.020665\u001b[0m  |     1.037247  |             |  9.4s"
       ]
      },
      {
       "output_type": "stream",
       "stream": "stdout",
       "text": [
        "\n",
        "   338  |  \u001b[94m  0.021346\u001b[0m  |  \u001b[32m  0.020626\u001b[0m  |     1.034940  |             |  9.4s"
       ]
      },
      {
       "output_type": "stream",
       "stream": "stdout",
       "text": [
        "\n",
        "   339  |  \u001b[94m  0.021332\u001b[0m  |  \u001b[32m  0.020523\u001b[0m  |     1.039435  |             |  9.4s"
       ]
      },
      {
       "output_type": "stream",
       "stream": "stdout",
       "text": [
        "\n",
        "   340  |  \u001b[94m  0.021269\u001b[0m  |  \u001b[32m  0.020439\u001b[0m  |     1.040645  |             |  9.4s"
       ]
      },
      {
       "output_type": "stream",
       "stream": "stdout",
       "text": [
        "\n",
        "   341  |  \u001b[94m  0.021240\u001b[0m  |    0.020495  |     1.036364  |             |  9.4s"
       ]
      },
      {
       "output_type": "stream",
       "stream": "stdout",
       "text": [
        "\n",
        "   342  |  \u001b[94m  0.021204\u001b[0m  |  \u001b[32m  0.020355\u001b[0m  |     1.041698  |             |  9.4s"
       ]
      },
      {
       "output_type": "stream",
       "stream": "stdout",
       "text": [
        "\n",
        "   343  |  \u001b[94m  0.021166\u001b[0m  |  \u001b[32m  0.020297\u001b[0m  |     1.042841  |             |  9.4s"
       ]
      },
      {
       "output_type": "stream",
       "stream": "stdout",
       "text": [
        "\n",
        "   344  |  \u001b[94m  0.021119\u001b[0m  |  \u001b[32m  0.020265\u001b[0m  |     1.042101  |             |  9.4s"
       ]
      },
      {
       "output_type": "stream",
       "stream": "stdout",
       "text": [
        "\n",
        "   345  |  \u001b[94m  0.021083\u001b[0m  |  \u001b[32m  0.020094\u001b[0m  |     1.049238  |             |  9.4s"
       ]
      },
      {
       "output_type": "stream",
       "stream": "stdout",
       "text": [
        "\n",
        "   346  |  \u001b[94m  0.021039\u001b[0m  |    0.020344  |     1.034127  |             |  9.4s"
       ]
      },
      {
       "output_type": "stream",
       "stream": "stdout",
       "text": [
        "\n",
        "   347  |  \u001b[94m  0.020921\u001b[0m  |  \u001b[32m  0.020076\u001b[0m  |     1.042116  |             |  9.4s"
       ]
      },
      {
       "output_type": "stream",
       "stream": "stdout",
       "text": [
        "\n",
        "   348  |    0.020965  |  \u001b[32m  0.020070\u001b[0m  |     1.044557  |             |  9.4s"
       ]
      },
      {
       "output_type": "stream",
       "stream": "stdout",
       "text": [
        "\n",
        "   349  |  \u001b[94m  0.020911\u001b[0m  |  \u001b[32m  0.019985\u001b[0m  |     1.046335  |             |  9.4s"
       ]
      },
      {
       "output_type": "stream",
       "stream": "stdout",
       "text": [
        "\n",
        "   350  |  \u001b[94m  0.020852\u001b[0m  |  \u001b[32m  0.019919\u001b[0m  |     1.046847  |             |  9.4s"
       ]
      },
      {
       "output_type": "stream",
       "stream": "stdout",
       "text": [
        "\n",
        "   351  |  \u001b[94m  0.020797\u001b[0m  |  \u001b[32m  0.019842\u001b[0m  |     1.048141  |             |  9.4s"
       ]
      },
      {
       "output_type": "stream",
       "stream": "stdout",
       "text": [
        "\n",
        "   352  |  \u001b[94m  0.020751\u001b[0m  |    0.019861  |     1.044796  |             |  9.4s"
       ]
      },
      {
       "output_type": "stream",
       "stream": "stdout",
       "text": [
        "\n",
        "   353  |  \u001b[94m  0.020715\u001b[0m  |  \u001b[32m  0.019701\u001b[0m  |     1.051474  |             |  9.4s"
       ]
      },
      {
       "output_type": "stream",
       "stream": "stdout",
       "text": [
        "\n",
        "   354  |    0.020717  |  \u001b[32m  0.019619\u001b[0m  |     1.055991  |             |  9.4s"
       ]
      },
      {
       "output_type": "stream",
       "stream": "stdout",
       "text": [
        "\n",
        "   355  |  \u001b[94m  0.020625\u001b[0m  |  \u001b[32m  0.019590\u001b[0m  |     1.052809  |             |  9.4s"
       ]
      },
      {
       "output_type": "stream",
       "stream": "stdout",
       "text": [
        "\n",
        "   356  |  \u001b[94m  0.020593\u001b[0m  |    0.019614  |     1.049925  |             |  9.4s"
       ]
      },
      {
       "output_type": "stream",
       "stream": "stdout",
       "text": [
        "\n",
        "   357  |  \u001b[94m  0.020568\u001b[0m  |  \u001b[32m  0.019528\u001b[0m  |     1.053241  |             |  9.4s"
       ]
      },
      {
       "output_type": "stream",
       "stream": "stdout",
       "text": [
        "\n",
        "   358  |  \u001b[94m  0.020448\u001b[0m  |  \u001b[32m  0.019511\u001b[0m  |     1.048026  |             |  9.4s"
       ]
      },
      {
       "output_type": "stream",
       "stream": "stdout",
       "text": [
        "\n",
        "   359  |  \u001b[94m  0.020444\u001b[0m  |  \u001b[32m  0.019187\u001b[0m  |     1.065506  |             |  9.4s"
       ]
      },
      {
       "output_type": "stream",
       "stream": "stdout",
       "text": [
        "\n",
        "   360  |  \u001b[94m  0.020410\u001b[0m  |    0.019221  |     1.061874  |             |  9.4s"
       ]
      },
      {
       "output_type": "stream",
       "stream": "stdout",
       "text": [
        "\n",
        "   361  |  \u001b[94m  0.020287\u001b[0m  |    0.019234  |     1.054771  |             |  9.4s"
       ]
      },
      {
       "output_type": "stream",
       "stream": "stdout",
       "text": [
        "\n",
        "   362  |  \u001b[94m  0.020269\u001b[0m  |    0.019286  |     1.050993  |             |  9.4s"
       ]
      },
      {
       "output_type": "stream",
       "stream": "stdout",
       "text": [
        "\n",
        "   363  |  \u001b[94m  0.020257\u001b[0m  |  \u001b[32m  0.019129\u001b[0m  |     1.059004  |             |  9.4s"
       ]
      },
      {
       "output_type": "stream",
       "stream": "stdout",
       "text": [
        "\n",
        "   364  |  \u001b[94m  0.020253\u001b[0m  |  \u001b[32m  0.019024\u001b[0m  |     1.064623  |             |  9.4s"
       ]
      },
      {
       "output_type": "stream",
       "stream": "stdout",
       "text": [
        "\n",
        "   365  |  \u001b[94m  0.020188\u001b[0m  |  \u001b[32m  0.019001\u001b[0m  |     1.062472  |             |  9.4s"
       ]
      },
      {
       "output_type": "stream",
       "stream": "stdout",
       "text": [
        "\n",
        "   366  |  \u001b[94m  0.020046\u001b[0m  |  \u001b[32m  0.018966\u001b[0m  |     1.056943  |             |  9.4s"
       ]
      },
      {
       "output_type": "stream",
       "stream": "stdout",
       "text": [
        "\n",
        "   367  |    0.020079  |    0.018982  |     1.057765  |             |  9.4s"
       ]
      },
      {
       "output_type": "stream",
       "stream": "stdout",
       "text": [
        "\n",
        "   368  |  \u001b[94m  0.020041\u001b[0m  |  \u001b[32m  0.018841\u001b[0m  |     1.063690  |             |  9.4s"
       ]
      },
      {
       "output_type": "stream",
       "stream": "stdout",
       "text": [
        "\n",
        "   369  |  \u001b[94m  0.020031\u001b[0m  |  \u001b[32m  0.018764\u001b[0m  |     1.067504  |             |  9.4s"
       ]
      },
      {
       "output_type": "stream",
       "stream": "stdout",
       "text": [
        "\n",
        "   370  |  \u001b[94m  0.019953\u001b[0m  |    0.018766  |     1.063287  |             |  9.4s"
       ]
      },
      {
       "output_type": "stream",
       "stream": "stdout",
       "text": [
        "\n",
        "   371  |    0.019958  |    0.018948  |     1.053255  |             |  9.4s"
       ]
      },
      {
       "output_type": "stream",
       "stream": "stdout",
       "text": [
        "\n",
        "   372  |  \u001b[94m  0.019898\u001b[0m  |  \u001b[32m  0.018654\u001b[0m  |     1.066703  |             |  9.4s"
       ]
      },
      {
       "output_type": "stream",
       "stream": "stdout",
       "text": [
        "\n",
        "   373  |  \u001b[94m  0.019841\u001b[0m  |  \u001b[32m  0.018538\u001b[0m  |     1.070303  |             |  9.4s"
       ]
      },
      {
       "output_type": "stream",
       "stream": "stdout",
       "text": [
        "\n",
        "   374  |  \u001b[94m  0.019769\u001b[0m  |  \u001b[32m  0.018463\u001b[0m  |     1.070697  |             |  9.4s"
       ]
      },
      {
       "output_type": "stream",
       "stream": "stdout",
       "text": [
        "\n",
        "   375  |  \u001b[94m  0.019764\u001b[0m  |  \u001b[32m  0.018414\u001b[0m  |     1.073338  |             |  9.4s"
       ]
      },
      {
       "output_type": "stream",
       "stream": "stdout",
       "text": [
        "\n",
        "   376  |  \u001b[94m  0.019712\u001b[0m  |    0.018451  |     1.068328  |             |  9.4s"
       ]
      },
      {
       "output_type": "stream",
       "stream": "stdout",
       "text": [
        "\n",
        "   377  |  \u001b[94m  0.019656\u001b[0m  |  \u001b[32m  0.018256\u001b[0m  |     1.076701  |             |  9.4s"
       ]
      },
      {
       "output_type": "stream",
       "stream": "stdout",
       "text": [
        "\n",
        "   378  |  \u001b[94m  0.019617\u001b[0m  |  \u001b[32m  0.018237\u001b[0m  |     1.075682  |             |  9.4s"
       ]
      },
      {
       "output_type": "stream",
       "stream": "stdout",
       "text": [
        "\n",
        "   379  |  \u001b[94m  0.019552\u001b[0m  |  \u001b[32m  0.018157\u001b[0m  |     1.076841  |             |  9.4s"
       ]
      },
      {
       "output_type": "stream",
       "stream": "stdout",
       "text": [
        "\n",
        "   380  |    0.019570  |  \u001b[32m  0.018129\u001b[0m  |     1.079530  |             |  9.4s"
       ]
      },
      {
       "output_type": "stream",
       "stream": "stdout",
       "text": [
        "\n",
        "   381  |  \u001b[94m  0.019485\u001b[0m  |  \u001b[32m  0.017987\u001b[0m  |     1.083281  |             |  9.4s"
       ]
      },
      {
       "output_type": "stream",
       "stream": "stdout",
       "text": [
        "\n",
        "   382  |  \u001b[94m  0.019422\u001b[0m  |  \u001b[32m  0.017955\u001b[0m  |     1.081707  |             |  9.4s"
       ]
      },
      {
       "output_type": "stream",
       "stream": "stdout",
       "text": [
        "\n",
        "   383  |  \u001b[94m  0.019366\u001b[0m  |    0.017996  |     1.076127  |             |  9.4s"
       ]
      },
      {
       "output_type": "stream",
       "stream": "stdout",
       "text": [
        "\n",
        "   384  |  \u001b[94m  0.019280\u001b[0m  |  \u001b[32m  0.017840\u001b[0m  |     1.080700  |             |  9.4s"
       ]
      },
      {
       "output_type": "stream",
       "stream": "stdout",
       "text": [
        "\n",
        "   385  |    0.019307  |  \u001b[32m  0.017710\u001b[0m  |     1.090203  |             |  9.4s"
       ]
      },
      {
       "output_type": "stream",
       "stream": "stdout",
       "text": [
        "\n",
        "   386  |  \u001b[94m  0.019186\u001b[0m  |    0.017789  |     1.078566  |             |  9.4s"
       ]
      },
      {
       "output_type": "stream",
       "stream": "stdout",
       "text": [
        "\n",
        "   387  |  \u001b[94m  0.019164\u001b[0m  |    0.017887  |     1.071386  |             |  9.4s"
       ]
      },
      {
       "output_type": "stream",
       "stream": "stdout",
       "text": [
        "\n",
        "   388  |  \u001b[94m  0.019141\u001b[0m  |  \u001b[32m  0.017627\u001b[0m  |     1.085875  |             |  9.4s"
       ]
      },
      {
       "output_type": "stream",
       "stream": "stdout",
       "text": [
        "\n",
        "   389  |  \u001b[94m  0.019113\u001b[0m  |  \u001b[32m  0.017482\u001b[0m  |     1.093310  |             |  9.4s"
       ]
      },
      {
       "output_type": "stream",
       "stream": "stdout",
       "text": [
        "\n",
        "   390  |  \u001b[94m  0.019083\u001b[0m  |    0.017555  |     1.087026  |             |  9.4s"
       ]
      },
      {
       "output_type": "stream",
       "stream": "stdout",
       "text": [
        "\n",
        "   391  |  \u001b[94m  0.018983\u001b[0m  |    0.017504  |     1.084456  |             |  9.4s"
       ]
      },
      {
       "output_type": "stream",
       "stream": "stdout",
       "text": [
        "\n",
        "   392  |  \u001b[94m  0.018951\u001b[0m  |    0.017529  |     1.081117  |             |  9.4s"
       ]
      },
      {
       "output_type": "stream",
       "stream": "stdout",
       "text": [
        "\n",
        "   393  |  \u001b[94m  0.018884\u001b[0m  |  \u001b[32m  0.017304\u001b[0m  |     1.091273  |             |  9.4s"
       ]
      },
      {
       "output_type": "stream",
       "stream": "stdout",
       "text": [
        "\n",
        "   394  |    0.018894  |    0.017349  |     1.089006  |             |  9.4s"
       ]
      },
      {
       "output_type": "stream",
       "stream": "stdout",
       "text": [
        "\n",
        "   395  |  \u001b[94m  0.018824\u001b[0m  |  \u001b[32m  0.017228\u001b[0m  |     1.092685  |             |  9.4s"
       ]
      },
      {
       "output_type": "stream",
       "stream": "stdout",
       "text": [
        "\n",
        "   396  |  \u001b[94m  0.018811\u001b[0m  |  \u001b[32m  0.017199\u001b[0m  |     1.093764  |             |  9.4s"
       ]
      },
      {
       "output_type": "stream",
       "stream": "stdout",
       "text": [
        "\n",
        "   397  |  \u001b[94m  0.018734\u001b[0m  |    0.017245  |     1.086313  |             |  9.4s"
       ]
      },
      {
       "output_type": "stream",
       "stream": "stdout",
       "text": [
        "\n",
        "   398  |  \u001b[94m  0.018705\u001b[0m  |  \u001b[32m  0.016962\u001b[0m  |     1.102795  |             |  9.4s"
       ]
      },
      {
       "output_type": "stream",
       "stream": "stdout",
       "text": [
        "\n",
        "   399  |  \u001b[94m  0.018608\u001b[0m  |    0.017066  |     1.090335  |             |  9.4s"
       ]
      },
      {
       "output_type": "stream",
       "stream": "stdout",
       "text": [
        "\n",
        "   400  |  \u001b[94m  0.018585\u001b[0m  |  \u001b[32m  0.016832\u001b[0m  |     1.104169  |             |  9.4s"
       ]
      },
      {
       "output_type": "stream",
       "stream": "stdout",
       "text": [
        "\n",
        "   401  |  \u001b[94m  0.018505\u001b[0m  |    0.016957  |     1.091293  |             |  9.4s"
       ]
      },
      {
       "output_type": "stream",
       "stream": "stdout",
       "text": [
        "\n",
        "   402  |  \u001b[94m  0.018462\u001b[0m  |  \u001b[32m  0.016754\u001b[0m  |     1.101919  |             |  9.4s"
       ]
      },
      {
       "output_type": "stream",
       "stream": "stdout",
       "text": [
        "\n",
        "   403  |    0.018506  |    0.016889  |     1.095751  |             |  9.4s"
       ]
      },
      {
       "output_type": "stream",
       "stream": "stdout",
       "text": [
        "\n",
        "   404  |  \u001b[94m  0.018380\u001b[0m  |    0.016810  |     1.093420  |             |  9.4s"
       ]
      },
      {
       "output_type": "stream",
       "stream": "stdout",
       "text": [
        "\n",
        "   405  |    0.018410  |  \u001b[32m  0.016700\u001b[0m  |     1.102381  |             |  9.4s"
       ]
      },
      {
       "output_type": "stream",
       "stream": "stdout",
       "text": [
        "\n",
        "   406  |  \u001b[94m  0.018313\u001b[0m  |  \u001b[32m  0.016558\u001b[0m  |     1.106022  |             |  9.4s"
       ]
      },
      {
       "output_type": "stream",
       "stream": "stdout",
       "text": [
        "\n",
        "   407  |  \u001b[94m  0.018280\u001b[0m  |    0.016588  |     1.102010  |             |  9.4s"
       ]
      },
      {
       "output_type": "stream",
       "stream": "stdout",
       "text": [
        "\n",
        "   408  |  \u001b[94m  0.018265\u001b[0m  |  \u001b[32m  0.016468\u001b[0m  |     1.109115  |             |  9.4s"
       ]
      },
      {
       "output_type": "stream",
       "stream": "stdout",
       "text": [
        "\n",
        "   409  |  \u001b[94m  0.018197\u001b[0m  |  \u001b[32m  0.016334\u001b[0m  |     1.114041  |             |  9.4s"
       ]
      },
      {
       "output_type": "stream",
       "stream": "stdout",
       "text": [
        "\n",
        "   410  |  \u001b[94m  0.018178\u001b[0m  |    0.016448  |     1.105159  |             |  9.4s"
       ]
      },
      {
       "output_type": "stream",
       "stream": "stdout",
       "text": [
        "\n",
        "   411  |  \u001b[94m  0.018098\u001b[0m  |    0.016335  |     1.107973  |             |  9.4s"
       ]
      },
      {
       "output_type": "stream",
       "stream": "stdout",
       "text": [
        "\n",
        "   412  |  \u001b[94m  0.018071\u001b[0m  |    0.016355  |     1.104910  |             |  9.4s"
       ]
      },
      {
       "output_type": "stream",
       "stream": "stdout",
       "text": [
        "\n",
        "   413  |  \u001b[94m  0.018039\u001b[0m  |  \u001b[32m  0.016190\u001b[0m  |     1.114175  |             |  9.4s"
       ]
      },
      {
       "output_type": "stream",
       "stream": "stdout",
       "text": [
        "\n",
        "   414  |  \u001b[94m  0.018015\u001b[0m  |    0.016254  |     1.108356  |             |  9.4s"
       ]
      },
      {
       "output_type": "stream",
       "stream": "stdout",
       "text": [
        "\n",
        "   415  |  \u001b[94m  0.018007\u001b[0m  |    0.016256  |     1.107745  |             |  9.4s"
       ]
      },
      {
       "output_type": "stream",
       "stream": "stdout",
       "text": [
        "\n",
        "   416  |  \u001b[94m  0.017855\u001b[0m  |  \u001b[32m  0.016075\u001b[0m  |     1.110722  |             |  9.4s"
       ]
      },
      {
       "output_type": "stream",
       "stream": "stdout",
       "text": [
        "\n",
        "   417  |  \u001b[94m  0.017846\u001b[0m  |  \u001b[32m  0.016015\u001b[0m  |     1.114347  |             |  9.4s"
       ]
      },
      {
       "output_type": "stream",
       "stream": "stdout",
       "text": [
        "\n",
        "   418  |    0.017908  |  \u001b[32m  0.015951\u001b[0m  |     1.122707  |             |  9.4s"
       ]
      },
      {
       "output_type": "stream",
       "stream": "stdout",
       "text": [
        "\n",
        "   419  |  \u001b[94m  0.017791\u001b[0m  |    0.015982  |     1.113221  |             |  9.4s"
       ]
      },
      {
       "output_type": "stream",
       "stream": "stdout",
       "text": [
        "\n",
        "   420  |    0.017798  |  \u001b[32m  0.015852\u001b[0m  |     1.122712  |             |  9.4s"
       ]
      },
      {
       "output_type": "stream",
       "stream": "stdout",
       "text": [
        "\n",
        "   421  |  \u001b[94m  0.017760\u001b[0m  |    0.015854  |     1.120201  |             |  9.4s"
       ]
      },
      {
       "output_type": "stream",
       "stream": "stdout",
       "text": [
        "\n",
        "   422  |  \u001b[94m  0.017706\u001b[0m  |    0.015865  |     1.116053  |             |  9.4s"
       ]
      },
      {
       "output_type": "stream",
       "stream": "stdout",
       "text": [
        "\n",
        "   423  |  \u001b[94m  0.017658\u001b[0m  |  \u001b[32m  0.015710\u001b[0m  |     1.123980  |             |  9.4s"
       ]
      },
      {
       "output_type": "stream",
       "stream": "stdout",
       "text": [
        "\n",
        "   424  |  \u001b[94m  0.017638\u001b[0m  |    0.015756  |     1.119470  |             |  9.4s"
       ]
      },
      {
       "output_type": "stream",
       "stream": "stdout",
       "text": [
        "\n",
        "   425  |  \u001b[94m  0.017600\u001b[0m  |  \u001b[32m  0.015636\u001b[0m  |     1.125658  |             |  9.4s"
       ]
      },
      {
       "output_type": "stream",
       "stream": "stdout",
       "text": [
        "\n",
        "   426  |  \u001b[94m  0.017570\u001b[0m  |  \u001b[32m  0.015506\u001b[0m  |     1.133134  |             |  9.4s"
       ]
      },
      {
       "output_type": "stream",
       "stream": "stdout",
       "text": [
        "\n",
        "   427  |  \u001b[94m  0.017523\u001b[0m  |  \u001b[32m  0.015478\u001b[0m  |     1.132162  |             |  9.4s"
       ]
      },
      {
       "output_type": "stream",
       "stream": "stdout",
       "text": [
        "\n",
        "   428  |    0.017542  |    0.015502  |     1.131607  |             |  9.4s"
       ]
      },
      {
       "output_type": "stream",
       "stream": "stdout",
       "text": [
        "\n",
        "   429  |  \u001b[94m  0.017459\u001b[0m  |  \u001b[32m  0.015403\u001b[0m  |     1.133474  |             |  9.4s"
       ]
      },
      {
       "output_type": "stream",
       "stream": "stdout",
       "text": [
        "\n",
        "   430  |  \u001b[94m  0.017375\u001b[0m  |    0.015434  |     1.125778  |             |  9.4s"
       ]
      },
      {
       "output_type": "stream",
       "stream": "stdout",
       "text": [
        "\n",
        "   431  |    0.017380  |  \u001b[32m  0.015341\u001b[0m  |     1.132853  |             |  9.4s"
       ]
      },
      {
       "output_type": "stream",
       "stream": "stdout",
       "text": [
        "\n",
        "   432  |  \u001b[94m  0.017330\u001b[0m  |    0.015482  |     1.119372  |             |  9.4s"
       ]
      },
      {
       "output_type": "stream",
       "stream": "stdout",
       "text": [
        "\n",
        "   433  |  \u001b[94m  0.017287\u001b[0m  |  \u001b[32m  0.015316\u001b[0m  |     1.128674  |             |  9.4s"
       ]
      },
      {
       "output_type": "stream",
       "stream": "stdout",
       "text": [
        "\n",
        "   434  |  \u001b[94m  0.017257\u001b[0m  |  \u001b[32m  0.015198\u001b[0m  |     1.135498  |             |  9.4s"
       ]
      },
      {
       "output_type": "stream",
       "stream": "stdout",
       "text": [
        "\n",
        "   435  |  \u001b[94m  0.017192\u001b[0m  |  \u001b[32m  0.015098\u001b[0m  |     1.138671  |             |  9.4s"
       ]
      },
      {
       "output_type": "stream",
       "stream": "stdout",
       "text": [
        "\n",
        "   436  |  \u001b[94m  0.017157\u001b[0m  |    0.015166  |     1.131239  |             |  9.4s"
       ]
      },
      {
       "output_type": "stream",
       "stream": "stdout",
       "text": [
        "\n",
        "   437  |  \u001b[94m  0.017151\u001b[0m  |    0.015188  |     1.129277  |             |  9.4s"
       ]
      },
      {
       "output_type": "stream",
       "stream": "stdout",
       "text": [
        "\n",
        "   438  |  \u001b[94m  0.017105\u001b[0m  |    0.015153  |     1.128837  |             |  9.4s"
       ]
      },
      {
       "output_type": "stream",
       "stream": "stdout",
       "text": [
        "\n",
        "   439  |  \u001b[94m  0.017078\u001b[0m  |  \u001b[32m  0.015001\u001b[0m  |     1.138476  |             |  9.4s"
       ]
      },
      {
       "output_type": "stream",
       "stream": "stdout",
       "text": [
        "\n",
        "   440  |  \u001b[94m  0.017010\u001b[0m  |  \u001b[32m  0.014978\u001b[0m  |     1.135695  |             |  9.4s"
       ]
      },
      {
       "output_type": "stream",
       "stream": "stdout",
       "text": [
        "\n",
        "   441  |  \u001b[94m  0.016998\u001b[0m  |  \u001b[32m  0.014953\u001b[0m  |     1.136771  |             |  9.4s"
       ]
      },
      {
       "output_type": "stream",
       "stream": "stdout",
       "text": [
        "\n",
        "   442  |  \u001b[94m  0.016927\u001b[0m  |  \u001b[32m  0.014860\u001b[0m  |     1.139055  |             |  9.4s"
       ]
      },
      {
       "output_type": "stream",
       "stream": "stdout",
       "text": [
        "\n",
        "   443  |    0.017013  |    0.014866  |     1.144419  |             |  9.4s"
       ]
      },
      {
       "output_type": "stream",
       "stream": "stdout",
       "text": [
        "\n",
        "   444  |  \u001b[94m  0.016867\u001b[0m  |  \u001b[32m  0.014770\u001b[0m  |     1.141999  |             |  9.4s"
       ]
      },
      {
       "output_type": "stream",
       "stream": "stdout",
       "text": [
        "\n",
        "   445  |  \u001b[94m  0.016857\u001b[0m  |  \u001b[32m  0.014645\u001b[0m  |     1.151003  |             |  9.4s"
       ]
      },
      {
       "output_type": "stream",
       "stream": "stdout",
       "text": [
        "\n",
        "   446  |  \u001b[94m  0.016855\u001b[0m  |    0.014656  |     1.150062  |             |  9.4s"
       ]
      },
      {
       "output_type": "stream",
       "stream": "stdout",
       "text": [
        "\n",
        "   447  |  \u001b[94m  0.016733\u001b[0m  |    0.014688  |     1.139189  |             |  9.4s"
       ]
      },
      {
       "output_type": "stream",
       "stream": "stdout",
       "text": [
        "\n",
        "   448  |    0.016829  |  \u001b[32m  0.014524\u001b[0m  |     1.158714  |             |  9.4s"
       ]
      },
      {
       "output_type": "stream",
       "stream": "stdout",
       "text": [
        "\n",
        "   449  |    0.016733  |    0.014547  |     1.150284  |             |  9.4s"
       ]
      },
      {
       "output_type": "stream",
       "stream": "stdout",
       "text": [
        "\n",
        "   450  |  \u001b[94m  0.016669\u001b[0m  |    0.014635  |     1.138966  |             |  9.4s"
       ]
      },
      {
       "output_type": "stream",
       "stream": "stdout",
       "text": [
        "\n",
        "   451  |  \u001b[94m  0.016578\u001b[0m  |    0.014530  |     1.140915  |             |  9.4s"
       ]
      },
      {
       "output_type": "stream",
       "stream": "stdout",
       "text": [
        "\n",
        "   452  |    0.016596  |  \u001b[32m  0.014468\u001b[0m  |     1.147063  |             |  9.4s"
       ]
      },
      {
       "output_type": "stream",
       "stream": "stdout",
       "text": [
        "\n",
        "   453  |  \u001b[94m  0.016577\u001b[0m  |    0.014492  |     1.143878  |             |  9.4s"
       ]
      },
      {
       "output_type": "stream",
       "stream": "stdout",
       "text": [
        "\n",
        "   454  |    0.016582  |  \u001b[32m  0.014385\u001b[0m  |     1.152746  |             |  9.4s"
       ]
      },
      {
       "output_type": "stream",
       "stream": "stdout",
       "text": [
        "\n",
        "   455  |  \u001b[94m  0.016478\u001b[0m  |  \u001b[32m  0.014305\u001b[0m  |     1.151977  |             |  9.4s"
       ]
      },
      {
       "output_type": "stream",
       "stream": "stdout",
       "text": [
        "\n",
        "   456  |    0.016508  |    0.014362  |     1.149435  |             |  9.4s"
       ]
      },
      {
       "output_type": "stream",
       "stream": "stdout",
       "text": [
        "\n",
        "   457  |  \u001b[94m  0.016442\u001b[0m  |  \u001b[32m  0.014262\u001b[0m  |     1.152890  |             |  9.4s"
       ]
      },
      {
       "output_type": "stream",
       "stream": "stdout",
       "text": [
        "\n",
        "   458  |  \u001b[94m  0.016369\u001b[0m  |  \u001b[32m  0.014224\u001b[0m  |     1.150841  |             |  9.4s"
       ]
      },
      {
       "output_type": "stream",
       "stream": "stdout",
       "text": [
        "\n",
        "   459  |    0.016403  |  \u001b[32m  0.014204\u001b[0m  |     1.154866  |             |  9.4s"
       ]
      },
      {
       "output_type": "stream",
       "stream": "stdout",
       "text": [
        "\n",
        "   460  |  \u001b[94m  0.016364\u001b[0m  |  \u001b[32m  0.014130\u001b[0m  |     1.158107  |             |  9.4s"
       ]
      },
      {
       "output_type": "stream",
       "stream": "stdout",
       "text": [
        "\n",
        "   461  |  \u001b[94m  0.016248\u001b[0m  |  \u001b[32m  0.013986\u001b[0m  |     1.161739  |             |  9.4s"
       ]
      },
      {
       "output_type": "stream",
       "stream": "stdout",
       "text": [
        "\n",
        "   462  |    0.016249  |    0.014036  |     1.157640  |             |  9.4s"
       ]
      },
      {
       "output_type": "stream",
       "stream": "stdout",
       "text": [
        "\n",
        "   463  |  \u001b[94m  0.016235\u001b[0m  |    0.014093  |     1.151979  |             |  9.4s"
       ]
      },
      {
       "output_type": "stream",
       "stream": "stdout",
       "text": [
        "\n",
        "   464  |  \u001b[94m  0.016201\u001b[0m  |    0.014024  |     1.155218  |             |  9.4s"
       ]
      },
      {
       "output_type": "stream",
       "stream": "stdout",
       "text": [
        "\n",
        "   465  |    0.016226  |    0.014060  |     1.154105  |             |  9.4s"
       ]
      },
      {
       "output_type": "stream",
       "stream": "stdout",
       "text": [
        "\n",
        "   466  |  \u001b[94m  0.016147\u001b[0m  |  \u001b[32m  0.013940\u001b[0m  |     1.158385  |             |  9.4s"
       ]
      },
      {
       "output_type": "stream",
       "stream": "stdout",
       "text": [
        "\n",
        "   467  |  \u001b[94m  0.016126\u001b[0m  |  \u001b[32m  0.013861\u001b[0m  |     1.163395  |             |  9.4s"
       ]
      },
      {
       "output_type": "stream",
       "stream": "stdout",
       "text": [
        "\n",
        "   468  |  \u001b[94m  0.016080\u001b[0m  |    0.013945  |     1.153141  |             |  9.4s"
       ]
      },
      {
       "output_type": "stream",
       "stream": "stdout",
       "text": [
        "\n",
        "   469  |  \u001b[94m  0.016059\u001b[0m  |    0.013870  |     1.157778  |             |  9.4s"
       ]
      },
      {
       "output_type": "stream",
       "stream": "stdout",
       "text": [
        "\n",
        "   470  |  \u001b[94m  0.016023\u001b[0m  |    0.013915  |     1.151460  |             |  9.4s"
       ]
      },
      {
       "output_type": "stream",
       "stream": "stdout",
       "text": [
        "\n",
        "   471  |  \u001b[94m  0.015950\u001b[0m  |  \u001b[32m  0.013692\u001b[0m  |     1.164875  |             |  9.4s"
       ]
      },
      {
       "output_type": "stream",
       "stream": "stdout",
       "text": [
        "\n",
        "   472  |  \u001b[94m  0.015947\u001b[0m  |    0.013731  |     1.161363  |             |  9.4s"
       ]
      },
      {
       "output_type": "stream",
       "stream": "stdout",
       "text": [
        "\n",
        "   473  |    0.015968  |    0.013710  |     1.164678  |             |  9.4s"
       ]
      },
      {
       "output_type": "stream",
       "stream": "stdout",
       "text": [
        "\n",
        "   474  |    0.016025  |  \u001b[32m  0.013624\u001b[0m  |     1.176206  |             |  9.4s"
       ]
      },
      {
       "output_type": "stream",
       "stream": "stdout",
       "text": [
        "\n",
        "   475  |  \u001b[94m  0.015899\u001b[0m  |    0.013670  |     1.163052  |             |  9.4s"
       ]
      },
      {
       "output_type": "stream",
       "stream": "stdout",
       "text": [
        "\n",
        "   476  |  \u001b[94m  0.015886\u001b[0m  |    0.013649  |     1.163896  |             |  9.4s"
       ]
      },
      {
       "output_type": "stream",
       "stream": "stdout",
       "text": [
        "\n",
        "   477  |  \u001b[94m  0.015820\u001b[0m  |    0.013637  |     1.160095  |             |  9.4s"
       ]
      },
      {
       "output_type": "stream",
       "stream": "stdout",
       "text": [
        "\n",
        "   478  |  \u001b[94m  0.015736\u001b[0m  |  \u001b[32m  0.013403\u001b[0m  |     1.174090  |             |  9.4s"
       ]
      },
      {
       "output_type": "stream",
       "stream": "stdout",
       "text": [
        "\n",
        "   479  |    0.015789  |    0.013455  |     1.173497  |             |  9.4s"
       ]
      },
      {
       "output_type": "stream",
       "stream": "stdout",
       "text": [
        "\n",
        "   480  |  \u001b[94m  0.015732\u001b[0m  |    0.013455  |     1.169225  |             |  9.4s"
       ]
      },
      {
       "output_type": "stream",
       "stream": "stdout",
       "text": [
        "\n",
        "   481  |  \u001b[94m  0.015699\u001b[0m  |    0.013461  |     1.166276  |             |  9.4s"
       ]
      },
      {
       "output_type": "stream",
       "stream": "stdout",
       "text": [
        "\n",
        "   482  |  \u001b[94m  0.015634\u001b[0m  |  \u001b[32m  0.013323\u001b[0m  |     1.173475  |             |  9.4s"
       ]
      },
      {
       "output_type": "stream",
       "stream": "stdout",
       "text": [
        "\n",
        "   483  |    0.015665  |  \u001b[32m  0.013306\u001b[0m  |     1.177253  |             |  9.4s"
       ]
      },
      {
       "output_type": "stream",
       "stream": "stdout",
       "text": [
        "\n",
        "   484  |  \u001b[94m  0.015611\u001b[0m  |    0.013400  |     1.164956  |             |  9.4s"
       ]
      },
      {
       "output_type": "stream",
       "stream": "stdout",
       "text": [
        "\n",
        "   485  |  \u001b[94m  0.015561\u001b[0m  |  \u001b[32m  0.013275\u001b[0m  |     1.172192  |             |  9.4s"
       ]
      },
      {
       "output_type": "stream",
       "stream": "stdout",
       "text": [
        "\n",
        "   486  |  \u001b[94m  0.015516\u001b[0m  |  \u001b[32m  0.013257\u001b[0m  |     1.170395  |             |  9.4s"
       ]
      },
      {
       "output_type": "stream",
       "stream": "stdout",
       "text": [
        "\n",
        "   487  |    0.015519  |    0.013282  |     1.168360  |             |  9.4s"
       ]
      },
      {
       "output_type": "stream",
       "stream": "stdout",
       "text": [
        "\n",
        "   488  |  \u001b[94m  0.015502\u001b[0m  |  \u001b[32m  0.013210\u001b[0m  |     1.173449  |             |  9.4s"
       ]
      },
      {
       "output_type": "stream",
       "stream": "stdout",
       "text": [
        "\n",
        "   489  |  \u001b[94m  0.015419\u001b[0m  |  \u001b[32m  0.013164\u001b[0m  |     1.171293  |             |  9.4s"
       ]
      },
      {
       "output_type": "stream",
       "stream": "stdout",
       "text": [
        "\n",
        "   490  |    0.015479  |    0.013214  |     1.171350  |             |  9.4s"
       ]
      },
      {
       "output_type": "stream",
       "stream": "stdout",
       "text": [
        "\n",
        "   491  |    0.015451  |  \u001b[32m  0.013131\u001b[0m  |     1.176705  |             |  9.4s"
       ]
      },
      {
       "output_type": "stream",
       "stream": "stdout",
       "text": [
        "\n",
        "   492  |  \u001b[94m  0.015398\u001b[0m  |    0.013156  |     1.170461  |             |  9.4s"
       ]
      },
      {
       "output_type": "stream",
       "stream": "stdout",
       "text": [
        "\n",
        "   493  |    0.015409  |  \u001b[32m  0.013103\u001b[0m  |     1.175932  |             |  9.4s"
       ]
      },
      {
       "output_type": "stream",
       "stream": "stdout",
       "text": [
        "\n",
        "   494  |  \u001b[94m  0.015346\u001b[0m  |  \u001b[32m  0.013028\u001b[0m  |     1.177937  |             |  9.4s"
       ]
      },
      {
       "output_type": "stream",
       "stream": "stdout",
       "text": [
        "\n",
        "   495  |    0.015347  |  \u001b[32m  0.012983\u001b[0m  |     1.182092  |             |  9.4s"
       ]
      },
      {
       "output_type": "stream",
       "stream": "stdout",
       "text": [
        "\n",
        "   496  |  \u001b[94m  0.015251\u001b[0m  |  \u001b[32m  0.012964\u001b[0m  |     1.176379  |             |  9.4s"
       ]
      },
      {
       "output_type": "stream",
       "stream": "stdout",
       "text": [
        "\n",
        "   497  |  \u001b[94m  0.015224\u001b[0m  |  \u001b[32m  0.012911\u001b[0m  |     1.179122  |             |  9.4s"
       ]
      },
      {
       "output_type": "stream",
       "stream": "stdout",
       "text": [
        "\n",
        "   498  |    0.015274  |    0.012921  |     1.182082  |             |  9.4s"
       ]
      },
      {
       "output_type": "stream",
       "stream": "stdout",
       "text": [
        "\n",
        "   499  |    0.015225  |    0.012935  |     1.177016  |             |  9.4s"
       ]
      },
      {
       "output_type": "stream",
       "stream": "stdout",
       "text": [
        "\n",
        "   500  |  \u001b[94m  0.015184\u001b[0m  |    0.013024  |     1.165902  |             |  9.4s"
       ]
      },
      {
       "output_type": "stream",
       "stream": "stdout",
       "text": [
        "\n",
        "   501  |  \u001b[94m  0.015140\u001b[0m  |    0.012918  |     1.172022  |             |  9.4s"
       ]
      },
      {
       "output_type": "stream",
       "stream": "stdout",
       "text": [
        "\n",
        "   502  |  \u001b[94m  0.015135\u001b[0m  |    0.012933  |     1.170308  |             |  9.4s"
       ]
      },
      {
       "output_type": "stream",
       "stream": "stdout",
       "text": [
        "\n",
        "   503  |  \u001b[94m  0.015038\u001b[0m  |  \u001b[32m  0.012856\u001b[0m  |     1.169774  |             |  9.4s"
       ]
      },
      {
       "output_type": "stream",
       "stream": "stdout",
       "text": [
        "\n",
        "   504  |  \u001b[94m  0.015032\u001b[0m  |  \u001b[32m  0.012713\u001b[0m  |     1.182332  |             |  9.4s"
       ]
      },
      {
       "output_type": "stream",
       "stream": "stdout",
       "text": [
        "\n",
        "   505  |    0.015096  |    0.012845  |     1.175269  |             |  9.4s"
       ]
      },
      {
       "output_type": "stream",
       "stream": "stdout",
       "text": [
        "\n",
        "   506  |    0.015038  |  \u001b[32m  0.012698\u001b[0m  |     1.184261  |             |  9.4s"
       ]
      },
      {
       "output_type": "stream",
       "stream": "stdout",
       "text": [
        "\n",
        "   507  |  \u001b[94m  0.015026\u001b[0m  |    0.012764  |     1.177227  |             |  9.4s"
       ]
      },
      {
       "output_type": "stream",
       "stream": "stdout",
       "text": [
        "\n",
        "   508  |  \u001b[94m  0.014889\u001b[0m  |  \u001b[32m  0.012573\u001b[0m  |     1.184191  |             |  9.4s"
       ]
      },
      {
       "output_type": "stream",
       "stream": "stdout",
       "text": [
        "\n",
        "   509  |    0.014977  |    0.012651  |     1.183894  |             |  9.4s"
       ]
      },
      {
       "output_type": "stream",
       "stream": "stdout",
       "text": [
        "\n",
        "   510  |    0.014968  |    0.012679  |     1.180586  |             |  9.4s"
       ]
      },
      {
       "output_type": "stream",
       "stream": "stdout",
       "text": [
        "\n",
        "   511  |  \u001b[94m  0.014879\u001b[0m  |    0.012661  |     1.175220  |             |  9.4s"
       ]
      },
      {
       "output_type": "stream",
       "stream": "stdout",
       "text": [
        "\n",
        "   512  |    0.014937  |    0.012605  |     1.184952  |             |  9.4s"
       ]
      },
      {
       "output_type": "stream",
       "stream": "stdout",
       "text": [
        "\n",
        "   513  |  \u001b[94m  0.014810\u001b[0m  |  \u001b[32m  0.012531\u001b[0m  |     1.181927  |             |  9.4s"
       ]
      },
      {
       "output_type": "stream",
       "stream": "stdout",
       "text": [
        "\n",
        "   514  |  \u001b[94m  0.014769\u001b[0m  |  \u001b[32m  0.012455\u001b[0m  |     1.185754  |             |  9.4s"
       ]
      },
      {
       "output_type": "stream",
       "stream": "stdout",
       "text": [
        "\n",
        "   515  |    0.014799  |  \u001b[32m  0.012445\u001b[0m  |     1.189199  |             |  9.4s"
       ]
      },
      {
       "output_type": "stream",
       "stream": "stdout",
       "text": [
        "\n",
        "   516  |  \u001b[94m  0.014746\u001b[0m  |    0.012531  |     1.176790  |             |  9.4s"
       ]
      },
      {
       "output_type": "stream",
       "stream": "stdout",
       "text": [
        "\n",
        "   517  |  \u001b[94m  0.014732\u001b[0m  |    0.012464  |     1.181895  |             |  9.4s"
       ]
      },
      {
       "output_type": "stream",
       "stream": "stdout",
       "text": [
        "\n",
        "   518  |  \u001b[94m  0.014715\u001b[0m  |  \u001b[32m  0.012409\u001b[0m  |     1.185833  |             |  9.4s"
       ]
      },
      {
       "output_type": "stream",
       "stream": "stdout",
       "text": [
        "\n",
        "   519  |    0.014743  |    0.012449  |     1.184244  |             |  9.4s"
       ]
      },
      {
       "output_type": "stream",
       "stream": "stdout",
       "text": [
        "\n",
        "   520  |  \u001b[94m  0.014627\u001b[0m  |  \u001b[32m  0.012340\u001b[0m  |     1.185295  |             |  9.4s"
       ]
      },
      {
       "output_type": "stream",
       "stream": "stdout",
       "text": [
        "\n",
        "   521  |    0.014661  |  \u001b[32m  0.012340\u001b[0m  |     1.188075  |             |  9.4s"
       ]
      },
      {
       "output_type": "stream",
       "stream": "stdout",
       "text": [
        "\n",
        "   522  |    0.014648  |  \u001b[32m  0.012327\u001b[0m  |     1.188290  |             |  9.4s"
       ]
      },
      {
       "output_type": "stream",
       "stream": "stdout",
       "text": [
        "\n",
        "   523  |  \u001b[94m  0.014607\u001b[0m  |  \u001b[32m  0.012244\u001b[0m  |     1.193062  |             |  9.4s"
       ]
      },
      {
       "output_type": "stream",
       "stream": "stdout",
       "text": [
        "\n",
        "   524  |  \u001b[94m  0.014555\u001b[0m  |    0.012356  |     1.177945  |             |  9.4s"
       ]
      },
      {
       "output_type": "stream",
       "stream": "stdout",
       "text": [
        "\n",
        "   525  |  \u001b[94m  0.014539\u001b[0m  |    0.012332  |     1.178992  |             |  9.4s"
       ]
      },
      {
       "output_type": "stream",
       "stream": "stdout",
       "text": [
        "\n",
        "   526  |    0.014543  |    0.012345  |     1.178056  |             |  9.4s"
       ]
      },
      {
       "output_type": "stream",
       "stream": "stdout",
       "text": [
        "\n",
        "   527  |  \u001b[94m  0.014442\u001b[0m  |  \u001b[32m  0.012156\u001b[0m  |     1.188115  |             |  9.4s"
       ]
      },
      {
       "output_type": "stream",
       "stream": "stdout",
       "text": [
        "\n",
        "   528  |    0.014537  |    0.012234  |     1.188226  |             |  9.4s"
       ]
      },
      {
       "output_type": "stream",
       "stream": "stdout",
       "text": [
        "\n",
        "   529  |  \u001b[94m  0.014417\u001b[0m  |  \u001b[32m  0.012131\u001b[0m  |     1.188439  |             |  9.4s"
       ]
      },
      {
       "output_type": "stream",
       "stream": "stdout",
       "text": [
        "\n",
        "   530  |  \u001b[94m  0.014384\u001b[0m  |    0.012170  |     1.181916  |             |  9.4s"
       ]
      },
      {
       "output_type": "stream",
       "stream": "stdout",
       "text": [
        "\n",
        "   531  |    0.014387  |    0.012137  |     1.185346  |             |  9.4s"
       ]
      },
      {
       "output_type": "stream",
       "stream": "stdout",
       "text": [
        "\n",
        "   532  |  \u001b[94m  0.014360\u001b[0m  |    0.012191  |     1.177976  |             |  9.4s"
       ]
      },
      {
       "output_type": "stream",
       "stream": "stdout",
       "text": [
        "\n",
        "   533  |  \u001b[94m  0.014343\u001b[0m  |  \u001b[32m  0.012114\u001b[0m  |     1.184019  |             |  9.4s"
       ]
      },
      {
       "output_type": "stream",
       "stream": "stdout",
       "text": [
        "\n",
        "   534  |    0.014394  |    0.012242  |     1.175835  |             |  9.4s"
       ]
      },
      {
       "output_type": "stream",
       "stream": "stdout",
       "text": [
        "\n",
        "   535  |    0.014374  |  \u001b[32m  0.012059\u001b[0m  |     1.191993  |             |  9.4s"
       ]
      },
      {
       "output_type": "stream",
       "stream": "stdout",
       "text": [
        "\n",
        "   536  |  \u001b[94m  0.014339\u001b[0m  |  \u001b[32m  0.012054\u001b[0m  |     1.189526  |             |  9.4s"
       ]
      },
      {
       "output_type": "stream",
       "stream": "stdout",
       "text": [
        "\n",
        "   537  |  \u001b[94m  0.014313\u001b[0m  |    0.012055  |     1.187267  |             |  9.4s"
       ]
      },
      {
       "output_type": "stream",
       "stream": "stdout",
       "text": [
        "\n",
        "   538  |  \u001b[94m  0.014200\u001b[0m  |    0.012062  |     1.177252  |             |  9.4s"
       ]
      },
      {
       "output_type": "stream",
       "stream": "stdout",
       "text": [
        "\n",
        "   539  |    0.014290  |  \u001b[32m  0.011927\u001b[0m  |     1.198147  |             |  9.4s"
       ]
      },
      {
       "output_type": "stream",
       "stream": "stdout",
       "text": [
        "\n",
        "   540  |    0.014235  |    0.011990  |     1.187226  |             |  9.4s"
       ]
      },
      {
       "output_type": "stream",
       "stream": "stdout",
       "text": [
        "\n",
        "   541  |  \u001b[94m  0.014176\u001b[0m  |  \u001b[32m  0.011903\u001b[0m  |     1.190953  |             |  9.4s"
       ]
      },
      {
       "output_type": "stream",
       "stream": "stdout",
       "text": [
        "\n",
        "   542  |    0.014237  |    0.011907  |     1.195674  |             |  9.4s"
       ]
      },
      {
       "output_type": "stream",
       "stream": "stdout",
       "text": [
        "\n",
        "   543  |  \u001b[94m  0.014161\u001b[0m  |  \u001b[32m  0.011838\u001b[0m  |     1.196270  |             |  9.4s"
       ]
      },
      {
       "output_type": "stream",
       "stream": "stdout",
       "text": [
        "\n",
        "   544  |  \u001b[94m  0.014125\u001b[0m  |    0.011984  |     1.178690  |             |  9.4s"
       ]
      },
      {
       "output_type": "stream",
       "stream": "stdout",
       "text": [
        "\n",
        "   545  |  \u001b[94m  0.014072\u001b[0m  |  \u001b[32m  0.011828\u001b[0m  |     1.189773  |             |  9.4s"
       ]
      },
      {
       "output_type": "stream",
       "stream": "stdout",
       "text": [
        "\n",
        "   546  |  \u001b[94m  0.014067\u001b[0m  |    0.011866  |     1.185477  |             |  9.4s"
       ]
      },
      {
       "output_type": "stream",
       "stream": "stdout",
       "text": [
        "\n",
        "   547  |    0.014068  |    0.011843  |     1.187896  |             |  9.4s"
       ]
      },
      {
       "output_type": "stream",
       "stream": "stdout",
       "text": [
        "\n",
        "   548  |  \u001b[94m  0.014001\u001b[0m  |    0.011839  |     1.182607  |             |  9.4s"
       ]
      },
      {
       "output_type": "stream",
       "stream": "stdout",
       "text": [
        "\n",
        "   549  |    0.014002  |    0.011832  |     1.183354  |             |  9.4s"
       ]
      },
      {
       "output_type": "stream",
       "stream": "stdout",
       "text": [
        "\n",
        "   550  |  \u001b[94m  0.013998\u001b[0m  |  \u001b[32m  0.011760\u001b[0m  |     1.190307  |             |  9.4s"
       ]
      },
      {
       "output_type": "stream",
       "stream": "stdout",
       "text": [
        "\n",
        "   551  |  \u001b[94m  0.013975\u001b[0m  |  \u001b[32m  0.011604\u001b[0m  |     1.204345  |             |  9.4s"
       ]
      },
      {
       "output_type": "stream",
       "stream": "stdout",
       "text": [
        "\n",
        "   552  |  \u001b[94m  0.013956\u001b[0m  |    0.011739  |     1.188857  |             |  9.4s"
       ]
      },
      {
       "output_type": "stream",
       "stream": "stdout",
       "text": [
        "\n",
        "   553  |    0.013970  |    0.011782  |     1.185691  |             |  9.4s"
       ]
      },
      {
       "output_type": "stream",
       "stream": "stdout",
       "text": [
        "\n",
        "   554  |  \u001b[94m  0.013933\u001b[0m  |  \u001b[32m  0.011555\u001b[0m  |     1.205793  |             |  9.4s"
       ]
      },
      {
       "output_type": "stream",
       "stream": "stdout",
       "text": [
        "\n",
        "   555  |  \u001b[94m  0.013910\u001b[0m  |    0.011620  |     1.197006  |             |  9.4s"
       ]
      },
      {
       "output_type": "stream",
       "stream": "stdout",
       "text": [
        "\n",
        "   556  |  \u001b[94m  0.013898\u001b[0m  |    0.011719  |     1.185873  |             |  9.4s"
       ]
      },
      {
       "output_type": "stream",
       "stream": "stdout",
       "text": [
        "\n",
        "   557  |  \u001b[94m  0.013829\u001b[0m  |    0.011632  |     1.188934  |             |  9.4s"
       ]
      },
      {
       "output_type": "stream",
       "stream": "stdout",
       "text": [
        "\n",
        "   558  |  \u001b[94m  0.013818\u001b[0m  |    0.011703  |     1.180741  |             |  9.4s"
       ]
      },
      {
       "output_type": "stream",
       "stream": "stdout",
       "text": [
        "\n",
        "   559  |    0.013827  |    0.011656  |     1.186215  |             |  9.4s"
       ]
      },
      {
       "output_type": "stream",
       "stream": "stdout",
       "text": [
        "\n",
        "   560  |  \u001b[94m  0.013799\u001b[0m  |    0.011645  |     1.184975  |             |  9.4s"
       ]
      },
      {
       "output_type": "stream",
       "stream": "stdout",
       "text": [
        "\n",
        "   561  |  \u001b[94m  0.013778\u001b[0m  |    0.011625  |     1.185172  |             |  9.4s"
       ]
      },
      {
       "output_type": "stream",
       "stream": "stdout",
       "text": [
        "\n",
        "   562  |    0.013889  |  \u001b[32m  0.011526\u001b[0m  |     1.205021  |             |  9.4s"
       ]
      },
      {
       "output_type": "stream",
       "stream": "stdout",
       "text": [
        "\n",
        "   563  |  \u001b[94m  0.013694\u001b[0m  |    0.011544  |     1.186207  |             |  9.4s"
       ]
      },
      {
       "output_type": "stream",
       "stream": "stdout",
       "text": [
        "\n",
        "   564  |    0.013732  |    0.011592  |     1.184636  |             |  9.4s"
       ]
      },
      {
       "output_type": "stream",
       "stream": "stdout",
       "text": [
        "\n",
        "   565  |    0.013768  |  \u001b[32m  0.011514\u001b[0m  |     1.195745  |             |  9.4s"
       ]
      },
      {
       "output_type": "stream",
       "stream": "stdout",
       "text": [
        "\n",
        "   566  |    0.013734  |  \u001b[32m  0.011500\u001b[0m  |     1.194268  |             |  9.4s"
       ]
      },
      {
       "output_type": "stream",
       "stream": "stdout",
       "text": [
        "\n",
        "   567  |  \u001b[94m  0.013629\u001b[0m  |  \u001b[32m  0.011472\u001b[0m  |     1.188045  |             |  9.4s"
       ]
      },
      {
       "output_type": "stream",
       "stream": "stdout",
       "text": [
        "\n",
        "   568  |  \u001b[94m  0.013628\u001b[0m  |    0.011505  |     1.184512  |             |  9.4s"
       ]
      },
      {
       "output_type": "stream",
       "stream": "stdout",
       "text": [
        "\n",
        "   569  |    0.013650  |  \u001b[32m  0.011418\u001b[0m  |     1.195495  |             |  9.4s"
       ]
      },
      {
       "output_type": "stream",
       "stream": "stdout",
       "text": [
        "\n",
        "   570  |    0.013646  |    0.011433  |     1.193537  |             |  9.4s"
       ]
      },
      {
       "output_type": "stream",
       "stream": "stdout",
       "text": [
        "\n",
        "   571  |    0.013633  |  \u001b[32m  0.011375\u001b[0m  |     1.198462  |             |  9.4s"
       ]
      },
      {
       "output_type": "stream",
       "stream": "stdout",
       "text": [
        "\n",
        "   572  |  \u001b[94m  0.013578\u001b[0m  |  \u001b[32m  0.011327\u001b[0m  |     1.198745  |             |  9.4s"
       ]
      },
      {
       "output_type": "stream",
       "stream": "stdout",
       "text": [
        "\n",
        "   573  |  \u001b[94m  0.013537\u001b[0m  |    0.011476  |     1.179602  |             |  9.4s"
       ]
      },
      {
       "output_type": "stream",
       "stream": "stdout",
       "text": [
        "\n",
        "   574  |    0.013539  |    0.011440  |     1.183490  |             |  9.4s"
       ]
      },
      {
       "output_type": "stream",
       "stream": "stdout",
       "text": [
        "\n",
        "   575  |  \u001b[94m  0.013533\u001b[0m  |    0.011384  |     1.188774  |             |  9.4s"
       ]
      },
      {
       "output_type": "stream",
       "stream": "stdout",
       "text": [
        "\n",
        "   576  |  \u001b[94m  0.013529\u001b[0m  |    0.011393  |     1.187521  |             |  9.4s"
       ]
      },
      {
       "output_type": "stream",
       "stream": "stdout",
       "text": [
        "\n",
        "   577  |    0.013542  |  \u001b[32m  0.011278\u001b[0m  |     1.200754  |             |  9.4s"
       ]
      },
      {
       "output_type": "stream",
       "stream": "stdout",
       "text": [
        "\n",
        "   578  |    0.013539  |    0.011319  |     1.196095  |             |  9.4s"
       ]
      },
      {
       "output_type": "stream",
       "stream": "stdout",
       "text": [
        "\n",
        "   579  |  \u001b[94m  0.013458\u001b[0m  |  \u001b[32m  0.011261\u001b[0m  |     1.195038  |             |  9.4s"
       ]
      },
      {
       "output_type": "stream",
       "stream": "stdout",
       "text": [
        "\n",
        "   580  |  \u001b[94m  0.013359\u001b[0m  |  \u001b[32m  0.011193\u001b[0m  |     1.193507  |             |  9.4s"
       ]
      },
      {
       "output_type": "stream",
       "stream": "stdout",
       "text": [
        "\n",
        "   581  |    0.013406  |    0.011260  |     1.190552  |             |  9.4s"
       ]
      },
      {
       "output_type": "stream",
       "stream": "stdout",
       "text": [
        "\n",
        "   582  |    0.013399  |    0.011254  |     1.190564  |             |  9.4s"
       ]
      },
      {
       "output_type": "stream",
       "stream": "stdout",
       "text": [
        "\n",
        "   583  |    0.013398  |  \u001b[32m  0.011188\u001b[0m  |     1.197528  |             |  9.4s"
       ]
      },
      {
       "output_type": "stream",
       "stream": "stdout",
       "text": [
        "\n",
        "   584  |    0.013387  |    0.011239  |     1.191152  |             |  9.4s"
       ]
      },
      {
       "output_type": "stream",
       "stream": "stdout",
       "text": [
        "\n",
        "   585  |  \u001b[94m  0.013304\u001b[0m  |    0.011248  |     1.182757  |             |  9.4s"
       ]
      },
      {
       "output_type": "stream",
       "stream": "stdout",
       "text": [
        "\n",
        "   586  |    0.013393  |  \u001b[32m  0.011177\u001b[0m  |     1.198277  |             |  9.4s"
       ]
      },
      {
       "output_type": "stream",
       "stream": "stdout",
       "text": [
        "\n",
        "   587  |    0.013319  |  \u001b[32m  0.011165\u001b[0m  |     1.192885  |             |  9.4s"
       ]
      },
      {
       "output_type": "stream",
       "stream": "stdout",
       "text": [
        "\n",
        "   588  |  \u001b[94m  0.013286\u001b[0m  |  \u001b[32m  0.011049\u001b[0m  |     1.202444  |             |  9.4s"
       ]
      },
      {
       "output_type": "stream",
       "stream": "stdout",
       "text": [
        "\n",
        "   589  |  \u001b[94m  0.013254\u001b[0m  |    0.011108  |     1.193203  |             |  9.4s"
       ]
      },
      {
       "output_type": "stream",
       "stream": "stdout",
       "text": [
        "\n",
        "   590  |  \u001b[94m  0.013168\u001b[0m  |    0.011144  |     1.181633  |             |  9.4s"
       ]
      },
      {
       "output_type": "stream",
       "stream": "stdout",
       "text": [
        "\n",
        "   591  |    0.013281  |  \u001b[32m  0.011047\u001b[0m  |     1.202186  |             |  9.4s"
       ]
      },
      {
       "output_type": "stream",
       "stream": "stdout",
       "text": [
        "\n",
        "   592  |    0.013208  |  \u001b[32m  0.011010\u001b[0m  |     1.199713  |             |  9.4s"
       ]
      },
      {
       "output_type": "stream",
       "stream": "stdout",
       "text": [
        "\n",
        "   593  |    0.013232  |    0.011071  |     1.195221  |             |  9.4s"
       ]
      },
      {
       "output_type": "stream",
       "stream": "stdout",
       "text": [
        "\n",
        "   594  |  \u001b[94m  0.013158\u001b[0m  |    0.011054  |     1.190307  |             |  9.4s"
       ]
      },
      {
       "output_type": "stream",
       "stream": "stdout",
       "text": [
        "\n",
        "   595  |    0.013208  |    0.011026  |     1.197886  |             |  9.4s"
       ]
      },
      {
       "output_type": "stream",
       "stream": "stdout",
       "text": [
        "\n",
        "   596  |    0.013229  |    0.011019  |     1.200612  |             |  9.4s"
       ]
      },
      {
       "output_type": "stream",
       "stream": "stdout",
       "text": [
        "\n",
        "   597  |    0.013177  |  \u001b[32m  0.011004\u001b[0m  |     1.197430  |             |  9.4s"
       ]
      },
      {
       "output_type": "stream",
       "stream": "stdout",
       "text": [
        "\n",
        "   598  |  \u001b[94m  0.013136\u001b[0m  |    0.011020  |     1.191982  |             |  9.4s"
       ]
      },
      {
       "output_type": "stream",
       "stream": "stdout",
       "text": [
        "\n",
        "   599  |    0.013140  |  \u001b[32m  0.010998\u001b[0m  |     1.194744  |             |  9.4s"
       ]
      },
      {
       "output_type": "stream",
       "stream": "stdout",
       "text": [
        "\n",
        "   600  |    0.013149  |  \u001b[32m  0.010978\u001b[0m  |     1.197728  |             |  9.4s"
       ]
      },
      {
       "output_type": "stream",
       "stream": "stdout",
       "text": [
        "\n",
        "   601  |  \u001b[94m  0.013075\u001b[0m  |  \u001b[32m  0.010975\u001b[0m  |     1.191283  |             |  9.4s"
       ]
      },
      {
       "output_type": "stream",
       "stream": "stdout",
       "text": [
        "\n",
        "   602  |  \u001b[94m  0.013022\u001b[0m  |    0.010984  |     1.185563  |             |  9.4s"
       ]
      },
      {
       "output_type": "stream",
       "stream": "stdout",
       "text": [
        "\n",
        "   603  |    0.013061  |  \u001b[32m  0.010859\u001b[0m  |     1.202767  |             |  9.4s"
       ]
      },
      {
       "output_type": "stream",
       "stream": "stdout",
       "text": [
        "\n",
        "   604  |  \u001b[94m  0.012975\u001b[0m  |    0.010868  |     1.193887  |             |  9.4s"
       ]
      },
      {
       "output_type": "stream",
       "stream": "stdout",
       "text": [
        "\n",
        "   605  |    0.013080  |    0.010892  |     1.200899  |             |  9.4s"
       ]
      },
      {
       "output_type": "stream",
       "stream": "stdout",
       "text": [
        "\n",
        "   606  |    0.012978  |  \u001b[32m  0.010830\u001b[0m  |     1.198251  |             |  9.4s"
       ]
      },
      {
       "output_type": "stream",
       "stream": "stdout",
       "text": [
        "\n",
        "   607  |  \u001b[94m  0.012944\u001b[0m  |    0.010859  |     1.192031  |             |  9.4s"
       ]
      },
      {
       "output_type": "stream",
       "stream": "stdout",
       "text": [
        "\n",
        "   608  |    0.013015  |    0.010935  |     1.190216  |             |  9.4s"
       ]
      },
      {
       "output_type": "stream",
       "stream": "stdout",
       "text": [
        "\n",
        "   609  |  \u001b[94m  0.012920\u001b[0m  |  \u001b[32m  0.010829\u001b[0m  |     1.193159  |             |  9.4s"
       ]
      },
      {
       "output_type": "stream",
       "stream": "stdout",
       "text": [
        "\n",
        "   610  |  \u001b[94m  0.012912\u001b[0m  |  \u001b[32m  0.010781\u001b[0m  |     1.197705  |             |  9.4s"
       ]
      },
      {
       "output_type": "stream",
       "stream": "stdout",
       "text": [
        "\n",
        "   611  |  \u001b[94m  0.012889\u001b[0m  |    0.010782  |     1.195510  |             |  9.4s"
       ]
      },
      {
       "output_type": "stream",
       "stream": "stdout",
       "text": [
        "\n",
        "   612  |    0.012924  |    0.010804  |     1.196205  |             |  9.4s"
       ]
      },
      {
       "output_type": "stream",
       "stream": "stdout",
       "text": [
        "\n",
        "   613  |  \u001b[94m  0.012846\u001b[0m  |    0.010823  |     1.186913  |             |  9.4s"
       ]
      },
      {
       "output_type": "stream",
       "stream": "stdout",
       "text": [
        "\n",
        "   614  |    0.012877  |    0.010815  |     1.190645  |             |  9.4s"
       ]
      },
      {
       "output_type": "stream",
       "stream": "stdout",
       "text": [
        "\n",
        "   615  |  \u001b[94m  0.012843\u001b[0m  |  \u001b[32m  0.010677\u001b[0m  |     1.202875  |             |  9.4s"
       ]
      },
      {
       "output_type": "stream",
       "stream": "stdout",
       "text": [
        "\n",
        "   616  |    0.012849  |    0.010745  |     1.195878  |             |  9.4s"
       ]
      },
      {
       "output_type": "stream",
       "stream": "stdout",
       "text": [
        "\n",
        "   617  |  \u001b[94m  0.012838\u001b[0m  |    0.010702  |     1.199537  |             |  9.4s"
       ]
      },
      {
       "output_type": "stream",
       "stream": "stdout",
       "text": [
        "\n",
        "   618  |  \u001b[94m  0.012796\u001b[0m  |    0.010763  |     1.188899  |             |  9.4s"
       ]
      },
      {
       "output_type": "stream",
       "stream": "stdout",
       "text": [
        "\n",
        "   619  |    0.012798  |  \u001b[32m  0.010660\u001b[0m  |     1.200571  |             |  9.4s"
       ]
      },
      {
       "output_type": "stream",
       "stream": "stdout",
       "text": [
        "\n",
        "   620  |  \u001b[94m  0.012772\u001b[0m  |  \u001b[32m  0.010628\u001b[0m  |     1.201711  |             |  9.4s"
       ]
      },
      {
       "output_type": "stream",
       "stream": "stdout",
       "text": [
        "\n",
        "   621  |  \u001b[94m  0.012753\u001b[0m  |  \u001b[32m  0.010621\u001b[0m  |     1.200734  |             |  9.4s"
       ]
      },
      {
       "output_type": "stream",
       "stream": "stdout",
       "text": [
        "\n",
        "   622  |  \u001b[94m  0.012703\u001b[0m  |    0.010622  |     1.195917  |             |  9.4s"
       ]
      },
      {
       "output_type": "stream",
       "stream": "stdout",
       "text": [
        "\n",
        "   623  |    0.012770  |  \u001b[32m  0.010597\u001b[0m  |     1.205155  |             |  9.4s"
       ]
      },
      {
       "output_type": "stream",
       "stream": "stdout",
       "text": [
        "\n",
        "   624  |    0.012726  |    0.010628  |     1.197348  |             |  9.4s"
       ]
      },
      {
       "output_type": "stream",
       "stream": "stdout",
       "text": [
        "\n",
        "   625  |  \u001b[94m  0.012668\u001b[0m  |    0.010654  |     1.189072  |             |  9.4s"
       ]
      },
      {
       "output_type": "stream",
       "stream": "stdout",
       "text": [
        "\n",
        "   626  |    0.012690  |    0.010634  |     1.193414  |             |  9.4s"
       ]
      },
      {
       "output_type": "stream",
       "stream": "stdout",
       "text": [
        "\n",
        "   627  |  \u001b[94m  0.012616\u001b[0m  |  \u001b[32m  0.010533\u001b[0m  |     1.197686  |             |  9.4s"
       ]
      },
      {
       "output_type": "stream",
       "stream": "stdout",
       "text": [
        "\n",
        "   628  |  \u001b[94m  0.012562\u001b[0m  |    0.010547  |     1.191068  |             |  9.4s"
       ]
      },
      {
       "output_type": "stream",
       "stream": "stdout",
       "text": [
        "\n",
        "   629  |    0.012581  |  \u001b[32m  0.010476\u001b[0m  |     1.200855  |             |  9.4s"
       ]
      },
      {
       "output_type": "stream",
       "stream": "stdout",
       "text": [
        "\n",
        "   630  |    0.012649  |    0.010592  |     1.194204  |             |  9.4s"
       ]
      },
      {
       "output_type": "stream",
       "stream": "stdout",
       "text": [
        "\n",
        "   631  |    0.012601  |    0.010573  |     1.191800  |             |  9.4s"
       ]
      },
      {
       "output_type": "stream",
       "stream": "stdout",
       "text": [
        "\n",
        "   632  |    0.012588  |    0.010547  |     1.193460  |             |  9.4s"
       ]
      },
      {
       "output_type": "stream",
       "stream": "stdout",
       "text": [
        "\n",
        "   633  |    0.012613  |    0.010524  |     1.198558  |             |  9.4s"
       ]
      },
      {
       "output_type": "stream",
       "stream": "stdout",
       "text": [
        "\n",
        "   634  |  \u001b[94m  0.012556\u001b[0m  |    0.010534  |     1.191980  |             |  9.4s"
       ]
      },
      {
       "output_type": "stream",
       "stream": "stdout",
       "text": [
        "\n",
        "   635  |  \u001b[94m  0.012556\u001b[0m  |    0.010480  |     1.198049  |             |  9.4s"
       ]
      },
      {
       "output_type": "stream",
       "stream": "stdout",
       "text": [
        "\n",
        "   636  |  \u001b[94m  0.012460\u001b[0m  |  \u001b[32m  0.010426\u001b[0m  |     1.195147  |             |  9.4s"
       ]
      },
      {
       "output_type": "stream",
       "stream": "stdout",
       "text": [
        "\n",
        "   637  |    0.012504  |    0.010443  |     1.197315  |             |  9.4s"
       ]
      },
      {
       "output_type": "stream",
       "stream": "stdout",
       "text": [
        "\n",
        "   638  |  \u001b[94m  0.012450\u001b[0m  |    0.010438  |     1.192743  |             |  9.4s"
       ]
      },
      {
       "output_type": "stream",
       "stream": "stdout",
       "text": [
        "\n",
        "   639  |  \u001b[94m  0.012449\u001b[0m  |    0.010488  |     1.186988  |             |  9.4s"
       ]
      },
      {
       "output_type": "stream",
       "stream": "stdout",
       "text": [
        "\n",
        "   640  |  \u001b[94m  0.012442\u001b[0m  |    0.010451  |     1.190484  |             |  9.4s"
       ]
      },
      {
       "output_type": "stream",
       "stream": "stdout",
       "text": [
        "\n",
        "   641  |    0.012464  |  \u001b[32m  0.010403\u001b[0m  |     1.198045  |             |  9.4s"
       ]
      },
      {
       "output_type": "stream",
       "stream": "stdout",
       "text": [
        "\n",
        "   642  |    0.012509  |    0.010426  |     1.199839  |             |  9.4s"
       ]
      },
      {
       "output_type": "stream",
       "stream": "stdout",
       "text": [
        "\n",
        "   643  |  \u001b[94m  0.012371\u001b[0m  |  \u001b[32m  0.010359\u001b[0m  |     1.194205  |             |  9.4s"
       ]
      },
      {
       "output_type": "stream",
       "stream": "stdout",
       "text": [
        "\n",
        "   644  |    0.012388  |    0.010428  |     1.187983  |             |  9.4s"
       ]
      },
      {
       "output_type": "stream",
       "stream": "stdout",
       "text": [
        "\n",
        "   645  |    0.012423  |  \u001b[32m  0.010350\u001b[0m  |     1.200361  |             |  9.4s"
       ]
      },
      {
       "output_type": "stream",
       "stream": "stdout",
       "text": [
        "\n",
        "   646  |    0.012375  |  \u001b[32m  0.010296\u001b[0m  |     1.201930  |             |  9.4s"
       ]
      },
      {
       "output_type": "stream",
       "stream": "stdout",
       "text": [
        "\n",
        "   647  |  \u001b[94m  0.012351\u001b[0m  |    0.010316  |     1.197227  |             |  9.4s"
       ]
      },
      {
       "output_type": "stream",
       "stream": "stdout",
       "text": [
        "\n",
        "   648  |    0.012352  |  \u001b[32m  0.010291\u001b[0m  |     1.200229  |             |  9.4s"
       ]
      },
      {
       "output_type": "stream",
       "stream": "stdout",
       "text": [
        "\n",
        "   649  |  \u001b[94m  0.012289\u001b[0m  |  \u001b[32m  0.010271\u001b[0m  |     1.196462  |             |  9.4s"
       ]
      },
      {
       "output_type": "stream",
       "stream": "stdout",
       "text": [
        "\n",
        "   650  |    0.012327  |    0.010303  |     1.196478  |             |  9.4s"
       ]
      },
      {
       "output_type": "stream",
       "stream": "stdout",
       "text": [
        "\n",
        "   651  |    0.012330  |    0.010327  |     1.193923  |             |  9.4s"
       ]
      },
      {
       "output_type": "stream",
       "stream": "stdout",
       "text": [
        "\n",
        "   652  |  \u001b[94m  0.012251\u001b[0m  |  \u001b[32m  0.010237\u001b[0m  |     1.196740  |             |  9.4s"
       ]
      },
      {
       "output_type": "stream",
       "stream": "stdout",
       "text": [
        "\n",
        "   653  |  \u001b[94m  0.012208\u001b[0m  |  \u001b[32m  0.010234\u001b[0m  |     1.192917  |             |  9.4s"
       ]
      },
      {
       "output_type": "stream",
       "stream": "stdout",
       "text": [
        "\n",
        "   654  |  \u001b[94m  0.012205\u001b[0m  |    0.010251  |     1.190589  |             |  9.4s"
       ]
      },
      {
       "output_type": "stream",
       "stream": "stdout",
       "text": [
        "\n",
        "   655  |  \u001b[94m  0.012162\u001b[0m  |    0.010266  |     1.184735  |             |  9.4s"
       ]
      },
      {
       "output_type": "stream",
       "stream": "stdout",
       "text": [
        "\n",
        "   656  |    0.012233  |    0.010302  |     1.187356  |             |  9.4s"
       ]
      },
      {
       "output_type": "stream",
       "stream": "stdout",
       "text": [
        "\n",
        "   657  |    0.012210  |  \u001b[32m  0.010229\u001b[0m  |     1.193646  |             |  9.4s"
       ]
      },
      {
       "output_type": "stream",
       "stream": "stdout",
       "text": [
        "\n",
        "   658  |    0.012186  |  \u001b[32m  0.010179\u001b[0m  |     1.197131  |             |  9.4s"
       ]
      },
      {
       "output_type": "stream",
       "stream": "stdout",
       "text": [
        "\n",
        "   659  |    0.012166  |    0.010225  |     1.189849  |             |  9.4s"
       ]
      },
      {
       "output_type": "stream",
       "stream": "stdout",
       "text": [
        "\n",
        "   660  |  \u001b[94m  0.012096\u001b[0m  |  \u001b[32m  0.010164\u001b[0m  |     1.190051  |             |  9.4s"
       ]
      },
      {
       "output_type": "stream",
       "stream": "stdout",
       "text": [
        "\n",
        "   661  |    0.012151  |  \u001b[32m  0.010155\u001b[0m  |     1.196458  |             |  9.4s"
       ]
      },
      {
       "output_type": "stream",
       "stream": "stdout",
       "text": [
        "\n",
        "   662  |  \u001b[94m  0.012085\u001b[0m  |    0.010166  |     1.188788  |             |  9.4s"
       ]
      },
      {
       "output_type": "stream",
       "stream": "stdout",
       "text": [
        "\n",
        "   663  |    0.012128  |  \u001b[32m  0.010109\u001b[0m  |     1.199736  |             |  9.4s"
       ]
      },
      {
       "output_type": "stream",
       "stream": "stdout",
       "text": [
        "\n",
        "   664  |    0.012098  |    0.010175  |     1.188960  |             |  9.4s"
       ]
      },
      {
       "output_type": "stream",
       "stream": "stdout",
       "text": [
        "\n",
        "   665  |    0.012171  |    0.010154  |     1.198651  |             |  9.4s"
       ]
      },
      {
       "output_type": "stream",
       "stream": "stdout",
       "text": [
        "\n",
        "   666  |  \u001b[94m  0.012063\u001b[0m  |    0.010109  |     1.193259  |             |  9.4s"
       ]
      },
      {
       "output_type": "stream",
       "stream": "stdout",
       "text": [
        "\n",
        "   667  |    0.012083  |  \u001b[32m  0.010069\u001b[0m  |     1.200013  |             |  9.4s"
       ]
      },
      {
       "output_type": "stream",
       "stream": "stdout",
       "text": [
        "\n",
        "   668  |  \u001b[94m  0.012009\u001b[0m  |    0.010113  |     1.187473  |             |  9.4s"
       ]
      },
      {
       "output_type": "stream",
       "stream": "stdout",
       "text": [
        "\n",
        "   669  |  \u001b[94m  0.011974\u001b[0m  |    0.010074  |     1.188578  |             |  9.4s"
       ]
      },
      {
       "output_type": "stream",
       "stream": "stdout",
       "text": [
        "\n",
        "   670  |    0.011983  |  \u001b[32m  0.009996\u001b[0m  |     1.198797  |             |  9.4s"
       ]
      },
      {
       "output_type": "stream",
       "stream": "stdout",
       "text": [
        "\n",
        "   671  |  \u001b[94m  0.011941\u001b[0m  |  \u001b[32m  0.009993\u001b[0m  |     1.194970  |             |  9.4s"
       ]
      },
      {
       "output_type": "stream",
       "stream": "stdout",
       "text": [
        "\n",
        "   672  |    0.011961  |    0.010017  |     1.194046  |             |  9.4s"
       ]
      },
      {
       "output_type": "stream",
       "stream": "stdout",
       "text": [
        "\n",
        "   673  |  \u001b[94m  0.011938\u001b[0m  |  \u001b[32m  0.009981\u001b[0m  |     1.196093  |             |  9.4s"
       ]
      },
      {
       "output_type": "stream",
       "stream": "stdout",
       "text": [
        "\n",
        "   674  |    0.011955  |    0.009994  |     1.196167  |             |  9.4s"
       ]
      },
      {
       "output_type": "stream",
       "stream": "stdout",
       "text": [
        "\n",
        "   675  |    0.011980  |    0.010040  |     1.193238  |             |  9.4s"
       ]
      },
      {
       "output_type": "stream",
       "stream": "stdout",
       "text": [
        "\n",
        "   676  |  \u001b[94m  0.011919\u001b[0m  |    0.009999  |     1.191966  |             |  9.4s"
       ]
      },
      {
       "output_type": "stream",
       "stream": "stdout",
       "text": [
        "\n",
        "   677  |  \u001b[94m  0.011913\u001b[0m  |  \u001b[32m  0.009947\u001b[0m  |     1.197739  |             |  9.4s"
       ]
      },
      {
       "output_type": "stream",
       "stream": "stdout",
       "text": [
        "\n",
        "   678  |  \u001b[94m  0.011896\u001b[0m  |  \u001b[32m  0.009891\u001b[0m  |     1.202671  |             |  9.4s"
       ]
      },
      {
       "output_type": "stream",
       "stream": "stdout",
       "text": [
        "\n",
        "   679  |  \u001b[94m  0.011849\u001b[0m  |    0.009931  |     1.193215  |             |  9.4s"
       ]
      },
      {
       "output_type": "stream",
       "stream": "stdout",
       "text": [
        "\n",
        "   680  |  \u001b[94m  0.011827\u001b[0m  |    0.009918  |     1.192495  |             |  9.4s"
       ]
      },
      {
       "output_type": "stream",
       "stream": "stdout",
       "text": [
        "\n",
        "   681  |    0.011837  |    0.009916  |     1.193697  |             |  9.4s"
       ]
      },
      {
       "output_type": "stream",
       "stream": "stdout",
       "text": [
        "\n",
        "   682  |  \u001b[94m  0.011793\u001b[0m  |  \u001b[32m  0.009863\u001b[0m  |     1.195674  |             |  9.4s"
       ]
      },
      {
       "output_type": "stream",
       "stream": "stdout",
       "text": [
        "\n",
        "   683  |    0.011798  |  \u001b[32m  0.009859\u001b[0m  |     1.196676  |             |  9.4s"
       ]
      },
      {
       "output_type": "stream",
       "stream": "stdout",
       "text": [
        "\n",
        "   684  |  \u001b[94m  0.011732\u001b[0m  |    0.009913  |     1.183501  |             |  9.4s"
       ]
      },
      {
       "output_type": "stream",
       "stream": "stdout",
       "text": [
        "\n",
        "   685  |  \u001b[94m  0.011689\u001b[0m  |  \u001b[32m  0.009788\u001b[0m  |     1.194162  |             |  9.4s"
       ]
      },
      {
       "output_type": "stream",
       "stream": "stdout",
       "text": [
        "\n",
        "   686  |    0.011739  |    0.009909  |     1.184648  |             |  9.4s"
       ]
      },
      {
       "output_type": "stream",
       "stream": "stdout",
       "text": [
        "\n",
        "   687  |    0.011732  |  \u001b[32m  0.009765\u001b[0m  |     1.201449  |             |  9.4s"
       ]
      },
      {
       "output_type": "stream",
       "stream": "stdout",
       "text": [
        "\n",
        "   688  |    0.011743  |    0.009794  |     1.199034  |             |  9.4s"
       ]
      },
      {
       "output_type": "stream",
       "stream": "stdout",
       "text": [
        "\n",
        "   689  |    0.011728  |    0.009808  |     1.195725  |             |  9.4s"
       ]
      },
      {
       "output_type": "stream",
       "stream": "stdout",
       "text": [
        "\n",
        "   690  |    0.011689  |    0.009830  |     1.189084  |             |  9.4s"
       ]
      },
      {
       "output_type": "stream",
       "stream": "stdout",
       "text": [
        "\n",
        "   691  |  \u001b[94m  0.011638\u001b[0m  |    0.009795  |     1.188180  |             |  9.4s"
       ]
      },
      {
       "output_type": "stream",
       "stream": "stdout",
       "text": [
        "\n",
        "   692  |  \u001b[94m  0.011635\u001b[0m  |    0.009827  |     1.184030  |             |  9.4s"
       ]
      },
      {
       "output_type": "stream",
       "stream": "stdout",
       "text": [
        "\n",
        "   693  |  \u001b[94m  0.011566\u001b[0m  |    0.009777  |     1.182969  |             |  9.4s"
       ]
      },
      {
       "output_type": "stream",
       "stream": "stdout",
       "text": [
        "\n",
        "   694  |    0.011597  |  \u001b[32m  0.009723\u001b[0m  |     1.192720  |             |  9.4s"
       ]
      },
      {
       "output_type": "stream",
       "stream": "stdout",
       "text": [
        "\n",
        "   695  |    0.011620  |    0.009781  |     1.188044  |             |  9.4s"
       ]
      },
      {
       "output_type": "stream",
       "stream": "stdout",
       "text": [
        "\n",
        "   696  |    0.011603  |  \u001b[32m  0.009671\u001b[0m  |     1.199844  |             |  9.4s"
       ]
      },
      {
       "output_type": "stream",
       "stream": "stdout",
       "text": [
        "\n",
        "   697  |  \u001b[94m  0.011565\u001b[0m  |  \u001b[32m  0.009652\u001b[0m  |     1.198216  |             |  9.4s"
       ]
      },
      {
       "output_type": "stream",
       "stream": "stdout",
       "text": [
        "\n",
        "   698  |  \u001b[94m  0.011559\u001b[0m  |    0.009735  |     1.187392  |             |  9.4s"
       ]
      },
      {
       "output_type": "stream",
       "stream": "stdout",
       "text": [
        "\n",
        "   699  |  \u001b[94m  0.011518\u001b[0m  |    0.009664  |     1.191937  |             |  9.4s"
       ]
      },
      {
       "output_type": "stream",
       "stream": "stdout",
       "text": [
        "\n",
        "   700  |    0.011556  |    0.009663  |     1.195948  |             |  9.4s"
       ]
      },
      {
       "output_type": "stream",
       "stream": "stdout",
       "text": [
        "\n",
        "   701  |  \u001b[94m  0.011509\u001b[0m  |  \u001b[32m  0.009612\u001b[0m  |     1.197298  |             |  9.4s"
       ]
      },
      {
       "output_type": "stream",
       "stream": "stdout",
       "text": [
        "\n",
        "   702  |  \u001b[94m  0.011492\u001b[0m  |  \u001b[32m  0.009603\u001b[0m  |     1.196705  |             |  9.4s"
       ]
      },
      {
       "output_type": "stream",
       "stream": "stdout",
       "text": [
        "\n",
        "   703  |  \u001b[94m  0.011489\u001b[0m  |  \u001b[32m  0.009574\u001b[0m  |     1.200020  |             |  9.4s"
       ]
      },
      {
       "output_type": "stream",
       "stream": "stdout",
       "text": [
        "\n",
        "   704  |  \u001b[94m  0.011426\u001b[0m  |  \u001b[32m  0.009507\u001b[0m  |     1.201841  |             |  9.4s"
       ]
      },
      {
       "output_type": "stream",
       "stream": "stdout",
       "text": [
        "\n",
        "   705  |    0.011437  |    0.009590  |     1.192550  |             |  9.4s"
       ]
      },
      {
       "output_type": "stream",
       "stream": "stdout",
       "text": [
        "\n",
        "   706  |  \u001b[94m  0.011413\u001b[0m  |    0.009520  |     1.198778  |             |  9.4s"
       ]
      },
      {
       "output_type": "stream",
       "stream": "stdout",
       "text": [
        "\n",
        "   707  |    0.011429  |    0.009554  |     1.196280  |             |  9.4s"
       ]
      },
      {
       "output_type": "stream",
       "stream": "stdout",
       "text": [
        "\n",
        "   708  |  \u001b[94m  0.011404\u001b[0m  |    0.009550  |     1.194211  |             |  9.4s"
       ]
      },
      {
       "output_type": "stream",
       "stream": "stdout",
       "text": [
        "\n",
        "   709  |  \u001b[94m  0.011387\u001b[0m  |  \u001b[32m  0.009505\u001b[0m  |     1.197945  |             |  9.4s"
       ]
      },
      {
       "output_type": "stream",
       "stream": "stdout",
       "text": [
        "\n",
        "   710  |    0.011392  |  \u001b[32m  0.009494\u001b[0m  |     1.199963  |             |  9.4s"
       ]
      },
      {
       "output_type": "stream",
       "stream": "stdout",
       "text": [
        "\n",
        "   711  |  \u001b[94m  0.011379\u001b[0m  |  \u001b[32m  0.009448\u001b[0m  |     1.204466  |             |  9.4s"
       ]
      },
      {
       "output_type": "stream",
       "stream": "stdout",
       "text": [
        "\n",
        "   712  |  \u001b[94m  0.011330\u001b[0m  |  \u001b[32m  0.009397\u001b[0m  |     1.205747  |             |  9.4s"
       ]
      },
      {
       "output_type": "stream",
       "stream": "stdout",
       "text": [
        "\n",
        "   713  |    0.011354  |    0.009435  |     1.203418  |             |  9.4s"
       ]
      },
      {
       "output_type": "stream",
       "stream": "stdout",
       "text": [
        "\n",
        "   714  |  \u001b[94m  0.011258\u001b[0m  |    0.009438  |     1.192822  |             |  9.4s"
       ]
      },
      {
       "output_type": "stream",
       "stream": "stdout",
       "text": [
        "\n",
        "   715  |    0.011300  |    0.009449  |     1.195915  |             |  9.4s"
       ]
      },
      {
       "output_type": "stream",
       "stream": "stdout",
       "text": [
        "\n",
        "   716  |    0.011288  |    0.009459  |     1.193277  |             |  9.4s"
       ]
      },
      {
       "output_type": "stream",
       "stream": "stdout",
       "text": [
        "\n",
        "   717  |    0.011272  |    0.009417  |     1.196982  |             |  9.4s"
       ]
      },
      {
       "output_type": "stream",
       "stream": "stdout",
       "text": [
        "\n",
        "   718  |  \u001b[94m  0.011234\u001b[0m  |  \u001b[32m  0.009334\u001b[0m  |     1.203524  |             |  9.4s"
       ]
      },
      {
       "output_type": "stream",
       "stream": "stdout",
       "text": [
        "\n",
        "   719  |  \u001b[94m  0.011180\u001b[0m  |  \u001b[32m  0.009324\u001b[0m  |     1.199059  |             |  9.4s"
       ]
      },
      {
       "output_type": "stream",
       "stream": "stdout",
       "text": [
        "\n",
        "   720  |  \u001b[94m  0.011144\u001b[0m  |  \u001b[32m  0.009269\u001b[0m  |     1.202194  |             |  9.4s"
       ]
      },
      {
       "output_type": "stream",
       "stream": "stdout",
       "text": [
        "\n",
        "   721  |    0.011207  |    0.009351  |     1.198413  |             |  9.4s"
       ]
      },
      {
       "output_type": "stream",
       "stream": "stdout",
       "text": [
        "\n",
        "   722  |    0.011186  |    0.009343  |     1.197255  |             |  9.4s"
       ]
      },
      {
       "output_type": "stream",
       "stream": "stdout",
       "text": [
        "\n",
        "   723  |    0.011193  |    0.009284  |     1.205592  |             |  9.4s"
       ]
      },
      {
       "output_type": "stream",
       "stream": "stdout",
       "text": [
        "\n",
        "   724  |    0.011170  |  \u001b[32m  0.009256\u001b[0m  |     1.206753  |             |  9.4s"
       ]
      },
      {
       "output_type": "stream",
       "stream": "stdout",
       "text": [
        "\n",
        "   725  |    0.011206  |    0.009287  |     1.206573  |             |  9.4s"
       ]
      },
      {
       "output_type": "stream",
       "stream": "stdout",
       "text": [
        "\n",
        "   726  |  \u001b[94m  0.011110\u001b[0m  |    0.009260  |     1.199701  |             |  9.4s"
       ]
      },
      {
       "output_type": "stream",
       "stream": "stdout",
       "text": [
        "\n",
        "   727  |    0.011117  |  \u001b[32m  0.009243\u001b[0m  |     1.202818  |             |  9.4s"
       ]
      },
      {
       "output_type": "stream",
       "stream": "stdout",
       "text": [
        "\n",
        "   728  |    0.011138  |  \u001b[32m  0.009240\u001b[0m  |     1.205396  |             |  9.4s"
       ]
      },
      {
       "output_type": "stream",
       "stream": "stdout",
       "text": [
        "\n",
        "   729  |    0.011172  |    0.009349  |     1.194947  |             |  9.4s"
       ]
      },
      {
       "output_type": "stream",
       "stream": "stdout",
       "text": [
        "\n",
        "   730  |  \u001b[94m  0.011087\u001b[0m  |  \u001b[32m  0.009215\u001b[0m  |     1.203091  |             |  9.4s"
       ]
      },
      {
       "output_type": "stream",
       "stream": "stdout",
       "text": [
        "\n",
        "   731  |  \u001b[94m  0.011086\u001b[0m  |    0.009275  |     1.195276  |             |  9.4s"
       ]
      },
      {
       "output_type": "stream",
       "stream": "stdout",
       "text": [
        "\n",
        "   732  |  \u001b[94m  0.011035\u001b[0m  |  \u001b[32m  0.009159\u001b[0m  |     1.204891  |             |  9.4s"
       ]
      },
      {
       "output_type": "stream",
       "stream": "stdout",
       "text": [
        "\n",
        "   733  |  \u001b[94m  0.010988\u001b[0m  |    0.009216  |     1.192223  |             |  9.4s"
       ]
      },
      {
       "output_type": "stream",
       "stream": "stdout",
       "text": [
        "\n",
        "   734  |    0.010995  |    0.009186  |     1.197015  |             |  9.4s"
       ]
      },
      {
       "output_type": "stream",
       "stream": "stdout",
       "text": [
        "\n",
        "   735  |    0.011058  |  \u001b[32m  0.009159\u001b[0m  |     1.207368  |             |  9.4s"
       ]
      },
      {
       "output_type": "stream",
       "stream": "stdout",
       "text": [
        "\n",
        "   736  |  \u001b[94m  0.010970\u001b[0m  |    0.009187  |     1.194054  |             |  9.4s"
       ]
      },
      {
       "output_type": "stream",
       "stream": "stdout",
       "text": [
        "\n",
        "   737  |    0.010979  |  \u001b[32m  0.009111\u001b[0m  |     1.205141  |             |  9.4s"
       ]
      },
      {
       "output_type": "stream",
       "stream": "stdout",
       "text": [
        "\n",
        "   738  |  \u001b[94m  0.010910\u001b[0m  |  \u001b[32m  0.009090\u001b[0m  |     1.200332  |             |  9.4s"
       ]
      },
      {
       "output_type": "stream",
       "stream": "stdout",
       "text": [
        "\n",
        "   739  |    0.010939  |    0.009112  |     1.200459  |             |  9.4s"
       ]
      },
      {
       "output_type": "stream",
       "stream": "stdout",
       "text": [
        "\n",
        "   740  |    0.010934  |  \u001b[32m  0.009029\u001b[0m  |     1.210899  |             |  9.4s"
       ]
      },
      {
       "output_type": "stream",
       "stream": "stdout",
       "text": [
        "\n",
        "   741  |    0.010924  |    0.009082  |     1.202840  |             |  9.4s"
       ]
      },
      {
       "output_type": "stream",
       "stream": "stdout",
       "text": [
        "\n",
        "   742  |    0.010954  |    0.009157  |     1.196210  |             |  9.4s"
       ]
      },
      {
       "output_type": "stream",
       "stream": "stdout",
       "text": [
        "\n",
        "   743  |  \u001b[94m  0.010831\u001b[0m  |    0.009086  |     1.192047  |             |  9.4s"
       ]
      },
      {
       "output_type": "stream",
       "stream": "stdout",
       "text": [
        "\n",
        "   744  |    0.010851  |  \u001b[32m  0.009027\u001b[0m  |     1.202102  |             |  9.4s"
       ]
      },
      {
       "output_type": "stream",
       "stream": "stdout",
       "text": [
        "\n",
        "   745  |    0.010839  |  \u001b[32m  0.009007\u001b[0m  |     1.203294  |             |  9.4s"
       ]
      },
      {
       "output_type": "stream",
       "stream": "stdout",
       "text": [
        "\n",
        "   746  |    0.010880  |    0.009054  |     1.201706  |             |  9.4s"
       ]
      },
      {
       "output_type": "stream",
       "stream": "stdout",
       "text": [
        "\n",
        "   747  |    0.010838  |    0.009025  |     1.200893  |             |  9.4s"
       ]
      },
      {
       "output_type": "stream",
       "stream": "stdout",
       "text": [
        "\n",
        "   748  |    0.010857  |  \u001b[32m  0.008998\u001b[0m  |     1.206646  |             |  9.4s"
       ]
      },
      {
       "output_type": "stream",
       "stream": "stdout",
       "text": [
        "\n",
        "   749  |    0.010833  |  \u001b[32m  0.008921\u001b[0m  |     1.214338  |             |  9.4s"
       ]
      },
      {
       "output_type": "stream",
       "stream": "stdout",
       "text": [
        "\n",
        "   750  |  \u001b[94m  0.010822\u001b[0m  |    0.009029  |     1.198611  |             |  9.4s"
       ]
      },
      {
       "output_type": "stream",
       "stream": "stdout",
       "text": [
        "\n",
        "   751  |  \u001b[94m  0.010807\u001b[0m  |    0.009098  |     1.187869  |             |  9.4s"
       ]
      },
      {
       "output_type": "stream",
       "stream": "stdout",
       "text": [
        "\n",
        "   752  |  \u001b[94m  0.010768\u001b[0m  |    0.008958  |     1.202100  |             |  9.4s"
       ]
      },
      {
       "output_type": "stream",
       "stream": "stdout",
       "text": [
        "\n",
        "   753  |  \u001b[94m  0.010753\u001b[0m  |    0.008964  |     1.199564  |             |  9.4s"
       ]
      },
      {
       "output_type": "stream",
       "stream": "stdout",
       "text": [
        "\n",
        "   754  |    0.010756  |    0.008972  |     1.198845  |             |  9.4s"
       ]
      },
      {
       "output_type": "stream",
       "stream": "stdout",
       "text": [
        "\n",
        "   755  |    0.010806  |    0.008992  |     1.201710  |             |  9.4s"
       ]
      },
      {
       "output_type": "stream",
       "stream": "stdout",
       "text": [
        "\n",
        "   756  |  \u001b[94m  0.010731\u001b[0m  |    0.008953  |     1.198555  |             |  9.4s"
       ]
      },
      {
       "output_type": "stream",
       "stream": "stdout",
       "text": [
        "\n",
        "   757  |    0.010736  |    0.008937  |     1.201187  |             |  9.4s"
       ]
      },
      {
       "output_type": "stream",
       "stream": "stdout",
       "text": [
        "\n",
        "   758  |  \u001b[94m  0.010728\u001b[0m  |  \u001b[32m  0.008896\u001b[0m  |     1.205962  |             |  9.4s"
       ]
      },
      {
       "output_type": "stream",
       "stream": "stdout",
       "text": [
        "\n",
        "   759  |  \u001b[94m  0.010701\u001b[0m  |    0.008933  |     1.197876  |             |  9.4s"
       ]
      },
      {
       "output_type": "stream",
       "stream": "stdout",
       "text": [
        "\n",
        "   760  |    0.010702  |    0.008898  |     1.202713  |             |  9.4s"
       ]
      },
      {
       "output_type": "stream",
       "stream": "stdout",
       "text": [
        "\n",
        "   761  |  \u001b[94m  0.010652\u001b[0m  |    0.008965  |     1.188217  |             |  9.4s"
       ]
      },
      {
       "output_type": "stream",
       "stream": "stdout",
       "text": [
        "\n",
        "   762  |  \u001b[94m  0.010614\u001b[0m  |    0.008917  |     1.190381  |             |  9.4s"
       ]
      },
      {
       "output_type": "stream",
       "stream": "stdout",
       "text": [
        "\n",
        "   763  |    0.010646  |  \u001b[32m  0.008880\u001b[0m  |     1.198845  |             |  9.4s"
       ]
      },
      {
       "output_type": "stream",
       "stream": "stdout",
       "text": [
        "\n",
        "   764  |  \u001b[94m  0.010612\u001b[0m  |    0.008891  |     1.193493  |             |  9.4s"
       ]
      },
      {
       "output_type": "stream",
       "stream": "stdout",
       "text": [
        "\n",
        "   765  |  \u001b[94m  0.010564\u001b[0m  |  \u001b[32m  0.008846\u001b[0m  |     1.194247  |             |  9.4s"
       ]
      },
      {
       "output_type": "stream",
       "stream": "stdout",
       "text": [
        "\n",
        "   766  |    0.010621  |  \u001b[32m  0.008808\u001b[0m  |     1.205857  |             |  9.4s"
       ]
      },
      {
       "output_type": "stream",
       "stream": "stdout",
       "text": [
        "\n",
        "   767  |    0.010584  |    0.008833  |     1.198140  |             |  9.4s"
       ]
      },
      {
       "output_type": "stream",
       "stream": "stdout",
       "text": [
        "\n",
        "   768  |  \u001b[94m  0.010512\u001b[0m  |    0.008831  |     1.190404  |             |  9.4s"
       ]
      },
      {
       "output_type": "stream",
       "stream": "stdout",
       "text": [
        "\n",
        "   769  |    0.010556  |    0.008845  |     1.193370  |             |  9.4s"
       ]
      },
      {
       "output_type": "stream",
       "stream": "stdout",
       "text": [
        "\n",
        "   770  |    0.010551  |  \u001b[32m  0.008786\u001b[0m  |     1.200897  |             |  9.4s"
       ]
      },
      {
       "output_type": "stream",
       "stream": "stdout",
       "text": [
        "\n",
        "   771  |    0.010515  |  \u001b[32m  0.008747\u001b[0m  |     1.202121  |             |  9.4s"
       ]
      },
      {
       "output_type": "stream",
       "stream": "stdout",
       "text": [
        "\n",
        "   772  |    0.010550  |    0.008842  |     1.193080  |             |  9.4s"
       ]
      },
      {
       "output_type": "stream",
       "stream": "stdout",
       "text": [
        "\n",
        "   773  |  \u001b[94m  0.010467\u001b[0m  |    0.008837  |     1.184410  |             |  9.4s"
       ]
      },
      {
       "output_type": "stream",
       "stream": "stdout",
       "text": [
        "\n",
        "   774  |    0.010492  |    0.008765  |     1.197048  |             |  9.4s"
       ]
      },
      {
       "output_type": "stream",
       "stream": "stdout",
       "text": [
        "\n",
        "   775  |    0.010519  |  \u001b[32m  0.008722\u001b[0m  |     1.206005  |             |  9.4s"
       ]
      },
      {
       "output_type": "stream",
       "stream": "stdout",
       "text": [
        "\n",
        "   776  |  \u001b[94m  0.010448\u001b[0m  |    0.008817  |     1.184939  |             |  9.4s"
       ]
      },
      {
       "output_type": "stream",
       "stream": "stdout",
       "text": [
        "\n",
        "   777  |    0.010478  |    0.008744  |     1.198317  |             |  9.4s"
       ]
      },
      {
       "output_type": "stream",
       "stream": "stdout",
       "text": [
        "\n",
        "   778  |    0.010449  |    0.008763  |     1.192446  |             |  9.4s"
       ]
      },
      {
       "output_type": "stream",
       "stream": "stdout",
       "text": [
        "\n",
        "   779  |  \u001b[94m  0.010433\u001b[0m  |  \u001b[32m  0.008716\u001b[0m  |     1.196978  |             |  9.4s"
       ]
      },
      {
       "output_type": "stream",
       "stream": "stdout",
       "text": [
        "\n",
        "   780  |  \u001b[94m  0.010384\u001b[0m  |    0.008777  |     1.183149  |             |  9.4s"
       ]
      },
      {
       "output_type": "stream",
       "stream": "stdout",
       "text": [
        "\n",
        "   781  |    0.010461  |  \u001b[32m  0.008707\u001b[0m  |     1.201538  |             |  9.4s"
       ]
      },
      {
       "output_type": "stream",
       "stream": "stdout",
       "text": [
        "\n",
        "   782  |    0.010420  |    0.008759  |     1.189656  |             |  9.4s"
       ]
      },
      {
       "output_type": "stream",
       "stream": "stdout",
       "text": [
        "\n",
        "   783  |  \u001b[94m  0.010331\u001b[0m  |    0.008712  |     1.185787  |             |  9.4s"
       ]
      },
      {
       "output_type": "stream",
       "stream": "stdout",
       "text": [
        "\n",
        "   784  |    0.010403  |    0.008727  |     1.192101  |             |  9.4s"
       ]
      },
      {
       "output_type": "stream",
       "stream": "stdout",
       "text": [
        "\n",
        "   785  |    0.010372  |    0.008727  |     1.188515  |             |  9.4s"
       ]
      },
      {
       "output_type": "stream",
       "stream": "stdout",
       "text": [
        "\n",
        "   786  |  \u001b[94m  0.010304\u001b[0m  |  \u001b[32m  0.008679\u001b[0m  |     1.187208  |             |  9.4s"
       ]
      },
      {
       "output_type": "stream",
       "stream": "stdout",
       "text": [
        "\n",
        "   787  |    0.010330  |    0.008733  |     1.182905  |             |  9.4s"
       ]
      },
      {
       "output_type": "stream",
       "stream": "stdout",
       "text": [
        "\n",
        "   788  |    0.010334  |    0.008681  |     1.190427  |             |  9.4s"
       ]
      },
      {
       "output_type": "stream",
       "stream": "stdout",
       "text": [
        "\n",
        "   789  |    0.010312  |  \u001b[32m  0.008584\u001b[0m  |     1.201268  |             |  9.4s"
       ]
      },
      {
       "output_type": "stream",
       "stream": "stdout",
       "text": [
        "\n",
        "   790  |    0.010316  |    0.008625  |     1.196017  |             |  9.4s"
       ]
      },
      {
       "output_type": "stream",
       "stream": "stdout",
       "text": [
        "\n",
        "   791  |  \u001b[94m  0.010255\u001b[0m  |    0.008611  |     1.190935  |             |  9.4s"
       ]
      },
      {
       "output_type": "stream",
       "stream": "stdout",
       "text": [
        "\n",
        "   792  |    0.010265  |    0.008625  |     1.190164  |             |  9.4s"
       ]
      },
      {
       "output_type": "stream",
       "stream": "stdout",
       "text": [
        "\n",
        "   793  |  \u001b[94m  0.010238\u001b[0m  |  \u001b[32m  0.008576\u001b[0m  |     1.193778  |             |  9.4s"
       ]
      },
      {
       "output_type": "stream",
       "stream": "stdout",
       "text": [
        "\n",
        "   794  |    0.010270  |    0.008686  |     1.182343  |             |  9.4s"
       ]
      },
      {
       "output_type": "stream",
       "stream": "stdout",
       "text": [
        "\n",
        "   795  |  \u001b[94m  0.010231\u001b[0m  |    0.008633  |     1.185098  |             |  9.4s"
       ]
      },
      {
       "output_type": "stream",
       "stream": "stdout",
       "text": [
        "\n",
        "   796  |    0.010268  |  \u001b[32m  0.008555\u001b[0m  |     1.200264  |             |  9.4s"
       ]
      },
      {
       "output_type": "stream",
       "stream": "stdout",
       "text": [
        "\n",
        "   797  |  \u001b[94m  0.010142\u001b[0m  |  \u001b[32m  0.008547\u001b[0m  |     1.186560  |             |  9.4s"
       ]
      },
      {
       "output_type": "stream",
       "stream": "stdout",
       "text": [
        "\n",
        "   798  |    0.010260  |    0.008618  |     1.190531  |             |  9.4s"
       ]
      },
      {
       "output_type": "stream",
       "stream": "stdout",
       "text": [
        "\n",
        "   799  |    0.010238  |    0.008558  |     1.196285  |             |  9.4s"
       ]
      },
      {
       "output_type": "stream",
       "stream": "stdout",
       "text": [
        "\n",
        "   800  |    0.010185  |  \u001b[32m  0.008540\u001b[0m  |     1.192600  |             |  9.4s"
       ]
      },
      {
       "output_type": "stream",
       "stream": "stdout",
       "text": [
        "\n",
        "   801  |    0.010185  |  \u001b[32m  0.008533\u001b[0m  |     1.193618  |             |  9.4s"
       ]
      },
      {
       "output_type": "stream",
       "stream": "stdout",
       "text": [
        "\n",
        "   802  |    0.010223  |  \u001b[32m  0.008532\u001b[0m  |     1.198282  |             |  9.4s"
       ]
      },
      {
       "output_type": "stream",
       "stream": "stdout",
       "text": [
        "\n",
        "   803  |    0.010171  |    0.008536  |     1.191508  |             |  9.4s"
       ]
      },
      {
       "output_type": "stream",
       "stream": "stdout",
       "text": [
        "\n",
        "   804  |  \u001b[94m  0.010134\u001b[0m  |  \u001b[32m  0.008473\u001b[0m  |     1.195993  |             |  9.4s"
       ]
      },
      {
       "output_type": "stream",
       "stream": "stdout",
       "text": [
        "\n",
        "   805  |    0.010183  |    0.008594  |     1.184900  |             |  9.4s"
       ]
      },
      {
       "output_type": "stream",
       "stream": "stdout",
       "text": [
        "\n",
        "   806  |  \u001b[94m  0.010132\u001b[0m  |    0.008474  |     1.195569  |             |  9.4s"
       ]
      },
      {
       "output_type": "stream",
       "stream": "stdout",
       "text": [
        "\n",
        "   807  |    0.010144  |  \u001b[32m  0.008451\u001b[0m  |     1.200279  |             |  9.4s"
       ]
      },
      {
       "output_type": "stream",
       "stream": "stdout",
       "text": [
        "\n",
        "   808  |    0.010144  |    0.008471  |     1.197549  |             |  9.4s"
       ]
      },
      {
       "output_type": "stream",
       "stream": "stdout",
       "text": [
        "\n",
        "   809  |  \u001b[94m  0.010097\u001b[0m  |    0.008544  |     1.181812  |             |  9.4s"
       ]
      },
      {
       "output_type": "stream",
       "stream": "stdout",
       "text": [
        "\n",
        "   810  |  \u001b[94m  0.010091\u001b[0m  |  \u001b[32m  0.008450\u001b[0m  |     1.194199  |             |  9.4s"
       ]
      },
      {
       "output_type": "stream",
       "stream": "stdout",
       "text": [
        "\n",
        "   811  |    0.010117  |  \u001b[32m  0.008438\u001b[0m  |     1.198933  |             |  9.4s"
       ]
      },
      {
       "output_type": "stream",
       "stream": "stdout",
       "text": [
        "\n",
        "   812  |  \u001b[94m  0.009999\u001b[0m  |    0.008480  |     1.179212  |             |  9.4s"
       ]
      },
      {
       "output_type": "stream",
       "stream": "stdout",
       "text": [
        "\n",
        "   813  |    0.010015  |    0.008500  |     1.178166  |             |  9.4s"
       ]
      },
      {
       "output_type": "stream",
       "stream": "stdout",
       "text": [
        "\n",
        "   814  |    0.010036  |  \u001b[32m  0.008412\u001b[0m  |     1.193017  |             |  9.4s"
       ]
      },
      {
       "output_type": "stream",
       "stream": "stdout",
       "text": [
        "\n",
        "   815  |    0.010029  |  \u001b[32m  0.008396\u001b[0m  |     1.194459  |             |  9.4s"
       ]
      },
      {
       "output_type": "stream",
       "stream": "stdout",
       "text": [
        "\n",
        "   816  |    0.010090  |    0.008425  |     1.197630  |             |  9.4s"
       ]
      },
      {
       "output_type": "stream",
       "stream": "stdout",
       "text": [
        "\n",
        "   817  |  \u001b[94m  0.009971\u001b[0m  |  \u001b[32m  0.008388\u001b[0m  |     1.188701  |             |  9.4s"
       ]
      },
      {
       "output_type": "stream",
       "stream": "stdout",
       "text": [
        "\n",
        "   818  |    0.010035  |    0.008514  |     1.178690  |             |  9.4s"
       ]
      },
      {
       "output_type": "stream",
       "stream": "stdout",
       "text": [
        "\n",
        "   819  |    0.009984  |  \u001b[32m  0.008380\u001b[0m  |     1.191522  |             |  9.4s"
       ]
      },
      {
       "output_type": "stream",
       "stream": "stdout",
       "text": [
        "\n",
        "   820  |    0.009976  |    0.008405  |     1.186968  |             |  9.4s"
       ]
      },
      {
       "output_type": "stream",
       "stream": "stdout",
       "text": [
        "\n",
        "   821  |  \u001b[94m  0.009957\u001b[0m  |    0.008388  |     1.187067  |             |  9.4s"
       ]
      },
      {
       "output_type": "stream",
       "stream": "stdout",
       "text": [
        "\n",
        "   822  |    0.009972  |  \u001b[32m  0.008378\u001b[0m  |     1.190278  |             |  9.4s"
       ]
      },
      {
       "output_type": "stream",
       "stream": "stdout",
       "text": [
        "\n",
        "   823  |  \u001b[94m  0.009940\u001b[0m  |    0.008428  |     1.179455  |             |  9.4s"
       ]
      },
      {
       "output_type": "stream",
       "stream": "stdout",
       "text": [
        "\n",
        "   824  |  \u001b[94m  0.009841\u001b[0m  |  \u001b[32m  0.008346\u001b[0m  |     1.179142  |             |  9.4s"
       ]
      },
      {
       "output_type": "stream",
       "stream": "stdout",
       "text": [
        "\n",
        "   825  |    0.009898  |  \u001b[32m  0.008319\u001b[0m  |     1.189874  |             |  9.4s"
       ]
      },
      {
       "output_type": "stream",
       "stream": "stdout",
       "text": [
        "\n",
        "   826  |    0.009873  |    0.008346  |     1.182985  |             |  9.4s"
       ]
      },
      {
       "output_type": "stream",
       "stream": "stdout",
       "text": [
        "\n",
        "   827  |    0.009961  |    0.008366  |     1.190691  |             |  9.4s"
       ]
      },
      {
       "output_type": "stream",
       "stream": "stdout",
       "text": [
        "\n",
        "   828  |    0.009905  |    0.008385  |     1.181236  |             |  9.4s"
       ]
      },
      {
       "output_type": "stream",
       "stream": "stdout",
       "text": [
        "\n",
        "   829  |  \u001b[94m  0.009840\u001b[0m  |    0.008343  |     1.179439  |             |  9.4s"
       ]
      },
      {
       "output_type": "stream",
       "stream": "stdout",
       "text": [
        "\n",
        "   830  |    0.009891  |    0.008340  |     1.185975  |             |  9.4s"
       ]
      },
      {
       "output_type": "stream",
       "stream": "stdout",
       "text": [
        "\n",
        "   831  |    0.009878  |    0.008366  |     1.180728  |             |  9.4s"
       ]
      },
      {
       "output_type": "stream",
       "stream": "stdout",
       "text": [
        "\n",
        "   832  |    0.009944  |  \u001b[32m  0.008312\u001b[0m  |     1.196284  |             |  9.4s"
       ]
      },
      {
       "output_type": "stream",
       "stream": "stdout",
       "text": [
        "\n",
        "   833  |    0.009875  |  \u001b[32m  0.008297\u001b[0m  |     1.190297  |             |  9.4s"
       ]
      },
      {
       "output_type": "stream",
       "stream": "stdout",
       "text": [
        "\n",
        "   834  |  \u001b[94m  0.009825\u001b[0m  |    0.008316  |     1.181544  |             |  9.4s"
       ]
      },
      {
       "output_type": "stream",
       "stream": "stdout",
       "text": [
        "\n",
        "   835  |  \u001b[94m  0.009821\u001b[0m  |  \u001b[32m  0.008289\u001b[0m  |     1.184860  |             |  9.4s"
       ]
      },
      {
       "output_type": "stream",
       "stream": "stdout",
       "text": [
        "\n",
        "   836  |  \u001b[94m  0.009819\u001b[0m  |    0.008368  |     1.173488  |             |  9.4s"
       ]
      },
      {
       "output_type": "stream",
       "stream": "stdout",
       "text": [
        "\n",
        "   837  |  \u001b[94m  0.009791\u001b[0m  |  \u001b[32m  0.008231\u001b[0m  |     1.189580  |             |  9.4s"
       ]
      },
      {
       "output_type": "stream",
       "stream": "stdout",
       "text": [
        "\n",
        "   838  |    0.009821  |    0.008261  |     1.188929  |             |  9.4s"
       ]
      },
      {
       "output_type": "stream",
       "stream": "stdout",
       "text": [
        "\n",
        "   839  |    0.009812  |    0.008311  |     1.180657  |             |  9.4s"
       ]
      },
      {
       "output_type": "stream",
       "stream": "stdout",
       "text": [
        "\n",
        "   840  |  \u001b[94m  0.009780\u001b[0m  |  \u001b[32m  0.008226\u001b[0m  |     1.188863  |             |  9.4s"
       ]
      },
      {
       "output_type": "stream",
       "stream": "stdout",
       "text": [
        "\n",
        "   841  |    0.009817  |    0.008251  |     1.189912  |             |  9.4s"
       ]
      },
      {
       "output_type": "stream",
       "stream": "stdout",
       "text": [
        "\n",
        "   842  |  \u001b[94m  0.009765\u001b[0m  |    0.008238  |     1.185406  |             |  9.4s"
       ]
      },
      {
       "output_type": "stream",
       "stream": "stdout",
       "text": [
        "\n",
        "   843  |  \u001b[94m  0.009765\u001b[0m  |    0.008266  |     1.181349  |             |  9.4s"
       ]
      },
      {
       "output_type": "stream",
       "stream": "stdout",
       "text": [
        "\n",
        "   844  |  \u001b[94m  0.009713\u001b[0m  |  \u001b[32m  0.008196\u001b[0m  |     1.185128  |             |  9.4s"
       ]
      },
      {
       "output_type": "stream",
       "stream": "stdout",
       "text": [
        "\n",
        "   845  |  \u001b[94m  0.009705\u001b[0m  |    0.008201  |     1.183397  |             |  9.4s"
       ]
      },
      {
       "output_type": "stream",
       "stream": "stdout",
       "text": [
        "\n",
        "   846  |    0.009718  |    0.008272  |     1.174793  |             |  9.4s"
       ]
      },
      {
       "output_type": "stream",
       "stream": "stdout",
       "text": [
        "\n",
        "   847  |  \u001b[94m  0.009654\u001b[0m  |    0.008275  |     1.166723  |             |  9.4s"
       ]
      },
      {
       "output_type": "stream",
       "stream": "stdout",
       "text": [
        "\n",
        "   848  |    0.009656  |    0.008277  |     1.166535  |             |  9.4s"
       ]
      },
      {
       "output_type": "stream",
       "stream": "stdout",
       "text": [
        "\n",
        "   849  |    0.009661  |  \u001b[32m  0.008146\u001b[0m  |     1.185967  |             |  9.4s"
       ]
      },
      {
       "output_type": "stream",
       "stream": "stdout",
       "text": [
        "\n",
        "   850  |    0.009657  |    0.008230  |     1.173460  |             |  9.4s"
       ]
      },
      {
       "output_type": "stream",
       "stream": "stdout",
       "text": [
        "\n",
        "   851  |  \u001b[94m  0.009647\u001b[0m  |    0.008169  |     1.180887  |             |  9.4s"
       ]
      },
      {
       "output_type": "stream",
       "stream": "stdout",
       "text": [
        "\n",
        "   852  |    0.009663  |    0.008169  |     1.182832  |             |  9.4s"
       ]
      },
      {
       "output_type": "stream",
       "stream": "stdout",
       "text": [
        "\n",
        "   853  |  \u001b[94m  0.009621\u001b[0m  |    0.008177  |     1.176608  |             |  9.4s"
       ]
      },
      {
       "output_type": "stream",
       "stream": "stdout",
       "text": [
        "\n",
        "   854  |  \u001b[94m  0.009601\u001b[0m  |    0.008218  |     1.168360  |             |  9.4s"
       ]
      },
      {
       "output_type": "stream",
       "stream": "stdout",
       "text": [
        "\n",
        "   855  |    0.009667  |    0.008152  |     1.185938  |             |  9.4s"
       ]
      },
      {
       "output_type": "stream",
       "stream": "stdout",
       "text": [
        "\n",
        "   856  |  \u001b[94m  0.009596\u001b[0m  |    0.008184  |     1.172577  |             |  9.4s"
       ]
      },
      {
       "output_type": "stream",
       "stream": "stdout",
       "text": [
        "\n",
        "   857  |  \u001b[94m  0.009564\u001b[0m  |    0.008222  |     1.163194  |             |  9.4s"
       ]
      },
      {
       "output_type": "stream",
       "stream": "stdout",
       "text": [
        "\n",
        "   858  |    0.009604  |    0.008234  |     1.166291  |             |  9.4s"
       ]
      },
      {
       "output_type": "stream",
       "stream": "stdout",
       "text": [
        "\n",
        "   859  |    0.009572  |    0.008225  |     1.163756  |             |  9.4s"
       ]
      },
      {
       "output_type": "stream",
       "stream": "stdout",
       "text": [
        "\n",
        "   860  |  \u001b[94m  0.009541\u001b[0m  |  \u001b[32m  0.008133\u001b[0m  |     1.173127  |             |  9.4s"
       ]
      },
      {
       "output_type": "stream",
       "stream": "stdout",
       "text": [
        "\n",
        "   861  |    0.009604  |  \u001b[32m  0.008092\u001b[0m  |     1.186786  |             |  9.4s"
       ]
      },
      {
       "output_type": "stream",
       "stream": "stdout",
       "text": [
        "\n",
        "   862  |    0.009561  |  \u001b[32m  0.008071\u001b[0m  |     1.184583  |             |  9.4s"
       ]
      },
      {
       "output_type": "stream",
       "stream": "stdout",
       "text": [
        "\n",
        "   863  |    0.009555  |    0.008123  |     1.176261  |             |  9.4s"
       ]
      },
      {
       "output_type": "stream",
       "stream": "stdout",
       "text": [
        "\n",
        "   864  |  \u001b[94m  0.009495\u001b[0m  |  \u001b[32m  0.008046\u001b[0m  |     1.180097  |             |  9.4s"
       ]
      },
      {
       "output_type": "stream",
       "stream": "stdout",
       "text": [
        "\n",
        "   865  |    0.009503  |    0.008105  |     1.172514  |             |  9.4s"
       ]
      },
      {
       "output_type": "stream",
       "stream": "stdout",
       "text": [
        "\n",
        "   866  |  \u001b[94m  0.009490\u001b[0m  |  \u001b[32m  0.008046\u001b[0m  |     1.179437  |             |  9.4s"
       ]
      },
      {
       "output_type": "stream",
       "stream": "stdout",
       "text": [
        "\n",
        "   867  |    0.009549  |    0.008072  |     1.183012  |             |  9.4s"
       ]
      },
      {
       "output_type": "stream",
       "stream": "stdout",
       "text": [
        "\n",
        "   868  |  \u001b[94m  0.009474\u001b[0m  |  \u001b[32m  0.008012\u001b[0m  |     1.182564  |             |  9.4s"
       ]
      },
      {
       "output_type": "stream",
       "stream": "stdout",
       "text": [
        "\n",
        "   869  |    0.009482  |    0.008094  |     1.171567  |             |  9.4s"
       ]
      },
      {
       "output_type": "stream",
       "stream": "stdout",
       "text": [
        "\n",
        "   870  |  \u001b[94m  0.009447\u001b[0m  |    0.008097  |     1.166782  |             |  9.4s"
       ]
      },
      {
       "output_type": "stream",
       "stream": "stdout",
       "text": [
        "\n",
        "   871  |    0.009501  |    0.008017  |     1.185109  |             |  9.4s"
       ]
      },
      {
       "output_type": "stream",
       "stream": "stdout",
       "text": [
        "\n",
        "   872  |    0.009454  |  \u001b[32m  0.008011\u001b[0m  |     1.180233  |             |  9.4s"
       ]
      },
      {
       "output_type": "stream",
       "stream": "stdout",
       "text": [
        "\n",
        "   873  |  \u001b[94m  0.009400\u001b[0m  |    0.008036  |     1.169855  |             |  9.4s"
       ]
      },
      {
       "output_type": "stream",
       "stream": "stdout",
       "text": [
        "\n",
        "   874  |    0.009427  |    0.008100  |     1.163878  |             |  9.4s"
       ]
      },
      {
       "output_type": "stream",
       "stream": "stdout",
       "text": [
        "\n",
        "   875  |  \u001b[94m  0.009392\u001b[0m  |  \u001b[32m  0.008008\u001b[0m  |     1.172850  |             |  9.4s"
       ]
      },
      {
       "output_type": "stream",
       "stream": "stdout",
       "text": [
        "\n",
        "   876  |  \u001b[94m  0.009337\u001b[0m  |  \u001b[32m  0.008000\u001b[0m  |     1.167160  |             |  9.4s"
       ]
      },
      {
       "output_type": "stream",
       "stream": "stdout",
       "text": [
        "\n",
        "   877  |    0.009390  |    0.008025  |     1.170041  |             |  9.4s"
       ]
      },
      {
       "output_type": "stream",
       "stream": "stdout",
       "text": [
        "\n",
        "   878  |    0.009372  |  \u001b[32m  0.007992\u001b[0m  |     1.172668  |             |  9.4s"
       ]
      },
      {
       "output_type": "stream",
       "stream": "stdout",
       "text": [
        "\n",
        "   879  |    0.009368  |  \u001b[32m  0.007991\u001b[0m  |     1.172316  |             |  9.4s"
       ]
      },
      {
       "output_type": "stream",
       "stream": "stdout",
       "text": [
        "\n",
        "   880  |    0.009393  |    0.008042  |     1.167992  |             |  9.4s"
       ]
      },
      {
       "output_type": "stream",
       "stream": "stdout",
       "text": [
        "\n",
        "   881  |    0.009344  |    0.008070  |     1.157805  |             |  9.4s"
       ]
      },
      {
       "output_type": "stream",
       "stream": "stdout",
       "text": [
        "\n",
        "   882  |    0.009365  |  \u001b[32m  0.007967\u001b[0m  |     1.175571  |             |  9.4s"
       ]
      },
      {
       "output_type": "stream",
       "stream": "stdout",
       "text": [
        "\n",
        "   883  |    0.009384  |    0.008033  |     1.168128  |             |  9.4s"
       ]
      },
      {
       "output_type": "stream",
       "stream": "stdout",
       "text": [
        "\n",
        "   884  |  \u001b[94m  0.009260\u001b[0m  |    0.008022  |     1.154284  |             |  9.4s"
       ]
      },
      {
       "output_type": "stream",
       "stream": "stdout",
       "text": [
        "\n",
        "   885  |    0.009324  |    0.007984  |     1.167886  |             |  9.4s"
       ]
      },
      {
       "output_type": "stream",
       "stream": "stdout",
       "text": [
        "\n",
        "   886  |    0.009313  |  \u001b[32m  0.007966\u001b[0m  |     1.169011  |             |  9.4s"
       ]
      },
      {
       "output_type": "stream",
       "stream": "stdout",
       "text": [
        "\n",
        "   887  |    0.009312  |  \u001b[32m  0.007949\u001b[0m  |     1.171549  |             |  9.4s"
       ]
      },
      {
       "output_type": "stream",
       "stream": "stdout",
       "text": [
        "\n",
        "   888  |    0.009286  |    0.008060  |     1.152138  |             |  9.4s"
       ]
      },
      {
       "output_type": "stream",
       "stream": "stdout",
       "text": [
        "\n",
        "   889  |  \u001b[94m  0.009246\u001b[0m  |    0.007991  |     1.156992  |             |  9.4s"
       ]
      },
      {
       "output_type": "stream",
       "stream": "stdout",
       "text": [
        "\n",
        "   890  |  \u001b[94m  0.009222\u001b[0m  |    0.008019  |     1.150031  |             |  9.4s"
       ]
      },
      {
       "output_type": "stream",
       "stream": "stdout",
       "text": [
        "\n",
        "   891  |    0.009251  |  \u001b[32m  0.007898\u001b[0m  |     1.171295  |             |  9.4s"
       ]
      },
      {
       "output_type": "stream",
       "stream": "stdout",
       "text": [
        "\n",
        "   892  |    0.009241  |    0.007995  |     1.155880  |             |  9.4s"
       ]
      },
      {
       "output_type": "stream",
       "stream": "stdout",
       "text": [
        "\n",
        "   893  |    0.009263  |    0.007920  |     1.169644  |             |  9.4s"
       ]
      },
      {
       "output_type": "stream",
       "stream": "stdout",
       "text": [
        "\n",
        "   894  |    0.009310  |    0.007963  |     1.169265  |             |  9.4s"
       ]
      },
      {
       "output_type": "stream",
       "stream": "stdout",
       "text": [
        "\n",
        "   895  |  \u001b[94m  0.009222\u001b[0m  |  \u001b[32m  0.007885\u001b[0m  |     1.169569  |             |  9.4s"
       ]
      },
      {
       "output_type": "stream",
       "stream": "stdout",
       "text": [
        "\n",
        "   896  |    0.009237  |    0.007907  |     1.168132  |             |  9.4s"
       ]
      },
      {
       "output_type": "stream",
       "stream": "stdout",
       "text": [
        "\n",
        "   897  |    0.009242  |    0.007907  |     1.168897  |             |  9.4s"
       ]
      },
      {
       "output_type": "stream",
       "stream": "stdout",
       "text": [
        "\n",
        "   898  |  \u001b[94m  0.009208\u001b[0m  |    0.007907  |     1.164526  |             |  9.4s"
       ]
      },
      {
       "output_type": "stream",
       "stream": "stdout",
       "text": [
        "\n",
        "   899  |  \u001b[94m  0.009185\u001b[0m  |    0.007897  |     1.163165  |             |  9.4s"
       ]
      },
      {
       "output_type": "stream",
       "stream": "stdout",
       "text": [
        "\n",
        "   900  |  \u001b[94m  0.009152\u001b[0m  |    0.007971  |     1.148085  |             |  9.4s"
       ]
      },
      {
       "output_type": "stream",
       "stream": "stdout",
       "text": [
        "\n",
        "   901  |    0.009209  |  \u001b[32m  0.007822\u001b[0m  |     1.177342  |             |  9.4s"
       ]
      },
      {
       "output_type": "stream",
       "stream": "stdout",
       "text": [
        "\n",
        "   902  |    0.009153  |    0.007931  |     1.154078  |             |  9.4s"
       ]
      },
      {
       "output_type": "stream",
       "stream": "stdout",
       "text": [
        "\n",
        "   903  |    0.009191  |    0.007946  |     1.156680  |             |  9.4s"
       ]
      },
      {
       "output_type": "stream",
       "stream": "stdout",
       "text": [
        "\n",
        "   904  |  \u001b[94m  0.009098\u001b[0m  |    0.007933  |     1.146887  |             |  9.4s"
       ]
      },
      {
       "output_type": "stream",
       "stream": "stdout",
       "text": [
        "\n",
        "   905  |    0.009168  |  \u001b[32m  0.007778\u001b[0m  |     1.178614  |             |  9.4s"
       ]
      },
      {
       "output_type": "stream",
       "stream": "stdout",
       "text": [
        "\n",
        "   906  |    0.009107  |    0.007889  |     1.154422  |             |  9.4s"
       ]
      },
      {
       "output_type": "stream",
       "stream": "stdout",
       "text": [
        "\n",
        "   907  |    0.009126  |    0.007822  |     1.166623  |             |  9.4s"
       ]
      },
      {
       "output_type": "stream",
       "stream": "stdout",
       "text": [
        "\n",
        "   908  |  \u001b[94m  0.009079\u001b[0m  |    0.007840  |     1.157971  |             |  9.4s"
       ]
      },
      {
       "output_type": "stream",
       "stream": "stdout",
       "text": [
        "\n",
        "   909  |    0.009132  |  \u001b[32m  0.007768\u001b[0m  |     1.175613  |             |  9.4s"
       ]
      },
      {
       "output_type": "stream",
       "stream": "stdout",
       "text": [
        "\n",
        "   910  |  \u001b[94m  0.009047\u001b[0m  |    0.007820  |     1.156904  |             |  9.4s"
       ]
      },
      {
       "output_type": "stream",
       "stream": "stdout",
       "text": [
        "\n",
        "   911  |  \u001b[94m  0.009045\u001b[0m  |    0.007785  |     1.161831  |             |  9.4s"
       ]
      },
      {
       "output_type": "stream",
       "stream": "stdout",
       "text": [
        "\n",
        "   912  |    0.009096  |    0.007795  |     1.166820  |             |  9.4s"
       ]
      },
      {
       "output_type": "stream",
       "stream": "stdout",
       "text": [
        "\n",
        "   913  |    0.009054  |    0.007844  |     1.154190  |             |  9.4s"
       ]
      },
      {
       "output_type": "stream",
       "stream": "stdout",
       "text": [
        "\n",
        "   914  |    0.009103  |    0.007801  |     1.166927  |             |  9.4s"
       ]
      },
      {
       "output_type": "stream",
       "stream": "stdout",
       "text": [
        "\n",
        "   915  |    0.009047  |  \u001b[32m  0.007754\u001b[0m  |     1.166642  |             |  9.4s"
       ]
      },
      {
       "output_type": "stream",
       "stream": "stdout",
       "text": [
        "\n",
        "   916  |    0.009052  |    0.007803  |     1.160041  |             |  9.4s"
       ]
      },
      {
       "output_type": "stream",
       "stream": "stdout",
       "text": [
        "\n",
        "   917  |  \u001b[94m  0.008984\u001b[0m  |  \u001b[32m  0.007743\u001b[0m  |     1.160287  |             |  9.4s"
       ]
      },
      {
       "output_type": "stream",
       "stream": "stdout",
       "text": [
        "\n",
        "   918  |    0.009073  |    0.007795  |     1.163897  |             |  9.4s"
       ]
      },
      {
       "output_type": "stream",
       "stream": "stdout",
       "text": [
        "\n",
        "   919  |    0.009062  |    0.007847  |     1.154837  |             |  9.4s"
       ]
      },
      {
       "output_type": "stream",
       "stream": "stdout",
       "text": [
        "\n",
        "   920  |    0.008990  |    0.007791  |     1.153859  |             |  9.4s"
       ]
      },
      {
       "output_type": "stream",
       "stream": "stdout",
       "text": [
        "\n",
        "   921  |    0.009036  |    0.007792  |     1.159694  |             |  9.4s"
       ]
      },
      {
       "output_type": "stream",
       "stream": "stdout",
       "text": [
        "\n",
        "   922  |    0.008999  |    0.007756  |     1.160186  |             |  9.4s"
       ]
      },
      {
       "output_type": "stream",
       "stream": "stdout",
       "text": [
        "\n",
        "   923  |  \u001b[94m  0.008980\u001b[0m  |    0.007763  |     1.156855  |             |  9.4s"
       ]
      },
      {
       "output_type": "stream",
       "stream": "stdout",
       "text": [
        "\n",
        "   924  |    0.008996  |  \u001b[32m  0.007728\u001b[0m  |     1.164135  |             |  9.4s"
       ]
      },
      {
       "output_type": "stream",
       "stream": "stdout",
       "text": [
        "\n",
        "   925  |    0.008983  |    0.007787  |     1.153545  |             |  9.4s"
       ]
      },
      {
       "output_type": "stream",
       "stream": "stdout",
       "text": [
        "\n",
        "   926  |    0.009047  |    0.007755  |     1.166589  |             |  9.4s"
       ]
      },
      {
       "output_type": "stream",
       "stream": "stdout",
       "text": [
        "\n",
        "   927  |    0.008992  |    0.007758  |     1.158949  |             |  9.4s"
       ]
      },
      {
       "output_type": "stream",
       "stream": "stdout",
       "text": [
        "\n",
        "   928  |  \u001b[94m  0.008971\u001b[0m  |    0.007741  |     1.158849  |             |  9.4s"
       ]
      },
      {
       "output_type": "stream",
       "stream": "stdout",
       "text": [
        "\n",
        "   929  |  \u001b[94m  0.008949\u001b[0m  |  \u001b[32m  0.007710\u001b[0m  |     1.160651  |             |  9.4s"
       ]
      },
      {
       "output_type": "stream",
       "stream": "stdout",
       "text": [
        "\n",
        "   930  |  \u001b[94m  0.008932\u001b[0m  |    0.007711  |     1.158241  |             |  9.4s"
       ]
      },
      {
       "output_type": "stream",
       "stream": "stdout",
       "text": [
        "\n",
        "   931  |    0.008960  |    0.007711  |     1.161955  |             |  9.4s"
       ]
      },
      {
       "output_type": "stream",
       "stream": "stdout",
       "text": [
        "\n",
        "   932  |  \u001b[94m  0.008892\u001b[0m  |    0.007720  |     1.151753  |             |  9.4s"
       ]
      },
      {
       "output_type": "stream",
       "stream": "stdout",
       "text": [
        "\n",
        "   933  |    0.008928  |    0.007725  |     1.155681  |             |  9.4s"
       ]
      },
      {
       "output_type": "stream",
       "stream": "stdout",
       "text": [
        "\n",
        "   934  |  \u001b[94m  0.008886\u001b[0m  |  \u001b[32m  0.007679\u001b[0m  |     1.157089  |             |  9.4s"
       ]
      },
      {
       "output_type": "stream",
       "stream": "stdout",
       "text": [
        "\n",
        "   935  |  \u001b[94m  0.008823\u001b[0m  |  \u001b[32m  0.007669\u001b[0m  |     1.150420  |             |  9.4s"
       ]
      },
      {
       "output_type": "stream",
       "stream": "stdout",
       "text": [
        "\n",
        "   936  |    0.008861  |  \u001b[32m  0.007654\u001b[0m  |     1.157598  |             |  9.4s"
       ]
      },
      {
       "output_type": "stream",
       "stream": "stdout",
       "text": [
        "\n",
        "   937  |    0.008899  |    0.007667  |     1.160653  |             |  9.4s"
       ]
      },
      {
       "output_type": "stream",
       "stream": "stdout",
       "text": [
        "\n",
        "   938  |    0.008877  |    0.007681  |     1.155768  |             |  9.4s"
       ]
      },
      {
       "output_type": "stream",
       "stream": "stdout",
       "text": [
        "\n",
        "   939  |    0.008836  |    0.007679  |     1.150768  |             |  9.4s"
       ]
      },
      {
       "output_type": "stream",
       "stream": "stdout",
       "text": [
        "\n",
        "   940  |    0.008857  |    0.007656  |     1.156866  |             |  9.4s"
       ]
      },
      {
       "output_type": "stream",
       "stream": "stdout",
       "text": [
        "\n",
        "   941  |  \u001b[94m  0.008813\u001b[0m  |    0.007710  |     1.143088  |             |  9.4s"
       ]
      },
      {
       "output_type": "stream",
       "stream": "stdout",
       "text": [
        "\n",
        "   942  |    0.008881  |  \u001b[32m  0.007597\u001b[0m  |     1.169014  |             |  9.4s"
       ]
      },
      {
       "output_type": "stream",
       "stream": "stdout",
       "text": [
        "\n",
        "   943  |    0.008837  |    0.007714  |     1.145697  |             |  9.4s"
       ]
      },
      {
       "output_type": "stream",
       "stream": "stdout",
       "text": [
        "\n",
        "   944  |  \u001b[94m  0.008809\u001b[0m  |    0.007667  |     1.148946  |             |  9.4s"
       ]
      },
      {
       "output_type": "stream",
       "stream": "stdout",
       "text": [
        "\n",
        "   945  |    0.008876  |    0.007692  |     1.153856  |             |  9.4s"
       ]
      },
      {
       "output_type": "stream",
       "stream": "stdout",
       "text": [
        "\n",
        "   946  |    0.008884  |    0.007637  |     1.163397  |             |  9.4s"
       ]
      },
      {
       "output_type": "stream",
       "stream": "stdout",
       "text": [
        "\n",
        "   947  |  \u001b[94m  0.008799\u001b[0m  |    0.007713  |     1.140745  |             |  9.4s"
       ]
      },
      {
       "output_type": "stream",
       "stream": "stdout",
       "text": [
        "\n",
        "   948  |  \u001b[94m  0.008733\u001b[0m  |    0.007621  |     1.145964  |             |  9.4s"
       ]
      },
      {
       "output_type": "stream",
       "stream": "stdout",
       "text": [
        "\n",
        "   949  |    0.008806  |    0.007635  |     1.153335  |             |  9.4s"
       ]
      },
      {
       "output_type": "stream",
       "stream": "stdout",
       "text": [
        "\n",
        "   950  |    0.008756  |    0.007691  |     1.138468  |             |  9.4s"
       ]
      },
      {
       "output_type": "stream",
       "stream": "stdout",
       "text": [
        "\n",
        "   951  |    0.008766  |    0.007623  |     1.150038  |             |  9.4s"
       ]
      },
      {
       "output_type": "stream",
       "stream": "stdout",
       "text": [
        "\n",
        "   952  |  \u001b[94m  0.008700\u001b[0m  |    0.007624  |     1.141000  |             |  9.4s"
       ]
      },
      {
       "output_type": "stream",
       "stream": "stdout",
       "text": [
        "\n",
        "   953  |    0.008799  |  \u001b[32m  0.007591\u001b[0m  |     1.159100  |             |  9.4s"
       ]
      },
      {
       "output_type": "stream",
       "stream": "stdout",
       "text": [
        "\n",
        "   954  |    0.008748  |  \u001b[32m  0.007573\u001b[0m  |     1.155199  |             |  9.4s"
       ]
      },
      {
       "output_type": "stream",
       "stream": "stdout",
       "text": [
        "\n",
        "   955  |    0.008784  |    0.007607  |     1.154768  |             |  9.4s"
       ]
      },
      {
       "output_type": "stream",
       "stream": "stdout",
       "text": [
        "\n",
        "   956  |    0.008778  |    0.007589  |     1.156766  |             |  9.4s"
       ]
      },
      {
       "output_type": "stream",
       "stream": "stdout",
       "text": [
        "\n",
        "   957  |    0.008760  |  \u001b[32m  0.007555\u001b[0m  |     1.159474  |             |  9.4s"
       ]
      },
      {
       "output_type": "stream",
       "stream": "stdout",
       "text": [
        "\n",
        "   958  |    0.008708  |    0.007602  |     1.145496  |             |  9.4s"
       ]
      },
      {
       "output_type": "stream",
       "stream": "stdout",
       "text": [
        "\n",
        "   959  |  \u001b[94m  0.008662\u001b[0m  |    0.007562  |     1.145419  |             |  9.4s"
       ]
      },
      {
       "output_type": "stream",
       "stream": "stdout",
       "text": [
        "\n",
        "   960  |    0.008743  |    0.007582  |     1.153149  |             |  9.4s"
       ]
      },
      {
       "output_type": "stream",
       "stream": "stdout",
       "text": [
        "\n",
        "   961  |  \u001b[94m  0.008652\u001b[0m  |    0.007635  |     1.133203  |             |  9.4s"
       ]
      },
      {
       "output_type": "stream",
       "stream": "stdout",
       "text": [
        "\n",
        "   962  |    0.008668  |    0.007594  |     1.141405  |             |  9.4s"
       ]
      },
      {
       "output_type": "stream",
       "stream": "stdout",
       "text": [
        "\n",
        "   963  |    0.008669  |    0.007598  |     1.140961  |             |  9.4s"
       ]
      },
      {
       "output_type": "stream",
       "stream": "stdout",
       "text": [
        "\n",
        "   964  |    0.008716  |  \u001b[32m  0.007527\u001b[0m  |     1.157912  |             |  9.4s"
       ]
      },
      {
       "output_type": "stream",
       "stream": "stdout",
       "text": [
        "\n",
        "   965  |    0.008671  |    0.007555  |     1.147799  |             |  9.4s"
       ]
      },
      {
       "output_type": "stream",
       "stream": "stdout",
       "text": [
        "\n",
        "   966  |    0.008703  |  \u001b[32m  0.007516\u001b[0m  |     1.157875  |             |  9.4s"
       ]
      },
      {
       "output_type": "stream",
       "stream": "stdout",
       "text": [
        "\n",
        "   967  |  \u001b[94m  0.008629\u001b[0m  |  \u001b[32m  0.007504\u001b[0m  |     1.149897  |             |  9.4s"
       ]
      },
      {
       "output_type": "stream",
       "stream": "stdout",
       "text": [
        "\n",
        "   968  |    0.008675  |    0.007543  |     1.150069  |             |  9.4s"
       ]
      },
      {
       "output_type": "stream",
       "stream": "stdout",
       "text": [
        "\n",
        "   969  |    0.008631  |    0.007504  |     1.150160  |             |  9.4s"
       ]
      },
      {
       "output_type": "stream",
       "stream": "stdout",
       "text": [
        "\n",
        "   970  |  \u001b[94m  0.008595\u001b[0m  |    0.007596  |     1.131505  |             |  9.4s"
       ]
      },
      {
       "output_type": "stream",
       "stream": "stdout",
       "text": [
        "\n",
        "   971  |    0.008634  |  \u001b[32m  0.007446\u001b[0m  |     1.159558  |             |  9.4s"
       ]
      },
      {
       "output_type": "stream",
       "stream": "stdout",
       "text": [
        "\n",
        "   972  |  \u001b[94m  0.008593\u001b[0m  |    0.007502  |     1.145428  |             |  9.4s"
       ]
      },
      {
       "output_type": "stream",
       "stream": "stdout",
       "text": [
        "\n",
        "   973  |  \u001b[94m  0.008581\u001b[0m  |    0.007557  |     1.135539  |             |  9.4s"
       ]
      },
      {
       "output_type": "stream",
       "stream": "stdout",
       "text": [
        "\n",
        "   974  |    0.008602  |    0.007510  |     1.145377  |             |  9.4s"
       ]
      },
      {
       "output_type": "stream",
       "stream": "stdout",
       "text": [
        "\n",
        "   975  |    0.008587  |    0.007529  |     1.140543  |             |  9.4s"
       ]
      },
      {
       "output_type": "stream",
       "stream": "stdout",
       "text": [
        "\n",
        "   976  |    0.008619  |  \u001b[32m  0.007443\u001b[0m  |     1.157978  |             |  9.4s"
       ]
      },
      {
       "output_type": "stream",
       "stream": "stdout",
       "text": [
        "\n",
        "   977  |  \u001b[94m  0.008565\u001b[0m  |    0.007553  |     1.133922  |             |  9.4s"
       ]
      },
      {
       "output_type": "stream",
       "stream": "stdout",
       "text": [
        "\n",
        "   978  |  \u001b[94m  0.008555\u001b[0m  |  \u001b[32m  0.007426\u001b[0m  |     1.152013  |             |  9.4s"
       ]
      },
      {
       "output_type": "stream",
       "stream": "stdout",
       "text": [
        "\n",
        "   979  |    0.008571  |    0.007490  |     1.144327  |             |  9.4s"
       ]
      },
      {
       "output_type": "stream",
       "stream": "stdout",
       "text": [
        "\n",
        "   980  |  \u001b[94m  0.008546\u001b[0m  |    0.007467  |     1.144431  |             |  9.4s"
       ]
      },
      {
       "output_type": "stream",
       "stream": "stdout",
       "text": [
        "\n",
        "   981  |    0.008547  |    0.007598  |     1.124972  |             |  9.4s"
       ]
      },
      {
       "output_type": "stream",
       "stream": "stdout",
       "text": [
        "\n",
        "   982  |    0.008628  |    0.007443  |     1.159233  |             |  9.4s"
       ]
      },
      {
       "output_type": "stream",
       "stream": "stdout",
       "text": [
        "\n",
        "   983  |  \u001b[94m  0.008487\u001b[0m  |  \u001b[32m  0.007391\u001b[0m  |     1.148239  |             |  9.4s"
       ]
      },
      {
       "output_type": "stream",
       "stream": "stdout",
       "text": [
        "\n",
        "   984  |    0.008515  |    0.007449  |     1.142986  |             |  9.4s"
       ]
      },
      {
       "output_type": "stream",
       "stream": "stdout",
       "text": [
        "\n",
        "   985  |    0.008502  |    0.007420  |     1.145894  |             |  9.4s"
       ]
      },
      {
       "output_type": "stream",
       "stream": "stdout",
       "text": [
        "\n",
        "   986  |  \u001b[94m  0.008478\u001b[0m  |    0.007432  |     1.140671  |             |  9.4s"
       ]
      },
      {
       "output_type": "stream",
       "stream": "stdout",
       "text": [
        "\n",
        "   987  |    0.008545  |    0.007448  |     1.147328  |             |  9.4s"
       ]
      },
      {
       "output_type": "stream",
       "stream": "stdout",
       "text": [
        "\n",
        "   988  |  \u001b[94m  0.008454\u001b[0m  |    0.007480  |     1.130258  |             |  9.4s"
       ]
      },
      {
       "output_type": "stream",
       "stream": "stdout",
       "text": [
        "\n",
        "   989  |    0.008478  |    0.007418  |     1.142917  |             |  9.4s"
       ]
      },
      {
       "output_type": "stream",
       "stream": "stdout",
       "text": [
        "\n",
        "   990  |    0.008471  |    0.007401  |     1.144574  |             |  9.4s"
       ]
      },
      {
       "output_type": "stream",
       "stream": "stdout",
       "text": [
        "\n",
        "   991  |    0.008507  |    0.007428  |     1.145261  |             |  9.4s"
       ]
      },
      {
       "output_type": "stream",
       "stream": "stdout",
       "text": [
        "\n",
        "   992  |    0.008514  |  \u001b[32m  0.007372\u001b[0m  |     1.154953  |             |  9.4s"
       ]
      },
      {
       "output_type": "stream",
       "stream": "stdout",
       "text": [
        "\n",
        "   993  |    0.008509  |    0.007426  |     1.145848  |             |  9.4s"
       ]
      },
      {
       "output_type": "stream",
       "stream": "stdout",
       "text": [
        "\n",
        "   994  |    0.008471  |    0.007465  |     1.134823  |             |  9.4s"
       ]
      },
      {
       "output_type": "stream",
       "stream": "stdout",
       "text": [
        "\n",
        "   995  |  \u001b[94m  0.008425\u001b[0m  |    0.007406  |     1.137570  |             |  9.4s"
       ]
      },
      {
       "output_type": "stream",
       "stream": "stdout",
       "text": [
        "\n",
        "   996  |    0.008446  |  \u001b[32m  0.007363\u001b[0m  |     1.147056  |             |  9.4s"
       ]
      },
      {
       "output_type": "stream",
       "stream": "stdout",
       "text": [
        "\n",
        "   997  |    0.008454  |  \u001b[32m  0.007362\u001b[0m  |     1.148331  |             |  9.4s"
       ]
      },
      {
       "output_type": "stream",
       "stream": "stdout",
       "text": [
        "\n",
        "   998  |  \u001b[94m  0.008411\u001b[0m  |    0.007381  |     1.139498  |             |  9.4s"
       ]
      },
      {
       "output_type": "stream",
       "stream": "stdout",
       "text": [
        "\n",
        "   999  |    0.008441  |    0.007368  |     1.145679  |             |  9.4s"
       ]
      },
      {
       "output_type": "stream",
       "stream": "stdout",
       "text": [
        "\n",
        "  1000  |  \u001b[94m  0.008409\u001b[0m  |    0.007413  |     1.134413  |             |  9.4s"
       ]
      },
      {
       "output_type": "stream",
       "stream": "stdout",
       "text": [
        "\n",
        "  1001  |  \u001b[94m  0.008390\u001b[0m  |    0.007408  |     1.132551  |             |  9.4s"
       ]
      },
      {
       "output_type": "stream",
       "stream": "stdout",
       "text": [
        "\n",
        "  1002  |    0.008393  |    0.007393  |     1.135260  |             |  9.4s"
       ]
      },
      {
       "output_type": "stream",
       "stream": "stdout",
       "text": [
        "\n",
        "  1003  |    0.008427  |    0.007364  |     1.144347  |             |  9.4s"
       ]
      },
      {
       "output_type": "stream",
       "stream": "stdout",
       "text": [
        "\n",
        "  1004  |  \u001b[94m  0.008335\u001b[0m  |  \u001b[32m  0.007357\u001b[0m  |     1.132849  |             |  9.4s"
       ]
      },
      {
       "output_type": "stream",
       "stream": "stdout",
       "text": [
        "\n",
        "  1005  |    0.008376  |    0.007369  |     1.136533  |             |  9.4s"
       ]
      },
      {
       "output_type": "stream",
       "stream": "stdout",
       "text": [
        "\n",
        "  1006  |    0.008438  |  \u001b[32m  0.007323\u001b[0m  |     1.152300  |             |  9.4s"
       ]
      },
      {
       "output_type": "stream",
       "stream": "stdout",
       "text": [
        "\n",
        "  1007  |    0.008341  |    0.007467  |     1.117063  |             |  9.4s"
       ]
      },
      {
       "output_type": "stream",
       "stream": "stdout",
       "text": [
        "\n",
        "  1008  |  \u001b[94m  0.008326\u001b[0m  |  \u001b[32m  0.007318\u001b[0m  |     1.137716  |             |  9.4s"
       ]
      },
      {
       "output_type": "stream",
       "stream": "stdout",
       "text": [
        "\n",
        "  1009  |    0.008346  |    0.007349  |     1.135757  |             |  9.4s"
       ]
      },
      {
       "output_type": "stream",
       "stream": "stdout",
       "text": [
        "\n",
        "  1010  |    0.008413  |    0.007330  |     1.147611  |             |  9.4s"
       ]
      },
      {
       "output_type": "stream",
       "stream": "stdout",
       "text": [
        "\n",
        "  1011  |  \u001b[94m  0.008324\u001b[0m  |    0.007343  |     1.133575  |             |  9.4s"
       ]
      },
      {
       "output_type": "stream",
       "stream": "stdout",
       "text": [
        "\n",
        "  1012  |  \u001b[94m  0.008284\u001b[0m  |    0.007438  |     1.113724  |             |  9.4s"
       ]
      },
      {
       "output_type": "stream",
       "stream": "stdout",
       "text": [
        "\n",
        "  1013  |    0.008293  |    0.007376  |     1.124409  |             |  9.4s"
       ]
      },
      {
       "output_type": "stream",
       "stream": "stdout",
       "text": [
        "\n",
        "  1014  |    0.008331  |    0.007358  |     1.132176  |             |  9.4s"
       ]
      },
      {
       "output_type": "stream",
       "stream": "stdout",
       "text": [
        "\n",
        "  1015  |  \u001b[94m  0.008283\u001b[0m  |    0.007332  |     1.129682  |             |  9.4s"
       ]
      },
      {
       "output_type": "stream",
       "stream": "stdout",
       "text": [
        "\n",
        "  1016  |    0.008350  |    0.007326  |     1.139798  |             |  9.4s"
       ]
      },
      {
       "output_type": "stream",
       "stream": "stdout",
       "text": [
        "\n",
        "  1017  |    0.008317  |    0.007423  |     1.120341  |             |  9.4s"
       ]
      },
      {
       "output_type": "stream",
       "stream": "stdout",
       "text": [
        "\n",
        "  1018  |    0.008293  |    0.007357  |     1.127209  |             |  9.4s"
       ]
      },
      {
       "output_type": "stream",
       "stream": "stdout",
       "text": [
        "\n",
        "  1019  |    0.008294  |    0.007363  |     1.126475  |             |  9.4s"
       ]
      },
      {
       "output_type": "stream",
       "stream": "stdout",
       "text": [
        "\n",
        "  1020  |    0.008332  |  \u001b[32m  0.007282\u001b[0m  |     1.144306  |             |  9.4s"
       ]
      },
      {
       "output_type": "stream",
       "stream": "stdout",
       "text": [
        "\n",
        "  1021  |    0.008296  |    0.007320  |     1.133325  |             |  9.4s"
       ]
      },
      {
       "output_type": "stream",
       "stream": "stdout",
       "text": [
        "\n",
        "  1022  |  \u001b[94m  0.008275\u001b[0m  |    0.007394  |     1.119174  |             |  9.4s"
       ]
      },
      {
       "output_type": "stream",
       "stream": "stdout",
       "text": [
        "\n",
        "  1023  |  \u001b[94m  0.008273\u001b[0m  |    0.007305  |     1.132543  |             |  9.4s"
       ]
      },
      {
       "output_type": "stream",
       "stream": "stdout",
       "text": [
        "\n",
        "  1024  |  \u001b[94m  0.008258\u001b[0m  |  \u001b[32m  0.007190\u001b[0m  |     1.148441  |             |  9.4s"
       ]
      },
      {
       "output_type": "stream",
       "stream": "stdout",
       "text": [
        "\n",
        "  1025  |  \u001b[94m  0.008229\u001b[0m  |    0.007263  |     1.132954  |             |  9.4s"
       ]
      },
      {
       "output_type": "stream",
       "stream": "stdout",
       "text": [
        "\n",
        "  1026  |  \u001b[94m  0.008200\u001b[0m  |    0.007249  |     1.131168  |             |  9.4s"
       ]
      },
      {
       "output_type": "stream",
       "stream": "stdout",
       "text": [
        "\n",
        "  1027  |    0.008257  |    0.007321  |     1.127890  |             |  9.4s"
       ]
      },
      {
       "output_type": "stream",
       "stream": "stdout",
       "text": [
        "\n",
        "  1028  |  \u001b[94m  0.008159\u001b[0m  |    0.007211  |     1.131436  |             |  9.4s"
       ]
      },
      {
       "output_type": "stream",
       "stream": "stdout",
       "text": [
        "\n",
        "  1029  |    0.008224  |    0.007219  |     1.139235  |             |  9.4s"
       ]
      },
      {
       "output_type": "stream",
       "stream": "stdout",
       "text": [
        "\n",
        "  1030  |    0.008289  |    0.007268  |     1.140466  |             |  9.4s"
       ]
      },
      {
       "output_type": "stream",
       "stream": "stdout",
       "text": [
        "\n",
        "  1031  |    0.008238  |    0.007307  |     1.127418  |             |  9.4s"
       ]
      },
      {
       "output_type": "stream",
       "stream": "stdout",
       "text": [
        "\n",
        "  1032  |    0.008164  |    0.007255  |     1.125384  |             |  9.4s"
       ]
      },
      {
       "output_type": "stream",
       "stream": "stdout",
       "text": [
        "\n",
        "  1033  |  \u001b[94m  0.008122\u001b[0m  |    0.007238  |     1.122158  |             |  9.4s"
       ]
      },
      {
       "output_type": "stream",
       "stream": "stdout",
       "text": [
        "\n",
        "  1034  |    0.008160  |    0.007312  |     1.115950  |             |  9.4s"
       ]
      },
      {
       "output_type": "stream",
       "stream": "stdout",
       "text": [
        "\n",
        "  1035  |    0.008153  |    0.007231  |     1.127585  |             |  9.4s"
       ]
      },
      {
       "output_type": "stream",
       "stream": "stdout",
       "text": [
        "\n",
        "  1036  |    0.008160  |    0.007303  |     1.117349  |             |  9.4s"
       ]
      },
      {
       "output_type": "stream",
       "stream": "stdout",
       "text": [
        "\n",
        "  1037  |    0.008190  |    0.007229  |     1.132951  |             |  9.4s"
       ]
      },
      {
       "output_type": "stream",
       "stream": "stdout",
       "text": [
        "\n",
        "  1038  |    0.008181  |    0.007249  |     1.128697  |             |  9.4s"
       ]
      },
      {
       "output_type": "stream",
       "stream": "stdout",
       "text": [
        "\n",
        "  1039  |    0.008207  |    0.007322  |     1.120831  |             |  9.4s"
       ]
      },
      {
       "output_type": "stream",
       "stream": "stdout",
       "text": [
        "\n",
        "  1040  |    0.008133  |    0.007245  |     1.122504  |             |  9.4s"
       ]
      },
      {
       "output_type": "stream",
       "stream": "stdout",
       "text": [
        "\n",
        "  1041  |    0.008151  |    0.007228  |     1.127700  |             |  9.4s"
       ]
      },
      {
       "output_type": "stream",
       "stream": "stdout",
       "text": [
        "\n",
        "  1042  |    0.008226  |    0.007223  |     1.138917  |             |  9.4s"
       ]
      },
      {
       "output_type": "stream",
       "stream": "stdout",
       "text": [
        "\n",
        "  1043  |    0.008202  |    0.007258  |     1.130157  |             |  9.4s"
       ]
      },
      {
       "output_type": "stream",
       "stream": "stdout",
       "text": [
        "\n",
        "  1044  |  \u001b[94m  0.008057\u001b[0m  |    0.007269  |     1.108407  |             |  9.4s"
       ]
      },
      {
       "output_type": "stream",
       "stream": "stdout",
       "text": [
        "\n",
        "  1045  |    0.008102  |    0.007261  |     1.115801  |             |  9.4s"
       ]
      },
      {
       "output_type": "stream",
       "stream": "stdout",
       "text": [
        "\n",
        "  1046  |    0.008111  |    0.007208  |     1.125241  |             |  9.4s"
       ]
      },
      {
       "output_type": "stream",
       "stream": "stdout",
       "text": [
        "\n",
        "  1047  |    0.008119  |    0.007293  |     1.113333  |             |  9.4s"
       ]
      },
      {
       "output_type": "stream",
       "stream": "stdout",
       "text": [
        "\n",
        "  1048  |    0.008070  |  \u001b[32m  0.007185\u001b[0m  |     1.123160  |             |  9.4s"
       ]
      },
      {
       "output_type": "stream",
       "stream": "stdout",
       "text": [
        "\n",
        "  1049  |  \u001b[94m  0.008048\u001b[0m  |    0.007191  |     1.119252  |             |  9.4s"
       ]
      },
      {
       "output_type": "stream",
       "stream": "stdout",
       "text": [
        "\n",
        "  1050  |    0.008102  |  \u001b[32m  0.007142\u001b[0m  |     1.134320  |             |  9.4s"
       ]
      },
      {
       "output_type": "stream",
       "stream": "stdout",
       "text": [
        "\n",
        "  1051  |    0.008102  |    0.007255  |     1.116781  |             |  9.4s"
       ]
      },
      {
       "output_type": "stream",
       "stream": "stdout",
       "text": [
        "\n",
        "  1052  |    0.008079  |    0.007212  |     1.120176  |             |  9.4s"
       ]
      },
      {
       "output_type": "stream",
       "stream": "stdout",
       "text": [
        "\n",
        "  1053  |    0.008111  |    0.007295  |     1.111852  |             |  9.4s"
       ]
      },
      {
       "output_type": "stream",
       "stream": "stdout",
       "text": [
        "\n",
        "  1054  |  \u001b[94m  0.007995\u001b[0m  |    0.007176  |     1.114128  |             |  9.4s"
       ]
      },
      {
       "output_type": "stream",
       "stream": "stdout",
       "text": [
        "\n",
        "  1055  |    0.008025  |    0.007238  |     1.108772  |             |  9.4s"
       ]
      },
      {
       "output_type": "stream",
       "stream": "stdout",
       "text": [
        "\n",
        "  1056  |    0.008028  |    0.007202  |     1.114718  |             |  9.4s"
       ]
      },
      {
       "output_type": "stream",
       "stream": "stdout",
       "text": [
        "\n",
        "  1057  |    0.007998  |    0.007185  |     1.113134  |             |  9.4s"
       ]
      },
      {
       "output_type": "stream",
       "stream": "stdout",
       "text": [
        "\n",
        "  1058  |    0.007995  |    0.007227  |     1.106307  |             |  9.4s"
       ]
      },
      {
       "output_type": "stream",
       "stream": "stdout",
       "text": [
        "\n",
        "  1059  |  \u001b[94m  0.007983\u001b[0m  |  \u001b[32m  0.007101\u001b[0m  |     1.124274  |             |  9.4s"
       ]
      },
      {
       "output_type": "stream",
       "stream": "stdout",
       "text": [
        "\n",
        "  1060  |    0.008111  |    0.007109  |     1.141040  |             |  9.4s"
       ]
      },
      {
       "output_type": "stream",
       "stream": "stdout",
       "text": [
        "\n",
        "  1061  |    0.008025  |    0.007105  |     1.129426  |             |  9.4s"
       ]
      },
      {
       "output_type": "stream",
       "stream": "stdout",
       "text": [
        "\n",
        "  1062  |    0.008002  |    0.007216  |     1.108948  |             |  9.4s"
       ]
      },
      {
       "output_type": "stream",
       "stream": "stdout",
       "text": [
        "\n",
        "  1063  |  \u001b[94m  0.007980\u001b[0m  |    0.007104  |     1.123340  |             |  9.4s"
       ]
      },
      {
       "output_type": "stream",
       "stream": "stdout",
       "text": [
        "\n",
        "  1064  |  \u001b[94m  0.007976\u001b[0m  |    0.007192  |     1.109026  |             |  9.4s"
       ]
      },
      {
       "output_type": "stream",
       "stream": "stdout",
       "text": [
        "\n",
        "  1065  |    0.007986  |    0.007111  |     1.122985  |             |  9.4s"
       ]
      },
      {
       "output_type": "stream",
       "stream": "stdout",
       "text": [
        "\n",
        "  1066  |  \u001b[94m  0.007952\u001b[0m  |    0.007169  |     1.109132  |             |  9.4s"
       ]
      },
      {
       "output_type": "stream",
       "stream": "stdout",
       "text": [
        "\n",
        "  1067  |    0.008006  |    0.007103  |     1.127053  |             |  9.4s"
       ]
      },
      {
       "output_type": "stream",
       "stream": "stdout",
       "text": [
        "\n",
        "  1068  |  \u001b[94m  0.007923\u001b[0m  |    0.007147  |     1.108680  |             |  9.4s"
       ]
      },
      {
       "output_type": "stream",
       "stream": "stdout",
       "text": [
        "\n",
        "  1069  |    0.007985  |    0.007121  |     1.121226  |             |  9.4s"
       ]
      },
      {
       "output_type": "stream",
       "stream": "stdout",
       "text": [
        "\n",
        "  1070  |  \u001b[94m  0.007881\u001b[0m  |    0.007185  |     1.096744  |             |  9.4s"
       ]
      },
      {
       "output_type": "stream",
       "stream": "stdout",
       "text": [
        "\n",
        "  1071  |    0.007980  |  \u001b[32m  0.007091\u001b[0m  |     1.125460  |             |  9.4s"
       ]
      },
      {
       "output_type": "stream",
       "stream": "stdout",
       "text": [
        "\n",
        "  1072  |    0.008022  |    0.007155  |     1.121213  |             |  9.4s"
       ]
      },
      {
       "output_type": "stream",
       "stream": "stdout",
       "text": [
        "\n",
        "  1073  |    0.007910  |  \u001b[32m  0.007068\u001b[0m  |     1.119082  |             |  9.4s"
       ]
      },
      {
       "output_type": "stream",
       "stream": "stdout",
       "text": [
        "\n",
        "  1074  |    0.007944  |  \u001b[32m  0.007020\u001b[0m  |     1.131529  |             |  9.4s"
       ]
      },
      {
       "output_type": "stream",
       "stream": "stdout",
       "text": [
        "\n",
        "  1075  |    0.007940  |    0.007067  |     1.123489  |             |  9.4s"
       ]
      },
      {
       "output_type": "stream",
       "stream": "stdout",
       "text": [
        "\n",
        "  1076  |    0.007933  |    0.007098  |     1.117602  |             |  9.4s"
       ]
      },
      {
       "output_type": "stream",
       "stream": "stdout",
       "text": [
        "\n",
        "  1077  |    0.007929  |    0.007085  |     1.119177  |             |  9.4s"
       ]
      },
      {
       "output_type": "stream",
       "stream": "stdout",
       "text": [
        "\n",
        "  1078  |    0.007930  |    0.007097  |     1.117301  |             |  9.4s"
       ]
      },
      {
       "output_type": "stream",
       "stream": "stdout",
       "text": [
        "\n",
        "  1079  |    0.007885  |    0.007181  |     1.098097  |             |  9.4s"
       ]
      },
      {
       "output_type": "stream",
       "stream": "stdout",
       "text": [
        "\n",
        "  1080  |    0.007956  |    0.007121  |     1.117259  |             |  9.4s"
       ]
      },
      {
       "output_type": "stream",
       "stream": "stdout",
       "text": [
        "\n",
        "  1081  |  \u001b[94m  0.007830\u001b[0m  |    0.007100  |     1.102810  |             |  9.4s"
       ]
      },
      {
       "output_type": "stream",
       "stream": "stdout",
       "text": [
        "\n",
        "  1082  |    0.007908  |    0.007106  |     1.112808  |             |  9.4s"
       ]
      },
      {
       "output_type": "stream",
       "stream": "stdout",
       "text": [
        "\n",
        "  1083  |    0.007865  |    0.007083  |     1.110433  |             |  9.4s"
       ]
      },
      {
       "output_type": "stream",
       "stream": "stdout",
       "text": [
        "\n",
        "  1084  |    0.007896  |    0.007022  |     1.124452  |             |  9.4s"
       ]
      },
      {
       "output_type": "stream",
       "stream": "stdout",
       "text": [
        "\n",
        "  1085  |    0.007887  |    0.007084  |     1.113323  |             |  9.4s"
       ]
      },
      {
       "output_type": "stream",
       "stream": "stdout",
       "text": [
        "\n",
        "  1086  |    0.007874  |    0.007100  |     1.108959  |             |  9.4s"
       ]
      },
      {
       "output_type": "stream",
       "stream": "stdout",
       "text": [
        "\n",
        "  1087  |  \u001b[94m  0.007813\u001b[0m  |  \u001b[32m  0.007018\u001b[0m  |     1.113266  |             |  9.4s"
       ]
      },
      {
       "output_type": "stream",
       "stream": "stdout",
       "text": [
        "\n",
        "  1088  |    0.007849  |  \u001b[32m  0.007015\u001b[0m  |     1.118877  |             |  9.4s"
       ]
      },
      {
       "output_type": "stream",
       "stream": "stdout",
       "text": [
        "\n",
        "  1089  |    0.007886  |    0.007034  |     1.121092  |             |  9.4s"
       ]
      },
      {
       "output_type": "stream",
       "stream": "stdout",
       "text": [
        "\n",
        "  1090  |    0.007844  |    0.007076  |     1.108600  |             |  9.4s"
       ]
      },
      {
       "output_type": "stream",
       "stream": "stdout",
       "text": [
        "\n",
        "  1091  |    0.007889  |    0.007018  |     1.124107  |             |  9.4s"
       ]
      },
      {
       "output_type": "stream",
       "stream": "stdout",
       "text": [
        "\n",
        "  1092  |  \u001b[94m  0.007810\u001b[0m  |  \u001b[32m  0.006989\u001b[0m  |     1.117356  |             |  9.4s"
       ]
      },
      {
       "output_type": "stream",
       "stream": "stdout",
       "text": [
        "\n",
        "  1093  |  \u001b[94m  0.007743\u001b[0m  |    0.007024  |     1.102298  |             |  9.4s"
       ]
      },
      {
       "output_type": "stream",
       "stream": "stdout",
       "text": [
        "\n",
        "  1094  |    0.007856  |    0.006996  |     1.122874  |             |  9.4s"
       ]
      },
      {
       "output_type": "stream",
       "stream": "stdout",
       "text": [
        "\n",
        "  1095  |    0.007820  |    0.007118  |     1.098601  |             |  9.4s"
       ]
      },
      {
       "output_type": "stream",
       "stream": "stdout",
       "text": [
        "\n",
        "  1096  |    0.007851  |    0.007038  |     1.115421  |             |  9.4s"
       ]
      },
      {
       "output_type": "stream",
       "stream": "stdout",
       "text": [
        "\n",
        "  1097  |    0.007795  |    0.007057  |     1.104615  |             |  9.4s"
       ]
      },
      {
       "output_type": "stream",
       "stream": "stdout",
       "text": [
        "\n",
        "  1098  |    0.007858  |  \u001b[32m  0.006923\u001b[0m  |     1.135203  |             |  9.4s"
       ]
      },
      {
       "output_type": "stream",
       "stream": "stdout",
       "text": [
        "\n",
        "  1099  |    0.007760  |    0.007001  |     1.108500  |             |  9.4s"
       ]
      },
      {
       "output_type": "stream",
       "stream": "stdout",
       "text": [
        "\n",
        "  1100  |    0.007837  |    0.007060  |     1.110130  |             |  9.4s"
       ]
      },
      {
       "output_type": "stream",
       "stream": "stdout",
       "text": [
        "\n",
        "  1101  |    0.007797  |    0.007035  |     1.108280  |             |  9.4s"
       ]
      },
      {
       "output_type": "stream",
       "stream": "stdout",
       "text": [
        "\n",
        "  1102  |  \u001b[94m  0.007728\u001b[0m  |    0.006997  |     1.104531  |             |  9.4s"
       ]
      },
      {
       "output_type": "stream",
       "stream": "stdout",
       "text": [
        "\n",
        "  1103  |    0.007758  |    0.007080  |     1.095784  |             |  9.4s"
       ]
      },
      {
       "output_type": "stream",
       "stream": "stdout",
       "text": [
        "\n",
        "  1104  |    0.007744  |    0.007052  |     1.097993  |             |  9.4s"
       ]
      },
      {
       "output_type": "stream",
       "stream": "stdout",
       "text": [
        "\n",
        "  1105  |    0.007740  |    0.007039  |     1.099704  |             |  9.4s"
       ]
      },
      {
       "output_type": "stream",
       "stream": "stdout",
       "text": [
        "\n",
        "  1106  |    0.007776  |    0.006960  |     1.117277  |             |  9.4s"
       ]
      },
      {
       "output_type": "stream",
       "stream": "stdout",
       "text": [
        "\n",
        "  1107  |    0.007745  |    0.006982  |     1.109338  |             |  9.4s"
       ]
      },
      {
       "output_type": "stream",
       "stream": "stdout",
       "text": [
        "\n",
        "  1108  |  \u001b[94m  0.007693\u001b[0m  |    0.006941  |     1.108332  |             |  9.4s"
       ]
      },
      {
       "output_type": "stream",
       "stream": "stdout",
       "text": [
        "\n",
        "  1109  |  \u001b[94m  0.007684\u001b[0m  |    0.007021  |     1.094357  |             |  9.4s"
       ]
      },
      {
       "output_type": "stream",
       "stream": "stdout",
       "text": [
        "\n",
        "  1110  |  \u001b[94m  0.007667\u001b[0m  |    0.006945  |     1.104042  |             |  9.4s"
       ]
      },
      {
       "output_type": "stream",
       "stream": "stdout",
       "text": [
        "\n",
        "  1111  |    0.007712  |    0.006937  |     1.111848  |             |  9.4s"
       ]
      },
      {
       "output_type": "stream",
       "stream": "stdout",
       "text": [
        "\n",
        "  1112  |    0.007717  |    0.006984  |     1.104991  |             |  9.4s"
       ]
      },
      {
       "output_type": "stream",
       "stream": "stdout",
       "text": [
        "\n",
        "  1113  |    0.007728  |    0.006972  |     1.108474  |             |  9.4s"
       ]
      },
      {
       "output_type": "stream",
       "stream": "stdout",
       "text": [
        "\n",
        "  1114  |  \u001b[94m  0.007666\u001b[0m  |    0.006953  |     1.102521  |             |  9.4s"
       ]
      },
      {
       "output_type": "stream",
       "stream": "stdout",
       "text": [
        "\n",
        "  1115  |    0.007688  |  \u001b[32m  0.006901\u001b[0m  |     1.114065  |             |  9.4s"
       ]
      },
      {
       "output_type": "stream",
       "stream": "stdout",
       "text": [
        "\n",
        "  1116  |  \u001b[94m  0.007636\u001b[0m  |    0.006953  |     1.098323  |             |  9.4s"
       ]
      },
      {
       "output_type": "stream",
       "stream": "stdout",
       "text": [
        "\n",
        "  1117  |    0.007703  |    0.006994  |     1.101431  |             |  9.4s"
       ]
      },
      {
       "output_type": "stream",
       "stream": "stdout",
       "text": [
        "\n",
        "  1118  |    0.007654  |    0.006952  |     1.101005  |             |  9.4s"
       ]
      },
      {
       "output_type": "stream",
       "stream": "stdout",
       "text": [
        "\n",
        "  1119  |    0.007653  |    0.006928  |     1.104648  |             |  9.4s"
       ]
      },
      {
       "output_type": "stream",
       "stream": "stdout",
       "text": [
        "\n",
        "  1120  |    0.007707  |    0.006909  |     1.115510  |             |  9.4s"
       ]
      },
      {
       "output_type": "stream",
       "stream": "stdout",
       "text": [
        "\n",
        "  1121  |    0.007689  |    0.006976  |     1.102276  |             |  9.4s"
       ]
      },
      {
       "output_type": "stream",
       "stream": "stdout",
       "text": [
        "\n",
        "  1122  |    0.007646  |    0.006960  |     1.098558  |             |  9.4s"
       ]
      },
      {
       "output_type": "stream",
       "stream": "stdout",
       "text": [
        "\n",
        "  1123  |    0.007650  |    0.007008  |     1.091504  |             |  9.4s"
       ]
      },
      {
       "output_type": "stream",
       "stream": "stdout",
       "text": [
        "\n",
        "  1124  |    0.007642  |  \u001b[32m  0.006892\u001b[0m  |     1.108775  |             |  9.4s"
       ]
      },
      {
       "output_type": "stream",
       "stream": "stdout",
       "text": [
        "\n",
        "  1125  |  \u001b[94m  0.007614\u001b[0m  |    0.006920  |     1.100361  |             |  9.4s"
       ]
      },
      {
       "output_type": "stream",
       "stream": "stdout",
       "text": [
        "\n",
        "  1126  |  \u001b[94m  0.007603\u001b[0m  |    0.006988  |     1.088020  |             |  9.4s"
       ]
      },
      {
       "output_type": "stream",
       "stream": "stdout",
       "text": [
        "\n",
        "  1127  |    0.007614  |    0.006920  |     1.100279  |             |  9.4s"
       ]
      },
      {
       "output_type": "stream",
       "stream": "stdout",
       "text": [
        "\n",
        "  1128  |    0.007609  |    0.006954  |     1.094241  |             |  9.4s"
       ]
      },
      {
       "output_type": "stream",
       "stream": "stdout",
       "text": [
        "\n",
        "  1129  |    0.007609  |    0.006938  |     1.096781  |             |  9.4s"
       ]
      },
      {
       "output_type": "stream",
       "stream": "stdout",
       "text": [
        "\n",
        "  1130  |  \u001b[94m  0.007577\u001b[0m  |    0.006927  |     1.093876  |             |  9.4s"
       ]
      },
      {
       "output_type": "stream",
       "stream": "stdout",
       "text": [
        "\n",
        "  1131  |    0.007619  |    0.006930  |     1.099436  |             |  9.4s"
       ]
      },
      {
       "output_type": "stream",
       "stream": "stdout",
       "text": [
        "\n",
        "  1132  |    0.007586  |    0.006961  |     1.089806  |             |  9.4s"
       ]
      },
      {
       "output_type": "stream",
       "stream": "stdout",
       "text": [
        "\n",
        "  1133  |    0.007639  |    0.006926  |     1.102897  |             |  9.4s"
       ]
      },
      {
       "output_type": "stream",
       "stream": "stdout",
       "text": [
        "\n",
        "  1134  |    0.007587  |    0.006929  |     1.095032  |             |  9.4s"
       ]
      },
      {
       "output_type": "stream",
       "stream": "stdout",
       "text": [
        "\n",
        "  1135  |    0.007584  |    0.006949  |     1.091483  |             |  9.4s"
       ]
      },
      {
       "output_type": "stream",
       "stream": "stdout",
       "text": [
        "\n",
        "  1136  |    0.007638  |    0.006923  |     1.103264  |             |  9.4s"
       ]
      },
      {
       "output_type": "stream",
       "stream": "stdout",
       "text": [
        "\n",
        "  1137  |  \u001b[94m  0.007524\u001b[0m  |    0.006990  |     1.076363  |             |  9.4s"
       ]
      },
      {
       "output_type": "stream",
       "stream": "stdout",
       "text": [
        "\n",
        "  1138  |    0.007568  |    0.006911  |     1.095115  |             |  9.4s"
       ]
      },
      {
       "output_type": "stream",
       "stream": "stdout",
       "text": [
        "\n",
        "  1139  |    0.007557  |    0.006914  |     1.093055  |             |  9.4s"
       ]
      },
      {
       "output_type": "stream",
       "stream": "stdout",
       "text": [
        "\n",
        "  1140  |    0.007605  |    0.006921  |     1.098815  |             |  9.4s"
       ]
      },
      {
       "output_type": "stream",
       "stream": "stdout",
       "text": [
        "\n",
        "  1141  |    0.007569  |    0.006955  |     1.088297  |             |  9.4s"
       ]
      },
      {
       "output_type": "stream",
       "stream": "stdout",
       "text": [
        "\n",
        "  1142  |    0.007589  |  \u001b[32m  0.006891\u001b[0m  |     1.101292  |             |  9.4s"
       ]
      },
      {
       "output_type": "stream",
       "stream": "stdout",
       "text": [
        "\n",
        "  1143  |  \u001b[94m  0.007508\u001b[0m  |  \u001b[32m  0.006853\u001b[0m  |     1.095539  |             |  9.4s"
       ]
      },
      {
       "output_type": "stream",
       "stream": "stdout",
       "text": [
        "\n",
        "  1144  |    0.007526  |    0.006881  |     1.093799  |             |  9.4s"
       ]
      },
      {
       "output_type": "stream",
       "stream": "stdout",
       "text": [
        "\n",
        "  1145  |    0.007565  |  \u001b[32m  0.006849\u001b[0m  |     1.104514  |             |  9.4s"
       ]
      },
      {
       "output_type": "stream",
       "stream": "stdout",
       "text": [
        "\n",
        "  1146  |    0.007523  |    0.006864  |     1.096009  |             |  9.4s"
       ]
      },
      {
       "output_type": "stream",
       "stream": "stdout",
       "text": [
        "\n",
        "  1147  |    0.007525  |    0.006873  |     1.094946  |             |  9.4s"
       ]
      },
      {
       "output_type": "stream",
       "stream": "stdout",
       "text": [
        "\n",
        "  1148  |  \u001b[94m  0.007438\u001b[0m  |    0.006850  |     1.085822  |             |  9.4s"
       ]
      },
      {
       "output_type": "stream",
       "stream": "stdout",
       "text": [
        "\n",
        "  1149  |    0.007533  |    0.006935  |     1.086192  |             |  9.4s"
       ]
      },
      {
       "output_type": "stream",
       "stream": "stdout",
       "text": [
        "\n",
        "  1150  |    0.007503  |    0.006869  |     1.092202  |             |  9.4s"
       ]
      },
      {
       "output_type": "stream",
       "stream": "stdout",
       "text": [
        "\n",
        "  1151  |    0.007533  |    0.006929  |     1.087117  |             |  9.4s"
       ]
      },
      {
       "output_type": "stream",
       "stream": "stdout",
       "text": [
        "\n",
        "  1152  |  \u001b[94m  0.007422\u001b[0m  |    0.006876  |     1.079339  |             |  9.4s"
       ]
      },
      {
       "output_type": "stream",
       "stream": "stdout",
       "text": [
        "\n",
        "  1153  |    0.007441  |    0.006879  |     1.081707  |             |  9.4s"
       ]
      },
      {
       "output_type": "stream",
       "stream": "stdout",
       "text": [
        "\n",
        "  1154  |    0.007495  |    0.006870  |     1.090878  |             |  9.4s"
       ]
      },
      {
       "output_type": "stream",
       "stream": "stdout",
       "text": [
        "\n",
        "  1155  |    0.007535  |  \u001b[32m  0.006849\u001b[0m  |     1.100198  |             |  9.4s"
       ]
      },
      {
       "output_type": "stream",
       "stream": "stdout",
       "text": [
        "\n",
        "  1156  |  \u001b[94m  0.007419\u001b[0m  |    0.006905  |     1.074436  |             |  9.4s"
       ]
      },
      {
       "output_type": "stream",
       "stream": "stdout",
       "text": [
        "\n",
        "  1157  |    0.007529  |  \u001b[32m  0.006835\u001b[0m  |     1.101573  |             |  9.4s"
       ]
      },
      {
       "output_type": "stream",
       "stream": "stdout",
       "text": [
        "\n",
        "  1158  |    0.007467  |    0.006876  |     1.086031  |             |  9.4s"
       ]
      },
      {
       "output_type": "stream",
       "stream": "stdout",
       "text": [
        "\n",
        "  1159  |    0.007482  |  \u001b[32m  0.006814\u001b[0m  |     1.098175  |             |  9.4s"
       ]
      },
      {
       "output_type": "stream",
       "stream": "stdout",
       "text": [
        "\n",
        "  1160  |  \u001b[94m  0.007408\u001b[0m  |    0.006835  |     1.083856  |             |  9.4s"
       ]
      },
      {
       "output_type": "stream",
       "stream": "stdout",
       "text": [
        "\n",
        "  1161  |    0.007455  |  \u001b[32m  0.006805\u001b[0m  |     1.095500  |             |  9.4s"
       ]
      },
      {
       "output_type": "stream",
       "stream": "stdout",
       "text": [
        "\n",
        "  1162  |    0.007448  |  \u001b[32m  0.006795\u001b[0m  |     1.095973  |             |  9.4s"
       ]
      },
      {
       "output_type": "stream",
       "stream": "stdout",
       "text": [
        "\n",
        "  1163  |    0.007465  |    0.006839  |     1.091432  |             |  9.4s"
       ]
      },
      {
       "output_type": "stream",
       "stream": "stdout",
       "text": [
        "\n",
        "  1164  |    0.007467  |    0.006840  |     1.091673  |             |  9.4s"
       ]
      },
      {
       "output_type": "stream",
       "stream": "stdout",
       "text": [
        "\n",
        "  1165  |    0.007477  |    0.006797  |     1.100044  |             |  9.4s"
       ]
      },
      {
       "output_type": "stream",
       "stream": "stdout",
       "text": [
        "\n",
        "  1166  |    0.007480  |  \u001b[32m  0.006776\u001b[0m  |     1.103904  |             |  9.4s"
       ]
      },
      {
       "output_type": "stream",
       "stream": "stdout",
       "text": [
        "\n",
        "  1167  |    0.007428  |    0.006794  |     1.093293  |             |  9.4s"
       ]
      },
      {
       "output_type": "stream",
       "stream": "stdout",
       "text": [
        "\n",
        "  1168  |  \u001b[94m  0.007406\u001b[0m  |    0.006794  |     1.090016  |             |  9.4s"
       ]
      },
      {
       "output_type": "stream",
       "stream": "stdout",
       "text": [
        "\n",
        "  1169  |    0.007409  |    0.006804  |     1.088917  |             |  9.4s"
       ]
      },
      {
       "output_type": "stream",
       "stream": "stdout",
       "text": [
        "\n",
        "  1170  |  \u001b[94m  0.007387\u001b[0m  |  \u001b[32m  0.006774\u001b[0m  |     1.090475  |             |  9.4s"
       ]
      },
      {
       "output_type": "stream",
       "stream": "stdout",
       "text": [
        "\n",
        "  1171  |  \u001b[94m  0.007374\u001b[0m  |    0.006815  |     1.082034  |             |  9.4s"
       ]
      },
      {
       "output_type": "stream",
       "stream": "stdout",
       "text": [
        "\n",
        "  1172  |    0.007427  |    0.006801  |     1.091932  |             |  9.4s"
       ]
      },
      {
       "output_type": "stream",
       "stream": "stdout",
       "text": [
        "\n",
        "  1173  |    0.007383  |    0.006838  |     1.079828  |             |  9.4s"
       ]
      },
      {
       "output_type": "stream",
       "stream": "stdout",
       "text": [
        "\n",
        "  1174  |  \u001b[94m  0.007357\u001b[0m  |  \u001b[32m  0.006766\u001b[0m  |     1.087344  |             |  9.4s"
       ]
      },
      {
       "output_type": "stream",
       "stream": "stdout",
       "text": [
        "\n",
        "  1175  |    0.007364  |    0.006826  |     1.078826  |             |  9.4s"
       ]
      },
      {
       "output_type": "stream",
       "stream": "stdout",
       "text": [
        "\n",
        "  1176  |  \u001b[94m  0.007304\u001b[0m  |    0.006824  |     1.070358  |             |  9.4s"
       ]
      },
      {
       "output_type": "stream",
       "stream": "stdout",
       "text": [
        "\n",
        "  1177  |    0.007358  |  \u001b[32m  0.006722\u001b[0m  |     1.094679  |             |  9.4s"
       ]
      },
      {
       "output_type": "stream",
       "stream": "stdout",
       "text": [
        "\n",
        "  1178  |    0.007323  |    0.006749  |     1.084950  |             |  9.4s"
       ]
      },
      {
       "output_type": "stream",
       "stream": "stdout",
       "text": [
        "\n",
        "  1179  |    0.007344  |    0.006822  |     1.076586  |             |  9.4s"
       ]
      },
      {
       "output_type": "stream",
       "stream": "stdout",
       "text": [
        "\n",
        "  1180  |    0.007311  |    0.006796  |     1.075819  |             |  9.4s"
       ]
      },
      {
       "output_type": "stream",
       "stream": "stdout",
       "text": [
        "\n",
        "  1181  |    0.007311  |  \u001b[32m  0.006702\u001b[0m  |     1.090874  |             |  9.4s"
       ]
      },
      {
       "output_type": "stream",
       "stream": "stdout",
       "text": [
        "\n",
        "  1182  |    0.007330  |    0.006748  |     1.086248  |             |  9.4s"
       ]
      },
      {
       "output_type": "stream",
       "stream": "stdout",
       "text": [
        "\n",
        "  1183  |    0.007308  |  \u001b[32m  0.006680\u001b[0m  |     1.094095  |             |  9.4s"
       ]
      },
      {
       "output_type": "stream",
       "stream": "stdout",
       "text": [
        "\n",
        "  1184  |    0.007338  |    0.006718  |     1.092304  |             |  9.4s"
       ]
      },
      {
       "output_type": "stream",
       "stream": "stdout",
       "text": [
        "\n",
        "  1185  |    0.007401  |    0.006739  |     1.098192  |             |  9.4s"
       ]
      },
      {
       "output_type": "stream",
       "stream": "stdout",
       "text": [
        "\n",
        "  1186  |  \u001b[94m  0.007250\u001b[0m  |    0.006746  |     1.074637  |             |  9.4s"
       ]
      },
      {
       "output_type": "stream",
       "stream": "stdout",
       "text": [
        "\n",
        "  1187  |    0.007405  |    0.006714  |     1.102888  |             |  9.4s"
       ]
      },
      {
       "output_type": "stream",
       "stream": "stdout",
       "text": [
        "\n",
        "  1188  |    0.007336  |    0.006781  |     1.081755  |             |  9.4s"
       ]
      },
      {
       "output_type": "stream",
       "stream": "stdout",
       "text": [
        "\n",
        "  1189  |    0.007250  |    0.006770  |     1.070870  |             |  9.4s"
       ]
      },
      {
       "output_type": "stream",
       "stream": "stdout",
       "text": [
        "\n",
        "  1190  |    0.007342  |    0.006808  |     1.078482  |             |  9.4s"
       ]
      },
      {
       "output_type": "stream",
       "stream": "stdout",
       "text": [
        "\n",
        "  1191  |    0.007305  |    0.006704  |     1.089689  |             |  9.4s"
       ]
      },
      {
       "output_type": "stream",
       "stream": "stdout",
       "text": [
        "\n",
        "  1192  |    0.007276  |    0.006775  |     1.073988  |             |  9.4s"
       ]
      },
      {
       "output_type": "stream",
       "stream": "stdout",
       "text": [
        "\n",
        "  1193  |    0.007297  |    0.006784  |     1.075716  |             |  9.4s"
       ]
      },
      {
       "output_type": "stream",
       "stream": "stdout",
       "text": [
        "\n",
        "  1194  |    0.007280  |    0.006755  |     1.077778  |             |  9.4s"
       ]
      },
      {
       "output_type": "stream",
       "stream": "stdout",
       "text": [
        "\n",
        "  1195  |    0.007292  |    0.006763  |     1.078228  |             |  9.4s"
       ]
      },
      {
       "output_type": "stream",
       "stream": "stdout",
       "text": [
        "\n",
        "  1196  |    0.007291  |    0.006727  |     1.083874  |             |  9.4s"
       ]
      },
      {
       "output_type": "stream",
       "stream": "stdout",
       "text": [
        "\n",
        "  1197  |  \u001b[94m  0.007204\u001b[0m  |    0.006736  |     1.069482  |             |  9.4s"
       ]
      },
      {
       "output_type": "stream",
       "stream": "stdout",
       "text": [
        "\n",
        "  1198  |    0.007220  |    0.006723  |     1.073887  |             |  9.4s"
       ]
      },
      {
       "output_type": "stream",
       "stream": "stdout",
       "text": [
        "\n",
        "  1199  |    0.007205  |    0.006697  |     1.075909  |             |  9.4s"
       ]
      },
      {
       "output_type": "stream",
       "stream": "stdout",
       "text": [
        "\n",
        "  1200  |    0.007264  |  \u001b[32m  0.006678\u001b[0m  |     1.087832  |             |  9.4s"
       ]
      },
      {
       "output_type": "stream",
       "stream": "stdout",
       "text": [
        "\n",
        "  1201  |  \u001b[94m  0.007190\u001b[0m  |    0.006703  |     1.072596  |             |  9.4s"
       ]
      },
      {
       "output_type": "stream",
       "stream": "stdout",
       "text": [
        "\n",
        "  1202  |    0.007312  |    0.006725  |     1.087314  |             |  9.4s"
       ]
      },
      {
       "output_type": "stream",
       "stream": "stdout",
       "text": [
        "\n",
        "  1203  |    0.007238  |  \u001b[32m  0.006658\u001b[0m  |     1.087201  |             |  9.4s"
       ]
      },
      {
       "output_type": "stream",
       "stream": "stdout",
       "text": [
        "\n",
        "  1204  |    0.007261  |    0.006699  |     1.083883  |             |  9.4s"
       ]
      },
      {
       "output_type": "stream",
       "stream": "stdout",
       "text": [
        "\n",
        "  1205  |    0.007230  |    0.006682  |     1.081891  |             |  9.4s"
       ]
      },
      {
       "output_type": "stream",
       "stream": "stdout",
       "text": [
        "\n",
        "  1206  |    0.007264  |    0.006704  |     1.083588  |             |  9.4s"
       ]
      },
      {
       "output_type": "stream",
       "stream": "stdout",
       "text": [
        "\n",
        "  1207  |    0.007208  |    0.006756  |     1.066851  |             |  9.4s"
       ]
      },
      {
       "output_type": "stream",
       "stream": "stdout",
       "text": [
        "\n",
        "  1208  |    0.007220  |    0.006743  |     1.070809  |             |  9.4s"
       ]
      },
      {
       "output_type": "stream",
       "stream": "stdout",
       "text": [
        "\n",
        "  1209  |    0.007226  |    0.006796  |     1.063303  |             |  9.4s"
       ]
      },
      {
       "output_type": "stream",
       "stream": "stdout",
       "text": [
        "\n",
        "  1210  |    0.007197  |    0.006668  |     1.079324  |             |  9.4s"
       ]
      },
      {
       "output_type": "stream",
       "stream": "stdout",
       "text": [
        "\n",
        "  1211  |    0.007206  |    0.006720  |     1.072239  |             |  9.4s"
       ]
      },
      {
       "output_type": "stream",
       "stream": "stdout",
       "text": [
        "\n",
        "  1212  |  \u001b[94m  0.007112\u001b[0m  |    0.006734  |     1.056108  |             |  9.4s"
       ]
      },
      {
       "output_type": "stream",
       "stream": "stdout",
       "text": [
        "\n",
        "  1213  |    0.007175  |    0.006684  |     1.073567  |             |  9.4s"
       ]
      },
      {
       "output_type": "stream",
       "stream": "stdout",
       "text": [
        "\n",
        "  1214  |    0.007172  |    0.006724  |     1.066698  |             |  9.4s"
       ]
      },
      {
       "output_type": "stream",
       "stream": "stdout",
       "text": [
        "\n",
        "  1215  |    0.007155  |  \u001b[32m  0.006643\u001b[0m  |     1.077096  |             |  9.4s"
       ]
      },
      {
       "output_type": "stream",
       "stream": "stdout",
       "text": [
        "\n",
        "  1216  |    0.007251  |    0.006667  |     1.087487  |             |  9.4s"
       ]
      },
      {
       "output_type": "stream",
       "stream": "stdout",
       "text": [
        "\n",
        "  1217  |    0.007183  |    0.006748  |     1.064516  |             |  9.4s"
       ]
      },
      {
       "output_type": "stream",
       "stream": "stdout",
       "text": [
        "\n",
        "  1218  |    0.007170  |  \u001b[32m  0.006625\u001b[0m  |     1.082271  |             |  9.4s"
       ]
      },
      {
       "output_type": "stream",
       "stream": "stdout",
       "text": [
        "\n",
        "  1219  |    0.007125  |  \u001b[32m  0.006623\u001b[0m  |     1.075736  |             |  9.4s"
       ]
      },
      {
       "output_type": "stream",
       "stream": "stdout",
       "text": [
        "\n",
        "  1220  |    0.007176  |    0.006672  |     1.075493  |             |  9.4s"
       ]
      },
      {
       "output_type": "stream",
       "stream": "stdout",
       "text": [
        "\n",
        "  1221  |    0.007144  |  \u001b[32m  0.006594\u001b[0m  |     1.083472  |             |  9.4s"
       ]
      },
      {
       "output_type": "stream",
       "stream": "stdout",
       "text": [
        "\n",
        "  1222  |    0.007125  |    0.006629  |     1.074911  |             |  9.4s"
       ]
      },
      {
       "output_type": "stream",
       "stream": "stdout",
       "text": [
        "\n",
        "  1223  |    0.007123  |    0.006726  |     1.059036  |             |  9.4s"
       ]
      },
      {
       "output_type": "stream",
       "stream": "stdout",
       "text": [
        "\n",
        "  1224  |    0.007136  |    0.006663  |     1.070954  |             |  9.4s"
       ]
      },
      {
       "output_type": "stream",
       "stream": "stdout",
       "text": [
        "\n",
        "  1225  |  \u001b[94m  0.007084\u001b[0m  |    0.006685  |     1.059642  |             |  9.4s"
       ]
      },
      {
       "output_type": "stream",
       "stream": "stdout",
       "text": [
        "\n",
        "  1226  |    0.007105  |    0.006642  |     1.069803  |             |  9.4s"
       ]
      },
      {
       "output_type": "stream",
       "stream": "stdout",
       "text": [
        "\n",
        "  1227  |    0.007123  |    0.006691  |     1.064655  |             |  9.4s"
       ]
      },
      {
       "output_type": "stream",
       "stream": "stdout",
       "text": [
        "\n",
        "  1228  |    0.007092  |    0.006622  |     1.071043  |             |  9.4s"
       ]
      },
      {
       "output_type": "stream",
       "stream": "stdout",
       "text": [
        "\n",
        "  1229  |    0.007142  |    0.006601  |     1.081861  |             |  9.4s"
       ]
      },
      {
       "output_type": "stream",
       "stream": "stdout",
       "text": [
        "\n",
        "  1230  |  \u001b[94m  0.007027\u001b[0m  |    0.006629  |     1.060116  |             |  9.4s"
       ]
      },
      {
       "output_type": "stream",
       "stream": "stdout",
       "text": [
        "\n",
        "  1231  |    0.007106  |    0.006615  |     1.074128  |             |  9.4s"
       ]
      },
      {
       "output_type": "stream",
       "stream": "stdout",
       "text": [
        "\n",
        "  1232  |    0.007109  |    0.006614  |     1.074798  |             |  9.4s"
       ]
      },
      {
       "output_type": "stream",
       "stream": "stdout",
       "text": [
        "\n",
        "  1233  |    0.007108  |    0.006602  |     1.076651  |             |  9.4s"
       ]
      },
      {
       "output_type": "stream",
       "stream": "stdout",
       "text": [
        "\n",
        "  1234  |    0.007063  |    0.006643  |     1.063230  |             |  9.4s"
       ]
      },
      {
       "output_type": "stream",
       "stream": "stdout",
       "text": [
        "\n",
        "  1235  |    0.007090  |    0.006607  |     1.073084  |             |  9.4s"
       ]
      },
      {
       "output_type": "stream",
       "stream": "stdout",
       "text": [
        "\n",
        "  1236  |  \u001b[94m  0.007000\u001b[0m  |    0.006653  |     1.052124  |             |  9.4s"
       ]
      },
      {
       "output_type": "stream",
       "stream": "stdout",
       "text": [
        "\n",
        "  1237  |    0.007052  |    0.006632  |     1.063333  |             |  9.4s"
       ]
      },
      {
       "output_type": "stream",
       "stream": "stdout",
       "text": [
        "\n",
        "  1238  |    0.007071  |    0.006595  |     1.072152  |             |  9.4s"
       ]
      },
      {
       "output_type": "stream",
       "stream": "stdout",
       "text": [
        "\n",
        "  1239  |    0.007098  |  \u001b[32m  0.006554\u001b[0m  |     1.083096  |             |  9.4s"
       ]
      },
      {
       "output_type": "stream",
       "stream": "stdout",
       "text": [
        "\n",
        "  1240  |    0.007110  |    0.006589  |     1.079103  |             |  9.4s"
       ]
      },
      {
       "output_type": "stream",
       "stream": "stdout",
       "text": [
        "\n",
        "  1241  |    0.007043  |    0.006687  |     1.053339  |             |  9.4s"
       ]
      },
      {
       "output_type": "stream",
       "stream": "stdout",
       "text": [
        "\n",
        "  1242  |    0.007006  |    0.006676  |     1.049362  |             |  9.4s"
       ]
      },
      {
       "output_type": "stream",
       "stream": "stdout",
       "text": [
        "\n",
        "  1243  |    0.007025  |    0.006605  |     1.063577  |             |  9.4s"
       ]
      },
      {
       "output_type": "stream",
       "stream": "stdout",
       "text": [
        "\n",
        "  1244  |    0.007019  |  \u001b[32m  0.006519\u001b[0m  |     1.076778  |             |  9.4s"
       ]
      },
      {
       "output_type": "stream",
       "stream": "stdout",
       "text": [
        "\n",
        "  1245  |    0.007008  |    0.006566  |     1.067199  |             |  9.4s"
       ]
      },
      {
       "output_type": "stream",
       "stream": "stdout",
       "text": [
        "\n",
        "  1246  |  \u001b[94m  0.006971\u001b[0m  |    0.006588  |     1.058204  |             |  9.4s"
       ]
      },
      {
       "output_type": "stream",
       "stream": "stdout",
       "text": [
        "\n",
        "  1247  |    0.007039  |    0.006550  |     1.074545  |             |  9.4s"
       ]
      },
      {
       "output_type": "stream",
       "stream": "stdout",
       "text": [
        "\n",
        "  1248  |    0.007011  |    0.006582  |     1.065148  |             |  9.4s"
       ]
      },
      {
       "output_type": "stream",
       "stream": "stdout",
       "text": [
        "\n",
        "  1249  |  \u001b[94m  0.006961\u001b[0m  |    0.006607  |     1.053638  |             |  9.4s"
       ]
      },
      {
       "output_type": "stream",
       "stream": "stdout",
       "text": [
        "\n",
        "  1250  |    0.007013  |    0.006591  |     1.064058  |             |  9.4s"
       ]
      },
      {
       "output_type": "stream",
       "stream": "stdout",
       "text": [
        "\n",
        "  1251  |    0.007013  |    0.006590  |     1.064118  |             |  9.4s"
       ]
      },
      {
       "output_type": "stream",
       "stream": "stdout",
       "text": [
        "\n",
        "  1252  |    0.007007  |    0.006585  |     1.063962  |             |  9.4s"
       ]
      },
      {
       "output_type": "stream",
       "stream": "stdout",
       "text": [
        "\n",
        "  1253  |  \u001b[94m  0.006949\u001b[0m  |    0.006525  |     1.064922  |             |  9.4s"
       ]
      },
      {
       "output_type": "stream",
       "stream": "stdout",
       "text": [
        "\n",
        "  1254  |    0.006980  |    0.006619  |     1.054474  |             |  9.4s"
       ]
      },
      {
       "output_type": "stream",
       "stream": "stdout",
       "text": [
        "\n",
        "  1255  |    0.007005  |    0.006538  |     1.071418  |             |  9.4s"
       ]
      },
      {
       "output_type": "stream",
       "stream": "stdout",
       "text": [
        "\n",
        "  1256  |    0.007015  |    0.006559  |     1.069486  |             |  9.4s"
       ]
      },
      {
       "output_type": "stream",
       "stream": "stdout",
       "text": [
        "\n",
        "  1257  |    0.006988  |    0.006569  |     1.063882  |             |  9.4s"
       ]
      },
      {
       "output_type": "stream",
       "stream": "stdout",
       "text": [
        "\n",
        "  1258  |    0.006967  |  \u001b[32m  0.006511\u001b[0m  |     1.069973  |             |  9.4s"
       ]
      },
      {
       "output_type": "stream",
       "stream": "stdout",
       "text": [
        "\n",
        "  1259  |    0.007050  |    0.006605  |     1.067403  |             |  9.4s"
       ]
      },
      {
       "output_type": "stream",
       "stream": "stdout",
       "text": [
        "\n",
        "  1260  |  \u001b[94m  0.006857\u001b[0m  |    0.006556  |     1.046021  |             |  9.4s"
       ]
      },
      {
       "output_type": "stream",
       "stream": "stdout",
       "text": [
        "\n",
        "  1261  |    0.006945  |  \u001b[32m  0.006487\u001b[0m  |     1.070696  |             |  9.4s"
       ]
      },
      {
       "output_type": "stream",
       "stream": "stdout",
       "text": [
        "\n",
        "  1262  |    0.006965  |    0.006517  |     1.068656  |             |  9.4s"
       ]
      },
      {
       "output_type": "stream",
       "stream": "stdout",
       "text": [
        "\n",
        "  1263  |    0.007009  |    0.006572  |     1.066558  |             |  9.4s"
       ]
      },
      {
       "output_type": "stream",
       "stream": "stdout",
       "text": [
        "\n",
        "  1264  |    0.006891  |    0.006561  |     1.050418  |             |  9.4s"
       ]
      },
      {
       "output_type": "stream",
       "stream": "stdout",
       "text": [
        "\n",
        "  1265  |    0.006885  |    0.006571  |     1.047927  |             |  9.4s"
       ]
      },
      {
       "output_type": "stream",
       "stream": "stdout",
       "text": [
        "\n",
        "  1266  |    0.006986  |  \u001b[32m  0.006484\u001b[0m  |     1.077390  |             |  9.4s"
       ]
      },
      {
       "output_type": "stream",
       "stream": "stdout",
       "text": [
        "\n",
        "  1267  |    0.006891  |    0.006540  |     1.053588  |             |  9.4s"
       ]
      },
      {
       "output_type": "stream",
       "stream": "stdout",
       "text": [
        "\n",
        "  1268  |    0.006911  |    0.006613  |     1.045008  |             |  9.4s"
       ]
      },
      {
       "output_type": "stream",
       "stream": "stdout",
       "text": [
        "\n",
        "  1269  |    0.006926  |    0.006556  |     1.056376  |             |  9.4s"
       ]
      },
      {
       "output_type": "stream",
       "stream": "stdout",
       "text": [
        "\n",
        "  1270  |    0.006923  |    0.006581  |     1.051900  |             |  9.4s"
       ]
      },
      {
       "output_type": "stream",
       "stream": "stdout",
       "text": [
        "\n",
        "  1271  |    0.006909  |    0.006526  |     1.058636  |             |  9.4s"
       ]
      },
      {
       "output_type": "stream",
       "stream": "stdout",
       "text": [
        "\n",
        "  1272  |    0.006908  |    0.006569  |     1.051553  |             |  9.4s"
       ]
      },
      {
       "output_type": "stream",
       "stream": "stdout",
       "text": [
        "\n",
        "  1273  |    0.006858  |    0.006518  |     1.052161  |             |  9.4s"
       ]
      },
      {
       "output_type": "stream",
       "stream": "stdout",
       "text": [
        "\n",
        "  1274  |    0.006894  |    0.006573  |     1.048835  |             |  9.4s"
       ]
      },
      {
       "output_type": "stream",
       "stream": "stdout",
       "text": [
        "\n",
        "  1275  |    0.006883  |    0.006581  |     1.045833  |             |  9.4s"
       ]
      },
      {
       "output_type": "stream",
       "stream": "stdout",
       "text": [
        "\n",
        "  1276  |    0.006936  |  \u001b[32m  0.006473\u001b[0m  |     1.071654  |             |  9.4s"
       ]
      },
      {
       "output_type": "stream",
       "stream": "stdout",
       "text": [
        "\n",
        "  1277  |    0.006894  |    0.006510  |     1.058932  |             |  9.4s"
       ]
      },
      {
       "output_type": "stream",
       "stream": "stdout",
       "text": [
        "\n",
        "  1278  |    0.006920  |    0.006487  |     1.066782  |             |  9.4s"
       ]
      },
      {
       "output_type": "stream",
       "stream": "stdout",
       "text": [
        "\n",
        "  1279  |    0.006874  |    0.006495  |     1.058342  |             |  9.4s"
       ]
      },
      {
       "output_type": "stream",
       "stream": "stdout",
       "text": [
        "\n",
        "  1280  |  \u001b[94m  0.006816\u001b[0m  |    0.006545  |     1.041382  |             |  9.4s"
       ]
      },
      {
       "output_type": "stream",
       "stream": "stdout",
       "text": [
        "\n",
        "  1281  |    0.006919  |    0.006556  |     1.055448  |             |  9.4s"
       ]
      },
      {
       "output_type": "stream",
       "stream": "stdout",
       "text": [
        "\n",
        "  1282  |    0.006868  |    0.006511  |     1.054920  |             |  9.4s"
       ]
      },
      {
       "output_type": "stream",
       "stream": "stdout",
       "text": [
        "\n",
        "  1283  |    0.006870  |  \u001b[32m  0.006468\u001b[0m  |     1.062124  |             |  9.4s"
       ]
      },
      {
       "output_type": "stream",
       "stream": "stdout",
       "text": [
        "\n",
        "  1284  |    0.006868  |    0.006496  |     1.057337  |             |  9.4s"
       ]
      },
      {
       "output_type": "stream",
       "stream": "stdout",
       "text": [
        "\n",
        "  1285  |    0.006859  |    0.006528  |     1.050723  |             |  9.4s"
       ]
      },
      {
       "output_type": "stream",
       "stream": "stdout",
       "text": [
        "\n",
        "  1286  |    0.006831  |    0.006505  |     1.050066  |             |  9.4s"
       ]
      },
      {
       "output_type": "stream",
       "stream": "stdout",
       "text": [
        "\n",
        "  1287  |    0.006923  |  \u001b[32m  0.006450\u001b[0m  |     1.073296  |             |  9.4s"
       ]
      },
      {
       "output_type": "stream",
       "stream": "stdout",
       "text": [
        "\n",
        "  1288  |    0.006893  |  \u001b[32m  0.006425\u001b[0m  |     1.072956  |             |  9.4s"
       ]
      },
      {
       "output_type": "stream",
       "stream": "stdout",
       "text": [
        "\n",
        "  1289  |  \u001b[94m  0.006796\u001b[0m  |    0.006542  |     1.038888  |             |  9.4s"
       ]
      },
      {
       "output_type": "stream",
       "stream": "stdout",
       "text": [
        "\n",
        "  1290  |  \u001b[94m  0.006776\u001b[0m  |    0.006467  |     1.047860  |             |  9.4s"
       ]
      },
      {
       "output_type": "stream",
       "stream": "stdout",
       "text": [
        "\n",
        "  1291  |    0.006862  |  \u001b[32m  0.006422\u001b[0m  |     1.068474  |             |  9.4s"
       ]
      },
      {
       "output_type": "stream",
       "stream": "stdout",
       "text": [
        "\n",
        "  1292  |    0.006795  |    0.006467  |     1.050867  |             |  9.4s"
       ]
      },
      {
       "output_type": "stream",
       "stream": "stdout",
       "text": [
        "\n",
        "  1293  |    0.006801  |    0.006541  |     1.039888  |             |  9.4s"
       ]
      },
      {
       "output_type": "stream",
       "stream": "stdout",
       "text": [
        "\n",
        "  1294  |    0.006856  |    0.006459  |     1.061473  |             |  9.4s"
       ]
      },
      {
       "output_type": "stream",
       "stream": "stdout",
       "text": [
        "\n",
        "  1295  |    0.006807  |    0.006500  |     1.047258  |             |  9.4s"
       ]
      },
      {
       "output_type": "stream",
       "stream": "stdout",
       "text": [
        "\n",
        "  1296  |    0.006829  |    0.006445  |     1.059560  |             |  9.4s"
       ]
      },
      {
       "output_type": "stream",
       "stream": "stdout",
       "text": [
        "\n",
        "  1297  |    0.006808  |    0.006429  |     1.058936  |             |  9.4s"
       ]
      },
      {
       "output_type": "stream",
       "stream": "stdout",
       "text": [
        "\n",
        "  1298  |    0.006798  |    0.006514  |     1.043496  |             |  9.4s"
       ]
      },
      {
       "output_type": "stream",
       "stream": "stdout",
       "text": [
        "\n",
        "  1299  |    0.006801  |    0.006475  |     1.050449  |             |  9.4s"
       ]
      },
      {
       "output_type": "stream",
       "stream": "stdout",
       "text": [
        "\n",
        "  1300  |    0.006871  |    0.006504  |     1.056402  |             |  9.4s"
       ]
      },
      {
       "output_type": "stream",
       "stream": "stdout",
       "text": [
        "\n",
        "  1301  |  \u001b[94m  0.006732\u001b[0m  |    0.006484  |     1.038164  |             |  9.4s"
       ]
      },
      {
       "output_type": "stream",
       "stream": "stdout",
       "text": [
        "\n",
        "  1302  |    0.006794  |    0.006489  |     1.046919  |             |  9.4s"
       ]
      },
      {
       "output_type": "stream",
       "stream": "stdout",
       "text": [
        "\n",
        "  1303  |    0.006805  |    0.006483  |     1.049785  |             |  9.4s"
       ]
      },
      {
       "output_type": "stream",
       "stream": "stdout",
       "text": [
        "\n",
        "  1304  |  \u001b[94m  0.006730\u001b[0m  |    0.006516  |     1.032821  |             |  9.4s"
       ]
      },
      {
       "output_type": "stream",
       "stream": "stdout",
       "text": [
        "\n",
        "  1305  |    0.006752  |    0.006469  |     1.043854  |             |  9.4s"
       ]
      },
      {
       "output_type": "stream",
       "stream": "stdout",
       "text": [
        "\n",
        "  1306  |    0.006799  |    0.006453  |     1.053668  |             |  9.4s"
       ]
      },
      {
       "output_type": "stream",
       "stream": "stdout",
       "text": [
        "\n",
        "  1307  |    0.006751  |    0.006464  |     1.044444  |             |  9.4s"
       ]
      },
      {
       "output_type": "stream",
       "stream": "stdout",
       "text": [
        "\n",
        "  1308  |  \u001b[94m  0.006667\u001b[0m  |  \u001b[32m  0.006403\u001b[0m  |     1.041256  |             |  9.4s"
       ]
      },
      {
       "output_type": "stream",
       "stream": "stdout",
       "text": [
        "\n",
        "  1309  |    0.006753  |    0.006430  |     1.050208  |             |  9.4s"
       ]
      },
      {
       "output_type": "stream",
       "stream": "stdout",
       "text": [
        "\n",
        "  1310  |    0.006834  |    0.006456  |     1.058547  |             |  9.4s"
       ]
      },
      {
       "output_type": "stream",
       "stream": "stdout",
       "text": [
        "\n",
        "  1311  |    0.006786  |    0.006404  |     1.059753  |             |  9.4s"
       ]
      },
      {
       "output_type": "stream",
       "stream": "stdout",
       "text": [
        "\n",
        "  1312  |    0.006738  |    0.006411  |     1.051048  |             |  9.4s"
       ]
      },
      {
       "output_type": "stream",
       "stream": "stdout",
       "text": [
        "\n",
        "  1313  |    0.006693  |    0.006422  |     1.042345  |             |  9.4s"
       ]
      },
      {
       "output_type": "stream",
       "stream": "stdout",
       "text": [
        "\n",
        "  1314  |    0.006745  |    0.006453  |     1.045242  |             |  9.4s"
       ]
      },
      {
       "output_type": "stream",
       "stream": "stdout",
       "text": [
        "\n",
        "  1315  |    0.006773  |  \u001b[32m  0.006329\u001b[0m  |     1.070082  |             |  9.4s"
       ]
      },
      {
       "output_type": "stream",
       "stream": "stdout",
       "text": [
        "\n",
        "  1316  |  \u001b[94m  0.006648\u001b[0m  |    0.006462  |     1.028829  |             |  9.4s"
       ]
      },
      {
       "output_type": "stream",
       "stream": "stdout",
       "text": [
        "\n",
        "  1317  |    0.006682  |    0.006385  |     1.046574  |             |  9.4s"
       ]
      },
      {
       "output_type": "stream",
       "stream": "stdout",
       "text": [
        "\n",
        "  1318  |    0.006676  |    0.006406  |     1.042208  |             |  9.4s"
       ]
      },
      {
       "output_type": "stream",
       "stream": "stdout",
       "text": [
        "\n",
        "  1319  |    0.006709  |    0.006353  |     1.056183  |             |  9.4s"
       ]
      },
      {
       "output_type": "stream",
       "stream": "stdout",
       "text": [
        "\n",
        "  1320  |    0.006651  |    0.006431  |     1.034353  |             |  9.4s"
       ]
      },
      {
       "output_type": "stream",
       "stream": "stdout",
       "text": [
        "\n",
        "  1321  |  \u001b[94m  0.006643\u001b[0m  |    0.006429  |     1.033378  |             |  9.4s"
       ]
      },
      {
       "output_type": "stream",
       "stream": "stdout",
       "text": [
        "\n",
        "  1322  |    0.006727  |    0.006384  |     1.053716  |             |  9.4s"
       ]
      },
      {
       "output_type": "stream",
       "stream": "stdout",
       "text": [
        "\n",
        "  1323  |    0.006667  |    0.006446  |     1.034237  |             |  9.4s"
       ]
      },
      {
       "output_type": "stream",
       "stream": "stdout",
       "text": [
        "\n",
        "  1324  |    0.006686  |    0.006409  |     1.043146  |             |  9.4s"
       ]
      },
      {
       "output_type": "stream",
       "stream": "stdout",
       "text": [
        "\n",
        "  1325  |  \u001b[94m  0.006636\u001b[0m  |    0.006386  |     1.039205  |             |  9.4s"
       ]
      },
      {
       "output_type": "stream",
       "stream": "stdout",
       "text": [
        "\n",
        "  1326  |    0.006655  |    0.006375  |     1.043855  |             |  9.4s"
       ]
      },
      {
       "output_type": "stream",
       "stream": "stdout",
       "text": [
        "\n",
        "  1327  |    0.006657  |    0.006435  |     1.034463  |             |  9.4s"
       ]
      },
      {
       "output_type": "stream",
       "stream": "stdout",
       "text": [
        "\n",
        "  1328  |    0.006672  |    0.006392  |     1.043756  |             |  9.4s"
       ]
      },
      {
       "output_type": "stream",
       "stream": "stdout",
       "text": [
        "\n",
        "  1329  |    0.006660  |    0.006443  |     1.033712  |             |  9.4s"
       ]
      },
      {
       "output_type": "stream",
       "stream": "stdout",
       "text": [
        "\n",
        "  1330  |    0.006670  |    0.006425  |     1.038183  |             |  9.4s"
       ]
      },
      {
       "output_type": "stream",
       "stream": "stdout",
       "text": [
        "\n",
        "  1331  |    0.006692  |    0.006381  |     1.048874  |             |  9.4s"
       ]
      },
      {
       "output_type": "stream",
       "stream": "stdout",
       "text": [
        "\n",
        "  1332  |    0.006663  |    0.006337  |     1.051398  |             |  9.4s"
       ]
      },
      {
       "output_type": "stream",
       "stream": "stdout",
       "text": [
        "\n",
        "  1333  |    0.006650  |    0.006458  |     1.029861  |             |  9.4s"
       ]
      },
      {
       "output_type": "stream",
       "stream": "stdout",
       "text": [
        "\n",
        "  1334  |    0.006658  |    0.006394  |     1.041301  |             |  9.4s"
       ]
      },
      {
       "output_type": "stream",
       "stream": "stdout",
       "text": [
        "\n",
        "  1335  |    0.006669  |    0.006419  |     1.038992  |             |  9.4s"
       ]
      },
      {
       "output_type": "stream",
       "stream": "stdout",
       "text": [
        "\n",
        "  1336  |  \u001b[94m  0.006583\u001b[0m  |    0.006358  |     1.035302  |             |  9.4s"
       ]
      },
      {
       "output_type": "stream",
       "stream": "stdout",
       "text": [
        "\n",
        "  1337  |    0.006587  |    0.006382  |     1.032246  |             |  9.4s"
       ]
      },
      {
       "output_type": "stream",
       "stream": "stdout",
       "text": [
        "\n",
        "  1338  |    0.006600  |    0.006412  |     1.029224  |             |  9.4s"
       ]
      },
      {
       "output_type": "stream",
       "stream": "stdout",
       "text": [
        "\n",
        "  1339  |    0.006616  |    0.006428  |     1.029237  |             |  9.4s"
       ]
      },
      {
       "output_type": "stream",
       "stream": "stdout",
       "text": [
        "\n",
        "  1340  |    0.006625  |    0.006405  |     1.034332  |             |  9.4s"
       ]
      },
      {
       "output_type": "stream",
       "stream": "stdout",
       "text": [
        "\n",
        "  1341  |  \u001b[94m  0.006579\u001b[0m  |    0.006457  |     1.019020  |             |  9.4s"
       ]
      },
      {
       "output_type": "stream",
       "stream": "stdout",
       "text": [
        "\n",
        "  1342  |    0.006604  |    0.006398  |     1.032162  |             |  9.4s"
       ]
      },
      {
       "output_type": "stream",
       "stream": "stdout",
       "text": [
        "\n",
        "  1343  |    0.006622  |    0.006401  |     1.034653  |             |  9.4s"
       ]
      },
      {
       "output_type": "stream",
       "stream": "stdout",
       "text": [
        "\n",
        "  1344  |    0.006645  |    0.006366  |     1.043840  |             |  9.4s"
       ]
      },
      {
       "output_type": "stream",
       "stream": "stdout",
       "text": [
        "\n",
        "  1345  |  \u001b[94m  0.006546\u001b[0m  |    0.006331  |     1.033945  |             |  9.4s"
       ]
      },
      {
       "output_type": "stream",
       "stream": "stdout",
       "text": [
        "\n",
        "  1346  |    0.006611  |    0.006343  |     1.042329  |             |  9.4s"
       ]
      },
      {
       "output_type": "stream",
       "stream": "stdout",
       "text": [
        "\n",
        "  1347  |    0.006580  |    0.006397  |     1.028712  |             |  9.4s"
       ]
      },
      {
       "output_type": "stream",
       "stream": "stdout",
       "text": [
        "\n",
        "  1348  |    0.006550  |    0.006338  |     1.033320  |             |  9.4s"
       ]
      },
      {
       "output_type": "stream",
       "stream": "stdout",
       "text": [
        "\n",
        "  1349  |    0.006611  |    0.006359  |     1.039623  |             |  9.4s"
       ]
      },
      {
       "output_type": "stream",
       "stream": "stdout",
       "text": [
        "\n",
        "  1350  |    0.006601  |    0.006422  |     1.027839  |             |  9.4s"
       ]
      },
      {
       "output_type": "stream",
       "stream": "stdout",
       "text": [
        "\n",
        "  1351  |  \u001b[94m  0.006535\u001b[0m  |  \u001b[32m  0.006303\u001b[0m  |     1.036854  |             |  9.4s"
       ]
      },
      {
       "output_type": "stream",
       "stream": "stdout",
       "text": [
        "\n",
        "  1352  |    0.006653  |    0.006373  |     1.043970  |             |  9.4s"
       ]
      },
      {
       "output_type": "stream",
       "stream": "stdout",
       "text": [
        "\n",
        "  1353  |    0.006650  |    0.006393  |     1.040190  |             |  9.4s"
       ]
      },
      {
       "output_type": "stream",
       "stream": "stdout",
       "text": [
        "\n",
        "  1354  |  \u001b[94m  0.006508\u001b[0m  |    0.006341  |     1.026316  |             |  9.4s"
       ]
      },
      {
       "output_type": "stream",
       "stream": "stdout",
       "text": [
        "\n",
        "  1355  |    0.006532  |    0.006360  |     1.027030  |             |  9.4s"
       ]
      },
      {
       "output_type": "stream",
       "stream": "stdout",
       "text": [
        "\n",
        "  1356  |  \u001b[94m  0.006508\u001b[0m  |    0.006336  |     1.027106  |             |  9.4s"
       ]
      },
      {
       "output_type": "stream",
       "stream": "stdout",
       "text": [
        "\n",
        "  1357  |    0.006540  |    0.006350  |     1.029919  |             |  9.4s"
       ]
      },
      {
       "output_type": "stream",
       "stream": "stdout",
       "text": [
        "\n",
        "  1358  |    0.006548  |    0.006317  |     1.036654  |             |  9.4s"
       ]
      },
      {
       "output_type": "stream",
       "stream": "stdout",
       "text": [
        "\n",
        "  1359  |    0.006513  |    0.006326  |     1.029584  |             |  9.4s"
       ]
      },
      {
       "output_type": "stream",
       "stream": "stdout",
       "text": [
        "\n",
        "  1360  |    0.006590  |    0.006340  |     1.039458  |             |  9.4s"
       ]
      },
      {
       "output_type": "stream",
       "stream": "stdout",
       "text": [
        "\n",
        "  1361  |    0.006613  |    0.006353  |     1.040913  |             |  9.4s"
       ]
      },
      {
       "output_type": "stream",
       "stream": "stdout",
       "text": [
        "\n",
        "  1362  |    0.006555  |    0.006321  |     1.037112  |             |  9.4s"
       ]
      },
      {
       "output_type": "stream",
       "stream": "stdout",
       "text": [
        "\n",
        "  1363  |  \u001b[94m  0.006506\u001b[0m  |  \u001b[32m  0.006291\u001b[0m  |     1.034117  |             |  9.4s"
       ]
      },
      {
       "output_type": "stream",
       "stream": "stdout",
       "text": [
        "\n",
        "  1364  |    0.006570  |    0.006350  |     1.034607  |             |  9.4s"
       ]
      },
      {
       "output_type": "stream",
       "stream": "stdout",
       "text": [
        "\n",
        "  1365  |    0.006604  |    0.006302  |     1.047875  |             |  9.4s"
       ]
      },
      {
       "output_type": "stream",
       "stream": "stdout",
       "text": [
        "\n",
        "  1366  |  \u001b[94m  0.006498\u001b[0m  |    0.006311  |     1.029552  |             |  9.4s"
       ]
      },
      {
       "output_type": "stream",
       "stream": "stdout",
       "text": [
        "\n",
        "  1367  |    0.006574  |    0.006293  |     1.044558  |             |  9.4s"
       ]
      },
      {
       "output_type": "stream",
       "stream": "stdout",
       "text": [
        "\n",
        "  1368  |    0.006528  |    0.006304  |     1.035441  |             |  9.4s"
       ]
      },
      {
       "output_type": "stream",
       "stream": "stdout",
       "text": [
        "\n",
        "  1369  |  \u001b[94m  0.006486\u001b[0m  |    0.006305  |     1.028662  |             |  9.4s"
       ]
      },
      {
       "output_type": "stream",
       "stream": "stdout",
       "text": [
        "\n",
        "  1370  |  \u001b[94m  0.006463\u001b[0m  |    0.006326  |     1.021525  |             |  9.4s"
       ]
      },
      {
       "output_type": "stream",
       "stream": "stdout",
       "text": [
        "\n",
        "  1371  |    0.006506  |    0.006324  |     1.028831  |             |  9.4s"
       ]
      },
      {
       "output_type": "stream",
       "stream": "stdout",
       "text": [
        "\n",
        "  1372  |    0.006520  |    0.006314  |     1.032555  |             |  9.4s"
       ]
      },
      {
       "output_type": "stream",
       "stream": "stdout",
       "text": [
        "\n",
        "  1373  |  \u001b[94m  0.006427\u001b[0m  |  \u001b[32m  0.006289\u001b[0m  |     1.021886  |             |  9.4s"
       ]
      },
      {
       "output_type": "stream",
       "stream": "stdout",
       "text": [
        "\n",
        "  1374  |    0.006468  |  \u001b[32m  0.006264\u001b[0m  |     1.032557  |             |  9.4s"
       ]
      },
      {
       "output_type": "stream",
       "stream": "stdout",
       "text": [
        "\n",
        "  1375  |    0.006442  |    0.006328  |     1.017882  |             |  9.4s"
       ]
      },
      {
       "output_type": "stream",
       "stream": "stdout",
       "text": [
        "\n",
        "  1376  |    0.006473  |    0.006321  |     1.023996  |             |  9.4s"
       ]
      },
      {
       "output_type": "stream",
       "stream": "stdout",
       "text": [
        "\n",
        "  1377  |  \u001b[94m  0.006426\u001b[0m  |    0.006425  |     1.000222  |             |  9.4s"
       ]
      },
      {
       "output_type": "stream",
       "stream": "stdout",
       "text": [
        "\n",
        "  1378  |    0.006439  |    0.006316  |     1.019479  |             |  9.4s"
       ]
      },
      {
       "output_type": "stream",
       "stream": "stdout",
       "text": [
        "\n",
        "  1379  |    0.006515  |    0.006329  |     1.029431  |             |  9.4s"
       ]
      },
      {
       "output_type": "stream",
       "stream": "stdout",
       "text": [
        "\n",
        "  1380  |    0.006508  |    0.006291  |     1.034490  |             |  9.4s"
       ]
      },
      {
       "output_type": "stream",
       "stream": "stdout",
       "text": [
        "\n",
        "  1381  |    0.006455  |    0.006318  |     1.021572  |             |  9.4s"
       ]
      },
      {
       "output_type": "stream",
       "stream": "stdout",
       "text": [
        "\n",
        "  1382  |    0.006466  |    0.006277  |     1.030184  |             |  9.4s"
       ]
      },
      {
       "output_type": "stream",
       "stream": "stdout",
       "text": [
        "\n",
        "  1383  |    0.006534  |  \u001b[32m  0.006217\u001b[0m  |     1.050982  |             |  9.4s"
       ]
      },
      {
       "output_type": "stream",
       "stream": "stdout",
       "text": [
        "\n",
        "  1384  |    0.006427  |    0.006251  |     1.028165  |             |  9.4s"
       ]
      },
      {
       "output_type": "stream",
       "stream": "stdout",
       "text": [
        "\n",
        "  1385  |    0.006492  |    0.006255  |     1.037846  |             |  9.4s"
       ]
      },
      {
       "output_type": "stream",
       "stream": "stdout",
       "text": [
        "\n",
        "  1386  |    0.006461  |    0.006249  |     1.034042  |             |  9.4s"
       ]
      },
      {
       "output_type": "stream",
       "stream": "stdout",
       "text": [
        "\n",
        "  1387  |  \u001b[94m  0.006404\u001b[0m  |    0.006302  |     1.016095  |             |  9.4s"
       ]
      },
      {
       "output_type": "stream",
       "stream": "stdout",
       "text": [
        "\n",
        "  1388  |    0.006442  |    0.006293  |     1.023679  |             |  9.4s"
       ]
      },
      {
       "output_type": "stream",
       "stream": "stdout",
       "text": [
        "\n",
        "  1389  |    0.006458  |    0.006261  |     1.031480  |             |  9.4s"
       ]
      },
      {
       "output_type": "stream",
       "stream": "stdout",
       "text": [
        "\n",
        "  1390  |    0.006412  |  \u001b[32m  0.006192\u001b[0m  |     1.035508  |             |  9.4s"
       ]
      },
      {
       "output_type": "stream",
       "stream": "stdout",
       "text": [
        "\n",
        "  1391  |    0.006414  |    0.006287  |     1.020226  |             |  9.4s"
       ]
      },
      {
       "output_type": "stream",
       "stream": "stdout",
       "text": [
        "\n",
        "  1392  |  \u001b[94m  0.006356\u001b[0m  |    0.006241  |     1.018323  |             |  9.4s"
       ]
      },
      {
       "output_type": "stream",
       "stream": "stdout",
       "text": [
        "\n",
        "  1393  |  \u001b[94m  0.006348\u001b[0m  |    0.006278  |     1.011050  |             |  9.4s"
       ]
      },
      {
       "output_type": "stream",
       "stream": "stdout",
       "text": [
        "\n",
        "  1394  |    0.006382  |    0.006287  |     1.015102  |             |  9.4s"
       ]
      },
      {
       "output_type": "stream",
       "stream": "stdout",
       "text": [
        "\n",
        "  1395  |    0.006372  |    0.006232  |     1.022380  |             |  9.4s"
       ]
      },
      {
       "output_type": "stream",
       "stream": "stdout",
       "text": [
        "\n",
        "  1396  |    0.006364  |    0.006231  |     1.021420  |             |  9.4s"
       ]
      },
      {
       "output_type": "stream",
       "stream": "stdout",
       "text": [
        "\n",
        "  1397  |    0.006398  |    0.006287  |     1.017648  |             |  9.4s"
       ]
      },
      {
       "output_type": "stream",
       "stream": "stdout",
       "text": [
        "\n",
        "  1398  |    0.006362  |    0.006295  |     1.010648  |             |  9.4s"
       ]
      },
      {
       "output_type": "stream",
       "stream": "stdout",
       "text": [
        "\n",
        "  1399  |    0.006471  |    0.006288  |     1.029174  |             |  9.4s"
       ]
      },
      {
       "output_type": "stream",
       "stream": "stdout",
       "text": [
        "\n",
        "  1400  |    0.006399  |    0.006294  |     1.016683  |             |  9.4s"
       ]
      },
      {
       "output_type": "stream",
       "stream": "stdout",
       "text": [
        "\n",
        "  1401  |    0.006362  |    0.006235  |     1.020272  |             |  9.4s"
       ]
      },
      {
       "output_type": "stream",
       "stream": "stdout",
       "text": [
        "\n",
        "  1402  |    0.006410  |    0.006212  |     1.031836  |             |  9.4s"
       ]
      },
      {
       "output_type": "stream",
       "stream": "stdout",
       "text": [
        "\n",
        "  1403  |    0.006371  |    0.006263  |     1.017243  |             |  9.4s"
       ]
      },
      {
       "output_type": "stream",
       "stream": "stdout",
       "text": [
        "\n",
        "  1404  |    0.006402  |    0.006239  |     1.026154  |             |  9.4s"
       ]
      },
      {
       "output_type": "stream",
       "stream": "stdout",
       "text": [
        "\n",
        "  1405  |    0.006396  |    0.006225  |     1.027494  |             |  9.4s"
       ]
      },
      {
       "output_type": "stream",
       "stream": "stdout",
       "text": [
        "\n",
        "  1406  |    0.006405  |    0.006206  |     1.032023  |             |  9.4s"
       ]
      },
      {
       "output_type": "stream",
       "stream": "stdout",
       "text": [
        "\n",
        "  1407  |    0.006357  |    0.006314  |     1.006790  |             |  9.4s"
       ]
      },
      {
       "output_type": "stream",
       "stream": "stdout",
       "text": [
        "\n",
        "  1408  |    0.006364  |    0.006262  |     1.016304  |             |  9.4s"
       ]
      },
      {
       "output_type": "stream",
       "stream": "stdout",
       "text": [
        "\n",
        "  1409  |    0.006361  |    0.006300  |     1.009605  |             |  9.4s"
       ]
      },
      {
       "output_type": "stream",
       "stream": "stdout",
       "text": [
        "\n",
        "  1410  |  \u001b[94m  0.006325\u001b[0m  |    0.006276  |     1.007945  |             |  9.4s"
       ]
      },
      {
       "output_type": "stream",
       "stream": "stdout",
       "text": [
        "\n",
        "  1411  |    0.006404  |    0.006295  |     1.017369  |             |  9.4s"
       ]
      },
      {
       "output_type": "stream",
       "stream": "stdout",
       "text": [
        "\n",
        "  1412  |    0.006367  |    0.006272  |     1.015165  |             |  9.4s"
       ]
      },
      {
       "output_type": "stream",
       "stream": "stdout",
       "text": [
        "\n",
        "  1413  |  \u001b[94m  0.006316\u001b[0m  |  \u001b[32m  0.006180\u001b[0m  |     1.021865  |             |  9.4s"
       ]
      },
      {
       "output_type": "stream",
       "stream": "stdout",
       "text": [
        "\n",
        "  1414  |    0.006329  |    0.006210  |     1.019249  |             |  9.4s"
       ]
      },
      {
       "output_type": "stream",
       "stream": "stdout",
       "text": [
        "\n",
        "  1415  |    0.006371  |    0.006196  |     1.028201  |             |  9.4s"
       ]
      },
      {
       "output_type": "stream",
       "stream": "stdout",
       "text": [
        "\n",
        "  1416  |    0.006384  |    0.006218  |     1.026766  |             |  9.4s"
       ]
      },
      {
       "output_type": "stream",
       "stream": "stdout",
       "text": [
        "\n",
        "  1417  |  \u001b[94m  0.006305\u001b[0m  |  \u001b[32m  0.006153\u001b[0m  |     1.024785  |             |  9.4s"
       ]
      },
      {
       "output_type": "stream",
       "stream": "stdout",
       "text": [
        "\n",
        "  1418  |  \u001b[94m  0.006304\u001b[0m  |    0.006196  |     1.017411  |             |  9.4s"
       ]
      },
      {
       "output_type": "stream",
       "stream": "stdout",
       "text": [
        "\n",
        "  1419  |  \u001b[94m  0.006273\u001b[0m  |    0.006241  |     1.005097  |             |  9.4s"
       ]
      },
      {
       "output_type": "stream",
       "stream": "stdout",
       "text": [
        "\n",
        "  1420  |    0.006367  |    0.006230  |     1.022009  |             |  9.4s"
       ]
      },
      {
       "output_type": "stream",
       "stream": "stdout",
       "text": [
        "\n",
        "  1421  |    0.006368  |    0.006235  |     1.021448  |             |  9.4s"
       ]
      },
      {
       "output_type": "stream",
       "stream": "stdout",
       "text": [
        "\n",
        "  1422  |    0.006319  |    0.006166  |     1.024766  |             |  9.4s"
       ]
      },
      {
       "output_type": "stream",
       "stream": "stdout",
       "text": [
        "\n",
        "  1423  |    0.006287  |    0.006281  |     1.000888  |             |  9.4s"
       ]
      },
      {
       "output_type": "stream",
       "stream": "stdout",
       "text": [
        "\n",
        "  1424  |    0.006342  |    0.006238  |     1.016539  |             |  9.4s"
       ]
      },
      {
       "output_type": "stream",
       "stream": "stdout",
       "text": [
        "\n",
        "  1425  |    0.006322  |    0.006207  |     1.018387  |             |  9.4s"
       ]
      },
      {
       "output_type": "stream",
       "stream": "stdout",
       "text": [
        "\n",
        "  1426  |    0.006395  |    0.006158  |     1.038452  |             |  9.4s"
       ]
      },
      {
       "output_type": "stream",
       "stream": "stdout",
       "text": [
        "\n",
        "  1427  |    0.006365  |  \u001b[32m  0.006144\u001b[0m  |     1.035937  |             |  9.4s"
       ]
      },
      {
       "output_type": "stream",
       "stream": "stdout",
       "text": [
        "\n",
        "  1428  |    0.006300  |    0.006232  |     1.011003  |             |  9.4s"
       ]
      },
      {
       "output_type": "stream",
       "stream": "stdout",
       "text": [
        "\n",
        "  1429  |    0.006307  |    0.006189  |     1.019210  |             |  9.4s"
       ]
      },
      {
       "output_type": "stream",
       "stream": "stdout",
       "text": [
        "\n",
        "  1430  |    0.006317  |  \u001b[32m  0.006131\u001b[0m  |     1.030336  |             |  9.4s"
       ]
      },
      {
       "output_type": "stream",
       "stream": "stdout",
       "text": [
        "\n",
        "  1431  |  \u001b[94m  0.006261\u001b[0m  |    0.006242  |     1.002964  |             |  9.4s"
       ]
      },
      {
       "output_type": "stream",
       "stream": "stdout",
       "text": [
        "\n",
        "  1432  |  \u001b[94m  0.006256\u001b[0m  |    0.006171  |     1.013666  |             |  9.4s"
       ]
      },
      {
       "output_type": "stream",
       "stream": "stdout",
       "text": [
        "\n",
        "  1433  |    0.006342  |    0.006172  |     1.027463  |             |  9.4s"
       ]
      },
      {
       "output_type": "stream",
       "stream": "stdout",
       "text": [
        "\n",
        "  1434  |  \u001b[94m  0.006245\u001b[0m  |    0.006139  |     1.017210  |             |  9.4s"
       ]
      },
      {
       "output_type": "stream",
       "stream": "stdout",
       "text": [
        "\n",
        "  1435  |    0.006271  |    0.006244  |     1.004347  |             |  9.4s"
       ]
      },
      {
       "output_type": "stream",
       "stream": "stdout",
       "text": [
        "\n",
        "  1436  |  \u001b[94m  0.006220\u001b[0m  |    0.006249  |     0.995407  |             |  9.4s"
       ]
      },
      {
       "output_type": "stream",
       "stream": "stdout",
       "text": [
        "\n",
        "  1437  |    0.006322  |    0.006220  |     1.016451  |             |  9.4s"
       ]
      },
      {
       "output_type": "stream",
       "stream": "stdout",
       "text": [
        "\n",
        "  1438  |    0.006246  |    0.006136  |     1.017892  |             |  9.4s"
       ]
      },
      {
       "output_type": "stream",
       "stream": "stdout",
       "text": [
        "\n",
        "  1439  |    0.006281  |    0.006144  |     1.022328  |             |  9.4s"
       ]
      },
      {
       "output_type": "stream",
       "stream": "stdout",
       "text": [
        "\n",
        "  1440  |    0.006258  |    0.006274  |     0.997494  |             |  9.4s"
       ]
      },
      {
       "output_type": "stream",
       "stream": "stdout",
       "text": [
        "\n",
        "  1441  |    0.006398  |    0.006202  |     1.031621  |             |  9.4s"
       ]
      },
      {
       "output_type": "stream",
       "stream": "stdout",
       "text": [
        "\n",
        "  1442  |    0.006256  |    0.006203  |     1.008529  |             |  9.4s"
       ]
      },
      {
       "output_type": "stream",
       "stream": "stdout",
       "text": [
        "\n",
        "  1443  |  \u001b[94m  0.006209\u001b[0m  |    0.006170  |     1.006279  |             |  9.4s"
       ]
      },
      {
       "output_type": "stream",
       "stream": "stdout",
       "text": [
        "\n",
        "  1444  |    0.006292  |    0.006163  |     1.020903  |             |  9.4s"
       ]
      },
      {
       "output_type": "stream",
       "stream": "stdout",
       "text": [
        "\n",
        "  1445  |    0.006254  |    0.006144  |     1.017933  |             |  9.4s"
       ]
      },
      {
       "output_type": "stream",
       "stream": "stdout",
       "text": [
        "\n",
        "  1446  |  \u001b[94m  0.006189\u001b[0m  |  \u001b[32m  0.006115\u001b[0m  |     1.012211  |             |  9.4s"
       ]
      },
      {
       "output_type": "stream",
       "stream": "stdout",
       "text": [
        "\n",
        "  1447  |  \u001b[94m  0.006187\u001b[0m  |    0.006184  |     1.000482  |             |  9.4s"
       ]
      },
      {
       "output_type": "stream",
       "stream": "stdout",
       "text": [
        "\n",
        "  1448  |    0.006240  |    0.006161  |     1.012808  |             |  9.4s"
       ]
      },
      {
       "output_type": "stream",
       "stream": "stdout",
       "text": [
        "\n",
        "  1449  |  \u001b[94m  0.006175\u001b[0m  |    0.006198  |     0.996283  |             |  9.4s"
       ]
      },
      {
       "output_type": "stream",
       "stream": "stdout",
       "text": [
        "\n",
        "  1450  |    0.006209  |    0.006223  |     0.997785  |             |  9.4s"
       ]
      },
      {
       "output_type": "stream",
       "stream": "stdout",
       "text": [
        "\n",
        "  1451  |    0.006278  |    0.006172  |     1.017251  |             |  9.4s"
       ]
      },
      {
       "output_type": "stream",
       "stream": "stdout",
       "text": [
        "\n",
        "  1452  |    0.006197  |    0.006131  |     1.010720  |             |  9.4s"
       ]
      },
      {
       "output_type": "stream",
       "stream": "stdout",
       "text": [
        "\n",
        "  1453  |    0.006215  |    0.006173  |     1.006749  |             |  9.4s"
       ]
      },
      {
       "output_type": "stream",
       "stream": "stdout",
       "text": [
        "\n",
        "  1454  |    0.006201  |    0.006185  |     1.002710  |             |  9.4s"
       ]
      },
      {
       "output_type": "stream",
       "stream": "stdout",
       "text": [
        "\n",
        "  1455  |  \u001b[94m  0.006137\u001b[0m  |    0.006161  |     0.996192  |             |  9.4s"
       ]
      },
      {
       "output_type": "stream",
       "stream": "stdout",
       "text": [
        "\n",
        "  1456  |    0.006234  |    0.006204  |     1.004841  |             |  9.4s"
       ]
      },
      {
       "output_type": "stream",
       "stream": "stdout",
       "text": [
        "\n",
        "  1457  |    0.006236  |    0.006141  |     1.015406  |             |  9.4s"
       ]
      },
      {
       "output_type": "stream",
       "stream": "stdout",
       "text": [
        "\n",
        "  1458  |    0.006177  |    0.006164  |     1.002075  |             |  9.4s"
       ]
      },
      {
       "output_type": "stream",
       "stream": "stdout",
       "text": [
        "\n",
        "  1459  |    0.006174  |    0.006156  |     1.002994  |             |  9.4s"
       ]
      },
      {
       "output_type": "stream",
       "stream": "stdout",
       "text": [
        "\n",
        "  1460  |    0.006175  |  \u001b[32m  0.006111\u001b[0m  |     1.010447  |             |  9.4s"
       ]
      },
      {
       "output_type": "stream",
       "stream": "stdout",
       "text": [
        "\n",
        "  1461  |  \u001b[94m  0.006109\u001b[0m  |    0.006142  |     0.994566  |             |  9.4s"
       ]
      },
      {
       "output_type": "stream",
       "stream": "stdout",
       "text": [
        "\n",
        "  1462  |    0.006207  |  \u001b[32m  0.006088\u001b[0m  |     1.019586  |             |  9.4s"
       ]
      },
      {
       "output_type": "stream",
       "stream": "stdout",
       "text": [
        "\n",
        "  1463  |    0.006171  |    0.006166  |     1.000761  |             |  9.4s"
       ]
      },
      {
       "output_type": "stream",
       "stream": "stdout",
       "text": [
        "\n",
        "  1464  |    0.006218  |    0.006148  |     1.011413  |             |  9.4s"
       ]
      },
      {
       "output_type": "stream",
       "stream": "stdout",
       "text": [
        "\n",
        "  1465  |    0.006124  |    0.006171  |     0.992469  |             |  9.4s"
       ]
      },
      {
       "output_type": "stream",
       "stream": "stdout",
       "text": [
        "\n",
        "  1466  |    0.006171  |  \u001b[32m  0.006074\u001b[0m  |     1.016077  |             |  9.4s"
       ]
      },
      {
       "output_type": "stream",
       "stream": "stdout",
       "text": [
        "\n",
        "  1467  |  \u001b[94m  0.006086\u001b[0m  |    0.006089  |     0.999477  |             |  9.4s"
       ]
      },
      {
       "output_type": "stream",
       "stream": "stdout",
       "text": [
        "\n",
        "  1468  |    0.006131  |    0.006138  |     0.998805  |             |  9.4s"
       ]
      },
      {
       "output_type": "stream",
       "stream": "stdout",
       "text": [
        "\n",
        "  1469  |    0.006147  |    0.006150  |     0.999562  |             |  9.4s"
       ]
      },
      {
       "output_type": "stream",
       "stream": "stdout",
       "text": [
        "\n",
        "  1470  |    0.006213  |    0.006145  |     1.011100  |             |  9.4s"
       ]
      },
      {
       "output_type": "stream",
       "stream": "stdout",
       "text": [
        "\n",
        "  1471  |    0.006098  |    0.006111  |     0.997939  |             |  9.4s"
       ]
      },
      {
       "output_type": "stream",
       "stream": "stdout",
       "text": [
        "\n",
        "  1472  |  \u001b[94m  0.006083\u001b[0m  |    0.006159  |     0.987653  |             |  9.4s"
       ]
      },
      {
       "output_type": "stream",
       "stream": "stdout",
       "text": [
        "\n",
        "  1473  |    0.006099  |    0.006093  |     1.000972  |             |  9.4s"
       ]
      },
      {
       "output_type": "stream",
       "stream": "stdout",
       "text": [
        "\n",
        "  1474  |    0.006099  |    0.006130  |     0.994937  |             |  9.4s"
       ]
      },
      {
       "output_type": "stream",
       "stream": "stdout",
       "text": [
        "\n",
        "  1475  |    0.006132  |    0.006083  |     1.008044  |             |  9.4s"
       ]
      },
      {
       "output_type": "stream",
       "stream": "stdout",
       "text": [
        "\n",
        "  1476  |    0.006124  |  \u001b[32m  0.006067\u001b[0m  |     1.009466  |             |  9.4s"
       ]
      },
      {
       "output_type": "stream",
       "stream": "stdout",
       "text": [
        "\n",
        "  1477  |  \u001b[94m  0.006043\u001b[0m  |    0.006119  |     0.987683  |             |  9.4s"
       ]
      },
      {
       "output_type": "stream",
       "stream": "stdout",
       "text": [
        "\n",
        "  1478  |    0.006078  |    0.006086  |     0.998642  |             |  9.4s"
       ]
      },
      {
       "output_type": "stream",
       "stream": "stdout",
       "text": [
        "\n",
        "  1479  |    0.006138  |    0.006075  |     1.010344  |             |  9.4s"
       ]
      },
      {
       "output_type": "stream",
       "stream": "stdout",
       "text": [
        "\n",
        "  1480  |    0.006086  |    0.006127  |     0.993268  |             |  9.4s"
       ]
      },
      {
       "output_type": "stream",
       "stream": "stdout",
       "text": [
        "\n",
        "  1481  |    0.006142  |    0.006159  |     0.997334  |             |  9.4s"
       ]
      },
      {
       "output_type": "stream",
       "stream": "stdout",
       "text": [
        "\n",
        "  1482  |    0.006095  |    0.006106  |     0.998330  |             |  9.4s"
       ]
      },
      {
       "output_type": "stream",
       "stream": "stdout",
       "text": [
        "\n",
        "  1483  |    0.006089  |  \u001b[32m  0.006032\u001b[0m  |     1.009455  |             |  9.4s"
       ]
      },
      {
       "output_type": "stream",
       "stream": "stdout",
       "text": [
        "\n",
        "  1484  |    0.006122  |    0.006071  |     1.008258  |             |  9.4s"
       ]
      },
      {
       "output_type": "stream",
       "stream": "stdout",
       "text": [
        "\n",
        "  1485  |    0.006111  |    0.006126  |     0.997503  |             |  9.4s"
       ]
      },
      {
       "output_type": "stream",
       "stream": "stdout",
       "text": [
        "\n",
        "  1486  |    0.006116  |    0.006065  |     1.008393  |             |  9.4s"
       ]
      },
      {
       "output_type": "stream",
       "stream": "stdout",
       "text": [
        "\n",
        "  1487  |    0.006088  |    0.006157  |     0.988791  |             |  9.4s"
       ]
      },
      {
       "output_type": "stream",
       "stream": "stdout",
       "text": [
        "\n",
        "  1488  |  \u001b[94m  0.005995\u001b[0m  |    0.006095  |     0.983645  |             |  9.4s"
       ]
      },
      {
       "output_type": "stream",
       "stream": "stdout",
       "text": [
        "\n",
        "  1489  |    0.006095  |    0.006085  |     1.001666  |             |  9.4s"
       ]
      },
      {
       "output_type": "stream",
       "stream": "stdout",
       "text": [
        "\n",
        "  1490  |    0.006035  |    0.006117  |     0.986463  |             |  9.4s"
       ]
      },
      {
       "output_type": "stream",
       "stream": "stdout",
       "text": [
        "\n",
        "  1491  |    0.006089  |    0.006072  |     1.002849  |             |  9.4s"
       ]
      },
      {
       "output_type": "stream",
       "stream": "stdout",
       "text": [
        "\n",
        "  1492  |    0.006040  |    0.006085  |     0.992625  |             |  9.4s"
       ]
      },
      {
       "output_type": "stream",
       "stream": "stdout",
       "text": [
        "\n",
        "  1493  |    0.006057  |    0.006121  |     0.989434  |             |  9.4s"
       ]
      },
      {
       "output_type": "stream",
       "stream": "stdout",
       "text": [
        "\n",
        "  1494  |    0.006045  |    0.006080  |     0.994253  |             |  9.4s"
       ]
      },
      {
       "output_type": "stream",
       "stream": "stdout",
       "text": [
        "\n",
        "  1495  |    0.006061  |    0.006177  |     0.981119  |             |  9.4s"
       ]
      },
      {
       "output_type": "stream",
       "stream": "stdout",
       "text": [
        "\n",
        "  1496  |    0.006083  |    0.006087  |     0.999287  |             |  9.4s"
       ]
      },
      {
       "output_type": "stream",
       "stream": "stdout",
       "text": [
        "\n",
        "  1497  |    0.006020  |    0.006056  |     0.994046  |             |  9.4s"
       ]
      },
      {
       "output_type": "stream",
       "stream": "stdout",
       "text": [
        "\n",
        "  1498  |    0.006070  |  \u001b[32m  0.006027\u001b[0m  |     1.007046  |             |  9.4s"
       ]
      },
      {
       "output_type": "stream",
       "stream": "stdout",
       "text": [
        "\n",
        "  1499  |    0.006063  |    0.006102  |     0.993623  |             |  9.4s"
       ]
      },
      {
       "output_type": "stream",
       "stream": "stdout",
       "text": [
        "\n",
        "  1500  |    0.006011  |    0.006128  |     0.980892  |             |  9.4s"
       ]
      },
      {
       "output_type": "stream",
       "stream": "stdout",
       "text": [
        "\n",
        "  1501  |  \u001b[94m  0.005988\u001b[0m  |    0.006100  |     0.981642  |             |  9.4s"
       ]
      },
      {
       "output_type": "stream",
       "stream": "stdout",
       "text": [
        "\n",
        "  1502  |    0.006084  |    0.006138  |     0.991120  |             |  9.4s"
       ]
      },
      {
       "output_type": "stream",
       "stream": "stdout",
       "text": [
        "\n",
        "  1503  |    0.006007  |    0.006039  |     0.994763  |             |  9.4s"
       ]
      },
      {
       "output_type": "stream",
       "stream": "stdout",
       "text": [
        "\n",
        "  1504  |    0.005996  |    0.006052  |     0.990626  |             |  9.4s"
       ]
      },
      {
       "output_type": "stream",
       "stream": "stdout",
       "text": [
        "\n",
        "  1505  |    0.006092  |    0.006104  |     0.998060  |             |  9.4s"
       ]
      },
      {
       "output_type": "stream",
       "stream": "stdout",
       "text": [
        "\n",
        "  1506  |    0.006030  |    0.006076  |     0.992436  |             |  9.4s"
       ]
      },
      {
       "output_type": "stream",
       "stream": "stdout",
       "text": [
        "\n",
        "  1507  |    0.006004  |    0.006184  |     0.970855  |             |  9.4s"
       ]
      },
      {
       "output_type": "stream",
       "stream": "stdout",
       "text": [
        "\n",
        "  1508  |    0.006054  |    0.006104  |     0.991723  |             |  9.4s"
       ]
      },
      {
       "output_type": "stream",
       "stream": "stdout",
       "text": [
        "\n",
        "  1509  |    0.006001  |    0.006054  |     0.991266  |             |  9.4s"
       ]
      },
      {
       "output_type": "stream",
       "stream": "stdout",
       "text": [
        "\n",
        "  1510  |  \u001b[94m  0.005982\u001b[0m  |    0.006113  |     0.978629  |             |  9.4s"
       ]
      },
      {
       "output_type": "stream",
       "stream": "stdout",
       "text": [
        "\n",
        "  1511  |  \u001b[94m  0.005944\u001b[0m  |    0.006075  |     0.978541  |             |  9.4s"
       ]
      },
      {
       "output_type": "stream",
       "stream": "stdout",
       "text": [
        "\n",
        "  1512  |    0.006055  |    0.006113  |     0.990391  |             |  9.4s"
       ]
      },
      {
       "output_type": "stream",
       "stream": "stdout",
       "text": [
        "\n",
        "  1513  |    0.005947  |    0.006071  |     0.979637  |             |  9.4s"
       ]
      },
      {
       "output_type": "stream",
       "stream": "stdout",
       "text": [
        "\n",
        "  1514  |    0.005989  |    0.006108  |     0.980611  |             |  9.4s"
       ]
      },
      {
       "output_type": "stream",
       "stream": "stdout",
       "text": [
        "\n",
        "  1515  |  \u001b[94m  0.005891\u001b[0m  |    0.006041  |     0.975207  |             |  9.4s"
       ]
      },
      {
       "output_type": "stream",
       "stream": "stdout",
       "text": [
        "\n",
        "  1516  |    0.005966  |    0.006067  |     0.983302  |             |  9.4s"
       ]
      },
      {
       "output_type": "stream",
       "stream": "stdout",
       "text": [
        "\n",
        "  1517  |    0.005978  |    0.006174  |     0.968222  |             |  9.4s"
       ]
      },
      {
       "output_type": "stream",
       "stream": "stdout",
       "text": [
        "\n",
        "  1518  |    0.005970  |    0.006064  |     0.984479  |             |  9.4s"
       ]
      },
      {
       "output_type": "stream",
       "stream": "stdout",
       "text": [
        "\n",
        "  1519  |    0.005917  |    0.006032  |     0.980880  |             |  9.4s"
       ]
      },
      {
       "output_type": "stream",
       "stream": "stdout",
       "text": [
        "\n",
        "  1520  |    0.005955  |    0.006126  |     0.972143  |             |  9.4s"
       ]
      },
      {
       "output_type": "stream",
       "stream": "stdout",
       "text": [
        "\n",
        "  1521  |    0.005946  |    0.006046  |     0.983487  |             |  9.4s"
       ]
      },
      {
       "output_type": "stream",
       "stream": "stdout",
       "text": [
        "\n",
        "  1522  |    0.005969  |    0.006054  |     0.986112  |             |  9.4s"
       ]
      },
      {
       "output_type": "stream",
       "stream": "stdout",
       "text": [
        "\n",
        "  1523  |    0.005920  |    0.006057  |     0.977419  |             |  9.4s"
       ]
      },
      {
       "output_type": "stream",
       "stream": "stdout",
       "text": [
        "\n",
        "  1524  |    0.005936  |    0.006066  |     0.978537  |             |  9.4s"
       ]
      },
      {
       "output_type": "stream",
       "stream": "stdout",
       "text": [
        "\n",
        "  1525  |    0.005919  |  \u001b[32m  0.006020\u001b[0m  |     0.983242  |             |  9.4s"
       ]
      },
      {
       "output_type": "stream",
       "stream": "stdout",
       "text": [
        "\n",
        "  1526  |    0.005991  |    0.006078  |     0.985645  |             |  9.4s"
       ]
      },
      {
       "output_type": "stream",
       "stream": "stdout",
       "text": [
        "\n",
        "  1527  |  \u001b[94m  0.005853\u001b[0m  |    0.006035  |     0.969853  |             |  9.4s"
       ]
      },
      {
       "output_type": "stream",
       "stream": "stdout",
       "text": [
        "\n",
        "  1528  |    0.005980  |  \u001b[32m  0.006016\u001b[0m  |     0.994099  |             |  9.4s"
       ]
      },
      {
       "output_type": "stream",
       "stream": "stdout",
       "text": [
        "\n",
        "  1529  |    0.005913  |    0.006020  |     0.982211  |             |  9.4s"
       ]
      },
      {
       "output_type": "stream",
       "stream": "stdout",
       "text": [
        "\n",
        "  1530  |    0.005972  |  \u001b[32m  0.006000\u001b[0m  |     0.995294  |             |  9.4s"
       ]
      },
      {
       "output_type": "stream",
       "stream": "stdout",
       "text": [
        "\n",
        "  1531  |    0.005944  |    0.006053  |     0.981973  |             |  9.4s"
       ]
      },
      {
       "output_type": "stream",
       "stream": "stdout",
       "text": [
        "\n",
        "  1532  |    0.005974  |    0.006015  |     0.993111  |             |  9.4s"
       ]
      },
      {
       "output_type": "stream",
       "stream": "stdout",
       "text": [
        "\n",
        "  1533  |    0.005902  |    0.006005  |     0.982815  |             |  9.4s"
       ]
      },
      {
       "output_type": "stream",
       "stream": "stdout",
       "text": [
        "\n",
        "  1534  |    0.005938  |  \u001b[32m  0.005977\u001b[0m  |     0.993468  |             |  9.4s"
       ]
      },
      {
       "output_type": "stream",
       "stream": "stdout",
       "text": [
        "\n",
        "  1535  |    0.005948  |  \u001b[32m  0.005958\u001b[0m  |     0.998310  |             |  9.4s"
       ]
      },
      {
       "output_type": "stream",
       "stream": "stdout",
       "text": [
        "\n",
        "  1536  |    0.005927  |    0.006015  |     0.985249  |             |  9.4s"
       ]
      },
      {
       "output_type": "stream",
       "stream": "stdout",
       "text": [
        "\n",
        "  1537  |  \u001b[94m  0.005851\u001b[0m  |    0.006007  |     0.973940  |             |  9.4s"
       ]
      },
      {
       "output_type": "stream",
       "stream": "stdout",
       "text": [
        "\n",
        "  1538  |    0.005990  |    0.005975  |     1.002402  |             |  9.4s"
       ]
      },
      {
       "output_type": "stream",
       "stream": "stdout",
       "text": [
        "\n",
        "  1539  |    0.005922  |    0.006033  |     0.981564  |             |  9.4s"
       ]
      },
      {
       "output_type": "stream",
       "stream": "stdout",
       "text": [
        "\n",
        "  1540  |    0.005892  |    0.006056  |     0.972796  |             |  9.4s"
       ]
      },
      {
       "output_type": "stream",
       "stream": "stdout",
       "text": [
        "\n",
        "  1541  |    0.005855  |    0.006044  |     0.968700  |             |  9.4s"
       ]
      },
      {
       "output_type": "stream",
       "stream": "stdout",
       "text": [
        "\n",
        "  1542  |    0.005946  |    0.006037  |     0.984921  |             |  9.4s"
       ]
      },
      {
       "output_type": "stream",
       "stream": "stdout",
       "text": [
        "\n",
        "  1543  |    0.005858  |    0.005976  |     0.980237  |             |  9.4s"
       ]
      },
      {
       "output_type": "stream",
       "stream": "stdout",
       "text": [
        "\n",
        "  1544  |    0.005856  |    0.006026  |     0.971795  |             |  9.4s"
       ]
      },
      {
       "output_type": "stream",
       "stream": "stdout",
       "text": [
        "\n",
        "  1545  |  \u001b[94m  0.005837\u001b[0m  |    0.006006  |     0.971843  |             |  9.4s"
       ]
      },
      {
       "output_type": "stream",
       "stream": "stdout",
       "text": [
        "\n",
        "  1546  |    0.005921  |    0.006003  |     0.986287  |             |  9.4s"
       ]
      },
      {
       "output_type": "stream",
       "stream": "stdout",
       "text": [
        "\n",
        "  1547  |    0.005897  |    0.006029  |     0.978142  |             |  9.4s"
       ]
      },
      {
       "output_type": "stream",
       "stream": "stdout",
       "text": [
        "\n",
        "  1548  |    0.005903  |    0.005995  |     0.984609  |             |  9.4s"
       ]
      },
      {
       "output_type": "stream",
       "stream": "stdout",
       "text": [
        "\n",
        "  1549  |    0.005855  |    0.006018  |     0.972872  |             |  9.4s"
       ]
      },
      {
       "output_type": "stream",
       "stream": "stdout",
       "text": [
        "\n",
        "  1550  |  \u001b[94m  0.005817\u001b[0m  |    0.006044  |     0.962511  |             |  9.4s"
       ]
      },
      {
       "output_type": "stream",
       "stream": "stdout",
       "text": [
        "\n",
        "  1551  |    0.005834  |    0.006019  |     0.969191  |             |  9.4s"
       ]
      },
      {
       "output_type": "stream",
       "stream": "stdout",
       "text": [
        "\n",
        "  1552  |    0.005840  |  \u001b[32m  0.005941\u001b[0m  |     0.983083  |             |  9.4s"
       ]
      },
      {
       "output_type": "stream",
       "stream": "stdout",
       "text": [
        "\n",
        "  1553  |    0.005853  |    0.006006  |     0.974403  |             |  9.4s"
       ]
      },
      {
       "output_type": "stream",
       "stream": "stdout",
       "text": [
        "\n",
        "  1554  |    0.005853  |    0.005977  |     0.979338  |             |  9.4s"
       ]
      },
      {
       "output_type": "stream",
       "stream": "stdout",
       "text": [
        "\n",
        "  1555  |  \u001b[94m  0.005815\u001b[0m  |    0.005974  |     0.973446  |             |  9.4s"
       ]
      },
      {
       "output_type": "stream",
       "stream": "stdout",
       "text": [
        "\n",
        "  1556  |    0.005843  |    0.006016  |     0.971132  |             |  9.4s"
       ]
      },
      {
       "output_type": "stream",
       "stream": "stdout",
       "text": [
        "\n",
        "  1557  |    0.005875  |  \u001b[32m  0.005932\u001b[0m  |     0.990370  |             |  9.4s"
       ]
      },
      {
       "output_type": "stream",
       "stream": "stdout",
       "text": [
        "\n",
        "  1558  |    0.005883  |    0.006010  |     0.978838  |             |  9.4s"
       ]
      },
      {
       "output_type": "stream",
       "stream": "stdout",
       "text": [
        "\n",
        "  1559  |    0.005866  |    0.005985  |     0.980058  |             |  9.4s"
       ]
      },
      {
       "output_type": "stream",
       "stream": "stdout",
       "text": [
        "\n",
        "  1560  |    0.005839  |    0.005990  |     0.974727  |             |  9.4s"
       ]
      },
      {
       "output_type": "stream",
       "stream": "stdout",
       "text": [
        "\n",
        "  1561  |    0.005839  |    0.006089  |     0.959066  |             |  9.4s"
       ]
      },
      {
       "output_type": "stream",
       "stream": "stdout",
       "text": [
        "\n",
        "  1562  |    0.005849  |  \u001b[32m  0.005916\u001b[0m  |     0.988750  |             |  9.4s"
       ]
      },
      {
       "output_type": "stream",
       "stream": "stdout",
       "text": [
        "\n",
        "  1563  |    0.005955  |    0.005946  |     1.001622  |             |  9.4s"
       ]
      },
      {
       "output_type": "stream",
       "stream": "stdout",
       "text": [
        "\n",
        "  1564  |    0.005825  |    0.006007  |     0.969833  |             |  9.4s"
       ]
      },
      {
       "output_type": "stream",
       "stream": "stdout",
       "text": [
        "\n",
        "  1565  |    0.005835  |    0.005969  |     0.977578  |             |  9.4s"
       ]
      },
      {
       "output_type": "stream",
       "stream": "stdout",
       "text": [
        "\n",
        "  1566  |  \u001b[94m  0.005760\u001b[0m  |    0.006004  |     0.959347  |             |  9.4s"
       ]
      },
      {
       "output_type": "stream",
       "stream": "stdout",
       "text": [
        "\n",
        "  1567  |    0.005829  |    0.005985  |     0.973873  |             |  9.4s"
       ]
      },
      {
       "output_type": "stream",
       "stream": "stdout",
       "text": [
        "\n",
        "  1568  |  \u001b[94m  0.005748\u001b[0m  |    0.005928  |     0.969724  |             |  9.4s"
       ]
      },
      {
       "output_type": "stream",
       "stream": "stdout",
       "text": [
        "\n",
        "  1569  |  \u001b[94m  0.005747\u001b[0m  |    0.006002  |     0.957375  |             |  9.4s"
       ]
      },
      {
       "output_type": "stream",
       "stream": "stdout",
       "text": [
        "\n",
        "  1570  |    0.005799  |    0.006052  |     0.958243  |             |  9.4s"
       ]
      },
      {
       "output_type": "stream",
       "stream": "stdout",
       "text": [
        "\n",
        "  1571  |    0.005809  |    0.006021  |     0.964808  |             |  9.4s"
       ]
      },
      {
       "output_type": "stream",
       "stream": "stdout",
       "text": [
        "\n",
        "  1572  |    0.005778  |    0.005979  |     0.966294  |             |  9.4s"
       ]
      },
      {
       "output_type": "stream",
       "stream": "stdout",
       "text": [
        "\n",
        "  1573  |    0.005770  |    0.006032  |     0.956586  |             |  9.4s"
       ]
      },
      {
       "output_type": "stream",
       "stream": "stdout",
       "text": [
        "\n",
        "  1574  |    0.005824  |    0.006030  |     0.965729  |             |  9.4s"
       ]
      },
      {
       "output_type": "stream",
       "stream": "stdout",
       "text": [
        "\n",
        "  1575  |    0.005810  |    0.005953  |     0.975986  |             |  9.4s"
       ]
      },
      {
       "output_type": "stream",
       "stream": "stdout",
       "text": [
        "\n",
        "  1576  |    0.005805  |    0.006005  |     0.966749  |             |  9.4s"
       ]
      },
      {
       "output_type": "stream",
       "stream": "stdout",
       "text": [
        "\n",
        "  1577  |    0.005774  |    0.006070  |     0.951116  |             |  9.4s"
       ]
      },
      {
       "output_type": "stream",
       "stream": "stdout",
       "text": [
        "\n",
        "  1578  |    0.005762  |    0.005973  |     0.964582  |             |  9.4s"
       ]
      },
      {
       "output_type": "stream",
       "stream": "stdout",
       "text": [
        "\n",
        "  1579  |  \u001b[94m  0.005732\u001b[0m  |    0.006018  |     0.952457  |             |  9.4s"
       ]
      },
      {
       "output_type": "stream",
       "stream": "stdout",
       "text": [
        "\n",
        "  1580  |    0.005766  |    0.005993  |     0.962082  |             |  9.4s"
       ]
      },
      {
       "output_type": "stream",
       "stream": "stdout",
       "text": [
        "\n",
        "  1581  |    0.005834  |    0.005963  |     0.978301  |             |  9.4s"
       ]
      },
      {
       "output_type": "stream",
       "stream": "stdout",
       "text": [
        "\n",
        "  1582  |    0.005793  |    0.005970  |     0.970248  |             |  9.4s"
       ]
      },
      {
       "output_type": "stream",
       "stream": "stdout",
       "text": [
        "\n",
        "  1583  |    0.005778  |    0.005976  |     0.966813  |             |  9.4s"
       ]
      },
      {
       "output_type": "stream",
       "stream": "stdout",
       "text": [
        "\n",
        "  1584  |    0.005799  |  \u001b[32m  0.005915\u001b[0m  |     0.980438  |             |  9.4s"
       ]
      },
      {
       "output_type": "stream",
       "stream": "stdout",
       "text": [
        "\n",
        "  1585  |  \u001b[94m  0.005710\u001b[0m  |    0.005966  |     0.957087  |             |  9.4s"
       ]
      },
      {
       "output_type": "stream",
       "stream": "stdout",
       "text": [
        "\n",
        "  1586  |    0.005760  |    0.005990  |     0.961599  |             |  9.4s"
       ]
      },
      {
       "output_type": "stream",
       "stream": "stdout",
       "text": [
        "\n",
        "  1587  |    0.005744  |    0.005955  |     0.964678  |             |  9.4s"
       ]
      },
      {
       "output_type": "stream",
       "stream": "stdout",
       "text": [
        "\n",
        "  1588  |    0.005800  |    0.006027  |     0.962444  |             |  9.4s"
       ]
      },
      {
       "output_type": "stream",
       "stream": "stdout",
       "text": [
        "\n",
        "  1589  |    0.005729  |    0.006014  |     0.952696  |             |  9.4s"
       ]
      },
      {
       "output_type": "stream",
       "stream": "stdout",
       "text": [
        "\n",
        "  1590  |    0.005773  |    0.005926  |     0.974315  |             |  9.4s"
       ]
      },
      {
       "output_type": "stream",
       "stream": "stdout",
       "text": [
        "\n",
        "  1591  |    0.005770  |    0.005942  |     0.971038  |             |  9.4s"
       ]
      },
      {
       "output_type": "stream",
       "stream": "stdout",
       "text": [
        "\n",
        "  1592  |  \u001b[94m  0.005702\u001b[0m  |    0.005954  |     0.957762  |             |  9.4s"
       ]
      },
      {
       "output_type": "stream",
       "stream": "stdout",
       "text": [
        "\n",
        "  1593  |  \u001b[94m  0.005685\u001b[0m  |    0.005956  |     0.954478  |             |  9.4s"
       ]
      },
      {
       "output_type": "stream",
       "stream": "stdout",
       "text": [
        "\n",
        "  1594  |    0.005685  |    0.005989  |     0.949222  |             |  9.4s"
       ]
      },
      {
       "output_type": "stream",
       "stream": "stdout",
       "text": [
        "\n",
        "  1595  |    0.005723  |  \u001b[32m  0.005911\u001b[0m  |     0.968095  |             |  9.4s"
       ]
      },
      {
       "output_type": "stream",
       "stream": "stdout",
       "text": [
        "\n",
        "  1596  |    0.005740  |    0.005937  |     0.966698  |             |  9.4s"
       ]
      },
      {
       "output_type": "stream",
       "stream": "stdout",
       "text": [
        "\n",
        "  1597  |  \u001b[94m  0.005659\u001b[0m  |  \u001b[32m  0.005878\u001b[0m  |     0.962798  |             |  9.4s"
       ]
      },
      {
       "output_type": "stream",
       "stream": "stdout",
       "text": [
        "\n",
        "  1598  |    0.005712  |    0.005946  |     0.960719  |             |  9.4s"
       ]
      },
      {
       "output_type": "stream",
       "stream": "stdout",
       "text": [
        "\n",
        "  1599  |  \u001b[94m  0.005627\u001b[0m  |    0.005932  |     0.948552  |             |  9.4s"
       ]
      },
      {
       "output_type": "stream",
       "stream": "stdout",
       "text": [
        "\n",
        "  1600  |    0.005743  |    0.005884  |     0.976062  |             |  9.4s"
       ]
      },
      {
       "output_type": "stream",
       "stream": "stdout",
       "text": [
        "\n",
        "  1601  |    0.005724  |    0.005895  |     0.971009  |             |  9.4s"
       ]
      },
      {
       "output_type": "stream",
       "stream": "stdout",
       "text": [
        "\n",
        "  1602  |    0.005696  |    0.005976  |     0.953062  |             |  9.4s"
       ]
      },
      {
       "output_type": "stream",
       "stream": "stdout",
       "text": [
        "\n",
        "  1603  |    0.005652  |    0.005889  |     0.959621  |             |  9.4s"
       ]
      },
      {
       "output_type": "stream",
       "stream": "stdout",
       "text": [
        "\n",
        "  1604  |    0.005663  |    0.005950  |     0.951844  |             |  9.4s"
       ]
      },
      {
       "output_type": "stream",
       "stream": "stdout",
       "text": [
        "\n",
        "  1605  |    0.005662  |    0.005930  |     0.954770  |             |  9.4s"
       ]
      },
      {
       "output_type": "stream",
       "stream": "stdout",
       "text": [
        "\n",
        "  1606  |    0.005701  |    0.005887  |     0.968388  |             |  9.4s"
       ]
      },
      {
       "output_type": "stream",
       "stream": "stdout",
       "text": [
        "\n",
        "  1607  |    0.005726  |    0.005894  |     0.971452  |             |  9.4s"
       ]
      },
      {
       "output_type": "stream",
       "stream": "stdout",
       "text": [
        "\n",
        "  1608  |    0.005712  |    0.005894  |     0.969147  |             |  9.4s"
       ]
      },
      {
       "output_type": "stream",
       "stream": "stdout",
       "text": [
        "\n",
        "  1609  |    0.005724  |    0.005917  |     0.967442  |             |  9.4s"
       ]
      },
      {
       "output_type": "stream",
       "stream": "stdout",
       "text": [
        "\n",
        "  1610  |    0.005646  |    0.005929  |     0.952206  |             |  9.4s"
       ]
      },
      {
       "output_type": "stream",
       "stream": "stdout",
       "text": [
        "\n",
        "  1611  |    0.005658  |    0.005885  |     0.961483  |             |  9.4s"
       ]
      },
      {
       "output_type": "stream",
       "stream": "stdout",
       "text": [
        "\n",
        "  1612  |    0.005710  |    0.005896  |     0.968388  |             |  9.4s"
       ]
      },
      {
       "output_type": "stream",
       "stream": "stdout",
       "text": [
        "\n",
        "  1613  |    0.005668  |    0.005906  |     0.959713  |             |  9.4s"
       ]
      },
      {
       "output_type": "stream",
       "stream": "stdout",
       "text": [
        "\n",
        "  1614  |    0.005673  |    0.005960  |     0.951766  |             |  9.4s"
       ]
      },
      {
       "output_type": "stream",
       "stream": "stdout",
       "text": [
        "\n",
        "  1615  |    0.005657  |    0.005887  |     0.960776  |             |  9.4s"
       ]
      },
      {
       "output_type": "stream",
       "stream": "stdout",
       "text": [
        "\n",
        "  1616  |    0.005669  |    0.005960  |     0.951078  |             |  9.4s"
       ]
      },
      {
       "output_type": "stream",
       "stream": "stdout",
       "text": [
        "\n",
        "  1617  |    0.005653  |  \u001b[32m  0.005861\u001b[0m  |     0.964669  |             |  9.4s"
       ]
      },
      {
       "output_type": "stream",
       "stream": "stdout",
       "text": [
        "\n",
        "  1618  |    0.005632  |    0.005940  |     0.948181  |             |  9.4s"
       ]
      },
      {
       "output_type": "stream",
       "stream": "stdout",
       "text": [
        "\n",
        "  1619  |    0.005695  |    0.005935  |     0.959500  |             |  9.4s"
       ]
      },
      {
       "output_type": "stream",
       "stream": "stdout",
       "text": [
        "\n",
        "  1620  |    0.005660  |    0.005938  |     0.953180  |             |  9.4s"
       ]
      },
      {
       "output_type": "stream",
       "stream": "stdout",
       "text": [
        "\n",
        "  1621  |    0.005690  |    0.005922  |     0.960822  |             |  9.4s"
       ]
      },
      {
       "output_type": "stream",
       "stream": "stdout",
       "text": [
        "\n",
        "  1622  |    0.005653  |    0.005966  |     0.947670  |             |  9.4s"
       ]
      },
      {
       "output_type": "stream",
       "stream": "stdout",
       "text": [
        "\n",
        "  1623  |    0.005665  |    0.005918  |     0.957405  |             |  9.4s"
       ]
      },
      {
       "output_type": "stream",
       "stream": "stdout",
       "text": [
        "\n",
        "  1624  |  \u001b[94m  0.005616\u001b[0m  |    0.005960  |     0.942315  |             |  9.4s"
       ]
      },
      {
       "output_type": "stream",
       "stream": "stdout",
       "text": [
        "\n",
        "  1625  |    0.005673  |    0.005863  |     0.967551  |             |  9.4s"
       ]
      },
      {
       "output_type": "stream",
       "stream": "stdout",
       "text": [
        "\n",
        "  1626  |    0.005627  |    0.005926  |     0.949393  |             |  9.4s"
       ]
      },
      {
       "output_type": "stream",
       "stream": "stdout",
       "text": [
        "\n",
        "  1627  |  \u001b[94m  0.005604\u001b[0m  |  \u001b[32m  0.005858\u001b[0m  |     0.956580  |             |  9.4s"
       ]
      },
      {
       "output_type": "stream",
       "stream": "stdout",
       "text": [
        "\n",
        "  1628  |    0.005662  |  \u001b[32m  0.005847\u001b[0m  |     0.968380  |             |  9.4s"
       ]
      },
      {
       "output_type": "stream",
       "stream": "stdout",
       "text": [
        "\n",
        "  1629  |    0.005634  |    0.005914  |     0.952631  |             |  9.4s"
       ]
      },
      {
       "output_type": "stream",
       "stream": "stdout",
       "text": [
        "\n",
        "  1630  |    0.005622  |    0.005903  |     0.952369  |             |  9.4s"
       ]
      },
      {
       "output_type": "stream",
       "stream": "stdout",
       "text": [
        "\n",
        "  1631  |    0.005679  |    0.005899  |     0.962684  |             |  9.4s"
       ]
      },
      {
       "output_type": "stream",
       "stream": "stdout",
       "text": [
        "\n",
        "  1632  |    0.005644  |    0.005904  |     0.955973  |             |  9.4s"
       ]
      },
      {
       "output_type": "stream",
       "stream": "stdout",
       "text": [
        "\n",
        "  1633  |    0.005610  |    0.005868  |     0.956067  |             |  9.4s"
       ]
      },
      {
       "output_type": "stream",
       "stream": "stdout",
       "text": [
        "\n",
        "  1634  |    0.005610  |    0.005983  |     0.937710  |             |  9.4s"
       ]
      },
      {
       "output_type": "stream",
       "stream": "stdout",
       "text": [
        "\n",
        "  1635  |  \u001b[94m  0.005564\u001b[0m  |    0.005972  |     0.931732  |             |  9.4s"
       ]
      },
      {
       "output_type": "stream",
       "stream": "stdout",
       "text": [
        "\n",
        "  1636  |    0.005673  |    0.005946  |     0.953977  |             |  9.4s"
       ]
      },
      {
       "output_type": "stream",
       "stream": "stdout",
       "text": [
        "\n",
        "  1637  |    0.005601  |    0.005870  |     0.954081  |             |  9.4s"
       ]
      },
      {
       "output_type": "stream",
       "stream": "stdout",
       "text": [
        "\n",
        "  1638  |    0.005593  |    0.005868  |     0.953241  |             |  9.4s"
       ]
      },
      {
       "output_type": "stream",
       "stream": "stdout",
       "text": [
        "\n",
        "  1639  |    0.005593  |    0.005890  |     0.949650  |             |  9.4s"
       ]
      },
      {
       "output_type": "stream",
       "stream": "stdout",
       "text": [
        "\n",
        "  1640  |    0.005611  |    0.005922  |     0.947475  |             |  9.4s"
       ]
      },
      {
       "output_type": "stream",
       "stream": "stdout",
       "text": [
        "\n",
        "  1641  |    0.005610  |    0.005944  |     0.943830  |             |  9.4s"
       ]
      },
      {
       "output_type": "stream",
       "stream": "stdout",
       "text": [
        "\n",
        "  1642  |    0.005592  |    0.005861  |     0.954233  |             |  9.4s"
       ]
      },
      {
       "output_type": "stream",
       "stream": "stdout",
       "text": [
        "\n",
        "  1643  |    0.005579  |    0.005902  |     0.945222  |             |  9.4s"
       ]
      },
      {
       "output_type": "stream",
       "stream": "stdout",
       "text": [
        "\n",
        "  1644  |    0.005565  |    0.005899  |     0.943276  |             |  9.4s"
       ]
      },
      {
       "output_type": "stream",
       "stream": "stdout",
       "text": [
        "\n",
        "  1645  |    0.005591  |  \u001b[32m  0.005835\u001b[0m  |     0.958235  |             |  9.4s"
       ]
      },
      {
       "output_type": "stream",
       "stream": "stdout",
       "text": [
        "\n",
        "  1646  |  \u001b[94m  0.005563\u001b[0m  |    0.005934  |     0.937567  |             |  9.4s"
       ]
      },
      {
       "output_type": "stream",
       "stream": "stdout",
       "text": [
        "\n",
        "  1647  |  \u001b[94m  0.005549\u001b[0m  |    0.005890  |     0.942083  |             |  9.4s"
       ]
      },
      {
       "output_type": "stream",
       "stream": "stdout",
       "text": [
        "\n",
        "  1648  |  \u001b[94m  0.005523\u001b[0m  |    0.005864  |     0.941843  |             |  9.4s"
       ]
      },
      {
       "output_type": "stream",
       "stream": "stdout",
       "text": [
        "\n",
        "  1649  |    0.005555  |    0.005842  |     0.950873  |             |  9.4s"
       ]
      },
      {
       "output_type": "stream",
       "stream": "stdout",
       "text": [
        "\n",
        "  1650  |    0.005553  |    0.005885  |     0.943565  |             |  9.4s"
       ]
      },
      {
       "output_type": "stream",
       "stream": "stdout",
       "text": [
        "\n",
        "  1651  |    0.005560  |    0.005872  |     0.946781  |             |  9.4s"
       ]
      },
      {
       "output_type": "stream",
       "stream": "stdout",
       "text": [
        "\n",
        "  1652  |    0.005581  |    0.005922  |     0.942332  |             |  9.4s"
       ]
      },
      {
       "output_type": "stream",
       "stream": "stdout",
       "text": [
        "\n",
        "  1653  |    0.005539  |    0.005861  |     0.945061  |             |  9.4s"
       ]
      },
      {
       "output_type": "stream",
       "stream": "stdout",
       "text": [
        "\n",
        "  1654  |    0.005554  |    0.005933  |     0.936157  |             |  9.4s"
       ]
      },
      {
       "output_type": "stream",
       "stream": "stdout",
       "text": [
        "\n",
        "  1655  |    0.005573  |    0.005905  |     0.943860  |             |  9.4s"
       ]
      },
      {
       "output_type": "stream",
       "stream": "stdout",
       "text": [
        "\n",
        "  1656  |    0.005569  |    0.005891  |     0.945241  |             |  9.4s"
       ]
      },
      {
       "output_type": "stream",
       "stream": "stdout",
       "text": [
        "\n",
        "  1657  |    0.005526  |  \u001b[32m  0.005822\u001b[0m  |     0.949158  |             |  9.4s"
       ]
      },
      {
       "output_type": "stream",
       "stream": "stdout",
       "text": [
        "\n",
        "  1658  |  \u001b[94m  0.005495\u001b[0m  |    0.005829  |     0.942587  |             |  9.4s"
       ]
      },
      {
       "output_type": "stream",
       "stream": "stdout",
       "text": [
        "\n",
        "  1659  |    0.005519  |    0.005890  |     0.937039  |             |  9.4s"
       ]
      },
      {
       "output_type": "stream",
       "stream": "stdout",
       "text": [
        "\n",
        "  1660  |    0.005542  |    0.005886  |     0.941531  |             |  9.4s"
       ]
      },
      {
       "output_type": "stream",
       "stream": "stdout",
       "text": [
        "\n",
        "  1661  |    0.005545  |    0.005853  |     0.947413  |             |  9.4s"
       ]
      },
      {
       "output_type": "stream",
       "stream": "stdout",
       "text": [
        "\n",
        "  1662  |    0.005527  |    0.005890  |     0.938400  |             |  9.4s"
       ]
      },
      {
       "output_type": "stream",
       "stream": "stdout",
       "text": [
        "\n",
        "  1663  |  \u001b[94m  0.005482\u001b[0m  |    0.005850  |     0.936991  |             |  9.4s"
       ]
      },
      {
       "output_type": "stream",
       "stream": "stdout",
       "text": [
        "\n",
        "  1664  |    0.005549  |    0.005857  |     0.947378  |             |  9.4s"
       ]
      },
      {
       "output_type": "stream",
       "stream": "stdout",
       "text": [
        "\n",
        "  1665  |  \u001b[94m  0.005478\u001b[0m  |    0.005859  |     0.935018  |             |  9.4s"
       ]
      },
      {
       "output_type": "stream",
       "stream": "stdout",
       "text": [
        "\n",
        "  1666  |    0.005480  |    0.005884  |     0.931343  |             |  9.4s"
       ]
      },
      {
       "output_type": "stream",
       "stream": "stdout",
       "text": [
        "\n",
        "  1667  |    0.005546  |  \u001b[32m  0.005819\u001b[0m  |     0.953083  |             |  9.4s"
       ]
      },
      {
       "output_type": "stream",
       "stream": "stdout",
       "text": [
        "\n",
        "  1668  |  \u001b[94m  0.005476\u001b[0m  |    0.005824  |     0.940331  |             |  9.4s"
       ]
      },
      {
       "output_type": "stream",
       "stream": "stdout",
       "text": [
        "\n",
        "  1669  |    0.005525  |    0.005847  |     0.944818  |             |  9.4s"
       ]
      },
      {
       "output_type": "stream",
       "stream": "stdout",
       "text": [
        "\n",
        "  1670  |    0.005548  |    0.005835  |     0.950765  |             |  9.4s"
       ]
      },
      {
       "output_type": "stream",
       "stream": "stdout",
       "text": [
        "\n",
        "  1671  |    0.005545  |  \u001b[32m  0.005777\u001b[0m  |     0.959746  |             |  9.4s"
       ]
      },
      {
       "output_type": "stream",
       "stream": "stdout",
       "text": [
        "\n",
        "  1672  |    0.005505  |    0.005910  |     0.931594  |             |  9.4s"
       ]
      },
      {
       "output_type": "stream",
       "stream": "stdout",
       "text": [
        "\n",
        "  1673  |    0.005528  |    0.005796  |     0.953704  |             |  9.4s"
       ]
      },
      {
       "output_type": "stream",
       "stream": "stdout",
       "text": [
        "\n",
        "  1674  |    0.005490  |    0.005936  |     0.924903  |             |  9.4s"
       ]
      },
      {
       "output_type": "stream",
       "stream": "stdout",
       "text": [
        "\n",
        "  1675  |    0.005523  |    0.005963  |     0.926139  |             |  9.4s"
       ]
      },
      {
       "output_type": "stream",
       "stream": "stdout",
       "text": [
        "\n",
        "  1676  |  \u001b[94m  0.005444\u001b[0m  |    0.005879  |     0.926047  |             |  9.4s"
       ]
      },
      {
       "output_type": "stream",
       "stream": "stdout",
       "text": [
        "\n",
        "  1677  |    0.005463  |    0.005842  |     0.935085  |             |  9.4s"
       ]
      },
      {
       "output_type": "stream",
       "stream": "stdout",
       "text": [
        "\n",
        "  1678  |    0.005533  |    0.005852  |     0.945552  |             |  9.4s"
       ]
      },
      {
       "output_type": "stream",
       "stream": "stdout",
       "text": [
        "\n",
        "  1679  |    0.005508  |    0.005904  |     0.932993  |             |  9.4s"
       ]
      },
      {
       "output_type": "stream",
       "stream": "stdout",
       "text": [
        "\n",
        "  1680  |    0.005457  |    0.005799  |     0.940981  |             |  9.4s"
       ]
      },
      {
       "output_type": "stream",
       "stream": "stdout",
       "text": [
        "\n",
        "  1681  |    0.005524  |    0.005844  |     0.945327  |             |  9.4s"
       ]
      },
      {
       "output_type": "stream",
       "stream": "stdout",
       "text": [
        "\n",
        "  1682  |    0.005524  |    0.005897  |     0.936754  |             |  9.4s"
       ]
      },
      {
       "output_type": "stream",
       "stream": "stdout",
       "text": [
        "\n",
        "  1683  |    0.005454  |    0.005854  |     0.931602  |             |  9.4s"
       ]
      },
      {
       "output_type": "stream",
       "stream": "stdout",
       "text": [
        "\n",
        "  1684  |    0.005456  |    0.005804  |     0.940119  |             |  9.4s"
       ]
      },
      {
       "output_type": "stream",
       "stream": "stdout",
       "text": [
        "\n",
        "  1685  |    0.005499  |    0.005830  |     0.943231  |             |  9.4s"
       ]
      },
      {
       "output_type": "stream",
       "stream": "stdout",
       "text": [
        "\n",
        "  1686  |    0.005449  |    0.005808  |     0.938256  |             |  9.4s"
       ]
      },
      {
       "output_type": "stream",
       "stream": "stdout",
       "text": [
        "\n",
        "  1687  |    0.005517  |    0.005835  |     0.945522  |             |  9.4s"
       ]
      },
      {
       "output_type": "stream",
       "stream": "stdout",
       "text": [
        "\n",
        "  1688  |  \u001b[94m  0.005438\u001b[0m  |    0.005891  |     0.923181  |             |  9.4s"
       ]
      },
      {
       "output_type": "stream",
       "stream": "stdout",
       "text": [
        "\n",
        "  1689  |    0.005468  |    0.005837  |     0.936792  |             |  9.4s"
       ]
      },
      {
       "output_type": "stream",
       "stream": "stdout",
       "text": [
        "\n",
        "  1690  |    0.005516  |    0.005808  |     0.949662  |             |  9.4s"
       ]
      },
      {
       "output_type": "stream",
       "stream": "stdout",
       "text": [
        "\n",
        "  1691  |    0.005489  |    0.005842  |     0.939515  |             |  9.4s"
       ]
      },
      {
       "output_type": "stream",
       "stream": "stdout",
       "text": [
        "\n",
        "  1692  |    0.005439  |    0.005836  |     0.932061  |             |  9.4s"
       ]
      },
      {
       "output_type": "stream",
       "stream": "stdout",
       "text": [
        "\n",
        "  1693  |    0.005464  |    0.005860  |     0.932481  |             |  9.4s"
       ]
      },
      {
       "output_type": "stream",
       "stream": "stdout",
       "text": [
        "\n",
        "  1694  |    0.005491  |    0.005851  |     0.938620  |             |  9.4s"
       ]
      },
      {
       "output_type": "stream",
       "stream": "stdout",
       "text": [
        "\n",
        "  1695  |  \u001b[94m  0.005434\u001b[0m  |  \u001b[32m  0.005763\u001b[0m  |     0.942954  |             |  9.4s"
       ]
      },
      {
       "output_type": "stream",
       "stream": "stdout",
       "text": [
        "\n",
        "  1696  |    0.005435  |    0.005848  |     0.929306  |             |  9.4s"
       ]
      },
      {
       "output_type": "stream",
       "stream": "stdout",
       "text": [
        "\n",
        "  1697  |    0.005462  |    0.005816  |     0.939204  |             |  9.4s"
       ]
      },
      {
       "output_type": "stream",
       "stream": "stdout",
       "text": [
        "\n",
        "  1698  |    0.005506  |    0.005863  |     0.939071  |             |  9.4s"
       ]
      },
      {
       "output_type": "stream",
       "stream": "stdout",
       "text": [
        "\n",
        "  1699  |  \u001b[94m  0.005343\u001b[0m  |    0.005831  |     0.916277  |             |  9.4s"
       ]
      },
      {
       "output_type": "stream",
       "stream": "stdout",
       "text": [
        "\n",
        "  1700  |    0.005449  |    0.005854  |     0.930896  |             |  9.4s"
       ]
      },
      {
       "output_type": "stream",
       "stream": "stdout",
       "text": [
        "\n",
        "  1701  |    0.005499  |    0.005805  |     0.947277  |             |  9.4s"
       ]
      },
      {
       "output_type": "stream",
       "stream": "stdout",
       "text": [
        "\n",
        "  1702  |    0.005423  |    0.005821  |     0.931650  |             |  9.4s"
       ]
      },
      {
       "output_type": "stream",
       "stream": "stdout",
       "text": [
        "\n",
        "  1703  |    0.005465  |    0.005789  |     0.943980  |             |  9.4s"
       ]
      },
      {
       "output_type": "stream",
       "stream": "stdout",
       "text": [
        "\n",
        "  1704  |    0.005432  |    0.005812  |     0.934516  |             |  9.4s"
       ]
      },
      {
       "output_type": "stream",
       "stream": "stdout",
       "text": [
        "\n",
        "  1705  |    0.005365  |    0.005893  |     0.910434  |             |  9.4s"
       ]
      },
      {
       "output_type": "stream",
       "stream": "stdout",
       "text": [
        "\n",
        "  1706  |    0.005374  |    0.005833  |     0.921267  |             |  9.4s"
       ]
      },
      {
       "output_type": "stream",
       "stream": "stdout",
       "text": [
        "\n",
        "  1707  |    0.005365  |    0.005900  |     0.909361  |             |  9.4s"
       ]
      },
      {
       "output_type": "stream",
       "stream": "stdout",
       "text": [
        "\n",
        "  1708  |    0.005411  |    0.005809  |     0.931415  |             |  9.4s"
       ]
      },
      {
       "output_type": "stream",
       "stream": "stdout",
       "text": [
        "\n",
        "  1709  |  \u001b[94m  0.005326\u001b[0m  |    0.005823  |     0.914575  |             |  9.4s"
       ]
      },
      {
       "output_type": "stream",
       "stream": "stdout",
       "text": [
        "\n",
        "  1710  |    0.005477  |  \u001b[32m  0.005745\u001b[0m  |     0.953221  |             |  9.4s"
       ]
      },
      {
       "output_type": "stream",
       "stream": "stdout",
       "text": [
        "\n",
        "  1711  |    0.005415  |    0.005825  |     0.929600  |             |  9.4s"
       ]
      },
      {
       "output_type": "stream",
       "stream": "stdout",
       "text": [
        "\n",
        "  1712  |    0.005394  |    0.005891  |     0.915718  |             |  9.4s"
       ]
      },
      {
       "output_type": "stream",
       "stream": "stdout",
       "text": [
        "\n",
        "  1713  |    0.005405  |    0.005861  |     0.922174  |             |  9.4s"
       ]
      },
      {
       "output_type": "stream",
       "stream": "stdout",
       "text": [
        "\n",
        "  1714  |    0.005365  |    0.005843  |     0.918176  |             |  9.4s"
       ]
      },
      {
       "output_type": "stream",
       "stream": "stdout",
       "text": [
        "\n",
        "  1715  |    0.005441  |    0.005773  |     0.942373  |             |  9.4s"
       ]
      },
      {
       "output_type": "stream",
       "stream": "stdout",
       "text": [
        "\n",
        "  1716  |    0.005371  |    0.005763  |     0.932053  |             |  9.4s"
       ]
      },
      {
       "output_type": "stream",
       "stream": "stdout",
       "text": [
        "\n",
        "  1717  |    0.005360  |    0.005832  |     0.919115  |             |  9.4s"
       ]
      },
      {
       "output_type": "stream",
       "stream": "stdout",
       "text": [
        "\n",
        "  1718  |    0.005363  |    0.005824  |     0.920935  |             |  9.4s"
       ]
      },
      {
       "output_type": "stream",
       "stream": "stdout",
       "text": [
        "\n",
        "  1719  |    0.005378  |    0.005811  |     0.925520  |             |  9.4s"
       ]
      },
      {
       "output_type": "stream",
       "stream": "stdout",
       "text": [
        "\n",
        "  1720  |    0.005379  |    0.005816  |     0.924841  |             |  9.4s"
       ]
      },
      {
       "output_type": "stream",
       "stream": "stdout",
       "text": [
        "\n",
        "  1721  |    0.005350  |    0.005829  |     0.917857  |             |  9.4s"
       ]
      },
      {
       "output_type": "stream",
       "stream": "stdout",
       "text": [
        "\n",
        "  1722  |    0.005388  |    0.005802  |     0.928617  |             |  9.4s"
       ]
      },
      {
       "output_type": "stream",
       "stream": "stdout",
       "text": [
        "\n",
        "  1723  |    0.005337  |    0.005879  |     0.907766  |             |  9.4s"
       ]
      },
      {
       "output_type": "stream",
       "stream": "stdout",
       "text": [
        "\n",
        "  1724  |    0.005366  |  \u001b[32m  0.005740\u001b[0m  |     0.934846  |             |  9.4s"
       ]
      },
      {
       "output_type": "stream",
       "stream": "stdout",
       "text": [
        "\n",
        "  1725  |    0.005349  |    0.005775  |     0.926249  |             |  9.4s"
       ]
      },
      {
       "output_type": "stream",
       "stream": "stdout",
       "text": [
        "\n",
        "  1726  |    0.005379  |    0.005839  |     0.921225  |             |  9.4s"
       ]
      },
      {
       "output_type": "stream",
       "stream": "stdout",
       "text": [
        "\n",
        "  1727  |    0.005401  |    0.005782  |     0.933994  |             |  9.4s"
       ]
      },
      {
       "output_type": "stream",
       "stream": "stdout",
       "text": [
        "\n",
        "  1728  |    0.005379  |    0.005790  |     0.929046  |             |  9.4s"
       ]
      },
      {
       "output_type": "stream",
       "stream": "stdout",
       "text": [
        "\n",
        "  1729  |    0.005396  |    0.005742  |     0.939738  |             |  9.4s"
       ]
      },
      {
       "output_type": "stream",
       "stream": "stdout",
       "text": [
        "\n",
        "  1730  |    0.005337  |    0.005790  |     0.921840  |             |  9.4s"
       ]
      },
      {
       "output_type": "stream",
       "stream": "stdout",
       "text": [
        "\n",
        "  1731  |  \u001b[94m  0.005270\u001b[0m  |    0.005805  |     0.907857  |             |  9.4s"
       ]
      },
      {
       "output_type": "stream",
       "stream": "stdout",
       "text": [
        "\n",
        "  1732  |    0.005345  |  \u001b[32m  0.005740\u001b[0m  |     0.931086  |             |  9.4s"
       ]
      },
      {
       "output_type": "stream",
       "stream": "stdout",
       "text": [
        "\n",
        "  1733  |    0.005299  |    0.005795  |     0.914531  |             |  9.4s"
       ]
      },
      {
       "output_type": "stream",
       "stream": "stdout",
       "text": [
        "\n",
        "  1734  |    0.005348  |    0.005775  |     0.926131  |             |  9.4s"
       ]
      },
      {
       "output_type": "stream",
       "stream": "stdout",
       "text": [
        "\n",
        "  1735  |    0.005325  |    0.005789  |     0.919816  |             |  9.4s"
       ]
      },
      {
       "output_type": "stream",
       "stream": "stdout",
       "text": [
        "\n",
        "  1736  |    0.005337  |    0.005844  |     0.913286  |             |  9.4s"
       ]
      },
      {
       "output_type": "stream",
       "stream": "stdout",
       "text": [
        "\n",
        "  1737  |    0.005353  |    0.005767  |     0.928234  |             |  9.4s"
       ]
      },
      {
       "output_type": "stream",
       "stream": "stdout",
       "text": [
        "\n",
        "  1738  |    0.005278  |    0.005805  |     0.909253  |             |  9.4s"
       ]
      },
      {
       "output_type": "stream",
       "stream": "stdout",
       "text": [
        "\n",
        "  1739  |    0.005412  |    0.005813  |     0.931004  |             |  9.4s"
       ]
      },
      {
       "output_type": "stream",
       "stream": "stdout",
       "text": [
        "\n",
        "  1740  |    0.005334  |    0.005831  |     0.914631  |             |  9.4s"
       ]
      },
      {
       "output_type": "stream",
       "stream": "stdout",
       "text": [
        "\n",
        "  1741  |    0.005362  |    0.005792  |     0.925728  |             |  9.4s"
       ]
      },
      {
       "output_type": "stream",
       "stream": "stdout",
       "text": [
        "\n",
        "  1742  |    0.005314  |    0.005791  |     0.917711  |             |  9.4s"
       ]
      },
      {
       "output_type": "stream",
       "stream": "stdout",
       "text": [
        "\n",
        "  1743  |  \u001b[94m  0.005263\u001b[0m  |    0.005754  |     0.914749  |             |  9.4s"
       ]
      },
      {
       "output_type": "stream",
       "stream": "stdout",
       "text": [
        "\n",
        "  1744  |    0.005270  |    0.005767  |     0.913783  |             |  9.4s"
       ]
      },
      {
       "output_type": "stream",
       "stream": "stdout",
       "text": [
        "\n",
        "  1745  |    0.005374  |    0.005753  |     0.934074  |             |  9.4s"
       ]
      },
      {
       "output_type": "stream",
       "stream": "stdout",
       "text": [
        "\n",
        "  1746  |    0.005311  |    0.005856  |     0.906983  |             |  9.4s"
       ]
      },
      {
       "output_type": "stream",
       "stream": "stdout",
       "text": [
        "\n",
        "  1747  |    0.005299  |    0.005792  |     0.914934  |             |  9.4s"
       ]
      },
      {
       "output_type": "stream",
       "stream": "stdout",
       "text": [
        "\n",
        "  1748  |  \u001b[94m  0.005200\u001b[0m  |    0.005902  |     0.881152  |             |  9.4s"
       ]
      },
      {
       "output_type": "stream",
       "stream": "stdout",
       "text": [
        "\n",
        "  1749  |    0.005288  |    0.005854  |     0.903406  |             |  9.4s"
       ]
      },
      {
       "output_type": "stream",
       "stream": "stdout",
       "text": [
        "\n",
        "  1750  |    0.005351  |  \u001b[32m  0.005723\u001b[0m  |     0.934908  |             |  9.4s"
       ]
      },
      {
       "output_type": "stream",
       "stream": "stdout",
       "text": [
        "\n",
        "  1751  |    0.005338  |    0.005783  |     0.922985  |             |  9.4s"
       ]
      },
      {
       "output_type": "stream",
       "stream": "stdout",
       "text": [
        "\n",
        "  1752  |    0.005334  |    0.005775  |     0.923712  |             |  9.4s"
       ]
      },
      {
       "output_type": "stream",
       "stream": "stdout",
       "text": [
        "\n",
        "  1753  |    0.005233  |    0.005739  |     0.911903  |             |  9.4s"
       ]
      },
      {
       "output_type": "stream",
       "stream": "stdout",
       "text": [
        "\n",
        "  1754  |    0.005251  |    0.005760  |     0.911631  |             |  9.4s"
       ]
      },
      {
       "output_type": "stream",
       "stream": "stdout",
       "text": [
        "\n",
        "  1755  |    0.005266  |    0.005778  |     0.911392  |             |  9.4s"
       ]
      },
      {
       "output_type": "stream",
       "stream": "stdout",
       "text": [
        "\n",
        "  1756  |    0.005241  |    0.005737  |     0.913411  |             |  9.4s"
       ]
      },
      {
       "output_type": "stream",
       "stream": "stdout",
       "text": [
        "\n",
        "  1757  |    0.005273  |    0.005797  |     0.909538  |             |  9.4s"
       ]
      },
      {
       "output_type": "stream",
       "stream": "stdout",
       "text": [
        "\n",
        "  1758  |    0.005256  |    0.005757  |     0.912904  |             |  9.4s"
       ]
      },
      {
       "output_type": "stream",
       "stream": "stdout",
       "text": [
        "\n",
        "  1759  |    0.005261  |    0.005807  |     0.905937  |             |  9.4s"
       ]
      },
      {
       "output_type": "stream",
       "stream": "stdout",
       "text": [
        "\n",
        "  1760  |    0.005274  |    0.005864  |     0.899382  |             |  9.4s"
       ]
      },
      {
       "output_type": "stream",
       "stream": "stdout",
       "text": [
        "\n",
        "  1761  |    0.005248  |    0.005826  |     0.900784  |             |  9.4s"
       ]
      },
      {
       "output_type": "stream",
       "stream": "stdout",
       "text": [
        "\n",
        "  1762  |  \u001b[94m  0.005160\u001b[0m  |    0.005750  |     0.897499  |             |  9.4s"
       ]
      },
      {
       "output_type": "stream",
       "stream": "stdout",
       "text": [
        "\n",
        "  1763  |    0.005286  |    0.005815  |     0.908905  |             |  9.4s"
       ]
      },
      {
       "output_type": "stream",
       "stream": "stdout",
       "text": [
        "\n",
        "  1764  |    0.005282  |    0.005748  |     0.918963  |             |  9.4s"
       ]
      },
      {
       "output_type": "stream",
       "stream": "stdout",
       "text": [
        "\n",
        "  1765  |    0.005276  |    0.005726  |     0.921357  |             |  9.4s"
       ]
      },
      {
       "output_type": "stream",
       "stream": "stdout",
       "text": [
        "\n",
        "  1766  |    0.005316  |    0.005806  |     0.915583  |             |  9.4s"
       ]
      },
      {
       "output_type": "stream",
       "stream": "stdout",
       "text": [
        "\n",
        "  1767  |    0.005258  |    0.005776  |     0.910320  |             |  9.4s"
       ]
      },
      {
       "output_type": "stream",
       "stream": "stdout",
       "text": [
        "\n",
        "  1768  |    0.005209  |    0.005829  |     0.893621  |             |  9.4s"
       ]
      },
      {
       "output_type": "stream",
       "stream": "stdout",
       "text": [
        "\n",
        "  1769  |    0.005169  |    0.005800  |     0.891281  |             |  9.4s"
       ]
      },
      {
       "output_type": "stream",
       "stream": "stdout",
       "text": [
        "\n",
        "  1770  |    0.005188  |    0.005793  |     0.895496  |             |  9.4s"
       ]
      },
      {
       "output_type": "stream",
       "stream": "stdout",
       "text": [
        "\n",
        "  1771  |    0.005248  |    0.005790  |     0.906417  |             |  9.4s"
       ]
      },
      {
       "output_type": "stream",
       "stream": "stdout",
       "text": [
        "\n",
        "  1772  |    0.005239  |    0.005824  |     0.899498  |             |  9.4s"
       ]
      },
      {
       "output_type": "stream",
       "stream": "stdout",
       "text": [
        "\n",
        "  1773  |    0.005179  |    0.005782  |     0.895612  |             |  9.4s"
       ]
      },
      {
       "output_type": "stream",
       "stream": "stdout",
       "text": [
        "\n",
        "  1774  |    0.005178  |    0.005764  |     0.898232  |             |  9.4s"
       ]
      },
      {
       "output_type": "stream",
       "stream": "stdout",
       "text": [
        "\n",
        "  1775  |    0.005235  |  \u001b[32m  0.005704\u001b[0m  |     0.917796  |             |  9.4s"
       ]
      },
      {
       "output_type": "stream",
       "stream": "stdout",
       "text": [
        "\n",
        "  1776  |    0.005197  |    0.005789  |     0.897869  |             |  9.4s"
       ]
      },
      {
       "output_type": "stream",
       "stream": "stdout",
       "text": [
        "\n",
        "  1777  |    0.005170  |    0.005828  |     0.887007  |             |  9.4s"
       ]
      },
      {
       "output_type": "stream",
       "stream": "stdout",
       "text": [
        "\n",
        "  1778  |    0.005256  |    0.005788  |     0.908077  |             |  9.4s"
       ]
      },
      {
       "output_type": "stream",
       "stream": "stdout",
       "text": [
        "\n",
        "  1779  |    0.005193  |    0.005774  |     0.899417  |             |  9.4s"
       ]
      },
      {
       "output_type": "stream",
       "stream": "stdout",
       "text": [
        "\n",
        "  1780  |    0.005220  |    0.005761  |     0.905985  |             |  9.4s"
       ]
      },
      {
       "output_type": "stream",
       "stream": "stdout",
       "text": [
        "\n",
        "  1781  |    0.005205  |    0.005723  |     0.909464  |             |  9.4s"
       ]
      },
      {
       "output_type": "stream",
       "stream": "stdout",
       "text": [
        "\n",
        "  1782  |    0.005205  |    0.005748  |     0.905500  |             |  9.4s"
       ]
      },
      {
       "output_type": "stream",
       "stream": "stdout",
       "text": [
        "\n",
        "  1783  |  \u001b[94m  0.005118\u001b[0m  |    0.005816  |     0.880035  |             |  9.4s"
       ]
      },
      {
       "output_type": "stream",
       "stream": "stdout",
       "text": [
        "\n",
        "  1784  |    0.005216  |    0.005790  |     0.900851  |             |  9.4s"
       ]
      },
      {
       "output_type": "stream",
       "stream": "stdout",
       "text": [
        "\n",
        "  1785  |    0.005218  |    0.005733  |     0.910240  |             |  9.4s"
       ]
      },
      {
       "output_type": "stream",
       "stream": "stdout",
       "text": [
        "\n",
        "  1786  |    0.005191  |    0.005792  |     0.896324  |             |  9.4s"
       ]
      },
      {
       "output_type": "stream",
       "stream": "stdout",
       "text": [
        "\n",
        "  1787  |    0.005214  |    0.005813  |     0.897002  |             |  9.4s"
       ]
      },
      {
       "output_type": "stream",
       "stream": "stdout",
       "text": [
        "\n",
        "  1788  |    0.005202  |    0.005762  |     0.902814  |             |  9.4s"
       ]
      },
      {
       "output_type": "stream",
       "stream": "stdout",
       "text": [
        "\n",
        "  1789  |    0.005192  |    0.005779  |     0.898326  |             |  9.4s"
       ]
      },
      {
       "output_type": "stream",
       "stream": "stdout",
       "text": [
        "\n",
        "  1790  |    0.005124  |    0.005757  |     0.889944  |             |  9.4s"
       ]
      },
      {
       "output_type": "stream",
       "stream": "stdout",
       "text": [
        "\n",
        "  1791  |    0.005154  |  \u001b[32m  0.005699\u001b[0m  |     0.904389  |             |  9.4s"
       ]
      },
      {
       "output_type": "stream",
       "stream": "stdout",
       "text": [
        "\n",
        "  1792  |    0.005172  |    0.005797  |     0.892154  |             |  9.4s"
       ]
      },
      {
       "output_type": "stream",
       "stream": "stdout",
       "text": [
        "\n",
        "  1793  |    0.005233  |    0.005803  |     0.901734  |             |  9.4s"
       ]
      },
      {
       "output_type": "stream",
       "stream": "stdout",
       "text": [
        "\n",
        "  1794  |    0.005177  |    0.005869  |     0.882111  |             |  9.4s"
       ]
      },
      {
       "output_type": "stream",
       "stream": "stdout",
       "text": [
        "\n",
        "  1795  |    0.005217  |    0.005748  |     0.907683  |             |  9.4s"
       ]
      },
      {
       "output_type": "stream",
       "stream": "stdout",
       "text": [
        "\n",
        "  1796  |    0.005201  |    0.005813  |     0.894861  |             |  9.4s"
       ]
      },
      {
       "output_type": "stream",
       "stream": "stdout",
       "text": [
        "\n",
        "  1797  |    0.005142  |    0.005803  |     0.886035  |             |  9.4s"
       ]
      },
      {
       "output_type": "stream",
       "stream": "stdout",
       "text": [
        "\n",
        "  1798  |    0.005254  |    0.005746  |     0.914333  |             |  9.4s"
       ]
      },
      {
       "output_type": "stream",
       "stream": "stdout",
       "text": [
        "\n",
        "  1799  |    0.005190  |    0.005815  |     0.892551  |             |  9.4s"
       ]
      },
      {
       "output_type": "stream",
       "stream": "stdout",
       "text": [
        "\n",
        "  1800  |    0.005180  |    0.005786  |     0.895318  |             |  9.4s"
       ]
      },
      {
       "output_type": "stream",
       "stream": "stdout",
       "text": [
        "\n",
        "  1801  |    0.005165  |    0.005784  |     0.892955  |             |  9.4s"
       ]
      },
      {
       "output_type": "stream",
       "stream": "stdout",
       "text": [
        "\n",
        "  1802  |    0.005196  |    0.005738  |     0.905550  |             |  9.4s"
       ]
      },
      {
       "output_type": "stream",
       "stream": "stdout",
       "text": [
        "\n",
        "  1803  |    0.005125  |    0.005746  |     0.891957  |             |  9.4s"
       ]
      },
      {
       "output_type": "stream",
       "stream": "stdout",
       "text": [
        "\n",
        "  1804  |    0.005161  |    0.005775  |     0.893666  |             |  9.4s"
       ]
      },
      {
       "output_type": "stream",
       "stream": "stdout",
       "text": [
        "\n",
        "  1805  |    0.005188  |    0.005762  |     0.900321  |             |  9.4s"
       ]
      },
      {
       "output_type": "stream",
       "stream": "stdout",
       "text": [
        "\n",
        "  1806  |    0.005172  |    0.005734  |     0.901941  |             |  9.4s"
       ]
      },
      {
       "output_type": "stream",
       "stream": "stdout",
       "text": [
        "\n",
        "  1807  |    0.005132  |  \u001b[32m  0.005683\u001b[0m  |     0.903093  |             |  9.4s"
       ]
      },
      {
       "output_type": "stream",
       "stream": "stdout",
       "text": [
        "\n",
        "  1808  |    0.005126  |    0.005731  |     0.894575  |             |  9.4s"
       ]
      },
      {
       "output_type": "stream",
       "stream": "stdout",
       "text": [
        "\n",
        "  1809  |    0.005173  |    0.005702  |     0.907243  |             |  9.4s"
       ]
      },
      {
       "output_type": "stream",
       "stream": "stdout",
       "text": [
        "\n",
        "  1810  |    0.005192  |    0.005794  |     0.896066  |             |  9.4s"
       ]
      },
      {
       "output_type": "stream",
       "stream": "stdout",
       "text": [
        "\n",
        "  1811  |    0.005223  |    0.005796  |     0.901138  |             |  9.4s"
       ]
      },
      {
       "output_type": "stream",
       "stream": "stdout",
       "text": [
        "\n",
        "  1812  |    0.005121  |    0.005753  |     0.890069  |             |  9.4s"
       ]
      },
      {
       "output_type": "stream",
       "stream": "stdout",
       "text": [
        "\n",
        "  1813  |  \u001b[94m  0.005101\u001b[0m  |    0.005809  |     0.878118  |             |  9.4s"
       ]
      },
      {
       "output_type": "stream",
       "stream": "stdout",
       "text": [
        "\n",
        "  1814  |    0.005172  |    0.005700  |     0.907437  |             |  9.4s"
       ]
      },
      {
       "output_type": "stream",
       "stream": "stdout",
       "text": [
        "\n",
        "  1815  |    0.005156  |  \u001b[32m  0.005668\u001b[0m  |     0.909682  |             |  9.4s"
       ]
      },
      {
       "output_type": "stream",
       "stream": "stdout",
       "text": [
        "\n",
        "  1816  |    0.005147  |    0.005700  |     0.902903  |             |  9.4s"
       ]
      },
      {
       "output_type": "stream",
       "stream": "stdout",
       "text": [
        "\n",
        "  1817  |  \u001b[94m  0.005078\u001b[0m  |    0.005738  |     0.884967  |             |  9.4s"
       ]
      },
      {
       "output_type": "stream",
       "stream": "stdout",
       "text": [
        "\n",
        "  1818  |    0.005151  |    0.005723  |     0.900052  |             |  9.4s"
       ]
      },
      {
       "output_type": "stream",
       "stream": "stdout",
       "text": [
        "\n",
        "  1819  |    0.005159  |    0.005774  |     0.893439  |             |  9.4s"
       ]
      },
      {
       "output_type": "stream",
       "stream": "stdout",
       "text": [
        "\n",
        "  1820  |    0.005109  |    0.005786  |     0.883042  |             |  9.4s"
       ]
      },
      {
       "output_type": "stream",
       "stream": "stdout",
       "text": [
        "\n",
        "  1821  |    0.005155  |    0.005775  |     0.892682  |             |  9.4s"
       ]
      },
      {
       "output_type": "stream",
       "stream": "stdout",
       "text": [
        "\n",
        "  1822  |    0.005159  |    0.005740  |     0.898706  |             |  9.4s"
       ]
      },
      {
       "output_type": "stream",
       "stream": "stdout",
       "text": [
        "\n",
        "  1823  |    0.005118  |    0.005719  |     0.894922  |             |  9.4s"
       ]
      },
      {
       "output_type": "stream",
       "stream": "stdout",
       "text": [
        "\n",
        "  1824  |  \u001b[94m  0.005034\u001b[0m  |    0.005744  |     0.876263  |             |  9.4s"
       ]
      },
      {
       "output_type": "stream",
       "stream": "stdout",
       "text": [
        "\n",
        "  1825  |    0.005097  |    0.005769  |     0.883557  |             |  9.4s"
       ]
      },
      {
       "output_type": "stream",
       "stream": "stdout",
       "text": [
        "\n",
        "  1826  |    0.005159  |    0.005781  |     0.892411  |             |  9.4s"
       ]
      },
      {
       "output_type": "stream",
       "stream": "stdout",
       "text": [
        "\n",
        "  1827  |    0.005117  |    0.005745  |     0.890721  |             |  9.4s"
       ]
      },
      {
       "output_type": "stream",
       "stream": "stdout",
       "text": [
        "\n",
        "  1828  |    0.005164  |    0.005773  |     0.894535  |             |  9.4s"
       ]
      },
      {
       "output_type": "stream",
       "stream": "stdout",
       "text": [
        "\n",
        "  1829  |    0.005073  |    0.005712  |     0.888172  |             |  9.4s"
       ]
      },
      {
       "output_type": "stream",
       "stream": "stdout",
       "text": [
        "\n",
        "  1830  |    0.005061  |    0.005744  |     0.881072  |             |  9.4s"
       ]
      },
      {
       "output_type": "stream",
       "stream": "stdout",
       "text": [
        "\n",
        "  1831  |    0.005095  |    0.005705  |     0.893011  |             |  9.4s"
       ]
      },
      {
       "output_type": "stream",
       "stream": "stdout",
       "text": [
        "\n",
        "  1832  |    0.005092  |    0.005739  |     0.887197  |             |  9.4s"
       ]
      },
      {
       "output_type": "stream",
       "stream": "stdout",
       "text": [
        "\n",
        "  1833  |    0.005036  |    0.005764  |     0.873703  |             |  9.4s"
       ]
      },
      {
       "output_type": "stream",
       "stream": "stdout",
       "text": [
        "\n",
        "  1834  |    0.005093  |    0.005685  |     0.895957  |             |  9.4s"
       ]
      },
      {
       "output_type": "stream",
       "stream": "stdout",
       "text": [
        "\n",
        "  1835  |    0.005044  |    0.005743  |     0.878371  |             |  9.4s"
       ]
      },
      {
       "output_type": "stream",
       "stream": "stdout",
       "text": [
        "\n",
        "  1836  |    0.005057  |    0.005763  |     0.877498  |             |  9.4s"
       ]
      },
      {
       "output_type": "stream",
       "stream": "stdout",
       "text": [
        "\n",
        "  1837  |    0.005034  |    0.005709  |     0.881674  |             |  9.4s"
       ]
      },
      {
       "output_type": "stream",
       "stream": "stdout",
       "text": [
        "\n",
        "  1838  |    0.005117  |    0.005732  |     0.892729  |             |  9.4s"
       ]
      },
      {
       "output_type": "stream",
       "stream": "stdout",
       "text": [
        "\n",
        "  1839  |    0.005040  |    0.005737  |     0.878622  |             |  9.4s"
       ]
      },
      {
       "output_type": "stream",
       "stream": "stdout",
       "text": [
        "\n",
        "  1840  |    0.005101  |    0.005729  |     0.890433  |             |  9.4s"
       ]
      },
      {
       "output_type": "stream",
       "stream": "stdout",
       "text": [
        "\n",
        "  1841  |    0.005058  |    0.005680  |     0.890463  |             |  9.4s"
       ]
      },
      {
       "output_type": "stream",
       "stream": "stdout",
       "text": [
        "\n",
        "  1842  |  \u001b[94m  0.005008\u001b[0m  |    0.005674  |     0.882624  |             |  9.4s"
       ]
      },
      {
       "output_type": "stream",
       "stream": "stdout",
       "text": [
        "\n",
        "  1843  |    0.005056  |    0.005688  |     0.888902  |             |  9.4s"
       ]
      },
      {
       "output_type": "stream",
       "stream": "stdout",
       "text": [
        "\n",
        "  1844  |    0.005039  |    0.005728  |     0.879767  |             |  9.4s"
       ]
      },
      {
       "output_type": "stream",
       "stream": "stdout",
       "text": [
        "\n",
        "  1845  |    0.005080  |    0.005746  |     0.884080  |             |  9.4s"
       ]
      },
      {
       "output_type": "stream",
       "stream": "stdout",
       "text": [
        "\n",
        "  1846  |    0.005093  |    0.005675  |     0.897387  |             |  9.4s"
       ]
      },
      {
       "output_type": "stream",
       "stream": "stdout",
       "text": [
        "\n",
        "  1847  |    0.005032  |    0.005762  |     0.873296  |             |  9.4s"
       ]
      },
      {
       "output_type": "stream",
       "stream": "stdout",
       "text": [
        "\n",
        "  1848  |    0.005090  |    0.005731  |     0.888224  |             |  9.4s"
       ]
      },
      {
       "output_type": "stream",
       "stream": "stdout",
       "text": [
        "\n",
        "  1849  |    0.005025  |    0.005777  |     0.869857  |             |  9.4s"
       ]
      },
      {
       "output_type": "stream",
       "stream": "stdout",
       "text": [
        "\n",
        "  1850  |    0.005118  |    0.005829  |     0.878087  |             |  9.4s"
       ]
      },
      {
       "output_type": "stream",
       "stream": "stdout",
       "text": [
        "\n",
        "  1851  |    0.005050  |    0.005689  |     0.887592  |             |  9.4s"
       ]
      },
      {
       "output_type": "stream",
       "stream": "stdout",
       "text": [
        "\n",
        "  1852  |    0.005010  |    0.005742  |     0.872579  |             |  9.4s"
       ]
      },
      {
       "output_type": "stream",
       "stream": "stdout",
       "text": [
        "\n",
        "  1853  |  \u001b[94m  0.004993\u001b[0m  |    0.005778  |     0.864030  |             |  9.4s"
       ]
      },
      {
       "output_type": "stream",
       "stream": "stdout",
       "text": [
        "\n",
        "  1854  |    0.004999  |    0.005707  |     0.875846  |             |  9.4s"
       ]
      },
      {
       "output_type": "stream",
       "stream": "stdout",
       "text": [
        "\n",
        "  1855  |    0.005096  |    0.005730  |     0.889282  |             |  9.4s"
       ]
      },
      {
       "output_type": "stream",
       "stream": "stdout",
       "text": [
        "\n",
        "  1856  |    0.005048  |    0.005715  |     0.883388  |             |  9.4s"
       ]
      },
      {
       "output_type": "stream",
       "stream": "stdout",
       "text": [
        "\n",
        "  1857  |    0.005079  |    0.005715  |     0.888679  |             |  9.4s"
       ]
      },
      {
       "output_type": "stream",
       "stream": "stdout",
       "text": [
        "\n",
        "  1858  |    0.005019  |    0.005670  |     0.885275  |             |  9.4s"
       ]
      },
      {
       "output_type": "stream",
       "stream": "stdout",
       "text": [
        "\n",
        "  1859  |    0.005043  |    0.005682  |     0.887588  |             |  9.4s"
       ]
      },
      {
       "output_type": "stream",
       "stream": "stdout",
       "text": [
        "\n",
        "  1860  |    0.005027  |    0.005669  |     0.886820  |             |  9.4s"
       ]
      },
      {
       "output_type": "stream",
       "stream": "stdout",
       "text": [
        "\n",
        "  1861  |  \u001b[94m  0.004992\u001b[0m  |    0.005780  |     0.863690  |             |  9.4s"
       ]
      },
      {
       "output_type": "stream",
       "stream": "stdout",
       "text": [
        "\n",
        "  1862  |    0.005006  |    0.005722  |     0.874916  |             |  9.4s"
       ]
      },
      {
       "output_type": "stream",
       "stream": "stdout",
       "text": [
        "\n",
        "  1863  |  \u001b[94m  0.004969\u001b[0m  |    0.005738  |     0.865937  |             |  9.4s"
       ]
      },
      {
       "output_type": "stream",
       "stream": "stdout",
       "text": [
        "\n",
        "  1864  |    0.004991  |    0.005674  |     0.879607  |             |  9.4s"
       ]
      },
      {
       "output_type": "stream",
       "stream": "stdout",
       "text": [
        "\n",
        "  1865  |  \u001b[94m  0.004966\u001b[0m  |    0.005712  |     0.869480  |             |  9.4s"
       ]
      },
      {
       "output_type": "stream",
       "stream": "stdout",
       "text": [
        "\n",
        "  1866  |  \u001b[94m  0.004958\u001b[0m  |    0.005719  |     0.866943  |             |  9.4s"
       ]
      },
      {
       "output_type": "stream",
       "stream": "stdout",
       "text": [
        "\n",
        "  1867  |    0.005035  |    0.005735  |     0.877962  |             |  9.4s"
       ]
      },
      {
       "output_type": "stream",
       "stream": "stdout",
       "text": [
        "\n",
        "  1868  |    0.004974  |    0.005705  |     0.871819  |             |  9.4s"
       ]
      },
      {
       "output_type": "stream",
       "stream": "stdout",
       "text": [
        "\n",
        "  1869  |    0.004987  |    0.005768  |     0.864536  |             |  9.4s"
       ]
      },
      {
       "output_type": "stream",
       "stream": "stdout",
       "text": [
        "\n",
        "  1870  |    0.005039  |    0.005685  |     0.886334  |             |  9.4s"
       ]
      },
      {
       "output_type": "stream",
       "stream": "stdout",
       "text": [
        "\n",
        "  1871  |    0.004986  |    0.005726  |     0.870673  |             |  9.4s"
       ]
      },
      {
       "output_type": "stream",
       "stream": "stdout",
       "text": [
        "\n",
        "  1872  |    0.005019  |    0.005674  |     0.884469  |             |  9.4s"
       ]
      },
      {
       "output_type": "stream",
       "stream": "stdout",
       "text": [
        "\n",
        "  1873  |    0.004995  |    0.005709  |     0.874892  |             |  9.4s"
       ]
      },
      {
       "output_type": "stream",
       "stream": "stdout",
       "text": [
        "\n",
        "  1874  |  \u001b[94m  0.004945\u001b[0m  |    0.005734  |     0.862376  |             |  9.4s"
       ]
      },
      {
       "output_type": "stream",
       "stream": "stdout",
       "text": [
        "\n",
        "  1875  |  \u001b[94m  0.004922\u001b[0m  |    0.005747  |     0.856437  |             |  9.4s"
       ]
      },
      {
       "output_type": "stream",
       "stream": "stdout",
       "text": [
        "\n",
        "  1876  |    0.004963  |    0.005733  |     0.865762  |             |  9.4s"
       ]
      },
      {
       "output_type": "stream",
       "stream": "stdout",
       "text": [
        "\n",
        "  1877  |    0.005008  |    0.005676  |     0.882289  |             |  9.4s"
       ]
      },
      {
       "output_type": "stream",
       "stream": "stdout",
       "text": [
        "\n",
        "  1878  |    0.004969  |  \u001b[32m  0.005624\u001b[0m  |     0.883571  |             |  9.4s"
       ]
      },
      {
       "output_type": "stream",
       "stream": "stdout",
       "text": [
        "\n",
        "  1879  |    0.004994  |    0.005629  |     0.887288  |             |  9.4s"
       ]
      },
      {
       "output_type": "stream",
       "stream": "stdout",
       "text": [
        "\n",
        "  1880  |    0.005022  |    0.005680  |     0.884003  |             |  9.4s"
       ]
      },
      {
       "output_type": "stream",
       "stream": "stdout",
       "text": [
        "\n",
        "  1881  |    0.004955  |    0.005679  |     0.872604  |             |  9.4s"
       ]
      },
      {
       "output_type": "stream",
       "stream": "stdout",
       "text": [
        "\n",
        "  1882  |    0.004985  |    0.005825  |     0.855881  |             |  9.4s"
       ]
      },
      {
       "output_type": "stream",
       "stream": "stdout",
       "text": [
        "\n",
        "  1883  |    0.004995  |    0.005709  |     0.874961  |             |  9.4s"
       ]
      },
      {
       "output_type": "stream",
       "stream": "stdout",
       "text": [
        "\n",
        "  1884  |    0.004982  |    0.005645  |     0.882638  |             |  9.4s"
       ]
      },
      {
       "output_type": "stream",
       "stream": "stdout",
       "text": [
        "\n",
        "  1885  |    0.004984  |    0.005684  |     0.876777  |             |  9.4s"
       ]
      },
      {
       "output_type": "stream",
       "stream": "stdout",
       "text": [
        "\n",
        "  1886  |    0.005009  |    0.005667  |     0.883924  |             |  9.4s"
       ]
      },
      {
       "output_type": "stream",
       "stream": "stdout",
       "text": [
        "\n",
        "  1887  |    0.004972  |    0.005704  |     0.871616  |             |  9.4s"
       ]
      },
      {
       "output_type": "stream",
       "stream": "stdout",
       "text": [
        "\n",
        "  1888  |  \u001b[94m  0.004901\u001b[0m  |    0.005715  |     0.857557  |             |  9.4s"
       ]
      },
      {
       "output_type": "stream",
       "stream": "stdout",
       "text": [
        "\n",
        "  1889  |    0.004901  |    0.005701  |     0.859752  |             |  9.4s"
       ]
      },
      {
       "output_type": "stream",
       "stream": "stdout",
       "text": [
        "\n",
        "  1890  |    0.004966  |    0.005713  |     0.869298  |             |  9.4s"
       ]
      },
      {
       "output_type": "stream",
       "stream": "stdout",
       "text": [
        "\n",
        "  1891  |    0.004907  |    0.005708  |     0.859637  |             |  9.4s"
       ]
      },
      {
       "output_type": "stream",
       "stream": "stdout",
       "text": [
        "\n",
        "  1892  |    0.004922  |    0.005700  |     0.863554  |             |  9.4s"
       ]
      },
      {
       "output_type": "stream",
       "stream": "stdout",
       "text": [
        "\n",
        "  1893  |    0.004952  |  \u001b[32m  0.005615\u001b[0m  |     0.881930  |             |  9.4s"
       ]
      },
      {
       "output_type": "stream",
       "stream": "stdout",
       "text": [
        "\n",
        "  1894  |  \u001b[94m  0.004879\u001b[0m  |    0.005699  |     0.856048  |             |  9.4s"
       ]
      },
      {
       "output_type": "stream",
       "stream": "stdout",
       "text": [
        "\n",
        "  1895  |    0.004932  |    0.005681  |     0.868212  |             |  9.4s"
       ]
      },
      {
       "output_type": "stream",
       "stream": "stdout",
       "text": [
        "\n",
        "  1896  |    0.004912  |    0.005662  |     0.867524  |             |  9.4s"
       ]
      },
      {
       "output_type": "stream",
       "stream": "stdout",
       "text": [
        "\n",
        "  1897  |    0.004949  |    0.005690  |     0.869754  |             |  9.4s"
       ]
      },
      {
       "output_type": "stream",
       "stream": "stdout",
       "text": [
        "\n",
        "  1898  |    0.004932  |    0.005773  |     0.854398  |             |  9.4s"
       ]
      },
      {
       "output_type": "stream",
       "stream": "stdout",
       "text": [
        "\n",
        "  1899  |    0.004901  |    0.005694  |     0.860621  |             |  9.4s"
       ]
      },
      {
       "output_type": "stream",
       "stream": "stdout",
       "text": [
        "\n",
        "  1900  |    0.004950  |    0.005668  |     0.873449  |             |  9.4s"
       ]
      },
      {
       "output_type": "stream",
       "stream": "stdout",
       "text": [
        "\n",
        "  1901  |  \u001b[94m  0.004869\u001b[0m  |    0.005659  |     0.860476  |             |  9.4s"
       ]
      },
      {
       "output_type": "stream",
       "stream": "stdout",
       "text": [
        "\n",
        "  1902  |    0.004925  |    0.005744  |     0.857313  |             |  9.4s"
       ]
      },
      {
       "output_type": "stream",
       "stream": "stdout",
       "text": [
        "\n",
        "  1903  |    0.004871  |    0.005678  |     0.857771  |             |  9.4s"
       ]
      },
      {
       "output_type": "stream",
       "stream": "stdout",
       "text": [
        "\n",
        "  1904  |    0.004949  |    0.005662  |     0.874048  |             |  9.4s"
       ]
      },
      {
       "output_type": "stream",
       "stream": "stdout",
       "text": [
        "\n",
        "  1905  |    0.004905  |    0.005774  |     0.849518  |             |  9.4s"
       ]
      },
      {
       "output_type": "stream",
       "stream": "stdout",
       "text": [
        "\n",
        "  1906  |    0.004965  |    0.005668  |     0.875918  |             |  9.4s"
       ]
      },
      {
       "output_type": "stream",
       "stream": "stdout",
       "text": [
        "\n",
        "  1907  |  \u001b[94m  0.004848\u001b[0m  |    0.005664  |     0.855920  |             |  9.4s"
       ]
      },
      {
       "output_type": "stream",
       "stream": "stdout",
       "text": [
        "\n",
        "  1908  |    0.004886  |    0.005673  |     0.861250  |             |  9.4s"
       ]
      },
      {
       "output_type": "stream",
       "stream": "stdout",
       "text": [
        "\n",
        "  1909  |  \u001b[94m  0.004842\u001b[0m  |    0.005694  |     0.850376  |             |  9.4s"
       ]
      },
      {
       "output_type": "stream",
       "stream": "stdout",
       "text": [
        "\n",
        "  1910  |    0.004951  |    0.005670  |     0.873094  |             |  9.4s"
       ]
      },
      {
       "output_type": "stream",
       "stream": "stdout",
       "text": [
        "\n",
        "  1911  |    0.004895  |    0.005660  |     0.864786  |             |  9.4s"
       ]
      },
      {
       "output_type": "stream",
       "stream": "stdout",
       "text": [
        "\n",
        "  1912  |    0.004919  |    0.005685  |     0.865264  |             |  9.4s"
       ]
      },
      {
       "output_type": "stream",
       "stream": "stdout",
       "text": [
        "\n",
        "  1913  |    0.004921  |    0.005652  |     0.870669  |             |  9.4s"
       ]
      },
      {
       "output_type": "stream",
       "stream": "stdout",
       "text": [
        "\n",
        "  1914  |    0.004920  |    0.005665  |     0.868537  |             |  9.4s"
       ]
      },
      {
       "output_type": "stream",
       "stream": "stdout",
       "text": [
        "\n",
        "  1915  |    0.004872  |    0.005664  |     0.860244  |             |  9.4s"
       ]
      },
      {
       "output_type": "stream",
       "stream": "stdout",
       "text": [
        "\n",
        "  1916  |    0.004885  |    0.005632  |     0.867437  |             |  9.4s"
       ]
      },
      {
       "output_type": "stream",
       "stream": "stdout",
       "text": [
        "\n",
        "  1917  |    0.004878  |    0.005708  |     0.854698  |             |  9.4s"
       ]
      },
      {
       "output_type": "stream",
       "stream": "stdout",
       "text": [
        "\n",
        "  1918  |    0.004914  |    0.005714  |     0.859889  |             |  9.4s"
       ]
      },
      {
       "output_type": "stream",
       "stream": "stdout",
       "text": [
        "\n",
        "  1919  |  \u001b[94m  0.004819\u001b[0m  |    0.005665  |     0.850531  |             |  9.4s"
       ]
      },
      {
       "output_type": "stream",
       "stream": "stdout",
       "text": [
        "\n",
        "  1920  |    0.004889  |  \u001b[32m  0.005571\u001b[0m  |     0.877520  |             |  9.4s"
       ]
      },
      {
       "output_type": "stream",
       "stream": "stdout",
       "text": [
        "\n",
        "  1921  |    0.004928  |    0.005628  |     0.875665  |             |  9.4s"
       ]
      },
      {
       "output_type": "stream",
       "stream": "stdout",
       "text": [
        "\n",
        "  1922  |    0.004878  |    0.005653  |     0.862846  |             |  9.4s"
       ]
      },
      {
       "output_type": "stream",
       "stream": "stdout",
       "text": [
        "\n",
        "  1923  |    0.004937  |    0.005663  |     0.871855  |             |  9.4s"
       ]
      },
      {
       "output_type": "stream",
       "stream": "stdout",
       "text": [
        "\n",
        "  1924  |    0.004898  |    0.005722  |     0.856083  |             |  9.4s"
       ]
      },
      {
       "output_type": "stream",
       "stream": "stdout",
       "text": [
        "\n",
        "  1925  |  \u001b[94m  0.004788\u001b[0m  |    0.005681  |     0.842866  |             |  9.4s"
       ]
      },
      {
       "output_type": "stream",
       "stream": "stdout",
       "text": [
        "\n",
        "  1926  |    0.004860  |    0.005687  |     0.854694  |             |  9.4s"
       ]
      },
      {
       "output_type": "stream",
       "stream": "stdout",
       "text": [
        "\n",
        "  1927  |    0.004821  |    0.005679  |     0.848929  |             |  9.4s"
       ]
      },
      {
       "output_type": "stream",
       "stream": "stdout",
       "text": [
        "\n",
        "  1928  |    0.004897  |    0.005637  |     0.868762  |             |  9.4s"
       ]
      },
      {
       "output_type": "stream",
       "stream": "stdout",
       "text": [
        "\n",
        "  1929  |    0.004888  |    0.005695  |     0.858302  |             |  9.4s"
       ]
      },
      {
       "output_type": "stream",
       "stream": "stdout",
       "text": [
        "\n",
        "  1930  |    0.004870  |    0.005655  |     0.861230  |             |  9.4s"
       ]
      },
      {
       "output_type": "stream",
       "stream": "stdout",
       "text": [
        "\n",
        "  1931  |    0.004851  |    0.005722  |     0.847841  |             |  9.4s"
       ]
      },
      {
       "output_type": "stream",
       "stream": "stdout",
       "text": [
        "\n",
        "  1932  |    0.004868  |    0.005706  |     0.853191  |             |  9.4s"
       ]
      },
      {
       "output_type": "stream",
       "stream": "stdout",
       "text": [
        "\n",
        "  1933  |    0.004839  |    0.005633  |     0.859056  |             |  9.4s"
       ]
      },
      {
       "output_type": "stream",
       "stream": "stdout",
       "text": [
        "\n",
        "  1934  |    0.004824  |    0.005655  |     0.852905  |             |  9.4s"
       ]
      },
      {
       "output_type": "stream",
       "stream": "stdout",
       "text": [
        "\n",
        "  1935  |    0.004839  |    0.005620  |     0.861051  |             |  9.4s"
       ]
      },
      {
       "output_type": "stream",
       "stream": "stdout",
       "text": [
        "\n",
        "  1936  |    0.004837  |    0.005654  |     0.855532  |             |  9.4s"
       ]
      },
      {
       "output_type": "stream",
       "stream": "stdout",
       "text": [
        "\n",
        "  1937  |    0.004826  |    0.005680  |     0.849643  |             |  9.4s"
       ]
      },
      {
       "output_type": "stream",
       "stream": "stdout",
       "text": [
        "\n",
        "  1938  |    0.004874  |    0.005641  |     0.863896  |             |  9.4s"
       ]
      },
      {
       "output_type": "stream",
       "stream": "stdout",
       "text": [
        "\n",
        "  1939  |    0.004834  |    0.005666  |     0.853151  |             |  9.4s"
       ]
      },
      {
       "output_type": "stream",
       "stream": "stdout",
       "text": [
        "\n",
        "  1940  |    0.004830  |    0.005698  |     0.847682  |             |  9.4s"
       ]
      },
      {
       "output_type": "stream",
       "stream": "stdout",
       "text": [
        "\n",
        "  1941  |    0.004868  |    0.005610  |     0.867729  |             |  9.4s"
       ]
      },
      {
       "output_type": "stream",
       "stream": "stdout",
       "text": [
        "\n",
        "  1942  |    0.004845  |    0.005607  |     0.864173  |             |  9.4s"
       ]
      },
      {
       "output_type": "stream",
       "stream": "stdout",
       "text": [
        "\n",
        "  1943  |    0.004836  |    0.005658  |     0.854692  |             |  9.4s"
       ]
      },
      {
       "output_type": "stream",
       "stream": "stdout",
       "text": [
        "\n",
        "  1944  |    0.004814  |    0.005668  |     0.849345  |             |  9.4s"
       ]
      },
      {
       "output_type": "stream",
       "stream": "stdout",
       "text": [
        "\n",
        "  1945  |  \u001b[94m  0.004760\u001b[0m  |    0.005679  |     0.838091  |             |  9.4s"
       ]
      },
      {
       "output_type": "stream",
       "stream": "stdout",
       "text": [
        "\n",
        "  1946  |    0.004785  |    0.005694  |     0.840404  |             |  9.4s"
       ]
      },
      {
       "output_type": "stream",
       "stream": "stdout",
       "text": [
        "\n",
        "  1947  |    0.004835  |    0.005620  |     0.860406  |             |  9.4s"
       ]
      },
      {
       "output_type": "stream",
       "stream": "stdout",
       "text": [
        "\n",
        "  1948  |    0.004760  |    0.005723  |     0.831752  |             |  9.4s"
       ]
      },
      {
       "output_type": "stream",
       "stream": "stdout",
       "text": [
        "\n",
        "  1949  |    0.004846  |    0.005586  |     0.867492  |             |  9.4s"
       ]
      },
      {
       "output_type": "stream",
       "stream": "stdout",
       "text": [
        "\n",
        "  1950  |    0.004858  |    0.005646  |     0.860299  |             |  9.4s"
       ]
      },
      {
       "output_type": "stream",
       "stream": "stdout",
       "text": [
        "\n",
        "  1951  |    0.004867  |    0.005661  |     0.859873  |             |  9.4s"
       ]
      },
      {
       "output_type": "stream",
       "stream": "stdout",
       "text": [
        "\n",
        "  1952  |    0.004799  |    0.005636  |     0.851459  |             |  9.4s"
       ]
      },
      {
       "output_type": "stream",
       "stream": "stdout",
       "text": [
        "\n",
        "  1953  |    0.004818  |    0.005627  |     0.856346  |             |  9.4s"
       ]
      },
      {
       "output_type": "stream",
       "stream": "stdout",
       "text": [
        "\n",
        "  1954  |    0.004806  |    0.005685  |     0.845422  |             |  9.4s"
       ]
      },
      {
       "output_type": "stream",
       "stream": "stdout",
       "text": [
        "\n",
        "  1955  |    0.004793  |    0.005613  |     0.853862  |             |  9.4s"
       ]
      },
      {
       "output_type": "stream",
       "stream": "stdout",
       "text": [
        "\n",
        "  1956  |    0.004762  |    0.005621  |     0.847133  |             |  9.4s"
       ]
      },
      {
       "output_type": "stream",
       "stream": "stdout",
       "text": [
        "\n",
        "  1957  |  \u001b[94m  0.004757\u001b[0m  |    0.005695  |     0.835218  |             |  9.4s"
       ]
      },
      {
       "output_type": "stream",
       "stream": "stdout",
       "text": [
        "\n",
        "  1958  |    0.004758  |    0.005614  |     0.847566  |             |  9.4s"
       ]
      },
      {
       "output_type": "stream",
       "stream": "stdout",
       "text": [
        "\n",
        "  1959  |    0.004815  |    0.005606  |     0.858954  |             |  9.4s"
       ]
      },
      {
       "output_type": "stream",
       "stream": "stdout",
       "text": [
        "\n",
        "  1960  |    0.004775  |    0.005620  |     0.849680  |             |  9.4s"
       ]
      },
      {
       "output_type": "stream",
       "stream": "stdout",
       "text": [
        "\n",
        "  1961  |    0.004779  |    0.005645  |     0.846698  |             |  9.4s"
       ]
      },
      {
       "output_type": "stream",
       "stream": "stdout",
       "text": [
        "\n",
        "  1962  |  \u001b[94m  0.004743\u001b[0m  |    0.005637  |     0.841391  |             |  9.4s"
       ]
      },
      {
       "output_type": "stream",
       "stream": "stdout",
       "text": [
        "\n",
        "  1963  |    0.004774  |    0.005637  |     0.846805  |             |  9.4s"
       ]
      },
      {
       "output_type": "stream",
       "stream": "stdout",
       "text": [
        "\n",
        "  1964  |    0.004766  |    0.005635  |     0.845814  |             |  9.4s"
       ]
      },
      {
       "output_type": "stream",
       "stream": "stdout",
       "text": [
        "\n",
        "  1965  |    0.004803  |    0.005646  |     0.850659  |             |  9.4s"
       ]
      },
      {
       "output_type": "stream",
       "stream": "stdout",
       "text": [
        "\n",
        "  1966  |  \u001b[94m  0.004736\u001b[0m  |    0.005621  |     0.842663  |             |  9.4s"
       ]
      },
      {
       "output_type": "stream",
       "stream": "stdout",
       "text": [
        "\n",
        "  1967  |  \u001b[94m  0.004733\u001b[0m  |    0.005583  |     0.847798  |             |  9.4s"
       ]
      },
      {
       "output_type": "stream",
       "stream": "stdout",
       "text": [
        "\n",
        "  1968  |    0.004738  |    0.005639  |     0.840269  |             |  9.4s"
       ]
      },
      {
       "output_type": "stream",
       "stream": "stdout",
       "text": [
        "\n",
        "  1969  |  \u001b[94m  0.004726\u001b[0m  |  \u001b[32m  0.005563\u001b[0m  |     0.849458  |             |  9.4s"
       ]
      },
      {
       "output_type": "stream",
       "stream": "stdout",
       "text": [
        "\n",
        "  1970  |    0.004739  |    0.005623  |     0.842746  |             |  9.4s"
       ]
      },
      {
       "output_type": "stream",
       "stream": "stdout",
       "text": [
        "\n",
        "  1971  |    0.004783  |    0.005598  |     0.854410  |             |  9.4s"
       ]
      },
      {
       "output_type": "stream",
       "stream": "stdout",
       "text": [
        "\n",
        "  1972  |  \u001b[94m  0.004720\u001b[0m  |    0.005691  |     0.829365  |             |  9.4s"
       ]
      },
      {
       "output_type": "stream",
       "stream": "stdout",
       "text": [
        "\n",
        "  1973  |    0.004737  |    0.005613  |     0.843852  |             |  9.4s"
       ]
      },
      {
       "output_type": "stream",
       "stream": "stdout",
       "text": [
        "\n",
        "  1974  |    0.004806  |    0.005642  |     0.851869  |             |  9.4s"
       ]
      },
      {
       "output_type": "stream",
       "stream": "stdout",
       "text": [
        "\n",
        "  1975  |    0.004758  |    0.005579  |     0.852850  |             |  9.4s"
       ]
      },
      {
       "output_type": "stream",
       "stream": "stdout",
       "text": [
        "\n",
        "  1976  |    0.004755  |    0.005618  |     0.846326  |             |  9.4s"
       ]
      },
      {
       "output_type": "stream",
       "stream": "stdout",
       "text": [
        "\n",
        "  1977  |    0.004733  |    0.005670  |     0.834699  |             |  9.4s"
       ]
      },
      {
       "output_type": "stream",
       "stream": "stdout",
       "text": [
        "\n",
        "  1978  |  \u001b[94m  0.004662\u001b[0m  |    0.005598  |     0.832807  |             |  9.4s"
       ]
      },
      {
       "output_type": "stream",
       "stream": "stdout",
       "text": [
        "\n",
        "  1979  |    0.004675  |    0.005620  |     0.831967  |             |  9.4s"
       ]
      },
      {
       "output_type": "stream",
       "stream": "stdout",
       "text": [
        "\n",
        "  1980  |    0.004684  |    0.005574  |     0.840433  |             |  9.4s"
       ]
      },
      {
       "output_type": "stream",
       "stream": "stdout",
       "text": [
        "\n",
        "  1981  |    0.004787  |    0.005651  |     0.847228  |             |  9.4s"
       ]
      },
      {
       "output_type": "stream",
       "stream": "stdout",
       "text": [
        "\n",
        "  1982  |    0.004805  |    0.005567  |     0.863177  |             |  9.4s"
       ]
      },
      {
       "output_type": "stream",
       "stream": "stdout",
       "text": [
        "\n",
        "  1983  |    0.004762  |    0.005656  |     0.841827  |             |  9.4s"
       ]
      },
      {
       "output_type": "stream",
       "stream": "stdout",
       "text": [
        "\n",
        "  1984  |    0.004714  |    0.005616  |     0.839531  |             |  9.4s"
       ]
      },
      {
       "output_type": "stream",
       "stream": "stdout",
       "text": [
        "\n",
        "  1985  |    0.004770  |    0.005643  |     0.845353  |             |  9.4s"
       ]
      },
      {
       "output_type": "stream",
       "stream": "stdout",
       "text": [
        "\n",
        "  1986  |    0.004706  |    0.005632  |     0.835653  |             |  9.4s"
       ]
      },
      {
       "output_type": "stream",
       "stream": "stdout",
       "text": [
        "\n",
        "  1987  |    0.004816  |    0.005630  |     0.855432  |             |  9.4s"
       ]
      },
      {
       "output_type": "stream",
       "stream": "stdout",
       "text": [
        "\n",
        "  1988  |    0.004690  |    0.005724  |     0.819365  |             |  9.4s"
       ]
      },
      {
       "output_type": "stream",
       "stream": "stdout",
       "text": [
        "\n",
        "  1989  |    0.004696  |    0.005581  |     0.841510  |             |  9.4s"
       ]
      },
      {
       "output_type": "stream",
       "stream": "stdout",
       "text": [
        "\n",
        "  1990  |    0.004740  |    0.005632  |     0.841537  |             |  9.4s"
       ]
      },
      {
       "output_type": "stream",
       "stream": "stdout",
       "text": [
        "\n",
        "  1991  |    0.004717  |    0.005624  |     0.838843  |             |  9.4s"
       ]
      },
      {
       "output_type": "stream",
       "stream": "stdout",
       "text": [
        "\n",
        "  1992  |    0.004711  |    0.005597  |     0.841680  |             |  9.4s"
       ]
      },
      {
       "output_type": "stream",
       "stream": "stdout",
       "text": [
        "\n",
        "  1993  |    0.004758  |    0.005599  |     0.849769  |             |  9.4s"
       ]
      },
      {
       "output_type": "stream",
       "stream": "stdout",
       "text": [
        "\n",
        "  1994  |    0.004682  |    0.005644  |     0.829501  |             |  9.4s"
       ]
      },
      {
       "output_type": "stream",
       "stream": "stdout",
       "text": [
        "\n",
        "  1995  |    0.004683  |    0.005660  |     0.827503  |             |  9.4s"
       ]
      },
      {
       "output_type": "stream",
       "stream": "stdout",
       "text": [
        "\n",
        "  1996  |    0.004705  |  \u001b[32m  0.005547\u001b[0m  |     0.848090  |             |  9.4s"
       ]
      },
      {
       "output_type": "stream",
       "stream": "stdout",
       "text": [
        "\n",
        "  1997  |  \u001b[94m  0.004605\u001b[0m  |    0.005599  |     0.822553  |             |  9.4s"
       ]
      },
      {
       "output_type": "stream",
       "stream": "stdout",
       "text": [
        "\n",
        "  1998  |    0.004691  |    0.005643  |     0.831397  |             |  9.4s"
       ]
      },
      {
       "output_type": "stream",
       "stream": "stdout",
       "text": [
        "\n",
        "  1999  |    0.004749  |    0.005618  |     0.845329  |             |  9.4s"
       ]
      },
      {
       "output_type": "stream",
       "stream": "stdout",
       "text": [
        "\n",
        "  2000  |    0.004712  |    0.005655  |     0.833271  |             |  9.4s"
       ]
      },
      {
       "output_type": "stream",
       "stream": "stdout",
       "text": [
        "\n",
        "  2001  |    0.004675  |    0.005679  |     0.823138  |             |  9.4s"
       ]
      },
      {
       "output_type": "stream",
       "stream": "stdout",
       "text": [
        "\n",
        "  2002  |    0.004765  |    0.005618  |     0.848190  |             |  9.4s"
       ]
      },
      {
       "output_type": "stream",
       "stream": "stdout",
       "text": [
        "\n",
        "  2003  |    0.004671  |    0.005582  |     0.836762  |             |  9.4s"
       ]
      },
      {
       "output_type": "stream",
       "stream": "stdout",
       "text": [
        "\n",
        "  2004  |    0.004739  |    0.005640  |     0.840244  |             |  9.4s"
       ]
      },
      {
       "output_type": "stream",
       "stream": "stdout",
       "text": [
        "\n",
        "  2005  |    0.004693  |    0.005599  |     0.838092  |             |  9.4s"
       ]
      },
      {
       "output_type": "stream",
       "stream": "stdout",
       "text": [
        "\n",
        "  2006  |    0.004701  |    0.005625  |     0.835755  |             |  9.4s"
       ]
      },
      {
       "output_type": "stream",
       "stream": "stdout",
       "text": [
        "\n",
        "  2007  |    0.004652  |    0.005634  |     0.825595  |             |  9.4s"
       ]
      },
      {
       "output_type": "stream",
       "stream": "stdout",
       "text": [
        "\n",
        "  2008  |    0.004628  |    0.005632  |     0.821710  |             |  9.4s"
       ]
      },
      {
       "output_type": "stream",
       "stream": "stdout",
       "text": [
        "\n",
        "  2009  |    0.004673  |    0.005647  |     0.827448  |             |  9.4s"
       ]
      },
      {
       "output_type": "stream",
       "stream": "stdout",
       "text": [
        "\n",
        "  2010  |    0.004668  |    0.005645  |     0.826916  |             |  9.4s"
       ]
      },
      {
       "output_type": "stream",
       "stream": "stdout",
       "text": [
        "\n",
        "  2011  |    0.004682  |    0.005605  |     0.835211  |             |  9.4s"
       ]
      },
      {
       "output_type": "stream",
       "stream": "stdout",
       "text": [
        "\n",
        "  2012  |    0.004666  |    0.005655  |     0.825187  |             |  9.4s"
       ]
      },
      {
       "output_type": "stream",
       "stream": "stdout",
       "text": [
        "\n",
        "  2013  |    0.004680  |    0.005611  |     0.834155  |             |  9.4s"
       ]
      },
      {
       "output_type": "stream",
       "stream": "stdout",
       "text": [
        "\n",
        "  2014  |    0.004666  |    0.005618  |     0.830566  |             |  9.4s"
       ]
      },
      {
       "output_type": "stream",
       "stream": "stdout",
       "text": [
        "\n",
        "  2015  |    0.004708  |    0.005683  |     0.828426  |             |  9.4s"
       ]
      },
      {
       "output_type": "stream",
       "stream": "stdout",
       "text": [
        "\n",
        "  2016  |    0.004675  |    0.005674  |     0.823896  |             |  9.4s"
       ]
      },
      {
       "output_type": "stream",
       "stream": "stdout",
       "text": [
        "\n",
        "  2017  |    0.004689  |    0.005624  |     0.833779  |             |  9.4s"
       ]
      },
      {
       "output_type": "stream",
       "stream": "stdout",
       "text": [
        "\n",
        "  2018  |    0.004682  |    0.005612  |     0.834262  |             |  9.4s"
       ]
      },
      {
       "output_type": "stream",
       "stream": "stdout",
       "text": [
        "\n",
        "  2019  |    0.004639  |    0.005662  |     0.819210  |             |  9.4s"
       ]
      },
      {
       "output_type": "stream",
       "stream": "stdout",
       "text": [
        "\n",
        "  2020  |    0.004676  |    0.005615  |     0.832747  |             |  9.4s"
       ]
      },
      {
       "output_type": "stream",
       "stream": "stdout",
       "text": [
        "\n",
        "  2021  |    0.004658  |    0.005598  |     0.832130  |             |  9.4s"
       ]
      },
      {
       "output_type": "stream",
       "stream": "stdout",
       "text": [
        "\n",
        "  2022  |  \u001b[94m  0.004594\u001b[0m  |    0.005623  |     0.817007  |             |  9.4s"
       ]
      },
      {
       "output_type": "stream",
       "stream": "stdout",
       "text": [
        "\n",
        "  2023  |  \u001b[94m  0.004566\u001b[0m  |    0.005631  |     0.810924  |             |  9.4s"
       ]
      },
      {
       "output_type": "stream",
       "stream": "stdout",
       "text": [
        "\n",
        "  2024  |    0.004680  |    0.005567  |     0.840555  |             |  9.4s"
       ]
      },
      {
       "output_type": "stream",
       "stream": "stdout",
       "text": [
        "\n",
        "  2025  |    0.004663  |    0.005625  |     0.829011  |             |  9.4s"
       ]
      },
      {
       "output_type": "stream",
       "stream": "stdout",
       "text": [
        "\n",
        "  2026  |    0.004577  |    0.005569  |     0.821850  |             |  9.4s"
       ]
      },
      {
       "output_type": "stream",
       "stream": "stdout",
       "text": [
        "\n",
        "  2027  |    0.004584  |  \u001b[32m  0.005491\u001b[0m  |     0.834898  |             |  9.4s"
       ]
      },
      {
       "output_type": "stream",
       "stream": "stdout",
       "text": [
        "\n",
        "  2028  |    0.004615  |    0.005601  |     0.823840  |             |  9.4s"
       ]
      },
      {
       "output_type": "stream",
       "stream": "stdout",
       "text": [
        "\n",
        "  2029  |    0.004671  |    0.005560  |     0.840204  |             |  9.4s"
       ]
      },
      {
       "output_type": "stream",
       "stream": "stdout",
       "text": [
        "\n",
        "  2030  |    0.004651  |    0.005644  |     0.824022  |             |  9.4s"
       ]
      },
      {
       "output_type": "stream",
       "stream": "stdout",
       "text": [
        "\n",
        "  2031  |    0.004669  |    0.005599  |     0.833975  |             |  9.4s"
       ]
      },
      {
       "output_type": "stream",
       "stream": "stdout",
       "text": [
        "\n",
        "  2032  |    0.004642  |    0.005565  |     0.834295  |             |  9.4s"
       ]
      },
      {
       "output_type": "stream",
       "stream": "stdout",
       "text": [
        "\n",
        "  2033  |    0.004620  |    0.005566  |     0.829967  |             |  9.4s"
       ]
      },
      {
       "output_type": "stream",
       "stream": "stdout",
       "text": [
        "\n",
        "  2034  |    0.004604  |    0.005576  |     0.825691  |             |  9.4s"
       ]
      },
      {
       "output_type": "stream",
       "stream": "stdout",
       "text": [
        "\n",
        "  2035  |    0.004594  |    0.005549  |     0.827894  |             |  9.4s"
       ]
      },
      {
       "output_type": "stream",
       "stream": "stdout",
       "text": [
        "\n",
        "  2036  |    0.004573  |    0.005564  |     0.821927  |             |  9.4s"
       ]
      },
      {
       "output_type": "stream",
       "stream": "stdout",
       "text": [
        "\n",
        "  2037  |    0.004617  |    0.005571  |     0.828781  |             |  9.4s"
       ]
      },
      {
       "output_type": "stream",
       "stream": "stdout",
       "text": [
        "\n",
        "  2038  |    0.004634  |    0.005591  |     0.828836  |             |  9.4s"
       ]
      },
      {
       "output_type": "stream",
       "stream": "stdout",
       "text": [
        "\n",
        "  2039  |    0.004672  |    0.005550  |     0.841760  |             |  9.4s"
       ]
      },
      {
       "output_type": "stream",
       "stream": "stdout",
       "text": [
        "\n",
        "  2040  |    0.004572  |    0.005601  |     0.816303  |             |  9.4s"
       ]
      },
      {
       "output_type": "stream",
       "stream": "stdout",
       "text": [
        "\n",
        "  2041  |    0.004625  |    0.005611  |     0.824296  |             |  9.4s"
       ]
      },
      {
       "output_type": "stream",
       "stream": "stdout",
       "text": [
        "\n",
        "  2042  |    0.004612  |    0.005546  |     0.831619  |             |  9.4s"
       ]
      },
      {
       "output_type": "stream",
       "stream": "stdout",
       "text": [
        "\n",
        "  2043  |    0.004605  |    0.005577  |     0.825696  |             |  9.4s"
       ]
      },
      {
       "output_type": "stream",
       "stream": "stdout",
       "text": [
        "\n",
        "  2044  |    0.004647  |    0.005563  |     0.835371  |             |  9.4s"
       ]
      },
      {
       "output_type": "stream",
       "stream": "stdout",
       "text": [
        "\n",
        "  2045  |    0.004569  |    0.005634  |     0.811004  |             |  9.4s"
       ]
      },
      {
       "output_type": "stream",
       "stream": "stdout",
       "text": [
        "\n",
        "  2046  |    0.004614  |    0.005595  |     0.824685  |             |  9.4s"
       ]
      },
      {
       "output_type": "stream",
       "stream": "stdout",
       "text": [
        "\n",
        "  2047  |    0.004598  |    0.005685  |     0.808762  |             |  9.4s"
       ]
      },
      {
       "output_type": "stream",
       "stream": "stdout",
       "text": [
        "\n",
        "  2048  |    0.004628  |    0.005593  |     0.827354  |             |  9.4s"
       ]
      },
      {
       "output_type": "stream",
       "stream": "stdout",
       "text": [
        "\n",
        "  2049  |    0.004597  |    0.005588  |     0.822627  |             |  9.4s"
       ]
      },
      {
       "output_type": "stream",
       "stream": "stdout",
       "text": [
        "\n",
        "  2050  |    0.004585  |    0.005570  |     0.823144  |             |  9.4s"
       ]
      },
      {
       "output_type": "stream",
       "stream": "stdout",
       "text": [
        "\n",
        "  2051  |    0.004606  |    0.005604  |     0.821991  |             |  9.4s"
       ]
      },
      {
       "output_type": "stream",
       "stream": "stdout",
       "text": [
        "\n",
        "  2052  |    0.004592  |    0.005630  |     0.815571  |             |  9.4s"
       ]
      },
      {
       "output_type": "stream",
       "stream": "stdout",
       "text": [
        "\n",
        "  2053  |    0.004589  |    0.005616  |     0.817073  |             |  9.4s"
       ]
      },
      {
       "output_type": "stream",
       "stream": "stdout",
       "text": [
        "\n",
        "  2054  |    0.004619  |    0.005556  |     0.831320  |             |  9.4s"
       ]
      },
      {
       "output_type": "stream",
       "stream": "stdout",
       "text": [
        "\n",
        "  2055  |  \u001b[94m  0.004515\u001b[0m  |    0.005558  |     0.812299  |             |  9.4s"
       ]
      },
      {
       "output_type": "stream",
       "stream": "stdout",
       "text": [
        "\n",
        "  2056  |    0.004568  |    0.005604  |     0.815041  |             |  9.4s"
       ]
      },
      {
       "output_type": "stream",
       "stream": "stdout",
       "text": [
        "\n",
        "  2057  |    0.004608  |    0.005632  |     0.818115  |             |  9.4s"
       ]
      },
      {
       "output_type": "stream",
       "stream": "stdout",
       "text": [
        "\n",
        "  2058  |    0.004552  |    0.005647  |     0.806211  |             |  9.4s"
       ]
      },
      {
       "output_type": "stream",
       "stream": "stdout",
       "text": [
        "\n",
        "  2059  |    0.004655  |    0.005568  |     0.836000  |             |  9.4s"
       ]
      },
      {
       "output_type": "stream",
       "stream": "stdout",
       "text": [
        "\n",
        "  2060  |    0.004530  |    0.005569  |     0.813502  |             |  9.4s"
       ]
      },
      {
       "output_type": "stream",
       "stream": "stdout",
       "text": [
        "\n",
        "  2061  |    0.004560  |    0.005639  |     0.808752  |             |  9.4s"
       ]
      },
      {
       "output_type": "stream",
       "stream": "stdout",
       "text": [
        "\n",
        "  2062  |    0.004580  |    0.005560  |     0.823641  |             |  9.4s"
       ]
      },
      {
       "output_type": "stream",
       "stream": "stdout",
       "text": [
        "\n",
        "  2063  |    0.004539  |    0.005546  |     0.818382  |             |  9.4s"
       ]
      },
      {
       "output_type": "stream",
       "stream": "stdout",
       "text": [
        "\n",
        "  2064  |  \u001b[94m  0.004507\u001b[0m  |    0.005525  |     0.815720  |             |  9.4s"
       ]
      },
      {
       "output_type": "stream",
       "stream": "stdout",
       "text": [
        "\n",
        "  2065  |    0.004552  |    0.005581  |     0.815606  |             |  9.4s"
       ]
      },
      {
       "output_type": "stream",
       "stream": "stdout",
       "text": [
        "\n",
        "  2066  |    0.004645  |    0.005599  |     0.829631  |             |  9.4s"
       ]
      },
      {
       "output_type": "stream",
       "stream": "stdout",
       "text": [
        "\n",
        "  2067  |    0.004611  |    0.005570  |     0.827900  |             |  9.4s"
       ]
      },
      {
       "output_type": "stream",
       "stream": "stdout",
       "text": [
        "\n",
        "  2068  |    0.004591  |    0.005563  |     0.825300  |             |  9.4s"
       ]
      },
      {
       "output_type": "stream",
       "stream": "stdout",
       "text": [
        "\n",
        "  2069  |    0.004560  |    0.005571  |     0.818472  |             |  9.4s"
       ]
      },
      {
       "output_type": "stream",
       "stream": "stdout",
       "text": [
        "\n",
        "  2070  |    0.004510  |    0.005583  |     0.807742  |             |  9.4s"
       ]
      },
      {
       "output_type": "stream",
       "stream": "stdout",
       "text": [
        "\n",
        "  2071  |    0.004554  |    0.005646  |     0.806638  |             |  9.4s"
       ]
      },
      {
       "output_type": "stream",
       "stream": "stdout",
       "text": [
        "\n",
        "  2072  |    0.004530  |    0.005523  |     0.820212  |             |  9.4s"
       ]
      },
      {
       "output_type": "stream",
       "stream": "stdout",
       "text": [
        "\n",
        "  2073  |    0.004583  |    0.005535  |     0.827978  |             |  9.4s"
       ]
      },
      {
       "output_type": "stream",
       "stream": "stdout",
       "text": [
        "\n",
        "  2074  |  \u001b[94m  0.004506\u001b[0m  |    0.005559  |     0.810530  |             |  9.4s"
       ]
      },
      {
       "output_type": "stream",
       "stream": "stdout",
       "text": [
        "\n",
        "  2075  |    0.004524  |    0.005537  |     0.817073  |             |  9.4s"
       ]
      },
      {
       "output_type": "stream",
       "stream": "stdout",
       "text": [
        "\n",
        "  2076  |    0.004559  |    0.005514  |     0.826875  |             |  9.4s"
       ]
      },
      {
       "output_type": "stream",
       "stream": "stdout",
       "text": [
        "\n",
        "  2077  |    0.004571  |    0.005639  |     0.810531  |             |  9.4s"
       ]
      },
      {
       "output_type": "stream",
       "stream": "stdout",
       "text": [
        "\n",
        "  2078  |    0.004513  |    0.005575  |     0.809415  |             |  9.4s"
       ]
      },
      {
       "output_type": "stream",
       "stream": "stdout",
       "text": [
        "\n",
        "  2079  |    0.004575  |    0.005653  |     0.809306  |             |  9.4s"
       ]
      },
      {
       "output_type": "stream",
       "stream": "stdout",
       "text": [
        "\n",
        "  2080  |    0.004533  |    0.005516  |     0.821766  |             |  9.4s"
       ]
      },
      {
       "output_type": "stream",
       "stream": "stdout",
       "text": [
        "\n",
        "  2081  |    0.004629  |    0.005537  |     0.835917  |             |  9.4s"
       ]
      },
      {
       "output_type": "stream",
       "stream": "stdout",
       "text": [
        "\n",
        "  2082  |    0.004522  |    0.005515  |     0.819910  |             |  9.4s"
       ]
      },
      {
       "output_type": "stream",
       "stream": "stdout",
       "text": [
        "\n",
        "  2083  |    0.004521  |    0.005600  |     0.807347  |             |  9.4s"
       ]
      },
      {
       "output_type": "stream",
       "stream": "stdout",
       "text": [
        "\n",
        "  2084  |    0.004543  |    0.005598  |     0.811598  |             |  9.4s"
       ]
      },
      {
       "output_type": "stream",
       "stream": "stdout",
       "text": [
        "\n",
        "  2085  |    0.004560  |    0.005535  |     0.823907  |             |  9.4s"
       ]
      },
      {
       "output_type": "stream",
       "stream": "stdout",
       "text": [
        "\n",
        "  2086  |    0.004538  |    0.005534  |     0.820116  |             |  9.4s"
       ]
      },
      {
       "output_type": "stream",
       "stream": "stdout",
       "text": [
        "\n",
        "  2087  |    0.004568  |    0.005552  |     0.822633  |             |  9.4s"
       ]
      },
      {
       "output_type": "stream",
       "stream": "stdout",
       "text": [
        "\n",
        "  2088  |  \u001b[94m  0.004491\u001b[0m  |    0.005549  |     0.809294  |             |  9.4s"
       ]
      },
      {
       "output_type": "stream",
       "stream": "stdout",
       "text": [
        "\n",
        "  2089  |    0.004512  |    0.005605  |     0.804930  |             |  9.4s"
       ]
      },
      {
       "output_type": "stream",
       "stream": "stdout",
       "text": [
        "\n",
        "  2090  |    0.004522  |    0.005576  |     0.811025  |             |  9.4s"
       ]
      },
      {
       "output_type": "stream",
       "stream": "stdout",
       "text": [
        "\n",
        "  2091  |    0.004500  |    0.005494  |     0.819027  |             |  9.4s"
       ]
      },
      {
       "output_type": "stream",
       "stream": "stdout",
       "text": [
        "\n",
        "  2092  |    0.004504  |    0.005548  |     0.811939  |             |  9.4s"
       ]
      },
      {
       "output_type": "stream",
       "stream": "stdout",
       "text": [
        "\n",
        "  2093  |  \u001b[94m  0.004447\u001b[0m  |  \u001b[32m  0.005479\u001b[0m  |     0.811539  |             |  9.4s"
       ]
      },
      {
       "output_type": "stream",
       "stream": "stdout",
       "text": [
        "\n",
        "  2094  |    0.004509  |    0.005555  |     0.811769  |             |  9.4s"
       ]
      },
      {
       "output_type": "stream",
       "stream": "stdout",
       "text": [
        "\n",
        "  2095  |    0.004502  |    0.005538  |     0.812896  |             |  9.4s"
       ]
      },
      {
       "output_type": "stream",
       "stream": "stdout",
       "text": [
        "\n",
        "  2096  |    0.004482  |    0.005543  |     0.808559  |             |  9.4s"
       ]
      },
      {
       "output_type": "stream",
       "stream": "stdout",
       "text": [
        "\n",
        "  2097  |    0.004502  |    0.005545  |     0.811871  |             |  9.4s"
       ]
      },
      {
       "output_type": "stream",
       "stream": "stdout",
       "text": [
        "\n",
        "  2098  |    0.004472  |    0.005567  |     0.803365  |             |  9.4s"
       ]
      },
      {
       "output_type": "stream",
       "stream": "stdout",
       "text": [
        "\n",
        "  2099  |  \u001b[94m  0.004420\u001b[0m  |    0.005586  |     0.791124  |             |  9.4s"
       ]
      },
      {
       "output_type": "stream",
       "stream": "stdout",
       "text": [
        "\n",
        "  2100  |    0.004535  |    0.005585  |     0.811988  |             |  9.4s"
       ]
      },
      {
       "output_type": "stream",
       "stream": "stdout",
       "text": [
        "\n",
        "  2101  |    0.004452  |    0.005570  |     0.799358  |             |  9.4s"
       ]
      },
      {
       "output_type": "stream",
       "stream": "stdout",
       "text": [
        "\n",
        "  2102  |    0.004479  |    0.005508  |     0.813272  |             |  9.4s"
       ]
      },
      {
       "output_type": "stream",
       "stream": "stdout",
       "text": [
        "\n",
        "  2103  |    0.004525  |    0.005573  |     0.811984  |             |  9.4s"
       ]
      },
      {
       "output_type": "stream",
       "stream": "stdout",
       "text": [
        "\n",
        "  2104  |    0.004496  |    0.005635  |     0.797770  |             |  9.4s"
       ]
      },
      {
       "output_type": "stream",
       "stream": "stdout",
       "text": [
        "\n",
        "  2105  |    0.004440  |    0.005599  |     0.792868  |             |  9.4s"
       ]
      },
      {
       "output_type": "stream",
       "stream": "stdout",
       "text": [
        "\n",
        "  2106  |    0.004486  |    0.005612  |     0.799308  |             |  9.4s"
       ]
      },
      {
       "output_type": "stream",
       "stream": "stdout",
       "text": [
        "\n",
        "  2107  |    0.004504  |    0.005527  |     0.814946  |             |  9.4s"
       ]
      },
      {
       "output_type": "stream",
       "stream": "stdout",
       "text": [
        "\n",
        "  2108  |    0.004515  |    0.005507  |     0.819869  |             |  9.4s"
       ]
      },
      {
       "output_type": "stream",
       "stream": "stdout",
       "text": [
        "\n",
        "  2109  |    0.004528  |    0.005597  |     0.808992  |             |  9.4s"
       ]
      },
      {
       "output_type": "stream",
       "stream": "stdout",
       "text": [
        "\n",
        "  2110  |    0.004441  |    0.005540  |     0.801609  |             |  9.4s"
       ]
      },
      {
       "output_type": "stream",
       "stream": "stdout",
       "text": [
        "\n",
        "  2111  |    0.004501  |    0.005547  |     0.811408  |             |  9.4s"
       ]
      },
      {
       "output_type": "stream",
       "stream": "stdout",
       "text": [
        "\n",
        "  2112  |    0.004453  |    0.005537  |     0.804227  |             |  9.4s"
       ]
      },
      {
       "output_type": "stream",
       "stream": "stdout",
       "text": [
        "\n",
        "  2113  |    0.004454  |    0.005566  |     0.800335  |             |  9.4s"
       ]
      },
      {
       "output_type": "stream",
       "stream": "stdout",
       "text": [
        "\n",
        "  2114  |    0.004443  |    0.005542  |     0.801633  |             |  9.4s"
       ]
      },
      {
       "output_type": "stream",
       "stream": "stdout",
       "text": [
        "\n",
        "  2115  |    0.004444  |    0.005615  |     0.791480  |             |  9.4s"
       ]
      },
      {
       "output_type": "stream",
       "stream": "stdout",
       "text": [
        "\n",
        "  2116  |    0.004452  |    0.005565  |     0.799931  |             |  9.4s"
       ]
      },
      {
       "output_type": "stream",
       "stream": "stdout",
       "text": [
        "\n",
        "  2117  |    0.004439  |    0.005600  |     0.792657  |             |  9.4s"
       ]
      },
      {
       "output_type": "stream",
       "stream": "stdout",
       "text": [
        "\n",
        "  2118  |  \u001b[94m  0.004386\u001b[0m  |    0.005591  |     0.784555  |             |  9.4s"
       ]
      },
      {
       "output_type": "stream",
       "stream": "stdout",
       "text": [
        "\n",
        "  2119  |  \u001b[94m  0.004356\u001b[0m  |    0.005584  |     0.780102  |             |  9.4s"
       ]
      },
      {
       "output_type": "stream",
       "stream": "stdout",
       "text": [
        "\n",
        "  2120  |    0.004480  |    0.005559  |     0.805914  |             |  9.4s"
       ]
      },
      {
       "output_type": "stream",
       "stream": "stdout",
       "text": [
        "\n",
        "  2121  |    0.004449  |    0.005581  |     0.797175  |             |  9.4s"
       ]
      },
      {
       "output_type": "stream",
       "stream": "stdout",
       "text": [
        "\n",
        "  2122  |    0.004419  |    0.005558  |     0.795125  |             |  9.4s"
       ]
      },
      {
       "output_type": "stream",
       "stream": "stdout",
       "text": [
        "\n",
        "  2123  |    0.004445  |    0.005606  |     0.792900  |             |  9.4s"
       ]
      },
      {
       "output_type": "stream",
       "stream": "stdout",
       "text": [
        "\n",
        "  2124  |    0.004445  |    0.005614  |     0.791753  |             |  9.4s"
       ]
      },
      {
       "output_type": "stream",
       "stream": "stdout",
       "text": [
        "\n",
        "  2125  |    0.004423  |    0.005510  |     0.802789  |             |  9.4s"
       ]
      },
      {
       "output_type": "stream",
       "stream": "stdout",
       "text": [
        "\n",
        "  2126  |    0.004458  |    0.005568  |     0.800639  |             |  9.4s"
       ]
      },
      {
       "output_type": "stream",
       "stream": "stdout",
       "text": [
        "\n",
        "  2127  |    0.004393  |    0.005586  |     0.786448  |             |  9.4s"
       ]
      },
      {
       "output_type": "stream",
       "stream": "stdout",
       "text": [
        "\n",
        "  2128  |    0.004458  |    0.005581  |     0.798733  |             |  9.4s"
       ]
      },
      {
       "output_type": "stream",
       "stream": "stdout",
       "text": [
        "\n",
        "  2129  |    0.004474  |    0.005528  |     0.809298  |             |  9.4s"
       ]
      },
      {
       "output_type": "stream",
       "stream": "stdout",
       "text": [
        "\n",
        "  2130  |    0.004414  |    0.005552  |     0.795035  |             |  9.4s"
       ]
      },
      {
       "output_type": "stream",
       "stream": "stdout",
       "text": [
        "\n",
        "  2131  |    0.004405  |    0.005595  |     0.787268  |             |  9.4s"
       ]
      },
      {
       "output_type": "stream",
       "stream": "stdout",
       "text": [
        "\n",
        "  2132  |    0.004440  |    0.005592  |     0.794055  |             |  9.4s"
       ]
      },
      {
       "output_type": "stream",
       "stream": "stdout",
       "text": [
        "\n",
        "  2133  |    0.004446  |    0.005561  |     0.799560  |             |  9.4s"
       ]
      },
      {
       "output_type": "stream",
       "stream": "stdout",
       "text": [
        "\n",
        "  2134  |    0.004389  |    0.005548  |     0.791073  |             |  9.4s"
       ]
      },
      {
       "output_type": "stream",
       "stream": "stdout",
       "text": [
        "\n",
        "  2135  |    0.004372  |    0.005554  |     0.787234  |             |  9.4s"
       ]
      },
      {
       "output_type": "stream",
       "stream": "stdout",
       "text": [
        "\n",
        "  2136  |    0.004462  |    0.005545  |     0.804649  |             |  9.4s"
       ]
      },
      {
       "output_type": "stream",
       "stream": "stdout",
       "text": [
        "\n",
        "  2137  |    0.004452  |    0.005575  |     0.798463  |             |  9.4s"
       ]
      },
      {
       "output_type": "stream",
       "stream": "stdout",
       "text": [
        "\n",
        "  2138  |    0.004443  |    0.005590  |     0.794722  |             |  9.4s"
       ]
      },
      {
       "output_type": "stream",
       "stream": "stdout",
       "text": [
        "\n",
        "  2139  |    0.004445  |    0.005505  |     0.807483  |             |  9.4s"
       ]
      },
      {
       "output_type": "stream",
       "stream": "stdout",
       "text": [
        "\n",
        "  2140  |    0.004400  |    0.005516  |     0.797716  |             |  9.4s"
       ]
      },
      {
       "output_type": "stream",
       "stream": "stdout",
       "text": [
        "\n",
        "  2141  |    0.004411  |    0.005562  |     0.793039  |             |  9.4s"
       ]
      },
      {
       "output_type": "stream",
       "stream": "stdout",
       "text": [
        "\n",
        "  2142  |    0.004413  |    0.005582  |     0.790635  |             |  9.4s"
       ]
      },
      {
       "output_type": "stream",
       "stream": "stdout",
       "text": [
        "\n",
        "  2143  |    0.004364  |    0.005550  |     0.786432  |             |  9.4s"
       ]
      },
      {
       "output_type": "stream",
       "stream": "stdout",
       "text": [
        "\n",
        "  2144  |    0.004391  |    0.005537  |     0.792915  |             |  9.4s"
       ]
      },
      {
       "output_type": "stream",
       "stream": "stdout",
       "text": [
        "\n",
        "  2145  |    0.004400  |    0.005525  |     0.796411  |             |  9.4s"
       ]
      },
      {
       "output_type": "stream",
       "stream": "stdout",
       "text": [
        "\n",
        "  2146  |    0.004400  |    0.005558  |     0.791693  |             |  9.4s"
       ]
      },
      {
       "output_type": "stream",
       "stream": "stdout",
       "text": [
        "\n",
        "  2147  |  \u001b[94m  0.004338\u001b[0m  |    0.005586  |     0.776468  |             |  9.4s"
       ]
      },
      {
       "output_type": "stream",
       "stream": "stdout",
       "text": [
        "\n",
        "  2148  |    0.004359  |    0.005554  |     0.784800  |             |  9.4s"
       ]
      },
      {
       "output_type": "stream",
       "stream": "stdout",
       "text": [
        "\n",
        "  2149  |    0.004357  |    0.005550  |     0.784995  |             |  9.4s"
       ]
      },
      {
       "output_type": "stream",
       "stream": "stdout",
       "text": [
        "\n",
        "  2150  |    0.004402  |    0.005545  |     0.793923  |             |  9.4s"
       ]
      },
      {
       "output_type": "stream",
       "stream": "stdout",
       "text": [
        "\n",
        "  2151  |    0.004436  |    0.005547  |     0.799806  |             |  9.4s"
       ]
      },
      {
       "output_type": "stream",
       "stream": "stdout",
       "text": [
        "\n",
        "  2152  |    0.004382  |    0.005534  |     0.791757  |             |  9.4s"
       ]
      },
      {
       "output_type": "stream",
       "stream": "stdout",
       "text": [
        "\n",
        "  2153  |    0.004363  |    0.005517  |     0.790866  |             |  9.4s"
       ]
      },
      {
       "output_type": "stream",
       "stream": "stdout",
       "text": [
        "\n",
        "  2154  |    0.004390  |    0.005560  |     0.789587  |             |  9.4s"
       ]
      },
      {
       "output_type": "stream",
       "stream": "stdout",
       "text": [
        "\n",
        "  2155  |    0.004384  |    0.005518  |     0.794444  |             |  9.4s"
       ]
      },
      {
       "output_type": "stream",
       "stream": "stdout",
       "text": [
        "\n",
        "  2156  |    0.004375  |    0.005494  |     0.796337  |             |  9.4s"
       ]
      },
      {
       "output_type": "stream",
       "stream": "stdout",
       "text": [
        "\n",
        "  2157  |  \u001b[94m  0.004334\u001b[0m  |    0.005521  |     0.784995  |             |  9.4s"
       ]
      },
      {
       "output_type": "stream",
       "stream": "stdout",
       "text": [
        "\n",
        "  2158  |    0.004412  |    0.005561  |     0.793373  |             |  9.4s"
       ]
      },
      {
       "output_type": "stream",
       "stream": "stdout",
       "text": [
        "\n",
        "  2159  |  \u001b[94m  0.004325\u001b[0m  |    0.005488  |     0.788109  |             |  9.4s"
       ]
      },
      {
       "output_type": "stream",
       "stream": "stdout",
       "text": [
        "\n",
        "  2160  |    0.004409  |    0.005497  |     0.802085  |             |  9.4s"
       ]
      },
      {
       "output_type": "stream",
       "stream": "stdout",
       "text": [
        "\n",
        "  2161  |    0.004341  |    0.005572  |     0.779092  |             |  9.4s"
       ]
      },
      {
       "output_type": "stream",
       "stream": "stdout",
       "text": [
        "\n",
        "  2162  |    0.004371  |    0.005535  |     0.789806  |             |  9.4s"
       ]
      },
      {
       "output_type": "stream",
       "stream": "stdout",
       "text": [
        "\n",
        "  2163  |    0.004337  |    0.005547  |     0.781827  |             |  9.4s"
       ]
      },
      {
       "output_type": "stream",
       "stream": "stdout",
       "text": [
        "\n",
        "  2164  |    0.004370  |    0.005575  |     0.783840  |             |  9.4s"
       ]
      },
      {
       "output_type": "stream",
       "stream": "stdout",
       "text": [
        "\n",
        "  2165  |    0.004374  |    0.005542  |     0.789191  |             |  9.4s"
       ]
      },
      {
       "output_type": "stream",
       "stream": "stdout",
       "text": [
        "\n",
        "  2166  |    0.004344  |    0.005527  |     0.786016  |             |  9.4s"
       ]
      },
      {
       "output_type": "stream",
       "stream": "stdout",
       "text": [
        "\n",
        "  2167  |    0.004397  |  \u001b[32m  0.005449\u001b[0m  |     0.806826  |             |  9.4s"
       ]
      },
      {
       "output_type": "stream",
       "stream": "stdout",
       "text": [
        "\n",
        "  2168  |    0.004329  |    0.005527  |     0.783147  |             |  9.4s"
       ]
      },
      {
       "output_type": "stream",
       "stream": "stdout",
       "text": [
        "\n",
        "  2169  |    0.004362  |    0.005529  |     0.788892  |             |  9.4s"
       ]
      },
      {
       "output_type": "stream",
       "stream": "stdout",
       "text": [
        "\n",
        "  2170  |    0.004377  |    0.005563  |     0.786759  |             |  9.4s"
       ]
      },
      {
       "output_type": "stream",
       "stream": "stdout",
       "text": [
        "\n",
        "  2171  |  \u001b[94m  0.004316\u001b[0m  |    0.005554  |     0.777157  |             |  9.4s"
       ]
      },
      {
       "output_type": "stream",
       "stream": "stdout",
       "text": [
        "\n",
        "  2172  |    0.004352  |    0.005546  |     0.784814  |             |  9.4s"
       ]
      },
      {
       "output_type": "stream",
       "stream": "stdout",
       "text": [
        "\n",
        "  2173  |  \u001b[94m  0.004305\u001b[0m  |    0.005547  |     0.775991  |             |  9.4s"
       ]
      },
      {
       "output_type": "stream",
       "stream": "stdout",
       "text": [
        "\n",
        "  2174  |    0.004326  |    0.005524  |     0.783070  |             |  9.4s"
       ]
      },
      {
       "output_type": "stream",
       "stream": "stdout",
       "text": [
        "\n",
        "  2175  |    0.004360  |    0.005524  |     0.789273  |             |  9.4s"
       ]
      },
      {
       "output_type": "stream",
       "stream": "stdout",
       "text": [
        "\n",
        "  2176  |    0.004375  |    0.005502  |     0.795238  |             |  9.4s"
       ]
      },
      {
       "output_type": "stream",
       "stream": "stdout",
       "text": [
        "\n",
        "  2177  |    0.004455  |    0.005545  |     0.803466  |             |  9.4s"
       ]
      },
      {
       "output_type": "stream",
       "stream": "stdout",
       "text": [
        "\n",
        "  2178  |  \u001b[94m  0.004290\u001b[0m  |    0.005518  |     0.777421  |             |  9.4s"
       ]
      },
      {
       "output_type": "stream",
       "stream": "stdout",
       "text": [
        "\n",
        "  2179  |    0.004387  |    0.005578  |     0.786479  |             |  9.4s"
       ]
      },
      {
       "output_type": "stream",
       "stream": "stdout",
       "text": [
        "\n",
        "  2180  |    0.004340  |    0.005638  |     0.769756  |             |  9.4s"
       ]
      },
      {
       "output_type": "stream",
       "stream": "stdout",
       "text": [
        "\n",
        "  2181  |    0.004335  |    0.005491  |     0.789415  |             |  9.4s"
       ]
      },
      {
       "output_type": "stream",
       "stream": "stdout",
       "text": [
        "\n",
        "  2182  |    0.004343  |    0.005601  |     0.775408  |             |  9.4s"
       ]
      },
      {
       "output_type": "stream",
       "stream": "stdout",
       "text": [
        "\n",
        "  2183  |    0.004345  |    0.005510  |     0.788624  |             |  9.4s"
       ]
      },
      {
       "output_type": "stream",
       "stream": "stdout",
       "text": [
        "\n",
        "  2184  |  \u001b[94m  0.004288\u001b[0m  |    0.005565  |     0.770525  |             |  9.4s"
       ]
      },
      {
       "output_type": "stream",
       "stream": "stdout",
       "text": [
        "\n",
        "  2185  |    0.004295  |    0.005522  |     0.777688  |             |  9.4s"
       ]
      },
      {
       "output_type": "stream",
       "stream": "stdout",
       "text": [
        "\n",
        "  2186  |    0.004367  |    0.005464  |     0.799316  |             |  9.4s"
       ]
      },
      {
       "output_type": "stream",
       "stream": "stdout",
       "text": [
        "\n",
        "  2187  |  \u001b[94m  0.004280\u001b[0m  |    0.005538  |     0.772740  |             |  9.4s"
       ]
      },
      {
       "output_type": "stream",
       "stream": "stdout",
       "text": [
        "\n",
        "  2188  |  \u001b[94m  0.004279\u001b[0m  |    0.005539  |     0.772592  |             |  9.4s"
       ]
      },
      {
       "output_type": "stream",
       "stream": "stdout",
       "text": [
        "\n",
        "  2189  |    0.004305  |    0.005509  |     0.781556  |             |  9.4s"
       ]
      },
      {
       "output_type": "stream",
       "stream": "stdout",
       "text": [
        "\n",
        "  2190  |    0.004305  |    0.005513  |     0.780754  |             |  9.4s"
       ]
      },
      {
       "output_type": "stream",
       "stream": "stdout",
       "text": [
        "\n",
        "  2191  |    0.004292  |    0.005492  |     0.781506  |             |  9.4s"
       ]
      },
      {
       "output_type": "stream",
       "stream": "stdout",
       "text": [
        "\n",
        "  2192  |  \u001b[94m  0.004236\u001b[0m  |    0.005555  |     0.762605  |             |  9.4s"
       ]
      },
      {
       "output_type": "stream",
       "stream": "stdout",
       "text": [
        "\n",
        "  2193  |    0.004344  |    0.005532  |     0.785160  |             |  9.4s"
       ]
      },
      {
       "output_type": "stream",
       "stream": "stdout",
       "text": [
        "\n",
        "  2194  |    0.004333  |    0.005516  |     0.785588  |             |  9.4s"
       ]
      },
      {
       "output_type": "stream",
       "stream": "stdout",
       "text": [
        "\n",
        "  2195  |    0.004288  |    0.005495  |     0.780261  |             |  9.4s"
       ]
      },
      {
       "output_type": "stream",
       "stream": "stdout",
       "text": [
        "\n",
        "  2196  |    0.004305  |    0.005484  |     0.785012  |             |  9.4s"
       ]
      },
      {
       "output_type": "stream",
       "stream": "stdout",
       "text": [
        "\n",
        "  2197  |    0.004304  |    0.005536  |     0.777387  |             |  9.4s"
       ]
      },
      {
       "output_type": "stream",
       "stream": "stdout",
       "text": [
        "\n",
        "  2198  |    0.004305  |    0.005515  |     0.780662  |             |  9.4s"
       ]
      },
      {
       "output_type": "stream",
       "stream": "stdout",
       "text": [
        "\n",
        "  2199  |    0.004281  |    0.005489  |     0.779787  |             |  9.4s"
       ]
      },
      {
       "output_type": "stream",
       "stream": "stdout",
       "text": [
        "\n",
        "  2200  |    0.004318  |    0.005492  |     0.786311  |             |  9.4s"
       ]
      },
      {
       "output_type": "stream",
       "stream": "stdout",
       "text": [
        "\n",
        "  2201  |    0.004309  |    0.005494  |     0.784286  |             |  9.4s"
       ]
      },
      {
       "output_type": "stream",
       "stream": "stdout",
       "text": [
        "\n",
        "  2202  |  \u001b[94m  0.004210\u001b[0m  |    0.005507  |     0.764606  |             |  9.4s"
       ]
      },
      {
       "output_type": "stream",
       "stream": "stdout",
       "text": [
        "\n",
        "  2203  |    0.004289  |    0.005582  |     0.768467  |             |  9.4s"
       ]
      },
      {
       "output_type": "stream",
       "stream": "stdout",
       "text": [
        "\n",
        "  2204  |    0.004213  |    0.005513  |     0.764165  |             |  9.4s"
       ]
      },
      {
       "output_type": "stream",
       "stream": "stdout",
       "text": [
        "\n",
        "  2205  |    0.004278  |    0.005536  |     0.772666  |             |  9.4s"
       ]
      },
      {
       "output_type": "stream",
       "stream": "stdout",
       "text": [
        "\n",
        "  2206  |    0.004305  |    0.005464  |     0.787840  |             |  9.4s"
       ]
      },
      {
       "output_type": "stream",
       "stream": "stdout",
       "text": [
        "\n",
        "  2207  |    0.004279  |    0.005503  |     0.777567  |             |  9.4s"
       ]
      },
      {
       "output_type": "stream",
       "stream": "stdout",
       "text": [
        "\n",
        "  2208  |    0.004317  |    0.005529  |     0.780782  |             |  9.4s"
       ]
      },
      {
       "output_type": "stream",
       "stream": "stdout",
       "text": [
        "\n",
        "  2209  |    0.004327  |    0.005457  |     0.793021  |             |  9.4s"
       ]
      },
      {
       "output_type": "stream",
       "stream": "stdout",
       "text": [
        "\n",
        "  2210  |    0.004263  |    0.005495  |     0.775864  |             |  9.4s"
       ]
      },
      {
       "output_type": "stream",
       "stream": "stdout",
       "text": [
        "\n",
        "  2211  |    0.004304  |    0.005539  |     0.777027  |             |  9.4s"
       ]
      },
      {
       "output_type": "stream",
       "stream": "stdout",
       "text": [
        "\n",
        "  2212  |    0.004296  |    0.005569  |     0.771427  |             |  9.4s"
       ]
      },
      {
       "output_type": "stream",
       "stream": "stdout",
       "text": [
        "\n",
        "  2213  |    0.004302  |    0.005547  |     0.775698  |             |  9.4s"
       ]
      },
      {
       "output_type": "stream",
       "stream": "stdout",
       "text": [
        "\n",
        "  2214  |    0.004300  |    0.005500  |     0.781800  |             |  9.4s"
       ]
      },
      {
       "output_type": "stream",
       "stream": "stdout",
       "text": [
        "\n",
        "  2215  |    0.004258  |    0.005541  |     0.768416  |             |  9.4s"
       ]
      },
      {
       "output_type": "stream",
       "stream": "stdout",
       "text": [
        "\n",
        "  2216  |    0.004231  |    0.005566  |     0.760127  |             |  9.4s"
       ]
      },
      {
       "output_type": "stream",
       "stream": "stdout",
       "text": [
        "\n",
        "  2217  |    0.004279  |    0.005523  |     0.774665  |             |  9.4s"
       ]
      },
      {
       "output_type": "stream",
       "stream": "stdout",
       "text": [
        "\n",
        "  2218  |    0.004248  |    0.005501  |     0.772084  |             |  9.4s"
       ]
      },
      {
       "output_type": "stream",
       "stream": "stdout",
       "text": [
        "\n",
        "  2219  |    0.004268  |    0.005515  |     0.773965  |             |  9.4s"
       ]
      },
      {
       "output_type": "stream",
       "stream": "stdout",
       "text": [
        "\n",
        "  2220  |    0.004299  |    0.005477  |     0.784877  |             |  9.4s"
       ]
      },
      {
       "output_type": "stream",
       "stream": "stdout",
       "text": [
        "\n",
        "  2221  |    0.004280  |    0.005453  |     0.784901  |             |  9.4s"
       ]
      },
      {
       "output_type": "stream",
       "stream": "stdout",
       "text": [
        "\n",
        "  2222  |    0.004297  |    0.005562  |     0.772603  |             |  9.4s"
       ]
      },
      {
       "output_type": "stream",
       "stream": "stdout",
       "text": [
        "\n",
        "  2223  |    0.004296  |    0.005501  |     0.781008  |             |  9.4s"
       ]
      },
      {
       "output_type": "stream",
       "stream": "stdout",
       "text": [
        "\n",
        "  2224  |    0.004271  |    0.005451  |     0.783459  |             |  9.4s"
       ]
      },
      {
       "output_type": "stream",
       "stream": "stdout",
       "text": [
        "\n",
        "  2225  |    0.004227  |    0.005464  |     0.773533  |             |  9.4s"
       ]
      },
      {
       "output_type": "stream",
       "stream": "stdout",
       "text": [
        "\n",
        "  2226  |    0.004274  |    0.005560  |     0.768825  |             |  9.4s"
       ]
      },
      {
       "output_type": "stream",
       "stream": "stdout",
       "text": [
        "\n",
        "  2227  |    0.004248  |    0.005499  |     0.772405  |             |  9.4s"
       ]
      },
      {
       "output_type": "stream",
       "stream": "stdout",
       "text": [
        "\n",
        "  2228  |    0.004284  |    0.005513  |     0.777098  |             |  9.4s"
       ]
      },
      {
       "output_type": "stream",
       "stream": "stdout",
       "text": [
        "\n",
        "  2229  |    0.004268  |    0.005473  |     0.779768  |             |  9.4s"
       ]
      },
      {
       "output_type": "stream",
       "stream": "stdout",
       "text": [
        "\n",
        "  2230  |    0.004223  |    0.005502  |     0.767598  |             |  9.4s"
       ]
      },
      {
       "output_type": "stream",
       "stream": "stdout",
       "text": [
        "\n",
        "  2231  |    0.004248  |    0.005594  |     0.759503  |             |  9.4s"
       ]
      },
      {
       "output_type": "stream",
       "stream": "stdout",
       "text": [
        "\n",
        "  2232  |  \u001b[94m  0.004205\u001b[0m  |    0.005526  |     0.760861  |             |  9.4s"
       ]
      },
      {
       "output_type": "stream",
       "stream": "stdout",
       "text": [
        "\n",
        "  2233  |    0.004289  |    0.005516  |     0.777634  |             |  9.4s"
       ]
      },
      {
       "output_type": "stream",
       "stream": "stdout",
       "text": [
        "\n",
        "  2234  |    0.004276  |    0.005528  |     0.773586  |             |  9.4s"
       ]
      },
      {
       "output_type": "stream",
       "stream": "stdout",
       "text": [
        "\n",
        "  2235  |    0.004248  |    0.005567  |     0.763192  |             |  9.4s"
       ]
      },
      {
       "output_type": "stream",
       "stream": "stdout",
       "text": [
        "\n",
        "  2236  |    0.004252  |    0.005519  |     0.770411  |             |  9.4s"
       ]
      },
      {
       "output_type": "stream",
       "stream": "stdout",
       "text": [
        "\n",
        "  2237  |    0.004245  |    0.005575  |     0.761382  |             |  9.4s"
       ]
      },
      {
       "output_type": "stream",
       "stream": "stdout",
       "text": [
        "\n",
        "  2238  |    0.004305  |    0.005472  |     0.786841  |             |  9.4s"
       ]
      },
      {
       "output_type": "stream",
       "stream": "stdout",
       "text": [
        "\n",
        "  2239  |  \u001b[94m  0.004180\u001b[0m  |    0.005517  |     0.757755  |             |  9.4s"
       ]
      },
      {
       "output_type": "stream",
       "stream": "stdout",
       "text": [
        "\n",
        "  2240  |    0.004238  |    0.005527  |     0.766770  |             |  9.4s"
       ]
      },
      {
       "output_type": "stream",
       "stream": "stdout",
       "text": [
        "\n",
        "  2241  |    0.004236  |    0.005524  |     0.766805  |             |  9.4s"
       ]
      },
      {
       "output_type": "stream",
       "stream": "stdout",
       "text": [
        "\n",
        "  2242  |    0.004213  |    0.005469  |     0.770233  |             |  9.4s"
       ]
      },
      {
       "output_type": "stream",
       "stream": "stdout",
       "text": [
        "\n",
        "  2243  |    0.004204  |    0.005543  |     0.758517  |             |  9.4s"
       ]
      },
      {
       "output_type": "stream",
       "stream": "stdout",
       "text": [
        "\n",
        "  2244  |    0.004216  |    0.005527  |     0.762887  |             |  9.4s"
       ]
      },
      {
       "output_type": "stream",
       "stream": "stdout",
       "text": [
        "\n",
        "  2245  |    0.004225  |    0.005522  |     0.765023  |             |  9.4s"
       ]
      },
      {
       "output_type": "stream",
       "stream": "stdout",
       "text": [
        "\n",
        "  2246  |    0.004227  |    0.005563  |     0.759934  |             |  9.4s"
       ]
      },
      {
       "output_type": "stream",
       "stream": "stdout",
       "text": [
        "\n",
        "  2247  |    0.004230  |    0.005597  |     0.755716  |             |  9.4s"
       ]
      },
      {
       "output_type": "stream",
       "stream": "stdout",
       "text": [
        "\n",
        "  2248  |    0.004205  |    0.005488  |     0.766176  |             |  9.4s"
       ]
      },
      {
       "output_type": "stream",
       "stream": "stdout",
       "text": [
        "\n",
        "  2249  |    0.004279  |    0.005479  |     0.780984  |             |  9.4s"
       ]
      },
      {
       "output_type": "stream",
       "stream": "stdout",
       "text": [
        "\n",
        "  2250  |    0.004273  |    0.005497  |     0.777322  |             |  9.4s"
       ]
      },
      {
       "output_type": "stream",
       "stream": "stdout",
       "text": [
        "\n",
        "  2251  |    0.004192  |    0.005530  |     0.758125  |             |  9.4s"
       ]
      },
      {
       "output_type": "stream",
       "stream": "stdout",
       "text": [
        "\n",
        "  2252  |    0.004268  |    0.005485  |     0.778082  |             |  9.4s"
       ]
      },
      {
       "output_type": "stream",
       "stream": "stdout",
       "text": [
        "\n",
        "  2253  |    0.004209  |    0.005515  |     0.763148  |             |  9.4s"
       ]
      },
      {
       "output_type": "stream",
       "stream": "stdout",
       "text": [
        "\n",
        "  2254  |  \u001b[94m  0.004156\u001b[0m  |    0.005467  |     0.760161  |             |  9.4s"
       ]
      },
      {
       "output_type": "stream",
       "stream": "stdout",
       "text": [
        "\n",
        "  2255  |    0.004224  |  \u001b[32m  0.005446\u001b[0m  |     0.775698  |             |  9.4s"
       ]
      },
      {
       "output_type": "stream",
       "stream": "stdout",
       "text": [
        "\n",
        "  2256  |    0.004212  |    0.005498  |     0.766078  |             |  9.4s"
       ]
      },
      {
       "output_type": "stream",
       "stream": "stdout",
       "text": [
        "\n",
        "  2257  |    0.004197  |    0.005522  |     0.760205  |             |  9.4s"
       ]
      },
      {
       "output_type": "stream",
       "stream": "stdout",
       "text": [
        "\n",
        "  2258  |    0.004240  |    0.005507  |     0.769846  |             |  9.4s"
       ]
      },
      {
       "output_type": "stream",
       "stream": "stdout",
       "text": [
        "\n",
        "  2259  |    0.004184  |    0.005567  |     0.751495  |             |  9.4s"
       ]
      },
      {
       "output_type": "stream",
       "stream": "stdout",
       "text": [
        "\n",
        "  2260  |    0.004220  |    0.005489  |     0.768773  |             |  9.4s"
       ]
      },
      {
       "output_type": "stream",
       "stream": "stdout",
       "text": [
        "\n",
        "  2261  |    0.004234  |    0.005561  |     0.761416  |             |  9.4s"
       ]
      },
      {
       "output_type": "stream",
       "stream": "stdout",
       "text": [
        "\n",
        "  2262  |  \u001b[94m  0.004143\u001b[0m  |    0.005486  |     0.755144  |             |  9.4s"
       ]
      },
      {
       "output_type": "stream",
       "stream": "stdout",
       "text": [
        "\n",
        "  2263  |    0.004175  |    0.005451  |     0.765859  |             |  9.4s"
       ]
      },
      {
       "output_type": "stream",
       "stream": "stdout",
       "text": [
        "\n",
        "  2264  |    0.004241  |    0.005503  |     0.770775  |             |  9.4s"
       ]
      },
      {
       "output_type": "stream",
       "stream": "stdout",
       "text": [
        "\n",
        "  2265  |    0.004187  |    0.005551  |     0.754191  |             |  9.4s"
       ]
      },
      {
       "output_type": "stream",
       "stream": "stdout",
       "text": [
        "\n",
        "  2266  |    0.004217  |    0.005467  |     0.771211  |             |  9.4s"
       ]
      },
      {
       "output_type": "stream",
       "stream": "stdout",
       "text": [
        "\n",
        "  2267  |    0.004171  |    0.005462  |     0.763701  |             |  9.4s"
       ]
      },
      {
       "output_type": "stream",
       "stream": "stdout",
       "text": [
        "\n",
        "  2268  |    0.004146  |  \u001b[32m  0.005423\u001b[0m  |     0.764603  |             |  9.4s"
       ]
      },
      {
       "output_type": "stream",
       "stream": "stdout",
       "text": [
        "\n",
        "  2269  |  \u001b[94m  0.004099\u001b[0m  |    0.005517  |     0.742963  |             |  9.4s"
       ]
      },
      {
       "output_type": "stream",
       "stream": "stdout",
       "text": [
        "\n",
        "  2270  |    0.004179  |    0.005541  |     0.754105  |             |  9.4s"
       ]
      },
      {
       "output_type": "stream",
       "stream": "stdout",
       "text": [
        "\n",
        "  2271  |    0.004160  |    0.005498  |     0.756686  |             |  9.4s"
       ]
      },
      {
       "output_type": "stream",
       "stream": "stdout",
       "text": [
        "\n",
        "  2272  |  \u001b[94m  0.004087\u001b[0m  |    0.005455  |     0.749136  |             |  9.4s"
       ]
      },
      {
       "output_type": "stream",
       "stream": "stdout",
       "text": [
        "\n",
        "  2273  |    0.004161  |    0.005476  |     0.759876  |             |  9.4s"
       ]
      },
      {
       "output_type": "stream",
       "stream": "stdout",
       "text": [
        "\n",
        "  2274  |    0.004113  |    0.005467  |     0.752248  |             |  9.4s"
       ]
      },
      {
       "output_type": "stream",
       "stream": "stdout",
       "text": [
        "\n",
        "  2275  |    0.004124  |    0.005475  |     0.753165  |             |  9.4s"
       ]
      },
      {
       "output_type": "stream",
       "stream": "stdout",
       "text": [
        "\n",
        "  2276  |    0.004168  |    0.005486  |     0.759721  |             |  9.4s"
       ]
      },
      {
       "output_type": "stream",
       "stream": "stdout",
       "text": [
        "\n",
        "  2277  |    0.004103  |    0.005474  |     0.749646  |             |  9.4s"
       ]
      },
      {
       "output_type": "stream",
       "stream": "stdout",
       "text": [
        "\n",
        "  2278  |    0.004179  |    0.005487  |     0.761677  |             |  9.4s"
       ]
      },
      {
       "output_type": "stream",
       "stream": "stdout",
       "text": [
        "\n",
        "  2279  |    0.004125  |    0.005501  |     0.749954  |             |  9.4s"
       ]
      },
      {
       "output_type": "stream",
       "stream": "stdout",
       "text": [
        "\n",
        "  2280  |    0.004127  |    0.005477  |     0.753471  |             |  9.4s"
       ]
      },
      {
       "output_type": "stream",
       "stream": "stdout",
       "text": [
        "\n",
        "  2281  |    0.004153  |    0.005457  |     0.761081  |             |  9.4s"
       ]
      },
      {
       "output_type": "stream",
       "stream": "stdout",
       "text": [
        "\n",
        "  2282  |    0.004132  |    0.005494  |     0.752123  |             |  9.4s"
       ]
      },
      {
       "output_type": "stream",
       "stream": "stdout",
       "text": [
        "\n",
        "  2283  |    0.004192  |    0.005531  |     0.757933  |             |  9.4s"
       ]
      },
      {
       "output_type": "stream",
       "stream": "stdout",
       "text": [
        "\n",
        "  2284  |    0.004137  |    0.005519  |     0.749554  |             |  9.4s"
       ]
      },
      {
       "output_type": "stream",
       "stream": "stdout",
       "text": [
        "\n",
        "  2285  |    0.004196  |    0.005451  |     0.769777  |             |  9.4s"
       ]
      },
      {
       "output_type": "stream",
       "stream": "stdout",
       "text": [
        "\n",
        "  2286  |  \u001b[94m  0.004072\u001b[0m  |    0.005452  |     0.746787  |             |  9.4s"
       ]
      },
      {
       "output_type": "stream",
       "stream": "stdout",
       "text": [
        "\n",
        "  2287  |    0.004132  |    0.005585  |     0.739940  |             |  9.4s"
       ]
      },
      {
       "output_type": "stream",
       "stream": "stdout",
       "text": [
        "\n",
        "  2288  |    0.004198  |    0.005472  |     0.767179  |             |  9.4s"
       ]
      },
      {
       "output_type": "stream",
       "stream": "stdout",
       "text": [
        "\n",
        "  2289  |    0.004152  |    0.005510  |     0.753680  |             |  9.4s"
       ]
      },
      {
       "output_type": "stream",
       "stream": "stdout",
       "text": [
        "\n",
        "  2290  |    0.004170  |    0.005509  |     0.756841  |             |  9.4s"
       ]
      },
      {
       "output_type": "stream",
       "stream": "stdout",
       "text": [
        "\n",
        "  2291  |    0.004157  |    0.005436  |     0.764795  |             |  9.4s"
       ]
      },
      {
       "output_type": "stream",
       "stream": "stdout",
       "text": [
        "\n",
        "  2292  |    0.004122  |    0.005540  |     0.744166  |             |  9.4s"
       ]
      },
      {
       "output_type": "stream",
       "stream": "stdout",
       "text": [
        "\n",
        "  2293  |    0.004137  |    0.005518  |     0.749641  |             |  9.4s"
       ]
      },
      {
       "output_type": "stream",
       "stream": "stdout",
       "text": [
        "\n",
        "  2294  |    0.004100  |    0.005505  |     0.744765  |             |  9.4s"
       ]
      },
      {
       "output_type": "stream",
       "stream": "stdout",
       "text": [
        "\n",
        "  2295  |  \u001b[94m  0.004071\u001b[0m  |    0.005487  |     0.741907  |             |  9.4s"
       ]
      },
      {
       "output_type": "stream",
       "stream": "stdout",
       "text": [
        "\n",
        "  2296  |    0.004168  |    0.005506  |     0.757047  |             |  9.4s"
       ]
      },
      {
       "output_type": "stream",
       "stream": "stdout",
       "text": [
        "\n",
        "  2297  |    0.004164  |    0.005543  |     0.751127  |             |  9.4s"
       ]
      },
      {
       "output_type": "stream",
       "stream": "stdout",
       "text": [
        "\n",
        "  2298  |    0.004148  |    0.005474  |     0.757822  |             |  9.4s"
       ]
      },
      {
       "output_type": "stream",
       "stream": "stdout",
       "text": [
        "\n",
        "  2299  |    0.004076  |    0.005468  |     0.745374  |             |  9.4s"
       ]
      },
      {
       "output_type": "stream",
       "stream": "stdout",
       "text": [
        "\n",
        "  2300  |    0.004149  |    0.005508  |     0.753318  |             |  9.4s"
       ]
      },
      {
       "output_type": "stream",
       "stream": "stdout",
       "text": [
        "\n",
        "  2301  |    0.004115  |    0.005488  |     0.749829  |             |  9.4s"
       ]
      },
      {
       "output_type": "stream",
       "stream": "stdout",
       "text": [
        "\n",
        "  2302  |    0.004071  |    0.005567  |     0.731311  |             |  9.4s"
       ]
      },
      {
       "output_type": "stream",
       "stream": "stdout",
       "text": [
        "\n",
        "  2303  |    0.004127  |    0.005492  |     0.751443  |             |  9.4s"
       ]
      },
      {
       "output_type": "stream",
       "stream": "stdout",
       "text": [
        "\n",
        "  2304  |    0.004197  |    0.005461  |     0.768610  |             |  9.4s"
       ]
      },
      {
       "output_type": "stream",
       "stream": "stdout",
       "text": [
        "\n",
        "  2305  |    0.004138  |    0.005544  |     0.746478  |             |  9.4s"
       ]
      },
      {
       "output_type": "stream",
       "stream": "stdout",
       "text": [
        "\n",
        "  2306  |  \u001b[94m  0.004044\u001b[0m  |    0.005461  |     0.740562  |             |  9.4s"
       ]
      },
      {
       "output_type": "stream",
       "stream": "stdout",
       "text": [
        "\n",
        "  2307  |    0.004126  |    0.005515  |     0.748153  |             |  9.4s"
       ]
      },
      {
       "output_type": "stream",
       "stream": "stdout",
       "text": [
        "\n",
        "  2308  |    0.004087  |    0.005566  |     0.734264  |             |  9.4s"
       ]
      },
      {
       "output_type": "stream",
       "stream": "stdout",
       "text": [
        "\n",
        "  2309  |    0.004103  |    0.005555  |     0.738715  |             |  9.4s"
       ]
      },
      {
       "output_type": "stream",
       "stream": "stdout",
       "text": [
        "\n",
        "  2310  |    0.004118  |    0.005527  |     0.745135  |             |  9.4s"
       ]
      },
      {
       "output_type": "stream",
       "stream": "stdout",
       "text": [
        "\n",
        "  2311  |    0.004107  |    0.005431  |     0.756151  |             |  9.4s"
       ]
      },
      {
       "output_type": "stream",
       "stream": "stdout",
       "text": [
        "\n",
        "  2312  |    0.004092  |    0.005516  |     0.741691  |             |  9.4s"
       ]
      },
      {
       "output_type": "stream",
       "stream": "stdout",
       "text": [
        "\n",
        "  2313  |    0.004076  |    0.005481  |     0.743697  |             |  9.4s"
       ]
      },
      {
       "output_type": "stream",
       "stream": "stdout",
       "text": [
        "\n",
        "  2314  |    0.004063  |    0.005557  |     0.731253  |             |  9.4s"
       ]
      },
      {
       "output_type": "stream",
       "stream": "stdout",
       "text": [
        "\n",
        "  2315  |    0.004121  |    0.005509  |     0.747932  |             |  9.4s"
       ]
      },
      {
       "output_type": "stream",
       "stream": "stdout",
       "text": [
        "\n",
        "  2316  |    0.004155  |    0.005523  |     0.752261  |             |  9.4s"
       ]
      },
      {
       "output_type": "stream",
       "stream": "stdout",
       "text": [
        "\n",
        "  2317  |    0.004130  |    0.005467  |     0.755387  |             |  9.4s"
       ]
      },
      {
       "output_type": "stream",
       "stream": "stdout",
       "text": [
        "\n",
        "  2318  |    0.004083  |    0.005463  |     0.747481  |             |  9.4s"
       ]
      },
      {
       "output_type": "stream",
       "stream": "stdout",
       "text": [
        "\n",
        "  2319  |    0.004099  |    0.005453  |     0.751613  |             |  9.4s"
       ]
      },
      {
       "output_type": "stream",
       "stream": "stdout",
       "text": [
        "\n",
        "  2320  |  \u001b[94m  0.004019\u001b[0m  |    0.005465  |     0.735424  |             |  9.4s"
       ]
      },
      {
       "output_type": "stream",
       "stream": "stdout",
       "text": [
        "\n",
        "  2321  |    0.004109  |    0.005455  |     0.753379  |             |  9.4s"
       ]
      },
      {
       "output_type": "stream",
       "stream": "stdout",
       "text": [
        "\n",
        "  2322  |    0.004076  |    0.005454  |     0.747325  |             |  9.4s"
       ]
      },
      {
       "output_type": "stream",
       "stream": "stdout",
       "text": [
        "\n",
        "  2323  |    0.004090  |    0.005505  |     0.742915  |             |  9.4s"
       ]
      },
      {
       "output_type": "stream",
       "stream": "stdout",
       "text": [
        "\n",
        "  2324  |    0.004102  |    0.005492  |     0.746928  |             |  9.4s"
       ]
      },
      {
       "output_type": "stream",
       "stream": "stdout",
       "text": [
        "\n",
        "  2325  |    0.004066  |    0.005463  |     0.744314  |             |  9.4s"
       ]
      },
      {
       "output_type": "stream",
       "stream": "stdout",
       "text": [
        "\n",
        "  2326  |    0.004077  |    0.005478  |     0.744195  |             |  9.4s"
       ]
      },
      {
       "output_type": "stream",
       "stream": "stdout",
       "text": [
        "\n",
        "  2327  |    0.004098  |    0.005562  |     0.736796  |             |  9.4s"
       ]
      },
      {
       "output_type": "stream",
       "stream": "stdout",
       "text": [
        "\n",
        "  2328  |    0.004068  |    0.005451  |     0.746329  |             |  9.4s"
       ]
      },
      {
       "output_type": "stream",
       "stream": "stdout",
       "text": [
        "\n",
        "  2329  |    0.004087  |    0.005435  |     0.751912  |             |  9.4s"
       ]
      },
      {
       "output_type": "stream",
       "stream": "stdout",
       "text": [
        "\n",
        "  2330  |  \u001b[94m  0.004015\u001b[0m  |    0.005469  |     0.734011  |             |  9.4s"
       ]
      },
      {
       "output_type": "stream",
       "stream": "stdout",
       "text": [
        "\n",
        "  2331  |    0.004080  |    0.005468  |     0.746156  |             |  9.4s"
       ]
      },
      {
       "output_type": "stream",
       "stream": "stdout",
       "text": [
        "\n",
        "  2332  |    0.004100  |    0.005512  |     0.743846  |             |  9.4s"
       ]
      },
      {
       "output_type": "stream",
       "stream": "stdout",
       "text": [
        "\n",
        "  2333  |    0.004058  |    0.005494  |     0.738702  |             |  9.4s"
       ]
      },
      {
       "output_type": "stream",
       "stream": "stdout",
       "text": [
        "\n",
        "  2334  |    0.004106  |    0.005549  |     0.739855  |             |  9.4s"
       ]
      },
      {
       "output_type": "stream",
       "stream": "stdout",
       "text": [
        "\n",
        "  2335  |    0.004074  |    0.005495  |     0.741316  |             |  9.4s"
       ]
      },
      {
       "output_type": "stream",
       "stream": "stdout",
       "text": [
        "\n",
        "  2336  |    0.004035  |  \u001b[32m  0.005416\u001b[0m  |     0.744995  |             |  9.4s"
       ]
      },
      {
       "output_type": "stream",
       "stream": "stdout",
       "text": [
        "\n",
        "  2337  |  \u001b[94m  0.004012\u001b[0m  |    0.005458  |     0.735031  |             |  9.4s"
       ]
      },
      {
       "output_type": "stream",
       "stream": "stdout",
       "text": [
        "\n",
        "  2338  |    0.004109  |    0.005511  |     0.745609  |             |  9.4s"
       ]
      },
      {
       "output_type": "stream",
       "stream": "stdout",
       "text": [
        "\n",
        "  2339  |    0.004129  |    0.005527  |     0.747093  |             |  9.4s"
       ]
      },
      {
       "output_type": "stream",
       "stream": "stdout",
       "text": [
        "\n",
        "  2340  |    0.004049  |    0.005444  |     0.743726  |             |  9.4s"
       ]
      },
      {
       "output_type": "stream",
       "stream": "stdout",
       "text": [
        "\n",
        "  2341  |    0.004079  |    0.005505  |     0.740974  |             |  9.4s"
       ]
      },
      {
       "output_type": "stream",
       "stream": "stdout",
       "text": [
        "\n",
        "  2342  |    0.004076  |  \u001b[32m  0.005393\u001b[0m  |     0.755848  |             |  9.4s"
       ]
      },
      {
       "output_type": "stream",
       "stream": "stdout",
       "text": [
        "\n",
        "  2343  |    0.004081  |    0.005480  |     0.744738  |             |  9.4s"
       ]
      },
      {
       "output_type": "stream",
       "stream": "stdout",
       "text": [
        "\n",
        "  2344  |    0.004077  |    0.005490  |     0.742541  |             |  9.4s"
       ]
      },
      {
       "output_type": "stream",
       "stream": "stdout",
       "text": [
        "\n",
        "  2345  |    0.004061  |    0.005475  |     0.741840  |             |  9.4s"
       ]
      },
      {
       "output_type": "stream",
       "stream": "stdout",
       "text": [
        "\n",
        "  2346  |    0.004045  |    0.005508  |     0.734320  |             |  9.4s"
       ]
      },
      {
       "output_type": "stream",
       "stream": "stdout",
       "text": [
        "\n",
        "  2347  |  \u001b[94m  0.004001\u001b[0m  |    0.005458  |     0.733056  |             |  9.4s"
       ]
      },
      {
       "output_type": "stream",
       "stream": "stdout",
       "text": [
        "\n",
        "  2348  |    0.004015  |    0.005446  |     0.737216  |             |  9.4s"
       ]
      },
      {
       "output_type": "stream",
       "stream": "stdout",
       "text": [
        "\n",
        "  2349  |  \u001b[94m  0.003993\u001b[0m  |    0.005479  |     0.728739  |             |  9.4s"
       ]
      },
      {
       "output_type": "stream",
       "stream": "stdout",
       "text": [
        "\n",
        "  2350  |  \u001b[94m  0.003985\u001b[0m  |    0.005500  |     0.724569  |             |  9.4s"
       ]
      },
      {
       "output_type": "stream",
       "stream": "stdout",
       "text": [
        "\n",
        "  2351  |    0.003998  |    0.005420  |     0.737626  |             |  9.4s"
       ]
      },
      {
       "output_type": "stream",
       "stream": "stdout",
       "text": [
        "\n",
        "  2352  |    0.004084  |    0.005470  |     0.746556  |             |  9.4s"
       ]
      },
      {
       "output_type": "stream",
       "stream": "stdout",
       "text": [
        "\n",
        "  2353  |    0.004038  |    0.005481  |     0.736624  |             |  9.4s"
       ]
      },
      {
       "output_type": "stream",
       "stream": "stdout",
       "text": [
        "\n",
        "  2354  |    0.004076  |    0.005522  |     0.738202  |             |  9.4s"
       ]
      },
      {
       "output_type": "stream",
       "stream": "stdout",
       "text": [
        "\n",
        "  2355  |    0.004027  |    0.005535  |     0.727426  |             |  9.4s"
       ]
      },
      {
       "output_type": "stream",
       "stream": "stdout",
       "text": [
        "\n",
        "  2356  |  \u001b[94m  0.003943\u001b[0m  |    0.005481  |     0.719420  |             |  9.4s"
       ]
      },
      {
       "output_type": "stream",
       "stream": "stdout",
       "text": [
        "\n",
        "  2357  |    0.004004  |    0.005428  |     0.737795  |             |  9.4s"
       ]
      },
      {
       "output_type": "stream",
       "stream": "stdout",
       "text": [
        "\n",
        "  2358  |    0.004079  |    0.005466  |     0.746289  |             |  9.4s"
       ]
      },
      {
       "output_type": "stream",
       "stream": "stdout",
       "text": [
        "\n",
        "  2359  |    0.004070  |    0.005554  |     0.732887  |             |  9.4s"
       ]
      },
      {
       "output_type": "stream",
       "stream": "stdout",
       "text": [
        "\n",
        "  2360  |    0.004033  |    0.005476  |     0.736549  |             |  9.4s"
       ]
      },
      {
       "output_type": "stream",
       "stream": "stdout",
       "text": [
        "\n",
        "  2361  |    0.004066  |    0.005455  |     0.745447  |             |  9.4s"
       ]
      },
      {
       "output_type": "stream",
       "stream": "stdout",
       "text": [
        "\n",
        "  2362  |    0.003987  |    0.005448  |     0.731855  |             |  9.4s"
       ]
      },
      {
       "output_type": "stream",
       "stream": "stdout",
       "text": [
        "\n",
        "  2363  |    0.004066  |    0.005455  |     0.745357  |             |  9.4s"
       ]
      },
      {
       "output_type": "stream",
       "stream": "stdout",
       "text": [
        "\n",
        "  2364  |    0.004022  |    0.005497  |     0.731638  |             |  9.4s"
       ]
      },
      {
       "output_type": "stream",
       "stream": "stdout",
       "text": [
        "\n",
        "  2365  |    0.004008  |    0.005458  |     0.734337  |             |  9.4s"
       ]
      },
      {
       "output_type": "stream",
       "stream": "stdout",
       "text": [
        "\n",
        "  2366  |    0.004006  |    0.005462  |     0.733394  |             |  9.4s"
       ]
      },
      {
       "output_type": "stream",
       "stream": "stdout",
       "text": [
        "\n",
        "  2367  |    0.004047  |    0.005597  |     0.723040  |             |  9.4s"
       ]
      },
      {
       "output_type": "stream",
       "stream": "stdout",
       "text": [
        "\n",
        "  2368  |    0.003986  |    0.005463  |     0.729633  |             |  9.4s"
       ]
      },
      {
       "output_type": "stream",
       "stream": "stdout",
       "text": [
        "\n",
        "  2369  |    0.003981  |    0.005512  |     0.722232  |             |  9.4s"
       ]
      },
      {
       "output_type": "stream",
       "stream": "stdout",
       "text": [
        "\n",
        "  2370  |    0.003996  |    0.005410  |     0.738654  |             |  9.4s"
       ]
      },
      {
       "output_type": "stream",
       "stream": "stdout",
       "text": [
        "\n",
        "  2371  |    0.003965  |    0.005488  |     0.722426  |             |  9.4s"
       ]
      },
      {
       "output_type": "stream",
       "stream": "stdout",
       "text": [
        "\n",
        "  2372  |    0.003994  |    0.005439  |     0.734311  |             |  9.4s"
       ]
      },
      {
       "output_type": "stream",
       "stream": "stdout",
       "text": [
        "\n",
        "  2373  |    0.004068  |    0.005515  |     0.737601  |             |  9.4s"
       ]
      },
      {
       "output_type": "stream",
       "stream": "stdout",
       "text": [
        "\n",
        "  2374  |    0.004009  |    0.005489  |     0.730463  |             |  9.4s"
       ]
      },
      {
       "output_type": "stream",
       "stream": "stdout",
       "text": [
        "\n",
        "  2375  |    0.003977  |    0.005462  |     0.728226  |             |  9.4s"
       ]
      },
      {
       "output_type": "stream",
       "stream": "stdout",
       "text": [
        "\n",
        "  2376  |    0.003982  |    0.005494  |     0.724859  |             |  9.4s"
       ]
      },
      {
       "output_type": "stream",
       "stream": "stdout",
       "text": [
        "\n",
        "  2377  |    0.004015  |    0.005446  |     0.737338  |             |  9.4s"
       ]
      },
      {
       "output_type": "stream",
       "stream": "stdout",
       "text": [
        "\n",
        "  2378  |  \u001b[94m  0.003923\u001b[0m  |    0.005484  |     0.715362  |             |  9.4s"
       ]
      },
      {
       "output_type": "stream",
       "stream": "stdout",
       "text": [
        "\n",
        "  2379  |    0.003984  |    0.005476  |     0.727488  |             |  9.4s"
       ]
      },
      {
       "output_type": "stream",
       "stream": "stdout",
       "text": [
        "\n",
        "  2380  |    0.003976  |    0.005450  |     0.729584  |             |  9.4s"
       ]
      },
      {
       "output_type": "stream",
       "stream": "stdout",
       "text": [
        "\n",
        "  2381  |    0.004043  |    0.005469  |     0.739171  |             |  9.4s"
       ]
      },
      {
       "output_type": "stream",
       "stream": "stdout",
       "text": [
        "\n",
        "  2382  |    0.003939  |    0.005432  |     0.725180  |             |  9.4s"
       ]
      },
      {
       "output_type": "stream",
       "stream": "stdout",
       "text": [
        "\n",
        "  2383  |    0.004026  |    0.005553  |     0.724930  |             |  9.4s"
       ]
      },
      {
       "output_type": "stream",
       "stream": "stdout",
       "text": [
        "\n",
        "  2384  |    0.004027  |    0.005466  |     0.736624  |             |  9.4s"
       ]
      },
      {
       "output_type": "stream",
       "stream": "stdout",
       "text": [
        "\n",
        "  2385  |    0.003998  |    0.005478  |     0.729760  |             |  9.4s"
       ]
      },
      {
       "output_type": "stream",
       "stream": "stdout",
       "text": [
        "\n",
        "  2386  |    0.003999  |    0.005457  |     0.732807  |             |  9.4s"
       ]
      },
      {
       "output_type": "stream",
       "stream": "stdout",
       "text": [
        "\n",
        "  2387  |    0.003971  |    0.005416  |     0.733088  |             |  9.4s"
       ]
      },
      {
       "output_type": "stream",
       "stream": "stdout",
       "text": [
        "\n",
        "  2388  |    0.003982  |    0.005395  |     0.738157  |             |  9.4s"
       ]
      },
      {
       "output_type": "stream",
       "stream": "stdout",
       "text": [
        "\n",
        "  2389  |    0.003983  |    0.005533  |     0.719867  |             |  9.4s"
       ]
      },
      {
       "output_type": "stream",
       "stream": "stdout",
       "text": [
        "\n",
        "  2390  |    0.003995  |    0.005458  |     0.731985  |             |  9.4s"
       ]
      },
      {
       "output_type": "stream",
       "stream": "stdout",
       "text": [
        "\n",
        "  2391  |  \u001b[94m  0.003916\u001b[0m  |    0.005468  |     0.716238  |             |  9.4s"
       ]
      },
      {
       "output_type": "stream",
       "stream": "stdout",
       "text": [
        "\n",
        "  2392  |    0.003998  |    0.005424  |     0.737185  |             |  9.4s"
       ]
      },
      {
       "output_type": "stream",
       "stream": "stdout",
       "text": [
        "\n",
        "  2393  |    0.004004  |    0.005470  |     0.732019  |             |  9.4s"
       ]
      },
      {
       "output_type": "stream",
       "stream": "stdout",
       "text": [
        "\n",
        "  2394  |    0.003993  |    0.005427  |     0.735840  |             |  9.4s"
       ]
      },
      {
       "output_type": "stream",
       "stream": "stdout",
       "text": [
        "\n",
        "  2395  |    0.003998  |    0.005465  |     0.731569  |             |  9.4s"
       ]
      },
      {
       "output_type": "stream",
       "stream": "stdout",
       "text": [
        "\n",
        "  2396  |    0.004006  |    0.005447  |     0.735410  |             |  9.4s"
       ]
      },
      {
       "output_type": "stream",
       "stream": "stdout",
       "text": [
        "\n",
        "  2397  |    0.003993  |    0.005454  |     0.732166  |             |  9.4s"
       ]
      },
      {
       "output_type": "stream",
       "stream": "stdout",
       "text": [
        "\n",
        "  2398  |  \u001b[94m  0.003909\u001b[0m  |    0.005499  |     0.710938  |             |  9.4s"
       ]
      },
      {
       "output_type": "stream",
       "stream": "stdout",
       "text": [
        "\n",
        "  2399  |    0.004017  |    0.005465  |     0.735030  |             |  9.4s"
       ]
      },
      {
       "output_type": "stream",
       "stream": "stdout",
       "text": [
        "\n",
        "  2400  |    0.003985  |    0.005495  |     0.725148  |             |  9.4s"
       ]
      },
      {
       "output_type": "stream",
       "stream": "stdout",
       "text": [
        "\n",
        "  2401  |  \u001b[94m  0.003904\u001b[0m  |    0.005471  |     0.713608  |             |  9.4s"
       ]
      },
      {
       "output_type": "stream",
       "stream": "stdout",
       "text": [
        "\n",
        "  2402  |    0.004015  |    0.005480  |     0.732624  |             |  9.4s"
       ]
      },
      {
       "output_type": "stream",
       "stream": "stdout",
       "text": [
        "\n",
        "  2403  |  \u001b[94m  0.003896\u001b[0m  |    0.005468  |     0.712488  |             |  9.4s"
       ]
      },
      {
       "output_type": "stream",
       "stream": "stdout",
       "text": [
        "\n",
        "  2404  |    0.003904  |    0.005471  |     0.713532  |             |  9.4s"
       ]
      },
      {
       "output_type": "stream",
       "stream": "stdout",
       "text": [
        "\n",
        "  2405  |    0.003926  |    0.005449  |     0.720548  |             |  9.4s"
       ]
      },
      {
       "output_type": "stream",
       "stream": "stdout",
       "text": [
        "\n",
        "  2406  |    0.003954  |    0.005443  |     0.726433  |             |  9.4s"
       ]
      },
      {
       "output_type": "stream",
       "stream": "stdout",
       "text": [
        "\n",
        "  2407  |    0.003927  |    0.005459  |     0.719338  |             |  9.4s"
       ]
      },
      {
       "output_type": "stream",
       "stream": "stdout",
       "text": [
        "\n",
        "  2408  |    0.003947  |    0.005474  |     0.720904  |             |  9.4s"
       ]
      },
      {
       "output_type": "stream",
       "stream": "stdout",
       "text": [
        "\n",
        "  2409  |    0.003949  |  \u001b[32m  0.005384\u001b[0m  |     0.733445  |             |  9.4s"
       ]
      },
      {
       "output_type": "stream",
       "stream": "stdout",
       "text": [
        "\n",
        "  2410  |    0.003955  |    0.005408  |     0.731399  |             |  9.4s"
       ]
      },
      {
       "output_type": "stream",
       "stream": "stdout",
       "text": [
        "\n",
        "  2411  |    0.003998  |    0.005441  |     0.734679  |             |  9.4s"
       ]
      },
      {
       "output_type": "stream",
       "stream": "stdout",
       "text": [
        "\n",
        "  2412  |  \u001b[94m  0.003884\u001b[0m  |  \u001b[32m  0.005362\u001b[0m  |     0.724262  |             |  9.4s"
       ]
      },
      {
       "output_type": "stream",
       "stream": "stdout",
       "text": [
        "\n",
        "  2413  |    0.003975  |    0.005471  |     0.726557  |             |  9.4s"
       ]
      },
      {
       "output_type": "stream",
       "stream": "stdout",
       "text": [
        "\n",
        "  2414  |    0.003915  |    0.005467  |     0.716028  |             |  9.4s"
       ]
      },
      {
       "output_type": "stream",
       "stream": "stdout",
       "text": [
        "\n",
        "  2415  |    0.003945  |    0.005536  |     0.712672  |             |  9.4s"
       ]
      },
      {
       "output_type": "stream",
       "stream": "stdout",
       "text": [
        "\n",
        "  2416  |    0.003925  |    0.005473  |     0.717156  |             |  9.4s"
       ]
      },
      {
       "output_type": "stream",
       "stream": "stdout",
       "text": [
        "\n",
        "  2417  |    0.003934  |    0.005446  |     0.722346  |             |  9.4s"
       ]
      },
      {
       "output_type": "stream",
       "stream": "stdout",
       "text": [
        "\n",
        "  2418  |    0.003921  |    0.005432  |     0.721819  |             |  9.4s"
       ]
      },
      {
       "output_type": "stream",
       "stream": "stdout",
       "text": [
        "\n",
        "  2419  |    0.003912  |    0.005399  |     0.724561  |             |  9.4s"
       ]
      },
      {
       "output_type": "stream",
       "stream": "stdout",
       "text": [
        "\n",
        "  2420  |    0.003896  |    0.005504  |     0.707839  |             |  9.4s"
       ]
      },
      {
       "output_type": "stream",
       "stream": "stdout",
       "text": [
        "\n",
        "  2421  |    0.003939  |    0.005458  |     0.721774  |             |  9.4s"
       ]
      },
      {
       "output_type": "stream",
       "stream": "stdout",
       "text": [
        "\n",
        "  2422  |    0.003926  |    0.005413  |     0.725355  |             |  9.4s"
       ]
      },
      {
       "output_type": "stream",
       "stream": "stdout",
       "text": [
        "\n",
        "  2423  |    0.003907  |    0.005436  |     0.718839  |             |  9.4s"
       ]
      },
      {
       "output_type": "stream",
       "stream": "stdout",
       "text": [
        "\n",
        "  2424  |    0.003903  |    0.005451  |     0.715898  |             |  9.4s"
       ]
      },
      {
       "output_type": "stream",
       "stream": "stdout",
       "text": [
        "\n",
        "  2425  |    0.003916  |    0.005444  |     0.719344  |             |  9.4s"
       ]
      },
      {
       "output_type": "stream",
       "stream": "stdout",
       "text": [
        "\n",
        "  2426  |    0.003897  |    0.005404  |     0.721123  |             |  9.4s"
       ]
      },
      {
       "output_type": "stream",
       "stream": "stdout",
       "text": [
        "\n",
        "  2427  |  \u001b[94m  0.003872\u001b[0m  |    0.005458  |     0.709301  |             |  9.4s"
       ]
      },
      {
       "output_type": "stream",
       "stream": "stdout",
       "text": [
        "\n",
        "  2428  |    0.003973  |    0.005500  |     0.722320  |             |  9.4s"
       ]
      },
      {
       "output_type": "stream",
       "stream": "stdout",
       "text": [
        "\n",
        "  2429  |    0.003929  |    0.005446  |     0.721538  |             |  9.4s"
       ]
      },
      {
       "output_type": "stream",
       "stream": "stdout",
       "text": [
        "\n",
        "  2430  |  \u001b[94m  0.003858\u001b[0m  |    0.005448  |     0.708178  |             |  9.4s"
       ]
      },
      {
       "output_type": "stream",
       "stream": "stdout",
       "text": [
        "\n",
        "  2431  |    0.003919  |    0.005470  |     0.716406  |             |  9.4s"
       ]
      },
      {
       "output_type": "stream",
       "stream": "stdout",
       "text": [
        "\n",
        "  2432  |    0.003884  |    0.005446  |     0.713108  |             |  9.4s"
       ]
      },
      {
       "output_type": "stream",
       "stream": "stdout",
       "text": [
        "\n",
        "  2433  |    0.003893  |    0.005446  |     0.714844  |             |  9.4s"
       ]
      },
      {
       "output_type": "stream",
       "stream": "stdout",
       "text": [
        "\n",
        "  2434  |  \u001b[94m  0.003853\u001b[0m  |    0.005516  |     0.698642  |             |  9.4s"
       ]
      },
      {
       "output_type": "stream",
       "stream": "stdout",
       "text": [
        "\n",
        "  2435  |    0.003953  |    0.005454  |     0.724812  |             |  9.4s"
       ]
      },
      {
       "output_type": "stream",
       "stream": "stdout",
       "text": [
        "\n",
        "  2436  |    0.003898  |    0.005494  |     0.709536  |             |  9.4s"
       ]
      },
      {
       "output_type": "stream",
       "stream": "stdout",
       "text": [
        "\n",
        "  2437  |    0.003878  |  \u001b[32m  0.005340\u001b[0m  |     0.726122  |             |  9.4s"
       ]
      },
      {
       "output_type": "stream",
       "stream": "stdout",
       "text": [
        "\n",
        "  2438  |    0.003867  |    0.005434  |     0.711537  |             |  9.4s"
       ]
      },
      {
       "output_type": "stream",
       "stream": "stdout",
       "text": [
        "\n",
        "  2439  |    0.003956  |    0.005486  |     0.720999  |             |  9.4s"
       ]
      },
      {
       "output_type": "stream",
       "stream": "stdout",
       "text": [
        "\n",
        "  2440  |    0.003958  |    0.005433  |     0.728535  |             |  9.4s"
       ]
      },
      {
       "output_type": "stream",
       "stream": "stdout",
       "text": [
        "\n",
        "  2441  |    0.003861  |    0.005404  |     0.714507  |             |  9.4s"
       ]
      },
      {
       "output_type": "stream",
       "stream": "stdout",
       "text": [
        "\n",
        "  2442  |    0.003933  |    0.005439  |     0.723090  |             |  9.4s"
       ]
      },
      {
       "output_type": "stream",
       "stream": "stdout",
       "text": [
        "\n",
        "  2443  |  \u001b[94m  0.003848\u001b[0m  |    0.005408  |     0.711547  |             |  9.4s"
       ]
      },
      {
       "output_type": "stream",
       "stream": "stdout",
       "text": [
        "\n",
        "  2444  |    0.003854  |    0.005410  |     0.712483  |             |  9.4s"
       ]
      },
      {
       "output_type": "stream",
       "stream": "stdout",
       "text": [
        "\n",
        "  2445  |    0.003878  |    0.005462  |     0.710119  |             |  9.4s"
       ]
      },
      {
       "output_type": "stream",
       "stream": "stdout",
       "text": [
        "\n",
        "  2446  |    0.003939  |    0.005447  |     0.723297  |             |  9.4s"
       ]
      },
      {
       "output_type": "stream",
       "stream": "stdout",
       "text": [
        "\n",
        "  2447  |    0.003938  |    0.005433  |     0.724790  |             |  9.4s"
       ]
      },
      {
       "output_type": "stream",
       "stream": "stdout",
       "text": [
        "\n",
        "  2448  |    0.003859  |    0.005445  |     0.708807  |             |  9.4s"
       ]
      },
      {
       "output_type": "stream",
       "stream": "stdout",
       "text": [
        "\n",
        "  2449  |    0.003860  |    0.005416  |     0.712709  |             |  9.4s"
       ]
      },
      {
       "output_type": "stream",
       "stream": "stdout",
       "text": [
        "\n",
        "  2450  |    0.003871  |    0.005441  |     0.711459  |             |  9.4s"
       ]
      },
      {
       "output_type": "stream",
       "stream": "stdout",
       "text": [
        "\n",
        "  2451  |    0.003882  |    0.005439  |     0.713760  |             |  9.4s"
       ]
      },
      {
       "output_type": "stream",
       "stream": "stdout",
       "text": [
        "\n",
        "  2452  |    0.003913  |    0.005410  |     0.723252  |             |  9.4s"
       ]
      },
      {
       "output_type": "stream",
       "stream": "stdout",
       "text": [
        "\n",
        "  2453  |    0.003910  |    0.005473  |     0.714360  |             |  9.4s"
       ]
      },
      {
       "output_type": "stream",
       "stream": "stdout",
       "text": [
        "\n",
        "  2454  |    0.003860  |    0.005370  |     0.718845  |             |  9.4s"
       ]
      },
      {
       "output_type": "stream",
       "stream": "stdout",
       "text": [
        "\n",
        "  2455  |    0.003874  |    0.005415  |     0.715454  |             |  9.4s"
       ]
      },
      {
       "output_type": "stream",
       "stream": "stdout",
       "text": [
        "\n",
        "  2456  |    0.003914  |    0.005397  |     0.725300  |             |  9.4s"
       ]
      },
      {
       "output_type": "stream",
       "stream": "stdout",
       "text": [
        "\n",
        "  2457  |  \u001b[94m  0.003838\u001b[0m  |    0.005409  |     0.709553  |             |  9.4s"
       ]
      },
      {
       "output_type": "stream",
       "stream": "stdout",
       "text": [
        "\n",
        "  2458  |    0.003864  |    0.005491  |     0.703609  |             |  9.4s"
       ]
      },
      {
       "output_type": "stream",
       "stream": "stdout",
       "text": [
        "\n",
        "  2459  |    0.003901  |    0.005454  |     0.715292  |             |  9.4s"
       ]
      },
      {
       "output_type": "stream",
       "stream": "stdout",
       "text": [
        "\n",
        "  2460  |    0.003903  |    0.005455  |     0.715559  |             |  9.4s"
       ]
      },
      {
       "output_type": "stream",
       "stream": "stdout",
       "text": [
        "\n",
        "  2461  |    0.003855  |    0.005448  |     0.707707  |             |  9.4s"
       ]
      },
      {
       "output_type": "stream",
       "stream": "stdout",
       "text": [
        "\n",
        "  2462  |  \u001b[94m  0.003837\u001b[0m  |    0.005447  |     0.704482  |             |  9.4s"
       ]
      },
      {
       "output_type": "stream",
       "stream": "stdout",
       "text": [
        "\n",
        "  2463  |  \u001b[94m  0.003813\u001b[0m  |    0.005401  |     0.705949  |             |  9.4s"
       ]
      },
      {
       "output_type": "stream",
       "stream": "stdout",
       "text": [
        "\n",
        "  2464  |    0.003845  |    0.005454  |     0.705055  |             |  9.4s"
       ]
      },
      {
       "output_type": "stream",
       "stream": "stdout",
       "text": [
        "\n",
        "  2465  |    0.003917  |    0.005487  |     0.713872  |             |  9.4s"
       ]
      },
      {
       "output_type": "stream",
       "stream": "stdout",
       "text": [
        "\n",
        "  2466  |    0.003837  |    0.005443  |     0.705093  |             |  9.4s"
       ]
      },
      {
       "output_type": "stream",
       "stream": "stdout",
       "text": [
        "\n",
        "  2467  |    0.003934  |    0.005457  |     0.720830  |             |  9.4s"
       ]
      },
      {
       "output_type": "stream",
       "stream": "stdout",
       "text": [
        "\n",
        "  2468  |    0.003844  |    0.005470  |     0.702815  |             |  9.4s"
       ]
      },
      {
       "output_type": "stream",
       "stream": "stdout",
       "text": [
        "\n",
        "  2469  |  \u001b[94m  0.003800\u001b[0m  |    0.005506  |     0.690115  |             |  9.4s"
       ]
      },
      {
       "output_type": "stream",
       "stream": "stdout",
       "text": [
        "\n",
        "  2470  |    0.003859  |    0.005432  |     0.710526  |             |  9.4s"
       ]
      },
      {
       "output_type": "stream",
       "stream": "stdout",
       "text": [
        "\n",
        "  2471  |    0.003874  |    0.005475  |     0.707627  |             |  9.4s"
       ]
      },
      {
       "output_type": "stream",
       "stream": "stdout",
       "text": [
        "\n",
        "  2472  |    0.003833  |    0.005448  |     0.703548  |             |  9.4s"
       ]
      },
      {
       "output_type": "stream",
       "stream": "stdout",
       "text": [
        "\n",
        "  2473  |  \u001b[94m  0.003792\u001b[0m  |    0.005395  |     0.702798  |             |  9.4s"
       ]
      },
      {
       "output_type": "stream",
       "stream": "stdout",
       "text": [
        "\n",
        "  2474  |  \u001b[94m  0.003791\u001b[0m  |    0.005411  |     0.700550  |             |  9.4s"
       ]
      },
      {
       "output_type": "stream",
       "stream": "stdout",
       "text": [
        "\n",
        "  2475  |    0.003861  |    0.005404  |     0.714489  |             |  9.4s"
       ]
      },
      {
       "output_type": "stream",
       "stream": "stdout",
       "text": [
        "\n",
        "  2476  |    0.003807  |    0.005460  |     0.697226  |             |  9.4s"
       ]
      },
      {
       "output_type": "stream",
       "stream": "stdout",
       "text": [
        "\n",
        "  2477  |    0.003823  |    0.005416  |     0.705803  |             |  9.4s"
       ]
      },
      {
       "output_type": "stream",
       "stream": "stdout",
       "text": [
        "\n",
        "  2478  |    0.003822  |    0.005479  |     0.697438  |             |  9.4s"
       ]
      },
      {
       "output_type": "stream",
       "stream": "stdout",
       "text": [
        "\n",
        "  2479  |    0.003820  |    0.005456  |     0.700163  |             |  9.4s"
       ]
      },
      {
       "output_type": "stream",
       "stream": "stdout",
       "text": [
        "\n",
        "  2480  |    0.003837  |    0.005454  |     0.703464  |             |  9.4s"
       ]
      },
      {
       "output_type": "stream",
       "stream": "stdout",
       "text": [
        "\n",
        "  2481  |    0.003793  |    0.005447  |     0.696420  |             |  9.4s"
       ]
      },
      {
       "output_type": "stream",
       "stream": "stdout",
       "text": [
        "\n",
        "  2482  |    0.003837  |    0.005469  |     0.701445  |             |  9.4s"
       ]
      },
      {
       "output_type": "stream",
       "stream": "stdout",
       "text": [
        "\n",
        "  2483  |    0.003794  |    0.005387  |     0.704374  |             |  9.4s"
       ]
      },
      {
       "output_type": "stream",
       "stream": "stdout",
       "text": [
        "\n",
        "  2484  |    0.003807  |    0.005437  |     0.700204  |             |  9.4s"
       ]
      },
      {
       "output_type": "stream",
       "stream": "stdout",
       "text": [
        "\n",
        "  2485  |    0.003820  |    0.005401  |     0.707337  |             |  9.4s"
       ]
      },
      {
       "output_type": "stream",
       "stream": "stdout",
       "text": [
        "\n",
        "  2486  |    0.003870  |    0.005488  |     0.705085  |             |  9.4s"
       ]
      },
      {
       "output_type": "stream",
       "stream": "stdout",
       "text": [
        "\n",
        "  2487  |    0.003825  |    0.005397  |     0.708740  |             |  9.4s"
       ]
      },
      {
       "output_type": "stream",
       "stream": "stdout",
       "text": [
        "\n",
        "  2488  |    0.003802  |    0.005424  |     0.700852  |             |  9.4s"
       ]
      },
      {
       "output_type": "stream",
       "stream": "stdout",
       "text": [
        "\n",
        "  2489  |    0.003863  |    0.005394  |     0.716102  |             |  9.4s"
       ]
      },
      {
       "output_type": "stream",
       "stream": "stdout",
       "text": [
        "\n",
        "  2490  |  \u001b[94m  0.003784\u001b[0m  |    0.005393  |     0.701614  |             |  9.4s"
       ]
      },
      {
       "output_type": "stream",
       "stream": "stdout",
       "text": [
        "\n",
        "  2491  |    0.003833  |    0.005481  |     0.699306  |             |  9.4s"
       ]
      },
      {
       "output_type": "stream",
       "stream": "stdout",
       "text": [
        "\n",
        "  2492  |    0.003830  |    0.005455  |     0.701990  |             |  9.4s"
       ]
      },
      {
       "output_type": "stream",
       "stream": "stdout",
       "text": [
        "\n",
        "  2493  |    0.003812  |    0.005448  |     0.699650  |             |  9.4s"
       ]
      },
      {
       "output_type": "stream",
       "stream": "stdout",
       "text": [
        "\n",
        "  2494  |    0.003840  |    0.005471  |     0.701882  |             |  9.4s"
       ]
      },
      {
       "output_type": "stream",
       "stream": "stdout",
       "text": [
        "\n",
        "  2495  |    0.003789  |    0.005432  |     0.697550  |             |  9.4s"
       ]
      },
      {
       "output_type": "stream",
       "stream": "stdout",
       "text": [
        "\n",
        "  2496  |    0.003811  |    0.005498  |     0.693260  |             |  9.4s"
       ]
      },
      {
       "output_type": "stream",
       "stream": "stdout",
       "text": [
        "\n",
        "  2497  |    0.003801  |    0.005419  |     0.701361  |             |  9.4s"
       ]
      },
      {
       "output_type": "stream",
       "stream": "stdout",
       "text": [
        "\n",
        "  2498  |  \u001b[94m  0.003779\u001b[0m  |    0.005444  |     0.694065  |             |  9.4s"
       ]
      },
      {
       "output_type": "stream",
       "stream": "stdout",
       "text": [
        "\n",
        "  2499  |    0.003795  |    0.005415  |     0.700913  |             |  9.4s"
       ]
      },
      {
       "output_type": "stream",
       "stream": "stdout",
       "text": [
        "\n",
        "  2500  |  \u001b[94m  0.003760\u001b[0m  |    0.005384  |     0.698305  |             |  9.4s"
       ]
      },
      {
       "output_type": "stream",
       "stream": "stdout",
       "text": [
        "\n",
        "  2501  |    0.003836  |    0.005394  |     0.711143  |             |  9.4s"
       ]
      },
      {
       "output_type": "stream",
       "stream": "stdout",
       "text": [
        "\n",
        "  2502  |    0.003793  |    0.005410  |     0.701207  |             |  9.4s"
       ]
      },
      {
       "output_type": "stream",
       "stream": "stdout",
       "text": [
        "\n",
        "  2503  |    0.003894  |    0.005387  |     0.722901  |             |  9.4s"
       ]
      },
      {
       "output_type": "stream",
       "stream": "stdout",
       "text": [
        "\n",
        "  2504  |    0.003813  |    0.005406  |     0.705313  |             |  9.4s"
       ]
      },
      {
       "output_type": "stream",
       "stream": "stdout",
       "text": [
        "\n",
        "  2505  |    0.003783  |    0.005420  |     0.697963  |             |  9.4s"
       ]
      },
      {
       "output_type": "stream",
       "stream": "stdout",
       "text": [
        "\n",
        "  2506  |    0.003798  |    0.005425  |     0.700036  |             |  9.4s"
       ]
      },
      {
       "output_type": "stream",
       "stream": "stdout",
       "text": [
        "\n",
        "  2507  |    0.003788  |    0.005439  |     0.696600  |             |  9.4s"
       ]
      },
      {
       "output_type": "stream",
       "stream": "stdout",
       "text": [
        "\n",
        "  2508  |    0.003877  |    0.005444  |     0.712254  |             |  9.4s"
       ]
      },
      {
       "output_type": "stream",
       "stream": "stdout",
       "text": [
        "\n",
        "  2509  |  \u001b[94m  0.003750\u001b[0m  |    0.005418  |     0.692048  |             |  9.4s"
       ]
      },
      {
       "output_type": "stream",
       "stream": "stdout",
       "text": [
        "\n",
        "  2510  |    0.003770  |    0.005414  |     0.696381  |             |  9.4s"
       ]
      },
      {
       "output_type": "stream",
       "stream": "stdout",
       "text": [
        "\n",
        "  2511  |    0.003871  |    0.005454  |     0.709632  |             |  9.4s"
       ]
      },
      {
       "output_type": "stream",
       "stream": "stdout",
       "text": [
        "\n",
        "  2512  |    0.003807  |    0.005395  |     0.705536  |             |  9.4s"
       ]
      },
      {
       "output_type": "stream",
       "stream": "stdout",
       "text": [
        "\n",
        "  2513  |  \u001b[94m  0.003737\u001b[0m  |    0.005472  |     0.683076  |             |  9.4s"
       ]
      },
      {
       "output_type": "stream",
       "stream": "stdout",
       "text": [
        "\n",
        "  2514  |    0.003741  |    0.005453  |     0.686064  |             |  9.4s"
       ]
      },
      {
       "output_type": "stream",
       "stream": "stdout",
       "text": [
        "\n",
        "  2515  |    0.003803  |    0.005456  |     0.697175  |             |  9.4s"
       ]
      },
      {
       "output_type": "stream",
       "stream": "stdout",
       "text": [
        "\n",
        "  2516  |    0.003804  |    0.005442  |     0.698937  |             |  9.4s"
       ]
      },
      {
       "output_type": "stream",
       "stream": "stdout",
       "text": [
        "\n",
        "  2517  |    0.003793  |    0.005427  |     0.698928  |             |  9.4s"
       ]
      },
      {
       "output_type": "stream",
       "stream": "stdout",
       "text": [
        "\n",
        "  2518  |    0.003815  |    0.005404  |     0.705944  |             |  9.4s"
       ]
      },
      {
       "output_type": "stream",
       "stream": "stdout",
       "text": [
        "\n",
        "  2519  |    0.003765  |    0.005425  |     0.694141  |             |  9.4s"
       ]
      },
      {
       "output_type": "stream",
       "stream": "stdout",
       "text": [
        "\n",
        "  2520  |    0.003746  |    0.005419  |     0.691195  |             |  9.4s"
       ]
      },
      {
       "output_type": "stream",
       "stream": "stdout",
       "text": [
        "\n",
        "  2521  |    0.003774  |    0.005371  |     0.702645  |             |  9.4s"
       ]
      },
      {
       "output_type": "stream",
       "stream": "stdout",
       "text": [
        "\n",
        "  2522  |    0.003770  |    0.005442  |     0.692685  |             |  9.4s"
       ]
      },
      {
       "output_type": "stream",
       "stream": "stdout",
       "text": [
        "\n",
        "  2523  |    0.003758  |    0.005428  |     0.692201  |             |  9.4s"
       ]
      },
      {
       "output_type": "stream",
       "stream": "stdout",
       "text": [
        "\n",
        "  2524  |    0.003824  |    0.005442  |     0.702670  |             |  9.4s"
       ]
      },
      {
       "output_type": "stream",
       "stream": "stdout",
       "text": [
        "\n",
        "  2525  |    0.003759  |    0.005465  |     0.687911  |             |  9.4s"
       ]
      },
      {
       "output_type": "stream",
       "stream": "stdout",
       "text": [
        "\n",
        "  2526  |    0.003756  |    0.005428  |     0.691952  |             |  9.4s"
       ]
      },
      {
       "output_type": "stream",
       "stream": "stdout",
       "text": [
        "\n",
        "  2527  |    0.003780  |    0.005419  |     0.697503  |             |  9.4s"
       ]
      },
      {
       "output_type": "stream",
       "stream": "stdout",
       "text": [
        "\n",
        "  2528  |    0.003790  |    0.005462  |     0.693822  |             |  9.4s"
       ]
      },
      {
       "output_type": "stream",
       "stream": "stdout",
       "text": [
        "\n",
        "  2529  |    0.003767  |    0.005406  |     0.696813  |             |  9.4s"
       ]
      },
      {
       "output_type": "stream",
       "stream": "stdout",
       "text": [
        "\n",
        "  2530  |    0.003745  |    0.005378  |     0.696281  |             |  9.4s"
       ]
      },
      {
       "output_type": "stream",
       "stream": "stdout",
       "text": [
        "\n",
        "  2531  |    0.003738  |    0.005400  |     0.692182  |             |  9.4s"
       ]
      },
      {
       "output_type": "stream",
       "stream": "stdout",
       "text": [
        "\n",
        "  2532  |    0.003791  |    0.005455  |     0.694854  |             |  9.4s"
       ]
      },
      {
       "output_type": "stream",
       "stream": "stdout",
       "text": [
        "\n",
        "  2533  |    0.003768  |    0.005383  |     0.699973  |             |  9.4s"
       ]
      },
      {
       "output_type": "stream",
       "stream": "stdout",
       "text": [
        "\n",
        "  2534  |  \u001b[94m  0.003732\u001b[0m  |    0.005443  |     0.685666  |             |  9.4s"
       ]
      },
      {
       "output_type": "stream",
       "stream": "stdout",
       "text": [
        "\n",
        "  2535  |  \u001b[94m  0.003708\u001b[0m  |    0.005431  |     0.682780  |             |  9.4s"
       ]
      },
      {
       "output_type": "stream",
       "stream": "stdout",
       "text": [
        "\n",
        "  2536  |  \u001b[94m  0.003689\u001b[0m  |    0.005423  |     0.680312  |             |  9.4s"
       ]
      },
      {
       "output_type": "stream",
       "stream": "stdout",
       "text": [
        "\n",
        "  2537  |    0.003729  |    0.005399  |     0.690675  |             |  9.4s"
       ]
      },
      {
       "output_type": "stream",
       "stream": "stdout",
       "text": [
        "\n",
        "  2538  |    0.003720  |    0.005449  |     0.682669  |             |  9.4s"
       ]
      },
      {
       "output_type": "stream",
       "stream": "stdout",
       "text": [
        "\n",
        "  2539  |    0.003777  |    0.005444  |     0.693873  |             |  9.4s"
       ]
      },
      {
       "output_type": "stream",
       "stream": "stdout",
       "text": [
        "\n",
        "  2540  |    0.003749  |    0.005405  |     0.693594  |             |  9.4s"
       ]
      },
      {
       "output_type": "stream",
       "stream": "stdout",
       "text": [
        "\n",
        "  2541  |    0.003747  |    0.005414  |     0.692006  |             |  9.4s"
       ]
      },
      {
       "output_type": "stream",
       "stream": "stdout",
       "text": [
        "\n",
        "  2542  |    0.003716  |    0.005500  |     0.675722  |             |  9.4s"
       ]
      },
      {
       "output_type": "stream",
       "stream": "stdout",
       "text": [
        "\n",
        "  2543  |    0.003730  |    0.005445  |     0.684995  |             |  9.4s"
       ]
      },
      {
       "output_type": "stream",
       "stream": "stdout",
       "text": [
        "\n",
        "  2544  |    0.003753  |    0.005360  |     0.700211  |             |  9.4s"
       ]
      },
      {
       "output_type": "stream",
       "stream": "stdout",
       "text": [
        "\n",
        "  2545  |    0.003712  |    0.005369  |     0.691276  |             |  9.4s"
       ]
      },
      {
       "output_type": "stream",
       "stream": "stdout",
       "text": [
        "\n",
        "  2546  |    0.003735  |    0.005498  |     0.679347  |             |  9.4s"
       ]
      },
      {
       "output_type": "stream",
       "stream": "stdout",
       "text": [
        "\n",
        "  2547  |  \u001b[94m  0.003669\u001b[0m  |    0.005407  |     0.678569  |             |  9.4s"
       ]
      },
      {
       "output_type": "stream",
       "stream": "stdout",
       "text": [
        "\n",
        "  2548  |    0.003722  |    0.005464  |     0.681217  |             |  9.4s"
       ]
      },
      {
       "output_type": "stream",
       "stream": "stdout",
       "text": [
        "\n",
        "  2549  |    0.003765  |    0.005420  |     0.694716  |             |  9.4s"
       ]
      },
      {
       "output_type": "stream",
       "stream": "stdout",
       "text": [
        "\n",
        "  2550  |    0.003713  |    0.005432  |     0.683608  |             |  9.4s"
       ]
      },
      {
       "output_type": "stream",
       "stream": "stdout",
       "text": [
        "\n",
        "  2551  |    0.003755  |    0.005451  |     0.688889  |             |  9.4s"
       ]
      },
      {
       "output_type": "stream",
       "stream": "stdout",
       "text": [
        "\n",
        "  2552  |    0.003703  |    0.005440  |     0.680726  |             |  9.4s"
       ]
      },
      {
       "output_type": "stream",
       "stream": "stdout",
       "text": [
        "\n",
        "  2553  |  \u001b[94m  0.003668\u001b[0m  |    0.005458  |     0.672027  |             |  9.4s"
       ]
      },
      {
       "output_type": "stream",
       "stream": "stdout",
       "text": [
        "\n",
        "  2554  |    0.003729  |    0.005441  |     0.685451  |             |  9.4s"
       ]
      },
      {
       "output_type": "stream",
       "stream": "stdout",
       "text": [
        "\n",
        "  2555  |    0.003708  |    0.005435  |     0.682257  |             |  9.4s"
       ]
      },
      {
       "output_type": "stream",
       "stream": "stdout",
       "text": [
        "\n",
        "  2556  |    0.003694  |    0.005409  |     0.682967  |             |  9.4s"
       ]
      },
      {
       "output_type": "stream",
       "stream": "stdout",
       "text": [
        "\n",
        "  2557  |    0.003685  |    0.005419  |     0.679931  |             |  9.4s"
       ]
      },
      {
       "output_type": "stream",
       "stream": "stdout",
       "text": [
        "\n",
        "  2558  |    0.003774  |    0.005446  |     0.692986  |             |  9.4s"
       ]
      },
      {
       "output_type": "stream",
       "stream": "stdout",
       "text": [
        "\n",
        "  2559  |    0.003777  |    0.005402  |     0.699143  |             |  9.4s"
       ]
      },
      {
       "output_type": "stream",
       "stream": "stdout",
       "text": [
        "\n",
        "  2560  |    0.003745  |    0.005419  |     0.691124  |             |  9.4s"
       ]
      },
      {
       "output_type": "stream",
       "stream": "stdout",
       "text": [
        "\n",
        "  2561  |    0.003707  |    0.005394  |     0.687201  |             |  9.4s"
       ]
      },
      {
       "output_type": "stream",
       "stream": "stdout",
       "text": [
        "\n",
        "  2562  |    0.003752  |    0.005360  |     0.700036  |             |  9.4s"
       ]
      },
      {
       "output_type": "stream",
       "stream": "stdout",
       "text": [
        "\n",
        "  2563  |    0.003712  |    0.005434  |     0.683062  |             |  9.4s"
       ]
      },
      {
       "output_type": "stream",
       "stream": "stdout",
       "text": [
        "\n",
        "  2564  |    0.003694  |    0.005414  |     0.682351  |             |  9.4s"
       ]
      },
      {
       "output_type": "stream",
       "stream": "stdout",
       "text": [
        "\n",
        "  2565  |    0.003677  |    0.005401  |     0.680807  |             |  9.4s"
       ]
      },
      {
       "output_type": "stream",
       "stream": "stdout",
       "text": [
        "\n",
        "  2566  |    0.003746  |    0.005434  |     0.689286  |             |  9.4s"
       ]
      },
      {
       "output_type": "stream",
       "stream": "stdout",
       "text": [
        "\n",
        "  2567  |  \u001b[94m  0.003629\u001b[0m  |    0.005399  |     0.672198  |             |  9.4s"
       ]
      },
      {
       "output_type": "stream",
       "stream": "stdout",
       "text": [
        "\n",
        "  2568  |    0.003706  |    0.005399  |     0.686405  |             |  9.4s"
       ]
      },
      {
       "output_type": "stream",
       "stream": "stdout",
       "text": [
        "\n",
        "  2569  |    0.003721  |    0.005360  |     0.694143  |             |  9.4s"
       ]
      },
      {
       "output_type": "stream",
       "stream": "stdout",
       "text": [
        "\n",
        "  2570  |    0.003742  |    0.005398  |     0.693280  |             |  9.4s"
       ]
      },
      {
       "output_type": "stream",
       "stream": "stdout",
       "text": [
        "\n",
        "  2571  |    0.003757  |    0.005461  |     0.687880  |             |  9.4s"
       ]
      },
      {
       "output_type": "stream",
       "stream": "stdout",
       "text": [
        "\n",
        "  2572  |    0.003776  |    0.005419  |     0.696858  |             |  9.4s"
       ]
      },
      {
       "output_type": "stream",
       "stream": "stdout",
       "text": [
        "\n",
        "  2573  |    0.003685  |    0.005406  |     0.681606  |             |  9.4s"
       ]
      },
      {
       "output_type": "stream",
       "stream": "stdout",
       "text": [
        "\n",
        "  2574  |    0.003734  |    0.005397  |     0.691775  |             |  9.4s"
       ]
      },
      {
       "output_type": "stream",
       "stream": "stdout",
       "text": [
        "\n",
        "  2575  |    0.003749  |    0.005439  |     0.689159  |             |  9.4s"
       ]
      },
      {
       "output_type": "stream",
       "stream": "stdout",
       "text": [
        "\n",
        "  2576  |    0.003786  |    0.005401  |     0.700958  |             |  9.4s"
       ]
      },
      {
       "output_type": "stream",
       "stream": "stdout",
       "text": [
        "\n",
        "  2577  |    0.003741  |    0.005389  |     0.694241  |             |  9.4s"
       ]
      },
      {
       "output_type": "stream",
       "stream": "stdout",
       "text": [
        "\n",
        "  2578  |    0.003649  |    0.005350  |     0.682088  |             |  9.4s"
       ]
      },
      {
       "output_type": "stream",
       "stream": "stdout",
       "text": [
        "\n",
        "  2579  |    0.003741  |    0.005426  |     0.689537  |             |  9.4s"
       ]
      },
      {
       "output_type": "stream",
       "stream": "stdout",
       "text": [
        "\n",
        "  2580  |    0.003767  |    0.005410  |     0.696380  |             |  9.4s"
       ]
      },
      {
       "output_type": "stream",
       "stream": "stdout",
       "text": [
        "\n",
        "  2581  |    0.003722  |    0.005451  |     0.682737  |             |  9.4s"
       ]
      },
      {
       "output_type": "stream",
       "stream": "stdout",
       "text": [
        "\n",
        "  2582  |    0.003698  |    0.005446  |     0.678951  |             |  9.4s"
       ]
      },
      {
       "output_type": "stream",
       "stream": "stdout",
       "text": [
        "\n",
        "  2583  |    0.003662  |    0.005444  |     0.672638  |             |  9.4s"
       ]
      },
      {
       "output_type": "stream",
       "stream": "stdout",
       "text": [
        "\n",
        "  2584  |    0.003728  |    0.005421  |     0.687730  |             |  9.4s"
       ]
      },
      {
       "output_type": "stream",
       "stream": "stdout",
       "text": [
        "\n",
        "  2585  |    0.003681  |    0.005388  |     0.683265  |             |  9.4s"
       ]
      },
      {
       "output_type": "stream",
       "stream": "stdout",
       "text": [
        "\n",
        "  2586  |    0.003738  |    0.005403  |     0.691914  |             |  9.4s"
       ]
      },
      {
       "output_type": "stream",
       "stream": "stdout",
       "text": [
        "\n",
        "  2587  |    0.003655  |    0.005455  |     0.669893  |             |  9.4s"
       ]
      },
      {
       "output_type": "stream",
       "stream": "stdout",
       "text": [
        "\n",
        "  2588  |    0.003670  |    0.005493  |     0.668166  |             |  9.4s"
       ]
      },
      {
       "output_type": "stream",
       "stream": "stdout",
       "text": [
        "\n",
        "  2589  |    0.003686  |    0.005434  |     0.678470  |             |  9.4s"
       ]
      },
      {
       "output_type": "stream",
       "stream": "stdout",
       "text": [
        "\n",
        "  2590  |    0.003649  |    0.005398  |     0.675892  |             |  9.4s"
       ]
      },
      {
       "output_type": "stream",
       "stream": "stdout",
       "text": [
        "\n",
        "  2591  |    0.003661  |    0.005379  |     0.680633  |             |  9.4s"
       ]
      },
      {
       "output_type": "stream",
       "stream": "stdout",
       "text": [
        "\n",
        "  2592  |  \u001b[94m  0.003619\u001b[0m  |    0.005396  |     0.670711  |             |  9.4s"
       ]
      },
      {
       "output_type": "stream",
       "stream": "stdout",
       "text": [
        "\n",
        "  2593  |    0.003669  |    0.005371  |     0.683135  |             |  9.4s"
       ]
      },
      {
       "output_type": "stream",
       "stream": "stdout",
       "text": [
        "\n",
        "  2594  |    0.003696  |    0.005446  |     0.678619  |             |  9.4s"
       ]
      },
      {
       "output_type": "stream",
       "stream": "stdout",
       "text": [
        "\n",
        "  2595  |  \u001b[94m  0.003600\u001b[0m  |    0.005368  |     0.670734  |             |  9.4s"
       ]
      },
      {
       "output_type": "stream",
       "stream": "stdout",
       "text": [
        "\n",
        "  2596  |    0.003652  |    0.005422  |     0.673582  |             |  9.4s"
       ]
      },
      {
       "output_type": "stream",
       "stream": "stdout",
       "text": [
        "\n",
        "  2597  |    0.003650  |    0.005401  |     0.675758  |             |  9.4s"
       ]
      },
      {
       "output_type": "stream",
       "stream": "stdout",
       "text": [
        "\n",
        "  2598  |    0.003661  |    0.005420  |     0.675482  |             |  9.4s"
       ]
      },
      {
       "output_type": "stream",
       "stream": "stdout",
       "text": [
        "\n",
        "  2599  |    0.003689  |    0.005479  |     0.673329  |             |  9.4s"
       ]
      },
      {
       "output_type": "stream",
       "stream": "stdout",
       "text": [
        "\n",
        "  2600  |    0.003625  |    0.005448  |     0.665461  |             |  9.4s"
       ]
      },
      {
       "output_type": "stream",
       "stream": "stdout",
       "text": [
        "\n",
        "  2601  |    0.003762  |    0.005430  |     0.692825  |             |  9.4s"
       ]
      },
      {
       "output_type": "stream",
       "stream": "stdout",
       "text": [
        "\n",
        "  2602  |    0.003685  |    0.005383  |     0.684611  |             |  9.4s"
       ]
      },
      {
       "output_type": "stream",
       "stream": "stdout",
       "text": [
        "\n",
        "  2603  |    0.003635  |    0.005384  |     0.675032  |             |  9.4s"
       ]
      },
      {
       "output_type": "stream",
       "stream": "stdout",
       "text": [
        "\n",
        "  2604  |    0.003654  |    0.005387  |     0.678264  |             |  9.4s"
       ]
      },
      {
       "output_type": "stream",
       "stream": "stdout",
       "text": [
        "\n",
        "  2605  |    0.003683  |    0.005444  |     0.676613  |             |  9.4s"
       ]
      },
      {
       "output_type": "stream",
       "stream": "stdout",
       "text": [
        "\n",
        "  2606  |    0.003694  |    0.005399  |     0.684258  |             |  9.4s"
       ]
      },
      {
       "output_type": "stream",
       "stream": "stdout",
       "text": [
        "\n",
        "  2607  |    0.003674  |    0.005378  |     0.683300  |             |  9.4s"
       ]
      },
      {
       "output_type": "stream",
       "stream": "stdout",
       "text": [
        "\n",
        "  2608  |    0.003655  |    0.005376  |     0.679884  |             |  9.4s"
       ]
      },
      {
       "output_type": "stream",
       "stream": "stdout",
       "text": [
        "\n",
        "  2609  |    0.003691  |    0.005374  |     0.686797  |             |  9.4s"
       ]
      },
      {
       "output_type": "stream",
       "stream": "stdout",
       "text": [
        "\n",
        "  2610  |    0.003643  |  \u001b[32m  0.005319\u001b[0m  |     0.684951  |             |  9.4s"
       ]
      },
      {
       "output_type": "stream",
       "stream": "stdout",
       "text": [
        "\n",
        "  2611  |    0.003637  |    0.005371  |     0.677186  |             |  9.4s"
       ]
      },
      {
       "output_type": "stream",
       "stream": "stdout",
       "text": [
        "\n",
        "  2612  |    0.003630  |    0.005404  |     0.671742  |             |  9.4s"
       ]
      },
      {
       "output_type": "stream",
       "stream": "stdout",
       "text": [
        "\n",
        "  2613  |    0.003659  |    0.005346  |     0.684479  |             |  9.4s"
       ]
      },
      {
       "output_type": "stream",
       "stream": "stdout",
       "text": [
        "\n",
        "  2614  |    0.003655  |    0.005426  |     0.673582  |             |  9.4s"
       ]
      },
      {
       "output_type": "stream",
       "stream": "stdout",
       "text": [
        "\n",
        "  2615  |    0.003637  |    0.005428  |     0.670014  |             |  9.4s"
       ]
      },
      {
       "output_type": "stream",
       "stream": "stdout",
       "text": [
        "\n",
        "  2616  |    0.003632  |    0.005374  |     0.675802  |             |  9.4s"
       ]
      },
      {
       "output_type": "stream",
       "stream": "stdout",
       "text": [
        "\n",
        "  2617  |    0.003601  |    0.005407  |     0.665890  |             |  9.4s"
       ]
      },
      {
       "output_type": "stream",
       "stream": "stdout",
       "text": [
        "\n",
        "  2618  |    0.003657  |    0.005359  |     0.682279  |             |  9.4s"
       ]
      },
      {
       "output_type": "stream",
       "stream": "stdout",
       "text": [
        "\n",
        "  2619  |    0.003615  |    0.005383  |     0.671420  |             |  9.4s"
       ]
      },
      {
       "output_type": "stream",
       "stream": "stdout",
       "text": [
        "\n",
        "  2620  |    0.003639  |    0.005386  |     0.675726  |             |  9.4s"
       ]
      },
      {
       "output_type": "stream",
       "stream": "stdout",
       "text": [
        "\n",
        "  2621  |    0.003647  |    0.005431  |     0.671593  |             |  9.4s"
       ]
      },
      {
       "output_type": "stream",
       "stream": "stdout",
       "text": [
        "\n",
        "  2622  |    0.003650  |    0.005420  |     0.673455  |             |  9.4s"
       ]
      },
      {
       "output_type": "stream",
       "stream": "stdout",
       "text": [
        "\n",
        "  2623  |    0.003605  |    0.005369  |     0.671439  |             |  9.4s"
       ]
      },
      {
       "output_type": "stream",
       "stream": "stdout",
       "text": [
        "\n",
        "  2624  |  \u001b[94m  0.003584\u001b[0m  |    0.005343  |     0.670784  |             |  9.4s"
       ]
      },
      {
       "output_type": "stream",
       "stream": "stdout",
       "text": [
        "\n",
        "  2625  |    0.003650  |    0.005396  |     0.676499  |             |  9.4s"
       ]
      },
      {
       "output_type": "stream",
       "stream": "stdout",
       "text": [
        "\n",
        "  2626  |    0.003617  |    0.005366  |     0.674127  |             |  9.4s"
       ]
      },
      {
       "output_type": "stream",
       "stream": "stdout",
       "text": [
        "\n",
        "  2627  |    0.003655  |    0.005370  |     0.680666  |             |  9.4s"
       ]
      },
      {
       "output_type": "stream",
       "stream": "stdout",
       "text": [
        "\n",
        "  2628  |    0.003591  |    0.005368  |     0.669040  |             |  9.4s"
       ]
      },
      {
       "output_type": "stream",
       "stream": "stdout",
       "text": [
        "\n",
        "  2629  |    0.003593  |    0.005444  |     0.660097  |             |  9.4s"
       ]
      },
      {
       "output_type": "stream",
       "stream": "stdout",
       "text": [
        "\n",
        "  2630  |  \u001b[94m  0.003510\u001b[0m  |    0.005408  |     0.649098  |             |  9.4s"
       ]
      },
      {
       "output_type": "stream",
       "stream": "stdout",
       "text": [
        "\n",
        "  2631  |    0.003595  |    0.005446  |     0.660183  |             |  9.4s"
       ]
      },
      {
       "output_type": "stream",
       "stream": "stdout",
       "text": [
        "\n",
        "  2632  |    0.003573  |    0.005431  |     0.657993  |             |  9.4s"
       ]
      },
      {
       "output_type": "stream",
       "stream": "stdout",
       "text": [
        "\n",
        "  2633  |    0.003569  |    0.005416  |     0.659045  |             |  9.4s"
       ]
      },
      {
       "output_type": "stream",
       "stream": "stdout",
       "text": [
        "\n",
        "  2634  |    0.003677  |    0.005379  |     0.683625  |             |  9.4s"
       ]
      },
      {
       "output_type": "stream",
       "stream": "stdout",
       "text": [
        "\n",
        "  2635  |    0.003665  |    0.005476  |     0.669313  |             |  9.4s"
       ]
      },
      {
       "output_type": "stream",
       "stream": "stdout",
       "text": [
        "\n",
        "  2636  |    0.003660  |    0.005385  |     0.679708  |             |  9.4s"
       ]
      },
      {
       "output_type": "stream",
       "stream": "stdout",
       "text": [
        "\n",
        "  2637  |    0.003572  |    0.005360  |     0.666341  |             |  9.4s"
       ]
      },
      {
       "output_type": "stream",
       "stream": "stdout",
       "text": [
        "\n",
        "  2638  |    0.003619  |    0.005492  |     0.658955  |             |  9.4s"
       ]
      },
      {
       "output_type": "stream",
       "stream": "stdout",
       "text": [
        "\n",
        "  2639  |    0.003633  |    0.005446  |     0.667234  |             |  9.4s"
       ]
      },
      {
       "output_type": "stream",
       "stream": "stdout",
       "text": [
        "\n",
        "  2640  |    0.003639  |    0.005372  |     0.677407  |             |  9.4s"
       ]
      },
      {
       "output_type": "stream",
       "stream": "stdout",
       "text": [
        "\n",
        "  2641  |    0.003522  |    0.005413  |     0.650634  |             |  9.4s"
       ]
      },
      {
       "output_type": "stream",
       "stream": "stdout",
       "text": [
        "\n",
        "  2642  |    0.003571  |    0.005380  |     0.663712  |             |  9.4s"
       ]
      },
      {
       "output_type": "stream",
       "stream": "stdout",
       "text": [
        "\n",
        "  2643  |    0.003613  |    0.005420  |     0.666608  |             |  9.4s"
       ]
      },
      {
       "output_type": "stream",
       "stream": "stdout",
       "text": [
        "\n",
        "  2644  |    0.003571  |    0.005432  |     0.657447  |             |  9.4s"
       ]
      },
      {
       "output_type": "stream",
       "stream": "stdout",
       "text": [
        "\n",
        "  2645  |    0.003632  |    0.005422  |     0.669826  |             |  9.4s"
       ]
      },
      {
       "output_type": "stream",
       "stream": "stdout",
       "text": [
        "\n",
        "  2646  |    0.003559  |    0.005359  |     0.664154  |             |  9.4s"
       ]
      },
      {
       "output_type": "stream",
       "stream": "stdout",
       "text": [
        "\n",
        "  2647  |    0.003600  |    0.005393  |     0.667499  |             |  9.4s"
       ]
      },
      {
       "output_type": "stream",
       "stream": "stdout",
       "text": [
        "\n",
        "  2648  |    0.003652  |    0.005384  |     0.678293  |             |  9.4s"
       ]
      },
      {
       "output_type": "stream",
       "stream": "stdout",
       "text": [
        "\n",
        "  2649  |    0.003581  |    0.005387  |     0.664735  |             |  9.4s"
       ]
      },
      {
       "output_type": "stream",
       "stream": "stdout",
       "text": [
        "\n",
        "  2650  |    0.003616  |    0.005408  |     0.668754  |             |  9.4s"
       ]
      },
      {
       "output_type": "stream",
       "stream": "stdout",
       "text": [
        "\n",
        "  2651  |    0.003553  |    0.005419  |     0.655565  |             |  9.4s"
       ]
      },
      {
       "output_type": "stream",
       "stream": "stdout",
       "text": [
        "\n",
        "  2652  |    0.003572  |    0.005425  |     0.658385  |             |  9.4s"
       ]
      },
      {
       "output_type": "stream",
       "stream": "stdout",
       "text": [
        "\n",
        "  2653  |    0.003597  |    0.005432  |     0.662162  |             |  9.4s"
       ]
      },
      {
       "output_type": "stream",
       "stream": "stdout",
       "text": [
        "\n",
        "  2654  |    0.003574  |    0.005387  |     0.663322  |             |  9.4s"
       ]
      },
      {
       "output_type": "stream",
       "stream": "stdout",
       "text": [
        "\n",
        "  2655  |    0.003524  |    0.005329  |     0.661310  |             |  9.4s"
       ]
      },
      {
       "output_type": "stream",
       "stream": "stdout",
       "text": [
        "\n",
        "  2656  |    0.003571  |    0.005413  |     0.659730  |             |  9.4s"
       ]
      },
      {
       "output_type": "stream",
       "stream": "stdout",
       "text": [
        "\n",
        "  2657  |    0.003595  |    0.005403  |     0.665297  |             |  9.4s"
       ]
      },
      {
       "output_type": "stream",
       "stream": "stdout",
       "text": [
        "\n",
        "  2658  |    0.003554  |    0.005400  |     0.658228  |             |  9.4s"
       ]
      },
      {
       "output_type": "stream",
       "stream": "stdout",
       "text": [
        "\n",
        "  2659  |    0.003624  |    0.005366  |     0.675362  |             |  9.4s"
       ]
      },
      {
       "output_type": "stream",
       "stream": "stdout",
       "text": [
        "\n",
        "  2660  |    0.003609  |    0.005439  |     0.663541  |             |  9.4s"
       ]
      },
      {
       "output_type": "stream",
       "stream": "stdout",
       "text": [
        "\n",
        "  2661  |    0.003557  |    0.005382  |     0.660833  |             |  9.4s"
       ]
      },
      {
       "output_type": "stream",
       "stream": "stdout",
       "text": [
        "\n",
        "  2662  |    0.003599  |    0.005394  |     0.667217  |             |  9.4s"
       ]
      },
      {
       "output_type": "stream",
       "stream": "stdout",
       "text": [
        "\n",
        "  2663  |    0.003571  |    0.005426  |     0.658065  |             |  9.4s"
       ]
      },
      {
       "output_type": "stream",
       "stream": "stdout",
       "text": [
        "\n",
        "  2664  |    0.003568  |    0.005415  |     0.658903  |             |  9.4s"
       ]
      },
      {
       "output_type": "stream",
       "stream": "stdout",
       "text": [
        "\n",
        "  2665  |    0.003608  |    0.005426  |     0.664980  |             |  9.4s"
       ]
      },
      {
       "output_type": "stream",
       "stream": "stdout",
       "text": [
        "\n",
        "  2666  |    0.003579  |    0.005372  |     0.666175  |             |  9.4s"
       ]
      },
      {
       "output_type": "stream",
       "stream": "stdout",
       "text": [
        "\n",
        "  2667  |    0.003512  |    0.005375  |     0.653471  |             |  9.4s"
       ]
      },
      {
       "output_type": "stream",
       "stream": "stdout",
       "text": [
        "\n",
        "  2668  |  \u001b[94m  0.003508\u001b[0m  |    0.005340  |     0.656967  |             |  9.4s"
       ]
      },
      {
       "output_type": "stream",
       "stream": "stdout",
       "text": [
        "\n",
        "  2669  |    0.003567  |    0.005387  |     0.662168  |             |  9.4s"
       ]
      },
      {
       "output_type": "stream",
       "stream": "stdout",
       "text": [
        "\n",
        "  2670  |    0.003558  |    0.005461  |     0.651493  |             |  9.4s"
       ]
      },
      {
       "output_type": "stream",
       "stream": "stdout",
       "text": [
        "\n",
        "  2671  |    0.003592  |    0.005369  |     0.669080  |             |  9.4s"
       ]
      },
      {
       "output_type": "stream",
       "stream": "stdout",
       "text": [
        "\n",
        "  2672  |    0.003544  |    0.005462  |     0.648881  |             |  9.4s"
       ]
      },
      {
       "output_type": "stream",
       "stream": "stdout",
       "text": [
        "\n",
        "  2673  |    0.003571  |    0.005397  |     0.661751  |             |  9.4s"
       ]
      },
      {
       "output_type": "stream",
       "stream": "stdout",
       "text": [
        "\n",
        "  2674  |    0.003511  |    0.005381  |     0.652405  |             |  9.4s"
       ]
      },
      {
       "output_type": "stream",
       "stream": "stdout",
       "text": [
        "\n",
        "  2675  |  \u001b[94m  0.003502\u001b[0m  |    0.005414  |     0.646819  |             |  9.4s"
       ]
      },
      {
       "output_type": "stream",
       "stream": "stdout",
       "text": [
        "\n",
        "  2676  |    0.003532  |    0.005404  |     0.653632  |             |  9.4s"
       ]
      },
      {
       "output_type": "stream",
       "stream": "stdout",
       "text": [
        "\n",
        "  2677  |    0.003574  |    0.005422  |     0.659256  |             |  9.4s"
       ]
      },
      {
       "output_type": "stream",
       "stream": "stdout",
       "text": [
        "\n",
        "  2678  |    0.003533  |    0.005343  |     0.661160  |             |  9.4s"
       ]
      },
      {
       "output_type": "stream",
       "stream": "stdout",
       "text": [
        "\n",
        "  2679  |    0.003569  |    0.005385  |     0.662687  |             |  9.4s"
       ]
      },
      {
       "output_type": "stream",
       "stream": "stdout",
       "text": [
        "\n",
        "  2680  |    0.003563  |    0.005404  |     0.659229  |             |  9.4s"
       ]
      },
      {
       "output_type": "stream",
       "stream": "stdout",
       "text": [
        "\n",
        "  2681  |    0.003591  |    0.005351  |     0.671173  |             |  9.4s"
       ]
      },
      {
       "output_type": "stream",
       "stream": "stdout",
       "text": [
        "\n",
        "  2682  |    0.003585  |    0.005448  |     0.657912  |             |  9.4s"
       ]
      },
      {
       "output_type": "stream",
       "stream": "stdout",
       "text": [
        "\n",
        "  2683  |    0.003520  |    0.005442  |     0.646860  |             |  9.4s"
       ]
      },
      {
       "output_type": "stream",
       "stream": "stdout",
       "text": [
        "\n",
        "  2684  |  \u001b[94m  0.003499\u001b[0m  |    0.005350  |     0.654077  |             |  9.4s"
       ]
      },
      {
       "output_type": "stream",
       "stream": "stdout",
       "text": [
        "\n",
        "  2685  |    0.003544  |    0.005357  |     0.661503  |             |  9.4s"
       ]
      },
      {
       "output_type": "stream",
       "stream": "stdout",
       "text": [
        "\n",
        "  2686  |    0.003558  |    0.005372  |     0.662288  |             |  9.4s"
       ]
      },
      {
       "output_type": "stream",
       "stream": "stdout",
       "text": [
        "\n",
        "  2687  |    0.003542  |    0.005373  |     0.659265  |             |  9.4s"
       ]
      },
      {
       "output_type": "stream",
       "stream": "stdout",
       "text": [
        "\n",
        "  2688  |  \u001b[94m  0.003489\u001b[0m  |    0.005357  |     0.651218  |             |  9.4s"
       ]
      },
      {
       "output_type": "stream",
       "stream": "stdout",
       "text": [
        "\n",
        "  2689  |    0.003511  |    0.005421  |     0.647723  |             |  9.4s"
       ]
      },
      {
       "output_type": "stream",
       "stream": "stdout",
       "text": [
        "\n",
        "  2690  |    0.003577  |    0.005379  |     0.664953  |             |  9.4s"
       ]
      },
      {
       "output_type": "stream",
       "stream": "stdout",
       "text": [
        "\n",
        "  2691  |    0.003556  |    0.005382  |     0.660823  |             |  9.4s"
       ]
      },
      {
       "output_type": "stream",
       "stream": "stdout",
       "text": [
        "\n",
        "  2692  |    0.003522  |    0.005419  |     0.649960  |             |  9.4s"
       ]
      },
      {
       "output_type": "stream",
       "stream": "stdout",
       "text": [
        "\n",
        "  2693  |    0.003511  |    0.005352  |     0.656043  |             |  9.4s"
       ]
      },
      {
       "output_type": "stream",
       "stream": "stdout",
       "text": [
        "\n",
        "  2694  |    0.003549  |    0.005366  |     0.661462  |             |  9.4s"
       ]
      },
      {
       "output_type": "stream",
       "stream": "stdout",
       "text": [
        "\n",
        "  2695  |    0.003490  |    0.005439  |     0.641523  |             |  9.4s"
       ]
      },
      {
       "output_type": "stream",
       "stream": "stdout",
       "text": [
        "\n",
        "  2696  |    0.003524  |    0.005378  |     0.655347  |             |  9.4s"
       ]
      },
      {
       "output_type": "stream",
       "stream": "stdout",
       "text": [
        "\n",
        "  2697  |    0.003569  |    0.005393  |     0.661767  |             |  9.4s"
       ]
      },
      {
       "output_type": "stream",
       "stream": "stdout",
       "text": [
        "\n",
        "  2698  |    0.003514  |    0.005358  |     0.655842  |             |  9.4s"
       ]
      },
      {
       "output_type": "stream",
       "stream": "stdout",
       "text": [
        "\n",
        "  2699  |  \u001b[94m  0.003466\u001b[0m  |    0.005341  |     0.648910  |             |  9.4s"
       ]
      },
      {
       "output_type": "stream",
       "stream": "stdout",
       "text": [
        "\n",
        "  2700  |    0.003500  |    0.005414  |     0.646552  |             |  9.4s"
       ]
      },
      {
       "output_type": "stream",
       "stream": "stdout",
       "text": [
        "\n",
        "  2701  |    0.003495  |    0.005425  |     0.644198  |             |  9.4s"
       ]
      },
      {
       "output_type": "stream",
       "stream": "stdout",
       "text": [
        "\n",
        "  2702  |    0.003517  |    0.005384  |     0.653215  |             |  9.4s"
       ]
      },
      {
       "output_type": "stream",
       "stream": "stdout",
       "text": [
        "\n",
        "  2703  |    0.003538  |    0.005377  |     0.658021  |             |  9.4s"
       ]
      },
      {
       "output_type": "stream",
       "stream": "stdout",
       "text": [
        "\n",
        "  2704  |    0.003526  |    0.005366  |     0.657128  |             |  9.4s"
       ]
      },
      {
       "output_type": "stream",
       "stream": "stdout",
       "text": [
        "\n",
        "  2705  |    0.003520  |    0.005408  |     0.650943  |             |  9.4s"
       ]
      },
      {
       "output_type": "stream",
       "stream": "stdout",
       "text": [
        "\n",
        "  2706  |    0.003511  |    0.005338  |     0.657713  |             |  9.4s"
       ]
      },
      {
       "output_type": "stream",
       "stream": "stdout",
       "text": [
        "\n",
        "  2707  |    0.003477  |    0.005411  |     0.642578  |             |  9.4s"
       ]
      },
      {
       "output_type": "stream",
       "stream": "stdout",
       "text": [
        "\n",
        "  2708  |    0.003480  |    0.005365  |     0.648639  |             |  9.4s"
       ]
      },
      {
       "output_type": "stream",
       "stream": "stdout",
       "text": [
        "\n",
        "  2709  |    0.003508  |    0.005359  |     0.654565  |             |  9.4s"
       ]
      },
      {
       "output_type": "stream",
       "stream": "stdout",
       "text": [
        "\n",
        "  2710  |  \u001b[94m  0.003462\u001b[0m  |    0.005325  |     0.650068  |             |  9.4s"
       ]
      },
      {
       "output_type": "stream",
       "stream": "stdout",
       "text": [
        "\n",
        "  2711  |    0.003522  |    0.005350  |     0.658329  |             |  9.4s"
       ]
      },
      {
       "output_type": "stream",
       "stream": "stdout",
       "text": [
        "\n",
        "  2712  |    0.003481  |    0.005355  |     0.650079  |             |  9.4s"
       ]
      },
      {
       "output_type": "stream",
       "stream": "stdout",
       "text": [
        "\n",
        "  2713  |    0.003540  |    0.005339  |     0.663112  |             |  9.4s"
       ]
      },
      {
       "output_type": "stream",
       "stream": "stdout",
       "text": [
        "\n",
        "  2714  |    0.003536  |    0.005383  |     0.656797  |             |  9.4s"
       ]
      },
      {
       "output_type": "stream",
       "stream": "stdout",
       "text": [
        "\n",
        "  2715  |    0.003494  |    0.005390  |     0.648288  |             |  9.4s"
       ]
      },
      {
       "output_type": "stream",
       "stream": "stdout",
       "text": [
        "\n",
        "  2716  |    0.003538  |    0.005402  |     0.654964  |             |  9.4s"
       ]
      },
      {
       "output_type": "stream",
       "stream": "stdout",
       "text": [
        "\n",
        "  2717  |    0.003500  |    0.005371  |     0.651579  |             |  9.4s"
       ]
      },
      {
       "output_type": "stream",
       "stream": "stdout",
       "text": [
        "\n",
        "  2718  |  \u001b[94m  0.003457\u001b[0m  |    0.005356  |     0.645482  |             |  9.4s"
       ]
      },
      {
       "output_type": "stream",
       "stream": "stdout",
       "text": [
        "\n",
        "  2719  |    0.003504  |    0.005427  |     0.645521  |             |  9.4s"
       ]
      },
      {
       "output_type": "stream",
       "stream": "stdout",
       "text": [
        "\n",
        "  2720  |    0.003466  |    0.005377  |     0.644490  |             |  9.4s"
       ]
      },
      {
       "output_type": "stream",
       "stream": "stdout",
       "text": [
        "\n",
        "  2721  |    0.003509  |    0.005330  |     0.658320  |             |  9.4s"
       ]
      },
      {
       "output_type": "stream",
       "stream": "stdout",
       "text": [
        "\n",
        "  2722  |    0.003490  |    0.005357  |     0.651512  |             |  9.4s"
       ]
      },
      {
       "output_type": "stream",
       "stream": "stdout",
       "text": [
        "\n",
        "  2723  |    0.003490  |    0.005379  |     0.648864  |             |  9.4s"
       ]
      },
      {
       "output_type": "stream",
       "stream": "stdout",
       "text": [
        "\n",
        "  2724  |  \u001b[94m  0.003440\u001b[0m  |    0.005330  |     0.645326  |             |  9.4s"
       ]
      },
      {
       "output_type": "stream",
       "stream": "stdout",
       "text": [
        "\n",
        "  2725  |    0.003470  |    0.005394  |     0.643263  |             |  9.4s"
       ]
      },
      {
       "output_type": "stream",
       "stream": "stdout",
       "text": [
        "\n",
        "  2726  |    0.003532  |    0.005384  |     0.655928  |             |  9.4s"
       ]
      },
      {
       "output_type": "stream",
       "stream": "stdout",
       "text": [
        "\n",
        "  2727  |    0.003548  |    0.005404  |     0.656471  |             |  9.4s"
       ]
      },
      {
       "output_type": "stream",
       "stream": "stdout",
       "text": [
        "\n",
        "  2728  |    0.003546  |    0.005412  |     0.655250  |             |  9.4s"
       ]
      },
      {
       "output_type": "stream",
       "stream": "stdout",
       "text": [
        "\n",
        "  2729  |    0.003456  |    0.005371  |     0.643593  |             |  9.4s"
       ]
      },
      {
       "output_type": "stream",
       "stream": "stdout",
       "text": [
        "\n",
        "  2730  |    0.003507  |    0.005386  |     0.651209  |             |  9.4s"
       ]
      },
      {
       "output_type": "stream",
       "stream": "stdout",
       "text": [
        "\n",
        "  2731  |  \u001b[94m  0.003420\u001b[0m  |    0.005345  |     0.639905  |             |  9.4s"
       ]
      },
      {
       "output_type": "stream",
       "stream": "stdout",
       "text": [
        "\n",
        "  2732  |    0.003475  |    0.005361  |     0.648253  |             |  9.4s"
       ]
      },
      {
       "output_type": "stream",
       "stream": "stdout",
       "text": [
        "\n",
        "  2733  |    0.003429  |    0.005384  |     0.636781  |             |  9.4s"
       ]
      },
      {
       "output_type": "stream",
       "stream": "stdout",
       "text": [
        "\n",
        "  2734  |    0.003515  |    0.005348  |     0.657272  |             |  9.4s"
       ]
      },
      {
       "output_type": "stream",
       "stream": "stdout",
       "text": [
        "\n",
        "  2735  |    0.003485  |    0.005370  |     0.648850  |             |  9.4s"
       ]
      },
      {
       "output_type": "stream",
       "stream": "stdout",
       "text": [
        "\n",
        "  2736  |    0.003478  |    0.005381  |     0.646327  |             |  9.4s"
       ]
      },
      {
       "output_type": "stream",
       "stream": "stdout",
       "text": [
        "\n",
        "  2737  |    0.003466  |    0.005335  |     0.649702  |             |  9.4s"
       ]
      },
      {
       "output_type": "stream",
       "stream": "stdout",
       "text": [
        "\n",
        "  2738  |    0.003470  |    0.005419  |     0.640386  |             |  9.4s"
       ]
      },
      {
       "output_type": "stream",
       "stream": "stdout",
       "text": [
        "\n",
        "  2739  |  \u001b[94m  0.003399\u001b[0m  |    0.005349  |     0.635544  |             |  9.4s"
       ]
      },
      {
       "output_type": "stream",
       "stream": "stdout",
       "text": [
        "\n",
        "  2740  |  \u001b[94m  0.003377\u001b[0m  |    0.005327  |     0.634005  |             |  9.4s"
       ]
      },
      {
       "output_type": "stream",
       "stream": "stdout",
       "text": [
        "\n",
        "  2741  |    0.003467  |    0.005353  |     0.647678  |             |  9.4s"
       ]
      },
      {
       "output_type": "stream",
       "stream": "stdout",
       "text": [
        "\n",
        "  2742  |    0.003503  |    0.005445  |     0.643320  |             |  9.4s"
       ]
      },
      {
       "output_type": "stream",
       "stream": "stdout",
       "text": [
        "\n",
        "  2743  |    0.003465  |  \u001b[32m  0.005307\u001b[0m  |     0.652916  |             |  9.4s"
       ]
      },
      {
       "output_type": "stream",
       "stream": "stdout",
       "text": [
        "\n",
        "  2744  |    0.003446  |    0.005370  |     0.641700  |             |  9.4s"
       ]
      },
      {
       "output_type": "stream",
       "stream": "stdout",
       "text": [
        "\n",
        "  2745  |    0.003520  |    0.005416  |     0.649941  |             |  9.4s"
       ]
      },
      {
       "output_type": "stream",
       "stream": "stdout",
       "text": [
        "\n",
        "  2746  |    0.003425  |    0.005377  |     0.637051  |             |  9.4s"
       ]
      },
      {
       "output_type": "stream",
       "stream": "stdout",
       "text": [
        "\n",
        "  2747  |    0.003408  |    0.005378  |     0.633684  |             |  9.4s"
       ]
      },
      {
       "output_type": "stream",
       "stream": "stdout",
       "text": [
        "\n",
        "  2748  |  \u001b[94m  0.003375\u001b[0m  |    0.005404  |     0.624442  |             |  9.4s"
       ]
      },
      {
       "output_type": "stream",
       "stream": "stdout",
       "text": [
        "\n",
        "  2749  |    0.003456  |    0.005401  |     0.639779  |             |  9.4s"
       ]
      },
      {
       "output_type": "stream",
       "stream": "stdout",
       "text": [
        "\n",
        "  2750  |    0.003481  |    0.005423  |     0.641857  |             |  9.4s"
       ]
      },
      {
       "output_type": "stream",
       "stream": "stdout",
       "text": [
        "\n",
        "  2751  |    0.003415  |    0.005361  |     0.637057  |             |  9.4s"
       ]
      },
      {
       "output_type": "stream",
       "stream": "stdout",
       "text": [
        "\n",
        "  2752  |    0.003557  |    0.005366  |     0.662869  |             |  9.4s"
       ]
      },
      {
       "output_type": "stream",
       "stream": "stdout",
       "text": [
        "\n",
        "  2753  |    0.003387  |    0.005359  |     0.632093  |             |  9.4s"
       ]
      },
      {
       "output_type": "stream",
       "stream": "stdout",
       "text": [
        "\n",
        "  2754  |    0.003416  |    0.005400  |     0.632542  |             |  9.4s"
       ]
      },
      {
       "output_type": "stream",
       "stream": "stdout",
       "text": [
        "\n",
        "  2755  |    0.003429  |    0.005363  |     0.639289  |             |  9.4s"
       ]
      },
      {
       "output_type": "stream",
       "stream": "stdout",
       "text": [
        "\n",
        "  2756  |    0.003480  |    0.005349  |     0.650675  |             |  9.4s"
       ]
      },
      {
       "output_type": "stream",
       "stream": "stdout",
       "text": [
        "\n",
        "  2757  |    0.003505  |    0.005371  |     0.652604  |             |  9.4s"
       ]
      },
      {
       "output_type": "stream",
       "stream": "stdout",
       "text": [
        "\n",
        "  2758  |    0.003451  |    0.005399  |     0.639312  |             |  9.4s"
       ]
      },
      {
       "output_type": "stream",
       "stream": "stdout",
       "text": [
        "\n",
        "  2759  |    0.003466  |    0.005365  |     0.645951  |             |  9.4s"
       ]
      },
      {
       "output_type": "stream",
       "stream": "stdout",
       "text": [
        "\n",
        "  2760  |    0.003451  |    0.005386  |     0.640671  |             |  9.4s"
       ]
      },
      {
       "output_type": "stream",
       "stream": "stdout",
       "text": [
        "\n",
        "  2761  |    0.003476  |    0.005429  |     0.640225  |             |  9.4s"
       ]
      },
      {
       "output_type": "stream",
       "stream": "stdout",
       "text": [
        "\n",
        "  2762  |    0.003447  |    0.005347  |     0.644637  |             |  9.4s"
       ]
      },
      {
       "output_type": "stream",
       "stream": "stdout",
       "text": [
        "\n",
        "  2763  |    0.003376  |    0.005448  |     0.619624  |             |  9.4s"
       ]
      },
      {
       "output_type": "stream",
       "stream": "stdout",
       "text": [
        "\n",
        "  2764  |    0.003440  |    0.005350  |     0.643013  |             |  9.4s"
       ]
      },
      {
       "output_type": "stream",
       "stream": "stdout",
       "text": [
        "\n",
        "  2765  |    0.003460  |    0.005384  |     0.642600  |             |  9.4s"
       ]
      },
      {
       "output_type": "stream",
       "stream": "stdout",
       "text": [
        "\n",
        "  2766  |    0.003465  |    0.005377  |     0.644308  |             |  9.4s"
       ]
      },
      {
       "output_type": "stream",
       "stream": "stdout",
       "text": [
        "\n",
        "  2767  |    0.003462  |    0.005377  |     0.643895  |             |  9.4s"
       ]
      },
      {
       "output_type": "stream",
       "stream": "stdout",
       "text": [
        "\n",
        "  2768  |    0.003430  |    0.005397  |     0.635633  |             |  9.4s"
       ]
      },
      {
       "output_type": "stream",
       "stream": "stdout",
       "text": [
        "\n",
        "  2769  |    0.003431  |    0.005362  |     0.639753  |             |  9.4s"
       ]
      },
      {
       "output_type": "stream",
       "stream": "stdout",
       "text": [
        "\n",
        "  2770  |    0.003453  |    0.005333  |     0.647442  |             |  9.4s"
       ]
      },
      {
       "output_type": "stream",
       "stream": "stdout",
       "text": [
        "\n",
        "  2771  |    0.003421  |    0.005326  |     0.642250  |             |  9.4s"
       ]
      },
      {
       "output_type": "stream",
       "stream": "stdout",
       "text": [
        "\n",
        "  2772  |  \u001b[94m  0.003351\u001b[0m  |    0.005375  |     0.623422  |             |  9.4s"
       ]
      },
      {
       "output_type": "stream",
       "stream": "stdout",
       "text": [
        "\n",
        "  2773  |    0.003379  |    0.005359  |     0.630538  |             |  9.4s"
       ]
      },
      {
       "output_type": "stream",
       "stream": "stdout",
       "text": [
        "\n",
        "  2774  |    0.003482  |    0.005343  |     0.651597  |             |  9.4s"
       ]
      },
      {
       "output_type": "stream",
       "stream": "stdout",
       "text": [
        "\n",
        "  2775  |    0.003489  |    0.005380  |     0.648590  |             |  9.4s"
       ]
      },
      {
       "output_type": "stream",
       "stream": "stdout",
       "text": [
        "\n",
        "  2776  |    0.003410  |    0.005313  |     0.641834  |             |  9.4s"
       ]
      },
      {
       "output_type": "stream",
       "stream": "stdout",
       "text": [
        "\n",
        "  2777  |    0.003383  |    0.005355  |     0.631639  |             |  9.4s"
       ]
      },
      {
       "output_type": "stream",
       "stream": "stdout",
       "text": [
        "\n",
        "  2778  |    0.003463  |    0.005316  |     0.651449  |             |  9.4s"
       ]
      },
      {
       "output_type": "stream",
       "stream": "stdout",
       "text": [
        "\n",
        "  2779  |    0.003414  |    0.005377  |     0.634850  |             |  9.4s"
       ]
      },
      {
       "output_type": "stream",
       "stream": "stdout",
       "text": [
        "\n",
        "  2780  |    0.003442  |    0.005311  |     0.648055  |             |  9.4s"
       ]
      },
      {
       "output_type": "stream",
       "stream": "stdout",
       "text": [
        "\n",
        "  2781  |    0.003444  |    0.005350  |     0.643797  |             |  9.4s"
       ]
      },
      {
       "output_type": "stream",
       "stream": "stdout",
       "text": [
        "\n",
        "  2782  |    0.003380  |    0.005320  |     0.635321  |             |  9.4s"
       ]
      },
      {
       "output_type": "stream",
       "stream": "stdout",
       "text": [
        "\n",
        "  2783  |    0.003441  |    0.005322  |     0.646448  |             |  9.4s"
       ]
      },
      {
       "output_type": "stream",
       "stream": "stdout",
       "text": [
        "\n",
        "  2784  |    0.003368  |    0.005348  |     0.629811  |             |  9.4s"
       ]
      },
      {
       "output_type": "stream",
       "stream": "stdout",
       "text": [
        "\n",
        "  2785  |    0.003425  |    0.005411  |     0.632922  |             |  9.4s"
       ]
      },
      {
       "output_type": "stream",
       "stream": "stdout",
       "text": [
        "\n",
        "  2786  |    0.003452  |    0.005401  |     0.639217  |             |  9.4s"
       ]
      },
      {
       "output_type": "stream",
       "stream": "stdout",
       "text": [
        "\n",
        "  2787  |    0.003407  |    0.005382  |     0.632914  |             |  9.4s"
       ]
      },
      {
       "output_type": "stream",
       "stream": "stdout",
       "text": [
        "\n",
        "  2788  |    0.003402  |    0.005363  |     0.634383  |             |  9.4s"
       ]
      },
      {
       "output_type": "stream",
       "stream": "stdout",
       "text": [
        "\n",
        "  2789  |    0.003401  |    0.005412  |     0.628341  |             |  9.4s"
       ]
      },
      {
       "output_type": "stream",
       "stream": "stdout",
       "text": [
        "\n",
        "  2790  |    0.003425  |    0.005356  |     0.639457  |             |  9.4s"
       ]
      },
      {
       "output_type": "stream",
       "stream": "stdout",
       "text": [
        "\n",
        "  2791  |    0.003437  |    0.005376  |     0.639237  |             |  9.4s"
       ]
      },
      {
       "output_type": "stream",
       "stream": "stdout",
       "text": [
        "\n",
        "  2792  |    0.003374  |    0.005388  |     0.626202  |             |  9.4s"
       ]
      },
      {
       "output_type": "stream",
       "stream": "stdout",
       "text": [
        "\n",
        "  2793  |    0.003470  |    0.005384  |     0.644620  |             |  9.4s"
       ]
      },
      {
       "output_type": "stream",
       "stream": "stdout",
       "text": [
        "\n",
        "  2794  |    0.003397  |    0.005379  |     0.631478  |             |  9.4s"
       ]
      },
      {
       "output_type": "stream",
       "stream": "stdout",
       "text": [
        "\n",
        "  2795  |    0.003398  |    0.005363  |     0.633527  |             |  9.4s"
       ]
      },
      {
       "output_type": "stream",
       "stream": "stdout",
       "text": [
        "\n",
        "  2796  |    0.003460  |    0.005368  |     0.644473  |             |  9.4s"
       ]
      },
      {
       "output_type": "stream",
       "stream": "stdout",
       "text": [
        "\n",
        "  2797  |    0.003448  |    0.005374  |     0.641545  |             |  9.4s"
       ]
      },
      {
       "output_type": "stream",
       "stream": "stdout",
       "text": [
        "\n",
        "  2798  |    0.003384  |    0.005380  |     0.629027  |             |  9.4s"
       ]
      },
      {
       "output_type": "stream",
       "stream": "stdout",
       "text": [
        "\n",
        "  2799  |    0.003442  |    0.005392  |     0.638396  |             |  9.4s"
       ]
      },
      {
       "output_type": "stream",
       "stream": "stdout",
       "text": [
        "\n",
        "  2800  |    0.003390  |    0.005413  |     0.626274  |             |  9.4s"
       ]
      },
      {
       "output_type": "stream",
       "stream": "stdout",
       "text": [
        "\n",
        "  2801  |    0.003426  |    0.005331  |     0.642657  |             |  9.4s"
       ]
      },
      {
       "output_type": "stream",
       "stream": "stdout",
       "text": [
        "\n",
        "  2802  |    0.003394  |    0.005382  |     0.630611  |             |  9.4s"
       ]
      },
      {
       "output_type": "stream",
       "stream": "stdout",
       "text": [
        "\n",
        "  2803  |    0.003369  |    0.005398  |     0.624158  |             |  9.4s"
       ]
      },
      {
       "output_type": "stream",
       "stream": "stdout",
       "text": [
        "\n",
        "  2804  |    0.003407  |    0.005345  |     0.637464  |             |  9.4s"
       ]
      },
      {
       "output_type": "stream",
       "stream": "stdout",
       "text": [
        "\n",
        "  2805  |    0.003357  |    0.005384  |     0.623526  |             |  9.4s"
       ]
      },
      {
       "output_type": "stream",
       "stream": "stdout",
       "text": [
        "\n",
        "  2806  |    0.003384  |    0.005353  |     0.632256  |             |  9.4s"
       ]
      },
      {
       "output_type": "stream",
       "stream": "stdout",
       "text": [
        "\n",
        "  2807  |    0.003383  |    0.005368  |     0.630150  |             |  9.4s"
       ]
      },
      {
       "output_type": "stream",
       "stream": "stdout",
       "text": [
        "\n",
        "  2808  |    0.003405  |    0.005418  |     0.628434  |             |  9.4s"
       ]
      },
      {
       "output_type": "stream",
       "stream": "stdout",
       "text": [
        "\n",
        "  2809  |    0.003351  |    0.005315  |     0.630504  |             |  9.4s"
       ]
      },
      {
       "output_type": "stream",
       "stream": "stdout",
       "text": [
        "\n",
        "  2810  |    0.003364  |    0.005418  |     0.620964  |             |  9.4s"
       ]
      },
      {
       "output_type": "stream",
       "stream": "stdout",
       "text": [
        "\n",
        "  2811  |  \u001b[94m  0.003349\u001b[0m  |    0.005349  |     0.626067  |             |  9.4s"
       ]
      },
      {
       "output_type": "stream",
       "stream": "stdout",
       "text": [
        "\n",
        "  2812  |    0.003369  |    0.005334  |     0.631676  |             |  9.4s"
       ]
      },
      {
       "output_type": "stream",
       "stream": "stdout",
       "text": [
        "\n",
        "  2813  |    0.003386  |    0.005391  |     0.628160  |             |  9.4s"
       ]
      },
      {
       "output_type": "stream",
       "stream": "stdout",
       "text": [
        "\n",
        "  2814  |    0.003421  |    0.005324  |     0.642600  |             |  9.4s"
       ]
      },
      {
       "output_type": "stream",
       "stream": "stdout",
       "text": [
        "\n",
        "  2815  |    0.003420  |    0.005365  |     0.637473  |             |  9.4s"
       ]
      },
      {
       "output_type": "stream",
       "stream": "stdout",
       "text": [
        "\n",
        "  2816  |    0.003350  |    0.005365  |     0.624292  |             |  9.4s"
       ]
      },
      {
       "output_type": "stream",
       "stream": "stdout",
       "text": [
        "\n",
        "  2817  |  \u001b[94m  0.003307\u001b[0m  |    0.005330  |     0.620475  |             |  9.4s"
       ]
      },
      {
       "output_type": "stream",
       "stream": "stdout",
       "text": [
        "\n",
        "  2818  |    0.003380  |    0.005364  |     0.630207  |             |  9.4s"
       ]
      },
      {
       "output_type": "stream",
       "stream": "stdout",
       "text": [
        "\n",
        "  2819  |  \u001b[94m  0.003289\u001b[0m  |    0.005345  |     0.615490  |             |  9.4s"
       ]
      },
      {
       "output_type": "stream",
       "stream": "stdout",
       "text": [
        "\n",
        "  2820  |    0.003408  |    0.005333  |     0.639069  |             |  9.4s"
       ]
      },
      {
       "output_type": "stream",
       "stream": "stdout",
       "text": [
        "\n",
        "  2821  |    0.003336  |    0.005359  |     0.622534  |             |  9.4s"
       ]
      },
      {
       "output_type": "stream",
       "stream": "stdout",
       "text": [
        "\n",
        "  2822  |    0.003381  |    0.005355  |     0.631310  |             |  9.4s"
       ]
      },
      {
       "output_type": "stream",
       "stream": "stdout",
       "text": [
        "\n",
        "  2823  |    0.003361  |  \u001b[32m  0.005291\u001b[0m  |     0.635275  |             |  9.4s"
       ]
      },
      {
       "output_type": "stream",
       "stream": "stdout",
       "text": [
        "\n",
        "  2824  |    0.003431  |    0.005379  |     0.637806  |             |  9.4s"
       ]
      },
      {
       "output_type": "stream",
       "stream": "stdout",
       "text": [
        "\n",
        "  2825  |    0.003312  |    0.005380  |     0.615548  |             |  9.4s"
       ]
      },
      {
       "output_type": "stream",
       "stream": "stdout",
       "text": [
        "\n",
        "  2826  |    0.003356  |    0.005339  |     0.628595  |             |  9.4s"
       ]
      },
      {
       "output_type": "stream",
       "stream": "stdout",
       "text": [
        "\n",
        "  2827  |    0.003331  |    0.005352  |     0.622373  |             |  9.4s"
       ]
      },
      {
       "output_type": "stream",
       "stream": "stdout",
       "text": [
        "\n",
        "  2828  |    0.003366  |    0.005316  |     0.633168  |             |  9.4s"
       ]
      },
      {
       "output_type": "stream",
       "stream": "stdout",
       "text": [
        "\n",
        "  2829  |  \u001b[94m  0.003283\u001b[0m  |    0.005422  |     0.605538  |             |  9.4s"
       ]
      },
      {
       "output_type": "stream",
       "stream": "stdout",
       "text": [
        "\n",
        "  2830  |    0.003316  |    0.005346  |     0.620268  |             |  9.4s"
       ]
      },
      {
       "output_type": "stream",
       "stream": "stdout",
       "text": [
        "\n",
        "  2831  |    0.003353  |    0.005363  |     0.625224  |             |  9.4s"
       ]
      },
      {
       "output_type": "stream",
       "stream": "stdout",
       "text": [
        "\n",
        "  2832  |    0.003369  |    0.005313  |     0.634104  |             |  9.4s"
       ]
      },
      {
       "output_type": "stream",
       "stream": "stdout",
       "text": [
        "\n",
        "  2833  |    0.003321  |    0.005396  |     0.615423  |             |  9.4s"
       ]
      },
      {
       "output_type": "stream",
       "stream": "stdout",
       "text": [
        "\n",
        "  2834  |    0.003363  |    0.005323  |     0.631732  |             |  9.4s"
       ]
      },
      {
       "output_type": "stream",
       "stream": "stdout",
       "text": [
        "\n",
        "  2835  |    0.003402  |    0.005343  |     0.636716  |             |  9.4s"
       ]
      },
      {
       "output_type": "stream",
       "stream": "stdout",
       "text": [
        "\n",
        "  2836  |    0.003333  |    0.005427  |     0.614235  |             |  9.4s"
       ]
      },
      {
       "output_type": "stream",
       "stream": "stdout",
       "text": [
        "\n",
        "  2837  |    0.003412  |    0.005382  |     0.633928  |             |  9.4s"
       ]
      },
      {
       "output_type": "stream",
       "stream": "stdout",
       "text": [
        "\n",
        "  2838  |    0.003334  |    0.005350  |     0.623177  |             |  9.4s"
       ]
      },
      {
       "output_type": "stream",
       "stream": "stdout",
       "text": [
        "\n",
        "  2839  |    0.003344  |    0.005356  |     0.624479  |             |  9.4s"
       ]
      },
      {
       "output_type": "stream",
       "stream": "stdout",
       "text": [
        "\n",
        "  2840  |    0.003371  |    0.005388  |     0.625726  |             |  9.4s"
       ]
      },
      {
       "output_type": "stream",
       "stream": "stdout",
       "text": [
        "\n",
        "  2841  |    0.003368  |    0.005347  |     0.629974  |             |  9.4s"
       ]
      },
      {
       "output_type": "stream",
       "stream": "stdout",
       "text": [
        "\n",
        "  2842  |    0.003357  |    0.005331  |     0.629763  |             |  9.4s"
       ]
      },
      {
       "output_type": "stream",
       "stream": "stdout",
       "text": [
        "\n",
        "  2843  |    0.003419  |    0.005358  |     0.638064  |             |  9.4s"
       ]
      },
      {
       "output_type": "stream",
       "stream": "stdout",
       "text": [
        "\n",
        "  2844  |    0.003336  |    0.005321  |     0.626912  |             |  9.4s"
       ]
      },
      {
       "output_type": "stream",
       "stream": "stdout",
       "text": [
        "\n",
        "  2845  |    0.003374  |    0.005321  |     0.634071  |             |  9.4s"
       ]
      },
      {
       "output_type": "stream",
       "stream": "stdout",
       "text": [
        "\n",
        "  2846  |    0.003387  |    0.005314  |     0.637441  |             |  9.4s"
       ]
      },
      {
       "output_type": "stream",
       "stream": "stdout",
       "text": [
        "\n",
        "  2847  |    0.003320  |    0.005363  |     0.619007  |             |  9.4s"
       ]
      },
      {
       "output_type": "stream",
       "stream": "stdout",
       "text": [
        "\n",
        "  2848  |  \u001b[94m  0.003281\u001b[0m  |    0.005351  |     0.613162  |             |  9.4s"
       ]
      },
      {
       "output_type": "stream",
       "stream": "stdout",
       "text": [
        "\n",
        "  2849  |    0.003339  |  \u001b[32m  0.005229\u001b[0m  |     0.638578  |             |  9.4s"
       ]
      },
      {
       "output_type": "stream",
       "stream": "stdout",
       "text": [
        "\n",
        "  2850  |    0.003335  |    0.005286  |     0.630830  |             |  9.4s"
       ]
      },
      {
       "output_type": "stream",
       "stream": "stdout",
       "text": [
        "\n",
        "  2851  |    0.003319  |    0.005340  |     0.621554  |             |  9.4s"
       ]
      },
      {
       "output_type": "stream",
       "stream": "stdout",
       "text": [
        "\n",
        "  2852  |    0.003363  |    0.005329  |     0.631082  |             |  9.4s"
       ]
      },
      {
       "output_type": "stream",
       "stream": "stdout",
       "text": [
        "\n",
        "  2853  |    0.003334  |    0.005294  |     0.629861  |             |  9.4s"
       ]
      },
      {
       "output_type": "stream",
       "stream": "stdout",
       "text": [
        "\n",
        "  2854  |    0.003405  |    0.005385  |     0.632398  |             |  9.4s"
       ]
      },
      {
       "output_type": "stream",
       "stream": "stdout",
       "text": [
        "\n",
        "  2855  |    0.003375  |    0.005369  |     0.628654  |             |  9.4s"
       ]
      },
      {
       "output_type": "stream",
       "stream": "stdout",
       "text": [
        "\n",
        "  2856  |    0.003345  |    0.005323  |     0.628457  |             |  9.4s"
       ]
      },
      {
       "output_type": "stream",
       "stream": "stdout",
       "text": [
        "\n",
        "  2857  |    0.003340  |    0.005366  |     0.622338  |             |  9.4s"
       ]
      },
      {
       "output_type": "stream",
       "stream": "stdout",
       "text": [
        "\n",
        "  2858  |    0.003302  |    0.005310  |     0.621833  |             |  9.4s"
       ]
      },
      {
       "output_type": "stream",
       "stream": "stdout",
       "text": [
        "\n",
        "  2859  |    0.003314  |    0.005358  |     0.618611  |             |  9.4s"
       ]
      },
      {
       "output_type": "stream",
       "stream": "stdout",
       "text": [
        "\n",
        "  2860  |  \u001b[94m  0.003279\u001b[0m  |    0.005340  |     0.614013  |             |  9.4s"
       ]
      },
      {
       "output_type": "stream",
       "stream": "stdout",
       "text": [
        "\n",
        "  2861  |    0.003314  |    0.005302  |     0.624984  |             |  9.4s"
       ]
      },
      {
       "output_type": "stream",
       "stream": "stdout",
       "text": [
        "\n",
        "  2862  |    0.003317  |    0.005359  |     0.618952  |             |  9.4s"
       ]
      },
      {
       "output_type": "stream",
       "stream": "stdout",
       "text": [
        "\n",
        "  2863  |  \u001b[94m  0.003263\u001b[0m  |    0.005370  |     0.607664  |             |  9.4s"
       ]
      },
      {
       "output_type": "stream",
       "stream": "stdout",
       "text": [
        "\n",
        "  2864  |    0.003309  |    0.005319  |     0.622142  |             |  9.4s"
       ]
      },
      {
       "output_type": "stream",
       "stream": "stdout",
       "text": [
        "\n",
        "  2865  |    0.003324  |    0.005349  |     0.621361  |             |  9.4s"
       ]
      },
      {
       "output_type": "stream",
       "stream": "stdout",
       "text": [
        "\n",
        "  2866  |    0.003323  |    0.005344  |     0.621849  |             |  9.4s"
       ]
      },
      {
       "output_type": "stream",
       "stream": "stdout",
       "text": [
        "\n",
        "  2867  |    0.003379  |    0.005283  |     0.639690  |             |  9.4s"
       ]
      },
      {
       "output_type": "stream",
       "stream": "stdout",
       "text": [
        "\n",
        "  2868  |    0.003353  |    0.005365  |     0.624999  |             |  9.4s"
       ]
      },
      {
       "output_type": "stream",
       "stream": "stdout",
       "text": [
        "\n",
        "  2869  |    0.003265  |    0.005404  |     0.604087  |             |  9.4s"
       ]
      },
      {
       "output_type": "stream",
       "stream": "stdout",
       "text": [
        "\n",
        "  2870  |    0.003312  |    0.005343  |     0.619870  |             |  9.4s"
       ]
      },
      {
       "output_type": "stream",
       "stream": "stdout",
       "text": [
        "\n",
        "  2871  |    0.003320  |    0.005342  |     0.621509  |             |  9.4s"
       ]
      },
      {
       "output_type": "stream",
       "stream": "stdout",
       "text": [
        "\n",
        "  2872  |    0.003284  |    0.005347  |     0.614224  |             |  9.4s"
       ]
      },
      {
       "output_type": "stream",
       "stream": "stdout",
       "text": [
        "\n",
        "  2873  |    0.003324  |    0.005312  |     0.625745  |             |  9.4s"
       ]
      },
      {
       "output_type": "stream",
       "stream": "stdout",
       "text": [
        "\n",
        "  2874  |    0.003273  |    0.005408  |     0.605259  |             |  9.4s"
       ]
      },
      {
       "output_type": "stream",
       "stream": "stdout",
       "text": [
        "\n",
        "  2875  |    0.003271  |    0.005384  |     0.607468  |             |  9.4s"
       ]
      },
      {
       "output_type": "stream",
       "stream": "stdout",
       "text": [
        "\n",
        "  2876  |    0.003333  |    0.005312  |     0.627542  |             |  9.4s"
       ]
      },
      {
       "output_type": "stream",
       "stream": "stdout",
       "text": [
        "\n",
        "  2877  |    0.003293  |    0.005658  |     0.582067  |             |  9.4s"
       ]
      },
      {
       "output_type": "stream",
       "stream": "stdout",
       "text": [
        "\n",
        "  2878  |    0.003327  |    0.005381  |     0.618312  |             |  9.4s"
       ]
      },
      {
       "output_type": "stream",
       "stream": "stdout",
       "text": [
        "\n",
        "  2879  |    0.003313  |    0.005354  |     0.618835  |             |  9.4s"
       ]
      },
      {
       "output_type": "stream",
       "stream": "stdout",
       "text": [
        "\n",
        "  2880  |    0.003304  |    0.005367  |     0.615640  |             |  9.4s"
       ]
      },
      {
       "output_type": "stream",
       "stream": "stdout",
       "text": [
        "\n",
        "  2881  |    0.003327  |    0.005332  |     0.623985  |             |  9.4s"
       ]
      },
      {
       "output_type": "stream",
       "stream": "stdout",
       "text": [
        "\n",
        "  2882  |    0.003306  |    0.005406  |     0.611412  |             |  9.4s"
       ]
      },
      {
       "output_type": "stream",
       "stream": "stdout",
       "text": [
        "\n",
        "  2883  |    0.003334  |    0.005383  |     0.619353  |             |  9.4s"
       ]
      },
      {
       "output_type": "stream",
       "stream": "stdout",
       "text": [
        "\n",
        "  2884  |    0.003282  |    0.005357  |     0.612671  |             |  9.4s"
       ]
      },
      {
       "output_type": "stream",
       "stream": "stdout",
       "text": [
        "\n",
        "  2885  |  \u001b[94m  0.003252\u001b[0m  |    0.005306  |     0.612929  |             |  9.4s"
       ]
      },
      {
       "output_type": "stream",
       "stream": "stdout",
       "text": [
        "\n",
        "  2886  |    0.003279  |    0.005328  |     0.615488  |             |  9.4s"
       ]
      },
      {
       "output_type": "stream",
       "stream": "stdout",
       "text": [
        "\n",
        "  2887  |    0.003301  |    0.005331  |     0.619238  |             |  9.4s"
       ]
      },
      {
       "output_type": "stream",
       "stream": "stdout",
       "text": [
        "\n",
        "  2888  |    0.003289  |    0.005353  |     0.614427  |             |  9.4s"
       ]
      },
      {
       "output_type": "stream",
       "stream": "stdout",
       "text": [
        "\n",
        "  2889  |    0.003278  |    0.005376  |     0.609793  |             |  9.4s"
       ]
      },
      {
       "output_type": "stream",
       "stream": "stdout",
       "text": [
        "\n",
        "  2890  |    0.003307  |    0.005354  |     0.617585  |             |  9.4s"
       ]
      },
      {
       "output_type": "stream",
       "stream": "stdout",
       "text": [
        "\n",
        "  2891  |  \u001b[94m  0.003220\u001b[0m  |    0.005311  |     0.606332  |             |  9.4s"
       ]
      },
      {
       "output_type": "stream",
       "stream": "stdout",
       "text": [
        "\n",
        "  2892  |    0.003320  |    0.005307  |     0.625533  |             |  9.4s"
       ]
      },
      {
       "output_type": "stream",
       "stream": "stdout",
       "text": [
        "\n",
        "  2893  |    0.003307  |    0.005323  |     0.621204  |             |  9.4s"
       ]
      },
      {
       "output_type": "stream",
       "stream": "stdout",
       "text": [
        "\n",
        "  2894  |    0.003253  |    0.005273  |     0.617057  |             |  9.4s"
       ]
      },
      {
       "output_type": "stream",
       "stream": "stdout",
       "text": [
        "\n",
        "  2895  |    0.003272  |    0.005281  |     0.619574  |             |  9.4s"
       ]
      },
      {
       "output_type": "stream",
       "stream": "stdout",
       "text": [
        "\n",
        "  2896  |    0.003280  |    0.005314  |     0.617198  |             |  9.4s"
       ]
      },
      {
       "output_type": "stream",
       "stream": "stdout",
       "text": [
        "\n",
        "  2897  |    0.003291  |    0.005350  |     0.615152  |             |  9.4s"
       ]
      },
      {
       "output_type": "stream",
       "stream": "stdout",
       "text": [
        "\n",
        "  2898  |    0.003323  |    0.005311  |     0.625708  |             |  9.4s"
       ]
      },
      {
       "output_type": "stream",
       "stream": "stdout",
       "text": [
        "\n",
        "  2899  |    0.003277  |    0.005378  |     0.609397  |             |  9.4s"
       ]
      },
      {
       "output_type": "stream",
       "stream": "stdout",
       "text": [
        "\n",
        "  2900  |    0.003260  |    0.005278  |     0.617670  |             |  9.4s"
       ]
      },
      {
       "output_type": "stream",
       "stream": "stdout",
       "text": [
        "\n",
        "  2901  |    0.003315  |    0.005332  |     0.621793  |             |  9.4s"
       ]
      },
      {
       "output_type": "stream",
       "stream": "stdout",
       "text": [
        "\n",
        "  2902  |    0.003229  |    0.005317  |     0.607333  |             |  9.4s"
       ]
      },
      {
       "output_type": "stream",
       "stream": "stdout",
       "text": [
        "\n",
        "  2903  |    0.003248  |    0.005345  |     0.607614  |             |  9.4s"
       ]
      },
      {
       "output_type": "stream",
       "stream": "stdout",
       "text": [
        "\n",
        "  2904  |    0.003229  |    0.005345  |     0.604201  |             |  9.4s"
       ]
      },
      {
       "output_type": "stream",
       "stream": "stdout",
       "text": [
        "\n",
        "  2905  |    0.003262  |    0.005308  |     0.614651  |             |  9.4s"
       ]
      },
      {
       "output_type": "stream",
       "stream": "stdout",
       "text": [
        "\n",
        "  2906  |    0.003310  |    0.005332  |     0.620882  |             |  9.4s"
       ]
      },
      {
       "output_type": "stream",
       "stream": "stdout",
       "text": [
        "\n",
        "  2907  |    0.003254  |    0.005349  |     0.608459  |             |  9.4s"
       ]
      },
      {
       "output_type": "stream",
       "stream": "stdout",
       "text": [
        "\n",
        "  2908  |    0.003262  |    0.005332  |     0.611855  |             |  9.4s"
       ]
      },
      {
       "output_type": "stream",
       "stream": "stdout",
       "text": [
        "\n",
        "  2909  |    0.003262  |    0.005376  |     0.606749  |             |  9.4s"
       ]
      },
      {
       "output_type": "stream",
       "stream": "stdout",
       "text": [
        "\n",
        "  2910  |    0.003273  |    0.005357  |     0.611000  |             |  9.4s"
       ]
      },
      {
       "output_type": "stream",
       "stream": "stdout",
       "text": [
        "\n",
        "  2911  |    0.003277  |    0.005383  |     0.608784  |             |  9.4s"
       ]
      },
      {
       "output_type": "stream",
       "stream": "stdout",
       "text": [
        "\n",
        "  2912  |    0.003272  |    0.005293  |     0.618144  |             |  9.4s"
       ]
      },
      {
       "output_type": "stream",
       "stream": "stdout",
       "text": [
        "\n",
        "  2913  |    0.003261  |    0.005342  |     0.610377  |             |  9.4s"
       ]
      },
      {
       "output_type": "stream",
       "stream": "stdout",
       "text": [
        "\n",
        "  2914  |    0.003285  |    0.005350  |     0.613887  |             |  9.4s"
       ]
      },
      {
       "output_type": "stream",
       "stream": "stdout",
       "text": [
        "\n",
        "  2915  |  \u001b[94m  0.003216\u001b[0m  |    0.005360  |     0.600139  |             |  9.4s"
       ]
      },
      {
       "output_type": "stream",
       "stream": "stdout",
       "text": [
        "\n",
        "  2916  |    0.003326  |    0.005348  |     0.621870  |             |  9.4s"
       ]
      },
      {
       "output_type": "stream",
       "stream": "stdout",
       "text": [
        "\n",
        "  2917  |    0.003229  |    0.005335  |     0.605199  |             |  9.4s"
       ]
      },
      {
       "output_type": "stream",
       "stream": "stdout",
       "text": [
        "\n",
        "  2918  |    0.003246  |    0.005319  |     0.610164  |             |  9.4s"
       ]
      },
      {
       "output_type": "stream",
       "stream": "stdout",
       "text": [
        "\n",
        "  2919  |    0.003219  |    0.005376  |     0.598888  |             |  9.4s"
       ]
      },
      {
       "output_type": "stream",
       "stream": "stdout",
       "text": [
        "\n",
        "  2920  |    0.003221  |    0.005364  |     0.600505  |             |  9.4s"
       ]
      },
      {
       "output_type": "stream",
       "stream": "stdout",
       "text": [
        "\n",
        "  2921  |    0.003264  |    0.005345  |     0.610529  |             |  9.4s"
       ]
      },
      {
       "output_type": "stream",
       "stream": "stdout",
       "text": [
        "\n",
        "  2922  |    0.003270  |    0.005323  |     0.614344  |             |  9.4s"
       ]
      },
      {
       "output_type": "stream",
       "stream": "stdout",
       "text": [
        "\n",
        "  2923  |    0.003263  |    0.005319  |     0.613434  |             |  9.4s"
       ]
      },
      {
       "output_type": "stream",
       "stream": "stdout",
       "text": [
        "\n",
        "  2924  |    0.003267  |    0.005317  |     0.614457  |             |  9.4s"
       ]
      },
      {
       "output_type": "stream",
       "stream": "stdout",
       "text": [
        "\n",
        "  2925  |  \u001b[94m  0.003200\u001b[0m  |    0.005322  |     0.601214  |             |  9.4s"
       ]
      },
      {
       "output_type": "stream",
       "stream": "stdout",
       "text": [
        "\n",
        "  2926  |    0.003205  |    0.005381  |     0.595668  |             |  9.4s"
       ]
      },
      {
       "output_type": "stream",
       "stream": "stdout",
       "text": [
        "\n",
        "  2927  |    0.003237  |    0.005366  |     0.603327  |             |  9.4s"
       ]
      },
      {
       "output_type": "stream",
       "stream": "stdout",
       "text": [
        "\n",
        "  2928  |    0.003250  |    0.005304  |     0.612759  |             |  9.4s"
       ]
      },
      {
       "output_type": "stream",
       "stream": "stdout",
       "text": [
        "\n",
        "  2929  |    0.003249  |    0.005332  |     0.609268  |             |  9.4s"
       ]
      },
      {
       "output_type": "stream",
       "stream": "stdout",
       "text": [
        "\n",
        "  2930  |  \u001b[94m  0.003199\u001b[0m  |    0.005335  |     0.599639  |             |  9.4s"
       ]
      },
      {
       "output_type": "stream",
       "stream": "stdout",
       "text": [
        "\n",
        "  2931  |    0.003258  |    0.005320  |     0.612462  |             |  9.4s"
       ]
      },
      {
       "output_type": "stream",
       "stream": "stdout",
       "text": [
        "\n",
        "  2932  |    0.003270  |    0.005330  |     0.613572  |             |  9.4s"
       ]
      },
      {
       "output_type": "stream",
       "stream": "stdout",
       "text": [
        "\n",
        "  2933  |    0.003222  |    0.005351  |     0.602182  |             |  9.4s"
       ]
      },
      {
       "output_type": "stream",
       "stream": "stdout",
       "text": [
        "\n",
        "  2934  |    0.003272  |    0.005379  |     0.608305  |             |  9.4s"
       ]
      },
      {
       "output_type": "stream",
       "stream": "stdout",
       "text": [
        "\n",
        "  2935  |    0.003255  |    0.005386  |     0.604423  |             |  9.4s"
       ]
      },
      {
       "output_type": "stream",
       "stream": "stdout",
       "text": [
        "\n",
        "  2936  |  \u001b[94m  0.003185\u001b[0m  |    0.005348  |     0.595482  |             |  9.4s"
       ]
      },
      {
       "output_type": "stream",
       "stream": "stdout",
       "text": [
        "\n",
        "  2937  |    0.003228  |    0.005363  |     0.601897  |             |  9.4s"
       ]
      },
      {
       "output_type": "stream",
       "stream": "stdout",
       "text": [
        "\n",
        "  2938  |    0.003272  |    0.005411  |     0.604589  |             |  9.4s"
       ]
      },
      {
       "output_type": "stream",
       "stream": "stdout",
       "text": [
        "\n",
        "  2939  |    0.003235  |    0.005398  |     0.599244  |             |  9.4s"
       ]
      },
      {
       "output_type": "stream",
       "stream": "stdout",
       "text": [
        "\n",
        "  2940  |    0.003258  |    0.005332  |     0.611131  |             |  9.4s"
       ]
      },
      {
       "output_type": "stream",
       "stream": "stdout",
       "text": [
        "\n",
        "  2941  |    0.003213  |    0.005349  |     0.600571  |             |  9.4s"
       ]
      },
      {
       "output_type": "stream",
       "stream": "stdout",
       "text": [
        "\n",
        "  2942  |    0.003251  |    0.005400  |     0.602008  |             |  9.4s"
       ]
      },
      {
       "output_type": "stream",
       "stream": "stdout",
       "text": [
        "\n",
        "  2943  |    0.003261  |    0.005395  |     0.604471  |             |  9.4s"
       ]
      },
      {
       "output_type": "stream",
       "stream": "stdout",
       "text": [
        "\n",
        "  2944  |  \u001b[94m  0.003184\u001b[0m  |    0.005376  |     0.592177  |             |  9.4s"
       ]
      },
      {
       "output_type": "stream",
       "stream": "stdout",
       "text": [
        "\n",
        "  2945  |    0.003274  |    0.005349  |     0.612064  |             |  9.4s"
       ]
      },
      {
       "output_type": "stream",
       "stream": "stdout",
       "text": [
        "\n",
        "  2946  |    0.003262  |    0.005356  |     0.609007  |             |  9.4s"
       ]
      },
      {
       "output_type": "stream",
       "stream": "stdout",
       "text": [
        "\n",
        "  2947  |    0.003286  |    0.005323  |     0.617297  |             |  9.4s"
       ]
      },
      {
       "output_type": "stream",
       "stream": "stdout",
       "text": [
        "\n",
        "  2948  |    0.003256  |    0.005285  |     0.616114  |             |  9.4s"
       ]
      },
      {
       "output_type": "stream",
       "stream": "stdout",
       "text": [
        "\n",
        "  2949  |  \u001b[94m  0.003162\u001b[0m  |    0.005334  |     0.592757  |             |  9.4s"
       ]
      },
      {
       "output_type": "stream",
       "stream": "stdout",
       "text": [
        "\n",
        "  2950  |    0.003196  |    0.005384  |     0.593551  |             |  9.4s"
       ]
      },
      {
       "output_type": "stream",
       "stream": "stdout",
       "text": [
        "\n",
        "  2951  |  \u001b[94m  0.003156\u001b[0m  |    0.005338  |     0.591211  |             |  9.4s"
       ]
      },
      {
       "output_type": "stream",
       "stream": "stdout",
       "text": [
        "\n",
        "  2952  |    0.003260  |    0.005326  |     0.612022  |             |  9.4s"
       ]
      },
      {
       "output_type": "stream",
       "stream": "stdout",
       "text": [
        "\n",
        "  2953  |    0.003179  |    0.005365  |     0.592515  |             |  9.4s"
       ]
      },
      {
       "output_type": "stream",
       "stream": "stdout",
       "text": [
        "\n",
        "  2954  |    0.003193  |    0.005389  |     0.592556  |             |  9.4s"
       ]
      },
      {
       "output_type": "stream",
       "stream": "stdout",
       "text": [
        "\n",
        "  2955  |  \u001b[94m  0.003149\u001b[0m  |    0.005373  |     0.586134  |             |  9.4s"
       ]
      },
      {
       "output_type": "stream",
       "stream": "stdout",
       "text": [
        "\n",
        "  2956  |    0.003250  |    0.005341  |     0.608447  |             |  9.4s"
       ]
      },
      {
       "output_type": "stream",
       "stream": "stdout",
       "text": [
        "\n",
        "  2957  |    0.003192  |    0.005410  |     0.589963  |             |  9.4s"
       ]
      },
      {
       "output_type": "stream",
       "stream": "stdout",
       "text": [
        "\n",
        "  2958  |    0.003199  |    0.005313  |     0.602026  |             |  9.4s"
       ]
      },
      {
       "output_type": "stream",
       "stream": "stdout",
       "text": [
        "\n",
        "  2959  |    0.003209  |    0.005310  |     0.604445  |             |  9.4s"
       ]
      },
      {
       "output_type": "stream",
       "stream": "stdout",
       "text": [
        "\n",
        "  2960  |    0.003201  |    0.005338  |     0.599670  |             |  9.4s"
       ]
      },
      {
       "output_type": "stream",
       "stream": "stdout",
       "text": [
        "\n",
        "  2961  |    0.003201  |    0.005363  |     0.596907  |             |  9.4s"
       ]
      },
      {
       "output_type": "stream",
       "stream": "stdout",
       "text": [
        "\n",
        "  2962  |    0.003261  |    0.005355  |     0.608991  |             |  9.4s"
       ]
      },
      {
       "output_type": "stream",
       "stream": "stdout",
       "text": [
        "\n",
        "  2963  |    0.003203  |    0.005357  |     0.597895  |             |  9.4s"
       ]
      },
      {
       "output_type": "stream",
       "stream": "stdout",
       "text": [
        "\n",
        "  2964  |    0.003168  |    0.005338  |     0.593565  |             |  9.4s"
       ]
      },
      {
       "output_type": "stream",
       "stream": "stdout",
       "text": [
        "\n",
        "  2965  |    0.003178  |    0.005409  |     0.587509  |             |  9.4s"
       ]
      },
      {
       "output_type": "stream",
       "stream": "stdout",
       "text": [
        "\n",
        "  2966  |    0.003249  |    0.005469  |     0.594062  |             |  9.4s"
       ]
      },
      {
       "output_type": "stream",
       "stream": "stdout",
       "text": [
        "\n",
        "  2967  |    0.003221  |    0.005330  |     0.604309  |             |  9.4s"
       ]
      },
      {
       "output_type": "stream",
       "stream": "stdout",
       "text": [
        "\n",
        "  2968  |    0.003185  |    0.005355  |     0.594877  |             |  9.4s"
       ]
      },
      {
       "output_type": "stream",
       "stream": "stdout",
       "text": [
        "\n",
        "  2969  |    0.003221  |    0.005380  |     0.598718  |             |  9.4s"
       ]
      },
      {
       "output_type": "stream",
       "stream": "stdout",
       "text": [
        "\n",
        "  2970  |    0.003218  |    0.005307  |     0.606370  |             |  9.4s"
       ]
      },
      {
       "output_type": "stream",
       "stream": "stdout",
       "text": [
        "\n",
        "  2971  |    0.003181  |    0.005317  |     0.598276  |             |  9.4s"
       ]
      },
      {
       "output_type": "stream",
       "stream": "stdout",
       "text": [
        "\n",
        "  2972  |    0.003186  |    0.005342  |     0.596434  |             |  9.4s"
       ]
      },
      {
       "output_type": "stream",
       "stream": "stdout",
       "text": [
        "\n",
        "  2973  |    0.003159  |    0.005340  |     0.591534  |             |  9.4s"
       ]
      },
      {
       "output_type": "stream",
       "stream": "stdout",
       "text": [
        "\n",
        "  2974  |    0.003266  |    0.005314  |     0.614542  |             |  9.4s"
       ]
      },
      {
       "output_type": "stream",
       "stream": "stdout",
       "text": [
        "\n",
        "  2975  |    0.003232  |    0.005295  |     0.610274  |             |  9.4s"
       ]
      },
      {
       "output_type": "stream",
       "stream": "stdout",
       "text": [
        "\n",
        "  2976  |    0.003189  |    0.005380  |     0.592734  |             |  9.4s"
       ]
      },
      {
       "output_type": "stream",
       "stream": "stdout",
       "text": [
        "\n",
        "  2977  |    0.003183  |    0.005342  |     0.595846  |             |  9.4s"
       ]
      },
      {
       "output_type": "stream",
       "stream": "stdout",
       "text": [
        "\n",
        "  2978  |    0.003225  |    0.005307  |     0.607649  |             |  9.4s"
       ]
      },
      {
       "output_type": "stream",
       "stream": "stdout",
       "text": [
        "\n",
        "  2979  |    0.003196  |    0.005374  |     0.594594  |             |  9.4s"
       ]
      },
      {
       "output_type": "stream",
       "stream": "stdout",
       "text": [
        "\n",
        "  2980  |  \u001b[94m  0.003146\u001b[0m  |    0.005328  |     0.590357  |             |  9.4s"
       ]
      },
      {
       "output_type": "stream",
       "stream": "stdout",
       "text": [
        "\n",
        "  2981  |    0.003148  |    0.005354  |     0.587897  |             |  9.4s"
       ]
      },
      {
       "output_type": "stream",
       "stream": "stdout",
       "text": [
        "\n",
        "  2982  |    0.003152  |    0.005403  |     0.583386  |             |  9.4s"
       ]
      },
      {
       "output_type": "stream",
       "stream": "stdout",
       "text": [
        "\n",
        "  2983  |    0.003251  |    0.005351  |     0.607528  |             |  9.4s"
       ]
      },
      {
       "output_type": "stream",
       "stream": "stdout",
       "text": [
        "\n",
        "  2984  |    0.003180  |    0.005290  |     0.601184  |             |  9.4s"
       ]
      },
      {
       "output_type": "stream",
       "stream": "stdout",
       "text": [
        "\n",
        "  2985  |  \u001b[94m  0.003128\u001b[0m  |    0.005375  |     0.581951  |             |  9.4s"
       ]
      },
      {
       "output_type": "stream",
       "stream": "stdout",
       "text": [
        "\n",
        "  2986  |    0.003170  |    0.005312  |     0.596811  |             |  9.4s"
       ]
      },
      {
       "output_type": "stream",
       "stream": "stdout",
       "text": [
        "\n",
        "  2987  |  \u001b[94m  0.003121\u001b[0m  |    0.005399  |     0.577973  |             |  9.4s"
       ]
      },
      {
       "output_type": "stream",
       "stream": "stdout",
       "text": [
        "\n",
        "  2988  |    0.003212  |    0.005386  |     0.596336  |             |  9.4s"
       ]
      },
      {
       "output_type": "stream",
       "stream": "stdout",
       "text": [
        "\n",
        "  2989  |    0.003165  |    0.005358  |     0.590656  |             |  9.4s"
       ]
      },
      {
       "output_type": "stream",
       "stream": "stdout",
       "text": [
        "\n",
        "  2990  |    0.003178  |    0.005338  |     0.595323  |             |  9.4s"
       ]
      },
      {
       "output_type": "stream",
       "stream": "stdout",
       "text": [
        "\n",
        "  2991  |    0.003170  |    0.005398  |     0.587312  |             |  9.4s"
       ]
      },
      {
       "output_type": "stream",
       "stream": "stdout",
       "text": [
        "\n",
        "  2992  |    0.003158  |    0.005361  |     0.589106  |             |  9.4s"
       ]
      },
      {
       "output_type": "stream",
       "stream": "stdout",
       "text": [
        "\n",
        "  2993  |    0.003186  |    0.005344  |     0.596258  |             |  9.4s"
       ]
      },
      {
       "output_type": "stream",
       "stream": "stdout",
       "text": [
        "\n",
        "  2994  |    0.003123  |    0.005338  |     0.585167  |             |  9.4s"
       ]
      },
      {
       "output_type": "stream",
       "stream": "stdout",
       "text": [
        "\n",
        "  2995  |    0.003194  |    0.005296  |     0.603092  |             |  9.4s"
       ]
      },
      {
       "output_type": "stream",
       "stream": "stdout",
       "text": [
        "\n",
        "  2996  |    0.003215  |    0.005373  |     0.598288  |             |  9.4s"
       ]
      },
      {
       "output_type": "stream",
       "stream": "stdout",
       "text": [
        "\n",
        "  2997  |    0.003243  |    0.005343  |     0.606929  |             |  9.4s"
       ]
      },
      {
       "output_type": "stream",
       "stream": "stdout",
       "text": [
        "\n",
        "  2998  |    0.003203  |    0.005337  |     0.600152  |             |  9.4s"
       ]
      },
      {
       "output_type": "stream",
       "stream": "stdout",
       "text": [
        "\n",
        "  2999  |    0.003132  |    0.005397  |     0.580308  |             |  9.4s"
       ]
      },
      {
       "output_type": "stream",
       "stream": "stdout",
       "text": [
        "\n",
        "  3000  |    0.003189  |    0.005349  |     0.596262  |             |  9.4s"
       ]
      },
      {
       "output_type": "stream",
       "stream": "stdout",
       "text": [
        "\n",
        "  3001  |    0.003186  |    0.005322  |     0.598729  |             |  9.4s"
       ]
      },
      {
       "output_type": "stream",
       "stream": "stdout",
       "text": [
        "\n",
        "  3002  |    0.003197  |    0.005311  |     0.601935  |             |  9.4s"
       ]
      },
      {
       "output_type": "stream",
       "stream": "stdout",
       "text": [
        "\n",
        "  3003  |    0.003150  |    0.005343  |     0.589496  |             |  9.4s"
       ]
      },
      {
       "output_type": "stream",
       "stream": "stdout",
       "text": [
        "\n",
        "  3004  |  \u001b[94m  0.003116\u001b[0m  |    0.005345  |     0.583030  |             |  9.4s"
       ]
      },
      {
       "output_type": "stream",
       "stream": "stdout",
       "text": [
        "\n",
        "  3005  |  \u001b[94m  0.003099\u001b[0m  |    0.005375  |     0.576568  |             |  9.4s"
       ]
      },
      {
       "output_type": "stream",
       "stream": "stdout",
       "text": [
        "\n",
        "  3006  |    0.003103  |    0.005337  |     0.581416  |             |  9.4s"
       ]
      },
      {
       "output_type": "stream",
       "stream": "stdout",
       "text": [
        "\n",
        "  3007  |    0.003125  |    0.005315  |     0.587869  |             |  9.4s"
       ]
      },
      {
       "output_type": "stream",
       "stream": "stdout",
       "text": [
        "\n",
        "  3008  |    0.003148  |    0.005365  |     0.586830  |             |  9.4s"
       ]
      },
      {
       "output_type": "stream",
       "stream": "stdout",
       "text": [
        "\n",
        "  3009  |    0.003250  |    0.005296  |     0.613699  |             |  9.4s"
       ]
      },
      {
       "output_type": "stream",
       "stream": "stdout",
       "text": [
        "\n",
        "  3010  |    0.003192  |    0.005302  |     0.602018  |             |  9.4s"
       ]
      },
      {
       "output_type": "stream",
       "stream": "stdout",
       "text": [
        "\n",
        "  3011  |    0.003106  |    0.005318  |     0.584050  |             |  9.4s"
       ]
      },
      {
       "output_type": "stream",
       "stream": "stdout",
       "text": [
        "\n",
        "  3012  |    0.003159  |    0.005353  |     0.590216  |             |  9.4s"
       ]
      },
      {
       "output_type": "stream",
       "stream": "stdout",
       "text": [
        "\n",
        "  3013  |    0.003143  |    0.005373  |     0.584928  |             |  9.4s"
       ]
      },
      {
       "output_type": "stream",
       "stream": "stdout",
       "text": [
        "\n",
        "  3014  |    0.003132  |    0.005347  |     0.585638  |             |  9.4s"
       ]
      },
      {
       "output_type": "stream",
       "stream": "stdout",
       "text": [
        "\n",
        "  3015  |  \u001b[94m  0.003098\u001b[0m  |    0.005350  |     0.579111  |             |  9.4s"
       ]
      },
      {
       "output_type": "stream",
       "stream": "stdout",
       "text": [
        "\n",
        "  3016  |    0.003212  |    0.005302  |     0.605816  |             |  9.4s"
       ]
      },
      {
       "output_type": "stream",
       "stream": "stdout",
       "text": [
        "\n",
        "  3017  |    0.003142  |    0.005294  |     0.593371  |             |  9.4s"
       ]
      },
      {
       "output_type": "stream",
       "stream": "stdout",
       "text": [
        "\n",
        "  3018  |    0.003172  |    0.005368  |     0.590973  |             |  9.4s"
       ]
      },
      {
       "output_type": "stream",
       "stream": "stdout",
       "text": [
        "\n",
        "  3019  |    0.003128  |    0.005375  |     0.582005  |             |  9.4s"
       ]
      },
      {
       "output_type": "stream",
       "stream": "stdout",
       "text": [
        "\n",
        "  3020  |  \u001b[94m  0.003085\u001b[0m  |    0.005393  |     0.572048  |             |  9.4s"
       ]
      },
      {
       "output_type": "stream",
       "stream": "stdout",
       "text": [
        "\n",
        "  3021  |    0.003110  |    0.005315  |     0.585094  |             |  9.4s"
       ]
      },
      {
       "output_type": "stream",
       "stream": "stdout",
       "text": [
        "\n",
        "  3022  |    0.003098  |    0.005404  |     0.573246  |             |  9.4s"
       ]
      },
      {
       "output_type": "stream",
       "stream": "stdout",
       "text": [
        "\n",
        "  3023  |  \u001b[94m  0.003064\u001b[0m  |    0.005395  |     0.567948  |             |  9.4s"
       ]
      },
      {
       "output_type": "stream",
       "stream": "stdout",
       "text": [
        "\n",
        "  3024  |    0.003161  |    0.005375  |     0.588130  |             |  9.4s"
       ]
      },
      {
       "output_type": "stream",
       "stream": "stdout",
       "text": [
        "\n",
        "  3025  |    0.003135  |    0.005378  |     0.582857  |             |  9.4s"
       ]
      },
      {
       "output_type": "stream",
       "stream": "stdout",
       "text": [
        "\n",
        "  3026  |    0.003129  |    0.005365  |     0.583191  |             |  9.4s"
       ]
      },
      {
       "output_type": "stream",
       "stream": "stdout",
       "text": [
        "\n",
        "  3027  |    0.003149  |    0.005373  |     0.586025  |             |  9.4s"
       ]
      },
      {
       "output_type": "stream",
       "stream": "stdout",
       "text": [
        "\n",
        "  3028  |    0.003155  |    0.005376  |     0.586987  |             |  9.4s"
       ]
      },
      {
       "output_type": "stream",
       "stream": "stdout",
       "text": [
        "\n",
        "  3029  |    0.003145  |    0.005319  |     0.591354  |             |  9.4s"
       ]
      },
      {
       "output_type": "stream",
       "stream": "stdout",
       "text": [
        "\n",
        "  3030  |    0.003158  |    0.005335  |     0.592049  |             |  9.4s"
       ]
      },
      {
       "output_type": "stream",
       "stream": "stdout",
       "text": [
        "\n",
        "  3031  |    0.003148  |    0.005360  |     0.587332  |             |  9.4s"
       ]
      },
      {
       "output_type": "stream",
       "stream": "stdout",
       "text": [
        "\n",
        "  3032  |    0.003120  |    0.005338  |     0.584474  |             |  9.4s"
       ]
      },
      {
       "output_type": "stream",
       "stream": "stdout",
       "text": [
        "\n",
        "  3033  |    0.003172  |    0.005384  |     0.589150  |             |  9.4s"
       ]
      },
      {
       "output_type": "stream",
       "stream": "stdout",
       "text": [
        "\n",
        "  3034  |    0.003080  |    0.005343  |     0.576407  |             |  9.4s"
       ]
      },
      {
       "output_type": "stream",
       "stream": "stdout",
       "text": [
        "\n",
        "  3035  |    0.003105  |    0.005331  |     0.582426  |             |  9.4s"
       ]
      },
      {
       "output_type": "stream",
       "stream": "stdout",
       "text": [
        "\n",
        "  3036  |    0.003167  |    0.005377  |     0.589038  |             |  9.4s"
       ]
      },
      {
       "output_type": "stream",
       "stream": "stdout",
       "text": [
        "\n",
        "  3037  |    0.003120  |    0.005341  |     0.584223  |             |  9.4s"
       ]
      },
      {
       "output_type": "stream",
       "stream": "stdout",
       "text": [
        "\n",
        "  3038  |    0.003092  |    0.005396  |     0.573000  |             |  9.4s"
       ]
      },
      {
       "output_type": "stream",
       "stream": "stdout",
       "text": [
        "\n",
        "  3039  |    0.003101  |    0.005349  |     0.579645  |             |  9.4s"
       ]
      },
      {
       "output_type": "stream",
       "stream": "stdout",
       "text": [
        "\n",
        "  3040  |    0.003103  |    0.005389  |     0.575752  |             |  9.4s"
       ]
      },
      {
       "output_type": "stream",
       "stream": "stdout",
       "text": [
        "\n",
        "  3041  |    0.003104  |    0.005365  |     0.578594  |             |  9.4s"
       ]
      },
      {
       "output_type": "stream",
       "stream": "stdout",
       "text": [
        "\n",
        "  3042  |    0.003078  |    0.005325  |     0.577990  |             |  9.4s"
       ]
      },
      {
       "output_type": "stream",
       "stream": "stdout",
       "text": [
        "\n",
        "  3043  |    0.003134  |    0.005456  |     0.574417  |             |  9.4s"
       ]
      },
      {
       "output_type": "stream",
       "stream": "stdout",
       "text": [
        "\n",
        "  3044  |    0.003078  |    0.005334  |     0.576976  |             |  9.4s"
       ]
      },
      {
       "output_type": "stream",
       "stream": "stdout",
       "text": [
        "\n",
        "  3045  |  \u001b[94m  0.003063\u001b[0m  |    0.005342  |     0.573293  |             |  9.4s"
       ]
      },
      {
       "output_type": "stream",
       "stream": "stdout",
       "text": [
        "\n",
        "  3046  |    0.003098  |    0.005335  |     0.580646  |             |  9.4s"
       ]
      },
      {
       "output_type": "stream",
       "stream": "stdout",
       "text": [
        "\n",
        "  3047  |    0.003165  |    0.005381  |     0.588287  |             |  9.4s"
       ]
      },
      {
       "output_type": "stream",
       "stream": "stdout",
       "text": [
        "\n",
        "  3048  |    0.003170  |    0.005354  |     0.592152  |             |  9.4s"
       ]
      },
      {
       "output_type": "stream",
       "stream": "stdout",
       "text": [
        "\n",
        "  3049  |    0.003096  |    0.005345  |     0.579154  |             |  9.4s"
       ]
      },
      {
       "output_type": "stream",
       "stream": "stdout",
       "text": [
        "\n",
        "  3050  |    0.003132  |    0.005388  |     0.581264  |             |  9.4s"
       ]
      },
      {
       "output_type": "stream",
       "stream": "stdout",
       "text": [
        "\n",
        "  3051  |  \u001b[94m  0.003051\u001b[0m  |    0.005347  |     0.570496  |             |  9.4s"
       ]
      },
      {
       "output_type": "stream",
       "stream": "stdout",
       "text": [
        "\n",
        "  3052  |    0.003173  |    0.005350  |     0.593090  |             |  9.4s"
       ]
      },
      {
       "output_type": "stream",
       "stream": "stdout",
       "text": [
        "\n",
        "  3053  |    0.003110  |    0.005331  |     0.583311  |             |  9.4s"
       ]
      },
      {
       "output_type": "stream",
       "stream": "stdout",
       "text": [
        "\n",
        "  3054  |    0.003128  |    0.005386  |     0.580647  |             |  9.4s"
       ]
      },
      {
       "output_type": "stream",
       "stream": "stdout",
       "text": [
        "\n",
        "  3055  |    0.003129  |    0.005370  |     0.582769  |             |  9.4s"
       ]
      },
      {
       "output_type": "stream",
       "stream": "stdout",
       "text": [
        "\n",
        "  3056  |    0.003146  |    0.005330  |     0.590186  |             |  9.4s"
       ]
      },
      {
       "output_type": "stream",
       "stream": "stdout",
       "text": [
        "\n",
        "  3057  |    0.003114  |    0.005383  |     0.578398  |             |  9.4s"
       ]
      },
      {
       "output_type": "stream",
       "stream": "stdout",
       "text": [
        "\n",
        "  3058  |    0.003151  |    0.005339  |     0.590138  |             |  9.4s"
       ]
      },
      {
       "output_type": "stream",
       "stream": "stdout",
       "text": [
        "\n",
        "  3059  |    0.003109  |    0.005387  |     0.577245  |             |  9.4s"
       ]
      },
      {
       "output_type": "stream",
       "stream": "stdout",
       "text": [
        "\n",
        "  3060  |    0.003060  |    0.005330  |     0.573964  |             |  9.4s"
       ]
      },
      {
       "output_type": "stream",
       "stream": "stdout",
       "text": [
        "\n",
        "  3061  |    0.003136  |    0.005396  |     0.581240  |             |  9.4s"
       ]
      },
      {
       "output_type": "stream",
       "stream": "stdout",
       "text": [
        "\n",
        "  3062  |    0.003142  |    0.005288  |     0.594280  |             |  9.4s"
       ]
      },
      {
       "output_type": "stream",
       "stream": "stdout",
       "text": [
        "\n",
        "  3063  |    0.003119  |    0.005343  |     0.583821  |             |  9.4s"
       ]
      },
      {
       "output_type": "stream",
       "stream": "stdout",
       "text": [
        "\n",
        "  3064  |    0.003066  |    0.005404  |     0.567318  |             |  9.4s"
       ]
      },
      {
       "output_type": "stream",
       "stream": "stdout",
       "text": [
        "\n",
        "  3065  |    0.003094  |    0.005359  |     0.577249  |             |  9.4s"
       ]
      },
      {
       "output_type": "stream",
       "stream": "stdout",
       "text": [
        "\n",
        "  3066  |  \u001b[94m  0.003046\u001b[0m  |    0.005404  |     0.563767  |             |  9.4s"
       ]
      },
      {
       "output_type": "stream",
       "stream": "stdout",
       "text": [
        "\n",
        "  3067  |    0.003126  |    0.005303  |     0.589477  |             |  9.4s"
       ]
      },
      {
       "output_type": "stream",
       "stream": "stdout",
       "text": [
        "\n",
        "  3068  |    0.003133  |    0.005301  |     0.590969  |             |  9.4s"
       ]
      },
      {
       "output_type": "stream",
       "stream": "stdout",
       "text": [
        "\n",
        "  3069  |    0.003125  |    0.005374  |     0.581515  |             |  9.4s"
       ]
      },
      {
       "output_type": "stream",
       "stream": "stdout",
       "text": [
        "\n",
        "  3070  |    0.003126  |    0.005376  |     0.581495  |             |  9.4s"
       ]
      },
      {
       "output_type": "stream",
       "stream": "stdout",
       "text": [
        "\n",
        "  3071  |    0.003092  |    0.005383  |     0.574417  |             |  9.4s"
       ]
      },
      {
       "output_type": "stream",
       "stream": "stdout",
       "text": [
        "\n",
        "  3072  |    0.003115  |    0.005314  |     0.586200  |             |  9.4s"
       ]
      },
      {
       "output_type": "stream",
       "stream": "stdout",
       "text": [
        "\n",
        "  3073  |    0.003096  |    0.005328  |     0.581048  |             |  9.4s"
       ]
      },
      {
       "output_type": "stream",
       "stream": "stdout",
       "text": [
        "\n",
        "  3074  |  \u001b[94m  0.003029\u001b[0m  |    0.005304  |     0.571129  |             |  9.4s"
       ]
      },
      {
       "output_type": "stream",
       "stream": "stdout",
       "text": [
        "\n",
        "  3075  |    0.003080  |    0.005347  |     0.576053  |             |  9.4s"
       ]
      },
      {
       "output_type": "stream",
       "stream": "stdout",
       "text": [
        "\n",
        "  3076  |    0.003134  |    0.005401  |     0.580243  |             |  9.4s"
       ]
      },
      {
       "output_type": "stream",
       "stream": "stdout",
       "text": [
        "\n",
        "  3077  |    0.003128  |    0.005362  |     0.583483  |             |  9.4s"
       ]
      },
      {
       "output_type": "stream",
       "stream": "stdout",
       "text": [
        "\n",
        "  3078  |    0.003064  |    0.005367  |     0.570875  |             |  9.4s"
       ]
      },
      {
       "output_type": "stream",
       "stream": "stdout",
       "text": [
        "\n",
        "  3079  |    0.003071  |    0.005355  |     0.573399  |             |  9.4s"
       ]
      },
      {
       "output_type": "stream",
       "stream": "stdout",
       "text": [
        "\n",
        "  3080  |    0.003045  |    0.005392  |     0.564699  |             |  9.4s"
       ]
      },
      {
       "output_type": "stream",
       "stream": "stdout",
       "text": [
        "\n",
        "  3081  |    0.003102  |    0.005382  |     0.576311  |             |  9.4s"
       ]
      },
      {
       "output_type": "stream",
       "stream": "stdout",
       "text": [
        "\n",
        "  3082  |    0.003102  |    0.005312  |     0.583951  |             |  9.4s"
       ]
      },
      {
       "output_type": "stream",
       "stream": "stdout",
       "text": [
        "\n",
        "  3083  |    0.003090  |    0.005362  |     0.576330  |             |  9.4s"
       ]
      },
      {
       "output_type": "stream",
       "stream": "stdout",
       "text": [
        "\n",
        "  3084  |    0.003075  |    0.005335  |     0.576336  |             |  9.4s"
       ]
      },
      {
       "output_type": "stream",
       "stream": "stdout",
       "text": [
        "\n",
        "  3085  |    0.003111  |    0.005360  |     0.580511  |             |  9.4s"
       ]
      },
      {
       "output_type": "stream",
       "stream": "stdout",
       "text": [
        "\n",
        "  3086  |    0.003037  |    0.005363  |     0.566285  |             |  9.4s"
       ]
      },
      {
       "output_type": "stream",
       "stream": "stdout",
       "text": [
        "\n",
        "  3087  |    0.003102  |    0.005355  |     0.579261  |             |  9.4s"
       ]
      },
      {
       "output_type": "stream",
       "stream": "stdout",
       "text": [
        "\n",
        "  3088  |    0.003070  |    0.005376  |     0.571048  |             |  9.4s"
       ]
      },
      {
       "output_type": "stream",
       "stream": "stdout",
       "text": [
        "\n",
        "  3089  |    0.003097  |    0.005382  |     0.575467  |             |  9.4s"
       ]
      },
      {
       "output_type": "stream",
       "stream": "stdout",
       "text": [
        "\n",
        "  3090  |    0.003074  |    0.005383  |     0.571176  |             |  9.4s"
       ]
      },
      {
       "output_type": "stream",
       "stream": "stdout",
       "text": [
        "\n",
        "  3091  |    0.003083  |    0.005302  |     0.581499  |             |  9.4s"
       ]
      },
      {
       "output_type": "stream",
       "stream": "stdout",
       "text": [
        "\n",
        "  3092  |    0.003039  |    0.005343  |     0.568842  |             |  9.4s"
       ]
      },
      {
       "output_type": "stream",
       "stream": "stdout",
       "text": [
        "\n",
        "  3093  |    0.003056  |    0.005428  |     0.562978  |             |  9.4s"
       ]
      },
      {
       "output_type": "stream",
       "stream": "stdout",
       "text": [
        "\n",
        "  3094  |    0.003080  |    0.005287  |     0.582665  |             |  9.4s"
       ]
      },
      {
       "output_type": "stream",
       "stream": "stdout",
       "text": [
        "\n",
        "  3095  |    0.003104  |    0.005323  |     0.583105  |             |  9.4s"
       ]
      },
      {
       "output_type": "stream",
       "stream": "stdout",
       "text": [
        "\n",
        "  3096  |    0.003069  |    0.005317  |     0.577269  |             |  9.4s"
       ]
      },
      {
       "output_type": "stream",
       "stream": "stdout",
       "text": [
        "\n",
        "  3097  |    0.003042  |    0.005327  |     0.571091  |             |  9.4s"
       ]
      },
      {
       "output_type": "stream",
       "stream": "stdout",
       "text": [
        "\n",
        "  3098  |    0.003079  |    0.005308  |     0.580180  |             |  9.4s"
       ]
      },
      {
       "output_type": "stream",
       "stream": "stdout",
       "text": [
        "\n",
        "  3099  |    0.003043  |    0.005336  |     0.570226  |             |  9.4s"
       ]
      },
      {
       "output_type": "stream",
       "stream": "stdout",
       "text": [
        "\n",
        "  3100  |    0.003050  |    0.005381  |     0.566855  |             |  9.4s"
       ]
      },
      {
       "output_type": "stream",
       "stream": "stdout",
       "text": [
        "\n",
        "  3101  |  \u001b[94m  0.003020\u001b[0m  |    0.005367  |     0.562693  |             |  9.4s"
       ]
      },
      {
       "output_type": "stream",
       "stream": "stdout",
       "text": [
        "\n",
        "  3102  |    0.003051  |    0.005349  |     0.570413  |             |  9.4s"
       ]
      },
      {
       "output_type": "stream",
       "stream": "stdout",
       "text": [
        "\n",
        "  3103  |    0.003082  |    0.005368  |     0.574031  |             |  9.4s"
       ]
      },
      {
       "output_type": "stream",
       "stream": "stdout",
       "text": [
        "\n",
        "  3104  |    0.003063  |    0.005322  |     0.575575  |             |  9.4s"
       ]
      },
      {
       "output_type": "stream",
       "stream": "stdout",
       "text": [
        "\n",
        "  3105  |    0.003047  |    0.005334  |     0.571253  |             |  9.4s"
       ]
      },
      {
       "output_type": "stream",
       "stream": "stdout",
       "text": [
        "\n",
        "  3106  |    0.003051  |    0.005378  |     0.567443  |             |  9.4s"
       ]
      },
      {
       "output_type": "stream",
       "stream": "stdout",
       "text": [
        "\n",
        "  3107  |    0.003052  |    0.005319  |     0.573871  |             |  9.4s"
       ]
      },
      {
       "output_type": "stream",
       "stream": "stdout",
       "text": [
        "\n",
        "  3108  |    0.003045  |    0.005312  |     0.573243  |             |  9.4s"
       ]
      },
      {
       "output_type": "stream",
       "stream": "stdout",
       "text": [
        "\n",
        "  3109  |    0.003024  |    0.005372  |     0.562850  |             |  9.4s"
       ]
      },
      {
       "output_type": "stream",
       "stream": "stdout",
       "text": [
        "\n",
        "  3110  |    0.003030  |    0.005356  |     0.565689  |             |  9.4s"
       ]
      },
      {
       "output_type": "stream",
       "stream": "stdout",
       "text": [
        "\n",
        "  3111  |  \u001b[94m  0.003019\u001b[0m  |    0.005349  |     0.564346  |             |  9.4s"
       ]
      },
      {
       "output_type": "stream",
       "stream": "stdout",
       "text": [
        "\n",
        "  3112  |  \u001b[94m  0.002991\u001b[0m  |    0.005383  |     0.555650  |             |  9.4s"
       ]
      },
      {
       "output_type": "stream",
       "stream": "stdout",
       "text": [
        "\n",
        "  3113  |    0.003028  |    0.005350  |     0.566012  |             |  9.4s"
       ]
      },
      {
       "output_type": "stream",
       "stream": "stdout",
       "text": [
        "\n",
        "  3114  |    0.003027  |    0.005328  |     0.568147  |             |  9.4s"
       ]
      },
      {
       "output_type": "stream",
       "stream": "stdout",
       "text": [
        "\n",
        "  3115  |    0.003066  |    0.005332  |     0.575033  |             |  9.4s"
       ]
      },
      {
       "output_type": "stream",
       "stream": "stdout",
       "text": [
        "\n",
        "  3116  |    0.003032  |    0.005331  |     0.568809  |             |  9.4s"
       ]
      },
      {
       "output_type": "stream",
       "stream": "stdout",
       "text": [
        "\n",
        "  3117  |    0.002992  |    0.005339  |     0.560376  |             |  9.4s"
       ]
      },
      {
       "output_type": "stream",
       "stream": "stdout",
       "text": [
        "\n",
        "  3118  |    0.003042  |    0.005355  |     0.568132  |             |  9.4s"
       ]
      },
      {
       "output_type": "stream",
       "stream": "stdout",
       "text": [
        "\n",
        "  3119  |    0.003045  |    0.005381  |     0.565827  |             |  9.4s"
       ]
      },
      {
       "output_type": "stream",
       "stream": "stdout",
       "text": [
        "\n",
        "  3120  |    0.003122  |    0.005329  |     0.585833  |             |  9.4s"
       ]
      },
      {
       "output_type": "stream",
       "stream": "stdout",
       "text": [
        "\n",
        "Early stopping.\n",
        "Best valid loss was 0.005229 at epoch 2849.\n",
        "CPU times: user 5h 14min 37s, sys: 2h 53min 22s, total: 8h 8min"
       ]
      },
      {
       "output_type": "stream",
       "stream": "stdout",
       "text": [
        "\n",
        "Wall time: 8h 8min 12s\n"
       ]
      },
      {
       "output_type": "stream",
       "stream": "stderr",
       "text": [
        "/home/ubuntu/src/theano/theano/sandbox/rng_mrg.py:1188: UserWarning: MRG_RandomStreams Can't determine #streams from size (Shape.0), guessing 60*256\n",
        "  nstreams = self.n_streams(size)\n"
       ]
      }
     ],
     "prompt_number": 9
    },
    {
     "cell_type": "code",
     "collapsed": false,
     "input": [
      "train_loss_6 = np.array([i[\"train_loss\"] for i in net7.train_history_])\n",
      "valid_loss_6 = np.array([i[\"valid_loss\"] for i in net7.train_history_])\n",
      "pyplot.plot(train_loss_6, linewidth=3, label=\"train\")\n",
      "pyplot.plot(valid_loss_6, linewidth=3, label=\"valid\")\n",
      "pyplot.grid()\n",
      "pyplot.legend()\n",
      "pyplot.xlabel(\"epoch\")\n",
      "pyplot.ylabel(\"loss\")\n",
      "pyplot.ylim(0.1e-2, 3.2e-2)\n",
      "# pyplot.yscale(\"log\")\n",
      "pyplot.show()"
     ],
     "language": "python",
     "metadata": {},
     "outputs": [
      {
       "metadata": {},
       "output_type": "display_data",
       "png": "[encoded data removed]",
       "text": [
        "<matplotlib.figure.Figure at 0x7fc13cca83d0>"
       ]
      }
     ],
     "prompt_number": 10
    },
    {
     "cell_type": "markdown",
     "metadata": {},
     "source": [
      "# start from here!!!!!!!!!!!!!!!!!!!!!\n",
      "\n",
      "## load model from Lasagne_6th_drop_change_extend.pickle extend with test1 answer"
     ]
    },
    {
     "cell_type": "code",
     "collapsed": false,
     "input": [
      "import cPickle as pickle\n",
      "with open('./Lasagne_10th_CNN_add.pickle', 'rb') as f:\n",
      "    net7 = pickle.load(f)\n"
     ],
     "language": "python",
     "metadata": {},
     "outputs": []
    },
    {
     "cell_type": "code",
     "collapsed": false,
     "input": [
      "# from sklearn.base import clone\n",
      "# model2 = clone(net7)\n",
      "# model2.load_weights_from(model)"
     ],
     "language": "python",
     "metadata": {},
     "outputs": []
    },
    {
     "cell_type": "code",
     "collapsed": false,
     "input": [
      "# model"
     ],
     "language": "python",
     "metadata": {},
     "outputs": []
    },
    {
     "cell_type": "code",
     "collapsed": false,
     "input": [
      "train_loss_6 = np.array([i[\"train_loss\"] for i in net7.train_history_])\n",
      "valid_loss_6 = np.array([i[\"valid_loss\"] for i in net7.train_history_])\n",
      "pyplot.plot(train_loss_6, linewidth=3, label=\"train\")\n",
      "pyplot.plot(valid_loss_6, linewidth=3, label=\"valid\")\n",
      "pyplot.grid()\n",
      "pyplot.legend()\n",
      "pyplot.xlabel(\"epoch\")\n",
      "pyplot.ylabel(\"loss\")\n",
      "pyplot.ylim(0.1e-2, 3.2e-2)\n",
      "# pyplot.yscale(\"log\")\n",
      "pyplot.show()"
     ],
     "language": "python",
     "metadata": {},
     "outputs": []
    },
    {
     "cell_type": "code",
     "collapsed": false,
     "input": [
      "net7.train_history_"
     ],
     "language": "python",
     "metadata": {},
     "outputs": []
    },
    {
     "cell_type": "code",
     "collapsed": false,
     "input": [
      "# net7.dropout1_p = 0.2\n",
      "# net7.dropout2_p = 0.3\n",
      "# net7.dropout3_p = 0.4\n",
      "net7.max_epochs = 2500"
     ],
     "language": "python",
     "metadata": {},
     "outputs": []
    },
    {
     "cell_type": "code",
     "collapsed": false,
     "input": [
      "import sys\n",
      "sys.setrecursionlimit(10000)\n",
      "\n",
      "X_6, y_6 = transform_6(x, y)\n",
      "%time net7.fit(X_6, y_6)\n",
      "\n",
      "import cPickle as pickle\n",
      "with open('Lasagne_7th_test1_0.pickle', 'wb') as f:\n",
      "    pickle.dump(net7, f, -1)"
     ],
     "language": "python",
     "metadata": {},
     "outputs": []
    },
    {
     "cell_type": "code",
     "collapsed": false,
     "input": [
      "train_loss_6 = np.array([i[\"train_loss\"] for i in net7.train_history_])\n",
      "valid_loss_6 = np.array([i[\"valid_loss\"] for i in net7.train_history_])\n",
      "pyplot.plot(train_loss_6, linewidth=3, label=\"train\")\n",
      "pyplot.plot(valid_loss_6, linewidth=3, label=\"valid\")\n",
      "pyplot.grid()\n",
      "pyplot.legend()\n",
      "pyplot.xlabel(\"epoch\")\n",
      "pyplot.ylabel(\"loss\")\n",
      "pyplot.ylim(0.1e-2, 3.2e-2)\n",
      "# pyplot.yscale(\"log\")\n",
      "pyplot.show()"
     ],
     "language": "python",
     "metadata": {},
     "outputs": []
    },
    {
     "cell_type": "code",
     "collapsed": false,
     "input": [
      "# from sklearn import metrics\n",
      "\n",
      "# Xt_6, yt_6 = transform_6(X_test, y_test)\n",
      "\n",
      "# # overfit result, should use validation result\n",
      "# y_pred = net7.predict(Xt_6)\n",
      "# # print y_pred[1]\n",
      "# # np.argmax(y_pred[i]),np.argmax(y[i])\n",
      "# y_pred = np.array(map((lambda x: np.argmax(x)), y_pred))\n",
      "# yyy = np.array(map((lambda x: np.argmax(x)), yt_6))\n",
      "\n",
      "# print metrics.classification_report((yyy), (y_pred))"
     ],
     "language": "python",
     "metadata": {},
     "outputs": []
    },
    {
     "cell_type": "markdown",
     "metadata": {},
     "source": [
      "## load model"
     ]
    },
    {
     "cell_type": "code",
     "collapsed": false,
     "input": [
      "# import cPickle as pickle\n",
      "\n",
      "# with open('./Lasagne_2nd.pickle', 'rb') as f:\n",
      "#     specialists = pickle.load(f)\n"
     ],
     "language": "python",
     "metadata": {},
     "outputs": []
    },
    {
     "cell_type": "markdown",
     "metadata": {},
     "source": [
      "## submit test data "
     ]
    },
    {
     "cell_type": "code",
     "collapsed": false,
     "input": [
      "import pandas as pd\n",
      "\n",
      "xx_test, yy_test = load_svmlight_file(\"./phase1/new/aug_test2_50.dat\")"
     ],
     "language": "python",
     "metadata": {},
     "outputs": [],
     "prompt_number": 11
    },
    {
     "cell_type": "code",
     "collapsed": false,
     "input": [
      "xx_test.shape"
     ],
     "language": "python",
     "metadata": {},
     "outputs": [
      {
       "metadata": {},
       "output_type": "pyout",
       "prompt_number": 12,
       "text": [
        "(7472, 2500)"
       ]
      }
     ],
     "prompt_number": 12
    },
    {
     "cell_type": "code",
     "collapsed": false,
     "input": [
      "xx_test = np.array(xx_test.todense()).reshape(-1,)\n",
      "# xx_train = xx_train.dtype(np.float32)\n",
      "xx_test = np.float32(xx_test)\n",
      "xx_test = xx_test.reshape(7472,2500)\n",
      "\n",
      "xx_test = xx_test.astype(np.float32)\n",
      "\n",
      "def one_hot(x,n):\n",
      "    if type(x) == list:\n",
      "            x = np.array(x)\n",
      "    x = x.flatten()\n",
      "    o_h = np.zeros((len(x),n))\n",
      "    o_h[np.arange(len(x)),x] = 1\n",
      "    return o_h\n",
      "\n",
      "yy_test = yy_test.astype(int32)    \n",
      "yy_test = one_hot(yy_test, 32)\n",
      "yy_test = yy_test.astype(np.float32)\n",
      "\n",
      "Xt, yt = transform_6(xx_test, yy_test)\n",
      "result = net7.predict(Xt)\n",
      "result = np.array(map((lambda x: np.argmax(x)), result))\n",
      "result.astype(int)"
     ],
     "language": "python",
     "metadata": {},
     "outputs": [
      {
       "metadata": {},
       "output_type": "pyout",
       "prompt_number": 13,
       "text": [
        "array([23, 29,  9, ..., 14, 11, 20])"
       ]
      }
     ],
     "prompt_number": 13
    },
    {
     "cell_type": "code",
     "collapsed": false,
     "input": [
      "df_submission = pd.DataFrame( result.astype(int) ,columns=None)\n",
      "\n",
      "df_submission.to_csv('./Lasagne_13th_CNN_hidden.dat', index=None)"
     ],
     "language": "python",
     "metadata": {},
     "outputs": [],
     "prompt_number": 14
    }
   ],
   "metadata": {}
  }
 ]
}