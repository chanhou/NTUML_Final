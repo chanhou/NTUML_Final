{
 "metadata": {
  "name": ""
 },
 "nbformat": 3,
 "nbformat_minor": 0,
 "worksheets": [
  {
   "cells": [
    {
     "cell_type": "markdown",
     "metadata": {},
     "source": [
      "## Lasagne code try and edit"
     ]
    },
    {
     "cell_type": "markdown",
     "metadata": {},
     "source": [
      "## input our data"
     ]
    },
    {
     "cell_type": "code",
     "collapsed": false,
     "input": [
      "import numpy as np\n",
      "import math\n",
      "import scipy.linalg as sp\n",
      "from sklearn.datasets import load_svmlight_file"
     ],
     "language": "python",
     "metadata": {},
     "outputs": [],
     "prompt_number": 1
    },
    {
     "cell_type": "code",
     "collapsed": false,
     "input": [
      "xx_train, y = load_svmlight_file(\"./phase1/aug_train.dat\")\n",
      "# print type(xx_train)\n",
      "print xx_train.shape\n",
      "xx_train = np.array(xx_train.todense()).reshape(-1,)\n",
      "# xx_train = xx_train.dtype(np.float32)\n",
      "xx_train = np.float32(xx_train)\n",
      "xx_train = xx_train.reshape(14744,3600)\n",
      "# print xx_train.shape\n",
      "print type(xx_train)"
     ],
     "language": "python",
     "metadata": {},
     "outputs": [
      {
       "output_type": "stream",
       "stream": "stdout",
       "text": [
        "(14744, 3600)\n",
        "<type 'numpy.ndarray'>"
       ]
      },
      {
       "output_type": "stream",
       "stream": "stdout",
       "text": [
        "\n"
       ]
      }
     ],
     "prompt_number": 3
    },
    {
     "cell_type": "code",
     "collapsed": false,
     "input": [
      "sizee = 60"
     ],
     "language": "python",
     "metadata": {},
     "outputs": [],
     "prompt_number": 4
    },
    {
     "cell_type": "code",
     "collapsed": false,
     "input": [
      "# pylab.ion()\n",
      "# pylab.imshow(xxxx[0],cmap=cm.gray)\n",
      "x = xx_train.reshape(14744,sizee**2)\n",
      "x = x.astype(np.float32)\n",
      "\n",
      "print x.shape\n",
      "print type(x)"
     ],
     "language": "python",
     "metadata": {},
     "outputs": [
      {
       "output_type": "stream",
       "stream": "stdout",
       "text": [
        "(14744, 3600)\n",
        "<type 'numpy.ndarray'>\n"
       ]
      }
     ],
     "prompt_number": 5
    },
    {
     "cell_type": "code",
     "collapsed": false,
     "input": [
      "def one_hot(x,n):\n",
      "    if type(x) == list:\n",
      "            x = np.array(x)\n",
      "    x = x.flatten()\n",
      "    o_h = np.zeros((len(x),n))\n",
      "    o_h[np.arange(len(x)),x] = 1\n",
      "    return o_h\n",
      "\n",
      "y = y.astype(int32)    \n",
      "y = one_hot(y, 32)\n",
      "y = y.astype(np.float32)\n",
      "\n",
      "print y.shape"
     ],
     "language": "python",
     "metadata": {},
     "outputs": [
      {
       "output_type": "stream",
       "stream": "stdout",
       "text": [
        "(14744, 32)\n"
       ]
      }
     ],
     "prompt_number": 6
    },
    {
     "cell_type": "markdown",
     "metadata": {},
     "source": [
      "## split data"
     ]
    },
    {
     "cell_type": "code",
     "collapsed": false,
     "input": [
      "from sklearn import cross_validation as cv\n",
      "from sklearn import svm\n",
      "from sklearn import metrics\n",
      "from sklearn import grid_search as gs"
     ],
     "language": "python",
     "metadata": {},
     "outputs": [],
     "prompt_number": 7
    },
    {
     "cell_type": "code",
     "collapsed": false,
     "input": [
      "X_train, X_test, y_train, y_test = cv.train_test_split(x, y, test_size=0.3)"
     ],
     "language": "python",
     "metadata": {},
     "outputs": [],
     "prompt_number": 8
    },
    {
     "cell_type": "code",
     "collapsed": false,
     "input": [
      "print X_train.shape\n",
      "print X_test.shape\n",
      "print y_train.shape\n",
      "print y_test.shape"
     ],
     "language": "python",
     "metadata": {},
     "outputs": [
      {
       "output_type": "stream",
       "stream": "stdout",
       "text": [
        "(10320, 3600)\n",
        "(4424, 3600)\n",
        "(10320, 32)\n",
        "(4424, 32)\n"
       ]
      }
     ],
     "prompt_number": 9
    },
    {
     "cell_type": "markdown",
     "metadata": {},
     "source": [
      "## First model of Lasagne with single hidden layer"
     ]
    },
    {
     "cell_type": "code",
     "collapsed": false,
     "input": [
      "# add to kfkd.py\n",
      "from lasagne import layers\n",
      "from lasagne.updates import nesterov_momentum\n",
      "from nolearn.lasagne import NeuralNet\n",
      "\n",
      "net1 = NeuralNet(\n",
      "    layers=[  # three layers: one hidden layer\n",
      "        ('input', layers.InputLayer),\n",
      "        ('hidden', layers.DenseLayer),\n",
      "        ('output', layers.DenseLayer),\n",
      "        ],\n",
      "    # layer parameters:\n",
      "    input_shape=(128, 3600),  # 128 images per batch times 100x100 input pixels\n",
      "    hidden_num_units=300,  # number of units in hidden layer\n",
      "    output_nonlinearity=None,  # output layer uses identity function\n",
      "    output_num_units=32,  # 30 target values\n",
      "\n",
      "    # optimization method:\n",
      "    upate=nesterov_momentum,\n",
      "    update_learning_rate=0.01,\n",
      "    update_momentum=0.9,\n",
      "\n",
      "    # regression=False,  # flag to indicate we're dealing with regression problem\n",
      "    regression=True,  # flag to indicate we're dealing with regression problem\n",
      "    max_epochs=1000,  # we want to train this many epochs\n",
      "    verbose=1,\n",
      "    )\n"
     ],
     "language": "python",
     "metadata": {},
     "outputs": [
      {
       "output_type": "stream",
       "stream": "stderr",
       "text": [
        "Using gpu device 0: GRID K520\n"
       ]
      }
     ],
     "prompt_number": 10
    },
    {
     "cell_type": "code",
     "collapsed": false,
     "input": [
      "%time net1.fit(X_train, y_train)"
     ],
     "language": "python",
     "metadata": {},
     "outputs": [
      {
       "output_type": "stream",
       "stream": "stdout",
       "text": [
        "  InputLayer        \t(128, 3600)         \tproduces    3600 outputs\n",
        "  DenseLayer        \t(128, 300)          \tproduces     300 outputs\n",
        "  DenseLayer        \t(128, 32)           \tproduces      32 outputs\n",
        "\n",
        " Epoch  |  Train loss  |  Valid loss  |  Train / Val  |  Valid acc  |  Dur\n",
        "--------|--------------|--------------|---------------|-------------|-------"
       ]
      },
      {
       "output_type": "stream",
       "stream": "stdout",
       "text": [
        "\n",
        "     1  |  \u001b[94m  0.073115\u001b[0m  |  \u001b[32m  0.058523\u001b[0m  |     1.249326  |             |  0.2s"
       ]
      },
      {
       "output_type": "stream",
       "stream": "stdout",
       "text": [
        "\n",
        "     2  |  \u001b[94m  0.051593\u001b[0m  |  \u001b[32m  0.048398\u001b[0m  |     1.066019  |             |  0.2s"
       ]
      },
      {
       "output_type": "stream",
       "stream": "stdout",
       "text": [
        "\n",
        "     3  |  \u001b[94m  0.044279\u001b[0m  |  \u001b[32m  0.043231\u001b[0m  |     1.024245  |             |  0.2s"
       ]
      },
      {
       "output_type": "stream",
       "stream": "stdout",
       "text": [
        "\n",
        "     4  |  \u001b[94m  0.040295\u001b[0m  |  \u001b[32m  0.040209\u001b[0m  |     1.002131  |             |  0.2s"
       ]
      },
      {
       "output_type": "stream",
       "stream": "stdout",
       "text": [
        "\n",
        "     5  |  \u001b[94m  0.037853\u001b[0m  |  \u001b[32m  0.038261\u001b[0m  |     0.989317  |             |  0.2s"
       ]
      },
      {
       "output_type": "stream",
       "stream": "stdout",
       "text": [
        "\n",
        "     6  |  \u001b[94m  0.036230\u001b[0m  |  \u001b[32m  0.036927\u001b[0m  |     0.981118  |             |  0.2s"
       ]
      },
      {
       "output_type": "stream",
       "stream": "stdout",
       "text": [
        "\n",
        "     7  |  \u001b[94m  0.035084\u001b[0m  |  \u001b[32m  0.035965\u001b[0m  |     0.975502  |             |  0.2s"
       ]
      },
      {
       "output_type": "stream",
       "stream": "stdout",
       "text": [
        "\n",
        "     8  |  \u001b[94m  0.034236\u001b[0m  |  \u001b[32m  0.035246\u001b[0m  |     0.971332  |             |  0.2s"
       ]
      },
      {
       "output_type": "stream",
       "stream": "stdout",
       "text": [
        "\n",
        "     9  |  \u001b[94m  0.033583\u001b[0m  |  \u001b[32m  0.034688\u001b[0m  |     0.968165  |             |  0.2s"
       ]
      },
      {
       "output_type": "stream",
       "stream": "stdout",
       "text": [
        "\n",
        "    10  |  \u001b[94m  0.033064\u001b[0m  |  \u001b[32m  0.034240\u001b[0m  |     0.965662  |             |  0.2s"
       ]
      },
      {
       "output_type": "stream",
       "stream": "stdout",
       "text": [
        "\n",
        "    11  |  \u001b[94m  0.032642\u001b[0m  |  \u001b[32m  0.033879\u001b[0m  |     0.963506  |             |  0.2s"
       ]
      },
      {
       "output_type": "stream",
       "stream": "stdout",
       "text": [
        "\n",
        "    12  |  \u001b[94m  0.032293\u001b[0m  |  \u001b[32m  0.033578\u001b[0m  |     0.961712  |             |  0.2s"
       ]
      },
      {
       "output_type": "stream",
       "stream": "stdout",
       "text": [
        "\n",
        "    13  |  \u001b[94m  0.031997\u001b[0m  |  \u001b[32m  0.033326\u001b[0m  |     0.960114  |             |  0.2s"
       ]
      },
      {
       "output_type": "stream",
       "stream": "stdout",
       "text": [
        "\n",
        "    14  |  \u001b[94m  0.031741\u001b[0m  |  \u001b[32m  0.033110\u001b[0m  |     0.958664  |             |  0.2s"
       ]
      },
      {
       "output_type": "stream",
       "stream": "stdout",
       "text": [
        "\n",
        "    15  |  \u001b[94m  0.031517\u001b[0m  |  \u001b[32m  0.032924\u001b[0m  |     0.957282  |             |  0.2s"
       ]
      },
      {
       "output_type": "stream",
       "stream": "stdout",
       "text": [
        "\n",
        "    16  |  \u001b[94m  0.031319\u001b[0m  |  \u001b[32m  0.032762\u001b[0m  |     0.955935  |             |  0.2s"
       ]
      },
      {
       "output_type": "stream",
       "stream": "stdout",
       "text": [
        "\n",
        "    17  |  \u001b[94m  0.031142\u001b[0m  |  \u001b[32m  0.032622\u001b[0m  |     0.954626  |             |  0.2s"
       ]
      },
      {
       "output_type": "stream",
       "stream": "stdout",
       "text": [
        "\n",
        "    18  |  \u001b[94m  0.030982\u001b[0m  |  \u001b[32m  0.032498\u001b[0m  |     0.953346  |             |  0.2s"
       ]
      },
      {
       "output_type": "stream",
       "stream": "stdout",
       "text": [
        "\n",
        "    19  |  \u001b[94m  0.030836\u001b[0m  |  \u001b[32m  0.032388\u001b[0m  |     0.952075  |             |  0.2s"
       ]
      },
      {
       "output_type": "stream",
       "stream": "stdout",
       "text": [
        "\n",
        "    20  |  \u001b[94m  0.030702\u001b[0m  |  \u001b[32m  0.032291\u001b[0m  |     0.950811  |             |  0.2s"
       ]
      },
      {
       "output_type": "stream",
       "stream": "stdout",
       "text": [
        "\n",
        "    21  |  \u001b[94m  0.030578\u001b[0m  |  \u001b[32m  0.032203\u001b[0m  |     0.949540  |             |  0.2s"
       ]
      },
      {
       "output_type": "stream",
       "stream": "stdout",
       "text": [
        "\n",
        "    22  |  \u001b[94m  0.030463\u001b[0m  |  \u001b[32m  0.032125\u001b[0m  |     0.948261  |             |  0.2s"
       ]
      },
      {
       "output_type": "stream",
       "stream": "stdout",
       "text": [
        "\n",
        "    23  |  \u001b[94m  0.030355\u001b[0m  |  \u001b[32m  0.032055\u001b[0m  |     0.946983  |             |  0.2s"
       ]
      },
      {
       "output_type": "stream",
       "stream": "stdout",
       "text": [
        "\n",
        "    24  |  \u001b[94m  0.030253\u001b[0m  |  \u001b[32m  0.031990\u001b[0m  |     0.945688  |             |  0.2s"
       ]
      },
      {
       "output_type": "stream",
       "stream": "stdout",
       "text": [
        "\n",
        "    25  |  \u001b[94m  0.030156\u001b[0m  |  \u001b[32m  0.031932\u001b[0m  |     0.944398  |             |  0.2s"
       ]
      },
      {
       "output_type": "stream",
       "stream": "stdout",
       "text": [
        "\n",
        "    26  |  \u001b[94m  0.030063\u001b[0m  |  \u001b[32m  0.031877\u001b[0m  |     0.943099  |             |  0.2s"
       ]
      },
      {
       "output_type": "stream",
       "stream": "stdout",
       "text": [
        "\n",
        "    27  |  \u001b[94m  0.029975\u001b[0m  |  \u001b[32m  0.031827\u001b[0m  |     0.941794  |             |  0.2s"
       ]
      },
      {
       "output_type": "stream",
       "stream": "stdout",
       "text": [
        "\n",
        "    28  |  \u001b[94m  0.029890\u001b[0m  |  \u001b[32m  0.031781\u001b[0m  |     0.940492  |             |  0.2s"
       ]
      },
      {
       "output_type": "stream",
       "stream": "stdout",
       "text": [
        "\n",
        "    29  |  \u001b[94m  0.029807\u001b[0m  |  \u001b[32m  0.031738\u001b[0m  |     0.939168  |             |  0.2s"
       ]
      },
      {
       "output_type": "stream",
       "stream": "stdout",
       "text": [
        "\n",
        "    30  |  \u001b[94m  0.029728\u001b[0m  |  \u001b[32m  0.031698\u001b[0m  |     0.937843  |             |  0.2s"
       ]
      },
      {
       "output_type": "stream",
       "stream": "stdout",
       "text": [
        "\n",
        "    31  |  \u001b[94m  0.029651\u001b[0m  |  \u001b[32m  0.031661\u001b[0m  |     0.936510  |             |  0.2s"
       ]
      },
      {
       "output_type": "stream",
       "stream": "stdout",
       "text": [
        "\n",
        "    32  |  \u001b[94m  0.029576\u001b[0m  |  \u001b[32m  0.031626\u001b[0m  |     0.935180  |             |  0.2s"
       ]
      },
      {
       "output_type": "stream",
       "stream": "stdout",
       "text": [
        "\n",
        "    33  |  \u001b[94m  0.029503\u001b[0m  |  \u001b[32m  0.031593\u001b[0m  |     0.933848  |             |  0.2s"
       ]
      },
      {
       "output_type": "stream",
       "stream": "stdout",
       "text": [
        "\n",
        "    34  |  \u001b[94m  0.029432\u001b[0m  |  \u001b[32m  0.031562\u001b[0m  |     0.932514  |             |  0.2s"
       ]
      },
      {
       "output_type": "stream",
       "stream": "stdout",
       "text": [
        "\n",
        "    35  |  \u001b[94m  0.029362\u001b[0m  |  \u001b[32m  0.031532\u001b[0m  |     0.931185  |             |  0.2s"
       ]
      },
      {
       "output_type": "stream",
       "stream": "stdout",
       "text": [
        "\n",
        "    36  |  \u001b[94m  0.029294\u001b[0m  |  \u001b[32m  0.031504\u001b[0m  |     0.929851  |             |  0.2s"
       ]
      },
      {
       "output_type": "stream",
       "stream": "stdout",
       "text": [
        "\n",
        "    37  |  \u001b[94m  0.029228\u001b[0m  |  \u001b[32m  0.031478\u001b[0m  |     0.928520  |             |  0.2s"
       ]
      },
      {
       "output_type": "stream",
       "stream": "stdout",
       "text": [
        "\n",
        "    38  |  \u001b[94m  0.029163\u001b[0m  |  \u001b[32m  0.031453\u001b[0m  |     0.927191  |             |  0.2s"
       ]
      },
      {
       "output_type": "stream",
       "stream": "stdout",
       "text": [
        "\n",
        "    39  |  \u001b[94m  0.029098\u001b[0m  |  \u001b[32m  0.031428\u001b[0m  |     0.925863  |             |  0.2s"
       ]
      },
      {
       "output_type": "stream",
       "stream": "stdout",
       "text": [
        "\n",
        "    40  |  \u001b[94m  0.029035\u001b[0m  |  \u001b[32m  0.031406\u001b[0m  |     0.924530  |             |  0.2s"
       ]
      },
      {
       "output_type": "stream",
       "stream": "stdout",
       "text": [
        "\n",
        "    41  |  \u001b[94m  0.028973\u001b[0m  |  \u001b[32m  0.031384\u001b[0m  |     0.923191  |             |  0.2s"
       ]
      },
      {
       "output_type": "stream",
       "stream": "stdout",
       "text": [
        "\n",
        "    42  |  \u001b[94m  0.028912\u001b[0m  |  \u001b[32m  0.031362\u001b[0m  |     0.921868  |             |  0.2s"
       ]
      },
      {
       "output_type": "stream",
       "stream": "stdout",
       "text": [
        "\n",
        "    43  |  \u001b[94m  0.028852\u001b[0m  |  \u001b[32m  0.031342\u001b[0m  |     0.920534  |             |  0.2s"
       ]
      },
      {
       "output_type": "stream",
       "stream": "stdout",
       "text": [
        "\n",
        "    44  |  \u001b[94m  0.028792\u001b[0m  |  \u001b[32m  0.031323\u001b[0m  |     0.919207  |             |  0.2s"
       ]
      },
      {
       "output_type": "stream",
       "stream": "stdout",
       "text": [
        "\n",
        "    45  |  \u001b[94m  0.028733\u001b[0m  |  \u001b[32m  0.031304\u001b[0m  |     0.917883  |             |  0.2s"
       ]
      },
      {
       "output_type": "stream",
       "stream": "stdout",
       "text": [
        "\n",
        "    46  |  \u001b[94m  0.028675\u001b[0m  |  \u001b[32m  0.031286\u001b[0m  |     0.916552  |             |  0.2s"
       ]
      },
      {
       "output_type": "stream",
       "stream": "stdout",
       "text": [
        "\n",
        "    47  |  \u001b[94m  0.028618\u001b[0m  |  \u001b[32m  0.031269\u001b[0m  |     0.915219  |             |  0.2s"
       ]
      },
      {
       "output_type": "stream",
       "stream": "stdout",
       "text": [
        "\n",
        "    48  |  \u001b[94m  0.028561\u001b[0m  |  \u001b[32m  0.031252\u001b[0m  |     0.913878  |             |  0.2s"
       ]
      },
      {
       "output_type": "stream",
       "stream": "stdout",
       "text": [
        "\n",
        "    49  |  \u001b[94m  0.028505\u001b[0m  |  \u001b[32m  0.031236\u001b[0m  |     0.912553  |             |  0.2s"
       ]
      },
      {
       "output_type": "stream",
       "stream": "stdout",
       "text": [
        "\n",
        "    50  |  \u001b[94m  0.028449\u001b[0m  |  \u001b[32m  0.031220\u001b[0m  |     0.911242  |             |  0.2s"
       ]
      },
      {
       "output_type": "stream",
       "stream": "stdout",
       "text": [
        "\n",
        "    51  |  \u001b[94m  0.028394\u001b[0m  |  \u001b[32m  0.031204\u001b[0m  |     0.909930  |             |  0.2s"
       ]
      },
      {
       "output_type": "stream",
       "stream": "stdout",
       "text": [
        "\n",
        "    52  |  \u001b[94m  0.028339\u001b[0m  |  \u001b[32m  0.031189\u001b[0m  |     0.908620  |             |  0.2s"
       ]
      },
      {
       "output_type": "stream",
       "stream": "stdout",
       "text": [
        "\n",
        "    53  |  \u001b[94m  0.028285\u001b[0m  |  \u001b[32m  0.031174\u001b[0m  |     0.907310  |             |  0.2s"
       ]
      },
      {
       "output_type": "stream",
       "stream": "stdout",
       "text": [
        "\n",
        "    54  |  \u001b[94m  0.028231\u001b[0m  |  \u001b[32m  0.031159\u001b[0m  |     0.906011  |             |  0.2s"
       ]
      },
      {
       "output_type": "stream",
       "stream": "stdout",
       "text": [
        "\n",
        "    55  |  \u001b[94m  0.028177\u001b[0m  |  \u001b[32m  0.031145\u001b[0m  |     0.904699  |             |  0.2s"
       ]
      },
      {
       "output_type": "stream",
       "stream": "stdout",
       "text": [
        "\n",
        "    56  |  \u001b[94m  0.028124\u001b[0m  |  \u001b[32m  0.031131\u001b[0m  |     0.903403  |             |  0.2s"
       ]
      },
      {
       "output_type": "stream",
       "stream": "stdout",
       "text": [
        "\n",
        "    57  |  \u001b[94m  0.028072\u001b[0m  |  \u001b[32m  0.031118\u001b[0m  |     0.902111  |             |  0.2s"
       ]
      },
      {
       "output_type": "stream",
       "stream": "stdout",
       "text": [
        "\n",
        "    58  |  \u001b[94m  0.028019\u001b[0m  |  \u001b[32m  0.031104\u001b[0m  |     0.900825  |             |  0.2s"
       ]
      },
      {
       "output_type": "stream",
       "stream": "stdout",
       "text": [
        "\n",
        "    59  |  \u001b[94m  0.027968\u001b[0m  |  \u001b[32m  0.031091\u001b[0m  |     0.899549  |             |  0.2s"
       ]
      },
      {
       "output_type": "stream",
       "stream": "stdout",
       "text": [
        "\n",
        "    60  |  \u001b[94m  0.027916\u001b[0m  |  \u001b[32m  0.031078\u001b[0m  |     0.898265  |             |  0.2s"
       ]
      },
      {
       "output_type": "stream",
       "stream": "stdout",
       "text": [
        "\n",
        "    61  |  \u001b[94m  0.027865\u001b[0m  |  \u001b[32m  0.031065\u001b[0m  |     0.896996  |             |  0.2s"
       ]
      },
      {
       "output_type": "stream",
       "stream": "stdout",
       "text": [
        "\n",
        "    62  |  \u001b[94m  0.027814\u001b[0m  |  \u001b[32m  0.031052\u001b[0m  |     0.895740  |             |  0.2s"
       ]
      },
      {
       "output_type": "stream",
       "stream": "stdout",
       "text": [
        "\n",
        "    63  |  \u001b[94m  0.027764\u001b[0m  |  \u001b[32m  0.031039\u001b[0m  |     0.894478  |             |  0.2s"
       ]
      },
      {
       "output_type": "stream",
       "stream": "stdout",
       "text": [
        "\n",
        "    64  |  \u001b[94m  0.027713\u001b[0m  |  \u001b[32m  0.031026\u001b[0m  |     0.893227  |             |  0.2s"
       ]
      },
      {
       "output_type": "stream",
       "stream": "stdout",
       "text": [
        "\n",
        "    65  |  \u001b[94m  0.027664\u001b[0m  |  \u001b[32m  0.031014\u001b[0m  |     0.891966  |             |  0.2s"
       ]
      },
      {
       "output_type": "stream",
       "stream": "stdout",
       "text": [
        "\n",
        "    66  |  \u001b[94m  0.027614\u001b[0m  |  \u001b[32m  0.031002\u001b[0m  |     0.890722  |             |  0.2s"
       ]
      },
      {
       "output_type": "stream",
       "stream": "stdout",
       "text": [
        "\n",
        "    67  |  \u001b[94m  0.027565\u001b[0m  |  \u001b[32m  0.030990\u001b[0m  |     0.889479  |             |  0.2s"
       ]
      },
      {
       "output_type": "stream",
       "stream": "stdout",
       "text": [
        "\n",
        "    68  |  \u001b[94m  0.027516\u001b[0m  |  \u001b[32m  0.030978\u001b[0m  |     0.888245  |             |  0.2s"
       ]
      },
      {
       "output_type": "stream",
       "stream": "stdout",
       "text": [
        "\n",
        "    69  |  \u001b[94m  0.027467\u001b[0m  |  \u001b[32m  0.030966\u001b[0m  |     0.887008  |             |  0.2s"
       ]
      },
      {
       "output_type": "stream",
       "stream": "stdout",
       "text": [
        "\n",
        "    70  |  \u001b[94m  0.027419\u001b[0m  |  \u001b[32m  0.030955\u001b[0m  |     0.885770  |             |  0.2s"
       ]
      },
      {
       "output_type": "stream",
       "stream": "stdout",
       "text": [
        "\n",
        "    71  |  \u001b[94m  0.027371\u001b[0m  |  \u001b[32m  0.030943\u001b[0m  |     0.884547  |             |  0.2s"
       ]
      },
      {
       "output_type": "stream",
       "stream": "stdout",
       "text": [
        "\n",
        "    72  |  \u001b[94m  0.027323\u001b[0m  |  \u001b[32m  0.030932\u001b[0m  |     0.883316  |             |  0.2s"
       ]
      },
      {
       "output_type": "stream",
       "stream": "stdout",
       "text": [
        "\n",
        "    73  |  \u001b[94m  0.027276\u001b[0m  |  \u001b[32m  0.030921\u001b[0m  |     0.882100  |             |  0.2s"
       ]
      },
      {
       "output_type": "stream",
       "stream": "stdout",
       "text": [
        "\n",
        "    74  |  \u001b[94m  0.027228\u001b[0m  |  \u001b[32m  0.030910\u001b[0m  |     0.880891  |             |  0.2s"
       ]
      },
      {
       "output_type": "stream",
       "stream": "stdout",
       "text": [
        "\n",
        "    75  |  \u001b[94m  0.027181\u001b[0m  |  \u001b[32m  0.030899\u001b[0m  |     0.879690  |             |  0.2s"
       ]
      },
      {
       "output_type": "stream",
       "stream": "stdout",
       "text": [
        "\n",
        "    76  |  \u001b[94m  0.027135\u001b[0m  |  \u001b[32m  0.030888\u001b[0m  |     0.878493  |             |  0.2s"
       ]
      },
      {
       "output_type": "stream",
       "stream": "stdout",
       "text": [
        "\n",
        "    77  |  \u001b[94m  0.027089\u001b[0m  |  \u001b[32m  0.030877\u001b[0m  |     0.877293  |             |  0.2s"
       ]
      },
      {
       "output_type": "stream",
       "stream": "stdout",
       "text": [
        "\n",
        "    78  |  \u001b[94m  0.027042\u001b[0m  |  \u001b[32m  0.030867\u001b[0m  |     0.876107  |             |  0.2s"
       ]
      },
      {
       "output_type": "stream",
       "stream": "stdout",
       "text": [
        "\n",
        "    79  |  \u001b[94m  0.026996\u001b[0m  |  \u001b[32m  0.030856\u001b[0m  |     0.874913  |             |  0.2s"
       ]
      },
      {
       "output_type": "stream",
       "stream": "stdout",
       "text": [
        "\n",
        "    80  |  \u001b[94m  0.026951\u001b[0m  |  \u001b[32m  0.030846\u001b[0m  |     0.873724  |             |  0.2s"
       ]
      },
      {
       "output_type": "stream",
       "stream": "stdout",
       "text": [
        "\n",
        "    81  |  \u001b[94m  0.026905\u001b[0m  |  \u001b[32m  0.030836\u001b[0m  |     0.872544  |             |  0.2s"
       ]
      },
      {
       "output_type": "stream",
       "stream": "stdout",
       "text": [
        "\n",
        "    82  |  \u001b[94m  0.026860\u001b[0m  |  \u001b[32m  0.030825\u001b[0m  |     0.871361  |             |  0.2s"
       ]
      },
      {
       "output_type": "stream",
       "stream": "stdout",
       "text": [
        "\n",
        "    83  |  \u001b[94m  0.026815\u001b[0m  |  \u001b[32m  0.030816\u001b[0m  |     0.870180  |             |  0.2s"
       ]
      },
      {
       "output_type": "stream",
       "stream": "stdout",
       "text": [
        "\n",
        "    84  |  \u001b[94m  0.026770\u001b[0m  |  \u001b[32m  0.030805\u001b[0m  |     0.869014  |             |  0.2s"
       ]
      },
      {
       "output_type": "stream",
       "stream": "stdout",
       "text": [
        "\n",
        "    85  |  \u001b[94m  0.026726\u001b[0m  |  \u001b[32m  0.030796\u001b[0m  |     0.867841  |             |  0.2s"
       ]
      },
      {
       "output_type": "stream",
       "stream": "stdout",
       "text": [
        "\n",
        "    86  |  \u001b[94m  0.026681\u001b[0m  |  \u001b[32m  0.030786\u001b[0m  |     0.866669  |             |  0.2s"
       ]
      },
      {
       "output_type": "stream",
       "stream": "stdout",
       "text": [
        "\n",
        "    87  |  \u001b[94m  0.026637\u001b[0m  |  \u001b[32m  0.030776\u001b[0m  |     0.865503  |             |  0.2s"
       ]
      },
      {
       "output_type": "stream",
       "stream": "stdout",
       "text": [
        "\n",
        "    88  |  \u001b[94m  0.026593\u001b[0m  |  \u001b[32m  0.030767\u001b[0m  |     0.864344  |             |  0.2s"
       ]
      },
      {
       "output_type": "stream",
       "stream": "stdout",
       "text": [
        "\n",
        "    89  |  \u001b[94m  0.026549\u001b[0m  |  \u001b[32m  0.030757\u001b[0m  |     0.863189  |             |  0.2s"
       ]
      },
      {
       "output_type": "stream",
       "stream": "stdout",
       "text": [
        "\n",
        "    90  |  \u001b[94m  0.026505\u001b[0m  |  \u001b[32m  0.030747\u001b[0m  |     0.862047  |             |  0.2s"
       ]
      },
      {
       "output_type": "stream",
       "stream": "stdout",
       "text": [
        "\n",
        "    91  |  \u001b[94m  0.026462\u001b[0m  |  \u001b[32m  0.030738\u001b[0m  |     0.860890  |             |  0.2s"
       ]
      },
      {
       "output_type": "stream",
       "stream": "stdout",
       "text": [
        "\n",
        "    92  |  \u001b[94m  0.026418\u001b[0m  |  \u001b[32m  0.030728\u001b[0m  |     0.859743  |             |  0.2s"
       ]
      },
      {
       "output_type": "stream",
       "stream": "stdout",
       "text": [
        "\n",
        "    93  |  \u001b[94m  0.026375\u001b[0m  |  \u001b[32m  0.030719\u001b[0m  |     0.858605  |             |  0.2s"
       ]
      },
      {
       "output_type": "stream",
       "stream": "stdout",
       "text": [
        "\n",
        "    94  |  \u001b[94m  0.026332\u001b[0m  |  \u001b[32m  0.030709\u001b[0m  |     0.857464  |             |  0.2s"
       ]
      },
      {
       "output_type": "stream",
       "stream": "stdout",
       "text": [
        "\n",
        "    95  |  \u001b[94m  0.026289\u001b[0m  |  \u001b[32m  0.030700\u001b[0m  |     0.856333  |             |  0.2s"
       ]
      },
      {
       "output_type": "stream",
       "stream": "stdout",
       "text": [
        "\n",
        "    96  |  \u001b[94m  0.026247\u001b[0m  |  \u001b[32m  0.030691\u001b[0m  |     0.855199  |             |  0.2s"
       ]
      },
      {
       "output_type": "stream",
       "stream": "stdout",
       "text": [
        "\n",
        "    97  |  \u001b[94m  0.026204\u001b[0m  |  \u001b[32m  0.030682\u001b[0m  |     0.854071  |             |  0.2s"
       ]
      },
      {
       "output_type": "stream",
       "stream": "stdout",
       "text": [
        "\n",
        "    98  |  \u001b[94m  0.026162\u001b[0m  |  \u001b[32m  0.030672\u001b[0m  |     0.852948  |             |  0.2s"
       ]
      },
      {
       "output_type": "stream",
       "stream": "stdout",
       "text": [
        "\n",
        "    99  |  \u001b[94m  0.026120\u001b[0m  |  \u001b[32m  0.030663\u001b[0m  |     0.851835  |             |  0.2s"
       ]
      },
      {
       "output_type": "stream",
       "stream": "stdout",
       "text": [
        "\n",
        "   100  |  \u001b[94m  0.026078\u001b[0m  |  \u001b[32m  0.030654\u001b[0m  |     0.850725  |             |  0.2s"
       ]
      },
      {
       "output_type": "stream",
       "stream": "stdout",
       "text": [
        "\n",
        "   101  |  \u001b[94m  0.026036\u001b[0m  |  \u001b[32m  0.030645\u001b[0m  |     0.849611  |             |  0.2s"
       ]
      },
      {
       "output_type": "stream",
       "stream": "stdout",
       "text": [
        "\n",
        "   102  |  \u001b[94m  0.025994\u001b[0m  |  \u001b[32m  0.030636\u001b[0m  |     0.848500  |             |  0.2s"
       ]
      },
      {
       "output_type": "stream",
       "stream": "stdout",
       "text": [
        "\n",
        "   103  |  \u001b[94m  0.025953\u001b[0m  |  \u001b[32m  0.030627\u001b[0m  |     0.847383  |             |  0.2s"
       ]
      },
      {
       "output_type": "stream",
       "stream": "stdout",
       "text": [
        "\n",
        "   104  |  \u001b[94m  0.025911\u001b[0m  |  \u001b[32m  0.030618\u001b[0m  |     0.846273  |             |  0.2s"
       ]
      },
      {
       "output_type": "stream",
       "stream": "stdout",
       "text": [
        "\n",
        "   105  |  \u001b[94m  0.025870\u001b[0m  |  \u001b[32m  0.030609\u001b[0m  |     0.845166  |             |  0.2s"
       ]
      },
      {
       "output_type": "stream",
       "stream": "stdout",
       "text": [
        "\n",
        "   106  |  \u001b[94m  0.025829\u001b[0m  |  \u001b[32m  0.030601\u001b[0m  |     0.844058  |             |  0.2s"
       ]
      },
      {
       "output_type": "stream",
       "stream": "stdout",
       "text": [
        "\n",
        "   107  |  \u001b[94m  0.025788\u001b[0m  |  \u001b[32m  0.030592\u001b[0m  |     0.842955  |             |  0.2s"
       ]
      },
      {
       "output_type": "stream",
       "stream": "stdout",
       "text": [
        "\n",
        "   108  |  \u001b[94m  0.025747\u001b[0m  |  \u001b[32m  0.030584\u001b[0m  |     0.841860  |             |  0.2s"
       ]
      },
      {
       "output_type": "stream",
       "stream": "stdout",
       "text": [
        "\n",
        "   109  |  \u001b[94m  0.025707\u001b[0m  |  \u001b[32m  0.030575\u001b[0m  |     0.840760  |             |  0.2s"
       ]
      },
      {
       "output_type": "stream",
       "stream": "stdout",
       "text": [
        "\n",
        "   110  |  \u001b[94m  0.025666\u001b[0m  |  \u001b[32m  0.030567\u001b[0m  |     0.839668  |             |  0.2s"
       ]
      },
      {
       "output_type": "stream",
       "stream": "stdout",
       "text": [
        "\n",
        "   111  |  \u001b[94m  0.025626\u001b[0m  |  \u001b[32m  0.030559\u001b[0m  |     0.838572  |             |  0.2s"
       ]
      },
      {
       "output_type": "stream",
       "stream": "stdout",
       "text": [
        "\n",
        "   112  |  \u001b[94m  0.025585\u001b[0m  |  \u001b[32m  0.030551\u001b[0m  |     0.837478  |             |  0.2s"
       ]
      },
      {
       "output_type": "stream",
       "stream": "stdout",
       "text": [
        "\n",
        "   113  |  \u001b[94m  0.025545\u001b[0m  |  \u001b[32m  0.030542\u001b[0m  |     0.836393  |             |  0.2s"
       ]
      },
      {
       "output_type": "stream",
       "stream": "stdout",
       "text": [
        "\n",
        "   114  |  \u001b[94m  0.025505\u001b[0m  |  \u001b[32m  0.030534\u001b[0m  |     0.835305  |             |  0.2s"
       ]
      },
      {
       "output_type": "stream",
       "stream": "stdout",
       "text": [
        "\n",
        "   115  |  \u001b[94m  0.025466\u001b[0m  |  \u001b[32m  0.030526\u001b[0m  |     0.834222  |             |  0.2s"
       ]
      },
      {
       "output_type": "stream",
       "stream": "stdout",
       "text": [
        "\n",
        "   116  |  \u001b[94m  0.025426\u001b[0m  |  \u001b[32m  0.030518\u001b[0m  |     0.833151  |             |  0.2s"
       ]
      },
      {
       "output_type": "stream",
       "stream": "stdout",
       "text": [
        "\n",
        "   117  |  \u001b[94m  0.025386\u001b[0m  |  \u001b[32m  0.030510\u001b[0m  |     0.832077  |             |  0.2s"
       ]
      },
      {
       "output_type": "stream",
       "stream": "stdout",
       "text": [
        "\n",
        "   118  |  \u001b[94m  0.025347\u001b[0m  |  \u001b[32m  0.030501\u001b[0m  |     0.831009  |             |  0.2s"
       ]
      },
      {
       "output_type": "stream",
       "stream": "stdout",
       "text": [
        "\n",
        "   119  |  \u001b[94m  0.025308\u001b[0m  |  \u001b[32m  0.030493\u001b[0m  |     0.829936  |             |  0.2s"
       ]
      },
      {
       "output_type": "stream",
       "stream": "stdout",
       "text": [
        "\n",
        "   120  |  \u001b[94m  0.025268\u001b[0m  |  \u001b[32m  0.030485\u001b[0m  |     0.828868  |             |  0.2s"
       ]
      },
      {
       "output_type": "stream",
       "stream": "stdout",
       "text": [
        "\n",
        "   121  |  \u001b[94m  0.025229\u001b[0m  |  \u001b[32m  0.030478\u001b[0m  |     0.827801  |             |  0.2s"
       ]
      },
      {
       "output_type": "stream",
       "stream": "stdout",
       "text": [
        "\n",
        "   122  |  \u001b[94m  0.025190\u001b[0m  |  \u001b[32m  0.030470\u001b[0m  |     0.826730  |             |  0.2s"
       ]
      },
      {
       "output_type": "stream",
       "stream": "stdout",
       "text": [
        "\n",
        "   123  |  \u001b[94m  0.025151\u001b[0m  |  \u001b[32m  0.030462\u001b[0m  |     0.825659  |             |  0.2s"
       ]
      },
      {
       "output_type": "stream",
       "stream": "stdout",
       "text": [
        "\n",
        "   124  |  \u001b[94m  0.025113\u001b[0m  |  \u001b[32m  0.030455\u001b[0m  |     0.824587  |             |  0.2s"
       ]
      },
      {
       "output_type": "stream",
       "stream": "stdout",
       "text": [
        "\n",
        "   125  |  \u001b[94m  0.025074\u001b[0m  |  \u001b[32m  0.030447\u001b[0m  |     0.823523  |             |  0.2s"
       ]
      },
      {
       "output_type": "stream",
       "stream": "stdout",
       "text": [
        "\n",
        "   126  |  \u001b[94m  0.025035\u001b[0m  |  \u001b[32m  0.030440\u001b[0m  |     0.822458  |             |  0.2s"
       ]
      },
      {
       "output_type": "stream",
       "stream": "stdout",
       "text": [
        "\n",
        "   127  |  \u001b[94m  0.024997\u001b[0m  |  \u001b[32m  0.030432\u001b[0m  |     0.821390  |             |  0.2s"
       ]
      },
      {
       "output_type": "stream",
       "stream": "stdout",
       "text": [
        "\n",
        "   128  |  \u001b[94m  0.024958\u001b[0m  |  \u001b[32m  0.030425\u001b[0m  |     0.820327  |             |  0.2s"
       ]
      },
      {
       "output_type": "stream",
       "stream": "stdout",
       "text": [
        "\n",
        "   129  |  \u001b[94m  0.024920\u001b[0m  |  \u001b[32m  0.030418\u001b[0m  |     0.819264  |             |  0.2s"
       ]
      },
      {
       "output_type": "stream",
       "stream": "stdout",
       "text": [
        "\n",
        "   130  |  \u001b[94m  0.024882\u001b[0m  |  \u001b[32m  0.030411\u001b[0m  |     0.818193  |             |  0.2s"
       ]
      },
      {
       "output_type": "stream",
       "stream": "stdout",
       "text": [
        "\n",
        "   131  |  \u001b[94m  0.024844\u001b[0m  |  \u001b[32m  0.030403\u001b[0m  |     0.817132  |             |  0.2s"
       ]
      },
      {
       "output_type": "stream",
       "stream": "stdout",
       "text": [
        "\n",
        "   132  |  \u001b[94m  0.024806\u001b[0m  |  \u001b[32m  0.030397\u001b[0m  |     0.816063  |             |  0.2s"
       ]
      },
      {
       "output_type": "stream",
       "stream": "stdout",
       "text": [
        "\n",
        "   133  |  \u001b[94m  0.024768\u001b[0m  |  \u001b[32m  0.030389\u001b[0m  |     0.815009  |             |  0.2s"
       ]
      },
      {
       "output_type": "stream",
       "stream": "stdout",
       "text": [
        "\n",
        "   134  |  \u001b[94m  0.024730\u001b[0m  |  \u001b[32m  0.030382\u001b[0m  |     0.813952  |             |  0.2s"
       ]
      },
      {
       "output_type": "stream",
       "stream": "stdout",
       "text": [
        "\n",
        "   135  |  \u001b[94m  0.024692\u001b[0m  |  \u001b[32m  0.030376\u001b[0m  |     0.812896  |             |  0.2s"
       ]
      },
      {
       "output_type": "stream",
       "stream": "stdout",
       "text": [
        "\n",
        "   136  |  \u001b[94m  0.024655\u001b[0m  |  \u001b[32m  0.030369\u001b[0m  |     0.811844  |             |  0.2s"
       ]
      },
      {
       "output_type": "stream",
       "stream": "stdout",
       "text": [
        "\n",
        "   137  |  \u001b[94m  0.024617\u001b[0m  |  \u001b[32m  0.030362\u001b[0m  |     0.810797  |             |  0.2s"
       ]
      },
      {
       "output_type": "stream",
       "stream": "stdout",
       "text": [
        "\n",
        "   138  |  \u001b[94m  0.024580\u001b[0m  |  \u001b[32m  0.030354\u001b[0m  |     0.809759  |             |  0.2s"
       ]
      },
      {
       "output_type": "stream",
       "stream": "stdout",
       "text": [
        "\n",
        "   139  |  \u001b[94m  0.024543\u001b[0m  |  \u001b[32m  0.030348\u001b[0m  |     0.808718  |             |  0.2s"
       ]
      },
      {
       "output_type": "stream",
       "stream": "stdout",
       "text": [
        "\n",
        "   140  |  \u001b[94m  0.024506\u001b[0m  |  \u001b[32m  0.030341\u001b[0m  |     0.807681  |             |  0.2s"
       ]
      },
      {
       "output_type": "stream",
       "stream": "stdout",
       "text": [
        "\n",
        "   141  |  \u001b[94m  0.024469\u001b[0m  |  \u001b[32m  0.030334\u001b[0m  |     0.806642  |             |  0.2s"
       ]
      },
      {
       "output_type": "stream",
       "stream": "stdout",
       "text": [
        "\n",
        "   142  |  \u001b[94m  0.024432\u001b[0m  |  \u001b[32m  0.030327\u001b[0m  |     0.805606  |             |  0.2s"
       ]
      },
      {
       "output_type": "stream",
       "stream": "stdout",
       "text": [
        "\n",
        "   143  |  \u001b[94m  0.024395\u001b[0m  |  \u001b[32m  0.030320\u001b[0m  |     0.804578  |             |  0.2s"
       ]
      },
      {
       "output_type": "stream",
       "stream": "stdout",
       "text": [
        "\n",
        "   144  |  \u001b[94m  0.024359\u001b[0m  |  \u001b[32m  0.030313\u001b[0m  |     0.803554  |             |  0.2s"
       ]
      },
      {
       "output_type": "stream",
       "stream": "stdout",
       "text": [
        "\n",
        "   145  |  \u001b[94m  0.024322\u001b[0m  |  \u001b[32m  0.030307\u001b[0m  |     0.802526  |             |  0.2s"
       ]
      },
      {
       "output_type": "stream",
       "stream": "stdout",
       "text": [
        "\n",
        "   146  |  \u001b[94m  0.024286\u001b[0m  |  \u001b[32m  0.030300\u001b[0m  |     0.801503  |             |  0.2s"
       ]
      },
      {
       "output_type": "stream",
       "stream": "stdout",
       "text": [
        "\n",
        "   147  |  \u001b[94m  0.024249\u001b[0m  |  \u001b[32m  0.030293\u001b[0m  |     0.800481  |             |  0.2s"
       ]
      },
      {
       "output_type": "stream",
       "stream": "stdout",
       "text": [
        "\n",
        "   148  |  \u001b[94m  0.024213\u001b[0m  |  \u001b[32m  0.030286\u001b[0m  |     0.799463  |             |  0.2s"
       ]
      },
      {
       "output_type": "stream",
       "stream": "stdout",
       "text": [
        "\n",
        "   149  |  \u001b[94m  0.024177\u001b[0m  |  \u001b[32m  0.030280\u001b[0m  |     0.798452  |             |  0.2s"
       ]
      },
      {
       "output_type": "stream",
       "stream": "stdout",
       "text": [
        "\n",
        "   150  |  \u001b[94m  0.024141\u001b[0m  |  \u001b[32m  0.030274\u001b[0m  |     0.797418  |             |  0.2s"
       ]
      },
      {
       "output_type": "stream",
       "stream": "stdout",
       "text": [
        "\n",
        "   151  |  \u001b[94m  0.024105\u001b[0m  |  \u001b[32m  0.030267\u001b[0m  |     0.796402  |             |  0.2s"
       ]
      },
      {
       "output_type": "stream",
       "stream": "stdout",
       "text": [
        "\n",
        "   152  |  \u001b[94m  0.024069\u001b[0m  |  \u001b[32m  0.030261\u001b[0m  |     0.795386  |             |  0.2s"
       ]
      },
      {
       "output_type": "stream",
       "stream": "stdout",
       "text": [
        "\n",
        "   153  |  \u001b[94m  0.024033\u001b[0m  |  \u001b[32m  0.030255\u001b[0m  |     0.794371  |             |  0.2s"
       ]
      },
      {
       "output_type": "stream",
       "stream": "stdout",
       "text": [
        "\n",
        "   154  |  \u001b[94m  0.023998\u001b[0m  |  \u001b[32m  0.030248\u001b[0m  |     0.793361  |             |  0.2s"
       ]
      },
      {
       "output_type": "stream",
       "stream": "stdout",
       "text": [
        "\n",
        "   155  |  \u001b[94m  0.023962\u001b[0m  |  \u001b[32m  0.030242\u001b[0m  |     0.792348  |             |  0.2s"
       ]
      },
      {
       "output_type": "stream",
       "stream": "stdout",
       "text": [
        "\n",
        "   156  |  \u001b[94m  0.023927\u001b[0m  |  \u001b[32m  0.030235\u001b[0m  |     0.791345  |             |  0.2s"
       ]
      },
      {
       "output_type": "stream",
       "stream": "stdout",
       "text": [
        "\n",
        "   157  |  \u001b[94m  0.023891\u001b[0m  |  \u001b[32m  0.030230\u001b[0m  |     0.790326  |             |  0.2s"
       ]
      },
      {
       "output_type": "stream",
       "stream": "stdout",
       "text": [
        "\n",
        "   158  |  \u001b[94m  0.023856\u001b[0m  |  \u001b[32m  0.030224\u001b[0m  |     0.789322  |             |  0.2s"
       ]
      },
      {
       "output_type": "stream",
       "stream": "stdout",
       "text": [
        "\n",
        "   159  |  \u001b[94m  0.023821\u001b[0m  |  \u001b[32m  0.030218\u001b[0m  |     0.788309  |             |  0.2s"
       ]
      },
      {
       "output_type": "stream",
       "stream": "stdout",
       "text": [
        "\n",
        "   160  |  \u001b[94m  0.023786\u001b[0m  |  \u001b[32m  0.030212\u001b[0m  |     0.787306  |             |  0.2s"
       ]
      },
      {
       "output_type": "stream",
       "stream": "stdout",
       "text": [
        "\n",
        "   161  |  \u001b[94m  0.023751\u001b[0m  |  \u001b[32m  0.030206\u001b[0m  |     0.786292  |             |  0.2s"
       ]
      },
      {
       "output_type": "stream",
       "stream": "stdout",
       "text": [
        "\n",
        "   162  |  \u001b[94m  0.023716\u001b[0m  |  \u001b[32m  0.030200\u001b[0m  |     0.785286  |             |  0.2s"
       ]
      },
      {
       "output_type": "stream",
       "stream": "stdout",
       "text": [
        "\n",
        "   163  |  \u001b[94m  0.023681\u001b[0m  |  \u001b[32m  0.030194\u001b[0m  |     0.784286  |             |  0.2s"
       ]
      },
      {
       "output_type": "stream",
       "stream": "stdout",
       "text": [
        "\n",
        "   164  |  \u001b[94m  0.023646\u001b[0m  |  \u001b[32m  0.030189\u001b[0m  |     0.783282  |             |  0.2s"
       ]
      },
      {
       "output_type": "stream",
       "stream": "stdout",
       "text": [
        "\n",
        "   165  |  \u001b[94m  0.023612\u001b[0m  |  \u001b[32m  0.030183\u001b[0m  |     0.782279  |             |  0.2s"
       ]
      },
      {
       "output_type": "stream",
       "stream": "stdout",
       "text": [
        "\n",
        "   166  |  \u001b[94m  0.023577\u001b[0m  |  \u001b[32m  0.030177\u001b[0m  |     0.781285  |             |  0.2s"
       ]
      },
      {
       "output_type": "stream",
       "stream": "stdout",
       "text": [
        "\n",
        "   167  |  \u001b[94m  0.023543\u001b[0m  |  \u001b[32m  0.030172\u001b[0m  |     0.780281  |             |  0.2s"
       ]
      },
      {
       "output_type": "stream",
       "stream": "stdout",
       "text": [
        "\n",
        "   168  |  \u001b[94m  0.023508\u001b[0m  |  \u001b[32m  0.030167\u001b[0m  |     0.779283  |             |  0.2s"
       ]
      },
      {
       "output_type": "stream",
       "stream": "stdout",
       "text": [
        "\n",
        "   169  |  \u001b[94m  0.023474\u001b[0m  |  \u001b[32m  0.030161\u001b[0m  |     0.778292  |             |  0.2s"
       ]
      },
      {
       "output_type": "stream",
       "stream": "stdout",
       "text": [
        "\n",
        "   170  |  \u001b[94m  0.023440\u001b[0m  |  \u001b[32m  0.030156\u001b[0m  |     0.777298  |             |  0.2s"
       ]
      },
      {
       "output_type": "stream",
       "stream": "stdout",
       "text": [
        "\n",
        "   171  |  \u001b[94m  0.023406\u001b[0m  |  \u001b[32m  0.030150\u001b[0m  |     0.776311  |             |  0.2s"
       ]
      },
      {
       "output_type": "stream",
       "stream": "stdout",
       "text": [
        "\n",
        "   172  |  \u001b[94m  0.023372\u001b[0m  |  \u001b[32m  0.030145\u001b[0m  |     0.775323  |             |  0.2s"
       ]
      },
      {
       "output_type": "stream",
       "stream": "stdout",
       "text": [
        "\n",
        "   173  |  \u001b[94m  0.023338\u001b[0m  |  \u001b[32m  0.030140\u001b[0m  |     0.774337  |             |  0.2s"
       ]
      },
      {
       "output_type": "stream",
       "stream": "stdout",
       "text": [
        "\n",
        "   174  |  \u001b[94m  0.023305\u001b[0m  |  \u001b[32m  0.030135\u001b[0m  |     0.773359  |             |  0.2s"
       ]
      },
      {
       "output_type": "stream",
       "stream": "stdout",
       "text": [
        "\n",
        "   175  |  \u001b[94m  0.023271\u001b[0m  |  \u001b[32m  0.030130\u001b[0m  |     0.772372  |             |  0.2s"
       ]
      },
      {
       "output_type": "stream",
       "stream": "stdout",
       "text": [
        "\n",
        "   176  |  \u001b[94m  0.023238\u001b[0m  |  \u001b[32m  0.030125\u001b[0m  |     0.771385  |             |  0.2s"
       ]
      },
      {
       "output_type": "stream",
       "stream": "stdout",
       "text": [
        "\n",
        "   177  |  \u001b[94m  0.023204\u001b[0m  |  \u001b[32m  0.030120\u001b[0m  |     0.770404  |             |  0.2s"
       ]
      },
      {
       "output_type": "stream",
       "stream": "stdout",
       "text": [
        "\n",
        "   178  |  \u001b[94m  0.023171\u001b[0m  |  \u001b[32m  0.030115\u001b[0m  |     0.769424  |             |  0.2s"
       ]
      },
      {
       "output_type": "stream",
       "stream": "stdout",
       "text": [
        "\n",
        "   179  |  \u001b[94m  0.023138\u001b[0m  |  \u001b[32m  0.030109\u001b[0m  |     0.768452  |             |  0.2s"
       ]
      },
      {
       "output_type": "stream",
       "stream": "stdout",
       "text": [
        "\n",
        "   180  |  \u001b[94m  0.023104\u001b[0m  |  \u001b[32m  0.030105\u001b[0m  |     0.767474  |             |  0.2s"
       ]
      },
      {
       "output_type": "stream",
       "stream": "stdout",
       "text": [
        "\n",
        "   181  |  \u001b[94m  0.023071\u001b[0m  |  \u001b[32m  0.030100\u001b[0m  |     0.766502  |             |  0.2s"
       ]
      },
      {
       "output_type": "stream",
       "stream": "stdout",
       "text": [
        "\n",
        "   182  |  \u001b[94m  0.023038\u001b[0m  |  \u001b[32m  0.030095\u001b[0m  |     0.765525  |             |  0.2s"
       ]
      },
      {
       "output_type": "stream",
       "stream": "stdout",
       "text": [
        "\n",
        "   183  |  \u001b[94m  0.023005\u001b[0m  |  \u001b[32m  0.030090\u001b[0m  |     0.764551  |             |  0.2s"
       ]
      },
      {
       "output_type": "stream",
       "stream": "stdout",
       "text": [
        "\n",
        "   184  |  \u001b[94m  0.022972\u001b[0m  |  \u001b[32m  0.030085\u001b[0m  |     0.763579  |             |  0.2s"
       ]
      },
      {
       "output_type": "stream",
       "stream": "stdout",
       "text": [
        "\n",
        "   185  |  \u001b[94m  0.022940\u001b[0m  |  \u001b[32m  0.030080\u001b[0m  |     0.762616  |             |  0.2s"
       ]
      },
      {
       "output_type": "stream",
       "stream": "stdout",
       "text": [
        "\n",
        "   186  |  \u001b[94m  0.022907\u001b[0m  |  \u001b[32m  0.030076\u001b[0m  |     0.761646  |             |  0.2s"
       ]
      },
      {
       "output_type": "stream",
       "stream": "stdout",
       "text": [
        "\n",
        "   187  |  \u001b[94m  0.022874\u001b[0m  |  \u001b[32m  0.030071\u001b[0m  |     0.760678  |             |  0.2s"
       ]
      },
      {
       "output_type": "stream",
       "stream": "stdout",
       "text": [
        "\n",
        "   188  |  \u001b[94m  0.022842\u001b[0m  |  \u001b[32m  0.030066\u001b[0m  |     0.759718  |             |  0.2s"
       ]
      },
      {
       "output_type": "stream",
       "stream": "stdout",
       "text": [
        "\n",
        "   189  |  \u001b[94m  0.022809\u001b[0m  |  \u001b[32m  0.030061\u001b[0m  |     0.758759  |             |  0.2s"
       ]
      },
      {
       "output_type": "stream",
       "stream": "stdout",
       "text": [
        "\n",
        "   190  |  \u001b[94m  0.022777\u001b[0m  |  \u001b[32m  0.030056\u001b[0m  |     0.757806  |             |  0.2s"
       ]
      },
      {
       "output_type": "stream",
       "stream": "stdout",
       "text": [
        "\n",
        "   191  |  \u001b[94m  0.022744\u001b[0m  |  \u001b[32m  0.030051\u001b[0m  |     0.756848  |             |  0.2s"
       ]
      },
      {
       "output_type": "stream",
       "stream": "stdout",
       "text": [
        "\n",
        "   192  |  \u001b[94m  0.022712\u001b[0m  |  \u001b[32m  0.030047\u001b[0m  |     0.755890  |             |  0.2s"
       ]
      },
      {
       "output_type": "stream",
       "stream": "stdout",
       "text": [
        "\n",
        "   193  |  \u001b[94m  0.022680\u001b[0m  |  \u001b[32m  0.030043\u001b[0m  |     0.754933  |             |  0.2s"
       ]
      },
      {
       "output_type": "stream",
       "stream": "stdout",
       "text": [
        "\n",
        "   194  |  \u001b[94m  0.022648\u001b[0m  |  \u001b[32m  0.030038\u001b[0m  |     0.753979  |             |  0.2s"
       ]
      },
      {
       "output_type": "stream",
       "stream": "stdout",
       "text": [
        "\n",
        "   195  |  \u001b[94m  0.022616\u001b[0m  |  \u001b[32m  0.030033\u001b[0m  |     0.753037  |             |  0.2s"
       ]
      },
      {
       "output_type": "stream",
       "stream": "stdout",
       "text": [
        "\n",
        "   196  |  \u001b[94m  0.022584\u001b[0m  |  \u001b[32m  0.030029\u001b[0m  |     0.752087  |             |  0.2s"
       ]
      },
      {
       "output_type": "stream",
       "stream": "stdout",
       "text": [
        "\n",
        "   197  |  \u001b[94m  0.022553\u001b[0m  |  \u001b[32m  0.030025\u001b[0m  |     0.751135  |             |  0.2s"
       ]
      },
      {
       "output_type": "stream",
       "stream": "stdout",
       "text": [
        "\n",
        "   198  |  \u001b[94m  0.022521\u001b[0m  |  \u001b[32m  0.030020\u001b[0m  |     0.750190  |             |  0.2s"
       ]
      },
      {
       "output_type": "stream",
       "stream": "stdout",
       "text": [
        "\n",
        "   199  |  \u001b[94m  0.022489\u001b[0m  |  \u001b[32m  0.030016\u001b[0m  |     0.749252  |             |  0.2s"
       ]
      },
      {
       "output_type": "stream",
       "stream": "stdout",
       "text": [
        "\n",
        "   200  |  \u001b[94m  0.022458\u001b[0m  |  \u001b[32m  0.030011\u001b[0m  |     0.748314  |             |  0.2s"
       ]
      },
      {
       "output_type": "stream",
       "stream": "stdout",
       "text": [
        "\n",
        "   201  |  \u001b[94m  0.022427\u001b[0m  |  \u001b[32m  0.030008\u001b[0m  |     0.747364  |             |  0.2s"
       ]
      },
      {
       "output_type": "stream",
       "stream": "stdout",
       "text": [
        "\n",
        "   202  |  \u001b[94m  0.022395\u001b[0m  |  \u001b[32m  0.030003\u001b[0m  |     0.746423  |             |  0.2s"
       ]
      },
      {
       "output_type": "stream",
       "stream": "stdout",
       "text": [
        "\n",
        "   203  |  \u001b[94m  0.022364\u001b[0m  |  \u001b[32m  0.029999\u001b[0m  |     0.745488  |             |  0.2s"
       ]
      },
      {
       "output_type": "stream",
       "stream": "stdout",
       "text": [
        "\n",
        "   204  |  \u001b[94m  0.022333\u001b[0m  |  \u001b[32m  0.029995\u001b[0m  |     0.744546  |             |  0.2s"
       ]
      },
      {
       "output_type": "stream",
       "stream": "stdout",
       "text": [
        "\n",
        "   205  |  \u001b[94m  0.022302\u001b[0m  |  \u001b[32m  0.029991\u001b[0m  |     0.743616  |             |  0.2s"
       ]
      },
      {
       "output_type": "stream",
       "stream": "stdout",
       "text": [
        "\n",
        "   206  |  \u001b[94m  0.022271\u001b[0m  |  \u001b[32m  0.029987\u001b[0m  |     0.742690  |             |  0.2s"
       ]
      },
      {
       "output_type": "stream",
       "stream": "stdout",
       "text": [
        "\n",
        "   207  |  \u001b[94m  0.022240\u001b[0m  |  \u001b[32m  0.029983\u001b[0m  |     0.741743  |             |  0.2s"
       ]
      },
      {
       "output_type": "stream",
       "stream": "stdout",
       "text": [
        "\n",
        "   208  |  \u001b[94m  0.022209\u001b[0m  |  \u001b[32m  0.029979\u001b[0m  |     0.740826  |             |  0.2s"
       ]
      },
      {
       "output_type": "stream",
       "stream": "stdout",
       "text": [
        "\n",
        "   209  |  \u001b[94m  0.022178\u001b[0m  |  \u001b[32m  0.029975\u001b[0m  |     0.739901  |             |  0.2s"
       ]
      },
      {
       "output_type": "stream",
       "stream": "stdout",
       "text": [
        "\n",
        "   210  |  \u001b[94m  0.022148\u001b[0m  |  \u001b[32m  0.029971\u001b[0m  |     0.738974  |             |  0.2s"
       ]
      },
      {
       "output_type": "stream",
       "stream": "stdout",
       "text": [
        "\n",
        "   211  |  \u001b[94m  0.022117\u001b[0m  |  \u001b[32m  0.029967\u001b[0m  |     0.738045  |             |  0.2s"
       ]
      },
      {
       "output_type": "stream",
       "stream": "stdout",
       "text": [
        "\n",
        "   212  |  \u001b[94m  0.022086\u001b[0m  |  \u001b[32m  0.029963\u001b[0m  |     0.737122  |             |  0.2s"
       ]
      },
      {
       "output_type": "stream",
       "stream": "stdout",
       "text": [
        "\n",
        "   213  |  \u001b[94m  0.022056\u001b[0m  |  \u001b[32m  0.029959\u001b[0m  |     0.736201  |             |  0.2s"
       ]
      },
      {
       "output_type": "stream",
       "stream": "stdout",
       "text": [
        "\n",
        "   214  |  \u001b[94m  0.022026\u001b[0m  |  \u001b[32m  0.029955\u001b[0m  |     0.735286  |             |  0.2s"
       ]
      },
      {
       "output_type": "stream",
       "stream": "stdout",
       "text": [
        "\n",
        "   215  |  \u001b[94m  0.021995\u001b[0m  |  \u001b[32m  0.029951\u001b[0m  |     0.734370  |             |  0.2s"
       ]
      },
      {
       "output_type": "stream",
       "stream": "stdout",
       "text": [
        "\n",
        "   216  |  \u001b[94m  0.021965\u001b[0m  |  \u001b[32m  0.029947\u001b[0m  |     0.733453  |             |  0.2s"
       ]
      },
      {
       "output_type": "stream",
       "stream": "stdout",
       "text": [
        "\n",
        "   217  |  \u001b[94m  0.021935\u001b[0m  |  \u001b[32m  0.029943\u001b[0m  |     0.732540  |             |  0.2s"
       ]
      },
      {
       "output_type": "stream",
       "stream": "stdout",
       "text": [
        "\n",
        "   218  |  \u001b[94m  0.021905\u001b[0m  |  \u001b[32m  0.029940\u001b[0m  |     0.731618  |             |  0.2s"
       ]
      },
      {
       "output_type": "stream",
       "stream": "stdout",
       "text": [
        "\n",
        "   219  |  \u001b[94m  0.021874\u001b[0m  |  \u001b[32m  0.029936\u001b[0m  |     0.730707  |             |  0.2s"
       ]
      },
      {
       "output_type": "stream",
       "stream": "stdout",
       "text": [
        "\n",
        "   220  |  \u001b[94m  0.021844\u001b[0m  |  \u001b[32m  0.029932\u001b[0m  |     0.729804  |             |  0.2s"
       ]
      },
      {
       "output_type": "stream",
       "stream": "stdout",
       "text": [
        "\n",
        "   221  |  \u001b[94m  0.021814\u001b[0m  |  \u001b[32m  0.029928\u001b[0m  |     0.728889  |             |  0.2s"
       ]
      },
      {
       "output_type": "stream",
       "stream": "stdout",
       "text": [
        "\n",
        "   222  |  \u001b[94m  0.021784\u001b[0m  |  \u001b[32m  0.029924\u001b[0m  |     0.727983  |             |  0.2s"
       ]
      },
      {
       "output_type": "stream",
       "stream": "stdout",
       "text": [
        "\n",
        "   223  |  \u001b[94m  0.021755\u001b[0m  |  \u001b[32m  0.029921\u001b[0m  |     0.727076  |             |  0.2s"
       ]
      },
      {
       "output_type": "stream",
       "stream": "stdout",
       "text": [
        "\n",
        "   224  |  \u001b[94m  0.021725\u001b[0m  |  \u001b[32m  0.029917\u001b[0m  |     0.726172  |             |  0.2s"
       ]
      },
      {
       "output_type": "stream",
       "stream": "stdout",
       "text": [
        "\n",
        "   225  |  \u001b[94m  0.021695\u001b[0m  |  \u001b[32m  0.029913\u001b[0m  |     0.725269  |             |  0.2s"
       ]
      },
      {
       "output_type": "stream",
       "stream": "stdout",
       "text": [
        "\n",
        "   226  |  \u001b[94m  0.021665\u001b[0m  |  \u001b[32m  0.029910\u001b[0m  |     0.724364  |             |  0.2s"
       ]
      },
      {
       "output_type": "stream",
       "stream": "stdout",
       "text": [
        "\n",
        "   227  |  \u001b[94m  0.021636\u001b[0m  |  \u001b[32m  0.029906\u001b[0m  |     0.723456  |             |  0.2s"
       ]
      },
      {
       "output_type": "stream",
       "stream": "stdout",
       "text": [
        "\n",
        "   228  |  \u001b[94m  0.021606\u001b[0m  |  \u001b[32m  0.029903\u001b[0m  |     0.722559  |             |  0.2s"
       ]
      },
      {
       "output_type": "stream",
       "stream": "stdout",
       "text": [
        "\n",
        "   229  |  \u001b[94m  0.021577\u001b[0m  |  \u001b[32m  0.029899\u001b[0m  |     0.721665  |             |  0.2s"
       ]
      },
      {
       "output_type": "stream",
       "stream": "stdout",
       "text": [
        "\n",
        "   230  |  \u001b[94m  0.021548\u001b[0m  |  \u001b[32m  0.029895\u001b[0m  |     0.720772  |             |  0.2s"
       ]
      },
      {
       "output_type": "stream",
       "stream": "stdout",
       "text": [
        "\n",
        "   231  |  \u001b[94m  0.021518\u001b[0m  |  \u001b[32m  0.029892\u001b[0m  |     0.719869  |             |  0.2s"
       ]
      },
      {
       "output_type": "stream",
       "stream": "stdout",
       "text": [
        "\n",
        "   232  |  \u001b[94m  0.021489\u001b[0m  |  \u001b[32m  0.029888\u001b[0m  |     0.718983  |             |  0.2s"
       ]
      },
      {
       "output_type": "stream",
       "stream": "stdout",
       "text": [
        "\n",
        "   233  |  \u001b[94m  0.021460\u001b[0m  |  \u001b[32m  0.029885\u001b[0m  |     0.718090  |             |  0.2s"
       ]
      },
      {
       "output_type": "stream",
       "stream": "stdout",
       "text": [
        "\n",
        "   234  |  \u001b[94m  0.021431\u001b[0m  |  \u001b[32m  0.029882\u001b[0m  |     0.717189  |             |  0.2s"
       ]
      },
      {
       "output_type": "stream",
       "stream": "stdout",
       "text": [
        "\n",
        "   235  |  \u001b[94m  0.021402\u001b[0m  |  \u001b[32m  0.029878\u001b[0m  |     0.716313  |             |  0.2s"
       ]
      },
      {
       "output_type": "stream",
       "stream": "stdout",
       "text": [
        "\n",
        "   236  |  \u001b[94m  0.021373\u001b[0m  |  \u001b[32m  0.029874\u001b[0m  |     0.715432  |             |  0.2s"
       ]
      },
      {
       "output_type": "stream",
       "stream": "stdout",
       "text": [
        "\n",
        "   237  |  \u001b[94m  0.021344\u001b[0m  |  \u001b[32m  0.029871\u001b[0m  |     0.714547  |             |  0.2s"
       ]
      },
      {
       "output_type": "stream",
       "stream": "stdout",
       "text": [
        "\n",
        "   238  |  \u001b[94m  0.021315\u001b[0m  |  \u001b[32m  0.029868\u001b[0m  |     0.713658  |             |  0.2s"
       ]
      },
      {
       "output_type": "stream",
       "stream": "stdout",
       "text": [
        "\n",
        "   239  |  \u001b[94m  0.021287\u001b[0m  |  \u001b[32m  0.029865\u001b[0m  |     0.712774  |             |  0.2s"
       ]
      },
      {
       "output_type": "stream",
       "stream": "stdout",
       "text": [
        "\n",
        "   240  |  \u001b[94m  0.021258\u001b[0m  |  \u001b[32m  0.029861\u001b[0m  |     0.711894  |             |  0.2s"
       ]
      },
      {
       "output_type": "stream",
       "stream": "stdout",
       "text": [
        "\n",
        "   241  |  \u001b[94m  0.021230\u001b[0m  |  \u001b[32m  0.029858\u001b[0m  |     0.711018  |             |  0.2s"
       ]
      },
      {
       "output_type": "stream",
       "stream": "stdout",
       "text": [
        "\n",
        "   242  |  \u001b[94m  0.021201\u001b[0m  |  \u001b[32m  0.029855\u001b[0m  |     0.710141  |             |  0.2s"
       ]
      },
      {
       "output_type": "stream",
       "stream": "stdout",
       "text": [
        "\n",
        "   243  |  \u001b[94m  0.021173\u001b[0m  |  \u001b[32m  0.029851\u001b[0m  |     0.709269  |             |  0.2s"
       ]
      },
      {
       "output_type": "stream",
       "stream": "stdout",
       "text": [
        "\n",
        "   244  |  \u001b[94m  0.021144\u001b[0m  |  \u001b[32m  0.029849\u001b[0m  |     0.708389  |             |  0.2s"
       ]
      },
      {
       "output_type": "stream",
       "stream": "stdout",
       "text": [
        "\n",
        "   245  |  \u001b[94m  0.021116\u001b[0m  |  \u001b[32m  0.029845\u001b[0m  |     0.707520  |             |  0.2s"
       ]
      },
      {
       "output_type": "stream",
       "stream": "stdout",
       "text": [
        "\n",
        "   246  |  \u001b[94m  0.021088\u001b[0m  |  \u001b[32m  0.029842\u001b[0m  |     0.706644  |             |  0.2s"
       ]
      },
      {
       "output_type": "stream",
       "stream": "stdout",
       "text": [
        "\n",
        "   247  |  \u001b[94m  0.021060\u001b[0m  |  \u001b[32m  0.029839\u001b[0m  |     0.705776  |             |  0.2s"
       ]
      },
      {
       "output_type": "stream",
       "stream": "stdout",
       "text": [
        "\n",
        "   248  |  \u001b[94m  0.021032\u001b[0m  |  \u001b[32m  0.029837\u001b[0m  |     0.704902  |             |  0.2s"
       ]
      },
      {
       "output_type": "stream",
       "stream": "stdout",
       "text": [
        "\n",
        "   249  |  \u001b[94m  0.021004\u001b[0m  |  \u001b[32m  0.029833\u001b[0m  |     0.704043  |             |  0.2s"
       ]
      },
      {
       "output_type": "stream",
       "stream": "stdout",
       "text": [
        "\n",
        "   250  |  \u001b[94m  0.020976\u001b[0m  |  \u001b[32m  0.029830\u001b[0m  |     0.703179  |             |  0.2s"
       ]
      },
      {
       "output_type": "stream",
       "stream": "stdout",
       "text": [
        "\n",
        "   251  |  \u001b[94m  0.020948\u001b[0m  |  \u001b[32m  0.029828\u001b[0m  |     0.702305  |             |  0.2s"
       ]
      },
      {
       "output_type": "stream",
       "stream": "stdout",
       "text": [
        "\n",
        "   252  |  \u001b[94m  0.020921\u001b[0m  |  \u001b[32m  0.029825\u001b[0m  |     0.701445  |             |  0.2s"
       ]
      },
      {
       "output_type": "stream",
       "stream": "stdout",
       "text": [
        "\n",
        "   253  |  \u001b[94m  0.020893\u001b[0m  |  \u001b[32m  0.029823\u001b[0m  |     0.700571  |             |  0.2s"
       ]
      },
      {
       "output_type": "stream",
       "stream": "stdout",
       "text": [
        "\n",
        "   254  |  \u001b[94m  0.020865\u001b[0m  |  \u001b[32m  0.029819\u001b[0m  |     0.699721  |             |  0.2s"
       ]
      },
      {
       "output_type": "stream",
       "stream": "stdout",
       "text": [
        "\n",
        "   255  |  \u001b[94m  0.020838\u001b[0m  |  \u001b[32m  0.029817\u001b[0m  |     0.698857  |             |  0.2s"
       ]
      },
      {
       "output_type": "stream",
       "stream": "stdout",
       "text": [
        "\n",
        "   256  |  \u001b[94m  0.020810\u001b[0m  |  \u001b[32m  0.029814\u001b[0m  |     0.697999  |             |  0.2s"
       ]
      },
      {
       "output_type": "stream",
       "stream": "stdout",
       "text": [
        "\n",
        "   257  |  \u001b[94m  0.020783\u001b[0m  |  \u001b[32m  0.029812\u001b[0m  |     0.697133  |             |  0.2s"
       ]
      },
      {
       "output_type": "stream",
       "stream": "stdout",
       "text": [
        "\n",
        "   258  |  \u001b[94m  0.020755\u001b[0m  |  \u001b[32m  0.029809\u001b[0m  |     0.696271  |             |  0.2s"
       ]
      },
      {
       "output_type": "stream",
       "stream": "stdout",
       "text": [
        "\n",
        "   259  |  \u001b[94m  0.020728\u001b[0m  |  \u001b[32m  0.029807\u001b[0m  |     0.695414  |             |  0.2s"
       ]
      },
      {
       "output_type": "stream",
       "stream": "stdout",
       "text": [
        "\n",
        "   260  |  \u001b[94m  0.020701\u001b[0m  |  \u001b[32m  0.029804\u001b[0m  |     0.694561  |             |  0.2s"
       ]
      },
      {
       "output_type": "stream",
       "stream": "stdout",
       "text": [
        "\n",
        "   261  |  \u001b[94m  0.020673\u001b[0m  |  \u001b[32m  0.029802\u001b[0m  |     0.693694  |             |  0.2s"
       ]
      },
      {
       "output_type": "stream",
       "stream": "stdout",
       "text": [
        "\n",
        "   262  |  \u001b[94m  0.020646\u001b[0m  |  \u001b[32m  0.029800\u001b[0m  |     0.692836  |             |  0.2s"
       ]
      },
      {
       "output_type": "stream",
       "stream": "stdout",
       "text": [
        "\n",
        "   263  |  \u001b[94m  0.020619\u001b[0m  |  \u001b[32m  0.029797\u001b[0m  |     0.691982  |             |  0.2s"
       ]
      },
      {
       "output_type": "stream",
       "stream": "stdout",
       "text": [
        "\n",
        "   264  |  \u001b[94m  0.020592\u001b[0m  |  \u001b[32m  0.029795\u001b[0m  |     0.691128  |             |  0.2s"
       ]
      },
      {
       "output_type": "stream",
       "stream": "stdout",
       "text": [
        "\n",
        "   265  |  \u001b[94m  0.020565\u001b[0m  |  \u001b[32m  0.029793\u001b[0m  |     0.690276  |             |  0.2s"
       ]
      },
      {
       "output_type": "stream",
       "stream": "stdout",
       "text": [
        "\n",
        "   266  |  \u001b[94m  0.020538\u001b[0m  |  \u001b[32m  0.029791\u001b[0m  |     0.689422  |             |  0.2s"
       ]
      },
      {
       "output_type": "stream",
       "stream": "stdout",
       "text": [
        "\n",
        "   267  |  \u001b[94m  0.020511\u001b[0m  |  \u001b[32m  0.029788\u001b[0m  |     0.688572  |             |  0.2s"
       ]
      },
      {
       "output_type": "stream",
       "stream": "stdout",
       "text": [
        "\n",
        "   268  |  \u001b[94m  0.020485\u001b[0m  |  \u001b[32m  0.029786\u001b[0m  |     0.687720  |             |  0.2s"
       ]
      },
      {
       "output_type": "stream",
       "stream": "stdout",
       "text": [
        "\n",
        "   269  |  \u001b[94m  0.020458\u001b[0m  |  \u001b[32m  0.029784\u001b[0m  |     0.686874  |             |  0.2s"
       ]
      },
      {
       "output_type": "stream",
       "stream": "stdout",
       "text": [
        "\n",
        "   270  |  \u001b[94m  0.020431\u001b[0m  |  \u001b[32m  0.029782\u001b[0m  |     0.686030  |             |  0.2s"
       ]
      },
      {
       "output_type": "stream",
       "stream": "stdout",
       "text": [
        "\n",
        "   271  |  \u001b[94m  0.020405\u001b[0m  |  \u001b[32m  0.029780\u001b[0m  |     0.685178  |             |  0.2s"
       ]
      },
      {
       "output_type": "stream",
       "stream": "stdout",
       "text": [
        "\n",
        "   272  |  \u001b[94m  0.020378\u001b[0m  |  \u001b[32m  0.029778\u001b[0m  |     0.684329  |             |  0.2s"
       ]
      },
      {
       "output_type": "stream",
       "stream": "stdout",
       "text": [
        "\n",
        "   273  |  \u001b[94m  0.020352\u001b[0m  |  \u001b[32m  0.029776\u001b[0m  |     0.683490  |             |  0.2s"
       ]
      },
      {
       "output_type": "stream",
       "stream": "stdout",
       "text": [
        "\n",
        "   274  |  \u001b[94m  0.020325\u001b[0m  |  \u001b[32m  0.029774\u001b[0m  |     0.682650  |             |  0.2s"
       ]
      },
      {
       "output_type": "stream",
       "stream": "stdout",
       "text": [
        "\n",
        "   275  |  \u001b[94m  0.020299\u001b[0m  |  \u001b[32m  0.029772\u001b[0m  |     0.681813  |             |  0.2s"
       ]
      },
      {
       "output_type": "stream",
       "stream": "stdout",
       "text": [
        "\n",
        "   276  |  \u001b[94m  0.020273\u001b[0m  |  \u001b[32m  0.029770\u001b[0m  |     0.680964  |             |  0.2s"
       ]
      },
      {
       "output_type": "stream",
       "stream": "stdout",
       "text": [
        "\n",
        "   277  |  \u001b[94m  0.020246\u001b[0m  |  \u001b[32m  0.029768\u001b[0m  |     0.680138  |             |  0.2s"
       ]
      },
      {
       "output_type": "stream",
       "stream": "stdout",
       "text": [
        "\n",
        "   278  |  \u001b[94m  0.020220\u001b[0m  |  \u001b[32m  0.029766\u001b[0m  |     0.679296  |             |  0.2s"
       ]
      },
      {
       "output_type": "stream",
       "stream": "stdout",
       "text": [
        "\n",
        "   279  |  \u001b[94m  0.020194\u001b[0m  |  \u001b[32m  0.029765\u001b[0m  |     0.678454  |             |  0.2s"
       ]
      },
      {
       "output_type": "stream",
       "stream": "stdout",
       "text": [
        "\n",
        "   280  |  \u001b[94m  0.020168\u001b[0m  |  \u001b[32m  0.029763\u001b[0m  |     0.677625  |             |  0.2s"
       ]
      },
      {
       "output_type": "stream",
       "stream": "stdout",
       "text": [
        "\n",
        "   281  |  \u001b[94m  0.020142\u001b[0m  |  \u001b[32m  0.029761\u001b[0m  |     0.676786  |             |  0.2s"
       ]
      },
      {
       "output_type": "stream",
       "stream": "stdout",
       "text": [
        "\n",
        "   282  |  \u001b[94m  0.020116\u001b[0m  |  \u001b[32m  0.029759\u001b[0m  |     0.675954  |             |  0.2s"
       ]
      },
      {
       "output_type": "stream",
       "stream": "stdout",
       "text": [
        "\n",
        "   283  |  \u001b[94m  0.020090\u001b[0m  |  \u001b[32m  0.029758\u001b[0m  |     0.675117  |             |  0.2s"
       ]
      },
      {
       "output_type": "stream",
       "stream": "stdout",
       "text": [
        "\n",
        "   284  |  \u001b[94m  0.020064\u001b[0m  |  \u001b[32m  0.029756\u001b[0m  |     0.674297  |             |  0.2s"
       ]
      },
      {
       "output_type": "stream",
       "stream": "stdout",
       "text": [
        "\n",
        "   285  |  \u001b[94m  0.020039\u001b[0m  |  \u001b[32m  0.029755\u001b[0m  |     0.673451  |             |  0.2s"
       ]
      },
      {
       "output_type": "stream",
       "stream": "stdout",
       "text": [
        "\n",
        "   286  |  \u001b[94m  0.020013\u001b[0m  |  \u001b[32m  0.029753\u001b[0m  |     0.672637  |             |  0.2s"
       ]
      },
      {
       "output_type": "stream",
       "stream": "stdout",
       "text": [
        "\n",
        "   287  |  \u001b[94m  0.019987\u001b[0m  |  \u001b[32m  0.029752\u001b[0m  |     0.671805  |             |  0.2s"
       ]
      },
      {
       "output_type": "stream",
       "stream": "stdout",
       "text": [
        "\n",
        "   288  |  \u001b[94m  0.019962\u001b[0m  |  \u001b[32m  0.029750\u001b[0m  |     0.670982  |             |  0.2s"
       ]
      },
      {
       "output_type": "stream",
       "stream": "stdout",
       "text": [
        "\n",
        "   289  |  \u001b[94m  0.019936\u001b[0m  |  \u001b[32m  0.029748\u001b[0m  |     0.670160  |             |  0.2s"
       ]
      },
      {
       "output_type": "stream",
       "stream": "stdout",
       "text": [
        "\n",
        "   290  |  \u001b[94m  0.019911\u001b[0m  |  \u001b[32m  0.029747\u001b[0m  |     0.669340  |             |  0.2s"
       ]
      },
      {
       "output_type": "stream",
       "stream": "stdout",
       "text": [
        "\n",
        "   291  |  \u001b[94m  0.019885\u001b[0m  |  \u001b[32m  0.029745\u001b[0m  |     0.668520  |             |  0.2s"
       ]
      },
      {
       "output_type": "stream",
       "stream": "stdout",
       "text": [
        "\n",
        "   292  |  \u001b[94m  0.019860\u001b[0m  |  \u001b[32m  0.029744\u001b[0m  |     0.667704  |             |  0.2s"
       ]
      },
      {
       "output_type": "stream",
       "stream": "stdout",
       "text": [
        "\n",
        "   293  |  \u001b[94m  0.019835\u001b[0m  |  \u001b[32m  0.029742\u001b[0m  |     0.666892  |             |  0.2s"
       ]
      },
      {
       "output_type": "stream",
       "stream": "stdout",
       "text": [
        "\n",
        "   294  |  \u001b[94m  0.019810\u001b[0m  |  \u001b[32m  0.029741\u001b[0m  |     0.666074  |             |  0.2s"
       ]
      },
      {
       "output_type": "stream",
       "stream": "stdout",
       "text": [
        "\n",
        "   295  |  \u001b[94m  0.019785\u001b[0m  |  \u001b[32m  0.029739\u001b[0m  |     0.665264  |             |  0.2s"
       ]
      },
      {
       "output_type": "stream",
       "stream": "stdout",
       "text": [
        "\n",
        "   296  |  \u001b[94m  0.019759\u001b[0m  |  \u001b[32m  0.029738\u001b[0m  |     0.664447  |             |  0.2s"
       ]
      },
      {
       "output_type": "stream",
       "stream": "stdout",
       "text": [
        "\n",
        "   297  |  \u001b[94m  0.019734\u001b[0m  |  \u001b[32m  0.029737\u001b[0m  |     0.663631  |             |  0.2s"
       ]
      },
      {
       "output_type": "stream",
       "stream": "stdout",
       "text": [
        "\n",
        "   298  |  \u001b[94m  0.019709\u001b[0m  |  \u001b[32m  0.029735\u001b[0m  |     0.662831  |             |  0.2s"
       ]
      },
      {
       "output_type": "stream",
       "stream": "stdout",
       "text": [
        "\n",
        "   299  |  \u001b[94m  0.019684\u001b[0m  |  \u001b[32m  0.029734\u001b[0m  |     0.662022  |             |  0.2s"
       ]
      },
      {
       "output_type": "stream",
       "stream": "stdout",
       "text": [
        "\n",
        "   300  |  \u001b[94m  0.019660\u001b[0m  |  \u001b[32m  0.029733\u001b[0m  |     0.661212  |             |  0.2s"
       ]
      },
      {
       "output_type": "stream",
       "stream": "stdout",
       "text": [
        "\n",
        "   301  |  \u001b[94m  0.019635\u001b[0m  |  \u001b[32m  0.029731\u001b[0m  |     0.660407  |             |  0.2s"
       ]
      },
      {
       "output_type": "stream",
       "stream": "stdout",
       "text": [
        "\n",
        "   302  |  \u001b[94m  0.019610\u001b[0m  |  \u001b[32m  0.029730\u001b[0m  |     0.659606  |             |  0.2s"
       ]
      },
      {
       "output_type": "stream",
       "stream": "stdout",
       "text": [
        "\n",
        "   303  |  \u001b[94m  0.019585\u001b[0m  |  \u001b[32m  0.029729\u001b[0m  |     0.658789  |             |  0.2s"
       ]
      },
      {
       "output_type": "stream",
       "stream": "stdout",
       "text": [
        "\n",
        "   304  |  \u001b[94m  0.019561\u001b[0m  |  \u001b[32m  0.029728\u001b[0m  |     0.657991  |             |  0.2s"
       ]
      },
      {
       "output_type": "stream",
       "stream": "stdout",
       "text": [
        "\n",
        "   305  |  \u001b[94m  0.019536\u001b[0m  |  \u001b[32m  0.029727\u001b[0m  |     0.657191  |             |  0.2s"
       ]
      },
      {
       "output_type": "stream",
       "stream": "stdout",
       "text": [
        "\n",
        "   306  |  \u001b[94m  0.019511\u001b[0m  |  \u001b[32m  0.029725\u001b[0m  |     0.656394  |             |  0.2s"
       ]
      },
      {
       "output_type": "stream",
       "stream": "stdout",
       "text": [
        "\n",
        "   307  |  \u001b[94m  0.019487\u001b[0m  |  \u001b[32m  0.029724\u001b[0m  |     0.655598  |             |  0.2s"
       ]
      },
      {
       "output_type": "stream",
       "stream": "stdout",
       "text": [
        "\n",
        "   308  |  \u001b[94m  0.019462\u001b[0m  |  \u001b[32m  0.029723\u001b[0m  |     0.654789  |             |  0.2s"
       ]
      },
      {
       "output_type": "stream",
       "stream": "stdout",
       "text": [
        "\n",
        "   309  |  \u001b[94m  0.019438\u001b[0m  |  \u001b[32m  0.029722\u001b[0m  |     0.653996  |             |  0.2s"
       ]
      },
      {
       "output_type": "stream",
       "stream": "stdout",
       "text": [
        "\n",
        "   310  |  \u001b[94m  0.019414\u001b[0m  |  \u001b[32m  0.029721\u001b[0m  |     0.653202  |             |  0.2s"
       ]
      },
      {
       "output_type": "stream",
       "stream": "stdout",
       "text": [
        "\n",
        "   311  |  \u001b[94m  0.019389\u001b[0m  |  \u001b[32m  0.029720\u001b[0m  |     0.652406  |             |  0.2s"
       ]
      },
      {
       "output_type": "stream",
       "stream": "stdout",
       "text": [
        "\n",
        "   312  |  \u001b[94m  0.019365\u001b[0m  |  \u001b[32m  0.029719\u001b[0m  |     0.651613  |             |  0.2s"
       ]
      },
      {
       "output_type": "stream",
       "stream": "stdout",
       "text": [
        "\n",
        "   313  |  \u001b[94m  0.019341\u001b[0m  |  \u001b[32m  0.029718\u001b[0m  |     0.650817  |             |  0.2s"
       ]
      },
      {
       "output_type": "stream",
       "stream": "stdout",
       "text": [
        "\n",
        "   314  |  \u001b[94m  0.019317\u001b[0m  |  \u001b[32m  0.029717\u001b[0m  |     0.650014  |             |  0.2s"
       ]
      },
      {
       "output_type": "stream",
       "stream": "stdout",
       "text": [
        "\n",
        "   315  |  \u001b[94m  0.019293\u001b[0m  |  \u001b[32m  0.029716\u001b[0m  |     0.649225  |             |  0.2s"
       ]
      },
      {
       "output_type": "stream",
       "stream": "stdout",
       "text": [
        "\n",
        "   316  |  \u001b[94m  0.019269\u001b[0m  |  \u001b[32m  0.029715\u001b[0m  |     0.648441  |             |  0.2s"
       ]
      },
      {
       "output_type": "stream",
       "stream": "stdout",
       "text": [
        "\n",
        "   317  |  \u001b[94m  0.019245\u001b[0m  |  \u001b[32m  0.029714\u001b[0m  |     0.647654  |             |  0.2s"
       ]
      },
      {
       "output_type": "stream",
       "stream": "stdout",
       "text": [
        "\n",
        "   318  |  \u001b[94m  0.019221\u001b[0m  |  \u001b[32m  0.029714\u001b[0m  |     0.646861  |             |  0.2s"
       ]
      },
      {
       "output_type": "stream",
       "stream": "stdout",
       "text": [
        "\n",
        "   319  |  \u001b[94m  0.019197\u001b[0m  |  \u001b[32m  0.029713\u001b[0m  |     0.646076  |             |  0.2s"
       ]
      },
      {
       "output_type": "stream",
       "stream": "stdout",
       "text": [
        "\n",
        "   320  |  \u001b[94m  0.019173\u001b[0m  |  \u001b[32m  0.029712\u001b[0m  |     0.645293  |             |  0.2s"
       ]
      },
      {
       "output_type": "stream",
       "stream": "stdout",
       "text": [
        "\n",
        "   321  |  \u001b[94m  0.019149\u001b[0m  |    0.029712  |     0.644488  |             |  0.2s"
       ]
      },
      {
       "output_type": "stream",
       "stream": "stdout",
       "text": [
        "\n",
        "   322  |  \u001b[94m  0.019125\u001b[0m  |  \u001b[32m  0.029711\u001b[0m  |     0.643709  |             |  0.2s"
       ]
      },
      {
       "output_type": "stream",
       "stream": "stdout",
       "text": [
        "\n",
        "   323  |  \u001b[94m  0.019101\u001b[0m  |  \u001b[32m  0.029710\u001b[0m  |     0.642923  |             |  0.2s"
       ]
      },
      {
       "output_type": "stream",
       "stream": "stdout",
       "text": [
        "\n",
        "   324  |  \u001b[94m  0.019078\u001b[0m  |  \u001b[32m  0.029709\u001b[0m  |     0.642148  |             |  0.2s"
       ]
      },
      {
       "output_type": "stream",
       "stream": "stdout",
       "text": [
        "\n",
        "   325  |  \u001b[94m  0.019054\u001b[0m  |  \u001b[32m  0.029708\u001b[0m  |     0.641369  |             |  0.2s"
       ]
      },
      {
       "output_type": "stream",
       "stream": "stdout",
       "text": [
        "\n",
        "   326  |  \u001b[94m  0.019030\u001b[0m  |  \u001b[32m  0.029708\u001b[0m  |     0.640584  |             |  0.2s"
       ]
      },
      {
       "output_type": "stream",
       "stream": "stdout",
       "text": [
        "\n",
        "   327  |  \u001b[94m  0.019007\u001b[0m  |  \u001b[32m  0.029707\u001b[0m  |     0.639805  |             |  0.2s"
       ]
      },
      {
       "output_type": "stream",
       "stream": "stdout",
       "text": [
        "\n",
        "   328  |  \u001b[94m  0.018984\u001b[0m  |  \u001b[32m  0.029707\u001b[0m  |     0.639030  |             |  0.2s"
       ]
      },
      {
       "output_type": "stream",
       "stream": "stdout",
       "text": [
        "\n",
        "   329  |  \u001b[94m  0.018960\u001b[0m  |  \u001b[32m  0.029706\u001b[0m  |     0.638254  |             |  0.2s"
       ]
      },
      {
       "output_type": "stream",
       "stream": "stdout",
       "text": [
        "\n",
        "   330  |  \u001b[94m  0.018937\u001b[0m  |  \u001b[32m  0.029706\u001b[0m  |     0.637474  |             |  0.2s"
       ]
      },
      {
       "output_type": "stream",
       "stream": "stdout",
       "text": [
        "\n",
        "   331  |  \u001b[94m  0.018913\u001b[0m  |  \u001b[32m  0.029706\u001b[0m  |     0.636694  |             |  0.2s"
       ]
      },
      {
       "output_type": "stream",
       "stream": "stdout",
       "text": [
        "\n",
        "   332  |  \u001b[94m  0.018890\u001b[0m  |  \u001b[32m  0.029705\u001b[0m  |     0.635925  |             |  0.2s"
       ]
      },
      {
       "output_type": "stream",
       "stream": "stdout",
       "text": [
        "\n",
        "   333  |  \u001b[94m  0.018867\u001b[0m  |  \u001b[32m  0.029704\u001b[0m  |     0.635156  |             |  0.2s"
       ]
      },
      {
       "output_type": "stream",
       "stream": "stdout",
       "text": [
        "\n",
        "   334  |  \u001b[94m  0.018844\u001b[0m  |  \u001b[32m  0.029704\u001b[0m  |     0.634385  |             |  0.2s"
       ]
      },
      {
       "output_type": "stream",
       "stream": "stdout",
       "text": [
        "\n",
        "   335  |  \u001b[94m  0.018821\u001b[0m  |  \u001b[32m  0.029704\u001b[0m  |     0.633612  |             |  0.2s"
       ]
      },
      {
       "output_type": "stream",
       "stream": "stdout",
       "text": [
        "\n",
        "   336  |  \u001b[94m  0.018798\u001b[0m  |  \u001b[32m  0.029703\u001b[0m  |     0.632843  |             |  0.2s"
       ]
      },
      {
       "output_type": "stream",
       "stream": "stdout",
       "text": [
        "\n",
        "   337  |  \u001b[94m  0.018775\u001b[0m  |  \u001b[32m  0.029703\u001b[0m  |     0.632079  |             |  0.2s"
       ]
      },
      {
       "output_type": "stream",
       "stream": "stdout",
       "text": [
        "\n",
        "   338  |  \u001b[94m  0.018752\u001b[0m  |  \u001b[32m  0.029703\u001b[0m  |     0.631309  |             |  0.2s"
       ]
      },
      {
       "output_type": "stream",
       "stream": "stdout",
       "text": [
        "\n",
        "   339  |  \u001b[94m  0.018729\u001b[0m  |  \u001b[32m  0.029702\u001b[0m  |     0.630543  |             |  0.2s"
       ]
      },
      {
       "output_type": "stream",
       "stream": "stdout",
       "text": [
        "\n",
        "   340  |  \u001b[94m  0.018706\u001b[0m  |  \u001b[32m  0.029702\u001b[0m  |     0.629779  |             |  0.2s"
       ]
      },
      {
       "output_type": "stream",
       "stream": "stdout",
       "text": [
        "\n",
        "   341  |  \u001b[94m  0.018683\u001b[0m  |  \u001b[32m  0.029702\u001b[0m  |     0.629020  |             |  0.2s"
       ]
      },
      {
       "output_type": "stream",
       "stream": "stdout",
       "text": [
        "\n",
        "   342  |  \u001b[94m  0.018660\u001b[0m  |    0.029702  |     0.628248  |             |  0.2s"
       ]
      },
      {
       "output_type": "stream",
       "stream": "stdout",
       "text": [
        "\n",
        "   343  |  \u001b[94m  0.018637\u001b[0m  |    0.029702  |     0.627487  |             |  0.2s"
       ]
      },
      {
       "output_type": "stream",
       "stream": "stdout",
       "text": [
        "\n",
        "   344  |  \u001b[94m  0.018615\u001b[0m  |  \u001b[32m  0.029702\u001b[0m  |     0.626726  |             |  0.2s"
       ]
      },
      {
       "output_type": "stream",
       "stream": "stdout",
       "text": [
        "\n",
        "   345  |  \u001b[94m  0.018592\u001b[0m  |    0.029702  |     0.625961  |             |  0.2s"
       ]
      },
      {
       "output_type": "stream",
       "stream": "stdout",
       "text": [
        "\n",
        "   346  |  \u001b[94m  0.018570\u001b[0m  |    0.029702  |     0.625201  |             |  0.2s"
       ]
      },
      {
       "output_type": "stream",
       "stream": "stdout",
       "text": [
        "\n",
        "   347  |  \u001b[94m  0.018547\u001b[0m  |    0.029702  |     0.624445  |             |  0.2s"
       ]
      },
      {
       "output_type": "stream",
       "stream": "stdout",
       "text": [
        "\n",
        "   348  |  \u001b[94m  0.018525\u001b[0m  |  \u001b[32m  0.029701\u001b[0m  |     0.623693  |             |  0.2s"
       ]
      },
      {
       "output_type": "stream",
       "stream": "stdout",
       "text": [
        "\n",
        "   349  |  \u001b[94m  0.018502\u001b[0m  |    0.029702  |     0.622925  |             |  0.2s"
       ]
      },
      {
       "output_type": "stream",
       "stream": "stdout",
       "text": [
        "\n",
        "   350  |  \u001b[94m  0.018480\u001b[0m  |    0.029702  |     0.622173  |             |  0.2s"
       ]
      },
      {
       "output_type": "stream",
       "stream": "stdout",
       "text": [
        "\n",
        "   351  |  \u001b[94m  0.018458\u001b[0m  |    0.029703  |     0.621412  |             |  0.2s"
       ]
      },
      {
       "output_type": "stream",
       "stream": "stdout",
       "text": [
        "\n",
        "   352  |  \u001b[94m  0.018435\u001b[0m  |    0.029703  |     0.620660  |             |  0.2s"
       ]
      },
      {
       "output_type": "stream",
       "stream": "stdout",
       "text": [
        "\n",
        "   353  |  \u001b[94m  0.018413\u001b[0m  |    0.029703  |     0.619906  |             |  0.2s"
       ]
      },
      {
       "output_type": "stream",
       "stream": "stdout",
       "text": [
        "\n",
        "   354  |  \u001b[94m  0.018391\u001b[0m  |    0.029703  |     0.619153  |             |  0.2s"
       ]
      },
      {
       "output_type": "stream",
       "stream": "stdout",
       "text": [
        "\n",
        "   355  |  \u001b[94m  0.018369\u001b[0m  |    0.029703  |     0.618402  |             |  0.2s"
       ]
      },
      {
       "output_type": "stream",
       "stream": "stdout",
       "text": [
        "\n",
        "   356  |  \u001b[94m  0.018346\u001b[0m  |    0.029704  |     0.617653  |             |  0.2s"
       ]
      },
      {
       "output_type": "stream",
       "stream": "stdout",
       "text": [
        "\n",
        "   357  |  \u001b[94m  0.018324\u001b[0m  |    0.029704  |     0.616906  |             |  0.2s"
       ]
      },
      {
       "output_type": "stream",
       "stream": "stdout",
       "text": [
        "\n",
        "   358  |  \u001b[94m  0.018302\u001b[0m  |    0.029704  |     0.616156  |             |  0.2s"
       ]
      },
      {
       "output_type": "stream",
       "stream": "stdout",
       "text": [
        "\n",
        "   359  |  \u001b[94m  0.018280\u001b[0m  |    0.029705  |     0.615402  |             |  0.2s"
       ]
      },
      {
       "output_type": "stream",
       "stream": "stdout",
       "text": [
        "\n",
        "   360  |  \u001b[94m  0.018258\u001b[0m  |    0.029705  |     0.614652  |             |  0.2s"
       ]
      },
      {
       "output_type": "stream",
       "stream": "stdout",
       "text": [
        "\n",
        "   361  |  \u001b[94m  0.018236\u001b[0m  |    0.029706  |     0.613894  |             |  0.2s"
       ]
      },
      {
       "output_type": "stream",
       "stream": "stdout",
       "text": [
        "\n",
        "   362  |  \u001b[94m  0.018214\u001b[0m  |    0.029706  |     0.613156  |             |  0.2s"
       ]
      },
      {
       "output_type": "stream",
       "stream": "stdout",
       "text": [
        "\n",
        "   363  |  \u001b[94m  0.018193\u001b[0m  |    0.029706  |     0.612415  |             |  0.2s"
       ]
      },
      {
       "output_type": "stream",
       "stream": "stdout",
       "text": [
        "\n",
        "   364  |  \u001b[94m  0.018171\u001b[0m  |    0.029707  |     0.611670  |             |  0.2s"
       ]
      },
      {
       "output_type": "stream",
       "stream": "stdout",
       "text": [
        "\n",
        "   365  |  \u001b[94m  0.018149\u001b[0m  |    0.029707  |     0.610932  |             |  0.2s"
       ]
      },
      {
       "output_type": "stream",
       "stream": "stdout",
       "text": [
        "\n",
        "   366  |  \u001b[94m  0.018127\u001b[0m  |    0.029708  |     0.610194  |             |  0.2s"
       ]
      },
      {
       "output_type": "stream",
       "stream": "stdout",
       "text": [
        "\n",
        "   367  |  \u001b[94m  0.018106\u001b[0m  |    0.029708  |     0.609453  |             |  0.2s"
       ]
      },
      {
       "output_type": "stream",
       "stream": "stdout",
       "text": [
        "\n",
        "   368  |  \u001b[94m  0.018084\u001b[0m  |    0.029708  |     0.608723  |             |  0.2s"
       ]
      },
      {
       "output_type": "stream",
       "stream": "stdout",
       "text": [
        "\n",
        "   369  |  \u001b[94m  0.018063\u001b[0m  |    0.029710  |     0.607971  |             |  0.2s"
       ]
      },
      {
       "output_type": "stream",
       "stream": "stdout",
       "text": [
        "\n",
        "   370  |  \u001b[94m  0.018041\u001b[0m  |    0.029711  |     0.607226  |             |  0.2s"
       ]
      },
      {
       "output_type": "stream",
       "stream": "stdout",
       "text": [
        "\n",
        "   371  |  \u001b[94m  0.018020\u001b[0m  |    0.029711  |     0.606497  |             |  0.2s"
       ]
      },
      {
       "output_type": "stream",
       "stream": "stdout",
       "text": [
        "\n",
        "   372  |  \u001b[94m  0.017998\u001b[0m  |    0.029711  |     0.605765  |             |  0.2s"
       ]
      },
      {
       "output_type": "stream",
       "stream": "stdout",
       "text": [
        "\n",
        "   373  |  \u001b[94m  0.017977\u001b[0m  |    0.029712  |     0.605034  |             |  0.2s"
       ]
      },
      {
       "output_type": "stream",
       "stream": "stdout",
       "text": [
        "\n",
        "   374  |  \u001b[94m  0.017955\u001b[0m  |    0.029713  |     0.604301  |             |  0.2s"
       ]
      },
      {
       "output_type": "stream",
       "stream": "stdout",
       "text": [
        "\n",
        "   375  |  \u001b[94m  0.017934\u001b[0m  |    0.029714  |     0.603563  |             |  0.2s"
       ]
      },
      {
       "output_type": "stream",
       "stream": "stdout",
       "text": [
        "\n",
        "   376  |  \u001b[94m  0.017913\u001b[0m  |    0.029714  |     0.602847  |             |  0.2s"
       ]
      },
      {
       "output_type": "stream",
       "stream": "stdout",
       "text": [
        "\n",
        "   377  |  \u001b[94m  0.017892\u001b[0m  |    0.029714  |     0.602124  |             |  0.2s"
       ]
      },
      {
       "output_type": "stream",
       "stream": "stdout",
       "text": [
        "\n",
        "   378  |  \u001b[94m  0.017870\u001b[0m  |    0.029715  |     0.601389  |             |  0.2s"
       ]
      },
      {
       "output_type": "stream",
       "stream": "stdout",
       "text": [
        "\n",
        "   379  |  \u001b[94m  0.017849\u001b[0m  |    0.029716  |     0.600662  |             |  0.2s"
       ]
      },
      {
       "output_type": "stream",
       "stream": "stdout",
       "text": [
        "\n",
        "   380  |  \u001b[94m  0.017828\u001b[0m  |    0.029718  |     0.599920  |             |  0.2s"
       ]
      },
      {
       "output_type": "stream",
       "stream": "stdout",
       "text": [
        "\n",
        "   381  |  \u001b[94m  0.017807\u001b[0m  |    0.029718  |     0.599202  |             |  0.2s"
       ]
      },
      {
       "output_type": "stream",
       "stream": "stdout",
       "text": [
        "\n",
        "   382  |  \u001b[94m  0.017786\u001b[0m  |    0.029719  |     0.598481  |             |  0.2s"
       ]
      },
      {
       "output_type": "stream",
       "stream": "stdout",
       "text": [
        "\n",
        "   383  |  \u001b[94m  0.017765\u001b[0m  |    0.029719  |     0.597765  |             |  0.2s"
       ]
      },
      {
       "output_type": "stream",
       "stream": "stdout",
       "text": [
        "\n",
        "   384  |  \u001b[94m  0.017744\u001b[0m  |    0.029720  |     0.597037  |             |  0.2s"
       ]
      },
      {
       "output_type": "stream",
       "stream": "stdout",
       "text": [
        "\n",
        "   385  |  \u001b[94m  0.017723\u001b[0m  |    0.029721  |     0.596321  |             |  0.2s"
       ]
      },
      {
       "output_type": "stream",
       "stream": "stdout",
       "text": [
        "\n",
        "   386  |  \u001b[94m  0.017702\u001b[0m  |    0.029722  |     0.595599  |             |  0.2s"
       ]
      },
      {
       "output_type": "stream",
       "stream": "stdout",
       "text": [
        "\n",
        "   387  |  \u001b[94m  0.017682\u001b[0m  |    0.029723  |     0.594883  |             |  0.2s"
       ]
      },
      {
       "output_type": "stream",
       "stream": "stdout",
       "text": [
        "\n",
        "   388  |  \u001b[94m  0.017661\u001b[0m  |    0.029724  |     0.594163  |             |  0.2s"
       ]
      },
      {
       "output_type": "stream",
       "stream": "stdout",
       "text": [
        "\n",
        "   389  |  \u001b[94m  0.017640\u001b[0m  |    0.029725  |     0.593452  |             |  0.2s"
       ]
      },
      {
       "output_type": "stream",
       "stream": "stdout",
       "text": [
        "\n",
        "   390  |  \u001b[94m  0.017619\u001b[0m  |    0.029726  |     0.592735  |             |  0.2s"
       ]
      },
      {
       "output_type": "stream",
       "stream": "stdout",
       "text": [
        "\n",
        "   391  |  \u001b[94m  0.017599\u001b[0m  |    0.029726  |     0.592028  |             |  0.2s"
       ]
      },
      {
       "output_type": "stream",
       "stream": "stdout",
       "text": [
        "\n",
        "   392  |  \u001b[94m  0.017578\u001b[0m  |    0.029727  |     0.591314  |             |  0.2s"
       ]
      },
      {
       "output_type": "stream",
       "stream": "stdout",
       "text": [
        "\n",
        "   393  |  \u001b[94m  0.017558\u001b[0m  |    0.029729  |     0.590595  |             |  0.2s"
       ]
      },
      {
       "output_type": "stream",
       "stream": "stdout",
       "text": [
        "\n",
        "   394  |  \u001b[94m  0.017537\u001b[0m  |    0.029729  |     0.589901  |             |  0.2s"
       ]
      },
      {
       "output_type": "stream",
       "stream": "stdout",
       "text": [
        "\n",
        "   395  |  \u001b[94m  0.017516\u001b[0m  |    0.029730  |     0.589179  |             |  0.2s"
       ]
      },
      {
       "output_type": "stream",
       "stream": "stdout",
       "text": [
        "\n",
        "   396  |  \u001b[94m  0.017496\u001b[0m  |    0.029731  |     0.588471  |             |  0.2s"
       ]
      },
      {
       "output_type": "stream",
       "stream": "stdout",
       "text": [
        "\n",
        "   397  |  \u001b[94m  0.017475\u001b[0m  |    0.029732  |     0.587763  |             |  0.2s"
       ]
      },
      {
       "output_type": "stream",
       "stream": "stdout",
       "text": [
        "\n",
        "   398  |  \u001b[94m  0.017455\u001b[0m  |    0.029733  |     0.587058  |             |  0.2s"
       ]
      },
      {
       "output_type": "stream",
       "stream": "stdout",
       "text": [
        "\n",
        "   399  |  \u001b[94m  0.017435\u001b[0m  |    0.029734  |     0.586358  |             |  0.2s"
       ]
      },
      {
       "output_type": "stream",
       "stream": "stdout",
       "text": [
        "\n",
        "   400  |  \u001b[94m  0.017414\u001b[0m  |    0.029735  |     0.585649  |             |  0.2s"
       ]
      },
      {
       "output_type": "stream",
       "stream": "stdout",
       "text": [
        "\n",
        "   401  |  \u001b[94m  0.017394\u001b[0m  |    0.029736  |     0.584947  |             |  0.2s"
       ]
      },
      {
       "output_type": "stream",
       "stream": "stdout",
       "text": [
        "\n",
        "   402  |  \u001b[94m  0.017374\u001b[0m  |    0.029736  |     0.584255  |             |  0.2s"
       ]
      },
      {
       "output_type": "stream",
       "stream": "stdout",
       "text": [
        "\n",
        "   403  |  \u001b[94m  0.017353\u001b[0m  |    0.029738  |     0.583547  |             |  0.2s"
       ]
      },
      {
       "output_type": "stream",
       "stream": "stdout",
       "text": [
        "\n",
        "   404  |  \u001b[94m  0.017333\u001b[0m  |    0.029739  |     0.582847  |             |  0.2s"
       ]
      },
      {
       "output_type": "stream",
       "stream": "stdout",
       "text": [
        "\n",
        "   405  |  \u001b[94m  0.017313\u001b[0m  |    0.029740  |     0.582148  |             |  0.2s"
       ]
      },
      {
       "output_type": "stream",
       "stream": "stdout",
       "text": [
        "\n",
        "   406  |  \u001b[94m  0.017293\u001b[0m  |    0.029741  |     0.581448  |             |  0.2s"
       ]
      },
      {
       "output_type": "stream",
       "stream": "stdout",
       "text": [
        "\n",
        "   407  |  \u001b[94m  0.017273\u001b[0m  |    0.029742  |     0.580742  |             |  0.2s"
       ]
      },
      {
       "output_type": "stream",
       "stream": "stdout",
       "text": [
        "\n",
        "   408  |  \u001b[94m  0.017253\u001b[0m  |    0.029743  |     0.580050  |             |  0.2s"
       ]
      },
      {
       "output_type": "stream",
       "stream": "stdout",
       "text": [
        "\n",
        "   409  |  \u001b[94m  0.017233\u001b[0m  |    0.029744  |     0.579362  |             |  0.2s"
       ]
      },
      {
       "output_type": "stream",
       "stream": "stdout",
       "text": [
        "\n",
        "   410  |  \u001b[94m  0.017213\u001b[0m  |    0.029745  |     0.578674  |             |  0.2s"
       ]
      },
      {
       "output_type": "stream",
       "stream": "stdout",
       "text": [
        "\n",
        "   411  |  \u001b[94m  0.017193\u001b[0m  |    0.029746  |     0.577984  |             |  0.2s"
       ]
      },
      {
       "output_type": "stream",
       "stream": "stdout",
       "text": [
        "\n",
        "   412  |  \u001b[94m  0.017173\u001b[0m  |    0.029747  |     0.577287  |             |  0.2s"
       ]
      },
      {
       "output_type": "stream",
       "stream": "stdout",
       "text": [
        "\n",
        "   413  |  \u001b[94m  0.017153\u001b[0m  |    0.029749  |     0.576586  |             |  0.2s"
       ]
      },
      {
       "output_type": "stream",
       "stream": "stdout",
       "text": [
        "\n",
        "   414  |  \u001b[94m  0.017133\u001b[0m  |    0.029750  |     0.575892  |             |  0.2s"
       ]
      },
      {
       "output_type": "stream",
       "stream": "stdout",
       "text": [
        "\n",
        "   415  |  \u001b[94m  0.017113\u001b[0m  |    0.029752  |     0.575197  |             |  0.2s"
       ]
      },
      {
       "output_type": "stream",
       "stream": "stdout",
       "text": [
        "\n",
        "   416  |  \u001b[94m  0.017093\u001b[0m  |    0.029753  |     0.574507  |             |  0.2s"
       ]
      },
      {
       "output_type": "stream",
       "stream": "stdout",
       "text": [
        "\n",
        "   417  |  \u001b[94m  0.017074\u001b[0m  |    0.029754  |     0.573821  |             |  0.2s"
       ]
      },
      {
       "output_type": "stream",
       "stream": "stdout",
       "text": [
        "\n",
        "   418  |  \u001b[94m  0.017054\u001b[0m  |    0.029756  |     0.573138  |             |  0.2s"
       ]
      },
      {
       "output_type": "stream",
       "stream": "stdout",
       "text": [
        "\n",
        "   419  |  \u001b[94m  0.017034\u001b[0m  |    0.029757  |     0.572451  |             |  0.2s"
       ]
      },
      {
       "output_type": "stream",
       "stream": "stdout",
       "text": [
        "\n",
        "   420  |  \u001b[94m  0.017015\u001b[0m  |    0.029758  |     0.571775  |             |  0.2s"
       ]
      },
      {
       "output_type": "stream",
       "stream": "stdout",
       "text": [
        "\n",
        "   421  |  \u001b[94m  0.016995\u001b[0m  |    0.029759  |     0.571088  |             |  0.2s"
       ]
      },
      {
       "output_type": "stream",
       "stream": "stdout",
       "text": [
        "\n",
        "   422  |  \u001b[94m  0.016976\u001b[0m  |    0.029761  |     0.570399  |             |  0.2s"
       ]
      },
      {
       "output_type": "stream",
       "stream": "stdout",
       "text": [
        "\n",
        "   423  |  \u001b[94m  0.016956\u001b[0m  |    0.029763  |     0.569716  |             |  0.2s"
       ]
      },
      {
       "output_type": "stream",
       "stream": "stdout",
       "text": [
        "\n",
        "   424  |  \u001b[94m  0.016937\u001b[0m  |    0.029764  |     0.569029  |             |  0.2s"
       ]
      },
      {
       "output_type": "stream",
       "stream": "stdout",
       "text": [
        "\n",
        "   425  |  \u001b[94m  0.016917\u001b[0m  |    0.029765  |     0.568359  |             |  0.2s"
       ]
      },
      {
       "output_type": "stream",
       "stream": "stdout",
       "text": [
        "\n",
        "   426  |  \u001b[94m  0.016898\u001b[0m  |    0.029766  |     0.567682  |             |  0.2s"
       ]
      },
      {
       "output_type": "stream",
       "stream": "stdout",
       "text": [
        "\n",
        "   427  |  \u001b[94m  0.016878\u001b[0m  |    0.029768  |     0.567001  |             |  0.2s"
       ]
      },
      {
       "output_type": "stream",
       "stream": "stdout",
       "text": [
        "\n",
        "   428  |  \u001b[94m  0.016859\u001b[0m  |    0.029769  |     0.566329  |             |  0.2s"
       ]
      },
      {
       "output_type": "stream",
       "stream": "stdout",
       "text": [
        "\n",
        "   429  |  \u001b[94m  0.016840\u001b[0m  |    0.029771  |     0.565652  |             |  0.2s"
       ]
      },
      {
       "output_type": "stream",
       "stream": "stdout",
       "text": [
        "\n",
        "   430  |  \u001b[94m  0.016820\u001b[0m  |    0.029772  |     0.564978  |             |  0.2s"
       ]
      },
      {
       "output_type": "stream",
       "stream": "stdout",
       "text": [
        "\n",
        "   431  |  \u001b[94m  0.016801\u001b[0m  |    0.029773  |     0.564302  |             |  0.2s"
       ]
      },
      {
       "output_type": "stream",
       "stream": "stdout",
       "text": [
        "\n",
        "   432  |  \u001b[94m  0.016782\u001b[0m  |    0.029775  |     0.563623  |             |  0.2s"
       ]
      },
      {
       "output_type": "stream",
       "stream": "stdout",
       "text": [
        "\n",
        "   433  |  \u001b[94m  0.016763\u001b[0m  |    0.029777  |     0.562955  |             |  0.2s"
       ]
      },
      {
       "output_type": "stream",
       "stream": "stdout",
       "text": [
        "\n",
        "   434  |  \u001b[94m  0.016744\u001b[0m  |    0.029778  |     0.562289  |             |  0.2s"
       ]
      },
      {
       "output_type": "stream",
       "stream": "stdout",
       "text": [
        "\n",
        "   435  |  \u001b[94m  0.016725\u001b[0m  |    0.029779  |     0.561620  |             |  0.2s"
       ]
      },
      {
       "output_type": "stream",
       "stream": "stdout",
       "text": [
        "\n",
        "   436  |  \u001b[94m  0.016705\u001b[0m  |    0.029780  |     0.560955  |             |  0.2s"
       ]
      },
      {
       "output_type": "stream",
       "stream": "stdout",
       "text": [
        "\n",
        "   437  |  \u001b[94m  0.016686\u001b[0m  |    0.029782  |     0.560287  |             |  0.2s"
       ]
      },
      {
       "output_type": "stream",
       "stream": "stdout",
       "text": [
        "\n",
        "   438  |  \u001b[94m  0.016667\u001b[0m  |    0.029783  |     0.559623  |             |  0.2s"
       ]
      },
      {
       "output_type": "stream",
       "stream": "stdout",
       "text": [
        "\n",
        "   439  |  \u001b[94m  0.016648\u001b[0m  |    0.029785  |     0.558959  |             |  0.2s"
       ]
      },
      {
       "output_type": "stream",
       "stream": "stdout",
       "text": [
        "\n",
        "   440  |  \u001b[94m  0.016630\u001b[0m  |    0.029786  |     0.558306  |             |  0.2s"
       ]
      },
      {
       "output_type": "stream",
       "stream": "stdout",
       "text": [
        "\n",
        "   441  |  \u001b[94m  0.016611\u001b[0m  |    0.029787  |     0.557643  |             |  0.2s"
       ]
      },
      {
       "output_type": "stream",
       "stream": "stdout",
       "text": [
        "\n",
        "   442  |  \u001b[94m  0.016592\u001b[0m  |    0.029789  |     0.556984  |             |  0.2s"
       ]
      },
      {
       "output_type": "stream",
       "stream": "stdout",
       "text": [
        "\n",
        "   443  |  \u001b[94m  0.016573\u001b[0m  |    0.029790  |     0.556327  |             |  0.2s"
       ]
      },
      {
       "output_type": "stream",
       "stream": "stdout",
       "text": [
        "\n",
        "   444  |  \u001b[94m  0.016554\u001b[0m  |    0.029791  |     0.555681  |             |  0.2s"
       ]
      },
      {
       "output_type": "stream",
       "stream": "stdout",
       "text": [
        "\n",
        "   445  |  \u001b[94m  0.016536\u001b[0m  |    0.029793  |     0.555017  |             |  0.2s"
       ]
      },
      {
       "output_type": "stream",
       "stream": "stdout",
       "text": [
        "\n",
        "   446  |  \u001b[94m  0.016517\u001b[0m  |    0.029794  |     0.554361  |             |  0.2s"
       ]
      },
      {
       "output_type": "stream",
       "stream": "stdout",
       "text": [
        "\n",
        "   447  |  \u001b[94m  0.016498\u001b[0m  |    0.029796  |     0.553705  |             |  0.2s"
       ]
      },
      {
       "output_type": "stream",
       "stream": "stdout",
       "text": [
        "\n",
        "   448  |  \u001b[94m  0.016480\u001b[0m  |    0.029797  |     0.553052  |             |  0.2s"
       ]
      },
      {
       "output_type": "stream",
       "stream": "stdout",
       "text": [
        "\n",
        "   449  |  \u001b[94m  0.016461\u001b[0m  |    0.029799  |     0.552405  |             |  0.2s"
       ]
      },
      {
       "output_type": "stream",
       "stream": "stdout",
       "text": [
        "\n",
        "   450  |  \u001b[94m  0.016442\u001b[0m  |    0.029800  |     0.551756  |             |  0.2s"
       ]
      },
      {
       "output_type": "stream",
       "stream": "stdout",
       "text": [
        "\n",
        "   451  |  \u001b[94m  0.016424\u001b[0m  |    0.029802  |     0.551099  |             |  0.2s"
       ]
      },
      {
       "output_type": "stream",
       "stream": "stdout",
       "text": [
        "\n",
        "   452  |  \u001b[94m  0.016405\u001b[0m  |    0.029803  |     0.550453  |             |  0.2s"
       ]
      },
      {
       "output_type": "stream",
       "stream": "stdout",
       "text": [
        "\n",
        "   453  |  \u001b[94m  0.016387\u001b[0m  |    0.029805  |     0.549806  |             |  0.2s"
       ]
      },
      {
       "output_type": "stream",
       "stream": "stdout",
       "text": [
        "\n",
        "   454  |  \u001b[94m  0.016368\u001b[0m  |    0.029806  |     0.549164  |             |  0.2s"
       ]
      },
      {
       "output_type": "stream",
       "stream": "stdout",
       "text": [
        "\n",
        "   455  |  \u001b[94m  0.016350\u001b[0m  |    0.029808  |     0.548514  |             |  0.2s"
       ]
      },
      {
       "output_type": "stream",
       "stream": "stdout",
       "text": [
        "\n",
        "   456  |  \u001b[94m  0.016332\u001b[0m  |    0.029809  |     0.547867  |             |  0.2s"
       ]
      },
      {
       "output_type": "stream",
       "stream": "stdout",
       "text": [
        "\n",
        "   457  |  \u001b[94m  0.016313\u001b[0m  |    0.029811  |     0.547221  |             |  0.2s"
       ]
      },
      {
       "output_type": "stream",
       "stream": "stdout",
       "text": [
        "\n",
        "   458  |  \u001b[94m  0.016295\u001b[0m  |    0.029812  |     0.546583  |             |  0.2s"
       ]
      },
      {
       "output_type": "stream",
       "stream": "stdout",
       "text": [
        "\n",
        "   459  |  \u001b[94m  0.016277\u001b[0m  |    0.029814  |     0.545935  |             |  0.2s"
       ]
      },
      {
       "output_type": "stream",
       "stream": "stdout",
       "text": [
        "\n",
        "   460  |  \u001b[94m  0.016258\u001b[0m  |    0.029816  |     0.545288  |             |  0.2s"
       ]
      },
      {
       "output_type": "stream",
       "stream": "stdout",
       "text": [
        "\n",
        "   461  |  \u001b[94m  0.016240\u001b[0m  |    0.029817  |     0.544648  |             |  0.2s"
       ]
      },
      {
       "output_type": "stream",
       "stream": "stdout",
       "text": [
        "\n",
        "   462  |  \u001b[94m  0.016222\u001b[0m  |    0.029819  |     0.544009  |             |  0.2s"
       ]
      },
      {
       "output_type": "stream",
       "stream": "stdout",
       "text": [
        "\n",
        "   463  |  \u001b[94m  0.016204\u001b[0m  |    0.029820  |     0.543372  |             |  0.2s"
       ]
      },
      {
       "output_type": "stream",
       "stream": "stdout",
       "text": [
        "\n",
        "   464  |  \u001b[94m  0.016185\u001b[0m  |    0.029822  |     0.542736  |             |  0.2s"
       ]
      },
      {
       "output_type": "stream",
       "stream": "stdout",
       "text": [
        "\n",
        "   465  |  \u001b[94m  0.016167\u001b[0m  |    0.029824  |     0.542096  |             |  0.2s"
       ]
      },
      {
       "output_type": "stream",
       "stream": "stdout",
       "text": [
        "\n",
        "   466  |  \u001b[94m  0.016149\u001b[0m  |    0.029825  |     0.541458  |             |  0.2s"
       ]
      },
      {
       "output_type": "stream",
       "stream": "stdout",
       "text": [
        "\n",
        "   467  |  \u001b[94m  0.016131\u001b[0m  |    0.029826  |     0.540838  |             |  0.2s"
       ]
      },
      {
       "output_type": "stream",
       "stream": "stdout",
       "text": [
        "\n",
        "   468  |  \u001b[94m  0.016113\u001b[0m  |    0.029828  |     0.540204  |             |  0.2s"
       ]
      },
      {
       "output_type": "stream",
       "stream": "stdout",
       "text": [
        "\n",
        "   469  |  \u001b[94m  0.016095\u001b[0m  |    0.029830  |     0.539567  |             |  0.2s"
       ]
      },
      {
       "output_type": "stream",
       "stream": "stdout",
       "text": [
        "\n",
        "   470  |  \u001b[94m  0.016077\u001b[0m  |    0.029832  |     0.538923  |             |  0.2s"
       ]
      },
      {
       "output_type": "stream",
       "stream": "stdout",
       "text": [
        "\n",
        "   471  |  \u001b[94m  0.016059\u001b[0m  |    0.029834  |     0.538293  |             |  0.2s"
       ]
      },
      {
       "output_type": "stream",
       "stream": "stdout",
       "text": [
        "\n",
        "   472  |  \u001b[94m  0.016041\u001b[0m  |    0.029835  |     0.537667  |             |  0.2s"
       ]
      },
      {
       "output_type": "stream",
       "stream": "stdout",
       "text": [
        "\n",
        "   473  |  \u001b[94m  0.016023\u001b[0m  |    0.029836  |     0.537044  |             |  0.2s"
       ]
      },
      {
       "output_type": "stream",
       "stream": "stdout",
       "text": [
        "\n",
        "   474  |  \u001b[94m  0.016006\u001b[0m  |    0.029838  |     0.536423  |             |  0.2s"
       ]
      },
      {
       "output_type": "stream",
       "stream": "stdout",
       "text": [
        "\n",
        "   475  |  \u001b[94m  0.015988\u001b[0m  |    0.029839  |     0.535796  |             |  0.2s"
       ]
      },
      {
       "output_type": "stream",
       "stream": "stdout",
       "text": [
        "\n",
        "   476  |  \u001b[94m  0.015970\u001b[0m  |    0.029841  |     0.535167  |             |  0.2s"
       ]
      },
      {
       "output_type": "stream",
       "stream": "stdout",
       "text": [
        "\n",
        "   477  |  \u001b[94m  0.015952\u001b[0m  |    0.029843  |     0.534540  |             |  0.2s"
       ]
      },
      {
       "output_type": "stream",
       "stream": "stdout",
       "text": [
        "\n",
        "   478  |  \u001b[94m  0.015935\u001b[0m  |    0.029845  |     0.533908  |             |  0.2s"
       ]
      },
      {
       "output_type": "stream",
       "stream": "stdout",
       "text": [
        "\n",
        "   479  |  \u001b[94m  0.015917\u001b[0m  |    0.029847  |     0.533295  |             |  0.2s"
       ]
      },
      {
       "output_type": "stream",
       "stream": "stdout",
       "text": [
        "\n",
        "   480  |  \u001b[94m  0.015899\u001b[0m  |    0.029848  |     0.532676  |             |  0.2s"
       ]
      },
      {
       "output_type": "stream",
       "stream": "stdout",
       "text": [
        "\n",
        "   481  |  \u001b[94m  0.015882\u001b[0m  |    0.029850  |     0.532051  |             |  0.2s"
       ]
      },
      {
       "output_type": "stream",
       "stream": "stdout",
       "text": [
        "\n",
        "   482  |  \u001b[94m  0.015864\u001b[0m  |    0.029852  |     0.531434  |             |  0.2s"
       ]
      },
      {
       "output_type": "stream",
       "stream": "stdout",
       "text": [
        "\n",
        "   483  |  \u001b[94m  0.015847\u001b[0m  |    0.029854  |     0.530813  |             |  0.2s"
       ]
      },
      {
       "output_type": "stream",
       "stream": "stdout",
       "text": [
        "\n",
        "   484  |  \u001b[94m  0.015829\u001b[0m  |    0.029855  |     0.530196  |             |  0.2s"
       ]
      },
      {
       "output_type": "stream",
       "stream": "stdout",
       "text": [
        "\n",
        "   485  |  \u001b[94m  0.015812\u001b[0m  |    0.029857  |     0.529576  |             |  0.2s"
       ]
      },
      {
       "output_type": "stream",
       "stream": "stdout",
       "text": [
        "\n",
        "   486  |  \u001b[94m  0.015794\u001b[0m  |    0.029859  |     0.528961  |             |  0.2s"
       ]
      },
      {
       "output_type": "stream",
       "stream": "stdout",
       "text": [
        "\n",
        "   487  |  \u001b[94m  0.015777\u001b[0m  |    0.029861  |     0.528350  |             |  0.2s"
       ]
      },
      {
       "output_type": "stream",
       "stream": "stdout",
       "text": [
        "\n",
        "   488  |  \u001b[94m  0.015760\u001b[0m  |    0.029863  |     0.527734  |             |  0.2s"
       ]
      },
      {
       "output_type": "stream",
       "stream": "stdout",
       "text": [
        "\n",
        "   489  |  \u001b[94m  0.015742\u001b[0m  |    0.029864  |     0.527124  |             |  0.2s"
       ]
      },
      {
       "output_type": "stream",
       "stream": "stdout",
       "text": [
        "\n",
        "   490  |  \u001b[94m  0.015725\u001b[0m  |    0.029866  |     0.526510  |             |  0.2s"
       ]
      },
      {
       "output_type": "stream",
       "stream": "stdout",
       "text": [
        "\n",
        "   491  |  \u001b[94m  0.015708\u001b[0m  |    0.029869  |     0.525894  |             |  0.2s"
       ]
      },
      {
       "output_type": "stream",
       "stream": "stdout",
       "text": [
        "\n",
        "   492  |  \u001b[94m  0.015691\u001b[0m  |    0.029870  |     0.525286  |             |  0.2s"
       ]
      },
      {
       "output_type": "stream",
       "stream": "stdout",
       "text": [
        "\n",
        "   493  |  \u001b[94m  0.015673\u001b[0m  |    0.029872  |     0.524676  |             |  0.2s"
       ]
      },
      {
       "output_type": "stream",
       "stream": "stdout",
       "text": [
        "\n",
        "   494  |  \u001b[94m  0.015656\u001b[0m  |    0.029874  |     0.524075  |             |  0.2s"
       ]
      },
      {
       "output_type": "stream",
       "stream": "stdout",
       "text": [
        "\n",
        "   495  |  \u001b[94m  0.015639\u001b[0m  |    0.029876  |     0.523470  |             |  0.2s"
       ]
      },
      {
       "output_type": "stream",
       "stream": "stdout",
       "text": [
        "\n",
        "   496  |  \u001b[94m  0.015622\u001b[0m  |    0.029878  |     0.522856  |             |  0.2s"
       ]
      },
      {
       "output_type": "stream",
       "stream": "stdout",
       "text": [
        "\n",
        "   497  |  \u001b[94m  0.015605\u001b[0m  |    0.029880  |     0.522249  |             |  0.2s"
       ]
      },
      {
       "output_type": "stream",
       "stream": "stdout",
       "text": [
        "\n",
        "   498  |  \u001b[94m  0.015588\u001b[0m  |    0.029882  |     0.521647  |             |  0.2s"
       ]
      },
      {
       "output_type": "stream",
       "stream": "stdout",
       "text": [
        "\n",
        "   499  |  \u001b[94m  0.015571\u001b[0m  |    0.029884  |     0.521043  |             |  0.2s"
       ]
      },
      {
       "output_type": "stream",
       "stream": "stdout",
       "text": [
        "\n",
        "   500  |  \u001b[94m  0.015554\u001b[0m  |    0.029886  |     0.520441  |             |  0.2s"
       ]
      },
      {
       "output_type": "stream",
       "stream": "stdout",
       "text": [
        "\n",
        "   501  |  \u001b[94m  0.015537\u001b[0m  |    0.029888  |     0.519839  |             |  0.2s"
       ]
      },
      {
       "output_type": "stream",
       "stream": "stdout",
       "text": [
        "\n",
        "   502  |  \u001b[94m  0.015520\u001b[0m  |    0.029890  |     0.519232  |             |  0.2s"
       ]
      },
      {
       "output_type": "stream",
       "stream": "stdout",
       "text": [
        "\n",
        "   503  |  \u001b[94m  0.015503\u001b[0m  |    0.029892  |     0.518638  |             |  0.2s"
       ]
      },
      {
       "output_type": "stream",
       "stream": "stdout",
       "text": [
        "\n",
        "   504  |  \u001b[94m  0.015486\u001b[0m  |    0.029894  |     0.518026  |             |  0.2s"
       ]
      },
      {
       "output_type": "stream",
       "stream": "stdout",
       "text": [
        "\n",
        "   505  |  \u001b[94m  0.015469\u001b[0m  |    0.029896  |     0.517437  |             |  0.2s"
       ]
      },
      {
       "output_type": "stream",
       "stream": "stdout",
       "text": [
        "\n",
        "   506  |  \u001b[94m  0.015452\u001b[0m  |    0.029897  |     0.516845  |             |  0.2s"
       ]
      },
      {
       "output_type": "stream",
       "stream": "stdout",
       "text": [
        "\n",
        "   507  |  \u001b[94m  0.015436\u001b[0m  |    0.029900  |     0.516242  |             |  0.2s"
       ]
      },
      {
       "output_type": "stream",
       "stream": "stdout",
       "text": [
        "\n",
        "   508  |  \u001b[94m  0.015419\u001b[0m  |    0.029901  |     0.515656  |             |  0.2s"
       ]
      },
      {
       "output_type": "stream",
       "stream": "stdout",
       "text": [
        "\n",
        "   509  |  \u001b[94m  0.015402\u001b[0m  |    0.029904  |     0.515053  |             |  0.2s"
       ]
      },
      {
       "output_type": "stream",
       "stream": "stdout",
       "text": [
        "\n",
        "   510  |  \u001b[94m  0.015385\u001b[0m  |    0.029906  |     0.514455  |             |  0.2s"
       ]
      },
      {
       "output_type": "stream",
       "stream": "stdout",
       "text": [
        "\n",
        "   511  |  \u001b[94m  0.015369\u001b[0m  |    0.029907  |     0.513874  |             |  0.2s"
       ]
      },
      {
       "output_type": "stream",
       "stream": "stdout",
       "text": [
        "\n",
        "   512  |  \u001b[94m  0.015352\u001b[0m  |    0.029909  |     0.513285  |             |  0.2s"
       ]
      },
      {
       "output_type": "stream",
       "stream": "stdout",
       "text": [
        "\n",
        "   513  |  \u001b[94m  0.015335\u001b[0m  |    0.029911  |     0.512697  |             |  0.2s"
       ]
      },
      {
       "output_type": "stream",
       "stream": "stdout",
       "text": [
        "\n",
        "   514  |  \u001b[94m  0.015319\u001b[0m  |    0.029913  |     0.512112  |             |  0.2s"
       ]
      },
      {
       "output_type": "stream",
       "stream": "stdout",
       "text": [
        "\n",
        "   515  |  \u001b[94m  0.015302\u001b[0m  |    0.029915  |     0.511520  |             |  0.2s"
       ]
      },
      {
       "output_type": "stream",
       "stream": "stdout",
       "text": [
        "\n",
        "   516  |  \u001b[94m  0.015286\u001b[0m  |    0.029917  |     0.510935  |             |  0.2s"
       ]
      },
      {
       "output_type": "stream",
       "stream": "stdout",
       "text": [
        "\n",
        "   517  |  \u001b[94m  0.015269\u001b[0m  |    0.029920  |     0.510340  |             |  0.2s"
       ]
      },
      {
       "output_type": "stream",
       "stream": "stdout",
       "text": [
        "\n",
        "   518  |  \u001b[94m  0.015253\u001b[0m  |    0.029922  |     0.509749  |             |  0.2s"
       ]
      },
      {
       "output_type": "stream",
       "stream": "stdout",
       "text": [
        "\n",
        "   519  |  \u001b[94m  0.015236\u001b[0m  |    0.029924  |     0.509170  |             |  0.2s"
       ]
      },
      {
       "output_type": "stream",
       "stream": "stdout",
       "text": [
        "\n",
        "   520  |  \u001b[94m  0.015220\u001b[0m  |    0.029926  |     0.508588  |             |  0.2s"
       ]
      },
      {
       "output_type": "stream",
       "stream": "stdout",
       "text": [
        "\n",
        "   521  |  \u001b[94m  0.015203\u001b[0m  |    0.029928  |     0.508006  |             |  0.2s"
       ]
      },
      {
       "output_type": "stream",
       "stream": "stdout",
       "text": [
        "\n",
        "   522  |  \u001b[94m  0.015187\u001b[0m  |    0.029930  |     0.507417  |             |  0.2s"
       ]
      },
      {
       "output_type": "stream",
       "stream": "stdout",
       "text": [
        "\n",
        "   523  |  \u001b[94m  0.015171\u001b[0m  |    0.029932  |     0.506842  |             |  0.2s"
       ]
      },
      {
       "output_type": "stream",
       "stream": "stdout",
       "text": [
        "\n",
        "   524  |  \u001b[94m  0.015154\u001b[0m  |    0.029934  |     0.506255  |             |  0.2s"
       ]
      },
      {
       "output_type": "stream",
       "stream": "stdout",
       "text": [
        "\n",
        "   525  |  \u001b[94m  0.015138\u001b[0m  |    0.029936  |     0.505682  |             |  0.2s"
       ]
      },
      {
       "output_type": "stream",
       "stream": "stdout",
       "text": [
        "\n",
        "   526  |  \u001b[94m  0.015122\u001b[0m  |    0.029938  |     0.505105  |             |  0.2s"
       ]
      },
      {
       "output_type": "stream",
       "stream": "stdout",
       "text": [
        "\n",
        "   527  |  \u001b[94m  0.015105\u001b[0m  |    0.029940  |     0.504526  |             |  0.2s"
       ]
      },
      {
       "output_type": "stream",
       "stream": "stdout",
       "text": [
        "\n",
        "   528  |  \u001b[94m  0.015089\u001b[0m  |    0.029942  |     0.503954  |             |  0.2s"
       ]
      },
      {
       "output_type": "stream",
       "stream": "stdout",
       "text": [
        "\n",
        "   529  |  \u001b[94m  0.015073\u001b[0m  |    0.029944  |     0.503377  |             |  0.2s"
       ]
      },
      {
       "output_type": "stream",
       "stream": "stdout",
       "text": [
        "\n",
        "   530  |  \u001b[94m  0.015057\u001b[0m  |    0.029946  |     0.502798  |             |  0.2s"
       ]
      },
      {
       "output_type": "stream",
       "stream": "stdout",
       "text": [
        "\n",
        "   531  |  \u001b[94m  0.015041\u001b[0m  |    0.029948  |     0.502218  |             |  0.2s"
       ]
      },
      {
       "output_type": "stream",
       "stream": "stdout",
       "text": [
        "\n",
        "   532  |  \u001b[94m  0.015025\u001b[0m  |    0.029950  |     0.501653  |             |  0.2s"
       ]
      },
      {
       "output_type": "stream",
       "stream": "stdout",
       "text": [
        "\n",
        "   533  |  \u001b[94m  0.015008\u001b[0m  |    0.029952  |     0.501084  |             |  0.2s"
       ]
      },
      {
       "output_type": "stream",
       "stream": "stdout",
       "text": [
        "\n",
        "   534  |  \u001b[94m  0.014992\u001b[0m  |    0.029954  |     0.500510  |             |  0.2s"
       ]
      },
      {
       "output_type": "stream",
       "stream": "stdout",
       "text": [
        "\n",
        "   535  |  \u001b[94m  0.014976\u001b[0m  |    0.029956  |     0.499942  |             |  0.2s"
       ]
      },
      {
       "output_type": "stream",
       "stream": "stdout",
       "text": [
        "\n",
        "   536  |  \u001b[94m  0.014960\u001b[0m  |    0.029958  |     0.499370  |             |  0.2s"
       ]
      },
      {
       "output_type": "stream",
       "stream": "stdout",
       "text": [
        "\n",
        "   537  |  \u001b[94m  0.014944\u001b[0m  |    0.029961  |     0.498798  |             |  0.2s"
       ]
      },
      {
       "output_type": "stream",
       "stream": "stdout",
       "text": [
        "\n",
        "   538  |  \u001b[94m  0.014928\u001b[0m  |    0.029963  |     0.498229  |             |  0.2s"
       ]
      },
      {
       "output_type": "stream",
       "stream": "stdout",
       "text": [
        "\n",
        "   539  |  \u001b[94m  0.014913\u001b[0m  |    0.029965  |     0.497663  |             |  0.2s"
       ]
      },
      {
       "output_type": "stream",
       "stream": "stdout",
       "text": [
        "\n",
        "   540  |  \u001b[94m  0.014897\u001b[0m  |    0.029967  |     0.497094  |             |  0.2s"
       ]
      },
      {
       "output_type": "stream",
       "stream": "stdout",
       "text": [
        "\n",
        "   541  |  \u001b[94m  0.014881\u001b[0m  |    0.029970  |     0.496530  |             |  0.2s"
       ]
      },
      {
       "output_type": "stream",
       "stream": "stdout",
       "text": [
        "\n",
        "   542  |  \u001b[94m  0.014865\u001b[0m  |    0.029972  |     0.495955  |             |  0.2s"
       ]
      },
      {
       "output_type": "stream",
       "stream": "stdout",
       "text": [
        "\n",
        "   543  |  \u001b[94m  0.014849\u001b[0m  |    0.029974  |     0.495394  |             |  0.2s"
       ]
      },
      {
       "output_type": "stream",
       "stream": "stdout",
       "text": [
        "\n",
        "   544  |  \u001b[94m  0.014833\u001b[0m  |    0.029976  |     0.494835  |             |  0.2s"
       ]
      },
      {
       "output_type": "stream",
       "stream": "stdout",
       "text": [
        "\n",
        "   545  |  \u001b[94m  0.014818\u001b[0m  |    0.029978  |     0.494279  |             |  0.2s"
       ]
      },
      {
       "output_type": "stream",
       "stream": "stdout",
       "text": [
        "\n",
        "   546  |  \u001b[94m  0.014802\u001b[0m  |    0.029981  |     0.493703  |             |  0.2s"
       ]
      },
      {
       "output_type": "stream",
       "stream": "stdout",
       "text": [
        "\n",
        "   547  |  \u001b[94m  0.014786\u001b[0m  |    0.029983  |     0.493151  |             |  0.2s"
       ]
      },
      {
       "output_type": "stream",
       "stream": "stdout",
       "text": [
        "\n",
        "   548  |  \u001b[94m  0.014771\u001b[0m  |    0.029985  |     0.492594  |             |  0.2s"
       ]
      },
      {
       "output_type": "stream",
       "stream": "stdout",
       "text": [
        "\n",
        "   549  |  \u001b[94m  0.014755\u001b[0m  |    0.029988  |     0.492030  |             |  0.2s"
       ]
      },
      {
       "output_type": "stream",
       "stream": "stdout",
       "text": [
        "\n",
        "   550  |  \u001b[94m  0.014739\u001b[0m  |    0.029990  |     0.491473  |             |  0.2s"
       ]
      },
      {
       "output_type": "stream",
       "stream": "stdout",
       "text": [
        "\n",
        "   551  |  \u001b[94m  0.014724\u001b[0m  |    0.029992  |     0.490916  |             |  0.2s"
       ]
      },
      {
       "output_type": "stream",
       "stream": "stdout",
       "text": [
        "\n",
        "   552  |  \u001b[94m  0.014708\u001b[0m  |    0.029995  |     0.490353  |             |  0.2s"
       ]
      },
      {
       "output_type": "stream",
       "stream": "stdout",
       "text": [
        "\n",
        "   553  |  \u001b[94m  0.014693\u001b[0m  |    0.029998  |     0.489794  |             |  0.2s"
       ]
      },
      {
       "output_type": "stream",
       "stream": "stdout",
       "text": [
        "\n",
        "   554  |  \u001b[94m  0.014677\u001b[0m  |    0.029999  |     0.489253  |             |  0.2s"
       ]
      },
      {
       "output_type": "stream",
       "stream": "stdout",
       "text": [
        "\n",
        "   555  |  \u001b[94m  0.014662\u001b[0m  |    0.030001  |     0.488701  |             |  0.2s"
       ]
      },
      {
       "output_type": "stream",
       "stream": "stdout",
       "text": [
        "\n",
        "   556  |  \u001b[94m  0.014646\u001b[0m  |    0.030003  |     0.488152  |             |  0.2s"
       ]
      },
      {
       "output_type": "stream",
       "stream": "stdout",
       "text": [
        "\n",
        "   557  |  \u001b[94m  0.014631\u001b[0m  |    0.030006  |     0.487593  |             |  0.2s"
       ]
      },
      {
       "output_type": "stream",
       "stream": "stdout",
       "text": [
        "\n",
        "   558  |  \u001b[94m  0.014615\u001b[0m  |    0.030009  |     0.487040  |             |  0.2s"
       ]
      },
      {
       "output_type": "stream",
       "stream": "stdout",
       "text": [
        "\n",
        "   559  |  \u001b[94m  0.014600\u001b[0m  |    0.030011  |     0.486489  |             |  0.2s"
       ]
      },
      {
       "output_type": "stream",
       "stream": "stdout",
       "text": [
        "\n",
        "   560  |  \u001b[94m  0.014585\u001b[0m  |    0.030013  |     0.485939  |             |  0.2s"
       ]
      },
      {
       "output_type": "stream",
       "stream": "stdout",
       "text": [
        "\n",
        "   561  |  \u001b[94m  0.014569\u001b[0m  |    0.030015  |     0.485399  |             |  0.2s"
       ]
      },
      {
       "output_type": "stream",
       "stream": "stdout",
       "text": [
        "\n",
        "   562  |  \u001b[94m  0.014554\u001b[0m  |    0.030017  |     0.484856  |             |  0.2s"
       ]
      },
      {
       "output_type": "stream",
       "stream": "stdout",
       "text": [
        "\n",
        "   563  |  \u001b[94m  0.014539\u001b[0m  |    0.030020  |     0.484307  |             |  0.2s"
       ]
      },
      {
       "output_type": "stream",
       "stream": "stdout",
       "text": [
        "\n",
        "   564  |  \u001b[94m  0.014524\u001b[0m  |    0.030023  |     0.483755  |             |  0.2s"
       ]
      },
      {
       "output_type": "stream",
       "stream": "stdout",
       "text": [
        "\n",
        "   565  |  \u001b[94m  0.014508\u001b[0m  |    0.030025  |     0.483210  |             |  0.2s"
       ]
      },
      {
       "output_type": "stream",
       "stream": "stdout",
       "text": [
        "\n",
        "   566  |  \u001b[94m  0.014493\u001b[0m  |    0.030027  |     0.482668  |             |  0.2s"
       ]
      },
      {
       "output_type": "stream",
       "stream": "stdout",
       "text": [
        "\n",
        "   567  |  \u001b[94m  0.014478\u001b[0m  |    0.030030  |     0.482116  |             |  0.2s"
       ]
      },
      {
       "output_type": "stream",
       "stream": "stdout",
       "text": [
        "\n",
        "   568  |  \u001b[94m  0.014463\u001b[0m  |    0.030032  |     0.481581  |             |  0.2s"
       ]
      },
      {
       "output_type": "stream",
       "stream": "stdout",
       "text": [
        "\n",
        "   569  |  \u001b[94m  0.014448\u001b[0m  |    0.030034  |     0.481038  |             |  0.2s"
       ]
      },
      {
       "output_type": "stream",
       "stream": "stdout",
       "text": [
        "\n",
        "   570  |  \u001b[94m  0.014433\u001b[0m  |    0.030037  |     0.480497  |             |  0.2s"
       ]
      },
      {
       "output_type": "stream",
       "stream": "stdout",
       "text": [
        "\n",
        "   571  |  \u001b[94m  0.014417\u001b[0m  |    0.030039  |     0.479953  |             |  0.2s"
       ]
      },
      {
       "output_type": "stream",
       "stream": "stdout",
       "text": [
        "\n",
        "   572  |  \u001b[94m  0.014402\u001b[0m  |    0.030042  |     0.479415  |             |  0.2s"
       ]
      },
      {
       "output_type": "stream",
       "stream": "stdout",
       "text": [
        "\n",
        "   573  |  \u001b[94m  0.014387\u001b[0m  |    0.030044  |     0.478871  |             |  0.2s"
       ]
      },
      {
       "output_type": "stream",
       "stream": "stdout",
       "text": [
        "\n",
        "   574  |  \u001b[94m  0.014372\u001b[0m  |    0.030047  |     0.478330  |             |  0.2s"
       ]
      },
      {
       "output_type": "stream",
       "stream": "stdout",
       "text": [
        "\n",
        "   575  |  \u001b[94m  0.014357\u001b[0m  |    0.030049  |     0.477792  |             |  0.2s"
       ]
      },
      {
       "output_type": "stream",
       "stream": "stdout",
       "text": [
        "\n",
        "   576  |  \u001b[94m  0.014342\u001b[0m  |    0.030051  |     0.477263  |             |  0.2s"
       ]
      },
      {
       "output_type": "stream",
       "stream": "stdout",
       "text": [
        "\n",
        "   577  |  \u001b[94m  0.014328\u001b[0m  |    0.030054  |     0.476731  |             |  0.2s"
       ]
      },
      {
       "output_type": "stream",
       "stream": "stdout",
       "text": [
        "\n",
        "   578  |  \u001b[94m  0.014313\u001b[0m  |    0.030056  |     0.476192  |             |  0.2s"
       ]
      },
      {
       "output_type": "stream",
       "stream": "stdout",
       "text": [
        "\n",
        "   579  |  \u001b[94m  0.014298\u001b[0m  |    0.030059  |     0.475653  |             |  0.2s"
       ]
      },
      {
       "output_type": "stream",
       "stream": "stdout",
       "text": [
        "\n",
        "   580  |  \u001b[94m  0.014283\u001b[0m  |    0.030062  |     0.475108  |             |  0.2s"
       ]
      },
      {
       "output_type": "stream",
       "stream": "stdout",
       "text": [
        "\n",
        "   581  |  \u001b[94m  0.014268\u001b[0m  |    0.030065  |     0.474578  |             |  0.2s"
       ]
      },
      {
       "output_type": "stream",
       "stream": "stdout",
       "text": [
        "\n",
        "   582  |  \u001b[94m  0.014253\u001b[0m  |    0.030066  |     0.474057  |             |  0.2s"
       ]
      },
      {
       "output_type": "stream",
       "stream": "stdout",
       "text": [
        "\n",
        "   583  |  \u001b[94m  0.014238\u001b[0m  |    0.030069  |     0.473531  |             |  0.2s"
       ]
      },
      {
       "output_type": "stream",
       "stream": "stdout",
       "text": [
        "\n",
        "   584  |  \u001b[94m  0.014224\u001b[0m  |    0.030071  |     0.472998  |             |  0.2s"
       ]
      },
      {
       "output_type": "stream",
       "stream": "stdout",
       "text": [
        "\n",
        "   585  |  \u001b[94m  0.014209\u001b[0m  |    0.030074  |     0.472464  |             |  0.2s"
       ]
      },
      {
       "output_type": "stream",
       "stream": "stdout",
       "text": [
        "\n",
        "   586  |  \u001b[94m  0.014194\u001b[0m  |    0.030077  |     0.471937  |             |  0.2s"
       ]
      },
      {
       "output_type": "stream",
       "stream": "stdout",
       "text": [
        "\n",
        "   587  |  \u001b[94m  0.014180\u001b[0m  |    0.030079  |     0.471411  |             |  0.2s"
       ]
      },
      {
       "output_type": "stream",
       "stream": "stdout",
       "text": [
        "\n",
        "   588  |  \u001b[94m  0.014165\u001b[0m  |    0.030081  |     0.470890  |             |  0.2s"
       ]
      },
      {
       "output_type": "stream",
       "stream": "stdout",
       "text": [
        "\n",
        "   589  |  \u001b[94m  0.014150\u001b[0m  |    0.030083  |     0.470369  |             |  0.2s"
       ]
      },
      {
       "output_type": "stream",
       "stream": "stdout",
       "text": [
        "\n",
        "   590  |  \u001b[94m  0.014136\u001b[0m  |    0.030086  |     0.469841  |             |  0.2s"
       ]
      },
      {
       "output_type": "stream",
       "stream": "stdout",
       "text": [
        "\n",
        "   591  |  \u001b[94m  0.014121\u001b[0m  |    0.030088  |     0.469319  |             |  0.2s"
       ]
      },
      {
       "output_type": "stream",
       "stream": "stdout",
       "text": [
        "\n",
        "   592  |  \u001b[94m  0.014106\u001b[0m  |    0.030091  |     0.468796  |             |  0.2s"
       ]
      },
      {
       "output_type": "stream",
       "stream": "stdout",
       "text": [
        "\n",
        "   593  |  \u001b[94m  0.014092\u001b[0m  |    0.030093  |     0.468273  |             |  0.2s"
       ]
      },
      {
       "output_type": "stream",
       "stream": "stdout",
       "text": [
        "\n",
        "   594  |  \u001b[94m  0.014077\u001b[0m  |    0.030096  |     0.467747  |             |  0.2s"
       ]
      },
      {
       "output_type": "stream",
       "stream": "stdout",
       "text": [
        "\n",
        "   595  |  \u001b[94m  0.014063\u001b[0m  |    0.030098  |     0.467236  |             |  0.2s"
       ]
      },
      {
       "output_type": "stream",
       "stream": "stdout",
       "text": [
        "\n",
        "   596  |  \u001b[94m  0.014048\u001b[0m  |    0.030101  |     0.466716  |             |  0.2s"
       ]
      },
      {
       "output_type": "stream",
       "stream": "stdout",
       "text": [
        "\n",
        "   597  |  \u001b[94m  0.014034\u001b[0m  |    0.030103  |     0.466208  |             |  0.2s"
       ]
      },
      {
       "output_type": "stream",
       "stream": "stdout",
       "text": [
        "\n",
        "   598  |  \u001b[94m  0.014020\u001b[0m  |    0.030106  |     0.465678  |             |  0.2s"
       ]
      },
      {
       "output_type": "stream",
       "stream": "stdout",
       "text": [
        "\n",
        "   599  |  \u001b[94m  0.014005\u001b[0m  |    0.030108  |     0.465165  |             |  0.2s"
       ]
      },
      {
       "output_type": "stream",
       "stream": "stdout",
       "text": [
        "\n",
        "   600  |  \u001b[94m  0.013991\u001b[0m  |    0.030110  |     0.464659  |             |  0.2s"
       ]
      },
      {
       "output_type": "stream",
       "stream": "stdout",
       "text": [
        "\n",
        "   601  |  \u001b[94m  0.013977\u001b[0m  |    0.030113  |     0.464131  |             |  0.2s"
       ]
      },
      {
       "output_type": "stream",
       "stream": "stdout",
       "text": [
        "\n",
        "   602  |  \u001b[94m  0.013962\u001b[0m  |    0.030116  |     0.463619  |             |  0.2s"
       ]
      },
      {
       "output_type": "stream",
       "stream": "stdout",
       "text": [
        "\n",
        "   603  |  \u001b[94m  0.013948\u001b[0m  |    0.030118  |     0.463109  |             |  0.2s"
       ]
      },
      {
       "output_type": "stream",
       "stream": "stdout",
       "text": [
        "\n",
        "   604  |  \u001b[94m  0.013934\u001b[0m  |    0.030121  |     0.462594  |             |  0.2s"
       ]
      },
      {
       "output_type": "stream",
       "stream": "stdout",
       "text": [
        "\n",
        "   605  |  \u001b[94m  0.013919\u001b[0m  |    0.030124  |     0.462078  |             |  0.2s"
       ]
      },
      {
       "output_type": "stream",
       "stream": "stdout",
       "text": [
        "\n",
        "   606  |  \u001b[94m  0.013905\u001b[0m  |    0.030126  |     0.461570  |             |  0.2s"
       ]
      },
      {
       "output_type": "stream",
       "stream": "stdout",
       "text": [
        "\n",
        "   607  |  \u001b[94m  0.013891\u001b[0m  |    0.030128  |     0.461070  |             |  0.2s"
       ]
      },
      {
       "output_type": "stream",
       "stream": "stdout",
       "text": [
        "\n",
        "   608  |  \u001b[94m  0.013877\u001b[0m  |    0.030130  |     0.460560  |             |  0.2s"
       ]
      },
      {
       "output_type": "stream",
       "stream": "stdout",
       "text": [
        "\n",
        "   609  |  \u001b[94m  0.013863\u001b[0m  |    0.030133  |     0.460056  |             |  0.2s"
       ]
      },
      {
       "output_type": "stream",
       "stream": "stdout",
       "text": [
        "\n",
        "   610  |  \u001b[94m  0.013849\u001b[0m  |    0.030136  |     0.459542  |             |  0.2s"
       ]
      },
      {
       "output_type": "stream",
       "stream": "stdout",
       "text": [
        "\n",
        "   611  |  \u001b[94m  0.013835\u001b[0m  |    0.030139  |     0.459027  |             |  0.2s"
       ]
      },
      {
       "output_type": "stream",
       "stream": "stdout",
       "text": [
        "\n",
        "   612  |  \u001b[94m  0.013820\u001b[0m  |    0.030141  |     0.458525  |             |  0.2s"
       ]
      },
      {
       "output_type": "stream",
       "stream": "stdout",
       "text": [
        "\n",
        "   613  |  \u001b[94m  0.013806\u001b[0m  |    0.030144  |     0.458019  |             |  0.2s"
       ]
      },
      {
       "output_type": "stream",
       "stream": "stdout",
       "text": [
        "\n",
        "   614  |  \u001b[94m  0.013792\u001b[0m  |    0.030146  |     0.457514  |             |  0.2s"
       ]
      },
      {
       "output_type": "stream",
       "stream": "stdout",
       "text": [
        "\n",
        "   615  |  \u001b[94m  0.013778\u001b[0m  |    0.030149  |     0.457014  |             |  0.2s"
       ]
      },
      {
       "output_type": "stream",
       "stream": "stdout",
       "text": [
        "\n",
        "   616  |  \u001b[94m  0.013764\u001b[0m  |    0.030151  |     0.456516  |             |  0.2s"
       ]
      },
      {
       "output_type": "stream",
       "stream": "stdout",
       "text": [
        "\n",
        "   617  |  \u001b[94m  0.013750\u001b[0m  |    0.030154  |     0.456006  |             |  0.2s"
       ]
      },
      {
       "output_type": "stream",
       "stream": "stdout",
       "text": [
        "\n",
        "   618  |  \u001b[94m  0.013736\u001b[0m  |    0.030156  |     0.455508  |             |  0.2s"
       ]
      },
      {
       "output_type": "stream",
       "stream": "stdout",
       "text": [
        "\n",
        "   619  |  \u001b[94m  0.013723\u001b[0m  |    0.030159  |     0.455011  |             |  0.2s"
       ]
      },
      {
       "output_type": "stream",
       "stream": "stdout",
       "text": [
        "\n",
        "   620  |  \u001b[94m  0.013709\u001b[0m  |    0.030162  |     0.454506  |             |  0.2s"
       ]
      },
      {
       "output_type": "stream",
       "stream": "stdout",
       "text": [
        "\n",
        "   621  |  \u001b[94m  0.013695\u001b[0m  |    0.030164  |     0.454018  |             |  0.2s"
       ]
      },
      {
       "output_type": "stream",
       "stream": "stdout",
       "text": [
        "\n",
        "   622  |  \u001b[94m  0.013681\u001b[0m  |    0.030167  |     0.453514  |             |  0.2s"
       ]
      },
      {
       "output_type": "stream",
       "stream": "stdout",
       "text": [
        "\n",
        "   623  |  \u001b[94m  0.013667\u001b[0m  |    0.030169  |     0.453013  |             |  0.2s"
       ]
      },
      {
       "output_type": "stream",
       "stream": "stdout",
       "text": [
        "\n",
        "   624  |  \u001b[94m  0.013653\u001b[0m  |    0.030172  |     0.452516  |             |  0.2s"
       ]
      },
      {
       "output_type": "stream",
       "stream": "stdout",
       "text": [
        "\n",
        "   625  |  \u001b[94m  0.013640\u001b[0m  |    0.030175  |     0.452018  |             |  0.2s"
       ]
      },
      {
       "output_type": "stream",
       "stream": "stdout",
       "text": [
        "\n",
        "   626  |  \u001b[94m  0.013626\u001b[0m  |    0.030177  |     0.451522  |             |  0.2s"
       ]
      },
      {
       "output_type": "stream",
       "stream": "stdout",
       "text": [
        "\n",
        "   627  |  \u001b[94m  0.013612\u001b[0m  |    0.030180  |     0.451032  |             |  0.2s"
       ]
      },
      {
       "output_type": "stream",
       "stream": "stdout",
       "text": [
        "\n",
        "   628  |  \u001b[94m  0.013598\u001b[0m  |    0.030183  |     0.450536  |             |  0.2s"
       ]
      },
      {
       "output_type": "stream",
       "stream": "stdout",
       "text": [
        "\n",
        "   629  |  \u001b[94m  0.013585\u001b[0m  |    0.030185  |     0.450045  |             |  0.2s"
       ]
      },
      {
       "output_type": "stream",
       "stream": "stdout",
       "text": [
        "\n",
        "   630  |  \u001b[94m  0.013571\u001b[0m  |    0.030188  |     0.449549  |             |  0.2s"
       ]
      },
      {
       "output_type": "stream",
       "stream": "stdout",
       "text": [
        "\n",
        "   631  |  \u001b[94m  0.013557\u001b[0m  |    0.030191  |     0.449058  |             |  0.2s"
       ]
      },
      {
       "output_type": "stream",
       "stream": "stdout",
       "text": [
        "\n",
        "   632  |  \u001b[94m  0.013544\u001b[0m  |    0.030193  |     0.448567  |             |  0.2s"
       ]
      },
      {
       "output_type": "stream",
       "stream": "stdout",
       "text": [
        "\n",
        "   633  |  \u001b[94m  0.013530\u001b[0m  |    0.030196  |     0.448075  |             |  0.2s"
       ]
      },
      {
       "output_type": "stream",
       "stream": "stdout",
       "text": [
        "\n",
        "   634  |  \u001b[94m  0.013517\u001b[0m  |    0.030199  |     0.447585  |             |  0.2s"
       ]
      },
      {
       "output_type": "stream",
       "stream": "stdout",
       "text": [
        "\n",
        "   635  |  \u001b[94m  0.013503\u001b[0m  |    0.030201  |     0.447102  |             |  0.2s"
       ]
      },
      {
       "output_type": "stream",
       "stream": "stdout",
       "text": [
        "\n",
        "   636  |  \u001b[94m  0.013489\u001b[0m  |    0.030204  |     0.446613  |             |  0.2s"
       ]
      },
      {
       "output_type": "stream",
       "stream": "stdout",
       "text": [
        "\n",
        "   637  |  \u001b[94m  0.013476\u001b[0m  |    0.030207  |     0.446121  |             |  0.2s"
       ]
      },
      {
       "output_type": "stream",
       "stream": "stdout",
       "text": [
        "\n",
        "   638  |  \u001b[94m  0.013462\u001b[0m  |    0.030210  |     0.445629  |             |  0.2s"
       ]
      },
      {
       "output_type": "stream",
       "stream": "stdout",
       "text": [
        "\n",
        "   639  |  \u001b[94m  0.013449\u001b[0m  |    0.030213  |     0.445144  |             |  0.2s"
       ]
      },
      {
       "output_type": "stream",
       "stream": "stdout",
       "text": [
        "\n",
        "   640  |  \u001b[94m  0.013436\u001b[0m  |    0.030215  |     0.444663  |             |  0.2s"
       ]
      },
      {
       "output_type": "stream",
       "stream": "stdout",
       "text": [
        "\n",
        "   641  |  \u001b[94m  0.013422\u001b[0m  |    0.030218  |     0.444174  |             |  0.2s"
       ]
      },
      {
       "output_type": "stream",
       "stream": "stdout",
       "text": [
        "\n",
        "   642  |  \u001b[94m  0.013409\u001b[0m  |    0.030221  |     0.443691  |             |  0.2s"
       ]
      },
      {
       "output_type": "stream",
       "stream": "stdout",
       "text": [
        "\n",
        "   643  |  \u001b[94m  0.013395\u001b[0m  |    0.030223  |     0.443217  |             |  0.2s"
       ]
      },
      {
       "output_type": "stream",
       "stream": "stdout",
       "text": [
        "\n",
        "   644  |  \u001b[94m  0.013382\u001b[0m  |    0.030226  |     0.442735  |             |  0.2s"
       ]
      },
      {
       "output_type": "stream",
       "stream": "stdout",
       "text": [
        "\n",
        "   645  |  \u001b[94m  0.013369\u001b[0m  |    0.030229  |     0.442252  |             |  0.2s"
       ]
      },
      {
       "output_type": "stream",
       "stream": "stdout",
       "text": [
        "\n",
        "   646  |  \u001b[94m  0.013355\u001b[0m  |    0.030231  |     0.441769  |             |  0.2s"
       ]
      },
      {
       "output_type": "stream",
       "stream": "stdout",
       "text": [
        "\n",
        "   647  |  \u001b[94m  0.013342\u001b[0m  |    0.030234  |     0.441286  |             |  0.2s"
       ]
      },
      {
       "output_type": "stream",
       "stream": "stdout",
       "text": [
        "\n",
        "   648  |  \u001b[94m  0.013329\u001b[0m  |    0.030237  |     0.440806  |             |  0.2s"
       ]
      },
      {
       "output_type": "stream",
       "stream": "stdout",
       "text": [
        "\n",
        "   649  |  \u001b[94m  0.013315\u001b[0m  |    0.030240  |     0.440326  |             |  0.2s"
       ]
      },
      {
       "output_type": "stream",
       "stream": "stdout",
       "text": [
        "\n",
        "   650  |  \u001b[94m  0.013302\u001b[0m  |    0.030243  |     0.439850  |             |  0.2s"
       ]
      },
      {
       "output_type": "stream",
       "stream": "stdout",
       "text": [
        "\n",
        "   651  |  \u001b[94m  0.013289\u001b[0m  |    0.030245  |     0.439374  |             |  0.2s"
       ]
      },
      {
       "output_type": "stream",
       "stream": "stdout",
       "text": [
        "\n",
        "   652  |  \u001b[94m  0.013276\u001b[0m  |    0.030248  |     0.438898  |             |  0.2s"
       ]
      },
      {
       "output_type": "stream",
       "stream": "stdout",
       "text": [
        "\n",
        "   653  |  \u001b[94m  0.013263\u001b[0m  |    0.030251  |     0.438417  |             |  0.2s"
       ]
      },
      {
       "output_type": "stream",
       "stream": "stdout",
       "text": [
        "\n",
        "   654  |  \u001b[94m  0.013249\u001b[0m  |    0.030254  |     0.437942  |             |  0.2s"
       ]
      },
      {
       "output_type": "stream",
       "stream": "stdout",
       "text": [
        "\n",
        "   655  |  \u001b[94m  0.013236\u001b[0m  |    0.030256  |     0.437470  |             |  0.2s"
       ]
      },
      {
       "output_type": "stream",
       "stream": "stdout",
       "text": [
        "\n",
        "   656  |  \u001b[94m  0.013223\u001b[0m  |    0.030259  |     0.436995  |             |  0.2s"
       ]
      },
      {
       "output_type": "stream",
       "stream": "stdout",
       "text": [
        "\n",
        "   657  |  \u001b[94m  0.013210\u001b[0m  |    0.030262  |     0.436527  |             |  0.2s"
       ]
      },
      {
       "output_type": "stream",
       "stream": "stdout",
       "text": [
        "\n",
        "   658  |  \u001b[94m  0.013197\u001b[0m  |    0.030265  |     0.436051  |             |  0.2s"
       ]
      },
      {
       "output_type": "stream",
       "stream": "stdout",
       "text": [
        "\n",
        "   659  |  \u001b[94m  0.013184\u001b[0m  |    0.030267  |     0.435591  |             |  0.2s"
       ]
      },
      {
       "output_type": "stream",
       "stream": "stdout",
       "text": [
        "\n",
        "   660  |  \u001b[94m  0.013171\u001b[0m  |    0.030270  |     0.435111  |             |  0.2s"
       ]
      },
      {
       "output_type": "stream",
       "stream": "stdout",
       "text": [
        "\n",
        "   661  |  \u001b[94m  0.013158\u001b[0m  |    0.030273  |     0.434642  |             |  0.2s"
       ]
      },
      {
       "output_type": "stream",
       "stream": "stdout",
       "text": [
        "\n",
        "   662  |  \u001b[94m  0.013145\u001b[0m  |    0.030276  |     0.434169  |             |  0.2s"
       ]
      },
      {
       "output_type": "stream",
       "stream": "stdout",
       "text": [
        "\n",
        "   663  |  \u001b[94m  0.013132\u001b[0m  |    0.030278  |     0.433709  |             |  0.2s"
       ]
      },
      {
       "output_type": "stream",
       "stream": "stdout",
       "text": [
        "\n",
        "   664  |  \u001b[94m  0.013119\u001b[0m  |    0.030281  |     0.433234  |             |  0.2s"
       ]
      },
      {
       "output_type": "stream",
       "stream": "stdout",
       "text": [
        "\n",
        "   665  |  \u001b[94m  0.013106\u001b[0m  |    0.030284  |     0.432770  |             |  0.2s"
       ]
      },
      {
       "output_type": "stream",
       "stream": "stdout",
       "text": [
        "\n",
        "   666  |  \u001b[94m  0.013093\u001b[0m  |    0.030286  |     0.432305  |             |  0.2s"
       ]
      },
      {
       "output_type": "stream",
       "stream": "stdout",
       "text": [
        "\n",
        "   667  |  \u001b[94m  0.013080\u001b[0m  |    0.030289  |     0.431842  |             |  0.2s"
       ]
      },
      {
       "output_type": "stream",
       "stream": "stdout",
       "text": [
        "\n",
        "   668  |  \u001b[94m  0.013067\u001b[0m  |    0.030292  |     0.431383  |             |  0.2s"
       ]
      },
      {
       "output_type": "stream",
       "stream": "stdout",
       "text": [
        "\n",
        "   669  |  \u001b[94m  0.013054\u001b[0m  |    0.030295  |     0.430912  |             |  0.2s"
       ]
      },
      {
       "output_type": "stream",
       "stream": "stdout",
       "text": [
        "\n",
        "   670  |  \u001b[94m  0.013042\u001b[0m  |    0.030298  |     0.430445  |             |  0.2s"
       ]
      },
      {
       "output_type": "stream",
       "stream": "stdout",
       "text": [
        "\n",
        "   671  |  \u001b[94m  0.013029\u001b[0m  |    0.030301  |     0.429976  |             |  0.2s"
       ]
      },
      {
       "output_type": "stream",
       "stream": "stdout",
       "text": [
        "\n",
        "   672  |  \u001b[94m  0.013016\u001b[0m  |    0.030304  |     0.429513  |             |  0.2s"
       ]
      },
      {
       "output_type": "stream",
       "stream": "stdout",
       "text": [
        "\n",
        "   673  |  \u001b[94m  0.013003\u001b[0m  |    0.030306  |     0.429058  |             |  0.2s"
       ]
      },
      {
       "output_type": "stream",
       "stream": "stdout",
       "text": [
        "\n",
        "   674  |  \u001b[94m  0.012990\u001b[0m  |    0.030309  |     0.428594  |             |  0.2s"
       ]
      },
      {
       "output_type": "stream",
       "stream": "stdout",
       "text": [
        "\n",
        "   675  |  \u001b[94m  0.012978\u001b[0m  |    0.030312  |     0.428138  |             |  0.2s"
       ]
      },
      {
       "output_type": "stream",
       "stream": "stdout",
       "text": [
        "\n",
        "   676  |  \u001b[94m  0.012965\u001b[0m  |    0.030315  |     0.427682  |             |  0.2s"
       ]
      },
      {
       "output_type": "stream",
       "stream": "stdout",
       "text": [
        "\n",
        "   677  |  \u001b[94m  0.012952\u001b[0m  |    0.030317  |     0.427220  |             |  0.2s"
       ]
      },
      {
       "output_type": "stream",
       "stream": "stdout",
       "text": [
        "\n",
        "   678  |  \u001b[94m  0.012940\u001b[0m  |    0.030321  |     0.426759  |             |  0.2s"
       ]
      },
      {
       "output_type": "stream",
       "stream": "stdout",
       "text": [
        "\n",
        "   679  |  \u001b[94m  0.012927\u001b[0m  |    0.030323  |     0.426302  |             |  0.2s"
       ]
      },
      {
       "output_type": "stream",
       "stream": "stdout",
       "text": [
        "\n",
        "   680  |  \u001b[94m  0.012914\u001b[0m  |    0.030326  |     0.425846  |             |  0.2s"
       ]
      },
      {
       "output_type": "stream",
       "stream": "stdout",
       "text": [
        "\n",
        "   681  |  \u001b[94m  0.012902\u001b[0m  |    0.030328  |     0.425398  |             |  0.2s"
       ]
      },
      {
       "output_type": "stream",
       "stream": "stdout",
       "text": [
        "\n",
        "   682  |  \u001b[94m  0.012889\u001b[0m  |    0.030331  |     0.424945  |             |  0.2s"
       ]
      },
      {
       "output_type": "stream",
       "stream": "stdout",
       "text": [
        "\n",
        "   683  |  \u001b[94m  0.012876\u001b[0m  |    0.030334  |     0.424488  |             |  0.2s"
       ]
      },
      {
       "output_type": "stream",
       "stream": "stdout",
       "text": [
        "\n",
        "   684  |  \u001b[94m  0.012864\u001b[0m  |    0.030336  |     0.424043  |             |  0.2s"
       ]
      },
      {
       "output_type": "stream",
       "stream": "stdout",
       "text": [
        "\n",
        "   685  |  \u001b[94m  0.012851\u001b[0m  |    0.030339  |     0.423591  |             |  0.2s"
       ]
      },
      {
       "output_type": "stream",
       "stream": "stdout",
       "text": [
        "\n",
        "   686  |  \u001b[94m  0.012839\u001b[0m  |    0.030341  |     0.423142  |             |  0.2s"
       ]
      },
      {
       "output_type": "stream",
       "stream": "stdout",
       "text": [
        "\n",
        "   687  |  \u001b[94m  0.012826\u001b[0m  |    0.030345  |     0.422680  |             |  0.2s"
       ]
      },
      {
       "output_type": "stream",
       "stream": "stdout",
       "text": [
        "\n",
        "   688  |  \u001b[94m  0.012814\u001b[0m  |    0.030347  |     0.422241  |             |  0.2s"
       ]
      },
      {
       "output_type": "stream",
       "stream": "stdout",
       "text": [
        "\n",
        "   689  |  \u001b[94m  0.012801\u001b[0m  |    0.030350  |     0.421789  |             |  0.2s"
       ]
      },
      {
       "output_type": "stream",
       "stream": "stdout",
       "text": [
        "\n",
        "   690  |  \u001b[94m  0.012789\u001b[0m  |    0.030353  |     0.421341  |             |  0.2s"
       ]
      },
      {
       "output_type": "stream",
       "stream": "stdout",
       "text": [
        "\n",
        "   691  |  \u001b[94m  0.012776\u001b[0m  |    0.030356  |     0.420887  |             |  0.2s"
       ]
      },
      {
       "output_type": "stream",
       "stream": "stdout",
       "text": [
        "\n",
        "   692  |  \u001b[94m  0.012764\u001b[0m  |    0.030358  |     0.420445  |             |  0.2s"
       ]
      },
      {
       "output_type": "stream",
       "stream": "stdout",
       "text": [
        "\n",
        "   693  |  \u001b[94m  0.012752\u001b[0m  |    0.030360  |     0.420007  |             |  0.2s"
       ]
      },
      {
       "output_type": "stream",
       "stream": "stdout",
       "text": [
        "\n",
        "   694  |  \u001b[94m  0.012739\u001b[0m  |    0.030363  |     0.419560  |             |  0.2s"
       ]
      },
      {
       "output_type": "stream",
       "stream": "stdout",
       "text": [
        "\n",
        "   695  |  \u001b[94m  0.012727\u001b[0m  |    0.030366  |     0.419119  |             |  0.2s"
       ]
      },
      {
       "output_type": "stream",
       "stream": "stdout",
       "text": [
        "\n",
        "   696  |  \u001b[94m  0.012715\u001b[0m  |    0.030369  |     0.418669  |             |  0.2s"
       ]
      },
      {
       "output_type": "stream",
       "stream": "stdout",
       "text": [
        "\n",
        "   697  |  \u001b[94m  0.012702\u001b[0m  |    0.030372  |     0.418223  |             |  0.2s"
       ]
      },
      {
       "output_type": "stream",
       "stream": "stdout",
       "text": [
        "\n",
        "   698  |  \u001b[94m  0.012690\u001b[0m  |    0.030375  |     0.417785  |             |  0.2s"
       ]
      },
      {
       "output_type": "stream",
       "stream": "stdout",
       "text": [
        "\n",
        "   699  |  \u001b[94m  0.012678\u001b[0m  |    0.030377  |     0.417343  |             |  0.2s"
       ]
      },
      {
       "output_type": "stream",
       "stream": "stdout",
       "text": [
        "\n",
        "   700  |  \u001b[94m  0.012666\u001b[0m  |    0.030380  |     0.416907  |             |  0.2s"
       ]
      },
      {
       "output_type": "stream",
       "stream": "stdout",
       "text": [
        "\n",
        "   701  |  \u001b[94m  0.012653\u001b[0m  |    0.030383  |     0.416466  |             |  0.2s"
       ]
      },
      {
       "output_type": "stream",
       "stream": "stdout",
       "text": [
        "\n",
        "   702  |  \u001b[94m  0.012641\u001b[0m  |    0.030386  |     0.416020  |             |  0.2s"
       ]
      },
      {
       "output_type": "stream",
       "stream": "stdout",
       "text": [
        "\n",
        "   703  |  \u001b[94m  0.012629\u001b[0m  |    0.030389  |     0.415583  |             |  0.2s"
       ]
      },
      {
       "output_type": "stream",
       "stream": "stdout",
       "text": [
        "\n",
        "   704  |  \u001b[94m  0.012617\u001b[0m  |    0.030392  |     0.415144  |             |  0.2s"
       ]
      },
      {
       "output_type": "stream",
       "stream": "stdout",
       "text": [
        "\n",
        "   705  |  \u001b[94m  0.012605\u001b[0m  |    0.030394  |     0.414706  |             |  0.2s"
       ]
      },
      {
       "output_type": "stream",
       "stream": "stdout",
       "text": [
        "\n",
        "   706  |  \u001b[94m  0.012593\u001b[0m  |    0.030398  |     0.414261  |             |  0.2s"
       ]
      },
      {
       "output_type": "stream",
       "stream": "stdout",
       "text": [
        "\n",
        "   707  |  \u001b[94m  0.012580\u001b[0m  |    0.030400  |     0.413825  |             |  0.2s"
       ]
      },
      {
       "output_type": "stream",
       "stream": "stdout",
       "text": [
        "\n",
        "   708  |  \u001b[94m  0.012568\u001b[0m  |    0.030403  |     0.413387  |             |  0.2s"
       ]
      },
      {
       "output_type": "stream",
       "stream": "stdout",
       "text": [
        "\n",
        "   709  |  \u001b[94m  0.012556\u001b[0m  |    0.030406  |     0.412960  |             |  0.2s"
       ]
      },
      {
       "output_type": "stream",
       "stream": "stdout",
       "text": [
        "\n",
        "   710  |  \u001b[94m  0.012544\u001b[0m  |    0.030409  |     0.412521  |             |  0.2s"
       ]
      },
      {
       "output_type": "stream",
       "stream": "stdout",
       "text": [
        "\n",
        "   711  |  \u001b[94m  0.012532\u001b[0m  |    0.030412  |     0.412085  |             |  0.2s"
       ]
      },
      {
       "output_type": "stream",
       "stream": "stdout",
       "text": [
        "\n",
        "   712  |  \u001b[94m  0.012520\u001b[0m  |    0.030415  |     0.411651  |             |  0.2s"
       ]
      },
      {
       "output_type": "stream",
       "stream": "stdout",
       "text": [
        "\n",
        "   713  |  \u001b[94m  0.012508\u001b[0m  |    0.030417  |     0.411221  |             |  0.2s"
       ]
      },
      {
       "output_type": "stream",
       "stream": "stdout",
       "text": [
        "\n",
        "   714  |  \u001b[94m  0.012496\u001b[0m  |    0.030420  |     0.410787  |             |  0.2s"
       ]
      },
      {
       "output_type": "stream",
       "stream": "stdout",
       "text": [
        "\n",
        "   715  |  \u001b[94m  0.012484\u001b[0m  |    0.030424  |     0.410352  |             |  0.2s"
       ]
      },
      {
       "output_type": "stream",
       "stream": "stdout",
       "text": [
        "\n",
        "   716  |  \u001b[94m  0.012472\u001b[0m  |    0.030426  |     0.409921  |             |  0.2s"
       ]
      },
      {
       "output_type": "stream",
       "stream": "stdout",
       "text": [
        "\n",
        "   717  |  \u001b[94m  0.012461\u001b[0m  |    0.030429  |     0.409502  |             |  0.2s"
       ]
      },
      {
       "output_type": "stream",
       "stream": "stdout",
       "text": [
        "\n",
        "   718  |  \u001b[94m  0.012449\u001b[0m  |    0.030431  |     0.409073  |             |  0.2s"
       ]
      },
      {
       "output_type": "stream",
       "stream": "stdout",
       "text": [
        "\n",
        "   719  |  \u001b[94m  0.012437\u001b[0m  |    0.030435  |     0.408636  |             |  0.2s"
       ]
      },
      {
       "output_type": "stream",
       "stream": "stdout",
       "text": [
        "\n",
        "   720  |  \u001b[94m  0.012425\u001b[0m  |    0.030438  |     0.408209  |             |  0.2s"
       ]
      },
      {
       "output_type": "stream",
       "stream": "stdout",
       "text": [
        "\n",
        "   721  |  \u001b[94m  0.012413\u001b[0m  |    0.030440  |     0.407782  |             |  0.2s"
       ]
      },
      {
       "output_type": "stream",
       "stream": "stdout",
       "text": [
        "\n",
        "   722  |  \u001b[94m  0.012401\u001b[0m  |    0.030443  |     0.407359  |             |  0.2s"
       ]
      },
      {
       "output_type": "stream",
       "stream": "stdout",
       "text": [
        "\n",
        "   723  |  \u001b[94m  0.012389\u001b[0m  |    0.030446  |     0.406936  |             |  0.2s"
       ]
      },
      {
       "output_type": "stream",
       "stream": "stdout",
       "text": [
        "\n",
        "   724  |  \u001b[94m  0.012378\u001b[0m  |    0.030448  |     0.406513  |             |  0.2s"
       ]
      },
      {
       "output_type": "stream",
       "stream": "stdout",
       "text": [
        "\n",
        "   725  |  \u001b[94m  0.012366\u001b[0m  |    0.030452  |     0.406086  |             |  0.2s"
       ]
      },
      {
       "output_type": "stream",
       "stream": "stdout",
       "text": [
        "\n",
        "   726  |  \u001b[94m  0.012354\u001b[0m  |    0.030455  |     0.405661  |             |  0.2s"
       ]
      },
      {
       "output_type": "stream",
       "stream": "stdout",
       "text": [
        "\n",
        "   727  |  \u001b[94m  0.012343\u001b[0m  |    0.030458  |     0.405235  |             |  0.2s"
       ]
      },
      {
       "output_type": "stream",
       "stream": "stdout",
       "text": [
        "\n",
        "   728  |  \u001b[94m  0.012331\u001b[0m  |    0.030460  |     0.404815  |             |  0.2s"
       ]
      },
      {
       "output_type": "stream",
       "stream": "stdout",
       "text": [
        "\n",
        "   729  |  \u001b[94m  0.012319\u001b[0m  |    0.030464  |     0.404389  |             |  0.2s"
       ]
      },
      {
       "output_type": "stream",
       "stream": "stdout",
       "text": [
        "\n",
        "   730  |  \u001b[94m  0.012308\u001b[0m  |    0.030467  |     0.403967  |             |  0.2s"
       ]
      },
      {
       "output_type": "stream",
       "stream": "stdout",
       "text": [
        "\n",
        "   731  |  \u001b[94m  0.012296\u001b[0m  |    0.030469  |     0.403550  |             |  0.2s"
       ]
      },
      {
       "output_type": "stream",
       "stream": "stdout",
       "text": [
        "\n",
        "   732  |  \u001b[94m  0.012284\u001b[0m  |    0.030472  |     0.403141  |             |  0.2s"
       ]
      },
      {
       "output_type": "stream",
       "stream": "stdout",
       "text": [
        "\n",
        "   733  |  \u001b[94m  0.012273\u001b[0m  |    0.030475  |     0.402718  |             |  0.2s"
       ]
      },
      {
       "output_type": "stream",
       "stream": "stdout",
       "text": [
        "\n",
        "   734  |  \u001b[94m  0.012261\u001b[0m  |    0.030477  |     0.402302  |             |  0.2s"
       ]
      },
      {
       "output_type": "stream",
       "stream": "stdout",
       "text": [
        "\n",
        "   735  |  \u001b[94m  0.012250\u001b[0m  |    0.030481  |     0.401882  |             |  0.2s"
       ]
      },
      {
       "output_type": "stream",
       "stream": "stdout",
       "text": [
        "\n",
        "   736  |  \u001b[94m  0.012238\u001b[0m  |    0.030484  |     0.401466  |             |  0.2s"
       ]
      },
      {
       "output_type": "stream",
       "stream": "stdout",
       "text": [
        "\n",
        "   737  |  \u001b[94m  0.012227\u001b[0m  |    0.030487  |     0.401045  |             |  0.2s"
       ]
      },
      {
       "output_type": "stream",
       "stream": "stdout",
       "text": [
        "\n",
        "   738  |  \u001b[94m  0.012215\u001b[0m  |    0.030490  |     0.400632  |             |  0.2s"
       ]
      },
      {
       "output_type": "stream",
       "stream": "stdout",
       "text": [
        "\n",
        "   739  |  \u001b[94m  0.012204\u001b[0m  |    0.030492  |     0.400220  |             |  0.2s"
       ]
      },
      {
       "output_type": "stream",
       "stream": "stdout",
       "text": [
        "\n",
        "   740  |  \u001b[94m  0.012192\u001b[0m  |    0.030495  |     0.399810  |             |  0.2s"
       ]
      },
      {
       "output_type": "stream",
       "stream": "stdout",
       "text": [
        "\n",
        "   741  |  \u001b[94m  0.012181\u001b[0m  |    0.030497  |     0.399406  |             |  0.2s"
       ]
      },
      {
       "output_type": "stream",
       "stream": "stdout",
       "text": [
        "\n",
        "   742  |  \u001b[94m  0.012169\u001b[0m  |    0.030501  |     0.398984  |             |  0.2s"
       ]
      },
      {
       "output_type": "stream",
       "stream": "stdout",
       "text": [
        "\n",
        "   743  |  \u001b[94m  0.012158\u001b[0m  |    0.030504  |     0.398571  |             |  0.2s"
       ]
      },
      {
       "output_type": "stream",
       "stream": "stdout",
       "text": [
        "\n",
        "   744  |  \u001b[94m  0.012147\u001b[0m  |    0.030506  |     0.398167  |             |  0.2s"
       ]
      },
      {
       "output_type": "stream",
       "stream": "stdout",
       "text": [
        "\n",
        "   745  |  \u001b[94m  0.012135\u001b[0m  |    0.030509  |     0.397757  |             |  0.2s"
       ]
      },
      {
       "output_type": "stream",
       "stream": "stdout",
       "text": [
        "\n",
        "   746  |  \u001b[94m  0.012124\u001b[0m  |    0.030511  |     0.397355  |             |  0.2s"
       ]
      },
      {
       "output_type": "stream",
       "stream": "stdout",
       "text": [
        "\n",
        "   747  |  \u001b[94m  0.012113\u001b[0m  |    0.030515  |     0.396937  |             |  0.2s"
       ]
      },
      {
       "output_type": "stream",
       "stream": "stdout",
       "text": [
        "\n",
        "   748  |  \u001b[94m  0.012101\u001b[0m  |    0.030518  |     0.396530  |             |  0.2s"
       ]
      },
      {
       "output_type": "stream",
       "stream": "stdout",
       "text": [
        "\n",
        "   749  |  \u001b[94m  0.012090\u001b[0m  |    0.030521  |     0.396115  |             |  0.2s"
       ]
      },
      {
       "output_type": "stream",
       "stream": "stdout",
       "text": [
        "\n",
        "   750  |  \u001b[94m  0.012079\u001b[0m  |    0.030523  |     0.395721  |             |  0.2s"
       ]
      },
      {
       "output_type": "stream",
       "stream": "stdout",
       "text": [
        "\n",
        "   751  |  \u001b[94m  0.012067\u001b[0m  |    0.030526  |     0.395312  |             |  0.2s"
       ]
      },
      {
       "output_type": "stream",
       "stream": "stdout",
       "text": [
        "\n",
        "   752  |  \u001b[94m  0.012056\u001b[0m  |    0.030529  |     0.394905  |             |  0.2s"
       ]
      },
      {
       "output_type": "stream",
       "stream": "stdout",
       "text": [
        "\n",
        "   753  |  \u001b[94m  0.012045\u001b[0m  |    0.030532  |     0.394495  |             |  0.2s"
       ]
      },
      {
       "output_type": "stream",
       "stream": "stdout",
       "text": [
        "\n",
        "   754  |  \u001b[94m  0.012034\u001b[0m  |    0.030535  |     0.394094  |             |  0.2s"
       ]
      },
      {
       "output_type": "stream",
       "stream": "stdout",
       "text": [
        "\n",
        "   755  |  \u001b[94m  0.012023\u001b[0m  |    0.030538  |     0.393694  |             |  0.2s"
       ]
      },
      {
       "output_type": "stream",
       "stream": "stdout",
       "text": [
        "\n",
        "   756  |  \u001b[94m  0.012011\u001b[0m  |    0.030540  |     0.393292  |             |  0.2s"
       ]
      },
      {
       "output_type": "stream",
       "stream": "stdout",
       "text": [
        "\n",
        "   757  |  \u001b[94m  0.012000\u001b[0m  |    0.030543  |     0.392888  |             |  0.2s"
       ]
      },
      {
       "output_type": "stream",
       "stream": "stdout",
       "text": [
        "\n",
        "   758  |  \u001b[94m  0.011989\u001b[0m  |    0.030546  |     0.392496  |             |  0.2s"
       ]
      },
      {
       "output_type": "stream",
       "stream": "stdout",
       "text": [
        "\n",
        "   759  |  \u001b[94m  0.011978\u001b[0m  |    0.030549  |     0.392091  |             |  0.2s"
       ]
      },
      {
       "output_type": "stream",
       "stream": "stdout",
       "text": [
        "\n",
        "   760  |  \u001b[94m  0.011967\u001b[0m  |    0.030551  |     0.391696  |             |  0.2s"
       ]
      },
      {
       "output_type": "stream",
       "stream": "stdout",
       "text": [
        "\n",
        "   761  |  \u001b[94m  0.011956\u001b[0m  |    0.030555  |     0.391293  |             |  0.2s"
       ]
      },
      {
       "output_type": "stream",
       "stream": "stdout",
       "text": [
        "\n",
        "   762  |  \u001b[94m  0.011945\u001b[0m  |    0.030557  |     0.390898  |             |  0.2s"
       ]
      },
      {
       "output_type": "stream",
       "stream": "stdout",
       "text": [
        "\n",
        "   763  |  \u001b[94m  0.011934\u001b[0m  |    0.030560  |     0.390497  |             |  0.2s"
       ]
      },
      {
       "output_type": "stream",
       "stream": "stdout",
       "text": [
        "\n",
        "   764  |  \u001b[94m  0.011923\u001b[0m  |    0.030563  |     0.390095  |             |  0.2s"
       ]
      },
      {
       "output_type": "stream",
       "stream": "stdout",
       "text": [
        "\n",
        "   765  |  \u001b[94m  0.011912\u001b[0m  |    0.030566  |     0.389701  |             |  0.2s"
       ]
      },
      {
       "output_type": "stream",
       "stream": "stdout",
       "text": [
        "\n",
        "   766  |  \u001b[94m  0.011901\u001b[0m  |    0.030569  |     0.389301  |             |  0.2s"
       ]
      },
      {
       "output_type": "stream",
       "stream": "stdout",
       "text": [
        "\n",
        "   767  |  \u001b[94m  0.011890\u001b[0m  |    0.030572  |     0.388907  |             |  0.2s"
       ]
      },
      {
       "output_type": "stream",
       "stream": "stdout",
       "text": [
        "\n",
        "   768  |  \u001b[94m  0.011879\u001b[0m  |    0.030575  |     0.388509  |             |  0.2s"
       ]
      },
      {
       "output_type": "stream",
       "stream": "stdout",
       "text": [
        "\n",
        "   769  |  \u001b[94m  0.011868\u001b[0m  |    0.030578  |     0.388116  |             |  0.2s"
       ]
      },
      {
       "output_type": "stream",
       "stream": "stdout",
       "text": [
        "\n",
        "   770  |  \u001b[94m  0.011857\u001b[0m  |    0.030580  |     0.387726  |             |  0.2s"
       ]
      },
      {
       "output_type": "stream",
       "stream": "stdout",
       "text": [
        "\n",
        "   771  |  \u001b[94m  0.011846\u001b[0m  |    0.030583  |     0.387337  |             |  0.2s"
       ]
      },
      {
       "output_type": "stream",
       "stream": "stdout",
       "text": [
        "\n",
        "   772  |  \u001b[94m  0.011835\u001b[0m  |    0.030586  |     0.386947  |             |  0.2s"
       ]
      },
      {
       "output_type": "stream",
       "stream": "stdout",
       "text": [
        "\n",
        "   773  |  \u001b[94m  0.011824\u001b[0m  |    0.030589  |     0.386551  |             |  0.2s"
       ]
      },
      {
       "output_type": "stream",
       "stream": "stdout",
       "text": [
        "\n",
        "   774  |  \u001b[94m  0.011813\u001b[0m  |    0.030591  |     0.386162  |             |  0.2s"
       ]
      },
      {
       "output_type": "stream",
       "stream": "stdout",
       "text": [
        "\n",
        "   775  |  \u001b[94m  0.011802\u001b[0m  |    0.030594  |     0.385773  |             |  0.2s"
       ]
      },
      {
       "output_type": "stream",
       "stream": "stdout",
       "text": [
        "\n",
        "   776  |  \u001b[94m  0.011792\u001b[0m  |    0.030598  |     0.385370  |             |  0.2s"
       ]
      },
      {
       "output_type": "stream",
       "stream": "stdout",
       "text": [
        "\n",
        "   777  |  \u001b[94m  0.011781\u001b[0m  |    0.030600  |     0.384989  |             |  0.2s"
       ]
      },
      {
       "output_type": "stream",
       "stream": "stdout",
       "text": [
        "\n",
        "   778  |  \u001b[94m  0.011770\u001b[0m  |    0.030604  |     0.384595  |             |  0.2s"
       ]
      },
      {
       "output_type": "stream",
       "stream": "stdout",
       "text": [
        "\n",
        "   779  |  \u001b[94m  0.011759\u001b[0m  |    0.030607  |     0.384205  |             |  0.2s"
       ]
      },
      {
       "output_type": "stream",
       "stream": "stdout",
       "text": [
        "\n",
        "   780  |  \u001b[94m  0.011748\u001b[0m  |    0.030609  |     0.383825  |             |  0.2s"
       ]
      },
      {
       "output_type": "stream",
       "stream": "stdout",
       "text": [
        "\n",
        "   781  |  \u001b[94m  0.011738\u001b[0m  |    0.030611  |     0.383440  |             |  0.2s"
       ]
      },
      {
       "output_type": "stream",
       "stream": "stdout",
       "text": [
        "\n",
        "   782  |  \u001b[94m  0.011727\u001b[0m  |    0.030614  |     0.383056  |             |  0.2s"
       ]
      },
      {
       "output_type": "stream",
       "stream": "stdout",
       "text": [
        "\n",
        "   783  |  \u001b[94m  0.011716\u001b[0m  |    0.030617  |     0.382666  |             |  0.2s"
       ]
      },
      {
       "output_type": "stream",
       "stream": "stdout",
       "text": [
        "\n",
        "   784  |  \u001b[94m  0.011705\u001b[0m  |    0.030620  |     0.382285  |             |  0.2s"
       ]
      },
      {
       "output_type": "stream",
       "stream": "stdout",
       "text": [
        "\n",
        "   785  |  \u001b[94m  0.011695\u001b[0m  |    0.030622  |     0.381902  |             |  0.2s"
       ]
      },
      {
       "output_type": "stream",
       "stream": "stdout",
       "text": [
        "\n",
        "   786  |  \u001b[94m  0.011684\u001b[0m  |    0.030626  |     0.381514  |             |  0.2s"
       ]
      },
      {
       "output_type": "stream",
       "stream": "stdout",
       "text": [
        "\n",
        "   787  |  \u001b[94m  0.011673\u001b[0m  |    0.030628  |     0.381131  |             |  0.2s"
       ]
      },
      {
       "output_type": "stream",
       "stream": "stdout",
       "text": [
        "\n",
        "   788  |  \u001b[94m  0.011663\u001b[0m  |    0.030632  |     0.380742  |             |  0.2s"
       ]
      },
      {
       "output_type": "stream",
       "stream": "stdout",
       "text": [
        "\n",
        "   789  |  \u001b[94m  0.011652\u001b[0m  |    0.030635  |     0.380354  |             |  0.2s"
       ]
      },
      {
       "output_type": "stream",
       "stream": "stdout",
       "text": [
        "\n",
        "   790  |  \u001b[94m  0.011641\u001b[0m  |    0.030637  |     0.379977  |             |  0.2s"
       ]
      },
      {
       "output_type": "stream",
       "stream": "stdout",
       "text": [
        "\n",
        "   791  |  \u001b[94m  0.011631\u001b[0m  |    0.030640  |     0.379595  |             |  0.2s"
       ]
      },
      {
       "output_type": "stream",
       "stream": "stdout",
       "text": [
        "\n",
        "   792  |  \u001b[94m  0.011620\u001b[0m  |    0.030643  |     0.379219  |             |  0.2s"
       ]
      },
      {
       "output_type": "stream",
       "stream": "stdout",
       "text": [
        "\n",
        "   793  |  \u001b[94m  0.011610\u001b[0m  |    0.030645  |     0.378841  |             |  0.2s"
       ]
      },
      {
       "output_type": "stream",
       "stream": "stdout",
       "text": [
        "\n",
        "   794  |  \u001b[94m  0.011599\u001b[0m  |    0.030648  |     0.378457  |             |  0.2s"
       ]
      },
      {
       "output_type": "stream",
       "stream": "stdout",
       "text": [
        "\n",
        "   795  |  \u001b[94m  0.011589\u001b[0m  |    0.030652  |     0.378073  |             |  0.2s"
       ]
      },
      {
       "output_type": "stream",
       "stream": "stdout",
       "text": [
        "\n",
        "   796  |  \u001b[94m  0.011578\u001b[0m  |    0.030654  |     0.377695  |             |  0.2s"
       ]
      },
      {
       "output_type": "stream",
       "stream": "stdout",
       "text": [
        "\n",
        "   797  |  \u001b[94m  0.011567\u001b[0m  |    0.030657  |     0.377314  |             |  0.2s"
       ]
      },
      {
       "output_type": "stream",
       "stream": "stdout",
       "text": [
        "\n",
        "   798  |  \u001b[94m  0.011557\u001b[0m  |    0.030660  |     0.376940  |             |  0.2s"
       ]
      },
      {
       "output_type": "stream",
       "stream": "stdout",
       "text": [
        "\n",
        "   799  |  \u001b[94m  0.011546\u001b[0m  |    0.030663  |     0.376561  |             |  0.2s"
       ]
      },
      {
       "output_type": "stream",
       "stream": "stdout",
       "text": [
        "\n",
        "   800  |  \u001b[94m  0.011536\u001b[0m  |    0.030666  |     0.376184  |             |  0.2s"
       ]
      },
      {
       "output_type": "stream",
       "stream": "stdout",
       "text": [
        "\n",
        "   801  |  \u001b[94m  0.011526\u001b[0m  |    0.030669  |     0.375811  |             |  0.2s"
       ]
      },
      {
       "output_type": "stream",
       "stream": "stdout",
       "text": [
        "\n",
        "   802  |  \u001b[94m  0.011515\u001b[0m  |    0.030672  |     0.375430  |             |  0.2s"
       ]
      },
      {
       "output_type": "stream",
       "stream": "stdout",
       "text": [
        "\n",
        "   803  |  \u001b[94m  0.011505\u001b[0m  |    0.030675  |     0.375054  |             |  0.2s"
       ]
      },
      {
       "output_type": "stream",
       "stream": "stdout",
       "text": [
        "\n",
        "   804  |  \u001b[94m  0.011494\u001b[0m  |    0.030677  |     0.374683  |             |  0.2s"
       ]
      },
      {
       "output_type": "stream",
       "stream": "stdout",
       "text": [
        "\n",
        "   805  |  \u001b[94m  0.011484\u001b[0m  |    0.030681  |     0.374303  |             |  0.2s"
       ]
      },
      {
       "output_type": "stream",
       "stream": "stdout",
       "text": [
        "\n",
        "   806  |  \u001b[94m  0.011474\u001b[0m  |    0.030684  |     0.373927  |             |  0.2s"
       ]
      },
      {
       "output_type": "stream",
       "stream": "stdout",
       "text": [
        "\n",
        "   807  |  \u001b[94m  0.011463\u001b[0m  |    0.030686  |     0.373561  |             |  0.2s"
       ]
      },
      {
       "output_type": "stream",
       "stream": "stdout",
       "text": [
        "\n",
        "   808  |  \u001b[94m  0.011453\u001b[0m  |    0.030689  |     0.373192  |             |  0.2s"
       ]
      },
      {
       "output_type": "stream",
       "stream": "stdout",
       "text": [
        "\n",
        "   809  |  \u001b[94m  0.011443\u001b[0m  |    0.030692  |     0.372816  |             |  0.2s"
       ]
      },
      {
       "output_type": "stream",
       "stream": "stdout",
       "text": [
        "\n",
        "   810  |  \u001b[94m  0.011432\u001b[0m  |    0.030695  |     0.372443  |             |  0.2s"
       ]
      },
      {
       "output_type": "stream",
       "stream": "stdout",
       "text": [
        "\n",
        "   811  |  \u001b[94m  0.011422\u001b[0m  |    0.030698  |     0.372072  |             |  0.2s"
       ]
      },
      {
       "output_type": "stream",
       "stream": "stdout",
       "text": [
        "\n",
        "   812  |  \u001b[94m  0.011412\u001b[0m  |    0.030701  |     0.371707  |             |  0.2s"
       ]
      },
      {
       "output_type": "stream",
       "stream": "stdout",
       "text": [
        "\n",
        "   813  |  \u001b[94m  0.011401\u001b[0m  |    0.030704  |     0.371330  |             |  0.2s"
       ]
      },
      {
       "output_type": "stream",
       "stream": "stdout",
       "text": [
        "\n",
        "   814  |  \u001b[94m  0.011391\u001b[0m  |    0.030707  |     0.370964  |             |  0.2s"
       ]
      },
      {
       "output_type": "stream",
       "stream": "stdout",
       "text": [
        "\n",
        "   815  |  \u001b[94m  0.011381\u001b[0m  |    0.030710  |     0.370598  |             |  0.2s"
       ]
      },
      {
       "output_type": "stream",
       "stream": "stdout",
       "text": [
        "\n",
        "   816  |  \u001b[94m  0.011371\u001b[0m  |    0.030712  |     0.370233  |             |  0.2s"
       ]
      },
      {
       "output_type": "stream",
       "stream": "stdout",
       "text": [
        "\n",
        "   817  |  \u001b[94m  0.011361\u001b[0m  |    0.030716  |     0.369861  |             |  0.2s"
       ]
      },
      {
       "output_type": "stream",
       "stream": "stdout",
       "text": [
        "\n",
        "   818  |  \u001b[94m  0.011350\u001b[0m  |    0.030718  |     0.369496  |             |  0.2s"
       ]
      },
      {
       "output_type": "stream",
       "stream": "stdout",
       "text": [
        "\n",
        "   819  |  \u001b[94m  0.011340\u001b[0m  |    0.030721  |     0.369130  |             |  0.2s"
       ]
      },
      {
       "output_type": "stream",
       "stream": "stdout",
       "text": [
        "\n",
        "   820  |  \u001b[94m  0.011330\u001b[0m  |    0.030725  |     0.368761  |             |  0.2s"
       ]
      },
      {
       "output_type": "stream",
       "stream": "stdout",
       "text": [
        "\n",
        "   821  |  \u001b[94m  0.011320\u001b[0m  |    0.030727  |     0.368404  |             |  0.2s"
       ]
      },
      {
       "output_type": "stream",
       "stream": "stdout",
       "text": [
        "\n",
        "   822  |  \u001b[94m  0.011310\u001b[0m  |    0.030730  |     0.368034  |             |  0.2s"
       ]
      },
      {
       "output_type": "stream",
       "stream": "stdout",
       "text": [
        "\n",
        "   823  |  \u001b[94m  0.011300\u001b[0m  |    0.030733  |     0.367674  |             |  0.2s"
       ]
      },
      {
       "output_type": "stream",
       "stream": "stdout",
       "text": [
        "\n",
        "   824  |  \u001b[94m  0.011290\u001b[0m  |    0.030735  |     0.367317  |             |  0.2s"
       ]
      },
      {
       "output_type": "stream",
       "stream": "stdout",
       "text": [
        "\n",
        "   825  |  \u001b[94m  0.011280\u001b[0m  |    0.030738  |     0.366954  |             |  0.2s"
       ]
      },
      {
       "output_type": "stream",
       "stream": "stdout",
       "text": [
        "\n",
        "   826  |  \u001b[94m  0.011270\u001b[0m  |    0.030742  |     0.366588  |             |  0.2s"
       ]
      },
      {
       "output_type": "stream",
       "stream": "stdout",
       "text": [
        "\n",
        "   827  |  \u001b[94m  0.011260\u001b[0m  |    0.030745  |     0.366228  |             |  0.2s"
       ]
      },
      {
       "output_type": "stream",
       "stream": "stdout",
       "text": [
        "\n",
        "   828  |  \u001b[94m  0.011249\u001b[0m  |    0.030747  |     0.365866  |             |  0.2s"
       ]
      },
      {
       "output_type": "stream",
       "stream": "stdout",
       "text": [
        "\n",
        "   829  |  \u001b[94m  0.011239\u001b[0m  |    0.030750  |     0.365507  |             |  0.2s"
       ]
      },
      {
       "output_type": "stream",
       "stream": "stdout",
       "text": [
        "\n",
        "   830  |  \u001b[94m  0.011229\u001b[0m  |    0.030753  |     0.365150  |             |  0.2s"
       ]
      },
      {
       "output_type": "stream",
       "stream": "stdout",
       "text": [
        "\n",
        "   831  |  \u001b[94m  0.011220\u001b[0m  |    0.030756  |     0.364793  |             |  0.2s"
       ]
      },
      {
       "output_type": "stream",
       "stream": "stdout",
       "text": [
        "\n",
        "   832  |  \u001b[94m  0.011210\u001b[0m  |    0.030759  |     0.364433  |             |  0.2s"
       ]
      },
      {
       "output_type": "stream",
       "stream": "stdout",
       "text": [
        "\n",
        "   833  |  \u001b[94m  0.011200\u001b[0m  |    0.030762  |     0.364074  |             |  0.2s"
       ]
      },
      {
       "output_type": "stream",
       "stream": "stdout",
       "text": [
        "\n",
        "   834  |  \u001b[94m  0.011190\u001b[0m  |    0.030765  |     0.363711  |             |  0.2s"
       ]
      },
      {
       "output_type": "stream",
       "stream": "stdout",
       "text": [
        "\n",
        "   835  |  \u001b[94m  0.011180\u001b[0m  |    0.030768  |     0.363360  |             |  0.2s"
       ]
      },
      {
       "output_type": "stream",
       "stream": "stdout",
       "text": [
        "\n",
        "   836  |  \u001b[94m  0.011170\u001b[0m  |    0.030771  |     0.362996  |             |  0.2s"
       ]
      },
      {
       "output_type": "stream",
       "stream": "stdout",
       "text": [
        "\n",
        "   837  |  \u001b[94m  0.011160\u001b[0m  |    0.030774  |     0.362650  |             |  0.2s"
       ]
      },
      {
       "output_type": "stream",
       "stream": "stdout",
       "text": [
        "\n",
        "   838  |  \u001b[94m  0.011150\u001b[0m  |    0.030776  |     0.362302  |             |  0.2s"
       ]
      },
      {
       "output_type": "stream",
       "stream": "stdout",
       "text": [
        "\n",
        "   839  |  \u001b[94m  0.011140\u001b[0m  |    0.030779  |     0.361944  |             |  0.2s"
       ]
      },
      {
       "output_type": "stream",
       "stream": "stdout",
       "text": [
        "\n",
        "   840  |  \u001b[94m  0.011130\u001b[0m  |    0.030782  |     0.361585  |             |  0.2s"
       ]
      },
      {
       "output_type": "stream",
       "stream": "stdout",
       "text": [
        "\n",
        "   841  |  \u001b[94m  0.011121\u001b[0m  |    0.030785  |     0.361229  |             |  0.2s"
       ]
      },
      {
       "output_type": "stream",
       "stream": "stdout",
       "text": [
        "\n",
        "   842  |  \u001b[94m  0.011111\u001b[0m  |    0.030789  |     0.360874  |             |  0.2s"
       ]
      },
      {
       "output_type": "stream",
       "stream": "stdout",
       "text": [
        "\n",
        "   843  |  \u001b[94m  0.011101\u001b[0m  |    0.030791  |     0.360527  |             |  0.2s"
       ]
      },
      {
       "output_type": "stream",
       "stream": "stdout",
       "text": [
        "\n",
        "   844  |  \u001b[94m  0.011091\u001b[0m  |    0.030794  |     0.360174  |             |  0.2s"
       ]
      },
      {
       "output_type": "stream",
       "stream": "stdout",
       "text": [
        "\n",
        "   845  |  \u001b[94m  0.011081\u001b[0m  |    0.030797  |     0.359824  |             |  0.2s"
       ]
      },
      {
       "output_type": "stream",
       "stream": "stdout",
       "text": [
        "\n",
        "   846  |  \u001b[94m  0.011072\u001b[0m  |    0.030800  |     0.359470  |             |  0.2s"
       ]
      },
      {
       "output_type": "stream",
       "stream": "stdout",
       "text": [
        "\n",
        "   847  |  \u001b[94m  0.011062\u001b[0m  |    0.030803  |     0.359124  |             |  0.2s"
       ]
      },
      {
       "output_type": "stream",
       "stream": "stdout",
       "text": [
        "\n",
        "   848  |  \u001b[94m  0.011052\u001b[0m  |    0.030806  |     0.358772  |             |  0.2s"
       ]
      },
      {
       "output_type": "stream",
       "stream": "stdout",
       "text": [
        "\n",
        "   849  |  \u001b[94m  0.011042\u001b[0m  |    0.030809  |     0.358420  |             |  0.2s"
       ]
      },
      {
       "output_type": "stream",
       "stream": "stdout",
       "text": [
        "\n",
        "   850  |  \u001b[94m  0.011033\u001b[0m  |    0.030812  |     0.358070  |             |  0.2s"
       ]
      },
      {
       "output_type": "stream",
       "stream": "stdout",
       "text": [
        "\n",
        "   851  |  \u001b[94m  0.011023\u001b[0m  |    0.030814  |     0.357728  |             |  0.2s"
       ]
      },
      {
       "output_type": "stream",
       "stream": "stdout",
       "text": [
        "\n",
        "   852  |  \u001b[94m  0.011013\u001b[0m  |    0.030817  |     0.357377  |             |  0.2s"
       ]
      },
      {
       "output_type": "stream",
       "stream": "stdout",
       "text": [
        "\n",
        "   853  |  \u001b[94m  0.011004\u001b[0m  |    0.030820  |     0.357030  |             |  0.2s"
       ]
      },
      {
       "output_type": "stream",
       "stream": "stdout",
       "text": [
        "\n",
        "   854  |  \u001b[94m  0.010994\u001b[0m  |    0.030823  |     0.356690  |             |  0.2s"
       ]
      },
      {
       "output_type": "stream",
       "stream": "stdout",
       "text": [
        "\n",
        "   855  |  \u001b[94m  0.010984\u001b[0m  |    0.030826  |     0.356340  |             |  0.2s"
       ]
      },
      {
       "output_type": "stream",
       "stream": "stdout",
       "text": [
        "\n",
        "   856  |  \u001b[94m  0.010975\u001b[0m  |    0.030829  |     0.355997  |             |  0.2s"
       ]
      },
      {
       "output_type": "stream",
       "stream": "stdout",
       "text": [
        "\n",
        "   857  |  \u001b[94m  0.010965\u001b[0m  |    0.030832  |     0.355649  |             |  0.2s"
       ]
      },
      {
       "output_type": "stream",
       "stream": "stdout",
       "text": [
        "\n",
        "   858  |  \u001b[94m  0.010956\u001b[0m  |    0.030834  |     0.355304  |             |  0.2s"
       ]
      },
      {
       "output_type": "stream",
       "stream": "stdout",
       "text": [
        "\n",
        "   859  |  \u001b[94m  0.010946\u001b[0m  |    0.030837  |     0.354962  |             |  0.2s"
       ]
      },
      {
       "output_type": "stream",
       "stream": "stdout",
       "text": [
        "\n",
        "   860  |  \u001b[94m  0.010936\u001b[0m  |    0.030840  |     0.354622  |             |  0.2s"
       ]
      },
      {
       "output_type": "stream",
       "stream": "stdout",
       "text": [
        "\n",
        "   861  |  \u001b[94m  0.010927\u001b[0m  |    0.030843  |     0.354277  |             |  0.2s"
       ]
      },
      {
       "output_type": "stream",
       "stream": "stdout",
       "text": [
        "\n",
        "   862  |  \u001b[94m  0.010917\u001b[0m  |    0.030845  |     0.353935  |             |  0.2s"
       ]
      },
      {
       "output_type": "stream",
       "stream": "stdout",
       "text": [
        "\n",
        "   863  |  \u001b[94m  0.010908\u001b[0m  |    0.030848  |     0.353591  |             |  0.2s"
       ]
      },
      {
       "output_type": "stream",
       "stream": "stdout",
       "text": [
        "\n",
        "   864  |  \u001b[94m  0.010898\u001b[0m  |    0.030852  |     0.353248  |             |  0.2s"
       ]
      },
      {
       "output_type": "stream",
       "stream": "stdout",
       "text": [
        "\n",
        "   865  |  \u001b[94m  0.010889\u001b[0m  |    0.030854  |     0.352910  |             |  0.2s"
       ]
      },
      {
       "output_type": "stream",
       "stream": "stdout",
       "text": [
        "\n",
        "   866  |  \u001b[94m  0.010879\u001b[0m  |    0.030858  |     0.352564  |             |  0.2s"
       ]
      },
      {
       "output_type": "stream",
       "stream": "stdout",
       "text": [
        "\n",
        "   867  |  \u001b[94m  0.010870\u001b[0m  |    0.030861  |     0.352225  |             |  0.2s"
       ]
      },
      {
       "output_type": "stream",
       "stream": "stdout",
       "text": [
        "\n",
        "   868  |  \u001b[94m  0.010860\u001b[0m  |    0.030863  |     0.351890  |             |  0.2s"
       ]
      },
      {
       "output_type": "stream",
       "stream": "stdout",
       "text": [
        "\n",
        "   869  |  \u001b[94m  0.010851\u001b[0m  |    0.030866  |     0.351552  |             |  0.2s"
       ]
      },
      {
       "output_type": "stream",
       "stream": "stdout",
       "text": [
        "\n",
        "   870  |  \u001b[94m  0.010842\u001b[0m  |    0.030870  |     0.351203  |             |  0.2s"
       ]
      },
      {
       "output_type": "stream",
       "stream": "stdout",
       "text": [
        "\n",
        "   871  |  \u001b[94m  0.010832\u001b[0m  |    0.030872  |     0.350871  |             |  0.2s"
       ]
      },
      {
       "output_type": "stream",
       "stream": "stdout",
       "text": [
        "\n",
        "   872  |  \u001b[94m  0.010823\u001b[0m  |    0.030875  |     0.350531  |             |  0.2s"
       ]
      },
      {
       "output_type": "stream",
       "stream": "stdout",
       "text": [
        "\n",
        "   873  |  \u001b[94m  0.010813\u001b[0m  |    0.030878  |     0.350196  |             |  0.2s"
       ]
      },
      {
       "output_type": "stream",
       "stream": "stdout",
       "text": [
        "\n",
        "   874  |  \u001b[94m  0.010804\u001b[0m  |    0.030881  |     0.349863  |             |  0.2s"
       ]
      },
      {
       "output_type": "stream",
       "stream": "stdout",
       "text": [
        "\n",
        "   875  |  \u001b[94m  0.010795\u001b[0m  |    0.030884  |     0.349522  |             |  0.2s"
       ]
      },
      {
       "output_type": "stream",
       "stream": "stdout",
       "text": [
        "\n",
        "   876  |  \u001b[94m  0.010785\u001b[0m  |    0.030887  |     0.349187  |             |  0.2s"
       ]
      },
      {
       "output_type": "stream",
       "stream": "stdout",
       "text": [
        "\n",
        "   877  |  \u001b[94m  0.010776\u001b[0m  |    0.030889  |     0.348863  |             |  0.2s"
       ]
      },
      {
       "output_type": "stream",
       "stream": "stdout",
       "text": [
        "\n",
        "   878  |  \u001b[94m  0.010767\u001b[0m  |    0.030892  |     0.348528  |             |  0.2s"
       ]
      },
      {
       "output_type": "stream",
       "stream": "stdout",
       "text": [
        "\n",
        "   879  |  \u001b[94m  0.010757\u001b[0m  |    0.030895  |     0.348193  |             |  0.2s"
       ]
      },
      {
       "output_type": "stream",
       "stream": "stdout",
       "text": [
        "\n",
        "   880  |  \u001b[94m  0.010748\u001b[0m  |    0.030898  |     0.347855  |             |  0.2s"
       ]
      },
      {
       "output_type": "stream",
       "stream": "stdout",
       "text": [
        "\n",
        "   881  |  \u001b[94m  0.010739\u001b[0m  |    0.030901  |     0.347528  |             |  0.2s"
       ]
      },
      {
       "output_type": "stream",
       "stream": "stdout",
       "text": [
        "\n",
        "   882  |  \u001b[94m  0.010730\u001b[0m  |    0.030904  |     0.347193  |             |  0.2s"
       ]
      },
      {
       "output_type": "stream",
       "stream": "stdout",
       "text": [
        "\n",
        "   883  |  \u001b[94m  0.010720\u001b[0m  |    0.030907  |     0.346865  |             |  0.2s"
       ]
      },
      {
       "output_type": "stream",
       "stream": "stdout",
       "text": [
        "\n",
        "   884  |  \u001b[94m  0.010711\u001b[0m  |    0.030910  |     0.346528  |             |  0.2s"
       ]
      },
      {
       "output_type": "stream",
       "stream": "stdout",
       "text": [
        "\n",
        "   885  |  \u001b[94m  0.010702\u001b[0m  |    0.030913  |     0.346195  |             |  0.2s"
       ]
      },
      {
       "output_type": "stream",
       "stream": "stdout",
       "text": [
        "\n",
        "   886  |  \u001b[94m  0.010693\u001b[0m  |    0.030916  |     0.345870  |             |  0.2s"
       ]
      },
      {
       "output_type": "stream",
       "stream": "stdout",
       "text": [
        "\n",
        "   887  |  \u001b[94m  0.010684\u001b[0m  |    0.030919  |     0.345541  |             |  0.2s"
       ]
      },
      {
       "output_type": "stream",
       "stream": "stdout",
       "text": [
        "\n",
        "   888  |  \u001b[94m  0.010674\u001b[0m  |    0.030922  |     0.345208  |             |  0.2s"
       ]
      },
      {
       "output_type": "stream",
       "stream": "stdout",
       "text": [
        "\n",
        "   889  |  \u001b[94m  0.010665\u001b[0m  |    0.030925  |     0.344877  |             |  0.2s"
       ]
      },
      {
       "output_type": "stream",
       "stream": "stdout",
       "text": [
        "\n",
        "   890  |  \u001b[94m  0.010656\u001b[0m  |    0.030928  |     0.344547  |             |  0.2s"
       ]
      },
      {
       "output_type": "stream",
       "stream": "stdout",
       "text": [
        "\n",
        "   891  |  \u001b[94m  0.010647\u001b[0m  |    0.030931  |     0.344222  |             |  0.2s"
       ]
      },
      {
       "output_type": "stream",
       "stream": "stdout",
       "text": [
        "\n",
        "   892  |  \u001b[94m  0.010638\u001b[0m  |    0.030934  |     0.343891  |             |  0.2s"
       ]
      },
      {
       "output_type": "stream",
       "stream": "stdout",
       "text": [
        "\n",
        "   893  |  \u001b[94m  0.010629\u001b[0m  |    0.030937  |     0.343561  |             |  0.2s"
       ]
      },
      {
       "output_type": "stream",
       "stream": "stdout",
       "text": [
        "\n",
        "   894  |  \u001b[94m  0.010620\u001b[0m  |    0.030939  |     0.343246  |             |  0.2s"
       ]
      },
      {
       "output_type": "stream",
       "stream": "stdout",
       "text": [
        "\n",
        "   895  |  \u001b[94m  0.010611\u001b[0m  |    0.030943  |     0.342916  |             |  0.2s"
       ]
      },
      {
       "output_type": "stream",
       "stream": "stdout",
       "text": [
        "\n",
        "   896  |  \u001b[94m  0.010602\u001b[0m  |    0.030946  |     0.342588  |             |  0.2s"
       ]
      },
      {
       "output_type": "stream",
       "stream": "stdout",
       "text": [
        "\n",
        "   897  |  \u001b[94m  0.010593\u001b[0m  |    0.030948  |     0.342266  |             |  0.2s"
       ]
      },
      {
       "output_type": "stream",
       "stream": "stdout",
       "text": [
        "\n",
        "   898  |  \u001b[94m  0.010584\u001b[0m  |    0.030952  |     0.341937  |             |  0.2s"
       ]
      },
      {
       "output_type": "stream",
       "stream": "stdout",
       "text": [
        "\n",
        "   899  |  \u001b[94m  0.010575\u001b[0m  |    0.030955  |     0.341609  |             |  0.2s"
       ]
      },
      {
       "output_type": "stream",
       "stream": "stdout",
       "text": [
        "\n",
        "   900  |  \u001b[94m  0.010566\u001b[0m  |    0.030958  |     0.341291  |             |  0.2s"
       ]
      },
      {
       "output_type": "stream",
       "stream": "stdout",
       "text": [
        "\n",
        "   901  |  \u001b[94m  0.010557\u001b[0m  |    0.030961  |     0.340969  |             |  0.2s"
       ]
      },
      {
       "output_type": "stream",
       "stream": "stdout",
       "text": [
        "\n",
        "   902  |  \u001b[94m  0.010548\u001b[0m  |    0.030964  |     0.340647  |             |  0.2s"
       ]
      },
      {
       "output_type": "stream",
       "stream": "stdout",
       "text": [
        "\n",
        "   903  |  \u001b[94m  0.010539\u001b[0m  |    0.030966  |     0.340331  |             |  0.2s"
       ]
      },
      {
       "output_type": "stream",
       "stream": "stdout",
       "text": [
        "\n",
        "   904  |  \u001b[94m  0.010530\u001b[0m  |    0.030970  |     0.340002  |             |  0.2s"
       ]
      },
      {
       "output_type": "stream",
       "stream": "stdout",
       "text": [
        "\n",
        "   905  |  \u001b[94m  0.010521\u001b[0m  |    0.030973  |     0.339678  |             |  0.2s"
       ]
      },
      {
       "output_type": "stream",
       "stream": "stdout",
       "text": [
        "\n",
        "   906  |  \u001b[94m  0.010512\u001b[0m  |    0.030976  |     0.339354  |             |  0.2s"
       ]
      },
      {
       "output_type": "stream",
       "stream": "stdout",
       "text": [
        "\n",
        "   907  |  \u001b[94m  0.010503\u001b[0m  |    0.030979  |     0.339033  |             |  0.2s"
       ]
      },
      {
       "output_type": "stream",
       "stream": "stdout",
       "text": [
        "\n",
        "   908  |  \u001b[94m  0.010494\u001b[0m  |    0.030982  |     0.338713  |             |  0.2s"
       ]
      },
      {
       "output_type": "stream",
       "stream": "stdout",
       "text": [
        "\n",
        "   909  |  \u001b[94m  0.010485\u001b[0m  |    0.030985  |     0.338395  |             |  0.2s"
       ]
      },
      {
       "output_type": "stream",
       "stream": "stdout",
       "text": [
        "\n",
        "   910  |  \u001b[94m  0.010476\u001b[0m  |    0.030988  |     0.338080  |             |  0.2s"
       ]
      },
      {
       "output_type": "stream",
       "stream": "stdout",
       "text": [
        "\n",
        "   911  |  \u001b[94m  0.010467\u001b[0m  |    0.030991  |     0.337760  |             |  0.2s"
       ]
      },
      {
       "output_type": "stream",
       "stream": "stdout",
       "text": [
        "\n",
        "   912  |  \u001b[94m  0.010459\u001b[0m  |    0.030993  |     0.337447  |             |  0.2s"
       ]
      },
      {
       "output_type": "stream",
       "stream": "stdout",
       "text": [
        "\n",
        "   913  |  \u001b[94m  0.010450\u001b[0m  |    0.030996  |     0.337128  |             |  0.2s"
       ]
      },
      {
       "output_type": "stream",
       "stream": "stdout",
       "text": [
        "\n",
        "   914  |  \u001b[94m  0.010441\u001b[0m  |    0.031000  |     0.336810  |             |  0.2s"
       ]
      },
      {
       "output_type": "stream",
       "stream": "stdout",
       "text": [
        "\n",
        "   915  |  \u001b[94m  0.010432\u001b[0m  |    0.031004  |     0.336484  |             |  0.2s"
       ]
      },
      {
       "output_type": "stream",
       "stream": "stdout",
       "text": [
        "\n",
        "   916  |  \u001b[94m  0.010423\u001b[0m  |    0.031007  |     0.336167  |             |  0.2s"
       ]
      },
      {
       "output_type": "stream",
       "stream": "stdout",
       "text": [
        "\n",
        "   917  |  \u001b[94m  0.010415\u001b[0m  |    0.031009  |     0.335855  |             |  0.2s"
       ]
      },
      {
       "output_type": "stream",
       "stream": "stdout",
       "text": [
        "\n",
        "   918  |  \u001b[94m  0.010406\u001b[0m  |    0.031012  |     0.335542  |             |  0.2s"
       ]
      },
      {
       "output_type": "stream",
       "stream": "stdout",
       "text": [
        "\n",
        "   919  |  \u001b[94m  0.010397\u001b[0m  |    0.031015  |     0.335231  |             |  0.2s"
       ]
      },
      {
       "output_type": "stream",
       "stream": "stdout",
       "text": [
        "\n",
        "   920  |  \u001b[94m  0.010388\u001b[0m  |    0.031018  |     0.334917  |             |  0.2s"
       ]
      },
      {
       "output_type": "stream",
       "stream": "stdout",
       "text": [
        "\n",
        "   921  |  \u001b[94m  0.010380\u001b[0m  |    0.031021  |     0.334602  |             |  0.2s"
       ]
      },
      {
       "output_type": "stream",
       "stream": "stdout",
       "text": [
        "\n",
        "   922  |  \u001b[94m  0.010371\u001b[0m  |    0.031024  |     0.334281  |             |  0.2s"
       ]
      },
      {
       "output_type": "stream",
       "stream": "stdout",
       "text": [
        "\n",
        "   923  |  \u001b[94m  0.010362\u001b[0m  |    0.031027  |     0.333971  |             |  0.2s"
       ]
      },
      {
       "output_type": "stream",
       "stream": "stdout",
       "text": [
        "\n",
        "   924  |  \u001b[94m  0.010354\u001b[0m  |    0.031031  |     0.333652  |             |  0.2s"
       ]
      },
      {
       "output_type": "stream",
       "stream": "stdout",
       "text": [
        "\n",
        "   925  |  \u001b[94m  0.010345\u001b[0m  |    0.031034  |     0.333343  |             |  0.2s"
       ]
      },
      {
       "output_type": "stream",
       "stream": "stdout",
       "text": [
        "\n",
        "   926  |  \u001b[94m  0.010336\u001b[0m  |    0.031036  |     0.333034  |             |  0.2s"
       ]
      },
      {
       "output_type": "stream",
       "stream": "stdout",
       "text": [
        "\n",
        "   927  |  \u001b[94m  0.010328\u001b[0m  |    0.031039  |     0.332727  |             |  0.2s"
       ]
      },
      {
       "output_type": "stream",
       "stream": "stdout",
       "text": [
        "\n",
        "   928  |  \u001b[94m  0.010319\u001b[0m  |    0.031043  |     0.332405  |             |  0.2s"
       ]
      },
      {
       "output_type": "stream",
       "stream": "stdout",
       "text": [
        "\n",
        "   929  |  \u001b[94m  0.010310\u001b[0m  |    0.031046  |     0.332096  |             |  0.2s"
       ]
      },
      {
       "output_type": "stream",
       "stream": "stdout",
       "text": [
        "\n",
        "   930  |  \u001b[94m  0.010302\u001b[0m  |    0.031049  |     0.331782  |             |  0.2s"
       ]
      },
      {
       "output_type": "stream",
       "stream": "stdout",
       "text": [
        "\n",
        "   931  |  \u001b[94m  0.010293\u001b[0m  |    0.031052  |     0.331476  |             |  0.2s"
       ]
      },
      {
       "output_type": "stream",
       "stream": "stdout",
       "text": [
        "\n",
        "   932  |  \u001b[94m  0.010284\u001b[0m  |    0.031055  |     0.331168  |             |  0.2s"
       ]
      },
      {
       "output_type": "stream",
       "stream": "stdout",
       "text": [
        "\n",
        "   933  |  \u001b[94m  0.010276\u001b[0m  |    0.031058  |     0.330860  |             |  0.2s"
       ]
      },
      {
       "output_type": "stream",
       "stream": "stdout",
       "text": [
        "\n",
        "   934  |  \u001b[94m  0.010267\u001b[0m  |    0.031060  |     0.330556  |             |  0.2s"
       ]
      },
      {
       "output_type": "stream",
       "stream": "stdout",
       "text": [
        "\n",
        "   935  |  \u001b[94m  0.010259\u001b[0m  |    0.031064  |     0.330246  |             |  0.2s"
       ]
      },
      {
       "output_type": "stream",
       "stream": "stdout",
       "text": [
        "\n",
        "   936  |  \u001b[94m  0.010250\u001b[0m  |    0.031067  |     0.329936  |             |  0.2s"
       ]
      },
      {
       "output_type": "stream",
       "stream": "stdout",
       "text": [
        "\n",
        "   937  |  \u001b[94m  0.010242\u001b[0m  |    0.031071  |     0.329623  |             |  0.2s"
       ]
      },
      {
       "output_type": "stream",
       "stream": "stdout",
       "text": [
        "\n",
        "   938  |  \u001b[94m  0.010233\u001b[0m  |    0.031074  |     0.329320  |             |  0.2s"
       ]
      },
      {
       "output_type": "stream",
       "stream": "stdout",
       "text": [
        "\n",
        "   939  |  \u001b[94m  0.010225\u001b[0m  |    0.031076  |     0.329016  |             |  0.2s"
       ]
      },
      {
       "output_type": "stream",
       "stream": "stdout",
       "text": [
        "\n",
        "   940  |  \u001b[94m  0.010216\u001b[0m  |    0.031079  |     0.328713  |             |  0.2s"
       ]
      },
      {
       "output_type": "stream",
       "stream": "stdout",
       "text": [
        "\n",
        "   941  |  \u001b[94m  0.010208\u001b[0m  |    0.031082  |     0.328404  |             |  0.2s"
       ]
      },
      {
       "output_type": "stream",
       "stream": "stdout",
       "text": [
        "\n",
        "   942  |  \u001b[94m  0.010199\u001b[0m  |    0.031085  |     0.328100  |             |  0.2s"
       ]
      },
      {
       "output_type": "stream",
       "stream": "stdout",
       "text": [
        "\n",
        "   943  |  \u001b[94m  0.010191\u001b[0m  |    0.031088  |     0.327803  |             |  0.2s"
       ]
      },
      {
       "output_type": "stream",
       "stream": "stdout",
       "text": [
        "\n",
        "   944  |  \u001b[94m  0.010182\u001b[0m  |    0.031091  |     0.327493  |             |  0.2s"
       ]
      },
      {
       "output_type": "stream",
       "stream": "stdout",
       "text": [
        "\n",
        "   945  |  \u001b[94m  0.010174\u001b[0m  |    0.031095  |     0.327184  |             |  0.2s"
       ]
      },
      {
       "output_type": "stream",
       "stream": "stdout",
       "text": [
        "\n",
        "   946  |  \u001b[94m  0.010165\u001b[0m  |    0.031097  |     0.326889  |             |  0.2s"
       ]
      },
      {
       "output_type": "stream",
       "stream": "stdout",
       "text": [
        "\n",
        "   947  |  \u001b[94m  0.010157\u001b[0m  |    0.031101  |     0.326580  |             |  0.2s"
       ]
      },
      {
       "output_type": "stream",
       "stream": "stdout",
       "text": [
        "\n",
        "   948  |  \u001b[94m  0.010149\u001b[0m  |    0.031104  |     0.326279  |             |  0.2s"
       ]
      },
      {
       "output_type": "stream",
       "stream": "stdout",
       "text": [
        "\n",
        "   949  |  \u001b[94m  0.010140\u001b[0m  |    0.031107  |     0.325978  |             |  0.2s"
       ]
      },
      {
       "output_type": "stream",
       "stream": "stdout",
       "text": [
        "\n",
        "   950  |  \u001b[94m  0.010132\u001b[0m  |    0.031110  |     0.325679  |             |  0.2s"
       ]
      },
      {
       "output_type": "stream",
       "stream": "stdout",
       "text": [
        "\n",
        "   951  |  \u001b[94m  0.010123\u001b[0m  |    0.031114  |     0.325373  |             |  0.2s"
       ]
      },
      {
       "output_type": "stream",
       "stream": "stdout",
       "text": [
        "\n",
        "   952  |  \u001b[94m  0.010115\u001b[0m  |    0.031116  |     0.325072  |             |  0.2s"
       ]
      },
      {
       "output_type": "stream",
       "stream": "stdout",
       "text": [
        "\n",
        "   953  |  \u001b[94m  0.010107\u001b[0m  |    0.031119  |     0.324774  |             |  0.2s"
       ]
      },
      {
       "output_type": "stream",
       "stream": "stdout",
       "text": [
        "\n",
        "   954  |  \u001b[94m  0.010098\u001b[0m  |    0.031123  |     0.324471  |             |  0.2s"
       ]
      },
      {
       "output_type": "stream",
       "stream": "stdout",
       "text": [
        "\n",
        "   955  |  \u001b[94m  0.010090\u001b[0m  |    0.031126  |     0.324172  |             |  0.2s"
       ]
      },
      {
       "output_type": "stream",
       "stream": "stdout",
       "text": [
        "\n",
        "   956  |  \u001b[94m  0.010082\u001b[0m  |    0.031128  |     0.323879  |             |  0.2s"
       ]
      },
      {
       "output_type": "stream",
       "stream": "stdout",
       "text": [
        "\n",
        "   957  |  \u001b[94m  0.010074\u001b[0m  |    0.031132  |     0.323572  |             |  0.2s"
       ]
      },
      {
       "output_type": "stream",
       "stream": "stdout",
       "text": [
        "\n",
        "   958  |  \u001b[94m  0.010065\u001b[0m  |    0.031135  |     0.323276  |             |  0.2s"
       ]
      },
      {
       "output_type": "stream",
       "stream": "stdout",
       "text": [
        "\n",
        "   959  |  \u001b[94m  0.010057\u001b[0m  |    0.031138  |     0.322979  |             |  0.2s"
       ]
      },
      {
       "output_type": "stream",
       "stream": "stdout",
       "text": [
        "\n",
        "   960  |  \u001b[94m  0.010049\u001b[0m  |    0.031142  |     0.322679  |             |  0.2s"
       ]
      },
      {
       "output_type": "stream",
       "stream": "stdout",
       "text": [
        "\n",
        "   961  |  \u001b[94m  0.010040\u001b[0m  |    0.031145  |     0.322377  |             |  0.2s"
       ]
      },
      {
       "output_type": "stream",
       "stream": "stdout",
       "text": [
        "\n",
        "   962  |  \u001b[94m  0.010032\u001b[0m  |    0.031148  |     0.322082  |             |  0.2s"
       ]
      },
      {
       "output_type": "stream",
       "stream": "stdout",
       "text": [
        "\n",
        "   963  |  \u001b[94m  0.010024\u001b[0m  |    0.031150  |     0.321792  |             |  0.2s"
       ]
      },
      {
       "output_type": "stream",
       "stream": "stdout",
       "text": [
        "\n",
        "   964  |  \u001b[94m  0.010016\u001b[0m  |    0.031154  |     0.321492  |             |  0.2s"
       ]
      },
      {
       "output_type": "stream",
       "stream": "stdout",
       "text": [
        "\n",
        "   965  |  \u001b[94m  0.010008\u001b[0m  |    0.031156  |     0.321203  |             |  0.2s"
       ]
      },
      {
       "output_type": "stream",
       "stream": "stdout",
       "text": [
        "\n",
        "   966  |  \u001b[94m  0.009999\u001b[0m  |    0.031160  |     0.320908  |             |  0.2s"
       ]
      },
      {
       "output_type": "stream",
       "stream": "stdout",
       "text": [
        "\n",
        "   967  |  \u001b[94m  0.009991\u001b[0m  |    0.031163  |     0.320609  |             |  0.2s"
       ]
      },
      {
       "output_type": "stream",
       "stream": "stdout",
       "text": [
        "\n",
        "   968  |  \u001b[94m  0.009983\u001b[0m  |    0.031167  |     0.320312  |             |  0.2s"
       ]
      },
      {
       "output_type": "stream",
       "stream": "stdout",
       "text": [
        "\n",
        "   969  |  \u001b[94m  0.009975\u001b[0m  |    0.031169  |     0.320025  |             |  0.2s"
       ]
      },
      {
       "output_type": "stream",
       "stream": "stdout",
       "text": [
        "\n",
        "   970  |  \u001b[94m  0.009967\u001b[0m  |    0.031173  |     0.319721  |             |  0.2s"
       ]
      },
      {
       "output_type": "stream",
       "stream": "stdout",
       "text": [
        "\n",
        "   971  |  \u001b[94m  0.009959\u001b[0m  |    0.031176  |     0.319433  |             |  0.2s"
       ]
      },
      {
       "output_type": "stream",
       "stream": "stdout",
       "text": [
        "\n",
        "   972  |  \u001b[94m  0.009950\u001b[0m  |    0.031179  |     0.319138  |             |  0.2s"
       ]
      },
      {
       "output_type": "stream",
       "stream": "stdout",
       "text": [
        "\n",
        "   973  |  \u001b[94m  0.009942\u001b[0m  |    0.031182  |     0.318847  |             |  0.2s"
       ]
      },
      {
       "output_type": "stream",
       "stream": "stdout",
       "text": [
        "\n",
        "   974  |  \u001b[94m  0.009934\u001b[0m  |    0.031185  |     0.318560  |             |  0.2s"
       ]
      },
      {
       "output_type": "stream",
       "stream": "stdout",
       "text": [
        "\n",
        "   975  |  \u001b[94m  0.009926\u001b[0m  |    0.031188  |     0.318267  |             |  0.2s"
       ]
      },
      {
       "output_type": "stream",
       "stream": "stdout",
       "text": [
        "\n",
        "   976  |  \u001b[94m  0.009918\u001b[0m  |    0.031191  |     0.317979  |             |  0.2s"
       ]
      },
      {
       "output_type": "stream",
       "stream": "stdout",
       "text": [
        "\n",
        "   977  |  \u001b[94m  0.009910\u001b[0m  |    0.031195  |     0.317681  |             |  0.2s"
       ]
      },
      {
       "output_type": "stream",
       "stream": "stdout",
       "text": [
        "\n",
        "   978  |  \u001b[94m  0.009902\u001b[0m  |    0.031198  |     0.317390  |             |  0.2s"
       ]
      },
      {
       "output_type": "stream",
       "stream": "stdout",
       "text": [
        "\n",
        "   979  |  \u001b[94m  0.009894\u001b[0m  |    0.031202  |     0.317096  |             |  0.2s"
       ]
      },
      {
       "output_type": "stream",
       "stream": "stdout",
       "text": [
        "\n",
        "   980  |  \u001b[94m  0.009886\u001b[0m  |    0.031205  |     0.316805  |             |  0.2s"
       ]
      },
      {
       "output_type": "stream",
       "stream": "stdout",
       "text": [
        "\n",
        "   981  |  \u001b[94m  0.009878\u001b[0m  |    0.031208  |     0.316516  |             |  0.2s"
       ]
      },
      {
       "output_type": "stream",
       "stream": "stdout",
       "text": [
        "\n",
        "   982  |  \u001b[94m  0.009870\u001b[0m  |    0.031211  |     0.316225  |             |  0.2s"
       ]
      },
      {
       "output_type": "stream",
       "stream": "stdout",
       "text": [
        "\n",
        "   983  |  \u001b[94m  0.009862\u001b[0m  |    0.031214  |     0.315939  |             |  0.2s"
       ]
      },
      {
       "output_type": "stream",
       "stream": "stdout",
       "text": [
        "\n",
        "   984  |  \u001b[94m  0.009854\u001b[0m  |    0.031217  |     0.315657  |             |  0.2s"
       ]
      },
      {
       "output_type": "stream",
       "stream": "stdout",
       "text": [
        "\n",
        "   985  |  \u001b[94m  0.009846\u001b[0m  |    0.031220  |     0.315366  |             |  0.2s"
       ]
      },
      {
       "output_type": "stream",
       "stream": "stdout",
       "text": [
        "\n",
        "   986  |  \u001b[94m  0.009838\u001b[0m  |    0.031224  |     0.315076  |             |  0.2s"
       ]
      },
      {
       "output_type": "stream",
       "stream": "stdout",
       "text": [
        "\n",
        "   987  |  \u001b[94m  0.009830\u001b[0m  |    0.031227  |     0.314784  |             |  0.2s"
       ]
      },
      {
       "output_type": "stream",
       "stream": "stdout",
       "text": [
        "\n",
        "   988  |  \u001b[94m  0.009822\u001b[0m  |    0.031231  |     0.314494  |             |  0.2s"
       ]
      },
      {
       "output_type": "stream",
       "stream": "stdout",
       "text": [
        "\n",
        "   989  |  \u001b[94m  0.009814\u001b[0m  |    0.031233  |     0.314211  |             |  0.2s"
       ]
      },
      {
       "output_type": "stream",
       "stream": "stdout",
       "text": [
        "\n",
        "   990  |  \u001b[94m  0.009806\u001b[0m  |    0.031237  |     0.313923  |             |  0.2s"
       ]
      },
      {
       "output_type": "stream",
       "stream": "stdout",
       "text": [
        "\n",
        "   991  |  \u001b[94m  0.009798\u001b[0m  |    0.031239  |     0.313644  |             |  0.2s"
       ]
      },
      {
       "output_type": "stream",
       "stream": "stdout",
       "text": [
        "\n",
        "   992  |  \u001b[94m  0.009790\u001b[0m  |    0.031243  |     0.313354  |             |  0.2s"
       ]
      },
      {
       "output_type": "stream",
       "stream": "stdout",
       "text": [
        "\n",
        "   993  |  \u001b[94m  0.009782\u001b[0m  |    0.031245  |     0.313078  |             |  0.2s"
       ]
      },
      {
       "output_type": "stream",
       "stream": "stdout",
       "text": [
        "\n",
        "   994  |  \u001b[94m  0.009774\u001b[0m  |    0.031249  |     0.312789  |             |  0.2s"
       ]
      },
      {
       "output_type": "stream",
       "stream": "stdout",
       "text": [
        "\n",
        "   995  |  \u001b[94m  0.009766\u001b[0m  |    0.031252  |     0.312509  |             |  0.2s"
       ]
      },
      {
       "output_type": "stream",
       "stream": "stdout",
       "text": [
        "\n",
        "   996  |  \u001b[94m  0.009759\u001b[0m  |    0.031255  |     0.312228  |             |  0.2s"
       ]
      },
      {
       "output_type": "stream",
       "stream": "stdout",
       "text": [
        "\n",
        "   997  |  \u001b[94m  0.009751\u001b[0m  |    0.031259  |     0.311936  |             |  0.2s"
       ]
      },
      {
       "output_type": "stream",
       "stream": "stdout",
       "text": [
        "\n",
        "   998  |  \u001b[94m  0.009743\u001b[0m  |    0.031261  |     0.311657  |             |  0.2s"
       ]
      },
      {
       "output_type": "stream",
       "stream": "stdout",
       "text": [
        "\n",
        "   999  |  \u001b[94m  0.009735\u001b[0m  |    0.031265  |     0.311370  |             |  0.2s"
       ]
      },
      {
       "output_type": "stream",
       "stream": "stdout",
       "text": [
        "\n",
        "  1000  |  \u001b[94m  0.009727\u001b[0m  |    0.031268  |     0.311092  |             |  0.2s"
       ]
      },
      {
       "output_type": "stream",
       "stream": "stdout",
       "text": [
        "\n",
        "CPU times: user 2min 36s, sys: 59.9 s, total: 3min 36s\n",
        "Wall time: 3min 36s\n"
       ]
      },
      {
       "metadata": {},
       "output_type": "pyout",
       "prompt_number": 11,
       "text": [
        "NeuralNet(X_tensor_type=<function matrix at 0x7f0aac5e8f50>,\n",
        "     batch_iterator=<nolearn.lasagne.BatchIterator object at 0x7f0a5065d8d0>,\n",
        "     eval_size=0.2, hidden_num_units=300, input_shape=(128, 3600),\n",
        "     layers=[('input', <class 'lasagne.layers.base.InputLayer'>), ('hidden', <class 'lasagne.layers.base.DenseLayer'>), ('output', <class 'lasagne.layers.base.DenseLayer'>)],\n",
        "     loss=<function mse at 0x7f0a506530c8>, max_epochs=1000,\n",
        "     more_params={}, on_epoch_finished=(), on_training_finished=(),\n",
        "     output_nonlinearity=None, output_num_units=32, regression=True,\n",
        "     upate=<function nesterov_momentum at 0x7f0a5065be60>,\n",
        "     update=<function nesterov_momentum at 0x7f0a5065be60>,\n",
        "     update_learning_rate=0.01, update_momentum=0.9,\n",
        "     use_label_encoder=False, verbose=1,\n",
        "     y_tensor_type=TensorType(float32, matrix))"
       ]
      }
     ],
     "prompt_number": 11
    },
    {
     "cell_type": "code",
     "collapsed": false,
     "input": [
      "train_loss = np.array([i[\"train_loss\"] for i in net1.train_history_])\n",
      "valid_loss = np.array([i[\"valid_loss\"] for i in net1.train_history_])\n",
      "pyplot.plot(train_loss, linewidth=3, label=\"train\")\n",
      "pyplot.plot(valid_loss, linewidth=3, label=\"valid\")\n",
      "pyplot.grid()\n",
      "pyplot.legend()\n",
      "pyplot.xlabel(\"epoch\")\n",
      "pyplot.ylabel(\"loss\")\n",
      "pyplot.ylim(2.5e-2, 0.32e-1)\n",
      "# pyplot.yscale(\"log\")\n",
      "pyplot.show()"
     ],
     "language": "python",
     "metadata": {},
     "outputs": [
      {
       "metadata": {},
       "output_type": "display_data",
       "png": "[encoded data removed]",
       "text": [
        "<matplotlib.figure.Figure at 0x7f0a3fa3b590>"
       ]
      }
     ],
     "prompt_number": 12
    },
    {
     "cell_type": "code",
     "collapsed": false,
     "input": [
      "from sklearn import metrics\n",
      "\n",
      "# overfit result, should use validation result\n",
      "y_pred = net1.predict(X_test)\n",
      "# print y_pred[1]\n",
      "# np.argmax(y_pred[i]),np.argmax(y[i])\n",
      "y_pred = np.array(map((lambda x: np.argmax(x)), y_pred))\n",
      "yyy = np.array(map((lambda x: np.argmax(x)), y_test))\n",
      "\n",
      "print metrics.classification_report((yyy), (y_pred))"
     ],
     "language": "python",
     "metadata": {},
     "outputs": [
      {
       "output_type": "stream",
       "stream": "stdout",
       "text": [
        "             precision    recall  f1-score   support\n",
        "\n",
        "          0       0.44      0.39      0.41       155\n",
        "          1       0.29      0.36      0.32       155\n",
        "          2       0.30      0.30      0.30       151\n",
        "          3       0.26      0.23      0.24       164\n",
        "          4       0.22      0.22      0.22       138\n",
        "          5       0.31      0.39      0.35       145\n",
        "          6       0.36      0.32      0.34       159\n",
        "          7       0.35      0.36      0.35       171\n",
        "          8       0.33      0.38      0.35       149\n",
        "          9       0.32      0.30      0.31       151\n",
        "         10       0.39      0.32      0.35       148\n",
        "         11       0.39      0.35      0.37       155\n",
        "         12       0.40      0.60      0.48       138\n",
        "         13       0.39      0.56      0.46       120\n",
        "         14       0.35      0.34      0.35       123\n",
        "         15       0.41      0.31      0.35       138\n",
        "         16       0.25      0.22      0.23       141\n",
        "         17       0.29      0.17      0.22       150\n",
        "         18       0.24      0.27      0.25       119\n",
        "         19       0.52      0.60      0.56       117\n",
        "         20       0.27      0.16      0.20       131\n",
        "         21       0.24      0.21      0.22       145\n",
        "         22       0.40      0.42      0.41       132\n",
        "         23       0.34      0.46      0.39       110\n",
        "         24       0.22      0.24      0.23       125\n",
        "         25       0.38      0.43      0.41       115\n",
        "         26       0.30      0.20      0.24       123\n",
        "         27       0.29      0.37      0.32       134\n",
        "         28       0.35      0.31      0.33       147\n",
        "         29       0.55      0.66      0.60       116\n",
        "         30       0.22      0.21      0.21       121\n",
        "         31       0.31      0.23      0.26       138\n",
        "\n",
        "avg / total       0.33      0.34      0.33      4424\n",
        "\n"
       ]
      }
     ],
     "prompt_number": 13
    },
    {
     "cell_type": "markdown",
     "metadata": {},
     "source": [
      "## NET 6 in the rock"
     ]
    },
    {
     "cell_type": "code",
     "collapsed": false,
     "input": [
      "import theano\n",
      "from lasagne import layers\n",
      "from lasagne.updates import nesterov_momentum\n",
      "from nolearn.lasagne import NeuralNet\n",
      "\n",
      "def float32(k):\n",
      "    return np.cast['float32'](k)\n",
      "\n",
      "class AdjustVariable(object):\n",
      "    def __init__(self, name, start=0.03, stop=0.001):\n",
      "        self.name = name\n",
      "        self.start, self.stop = start, stop\n",
      "        self.ls = None\n",
      "\n",
      "    def __call__(self, nn, train_history):\n",
      "        if self.ls is None:\n",
      "            self.ls = np.linspace(self.start, self.stop, nn.max_epochs)\n",
      "\n",
      "        epoch = train_history[-1]['epoch']\n",
      "        new_value = float32(self.ls[epoch - 1])\n",
      "        getattr(nn, self.name).set_value(new_value)\n",
      "\n",
      "class EarlyStopping(object):\n",
      "    def __init__(self, patience=100):\n",
      "        self.patience = patience\n",
      "        self.best_valid = np.inf\n",
      "        self.best_valid_epoch = 0\n",
      "        self.best_weights = None\n",
      "\n",
      "    def __call__(self, nn, train_history):\n",
      "        current_valid = train_history[-1]['valid_loss']\n",
      "        current_epoch = train_history[-1]['epoch']\n",
      "        if current_valid < self.best_valid:\n",
      "            self.best_valid = current_valid\n",
      "            self.best_valid_epoch = current_epoch\n",
      "            self.best_weights = [w.get_value() for w in nn.get_all_params()]\n",
      "        elif self.best_valid_epoch + self.patience < current_epoch:\n",
      "            print(\"Early stopping.\")\n",
      "            print(\"Best valid loss was {:.6f} at epoch {}.\".format(\n",
      "                self.best_valid, self.best_valid_epoch))\n",
      "            nn.load_weights_from(self.best_weights)\n",
      "            raise StopIteration()\n",
      "        \n",
      "# use the cuda-convnet implementations of conv and max-pool layer\n",
      "Conv2DLayer = layers.cuda_convnet.Conv2DCCLayer\n",
      "MaxPool2DLayer = layers.cuda_convnet.MaxPool2DCCLayer\n",
      "\n",
      "net7 = NeuralNet(\n",
      "    layers=[\n",
      "        ('input', layers.InputLayer),\n",
      "        ('conv1', Conv2DLayer),\n",
      "        ('pool1', MaxPool2DLayer),\n",
      "        ('dropout1', layers.DropoutLayer),  # !\n",
      "        ('conv2', Conv2DLayer),\n",
      "        ('pool2', MaxPool2DLayer),\n",
      "        ('dropout2', layers.DropoutLayer),  # !\n",
      "        ('conv3', Conv2DLayer),\n",
      "        ('pool3', MaxPool2DLayer),\n",
      "        ('dropout3', layers.DropoutLayer),  # !\n",
      "        ('hidden4', layers.DenseLayer),\n",
      "        ('dropout4', layers.DropoutLayer),  # !\n",
      "        ('hidden5', layers.DenseLayer),\n",
      "        ('output', layers.DenseLayer),\n",
      "        ],\n",
      "    input_shape=(128, 1, 60,60),\n",
      "    conv1_num_filters=32, conv1_filter_size=(3, 3), pool1_ds=(2, 2),\n",
      "    dropout1_p=0.1,  # !\n",
      "    conv2_num_filters=64, conv2_filter_size=(2, 2), pool2_ds=(2, 2),\n",
      "    dropout2_p=0.2,  # !\n",
      "    conv3_num_filters=128, conv3_filter_size=(2, 2), pool3_ds=(2, 2),\n",
      "    dropout3_p=0.3,  # !\n",
      "    hidden4_num_units=1000,\n",
      "    # hidden4_num_units=1000,  # !\n",
      "    dropout4_p=0.5,  # !\n",
      "    hidden5_num_units=1000,\n",
      "    # hidden5_num_units=1000,  # !\n",
      "    output_num_units=32, output_nonlinearity=None,\n",
      "\n",
      "    update_learning_rate=theano.shared(float32(0.03)),\n",
      "    update_momentum=theano.shared(float32(0.9)),\n",
      "\n",
      "    regression=True,\n",
      "    # batch_iterator=FlipBatchIterator(batch_size=128),\n",
      "    on_epoch_finished=[\n",
      "        AdjustVariable('update_learning_rate', start=0.03, stop=0.0001),\n",
      "        AdjustVariable('update_momentum', start=0.9, stop=0.999),\n",
      "        EarlyStopping(patience=200),\n",
      "        ],\n",
      "    # max_epochs=3000,\n",
      "    max_epochs=6000,\n",
      "    verbose=1,\n",
      "    )"
     ],
     "language": "python",
     "metadata": {},
     "outputs": [],
     "prompt_number": 14
    },
    {
     "cell_type": "code",
     "collapsed": false,
     "input": [
      "def transform_6(X,y):\n",
      "    X = X.reshape(-1, 60,60, 1)\n",
      "    X = X.transpose(0, 3, 1, 2)\n",
      "    return X, y\n",
      "\n",
      "# X_train = X_train.reshape(-1,1,sizee,sizee)\n",
      "# X_test = X_test.reshape(-1, 1,sizee,sizee)\n",
      "# X_train.shape"
     ],
     "language": "python",
     "metadata": {},
     "outputs": [],
     "prompt_number": 15
    },
    {
     "cell_type": "code",
     "collapsed": false,
     "input": [
      "import sys\n",
      "sys.setrecursionlimit(10000)\n",
      "\n",
      "X_6, y_6 = transform_6(X_train, y_train)\n",
      "%time net7.fit(X_6, y_6)\n",
      "\n",
      "import cPickle as pickle\n",
      "with open('net7.pickle', 'wb') as f:\n",
      "    pickle.dump(net7, f, -1)"
     ],
     "language": "python",
     "metadata": {},
     "outputs": [
      {
       "output_type": "stream",
       "stream": "stdout",
       "text": [
        "  InputLayer        \t(128, 1, 60, 60)    \tproduces    3600 outputs\n",
        "  Conv2DCCLayer     \t(128, 32, 58, 58)   \tproduces  107648 outputs\n",
        "  MaxPool2DCCLayer  \t(128, 32, 29, 29)   \tproduces   26912 outputs\n",
        "  DropoutLayer      \t(128, 32, 29, 29)   \tproduces   26912 outputs\n",
        "  Conv2DCCLayer     \t(128, 64, 28, 28)   \tproduces   50176 outputs\n",
        "  MaxPool2DCCLayer  \t(128, 64, 14, 14)   \tproduces   12544 outputs\n",
        "  DropoutLayer      \t(128, 64, 14, 14)   \tproduces   12544 outputs\n",
        "  Conv2DCCLayer     \t(128, 128, 13, 13)  \tproduces   21632 outputs\n",
        "  MaxPool2DCCLayer  \t(128, 128, 7, 7)    \tproduces    6272 outputs\n",
        "  DropoutLayer      \t(128, 128, 7, 7)    \tproduces    6272 outputs\n",
        "  DenseLayer        \t(128, 1000)         \tproduces    1000 outputs\n",
        "  DropoutLayer      \t(128, 1000)         \tproduces    1000 outputs\n",
        "  DenseLayer        \t(128, 1000)         \tproduces    1000 outputs\n",
        "  DenseLayer        \t(128, 32)           \tproduces      32 outputs\n",
        "\n",
        " Epoch  |  Train loss  |  Valid loss  |  Train / Val  |  Valid acc  |  Dur\n",
        "--------|--------------|--------------|---------------|-------------|-------"
       ]
      },
      {
       "output_type": "stream",
       "stream": "stdout",
       "text": [
        "\n",
        "     1  |  \u001b[94m  0.031804\u001b[0m  |  \u001b[32m  0.030316\u001b[0m  |     1.049085  |             |  4.4s"
       ]
      },
      {
       "output_type": "stream",
       "stream": "stdout",
       "text": [
        "\n",
        "     2  |  \u001b[94m  0.030506\u001b[0m  |  \u001b[32m  0.030201\u001b[0m  |     1.010097  |             |  4.4s"
       ]
      },
      {
       "output_type": "stream",
       "stream": "stdout",
       "text": [
        "\n",
        "     3  |  \u001b[94m  0.030305\u001b[0m  |  \u001b[32m  0.030156\u001b[0m  |     1.004923  |             |  4.4s"
       ]
      },
      {
       "output_type": "stream",
       "stream": "stdout",
       "text": [
        "\n",
        "     4  |  \u001b[94m  0.030219\u001b[0m  |  \u001b[32m  0.030127\u001b[0m  |     1.003068  |             |  4.4s"
       ]
      },
      {
       "output_type": "stream",
       "stream": "stdout",
       "text": [
        "\n",
        "     5  |  \u001b[94m  0.030149\u001b[0m  |  \u001b[32m  0.030096\u001b[0m  |     1.001735  |             |  4.4s"
       ]
      },
      {
       "output_type": "stream",
       "stream": "stdout",
       "text": [
        "\n",
        "     6  |  \u001b[94m  0.030098\u001b[0m  |  \u001b[32m  0.030064\u001b[0m  |     1.001125  |             |  4.4s"
       ]
      },
      {
       "output_type": "stream",
       "stream": "stdout",
       "text": [
        "\n",
        "     7  |  \u001b[94m  0.030043\u001b[0m  |  \u001b[32m  0.030018\u001b[0m  |     1.000853  |             |  4.4s"
       ]
      },
      {
       "output_type": "stream",
       "stream": "stdout",
       "text": [
        "\n",
        "     8  |  \u001b[94m  0.030004\u001b[0m  |  \u001b[32m  0.029977\u001b[0m  |     1.000893  |             |  4.4s"
       ]
      },
      {
       "output_type": "stream",
       "stream": "stdout",
       "text": [
        "\n",
        "     9  |  \u001b[94m  0.029960\u001b[0m  |  \u001b[32m  0.029934\u001b[0m  |     1.000866  |             |  4.4s"
       ]
      },
      {
       "output_type": "stream",
       "stream": "stdout",
       "text": [
        "\n",
        "    10  |  \u001b[94m  0.029912\u001b[0m  |  \u001b[32m  0.029891\u001b[0m  |     1.000690  |             |  4.4s"
       ]
      },
      {
       "output_type": "stream",
       "stream": "stdout",
       "text": [
        "\n",
        "    11  |  \u001b[94m  0.029869\u001b[0m  |  \u001b[32m  0.029847\u001b[0m  |     1.000734  |             |  4.4s"
       ]
      },
      {
       "output_type": "stream",
       "stream": "stdout",
       "text": [
        "\n",
        "    12  |  \u001b[94m  0.029819\u001b[0m  |  \u001b[32m  0.029805\u001b[0m  |     1.000473  |             |  4.4s"
       ]
      },
      {
       "output_type": "stream",
       "stream": "stdout",
       "text": [
        "\n",
        "    13  |  \u001b[94m  0.029758\u001b[0m  |  \u001b[32m  0.029757\u001b[0m  |     1.000039  |             |  4.4s"
       ]
      },
      {
       "output_type": "stream",
       "stream": "stdout",
       "text": [
        "\n",
        "    14  |  \u001b[94m  0.029710\u001b[0m  |  \u001b[32m  0.029702\u001b[0m  |     1.000280  |             |  4.4s"
       ]
      },
      {
       "output_type": "stream",
       "stream": "stdout",
       "text": [
        "\n",
        "    15  |  \u001b[94m  0.029664\u001b[0m  |  \u001b[32m  0.029659\u001b[0m  |     1.000157  |             |  4.4s"
       ]
      },
      {
       "output_type": "stream",
       "stream": "stdout",
       "text": [
        "\n",
        "    16  |  \u001b[94m  0.029605\u001b[0m  |  \u001b[32m  0.029607\u001b[0m  |     0.999923  |             |  4.4s"
       ]
      },
      {
       "output_type": "stream",
       "stream": "stdout",
       "text": [
        "\n",
        "    17  |  \u001b[94m  0.029568\u001b[0m  |  \u001b[32m  0.029574\u001b[0m  |     0.999802  |             |  4.4s"
       ]
      },
      {
       "output_type": "stream",
       "stream": "stdout",
       "text": [
        "\n",
        "    18  |  \u001b[94m  0.029498\u001b[0m  |  \u001b[32m  0.029518\u001b[0m  |     0.999306  |             |  4.4s"
       ]
      },
      {
       "output_type": "stream",
       "stream": "stdout",
       "text": [
        "\n",
        "    19  |  \u001b[94m  0.029461\u001b[0m  |  \u001b[32m  0.029484\u001b[0m  |     0.999219  |             |  4.4s"
       ]
      },
      {
       "output_type": "stream",
       "stream": "stdout",
       "text": [
        "\n",
        "    20  |  \u001b[94m  0.029429\u001b[0m  |  \u001b[32m  0.029430\u001b[0m  |     0.999962  |             |  4.4s"
       ]
      },
      {
       "output_type": "stream",
       "stream": "stdout",
       "text": [
        "\n",
        "    21  |  \u001b[94m  0.029384\u001b[0m  |  \u001b[32m  0.029398\u001b[0m  |     0.999502  |             |  4.4s"
       ]
      },
      {
       "output_type": "stream",
       "stream": "stdout",
       "text": [
        "\n",
        "    22  |  \u001b[94m  0.029324\u001b[0m  |  \u001b[32m  0.029354\u001b[0m  |     0.998963  |             |  4.4s"
       ]
      },
      {
       "output_type": "stream",
       "stream": "stdout",
       "text": [
        "\n",
        "    23  |  \u001b[94m  0.029298\u001b[0m  |  \u001b[32m  0.029320\u001b[0m  |     0.999252  |             |  4.4s"
       ]
      },
      {
       "output_type": "stream",
       "stream": "stdout",
       "text": [
        "\n",
        "    24  |  \u001b[94m  0.029248\u001b[0m  |  \u001b[32m  0.029257\u001b[0m  |     0.999712  |             |  4.4s"
       ]
      },
      {
       "output_type": "stream",
       "stream": "stdout",
       "text": [
        "\n",
        "    25  |  \u001b[94m  0.029197\u001b[0m  |  \u001b[32m  0.029222\u001b[0m  |     0.999119  |             |  4.4s"
       ]
      },
      {
       "output_type": "stream",
       "stream": "stdout",
       "text": [
        "\n",
        "    26  |  \u001b[94m  0.029176\u001b[0m  |  \u001b[32m  0.029167\u001b[0m  |     1.000296  |             |  4.4s"
       ]
      },
      {
       "output_type": "stream",
       "stream": "stdout",
       "text": [
        "\n",
        "    27  |  \u001b[94m  0.029104\u001b[0m  |  \u001b[32m  0.029142\u001b[0m  |     0.998694  |             |  4.4s"
       ]
      },
      {
       "output_type": "stream",
       "stream": "stdout",
       "text": [
        "\n",
        "    28  |  \u001b[94m  0.029067\u001b[0m  |  \u001b[32m  0.029084\u001b[0m  |     0.999425  |             |  4.4s"
       ]
      },
      {
       "output_type": "stream",
       "stream": "stdout",
       "text": [
        "\n",
        "    29  |  \u001b[94m  0.029026\u001b[0m  |  \u001b[32m  0.029038\u001b[0m  |     0.999601  |             |  4.4s"
       ]
      },
      {
       "output_type": "stream",
       "stream": "stdout",
       "text": [
        "\n",
        "    30  |  \u001b[94m  0.029013\u001b[0m  |  \u001b[32m  0.028999\u001b[0m  |     1.000480  |             |  4.4s"
       ]
      },
      {
       "output_type": "stream",
       "stream": "stdout",
       "text": [
        "\n",
        "    31  |  \u001b[94m  0.028944\u001b[0m  |  \u001b[32m  0.028951\u001b[0m  |     0.999754  |             |  4.4s"
       ]
      },
      {
       "output_type": "stream",
       "stream": "stdout",
       "text": [
        "\n",
        "    32  |  \u001b[94m  0.028899\u001b[0m  |  \u001b[32m  0.028920\u001b[0m  |     0.999252  |             |  4.4s"
       ]
      },
      {
       "output_type": "stream",
       "stream": "stdout",
       "text": [
        "\n",
        "    33  |  \u001b[94m  0.028860\u001b[0m  |  \u001b[32m  0.028855\u001b[0m  |     1.000151  |             |  4.4s"
       ]
      },
      {
       "output_type": "stream",
       "stream": "stdout",
       "text": [
        "\n",
        "    34  |  \u001b[94m  0.028836\u001b[0m  |  \u001b[32m  0.028816\u001b[0m  |     1.000679  |             |  4.4s"
       ]
      },
      {
       "output_type": "stream",
       "stream": "stdout",
       "text": [
        "\n",
        "    35  |  \u001b[94m  0.028783\u001b[0m  |  \u001b[32m  0.028782\u001b[0m  |     1.000046  |             |  4.4s"
       ]
      },
      {
       "output_type": "stream",
       "stream": "stdout",
       "text": [
        "\n",
        "    36  |  \u001b[94m  0.028739\u001b[0m  |  \u001b[32m  0.028728\u001b[0m  |     1.000364  |             |  4.4s"
       ]
      },
      {
       "output_type": "stream",
       "stream": "stdout",
       "text": [
        "\n",
        "    37  |  \u001b[94m  0.028698\u001b[0m  |  \u001b[32m  0.028677\u001b[0m  |     1.000704  |             |  4.4s"
       ]
      },
      {
       "output_type": "stream",
       "stream": "stdout",
       "text": [
        "\n",
        "    38  |  \u001b[94m  0.028669\u001b[0m  |  \u001b[32m  0.028650\u001b[0m  |     1.000646  |             |  4.4s"
       ]
      },
      {
       "output_type": "stream",
       "stream": "stdout",
       "text": [
        "\n",
        "    39  |  \u001b[94m  0.028629\u001b[0m  |  \u001b[32m  0.028592\u001b[0m  |     1.001280  |             |  4.4s"
       ]
      },
      {
       "output_type": "stream",
       "stream": "stdout",
       "text": [
        "\n",
        "    40  |  \u001b[94m  0.028571\u001b[0m  |  \u001b[32m  0.028534\u001b[0m  |     1.001301  |             |  4.4s"
       ]
      },
      {
       "output_type": "stream",
       "stream": "stdout",
       "text": [
        "\n",
        "    41  |  \u001b[94m  0.028514\u001b[0m  |  \u001b[32m  0.028499\u001b[0m  |     1.000522  |             |  4.4s"
       ]
      },
      {
       "output_type": "stream",
       "stream": "stdout",
       "text": [
        "\n",
        "    42  |    0.028521  |  \u001b[32m  0.028438\u001b[0m  |     1.002924  |             |  4.4s"
       ]
      },
      {
       "output_type": "stream",
       "stream": "stdout",
       "text": [
        "\n",
        "    43  |  \u001b[94m  0.028442\u001b[0m  |  \u001b[32m  0.028404\u001b[0m  |     1.001331  |             |  4.4s"
       ]
      },
      {
       "output_type": "stream",
       "stream": "stdout",
       "text": [
        "\n",
        "    44  |  \u001b[94m  0.028402\u001b[0m  |  \u001b[32m  0.028338\u001b[0m  |     1.002291  |             |  4.4s"
       ]
      },
      {
       "output_type": "stream",
       "stream": "stdout",
       "text": [
        "\n",
        "    45  |  \u001b[94m  0.028384\u001b[0m  |  \u001b[32m  0.028290\u001b[0m  |     1.003305  |             |  4.4s"
       ]
      },
      {
       "output_type": "stream",
       "stream": "stdout",
       "text": [
        "\n",
        "    46  |  \u001b[94m  0.028323\u001b[0m  |  \u001b[32m  0.028264\u001b[0m  |     1.002096  |             |  4.4s"
       ]
      },
      {
       "output_type": "stream",
       "stream": "stdout",
       "text": [
        "\n",
        "    47  |  \u001b[94m  0.028270\u001b[0m  |  \u001b[32m  0.028216\u001b[0m  |     1.001916  |             |  4.4s"
       ]
      },
      {
       "output_type": "stream",
       "stream": "stdout",
       "text": [
        "\n",
        "    48  |  \u001b[94m  0.028237\u001b[0m  |  \u001b[32m  0.028189\u001b[0m  |     1.001714  |             |  4.4s"
       ]
      },
      {
       "output_type": "stream",
       "stream": "stdout",
       "text": [
        "\n",
        "    49  |  \u001b[94m  0.028218\u001b[0m  |  \u001b[32m  0.028139\u001b[0m  |     1.002812  |             |  4.4s"
       ]
      },
      {
       "output_type": "stream",
       "stream": "stdout",
       "text": [
        "\n",
        "    50  |  \u001b[94m  0.028144\u001b[0m  |  \u001b[32m  0.028050\u001b[0m  |     1.003355  |             |  4.4s"
       ]
      },
      {
       "output_type": "stream",
       "stream": "stdout",
       "text": [
        "\n",
        "    51  |  \u001b[94m  0.028130\u001b[0m  |  \u001b[32m  0.028027\u001b[0m  |     1.003661  |             |  4.4s"
       ]
      },
      {
       "output_type": "stream",
       "stream": "stdout",
       "text": [
        "\n",
        "    52  |  \u001b[94m  0.028081\u001b[0m  |  \u001b[32m  0.027988\u001b[0m  |     1.003329  |             |  4.4s"
       ]
      },
      {
       "output_type": "stream",
       "stream": "stdout",
       "text": [
        "\n",
        "    53  |  \u001b[94m  0.028034\u001b[0m  |  \u001b[32m  0.027910\u001b[0m  |     1.004458  |             |  4.4s"
       ]
      },
      {
       "output_type": "stream",
       "stream": "stdout",
       "text": [
        "\n",
        "    54  |  \u001b[94m  0.027980\u001b[0m  |  \u001b[32m  0.027866\u001b[0m  |     1.004098  |             |  4.4s"
       ]
      },
      {
       "output_type": "stream",
       "stream": "stdout",
       "text": [
        "\n",
        "    55  |  \u001b[94m  0.027948\u001b[0m  |  \u001b[32m  0.027821\u001b[0m  |     1.004577  |             |  4.4s"
       ]
      },
      {
       "output_type": "stream",
       "stream": "stdout",
       "text": [
        "\n",
        "    56  |  \u001b[94m  0.027889\u001b[0m  |  \u001b[32m  0.027786\u001b[0m  |     1.003723  |             |  4.4s"
       ]
      },
      {
       "output_type": "stream",
       "stream": "stdout",
       "text": [
        "\n",
        "    57  |  \u001b[94m  0.027840\u001b[0m  |  \u001b[32m  0.027731\u001b[0m  |     1.003927  |             |  4.4s"
       ]
      },
      {
       "output_type": "stream",
       "stream": "stdout",
       "text": [
        "\n",
        "    58  |  \u001b[94m  0.027805\u001b[0m  |  \u001b[32m  0.027688\u001b[0m  |     1.004251  |             |  4.4s"
       ]
      },
      {
       "output_type": "stream",
       "stream": "stdout",
       "text": [
        "\n",
        "    59  |  \u001b[94m  0.027763\u001b[0m  |  \u001b[32m  0.027643\u001b[0m  |     1.004353  |             |  4.4s"
       ]
      },
      {
       "output_type": "stream",
       "stream": "stdout",
       "text": [
        "\n",
        "    60  |  \u001b[94m  0.027726\u001b[0m  |  \u001b[32m  0.027567\u001b[0m  |     1.005745  |             |  4.4s"
       ]
      },
      {
       "output_type": "stream",
       "stream": "stdout",
       "text": [
        "\n",
        "    61  |  \u001b[94m  0.027684\u001b[0m  |  \u001b[32m  0.027510\u001b[0m  |     1.006335  |             |  4.4s"
       ]
      },
      {
       "output_type": "stream",
       "stream": "stdout",
       "text": [
        "\n",
        "    62  |  \u001b[94m  0.027630\u001b[0m  |  \u001b[32m  0.027477\u001b[0m  |     1.005566  |             |  4.4s"
       ]
      },
      {
       "output_type": "stream",
       "stream": "stdout",
       "text": [
        "\n",
        "    63  |  \u001b[94m  0.027596\u001b[0m  |  \u001b[32m  0.027443\u001b[0m  |     1.005582  |             |  4.4s"
       ]
      },
      {
       "output_type": "stream",
       "stream": "stdout",
       "text": [
        "\n",
        "    64  |  \u001b[94m  0.027556\u001b[0m  |  \u001b[32m  0.027372\u001b[0m  |     1.006734  |             |  4.4s"
       ]
      },
      {
       "output_type": "stream",
       "stream": "stdout",
       "text": [
        "\n",
        "    65  |  \u001b[94m  0.027528\u001b[0m  |  \u001b[32m  0.027319\u001b[0m  |     1.007640  |             |  4.4s"
       ]
      },
      {
       "output_type": "stream",
       "stream": "stdout",
       "text": [
        "\n",
        "    66  |  \u001b[94m  0.027445\u001b[0m  |  \u001b[32m  0.027258\u001b[0m  |     1.006863  |             |  4.4s"
       ]
      },
      {
       "output_type": "stream",
       "stream": "stdout",
       "text": [
        "\n",
        "    67  |  \u001b[94m  0.027403\u001b[0m  |  \u001b[32m  0.027243\u001b[0m  |     1.005882  |             |  4.4s"
       ]
      },
      {
       "output_type": "stream",
       "stream": "stdout",
       "text": [
        "\n",
        "    68  |  \u001b[94m  0.027365\u001b[0m  |  \u001b[32m  0.027172\u001b[0m  |     1.007113  |             |  4.4s"
       ]
      },
      {
       "output_type": "stream",
       "stream": "stdout",
       "text": [
        "\n",
        "    69  |  \u001b[94m  0.027301\u001b[0m  |  \u001b[32m  0.027101\u001b[0m  |     1.007397  |             |  4.4s"
       ]
      },
      {
       "output_type": "stream",
       "stream": "stdout",
       "text": [
        "\n",
        "    70  |  \u001b[94m  0.027257\u001b[0m  |  \u001b[32m  0.027068\u001b[0m  |     1.006978  |             |  4.4s"
       ]
      },
      {
       "output_type": "stream",
       "stream": "stdout",
       "text": [
        "\n",
        "    71  |  \u001b[94m  0.027227\u001b[0m  |  \u001b[32m  0.026990\u001b[0m  |     1.008797  |             |  4.4s"
       ]
      },
      {
       "output_type": "stream",
       "stream": "stdout",
       "text": [
        "\n",
        "    72  |  \u001b[94m  0.027167\u001b[0m  |  \u001b[32m  0.026905\u001b[0m  |     1.009715  |             |  4.4s"
       ]
      },
      {
       "output_type": "stream",
       "stream": "stdout",
       "text": [
        "\n",
        "    73  |  \u001b[94m  0.027122\u001b[0m  |  \u001b[32m  0.026879\u001b[0m  |     1.009036  |             |  4.4s"
       ]
      },
      {
       "output_type": "stream",
       "stream": "stdout",
       "text": [
        "\n",
        "    74  |  \u001b[94m  0.027050\u001b[0m  |  \u001b[32m  0.026811\u001b[0m  |     1.008931  |             |  4.4s"
       ]
      },
      {
       "output_type": "stream",
       "stream": "stdout",
       "text": [
        "\n",
        "    75  |    0.027052  |  \u001b[32m  0.026773\u001b[0m  |     1.010400  |             |  4.4s"
       ]
      },
      {
       "output_type": "stream",
       "stream": "stdout",
       "text": [
        "\n",
        "    76  |  \u001b[94m  0.026955\u001b[0m  |  \u001b[32m  0.026671\u001b[0m  |     1.010666  |             |  4.4s"
       ]
      },
      {
       "output_type": "stream",
       "stream": "stdout",
       "text": [
        "\n",
        "    77  |  \u001b[94m  0.026922\u001b[0m  |  \u001b[32m  0.026646\u001b[0m  |     1.010337  |             |  4.4s"
       ]
      },
      {
       "output_type": "stream",
       "stream": "stdout",
       "text": [
        "\n",
        "    78  |  \u001b[94m  0.026856\u001b[0m  |  \u001b[32m  0.026571\u001b[0m  |     1.010715  |             |  4.4s"
       ]
      },
      {
       "output_type": "stream",
       "stream": "stdout",
       "text": [
        "\n",
        "    79  |  \u001b[94m  0.026797\u001b[0m  |  \u001b[32m  0.026499\u001b[0m  |     1.011264  |             |  4.4s"
       ]
      },
      {
       "output_type": "stream",
       "stream": "stdout",
       "text": [
        "\n",
        "    80  |  \u001b[94m  0.026751\u001b[0m  |  \u001b[32m  0.026404\u001b[0m  |     1.013159  |             |  4.4s"
       ]
      },
      {
       "output_type": "stream",
       "stream": "stdout",
       "text": [
        "\n",
        "    81  |  \u001b[94m  0.026687\u001b[0m  |  \u001b[32m  0.026383\u001b[0m  |     1.011522  |             |  4.4s"
       ]
      },
      {
       "output_type": "stream",
       "stream": "stdout",
       "text": [
        "\n",
        "    82  |  \u001b[94m  0.026640\u001b[0m  |  \u001b[32m  0.026310\u001b[0m  |     1.012545  |             |  4.4s"
       ]
      },
      {
       "output_type": "stream",
       "stream": "stdout",
       "text": [
        "\n",
        "    83  |  \u001b[94m  0.026554\u001b[0m  |  \u001b[32m  0.026208\u001b[0m  |     1.013201  |             |  4.4s"
       ]
      },
      {
       "output_type": "stream",
       "stream": "stdout",
       "text": [
        "\n",
        "    84  |  \u001b[94m  0.026526\u001b[0m  |  \u001b[32m  0.026176\u001b[0m  |     1.013379  |             |  4.4s"
       ]
      },
      {
       "output_type": "stream",
       "stream": "stdout",
       "text": [
        "\n",
        "    85  |  \u001b[94m  0.026471\u001b[0m  |  \u001b[32m  0.026094\u001b[0m  |     1.014441  |             |  4.4s"
       ]
      },
      {
       "output_type": "stream",
       "stream": "stdout",
       "text": [
        "\n",
        "    86  |  \u001b[94m  0.026419\u001b[0m  |  \u001b[32m  0.026031\u001b[0m  |     1.014879  |             |  4.4s"
       ]
      },
      {
       "output_type": "stream",
       "stream": "stdout",
       "text": [
        "\n",
        "    87  |  \u001b[94m  0.026357\u001b[0m  |  \u001b[32m  0.025940\u001b[0m  |     1.016082  |             |  4.4s"
       ]
      },
      {
       "output_type": "stream",
       "stream": "stdout",
       "text": [
        "\n",
        "    88  |  \u001b[94m  0.026321\u001b[0m  |  \u001b[32m  0.025890\u001b[0m  |     1.016665  |             |  4.4s"
       ]
      },
      {
       "output_type": "stream",
       "stream": "stdout",
       "text": [
        "\n",
        "    89  |  \u001b[94m  0.026241\u001b[0m  |  \u001b[32m  0.025821\u001b[0m  |     1.016269  |             |  4.4s"
       ]
      },
      {
       "output_type": "stream",
       "stream": "stdout",
       "text": [
        "\n",
        "    90  |  \u001b[94m  0.026209\u001b[0m  |  \u001b[32m  0.025786\u001b[0m  |     1.016386  |             |  4.4s"
       ]
      },
      {
       "output_type": "stream",
       "stream": "stdout",
       "text": [
        "\n",
        "    91  |  \u001b[94m  0.026132\u001b[0m  |  \u001b[32m  0.025720\u001b[0m  |     1.016018  |             |  4.4s"
       ]
      },
      {
       "output_type": "stream",
       "stream": "stdout",
       "text": [
        "\n",
        "    92  |  \u001b[94m  0.026069\u001b[0m  |  \u001b[32m  0.025662\u001b[0m  |     1.015832  |             |  4.4s"
       ]
      },
      {
       "output_type": "stream",
       "stream": "stdout",
       "text": [
        "\n",
        "    93  |  \u001b[94m  0.026026\u001b[0m  |  \u001b[32m  0.025563\u001b[0m  |     1.018084  |             |  4.4s"
       ]
      },
      {
       "output_type": "stream",
       "stream": "stdout",
       "text": [
        "\n",
        "    94  |  \u001b[94m  0.025969\u001b[0m  |  \u001b[32m  0.025479\u001b[0m  |     1.019236  |             |  4.4s"
       ]
      },
      {
       "output_type": "stream",
       "stream": "stdout",
       "text": [
        "\n",
        "    95  |  \u001b[94m  0.025911\u001b[0m  |  \u001b[32m  0.025435\u001b[0m  |     1.018706  |             |  4.4s"
       ]
      },
      {
       "output_type": "stream",
       "stream": "stdout",
       "text": [
        "\n",
        "    96  |  \u001b[94m  0.025851\u001b[0m  |  \u001b[32m  0.025331\u001b[0m  |     1.020504  |             |  4.4s"
       ]
      },
      {
       "output_type": "stream",
       "stream": "stdout",
       "text": [
        "\n",
        "    97  |  \u001b[94m  0.025795\u001b[0m  |  \u001b[32m  0.025287\u001b[0m  |     1.020094  |             |  4.4s"
       ]
      },
      {
       "output_type": "stream",
       "stream": "stdout",
       "text": [
        "\n",
        "    98  |  \u001b[94m  0.025740\u001b[0m  |  \u001b[32m  0.025202\u001b[0m  |     1.021359  |             |  4.4s"
       ]
      },
      {
       "output_type": "stream",
       "stream": "stdout",
       "text": [
        "\n",
        "    99  |  \u001b[94m  0.025686\u001b[0m  |  \u001b[32m  0.025172\u001b[0m  |     1.020424  |             |  4.4s"
       ]
      },
      {
       "output_type": "stream",
       "stream": "stdout",
       "text": [
        "\n",
        "   100  |  \u001b[94m  0.025613\u001b[0m  |  \u001b[32m  0.025070\u001b[0m  |     1.021665  |             |  4.4s"
       ]
      },
      {
       "output_type": "stream",
       "stream": "stdout",
       "text": [
        "\n",
        "   101  |  \u001b[94m  0.025548\u001b[0m  |  \u001b[32m  0.024979\u001b[0m  |     1.022762  |             |  4.4s"
       ]
      },
      {
       "output_type": "stream",
       "stream": "stdout",
       "text": [
        "\n",
        "   102  |  \u001b[94m  0.025515\u001b[0m  |  \u001b[32m  0.024935\u001b[0m  |     1.023273  |             |  4.4s"
       ]
      },
      {
       "output_type": "stream",
       "stream": "stdout",
       "text": [
        "\n",
        "   103  |  \u001b[94m  0.025445\u001b[0m  |  \u001b[32m  0.024826\u001b[0m  |     1.024948  |             |  4.4s"
       ]
      },
      {
       "output_type": "stream",
       "stream": "stdout",
       "text": [
        "\n",
        "   104  |  \u001b[94m  0.025378\u001b[0m  |  \u001b[32m  0.024816\u001b[0m  |     1.022655  |             |  4.4s"
       ]
      },
      {
       "output_type": "stream",
       "stream": "stdout",
       "text": [
        "\n",
        "   105  |  \u001b[94m  0.025327\u001b[0m  |  \u001b[32m  0.024730\u001b[0m  |     1.024134  |             |  4.4s"
       ]
      },
      {
       "output_type": "stream",
       "stream": "stdout",
       "text": [
        "\n",
        "   106  |  \u001b[94m  0.025240\u001b[0m  |  \u001b[32m  0.024683\u001b[0m  |     1.022546  |             |  4.4s"
       ]
      },
      {
       "output_type": "stream",
       "stream": "stdout",
       "text": [
        "\n",
        "   107  |  \u001b[94m  0.025226\u001b[0m  |  \u001b[32m  0.024566\u001b[0m  |     1.026850  |             |  4.4s"
       ]
      },
      {
       "output_type": "stream",
       "stream": "stdout",
       "text": [
        "\n",
        "   108  |  \u001b[94m  0.025162\u001b[0m  |  \u001b[32m  0.024546\u001b[0m  |     1.025072  |             |  4.4s"
       ]
      },
      {
       "output_type": "stream",
       "stream": "stdout",
       "text": [
        "\n",
        "   109  |  \u001b[94m  0.025069\u001b[0m  |  \u001b[32m  0.024431\u001b[0m  |     1.026107  |             |  4.4s"
       ]
      },
      {
       "output_type": "stream",
       "stream": "stdout",
       "text": [
        "\n",
        "   110  |  \u001b[94m  0.025035\u001b[0m  |  \u001b[32m  0.024375\u001b[0m  |     1.027104  |             |  4.4s"
       ]
      },
      {
       "output_type": "stream",
       "stream": "stdout",
       "text": [
        "\n",
        "   111  |  \u001b[94m  0.024957\u001b[0m  |  \u001b[32m  0.024331\u001b[0m  |     1.025756  |             |  4.4s"
       ]
      },
      {
       "output_type": "stream",
       "stream": "stdout",
       "text": [
        "\n",
        "   112  |  \u001b[94m  0.024937\u001b[0m  |  \u001b[32m  0.024268\u001b[0m  |     1.027587  |             |  4.4s"
       ]
      },
      {
       "output_type": "stream",
       "stream": "stdout",
       "text": [
        "\n",
        "   113  |  \u001b[94m  0.024886\u001b[0m  |  \u001b[32m  0.024181\u001b[0m  |     1.029160  |             |  4.4s"
       ]
      },
      {
       "output_type": "stream",
       "stream": "stdout",
       "text": [
        "\n",
        "   114  |  \u001b[94m  0.024851\u001b[0m  |  \u001b[32m  0.024157\u001b[0m  |     1.028733  |             |  4.4s"
       ]
      },
      {
       "output_type": "stream",
       "stream": "stdout",
       "text": [
        "\n",
        "   115  |  \u001b[94m  0.024761\u001b[0m  |  \u001b[32m  0.024054\u001b[0m  |     1.029403  |             |  4.4s"
       ]
      },
      {
       "output_type": "stream",
       "stream": "stdout",
       "text": [
        "\n",
        "   116  |  \u001b[94m  0.024665\u001b[0m  |  \u001b[32m  0.023954\u001b[0m  |     1.029677  |             |  4.4s"
       ]
      },
      {
       "output_type": "stream",
       "stream": "stdout",
       "text": [
        "\n",
        "   117  |  \u001b[94m  0.024611\u001b[0m  |  \u001b[32m  0.023885\u001b[0m  |     1.030388  |             |  4.4s"
       ]
      },
      {
       "output_type": "stream",
       "stream": "stdout",
       "text": [
        "\n",
        "   118  |  \u001b[94m  0.024528\u001b[0m  |  \u001b[32m  0.023865\u001b[0m  |     1.027762  |             |  4.4s"
       ]
      },
      {
       "output_type": "stream",
       "stream": "stdout",
       "text": [
        "\n",
        "   119  |  \u001b[94m  0.024478\u001b[0m  |  \u001b[32m  0.023749\u001b[0m  |     1.030675  |             |  4.4s"
       ]
      },
      {
       "output_type": "stream",
       "stream": "stdout",
       "text": [
        "\n",
        "   120  |  \u001b[94m  0.024432\u001b[0m  |  \u001b[32m  0.023721\u001b[0m  |     1.029963  |             |  4.4s"
       ]
      },
      {
       "output_type": "stream",
       "stream": "stdout",
       "text": [
        "\n",
        "   121  |  \u001b[94m  0.024374\u001b[0m  |  \u001b[32m  0.023632\u001b[0m  |     1.031379  |             |  4.4s"
       ]
      },
      {
       "output_type": "stream",
       "stream": "stdout",
       "text": [
        "\n",
        "   122  |  \u001b[94m  0.024358\u001b[0m  |  \u001b[32m  0.023547\u001b[0m  |     1.034441  |             |  4.4s"
       ]
      },
      {
       "output_type": "stream",
       "stream": "stdout",
       "text": [
        "\n",
        "   123  |  \u001b[94m  0.024252\u001b[0m  |  \u001b[32m  0.023514\u001b[0m  |     1.031386  |             |  4.4s"
       ]
      },
      {
       "output_type": "stream",
       "stream": "stdout",
       "text": [
        "\n",
        "   124  |    0.024269  |  \u001b[32m  0.023438\u001b[0m  |     1.035444  |             |  4.4s"
       ]
      },
      {
       "output_type": "stream",
       "stream": "stdout",
       "text": [
        "\n",
        "   125  |  \u001b[94m  0.024167\u001b[0m  |  \u001b[32m  0.023357\u001b[0m  |     1.034706  |             |  4.4s"
       ]
      },
      {
       "output_type": "stream",
       "stream": "stdout",
       "text": [
        "\n",
        "   126  |  \u001b[94m  0.024083\u001b[0m  |  \u001b[32m  0.023252\u001b[0m  |     1.035757  |             |  4.4s"
       ]
      },
      {
       "output_type": "stream",
       "stream": "stdout",
       "text": [
        "\n",
        "   127  |  \u001b[94m  0.024012\u001b[0m  |  \u001b[32m  0.023200\u001b[0m  |     1.035012  |             |  4.4s"
       ]
      },
      {
       "output_type": "stream",
       "stream": "stdout",
       "text": [
        "\n",
        "   128  |  \u001b[94m  0.023966\u001b[0m  |  \u001b[32m  0.023158\u001b[0m  |     1.034907  |             |  4.4s"
       ]
      },
      {
       "output_type": "stream",
       "stream": "stdout",
       "text": [
        "\n",
        "   129  |  \u001b[94m  0.023942\u001b[0m  |  \u001b[32m  0.023047\u001b[0m  |     1.038842  |             |  4.4s"
       ]
      },
      {
       "output_type": "stream",
       "stream": "stdout",
       "text": [
        "\n",
        "   130  |  \u001b[94m  0.023889\u001b[0m  |  \u001b[32m  0.023004\u001b[0m  |     1.038488  |             |  4.4s"
       ]
      },
      {
       "output_type": "stream",
       "stream": "stdout",
       "text": [
        "\n",
        "   131  |  \u001b[94m  0.023851\u001b[0m  |  \u001b[32m  0.022956\u001b[0m  |     1.039016  |             |  4.4s"
       ]
      },
      {
       "output_type": "stream",
       "stream": "stdout",
       "text": [
        "\n",
        "   132  |  \u001b[94m  0.023772\u001b[0m  |  \u001b[32m  0.022941\u001b[0m  |     1.036195  |             |  4.4s"
       ]
      },
      {
       "output_type": "stream",
       "stream": "stdout",
       "text": [
        "\n",
        "   133  |  \u001b[94m  0.023718\u001b[0m  |  \u001b[32m  0.022809\u001b[0m  |     1.039822  |             |  4.4s"
       ]
      },
      {
       "output_type": "stream",
       "stream": "stdout",
       "text": [
        "\n",
        "   134  |  \u001b[94m  0.023700\u001b[0m  |  \u001b[32m  0.022794\u001b[0m  |     1.039728  |             |  4.4s"
       ]
      },
      {
       "output_type": "stream",
       "stream": "stdout",
       "text": [
        "\n",
        "   135  |  \u001b[94m  0.023569\u001b[0m  |  \u001b[32m  0.022628\u001b[0m  |     1.041597  |             |  4.4s"
       ]
      },
      {
       "output_type": "stream",
       "stream": "stdout",
       "text": [
        "\n",
        "   136  |  \u001b[94m  0.023493\u001b[0m  |  \u001b[32m  0.022537\u001b[0m  |     1.042417  |             |  4.4s"
       ]
      },
      {
       "output_type": "stream",
       "stream": "stdout",
       "text": [
        "\n",
        "   137  |  \u001b[94m  0.023430\u001b[0m  |  \u001b[32m  0.022489\u001b[0m  |     1.041846  |             |  4.4s"
       ]
      },
      {
       "output_type": "stream",
       "stream": "stdout",
       "text": [
        "\n",
        "   138  |  \u001b[94m  0.023422\u001b[0m  |  \u001b[32m  0.022433\u001b[0m  |     1.044061  |             |  4.4s"
       ]
      },
      {
       "output_type": "stream",
       "stream": "stdout",
       "text": [
        "\n",
        "   139  |  \u001b[94m  0.023292\u001b[0m  |  \u001b[32m  0.022355\u001b[0m  |     1.041894  |             |  4.4s"
       ]
      },
      {
       "output_type": "stream",
       "stream": "stdout",
       "text": [
        "\n",
        "   140  |    0.023301  |  \u001b[32m  0.022343\u001b[0m  |     1.042903  |             |  4.4s"
       ]
      },
      {
       "output_type": "stream",
       "stream": "stdout",
       "text": [
        "\n",
        "   141  |  \u001b[94m  0.023239\u001b[0m  |  \u001b[32m  0.022230\u001b[0m  |     1.045378  |             |  4.4s"
       ]
      },
      {
       "output_type": "stream",
       "stream": "stdout",
       "text": [
        "\n",
        "   142  |  \u001b[94m  0.023090\u001b[0m  |  \u001b[32m  0.022186\u001b[0m  |     1.040707  |             |  4.4s"
       ]
      },
      {
       "output_type": "stream",
       "stream": "stdout",
       "text": [
        "\n",
        "   143  |    0.023092  |  \u001b[32m  0.022109\u001b[0m  |     1.044463  |             |  4.4s"
       ]
      },
      {
       "output_type": "stream",
       "stream": "stdout",
       "text": [
        "\n",
        "   144  |  \u001b[94m  0.023043\u001b[0m  |  \u001b[32m  0.021995\u001b[0m  |     1.047679  |             |  4.4s"
       ]
      },
      {
       "output_type": "stream",
       "stream": "stdout",
       "text": [
        "\n",
        "   145  |  \u001b[94m  0.022963\u001b[0m  |  \u001b[32m  0.021927\u001b[0m  |     1.047251  |             |  4.4s"
       ]
      },
      {
       "output_type": "stream",
       "stream": "stdout",
       "text": [
        "\n",
        "   146  |  \u001b[94m  0.022904\u001b[0m  |  \u001b[32m  0.021850\u001b[0m  |     1.048249  |             |  4.4s"
       ]
      },
      {
       "output_type": "stream",
       "stream": "stdout",
       "text": [
        "\n",
        "   147  |  \u001b[94m  0.022874\u001b[0m  |  \u001b[32m  0.021822\u001b[0m  |     1.048201  |             |  4.4s"
       ]
      },
      {
       "output_type": "stream",
       "stream": "stdout",
       "text": [
        "\n",
        "   148  |  \u001b[94m  0.022779\u001b[0m  |  \u001b[32m  0.021732\u001b[0m  |     1.048149  |             |  4.4s"
       ]
      },
      {
       "output_type": "stream",
       "stream": "stdout",
       "text": [
        "\n",
        "   149  |  \u001b[94m  0.022769\u001b[0m  |  \u001b[32m  0.021655\u001b[0m  |     1.051412  |             |  4.4s"
       ]
      },
      {
       "output_type": "stream",
       "stream": "stdout",
       "text": [
        "\n",
        "   150  |  \u001b[94m  0.022663\u001b[0m  |  \u001b[32m  0.021610\u001b[0m  |     1.048725  |             |  4.4s"
       ]
      },
      {
       "output_type": "stream",
       "stream": "stdout",
       "text": [
        "\n",
        "   151  |  \u001b[94m  0.022613\u001b[0m  |  \u001b[32m  0.021538\u001b[0m  |     1.049891  |             |  4.4s"
       ]
      },
      {
       "output_type": "stream",
       "stream": "stdout",
       "text": [
        "\n",
        "   152  |  \u001b[94m  0.022536\u001b[0m  |  \u001b[32m  0.021454\u001b[0m  |     1.050432  |             |  4.4s"
       ]
      },
      {
       "output_type": "stream",
       "stream": "stdout",
       "text": [
        "\n",
        "   153  |  \u001b[94m  0.022510\u001b[0m  |  \u001b[32m  0.021375\u001b[0m  |     1.053085  |             |  4.4s"
       ]
      },
      {
       "output_type": "stream",
       "stream": "stdout",
       "text": [
        "\n",
        "   154  |  \u001b[94m  0.022388\u001b[0m  |  \u001b[32m  0.021313\u001b[0m  |     1.050479  |             |  4.4s"
       ]
      },
      {
       "output_type": "stream",
       "stream": "stdout",
       "text": [
        "\n",
        "   155  |  \u001b[94m  0.022385\u001b[0m  |  \u001b[32m  0.021259\u001b[0m  |     1.052999  |             |  4.4s"
       ]
      },
      {
       "output_type": "stream",
       "stream": "stdout",
       "text": [
        "\n",
        "   156  |  \u001b[94m  0.022264\u001b[0m  |  \u001b[32m  0.021110\u001b[0m  |     1.054639  |             |  4.4s"
       ]
      },
      {
       "output_type": "stream",
       "stream": "stdout",
       "text": [
        "\n",
        "   157  |  \u001b[94m  0.022238\u001b[0m  |  \u001b[32m  0.021040\u001b[0m  |     1.056899  |             |  4.4s"
       ]
      },
      {
       "output_type": "stream",
       "stream": "stdout",
       "text": [
        "\n",
        "   158  |  \u001b[94m  0.022150\u001b[0m  |  \u001b[32m  0.020974\u001b[0m  |     1.056099  |             |  4.4s"
       ]
      },
      {
       "output_type": "stream",
       "stream": "stdout",
       "text": [
        "\n",
        "   159  |  \u001b[94m  0.022107\u001b[0m  |  \u001b[32m  0.020931\u001b[0m  |     1.056208  |             |  4.4s"
       ]
      },
      {
       "output_type": "stream",
       "stream": "stdout",
       "text": [
        "\n",
        "   160  |  \u001b[94m  0.022088\u001b[0m  |  \u001b[32m  0.020895\u001b[0m  |     1.057131  |             |  4.4s"
       ]
      },
      {
       "output_type": "stream",
       "stream": "stdout",
       "text": [
        "\n",
        "   161  |  \u001b[94m  0.021990\u001b[0m  |  \u001b[32m  0.020768\u001b[0m  |     1.058841  |             |  4.4s"
       ]
      },
      {
       "output_type": "stream",
       "stream": "stdout",
       "text": [
        "\n",
        "   162  |  \u001b[94m  0.021893\u001b[0m  |  \u001b[32m  0.020691\u001b[0m  |     1.058123  |             |  4.4s"
       ]
      },
      {
       "output_type": "stream",
       "stream": "stdout",
       "text": [
        "\n",
        "   163  |  \u001b[94m  0.021842\u001b[0m  |    0.020701  |     1.055146  |             |  4.4s"
       ]
      },
      {
       "output_type": "stream",
       "stream": "stdout",
       "text": [
        "\n",
        "   164  |  \u001b[94m  0.021812\u001b[0m  |  \u001b[32m  0.020589\u001b[0m  |     1.059439  |             |  4.4s"
       ]
      },
      {
       "output_type": "stream",
       "stream": "stdout",
       "text": [
        "\n",
        "   165  |  \u001b[94m  0.021752\u001b[0m  |  \u001b[32m  0.020481\u001b[0m  |     1.062078  |             |  4.4s"
       ]
      },
      {
       "output_type": "stream",
       "stream": "stdout",
       "text": [
        "\n",
        "   166  |  \u001b[94m  0.021669\u001b[0m  |  \u001b[32m  0.020435\u001b[0m  |     1.060379  |             |  4.4s"
       ]
      },
      {
       "output_type": "stream",
       "stream": "stdout",
       "text": [
        "\n",
        "   167  |  \u001b[94m  0.021610\u001b[0m  |  \u001b[32m  0.020373\u001b[0m  |     1.060709  |             |  4.4s"
       ]
      },
      {
       "output_type": "stream",
       "stream": "stdout",
       "text": [
        "\n",
        "   168  |  \u001b[94m  0.021585\u001b[0m  |  \u001b[32m  0.020335\u001b[0m  |     1.061428  |             |  4.4s"
       ]
      },
      {
       "output_type": "stream",
       "stream": "stdout",
       "text": [
        "\n",
        "   169  |    0.021585  |  \u001b[32m  0.020221\u001b[0m  |     1.067501  |             |  4.4s"
       ]
      },
      {
       "output_type": "stream",
       "stream": "stdout",
       "text": [
        "\n",
        "   170  |  \u001b[94m  0.021432\u001b[0m  |  \u001b[32m  0.020134\u001b[0m  |     1.064497  |             |  4.4s"
       ]
      },
      {
       "output_type": "stream",
       "stream": "stdout",
       "text": [
        "\n",
        "   171  |  \u001b[94m  0.021295\u001b[0m  |  \u001b[32m  0.020027\u001b[0m  |     1.063294  |             |  4.4s"
       ]
      },
      {
       "output_type": "stream",
       "stream": "stdout",
       "text": [
        "\n",
        "   172  |    0.021304  |  \u001b[32m  0.020015\u001b[0m  |     1.064380  |             |  4.4s"
       ]
      },
      {
       "output_type": "stream",
       "stream": "stdout",
       "text": [
        "\n",
        "   173  |  \u001b[94m  0.021237\u001b[0m  |  \u001b[32m  0.019944\u001b[0m  |     1.064852  |             |  4.4s"
       ]
      },
      {
       "output_type": "stream",
       "stream": "stdout",
       "text": [
        "\n",
        "   174  |    0.021237  |  \u001b[32m  0.019885\u001b[0m  |     1.067973  |             |  4.4s"
       ]
      },
      {
       "output_type": "stream",
       "stream": "stdout",
       "text": [
        "\n",
        "   175  |  \u001b[94m  0.021092\u001b[0m  |  \u001b[32m  0.019806\u001b[0m  |     1.064943  |             |  4.4s"
       ]
      },
      {
       "output_type": "stream",
       "stream": "stdout",
       "text": [
        "\n",
        "   176  |  \u001b[94m  0.021046\u001b[0m  |  \u001b[32m  0.019778\u001b[0m  |     1.064104  |             |  4.4s"
       ]
      },
      {
       "output_type": "stream",
       "stream": "stdout",
       "text": [
        "\n",
        "   177  |  \u001b[94m  0.020988\u001b[0m  |  \u001b[32m  0.019668\u001b[0m  |     1.067144  |             |  4.4s"
       ]
      },
      {
       "output_type": "stream",
       "stream": "stdout",
       "text": [
        "\n",
        "   178  |  \u001b[94m  0.020928\u001b[0m  |  \u001b[32m  0.019584\u001b[0m  |     1.068633  |             |  4.4s"
       ]
      },
      {
       "output_type": "stream",
       "stream": "stdout",
       "text": [
        "\n",
        "   179  |  \u001b[94m  0.020876\u001b[0m  |  \u001b[32m  0.019509\u001b[0m  |     1.070079  |             |  4.4s"
       ]
      },
      {
       "output_type": "stream",
       "stream": "stdout",
       "text": [
        "\n",
        "   180  |  \u001b[94m  0.020813\u001b[0m  |  \u001b[32m  0.019450\u001b[0m  |     1.070079  |             |  4.4s"
       ]
      },
      {
       "output_type": "stream",
       "stream": "stdout",
       "text": [
        "\n",
        "   181  |  \u001b[94m  0.020708\u001b[0m  |  \u001b[32m  0.019366\u001b[0m  |     1.069277  |             |  4.4s"
       ]
      },
      {
       "output_type": "stream",
       "stream": "stdout",
       "text": [
        "\n",
        "   182  |    0.020713  |  \u001b[32m  0.019356\u001b[0m  |     1.070080  |             |  4.4s"
       ]
      },
      {
       "output_type": "stream",
       "stream": "stdout",
       "text": [
        "\n",
        "   183  |  \u001b[94m  0.020647\u001b[0m  |  \u001b[32m  0.019294\u001b[0m  |     1.070158  |             |  4.4s"
       ]
      },
      {
       "output_type": "stream",
       "stream": "stdout",
       "text": [
        "\n",
        "   184  |  \u001b[94m  0.020587\u001b[0m  |  \u001b[32m  0.019182\u001b[0m  |     1.073237  |             |  4.4s"
       ]
      },
      {
       "output_type": "stream",
       "stream": "stdout",
       "text": [
        "\n",
        "   185  |  \u001b[94m  0.020497\u001b[0m  |  \u001b[32m  0.019125\u001b[0m  |     1.071736  |             |  4.4s"
       ]
      },
      {
       "output_type": "stream",
       "stream": "stdout",
       "text": [
        "\n",
        "   186  |  \u001b[94m  0.020387\u001b[0m  |  \u001b[32m  0.019043\u001b[0m  |     1.070573  |             |  4.4s"
       ]
      },
      {
       "output_type": "stream",
       "stream": "stdout",
       "text": [
        "\n",
        "   187  |  \u001b[94m  0.020380\u001b[0m  |  \u001b[32m  0.019007\u001b[0m  |     1.072226  |             |  4.4s"
       ]
      },
      {
       "output_type": "stream",
       "stream": "stdout",
       "text": [
        "\n",
        "   188  |  \u001b[94m  0.020352\u001b[0m  |  \u001b[32m  0.018925\u001b[0m  |     1.075375  |             |  4.4s"
       ]
      },
      {
       "output_type": "stream",
       "stream": "stdout",
       "text": [
        "\n",
        "   189  |  \u001b[94m  0.020248\u001b[0m  |  \u001b[32m  0.018858\u001b[0m  |     1.073711  |             |  4.4s"
       ]
      },
      {
       "output_type": "stream",
       "stream": "stdout",
       "text": [
        "\n",
        "   190  |  \u001b[94m  0.020185\u001b[0m  |  \u001b[32m  0.018784\u001b[0m  |     1.074559  |             |  4.4s"
       ]
      },
      {
       "output_type": "stream",
       "stream": "stdout",
       "text": [
        "\n",
        "   191  |  \u001b[94m  0.020121\u001b[0m  |  \u001b[32m  0.018704\u001b[0m  |     1.075757  |             |  4.4s"
       ]
      },
      {
       "output_type": "stream",
       "stream": "stdout",
       "text": [
        "\n",
        "   192  |  \u001b[94m  0.020067\u001b[0m  |  \u001b[32m  0.018659\u001b[0m  |     1.075455  |             |  4.4s"
       ]
      },
      {
       "output_type": "stream",
       "stream": "stdout",
       "text": [
        "\n",
        "   193  |  \u001b[94m  0.019982\u001b[0m  |  \u001b[32m  0.018584\u001b[0m  |     1.075216  |             |  4.4s"
       ]
      },
      {
       "output_type": "stream",
       "stream": "stdout",
       "text": [
        "\n",
        "   194  |  \u001b[94m  0.019944\u001b[0m  |  \u001b[32m  0.018543\u001b[0m  |     1.075555  |             |  4.4s"
       ]
      },
      {
       "output_type": "stream",
       "stream": "stdout",
       "text": [
        "\n",
        "   195  |  \u001b[94m  0.019899\u001b[0m  |  \u001b[32m  0.018484\u001b[0m  |     1.076546  |             |  4.4s"
       ]
      },
      {
       "output_type": "stream",
       "stream": "stdout",
       "text": [
        "\n",
        "   196  |  \u001b[94m  0.019826\u001b[0m  |  \u001b[32m  0.018403\u001b[0m  |     1.077326  |             |  4.4s"
       ]
      },
      {
       "output_type": "stream",
       "stream": "stdout",
       "text": [
        "\n",
        "   197  |  \u001b[94m  0.019767\u001b[0m  |  \u001b[32m  0.018367\u001b[0m  |     1.076229  |             |  4.4s"
       ]
      },
      {
       "output_type": "stream",
       "stream": "stdout",
       "text": [
        "\n",
        "   198  |  \u001b[94m  0.019730\u001b[0m  |  \u001b[32m  0.018293\u001b[0m  |     1.078552  |             |  4.4s"
       ]
      },
      {
       "output_type": "stream",
       "stream": "stdout",
       "text": [
        "\n",
        "   199  |  \u001b[94m  0.019692\u001b[0m  |  \u001b[32m  0.018233\u001b[0m  |     1.080020  |             |  4.4s"
       ]
      },
      {
       "output_type": "stream",
       "stream": "stdout",
       "text": [
        "\n",
        "   200  |  \u001b[94m  0.019634\u001b[0m  |  \u001b[32m  0.018175\u001b[0m  |     1.080241  |             |  4.4s"
       ]
      },
      {
       "output_type": "stream",
       "stream": "stdout",
       "text": [
        "\n",
        "   201  |  \u001b[94m  0.019541\u001b[0m  |  \u001b[32m  0.018089\u001b[0m  |     1.080261  |             |  4.4s"
       ]
      },
      {
       "output_type": "stream",
       "stream": "stdout",
       "text": [
        "\n",
        "   202  |  \u001b[94m  0.019531\u001b[0m  |  \u001b[32m  0.018032\u001b[0m  |     1.083105  |             |  4.4s"
       ]
      },
      {
       "output_type": "stream",
       "stream": "stdout",
       "text": [
        "\n",
        "   203  |  \u001b[94m  0.019457\u001b[0m  |  \u001b[32m  0.017983\u001b[0m  |     1.081983  |             |  4.4s"
       ]
      },
      {
       "output_type": "stream",
       "stream": "stdout",
       "text": [
        "\n",
        "   204  |  \u001b[94m  0.019374\u001b[0m  |  \u001b[32m  0.017926\u001b[0m  |     1.080813  |             |  4.4s"
       ]
      },
      {
       "output_type": "stream",
       "stream": "stdout",
       "text": [
        "\n",
        "   205  |  \u001b[94m  0.019300\u001b[0m  |  \u001b[32m  0.017893\u001b[0m  |     1.078674  |             |  4.4s"
       ]
      },
      {
       "output_type": "stream",
       "stream": "stdout",
       "text": [
        "\n",
        "   206  |  \u001b[94m  0.019300\u001b[0m  |  \u001b[32m  0.017829\u001b[0m  |     1.082484  |             |  4.4s"
       ]
      },
      {
       "output_type": "stream",
       "stream": "stdout",
       "text": [
        "\n",
        "   207  |  \u001b[94m  0.019288\u001b[0m  |  \u001b[32m  0.017769\u001b[0m  |     1.085497  |             |  4.4s"
       ]
      },
      {
       "output_type": "stream",
       "stream": "stdout",
       "text": [
        "\n",
        "   208  |  \u001b[94m  0.019148\u001b[0m  |  \u001b[32m  0.017689\u001b[0m  |     1.082507  |             |  4.4s"
       ]
      },
      {
       "output_type": "stream",
       "stream": "stdout",
       "text": [
        "\n",
        "   209  |  \u001b[94m  0.019134\u001b[0m  |  \u001b[32m  0.017612\u001b[0m  |     1.086439  |             |  4.4s"
       ]
      },
      {
       "output_type": "stream",
       "stream": "stdout",
       "text": [
        "\n",
        "   210  |  \u001b[94m  0.019091\u001b[0m  |  \u001b[32m  0.017612\u001b[0m  |     1.084011  |             |  4.4s"
       ]
      },
      {
       "output_type": "stream",
       "stream": "stdout",
       "text": [
        "\n",
        "   211  |  \u001b[94m  0.018982\u001b[0m  |  \u001b[32m  0.017502\u001b[0m  |     1.084530  |             |  4.4s"
       ]
      },
      {
       "output_type": "stream",
       "stream": "stdout",
       "text": [
        "\n",
        "   212  |  \u001b[94m  0.018926\u001b[0m  |  \u001b[32m  0.017435\u001b[0m  |     1.085521  |             |  4.4s"
       ]
      },
      {
       "output_type": "stream",
       "stream": "stdout",
       "text": [
        "\n",
        "   213  |  \u001b[94m  0.018902\u001b[0m  |  \u001b[32m  0.017418\u001b[0m  |     1.085180  |             |  4.4s"
       ]
      },
      {
       "output_type": "stream",
       "stream": "stdout",
       "text": [
        "\n",
        "   214  |  \u001b[94m  0.018886\u001b[0m  |  \u001b[32m  0.017380\u001b[0m  |     1.086674  |             |  4.4s"
       ]
      },
      {
       "output_type": "stream",
       "stream": "stdout",
       "text": [
        "\n",
        "   215  |  \u001b[94m  0.018722\u001b[0m  |  \u001b[32m  0.017265\u001b[0m  |     1.084425  |             |  4.4s"
       ]
      },
      {
       "output_type": "stream",
       "stream": "stdout",
       "text": [
        "\n",
        "   216  |    0.018754  |  \u001b[32m  0.017264\u001b[0m  |     1.086265  |             |  4.4s"
       ]
      },
      {
       "output_type": "stream",
       "stream": "stdout",
       "text": [
        "\n",
        "   217  |    0.018734  |  \u001b[32m  0.017227\u001b[0m  |     1.087436  |             |  4.4s"
       ]
      },
      {
       "output_type": "stream",
       "stream": "stdout",
       "text": [
        "\n",
        "   218  |  \u001b[94m  0.018618\u001b[0m  |  \u001b[32m  0.017128\u001b[0m  |     1.087025  |             |  4.4s"
       ]
      },
      {
       "output_type": "stream",
       "stream": "stdout",
       "text": [
        "\n",
        "   219  |  \u001b[94m  0.018562\u001b[0m  |  \u001b[32m  0.017096\u001b[0m  |     1.085757  |             |  4.4s"
       ]
      },
      {
       "output_type": "stream",
       "stream": "stdout",
       "text": [
        "\n",
        "   220  |  \u001b[94m  0.018516\u001b[0m  |  \u001b[32m  0.017077\u001b[0m  |     1.084254  |             |  4.4s"
       ]
      },
      {
       "output_type": "stream",
       "stream": "stdout",
       "text": [
        "\n",
        "   221  |  \u001b[94m  0.018498\u001b[0m  |  \u001b[32m  0.017015\u001b[0m  |     1.087186  |             |  4.4s"
       ]
      },
      {
       "output_type": "stream",
       "stream": "stdout",
       "text": [
        "\n",
        "   222  |  \u001b[94m  0.018422\u001b[0m  |  \u001b[32m  0.016891\u001b[0m  |     1.090666  |             |  4.4s"
       ]
      },
      {
       "output_type": "stream",
       "stream": "stdout",
       "text": [
        "\n",
        "   223  |  \u001b[94m  0.018370\u001b[0m  |    0.016899  |     1.087010  |             |  4.4s"
       ]
      },
      {
       "output_type": "stream",
       "stream": "stdout",
       "text": [
        "\n",
        "   224  |  \u001b[94m  0.018338\u001b[0m  |  \u001b[32m  0.016838\u001b[0m  |     1.089039  |             |  4.4s"
       ]
      },
      {
       "output_type": "stream",
       "stream": "stdout",
       "text": [
        "\n",
        "   225  |  \u001b[94m  0.018301\u001b[0m  |  \u001b[32m  0.016829\u001b[0m  |     1.087467  |             |  4.4s"
       ]
      },
      {
       "output_type": "stream",
       "stream": "stdout",
       "text": [
        "\n",
        "   226  |  \u001b[94m  0.018196\u001b[0m  |  \u001b[32m  0.016731\u001b[0m  |     1.087549  |             |  4.4s"
       ]
      },
      {
       "output_type": "stream",
       "stream": "stdout",
       "text": [
        "\n",
        "   227  |  \u001b[94m  0.018179\u001b[0m  |  \u001b[32m  0.016700\u001b[0m  |     1.088537  |             |  4.4s"
       ]
      },
      {
       "output_type": "stream",
       "stream": "stdout",
       "text": [
        "\n",
        "   228  |  \u001b[94m  0.018111\u001b[0m  |  \u001b[32m  0.016635\u001b[0m  |     1.088742  |             |  4.4s"
       ]
      },
      {
       "output_type": "stream",
       "stream": "stdout",
       "text": [
        "\n",
        "   229  |  \u001b[94m  0.018064\u001b[0m  |  \u001b[32m  0.016570\u001b[0m  |     1.090156  |             |  4.4s"
       ]
      },
      {
       "output_type": "stream",
       "stream": "stdout",
       "text": [
        "\n",
        "   230  |  \u001b[94m  0.018044\u001b[0m  |  \u001b[32m  0.016515\u001b[0m  |     1.092584  |             |  4.4s"
       ]
      },
      {
       "output_type": "stream",
       "stream": "stdout",
       "text": [
        "\n",
        "   231  |  \u001b[94m  0.017993\u001b[0m  |  \u001b[32m  0.016456\u001b[0m  |     1.093434  |             |  4.4s"
       ]
      },
      {
       "output_type": "stream",
       "stream": "stdout",
       "text": [
        "\n",
        "   232  |  \u001b[94m  0.017978\u001b[0m  |  \u001b[32m  0.016423\u001b[0m  |     1.094684  |             |  4.4s"
       ]
      },
      {
       "output_type": "stream",
       "stream": "stdout",
       "text": [
        "\n",
        "   233  |  \u001b[94m  0.017887\u001b[0m  |  \u001b[32m  0.016379\u001b[0m  |     1.092050  |             |  4.4s"
       ]
      },
      {
       "output_type": "stream",
       "stream": "stdout",
       "text": [
        "\n",
        "   234  |  \u001b[94m  0.017786\u001b[0m  |  \u001b[32m  0.016332\u001b[0m  |     1.089039  |             |  4.4s"
       ]
      },
      {
       "output_type": "stream",
       "stream": "stdout",
       "text": [
        "\n",
        "   235  |    0.017788  |  \u001b[32m  0.016244\u001b[0m  |     1.095047  |             |  4.4s"
       ]
      },
      {
       "output_type": "stream",
       "stream": "stdout",
       "text": [
        "\n",
        "   236  |  \u001b[94m  0.017737\u001b[0m  |  \u001b[32m  0.016234\u001b[0m  |     1.092594  |             |  4.4s"
       ]
      },
      {
       "output_type": "stream",
       "stream": "stdout",
       "text": [
        "\n",
        "   237  |  \u001b[94m  0.017694\u001b[0m  |  \u001b[32m  0.016170\u001b[0m  |     1.094238  |             |  4.4s"
       ]
      },
      {
       "output_type": "stream",
       "stream": "stdout",
       "text": [
        "\n",
        "   238  |  \u001b[94m  0.017612\u001b[0m  |  \u001b[32m  0.016120\u001b[0m  |     1.092510  |             |  4.4s"
       ]
      },
      {
       "output_type": "stream",
       "stream": "stdout",
       "text": [
        "\n",
        "   239  |  \u001b[94m  0.017581\u001b[0m  |  \u001b[32m  0.016105\u001b[0m  |     1.091633  |             |  4.4s"
       ]
      },
      {
       "output_type": "stream",
       "stream": "stdout",
       "text": [
        "\n",
        "   240  |    0.017649  |  \u001b[32m  0.016030\u001b[0m  |     1.100990  |             |  4.4s"
       ]
      },
      {
       "output_type": "stream",
       "stream": "stdout",
       "text": [
        "\n",
        "   241  |  \u001b[94m  0.017511\u001b[0m  |  \u001b[32m  0.016020\u001b[0m  |     1.093017  |             |  4.4s"
       ]
      },
      {
       "output_type": "stream",
       "stream": "stdout",
       "text": [
        "\n",
        "   242  |  \u001b[94m  0.017494\u001b[0m  |  \u001b[32m  0.015991\u001b[0m  |     1.094045  |             |  4.4s"
       ]
      },
      {
       "output_type": "stream",
       "stream": "stdout",
       "text": [
        "\n",
        "   243  |  \u001b[94m  0.017379\u001b[0m  |  \u001b[32m  0.015958\u001b[0m  |     1.089039  |             |  4.4s"
       ]
      },
      {
       "output_type": "stream",
       "stream": "stdout",
       "text": [
        "\n",
        "   244  |  \u001b[94m  0.017359\u001b[0m  |  \u001b[32m  0.015883\u001b[0m  |     1.092916  |             |  4.4s"
       ]
      },
      {
       "output_type": "stream",
       "stream": "stdout",
       "text": [
        "\n",
        "   245  |  \u001b[94m  0.017323\u001b[0m  |  \u001b[32m  0.015848\u001b[0m  |     1.093081  |             |  4.4s"
       ]
      },
      {
       "output_type": "stream",
       "stream": "stdout",
       "text": [
        "\n",
        "   246  |  \u001b[94m  0.017252\u001b[0m  |  \u001b[32m  0.015784\u001b[0m  |     1.093025  |             |  4.4s"
       ]
      },
      {
       "output_type": "stream",
       "stream": "stdout",
       "text": [
        "\n",
        "   247  |  \u001b[94m  0.017228\u001b[0m  |  \u001b[32m  0.015755\u001b[0m  |     1.093521  |             |  4.4s"
       ]
      },
      {
       "output_type": "stream",
       "stream": "stdout",
       "text": [
        "\n",
        "   248  |  \u001b[94m  0.017205\u001b[0m  |  \u001b[32m  0.015702\u001b[0m  |     1.095685  |             |  4.4s"
       ]
      },
      {
       "output_type": "stream",
       "stream": "stdout",
       "text": [
        "\n",
        "   249  |  \u001b[94m  0.017108\u001b[0m  |  \u001b[32m  0.015627\u001b[0m  |     1.094723  |             |  4.4s"
       ]
      },
      {
       "output_type": "stream",
       "stream": "stdout",
       "text": [
        "\n",
        "   250  |  \u001b[94m  0.017066\u001b[0m  |    0.015665  |     1.089406  |             |  4.4s"
       ]
      },
      {
       "output_type": "stream",
       "stream": "stdout",
       "text": [
        "\n",
        "   251  |  \u001b[94m  0.017048\u001b[0m  |  \u001b[32m  0.015589\u001b[0m  |     1.093583  |             |  4.4s"
       ]
      },
      {
       "output_type": "stream",
       "stream": "stdout",
       "text": [
        "\n",
        "   252  |    0.017070  |  \u001b[32m  0.015571\u001b[0m  |     1.096227  |             |  4.4s"
       ]
      },
      {
       "output_type": "stream",
       "stream": "stdout",
       "text": [
        "\n",
        "   253  |  \u001b[94m  0.016941\u001b[0m  |  \u001b[32m  0.015518\u001b[0m  |     1.091696  |             |  4.4s"
       ]
      },
      {
       "output_type": "stream",
       "stream": "stdout",
       "text": [
        "\n",
        "   254  |    0.016963  |  \u001b[32m  0.015475\u001b[0m  |     1.096136  |             |  4.4s"
       ]
      },
      {
       "output_type": "stream",
       "stream": "stdout",
       "text": [
        "\n",
        "   255  |    0.016955  |  \u001b[32m  0.015448\u001b[0m  |     1.097564  |             |  4.4s"
       ]
      },
      {
       "output_type": "stream",
       "stream": "stdout",
       "text": [
        "\n",
        "   256  |  \u001b[94m  0.016807\u001b[0m  |  \u001b[32m  0.015398\u001b[0m  |     1.091513  |             |  4.4s"
       ]
      },
      {
       "output_type": "stream",
       "stream": "stdout",
       "text": [
        "\n",
        "   257  |    0.016844  |  \u001b[32m  0.015378\u001b[0m  |     1.095309  |             |  4.4s"
       ]
      },
      {
       "output_type": "stream",
       "stream": "stdout",
       "text": [
        "\n",
        "   258  |  \u001b[94m  0.016798\u001b[0m  |  \u001b[32m  0.015324\u001b[0m  |     1.096176  |             |  4.4s"
       ]
      },
      {
       "output_type": "stream",
       "stream": "stdout",
       "text": [
        "\n",
        "   259  |  \u001b[94m  0.016730\u001b[0m  |  \u001b[32m  0.015273\u001b[0m  |     1.095413  |             |  4.4s"
       ]
      },
      {
       "output_type": "stream",
       "stream": "stdout",
       "text": [
        "\n",
        "   260  |  \u001b[94m  0.016684\u001b[0m  |  \u001b[32m  0.015230\u001b[0m  |     1.095495  |             |  4.4s"
       ]
      },
      {
       "output_type": "stream",
       "stream": "stdout",
       "text": [
        "\n",
        "   261  |    0.016695  |  \u001b[32m  0.015195\u001b[0m  |     1.098753  |             |  4.4s"
       ]
      },
      {
       "output_type": "stream",
       "stream": "stdout",
       "text": [
        "\n",
        "   262  |    0.016698  |  \u001b[32m  0.015142\u001b[0m  |     1.102758  |             |  4.4s"
       ]
      },
      {
       "output_type": "stream",
       "stream": "stdout",
       "text": [
        "\n",
        "   263  |  \u001b[94m  0.016602\u001b[0m  |    0.015175  |     1.094049  |             |  4.4s"
       ]
      },
      {
       "output_type": "stream",
       "stream": "stdout",
       "text": [
        "\n",
        "   264  |  \u001b[94m  0.016503\u001b[0m  |  \u001b[32m  0.015044\u001b[0m  |     1.096990  |             |  4.4s"
       ]
      },
      {
       "output_type": "stream",
       "stream": "stdout",
       "text": [
        "\n",
        "   265  |    0.016516  |    0.015059  |     1.096749  |             |  4.4s"
       ]
      },
      {
       "output_type": "stream",
       "stream": "stdout",
       "text": [
        "\n",
        "   266  |  \u001b[94m  0.016437\u001b[0m  |  \u001b[32m  0.015028\u001b[0m  |     1.093717  |             |  4.4s"
       ]
      },
      {
       "output_type": "stream",
       "stream": "stdout",
       "text": [
        "\n",
        "   267  |    0.016481  |  \u001b[32m  0.015017\u001b[0m  |     1.097497  |             |  4.4s"
       ]
      },
      {
       "output_type": "stream",
       "stream": "stdout",
       "text": [
        "\n",
        "   268  |  \u001b[94m  0.016393\u001b[0m  |  \u001b[32m  0.014909\u001b[0m  |     1.099526  |             |  4.4s"
       ]
      },
      {
       "output_type": "stream",
       "stream": "stdout",
       "text": [
        "\n",
        "   269  |  \u001b[94m  0.016393\u001b[0m  |    0.014916  |     1.098985  |             |  4.4s"
       ]
      },
      {
       "output_type": "stream",
       "stream": "stdout",
       "text": [
        "\n",
        "   270  |  \u001b[94m  0.016376\u001b[0m  |  \u001b[32m  0.014883\u001b[0m  |     1.100320  |             |  4.4s"
       ]
      },
      {
       "output_type": "stream",
       "stream": "stdout",
       "text": [
        "\n",
        "   271  |  \u001b[94m  0.016292\u001b[0m  |    0.014891  |     1.094133  |             |  4.4s"
       ]
      },
      {
       "output_type": "stream",
       "stream": "stdout",
       "text": [
        "\n",
        "   272  |  \u001b[94m  0.016199\u001b[0m  |  \u001b[32m  0.014776\u001b[0m  |     1.096348  |             |  4.4s"
       ]
      },
      {
       "output_type": "stream",
       "stream": "stdout",
       "text": [
        "\n",
        "   273  |    0.016289  |    0.014779  |     1.102134  |             |  4.4s"
       ]
      },
      {
       "output_type": "stream",
       "stream": "stdout",
       "text": [
        "\n",
        "   274  |    0.016207  |  \u001b[32m  0.014759\u001b[0m  |     1.098112  |             |  4.4s"
       ]
      },
      {
       "output_type": "stream",
       "stream": "stdout",
       "text": [
        "\n",
        "   275  |  \u001b[94m  0.016166\u001b[0m  |  \u001b[32m  0.014720\u001b[0m  |     1.098263  |             |  4.4s"
       ]
      },
      {
       "output_type": "stream",
       "stream": "stdout",
       "text": [
        "\n",
        "   276  |    0.016187  |  \u001b[32m  0.014643\u001b[0m  |     1.105440  |             |  4.4s"
       ]
      },
      {
       "output_type": "stream",
       "stream": "stdout",
       "text": [
        "\n",
        "   277  |  \u001b[94m  0.016074\u001b[0m  |  \u001b[32m  0.014619\u001b[0m  |     1.099537  |             |  4.4s"
       ]
      },
      {
       "output_type": "stream",
       "stream": "stdout",
       "text": [
        "\n",
        "   278  |    0.016110  |    0.014646  |     1.099975  |             |  4.4s"
       ]
      },
      {
       "output_type": "stream",
       "stream": "stdout",
       "text": [
        "\n",
        "   279  |  \u001b[94m  0.016055\u001b[0m  |  \u001b[32m  0.014592\u001b[0m  |     1.100303  |             |  4.4s"
       ]
      },
      {
       "output_type": "stream",
       "stream": "stdout",
       "text": [
        "\n",
        "   280  |  \u001b[94m  0.015960\u001b[0m  |  \u001b[32m  0.014536\u001b[0m  |     1.097911  |             |  4.4s"
       ]
      },
      {
       "output_type": "stream",
       "stream": "stdout",
       "text": [
        "\n",
        "   281  |  \u001b[94m  0.015862\u001b[0m  |  \u001b[32m  0.014508\u001b[0m  |     1.093356  |             |  4.4s"
       ]
      },
      {
       "output_type": "stream",
       "stream": "stdout",
       "text": [
        "\n",
        "   282  |    0.015942  |  \u001b[32m  0.014481\u001b[0m  |     1.100835  |             |  4.4s"
       ]
      },
      {
       "output_type": "stream",
       "stream": "stdout",
       "text": [
        "\n",
        "   283  |    0.015896  |  \u001b[32m  0.014411\u001b[0m  |     1.103106  |             |  4.4s"
       ]
      },
      {
       "output_type": "stream",
       "stream": "stdout",
       "text": [
        "\n",
        "   284  |  \u001b[94m  0.015800\u001b[0m  |    0.014429  |     1.094995  |             |  4.4s"
       ]
      },
      {
       "output_type": "stream",
       "stream": "stdout",
       "text": [
        "\n",
        "   285  |    0.015877  |  \u001b[32m  0.014374\u001b[0m  |     1.104543  |             |  4.4s"
       ]
      },
      {
       "output_type": "stream",
       "stream": "stdout",
       "text": [
        "\n",
        "   286  |  \u001b[94m  0.015756\u001b[0m  |  \u001b[32m  0.014342\u001b[0m  |     1.098595  |             |  4.4s"
       ]
      },
      {
       "output_type": "stream",
       "stream": "stdout",
       "text": [
        "\n",
        "   287  |    0.015758  |  \u001b[32m  0.014338\u001b[0m  |     1.099044  |             |  4.4s"
       ]
      },
      {
       "output_type": "stream",
       "stream": "stdout",
       "text": [
        "\n",
        "   288  |  \u001b[94m  0.015733\u001b[0m  |  \u001b[32m  0.014264\u001b[0m  |     1.102992  |             |  4.4s"
       ]
      },
      {
       "output_type": "stream",
       "stream": "stdout",
       "text": [
        "\n",
        "   289  |  \u001b[94m  0.015686\u001b[0m  |  \u001b[32m  0.014254\u001b[0m  |     1.100517  |             |  4.4s"
       ]
      },
      {
       "output_type": "stream",
       "stream": "stdout",
       "text": [
        "\n",
        "   290  |  \u001b[94m  0.015683\u001b[0m  |  \u001b[32m  0.014253\u001b[0m  |     1.100312  |             |  4.4s"
       ]
      },
      {
       "output_type": "stream",
       "stream": "stdout",
       "text": [
        "\n",
        "   291  |  \u001b[94m  0.015640\u001b[0m  |  \u001b[32m  0.014188\u001b[0m  |     1.102319  |             |  4.4s"
       ]
      },
      {
       "output_type": "stream",
       "stream": "stdout",
       "text": [
        "\n",
        "   292  |  \u001b[94m  0.015610\u001b[0m  |  \u001b[32m  0.014149\u001b[0m  |     1.103203  |             |  4.4s"
       ]
      },
      {
       "output_type": "stream",
       "stream": "stdout",
       "text": [
        "\n",
        "   293  |    0.015674  |    0.014175  |     1.105810  |             |  4.4s"
       ]
      },
      {
       "output_type": "stream",
       "stream": "stdout",
       "text": [
        "\n",
        "   294  |  \u001b[94m  0.015539\u001b[0m  |    0.014156  |     1.097731  |             |  4.4s"
       ]
      },
      {
       "output_type": "stream",
       "stream": "stdout",
       "text": [
        "\n",
        "   295  |    0.015545  |  \u001b[32m  0.014120\u001b[0m  |     1.100916  |             |  4.4s"
       ]
      },
      {
       "output_type": "stream",
       "stream": "stdout",
       "text": [
        "\n",
        "   296  |    0.015579  |  \u001b[32m  0.014072\u001b[0m  |     1.107111  |             |  4.4s"
       ]
      },
      {
       "output_type": "stream",
       "stream": "stdout",
       "text": [
        "\n",
        "   297  |  \u001b[94m  0.015481\u001b[0m  |  \u001b[32m  0.014057\u001b[0m  |     1.101338  |             |  4.4s"
       ]
      },
      {
       "output_type": "stream",
       "stream": "stdout",
       "text": [
        "\n",
        "   298  |    0.015487  |  \u001b[32m  0.014037\u001b[0m  |     1.103268  |             |  4.4s"
       ]
      },
      {
       "output_type": "stream",
       "stream": "stdout",
       "text": [
        "\n",
        "   299  |  \u001b[94m  0.015398\u001b[0m  |  \u001b[32m  0.014002\u001b[0m  |     1.099661  |             |  4.4s"
       ]
      },
      {
       "output_type": "stream",
       "stream": "stdout",
       "text": [
        "\n",
        "   300  |  \u001b[94m  0.015343\u001b[0m  |  \u001b[32m  0.013937\u001b[0m  |     1.100906  |             |  4.4s"
       ]
      },
      {
       "output_type": "stream",
       "stream": "stdout",
       "text": [
        "\n",
        "   301  |    0.015362  |  \u001b[32m  0.013891\u001b[0m  |     1.105891  |             |  4.4s"
       ]
      },
      {
       "output_type": "stream",
       "stream": "stdout",
       "text": [
        "\n",
        "   302  |  \u001b[94m  0.015318\u001b[0m  |    0.013911  |     1.101091  |             |  4.4s"
       ]
      },
      {
       "output_type": "stream",
       "stream": "stdout",
       "text": [
        "\n",
        "   303  |  \u001b[94m  0.015263\u001b[0m  |  \u001b[32m  0.013870\u001b[0m  |     1.100387  |             |  4.4s"
       ]
      },
      {
       "output_type": "stream",
       "stream": "stdout",
       "text": [
        "\n",
        "   304  |    0.015296  |  \u001b[32m  0.013825\u001b[0m  |     1.106374  |             |  4.4s"
       ]
      },
      {
       "output_type": "stream",
       "stream": "stdout",
       "text": [
        "\n",
        "   305  |  \u001b[94m  0.015138\u001b[0m  |    0.013857  |     1.092469  |             |  4.4s"
       ]
      },
      {
       "output_type": "stream",
       "stream": "stdout",
       "text": [
        "\n",
        "   306  |    0.015193  |    0.013837  |     1.098054  |             |  4.4s"
       ]
      },
      {
       "output_type": "stream",
       "stream": "stdout",
       "text": [
        "\n",
        "   307  |    0.015201  |  \u001b[32m  0.013799\u001b[0m  |     1.101584  |             |  4.4s"
       ]
      },
      {
       "output_type": "stream",
       "stream": "stdout",
       "text": [
        "\n",
        "   308  |  \u001b[94m  0.015119\u001b[0m  |  \u001b[32m  0.013767\u001b[0m  |     1.098205  |             |  4.4s"
       ]
      },
      {
       "output_type": "stream",
       "stream": "stdout",
       "text": [
        "\n",
        "   309  |    0.015131  |  \u001b[32m  0.013730\u001b[0m  |     1.102053  |             |  4.4s"
       ]
      },
      {
       "output_type": "stream",
       "stream": "stdout",
       "text": [
        "\n",
        "   310  |    0.015144  |  \u001b[32m  0.013711\u001b[0m  |     1.104552  |             |  4.4s"
       ]
      },
      {
       "output_type": "stream",
       "stream": "stdout",
       "text": [
        "\n",
        "   311  |  \u001b[94m  0.014997\u001b[0m  |  \u001b[32m  0.013682\u001b[0m  |     1.096157  |             |  4.4s"
       ]
      },
      {
       "output_type": "stream",
       "stream": "stdout",
       "text": [
        "\n",
        "   312  |    0.015025  |  \u001b[32m  0.013654\u001b[0m  |     1.100453  |             |  4.4s"
       ]
      },
      {
       "output_type": "stream",
       "stream": "stdout",
       "text": [
        "\n",
        "   313  |  \u001b[94m  0.014970\u001b[0m  |  \u001b[32m  0.013653\u001b[0m  |     1.096459  |             |  4.4s"
       ]
      },
      {
       "output_type": "stream",
       "stream": "stdout",
       "text": [
        "\n",
        "   314  |  \u001b[94m  0.014964\u001b[0m  |  \u001b[32m  0.013624\u001b[0m  |     1.098311  |             |  4.4s"
       ]
      },
      {
       "output_type": "stream",
       "stream": "stdout",
       "text": [
        "\n",
        "   315  |  \u001b[94m  0.014912\u001b[0m  |  \u001b[32m  0.013556\u001b[0m  |     1.099993  |             |  4.4s"
       ]
      },
      {
       "output_type": "stream",
       "stream": "stdout",
       "text": [
        "\n",
        "   316  |    0.014985  |    0.013561  |     1.105009  |             |  4.4s"
       ]
      },
      {
       "output_type": "stream",
       "stream": "stdout",
       "text": [
        "\n",
        "   317  |  \u001b[94m  0.014808\u001b[0m  |  \u001b[32m  0.013526\u001b[0m  |     1.094782  |             |  4.4s"
       ]
      },
      {
       "output_type": "stream",
       "stream": "stdout",
       "text": [
        "\n",
        "   318  |    0.014881  |  \u001b[32m  0.013524\u001b[0m  |     1.100378  |             |  4.4s"
       ]
      },
      {
       "output_type": "stream",
       "stream": "stdout",
       "text": [
        "\n",
        "   319  |    0.014858  |  \u001b[32m  0.013487\u001b[0m  |     1.101646  |             |  4.4s"
       ]
      },
      {
       "output_type": "stream",
       "stream": "stdout",
       "text": [
        "\n",
        "   320  |    0.014871  |  \u001b[32m  0.013479\u001b[0m  |     1.103299  |             |  4.4s"
       ]
      },
      {
       "output_type": "stream",
       "stream": "stdout",
       "text": [
        "\n",
        "   321  |    0.014866  |  \u001b[32m  0.013426\u001b[0m  |     1.107261  |             |  4.4s"
       ]
      },
      {
       "output_type": "stream",
       "stream": "stdout",
       "text": [
        "\n",
        "   322  |    0.014809  |  \u001b[32m  0.013412\u001b[0m  |     1.104161  |             |  4.4s"
       ]
      },
      {
       "output_type": "stream",
       "stream": "stdout",
       "text": [
        "\n",
        "   323  |  \u001b[94m  0.014791\u001b[0m  |  \u001b[32m  0.013395\u001b[0m  |     1.104165  |             |  4.4s"
       ]
      },
      {
       "output_type": "stream",
       "stream": "stdout",
       "text": [
        "\n",
        "   324  |  \u001b[94m  0.014719\u001b[0m  |  \u001b[32m  0.013355\u001b[0m  |     1.102116  |             |  4.4s"
       ]
      },
      {
       "output_type": "stream",
       "stream": "stdout",
       "text": [
        "\n",
        "   325  |  \u001b[94m  0.014693\u001b[0m  |    0.013385  |     1.097693  |             |  4.4s"
       ]
      },
      {
       "output_type": "stream",
       "stream": "stdout",
       "text": [
        "\n",
        "   326  |  \u001b[94m  0.014678\u001b[0m  |  \u001b[32m  0.013350\u001b[0m  |     1.099415  |             |  4.4s"
       ]
      },
      {
       "output_type": "stream",
       "stream": "stdout",
       "text": [
        "\n",
        "   327  |  \u001b[94m  0.014665\u001b[0m  |  \u001b[32m  0.013320\u001b[0m  |     1.100940  |             |  4.4s"
       ]
      },
      {
       "output_type": "stream",
       "stream": "stdout",
       "text": [
        "\n",
        "   328  |  \u001b[94m  0.014623\u001b[0m  |  \u001b[32m  0.013297\u001b[0m  |     1.099695  |             |  4.4s"
       ]
      },
      {
       "output_type": "stream",
       "stream": "stdout",
       "text": [
        "\n",
        "   329  |  \u001b[94m  0.014592\u001b[0m  |  \u001b[32m  0.013283\u001b[0m  |     1.098568  |             |  4.4s"
       ]
      },
      {
       "output_type": "stream",
       "stream": "stdout",
       "text": [
        "\n",
        "   330  |    0.014653  |  \u001b[32m  0.013265\u001b[0m  |     1.104614  |             |  4.4s"
       ]
      },
      {
       "output_type": "stream",
       "stream": "stdout",
       "text": [
        "\n",
        "   331  |  \u001b[94m  0.014508\u001b[0m  |  \u001b[32m  0.013257\u001b[0m  |     1.094297  |             |  4.4s"
       ]
      },
      {
       "output_type": "stream",
       "stream": "stdout",
       "text": [
        "\n",
        "   332  |    0.014585  |  \u001b[32m  0.013225\u001b[0m  |     1.102895  |             |  4.4s"
       ]
      },
      {
       "output_type": "stream",
       "stream": "stdout",
       "text": [
        "\n",
        "   333  |  \u001b[94m  0.014483\u001b[0m  |  \u001b[32m  0.013180\u001b[0m  |     1.098827  |             |  4.4s"
       ]
      },
      {
       "output_type": "stream",
       "stream": "stdout",
       "text": [
        "\n",
        "   334  |  \u001b[94m  0.014460\u001b[0m  |  \u001b[32m  0.013150\u001b[0m  |     1.099621  |             |  4.4s"
       ]
      },
      {
       "output_type": "stream",
       "stream": "stdout",
       "text": [
        "\n",
        "   335  |    0.014461  |  \u001b[32m  0.013130\u001b[0m  |     1.101351  |             |  4.4s"
       ]
      },
      {
       "output_type": "stream",
       "stream": "stdout",
       "text": [
        "\n",
        "   336  |  \u001b[94m  0.014373\u001b[0m  |    0.013145  |     1.093394  |             |  4.4s"
       ]
      },
      {
       "output_type": "stream",
       "stream": "stdout",
       "text": [
        "\n",
        "   337  |    0.014419  |  \u001b[32m  0.013122\u001b[0m  |     1.098841  |             |  4.4s"
       ]
      },
      {
       "output_type": "stream",
       "stream": "stdout",
       "text": [
        "\n",
        "   338  |    0.014466  |  \u001b[32m  0.013071\u001b[0m  |     1.106729  |             |  4.4s"
       ]
      },
      {
       "output_type": "stream",
       "stream": "stdout",
       "text": [
        "\n",
        "   339  |  \u001b[94m  0.014354\u001b[0m  |  \u001b[32m  0.013061\u001b[0m  |     1.098974  |             |  4.4s"
       ]
      },
      {
       "output_type": "stream",
       "stream": "stdout",
       "text": [
        "\n",
        "   340  |    0.014391  |  \u001b[32m  0.013044\u001b[0m  |     1.103264  |             |  4.4s"
       ]
      },
      {
       "output_type": "stream",
       "stream": "stdout",
       "text": [
        "\n",
        "   341  |  \u001b[94m  0.014225\u001b[0m  |  \u001b[32m  0.013031\u001b[0m  |     1.091624  |             |  4.4s"
       ]
      },
      {
       "output_type": "stream",
       "stream": "stdout",
       "text": [
        "\n",
        "   342  |    0.014309  |  \u001b[32m  0.013002\u001b[0m  |     1.100549  |             |  4.4s"
       ]
      },
      {
       "output_type": "stream",
       "stream": "stdout",
       "text": [
        "\n",
        "   343  |    0.014243  |  \u001b[32m  0.012967\u001b[0m  |     1.098386  |             |  4.4s"
       ]
      },
      {
       "output_type": "stream",
       "stream": "stdout",
       "text": [
        "\n",
        "   344  |    0.014308  |    0.012977  |     1.102592  |             |  4.4s"
       ]
      },
      {
       "output_type": "stream",
       "stream": "stdout",
       "text": [
        "\n",
        "   345  |    0.014299  |  \u001b[32m  0.012934\u001b[0m  |     1.105525  |             |  4.4s"
       ]
      },
      {
       "output_type": "stream",
       "stream": "stdout",
       "text": [
        "\n",
        "   346  |  \u001b[94m  0.014149\u001b[0m  |    0.012940  |     1.093429  |             |  4.4s"
       ]
      },
      {
       "output_type": "stream",
       "stream": "stdout",
       "text": [
        "\n",
        "   347  |  \u001b[94m  0.014130\u001b[0m  |    0.012942  |     1.091771  |             |  4.4s"
       ]
      },
      {
       "output_type": "stream",
       "stream": "stdout",
       "text": [
        "\n",
        "   348  |    0.014155  |  \u001b[32m  0.012908\u001b[0m  |     1.096598  |             |  4.4s"
       ]
      },
      {
       "output_type": "stream",
       "stream": "stdout",
       "text": [
        "\n",
        "   349  |  \u001b[94m  0.014114\u001b[0m  |  \u001b[32m  0.012867\u001b[0m  |     1.096969  |             |  4.4s"
       ]
      },
      {
       "output_type": "stream",
       "stream": "stdout",
       "text": [
        "\n",
        "   350  |    0.014171  |    0.012875  |     1.100656  |             |  4.4s"
       ]
      },
      {
       "output_type": "stream",
       "stream": "stdout",
       "text": [
        "\n",
        "   351  |    0.014167  |  \u001b[32m  0.012834\u001b[0m  |     1.103827  |             |  4.4s"
       ]
      },
      {
       "output_type": "stream",
       "stream": "stdout",
       "text": [
        "\n",
        "   352  |  \u001b[94m  0.014072\u001b[0m  |    0.012837  |     1.096264  |             |  4.4s"
       ]
      },
      {
       "output_type": "stream",
       "stream": "stdout",
       "text": [
        "\n",
        "   353  |  \u001b[94m  0.014029\u001b[0m  |  \u001b[32m  0.012777\u001b[0m  |     1.098017  |             |  4.4s"
       ]
      },
      {
       "output_type": "stream",
       "stream": "stdout",
       "text": [
        "\n",
        "   354  |    0.014045  |    0.012823  |     1.095337  |             |  4.4s"
       ]
      },
      {
       "output_type": "stream",
       "stream": "stdout",
       "text": [
        "\n",
        "   355  |    0.014068  |    0.012779  |     1.100890  |             |  4.4s"
       ]
      },
      {
       "output_type": "stream",
       "stream": "stdout",
       "text": [
        "\n",
        "   356  |    0.014059  |  \u001b[32m  0.012740\u001b[0m  |     1.103479  |             |  4.4s"
       ]
      },
      {
       "output_type": "stream",
       "stream": "stdout",
       "text": [
        "\n",
        "   357  |  \u001b[94m  0.014012\u001b[0m  |  \u001b[32m  0.012725\u001b[0m  |     1.101134  |             |  4.4s"
       ]
      },
      {
       "output_type": "stream",
       "stream": "stdout",
       "text": [
        "\n",
        "   358  |  \u001b[94m  0.013987\u001b[0m  |    0.012733  |     1.098471  |             |  4.4s"
       ]
      },
      {
       "output_type": "stream",
       "stream": "stdout",
       "text": [
        "\n",
        "   359  |  \u001b[94m  0.013917\u001b[0m  |  \u001b[32m  0.012719\u001b[0m  |     1.094211  |             |  4.4s"
       ]
      },
      {
       "output_type": "stream",
       "stream": "stdout",
       "text": [
        "\n",
        "   360  |    0.013959  |  \u001b[32m  0.012710\u001b[0m  |     1.098281  |             |  4.4s"
       ]
      },
      {
       "output_type": "stream",
       "stream": "stdout",
       "text": [
        "\n",
        "   361  |    0.013920  |  \u001b[32m  0.012691\u001b[0m  |     1.096784  |             |  4.4s"
       ]
      },
      {
       "output_type": "stream",
       "stream": "stdout",
       "text": [
        "\n",
        "   362  |  \u001b[94m  0.013910\u001b[0m  |  \u001b[32m  0.012669\u001b[0m  |     1.097964  |             |  4.4s"
       ]
      },
      {
       "output_type": "stream",
       "stream": "stdout",
       "text": [
        "\n",
        "   363  |  \u001b[94m  0.013884\u001b[0m  |  \u001b[32m  0.012643\u001b[0m  |     1.098155  |             |  4.4s"
       ]
      },
      {
       "output_type": "stream",
       "stream": "stdout",
       "text": [
        "\n",
        "   364  |    0.013934  |    0.012646  |     1.101927  |             |  4.4s"
       ]
      },
      {
       "output_type": "stream",
       "stream": "stdout",
       "text": [
        "\n",
        "   365  |  \u001b[94m  0.013857\u001b[0m  |  \u001b[32m  0.012606\u001b[0m  |     1.099227  |             |  4.4s"
       ]
      },
      {
       "output_type": "stream",
       "stream": "stdout",
       "text": [
        "\n",
        "   366  |  \u001b[94m  0.013838\u001b[0m  |  \u001b[32m  0.012592\u001b[0m  |     1.098991  |             |  4.4s"
       ]
      },
      {
       "output_type": "stream",
       "stream": "stdout",
       "text": [
        "\n",
        "   367  |  \u001b[94m  0.013749\u001b[0m  |  \u001b[32m  0.012544\u001b[0m  |     1.096015  |             |  4.4s"
       ]
      },
      {
       "output_type": "stream",
       "stream": "stdout",
       "text": [
        "\n",
        "   368  |  \u001b[94m  0.013641\u001b[0m  |  \u001b[32m  0.012505\u001b[0m  |     1.090854  |             |  4.4s"
       ]
      },
      {
       "output_type": "stream",
       "stream": "stdout",
       "text": [
        "\n",
        "   369  |    0.013775  |    0.012523  |     1.099943  |             |  4.4s"
       ]
      },
      {
       "output_type": "stream",
       "stream": "stdout",
       "text": [
        "\n",
        "   370  |    0.013747  |    0.012558  |     1.094643  |             |  4.4s"
       ]
      },
      {
       "output_type": "stream",
       "stream": "stdout",
       "text": [
        "\n",
        "   371  |    0.013697  |  \u001b[32m  0.012493\u001b[0m  |     1.096424  |             |  4.4s"
       ]
      },
      {
       "output_type": "stream",
       "stream": "stdout",
       "text": [
        "\n",
        "   372  |    0.013674  |    0.012511  |     1.092931  |             |  4.4s"
       ]
      },
      {
       "output_type": "stream",
       "stream": "stdout",
       "text": [
        "\n",
        "   373  |    0.013688  |  \u001b[32m  0.012467\u001b[0m  |     1.097943  |             |  4.4s"
       ]
      },
      {
       "output_type": "stream",
       "stream": "stdout",
       "text": [
        "\n",
        "   374  |    0.013732  |    0.012476  |     1.100706  |             |  4.4s"
       ]
      },
      {
       "output_type": "stream",
       "stream": "stdout",
       "text": [
        "\n",
        "   375  |  \u001b[94m  0.013577\u001b[0m  |  \u001b[32m  0.012433\u001b[0m  |     1.091998  |             |  4.4s"
       ]
      },
      {
       "output_type": "stream",
       "stream": "stdout",
       "text": [
        "\n",
        "   376  |    0.013658  |  \u001b[32m  0.012419\u001b[0m  |     1.099785  |             |  4.4s"
       ]
      },
      {
       "output_type": "stream",
       "stream": "stdout",
       "text": [
        "\n",
        "   377  |    0.013605  |  \u001b[32m  0.012415\u001b[0m  |     1.095859  |             |  4.4s"
       ]
      },
      {
       "output_type": "stream",
       "stream": "stdout",
       "text": [
        "\n",
        "   378  |  \u001b[94m  0.013576\u001b[0m  |  \u001b[32m  0.012395\u001b[0m  |     1.095262  |             |  4.4s"
       ]
      },
      {
       "output_type": "stream",
       "stream": "stdout",
       "text": [
        "\n",
        "   379  |  \u001b[94m  0.013470\u001b[0m  |  \u001b[32m  0.012358\u001b[0m  |     1.090002  |             |  4.4s"
       ]
      },
      {
       "output_type": "stream",
       "stream": "stdout",
       "text": [
        "\n",
        "   380  |    0.013541  |  \u001b[32m  0.012355\u001b[0m  |     1.095936  |             |  4.4s"
       ]
      },
      {
       "output_type": "stream",
       "stream": "stdout",
       "text": [
        "\n",
        "   381  |    0.013525  |    0.012360  |     1.094276  |             |  4.4s"
       ]
      },
      {
       "output_type": "stream",
       "stream": "stdout",
       "text": [
        "\n",
        "   382  |    0.013560  |  \u001b[32m  0.012310\u001b[0m  |     1.101533  |             |  4.4s"
       ]
      },
      {
       "output_type": "stream",
       "stream": "stdout",
       "text": [
        "\n",
        "   383  |    0.013532  |    0.012344  |     1.096251  |             |  4.4s"
       ]
      },
      {
       "output_type": "stream",
       "stream": "stdout",
       "text": [
        "\n",
        "   384  |    0.013518  |  \u001b[32m  0.012274\u001b[0m  |     1.101307  |             |  4.4s"
       ]
      },
      {
       "output_type": "stream",
       "stream": "stdout",
       "text": [
        "\n",
        "   385  |  \u001b[94m  0.013424\u001b[0m  |    0.012310  |     1.090570  |             |  4.4s"
       ]
      },
      {
       "output_type": "stream",
       "stream": "stdout",
       "text": [
        "\n",
        "   386  |  \u001b[94m  0.013419\u001b[0m  |  \u001b[32m  0.012258\u001b[0m  |     1.094746  |             |  4.4s"
       ]
      },
      {
       "output_type": "stream",
       "stream": "stdout",
       "text": [
        "\n",
        "   387  |  \u001b[94m  0.013363\u001b[0m  |  \u001b[32m  0.012219\u001b[0m  |     1.093626  |             |  4.4s"
       ]
      },
      {
       "output_type": "stream",
       "stream": "stdout",
       "text": [
        "\n",
        "   388  |  \u001b[94m  0.013306\u001b[0m  |  \u001b[32m  0.012216\u001b[0m  |     1.089180  |             |  4.4s"
       ]
      },
      {
       "output_type": "stream",
       "stream": "stdout",
       "text": [
        "\n",
        "   389  |  \u001b[94m  0.013290\u001b[0m  |    0.012249  |     1.085024  |             |  4.4s"
       ]
      },
      {
       "output_type": "stream",
       "stream": "stdout",
       "text": [
        "\n",
        "   390  |    0.013422  |  \u001b[32m  0.012213\u001b[0m  |     1.098998  |             |  4.4s"
       ]
      },
      {
       "output_type": "stream",
       "stream": "stdout",
       "text": [
        "\n",
        "   391  |  \u001b[94m  0.013280\u001b[0m  |    0.012219  |     1.086870  |             |  4.4s"
       ]
      },
      {
       "output_type": "stream",
       "stream": "stdout",
       "text": [
        "\n",
        "   392  |    0.013415  |  \u001b[32m  0.012197\u001b[0m  |     1.099893  |             |  4.4s"
       ]
      },
      {
       "output_type": "stream",
       "stream": "stdout",
       "text": [
        "\n",
        "   393  |    0.013295  |  \u001b[32m  0.012180\u001b[0m  |     1.091556  |             |  4.4s"
       ]
      },
      {
       "output_type": "stream",
       "stream": "stdout",
       "text": [
        "\n",
        "   394  |    0.013304  |  \u001b[32m  0.012147\u001b[0m  |     1.095263  |             |  4.4s"
       ]
      },
      {
       "output_type": "stream",
       "stream": "stdout",
       "text": [
        "\n",
        "   395  |  \u001b[94m  0.013242\u001b[0m  |  \u001b[32m  0.012135\u001b[0m  |     1.091248  |             |  4.4s"
       ]
      },
      {
       "output_type": "stream",
       "stream": "stdout",
       "text": [
        "\n",
        "   396  |  \u001b[94m  0.013204\u001b[0m  |  \u001b[32m  0.012112\u001b[0m  |     1.090166  |             |  4.4s"
       ]
      },
      {
       "output_type": "stream",
       "stream": "stdout",
       "text": [
        "\n",
        "   397  |    0.013239  |    0.012118  |     1.092473  |             |  4.4s"
       ]
      },
      {
       "output_type": "stream",
       "stream": "stdout",
       "text": [
        "\n",
        "   398  |  \u001b[94m  0.013185\u001b[0m  |  \u001b[32m  0.012083\u001b[0m  |     1.091170  |             |  4.4s"
       ]
      },
      {
       "output_type": "stream",
       "stream": "stdout",
       "text": [
        "\n",
        "   399  |    0.013197  |    0.012100  |     1.090690  |             |  4.4s"
       ]
      },
      {
       "output_type": "stream",
       "stream": "stdout",
       "text": [
        "\n",
        "   400  |  \u001b[94m  0.013163\u001b[0m  |  \u001b[32m  0.012076\u001b[0m  |     1.090020  |             |  4.4s"
       ]
      },
      {
       "output_type": "stream",
       "stream": "stdout",
       "text": [
        "\n",
        "   401  |  \u001b[94m  0.013118\u001b[0m  |  \u001b[32m  0.012026\u001b[0m  |     1.090825  |             |  4.4s"
       ]
      },
      {
       "output_type": "stream",
       "stream": "stdout",
       "text": [
        "\n",
        "   402  |  \u001b[94m  0.013100\u001b[0m  |  \u001b[32m  0.012026\u001b[0m  |     1.089311  |             |  4.4s"
       ]
      },
      {
       "output_type": "stream",
       "stream": "stdout",
       "text": [
        "\n",
        "   403  |    0.013168  |  \u001b[32m  0.012016\u001b[0m  |     1.095898  |             |  4.4s"
       ]
      },
      {
       "output_type": "stream",
       "stream": "stdout",
       "text": [
        "\n",
        "   404  |    0.013147  |    0.012033  |     1.092588  |             |  4.4s"
       ]
      },
      {
       "output_type": "stream",
       "stream": "stdout",
       "text": [
        "\n",
        "   405  |    0.013110  |  \u001b[32m  0.012008\u001b[0m  |     1.091782  |             |  4.4s"
       ]
      },
      {
       "output_type": "stream",
       "stream": "stdout",
       "text": [
        "\n",
        "   406  |  \u001b[94m  0.013075\u001b[0m  |    0.012019  |     1.087919  |             |  4.4s"
       ]
      },
      {
       "output_type": "stream",
       "stream": "stdout",
       "text": [
        "\n",
        "   407  |    0.013098  |    0.012009  |     1.090718  |             |  4.4s"
       ]
      },
      {
       "output_type": "stream",
       "stream": "stdout",
       "text": [
        "\n",
        "   408  |  \u001b[94m  0.013032\u001b[0m  |  \u001b[32m  0.011974\u001b[0m  |     1.088399  |             |  4.4s"
       ]
      },
      {
       "output_type": "stream",
       "stream": "stdout",
       "text": [
        "\n",
        "   409  |  \u001b[94m  0.013014\u001b[0m  |  \u001b[32m  0.011968\u001b[0m  |     1.087390  |             |  4.4s"
       ]
      },
      {
       "output_type": "stream",
       "stream": "stdout",
       "text": [
        "\n",
        "   410  |    0.013043  |  \u001b[32m  0.011965\u001b[0m  |     1.090060  |             |  4.4s"
       ]
      },
      {
       "output_type": "stream",
       "stream": "stdout",
       "text": [
        "\n",
        "   411  |  \u001b[94m  0.012973\u001b[0m  |  \u001b[32m  0.011894\u001b[0m  |     1.090767  |             |  4.4s"
       ]
      },
      {
       "output_type": "stream",
       "stream": "stdout",
       "text": [
        "\n",
        "   412  |  \u001b[94m  0.012964\u001b[0m  |    0.011917  |     1.087877  |             |  4.4s"
       ]
      },
      {
       "output_type": "stream",
       "stream": "stdout",
       "text": [
        "\n",
        "   413  |    0.012979  |  \u001b[32m  0.011891\u001b[0m  |     1.091519  |             |  4.4s"
       ]
      },
      {
       "output_type": "stream",
       "stream": "stdout",
       "text": [
        "\n",
        "   414  |  \u001b[94m  0.012921\u001b[0m  |    0.011900  |     1.085803  |             |  4.4s"
       ]
      },
      {
       "output_type": "stream",
       "stream": "stdout",
       "text": [
        "\n",
        "   415  |  \u001b[94m  0.012876\u001b[0m  |  \u001b[32m  0.011884\u001b[0m  |     1.083463  |             |  4.4s"
       ]
      },
      {
       "output_type": "stream",
       "stream": "stdout",
       "text": [
        "\n",
        "   416  |  \u001b[94m  0.012873\u001b[0m  |  \u001b[32m  0.011861\u001b[0m  |     1.085289  |             |  4.4s"
       ]
      },
      {
       "output_type": "stream",
       "stream": "stdout",
       "text": [
        "\n",
        "   417  |  \u001b[94m  0.012823\u001b[0m  |  \u001b[32m  0.011854\u001b[0m  |     1.081738  |             |  4.4s"
       ]
      },
      {
       "output_type": "stream",
       "stream": "stdout",
       "text": [
        "\n",
        "   418  |    0.012866  |  \u001b[32m  0.011835\u001b[0m  |     1.087165  |             |  4.4s"
       ]
      },
      {
       "output_type": "stream",
       "stream": "stdout",
       "text": [
        "\n",
        "   419  |    0.012842  |    0.011861  |     1.082663  |             |  4.4s"
       ]
      },
      {
       "output_type": "stream",
       "stream": "stdout",
       "text": [
        "\n",
        "   420  |    0.012837  |  \u001b[32m  0.011820\u001b[0m  |     1.086061  |             |  4.4s"
       ]
      },
      {
       "output_type": "stream",
       "stream": "stdout",
       "text": [
        "\n",
        "   421  |  \u001b[94m  0.012801\u001b[0m  |  \u001b[32m  0.011794\u001b[0m  |     1.085362  |             |  4.4s"
       ]
      },
      {
       "output_type": "stream",
       "stream": "stdout",
       "text": [
        "\n",
        "   422  |  \u001b[94m  0.012765\u001b[0m  |  \u001b[32m  0.011758\u001b[0m  |     1.085713  |             |  4.4s"
       ]
      },
      {
       "output_type": "stream",
       "stream": "stdout",
       "text": [
        "\n",
        "   423  |    0.012786  |    0.011782  |     1.085234  |             |  4.4s"
       ]
      },
      {
       "output_type": "stream",
       "stream": "stdout",
       "text": [
        "\n",
        "   424  |    0.012769  |    0.011776  |     1.084336  |             |  4.4s"
       ]
      },
      {
       "output_type": "stream",
       "stream": "stdout",
       "text": [
        "\n",
        "   425  |  \u001b[94m  0.012688\u001b[0m  |  \u001b[32m  0.011756\u001b[0m  |     1.079242  |             |  4.4s"
       ]
      },
      {
       "output_type": "stream",
       "stream": "stdout",
       "text": [
        "\n",
        "   426  |    0.012762  |  \u001b[32m  0.011738\u001b[0m  |     1.087307  |             |  4.4s"
       ]
      },
      {
       "output_type": "stream",
       "stream": "stdout",
       "text": [
        "\n",
        "   427  |  \u001b[94m  0.012657\u001b[0m  |  \u001b[32m  0.011717\u001b[0m  |     1.080171  |             |  4.4s"
       ]
      },
      {
       "output_type": "stream",
       "stream": "stdout",
       "text": [
        "\n",
        "   428  |  \u001b[94m  0.012615\u001b[0m  |    0.011725  |     1.075919  |             |  4.4s"
       ]
      },
      {
       "output_type": "stream",
       "stream": "stdout",
       "text": [
        "\n",
        "   429  |    0.012715  |    0.011723  |     1.084580  |             |  4.4s"
       ]
      },
      {
       "output_type": "stream",
       "stream": "stdout",
       "text": [
        "\n",
        "   430  |    0.012638  |  \u001b[32m  0.011687\u001b[0m  |     1.081403  |             |  4.4s"
       ]
      },
      {
       "output_type": "stream",
       "stream": "stdout",
       "text": [
        "\n",
        "   431  |    0.012681  |  \u001b[32m  0.011664\u001b[0m  |     1.087198  |             |  4.4s"
       ]
      },
      {
       "output_type": "stream",
       "stream": "stdout",
       "text": [
        "\n",
        "   432  |    0.012682  |    0.011696  |     1.084300  |             |  4.4s"
       ]
      },
      {
       "output_type": "stream",
       "stream": "stdout",
       "text": [
        "\n",
        "   433  |    0.012616  |    0.011676  |     1.080473  |             |  4.4s"
       ]
      },
      {
       "output_type": "stream",
       "stream": "stdout",
       "text": [
        "\n",
        "   434  |    0.012644  |  \u001b[32m  0.011637\u001b[0m  |     1.086583  |             |  4.4s"
       ]
      },
      {
       "output_type": "stream",
       "stream": "stdout",
       "text": [
        "\n",
        "   435  |  \u001b[94m  0.012514\u001b[0m  |  \u001b[32m  0.011631\u001b[0m  |     1.075894  |             |  4.4s"
       ]
      },
      {
       "output_type": "stream",
       "stream": "stdout",
       "text": [
        "\n",
        "   436  |  \u001b[94m  0.012476\u001b[0m  |  \u001b[32m  0.011603\u001b[0m  |     1.075268  |             |  4.4s"
       ]
      },
      {
       "output_type": "stream",
       "stream": "stdout",
       "text": [
        "\n",
        "   437  |    0.012611  |    0.011642  |     1.083302  |             |  4.4s"
       ]
      },
      {
       "output_type": "stream",
       "stream": "stdout",
       "text": [
        "\n",
        "   438  |    0.012515  |  \u001b[32m  0.011592\u001b[0m  |     1.079575  |             |  4.4s"
       ]
      },
      {
       "output_type": "stream",
       "stream": "stdout",
       "text": [
        "\n",
        "   439  |    0.012611  |  \u001b[32m  0.011592\u001b[0m  |     1.087938  |             |  4.4s"
       ]
      },
      {
       "output_type": "stream",
       "stream": "stdout",
       "text": [
        "\n",
        "   440  |    0.012544  |  \u001b[32m  0.011588\u001b[0m  |     1.082563  |             |  4.4s"
       ]
      },
      {
       "output_type": "stream",
       "stream": "stdout",
       "text": [
        "\n",
        "   441  |    0.012541  |  \u001b[32m  0.011558\u001b[0m  |     1.084998  |             |  4.4s"
       ]
      },
      {
       "output_type": "stream",
       "stream": "stdout",
       "text": [
        "\n",
        "   442  |    0.012569  |  \u001b[32m  0.011553\u001b[0m  |     1.087893  |             |  4.4s"
       ]
      },
      {
       "output_type": "stream",
       "stream": "stdout",
       "text": [
        "\n",
        "   443  |    0.012496  |    0.011587  |     1.078511  |             |  4.4s"
       ]
      },
      {
       "output_type": "stream",
       "stream": "stdout",
       "text": [
        "\n",
        "   444  |    0.012485  |    0.011586  |     1.077619  |             |  4.4s"
       ]
      },
      {
       "output_type": "stream",
       "stream": "stdout",
       "text": [
        "\n",
        "   445  |  \u001b[94m  0.012463\u001b[0m  |  \u001b[32m  0.011535\u001b[0m  |     1.080381  |             |  4.4s"
       ]
      },
      {
       "output_type": "stream",
       "stream": "stdout",
       "text": [
        "\n",
        "   446  |  \u001b[94m  0.012458\u001b[0m  |  \u001b[32m  0.011491\u001b[0m  |     1.084143  |             |  4.4s"
       ]
      },
      {
       "output_type": "stream",
       "stream": "stdout",
       "text": [
        "\n",
        "   447  |  \u001b[94m  0.012438\u001b[0m  |    0.011511  |     1.080481  |             |  4.4s"
       ]
      },
      {
       "output_type": "stream",
       "stream": "stdout",
       "text": [
        "\n",
        "   448  |    0.012446  |    0.011516  |     1.080719  |             |  4.4s"
       ]
      },
      {
       "output_type": "stream",
       "stream": "stdout",
       "text": [
        "\n",
        "   449  |  \u001b[94m  0.012436\u001b[0m  |    0.011498  |     1.081575  |             |  4.4s"
       ]
      },
      {
       "output_type": "stream",
       "stream": "stdout",
       "text": [
        "\n",
        "   450  |  \u001b[94m  0.012365\u001b[0m  |  \u001b[32m  0.011466\u001b[0m  |     1.078434  |             |  4.4s"
       ]
      },
      {
       "output_type": "stream",
       "stream": "stdout",
       "text": [
        "\n",
        "   451  |    0.012431  |    0.011479  |     1.082926  |             |  4.4s"
       ]
      },
      {
       "output_type": "stream",
       "stream": "stdout",
       "text": [
        "\n",
        "   452  |  \u001b[94m  0.012259\u001b[0m  |  \u001b[32m  0.011449\u001b[0m  |     1.070782  |             |  4.4s"
       ]
      },
      {
       "output_type": "stream",
       "stream": "stdout",
       "text": [
        "\n",
        "   453  |    0.012405  |  \u001b[32m  0.011433\u001b[0m  |     1.085038  |             |  4.4s"
       ]
      },
      {
       "output_type": "stream",
       "stream": "stdout",
       "text": [
        "\n",
        "   454  |    0.012294  |  \u001b[32m  0.011427\u001b[0m  |     1.075939  |             |  4.4s"
       ]
      },
      {
       "output_type": "stream",
       "stream": "stdout",
       "text": [
        "\n",
        "   455  |    0.012344  |  \u001b[32m  0.011425\u001b[0m  |     1.080438  |             |  4.4s"
       ]
      },
      {
       "output_type": "stream",
       "stream": "stdout",
       "text": [
        "\n",
        "   456  |    0.012313  |  \u001b[32m  0.011411\u001b[0m  |     1.079023  |             |  4.4s"
       ]
      },
      {
       "output_type": "stream",
       "stream": "stdout",
       "text": [
        "\n",
        "   457  |    0.012262  |  \u001b[32m  0.011407\u001b[0m  |     1.074921  |             |  4.4s"
       ]
      },
      {
       "output_type": "stream",
       "stream": "stdout",
       "text": [
        "\n",
        "   458  |    0.012354  |    0.011420  |     1.081771  |             |  4.4s"
       ]
      },
      {
       "output_type": "stream",
       "stream": "stdout",
       "text": [
        "\n",
        "   459  |    0.012294  |  \u001b[32m  0.011384\u001b[0m  |     1.079916  |             |  4.4s"
       ]
      },
      {
       "output_type": "stream",
       "stream": "stdout",
       "text": [
        "\n",
        "   460  |  \u001b[94m  0.012175\u001b[0m  |  \u001b[32m  0.011338\u001b[0m  |     1.073778  |             |  4.4s"
       ]
      },
      {
       "output_type": "stream",
       "stream": "stdout",
       "text": [
        "\n",
        "   461  |    0.012179  |    0.011357  |     1.072421  |             |  4.4s"
       ]
      },
      {
       "output_type": "stream",
       "stream": "stdout",
       "text": [
        "\n",
        "   462  |  \u001b[94m  0.012158\u001b[0m  |  \u001b[32m  0.011325\u001b[0m  |     1.073493  |             |  4.4s"
       ]
      },
      {
       "output_type": "stream",
       "stream": "stdout",
       "text": [
        "\n",
        "   463  |    0.012257  |    0.011325  |     1.082267  |             |  4.4s"
       ]
      },
      {
       "output_type": "stream",
       "stream": "stdout",
       "text": [
        "\n",
        "   464  |  \u001b[94m  0.012155\u001b[0m  |    0.011327  |     1.073132  |             |  4.4s"
       ]
      },
      {
       "output_type": "stream",
       "stream": "stdout",
       "text": [
        "\n",
        "   465  |    0.012228  |    0.011349  |     1.077433  |             |  4.4s"
       ]
      },
      {
       "output_type": "stream",
       "stream": "stdout",
       "text": [
        "\n",
        "   466  |    0.012156  |  \u001b[32m  0.011302\u001b[0m  |     1.075604  |             |  4.4s"
       ]
      },
      {
       "output_type": "stream",
       "stream": "stdout",
       "text": [
        "\n",
        "   467  |    0.012178  |    0.011325  |     1.075309  |             |  4.4s"
       ]
      },
      {
       "output_type": "stream",
       "stream": "stdout",
       "text": [
        "\n",
        "   468  |    0.012192  |  \u001b[32m  0.011295\u001b[0m  |     1.079354  |             |  4.4s"
       ]
      },
      {
       "output_type": "stream",
       "stream": "stdout",
       "text": [
        "\n",
        "   469  |  \u001b[94m  0.012079\u001b[0m  |  \u001b[32m  0.011279\u001b[0m  |     1.070899  |             |  4.4s"
       ]
      },
      {
       "output_type": "stream",
       "stream": "stdout",
       "text": [
        "\n",
        "   470  |  \u001b[94m  0.012029\u001b[0m  |  \u001b[32m  0.011266\u001b[0m  |     1.067683  |             |  4.4s"
       ]
      },
      {
       "output_type": "stream",
       "stream": "stdout",
       "text": [
        "\n",
        "   471  |    0.012109  |  \u001b[32m  0.011255\u001b[0m  |     1.075807  |             |  4.4s"
       ]
      },
      {
       "output_type": "stream",
       "stream": "stdout",
       "text": [
        "\n",
        "   472  |    0.012068  |  \u001b[32m  0.011213\u001b[0m  |     1.076216  |             |  4.4s"
       ]
      },
      {
       "output_type": "stream",
       "stream": "stdout",
       "text": [
        "\n",
        "   473  |    0.012110  |  \u001b[32m  0.011198\u001b[0m  |     1.081479  |             |  4.4s"
       ]
      },
      {
       "output_type": "stream",
       "stream": "stdout",
       "text": [
        "\n",
        "   474  |    0.012068  |    0.011204  |     1.077069  |             |  4.4s"
       ]
      },
      {
       "output_type": "stream",
       "stream": "stdout",
       "text": [
        "\n",
        "   475  |    0.012091  |    0.011219  |     1.077671  |             |  4.4s"
       ]
      },
      {
       "output_type": "stream",
       "stream": "stdout",
       "text": [
        "\n",
        "   476  |  \u001b[94m  0.012005\u001b[0m  |  \u001b[32m  0.011178\u001b[0m  |     1.073972  |             |  4.4s"
       ]
      },
      {
       "output_type": "stream",
       "stream": "stdout",
       "text": [
        "\n",
        "   477  |  \u001b[94m  0.011920\u001b[0m  |    0.011181  |     1.066065  |             |  4.4s"
       ]
      },
      {
       "output_type": "stream",
       "stream": "stdout",
       "text": [
        "\n",
        "   478  |    0.011952  |    0.011185  |     1.068599  |             |  4.4s"
       ]
      },
      {
       "output_type": "stream",
       "stream": "stdout",
       "text": [
        "\n",
        "   479  |    0.011950  |    0.011183  |     1.068603  |             |  4.4s"
       ]
      },
      {
       "output_type": "stream",
       "stream": "stdout",
       "text": [
        "\n",
        "   480  |  \u001b[94m  0.011857\u001b[0m  |  \u001b[32m  0.011151\u001b[0m  |     1.063254  |             |  4.4s"
       ]
      },
      {
       "output_type": "stream",
       "stream": "stdout",
       "text": [
        "\n",
        "   481  |    0.012009  |    0.011155  |     1.076554  |             |  4.4s"
       ]
      },
      {
       "output_type": "stream",
       "stream": "stdout",
       "text": [
        "\n",
        "   482  |    0.012016  |  \u001b[32m  0.011151\u001b[0m  |     1.077551  |             |  4.4s"
       ]
      },
      {
       "output_type": "stream",
       "stream": "stdout",
       "text": [
        "\n",
        "   483  |    0.011904  |    0.011157  |     1.067016  |             |  4.4s"
       ]
      },
      {
       "output_type": "stream",
       "stream": "stdout",
       "text": [
        "\n",
        "   484  |    0.011948  |  \u001b[32m  0.011125\u001b[0m  |     1.073940  |             |  4.4s"
       ]
      },
      {
       "output_type": "stream",
       "stream": "stdout",
       "text": [
        "\n",
        "   485  |    0.011896  |  \u001b[32m  0.011090\u001b[0m  |     1.072713  |             |  4.4s"
       ]
      },
      {
       "output_type": "stream",
       "stream": "stdout",
       "text": [
        "\n",
        "   486  |    0.011863  |    0.011122  |     1.066602  |             |  4.4s"
       ]
      },
      {
       "output_type": "stream",
       "stream": "stdout",
       "text": [
        "\n",
        "   487  |    0.011876  |  \u001b[32m  0.011086\u001b[0m  |     1.071283  |             |  4.4s"
       ]
      },
      {
       "output_type": "stream",
       "stream": "stdout",
       "text": [
        "\n",
        "   488  |  \u001b[94m  0.011804\u001b[0m  |    0.011087  |     1.064630  |             |  4.4s"
       ]
      },
      {
       "output_type": "stream",
       "stream": "stdout",
       "text": [
        "\n",
        "   489  |    0.011828  |  \u001b[32m  0.011077\u001b[0m  |     1.067809  |             |  4.4s"
       ]
      },
      {
       "output_type": "stream",
       "stream": "stdout",
       "text": [
        "\n",
        "   490  |    0.011936  |    0.011092  |     1.076145  |             |  4.4s"
       ]
      },
      {
       "output_type": "stream",
       "stream": "stdout",
       "text": [
        "\n",
        "   491  |    0.011889  |  \u001b[32m  0.011045\u001b[0m  |     1.076427  |             |  4.4s"
       ]
      },
      {
       "output_type": "stream",
       "stream": "stdout",
       "text": [
        "\n",
        "   492  |    0.011862  |    0.011065  |     1.071989  |             |  4.4s"
       ]
      },
      {
       "output_type": "stream",
       "stream": "stdout",
       "text": [
        "\n",
        "   493  |  \u001b[94m  0.011774\u001b[0m  |  \u001b[32m  0.011035\u001b[0m  |     1.066940  |             |  4.4s"
       ]
      },
      {
       "output_type": "stream",
       "stream": "stdout",
       "text": [
        "\n",
        "   494  |  \u001b[94m  0.011756\u001b[0m  |  \u001b[32m  0.011029\u001b[0m  |     1.065851  |             |  4.4s"
       ]
      },
      {
       "output_type": "stream",
       "stream": "stdout",
       "text": [
        "\n",
        "   495  |    0.011840  |  \u001b[32m  0.011008\u001b[0m  |     1.075553  |             |  4.4s"
       ]
      },
      {
       "output_type": "stream",
       "stream": "stdout",
       "text": [
        "\n",
        "   496  |  \u001b[94m  0.011701\u001b[0m  |    0.011019  |     1.061932  |             |  4.4s"
       ]
      },
      {
       "output_type": "stream",
       "stream": "stdout",
       "text": [
        "\n",
        "   497  |    0.011747  |    0.011024  |     1.065574  |             |  4.4s"
       ]
      },
      {
       "output_type": "stream",
       "stream": "stdout",
       "text": [
        "\n",
        "   498  |  \u001b[94m  0.011699\u001b[0m  |    0.011017  |     1.061914  |             |  4.4s"
       ]
      },
      {
       "output_type": "stream",
       "stream": "stdout",
       "text": [
        "\n",
        "   499  |  \u001b[94m  0.011668\u001b[0m  |  \u001b[32m  0.011003\u001b[0m  |     1.060454  |             |  4.4s"
       ]
      },
      {
       "output_type": "stream",
       "stream": "stdout",
       "text": [
        "\n",
        "   500  |    0.011777  |  \u001b[32m  0.010990\u001b[0m  |     1.071547  |             |  4.4s"
       ]
      },
      {
       "output_type": "stream",
       "stream": "stdout",
       "text": [
        "\n",
        "   501  |    0.011674  |  \u001b[32m  0.010968\u001b[0m  |     1.064315  |             |  4.4s"
       ]
      },
      {
       "output_type": "stream",
       "stream": "stdout",
       "text": [
        "\n",
        "   502  |  \u001b[94m  0.011592\u001b[0m  |  \u001b[32m  0.010946\u001b[0m  |     1.059086  |             |  4.4s"
       ]
      },
      {
       "output_type": "stream",
       "stream": "stdout",
       "text": [
        "\n",
        "   503  |    0.011658  |    0.010948  |     1.064818  |             |  4.4s"
       ]
      },
      {
       "output_type": "stream",
       "stream": "stdout",
       "text": [
        "\n",
        "   504  |    0.011640  |    0.010966  |     1.061436  |             |  4.4s"
       ]
      },
      {
       "output_type": "stream",
       "stream": "stdout",
       "text": [
        "\n",
        "   505  |    0.011625  |  \u001b[32m  0.010930\u001b[0m  |     1.063557  |             |  4.4s"
       ]
      },
      {
       "output_type": "stream",
       "stream": "stdout",
       "text": [
        "\n",
        "   506  |    0.011593  |  \u001b[32m  0.010907\u001b[0m  |     1.062864  |             |  4.4s"
       ]
      },
      {
       "output_type": "stream",
       "stream": "stdout",
       "text": [
        "\n",
        "   507  |    0.011685  |    0.010914  |     1.070611  |             |  4.4s"
       ]
      },
      {
       "output_type": "stream",
       "stream": "stdout",
       "text": [
        "\n",
        "   508  |    0.011596  |    0.010922  |     1.061706  |             |  4.4s"
       ]
      },
      {
       "output_type": "stream",
       "stream": "stdout",
       "text": [
        "\n",
        "   509  |  \u001b[94m  0.011564\u001b[0m  |    0.010928  |     1.058227  |             |  4.4s"
       ]
      },
      {
       "output_type": "stream",
       "stream": "stdout",
       "text": [
        "\n",
        "   510  |    0.011565  |  \u001b[32m  0.010876\u001b[0m  |     1.063375  |             |  4.4s"
       ]
      },
      {
       "output_type": "stream",
       "stream": "stdout",
       "text": [
        "\n",
        "   511  |  \u001b[94m  0.011529\u001b[0m  |  \u001b[32m  0.010876\u001b[0m  |     1.060108  |             |  4.4s"
       ]
      },
      {
       "output_type": "stream",
       "stream": "stdout",
       "text": [
        "\n",
        "   512  |    0.011590  |  \u001b[32m  0.010871\u001b[0m  |     1.066144  |             |  4.4s"
       ]
      },
      {
       "output_type": "stream",
       "stream": "stdout",
       "text": [
        "\n",
        "   513  |    0.011569  |  \u001b[32m  0.010841\u001b[0m  |     1.067110  |             |  4.4s"
       ]
      },
      {
       "output_type": "stream",
       "stream": "stdout",
       "text": [
        "\n",
        "   514  |  \u001b[94m  0.011495\u001b[0m  |    0.010864  |     1.058128  |             |  4.4s"
       ]
      },
      {
       "output_type": "stream",
       "stream": "stdout",
       "text": [
        "\n",
        "   515  |  \u001b[94m  0.011476\u001b[0m  |    0.010854  |     1.057339  |             |  4.4s"
       ]
      },
      {
       "output_type": "stream",
       "stream": "stdout",
       "text": [
        "\n",
        "   516  |  \u001b[94m  0.011446\u001b[0m  |    0.010849  |     1.055006  |             |  4.4s"
       ]
      },
      {
       "output_type": "stream",
       "stream": "stdout",
       "text": [
        "\n",
        "   517  |    0.011505  |    0.010860  |     1.059349  |             |  4.4s"
       ]
      },
      {
       "output_type": "stream",
       "stream": "stdout",
       "text": [
        "\n",
        "   518  |    0.011496  |  \u001b[32m  0.010811\u001b[0m  |     1.063319  |             |  4.4s"
       ]
      },
      {
       "output_type": "stream",
       "stream": "stdout",
       "text": [
        "\n",
        "   519  |    0.011464  |    0.010824  |     1.059069  |             |  4.4s"
       ]
      },
      {
       "output_type": "stream",
       "stream": "stdout",
       "text": [
        "\n",
        "   520  |  \u001b[94m  0.011359\u001b[0m  |  \u001b[32m  0.010795\u001b[0m  |     1.052205  |             |  4.4s"
       ]
      },
      {
       "output_type": "stream",
       "stream": "stdout",
       "text": [
        "\n",
        "   521  |    0.011429  |    0.010817  |     1.056620  |             |  4.4s"
       ]
      },
      {
       "output_type": "stream",
       "stream": "stdout",
       "text": [
        "\n",
        "   522  |    0.011362  |    0.010795  |     1.052452  |             |  4.4s"
       ]
      },
      {
       "output_type": "stream",
       "stream": "stdout",
       "text": [
        "\n",
        "   523  |    0.011533  |    0.010797  |     1.068183  |             |  4.4s"
       ]
      },
      {
       "output_type": "stream",
       "stream": "stdout",
       "text": [
        "\n",
        "   524  |  \u001b[94m  0.011331\u001b[0m  |  \u001b[32m  0.010777\u001b[0m  |     1.051412  |             |  4.4s"
       ]
      },
      {
       "output_type": "stream",
       "stream": "stdout",
       "text": [
        "\n",
        "   525  |    0.011379  |    0.010798  |     1.053748  |             |  4.4s"
       ]
      },
      {
       "output_type": "stream",
       "stream": "stdout",
       "text": [
        "\n",
        "   526  |    0.011366  |  \u001b[32m  0.010756\u001b[0m  |     1.056769  |             |  4.4s"
       ]
      },
      {
       "output_type": "stream",
       "stream": "stdout",
       "text": [
        "\n",
        "   527  |    0.011455  |    0.010759  |     1.064650  |             |  4.4s"
       ]
      },
      {
       "output_type": "stream",
       "stream": "stdout",
       "text": [
        "\n",
        "   528  |  \u001b[94m  0.011242\u001b[0m  |  \u001b[32m  0.010745\u001b[0m  |     1.046201  |             |  4.4s"
       ]
      },
      {
       "output_type": "stream",
       "stream": "stdout",
       "text": [
        "\n",
        "   529  |    0.011345  |    0.010745  |     1.055824  |             |  4.4s"
       ]
      },
      {
       "output_type": "stream",
       "stream": "stdout",
       "text": [
        "\n",
        "   530  |    0.011340  |    0.010757  |     1.054199  |             |  4.4s"
       ]
      },
      {
       "output_type": "stream",
       "stream": "stdout",
       "text": [
        "\n",
        "   531  |    0.011321  |    0.010748  |     1.053307  |             |  4.4s"
       ]
      },
      {
       "output_type": "stream",
       "stream": "stdout",
       "text": [
        "\n",
        "   532  |    0.011247  |  \u001b[32m  0.010712\u001b[0m  |     1.049899  |             |  4.4s"
       ]
      },
      {
       "output_type": "stream",
       "stream": "stdout",
       "text": [
        "\n",
        "   533  |    0.011310  |  \u001b[32m  0.010691\u001b[0m  |     1.057898  |             |  4.4s"
       ]
      },
      {
       "output_type": "stream",
       "stream": "stdout",
       "text": [
        "\n",
        "   534  |    0.011267  |  \u001b[32m  0.010689\u001b[0m  |     1.054053  |             |  4.4s"
       ]
      },
      {
       "output_type": "stream",
       "stream": "stdout",
       "text": [
        "\n",
        "   535  |    0.011282  |    0.010690  |     1.055381  |             |  4.4s"
       ]
      },
      {
       "output_type": "stream",
       "stream": "stdout",
       "text": [
        "\n",
        "   536  |  \u001b[94m  0.011240\u001b[0m  |    0.010700  |     1.050465  |             |  4.4s"
       ]
      },
      {
       "output_type": "stream",
       "stream": "stdout",
       "text": [
        "\n",
        "   537  |    0.011279  |  \u001b[32m  0.010682\u001b[0m  |     1.055887  |             |  4.4s"
       ]
      },
      {
       "output_type": "stream",
       "stream": "stdout",
       "text": [
        "\n",
        "   538  |  \u001b[94m  0.011183\u001b[0m  |  \u001b[32m  0.010672\u001b[0m  |     1.047870  |             |  4.4s"
       ]
      },
      {
       "output_type": "stream",
       "stream": "stdout",
       "text": [
        "\n",
        "   539  |  \u001b[94m  0.011099\u001b[0m  |  \u001b[32m  0.010656\u001b[0m  |     1.041532  |             |  4.4s"
       ]
      },
      {
       "output_type": "stream",
       "stream": "stdout",
       "text": [
        "\n",
        "   540  |    0.011242  |  \u001b[32m  0.010645\u001b[0m  |     1.056077  |             |  4.4s"
       ]
      },
      {
       "output_type": "stream",
       "stream": "stdout",
       "text": [
        "\n",
        "   541  |    0.011117  |    0.010663  |     1.042557  |             |  4.4s"
       ]
      },
      {
       "output_type": "stream",
       "stream": "stdout",
       "text": [
        "\n",
        "   542  |    0.011203  |  \u001b[32m  0.010632\u001b[0m  |     1.053689  |             |  4.4s"
       ]
      },
      {
       "output_type": "stream",
       "stream": "stdout",
       "text": [
        "\n",
        "   543  |    0.011154  |    0.010632  |     1.049075  |             |  4.4s"
       ]
      },
      {
       "output_type": "stream",
       "stream": "stdout",
       "text": [
        "\n",
        "   544  |    0.011155  |    0.010637  |     1.048732  |             |  4.4s"
       ]
      },
      {
       "output_type": "stream",
       "stream": "stdout",
       "text": [
        "\n",
        "   545  |  \u001b[94m  0.011050\u001b[0m  |    0.010633  |     1.039191  |             |  4.4s"
       ]
      },
      {
       "output_type": "stream",
       "stream": "stdout",
       "text": [
        "\n",
        "   546  |    0.011092  |  \u001b[32m  0.010581\u001b[0m  |     1.048290  |             |  4.4s"
       ]
      },
      {
       "output_type": "stream",
       "stream": "stdout",
       "text": [
        "\n",
        "   547  |    0.011083  |    0.010589  |     1.046654  |             |  4.4s"
       ]
      },
      {
       "output_type": "stream",
       "stream": "stdout",
       "text": [
        "\n",
        "   548  |    0.011157  |    0.010590  |     1.053538  |             |  4.4s"
       ]
      },
      {
       "output_type": "stream",
       "stream": "stdout",
       "text": [
        "\n",
        "   549  |    0.011067  |    0.010596  |     1.044447  |             |  4.4s"
       ]
      },
      {
       "output_type": "stream",
       "stream": "stdout",
       "text": [
        "\n",
        "   550  |  \u001b[94m  0.011021\u001b[0m  |    0.010590  |     1.040682  |             |  4.4s"
       ]
      },
      {
       "output_type": "stream",
       "stream": "stdout",
       "text": [
        "\n",
        "   551  |  \u001b[94m  0.010999\u001b[0m  |  \u001b[32m  0.010561\u001b[0m  |     1.041494  |             |  4.4s"
       ]
      },
      {
       "output_type": "stream",
       "stream": "stdout",
       "text": [
        "\n",
        "   552  |    0.011015  |    0.010564  |     1.042632  |             |  4.4s"
       ]
      },
      {
       "output_type": "stream",
       "stream": "stdout",
       "text": [
        "\n",
        "   553  |    0.011046  |    0.010581  |     1.043896  |             |  4.4s"
       ]
      },
      {
       "output_type": "stream",
       "stream": "stdout",
       "text": [
        "\n",
        "   554  |    0.011001  |  \u001b[32m  0.010551\u001b[0m  |     1.042675  |             |  4.4s"
       ]
      },
      {
       "output_type": "stream",
       "stream": "stdout",
       "text": [
        "\n",
        "   555  |    0.011032  |    0.010566  |     1.044021  |             |  4.4s"
       ]
      },
      {
       "output_type": "stream",
       "stream": "stdout",
       "text": [
        "\n",
        "   556  |  \u001b[94m  0.010994\u001b[0m  |  \u001b[32m  0.010537\u001b[0m  |     1.043358  |             |  4.4s"
       ]
      },
      {
       "output_type": "stream",
       "stream": "stdout",
       "text": [
        "\n",
        "   557  |  \u001b[94m  0.010946\u001b[0m  |    0.010542  |     1.038388  |             |  4.4s"
       ]
      },
      {
       "output_type": "stream",
       "stream": "stdout",
       "text": [
        "\n",
        "   558  |    0.010979  |  \u001b[32m  0.010526\u001b[0m  |     1.042960  |             |  4.4s"
       ]
      },
      {
       "output_type": "stream",
       "stream": "stdout",
       "text": [
        "\n",
        "   559  |    0.010985  |    0.010529  |     1.043250  |             |  4.4s"
       ]
      },
      {
       "output_type": "stream",
       "stream": "stdout",
       "text": [
        "\n",
        "   560  |  \u001b[94m  0.010938\u001b[0m  |  \u001b[32m  0.010508\u001b[0m  |     1.040927  |             |  4.4s"
       ]
      },
      {
       "output_type": "stream",
       "stream": "stdout",
       "text": [
        "\n",
        "   561  |  \u001b[94m  0.010877\u001b[0m  |  \u001b[32m  0.010472\u001b[0m  |     1.038654  |             |  4.4s"
       ]
      },
      {
       "output_type": "stream",
       "stream": "stdout",
       "text": [
        "\n",
        "   562  |    0.011000  |  \u001b[32m  0.010467\u001b[0m  |     1.050937  |             |  4.4s"
       ]
      },
      {
       "output_type": "stream",
       "stream": "stdout",
       "text": [
        "\n",
        "   563  |    0.010896  |    0.010494  |     1.038374  |             |  4.4s"
       ]
      },
      {
       "output_type": "stream",
       "stream": "stdout",
       "text": [
        "\n",
        "   564  |  \u001b[94m  0.010817\u001b[0m  |  \u001b[32m  0.010459\u001b[0m  |     1.034189  |             |  4.4s"
       ]
      },
      {
       "output_type": "stream",
       "stream": "stdout",
       "text": [
        "\n",
        "   565  |    0.010872  |    0.010496  |     1.035835  |             |  4.4s"
       ]
      },
      {
       "output_type": "stream",
       "stream": "stdout",
       "text": [
        "\n",
        "   566  |    0.010825  |  \u001b[32m  0.010459\u001b[0m  |     1.034990  |             |  4.4s"
       ]
      },
      {
       "output_type": "stream",
       "stream": "stdout",
       "text": [
        "\n",
        "   567  |    0.010837  |  \u001b[32m  0.010444\u001b[0m  |     1.037632  |             |  4.4s"
       ]
      },
      {
       "output_type": "stream",
       "stream": "stdout",
       "text": [
        "\n",
        "   568  |    0.010923  |    0.010448  |     1.045539  |             |  4.4s"
       ]
      },
      {
       "output_type": "stream",
       "stream": "stdout",
       "text": [
        "\n",
        "   569  |    0.010823  |  \u001b[32m  0.010431\u001b[0m  |     1.037536  |             |  4.4s"
       ]
      },
      {
       "output_type": "stream",
       "stream": "stdout",
       "text": [
        "\n",
        "   570  |    0.010825  |  \u001b[32m  0.010428\u001b[0m  |     1.038032  |             |  4.4s"
       ]
      },
      {
       "output_type": "stream",
       "stream": "stdout",
       "text": [
        "\n",
        "   571  |  \u001b[94m  0.010811\u001b[0m  |  \u001b[32m  0.010426\u001b[0m  |     1.036919  |             |  4.4s"
       ]
      },
      {
       "output_type": "stream",
       "stream": "stdout",
       "text": [
        "\n",
        "   572  |    0.010824  |  \u001b[32m  0.010389\u001b[0m  |     1.041789  |             |  4.4s"
       ]
      },
      {
       "output_type": "stream",
       "stream": "stdout",
       "text": [
        "\n",
        "   573  |  \u001b[94m  0.010785\u001b[0m  |    0.010406  |     1.036489  |             |  4.4s"
       ]
      },
      {
       "output_type": "stream",
       "stream": "stdout",
       "text": [
        "\n",
        "   574  |  \u001b[94m  0.010768\u001b[0m  |    0.010417  |     1.033656  |             |  4.4s"
       ]
      },
      {
       "output_type": "stream",
       "stream": "stdout",
       "text": [
        "\n",
        "   575  |  \u001b[94m  0.010739\u001b[0m  |  \u001b[32m  0.010377\u001b[0m  |     1.034911  |             |  4.4s"
       ]
      },
      {
       "output_type": "stream",
       "stream": "stdout",
       "text": [
        "\n",
        "   576  |    0.010778  |  \u001b[32m  0.010364\u001b[0m  |     1.039919  |             |  4.4s"
       ]
      },
      {
       "output_type": "stream",
       "stream": "stdout",
       "text": [
        "\n",
        "   577  |    0.010772  |    0.010367  |     1.039029  |             |  4.4s"
       ]
      },
      {
       "output_type": "stream",
       "stream": "stdout",
       "text": [
        "\n",
        "   578  |  \u001b[94m  0.010631\u001b[0m  |    0.010370  |     1.025214  |             |  4.4s"
       ]
      },
      {
       "output_type": "stream",
       "stream": "stdout",
       "text": [
        "\n",
        "   579  |    0.010740  |    0.010366  |     1.036139  |             |  4.4s"
       ]
      },
      {
       "output_type": "stream",
       "stream": "stdout",
       "text": [
        "\n",
        "   580  |    0.010675  |  \u001b[32m  0.010333\u001b[0m  |     1.033171  |             |  4.4s"
       ]
      },
      {
       "output_type": "stream",
       "stream": "stdout",
       "text": [
        "\n",
        "   581  |    0.010698  |    0.010341  |     1.034522  |             |  4.4s"
       ]
      },
      {
       "output_type": "stream",
       "stream": "stdout",
       "text": [
        "\n",
        "   582  |    0.010667  |    0.010352  |     1.030432  |             |  4.4s"
       ]
      },
      {
       "output_type": "stream",
       "stream": "stdout",
       "text": [
        "\n",
        "   583  |    0.010678  |    0.010349  |     1.031757  |             |  4.4s"
       ]
      },
      {
       "output_type": "stream",
       "stream": "stdout",
       "text": [
        "\n",
        "   584  |    0.010645  |    0.010356  |     1.027883  |             |  4.4s"
       ]
      },
      {
       "output_type": "stream",
       "stream": "stdout",
       "text": [
        "\n",
        "   585  |    0.010678  |    0.010351  |     1.031641  |             |  4.4s"
       ]
      },
      {
       "output_type": "stream",
       "stream": "stdout",
       "text": [
        "\n",
        "   586  |    0.010666  |    0.010358  |     1.029751  |             |  4.4s"
       ]
      },
      {
       "output_type": "stream",
       "stream": "stdout",
       "text": [
        "\n",
        "   587  |  \u001b[94m  0.010598\u001b[0m  |    0.010347  |     1.024341  |             |  4.4s"
       ]
      },
      {
       "output_type": "stream",
       "stream": "stdout",
       "text": [
        "\n",
        "   588  |    0.010614  |  \u001b[32m  0.010297\u001b[0m  |     1.030820  |             |  4.4s"
       ]
      },
      {
       "output_type": "stream",
       "stream": "stdout",
       "text": [
        "\n",
        "   589  |    0.010626  |    0.010312  |     1.030483  |             |  4.4s"
       ]
      },
      {
       "output_type": "stream",
       "stream": "stdout",
       "text": [
        "\n",
        "   590  |  \u001b[94m  0.010589\u001b[0m  |  \u001b[32m  0.010280\u001b[0m  |     1.030073  |             |  4.4s"
       ]
      },
      {
       "output_type": "stream",
       "stream": "stdout",
       "text": [
        "\n",
        "   591  |  \u001b[94m  0.010508\u001b[0m  |    0.010283  |     1.021855  |             |  4.4s"
       ]
      },
      {
       "output_type": "stream",
       "stream": "stdout",
       "text": [
        "\n",
        "   592  |    0.010553  |    0.010301  |     1.024420  |             |  4.4s"
       ]
      },
      {
       "output_type": "stream",
       "stream": "stdout",
       "text": [
        "\n",
        "   593  |    0.010589  |    0.010286  |     1.029408  |             |  4.4s"
       ]
      },
      {
       "output_type": "stream",
       "stream": "stdout",
       "text": [
        "\n",
        "   594  |    0.010527  |    0.010305  |     1.021559  |             |  4.4s"
       ]
      },
      {
       "output_type": "stream",
       "stream": "stdout",
       "text": [
        "\n",
        "   595  |    0.010530  |  \u001b[32m  0.010267\u001b[0m  |     1.025692  |             |  4.4s"
       ]
      },
      {
       "output_type": "stream",
       "stream": "stdout",
       "text": [
        "\n",
        "   596  |    0.010540  |    0.010273  |     1.025938  |             |  4.4s"
       ]
      },
      {
       "output_type": "stream",
       "stream": "stdout",
       "text": [
        "\n",
        "   597  |    0.010576  |  \u001b[32m  0.010259\u001b[0m  |     1.030895  |             |  4.4s"
       ]
      },
      {
       "output_type": "stream",
       "stream": "stdout",
       "text": [
        "\n",
        "   598  |    0.010521  |  \u001b[32m  0.010215\u001b[0m  |     1.029976  |             |  4.4s"
       ]
      },
      {
       "output_type": "stream",
       "stream": "stdout",
       "text": [
        "\n",
        "   599  |    0.010524  |    0.010247  |     1.027042  |             |  4.4s"
       ]
      },
      {
       "output_type": "stream",
       "stream": "stdout",
       "text": [
        "\n",
        "   600  |  \u001b[94m  0.010456\u001b[0m  |    0.010250  |     1.020106  |             |  4.4s"
       ]
      },
      {
       "output_type": "stream",
       "stream": "stdout",
       "text": [
        "\n",
        "   601  |    0.010545  |    0.010245  |     1.029330  |             |  4.4s"
       ]
      },
      {
       "output_type": "stream",
       "stream": "stdout",
       "text": [
        "\n",
        "   602  |    0.010492  |  \u001b[32m  0.010209\u001b[0m  |     1.027661  |             |  4.4s"
       ]
      },
      {
       "output_type": "stream",
       "stream": "stdout",
       "text": [
        "\n",
        "   603  |    0.010483  |    0.010233  |     1.024430  |             |  4.4s"
       ]
      },
      {
       "output_type": "stream",
       "stream": "stdout",
       "text": [
        "\n",
        "   604  |  \u001b[94m  0.010441\u001b[0m  |    0.010223  |     1.021352  |             |  4.4s"
       ]
      },
      {
       "output_type": "stream",
       "stream": "stdout",
       "text": [
        "\n",
        "   605  |  \u001b[94m  0.010366\u001b[0m  |    0.010224  |     1.013913  |             |  4.4s"
       ]
      },
      {
       "output_type": "stream",
       "stream": "stdout",
       "text": [
        "\n",
        "   606  |    0.010398  |    0.010212  |     1.018174  |             |  4.4s"
       ]
      },
      {
       "output_type": "stream",
       "stream": "stdout",
       "text": [
        "\n",
        "   607  |    0.010398  |  \u001b[32m  0.010195\u001b[0m  |     1.019956  |             |  4.4s"
       ]
      },
      {
       "output_type": "stream",
       "stream": "stdout",
       "text": [
        "\n",
        "   608  |    0.010408  |  \u001b[32m  0.010183\u001b[0m  |     1.022086  |             |  4.4s"
       ]
      },
      {
       "output_type": "stream",
       "stream": "stdout",
       "text": [
        "\n",
        "   609  |    0.010494  |    0.010200  |     1.028821  |             |  4.4s"
       ]
      },
      {
       "output_type": "stream",
       "stream": "stdout",
       "text": [
        "\n",
        "   610  |  \u001b[94m  0.010274\u001b[0m  |  \u001b[32m  0.010172\u001b[0m  |     1.010048  |             |  4.4s"
       ]
      },
      {
       "output_type": "stream",
       "stream": "stdout",
       "text": [
        "\n",
        "   611  |    0.010298  |    0.010184  |     1.011173  |             |  4.4s"
       ]
      },
      {
       "output_type": "stream",
       "stream": "stdout",
       "text": [
        "\n",
        "   612  |    0.010363  |    0.010176  |     1.018391  |             |  4.4s"
       ]
      },
      {
       "output_type": "stream",
       "stream": "stdout",
       "text": [
        "\n",
        "   613  |    0.010355  |  \u001b[32m  0.010141\u001b[0m  |     1.021159  |             |  4.4s"
       ]
      },
      {
       "output_type": "stream",
       "stream": "stdout",
       "text": [
        "\n",
        "   614  |    0.010278  |    0.010142  |     1.013419  |             |  4.4s"
       ]
      },
      {
       "output_type": "stream",
       "stream": "stdout",
       "text": [
        "\n",
        "   615  |    0.010354  |    0.010154  |     1.019678  |             |  4.4s"
       ]
      },
      {
       "output_type": "stream",
       "stream": "stdout",
       "text": [
        "\n",
        "   616  |  \u001b[94m  0.010263\u001b[0m  |  \u001b[32m  0.010121\u001b[0m  |     1.014052  |             |  4.4s"
       ]
      },
      {
       "output_type": "stream",
       "stream": "stdout",
       "text": [
        "\n",
        "   617  |  \u001b[94m  0.010262\u001b[0m  |    0.010128  |     1.013209  |             |  4.4s"
       ]
      },
      {
       "output_type": "stream",
       "stream": "stdout",
       "text": [
        "\n",
        "   618  |  \u001b[94m  0.010225\u001b[0m  |    0.010135  |     1.008883  |             |  4.4s"
       ]
      },
      {
       "output_type": "stream",
       "stream": "stdout",
       "text": [
        "\n",
        "   619  |    0.010235  |    0.010121  |     1.011206  |             |  4.4s"
       ]
      },
      {
       "output_type": "stream",
       "stream": "stdout",
       "text": [
        "\n",
        "   620  |    0.010245  |  \u001b[32m  0.010100\u001b[0m  |     1.014358  |             |  4.4s"
       ]
      },
      {
       "output_type": "stream",
       "stream": "stdout",
       "text": [
        "\n",
        "   621  |    0.010282  |    0.010106  |     1.017406  |             |  4.4s"
       ]
      },
      {
       "output_type": "stream",
       "stream": "stdout",
       "text": [
        "\n",
        "   622  |    0.010237  |    0.010116  |     1.012015  |             |  4.4s"
       ]
      },
      {
       "output_type": "stream",
       "stream": "stdout",
       "text": [
        "\n",
        "   623  |  \u001b[94m  0.010221\u001b[0m  |  \u001b[32m  0.010093\u001b[0m  |     1.012735  |             |  4.4s"
       ]
      },
      {
       "output_type": "stream",
       "stream": "stdout",
       "text": [
        "\n",
        "   624  |    0.010225  |  \u001b[32m  0.010074\u001b[0m  |     1.014933  |             |  4.4s"
       ]
      },
      {
       "output_type": "stream",
       "stream": "stdout",
       "text": [
        "\n",
        "   625  |  \u001b[94m  0.010180\u001b[0m  |    0.010079  |     1.010060  |             |  4.4s"
       ]
      },
      {
       "output_type": "stream",
       "stream": "stdout",
       "text": [
        "\n",
        "   626  |  \u001b[94m  0.010124\u001b[0m  |  \u001b[32m  0.010048\u001b[0m  |     1.007586  |             |  4.4s"
       ]
      },
      {
       "output_type": "stream",
       "stream": "stdout",
       "text": [
        "\n",
        "   627  |    0.010262  |    0.010054  |     1.020663  |             |  4.4s"
       ]
      },
      {
       "output_type": "stream",
       "stream": "stdout",
       "text": [
        "\n",
        "   628  |    0.010173  |    0.010099  |     1.007232  |             |  4.4s"
       ]
      },
      {
       "output_type": "stream",
       "stream": "stdout",
       "text": [
        "\n",
        "   629  |    0.010228  |    0.010052  |     1.017457  |             |  4.4s"
       ]
      },
      {
       "output_type": "stream",
       "stream": "stdout",
       "text": [
        "\n",
        "   630  |    0.010147  |  \u001b[32m  0.010041\u001b[0m  |     1.010597  |             |  4.4s"
       ]
      },
      {
       "output_type": "stream",
       "stream": "stdout",
       "text": [
        "\n",
        "   631  |  \u001b[94m  0.010082\u001b[0m  |    0.010043  |     1.003880  |             |  4.4s"
       ]
      },
      {
       "output_type": "stream",
       "stream": "stdout",
       "text": [
        "\n",
        "   632  |    0.010127  |    0.010056  |     1.007098  |             |  4.4s"
       ]
      },
      {
       "output_type": "stream",
       "stream": "stdout",
       "text": [
        "\n",
        "   633  |    0.010105  |  \u001b[32m  0.009997\u001b[0m  |     1.010848  |             |  4.4s"
       ]
      },
      {
       "output_type": "stream",
       "stream": "stdout",
       "text": [
        "\n",
        "   634  |    0.010088  |    0.010038  |     1.005015  |             |  4.4s"
       ]
      },
      {
       "output_type": "stream",
       "stream": "stdout",
       "text": [
        "\n",
        "   635  |  \u001b[94m  0.010060\u001b[0m  |    0.010040  |     1.001994  |             |  4.4s"
       ]
      },
      {
       "output_type": "stream",
       "stream": "stdout",
       "text": [
        "\n",
        "   636  |    0.010127  |    0.010005  |     1.012140  |             |  4.4s"
       ]
      },
      {
       "output_type": "stream",
       "stream": "stdout",
       "text": [
        "\n",
        "   637  |    0.010113  |    0.010033  |     1.007986  |             |  4.4s"
       ]
      },
      {
       "output_type": "stream",
       "stream": "stdout",
       "text": [
        "\n",
        "   638  |    0.010114  |    0.010014  |     1.010014  |             |  4.4s"
       ]
      },
      {
       "output_type": "stream",
       "stream": "stdout",
       "text": [
        "\n",
        "   639  |    0.010132  |    0.010031  |     1.010055  |             |  4.4s"
       ]
      },
      {
       "output_type": "stream",
       "stream": "stdout",
       "text": [
        "\n",
        "   640  |  \u001b[94m  0.010055\u001b[0m  |    0.010018  |     1.003746  |             |  4.4s"
       ]
      },
      {
       "output_type": "stream",
       "stream": "stdout",
       "text": [
        "\n",
        "   641  |  \u001b[94m  0.009980\u001b[0m  |  \u001b[32m  0.009995\u001b[0m  |     0.998453  |             |  4.4s"
       ]
      },
      {
       "output_type": "stream",
       "stream": "stdout",
       "text": [
        "\n",
        "   642  |    0.010006  |    0.010001  |     1.000529  |             |  4.4s"
       ]
      },
      {
       "output_type": "stream",
       "stream": "stdout",
       "text": [
        "\n",
        "   643  |    0.009986  |  \u001b[32m  0.009990\u001b[0m  |     0.999562  |             |  4.4s"
       ]
      },
      {
       "output_type": "stream",
       "stream": "stdout",
       "text": [
        "\n",
        "   644  |    0.010048  |  \u001b[32m  0.009982\u001b[0m  |     1.006654  |             |  4.4s"
       ]
      },
      {
       "output_type": "stream",
       "stream": "stdout",
       "text": [
        "\n",
        "   645  |    0.010059  |    0.009988  |     1.007115  |             |  4.4s"
       ]
      },
      {
       "output_type": "stream",
       "stream": "stdout",
       "text": [
        "\n",
        "   646  |  \u001b[94m  0.009956\u001b[0m  |  \u001b[32m  0.009967\u001b[0m  |     0.998940  |             |  4.4s"
       ]
      },
      {
       "output_type": "stream",
       "stream": "stdout",
       "text": [
        "\n",
        "   647  |    0.009986  |    0.009972  |     1.001392  |             |  4.4s"
       ]
      },
      {
       "output_type": "stream",
       "stream": "stdout",
       "text": [
        "\n",
        "   648  |    0.009970  |  \u001b[32m  0.009948\u001b[0m  |     1.002273  |             |  4.4s"
       ]
      },
      {
       "output_type": "stream",
       "stream": "stdout",
       "text": [
        "\n",
        "   649  |  \u001b[94m  0.009943\u001b[0m  |    0.009948  |     0.999457  |             |  4.4s"
       ]
      },
      {
       "output_type": "stream",
       "stream": "stdout",
       "text": [
        "\n",
        "   650  |  \u001b[94m  0.009888\u001b[0m  |    0.009974  |     0.991317  |             |  4.4s"
       ]
      },
      {
       "output_type": "stream",
       "stream": "stdout",
       "text": [
        "\n",
        "   651  |    0.009964  |    0.009965  |     0.999906  |             |  4.4s"
       ]
      },
      {
       "output_type": "stream",
       "stream": "stdout",
       "text": [
        "\n",
        "   652  |  \u001b[94m  0.009865\u001b[0m  |  \u001b[32m  0.009927\u001b[0m  |     0.993762  |             |  4.4s"
       ]
      },
      {
       "output_type": "stream",
       "stream": "stdout",
       "text": [
        "\n",
        "   653  |    0.009974  |    0.009928  |     1.004567  |             |  4.4s"
       ]
      },
      {
       "output_type": "stream",
       "stream": "stdout",
       "text": [
        "\n",
        "   654  |    0.010020  |    0.009932  |     1.008795  |             |  4.4s"
       ]
      },
      {
       "output_type": "stream",
       "stream": "stdout",
       "text": [
        "\n",
        "   655  |    0.009902  |  \u001b[32m  0.009919\u001b[0m  |     0.998257  |             |  4.4s"
       ]
      },
      {
       "output_type": "stream",
       "stream": "stdout",
       "text": [
        "\n",
        "   656  |    0.009885  |  \u001b[32m  0.009910\u001b[0m  |     0.997491  |             |  4.4s"
       ]
      },
      {
       "output_type": "stream",
       "stream": "stdout",
       "text": [
        "\n",
        "   657  |    0.009926  |    0.009921  |     1.000533  |             |  4.4s"
       ]
      },
      {
       "output_type": "stream",
       "stream": "stdout",
       "text": [
        "\n",
        "   658  |    0.009903  |    0.009918  |     0.998518  |             |  4.4s"
       ]
      },
      {
       "output_type": "stream",
       "stream": "stdout",
       "text": [
        "\n",
        "   659  |  \u001b[94m  0.009861\u001b[0m  |  \u001b[32m  0.009891\u001b[0m  |     0.996888  |             |  4.4s"
       ]
      },
      {
       "output_type": "stream",
       "stream": "stdout",
       "text": [
        "\n",
        "   660  |    0.009880  |    0.009909  |     0.997099  |             |  4.4s"
       ]
      },
      {
       "output_type": "stream",
       "stream": "stdout",
       "text": [
        "\n",
        "   661  |    0.009870  |    0.009899  |     0.997054  |             |  4.4s"
       ]
      },
      {
       "output_type": "stream",
       "stream": "stdout",
       "text": [
        "\n",
        "   662  |  \u001b[94m  0.009825\u001b[0m  |  \u001b[32m  0.009884\u001b[0m  |     0.994043  |             |  4.4s"
       ]
      },
      {
       "output_type": "stream",
       "stream": "stdout",
       "text": [
        "\n",
        "   663  |    0.009838  |  \u001b[32m  0.009879\u001b[0m  |     0.995872  |             |  4.4s"
       ]
      },
      {
       "output_type": "stream",
       "stream": "stdout",
       "text": [
        "\n",
        "   664  |  \u001b[94m  0.009729\u001b[0m  |  \u001b[32m  0.009857\u001b[0m  |     0.987009  |             |  4.4s"
       ]
      },
      {
       "output_type": "stream",
       "stream": "stdout",
       "text": [
        "\n",
        "   665  |    0.009781  |  \u001b[32m  0.009855\u001b[0m  |     0.992522  |             |  4.4s"
       ]
      },
      {
       "output_type": "stream",
       "stream": "stdout",
       "text": [
        "\n",
        "   666  |    0.009846  |    0.009857  |     0.998845  |             |  4.4s"
       ]
      },
      {
       "output_type": "stream",
       "stream": "stdout",
       "text": [
        "\n",
        "   667  |  \u001b[94m  0.009721\u001b[0m  |    0.009861  |     0.985791  |             |  4.4s"
       ]
      },
      {
       "output_type": "stream",
       "stream": "stdout",
       "text": [
        "\n",
        "   668  |  \u001b[94m  0.009714\u001b[0m  |  \u001b[32m  0.009836\u001b[0m  |     0.987573  |             |  4.4s"
       ]
      },
      {
       "output_type": "stream",
       "stream": "stdout",
       "text": [
        "\n",
        "   669  |  \u001b[94m  0.009700\u001b[0m  |  \u001b[32m  0.009834\u001b[0m  |     0.986340  |             |  4.4s"
       ]
      },
      {
       "output_type": "stream",
       "stream": "stdout",
       "text": [
        "\n",
        "   670  |    0.009751  |  \u001b[32m  0.009811\u001b[0m  |     0.993836  |             |  4.4s"
       ]
      },
      {
       "output_type": "stream",
       "stream": "stdout",
       "text": [
        "\n",
        "   671  |  \u001b[94m  0.009672\u001b[0m  |  \u001b[32m  0.009810\u001b[0m  |     0.985871  |             |  4.4s"
       ]
      },
      {
       "output_type": "stream",
       "stream": "stdout",
       "text": [
        "\n",
        "   672  |    0.009722  |    0.009818  |     0.990240  |             |  4.4s"
       ]
      },
      {
       "output_type": "stream",
       "stream": "stdout",
       "text": [
        "\n",
        "   673  |    0.009724  |    0.009816  |     0.990581  |             |  4.4s"
       ]
      },
      {
       "output_type": "stream",
       "stream": "stdout",
       "text": [
        "\n",
        "   674  |  \u001b[94m  0.009647\u001b[0m  |    0.009820  |     0.982394  |             |  4.4s"
       ]
      },
      {
       "output_type": "stream",
       "stream": "stdout",
       "text": [
        "\n",
        "   675  |  \u001b[94m  0.009632\u001b[0m  |  \u001b[32m  0.009808\u001b[0m  |     0.982084  |             |  4.4s"
       ]
      },
      {
       "output_type": "stream",
       "stream": "stdout",
       "text": [
        "\n",
        "   676  |    0.009654  |  \u001b[32m  0.009802\u001b[0m  |     0.984864  |             |  4.4s"
       ]
      },
      {
       "output_type": "stream",
       "stream": "stdout",
       "text": [
        "\n",
        "   677  |  \u001b[94m  0.009592\u001b[0m  |    0.009804  |     0.978419  |             |  4.4s"
       ]
      },
      {
       "output_type": "stream",
       "stream": "stdout",
       "text": [
        "\n",
        "   678  |    0.009645  |    0.009806  |     0.983533  |             |  4.4s"
       ]
      },
      {
       "output_type": "stream",
       "stream": "stdout",
       "text": [
        "\n",
        "   679  |    0.009656  |  \u001b[32m  0.009783\u001b[0m  |     0.986990  |             |  4.4s"
       ]
      },
      {
       "output_type": "stream",
       "stream": "stdout",
       "text": [
        "\n",
        "   680  |    0.009649  |    0.009793  |     0.985367  |             |  4.4s"
       ]
      },
      {
       "output_type": "stream",
       "stream": "stdout",
       "text": [
        "\n",
        "   681  |    0.009621  |  \u001b[32m  0.009771\u001b[0m  |     0.984670  |             |  4.4s"
       ]
      },
      {
       "output_type": "stream",
       "stream": "stdout",
       "text": [
        "\n",
        "   682  |    0.009603  |    0.009815  |     0.978408  |             |  4.4s"
       ]
      },
      {
       "output_type": "stream",
       "stream": "stdout",
       "text": [
        "\n",
        "   683  |  \u001b[94m  0.009586\u001b[0m  |    0.009773  |     0.980838  |             |  4.4s"
       ]
      },
      {
       "output_type": "stream",
       "stream": "stdout",
       "text": [
        "\n",
        "   684  |    0.009621  |    0.009785  |     0.983245  |             |  4.4s"
       ]
      },
      {
       "output_type": "stream",
       "stream": "stdout",
       "text": [
        "\n",
        "   685  |    0.009639  |  \u001b[32m  0.009752\u001b[0m  |     0.988372  |             |  4.4s"
       ]
      },
      {
       "output_type": "stream",
       "stream": "stdout",
       "text": [
        "\n",
        "   686  |  \u001b[94m  0.009569\u001b[0m  |    0.009761  |     0.980300  |             |  4.4s"
       ]
      },
      {
       "output_type": "stream",
       "stream": "stdout",
       "text": [
        "\n",
        "   687  |  \u001b[94m  0.009559\u001b[0m  |  \u001b[32m  0.009750\u001b[0m  |     0.980361  |             |  4.4s"
       ]
      },
      {
       "output_type": "stream",
       "stream": "stdout",
       "text": [
        "\n",
        "   688  |  \u001b[94m  0.009519\u001b[0m  |  \u001b[32m  0.009718\u001b[0m  |     0.979539  |             |  4.4s"
       ]
      },
      {
       "output_type": "stream",
       "stream": "stdout",
       "text": [
        "\n",
        "   689  |    0.009637  |    0.009723  |     0.991167  |             |  4.4s"
       ]
      },
      {
       "output_type": "stream",
       "stream": "stdout",
       "text": [
        "\n",
        "   690  |    0.009614  |    0.009722  |     0.988935  |             |  4.4s"
       ]
      },
      {
       "output_type": "stream",
       "stream": "stdout",
       "text": [
        "\n",
        "   691  |  \u001b[94m  0.009445\u001b[0m  |  \u001b[32m  0.009699\u001b[0m  |     0.973767  |             |  4.4s"
       ]
      },
      {
       "output_type": "stream",
       "stream": "stdout",
       "text": [
        "\n",
        "   692  |    0.009467  |    0.009718  |     0.974148  |             |  4.4s"
       ]
      },
      {
       "output_type": "stream",
       "stream": "stdout",
       "text": [
        "\n",
        "   693  |    0.009483  |    0.009718  |     0.975810  |             |  4.4s"
       ]
      },
      {
       "output_type": "stream",
       "stream": "stdout",
       "text": [
        "\n",
        "   694  |  \u001b[94m  0.009439\u001b[0m  |  \u001b[32m  0.009688\u001b[0m  |     0.974317  |             |  4.4s"
       ]
      },
      {
       "output_type": "stream",
       "stream": "stdout",
       "text": [
        "\n",
        "   695  |    0.009460  |  \u001b[32m  0.009682\u001b[0m  |     0.977052  |             |  4.4s"
       ]
      },
      {
       "output_type": "stream",
       "stream": "stdout",
       "text": [
        "\n",
        "   696  |    0.009560  |  \u001b[32m  0.009679\u001b[0m  |     0.987693  |             |  4.4s"
       ]
      },
      {
       "output_type": "stream",
       "stream": "stdout",
       "text": [
        "\n",
        "   697  |  \u001b[94m  0.009427\u001b[0m  |    0.009689  |     0.972983  |             |  4.4s"
       ]
      },
      {
       "output_type": "stream",
       "stream": "stdout",
       "text": [
        "\n",
        "   698  |  \u001b[94m  0.009426\u001b[0m  |  \u001b[32m  0.009675\u001b[0m  |     0.974243  |             |  4.4s"
       ]
      },
      {
       "output_type": "stream",
       "stream": "stdout",
       "text": [
        "\n",
        "   699  |    0.009442  |  \u001b[32m  0.009674\u001b[0m  |     0.976025  |             |  4.4s"
       ]
      },
      {
       "output_type": "stream",
       "stream": "stdout",
       "text": [
        "\n",
        "   700  |    0.009498  |  \u001b[32m  0.009659\u001b[0m  |     0.983407  |             |  4.4s"
       ]
      },
      {
       "output_type": "stream",
       "stream": "stdout",
       "text": [
        "\n",
        "   701  |    0.009441  |  \u001b[32m  0.009645\u001b[0m  |     0.978879  |             |  4.4s"
       ]
      },
      {
       "output_type": "stream",
       "stream": "stdout",
       "text": [
        "\n",
        "   702  |    0.009462  |    0.009665  |     0.979036  |             |  4.4s"
       ]
      },
      {
       "output_type": "stream",
       "stream": "stdout",
       "text": [
        "\n",
        "   703  |  \u001b[94m  0.009344\u001b[0m  |    0.009659  |     0.967346  |             |  4.4s"
       ]
      },
      {
       "output_type": "stream",
       "stream": "stdout",
       "text": [
        "\n",
        "   704  |    0.009402  |    0.009656  |     0.973717  |             |  4.4s"
       ]
      },
      {
       "output_type": "stream",
       "stream": "stdout",
       "text": [
        "\n",
        "   705  |    0.009411  |    0.009652  |     0.975076  |             |  4.4s"
       ]
      },
      {
       "output_type": "stream",
       "stream": "stdout",
       "text": [
        "\n",
        "   706  |  \u001b[94m  0.009342\u001b[0m  |    0.009663  |     0.966780  |             |  4.4s"
       ]
      },
      {
       "output_type": "stream",
       "stream": "stdout",
       "text": [
        "\n",
        "   707  |  \u001b[94m  0.009332\u001b[0m  |  \u001b[32m  0.009643\u001b[0m  |     0.967819  |             |  4.4s"
       ]
      },
      {
       "output_type": "stream",
       "stream": "stdout",
       "text": [
        "\n",
        "   708  |  \u001b[94m  0.009283\u001b[0m  |  \u001b[32m  0.009628\u001b[0m  |     0.964159  |             |  4.4s"
       ]
      },
      {
       "output_type": "stream",
       "stream": "stdout",
       "text": [
        "\n",
        "   709  |    0.009361  |    0.009638  |     0.971335  |             |  4.4s"
       ]
      },
      {
       "output_type": "stream",
       "stream": "stdout",
       "text": [
        "\n",
        "   710  |    0.009380  |    0.009628  |     0.974212  |             |  4.4s"
       ]
      },
      {
       "output_type": "stream",
       "stream": "stdout",
       "text": [
        "\n",
        "   711  |  \u001b[94m  0.009267\u001b[0m  |  \u001b[32m  0.009602\u001b[0m  |     0.965136  |             |  4.4s"
       ]
      },
      {
       "output_type": "stream",
       "stream": "stdout",
       "text": [
        "\n",
        "   712  |  \u001b[94m  0.009208\u001b[0m  |  \u001b[32m  0.009597\u001b[0m  |     0.959526  |             |  4.4s"
       ]
      },
      {
       "output_type": "stream",
       "stream": "stdout",
       "text": [
        "\n",
        "   713  |    0.009320  |    0.009609  |     0.969883  |             |  4.4s"
       ]
      },
      {
       "output_type": "stream",
       "stream": "stdout",
       "text": [
        "\n",
        "   714  |    0.009331  |    0.009621  |     0.969792  |             |  4.4s"
       ]
      },
      {
       "output_type": "stream",
       "stream": "stdout",
       "text": [
        "\n",
        "   715  |    0.009244  |    0.009613  |     0.961673  |             |  4.4s"
       ]
      },
      {
       "output_type": "stream",
       "stream": "stdout",
       "text": [
        "\n",
        "   716  |  \u001b[94m  0.009182\u001b[0m  |  \u001b[32m  0.009596\u001b[0m  |     0.956878  |             |  4.4s"
       ]
      },
      {
       "output_type": "stream",
       "stream": "stdout",
       "text": [
        "\n",
        "   717  |    0.009345  |    0.009602  |     0.973184  |             |  4.4s"
       ]
      },
      {
       "output_type": "stream",
       "stream": "stdout",
       "text": [
        "\n",
        "   718  |    0.009266  |  \u001b[32m  0.009573\u001b[0m  |     0.967914  |             |  4.4s"
       ]
      },
      {
       "output_type": "stream",
       "stream": "stdout",
       "text": [
        "\n",
        "   719  |    0.009223  |    0.009613  |     0.959458  |             |  4.4s"
       ]
      },
      {
       "output_type": "stream",
       "stream": "stdout",
       "text": [
        "\n",
        "   720  |    0.009202  |  \u001b[32m  0.009573\u001b[0m  |     0.961263  |             |  4.4s"
       ]
      },
      {
       "output_type": "stream",
       "stream": "stdout",
       "text": [
        "\n",
        "   721  |    0.009281  |    0.009577  |     0.969170  |             |  4.4s"
       ]
      },
      {
       "output_type": "stream",
       "stream": "stdout",
       "text": [
        "\n",
        "   722  |    0.009195  |  \u001b[32m  0.009559\u001b[0m  |     0.961901  |             |  4.4s"
       ]
      },
      {
       "output_type": "stream",
       "stream": "stdout",
       "text": [
        "\n",
        "   723  |    0.009212  |    0.009574  |     0.962143  |             |  4.4s"
       ]
      },
      {
       "output_type": "stream",
       "stream": "stdout",
       "text": [
        "\n",
        "   724  |  \u001b[94m  0.009173\u001b[0m  |    0.009569  |     0.958619  |             |  4.4s"
       ]
      },
      {
       "output_type": "stream",
       "stream": "stdout",
       "text": [
        "\n",
        "   725  |    0.009176  |    0.009560  |     0.959795  |             |  4.4s"
       ]
      },
      {
       "output_type": "stream",
       "stream": "stdout",
       "text": [
        "\n",
        "   726  |  \u001b[94m  0.009116\u001b[0m  |  \u001b[32m  0.009553\u001b[0m  |     0.954225  |             |  4.4s"
       ]
      },
      {
       "output_type": "stream",
       "stream": "stdout",
       "text": [
        "\n",
        "   727  |    0.009174  |  \u001b[32m  0.009547\u001b[0m  |     0.960958  |             |  4.4s"
       ]
      },
      {
       "output_type": "stream",
       "stream": "stdout",
       "text": [
        "\n",
        "   728  |    0.009171  |  \u001b[32m  0.009529\u001b[0m  |     0.962456  |             |  4.4s"
       ]
      },
      {
       "output_type": "stream",
       "stream": "stdout",
       "text": [
        "\n",
        "   729  |    0.009126  |    0.009529  |     0.957760  |             |  4.4s"
       ]
      },
      {
       "output_type": "stream",
       "stream": "stdout",
       "text": [
        "\n",
        "   730  |  \u001b[94m  0.009115\u001b[0m  |  \u001b[32m  0.009515\u001b[0m  |     0.958004  |             |  4.4s"
       ]
      },
      {
       "output_type": "stream",
       "stream": "stdout",
       "text": [
        "\n",
        "   731  |    0.009166  |    0.009553  |     0.959553  |             |  4.4s"
       ]
      },
      {
       "output_type": "stream",
       "stream": "stdout",
       "text": [
        "\n",
        "   732  |    0.009147  |    0.009538  |     0.959010  |             |  4.4s"
       ]
      },
      {
       "output_type": "stream",
       "stream": "stdout",
       "text": [
        "\n",
        "   733  |  \u001b[94m  0.009106\u001b[0m  |    0.009555  |     0.953090  |             |  4.4s"
       ]
      },
      {
       "output_type": "stream",
       "stream": "stdout",
       "text": [
        "\n",
        "   734  |    0.009150  |    0.009525  |     0.960676  |             |  4.4s"
       ]
      },
      {
       "output_type": "stream",
       "stream": "stdout",
       "text": [
        "\n",
        "   735  |  \u001b[94m  0.009037\u001b[0m  |    0.009519  |     0.949345  |             |  4.4s"
       ]
      },
      {
       "output_type": "stream",
       "stream": "stdout",
       "text": [
        "\n",
        "   736  |    0.009076  |    0.009523  |     0.953083  |             |  4.4s"
       ]
      },
      {
       "output_type": "stream",
       "stream": "stdout",
       "text": [
        "\n",
        "   737  |    0.009153  |  \u001b[32m  0.009507\u001b[0m  |     0.962758  |             |  4.4s"
       ]
      },
      {
       "output_type": "stream",
       "stream": "stdout",
       "text": [
        "\n",
        "   738  |    0.009077  |  \u001b[32m  0.009504\u001b[0m  |     0.954993  |             |  4.4s"
       ]
      },
      {
       "output_type": "stream",
       "stream": "stdout",
       "text": [
        "\n",
        "   739  |    0.009125  |  \u001b[32m  0.009496\u001b[0m  |     0.960929  |             |  4.4s"
       ]
      },
      {
       "output_type": "stream",
       "stream": "stdout",
       "text": [
        "\n",
        "   740  |  \u001b[94m  0.009003\u001b[0m  |    0.009504  |     0.947315  |             |  4.4s"
       ]
      },
      {
       "output_type": "stream",
       "stream": "stdout",
       "text": [
        "\n",
        "   741  |    0.009075  |  \u001b[32m  0.009492\u001b[0m  |     0.956092  |             |  4.4s"
       ]
      },
      {
       "output_type": "stream",
       "stream": "stdout",
       "text": [
        "\n",
        "   742  |    0.009051  |  \u001b[32m  0.009476\u001b[0m  |     0.955192  |             |  4.4s"
       ]
      },
      {
       "output_type": "stream",
       "stream": "stdout",
       "text": [
        "\n",
        "   743  |  \u001b[94m  0.008935\u001b[0m  |  \u001b[32m  0.009471\u001b[0m  |     0.943344  |             |  4.4s"
       ]
      },
      {
       "output_type": "stream",
       "stream": "stdout",
       "text": [
        "\n",
        "   744  |    0.009053  |    0.009494  |     0.953617  |             |  4.4s"
       ]
      },
      {
       "output_type": "stream",
       "stream": "stdout",
       "text": [
        "\n",
        "   745  |    0.009070  |    0.009477  |     0.957065  |             |  4.4s"
       ]
      },
      {
       "output_type": "stream",
       "stream": "stdout",
       "text": [
        "\n",
        "   746  |    0.008943  |    0.009484  |     0.942906  |             |  4.4s"
       ]
      },
      {
       "output_type": "stream",
       "stream": "stdout",
       "text": [
        "\n",
        "   747  |    0.008959  |  \u001b[32m  0.009468\u001b[0m  |     0.946282  |             |  4.4s"
       ]
      },
      {
       "output_type": "stream",
       "stream": "stdout",
       "text": [
        "\n",
        "   748  |  \u001b[94m  0.008917\u001b[0m  |  \u001b[32m  0.009450\u001b[0m  |     0.943630  |             |  4.4s"
       ]
      },
      {
       "output_type": "stream",
       "stream": "stdout",
       "text": [
        "\n",
        "   749  |    0.008919  |    0.009456  |     0.943241  |             |  4.4s"
       ]
      },
      {
       "output_type": "stream",
       "stream": "stdout",
       "text": [
        "\n",
        "   750  |    0.008933  |  \u001b[32m  0.009430\u001b[0m  |     0.947316  |             |  4.4s"
       ]
      },
      {
       "output_type": "stream",
       "stream": "stdout",
       "text": [
        "\n",
        "   751  |    0.008988  |    0.009469  |     0.949292  |             |  4.4s"
       ]
      },
      {
       "output_type": "stream",
       "stream": "stdout",
       "text": [
        "\n",
        "   752  |  \u001b[94m  0.008905\u001b[0m  |    0.009434  |     0.943891  |             |  4.4s"
       ]
      },
      {
       "output_type": "stream",
       "stream": "stdout",
       "text": [
        "\n",
        "   753  |  \u001b[94m  0.008867\u001b[0m  |  \u001b[32m  0.009428\u001b[0m  |     0.940541  |             |  4.4s"
       ]
      },
      {
       "output_type": "stream",
       "stream": "stdout",
       "text": [
        "\n",
        "   754  |    0.008879  |    0.009432  |     0.941332  |             |  4.4s"
       ]
      },
      {
       "output_type": "stream",
       "stream": "stdout",
       "text": [
        "\n",
        "   755  |    0.008902  |  \u001b[32m  0.009417\u001b[0m  |     0.945305  |             |  4.4s"
       ]
      },
      {
       "output_type": "stream",
       "stream": "stdout",
       "text": [
        "\n",
        "   756  |  \u001b[94m  0.008821\u001b[0m  |  \u001b[32m  0.009411\u001b[0m  |     0.937316  |             |  4.4s"
       ]
      },
      {
       "output_type": "stream",
       "stream": "stdout",
       "text": [
        "\n",
        "   757  |    0.008848  |  \u001b[32m  0.009391\u001b[0m  |     0.942242  |             |  4.4s"
       ]
      },
      {
       "output_type": "stream",
       "stream": "stdout",
       "text": [
        "\n",
        "   758  |    0.008825  |    0.009402  |     0.938675  |             |  4.4s"
       ]
      },
      {
       "output_type": "stream",
       "stream": "stdout",
       "text": [
        "\n",
        "   759  |  \u001b[94m  0.008811\u001b[0m  |    0.009404  |     0.936947  |             |  4.4s"
       ]
      },
      {
       "output_type": "stream",
       "stream": "stdout",
       "text": [
        "\n",
        "   760  |  \u001b[94m  0.008799\u001b[0m  |    0.009399  |     0.936197  |             |  4.4s"
       ]
      },
      {
       "output_type": "stream",
       "stream": "stdout",
       "text": [
        "\n",
        "   761  |    0.008879  |    0.009403  |     0.944269  |             |  4.4s"
       ]
      },
      {
       "output_type": "stream",
       "stream": "stdout",
       "text": [
        "\n",
        "   762  |  \u001b[94m  0.008787\u001b[0m  |    0.009396  |     0.935179  |             |  4.4s"
       ]
      },
      {
       "output_type": "stream",
       "stream": "stdout",
       "text": [
        "\n",
        "   763  |  \u001b[94m  0.008770\u001b[0m  |  \u001b[32m  0.009389\u001b[0m  |     0.934067  |             |  4.4s"
       ]
      },
      {
       "output_type": "stream",
       "stream": "stdout",
       "text": [
        "\n",
        "   764  |  \u001b[94m  0.008753\u001b[0m  |  \u001b[32m  0.009373\u001b[0m  |     0.933855  |             |  4.4s"
       ]
      },
      {
       "output_type": "stream",
       "stream": "stdout",
       "text": [
        "\n",
        "   765  |    0.008790  |    0.009374  |     0.937697  |             |  4.4s"
       ]
      },
      {
       "output_type": "stream",
       "stream": "stdout",
       "text": [
        "\n",
        "   766  |  \u001b[94m  0.008741\u001b[0m  |  \u001b[32m  0.009367\u001b[0m  |     0.933188  |             |  4.4s"
       ]
      },
      {
       "output_type": "stream",
       "stream": "stdout",
       "text": [
        "\n",
        "   767  |    0.008745  |  \u001b[32m  0.009352\u001b[0m  |     0.935081  |             |  4.4s"
       ]
      },
      {
       "output_type": "stream",
       "stream": "stdout",
       "text": [
        "\n",
        "   768  |    0.008761  |  \u001b[32m  0.009350\u001b[0m  |     0.936957  |             |  4.4s"
       ]
      },
      {
       "output_type": "stream",
       "stream": "stdout",
       "text": [
        "\n",
        "   769  |    0.008771  |    0.009368  |     0.936322  |             |  4.4s"
       ]
      },
      {
       "output_type": "stream",
       "stream": "stdout",
       "text": [
        "\n",
        "   770  |  \u001b[94m  0.008718\u001b[0m  |    0.009357  |     0.931718  |             |  4.4s"
       ]
      },
      {
       "output_type": "stream",
       "stream": "stdout",
       "text": [
        "\n",
        "   771  |  \u001b[94m  0.008699\u001b[0m  |  \u001b[32m  0.009350\u001b[0m  |     0.930385  |             |  4.4s"
       ]
      },
      {
       "output_type": "stream",
       "stream": "stdout",
       "text": [
        "\n",
        "   772  |    0.008738  |  \u001b[32m  0.009350\u001b[0m  |     0.934541  |             |  4.4s"
       ]
      },
      {
       "output_type": "stream",
       "stream": "stdout",
       "text": [
        "\n",
        "   773  |    0.008752  |  \u001b[32m  0.009336\u001b[0m  |     0.937425  |             |  4.4s"
       ]
      },
      {
       "output_type": "stream",
       "stream": "stdout",
       "text": [
        "\n",
        "   774  |    0.008762  |  \u001b[32m  0.009335\u001b[0m  |     0.938640  |             |  4.4s"
       ]
      },
      {
       "output_type": "stream",
       "stream": "stdout",
       "text": [
        "\n",
        "   775  |    0.008709  |  \u001b[32m  0.009322\u001b[0m  |     0.934243  |             |  4.4s"
       ]
      },
      {
       "output_type": "stream",
       "stream": "stdout",
       "text": [
        "\n",
        "   776  |  \u001b[94m  0.008692\u001b[0m  |  \u001b[32m  0.009320\u001b[0m  |     0.932640  |             |  4.4s"
       ]
      },
      {
       "output_type": "stream",
       "stream": "stdout",
       "text": [
        "\n",
        "   777  |  \u001b[94m  0.008646\u001b[0m  |  \u001b[32m  0.009316\u001b[0m  |     0.928126  |             |  4.4s"
       ]
      },
      {
       "output_type": "stream",
       "stream": "stdout",
       "text": [
        "\n",
        "   778  |    0.008671  |    0.009319  |     0.930496  |             |  4.4s"
       ]
      },
      {
       "output_type": "stream",
       "stream": "stdout",
       "text": [
        "\n",
        "   779  |  \u001b[94m  0.008621\u001b[0m  |  \u001b[32m  0.009312\u001b[0m  |     0.925779  |             |  4.4s"
       ]
      },
      {
       "output_type": "stream",
       "stream": "stdout",
       "text": [
        "\n",
        "   780  |  \u001b[94m  0.008593\u001b[0m  |    0.009318  |     0.922147  |             |  4.4s"
       ]
      },
      {
       "output_type": "stream",
       "stream": "stdout",
       "text": [
        "\n",
        "   781  |    0.008673  |  \u001b[32m  0.009302\u001b[0m  |     0.932335  |             |  4.4s"
       ]
      },
      {
       "output_type": "stream",
       "stream": "stdout",
       "text": [
        "\n",
        "   782  |  \u001b[94m  0.008559\u001b[0m  |  \u001b[32m  0.009298\u001b[0m  |     0.920475  |             |  4.4s"
       ]
      },
      {
       "output_type": "stream",
       "stream": "stdout",
       "text": [
        "\n",
        "   783  |    0.008665  |    0.009324  |     0.929294  |             |  4.4s"
       ]
      },
      {
       "output_type": "stream",
       "stream": "stdout",
       "text": [
        "\n",
        "   784  |    0.008649  |  \u001b[32m  0.009292\u001b[0m  |     0.930817  |             |  4.4s"
       ]
      },
      {
       "output_type": "stream",
       "stream": "stdout",
       "text": [
        "\n",
        "   785  |    0.008632  |    0.009294  |     0.928829  |             |  4.4s"
       ]
      },
      {
       "output_type": "stream",
       "stream": "stdout",
       "text": [
        "\n",
        "   786  |    0.008613  |  \u001b[32m  0.009290\u001b[0m  |     0.927127  |             |  4.4s"
       ]
      },
      {
       "output_type": "stream",
       "stream": "stdout",
       "text": [
        "\n",
        "   787  |  \u001b[94m  0.008546\u001b[0m  |    0.009293  |     0.919613  |             |  4.4s"
       ]
      },
      {
       "output_type": "stream",
       "stream": "stdout",
       "text": [
        "\n",
        "   788  |    0.008596  |  \u001b[32m  0.009280\u001b[0m  |     0.926317  |             |  4.4s"
       ]
      },
      {
       "output_type": "stream",
       "stream": "stdout",
       "text": [
        "\n",
        "   789  |  \u001b[94m  0.008527\u001b[0m  |  \u001b[32m  0.009275\u001b[0m  |     0.919362  |             |  4.4s"
       ]
      },
      {
       "output_type": "stream",
       "stream": "stdout",
       "text": [
        "\n",
        "   790  |  \u001b[94m  0.008485\u001b[0m  |  \u001b[32m  0.009251\u001b[0m  |     0.917200  |             |  4.4s"
       ]
      },
      {
       "output_type": "stream",
       "stream": "stdout",
       "text": [
        "\n",
        "   791  |    0.008550  |    0.009256  |     0.923787  |             |  4.4s"
       ]
      },
      {
       "output_type": "stream",
       "stream": "stdout",
       "text": [
        "\n",
        "   792  |    0.008507  |    0.009258  |     0.918842  |             |  4.4s"
       ]
      },
      {
       "output_type": "stream",
       "stream": "stdout",
       "text": [
        "\n",
        "   793  |    0.008582  |    0.009258  |     0.926933  |             |  4.4s"
       ]
      },
      {
       "output_type": "stream",
       "stream": "stdout",
       "text": [
        "\n",
        "   794  |  \u001b[94m  0.008462\u001b[0m  |  \u001b[32m  0.009244\u001b[0m  |     0.915401  |             |  4.4s"
       ]
      },
      {
       "output_type": "stream",
       "stream": "stdout",
       "text": [
        "\n",
        "   795  |    0.008480  |    0.009264  |     0.915350  |             |  4.4s"
       ]
      },
      {
       "output_type": "stream",
       "stream": "stdout",
       "text": [
        "\n",
        "   796  |    0.008509  |    0.009258  |     0.919130  |             |  4.4s"
       ]
      },
      {
       "output_type": "stream",
       "stream": "stdout",
       "text": [
        "\n",
        "   797  |  \u001b[94m  0.008453\u001b[0m  |  \u001b[32m  0.009234\u001b[0m  |     0.915481  |             |  4.4s"
       ]
      },
      {
       "output_type": "stream",
       "stream": "stdout",
       "text": [
        "\n",
        "   798  |    0.008462  |    0.009235  |     0.916271  |             |  4.4s"
       ]
      },
      {
       "output_type": "stream",
       "stream": "stdout",
       "text": [
        "\n",
        "   799  |  \u001b[94m  0.008385\u001b[0m  |    0.009244  |     0.907083  |             |  4.4s"
       ]
      },
      {
       "output_type": "stream",
       "stream": "stdout",
       "text": [
        "\n",
        "   800  |    0.008463  |  \u001b[32m  0.009225\u001b[0m  |     0.917393  |             |  4.4s"
       ]
      },
      {
       "output_type": "stream",
       "stream": "stdout",
       "text": [
        "\n",
        "   801  |    0.008444  |    0.009229  |     0.914889  |             |  4.4s"
       ]
      },
      {
       "output_type": "stream",
       "stream": "stdout",
       "text": [
        "\n",
        "   802  |    0.008520  |  \u001b[32m  0.009213\u001b[0m  |     0.924789  |             |  4.4s"
       ]
      },
      {
       "output_type": "stream",
       "stream": "stdout",
       "text": [
        "\n",
        "   803  |    0.008388  |    0.009232  |     0.908600  |             |  4.4s"
       ]
      },
      {
       "output_type": "stream",
       "stream": "stdout",
       "text": [
        "\n",
        "   804  |    0.008437  |  \u001b[32m  0.009204\u001b[0m  |     0.916680  |             |  4.4s"
       ]
      },
      {
       "output_type": "stream",
       "stream": "stdout",
       "text": [
        "\n",
        "   805  |  \u001b[94m  0.008344\u001b[0m  |  \u001b[32m  0.009200\u001b[0m  |     0.906939  |             |  4.4s"
       ]
      },
      {
       "output_type": "stream",
       "stream": "stdout",
       "text": [
        "\n",
        "   806  |    0.008455  |    0.009217  |     0.917332  |             |  4.4s"
       ]
      },
      {
       "output_type": "stream",
       "stream": "stdout",
       "text": [
        "\n",
        "   807  |    0.008408  |    0.009215  |     0.912363  |             |  4.4s"
       ]
      },
      {
       "output_type": "stream",
       "stream": "stdout",
       "text": [
        "\n",
        "   808  |    0.008365  |    0.009215  |     0.907767  |             |  4.4s"
       ]
      },
      {
       "output_type": "stream",
       "stream": "stdout",
       "text": [
        "\n",
        "   809  |    0.008410  |  \u001b[32m  0.009189\u001b[0m  |     0.915218  |             |  4.4s"
       ]
      },
      {
       "output_type": "stream",
       "stream": "stdout",
       "text": [
        "\n",
        "   810  |    0.008355  |    0.009200  |     0.908205  |             |  4.4s"
       ]
      },
      {
       "output_type": "stream",
       "stream": "stdout",
       "text": [
        "\n",
        "   811  |  \u001b[94m  0.008254\u001b[0m  |    0.009194  |     0.897706  |             |  4.4s"
       ]
      },
      {
       "output_type": "stream",
       "stream": "stdout",
       "text": [
        "\n",
        "   812  |    0.008335  |  \u001b[32m  0.009173\u001b[0m  |     0.908632  |             |  4.4s"
       ]
      },
      {
       "output_type": "stream",
       "stream": "stdout",
       "text": [
        "\n",
        "   813  |  \u001b[94m  0.008254\u001b[0m  |    0.009181  |     0.898994  |             |  4.4s"
       ]
      },
      {
       "output_type": "stream",
       "stream": "stdout",
       "text": [
        "\n",
        "   814  |    0.008303  |  \u001b[32m  0.009161\u001b[0m  |     0.906332  |             |  4.4s"
       ]
      },
      {
       "output_type": "stream",
       "stream": "stdout",
       "text": [
        "\n",
        "   815  |    0.008306  |    0.009182  |     0.904564  |             |  4.4s"
       ]
      },
      {
       "output_type": "stream",
       "stream": "stdout",
       "text": [
        "\n",
        "   816  |  \u001b[94m  0.008211\u001b[0m  |    0.009179  |     0.894539  |             |  4.4s"
       ]
      },
      {
       "output_type": "stream",
       "stream": "stdout",
       "text": [
        "\n",
        "   817  |    0.008340  |    0.009176  |     0.908916  |             |  4.4s"
       ]
      },
      {
       "output_type": "stream",
       "stream": "stdout",
       "text": [
        "\n",
        "   818  |    0.008248  |    0.009164  |     0.900027  |             |  4.4s"
       ]
      },
      {
       "output_type": "stream",
       "stream": "stdout",
       "text": [
        "\n",
        "   819  |    0.008276  |    0.009168  |     0.902799  |             |  4.4s"
       ]
      },
      {
       "output_type": "stream",
       "stream": "stdout",
       "text": [
        "\n",
        "   820  |    0.008253  |  \u001b[32m  0.009158\u001b[0m  |     0.901172  |             |  4.4s"
       ]
      },
      {
       "output_type": "stream",
       "stream": "stdout",
       "text": [
        "\n",
        "   821  |    0.008246  |  \u001b[32m  0.009131\u001b[0m  |     0.903021  |             |  4.4s"
       ]
      },
      {
       "output_type": "stream",
       "stream": "stdout",
       "text": [
        "\n",
        "   822  |    0.008291  |    0.009147  |     0.906424  |             |  4.4s"
       ]
      },
      {
       "output_type": "stream",
       "stream": "stdout",
       "text": [
        "\n",
        "   823  |  \u001b[94m  0.008188\u001b[0m  |    0.009138  |     0.896086  |             |  4.4s"
       ]
      },
      {
       "output_type": "stream",
       "stream": "stdout",
       "text": [
        "\n",
        "   824  |    0.008270  |  \u001b[32m  0.009129\u001b[0m  |     0.905949  |             |  4.4s"
       ]
      },
      {
       "output_type": "stream",
       "stream": "stdout",
       "text": [
        "\n",
        "   825  |  \u001b[94m  0.008181\u001b[0m  |    0.009135  |     0.895501  |             |  4.4s"
       ]
      },
      {
       "output_type": "stream",
       "stream": "stdout",
       "text": [
        "\n",
        "   826  |    0.008222  |  \u001b[32m  0.009115\u001b[0m  |     0.901983  |             |  4.4s"
       ]
      },
      {
       "output_type": "stream",
       "stream": "stdout",
       "text": [
        "\n",
        "   827  |    0.008258  |    0.009132  |     0.904324  |             |  4.4s"
       ]
      },
      {
       "output_type": "stream",
       "stream": "stdout",
       "text": [
        "\n",
        "   828  |  \u001b[94m  0.008170\u001b[0m  |    0.009124  |     0.895412  |             |  4.4s"
       ]
      },
      {
       "output_type": "stream",
       "stream": "stdout",
       "text": [
        "\n",
        "   829  |  \u001b[94m  0.008163\u001b[0m  |    0.009125  |     0.894628  |             |  4.4s"
       ]
      },
      {
       "output_type": "stream",
       "stream": "stdout",
       "text": [
        "\n",
        "   830  |    0.008178  |    0.009137  |     0.894994  |             |  4.4s"
       ]
      },
      {
       "output_type": "stream",
       "stream": "stdout",
       "text": [
        "\n",
        "   831  |  \u001b[94m  0.008130\u001b[0m  |  \u001b[32m  0.009101\u001b[0m  |     0.893226  |             |  4.4s"
       ]
      },
      {
       "output_type": "stream",
       "stream": "stdout",
       "text": [
        "\n",
        "   832  |    0.008132  |    0.009121  |     0.891563  |             |  4.4s"
       ]
      },
      {
       "output_type": "stream",
       "stream": "stdout",
       "text": [
        "\n",
        "   833  |    0.008157  |    0.009113  |     0.895094  |             |  4.4s"
       ]
      },
      {
       "output_type": "stream",
       "stream": "stdout",
       "text": [
        "\n",
        "   834  |    0.008131  |    0.009102  |     0.893293  |             |  4.4s"
       ]
      },
      {
       "output_type": "stream",
       "stream": "stdout",
       "text": [
        "\n",
        "   835  |  \u001b[94m  0.008063\u001b[0m  |  \u001b[32m  0.009098\u001b[0m  |     0.886249  |             |  4.4s"
       ]
      },
      {
       "output_type": "stream",
       "stream": "stdout",
       "text": [
        "\n",
        "   836  |  \u001b[94m  0.008043\u001b[0m  |  \u001b[32m  0.009090\u001b[0m  |     0.884792  |             |  4.4s"
       ]
      },
      {
       "output_type": "stream",
       "stream": "stdout",
       "text": [
        "\n",
        "   837  |    0.008068  |  \u001b[32m  0.009084\u001b[0m  |     0.888133  |             |  4.4s"
       ]
      },
      {
       "output_type": "stream",
       "stream": "stdout",
       "text": [
        "\n",
        "   838  |    0.008051  |  \u001b[32m  0.009083\u001b[0m  |     0.886409  |             |  4.4s"
       ]
      },
      {
       "output_type": "stream",
       "stream": "stdout",
       "text": [
        "\n",
        "   839  |    0.008053  |    0.009089  |     0.886007  |             |  4.4s"
       ]
      },
      {
       "output_type": "stream",
       "stream": "stdout",
       "text": [
        "\n",
        "   840  |  \u001b[94m  0.008030\u001b[0m  |  \u001b[32m  0.009062\u001b[0m  |     0.886091  |             |  4.4s"
       ]
      },
      {
       "output_type": "stream",
       "stream": "stdout",
       "text": [
        "\n",
        "   841  |    0.008141  |  \u001b[32m  0.009059\u001b[0m  |     0.898599  |             |  4.4s"
       ]
      },
      {
       "output_type": "stream",
       "stream": "stdout",
       "text": [
        "\n",
        "   842  |    0.008033  |  \u001b[32m  0.009056\u001b[0m  |     0.887096  |             |  4.4s"
       ]
      },
      {
       "output_type": "stream",
       "stream": "stdout",
       "text": [
        "\n",
        "   843  |  \u001b[94m  0.008003\u001b[0m  |  \u001b[32m  0.009050\u001b[0m  |     0.884287  |             |  4.4s"
       ]
      },
      {
       "output_type": "stream",
       "stream": "stdout",
       "text": [
        "\n",
        "   844  |    0.008148  |    0.009058  |     0.899506  |             |  4.4s"
       ]
      },
      {
       "output_type": "stream",
       "stream": "stdout",
       "text": [
        "\n",
        "   845  |    0.008062  |    0.009050  |     0.890824  |             |  4.4s"
       ]
      },
      {
       "output_type": "stream",
       "stream": "stdout",
       "text": [
        "\n",
        "   846  |    0.008078  |    0.009056  |     0.891958  |             |  4.4s"
       ]
      },
      {
       "output_type": "stream",
       "stream": "stdout",
       "text": [
        "\n",
        "   847  |    0.008035  |    0.009065  |     0.886354  |             |  4.4s"
       ]
      },
      {
       "output_type": "stream",
       "stream": "stdout",
       "text": [
        "\n",
        "   848  |    0.008054  |  \u001b[32m  0.009040\u001b[0m  |     0.890910  |             |  4.4s"
       ]
      },
      {
       "output_type": "stream",
       "stream": "stdout",
       "text": [
        "\n",
        "   849  |    0.008027  |    0.009048  |     0.887142  |             |  4.4s"
       ]
      },
      {
       "output_type": "stream",
       "stream": "stdout",
       "text": [
        "\n",
        "   850  |    0.008052  |    0.009055  |     0.889211  |             |  4.4s"
       ]
      },
      {
       "output_type": "stream",
       "stream": "stdout",
       "text": [
        "\n",
        "   851  |  \u001b[94m  0.007999\u001b[0m  |  \u001b[32m  0.009026\u001b[0m  |     0.886237  |             |  4.4s"
       ]
      },
      {
       "output_type": "stream",
       "stream": "stdout",
       "text": [
        "\n",
        "   852  |  \u001b[94m  0.007920\u001b[0m  |    0.009041  |     0.876003  |             |  4.4s"
       ]
      },
      {
       "output_type": "stream",
       "stream": "stdout",
       "text": [
        "\n",
        "   853  |    0.008024  |    0.009026  |     0.889074  |             |  4.4s"
       ]
      },
      {
       "output_type": "stream",
       "stream": "stdout",
       "text": [
        "\n",
        "   854  |  \u001b[94m  0.007895\u001b[0m  |    0.009032  |     0.874049  |             |  4.4s"
       ]
      },
      {
       "output_type": "stream",
       "stream": "stdout",
       "text": [
        "\n",
        "   855  |    0.008044  |    0.009027  |     0.891099  |             |  4.4s"
       ]
      },
      {
       "output_type": "stream",
       "stream": "stdout",
       "text": [
        "\n",
        "   856  |    0.007904  |  \u001b[32m  0.009011\u001b[0m  |     0.877166  |             |  4.4s"
       ]
      },
      {
       "output_type": "stream",
       "stream": "stdout",
       "text": [
        "\n",
        "   857  |    0.007925  |    0.009017  |     0.878961  |             |  4.4s"
       ]
      },
      {
       "output_type": "stream",
       "stream": "stdout",
       "text": [
        "\n",
        "   858  |    0.007942  |  \u001b[32m  0.008999\u001b[0m  |     0.882554  |             |  4.4s"
       ]
      },
      {
       "output_type": "stream",
       "stream": "stdout",
       "text": [
        "\n",
        "   859  |    0.007961  |    0.009020  |     0.882608  |             |  4.4s"
       ]
      },
      {
       "output_type": "stream",
       "stream": "stdout",
       "text": [
        "\n",
        "   860  |  \u001b[94m  0.007882\u001b[0m  |    0.009004  |     0.875424  |             |  4.4s"
       ]
      },
      {
       "output_type": "stream",
       "stream": "stdout",
       "text": [
        "\n",
        "   861  |    0.007898  |  \u001b[32m  0.008999\u001b[0m  |     0.877642  |             |  4.4s"
       ]
      },
      {
       "output_type": "stream",
       "stream": "stdout",
       "text": [
        "\n",
        "   862  |    0.007903  |    0.009009  |     0.877230  |             |  4.4s"
       ]
      },
      {
       "output_type": "stream",
       "stream": "stdout",
       "text": [
        "\n",
        "   863  |    0.007999  |  \u001b[32m  0.008996\u001b[0m  |     0.889172  |             |  4.4s"
       ]
      },
      {
       "output_type": "stream",
       "stream": "stdout",
       "text": [
        "\n",
        "   864  |  \u001b[94m  0.007855\u001b[0m  |  \u001b[32m  0.008990\u001b[0m  |     0.873677  |             |  4.4s"
       ]
      },
      {
       "output_type": "stream",
       "stream": "stdout",
       "text": [
        "\n",
        "   865  |    0.007900  |  \u001b[32m  0.008990\u001b[0m  |     0.878689  |             |  4.4s"
       ]
      },
      {
       "output_type": "stream",
       "stream": "stdout",
       "text": [
        "\n",
        "   866  |    0.007855  |  \u001b[32m  0.008962\u001b[0m  |     0.876544  |             |  4.4s"
       ]
      },
      {
       "output_type": "stream",
       "stream": "stdout",
       "text": [
        "\n",
        "   867  |  \u001b[94m  0.007837\u001b[0m  |    0.008981  |     0.872689  |             |  4.4s"
       ]
      },
      {
       "output_type": "stream",
       "stream": "stdout",
       "text": [
        "\n",
        "   868  |    0.007905  |    0.008973  |     0.880924  |             |  4.4s"
       ]
      },
      {
       "output_type": "stream",
       "stream": "stdout",
       "text": [
        "\n",
        "   869  |  \u001b[94m  0.007804\u001b[0m  |  \u001b[32m  0.008961\u001b[0m  |     0.870868  |             |  4.4s"
       ]
      },
      {
       "output_type": "stream",
       "stream": "stdout",
       "text": [
        "\n",
        "   870  |    0.007804  |  \u001b[32m  0.008953\u001b[0m  |     0.871647  |             |  4.4s"
       ]
      },
      {
       "output_type": "stream",
       "stream": "stdout",
       "text": [
        "\n",
        "   871  |    0.007820  |    0.008975  |     0.871271  |             |  4.4s"
       ]
      },
      {
       "output_type": "stream",
       "stream": "stdout",
       "text": [
        "\n",
        "   872  |  \u001b[94m  0.007781\u001b[0m  |    0.008953  |     0.869040  |             |  4.4s"
       ]
      },
      {
       "output_type": "stream",
       "stream": "stdout",
       "text": [
        "\n",
        "   873  |  \u001b[94m  0.007761\u001b[0m  |    0.008956  |     0.866539  |             |  4.4s"
       ]
      },
      {
       "output_type": "stream",
       "stream": "stdout",
       "text": [
        "\n",
        "   874  |  \u001b[94m  0.007760\u001b[0m  |  \u001b[32m  0.008946\u001b[0m  |     0.867402  |             |  4.4s"
       ]
      },
      {
       "output_type": "stream",
       "stream": "stdout",
       "text": [
        "\n",
        "   875  |    0.007827  |    0.008947  |     0.874838  |             |  4.4s"
       ]
      },
      {
       "output_type": "stream",
       "stream": "stdout",
       "text": [
        "\n",
        "   876  |    0.007796  |  \u001b[32m  0.008939\u001b[0m  |     0.872095  |             |  4.4s"
       ]
      },
      {
       "output_type": "stream",
       "stream": "stdout",
       "text": [
        "\n",
        "   877  |    0.007775  |  \u001b[32m  0.008929\u001b[0m  |     0.870779  |             |  4.4s"
       ]
      },
      {
       "output_type": "stream",
       "stream": "stdout",
       "text": [
        "\n",
        "   878  |  \u001b[94m  0.007694\u001b[0m  |    0.008941  |     0.860549  |             |  4.4s"
       ]
      },
      {
       "output_type": "stream",
       "stream": "stdout",
       "text": [
        "\n",
        "   879  |    0.007748  |    0.008948  |     0.865930  |             |  4.4s"
       ]
      },
      {
       "output_type": "stream",
       "stream": "stdout",
       "text": [
        "\n",
        "   880  |    0.007756  |    0.008941  |     0.867476  |             |  4.4s"
       ]
      },
      {
       "output_type": "stream",
       "stream": "stdout",
       "text": [
        "\n",
        "   881  |    0.007776  |    0.008930  |     0.870757  |             |  4.4s"
       ]
      },
      {
       "output_type": "stream",
       "stream": "stdout",
       "text": [
        "\n",
        "   882  |  \u001b[94m  0.007634\u001b[0m  |    0.008937  |     0.854210  |             |  4.4s"
       ]
      },
      {
       "output_type": "stream",
       "stream": "stdout",
       "text": [
        "\n",
        "   883  |    0.007763  |  \u001b[32m  0.008923\u001b[0m  |     0.869976  |             |  4.4s"
       ]
      },
      {
       "output_type": "stream",
       "stream": "stdout",
       "text": [
        "\n",
        "   884  |    0.007706  |  \u001b[32m  0.008908\u001b[0m  |     0.865149  |             |  4.4s"
       ]
      },
      {
       "output_type": "stream",
       "stream": "stdout",
       "text": [
        "\n",
        "   885  |    0.007693  |  \u001b[32m  0.008903\u001b[0m  |     0.864073  |             |  4.4s"
       ]
      },
      {
       "output_type": "stream",
       "stream": "stdout",
       "text": [
        "\n",
        "   886  |  \u001b[94m  0.007628\u001b[0m  |  \u001b[32m  0.008900\u001b[0m  |     0.857115  |             |  4.4s"
       ]
      },
      {
       "output_type": "stream",
       "stream": "stdout",
       "text": [
        "\n",
        "   887  |    0.007756  |    0.008906  |     0.870860  |             |  4.4s"
       ]
      },
      {
       "output_type": "stream",
       "stream": "stdout",
       "text": [
        "\n",
        "   888  |    0.007759  |  \u001b[32m  0.008897\u001b[0m  |     0.872147  |             |  4.4s"
       ]
      },
      {
       "output_type": "stream",
       "stream": "stdout",
       "text": [
        "\n",
        "   889  |    0.007725  |    0.008904  |     0.867555  |             |  4.4s"
       ]
      },
      {
       "output_type": "stream",
       "stream": "stdout",
       "text": [
        "\n",
        "   890  |  \u001b[94m  0.007623\u001b[0m  |  \u001b[32m  0.008879\u001b[0m  |     0.858481  |             |  4.4s"
       ]
      },
      {
       "output_type": "stream",
       "stream": "stdout",
       "text": [
        "\n",
        "   891  |  \u001b[94m  0.007599\u001b[0m  |    0.008917  |     0.852202  |             |  4.4s"
       ]
      },
      {
       "output_type": "stream",
       "stream": "stdout",
       "text": [
        "\n",
        "   892  |    0.007670  |    0.008883  |     0.863477  |             |  4.4s"
       ]
      },
      {
       "output_type": "stream",
       "stream": "stdout",
       "text": [
        "\n",
        "   893  |  \u001b[94m  0.007544\u001b[0m  |  \u001b[32m  0.008864\u001b[0m  |     0.851036  |             |  4.4s"
       ]
      },
      {
       "output_type": "stream",
       "stream": "stdout",
       "text": [
        "\n",
        "   894  |    0.007552  |    0.008890  |     0.849537  |             |  4.4s"
       ]
      },
      {
       "output_type": "stream",
       "stream": "stdout",
       "text": [
        "\n",
        "   895  |    0.007596  |    0.008889  |     0.854580  |             |  4.4s"
       ]
      },
      {
       "output_type": "stream",
       "stream": "stdout",
       "text": [
        "\n",
        "   896  |    0.007577  |    0.008900  |     0.851327  |             |  4.4s"
       ]
      },
      {
       "output_type": "stream",
       "stream": "stdout",
       "text": [
        "\n",
        "   897  |    0.007650  |    0.008890  |     0.860483  |             |  4.4s"
       ]
      },
      {
       "output_type": "stream",
       "stream": "stdout",
       "text": [
        "\n",
        "   898  |    0.007618  |    0.008873  |     0.858574  |             |  4.4s"
       ]
      },
      {
       "output_type": "stream",
       "stream": "stdout",
       "text": [
        "\n",
        "   899  |  \u001b[94m  0.007540\u001b[0m  |    0.008878  |     0.849375  |             |  4.4s"
       ]
      },
      {
       "output_type": "stream",
       "stream": "stdout",
       "text": [
        "\n",
        "   900  |    0.007579  |  \u001b[32m  0.008855\u001b[0m  |     0.855892  |             |  4.4s"
       ]
      },
      {
       "output_type": "stream",
       "stream": "stdout",
       "text": [
        "\n",
        "   901  |    0.007578  |    0.008858  |     0.855517  |             |  4.4s"
       ]
      },
      {
       "output_type": "stream",
       "stream": "stdout",
       "text": [
        "\n",
        "   902  |    0.007568  |    0.008883  |     0.851981  |             |  4.4s"
       ]
      },
      {
       "output_type": "stream",
       "stream": "stdout",
       "text": [
        "\n",
        "   903  |  \u001b[94m  0.007517\u001b[0m  |  \u001b[32m  0.008843\u001b[0m  |     0.850067  |             |  4.4s"
       ]
      },
      {
       "output_type": "stream",
       "stream": "stdout",
       "text": [
        "\n",
        "   904  |  \u001b[94m  0.007485\u001b[0m  |    0.008863  |     0.844534  |             |  4.4s"
       ]
      },
      {
       "output_type": "stream",
       "stream": "stdout",
       "text": [
        "\n",
        "   905  |    0.007490  |    0.008850  |     0.846420  |             |  4.4s"
       ]
      },
      {
       "output_type": "stream",
       "stream": "stdout",
       "text": [
        "\n",
        "   906  |    0.007525  |    0.008845  |     0.850679  |             |  4.4s"
       ]
      },
      {
       "output_type": "stream",
       "stream": "stdout",
       "text": [
        "\n",
        "   907  |    0.007540  |  \u001b[32m  0.008842\u001b[0m  |     0.852779  |             |  4.4s"
       ]
      },
      {
       "output_type": "stream",
       "stream": "stdout",
       "text": [
        "\n",
        "   908  |  \u001b[94m  0.007476\u001b[0m  |  \u001b[32m  0.008837\u001b[0m  |     0.845993  |             |  4.4s"
       ]
      },
      {
       "output_type": "stream",
       "stream": "stdout",
       "text": [
        "\n",
        "   909  |    0.007508  |    0.008839  |     0.849441  |             |  4.4s"
       ]
      },
      {
       "output_type": "stream",
       "stream": "stdout",
       "text": [
        "\n",
        "   910  |    0.007520  |    0.008844  |     0.850264  |             |  4.4s"
       ]
      },
      {
       "output_type": "stream",
       "stream": "stdout",
       "text": [
        "\n",
        "   911  |    0.007541  |  \u001b[32m  0.008831\u001b[0m  |     0.854002  |             |  4.4s"
       ]
      },
      {
       "output_type": "stream",
       "stream": "stdout",
       "text": [
        "\n",
        "   912  |    0.007593  |    0.008839  |     0.859095  |             |  4.4s"
       ]
      },
      {
       "output_type": "stream",
       "stream": "stdout",
       "text": [
        "\n",
        "   913  |  \u001b[94m  0.007393\u001b[0m  |    0.008844  |     0.835930  |             |  4.4s"
       ]
      },
      {
       "output_type": "stream",
       "stream": "stdout",
       "text": [
        "\n",
        "   914  |    0.007411  |  \u001b[32m  0.008827\u001b[0m  |     0.839507  |             |  4.4s"
       ]
      },
      {
       "output_type": "stream",
       "stream": "stdout",
       "text": [
        "\n",
        "   915  |  \u001b[94m  0.007376\u001b[0m  |  \u001b[32m  0.008819\u001b[0m  |     0.836386  |             |  4.4s"
       ]
      },
      {
       "output_type": "stream",
       "stream": "stdout",
       "text": [
        "\n",
        "   916  |    0.007422  |    0.008819  |     0.841626  |             |  4.4s"
       ]
      },
      {
       "output_type": "stream",
       "stream": "stdout",
       "text": [
        "\n",
        "   917  |    0.007407  |    0.008823  |     0.839529  |             |  4.4s"
       ]
      },
      {
       "output_type": "stream",
       "stream": "stdout",
       "text": [
        "\n",
        "   918  |  \u001b[94m  0.007279\u001b[0m  |  \u001b[32m  0.008802\u001b[0m  |     0.826905  |             |  4.4s"
       ]
      },
      {
       "output_type": "stream",
       "stream": "stdout",
       "text": [
        "\n",
        "   919  |    0.007444  |  \u001b[32m  0.008798\u001b[0m  |     0.846055  |             |  4.4s"
       ]
      },
      {
       "output_type": "stream",
       "stream": "stdout",
       "text": [
        "\n",
        "   920  |    0.007453  |    0.008808  |     0.846109  |             |  4.4s"
       ]
      },
      {
       "output_type": "stream",
       "stream": "stdout",
       "text": [
        "\n",
        "   921  |    0.007387  |  \u001b[32m  0.008793\u001b[0m  |     0.840095  |             |  4.4s"
       ]
      },
      {
       "output_type": "stream",
       "stream": "stdout",
       "text": [
        "\n",
        "   922  |    0.007361  |    0.008799  |     0.836476  |             |  4.4s"
       ]
      },
      {
       "output_type": "stream",
       "stream": "stdout",
       "text": [
        "\n",
        "   923  |    0.007337  |    0.008795  |     0.834232  |             |  4.4s"
       ]
      },
      {
       "output_type": "stream",
       "stream": "stdout",
       "text": [
        "\n",
        "   924  |  \u001b[94m  0.007228\u001b[0m  |  \u001b[32m  0.008780\u001b[0m  |     0.823228  |             |  4.4s"
       ]
      },
      {
       "output_type": "stream",
       "stream": "stdout",
       "text": [
        "\n",
        "   925  |    0.007254  |    0.008792  |     0.825061  |             |  4.4s"
       ]
      },
      {
       "output_type": "stream",
       "stream": "stdout",
       "text": [
        "\n",
        "   926  |    0.007376  |    0.008783  |     0.839850  |             |  4.4s"
       ]
      },
      {
       "output_type": "stream",
       "stream": "stdout",
       "text": [
        "\n",
        "   927  |    0.007364  |    0.008789  |     0.837847  |             |  4.4s"
       ]
      },
      {
       "output_type": "stream",
       "stream": "stdout",
       "text": [
        "\n",
        "   928  |    0.007350  |  \u001b[32m  0.008770\u001b[0m  |     0.838065  |             |  4.4s"
       ]
      },
      {
       "output_type": "stream",
       "stream": "stdout",
       "text": [
        "\n",
        "   929  |    0.007284  |    0.008792  |     0.828435  |             |  4.4s"
       ]
      },
      {
       "output_type": "stream",
       "stream": "stdout",
       "text": [
        "\n",
        "   930  |    0.007270  |  \u001b[32m  0.008758\u001b[0m  |     0.830123  |             |  4.4s"
       ]
      },
      {
       "output_type": "stream",
       "stream": "stdout",
       "text": [
        "\n",
        "   931  |    0.007317  |    0.008772  |     0.834149  |             |  4.4s"
       ]
      },
      {
       "output_type": "stream",
       "stream": "stdout",
       "text": [
        "\n",
        "   932  |    0.007277  |    0.008767  |     0.830042  |             |  4.4s"
       ]
      },
      {
       "output_type": "stream",
       "stream": "stdout",
       "text": [
        "\n",
        "   933  |  \u001b[94m  0.007189\u001b[0m  |    0.008775  |     0.819279  |             |  4.4s"
       ]
      },
      {
       "output_type": "stream",
       "stream": "stdout",
       "text": [
        "\n",
        "   934  |    0.007256  |    0.008773  |     0.827106  |             |  4.4s"
       ]
      },
      {
       "output_type": "stream",
       "stream": "stdout",
       "text": [
        "\n",
        "   935  |    0.007200  |    0.008767  |     0.821257  |             |  4.4s"
       ]
      },
      {
       "output_type": "stream",
       "stream": "stdout",
       "text": [
        "\n",
        "   936  |    0.007278  |    0.008762  |     0.830654  |             |  4.4s"
       ]
      },
      {
       "output_type": "stream",
       "stream": "stdout",
       "text": [
        "\n",
        "   937  |    0.007249  |  \u001b[32m  0.008754\u001b[0m  |     0.828086  |             |  4.4s"
       ]
      },
      {
       "output_type": "stream",
       "stream": "stdout",
       "text": [
        "\n",
        "   938  |    0.007344  |  \u001b[32m  0.008754\u001b[0m  |     0.838954  |             |  4.4s"
       ]
      },
      {
       "output_type": "stream",
       "stream": "stdout",
       "text": [
        "\n",
        "   939  |    0.007233  |    0.008758  |     0.825890  |             |  4.4s"
       ]
      },
      {
       "output_type": "stream",
       "stream": "stdout",
       "text": [
        "\n",
        "   940  |    0.007232  |  \u001b[32m  0.008752\u001b[0m  |     0.826349  |             |  4.4s"
       ]
      },
      {
       "output_type": "stream",
       "stream": "stdout",
       "text": [
        "\n",
        "   941  |  \u001b[94m  0.007186\u001b[0m  |    0.008753  |     0.820937  |             |  4.4s"
       ]
      },
      {
       "output_type": "stream",
       "stream": "stdout",
       "text": [
        "\n",
        "   942  |    0.007259  |  \u001b[32m  0.008719\u001b[0m  |     0.832490  |             |  4.4s"
       ]
      },
      {
       "output_type": "stream",
       "stream": "stdout",
       "text": [
        "\n",
        "   943  |    0.007218  |  \u001b[32m  0.008716\u001b[0m  |     0.828122  |             |  4.4s"
       ]
      },
      {
       "output_type": "stream",
       "stream": "stdout",
       "text": [
        "\n",
        "   944  |  \u001b[94m  0.007162\u001b[0m  |    0.008752  |     0.818310  |             |  4.4s"
       ]
      },
      {
       "output_type": "stream",
       "stream": "stdout",
       "text": [
        "\n",
        "   945  |    0.007167  |    0.008727  |     0.821185  |             |  4.4s"
       ]
      },
      {
       "output_type": "stream",
       "stream": "stdout",
       "text": [
        "\n",
        "   946  |    0.007177  |    0.008730  |     0.822131  |             |  4.4s"
       ]
      },
      {
       "output_type": "stream",
       "stream": "stdout",
       "text": [
        "\n",
        "   947  |    0.007172  |    0.008740  |     0.820670  |             |  4.4s"
       ]
      },
      {
       "output_type": "stream",
       "stream": "stdout",
       "text": [
        "\n",
        "   948  |    0.007177  |  \u001b[32m  0.008713\u001b[0m  |     0.823768  |             |  4.4s"
       ]
      },
      {
       "output_type": "stream",
       "stream": "stdout",
       "text": [
        "\n",
        "   949  |  \u001b[94m  0.007104\u001b[0m  |    0.008713  |     0.815345  |             |  4.4s"
       ]
      },
      {
       "output_type": "stream",
       "stream": "stdout",
       "text": [
        "\n",
        "   950  |  \u001b[94m  0.007090\u001b[0m  |    0.008716  |     0.813409  |             |  4.4s"
       ]
      },
      {
       "output_type": "stream",
       "stream": "stdout",
       "text": [
        "\n",
        "   951  |    0.007118  |    0.008721  |     0.816206  |             |  4.4s"
       ]
      },
      {
       "output_type": "stream",
       "stream": "stdout",
       "text": [
        "\n",
        "   952  |    0.007126  |    0.008714  |     0.817833  |             |  4.4s"
       ]
      },
      {
       "output_type": "stream",
       "stream": "stdout",
       "text": [
        "\n",
        "   953  |    0.007126  |  \u001b[32m  0.008706\u001b[0m  |     0.818481  |             |  4.4s"
       ]
      },
      {
       "output_type": "stream",
       "stream": "stdout",
       "text": [
        "\n",
        "   954  |    0.007106  |  \u001b[32m  0.008691\u001b[0m  |     0.817587  |             |  4.4s"
       ]
      },
      {
       "output_type": "stream",
       "stream": "stdout",
       "text": [
        "\n",
        "   955  |    0.007161  |    0.008695  |     0.823626  |             |  4.4s"
       ]
      },
      {
       "output_type": "stream",
       "stream": "stdout",
       "text": [
        "\n",
        "   956  |    0.007105  |    0.008711  |     0.815676  |             |  4.4s"
       ]
      },
      {
       "output_type": "stream",
       "stream": "stdout",
       "text": [
        "\n",
        "   957  |  \u001b[94m  0.007017\u001b[0m  |    0.008696  |     0.806981  |             |  4.4s"
       ]
      },
      {
       "output_type": "stream",
       "stream": "stdout",
       "text": [
        "\n",
        "   958  |    0.007019  |    0.008706  |     0.806278  |             |  4.4s"
       ]
      },
      {
       "output_type": "stream",
       "stream": "stdout",
       "text": [
        "\n",
        "   959  |    0.007076  |    0.008708  |     0.812647  |             |  4.4s"
       ]
      },
      {
       "output_type": "stream",
       "stream": "stdout",
       "text": [
        "\n",
        "   960  |    0.007095  |  \u001b[32m  0.008679\u001b[0m  |     0.817467  |             |  4.4s"
       ]
      },
      {
       "output_type": "stream",
       "stream": "stdout",
       "text": [
        "\n",
        "   961  |    0.007079  |  \u001b[32m  0.008665\u001b[0m  |     0.816913  |             |  4.4s"
       ]
      },
      {
       "output_type": "stream",
       "stream": "stdout",
       "text": [
        "\n",
        "   962  |    0.007057  |  \u001b[32m  0.008658\u001b[0m  |     0.815096  |             |  4.4s"
       ]
      },
      {
       "output_type": "stream",
       "stream": "stdout",
       "text": [
        "\n",
        "   963  |    0.007050  |    0.008661  |     0.814032  |             |  4.4s"
       ]
      },
      {
       "output_type": "stream",
       "stream": "stdout",
       "text": [
        "\n",
        "   964  |    0.007029  |    0.008687  |     0.809150  |             |  4.4s"
       ]
      },
      {
       "output_type": "stream",
       "stream": "stdout",
       "text": [
        "\n",
        "   965  |  \u001b[94m  0.007007\u001b[0m  |    0.008664  |     0.808792  |             |  4.4s"
       ]
      },
      {
       "output_type": "stream",
       "stream": "stdout",
       "text": [
        "\n",
        "   966  |    0.007046  |    0.008677  |     0.812017  |             |  4.4s"
       ]
      },
      {
       "output_type": "stream",
       "stream": "stdout",
       "text": [
        "\n",
        "   967  |  \u001b[94m  0.006950\u001b[0m  |  \u001b[32m  0.008657\u001b[0m  |     0.802792  |             |  4.4s"
       ]
      },
      {
       "output_type": "stream",
       "stream": "stdout",
       "text": [
        "\n",
        "   968  |    0.007012  |    0.008670  |     0.808795  |             |  4.4s"
       ]
      },
      {
       "output_type": "stream",
       "stream": "stdout",
       "text": [
        "\n",
        "   969  |    0.006952  |  \u001b[32m  0.008656\u001b[0m  |     0.803160  |             |  4.4s"
       ]
      },
      {
       "output_type": "stream",
       "stream": "stdout",
       "text": [
        "\n",
        "   970  |  \u001b[94m  0.006915\u001b[0m  |    0.008670  |     0.797510  |             |  4.4s"
       ]
      },
      {
       "output_type": "stream",
       "stream": "stdout",
       "text": [
        "\n",
        "   971  |    0.006943  |    0.008667  |     0.801134  |             |  4.4s"
       ]
      },
      {
       "output_type": "stream",
       "stream": "stdout",
       "text": [
        "\n",
        "   972  |    0.006970  |  \u001b[32m  0.008647\u001b[0m  |     0.806056  |             |  4.4s"
       ]
      },
      {
       "output_type": "stream",
       "stream": "stdout",
       "text": [
        "\n",
        "   973  |    0.007015  |  \u001b[32m  0.008644\u001b[0m  |     0.811547  |             |  4.4s"
       ]
      },
      {
       "output_type": "stream",
       "stream": "stdout",
       "text": [
        "\n",
        "   974  |    0.006928  |    0.008663  |     0.799761  |             |  4.4s"
       ]
      },
      {
       "output_type": "stream",
       "stream": "stdout",
       "text": [
        "\n",
        "   975  |    0.006983  |    0.008645  |     0.807798  |             |  4.4s"
       ]
      },
      {
       "output_type": "stream",
       "stream": "stdout",
       "text": [
        "\n",
        "   976  |    0.006974  |    0.008645  |     0.806670  |             |  4.4s"
       ]
      },
      {
       "output_type": "stream",
       "stream": "stdout",
       "text": [
        "\n",
        "   977  |    0.006924  |  \u001b[32m  0.008643\u001b[0m  |     0.801152  |             |  4.4s"
       ]
      },
      {
       "output_type": "stream",
       "stream": "stdout",
       "text": [
        "\n",
        "   978  |  \u001b[94m  0.006907\u001b[0m  |  \u001b[32m  0.008624\u001b[0m  |     0.800914  |             |  4.4s"
       ]
      },
      {
       "output_type": "stream",
       "stream": "stdout",
       "text": [
        "\n",
        "   979  |  \u001b[94m  0.006859\u001b[0m  |  \u001b[32m  0.008621\u001b[0m  |     0.795603  |             |  4.4s"
       ]
      },
      {
       "output_type": "stream",
       "stream": "stdout",
       "text": [
        "\n",
        "   980  |  \u001b[94m  0.006843\u001b[0m  |    0.008624  |     0.793500  |             |  4.4s"
       ]
      },
      {
       "output_type": "stream",
       "stream": "stdout",
       "text": [
        "\n",
        "   981  |    0.006868  |    0.008628  |     0.795933  |             |  4.4s"
       ]
      },
      {
       "output_type": "stream",
       "stream": "stdout",
       "text": [
        "\n",
        "   982  |    0.006924  |    0.008627  |     0.802690  |             |  4.4s"
       ]
      },
      {
       "output_type": "stream",
       "stream": "stdout",
       "text": [
        "\n",
        "   983  |    0.006921  |  \u001b[32m  0.008606\u001b[0m  |     0.804258  |             |  4.4s"
       ]
      },
      {
       "output_type": "stream",
       "stream": "stdout",
       "text": [
        "\n",
        "   984  |    0.007000  |    0.008613  |     0.812696  |             |  4.4s"
       ]
      },
      {
       "output_type": "stream",
       "stream": "stdout",
       "text": [
        "\n",
        "   985  |    0.006886  |  \u001b[32m  0.008600\u001b[0m  |     0.800720  |             |  4.4s"
       ]
      },
      {
       "output_type": "stream",
       "stream": "stdout",
       "text": [
        "\n",
        "   986  |    0.006908  |    0.008608  |     0.802579  |             |  4.4s"
       ]
      },
      {
       "output_type": "stream",
       "stream": "stdout",
       "text": [
        "\n",
        "   987  |  \u001b[94m  0.006810\u001b[0m  |  \u001b[32m  0.008587\u001b[0m  |     0.793026  |             |  4.4s"
       ]
      },
      {
       "output_type": "stream",
       "stream": "stdout",
       "text": [
        "\n",
        "   988  |    0.006810  |  \u001b[32m  0.008571\u001b[0m  |     0.794535  |             |  4.4s"
       ]
      },
      {
       "output_type": "stream",
       "stream": "stdout",
       "text": [
        "\n",
        "   989  |    0.006921  |    0.008596  |     0.805122  |             |  4.4s"
       ]
      },
      {
       "output_type": "stream",
       "stream": "stdout",
       "text": [
        "\n",
        "   990  |  \u001b[94m  0.006737\u001b[0m  |    0.008576  |     0.785563  |             |  4.4s"
       ]
      },
      {
       "output_type": "stream",
       "stream": "stdout",
       "text": [
        "\n",
        "   991  |    0.006851  |    0.008591  |     0.797374  |             |  4.4s"
       ]
      },
      {
       "output_type": "stream",
       "stream": "stdout",
       "text": [
        "\n",
        "   992  |    0.006744  |    0.008594  |     0.784682  |             |  4.4s"
       ]
      },
      {
       "output_type": "stream",
       "stream": "stdout",
       "text": [
        "\n",
        "   993  |    0.006758  |    0.008584  |     0.787294  |             |  4.4s"
       ]
      },
      {
       "output_type": "stream",
       "stream": "stdout",
       "text": [
        "\n",
        "   994  |    0.006882  |    0.008581  |     0.802068  |             |  4.4s"
       ]
      },
      {
       "output_type": "stream",
       "stream": "stdout",
       "text": [
        "\n",
        "   995  |    0.006776  |    0.008580  |     0.789751  |             |  4.4s"
       ]
      },
      {
       "output_type": "stream",
       "stream": "stdout",
       "text": [
        "\n",
        "   996  |    0.006796  |    0.008590  |     0.791171  |             |  4.4s"
       ]
      },
      {
       "output_type": "stream",
       "stream": "stdout",
       "text": [
        "\n",
        "   997  |    0.006789  |    0.008586  |     0.790750  |             |  4.4s"
       ]
      },
      {
       "output_type": "stream",
       "stream": "stdout",
       "text": [
        "\n",
        "   998  |    0.006751  |    0.008575  |     0.787214  |             |  4.4s"
       ]
      },
      {
       "output_type": "stream",
       "stream": "stdout",
       "text": [
        "\n",
        "   999  |    0.006770  |  \u001b[32m  0.008557\u001b[0m  |     0.791173  |             |  4.4s"
       ]
      },
      {
       "output_type": "stream",
       "stream": "stdout",
       "text": [
        "\n",
        "  1000  |    0.006775  |    0.008585  |     0.789146  |             |  4.4s"
       ]
      },
      {
       "output_type": "stream",
       "stream": "stdout",
       "text": [
        "\n",
        "  1001  |  \u001b[94m  0.006683\u001b[0m  |    0.008584  |     0.778536  |             |  4.4s"
       ]
      },
      {
       "output_type": "stream",
       "stream": "stdout",
       "text": [
        "\n",
        "  1002  |    0.006743  |    0.008564  |     0.787404  |             |  4.4s"
       ]
      },
      {
       "output_type": "stream",
       "stream": "stdout",
       "text": [
        "\n",
        "  1003  |    0.006778  |    0.008563  |     0.791576  |             |  4.4s"
       ]
      },
      {
       "output_type": "stream",
       "stream": "stdout",
       "text": [
        "\n",
        "  1004  |    0.006794  |    0.008585  |     0.791384  |             |  4.4s"
       ]
      },
      {
       "output_type": "stream",
       "stream": "stdout",
       "text": [
        "\n",
        "  1005  |  \u001b[94m  0.006665\u001b[0m  |    0.008580  |     0.776793  |             |  4.4s"
       ]
      },
      {
       "output_type": "stream",
       "stream": "stdout",
       "text": [
        "\n",
        "  1006  |  \u001b[94m  0.006644\u001b[0m  |    0.008573  |     0.775081  |             |  4.4s"
       ]
      },
      {
       "output_type": "stream",
       "stream": "stdout",
       "text": [
        "\n",
        "  1007  |    0.006748  |    0.008573  |     0.787166  |             |  4.4s"
       ]
      },
      {
       "output_type": "stream",
       "stream": "stdout",
       "text": [
        "\n",
        "  1008  |  \u001b[94m  0.006634\u001b[0m  |    0.008580  |     0.773116  |             |  4.4s"
       ]
      },
      {
       "output_type": "stream",
       "stream": "stdout",
       "text": [
        "\n",
        "  1009  |    0.006674  |  \u001b[32m  0.008556\u001b[0m  |     0.780037  |             |  4.4s"
       ]
      },
      {
       "output_type": "stream",
       "stream": "stdout",
       "text": [
        "\n",
        "  1010  |    0.006693  |    0.008576  |     0.780423  |             |  4.4s"
       ]
      },
      {
       "output_type": "stream",
       "stream": "stdout",
       "text": [
        "\n",
        "  1011  |  \u001b[94m  0.006628\u001b[0m  |  \u001b[32m  0.008554\u001b[0m  |     0.774865  |             |  4.4s"
       ]
      },
      {
       "output_type": "stream",
       "stream": "stdout",
       "text": [
        "\n",
        "  1012  |    0.006674  |    0.008570  |     0.778674  |             |  4.4s"
       ]
      },
      {
       "output_type": "stream",
       "stream": "stdout",
       "text": [
        "\n",
        "  1013  |  \u001b[94m  0.006561\u001b[0m  |  \u001b[32m  0.008553\u001b[0m  |     0.767098  |             |  4.4s"
       ]
      },
      {
       "output_type": "stream",
       "stream": "stdout",
       "text": [
        "\n",
        "  1014  |    0.006656  |    0.008554  |     0.778035  |             |  4.4s"
       ]
      },
      {
       "output_type": "stream",
       "stream": "stdout",
       "text": [
        "\n",
        "  1015  |    0.006660  |  \u001b[32m  0.008533\u001b[0m  |     0.780530  |             |  4.4s"
       ]
      },
      {
       "output_type": "stream",
       "stream": "stdout",
       "text": [
        "\n",
        "  1016  |    0.006672  |  \u001b[32m  0.008531\u001b[0m  |     0.782100  |             |  4.4s"
       ]
      },
      {
       "output_type": "stream",
       "stream": "stdout",
       "text": [
        "\n",
        "  1017  |    0.006589  |    0.008540  |     0.771561  |             |  4.4s"
       ]
      },
      {
       "output_type": "stream",
       "stream": "stdout",
       "text": [
        "\n",
        "  1018  |    0.006617  |    0.008544  |     0.774483  |             |  4.4s"
       ]
      },
      {
       "output_type": "stream",
       "stream": "stdout",
       "text": [
        "\n",
        "  1019  |    0.006573  |    0.008546  |     0.769126  |             |  4.4s"
       ]
      },
      {
       "output_type": "stream",
       "stream": "stdout",
       "text": [
        "\n",
        "  1020  |    0.006650  |  \u001b[32m  0.008522\u001b[0m  |     0.780338  |             |  4.4s"
       ]
      },
      {
       "output_type": "stream",
       "stream": "stdout",
       "text": [
        "\n",
        "  1021  |  \u001b[94m  0.006522\u001b[0m  |    0.008539  |     0.763785  |             |  4.4s"
       ]
      },
      {
       "output_type": "stream",
       "stream": "stdout",
       "text": [
        "\n",
        "  1022  |    0.006581  |    0.008537  |     0.770898  |             |  4.4s"
       ]
      },
      {
       "output_type": "stream",
       "stream": "stdout",
       "text": [
        "\n",
        "  1023  |    0.006611  |    0.008564  |     0.771949  |             |  4.4s"
       ]
      },
      {
       "output_type": "stream",
       "stream": "stdout",
       "text": [
        "\n",
        "  1024  |    0.006571  |    0.008535  |     0.769871  |             |  4.4s"
       ]
      },
      {
       "output_type": "stream",
       "stream": "stdout",
       "text": [
        "\n",
        "  1025  |    0.006649  |    0.008532  |     0.779303  |             |  4.4s"
       ]
      },
      {
       "output_type": "stream",
       "stream": "stdout",
       "text": [
        "\n",
        "  1026  |    0.006623  |  \u001b[32m  0.008514\u001b[0m  |     0.777860  |             |  4.4s"
       ]
      },
      {
       "output_type": "stream",
       "stream": "stdout",
       "text": [
        "\n",
        "  1027  |  \u001b[94m  0.006486\u001b[0m  |    0.008540  |     0.759423  |             |  4.4s"
       ]
      },
      {
       "output_type": "stream",
       "stream": "stdout",
       "text": [
        "\n",
        "  1028  |    0.006576  |    0.008522  |     0.771623  |             |  4.4s"
       ]
      },
      {
       "output_type": "stream",
       "stream": "stdout",
       "text": [
        "\n",
        "  1029  |    0.006578  |    0.008529  |     0.771221  |             |  4.4s"
       ]
      },
      {
       "output_type": "stream",
       "stream": "stdout",
       "text": [
        "\n",
        "  1030  |    0.006500  |  \u001b[32m  0.008514\u001b[0m  |     0.763479  |             |  4.4s"
       ]
      },
      {
       "output_type": "stream",
       "stream": "stdout",
       "text": [
        "\n",
        "  1031  |  \u001b[94m  0.006433\u001b[0m  |  \u001b[32m  0.008503\u001b[0m  |     0.756585  |             |  4.4s"
       ]
      },
      {
       "output_type": "stream",
       "stream": "stdout",
       "text": [
        "\n",
        "  1032  |    0.006491  |    0.008506  |     0.763107  |             |  4.4s"
       ]
      },
      {
       "output_type": "stream",
       "stream": "stdout",
       "text": [
        "\n",
        "  1033  |    0.006455  |    0.008520  |     0.757618  |             |  4.4s"
       ]
      },
      {
       "output_type": "stream",
       "stream": "stdout",
       "text": [
        "\n",
        "  1034  |    0.006493  |    0.008510  |     0.762921  |             |  4.4s"
       ]
      },
      {
       "output_type": "stream",
       "stream": "stdout",
       "text": [
        "\n",
        "  1035  |    0.006537  |  \u001b[32m  0.008503\u001b[0m  |     0.768860  |             |  4.4s"
       ]
      },
      {
       "output_type": "stream",
       "stream": "stdout",
       "text": [
        "\n",
        "  1036  |  \u001b[94m  0.006426\u001b[0m  |    0.008504  |     0.755624  |             |  4.4s"
       ]
      },
      {
       "output_type": "stream",
       "stream": "stdout",
       "text": [
        "\n",
        "  1037  |    0.006449  |  \u001b[32m  0.008486\u001b[0m  |     0.759959  |             |  4.4s"
       ]
      },
      {
       "output_type": "stream",
       "stream": "stdout",
       "text": [
        "\n",
        "  1038  |    0.006501  |    0.008503  |     0.764546  |             |  4.4s"
       ]
      },
      {
       "output_type": "stream",
       "stream": "stdout",
       "text": [
        "\n",
        "  1039  |  \u001b[94m  0.006413\u001b[0m  |    0.008507  |     0.753765  |             |  4.4s"
       ]
      },
      {
       "output_type": "stream",
       "stream": "stdout",
       "text": [
        "\n",
        "  1040  |    0.006424  |    0.008488  |     0.756911  |             |  4.4s"
       ]
      },
      {
       "output_type": "stream",
       "stream": "stdout",
       "text": [
        "\n",
        "  1041  |  \u001b[94m  0.006396\u001b[0m  |    0.008497  |     0.752767  |             |  4.4s"
       ]
      },
      {
       "output_type": "stream",
       "stream": "stdout",
       "text": [
        "\n",
        "  1042  |  \u001b[94m  0.006381\u001b[0m  |  \u001b[32m  0.008483\u001b[0m  |     0.752270  |             |  4.4s"
       ]
      },
      {
       "output_type": "stream",
       "stream": "stdout",
       "text": [
        "\n",
        "  1043  |  \u001b[94m  0.006370\u001b[0m  |    0.008494  |     0.749929  |             |  4.4s"
       ]
      },
      {
       "output_type": "stream",
       "stream": "stdout",
       "text": [
        "\n",
        "  1044  |    0.006429  |    0.008490  |     0.757214  |             |  4.4s"
       ]
      },
      {
       "output_type": "stream",
       "stream": "stdout",
       "text": [
        "\n",
        "  1045  |    0.006405  |  \u001b[32m  0.008476\u001b[0m  |     0.755611  |             |  4.4s"
       ]
      },
      {
       "output_type": "stream",
       "stream": "stdout",
       "text": [
        "\n",
        "  1046  |    0.006446  |    0.008483  |     0.759867  |             |  4.4s"
       ]
      },
      {
       "output_type": "stream",
       "stream": "stdout",
       "text": [
        "\n",
        "  1047  |  \u001b[94m  0.006333\u001b[0m  |    0.008481  |     0.746738  |             |  4.4s"
       ]
      },
      {
       "output_type": "stream",
       "stream": "stdout",
       "text": [
        "\n",
        "  1048  |    0.006440  |    0.008485  |     0.759051  |             |  4.4s"
       ]
      },
      {
       "output_type": "stream",
       "stream": "stdout",
       "text": [
        "\n",
        "  1049  |  \u001b[94m  0.006276\u001b[0m  |  \u001b[32m  0.008464\u001b[0m  |     0.741423  |             |  4.4s"
       ]
      },
      {
       "output_type": "stream",
       "stream": "stdout",
       "text": [
        "\n",
        "  1050  |    0.006390  |    0.008475  |     0.753941  |             |  4.4s"
       ]
      },
      {
       "output_type": "stream",
       "stream": "stdout",
       "text": [
        "\n",
        "  1051  |    0.006375  |  \u001b[32m  0.008460\u001b[0m  |     0.753502  |             |  4.4s"
       ]
      },
      {
       "output_type": "stream",
       "stream": "stdout",
       "text": [
        "\n",
        "  1052  |    0.006429  |    0.008470  |     0.759079  |             |  4.4s"
       ]
      },
      {
       "output_type": "stream",
       "stream": "stdout",
       "text": [
        "\n",
        "  1053  |    0.006369  |  \u001b[32m  0.008447\u001b[0m  |     0.754028  |             |  4.4s"
       ]
      },
      {
       "output_type": "stream",
       "stream": "stdout",
       "text": [
        "\n",
        "  1054  |    0.006335  |    0.008464  |     0.748446  |             |  4.4s"
       ]
      },
      {
       "output_type": "stream",
       "stream": "stdout",
       "text": [
        "\n",
        "  1055  |    0.006360  |  \u001b[32m  0.008443\u001b[0m  |     0.753377  |             |  4.4s"
       ]
      },
      {
       "output_type": "stream",
       "stream": "stdout",
       "text": [
        "\n",
        "  1056  |    0.006299  |    0.008449  |     0.745534  |             |  4.4s"
       ]
      },
      {
       "output_type": "stream",
       "stream": "stdout",
       "text": [
        "\n",
        "  1057  |    0.006279  |    0.008477  |     0.740716  |             |  4.4s"
       ]
      },
      {
       "output_type": "stream",
       "stream": "stdout",
       "text": [
        "\n",
        "  1058  |    0.006373  |    0.008460  |     0.753317  |             |  4.4s"
       ]
      },
      {
       "output_type": "stream",
       "stream": "stdout",
       "text": [
        "\n",
        "  1059  |  \u001b[94m  0.006270\u001b[0m  |    0.008451  |     0.741864  |             |  4.4s"
       ]
      },
      {
       "output_type": "stream",
       "stream": "stdout",
       "text": [
        "\n",
        "  1060  |  \u001b[94m  0.006211\u001b[0m  |    0.008446  |     0.735444  |             |  4.4s"
       ]
      },
      {
       "output_type": "stream",
       "stream": "stdout",
       "text": [
        "\n",
        "  1061  |    0.006284  |    0.008462  |     0.742592  |             |  4.4s"
       ]
      },
      {
       "output_type": "stream",
       "stream": "stdout",
       "text": [
        "\n",
        "  1062  |    0.006347  |    0.008463  |     0.750021  |             |  4.4s"
       ]
      },
      {
       "output_type": "stream",
       "stream": "stdout",
       "text": [
        "\n",
        "  1063  |    0.006346  |  \u001b[32m  0.008439\u001b[0m  |     0.752047  |             |  4.4s"
       ]
      },
      {
       "output_type": "stream",
       "stream": "stdout",
       "text": [
        "\n",
        "  1064  |    0.006296  |    0.008444  |     0.745702  |             |  4.4s"
       ]
      },
      {
       "output_type": "stream",
       "stream": "stdout",
       "text": [
        "\n",
        "  1065  |    0.006410  |    0.008439  |     0.759573  |             |  4.4s"
       ]
      },
      {
       "output_type": "stream",
       "stream": "stdout",
       "text": [
        "\n",
        "  1066  |    0.006315  |    0.008451  |     0.747252  |             |  4.4s"
       ]
      },
      {
       "output_type": "stream",
       "stream": "stdout",
       "text": [
        "\n",
        "  1067  |    0.006238  |  \u001b[32m  0.008421\u001b[0m  |     0.740789  |             |  4.4s"
       ]
      },
      {
       "output_type": "stream",
       "stream": "stdout",
       "text": [
        "\n",
        "  1068  |    0.006230  |    0.008432  |     0.738852  |             |  4.4s"
       ]
      },
      {
       "output_type": "stream",
       "stream": "stdout",
       "text": [
        "\n",
        "  1069  |  \u001b[94m  0.006153\u001b[0m  |    0.008444  |     0.728644  |             |  4.4s"
       ]
      },
      {
       "output_type": "stream",
       "stream": "stdout",
       "text": [
        "\n",
        "  1070  |    0.006277  |    0.008446  |     0.743187  |             |  4.4s"
       ]
      },
      {
       "output_type": "stream",
       "stream": "stdout",
       "text": [
        "\n",
        "  1071  |    0.006158  |    0.008441  |     0.729567  |             |  4.4s"
       ]
      },
      {
       "output_type": "stream",
       "stream": "stdout",
       "text": [
        "\n",
        "  1072  |    0.006205  |    0.008431  |     0.735993  |             |  4.4s"
       ]
      },
      {
       "output_type": "stream",
       "stream": "stdout",
       "text": [
        "\n",
        "  1073  |  \u001b[94m  0.006111\u001b[0m  |    0.008429  |     0.725052  |             |  4.4s"
       ]
      },
      {
       "output_type": "stream",
       "stream": "stdout",
       "text": [
        "\n",
        "  1074  |    0.006205  |  \u001b[32m  0.008411\u001b[0m  |     0.737767  |             |  4.4s"
       ]
      },
      {
       "output_type": "stream",
       "stream": "stdout",
       "text": [
        "\n",
        "  1075  |    0.006281  |  \u001b[32m  0.008404\u001b[0m  |     0.747345  |             |  4.4s"
       ]
      },
      {
       "output_type": "stream",
       "stream": "stdout",
       "text": [
        "\n",
        "  1076  |    0.006216  |    0.008406  |     0.739507  |             |  4.4s"
       ]
      },
      {
       "output_type": "stream",
       "stream": "stdout",
       "text": [
        "\n",
        "  1077  |    0.006166  |    0.008411  |     0.733055  |             |  4.4s"
       ]
      },
      {
       "output_type": "stream",
       "stream": "stdout",
       "text": [
        "\n",
        "  1078  |  \u001b[94m  0.006088\u001b[0m  |    0.008421  |     0.722964  |             |  4.4s"
       ]
      },
      {
       "output_type": "stream",
       "stream": "stdout",
       "text": [
        "\n",
        "  1079  |    0.006165  |  \u001b[32m  0.008396\u001b[0m  |     0.734266  |             |  4.4s"
       ]
      },
      {
       "output_type": "stream",
       "stream": "stdout",
       "text": [
        "\n",
        "  1080  |    0.006209  |    0.008415  |     0.737862  |             |  4.4s"
       ]
      },
      {
       "output_type": "stream",
       "stream": "stdout",
       "text": [
        "\n",
        "  1081  |    0.006251  |  \u001b[32m  0.008389\u001b[0m  |     0.745151  |             |  4.4s"
       ]
      },
      {
       "output_type": "stream",
       "stream": "stdout",
       "text": [
        "\n",
        "  1082  |    0.006110  |    0.008394  |     0.727861  |             |  4.4s"
       ]
      },
      {
       "output_type": "stream",
       "stream": "stdout",
       "text": [
        "\n",
        "  1083  |    0.006251  |    0.008398  |     0.744336  |             |  4.4s"
       ]
      },
      {
       "output_type": "stream",
       "stream": "stdout",
       "text": [
        "\n",
        "  1084  |    0.006205  |    0.008396  |     0.739047  |             |  4.4s"
       ]
      },
      {
       "output_type": "stream",
       "stream": "stdout",
       "text": [
        "\n",
        "  1085  |    0.006145  |    0.008394  |     0.732033  |             |  4.4s"
       ]
      },
      {
       "output_type": "stream",
       "stream": "stdout",
       "text": [
        "\n",
        "  1086  |    0.006189  |    0.008409  |     0.735930  |             |  4.4s"
       ]
      },
      {
       "output_type": "stream",
       "stream": "stdout",
       "text": [
        "\n",
        "  1087  |  \u001b[94m  0.006053\u001b[0m  |    0.008392  |     0.721297  |             |  4.4s"
       ]
      },
      {
       "output_type": "stream",
       "stream": "stdout",
       "text": [
        "\n",
        "  1088  |    0.006077  |    0.008409  |     0.722625  |             |  4.4s"
       ]
      },
      {
       "output_type": "stream",
       "stream": "stdout",
       "text": [
        "\n",
        "  1089  |    0.006173  |    0.008400  |     0.734909  |             |  4.4s"
       ]
      },
      {
       "output_type": "stream",
       "stream": "stdout",
       "text": [
        "\n",
        "  1090  |    0.006107  |    0.008414  |     0.725854  |             |  4.4s"
       ]
      },
      {
       "output_type": "stream",
       "stream": "stdout",
       "text": [
        "\n",
        "  1091  |  \u001b[94m  0.006019\u001b[0m  |    0.008394  |     0.716993  |             |  4.4s"
       ]
      },
      {
       "output_type": "stream",
       "stream": "stdout",
       "text": [
        "\n",
        "  1092  |    0.006093  |    0.008397  |     0.725552  |             |  4.4s"
       ]
      },
      {
       "output_type": "stream",
       "stream": "stdout",
       "text": [
        "\n",
        "  1093  |  \u001b[94m  0.006007\u001b[0m  |  \u001b[32m  0.008386\u001b[0m  |     0.716307  |             |  4.4s"
       ]
      },
      {
       "output_type": "stream",
       "stream": "stdout",
       "text": [
        "\n",
        "  1094  |    0.006073  |    0.008401  |     0.722860  |             |  4.4s"
       ]
      },
      {
       "output_type": "stream",
       "stream": "stdout",
       "text": [
        "\n",
        "  1095  |  \u001b[94m  0.006004\u001b[0m  |    0.008400  |     0.714741  |             |  4.4s"
       ]
      },
      {
       "output_type": "stream",
       "stream": "stdout",
       "text": [
        "\n",
        "  1096  |    0.006070  |    0.008402  |     0.722531  |             |  4.4s"
       ]
      },
      {
       "output_type": "stream",
       "stream": "stdout",
       "text": [
        "\n",
        "  1097  |    0.006024  |    0.008411  |     0.716267  |             |  4.4s"
       ]
      },
      {
       "output_type": "stream",
       "stream": "stdout",
       "text": [
        "\n",
        "  1098  |  \u001b[94m  0.005973\u001b[0m  |  \u001b[32m  0.008383\u001b[0m  |     0.712454  |             |  4.4s"
       ]
      },
      {
       "output_type": "stream",
       "stream": "stdout",
       "text": [
        "\n",
        "  1099  |    0.006037  |    0.008384  |     0.720035  |             |  4.4s"
       ]
      },
      {
       "output_type": "stream",
       "stream": "stdout",
       "text": [
        "\n",
        "  1100  |    0.006017  |    0.008398  |     0.716453  |             |  4.4s"
       ]
      },
      {
       "output_type": "stream",
       "stream": "stdout",
       "text": [
        "\n",
        "  1101  |    0.006054  |    0.008386  |     0.721871  |             |  4.4s"
       ]
      },
      {
       "output_type": "stream",
       "stream": "stdout",
       "text": [
        "\n",
        "  1102  |  \u001b[94m  0.005964\u001b[0m  |  \u001b[32m  0.008381\u001b[0m  |     0.711670  |             |  4.4s"
       ]
      },
      {
       "output_type": "stream",
       "stream": "stdout",
       "text": [
        "\n",
        "  1103  |    0.005996  |    0.008391  |     0.714579  |             |  4.4s"
       ]
      },
      {
       "output_type": "stream",
       "stream": "stdout",
       "text": [
        "\n",
        "  1104  |    0.006001  |    0.008382  |     0.715952  |             |  4.4s"
       ]
      },
      {
       "output_type": "stream",
       "stream": "stdout",
       "text": [
        "\n",
        "  1105  |  \u001b[94m  0.005958\u001b[0m  |  \u001b[32m  0.008361\u001b[0m  |     0.712498  |             |  4.4s"
       ]
      },
      {
       "output_type": "stream",
       "stream": "stdout",
       "text": [
        "\n",
        "  1106  |    0.006048  |    0.008382  |     0.721578  |             |  4.4s"
       ]
      },
      {
       "output_type": "stream",
       "stream": "stdout",
       "text": [
        "\n",
        "  1107  |  \u001b[94m  0.005953\u001b[0m  |    0.008384  |     0.710066  |             |  4.4s"
       ]
      },
      {
       "output_type": "stream",
       "stream": "stdout",
       "text": [
        "\n",
        "  1108  |    0.006009  |    0.008374  |     0.717570  |             |  4.4s"
       ]
      },
      {
       "output_type": "stream",
       "stream": "stdout",
       "text": [
        "\n",
        "  1109  |    0.005970  |    0.008375  |     0.712785  |             |  4.4s"
       ]
      },
      {
       "output_type": "stream",
       "stream": "stdout",
       "text": [
        "\n",
        "  1110  |  \u001b[94m  0.005914\u001b[0m  |  \u001b[32m  0.008347\u001b[0m  |     0.708514  |             |  4.4s"
       ]
      },
      {
       "output_type": "stream",
       "stream": "stdout",
       "text": [
        "\n",
        "  1111  |    0.005941  |    0.008374  |     0.709434  |             |  4.4s"
       ]
      },
      {
       "output_type": "stream",
       "stream": "stdout",
       "text": [
        "\n",
        "  1112  |    0.005919  |    0.008360  |     0.708028  |             |  4.4s"
       ]
      },
      {
       "output_type": "stream",
       "stream": "stdout",
       "text": [
        "\n",
        "  1113  |    0.005936  |  \u001b[32m  0.008345\u001b[0m  |     0.711231  |             |  4.4s"
       ]
      },
      {
       "output_type": "stream",
       "stream": "stdout",
       "text": [
        "\n",
        "  1114  |    0.006009  |    0.008358  |     0.718920  |             |  4.4s"
       ]
      },
      {
       "output_type": "stream",
       "stream": "stdout",
       "text": [
        "\n",
        "  1115  |  \u001b[94m  0.005903\u001b[0m  |    0.008356  |     0.706486  |             |  4.4s"
       ]
      },
      {
       "output_type": "stream",
       "stream": "stdout",
       "text": [
        "\n",
        "  1116  |  \u001b[94m  0.005858\u001b[0m  |    0.008370  |     0.699855  |             |  4.4s"
       ]
      },
      {
       "output_type": "stream",
       "stream": "stdout",
       "text": [
        "\n",
        "  1117  |    0.005879  |    0.008366  |     0.702812  |             |  4.4s"
       ]
      },
      {
       "output_type": "stream",
       "stream": "stdout",
       "text": [
        "\n",
        "  1118  |  \u001b[94m  0.005847\u001b[0m  |    0.008354  |     0.699947  |             |  4.4s"
       ]
      },
      {
       "output_type": "stream",
       "stream": "stdout",
       "text": [
        "\n",
        "  1119  |  \u001b[94m  0.005812\u001b[0m  |    0.008349  |     0.696150  |             |  4.4s"
       ]
      },
      {
       "output_type": "stream",
       "stream": "stdout",
       "text": [
        "\n",
        "  1120  |    0.005920  |  \u001b[32m  0.008338\u001b[0m  |     0.709952  |             |  4.4s"
       ]
      },
      {
       "output_type": "stream",
       "stream": "stdout",
       "text": [
        "\n",
        "  1121  |    0.005997  |    0.008342  |     0.718900  |             |  4.4s"
       ]
      },
      {
       "output_type": "stream",
       "stream": "stdout",
       "text": [
        "\n",
        "  1122  |    0.005834  |    0.008341  |     0.699480  |             |  4.4s"
       ]
      },
      {
       "output_type": "stream",
       "stream": "stdout",
       "text": [
        "\n",
        "  1123  |    0.005837  |    0.008344  |     0.699478  |             |  4.4s"
       ]
      },
      {
       "output_type": "stream",
       "stream": "stdout",
       "text": [
        "\n",
        "  1124  |    0.005836  |  \u001b[32m  0.008329\u001b[0m  |     0.700674  |             |  4.4s"
       ]
      },
      {
       "output_type": "stream",
       "stream": "stdout",
       "text": [
        "\n",
        "  1125  |    0.005888  |    0.008363  |     0.704009  |             |  4.4s"
       ]
      },
      {
       "output_type": "stream",
       "stream": "stdout",
       "text": [
        "\n",
        "  1126  |    0.005866  |    0.008355  |     0.702075  |             |  4.4s"
       ]
      },
      {
       "output_type": "stream",
       "stream": "stdout",
       "text": [
        "\n",
        "  1127  |    0.005812  |    0.008341  |     0.696838  |             |  4.4s"
       ]
      },
      {
       "output_type": "stream",
       "stream": "stdout",
       "text": [
        "\n",
        "  1128  |    0.005824  |    0.008337  |     0.698522  |             |  4.4s"
       ]
      },
      {
       "output_type": "stream",
       "stream": "stdout",
       "text": [
        "\n",
        "  1129  |    0.005868  |    0.008353  |     0.702427  |             |  4.4s"
       ]
      },
      {
       "output_type": "stream",
       "stream": "stdout",
       "text": [
        "\n",
        "  1130  |    0.005858  |    0.008361  |     0.700631  |             |  4.4s"
       ]
      },
      {
       "output_type": "stream",
       "stream": "stdout",
       "text": [
        "\n",
        "  1131  |    0.005886  |    0.008356  |     0.704415  |             |  4.4s"
       ]
      },
      {
       "output_type": "stream",
       "stream": "stdout",
       "text": [
        "\n",
        "  1132  |    0.005826  |    0.008352  |     0.697589  |             |  4.4s"
       ]
      },
      {
       "output_type": "stream",
       "stream": "stdout",
       "text": [
        "\n",
        "  1133  |    0.005851  |    0.008349  |     0.700726  |             |  4.4s"
       ]
      },
      {
       "output_type": "stream",
       "stream": "stdout",
       "text": [
        "\n",
        "  1134  |  \u001b[94m  0.005770\u001b[0m  |    0.008332  |     0.692461  |             |  4.4s"
       ]
      },
      {
       "output_type": "stream",
       "stream": "stdout",
       "text": [
        "\n",
        "  1135  |    0.005787  |    0.008334  |     0.694377  |             |  4.4s"
       ]
      },
      {
       "output_type": "stream",
       "stream": "stdout",
       "text": [
        "\n",
        "  1136  |    0.005801  |    0.008342  |     0.695330  |             |  4.4s"
       ]
      },
      {
       "output_type": "stream",
       "stream": "stdout",
       "text": [
        "\n",
        "  1137  |  \u001b[94m  0.005737\u001b[0m  |  \u001b[32m  0.008320\u001b[0m  |     0.689527  |             |  4.4s"
       ]
      },
      {
       "output_type": "stream",
       "stream": "stdout",
       "text": [
        "\n",
        "  1138  |    0.005793  |    0.008342  |     0.694426  |             |  4.4s"
       ]
      },
      {
       "output_type": "stream",
       "stream": "stdout",
       "text": [
        "\n",
        "  1139  |  \u001b[94m  0.005731\u001b[0m  |    0.008329  |     0.688085  |             |  4.4s"
       ]
      },
      {
       "output_type": "stream",
       "stream": "stdout",
       "text": [
        "\n",
        "  1140  |  \u001b[94m  0.005666\u001b[0m  |    0.008336  |     0.679699  |             |  4.4s"
       ]
      },
      {
       "output_type": "stream",
       "stream": "stdout",
       "text": [
        "\n",
        "  1141  |    0.005744  |    0.008324  |     0.690010  |             |  4.4s"
       ]
      },
      {
       "output_type": "stream",
       "stream": "stdout",
       "text": [
        "\n",
        "  1142  |    0.005793  |  \u001b[32m  0.008310\u001b[0m  |     0.697039  |             |  4.4s"
       ]
      },
      {
       "output_type": "stream",
       "stream": "stdout",
       "text": [
        "\n",
        "  1143  |    0.005728  |    0.008313  |     0.689009  |             |  4.4s"
       ]
      },
      {
       "output_type": "stream",
       "stream": "stdout",
       "text": [
        "\n",
        "  1144  |    0.005687  |    0.008311  |     0.684271  |             |  4.4s"
       ]
      },
      {
       "output_type": "stream",
       "stream": "stdout",
       "text": [
        "\n",
        "  1145  |    0.005756  |    0.008313  |     0.692446  |             |  4.4s"
       ]
      },
      {
       "output_type": "stream",
       "stream": "stdout",
       "text": [
        "\n",
        "  1146  |    0.005825  |  \u001b[32m  0.008307\u001b[0m  |     0.701271  |             |  4.4s"
       ]
      },
      {
       "output_type": "stream",
       "stream": "stdout",
       "text": [
        "\n",
        "  1147  |    0.005798  |  \u001b[32m  0.008303\u001b[0m  |     0.698286  |             |  4.4s"
       ]
      },
      {
       "output_type": "stream",
       "stream": "stdout",
       "text": [
        "\n",
        "  1148  |    0.005730  |    0.008308  |     0.689654  |             |  4.4s"
       ]
      },
      {
       "output_type": "stream",
       "stream": "stdout",
       "text": [
        "\n",
        "  1149  |    0.005738  |  \u001b[32m  0.008294\u001b[0m  |     0.691860  |             |  4.4s"
       ]
      },
      {
       "output_type": "stream",
       "stream": "stdout",
       "text": [
        "\n",
        "  1150  |    0.005704  |    0.008299  |     0.687288  |             |  4.4s"
       ]
      },
      {
       "output_type": "stream",
       "stream": "stdout",
       "text": [
        "\n",
        "  1151  |    0.005752  |    0.008316  |     0.691612  |             |  4.4s"
       ]
      },
      {
       "output_type": "stream",
       "stream": "stdout",
       "text": [
        "\n",
        "  1152  |    0.005688  |    0.008306  |     0.684873  |             |  4.4s"
       ]
      },
      {
       "output_type": "stream",
       "stream": "stdout",
       "text": [
        "\n",
        "  1153  |    0.005708  |    0.008295  |     0.688155  |             |  4.4s"
       ]
      },
      {
       "output_type": "stream",
       "stream": "stdout",
       "text": [
        "\n",
        "  1154  |  \u001b[94m  0.005604\u001b[0m  |    0.008305  |     0.674837  |             |  4.4s"
       ]
      },
      {
       "output_type": "stream",
       "stream": "stdout",
       "text": [
        "\n",
        "  1155  |    0.005624  |    0.008305  |     0.677229  |             |  4.4s"
       ]
      },
      {
       "output_type": "stream",
       "stream": "stdout",
       "text": [
        "\n",
        "  1156  |    0.005609  |  \u001b[32m  0.008281\u001b[0m  |     0.677352  |             |  4.4s"
       ]
      },
      {
       "output_type": "stream",
       "stream": "stdout",
       "text": [
        "\n",
        "  1157  |    0.005690  |    0.008300  |     0.685494  |             |  4.4s"
       ]
      },
      {
       "output_type": "stream",
       "stream": "stdout",
       "text": [
        "\n",
        "  1158  |    0.005611  |    0.008292  |     0.676645  |             |  4.4s"
       ]
      },
      {
       "output_type": "stream",
       "stream": "stdout",
       "text": [
        "\n",
        "  1159  |    0.005654  |    0.008289  |     0.682046  |             |  4.4s"
       ]
      },
      {
       "output_type": "stream",
       "stream": "stdout",
       "text": [
        "\n",
        "  1160  |    0.005627  |    0.008292  |     0.678655  |             |  4.4s"
       ]
      },
      {
       "output_type": "stream",
       "stream": "stdout",
       "text": [
        "\n",
        "  1161  |    0.005675  |    0.008289  |     0.684661  |             |  4.4s"
       ]
      },
      {
       "output_type": "stream",
       "stream": "stdout",
       "text": [
        "\n",
        "  1162  |    0.005615  |  \u001b[32m  0.008280\u001b[0m  |     0.678181  |             |  4.4s"
       ]
      },
      {
       "output_type": "stream",
       "stream": "stdout",
       "text": [
        "\n",
        "  1163  |  \u001b[94m  0.005580\u001b[0m  |    0.008288  |     0.673309  |             |  4.4s"
       ]
      },
      {
       "output_type": "stream",
       "stream": "stdout",
       "text": [
        "\n",
        "  1164  |    0.005685  |    0.008306  |     0.684360  |             |  4.4s"
       ]
      },
      {
       "output_type": "stream",
       "stream": "stdout",
       "text": [
        "\n",
        "  1165  |  \u001b[94m  0.005572\u001b[0m  |    0.008285  |     0.672540  |             |  4.4s"
       ]
      },
      {
       "output_type": "stream",
       "stream": "stdout",
       "text": [
        "\n",
        "  1166  |  \u001b[94m  0.005570\u001b[0m  |    0.008294  |     0.671582  |             |  4.4s"
       ]
      },
      {
       "output_type": "stream",
       "stream": "stdout",
       "text": [
        "\n",
        "  1167  |    0.005592  |    0.008285  |     0.674961  |             |  4.4s"
       ]
      },
      {
       "output_type": "stream",
       "stream": "stdout",
       "text": [
        "\n",
        "  1168  |    0.005586  |    0.008292  |     0.673652  |             |  4.4s"
       ]
      },
      {
       "output_type": "stream",
       "stream": "stdout",
       "text": [
        "\n",
        "  1169  |    0.005588  |  \u001b[32m  0.008267\u001b[0m  |     0.676027  |             |  4.4s"
       ]
      },
      {
       "output_type": "stream",
       "stream": "stdout",
       "text": [
        "\n",
        "  1170  |    0.005610  |  \u001b[32m  0.008266\u001b[0m  |     0.678735  |             |  4.4s"
       ]
      },
      {
       "output_type": "stream",
       "stream": "stdout",
       "text": [
        "\n",
        "  1171  |  \u001b[94m  0.005513\u001b[0m  |    0.008281  |     0.665750  |             |  4.4s"
       ]
      },
      {
       "output_type": "stream",
       "stream": "stdout",
       "text": [
        "\n",
        "  1172  |  \u001b[94m  0.005469\u001b[0m  |  \u001b[32m  0.008262\u001b[0m  |     0.661938  |             |  4.4s"
       ]
      },
      {
       "output_type": "stream",
       "stream": "stdout",
       "text": [
        "\n",
        "  1173  |    0.005604  |    0.008273  |     0.677398  |             |  4.4s"
       ]
      },
      {
       "output_type": "stream",
       "stream": "stdout",
       "text": [
        "\n",
        "  1174  |    0.005480  |    0.008286  |     0.661299  |             |  4.4s"
       ]
      },
      {
       "output_type": "stream",
       "stream": "stdout",
       "text": [
        "\n",
        "  1175  |    0.005511  |    0.008282  |     0.665424  |             |  4.4s"
       ]
      },
      {
       "output_type": "stream",
       "stream": "stdout",
       "text": [
        "\n",
        "  1176  |    0.005543  |    0.008282  |     0.669217  |             |  4.4s"
       ]
      },
      {
       "output_type": "stream",
       "stream": "stdout",
       "text": [
        "\n",
        "  1177  |    0.005552  |    0.008268  |     0.671540  |             |  4.4s"
       ]
      },
      {
       "output_type": "stream",
       "stream": "stdout",
       "text": [
        "\n",
        "  1178  |    0.005527  |  \u001b[32m  0.008258\u001b[0m  |     0.669292  |             |  4.4s"
       ]
      },
      {
       "output_type": "stream",
       "stream": "stdout",
       "text": [
        "\n",
        "  1179  |    0.005558  |  \u001b[32m  0.008256\u001b[0m  |     0.673225  |             |  4.4s"
       ]
      },
      {
       "output_type": "stream",
       "stream": "stdout",
       "text": [
        "\n",
        "  1180  |    0.005497  |    0.008269  |     0.664802  |             |  4.4s"
       ]
      },
      {
       "output_type": "stream",
       "stream": "stdout",
       "text": [
        "\n",
        "  1181  |    0.005528  |    0.008265  |     0.668793  |             |  4.4s"
       ]
      },
      {
       "output_type": "stream",
       "stream": "stdout",
       "text": [
        "\n",
        "  1182  |    0.005609  |    0.008273  |     0.677971  |             |  4.4s"
       ]
      },
      {
       "output_type": "stream",
       "stream": "stdout",
       "text": [
        "\n",
        "  1183  |    0.005513  |    0.008259  |     0.667504  |             |  4.4s"
       ]
      },
      {
       "output_type": "stream",
       "stream": "stdout",
       "text": [
        "\n",
        "  1184  |    0.005517  |    0.008267  |     0.667358  |             |  4.4s"
       ]
      },
      {
       "output_type": "stream",
       "stream": "stdout",
       "text": [
        "\n",
        "  1185  |    0.005517  |    0.008262  |     0.667749  |             |  4.4s"
       ]
      },
      {
       "output_type": "stream",
       "stream": "stdout",
       "text": [
        "\n",
        "  1186  |    0.005472  |    0.008258  |     0.662704  |             |  4.4s"
       ]
      },
      {
       "output_type": "stream",
       "stream": "stdout",
       "text": [
        "\n",
        "  1187  |    0.005487  |    0.008258  |     0.664457  |             |  4.4s"
       ]
      },
      {
       "output_type": "stream",
       "stream": "stdout",
       "text": [
        "\n",
        "  1188  |    0.005476  |  \u001b[32m  0.008251\u001b[0m  |     0.663662  |             |  4.4s"
       ]
      },
      {
       "output_type": "stream",
       "stream": "stdout",
       "text": [
        "\n",
        "  1189  |    0.005527  |    0.008254  |     0.669559  |             |  4.4s"
       ]
      },
      {
       "output_type": "stream",
       "stream": "stdout",
       "text": [
        "\n",
        "  1190  |    0.005488  |    0.008254  |     0.664938  |             |  4.4s"
       ]
      },
      {
       "output_type": "stream",
       "stream": "stdout",
       "text": [
        "\n",
        "  1191  |    0.005487  |    0.008264  |     0.663879  |             |  4.4s"
       ]
      },
      {
       "output_type": "stream",
       "stream": "stdout",
       "text": [
        "\n",
        "  1192  |  \u001b[94m  0.005383\u001b[0m  |    0.008276  |     0.650496  |             |  4.4s"
       ]
      },
      {
       "output_type": "stream",
       "stream": "stdout",
       "text": [
        "\n",
        "  1193  |  \u001b[94m  0.005362\u001b[0m  |    0.008256  |     0.649415  |             |  4.4s"
       ]
      },
      {
       "output_type": "stream",
       "stream": "stdout",
       "text": [
        "\n",
        "  1194  |    0.005424  |    0.008262  |     0.656577  |             |  4.4s"
       ]
      },
      {
       "output_type": "stream",
       "stream": "stdout",
       "text": [
        "\n",
        "  1195  |    0.005456  |  \u001b[32m  0.008240\u001b[0m  |     0.662115  |             |  4.4s"
       ]
      },
      {
       "output_type": "stream",
       "stream": "stdout",
       "text": [
        "\n",
        "  1196  |  \u001b[94m  0.005291\u001b[0m  |    0.008248  |     0.641439  |             |  4.4s"
       ]
      },
      {
       "output_type": "stream",
       "stream": "stdout",
       "text": [
        "\n",
        "  1197  |    0.005463  |  \u001b[32m  0.008230\u001b[0m  |     0.663743  |             |  4.4s"
       ]
      },
      {
       "output_type": "stream",
       "stream": "stdout",
       "text": [
        "\n",
        "  1198  |    0.005429  |    0.008254  |     0.657765  |             |  4.4s"
       ]
      },
      {
       "output_type": "stream",
       "stream": "stdout",
       "text": [
        "\n",
        "  1199  |    0.005302  |    0.008247  |     0.642839  |             |  4.4s"
       ]
      },
      {
       "output_type": "stream",
       "stream": "stdout",
       "text": [
        "\n",
        "  1200  |    0.005409  |    0.008233  |     0.657018  |             |  4.4s"
       ]
      },
      {
       "output_type": "stream",
       "stream": "stdout",
       "text": [
        "\n",
        "  1201  |    0.005383  |    0.008231  |     0.654037  |             |  4.4s"
       ]
      },
      {
       "output_type": "stream",
       "stream": "stdout",
       "text": [
        "\n",
        "  1202  |    0.005413  |    0.008253  |     0.655864  |             |  4.4s"
       ]
      },
      {
       "output_type": "stream",
       "stream": "stdout",
       "text": [
        "\n",
        "  1203  |    0.005435  |    0.008234  |     0.660055  |             |  4.4s"
       ]
      },
      {
       "output_type": "stream",
       "stream": "stdout",
       "text": [
        "\n",
        "  1204  |    0.005345  |  \u001b[32m  0.008222\u001b[0m  |     0.649993  |             |  4.4s"
       ]
      },
      {
       "output_type": "stream",
       "stream": "stdout",
       "text": [
        "\n",
        "  1205  |    0.005387  |    0.008230  |     0.654511  |             |  4.4s"
       ]
      },
      {
       "output_type": "stream",
       "stream": "stdout",
       "text": [
        "\n",
        "  1206  |    0.005389  |    0.008230  |     0.654797  |             |  4.4s"
       ]
      },
      {
       "output_type": "stream",
       "stream": "stdout",
       "text": [
        "\n",
        "  1207  |    0.005393  |    0.008245  |     0.654122  |             |  4.4s"
       ]
      },
      {
       "output_type": "stream",
       "stream": "stdout",
       "text": [
        "\n",
        "  1208  |  \u001b[94m  0.005287\u001b[0m  |    0.008232  |     0.642268  |             |  4.4s"
       ]
      },
      {
       "output_type": "stream",
       "stream": "stdout",
       "text": [
        "\n",
        "  1209  |    0.005358  |    0.008250  |     0.649521  |             |  4.4s"
       ]
      },
      {
       "output_type": "stream",
       "stream": "stdout",
       "text": [
        "\n",
        "  1210  |    0.005326  |    0.008241  |     0.646280  |             |  4.4s"
       ]
      },
      {
       "output_type": "stream",
       "stream": "stdout",
       "text": [
        "\n",
        "  1211  |    0.005371  |    0.008232  |     0.652447  |             |  4.4s"
       ]
      },
      {
       "output_type": "stream",
       "stream": "stdout",
       "text": [
        "\n",
        "  1212  |    0.005333  |    0.008238  |     0.647409  |             |  4.4s"
       ]
      },
      {
       "output_type": "stream",
       "stream": "stdout",
       "text": [
        "\n",
        "  1213  |    0.005333  |    0.008253  |     0.646233  |             |  4.4s"
       ]
      },
      {
       "output_type": "stream",
       "stream": "stdout",
       "text": [
        "\n",
        "  1214  |    0.005328  |    0.008247  |     0.646046  |             |  4.4s"
       ]
      },
      {
       "output_type": "stream",
       "stream": "stdout",
       "text": [
        "\n",
        "  1215  |    0.005315  |    0.008234  |     0.645485  |             |  4.4s"
       ]
      },
      {
       "output_type": "stream",
       "stream": "stdout",
       "text": [
        "\n",
        "  1216  |    0.005345  |    0.008242  |     0.648462  |             |  4.4s"
       ]
      },
      {
       "output_type": "stream",
       "stream": "stdout",
       "text": [
        "\n",
        "  1217  |    0.005325  |  \u001b[32m  0.008217\u001b[0m  |     0.648039  |             |  4.4s"
       ]
      },
      {
       "output_type": "stream",
       "stream": "stdout",
       "text": [
        "\n",
        "  1218  |    0.005287  |  \u001b[32m  0.008210\u001b[0m  |     0.643995  |             |  4.4s"
       ]
      },
      {
       "output_type": "stream",
       "stream": "stdout",
       "text": [
        "\n",
        "  1219  |    0.005313  |    0.008219  |     0.646335  |             |  4.4s"
       ]
      },
      {
       "output_type": "stream",
       "stream": "stdout",
       "text": [
        "\n",
        "  1220  |    0.005295  |    0.008235  |     0.643034  |             |  4.4s"
       ]
      },
      {
       "output_type": "stream",
       "stream": "stdout",
       "text": [
        "\n",
        "  1221  |  \u001b[94m  0.005264\u001b[0m  |    0.008234  |     0.639296  |             |  4.4s"
       ]
      },
      {
       "output_type": "stream",
       "stream": "stdout",
       "text": [
        "\n",
        "  1222  |    0.005337  |    0.008218  |     0.649382  |             |  4.4s"
       ]
      },
      {
       "output_type": "stream",
       "stream": "stdout",
       "text": [
        "\n",
        "  1223  |    0.005312  |  \u001b[32m  0.008201\u001b[0m  |     0.647700  |             |  4.4s"
       ]
      },
      {
       "output_type": "stream",
       "stream": "stdout",
       "text": [
        "\n",
        "  1224  |    0.005339  |    0.008218  |     0.649645  |             |  4.4s"
       ]
      },
      {
       "output_type": "stream",
       "stream": "stdout",
       "text": [
        "\n",
        "  1225  |  \u001b[94m  0.005212\u001b[0m  |  \u001b[32m  0.008201\u001b[0m  |     0.635532  |             |  4.4s"
       ]
      },
      {
       "output_type": "stream",
       "stream": "stdout",
       "text": [
        "\n",
        "  1226  |    0.005253  |    0.008204  |     0.640282  |             |  4.4s"
       ]
      },
      {
       "output_type": "stream",
       "stream": "stdout",
       "text": [
        "\n",
        "  1227  |    0.005250  |  \u001b[32m  0.008199\u001b[0m  |     0.640340  |             |  4.4s"
       ]
      },
      {
       "output_type": "stream",
       "stream": "stdout",
       "text": [
        "\n",
        "  1228  |  \u001b[94m  0.005199\u001b[0m  |    0.008205  |     0.633675  |             |  4.4s"
       ]
      },
      {
       "output_type": "stream",
       "stream": "stdout",
       "text": [
        "\n",
        "  1229  |  \u001b[94m  0.005179\u001b[0m  |  \u001b[32m  0.008196\u001b[0m  |     0.631982  |             |  4.4s"
       ]
      },
      {
       "output_type": "stream",
       "stream": "stdout",
       "text": [
        "\n",
        "  1230  |    0.005188  |  \u001b[32m  0.008188\u001b[0m  |     0.633553  |             |  4.4s"
       ]
      },
      {
       "output_type": "stream",
       "stream": "stdout",
       "text": [
        "\n",
        "  1231  |  \u001b[94m  0.005151\u001b[0m  |  \u001b[32m  0.008181\u001b[0m  |     0.629637  |             |  4.4s"
       ]
      },
      {
       "output_type": "stream",
       "stream": "stdout",
       "text": [
        "\n",
        "  1232  |    0.005274  |    0.008199  |     0.643254  |             |  4.4s"
       ]
      },
      {
       "output_type": "stream",
       "stream": "stdout",
       "text": [
        "\n",
        "  1233  |    0.005158  |  \u001b[32m  0.008175\u001b[0m  |     0.630852  |             |  4.4s"
       ]
      },
      {
       "output_type": "stream",
       "stream": "stdout",
       "text": [
        "\n",
        "  1234  |    0.005233  |    0.008196  |     0.638485  |             |  4.4s"
       ]
      },
      {
       "output_type": "stream",
       "stream": "stdout",
       "text": [
        "\n",
        "  1235  |    0.005204  |    0.008198  |     0.634788  |             |  4.4s"
       ]
      },
      {
       "output_type": "stream",
       "stream": "stdout",
       "text": [
        "\n",
        "  1236  |    0.005235  |    0.008190  |     0.639271  |             |  4.4s"
       ]
      },
      {
       "output_type": "stream",
       "stream": "stdout",
       "text": [
        "\n",
        "  1237  |  \u001b[94m  0.005109\u001b[0m  |    0.008190  |     0.623771  |             |  4.4s"
       ]
      },
      {
       "output_type": "stream",
       "stream": "stdout",
       "text": [
        "\n",
        "  1238  |    0.005227  |    0.008185  |     0.638646  |             |  4.4s"
       ]
      },
      {
       "output_type": "stream",
       "stream": "stdout",
       "text": [
        "\n",
        "  1239  |    0.005172  |    0.008195  |     0.631036  |             |  4.4s"
       ]
      },
      {
       "output_type": "stream",
       "stream": "stdout",
       "text": [
        "\n",
        "  1240  |    0.005201  |  \u001b[32m  0.008173\u001b[0m  |     0.636302  |             |  4.4s"
       ]
      },
      {
       "output_type": "stream",
       "stream": "stdout",
       "text": [
        "\n",
        "  1241  |    0.005185  |    0.008178  |     0.633960  |             |  4.4s"
       ]
      },
      {
       "output_type": "stream",
       "stream": "stdout",
       "text": [
        "\n",
        "  1242  |    0.005198  |    0.008180  |     0.635431  |             |  4.4s"
       ]
      },
      {
       "output_type": "stream",
       "stream": "stdout",
       "text": [
        "\n",
        "  1243  |    0.005175  |    0.008190  |     0.631854  |             |  4.4s"
       ]
      },
      {
       "output_type": "stream",
       "stream": "stdout",
       "text": [
        "\n",
        "  1244  |    0.005155  |    0.008178  |     0.630399  |             |  4.4s"
       ]
      },
      {
       "output_type": "stream",
       "stream": "stdout",
       "text": [
        "\n",
        "  1245  |    0.005142  |    0.008175  |     0.628917  |             |  4.4s"
       ]
      },
      {
       "output_type": "stream",
       "stream": "stdout",
       "text": [
        "\n",
        "  1246  |    0.005149  |    0.008197  |     0.628202  |             |  4.4s"
       ]
      },
      {
       "output_type": "stream",
       "stream": "stdout",
       "text": [
        "\n",
        "  1247  |    0.005131  |    0.008203  |     0.625555  |             |  4.4s"
       ]
      },
      {
       "output_type": "stream",
       "stream": "stdout",
       "text": [
        "\n",
        "  1248  |    0.005116  |    0.008175  |     0.625802  |             |  4.4s"
       ]
      },
      {
       "output_type": "stream",
       "stream": "stdout",
       "text": [
        "\n",
        "  1249  |    0.005182  |    0.008177  |     0.633704  |             |  4.4s"
       ]
      },
      {
       "output_type": "stream",
       "stream": "stdout",
       "text": [
        "\n",
        "  1250  |  \u001b[94m  0.005093\u001b[0m  |    0.008200  |     0.621148  |             |  4.4s"
       ]
      },
      {
       "output_type": "stream",
       "stream": "stdout",
       "text": [
        "\n",
        "  1251  |  \u001b[94m  0.005071\u001b[0m  |    0.008182  |     0.619865  |             |  4.4s"
       ]
      },
      {
       "output_type": "stream",
       "stream": "stdout",
       "text": [
        "\n",
        "  1252  |    0.005123  |    0.008177  |     0.626543  |             |  4.4s"
       ]
      },
      {
       "output_type": "stream",
       "stream": "stdout",
       "text": [
        "\n",
        "  1253  |    0.005087  |    0.008193  |     0.620914  |             |  4.4s"
       ]
      },
      {
       "output_type": "stream",
       "stream": "stdout",
       "text": [
        "\n",
        "  1254  |    0.005116  |    0.008190  |     0.624652  |             |  4.4s"
       ]
      },
      {
       "output_type": "stream",
       "stream": "stdout",
       "text": [
        "\n",
        "  1255  |    0.005088  |    0.008177  |     0.622181  |             |  4.4s"
       ]
      },
      {
       "output_type": "stream",
       "stream": "stdout",
       "text": [
        "\n",
        "  1256  |    0.005074  |    0.008194  |     0.619207  |             |  4.4s"
       ]
      },
      {
       "output_type": "stream",
       "stream": "stdout",
       "text": [
        "\n",
        "  1257  |    0.005086  |    0.008191  |     0.620948  |             |  4.4s"
       ]
      },
      {
       "output_type": "stream",
       "stream": "stdout",
       "text": [
        "\n",
        "  1258  |    0.005101  |    0.008183  |     0.623354  |             |  4.4s"
       ]
      },
      {
       "output_type": "stream",
       "stream": "stdout",
       "text": [
        "\n",
        "  1259  |  \u001b[94m  0.005052\u001b[0m  |  \u001b[32m  0.008168\u001b[0m  |     0.618474  |             |  4.4s"
       ]
      },
      {
       "output_type": "stream",
       "stream": "stdout",
       "text": [
        "\n",
        "  1260  |    0.005087  |    0.008180  |     0.621863  |             |  4.4s"
       ]
      },
      {
       "output_type": "stream",
       "stream": "stdout",
       "text": [
        "\n",
        "  1261  |  \u001b[94m  0.005042\u001b[0m  |    0.008182  |     0.616253  |             |  4.4s"
       ]
      },
      {
       "output_type": "stream",
       "stream": "stdout",
       "text": [
        "\n",
        "  1262  |  \u001b[94m  0.004994\u001b[0m  |    0.008186  |     0.610037  |             |  4.4s"
       ]
      },
      {
       "output_type": "stream",
       "stream": "stdout",
       "text": [
        "\n",
        "  1263  |    0.004996  |    0.008176  |     0.611042  |             |  4.4s"
       ]
      },
      {
       "output_type": "stream",
       "stream": "stdout",
       "text": [
        "\n",
        "  1264  |    0.005001  |  \u001b[32m  0.008163\u001b[0m  |     0.612620  |             |  4.4s"
       ]
      },
      {
       "output_type": "stream",
       "stream": "stdout",
       "text": [
        "\n",
        "  1265  |    0.005073  |    0.008172  |     0.620766  |             |  4.4s"
       ]
      },
      {
       "output_type": "stream",
       "stream": "stdout",
       "text": [
        "\n",
        "  1266  |    0.005070  |  \u001b[32m  0.008156\u001b[0m  |     0.621635  |             |  4.4s"
       ]
      },
      {
       "output_type": "stream",
       "stream": "stdout",
       "text": [
        "\n",
        "  1267  |    0.005020  |    0.008166  |     0.614794  |             |  4.4s"
       ]
      },
      {
       "output_type": "stream",
       "stream": "stdout",
       "text": [
        "\n",
        "  1268  |    0.005055  |    0.008163  |     0.619224  |             |  4.4s"
       ]
      },
      {
       "output_type": "stream",
       "stream": "stdout",
       "text": [
        "\n",
        "  1269  |    0.005077  |  \u001b[32m  0.008155\u001b[0m  |     0.622605  |             |  4.4s"
       ]
      },
      {
       "output_type": "stream",
       "stream": "stdout",
       "text": [
        "\n",
        "  1270  |    0.005008  |  \u001b[32m  0.008120\u001b[0m  |     0.616723  |             |  4.4s"
       ]
      },
      {
       "output_type": "stream",
       "stream": "stdout",
       "text": [
        "\n",
        "  1271  |  \u001b[94m  0.004988\u001b[0m  |    0.008151  |     0.611968  |             |  4.4s"
       ]
      },
      {
       "output_type": "stream",
       "stream": "stdout",
       "text": [
        "\n",
        "  1272  |    0.004998  |    0.008154  |     0.612977  |             |  4.4s"
       ]
      },
      {
       "output_type": "stream",
       "stream": "stdout",
       "text": [
        "\n",
        "  1273  |  \u001b[94m  0.004968\u001b[0m  |    0.008163  |     0.608587  |             |  4.4s"
       ]
      },
      {
       "output_type": "stream",
       "stream": "stdout",
       "text": [
        "\n",
        "  1274  |    0.005002  |    0.008167  |     0.612428  |             |  4.4s"
       ]
      },
      {
       "output_type": "stream",
       "stream": "stdout",
       "text": [
        "\n",
        "  1275  |    0.005009  |    0.008149  |     0.614719  |             |  4.4s"
       ]
      },
      {
       "output_type": "stream",
       "stream": "stdout",
       "text": [
        "\n",
        "  1276  |    0.005009  |    0.008170  |     0.613114  |             |  4.4s"
       ]
      },
      {
       "output_type": "stream",
       "stream": "stdout",
       "text": [
        "\n",
        "  1277  |    0.005014  |    0.008153  |     0.615021  |             |  4.4s"
       ]
      },
      {
       "output_type": "stream",
       "stream": "stdout",
       "text": [
        "\n",
        "  1278  |  \u001b[94m  0.004954\u001b[0m  |    0.008158  |     0.607292  |             |  4.4s"
       ]
      },
      {
       "output_type": "stream",
       "stream": "stdout",
       "text": [
        "\n",
        "  1279  |    0.005005  |    0.008137  |     0.615036  |             |  4.4s"
       ]
      },
      {
       "output_type": "stream",
       "stream": "stdout",
       "text": [
        "\n",
        "  1280  |    0.004955  |    0.008154  |     0.607746  |             |  4.4s"
       ]
      },
      {
       "output_type": "stream",
       "stream": "stdout",
       "text": [
        "\n",
        "  1281  |  \u001b[94m  0.004905\u001b[0m  |    0.008163  |     0.600915  |             |  4.4s"
       ]
      },
      {
       "output_type": "stream",
       "stream": "stdout",
       "text": [
        "\n",
        "  1282  |    0.004924  |    0.008146  |     0.604527  |             |  4.4s"
       ]
      },
      {
       "output_type": "stream",
       "stream": "stdout",
       "text": [
        "\n",
        "  1283  |  \u001b[94m  0.004892\u001b[0m  |    0.008157  |     0.599660  |             |  4.4s"
       ]
      },
      {
       "output_type": "stream",
       "stream": "stdout",
       "text": [
        "\n",
        "  1284  |    0.004969  |    0.008145  |     0.610096  |             |  4.4s"
       ]
      },
      {
       "output_type": "stream",
       "stream": "stdout",
       "text": [
        "\n",
        "  1285  |    0.005003  |    0.008154  |     0.613600  |             |  4.4s"
       ]
      },
      {
       "output_type": "stream",
       "stream": "stdout",
       "text": [
        "\n",
        "  1286  |    0.004910  |    0.008152  |     0.602281  |             |  4.4s"
       ]
      },
      {
       "output_type": "stream",
       "stream": "stdout",
       "text": [
        "\n",
        "  1287  |    0.004892  |    0.008143  |     0.600688  |             |  4.4s"
       ]
      },
      {
       "output_type": "stream",
       "stream": "stdout",
       "text": [
        "\n",
        "  1288  |    0.004972  |    0.008153  |     0.609779  |             |  4.4s"
       ]
      },
      {
       "output_type": "stream",
       "stream": "stdout",
       "text": [
        "\n",
        "  1289  |  \u001b[94m  0.004848\u001b[0m  |    0.008151  |     0.594837  |             |  4.4s"
       ]
      },
      {
       "output_type": "stream",
       "stream": "stdout",
       "text": [
        "\n",
        "  1290  |    0.004884  |    0.008160  |     0.598557  |             |  4.4s"
       ]
      },
      {
       "output_type": "stream",
       "stream": "stdout",
       "text": [
        "\n",
        "  1291  |    0.004864  |    0.008148  |     0.596966  |             |  4.4s"
       ]
      },
      {
       "output_type": "stream",
       "stream": "stdout",
       "text": [
        "\n",
        "  1292  |    0.004920  |    0.008132  |     0.605035  |             |  4.4s"
       ]
      },
      {
       "output_type": "stream",
       "stream": "stdout",
       "text": [
        "\n",
        "  1293  |    0.004921  |    0.008128  |     0.605405  |             |  4.4s"
       ]
      },
      {
       "output_type": "stream",
       "stream": "stdout",
       "text": [
        "\n",
        "  1294  |  \u001b[94m  0.004831\u001b[0m  |    0.008134  |     0.593878  |             |  4.4s"
       ]
      },
      {
       "output_type": "stream",
       "stream": "stdout",
       "text": [
        "\n",
        "  1295  |    0.004862  |    0.008149  |     0.596679  |             |  4.4s"
       ]
      },
      {
       "output_type": "stream",
       "stream": "stdout",
       "text": [
        "\n",
        "  1296  |    0.004976  |    0.008131  |     0.611953  |             |  4.4s"
       ]
      },
      {
       "output_type": "stream",
       "stream": "stdout",
       "text": [
        "\n",
        "  1297  |    0.004965  |    0.008156  |     0.608725  |             |  4.4s"
       ]
      },
      {
       "output_type": "stream",
       "stream": "stdout",
       "text": [
        "\n",
        "  1298  |    0.004913  |    0.008136  |     0.603953  |             |  4.4s"
       ]
      },
      {
       "output_type": "stream",
       "stream": "stdout",
       "text": [
        "\n",
        "  1299  |  \u001b[94m  0.004814\u001b[0m  |    0.008137  |     0.591591  |             |  4.4s"
       ]
      },
      {
       "output_type": "stream",
       "stream": "stdout",
       "text": [
        "\n",
        "  1300  |    0.004822  |    0.008156  |     0.591207  |             |  4.4s"
       ]
      },
      {
       "output_type": "stream",
       "stream": "stdout",
       "text": [
        "\n",
        "  1301  |    0.004893  |    0.008164  |     0.599326  |             |  4.4s"
       ]
      },
      {
       "output_type": "stream",
       "stream": "stdout",
       "text": [
        "\n",
        "  1302  |    0.004828  |    0.008144  |     0.592876  |             |  4.4s"
       ]
      },
      {
       "output_type": "stream",
       "stream": "stdout",
       "text": [
        "\n",
        "  1303  |  \u001b[94m  0.004797\u001b[0m  |    0.008142  |     0.589152  |             |  4.4s"
       ]
      },
      {
       "output_type": "stream",
       "stream": "stdout",
       "text": [
        "\n",
        "  1304  |    0.004801  |    0.008152  |     0.588876  |             |  4.4s"
       ]
      },
      {
       "output_type": "stream",
       "stream": "stdout",
       "text": [
        "\n",
        "  1305  |    0.004821  |    0.008131  |     0.592924  |             |  4.4s"
       ]
      },
      {
       "output_type": "stream",
       "stream": "stdout",
       "text": [
        "\n",
        "  1306  |  \u001b[94m  0.004751\u001b[0m  |    0.008134  |     0.584127  |             |  4.4s"
       ]
      },
      {
       "output_type": "stream",
       "stream": "stdout",
       "text": [
        "\n",
        "  1307  |    0.004894  |    0.008128  |     0.602127  |             |  4.4s"
       ]
      },
      {
       "output_type": "stream",
       "stream": "stdout",
       "text": [
        "\n",
        "  1308  |    0.004898  |  \u001b[32m  0.008117\u001b[0m  |     0.603410  |             |  4.4s"
       ]
      },
      {
       "output_type": "stream",
       "stream": "stdout",
       "text": [
        "\n",
        "  1309  |    0.004853  |    0.008128  |     0.597027  |             |  4.4s"
       ]
      },
      {
       "output_type": "stream",
       "stream": "stdout",
       "text": [
        "\n",
        "  1310  |    0.004828  |  \u001b[32m  0.008113\u001b[0m  |     0.595145  |             |  4.4s"
       ]
      },
      {
       "output_type": "stream",
       "stream": "stdout",
       "text": [
        "\n",
        "  1311  |    0.004786  |    0.008119  |     0.589546  |             |  4.4s"
       ]
      },
      {
       "output_type": "stream",
       "stream": "stdout",
       "text": [
        "\n",
        "  1312  |    0.004845  |    0.008117  |     0.596914  |             |  4.4s"
       ]
      },
      {
       "output_type": "stream",
       "stream": "stdout",
       "text": [
        "\n",
        "  1313  |    0.004884  |    0.008127  |     0.600980  |             |  4.4s"
       ]
      },
      {
       "output_type": "stream",
       "stream": "stdout",
       "text": [
        "\n",
        "  1314  |    0.004778  |    0.008137  |     0.587122  |             |  4.4s"
       ]
      },
      {
       "output_type": "stream",
       "stream": "stdout",
       "text": [
        "\n",
        "  1315  |    0.004792  |    0.008122  |     0.589969  |             |  4.4s"
       ]
      },
      {
       "output_type": "stream",
       "stream": "stdout",
       "text": [
        "\n",
        "  1316  |    0.004814  |    0.008119  |     0.592931  |             |  4.4s"
       ]
      },
      {
       "output_type": "stream",
       "stream": "stdout",
       "text": [
        "\n",
        "  1317  |  \u001b[94m  0.004748\u001b[0m  |    0.008134  |     0.583748  |             |  4.4s"
       ]
      },
      {
       "output_type": "stream",
       "stream": "stdout",
       "text": [
        "\n",
        "  1318  |    0.004750  |    0.008134  |     0.584031  |             |  4.4s"
       ]
      },
      {
       "output_type": "stream",
       "stream": "stdout",
       "text": [
        "\n",
        "  1319  |    0.004850  |    0.008130  |     0.596527  |             |  4.4s"
       ]
      },
      {
       "output_type": "stream",
       "stream": "stdout",
       "text": [
        "\n",
        "  1320  |    0.004756  |    0.008120  |     0.585700  |             |  4.4s"
       ]
      },
      {
       "output_type": "stream",
       "stream": "stdout",
       "text": [
        "\n",
        "  1321  |  \u001b[94m  0.004733\u001b[0m  |    0.008134  |     0.581898  |             |  4.4s"
       ]
      },
      {
       "output_type": "stream",
       "stream": "stdout",
       "text": [
        "\n",
        "  1322  |    0.004778  |    0.008137  |     0.587215  |             |  4.4s"
       ]
      },
      {
       "output_type": "stream",
       "stream": "stdout",
       "text": [
        "\n",
        "  1323  |    0.004771  |    0.008139  |     0.586131  |             |  4.4s"
       ]
      },
      {
       "output_type": "stream",
       "stream": "stdout",
       "text": [
        "\n",
        "  1324  |    0.004790  |    0.008149  |     0.587757  |             |  4.4s"
       ]
      },
      {
       "output_type": "stream",
       "stream": "stdout",
       "text": [
        "\n",
        "  1325  |    0.004746  |  \u001b[32m  0.008109\u001b[0m  |     0.585274  |             |  4.4s"
       ]
      },
      {
       "output_type": "stream",
       "stream": "stdout",
       "text": [
        "\n",
        "  1326  |    0.004816  |    0.008125  |     0.592729  |             |  4.4s"
       ]
      },
      {
       "output_type": "stream",
       "stream": "stdout",
       "text": [
        "\n",
        "  1327  |  \u001b[94m  0.004726\u001b[0m  |    0.008118  |     0.582166  |             |  4.4s"
       ]
      },
      {
       "output_type": "stream",
       "stream": "stdout",
       "text": [
        "\n",
        "  1328  |  \u001b[94m  0.004712\u001b[0m  |    0.008113  |     0.580856  |             |  4.4s"
       ]
      },
      {
       "output_type": "stream",
       "stream": "stdout",
       "text": [
        "\n",
        "  1329  |  \u001b[94m  0.004712\u001b[0m  |  \u001b[32m  0.008105\u001b[0m  |     0.581324  |             |  4.4s"
       ]
      },
      {
       "output_type": "stream",
       "stream": "stdout",
       "text": [
        "\n",
        "  1330  |    0.004729  |    0.008105  |     0.583425  |             |  4.4s"
       ]
      },
      {
       "output_type": "stream",
       "stream": "stdout",
       "text": [
        "\n",
        "  1331  |    0.004754  |    0.008112  |     0.586063  |             |  4.4s"
       ]
      },
      {
       "output_type": "stream",
       "stream": "stdout",
       "text": [
        "\n",
        "  1332  |    0.004748  |    0.008122  |     0.584644  |             |  4.4s"
       ]
      },
      {
       "output_type": "stream",
       "stream": "stdout",
       "text": [
        "\n",
        "  1333  |  \u001b[94m  0.004654\u001b[0m  |    0.008110  |     0.573927  |             |  4.4s"
       ]
      },
      {
       "output_type": "stream",
       "stream": "stdout",
       "text": [
        "\n",
        "  1334  |    0.004731  |    0.008116  |     0.582920  |             |  4.4s"
       ]
      },
      {
       "output_type": "stream",
       "stream": "stdout",
       "text": [
        "\n",
        "  1335  |    0.004754  |  \u001b[32m  0.008090\u001b[0m  |     0.587678  |             |  4.4s"
       ]
      },
      {
       "output_type": "stream",
       "stream": "stdout",
       "text": [
        "\n",
        "  1336  |    0.004697  |    0.008090  |     0.580573  |             |  4.4s"
       ]
      },
      {
       "output_type": "stream",
       "stream": "stdout",
       "text": [
        "\n",
        "  1337  |    0.004661  |    0.008094  |     0.575826  |             |  4.4s"
       ]
      },
      {
       "output_type": "stream",
       "stream": "stdout",
       "text": [
        "\n",
        "  1338  |  \u001b[94m  0.004644\u001b[0m  |    0.008110  |     0.572618  |             |  4.4s"
       ]
      },
      {
       "output_type": "stream",
       "stream": "stdout",
       "text": [
        "\n",
        "  1339  |    0.004651  |    0.008127  |     0.572310  |             |  4.4s"
       ]
      },
      {
       "output_type": "stream",
       "stream": "stdout",
       "text": [
        "\n",
        "  1340  |    0.004675  |    0.008113  |     0.576211  |             |  4.4s"
       ]
      },
      {
       "output_type": "stream",
       "stream": "stdout",
       "text": [
        "\n",
        "  1341  |    0.004671  |    0.008115  |     0.575586  |             |  4.4s"
       ]
      },
      {
       "output_type": "stream",
       "stream": "stdout",
       "text": [
        "\n",
        "  1342  |    0.004721  |    0.008104  |     0.582566  |             |  4.4s"
       ]
      },
      {
       "output_type": "stream",
       "stream": "stdout",
       "text": [
        "\n",
        "  1343  |    0.004663  |    0.008112  |     0.574856  |             |  4.4s"
       ]
      },
      {
       "output_type": "stream",
       "stream": "stdout",
       "text": [
        "\n",
        "  1344  |    0.004703  |  \u001b[32m  0.008088\u001b[0m  |     0.581430  |             |  4.4s"
       ]
      },
      {
       "output_type": "stream",
       "stream": "stdout",
       "text": [
        "\n",
        "  1345  |    0.004729  |    0.008089  |     0.584565  |             |  4.4s"
       ]
      },
      {
       "output_type": "stream",
       "stream": "stdout",
       "text": [
        "\n",
        "  1346  |    0.004675  |  \u001b[32m  0.008075\u001b[0m  |     0.578914  |             |  4.4s"
       ]
      },
      {
       "output_type": "stream",
       "stream": "stdout",
       "text": [
        "\n",
        "  1347  |    0.004666  |    0.008089  |     0.576781  |             |  4.4s"
       ]
      },
      {
       "output_type": "stream",
       "stream": "stdout",
       "text": [
        "\n",
        "  1348  |    0.004660  |    0.008090  |     0.575983  |             |  4.4s"
       ]
      },
      {
       "output_type": "stream",
       "stream": "stdout",
       "text": [
        "\n",
        "  1349  |  \u001b[94m  0.004612\u001b[0m  |    0.008090  |     0.570003  |             |  4.4s"
       ]
      },
      {
       "output_type": "stream",
       "stream": "stdout",
       "text": [
        "\n",
        "  1350  |    0.004681  |    0.008089  |     0.578620  |             |  4.4s"
       ]
      },
      {
       "output_type": "stream",
       "stream": "stdout",
       "text": [
        "\n",
        "  1351  |    0.004635  |    0.008113  |     0.571310  |             |  4.4s"
       ]
      },
      {
       "output_type": "stream",
       "stream": "stdout",
       "text": [
        "\n",
        "  1352  |    0.004689  |    0.008104  |     0.578566  |             |  4.4s"
       ]
      },
      {
       "output_type": "stream",
       "stream": "stdout",
       "text": [
        "\n",
        "  1353  |    0.004628  |    0.008100  |     0.571325  |             |  4.4s"
       ]
      },
      {
       "output_type": "stream",
       "stream": "stdout",
       "text": [
        "\n",
        "  1354  |    0.004680  |    0.008099  |     0.577774  |             |  4.4s"
       ]
      },
      {
       "output_type": "stream",
       "stream": "stdout",
       "text": [
        "\n",
        "  1355  |    0.004666  |    0.008128  |     0.574035  |             |  4.4s"
       ]
      },
      {
       "output_type": "stream",
       "stream": "stdout",
       "text": [
        "\n",
        "  1356  |    0.004639  |    0.008104  |     0.572416  |             |  4.4s"
       ]
      },
      {
       "output_type": "stream",
       "stream": "stdout",
       "text": [
        "\n",
        "  1357  |  \u001b[94m  0.004609\u001b[0m  |    0.008103  |     0.568806  |             |  4.4s"
       ]
      },
      {
       "output_type": "stream",
       "stream": "stdout",
       "text": [
        "\n",
        "  1358  |    0.004623  |    0.008096  |     0.571087  |             |  4.4s"
       ]
      },
      {
       "output_type": "stream",
       "stream": "stdout",
       "text": [
        "\n",
        "  1359  |    0.004625  |    0.008085  |     0.571961  |             |  4.4s"
       ]
      },
      {
       "output_type": "stream",
       "stream": "stdout",
       "text": [
        "\n",
        "  1360  |  \u001b[94m  0.004587\u001b[0m  |    0.008105  |     0.565926  |             |  4.4s"
       ]
      },
      {
       "output_type": "stream",
       "stream": "stdout",
       "text": [
        "\n",
        "  1361  |    0.004596  |    0.008125  |     0.565693  |             |  4.4s"
       ]
      },
      {
       "output_type": "stream",
       "stream": "stdout",
       "text": [
        "\n",
        "  1362  |  \u001b[94m  0.004554\u001b[0m  |    0.008114  |     0.561284  |             |  4.4s"
       ]
      },
      {
       "output_type": "stream",
       "stream": "stdout",
       "text": [
        "\n",
        "  1363  |    0.004630  |    0.008107  |     0.571125  |             |  4.4s"
       ]
      },
      {
       "output_type": "stream",
       "stream": "stdout",
       "text": [
        "\n",
        "  1364  |  \u001b[94m  0.004527\u001b[0m  |  \u001b[32m  0.008066\u001b[0m  |     0.561278  |             |  4.4s"
       ]
      },
      {
       "output_type": "stream",
       "stream": "stdout",
       "text": [
        "\n",
        "  1365  |    0.004537  |    0.008101  |     0.560084  |             |  4.4s"
       ]
      },
      {
       "output_type": "stream",
       "stream": "stdout",
       "text": [
        "\n",
        "  1366  |    0.004628  |    0.008091  |     0.572009  |             |  4.4s"
       ]
      },
      {
       "output_type": "stream",
       "stream": "stdout",
       "text": [
        "\n",
        "  1367  |  \u001b[94m  0.004518\u001b[0m  |    0.008081  |     0.559068  |             |  4.4s"
       ]
      },
      {
       "output_type": "stream",
       "stream": "stdout",
       "text": [
        "\n",
        "  1368  |    0.004571  |    0.008083  |     0.565527  |             |  4.4s"
       ]
      },
      {
       "output_type": "stream",
       "stream": "stdout",
       "text": [
        "\n",
        "  1369  |    0.004531  |    0.008109  |     0.558800  |             |  4.4s"
       ]
      },
      {
       "output_type": "stream",
       "stream": "stdout",
       "text": [
        "\n",
        "  1370  |    0.004528  |    0.008105  |     0.558700  |             |  4.4s"
       ]
      },
      {
       "output_type": "stream",
       "stream": "stdout",
       "text": [
        "\n",
        "  1371  |    0.004572  |    0.008096  |     0.564760  |             |  4.4s"
       ]
      },
      {
       "output_type": "stream",
       "stream": "stdout",
       "text": [
        "\n",
        "  1372  |    0.004600  |    0.008095  |     0.568278  |             |  4.4s"
       ]
      },
      {
       "output_type": "stream",
       "stream": "stdout",
       "text": [
        "\n",
        "  1373  |    0.004583  |    0.008094  |     0.566209  |             |  4.4s"
       ]
      },
      {
       "output_type": "stream",
       "stream": "stdout",
       "text": [
        "\n",
        "  1374  |    0.004550  |    0.008085  |     0.562765  |             |  4.4s"
       ]
      },
      {
       "output_type": "stream",
       "stream": "stdout",
       "text": [
        "\n",
        "  1375  |    0.004522  |    0.008096  |     0.558492  |             |  4.4s"
       ]
      },
      {
       "output_type": "stream",
       "stream": "stdout",
       "text": [
        "\n",
        "  1376  |    0.004542  |    0.008086  |     0.561696  |             |  4.4s"
       ]
      },
      {
       "output_type": "stream",
       "stream": "stdout",
       "text": [
        "\n",
        "  1377  |  \u001b[94m  0.004481\u001b[0m  |    0.008086  |     0.554189  |             |  4.4s"
       ]
      },
      {
       "output_type": "stream",
       "stream": "stdout",
       "text": [
        "\n",
        "  1378  |    0.004537  |    0.008092  |     0.560611  |             |  4.4s"
       ]
      },
      {
       "output_type": "stream",
       "stream": "stdout",
       "text": [
        "\n",
        "  1379  |    0.004485  |    0.008102  |     0.553649  |             |  4.4s"
       ]
      },
      {
       "output_type": "stream",
       "stream": "stdout",
       "text": [
        "\n",
        "  1380  |    0.004505  |    0.008094  |     0.556544  |             |  4.4s"
       ]
      },
      {
       "output_type": "stream",
       "stream": "stdout",
       "text": [
        "\n",
        "  1381  |    0.004502  |    0.008097  |     0.555990  |             |  4.4s"
       ]
      },
      {
       "output_type": "stream",
       "stream": "stdout",
       "text": [
        "\n",
        "  1382  |    0.004509  |    0.008080  |     0.558080  |             |  4.4s"
       ]
      },
      {
       "output_type": "stream",
       "stream": "stdout",
       "text": [
        "\n",
        "  1383  |    0.004484  |    0.008090  |     0.554265  |             |  4.4s"
       ]
      },
      {
       "output_type": "stream",
       "stream": "stdout",
       "text": [
        "\n",
        "  1384  |    0.004490  |    0.008071  |     0.556297  |             |  4.4s"
       ]
      },
      {
       "output_type": "stream",
       "stream": "stdout",
       "text": [
        "\n",
        "  1385  |    0.004530  |    0.008067  |     0.561570  |             |  4.4s"
       ]
      },
      {
       "output_type": "stream",
       "stream": "stdout",
       "text": [
        "\n",
        "  1386  |  \u001b[94m  0.004478\u001b[0m  |    0.008091  |     0.553459  |             |  4.4s"
       ]
      },
      {
       "output_type": "stream",
       "stream": "stdout",
       "text": [
        "\n",
        "  1387  |    0.004513  |    0.008104  |     0.556840  |             |  4.4s"
       ]
      },
      {
       "output_type": "stream",
       "stream": "stdout",
       "text": [
        "\n",
        "  1388  |  \u001b[94m  0.004437\u001b[0m  |    0.008082  |     0.549066  |             |  4.4s"
       ]
      },
      {
       "output_type": "stream",
       "stream": "stdout",
       "text": [
        "\n",
        "  1389  |    0.004588  |    0.008082  |     0.567645  |             |  4.4s"
       ]
      },
      {
       "output_type": "stream",
       "stream": "stdout",
       "text": [
        "\n",
        "  1390  |    0.004450  |    0.008081  |     0.550712  |             |  4.4s"
       ]
      },
      {
       "output_type": "stream",
       "stream": "stdout",
       "text": [
        "\n",
        "  1391  |    0.004456  |    0.008072  |     0.551990  |             |  4.4s"
       ]
      },
      {
       "output_type": "stream",
       "stream": "stdout",
       "text": [
        "\n",
        "  1392  |  \u001b[94m  0.004428\u001b[0m  |    0.008095  |     0.547042  |             |  4.4s"
       ]
      },
      {
       "output_type": "stream",
       "stream": "stdout",
       "text": [
        "\n",
        "  1393  |  \u001b[94m  0.004377\u001b[0m  |    0.008099  |     0.540495  |             |  4.4s"
       ]
      },
      {
       "output_type": "stream",
       "stream": "stdout",
       "text": [
        "\n",
        "  1394  |    0.004484  |    0.008088  |     0.554478  |             |  4.4s"
       ]
      },
      {
       "output_type": "stream",
       "stream": "stdout",
       "text": [
        "\n",
        "  1395  |    0.004495  |    0.008094  |     0.555310  |             |  4.4s"
       ]
      },
      {
       "output_type": "stream",
       "stream": "stdout",
       "text": [
        "\n",
        "  1396  |    0.004446  |    0.008072  |     0.550777  |             |  4.4s"
       ]
      },
      {
       "output_type": "stream",
       "stream": "stdout",
       "text": [
        "\n",
        "  1397  |  \u001b[94m  0.004324\u001b[0m  |    0.008084  |     0.534849  |             |  4.4s"
       ]
      },
      {
       "output_type": "stream",
       "stream": "stdout",
       "text": [
        "\n",
        "  1398  |    0.004423  |  \u001b[32m  0.008061\u001b[0m  |     0.548673  |             |  4.4s"
       ]
      },
      {
       "output_type": "stream",
       "stream": "stdout",
       "text": [
        "\n",
        "  1399  |    0.004457  |    0.008065  |     0.552696  |             |  4.4s"
       ]
      },
      {
       "output_type": "stream",
       "stream": "stdout",
       "text": [
        "\n",
        "  1400  |    0.004475  |    0.008067  |     0.554664  |             |  4.4s"
       ]
      },
      {
       "output_type": "stream",
       "stream": "stdout",
       "text": [
        "\n",
        "  1401  |    0.004425  |    0.008065  |     0.548651  |             |  4.4s"
       ]
      },
      {
       "output_type": "stream",
       "stream": "stdout",
       "text": [
        "\n",
        "  1402  |    0.004382  |    0.008090  |     0.541671  |             |  4.4s"
       ]
      },
      {
       "output_type": "stream",
       "stream": "stdout",
       "text": [
        "\n",
        "  1403  |    0.004384  |    0.008082  |     0.542417  |             |  4.4s"
       ]
      },
      {
       "output_type": "stream",
       "stream": "stdout",
       "text": [
        "\n",
        "  1404  |    0.004365  |    0.008085  |     0.539854  |             |  4.4s"
       ]
      },
      {
       "output_type": "stream",
       "stream": "stdout",
       "text": [
        "\n",
        "  1405  |    0.004461  |    0.008076  |     0.552320  |             |  4.4s"
       ]
      },
      {
       "output_type": "stream",
       "stream": "stdout",
       "text": [
        "\n",
        "  1406  |    0.004355  |  \u001b[32m  0.008056\u001b[0m  |     0.540634  |             |  4.4s"
       ]
      },
      {
       "output_type": "stream",
       "stream": "stdout",
       "text": [
        "\n",
        "  1407  |    0.004418  |  \u001b[32m  0.008051\u001b[0m  |     0.548770  |             |  4.4s"
       ]
      },
      {
       "output_type": "stream",
       "stream": "stdout",
       "text": [
        "\n",
        "  1408  |    0.004419  |    0.008063  |     0.548102  |             |  4.4s"
       ]
      },
      {
       "output_type": "stream",
       "stream": "stdout",
       "text": [
        "\n",
        "  1409  |    0.004338  |    0.008073  |     0.537309  |             |  4.4s"
       ]
      },
      {
       "output_type": "stream",
       "stream": "stdout",
       "text": [
        "\n",
        "  1410  |    0.004387  |    0.008082  |     0.542790  |             |  4.4s"
       ]
      },
      {
       "output_type": "stream",
       "stream": "stdout",
       "text": [
        "\n",
        "  1411  |    0.004358  |    0.008053  |     0.541194  |             |  4.4s"
       ]
      },
      {
       "output_type": "stream",
       "stream": "stdout",
       "text": [
        "\n",
        "  1412  |    0.004378  |    0.008083  |     0.541562  |             |  4.4s"
       ]
      },
      {
       "output_type": "stream",
       "stream": "stdout",
       "text": [
        "\n",
        "  1413  |    0.004350  |    0.008065  |     0.539351  |             |  4.4s"
       ]
      },
      {
       "output_type": "stream",
       "stream": "stdout",
       "text": [
        "\n",
        "  1414  |    0.004391  |  \u001b[32m  0.008042\u001b[0m  |     0.546064  |             |  4.4s"
       ]
      },
      {
       "output_type": "stream",
       "stream": "stdout",
       "text": [
        "\n",
        "  1415  |    0.004351  |  \u001b[32m  0.008041\u001b[0m  |     0.541045  |             |  4.4s"
       ]
      },
      {
       "output_type": "stream",
       "stream": "stdout",
       "text": [
        "\n",
        "  1416  |    0.004353  |  \u001b[32m  0.008039\u001b[0m  |     0.541523  |             |  4.4s"
       ]
      },
      {
       "output_type": "stream",
       "stream": "stdout",
       "text": [
        "\n",
        "  1417  |    0.004395  |    0.008039  |     0.546689  |             |  4.4s"
       ]
      },
      {
       "output_type": "stream",
       "stream": "stdout",
       "text": [
        "\n",
        "  1418  |    0.004374  |    0.008051  |     0.543326  |             |  4.4s"
       ]
      },
      {
       "output_type": "stream",
       "stream": "stdout",
       "text": [
        "\n",
        "  1419  |    0.004369  |    0.008063  |     0.541910  |             |  4.4s"
       ]
      },
      {
       "output_type": "stream",
       "stream": "stdout",
       "text": [
        "\n",
        "  1420  |    0.004355  |    0.008060  |     0.540324  |             |  4.4s"
       ]
      },
      {
       "output_type": "stream",
       "stream": "stdout",
       "text": [
        "\n",
        "  1421  |  \u001b[94m  0.004315\u001b[0m  |    0.008056  |     0.535577  |             |  4.5s"
       ]
      },
      {
       "output_type": "stream",
       "stream": "stdout",
       "text": [
        "\n",
        "  1422  |    0.004316  |    0.008061  |     0.535383  |             |  4.4s"
       ]
      },
      {
       "output_type": "stream",
       "stream": "stdout",
       "text": [
        "\n",
        "  1423  |    0.004334  |    0.008067  |     0.537207  |             |  4.4s"
       ]
      },
      {
       "output_type": "stream",
       "stream": "stdout",
       "text": [
        "\n",
        "  1424  |    0.004362  |    0.008077  |     0.540122  |             |  4.4s"
       ]
      },
      {
       "output_type": "stream",
       "stream": "stdout",
       "text": [
        "\n",
        "  1425  |    0.004399  |    0.008057  |     0.546038  |             |  4.4s"
       ]
      },
      {
       "output_type": "stream",
       "stream": "stdout",
       "text": [
        "\n",
        "  1426  |    0.004351  |    0.008073  |     0.538970  |             |  4.4s"
       ]
      },
      {
       "output_type": "stream",
       "stream": "stdout",
       "text": [
        "\n",
        "  1427  |    0.004420  |    0.008068  |     0.547793  |             |  4.4s"
       ]
      },
      {
       "output_type": "stream",
       "stream": "stdout",
       "text": [
        "\n",
        "  1428  |  \u001b[94m  0.004306\u001b[0m  |    0.008058  |     0.534440  |             |  4.4s"
       ]
      },
      {
       "output_type": "stream",
       "stream": "stdout",
       "text": [
        "\n",
        "  1429  |    0.004323  |    0.008057  |     0.536561  |             |  4.4s"
       ]
      },
      {
       "output_type": "stream",
       "stream": "stdout",
       "text": [
        "\n",
        "  1430  |  \u001b[94m  0.004281\u001b[0m  |    0.008059  |     0.531184  |             |  4.4s"
       ]
      },
      {
       "output_type": "stream",
       "stream": "stdout",
       "text": [
        "\n",
        "  1431  |    0.004293  |    0.008067  |     0.532125  |             |  4.4s"
       ]
      },
      {
       "output_type": "stream",
       "stream": "stdout",
       "text": [
        "\n",
        "  1432  |  \u001b[94m  0.004275\u001b[0m  |    0.008067  |     0.529961  |             |  4.4s"
       ]
      },
      {
       "output_type": "stream",
       "stream": "stdout",
       "text": [
        "\n",
        "  1433  |    0.004285  |    0.008059  |     0.531730  |             |  4.4s"
       ]
      },
      {
       "output_type": "stream",
       "stream": "stdout",
       "text": [
        "\n",
        "  1434  |    0.004332  |    0.008058  |     0.537620  |             |  4.4s"
       ]
      },
      {
       "output_type": "stream",
       "stream": "stdout",
       "text": [
        "\n",
        "  1435  |    0.004290  |    0.008049  |     0.533052  |             |  4.4s"
       ]
      },
      {
       "output_type": "stream",
       "stream": "stdout",
       "text": [
        "\n",
        "  1436  |  \u001b[94m  0.004273\u001b[0m  |    0.008077  |     0.529059  |             |  4.4s"
       ]
      },
      {
       "output_type": "stream",
       "stream": "stdout",
       "text": [
        "\n",
        "  1437  |    0.004311  |    0.008052  |     0.535407  |             |  4.4s"
       ]
      },
      {
       "output_type": "stream",
       "stream": "stdout",
       "text": [
        "\n",
        "  1438  |  \u001b[94m  0.004210\u001b[0m  |    0.008053  |     0.522737  |             |  4.4s"
       ]
      },
      {
       "output_type": "stream",
       "stream": "stdout",
       "text": [
        "\n",
        "  1439  |    0.004301  |    0.008064  |     0.533336  |             |  4.4s"
       ]
      },
      {
       "output_type": "stream",
       "stream": "stdout",
       "text": [
        "\n",
        "  1440  |    0.004264  |    0.008067  |     0.528646  |             |  4.4s"
       ]
      },
      {
       "output_type": "stream",
       "stream": "stdout",
       "text": [
        "\n",
        "  1441  |    0.004312  |    0.008047  |     0.535828  |             |  4.4s"
       ]
      },
      {
       "output_type": "stream",
       "stream": "stdout",
       "text": [
        "\n",
        "  1442  |    0.004303  |  \u001b[32m  0.008032\u001b[0m  |     0.535703  |             |  4.4s"
       ]
      },
      {
       "output_type": "stream",
       "stream": "stdout",
       "text": [
        "\n",
        "  1443  |    0.004310  |    0.008039  |     0.536128  |             |  4.4s"
       ]
      },
      {
       "output_type": "stream",
       "stream": "stdout",
       "text": [
        "\n",
        "  1444  |    0.004259  |    0.008057  |     0.528643  |             |  4.4s"
       ]
      },
      {
       "output_type": "stream",
       "stream": "stdout",
       "text": [
        "\n",
        "  1445  |  \u001b[94m  0.004207\u001b[0m  |    0.008045  |     0.522958  |             |  4.4s"
       ]
      },
      {
       "output_type": "stream",
       "stream": "stdout",
       "text": [
        "\n",
        "  1446  |  \u001b[94m  0.004193\u001b[0m  |    0.008039  |     0.521605  |             |  4.4s"
       ]
      },
      {
       "output_type": "stream",
       "stream": "stdout",
       "text": [
        "\n",
        "  1447  |  \u001b[94m  0.004187\u001b[0m  |    0.008033  |     0.521250  |             |  4.4s"
       ]
      },
      {
       "output_type": "stream",
       "stream": "stdout",
       "text": [
        "\n",
        "  1448  |    0.004254  |    0.008043  |     0.528949  |             |  4.4s"
       ]
      },
      {
       "output_type": "stream",
       "stream": "stdout",
       "text": [
        "\n",
        "  1449  |    0.004226  |    0.008054  |     0.524728  |             |  4.4s"
       ]
      },
      {
       "output_type": "stream",
       "stream": "stdout",
       "text": [
        "\n",
        "  1450  |    0.004209  |    0.008048  |     0.522971  |             |  4.4s"
       ]
      },
      {
       "output_type": "stream",
       "stream": "stdout",
       "text": [
        "\n",
        "  1451  |    0.004197  |    0.008067  |     0.520222  |             |  4.4s"
       ]
      },
      {
       "output_type": "stream",
       "stream": "stdout",
       "text": [
        "\n",
        "  1452  |    0.004199  |    0.008056  |     0.521255  |             |  4.4s"
       ]
      },
      {
       "output_type": "stream",
       "stream": "stdout",
       "text": [
        "\n",
        "  1453  |  \u001b[94m  0.004150\u001b[0m  |    0.008074  |     0.513944  |             |  4.4s"
       ]
      },
      {
       "output_type": "stream",
       "stream": "stdout",
       "text": [
        "\n",
        "  1454  |    0.004201  |    0.008066  |     0.520817  |             |  4.4s"
       ]
      },
      {
       "output_type": "stream",
       "stream": "stdout",
       "text": [
        "\n",
        "  1455  |    0.004218  |    0.008057  |     0.523539  |             |  4.4s"
       ]
      },
      {
       "output_type": "stream",
       "stream": "stdout",
       "text": [
        "\n",
        "  1456  |    0.004155  |    0.008065  |     0.515196  |             |  4.4s"
       ]
      },
      {
       "output_type": "stream",
       "stream": "stdout",
       "text": [
        "\n",
        "  1457  |    0.004260  |    0.008056  |     0.528760  |             |  4.4s"
       ]
      },
      {
       "output_type": "stream",
       "stream": "stdout",
       "text": [
        "\n",
        "  1458  |    0.004264  |    0.008040  |     0.530257  |             |  4.4s"
       ]
      },
      {
       "output_type": "stream",
       "stream": "stdout",
       "text": [
        "\n",
        "  1459  |    0.004184  |    0.008055  |     0.519463  |             |  4.4s"
       ]
      },
      {
       "output_type": "stream",
       "stream": "stdout",
       "text": [
        "\n",
        "  1460  |    0.004328  |    0.008046  |     0.537924  |             |  4.4s"
       ]
      },
      {
       "output_type": "stream",
       "stream": "stdout",
       "text": [
        "\n",
        "  1461  |    0.004154  |    0.008067  |     0.514973  |             |  4.4s"
       ]
      },
      {
       "output_type": "stream",
       "stream": "stdout",
       "text": [
        "\n",
        "  1462  |    0.004169  |    0.008041  |     0.518544  |             |  4.4s"
       ]
      },
      {
       "output_type": "stream",
       "stream": "stdout",
       "text": [
        "\n",
        "  1463  |  \u001b[94m  0.004134\u001b[0m  |    0.008033  |     0.514597  |             |  4.4s"
       ]
      },
      {
       "output_type": "stream",
       "stream": "stdout",
       "text": [
        "\n",
        "  1464  |    0.004278  |    0.008050  |     0.531358  |             |  4.4s"
       ]
      },
      {
       "output_type": "stream",
       "stream": "stdout",
       "text": [
        "\n",
        "  1465  |    0.004184  |    0.008039  |     0.520485  |             |  4.4s"
       ]
      },
      {
       "output_type": "stream",
       "stream": "stdout",
       "text": [
        "\n",
        "  1466  |    0.004144  |    0.008043  |     0.515273  |             |  4.4s"
       ]
      },
      {
       "output_type": "stream",
       "stream": "stdout",
       "text": [
        "\n",
        "  1467  |    0.004158  |    0.008075  |     0.514879  |             |  4.4s"
       ]
      },
      {
       "output_type": "stream",
       "stream": "stdout",
       "text": [
        "\n",
        "  1468  |    0.004152  |    0.008068  |     0.514597  |             |  4.4s"
       ]
      },
      {
       "output_type": "stream",
       "stream": "stdout",
       "text": [
        "\n",
        "  1469  |  \u001b[94m  0.004061\u001b[0m  |    0.008070  |     0.503255  |             |  4.4s"
       ]
      },
      {
       "output_type": "stream",
       "stream": "stdout",
       "text": [
        "\n",
        "  1470  |    0.004076  |    0.008057  |     0.505858  |             |  4.4s"
       ]
      },
      {
       "output_type": "stream",
       "stream": "stdout",
       "text": [
        "\n",
        "  1471  |    0.004093  |    0.008052  |     0.508312  |             |  4.4s"
       ]
      },
      {
       "output_type": "stream",
       "stream": "stdout",
       "text": [
        "\n",
        "  1472  |    0.004072  |    0.008050  |     0.505839  |             |  4.4s"
       ]
      },
      {
       "output_type": "stream",
       "stream": "stdout",
       "text": [
        "\n",
        "  1473  |    0.004096  |    0.008052  |     0.508661  |             |  4.4s"
       ]
      },
      {
       "output_type": "stream",
       "stream": "stdout",
       "text": [
        "\n",
        "  1474  |    0.004161  |    0.008052  |     0.516699  |             |  4.4s"
       ]
      },
      {
       "output_type": "stream",
       "stream": "stdout",
       "text": [
        "\n",
        "  1475  |    0.004101  |    0.008041  |     0.509985  |             |  4.4s"
       ]
      },
      {
       "output_type": "stream",
       "stream": "stdout",
       "text": [
        "\n",
        "  1476  |    0.004082  |    0.008060  |     0.506414  |             |  4.4s"
       ]
      },
      {
       "output_type": "stream",
       "stream": "stdout",
       "text": [
        "\n",
        "  1477  |    0.004211  |    0.008043  |     0.523598  |             |  4.4s"
       ]
      },
      {
       "output_type": "stream",
       "stream": "stdout",
       "text": [
        "\n",
        "  1478  |    0.004162  |  \u001b[32m  0.008026\u001b[0m  |     0.518586  |             |  4.4s"
       ]
      },
      {
       "output_type": "stream",
       "stream": "stdout",
       "text": [
        "\n",
        "  1479  |    0.004190  |    0.008029  |     0.521886  |             |  4.4s"
       ]
      },
      {
       "output_type": "stream",
       "stream": "stdout",
       "text": [
        "\n",
        "  1480  |    0.004116  |    0.008042  |     0.511811  |             |  4.4s"
       ]
      },
      {
       "output_type": "stream",
       "stream": "stdout",
       "text": [
        "\n",
        "  1481  |    0.004189  |  \u001b[32m  0.008021\u001b[0m  |     0.522214  |             |  4.4s"
       ]
      },
      {
       "output_type": "stream",
       "stream": "stdout",
       "text": [
        "\n",
        "  1482  |    0.004121  |    0.008029  |     0.513260  |             |  4.4s"
       ]
      },
      {
       "output_type": "stream",
       "stream": "stdout",
       "text": [
        "\n",
        "  1483  |    0.004074  |    0.008046  |     0.506336  |             |  4.4s"
       ]
      },
      {
       "output_type": "stream",
       "stream": "stdout",
       "text": [
        "\n",
        "  1484  |    0.004094  |    0.008023  |     0.510320  |             |  4.4s"
       ]
      },
      {
       "output_type": "stream",
       "stream": "stdout",
       "text": [
        "\n",
        "  1485  |    0.004094  |    0.008043  |     0.509015  |             |  4.4s"
       ]
      },
      {
       "output_type": "stream",
       "stream": "stdout",
       "text": [
        "\n",
        "  1486  |    0.004138  |    0.008036  |     0.514869  |             |  4.4s"
       ]
      },
      {
       "output_type": "stream",
       "stream": "stdout",
       "text": [
        "\n",
        "  1487  |  \u001b[94m  0.004060\u001b[0m  |    0.008035  |     0.505298  |             |  4.4s"
       ]
      },
      {
       "output_type": "stream",
       "stream": "stdout",
       "text": [
        "\n",
        "  1488  |    0.004069  |    0.008037  |     0.506265  |             |  4.4s"
       ]
      },
      {
       "output_type": "stream",
       "stream": "stdout",
       "text": [
        "\n",
        "  1489  |    0.004134  |    0.008042  |     0.514117  |             |  4.4s"
       ]
      },
      {
       "output_type": "stream",
       "stream": "stdout",
       "text": [
        "\n",
        "  1490  |    0.004102  |    0.008044  |     0.509973  |             |  4.4s"
       ]
      },
      {
       "output_type": "stream",
       "stream": "stdout",
       "text": [
        "\n",
        "  1491  |  \u001b[94m  0.004022\u001b[0m  |    0.008034  |     0.500657  |             |  4.4s"
       ]
      },
      {
       "output_type": "stream",
       "stream": "stdout",
       "text": [
        "\n",
        "  1492  |    0.004052  |    0.008028  |     0.504733  |             |  4.4s"
       ]
      },
      {
       "output_type": "stream",
       "stream": "stdout",
       "text": [
        "\n",
        "  1493  |    0.004142  |    0.008030  |     0.515820  |             |  4.4s"
       ]
      },
      {
       "output_type": "stream",
       "stream": "stdout",
       "text": [
        "\n",
        "  1494  |    0.004150  |    0.008028  |     0.517001  |             |  4.4s"
       ]
      },
      {
       "output_type": "stream",
       "stream": "stdout",
       "text": [
        "\n",
        "  1495  |    0.004038  |    0.008036  |     0.502539  |             |  4.4s"
       ]
      },
      {
       "output_type": "stream",
       "stream": "stdout",
       "text": [
        "\n",
        "  1496  |    0.004128  |    0.008027  |     0.514275  |             |  4.4s"
       ]
      },
      {
       "output_type": "stream",
       "stream": "stdout",
       "text": [
        "\n",
        "  1497  |  \u001b[94m  0.004004\u001b[0m  |    0.008032  |     0.498472  |             |  4.5s"
       ]
      },
      {
       "output_type": "stream",
       "stream": "stdout",
       "text": [
        "\n",
        "  1498  |  \u001b[94m  0.003971\u001b[0m  |  \u001b[32m  0.008014\u001b[0m  |     0.495521  |             |  4.4s"
       ]
      },
      {
       "output_type": "stream",
       "stream": "stdout",
       "text": [
        "\n",
        "  1499  |    0.004021  |    0.008029  |     0.500812  |             |  4.4s"
       ]
      },
      {
       "output_type": "stream",
       "stream": "stdout",
       "text": [
        "\n",
        "  1500  |    0.004018  |    0.008027  |     0.500595  |             |  4.4s"
       ]
      },
      {
       "output_type": "stream",
       "stream": "stdout",
       "text": [
        "\n",
        "  1501  |    0.004008  |    0.008030  |     0.499137  |             |  4.4s"
       ]
      },
      {
       "output_type": "stream",
       "stream": "stdout",
       "text": [
        "\n",
        "  1502  |    0.004091  |  \u001b[32m  0.008009\u001b[0m  |     0.510837  |             |  4.4s"
       ]
      },
      {
       "output_type": "stream",
       "stream": "stdout",
       "text": [
        "\n",
        "  1503  |    0.004057  |    0.008030  |     0.505222  |             |  4.4s"
       ]
      },
      {
       "output_type": "stream",
       "stream": "stdout",
       "text": [
        "\n",
        "  1504  |    0.004079  |    0.008035  |     0.507685  |             |  4.4s"
       ]
      },
      {
       "output_type": "stream",
       "stream": "stdout",
       "text": [
        "\n",
        "  1505  |    0.003978  |    0.008034  |     0.495149  |             |  4.4s"
       ]
      },
      {
       "output_type": "stream",
       "stream": "stdout",
       "text": [
        "\n",
        "  1506  |    0.004045  |    0.008013  |     0.504766  |             |  4.4s"
       ]
      },
      {
       "output_type": "stream",
       "stream": "stdout",
       "text": [
        "\n",
        "  1507  |    0.004123  |    0.008015  |     0.514368  |             |  4.4s"
       ]
      },
      {
       "output_type": "stream",
       "stream": "stdout",
       "text": [
        "\n",
        "  1508  |    0.004118  |    0.008010  |     0.514016  |             |  4.4s"
       ]
      },
      {
       "output_type": "stream",
       "stream": "stdout",
       "text": [
        "\n",
        "  1509  |  \u001b[94m  0.003963\u001b[0m  |    0.008022  |     0.493992  |             |  4.4s"
       ]
      },
      {
       "output_type": "stream",
       "stream": "stdout",
       "text": [
        "\n",
        "  1510  |    0.003980  |    0.008032  |     0.495482  |             |  4.4s"
       ]
      },
      {
       "output_type": "stream",
       "stream": "stdout",
       "text": [
        "\n",
        "  1511  |  \u001b[94m  0.003962\u001b[0m  |    0.008034  |     0.493159  |             |  4.4s"
       ]
      },
      {
       "output_type": "stream",
       "stream": "stdout",
       "text": [
        "\n",
        "  1512  |    0.004092  |    0.008041  |     0.508880  |             |  4.4s"
       ]
      },
      {
       "output_type": "stream",
       "stream": "stdout",
       "text": [
        "\n",
        "  1513  |    0.003976  |    0.008049  |     0.493933  |             |  4.4s"
       ]
      },
      {
       "output_type": "stream",
       "stream": "stdout",
       "text": [
        "\n",
        "  1514  |  \u001b[94m  0.003930\u001b[0m  |    0.008036  |     0.489091  |             |  4.4s"
       ]
      },
      {
       "output_type": "stream",
       "stream": "stdout",
       "text": [
        "\n",
        "  1515  |    0.003958  |    0.008039  |     0.492300  |             |  4.4s"
       ]
      },
      {
       "output_type": "stream",
       "stream": "stdout",
       "text": [
        "\n",
        "  1516  |  \u001b[94m  0.003904\u001b[0m  |    0.008020  |     0.486815  |             |  4.4s"
       ]
      },
      {
       "output_type": "stream",
       "stream": "stdout",
       "text": [
        "\n",
        "  1517  |    0.004005  |    0.008037  |     0.498321  |             |  4.4s"
       ]
      },
      {
       "output_type": "stream",
       "stream": "stdout",
       "text": [
        "\n",
        "  1518  |    0.003938  |    0.008050  |     0.489134  |             |  4.4s"
       ]
      },
      {
       "output_type": "stream",
       "stream": "stdout",
       "text": [
        "\n",
        "  1519  |    0.003970  |    0.008039  |     0.493815  |             |  4.4s"
       ]
      },
      {
       "output_type": "stream",
       "stream": "stdout",
       "text": [
        "\n",
        "  1520  |    0.003934  |    0.008030  |     0.489890  |             |  4.4s"
       ]
      },
      {
       "output_type": "stream",
       "stream": "stdout",
       "text": [
        "\n",
        "  1521  |    0.003980  |    0.008018  |     0.496379  |             |  4.4s"
       ]
      },
      {
       "output_type": "stream",
       "stream": "stdout",
       "text": [
        "\n",
        "  1522  |  \u001b[94m  0.003873\u001b[0m  |    0.008013  |     0.483321  |             |  4.4s"
       ]
      },
      {
       "output_type": "stream",
       "stream": "stdout",
       "text": [
        "\n",
        "  1523  |    0.003936  |    0.008013  |     0.491144  |             |  4.4s"
       ]
      },
      {
       "output_type": "stream",
       "stream": "stdout",
       "text": [
        "\n",
        "  1524  |    0.003899  |    0.008033  |     0.485368  |             |  4.4s"
       ]
      },
      {
       "output_type": "stream",
       "stream": "stdout",
       "text": [
        "\n",
        "  1525  |    0.003967  |    0.008027  |     0.494245  |             |  4.4s"
       ]
      },
      {
       "output_type": "stream",
       "stream": "stdout",
       "text": [
        "\n",
        "  1526  |    0.003948  |    0.008032  |     0.491600  |             |  4.4s"
       ]
      },
      {
       "output_type": "stream",
       "stream": "stdout",
       "text": [
        "\n",
        "  1527  |    0.003966  |    0.008020  |     0.494454  |             |  4.4s"
       ]
      },
      {
       "output_type": "stream",
       "stream": "stdout",
       "text": [
        "\n",
        "  1528  |    0.003901  |    0.008024  |     0.486151  |             |  4.4s"
       ]
      },
      {
       "output_type": "stream",
       "stream": "stdout",
       "text": [
        "\n",
        "  1529  |    0.004039  |    0.008025  |     0.503357  |             |  4.4s"
       ]
      },
      {
       "output_type": "stream",
       "stream": "stdout",
       "text": [
        "\n",
        "  1530  |    0.003966  |    0.008029  |     0.494032  |             |  4.4s"
       ]
      },
      {
       "output_type": "stream",
       "stream": "stdout",
       "text": [
        "\n",
        "  1531  |    0.003964  |    0.008024  |     0.494007  |             |  4.4s"
       ]
      },
      {
       "output_type": "stream",
       "stream": "stdout",
       "text": [
        "\n",
        "  1532  |    0.004003  |    0.008031  |     0.498452  |             |  4.4s"
       ]
      },
      {
       "output_type": "stream",
       "stream": "stdout",
       "text": [
        "\n",
        "  1533  |    0.003979  |    0.008019  |     0.496171  |             |  4.4s"
       ]
      },
      {
       "output_type": "stream",
       "stream": "stdout",
       "text": [
        "\n",
        "  1534  |    0.003917  |    0.008022  |     0.488284  |             |  4.4s"
       ]
      },
      {
       "output_type": "stream",
       "stream": "stdout",
       "text": [
        "\n",
        "  1535  |    0.003914  |    0.008017  |     0.488276  |             |  4.4s"
       ]
      },
      {
       "output_type": "stream",
       "stream": "stdout",
       "text": [
        "\n",
        "  1536  |    0.003917  |  \u001b[32m  0.008003\u001b[0m  |     0.489443  |             |  4.4s"
       ]
      },
      {
       "output_type": "stream",
       "stream": "stdout",
       "text": [
        "\n",
        "  1537  |    0.003895  |  \u001b[32m  0.007990\u001b[0m  |     0.487502  |             |  4.4s"
       ]
      },
      {
       "output_type": "stream",
       "stream": "stdout",
       "text": [
        "\n",
        "  1538  |    0.003905  |    0.008011  |     0.487475  |             |  4.4s"
       ]
      },
      {
       "output_type": "stream",
       "stream": "stdout",
       "text": [
        "\n",
        "  1539  |    0.003901  |    0.008022  |     0.486221  |             |  4.4s"
       ]
      },
      {
       "output_type": "stream",
       "stream": "stdout",
       "text": [
        "\n",
        "  1540  |    0.003961  |    0.008019  |     0.493953  |             |  4.4s"
       ]
      },
      {
       "output_type": "stream",
       "stream": "stdout",
       "text": [
        "\n",
        "  1541  |    0.003893  |    0.008008  |     0.486103  |             |  4.4s"
       ]
      },
      {
       "output_type": "stream",
       "stream": "stdout",
       "text": [
        "\n",
        "  1542  |    0.003905  |    0.008004  |     0.487883  |             |  4.4s"
       ]
      },
      {
       "output_type": "stream",
       "stream": "stdout",
       "text": [
        "\n",
        "  1543  |    0.003883  |    0.008007  |     0.484988  |             |  4.4s"
       ]
      },
      {
       "output_type": "stream",
       "stream": "stdout",
       "text": [
        "\n",
        "  1544  |  \u001b[94m  0.003848\u001b[0m  |    0.008011  |     0.480360  |             |  4.4s"
       ]
      },
      {
       "output_type": "stream",
       "stream": "stdout",
       "text": [
        "\n",
        "  1545  |    0.003896  |    0.008006  |     0.486706  |             |  4.4s"
       ]
      },
      {
       "output_type": "stream",
       "stream": "stdout",
       "text": [
        "\n",
        "  1546  |    0.003910  |    0.008007  |     0.488391  |             |  4.4s"
       ]
      },
      {
       "output_type": "stream",
       "stream": "stdout",
       "text": [
        "\n",
        "  1547  |  \u001b[94m  0.003812\u001b[0m  |    0.008013  |     0.475802  |             |  4.4s"
       ]
      },
      {
       "output_type": "stream",
       "stream": "stdout",
       "text": [
        "\n",
        "  1548  |    0.003897  |    0.007992  |     0.487598  |             |  4.4s"
       ]
      },
      {
       "output_type": "stream",
       "stream": "stdout",
       "text": [
        "\n",
        "  1549  |    0.003844  |    0.008001  |     0.480496  |             |  4.4s"
       ]
      },
      {
       "output_type": "stream",
       "stream": "stdout",
       "text": [
        "\n",
        "  1550  |    0.003933  |    0.008000  |     0.491661  |             |  4.4s"
       ]
      },
      {
       "output_type": "stream",
       "stream": "stdout",
       "text": [
        "\n",
        "  1551  |    0.003881  |    0.008017  |     0.484114  |             |  4.4s"
       ]
      },
      {
       "output_type": "stream",
       "stream": "stdout",
       "text": [
        "\n",
        "  1552  |  \u001b[94m  0.003793\u001b[0m  |    0.008010  |     0.473530  |             |  4.4s"
       ]
      },
      {
       "output_type": "stream",
       "stream": "stdout",
       "text": [
        "\n",
        "  1553  |  \u001b[94m  0.003792\u001b[0m  |    0.008006  |     0.473663  |             |  4.4s"
       ]
      },
      {
       "output_type": "stream",
       "stream": "stdout",
       "text": [
        "\n",
        "  1554  |    0.003842  |    0.007997  |     0.480406  |             |  4.4s"
       ]
      },
      {
       "output_type": "stream",
       "stream": "stdout",
       "text": [
        "\n",
        "  1555  |    0.003860  |    0.007996  |     0.482732  |             |  4.4s"
       ]
      },
      {
       "output_type": "stream",
       "stream": "stdout",
       "text": [
        "\n",
        "  1556  |    0.003875  |    0.008000  |     0.484421  |             |  4.4s"
       ]
      },
      {
       "output_type": "stream",
       "stream": "stdout",
       "text": [
        "\n",
        "  1557  |  \u001b[94m  0.003731\u001b[0m  |    0.008004  |     0.466128  |             |  4.4s"
       ]
      },
      {
       "output_type": "stream",
       "stream": "stdout",
       "text": [
        "\n",
        "  1558  |    0.003828  |  \u001b[32m  0.007986\u001b[0m  |     0.479315  |             |  4.4s"
       ]
      },
      {
       "output_type": "stream",
       "stream": "stdout",
       "text": [
        "\n",
        "  1559  |    0.003771  |  \u001b[32m  0.007984\u001b[0m  |     0.472263  |             |  4.4s"
       ]
      },
      {
       "output_type": "stream",
       "stream": "stdout",
       "text": [
        "\n",
        "  1560  |    0.003822  |    0.007987  |     0.478531  |             |  4.4s"
       ]
      },
      {
       "output_type": "stream",
       "stream": "stdout",
       "text": [
        "\n",
        "  1561  |    0.003870  |    0.007991  |     0.484327  |             |  4.4s"
       ]
      },
      {
       "output_type": "stream",
       "stream": "stdout",
       "text": [
        "\n",
        "  1562  |    0.003882  |    0.007997  |     0.485432  |             |  4.4s"
       ]
      },
      {
       "output_type": "stream",
       "stream": "stdout",
       "text": [
        "\n",
        "  1563  |    0.003840  |    0.007997  |     0.480173  |             |  4.4s"
       ]
      },
      {
       "output_type": "stream",
       "stream": "stdout",
       "text": [
        "\n",
        "  1564  |    0.003828  |    0.007994  |     0.478791  |             |  4.4s"
       ]
      },
      {
       "output_type": "stream",
       "stream": "stdout",
       "text": [
        "\n",
        "  1565  |    0.003834  |    0.007998  |     0.479451  |             |  4.4s"
       ]
      },
      {
       "output_type": "stream",
       "stream": "stdout",
       "text": [
        "\n",
        "  1566  |    0.003821  |    0.008005  |     0.477334  |             |  4.4s"
       ]
      },
      {
       "output_type": "stream",
       "stream": "stdout",
       "text": [
        "\n",
        "  1567  |    0.003848  |    0.008003  |     0.480772  |             |  4.4s"
       ]
      },
      {
       "output_type": "stream",
       "stream": "stdout",
       "text": [
        "\n",
        "  1568  |    0.003801  |    0.008001  |     0.475089  |             |  4.4s"
       ]
      },
      {
       "output_type": "stream",
       "stream": "stdout",
       "text": [
        "\n",
        "  1569  |    0.003819  |    0.007999  |     0.477386  |             |  4.4s"
       ]
      },
      {
       "output_type": "stream",
       "stream": "stdout",
       "text": [
        "\n",
        "  1570  |    0.003793  |    0.007993  |     0.474521  |             |  4.4s"
       ]
      },
      {
       "output_type": "stream",
       "stream": "stdout",
       "text": [
        "\n",
        "  1571  |    0.003842  |    0.008004  |     0.480042  |             |  4.4s"
       ]
      },
      {
       "output_type": "stream",
       "stream": "stdout",
       "text": [
        "\n",
        "  1572  |    0.003878  |    0.008006  |     0.484418  |             |  4.4s"
       ]
      },
      {
       "output_type": "stream",
       "stream": "stdout",
       "text": [
        "\n",
        "  1573  |    0.003788  |    0.007999  |     0.473550  |             |  4.4s"
       ]
      },
      {
       "output_type": "stream",
       "stream": "stdout",
       "text": [
        "\n",
        "  1574  |    0.003819  |    0.008015  |     0.476514  |             |  4.4s"
       ]
      },
      {
       "output_type": "stream",
       "stream": "stdout",
       "text": [
        "\n",
        "  1575  |    0.003757  |    0.008023  |     0.468331  |             |  4.4s"
       ]
      },
      {
       "output_type": "stream",
       "stream": "stdout",
       "text": [
        "\n",
        "  1576  |    0.003860  |    0.008013  |     0.481787  |             |  4.4s"
       ]
      },
      {
       "output_type": "stream",
       "stream": "stdout",
       "text": [
        "\n",
        "  1577  |    0.003776  |    0.008010  |     0.471467  |             |  4.4s"
       ]
      },
      {
       "output_type": "stream",
       "stream": "stdout",
       "text": [
        "\n",
        "  1578  |    0.003738  |    0.008014  |     0.466435  |             |  4.4s"
       ]
      },
      {
       "output_type": "stream",
       "stream": "stdout",
       "text": [
        "\n",
        "  1579  |    0.003849  |    0.008000  |     0.481143  |             |  4.4s"
       ]
      },
      {
       "output_type": "stream",
       "stream": "stdout",
       "text": [
        "\n",
        "  1580  |    0.003782  |    0.008017  |     0.471822  |             |  4.4s"
       ]
      },
      {
       "output_type": "stream",
       "stream": "stdout",
       "text": [
        "\n",
        "  1581  |    0.003834  |    0.008005  |     0.478929  |             |  4.4s"
       ]
      },
      {
       "output_type": "stream",
       "stream": "stdout",
       "text": [
        "\n",
        "  1582  |    0.003833  |    0.008012  |     0.478441  |             |  4.4s"
       ]
      },
      {
       "output_type": "stream",
       "stream": "stdout",
       "text": [
        "\n",
        "  1583  |  \u001b[94m  0.003707\u001b[0m  |    0.008022  |     0.462111  |             |  4.4s"
       ]
      },
      {
       "output_type": "stream",
       "stream": "stdout",
       "text": [
        "\n",
        "  1584  |    0.003822  |    0.008023  |     0.476397  |             |  4.4s"
       ]
      },
      {
       "output_type": "stream",
       "stream": "stdout",
       "text": [
        "\n",
        "  1585  |    0.003781  |    0.008014  |     0.471865  |             |  4.4s"
       ]
      },
      {
       "output_type": "stream",
       "stream": "stdout",
       "text": [
        "\n",
        "  1586  |    0.003725  |    0.008018  |     0.464549  |             |  4.4s"
       ]
      },
      {
       "output_type": "stream",
       "stream": "stdout",
       "text": [
        "\n",
        "  1587  |    0.003738  |    0.008022  |     0.465960  |             |  4.4s"
       ]
      },
      {
       "output_type": "stream",
       "stream": "stdout",
       "text": [
        "\n",
        "  1588  |    0.003739  |    0.008011  |     0.466785  |             |  4.4s"
       ]
      },
      {
       "output_type": "stream",
       "stream": "stdout",
       "text": [
        "\n",
        "  1589  |    0.003712  |    0.008017  |     0.463024  |             |  4.4s"
       ]
      },
      {
       "output_type": "stream",
       "stream": "stdout",
       "text": [
        "\n",
        "  1590  |    0.003745  |    0.008012  |     0.467490  |             |  4.4s"
       ]
      },
      {
       "output_type": "stream",
       "stream": "stdout",
       "text": [
        "\n",
        "  1591  |    0.003748  |    0.008029  |     0.466877  |             |  4.4s"
       ]
      },
      {
       "output_type": "stream",
       "stream": "stdout",
       "text": [
        "\n",
        "  1592  |    0.003728  |    0.008028  |     0.464442  |             |  4.4s"
       ]
      },
      {
       "output_type": "stream",
       "stream": "stdout",
       "text": [
        "\n",
        "  1593  |    0.003760  |    0.008019  |     0.468931  |             |  4.4s"
       ]
      },
      {
       "output_type": "stream",
       "stream": "stdout",
       "text": [
        "\n",
        "  1594  |    0.003709  |    0.008016  |     0.462693  |             |  4.4s"
       ]
      },
      {
       "output_type": "stream",
       "stream": "stdout",
       "text": [
        "\n",
        "  1595  |    0.003803  |    0.008020  |     0.474150  |             |  4.4s"
       ]
      },
      {
       "output_type": "stream",
       "stream": "stdout",
       "text": [
        "\n",
        "  1596  |    0.003748  |    0.008018  |     0.467403  |             |  4.4s"
       ]
      },
      {
       "output_type": "stream",
       "stream": "stdout",
       "text": [
        "\n",
        "  1597  |    0.003744  |    0.008019  |     0.466894  |             |  4.4s"
       ]
      },
      {
       "output_type": "stream",
       "stream": "stdout",
       "text": [
        "\n",
        "  1598  |    0.003743  |    0.008012  |     0.467197  |             |  4.4s"
       ]
      },
      {
       "output_type": "stream",
       "stream": "stdout",
       "text": [
        "\n",
        "  1599  |    0.003790  |    0.008016  |     0.472757  |             |  4.4s"
       ]
      },
      {
       "output_type": "stream",
       "stream": "stdout",
       "text": [
        "\n",
        "  1600  |  \u001b[94m  0.003703\u001b[0m  |    0.008021  |     0.461690  |             |  4.4s"
       ]
      },
      {
       "output_type": "stream",
       "stream": "stdout",
       "text": [
        "\n",
        "  1601  |    0.003704  |    0.008019  |     0.461840  |             |  4.4s"
       ]
      },
      {
       "output_type": "stream",
       "stream": "stdout",
       "text": [
        "\n",
        "  1602  |  \u001b[94m  0.003674\u001b[0m  |    0.008007  |     0.458774  |             |  4.4s"
       ]
      },
      {
       "output_type": "stream",
       "stream": "stdout",
       "text": [
        "\n",
        "  1603  |    0.003722  |    0.007999  |     0.465257  |             |  4.4s"
       ]
      },
      {
       "output_type": "stream",
       "stream": "stdout",
       "text": [
        "\n",
        "  1604  |    0.003686  |    0.007996  |     0.461008  |             |  4.4s"
       ]
      },
      {
       "output_type": "stream",
       "stream": "stdout",
       "text": [
        "\n",
        "  1605  |    0.003708  |    0.008007  |     0.463034  |             |  4.4s"
       ]
      },
      {
       "output_type": "stream",
       "stream": "stdout",
       "text": [
        "\n",
        "  1606  |    0.003681  |    0.008008  |     0.459633  |             |  4.4s"
       ]
      },
      {
       "output_type": "stream",
       "stream": "stdout",
       "text": [
        "\n",
        "  1607  |  \u001b[94m  0.003650\u001b[0m  |    0.008011  |     0.455633  |             |  4.4s"
       ]
      },
      {
       "output_type": "stream",
       "stream": "stdout",
       "text": [
        "\n",
        "  1608  |    0.003687  |    0.008008  |     0.460414  |             |  4.4s"
       ]
      },
      {
       "output_type": "stream",
       "stream": "stdout",
       "text": [
        "\n",
        "  1609  |    0.003679  |    0.008000  |     0.459837  |             |  4.4s"
       ]
      },
      {
       "output_type": "stream",
       "stream": "stdout",
       "text": [
        "\n",
        "  1610  |    0.003729  |    0.008006  |     0.465834  |             |  4.4s"
       ]
      },
      {
       "output_type": "stream",
       "stream": "stdout",
       "text": [
        "\n",
        "  1611  |    0.003674  |    0.008007  |     0.458861  |             |  4.4s"
       ]
      },
      {
       "output_type": "stream",
       "stream": "stdout",
       "text": [
        "\n",
        "  1612  |    0.003685  |    0.007999  |     0.460737  |             |  4.4s"
       ]
      },
      {
       "output_type": "stream",
       "stream": "stdout",
       "text": [
        "\n",
        "  1613  |    0.003752  |    0.008018  |     0.467938  |             |  4.4s"
       ]
      },
      {
       "output_type": "stream",
       "stream": "stdout",
       "text": [
        "\n",
        "  1614  |    0.003689  |    0.008020  |     0.460043  |             |  4.4s"
       ]
      },
      {
       "output_type": "stream",
       "stream": "stdout",
       "text": [
        "\n",
        "  1615  |    0.003684  |    0.008003  |     0.460317  |             |  4.4s"
       ]
      },
      {
       "output_type": "stream",
       "stream": "stdout",
       "text": [
        "\n",
        "  1616  |  \u001b[94m  0.003585\u001b[0m  |    0.007999  |     0.448201  |             |  4.4s"
       ]
      },
      {
       "output_type": "stream",
       "stream": "stdout",
       "text": [
        "\n",
        "  1617  |    0.003767  |    0.008002  |     0.470751  |             |  4.4s"
       ]
      },
      {
       "output_type": "stream",
       "stream": "stdout",
       "text": [
        "\n",
        "  1618  |    0.003727  |    0.008015  |     0.464990  |             |  4.4s"
       ]
      },
      {
       "output_type": "stream",
       "stream": "stdout",
       "text": [
        "\n",
        "  1619  |    0.003683  |    0.008007  |     0.460018  |             |  4.4s"
       ]
      },
      {
       "output_type": "stream",
       "stream": "stdout",
       "text": [
        "\n",
        "  1620  |    0.003668  |    0.008026  |     0.457053  |             |  4.4s"
       ]
      },
      {
       "output_type": "stream",
       "stream": "stdout",
       "text": [
        "\n",
        "  1621  |    0.003638  |    0.008032  |     0.452922  |             |  4.4s"
       ]
      },
      {
       "output_type": "stream",
       "stream": "stdout",
       "text": [
        "\n",
        "  1622  |  \u001b[94m  0.003578\u001b[0m  |    0.008020  |     0.446202  |             |  4.4s"
       ]
      },
      {
       "output_type": "stream",
       "stream": "stdout",
       "text": [
        "\n",
        "  1623  |    0.003600  |    0.008005  |     0.449751  |             |  4.4s"
       ]
      },
      {
       "output_type": "stream",
       "stream": "stdout",
       "text": [
        "\n",
        "  1624  |    0.003673  |    0.008019  |     0.458012  |             |  4.4s"
       ]
      },
      {
       "output_type": "stream",
       "stream": "stdout",
       "text": [
        "\n",
        "  1625  |    0.003659  |    0.008013  |     0.456655  |             |  4.4s"
       ]
      },
      {
       "output_type": "stream",
       "stream": "stdout",
       "text": [
        "\n",
        "  1626  |    0.003646  |    0.008014  |     0.454922  |             |  4.4s"
       ]
      },
      {
       "output_type": "stream",
       "stream": "stdout",
       "text": [
        "\n",
        "  1627  |    0.003623  |    0.008017  |     0.451903  |             |  4.4s"
       ]
      },
      {
       "output_type": "stream",
       "stream": "stdout",
       "text": [
        "\n",
        "  1628  |    0.003657  |    0.008008  |     0.456700  |             |  4.4s"
       ]
      },
      {
       "output_type": "stream",
       "stream": "stdout",
       "text": [
        "\n",
        "  1629  |    0.003635  |    0.008007  |     0.453936  |             |  4.4s"
       ]
      },
      {
       "output_type": "stream",
       "stream": "stdout",
       "text": [
        "\n",
        "  1630  |    0.003658  |    0.008020  |     0.456118  |             |  4.4s"
       ]
      },
      {
       "output_type": "stream",
       "stream": "stdout",
       "text": [
        "\n",
        "  1631  |    0.003687  |    0.008014  |     0.460048  |             |  4.4s"
       ]
      },
      {
       "output_type": "stream",
       "stream": "stdout",
       "text": [
        "\n",
        "  1632  |  \u001b[94m  0.003572\u001b[0m  |    0.008019  |     0.445406  |             |  4.4s"
       ]
      },
      {
       "output_type": "stream",
       "stream": "stdout",
       "text": [
        "\n",
        "  1633  |    0.003602  |    0.008017  |     0.449267  |             |  4.4s"
       ]
      },
      {
       "output_type": "stream",
       "stream": "stdout",
       "text": [
        "\n",
        "  1634  |    0.003646  |    0.008033  |     0.453927  |             |  4.4s"
       ]
      },
      {
       "output_type": "stream",
       "stream": "stdout",
       "text": [
        "\n",
        "  1635  |    0.003623  |    0.008024  |     0.451593  |             |  4.4s"
       ]
      },
      {
       "output_type": "stream",
       "stream": "stdout",
       "text": [
        "\n",
        "  1636  |    0.003617  |    0.008024  |     0.450767  |             |  4.4s"
       ]
      },
      {
       "output_type": "stream",
       "stream": "stdout",
       "text": [
        "\n",
        "  1637  |    0.003601  |    0.008033  |     0.448236  |             |  4.4s"
       ]
      },
      {
       "output_type": "stream",
       "stream": "stdout",
       "text": [
        "\n",
        "  1638  |    0.003651  |    0.008024  |     0.455025  |             |  4.4s"
       ]
      },
      {
       "output_type": "stream",
       "stream": "stdout",
       "text": [
        "\n",
        "  1639  |    0.003590  |    0.008013  |     0.448005  |             |  4.4s"
       ]
      },
      {
       "output_type": "stream",
       "stream": "stdout",
       "text": [
        "\n",
        "  1640  |    0.003595  |    0.008010  |     0.448827  |             |  4.4s"
       ]
      },
      {
       "output_type": "stream",
       "stream": "stdout",
       "text": [
        "\n",
        "  1641  |    0.003621  |    0.008008  |     0.452189  |             |  4.4s"
       ]
      },
      {
       "output_type": "stream",
       "stream": "stdout",
       "text": [
        "\n",
        "  1642  |    0.003670  |    0.008007  |     0.458348  |             |  4.4s"
       ]
      },
      {
       "output_type": "stream",
       "stream": "stdout",
       "text": [
        "\n",
        "  1643  |  \u001b[94m  0.003568\u001b[0m  |    0.008013  |     0.445322  |             |  4.4s"
       ]
      },
      {
       "output_type": "stream",
       "stream": "stdout",
       "text": [
        "\n",
        "  1644  |  \u001b[94m  0.003513\u001b[0m  |    0.008015  |     0.438259  |             |  4.4s"
       ]
      },
      {
       "output_type": "stream",
       "stream": "stdout",
       "text": [
        "\n",
        "  1645  |    0.003600  |    0.008038  |     0.447865  |             |  4.4s"
       ]
      },
      {
       "output_type": "stream",
       "stream": "stdout",
       "text": [
        "\n",
        "  1646  |    0.003605  |    0.008022  |     0.449431  |             |  4.4s"
       ]
      },
      {
       "output_type": "stream",
       "stream": "stdout",
       "text": [
        "\n",
        "  1647  |    0.003562  |    0.008028  |     0.443674  |             |  4.4s"
       ]
      },
      {
       "output_type": "stream",
       "stream": "stdout",
       "text": [
        "\n",
        "  1648  |    0.003551  |    0.008013  |     0.443162  |             |  4.4s"
       ]
      },
      {
       "output_type": "stream",
       "stream": "stdout",
       "text": [
        "\n",
        "  1649  |    0.003577  |    0.008014  |     0.446357  |             |  4.4s"
       ]
      },
      {
       "output_type": "stream",
       "stream": "stdout",
       "text": [
        "\n",
        "  1650  |    0.003582  |    0.008023  |     0.446529  |             |  4.4s"
       ]
      },
      {
       "output_type": "stream",
       "stream": "stdout",
       "text": [
        "\n",
        "  1651  |    0.003579  |    0.008020  |     0.446229  |             |  4.4s"
       ]
      },
      {
       "output_type": "stream",
       "stream": "stdout",
       "text": [
        "\n",
        "  1652  |    0.003576  |    0.008036  |     0.445043  |             |  4.4s"
       ]
      },
      {
       "output_type": "stream",
       "stream": "stdout",
       "text": [
        "\n",
        "  1653  |    0.003666  |    0.008010  |     0.457630  |             |  4.4s"
       ]
      },
      {
       "output_type": "stream",
       "stream": "stdout",
       "text": [
        "\n",
        "  1654  |    0.003567  |    0.008004  |     0.445649  |             |  4.4s"
       ]
      },
      {
       "output_type": "stream",
       "stream": "stdout",
       "text": [
        "\n",
        "  1655  |    0.003549  |    0.008009  |     0.443203  |             |  4.4s"
       ]
      },
      {
       "output_type": "stream",
       "stream": "stdout",
       "text": [
        "\n",
        "  1656  |    0.003628  |    0.007993  |     0.453938  |             |  4.4s"
       ]
      },
      {
       "output_type": "stream",
       "stream": "stdout",
       "text": [
        "\n",
        "  1657  |    0.003564  |    0.008026  |     0.444114  |             |  4.4s"
       ]
      },
      {
       "output_type": "stream",
       "stream": "stdout",
       "text": [
        "\n",
        "  1658  |    0.003583  |    0.008002  |     0.447832  |             |  4.4s"
       ]
      },
      {
       "output_type": "stream",
       "stream": "stdout",
       "text": [
        "\n",
        "  1659  |    0.003598  |  \u001b[32m  0.007980\u001b[0m  |     0.450912  |             |  4.4s"
       ]
      },
      {
       "output_type": "stream",
       "stream": "stdout",
       "text": [
        "\n",
        "  1660  |    0.003551  |    0.008003  |     0.443739  |             |  4.4s"
       ]
      },
      {
       "output_type": "stream",
       "stream": "stdout",
       "text": [
        "\n",
        "  1661  |    0.003547  |    0.007992  |     0.443751  |             |  4.4s"
       ]
      },
      {
       "output_type": "stream",
       "stream": "stdout",
       "text": [
        "\n",
        "  1662  |    0.003568  |    0.007999  |     0.446013  |             |  4.4s"
       ]
      },
      {
       "output_type": "stream",
       "stream": "stdout",
       "text": [
        "\n",
        "  1663  |    0.003517  |    0.008009  |     0.439167  |             |  4.4s"
       ]
      },
      {
       "output_type": "stream",
       "stream": "stdout",
       "text": [
        "\n",
        "  1664  |  \u001b[94m  0.003491\u001b[0m  |    0.008023  |     0.435087  |             |  4.4s"
       ]
      },
      {
       "output_type": "stream",
       "stream": "stdout",
       "text": [
        "\n",
        "  1665  |    0.003595  |    0.008025  |     0.447915  |             |  4.4s"
       ]
      },
      {
       "output_type": "stream",
       "stream": "stdout",
       "text": [
        "\n",
        "  1666  |    0.003511  |    0.008014  |     0.438154  |             |  4.4s"
       ]
      },
      {
       "output_type": "stream",
       "stream": "stdout",
       "text": [
        "\n",
        "  1667  |    0.003588  |    0.008011  |     0.447871  |             |  4.4s"
       ]
      },
      {
       "output_type": "stream",
       "stream": "stdout",
       "text": [
        "\n",
        "  1668  |    0.003553  |    0.008007  |     0.443786  |             |  4.4s"
       ]
      },
      {
       "output_type": "stream",
       "stream": "stdout",
       "text": [
        "\n",
        "  1669  |    0.003510  |    0.008002  |     0.438670  |             |  4.4s"
       ]
      },
      {
       "output_type": "stream",
       "stream": "stdout",
       "text": [
        "\n",
        "  1670  |    0.003532  |    0.008004  |     0.441241  |             |  4.4s"
       ]
      },
      {
       "output_type": "stream",
       "stream": "stdout",
       "text": [
        "\n",
        "  1671  |    0.003554  |    0.008012  |     0.443553  |             |  4.4s"
       ]
      },
      {
       "output_type": "stream",
       "stream": "stdout",
       "text": [
        "\n",
        "  1672  |    0.003511  |    0.008005  |     0.438541  |             |  4.4s"
       ]
      },
      {
       "output_type": "stream",
       "stream": "stdout",
       "text": [
        "\n",
        "  1673  |    0.003493  |    0.008000  |     0.436597  |             |  4.4s"
       ]
      },
      {
       "output_type": "stream",
       "stream": "stdout",
       "text": [
        "\n",
        "  1674  |    0.003520  |    0.007992  |     0.440525  |             |  4.4s"
       ]
      },
      {
       "output_type": "stream",
       "stream": "stdout",
       "text": [
        "\n",
        "  1675  |    0.003538  |    0.007999  |     0.442368  |             |  4.4s"
       ]
      },
      {
       "output_type": "stream",
       "stream": "stdout",
       "text": [
        "\n",
        "  1676  |    0.003530  |    0.008008  |     0.440822  |             |  4.4s"
       ]
      },
      {
       "output_type": "stream",
       "stream": "stdout",
       "text": [
        "\n",
        "  1677  |    0.003497  |    0.007984  |     0.437986  |             |  4.4s"
       ]
      },
      {
       "output_type": "stream",
       "stream": "stdout",
       "text": [
        "\n",
        "  1678  |  \u001b[94m  0.003482\u001b[0m  |    0.007989  |     0.435881  |             |  4.4s"
       ]
      },
      {
       "output_type": "stream",
       "stream": "stdout",
       "text": [
        "\n",
        "  1679  |    0.003518  |    0.008002  |     0.439601  |             |  4.4s"
       ]
      },
      {
       "output_type": "stream",
       "stream": "stdout",
       "text": [
        "\n",
        "  1680  |    0.003511  |    0.008010  |     0.438313  |             |  4.4s"
       ]
      },
      {
       "output_type": "stream",
       "stream": "stdout",
       "text": [
        "\n",
        "  1681  |  \u001b[94m  0.003465\u001b[0m  |    0.007996  |     0.433373  |             |  4.4s"
       ]
      },
      {
       "output_type": "stream",
       "stream": "stdout",
       "text": [
        "\n",
        "  1682  |    0.003506  |    0.008011  |     0.437648  |             |  4.4s"
       ]
      },
      {
       "output_type": "stream",
       "stream": "stdout",
       "text": [
        "\n",
        "  1683  |  \u001b[94m  0.003461\u001b[0m  |    0.008005  |     0.432316  |             |  4.4s"
       ]
      },
      {
       "output_type": "stream",
       "stream": "stdout",
       "text": [
        "\n",
        "  1684  |  \u001b[94m  0.003396\u001b[0m  |    0.007996  |     0.424737  |             |  4.4s"
       ]
      },
      {
       "output_type": "stream",
       "stream": "stdout",
       "text": [
        "\n",
        "  1685  |    0.003426  |    0.008008  |     0.427787  |             |  4.4s"
       ]
      },
      {
       "output_type": "stream",
       "stream": "stdout",
       "text": [
        "\n",
        "  1686  |    0.003489  |    0.008005  |     0.435835  |             |  4.4s"
       ]
      },
      {
       "output_type": "stream",
       "stream": "stdout",
       "text": [
        "\n",
        "  1687  |    0.003451  |    0.008021  |     0.430184  |             |  4.4s"
       ]
      },
      {
       "output_type": "stream",
       "stream": "stdout",
       "text": [
        "\n",
        "  1688  |    0.003474  |    0.008017  |     0.433279  |             |  4.4s"
       ]
      },
      {
       "output_type": "stream",
       "stream": "stdout",
       "text": [
        "\n",
        "  1689  |    0.003554  |    0.008004  |     0.444013  |             |  4.4s"
       ]
      },
      {
       "output_type": "stream",
       "stream": "stdout",
       "text": [
        "\n",
        "  1690  |    0.003496  |    0.008015  |     0.436164  |             |  4.4s"
       ]
      },
      {
       "output_type": "stream",
       "stream": "stdout",
       "text": [
        "\n",
        "  1691  |    0.003509  |    0.007994  |     0.438934  |             |  4.4s"
       ]
      },
      {
       "output_type": "stream",
       "stream": "stdout",
       "text": [
        "\n",
        "  1692  |    0.003456  |    0.007999  |     0.432101  |             |  4.4s"
       ]
      },
      {
       "output_type": "stream",
       "stream": "stdout",
       "text": [
        "\n",
        "  1693  |    0.003435  |    0.007993  |     0.429751  |             |  4.4s"
       ]
      },
      {
       "output_type": "stream",
       "stream": "stdout",
       "text": [
        "\n",
        "  1694  |    0.003446  |    0.007998  |     0.430874  |             |  4.4s"
       ]
      },
      {
       "output_type": "stream",
       "stream": "stdout",
       "text": [
        "\n",
        "  1695  |    0.003401  |    0.007999  |     0.425171  |             |  4.4s"
       ]
      },
      {
       "output_type": "stream",
       "stream": "stdout",
       "text": [
        "\n",
        "  1696  |    0.003398  |    0.008010  |     0.424158  |             |  4.4s"
       ]
      },
      {
       "output_type": "stream",
       "stream": "stdout",
       "text": [
        "\n",
        "  1697  |    0.003447  |    0.007987  |     0.431514  |             |  4.4s"
       ]
      },
      {
       "output_type": "stream",
       "stream": "stdout",
       "text": [
        "\n",
        "  1698  |  \u001b[94m  0.003364\u001b[0m  |    0.008011  |     0.419897  |             |  4.4s"
       ]
      },
      {
       "output_type": "stream",
       "stream": "stdout",
       "text": [
        "\n",
        "  1699  |    0.003549  |    0.008003  |     0.443388  |             |  4.4s"
       ]
      },
      {
       "output_type": "stream",
       "stream": "stdout",
       "text": [
        "\n",
        "  1700  |    0.003447  |    0.007995  |     0.431116  |             |  4.4s"
       ]
      },
      {
       "output_type": "stream",
       "stream": "stdout",
       "text": [
        "\n",
        "  1701  |    0.003449  |    0.007991  |     0.431568  |             |  4.4s"
       ]
      },
      {
       "output_type": "stream",
       "stream": "stdout",
       "text": [
        "\n",
        "  1702  |    0.003413  |    0.007995  |     0.426860  |             |  4.4s"
       ]
      },
      {
       "output_type": "stream",
       "stream": "stdout",
       "text": [
        "\n",
        "  1703  |    0.003453  |    0.007992  |     0.432079  |             |  4.4s"
       ]
      },
      {
       "output_type": "stream",
       "stream": "stdout",
       "text": [
        "\n",
        "  1704  |    0.003398  |    0.007995  |     0.424978  |             |  4.4s"
       ]
      },
      {
       "output_type": "stream",
       "stream": "stdout",
       "text": [
        "\n",
        "  1705  |    0.003449  |    0.007995  |     0.431395  |             |  4.4s"
       ]
      },
      {
       "output_type": "stream",
       "stream": "stdout",
       "text": [
        "\n",
        "  1706  |    0.003419  |    0.007980  |     0.428386  |             |  4.4s"
       ]
      },
      {
       "output_type": "stream",
       "stream": "stdout",
       "text": [
        "\n",
        "  1707  |    0.003384  |    0.007996  |     0.423265  |             |  4.4s"
       ]
      },
      {
       "output_type": "stream",
       "stream": "stdout",
       "text": [
        "\n",
        "  1708  |    0.003459  |    0.007983  |     0.433250  |             |  4.4s"
       ]
      },
      {
       "output_type": "stream",
       "stream": "stdout",
       "text": [
        "\n",
        "  1709  |    0.003426  |    0.007984  |     0.429092  |             |  4.4s"
       ]
      },
      {
       "output_type": "stream",
       "stream": "stdout",
       "text": [
        "\n",
        "  1710  |    0.003425  |    0.007986  |     0.428902  |             |  4.4s"
       ]
      },
      {
       "output_type": "stream",
       "stream": "stdout",
       "text": [
        "\n",
        "  1711  |    0.003433  |    0.007983  |     0.430008  |             |  4.4s"
       ]
      },
      {
       "output_type": "stream",
       "stream": "stdout",
       "text": [
        "\n",
        "  1712  |    0.003461  |  \u001b[32m  0.007965\u001b[0m  |     0.434518  |             |  4.4s"
       ]
      },
      {
       "output_type": "stream",
       "stream": "stdout",
       "text": [
        "\n",
        "  1713  |    0.003377  |    0.007991  |     0.422550  |             |  4.4s"
       ]
      },
      {
       "output_type": "stream",
       "stream": "stdout",
       "text": [
        "\n",
        "  1714  |    0.003406  |    0.007985  |     0.426576  |             |  4.4s"
       ]
      },
      {
       "output_type": "stream",
       "stream": "stdout",
       "text": [
        "\n",
        "  1715  |    0.003440  |    0.007991  |     0.430478  |             |  4.4s"
       ]
      },
      {
       "output_type": "stream",
       "stream": "stdout",
       "text": [
        "\n",
        "  1716  |    0.003456  |    0.008003  |     0.431799  |             |  4.4s"
       ]
      },
      {
       "output_type": "stream",
       "stream": "stdout",
       "text": [
        "\n",
        "  1717  |  \u001b[94m  0.003362\u001b[0m  |    0.008007  |     0.419827  |             |  4.4s"
       ]
      },
      {
       "output_type": "stream",
       "stream": "stdout",
       "text": [
        "\n",
        "  1718  |    0.003464  |    0.008011  |     0.432421  |             |  4.4s"
       ]
      },
      {
       "output_type": "stream",
       "stream": "stdout",
       "text": [
        "\n",
        "  1719  |    0.003376  |    0.007990  |     0.422456  |             |  4.4s"
       ]
      },
      {
       "output_type": "stream",
       "stream": "stdout",
       "text": [
        "\n",
        "  1720  |  \u001b[94m  0.003358\u001b[0m  |    0.007982  |     0.420632  |             |  4.4s"
       ]
      },
      {
       "output_type": "stream",
       "stream": "stdout",
       "text": [
        "\n",
        "  1721  |    0.003377  |    0.007988  |     0.422818  |             |  4.4s"
       ]
      },
      {
       "output_type": "stream",
       "stream": "stdout",
       "text": [
        "\n",
        "  1722  |    0.003376  |    0.007986  |     0.422743  |             |  4.4s"
       ]
      },
      {
       "output_type": "stream",
       "stream": "stdout",
       "text": [
        "\n",
        "  1723  |  \u001b[94m  0.003325\u001b[0m  |    0.007967  |     0.417286  |             |  4.4s"
       ]
      },
      {
       "output_type": "stream",
       "stream": "stdout",
       "text": [
        "\n",
        "  1724  |    0.003424  |    0.007981  |     0.428970  |             |  4.4s"
       ]
      },
      {
       "output_type": "stream",
       "stream": "stdout",
       "text": [
        "\n",
        "  1725  |    0.003418  |    0.007974  |     0.428616  |             |  4.4s"
       ]
      },
      {
       "output_type": "stream",
       "stream": "stdout",
       "text": [
        "\n",
        "  1726  |    0.003340  |  \u001b[32m  0.007964\u001b[0m  |     0.419402  |             |  4.4s"
       ]
      },
      {
       "output_type": "stream",
       "stream": "stdout",
       "text": [
        "\n",
        "  1727  |    0.003368  |    0.007990  |     0.421474  |             |  4.4s"
       ]
      },
      {
       "output_type": "stream",
       "stream": "stdout",
       "text": [
        "\n",
        "  1728  |    0.003335  |    0.007985  |     0.417651  |             |  4.4s"
       ]
      },
      {
       "output_type": "stream",
       "stream": "stdout",
       "text": [
        "\n",
        "  1729  |    0.003382  |    0.008000  |     0.422796  |             |  4.4s"
       ]
      },
      {
       "output_type": "stream",
       "stream": "stdout",
       "text": [
        "\n",
        "  1730  |    0.003355  |    0.007991  |     0.419855  |             |  4.4s"
       ]
      },
      {
       "output_type": "stream",
       "stream": "stdout",
       "text": [
        "\n",
        "  1731  |    0.003370  |    0.007996  |     0.421494  |             |  4.4s"
       ]
      },
      {
       "output_type": "stream",
       "stream": "stdout",
       "text": [
        "\n",
        "  1732  |  \u001b[94m  0.003307\u001b[0m  |    0.008021  |     0.412340  |             |  4.4s"
       ]
      },
      {
       "output_type": "stream",
       "stream": "stdout",
       "text": [
        "\n",
        "  1733  |    0.003381  |    0.007972  |     0.424146  |             |  4.4s"
       ]
      },
      {
       "output_type": "stream",
       "stream": "stdout",
       "text": [
        "\n",
        "  1734  |    0.003437  |    0.007988  |     0.430329  |             |  4.4s"
       ]
      },
      {
       "output_type": "stream",
       "stream": "stdout",
       "text": [
        "\n",
        "  1735  |    0.003378  |    0.007994  |     0.422616  |             |  4.4s"
       ]
      },
      {
       "output_type": "stream",
       "stream": "stdout",
       "text": [
        "\n",
        "  1736  |    0.003409  |    0.008002  |     0.426040  |             |  4.4s"
       ]
      },
      {
       "output_type": "stream",
       "stream": "stdout",
       "text": [
        "\n",
        "  1737  |    0.003312  |    0.007972  |     0.415428  |             |  4.4s"
       ]
      },
      {
       "output_type": "stream",
       "stream": "stdout",
       "text": [
        "\n",
        "  1738  |    0.003349  |    0.007981  |     0.419683  |             |  4.4s"
       ]
      },
      {
       "output_type": "stream",
       "stream": "stdout",
       "text": [
        "\n",
        "  1739  |    0.003324  |    0.007985  |     0.416236  |             |  4.4s"
       ]
      },
      {
       "output_type": "stream",
       "stream": "stdout",
       "text": [
        "\n",
        "  1740  |    0.003316  |    0.008004  |     0.414377  |             |  4.4s"
       ]
      },
      {
       "output_type": "stream",
       "stream": "stdout",
       "text": [
        "\n",
        "  1741  |    0.003367  |    0.007997  |     0.420966  |             |  4.4s"
       ]
      },
      {
       "output_type": "stream",
       "stream": "stdout",
       "text": [
        "\n",
        "  1742  |    0.003392  |    0.007997  |     0.424132  |             |  4.4s"
       ]
      },
      {
       "output_type": "stream",
       "stream": "stdout",
       "text": [
        "\n",
        "  1743  |    0.003326  |    0.008001  |     0.415743  |             |  4.4s"
       ]
      },
      {
       "output_type": "stream",
       "stream": "stdout",
       "text": [
        "\n",
        "  1744  |    0.003308  |    0.008006  |     0.413250  |             |  4.4s"
       ]
      },
      {
       "output_type": "stream",
       "stream": "stdout",
       "text": [
        "\n",
        "  1745  |    0.003343  |    0.008002  |     0.417744  |             |  4.4s"
       ]
      },
      {
       "output_type": "stream",
       "stream": "stdout",
       "text": [
        "\n",
        "  1746  |  \u001b[94m  0.003306\u001b[0m  |    0.008007  |     0.412960  |             |  4.4s"
       ]
      },
      {
       "output_type": "stream",
       "stream": "stdout",
       "text": [
        "\n",
        "  1747  |    0.003318  |    0.008003  |     0.414621  |             |  4.4s"
       ]
      },
      {
       "output_type": "stream",
       "stream": "stdout",
       "text": [
        "\n",
        "  1748  |    0.003360  |    0.008005  |     0.419748  |             |  4.4s"
       ]
      },
      {
       "output_type": "stream",
       "stream": "stdout",
       "text": [
        "\n",
        "  1749  |    0.003322  |    0.008004  |     0.414991  |             |  4.4s"
       ]
      },
      {
       "output_type": "stream",
       "stream": "stdout",
       "text": [
        "\n",
        "  1750  |    0.003336  |    0.007996  |     0.417169  |             |  4.4s"
       ]
      },
      {
       "output_type": "stream",
       "stream": "stdout",
       "text": [
        "\n",
        "  1751  |    0.003312  |    0.007974  |     0.415326  |             |  4.4s"
       ]
      },
      {
       "output_type": "stream",
       "stream": "stdout",
       "text": [
        "\n",
        "  1752  |    0.003333  |    0.007989  |     0.417238  |             |  4.4s"
       ]
      },
      {
       "output_type": "stream",
       "stream": "stdout",
       "text": [
        "\n",
        "  1753  |    0.003309  |    0.007997  |     0.413758  |             |  4.4s"
       ]
      },
      {
       "output_type": "stream",
       "stream": "stdout",
       "text": [
        "\n",
        "  1754  |    0.003347  |    0.007989  |     0.418919  |             |  4.4s"
       ]
      },
      {
       "output_type": "stream",
       "stream": "stdout",
       "text": [
        "\n",
        "  1755  |    0.003313  |    0.008005  |     0.413820  |             |  4.4s"
       ]
      },
      {
       "output_type": "stream",
       "stream": "stdout",
       "text": [
        "\n",
        "  1756  |  \u001b[94m  0.003237\u001b[0m  |    0.008003  |     0.404447  |             |  4.4s"
       ]
      },
      {
       "output_type": "stream",
       "stream": "stdout",
       "text": [
        "\n",
        "  1757  |    0.003300  |    0.008003  |     0.412309  |             |  4.4s"
       ]
      },
      {
       "output_type": "stream",
       "stream": "stdout",
       "text": [
        "\n",
        "  1758  |    0.003366  |    0.007979  |     0.421880  |             |  4.4s"
       ]
      },
      {
       "output_type": "stream",
       "stream": "stdout",
       "text": [
        "\n",
        "  1759  |    0.003282  |    0.007985  |     0.410962  |             |  4.4s"
       ]
      },
      {
       "output_type": "stream",
       "stream": "stdout",
       "text": [
        "\n",
        "  1760  |    0.003295  |    0.007988  |     0.412433  |             |  4.4s"
       ]
      },
      {
       "output_type": "stream",
       "stream": "stdout",
       "text": [
        "\n",
        "  1761  |    0.003267  |    0.007992  |     0.408732  |             |  4.4s"
       ]
      },
      {
       "output_type": "stream",
       "stream": "stdout",
       "text": [
        "\n",
        "  1762  |    0.003293  |    0.007979  |     0.412762  |             |  4.4s"
       ]
      },
      {
       "output_type": "stream",
       "stream": "stdout",
       "text": [
        "\n",
        "  1763  |    0.003356  |    0.007971  |     0.420996  |             |  4.4s"
       ]
      },
      {
       "output_type": "stream",
       "stream": "stdout",
       "text": [
        "\n",
        "  1764  |    0.003346  |    0.007976  |     0.419466  |             |  4.4s"
       ]
      },
      {
       "output_type": "stream",
       "stream": "stdout",
       "text": [
        "\n",
        "  1765  |    0.003313  |    0.007971  |     0.415624  |             |  4.4s"
       ]
      },
      {
       "output_type": "stream",
       "stream": "stdout",
       "text": [
        "\n",
        "  1766  |  \u001b[94m  0.003214\u001b[0m  |    0.007989  |     0.402362  |             |  4.4s"
       ]
      },
      {
       "output_type": "stream",
       "stream": "stdout",
       "text": [
        "\n",
        "  1767  |    0.003383  |    0.007979  |     0.423952  |             |  4.4s"
       ]
      },
      {
       "output_type": "stream",
       "stream": "stdout",
       "text": [
        "\n",
        "  1768  |  \u001b[94m  0.003190\u001b[0m  |    0.007980  |     0.399768  |             |  4.4s"
       ]
      },
      {
       "output_type": "stream",
       "stream": "stdout",
       "text": [
        "\n",
        "  1769  |    0.003268  |    0.007972  |     0.409888  |             |  4.4s"
       ]
      },
      {
       "output_type": "stream",
       "stream": "stdout",
       "text": [
        "\n",
        "  1770  |    0.003333  |    0.007995  |     0.416907  |             |  4.4s"
       ]
      },
      {
       "output_type": "stream",
       "stream": "stdout",
       "text": [
        "\n",
        "  1771  |    0.003251  |    0.007997  |     0.406591  |             |  4.4s"
       ]
      },
      {
       "output_type": "stream",
       "stream": "stdout",
       "text": [
        "\n",
        "  1772  |    0.003357  |    0.008003  |     0.419533  |             |  4.4s"
       ]
      },
      {
       "output_type": "stream",
       "stream": "stdout",
       "text": [
        "\n",
        "  1773  |    0.003286  |    0.007993  |     0.411158  |             |  4.4s"
       ]
      },
      {
       "output_type": "stream",
       "stream": "stdout",
       "text": [
        "\n",
        "  1774  |    0.003275  |    0.007991  |     0.409773  |             |  4.4s"
       ]
      },
      {
       "output_type": "stream",
       "stream": "stdout",
       "text": [
        "\n",
        "  1775  |    0.003266  |    0.007997  |     0.408465  |             |  4.4s"
       ]
      },
      {
       "output_type": "stream",
       "stream": "stdout",
       "text": [
        "\n",
        "  1776  |    0.003266  |    0.007987  |     0.408888  |             |  4.4s"
       ]
      },
      {
       "output_type": "stream",
       "stream": "stdout",
       "text": [
        "\n",
        "  1777  |    0.003299  |    0.007967  |     0.414057  |             |  4.4s"
       ]
      },
      {
       "output_type": "stream",
       "stream": "stdout",
       "text": [
        "\n",
        "  1778  |    0.003223  |    0.007978  |     0.404053  |             |  4.4s"
       ]
      },
      {
       "output_type": "stream",
       "stream": "stdout",
       "text": [
        "\n",
        "  1779  |    0.003318  |    0.007989  |     0.415286  |             |  4.4s"
       ]
      },
      {
       "output_type": "stream",
       "stream": "stdout",
       "text": [
        "\n",
        "  1780  |    0.003214  |    0.007982  |     0.402617  |             |  4.4s"
       ]
      },
      {
       "output_type": "stream",
       "stream": "stdout",
       "text": [
        "\n",
        "  1781  |    0.003262  |    0.007988  |     0.408363  |             |  4.4s"
       ]
      },
      {
       "output_type": "stream",
       "stream": "stdout",
       "text": [
        "\n",
        "  1782  |  \u001b[94m  0.003189\u001b[0m  |    0.007975  |     0.399831  |             |  4.4s"
       ]
      },
      {
       "output_type": "stream",
       "stream": "stdout",
       "text": [
        "\n",
        "  1783  |    0.003242  |    0.007971  |     0.406723  |             |  4.4s"
       ]
      },
      {
       "output_type": "stream",
       "stream": "stdout",
       "text": [
        "\n",
        "  1784  |    0.003205  |    0.007971  |     0.402100  |             |  4.4s"
       ]
      },
      {
       "output_type": "stream",
       "stream": "stdout",
       "text": [
        "\n",
        "  1785  |    0.003228  |  \u001b[32m  0.007961\u001b[0m  |     0.405511  |             |  4.4s"
       ]
      },
      {
       "output_type": "stream",
       "stream": "stdout",
       "text": [
        "\n",
        "  1786  |    0.003232  |    0.007970  |     0.405530  |             |  4.4s"
       ]
      },
      {
       "output_type": "stream",
       "stream": "stdout",
       "text": [
        "\n",
        "  1787  |    0.003207  |    0.007978  |     0.402033  |             |  4.4s"
       ]
      },
      {
       "output_type": "stream",
       "stream": "stdout",
       "text": [
        "\n",
        "  1788  |    0.003202  |  \u001b[32m  0.007960\u001b[0m  |     0.402199  |             |  4.4s"
       ]
      },
      {
       "output_type": "stream",
       "stream": "stdout",
       "text": [
        "\n",
        "  1789  |    0.003283  |  \u001b[32m  0.007956\u001b[0m  |     0.412645  |             |  4.4s"
       ]
      },
      {
       "output_type": "stream",
       "stream": "stdout",
       "text": [
        "\n",
        "  1790  |    0.003237  |    0.007990  |     0.405133  |             |  4.4s"
       ]
      },
      {
       "output_type": "stream",
       "stream": "stdout",
       "text": [
        "\n",
        "  1791  |    0.003226  |    0.007984  |     0.404054  |             |  4.4s"
       ]
      },
      {
       "output_type": "stream",
       "stream": "stdout",
       "text": [
        "\n",
        "  1792  |    0.003313  |    0.007974  |     0.415404  |             |  4.4s"
       ]
      },
      {
       "output_type": "stream",
       "stream": "stdout",
       "text": [
        "\n",
        "  1793  |  \u001b[94m  0.003097\u001b[0m  |    0.007983  |     0.387957  |             |  4.4s"
       ]
      },
      {
       "output_type": "stream",
       "stream": "stdout",
       "text": [
        "\n",
        "  1794  |    0.003220  |    0.007993  |     0.402809  |             |  4.4s"
       ]
      },
      {
       "output_type": "stream",
       "stream": "stdout",
       "text": [
        "\n",
        "  1795  |    0.003193  |    0.007971  |     0.400603  |             |  4.4s"
       ]
      },
      {
       "output_type": "stream",
       "stream": "stdout",
       "text": [
        "\n",
        "  1796  |    0.003227  |    0.007980  |     0.404350  |             |  4.4s"
       ]
      },
      {
       "output_type": "stream",
       "stream": "stdout",
       "text": [
        "\n",
        "  1797  |    0.003198  |    0.007974  |     0.400990  |             |  4.4s"
       ]
      },
      {
       "output_type": "stream",
       "stream": "stdout",
       "text": [
        "\n",
        "  1798  |    0.003199  |    0.007986  |     0.400593  |             |  4.4s"
       ]
      },
      {
       "output_type": "stream",
       "stream": "stdout",
       "text": [
        "\n",
        "  1799  |    0.003167  |    0.007988  |     0.396540  |             |  4.4s"
       ]
      },
      {
       "output_type": "stream",
       "stream": "stdout",
       "text": [
        "\n",
        "  1800  |    0.003218  |    0.007992  |     0.402736  |             |  4.4s"
       ]
      },
      {
       "output_type": "stream",
       "stream": "stdout",
       "text": [
        "\n",
        "  1801  |    0.003230  |    0.007986  |     0.404543  |             |  4.4s"
       ]
      },
      {
       "output_type": "stream",
       "stream": "stdout",
       "text": [
        "\n",
        "  1802  |    0.003186  |    0.007996  |     0.398444  |             |  4.4s"
       ]
      },
      {
       "output_type": "stream",
       "stream": "stdout",
       "text": [
        "\n",
        "  1803  |    0.003222  |    0.007988  |     0.403323  |             |  4.4s"
       ]
      },
      {
       "output_type": "stream",
       "stream": "stdout",
       "text": [
        "\n",
        "  1804  |    0.003212  |    0.007989  |     0.402061  |             |  4.4s"
       ]
      },
      {
       "output_type": "stream",
       "stream": "stdout",
       "text": [
        "\n",
        "  1805  |    0.003194  |    0.008015  |     0.398470  |             |  4.4s"
       ]
      },
      {
       "output_type": "stream",
       "stream": "stdout",
       "text": [
        "\n",
        "  1806  |    0.003244  |    0.007995  |     0.405719  |             |  4.4s"
       ]
      },
      {
       "output_type": "stream",
       "stream": "stdout",
       "text": [
        "\n",
        "  1807  |    0.003215  |    0.007997  |     0.402074  |             |  4.4s"
       ]
      },
      {
       "output_type": "stream",
       "stream": "stdout",
       "text": [
        "\n",
        "  1808  |    0.003157  |    0.007984  |     0.395429  |             |  4.4s"
       ]
      },
      {
       "output_type": "stream",
       "stream": "stdout",
       "text": [
        "\n",
        "  1809  |    0.003129  |    0.007970  |     0.392611  |             |  4.4s"
       ]
      },
      {
       "output_type": "stream",
       "stream": "stdout",
       "text": [
        "\n",
        "  1810  |    0.003145  |    0.007982  |     0.393975  |             |  4.4s"
       ]
      },
      {
       "output_type": "stream",
       "stream": "stdout",
       "text": [
        "\n",
        "  1811  |    0.003222  |    0.007986  |     0.403516  |             |  4.4s"
       ]
      },
      {
       "output_type": "stream",
       "stream": "stdout",
       "text": [
        "\n",
        "  1812  |    0.003238  |    0.007984  |     0.405582  |             |  4.4s"
       ]
      },
      {
       "output_type": "stream",
       "stream": "stdout",
       "text": [
        "\n",
        "  1813  |    0.003243  |    0.007984  |     0.406212  |             |  4.4s"
       ]
      },
      {
       "output_type": "stream",
       "stream": "stdout",
       "text": [
        "\n",
        "  1814  |    0.003196  |    0.007975  |     0.400700  |             |  4.4s"
       ]
      },
      {
       "output_type": "stream",
       "stream": "stdout",
       "text": [
        "\n",
        "  1815  |    0.003212  |    0.007987  |     0.402110  |             |  4.4s"
       ]
      },
      {
       "output_type": "stream",
       "stream": "stdout",
       "text": [
        "\n",
        "  1816  |    0.003142  |    0.007984  |     0.393497  |             |  4.4s"
       ]
      },
      {
       "output_type": "stream",
       "stream": "stdout",
       "text": [
        "\n",
        "  1817  |    0.003124  |    0.007986  |     0.391213  |             |  4.4s"
       ]
      },
      {
       "output_type": "stream",
       "stream": "stdout",
       "text": [
        "\n",
        "  1818  |    0.003107  |    0.007987  |     0.388979  |             |  4.4s"
       ]
      },
      {
       "output_type": "stream",
       "stream": "stdout",
       "text": [
        "\n",
        "  1819  |    0.003138  |    0.008000  |     0.392226  |             |  4.4s"
       ]
      },
      {
       "output_type": "stream",
       "stream": "stdout",
       "text": [
        "\n",
        "  1820  |    0.003177  |    0.007987  |     0.397786  |             |  4.4s"
       ]
      },
      {
       "output_type": "stream",
       "stream": "stdout",
       "text": [
        "\n",
        "  1821  |    0.003166  |    0.007981  |     0.396738  |             |  4.4s"
       ]
      },
      {
       "output_type": "stream",
       "stream": "stdout",
       "text": [
        "\n",
        "  1822  |    0.003112  |    0.007982  |     0.389933  |             |  4.4s"
       ]
      },
      {
       "output_type": "stream",
       "stream": "stdout",
       "text": [
        "\n",
        "  1823  |    0.003205  |    0.007987  |     0.401269  |             |  4.4s"
       ]
      },
      {
       "output_type": "stream",
       "stream": "stdout",
       "text": [
        "\n",
        "  1824  |    0.003173  |    0.007985  |     0.397368  |             |  4.4s"
       ]
      },
      {
       "output_type": "stream",
       "stream": "stdout",
       "text": [
        "\n",
        "  1825  |    0.003167  |    0.007991  |     0.396394  |             |  4.4s"
       ]
      },
      {
       "output_type": "stream",
       "stream": "stdout",
       "text": [
        "\n",
        "  1826  |    0.003134  |    0.008004  |     0.391571  |             |  4.4s"
       ]
      },
      {
       "output_type": "stream",
       "stream": "stdout",
       "text": [
        "\n",
        "  1827  |    0.003117  |    0.008009  |     0.389180  |             |  4.4s"
       ]
      },
      {
       "output_type": "stream",
       "stream": "stdout",
       "text": [
        "\n",
        "  1828  |    0.003110  |    0.007992  |     0.389125  |             |  4.4s"
       ]
      },
      {
       "output_type": "stream",
       "stream": "stdout",
       "text": [
        "\n",
        "  1829  |    0.003175  |    0.007996  |     0.397019  |             |  4.4s"
       ]
      },
      {
       "output_type": "stream",
       "stream": "stdout",
       "text": [
        "\n",
        "  1830  |    0.003137  |    0.007993  |     0.392423  |             |  4.4s"
       ]
      },
      {
       "output_type": "stream",
       "stream": "stdout",
       "text": [
        "\n",
        "  1831  |    0.003106  |    0.007991  |     0.388762  |             |  4.4s"
       ]
      },
      {
       "output_type": "stream",
       "stream": "stdout",
       "text": [
        "\n",
        "  1832  |    0.003143  |    0.008011  |     0.392331  |             |  4.4s"
       ]
      },
      {
       "output_type": "stream",
       "stream": "stdout",
       "text": [
        "\n",
        "  1833  |    0.003180  |    0.007991  |     0.398007  |             |  4.4s"
       ]
      },
      {
       "output_type": "stream",
       "stream": "stdout",
       "text": [
        "\n",
        "  1834  |  \u001b[94m  0.003091\u001b[0m  |    0.007998  |     0.386460  |             |  4.4s"
       ]
      },
      {
       "output_type": "stream",
       "stream": "stdout",
       "text": [
        "\n",
        "  1835  |    0.003118  |    0.007994  |     0.389988  |             |  4.4s"
       ]
      },
      {
       "output_type": "stream",
       "stream": "stdout",
       "text": [
        "\n",
        "  1836  |    0.003110  |    0.008008  |     0.388412  |             |  4.4s"
       ]
      },
      {
       "output_type": "stream",
       "stream": "stdout",
       "text": [
        "\n",
        "  1837  |    0.003179  |    0.007990  |     0.397912  |             |  4.4s"
       ]
      },
      {
       "output_type": "stream",
       "stream": "stdout",
       "text": [
        "\n",
        "  1838  |  \u001b[94m  0.003063\u001b[0m  |    0.007997  |     0.382970  |             |  4.4s"
       ]
      },
      {
       "output_type": "stream",
       "stream": "stdout",
       "text": [
        "\n",
        "  1839  |    0.003162  |    0.008011  |     0.394671  |             |  4.4s"
       ]
      },
      {
       "output_type": "stream",
       "stream": "stdout",
       "text": [
        "\n",
        "  1840  |    0.003141  |    0.008014  |     0.391980  |             |  4.4s"
       ]
      },
      {
       "output_type": "stream",
       "stream": "stdout",
       "text": [
        "\n",
        "  1841  |    0.003149  |    0.007997  |     0.393754  |             |  4.4s"
       ]
      },
      {
       "output_type": "stream",
       "stream": "stdout",
       "text": [
        "\n",
        "  1842  |    0.003209  |    0.007992  |     0.401547  |             |  4.4s"
       ]
      },
      {
       "output_type": "stream",
       "stream": "stdout",
       "text": [
        "\n",
        "  1843  |    0.003089  |    0.008005  |     0.385894  |             |  4.4s"
       ]
      },
      {
       "output_type": "stream",
       "stream": "stdout",
       "text": [
        "\n",
        "  1844  |    0.003065  |    0.008012  |     0.382579  |             |  4.4s"
       ]
      },
      {
       "output_type": "stream",
       "stream": "stdout",
       "text": [
        "\n",
        "  1845  |    0.003119  |    0.007980  |     0.390846  |             |  4.4s"
       ]
      },
      {
       "output_type": "stream",
       "stream": "stdout",
       "text": [
        "\n",
        "  1846  |    0.003070  |    0.007972  |     0.385026  |             |  4.4s"
       ]
      },
      {
       "output_type": "stream",
       "stream": "stdout",
       "text": [
        "\n",
        "  1847  |    0.003108  |    0.007983  |     0.389357  |             |  4.4s"
       ]
      },
      {
       "output_type": "stream",
       "stream": "stdout",
       "text": [
        "\n",
        "  1848  |    0.003075  |    0.007979  |     0.385406  |             |  4.4s"
       ]
      },
      {
       "output_type": "stream",
       "stream": "stdout",
       "text": [
        "\n",
        "  1849  |    0.003066  |    0.008003  |     0.383118  |             |  4.4s"
       ]
      },
      {
       "output_type": "stream",
       "stream": "stdout",
       "text": [
        "\n",
        "  1850  |    0.003122  |    0.008002  |     0.390095  |             |  4.4s"
       ]
      },
      {
       "output_type": "stream",
       "stream": "stdout",
       "text": [
        "\n",
        "  1851  |    0.003090  |    0.008000  |     0.386259  |             |  4.4s"
       ]
      },
      {
       "output_type": "stream",
       "stream": "stdout",
       "text": [
        "\n",
        "  1852  |    0.003113  |    0.007994  |     0.389395  |             |  4.4s"
       ]
      },
      {
       "output_type": "stream",
       "stream": "stdout",
       "text": [
        "\n",
        "  1853  |    0.003129  |    0.007988  |     0.391738  |             |  4.4s"
       ]
      },
      {
       "output_type": "stream",
       "stream": "stdout",
       "text": [
        "\n",
        "  1854  |    0.003117  |    0.007996  |     0.389802  |             |  4.4s"
       ]
      },
      {
       "output_type": "stream",
       "stream": "stdout",
       "text": [
        "\n",
        "  1855  |    0.003105  |    0.007981  |     0.389098  |             |  4.4s"
       ]
      },
      {
       "output_type": "stream",
       "stream": "stdout",
       "text": [
        "\n",
        "  1856  |    0.003100  |    0.008004  |     0.387336  |             |  4.4s"
       ]
      },
      {
       "output_type": "stream",
       "stream": "stdout",
       "text": [
        "\n",
        "  1857  |    0.003100  |    0.007985  |     0.388223  |             |  4.4s"
       ]
      },
      {
       "output_type": "stream",
       "stream": "stdout",
       "text": [
        "\n",
        "  1858  |  \u001b[94m  0.003044\u001b[0m  |    0.007981  |     0.381437  |             |  4.4s"
       ]
      },
      {
       "output_type": "stream",
       "stream": "stdout",
       "text": [
        "\n",
        "  1859  |  \u001b[94m  0.003039\u001b[0m  |    0.007983  |     0.380763  |             |  4.4s"
       ]
      },
      {
       "output_type": "stream",
       "stream": "stdout",
       "text": [
        "\n",
        "  1860  |    0.003048  |    0.007993  |     0.381406  |             |  4.4s"
       ]
      },
      {
       "output_type": "stream",
       "stream": "stdout",
       "text": [
        "\n",
        "  1861  |    0.003103  |    0.007994  |     0.388152  |             |  4.4s"
       ]
      },
      {
       "output_type": "stream",
       "stream": "stdout",
       "text": [
        "\n",
        "  1862  |    0.003051  |    0.007989  |     0.381849  |             |  4.4s"
       ]
      },
      {
       "output_type": "stream",
       "stream": "stdout",
       "text": [
        "\n",
        "  1863  |  \u001b[94m  0.003014\u001b[0m  |    0.008005  |     0.376551  |             |  4.4s"
       ]
      },
      {
       "output_type": "stream",
       "stream": "stdout",
       "text": [
        "\n",
        "  1864  |    0.003090  |    0.008011  |     0.385757  |             |  4.4s"
       ]
      },
      {
       "output_type": "stream",
       "stream": "stdout",
       "text": [
        "\n",
        "  1865  |    0.003070  |    0.008011  |     0.383268  |             |  4.4s"
       ]
      },
      {
       "output_type": "stream",
       "stream": "stdout",
       "text": [
        "\n",
        "  1866  |    0.003125  |    0.008017  |     0.389781  |             |  4.4s"
       ]
      },
      {
       "output_type": "stream",
       "stream": "stdout",
       "text": [
        "\n",
        "  1867  |    0.003132  |    0.007994  |     0.391840  |             |  4.4s"
       ]
      },
      {
       "output_type": "stream",
       "stream": "stdout",
       "text": [
        "\n",
        "  1868  |    0.003049  |    0.008006  |     0.380865  |             |  4.4s"
       ]
      },
      {
       "output_type": "stream",
       "stream": "stdout",
       "text": [
        "\n",
        "  1869  |    0.003104  |    0.008003  |     0.387864  |             |  4.4s"
       ]
      },
      {
       "output_type": "stream",
       "stream": "stdout",
       "text": [
        "\n",
        "  1870  |  \u001b[94m  0.002996\u001b[0m  |    0.008001  |     0.374491  |             |  4.4s"
       ]
      },
      {
       "output_type": "stream",
       "stream": "stdout",
       "text": [
        "\n",
        "  1871  |  \u001b[94m  0.002993\u001b[0m  |    0.008006  |     0.373907  |             |  4.4s"
       ]
      },
      {
       "output_type": "stream",
       "stream": "stdout",
       "text": [
        "\n",
        "  1872  |    0.003109  |    0.008005  |     0.388449  |             |  4.4s"
       ]
      },
      {
       "output_type": "stream",
       "stream": "stdout",
       "text": [
        "\n",
        "  1873  |    0.003008  |    0.007993  |     0.376269  |             |  4.4s"
       ]
      },
      {
       "output_type": "stream",
       "stream": "stdout",
       "text": [
        "\n",
        "  1874  |    0.003043  |    0.007991  |     0.380799  |             |  4.4s"
       ]
      },
      {
       "output_type": "stream",
       "stream": "stdout",
       "text": [
        "\n",
        "  1875  |    0.003081  |    0.007979  |     0.386202  |             |  4.4s"
       ]
      },
      {
       "output_type": "stream",
       "stream": "stdout",
       "text": [
        "\n",
        "  1876  |    0.003092  |    0.007968  |     0.388041  |             |  4.4s"
       ]
      },
      {
       "output_type": "stream",
       "stream": "stdout",
       "text": [
        "\n",
        "  1877  |    0.003023  |    0.007984  |     0.378664  |             |  4.4s"
       ]
      },
      {
       "output_type": "stream",
       "stream": "stdout",
       "text": [
        "\n",
        "  1878  |    0.003020  |    0.007994  |     0.377827  |             |  4.4s"
       ]
      },
      {
       "output_type": "stream",
       "stream": "stdout",
       "text": [
        "\n",
        "  1879  |  \u001b[94m  0.002983\u001b[0m  |    0.007991  |     0.373296  |             |  4.4s"
       ]
      },
      {
       "output_type": "stream",
       "stream": "stdout",
       "text": [
        "\n",
        "  1880  |    0.003085  |    0.007981  |     0.386537  |             |  4.4s"
       ]
      },
      {
       "output_type": "stream",
       "stream": "stdout",
       "text": [
        "\n",
        "  1881  |    0.002989  |    0.007980  |     0.374578  |             |  4.4s"
       ]
      },
      {
       "output_type": "stream",
       "stream": "stdout",
       "text": [
        "\n",
        "  1882  |    0.003056  |    0.007979  |     0.382971  |             |  4.4s"
       ]
      },
      {
       "output_type": "stream",
       "stream": "stdout",
       "text": [
        "\n",
        "  1883  |    0.003035  |    0.007958  |     0.381369  |             |  4.4s"
       ]
      },
      {
       "output_type": "stream",
       "stream": "stdout",
       "text": [
        "\n",
        "  1884  |    0.003015  |    0.007965  |     0.378594  |             |  4.4s"
       ]
      },
      {
       "output_type": "stream",
       "stream": "stdout",
       "text": [
        "\n",
        "  1885  |  \u001b[94m  0.002924\u001b[0m  |    0.007976  |     0.366570  |             |  4.4s"
       ]
      },
      {
       "output_type": "stream",
       "stream": "stdout",
       "text": [
        "\n",
        "  1886  |    0.003007  |    0.007973  |     0.377097  |             |  4.4s"
       ]
      },
      {
       "output_type": "stream",
       "stream": "stdout",
       "text": [
        "\n",
        "  1887  |    0.002964  |    0.007983  |     0.371271  |             |  4.4s"
       ]
      },
      {
       "output_type": "stream",
       "stream": "stdout",
       "text": [
        "\n",
        "  1888  |    0.003020  |    0.007977  |     0.378550  |             |  4.4s"
       ]
      },
      {
       "output_type": "stream",
       "stream": "stdout",
       "text": [
        "\n",
        "  1889  |    0.002927  |    0.007988  |     0.366486  |             |  4.4s"
       ]
      },
      {
       "output_type": "stream",
       "stream": "stdout",
       "text": [
        "\n",
        "  1890  |    0.003021  |    0.007984  |     0.378390  |             |  4.4s"
       ]
      },
      {
       "output_type": "stream",
       "stream": "stdout",
       "text": [
        "\n",
        "  1891  |    0.003049  |    0.007987  |     0.381753  |             |  4.4s"
       ]
      },
      {
       "output_type": "stream",
       "stream": "stdout",
       "text": [
        "\n",
        "  1892  |    0.003033  |    0.007989  |     0.379672  |             |  4.4s"
       ]
      },
      {
       "output_type": "stream",
       "stream": "stdout",
       "text": [
        "\n",
        "  1893  |    0.003009  |    0.008005  |     0.375930  |             |  4.4s"
       ]
      },
      {
       "output_type": "stream",
       "stream": "stdout",
       "text": [
        "\n",
        "  1894  |    0.002925  |    0.007998  |     0.365719  |             |  4.4s"
       ]
      },
      {
       "output_type": "stream",
       "stream": "stdout",
       "text": [
        "\n",
        "  1895  |    0.003011  |    0.007988  |     0.376927  |             |  4.4s"
       ]
      },
      {
       "output_type": "stream",
       "stream": "stdout",
       "text": [
        "\n",
        "  1896  |    0.002988  |    0.008000  |     0.373504  |             |  4.4s"
       ]
      },
      {
       "output_type": "stream",
       "stream": "stdout",
       "text": [
        "\n",
        "  1897  |    0.002992  |    0.007998  |     0.374174  |             |  4.4s"
       ]
      },
      {
       "output_type": "stream",
       "stream": "stdout",
       "text": [
        "\n",
        "  1898  |    0.003016  |    0.007989  |     0.377585  |             |  4.4s"
       ]
      },
      {
       "output_type": "stream",
       "stream": "stdout",
       "text": [
        "\n",
        "  1899  |    0.003003  |    0.008010  |     0.374947  |             |  4.4s"
       ]
      },
      {
       "output_type": "stream",
       "stream": "stdout",
       "text": [
        "\n",
        "  1900  |    0.003017  |    0.008000  |     0.377196  |             |  4.4s"
       ]
      },
      {
       "output_type": "stream",
       "stream": "stdout",
       "text": [
        "\n",
        "  1901  |  \u001b[94m  0.002889\u001b[0m  |    0.007992  |     0.361433  |             |  4.4s"
       ]
      },
      {
       "output_type": "stream",
       "stream": "stdout",
       "text": [
        "\n",
        "  1902  |    0.003014  |    0.007979  |     0.377674  |             |  4.4s"
       ]
      },
      {
       "output_type": "stream",
       "stream": "stdout",
       "text": [
        "\n",
        "  1903  |    0.002995  |    0.007995  |     0.374632  |             |  4.4s"
       ]
      },
      {
       "output_type": "stream",
       "stream": "stdout",
       "text": [
        "\n",
        "  1904  |    0.003016  |    0.007982  |     0.377844  |             |  4.4s"
       ]
      },
      {
       "output_type": "stream",
       "stream": "stdout",
       "text": [
        "\n",
        "  1905  |    0.003019  |    0.007976  |     0.378471  |             |  4.4s"
       ]
      },
      {
       "output_type": "stream",
       "stream": "stdout",
       "text": [
        "\n",
        "  1906  |    0.003044  |    0.007974  |     0.381794  |             |  4.4s"
       ]
      },
      {
       "output_type": "stream",
       "stream": "stdout",
       "text": [
        "\n",
        "  1907  |    0.002985  |    0.007993  |     0.373473  |             |  4.4s"
       ]
      },
      {
       "output_type": "stream",
       "stream": "stdout",
       "text": [
        "\n",
        "  1908  |    0.003104  |    0.007957  |     0.390060  |             |  4.4s"
       ]
      },
      {
       "output_type": "stream",
       "stream": "stdout",
       "text": [
        "\n",
        "  1909  |    0.003006  |    0.007980  |     0.376697  |             |  4.4s"
       ]
      },
      {
       "output_type": "stream",
       "stream": "stdout",
       "text": [
        "\n",
        "  1910  |    0.002899  |    0.007985  |     0.363095  |             |  4.4s"
       ]
      },
      {
       "output_type": "stream",
       "stream": "stdout",
       "text": [
        "\n",
        "  1911  |    0.002961  |    0.007986  |     0.370815  |             |  4.4s"
       ]
      },
      {
       "output_type": "stream",
       "stream": "stdout",
       "text": [
        "\n",
        "  1912  |    0.002973  |    0.007985  |     0.372327  |             |  4.4s"
       ]
      },
      {
       "output_type": "stream",
       "stream": "stdout",
       "text": [
        "\n",
        "  1913  |    0.002966  |    0.007985  |     0.371425  |             |  4.4s"
       ]
      },
      {
       "output_type": "stream",
       "stream": "stdout",
       "text": [
        "\n",
        "  1914  |    0.002922  |    0.008017  |     0.364518  |             |  4.4s"
       ]
      },
      {
       "output_type": "stream",
       "stream": "stdout",
       "text": [
        "\n",
        "  1915  |  \u001b[94m  0.002845\u001b[0m  |    0.007994  |     0.355932  |             |  4.4s"
       ]
      },
      {
       "output_type": "stream",
       "stream": "stdout",
       "text": [
        "\n",
        "  1916  |    0.002906  |    0.007993  |     0.363593  |             |  4.4s"
       ]
      },
      {
       "output_type": "stream",
       "stream": "stdout",
       "text": [
        "\n",
        "  1917  |    0.002990  |    0.007996  |     0.373863  |             |  4.4s"
       ]
      },
      {
       "output_type": "stream",
       "stream": "stdout",
       "text": [
        "\n",
        "  1918  |    0.002898  |    0.008016  |     0.361591  |             |  4.4s"
       ]
      },
      {
       "output_type": "stream",
       "stream": "stdout",
       "text": [
        "\n",
        "  1919  |    0.002954  |    0.008017  |     0.368440  |             |  4.4s"
       ]
      },
      {
       "output_type": "stream",
       "stream": "stdout",
       "text": [
        "\n",
        "  1920  |    0.003058  |    0.008016  |     0.381557  |             |  4.4s"
       ]
      },
      {
       "output_type": "stream",
       "stream": "stdout",
       "text": [
        "\n",
        "  1921  |    0.002936  |    0.007997  |     0.367172  |             |  4.4s"
       ]
      },
      {
       "output_type": "stream",
       "stream": "stdout",
       "text": [
        "\n",
        "  1922  |    0.002921  |    0.008001  |     0.365140  |             |  4.4s"
       ]
      },
      {
       "output_type": "stream",
       "stream": "stdout",
       "text": [
        "\n",
        "  1923  |    0.002974  |    0.008017  |     0.370966  |             |  4.4s"
       ]
      },
      {
       "output_type": "stream",
       "stream": "stdout",
       "text": [
        "\n",
        "  1924  |    0.003011  |    0.007992  |     0.376799  |             |  4.4s"
       ]
      },
      {
       "output_type": "stream",
       "stream": "stdout",
       "text": [
        "\n",
        "  1925  |    0.002999  |    0.007997  |     0.375088  |             |  4.4s"
       ]
      },
      {
       "output_type": "stream",
       "stream": "stdout",
       "text": [
        "\n",
        "  1926  |    0.002937  |    0.007976  |     0.368246  |             |  4.4s"
       ]
      },
      {
       "output_type": "stream",
       "stream": "stdout",
       "text": [
        "\n",
        "  1927  |    0.002980  |    0.007970  |     0.373884  |             |  4.4s"
       ]
      },
      {
       "output_type": "stream",
       "stream": "stdout",
       "text": [
        "\n",
        "  1928  |    0.002947  |    0.007970  |     0.369747  |             |  4.4s"
       ]
      },
      {
       "output_type": "stream",
       "stream": "stdout",
       "text": [
        "\n",
        "  1929  |    0.002901  |    0.007986  |     0.363213  |             |  4.4s"
       ]
      },
      {
       "output_type": "stream",
       "stream": "stdout",
       "text": [
        "\n",
        "  1930  |    0.003030  |    0.007970  |     0.380222  |             |  4.4s"
       ]
      },
      {
       "output_type": "stream",
       "stream": "stdout",
       "text": [
        "\n",
        "  1931  |    0.002994  |    0.007984  |     0.375001  |             |  4.4s"
       ]
      },
      {
       "output_type": "stream",
       "stream": "stdout",
       "text": [
        "\n",
        "  1932  |    0.002996  |    0.007993  |     0.374871  |             |  4.4s"
       ]
      },
      {
       "output_type": "stream",
       "stream": "stdout",
       "text": [
        "\n",
        "  1933  |    0.002946  |    0.007989  |     0.368709  |             |  4.4s"
       ]
      },
      {
       "output_type": "stream",
       "stream": "stdout",
       "text": [
        "\n",
        "  1934  |    0.002915  |    0.007997  |     0.364466  |             |  4.4s"
       ]
      },
      {
       "output_type": "stream",
       "stream": "stdout",
       "text": [
        "\n",
        "  1935  |    0.002933  |    0.008005  |     0.366435  |             |  4.4s"
       ]
      },
      {
       "output_type": "stream",
       "stream": "stdout",
       "text": [
        "\n",
        "  1936  |    0.002921  |    0.008021  |     0.364168  |             |  4.4s"
       ]
      },
      {
       "output_type": "stream",
       "stream": "stdout",
       "text": [
        "\n",
        "  1937  |    0.002933  |    0.008003  |     0.366489  |             |  4.4s"
       ]
      },
      {
       "output_type": "stream",
       "stream": "stdout",
       "text": [
        "\n",
        "  1938  |    0.002974  |    0.007984  |     0.372460  |             |  4.4s"
       ]
      },
      {
       "output_type": "stream",
       "stream": "stdout",
       "text": [
        "\n",
        "  1939  |    0.002917  |    0.007996  |     0.364777  |             |  4.4s"
       ]
      },
      {
       "output_type": "stream",
       "stream": "stdout",
       "text": [
        "\n",
        "  1940  |    0.002922  |    0.007993  |     0.365536  |             |  4.4s"
       ]
      },
      {
       "output_type": "stream",
       "stream": "stdout",
       "text": [
        "\n",
        "  1941  |    0.002862  |    0.007997  |     0.357896  |             |  4.4s"
       ]
      },
      {
       "output_type": "stream",
       "stream": "stdout",
       "text": [
        "\n",
        "  1942  |    0.003024  |    0.008006  |     0.377662  |             |  4.4s"
       ]
      },
      {
       "output_type": "stream",
       "stream": "stdout",
       "text": [
        "\n",
        "  1943  |    0.002930  |    0.008003  |     0.366073  |             |  4.4s"
       ]
      },
      {
       "output_type": "stream",
       "stream": "stdout",
       "text": [
        "\n",
        "  1944  |    0.002938  |    0.007996  |     0.367485  |             |  4.4s"
       ]
      },
      {
       "output_type": "stream",
       "stream": "stdout",
       "text": [
        "\n",
        "  1945  |    0.002947  |    0.007989  |     0.368933  |             |  4.4s"
       ]
      },
      {
       "output_type": "stream",
       "stream": "stdout",
       "text": [
        "\n",
        "  1946  |    0.002903  |    0.007988  |     0.363417  |             |  4.4s"
       ]
      },
      {
       "output_type": "stream",
       "stream": "stdout",
       "text": [
        "\n",
        "  1947  |    0.002904  |    0.007988  |     0.363579  |             |  4.4s"
       ]
      },
      {
       "output_type": "stream",
       "stream": "stdout",
       "text": [
        "\n",
        "  1948  |    0.002930  |    0.007993  |     0.366623  |             |  4.4s"
       ]
      },
      {
       "output_type": "stream",
       "stream": "stdout",
       "text": [
        "\n",
        "  1949  |    0.002857  |    0.007992  |     0.357475  |             |  4.4s"
       ]
      },
      {
       "output_type": "stream",
       "stream": "stdout",
       "text": [
        "\n",
        "  1950  |    0.002900  |    0.007999  |     0.362572  |             |  4.4s"
       ]
      },
      {
       "output_type": "stream",
       "stream": "stdout",
       "text": [
        "\n",
        "  1951  |    0.002958  |    0.007987  |     0.370390  |             |  4.4s"
       ]
      },
      {
       "output_type": "stream",
       "stream": "stdout",
       "text": [
        "\n",
        "  1952  |    0.002945  |    0.008015  |     0.367449  |             |  4.4s"
       ]
      },
      {
       "output_type": "stream",
       "stream": "stdout",
       "text": [
        "\n",
        "  1953  |    0.002888  |    0.007983  |     0.361721  |             |  4.4s"
       ]
      },
      {
       "output_type": "stream",
       "stream": "stdout",
       "text": [
        "\n",
        "  1954  |  \u001b[94m  0.002834\u001b[0m  |    0.007986  |     0.354908  |             |  4.4s"
       ]
      },
      {
       "output_type": "stream",
       "stream": "stdout",
       "text": [
        "\n",
        "  1955  |    0.002946  |    0.007992  |     0.368668  |             |  4.4s"
       ]
      },
      {
       "output_type": "stream",
       "stream": "stdout",
       "text": [
        "\n",
        "  1956  |    0.002908  |    0.007995  |     0.363760  |             |  4.4s"
       ]
      },
      {
       "output_type": "stream",
       "stream": "stdout",
       "text": [
        "\n",
        "  1957  |    0.002854  |    0.007979  |     0.357679  |             |  4.4s"
       ]
      },
      {
       "output_type": "stream",
       "stream": "stdout",
       "text": [
        "\n",
        "  1958  |  \u001b[94m  0.002825\u001b[0m  |    0.007975  |     0.354258  |             |  4.4s"
       ]
      },
      {
       "output_type": "stream",
       "stream": "stdout",
       "text": [
        "\n",
        "  1959  |    0.002890  |    0.007975  |     0.362344  |             |  4.4s"
       ]
      },
      {
       "output_type": "stream",
       "stream": "stdout",
       "text": [
        "\n",
        "  1960  |    0.002920  |    0.007984  |     0.365764  |             |  4.4s"
       ]
      },
      {
       "output_type": "stream",
       "stream": "stdout",
       "text": [
        "\n",
        "  1961  |    0.002904  |    0.007982  |     0.363849  |             |  4.4s"
       ]
      },
      {
       "output_type": "stream",
       "stream": "stdout",
       "text": [
        "\n",
        "  1962  |    0.002881  |    0.007967  |     0.361613  |             |  4.4s"
       ]
      },
      {
       "output_type": "stream",
       "stream": "stdout",
       "text": [
        "\n",
        "  1963  |    0.002838  |    0.007970  |     0.356065  |             |  4.4s"
       ]
      },
      {
       "output_type": "stream",
       "stream": "stdout",
       "text": [
        "\n",
        "  1964  |    0.002918  |    0.007974  |     0.365944  |             |  4.4s"
       ]
      },
      {
       "output_type": "stream",
       "stream": "stdout",
       "text": [
        "\n",
        "  1965  |    0.002878  |    0.007987  |     0.360280  |             |  4.4s"
       ]
      },
      {
       "output_type": "stream",
       "stream": "stdout",
       "text": [
        "\n",
        "  1966  |    0.002901  |    0.007988  |     0.363165  |             |  4.4s"
       ]
      },
      {
       "output_type": "stream",
       "stream": "stdout",
       "text": [
        "\n",
        "  1967  |    0.002903  |    0.007980  |     0.363804  |             |  4.4s"
       ]
      },
      {
       "output_type": "stream",
       "stream": "stdout",
       "text": [
        "\n",
        "  1968  |    0.002831  |    0.007990  |     0.354290  |             |  4.4s"
       ]
      },
      {
       "output_type": "stream",
       "stream": "stdout",
       "text": [
        "\n",
        "  1969  |    0.002879  |    0.007992  |     0.360198  |             |  4.4s"
       ]
      },
      {
       "output_type": "stream",
       "stream": "stdout",
       "text": [
        "\n",
        "  1970  |    0.002872  |    0.007985  |     0.359745  |             |  4.4s"
       ]
      },
      {
       "output_type": "stream",
       "stream": "stdout",
       "text": [
        "\n",
        "  1971  |    0.002852  |    0.007999  |     0.356558  |             |  4.4s"
       ]
      },
      {
       "output_type": "stream",
       "stream": "stdout",
       "text": [
        "\n",
        "  1972  |  \u001b[94m  0.002807\u001b[0m  |    0.007988  |     0.351351  |             |  4.4s"
       ]
      },
      {
       "output_type": "stream",
       "stream": "stdout",
       "text": [
        "\n",
        "  1973  |    0.002905  |    0.007986  |     0.363757  |             |  4.4s"
       ]
      },
      {
       "output_type": "stream",
       "stream": "stdout",
       "text": [
        "\n",
        "  1974  |    0.002894  |    0.008004  |     0.361572  |             |  4.4s"
       ]
      },
      {
       "output_type": "stream",
       "stream": "stdout",
       "text": [
        "\n",
        "  1975  |    0.002826  |    0.007986  |     0.353927  |             |  4.4s"
       ]
      },
      {
       "output_type": "stream",
       "stream": "stdout",
       "text": [
        "\n",
        "  1976  |    0.002840  |    0.008009  |     0.354610  |             |  4.4s"
       ]
      },
      {
       "output_type": "stream",
       "stream": "stdout",
       "text": [
        "\n",
        "  1977  |    0.002809  |    0.008016  |     0.350469  |             |  4.4s"
       ]
      },
      {
       "output_type": "stream",
       "stream": "stdout",
       "text": [
        "\n",
        "  1978  |    0.002845  |    0.008014  |     0.354980  |             |  4.4s"
       ]
      },
      {
       "output_type": "stream",
       "stream": "stdout",
       "text": [
        "\n",
        "  1979  |    0.002829  |    0.008001  |     0.353597  |             |  4.4s"
       ]
      },
      {
       "output_type": "stream",
       "stream": "stdout",
       "text": [
        "\n",
        "  1980  |    0.002813  |    0.008006  |     0.351306  |             |  4.4s"
       ]
      },
      {
       "output_type": "stream",
       "stream": "stdout",
       "text": [
        "\n",
        "  1981  |  \u001b[94m  0.002724\u001b[0m  |    0.008018  |     0.339697  |             |  4.4s"
       ]
      },
      {
       "output_type": "stream",
       "stream": "stdout",
       "text": [
        "\n",
        "  1982  |    0.002946  |    0.007993  |     0.368613  |             |  4.4s"
       ]
      },
      {
       "output_type": "stream",
       "stream": "stdout",
       "text": [
        "\n",
        "  1983  |    0.002853  |    0.008009  |     0.356248  |             |  4.4s"
       ]
      },
      {
       "output_type": "stream",
       "stream": "stdout",
       "text": [
        "\n",
        "  1984  |    0.002760  |    0.007997  |     0.345081  |             |  4.4s"
       ]
      },
      {
       "output_type": "stream",
       "stream": "stdout",
       "text": [
        "\n",
        "  1985  |    0.002829  |    0.007990  |     0.354020  |             |  4.4s"
       ]
      },
      {
       "output_type": "stream",
       "stream": "stdout",
       "text": [
        "\n",
        "  1986  |    0.002828  |    0.008013  |     0.352888  |             |  4.4s"
       ]
      },
      {
       "output_type": "stream",
       "stream": "stdout",
       "text": [
        "\n",
        "  1987  |    0.002831  |    0.007997  |     0.354090  |             |  4.4s"
       ]
      },
      {
       "output_type": "stream",
       "stream": "stdout",
       "text": [
        "\n",
        "  1988  |    0.002833  |    0.007996  |     0.354296  |             |  4.4s"
       ]
      },
      {
       "output_type": "stream",
       "stream": "stdout",
       "text": [
        "\n",
        "  1989  |    0.002847  |    0.007995  |     0.356021  |             |  4.4s"
       ]
      },
      {
       "output_type": "stream",
       "stream": "stdout",
       "text": [
        "\n",
        "  1990  |    0.002793  |    0.007995  |     0.349330  |             |  4.4s"
       ]
      },
      {
       "output_type": "stream",
       "stream": "stdout",
       "text": [
        "\n",
        "Early stopping.\n",
        "Best valid loss was 0.007956 at epoch 1789.\n",
        "CPU times: user 1h 31min 43s, sys: 53min 45s, total: 2h 25min 29s"
       ]
      },
      {
       "output_type": "stream",
       "stream": "stdout",
       "text": [
        "\n",
        "Wall time: 2h 25min 31s\n"
       ]
      },
      {
       "output_type": "stream",
       "stream": "stderr",
       "text": [
        "/home/ubuntu/src/theano/theano/sandbox/rng_mrg.py:1188: UserWarning: MRG_RandomStreams Can't determine #streams from size (Shape.0), guessing 60*256\n",
        "  nstreams = self.n_streams(size)\n"
       ]
      }
     ],
     "prompt_number": 16
    },
    {
     "cell_type": "code",
     "collapsed": false,
     "input": [
      "train_loss_6 = np.array([i[\"train_loss\"] for i in net7.train_history_])\n",
      "valid_loss_6 = np.array([i[\"valid_loss\"] for i in net7.train_history_])\n",
      "pyplot.plot(train_loss_6, linewidth=3, label=\"train\")\n",
      "pyplot.plot(valid_loss_6, linewidth=3, label=\"valid\")\n",
      "pyplot.grid()\n",
      "pyplot.legend()\n",
      "pyplot.xlabel(\"epoch\")\n",
      "pyplot.ylabel(\"loss\")\n",
      "pyplot.ylim(0.1e-2, 3.2e-2)\n",
      "# pyplot.yscale(\"log\")\n",
      "pyplot.show()"
     ],
     "language": "python",
     "metadata": {},
     "outputs": [
      {
       "metadata": {},
       "output_type": "display_data",
       "png": "[encoded data removed]",
       "text": [
        "<matplotlib.figure.Figure at 0x7f0a3b154dd0>"
       ]
      }
     ],
     "prompt_number": 17
    },
    {
     "cell_type": "code",
     "collapsed": false,
     "input": [
      "from sklearn import metrics\n",
      "\n",
      "Xt_6, yt_6 = transform_6(X_test, y_test)\n",
      "\n",
      "# overfit result, should use validation result\n",
      "y_pred = net7.predict(Xt_6)\n",
      "# print y_pred[1]\n",
      "# np.argmax(y_pred[i]),np.argmax(y[i])\n",
      "y_pred = np.array(map((lambda x: np.argmax(x)), y_pred))\n",
      "yyy = np.array(map((lambda x: np.argmax(x)), yt_6))\n",
      "\n",
      "print metrics.classification_report((yyy), (y_pred))"
     ],
     "language": "python",
     "metadata": {},
     "outputs": [
      {
       "output_type": "stream",
       "stream": "stdout",
       "text": [
        "             precision    recall  f1-score   support\n",
        "\n",
        "          0       0.92      0.88      0.90       155\n",
        "          1       0.75      0.75      0.75       155\n",
        "          2       0.91      0.82      0.86       151\n",
        "          3       0.84      0.87      0.85       164\n",
        "          4       0.94      0.88      0.91       138\n",
        "          5       0.89      0.84      0.87       145\n",
        "          6       0.95      0.84      0.89       159\n",
        "          7       0.78      0.80      0.79       171\n",
        "          8       0.90      0.88      0.89       149\n",
        "          9       0.96      0.93      0.94       151\n",
        "         10       0.87      0.84      0.85       148\n",
        "         11       0.93      0.89      0.91       155\n",
        "         12       0.55      0.83      0.66       138\n",
        "         13       0.62      0.64      0.63       120\n",
        "         14       0.68      0.76      0.72       123\n",
        "         15       0.84      0.70      0.76       138\n",
        "         16       0.74      0.75      0.75       141\n",
        "         17       0.76      0.71      0.73       150\n",
        "         18       0.61      0.66      0.64       119\n",
        "         19       0.77      0.81      0.79       117\n",
        "         20       0.70      0.70      0.70       131\n",
        "         21       0.68      0.74      0.71       145\n",
        "         22       0.87      0.85      0.86       132\n",
        "         23       0.91      0.86      0.89       110\n",
        "         24       0.93      0.87      0.90       125\n",
        "         25       0.88      0.91      0.90       115\n",
        "         26       0.78      0.72      0.75       123\n",
        "         27       0.89      0.75      0.81       134\n",
        "         28       0.93      0.83      0.88       147\n",
        "         29       0.91      0.84      0.88       116\n",
        "         30       0.84      0.84      0.84       121\n",
        "         31       0.66      0.88      0.75       138\n",
        "\n",
        "avg / total       0.82      0.81      0.81      4424\n",
        "\n"
       ]
      }
     ],
     "prompt_number": 18
    },
    {
     "cell_type": "markdown",
     "metadata": {},
     "source": [
      "## submit test data "
     ]
    },
    {
     "cell_type": "code",
     "collapsed": false,
     "input": [
      "import pandas as pd\n",
      "\n",
      "xx_test, yy_test = load_svmlight_file(\"./phase1/aug_test.dat\")"
     ],
     "language": "python",
     "metadata": {},
     "outputs": [],
     "prompt_number": 19
    },
    {
     "cell_type": "code",
     "collapsed": false,
     "input": [
      "Xt, yt = transform_6(X_test, y_test)\n",
      "result = net7.predict(Xt)\n",
      "result = np.array(map((lambda x: np.argmax(x)), result))\n",
      "result.astype(int)"
     ],
     "language": "python",
     "metadata": {},
     "outputs": [
      {
       "metadata": {},
       "output_type": "pyout",
       "prompt_number": 20,
       "text": [
        "array([ 4, 13, 27, ..., 14, 20, 28])"
       ]
      }
     ],
     "prompt_number": 20
    },
    {
     "cell_type": "code",
     "collapsed": false,
     "input": [
      "df_submission = pd.DataFrame( result.astype(int) ,columns=None)\n",
      "\n",
      "df_submission.to_csv('./submission1.dat', index=None)"
     ],
     "language": "python",
     "metadata": {},
     "outputs": [],
     "prompt_number": 21
    }
   ],
   "metadata": {}
  }
 ]
}