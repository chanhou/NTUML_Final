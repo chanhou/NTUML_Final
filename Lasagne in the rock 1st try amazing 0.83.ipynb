{
 "metadata": {
  "name": ""
 },
 "nbformat": 3,
 "nbformat_minor": 0,
 "worksheets": [
  {
   "cells": [
    {
     "cell_type": "markdown",
     "metadata": {},
     "source": [
      "## Lasagne code try and edit"
     ]
    },
    {
     "cell_type": "markdown",
     "metadata": {},
     "source": [
      "## input our data"
     ]
    },
    {
     "cell_type": "code",
     "collapsed": false,
     "input": [
      "import numpy as np\n",
      "import math\n",
      "import scipy.linalg as sp\n",
      "from sklearn.datasets import load_svmlight_file"
     ],
     "language": "python",
     "metadata": {},
     "outputs": [],
     "prompt_number": 1
    },
    {
     "cell_type": "code",
     "collapsed": false,
     "input": [
      "xx_train, y = load_svmlight_file(\"./phase1/test2.dat\")\n",
      "# print type(xx_train)\n",
      "print xx_train.shape\n",
      "xx_train = np.array(xx_train.todense()).reshape(-1,)\n",
      "# xx_train = xx_train.dtype(np.float32)\n",
      "xx_train = np.float32(xx_train)\n",
      "xx_train = xx_train.reshape(14744,2500)\n",
      "# print xx_train.shape\n",
      "print type(xx_train)"
     ],
     "language": "python",
     "metadata": {},
     "outputs": [
      {
       "output_type": "stream",
       "stream": "stdout",
       "text": [
        "(14744, 2500)\n",
        "<type 'numpy.ndarray'>"
       ]
      },
      {
       "output_type": "stream",
       "stream": "stdout",
       "text": [
        "\n"
       ]
      }
     ],
     "prompt_number": 3
    },
    {
     "cell_type": "code",
     "collapsed": false,
     "input": [
      "# xx_h, y_h = load_svmlight_file(\"./phase1/ml14fall_train.dat\")\n",
      "# # print type(xx_train)\n",
      "# xx_h = np.array(xx_h.todense()).reshape(-1,)\n",
      "# # xx_train = xx_train.dtype(np.float32)\n",
      "# xx_h = np.float32(xx_h)\n",
      "# xx_h = xx_h.reshape(14744,12810)\n",
      "# print xx_h.shape\n",
      "# print type(xx_h)"
     ],
     "language": "python",
     "metadata": {},
     "outputs": []
    },
    {
     "cell_type": "code",
     "collapsed": false,
     "input": [
      "sizee = 50"
     ],
     "language": "python",
     "metadata": {},
     "outputs": [],
     "prompt_number": 4
    },
    {
     "cell_type": "code",
     "collapsed": false,
     "input": [
      "# pylab.ion()\n",
      "# pylab.imshow(xxxx[0],cmap=cm.gray)\n",
      "x = xx_train.reshape(14744,sizee**2)\n",
      "x = x.astype(np.float32)\n",
      "\n",
      "print x.shape\n",
      "print type(x)"
     ],
     "language": "python",
     "metadata": {},
     "outputs": [
      {
       "output_type": "stream",
       "stream": "stdout",
       "text": [
        "(14744, 2500)\n",
        "<type 'numpy.ndarray'>\n"
       ]
      }
     ],
     "prompt_number": 5
    },
    {
     "cell_type": "code",
     "collapsed": false,
     "input": [
      "def one_hot(x,n):\n",
      "    if type(x) == list:\n",
      "            x = np.array(x)\n",
      "    x = x.flatten()\n",
      "    o_h = np.zeros((len(x),n))\n",
      "    o_h[np.arange(len(x)),x] = 1\n",
      "    return o_h\n",
      "\n",
      "y = y.astype(int32)    \n",
      "y = one_hot(y, 32)\n",
      "y = y.astype(np.float32)\n",
      "\n",
      "print y.shape"
     ],
     "language": "python",
     "metadata": {},
     "outputs": [
      {
       "output_type": "stream",
       "stream": "stdout",
       "text": [
        "(14744, 32)\n"
       ]
      }
     ],
     "prompt_number": 6
    },
    {
     "cell_type": "markdown",
     "metadata": {},
     "source": [
      "## split data"
     ]
    },
    {
     "cell_type": "code",
     "collapsed": false,
     "input": [
      "from sklearn import cross_validation as cv\n",
      "from sklearn import svm\n",
      "from sklearn import metrics\n",
      "from sklearn import grid_search as gs"
     ],
     "language": "python",
     "metadata": {},
     "outputs": [],
     "prompt_number": 7
    },
    {
     "cell_type": "code",
     "collapsed": false,
     "input": [
      "X_train, X_test, y_train, y_test = cv.train_test_split(x, y, test_size=0.3)"
     ],
     "language": "python",
     "metadata": {},
     "outputs": [],
     "prompt_number": 8
    },
    {
     "cell_type": "code",
     "collapsed": false,
     "input": [
      "print X_train.shape\n",
      "print X_test.shape\n",
      "print y_train.shape\n",
      "print y_test.shape"
     ],
     "language": "python",
     "metadata": {},
     "outputs": [
      {
       "output_type": "stream",
       "stream": "stdout",
       "text": [
        "(10320, 2500)\n",
        "(4424, 2500)\n",
        "(10320, 32)\n",
        "(4424, 32)\n"
       ]
      }
     ],
     "prompt_number": 9
    },
    {
     "cell_type": "markdown",
     "metadata": {},
     "source": [
      "## First model of Lasagne with single hidden layer"
     ]
    },
    {
     "cell_type": "code",
     "collapsed": false,
     "input": [
      "# add to kfkd.py\n",
      "from lasagne import layers\n",
      "from lasagne.updates import nesterov_momentum\n",
      "from nolearn.lasagne import NeuralNet\n",
      "\n",
      "net1 = NeuralNet(\n",
      "    layers=[  # three layers: one hidden layer\n",
      "        ('input', layers.InputLayer),\n",
      "        ('hidden', layers.DenseLayer),\n",
      "        ('output', layers.DenseLayer),\n",
      "        ],\n",
      "    # layer parameters:\n",
      "    input_shape=(128, 2500),  # 128 images per batch times 100x100 input pixels\n",
      "    hidden_num_units=300,  # number of units in hidden layer\n",
      "    output_nonlinearity=None,  # output layer uses identity function\n",
      "    output_num_units=32,  # 30 target values\n",
      "\n",
      "    # optimization method:\n",
      "    upate=nesterov_momentum,\n",
      "    update_learning_rate=0.01,\n",
      "    update_momentum=0.9,\n",
      "\n",
      "    # regression=False,  # flag to indicate we're dealing with regression problem\n",
      "    regression=True,  # flag to indicate we're dealing with regression problem\n",
      "    max_epochs=1000,  # we want to train this many epochs\n",
      "    verbose=1,\n",
      "    )\n"
     ],
     "language": "python",
     "metadata": {},
     "outputs": [
      {
       "output_type": "stream",
       "stream": "stderr",
       "text": [
        "Using gpu device 0: GRID K520\n"
       ]
      }
     ],
     "prompt_number": 10
    },
    {
     "cell_type": "code",
     "collapsed": false,
     "input": [
      "%time net1.fit(X_train, y_train)"
     ],
     "language": "python",
     "metadata": {},
     "outputs": [
      {
       "output_type": "stream",
       "stream": "stdout",
       "text": [
        "  InputLayer        \t(128, 2500)         \tproduces    2500 outputs\n",
        "  DenseLayer        \t(128, 300)          \tproduces     300 outputs\n",
        "  DenseLayer        \t(128, 32)           \tproduces      32 outputs\n",
        "\n",
        " Epoch  |  Train loss  |  Valid loss  |  Train / Val  |  Valid acc  |  Dur\n",
        "--------|--------------|--------------|---------------|-------------|-------"
       ]
      },
      {
       "output_type": "stream",
       "stream": "stdout",
       "text": [
        "\n",
        "     1  |  \u001b[94m  0.077051\u001b[0m  |  \u001b[32m  0.058461\u001b[0m  |     1.317975  |             |  0.2s"
       ]
      },
      {
       "output_type": "stream",
       "stream": "stdout",
       "text": [
        "\n",
        "     2  |  \u001b[94m  0.051932\u001b[0m  |  \u001b[32m  0.047819\u001b[0m  |     1.086011  |             |  0.2s"
       ]
      },
      {
       "output_type": "stream",
       "stream": "stdout",
       "text": [
        "\n",
        "     3  |  \u001b[94m  0.044354\u001b[0m  |  \u001b[32m  0.042554\u001b[0m  |     1.042299  |             |  0.2s"
       ]
      },
      {
       "output_type": "stream",
       "stream": "stdout",
       "text": [
        "\n",
        "     4  |  \u001b[94m  0.040217\u001b[0m  |  \u001b[32m  0.039417\u001b[0m  |     1.020295  |             |  0.2s"
       ]
      },
      {
       "output_type": "stream",
       "stream": "stdout",
       "text": [
        "\n",
        "     5  |  \u001b[94m  0.037680\u001b[0m  |  \u001b[32m  0.037420\u001b[0m  |     1.006943  |             |  0.2s"
       ]
      },
      {
       "output_type": "stream",
       "stream": "stdout",
       "text": [
        "\n",
        "     6  |  \u001b[94m  0.036010\u001b[0m  |  \u001b[32m  0.036061\u001b[0m  |     0.998599  |             |  0.2s"
       ]
      },
      {
       "output_type": "stream",
       "stream": "stdout",
       "text": [
        "\n",
        "     7  |  \u001b[94m  0.034842\u001b[0m  |  \u001b[32m  0.035093\u001b[0m  |     0.992865  |             |  0.2s"
       ]
      },
      {
       "output_type": "stream",
       "stream": "stdout",
       "text": [
        "\n",
        "     8  |  \u001b[94m  0.033988\u001b[0m  |  \u001b[32m  0.034372\u001b[0m  |     0.988810  |             |  0.2s"
       ]
      },
      {
       "output_type": "stream",
       "stream": "stdout",
       "text": [
        "\n",
        "     9  |  \u001b[94m  0.033338\u001b[0m  |  \u001b[32m  0.033817\u001b[0m  |     0.985843  |             |  0.2s"
       ]
      },
      {
       "output_type": "stream",
       "stream": "stdout",
       "text": [
        "\n",
        "    10  |  \u001b[94m  0.032827\u001b[0m  |  \u001b[32m  0.033379\u001b[0m  |     0.983466  |             |  0.2s"
       ]
      },
      {
       "output_type": "stream",
       "stream": "stdout",
       "text": [
        "\n",
        "    11  |  \u001b[94m  0.032416\u001b[0m  |  \u001b[32m  0.033029\u001b[0m  |     0.981444  |             |  0.2s"
       ]
      },
      {
       "output_type": "stream",
       "stream": "stdout",
       "text": [
        "\n",
        "    12  |  \u001b[94m  0.032077\u001b[0m  |  \u001b[32m  0.032739\u001b[0m  |     0.979769  |             |  0.2s"
       ]
      },
      {
       "output_type": "stream",
       "stream": "stdout",
       "text": [
        "\n",
        "    13  |  \u001b[94m  0.031791\u001b[0m  |  \u001b[32m  0.032496\u001b[0m  |     0.978314  |             |  0.2s"
       ]
      },
      {
       "output_type": "stream",
       "stream": "stdout",
       "text": [
        "\n",
        "    14  |  \u001b[94m  0.031547\u001b[0m  |  \u001b[32m  0.032289\u001b[0m  |     0.977022  |             |  0.2s"
       ]
      },
      {
       "output_type": "stream",
       "stream": "stdout",
       "text": [
        "\n",
        "    15  |  \u001b[94m  0.031335\u001b[0m  |  \u001b[32m  0.032112\u001b[0m  |     0.975799  |             |  0.2s"
       ]
      },
      {
       "output_type": "stream",
       "stream": "stdout",
       "text": [
        "\n",
        "    16  |  \u001b[94m  0.031149\u001b[0m  |  \u001b[32m  0.031959\u001b[0m  |     0.974633  |             |  0.2s"
       ]
      },
      {
       "output_type": "stream",
       "stream": "stdout",
       "text": [
        "\n",
        "    17  |  \u001b[94m  0.030983\u001b[0m  |  \u001b[32m  0.031825\u001b[0m  |     0.973531  |             |  0.2s"
       ]
      },
      {
       "output_type": "stream",
       "stream": "stdout",
       "text": [
        "\n",
        "    18  |  \u001b[94m  0.030835\u001b[0m  |  \u001b[32m  0.031707\u001b[0m  |     0.972484  |             |  0.2s"
       ]
      },
      {
       "output_type": "stream",
       "stream": "stdout",
       "text": [
        "\n",
        "    19  |  \u001b[94m  0.030700\u001b[0m  |  \u001b[32m  0.031601\u001b[0m  |     0.971487  |             |  0.2s"
       ]
      },
      {
       "output_type": "stream",
       "stream": "stdout",
       "text": [
        "\n",
        "    20  |  \u001b[94m  0.030577\u001b[0m  |  \u001b[32m  0.031506\u001b[0m  |     0.970508  |             |  0.2s"
       ]
      },
      {
       "output_type": "stream",
       "stream": "stdout",
       "text": [
        "\n",
        "    21  |  \u001b[94m  0.030463\u001b[0m  |  \u001b[32m  0.031420\u001b[0m  |     0.969538  |             |  0.2s"
       ]
      },
      {
       "output_type": "stream",
       "stream": "stdout",
       "text": [
        "\n",
        "    22  |  \u001b[94m  0.030358\u001b[0m  |  \u001b[32m  0.031343\u001b[0m  |     0.968567  |             |  0.2s"
       ]
      },
      {
       "output_type": "stream",
       "stream": "stdout",
       "text": [
        "\n",
        "    23  |  \u001b[94m  0.030259\u001b[0m  |  \u001b[32m  0.031273\u001b[0m  |     0.967596  |             |  0.2s"
       ]
      },
      {
       "output_type": "stream",
       "stream": "stdout",
       "text": [
        "\n",
        "    24  |  \u001b[94m  0.030166\u001b[0m  |  \u001b[32m  0.031208\u001b[0m  |     0.966612  |             |  0.2s"
       ]
      },
      {
       "output_type": "stream",
       "stream": "stdout",
       "text": [
        "\n",
        "    25  |  \u001b[94m  0.030078\u001b[0m  |  \u001b[32m  0.031149\u001b[0m  |     0.965623  |             |  0.2s"
       ]
      },
      {
       "output_type": "stream",
       "stream": "stdout",
       "text": [
        "\n",
        "    26  |  \u001b[94m  0.029994\u001b[0m  |  \u001b[32m  0.031094\u001b[0m  |     0.964635  |             |  0.2s"
       ]
      },
      {
       "output_type": "stream",
       "stream": "stdout",
       "text": [
        "\n",
        "    27  |  \u001b[94m  0.029915\u001b[0m  |  \u001b[32m  0.031043\u001b[0m  |     0.963655  |             |  0.2s"
       ]
      },
      {
       "output_type": "stream",
       "stream": "stdout",
       "text": [
        "\n",
        "    28  |  \u001b[94m  0.029838\u001b[0m  |  \u001b[32m  0.030995\u001b[0m  |     0.962681  |             |  0.2s"
       ]
      },
      {
       "output_type": "stream",
       "stream": "stdout",
       "text": [
        "\n",
        "    29  |  \u001b[94m  0.029764\u001b[0m  |  \u001b[32m  0.030949\u001b[0m  |     0.961699  |             |  0.2s"
       ]
      },
      {
       "output_type": "stream",
       "stream": "stdout",
       "text": [
        "\n",
        "    30  |  \u001b[94m  0.029692\u001b[0m  |  \u001b[32m  0.030907\u001b[0m  |     0.960709  |             |  0.2s"
       ]
      },
      {
       "output_type": "stream",
       "stream": "stdout",
       "text": [
        "\n",
        "    31  |  \u001b[94m  0.029623\u001b[0m  |  \u001b[32m  0.030866\u001b[0m  |     0.959713  |             |  0.2s"
       ]
      },
      {
       "output_type": "stream",
       "stream": "stdout",
       "text": [
        "\n",
        "    32  |  \u001b[94m  0.029556\u001b[0m  |  \u001b[32m  0.030828\u001b[0m  |     0.958730  |             |  0.2s"
       ]
      },
      {
       "output_type": "stream",
       "stream": "stdout",
       "text": [
        "\n",
        "    33  |  \u001b[94m  0.029490\u001b[0m  |  \u001b[32m  0.030791\u001b[0m  |     0.957750  |             |  0.2s"
       ]
      },
      {
       "output_type": "stream",
       "stream": "stdout",
       "text": [
        "\n",
        "    34  |  \u001b[94m  0.029426\u001b[0m  |  \u001b[32m  0.030756\u001b[0m  |     0.956773  |             |  0.2s"
       ]
      },
      {
       "output_type": "stream",
       "stream": "stdout",
       "text": [
        "\n",
        "    35  |  \u001b[94m  0.029363\u001b[0m  |  \u001b[32m  0.030721\u001b[0m  |     0.955795  |             |  0.2s"
       ]
      },
      {
       "output_type": "stream",
       "stream": "stdout",
       "text": [
        "\n",
        "    36  |  \u001b[94m  0.029302\u001b[0m  |  \u001b[32m  0.030689\u001b[0m  |     0.954805  |             |  0.2s"
       ]
      },
      {
       "output_type": "stream",
       "stream": "stdout",
       "text": [
        "\n",
        "    37  |  \u001b[94m  0.029242\u001b[0m  |  \u001b[32m  0.030658\u001b[0m  |     0.953813  |             |  0.2s"
       ]
      },
      {
       "output_type": "stream",
       "stream": "stdout",
       "text": [
        "\n",
        "    38  |  \u001b[94m  0.029182\u001b[0m  |  \u001b[32m  0.030627\u001b[0m  |     0.952819  |             |  0.2s"
       ]
      },
      {
       "output_type": "stream",
       "stream": "stdout",
       "text": [
        "\n",
        "    39  |  \u001b[94m  0.029124\u001b[0m  |  \u001b[32m  0.030597\u001b[0m  |     0.951832  |             |  0.2s"
       ]
      },
      {
       "output_type": "stream",
       "stream": "stdout",
       "text": [
        "\n",
        "    40  |  \u001b[94m  0.029066\u001b[0m  |  \u001b[32m  0.030568\u001b[0m  |     0.950849  |             |  0.2s"
       ]
      },
      {
       "output_type": "stream",
       "stream": "stdout",
       "text": [
        "\n",
        "    41  |  \u001b[94m  0.029009\u001b[0m  |  \u001b[32m  0.030540\u001b[0m  |     0.949868  |             |  0.2s"
       ]
      },
      {
       "output_type": "stream",
       "stream": "stdout",
       "text": [
        "\n",
        "    42  |  \u001b[94m  0.028953\u001b[0m  |  \u001b[32m  0.030513\u001b[0m  |     0.948885  |             |  0.2s"
       ]
      },
      {
       "output_type": "stream",
       "stream": "stdout",
       "text": [
        "\n",
        "    43  |  \u001b[94m  0.028897\u001b[0m  |  \u001b[32m  0.030486\u001b[0m  |     0.947901  |             |  0.2s"
       ]
      },
      {
       "output_type": "stream",
       "stream": "stdout",
       "text": [
        "\n",
        "    44  |  \u001b[94m  0.028843\u001b[0m  |  \u001b[32m  0.030460\u001b[0m  |     0.946910  |             |  0.2s"
       ]
      },
      {
       "output_type": "stream",
       "stream": "stdout",
       "text": [
        "\n",
        "    45  |  \u001b[94m  0.028788\u001b[0m  |  \u001b[32m  0.030434\u001b[0m  |     0.945926  |             |  0.2s"
       ]
      },
      {
       "output_type": "stream",
       "stream": "stdout",
       "text": [
        "\n",
        "    46  |  \u001b[94m  0.028734\u001b[0m  |  \u001b[32m  0.030408\u001b[0m  |     0.944958  |             |  0.2s"
       ]
      },
      {
       "output_type": "stream",
       "stream": "stdout",
       "text": [
        "\n",
        "    47  |  \u001b[94m  0.028681\u001b[0m  |  \u001b[32m  0.030383\u001b[0m  |     0.943992  |             |  0.2s"
       ]
      },
      {
       "output_type": "stream",
       "stream": "stdout",
       "text": [
        "\n",
        "    48  |  \u001b[94m  0.028628\u001b[0m  |  \u001b[32m  0.030358\u001b[0m  |     0.943024  |             |  0.2s"
       ]
      },
      {
       "output_type": "stream",
       "stream": "stdout",
       "text": [
        "\n",
        "    49  |  \u001b[94m  0.028576\u001b[0m  |  \u001b[32m  0.030333\u001b[0m  |     0.942057  |             |  0.2s"
       ]
      },
      {
       "output_type": "stream",
       "stream": "stdout",
       "text": [
        "\n",
        "    50  |  \u001b[94m  0.028524\u001b[0m  |  \u001b[32m  0.030309\u001b[0m  |     0.941092  |             |  0.2s"
       ]
      },
      {
       "output_type": "stream",
       "stream": "stdout",
       "text": [
        "\n",
        "    51  |  \u001b[94m  0.028472\u001b[0m  |  \u001b[32m  0.030285\u001b[0m  |     0.940127  |             |  0.2s"
       ]
      },
      {
       "output_type": "stream",
       "stream": "stdout",
       "text": [
        "\n",
        "    52  |  \u001b[94m  0.028421\u001b[0m  |  \u001b[32m  0.030262\u001b[0m  |     0.939164  |             |  0.2s"
       ]
      },
      {
       "output_type": "stream",
       "stream": "stdout",
       "text": [
        "\n",
        "    53  |  \u001b[94m  0.028370\u001b[0m  |  \u001b[32m  0.030238\u001b[0m  |     0.938202  |             |  0.2s"
       ]
      },
      {
       "output_type": "stream",
       "stream": "stdout",
       "text": [
        "\n",
        "    54  |  \u001b[94m  0.028319\u001b[0m  |  \u001b[32m  0.030215\u001b[0m  |     0.937238  |             |  0.2s"
       ]
      },
      {
       "output_type": "stream",
       "stream": "stdout",
       "text": [
        "\n",
        "    55  |  \u001b[94m  0.028268\u001b[0m  |  \u001b[32m  0.030192\u001b[0m  |     0.936282  |             |  0.2s"
       ]
      },
      {
       "output_type": "stream",
       "stream": "stdout",
       "text": [
        "\n",
        "    56  |  \u001b[94m  0.028218\u001b[0m  |  \u001b[32m  0.030170\u001b[0m  |     0.935318  |             |  0.2s"
       ]
      },
      {
       "output_type": "stream",
       "stream": "stdout",
       "text": [
        "\n",
        "    57  |  \u001b[94m  0.028168\u001b[0m  |  \u001b[32m  0.030147\u001b[0m  |     0.934364  |             |  0.2s"
       ]
      },
      {
       "output_type": "stream",
       "stream": "stdout",
       "text": [
        "\n",
        "    58  |  \u001b[94m  0.028119\u001b[0m  |  \u001b[32m  0.030124\u001b[0m  |     0.933417  |             |  0.2s"
       ]
      },
      {
       "output_type": "stream",
       "stream": "stdout",
       "text": [
        "\n",
        "    59  |  \u001b[94m  0.028069\u001b[0m  |  \u001b[32m  0.030102\u001b[0m  |     0.932460  |             |  0.2s"
       ]
      },
      {
       "output_type": "stream",
       "stream": "stdout",
       "text": [
        "\n",
        "    60  |  \u001b[94m  0.028020\u001b[0m  |  \u001b[32m  0.030080\u001b[0m  |     0.931506  |             |  0.2s"
       ]
      },
      {
       "output_type": "stream",
       "stream": "stdout",
       "text": [
        "\n",
        "    61  |  \u001b[94m  0.027971\u001b[0m  |  \u001b[32m  0.030059\u001b[0m  |     0.930541  |             |  0.2s"
       ]
      },
      {
       "output_type": "stream",
       "stream": "stdout",
       "text": [
        "\n",
        "    62  |  \u001b[94m  0.027922\u001b[0m  |  \u001b[32m  0.030037\u001b[0m  |     0.929580  |             |  0.2s"
       ]
      },
      {
       "output_type": "stream",
       "stream": "stdout",
       "text": [
        "\n",
        "    63  |  \u001b[94m  0.027873\u001b[0m  |  \u001b[32m  0.030015\u001b[0m  |     0.928627  |             |  0.2s"
       ]
      },
      {
       "output_type": "stream",
       "stream": "stdout",
       "text": [
        "\n",
        "    64  |  \u001b[94m  0.027824\u001b[0m  |  \u001b[32m  0.029993\u001b[0m  |     0.927682  |             |  0.2s"
       ]
      },
      {
       "output_type": "stream",
       "stream": "stdout",
       "text": [
        "\n",
        "    65  |  \u001b[94m  0.027776\u001b[0m  |  \u001b[32m  0.029971\u001b[0m  |     0.926743  |             |  0.2s"
       ]
      },
      {
       "output_type": "stream",
       "stream": "stdout",
       "text": [
        "\n",
        "    66  |  \u001b[94m  0.027728\u001b[0m  |  \u001b[32m  0.029949\u001b[0m  |     0.925820  |             |  0.2s"
       ]
      },
      {
       "output_type": "stream",
       "stream": "stdout",
       "text": [
        "\n",
        "    67  |  \u001b[94m  0.027679\u001b[0m  |  \u001b[32m  0.029927\u001b[0m  |     0.924914  |             |  0.2s"
       ]
      },
      {
       "output_type": "stream",
       "stream": "stdout",
       "text": [
        "\n",
        "    68  |  \u001b[94m  0.027631\u001b[0m  |  \u001b[32m  0.029904\u001b[0m  |     0.924013  |             |  0.2s"
       ]
      },
      {
       "output_type": "stream",
       "stream": "stdout",
       "text": [
        "\n",
        "    69  |  \u001b[94m  0.027584\u001b[0m  |  \u001b[32m  0.029881\u001b[0m  |     0.923106  |             |  0.2s"
       ]
      },
      {
       "output_type": "stream",
       "stream": "stdout",
       "text": [
        "\n",
        "    70  |  \u001b[94m  0.027536\u001b[0m  |  \u001b[32m  0.029859\u001b[0m  |     0.922204  |             |  0.2s"
       ]
      },
      {
       "output_type": "stream",
       "stream": "stdout",
       "text": [
        "\n",
        "    71  |  \u001b[94m  0.027488\u001b[0m  |  \u001b[32m  0.029837\u001b[0m  |     0.921296  |             |  0.2s"
       ]
      },
      {
       "output_type": "stream",
       "stream": "stdout",
       "text": [
        "\n",
        "    72  |  \u001b[94m  0.027441\u001b[0m  |  \u001b[32m  0.029815\u001b[0m  |     0.920389  |             |  0.2s"
       ]
      },
      {
       "output_type": "stream",
       "stream": "stdout",
       "text": [
        "\n",
        "    73  |  \u001b[94m  0.027394\u001b[0m  |  \u001b[32m  0.029793\u001b[0m  |     0.919475  |             |  0.2s"
       ]
      },
      {
       "output_type": "stream",
       "stream": "stdout",
       "text": [
        "\n",
        "    74  |  \u001b[94m  0.027347\u001b[0m  |  \u001b[32m  0.029771\u001b[0m  |     0.918564  |             |  0.2s"
       ]
      },
      {
       "output_type": "stream",
       "stream": "stdout",
       "text": [
        "\n",
        "    75  |  \u001b[94m  0.027300\u001b[0m  |  \u001b[32m  0.029750\u001b[0m  |     0.917651  |             |  0.2s"
       ]
      },
      {
       "output_type": "stream",
       "stream": "stdout",
       "text": [
        "\n",
        "    76  |  \u001b[94m  0.027253\u001b[0m  |  \u001b[32m  0.029728\u001b[0m  |     0.916747  |             |  0.2s"
       ]
      },
      {
       "output_type": "stream",
       "stream": "stdout",
       "text": [
        "\n",
        "    77  |  \u001b[94m  0.027206\u001b[0m  |  \u001b[32m  0.029706\u001b[0m  |     0.915839  |             |  0.2s"
       ]
      },
      {
       "output_type": "stream",
       "stream": "stdout",
       "text": [
        "\n",
        "    78  |  \u001b[94m  0.027160\u001b[0m  |  \u001b[32m  0.029684\u001b[0m  |     0.914944  |             |  0.2s"
       ]
      },
      {
       "output_type": "stream",
       "stream": "stdout",
       "text": [
        "\n",
        "    79  |  \u001b[94m  0.027113\u001b[0m  |  \u001b[32m  0.029663\u001b[0m  |     0.914051  |             |  0.2s"
       ]
      },
      {
       "output_type": "stream",
       "stream": "stdout",
       "text": [
        "\n",
        "    80  |  \u001b[94m  0.027067\u001b[0m  |  \u001b[32m  0.029642\u001b[0m  |     0.913152  |             |  0.2s"
       ]
      },
      {
       "output_type": "stream",
       "stream": "stdout",
       "text": [
        "\n",
        "    81  |  \u001b[94m  0.027021\u001b[0m  |  \u001b[32m  0.029620\u001b[0m  |     0.912262  |             |  0.2s"
       ]
      },
      {
       "output_type": "stream",
       "stream": "stdout",
       "text": [
        "\n",
        "    82  |  \u001b[94m  0.026975\u001b[0m  |  \u001b[32m  0.029599\u001b[0m  |     0.911367  |             |  0.2s"
       ]
      },
      {
       "output_type": "stream",
       "stream": "stdout",
       "text": [
        "\n",
        "    83  |  \u001b[94m  0.026930\u001b[0m  |  \u001b[32m  0.029577\u001b[0m  |     0.910479  |             |  0.2s"
       ]
      },
      {
       "output_type": "stream",
       "stream": "stdout",
       "text": [
        "\n",
        "    84  |  \u001b[94m  0.026884\u001b[0m  |  \u001b[32m  0.029556\u001b[0m  |     0.909596  |             |  0.2s"
       ]
      },
      {
       "output_type": "stream",
       "stream": "stdout",
       "text": [
        "\n",
        "    85  |  \u001b[94m  0.026838\u001b[0m  |  \u001b[32m  0.029534\u001b[0m  |     0.908722  |             |  0.2s"
       ]
      },
      {
       "output_type": "stream",
       "stream": "stdout",
       "text": [
        "\n",
        "    86  |  \u001b[94m  0.026793\u001b[0m  |  \u001b[32m  0.029513\u001b[0m  |     0.907838  |             |  0.2s"
       ]
      },
      {
       "output_type": "stream",
       "stream": "stdout",
       "text": [
        "\n",
        "    87  |  \u001b[94m  0.026748\u001b[0m  |  \u001b[32m  0.029491\u001b[0m  |     0.906963  |             |  0.2s"
       ]
      },
      {
       "output_type": "stream",
       "stream": "stdout",
       "text": [
        "\n",
        "    88  |  \u001b[94m  0.026703\u001b[0m  |  \u001b[32m  0.029470\u001b[0m  |     0.906087  |             |  0.2s"
       ]
      },
      {
       "output_type": "stream",
       "stream": "stdout",
       "text": [
        "\n",
        "    89  |  \u001b[94m  0.026658\u001b[0m  |  \u001b[32m  0.029449\u001b[0m  |     0.905212  |             |  0.2s"
       ]
      },
      {
       "output_type": "stream",
       "stream": "stdout",
       "text": [
        "\n",
        "    90  |  \u001b[94m  0.026613\u001b[0m  |  \u001b[32m  0.029428\u001b[0m  |     0.904346  |             |  0.2s"
       ]
      },
      {
       "output_type": "stream",
       "stream": "stdout",
       "text": [
        "\n",
        "    91  |  \u001b[94m  0.026568\u001b[0m  |  \u001b[32m  0.029407\u001b[0m  |     0.903471  |             |  0.2s"
       ]
      },
      {
       "output_type": "stream",
       "stream": "stdout",
       "text": [
        "\n",
        "    92  |  \u001b[94m  0.026524\u001b[0m  |  \u001b[32m  0.029386\u001b[0m  |     0.902602  |             |  0.2s"
       ]
      },
      {
       "output_type": "stream",
       "stream": "stdout",
       "text": [
        "\n",
        "    93  |  \u001b[94m  0.026480\u001b[0m  |  \u001b[32m  0.029366\u001b[0m  |     0.901726  |             |  0.2s"
       ]
      },
      {
       "output_type": "stream",
       "stream": "stdout",
       "text": [
        "\n",
        "    94  |  \u001b[94m  0.026436\u001b[0m  |  \u001b[32m  0.029345\u001b[0m  |     0.900866  |             |  0.2s"
       ]
      },
      {
       "output_type": "stream",
       "stream": "stdout",
       "text": [
        "\n",
        "    95  |  \u001b[94m  0.026392\u001b[0m  |  \u001b[32m  0.029324\u001b[0m  |     0.900002  |             |  0.2s"
       ]
      },
      {
       "output_type": "stream",
       "stream": "stdout",
       "text": [
        "\n",
        "    96  |  \u001b[94m  0.026348\u001b[0m  |  \u001b[32m  0.029304\u001b[0m  |     0.899144  |             |  0.2s"
       ]
      },
      {
       "output_type": "stream",
       "stream": "stdout",
       "text": [
        "\n",
        "    97  |  \u001b[94m  0.026305\u001b[0m  |  \u001b[32m  0.029284\u001b[0m  |     0.898276  |             |  0.2s"
       ]
      },
      {
       "output_type": "stream",
       "stream": "stdout",
       "text": [
        "\n",
        "    98  |  \u001b[94m  0.026261\u001b[0m  |  \u001b[32m  0.029263\u001b[0m  |     0.897421  |             |  0.2s"
       ]
      },
      {
       "output_type": "stream",
       "stream": "stdout",
       "text": [
        "\n",
        "    99  |  \u001b[94m  0.026218\u001b[0m  |  \u001b[32m  0.029243\u001b[0m  |     0.896561  |             |  0.2s"
       ]
      },
      {
       "output_type": "stream",
       "stream": "stdout",
       "text": [
        "\n",
        "   100  |  \u001b[94m  0.026175\u001b[0m  |  \u001b[32m  0.029223\u001b[0m  |     0.895714  |             |  0.2s"
       ]
      },
      {
       "output_type": "stream",
       "stream": "stdout",
       "text": [
        "\n",
        "   101  |  \u001b[94m  0.026133\u001b[0m  |  \u001b[32m  0.029203\u001b[0m  |     0.894876  |             |  0.2s"
       ]
      },
      {
       "output_type": "stream",
       "stream": "stdout",
       "text": [
        "\n",
        "   102  |  \u001b[94m  0.026090\u001b[0m  |  \u001b[32m  0.029183\u001b[0m  |     0.894037  |             |  0.2s"
       ]
      },
      {
       "output_type": "stream",
       "stream": "stdout",
       "text": [
        "\n",
        "   103  |  \u001b[94m  0.026048\u001b[0m  |  \u001b[32m  0.029163\u001b[0m  |     0.893195  |             |  0.2s"
       ]
      },
      {
       "output_type": "stream",
       "stream": "stdout",
       "text": [
        "\n",
        "   104  |  \u001b[94m  0.026006\u001b[0m  |  \u001b[32m  0.029143\u001b[0m  |     0.892363  |             |  0.2s"
       ]
      },
      {
       "output_type": "stream",
       "stream": "stdout",
       "text": [
        "\n",
        "   105  |  \u001b[94m  0.025964\u001b[0m  |  \u001b[32m  0.029123\u001b[0m  |     0.891526  |             |  0.2s"
       ]
      },
      {
       "output_type": "stream",
       "stream": "stdout",
       "text": [
        "\n",
        "   106  |  \u001b[94m  0.025923\u001b[0m  |  \u001b[32m  0.029104\u001b[0m  |     0.890685  |             |  0.2s"
       ]
      },
      {
       "output_type": "stream",
       "stream": "stdout",
       "text": [
        "\n",
        "   107  |  \u001b[94m  0.025881\u001b[0m  |  \u001b[32m  0.029085\u001b[0m  |     0.889844  |             |  0.2s"
       ]
      },
      {
       "output_type": "stream",
       "stream": "stdout",
       "text": [
        "\n",
        "   108  |  \u001b[94m  0.025840\u001b[0m  |  \u001b[32m  0.029066\u001b[0m  |     0.889004  |             |  0.2s"
       ]
      },
      {
       "output_type": "stream",
       "stream": "stdout",
       "text": [
        "\n",
        "   109  |  \u001b[94m  0.025798\u001b[0m  |  \u001b[32m  0.029047\u001b[0m  |     0.888166  |             |  0.2s"
       ]
      },
      {
       "output_type": "stream",
       "stream": "stdout",
       "text": [
        "\n",
        "   110  |  \u001b[94m  0.025757\u001b[0m  |  \u001b[32m  0.029028\u001b[0m  |     0.887335  |             |  0.2s"
       ]
      },
      {
       "output_type": "stream",
       "stream": "stdout",
       "text": [
        "\n",
        "   111  |  \u001b[94m  0.025716\u001b[0m  |  \u001b[32m  0.029009\u001b[0m  |     0.886499  |             |  0.2s"
       ]
      },
      {
       "output_type": "stream",
       "stream": "stdout",
       "text": [
        "\n",
        "   112  |  \u001b[94m  0.025675\u001b[0m  |  \u001b[32m  0.028990\u001b[0m  |     0.885672  |             |  0.2s"
       ]
      },
      {
       "output_type": "stream",
       "stream": "stdout",
       "text": [
        "\n",
        "   113  |  \u001b[94m  0.025634\u001b[0m  |  \u001b[32m  0.028971\u001b[0m  |     0.884836  |             |  0.2s"
       ]
      },
      {
       "output_type": "stream",
       "stream": "stdout",
       "text": [
        "\n",
        "   114  |  \u001b[94m  0.025594\u001b[0m  |  \u001b[32m  0.028953\u001b[0m  |     0.883996  |             |  0.2s"
       ]
      },
      {
       "output_type": "stream",
       "stream": "stdout",
       "text": [
        "\n",
        "   115  |  \u001b[94m  0.025553\u001b[0m  |  \u001b[32m  0.028934\u001b[0m  |     0.883167  |             |  0.2s"
       ]
      },
      {
       "output_type": "stream",
       "stream": "stdout",
       "text": [
        "\n",
        "   116  |  \u001b[94m  0.025513\u001b[0m  |  \u001b[32m  0.028916\u001b[0m  |     0.882330  |             |  0.2s"
       ]
      },
      {
       "output_type": "stream",
       "stream": "stdout",
       "text": [
        "\n",
        "   117  |  \u001b[94m  0.025473\u001b[0m  |  \u001b[32m  0.028898\u001b[0m  |     0.881502  |             |  0.2s"
       ]
      },
      {
       "output_type": "stream",
       "stream": "stdout",
       "text": [
        "\n",
        "   118  |  \u001b[94m  0.025433\u001b[0m  |  \u001b[32m  0.028880\u001b[0m  |     0.880668  |             |  0.2s"
       ]
      },
      {
       "output_type": "stream",
       "stream": "stdout",
       "text": [
        "\n",
        "   119  |  \u001b[94m  0.025394\u001b[0m  |  \u001b[32m  0.028862\u001b[0m  |     0.879841  |             |  0.2s"
       ]
      },
      {
       "output_type": "stream",
       "stream": "stdout",
       "text": [
        "\n",
        "   120  |  \u001b[94m  0.025354\u001b[0m  |  \u001b[32m  0.028844\u001b[0m  |     0.879015  |             |  0.2s"
       ]
      },
      {
       "output_type": "stream",
       "stream": "stdout",
       "text": [
        "\n",
        "   121  |  \u001b[94m  0.025315\u001b[0m  |  \u001b[32m  0.028826\u001b[0m  |     0.878192  |             |  0.2s"
       ]
      },
      {
       "output_type": "stream",
       "stream": "stdout",
       "text": [
        "\n",
        "   122  |  \u001b[94m  0.025275\u001b[0m  |  \u001b[32m  0.028808\u001b[0m  |     0.877376  |             |  0.2s"
       ]
      },
      {
       "output_type": "stream",
       "stream": "stdout",
       "text": [
        "\n",
        "   123  |  \u001b[94m  0.025236\u001b[0m  |  \u001b[32m  0.028790\u001b[0m  |     0.876556  |             |  0.2s"
       ]
      },
      {
       "output_type": "stream",
       "stream": "stdout",
       "text": [
        "\n",
        "   124  |  \u001b[94m  0.025198\u001b[0m  |  \u001b[32m  0.028773\u001b[0m  |     0.875747  |             |  0.2s"
       ]
      },
      {
       "output_type": "stream",
       "stream": "stdout",
       "text": [
        "\n",
        "   125  |  \u001b[94m  0.025159\u001b[0m  |  \u001b[32m  0.028755\u001b[0m  |     0.874939  |             |  0.2s"
       ]
      },
      {
       "output_type": "stream",
       "stream": "stdout",
       "text": [
        "\n",
        "   126  |  \u001b[94m  0.025120\u001b[0m  |  \u001b[32m  0.028738\u001b[0m  |     0.874122  |             |  0.2s"
       ]
      },
      {
       "output_type": "stream",
       "stream": "stdout",
       "text": [
        "\n",
        "   127  |  \u001b[94m  0.025082\u001b[0m  |  \u001b[32m  0.028721\u001b[0m  |     0.873304  |             |  0.2s"
       ]
      },
      {
       "output_type": "stream",
       "stream": "stdout",
       "text": [
        "\n",
        "   128  |  \u001b[94m  0.025044\u001b[0m  |  \u001b[32m  0.028704\u001b[0m  |     0.872486  |             |  0.2s"
       ]
      },
      {
       "output_type": "stream",
       "stream": "stdout",
       "text": [
        "\n",
        "   129  |  \u001b[94m  0.025005\u001b[0m  |  \u001b[32m  0.028687\u001b[0m  |     0.871674  |             |  0.2s"
       ]
      },
      {
       "output_type": "stream",
       "stream": "stdout",
       "text": [
        "\n",
        "   130  |  \u001b[94m  0.024967\u001b[0m  |  \u001b[32m  0.028670\u001b[0m  |     0.870857  |             |  0.2s"
       ]
      },
      {
       "output_type": "stream",
       "stream": "stdout",
       "text": [
        "\n",
        "   131  |  \u001b[94m  0.024929\u001b[0m  |  \u001b[32m  0.028653\u001b[0m  |     0.870049  |             |  0.2s"
       ]
      },
      {
       "output_type": "stream",
       "stream": "stdout",
       "text": [
        "\n",
        "   132  |  \u001b[94m  0.024892\u001b[0m  |  \u001b[32m  0.028636\u001b[0m  |     0.869237  |             |  0.2s"
       ]
      },
      {
       "output_type": "stream",
       "stream": "stdout",
       "text": [
        "\n",
        "   133  |  \u001b[94m  0.024854\u001b[0m  |  \u001b[32m  0.028620\u001b[0m  |     0.868419  |             |  0.2s"
       ]
      },
      {
       "output_type": "stream",
       "stream": "stdout",
       "text": [
        "\n",
        "   134  |  \u001b[94m  0.024817\u001b[0m  |  \u001b[32m  0.028603\u001b[0m  |     0.867614  |             |  0.2s"
       ]
      },
      {
       "output_type": "stream",
       "stream": "stdout",
       "text": [
        "\n",
        "   135  |  \u001b[94m  0.024779\u001b[0m  |  \u001b[32m  0.028588\u001b[0m  |     0.866791  |             |  0.2s"
       ]
      },
      {
       "output_type": "stream",
       "stream": "stdout",
       "text": [
        "\n",
        "   136  |  \u001b[94m  0.024742\u001b[0m  |  \u001b[32m  0.028571\u001b[0m  |     0.865987  |             |  0.2s"
       ]
      },
      {
       "output_type": "stream",
       "stream": "stdout",
       "text": [
        "\n",
        "   137  |  \u001b[94m  0.024706\u001b[0m  |  \u001b[32m  0.028556\u001b[0m  |     0.865173  |             |  0.2s"
       ]
      },
      {
       "output_type": "stream",
       "stream": "stdout",
       "text": [
        "\n",
        "   138  |  \u001b[94m  0.024669\u001b[0m  |  \u001b[32m  0.028540\u001b[0m  |     0.864373  |             |  0.2s"
       ]
      },
      {
       "output_type": "stream",
       "stream": "stdout",
       "text": [
        "\n",
        "   139  |  \u001b[94m  0.024632\u001b[0m  |  \u001b[32m  0.028524\u001b[0m  |     0.863568  |             |  0.2s"
       ]
      },
      {
       "output_type": "stream",
       "stream": "stdout",
       "text": [
        "\n",
        "   140  |  \u001b[94m  0.024596\u001b[0m  |  \u001b[32m  0.028508\u001b[0m  |     0.862761  |             |  0.2s"
       ]
      },
      {
       "output_type": "stream",
       "stream": "stdout",
       "text": [
        "\n",
        "   141  |  \u001b[94m  0.024560\u001b[0m  |  \u001b[32m  0.028493\u001b[0m  |     0.861958  |             |  0.2s"
       ]
      },
      {
       "output_type": "stream",
       "stream": "stdout",
       "text": [
        "\n",
        "   142  |  \u001b[94m  0.024524\u001b[0m  |  \u001b[32m  0.028477\u001b[0m  |     0.861161  |             |  0.2s"
       ]
      },
      {
       "output_type": "stream",
       "stream": "stdout",
       "text": [
        "\n",
        "   143  |  \u001b[94m  0.024488\u001b[0m  |  \u001b[32m  0.028462\u001b[0m  |     0.860361  |             |  0.2s"
       ]
      },
      {
       "output_type": "stream",
       "stream": "stdout",
       "text": [
        "\n",
        "   144  |  \u001b[94m  0.024452\u001b[0m  |  \u001b[32m  0.028447\u001b[0m  |     0.859573  |             |  0.2s"
       ]
      },
      {
       "output_type": "stream",
       "stream": "stdout",
       "text": [
        "\n",
        "   145  |  \u001b[94m  0.024416\u001b[0m  |  \u001b[32m  0.028432\u001b[0m  |     0.858770  |             |  0.2s"
       ]
      },
      {
       "output_type": "stream",
       "stream": "stdout",
       "text": [
        "\n",
        "   146  |  \u001b[94m  0.024381\u001b[0m  |  \u001b[32m  0.028417\u001b[0m  |     0.857985  |             |  0.2s"
       ]
      },
      {
       "output_type": "stream",
       "stream": "stdout",
       "text": [
        "\n",
        "   147  |  \u001b[94m  0.024346\u001b[0m  |  \u001b[32m  0.028401\u001b[0m  |     0.857199  |             |  0.2s"
       ]
      },
      {
       "output_type": "stream",
       "stream": "stdout",
       "text": [
        "\n",
        "   148  |  \u001b[94m  0.024310\u001b[0m  |  \u001b[32m  0.028386\u001b[0m  |     0.856414  |             |  0.2s"
       ]
      },
      {
       "output_type": "stream",
       "stream": "stdout",
       "text": [
        "\n",
        "   149  |  \u001b[94m  0.024275\u001b[0m  |  \u001b[32m  0.028371\u001b[0m  |     0.855632  |             |  0.2s"
       ]
      },
      {
       "output_type": "stream",
       "stream": "stdout",
       "text": [
        "\n",
        "   150  |  \u001b[94m  0.024240\u001b[0m  |  \u001b[32m  0.028356\u001b[0m  |     0.854847  |             |  0.2s"
       ]
      },
      {
       "output_type": "stream",
       "stream": "stdout",
       "text": [
        "\n",
        "   151  |  \u001b[94m  0.024206\u001b[0m  |  \u001b[32m  0.028342\u001b[0m  |     0.854062  |             |  0.2s"
       ]
      },
      {
       "output_type": "stream",
       "stream": "stdout",
       "text": [
        "\n",
        "   152  |  \u001b[94m  0.024171\u001b[0m  |  \u001b[32m  0.028327\u001b[0m  |     0.853282  |             |  0.2s"
       ]
      },
      {
       "output_type": "stream",
       "stream": "stdout",
       "text": [
        "\n",
        "   153  |  \u001b[94m  0.024136\u001b[0m  |  \u001b[32m  0.028313\u001b[0m  |     0.852494  |             |  0.2s"
       ]
      },
      {
       "output_type": "stream",
       "stream": "stdout",
       "text": [
        "\n",
        "   154  |  \u001b[94m  0.024102\u001b[0m  |  \u001b[32m  0.028298\u001b[0m  |     0.851713  |             |  0.2s"
       ]
      },
      {
       "output_type": "stream",
       "stream": "stdout",
       "text": [
        "\n",
        "   155  |  \u001b[94m  0.024068\u001b[0m  |  \u001b[32m  0.028284\u001b[0m  |     0.850926  |             |  0.2s"
       ]
      },
      {
       "output_type": "stream",
       "stream": "stdout",
       "text": [
        "\n",
        "   156  |  \u001b[94m  0.024033\u001b[0m  |  \u001b[32m  0.028270\u001b[0m  |     0.850145  |             |  0.2s"
       ]
      },
      {
       "output_type": "stream",
       "stream": "stdout",
       "text": [
        "\n",
        "   157  |  \u001b[94m  0.023999\u001b[0m  |  \u001b[32m  0.028255\u001b[0m  |     0.849376  |             |  0.2s"
       ]
      },
      {
       "output_type": "stream",
       "stream": "stdout",
       "text": [
        "\n",
        "   158  |  \u001b[94m  0.023965\u001b[0m  |  \u001b[32m  0.028241\u001b[0m  |     0.848591  |             |  0.2s"
       ]
      },
      {
       "output_type": "stream",
       "stream": "stdout",
       "text": [
        "\n",
        "   159  |  \u001b[94m  0.023932\u001b[0m  |  \u001b[32m  0.028227\u001b[0m  |     0.847815  |             |  0.2s"
       ]
      },
      {
       "output_type": "stream",
       "stream": "stdout",
       "text": [
        "\n",
        "   160  |  \u001b[94m  0.023898\u001b[0m  |  \u001b[32m  0.028213\u001b[0m  |     0.847037  |             |  0.2s"
       ]
      },
      {
       "output_type": "stream",
       "stream": "stdout",
       "text": [
        "\n",
        "   161  |  \u001b[94m  0.023864\u001b[0m  |  \u001b[32m  0.028200\u001b[0m  |     0.846260  |             |  0.2s"
       ]
      },
      {
       "output_type": "stream",
       "stream": "stdout",
       "text": [
        "\n",
        "   162  |  \u001b[94m  0.023831\u001b[0m  |  \u001b[32m  0.028186\u001b[0m  |     0.845483  |             |  0.2s"
       ]
      },
      {
       "output_type": "stream",
       "stream": "stdout",
       "text": [
        "\n",
        "   163  |  \u001b[94m  0.023797\u001b[0m  |  \u001b[32m  0.028172\u001b[0m  |     0.844705  |             |  0.2s"
       ]
      },
      {
       "output_type": "stream",
       "stream": "stdout",
       "text": [
        "\n",
        "   164  |  \u001b[94m  0.023764\u001b[0m  |  \u001b[32m  0.028159\u001b[0m  |     0.843927  |             |  0.2s"
       ]
      },
      {
       "output_type": "stream",
       "stream": "stdout",
       "text": [
        "\n",
        "   165  |  \u001b[94m  0.023731\u001b[0m  |  \u001b[32m  0.028145\u001b[0m  |     0.843155  |             |  0.2s"
       ]
      },
      {
       "output_type": "stream",
       "stream": "stdout",
       "text": [
        "\n",
        "   166  |  \u001b[94m  0.023698\u001b[0m  |  \u001b[32m  0.028132\u001b[0m  |     0.842377  |             |  0.2s"
       ]
      },
      {
       "output_type": "stream",
       "stream": "stdout",
       "text": [
        "\n",
        "   167  |  \u001b[94m  0.023665\u001b[0m  |  \u001b[32m  0.028118\u001b[0m  |     0.841609  |             |  0.2s"
       ]
      },
      {
       "output_type": "stream",
       "stream": "stdout",
       "text": [
        "\n",
        "   168  |  \u001b[94m  0.023632\u001b[0m  |  \u001b[32m  0.028105\u001b[0m  |     0.840837  |             |  0.2s"
       ]
      },
      {
       "output_type": "stream",
       "stream": "stdout",
       "text": [
        "\n",
        "   169  |  \u001b[94m  0.023599\u001b[0m  |  \u001b[32m  0.028092\u001b[0m  |     0.840070  |             |  0.2s"
       ]
      },
      {
       "output_type": "stream",
       "stream": "stdout",
       "text": [
        "\n",
        "   170  |  \u001b[94m  0.023566\u001b[0m  |  \u001b[32m  0.028079\u001b[0m  |     0.839289  |             |  0.2s"
       ]
      },
      {
       "output_type": "stream",
       "stream": "stdout",
       "text": [
        "\n",
        "   171  |  \u001b[94m  0.023534\u001b[0m  |  \u001b[32m  0.028066\u001b[0m  |     0.838528  |             |  0.2s"
       ]
      },
      {
       "output_type": "stream",
       "stream": "stdout",
       "text": [
        "\n",
        "   172  |  \u001b[94m  0.023501\u001b[0m  |  \u001b[32m  0.028053\u001b[0m  |     0.837752  |             |  0.2s"
       ]
      },
      {
       "output_type": "stream",
       "stream": "stdout",
       "text": [
        "\n",
        "   173  |  \u001b[94m  0.023469\u001b[0m  |  \u001b[32m  0.028040\u001b[0m  |     0.836980  |             |  0.2s"
       ]
      },
      {
       "output_type": "stream",
       "stream": "stdout",
       "text": [
        "\n",
        "   174  |  \u001b[94m  0.023437\u001b[0m  |  \u001b[32m  0.028027\u001b[0m  |     0.836212  |             |  0.2s"
       ]
      },
      {
       "output_type": "stream",
       "stream": "stdout",
       "text": [
        "\n",
        "   175  |  \u001b[94m  0.023405\u001b[0m  |  \u001b[32m  0.028015\u001b[0m  |     0.835441  |             |  0.2s"
       ]
      },
      {
       "output_type": "stream",
       "stream": "stdout",
       "text": [
        "\n",
        "   176  |  \u001b[94m  0.023373\u001b[0m  |  \u001b[32m  0.028002\u001b[0m  |     0.834674  |             |  0.2s"
       ]
      },
      {
       "output_type": "stream",
       "stream": "stdout",
       "text": [
        "\n",
        "   177  |  \u001b[94m  0.023341\u001b[0m  |  \u001b[32m  0.027990\u001b[0m  |     0.833905  |             |  0.2s"
       ]
      },
      {
       "output_type": "stream",
       "stream": "stdout",
       "text": [
        "\n",
        "   178  |  \u001b[94m  0.023309\u001b[0m  |  \u001b[32m  0.027977\u001b[0m  |     0.833141  |             |  0.2s"
       ]
      },
      {
       "output_type": "stream",
       "stream": "stdout",
       "text": [
        "\n",
        "   179  |  \u001b[94m  0.023277\u001b[0m  |  \u001b[32m  0.027965\u001b[0m  |     0.832384  |             |  0.2s"
       ]
      },
      {
       "output_type": "stream",
       "stream": "stdout",
       "text": [
        "\n",
        "   180  |  \u001b[94m  0.023246\u001b[0m  |  \u001b[32m  0.027953\u001b[0m  |     0.831611  |             |  0.2s"
       ]
      },
      {
       "output_type": "stream",
       "stream": "stdout",
       "text": [
        "\n",
        "   181  |  \u001b[94m  0.023214\u001b[0m  |  \u001b[32m  0.027940\u001b[0m  |     0.830853  |             |  0.2s"
       ]
      },
      {
       "output_type": "stream",
       "stream": "stdout",
       "text": [
        "\n",
        "   182  |  \u001b[94m  0.023183\u001b[0m  |  \u001b[32m  0.027928\u001b[0m  |     0.830090  |             |  0.2s"
       ]
      },
      {
       "output_type": "stream",
       "stream": "stdout",
       "text": [
        "\n",
        "   183  |  \u001b[94m  0.023152\u001b[0m  |  \u001b[32m  0.027916\u001b[0m  |     0.829322  |             |  0.2s"
       ]
      },
      {
       "output_type": "stream",
       "stream": "stdout",
       "text": [
        "\n",
        "   184  |  \u001b[94m  0.023121\u001b[0m  |  \u001b[32m  0.027905\u001b[0m  |     0.828557  |             |  0.2s"
       ]
      },
      {
       "output_type": "stream",
       "stream": "stdout",
       "text": [
        "\n",
        "   185  |  \u001b[94m  0.023089\u001b[0m  |  \u001b[32m  0.027893\u001b[0m  |     0.827791  |             |  0.2s"
       ]
      },
      {
       "output_type": "stream",
       "stream": "stdout",
       "text": [
        "\n",
        "   186  |  \u001b[94m  0.023058\u001b[0m  |  \u001b[32m  0.027881\u001b[0m  |     0.827034  |             |  0.2s"
       ]
      },
      {
       "output_type": "stream",
       "stream": "stdout",
       "text": [
        "\n",
        "   187  |  \u001b[94m  0.023027\u001b[0m  |  \u001b[32m  0.027869\u001b[0m  |     0.826264  |             |  0.2s"
       ]
      },
      {
       "output_type": "stream",
       "stream": "stdout",
       "text": [
        "\n",
        "   188  |  \u001b[94m  0.022997\u001b[0m  |  \u001b[32m  0.027858\u001b[0m  |     0.825505  |             |  0.2s"
       ]
      },
      {
       "output_type": "stream",
       "stream": "stdout",
       "text": [
        "\n",
        "   189  |  \u001b[94m  0.022966\u001b[0m  |  \u001b[32m  0.027846\u001b[0m  |     0.824739  |             |  0.2s"
       ]
      },
      {
       "output_type": "stream",
       "stream": "stdout",
       "text": [
        "\n",
        "   190  |  \u001b[94m  0.022935\u001b[0m  |  \u001b[32m  0.027835\u001b[0m  |     0.823982  |             |  0.2s"
       ]
      },
      {
       "output_type": "stream",
       "stream": "stdout",
       "text": [
        "\n",
        "   191  |  \u001b[94m  0.022905\u001b[0m  |  \u001b[32m  0.027823\u001b[0m  |     0.823227  |             |  0.2s"
       ]
      },
      {
       "output_type": "stream",
       "stream": "stdout",
       "text": [
        "\n",
        "   192  |  \u001b[94m  0.022874\u001b[0m  |  \u001b[32m  0.027812\u001b[0m  |     0.822466  |             |  0.2s"
       ]
      },
      {
       "output_type": "stream",
       "stream": "stdout",
       "text": [
        "\n",
        "   193  |  \u001b[94m  0.022844\u001b[0m  |  \u001b[32m  0.027800\u001b[0m  |     0.821710  |             |  0.2s"
       ]
      },
      {
       "output_type": "stream",
       "stream": "stdout",
       "text": [
        "\n",
        "   194  |  \u001b[94m  0.022814\u001b[0m  |  \u001b[32m  0.027789\u001b[0m  |     0.820945  |             |  0.2s"
       ]
      },
      {
       "output_type": "stream",
       "stream": "stdout",
       "text": [
        "\n",
        "   195  |  \u001b[94m  0.022783\u001b[0m  |  \u001b[32m  0.027778\u001b[0m  |     0.820190  |             |  0.2s"
       ]
      },
      {
       "output_type": "stream",
       "stream": "stdout",
       "text": [
        "\n",
        "   196  |  \u001b[94m  0.022753\u001b[0m  |  \u001b[32m  0.027767\u001b[0m  |     0.819425  |             |  0.2s"
       ]
      },
      {
       "output_type": "stream",
       "stream": "stdout",
       "text": [
        "\n",
        "   197  |  \u001b[94m  0.022723\u001b[0m  |  \u001b[32m  0.027756\u001b[0m  |     0.818665  |             |  0.2s"
       ]
      },
      {
       "output_type": "stream",
       "stream": "stdout",
       "text": [
        "\n",
        "   198  |  \u001b[94m  0.022693\u001b[0m  |  \u001b[32m  0.027745\u001b[0m  |     0.817905  |             |  0.2s"
       ]
      },
      {
       "output_type": "stream",
       "stream": "stdout",
       "text": [
        "\n",
        "   199  |  \u001b[94m  0.022663\u001b[0m  |  \u001b[32m  0.027734\u001b[0m  |     0.817151  |             |  0.2s"
       ]
      },
      {
       "output_type": "stream",
       "stream": "stdout",
       "text": [
        "\n",
        "   200  |  \u001b[94m  0.022633\u001b[0m  |  \u001b[32m  0.027723\u001b[0m  |     0.816401  |             |  0.2s"
       ]
      },
      {
       "output_type": "stream",
       "stream": "stdout",
       "text": [
        "\n",
        "   201  |  \u001b[94m  0.022604\u001b[0m  |  \u001b[32m  0.027712\u001b[0m  |     0.815656  |             |  0.2s"
       ]
      },
      {
       "output_type": "stream",
       "stream": "stdout",
       "text": [
        "\n",
        "   202  |  \u001b[94m  0.022574\u001b[0m  |  \u001b[32m  0.027702\u001b[0m  |     0.814902  |             |  0.2s"
       ]
      },
      {
       "output_type": "stream",
       "stream": "stdout",
       "text": [
        "\n",
        "   203  |  \u001b[94m  0.022545\u001b[0m  |  \u001b[32m  0.027691\u001b[0m  |     0.814153  |             |  0.2s"
       ]
      },
      {
       "output_type": "stream",
       "stream": "stdout",
       "text": [
        "\n",
        "   204  |  \u001b[94m  0.022516\u001b[0m  |  \u001b[32m  0.027681\u001b[0m  |     0.813402  |             |  0.2s"
       ]
      },
      {
       "output_type": "stream",
       "stream": "stdout",
       "text": [
        "\n",
        "   205  |  \u001b[94m  0.022486\u001b[0m  |  \u001b[32m  0.027670\u001b[0m  |     0.812657  |             |  0.2s"
       ]
      },
      {
       "output_type": "stream",
       "stream": "stdout",
       "text": [
        "\n",
        "   206  |  \u001b[94m  0.022457\u001b[0m  |  \u001b[32m  0.027659\u001b[0m  |     0.811916  |             |  0.2s"
       ]
      },
      {
       "output_type": "stream",
       "stream": "stdout",
       "text": [
        "\n",
        "   207  |  \u001b[94m  0.022428\u001b[0m  |  \u001b[32m  0.027649\u001b[0m  |     0.811177  |             |  0.2s"
       ]
      },
      {
       "output_type": "stream",
       "stream": "stdout",
       "text": [
        "\n",
        "   208  |  \u001b[94m  0.022399\u001b[0m  |  \u001b[32m  0.027638\u001b[0m  |     0.810435  |             |  0.2s"
       ]
      },
      {
       "output_type": "stream",
       "stream": "stdout",
       "text": [
        "\n",
        "   209  |  \u001b[94m  0.022370\u001b[0m  |  \u001b[32m  0.027627\u001b[0m  |     0.809711  |             |  0.2s"
       ]
      },
      {
       "output_type": "stream",
       "stream": "stdout",
       "text": [
        "\n",
        "   210  |  \u001b[94m  0.022341\u001b[0m  |  \u001b[32m  0.027617\u001b[0m  |     0.808972  |             |  0.2s"
       ]
      },
      {
       "output_type": "stream",
       "stream": "stdout",
       "text": [
        "\n",
        "   211  |  \u001b[94m  0.022312\u001b[0m  |  \u001b[32m  0.027606\u001b[0m  |     0.808230  |             |  0.2s"
       ]
      },
      {
       "output_type": "stream",
       "stream": "stdout",
       "text": [
        "\n",
        "   212  |  \u001b[94m  0.022284\u001b[0m  |  \u001b[32m  0.027596\u001b[0m  |     0.807491  |             |  0.2s"
       ]
      },
      {
       "output_type": "stream",
       "stream": "stdout",
       "text": [
        "\n",
        "   213  |  \u001b[94m  0.022255\u001b[0m  |  \u001b[32m  0.027585\u001b[0m  |     0.806762  |             |  0.2s"
       ]
      },
      {
       "output_type": "stream",
       "stream": "stdout",
       "text": [
        "\n",
        "   214  |  \u001b[94m  0.022226\u001b[0m  |  \u001b[32m  0.027575\u001b[0m  |     0.806023  |             |  0.2s"
       ]
      },
      {
       "output_type": "stream",
       "stream": "stdout",
       "text": [
        "\n",
        "   215  |  \u001b[94m  0.022198\u001b[0m  |  \u001b[32m  0.027565\u001b[0m  |     0.805290  |             |  0.2s"
       ]
      },
      {
       "output_type": "stream",
       "stream": "stdout",
       "text": [
        "\n",
        "   216  |  \u001b[94m  0.022169\u001b[0m  |  \u001b[32m  0.027555\u001b[0m  |     0.804557  |             |  0.2s"
       ]
      },
      {
       "output_type": "stream",
       "stream": "stdout",
       "text": [
        "\n",
        "   217  |  \u001b[94m  0.022141\u001b[0m  |  \u001b[32m  0.027544\u001b[0m  |     0.803831  |             |  0.2s"
       ]
      },
      {
       "output_type": "stream",
       "stream": "stdout",
       "text": [
        "\n",
        "   218  |  \u001b[94m  0.022113\u001b[0m  |  \u001b[32m  0.027534\u001b[0m  |     0.803093  |             |  0.2s"
       ]
      },
      {
       "output_type": "stream",
       "stream": "stdout",
       "text": [
        "\n",
        "   219  |  \u001b[94m  0.022085\u001b[0m  |  \u001b[32m  0.027524\u001b[0m  |     0.802380  |             |  0.2s"
       ]
      },
      {
       "output_type": "stream",
       "stream": "stdout",
       "text": [
        "\n",
        "   220  |  \u001b[94m  0.022057\u001b[0m  |  \u001b[32m  0.027514\u001b[0m  |     0.801655  |             |  0.2s"
       ]
      },
      {
       "output_type": "stream",
       "stream": "stdout",
       "text": [
        "\n",
        "   221  |  \u001b[94m  0.022029\u001b[0m  |  \u001b[32m  0.027504\u001b[0m  |     0.800935  |             |  0.2s"
       ]
      },
      {
       "output_type": "stream",
       "stream": "stdout",
       "text": [
        "\n",
        "   222  |  \u001b[94m  0.022001\u001b[0m  |  \u001b[32m  0.027494\u001b[0m  |     0.800212  |             |  0.2s"
       ]
      },
      {
       "output_type": "stream",
       "stream": "stdout",
       "text": [
        "\n",
        "   223  |  \u001b[94m  0.021973\u001b[0m  |  \u001b[32m  0.027484\u001b[0m  |     0.799486  |             |  0.2s"
       ]
      },
      {
       "output_type": "stream",
       "stream": "stdout",
       "text": [
        "\n",
        "   224  |  \u001b[94m  0.021945\u001b[0m  |  \u001b[32m  0.027474\u001b[0m  |     0.798760  |             |  0.2s"
       ]
      },
      {
       "output_type": "stream",
       "stream": "stdout",
       "text": [
        "\n",
        "   225  |  \u001b[94m  0.021918\u001b[0m  |  \u001b[32m  0.027465\u001b[0m  |     0.798032  |             |  0.2s"
       ]
      },
      {
       "output_type": "stream",
       "stream": "stdout",
       "text": [
        "\n",
        "   226  |  \u001b[94m  0.021890\u001b[0m  |  \u001b[32m  0.027455\u001b[0m  |     0.797312  |             |  0.2s"
       ]
      },
      {
       "output_type": "stream",
       "stream": "stdout",
       "text": [
        "\n",
        "   227  |  \u001b[94m  0.021862\u001b[0m  |  \u001b[32m  0.027445\u001b[0m  |     0.796583  |             |  0.2s"
       ]
      },
      {
       "output_type": "stream",
       "stream": "stdout",
       "text": [
        "\n",
        "   228  |  \u001b[94m  0.021835\u001b[0m  |  \u001b[32m  0.027436\u001b[0m  |     0.795860  |             |  0.2s"
       ]
      },
      {
       "output_type": "stream",
       "stream": "stdout",
       "text": [
        "\n",
        "   229  |  \u001b[94m  0.021807\u001b[0m  |  \u001b[32m  0.027426\u001b[0m  |     0.795136  |             |  0.2s"
       ]
      },
      {
       "output_type": "stream",
       "stream": "stdout",
       "text": [
        "\n",
        "   230  |  \u001b[94m  0.021780\u001b[0m  |  \u001b[32m  0.027417\u001b[0m  |     0.794413  |             |  0.2s"
       ]
      },
      {
       "output_type": "stream",
       "stream": "stdout",
       "text": [
        "\n",
        "   231  |  \u001b[94m  0.021753\u001b[0m  |  \u001b[32m  0.027407\u001b[0m  |     0.793693  |             |  0.2s"
       ]
      },
      {
       "output_type": "stream",
       "stream": "stdout",
       "text": [
        "\n",
        "   232  |  \u001b[94m  0.021725\u001b[0m  |  \u001b[32m  0.027398\u001b[0m  |     0.792967  |             |  0.2s"
       ]
      },
      {
       "output_type": "stream",
       "stream": "stdout",
       "text": [
        "\n",
        "   233  |  \u001b[94m  0.021698\u001b[0m  |  \u001b[32m  0.027389\u001b[0m  |     0.792235  |             |  0.2s"
       ]
      },
      {
       "output_type": "stream",
       "stream": "stdout",
       "text": [
        "\n",
        "   234  |  \u001b[94m  0.021671\u001b[0m  |  \u001b[32m  0.027379\u001b[0m  |     0.791512  |             |  0.2s"
       ]
      },
      {
       "output_type": "stream",
       "stream": "stdout",
       "text": [
        "\n",
        "   235  |  \u001b[94m  0.021644\u001b[0m  |  \u001b[32m  0.027370\u001b[0m  |     0.790789  |             |  0.2s"
       ]
      },
      {
       "output_type": "stream",
       "stream": "stdout",
       "text": [
        "\n",
        "   236  |  \u001b[94m  0.021617\u001b[0m  |  \u001b[32m  0.027361\u001b[0m  |     0.790066  |             |  0.2s"
       ]
      },
      {
       "output_type": "stream",
       "stream": "stdout",
       "text": [
        "\n",
        "   237  |  \u001b[94m  0.021590\u001b[0m  |  \u001b[32m  0.027351\u001b[0m  |     0.789342  |             |  0.2s"
       ]
      },
      {
       "output_type": "stream",
       "stream": "stdout",
       "text": [
        "\n",
        "   238  |  \u001b[94m  0.021563\u001b[0m  |  \u001b[32m  0.027342\u001b[0m  |     0.788625  |             |  0.2s"
       ]
      },
      {
       "output_type": "stream",
       "stream": "stdout",
       "text": [
        "\n",
        "   239  |  \u001b[94m  0.021536\u001b[0m  |  \u001b[32m  0.027333\u001b[0m  |     0.787895  |             |  0.2s"
       ]
      },
      {
       "output_type": "stream",
       "stream": "stdout",
       "text": [
        "\n",
        "   240  |  \u001b[94m  0.021509\u001b[0m  |  \u001b[32m  0.027324\u001b[0m  |     0.787166  |             |  0.2s"
       ]
      },
      {
       "output_type": "stream",
       "stream": "stdout",
       "text": [
        "\n",
        "   241  |  \u001b[94m  0.021482\u001b[0m  |  \u001b[32m  0.027315\u001b[0m  |     0.786451  |             |  0.2s"
       ]
      },
      {
       "output_type": "stream",
       "stream": "stdout",
       "text": [
        "\n",
        "   242  |  \u001b[94m  0.021455\u001b[0m  |  \u001b[32m  0.027306\u001b[0m  |     0.785723  |             |  0.2s"
       ]
      },
      {
       "output_type": "stream",
       "stream": "stdout",
       "text": [
        "\n",
        "   243  |  \u001b[94m  0.021429\u001b[0m  |  \u001b[32m  0.027298\u001b[0m  |     0.785000  |             |  0.2s"
       ]
      },
      {
       "output_type": "stream",
       "stream": "stdout",
       "text": [
        "\n",
        "   244  |  \u001b[94m  0.021402\u001b[0m  |  \u001b[32m  0.027289\u001b[0m  |     0.784275  |             |  0.2s"
       ]
      },
      {
       "output_type": "stream",
       "stream": "stdout",
       "text": [
        "\n",
        "   245  |  \u001b[94m  0.021375\u001b[0m  |  \u001b[32m  0.027280\u001b[0m  |     0.783543  |             |  0.2s"
       ]
      },
      {
       "output_type": "stream",
       "stream": "stdout",
       "text": [
        "\n",
        "   246  |  \u001b[94m  0.021349\u001b[0m  |  \u001b[32m  0.027272\u001b[0m  |     0.782828  |             |  0.2s"
       ]
      },
      {
       "output_type": "stream",
       "stream": "stdout",
       "text": [
        "\n",
        "   247  |  \u001b[94m  0.021323\u001b[0m  |  \u001b[32m  0.027263\u001b[0m  |     0.782105  |             |  0.2s"
       ]
      },
      {
       "output_type": "stream",
       "stream": "stdout",
       "text": [
        "\n",
        "   248  |  \u001b[94m  0.021296\u001b[0m  |  \u001b[32m  0.027254\u001b[0m  |     0.781385  |             |  0.2s"
       ]
      },
      {
       "output_type": "stream",
       "stream": "stdout",
       "text": [
        "\n",
        "   249  |  \u001b[94m  0.021270\u001b[0m  |  \u001b[32m  0.027246\u001b[0m  |     0.780671  |             |  0.2s"
       ]
      },
      {
       "output_type": "stream",
       "stream": "stdout",
       "text": [
        "\n",
        "   250  |  \u001b[94m  0.021244\u001b[0m  |  \u001b[32m  0.027237\u001b[0m  |     0.779949  |             |  0.2s"
       ]
      },
      {
       "output_type": "stream",
       "stream": "stdout",
       "text": [
        "\n",
        "   251  |  \u001b[94m  0.021218\u001b[0m  |  \u001b[32m  0.027229\u001b[0m  |     0.779239  |             |  0.2s"
       ]
      },
      {
       "output_type": "stream",
       "stream": "stdout",
       "text": [
        "\n",
        "   252  |  \u001b[94m  0.021192\u001b[0m  |  \u001b[32m  0.027220\u001b[0m  |     0.778521  |             |  0.2s"
       ]
      },
      {
       "output_type": "stream",
       "stream": "stdout",
       "text": [
        "\n",
        "   253  |  \u001b[94m  0.021166\u001b[0m  |  \u001b[32m  0.027212\u001b[0m  |     0.777801  |             |  0.2s"
       ]
      },
      {
       "output_type": "stream",
       "stream": "stdout",
       "text": [
        "\n",
        "   254  |  \u001b[94m  0.021140\u001b[0m  |  \u001b[32m  0.027204\u001b[0m  |     0.777086  |             |  0.2s"
       ]
      },
      {
       "output_type": "stream",
       "stream": "stdout",
       "text": [
        "\n",
        "   255  |  \u001b[94m  0.021114\u001b[0m  |  \u001b[32m  0.027195\u001b[0m  |     0.776380  |             |  0.2s"
       ]
      },
      {
       "output_type": "stream",
       "stream": "stdout",
       "text": [
        "\n",
        "   256  |  \u001b[94m  0.021088\u001b[0m  |  \u001b[32m  0.027187\u001b[0m  |     0.775657  |             |  0.2s"
       ]
      },
      {
       "output_type": "stream",
       "stream": "stdout",
       "text": [
        "\n",
        "   257  |  \u001b[94m  0.021062\u001b[0m  |  \u001b[32m  0.027178\u001b[0m  |     0.774946  |             |  0.2s"
       ]
      },
      {
       "output_type": "stream",
       "stream": "stdout",
       "text": [
        "\n",
        "   258  |  \u001b[94m  0.021036\u001b[0m  |  \u001b[32m  0.027170\u001b[0m  |     0.774230  |             |  0.2s"
       ]
      },
      {
       "output_type": "stream",
       "stream": "stdout",
       "text": [
        "\n",
        "   259  |  \u001b[94m  0.021010\u001b[0m  |  \u001b[32m  0.027162\u001b[0m  |     0.773516  |             |  0.2s"
       ]
      },
      {
       "output_type": "stream",
       "stream": "stdout",
       "text": [
        "\n",
        "   260  |  \u001b[94m  0.020985\u001b[0m  |  \u001b[32m  0.027154\u001b[0m  |     0.772807  |             |  0.2s"
       ]
      },
      {
       "output_type": "stream",
       "stream": "stdout",
       "text": [
        "\n",
        "   261  |  \u001b[94m  0.020959\u001b[0m  |  \u001b[32m  0.027146\u001b[0m  |     0.772095  |             |  0.2s"
       ]
      },
      {
       "output_type": "stream",
       "stream": "stdout",
       "text": [
        "\n",
        "   262  |  \u001b[94m  0.020934\u001b[0m  |  \u001b[32m  0.027138\u001b[0m  |     0.771383  |             |  0.2s"
       ]
      },
      {
       "output_type": "stream",
       "stream": "stdout",
       "text": [
        "\n",
        "   263  |  \u001b[94m  0.020909\u001b[0m  |  \u001b[32m  0.027130\u001b[0m  |     0.770683  |             |  0.2s"
       ]
      },
      {
       "output_type": "stream",
       "stream": "stdout",
       "text": [
        "\n",
        "   264  |  \u001b[94m  0.020883\u001b[0m  |  \u001b[32m  0.027122\u001b[0m  |     0.769969  |             |  0.2s"
       ]
      },
      {
       "output_type": "stream",
       "stream": "stdout",
       "text": [
        "\n",
        "   265  |  \u001b[94m  0.020858\u001b[0m  |  \u001b[32m  0.027114\u001b[0m  |     0.769267  |             |  0.2s"
       ]
      },
      {
       "output_type": "stream",
       "stream": "stdout",
       "text": [
        "\n",
        "   266  |  \u001b[94m  0.020833\u001b[0m  |  \u001b[32m  0.027106\u001b[0m  |     0.768553  |             |  0.2s"
       ]
      },
      {
       "output_type": "stream",
       "stream": "stdout",
       "text": [
        "\n",
        "   267  |  \u001b[94m  0.020807\u001b[0m  |  \u001b[32m  0.027098\u001b[0m  |     0.767849  |             |  0.2s"
       ]
      },
      {
       "output_type": "stream",
       "stream": "stdout",
       "text": [
        "\n",
        "   268  |  \u001b[94m  0.020782\u001b[0m  |  \u001b[32m  0.027091\u001b[0m  |     0.767146  |             |  0.2s"
       ]
      },
      {
       "output_type": "stream",
       "stream": "stdout",
       "text": [
        "\n",
        "   269  |  \u001b[94m  0.020757\u001b[0m  |  \u001b[32m  0.027083\u001b[0m  |     0.766434  |             |  0.2s"
       ]
      },
      {
       "output_type": "stream",
       "stream": "stdout",
       "text": [
        "\n",
        "   270  |  \u001b[94m  0.020732\u001b[0m  |  \u001b[32m  0.027075\u001b[0m  |     0.765728  |             |  0.2s"
       ]
      },
      {
       "output_type": "stream",
       "stream": "stdout",
       "text": [
        "\n",
        "   271  |  \u001b[94m  0.020707\u001b[0m  |  \u001b[32m  0.027067\u001b[0m  |     0.765029  |             |  0.2s"
       ]
      },
      {
       "output_type": "stream",
       "stream": "stdout",
       "text": [
        "\n",
        "   272  |  \u001b[94m  0.020682\u001b[0m  |  \u001b[32m  0.027060\u001b[0m  |     0.764320  |             |  0.2s"
       ]
      },
      {
       "output_type": "stream",
       "stream": "stdout",
       "text": [
        "\n",
        "   273  |  \u001b[94m  0.020657\u001b[0m  |  \u001b[32m  0.027052\u001b[0m  |     0.763625  |             |  0.2s"
       ]
      },
      {
       "output_type": "stream",
       "stream": "stdout",
       "text": [
        "\n",
        "   274  |  \u001b[94m  0.020633\u001b[0m  |  \u001b[32m  0.027044\u001b[0m  |     0.762918  |             |  0.2s"
       ]
      },
      {
       "output_type": "stream",
       "stream": "stdout",
       "text": [
        "\n",
        "   275  |  \u001b[94m  0.020608\u001b[0m  |  \u001b[32m  0.027037\u001b[0m  |     0.762217  |             |  0.2s"
       ]
      },
      {
       "output_type": "stream",
       "stream": "stdout",
       "text": [
        "\n",
        "   276  |  \u001b[94m  0.020583\u001b[0m  |  \u001b[32m  0.027029\u001b[0m  |     0.761515  |             |  0.2s"
       ]
      },
      {
       "output_type": "stream",
       "stream": "stdout",
       "text": [
        "\n",
        "   277  |  \u001b[94m  0.020558\u001b[0m  |  \u001b[32m  0.027022\u001b[0m  |     0.760811  |             |  0.2s"
       ]
      },
      {
       "output_type": "stream",
       "stream": "stdout",
       "text": [
        "\n",
        "   278  |  \u001b[94m  0.020534\u001b[0m  |  \u001b[32m  0.027015\u001b[0m  |     0.760101  |             |  0.2s"
       ]
      },
      {
       "output_type": "stream",
       "stream": "stdout",
       "text": [
        "\n",
        "   279  |  \u001b[94m  0.020509\u001b[0m  |  \u001b[32m  0.027007\u001b[0m  |     0.759408  |             |  0.2s"
       ]
      },
      {
       "output_type": "stream",
       "stream": "stdout",
       "text": [
        "\n",
        "   280  |  \u001b[94m  0.020485\u001b[0m  |  \u001b[32m  0.026999\u001b[0m  |     0.758713  |             |  0.2s"
       ]
      },
      {
       "output_type": "stream",
       "stream": "stdout",
       "text": [
        "\n",
        "   281  |  \u001b[94m  0.020460\u001b[0m  |  \u001b[32m  0.026992\u001b[0m  |     0.758014  |             |  0.2s"
       ]
      },
      {
       "output_type": "stream",
       "stream": "stdout",
       "text": [
        "\n",
        "   282  |  \u001b[94m  0.020436\u001b[0m  |  \u001b[32m  0.026985\u001b[0m  |     0.757315  |             |  0.2s"
       ]
      },
      {
       "output_type": "stream",
       "stream": "stdout",
       "text": [
        "\n",
        "   283  |  \u001b[94m  0.020412\u001b[0m  |  \u001b[32m  0.026977\u001b[0m  |     0.756620  |             |  0.2s"
       ]
      },
      {
       "output_type": "stream",
       "stream": "stdout",
       "text": [
        "\n",
        "   284  |  \u001b[94m  0.020387\u001b[0m  |  \u001b[32m  0.026970\u001b[0m  |     0.755924  |             |  0.2s"
       ]
      },
      {
       "output_type": "stream",
       "stream": "stdout",
       "text": [
        "\n",
        "   285  |  \u001b[94m  0.020363\u001b[0m  |  \u001b[32m  0.026963\u001b[0m  |     0.755228  |             |  0.2s"
       ]
      },
      {
       "output_type": "stream",
       "stream": "stdout",
       "text": [
        "\n",
        "   286  |  \u001b[94m  0.020339\u001b[0m  |  \u001b[32m  0.026955\u001b[0m  |     0.754541  |             |  0.2s"
       ]
      },
      {
       "output_type": "stream",
       "stream": "stdout",
       "text": [
        "\n",
        "   287  |  \u001b[94m  0.020315\u001b[0m  |  \u001b[32m  0.026948\u001b[0m  |     0.753852  |             |  0.2s"
       ]
      },
      {
       "output_type": "stream",
       "stream": "stdout",
       "text": [
        "\n",
        "   288  |  \u001b[94m  0.020291\u001b[0m  |  \u001b[32m  0.026941\u001b[0m  |     0.753159  |             |  0.2s"
       ]
      },
      {
       "output_type": "stream",
       "stream": "stdout",
       "text": [
        "\n",
        "   289  |  \u001b[94m  0.020267\u001b[0m  |  \u001b[32m  0.026933\u001b[0m  |     0.752472  |             |  0.2s"
       ]
      },
      {
       "output_type": "stream",
       "stream": "stdout",
       "text": [
        "\n",
        "   290  |  \u001b[94m  0.020243\u001b[0m  |  \u001b[32m  0.026926\u001b[0m  |     0.751775  |             |  0.2s"
       ]
      },
      {
       "output_type": "stream",
       "stream": "stdout",
       "text": [
        "\n",
        "   291  |  \u001b[94m  0.020219\u001b[0m  |  \u001b[32m  0.026919\u001b[0m  |     0.751084  |             |  0.2s"
       ]
      },
      {
       "output_type": "stream",
       "stream": "stdout",
       "text": [
        "\n",
        "   292  |  \u001b[94m  0.020195\u001b[0m  |  \u001b[32m  0.026913\u001b[0m  |     0.750386  |             |  0.2s"
       ]
      },
      {
       "output_type": "stream",
       "stream": "stdout",
       "text": [
        "\n",
        "   293  |  \u001b[94m  0.020171\u001b[0m  |  \u001b[32m  0.026905\u001b[0m  |     0.749712  |             |  0.2s"
       ]
      },
      {
       "output_type": "stream",
       "stream": "stdout",
       "text": [
        "\n",
        "   294  |  \u001b[94m  0.020147\u001b[0m  |  \u001b[32m  0.026898\u001b[0m  |     0.749014  |             |  0.2s"
       ]
      },
      {
       "output_type": "stream",
       "stream": "stdout",
       "text": [
        "\n",
        "   295  |  \u001b[94m  0.020123\u001b[0m  |  \u001b[32m  0.026891\u001b[0m  |     0.748323  |             |  0.2s"
       ]
      },
      {
       "output_type": "stream",
       "stream": "stdout",
       "text": [
        "\n",
        "   296  |  \u001b[94m  0.020100\u001b[0m  |  \u001b[32m  0.026884\u001b[0m  |     0.747638  |             |  0.2s"
       ]
      },
      {
       "output_type": "stream",
       "stream": "stdout",
       "text": [
        "\n",
        "   297  |  \u001b[94m  0.020076\u001b[0m  |  \u001b[32m  0.026877\u001b[0m  |     0.746961  |             |  0.2s"
       ]
      },
      {
       "output_type": "stream",
       "stream": "stdout",
       "text": [
        "\n",
        "   298  |  \u001b[94m  0.020052\u001b[0m  |  \u001b[32m  0.026870\u001b[0m  |     0.746277  |             |  0.2s"
       ]
      },
      {
       "output_type": "stream",
       "stream": "stdout",
       "text": [
        "\n",
        "   299  |  \u001b[94m  0.020029\u001b[0m  |  \u001b[32m  0.026863\u001b[0m  |     0.745598  |             |  0.2s"
       ]
      },
      {
       "output_type": "stream",
       "stream": "stdout",
       "text": [
        "\n",
        "   300  |  \u001b[94m  0.020005\u001b[0m  |  \u001b[32m  0.026856\u001b[0m  |     0.744914  |             |  0.2s"
       ]
      },
      {
       "output_type": "stream",
       "stream": "stdout",
       "text": [
        "\n",
        "   301  |  \u001b[94m  0.019982\u001b[0m  |  \u001b[32m  0.026849\u001b[0m  |     0.744230  |             |  0.2s"
       ]
      },
      {
       "output_type": "stream",
       "stream": "stdout",
       "text": [
        "\n",
        "   302  |  \u001b[94m  0.019959\u001b[0m  |  \u001b[32m  0.026843\u001b[0m  |     0.743543  |             |  0.2s"
       ]
      },
      {
       "output_type": "stream",
       "stream": "stdout",
       "text": [
        "\n",
        "   303  |  \u001b[94m  0.019935\u001b[0m  |  \u001b[32m  0.026835\u001b[0m  |     0.742871  |             |  0.2s"
       ]
      },
      {
       "output_type": "stream",
       "stream": "stdout",
       "text": [
        "\n",
        "   304  |  \u001b[94m  0.019912\u001b[0m  |  \u001b[32m  0.026828\u001b[0m  |     0.742198  |             |  0.2s"
       ]
      },
      {
       "output_type": "stream",
       "stream": "stdout",
       "text": [
        "\n",
        "   305  |  \u001b[94m  0.019889\u001b[0m  |  \u001b[32m  0.026822\u001b[0m  |     0.741513  |             |  0.2s"
       ]
      },
      {
       "output_type": "stream",
       "stream": "stdout",
       "text": [
        "\n",
        "   306  |  \u001b[94m  0.019866\u001b[0m  |  \u001b[32m  0.026815\u001b[0m  |     0.740838  |             |  0.2s"
       ]
      },
      {
       "output_type": "stream",
       "stream": "stdout",
       "text": [
        "\n",
        "   307  |  \u001b[94m  0.019842\u001b[0m  |  \u001b[32m  0.026808\u001b[0m  |     0.740164  |             |  0.2s"
       ]
      },
      {
       "output_type": "stream",
       "stream": "stdout",
       "text": [
        "\n",
        "   308  |  \u001b[94m  0.019819\u001b[0m  |  \u001b[32m  0.026801\u001b[0m  |     0.739493  |             |  0.2s"
       ]
      },
      {
       "output_type": "stream",
       "stream": "stdout",
       "text": [
        "\n",
        "   309  |  \u001b[94m  0.019796\u001b[0m  |  \u001b[32m  0.026795\u001b[0m  |     0.738816  |             |  0.2s"
       ]
      },
      {
       "output_type": "stream",
       "stream": "stdout",
       "text": [
        "\n",
        "   310  |  \u001b[94m  0.019773\u001b[0m  |  \u001b[32m  0.026788\u001b[0m  |     0.738144  |             |  0.2s"
       ]
      },
      {
       "output_type": "stream",
       "stream": "stdout",
       "text": [
        "\n",
        "   311  |  \u001b[94m  0.019750\u001b[0m  |  \u001b[32m  0.026781\u001b[0m  |     0.737477  |             |  0.2s"
       ]
      },
      {
       "output_type": "stream",
       "stream": "stdout",
       "text": [
        "\n",
        "   312  |  \u001b[94m  0.019728\u001b[0m  |  \u001b[32m  0.026775\u001b[0m  |     0.736799  |             |  0.2s"
       ]
      },
      {
       "output_type": "stream",
       "stream": "stdout",
       "text": [
        "\n",
        "   313  |  \u001b[94m  0.019705\u001b[0m  |  \u001b[32m  0.026768\u001b[0m  |     0.736125  |             |  0.2s"
       ]
      },
      {
       "output_type": "stream",
       "stream": "stdout",
       "text": [
        "\n",
        "   314  |  \u001b[94m  0.019682\u001b[0m  |  \u001b[32m  0.026762\u001b[0m  |     0.735452  |             |  0.2s"
       ]
      },
      {
       "output_type": "stream",
       "stream": "stdout",
       "text": [
        "\n",
        "   315  |  \u001b[94m  0.019659\u001b[0m  |  \u001b[32m  0.026755\u001b[0m  |     0.734779  |             |  0.2s"
       ]
      },
      {
       "output_type": "stream",
       "stream": "stdout",
       "text": [
        "\n",
        "   316  |  \u001b[94m  0.019636\u001b[0m  |  \u001b[32m  0.026749\u001b[0m  |     0.734104  |             |  0.2s"
       ]
      },
      {
       "output_type": "stream",
       "stream": "stdout",
       "text": [
        "\n",
        "   317  |  \u001b[94m  0.019614\u001b[0m  |  \u001b[32m  0.026742\u001b[0m  |     0.733446  |             |  0.2s"
       ]
      },
      {
       "output_type": "stream",
       "stream": "stdout",
       "text": [
        "\n",
        "   318  |  \u001b[94m  0.019591\u001b[0m  |  \u001b[32m  0.026736\u001b[0m  |     0.732772  |             |  0.2s"
       ]
      },
      {
       "output_type": "stream",
       "stream": "stdout",
       "text": [
        "\n",
        "   319  |  \u001b[94m  0.019569\u001b[0m  |  \u001b[32m  0.026729\u001b[0m  |     0.732109  |             |  0.2s"
       ]
      },
      {
       "output_type": "stream",
       "stream": "stdout",
       "text": [
        "\n",
        "   320  |  \u001b[94m  0.019546\u001b[0m  |  \u001b[32m  0.026723\u001b[0m  |     0.731432  |             |  0.2s"
       ]
      },
      {
       "output_type": "stream",
       "stream": "stdout",
       "text": [
        "\n",
        "   321  |  \u001b[94m  0.019524\u001b[0m  |  \u001b[32m  0.026717\u001b[0m  |     0.730765  |             |  0.2s"
       ]
      },
      {
       "output_type": "stream",
       "stream": "stdout",
       "text": [
        "\n",
        "   322  |  \u001b[94m  0.019501\u001b[0m  |  \u001b[32m  0.026710\u001b[0m  |     0.730104  |             |  0.2s"
       ]
      },
      {
       "output_type": "stream",
       "stream": "stdout",
       "text": [
        "\n",
        "   323  |  \u001b[94m  0.019479\u001b[0m  |  \u001b[32m  0.026704\u001b[0m  |     0.729428  |             |  0.2s"
       ]
      },
      {
       "output_type": "stream",
       "stream": "stdout",
       "text": [
        "\n",
        "   324  |  \u001b[94m  0.019456\u001b[0m  |  \u001b[32m  0.026698\u001b[0m  |     0.728771  |             |  0.2s"
       ]
      },
      {
       "output_type": "stream",
       "stream": "stdout",
       "text": [
        "\n",
        "   325  |  \u001b[94m  0.019434\u001b[0m  |  \u001b[32m  0.026691\u001b[0m  |     0.728099  |             |  0.2s"
       ]
      },
      {
       "output_type": "stream",
       "stream": "stdout",
       "text": [
        "\n",
        "   326  |  \u001b[94m  0.019412\u001b[0m  |  \u001b[32m  0.026685\u001b[0m  |     0.727440  |             |  0.2s"
       ]
      },
      {
       "output_type": "stream",
       "stream": "stdout",
       "text": [
        "\n",
        "   327  |  \u001b[94m  0.019390\u001b[0m  |  \u001b[32m  0.026679\u001b[0m  |     0.726778  |             |  0.2s"
       ]
      },
      {
       "output_type": "stream",
       "stream": "stdout",
       "text": [
        "\n",
        "   328  |  \u001b[94m  0.019367\u001b[0m  |  \u001b[32m  0.026673\u001b[0m  |     0.726113  |             |  0.2s"
       ]
      },
      {
       "output_type": "stream",
       "stream": "stdout",
       "text": [
        "\n",
        "   329  |  \u001b[94m  0.019345\u001b[0m  |  \u001b[32m  0.026667\u001b[0m  |     0.725446  |             |  0.2s"
       ]
      },
      {
       "output_type": "stream",
       "stream": "stdout",
       "text": [
        "\n",
        "   330  |  \u001b[94m  0.019323\u001b[0m  |  \u001b[32m  0.026660\u001b[0m  |     0.724797  |             |  0.2s"
       ]
      },
      {
       "output_type": "stream",
       "stream": "stdout",
       "text": [
        "\n",
        "   331  |  \u001b[94m  0.019301\u001b[0m  |  \u001b[32m  0.026654\u001b[0m  |     0.724129  |             |  0.2s"
       ]
      },
      {
       "output_type": "stream",
       "stream": "stdout",
       "text": [
        "\n",
        "   332  |  \u001b[94m  0.019279\u001b[0m  |  \u001b[32m  0.026648\u001b[0m  |     0.723476  |             |  0.2s"
       ]
      },
      {
       "output_type": "stream",
       "stream": "stdout",
       "text": [
        "\n",
        "   333  |  \u001b[94m  0.019257\u001b[0m  |  \u001b[32m  0.026642\u001b[0m  |     0.722815  |             |  0.2s"
       ]
      },
      {
       "output_type": "stream",
       "stream": "stdout",
       "text": [
        "\n",
        "   334  |  \u001b[94m  0.019235\u001b[0m  |  \u001b[32m  0.026636\u001b[0m  |     0.722158  |             |  0.2s"
       ]
      },
      {
       "output_type": "stream",
       "stream": "stdout",
       "text": [
        "\n",
        "   335  |  \u001b[94m  0.019214\u001b[0m  |  \u001b[32m  0.026630\u001b[0m  |     0.721499  |             |  0.2s"
       ]
      },
      {
       "output_type": "stream",
       "stream": "stdout",
       "text": [
        "\n",
        "   336  |  \u001b[94m  0.019192\u001b[0m  |  \u001b[32m  0.026624\u001b[0m  |     0.720844  |             |  0.2s"
       ]
      },
      {
       "output_type": "stream",
       "stream": "stdout",
       "text": [
        "\n",
        "   337  |  \u001b[94m  0.019170\u001b[0m  |  \u001b[32m  0.026618\u001b[0m  |     0.720191  |             |  0.2s"
       ]
      },
      {
       "output_type": "stream",
       "stream": "stdout",
       "text": [
        "\n",
        "   338  |  \u001b[94m  0.019148\u001b[0m  |  \u001b[32m  0.026612\u001b[0m  |     0.719538  |             |  0.2s"
       ]
      },
      {
       "output_type": "stream",
       "stream": "stdout",
       "text": [
        "\n",
        "   339  |  \u001b[94m  0.019127\u001b[0m  |  \u001b[32m  0.026606\u001b[0m  |     0.718881  |             |  0.2s"
       ]
      },
      {
       "output_type": "stream",
       "stream": "stdout",
       "text": [
        "\n",
        "   340  |  \u001b[94m  0.019105\u001b[0m  |  \u001b[32m  0.026600\u001b[0m  |     0.718229  |             |  0.2s"
       ]
      },
      {
       "output_type": "stream",
       "stream": "stdout",
       "text": [
        "\n",
        "   341  |  \u001b[94m  0.019084\u001b[0m  |  \u001b[32m  0.026595\u001b[0m  |     0.717579  |             |  0.2s"
       ]
      },
      {
       "output_type": "stream",
       "stream": "stdout",
       "text": [
        "\n",
        "   342  |  \u001b[94m  0.019062\u001b[0m  |  \u001b[32m  0.026589\u001b[0m  |     0.716931  |             |  0.2s"
       ]
      },
      {
       "output_type": "stream",
       "stream": "stdout",
       "text": [
        "\n",
        "   343  |  \u001b[94m  0.019041\u001b[0m  |  \u001b[32m  0.026583\u001b[0m  |     0.716276  |             |  0.2s"
       ]
      },
      {
       "output_type": "stream",
       "stream": "stdout",
       "text": [
        "\n",
        "   344  |  \u001b[94m  0.019019\u001b[0m  |  \u001b[32m  0.026577\u001b[0m  |     0.715629  |             |  0.2s"
       ]
      },
      {
       "output_type": "stream",
       "stream": "stdout",
       "text": [
        "\n",
        "   345  |  \u001b[94m  0.018998\u001b[0m  |  \u001b[32m  0.026571\u001b[0m  |     0.714977  |             |  0.2s"
       ]
      },
      {
       "output_type": "stream",
       "stream": "stdout",
       "text": [
        "\n",
        "   346  |  \u001b[94m  0.018977\u001b[0m  |  \u001b[32m  0.026566\u001b[0m  |     0.714327  |             |  0.2s"
       ]
      },
      {
       "output_type": "stream",
       "stream": "stdout",
       "text": [
        "\n",
        "   347  |  \u001b[94m  0.018955\u001b[0m  |  \u001b[32m  0.026560\u001b[0m  |     0.713674  |             |  0.2s"
       ]
      },
      {
       "output_type": "stream",
       "stream": "stdout",
       "text": [
        "\n",
        "   348  |  \u001b[94m  0.018934\u001b[0m  |  \u001b[32m  0.026554\u001b[0m  |     0.713026  |             |  0.2s"
       ]
      },
      {
       "output_type": "stream",
       "stream": "stdout",
       "text": [
        "\n",
        "   349  |  \u001b[94m  0.018913\u001b[0m  |  \u001b[32m  0.026549\u001b[0m  |     0.712380  |             |  0.2s"
       ]
      },
      {
       "output_type": "stream",
       "stream": "stdout",
       "text": [
        "\n",
        "   350  |  \u001b[94m  0.018892\u001b[0m  |  \u001b[32m  0.026543\u001b[0m  |     0.711730  |             |  0.2s"
       ]
      },
      {
       "output_type": "stream",
       "stream": "stdout",
       "text": [
        "\n",
        "   351  |  \u001b[94m  0.018870\u001b[0m  |  \u001b[32m  0.026537\u001b[0m  |     0.711085  |             |  0.2s"
       ]
      },
      {
       "output_type": "stream",
       "stream": "stdout",
       "text": [
        "\n",
        "   352  |  \u001b[94m  0.018849\u001b[0m  |  \u001b[32m  0.026532\u001b[0m  |     0.710435  |             |  0.2s"
       ]
      },
      {
       "output_type": "stream",
       "stream": "stdout",
       "text": [
        "\n",
        "   353  |  \u001b[94m  0.018828\u001b[0m  |  \u001b[32m  0.026527\u001b[0m  |     0.709785  |             |  0.2s"
       ]
      },
      {
       "output_type": "stream",
       "stream": "stdout",
       "text": [
        "\n",
        "   354  |  \u001b[94m  0.018807\u001b[0m  |  \u001b[32m  0.026521\u001b[0m  |     0.709137  |             |  0.2s"
       ]
      },
      {
       "output_type": "stream",
       "stream": "stdout",
       "text": [
        "\n",
        "   355  |  \u001b[94m  0.018786\u001b[0m  |  \u001b[32m  0.026516\u001b[0m  |     0.708489  |             |  0.2s"
       ]
      },
      {
       "output_type": "stream",
       "stream": "stdout",
       "text": [
        "\n",
        "   356  |  \u001b[94m  0.018765\u001b[0m  |  \u001b[32m  0.026511\u001b[0m  |     0.707837  |             |  0.2s"
       ]
      },
      {
       "output_type": "stream",
       "stream": "stdout",
       "text": [
        "\n",
        "   357  |  \u001b[94m  0.018744\u001b[0m  |  \u001b[32m  0.026506\u001b[0m  |     0.707187  |             |  0.2s"
       ]
      },
      {
       "output_type": "stream",
       "stream": "stdout",
       "text": [
        "\n",
        "   358  |  \u001b[94m  0.018724\u001b[0m  |  \u001b[32m  0.026501\u001b[0m  |     0.706536  |             |  0.2s"
       ]
      },
      {
       "output_type": "stream",
       "stream": "stdout",
       "text": [
        "\n",
        "   359  |  \u001b[94m  0.018703\u001b[0m  |  \u001b[32m  0.026495\u001b[0m  |     0.705894  |             |  0.2s"
       ]
      },
      {
       "output_type": "stream",
       "stream": "stdout",
       "text": [
        "\n",
        "   360  |  \u001b[94m  0.018682\u001b[0m  |  \u001b[32m  0.026490\u001b[0m  |     0.705248  |             |  0.2s"
       ]
      },
      {
       "output_type": "stream",
       "stream": "stdout",
       "text": [
        "\n",
        "   361  |  \u001b[94m  0.018661\u001b[0m  |  \u001b[32m  0.026485\u001b[0m  |     0.704599  |             |  0.2s"
       ]
      },
      {
       "output_type": "stream",
       "stream": "stdout",
       "text": [
        "\n",
        "   362  |  \u001b[94m  0.018641\u001b[0m  |  \u001b[32m  0.026479\u001b[0m  |     0.703963  |             |  0.2s"
       ]
      },
      {
       "output_type": "stream",
       "stream": "stdout",
       "text": [
        "\n",
        "   363  |  \u001b[94m  0.018620\u001b[0m  |  \u001b[32m  0.026474\u001b[0m  |     0.703330  |             |  0.2s"
       ]
      },
      {
       "output_type": "stream",
       "stream": "stdout",
       "text": [
        "\n",
        "   364  |  \u001b[94m  0.018599\u001b[0m  |  \u001b[32m  0.026469\u001b[0m  |     0.702690  |             |  0.2s"
       ]
      },
      {
       "output_type": "stream",
       "stream": "stdout",
       "text": [
        "\n",
        "   365  |  \u001b[94m  0.018579\u001b[0m  |  \u001b[32m  0.026464\u001b[0m  |     0.702052  |             |  0.2s"
       ]
      },
      {
       "output_type": "stream",
       "stream": "stdout",
       "text": [
        "\n",
        "   366  |  \u001b[94m  0.018558\u001b[0m  |  \u001b[32m  0.026459\u001b[0m  |     0.701405  |             |  0.2s"
       ]
      },
      {
       "output_type": "stream",
       "stream": "stdout",
       "text": [
        "\n",
        "   367  |  \u001b[94m  0.018538\u001b[0m  |  \u001b[32m  0.026454\u001b[0m  |     0.700764  |             |  0.2s"
       ]
      },
      {
       "output_type": "stream",
       "stream": "stdout",
       "text": [
        "\n",
        "   368  |  \u001b[94m  0.018517\u001b[0m  |  \u001b[32m  0.026449\u001b[0m  |     0.700124  |             |  0.2s"
       ]
      },
      {
       "output_type": "stream",
       "stream": "stdout",
       "text": [
        "\n",
        "   369  |  \u001b[94m  0.018497\u001b[0m  |  \u001b[32m  0.026443\u001b[0m  |     0.699495  |             |  0.2s"
       ]
      },
      {
       "output_type": "stream",
       "stream": "stdout",
       "text": [
        "\n",
        "   370  |  \u001b[94m  0.018477\u001b[0m  |  \u001b[32m  0.026438\u001b[0m  |     0.698860  |             |  0.2s"
       ]
      },
      {
       "output_type": "stream",
       "stream": "stdout",
       "text": [
        "\n",
        "   371  |  \u001b[94m  0.018456\u001b[0m  |  \u001b[32m  0.026433\u001b[0m  |     0.698220  |             |  0.2s"
       ]
      },
      {
       "output_type": "stream",
       "stream": "stdout",
       "text": [
        "\n",
        "   372  |  \u001b[94m  0.018436\u001b[0m  |  \u001b[32m  0.026428\u001b[0m  |     0.697583  |             |  0.2s"
       ]
      },
      {
       "output_type": "stream",
       "stream": "stdout",
       "text": [
        "\n",
        "   373  |  \u001b[94m  0.018416\u001b[0m  |  \u001b[32m  0.026423\u001b[0m  |     0.696943  |             |  0.2s"
       ]
      },
      {
       "output_type": "stream",
       "stream": "stdout",
       "text": [
        "\n",
        "   374  |  \u001b[94m  0.018395\u001b[0m  |  \u001b[32m  0.026418\u001b[0m  |     0.696330  |             |  0.2s"
       ]
      },
      {
       "output_type": "stream",
       "stream": "stdout",
       "text": [
        "\n",
        "   375  |  \u001b[94m  0.018375\u001b[0m  |  \u001b[32m  0.026413\u001b[0m  |     0.695687  |             |  0.2s"
       ]
      },
      {
       "output_type": "stream",
       "stream": "stdout",
       "text": [
        "\n",
        "   376  |  \u001b[94m  0.018355\u001b[0m  |  \u001b[32m  0.026409\u001b[0m  |     0.695049  |             |  0.2s"
       ]
      },
      {
       "output_type": "stream",
       "stream": "stdout",
       "text": [
        "\n",
        "   377  |  \u001b[94m  0.018335\u001b[0m  |  \u001b[32m  0.026404\u001b[0m  |     0.694422  |             |  0.2s"
       ]
      },
      {
       "output_type": "stream",
       "stream": "stdout",
       "text": [
        "\n",
        "   378  |  \u001b[94m  0.018315\u001b[0m  |  \u001b[32m  0.026399\u001b[0m  |     0.693790  |             |  0.2s"
       ]
      },
      {
       "output_type": "stream",
       "stream": "stdout",
       "text": [
        "\n",
        "   379  |  \u001b[94m  0.018295\u001b[0m  |  \u001b[32m  0.026394\u001b[0m  |     0.693157  |             |  0.2s"
       ]
      },
      {
       "output_type": "stream",
       "stream": "stdout",
       "text": [
        "\n",
        "   380  |  \u001b[94m  0.018275\u001b[0m  |  \u001b[32m  0.026390\u001b[0m  |     0.692517  |             |  0.2s"
       ]
      },
      {
       "output_type": "stream",
       "stream": "stdout",
       "text": [
        "\n",
        "   381  |  \u001b[94m  0.018255\u001b[0m  |  \u001b[32m  0.026385\u001b[0m  |     0.691885  |             |  0.2s"
       ]
      },
      {
       "output_type": "stream",
       "stream": "stdout",
       "text": [
        "\n",
        "   382  |  \u001b[94m  0.018235\u001b[0m  |  \u001b[32m  0.026380\u001b[0m  |     0.691246  |             |  0.2s"
       ]
      },
      {
       "output_type": "stream",
       "stream": "stdout",
       "text": [
        "\n",
        "   383  |  \u001b[94m  0.018216\u001b[0m  |  \u001b[32m  0.026376\u001b[0m  |     0.690612  |             |  0.2s"
       ]
      },
      {
       "output_type": "stream",
       "stream": "stdout",
       "text": [
        "\n",
        "   384  |  \u001b[94m  0.018196\u001b[0m  |  \u001b[32m  0.026371\u001b[0m  |     0.689998  |             |  0.2s"
       ]
      },
      {
       "output_type": "stream",
       "stream": "stdout",
       "text": [
        "\n",
        "   385  |  \u001b[94m  0.018176\u001b[0m  |  \u001b[32m  0.026366\u001b[0m  |     0.689375  |             |  0.2s"
       ]
      },
      {
       "output_type": "stream",
       "stream": "stdout",
       "text": [
        "\n",
        "   386  |  \u001b[94m  0.018156\u001b[0m  |  \u001b[32m  0.026362\u001b[0m  |     0.688740  |             |  0.2s"
       ]
      },
      {
       "output_type": "stream",
       "stream": "stdout",
       "text": [
        "\n",
        "   387  |  \u001b[94m  0.018137\u001b[0m  |  \u001b[32m  0.026357\u001b[0m  |     0.688113  |             |  0.2s"
       ]
      },
      {
       "output_type": "stream",
       "stream": "stdout",
       "text": [
        "\n",
        "   388  |  \u001b[94m  0.018117\u001b[0m  |  \u001b[32m  0.026353\u001b[0m  |     0.687483  |             |  0.2s"
       ]
      },
      {
       "output_type": "stream",
       "stream": "stdout",
       "text": [
        "\n",
        "   389  |  \u001b[94m  0.018097\u001b[0m  |  \u001b[32m  0.026348\u001b[0m  |     0.686855  |             |  0.2s"
       ]
      },
      {
       "output_type": "stream",
       "stream": "stdout",
       "text": [
        "\n",
        "   390  |  \u001b[94m  0.018078\u001b[0m  |  \u001b[32m  0.026344\u001b[0m  |     0.686232  |             |  0.2s"
       ]
      },
      {
       "output_type": "stream",
       "stream": "stdout",
       "text": [
        "\n",
        "   391  |  \u001b[94m  0.018058\u001b[0m  |  \u001b[32m  0.026339\u001b[0m  |     0.685602  |             |  0.2s"
       ]
      },
      {
       "output_type": "stream",
       "stream": "stdout",
       "text": [
        "\n",
        "   392  |  \u001b[94m  0.018039\u001b[0m  |  \u001b[32m  0.026335\u001b[0m  |     0.684977  |             |  0.2s"
       ]
      },
      {
       "output_type": "stream",
       "stream": "stdout",
       "text": [
        "\n",
        "   393  |  \u001b[94m  0.018019\u001b[0m  |  \u001b[32m  0.026331\u001b[0m  |     0.684348  |             |  0.2s"
       ]
      },
      {
       "output_type": "stream",
       "stream": "stdout",
       "text": [
        "\n",
        "   394  |  \u001b[94m  0.018000\u001b[0m  |  \u001b[32m  0.026326\u001b[0m  |     0.683725  |             |  0.2s"
       ]
      },
      {
       "output_type": "stream",
       "stream": "stdout",
       "text": [
        "\n",
        "   395  |  \u001b[94m  0.017981\u001b[0m  |  \u001b[32m  0.026322\u001b[0m  |     0.683108  |             |  0.2s"
       ]
      },
      {
       "output_type": "stream",
       "stream": "stdout",
       "text": [
        "\n",
        "   396  |  \u001b[94m  0.017961\u001b[0m  |  \u001b[32m  0.026318\u001b[0m  |     0.682473  |             |  0.2s"
       ]
      },
      {
       "output_type": "stream",
       "stream": "stdout",
       "text": [
        "\n",
        "   397  |  \u001b[94m  0.017942\u001b[0m  |  \u001b[32m  0.026313\u001b[0m  |     0.681861  |             |  0.2s"
       ]
      },
      {
       "output_type": "stream",
       "stream": "stdout",
       "text": [
        "\n",
        "   398  |  \u001b[94m  0.017923\u001b[0m  |  \u001b[32m  0.026309\u001b[0m  |     0.681228  |             |  0.2s"
       ]
      },
      {
       "output_type": "stream",
       "stream": "stdout",
       "text": [
        "\n",
        "   399  |  \u001b[94m  0.017904\u001b[0m  |  \u001b[32m  0.026305\u001b[0m  |     0.680600  |             |  0.2s"
       ]
      },
      {
       "output_type": "stream",
       "stream": "stdout",
       "text": [
        "\n",
        "   400  |  \u001b[94m  0.017884\u001b[0m  |  \u001b[32m  0.026301\u001b[0m  |     0.679979  |             |  0.2s"
       ]
      },
      {
       "output_type": "stream",
       "stream": "stdout",
       "text": [
        "\n",
        "   401  |  \u001b[94m  0.017865\u001b[0m  |  \u001b[32m  0.026297\u001b[0m  |     0.679346  |             |  0.2s"
       ]
      },
      {
       "output_type": "stream",
       "stream": "stdout",
       "text": [
        "\n",
        "   402  |  \u001b[94m  0.017846\u001b[0m  |  \u001b[32m  0.026294\u001b[0m  |     0.678713  |             |  0.2s"
       ]
      },
      {
       "output_type": "stream",
       "stream": "stdout",
       "text": [
        "\n",
        "   403  |  \u001b[94m  0.017827\u001b[0m  |  \u001b[32m  0.026289\u001b[0m  |     0.678094  |             |  0.2s"
       ]
      },
      {
       "output_type": "stream",
       "stream": "stdout",
       "text": [
        "\n",
        "   404  |  \u001b[94m  0.017808\u001b[0m  |  \u001b[32m  0.026286\u001b[0m  |     0.677466  |             |  0.2s"
       ]
      },
      {
       "output_type": "stream",
       "stream": "stdout",
       "text": [
        "\n",
        "   405  |  \u001b[94m  0.017788\u001b[0m  |  \u001b[32m  0.026281\u001b[0m  |     0.676848  |             |  0.2s"
       ]
      },
      {
       "output_type": "stream",
       "stream": "stdout",
       "text": [
        "\n",
        "   406  |  \u001b[94m  0.017769\u001b[0m  |  \u001b[32m  0.026278\u001b[0m  |     0.676215  |             |  0.2s"
       ]
      },
      {
       "output_type": "stream",
       "stream": "stdout",
       "text": [
        "\n",
        "   407  |  \u001b[94m  0.017751\u001b[0m  |  \u001b[32m  0.026274\u001b[0m  |     0.675596  |             |  0.2s"
       ]
      },
      {
       "output_type": "stream",
       "stream": "stdout",
       "text": [
        "\n",
        "   408  |  \u001b[94m  0.017732\u001b[0m  |  \u001b[32m  0.026270\u001b[0m  |     0.674973  |             |  0.2s"
       ]
      },
      {
       "output_type": "stream",
       "stream": "stdout",
       "text": [
        "\n",
        "   409  |  \u001b[94m  0.017713\u001b[0m  |  \u001b[32m  0.026266\u001b[0m  |     0.674357  |             |  0.2s"
       ]
      },
      {
       "output_type": "stream",
       "stream": "stdout",
       "text": [
        "\n",
        "   410  |  \u001b[94m  0.017694\u001b[0m  |  \u001b[32m  0.026262\u001b[0m  |     0.673742  |             |  0.2s"
       ]
      },
      {
       "output_type": "stream",
       "stream": "stdout",
       "text": [
        "\n",
        "   411  |  \u001b[94m  0.017675\u001b[0m  |  \u001b[32m  0.026258\u001b[0m  |     0.673127  |             |  0.2s"
       ]
      },
      {
       "output_type": "stream",
       "stream": "stdout",
       "text": [
        "\n",
        "   412  |  \u001b[94m  0.017656\u001b[0m  |  \u001b[32m  0.026254\u001b[0m  |     0.672522  |             |  0.2s"
       ]
      },
      {
       "output_type": "stream",
       "stream": "stdout",
       "text": [
        "\n",
        "   413  |  \u001b[94m  0.017638\u001b[0m  |  \u001b[32m  0.026250\u001b[0m  |     0.671902  |             |  0.2s"
       ]
      },
      {
       "output_type": "stream",
       "stream": "stdout",
       "text": [
        "\n",
        "   414  |  \u001b[94m  0.017619\u001b[0m  |  \u001b[32m  0.026247\u001b[0m  |     0.671286  |             |  0.2s"
       ]
      },
      {
       "output_type": "stream",
       "stream": "stdout",
       "text": [
        "\n",
        "   415  |  \u001b[94m  0.017600\u001b[0m  |  \u001b[32m  0.026243\u001b[0m  |     0.670676  |             |  0.2s"
       ]
      },
      {
       "output_type": "stream",
       "stream": "stdout",
       "text": [
        "\n",
        "   416  |  \u001b[94m  0.017582\u001b[0m  |  \u001b[32m  0.026239\u001b[0m  |     0.670064  |             |  0.2s"
       ]
      },
      {
       "output_type": "stream",
       "stream": "stdout",
       "text": [
        "\n",
        "   417  |  \u001b[94m  0.017563\u001b[0m  |  \u001b[32m  0.026235\u001b[0m  |     0.669452  |             |  0.2s"
       ]
      },
      {
       "output_type": "stream",
       "stream": "stdout",
       "text": [
        "\n",
        "   418  |  \u001b[94m  0.017545\u001b[0m  |  \u001b[32m  0.026232\u001b[0m  |     0.668840  |             |  0.2s"
       ]
      },
      {
       "output_type": "stream",
       "stream": "stdout",
       "text": [
        "\n",
        "   419  |  \u001b[94m  0.017526\u001b[0m  |  \u001b[32m  0.026228\u001b[0m  |     0.668227  |             |  0.2s"
       ]
      },
      {
       "output_type": "stream",
       "stream": "stdout",
       "text": [
        "\n",
        "   420  |  \u001b[94m  0.017508\u001b[0m  |  \u001b[32m  0.026224\u001b[0m  |     0.667619  |             |  0.2s"
       ]
      },
      {
       "output_type": "stream",
       "stream": "stdout",
       "text": [
        "\n",
        "   421  |  \u001b[94m  0.017490\u001b[0m  |  \u001b[32m  0.026221\u001b[0m  |     0.667008  |             |  0.2s"
       ]
      },
      {
       "output_type": "stream",
       "stream": "stdout",
       "text": [
        "\n",
        "   422  |  \u001b[94m  0.017471\u001b[0m  |  \u001b[32m  0.026217\u001b[0m  |     0.666397  |             |  0.2s"
       ]
      },
      {
       "output_type": "stream",
       "stream": "stdout",
       "text": [
        "\n",
        "   423  |  \u001b[94m  0.017453\u001b[0m  |  \u001b[32m  0.026213\u001b[0m  |     0.665798  |             |  0.2s"
       ]
      },
      {
       "output_type": "stream",
       "stream": "stdout",
       "text": [
        "\n",
        "   424  |  \u001b[94m  0.017435\u001b[0m  |  \u001b[32m  0.026210\u001b[0m  |     0.665196  |             |  0.2s"
       ]
      },
      {
       "output_type": "stream",
       "stream": "stdout",
       "text": [
        "\n",
        "   425  |  \u001b[94m  0.017416\u001b[0m  |  \u001b[32m  0.026206\u001b[0m  |     0.664587  |             |  0.2s"
       ]
      },
      {
       "output_type": "stream",
       "stream": "stdout",
       "text": [
        "\n",
        "   426  |  \u001b[94m  0.017398\u001b[0m  |  \u001b[32m  0.026203\u001b[0m  |     0.663986  |             |  0.2s"
       ]
      },
      {
       "output_type": "stream",
       "stream": "stdout",
       "text": [
        "\n",
        "   427  |  \u001b[94m  0.017380\u001b[0m  |  \u001b[32m  0.026200\u001b[0m  |     0.663372  |             |  0.2s"
       ]
      },
      {
       "output_type": "stream",
       "stream": "stdout",
       "text": [
        "\n",
        "   428  |  \u001b[94m  0.017362\u001b[0m  |  \u001b[32m  0.026196\u001b[0m  |     0.662778  |             |  0.2s"
       ]
      },
      {
       "output_type": "stream",
       "stream": "stdout",
       "text": [
        "\n",
        "   429  |  \u001b[94m  0.017344\u001b[0m  |  \u001b[32m  0.026192\u001b[0m  |     0.662172  |             |  0.2s"
       ]
      },
      {
       "output_type": "stream",
       "stream": "stdout",
       "text": [
        "\n",
        "   430  |  \u001b[94m  0.017326\u001b[0m  |  \u001b[32m  0.026189\u001b[0m  |     0.661569  |             |  0.2s"
       ]
      },
      {
       "output_type": "stream",
       "stream": "stdout",
       "text": [
        "\n",
        "   431  |  \u001b[94m  0.017308\u001b[0m  |  \u001b[32m  0.026185\u001b[0m  |     0.660974  |             |  0.2s"
       ]
      },
      {
       "output_type": "stream",
       "stream": "stdout",
       "text": [
        "\n",
        "   432  |  \u001b[94m  0.017290\u001b[0m  |  \u001b[32m  0.026182\u001b[0m  |     0.660371  |             |  0.2s"
       ]
      },
      {
       "output_type": "stream",
       "stream": "stdout",
       "text": [
        "\n",
        "   433  |  \u001b[94m  0.017272\u001b[0m  |  \u001b[32m  0.026179\u001b[0m  |     0.659761  |             |  0.2s"
       ]
      },
      {
       "output_type": "stream",
       "stream": "stdout",
       "text": [
        "\n",
        "   434  |  \u001b[94m  0.017254\u001b[0m  |  \u001b[32m  0.026176\u001b[0m  |     0.659160  |             |  0.2s"
       ]
      },
      {
       "output_type": "stream",
       "stream": "stdout",
       "text": [
        "\n",
        "   435  |  \u001b[94m  0.017236\u001b[0m  |  \u001b[32m  0.026172\u001b[0m  |     0.658570  |             |  0.2s"
       ]
      },
      {
       "output_type": "stream",
       "stream": "stdout",
       "text": [
        "\n",
        "   436  |  \u001b[94m  0.017218\u001b[0m  |  \u001b[32m  0.026169\u001b[0m  |     0.657974  |             |  0.2s"
       ]
      },
      {
       "output_type": "stream",
       "stream": "stdout",
       "text": [
        "\n",
        "   437  |  \u001b[94m  0.017201\u001b[0m  |  \u001b[32m  0.026165\u001b[0m  |     0.657381  |             |  0.2s"
       ]
      },
      {
       "output_type": "stream",
       "stream": "stdout",
       "text": [
        "\n",
        "   438  |  \u001b[94m  0.017183\u001b[0m  |  \u001b[32m  0.026162\u001b[0m  |     0.656778  |             |  0.2s"
       ]
      },
      {
       "output_type": "stream",
       "stream": "stdout",
       "text": [
        "\n",
        "   439  |  \u001b[94m  0.017165\u001b[0m  |  \u001b[32m  0.026159\u001b[0m  |     0.656180  |             |  0.2s"
       ]
      },
      {
       "output_type": "stream",
       "stream": "stdout",
       "text": [
        "\n",
        "   440  |  \u001b[94m  0.017147\u001b[0m  |  \u001b[32m  0.026156\u001b[0m  |     0.655583  |             |  0.2s"
       ]
      },
      {
       "output_type": "stream",
       "stream": "stdout",
       "text": [
        "\n",
        "   441  |  \u001b[94m  0.017130\u001b[0m  |  \u001b[32m  0.026153\u001b[0m  |     0.654980  |             |  0.2s"
       ]
      },
      {
       "output_type": "stream",
       "stream": "stdout",
       "text": [
        "\n",
        "   442  |  \u001b[94m  0.017112\u001b[0m  |  \u001b[32m  0.026150\u001b[0m  |     0.654383  |             |  0.2s"
       ]
      },
      {
       "output_type": "stream",
       "stream": "stdout",
       "text": [
        "\n",
        "   443  |  \u001b[94m  0.017094\u001b[0m  |  \u001b[32m  0.026147\u001b[0m  |     0.653784  |             |  0.2s"
       ]
      },
      {
       "output_type": "stream",
       "stream": "stdout",
       "text": [
        "\n",
        "   444  |  \u001b[94m  0.017077\u001b[0m  |  \u001b[32m  0.026144\u001b[0m  |     0.653190  |             |  0.2s"
       ]
      },
      {
       "output_type": "stream",
       "stream": "stdout",
       "text": [
        "\n",
        "   445  |  \u001b[94m  0.017059\u001b[0m  |  \u001b[32m  0.026141\u001b[0m  |     0.652585  |             |  0.2s"
       ]
      },
      {
       "output_type": "stream",
       "stream": "stdout",
       "text": [
        "\n",
        "   446  |  \u001b[94m  0.017042\u001b[0m  |  \u001b[32m  0.026138\u001b[0m  |     0.651983  |             |  0.2s"
       ]
      },
      {
       "output_type": "stream",
       "stream": "stdout",
       "text": [
        "\n",
        "   447  |  \u001b[94m  0.017024\u001b[0m  |  \u001b[32m  0.026135\u001b[0m  |     0.651395  |             |  0.2s"
       ]
      },
      {
       "output_type": "stream",
       "stream": "stdout",
       "text": [
        "\n",
        "   448  |  \u001b[94m  0.017007\u001b[0m  |  \u001b[32m  0.026132\u001b[0m  |     0.650794  |             |  0.2s"
       ]
      },
      {
       "output_type": "stream",
       "stream": "stdout",
       "text": [
        "\n",
        "   449  |  \u001b[94m  0.016989\u001b[0m  |  \u001b[32m  0.026129\u001b[0m  |     0.650206  |             |  0.2s"
       ]
      },
      {
       "output_type": "stream",
       "stream": "stdout",
       "text": [
        "\n",
        "   450  |  \u001b[94m  0.016972\u001b[0m  |  \u001b[32m  0.026126\u001b[0m  |     0.649602  |             |  0.2s"
       ]
      },
      {
       "output_type": "stream",
       "stream": "stdout",
       "text": [
        "\n",
        "   451  |  \u001b[94m  0.016954\u001b[0m  |  \u001b[32m  0.026123\u001b[0m  |     0.649012  |             |  0.2s"
       ]
      },
      {
       "output_type": "stream",
       "stream": "stdout",
       "text": [
        "\n",
        "   452  |  \u001b[94m  0.016937\u001b[0m  |  \u001b[32m  0.026121\u001b[0m  |     0.648420  |             |  0.2s"
       ]
      },
      {
       "output_type": "stream",
       "stream": "stdout",
       "text": [
        "\n",
        "   453  |  \u001b[94m  0.016920\u001b[0m  |  \u001b[32m  0.026118\u001b[0m  |     0.647826  |             |  0.2s"
       ]
      },
      {
       "output_type": "stream",
       "stream": "stdout",
       "text": [
        "\n",
        "   454  |  \u001b[94m  0.016902\u001b[0m  |  \u001b[32m  0.026115\u001b[0m  |     0.647223  |             |  0.2s"
       ]
      },
      {
       "output_type": "stream",
       "stream": "stdout",
       "text": [
        "\n",
        "   455  |  \u001b[94m  0.016885\u001b[0m  |  \u001b[32m  0.026112\u001b[0m  |     0.646633  |             |  0.2s"
       ]
      },
      {
       "output_type": "stream",
       "stream": "stdout",
       "text": [
        "\n",
        "   456  |  \u001b[94m  0.016868\u001b[0m  |  \u001b[32m  0.026110\u001b[0m  |     0.646032  |             |  0.2s"
       ]
      },
      {
       "output_type": "stream",
       "stream": "stdout",
       "text": [
        "\n",
        "   457  |  \u001b[94m  0.016851\u001b[0m  |  \u001b[32m  0.026107\u001b[0m  |     0.645435  |             |  0.2s"
       ]
      },
      {
       "output_type": "stream",
       "stream": "stdout",
       "text": [
        "\n",
        "   458  |  \u001b[94m  0.016833\u001b[0m  |  \u001b[32m  0.026104\u001b[0m  |     0.644847  |             |  0.2s"
       ]
      },
      {
       "output_type": "stream",
       "stream": "stdout",
       "text": [
        "\n",
        "   459  |  \u001b[94m  0.016816\u001b[0m  |  \u001b[32m  0.026102\u001b[0m  |     0.644257  |             |  0.2s"
       ]
      },
      {
       "output_type": "stream",
       "stream": "stdout",
       "text": [
        "\n",
        "   460  |  \u001b[94m  0.016799\u001b[0m  |  \u001b[32m  0.026099\u001b[0m  |     0.643666  |             |  0.2s"
       ]
      },
      {
       "output_type": "stream",
       "stream": "stdout",
       "text": [
        "\n",
        "   461  |  \u001b[94m  0.016782\u001b[0m  |  \u001b[32m  0.026096\u001b[0m  |     0.643088  |             |  0.2s"
       ]
      },
      {
       "output_type": "stream",
       "stream": "stdout",
       "text": [
        "\n",
        "   462  |  \u001b[94m  0.016765\u001b[0m  |  \u001b[32m  0.026093\u001b[0m  |     0.642501  |             |  0.2s"
       ]
      },
      {
       "output_type": "stream",
       "stream": "stdout",
       "text": [
        "\n",
        "   463  |  \u001b[94m  0.016748\u001b[0m  |  \u001b[32m  0.026090\u001b[0m  |     0.641912  |             |  0.2s"
       ]
      },
      {
       "output_type": "stream",
       "stream": "stdout",
       "text": [
        "\n",
        "   464  |  \u001b[94m  0.016731\u001b[0m  |  \u001b[32m  0.026088\u001b[0m  |     0.641319  |             |  0.2s"
       ]
      },
      {
       "output_type": "stream",
       "stream": "stdout",
       "text": [
        "\n",
        "   465  |  \u001b[94m  0.016714\u001b[0m  |  \u001b[32m  0.026085\u001b[0m  |     0.640739  |             |  0.2s"
       ]
      },
      {
       "output_type": "stream",
       "stream": "stdout",
       "text": [
        "\n",
        "   466  |  \u001b[94m  0.016697\u001b[0m  |  \u001b[32m  0.026082\u001b[0m  |     0.640151  |             |  0.2s"
       ]
      },
      {
       "output_type": "stream",
       "stream": "stdout",
       "text": [
        "\n",
        "   467  |  \u001b[94m  0.016680\u001b[0m  |  \u001b[32m  0.026080\u001b[0m  |     0.639568  |             |  0.2s"
       ]
      },
      {
       "output_type": "stream",
       "stream": "stdout",
       "text": [
        "\n",
        "   468  |  \u001b[94m  0.016663\u001b[0m  |  \u001b[32m  0.026077\u001b[0m  |     0.638997  |             |  0.2s"
       ]
      },
      {
       "output_type": "stream",
       "stream": "stdout",
       "text": [
        "\n",
        "   469  |  \u001b[94m  0.016646\u001b[0m  |  \u001b[32m  0.026074\u001b[0m  |     0.638414  |             |  0.2s"
       ]
      },
      {
       "output_type": "stream",
       "stream": "stdout",
       "text": [
        "\n",
        "   470  |  \u001b[94m  0.016629\u001b[0m  |  \u001b[32m  0.026071\u001b[0m  |     0.637834  |             |  0.2s"
       ]
      },
      {
       "output_type": "stream",
       "stream": "stdout",
       "text": [
        "\n",
        "   471  |  \u001b[94m  0.016612\u001b[0m  |  \u001b[32m  0.026068\u001b[0m  |     0.637261  |             |  0.2s"
       ]
      },
      {
       "output_type": "stream",
       "stream": "stdout",
       "text": [
        "\n",
        "   472  |  \u001b[94m  0.016596\u001b[0m  |  \u001b[32m  0.026066\u001b[0m  |     0.636684  |             |  0.2s"
       ]
      },
      {
       "output_type": "stream",
       "stream": "stdout",
       "text": [
        "\n",
        "   473  |  \u001b[94m  0.016579\u001b[0m  |  \u001b[32m  0.026063\u001b[0m  |     0.636107  |             |  0.2s"
       ]
      },
      {
       "output_type": "stream",
       "stream": "stdout",
       "text": [
        "\n",
        "   474  |  \u001b[94m  0.016562\u001b[0m  |  \u001b[32m  0.026060\u001b[0m  |     0.635540  |             |  0.2s"
       ]
      },
      {
       "output_type": "stream",
       "stream": "stdout",
       "text": [
        "\n",
        "   475  |  \u001b[94m  0.016546\u001b[0m  |  \u001b[32m  0.026057\u001b[0m  |     0.634967  |             |  0.2s"
       ]
      },
      {
       "output_type": "stream",
       "stream": "stdout",
       "text": [
        "\n",
        "   476  |  \u001b[94m  0.016529\u001b[0m  |  \u001b[32m  0.026055\u001b[0m  |     0.634393  |             |  0.2s"
       ]
      },
      {
       "output_type": "stream",
       "stream": "stdout",
       "text": [
        "\n",
        "   477  |  \u001b[94m  0.016512\u001b[0m  |  \u001b[32m  0.026053\u001b[0m  |     0.633811  |             |  0.2s"
       ]
      },
      {
       "output_type": "stream",
       "stream": "stdout",
       "text": [
        "\n",
        "   478  |  \u001b[94m  0.016496\u001b[0m  |  \u001b[32m  0.026050\u001b[0m  |     0.633233  |             |  0.2s"
       ]
      },
      {
       "output_type": "stream",
       "stream": "stdout",
       "text": [
        "\n",
        "   479  |  \u001b[94m  0.016479\u001b[0m  |  \u001b[32m  0.026047\u001b[0m  |     0.632671  |             |  0.2s"
       ]
      },
      {
       "output_type": "stream",
       "stream": "stdout",
       "text": [
        "\n",
        "   480  |  \u001b[94m  0.016463\u001b[0m  |  \u001b[32m  0.026045\u001b[0m  |     0.632097  |             |  0.2s"
       ]
      },
      {
       "output_type": "stream",
       "stream": "stdout",
       "text": [
        "\n",
        "   481  |  \u001b[94m  0.016447\u001b[0m  |  \u001b[32m  0.026042\u001b[0m  |     0.631530  |             |  0.2s"
       ]
      },
      {
       "output_type": "stream",
       "stream": "stdout",
       "text": [
        "\n",
        "   482  |  \u001b[94m  0.016430\u001b[0m  |  \u001b[32m  0.026040\u001b[0m  |     0.630947  |             |  0.2s"
       ]
      },
      {
       "output_type": "stream",
       "stream": "stdout",
       "text": [
        "\n",
        "   483  |  \u001b[94m  0.016414\u001b[0m  |  \u001b[32m  0.026038\u001b[0m  |     0.630377  |             |  0.2s"
       ]
      },
      {
       "output_type": "stream",
       "stream": "stdout",
       "text": [
        "\n",
        "   484  |  \u001b[94m  0.016397\u001b[0m  |  \u001b[32m  0.026035\u001b[0m  |     0.629814  |             |  0.2s"
       ]
      },
      {
       "output_type": "stream",
       "stream": "stdout",
       "text": [
        "\n",
        "   485  |  \u001b[94m  0.016381\u001b[0m  |  \u001b[32m  0.026033\u001b[0m  |     0.629244  |             |  0.2s"
       ]
      },
      {
       "output_type": "stream",
       "stream": "stdout",
       "text": [
        "\n",
        "   486  |  \u001b[94m  0.016365\u001b[0m  |  \u001b[32m  0.026030\u001b[0m  |     0.628681  |             |  0.2s"
       ]
      },
      {
       "output_type": "stream",
       "stream": "stdout",
       "text": [
        "\n",
        "   487  |  \u001b[94m  0.016349\u001b[0m  |  \u001b[32m  0.026028\u001b[0m  |     0.628115  |             |  0.2s"
       ]
      },
      {
       "output_type": "stream",
       "stream": "stdout",
       "text": [
        "\n",
        "   488  |  \u001b[94m  0.016332\u001b[0m  |  \u001b[32m  0.026026\u001b[0m  |     0.627544  |             |  0.2s"
       ]
      },
      {
       "output_type": "stream",
       "stream": "stdout",
       "text": [
        "\n",
        "   489  |  \u001b[94m  0.016316\u001b[0m  |  \u001b[32m  0.026024\u001b[0m  |     0.626974  |             |  0.2s"
       ]
      },
      {
       "output_type": "stream",
       "stream": "stdout",
       "text": [
        "\n",
        "   490  |  \u001b[94m  0.016300\u001b[0m  |  \u001b[32m  0.026021\u001b[0m  |     0.626413  |             |  0.2s"
       ]
      },
      {
       "output_type": "stream",
       "stream": "stdout",
       "text": [
        "\n",
        "   491  |  \u001b[94m  0.016284\u001b[0m  |  \u001b[32m  0.026019\u001b[0m  |     0.625840  |             |  0.2s"
       ]
      },
      {
       "output_type": "stream",
       "stream": "stdout",
       "text": [
        "\n",
        "   492  |  \u001b[94m  0.016268\u001b[0m  |  \u001b[32m  0.026017\u001b[0m  |     0.625273  |             |  0.2s"
       ]
      },
      {
       "output_type": "stream",
       "stream": "stdout",
       "text": [
        "\n",
        "   493  |  \u001b[94m  0.016251\u001b[0m  |  \u001b[32m  0.026014\u001b[0m  |     0.624711  |             |  0.2s"
       ]
      },
      {
       "output_type": "stream",
       "stream": "stdout",
       "text": [
        "\n",
        "   494  |  \u001b[94m  0.016235\u001b[0m  |  \u001b[32m  0.026012\u001b[0m  |     0.624147  |             |  0.2s"
       ]
      },
      {
       "output_type": "stream",
       "stream": "stdout",
       "text": [
        "\n",
        "   495  |  \u001b[94m  0.016219\u001b[0m  |  \u001b[32m  0.026009\u001b[0m  |     0.623592  |             |  0.2s"
       ]
      },
      {
       "output_type": "stream",
       "stream": "stdout",
       "text": [
        "\n",
        "   496  |  \u001b[94m  0.016203\u001b[0m  |  \u001b[32m  0.026007\u001b[0m  |     0.623026  |             |  0.2s"
       ]
      },
      {
       "output_type": "stream",
       "stream": "stdout",
       "text": [
        "\n",
        "   497  |  \u001b[94m  0.016187\u001b[0m  |  \u001b[32m  0.026005\u001b[0m  |     0.622469  |             |  0.2s"
       ]
      },
      {
       "output_type": "stream",
       "stream": "stdout",
       "text": [
        "\n",
        "   498  |  \u001b[94m  0.016171\u001b[0m  |  \u001b[32m  0.026003\u001b[0m  |     0.621897  |             |  0.2s"
       ]
      },
      {
       "output_type": "stream",
       "stream": "stdout",
       "text": [
        "\n",
        "   499  |  \u001b[94m  0.016155\u001b[0m  |  \u001b[32m  0.026001\u001b[0m  |     0.621331  |             |  0.2s"
       ]
      },
      {
       "output_type": "stream",
       "stream": "stdout",
       "text": [
        "\n",
        "   500  |  \u001b[94m  0.016139\u001b[0m  |  \u001b[32m  0.025999\u001b[0m  |     0.620769  |             |  0.2s"
       ]
      },
      {
       "output_type": "stream",
       "stream": "stdout",
       "text": [
        "\n",
        "   501  |  \u001b[94m  0.016123\u001b[0m  |  \u001b[32m  0.025996\u001b[0m  |     0.620214  |             |  0.2s"
       ]
      },
      {
       "output_type": "stream",
       "stream": "stdout",
       "text": [
        "\n",
        "   502  |  \u001b[94m  0.016107\u001b[0m  |  \u001b[32m  0.025994\u001b[0m  |     0.619652  |             |  0.2s"
       ]
      },
      {
       "output_type": "stream",
       "stream": "stdout",
       "text": [
        "\n",
        "   503  |  \u001b[94m  0.016092\u001b[0m  |  \u001b[32m  0.025992\u001b[0m  |     0.619104  |             |  0.2s"
       ]
      },
      {
       "output_type": "stream",
       "stream": "stdout",
       "text": [
        "\n",
        "   504  |  \u001b[94m  0.016076\u001b[0m  |  \u001b[32m  0.025990\u001b[0m  |     0.618544  |             |  0.2s"
       ]
      },
      {
       "output_type": "stream",
       "stream": "stdout",
       "text": [
        "\n",
        "   505  |  \u001b[94m  0.016060\u001b[0m  |  \u001b[32m  0.025988\u001b[0m  |     0.617985  |             |  0.2s"
       ]
      },
      {
       "output_type": "stream",
       "stream": "stdout",
       "text": [
        "\n",
        "   506  |  \u001b[94m  0.016044\u001b[0m  |  \u001b[32m  0.025986\u001b[0m  |     0.617429  |             |  0.2s"
       ]
      },
      {
       "output_type": "stream",
       "stream": "stdout",
       "text": [
        "\n",
        "   507  |  \u001b[94m  0.016029\u001b[0m  |  \u001b[32m  0.025983\u001b[0m  |     0.616884  |             |  0.2s"
       ]
      },
      {
       "output_type": "stream",
       "stream": "stdout",
       "text": [
        "\n",
        "   508  |  \u001b[94m  0.016013\u001b[0m  |  \u001b[32m  0.025981\u001b[0m  |     0.616325  |             |  0.2s"
       ]
      },
      {
       "output_type": "stream",
       "stream": "stdout",
       "text": [
        "\n",
        "   509  |  \u001b[94m  0.015997\u001b[0m  |  \u001b[32m  0.025979\u001b[0m  |     0.615772  |             |  0.2s"
       ]
      },
      {
       "output_type": "stream",
       "stream": "stdout",
       "text": [
        "\n",
        "   510  |  \u001b[94m  0.015982\u001b[0m  |  \u001b[32m  0.025977\u001b[0m  |     0.615222  |             |  0.2s"
       ]
      },
      {
       "output_type": "stream",
       "stream": "stdout",
       "text": [
        "\n",
        "   511  |  \u001b[94m  0.015966\u001b[0m  |  \u001b[32m  0.025975\u001b[0m  |     0.614671  |             |  0.2s"
       ]
      },
      {
       "output_type": "stream",
       "stream": "stdout",
       "text": [
        "\n",
        "   512  |  \u001b[94m  0.015951\u001b[0m  |  \u001b[32m  0.025973\u001b[0m  |     0.614128  |             |  0.2s"
       ]
      },
      {
       "output_type": "stream",
       "stream": "stdout",
       "text": [
        "\n",
        "   513  |  \u001b[94m  0.015935\u001b[0m  |  \u001b[32m  0.025971\u001b[0m  |     0.613573  |             |  0.2s"
       ]
      },
      {
       "output_type": "stream",
       "stream": "stdout",
       "text": [
        "\n",
        "   514  |  \u001b[94m  0.015920\u001b[0m  |  \u001b[32m  0.025969\u001b[0m  |     0.613025  |             |  0.2s"
       ]
      },
      {
       "output_type": "stream",
       "stream": "stdout",
       "text": [
        "\n",
        "   515  |  \u001b[94m  0.015904\u001b[0m  |  \u001b[32m  0.025967\u001b[0m  |     0.612481  |             |  0.2s"
       ]
      },
      {
       "output_type": "stream",
       "stream": "stdout",
       "text": [
        "\n",
        "   516  |  \u001b[94m  0.015889\u001b[0m  |  \u001b[32m  0.025965\u001b[0m  |     0.611935  |             |  0.2s"
       ]
      },
      {
       "output_type": "stream",
       "stream": "stdout",
       "text": [
        "\n",
        "   517  |  \u001b[94m  0.015873\u001b[0m  |  \u001b[32m  0.025963\u001b[0m  |     0.611389  |             |  0.2s"
       ]
      },
      {
       "output_type": "stream",
       "stream": "stdout",
       "text": [
        "\n",
        "   518  |  \u001b[94m  0.015858\u001b[0m  |  \u001b[32m  0.025961\u001b[0m  |     0.610846  |             |  0.2s"
       ]
      },
      {
       "output_type": "stream",
       "stream": "stdout",
       "text": [
        "\n",
        "   519  |  \u001b[94m  0.015843\u001b[0m  |  \u001b[32m  0.025959\u001b[0m  |     0.610301  |             |  0.2s"
       ]
      },
      {
       "output_type": "stream",
       "stream": "stdout",
       "text": [
        "\n",
        "   520  |  \u001b[94m  0.015827\u001b[0m  |  \u001b[32m  0.025957\u001b[0m  |     0.609758  |             |  0.2s"
       ]
      },
      {
       "output_type": "stream",
       "stream": "stdout",
       "text": [
        "\n",
        "   521  |  \u001b[94m  0.015812\u001b[0m  |  \u001b[32m  0.025955\u001b[0m  |     0.609206  |             |  0.2s"
       ]
      },
      {
       "output_type": "stream",
       "stream": "stdout",
       "text": [
        "\n",
        "   522  |  \u001b[94m  0.015797\u001b[0m  |  \u001b[32m  0.025953\u001b[0m  |     0.608660  |             |  0.2s"
       ]
      },
      {
       "output_type": "stream",
       "stream": "stdout",
       "text": [
        "\n",
        "   523  |  \u001b[94m  0.015782\u001b[0m  |  \u001b[32m  0.025951\u001b[0m  |     0.608120  |             |  0.2s"
       ]
      },
      {
       "output_type": "stream",
       "stream": "stdout",
       "text": [
        "\n",
        "   524  |  \u001b[94m  0.015766\u001b[0m  |  \u001b[32m  0.025949\u001b[0m  |     0.607582  |             |  0.2s"
       ]
      },
      {
       "output_type": "stream",
       "stream": "stdout",
       "text": [
        "\n",
        "   525  |  \u001b[94m  0.015751\u001b[0m  |  \u001b[32m  0.025948\u001b[0m  |     0.607032  |             |  0.2s"
       ]
      },
      {
       "output_type": "stream",
       "stream": "stdout",
       "text": [
        "\n",
        "   526  |  \u001b[94m  0.015736\u001b[0m  |  \u001b[32m  0.025946\u001b[0m  |     0.606486  |             |  0.2s"
       ]
      },
      {
       "output_type": "stream",
       "stream": "stdout",
       "text": [
        "\n",
        "   527  |  \u001b[94m  0.015721\u001b[0m  |  \u001b[32m  0.025945\u001b[0m  |     0.605945  |             |  0.2s"
       ]
      },
      {
       "output_type": "stream",
       "stream": "stdout",
       "text": [
        "\n",
        "   528  |  \u001b[94m  0.015706\u001b[0m  |  \u001b[32m  0.025943\u001b[0m  |     0.605403  |             |  0.2s"
       ]
      },
      {
       "output_type": "stream",
       "stream": "stdout",
       "text": [
        "\n",
        "   529  |  \u001b[94m  0.015691\u001b[0m  |  \u001b[32m  0.025941\u001b[0m  |     0.604872  |             |  0.2s"
       ]
      },
      {
       "output_type": "stream",
       "stream": "stdout",
       "text": [
        "\n",
        "   530  |  \u001b[94m  0.015676\u001b[0m  |  \u001b[32m  0.025939\u001b[0m  |     0.604326  |             |  0.2s"
       ]
      },
      {
       "output_type": "stream",
       "stream": "stdout",
       "text": [
        "\n",
        "   531  |  \u001b[94m  0.015661\u001b[0m  |  \u001b[32m  0.025938\u001b[0m  |     0.603783  |             |  0.2s"
       ]
      },
      {
       "output_type": "stream",
       "stream": "stdout",
       "text": [
        "\n",
        "   532  |  \u001b[94m  0.015646\u001b[0m  |  \u001b[32m  0.025936\u001b[0m  |     0.603239  |             |  0.2s"
       ]
      },
      {
       "output_type": "stream",
       "stream": "stdout",
       "text": [
        "\n",
        "   533  |  \u001b[94m  0.015631\u001b[0m  |  \u001b[32m  0.025934\u001b[0m  |     0.602706  |             |  0.2s"
       ]
      },
      {
       "output_type": "stream",
       "stream": "stdout",
       "text": [
        "\n",
        "   534  |  \u001b[94m  0.015616\u001b[0m  |  \u001b[32m  0.025933\u001b[0m  |     0.602166  |             |  0.2s"
       ]
      },
      {
       "output_type": "stream",
       "stream": "stdout",
       "text": [
        "\n",
        "   535  |  \u001b[94m  0.015601\u001b[0m  |  \u001b[32m  0.025931\u001b[0m  |     0.601621  |             |  0.2s"
       ]
      },
      {
       "output_type": "stream",
       "stream": "stdout",
       "text": [
        "\n",
        "   536  |  \u001b[94m  0.015586\u001b[0m  |  \u001b[32m  0.025930\u001b[0m  |     0.601085  |             |  0.2s"
       ]
      },
      {
       "output_type": "stream",
       "stream": "stdout",
       "text": [
        "\n",
        "   537  |  \u001b[94m  0.015571\u001b[0m  |  \u001b[32m  0.025928\u001b[0m  |     0.600550  |             |  0.2s"
       ]
      },
      {
       "output_type": "stream",
       "stream": "stdout",
       "text": [
        "\n",
        "   538  |  \u001b[94m  0.015556\u001b[0m  |  \u001b[32m  0.025926\u001b[0m  |     0.600017  |             |  0.2s"
       ]
      },
      {
       "output_type": "stream",
       "stream": "stdout",
       "text": [
        "\n",
        "   539  |  \u001b[94m  0.015541\u001b[0m  |  \u001b[32m  0.025925\u001b[0m  |     0.599479  |             |  0.2s"
       ]
      },
      {
       "output_type": "stream",
       "stream": "stdout",
       "text": [
        "\n",
        "   540  |  \u001b[94m  0.015527\u001b[0m  |  \u001b[32m  0.025924\u001b[0m  |     0.598935  |             |  0.2s"
       ]
      },
      {
       "output_type": "stream",
       "stream": "stdout",
       "text": [
        "\n",
        "   541  |  \u001b[94m  0.015512\u001b[0m  |  \u001b[32m  0.025922\u001b[0m  |     0.598395  |             |  0.2s"
       ]
      },
      {
       "output_type": "stream",
       "stream": "stdout",
       "text": [
        "\n",
        "   542  |  \u001b[94m  0.015497\u001b[0m  |  \u001b[32m  0.025921\u001b[0m  |     0.597861  |             |  0.2s"
       ]
      },
      {
       "output_type": "stream",
       "stream": "stdout",
       "text": [
        "\n",
        "   543  |  \u001b[94m  0.015482\u001b[0m  |  \u001b[32m  0.025919\u001b[0m  |     0.597332  |             |  0.2s"
       ]
      },
      {
       "output_type": "stream",
       "stream": "stdout",
       "text": [
        "\n",
        "   544  |  \u001b[94m  0.015468\u001b[0m  |  \u001b[32m  0.025918\u001b[0m  |     0.596795  |             |  0.2s"
       ]
      },
      {
       "output_type": "stream",
       "stream": "stdout",
       "text": [
        "\n",
        "   545  |  \u001b[94m  0.015453\u001b[0m  |  \u001b[32m  0.025916\u001b[0m  |     0.596265  |             |  0.2s"
       ]
      },
      {
       "output_type": "stream",
       "stream": "stdout",
       "text": [
        "\n",
        "   546  |  \u001b[94m  0.015438\u001b[0m  |  \u001b[32m  0.025915\u001b[0m  |     0.595726  |             |  0.2s"
       ]
      },
      {
       "output_type": "stream",
       "stream": "stdout",
       "text": [
        "\n",
        "   547  |  \u001b[94m  0.015424\u001b[0m  |  \u001b[32m  0.025914\u001b[0m  |     0.595197  |             |  0.2s"
       ]
      },
      {
       "output_type": "stream",
       "stream": "stdout",
       "text": [
        "\n",
        "   548  |  \u001b[94m  0.015409\u001b[0m  |  \u001b[32m  0.025912\u001b[0m  |     0.594669  |             |  0.2s"
       ]
      },
      {
       "output_type": "stream",
       "stream": "stdout",
       "text": [
        "\n",
        "   549  |  \u001b[94m  0.015395\u001b[0m  |  \u001b[32m  0.025911\u001b[0m  |     0.594134  |             |  0.2s"
       ]
      },
      {
       "output_type": "stream",
       "stream": "stdout",
       "text": [
        "\n",
        "   550  |  \u001b[94m  0.015380\u001b[0m  |  \u001b[32m  0.025909\u001b[0m  |     0.593615  |             |  0.2s"
       ]
      },
      {
       "output_type": "stream",
       "stream": "stdout",
       "text": [
        "\n",
        "   551  |  \u001b[94m  0.015365\u001b[0m  |  \u001b[32m  0.025908\u001b[0m  |     0.593079  |             |  0.2s"
       ]
      },
      {
       "output_type": "stream",
       "stream": "stdout",
       "text": [
        "\n",
        "   552  |  \u001b[94m  0.015351\u001b[0m  |  \u001b[32m  0.025906\u001b[0m  |     0.592554  |             |  0.2s"
       ]
      },
      {
       "output_type": "stream",
       "stream": "stdout",
       "text": [
        "\n",
        "   553  |  \u001b[94m  0.015336\u001b[0m  |  \u001b[32m  0.025905\u001b[0m  |     0.592024  |             |  0.2s"
       ]
      },
      {
       "output_type": "stream",
       "stream": "stdout",
       "text": [
        "\n",
        "   554  |  \u001b[94m  0.015322\u001b[0m  |  \u001b[32m  0.025904\u001b[0m  |     0.591492  |             |  0.2s"
       ]
      },
      {
       "output_type": "stream",
       "stream": "stdout",
       "text": [
        "\n",
        "   555  |  \u001b[94m  0.015307\u001b[0m  |  \u001b[32m  0.025903\u001b[0m  |     0.590961  |             |  0.2s"
       ]
      },
      {
       "output_type": "stream",
       "stream": "stdout",
       "text": [
        "\n",
        "   556  |  \u001b[94m  0.015293\u001b[0m  |  \u001b[32m  0.025901\u001b[0m  |     0.590438  |             |  0.2s"
       ]
      },
      {
       "output_type": "stream",
       "stream": "stdout",
       "text": [
        "\n",
        "   557  |  \u001b[94m  0.015279\u001b[0m  |  \u001b[32m  0.025900\u001b[0m  |     0.589898  |             |  0.2s"
       ]
      },
      {
       "output_type": "stream",
       "stream": "stdout",
       "text": [
        "\n",
        "   558  |  \u001b[94m  0.015264\u001b[0m  |  \u001b[32m  0.025899\u001b[0m  |     0.589378  |             |  0.2s"
       ]
      },
      {
       "output_type": "stream",
       "stream": "stdout",
       "text": [
        "\n",
        "   559  |  \u001b[94m  0.015250\u001b[0m  |  \u001b[32m  0.025898\u001b[0m  |     0.588839  |             |  0.2s"
       ]
      },
      {
       "output_type": "stream",
       "stream": "stdout",
       "text": [
        "\n",
        "   560  |  \u001b[94m  0.015235\u001b[0m  |  \u001b[32m  0.025897\u001b[0m  |     0.588313  |             |  0.2s"
       ]
      },
      {
       "output_type": "stream",
       "stream": "stdout",
       "text": [
        "\n",
        "   561  |  \u001b[94m  0.015221\u001b[0m  |  \u001b[32m  0.025896\u001b[0m  |     0.587788  |             |  0.2s"
       ]
      },
      {
       "output_type": "stream",
       "stream": "stdout",
       "text": [
        "\n",
        "   562  |  \u001b[94m  0.015207\u001b[0m  |  \u001b[32m  0.025894\u001b[0m  |     0.587265  |             |  0.2s"
       ]
      },
      {
       "output_type": "stream",
       "stream": "stdout",
       "text": [
        "\n",
        "   563  |  \u001b[94m  0.015192\u001b[0m  |  \u001b[32m  0.025893\u001b[0m  |     0.586737  |             |  0.2s"
       ]
      },
      {
       "output_type": "stream",
       "stream": "stdout",
       "text": [
        "\n",
        "   564  |  \u001b[94m  0.015178\u001b[0m  |  \u001b[32m  0.025892\u001b[0m  |     0.586216  |             |  0.2s"
       ]
      },
      {
       "output_type": "stream",
       "stream": "stdout",
       "text": [
        "\n",
        "   565  |  \u001b[94m  0.015164\u001b[0m  |  \u001b[32m  0.025891\u001b[0m  |     0.585692  |             |  0.2s"
       ]
      },
      {
       "output_type": "stream",
       "stream": "stdout",
       "text": [
        "\n",
        "   566  |  \u001b[94m  0.015150\u001b[0m  |  \u001b[32m  0.025890\u001b[0m  |     0.585163  |             |  0.2s"
       ]
      },
      {
       "output_type": "stream",
       "stream": "stdout",
       "text": [
        "\n",
        "   567  |  \u001b[94m  0.015136\u001b[0m  |  \u001b[32m  0.025889\u001b[0m  |     0.584636  |             |  0.2s"
       ]
      },
      {
       "output_type": "stream",
       "stream": "stdout",
       "text": [
        "\n",
        "   568  |  \u001b[94m  0.015122\u001b[0m  |  \u001b[32m  0.025888\u001b[0m  |     0.584114  |             |  0.2s"
       ]
      },
      {
       "output_type": "stream",
       "stream": "stdout",
       "text": [
        "\n",
        "   569  |  \u001b[94m  0.015107\u001b[0m  |  \u001b[32m  0.025887\u001b[0m  |     0.583598  |             |  0.2s"
       ]
      },
      {
       "output_type": "stream",
       "stream": "stdout",
       "text": [
        "\n",
        "   570  |  \u001b[94m  0.015093\u001b[0m  |  \u001b[32m  0.025886\u001b[0m  |     0.583078  |             |  0.2s"
       ]
      },
      {
       "output_type": "stream",
       "stream": "stdout",
       "text": [
        "\n",
        "   571  |  \u001b[94m  0.015079\u001b[0m  |  \u001b[32m  0.025885\u001b[0m  |     0.582558  |             |  0.2s"
       ]
      },
      {
       "output_type": "stream",
       "stream": "stdout",
       "text": [
        "\n",
        "   572  |  \u001b[94m  0.015065\u001b[0m  |  \u001b[32m  0.025884\u001b[0m  |     0.582039  |             |  0.2s"
       ]
      },
      {
       "output_type": "stream",
       "stream": "stdout",
       "text": [
        "\n",
        "   573  |  \u001b[94m  0.015051\u001b[0m  |  \u001b[32m  0.025883\u001b[0m  |     0.581517  |             |  0.2s"
       ]
      },
      {
       "output_type": "stream",
       "stream": "stdout",
       "text": [
        "\n",
        "   574  |  \u001b[94m  0.015037\u001b[0m  |  \u001b[32m  0.025882\u001b[0m  |     0.581003  |             |  0.2s"
       ]
      },
      {
       "output_type": "stream",
       "stream": "stdout",
       "text": [
        "\n",
        "   575  |  \u001b[94m  0.015023\u001b[0m  |  \u001b[32m  0.025881\u001b[0m  |     0.580479  |             |  0.2s"
       ]
      },
      {
       "output_type": "stream",
       "stream": "stdout",
       "text": [
        "\n",
        "   576  |  \u001b[94m  0.015010\u001b[0m  |  \u001b[32m  0.025880\u001b[0m  |     0.579962  |             |  0.2s"
       ]
      },
      {
       "output_type": "stream",
       "stream": "stdout",
       "text": [
        "\n",
        "   577  |  \u001b[94m  0.014996\u001b[0m  |  \u001b[32m  0.025879\u001b[0m  |     0.579447  |             |  0.2s"
       ]
      },
      {
       "output_type": "stream",
       "stream": "stdout",
       "text": [
        "\n",
        "   578  |  \u001b[94m  0.014982\u001b[0m  |  \u001b[32m  0.025878\u001b[0m  |     0.578927  |             |  0.2s"
       ]
      },
      {
       "output_type": "stream",
       "stream": "stdout",
       "text": [
        "\n",
        "   579  |  \u001b[94m  0.014968\u001b[0m  |  \u001b[32m  0.025878\u001b[0m  |     0.578410  |             |  0.2s"
       ]
      },
      {
       "output_type": "stream",
       "stream": "stdout",
       "text": [
        "\n",
        "   580  |  \u001b[94m  0.014954\u001b[0m  |  \u001b[32m  0.025877\u001b[0m  |     0.577899  |             |  0.2s"
       ]
      },
      {
       "output_type": "stream",
       "stream": "stdout",
       "text": [
        "\n",
        "   581  |  \u001b[94m  0.014940\u001b[0m  |  \u001b[32m  0.025876\u001b[0m  |     0.577389  |             |  0.2s"
       ]
      },
      {
       "output_type": "stream",
       "stream": "stdout",
       "text": [
        "\n",
        "   582  |  \u001b[94m  0.014927\u001b[0m  |  \u001b[32m  0.025875\u001b[0m  |     0.576870  |             |  0.2s"
       ]
      },
      {
       "output_type": "stream",
       "stream": "stdout",
       "text": [
        "\n",
        "   583  |  \u001b[94m  0.014913\u001b[0m  |  \u001b[32m  0.025874\u001b[0m  |     0.576356  |             |  0.2s"
       ]
      },
      {
       "output_type": "stream",
       "stream": "stdout",
       "text": [
        "\n",
        "   584  |  \u001b[94m  0.014899\u001b[0m  |  \u001b[32m  0.025874\u001b[0m  |     0.575836  |             |  0.2s"
       ]
      },
      {
       "output_type": "stream",
       "stream": "stdout",
       "text": [
        "\n",
        "   585  |  \u001b[94m  0.014885\u001b[0m  |  \u001b[32m  0.025873\u001b[0m  |     0.575327  |             |  0.2s"
       ]
      },
      {
       "output_type": "stream",
       "stream": "stdout",
       "text": [
        "\n",
        "   586  |  \u001b[94m  0.014872\u001b[0m  |  \u001b[32m  0.025872\u001b[0m  |     0.574815  |             |  0.2s"
       ]
      },
      {
       "output_type": "stream",
       "stream": "stdout",
       "text": [
        "\n",
        "   587  |  \u001b[94m  0.014858\u001b[0m  |  \u001b[32m  0.025871\u001b[0m  |     0.574314  |             |  0.2s"
       ]
      },
      {
       "output_type": "stream",
       "stream": "stdout",
       "text": [
        "\n",
        "   588  |  \u001b[94m  0.014844\u001b[0m  |  \u001b[32m  0.025871\u001b[0m  |     0.573791  |             |  0.2s"
       ]
      },
      {
       "output_type": "stream",
       "stream": "stdout",
       "text": [
        "\n",
        "   589  |  \u001b[94m  0.014831\u001b[0m  |  \u001b[32m  0.025870\u001b[0m  |     0.573277  |             |  0.2s"
       ]
      },
      {
       "output_type": "stream",
       "stream": "stdout",
       "text": [
        "\n",
        "   590  |  \u001b[94m  0.014817\u001b[0m  |  \u001b[32m  0.025869\u001b[0m  |     0.572776  |             |  0.2s"
       ]
      },
      {
       "output_type": "stream",
       "stream": "stdout",
       "text": [
        "\n",
        "   591  |  \u001b[94m  0.014804\u001b[0m  |  \u001b[32m  0.025869\u001b[0m  |     0.572268  |             |  0.2s"
       ]
      },
      {
       "output_type": "stream",
       "stream": "stdout",
       "text": [
        "\n",
        "   592  |  \u001b[94m  0.014790\u001b[0m  |  \u001b[32m  0.025868\u001b[0m  |     0.571758  |             |  0.2s"
       ]
      },
      {
       "output_type": "stream",
       "stream": "stdout",
       "text": [
        "\n",
        "   593  |  \u001b[94m  0.014777\u001b[0m  |  \u001b[32m  0.025867\u001b[0m  |     0.571248  |             |  0.2s"
       ]
      },
      {
       "output_type": "stream",
       "stream": "stdout",
       "text": [
        "\n",
        "   594  |  \u001b[94m  0.014763\u001b[0m  |  \u001b[32m  0.025867\u001b[0m  |     0.570740  |             |  0.2s"
       ]
      },
      {
       "output_type": "stream",
       "stream": "stdout",
       "text": [
        "\n",
        "   595  |  \u001b[94m  0.014750\u001b[0m  |  \u001b[32m  0.025866\u001b[0m  |     0.570227  |             |  0.2s"
       ]
      },
      {
       "output_type": "stream",
       "stream": "stdout",
       "text": [
        "\n",
        "   596  |  \u001b[94m  0.014736\u001b[0m  |  \u001b[32m  0.025866\u001b[0m  |     0.569728  |             |  0.2s"
       ]
      },
      {
       "output_type": "stream",
       "stream": "stdout",
       "text": [
        "\n",
        "   597  |  \u001b[94m  0.014723\u001b[0m  |  \u001b[32m  0.025865\u001b[0m  |     0.569217  |             |  0.2s"
       ]
      },
      {
       "output_type": "stream",
       "stream": "stdout",
       "text": [
        "\n",
        "   598  |  \u001b[94m  0.014709\u001b[0m  |  \u001b[32m  0.025865\u001b[0m  |     0.568706  |             |  0.2s"
       ]
      },
      {
       "output_type": "stream",
       "stream": "stdout",
       "text": [
        "\n",
        "   599  |  \u001b[94m  0.014696\u001b[0m  |  \u001b[32m  0.025864\u001b[0m  |     0.568211  |             |  0.2s"
       ]
      },
      {
       "output_type": "stream",
       "stream": "stdout",
       "text": [
        "\n",
        "   600  |  \u001b[94m  0.014683\u001b[0m  |  \u001b[32m  0.025863\u001b[0m  |     0.567711  |             |  0.2s"
       ]
      },
      {
       "output_type": "stream",
       "stream": "stdout",
       "text": [
        "\n",
        "   601  |  \u001b[94m  0.014669\u001b[0m  |  \u001b[32m  0.025862\u001b[0m  |     0.567204  |             |  0.2s"
       ]
      },
      {
       "output_type": "stream",
       "stream": "stdout",
       "text": [
        "\n",
        "   602  |  \u001b[94m  0.014656\u001b[0m  |  \u001b[32m  0.025862\u001b[0m  |     0.566703  |             |  0.2s"
       ]
      },
      {
       "output_type": "stream",
       "stream": "stdout",
       "text": [
        "\n",
        "   603  |  \u001b[94m  0.014643\u001b[0m  |  \u001b[32m  0.025861\u001b[0m  |     0.566200  |             |  0.2s"
       ]
      },
      {
       "output_type": "stream",
       "stream": "stdout",
       "text": [
        "\n",
        "   604  |  \u001b[94m  0.014629\u001b[0m  |  \u001b[32m  0.025861\u001b[0m  |     0.565702  |             |  0.2s"
       ]
      },
      {
       "output_type": "stream",
       "stream": "stdout",
       "text": [
        "\n",
        "   605  |  \u001b[94m  0.014616\u001b[0m  |  \u001b[32m  0.025861\u001b[0m  |     0.565194  |             |  0.2s"
       ]
      },
      {
       "output_type": "stream",
       "stream": "stdout",
       "text": [
        "\n",
        "   606  |  \u001b[94m  0.014603\u001b[0m  |  \u001b[32m  0.025860\u001b[0m  |     0.564692  |             |  0.2s"
       ]
      },
      {
       "output_type": "stream",
       "stream": "stdout",
       "text": [
        "\n",
        "   607  |  \u001b[94m  0.014590\u001b[0m  |  \u001b[32m  0.025859\u001b[0m  |     0.564197  |             |  0.2s"
       ]
      },
      {
       "output_type": "stream",
       "stream": "stdout",
       "text": [
        "\n",
        "   608  |  \u001b[94m  0.014577\u001b[0m  |  \u001b[32m  0.025859\u001b[0m  |     0.563702  |             |  0.2s"
       ]
      },
      {
       "output_type": "stream",
       "stream": "stdout",
       "text": [
        "\n",
        "   609  |  \u001b[94m  0.014563\u001b[0m  |  \u001b[32m  0.025858\u001b[0m  |     0.563200  |             |  0.2s"
       ]
      },
      {
       "output_type": "stream",
       "stream": "stdout",
       "text": [
        "\n",
        "   610  |  \u001b[94m  0.014550\u001b[0m  |  \u001b[32m  0.025858\u001b[0m  |     0.562707  |             |  0.2s"
       ]
      },
      {
       "output_type": "stream",
       "stream": "stdout",
       "text": [
        "\n",
        "   611  |  \u001b[94m  0.014537\u001b[0m  |  \u001b[32m  0.025858\u001b[0m  |     0.562205  |             |  0.2s"
       ]
      },
      {
       "output_type": "stream",
       "stream": "stdout",
       "text": [
        "\n",
        "   612  |  \u001b[94m  0.014524\u001b[0m  |  \u001b[32m  0.025857\u001b[0m  |     0.561705  |             |  0.2s"
       ]
      },
      {
       "output_type": "stream",
       "stream": "stdout",
       "text": [
        "\n",
        "   613  |  \u001b[94m  0.014511\u001b[0m  |  \u001b[32m  0.025857\u001b[0m  |     0.561206  |             |  0.2s"
       ]
      },
      {
       "output_type": "stream",
       "stream": "stdout",
       "text": [
        "\n",
        "   614  |  \u001b[94m  0.014498\u001b[0m  |  \u001b[32m  0.025856\u001b[0m  |     0.560720  |             |  0.2s"
       ]
      },
      {
       "output_type": "stream",
       "stream": "stdout",
       "text": [
        "\n",
        "   615  |  \u001b[94m  0.014485\u001b[0m  |  \u001b[32m  0.025856\u001b[0m  |     0.560224  |             |  0.2s"
       ]
      },
      {
       "output_type": "stream",
       "stream": "stdout",
       "text": [
        "\n",
        "   616  |  \u001b[94m  0.014472\u001b[0m  |  \u001b[32m  0.025855\u001b[0m  |     0.559730  |             |  0.2s"
       ]
      },
      {
       "output_type": "stream",
       "stream": "stdout",
       "text": [
        "\n",
        "   617  |  \u001b[94m  0.014459\u001b[0m  |  \u001b[32m  0.025855\u001b[0m  |     0.559238  |             |  0.2s"
       ]
      },
      {
       "output_type": "stream",
       "stream": "stdout",
       "text": [
        "\n",
        "   618  |  \u001b[94m  0.014446\u001b[0m  |  \u001b[32m  0.025854\u001b[0m  |     0.558752  |             |  0.2s"
       ]
      },
      {
       "output_type": "stream",
       "stream": "stdout",
       "text": [
        "\n",
        "   619  |  \u001b[94m  0.014433\u001b[0m  |  \u001b[32m  0.025854\u001b[0m  |     0.558257  |             |  0.2s"
       ]
      },
      {
       "output_type": "stream",
       "stream": "stdout",
       "text": [
        "\n",
        "   620  |  \u001b[94m  0.014420\u001b[0m  |    0.025854  |     0.557758  |             |  0.2s"
       ]
      },
      {
       "output_type": "stream",
       "stream": "stdout",
       "text": [
        "\n",
        "   621  |  \u001b[94m  0.014407\u001b[0m  |    0.025854  |     0.557259  |             |  0.2s"
       ]
      },
      {
       "output_type": "stream",
       "stream": "stdout",
       "text": [
        "\n",
        "   622  |  \u001b[94m  0.014395\u001b[0m  |  \u001b[32m  0.025853\u001b[0m  |     0.556780  |             |  0.2s"
       ]
      },
      {
       "output_type": "stream",
       "stream": "stdout",
       "text": [
        "\n",
        "   623  |  \u001b[94m  0.014382\u001b[0m  |  \u001b[32m  0.025853\u001b[0m  |     0.556286  |             |  0.2s"
       ]
      },
      {
       "output_type": "stream",
       "stream": "stdout",
       "text": [
        "\n",
        "   624  |  \u001b[94m  0.014369\u001b[0m  |  \u001b[32m  0.025852\u001b[0m  |     0.555807  |             |  0.2s"
       ]
      },
      {
       "output_type": "stream",
       "stream": "stdout",
       "text": [
        "\n",
        "   625  |  \u001b[94m  0.014356\u001b[0m  |  \u001b[32m  0.025852\u001b[0m  |     0.555318  |             |  0.2s"
       ]
      },
      {
       "output_type": "stream",
       "stream": "stdout",
       "text": [
        "\n",
        "   626  |  \u001b[94m  0.014343\u001b[0m  |  \u001b[32m  0.025852\u001b[0m  |     0.554826  |             |  0.2s"
       ]
      },
      {
       "output_type": "stream",
       "stream": "stdout",
       "text": [
        "\n",
        "   627  |  \u001b[94m  0.014330\u001b[0m  |  \u001b[32m  0.025851\u001b[0m  |     0.554341  |             |  0.2s"
       ]
      },
      {
       "output_type": "stream",
       "stream": "stdout",
       "text": [
        "\n",
        "   628  |  \u001b[94m  0.014318\u001b[0m  |  \u001b[32m  0.025851\u001b[0m  |     0.553849  |             |  0.2s"
       ]
      },
      {
       "output_type": "stream",
       "stream": "stdout",
       "text": [
        "\n",
        "   629  |  \u001b[94m  0.014305\u001b[0m  |  \u001b[32m  0.025851\u001b[0m  |     0.553368  |             |  0.2s"
       ]
      },
      {
       "output_type": "stream",
       "stream": "stdout",
       "text": [
        "\n",
        "   630  |  \u001b[94m  0.014292\u001b[0m  |  \u001b[32m  0.025851\u001b[0m  |     0.552882  |             |  0.2s"
       ]
      },
      {
       "output_type": "stream",
       "stream": "stdout",
       "text": [
        "\n",
        "   631  |  \u001b[94m  0.014280\u001b[0m  |  \u001b[32m  0.025851\u001b[0m  |     0.552392  |             |  0.2s"
       ]
      },
      {
       "output_type": "stream",
       "stream": "stdout",
       "text": [
        "\n",
        "   632  |  \u001b[94m  0.014267\u001b[0m  |  \u001b[32m  0.025850\u001b[0m  |     0.551915  |             |  0.2s"
       ]
      },
      {
       "output_type": "stream",
       "stream": "stdout",
       "text": [
        "\n",
        "   633  |  \u001b[94m  0.014254\u001b[0m  |  \u001b[32m  0.025850\u001b[0m  |     0.551428  |             |  0.2s"
       ]
      },
      {
       "output_type": "stream",
       "stream": "stdout",
       "text": [
        "\n",
        "   634  |  \u001b[94m  0.014242\u001b[0m  |  \u001b[32m  0.025850\u001b[0m  |     0.550946  |             |  0.2s"
       ]
      },
      {
       "output_type": "stream",
       "stream": "stdout",
       "text": [
        "\n",
        "   635  |  \u001b[94m  0.014229\u001b[0m  |  \u001b[32m  0.025850\u001b[0m  |     0.550460  |             |  0.2s"
       ]
      },
      {
       "output_type": "stream",
       "stream": "stdout",
       "text": [
        "\n",
        "   636  |  \u001b[94m  0.014217\u001b[0m  |  \u001b[32m  0.025849\u001b[0m  |     0.549979  |             |  0.2s"
       ]
      },
      {
       "output_type": "stream",
       "stream": "stdout",
       "text": [
        "\n",
        "   637  |  \u001b[94m  0.014204\u001b[0m  |  \u001b[32m  0.025849\u001b[0m  |     0.549495  |             |  0.2s"
       ]
      },
      {
       "output_type": "stream",
       "stream": "stdout",
       "text": [
        "\n",
        "   638  |  \u001b[94m  0.014192\u001b[0m  |  \u001b[32m  0.025849\u001b[0m  |     0.549021  |             |  0.2s"
       ]
      },
      {
       "output_type": "stream",
       "stream": "stdout",
       "text": [
        "\n",
        "   639  |  \u001b[94m  0.014179\u001b[0m  |  \u001b[32m  0.025849\u001b[0m  |     0.548538  |             |  0.2s"
       ]
      },
      {
       "output_type": "stream",
       "stream": "stdout",
       "text": [
        "\n",
        "   640  |  \u001b[94m  0.014167\u001b[0m  |  \u001b[32m  0.025849\u001b[0m  |     0.548058  |             |  0.2s"
       ]
      },
      {
       "output_type": "stream",
       "stream": "stdout",
       "text": [
        "\n",
        "   641  |  \u001b[94m  0.014154\u001b[0m  |    0.025849  |     0.547571  |             |  0.2s"
       ]
      },
      {
       "output_type": "stream",
       "stream": "stdout",
       "text": [
        "\n",
        "   642  |  \u001b[94m  0.014142\u001b[0m  |    0.025849  |     0.547089  |             |  0.2s"
       ]
      },
      {
       "output_type": "stream",
       "stream": "stdout",
       "text": [
        "\n",
        "   643  |  \u001b[94m  0.014129\u001b[0m  |  \u001b[32m  0.025849\u001b[0m  |     0.546615  |             |  0.2s"
       ]
      },
      {
       "output_type": "stream",
       "stream": "stdout",
       "text": [
        "\n",
        "   644  |  \u001b[94m  0.014117\u001b[0m  |  \u001b[32m  0.025849\u001b[0m  |     0.546140  |             |  0.2s"
       ]
      },
      {
       "output_type": "stream",
       "stream": "stdout",
       "text": [
        "\n",
        "   645  |  \u001b[94m  0.014105\u001b[0m  |  \u001b[32m  0.025848\u001b[0m  |     0.545662  |             |  0.2s"
       ]
      },
      {
       "output_type": "stream",
       "stream": "stdout",
       "text": [
        "\n",
        "   646  |  \u001b[94m  0.014092\u001b[0m  |    0.025849  |     0.545184  |             |  0.2s"
       ]
      },
      {
       "output_type": "stream",
       "stream": "stdout",
       "text": [
        "\n",
        "   647  |  \u001b[94m  0.014080\u001b[0m  |  \u001b[32m  0.025848\u001b[0m  |     0.544713  |             |  0.2s"
       ]
      },
      {
       "output_type": "stream",
       "stream": "stdout",
       "text": [
        "\n",
        "   648  |  \u001b[94m  0.014068\u001b[0m  |    0.025848  |     0.544234  |             |  0.2s"
       ]
      },
      {
       "output_type": "stream",
       "stream": "stdout",
       "text": [
        "\n",
        "   649  |  \u001b[94m  0.014055\u001b[0m  |  \u001b[32m  0.025848\u001b[0m  |     0.543762  |             |  0.2s"
       ]
      },
      {
       "output_type": "stream",
       "stream": "stdout",
       "text": [
        "\n",
        "   650  |  \u001b[94m  0.014043\u001b[0m  |    0.025848  |     0.543286  |             |  0.2s"
       ]
      },
      {
       "output_type": "stream",
       "stream": "stdout",
       "text": [
        "\n",
        "   651  |  \u001b[94m  0.014031\u001b[0m  |    0.025848  |     0.542809  |             |  0.2s"
       ]
      },
      {
       "output_type": "stream",
       "stream": "stdout",
       "text": [
        "\n",
        "   652  |  \u001b[94m  0.014018\u001b[0m  |  \u001b[32m  0.025848\u001b[0m  |     0.542345  |             |  0.2s"
       ]
      },
      {
       "output_type": "stream",
       "stream": "stdout",
       "text": [
        "\n",
        "   653  |  \u001b[94m  0.014006\u001b[0m  |    0.025848  |     0.541868  |             |  0.2s"
       ]
      },
      {
       "output_type": "stream",
       "stream": "stdout",
       "text": [
        "\n",
        "   654  |  \u001b[94m  0.013994\u001b[0m  |  \u001b[32m  0.025848\u001b[0m  |     0.541403  |             |  0.2s"
       ]
      },
      {
       "output_type": "stream",
       "stream": "stdout",
       "text": [
        "\n",
        "   655  |  \u001b[94m  0.013982\u001b[0m  |    0.025848  |     0.540929  |             |  0.2s"
       ]
      },
      {
       "output_type": "stream",
       "stream": "stdout",
       "text": [
        "\n",
        "   656  |  \u001b[94m  0.013970\u001b[0m  |    0.025848  |     0.540454  |             |  0.2s"
       ]
      },
      {
       "output_type": "stream",
       "stream": "stdout",
       "text": [
        "\n",
        "   657  |  \u001b[94m  0.013958\u001b[0m  |    0.025848  |     0.539984  |             |  0.2s"
       ]
      },
      {
       "output_type": "stream",
       "stream": "stdout",
       "text": [
        "\n",
        "   658  |  \u001b[94m  0.013945\u001b[0m  |    0.025848  |     0.539511  |             |  0.2s"
       ]
      },
      {
       "output_type": "stream",
       "stream": "stdout",
       "text": [
        "\n",
        "   659  |  \u001b[94m  0.013933\u001b[0m  |  \u001b[32m  0.025848\u001b[0m  |     0.539051  |             |  0.2s"
       ]
      },
      {
       "output_type": "stream",
       "stream": "stdout",
       "text": [
        "\n",
        "   660  |  \u001b[94m  0.013921\u001b[0m  |  \u001b[32m  0.025848\u001b[0m  |     0.538586  |             |  0.2s"
       ]
      },
      {
       "output_type": "stream",
       "stream": "stdout",
       "text": [
        "\n",
        "   661  |  \u001b[94m  0.013909\u001b[0m  |    0.025848  |     0.538105  |             |  0.2s"
       ]
      },
      {
       "output_type": "stream",
       "stream": "stdout",
       "text": [
        "\n",
        "   662  |  \u001b[94m  0.013897\u001b[0m  |    0.025848  |     0.537647  |             |  0.2s"
       ]
      },
      {
       "output_type": "stream",
       "stream": "stdout",
       "text": [
        "\n",
        "   663  |  \u001b[94m  0.013885\u001b[0m  |    0.025848  |     0.537174  |             |  0.2s"
       ]
      },
      {
       "output_type": "stream",
       "stream": "stdout",
       "text": [
        "\n",
        "   664  |  \u001b[94m  0.013873\u001b[0m  |    0.025848  |     0.536707  |             |  0.2s"
       ]
      },
      {
       "output_type": "stream",
       "stream": "stdout",
       "text": [
        "\n",
        "   665  |  \u001b[94m  0.013861\u001b[0m  |    0.025848  |     0.536240  |             |  0.2s"
       ]
      },
      {
       "output_type": "stream",
       "stream": "stdout",
       "text": [
        "\n",
        "   666  |  \u001b[94m  0.013849\u001b[0m  |    0.025848  |     0.535776  |             |  0.2s"
       ]
      },
      {
       "output_type": "stream",
       "stream": "stdout",
       "text": [
        "\n",
        "   667  |  \u001b[94m  0.013837\u001b[0m  |    0.025848  |     0.535306  |             |  0.2s"
       ]
      },
      {
       "output_type": "stream",
       "stream": "stdout",
       "text": [
        "\n",
        "   668  |  \u001b[94m  0.013825\u001b[0m  |    0.025848  |     0.534844  |             |  0.2s"
       ]
      },
      {
       "output_type": "stream",
       "stream": "stdout",
       "text": [
        "\n",
        "   669  |  \u001b[94m  0.013813\u001b[0m  |    0.025848  |     0.534385  |             |  0.2s"
       ]
      },
      {
       "output_type": "stream",
       "stream": "stdout",
       "text": [
        "\n",
        "   670  |  \u001b[94m  0.013801\u001b[0m  |    0.025848  |     0.533911  |             |  0.2s"
       ]
      },
      {
       "output_type": "stream",
       "stream": "stdout",
       "text": [
        "\n",
        "   671  |  \u001b[94m  0.013789\u001b[0m  |    0.025848  |     0.533450  |             |  0.2s"
       ]
      },
      {
       "output_type": "stream",
       "stream": "stdout",
       "text": [
        "\n",
        "   672  |  \u001b[94m  0.013777\u001b[0m  |    0.025849  |     0.532983  |             |  0.2s"
       ]
      },
      {
       "output_type": "stream",
       "stream": "stdout",
       "text": [
        "\n",
        "   673  |  \u001b[94m  0.013765\u001b[0m  |    0.025848  |     0.532528  |             |  0.2s"
       ]
      },
      {
       "output_type": "stream",
       "stream": "stdout",
       "text": [
        "\n",
        "   674  |  \u001b[94m  0.013753\u001b[0m  |    0.025848  |     0.532067  |             |  0.2s"
       ]
      },
      {
       "output_type": "stream",
       "stream": "stdout",
       "text": [
        "\n",
        "   675  |  \u001b[94m  0.013741\u001b[0m  |    0.025849  |     0.531606  |             |  0.2s"
       ]
      },
      {
       "output_type": "stream",
       "stream": "stdout",
       "text": [
        "\n",
        "   676  |  \u001b[94m  0.013729\u001b[0m  |    0.025849  |     0.531137  |             |  0.2s"
       ]
      },
      {
       "output_type": "stream",
       "stream": "stdout",
       "text": [
        "\n",
        "   677  |  \u001b[94m  0.013718\u001b[0m  |    0.025849  |     0.530681  |             |  0.2s"
       ]
      },
      {
       "output_type": "stream",
       "stream": "stdout",
       "text": [
        "\n",
        "   678  |  \u001b[94m  0.013706\u001b[0m  |    0.025849  |     0.530219  |             |  0.2s"
       ]
      },
      {
       "output_type": "stream",
       "stream": "stdout",
       "text": [
        "\n",
        "   679  |  \u001b[94m  0.013694\u001b[0m  |    0.025850  |     0.529751  |             |  0.2s"
       ]
      },
      {
       "output_type": "stream",
       "stream": "stdout",
       "text": [
        "\n",
        "   680  |  \u001b[94m  0.013682\u001b[0m  |    0.025850  |     0.529295  |             |  0.2s"
       ]
      },
      {
       "output_type": "stream",
       "stream": "stdout",
       "text": [
        "\n",
        "   681  |  \u001b[94m  0.013670\u001b[0m  |    0.025850  |     0.528837  |             |  0.2s"
       ]
      },
      {
       "output_type": "stream",
       "stream": "stdout",
       "text": [
        "\n",
        "   682  |  \u001b[94m  0.013659\u001b[0m  |    0.025851  |     0.528368  |             |  0.2s"
       ]
      },
      {
       "output_type": "stream",
       "stream": "stdout",
       "text": [
        "\n",
        "   683  |  \u001b[94m  0.013647\u001b[0m  |    0.025851  |     0.527917  |             |  0.2s"
       ]
      },
      {
       "output_type": "stream",
       "stream": "stdout",
       "text": [
        "\n",
        "   684  |  \u001b[94m  0.013635\u001b[0m  |    0.025851  |     0.527464  |             |  0.2s"
       ]
      },
      {
       "output_type": "stream",
       "stream": "stdout",
       "text": [
        "\n",
        "   685  |  \u001b[94m  0.013624\u001b[0m  |    0.025851  |     0.527010  |             |  0.2s"
       ]
      },
      {
       "output_type": "stream",
       "stream": "stdout",
       "text": [
        "\n",
        "   686  |  \u001b[94m  0.013612\u001b[0m  |    0.025851  |     0.526544  |             |  0.2s"
       ]
      },
      {
       "output_type": "stream",
       "stream": "stdout",
       "text": [
        "\n",
        "   687  |  \u001b[94m  0.013600\u001b[0m  |    0.025852  |     0.526090  |             |  0.2s"
       ]
      },
      {
       "output_type": "stream",
       "stream": "stdout",
       "text": [
        "\n",
        "   688  |  \u001b[94m  0.013589\u001b[0m  |    0.025852  |     0.525626  |             |  0.2s"
       ]
      },
      {
       "output_type": "stream",
       "stream": "stdout",
       "text": [
        "\n",
        "   689  |  \u001b[94m  0.013577\u001b[0m  |    0.025853  |     0.525167  |             |  0.2s"
       ]
      },
      {
       "output_type": "stream",
       "stream": "stdout",
       "text": [
        "\n",
        "   690  |  \u001b[94m  0.013565\u001b[0m  |    0.025853  |     0.524707  |             |  0.2s"
       ]
      },
      {
       "output_type": "stream",
       "stream": "stdout",
       "text": [
        "\n",
        "   691  |  \u001b[94m  0.013554\u001b[0m  |    0.025853  |     0.524260  |             |  0.2s"
       ]
      },
      {
       "output_type": "stream",
       "stream": "stdout",
       "text": [
        "\n",
        "   692  |  \u001b[94m  0.013542\u001b[0m  |    0.025854  |     0.523802  |             |  0.2s"
       ]
      },
      {
       "output_type": "stream",
       "stream": "stdout",
       "text": [
        "\n",
        "   693  |  \u001b[94m  0.013531\u001b[0m  |    0.025854  |     0.523349  |             |  0.2s"
       ]
      },
      {
       "output_type": "stream",
       "stream": "stdout",
       "text": [
        "\n",
        "   694  |  \u001b[94m  0.013519\u001b[0m  |    0.025855  |     0.522889  |             |  0.2s"
       ]
      },
      {
       "output_type": "stream",
       "stream": "stdout",
       "text": [
        "\n",
        "   695  |  \u001b[94m  0.013508\u001b[0m  |    0.025855  |     0.522435  |             |  0.2s"
       ]
      },
      {
       "output_type": "stream",
       "stream": "stdout",
       "text": [
        "\n",
        "   696  |  \u001b[94m  0.013496\u001b[0m  |    0.025856  |     0.521975  |             |  0.2s"
       ]
      },
      {
       "output_type": "stream",
       "stream": "stdout",
       "text": [
        "\n",
        "   697  |  \u001b[94m  0.013485\u001b[0m  |    0.025857  |     0.521523  |             |  0.2s"
       ]
      },
      {
       "output_type": "stream",
       "stream": "stdout",
       "text": [
        "\n",
        "   698  |  \u001b[94m  0.013473\u001b[0m  |    0.025857  |     0.521066  |             |  0.2s"
       ]
      },
      {
       "output_type": "stream",
       "stream": "stdout",
       "text": [
        "\n",
        "   699  |  \u001b[94m  0.013462\u001b[0m  |    0.025857  |     0.520622  |             |  0.2s"
       ]
      },
      {
       "output_type": "stream",
       "stream": "stdout",
       "text": [
        "\n",
        "   700  |  \u001b[94m  0.013450\u001b[0m  |    0.025858  |     0.520171  |             |  0.2s"
       ]
      },
      {
       "output_type": "stream",
       "stream": "stdout",
       "text": [
        "\n",
        "   701  |  \u001b[94m  0.013439\u001b[0m  |    0.025858  |     0.519719  |             |  0.2s"
       ]
      },
      {
       "output_type": "stream",
       "stream": "stdout",
       "text": [
        "\n",
        "   702  |  \u001b[94m  0.013428\u001b[0m  |    0.025859  |     0.519266  |             |  0.2s"
       ]
      },
      {
       "output_type": "stream",
       "stream": "stdout",
       "text": [
        "\n",
        "   703  |  \u001b[94m  0.013416\u001b[0m  |    0.025859  |     0.518818  |             |  0.2s"
       ]
      },
      {
       "output_type": "stream",
       "stream": "stdout",
       "text": [
        "\n",
        "   704  |  \u001b[94m  0.013405\u001b[0m  |    0.025860  |     0.518363  |             |  0.2s"
       ]
      },
      {
       "output_type": "stream",
       "stream": "stdout",
       "text": [
        "\n",
        "   705  |  \u001b[94m  0.013394\u001b[0m  |    0.025861  |     0.517911  |             |  0.2s"
       ]
      },
      {
       "output_type": "stream",
       "stream": "stdout",
       "text": [
        "\n",
        "   706  |  \u001b[94m  0.013382\u001b[0m  |    0.025862  |     0.517458  |             |  0.2s"
       ]
      },
      {
       "output_type": "stream",
       "stream": "stdout",
       "text": [
        "\n",
        "   707  |  \u001b[94m  0.013371\u001b[0m  |    0.025862  |     0.517011  |             |  0.2s"
       ]
      },
      {
       "output_type": "stream",
       "stream": "stdout",
       "text": [
        "\n",
        "   708  |  \u001b[94m  0.013360\u001b[0m  |    0.025863  |     0.516561  |             |  0.2s"
       ]
      },
      {
       "output_type": "stream",
       "stream": "stdout",
       "text": [
        "\n",
        "   709  |  \u001b[94m  0.013349\u001b[0m  |    0.025863  |     0.516122  |             |  0.2s"
       ]
      },
      {
       "output_type": "stream",
       "stream": "stdout",
       "text": [
        "\n",
        "   710  |  \u001b[94m  0.013337\u001b[0m  |    0.025864  |     0.515670  |             |  0.2s"
       ]
      },
      {
       "output_type": "stream",
       "stream": "stdout",
       "text": [
        "\n",
        "   711  |  \u001b[94m  0.013326\u001b[0m  |    0.025865  |     0.515220  |             |  0.2s"
       ]
      },
      {
       "output_type": "stream",
       "stream": "stdout",
       "text": [
        "\n",
        "   712  |  \u001b[94m  0.013315\u001b[0m  |    0.025865  |     0.514780  |             |  0.2s"
       ]
      },
      {
       "output_type": "stream",
       "stream": "stdout",
       "text": [
        "\n",
        "   713  |  \u001b[94m  0.013304\u001b[0m  |    0.025866  |     0.514330  |             |  0.2s"
       ]
      },
      {
       "output_type": "stream",
       "stream": "stdout",
       "text": [
        "\n",
        "   714  |  \u001b[94m  0.013292\u001b[0m  |    0.025867  |     0.513882  |             |  0.2s"
       ]
      },
      {
       "output_type": "stream",
       "stream": "stdout",
       "text": [
        "\n",
        "   715  |  \u001b[94m  0.013281\u001b[0m  |    0.025867  |     0.513443  |             |  0.2s"
       ]
      },
      {
       "output_type": "stream",
       "stream": "stdout",
       "text": [
        "\n",
        "   716  |  \u001b[94m  0.013270\u001b[0m  |    0.025868  |     0.512998  |             |  0.2s"
       ]
      },
      {
       "output_type": "stream",
       "stream": "stdout",
       "text": [
        "\n",
        "   717  |  \u001b[94m  0.013259\u001b[0m  |    0.025869  |     0.512552  |             |  0.2s"
       ]
      },
      {
       "output_type": "stream",
       "stream": "stdout",
       "text": [
        "\n",
        "   718  |  \u001b[94m  0.013248\u001b[0m  |    0.025869  |     0.512111  |             |  0.2s"
       ]
      },
      {
       "output_type": "stream",
       "stream": "stdout",
       "text": [
        "\n",
        "   719  |  \u001b[94m  0.013237\u001b[0m  |    0.025870  |     0.511663  |             |  0.2s"
       ]
      },
      {
       "output_type": "stream",
       "stream": "stdout",
       "text": [
        "\n",
        "   720  |  \u001b[94m  0.013226\u001b[0m  |    0.025871  |     0.511225  |             |  0.2s"
       ]
      },
      {
       "output_type": "stream",
       "stream": "stdout",
       "text": [
        "\n",
        "   721  |  \u001b[94m  0.013215\u001b[0m  |    0.025871  |     0.510790  |             |  0.2s"
       ]
      },
      {
       "output_type": "stream",
       "stream": "stdout",
       "text": [
        "\n",
        "   722  |  \u001b[94m  0.013204\u001b[0m  |    0.025872  |     0.510349  |             |  0.2s"
       ]
      },
      {
       "output_type": "stream",
       "stream": "stdout",
       "text": [
        "\n",
        "   723  |  \u001b[94m  0.013193\u001b[0m  |    0.025872  |     0.509917  |             |  0.2s"
       ]
      },
      {
       "output_type": "stream",
       "stream": "stdout",
       "text": [
        "\n",
        "   724  |  \u001b[94m  0.013182\u001b[0m  |    0.025873  |     0.509476  |             |  0.2s"
       ]
      },
      {
       "output_type": "stream",
       "stream": "stdout",
       "text": [
        "\n",
        "   725  |  \u001b[94m  0.013171\u001b[0m  |    0.025874  |     0.509034  |             |  0.2s"
       ]
      },
      {
       "output_type": "stream",
       "stream": "stdout",
       "text": [
        "\n",
        "   726  |  \u001b[94m  0.013160\u001b[0m  |    0.025874  |     0.508605  |             |  0.2s"
       ]
      },
      {
       "output_type": "stream",
       "stream": "stdout",
       "text": [
        "\n",
        "   727  |  \u001b[94m  0.013149\u001b[0m  |    0.025875  |     0.508163  |             |  0.2s"
       ]
      },
      {
       "output_type": "stream",
       "stream": "stdout",
       "text": [
        "\n",
        "   728  |  \u001b[94m  0.013138\u001b[0m  |    0.025875  |     0.507737  |             |  0.2s"
       ]
      },
      {
       "output_type": "stream",
       "stream": "stdout",
       "text": [
        "\n",
        "   729  |  \u001b[94m  0.013127\u001b[0m  |    0.025876  |     0.507311  |             |  0.2s"
       ]
      },
      {
       "output_type": "stream",
       "stream": "stdout",
       "text": [
        "\n",
        "   730  |  \u001b[94m  0.013116\u001b[0m  |    0.025876  |     0.506872  |             |  0.2s"
       ]
      },
      {
       "output_type": "stream",
       "stream": "stdout",
       "text": [
        "\n",
        "   731  |  \u001b[94m  0.013105\u001b[0m  |    0.025877  |     0.506439  |             |  0.2s"
       ]
      },
      {
       "output_type": "stream",
       "stream": "stdout",
       "text": [
        "\n",
        "   732  |  \u001b[94m  0.013094\u001b[0m  |    0.025877  |     0.506011  |             |  0.2s"
       ]
      },
      {
       "output_type": "stream",
       "stream": "stdout",
       "text": [
        "\n",
        "   733  |  \u001b[94m  0.013083\u001b[0m  |    0.025878  |     0.505583  |             |  0.2s"
       ]
      },
      {
       "output_type": "stream",
       "stream": "stdout",
       "text": [
        "\n",
        "   734  |  \u001b[94m  0.013073\u001b[0m  |    0.025879  |     0.505145  |             |  0.2s"
       ]
      },
      {
       "output_type": "stream",
       "stream": "stdout",
       "text": [
        "\n",
        "   735  |  \u001b[94m  0.013062\u001b[0m  |    0.025879  |     0.504715  |             |  0.2s"
       ]
      },
      {
       "output_type": "stream",
       "stream": "stdout",
       "text": [
        "\n",
        "   736  |  \u001b[94m  0.013051\u001b[0m  |    0.025880  |     0.504284  |             |  0.2s"
       ]
      },
      {
       "output_type": "stream",
       "stream": "stdout",
       "text": [
        "\n",
        "   737  |  \u001b[94m  0.013040\u001b[0m  |    0.025881  |     0.503852  |             |  0.2s"
       ]
      },
      {
       "output_type": "stream",
       "stream": "stdout",
       "text": [
        "\n",
        "   738  |  \u001b[94m  0.013029\u001b[0m  |    0.025881  |     0.503424  |             |  0.2s"
       ]
      },
      {
       "output_type": "stream",
       "stream": "stdout",
       "text": [
        "\n",
        "   739  |  \u001b[94m  0.013019\u001b[0m  |    0.025882  |     0.502998  |             |  0.2s"
       ]
      },
      {
       "output_type": "stream",
       "stream": "stdout",
       "text": [
        "\n",
        "   740  |  \u001b[94m  0.013008\u001b[0m  |    0.025883  |     0.502567  |             |  0.2s"
       ]
      },
      {
       "output_type": "stream",
       "stream": "stdout",
       "text": [
        "\n",
        "   741  |  \u001b[94m  0.012997\u001b[0m  |    0.025883  |     0.502150  |             |  0.2s"
       ]
      },
      {
       "output_type": "stream",
       "stream": "stdout",
       "text": [
        "\n",
        "   742  |  \u001b[94m  0.012986\u001b[0m  |    0.025884  |     0.501719  |             |  0.2s"
       ]
      },
      {
       "output_type": "stream",
       "stream": "stdout",
       "text": [
        "\n",
        "   743  |  \u001b[94m  0.012976\u001b[0m  |    0.025885  |     0.501287  |             |  0.2s"
       ]
      },
      {
       "output_type": "stream",
       "stream": "stdout",
       "text": [
        "\n",
        "   744  |  \u001b[94m  0.012965\u001b[0m  |    0.025885  |     0.500858  |             |  0.2s"
       ]
      },
      {
       "output_type": "stream",
       "stream": "stdout",
       "text": [
        "\n",
        "   745  |  \u001b[94m  0.012954\u001b[0m  |    0.025886  |     0.500442  |             |  0.2s"
       ]
      },
      {
       "output_type": "stream",
       "stream": "stdout",
       "text": [
        "\n",
        "   746  |  \u001b[94m  0.012944\u001b[0m  |    0.025886  |     0.500015  |             |  0.2s"
       ]
      },
      {
       "output_type": "stream",
       "stream": "stdout",
       "text": [
        "\n",
        "   747  |  \u001b[94m  0.012933\u001b[0m  |    0.025887  |     0.499587  |             |  0.2s"
       ]
      },
      {
       "output_type": "stream",
       "stream": "stdout",
       "text": [
        "\n",
        "   748  |  \u001b[94m  0.012922\u001b[0m  |    0.025887  |     0.499173  |             |  0.2s"
       ]
      },
      {
       "output_type": "stream",
       "stream": "stdout",
       "text": [
        "\n",
        "   749  |  \u001b[94m  0.012912\u001b[0m  |    0.025888  |     0.498754  |             |  0.2s"
       ]
      },
      {
       "output_type": "stream",
       "stream": "stdout",
       "text": [
        "\n",
        "   750  |  \u001b[94m  0.012901\u001b[0m  |    0.025889  |     0.498327  |             |  0.2s"
       ]
      },
      {
       "output_type": "stream",
       "stream": "stdout",
       "text": [
        "\n",
        "   751  |  \u001b[94m  0.012891\u001b[0m  |    0.025890  |     0.497902  |             |  0.2s"
       ]
      },
      {
       "output_type": "stream",
       "stream": "stdout",
       "text": [
        "\n",
        "   752  |  \u001b[94m  0.012880\u001b[0m  |    0.025891  |     0.497480  |             |  0.2s"
       ]
      },
      {
       "output_type": "stream",
       "stream": "stdout",
       "text": [
        "\n",
        "   753  |  \u001b[94m  0.012869\u001b[0m  |    0.025891  |     0.497054  |             |  0.2s"
       ]
      },
      {
       "output_type": "stream",
       "stream": "stdout",
       "text": [
        "\n",
        "   754  |  \u001b[94m  0.012859\u001b[0m  |    0.025892  |     0.496640  |             |  0.2s"
       ]
      },
      {
       "output_type": "stream",
       "stream": "stdout",
       "text": [
        "\n",
        "   755  |  \u001b[94m  0.012848\u001b[0m  |    0.025892  |     0.496224  |             |  0.2s"
       ]
      },
      {
       "output_type": "stream",
       "stream": "stdout",
       "text": [
        "\n",
        "   756  |  \u001b[94m  0.012838\u001b[0m  |    0.025893  |     0.495803  |             |  0.2s"
       ]
      },
      {
       "output_type": "stream",
       "stream": "stdout",
       "text": [
        "\n",
        "   757  |  \u001b[94m  0.012827\u001b[0m  |    0.025894  |     0.495380  |             |  0.2s"
       ]
      },
      {
       "output_type": "stream",
       "stream": "stdout",
       "text": [
        "\n",
        "   758  |  \u001b[94m  0.012817\u001b[0m  |    0.025895  |     0.494968  |             |  0.2s"
       ]
      },
      {
       "output_type": "stream",
       "stream": "stdout",
       "text": [
        "\n",
        "   759  |  \u001b[94m  0.012806\u001b[0m  |    0.025895  |     0.494549  |             |  0.2s"
       ]
      },
      {
       "output_type": "stream",
       "stream": "stdout",
       "text": [
        "\n",
        "   760  |  \u001b[94m  0.012796\u001b[0m  |    0.025896  |     0.494130  |             |  0.2s"
       ]
      },
      {
       "output_type": "stream",
       "stream": "stdout",
       "text": [
        "\n",
        "   761  |  \u001b[94m  0.012786\u001b[0m  |    0.025897  |     0.493704  |             |  0.2s"
       ]
      },
      {
       "output_type": "stream",
       "stream": "stdout",
       "text": [
        "\n",
        "   762  |  \u001b[94m  0.012775\u001b[0m  |    0.025898  |     0.493289  |             |  0.2s"
       ]
      },
      {
       "output_type": "stream",
       "stream": "stdout",
       "text": [
        "\n",
        "   763  |  \u001b[94m  0.012765\u001b[0m  |    0.025899  |     0.492871  |             |  0.2s"
       ]
      },
      {
       "output_type": "stream",
       "stream": "stdout",
       "text": [
        "\n",
        "   764  |  \u001b[94m  0.012754\u001b[0m  |    0.025900  |     0.492448  |             |  0.2s"
       ]
      },
      {
       "output_type": "stream",
       "stream": "stdout",
       "text": [
        "\n",
        "   765  |  \u001b[94m  0.012744\u001b[0m  |    0.025900  |     0.492041  |             |  0.2s"
       ]
      },
      {
       "output_type": "stream",
       "stream": "stdout",
       "text": [
        "\n",
        "   766  |  \u001b[94m  0.012734\u001b[0m  |    0.025901  |     0.491616  |             |  0.2s"
       ]
      },
      {
       "output_type": "stream",
       "stream": "stdout",
       "text": [
        "\n",
        "   767  |  \u001b[94m  0.012723\u001b[0m  |    0.025902  |     0.491203  |             |  0.2s"
       ]
      },
      {
       "output_type": "stream",
       "stream": "stdout",
       "text": [
        "\n",
        "   768  |  \u001b[94m  0.012713\u001b[0m  |    0.025903  |     0.490784  |             |  0.2s"
       ]
      },
      {
       "output_type": "stream",
       "stream": "stdout",
       "text": [
        "\n",
        "   769  |  \u001b[94m  0.012702\u001b[0m  |    0.025903  |     0.490379  |             |  0.2s"
       ]
      },
      {
       "output_type": "stream",
       "stream": "stdout",
       "text": [
        "\n",
        "   770  |  \u001b[94m  0.012692\u001b[0m  |    0.025905  |     0.489956  |             |  0.2s"
       ]
      },
      {
       "output_type": "stream",
       "stream": "stdout",
       "text": [
        "\n",
        "   771  |  \u001b[94m  0.012682\u001b[0m  |    0.025905  |     0.489544  |             |  0.2s"
       ]
      },
      {
       "output_type": "stream",
       "stream": "stdout",
       "text": [
        "\n",
        "   772  |  \u001b[94m  0.012671\u001b[0m  |    0.025906  |     0.489128  |             |  0.2s"
       ]
      },
      {
       "output_type": "stream",
       "stream": "stdout",
       "text": [
        "\n",
        "   773  |  \u001b[94m  0.012661\u001b[0m  |    0.025907  |     0.488709  |             |  0.2s"
       ]
      },
      {
       "output_type": "stream",
       "stream": "stdout",
       "text": [
        "\n",
        "   774  |  \u001b[94m  0.012651\u001b[0m  |    0.025908  |     0.488299  |             |  0.2s"
       ]
      },
      {
       "output_type": "stream",
       "stream": "stdout",
       "text": [
        "\n",
        "   775  |  \u001b[94m  0.012641\u001b[0m  |    0.025909  |     0.487894  |             |  0.2s"
       ]
      },
      {
       "output_type": "stream",
       "stream": "stdout",
       "text": [
        "\n",
        "   776  |  \u001b[94m  0.012630\u001b[0m  |    0.025910  |     0.487482  |             |  0.2s"
       ]
      },
      {
       "output_type": "stream",
       "stream": "stdout",
       "text": [
        "\n",
        "   777  |  \u001b[94m  0.012620\u001b[0m  |    0.025911  |     0.487061  |             |  0.2s"
       ]
      },
      {
       "output_type": "stream",
       "stream": "stdout",
       "text": [
        "\n",
        "   778  |  \u001b[94m  0.012610\u001b[0m  |    0.025912  |     0.486656  |             |  0.2s"
       ]
      },
      {
       "output_type": "stream",
       "stream": "stdout",
       "text": [
        "\n",
        "   779  |  \u001b[94m  0.012600\u001b[0m  |    0.025913  |     0.486243  |             |  0.2s"
       ]
      },
      {
       "output_type": "stream",
       "stream": "stdout",
       "text": [
        "\n",
        "   780  |  \u001b[94m  0.012590\u001b[0m  |    0.025914  |     0.485830  |             |  0.2s"
       ]
      },
      {
       "output_type": "stream",
       "stream": "stdout",
       "text": [
        "\n",
        "   781  |  \u001b[94m  0.012579\u001b[0m  |    0.025915  |     0.485421  |             |  0.2s"
       ]
      },
      {
       "output_type": "stream",
       "stream": "stdout",
       "text": [
        "\n",
        "   782  |  \u001b[94m  0.012569\u001b[0m  |    0.025915  |     0.485018  |             |  0.2s"
       ]
      },
      {
       "output_type": "stream",
       "stream": "stdout",
       "text": [
        "\n",
        "   783  |  \u001b[94m  0.012559\u001b[0m  |    0.025916  |     0.484607  |             |  0.2s"
       ]
      },
      {
       "output_type": "stream",
       "stream": "stdout",
       "text": [
        "\n",
        "   784  |  \u001b[94m  0.012549\u001b[0m  |    0.025917  |     0.484198  |             |  0.2s"
       ]
      },
      {
       "output_type": "stream",
       "stream": "stdout",
       "text": [
        "\n",
        "   785  |  \u001b[94m  0.012539\u001b[0m  |    0.025918  |     0.483792  |             |  0.2s"
       ]
      },
      {
       "output_type": "stream",
       "stream": "stdout",
       "text": [
        "\n",
        "   786  |  \u001b[94m  0.012529\u001b[0m  |    0.025919  |     0.483395  |             |  0.2s"
       ]
      },
      {
       "output_type": "stream",
       "stream": "stdout",
       "text": [
        "\n",
        "   787  |  \u001b[94m  0.012519\u001b[0m  |    0.025920  |     0.482981  |             |  0.2s"
       ]
      },
      {
       "output_type": "stream",
       "stream": "stdout",
       "text": [
        "\n",
        "   788  |  \u001b[94m  0.012509\u001b[0m  |    0.025921  |     0.482578  |             |  0.2s"
       ]
      },
      {
       "output_type": "stream",
       "stream": "stdout",
       "text": [
        "\n",
        "   789  |  \u001b[94m  0.012499\u001b[0m  |    0.025922  |     0.482170  |             |  0.2s"
       ]
      },
      {
       "output_type": "stream",
       "stream": "stdout",
       "text": [
        "\n",
        "   790  |  \u001b[94m  0.012489\u001b[0m  |    0.025923  |     0.481772  |             |  0.2s"
       ]
      },
      {
       "output_type": "stream",
       "stream": "stdout",
       "text": [
        "\n",
        "   791  |  \u001b[94m  0.012479\u001b[0m  |    0.025924  |     0.481365  |             |  0.2s"
       ]
      },
      {
       "output_type": "stream",
       "stream": "stdout",
       "text": [
        "\n",
        "   792  |  \u001b[94m  0.012469\u001b[0m  |    0.025925  |     0.480964  |             |  0.2s"
       ]
      },
      {
       "output_type": "stream",
       "stream": "stdout",
       "text": [
        "\n",
        "   793  |  \u001b[94m  0.012459\u001b[0m  |    0.025926  |     0.480559  |             |  0.2s"
       ]
      },
      {
       "output_type": "stream",
       "stream": "stdout",
       "text": [
        "\n",
        "   794  |  \u001b[94m  0.012449\u001b[0m  |    0.025927  |     0.480156  |             |  0.2s"
       ]
      },
      {
       "output_type": "stream",
       "stream": "stdout",
       "text": [
        "\n",
        "   795  |  \u001b[94m  0.012439\u001b[0m  |    0.025927  |     0.479757  |             |  0.2s"
       ]
      },
      {
       "output_type": "stream",
       "stream": "stdout",
       "text": [
        "\n",
        "   796  |  \u001b[94m  0.012429\u001b[0m  |    0.025928  |     0.479361  |             |  0.2s"
       ]
      },
      {
       "output_type": "stream",
       "stream": "stdout",
       "text": [
        "\n",
        "   797  |  \u001b[94m  0.012419\u001b[0m  |    0.025929  |     0.478958  |             |  0.2s"
       ]
      },
      {
       "output_type": "stream",
       "stream": "stdout",
       "text": [
        "\n",
        "   798  |  \u001b[94m  0.012409\u001b[0m  |    0.025930  |     0.478559  |             |  0.2s"
       ]
      },
      {
       "output_type": "stream",
       "stream": "stdout",
       "text": [
        "\n",
        "   799  |  \u001b[94m  0.012399\u001b[0m  |    0.025931  |     0.478160  |             |  0.2s"
       ]
      },
      {
       "output_type": "stream",
       "stream": "stdout",
       "text": [
        "\n",
        "   800  |  \u001b[94m  0.012389\u001b[0m  |    0.025933  |     0.477754  |             |  0.2s"
       ]
      },
      {
       "output_type": "stream",
       "stream": "stdout",
       "text": [
        "\n",
        "   801  |  \u001b[94m  0.012379\u001b[0m  |    0.025933  |     0.477359  |             |  0.2s"
       ]
      },
      {
       "output_type": "stream",
       "stream": "stdout",
       "text": [
        "\n",
        "   802  |  \u001b[94m  0.012370\u001b[0m  |    0.025934  |     0.476958  |             |  0.2s"
       ]
      },
      {
       "output_type": "stream",
       "stream": "stdout",
       "text": [
        "\n",
        "   803  |  \u001b[94m  0.012360\u001b[0m  |    0.025935  |     0.476562  |             |  0.2s"
       ]
      },
      {
       "output_type": "stream",
       "stream": "stdout",
       "text": [
        "\n",
        "   804  |  \u001b[94m  0.012350\u001b[0m  |    0.025936  |     0.476168  |             |  0.2s"
       ]
      },
      {
       "output_type": "stream",
       "stream": "stdout",
       "text": [
        "\n",
        "   805  |  \u001b[94m  0.012340\u001b[0m  |    0.025937  |     0.475767  |             |  0.2s"
       ]
      },
      {
       "output_type": "stream",
       "stream": "stdout",
       "text": [
        "\n",
        "   806  |  \u001b[94m  0.012330\u001b[0m  |    0.025938  |     0.475373  |             |  0.2s"
       ]
      },
      {
       "output_type": "stream",
       "stream": "stdout",
       "text": [
        "\n",
        "   807  |  \u001b[94m  0.012320\u001b[0m  |    0.025939  |     0.474980  |             |  0.2s"
       ]
      },
      {
       "output_type": "stream",
       "stream": "stdout",
       "text": [
        "\n",
        "   808  |  \u001b[94m  0.012311\u001b[0m  |    0.025940  |     0.474580  |             |  0.2s"
       ]
      },
      {
       "output_type": "stream",
       "stream": "stdout",
       "text": [
        "\n",
        "   809  |  \u001b[94m  0.012301\u001b[0m  |    0.025941  |     0.474194  |             |  0.2s"
       ]
      },
      {
       "output_type": "stream",
       "stream": "stdout",
       "text": [
        "\n",
        "   810  |  \u001b[94m  0.012291\u001b[0m  |    0.025942  |     0.473791  |             |  0.2s"
       ]
      },
      {
       "output_type": "stream",
       "stream": "stdout",
       "text": [
        "\n",
        "   811  |  \u001b[94m  0.012281\u001b[0m  |    0.025944  |     0.473388  |             |  0.2s"
       ]
      },
      {
       "output_type": "stream",
       "stream": "stdout",
       "text": [
        "\n",
        "   812  |  \u001b[94m  0.012272\u001b[0m  |    0.025945  |     0.472990  |             |  0.2s"
       ]
      },
      {
       "output_type": "stream",
       "stream": "stdout",
       "text": [
        "\n",
        "   813  |  \u001b[94m  0.012262\u001b[0m  |    0.025946  |     0.472601  |             |  0.2s"
       ]
      },
      {
       "output_type": "stream",
       "stream": "stdout",
       "text": [
        "\n",
        "   814  |  \u001b[94m  0.012252\u001b[0m  |    0.025947  |     0.472210  |             |  0.2s"
       ]
      },
      {
       "output_type": "stream",
       "stream": "stdout",
       "text": [
        "\n",
        "   815  |  \u001b[94m  0.012243\u001b[0m  |    0.025947  |     0.471820  |             |  0.2s"
       ]
      },
      {
       "output_type": "stream",
       "stream": "stdout",
       "text": [
        "\n",
        "   816  |  \u001b[94m  0.012233\u001b[0m  |    0.025948  |     0.471433  |             |  0.2s"
       ]
      },
      {
       "output_type": "stream",
       "stream": "stdout",
       "text": [
        "\n",
        "   817  |  \u001b[94m  0.012223\u001b[0m  |    0.025949  |     0.471037  |             |  0.2s"
       ]
      },
      {
       "output_type": "stream",
       "stream": "stdout",
       "text": [
        "\n",
        "   818  |  \u001b[94m  0.012213\u001b[0m  |    0.025950  |     0.470650  |             |  0.2s"
       ]
      },
      {
       "output_type": "stream",
       "stream": "stdout",
       "text": [
        "\n",
        "   819  |  \u001b[94m  0.012204\u001b[0m  |    0.025952  |     0.470250  |             |  0.2s"
       ]
      },
      {
       "output_type": "stream",
       "stream": "stdout",
       "text": [
        "\n",
        "   820  |  \u001b[94m  0.012194\u001b[0m  |    0.025953  |     0.469858  |             |  0.2s"
       ]
      },
      {
       "output_type": "stream",
       "stream": "stdout",
       "text": [
        "\n",
        "   821  |  \u001b[94m  0.012184\u001b[0m  |    0.025954  |     0.469465  |             |  0.2s"
       ]
      },
      {
       "output_type": "stream",
       "stream": "stdout",
       "text": [
        "\n",
        "   822  |  \u001b[94m  0.012175\u001b[0m  |    0.025955  |     0.469078  |             |  0.2s"
       ]
      },
      {
       "output_type": "stream",
       "stream": "stdout",
       "text": [
        "\n",
        "   823  |  \u001b[94m  0.012165\u001b[0m  |    0.025956  |     0.468685  |             |  0.2s"
       ]
      },
      {
       "output_type": "stream",
       "stream": "stdout",
       "text": [
        "\n",
        "   824  |  \u001b[94m  0.012156\u001b[0m  |    0.025957  |     0.468295  |             |  0.2s"
       ]
      },
      {
       "output_type": "stream",
       "stream": "stdout",
       "text": [
        "\n",
        "   825  |  \u001b[94m  0.012146\u001b[0m  |    0.025958  |     0.467906  |             |  0.2s"
       ]
      },
      {
       "output_type": "stream",
       "stream": "stdout",
       "text": [
        "\n",
        "   826  |  \u001b[94m  0.012136\u001b[0m  |    0.025959  |     0.467521  |             |  0.2s"
       ]
      },
      {
       "output_type": "stream",
       "stream": "stdout",
       "text": [
        "\n",
        "   827  |  \u001b[94m  0.012127\u001b[0m  |    0.025961  |     0.467128  |             |  0.2s"
       ]
      },
      {
       "output_type": "stream",
       "stream": "stdout",
       "text": [
        "\n",
        "   828  |  \u001b[94m  0.012117\u001b[0m  |    0.025961  |     0.466749  |             |  0.2s"
       ]
      },
      {
       "output_type": "stream",
       "stream": "stdout",
       "text": [
        "\n",
        "   829  |  \u001b[94m  0.012108\u001b[0m  |    0.025962  |     0.466362  |             |  0.2s"
       ]
      },
      {
       "output_type": "stream",
       "stream": "stdout",
       "text": [
        "\n",
        "   830  |  \u001b[94m  0.012098\u001b[0m  |    0.025963  |     0.465977  |             |  0.2s"
       ]
      },
      {
       "output_type": "stream",
       "stream": "stdout",
       "text": [
        "\n",
        "   831  |  \u001b[94m  0.012089\u001b[0m  |    0.025965  |     0.465587  |             |  0.2s"
       ]
      },
      {
       "output_type": "stream",
       "stream": "stdout",
       "text": [
        "\n",
        "   832  |  \u001b[94m  0.012079\u001b[0m  |    0.025965  |     0.465209  |             |  0.2s"
       ]
      },
      {
       "output_type": "stream",
       "stream": "stdout",
       "text": [
        "\n",
        "   833  |  \u001b[94m  0.012070\u001b[0m  |    0.025967  |     0.464824  |             |  0.2s"
       ]
      },
      {
       "output_type": "stream",
       "stream": "stdout",
       "text": [
        "\n",
        "   834  |  \u001b[94m  0.012060\u001b[0m  |    0.025968  |     0.464435  |             |  0.2s"
       ]
      },
      {
       "output_type": "stream",
       "stream": "stdout",
       "text": [
        "\n",
        "   835  |  \u001b[94m  0.012051\u001b[0m  |    0.025969  |     0.464061  |             |  0.2s"
       ]
      },
      {
       "output_type": "stream",
       "stream": "stdout",
       "text": [
        "\n",
        "   836  |  \u001b[94m  0.012042\u001b[0m  |    0.025970  |     0.463666  |             |  0.2s"
       ]
      },
      {
       "output_type": "stream",
       "stream": "stdout",
       "text": [
        "\n",
        "   837  |  \u001b[94m  0.012032\u001b[0m  |    0.025971  |     0.463287  |             |  0.2s"
       ]
      },
      {
       "output_type": "stream",
       "stream": "stdout",
       "text": [
        "\n",
        "   838  |  \u001b[94m  0.012023\u001b[0m  |    0.025972  |     0.462908  |             |  0.2s"
       ]
      },
      {
       "output_type": "stream",
       "stream": "stdout",
       "text": [
        "\n",
        "   839  |  \u001b[94m  0.012013\u001b[0m  |    0.025973  |     0.462525  |             |  0.2s"
       ]
      },
      {
       "output_type": "stream",
       "stream": "stdout",
       "text": [
        "\n",
        "   840  |  \u001b[94m  0.012004\u001b[0m  |    0.025974  |     0.462149  |             |  0.2s"
       ]
      },
      {
       "output_type": "stream",
       "stream": "stdout",
       "text": [
        "\n",
        "   841  |  \u001b[94m  0.011995\u001b[0m  |    0.025976  |     0.461764  |             |  0.2s"
       ]
      },
      {
       "output_type": "stream",
       "stream": "stdout",
       "text": [
        "\n",
        "   842  |  \u001b[94m  0.011985\u001b[0m  |    0.025977  |     0.461384  |             |  0.2s"
       ]
      },
      {
       "output_type": "stream",
       "stream": "stdout",
       "text": [
        "\n",
        "   843  |  \u001b[94m  0.011976\u001b[0m  |    0.025978  |     0.461006  |             |  0.2s"
       ]
      },
      {
       "output_type": "stream",
       "stream": "stdout",
       "text": [
        "\n",
        "   844  |  \u001b[94m  0.011967\u001b[0m  |    0.025979  |     0.460622  |             |  0.2s"
       ]
      },
      {
       "output_type": "stream",
       "stream": "stdout",
       "text": [
        "\n",
        "   845  |  \u001b[94m  0.011957\u001b[0m  |    0.025981  |     0.460237  |             |  0.2s"
       ]
      },
      {
       "output_type": "stream",
       "stream": "stdout",
       "text": [
        "\n",
        "   846  |  \u001b[94m  0.011948\u001b[0m  |    0.025982  |     0.459854  |             |  0.2s"
       ]
      },
      {
       "output_type": "stream",
       "stream": "stdout",
       "text": [
        "\n",
        "   847  |  \u001b[94m  0.011939\u001b[0m  |    0.025983  |     0.459477  |             |  0.2s"
       ]
      },
      {
       "output_type": "stream",
       "stream": "stdout",
       "text": [
        "\n",
        "   848  |  \u001b[94m  0.011929\u001b[0m  |    0.025984  |     0.459103  |             |  0.2s"
       ]
      },
      {
       "output_type": "stream",
       "stream": "stdout",
       "text": [
        "\n",
        "   849  |  \u001b[94m  0.011920\u001b[0m  |    0.025985  |     0.458725  |             |  0.2s"
       ]
      },
      {
       "output_type": "stream",
       "stream": "stdout",
       "text": [
        "\n",
        "   850  |  \u001b[94m  0.011911\u001b[0m  |    0.025986  |     0.458351  |             |  0.2s"
       ]
      },
      {
       "output_type": "stream",
       "stream": "stdout",
       "text": [
        "\n",
        "   851  |  \u001b[94m  0.011902\u001b[0m  |    0.025987  |     0.457973  |             |  0.2s"
       ]
      },
      {
       "output_type": "stream",
       "stream": "stdout",
       "text": [
        "\n",
        "   852  |  \u001b[94m  0.011892\u001b[0m  |    0.025989  |     0.457597  |             |  0.2s"
       ]
      },
      {
       "output_type": "stream",
       "stream": "stdout",
       "text": [
        "\n",
        "   853  |  \u001b[94m  0.011883\u001b[0m  |    0.025990  |     0.457223  |             |  0.2s"
       ]
      },
      {
       "output_type": "stream",
       "stream": "stdout",
       "text": [
        "\n",
        "   854  |  \u001b[94m  0.011874\u001b[0m  |    0.025991  |     0.456841  |             |  0.2s"
       ]
      },
      {
       "output_type": "stream",
       "stream": "stdout",
       "text": [
        "\n",
        "   855  |  \u001b[94m  0.011865\u001b[0m  |    0.025992  |     0.456466  |             |  0.2s"
       ]
      },
      {
       "output_type": "stream",
       "stream": "stdout",
       "text": [
        "\n",
        "   856  |  \u001b[94m  0.011855\u001b[0m  |    0.025994  |     0.456084  |             |  0.2s"
       ]
      },
      {
       "output_type": "stream",
       "stream": "stdout",
       "text": [
        "\n",
        "   857  |  \u001b[94m  0.011846\u001b[0m  |    0.025995  |     0.455710  |             |  0.2s"
       ]
      },
      {
       "output_type": "stream",
       "stream": "stdout",
       "text": [
        "\n",
        "   858  |  \u001b[94m  0.011837\u001b[0m  |    0.025996  |     0.455334  |             |  0.2s"
       ]
      },
      {
       "output_type": "stream",
       "stream": "stdout",
       "text": [
        "\n",
        "   859  |  \u001b[94m  0.011828\u001b[0m  |    0.025998  |     0.454964  |             |  0.2s"
       ]
      },
      {
       "output_type": "stream",
       "stream": "stdout",
       "text": [
        "\n",
        "   860  |  \u001b[94m  0.011819\u001b[0m  |    0.025999  |     0.454593  |             |  0.2s"
       ]
      },
      {
       "output_type": "stream",
       "stream": "stdout",
       "text": [
        "\n",
        "   861  |  \u001b[94m  0.011810\u001b[0m  |    0.026000  |     0.454220  |             |  0.2s"
       ]
      },
      {
       "output_type": "stream",
       "stream": "stdout",
       "text": [
        "\n",
        "   862  |  \u001b[94m  0.011801\u001b[0m  |    0.026001  |     0.453842  |             |  0.2s"
       ]
      },
      {
       "output_type": "stream",
       "stream": "stdout",
       "text": [
        "\n",
        "   863  |  \u001b[94m  0.011791\u001b[0m  |    0.026002  |     0.453483  |             |  0.2s"
       ]
      },
      {
       "output_type": "stream",
       "stream": "stdout",
       "text": [
        "\n",
        "   864  |  \u001b[94m  0.011782\u001b[0m  |    0.026004  |     0.453102  |             |  0.2s"
       ]
      },
      {
       "output_type": "stream",
       "stream": "stdout",
       "text": [
        "\n",
        "   865  |  \u001b[94m  0.011773\u001b[0m  |    0.026005  |     0.452723  |             |  0.2s"
       ]
      },
      {
       "output_type": "stream",
       "stream": "stdout",
       "text": [
        "\n",
        "   866  |  \u001b[94m  0.011764\u001b[0m  |    0.026006  |     0.452360  |             |  0.2s"
       ]
      },
      {
       "output_type": "stream",
       "stream": "stdout",
       "text": [
        "\n",
        "   867  |  \u001b[94m  0.011755\u001b[0m  |    0.026008  |     0.451986  |             |  0.2s"
       ]
      },
      {
       "output_type": "stream",
       "stream": "stdout",
       "text": [
        "\n",
        "   868  |  \u001b[94m  0.011746\u001b[0m  |    0.026009  |     0.451622  |             |  0.2s"
       ]
      },
      {
       "output_type": "stream",
       "stream": "stdout",
       "text": [
        "\n",
        "   869  |  \u001b[94m  0.011737\u001b[0m  |    0.026010  |     0.451252  |             |  0.2s"
       ]
      },
      {
       "output_type": "stream",
       "stream": "stdout",
       "text": [
        "\n",
        "   870  |  \u001b[94m  0.011728\u001b[0m  |    0.026011  |     0.450889  |             |  0.2s"
       ]
      },
      {
       "output_type": "stream",
       "stream": "stdout",
       "text": [
        "\n",
        "   871  |  \u001b[94m  0.011719\u001b[0m  |    0.026012  |     0.450517  |             |  0.2s"
       ]
      },
      {
       "output_type": "stream",
       "stream": "stdout",
       "text": [
        "\n",
        "   872  |  \u001b[94m  0.011710\u001b[0m  |    0.026014  |     0.450146  |             |  0.2s"
       ]
      },
      {
       "output_type": "stream",
       "stream": "stdout",
       "text": [
        "\n",
        "   873  |  \u001b[94m  0.011701\u001b[0m  |    0.026016  |     0.449774  |             |  0.2s"
       ]
      },
      {
       "output_type": "stream",
       "stream": "stdout",
       "text": [
        "\n",
        "   874  |  \u001b[94m  0.011692\u001b[0m  |    0.026017  |     0.449402  |             |  0.2s"
       ]
      },
      {
       "output_type": "stream",
       "stream": "stdout",
       "text": [
        "\n",
        "   875  |  \u001b[94m  0.011683\u001b[0m  |    0.026018  |     0.449035  |             |  0.2s"
       ]
      },
      {
       "output_type": "stream",
       "stream": "stdout",
       "text": [
        "\n",
        "   876  |  \u001b[94m  0.011674\u001b[0m  |    0.026020  |     0.448670  |             |  0.2s"
       ]
      },
      {
       "output_type": "stream",
       "stream": "stdout",
       "text": [
        "\n",
        "   877  |  \u001b[94m  0.011665\u001b[0m  |    0.026021  |     0.448305  |             |  0.2s"
       ]
      },
      {
       "output_type": "stream",
       "stream": "stdout",
       "text": [
        "\n",
        "   878  |  \u001b[94m  0.011656\u001b[0m  |    0.026022  |     0.447944  |             |  0.2s"
       ]
      },
      {
       "output_type": "stream",
       "stream": "stdout",
       "text": [
        "\n",
        "   879  |  \u001b[94m  0.011647\u001b[0m  |    0.026023  |     0.447575  |             |  0.2s"
       ]
      },
      {
       "output_type": "stream",
       "stream": "stdout",
       "text": [
        "\n",
        "   880  |  \u001b[94m  0.011638\u001b[0m  |    0.026024  |     0.447212  |             |  0.2s"
       ]
      },
      {
       "output_type": "stream",
       "stream": "stdout",
       "text": [
        "\n",
        "   881  |  \u001b[94m  0.011630\u001b[0m  |    0.026026  |     0.446837  |             |  0.2s"
       ]
      },
      {
       "output_type": "stream",
       "stream": "stdout",
       "text": [
        "\n",
        "   882  |  \u001b[94m  0.011621\u001b[0m  |    0.026027  |     0.446478  |             |  0.2s"
       ]
      },
      {
       "output_type": "stream",
       "stream": "stdout",
       "text": [
        "\n",
        "   883  |  \u001b[94m  0.011612\u001b[0m  |    0.026029  |     0.446107  |             |  0.2s"
       ]
      },
      {
       "output_type": "stream",
       "stream": "stdout",
       "text": [
        "\n",
        "   884  |  \u001b[94m  0.011603\u001b[0m  |    0.026030  |     0.445748  |             |  0.2s"
       ]
      },
      {
       "output_type": "stream",
       "stream": "stdout",
       "text": [
        "\n",
        "   885  |  \u001b[94m  0.011594\u001b[0m  |    0.026031  |     0.445389  |             |  0.2s"
       ]
      },
      {
       "output_type": "stream",
       "stream": "stdout",
       "text": [
        "\n",
        "   886  |  \u001b[94m  0.011585\u001b[0m  |    0.026033  |     0.445024  |             |  0.2s"
       ]
      },
      {
       "output_type": "stream",
       "stream": "stdout",
       "text": [
        "\n",
        "   887  |  \u001b[94m  0.011576\u001b[0m  |    0.026034  |     0.444664  |             |  0.2s"
       ]
      },
      {
       "output_type": "stream",
       "stream": "stdout",
       "text": [
        "\n",
        "   888  |  \u001b[94m  0.011567\u001b[0m  |    0.026035  |     0.444304  |             |  0.2s"
       ]
      },
      {
       "output_type": "stream",
       "stream": "stdout",
       "text": [
        "\n",
        "   889  |  \u001b[94m  0.011559\u001b[0m  |    0.026037  |     0.443935  |             |  0.2s"
       ]
      },
      {
       "output_type": "stream",
       "stream": "stdout",
       "text": [
        "\n",
        "   890  |  \u001b[94m  0.011550\u001b[0m  |    0.026038  |     0.443576  |             |  0.2s"
       ]
      },
      {
       "output_type": "stream",
       "stream": "stdout",
       "text": [
        "\n",
        "   891  |  \u001b[94m  0.011541\u001b[0m  |    0.026039  |     0.443218  |             |  0.2s"
       ]
      },
      {
       "output_type": "stream",
       "stream": "stdout",
       "text": [
        "\n",
        "   892  |  \u001b[94m  0.011532\u001b[0m  |    0.026040  |     0.442858  |             |  0.2s"
       ]
      },
      {
       "output_type": "stream",
       "stream": "stdout",
       "text": [
        "\n",
        "   893  |  \u001b[94m  0.011523\u001b[0m  |    0.026042  |     0.442500  |             |  0.2s"
       ]
      },
      {
       "output_type": "stream",
       "stream": "stdout",
       "text": [
        "\n",
        "   894  |  \u001b[94m  0.011515\u001b[0m  |    0.026043  |     0.442146  |             |  0.2s"
       ]
      },
      {
       "output_type": "stream",
       "stream": "stdout",
       "text": [
        "\n",
        "   895  |  \u001b[94m  0.011506\u001b[0m  |    0.026044  |     0.441785  |             |  0.2s"
       ]
      },
      {
       "output_type": "stream",
       "stream": "stdout",
       "text": [
        "\n",
        "   896  |  \u001b[94m  0.011497\u001b[0m  |    0.026046  |     0.441427  |             |  0.2s"
       ]
      },
      {
       "output_type": "stream",
       "stream": "stdout",
       "text": [
        "\n",
        "   897  |  \u001b[94m  0.011489\u001b[0m  |    0.026047  |     0.441067  |             |  0.2s"
       ]
      },
      {
       "output_type": "stream",
       "stream": "stdout",
       "text": [
        "\n",
        "   898  |  \u001b[94m  0.011480\u001b[0m  |    0.026049  |     0.440706  |             |  0.2s"
       ]
      },
      {
       "output_type": "stream",
       "stream": "stdout",
       "text": [
        "\n",
        "   899  |  \u001b[94m  0.011471\u001b[0m  |    0.026050  |     0.440349  |             |  0.2s"
       ]
      },
      {
       "output_type": "stream",
       "stream": "stdout",
       "text": [
        "\n",
        "   900  |  \u001b[94m  0.011462\u001b[0m  |    0.026051  |     0.440001  |             |  0.2s"
       ]
      },
      {
       "output_type": "stream",
       "stream": "stdout",
       "text": [
        "\n",
        "   901  |  \u001b[94m  0.011454\u001b[0m  |    0.026052  |     0.439646  |             |  0.2s"
       ]
      },
      {
       "output_type": "stream",
       "stream": "stdout",
       "text": [
        "\n",
        "   902  |  \u001b[94m  0.011445\u001b[0m  |    0.026054  |     0.439288  |             |  0.2s"
       ]
      },
      {
       "output_type": "stream",
       "stream": "stdout",
       "text": [
        "\n",
        "   903  |  \u001b[94m  0.011437\u001b[0m  |    0.026055  |     0.438930  |             |  0.2s"
       ]
      },
      {
       "output_type": "stream",
       "stream": "stdout",
       "text": [
        "\n",
        "   904  |  \u001b[94m  0.011428\u001b[0m  |    0.026057  |     0.438580  |             |  0.2s"
       ]
      },
      {
       "output_type": "stream",
       "stream": "stdout",
       "text": [
        "\n",
        "   905  |  \u001b[94m  0.011419\u001b[0m  |    0.026058  |     0.438222  |             |  0.2s"
       ]
      },
      {
       "output_type": "stream",
       "stream": "stdout",
       "text": [
        "\n",
        "   906  |  \u001b[94m  0.011411\u001b[0m  |    0.026059  |     0.437870  |             |  0.2s"
       ]
      },
      {
       "output_type": "stream",
       "stream": "stdout",
       "text": [
        "\n",
        "   907  |  \u001b[94m  0.011402\u001b[0m  |    0.026061  |     0.437518  |             |  0.2s"
       ]
      },
      {
       "output_type": "stream",
       "stream": "stdout",
       "text": [
        "\n",
        "   908  |  \u001b[94m  0.011393\u001b[0m  |    0.026062  |     0.437163  |             |  0.2s"
       ]
      },
      {
       "output_type": "stream",
       "stream": "stdout",
       "text": [
        "\n",
        "   909  |  \u001b[94m  0.011385\u001b[0m  |    0.026064  |     0.436802  |             |  0.2s"
       ]
      },
      {
       "output_type": "stream",
       "stream": "stdout",
       "text": [
        "\n",
        "   910  |  \u001b[94m  0.011376\u001b[0m  |    0.026065  |     0.436463  |             |  0.2s"
       ]
      },
      {
       "output_type": "stream",
       "stream": "stdout",
       "text": [
        "\n",
        "   911  |  \u001b[94m  0.011368\u001b[0m  |    0.026067  |     0.436109  |             |  0.2s"
       ]
      },
      {
       "output_type": "stream",
       "stream": "stdout",
       "text": [
        "\n",
        "   912  |  \u001b[94m  0.011359\u001b[0m  |    0.026068  |     0.435762  |             |  0.2s"
       ]
      },
      {
       "output_type": "stream",
       "stream": "stdout",
       "text": [
        "\n",
        "   913  |  \u001b[94m  0.011351\u001b[0m  |    0.026069  |     0.435412  |             |  0.2s"
       ]
      },
      {
       "output_type": "stream",
       "stream": "stdout",
       "text": [
        "\n",
        "   914  |  \u001b[94m  0.011342\u001b[0m  |    0.026071  |     0.435051  |             |  0.2s"
       ]
      },
      {
       "output_type": "stream",
       "stream": "stdout",
       "text": [
        "\n",
        "   915  |  \u001b[94m  0.011334\u001b[0m  |    0.026073  |     0.434703  |             |  0.2s"
       ]
      },
      {
       "output_type": "stream",
       "stream": "stdout",
       "text": [
        "\n",
        "   916  |  \u001b[94m  0.011325\u001b[0m  |    0.026074  |     0.434354  |             |  0.2s"
       ]
      },
      {
       "output_type": "stream",
       "stream": "stdout",
       "text": [
        "\n",
        "   917  |  \u001b[94m  0.011317\u001b[0m  |    0.026076  |     0.434000  |             |  0.2s"
       ]
      },
      {
       "output_type": "stream",
       "stream": "stdout",
       "text": [
        "\n",
        "   918  |  \u001b[94m  0.011308\u001b[0m  |    0.026077  |     0.433657  |             |  0.2s"
       ]
      },
      {
       "output_type": "stream",
       "stream": "stdout",
       "text": [
        "\n",
        "   919  |  \u001b[94m  0.011300\u001b[0m  |    0.026078  |     0.433309  |             |  0.2s"
       ]
      },
      {
       "output_type": "stream",
       "stream": "stdout",
       "text": [
        "\n",
        "   920  |  \u001b[94m  0.011292\u001b[0m  |    0.026080  |     0.432955  |             |  0.2s"
       ]
      },
      {
       "output_type": "stream",
       "stream": "stdout",
       "text": [
        "\n",
        "   921  |  \u001b[94m  0.011283\u001b[0m  |    0.026082  |     0.432611  |             |  0.2s"
       ]
      },
      {
       "output_type": "stream",
       "stream": "stdout",
       "text": [
        "\n",
        "   922  |  \u001b[94m  0.011275\u001b[0m  |    0.026083  |     0.432265  |             |  0.2s"
       ]
      },
      {
       "output_type": "stream",
       "stream": "stdout",
       "text": [
        "\n",
        "   923  |  \u001b[94m  0.011266\u001b[0m  |    0.026085  |     0.431914  |             |  0.2s"
       ]
      },
      {
       "output_type": "stream",
       "stream": "stdout",
       "text": [
        "\n",
        "   924  |  \u001b[94m  0.011258\u001b[0m  |    0.026086  |     0.431569  |             |  0.2s"
       ]
      },
      {
       "output_type": "stream",
       "stream": "stdout",
       "text": [
        "\n",
        "   925  |  \u001b[94m  0.011250\u001b[0m  |    0.026088  |     0.431224  |             |  0.2s"
       ]
      },
      {
       "output_type": "stream",
       "stream": "stdout",
       "text": [
        "\n",
        "   926  |  \u001b[94m  0.011241\u001b[0m  |    0.026089  |     0.430877  |             |  0.2s"
       ]
      },
      {
       "output_type": "stream",
       "stream": "stdout",
       "text": [
        "\n",
        "   927  |  \u001b[94m  0.011233\u001b[0m  |    0.026091  |     0.430533  |             |  0.2s"
       ]
      },
      {
       "output_type": "stream",
       "stream": "stdout",
       "text": [
        "\n",
        "   928  |  \u001b[94m  0.011224\u001b[0m  |    0.026092  |     0.430186  |             |  0.2s"
       ]
      },
      {
       "output_type": "stream",
       "stream": "stdout",
       "text": [
        "\n",
        "   929  |  \u001b[94m  0.011216\u001b[0m  |    0.026094  |     0.429845  |             |  0.2s"
       ]
      },
      {
       "output_type": "stream",
       "stream": "stdout",
       "text": [
        "\n",
        "   930  |  \u001b[94m  0.011208\u001b[0m  |    0.026096  |     0.429494  |             |  0.2s"
       ]
      },
      {
       "output_type": "stream",
       "stream": "stdout",
       "text": [
        "\n",
        "   931  |  \u001b[94m  0.011200\u001b[0m  |    0.026097  |     0.429161  |             |  0.2s"
       ]
      },
      {
       "output_type": "stream",
       "stream": "stdout",
       "text": [
        "\n",
        "   932  |  \u001b[94m  0.011191\u001b[0m  |    0.026098  |     0.428823  |             |  0.2s"
       ]
      },
      {
       "output_type": "stream",
       "stream": "stdout",
       "text": [
        "\n",
        "   933  |  \u001b[94m  0.011183\u001b[0m  |    0.026100  |     0.428474  |             |  0.2s"
       ]
      },
      {
       "output_type": "stream",
       "stream": "stdout",
       "text": [
        "\n",
        "   934  |  \u001b[94m  0.011175\u001b[0m  |    0.026101  |     0.428138  |             |  0.2s"
       ]
      },
      {
       "output_type": "stream",
       "stream": "stdout",
       "text": [
        "\n",
        "   935  |  \u001b[94m  0.011166\u001b[0m  |    0.026103  |     0.427789  |             |  0.2s"
       ]
      },
      {
       "output_type": "stream",
       "stream": "stdout",
       "text": [
        "\n",
        "   936  |  \u001b[94m  0.011158\u001b[0m  |    0.026104  |     0.427452  |             |  0.2s"
       ]
      },
      {
       "output_type": "stream",
       "stream": "stdout",
       "text": [
        "\n",
        "   937  |  \u001b[94m  0.011150\u001b[0m  |    0.026106  |     0.427104  |             |  0.2s"
       ]
      },
      {
       "output_type": "stream",
       "stream": "stdout",
       "text": [
        "\n",
        "   938  |  \u001b[94m  0.011142\u001b[0m  |    0.026107  |     0.426771  |             |  0.2s"
       ]
      },
      {
       "output_type": "stream",
       "stream": "stdout",
       "text": [
        "\n",
        "   939  |  \u001b[94m  0.011134\u001b[0m  |    0.026109  |     0.426430  |             |  0.2s"
       ]
      },
      {
       "output_type": "stream",
       "stream": "stdout",
       "text": [
        "\n",
        "   940  |  \u001b[94m  0.011125\u001b[0m  |    0.026111  |     0.426090  |             |  0.2s"
       ]
      },
      {
       "output_type": "stream",
       "stream": "stdout",
       "text": [
        "\n",
        "   941  |  \u001b[94m  0.011117\u001b[0m  |    0.026112  |     0.425756  |             |  0.2s"
       ]
      },
      {
       "output_type": "stream",
       "stream": "stdout",
       "text": [
        "\n",
        "   942  |  \u001b[94m  0.011109\u001b[0m  |    0.026113  |     0.425416  |             |  0.2s"
       ]
      },
      {
       "output_type": "stream",
       "stream": "stdout",
       "text": [
        "\n",
        "   943  |  \u001b[94m  0.011101\u001b[0m  |    0.026115  |     0.425075  |             |  0.2s"
       ]
      },
      {
       "output_type": "stream",
       "stream": "stdout",
       "text": [
        "\n",
        "   944  |  \u001b[94m  0.011093\u001b[0m  |    0.026117  |     0.424731  |             |  0.2s"
       ]
      },
      {
       "output_type": "stream",
       "stream": "stdout",
       "text": [
        "\n",
        "   945  |  \u001b[94m  0.011085\u001b[0m  |    0.026119  |     0.424396  |             |  0.2s"
       ]
      },
      {
       "output_type": "stream",
       "stream": "stdout",
       "text": [
        "\n",
        "   946  |  \u001b[94m  0.011076\u001b[0m  |    0.026120  |     0.424061  |             |  0.2s"
       ]
      },
      {
       "output_type": "stream",
       "stream": "stdout",
       "text": [
        "\n",
        "   947  |  \u001b[94m  0.011068\u001b[0m  |    0.026122  |     0.423717  |             |  0.2s"
       ]
      },
      {
       "output_type": "stream",
       "stream": "stdout",
       "text": [
        "\n",
        "   948  |  \u001b[94m  0.011060\u001b[0m  |    0.026123  |     0.423388  |             |  0.2s"
       ]
      },
      {
       "output_type": "stream",
       "stream": "stdout",
       "text": [
        "\n",
        "   949  |  \u001b[94m  0.011052\u001b[0m  |    0.026125  |     0.423054  |             |  0.2s"
       ]
      },
      {
       "output_type": "stream",
       "stream": "stdout",
       "text": [
        "\n",
        "   950  |  \u001b[94m  0.011044\u001b[0m  |    0.026126  |     0.422717  |             |  0.2s"
       ]
      },
      {
       "output_type": "stream",
       "stream": "stdout",
       "text": [
        "\n",
        "   951  |  \u001b[94m  0.011036\u001b[0m  |    0.026128  |     0.422386  |             |  0.2s"
       ]
      },
      {
       "output_type": "stream",
       "stream": "stdout",
       "text": [
        "\n",
        "   952  |  \u001b[94m  0.011028\u001b[0m  |    0.026130  |     0.422042  |             |  0.2s"
       ]
      },
      {
       "output_type": "stream",
       "stream": "stdout",
       "text": [
        "\n",
        "   953  |  \u001b[94m  0.011020\u001b[0m  |    0.026131  |     0.421710  |             |  0.2s"
       ]
      },
      {
       "output_type": "stream",
       "stream": "stdout",
       "text": [
        "\n",
        "   954  |  \u001b[94m  0.011012\u001b[0m  |    0.026133  |     0.421375  |             |  0.2s"
       ]
      },
      {
       "output_type": "stream",
       "stream": "stdout",
       "text": [
        "\n",
        "   955  |  \u001b[94m  0.011004\u001b[0m  |    0.026134  |     0.421047  |             |  0.2s"
       ]
      },
      {
       "output_type": "stream",
       "stream": "stdout",
       "text": [
        "\n",
        "   956  |  \u001b[94m  0.010996\u001b[0m  |    0.026136  |     0.420706  |             |  0.2s"
       ]
      },
      {
       "output_type": "stream",
       "stream": "stdout",
       "text": [
        "\n",
        "   957  |  \u001b[94m  0.010988\u001b[0m  |    0.026138  |     0.420374  |             |  0.2s"
       ]
      },
      {
       "output_type": "stream",
       "stream": "stdout",
       "text": [
        "\n",
        "   958  |  \u001b[94m  0.010980\u001b[0m  |    0.026139  |     0.420044  |             |  0.2s"
       ]
      },
      {
       "output_type": "stream",
       "stream": "stdout",
       "text": [
        "\n",
        "   959  |  \u001b[94m  0.010972\u001b[0m  |    0.026141  |     0.419706  |             |  0.2s"
       ]
      },
      {
       "output_type": "stream",
       "stream": "stdout",
       "text": [
        "\n",
        "   960  |  \u001b[94m  0.010964\u001b[0m  |    0.026143  |     0.419375  |             |  0.2s"
       ]
      },
      {
       "output_type": "stream",
       "stream": "stdout",
       "text": [
        "\n",
        "   961  |  \u001b[94m  0.010956\u001b[0m  |    0.026144  |     0.419048  |             |  0.2s"
       ]
      },
      {
       "output_type": "stream",
       "stream": "stdout",
       "text": [
        "\n",
        "   962  |  \u001b[94m  0.010948\u001b[0m  |    0.026146  |     0.418713  |             |  0.2s"
       ]
      },
      {
       "output_type": "stream",
       "stream": "stdout",
       "text": [
        "\n",
        "   963  |  \u001b[94m  0.010940\u001b[0m  |    0.026148  |     0.418380  |             |  0.2s"
       ]
      },
      {
       "output_type": "stream",
       "stream": "stdout",
       "text": [
        "\n",
        "   964  |  \u001b[94m  0.010932\u001b[0m  |    0.026149  |     0.418053  |             |  0.2s"
       ]
      },
      {
       "output_type": "stream",
       "stream": "stdout",
       "text": [
        "\n",
        "   965  |  \u001b[94m  0.010924\u001b[0m  |    0.026151  |     0.417719  |             |  0.2s"
       ]
      },
      {
       "output_type": "stream",
       "stream": "stdout",
       "text": [
        "\n",
        "   966  |  \u001b[94m  0.010916\u001b[0m  |    0.026152  |     0.417389  |             |  0.2s"
       ]
      },
      {
       "output_type": "stream",
       "stream": "stdout",
       "text": [
        "\n",
        "   967  |  \u001b[94m  0.010908\u001b[0m  |    0.026154  |     0.417055  |             |  0.2s"
       ]
      },
      {
       "output_type": "stream",
       "stream": "stdout",
       "text": [
        "\n",
        "   968  |  \u001b[94m  0.010900\u001b[0m  |    0.026157  |     0.416712  |             |  0.2s"
       ]
      },
      {
       "output_type": "stream",
       "stream": "stdout",
       "text": [
        "\n",
        "   969  |  \u001b[94m  0.010892\u001b[0m  |    0.026158  |     0.416385  |             |  0.2s"
       ]
      },
      {
       "output_type": "stream",
       "stream": "stdout",
       "text": [
        "\n",
        "   970  |  \u001b[94m  0.010884\u001b[0m  |    0.026160  |     0.416059  |             |  0.2s"
       ]
      },
      {
       "output_type": "stream",
       "stream": "stdout",
       "text": [
        "\n",
        "   971  |  \u001b[94m  0.010876\u001b[0m  |    0.026161  |     0.415733  |             |  0.2s"
       ]
      },
      {
       "output_type": "stream",
       "stream": "stdout",
       "text": [
        "\n",
        "   972  |  \u001b[94m  0.010868\u001b[0m  |    0.026163  |     0.415399  |             |  0.2s"
       ]
      },
      {
       "output_type": "stream",
       "stream": "stdout",
       "text": [
        "\n",
        "   973  |  \u001b[94m  0.010860\u001b[0m  |    0.026165  |     0.415066  |             |  0.2s"
       ]
      },
      {
       "output_type": "stream",
       "stream": "stdout",
       "text": [
        "\n",
        "   974  |  \u001b[94m  0.010852\u001b[0m  |    0.026167  |     0.414736  |             |  0.2s"
       ]
      },
      {
       "output_type": "stream",
       "stream": "stdout",
       "text": [
        "\n",
        "   975  |  \u001b[94m  0.010844\u001b[0m  |    0.026168  |     0.414408  |             |  0.2s"
       ]
      },
      {
       "output_type": "stream",
       "stream": "stdout",
       "text": [
        "\n",
        "   976  |  \u001b[94m  0.010836\u001b[0m  |    0.026170  |     0.414075  |             |  0.2s"
       ]
      },
      {
       "output_type": "stream",
       "stream": "stdout",
       "text": [
        "\n",
        "   977  |  \u001b[94m  0.010829\u001b[0m  |    0.026172  |     0.413751  |             |  0.2s"
       ]
      },
      {
       "output_type": "stream",
       "stream": "stdout",
       "text": [
        "\n",
        "   978  |  \u001b[94m  0.010821\u001b[0m  |    0.026173  |     0.413428  |             |  0.2s"
       ]
      },
      {
       "output_type": "stream",
       "stream": "stdout",
       "text": [
        "\n",
        "   979  |  \u001b[94m  0.010813\u001b[0m  |    0.026175  |     0.413099  |             |  0.2s"
       ]
      },
      {
       "output_type": "stream",
       "stream": "stdout",
       "text": [
        "\n",
        "   980  |  \u001b[94m  0.010805\u001b[0m  |    0.026177  |     0.412765  |             |  0.2s"
       ]
      },
      {
       "output_type": "stream",
       "stream": "stdout",
       "text": [
        "\n",
        "   981  |  \u001b[94m  0.010797\u001b[0m  |    0.026179  |     0.412435  |             |  0.2s"
       ]
      },
      {
       "output_type": "stream",
       "stream": "stdout",
       "text": [
        "\n",
        "   982  |  \u001b[94m  0.010789\u001b[0m  |    0.026181  |     0.412116  |             |  0.2s"
       ]
      },
      {
       "output_type": "stream",
       "stream": "stdout",
       "text": [
        "\n",
        "   983  |  \u001b[94m  0.010782\u001b[0m  |    0.026182  |     0.411792  |             |  0.2s"
       ]
      },
      {
       "output_type": "stream",
       "stream": "stdout",
       "text": [
        "\n",
        "   984  |  \u001b[94m  0.010774\u001b[0m  |    0.026184  |     0.411465  |             |  0.2s"
       ]
      },
      {
       "output_type": "stream",
       "stream": "stdout",
       "text": [
        "\n",
        "   985  |  \u001b[94m  0.010766\u001b[0m  |    0.026186  |     0.411144  |             |  0.2s"
       ]
      },
      {
       "output_type": "stream",
       "stream": "stdout",
       "text": [
        "\n",
        "   986  |  \u001b[94m  0.010758\u001b[0m  |    0.026187  |     0.410820  |             |  0.2s"
       ]
      },
      {
       "output_type": "stream",
       "stream": "stdout",
       "text": [
        "\n",
        "   987  |  \u001b[94m  0.010751\u001b[0m  |    0.026189  |     0.410493  |             |  0.2s"
       ]
      },
      {
       "output_type": "stream",
       "stream": "stdout",
       "text": [
        "\n",
        "   988  |  \u001b[94m  0.010743\u001b[0m  |    0.026190  |     0.410183  |             |  0.2s"
       ]
      },
      {
       "output_type": "stream",
       "stream": "stdout",
       "text": [
        "\n",
        "   989  |  \u001b[94m  0.010735\u001b[0m  |    0.026193  |     0.409850  |             |  0.2s"
       ]
      },
      {
       "output_type": "stream",
       "stream": "stdout",
       "text": [
        "\n",
        "   990  |  \u001b[94m  0.010727\u001b[0m  |    0.026194  |     0.409534  |             |  0.2s"
       ]
      },
      {
       "output_type": "stream",
       "stream": "stdout",
       "text": [
        "\n",
        "   991  |  \u001b[94m  0.010720\u001b[0m  |    0.026197  |     0.409201  |             |  0.2s"
       ]
      },
      {
       "output_type": "stream",
       "stream": "stdout",
       "text": [
        "\n",
        "   992  |  \u001b[94m  0.010712\u001b[0m  |    0.026198  |     0.408892  |             |  0.2s"
       ]
      },
      {
       "output_type": "stream",
       "stream": "stdout",
       "text": [
        "\n",
        "   993  |  \u001b[94m  0.010704\u001b[0m  |    0.026200  |     0.408569  |             |  0.2s"
       ]
      },
      {
       "output_type": "stream",
       "stream": "stdout",
       "text": [
        "\n",
        "   994  |  \u001b[94m  0.010697\u001b[0m  |    0.026202  |     0.408239  |             |  0.2s"
       ]
      },
      {
       "output_type": "stream",
       "stream": "stdout",
       "text": [
        "\n",
        "   995  |  \u001b[94m  0.010689\u001b[0m  |    0.026204  |     0.407917  |             |  0.2s"
       ]
      },
      {
       "output_type": "stream",
       "stream": "stdout",
       "text": [
        "\n",
        "   996  |  \u001b[94m  0.010681\u001b[0m  |    0.026205  |     0.407601  |             |  0.2s"
       ]
      },
      {
       "output_type": "stream",
       "stream": "stdout",
       "text": [
        "\n",
        "   997  |  \u001b[94m  0.010674\u001b[0m  |    0.026207  |     0.407291  |             |  0.2s"
       ]
      },
      {
       "output_type": "stream",
       "stream": "stdout",
       "text": [
        "\n",
        "   998  |  \u001b[94m  0.010666\u001b[0m  |    0.026208  |     0.406971  |             |  0.2s"
       ]
      },
      {
       "output_type": "stream",
       "stream": "stdout",
       "text": [
        "\n",
        "   999  |  \u001b[94m  0.010658\u001b[0m  |    0.026210  |     0.406651  |             |  0.2s"
       ]
      },
      {
       "output_type": "stream",
       "stream": "stdout",
       "text": [
        "\n",
        "  1000  |  \u001b[94m  0.010651\u001b[0m  |    0.026212  |     0.406333  |             |  0.2s"
       ]
      },
      {
       "output_type": "stream",
       "stream": "stdout",
       "text": [
        "\n",
        "CPU times: user 2min 7s, sys: 48.7 s, total: 2min 55s\n",
        "Wall time: 2min 56s\n"
       ]
      },
      {
       "metadata": {},
       "output_type": "pyout",
       "prompt_number": 11,
       "text": [
        "NeuralNet(X_tensor_type=<function matrix at 0x7ffe875c26e0>,\n",
        "     batch_iterator=<nolearn.lasagne.BatchIterator object at 0x7ffe3b40b9d0>,\n",
        "     eval_size=0.2, hidden_num_units=300, input_shape=(128, 2500),\n",
        "     layers=[('input', <class 'lasagne.layers.base.InputLayer'>), ('hidden', <class 'lasagne.layers.base.DenseLayer'>), ('output', <class 'lasagne.layers.base.DenseLayer'>)],\n",
        "     loss=<function mse at 0x7ffe3b401320>, max_epochs=1000,\n",
        "     more_params={}, on_epoch_finished=(), on_training_finished=(),\n",
        "     output_nonlinearity=None, output_num_units=32, regression=True,\n",
        "     upate=<function nesterov_momentum at 0x7ffe3b40d140>,\n",
        "     update=<function nesterov_momentum at 0x7ffe3b40d140>,\n",
        "     update_learning_rate=0.01, update_momentum=0.9,\n",
        "     use_label_encoder=False, verbose=1,\n",
        "     y_tensor_type=TensorType(float32, matrix))"
       ]
      }
     ],
     "prompt_number": 11
    },
    {
     "cell_type": "code",
     "collapsed": false,
     "input": [
      "train_loss = np.array([i[\"train_loss\"] for i in net1.train_history_])\n",
      "valid_loss = np.array([i[\"valid_loss\"] for i in net1.train_history_])\n",
      "pyplot.plot(train_loss, linewidth=3, label=\"train\")\n",
      "pyplot.plot(valid_loss, linewidth=3, label=\"valid\")\n",
      "pyplot.grid()\n",
      "pyplot.legend()\n",
      "pyplot.xlabel(\"epoch\")\n",
      "pyplot.ylabel(\"loss\")\n",
      "pyplot.ylim(2.5e-2, 0.32e-1)\n",
      "# pyplot.yscale(\"log\")\n",
      "pyplot.show()"
     ],
     "language": "python",
     "metadata": {},
     "outputs": [
      {
       "metadata": {},
       "output_type": "display_data",
       "png": "[encoded data removed]",
       "text": [
        "<matplotlib.figure.Figure at 0x7ffe30ad0950>"
       ]
      }
     ],
     "prompt_number": 12
    },
    {
     "cell_type": "code",
     "collapsed": false,
     "input": [
      "from sklearn import metrics\n",
      "\n",
      "# overfit result, should use validation result\n",
      "y_pred = net1.predict(X_test)\n",
      "# print y_pred[1]\n",
      "# np.argmax(y_pred[i]),np.argmax(y[i])\n",
      "y_pred = np.array(map((lambda x: np.argmax(x)), y_pred))\n",
      "yyy = np.array(map((lambda x: np.argmax(x)), y_test))\n",
      "\n",
      "print metrics.classification_report((yyy), (y_pred))"
     ],
     "language": "python",
     "metadata": {},
     "outputs": [
      {
       "output_type": "stream",
       "stream": "stdout",
       "text": [
        "             precision    recall  f1-score   support\n",
        "\n",
        "          0       0.50      0.60      0.54       142\n",
        "          1       0.35      0.26      0.30       159\n",
        "          2       0.44      0.46      0.45       150\n",
        "          3       0.47      0.41      0.44       165\n",
        "          4       0.42      0.53      0.47       145\n",
        "          5       0.58      0.62      0.60       148\n",
        "          6       0.53      0.54      0.53       170\n",
        "          7       0.36      0.36      0.36       157\n",
        "          8       0.50      0.53      0.51       150\n",
        "          9       0.45      0.55      0.50       159\n",
        "         10       0.53      0.57      0.55       159\n",
        "         11       0.40      0.58      0.48       141\n",
        "         12       0.45      0.61      0.51       142\n",
        "         13       0.43      0.50      0.47       115\n",
        "         14       0.62      0.43      0.51       150\n",
        "         15       0.54      0.58      0.56       127\n",
        "         16       0.47      0.52      0.49       135\n",
        "         17       0.38      0.33      0.36       108\n",
        "         18       0.42      0.37      0.40       121\n",
        "         19       0.57      0.62      0.60       121\n",
        "         20       0.32      0.27      0.30       121\n",
        "         21       0.37      0.24      0.29       137\n",
        "         22       0.45      0.52      0.48       131\n",
        "         23       0.41      0.42      0.41       125\n",
        "         24       0.52      0.27      0.36       140\n",
        "         25       0.44      0.46      0.45       131\n",
        "         26       0.35      0.29      0.32       129\n",
        "         27       0.48      0.49      0.48       134\n",
        "         28       0.47      0.41      0.44       148\n",
        "         29       0.63      0.59      0.61       137\n",
        "         30       0.34      0.30      0.32       117\n",
        "         31       0.44      0.42      0.43       110\n",
        "\n",
        "avg / total       0.46      0.46      0.46      4424\n",
        "\n"
       ]
      }
     ],
     "prompt_number": 13
    },
    {
     "cell_type": "markdown",
     "metadata": {},
     "source": [
      "## Net2 :: convolution count to fight !"
     ]
    },
    {
     "cell_type": "code",
     "collapsed": false,
     "input": [
      "def transform_2(X,y):\n",
      "    X = X.reshape(-1, 1, 50,50)\n",
      "    return X, y\n",
      "\n",
      "# X_train = X_train.reshape(-1,1,sizee,sizee)\n",
      "# X_test = X_test.reshape(-1, 1,sizee,sizee)\n",
      "# X_train.shape"
     ],
     "language": "python",
     "metadata": {},
     "outputs": []
    },
    {
     "cell_type": "code",
     "collapsed": false,
     "input": [
      "# use the cuda-convnet implementations of conv and max-pool layer\n",
      "Conv2DLayer = layers.cuda_convnet.Conv2DCCLayer\n",
      "MaxPool2DLayer = layers.cuda_convnet.MaxPool2DCCLayer\n",
      "\n",
      "net2 = NeuralNet(\n",
      "    layers=[\n",
      "        ('input', layers.InputLayer),\n",
      "        ('conv1', Conv2DLayer),\n",
      "        ('pool1', MaxPool2DLayer),\n",
      "        ('conv2', Conv2DLayer),\n",
      "        ('pool2', MaxPool2DLayer),\n",
      "        ('conv3', Conv2DLayer),\n",
      "        ('pool3', MaxPool2DLayer),\n",
      "        ('hidden4', layers.DenseLayer),\n",
      "        ('hidden5', layers.DenseLayer),\n",
      "        ('output', layers.DenseLayer),\n",
      "        ],\n",
      "    input_shape=(128, 1, 50,50),\n",
      "    conv1_num_filters=32, conv1_filter_size=(3, 3), pool1_ds=(2, 2),\n",
      "    conv2_num_filters=64, conv2_filter_size=(2, 2), pool2_ds=(2, 2),\n",
      "    conv3_num_filters=128, conv3_filter_size=(2, 2), pool3_ds=(2, 2),\n",
      "    hidden4_num_units=500, hidden5_num_units=500,\n",
      "    output_num_units=32, output_nonlinearity=None,\n",
      "\n",
      "    update_learning_rate=0.01,\n",
      "    update_momentum=0.9,\n",
      "\n",
      "    regression=True,\n",
      "    max_epochs=1000,\n",
      "    verbose=1,\n",
      "    )\n",
      "\n"
     ],
     "language": "python",
     "metadata": {},
     "outputs": []
    },
    {
     "cell_type": "code",
     "collapsed": false,
     "input": [
      "X_2, y_2 = transform_2(X_train, y_train)\n",
      "%time net2.fit(X_2, y_2)\n",
      "\n",
      "# Training for 1000 epochs will take a while.  We'll pickle the\n",
      "# trained model so that we can load it back later:\n",
      "import cPickle as pickle\n",
      "with open('net2.pickle', 'wb') as f:\n",
      "    pickle.dump(net2, f, -1)"
     ],
     "language": "python",
     "metadata": {},
     "outputs": []
    },
    {
     "cell_type": "markdown",
     "metadata": {},
     "source": [
      "## NET 6 in the rock"
     ]
    },
    {
     "cell_type": "code",
     "collapsed": false,
     "input": [
      "import theano\n",
      "from lasagne import layers\n",
      "from lasagne.updates import nesterov_momentum\n",
      "from nolearn.lasagne import NeuralNet\n",
      "\n",
      "def float32(k):\n",
      "    return np.cast['float32'](k)\n",
      "\n",
      "class AdjustVariable(object):\n",
      "    def __init__(self, name, start=0.03, stop=0.001):\n",
      "        self.name = name\n",
      "        self.start, self.stop = start, stop\n",
      "        self.ls = None\n",
      "\n",
      "    def __call__(self, nn, train_history):\n",
      "        if self.ls is None:\n",
      "            self.ls = np.linspace(self.start, self.stop, nn.max_epochs)\n",
      "\n",
      "        epoch = train_history[-1]['epoch']\n",
      "        new_value = float32(self.ls[epoch - 1])\n",
      "        getattr(nn, self.name).set_value(new_value)\n",
      "\n",
      "class EarlyStopping(object):\n",
      "    def __init__(self, patience=100):\n",
      "        self.patience = patience\n",
      "        self.best_valid = np.inf\n",
      "        self.best_valid_epoch = 0\n",
      "        self.best_weights = None\n",
      "\n",
      "    def __call__(self, nn, train_history):\n",
      "        current_valid = train_history[-1]['valid_loss']\n",
      "        current_epoch = train_history[-1]['epoch']\n",
      "        if current_valid < self.best_valid:\n",
      "            self.best_valid = current_valid\n",
      "            self.best_valid_epoch = current_epoch\n",
      "            self.best_weights = [w.get_value() for w in nn.get_all_params()]\n",
      "        elif self.best_valid_epoch + self.patience < current_epoch:\n",
      "            print(\"Early stopping.\")\n",
      "            print(\"Best valid loss was {:.6f} at epoch {}.\".format(\n",
      "                self.best_valid, self.best_valid_epoch))\n",
      "            nn.load_weights_from(self.best_weights)\n",
      "            raise StopIteration()\n",
      "        \n",
      "# use the cuda-convnet implementations of conv and max-pool layer\n",
      "Conv2DLayer = layers.cuda_convnet.Conv2DCCLayer\n",
      "MaxPool2DLayer = layers.cuda_convnet.MaxPool2DCCLayer\n",
      "\n",
      "net6 = NeuralNet(\n",
      "    layers=[\n",
      "        ('input', layers.InputLayer),\n",
      "        ('conv1', Conv2DLayer),\n",
      "        ('pool1', MaxPool2DLayer),\n",
      "        ('dropout1', layers.DropoutLayer),  # !\n",
      "        ('conv2', Conv2DLayer),\n",
      "        ('pool2', MaxPool2DLayer),\n",
      "        ('dropout2', layers.DropoutLayer),  # !\n",
      "        ('conv3', Conv2DLayer),\n",
      "        ('pool3', MaxPool2DLayer),\n",
      "        ('dropout3', layers.DropoutLayer),  # !\n",
      "        ('hidden4', layers.DenseLayer),\n",
      "        ('dropout4', layers.DropoutLayer),  # !\n",
      "        ('hidden5', layers.DenseLayer),\n",
      "        ('output', layers.DenseLayer),\n",
      "        ],\n",
      "    input_shape=(128, 1, 50,50),\n",
      "    conv1_num_filters=32, conv1_filter_size=(3, 3), pool1_ds=(2, 2),\n",
      "    dropout1_p=0.1,  # !\n",
      "    conv2_num_filters=64, conv2_filter_size=(2, 2), pool2_ds=(2, 2),\n",
      "    dropout2_p=0.2,  # !\n",
      "    conv3_num_filters=128, conv3_filter_size=(2, 2), pool3_ds=(2, 2),\n",
      "    dropout3_p=0.3,  # !\n",
      "    hidden4_num_units=1000,\n",
      "    # hidden4_num_units=1000,  # !\n",
      "    dropout4_p=0.5,  # !\n",
      "    hidden5_num_units=1000,\n",
      "    # hidden5_num_units=1000,  # !\n",
      "    output_num_units=32, output_nonlinearity=None,\n",
      "\n",
      "    update_learning_rate=theano.shared(float32(0.03)),\n",
      "    update_momentum=theano.shared(float32(0.9)),\n",
      "\n",
      "    regression=True,\n",
      "    # batch_iterator=FlipBatchIterator(batch_size=128),\n",
      "    on_epoch_finished=[\n",
      "        AdjustVariable('update_learning_rate', start=0.03, stop=0.0001),\n",
      "        AdjustVariable('update_momentum', start=0.9, stop=0.999),\n",
      "        EarlyStopping(patience=200),\n",
      "        ],\n",
      "    # max_epochs=3000,\n",
      "    max_epochs=6000,\n",
      "    verbose=1,\n",
      "    )"
     ],
     "language": "python",
     "metadata": {},
     "outputs": [],
     "prompt_number": 15
    },
    {
     "cell_type": "code",
     "collapsed": false,
     "input": [
      "def transform_6(X,y):\n",
      "    X = X.reshape(-1, 50,50, 1)\n",
      "    X = X.transpose(0, 3, 1, 2)\n",
      "    return X, y\n",
      "\n",
      "# X_train = X_train.reshape(-1,1,sizee,sizee)\n",
      "# X_test = X_test.reshape(-1, 1,sizee,sizee)\n",
      "# X_train.shape"
     ],
     "language": "python",
     "metadata": {},
     "outputs": [],
     "prompt_number": 14
    },
    {
     "cell_type": "code",
     "collapsed": false,
     "input": [
      "import sys\n",
      "sys.setrecursionlimit(10000)\n",
      "\n",
      "X_6, y_6 = transform_6(X_train, y_train)\n",
      "%time net6.fit(X_6, y_6)\n",
      "\n",
      "import cPickle as pickle\n",
      "with open('net6.pickle', 'wb') as f:\n",
      "    pickle.dump(net6, f, -1)"
     ],
     "language": "python",
     "metadata": {},
     "outputs": [
      {
       "output_type": "stream",
       "stream": "stdout",
       "text": [
        "  InputLayer        \t(128, 1, 50, 50)    \tproduces    2500 outputs\n",
        "  Conv2DCCLayer     \t(128, 32, 48, 48)   \tproduces   73728 outputs\n",
        "  MaxPool2DCCLayer  \t(128, 32, 24, 24)   \tproduces   18432 outputs\n",
        "  DropoutLayer      \t(128, 32, 24, 24)   \tproduces   18432 outputs\n",
        "  Conv2DCCLayer     \t(128, 64, 23, 23)   \tproduces   33856 outputs\n",
        "  MaxPool2DCCLayer  \t(128, 64, 12, 12)   \tproduces    9216 outputs\n",
        "  DropoutLayer      \t(128, 64, 12, 12)   \tproduces    9216 outputs\n",
        "  Conv2DCCLayer     \t(128, 128, 11, 11)  \tproduces   15488 outputs\n",
        "  MaxPool2DCCLayer  \t(128, 128, 6, 6)    \tproduces    4608 outputs\n",
        "  DropoutLayer      \t(128, 128, 6, 6)    \tproduces    4608 outputs\n",
        "  DenseLayer        \t(128, 1000)         \tproduces    1000 outputs\n",
        "  DropoutLayer      \t(128, 1000)         \tproduces    1000 outputs\n",
        "  DenseLayer        \t(128, 1000)         \tproduces    1000 outputs\n",
        "  DenseLayer        \t(128, 32)           \tproduces      32 outputs\n",
        "\n",
        " Epoch  |  Train loss  |  Valid loss  |  Train / Val  |  Valid acc  |  Dur\n",
        "--------|--------------|--------------|---------------|-------------|-------"
       ]
      },
      {
       "output_type": "stream",
       "stream": "stdout",
       "text": [
        "\n",
        "     1  |  \u001b[94m  0.031639\u001b[0m  |  \u001b[32m  0.030287\u001b[0m  |     1.044636  |             |  3.5s"
       ]
      },
      {
       "output_type": "stream",
       "stream": "stdout",
       "text": [
        "\n",
        "     2  |  \u001b[94m  0.030427\u001b[0m  |  \u001b[32m  0.030190\u001b[0m  |     1.007855  |             |  3.5s"
       ]
      },
      {
       "output_type": "stream",
       "stream": "stdout",
       "text": [
        "\n",
        "     3  |  \u001b[94m  0.030272\u001b[0m  |  \u001b[32m  0.030154\u001b[0m  |     1.003936  |             |  3.5s"
       ]
      },
      {
       "output_type": "stream",
       "stream": "stdout",
       "text": [
        "\n",
        "     4  |  \u001b[94m  0.030190\u001b[0m  |  \u001b[32m  0.030123\u001b[0m  |     1.002223  |             |  3.5s"
       ]
      },
      {
       "output_type": "stream",
       "stream": "stdout",
       "text": [
        "\n",
        "     5  |  \u001b[94m  0.030145\u001b[0m  |  \u001b[32m  0.030095\u001b[0m  |     1.001660  |             |  3.5s"
       ]
      },
      {
       "output_type": "stream",
       "stream": "stdout",
       "text": [
        "\n",
        "     6  |  \u001b[94m  0.030114\u001b[0m  |  \u001b[32m  0.030066\u001b[0m  |     1.001611  |             |  3.5s"
       ]
      },
      {
       "output_type": "stream",
       "stream": "stdout",
       "text": [
        "\n",
        "     7  |  \u001b[94m  0.030075\u001b[0m  |  \u001b[32m  0.030034\u001b[0m  |     1.001351  |             |  3.5s"
       ]
      },
      {
       "output_type": "stream",
       "stream": "stdout",
       "text": [
        "\n",
        "     8  |  \u001b[94m  0.030032\u001b[0m  |  \u001b[32m  0.030001\u001b[0m  |     1.001010  |             |  3.5s"
       ]
      },
      {
       "output_type": "stream",
       "stream": "stdout",
       "text": [
        "\n",
        "     9  |  \u001b[94m  0.030002\u001b[0m  |  \u001b[32m  0.029965\u001b[0m  |     1.001223  |             |  3.5s"
       ]
      },
      {
       "output_type": "stream",
       "stream": "stdout",
       "text": [
        "\n",
        "    10  |  \u001b[94m  0.029979\u001b[0m  |  \u001b[32m  0.029931\u001b[0m  |     1.001617  |             |  3.5s"
       ]
      },
      {
       "output_type": "stream",
       "stream": "stdout",
       "text": [
        "\n",
        "    11  |  \u001b[94m  0.029934\u001b[0m  |  \u001b[32m  0.029890\u001b[0m  |     1.001466  |             |  3.5s"
       ]
      },
      {
       "output_type": "stream",
       "stream": "stdout",
       "text": [
        "\n",
        "    12  |  \u001b[94m  0.029909\u001b[0m  |  \u001b[32m  0.029863\u001b[0m  |     1.001512  |             |  3.5s"
       ]
      },
      {
       "output_type": "stream",
       "stream": "stdout",
       "text": [
        "\n",
        "    13  |  \u001b[94m  0.029871\u001b[0m  |  \u001b[32m  0.029818\u001b[0m  |     1.001766  |             |  3.5s"
       ]
      },
      {
       "output_type": "stream",
       "stream": "stdout",
       "text": [
        "\n",
        "    14  |  \u001b[94m  0.029859\u001b[0m  |  \u001b[32m  0.029790\u001b[0m  |     1.002318  |             |  3.5s"
       ]
      },
      {
       "output_type": "stream",
       "stream": "stdout",
       "text": [
        "\n",
        "    15  |  \u001b[94m  0.029808\u001b[0m  |  \u001b[32m  0.029747\u001b[0m  |     1.002058  |             |  3.5s"
       ]
      },
      {
       "output_type": "stream",
       "stream": "stdout",
       "text": [
        "\n",
        "    16  |  \u001b[94m  0.029775\u001b[0m  |  \u001b[32m  0.029709\u001b[0m  |     1.002206  |             |  3.5s"
       ]
      },
      {
       "output_type": "stream",
       "stream": "stdout",
       "text": [
        "\n",
        "    17  |  \u001b[94m  0.029728\u001b[0m  |  \u001b[32m  0.029660\u001b[0m  |     1.002305  |             |  3.5s"
       ]
      },
      {
       "output_type": "stream",
       "stream": "stdout",
       "text": [
        "\n",
        "    18  |  \u001b[94m  0.029709\u001b[0m  |  \u001b[32m  0.029630\u001b[0m  |     1.002695  |             |  3.5s"
       ]
      },
      {
       "output_type": "stream",
       "stream": "stdout",
       "text": [
        "\n",
        "    19  |  \u001b[94m  0.029660\u001b[0m  |  \u001b[32m  0.029594\u001b[0m  |     1.002223  |             |  3.5s"
       ]
      },
      {
       "output_type": "stream",
       "stream": "stdout",
       "text": [
        "\n",
        "    20  |  \u001b[94m  0.029634\u001b[0m  |  \u001b[32m  0.029563\u001b[0m  |     1.002402  |             |  3.5s"
       ]
      },
      {
       "output_type": "stream",
       "stream": "stdout",
       "text": [
        "\n",
        "    21  |  \u001b[94m  0.029599\u001b[0m  |  \u001b[32m  0.029523\u001b[0m  |     1.002575  |             |  3.5s"
       ]
      },
      {
       "output_type": "stream",
       "stream": "stdout",
       "text": [
        "\n",
        "    22  |  \u001b[94m  0.029568\u001b[0m  |  \u001b[32m  0.029482\u001b[0m  |     1.002902  |             |  3.5s"
       ]
      },
      {
       "output_type": "stream",
       "stream": "stdout",
       "text": [
        "\n",
        "    23  |  \u001b[94m  0.029525\u001b[0m  |  \u001b[32m  0.029443\u001b[0m  |     1.002808  |             |  3.5s"
       ]
      },
      {
       "output_type": "stream",
       "stream": "stdout",
       "text": [
        "\n",
        "    24  |  \u001b[94m  0.029474\u001b[0m  |  \u001b[32m  0.029398\u001b[0m  |     1.002586  |             |  3.5s"
       ]
      },
      {
       "output_type": "stream",
       "stream": "stdout",
       "text": [
        "\n",
        "    25  |  \u001b[94m  0.029446\u001b[0m  |  \u001b[32m  0.029361\u001b[0m  |     1.002902  |             |  3.5s"
       ]
      },
      {
       "output_type": "stream",
       "stream": "stdout",
       "text": [
        "\n",
        "    26  |  \u001b[94m  0.029424\u001b[0m  |  \u001b[32m  0.029340\u001b[0m  |     1.002862  |             |  3.5s"
       ]
      },
      {
       "output_type": "stream",
       "stream": "stdout",
       "text": [
        "\n",
        "    27  |  \u001b[94m  0.029377\u001b[0m  |  \u001b[32m  0.029281\u001b[0m  |     1.003289  |             |  3.5s"
       ]
      },
      {
       "output_type": "stream",
       "stream": "stdout",
       "text": [
        "\n",
        "    28  |  \u001b[94m  0.029343\u001b[0m  |  \u001b[32m  0.029254\u001b[0m  |     1.003035  |             |  3.5s"
       ]
      },
      {
       "output_type": "stream",
       "stream": "stdout",
       "text": [
        "\n",
        "    29  |  \u001b[94m  0.029302\u001b[0m  |  \u001b[32m  0.029218\u001b[0m  |     1.002872  |             |  3.5s"
       ]
      },
      {
       "output_type": "stream",
       "stream": "stdout",
       "text": [
        "\n",
        "    30  |  \u001b[94m  0.029253\u001b[0m  |  \u001b[32m  0.029169\u001b[0m  |     1.002908  |             |  3.5s"
       ]
      },
      {
       "output_type": "stream",
       "stream": "stdout",
       "text": [
        "\n",
        "    31  |  \u001b[94m  0.029235\u001b[0m  |  \u001b[32m  0.029145\u001b[0m  |     1.003066  |             |  3.5s"
       ]
      },
      {
       "output_type": "stream",
       "stream": "stdout",
       "text": [
        "\n",
        "    32  |  \u001b[94m  0.029201\u001b[0m  |  \u001b[32m  0.029087\u001b[0m  |     1.003924  |             |  3.5s"
       ]
      },
      {
       "output_type": "stream",
       "stream": "stdout",
       "text": [
        "\n",
        "    33  |  \u001b[94m  0.029158\u001b[0m  |  \u001b[32m  0.029045\u001b[0m  |     1.003868  |             |  3.5s"
       ]
      },
      {
       "output_type": "stream",
       "stream": "stdout",
       "text": [
        "\n",
        "    34  |  \u001b[94m  0.029134\u001b[0m  |  \u001b[32m  0.029001\u001b[0m  |     1.004588  |             |  3.5s"
       ]
      },
      {
       "output_type": "stream",
       "stream": "stdout",
       "text": [
        "\n",
        "    35  |  \u001b[94m  0.029091\u001b[0m  |  \u001b[32m  0.028950\u001b[0m  |     1.004862  |             |  3.5s"
       ]
      },
      {
       "output_type": "stream",
       "stream": "stdout",
       "text": [
        "\n",
        "    36  |  \u001b[94m  0.029046\u001b[0m  |  \u001b[32m  0.028910\u001b[0m  |     1.004718  |             |  3.5s"
       ]
      },
      {
       "output_type": "stream",
       "stream": "stdout",
       "text": [
        "\n",
        "    37  |  \u001b[94m  0.028985\u001b[0m  |  \u001b[32m  0.028869\u001b[0m  |     1.004011  |             |  3.5s"
       ]
      },
      {
       "output_type": "stream",
       "stream": "stdout",
       "text": [
        "\n",
        "    38  |  \u001b[94m  0.028961\u001b[0m  |  \u001b[32m  0.028805\u001b[0m  |     1.005392  |             |  3.5s"
       ]
      },
      {
       "output_type": "stream",
       "stream": "stdout",
       "text": [
        "\n",
        "    39  |  \u001b[94m  0.028932\u001b[0m  |  \u001b[32m  0.028754\u001b[0m  |     1.006189  |             |  3.5s"
       ]
      },
      {
       "output_type": "stream",
       "stream": "stdout",
       "text": [
        "\n",
        "    40  |  \u001b[94m  0.028888\u001b[0m  |  \u001b[32m  0.028713\u001b[0m  |     1.006078  |             |  3.5s"
       ]
      },
      {
       "output_type": "stream",
       "stream": "stdout",
       "text": [
        "\n",
        "    41  |  \u001b[94m  0.028859\u001b[0m  |  \u001b[32m  0.028675\u001b[0m  |     1.006441  |             |  3.5s"
       ]
      },
      {
       "output_type": "stream",
       "stream": "stdout",
       "text": [
        "\n",
        "    42  |  \u001b[94m  0.028790\u001b[0m  |  \u001b[32m  0.028615\u001b[0m  |     1.006133  |             |  3.5s"
       ]
      },
      {
       "output_type": "stream",
       "stream": "stdout",
       "text": [
        "\n",
        "    43  |  \u001b[94m  0.028772\u001b[0m  |  \u001b[32m  0.028578\u001b[0m  |     1.006803  |             |  3.5s"
       ]
      },
      {
       "output_type": "stream",
       "stream": "stdout",
       "text": [
        "\n",
        "    44  |  \u001b[94m  0.028727\u001b[0m  |  \u001b[32m  0.028501\u001b[0m  |     1.007934  |             |  3.5s"
       ]
      },
      {
       "output_type": "stream",
       "stream": "stdout",
       "text": [
        "\n",
        "    45  |  \u001b[94m  0.028636\u001b[0m  |  \u001b[32m  0.028433\u001b[0m  |     1.007148  |             |  3.5s"
       ]
      },
      {
       "output_type": "stream",
       "stream": "stdout",
       "text": [
        "\n",
        "    46  |  \u001b[94m  0.028603\u001b[0m  |  \u001b[32m  0.028378\u001b[0m  |     1.007931  |             |  3.5s"
       ]
      },
      {
       "output_type": "stream",
       "stream": "stdout",
       "text": [
        "\n",
        "    47  |  \u001b[94m  0.028576\u001b[0m  |  \u001b[32m  0.028328\u001b[0m  |     1.008767  |             |  3.5s"
       ]
      },
      {
       "output_type": "stream",
       "stream": "stdout",
       "text": [
        "\n",
        "    48  |  \u001b[94m  0.028526\u001b[0m  |  \u001b[32m  0.028240\u001b[0m  |     1.010099  |             |  3.5s"
       ]
      },
      {
       "output_type": "stream",
       "stream": "stdout",
       "text": [
        "\n",
        "    49  |  \u001b[94m  0.028466\u001b[0m  |  \u001b[32m  0.028192\u001b[0m  |     1.009727  |             |  3.5s"
       ]
      },
      {
       "output_type": "stream",
       "stream": "stdout",
       "text": [
        "\n",
        "    50  |  \u001b[94m  0.028432\u001b[0m  |  \u001b[32m  0.028142\u001b[0m  |     1.010322  |             |  3.5s"
       ]
      },
      {
       "output_type": "stream",
       "stream": "stdout",
       "text": [
        "\n",
        "    51  |  \u001b[94m  0.028416\u001b[0m  |  \u001b[32m  0.028076\u001b[0m  |     1.012128  |             |  3.5s"
       ]
      },
      {
       "output_type": "stream",
       "stream": "stdout",
       "text": [
        "\n",
        "    52  |  \u001b[94m  0.028302\u001b[0m  |  \u001b[32m  0.027985\u001b[0m  |     1.011335  |             |  3.5s"
       ]
      },
      {
       "output_type": "stream",
       "stream": "stdout",
       "text": [
        "\n",
        "    53  |  \u001b[94m  0.028262\u001b[0m  |  \u001b[32m  0.027949\u001b[0m  |     1.011206  |             |  3.5s"
       ]
      },
      {
       "output_type": "stream",
       "stream": "stdout",
       "text": [
        "\n",
        "    54  |  \u001b[94m  0.028234\u001b[0m  |  \u001b[32m  0.027865\u001b[0m  |     1.013254  |             |  3.5s"
       ]
      },
      {
       "output_type": "stream",
       "stream": "stdout",
       "text": [
        "\n",
        "    55  |  \u001b[94m  0.028175\u001b[0m  |  \u001b[32m  0.027795\u001b[0m  |     1.013656  |             |  3.5s"
       ]
      },
      {
       "output_type": "stream",
       "stream": "stdout",
       "text": [
        "\n",
        "    56  |  \u001b[94m  0.028125\u001b[0m  |  \u001b[32m  0.027748\u001b[0m  |     1.013565  |             |  3.5s"
       ]
      },
      {
       "output_type": "stream",
       "stream": "stdout",
       "text": [
        "\n",
        "    57  |  \u001b[94m  0.028062\u001b[0m  |  \u001b[32m  0.027671\u001b[0m  |     1.014138  |             |  3.5s"
       ]
      },
      {
       "output_type": "stream",
       "stream": "stdout",
       "text": [
        "\n",
        "    58  |  \u001b[94m  0.028007\u001b[0m  |  \u001b[32m  0.027608\u001b[0m  |     1.014446  |             |  3.5s"
       ]
      },
      {
       "output_type": "stream",
       "stream": "stdout",
       "text": [
        "\n",
        "    59  |  \u001b[94m  0.027975\u001b[0m  |  \u001b[32m  0.027510\u001b[0m  |     1.016915  |             |  3.5s"
       ]
      },
      {
       "output_type": "stream",
       "stream": "stdout",
       "text": [
        "\n",
        "    60  |  \u001b[94m  0.027888\u001b[0m  |  \u001b[32m  0.027445\u001b[0m  |     1.016117  |             |  3.5s"
       ]
      },
      {
       "output_type": "stream",
       "stream": "stdout",
       "text": [
        "\n",
        "    61  |  \u001b[94m  0.027878\u001b[0m  |  \u001b[32m  0.027422\u001b[0m  |     1.016638  |             |  3.5s"
       ]
      },
      {
       "output_type": "stream",
       "stream": "stdout",
       "text": [
        "\n",
        "    62  |  \u001b[94m  0.027825\u001b[0m  |  \u001b[32m  0.027327\u001b[0m  |     1.018238  |             |  3.5s"
       ]
      },
      {
       "output_type": "stream",
       "stream": "stdout",
       "text": [
        "\n",
        "    63  |  \u001b[94m  0.027736\u001b[0m  |  \u001b[32m  0.027265\u001b[0m  |     1.017254  |             |  3.5s"
       ]
      },
      {
       "output_type": "stream",
       "stream": "stdout",
       "text": [
        "\n",
        "    64  |  \u001b[94m  0.027698\u001b[0m  |  \u001b[32m  0.027216\u001b[0m  |     1.017692  |             |  3.5s"
       ]
      },
      {
       "output_type": "stream",
       "stream": "stdout",
       "text": [
        "\n",
        "    65  |  \u001b[94m  0.027659\u001b[0m  |  \u001b[32m  0.027117\u001b[0m  |     1.019994  |             |  3.5s"
       ]
      },
      {
       "output_type": "stream",
       "stream": "stdout",
       "text": [
        "\n",
        "    66  |  \u001b[94m  0.027585\u001b[0m  |  \u001b[32m  0.027060\u001b[0m  |     1.019381  |             |  3.5s"
       ]
      },
      {
       "output_type": "stream",
       "stream": "stdout",
       "text": [
        "\n",
        "    67  |  \u001b[94m  0.027530\u001b[0m  |  \u001b[32m  0.026987\u001b[0m  |     1.020111  |             |  3.5s"
       ]
      },
      {
       "output_type": "stream",
       "stream": "stdout",
       "text": [
        "\n",
        "    68  |  \u001b[94m  0.027481\u001b[0m  |  \u001b[32m  0.026914\u001b[0m  |     1.021065  |             |  3.5s"
       ]
      },
      {
       "output_type": "stream",
       "stream": "stdout",
       "text": [
        "\n",
        "    69  |  \u001b[94m  0.027414\u001b[0m  |  \u001b[32m  0.026843\u001b[0m  |     1.021256  |             |  3.5s"
       ]
      },
      {
       "output_type": "stream",
       "stream": "stdout",
       "text": [
        "\n",
        "    70  |  \u001b[94m  0.027387\u001b[0m  |  \u001b[32m  0.026761\u001b[0m  |     1.023398  |             |  3.5s"
       ]
      },
      {
       "output_type": "stream",
       "stream": "stdout",
       "text": [
        "\n",
        "    71  |  \u001b[94m  0.027329\u001b[0m  |  \u001b[32m  0.026721\u001b[0m  |     1.022746  |             |  3.5s"
       ]
      },
      {
       "output_type": "stream",
       "stream": "stdout",
       "text": [
        "\n",
        "    72  |  \u001b[94m  0.027251\u001b[0m  |  \u001b[32m  0.026629\u001b[0m  |     1.023355  |             |  3.5s"
       ]
      },
      {
       "output_type": "stream",
       "stream": "stdout",
       "text": [
        "\n",
        "    73  |  \u001b[94m  0.027182\u001b[0m  |  \u001b[32m  0.026521\u001b[0m  |     1.024915  |             |  3.5s"
       ]
      },
      {
       "output_type": "stream",
       "stream": "stdout",
       "text": [
        "\n",
        "    74  |  \u001b[94m  0.027162\u001b[0m  |  \u001b[32m  0.026482\u001b[0m  |     1.025684  |             |  3.5s"
       ]
      },
      {
       "output_type": "stream",
       "stream": "stdout",
       "text": [
        "\n",
        "    75  |  \u001b[94m  0.027091\u001b[0m  |  \u001b[32m  0.026415\u001b[0m  |     1.025582  |             |  3.5s"
       ]
      },
      {
       "output_type": "stream",
       "stream": "stdout",
       "text": [
        "\n",
        "    76  |  \u001b[94m  0.027008\u001b[0m  |  \u001b[32m  0.026347\u001b[0m  |     1.025108  |             |  3.5s"
       ]
      },
      {
       "output_type": "stream",
       "stream": "stdout",
       "text": [
        "\n",
        "    77  |  \u001b[94m  0.027001\u001b[0m  |  \u001b[32m  0.026266\u001b[0m  |     1.027993  |             |  3.5s"
       ]
      },
      {
       "output_type": "stream",
       "stream": "stdout",
       "text": [
        "\n",
        "    78  |  \u001b[94m  0.026939\u001b[0m  |  \u001b[32m  0.026224\u001b[0m  |     1.027271  |             |  3.5s"
       ]
      },
      {
       "output_type": "stream",
       "stream": "stdout",
       "text": [
        "\n",
        "    79  |  \u001b[94m  0.026875\u001b[0m  |  \u001b[32m  0.026132\u001b[0m  |     1.028455  |             |  3.5s"
       ]
      },
      {
       "output_type": "stream",
       "stream": "stdout",
       "text": [
        "\n",
        "    80  |  \u001b[94m  0.026817\u001b[0m  |  \u001b[32m  0.026056\u001b[0m  |     1.029224  |             |  3.5s"
       ]
      },
      {
       "output_type": "stream",
       "stream": "stdout",
       "text": [
        "\n",
        "    81  |  \u001b[94m  0.026760\u001b[0m  |  \u001b[32m  0.025986\u001b[0m  |     1.029769  |             |  3.5s"
       ]
      },
      {
       "output_type": "stream",
       "stream": "stdout",
       "text": [
        "\n",
        "    82  |  \u001b[94m  0.026672\u001b[0m  |  \u001b[32m  0.025914\u001b[0m  |     1.029271  |             |  3.5s"
       ]
      },
      {
       "output_type": "stream",
       "stream": "stdout",
       "text": [
        "\n",
        "    83  |  \u001b[94m  0.026652\u001b[0m  |  \u001b[32m  0.025867\u001b[0m  |     1.030357  |             |  3.5s"
       ]
      },
      {
       "output_type": "stream",
       "stream": "stdout",
       "text": [
        "\n",
        "    84  |  \u001b[94m  0.026596\u001b[0m  |  \u001b[32m  0.025741\u001b[0m  |     1.033200  |             |  3.5s"
       ]
      },
      {
       "output_type": "stream",
       "stream": "stdout",
       "text": [
        "\n",
        "    85  |  \u001b[94m  0.026568\u001b[0m  |  \u001b[32m  0.025721\u001b[0m  |     1.032944  |             |  3.5s"
       ]
      },
      {
       "output_type": "stream",
       "stream": "stdout",
       "text": [
        "\n",
        "    86  |  \u001b[94m  0.026454\u001b[0m  |  \u001b[32m  0.025619\u001b[0m  |     1.032581  |             |  3.5s"
       ]
      },
      {
       "output_type": "stream",
       "stream": "stdout",
       "text": [
        "\n",
        "    87  |  \u001b[94m  0.026418\u001b[0m  |  \u001b[32m  0.025543\u001b[0m  |     1.034225  |             |  3.5s"
       ]
      },
      {
       "output_type": "stream",
       "stream": "stdout",
       "text": [
        "\n",
        "    88  |  \u001b[94m  0.026359\u001b[0m  |  \u001b[32m  0.025488\u001b[0m  |     1.034167  |             |  3.5s"
       ]
      },
      {
       "output_type": "stream",
       "stream": "stdout",
       "text": [
        "\n",
        "    89  |  \u001b[94m  0.026326\u001b[0m  |  \u001b[32m  0.025434\u001b[0m  |     1.035085  |             |  3.5s"
       ]
      },
      {
       "output_type": "stream",
       "stream": "stdout",
       "text": [
        "\n",
        "    90  |  \u001b[94m  0.026260\u001b[0m  |  \u001b[32m  0.025322\u001b[0m  |     1.037035  |             |  3.5s"
       ]
      },
      {
       "output_type": "stream",
       "stream": "stdout",
       "text": [
        "\n",
        "    91  |  \u001b[94m  0.026206\u001b[0m  |  \u001b[32m  0.025273\u001b[0m  |     1.036943  |             |  3.5s"
       ]
      },
      {
       "output_type": "stream",
       "stream": "stdout",
       "text": [
        "\n",
        "    92  |  \u001b[94m  0.026162\u001b[0m  |  \u001b[32m  0.025212\u001b[0m  |     1.037688  |             |  3.5s"
       ]
      },
      {
       "output_type": "stream",
       "stream": "stdout",
       "text": [
        "\n",
        "    93  |  \u001b[94m  0.026083\u001b[0m  |  \u001b[32m  0.025120\u001b[0m  |     1.038367  |             |  3.5s"
       ]
      },
      {
       "output_type": "stream",
       "stream": "stdout",
       "text": [
        "\n",
        "    94  |  \u001b[94m  0.026049\u001b[0m  |  \u001b[32m  0.025066\u001b[0m  |     1.039237  |             |  3.5s"
       ]
      },
      {
       "output_type": "stream",
       "stream": "stdout",
       "text": [
        "\n",
        "    95  |  \u001b[94m  0.025962\u001b[0m  |  \u001b[32m  0.025001\u001b[0m  |     1.038445  |             |  3.5s"
       ]
      },
      {
       "output_type": "stream",
       "stream": "stdout",
       "text": [
        "\n",
        "    96  |  \u001b[94m  0.025891\u001b[0m  |  \u001b[32m  0.024928\u001b[0m  |     1.038626  |             |  3.5s"
       ]
      },
      {
       "output_type": "stream",
       "stream": "stdout",
       "text": [
        "\n",
        "    97  |  \u001b[94m  0.025881\u001b[0m  |  \u001b[32m  0.024867\u001b[0m  |     1.040766  |             |  3.5s"
       ]
      },
      {
       "output_type": "stream",
       "stream": "stdout",
       "text": [
        "\n",
        "    98  |  \u001b[94m  0.025757\u001b[0m  |  \u001b[32m  0.024786\u001b[0m  |     1.039151  |             |  3.5s"
       ]
      },
      {
       "output_type": "stream",
       "stream": "stdout",
       "text": [
        "\n",
        "    99  |  \u001b[94m  0.025747\u001b[0m  |  \u001b[32m  0.024701\u001b[0m  |     1.042349  |             |  3.5s"
       ]
      },
      {
       "output_type": "stream",
       "stream": "stdout",
       "text": [
        "\n",
        "   100  |  \u001b[94m  0.025686\u001b[0m  |  \u001b[32m  0.024614\u001b[0m  |     1.043565  |             |  3.5s"
       ]
      },
      {
       "output_type": "stream",
       "stream": "stdout",
       "text": [
        "\n",
        "   101  |  \u001b[94m  0.025601\u001b[0m  |  \u001b[32m  0.024544\u001b[0m  |     1.043080  |             |  3.5s"
       ]
      },
      {
       "output_type": "stream",
       "stream": "stdout",
       "text": [
        "\n",
        "   102  |  \u001b[94m  0.025581\u001b[0m  |  \u001b[32m  0.024494\u001b[0m  |     1.044367  |             |  3.5s"
       ]
      },
      {
       "output_type": "stream",
       "stream": "stdout",
       "text": [
        "\n",
        "   103  |  \u001b[94m  0.025493\u001b[0m  |  \u001b[32m  0.024437\u001b[0m  |     1.043225  |             |  3.5s"
       ]
      },
      {
       "output_type": "stream",
       "stream": "stdout",
       "text": [
        "\n",
        "   104  |  \u001b[94m  0.025470\u001b[0m  |  \u001b[32m  0.024360\u001b[0m  |     1.045599  |             |  3.5s"
       ]
      },
      {
       "output_type": "stream",
       "stream": "stdout",
       "text": [
        "\n",
        "   105  |  \u001b[94m  0.025362\u001b[0m  |  \u001b[32m  0.024256\u001b[0m  |     1.045579  |             |  3.5s"
       ]
      },
      {
       "output_type": "stream",
       "stream": "stdout",
       "text": [
        "\n",
        "   106  |  \u001b[94m  0.025318\u001b[0m  |  \u001b[32m  0.024223\u001b[0m  |     1.045212  |             |  3.5s"
       ]
      },
      {
       "output_type": "stream",
       "stream": "stdout",
       "text": [
        "\n",
        "   107  |  \u001b[94m  0.025276\u001b[0m  |  \u001b[32m  0.024121\u001b[0m  |     1.047891  |             |  3.5s"
       ]
      },
      {
       "output_type": "stream",
       "stream": "stdout",
       "text": [
        "\n",
        "   108  |  \u001b[94m  0.025230\u001b[0m  |  \u001b[32m  0.024063\u001b[0m  |     1.048480  |             |  3.5s"
       ]
      },
      {
       "output_type": "stream",
       "stream": "stdout",
       "text": [
        "\n",
        "   109  |  \u001b[94m  0.025169\u001b[0m  |  \u001b[32m  0.023978\u001b[0m  |     1.049704  |             |  3.5s"
       ]
      },
      {
       "output_type": "stream",
       "stream": "stdout",
       "text": [
        "\n",
        "   110  |  \u001b[94m  0.025092\u001b[0m  |  \u001b[32m  0.023897\u001b[0m  |     1.050004  |             |  3.5s"
       ]
      },
      {
       "output_type": "stream",
       "stream": "stdout",
       "text": [
        "\n",
        "   111  |  \u001b[94m  0.025054\u001b[0m  |  \u001b[32m  0.023838\u001b[0m  |     1.050987  |             |  3.5s"
       ]
      },
      {
       "output_type": "stream",
       "stream": "stdout",
       "text": [
        "\n",
        "   112  |  \u001b[94m  0.024938\u001b[0m  |  \u001b[32m  0.023754\u001b[0m  |     1.049848  |             |  3.5s"
       ]
      },
      {
       "output_type": "stream",
       "stream": "stdout",
       "text": [
        "\n",
        "   113  |  \u001b[94m  0.024935\u001b[0m  |  \u001b[32m  0.023705\u001b[0m  |     1.051888  |             |  3.5s"
       ]
      },
      {
       "output_type": "stream",
       "stream": "stdout",
       "text": [
        "\n",
        "   114  |  \u001b[94m  0.024858\u001b[0m  |  \u001b[32m  0.023636\u001b[0m  |     1.051677  |             |  3.5s"
       ]
      },
      {
       "output_type": "stream",
       "stream": "stdout",
       "text": [
        "\n",
        "   115  |  \u001b[94m  0.024754\u001b[0m  |  \u001b[32m  0.023564\u001b[0m  |     1.050502  |             |  3.5s"
       ]
      },
      {
       "output_type": "stream",
       "stream": "stdout",
       "text": [
        "\n",
        "   116  |  \u001b[94m  0.024713\u001b[0m  |  \u001b[32m  0.023449\u001b[0m  |     1.053891  |             |  3.5s"
       ]
      },
      {
       "output_type": "stream",
       "stream": "stdout",
       "text": [
        "\n",
        "   117  |  \u001b[94m  0.024660\u001b[0m  |  \u001b[32m  0.023411\u001b[0m  |     1.053358  |             |  3.5s"
       ]
      },
      {
       "output_type": "stream",
       "stream": "stdout",
       "text": [
        "\n",
        "   118  |  \u001b[94m  0.024617\u001b[0m  |  \u001b[32m  0.023327\u001b[0m  |     1.055328  |             |  3.5s"
       ]
      },
      {
       "output_type": "stream",
       "stream": "stdout",
       "text": [
        "\n",
        "   119  |  \u001b[94m  0.024584\u001b[0m  |  \u001b[32m  0.023251\u001b[0m  |     1.057342  |             |  3.5s"
       ]
      },
      {
       "output_type": "stream",
       "stream": "stdout",
       "text": [
        "\n",
        "   120  |  \u001b[94m  0.024447\u001b[0m  |  \u001b[32m  0.023182\u001b[0m  |     1.054539  |             |  3.5s"
       ]
      },
      {
       "output_type": "stream",
       "stream": "stdout",
       "text": [
        "\n",
        "   121  |  \u001b[94m  0.024442\u001b[0m  |  \u001b[32m  0.023110\u001b[0m  |     1.057603  |             |  3.5s"
       ]
      },
      {
       "output_type": "stream",
       "stream": "stdout",
       "text": [
        "\n",
        "   122  |  \u001b[94m  0.024404\u001b[0m  |  \u001b[32m  0.023080\u001b[0m  |     1.057360  |             |  3.5s"
       ]
      },
      {
       "output_type": "stream",
       "stream": "stdout",
       "text": [
        "\n",
        "   123  |  \u001b[94m  0.024301\u001b[0m  |  \u001b[32m  0.022949\u001b[0m  |     1.058912  |             |  3.5s"
       ]
      },
      {
       "output_type": "stream",
       "stream": "stdout",
       "text": [
        "\n",
        "   124  |  \u001b[94m  0.024220\u001b[0m  |  \u001b[32m  0.022867\u001b[0m  |     1.059180  |             |  3.5s"
       ]
      },
      {
       "output_type": "stream",
       "stream": "stdout",
       "text": [
        "\n",
        "   125  |  \u001b[94m  0.024200\u001b[0m  |  \u001b[32m  0.022832\u001b[0m  |     1.059932  |             |  3.5s"
       ]
      },
      {
       "output_type": "stream",
       "stream": "stdout",
       "text": [
        "\n",
        "   126  |  \u001b[94m  0.024101\u001b[0m  |  \u001b[32m  0.022729\u001b[0m  |     1.060329  |             |  3.5s"
       ]
      },
      {
       "output_type": "stream",
       "stream": "stdout",
       "text": [
        "\n",
        "   127  |  \u001b[94m  0.024028\u001b[0m  |  \u001b[32m  0.022672\u001b[0m  |     1.059769  |             |  3.5s"
       ]
      },
      {
       "output_type": "stream",
       "stream": "stdout",
       "text": [
        "\n",
        "   128  |  \u001b[94m  0.023980\u001b[0m  |  \u001b[32m  0.022569\u001b[0m  |     1.062505  |             |  3.5s"
       ]
      },
      {
       "output_type": "stream",
       "stream": "stdout",
       "text": [
        "\n",
        "   129  |  \u001b[94m  0.023917\u001b[0m  |  \u001b[32m  0.022514\u001b[0m  |     1.062285  |             |  3.5s"
       ]
      },
      {
       "output_type": "stream",
       "stream": "stdout",
       "text": [
        "\n",
        "   130  |  \u001b[94m  0.023875\u001b[0m  |  \u001b[32m  0.022483\u001b[0m  |     1.061907  |             |  3.5s"
       ]
      },
      {
       "output_type": "stream",
       "stream": "stdout",
       "text": [
        "\n",
        "   131  |  \u001b[94m  0.023835\u001b[0m  |  \u001b[32m  0.022378\u001b[0m  |     1.065118  |             |  3.5s"
       ]
      },
      {
       "output_type": "stream",
       "stream": "stdout",
       "text": [
        "\n",
        "   132  |  \u001b[94m  0.023738\u001b[0m  |  \u001b[32m  0.022270\u001b[0m  |     1.065889  |             |  3.5s"
       ]
      },
      {
       "output_type": "stream",
       "stream": "stdout",
       "text": [
        "\n",
        "   133  |  \u001b[94m  0.023678\u001b[0m  |  \u001b[32m  0.022214\u001b[0m  |     1.065900  |             |  3.5s"
       ]
      },
      {
       "output_type": "stream",
       "stream": "stdout",
       "text": [
        "\n",
        "   134  |  \u001b[94m  0.023609\u001b[0m  |  \u001b[32m  0.022184\u001b[0m  |     1.064258  |             |  3.5s"
       ]
      },
      {
       "output_type": "stream",
       "stream": "stdout",
       "text": [
        "\n",
        "   135  |  \u001b[94m  0.023558\u001b[0m  |  \u001b[32m  0.022088\u001b[0m  |     1.066565  |             |  3.5s"
       ]
      },
      {
       "output_type": "stream",
       "stream": "stdout",
       "text": [
        "\n",
        "   136  |  \u001b[94m  0.023437\u001b[0m  |  \u001b[32m  0.021999\u001b[0m  |     1.065363  |             |  3.5s"
       ]
      },
      {
       "output_type": "stream",
       "stream": "stdout",
       "text": [
        "\n",
        "   137  |  \u001b[94m  0.023428\u001b[0m  |  \u001b[32m  0.021921\u001b[0m  |     1.068734  |             |  3.5s"
       ]
      },
      {
       "output_type": "stream",
       "stream": "stdout",
       "text": [
        "\n",
        "   138  |  \u001b[94m  0.023378\u001b[0m  |  \u001b[32m  0.021886\u001b[0m  |     1.068152  |             |  3.5s"
       ]
      },
      {
       "output_type": "stream",
       "stream": "stdout",
       "text": [
        "\n",
        "   139  |  \u001b[94m  0.023276\u001b[0m  |  \u001b[32m  0.021799\u001b[0m  |     1.067748  |             |  3.5s"
       ]
      },
      {
       "output_type": "stream",
       "stream": "stdout",
       "text": [
        "\n",
        "   140  |  \u001b[94m  0.023216\u001b[0m  |  \u001b[32m  0.021723\u001b[0m  |     1.068745  |             |  3.5s"
       ]
      },
      {
       "output_type": "stream",
       "stream": "stdout",
       "text": [
        "\n",
        "   141  |  \u001b[94m  0.023190\u001b[0m  |  \u001b[32m  0.021630\u001b[0m  |     1.072100  |             |  3.5s"
       ]
      },
      {
       "output_type": "stream",
       "stream": "stdout",
       "text": [
        "\n",
        "   142  |  \u001b[94m  0.023071\u001b[0m  |  \u001b[32m  0.021558\u001b[0m  |     1.070174  |             |  3.5s"
       ]
      },
      {
       "output_type": "stream",
       "stream": "stdout",
       "text": [
        "\n",
        "   143  |  \u001b[94m  0.023036\u001b[0m  |  \u001b[32m  0.021461\u001b[0m  |     1.073387  |             |  3.5s"
       ]
      },
      {
       "output_type": "stream",
       "stream": "stdout",
       "text": [
        "\n",
        "   144  |  \u001b[94m  0.022985\u001b[0m  |  \u001b[32m  0.021384\u001b[0m  |     1.074859  |             |  3.5s"
       ]
      },
      {
       "output_type": "stream",
       "stream": "stdout",
       "text": [
        "\n",
        "   145  |  \u001b[94m  0.022925\u001b[0m  |  \u001b[32m  0.021323\u001b[0m  |     1.075103  |             |  3.5s"
       ]
      },
      {
       "output_type": "stream",
       "stream": "stdout",
       "text": [
        "\n",
        "   146  |  \u001b[94m  0.022863\u001b[0m  |  \u001b[32m  0.021246\u001b[0m  |     1.076100  |             |  3.5s"
       ]
      },
      {
       "output_type": "stream",
       "stream": "stdout",
       "text": [
        "\n",
        "   147  |  \u001b[94m  0.022829\u001b[0m  |  \u001b[32m  0.021181\u001b[0m  |     1.077804  |             |  3.5s"
       ]
      },
      {
       "output_type": "stream",
       "stream": "stdout",
       "text": [
        "\n",
        "   148  |  \u001b[94m  0.022706\u001b[0m  |  \u001b[32m  0.021144\u001b[0m  |     1.073854  |             |  3.5s"
       ]
      },
      {
       "output_type": "stream",
       "stream": "stdout",
       "text": [
        "\n",
        "   149  |  \u001b[94m  0.022691\u001b[0m  |  \u001b[32m  0.021048\u001b[0m  |     1.078077  |             |  3.5s"
       ]
      },
      {
       "output_type": "stream",
       "stream": "stdout",
       "text": [
        "\n",
        "   150  |  \u001b[94m  0.022635\u001b[0m  |  \u001b[32m  0.020967\u001b[0m  |     1.079567  |             |  3.5s"
       ]
      },
      {
       "output_type": "stream",
       "stream": "stdout",
       "text": [
        "\n",
        "   151  |  \u001b[94m  0.022564\u001b[0m  |  \u001b[32m  0.020877\u001b[0m  |     1.080777  |             |  3.5s"
       ]
      },
      {
       "output_type": "stream",
       "stream": "stdout",
       "text": [
        "\n",
        "   152  |  \u001b[94m  0.022511\u001b[0m  |  \u001b[32m  0.020806\u001b[0m  |     1.081933  |             |  3.5s"
       ]
      },
      {
       "output_type": "stream",
       "stream": "stdout",
       "text": [
        "\n",
        "   153  |  \u001b[94m  0.022426\u001b[0m  |  \u001b[32m  0.020760\u001b[0m  |     1.080284  |             |  3.5s"
       ]
      },
      {
       "output_type": "stream",
       "stream": "stdout",
       "text": [
        "\n",
        "   154  |  \u001b[94m  0.022360\u001b[0m  |  \u001b[32m  0.020682\u001b[0m  |     1.081138  |             |  3.5s"
       ]
      },
      {
       "output_type": "stream",
       "stream": "stdout",
       "text": [
        "\n",
        "   155  |  \u001b[94m  0.022311\u001b[0m  |  \u001b[32m  0.020575\u001b[0m  |     1.084397  |             |  3.5s"
       ]
      },
      {
       "output_type": "stream",
       "stream": "stdout",
       "text": [
        "\n",
        "   156  |  \u001b[94m  0.022207\u001b[0m  |  \u001b[32m  0.020538\u001b[0m  |     1.081263  |             |  3.5s"
       ]
      },
      {
       "output_type": "stream",
       "stream": "stdout",
       "text": [
        "\n",
        "   157  |  \u001b[94m  0.022173\u001b[0m  |  \u001b[32m  0.020458\u001b[0m  |     1.083851  |             |  3.5s"
       ]
      },
      {
       "output_type": "stream",
       "stream": "stdout",
       "text": [
        "\n",
        "   158  |  \u001b[94m  0.022082\u001b[0m  |  \u001b[32m  0.020403\u001b[0m  |     1.082320  |             |  3.5s"
       ]
      },
      {
       "output_type": "stream",
       "stream": "stdout",
       "text": [
        "\n",
        "   159  |  \u001b[94m  0.021989\u001b[0m  |  \u001b[32m  0.020304\u001b[0m  |     1.083007  |             |  3.5s"
       ]
      },
      {
       "output_type": "stream",
       "stream": "stdout",
       "text": [
        "\n",
        "   160  |    0.022075  |  \u001b[32m  0.020287\u001b[0m  |     1.088128  |             |  3.5s"
       ]
      },
      {
       "output_type": "stream",
       "stream": "stdout",
       "text": [
        "\n",
        "   161  |  \u001b[94m  0.021856\u001b[0m  |  \u001b[32m  0.020165\u001b[0m  |     1.083808  |             |  3.5s"
       ]
      },
      {
       "output_type": "stream",
       "stream": "stdout",
       "text": [
        "\n",
        "   162  |  \u001b[94m  0.021780\u001b[0m  |  \u001b[32m  0.020100\u001b[0m  |     1.083576  |             |  3.5s"
       ]
      },
      {
       "output_type": "stream",
       "stream": "stdout",
       "text": [
        "\n",
        "   163  |    0.021835  |  \u001b[32m  0.020062\u001b[0m  |     1.088374  |             |  3.5s"
       ]
      },
      {
       "output_type": "stream",
       "stream": "stdout",
       "text": [
        "\n",
        "   164  |  \u001b[94m  0.021724\u001b[0m  |  \u001b[32m  0.019946\u001b[0m  |     1.089170  |             |  3.5s"
       ]
      },
      {
       "output_type": "stream",
       "stream": "stdout",
       "text": [
        "\n",
        "   165  |  \u001b[94m  0.021681\u001b[0m  |  \u001b[32m  0.019908\u001b[0m  |     1.089043  |             |  3.4s"
       ]
      },
      {
       "output_type": "stream",
       "stream": "stdout",
       "text": [
        "\n",
        "   166  |  \u001b[94m  0.021624\u001b[0m  |  \u001b[32m  0.019864\u001b[0m  |     1.088582  |             |  3.5s"
       ]
      },
      {
       "output_type": "stream",
       "stream": "stdout",
       "text": [
        "\n",
        "   167  |  \u001b[94m  0.021564\u001b[0m  |  \u001b[32m  0.019809\u001b[0m  |     1.088597  |             |  3.5s"
       ]
      },
      {
       "output_type": "stream",
       "stream": "stdout",
       "text": [
        "\n",
        "   168  |  \u001b[94m  0.021540\u001b[0m  |  \u001b[32m  0.019708\u001b[0m  |     1.092982  |             |  3.5s"
       ]
      },
      {
       "output_type": "stream",
       "stream": "stdout",
       "text": [
        "\n",
        "   169  |  \u001b[94m  0.021362\u001b[0m  |  \u001b[32m  0.019567\u001b[0m  |     1.091756  |             |  3.5s"
       ]
      },
      {
       "output_type": "stream",
       "stream": "stdout",
       "text": [
        "\n",
        "   170  |    0.021411  |    0.019586  |     1.093174  |             |  3.5s"
       ]
      },
      {
       "output_type": "stream",
       "stream": "stdout",
       "text": [
        "\n",
        "   171  |  \u001b[94m  0.021309\u001b[0m  |  \u001b[32m  0.019481\u001b[0m  |     1.093864  |             |  3.5s"
       ]
      },
      {
       "output_type": "stream",
       "stream": "stdout",
       "text": [
        "\n",
        "   172  |  \u001b[94m  0.021194\u001b[0m  |  \u001b[32m  0.019404\u001b[0m  |     1.092246  |             |  3.5s"
       ]
      },
      {
       "output_type": "stream",
       "stream": "stdout",
       "text": [
        "\n",
        "   173  |  \u001b[94m  0.021096\u001b[0m  |  \u001b[32m  0.019348\u001b[0m  |     1.090337  |             |  3.5s"
       ]
      },
      {
       "output_type": "stream",
       "stream": "stdout",
       "text": [
        "\n",
        "   174  |  \u001b[94m  0.021011\u001b[0m  |  \u001b[32m  0.019267\u001b[0m  |     1.090519  |             |  3.5s"
       ]
      },
      {
       "output_type": "stream",
       "stream": "stdout",
       "text": [
        "\n",
        "   175  |  \u001b[94m  0.021004\u001b[0m  |  \u001b[32m  0.019196\u001b[0m  |     1.094185  |             |  3.5s"
       ]
      },
      {
       "output_type": "stream",
       "stream": "stdout",
       "text": [
        "\n",
        "   176  |  \u001b[94m  0.020986\u001b[0m  |  \u001b[32m  0.019184\u001b[0m  |     1.093956  |             |  3.5s"
       ]
      },
      {
       "output_type": "stream",
       "stream": "stdout",
       "text": [
        "\n",
        "   177  |  \u001b[94m  0.020876\u001b[0m  |  \u001b[32m  0.019049\u001b[0m  |     1.095937  |             |  3.5s"
       ]
      },
      {
       "output_type": "stream",
       "stream": "stdout",
       "text": [
        "\n",
        "   178  |  \u001b[94m  0.020863\u001b[0m  |  \u001b[32m  0.018992\u001b[0m  |     1.098521  |             |  3.5s"
       ]
      },
      {
       "output_type": "stream",
       "stream": "stdout",
       "text": [
        "\n",
        "   179  |  \u001b[94m  0.020799\u001b[0m  |  \u001b[32m  0.018955\u001b[0m  |     1.097274  |             |  3.5s"
       ]
      },
      {
       "output_type": "stream",
       "stream": "stdout",
       "text": [
        "\n",
        "   180  |  \u001b[94m  0.020692\u001b[0m  |  \u001b[32m  0.018854\u001b[0m  |     1.097537  |             |  3.5s"
       ]
      },
      {
       "output_type": "stream",
       "stream": "stdout",
       "text": [
        "\n",
        "   181  |    0.020696  |  \u001b[32m  0.018794\u001b[0m  |     1.101206  |             |  3.5s"
       ]
      },
      {
       "output_type": "stream",
       "stream": "stdout",
       "text": [
        "\n",
        "   182  |  \u001b[94m  0.020653\u001b[0m  |  \u001b[32m  0.018750\u001b[0m  |     1.101462  |             |  3.5s"
       ]
      },
      {
       "output_type": "stream",
       "stream": "stdout",
       "text": [
        "\n",
        "   183  |  \u001b[94m  0.020582\u001b[0m  |  \u001b[32m  0.018688\u001b[0m  |     1.101316  |             |  3.5s"
       ]
      },
      {
       "output_type": "stream",
       "stream": "stdout",
       "text": [
        "\n",
        "   184  |  \u001b[94m  0.020469\u001b[0m  |  \u001b[32m  0.018647\u001b[0m  |     1.097709  |             |  3.5s"
       ]
      },
      {
       "output_type": "stream",
       "stream": "stdout",
       "text": [
        "\n",
        "   185  |  \u001b[94m  0.020404\u001b[0m  |  \u001b[32m  0.018521\u001b[0m  |     1.101654  |             |  3.5s"
       ]
      },
      {
       "output_type": "stream",
       "stream": "stdout",
       "text": [
        "\n",
        "   186  |  \u001b[94m  0.020359\u001b[0m  |  \u001b[32m  0.018477\u001b[0m  |     1.101857  |             |  3.5s"
       ]
      },
      {
       "output_type": "stream",
       "stream": "stdout",
       "text": [
        "\n",
        "   187  |  \u001b[94m  0.020357\u001b[0m  |  \u001b[32m  0.018391\u001b[0m  |     1.106956  |             |  3.5s"
       ]
      },
      {
       "output_type": "stream",
       "stream": "stdout",
       "text": [
        "\n",
        "   188  |  \u001b[94m  0.020238\u001b[0m  |  \u001b[32m  0.018300\u001b[0m  |     1.105910  |             |  3.5s"
       ]
      },
      {
       "output_type": "stream",
       "stream": "stdout",
       "text": [
        "\n",
        "   189  |  \u001b[94m  0.020181\u001b[0m  |  \u001b[32m  0.018273\u001b[0m  |     1.104389  |             |  3.5s"
       ]
      },
      {
       "output_type": "stream",
       "stream": "stdout",
       "text": [
        "\n",
        "   190  |  \u001b[94m  0.020144\u001b[0m  |  \u001b[32m  0.018194\u001b[0m  |     1.107151  |             |  3.5s"
       ]
      },
      {
       "output_type": "stream",
       "stream": "stdout",
       "text": [
        "\n",
        "   191  |  \u001b[94m  0.020071\u001b[0m  |  \u001b[32m  0.018121\u001b[0m  |     1.107571  |             |  3.5s"
       ]
      },
      {
       "output_type": "stream",
       "stream": "stdout",
       "text": [
        "\n",
        "   192  |  \u001b[94m  0.019998\u001b[0m  |  \u001b[32m  0.018081\u001b[0m  |     1.105975  |             |  3.5s"
       ]
      },
      {
       "output_type": "stream",
       "stream": "stdout",
       "text": [
        "\n",
        "   193  |  \u001b[94m  0.019972\u001b[0m  |  \u001b[32m  0.018054\u001b[0m  |     1.106244  |             |  3.5s"
       ]
      },
      {
       "output_type": "stream",
       "stream": "stdout",
       "text": [
        "\n",
        "   194  |  \u001b[94m  0.019915\u001b[0m  |  \u001b[32m  0.017970\u001b[0m  |     1.108281  |             |  3.5s"
       ]
      },
      {
       "output_type": "stream",
       "stream": "stdout",
       "text": [
        "\n",
        "   195  |  \u001b[94m  0.019850\u001b[0m  |  \u001b[32m  0.017938\u001b[0m  |     1.106586  |             |  3.5s"
       ]
      },
      {
       "output_type": "stream",
       "stream": "stdout",
       "text": [
        "\n",
        "   196  |  \u001b[94m  0.019830\u001b[0m  |  \u001b[32m  0.017878\u001b[0m  |     1.109149  |             |  3.5s"
       ]
      },
      {
       "output_type": "stream",
       "stream": "stdout",
       "text": [
        "\n",
        "   197  |  \u001b[94m  0.019669\u001b[0m  |  \u001b[32m  0.017790\u001b[0m  |     1.105607  |             |  3.5s"
       ]
      },
      {
       "output_type": "stream",
       "stream": "stdout",
       "text": [
        "\n",
        "   198  |  \u001b[94m  0.019666\u001b[0m  |  \u001b[32m  0.017750\u001b[0m  |     1.107951  |             |  3.5s"
       ]
      },
      {
       "output_type": "stream",
       "stream": "stdout",
       "text": [
        "\n",
        "   199  |  \u001b[94m  0.019626\u001b[0m  |  \u001b[32m  0.017675\u001b[0m  |     1.110347  |             |  3.5s"
       ]
      },
      {
       "output_type": "stream",
       "stream": "stdout",
       "text": [
        "\n",
        "   200  |  \u001b[94m  0.019539\u001b[0m  |  \u001b[32m  0.017570\u001b[0m  |     1.112086  |             |  3.5s"
       ]
      },
      {
       "output_type": "stream",
       "stream": "stdout",
       "text": [
        "\n",
        "   201  |  \u001b[94m  0.019494\u001b[0m  |  \u001b[32m  0.017528\u001b[0m  |     1.112192  |             |  3.5s"
       ]
      },
      {
       "output_type": "stream",
       "stream": "stdout",
       "text": [
        "\n",
        "   202  |  \u001b[94m  0.019463\u001b[0m  |  \u001b[32m  0.017498\u001b[0m  |     1.112279  |             |  3.5s"
       ]
      },
      {
       "output_type": "stream",
       "stream": "stdout",
       "text": [
        "\n",
        "   203  |  \u001b[94m  0.019391\u001b[0m  |  \u001b[32m  0.017442\u001b[0m  |     1.111768  |             |  3.5s"
       ]
      },
      {
       "output_type": "stream",
       "stream": "stdout",
       "text": [
        "\n",
        "   204  |  \u001b[94m  0.019276\u001b[0m  |  \u001b[32m  0.017373\u001b[0m  |     1.109545  |             |  3.5s"
       ]
      },
      {
       "output_type": "stream",
       "stream": "stdout",
       "text": [
        "\n",
        "   205  |    0.019300  |  \u001b[32m  0.017321\u001b[0m  |     1.114244  |             |  3.5s"
       ]
      },
      {
       "output_type": "stream",
       "stream": "stdout",
       "text": [
        "\n",
        "   206  |  \u001b[94m  0.019227\u001b[0m  |  \u001b[32m  0.017254\u001b[0m  |     1.114375  |             |  3.5s"
       ]
      },
      {
       "output_type": "stream",
       "stream": "stdout",
       "text": [
        "\n",
        "   207  |    0.019228  |  \u001b[32m  0.017223\u001b[0m  |     1.116367  |             |  3.5s"
       ]
      },
      {
       "output_type": "stream",
       "stream": "stdout",
       "text": [
        "\n",
        "   208  |  \u001b[94m  0.019136\u001b[0m  |  \u001b[32m  0.017165\u001b[0m  |     1.114860  |             |  3.5s"
       ]
      },
      {
       "output_type": "stream",
       "stream": "stdout",
       "text": [
        "\n",
        "   209  |  \u001b[94m  0.019074\u001b[0m  |  \u001b[32m  0.017056\u001b[0m  |     1.118354  |             |  3.5s"
       ]
      },
      {
       "output_type": "stream",
       "stream": "stdout",
       "text": [
        "\n",
        "   210  |  \u001b[94m  0.018973\u001b[0m  |  \u001b[32m  0.016999\u001b[0m  |     1.116101  |             |  3.5s"
       ]
      },
      {
       "output_type": "stream",
       "stream": "stdout",
       "text": [
        "\n",
        "   211  |    0.019041  |  \u001b[32m  0.016973\u001b[0m  |     1.121827  |             |  3.5s"
       ]
      },
      {
       "output_type": "stream",
       "stream": "stdout",
       "text": [
        "\n",
        "   212  |  \u001b[94m  0.018896\u001b[0m  |  \u001b[32m  0.016936\u001b[0m  |     1.115754  |             |  3.5s"
       ]
      },
      {
       "output_type": "stream",
       "stream": "stdout",
       "text": [
        "\n",
        "   213  |  \u001b[94m  0.018796\u001b[0m  |  \u001b[32m  0.016820\u001b[0m  |     1.117495  |             |  3.5s"
       ]
      },
      {
       "output_type": "stream",
       "stream": "stdout",
       "text": [
        "\n",
        "   214  |  \u001b[94m  0.018762\u001b[0m  |  \u001b[32m  0.016813\u001b[0m  |     1.115919  |             |  3.5s"
       ]
      },
      {
       "output_type": "stream",
       "stream": "stdout",
       "text": [
        "\n",
        "   215  |  \u001b[94m  0.018739\u001b[0m  |  \u001b[32m  0.016711\u001b[0m  |     1.121350  |             |  3.5s"
       ]
      },
      {
       "output_type": "stream",
       "stream": "stdout",
       "text": [
        "\n",
        "   216  |  \u001b[94m  0.018687\u001b[0m  |  \u001b[32m  0.016690\u001b[0m  |     1.119629  |             |  3.5s"
       ]
      },
      {
       "output_type": "stream",
       "stream": "stdout",
       "text": [
        "\n",
        "   217  |  \u001b[94m  0.018604\u001b[0m  |  \u001b[32m  0.016605\u001b[0m  |     1.120361  |             |  3.5s"
       ]
      },
      {
       "output_type": "stream",
       "stream": "stdout",
       "text": [
        "\n",
        "   218  |  \u001b[94m  0.018574\u001b[0m  |    0.016613  |     1.118044  |             |  3.5s"
       ]
      },
      {
       "output_type": "stream",
       "stream": "stdout",
       "text": [
        "\n",
        "   219  |  \u001b[94m  0.018498\u001b[0m  |  \u001b[32m  0.016553\u001b[0m  |     1.117483  |             |  3.5s"
       ]
      },
      {
       "output_type": "stream",
       "stream": "stdout",
       "text": [
        "\n",
        "   220  |  \u001b[94m  0.018489\u001b[0m  |  \u001b[32m  0.016465\u001b[0m  |     1.122980  |             |  3.5s"
       ]
      },
      {
       "output_type": "stream",
       "stream": "stdout",
       "text": [
        "\n",
        "   221  |  \u001b[94m  0.018382\u001b[0m  |    0.016467  |     1.116292  |             |  3.5s"
       ]
      },
      {
       "output_type": "stream",
       "stream": "stdout",
       "text": [
        "\n",
        "   222  |  \u001b[94m  0.018366\u001b[0m  |  \u001b[32m  0.016395\u001b[0m  |     1.120240  |             |  3.5s"
       ]
      },
      {
       "output_type": "stream",
       "stream": "stdout",
       "text": [
        "\n",
        "   223  |  \u001b[94m  0.018324\u001b[0m  |  \u001b[32m  0.016310\u001b[0m  |     1.123469  |             |  3.5s"
       ]
      },
      {
       "output_type": "stream",
       "stream": "stdout",
       "text": [
        "\n",
        "   224  |  \u001b[94m  0.018300\u001b[0m  |  \u001b[32m  0.016298\u001b[0m  |     1.122834  |             |  3.5s"
       ]
      },
      {
       "output_type": "stream",
       "stream": "stdout",
       "text": [
        "\n",
        "   225  |  \u001b[94m  0.018244\u001b[0m  |  \u001b[32m  0.016218\u001b[0m  |     1.124872  |             |  3.5s"
       ]
      },
      {
       "output_type": "stream",
       "stream": "stdout",
       "text": [
        "\n",
        "   226  |  \u001b[94m  0.018086\u001b[0m  |  \u001b[32m  0.016145\u001b[0m  |     1.120259  |             |  3.5s"
       ]
      },
      {
       "output_type": "stream",
       "stream": "stdout",
       "text": [
        "\n",
        "   227  |    0.018164  |  \u001b[32m  0.016116\u001b[0m  |     1.127120  |             |  3.5s"
       ]
      },
      {
       "output_type": "stream",
       "stream": "stdout",
       "text": [
        "\n",
        "   228  |  \u001b[94m  0.018071\u001b[0m  |  \u001b[32m  0.016106\u001b[0m  |     1.122005  |             |  3.5s"
       ]
      },
      {
       "output_type": "stream",
       "stream": "stdout",
       "text": [
        "\n",
        "   229  |  \u001b[94m  0.018065\u001b[0m  |  \u001b[32m  0.016055\u001b[0m  |     1.125242  |             |  3.5s"
       ]
      },
      {
       "output_type": "stream",
       "stream": "stdout",
       "text": [
        "\n",
        "   230  |  \u001b[94m  0.017993\u001b[0m  |  \u001b[32m  0.015992\u001b[0m  |     1.125108  |             |  3.5s"
       ]
      },
      {
       "output_type": "stream",
       "stream": "stdout",
       "text": [
        "\n",
        "   231  |  \u001b[94m  0.017929\u001b[0m  |  \u001b[32m  0.015930\u001b[0m  |     1.125447  |             |  3.5s"
       ]
      },
      {
       "output_type": "stream",
       "stream": "stdout",
       "text": [
        "\n",
        "   232  |  \u001b[94m  0.017892\u001b[0m  |  \u001b[32m  0.015918\u001b[0m  |     1.123967  |             |  3.5s"
       ]
      },
      {
       "output_type": "stream",
       "stream": "stdout",
       "text": [
        "\n",
        "   233  |  \u001b[94m  0.017845\u001b[0m  |  \u001b[32m  0.015838\u001b[0m  |     1.126727  |             |  3.5s"
       ]
      },
      {
       "output_type": "stream",
       "stream": "stdout",
       "text": [
        "\n",
        "   234  |  \u001b[94m  0.017774\u001b[0m  |  \u001b[32m  0.015811\u001b[0m  |     1.124148  |             |  3.5s"
       ]
      },
      {
       "output_type": "stream",
       "stream": "stdout",
       "text": [
        "\n",
        "   235  |  \u001b[94m  0.017753\u001b[0m  |  \u001b[32m  0.015751\u001b[0m  |     1.127154  |             |  3.5s"
       ]
      },
      {
       "output_type": "stream",
       "stream": "stdout",
       "text": [
        "\n",
        "   236  |    0.017771  |  \u001b[32m  0.015721\u001b[0m  |     1.130370  |             |  3.5s"
       ]
      },
      {
       "output_type": "stream",
       "stream": "stdout",
       "text": [
        "\n",
        "   237  |  \u001b[94m  0.017631\u001b[0m  |  \u001b[32m  0.015640\u001b[0m  |     1.127322  |             |  3.5s"
       ]
      },
      {
       "output_type": "stream",
       "stream": "stdout",
       "text": [
        "\n",
        "   238  |  \u001b[94m  0.017614\u001b[0m  |  \u001b[32m  0.015630\u001b[0m  |     1.126909  |             |  3.5s"
       ]
      },
      {
       "output_type": "stream",
       "stream": "stdout",
       "text": [
        "\n",
        "   239  |  \u001b[94m  0.017551\u001b[0m  |  \u001b[32m  0.015599\u001b[0m  |     1.125117  |             |  3.5s"
       ]
      },
      {
       "output_type": "stream",
       "stream": "stdout",
       "text": [
        "\n",
        "   240  |  \u001b[94m  0.017503\u001b[0m  |  \u001b[32m  0.015562\u001b[0m  |     1.124681  |             |  3.5s"
       ]
      },
      {
       "output_type": "stream",
       "stream": "stdout",
       "text": [
        "\n",
        "   241  |  \u001b[94m  0.017437\u001b[0m  |  \u001b[32m  0.015485\u001b[0m  |     1.126089  |             |  3.5s"
       ]
      },
      {
       "output_type": "stream",
       "stream": "stdout",
       "text": [
        "\n",
        "   242  |  \u001b[94m  0.017369\u001b[0m  |  \u001b[32m  0.015466\u001b[0m  |     1.123031  |             |  3.5s"
       ]
      },
      {
       "output_type": "stream",
       "stream": "stdout",
       "text": [
        "\n",
        "   243  |    0.017389  |  \u001b[32m  0.015407\u001b[0m  |     1.128686  |             |  3.5s"
       ]
      },
      {
       "output_type": "stream",
       "stream": "stdout",
       "text": [
        "\n",
        "   244  |  \u001b[94m  0.017291\u001b[0m  |  \u001b[32m  0.015361\u001b[0m  |     1.125699  |             |  3.5s"
       ]
      },
      {
       "output_type": "stream",
       "stream": "stdout",
       "text": [
        "\n",
        "   245  |    0.017319  |  \u001b[32m  0.015340\u001b[0m  |     1.129064  |             |  3.5s"
       ]
      },
      {
       "output_type": "stream",
       "stream": "stdout",
       "text": [
        "\n",
        "   246  |  \u001b[94m  0.017244\u001b[0m  |  \u001b[32m  0.015269\u001b[0m  |     1.129311  |             |  3.5s"
       ]
      },
      {
       "output_type": "stream",
       "stream": "stdout",
       "text": [
        "\n",
        "   247  |  \u001b[94m  0.017240\u001b[0m  |  \u001b[32m  0.015257\u001b[0m  |     1.129946  |             |  3.5s"
       ]
      },
      {
       "output_type": "stream",
       "stream": "stdout",
       "text": [
        "\n",
        "   248  |  \u001b[94m  0.017206\u001b[0m  |  \u001b[32m  0.015221\u001b[0m  |     1.130393  |             |  3.5s"
       ]
      },
      {
       "output_type": "stream",
       "stream": "stdout",
       "text": [
        "\n",
        "   249  |  \u001b[94m  0.017116\u001b[0m  |  \u001b[32m  0.015173\u001b[0m  |     1.128053  |             |  3.5s"
       ]
      },
      {
       "output_type": "stream",
       "stream": "stdout",
       "text": [
        "\n",
        "   250  |  \u001b[94m  0.017009\u001b[0m  |  \u001b[32m  0.015153\u001b[0m  |     1.122464  |             |  3.5s"
       ]
      },
      {
       "output_type": "stream",
       "stream": "stdout",
       "text": [
        "\n",
        "   251  |    0.017089  |  \u001b[32m  0.015116\u001b[0m  |     1.130471  |             |  3.5s"
       ]
      },
      {
       "output_type": "stream",
       "stream": "stdout",
       "text": [
        "\n",
        "   252  |    0.017011  |  \u001b[32m  0.015066\u001b[0m  |     1.129116  |             |  3.5s"
       ]
      },
      {
       "output_type": "stream",
       "stream": "stdout",
       "text": [
        "\n",
        "   253  |  \u001b[94m  0.016997\u001b[0m  |  \u001b[32m  0.015040\u001b[0m  |     1.130134  |             |  3.5s"
       ]
      },
      {
       "output_type": "stream",
       "stream": "stdout",
       "text": [
        "\n",
        "   254  |  \u001b[94m  0.016905\u001b[0m  |  \u001b[32m  0.014990\u001b[0m  |     1.127802  |             |  3.5s"
       ]
      },
      {
       "output_type": "stream",
       "stream": "stdout",
       "text": [
        "\n",
        "   255  |  \u001b[94m  0.016854\u001b[0m  |  \u001b[32m  0.014942\u001b[0m  |     1.127962  |             |  3.5s"
       ]
      },
      {
       "output_type": "stream",
       "stream": "stdout",
       "text": [
        "\n",
        "   256  |  \u001b[94m  0.016776\u001b[0m  |  \u001b[32m  0.014901\u001b[0m  |     1.125869  |             |  3.5s"
       ]
      },
      {
       "output_type": "stream",
       "stream": "stdout",
       "text": [
        "\n",
        "   257  |    0.016799  |  \u001b[32m  0.014852\u001b[0m  |     1.131105  |             |  3.5s"
       ]
      },
      {
       "output_type": "stream",
       "stream": "stdout",
       "text": [
        "\n",
        "   258  |  \u001b[94m  0.016706\u001b[0m  |  \u001b[32m  0.014810\u001b[0m  |     1.128044  |             |  3.5s"
       ]
      },
      {
       "output_type": "stream",
       "stream": "stdout",
       "text": [
        "\n",
        "   259  |  \u001b[94m  0.016634\u001b[0m  |  \u001b[32m  0.014784\u001b[0m  |     1.125129  |             |  3.5s"
       ]
      },
      {
       "output_type": "stream",
       "stream": "stdout",
       "text": [
        "\n",
        "   260  |    0.016679  |  \u001b[32m  0.014725\u001b[0m  |     1.132721  |             |  3.5s"
       ]
      },
      {
       "output_type": "stream",
       "stream": "stdout",
       "text": [
        "\n",
        "   261  |  \u001b[94m  0.016562\u001b[0m  |  \u001b[32m  0.014719\u001b[0m  |     1.125192  |             |  3.5s"
       ]
      },
      {
       "output_type": "stream",
       "stream": "stdout",
       "text": [
        "\n",
        "   262  |    0.016564  |  \u001b[32m  0.014681\u001b[0m  |     1.128228  |             |  3.5s"
       ]
      },
      {
       "output_type": "stream",
       "stream": "stdout",
       "text": [
        "\n",
        "   263  |    0.016585  |  \u001b[32m  0.014664\u001b[0m  |     1.131033  |             |  3.5s"
       ]
      },
      {
       "output_type": "stream",
       "stream": "stdout",
       "text": [
        "\n",
        "   264  |  \u001b[94m  0.016512\u001b[0m  |  \u001b[32m  0.014629\u001b[0m  |     1.128749  |             |  3.5s"
       ]
      },
      {
       "output_type": "stream",
       "stream": "stdout",
       "text": [
        "\n",
        "   265  |  \u001b[94m  0.016493\u001b[0m  |  \u001b[32m  0.014571\u001b[0m  |     1.131936  |             |  3.5s"
       ]
      },
      {
       "output_type": "stream",
       "stream": "stdout",
       "text": [
        "\n",
        "   266  |  \u001b[94m  0.016435\u001b[0m  |  \u001b[32m  0.014543\u001b[0m  |     1.130054  |             |  3.5s"
       ]
      },
      {
       "output_type": "stream",
       "stream": "stdout",
       "text": [
        "\n",
        "   267  |  \u001b[94m  0.016337\u001b[0m  |  \u001b[32m  0.014496\u001b[0m  |     1.126987  |             |  3.5s"
       ]
      },
      {
       "output_type": "stream",
       "stream": "stdout",
       "text": [
        "\n",
        "   268  |    0.016359  |    0.014532  |     1.125740  |             |  3.5s"
       ]
      },
      {
       "output_type": "stream",
       "stream": "stdout",
       "text": [
        "\n",
        "   269  |    0.016339  |  \u001b[32m  0.014486\u001b[0m  |     1.127914  |             |  3.5s"
       ]
      },
      {
       "output_type": "stream",
       "stream": "stdout",
       "text": [
        "\n",
        "   270  |    0.016340  |  \u001b[32m  0.014443\u001b[0m  |     1.131317  |             |  3.5s"
       ]
      },
      {
       "output_type": "stream",
       "stream": "stdout",
       "text": [
        "\n",
        "   271  |  \u001b[94m  0.016270\u001b[0m  |  \u001b[32m  0.014390\u001b[0m  |     1.130668  |             |  3.5s"
       ]
      },
      {
       "output_type": "stream",
       "stream": "stdout",
       "text": [
        "\n",
        "   272  |    0.016331  |  \u001b[32m  0.014378\u001b[0m  |     1.135821  |             |  3.5s"
       ]
      },
      {
       "output_type": "stream",
       "stream": "stdout",
       "text": [
        "\n",
        "   273  |  \u001b[94m  0.016178\u001b[0m  |  \u001b[32m  0.014353\u001b[0m  |     1.127164  |             |  3.5s"
       ]
      },
      {
       "output_type": "stream",
       "stream": "stdout",
       "text": [
        "\n",
        "   274  |    0.016194  |  \u001b[32m  0.014325\u001b[0m  |     1.130506  |             |  3.5s"
       ]
      },
      {
       "output_type": "stream",
       "stream": "stdout",
       "text": [
        "\n",
        "   275  |  \u001b[94m  0.016106\u001b[0m  |  \u001b[32m  0.014284\u001b[0m  |     1.127566  |             |  3.5s"
       ]
      },
      {
       "output_type": "stream",
       "stream": "stdout",
       "text": [
        "\n",
        "   276  |  \u001b[94m  0.016082\u001b[0m  |  \u001b[32m  0.014251\u001b[0m  |     1.128518  |             |  3.5s"
       ]
      },
      {
       "output_type": "stream",
       "stream": "stdout",
       "text": [
        "\n",
        "   277  |  \u001b[94m  0.016008\u001b[0m  |  \u001b[32m  0.014209\u001b[0m  |     1.126643  |             |  3.5s"
       ]
      },
      {
       "output_type": "stream",
       "stream": "stdout",
       "text": [
        "\n",
        "   278  |    0.016077  |  \u001b[32m  0.014197\u001b[0m  |     1.132399  |             |  3.5s"
       ]
      },
      {
       "output_type": "stream",
       "stream": "stdout",
       "text": [
        "\n",
        "   279  |  \u001b[94m  0.015896\u001b[0m  |  \u001b[32m  0.014132\u001b[0m  |     1.124804  |             |  3.5s"
       ]
      },
      {
       "output_type": "stream",
       "stream": "stdout",
       "text": [
        "\n",
        "   280  |    0.015908  |    0.014156  |     1.123754  |             |  3.5s"
       ]
      },
      {
       "output_type": "stream",
       "stream": "stdout",
       "text": [
        "\n",
        "   281  |    0.015960  |  \u001b[32m  0.014112\u001b[0m  |     1.130952  |             |  3.5s"
       ]
      },
      {
       "output_type": "stream",
       "stream": "stdout",
       "text": [
        "\n",
        "   282  |    0.015917  |  \u001b[32m  0.014105\u001b[0m  |     1.128497  |             |  3.5s"
       ]
      },
      {
       "output_type": "stream",
       "stream": "stdout",
       "text": [
        "\n",
        "   283  |  \u001b[94m  0.015881\u001b[0m  |  \u001b[32m  0.014092\u001b[0m  |     1.126973  |             |  3.5s"
       ]
      },
      {
       "output_type": "stream",
       "stream": "stdout",
       "text": [
        "\n",
        "   284  |    0.015904  |  \u001b[32m  0.014025\u001b[0m  |     1.133952  |             |  3.5s"
       ]
      },
      {
       "output_type": "stream",
       "stream": "stdout",
       "text": [
        "\n",
        "   285  |  \u001b[94m  0.015797\u001b[0m  |    0.014041  |     1.125056  |             |  3.5s"
       ]
      },
      {
       "output_type": "stream",
       "stream": "stdout",
       "text": [
        "\n",
        "   286  |  \u001b[94m  0.015721\u001b[0m  |  \u001b[32m  0.013953\u001b[0m  |     1.126704  |             |  3.5s"
       ]
      },
      {
       "output_type": "stream",
       "stream": "stdout",
       "text": [
        "\n",
        "   287  |    0.015794  |  \u001b[32m  0.013932\u001b[0m  |     1.133682  |             |  3.5s"
       ]
      },
      {
       "output_type": "stream",
       "stream": "stdout",
       "text": [
        "\n",
        "   288  |  \u001b[94m  0.015719\u001b[0m  |    0.013942  |     1.127446  |             |  3.5s"
       ]
      },
      {
       "output_type": "stream",
       "stream": "stdout",
       "text": [
        "\n",
        "   289  |  \u001b[94m  0.015604\u001b[0m  |  \u001b[32m  0.013891\u001b[0m  |     1.123308  |             |  3.5s"
       ]
      },
      {
       "output_type": "stream",
       "stream": "stdout",
       "text": [
        "\n",
        "   290  |    0.015631  |  \u001b[32m  0.013852\u001b[0m  |     1.128376  |             |  3.5s"
       ]
      },
      {
       "output_type": "stream",
       "stream": "stdout",
       "text": [
        "\n",
        "   291  |    0.015621  |    0.013853  |     1.127692  |             |  3.5s"
       ]
      },
      {
       "output_type": "stream",
       "stream": "stdout",
       "text": [
        "\n",
        "   292  |    0.015619  |    0.013853  |     1.127481  |             |  3.5s"
       ]
      },
      {
       "output_type": "stream",
       "stream": "stdout",
       "text": [
        "\n",
        "   293  |    0.015607  |  \u001b[32m  0.013785\u001b[0m  |     1.132168  |             |  3.5s"
       ]
      },
      {
       "output_type": "stream",
       "stream": "stdout",
       "text": [
        "\n",
        "   294  |  \u001b[94m  0.015459\u001b[0m  |  \u001b[32m  0.013769\u001b[0m  |     1.122757  |             |  3.5s"
       ]
      },
      {
       "output_type": "stream",
       "stream": "stdout",
       "text": [
        "\n",
        "   295  |    0.015519  |    0.013778  |     1.126419  |             |  3.5s"
       ]
      },
      {
       "output_type": "stream",
       "stream": "stdout",
       "text": [
        "\n",
        "   296  |    0.015484  |  \u001b[32m  0.013755\u001b[0m  |     1.125736  |             |  3.5s"
       ]
      },
      {
       "output_type": "stream",
       "stream": "stdout",
       "text": [
        "\n",
        "   297  |  \u001b[94m  0.015409\u001b[0m  |  \u001b[32m  0.013667\u001b[0m  |     1.127460  |             |  3.5s"
       ]
      },
      {
       "output_type": "stream",
       "stream": "stdout",
       "text": [
        "\n",
        "   298  |    0.015433  |  \u001b[32m  0.013627\u001b[0m  |     1.132573  |             |  3.5s"
       ]
      },
      {
       "output_type": "stream",
       "stream": "stdout",
       "text": [
        "\n",
        "   299  |  \u001b[94m  0.015393\u001b[0m  |    0.013650  |     1.127643  |             |  3.5s"
       ]
      },
      {
       "output_type": "stream",
       "stream": "stdout",
       "text": [
        "\n",
        "   300  |    0.015404  |    0.013662  |     1.127463  |             |  3.5s"
       ]
      },
      {
       "output_type": "stream",
       "stream": "stdout",
       "text": [
        "\n",
        "   301  |  \u001b[94m  0.015356\u001b[0m  |  \u001b[32m  0.013597\u001b[0m  |     1.129360  |             |  3.5s"
       ]
      },
      {
       "output_type": "stream",
       "stream": "stdout",
       "text": [
        "\n",
        "   302  |  \u001b[94m  0.015291\u001b[0m  |  \u001b[32m  0.013552\u001b[0m  |     1.128312  |             |  3.5s"
       ]
      },
      {
       "output_type": "stream",
       "stream": "stdout",
       "text": [
        "\n",
        "   303  |  \u001b[94m  0.015198\u001b[0m  |    0.013570  |     1.119940  |             |  3.5s"
       ]
      },
      {
       "output_type": "stream",
       "stream": "stdout",
       "text": [
        "\n",
        "   304  |    0.015244  |    0.013582  |     1.122372  |             |  3.5s"
       ]
      },
      {
       "output_type": "stream",
       "stream": "stdout",
       "text": [
        "\n",
        "   305  |    0.015261  |  \u001b[32m  0.013522\u001b[0m  |     1.128567  |             |  3.5s"
       ]
      },
      {
       "output_type": "stream",
       "stream": "stdout",
       "text": [
        "\n",
        "   306  |    0.015251  |  \u001b[32m  0.013502\u001b[0m  |     1.129588  |             |  3.5s"
       ]
      },
      {
       "output_type": "stream",
       "stream": "stdout",
       "text": [
        "\n",
        "   307  |  \u001b[94m  0.015123\u001b[0m  |    0.013503  |     1.119985  |             |  3.5s"
       ]
      },
      {
       "output_type": "stream",
       "stream": "stdout",
       "text": [
        "\n",
        "   308  |    0.015192  |  \u001b[32m  0.013467\u001b[0m  |     1.128091  |             |  3.5s"
       ]
      },
      {
       "output_type": "stream",
       "stream": "stdout",
       "text": [
        "\n",
        "   309  |    0.015206  |  \u001b[32m  0.013466\u001b[0m  |     1.129206  |             |  3.5s"
       ]
      },
      {
       "output_type": "stream",
       "stream": "stdout",
       "text": [
        "\n",
        "   310  |  \u001b[94m  0.015092\u001b[0m  |  \u001b[32m  0.013389\u001b[0m  |     1.127134  |             |  3.5s"
       ]
      },
      {
       "output_type": "stream",
       "stream": "stdout",
       "text": [
        "\n",
        "   311  |  \u001b[94m  0.015080\u001b[0m  |    0.013401  |     1.125260  |             |  3.5s"
       ]
      },
      {
       "output_type": "stream",
       "stream": "stdout",
       "text": [
        "\n",
        "   312  |  \u001b[94m  0.015077\u001b[0m  |    0.013403  |     1.124898  |             |  3.5s"
       ]
      },
      {
       "output_type": "stream",
       "stream": "stdout",
       "text": [
        "\n",
        "   313  |  \u001b[94m  0.014972\u001b[0m  |  \u001b[32m  0.013353\u001b[0m  |     1.121313  |             |  3.5s"
       ]
      },
      {
       "output_type": "stream",
       "stream": "stdout",
       "text": [
        "\n",
        "   314  |    0.014999  |  \u001b[32m  0.013347\u001b[0m  |     1.123749  |             |  3.5s"
       ]
      },
      {
       "output_type": "stream",
       "stream": "stdout",
       "text": [
        "\n",
        "   315  |  \u001b[94m  0.014945\u001b[0m  |  \u001b[32m  0.013338\u001b[0m  |     1.120523  |             |  3.5s"
       ]
      },
      {
       "output_type": "stream",
       "stream": "stdout",
       "text": [
        "\n",
        "   316  |  \u001b[94m  0.014892\u001b[0m  |  \u001b[32m  0.013293\u001b[0m  |     1.120300  |             |  3.5s"
       ]
      },
      {
       "output_type": "stream",
       "stream": "stdout",
       "text": [
        "\n",
        "   317  |  \u001b[94m  0.014874\u001b[0m  |  \u001b[32m  0.013281\u001b[0m  |     1.119998  |             |  3.5s"
       ]
      },
      {
       "output_type": "stream",
       "stream": "stdout",
       "text": [
        "\n",
        "   318  |    0.014883  |    0.013293  |     1.119679  |             |  3.5s"
       ]
      },
      {
       "output_type": "stream",
       "stream": "stdout",
       "text": [
        "\n",
        "   319  |    0.014907  |  \u001b[32m  0.013253\u001b[0m  |     1.124848  |             |  3.5s"
       ]
      },
      {
       "output_type": "stream",
       "stream": "stdout",
       "text": [
        "\n",
        "   320  |  \u001b[94m  0.014874\u001b[0m  |  \u001b[32m  0.013239\u001b[0m  |     1.123489  |             |  3.5s"
       ]
      },
      {
       "output_type": "stream",
       "stream": "stdout",
       "text": [
        "\n",
        "   321  |  \u001b[94m  0.014836\u001b[0m  |  \u001b[32m  0.013193\u001b[0m  |     1.124539  |             |  3.5s"
       ]
      },
      {
       "output_type": "stream",
       "stream": "stdout",
       "text": [
        "\n",
        "   322  |  \u001b[94m  0.014748\u001b[0m  |  \u001b[32m  0.013153\u001b[0m  |     1.121295  |             |  3.5s"
       ]
      },
      {
       "output_type": "stream",
       "stream": "stdout",
       "text": [
        "\n",
        "   323  |  \u001b[94m  0.014702\u001b[0m  |    0.013170  |     1.116367  |             |  3.5s"
       ]
      },
      {
       "output_type": "stream",
       "stream": "stdout",
       "text": [
        "\n",
        "   324  |    0.014751  |    0.013163  |     1.120689  |             |  3.5s"
       ]
      },
      {
       "output_type": "stream",
       "stream": "stdout",
       "text": [
        "\n",
        "   325  |  \u001b[94m  0.014681\u001b[0m  |    0.013156  |     1.115916  |             |  3.5s"
       ]
      },
      {
       "output_type": "stream",
       "stream": "stdout",
       "text": [
        "\n",
        "   326  |  \u001b[94m  0.014630\u001b[0m  |  \u001b[32m  0.013094\u001b[0m  |     1.117338  |             |  3.5s"
       ]
      },
      {
       "output_type": "stream",
       "stream": "stdout",
       "text": [
        "\n",
        "   327  |    0.014681  |  \u001b[32m  0.013070\u001b[0m  |     1.123251  |             |  3.5s"
       ]
      },
      {
       "output_type": "stream",
       "stream": "stdout",
       "text": [
        "\n",
        "   328  |  \u001b[94m  0.014608\u001b[0m  |    0.013074  |     1.117389  |             |  3.5s"
       ]
      },
      {
       "output_type": "stream",
       "stream": "stdout",
       "text": [
        "\n",
        "   329  |  \u001b[94m  0.014601\u001b[0m  |  \u001b[32m  0.013052\u001b[0m  |     1.118662  |             |  3.5s"
       ]
      },
      {
       "output_type": "stream",
       "stream": "stdout",
       "text": [
        "\n",
        "   330  |    0.014626  |    0.013054  |     1.120438  |             |  3.5s"
       ]
      },
      {
       "output_type": "stream",
       "stream": "stdout",
       "text": [
        "\n",
        "   331  |  \u001b[94m  0.014506\u001b[0m  |  \u001b[32m  0.013021\u001b[0m  |     1.114048  |             |  3.5s"
       ]
      },
      {
       "output_type": "stream",
       "stream": "stdout",
       "text": [
        "\n",
        "   332  |    0.014568  |  \u001b[32m  0.012989\u001b[0m  |     1.121601  |             |  3.5s"
       ]
      },
      {
       "output_type": "stream",
       "stream": "stdout",
       "text": [
        "\n",
        "   333  |    0.014551  |    0.013007  |     1.118760  |             |  3.5s"
       ]
      },
      {
       "output_type": "stream",
       "stream": "stdout",
       "text": [
        "\n",
        "   334  |  \u001b[94m  0.014474\u001b[0m  |  \u001b[32m  0.012979\u001b[0m  |     1.115142  |             |  3.5s"
       ]
      },
      {
       "output_type": "stream",
       "stream": "stdout",
       "text": [
        "\n",
        "   335  |  \u001b[94m  0.014442\u001b[0m  |  \u001b[32m  0.012973\u001b[0m  |     1.113227  |             |  3.5s"
       ]
      },
      {
       "output_type": "stream",
       "stream": "stdout",
       "text": [
        "\n",
        "   336  |  \u001b[94m  0.014429\u001b[0m  |  \u001b[32m  0.012905\u001b[0m  |     1.118124  |             |  3.5s"
       ]
      },
      {
       "output_type": "stream",
       "stream": "stdout",
       "text": [
        "\n",
        "   337  |    0.014464  |  \u001b[32m  0.012895\u001b[0m  |     1.121648  |             |  3.5s"
       ]
      },
      {
       "output_type": "stream",
       "stream": "stdout",
       "text": [
        "\n",
        "   338  |  \u001b[94m  0.014371\u001b[0m  |    0.012911  |     1.113091  |             |  3.5s"
       ]
      },
      {
       "output_type": "stream",
       "stream": "stdout",
       "text": [
        "\n",
        "   339  |    0.014389  |  \u001b[32m  0.012894\u001b[0m  |     1.115940  |             |  3.5s"
       ]
      },
      {
       "output_type": "stream",
       "stream": "stdout",
       "text": [
        "\n",
        "   340  |    0.014379  |  \u001b[32m  0.012823\u001b[0m  |     1.121331  |             |  3.5s"
       ]
      },
      {
       "output_type": "stream",
       "stream": "stdout",
       "text": [
        "\n",
        "   341  |  \u001b[94m  0.014280\u001b[0m  |    0.012833  |     1.112771  |             |  3.5s"
       ]
      },
      {
       "output_type": "stream",
       "stream": "stdout",
       "text": [
        "\n",
        "   342  |  \u001b[94m  0.014256\u001b[0m  |  \u001b[32m  0.012814\u001b[0m  |     1.112554  |             |  3.5s"
       ]
      },
      {
       "output_type": "stream",
       "stream": "stdout",
       "text": [
        "\n",
        "   343  |    0.014278  |  \u001b[32m  0.012806\u001b[0m  |     1.114966  |             |  3.5s"
       ]
      },
      {
       "output_type": "stream",
       "stream": "stdout",
       "text": [
        "\n",
        "   344  |  \u001b[94m  0.014229\u001b[0m  |    0.012809  |     1.110872  |             |  3.5s"
       ]
      },
      {
       "output_type": "stream",
       "stream": "stdout",
       "text": [
        "\n",
        "   345  |    0.014290  |  \u001b[32m  0.012788\u001b[0m  |     1.117403  |             |  3.5s"
       ]
      },
      {
       "output_type": "stream",
       "stream": "stdout",
       "text": [
        "\n",
        "   346  |    0.014235  |  \u001b[32m  0.012767\u001b[0m  |     1.115017  |             |  3.5s"
       ]
      },
      {
       "output_type": "stream",
       "stream": "stdout",
       "text": [
        "\n",
        "   347  |    0.014230  |  \u001b[32m  0.012726\u001b[0m  |     1.118216  |             |  3.5s"
       ]
      },
      {
       "output_type": "stream",
       "stream": "stdout",
       "text": [
        "\n",
        "   348  |  \u001b[94m  0.014228\u001b[0m  |    0.012732  |     1.117465  |             |  3.5s"
       ]
      },
      {
       "output_type": "stream",
       "stream": "stdout",
       "text": [
        "\n",
        "   349  |  \u001b[94m  0.014141\u001b[0m  |  \u001b[32m  0.012702\u001b[0m  |     1.113319  |             |  3.5s"
       ]
      },
      {
       "output_type": "stream",
       "stream": "stdout",
       "text": [
        "\n",
        "   350  |  \u001b[94m  0.014103\u001b[0m  |  \u001b[32m  0.012699\u001b[0m  |     1.110554  |             |  3.5s"
       ]
      },
      {
       "output_type": "stream",
       "stream": "stdout",
       "text": [
        "\n",
        "   351  |    0.014105  |    0.012705  |     1.110206  |             |  3.5s"
       ]
      },
      {
       "output_type": "stream",
       "stream": "stdout",
       "text": [
        "\n",
        "   352  |    0.014108  |  \u001b[32m  0.012648\u001b[0m  |     1.115391  |             |  3.5s"
       ]
      },
      {
       "output_type": "stream",
       "stream": "stdout",
       "text": [
        "\n",
        "   353  |  \u001b[94m  0.014073\u001b[0m  |    0.012677  |     1.110117  |             |  3.5s"
       ]
      },
      {
       "output_type": "stream",
       "stream": "stdout",
       "text": [
        "\n",
        "   354  |    0.014104  |    0.012668  |     1.113366  |             |  3.5s"
       ]
      },
      {
       "output_type": "stream",
       "stream": "stdout",
       "text": [
        "\n",
        "   355  |    0.014126  |  \u001b[32m  0.012642\u001b[0m  |     1.117421  |             |  3.5s"
       ]
      },
      {
       "output_type": "stream",
       "stream": "stdout",
       "text": [
        "\n",
        "   356  |  \u001b[94m  0.013991\u001b[0m  |  \u001b[32m  0.012592\u001b[0m  |     1.111105  |             |  3.5s"
       ]
      },
      {
       "output_type": "stream",
       "stream": "stdout",
       "text": [
        "\n",
        "   357  |    0.014016  |    0.012603  |     1.112109  |             |  3.5s"
       ]
      },
      {
       "output_type": "stream",
       "stream": "stdout",
       "text": [
        "\n",
        "   358  |    0.013993  |    0.012599  |     1.110648  |             |  3.5s"
       ]
      },
      {
       "output_type": "stream",
       "stream": "stdout",
       "text": [
        "\n",
        "   359  |  \u001b[94m  0.013893\u001b[0m  |  \u001b[32m  0.012551\u001b[0m  |     1.106909  |             |  3.5s"
       ]
      },
      {
       "output_type": "stream",
       "stream": "stdout",
       "text": [
        "\n",
        "   360  |    0.013965  |  \u001b[32m  0.012547\u001b[0m  |     1.113025  |             |  3.5s"
       ]
      },
      {
       "output_type": "stream",
       "stream": "stdout",
       "text": [
        "\n",
        "   361  |  \u001b[94m  0.013855\u001b[0m  |  \u001b[32m  0.012524\u001b[0m  |     1.106253  |             |  3.5s"
       ]
      },
      {
       "output_type": "stream",
       "stream": "stdout",
       "text": [
        "\n",
        "   362  |    0.013898  |    0.012567  |     1.105912  |             |  3.5s"
       ]
      },
      {
       "output_type": "stream",
       "stream": "stdout",
       "text": [
        "\n",
        "   363  |  \u001b[94m  0.013844\u001b[0m  |    0.012541  |     1.103878  |             |  3.5s"
       ]
      },
      {
       "output_type": "stream",
       "stream": "stdout",
       "text": [
        "\n",
        "   364  |    0.013903  |    0.012543  |     1.108368  |             |  3.5s"
       ]
      },
      {
       "output_type": "stream",
       "stream": "stdout",
       "text": [
        "\n",
        "   365  |    0.013924  |  \u001b[32m  0.012491\u001b[0m  |     1.114774  |             |  3.5s"
       ]
      },
      {
       "output_type": "stream",
       "stream": "stdout",
       "text": [
        "\n",
        "   366  |  \u001b[94m  0.013808\u001b[0m  |  \u001b[32m  0.012487\u001b[0m  |     1.105799  |             |  3.5s"
       ]
      },
      {
       "output_type": "stream",
       "stream": "stdout",
       "text": [
        "\n",
        "   367  |    0.013865  |  \u001b[32m  0.012479\u001b[0m  |     1.111064  |             |  3.5s"
       ]
      },
      {
       "output_type": "stream",
       "stream": "stdout",
       "text": [
        "\n",
        "   368  |    0.013900  |  \u001b[32m  0.012453\u001b[0m  |     1.116236  |             |  3.5s"
       ]
      },
      {
       "output_type": "stream",
       "stream": "stdout",
       "text": [
        "\n",
        "   369  |    0.013878  |  \u001b[32m  0.012451\u001b[0m  |     1.114594  |             |  3.5s"
       ]
      },
      {
       "output_type": "stream",
       "stream": "stdout",
       "text": [
        "\n",
        "   370  |  \u001b[94m  0.013776\u001b[0m  |  \u001b[32m  0.012441\u001b[0m  |     1.107305  |             |  3.5s"
       ]
      },
      {
       "output_type": "stream",
       "stream": "stdout",
       "text": [
        "\n",
        "   371  |  \u001b[94m  0.013756\u001b[0m  |  \u001b[32m  0.012431\u001b[0m  |     1.106612  |             |  3.5s"
       ]
      },
      {
       "output_type": "stream",
       "stream": "stdout",
       "text": [
        "\n",
        "   372  |    0.013845  |  \u001b[32m  0.012369\u001b[0m  |     1.119353  |             |  3.5s"
       ]
      },
      {
       "output_type": "stream",
       "stream": "stdout",
       "text": [
        "\n",
        "   373  |  \u001b[94m  0.013671\u001b[0m  |    0.012398  |     1.102747  |             |  3.5s"
       ]
      },
      {
       "output_type": "stream",
       "stream": "stdout",
       "text": [
        "\n",
        "   374  |    0.013703  |    0.012396  |     1.105426  |             |  3.5s"
       ]
      },
      {
       "output_type": "stream",
       "stream": "stdout",
       "text": [
        "\n",
        "   375  |    0.013724  |  \u001b[32m  0.012346\u001b[0m  |     1.111600  |             |  3.5s"
       ]
      },
      {
       "output_type": "stream",
       "stream": "stdout",
       "text": [
        "\n",
        "   376  |  \u001b[94m  0.013644\u001b[0m  |  \u001b[32m  0.012319\u001b[0m  |     1.107552  |             |  3.5s"
       ]
      },
      {
       "output_type": "stream",
       "stream": "stdout",
       "text": [
        "\n",
        "   377  |    0.013756  |    0.012334  |     1.115299  |             |  3.5s"
       ]
      },
      {
       "output_type": "stream",
       "stream": "stdout",
       "text": [
        "\n",
        "   378  |  \u001b[94m  0.013628\u001b[0m  |    0.012321  |     1.106084  |             |  3.5s"
       ]
      },
      {
       "output_type": "stream",
       "stream": "stdout",
       "text": [
        "\n",
        "   379  |    0.013703  |  \u001b[32m  0.012289\u001b[0m  |     1.115093  |             |  3.5s"
       ]
      },
      {
       "output_type": "stream",
       "stream": "stdout",
       "text": [
        "\n",
        "   380  |    0.013676  |    0.012327  |     1.109400  |             |  3.5s"
       ]
      },
      {
       "output_type": "stream",
       "stream": "stdout",
       "text": [
        "\n",
        "   381  |  \u001b[94m  0.013510\u001b[0m  |    0.012331  |     1.095616  |             |  3.5s"
       ]
      },
      {
       "output_type": "stream",
       "stream": "stdout",
       "text": [
        "\n",
        "   382  |    0.013603  |  \u001b[32m  0.012259\u001b[0m  |     1.109594  |             |  3.5s"
       ]
      },
      {
       "output_type": "stream",
       "stream": "stdout",
       "text": [
        "\n",
        "   383  |    0.013535  |  \u001b[32m  0.012259\u001b[0m  |     1.104104  |             |  3.5s"
       ]
      },
      {
       "output_type": "stream",
       "stream": "stdout",
       "text": [
        "\n",
        "   384  |  \u001b[94m  0.013508\u001b[0m  |  \u001b[32m  0.012250\u001b[0m  |     1.102640  |             |  3.5s"
       ]
      },
      {
       "output_type": "stream",
       "stream": "stdout",
       "text": [
        "\n",
        "   385  |    0.013546  |  \u001b[32m  0.012235\u001b[0m  |     1.107119  |             |  3.5s"
       ]
      },
      {
       "output_type": "stream",
       "stream": "stdout",
       "text": [
        "\n",
        "   386  |  \u001b[94m  0.013426\u001b[0m  |  \u001b[32m  0.012216\u001b[0m  |     1.099120  |             |  3.5s"
       ]
      },
      {
       "output_type": "stream",
       "stream": "stdout",
       "text": [
        "\n",
        "   387  |    0.013502  |  \u001b[32m  0.012212\u001b[0m  |     1.105635  |             |  3.5s"
       ]
      },
      {
       "output_type": "stream",
       "stream": "stdout",
       "text": [
        "\n",
        "   388  |    0.013542  |  \u001b[32m  0.012191\u001b[0m  |     1.110767  |             |  3.5s"
       ]
      },
      {
       "output_type": "stream",
       "stream": "stdout",
       "text": [
        "\n",
        "   389  |    0.013556  |    0.012195  |     1.111589  |             |  3.5s"
       ]
      },
      {
       "output_type": "stream",
       "stream": "stdout",
       "text": [
        "\n",
        "   390  |    0.013444  |  \u001b[32m  0.012171\u001b[0m  |     1.104565  |             |  3.5s"
       ]
      },
      {
       "output_type": "stream",
       "stream": "stdout",
       "text": [
        "\n",
        "   391  |  \u001b[94m  0.013395\u001b[0m  |    0.012196  |     1.098316  |             |  3.5s"
       ]
      },
      {
       "output_type": "stream",
       "stream": "stdout",
       "text": [
        "\n",
        "   392  |    0.013447  |  \u001b[32m  0.012136\u001b[0m  |     1.108064  |             |  3.5s"
       ]
      },
      {
       "output_type": "stream",
       "stream": "stdout",
       "text": [
        "\n",
        "   393  |    0.013486  |    0.012141  |     1.110764  |             |  3.5s"
       ]
      },
      {
       "output_type": "stream",
       "stream": "stdout",
       "text": [
        "\n",
        "   394  |    0.013433  |    0.012169  |     1.103911  |             |  3.5s"
       ]
      },
      {
       "output_type": "stream",
       "stream": "stdout",
       "text": [
        "\n",
        "   395  |  \u001b[94m  0.013379\u001b[0m  |    0.012168  |     1.099500  |             |  3.5s"
       ]
      },
      {
       "output_type": "stream",
       "stream": "stdout",
       "text": [
        "\n",
        "   396  |  \u001b[94m  0.013246\u001b[0m  |  \u001b[32m  0.012089\u001b[0m  |     1.095735  |             |  3.5s"
       ]
      },
      {
       "output_type": "stream",
       "stream": "stdout",
       "text": [
        "\n",
        "   397  |    0.013280  |    0.012101  |     1.097389  |             |  3.5s"
       ]
      },
      {
       "output_type": "stream",
       "stream": "stdout",
       "text": [
        "\n",
        "   398  |    0.013349  |    0.012090  |     1.104094  |             |  3.5s"
       ]
      },
      {
       "output_type": "stream",
       "stream": "stdout",
       "text": [
        "\n",
        "   399  |    0.013324  |    0.012095  |     1.101630  |             |  3.5s"
       ]
      },
      {
       "output_type": "stream",
       "stream": "stdout",
       "text": [
        "\n",
        "   400  |    0.013279  |  \u001b[32m  0.012061\u001b[0m  |     1.101030  |             |  3.5s"
       ]
      },
      {
       "output_type": "stream",
       "stream": "stdout",
       "text": [
        "\n",
        "   401  |  \u001b[94m  0.013211\u001b[0m  |  \u001b[32m  0.012055\u001b[0m  |     1.095895  |             |  3.5s"
       ]
      },
      {
       "output_type": "stream",
       "stream": "stdout",
       "text": [
        "\n",
        "   402  |    0.013233  |    0.012061  |     1.097205  |             |  3.5s"
       ]
      },
      {
       "output_type": "stream",
       "stream": "stdout",
       "text": [
        "\n",
        "   403  |    0.013301  |  \u001b[32m  0.012019\u001b[0m  |     1.106640  |             |  3.5s"
       ]
      },
      {
       "output_type": "stream",
       "stream": "stdout",
       "text": [
        "\n",
        "   404  |  \u001b[94m  0.013118\u001b[0m  |  \u001b[32m  0.012010\u001b[0m  |     1.092324  |             |  3.5s"
       ]
      },
      {
       "output_type": "stream",
       "stream": "stdout",
       "text": [
        "\n",
        "   405  |    0.013122  |  \u001b[32m  0.011993\u001b[0m  |     1.094108  |             |  3.5s"
       ]
      },
      {
       "output_type": "stream",
       "stream": "stdout",
       "text": [
        "\n",
        "   406  |    0.013168  |    0.012003  |     1.097040  |             |  3.5s"
       ]
      },
      {
       "output_type": "stream",
       "stream": "stdout",
       "text": [
        "\n",
        "   407  |    0.013169  |    0.012019  |     1.095656  |             |  3.5s"
       ]
      },
      {
       "output_type": "stream",
       "stream": "stdout",
       "text": [
        "\n",
        "   408  |    0.013170  |  \u001b[32m  0.011990\u001b[0m  |     1.098357  |             |  3.5s"
       ]
      },
      {
       "output_type": "stream",
       "stream": "stdout",
       "text": [
        "\n",
        "   409  |  \u001b[94m  0.013093\u001b[0m  |  \u001b[32m  0.011984\u001b[0m  |     1.092551  |             |  3.5s"
       ]
      },
      {
       "output_type": "stream",
       "stream": "stdout",
       "text": [
        "\n",
        "   410  |    0.013146  |  \u001b[32m  0.011981\u001b[0m  |     1.097248  |             |  3.5s"
       ]
      },
      {
       "output_type": "stream",
       "stream": "stdout",
       "text": [
        "\n",
        "   411  |    0.013125  |  \u001b[32m  0.011955\u001b[0m  |     1.097794  |             |  3.5s"
       ]
      },
      {
       "output_type": "stream",
       "stream": "stdout",
       "text": [
        "\n",
        "   412  |  \u001b[94m  0.013051\u001b[0m  |  \u001b[32m  0.011930\u001b[0m  |     1.093968  |             |  3.5s"
       ]
      },
      {
       "output_type": "stream",
       "stream": "stdout",
       "text": [
        "\n",
        "   413  |    0.013076  |    0.011977  |     1.091742  |             |  3.5s"
       ]
      },
      {
       "output_type": "stream",
       "stream": "stdout",
       "text": [
        "\n",
        "   414  |  \u001b[94m  0.013024\u001b[0m  |    0.011935  |     1.091200  |             |  3.5s"
       ]
      },
      {
       "output_type": "stream",
       "stream": "stdout",
       "text": [
        "\n",
        "   415  |    0.013051  |  \u001b[32m  0.011902\u001b[0m  |     1.096512  |             |  3.5s"
       ]
      },
      {
       "output_type": "stream",
       "stream": "stdout",
       "text": [
        "\n",
        "   416  |  \u001b[94m  0.012963\u001b[0m  |    0.011916  |     1.087788  |             |  3.5s"
       ]
      },
      {
       "output_type": "stream",
       "stream": "stdout",
       "text": [
        "\n",
        "   417  |    0.013088  |  \u001b[32m  0.011893\u001b[0m  |     1.100456  |             |  3.5s"
       ]
      },
      {
       "output_type": "stream",
       "stream": "stdout",
       "text": [
        "\n",
        "   418  |    0.012989  |  \u001b[32m  0.011883\u001b[0m  |     1.093054  |             |  3.5s"
       ]
      },
      {
       "output_type": "stream",
       "stream": "stdout",
       "text": [
        "\n",
        "   419  |  \u001b[94m  0.012909\u001b[0m  |  \u001b[32m  0.011846\u001b[0m  |     1.089803  |             |  3.5s"
       ]
      },
      {
       "output_type": "stream",
       "stream": "stdout",
       "text": [
        "\n",
        "   420  |    0.012972  |    0.011863  |     1.093521  |             |  3.5s"
       ]
      },
      {
       "output_type": "stream",
       "stream": "stdout",
       "text": [
        "\n",
        "   421  |    0.012983  |    0.011872  |     1.093569  |             |  3.5s"
       ]
      },
      {
       "output_type": "stream",
       "stream": "stdout",
       "text": [
        "\n",
        "   422  |  \u001b[94m  0.012894\u001b[0m  |    0.011848  |     1.088319  |             |  3.5s"
       ]
      },
      {
       "output_type": "stream",
       "stream": "stdout",
       "text": [
        "\n",
        "   423  |    0.012905  |  \u001b[32m  0.011844\u001b[0m  |     1.089528  |             |  3.5s"
       ]
      },
      {
       "output_type": "stream",
       "stream": "stdout",
       "text": [
        "\n",
        "   424  |  \u001b[94m  0.012876\u001b[0m  |  \u001b[32m  0.011841\u001b[0m  |     1.087399  |             |  3.5s"
       ]
      },
      {
       "output_type": "stream",
       "stream": "stdout",
       "text": [
        "\n",
        "   425  |  \u001b[94m  0.012845\u001b[0m  |  \u001b[32m  0.011819\u001b[0m  |     1.086784  |             |  3.5s"
       ]
      },
      {
       "output_type": "stream",
       "stream": "stdout",
       "text": [
        "\n",
        "   426  |    0.012862  |    0.011820  |     1.088135  |             |  3.5s"
       ]
      },
      {
       "output_type": "stream",
       "stream": "stdout",
       "text": [
        "\n",
        "   427  |  \u001b[94m  0.012830\u001b[0m  |  \u001b[32m  0.011779\u001b[0m  |     1.089252  |             |  3.5s"
       ]
      },
      {
       "output_type": "stream",
       "stream": "stdout",
       "text": [
        "\n",
        "   428  |    0.012863  |    0.011801  |     1.089980  |             |  3.5s"
       ]
      },
      {
       "output_type": "stream",
       "stream": "stdout",
       "text": [
        "\n",
        "   429  |    0.012926  |    0.011800  |     1.095365  |             |  3.5s"
       ]
      },
      {
       "output_type": "stream",
       "stream": "stdout",
       "text": [
        "\n",
        "   430  |    0.012887  |  \u001b[32m  0.011775\u001b[0m  |     1.094489  |             |  3.5s"
       ]
      },
      {
       "output_type": "stream",
       "stream": "stdout",
       "text": [
        "\n",
        "   431  |  \u001b[94m  0.012735\u001b[0m  |    0.011779  |     1.081124  |             |  3.5s"
       ]
      },
      {
       "output_type": "stream",
       "stream": "stdout",
       "text": [
        "\n",
        "   432  |    0.012812  |    0.011778  |     1.087851  |             |  3.5s"
       ]
      },
      {
       "output_type": "stream",
       "stream": "stdout",
       "text": [
        "\n",
        "   433  |    0.012771  |  \u001b[32m  0.011762\u001b[0m  |     1.085744  |             |  3.5s"
       ]
      },
      {
       "output_type": "stream",
       "stream": "stdout",
       "text": [
        "\n",
        "   434  |    0.012785  |  \u001b[32m  0.011738\u001b[0m  |     1.089218  |             |  3.5s"
       ]
      },
      {
       "output_type": "stream",
       "stream": "stdout",
       "text": [
        "\n",
        "   435  |    0.012810  |  \u001b[32m  0.011705\u001b[0m  |     1.094347  |             |  3.5s"
       ]
      },
      {
       "output_type": "stream",
       "stream": "stdout",
       "text": [
        "\n",
        "   436  |    0.012780  |    0.011705  |     1.091841  |             |  3.5s"
       ]
      },
      {
       "output_type": "stream",
       "stream": "stdout",
       "text": [
        "\n",
        "   437  |    0.012771  |    0.011737  |     1.088140  |             |  3.5s"
       ]
      },
      {
       "output_type": "stream",
       "stream": "stdout",
       "text": [
        "\n",
        "   438  |  \u001b[94m  0.012617\u001b[0m  |    0.011714  |     1.077069  |             |  3.5s"
       ]
      },
      {
       "output_type": "stream",
       "stream": "stdout",
       "text": [
        "\n",
        "   439  |    0.012682  |  \u001b[32m  0.011701\u001b[0m  |     1.083855  |             |  3.5s"
       ]
      },
      {
       "output_type": "stream",
       "stream": "stdout",
       "text": [
        "\n",
        "   440  |    0.012692  |  \u001b[32m  0.011690\u001b[0m  |     1.085732  |             |  3.5s"
       ]
      },
      {
       "output_type": "stream",
       "stream": "stdout",
       "text": [
        "\n",
        "   441  |    0.012731  |  \u001b[32m  0.011663\u001b[0m  |     1.091600  |             |  3.5s"
       ]
      },
      {
       "output_type": "stream",
       "stream": "stdout",
       "text": [
        "\n",
        "   442  |    0.012692  |    0.011672  |     1.087414  |             |  3.5s"
       ]
      },
      {
       "output_type": "stream",
       "stream": "stdout",
       "text": [
        "\n",
        "   443  |  \u001b[94m  0.012585\u001b[0m  |  \u001b[32m  0.011656\u001b[0m  |     1.079701  |             |  3.5s"
       ]
      },
      {
       "output_type": "stream",
       "stream": "stdout",
       "text": [
        "\n",
        "   444  |    0.012631  |  \u001b[32m  0.011644\u001b[0m  |     1.084686  |             |  3.5s"
       ]
      },
      {
       "output_type": "stream",
       "stream": "stdout",
       "text": [
        "\n",
        "   445  |    0.012629  |    0.011673  |     1.081954  |             |  3.5s"
       ]
      },
      {
       "output_type": "stream",
       "stream": "stdout",
       "text": [
        "\n",
        "   446  |    0.012628  |    0.011650  |     1.083996  |             |  3.5s"
       ]
      },
      {
       "output_type": "stream",
       "stream": "stdout",
       "text": [
        "\n",
        "   447  |  \u001b[94m  0.012562\u001b[0m  |  \u001b[32m  0.011624\u001b[0m  |     1.080768  |             |  3.5s"
       ]
      },
      {
       "output_type": "stream",
       "stream": "stdout",
       "text": [
        "\n",
        "   448  |    0.012633  |  \u001b[32m  0.011605\u001b[0m  |     1.088564  |             |  3.5s"
       ]
      },
      {
       "output_type": "stream",
       "stream": "stdout",
       "text": [
        "\n",
        "   449  |    0.012596  |    0.011606  |     1.085340  |             |  3.5s"
       ]
      },
      {
       "output_type": "stream",
       "stream": "stdout",
       "text": [
        "\n",
        "   450  |    0.012585  |    0.011614  |     1.083587  |             |  3.5s"
       ]
      },
      {
       "output_type": "stream",
       "stream": "stdout",
       "text": [
        "\n",
        "   451  |    0.012631  |  \u001b[32m  0.011599\u001b[0m  |     1.088973  |             |  3.5s"
       ]
      },
      {
       "output_type": "stream",
       "stream": "stdout",
       "text": [
        "\n",
        "   452  |  \u001b[94m  0.012531\u001b[0m  |  \u001b[32m  0.011568\u001b[0m  |     1.083240  |             |  3.5s"
       ]
      },
      {
       "output_type": "stream",
       "stream": "stdout",
       "text": [
        "\n",
        "   453  |  \u001b[94m  0.012432\u001b[0m  |    0.011580  |     1.073538  |             |  3.5s"
       ]
      },
      {
       "output_type": "stream",
       "stream": "stdout",
       "text": [
        "\n",
        "   454  |    0.012555  |    0.011572  |     1.084950  |             |  3.5s"
       ]
      },
      {
       "output_type": "stream",
       "stream": "stdout",
       "text": [
        "\n",
        "   455  |    0.012450  |    0.011593  |     1.073919  |             |  3.5s"
       ]
      },
      {
       "output_type": "stream",
       "stream": "stdout",
       "text": [
        "\n",
        "   456  |    0.012487  |    0.011570  |     1.079272  |             |  3.5s"
       ]
      },
      {
       "output_type": "stream",
       "stream": "stdout",
       "text": [
        "\n",
        "   457  |    0.012458  |    0.011591  |     1.074751  |             |  3.5s"
       ]
      },
      {
       "output_type": "stream",
       "stream": "stdout",
       "text": [
        "\n",
        "   458  |    0.012465  |  \u001b[32m  0.011536\u001b[0m  |     1.080528  |             |  3.5s"
       ]
      },
      {
       "output_type": "stream",
       "stream": "stdout",
       "text": [
        "\n",
        "   459  |  \u001b[94m  0.012394\u001b[0m  |  \u001b[32m  0.011524\u001b[0m  |     1.075487  |             |  3.5s"
       ]
      },
      {
       "output_type": "stream",
       "stream": "stdout",
       "text": [
        "\n",
        "   460  |  \u001b[94m  0.012371\u001b[0m  |  \u001b[32m  0.011512\u001b[0m  |     1.074640  |             |  3.5s"
       ]
      },
      {
       "output_type": "stream",
       "stream": "stdout",
       "text": [
        "\n",
        "   461  |    0.012427  |    0.011522  |     1.078551  |             |  3.5s"
       ]
      },
      {
       "output_type": "stream",
       "stream": "stdout",
       "text": [
        "\n",
        "   462  |  \u001b[94m  0.012334\u001b[0m  |    0.011533  |     1.069434  |             |  3.5s"
       ]
      },
      {
       "output_type": "stream",
       "stream": "stdout",
       "text": [
        "\n",
        "   463  |    0.012435  |    0.011513  |     1.080097  |             |  3.5s"
       ]
      },
      {
       "output_type": "stream",
       "stream": "stdout",
       "text": [
        "\n",
        "   464  |    0.012379  |  \u001b[32m  0.011486\u001b[0m  |     1.077770  |             |  3.5s"
       ]
      },
      {
       "output_type": "stream",
       "stream": "stdout",
       "text": [
        "\n",
        "   465  |  \u001b[94m  0.012330\u001b[0m  |    0.011509  |     1.071376  |             |  3.5s"
       ]
      },
      {
       "output_type": "stream",
       "stream": "stdout",
       "text": [
        "\n",
        "   466  |    0.012430  |    0.011520  |     1.078985  |             |  3.5s"
       ]
      },
      {
       "output_type": "stream",
       "stream": "stdout",
       "text": [
        "\n",
        "   467  |    0.012444  |  \u001b[32m  0.011472\u001b[0m  |     1.084691  |             |  3.5s"
       ]
      },
      {
       "output_type": "stream",
       "stream": "stdout",
       "text": [
        "\n",
        "   468  |    0.012399  |  \u001b[32m  0.011450\u001b[0m  |     1.082870  |             |  3.5s"
       ]
      },
      {
       "output_type": "stream",
       "stream": "stdout",
       "text": [
        "\n",
        "   469  |  \u001b[94m  0.012269\u001b[0m  |    0.011472  |     1.069471  |             |  3.5s"
       ]
      },
      {
       "output_type": "stream",
       "stream": "stdout",
       "text": [
        "\n",
        "   470  |    0.012307  |  \u001b[32m  0.011440\u001b[0m  |     1.075728  |             |  3.5s"
       ]
      },
      {
       "output_type": "stream",
       "stream": "stdout",
       "text": [
        "\n",
        "   471  |    0.012346  |  \u001b[32m  0.011434\u001b[0m  |     1.079800  |             |  3.5s"
       ]
      },
      {
       "output_type": "stream",
       "stream": "stdout",
       "text": [
        "\n",
        "   472  |  \u001b[94m  0.012240\u001b[0m  |  \u001b[32m  0.011425\u001b[0m  |     1.071332  |             |  3.5s"
       ]
      },
      {
       "output_type": "stream",
       "stream": "stdout",
       "text": [
        "\n",
        "   473  |    0.012294  |    0.011429  |     1.075672  |             |  3.5s"
       ]
      },
      {
       "output_type": "stream",
       "stream": "stdout",
       "text": [
        "\n",
        "   474  |  \u001b[94m  0.012229\u001b[0m  |    0.011454  |     1.067689  |             |  3.5s"
       ]
      },
      {
       "output_type": "stream",
       "stream": "stdout",
       "text": [
        "\n",
        "   475  |    0.012307  |  \u001b[32m  0.011400\u001b[0m  |     1.079487  |             |  3.5s"
       ]
      },
      {
       "output_type": "stream",
       "stream": "stdout",
       "text": [
        "\n",
        "   476  |    0.012276  |  \u001b[32m  0.011393\u001b[0m  |     1.077477  |             |  3.5s"
       ]
      },
      {
       "output_type": "stream",
       "stream": "stdout",
       "text": [
        "\n",
        "   477  |  \u001b[94m  0.012215\u001b[0m  |  \u001b[32m  0.011392\u001b[0m  |     1.072268  |             |  3.5s"
       ]
      },
      {
       "output_type": "stream",
       "stream": "stdout",
       "text": [
        "\n",
        "   478  |    0.012244  |  \u001b[32m  0.011391\u001b[0m  |     1.074850  |             |  3.5s"
       ]
      },
      {
       "output_type": "stream",
       "stream": "stdout",
       "text": [
        "\n",
        "   479  |  \u001b[94m  0.012185\u001b[0m  |    0.011402  |     1.068717  |             |  3.5s"
       ]
      },
      {
       "output_type": "stream",
       "stream": "stdout",
       "text": [
        "\n",
        "   480  |  \u001b[94m  0.012176\u001b[0m  |  \u001b[32m  0.011389\u001b[0m  |     1.069071  |             |  3.5s"
       ]
      },
      {
       "output_type": "stream",
       "stream": "stdout",
       "text": [
        "\n",
        "   481  |    0.012207  |  \u001b[32m  0.011363\u001b[0m  |     1.074329  |             |  3.5s"
       ]
      },
      {
       "output_type": "stream",
       "stream": "stdout",
       "text": [
        "\n",
        "   482  |  \u001b[94m  0.012142\u001b[0m  |  \u001b[32m  0.011347\u001b[0m  |     1.070048  |             |  3.5s"
       ]
      },
      {
       "output_type": "stream",
       "stream": "stdout",
       "text": [
        "\n",
        "   483  |  \u001b[94m  0.012110\u001b[0m  |    0.011360  |     1.065946  |             |  3.5s"
       ]
      },
      {
       "output_type": "stream",
       "stream": "stdout",
       "text": [
        "\n",
        "   484  |    0.012223  |    0.011357  |     1.076291  |             |  3.5s"
       ]
      },
      {
       "output_type": "stream",
       "stream": "stdout",
       "text": [
        "\n",
        "   485  |    0.012239  |    0.011348  |     1.078560  |             |  3.5s"
       ]
      },
      {
       "output_type": "stream",
       "stream": "stdout",
       "text": [
        "\n",
        "   486  |  \u001b[94m  0.012046\u001b[0m  |  \u001b[32m  0.011345\u001b[0m  |     1.061761  |             |  3.5s"
       ]
      },
      {
       "output_type": "stream",
       "stream": "stdout",
       "text": [
        "\n",
        "   487  |    0.012081  |  \u001b[32m  0.011339\u001b[0m  |     1.065383  |             |  3.5s"
       ]
      },
      {
       "output_type": "stream",
       "stream": "stdout",
       "text": [
        "\n",
        "   488  |    0.012064  |    0.011361  |     1.061924  |             |  3.5s"
       ]
      },
      {
       "output_type": "stream",
       "stream": "stdout",
       "text": [
        "\n",
        "   489  |    0.012078  |  \u001b[32m  0.011329\u001b[0m  |     1.066086  |             |  3.5s"
       ]
      },
      {
       "output_type": "stream",
       "stream": "stdout",
       "text": [
        "\n",
        "   490  |    0.012054  |  \u001b[32m  0.011289\u001b[0m  |     1.067746  |             |  3.5s"
       ]
      },
      {
       "output_type": "stream",
       "stream": "stdout",
       "text": [
        "\n",
        "   491  |  \u001b[94m  0.012042\u001b[0m  |    0.011294  |     1.066172  |             |  3.5s"
       ]
      },
      {
       "output_type": "stream",
       "stream": "stdout",
       "text": [
        "\n",
        "   492  |    0.012062  |    0.011334  |     1.064277  |             |  3.5s"
       ]
      },
      {
       "output_type": "stream",
       "stream": "stdout",
       "text": [
        "\n",
        "   493  |  \u001b[94m  0.011946\u001b[0m  |    0.011292  |     1.057895  |             |  3.5s"
       ]
      },
      {
       "output_type": "stream",
       "stream": "stdout",
       "text": [
        "\n",
        "   494  |    0.012073  |  \u001b[32m  0.011268\u001b[0m  |     1.071468  |             |  3.5s"
       ]
      },
      {
       "output_type": "stream",
       "stream": "stdout",
       "text": [
        "\n",
        "   495  |    0.012055  |  \u001b[32m  0.011259\u001b[0m  |     1.070636  |             |  3.5s"
       ]
      },
      {
       "output_type": "stream",
       "stream": "stdout",
       "text": [
        "\n",
        "   496  |    0.011951  |  \u001b[32m  0.011247\u001b[0m  |     1.062659  |             |  3.5s"
       ]
      },
      {
       "output_type": "stream",
       "stream": "stdout",
       "text": [
        "\n",
        "   497  |    0.011999  |  \u001b[32m  0.011238\u001b[0m  |     1.067759  |             |  3.5s"
       ]
      },
      {
       "output_type": "stream",
       "stream": "stdout",
       "text": [
        "\n",
        "   498  |    0.011972  |    0.011269  |     1.062333  |             |  3.5s"
       ]
      },
      {
       "output_type": "stream",
       "stream": "stdout",
       "text": [
        "\n",
        "   499  |    0.012064  |    0.011239  |     1.073411  |             |  3.5s"
       ]
      },
      {
       "output_type": "stream",
       "stream": "stdout",
       "text": [
        "\n",
        "   500  |    0.011971  |    0.011249  |     1.064151  |             |  3.5s"
       ]
      },
      {
       "output_type": "stream",
       "stream": "stdout",
       "text": [
        "\n",
        "   501  |    0.012020  |    0.011241  |     1.069277  |             |  3.5s"
       ]
      },
      {
       "output_type": "stream",
       "stream": "stdout",
       "text": [
        "\n",
        "   502  |    0.011988  |    0.011251  |     1.065472  |             |  3.5s"
       ]
      },
      {
       "output_type": "stream",
       "stream": "stdout",
       "text": [
        "\n",
        "   503  |  \u001b[94m  0.011882\u001b[0m  |  \u001b[32m  0.011220\u001b[0m  |     1.058999  |             |  3.5s"
       ]
      },
      {
       "output_type": "stream",
       "stream": "stdout",
       "text": [
        "\n",
        "   504  |    0.011955  |  \u001b[32m  0.011204\u001b[0m  |     1.067001  |             |  3.5s"
       ]
      },
      {
       "output_type": "stream",
       "stream": "stdout",
       "text": [
        "\n",
        "   505  |  \u001b[94m  0.011867\u001b[0m  |    0.011218  |     1.057841  |             |  3.5s"
       ]
      },
      {
       "output_type": "stream",
       "stream": "stdout",
       "text": [
        "\n",
        "   506  |  \u001b[94m  0.011849\u001b[0m  |  \u001b[32m  0.011188\u001b[0m  |     1.059089  |             |  3.5s"
       ]
      },
      {
       "output_type": "stream",
       "stream": "stdout",
       "text": [
        "\n",
        "   507  |    0.011904  |    0.011198  |     1.063052  |             |  3.5s"
       ]
      },
      {
       "output_type": "stream",
       "stream": "stdout",
       "text": [
        "\n",
        "   508  |    0.011862  |  \u001b[32m  0.011156\u001b[0m  |     1.063341  |             |  3.5s"
       ]
      },
      {
       "output_type": "stream",
       "stream": "stdout",
       "text": [
        "\n",
        "   509  |  \u001b[94m  0.011830\u001b[0m  |    0.011175  |     1.058667  |             |  3.5s"
       ]
      },
      {
       "output_type": "stream",
       "stream": "stdout",
       "text": [
        "\n",
        "   510  |    0.011889  |    0.011156  |     1.065760  |             |  3.5s"
       ]
      },
      {
       "output_type": "stream",
       "stream": "stdout",
       "text": [
        "\n",
        "   511  |    0.011863  |    0.011191  |     1.060003  |             |  3.5s"
       ]
      },
      {
       "output_type": "stream",
       "stream": "stdout",
       "text": [
        "\n",
        "   512  |    0.011840  |    0.011176  |     1.059389  |             |  3.5s"
       ]
      },
      {
       "output_type": "stream",
       "stream": "stdout",
       "text": [
        "\n",
        "   513  |  \u001b[94m  0.011790\u001b[0m  |  \u001b[32m  0.011150\u001b[0m  |     1.057379  |             |  3.5s"
       ]
      },
      {
       "output_type": "stream",
       "stream": "stdout",
       "text": [
        "\n",
        "   514  |    0.011792  |  \u001b[32m  0.011125\u001b[0m  |     1.059884  |             |  3.5s"
       ]
      },
      {
       "output_type": "stream",
       "stream": "stdout",
       "text": [
        "\n",
        "   515  |  \u001b[94m  0.011754\u001b[0m  |    0.011126  |     1.056520  |             |  3.5s"
       ]
      },
      {
       "output_type": "stream",
       "stream": "stdout",
       "text": [
        "\n",
        "   516  |    0.011789  |    0.011149  |     1.057451  |             |  3.5s"
       ]
      },
      {
       "output_type": "stream",
       "stream": "stdout",
       "text": [
        "\n",
        "   517  |  \u001b[94m  0.011668\u001b[0m  |  \u001b[32m  0.011111\u001b[0m  |     1.050147  |             |  3.5s"
       ]
      },
      {
       "output_type": "stream",
       "stream": "stdout",
       "text": [
        "\n",
        "   518  |    0.011803  |    0.011146  |     1.058982  |             |  3.5s"
       ]
      },
      {
       "output_type": "stream",
       "stream": "stdout",
       "text": [
        "\n",
        "   519  |    0.011780  |    0.011124  |     1.058998  |             |  3.5s"
       ]
      },
      {
       "output_type": "stream",
       "stream": "stdout",
       "text": [
        "\n",
        "   520  |    0.011835  |  \u001b[32m  0.011093\u001b[0m  |     1.066948  |             |  3.5s"
       ]
      },
      {
       "output_type": "stream",
       "stream": "stdout",
       "text": [
        "\n",
        "   521  |    0.011734  |    0.011112  |     1.055997  |             |  3.5s"
       ]
      },
      {
       "output_type": "stream",
       "stream": "stdout",
       "text": [
        "\n",
        "   522  |    0.011735  |    0.011107  |     1.056574  |             |  3.5s"
       ]
      },
      {
       "output_type": "stream",
       "stream": "stdout",
       "text": [
        "\n",
        "   523  |    0.011727  |  \u001b[32m  0.011091\u001b[0m  |     1.057329  |             |  3.5s"
       ]
      },
      {
       "output_type": "stream",
       "stream": "stdout",
       "text": [
        "\n",
        "   524  |    0.011744  |    0.011092  |     1.058814  |             |  3.5s"
       ]
      },
      {
       "output_type": "stream",
       "stream": "stdout",
       "text": [
        "\n",
        "   525  |  \u001b[94m  0.011664\u001b[0m  |  \u001b[32m  0.011067\u001b[0m  |     1.053966  |             |  3.5s"
       ]
      },
      {
       "output_type": "stream",
       "stream": "stdout",
       "text": [
        "\n",
        "   526  |  \u001b[94m  0.011604\u001b[0m  |  \u001b[32m  0.011061\u001b[0m  |     1.049119  |             |  3.5s"
       ]
      },
      {
       "output_type": "stream",
       "stream": "stdout",
       "text": [
        "\n",
        "   527  |    0.011707  |    0.011080  |     1.056551  |             |  3.5s"
       ]
      },
      {
       "output_type": "stream",
       "stream": "stdout",
       "text": [
        "\n",
        "   528  |  \u001b[94m  0.011597\u001b[0m  |  \u001b[32m  0.011030\u001b[0m  |     1.051390  |             |  3.5s"
       ]
      },
      {
       "output_type": "stream",
       "stream": "stdout",
       "text": [
        "\n",
        "   529  |    0.011656  |    0.011066  |     1.053338  |             |  3.5s"
       ]
      },
      {
       "output_type": "stream",
       "stream": "stdout",
       "text": [
        "\n",
        "   530  |  \u001b[94m  0.011515\u001b[0m  |    0.011065  |     1.040672  |             |  3.5s"
       ]
      },
      {
       "output_type": "stream",
       "stream": "stdout",
       "text": [
        "\n",
        "   531  |  \u001b[94m  0.011513\u001b[0m  |  \u001b[32m  0.010998\u001b[0m  |     1.046772  |             |  3.5s"
       ]
      },
      {
       "output_type": "stream",
       "stream": "stdout",
       "text": [
        "\n",
        "   532  |    0.011576  |    0.011018  |     1.050703  |             |  3.5s"
       ]
      },
      {
       "output_type": "stream",
       "stream": "stdout",
       "text": [
        "\n",
        "   533  |    0.011577  |    0.011015  |     1.050987  |             |  3.5s"
       ]
      },
      {
       "output_type": "stream",
       "stream": "stdout",
       "text": [
        "\n",
        "   534  |    0.011533  |    0.011021  |     1.046467  |             |  3.5s"
       ]
      },
      {
       "output_type": "stream",
       "stream": "stdout",
       "text": [
        "\n",
        "   535  |    0.011606  |    0.011028  |     1.052459  |             |  3.5s"
       ]
      },
      {
       "output_type": "stream",
       "stream": "stdout",
       "text": [
        "\n",
        "   536  |  \u001b[94m  0.011484\u001b[0m  |    0.011026  |     1.041596  |             |  3.5s"
       ]
      },
      {
       "output_type": "stream",
       "stream": "stdout",
       "text": [
        "\n",
        "   537  |    0.011601  |    0.011038  |     1.051040  |             |  3.5s"
       ]
      },
      {
       "output_type": "stream",
       "stream": "stdout",
       "text": [
        "\n",
        "   538  |    0.011497  |    0.011013  |     1.043920  |             |  3.5s"
       ]
      },
      {
       "output_type": "stream",
       "stream": "stdout",
       "text": [
        "\n",
        "   539  |  \u001b[94m  0.011464\u001b[0m  |  \u001b[32m  0.010974\u001b[0m  |     1.044669  |             |  3.5s"
       ]
      },
      {
       "output_type": "stream",
       "stream": "stdout",
       "text": [
        "\n",
        "   540  |    0.011477  |    0.010983  |     1.044990  |             |  3.5s"
       ]
      },
      {
       "output_type": "stream",
       "stream": "stdout",
       "text": [
        "\n",
        "   541  |    0.011503  |    0.010982  |     1.047489  |             |  3.5s"
       ]
      },
      {
       "output_type": "stream",
       "stream": "stdout",
       "text": [
        "\n",
        "   542  |    0.011538  |  \u001b[32m  0.010948\u001b[0m  |     1.053926  |             |  3.5s"
       ]
      },
      {
       "output_type": "stream",
       "stream": "stdout",
       "text": [
        "\n",
        "   543  |    0.011476  |    0.010995  |     1.043772  |             |  3.5s"
       ]
      },
      {
       "output_type": "stream",
       "stream": "stdout",
       "text": [
        "\n",
        "   544  |    0.011497  |    0.010954  |     1.049563  |             |  3.5s"
       ]
      },
      {
       "output_type": "stream",
       "stream": "stdout",
       "text": [
        "\n",
        "   545  |    0.011492  |  \u001b[32m  0.010940\u001b[0m  |     1.050452  |             |  3.5s"
       ]
      },
      {
       "output_type": "stream",
       "stream": "stdout",
       "text": [
        "\n",
        "   546  |  \u001b[94m  0.011382\u001b[0m  |  \u001b[32m  0.010937\u001b[0m  |     1.040691  |             |  3.5s"
       ]
      },
      {
       "output_type": "stream",
       "stream": "stdout",
       "text": [
        "\n",
        "   547  |    0.011409  |    0.010959  |     1.041082  |             |  3.5s"
       ]
      },
      {
       "output_type": "stream",
       "stream": "stdout",
       "text": [
        "\n",
        "   548  |    0.011484  |    0.010938  |     1.049923  |             |  3.5s"
       ]
      },
      {
       "output_type": "stream",
       "stream": "stdout",
       "text": [
        "\n",
        "   549  |    0.011410  |    0.010947  |     1.042230  |             |  3.5s"
       ]
      },
      {
       "output_type": "stream",
       "stream": "stdout",
       "text": [
        "\n",
        "   550  |    0.011440  |  \u001b[32m  0.010927\u001b[0m  |     1.046951  |             |  3.5s"
       ]
      },
      {
       "output_type": "stream",
       "stream": "stdout",
       "text": [
        "\n",
        "   551  |    0.011396  |  \u001b[32m  0.010910\u001b[0m  |     1.044572  |             |  3.5s"
       ]
      },
      {
       "output_type": "stream",
       "stream": "stdout",
       "text": [
        "\n",
        "   552  |    0.011385  |    0.010951  |     1.039655  |             |  3.5s"
       ]
      },
      {
       "output_type": "stream",
       "stream": "stdout",
       "text": [
        "\n",
        "   553  |    0.011454  |    0.010926  |     1.048340  |             |  3.5s"
       ]
      },
      {
       "output_type": "stream",
       "stream": "stdout",
       "text": [
        "\n",
        "   554  |  \u001b[94m  0.011327\u001b[0m  |  \u001b[32m  0.010896\u001b[0m  |     1.039580  |             |  3.5s"
       ]
      },
      {
       "output_type": "stream",
       "stream": "stdout",
       "text": [
        "\n",
        "   555  |    0.011400  |    0.010917  |     1.044179  |             |  3.5s"
       ]
      },
      {
       "output_type": "stream",
       "stream": "stdout",
       "text": [
        "\n",
        "   556  |    0.011341  |  \u001b[32m  0.010895\u001b[0m  |     1.040994  |             |  3.5s"
       ]
      },
      {
       "output_type": "stream",
       "stream": "stdout",
       "text": [
        "\n",
        "   557  |    0.011329  |    0.010922  |     1.037300  |             |  3.5s"
       ]
      },
      {
       "output_type": "stream",
       "stream": "stdout",
       "text": [
        "\n",
        "   558  |    0.011390  |    0.010903  |     1.044656  |             |  3.5s"
       ]
      },
      {
       "output_type": "stream",
       "stream": "stdout",
       "text": [
        "\n",
        "   559  |  \u001b[94m  0.011305\u001b[0m  |  \u001b[32m  0.010864\u001b[0m  |     1.040545  |             |  3.5s"
       ]
      },
      {
       "output_type": "stream",
       "stream": "stdout",
       "text": [
        "\n",
        "   560  |    0.011368  |    0.010907  |     1.042227  |             |  3.5s"
       ]
      },
      {
       "output_type": "stream",
       "stream": "stdout",
       "text": [
        "\n",
        "   561  |  \u001b[94m  0.011283\u001b[0m  |  \u001b[32m  0.010846\u001b[0m  |     1.040298  |             |  3.5s"
       ]
      },
      {
       "output_type": "stream",
       "stream": "stdout",
       "text": [
        "\n",
        "   562  |    0.011312  |  \u001b[32m  0.010844\u001b[0m  |     1.043216  |             |  3.5s"
       ]
      },
      {
       "output_type": "stream",
       "stream": "stdout",
       "text": [
        "\n",
        "   563  |  \u001b[94m  0.011247\u001b[0m  |    0.010860  |     1.035659  |             |  3.5s"
       ]
      },
      {
       "output_type": "stream",
       "stream": "stdout",
       "text": [
        "\n",
        "   564  |  \u001b[94m  0.011184\u001b[0m  |    0.010855  |     1.030320  |             |  3.5s"
       ]
      },
      {
       "output_type": "stream",
       "stream": "stdout",
       "text": [
        "\n",
        "   565  |    0.011229  |    0.010858  |     1.034185  |             |  3.5s"
       ]
      },
      {
       "output_type": "stream",
       "stream": "stdout",
       "text": [
        "\n",
        "   566  |    0.011252  |  \u001b[32m  0.010806\u001b[0m  |     1.041312  |             |  3.5s"
       ]
      },
      {
       "output_type": "stream",
       "stream": "stdout",
       "text": [
        "\n",
        "   567  |    0.011301  |    0.010817  |     1.044759  |             |  3.5s"
       ]
      },
      {
       "output_type": "stream",
       "stream": "stdout",
       "text": [
        "\n",
        "   568  |    0.011295  |    0.010815  |     1.044387  |             |  3.5s"
       ]
      },
      {
       "output_type": "stream",
       "stream": "stdout",
       "text": [
        "\n",
        "   569  |    0.011214  |  \u001b[32m  0.010793\u001b[0m  |     1.038936  |             |  3.5s"
       ]
      },
      {
       "output_type": "stream",
       "stream": "stdout",
       "text": [
        "\n",
        "   570  |    0.011201  |    0.010803  |     1.036919  |             |  3.5s"
       ]
      },
      {
       "output_type": "stream",
       "stream": "stdout",
       "text": [
        "\n",
        "   571  |  \u001b[94m  0.011173\u001b[0m  |    0.010804  |     1.034165  |             |  3.5s"
       ]
      },
      {
       "output_type": "stream",
       "stream": "stdout",
       "text": [
        "\n",
        "   572  |    0.011223  |    0.010802  |     1.039055  |             |  3.5s"
       ]
      },
      {
       "output_type": "stream",
       "stream": "stdout",
       "text": [
        "\n",
        "   573  |  \u001b[94m  0.011102\u001b[0m  |    0.010797  |     1.028256  |             |  3.5s"
       ]
      },
      {
       "output_type": "stream",
       "stream": "stdout",
       "text": [
        "\n",
        "   574  |    0.011217  |  \u001b[32m  0.010793\u001b[0m  |     1.039275  |             |  3.5s"
       ]
      },
      {
       "output_type": "stream",
       "stream": "stdout",
       "text": [
        "\n",
        "   575  |    0.011135  |  \u001b[32m  0.010790\u001b[0m  |     1.031944  |             |  3.5s"
       ]
      },
      {
       "output_type": "stream",
       "stream": "stdout",
       "text": [
        "\n",
        "   576  |    0.011233  |  \u001b[32m  0.010787\u001b[0m  |     1.041326  |             |  3.5s"
       ]
      },
      {
       "output_type": "stream",
       "stream": "stdout",
       "text": [
        "\n",
        "   577  |    0.011167  |    0.010796  |     1.034330  |             |  3.5s"
       ]
      },
      {
       "output_type": "stream",
       "stream": "stdout",
       "text": [
        "\n",
        "   578  |  \u001b[94m  0.011096\u001b[0m  |  \u001b[32m  0.010779\u001b[0m  |     1.029441  |             |  3.5s"
       ]
      },
      {
       "output_type": "stream",
       "stream": "stdout",
       "text": [
        "\n",
        "   579  |    0.011228  |    0.010795  |     1.040161  |             |  3.5s"
       ]
      },
      {
       "output_type": "stream",
       "stream": "stdout",
       "text": [
        "\n",
        "   580  |    0.011115  |  \u001b[32m  0.010745\u001b[0m  |     1.034456  |             |  3.5s"
       ]
      },
      {
       "output_type": "stream",
       "stream": "stdout",
       "text": [
        "\n",
        "   581  |  \u001b[94m  0.011066\u001b[0m  |    0.010746  |     1.029815  |             |  3.5s"
       ]
      },
      {
       "output_type": "stream",
       "stream": "stdout",
       "text": [
        "\n",
        "   582  |    0.011088  |    0.010750  |     1.031504  |             |  3.5s"
       ]
      },
      {
       "output_type": "stream",
       "stream": "stdout",
       "text": [
        "\n",
        "   583  |    0.011113  |    0.010765  |     1.032302  |             |  3.5s"
       ]
      },
      {
       "output_type": "stream",
       "stream": "stdout",
       "text": [
        "\n",
        "   584  |    0.011135  |    0.010745  |     1.036312  |             |  3.5s"
       ]
      },
      {
       "output_type": "stream",
       "stream": "stdout",
       "text": [
        "\n",
        "   585  |  \u001b[94m  0.011046\u001b[0m  |  \u001b[32m  0.010736\u001b[0m  |     1.028915  |             |  3.5s"
       ]
      },
      {
       "output_type": "stream",
       "stream": "stdout",
       "text": [
        "\n",
        "   586  |  \u001b[94m  0.010998\u001b[0m  |  \u001b[32m  0.010732\u001b[0m  |     1.024796  |             |  3.5s"
       ]
      },
      {
       "output_type": "stream",
       "stream": "stdout",
       "text": [
        "\n",
        "   587  |    0.011026  |    0.010744  |     1.026211  |             |  3.5s"
       ]
      },
      {
       "output_type": "stream",
       "stream": "stdout",
       "text": [
        "\n",
        "   588  |    0.011060  |    0.010734  |     1.030396  |             |  3.5s"
       ]
      },
      {
       "output_type": "stream",
       "stream": "stdout",
       "text": [
        "\n",
        "   589  |    0.011071  |    0.010733  |     1.031442  |             |  3.5s"
       ]
      },
      {
       "output_type": "stream",
       "stream": "stdout",
       "text": [
        "\n",
        "   590  |    0.011061  |  \u001b[32m  0.010706\u001b[0m  |     1.033198  |             |  3.5s"
       ]
      },
      {
       "output_type": "stream",
       "stream": "stdout",
       "text": [
        "\n",
        "   591  |    0.011023  |    0.010722  |     1.028123  |             |  3.5s"
       ]
      },
      {
       "output_type": "stream",
       "stream": "stdout",
       "text": [
        "\n",
        "   592  |    0.011013  |  \u001b[32m  0.010700\u001b[0m  |     1.029267  |             |  3.5s"
       ]
      },
      {
       "output_type": "stream",
       "stream": "stdout",
       "text": [
        "\n",
        "   593  |  \u001b[94m  0.010918\u001b[0m  |    0.010701  |     1.020292  |             |  3.5s"
       ]
      },
      {
       "output_type": "stream",
       "stream": "stdout",
       "text": [
        "\n",
        "   594  |    0.011030  |  \u001b[32m  0.010663\u001b[0m  |     1.034359  |             |  3.5s"
       ]
      },
      {
       "output_type": "stream",
       "stream": "stdout",
       "text": [
        "\n",
        "   595  |  \u001b[94m  0.010908\u001b[0m  |    0.010670  |     1.022392  |             |  3.5s"
       ]
      },
      {
       "output_type": "stream",
       "stream": "stdout",
       "text": [
        "\n",
        "   596  |    0.011043  |    0.010672  |     1.034847  |             |  3.5s"
       ]
      },
      {
       "output_type": "stream",
       "stream": "stdout",
       "text": [
        "\n",
        "   597  |    0.010955  |    0.010672  |     1.026531  |             |  3.5s"
       ]
      },
      {
       "output_type": "stream",
       "stream": "stdout",
       "text": [
        "\n",
        "   598  |    0.011028  |    0.010665  |     1.034052  |             |  3.5s"
       ]
      },
      {
       "output_type": "stream",
       "stream": "stdout",
       "text": [
        "\n",
        "   599  |    0.010940  |  \u001b[32m  0.010648\u001b[0m  |     1.027402  |             |  3.5s"
       ]
      },
      {
       "output_type": "stream",
       "stream": "stdout",
       "text": [
        "\n",
        "   600  |    0.010913  |    0.010662  |     1.023570  |             |  3.5s"
       ]
      },
      {
       "output_type": "stream",
       "stream": "stdout",
       "text": [
        "\n",
        "   601  |    0.010942  |    0.010655  |     1.026927  |             |  3.5s"
       ]
      },
      {
       "output_type": "stream",
       "stream": "stdout",
       "text": [
        "\n",
        "   602  |    0.010959  |    0.010649  |     1.029112  |             |  3.5s"
       ]
      },
      {
       "output_type": "stream",
       "stream": "stdout",
       "text": [
        "\n",
        "   603  |  \u001b[94m  0.010807\u001b[0m  |    0.010662  |     1.013610  |             |  3.5s"
       ]
      },
      {
       "output_type": "stream",
       "stream": "stdout",
       "text": [
        "\n",
        "   604  |    0.010925  |  \u001b[32m  0.010646\u001b[0m  |     1.026230  |             |  3.5s"
       ]
      },
      {
       "output_type": "stream",
       "stream": "stdout",
       "text": [
        "\n",
        "   605  |    0.010829  |  \u001b[32m  0.010623\u001b[0m  |     1.019446  |             |  3.5s"
       ]
      },
      {
       "output_type": "stream",
       "stream": "stdout",
       "text": [
        "\n",
        "   606  |    0.010920  |    0.010631  |     1.027161  |             |  3.5s"
       ]
      },
      {
       "output_type": "stream",
       "stream": "stdout",
       "text": [
        "\n",
        "   607  |    0.010823  |  \u001b[32m  0.010607\u001b[0m  |     1.020324  |             |  3.5s"
       ]
      },
      {
       "output_type": "stream",
       "stream": "stdout",
       "text": [
        "\n",
        "   608  |    0.010854  |    0.010615  |     1.022512  |             |  3.5s"
       ]
      },
      {
       "output_type": "stream",
       "stream": "stdout",
       "text": [
        "\n",
        "   609  |  \u001b[94m  0.010803\u001b[0m  |    0.010611  |     1.018130  |             |  3.5s"
       ]
      },
      {
       "output_type": "stream",
       "stream": "stdout",
       "text": [
        "\n",
        "   610  |  \u001b[94m  0.010789\u001b[0m  |    0.010608  |     1.017089  |             |  3.5s"
       ]
      },
      {
       "output_type": "stream",
       "stream": "stdout",
       "text": [
        "\n",
        "   611  |    0.010896  |  \u001b[32m  0.010602\u001b[0m  |     1.027721  |             |  3.5s"
       ]
      },
      {
       "output_type": "stream",
       "stream": "stdout",
       "text": [
        "\n",
        "   612  |  \u001b[94m  0.010744\u001b[0m  |    0.010609  |     1.012762  |             |  3.5s"
       ]
      },
      {
       "output_type": "stream",
       "stream": "stdout",
       "text": [
        "\n",
        "   613  |  \u001b[94m  0.010733\u001b[0m  |  \u001b[32m  0.010601\u001b[0m  |     1.012514  |             |  3.5s"
       ]
      },
      {
       "output_type": "stream",
       "stream": "stdout",
       "text": [
        "\n",
        "   614  |    0.010778  |  \u001b[32m  0.010591\u001b[0m  |     1.017650  |             |  3.5s"
       ]
      },
      {
       "output_type": "stream",
       "stream": "stdout",
       "text": [
        "\n",
        "   615  |    0.010782  |  \u001b[32m  0.010581\u001b[0m  |     1.019027  |             |  3.5s"
       ]
      },
      {
       "output_type": "stream",
       "stream": "stdout",
       "text": [
        "\n",
        "   616  |    0.010796  |    0.010581  |     1.020362  |             |  3.5s"
       ]
      },
      {
       "output_type": "stream",
       "stream": "stdout",
       "text": [
        "\n",
        "   617  |    0.010754  |  \u001b[32m  0.010578\u001b[0m  |     1.016703  |             |  3.5s"
       ]
      },
      {
       "output_type": "stream",
       "stream": "stdout",
       "text": [
        "\n",
        "   618  |    0.010778  |  \u001b[32m  0.010562\u001b[0m  |     1.020409  |             |  3.5s"
       ]
      },
      {
       "output_type": "stream",
       "stream": "stdout",
       "text": [
        "\n",
        "   619  |    0.010757  |  \u001b[32m  0.010560\u001b[0m  |     1.018647  |             |  3.5s"
       ]
      },
      {
       "output_type": "stream",
       "stream": "stdout",
       "text": [
        "\n",
        "   620  |  \u001b[94m  0.010640\u001b[0m  |    0.010570  |     1.006538  |             |  3.5s"
       ]
      },
      {
       "output_type": "stream",
       "stream": "stdout",
       "text": [
        "\n",
        "   621  |    0.010707  |    0.010562  |     1.013798  |             |  3.5s"
       ]
      },
      {
       "output_type": "stream",
       "stream": "stdout",
       "text": [
        "\n",
        "   622  |    0.010748  |  \u001b[32m  0.010553\u001b[0m  |     1.018478  |             |  3.5s"
       ]
      },
      {
       "output_type": "stream",
       "stream": "stdout",
       "text": [
        "\n",
        "   623  |    0.010765  |  \u001b[32m  0.010549\u001b[0m  |     1.020457  |             |  3.5s"
       ]
      },
      {
       "output_type": "stream",
       "stream": "stdout",
       "text": [
        "\n",
        "   624  |    0.010704  |  \u001b[32m  0.010519\u001b[0m  |     1.017578  |             |  3.5s"
       ]
      },
      {
       "output_type": "stream",
       "stream": "stdout",
       "text": [
        "\n",
        "   625  |    0.010693  |  \u001b[32m  0.010507\u001b[0m  |     1.017728  |             |  3.5s"
       ]
      },
      {
       "output_type": "stream",
       "stream": "stdout",
       "text": [
        "\n",
        "   626  |    0.010721  |    0.010524  |     1.018642  |             |  3.5s"
       ]
      },
      {
       "output_type": "stream",
       "stream": "stdout",
       "text": [
        "\n",
        "   627  |    0.010642  |    0.010520  |     1.011563  |             |  3.5s"
       ]
      },
      {
       "output_type": "stream",
       "stream": "stdout",
       "text": [
        "\n",
        "   628  |    0.010691  |    0.010510  |     1.017242  |             |  3.5s"
       ]
      },
      {
       "output_type": "stream",
       "stream": "stdout",
       "text": [
        "\n",
        "   629  |    0.010691  |  \u001b[32m  0.010503\u001b[0m  |     1.017965  |             |  3.5s"
       ]
      },
      {
       "output_type": "stream",
       "stream": "stdout",
       "text": [
        "\n",
        "   630  |    0.010691  |    0.010510  |     1.017231  |             |  3.5s"
       ]
      },
      {
       "output_type": "stream",
       "stream": "stdout",
       "text": [
        "\n",
        "   631  |  \u001b[94m  0.010593\u001b[0m  |  \u001b[32m  0.010491\u001b[0m  |     1.009715  |             |  3.5s"
       ]
      },
      {
       "output_type": "stream",
       "stream": "stdout",
       "text": [
        "\n",
        "   632  |    0.010598  |    0.010492  |     1.010108  |             |  3.5s"
       ]
      },
      {
       "output_type": "stream",
       "stream": "stdout",
       "text": [
        "\n",
        "   633  |    0.010616  |    0.010497  |     1.011389  |             |  3.5s"
       ]
      },
      {
       "output_type": "stream",
       "stream": "stdout",
       "text": [
        "\n",
        "   634  |    0.010685  |    0.010505  |     1.017134  |             |  3.5s"
       ]
      },
      {
       "output_type": "stream",
       "stream": "stdout",
       "text": [
        "\n",
        "   635  |  \u001b[94m  0.010550\u001b[0m  |  \u001b[32m  0.010475\u001b[0m  |     1.007113  |             |  3.5s"
       ]
      },
      {
       "output_type": "stream",
       "stream": "stdout",
       "text": [
        "\n",
        "   636  |    0.010613  |    0.010503  |     1.010467  |             |  3.5s"
       ]
      },
      {
       "output_type": "stream",
       "stream": "stdout",
       "text": [
        "\n",
        "   637  |    0.010605  |  \u001b[32m  0.010445\u001b[0m  |     1.015377  |             |  3.5s"
       ]
      },
      {
       "output_type": "stream",
       "stream": "stdout",
       "text": [
        "\n",
        "   638  |  \u001b[94m  0.010490\u001b[0m  |    0.010478  |     1.001073  |             |  3.5s"
       ]
      },
      {
       "output_type": "stream",
       "stream": "stdout",
       "text": [
        "\n",
        "   639  |    0.010539  |    0.010453  |     1.008172  |             |  3.5s"
       ]
      },
      {
       "output_type": "stream",
       "stream": "stdout",
       "text": [
        "\n",
        "   640  |    0.010534  |    0.010449  |     1.008094  |             |  3.5s"
       ]
      },
      {
       "output_type": "stream",
       "stream": "stdout",
       "text": [
        "\n",
        "   641  |    0.010587  |    0.010453  |     1.012842  |             |  3.5s"
       ]
      },
      {
       "output_type": "stream",
       "stream": "stdout",
       "text": [
        "\n",
        "   642  |    0.010558  |    0.010459  |     1.009464  |             |  3.5s"
       ]
      },
      {
       "output_type": "stream",
       "stream": "stdout",
       "text": [
        "\n",
        "   643  |    0.010635  |  \u001b[32m  0.010429\u001b[0m  |     1.019770  |             |  3.5s"
       ]
      },
      {
       "output_type": "stream",
       "stream": "stdout",
       "text": [
        "\n",
        "   644  |    0.010530  |    0.010456  |     1.007022  |             |  3.5s"
       ]
      },
      {
       "output_type": "stream",
       "stream": "stdout",
       "text": [
        "\n",
        "   645  |    0.010511  |    0.010473  |     1.003678  |             |  3.5s"
       ]
      },
      {
       "output_type": "stream",
       "stream": "stdout",
       "text": [
        "\n",
        "   646  |  \u001b[94m  0.010444\u001b[0m  |    0.010455  |     0.998885  |             |  3.5s"
       ]
      },
      {
       "output_type": "stream",
       "stream": "stdout",
       "text": [
        "\n",
        "   647  |    0.010452  |    0.010429  |     1.002248  |             |  3.5s"
       ]
      },
      {
       "output_type": "stream",
       "stream": "stdout",
       "text": [
        "\n",
        "   648  |    0.010499  |  \u001b[32m  0.010419\u001b[0m  |     1.007706  |             |  3.5s"
       ]
      },
      {
       "output_type": "stream",
       "stream": "stdout",
       "text": [
        "\n",
        "   649  |    0.010457  |  \u001b[32m  0.010416\u001b[0m  |     1.003965  |             |  3.5s"
       ]
      },
      {
       "output_type": "stream",
       "stream": "stdout",
       "text": [
        "\n",
        "   650  |  \u001b[94m  0.010410\u001b[0m  |  \u001b[32m  0.010415\u001b[0m  |     0.999482  |             |  3.5s"
       ]
      },
      {
       "output_type": "stream",
       "stream": "stdout",
       "text": [
        "\n",
        "   651  |    0.010470  |  \u001b[32m  0.010404\u001b[0m  |     1.006378  |             |  3.5s"
       ]
      },
      {
       "output_type": "stream",
       "stream": "stdout",
       "text": [
        "\n",
        "   652  |    0.010460  |  \u001b[32m  0.010386\u001b[0m  |     1.007150  |             |  3.5s"
       ]
      },
      {
       "output_type": "stream",
       "stream": "stdout",
       "text": [
        "\n",
        "   653  |    0.010410  |    0.010403  |     1.000721  |             |  3.5s"
       ]
      },
      {
       "output_type": "stream",
       "stream": "stdout",
       "text": [
        "\n",
        "   654  |    0.010457  |  \u001b[32m  0.010364\u001b[0m  |     1.008985  |             |  3.5s"
       ]
      },
      {
       "output_type": "stream",
       "stream": "stdout",
       "text": [
        "\n",
        "   655  |  \u001b[94m  0.010340\u001b[0m  |    0.010372  |     0.996915  |             |  3.5s"
       ]
      },
      {
       "output_type": "stream",
       "stream": "stdout",
       "text": [
        "\n",
        "   656  |    0.010403  |    0.010395  |     1.000789  |             |  3.5s"
       ]
      },
      {
       "output_type": "stream",
       "stream": "stdout",
       "text": [
        "\n",
        "   657  |    0.010492  |    0.010368  |     1.011901  |             |  3.5s"
       ]
      },
      {
       "output_type": "stream",
       "stream": "stdout",
       "text": [
        "\n",
        "   658  |    0.010464  |    0.010375  |     1.008549  |             |  3.5s"
       ]
      },
      {
       "output_type": "stream",
       "stream": "stdout",
       "text": [
        "\n",
        "   659  |    0.010373  |  \u001b[32m  0.010360\u001b[0m  |     1.001260  |             |  3.5s"
       ]
      },
      {
       "output_type": "stream",
       "stream": "stdout",
       "text": [
        "\n",
        "   660  |  \u001b[94m  0.010303\u001b[0m  |    0.010393  |     0.991305  |             |  3.5s"
       ]
      },
      {
       "output_type": "stream",
       "stream": "stdout",
       "text": [
        "\n",
        "   661  |    0.010342  |    0.010378  |     0.996473  |             |  3.5s"
       ]
      },
      {
       "output_type": "stream",
       "stream": "stdout",
       "text": [
        "\n",
        "   662  |    0.010322  |    0.010364  |     0.995890  |             |  3.5s"
       ]
      },
      {
       "output_type": "stream",
       "stream": "stdout",
       "text": [
        "\n",
        "   663  |    0.010334  |    0.010392  |     0.994432  |             |  3.5s"
       ]
      },
      {
       "output_type": "stream",
       "stream": "stdout",
       "text": [
        "\n",
        "   664  |    0.010324  |  \u001b[32m  0.010358\u001b[0m  |     0.996637  |             |  3.5s"
       ]
      },
      {
       "output_type": "stream",
       "stream": "stdout",
       "text": [
        "\n",
        "   665  |    0.010321  |  \u001b[32m  0.010331\u001b[0m  |     0.999033  |             |  3.5s"
       ]
      },
      {
       "output_type": "stream",
       "stream": "stdout",
       "text": [
        "\n",
        "   666  |    0.010323  |    0.010333  |     0.999042  |             |  3.5s"
       ]
      },
      {
       "output_type": "stream",
       "stream": "stdout",
       "text": [
        "\n",
        "   667  |  \u001b[94m  0.010255\u001b[0m  |    0.010345  |     0.991332  |             |  3.5s"
       ]
      },
      {
       "output_type": "stream",
       "stream": "stdout",
       "text": [
        "\n",
        "   668  |    0.010368  |  \u001b[32m  0.010324\u001b[0m  |     1.004299  |             |  3.5s"
       ]
      },
      {
       "output_type": "stream",
       "stream": "stdout",
       "text": [
        "\n",
        "   669  |    0.010290  |    0.010333  |     0.995809  |             |  3.5s"
       ]
      },
      {
       "output_type": "stream",
       "stream": "stdout",
       "text": [
        "\n",
        "   670  |    0.010284  |  \u001b[32m  0.010313\u001b[0m  |     0.997162  |             |  3.5s"
       ]
      },
      {
       "output_type": "stream",
       "stream": "stdout",
       "text": [
        "\n",
        "   671  |    0.010281  |    0.010330  |     0.995244  |             |  3.5s"
       ]
      },
      {
       "output_type": "stream",
       "stream": "stdout",
       "text": [
        "\n",
        "   672  |    0.010275  |    0.010346  |     0.993078  |             |  3.5s"
       ]
      },
      {
       "output_type": "stream",
       "stream": "stdout",
       "text": [
        "\n",
        "   673  |    0.010278  |    0.010326  |     0.995342  |             |  3.5s"
       ]
      },
      {
       "output_type": "stream",
       "stream": "stdout",
       "text": [
        "\n",
        "   674  |    0.010272  |  \u001b[32m  0.010303\u001b[0m  |     0.997026  |             |  3.5s"
       ]
      },
      {
       "output_type": "stream",
       "stream": "stdout",
       "text": [
        "\n",
        "   675  |    0.010282  |  \u001b[32m  0.010272\u001b[0m  |     1.001047  |             |  3.5s"
       ]
      },
      {
       "output_type": "stream",
       "stream": "stdout",
       "text": [
        "\n",
        "   676  |    0.010281  |    0.010274  |     1.000639  |             |  3.5s"
       ]
      },
      {
       "output_type": "stream",
       "stream": "stdout",
       "text": [
        "\n",
        "   677  |  \u001b[94m  0.010207\u001b[0m  |  \u001b[32m  0.010266\u001b[0m  |     0.994256  |             |  3.5s"
       ]
      },
      {
       "output_type": "stream",
       "stream": "stdout",
       "text": [
        "\n",
        "   678  |  \u001b[94m  0.010168\u001b[0m  |    0.010287  |     0.988400  |             |  3.5s"
       ]
      },
      {
       "output_type": "stream",
       "stream": "stdout",
       "text": [
        "\n",
        "   679  |    0.010223  |    0.010293  |     0.993146  |             |  3.5s"
       ]
      },
      {
       "output_type": "stream",
       "stream": "stdout",
       "text": [
        "\n",
        "   680  |  \u001b[94m  0.010149\u001b[0m  |    0.010267  |     0.988494  |             |  3.5s"
       ]
      },
      {
       "output_type": "stream",
       "stream": "stdout",
       "text": [
        "\n",
        "   681  |    0.010185  |    0.010286  |     0.990109  |             |  3.5s"
       ]
      },
      {
       "output_type": "stream",
       "stream": "stdout",
       "text": [
        "\n",
        "   682  |    0.010191  |    0.010268  |     0.992443  |             |  3.5s"
       ]
      },
      {
       "output_type": "stream",
       "stream": "stdout",
       "text": [
        "\n",
        "   683  |  \u001b[94m  0.010145\u001b[0m  |  \u001b[32m  0.010259\u001b[0m  |     0.988856  |             |  3.5s"
       ]
      },
      {
       "output_type": "stream",
       "stream": "stdout",
       "text": [
        "\n",
        "   684  |  \u001b[94m  0.010127\u001b[0m  |  \u001b[32m  0.010239\u001b[0m  |     0.989071  |             |  3.5s"
       ]
      },
      {
       "output_type": "stream",
       "stream": "stdout",
       "text": [
        "\n",
        "   685  |    0.010137  |    0.010275  |     0.986553  |             |  3.5s"
       ]
      },
      {
       "output_type": "stream",
       "stream": "stdout",
       "text": [
        "\n",
        "   686  |    0.010154  |    0.010256  |     0.990021  |             |  3.5s"
       ]
      },
      {
       "output_type": "stream",
       "stream": "stdout",
       "text": [
        "\n",
        "   687  |    0.010173  |    0.010286  |     0.989001  |             |  3.5s"
       ]
      },
      {
       "output_type": "stream",
       "stream": "stdout",
       "text": [
        "\n",
        "   688  |  \u001b[94m  0.010122\u001b[0m  |    0.010258  |     0.986762  |             |  3.5s"
       ]
      },
      {
       "output_type": "stream",
       "stream": "stdout",
       "text": [
        "\n",
        "   689  |  \u001b[94m  0.010099\u001b[0m  |    0.010243  |     0.986007  |             |  3.5s"
       ]
      },
      {
       "output_type": "stream",
       "stream": "stdout",
       "text": [
        "\n",
        "   690  |    0.010154  |    0.010251  |     0.990460  |             |  3.5s"
       ]
      },
      {
       "output_type": "stream",
       "stream": "stdout",
       "text": [
        "\n",
        "   691  |    0.010112  |    0.010251  |     0.986443  |             |  3.5s"
       ]
      },
      {
       "output_type": "stream",
       "stream": "stdout",
       "text": [
        "\n",
        "   692  |    0.010170  |    0.010241  |     0.993074  |             |  3.5s"
       ]
      },
      {
       "output_type": "stream",
       "stream": "stdout",
       "text": [
        "\n",
        "   693  |    0.010155  |  \u001b[32m  0.010225\u001b[0m  |     0.993210  |             |  3.5s"
       ]
      },
      {
       "output_type": "stream",
       "stream": "stdout",
       "text": [
        "\n",
        "   694  |  \u001b[94m  0.010097\u001b[0m  |    0.010233  |     0.986719  |             |  3.5s"
       ]
      },
      {
       "output_type": "stream",
       "stream": "stdout",
       "text": [
        "\n",
        "   695  |  \u001b[94m  0.009954\u001b[0m  |    0.010239  |     0.972099  |             |  3.5s"
       ]
      },
      {
       "output_type": "stream",
       "stream": "stdout",
       "text": [
        "\n",
        "   696  |    0.010129  |  \u001b[32m  0.010220\u001b[0m  |     0.991072  |             |  3.5s"
       ]
      },
      {
       "output_type": "stream",
       "stream": "stdout",
       "text": [
        "\n",
        "   697  |    0.010049  |  \u001b[32m  0.010211\u001b[0m  |     0.984112  |             |  3.5s"
       ]
      },
      {
       "output_type": "stream",
       "stream": "stdout",
       "text": [
        "\n",
        "   698  |    0.010069  |  \u001b[32m  0.010210\u001b[0m  |     0.986169  |             |  3.5s"
       ]
      },
      {
       "output_type": "stream",
       "stream": "stdout",
       "text": [
        "\n",
        "   699  |    0.010030  |  \u001b[32m  0.010193\u001b[0m  |     0.984066  |             |  3.5s"
       ]
      },
      {
       "output_type": "stream",
       "stream": "stdout",
       "text": [
        "\n",
        "   700  |  \u001b[94m  0.009929\u001b[0m  |    0.010214  |     0.972086  |             |  3.5s"
       ]
      },
      {
       "output_type": "stream",
       "stream": "stdout",
       "text": [
        "\n",
        "   701  |    0.009979  |    0.010195  |     0.978791  |             |  3.5s"
       ]
      },
      {
       "output_type": "stream",
       "stream": "stdout",
       "text": [
        "\n",
        "   702  |    0.010081  |    0.010193  |     0.989051  |             |  3.5s"
       ]
      },
      {
       "output_type": "stream",
       "stream": "stdout",
       "text": [
        "\n",
        "   703  |    0.010077  |  \u001b[32m  0.010183\u001b[0m  |     0.989570  |             |  3.5s"
       ]
      },
      {
       "output_type": "stream",
       "stream": "stdout",
       "text": [
        "\n",
        "   704  |    0.009991  |  \u001b[32m  0.010154\u001b[0m  |     0.983884  |             |  3.5s"
       ]
      },
      {
       "output_type": "stream",
       "stream": "stdout",
       "text": [
        "\n",
        "   705  |  \u001b[94m  0.009915\u001b[0m  |    0.010182  |     0.973776  |             |  3.5s"
       ]
      },
      {
       "output_type": "stream",
       "stream": "stdout",
       "text": [
        "\n",
        "   706  |    0.009970  |    0.010179  |     0.979484  |             |  3.5s"
       ]
      },
      {
       "output_type": "stream",
       "stream": "stdout",
       "text": [
        "\n",
        "   707  |    0.009987  |    0.010171  |     0.981906  |             |  3.5s"
       ]
      },
      {
       "output_type": "stream",
       "stream": "stdout",
       "text": [
        "\n",
        "   708  |    0.009980  |    0.010172  |     0.981076  |             |  3.5s"
       ]
      },
      {
       "output_type": "stream",
       "stream": "stdout",
       "text": [
        "\n",
        "   709  |    0.009931  |  \u001b[32m  0.010128\u001b[0m  |     0.980499  |             |  3.5s"
       ]
      },
      {
       "output_type": "stream",
       "stream": "stdout",
       "text": [
        "\n",
        "   710  |  \u001b[94m  0.009877\u001b[0m  |    0.010141  |     0.974026  |             |  3.5s"
       ]
      },
      {
       "output_type": "stream",
       "stream": "stdout",
       "text": [
        "\n",
        "   711  |    0.009879  |    0.010149  |     0.973353  |             |  3.5s"
       ]
      },
      {
       "output_type": "stream",
       "stream": "stdout",
       "text": [
        "\n",
        "   712  |    0.009910  |    0.010149  |     0.976426  |             |  3.5s"
       ]
      },
      {
       "output_type": "stream",
       "stream": "stdout",
       "text": [
        "\n",
        "   713  |    0.009903  |    0.010156  |     0.975079  |             |  3.5s"
       ]
      },
      {
       "output_type": "stream",
       "stream": "stdout",
       "text": [
        "\n",
        "   714  |  \u001b[94m  0.009860\u001b[0m  |  \u001b[32m  0.010117\u001b[0m  |     0.974609  |             |  3.5s"
       ]
      },
      {
       "output_type": "stream",
       "stream": "stdout",
       "text": [
        "\n",
        "   715  |  \u001b[94m  0.009814\u001b[0m  |    0.010156  |     0.966322  |             |  3.5s"
       ]
      },
      {
       "output_type": "stream",
       "stream": "stdout",
       "text": [
        "\n",
        "   716  |    0.009928  |    0.010138  |     0.979311  |             |  3.5s"
       ]
      },
      {
       "output_type": "stream",
       "stream": "stdout",
       "text": [
        "\n",
        "   717  |    0.009912  |    0.010169  |     0.974772  |             |  3.5s"
       ]
      },
      {
       "output_type": "stream",
       "stream": "stdout",
       "text": [
        "\n",
        "   718  |  \u001b[94m  0.009787\u001b[0m  |    0.010128  |     0.966386  |             |  3.5s"
       ]
      },
      {
       "output_type": "stream",
       "stream": "stdout",
       "text": [
        "\n",
        "   719  |    0.009894  |    0.010141  |     0.975605  |             |  3.5s"
       ]
      },
      {
       "output_type": "stream",
       "stream": "stdout",
       "text": [
        "\n",
        "   720  |    0.009834  |  \u001b[32m  0.010106\u001b[0m  |     0.973131  |             |  3.5s"
       ]
      },
      {
       "output_type": "stream",
       "stream": "stdout",
       "text": [
        "\n",
        "   721  |    0.009883  |    0.010111  |     0.977480  |             |  3.5s"
       ]
      },
      {
       "output_type": "stream",
       "stream": "stdout",
       "text": [
        "\n",
        "   722  |    0.009823  |    0.010114  |     0.971256  |             |  3.5s"
       ]
      },
      {
       "output_type": "stream",
       "stream": "stdout",
       "text": [
        "\n",
        "   723  |  \u001b[94m  0.009766\u001b[0m  |  \u001b[32m  0.010104\u001b[0m  |     0.966541  |             |  3.5s"
       ]
      },
      {
       "output_type": "stream",
       "stream": "stdout",
       "text": [
        "\n",
        "   724  |    0.009892  |    0.010104  |     0.979001  |             |  3.5s"
       ]
      },
      {
       "output_type": "stream",
       "stream": "stdout",
       "text": [
        "\n",
        "   725  |    0.009826  |  \u001b[32m  0.010092\u001b[0m  |     0.973599  |             |  3.5s"
       ]
      },
      {
       "output_type": "stream",
       "stream": "stdout",
       "text": [
        "\n",
        "   726  |  \u001b[94m  0.009725\u001b[0m  |    0.010126  |     0.960393  |             |  3.5s"
       ]
      },
      {
       "output_type": "stream",
       "stream": "stdout",
       "text": [
        "\n",
        "   727  |    0.009809  |  \u001b[32m  0.010091\u001b[0m  |     0.972042  |             |  3.5s"
       ]
      },
      {
       "output_type": "stream",
       "stream": "stdout",
       "text": [
        "\n",
        "   728  |    0.009775  |    0.010112  |     0.966681  |             |  3.5s"
       ]
      },
      {
       "output_type": "stream",
       "stream": "stdout",
       "text": [
        "\n",
        "   729  |    0.009747  |  \u001b[32m  0.010055\u001b[0m  |     0.969427  |             |  3.5s"
       ]
      },
      {
       "output_type": "stream",
       "stream": "stdout",
       "text": [
        "\n",
        "   730  |    0.009772  |    0.010104  |     0.967137  |             |  3.5s"
       ]
      },
      {
       "output_type": "stream",
       "stream": "stdout",
       "text": [
        "\n",
        "   731  |    0.009728  |    0.010063  |     0.966682  |             |  3.5s"
       ]
      },
      {
       "output_type": "stream",
       "stream": "stdout",
       "text": [
        "\n",
        "   732  |  \u001b[94m  0.009717\u001b[0m  |    0.010090  |     0.963046  |             |  3.5s"
       ]
      },
      {
       "output_type": "stream",
       "stream": "stdout",
       "text": [
        "\n",
        "   733  |    0.009832  |    0.010081  |     0.975248  |             |  3.5s"
       ]
      },
      {
       "output_type": "stream",
       "stream": "stdout",
       "text": [
        "\n",
        "   734  |    0.009802  |    0.010071  |     0.973338  |             |  3.5s"
       ]
      },
      {
       "output_type": "stream",
       "stream": "stdout",
       "text": [
        "\n",
        "   735  |    0.009785  |    0.010068  |     0.971896  |             |  3.5s"
       ]
      },
      {
       "output_type": "stream",
       "stream": "stdout",
       "text": [
        "\n",
        "   736  |  \u001b[94m  0.009664\u001b[0m  |  \u001b[32m  0.010047\u001b[0m  |     0.961864  |             |  3.5s"
       ]
      },
      {
       "output_type": "stream",
       "stream": "stdout",
       "text": [
        "\n",
        "   737  |    0.009746  |    0.010047  |     0.970056  |             |  3.5s"
       ]
      },
      {
       "output_type": "stream",
       "stream": "stdout",
       "text": [
        "\n",
        "   738  |    0.009681  |  \u001b[32m  0.010041\u001b[0m  |     0.964147  |             |  3.5s"
       ]
      },
      {
       "output_type": "stream",
       "stream": "stdout",
       "text": [
        "\n",
        "   739  |    0.009689  |    0.010067  |     0.962468  |             |  3.5s"
       ]
      },
      {
       "output_type": "stream",
       "stream": "stdout",
       "text": [
        "\n",
        "   740  |    0.009694  |    0.010053  |     0.964255  |             |  3.5s"
       ]
      },
      {
       "output_type": "stream",
       "stream": "stdout",
       "text": [
        "\n",
        "   741  |    0.009688  |    0.010080  |     0.961163  |             |  3.5s"
       ]
      },
      {
       "output_type": "stream",
       "stream": "stdout",
       "text": [
        "\n",
        "   742  |    0.009678  |    0.010051  |     0.962836  |             |  3.5s"
       ]
      },
      {
       "output_type": "stream",
       "stream": "stdout",
       "text": [
        "\n",
        "   743  |    0.009708  |  \u001b[32m  0.010016\u001b[0m  |     0.969230  |             |  3.5s"
       ]
      },
      {
       "output_type": "stream",
       "stream": "stdout",
       "text": [
        "\n",
        "   744  |  \u001b[94m  0.009524\u001b[0m  |    0.010055  |     0.947172  |             |  3.5s"
       ]
      },
      {
       "output_type": "stream",
       "stream": "stdout",
       "text": [
        "\n",
        "   745  |    0.009677  |    0.010050  |     0.962943  |             |  3.5s"
       ]
      },
      {
       "output_type": "stream",
       "stream": "stdout",
       "text": [
        "\n",
        "   746  |    0.009640  |  \u001b[32m  0.010013\u001b[0m  |     0.962681  |             |  3.5s"
       ]
      },
      {
       "output_type": "stream",
       "stream": "stdout",
       "text": [
        "\n",
        "   747  |    0.009623  |    0.010017  |     0.960706  |             |  3.5s"
       ]
      },
      {
       "output_type": "stream",
       "stream": "stdout",
       "text": [
        "\n",
        "   748  |    0.009636  |  \u001b[32m  0.009994\u001b[0m  |     0.964218  |             |  3.5s"
       ]
      },
      {
       "output_type": "stream",
       "stream": "stdout",
       "text": [
        "\n",
        "   749  |    0.009590  |    0.010001  |     0.958849  |             |  3.5s"
       ]
      },
      {
       "output_type": "stream",
       "stream": "stdout",
       "text": [
        "\n",
        "   750  |    0.009598  |    0.010000  |     0.959878  |             |  3.5s"
       ]
      },
      {
       "output_type": "stream",
       "stream": "stdout",
       "text": [
        "\n",
        "   751  |    0.009621  |    0.010021  |     0.960043  |             |  3.5s"
       ]
      },
      {
       "output_type": "stream",
       "stream": "stdout",
       "text": [
        "\n",
        "   752  |    0.009542  |    0.009996  |     0.954620  |             |  3.5s"
       ]
      },
      {
       "output_type": "stream",
       "stream": "stdout",
       "text": [
        "\n",
        "   753  |    0.009547  |    0.010009  |     0.953790  |             |  3.5s"
       ]
      },
      {
       "output_type": "stream",
       "stream": "stdout",
       "text": [
        "\n",
        "   754  |  \u001b[94m  0.009510\u001b[0m  |  \u001b[32m  0.009977\u001b[0m  |     0.953168  |             |  3.5s"
       ]
      },
      {
       "output_type": "stream",
       "stream": "stdout",
       "text": [
        "\n",
        "   755  |  \u001b[94m  0.009381\u001b[0m  |  \u001b[32m  0.009974\u001b[0m  |     0.940488  |             |  3.5s"
       ]
      },
      {
       "output_type": "stream",
       "stream": "stdout",
       "text": [
        "\n",
        "   756  |    0.009552  |  \u001b[32m  0.009971\u001b[0m  |     0.957946  |             |  3.5s"
       ]
      },
      {
       "output_type": "stream",
       "stream": "stdout",
       "text": [
        "\n",
        "   757  |    0.009645  |    0.009986  |     0.965838  |             |  3.5s"
       ]
      },
      {
       "output_type": "stream",
       "stream": "stdout",
       "text": [
        "\n",
        "   758  |    0.009594  |    0.009984  |     0.960978  |             |  3.5s"
       ]
      },
      {
       "output_type": "stream",
       "stream": "stdout",
       "text": [
        "\n",
        "   759  |    0.009507  |    0.009977  |     0.952964  |             |  3.5s"
       ]
      },
      {
       "output_type": "stream",
       "stream": "stdout",
       "text": [
        "\n",
        "   760  |    0.009510  |    0.009992  |     0.951807  |             |  3.5s"
       ]
      },
      {
       "output_type": "stream",
       "stream": "stdout",
       "text": [
        "\n",
        "   761  |    0.009475  |  \u001b[32m  0.009967\u001b[0m  |     0.950694  |             |  3.5s"
       ]
      },
      {
       "output_type": "stream",
       "stream": "stdout",
       "text": [
        "\n",
        "   762  |    0.009476  |  \u001b[32m  0.009943\u001b[0m  |     0.953069  |             |  3.5s"
       ]
      },
      {
       "output_type": "stream",
       "stream": "stdout",
       "text": [
        "\n",
        "   763  |    0.009502  |    0.009984  |     0.951745  |             |  3.5s"
       ]
      },
      {
       "output_type": "stream",
       "stream": "stdout",
       "text": [
        "\n",
        "   764  |    0.009527  |    0.009950  |     0.957454  |             |  3.5s"
       ]
      },
      {
       "output_type": "stream",
       "stream": "stdout",
       "text": [
        "\n",
        "   765  |    0.009475  |    0.009959  |     0.951434  |             |  3.5s"
       ]
      },
      {
       "output_type": "stream",
       "stream": "stdout",
       "text": [
        "\n",
        "   766  |    0.009573  |    0.009963  |     0.960796  |             |  3.5s"
       ]
      },
      {
       "output_type": "stream",
       "stream": "stdout",
       "text": [
        "\n",
        "   767  |    0.009455  |    0.009955  |     0.949847  |             |  3.5s"
       ]
      },
      {
       "output_type": "stream",
       "stream": "stdout",
       "text": [
        "\n",
        "   768  |    0.009416  |    0.009966  |     0.944888  |             |  3.5s"
       ]
      },
      {
       "output_type": "stream",
       "stream": "stdout",
       "text": [
        "\n",
        "   769  |    0.009437  |  \u001b[32m  0.009922\u001b[0m  |     0.951118  |             |  3.5s"
       ]
      },
      {
       "output_type": "stream",
       "stream": "stdout",
       "text": [
        "\n",
        "   770  |    0.009550  |  \u001b[32m  0.009916\u001b[0m  |     0.963000  |             |  3.5s"
       ]
      },
      {
       "output_type": "stream",
       "stream": "stdout",
       "text": [
        "\n",
        "   771  |    0.009424  |    0.009941  |     0.948042  |             |  3.5s"
       ]
      },
      {
       "output_type": "stream",
       "stream": "stdout",
       "text": [
        "\n",
        "   772  |    0.009497  |    0.009921  |     0.957300  |             |  3.5s"
       ]
      },
      {
       "output_type": "stream",
       "stream": "stdout",
       "text": [
        "\n",
        "   773  |    0.009404  |    0.009922  |     0.947813  |             |  3.5s"
       ]
      },
      {
       "output_type": "stream",
       "stream": "stdout",
       "text": [
        "\n",
        "   774  |    0.009444  |    0.009916  |     0.952392  |             |  3.5s"
       ]
      },
      {
       "output_type": "stream",
       "stream": "stdout",
       "text": [
        "\n",
        "   775  |  \u001b[94m  0.009358\u001b[0m  |    0.009940  |     0.941424  |             |  3.5s"
       ]
      },
      {
       "output_type": "stream",
       "stream": "stdout",
       "text": [
        "\n",
        "   776  |    0.009397  |  \u001b[32m  0.009916\u001b[0m  |     0.947717  |             |  3.5s"
       ]
      },
      {
       "output_type": "stream",
       "stream": "stdout",
       "text": [
        "\n",
        "   777  |  \u001b[94m  0.009307\u001b[0m  |    0.009934  |     0.936881  |             |  3.5s"
       ]
      },
      {
       "output_type": "stream",
       "stream": "stdout",
       "text": [
        "\n",
        "   778  |    0.009445  |  \u001b[32m  0.009887\u001b[0m  |     0.955383  |             |  3.5s"
       ]
      },
      {
       "output_type": "stream",
       "stream": "stdout",
       "text": [
        "\n",
        "   779  |    0.009312  |    0.009889  |     0.941597  |             |  3.5s"
       ]
      },
      {
       "output_type": "stream",
       "stream": "stdout",
       "text": [
        "\n",
        "   780  |    0.009354  |    0.009891  |     0.945713  |             |  3.5s"
       ]
      },
      {
       "output_type": "stream",
       "stream": "stdout",
       "text": [
        "\n",
        "   781  |    0.009346  |    0.009899  |     0.944207  |             |  3.5s"
       ]
      },
      {
       "output_type": "stream",
       "stream": "stdout",
       "text": [
        "\n",
        "   782  |  \u001b[94m  0.009306\u001b[0m  |  \u001b[32m  0.009885\u001b[0m  |     0.941495  |             |  3.5s"
       ]
      },
      {
       "output_type": "stream",
       "stream": "stdout",
       "text": [
        "\n",
        "   783  |    0.009347  |    0.009909  |     0.943227  |             |  3.5s"
       ]
      },
      {
       "output_type": "stream",
       "stream": "stdout",
       "text": [
        "\n",
        "   784  |    0.009321  |    0.009891  |     0.942358  |             |  3.5s"
       ]
      },
      {
       "output_type": "stream",
       "stream": "stdout",
       "text": [
        "\n",
        "   785  |    0.009366  |    0.009909  |     0.945282  |             |  3.5s"
       ]
      },
      {
       "output_type": "stream",
       "stream": "stdout",
       "text": [
        "\n",
        "   786  |  \u001b[94m  0.009297\u001b[0m  |    0.009890  |     0.940073  |             |  3.5s"
       ]
      },
      {
       "output_type": "stream",
       "stream": "stdout",
       "text": [
        "\n",
        "   787  |  \u001b[94m  0.009294\u001b[0m  |    0.009898  |     0.938954  |             |  3.5s"
       ]
      },
      {
       "output_type": "stream",
       "stream": "stdout",
       "text": [
        "\n",
        "   788  |    0.009300  |    0.009897  |     0.939686  |             |  3.5s"
       ]
      },
      {
       "output_type": "stream",
       "stream": "stdout",
       "text": [
        "\n",
        "   789  |  \u001b[94m  0.009259\u001b[0m  |  \u001b[32m  0.009851\u001b[0m  |     0.939824  |             |  3.5s"
       ]
      },
      {
       "output_type": "stream",
       "stream": "stdout",
       "text": [
        "\n",
        "   790  |    0.009313  |    0.009872  |     0.943407  |             |  3.5s"
       ]
      },
      {
       "output_type": "stream",
       "stream": "stdout",
       "text": [
        "\n",
        "   791  |  \u001b[94m  0.009255\u001b[0m  |    0.009865  |     0.938169  |             |  3.5s"
       ]
      },
      {
       "output_type": "stream",
       "stream": "stdout",
       "text": [
        "\n",
        "   792  |    0.009368  |    0.009882  |     0.947997  |             |  3.5s"
       ]
      },
      {
       "output_type": "stream",
       "stream": "stdout",
       "text": [
        "\n",
        "   793  |  \u001b[94m  0.009204\u001b[0m  |  \u001b[32m  0.009823\u001b[0m  |     0.936958  |             |  3.5s"
       ]
      },
      {
       "output_type": "stream",
       "stream": "stdout",
       "text": [
        "\n",
        "   794  |  \u001b[94m  0.009166\u001b[0m  |    0.009854  |     0.930188  |             |  3.5s"
       ]
      },
      {
       "output_type": "stream",
       "stream": "stdout",
       "text": [
        "\n",
        "   795  |    0.009180  |    0.009860  |     0.931004  |             |  3.5s"
       ]
      },
      {
       "output_type": "stream",
       "stream": "stdout",
       "text": [
        "\n",
        "   796  |    0.009269  |    0.009845  |     0.941508  |             |  3.5s"
       ]
      },
      {
       "output_type": "stream",
       "stream": "stdout",
       "text": [
        "\n",
        "   797  |    0.009267  |    0.009849  |     0.940949  |             |  3.5s"
       ]
      },
      {
       "output_type": "stream",
       "stream": "stdout",
       "text": [
        "\n",
        "   798  |    0.009265  |    0.009840  |     0.941497  |             |  3.5s"
       ]
      },
      {
       "output_type": "stream",
       "stream": "stdout",
       "text": [
        "\n",
        "   799  |    0.009216  |    0.009842  |     0.936435  |             |  3.5s"
       ]
      },
      {
       "output_type": "stream",
       "stream": "stdout",
       "text": [
        "\n",
        "   800  |    0.009179  |    0.009834  |     0.933438  |             |  3.5s"
       ]
      },
      {
       "output_type": "stream",
       "stream": "stdout",
       "text": [
        "\n",
        "   801  |    0.009270  |    0.009860  |     0.940235  |             |  3.5s"
       ]
      },
      {
       "output_type": "stream",
       "stream": "stdout",
       "text": [
        "\n",
        "   802  |    0.009206  |  \u001b[32m  0.009815\u001b[0m  |     0.937976  |             |  3.5s"
       ]
      },
      {
       "output_type": "stream",
       "stream": "stdout",
       "text": [
        "\n",
        "   803  |    0.009169  |    0.009830  |     0.932742  |             |  3.5s"
       ]
      },
      {
       "output_type": "stream",
       "stream": "stdout",
       "text": [
        "\n",
        "   804  |    0.009271  |  \u001b[32m  0.009814\u001b[0m  |     0.944657  |             |  3.5s"
       ]
      },
      {
       "output_type": "stream",
       "stream": "stdout",
       "text": [
        "\n",
        "   805  |    0.009196  |  \u001b[32m  0.009786\u001b[0m  |     0.939771  |             |  3.5s"
       ]
      },
      {
       "output_type": "stream",
       "stream": "stdout",
       "text": [
        "\n",
        "   806  |  \u001b[94m  0.009121\u001b[0m  |    0.009811  |     0.929623  |             |  3.5s"
       ]
      },
      {
       "output_type": "stream",
       "stream": "stdout",
       "text": [
        "\n",
        "   807  |  \u001b[94m  0.009075\u001b[0m  |    0.009795  |     0.926488  |             |  3.5s"
       ]
      },
      {
       "output_type": "stream",
       "stream": "stdout",
       "text": [
        "\n",
        "   808  |    0.009183  |  \u001b[32m  0.009778\u001b[0m  |     0.939167  |             |  3.5s"
       ]
      },
      {
       "output_type": "stream",
       "stream": "stdout",
       "text": [
        "\n",
        "   809  |    0.009102  |    0.009783  |     0.930367  |             |  3.5s"
       ]
      },
      {
       "output_type": "stream",
       "stream": "stdout",
       "text": [
        "\n",
        "   810  |    0.009106  |    0.009823  |     0.926973  |             |  3.5s"
       ]
      },
      {
       "output_type": "stream",
       "stream": "stdout",
       "text": [
        "\n",
        "   811  |    0.009155  |    0.009780  |     0.936077  |             |  3.5s"
       ]
      },
      {
       "output_type": "stream",
       "stream": "stdout",
       "text": [
        "\n",
        "   812  |    0.009120  |    0.009799  |     0.930750  |             |  3.5s"
       ]
      },
      {
       "output_type": "stream",
       "stream": "stdout",
       "text": [
        "\n",
        "   813  |    0.009147  |    0.009795  |     0.933874  |             |  3.5s"
       ]
      },
      {
       "output_type": "stream",
       "stream": "stdout",
       "text": [
        "\n",
        "   814  |  \u001b[94m  0.009069\u001b[0m  |    0.009808  |     0.924695  |             |  3.5s"
       ]
      },
      {
       "output_type": "stream",
       "stream": "stdout",
       "text": [
        "\n",
        "   815  |  \u001b[94m  0.009063\u001b[0m  |  \u001b[32m  0.009776\u001b[0m  |     0.927093  |             |  3.5s"
       ]
      },
      {
       "output_type": "stream",
       "stream": "stdout",
       "text": [
        "\n",
        "   816  |  \u001b[94m  0.009021\u001b[0m  |  \u001b[32m  0.009753\u001b[0m  |     0.924982  |             |  3.5s"
       ]
      },
      {
       "output_type": "stream",
       "stream": "stdout",
       "text": [
        "\n",
        "   817  |    0.009143  |    0.009786  |     0.934302  |             |  3.5s"
       ]
      },
      {
       "output_type": "stream",
       "stream": "stdout",
       "text": [
        "\n",
        "   818  |    0.009081  |    0.009789  |     0.927699  |             |  3.5s"
       ]
      },
      {
       "output_type": "stream",
       "stream": "stdout",
       "text": [
        "\n",
        "   819  |    0.009060  |    0.009772  |     0.927140  |             |  3.5s"
       ]
      },
      {
       "output_type": "stream",
       "stream": "stdout",
       "text": [
        "\n",
        "   820  |  \u001b[94m  0.009012\u001b[0m  |    0.009762  |     0.923192  |             |  3.5s"
       ]
      },
      {
       "output_type": "stream",
       "stream": "stdout",
       "text": [
        "\n",
        "   821  |    0.009088  |    0.009768  |     0.930392  |             |  3.5s"
       ]
      },
      {
       "output_type": "stream",
       "stream": "stdout",
       "text": [
        "\n",
        "   822  |    0.009028  |    0.009772  |     0.923905  |             |  3.5s"
       ]
      },
      {
       "output_type": "stream",
       "stream": "stdout",
       "text": [
        "\n",
        "   823  |    0.009063  |  \u001b[32m  0.009727\u001b[0m  |     0.931685  |             |  3.5s"
       ]
      },
      {
       "output_type": "stream",
       "stream": "stdout",
       "text": [
        "\n",
        "   824  |  \u001b[94m  0.008999\u001b[0m  |    0.009761  |     0.921971  |             |  3.5s"
       ]
      },
      {
       "output_type": "stream",
       "stream": "stdout",
       "text": [
        "\n",
        "   825  |  \u001b[94m  0.008960\u001b[0m  |    0.009729  |     0.920916  |             |  3.5s"
       ]
      },
      {
       "output_type": "stream",
       "stream": "stdout",
       "text": [
        "\n",
        "   826  |    0.008988  |    0.009750  |     0.921796  |             |  3.5s"
       ]
      },
      {
       "output_type": "stream",
       "stream": "stdout",
       "text": [
        "\n",
        "   827  |    0.008969  |    0.009727  |     0.922057  |             |  3.5s"
       ]
      },
      {
       "output_type": "stream",
       "stream": "stdout",
       "text": [
        "\n",
        "   828  |  \u001b[94m  0.008950\u001b[0m  |    0.009735  |     0.919354  |             |  3.5s"
       ]
      },
      {
       "output_type": "stream",
       "stream": "stdout",
       "text": [
        "\n",
        "   829  |  \u001b[94m  0.008940\u001b[0m  |    0.009738  |     0.918038  |             |  3.5s"
       ]
      },
      {
       "output_type": "stream",
       "stream": "stdout",
       "text": [
        "\n",
        "   830  |  \u001b[94m  0.008898\u001b[0m  |  \u001b[32m  0.009716\u001b[0m  |     0.915731  |             |  3.5s"
       ]
      },
      {
       "output_type": "stream",
       "stream": "stdout",
       "text": [
        "\n",
        "   831  |    0.008950  |    0.009734  |     0.919513  |             |  3.5s"
       ]
      },
      {
       "output_type": "stream",
       "stream": "stdout",
       "text": [
        "\n",
        "   832  |    0.008951  |    0.009724  |     0.920499  |             |  3.5s"
       ]
      },
      {
       "output_type": "stream",
       "stream": "stdout",
       "text": [
        "\n",
        "   833  |    0.008973  |  \u001b[32m  0.009713\u001b[0m  |     0.923810  |             |  3.5s"
       ]
      },
      {
       "output_type": "stream",
       "stream": "stdout",
       "text": [
        "\n",
        "   834  |    0.008922  |    0.009734  |     0.916590  |             |  3.5s"
       ]
      },
      {
       "output_type": "stream",
       "stream": "stdout",
       "text": [
        "\n",
        "   835  |  \u001b[94m  0.008866\u001b[0m  |  \u001b[32m  0.009706\u001b[0m  |     0.913410  |             |  3.5s"
       ]
      },
      {
       "output_type": "stream",
       "stream": "stdout",
       "text": [
        "\n",
        "   836  |    0.008887  |    0.009719  |     0.914389  |             |  3.5s"
       ]
      },
      {
       "output_type": "stream",
       "stream": "stdout",
       "text": [
        "\n",
        "   837  |    0.008922  |  \u001b[32m  0.009699\u001b[0m  |     0.919904  |             |  3.5s"
       ]
      },
      {
       "output_type": "stream",
       "stream": "stdout",
       "text": [
        "\n",
        "   838  |  \u001b[94m  0.008799\u001b[0m  |    0.009701  |     0.907045  |             |  3.5s"
       ]
      },
      {
       "output_type": "stream",
       "stream": "stdout",
       "text": [
        "\n",
        "   839  |    0.008908  |    0.009724  |     0.916137  |             |  3.5s"
       ]
      },
      {
       "output_type": "stream",
       "stream": "stdout",
       "text": [
        "\n",
        "   840  |    0.008896  |  \u001b[32m  0.009690\u001b[0m  |     0.918053  |             |  3.5s"
       ]
      },
      {
       "output_type": "stream",
       "stream": "stdout",
       "text": [
        "\n",
        "   841  |    0.008884  |    0.009719  |     0.914052  |             |  3.5s"
       ]
      },
      {
       "output_type": "stream",
       "stream": "stdout",
       "text": [
        "\n",
        "   842  |    0.008888  |    0.009693  |     0.917004  |             |  3.5s"
       ]
      },
      {
       "output_type": "stream",
       "stream": "stdout",
       "text": [
        "\n",
        "   843  |    0.008818  |  \u001b[32m  0.009669\u001b[0m  |     0.912006  |             |  3.5s"
       ]
      },
      {
       "output_type": "stream",
       "stream": "stdout",
       "text": [
        "\n",
        "   844  |    0.008875  |    0.009712  |     0.913796  |             |  3.5s"
       ]
      },
      {
       "output_type": "stream",
       "stream": "stdout",
       "text": [
        "\n",
        "   845  |    0.008839  |    0.009704  |     0.910830  |             |  3.5s"
       ]
      },
      {
       "output_type": "stream",
       "stream": "stdout",
       "text": [
        "\n",
        "   846  |    0.008800  |    0.009686  |     0.908491  |             |  3.5s"
       ]
      },
      {
       "output_type": "stream",
       "stream": "stdout",
       "text": [
        "\n",
        "   847  |    0.008816  |  \u001b[32m  0.009659\u001b[0m  |     0.912710  |             |  3.5s"
       ]
      },
      {
       "output_type": "stream",
       "stream": "stdout",
       "text": [
        "\n",
        "   848  |    0.008811  |    0.009668  |     0.911366  |             |  3.5s"
       ]
      },
      {
       "output_type": "stream",
       "stream": "stdout",
       "text": [
        "\n",
        "   849  |    0.008836  |    0.009696  |     0.911320  |             |  3.5s"
       ]
      },
      {
       "output_type": "stream",
       "stream": "stdout",
       "text": [
        "\n",
        "   850  |    0.008821  |    0.009660  |     0.913082  |             |  3.5s"
       ]
      },
      {
       "output_type": "stream",
       "stream": "stdout",
       "text": [
        "\n",
        "   851  |  \u001b[94m  0.008713\u001b[0m  |    0.009664  |     0.901618  |             |  3.5s"
       ]
      },
      {
       "output_type": "stream",
       "stream": "stdout",
       "text": [
        "\n",
        "   852  |    0.008852  |    0.009680  |     0.914437  |             |  3.5s"
       ]
      },
      {
       "output_type": "stream",
       "stream": "stdout",
       "text": [
        "\n",
        "   853  |    0.008795  |  \u001b[32m  0.009650\u001b[0m  |     0.911376  |             |  3.5s"
       ]
      },
      {
       "output_type": "stream",
       "stream": "stdout",
       "text": [
        "\n",
        "   854  |    0.008836  |    0.009654  |     0.915298  |             |  3.5s"
       ]
      },
      {
       "output_type": "stream",
       "stream": "stdout",
       "text": [
        "\n",
        "   855  |    0.008805  |  \u001b[32m  0.009624\u001b[0m  |     0.914891  |             |  3.5s"
       ]
      },
      {
       "output_type": "stream",
       "stream": "stdout",
       "text": [
        "\n",
        "   856  |  \u001b[94m  0.008685\u001b[0m  |    0.009632  |     0.901645  |             |  3.5s"
       ]
      },
      {
       "output_type": "stream",
       "stream": "stdout",
       "text": [
        "\n",
        "   857  |    0.008726  |    0.009681  |     0.901325  |             |  3.5s"
       ]
      },
      {
       "output_type": "stream",
       "stream": "stdout",
       "text": [
        "\n",
        "   858  |    0.008692  |    0.009629  |     0.902754  |             |  3.5s"
       ]
      },
      {
       "output_type": "stream",
       "stream": "stdout",
       "text": [
        "\n",
        "   859  |    0.008755  |    0.009631  |     0.908978  |             |  3.5s"
       ]
      },
      {
       "output_type": "stream",
       "stream": "stdout",
       "text": [
        "\n",
        "   860  |    0.008713  |  \u001b[32m  0.009619\u001b[0m  |     0.905762  |             |  3.5s"
       ]
      },
      {
       "output_type": "stream",
       "stream": "stdout",
       "text": [
        "\n",
        "   861  |    0.008736  |    0.009659  |     0.904461  |             |  3.5s"
       ]
      },
      {
       "output_type": "stream",
       "stream": "stdout",
       "text": [
        "\n",
        "   862  |  \u001b[94m  0.008682\u001b[0m  |  \u001b[32m  0.009619\u001b[0m  |     0.902543  |             |  3.5s"
       ]
      },
      {
       "output_type": "stream",
       "stream": "stdout",
       "text": [
        "\n",
        "   863  |    0.008695  |    0.009650  |     0.901012  |             |  3.5s"
       ]
      },
      {
       "output_type": "stream",
       "stream": "stdout",
       "text": [
        "\n",
        "   864  |  \u001b[94m  0.008660\u001b[0m  |  \u001b[32m  0.009596\u001b[0m  |     0.902447  |             |  3.5s"
       ]
      },
      {
       "output_type": "stream",
       "stream": "stdout",
       "text": [
        "\n",
        "   865  |    0.008725  |    0.009620  |     0.907004  |             |  3.5s"
       ]
      },
      {
       "output_type": "stream",
       "stream": "stdout",
       "text": [
        "\n",
        "   866  |    0.008694  |    0.009610  |     0.904692  |             |  3.5s"
       ]
      },
      {
       "output_type": "stream",
       "stream": "stdout",
       "text": [
        "\n",
        "   867  |  \u001b[94m  0.008595\u001b[0m  |    0.009626  |     0.892876  |             |  3.5s"
       ]
      },
      {
       "output_type": "stream",
       "stream": "stdout",
       "text": [
        "\n",
        "   868  |    0.008616  |    0.009599  |     0.897639  |             |  3.5s"
       ]
      },
      {
       "output_type": "stream",
       "stream": "stdout",
       "text": [
        "\n",
        "   869  |    0.008690  |    0.009608  |     0.904483  |             |  3.5s"
       ]
      },
      {
       "output_type": "stream",
       "stream": "stdout",
       "text": [
        "\n",
        "   870  |    0.008631  |    0.009603  |     0.898839  |             |  3.5s"
       ]
      },
      {
       "output_type": "stream",
       "stream": "stdout",
       "text": [
        "\n",
        "   871  |  \u001b[94m  0.008542\u001b[0m  |    0.009622  |     0.887784  |             |  3.5s"
       ]
      },
      {
       "output_type": "stream",
       "stream": "stdout",
       "text": [
        "\n",
        "   872  |    0.008597  |  \u001b[32m  0.009569\u001b[0m  |     0.898362  |             |  3.5s"
       ]
      },
      {
       "output_type": "stream",
       "stream": "stdout",
       "text": [
        "\n",
        "   873  |    0.008548  |    0.009581  |     0.892145  |             |  3.5s"
       ]
      },
      {
       "output_type": "stream",
       "stream": "stdout",
       "text": [
        "\n",
        "   874  |    0.008560  |    0.009608  |     0.890984  |             |  3.5s"
       ]
      },
      {
       "output_type": "stream",
       "stream": "stdout",
       "text": [
        "\n",
        "   875  |  \u001b[94m  0.008523\u001b[0m  |    0.009588  |     0.888920  |             |  3.5s"
       ]
      },
      {
       "output_type": "stream",
       "stream": "stdout",
       "text": [
        "\n",
        "   876  |    0.008642  |    0.009625  |     0.897813  |             |  3.5s"
       ]
      },
      {
       "output_type": "stream",
       "stream": "stdout",
       "text": [
        "\n",
        "   877  |    0.008561  |    0.009590  |     0.892695  |             |  3.5s"
       ]
      },
      {
       "output_type": "stream",
       "stream": "stdout",
       "text": [
        "\n",
        "   878  |    0.008587  |    0.009586  |     0.895768  |             |  3.5s"
       ]
      },
      {
       "output_type": "stream",
       "stream": "stdout",
       "text": [
        "\n",
        "   879  |    0.008576  |    0.009574  |     0.895745  |             |  3.5s"
       ]
      },
      {
       "output_type": "stream",
       "stream": "stdout",
       "text": [
        "\n",
        "   880  |    0.008547  |    0.009588  |     0.891499  |             |  3.5s"
       ]
      },
      {
       "output_type": "stream",
       "stream": "stdout",
       "text": [
        "\n",
        "   881  |  \u001b[94m  0.008486\u001b[0m  |  \u001b[32m  0.009558\u001b[0m  |     0.887868  |             |  3.5s"
       ]
      },
      {
       "output_type": "stream",
       "stream": "stdout",
       "text": [
        "\n",
        "   882  |    0.008521  |    0.009571  |     0.890231  |             |  3.5s"
       ]
      },
      {
       "output_type": "stream",
       "stream": "stdout",
       "text": [
        "\n",
        "   883  |  \u001b[94m  0.008478\u001b[0m  |    0.009568  |     0.886143  |             |  3.5s"
       ]
      },
      {
       "output_type": "stream",
       "stream": "stdout",
       "text": [
        "\n",
        "   884  |    0.008541  |  \u001b[32m  0.009553\u001b[0m  |     0.894083  |             |  3.5s"
       ]
      },
      {
       "output_type": "stream",
       "stream": "stdout",
       "text": [
        "\n",
        "   885  |    0.008507  |    0.009570  |     0.889005  |             |  3.5s"
       ]
      },
      {
       "output_type": "stream",
       "stream": "stdout",
       "text": [
        "\n",
        "   886  |  \u001b[94m  0.008460\u001b[0m  |    0.009568  |     0.884213  |             |  3.5s"
       ]
      },
      {
       "output_type": "stream",
       "stream": "stdout",
       "text": [
        "\n",
        "   887  |  \u001b[94m  0.008436\u001b[0m  |  \u001b[32m  0.009536\u001b[0m  |     0.884701  |             |  3.5s"
       ]
      },
      {
       "output_type": "stream",
       "stream": "stdout",
       "text": [
        "\n",
        "   888  |    0.008538  |    0.009565  |     0.892620  |             |  3.5s"
       ]
      },
      {
       "output_type": "stream",
       "stream": "stdout",
       "text": [
        "\n",
        "   889  |    0.008518  |    0.009567  |     0.890294  |             |  3.5s"
       ]
      },
      {
       "output_type": "stream",
       "stream": "stdout",
       "text": [
        "\n",
        "   890  |    0.008526  |    0.009570  |     0.890925  |             |  3.5s"
       ]
      },
      {
       "output_type": "stream",
       "stream": "stdout",
       "text": [
        "\n",
        "   891  |    0.008597  |    0.009547  |     0.900554  |             |  3.5s"
       ]
      },
      {
       "output_type": "stream",
       "stream": "stdout",
       "text": [
        "\n",
        "   892  |    0.008506  |    0.009540  |     0.891571  |             |  3.5s"
       ]
      },
      {
       "output_type": "stream",
       "stream": "stdout",
       "text": [
        "\n",
        "   893  |    0.008514  |  \u001b[32m  0.009532\u001b[0m  |     0.893223  |             |  3.5s"
       ]
      },
      {
       "output_type": "stream",
       "stream": "stdout",
       "text": [
        "\n",
        "   894  |    0.008500  |    0.009537  |     0.891338  |             |  3.5s"
       ]
      },
      {
       "output_type": "stream",
       "stream": "stdout",
       "text": [
        "\n",
        "   895  |    0.008477  |    0.009557  |     0.887011  |             |  3.5s"
       ]
      },
      {
       "output_type": "stream",
       "stream": "stdout",
       "text": [
        "\n",
        "   896  |  \u001b[94m  0.008432\u001b[0m  |  \u001b[32m  0.009527\u001b[0m  |     0.885087  |             |  3.5s"
       ]
      },
      {
       "output_type": "stream",
       "stream": "stdout",
       "text": [
        "\n",
        "   897  |  \u001b[94m  0.008389\u001b[0m  |    0.009536  |     0.879717  |             |  3.5s"
       ]
      },
      {
       "output_type": "stream",
       "stream": "stdout",
       "text": [
        "\n",
        "   898  |    0.008415  |  \u001b[32m  0.009519\u001b[0m  |     0.883940  |             |  3.5s"
       ]
      },
      {
       "output_type": "stream",
       "stream": "stdout",
       "text": [
        "\n",
        "   899  |    0.008444  |    0.009526  |     0.886421  |             |  3.5s"
       ]
      },
      {
       "output_type": "stream",
       "stream": "stdout",
       "text": [
        "\n",
        "   900  |    0.008421  |  \u001b[32m  0.009496\u001b[0m  |     0.886810  |             |  3.5s"
       ]
      },
      {
       "output_type": "stream",
       "stream": "stdout",
       "text": [
        "\n",
        "   901  |    0.008413  |    0.009539  |     0.881976  |             |  3.5s"
       ]
      },
      {
       "output_type": "stream",
       "stream": "stdout",
       "text": [
        "\n",
        "   902  |    0.008407  |    0.009522  |     0.882836  |             |  3.5s"
       ]
      },
      {
       "output_type": "stream",
       "stream": "stdout",
       "text": [
        "\n",
        "   903  |  \u001b[94m  0.008379\u001b[0m  |    0.009520  |     0.880205  |             |  3.5s"
       ]
      },
      {
       "output_type": "stream",
       "stream": "stdout",
       "text": [
        "\n",
        "   904  |  \u001b[94m  0.008332\u001b[0m  |    0.009510  |     0.876141  |             |  3.5s"
       ]
      },
      {
       "output_type": "stream",
       "stream": "stdout",
       "text": [
        "\n",
        "   905  |    0.008339  |    0.009517  |     0.876152  |             |  3.5s"
       ]
      },
      {
       "output_type": "stream",
       "stream": "stdout",
       "text": [
        "\n",
        "   906  |    0.008355  |    0.009505  |     0.879020  |             |  3.5s"
       ]
      },
      {
       "output_type": "stream",
       "stream": "stdout",
       "text": [
        "\n",
        "   907  |    0.008409  |  \u001b[32m  0.009494\u001b[0m  |     0.885679  |             |  3.5s"
       ]
      },
      {
       "output_type": "stream",
       "stream": "stdout",
       "text": [
        "\n",
        "   908  |    0.008389  |    0.009502  |     0.882896  |             |  3.5s"
       ]
      },
      {
       "output_type": "stream",
       "stream": "stdout",
       "text": [
        "\n",
        "   909  |    0.008353  |  \u001b[32m  0.009479\u001b[0m  |     0.881239  |             |  3.5s"
       ]
      },
      {
       "output_type": "stream",
       "stream": "stdout",
       "text": [
        "\n",
        "   910  |  \u001b[94m  0.008273\u001b[0m  |    0.009493  |     0.871512  |             |  3.5s"
       ]
      },
      {
       "output_type": "stream",
       "stream": "stdout",
       "text": [
        "\n",
        "   911  |    0.008306  |    0.009498  |     0.874464  |             |  3.5s"
       ]
      },
      {
       "output_type": "stream",
       "stream": "stdout",
       "text": [
        "\n",
        "   912  |    0.008343  |    0.009483  |     0.879789  |             |  3.5s"
       ]
      },
      {
       "output_type": "stream",
       "stream": "stdout",
       "text": [
        "\n",
        "   913  |    0.008277  |  \u001b[32m  0.009466\u001b[0m  |     0.874347  |             |  3.5s"
       ]
      },
      {
       "output_type": "stream",
       "stream": "stdout",
       "text": [
        "\n",
        "   914  |    0.008328  |    0.009490  |     0.877628  |             |  3.5s"
       ]
      },
      {
       "output_type": "stream",
       "stream": "stdout",
       "text": [
        "\n",
        "   915  |  \u001b[94m  0.008252\u001b[0m  |  \u001b[32m  0.009464\u001b[0m  |     0.871865  |             |  3.5s"
       ]
      },
      {
       "output_type": "stream",
       "stream": "stdout",
       "text": [
        "\n",
        "   916  |    0.008330  |    0.009476  |     0.879053  |             |  3.5s"
       ]
      },
      {
       "output_type": "stream",
       "stream": "stdout",
       "text": [
        "\n",
        "   917  |    0.008286  |    0.009489  |     0.873222  |             |  3.5s"
       ]
      },
      {
       "output_type": "stream",
       "stream": "stdout",
       "text": [
        "\n",
        "   918  |  \u001b[94m  0.008244\u001b[0m  |  \u001b[32m  0.009456\u001b[0m  |     0.871768  |             |  3.5s"
       ]
      },
      {
       "output_type": "stream",
       "stream": "stdout",
       "text": [
        "\n",
        "   919  |  \u001b[94m  0.008204\u001b[0m  |    0.009465  |     0.866826  |             |  3.5s"
       ]
      },
      {
       "output_type": "stream",
       "stream": "stdout",
       "text": [
        "\n",
        "   920  |    0.008333  |  \u001b[32m  0.009455\u001b[0m  |     0.881263  |             |  3.5s"
       ]
      },
      {
       "output_type": "stream",
       "stream": "stdout",
       "text": [
        "\n",
        "   921  |    0.008211  |  \u001b[32m  0.009448\u001b[0m  |     0.868985  |             |  3.5s"
       ]
      },
      {
       "output_type": "stream",
       "stream": "stdout",
       "text": [
        "\n",
        "   922  |    0.008232  |    0.009457  |     0.870378  |             |  3.5s"
       ]
      },
      {
       "output_type": "stream",
       "stream": "stdout",
       "text": [
        "\n",
        "   923  |  \u001b[94m  0.008200\u001b[0m  |    0.009468  |     0.866117  |             |  3.5s"
       ]
      },
      {
       "output_type": "stream",
       "stream": "stdout",
       "text": [
        "\n",
        "   924  |    0.008257  |    0.009453  |     0.873503  |             |  3.5s"
       ]
      },
      {
       "output_type": "stream",
       "stream": "stdout",
       "text": [
        "\n",
        "   925  |    0.008213  |  \u001b[32m  0.009447\u001b[0m  |     0.869380  |             |  3.5s"
       ]
      },
      {
       "output_type": "stream",
       "stream": "stdout",
       "text": [
        "\n",
        "   926  |  \u001b[94m  0.008193\u001b[0m  |    0.009447  |     0.867223  |             |  3.5s"
       ]
      },
      {
       "output_type": "stream",
       "stream": "stdout",
       "text": [
        "\n",
        "   927  |    0.008235  |  \u001b[32m  0.009419\u001b[0m  |     0.874320  |             |  3.5s"
       ]
      },
      {
       "output_type": "stream",
       "stream": "stdout",
       "text": [
        "\n",
        "   928  |  \u001b[94m  0.008131\u001b[0m  |    0.009461  |     0.859419  |             |  3.5s"
       ]
      },
      {
       "output_type": "stream",
       "stream": "stdout",
       "text": [
        "\n",
        "   929  |    0.008215  |    0.009425  |     0.871570  |             |  3.5s"
       ]
      },
      {
       "output_type": "stream",
       "stream": "stdout",
       "text": [
        "\n",
        "   930  |    0.008150  |    0.009437  |     0.863611  |             |  3.5s"
       ]
      },
      {
       "output_type": "stream",
       "stream": "stdout",
       "text": [
        "\n",
        "   931  |    0.008170  |    0.009434  |     0.866063  |             |  3.5s"
       ]
      },
      {
       "output_type": "stream",
       "stream": "stdout",
       "text": [
        "\n",
        "   932  |    0.008179  |    0.009422  |     0.868136  |             |  3.5s"
       ]
      },
      {
       "output_type": "stream",
       "stream": "stdout",
       "text": [
        "\n",
        "   933  |    0.008175  |    0.009434  |     0.866521  |             |  3.5s"
       ]
      },
      {
       "output_type": "stream",
       "stream": "stdout",
       "text": [
        "\n",
        "   934  |    0.008211  |  \u001b[32m  0.009416\u001b[0m  |     0.872103  |             |  3.5s"
       ]
      },
      {
       "output_type": "stream",
       "stream": "stdout",
       "text": [
        "\n",
        "   935  |    0.008155  |  \u001b[32m  0.009396\u001b[0m  |     0.867913  |             |  3.5s"
       ]
      },
      {
       "output_type": "stream",
       "stream": "stdout",
       "text": [
        "\n",
        "   936  |  \u001b[94m  0.008088\u001b[0m  |    0.009417  |     0.858957  |             |  3.5s"
       ]
      },
      {
       "output_type": "stream",
       "stream": "stdout",
       "text": [
        "\n",
        "   937  |    0.008126  |    0.009441  |     0.860710  |             |  3.5s"
       ]
      },
      {
       "output_type": "stream",
       "stream": "stdout",
       "text": [
        "\n",
        "   938  |    0.008115  |    0.009428  |     0.860794  |             |  3.5s"
       ]
      },
      {
       "output_type": "stream",
       "stream": "stdout",
       "text": [
        "\n",
        "   939  |    0.008104  |    0.009421  |     0.860186  |             |  3.5s"
       ]
      },
      {
       "output_type": "stream",
       "stream": "stdout",
       "text": [
        "\n",
        "   940  |    0.008090  |    0.009413  |     0.859464  |             |  3.5s"
       ]
      },
      {
       "output_type": "stream",
       "stream": "stdout",
       "text": [
        "\n",
        "   941  |  \u001b[94m  0.008088\u001b[0m  |    0.009402  |     0.860301  |             |  3.5s"
       ]
      },
      {
       "output_type": "stream",
       "stream": "stdout",
       "text": [
        "\n",
        "   942  |    0.008188  |  \u001b[32m  0.009379\u001b[0m  |     0.872955  |             |  3.5s"
       ]
      },
      {
       "output_type": "stream",
       "stream": "stdout",
       "text": [
        "\n",
        "   943  |    0.008103  |    0.009388  |     0.863096  |             |  3.5s"
       ]
      },
      {
       "output_type": "stream",
       "stream": "stdout",
       "text": [
        "\n",
        "   944  |  \u001b[94m  0.008030\u001b[0m  |    0.009397  |     0.854543  |             |  3.5s"
       ]
      },
      {
       "output_type": "stream",
       "stream": "stdout",
       "text": [
        "\n",
        "   945  |  \u001b[94m  0.007999\u001b[0m  |    0.009393  |     0.851595  |             |  3.5s"
       ]
      },
      {
       "output_type": "stream",
       "stream": "stdout",
       "text": [
        "\n",
        "   946  |    0.008052  |    0.009405  |     0.856107  |             |  3.5s"
       ]
      },
      {
       "output_type": "stream",
       "stream": "stdout",
       "text": [
        "\n",
        "   947  |    0.008131  |    0.009401  |     0.864935  |             |  3.5s"
       ]
      },
      {
       "output_type": "stream",
       "stream": "stdout",
       "text": [
        "\n",
        "   948  |  \u001b[94m  0.007991\u001b[0m  |    0.009383  |     0.851620  |             |  3.5s"
       ]
      },
      {
       "output_type": "stream",
       "stream": "stdout",
       "text": [
        "\n",
        "   949  |    0.008066  |    0.009398  |     0.858202  |             |  3.5s"
       ]
      },
      {
       "output_type": "stream",
       "stream": "stdout",
       "text": [
        "\n",
        "   950  |    0.008070  |  \u001b[32m  0.009364\u001b[0m  |     0.861727  |             |  3.5s"
       ]
      },
      {
       "output_type": "stream",
       "stream": "stdout",
       "text": [
        "\n",
        "   951  |  \u001b[94m  0.007917\u001b[0m  |    0.009376  |     0.844370  |             |  3.5s"
       ]
      },
      {
       "output_type": "stream",
       "stream": "stdout",
       "text": [
        "\n",
        "   952  |    0.008043  |  \u001b[32m  0.009359\u001b[0m  |     0.859367  |             |  3.5s"
       ]
      },
      {
       "output_type": "stream",
       "stream": "stdout",
       "text": [
        "\n",
        "   953  |  \u001b[94m  0.007884\u001b[0m  |    0.009380  |     0.840520  |             |  3.5s"
       ]
      },
      {
       "output_type": "stream",
       "stream": "stdout",
       "text": [
        "\n",
        "   954  |    0.008005  |    0.009368  |     0.854551  |             |  3.5s"
       ]
      },
      {
       "output_type": "stream",
       "stream": "stdout",
       "text": [
        "\n",
        "   955  |    0.007942  |    0.009387  |     0.846073  |             |  3.5s"
       ]
      },
      {
       "output_type": "stream",
       "stream": "stdout",
       "text": [
        "\n",
        "   956  |    0.007898  |    0.009368  |     0.843069  |             |  3.5s"
       ]
      },
      {
       "output_type": "stream",
       "stream": "stdout",
       "text": [
        "\n",
        "   957  |    0.007990  |    0.009371  |     0.852577  |             |  3.5s"
       ]
      },
      {
       "output_type": "stream",
       "stream": "stdout",
       "text": [
        "\n",
        "   958  |    0.008056  |    0.009371  |     0.859637  |             |  3.5s"
       ]
      },
      {
       "output_type": "stream",
       "stream": "stdout",
       "text": [
        "\n",
        "   959  |    0.008027  |  \u001b[32m  0.009358\u001b[0m  |     0.857815  |             |  3.5s"
       ]
      },
      {
       "output_type": "stream",
       "stream": "stdout",
       "text": [
        "\n",
        "   960  |    0.007957  |  \u001b[32m  0.009351\u001b[0m  |     0.850919  |             |  3.5s"
       ]
      },
      {
       "output_type": "stream",
       "stream": "stdout",
       "text": [
        "\n",
        "   961  |    0.007984  |    0.009353  |     0.853633  |             |  3.5s"
       ]
      },
      {
       "output_type": "stream",
       "stream": "stdout",
       "text": [
        "\n",
        "   962  |    0.008002  |  \u001b[32m  0.009350\u001b[0m  |     0.855864  |             |  3.5s"
       ]
      },
      {
       "output_type": "stream",
       "stream": "stdout",
       "text": [
        "\n",
        "   963  |    0.007997  |  \u001b[32m  0.009348\u001b[0m  |     0.855528  |             |  3.5s"
       ]
      },
      {
       "output_type": "stream",
       "stream": "stdout",
       "text": [
        "\n",
        "   964  |    0.007974  |  \u001b[32m  0.009335\u001b[0m  |     0.854216  |             |  3.5s"
       ]
      },
      {
       "output_type": "stream",
       "stream": "stdout",
       "text": [
        "\n",
        "   965  |    0.007913  |    0.009352  |     0.846054  |             |  3.5s"
       ]
      },
      {
       "output_type": "stream",
       "stream": "stdout",
       "text": [
        "\n",
        "   966  |  \u001b[94m  0.007851\u001b[0m  |    0.009359  |     0.838920  |             |  3.5s"
       ]
      },
      {
       "output_type": "stream",
       "stream": "stdout",
       "text": [
        "\n",
        "   967  |    0.007858  |    0.009343  |     0.841064  |             |  3.5s"
       ]
      },
      {
       "output_type": "stream",
       "stream": "stdout",
       "text": [
        "\n",
        "   968  |    0.007903  |    0.009359  |     0.844465  |             |  3.5s"
       ]
      },
      {
       "output_type": "stream",
       "stream": "stdout",
       "text": [
        "\n",
        "   969  |  \u001b[94m  0.007824\u001b[0m  |    0.009357  |     0.836131  |             |  3.5s"
       ]
      },
      {
       "output_type": "stream",
       "stream": "stdout",
       "text": [
        "\n",
        "   970  |    0.007937  |  \u001b[32m  0.009319\u001b[0m  |     0.851669  |             |  3.5s"
       ]
      },
      {
       "output_type": "stream",
       "stream": "stdout",
       "text": [
        "\n",
        "   971  |    0.007864  |  \u001b[32m  0.009309\u001b[0m  |     0.844767  |             |  3.5s"
       ]
      },
      {
       "output_type": "stream",
       "stream": "stdout",
       "text": [
        "\n",
        "   972  |    0.007849  |    0.009354  |     0.839107  |             |  3.5s"
       ]
      },
      {
       "output_type": "stream",
       "stream": "stdout",
       "text": [
        "\n",
        "   973  |    0.007965  |    0.009327  |     0.854044  |             |  3.5s"
       ]
      },
      {
       "output_type": "stream",
       "stream": "stdout",
       "text": [
        "\n",
        "   974  |    0.007838  |    0.009323  |     0.840767  |             |  3.5s"
       ]
      },
      {
       "output_type": "stream",
       "stream": "stdout",
       "text": [
        "\n",
        "   975  |    0.007901  |    0.009324  |     0.847389  |             |  3.5s"
       ]
      },
      {
       "output_type": "stream",
       "stream": "stdout",
       "text": [
        "\n",
        "   976  |    0.007897  |  \u001b[32m  0.009306\u001b[0m  |     0.848581  |             |  3.5s"
       ]
      },
      {
       "output_type": "stream",
       "stream": "stdout",
       "text": [
        "\n",
        "   977  |  \u001b[94m  0.007790\u001b[0m  |    0.009316  |     0.836229  |             |  3.5s"
       ]
      },
      {
       "output_type": "stream",
       "stream": "stdout",
       "text": [
        "\n",
        "   978  |    0.007863  |  \u001b[32m  0.009297\u001b[0m  |     0.845797  |             |  3.5s"
       ]
      },
      {
       "output_type": "stream",
       "stream": "stdout",
       "text": [
        "\n",
        "   979  |    0.007884  |  \u001b[32m  0.009294\u001b[0m  |     0.848323  |             |  3.5s"
       ]
      },
      {
       "output_type": "stream",
       "stream": "stdout",
       "text": [
        "\n",
        "   980  |  \u001b[94m  0.007723\u001b[0m  |  \u001b[32m  0.009283\u001b[0m  |     0.831972  |             |  3.5s"
       ]
      },
      {
       "output_type": "stream",
       "stream": "stdout",
       "text": [
        "\n",
        "   981  |    0.007836  |    0.009300  |     0.842614  |             |  3.5s"
       ]
      },
      {
       "output_type": "stream",
       "stream": "stdout",
       "text": [
        "\n",
        "   982  |    0.007797  |    0.009304  |     0.838080  |             |  3.5s"
       ]
      },
      {
       "output_type": "stream",
       "stream": "stdout",
       "text": [
        "\n",
        "   983  |    0.007828  |    0.009292  |     0.842455  |             |  3.5s"
       ]
      },
      {
       "output_type": "stream",
       "stream": "stdout",
       "text": [
        "\n",
        "   984  |  \u001b[94m  0.007701\u001b[0m  |    0.009300  |     0.828026  |             |  3.5s"
       ]
      },
      {
       "output_type": "stream",
       "stream": "stdout",
       "text": [
        "\n",
        "   985  |    0.007862  |    0.009289  |     0.846334  |             |  3.5s"
       ]
      },
      {
       "output_type": "stream",
       "stream": "stdout",
       "text": [
        "\n",
        "   986  |  \u001b[94m  0.007670\u001b[0m  |  \u001b[32m  0.009273\u001b[0m  |     0.827144  |             |  3.5s"
       ]
      },
      {
       "output_type": "stream",
       "stream": "stdout",
       "text": [
        "\n",
        "   987  |    0.007776  |  \u001b[32m  0.009261\u001b[0m  |     0.839616  |             |  3.5s"
       ]
      },
      {
       "output_type": "stream",
       "stream": "stdout",
       "text": [
        "\n",
        "   988  |    0.007761  |    0.009285  |     0.835826  |             |  3.5s"
       ]
      },
      {
       "output_type": "stream",
       "stream": "stdout",
       "text": [
        "\n",
        "   989  |    0.007780  |    0.009278  |     0.838600  |             |  3.5s"
       ]
      },
      {
       "output_type": "stream",
       "stream": "stdout",
       "text": [
        "\n",
        "   990  |    0.007816  |  \u001b[32m  0.009249\u001b[0m  |     0.845060  |             |  3.5s"
       ]
      },
      {
       "output_type": "stream",
       "stream": "stdout",
       "text": [
        "\n",
        "   991  |    0.007709  |    0.009306  |     0.828393  |             |  3.5s"
       ]
      },
      {
       "output_type": "stream",
       "stream": "stdout",
       "text": [
        "\n",
        "   992  |    0.007783  |    0.009274  |     0.839187  |             |  3.5s"
       ]
      },
      {
       "output_type": "stream",
       "stream": "stdout",
       "text": [
        "\n",
        "   993  |  \u001b[94m  0.007621\u001b[0m  |    0.009284  |     0.820901  |             |  3.5s"
       ]
      },
      {
       "output_type": "stream",
       "stream": "stdout",
       "text": [
        "\n",
        "   994  |    0.007742  |    0.009292  |     0.833242  |             |  3.5s"
       ]
      },
      {
       "output_type": "stream",
       "stream": "stdout",
       "text": [
        "\n",
        "   995  |    0.007701  |    0.009266  |     0.831114  |             |  3.5s"
       ]
      },
      {
       "output_type": "stream",
       "stream": "stdout",
       "text": [
        "\n",
        "   996  |    0.007629  |    0.009257  |     0.824096  |             |  3.5s"
       ]
      },
      {
       "output_type": "stream",
       "stream": "stdout",
       "text": [
        "\n",
        "   997  |    0.007683  |  \u001b[32m  0.009238\u001b[0m  |     0.831653  |             |  3.5s"
       ]
      },
      {
       "output_type": "stream",
       "stream": "stdout",
       "text": [
        "\n",
        "   998  |    0.007725  |    0.009268  |     0.833501  |             |  3.5s"
       ]
      },
      {
       "output_type": "stream",
       "stream": "stdout",
       "text": [
        "\n",
        "   999  |    0.007644  |    0.009267  |     0.824847  |             |  3.5s"
       ]
      },
      {
       "output_type": "stream",
       "stream": "stdout",
       "text": [
        "\n",
        "  1000  |    0.007655  |  \u001b[32m  0.009236\u001b[0m  |     0.828847  |             |  3.5s"
       ]
      },
      {
       "output_type": "stream",
       "stream": "stdout",
       "text": [
        "\n",
        "  1001  |    0.007640  |  \u001b[32m  0.009230\u001b[0m  |     0.827756  |             |  3.5s"
       ]
      },
      {
       "output_type": "stream",
       "stream": "stdout",
       "text": [
        "\n",
        "  1002  |    0.007690  |    0.009255  |     0.830900  |             |  3.5s"
       ]
      },
      {
       "output_type": "stream",
       "stream": "stdout",
       "text": [
        "\n",
        "  1003  |    0.007627  |  \u001b[32m  0.009215\u001b[0m  |     0.827646  |             |  3.5s"
       ]
      },
      {
       "output_type": "stream",
       "stream": "stdout",
       "text": [
        "\n",
        "  1004  |    0.007668  |    0.009226  |     0.831170  |             |  3.5s"
       ]
      },
      {
       "output_type": "stream",
       "stream": "stdout",
       "text": [
        "\n",
        "  1005  |  \u001b[94m  0.007602\u001b[0m  |    0.009217  |     0.824784  |             |  3.5s"
       ]
      },
      {
       "output_type": "stream",
       "stream": "stdout",
       "text": [
        "\n",
        "  1006  |    0.007639  |    0.009257  |     0.825194  |             |  3.5s"
       ]
      },
      {
       "output_type": "stream",
       "stream": "stdout",
       "text": [
        "\n",
        "  1007  |  \u001b[94m  0.007590\u001b[0m  |    0.009256  |     0.820058  |             |  3.5s"
       ]
      },
      {
       "output_type": "stream",
       "stream": "stdout",
       "text": [
        "\n",
        "  1008  |    0.007707  |    0.009234  |     0.834624  |             |  3.5s"
       ]
      },
      {
       "output_type": "stream",
       "stream": "stdout",
       "text": [
        "\n",
        "  1009  |  \u001b[94m  0.007511\u001b[0m  |    0.009236  |     0.813228  |             |  3.5s"
       ]
      },
      {
       "output_type": "stream",
       "stream": "stdout",
       "text": [
        "\n",
        "  1010  |    0.007572  |    0.009247  |     0.818833  |             |  3.5s"
       ]
      },
      {
       "output_type": "stream",
       "stream": "stdout",
       "text": [
        "\n",
        "  1011  |    0.007556  |    0.009232  |     0.818456  |             |  3.5s"
       ]
      },
      {
       "output_type": "stream",
       "stream": "stdout",
       "text": [
        "\n",
        "  1012  |    0.007658  |  \u001b[32m  0.009203\u001b[0m  |     0.832124  |             |  3.5s"
       ]
      },
      {
       "output_type": "stream",
       "stream": "stdout",
       "text": [
        "\n",
        "  1013  |    0.007551  |    0.009218  |     0.819200  |             |  3.5s"
       ]
      },
      {
       "output_type": "stream",
       "stream": "stdout",
       "text": [
        "\n",
        "  1014  |    0.007525  |    0.009227  |     0.815508  |             |  3.5s"
       ]
      },
      {
       "output_type": "stream",
       "stream": "stdout",
       "text": [
        "\n",
        "  1015  |    0.007581  |  \u001b[32m  0.009203\u001b[0m  |     0.823784  |             |  3.5s"
       ]
      },
      {
       "output_type": "stream",
       "stream": "stdout",
       "text": [
        "\n",
        "  1016  |    0.007562  |    0.009209  |     0.821095  |             |  3.5s"
       ]
      },
      {
       "output_type": "stream",
       "stream": "stdout",
       "text": [
        "\n",
        "  1017  |    0.007544  |    0.009220  |     0.818259  |             |  3.5s"
       ]
      },
      {
       "output_type": "stream",
       "stream": "stdout",
       "text": [
        "\n",
        "  1018  |    0.007614  |    0.009207  |     0.826955  |             |  3.5s"
       ]
      },
      {
       "output_type": "stream",
       "stream": "stdout",
       "text": [
        "\n",
        "  1019  |    0.007575  |  \u001b[32m  0.009190\u001b[0m  |     0.824323  |             |  3.5s"
       ]
      },
      {
       "output_type": "stream",
       "stream": "stdout",
       "text": [
        "\n",
        "  1020  |  \u001b[94m  0.007496\u001b[0m  |    0.009216  |     0.813406  |             |  3.5s"
       ]
      },
      {
       "output_type": "stream",
       "stream": "stdout",
       "text": [
        "\n",
        "  1021  |    0.007524  |  \u001b[32m  0.009176\u001b[0m  |     0.819922  |             |  3.5s"
       ]
      },
      {
       "output_type": "stream",
       "stream": "stdout",
       "text": [
        "\n",
        "  1022  |    0.007577  |    0.009188  |     0.824695  |             |  3.5s"
       ]
      },
      {
       "output_type": "stream",
       "stream": "stdout",
       "text": [
        "\n",
        "  1023  |    0.007553  |  \u001b[32m  0.009176\u001b[0m  |     0.823103  |             |  3.5s"
       ]
      },
      {
       "output_type": "stream",
       "stream": "stdout",
       "text": [
        "\n",
        "  1024  |    0.007532  |    0.009193  |     0.819284  |             |  3.5s"
       ]
      },
      {
       "output_type": "stream",
       "stream": "stdout",
       "text": [
        "\n",
        "  1025  |    0.007506  |    0.009209  |     0.815042  |             |  3.5s"
       ]
      },
      {
       "output_type": "stream",
       "stream": "stdout",
       "text": [
        "\n",
        "  1026  |    0.007519  |  \u001b[32m  0.009172\u001b[0m  |     0.819786  |             |  3.5s"
       ]
      },
      {
       "output_type": "stream",
       "stream": "stdout",
       "text": [
        "\n",
        "  1027  |  \u001b[94m  0.007440\u001b[0m  |    0.009176  |     0.810740  |             |  3.5s"
       ]
      },
      {
       "output_type": "stream",
       "stream": "stdout",
       "text": [
        "\n",
        "  1028  |  \u001b[94m  0.007434\u001b[0m  |    0.009197  |     0.808302  |             |  3.5s"
       ]
      },
      {
       "output_type": "stream",
       "stream": "stdout",
       "text": [
        "\n",
        "  1029  |    0.007468  |    0.009174  |     0.814028  |             |  3.5s"
       ]
      },
      {
       "output_type": "stream",
       "stream": "stdout",
       "text": [
        "\n",
        "  1030  |  \u001b[94m  0.007427\u001b[0m  |    0.009183  |     0.808799  |             |  3.5s"
       ]
      },
      {
       "output_type": "stream",
       "stream": "stdout",
       "text": [
        "\n",
        "  1031  |    0.007534  |    0.009174  |     0.821266  |             |  3.5s"
       ]
      },
      {
       "output_type": "stream",
       "stream": "stdout",
       "text": [
        "\n",
        "  1032  |  \u001b[94m  0.007421\u001b[0m  |  \u001b[32m  0.009163\u001b[0m  |     0.809839  |             |  3.5s"
       ]
      },
      {
       "output_type": "stream",
       "stream": "stdout",
       "text": [
        "\n",
        "  1033  |  \u001b[94m  0.007350\u001b[0m  |    0.009185  |     0.800148  |             |  3.5s"
       ]
      },
      {
       "output_type": "stream",
       "stream": "stdout",
       "text": [
        "\n",
        "  1034  |    0.007424  |    0.009182  |     0.808555  |             |  3.5s"
       ]
      },
      {
       "output_type": "stream",
       "stream": "stdout",
       "text": [
        "\n",
        "  1035  |    0.007384  |  \u001b[32m  0.009158\u001b[0m  |     0.806296  |             |  3.5s"
       ]
      },
      {
       "output_type": "stream",
       "stream": "stdout",
       "text": [
        "\n",
        "  1036  |    0.007359  |  \u001b[32m  0.009145\u001b[0m  |     0.804651  |             |  3.5s"
       ]
      },
      {
       "output_type": "stream",
       "stream": "stdout",
       "text": [
        "\n",
        "  1037  |    0.007413  |    0.009165  |     0.808826  |             |  3.5s"
       ]
      },
      {
       "output_type": "stream",
       "stream": "stdout",
       "text": [
        "\n",
        "  1038  |    0.007469  |    0.009160  |     0.815430  |             |  3.5s"
       ]
      },
      {
       "output_type": "stream",
       "stream": "stdout",
       "text": [
        "\n",
        "  1039  |    0.007404  |    0.009170  |     0.807370  |             |  3.5s"
       ]
      },
      {
       "output_type": "stream",
       "stream": "stdout",
       "text": [
        "\n",
        "  1040  |  \u001b[94m  0.007318\u001b[0m  |    0.009173  |     0.797761  |             |  3.5s"
       ]
      },
      {
       "output_type": "stream",
       "stream": "stdout",
       "text": [
        "\n",
        "  1041  |    0.007326  |  \u001b[32m  0.009141\u001b[0m  |     0.801413  |             |  3.5s"
       ]
      },
      {
       "output_type": "stream",
       "stream": "stdout",
       "text": [
        "\n",
        "  1042  |    0.007341  |    0.009153  |     0.802090  |             |  3.5s"
       ]
      },
      {
       "output_type": "stream",
       "stream": "stdout",
       "text": [
        "\n",
        "  1043  |    0.007342  |  \u001b[32m  0.009121\u001b[0m  |     0.804932  |             |  3.5s"
       ]
      },
      {
       "output_type": "stream",
       "stream": "stdout",
       "text": [
        "\n",
        "  1044  |    0.007372  |    0.009136  |     0.806966  |             |  3.5s"
       ]
      },
      {
       "output_type": "stream",
       "stream": "stdout",
       "text": [
        "\n",
        "  1045  |  \u001b[94m  0.007295\u001b[0m  |    0.009130  |     0.798995  |             |  3.5s"
       ]
      },
      {
       "output_type": "stream",
       "stream": "stdout",
       "text": [
        "\n",
        "  1046  |    0.007334  |    0.009169  |     0.799912  |             |  3.5s"
       ]
      },
      {
       "output_type": "stream",
       "stream": "stdout",
       "text": [
        "\n",
        "  1047  |    0.007346  |    0.009128  |     0.804777  |             |  3.5s"
       ]
      },
      {
       "output_type": "stream",
       "stream": "stdout",
       "text": [
        "\n",
        "  1048  |    0.007416  |  \u001b[32m  0.009119\u001b[0m  |     0.813187  |             |  3.5s"
       ]
      },
      {
       "output_type": "stream",
       "stream": "stdout",
       "text": [
        "\n",
        "  1049  |  \u001b[94m  0.007275\u001b[0m  |    0.009146  |     0.795371  |             |  3.5s"
       ]
      },
      {
       "output_type": "stream",
       "stream": "stdout",
       "text": [
        "\n",
        "  1050  |    0.007337  |    0.009124  |     0.804107  |             |  3.5s"
       ]
      },
      {
       "output_type": "stream",
       "stream": "stdout",
       "text": [
        "\n",
        "  1051  |    0.007339  |    0.009128  |     0.804066  |             |  3.5s"
       ]
      },
      {
       "output_type": "stream",
       "stream": "stdout",
       "text": [
        "\n",
        "  1052  |    0.007295  |  \u001b[32m  0.009114\u001b[0m  |     0.800378  |             |  3.5s"
       ]
      },
      {
       "output_type": "stream",
       "stream": "stdout",
       "text": [
        "\n",
        "  1053  |    0.007342  |    0.009140  |     0.803271  |             |  3.5s"
       ]
      },
      {
       "output_type": "stream",
       "stream": "stdout",
       "text": [
        "\n",
        "  1054  |    0.007323  |  \u001b[32m  0.009109\u001b[0m  |     0.803931  |             |  3.5s"
       ]
      },
      {
       "output_type": "stream",
       "stream": "stdout",
       "text": [
        "\n",
        "  1055  |  \u001b[94m  0.007228\u001b[0m  |    0.009127  |     0.791928  |             |  3.5s"
       ]
      },
      {
       "output_type": "stream",
       "stream": "stdout",
       "text": [
        "\n",
        "  1056  |    0.007269  |    0.009110  |     0.797953  |             |  3.5s"
       ]
      },
      {
       "output_type": "stream",
       "stream": "stdout",
       "text": [
        "\n",
        "  1057  |    0.007243  |    0.009139  |     0.792486  |             |  3.5s"
       ]
      },
      {
       "output_type": "stream",
       "stream": "stdout",
       "text": [
        "\n",
        "  1058  |    0.007305  |    0.009117  |     0.801229  |             |  3.5s"
       ]
      },
      {
       "output_type": "stream",
       "stream": "stdout",
       "text": [
        "\n",
        "  1059  |  \u001b[94m  0.007210\u001b[0m  |  \u001b[32m  0.009095\u001b[0m  |     0.792751  |             |  3.5s"
       ]
      },
      {
       "output_type": "stream",
       "stream": "stdout",
       "text": [
        "\n",
        "  1060  |    0.007217  |    0.009105  |     0.792644  |             |  3.5s"
       ]
      },
      {
       "output_type": "stream",
       "stream": "stdout",
       "text": [
        "\n",
        "  1061  |    0.007228  |    0.009124  |     0.792193  |             |  3.5s"
       ]
      },
      {
       "output_type": "stream",
       "stream": "stdout",
       "text": [
        "\n",
        "  1062  |    0.007237  |    0.009095  |     0.795650  |             |  3.5s"
       ]
      },
      {
       "output_type": "stream",
       "stream": "stdout",
       "text": [
        "\n",
        "  1063  |  \u001b[94m  0.007111\u001b[0m  |    0.009104  |     0.781089  |             |  3.5s"
       ]
      },
      {
       "output_type": "stream",
       "stream": "stdout",
       "text": [
        "\n",
        "  1064  |    0.007260  |    0.009101  |     0.797713  |             |  3.5s"
       ]
      },
      {
       "output_type": "stream",
       "stream": "stdout",
       "text": [
        "\n",
        "  1065  |    0.007251  |    0.009113  |     0.795699  |             |  3.5s"
       ]
      },
      {
       "output_type": "stream",
       "stream": "stdout",
       "text": [
        "\n",
        "  1066  |    0.007164  |    0.009095  |     0.787670  |             |  3.5s"
       ]
      },
      {
       "output_type": "stream",
       "stream": "stdout",
       "text": [
        "\n",
        "  1067  |    0.007162  |    0.009110  |     0.786156  |             |  3.5s"
       ]
      },
      {
       "output_type": "stream",
       "stream": "stdout",
       "text": [
        "\n",
        "  1068  |    0.007201  |  \u001b[32m  0.009087\u001b[0m  |     0.792468  |             |  3.5s"
       ]
      },
      {
       "output_type": "stream",
       "stream": "stdout",
       "text": [
        "\n",
        "  1069  |    0.007172  |    0.009096  |     0.788486  |             |  3.5s"
       ]
      },
      {
       "output_type": "stream",
       "stream": "stdout",
       "text": [
        "\n",
        "  1070  |    0.007167  |    0.009115  |     0.786316  |             |  3.5s"
       ]
      },
      {
       "output_type": "stream",
       "stream": "stdout",
       "text": [
        "\n",
        "  1071  |    0.007186  |    0.009100  |     0.789644  |             |  3.5s"
       ]
      },
      {
       "output_type": "stream",
       "stream": "stdout",
       "text": [
        "\n",
        "  1072  |    0.007162  |  \u001b[32m  0.009067\u001b[0m  |     0.789849  |             |  3.5s"
       ]
      },
      {
       "output_type": "stream",
       "stream": "stdout",
       "text": [
        "\n",
        "  1073  |    0.007205  |  \u001b[32m  0.009065\u001b[0m  |     0.794823  |             |  3.5s"
       ]
      },
      {
       "output_type": "stream",
       "stream": "stdout",
       "text": [
        "\n",
        "  1074  |    0.007117  |    0.009072  |     0.784546  |             |  3.5s"
       ]
      },
      {
       "output_type": "stream",
       "stream": "stdout",
       "text": [
        "\n",
        "  1075  |    0.007146  |    0.009065  |     0.788289  |             |  3.5s"
       ]
      },
      {
       "output_type": "stream",
       "stream": "stdout",
       "text": [
        "\n",
        "  1076  |    0.007131  |    0.009076  |     0.785615  |             |  3.5s"
       ]
      },
      {
       "output_type": "stream",
       "stream": "stdout",
       "text": [
        "\n",
        "  1077  |    0.007184  |    0.009074  |     0.791801  |             |  3.5s"
       ]
      },
      {
       "output_type": "stream",
       "stream": "stdout",
       "text": [
        "\n",
        "  1078  |  \u001b[94m  0.007025\u001b[0m  |  \u001b[32m  0.009063\u001b[0m  |     0.775192  |             |  3.5s"
       ]
      },
      {
       "output_type": "stream",
       "stream": "stdout",
       "text": [
        "\n",
        "  1079  |    0.007122  |    0.009102  |     0.782386  |             |  3.5s"
       ]
      },
      {
       "output_type": "stream",
       "stream": "stdout",
       "text": [
        "\n",
        "  1080  |    0.007100  |    0.009067  |     0.783086  |             |  3.5s"
       ]
      },
      {
       "output_type": "stream",
       "stream": "stdout",
       "text": [
        "\n",
        "  1081  |    0.007078  |  \u001b[32m  0.009062\u001b[0m  |     0.780990  |             |  3.5s"
       ]
      },
      {
       "output_type": "stream",
       "stream": "stdout",
       "text": [
        "\n",
        "  1082  |    0.007123  |    0.009089  |     0.783636  |             |  3.5s"
       ]
      },
      {
       "output_type": "stream",
       "stream": "stdout",
       "text": [
        "\n",
        "  1083  |    0.007061  |  \u001b[32m  0.009044\u001b[0m  |     0.780730  |             |  3.5s"
       ]
      },
      {
       "output_type": "stream",
       "stream": "stdout",
       "text": [
        "\n",
        "  1084  |    0.007066  |    0.009065  |     0.779454  |             |  3.5s"
       ]
      },
      {
       "output_type": "stream",
       "stream": "stdout",
       "text": [
        "\n",
        "  1085  |    0.007091  |    0.009051  |     0.783491  |             |  3.5s"
       ]
      },
      {
       "output_type": "stream",
       "stream": "stdout",
       "text": [
        "\n",
        "  1086  |    0.007036  |    0.009058  |     0.776721  |             |  3.5s"
       ]
      },
      {
       "output_type": "stream",
       "stream": "stdout",
       "text": [
        "\n",
        "  1087  |    0.007038  |    0.009059  |     0.776972  |             |  3.5s"
       ]
      },
      {
       "output_type": "stream",
       "stream": "stdout",
       "text": [
        "\n",
        "  1088  |    0.007110  |    0.009074  |     0.783540  |             |  3.5s"
       ]
      },
      {
       "output_type": "stream",
       "stream": "stdout",
       "text": [
        "\n",
        "  1089  |    0.007085  |    0.009053  |     0.782651  |             |  3.5s"
       ]
      },
      {
       "output_type": "stream",
       "stream": "stdout",
       "text": [
        "\n",
        "  1090  |  \u001b[94m  0.006976\u001b[0m  |    0.009049  |     0.770905  |             |  3.5s"
       ]
      },
      {
       "output_type": "stream",
       "stream": "stdout",
       "text": [
        "\n",
        "  1091  |    0.007047  |    0.009061  |     0.777678  |             |  3.5s"
       ]
      },
      {
       "output_type": "stream",
       "stream": "stdout",
       "text": [
        "\n",
        "  1092  |    0.007058  |    0.009056  |     0.779355  |             |  3.5s"
       ]
      },
      {
       "output_type": "stream",
       "stream": "stdout",
       "text": [
        "\n",
        "  1093  |    0.006996  |  \u001b[32m  0.009034\u001b[0m  |     0.774407  |             |  3.5s"
       ]
      },
      {
       "output_type": "stream",
       "stream": "stdout",
       "text": [
        "\n",
        "  1094  |    0.007059  |    0.009049  |     0.780160  |             |  3.5s"
       ]
      },
      {
       "output_type": "stream",
       "stream": "stdout",
       "text": [
        "\n",
        "  1095  |    0.007040  |    0.009051  |     0.777791  |             |  3.5s"
       ]
      },
      {
       "output_type": "stream",
       "stream": "stdout",
       "text": [
        "\n",
        "  1096  |  \u001b[94m  0.006970\u001b[0m  |  \u001b[32m  0.009029\u001b[0m  |     0.772005  |             |  3.5s"
       ]
      },
      {
       "output_type": "stream",
       "stream": "stdout",
       "text": [
        "\n",
        "  1097  |    0.007094  |    0.009058  |     0.783195  |             |  3.5s"
       ]
      },
      {
       "output_type": "stream",
       "stream": "stdout",
       "text": [
        "\n",
        "  1098  |  \u001b[94m  0.006948\u001b[0m  |    0.009037  |     0.768897  |             |  3.5s"
       ]
      },
      {
       "output_type": "stream",
       "stream": "stdout",
       "text": [
        "\n",
        "  1099  |  \u001b[94m  0.006930\u001b[0m  |    0.009036  |     0.766918  |             |  3.5s"
       ]
      },
      {
       "output_type": "stream",
       "stream": "stdout",
       "text": [
        "\n",
        "  1100  |    0.006955  |  \u001b[32m  0.009017\u001b[0m  |     0.771286  |             |  3.5s"
       ]
      },
      {
       "output_type": "stream",
       "stream": "stdout",
       "text": [
        "\n",
        "  1101  |    0.006951  |  \u001b[32m  0.009008\u001b[0m  |     0.771583  |             |  3.5s"
       ]
      },
      {
       "output_type": "stream",
       "stream": "stdout",
       "text": [
        "\n",
        "  1102  |    0.006945  |  \u001b[32m  0.009001\u001b[0m  |     0.771625  |             |  3.5s"
       ]
      },
      {
       "output_type": "stream",
       "stream": "stdout",
       "text": [
        "\n",
        "  1103  |  \u001b[94m  0.006826\u001b[0m  |    0.009048  |     0.754427  |             |  3.5s"
       ]
      },
      {
       "output_type": "stream",
       "stream": "stdout",
       "text": [
        "\n",
        "  1104  |    0.006890  |    0.009016  |     0.764259  |             |  3.5s"
       ]
      },
      {
       "output_type": "stream",
       "stream": "stdout",
       "text": [
        "\n",
        "  1105  |    0.007005  |    0.009004  |     0.777950  |             |  3.5s"
       ]
      },
      {
       "output_type": "stream",
       "stream": "stdout",
       "text": [
        "\n",
        "  1106  |    0.006895  |    0.009010  |     0.765346  |             |  3.5s"
       ]
      },
      {
       "output_type": "stream",
       "stream": "stdout",
       "text": [
        "\n",
        "  1107  |    0.006902  |  \u001b[32m  0.008998\u001b[0m  |     0.767068  |             |  3.5s"
       ]
      },
      {
       "output_type": "stream",
       "stream": "stdout",
       "text": [
        "\n",
        "  1108  |    0.006877  |  \u001b[32m  0.008988\u001b[0m  |     0.765225  |             |  3.5s"
       ]
      },
      {
       "output_type": "stream",
       "stream": "stdout",
       "text": [
        "\n",
        "  1109  |    0.006889  |    0.008998  |     0.765572  |             |  3.5s"
       ]
      },
      {
       "output_type": "stream",
       "stream": "stdout",
       "text": [
        "\n",
        "  1110  |    0.006842  |    0.009009  |     0.759436  |             |  3.5s"
       ]
      },
      {
       "output_type": "stream",
       "stream": "stdout",
       "text": [
        "\n",
        "  1111  |    0.006939  |    0.008999  |     0.771084  |             |  3.5s"
       ]
      },
      {
       "output_type": "stream",
       "stream": "stdout",
       "text": [
        "\n",
        "  1112  |  \u001b[94m  0.006800\u001b[0m  |  \u001b[32m  0.008987\u001b[0m  |     0.756577  |             |  3.5s"
       ]
      },
      {
       "output_type": "stream",
       "stream": "stdout",
       "text": [
        "\n",
        "  1113  |    0.006827  |    0.008996  |     0.758924  |             |  3.5s"
       ]
      },
      {
       "output_type": "stream",
       "stream": "stdout",
       "text": [
        "\n",
        "  1114  |    0.006809  |  \u001b[32m  0.008986\u001b[0m  |     0.757718  |             |  3.5s"
       ]
      },
      {
       "output_type": "stream",
       "stream": "stdout",
       "text": [
        "\n",
        "  1115  |    0.006853  |  \u001b[32m  0.008967\u001b[0m  |     0.764260  |             |  3.5s"
       ]
      },
      {
       "output_type": "stream",
       "stream": "stdout",
       "text": [
        "\n",
        "  1116  |    0.006884  |    0.008998  |     0.765116  |             |  3.5s"
       ]
      },
      {
       "output_type": "stream",
       "stream": "stdout",
       "text": [
        "\n",
        "  1117  |    0.006823  |    0.009014  |     0.756961  |             |  3.5s"
       ]
      },
      {
       "output_type": "stream",
       "stream": "stdout",
       "text": [
        "\n",
        "  1118  |    0.006951  |    0.009011  |     0.771402  |             |  3.5s"
       ]
      },
      {
       "output_type": "stream",
       "stream": "stdout",
       "text": [
        "\n",
        "  1119  |    0.006834  |    0.008998  |     0.759543  |             |  3.5s"
       ]
      },
      {
       "output_type": "stream",
       "stream": "stdout",
       "text": [
        "\n",
        "  1120  |    0.006822  |    0.008997  |     0.758277  |             |  3.5s"
       ]
      },
      {
       "output_type": "stream",
       "stream": "stdout",
       "text": [
        "\n",
        "  1121  |    0.006807  |    0.008975  |     0.758385  |             |  3.5s"
       ]
      },
      {
       "output_type": "stream",
       "stream": "stdout",
       "text": [
        "\n",
        "  1122  |    0.006855  |    0.009002  |     0.761465  |             |  3.5s"
       ]
      },
      {
       "output_type": "stream",
       "stream": "stdout",
       "text": [
        "\n",
        "  1123  |    0.006875  |    0.008989  |     0.764896  |             |  3.5s"
       ]
      },
      {
       "output_type": "stream",
       "stream": "stdout",
       "text": [
        "\n",
        "  1124  |  \u001b[94m  0.006762\u001b[0m  |    0.009000  |     0.751294  |             |  3.5s"
       ]
      },
      {
       "output_type": "stream",
       "stream": "stdout",
       "text": [
        "\n",
        "  1125  |    0.006851  |    0.009002  |     0.760988  |             |  3.5s"
       ]
      },
      {
       "output_type": "stream",
       "stream": "stdout",
       "text": [
        "\n",
        "  1126  |    0.006827  |    0.008981  |     0.760108  |             |  3.5s"
       ]
      },
      {
       "output_type": "stream",
       "stream": "stdout",
       "text": [
        "\n",
        "  1127  |    0.006851  |  \u001b[32m  0.008964\u001b[0m  |     0.764267  |             |  3.5s"
       ]
      },
      {
       "output_type": "stream",
       "stream": "stdout",
       "text": [
        "\n",
        "  1128  |    0.006793  |  \u001b[32m  0.008949\u001b[0m  |     0.759118  |             |  3.5s"
       ]
      },
      {
       "output_type": "stream",
       "stream": "stdout",
       "text": [
        "\n",
        "  1129  |    0.006766  |    0.008956  |     0.755442  |             |  3.5s"
       ]
      },
      {
       "output_type": "stream",
       "stream": "stdout",
       "text": [
        "\n",
        "  1130  |  \u001b[94m  0.006717\u001b[0m  |    0.008961  |     0.749539  |             |  3.5s"
       ]
      },
      {
       "output_type": "stream",
       "stream": "stdout",
       "text": [
        "\n",
        "  1131  |    0.006760  |    0.008960  |     0.754495  |             |  3.5s"
       ]
      },
      {
       "output_type": "stream",
       "stream": "stdout",
       "text": [
        "\n",
        "  1132  |  \u001b[94m  0.006706\u001b[0m  |    0.008962  |     0.748322  |             |  3.5s"
       ]
      },
      {
       "output_type": "stream",
       "stream": "stdout",
       "text": [
        "\n",
        "  1133  |    0.006709  |  \u001b[32m  0.008939\u001b[0m  |     0.750510  |             |  3.5s"
       ]
      },
      {
       "output_type": "stream",
       "stream": "stdout",
       "text": [
        "\n",
        "  1134  |  \u001b[94m  0.006685\u001b[0m  |    0.008971  |     0.745164  |             |  3.5s"
       ]
      },
      {
       "output_type": "stream",
       "stream": "stdout",
       "text": [
        "\n",
        "  1135  |    0.006704  |  \u001b[32m  0.008937\u001b[0m  |     0.750142  |             |  3.5s"
       ]
      },
      {
       "output_type": "stream",
       "stream": "stdout",
       "text": [
        "\n",
        "  1136  |    0.006735  |    0.008968  |     0.750961  |             |  3.5s"
       ]
      },
      {
       "output_type": "stream",
       "stream": "stdout",
       "text": [
        "\n",
        "  1137  |    0.006718  |    0.008953  |     0.750340  |             |  3.5s"
       ]
      },
      {
       "output_type": "stream",
       "stream": "stdout",
       "text": [
        "\n",
        "  1138  |  \u001b[94m  0.006673\u001b[0m  |    0.008953  |     0.745386  |             |  3.5s"
       ]
      },
      {
       "output_type": "stream",
       "stream": "stdout",
       "text": [
        "\n",
        "  1139  |    0.006674  |    0.008964  |     0.744530  |             |  3.5s"
       ]
      },
      {
       "output_type": "stream",
       "stream": "stdout",
       "text": [
        "\n",
        "  1140  |    0.006731  |    0.008963  |     0.750974  |             |  3.5s"
       ]
      },
      {
       "output_type": "stream",
       "stream": "stdout",
       "text": [
        "\n",
        "  1141  |    0.006709  |    0.008958  |     0.748948  |             |  3.5s"
       ]
      },
      {
       "output_type": "stream",
       "stream": "stdout",
       "text": [
        "\n",
        "  1142  |  \u001b[94m  0.006609\u001b[0m  |    0.008964  |     0.737353  |             |  3.5s"
       ]
      },
      {
       "output_type": "stream",
       "stream": "stdout",
       "text": [
        "\n",
        "  1143  |    0.006719  |    0.008942  |     0.751385  |             |  3.5s"
       ]
      },
      {
       "output_type": "stream",
       "stream": "stdout",
       "text": [
        "\n",
        "  1144  |    0.006645  |  \u001b[32m  0.008923\u001b[0m  |     0.744708  |             |  3.5s"
       ]
      },
      {
       "output_type": "stream",
       "stream": "stdout",
       "text": [
        "\n",
        "  1145  |    0.006679  |    0.008930  |     0.747907  |             |  3.5s"
       ]
      },
      {
       "output_type": "stream",
       "stream": "stdout",
       "text": [
        "\n",
        "  1146  |    0.006611  |    0.008938  |     0.739677  |             |  3.5s"
       ]
      },
      {
       "output_type": "stream",
       "stream": "stdout",
       "text": [
        "\n",
        "  1147  |  \u001b[94m  0.006590\u001b[0m  |    0.008948  |     0.736443  |             |  3.5s"
       ]
      },
      {
       "output_type": "stream",
       "stream": "stdout",
       "text": [
        "\n",
        "  1148  |    0.006636  |    0.008950  |     0.741455  |             |  3.5s"
       ]
      },
      {
       "output_type": "stream",
       "stream": "stdout",
       "text": [
        "\n",
        "  1149  |    0.006596  |    0.008934  |     0.738279  |             |  3.5s"
       ]
      },
      {
       "output_type": "stream",
       "stream": "stdout",
       "text": [
        "\n",
        "  1150  |    0.006635  |    0.008943  |     0.741986  |             |  3.5s"
       ]
      },
      {
       "output_type": "stream",
       "stream": "stdout",
       "text": [
        "\n",
        "  1151  |    0.006602  |  \u001b[32m  0.008915\u001b[0m  |     0.740531  |             |  3.5s"
       ]
      },
      {
       "output_type": "stream",
       "stream": "stdout",
       "text": [
        "\n",
        "  1152  |  \u001b[94m  0.006569\u001b[0m  |    0.008946  |     0.734227  |             |  3.5s"
       ]
      },
      {
       "output_type": "stream",
       "stream": "stdout",
       "text": [
        "\n",
        "  1153  |    0.006687  |    0.008939  |     0.748116  |             |  3.5s"
       ]
      },
      {
       "output_type": "stream",
       "stream": "stdout",
       "text": [
        "\n",
        "  1154  |    0.006603  |    0.008945  |     0.738183  |             |  3.5s"
       ]
      },
      {
       "output_type": "stream",
       "stream": "stdout",
       "text": [
        "\n",
        "  1155  |  \u001b[94m  0.006560\u001b[0m  |    0.008921  |     0.735324  |             |  3.5s"
       ]
      },
      {
       "output_type": "stream",
       "stream": "stdout",
       "text": [
        "\n",
        "  1156  |    0.006581  |    0.008945  |     0.735679  |             |  3.5s"
       ]
      },
      {
       "output_type": "stream",
       "stream": "stdout",
       "text": [
        "\n",
        "  1157  |    0.006588  |    0.008937  |     0.737158  |             |  3.5s"
       ]
      },
      {
       "output_type": "stream",
       "stream": "stdout",
       "text": [
        "\n",
        "  1158  |  \u001b[94m  0.006506\u001b[0m  |  \u001b[32m  0.008914\u001b[0m  |     0.729827  |             |  3.5s"
       ]
      },
      {
       "output_type": "stream",
       "stream": "stdout",
       "text": [
        "\n",
        "  1159  |    0.006566  |  \u001b[32m  0.008912\u001b[0m  |     0.736763  |             |  3.5s"
       ]
      },
      {
       "output_type": "stream",
       "stream": "stdout",
       "text": [
        "\n",
        "  1160  |    0.006617  |  \u001b[32m  0.008895\u001b[0m  |     0.743881  |             |  3.5s"
       ]
      },
      {
       "output_type": "stream",
       "stream": "stdout",
       "text": [
        "\n",
        "  1161  |    0.006577  |    0.008938  |     0.735895  |             |  3.5s"
       ]
      },
      {
       "output_type": "stream",
       "stream": "stdout",
       "text": [
        "\n",
        "  1162  |    0.006553  |    0.008923  |     0.734397  |             |  3.5s"
       ]
      },
      {
       "output_type": "stream",
       "stream": "stdout",
       "text": [
        "\n",
        "  1163  |    0.006522  |    0.008897  |     0.733036  |             |  3.5s"
       ]
      },
      {
       "output_type": "stream",
       "stream": "stdout",
       "text": [
        "\n",
        "  1164  |    0.006531  |    0.008922  |     0.731990  |             |  3.5s"
       ]
      },
      {
       "output_type": "stream",
       "stream": "stdout",
       "text": [
        "\n",
        "  1165  |    0.006510  |    0.008895  |     0.731831  |             |  3.5s"
       ]
      },
      {
       "output_type": "stream",
       "stream": "stdout",
       "text": [
        "\n",
        "  1166  |    0.006541  |    0.008920  |     0.733276  |             |  3.5s"
       ]
      },
      {
       "output_type": "stream",
       "stream": "stdout",
       "text": [
        "\n",
        "  1167  |    0.006551  |    0.008901  |     0.735950  |             |  3.5s"
       ]
      },
      {
       "output_type": "stream",
       "stream": "stdout",
       "text": [
        "\n",
        "  1168  |    0.006555  |    0.008905  |     0.736161  |             |  3.5s"
       ]
      },
      {
       "output_type": "stream",
       "stream": "stdout",
       "text": [
        "\n",
        "  1169  |    0.006609  |    0.008898  |     0.742735  |             |  3.5s"
       ]
      },
      {
       "output_type": "stream",
       "stream": "stdout",
       "text": [
        "\n",
        "  1170  |    0.006518  |    0.008895  |     0.732702  |             |  3.5s"
       ]
      },
      {
       "output_type": "stream",
       "stream": "stdout",
       "text": [
        "\n",
        "  1171  |  \u001b[94m  0.006479\u001b[0m  |  \u001b[32m  0.008894\u001b[0m  |     0.728515  |             |  3.5s"
       ]
      },
      {
       "output_type": "stream",
       "stream": "stdout",
       "text": [
        "\n",
        "  1172  |    0.006566  |  \u001b[32m  0.008891\u001b[0m  |     0.738483  |             |  3.5s"
       ]
      },
      {
       "output_type": "stream",
       "stream": "stdout",
       "text": [
        "\n",
        "  1173  |    0.006495  |    0.008906  |     0.729296  |             |  3.5s"
       ]
      },
      {
       "output_type": "stream",
       "stream": "stdout",
       "text": [
        "\n",
        "  1174  |    0.006494  |    0.008893  |     0.730225  |             |  3.5s"
       ]
      },
      {
       "output_type": "stream",
       "stream": "stdout",
       "text": [
        "\n",
        "  1175  |    0.006497  |    0.008911  |     0.729006  |             |  3.5s"
       ]
      },
      {
       "output_type": "stream",
       "stream": "stdout",
       "text": [
        "\n",
        "  1176  |    0.006497  |  \u001b[32m  0.008871\u001b[0m  |     0.732378  |             |  3.5s"
       ]
      },
      {
       "output_type": "stream",
       "stream": "stdout",
       "text": [
        "\n",
        "  1177  |    0.006580  |    0.008879  |     0.741138  |             |  3.5s"
       ]
      },
      {
       "output_type": "stream",
       "stream": "stdout",
       "text": [
        "\n",
        "  1178  |    0.006515  |    0.008891  |     0.732837  |             |  3.5s"
       ]
      },
      {
       "output_type": "stream",
       "stream": "stdout",
       "text": [
        "\n",
        "  1179  |  \u001b[94m  0.006443\u001b[0m  |    0.008880  |     0.725489  |             |  3.5s"
       ]
      },
      {
       "output_type": "stream",
       "stream": "stdout",
       "text": [
        "\n",
        "  1180  |  \u001b[94m  0.006436\u001b[0m  |    0.008895  |     0.723590  |             |  3.5s"
       ]
      },
      {
       "output_type": "stream",
       "stream": "stdout",
       "text": [
        "\n",
        "  1181  |    0.006450  |    0.008879  |     0.726433  |             |  3.5s"
       ]
      },
      {
       "output_type": "stream",
       "stream": "stdout",
       "text": [
        "\n",
        "  1182  |    0.006440  |    0.008872  |     0.725863  |             |  3.5s"
       ]
      },
      {
       "output_type": "stream",
       "stream": "stdout",
       "text": [
        "\n",
        "  1183  |  \u001b[94m  0.006369\u001b[0m  |    0.008874  |     0.717749  |             |  3.5s"
       ]
      },
      {
       "output_type": "stream",
       "stream": "stdout",
       "text": [
        "\n",
        "  1184  |    0.006373  |    0.008873  |     0.718250  |             |  3.5s"
       ]
      },
      {
       "output_type": "stream",
       "stream": "stdout",
       "text": [
        "\n",
        "  1185  |    0.006463  |    0.008883  |     0.727553  |             |  3.5s"
       ]
      },
      {
       "output_type": "stream",
       "stream": "stdout",
       "text": [
        "\n",
        "  1186  |    0.006408  |    0.008879  |     0.721730  |             |  3.5s"
       ]
      },
      {
       "output_type": "stream",
       "stream": "stdout",
       "text": [
        "\n",
        "  1187  |    0.006380  |  \u001b[32m  0.008859\u001b[0m  |     0.720217  |             |  3.5s"
       ]
      },
      {
       "output_type": "stream",
       "stream": "stdout",
       "text": [
        "\n",
        "  1188  |    0.006487  |    0.008883  |     0.730338  |             |  3.5s"
       ]
      },
      {
       "output_type": "stream",
       "stream": "stdout",
       "text": [
        "\n",
        "  1189  |    0.006434  |  \u001b[32m  0.008838\u001b[0m  |     0.727919  |             |  3.5s"
       ]
      },
      {
       "output_type": "stream",
       "stream": "stdout",
       "text": [
        "\n",
        "  1190  |    0.006453  |    0.008864  |     0.727991  |             |  3.5s"
       ]
      },
      {
       "output_type": "stream",
       "stream": "stdout",
       "text": [
        "\n",
        "  1191  |  \u001b[94m  0.006369\u001b[0m  |    0.008862  |     0.718700  |             |  3.5s"
       ]
      },
      {
       "output_type": "stream",
       "stream": "stdout",
       "text": [
        "\n",
        "  1192  |    0.006411  |    0.008868  |     0.722961  |             |  3.5s"
       ]
      },
      {
       "output_type": "stream",
       "stream": "stdout",
       "text": [
        "\n",
        "  1193  |    0.006426  |    0.008861  |     0.725248  |             |  3.5s"
       ]
      },
      {
       "output_type": "stream",
       "stream": "stdout",
       "text": [
        "\n",
        "  1194  |  \u001b[94m  0.006353\u001b[0m  |    0.008861  |     0.717004  |             |  3.5s"
       ]
      },
      {
       "output_type": "stream",
       "stream": "stdout",
       "text": [
        "\n",
        "  1195  |  \u001b[94m  0.006351\u001b[0m  |    0.008857  |     0.717036  |             |  3.5s"
       ]
      },
      {
       "output_type": "stream",
       "stream": "stdout",
       "text": [
        "\n",
        "  1196  |    0.006357  |  \u001b[32m  0.008830\u001b[0m  |     0.719914  |             |  3.5s"
       ]
      },
      {
       "output_type": "stream",
       "stream": "stdout",
       "text": [
        "\n",
        "  1197  |  \u001b[94m  0.006252\u001b[0m  |    0.008840  |     0.707211  |             |  3.5s"
       ]
      },
      {
       "output_type": "stream",
       "stream": "stdout",
       "text": [
        "\n",
        "  1198  |    0.006351  |    0.008860  |     0.716797  |             |  3.5s"
       ]
      },
      {
       "output_type": "stream",
       "stream": "stdout",
       "text": [
        "\n",
        "  1199  |    0.006335  |    0.008854  |     0.715486  |             |  3.5s"
       ]
      },
      {
       "output_type": "stream",
       "stream": "stdout",
       "text": [
        "\n",
        "  1200  |    0.006325  |    0.008840  |     0.715526  |             |  3.5s"
       ]
      },
      {
       "output_type": "stream",
       "stream": "stdout",
       "text": [
        "\n",
        "  1201  |    0.006349  |    0.008839  |     0.718349  |             |  3.5s"
       ]
      },
      {
       "output_type": "stream",
       "stream": "stdout",
       "text": [
        "\n",
        "  1202  |    0.006399  |  \u001b[32m  0.008822\u001b[0m  |     0.725301  |             |  3.5s"
       ]
      },
      {
       "output_type": "stream",
       "stream": "stdout",
       "text": [
        "\n",
        "  1203  |    0.006314  |  \u001b[32m  0.008820\u001b[0m  |     0.715841  |             |  3.5s"
       ]
      },
      {
       "output_type": "stream",
       "stream": "stdout",
       "text": [
        "\n",
        "  1204  |    0.006265  |    0.008846  |     0.708267  |             |  3.5s"
       ]
      },
      {
       "output_type": "stream",
       "stream": "stdout",
       "text": [
        "\n",
        "  1205  |    0.006327  |  \u001b[32m  0.008818\u001b[0m  |     0.717482  |             |  3.5s"
       ]
      },
      {
       "output_type": "stream",
       "stream": "stdout",
       "text": [
        "\n",
        "  1206  |    0.006298  |    0.008834  |     0.712898  |             |  3.5s"
       ]
      },
      {
       "output_type": "stream",
       "stream": "stdout",
       "text": [
        "\n",
        "  1207  |    0.006275  |    0.008845  |     0.709401  |             |  3.5s"
       ]
      },
      {
       "output_type": "stream",
       "stream": "stdout",
       "text": [
        "\n",
        "  1208  |  \u001b[94m  0.006251\u001b[0m  |  \u001b[32m  0.008817\u001b[0m  |     0.708988  |             |  3.5s"
       ]
      },
      {
       "output_type": "stream",
       "stream": "stdout",
       "text": [
        "\n",
        "  1209  |    0.006324  |  \u001b[32m  0.008814\u001b[0m  |     0.717517  |             |  3.5s"
       ]
      },
      {
       "output_type": "stream",
       "stream": "stdout",
       "text": [
        "\n",
        "  1210  |  \u001b[94m  0.006225\u001b[0m  |    0.008824  |     0.705430  |             |  3.5s"
       ]
      },
      {
       "output_type": "stream",
       "stream": "stdout",
       "text": [
        "\n",
        "  1211  |    0.006276  |    0.008828  |     0.710885  |             |  3.5s"
       ]
      },
      {
       "output_type": "stream",
       "stream": "stdout",
       "text": [
        "\n",
        "  1212  |    0.006280  |    0.008823  |     0.711768  |             |  3.5s"
       ]
      },
      {
       "output_type": "stream",
       "stream": "stdout",
       "text": [
        "\n",
        "  1213  |    0.006308  |    0.008823  |     0.714998  |             |  3.5s"
       ]
      },
      {
       "output_type": "stream",
       "stream": "stdout",
       "text": [
        "\n",
        "  1214  |    0.006246  |    0.008815  |     0.708542  |             |  3.5s"
       ]
      },
      {
       "output_type": "stream",
       "stream": "stdout",
       "text": [
        "\n",
        "  1215  |  \u001b[94m  0.006205\u001b[0m  |    0.008835  |     0.702276  |             |  3.5s"
       ]
      },
      {
       "output_type": "stream",
       "stream": "stdout",
       "text": [
        "\n",
        "  1216  |    0.006254  |    0.008846  |     0.706980  |             |  3.5s"
       ]
      },
      {
       "output_type": "stream",
       "stream": "stdout",
       "text": [
        "\n",
        "  1217  |  \u001b[94m  0.006191\u001b[0m  |    0.008822  |     0.701797  |             |  3.5s"
       ]
      },
      {
       "output_type": "stream",
       "stream": "stdout",
       "text": [
        "\n",
        "  1218  |  \u001b[94m  0.006155\u001b[0m  |  \u001b[32m  0.008813\u001b[0m  |     0.698438  |             |  3.5s"
       ]
      },
      {
       "output_type": "stream",
       "stream": "stdout",
       "text": [
        "\n",
        "  1219  |    0.006248  |    0.008816  |     0.708653  |             |  3.5s"
       ]
      },
      {
       "output_type": "stream",
       "stream": "stdout",
       "text": [
        "\n",
        "  1220  |    0.006184  |  \u001b[32m  0.008800\u001b[0m  |     0.702727  |             |  3.5s"
       ]
      },
      {
       "output_type": "stream",
       "stream": "stdout",
       "text": [
        "\n",
        "  1221  |    0.006192  |    0.008816  |     0.702372  |             |  3.5s"
       ]
      },
      {
       "output_type": "stream",
       "stream": "stdout",
       "text": [
        "\n",
        "  1222  |    0.006204  |  \u001b[32m  0.008793\u001b[0m  |     0.705507  |             |  3.5s"
       ]
      },
      {
       "output_type": "stream",
       "stream": "stdout",
       "text": [
        "\n",
        "  1223  |    0.006174  |    0.008808  |     0.700996  |             |  3.5s"
       ]
      },
      {
       "output_type": "stream",
       "stream": "stdout",
       "text": [
        "\n",
        "  1224  |    0.006195  |    0.008795  |     0.704374  |             |  3.5s"
       ]
      },
      {
       "output_type": "stream",
       "stream": "stdout",
       "text": [
        "\n",
        "  1225  |  \u001b[94m  0.006135\u001b[0m  |    0.008821  |     0.695517  |             |  3.5s"
       ]
      },
      {
       "output_type": "stream",
       "stream": "stdout",
       "text": [
        "\n",
        "  1226  |  \u001b[94m  0.006087\u001b[0m  |    0.008809  |     0.691011  |             |  3.5s"
       ]
      },
      {
       "output_type": "stream",
       "stream": "stdout",
       "text": [
        "\n",
        "  1227  |    0.006129  |    0.008830  |     0.694067  |             |  3.5s"
       ]
      },
      {
       "output_type": "stream",
       "stream": "stdout",
       "text": [
        "\n",
        "  1228  |    0.006163  |    0.008821  |     0.698693  |             |  3.5s"
       ]
      },
      {
       "output_type": "stream",
       "stream": "stdout",
       "text": [
        "\n",
        "  1229  |    0.006173  |    0.008811  |     0.700608  |             |  3.5s"
       ]
      },
      {
       "output_type": "stream",
       "stream": "stdout",
       "text": [
        "\n",
        "  1230  |  \u001b[94m  0.006086\u001b[0m  |    0.008810  |     0.690809  |             |  3.5s"
       ]
      },
      {
       "output_type": "stream",
       "stream": "stdout",
       "text": [
        "\n",
        "  1231  |    0.006131  |    0.008816  |     0.695429  |             |  3.5s"
       ]
      },
      {
       "output_type": "stream",
       "stream": "stdout",
       "text": [
        "\n",
        "  1232  |    0.006171  |    0.008809  |     0.700617  |             |  3.5s"
       ]
      },
      {
       "output_type": "stream",
       "stream": "stdout",
       "text": [
        "\n",
        "  1233  |    0.006144  |    0.008804  |     0.697887  |             |  3.5s"
       ]
      },
      {
       "output_type": "stream",
       "stream": "stdout",
       "text": [
        "\n",
        "  1234  |    0.006113  |    0.008811  |     0.693807  |             |  3.5s"
       ]
      },
      {
       "output_type": "stream",
       "stream": "stdout",
       "text": [
        "\n",
        "  1235  |  \u001b[94m  0.006066\u001b[0m  |  \u001b[32m  0.008786\u001b[0m  |     0.690444  |             |  3.5s"
       ]
      },
      {
       "output_type": "stream",
       "stream": "stdout",
       "text": [
        "\n",
        "  1236  |    0.006175  |  \u001b[32m  0.008769\u001b[0m  |     0.704175  |             |  3.5s"
       ]
      },
      {
       "output_type": "stream",
       "stream": "stdout",
       "text": [
        "\n",
        "  1237  |    0.006126  |    0.008788  |     0.697120  |             |  3.5s"
       ]
      },
      {
       "output_type": "stream",
       "stream": "stdout",
       "text": [
        "\n",
        "  1238  |  \u001b[94m  0.006025\u001b[0m  |    0.008779  |     0.686269  |             |  3.5s"
       ]
      },
      {
       "output_type": "stream",
       "stream": "stdout",
       "text": [
        "\n",
        "  1239  |    0.006092  |    0.008801  |     0.692223  |             |  3.5s"
       ]
      },
      {
       "output_type": "stream",
       "stream": "stdout",
       "text": [
        "\n",
        "  1240  |    0.006054  |    0.008782  |     0.689409  |             |  3.5s"
       ]
      },
      {
       "output_type": "stream",
       "stream": "stdout",
       "text": [
        "\n",
        "  1241  |    0.006129  |    0.008796  |     0.696830  |             |  3.5s"
       ]
      },
      {
       "output_type": "stream",
       "stream": "stdout",
       "text": [
        "\n",
        "  1242  |    0.006032  |  \u001b[32m  0.008765\u001b[0m  |     0.688163  |             |  3.5s"
       ]
      },
      {
       "output_type": "stream",
       "stream": "stdout",
       "text": [
        "\n",
        "  1243  |    0.006039  |    0.008803  |     0.685980  |             |  3.5s"
       ]
      },
      {
       "output_type": "stream",
       "stream": "stdout",
       "text": [
        "\n",
        "  1244  |    0.006134  |    0.008793  |     0.697539  |             |  3.5s"
       ]
      },
      {
       "output_type": "stream",
       "stream": "stdout",
       "text": [
        "\n",
        "  1245  |    0.006045  |    0.008795  |     0.687321  |             |  3.5s"
       ]
      },
      {
       "output_type": "stream",
       "stream": "stdout",
       "text": [
        "\n",
        "  1246  |    0.006105  |    0.008789  |     0.694560  |             |  3.5s"
       ]
      },
      {
       "output_type": "stream",
       "stream": "stdout",
       "text": [
        "\n",
        "  1247  |    0.006109  |    0.008782  |     0.695628  |             |  3.5s"
       ]
      },
      {
       "output_type": "stream",
       "stream": "stdout",
       "text": [
        "\n",
        "  1248  |    0.006061  |    0.008765  |     0.691496  |             |  3.5s"
       ]
      },
      {
       "output_type": "stream",
       "stream": "stdout",
       "text": [
        "\n",
        "  1249  |    0.006028  |    0.008778  |     0.686721  |             |  3.5s"
       ]
      },
      {
       "output_type": "stream",
       "stream": "stdout",
       "text": [
        "\n",
        "  1250  |  \u001b[94m  0.005988\u001b[0m  |    0.008766  |     0.683028  |             |  3.5s"
       ]
      },
      {
       "output_type": "stream",
       "stream": "stdout",
       "text": [
        "\n",
        "  1251  |    0.006112  |    0.008774  |     0.696567  |             |  3.5s"
       ]
      },
      {
       "output_type": "stream",
       "stream": "stdout",
       "text": [
        "\n",
        "  1252  |  \u001b[94m  0.005975\u001b[0m  |    0.008777  |     0.680762  |             |  3.5s"
       ]
      },
      {
       "output_type": "stream",
       "stream": "stdout",
       "text": [
        "\n",
        "  1253  |  \u001b[94m  0.005946\u001b[0m  |    0.008787  |     0.676691  |             |  3.5s"
       ]
      },
      {
       "output_type": "stream",
       "stream": "stdout",
       "text": [
        "\n",
        "  1254  |    0.005997  |  \u001b[32m  0.008761\u001b[0m  |     0.684526  |             |  3.5s"
       ]
      },
      {
       "output_type": "stream",
       "stream": "stdout",
       "text": [
        "\n",
        "  1255  |  \u001b[94m  0.005914\u001b[0m  |  \u001b[32m  0.008758\u001b[0m  |     0.675322  |             |  3.5s"
       ]
      },
      {
       "output_type": "stream",
       "stream": "stdout",
       "text": [
        "\n",
        "  1256  |    0.006017  |  \u001b[32m  0.008753\u001b[0m  |     0.687430  |             |  3.5s"
       ]
      },
      {
       "output_type": "stream",
       "stream": "stdout",
       "text": [
        "\n",
        "  1257  |    0.005932  |  \u001b[32m  0.008752\u001b[0m  |     0.677822  |             |  3.5s"
       ]
      },
      {
       "output_type": "stream",
       "stream": "stdout",
       "text": [
        "\n",
        "  1258  |    0.006016  |  \u001b[32m  0.008743\u001b[0m  |     0.688077  |             |  3.5s"
       ]
      },
      {
       "output_type": "stream",
       "stream": "stdout",
       "text": [
        "\n",
        "  1259  |    0.006051  |    0.008747  |     0.691775  |             |  3.5s"
       ]
      },
      {
       "output_type": "stream",
       "stream": "stdout",
       "text": [
        "\n",
        "  1260  |    0.005972  |    0.008756  |     0.682101  |             |  3.5s"
       ]
      },
      {
       "output_type": "stream",
       "stream": "stdout",
       "text": [
        "\n",
        "  1261  |    0.006003  |  \u001b[32m  0.008739\u001b[0m  |     0.686906  |             |  3.5s"
       ]
      },
      {
       "output_type": "stream",
       "stream": "stdout",
       "text": [
        "\n",
        "  1262  |    0.005954  |    0.008752  |     0.680302  |             |  3.5s"
       ]
      },
      {
       "output_type": "stream",
       "stream": "stdout",
       "text": [
        "\n",
        "  1263  |  \u001b[94m  0.005891\u001b[0m  |    0.008753  |     0.673095  |             |  3.5s"
       ]
      },
      {
       "output_type": "stream",
       "stream": "stdout",
       "text": [
        "\n",
        "  1264  |    0.005950  |    0.008761  |     0.679151  |             |  3.5s"
       ]
      },
      {
       "output_type": "stream",
       "stream": "stdout",
       "text": [
        "\n",
        "  1265  |    0.005920  |    0.008772  |     0.674878  |             |  3.5s"
       ]
      },
      {
       "output_type": "stream",
       "stream": "stdout",
       "text": [
        "\n",
        "  1266  |    0.005999  |    0.008753  |     0.685344  |             |  3.5s"
       ]
      },
      {
       "output_type": "stream",
       "stream": "stdout",
       "text": [
        "\n",
        "  1267  |    0.005924  |    0.008771  |     0.675429  |             |  3.5s"
       ]
      },
      {
       "output_type": "stream",
       "stream": "stdout",
       "text": [
        "\n",
        "  1268  |  \u001b[94m  0.005872\u001b[0m  |    0.008759  |     0.670337  |             |  3.5s"
       ]
      },
      {
       "output_type": "stream",
       "stream": "stdout",
       "text": [
        "\n",
        "  1269  |    0.005917  |    0.008762  |     0.675332  |             |  3.5s"
       ]
      },
      {
       "output_type": "stream",
       "stream": "stdout",
       "text": [
        "\n",
        "  1270  |    0.005928  |    0.008744  |     0.677901  |             |  3.5s"
       ]
      },
      {
       "output_type": "stream",
       "stream": "stdout",
       "text": [
        "\n",
        "  1271  |    0.005968  |    0.008743  |     0.682602  |             |  3.5s"
       ]
      },
      {
       "output_type": "stream",
       "stream": "stdout",
       "text": [
        "\n",
        "  1272  |    0.005966  |    0.008763  |     0.680759  |             |  3.5s"
       ]
      },
      {
       "output_type": "stream",
       "stream": "stdout",
       "text": [
        "\n",
        "  1273  |    0.005923  |    0.008756  |     0.676396  |             |  3.5s"
       ]
      },
      {
       "output_type": "stream",
       "stream": "stdout",
       "text": [
        "\n",
        "  1274  |    0.005917  |    0.008754  |     0.675942  |             |  3.5s"
       ]
      },
      {
       "output_type": "stream",
       "stream": "stdout",
       "text": [
        "\n",
        "  1275  |  \u001b[94m  0.005869\u001b[0m  |    0.008758  |     0.670150  |             |  3.5s"
       ]
      },
      {
       "output_type": "stream",
       "stream": "stdout",
       "text": [
        "\n",
        "  1276  |    0.005998  |    0.008740  |     0.686221  |             |  3.5s"
       ]
      },
      {
       "output_type": "stream",
       "stream": "stdout",
       "text": [
        "\n",
        "  1277  |  \u001b[94m  0.005864\u001b[0m  |    0.008750  |     0.670206  |             |  3.5s"
       ]
      },
      {
       "output_type": "stream",
       "stream": "stdout",
       "text": [
        "\n",
        "  1278  |    0.005890  |  \u001b[32m  0.008719\u001b[0m  |     0.675485  |             |  3.5s"
       ]
      },
      {
       "output_type": "stream",
       "stream": "stdout",
       "text": [
        "\n",
        "  1279  |    0.005887  |    0.008734  |     0.674052  |             |  3.5s"
       ]
      },
      {
       "output_type": "stream",
       "stream": "stdout",
       "text": [
        "\n",
        "  1280  |    0.005866  |    0.008754  |     0.670068  |             |  3.5s"
       ]
      },
      {
       "output_type": "stream",
       "stream": "stdout",
       "text": [
        "\n",
        "  1281  |  \u001b[94m  0.005803\u001b[0m  |    0.008747  |     0.663434  |             |  3.5s"
       ]
      },
      {
       "output_type": "stream",
       "stream": "stdout",
       "text": [
        "\n",
        "  1282  |    0.005875  |    0.008753  |     0.671221  |             |  3.5s"
       ]
      },
      {
       "output_type": "stream",
       "stream": "stdout",
       "text": [
        "\n",
        "  1283  |  \u001b[94m  0.005795\u001b[0m  |    0.008736  |     0.663281  |             |  3.5s"
       ]
      },
      {
       "output_type": "stream",
       "stream": "stdout",
       "text": [
        "\n",
        "  1284  |    0.005880  |    0.008743  |     0.672465  |             |  3.5s"
       ]
      },
      {
       "output_type": "stream",
       "stream": "stdout",
       "text": [
        "\n",
        "  1285  |  \u001b[94m  0.005790\u001b[0m  |    0.008765  |     0.660528  |             |  3.5s"
       ]
      },
      {
       "output_type": "stream",
       "stream": "stdout",
       "text": [
        "\n",
        "  1286  |    0.005843  |    0.008727  |     0.669584  |             |  3.5s"
       ]
      },
      {
       "output_type": "stream",
       "stream": "stdout",
       "text": [
        "\n",
        "  1287  |    0.005809  |    0.008737  |     0.664868  |             |  3.5s"
       ]
      },
      {
       "output_type": "stream",
       "stream": "stdout",
       "text": [
        "\n",
        "  1288  |    0.005847  |    0.008740  |     0.668984  |             |  3.5s"
       ]
      },
      {
       "output_type": "stream",
       "stream": "stdout",
       "text": [
        "\n",
        "  1289  |  \u001b[94m  0.005774\u001b[0m  |    0.008759  |     0.659242  |             |  3.5s"
       ]
      },
      {
       "output_type": "stream",
       "stream": "stdout",
       "text": [
        "\n",
        "  1290  |    0.005885  |    0.008755  |     0.672175  |             |  3.5s"
       ]
      },
      {
       "output_type": "stream",
       "stream": "stdout",
       "text": [
        "\n",
        "  1291  |    0.005812  |    0.008735  |     0.665398  |             |  3.5s"
       ]
      },
      {
       "output_type": "stream",
       "stream": "stdout",
       "text": [
        "\n",
        "  1292  |    0.005843  |    0.008750  |     0.667740  |             |  3.5s"
       ]
      },
      {
       "output_type": "stream",
       "stream": "stdout",
       "text": [
        "\n",
        "  1293  |    0.005782  |    0.008720  |     0.663075  |             |  3.5s"
       ]
      },
      {
       "output_type": "stream",
       "stream": "stdout",
       "text": [
        "\n",
        "  1294  |    0.005878  |    0.008726  |     0.673581  |             |  3.5s"
       ]
      },
      {
       "output_type": "stream",
       "stream": "stdout",
       "text": [
        "\n",
        "  1295  |    0.005811  |    0.008734  |     0.665421  |             |  3.5s"
       ]
      },
      {
       "output_type": "stream",
       "stream": "stdout",
       "text": [
        "\n",
        "  1296  |  \u001b[94m  0.005742\u001b[0m  |    0.008740  |     0.656943  |             |  3.5s"
       ]
      },
      {
       "output_type": "stream",
       "stream": "stdout",
       "text": [
        "\n",
        "  1297  |    0.005815  |    0.008726  |     0.666399  |             |  3.5s"
       ]
      },
      {
       "output_type": "stream",
       "stream": "stdout",
       "text": [
        "\n",
        "  1298  |    0.005810  |    0.008746  |     0.664343  |             |  3.5s"
       ]
      },
      {
       "output_type": "stream",
       "stream": "stdout",
       "text": [
        "\n",
        "  1299  |    0.005778  |    0.008738  |     0.661280  |             |  3.5s"
       ]
      },
      {
       "output_type": "stream",
       "stream": "stdout",
       "text": [
        "\n",
        "  1300  |    0.005750  |    0.008725  |     0.659029  |             |  3.5s"
       ]
      },
      {
       "output_type": "stream",
       "stream": "stdout",
       "text": [
        "\n",
        "  1301  |  \u001b[94m  0.005740\u001b[0m  |  \u001b[32m  0.008714\u001b[0m  |     0.658735  |             |  3.5s"
       ]
      },
      {
       "output_type": "stream",
       "stream": "stdout",
       "text": [
        "\n",
        "  1302  |  \u001b[94m  0.005735\u001b[0m  |    0.008727  |     0.657090  |             |  3.5s"
       ]
      },
      {
       "output_type": "stream",
       "stream": "stdout",
       "text": [
        "\n",
        "  1303  |  \u001b[94m  0.005639\u001b[0m  |  \u001b[32m  0.008696\u001b[0m  |     0.648389  |             |  3.5s"
       ]
      },
      {
       "output_type": "stream",
       "stream": "stdout",
       "text": [
        "\n",
        "  1304  |    0.005739  |    0.008744  |     0.656348  |             |  3.5s"
       ]
      },
      {
       "output_type": "stream",
       "stream": "stdout",
       "text": [
        "\n",
        "  1305  |    0.005707  |    0.008709  |     0.655261  |             |  3.5s"
       ]
      },
      {
       "output_type": "stream",
       "stream": "stdout",
       "text": [
        "\n",
        "  1306  |    0.005693  |    0.008718  |     0.653049  |             |  3.5s"
       ]
      },
      {
       "output_type": "stream",
       "stream": "stdout",
       "text": [
        "\n",
        "  1307  |    0.005702  |    0.008709  |     0.654700  |             |  3.5s"
       ]
      },
      {
       "output_type": "stream",
       "stream": "stdout",
       "text": [
        "\n",
        "  1308  |    0.005731  |    0.008726  |     0.656792  |             |  3.5s"
       ]
      },
      {
       "output_type": "stream",
       "stream": "stdout",
       "text": [
        "\n",
        "  1309  |    0.005689  |    0.008721  |     0.652288  |             |  3.5s"
       ]
      },
      {
       "output_type": "stream",
       "stream": "stdout",
       "text": [
        "\n",
        "  1310  |    0.005679  |    0.008712  |     0.651857  |             |  3.5s"
       ]
      },
      {
       "output_type": "stream",
       "stream": "stdout",
       "text": [
        "\n",
        "  1311  |    0.005679  |    0.008712  |     0.651842  |             |  3.5s"
       ]
      },
      {
       "output_type": "stream",
       "stream": "stdout",
       "text": [
        "\n",
        "  1312  |    0.005712  |    0.008701  |     0.656536  |             |  3.5s"
       ]
      },
      {
       "output_type": "stream",
       "stream": "stdout",
       "text": [
        "\n",
        "  1313  |    0.005690  |    0.008712  |     0.653170  |             |  3.5s"
       ]
      },
      {
       "output_type": "stream",
       "stream": "stdout",
       "text": [
        "\n",
        "  1314  |    0.005689  |  \u001b[32m  0.008689\u001b[0m  |     0.654747  |             |  3.5s"
       ]
      },
      {
       "output_type": "stream",
       "stream": "stdout",
       "text": [
        "\n",
        "  1315  |    0.005740  |    0.008697  |     0.659926  |             |  3.5s"
       ]
      },
      {
       "output_type": "stream",
       "stream": "stdout",
       "text": [
        "\n",
        "  1316  |    0.005646  |    0.008691  |     0.649644  |             |  3.5s"
       ]
      },
      {
       "output_type": "stream",
       "stream": "stdout",
       "text": [
        "\n",
        "  1317  |    0.005680  |    0.008703  |     0.652708  |             |  3.5s"
       ]
      },
      {
       "output_type": "stream",
       "stream": "stdout",
       "text": [
        "\n",
        "  1318  |    0.005653  |    0.008729  |     0.647560  |             |  3.5s"
       ]
      },
      {
       "output_type": "stream",
       "stream": "stdout",
       "text": [
        "\n",
        "  1319  |    0.005680  |    0.008704  |     0.652576  |             |  3.5s"
       ]
      },
      {
       "output_type": "stream",
       "stream": "stdout",
       "text": [
        "\n",
        "  1320  |  \u001b[94m  0.005624\u001b[0m  |  \u001b[32m  0.008684\u001b[0m  |     0.647684  |             |  3.5s"
       ]
      },
      {
       "output_type": "stream",
       "stream": "stdout",
       "text": [
        "\n",
        "  1321  |    0.005627  |    0.008713  |     0.645852  |             |  3.5s"
       ]
      },
      {
       "output_type": "stream",
       "stream": "stdout",
       "text": [
        "\n",
        "  1322  |    0.005671  |    0.008691  |     0.652556  |             |  3.5s"
       ]
      },
      {
       "output_type": "stream",
       "stream": "stdout",
       "text": [
        "\n",
        "  1323  |    0.005750  |    0.008694  |     0.661362  |             |  3.5s"
       ]
      },
      {
       "output_type": "stream",
       "stream": "stdout",
       "text": [
        "\n",
        "  1324  |  \u001b[94m  0.005592\u001b[0m  |  \u001b[32m  0.008683\u001b[0m  |     0.643948  |             |  3.5s"
       ]
      },
      {
       "output_type": "stream",
       "stream": "stdout",
       "text": [
        "\n",
        "  1325  |  \u001b[94m  0.005581\u001b[0m  |    0.008695  |     0.641919  |             |  3.5s"
       ]
      },
      {
       "output_type": "stream",
       "stream": "stdout",
       "text": [
        "\n",
        "  1326  |    0.005621  |  \u001b[32m  0.008680\u001b[0m  |     0.647574  |             |  3.5s"
       ]
      },
      {
       "output_type": "stream",
       "stream": "stdout",
       "text": [
        "\n",
        "  1327  |    0.005651  |    0.008701  |     0.649432  |             |  3.5s"
       ]
      },
      {
       "output_type": "stream",
       "stream": "stdout",
       "text": [
        "\n",
        "  1328  |    0.005657  |    0.008706  |     0.649800  |             |  3.5s"
       ]
      },
      {
       "output_type": "stream",
       "stream": "stdout",
       "text": [
        "\n",
        "  1329  |    0.005638  |    0.008718  |     0.646733  |             |  3.5s"
       ]
      },
      {
       "output_type": "stream",
       "stream": "stdout",
       "text": [
        "\n",
        "  1330  |  \u001b[94m  0.005578\u001b[0m  |  \u001b[32m  0.008677\u001b[0m  |     0.642845  |             |  3.5s"
       ]
      },
      {
       "output_type": "stream",
       "stream": "stdout",
       "text": [
        "\n",
        "  1331  |    0.005630  |  \u001b[32m  0.008653\u001b[0m  |     0.650690  |             |  3.5s"
       ]
      },
      {
       "output_type": "stream",
       "stream": "stdout",
       "text": [
        "\n",
        "  1332  |    0.005618  |    0.008668  |     0.648117  |             |  3.5s"
       ]
      },
      {
       "output_type": "stream",
       "stream": "stdout",
       "text": [
        "\n",
        "  1333  |  \u001b[94m  0.005561\u001b[0m  |    0.008683  |     0.640514  |             |  3.5s"
       ]
      },
      {
       "output_type": "stream",
       "stream": "stdout",
       "text": [
        "\n",
        "  1334  |  \u001b[94m  0.005558\u001b[0m  |    0.008671  |     0.641030  |             |  3.5s"
       ]
      },
      {
       "output_type": "stream",
       "stream": "stdout",
       "text": [
        "\n",
        "  1335  |    0.005674  |    0.008687  |     0.653188  |             |  3.5s"
       ]
      },
      {
       "output_type": "stream",
       "stream": "stdout",
       "text": [
        "\n",
        "  1336  |  \u001b[94m  0.005531\u001b[0m  |    0.008667  |     0.638251  |             |  3.5s"
       ]
      },
      {
       "output_type": "stream",
       "stream": "stdout",
       "text": [
        "\n",
        "  1337  |    0.005560  |    0.008675  |     0.640886  |             |  3.5s"
       ]
      },
      {
       "output_type": "stream",
       "stream": "stdout",
       "text": [
        "\n",
        "  1338  |    0.005602  |  \u001b[32m  0.008638\u001b[0m  |     0.648612  |             |  3.5s"
       ]
      },
      {
       "output_type": "stream",
       "stream": "stdout",
       "text": [
        "\n",
        "  1339  |  \u001b[94m  0.005517\u001b[0m  |    0.008681  |     0.635483  |             |  3.5s"
       ]
      },
      {
       "output_type": "stream",
       "stream": "stdout",
       "text": [
        "\n",
        "  1340  |  \u001b[94m  0.005508\u001b[0m  |    0.008669  |     0.635445  |             |  3.5s"
       ]
      },
      {
       "output_type": "stream",
       "stream": "stdout",
       "text": [
        "\n",
        "  1341  |    0.005552  |    0.008666  |     0.640711  |             |  3.5s"
       ]
      },
      {
       "output_type": "stream",
       "stream": "stdout",
       "text": [
        "\n",
        "  1342  |    0.005600  |    0.008672  |     0.645785  |             |  3.5s"
       ]
      },
      {
       "output_type": "stream",
       "stream": "stdout",
       "text": [
        "\n",
        "  1343  |    0.005630  |    0.008676  |     0.648901  |             |  3.5s"
       ]
      },
      {
       "output_type": "stream",
       "stream": "stdout",
       "text": [
        "\n",
        "  1344  |  \u001b[94m  0.005489\u001b[0m  |    0.008680  |     0.632371  |             |  3.5s"
       ]
      },
      {
       "output_type": "stream",
       "stream": "stdout",
       "text": [
        "\n",
        "  1345  |    0.005564  |    0.008657  |     0.642677  |             |  3.5s"
       ]
      },
      {
       "output_type": "stream",
       "stream": "stdout",
       "text": [
        "\n",
        "  1346  |    0.005526  |    0.008667  |     0.637635  |             |  3.5s"
       ]
      },
      {
       "output_type": "stream",
       "stream": "stdout",
       "text": [
        "\n",
        "  1347  |    0.005521  |  \u001b[32m  0.008635\u001b[0m  |     0.639407  |             |  3.5s"
       ]
      },
      {
       "output_type": "stream",
       "stream": "stdout",
       "text": [
        "\n",
        "  1348  |  \u001b[94m  0.005462\u001b[0m  |    0.008678  |     0.629438  |             |  3.5s"
       ]
      },
      {
       "output_type": "stream",
       "stream": "stdout",
       "text": [
        "\n",
        "  1349  |    0.005545  |    0.008652  |     0.640929  |             |  3.5s"
       ]
      },
      {
       "output_type": "stream",
       "stream": "stdout",
       "text": [
        "\n",
        "  1350  |    0.005495  |    0.008670  |     0.633809  |             |  3.5s"
       ]
      },
      {
       "output_type": "stream",
       "stream": "stdout",
       "text": [
        "\n",
        "  1351  |    0.005472  |    0.008687  |     0.629884  |             |  3.5s"
       ]
      },
      {
       "output_type": "stream",
       "stream": "stdout",
       "text": [
        "\n",
        "  1352  |  \u001b[94m  0.005440\u001b[0m  |    0.008656  |     0.628468  |             |  3.5s"
       ]
      },
      {
       "output_type": "stream",
       "stream": "stdout",
       "text": [
        "\n",
        "  1353  |    0.005491  |    0.008668  |     0.633436  |             |  3.5s"
       ]
      },
      {
       "output_type": "stream",
       "stream": "stdout",
       "text": [
        "\n",
        "  1354  |    0.005528  |    0.008652  |     0.638919  |             |  3.5s"
       ]
      },
      {
       "output_type": "stream",
       "stream": "stdout",
       "text": [
        "\n",
        "  1355  |    0.005485  |    0.008674  |     0.632326  |             |  3.5s"
       ]
      },
      {
       "output_type": "stream",
       "stream": "stdout",
       "text": [
        "\n",
        "  1356  |    0.005447  |    0.008677  |     0.627790  |             |  3.5s"
       ]
      },
      {
       "output_type": "stream",
       "stream": "stdout",
       "text": [
        "\n",
        "  1357  |    0.005521  |    0.008672  |     0.636599  |             |  3.5s"
       ]
      },
      {
       "output_type": "stream",
       "stream": "stdout",
       "text": [
        "\n",
        "  1358  |    0.005499  |    0.008669  |     0.634406  |             |  3.5s"
       ]
      },
      {
       "output_type": "stream",
       "stream": "stdout",
       "text": [
        "\n",
        "  1359  |    0.005532  |    0.008645  |     0.639906  |             |  3.5s"
       ]
      },
      {
       "output_type": "stream",
       "stream": "stdout",
       "text": [
        "\n",
        "  1360  |    0.005457  |    0.008658  |     0.630310  |             |  3.5s"
       ]
      },
      {
       "output_type": "stream",
       "stream": "stdout",
       "text": [
        "\n",
        "  1361  |    0.005454  |    0.008652  |     0.630403  |             |  3.5s"
       ]
      },
      {
       "output_type": "stream",
       "stream": "stdout",
       "text": [
        "\n",
        "  1362  |    0.005484  |    0.008658  |     0.633444  |             |  3.5s"
       ]
      },
      {
       "output_type": "stream",
       "stream": "stdout",
       "text": [
        "\n",
        "  1363  |    0.005487  |    0.008673  |     0.632734  |             |  3.5s"
       ]
      },
      {
       "output_type": "stream",
       "stream": "stdout",
       "text": [
        "\n",
        "  1364  |    0.005465  |    0.008676  |     0.629888  |             |  3.5s"
       ]
      },
      {
       "output_type": "stream",
       "stream": "stdout",
       "text": [
        "\n",
        "  1365  |    0.005464  |    0.008660  |     0.630875  |             |  3.5s"
       ]
      },
      {
       "output_type": "stream",
       "stream": "stdout",
       "text": [
        "\n",
        "  1366  |  \u001b[94m  0.005419\u001b[0m  |    0.008663  |     0.625561  |             |  3.5s"
       ]
      },
      {
       "output_type": "stream",
       "stream": "stdout",
       "text": [
        "\n",
        "  1367  |    0.005445  |    0.008660  |     0.628756  |             |  3.5s"
       ]
      },
      {
       "output_type": "stream",
       "stream": "stdout",
       "text": [
        "\n",
        "  1368  |    0.005433  |  \u001b[32m  0.008628\u001b[0m  |     0.629732  |             |  3.5s"
       ]
      },
      {
       "output_type": "stream",
       "stream": "stdout",
       "text": [
        "\n",
        "  1369  |  \u001b[94m  0.005378\u001b[0m  |    0.008667  |     0.620459  |             |  3.5s"
       ]
      },
      {
       "output_type": "stream",
       "stream": "stdout",
       "text": [
        "\n",
        "  1370  |  \u001b[94m  0.005356\u001b[0m  |    0.008688  |     0.616521  |             |  3.5s"
       ]
      },
      {
       "output_type": "stream",
       "stream": "stdout",
       "text": [
        "\n",
        "  1371  |    0.005469  |    0.008648  |     0.632391  |             |  3.5s"
       ]
      },
      {
       "output_type": "stream",
       "stream": "stdout",
       "text": [
        "\n",
        "  1372  |    0.005366  |    0.008637  |     0.621315  |             |  3.5s"
       ]
      },
      {
       "output_type": "stream",
       "stream": "stdout",
       "text": [
        "\n",
        "  1373  |    0.005393  |    0.008644  |     0.623876  |             |  3.5s"
       ]
      },
      {
       "output_type": "stream",
       "stream": "stdout",
       "text": [
        "\n",
        "  1374  |    0.005410  |    0.008657  |     0.624926  |             |  3.5s"
       ]
      },
      {
       "output_type": "stream",
       "stream": "stdout",
       "text": [
        "\n",
        "  1375  |    0.005357  |    0.008645  |     0.619656  |             |  3.5s"
       ]
      },
      {
       "output_type": "stream",
       "stream": "stdout",
       "text": [
        "\n",
        "  1376  |    0.005427  |    0.008661  |     0.626633  |             |  3.5s"
       ]
      },
      {
       "output_type": "stream",
       "stream": "stdout",
       "text": [
        "\n",
        "  1377  |    0.005408  |    0.008643  |     0.625724  |             |  3.5s"
       ]
      },
      {
       "output_type": "stream",
       "stream": "stdout",
       "text": [
        "\n",
        "  1378  |    0.005371  |    0.008636  |     0.622001  |             |  3.5s"
       ]
      },
      {
       "output_type": "stream",
       "stream": "stdout",
       "text": [
        "\n",
        "  1379  |    0.005437  |  \u001b[32m  0.008624\u001b[0m  |     0.630392  |             |  3.5s"
       ]
      },
      {
       "output_type": "stream",
       "stream": "stdout",
       "text": [
        "\n",
        "  1380  |    0.005366  |    0.008628  |     0.621903  |             |  3.5s"
       ]
      },
      {
       "output_type": "stream",
       "stream": "stdout",
       "text": [
        "\n",
        "  1381  |  \u001b[94m  0.005337\u001b[0m  |    0.008632  |     0.618215  |             |  3.5s"
       ]
      },
      {
       "output_type": "stream",
       "stream": "stdout",
       "text": [
        "\n",
        "  1382  |    0.005347  |    0.008643  |     0.618664  |             |  3.5s"
       ]
      },
      {
       "output_type": "stream",
       "stream": "stdout",
       "text": [
        "\n",
        "  1383  |    0.005355  |    0.008632  |     0.620318  |             |  3.5s"
       ]
      },
      {
       "output_type": "stream",
       "stream": "stdout",
       "text": [
        "\n",
        "  1384  |    0.005394  |    0.008628  |     0.625194  |             |  3.5s"
       ]
      },
      {
       "output_type": "stream",
       "stream": "stdout",
       "text": [
        "\n",
        "  1385  |    0.005424  |    0.008644  |     0.627555  |             |  3.5s"
       ]
      },
      {
       "output_type": "stream",
       "stream": "stdout",
       "text": [
        "\n",
        "  1386  |    0.005371  |    0.008635  |     0.621993  |             |  3.5s"
       ]
      },
      {
       "output_type": "stream",
       "stream": "stdout",
       "text": [
        "\n",
        "  1387  |    0.005347  |  \u001b[32m  0.008624\u001b[0m  |     0.620091  |             |  3.5s"
       ]
      },
      {
       "output_type": "stream",
       "stream": "stdout",
       "text": [
        "\n",
        "  1388  |  \u001b[94m  0.005310\u001b[0m  |    0.008637  |     0.614808  |             |  3.5s"
       ]
      },
      {
       "output_type": "stream",
       "stream": "stdout",
       "text": [
        "\n",
        "  1389  |    0.005354  |  \u001b[32m  0.008622\u001b[0m  |     0.620974  |             |  3.5s"
       ]
      },
      {
       "output_type": "stream",
       "stream": "stdout",
       "text": [
        "\n",
        "  1390  |    0.005329  |    0.008665  |     0.615050  |             |  3.5s"
       ]
      },
      {
       "output_type": "stream",
       "stream": "stdout",
       "text": [
        "\n",
        "  1391  |    0.005354  |    0.008635  |     0.620032  |             |  3.5s"
       ]
      },
      {
       "output_type": "stream",
       "stream": "stdout",
       "text": [
        "\n",
        "  1392  |  \u001b[94m  0.005268\u001b[0m  |    0.008624  |     0.610831  |             |  3.5s"
       ]
      },
      {
       "output_type": "stream",
       "stream": "stdout",
       "text": [
        "\n",
        "  1393  |    0.005364  |  \u001b[32m  0.008617\u001b[0m  |     0.622531  |             |  3.5s"
       ]
      },
      {
       "output_type": "stream",
       "stream": "stdout",
       "text": [
        "\n",
        "  1394  |    0.005345  |    0.008631  |     0.619343  |             |  3.5s"
       ]
      },
      {
       "output_type": "stream",
       "stream": "stdout",
       "text": [
        "\n",
        "  1395  |  \u001b[94m  0.005267\u001b[0m  |    0.008625  |     0.610658  |             |  3.5s"
       ]
      },
      {
       "output_type": "stream",
       "stream": "stdout",
       "text": [
        "\n",
        "  1396  |    0.005324  |    0.008631  |     0.616870  |             |  3.5s"
       ]
      },
      {
       "output_type": "stream",
       "stream": "stdout",
       "text": [
        "\n",
        "  1397  |  \u001b[94m  0.005196\u001b[0m  |  \u001b[32m  0.008615\u001b[0m  |     0.603158  |             |  3.5s"
       ]
      },
      {
       "output_type": "stream",
       "stream": "stdout",
       "text": [
        "\n",
        "  1398  |    0.005223  |    0.008630  |     0.605260  |             |  3.5s"
       ]
      },
      {
       "output_type": "stream",
       "stream": "stdout",
       "text": [
        "\n",
        "  1399  |    0.005248  |    0.008624  |     0.608495  |             |  3.5s"
       ]
      },
      {
       "output_type": "stream",
       "stream": "stdout",
       "text": [
        "\n",
        "  1400  |    0.005284  |    0.008631  |     0.612243  |             |  3.5s"
       ]
      },
      {
       "output_type": "stream",
       "stream": "stdout",
       "text": [
        "\n",
        "  1401  |    0.005295  |    0.008623  |     0.614082  |             |  3.5s"
       ]
      },
      {
       "output_type": "stream",
       "stream": "stdout",
       "text": [
        "\n",
        "  1402  |    0.005274  |    0.008623  |     0.611558  |             |  3.5s"
       ]
      },
      {
       "output_type": "stream",
       "stream": "stdout",
       "text": [
        "\n",
        "  1403  |    0.005271  |    0.008616  |     0.611819  |             |  3.5s"
       ]
      },
      {
       "output_type": "stream",
       "stream": "stdout",
       "text": [
        "\n",
        "  1404  |    0.005353  |    0.008635  |     0.619947  |             |  3.5s"
       ]
      },
      {
       "output_type": "stream",
       "stream": "stdout",
       "text": [
        "\n",
        "  1405  |    0.005248  |    0.008624  |     0.608596  |             |  3.5s"
       ]
      },
      {
       "output_type": "stream",
       "stream": "stdout",
       "text": [
        "\n",
        "  1406  |    0.005232  |    0.008651  |     0.604841  |             |  3.5s"
       ]
      },
      {
       "output_type": "stream",
       "stream": "stdout",
       "text": [
        "\n",
        "  1407  |    0.005199  |    0.008631  |     0.602415  |             |  3.5s"
       ]
      },
      {
       "output_type": "stream",
       "stream": "stdout",
       "text": [
        "\n",
        "  1408  |    0.005213  |    0.008624  |     0.604464  |             |  3.5s"
       ]
      },
      {
       "output_type": "stream",
       "stream": "stdout",
       "text": [
        "\n",
        "  1409  |    0.005283  |  \u001b[32m  0.008610\u001b[0m  |     0.613587  |             |  3.5s"
       ]
      },
      {
       "output_type": "stream",
       "stream": "stdout",
       "text": [
        "\n",
        "  1410  |    0.005349  |  \u001b[32m  0.008607\u001b[0m  |     0.621424  |             |  3.5s"
       ]
      },
      {
       "output_type": "stream",
       "stream": "stdout",
       "text": [
        "\n",
        "  1411  |    0.005200  |  \u001b[32m  0.008598\u001b[0m  |     0.604789  |             |  3.5s"
       ]
      },
      {
       "output_type": "stream",
       "stream": "stdout",
       "text": [
        "\n",
        "  1412  |    0.005259  |    0.008599  |     0.611604  |             |  3.5s"
       ]
      },
      {
       "output_type": "stream",
       "stream": "stdout",
       "text": [
        "\n",
        "  1413  |    0.005249  |    0.008632  |     0.608125  |             |  3.5s"
       ]
      },
      {
       "output_type": "stream",
       "stream": "stdout",
       "text": [
        "\n",
        "  1414  |    0.005234  |    0.008599  |     0.608665  |             |  3.5s"
       ]
      },
      {
       "output_type": "stream",
       "stream": "stdout",
       "text": [
        "\n",
        "  1415  |  \u001b[94m  0.005168\u001b[0m  |    0.008615  |     0.599861  |             |  3.5s"
       ]
      },
      {
       "output_type": "stream",
       "stream": "stdout",
       "text": [
        "\n",
        "  1416  |    0.005187  |  \u001b[32m  0.008578\u001b[0m  |     0.604648  |             |  3.5s"
       ]
      },
      {
       "output_type": "stream",
       "stream": "stdout",
       "text": [
        "\n",
        "  1417  |    0.005268  |    0.008623  |     0.610838  |             |  3.5s"
       ]
      },
      {
       "output_type": "stream",
       "stream": "stdout",
       "text": [
        "\n",
        "  1418  |    0.005234  |    0.008607  |     0.608073  |             |  3.5s"
       ]
      },
      {
       "output_type": "stream",
       "stream": "stdout",
       "text": [
        "\n",
        "  1419  |    0.005242  |    0.008607  |     0.609039  |             |  3.5s"
       ]
      },
      {
       "output_type": "stream",
       "stream": "stdout",
       "text": [
        "\n",
        "  1420  |    0.005302  |    0.008610  |     0.615784  |             |  3.5s"
       ]
      },
      {
       "output_type": "stream",
       "stream": "stdout",
       "text": [
        "\n",
        "  1421  |    0.005178  |    0.008599  |     0.602166  |             |  3.5s"
       ]
      },
      {
       "output_type": "stream",
       "stream": "stdout",
       "text": [
        "\n",
        "  1422  |  \u001b[94m  0.005160\u001b[0m  |    0.008607  |     0.599540  |             |  3.5s"
       ]
      },
      {
       "output_type": "stream",
       "stream": "stdout",
       "text": [
        "\n",
        "  1423  |    0.005273  |    0.008611  |     0.612371  |             |  3.5s"
       ]
      },
      {
       "output_type": "stream",
       "stream": "stdout",
       "text": [
        "\n",
        "  1424  |    0.005164  |    0.008592  |     0.601056  |             |  3.5s"
       ]
      },
      {
       "output_type": "stream",
       "stream": "stdout",
       "text": [
        "\n",
        "  1425  |    0.005180  |    0.008597  |     0.602501  |             |  3.5s"
       ]
      },
      {
       "output_type": "stream",
       "stream": "stdout",
       "text": [
        "\n",
        "  1426  |    0.005184  |    0.008598  |     0.602936  |             |  3.5s"
       ]
      },
      {
       "output_type": "stream",
       "stream": "stdout",
       "text": [
        "\n",
        "  1427  |  \u001b[94m  0.005111\u001b[0m  |    0.008595  |     0.594620  |             |  3.5s"
       ]
      },
      {
       "output_type": "stream",
       "stream": "stdout",
       "text": [
        "\n",
        "  1428  |    0.005136  |    0.008596  |     0.597510  |             |  3.5s"
       ]
      },
      {
       "output_type": "stream",
       "stream": "stdout",
       "text": [
        "\n",
        "  1429  |  \u001b[94m  0.005093\u001b[0m  |    0.008585  |     0.593274  |             |  3.5s"
       ]
      },
      {
       "output_type": "stream",
       "stream": "stdout",
       "text": [
        "\n",
        "  1430  |    0.005130  |    0.008594  |     0.596920  |             |  3.5s"
       ]
      },
      {
       "output_type": "stream",
       "stream": "stdout",
       "text": [
        "\n",
        "  1431  |    0.005102  |    0.008592  |     0.593802  |             |  3.5s"
       ]
      },
      {
       "output_type": "stream",
       "stream": "stdout",
       "text": [
        "\n",
        "  1432  |    0.005165  |  \u001b[32m  0.008577\u001b[0m  |     0.602170  |             |  3.5s"
       ]
      },
      {
       "output_type": "stream",
       "stream": "stdout",
       "text": [
        "\n",
        "  1433  |    0.005150  |    0.008588  |     0.599607  |             |  3.5s"
       ]
      },
      {
       "output_type": "stream",
       "stream": "stdout",
       "text": [
        "\n",
        "  1434  |    0.005149  |    0.008597  |     0.598955  |             |  3.5s"
       ]
      },
      {
       "output_type": "stream",
       "stream": "stdout",
       "text": [
        "\n",
        "  1435  |    0.005095  |    0.008610  |     0.591768  |             |  3.5s"
       ]
      },
      {
       "output_type": "stream",
       "stream": "stdout",
       "text": [
        "\n",
        "  1436  |    0.005202  |    0.008584  |     0.605973  |             |  3.5s"
       ]
      },
      {
       "output_type": "stream",
       "stream": "stdout",
       "text": [
        "\n",
        "  1437  |    0.005111  |    0.008603  |     0.594115  |             |  3.5s"
       ]
      },
      {
       "output_type": "stream",
       "stream": "stdout",
       "text": [
        "\n",
        "  1438  |  \u001b[94m  0.005090\u001b[0m  |    0.008597  |     0.592090  |             |  3.5s"
       ]
      },
      {
       "output_type": "stream",
       "stream": "stdout",
       "text": [
        "\n",
        "  1439  |  \u001b[94m  0.005070\u001b[0m  |    0.008596  |     0.589796  |             |  3.5s"
       ]
      },
      {
       "output_type": "stream",
       "stream": "stdout",
       "text": [
        "\n",
        "  1440  |    0.005170  |    0.008607  |     0.600603  |             |  3.5s"
       ]
      },
      {
       "output_type": "stream",
       "stream": "stdout",
       "text": [
        "\n",
        "  1441  |    0.005095  |    0.008598  |     0.592550  |             |  3.5s"
       ]
      },
      {
       "output_type": "stream",
       "stream": "stdout",
       "text": [
        "\n",
        "  1442  |    0.005098  |    0.008594  |     0.593190  |             |  3.5s"
       ]
      },
      {
       "output_type": "stream",
       "stream": "stdout",
       "text": [
        "\n",
        "  1443  |    0.005145  |    0.008591  |     0.598832  |             |  3.5s"
       ]
      },
      {
       "output_type": "stream",
       "stream": "stdout",
       "text": [
        "\n",
        "  1444  |  \u001b[94m  0.005051\u001b[0m  |    0.008593  |     0.587865  |             |  3.5s"
       ]
      },
      {
       "output_type": "stream",
       "stream": "stdout",
       "text": [
        "\n",
        "  1445  |    0.005098  |  \u001b[32m  0.008577\u001b[0m  |     0.594340  |             |  3.5s"
       ]
      },
      {
       "output_type": "stream",
       "stream": "stdout",
       "text": [
        "\n",
        "  1446  |    0.005079  |    0.008597  |     0.590697  |             |  3.5s"
       ]
      },
      {
       "output_type": "stream",
       "stream": "stdout",
       "text": [
        "\n",
        "  1447  |  \u001b[94m  0.005021\u001b[0m  |    0.008586  |     0.584803  |             |  3.5s"
       ]
      },
      {
       "output_type": "stream",
       "stream": "stdout",
       "text": [
        "\n",
        "  1448  |    0.005134  |    0.008594  |     0.597423  |             |  3.5s"
       ]
      },
      {
       "output_type": "stream",
       "stream": "stdout",
       "text": [
        "\n",
        "  1449  |    0.005062  |    0.008595  |     0.588916  |             |  3.5s"
       ]
      },
      {
       "output_type": "stream",
       "stream": "stdout",
       "text": [
        "\n",
        "  1450  |    0.005086  |    0.008582  |     0.592650  |             |  3.5s"
       ]
      },
      {
       "output_type": "stream",
       "stream": "stdout",
       "text": [
        "\n",
        "  1451  |    0.005049  |    0.008583  |     0.588240  |             |  3.5s"
       ]
      },
      {
       "output_type": "stream",
       "stream": "stdout",
       "text": [
        "\n",
        "  1452  |    0.005021  |    0.008577  |     0.585402  |             |  3.5s"
       ]
      },
      {
       "output_type": "stream",
       "stream": "stdout",
       "text": [
        "\n",
        "  1453  |    0.005038  |    0.008578  |     0.587285  |             |  3.5s"
       ]
      },
      {
       "output_type": "stream",
       "stream": "stdout",
       "text": [
        "\n",
        "  1454  |    0.005039  |    0.008602  |     0.585779  |             |  3.5s"
       ]
      },
      {
       "output_type": "stream",
       "stream": "stdout",
       "text": [
        "\n",
        "  1455  |    0.005090  |  \u001b[32m  0.008575\u001b[0m  |     0.593530  |             |  3.5s"
       ]
      },
      {
       "output_type": "stream",
       "stream": "stdout",
       "text": [
        "\n",
        "  1456  |    0.005023  |    0.008583  |     0.585242  |             |  3.5s"
       ]
      },
      {
       "output_type": "stream",
       "stream": "stdout",
       "text": [
        "\n",
        "  1457  |    0.005077  |  \u001b[32m  0.008568\u001b[0m  |     0.592564  |             |  3.5s"
       ]
      },
      {
       "output_type": "stream",
       "stream": "stdout",
       "text": [
        "\n",
        "  1458  |  \u001b[94m  0.005011\u001b[0m  |    0.008603  |     0.582472  |             |  3.5s"
       ]
      },
      {
       "output_type": "stream",
       "stream": "stdout",
       "text": [
        "\n",
        "  1459  |  \u001b[94m  0.004934\u001b[0m  |  \u001b[32m  0.008568\u001b[0m  |     0.575945  |             |  3.5s"
       ]
      },
      {
       "output_type": "stream",
       "stream": "stdout",
       "text": [
        "\n",
        "  1460  |    0.005042  |    0.008571  |     0.588300  |             |  3.5s"
       ]
      },
      {
       "output_type": "stream",
       "stream": "stdout",
       "text": [
        "\n",
        "  1461  |    0.005026  |    0.008582  |     0.585579  |             |  3.5s"
       ]
      },
      {
       "output_type": "stream",
       "stream": "stdout",
       "text": [
        "\n",
        "  1462  |    0.005020  |    0.008591  |     0.584323  |             |  3.5s"
       ]
      },
      {
       "output_type": "stream",
       "stream": "stdout",
       "text": [
        "\n",
        "  1463  |    0.004980  |    0.008588  |     0.579850  |             |  3.5s"
       ]
      },
      {
       "output_type": "stream",
       "stream": "stdout",
       "text": [
        "\n",
        "  1464  |    0.005014  |    0.008579  |     0.584471  |             |  3.5s"
       ]
      },
      {
       "output_type": "stream",
       "stream": "stdout",
       "text": [
        "\n",
        "  1465  |    0.005049  |    0.008571  |     0.589003  |             |  3.5s"
       ]
      },
      {
       "output_type": "stream",
       "stream": "stdout",
       "text": [
        "\n",
        "  1466  |    0.005074  |    0.008597  |     0.590219  |             |  3.5s"
       ]
      },
      {
       "output_type": "stream",
       "stream": "stdout",
       "text": [
        "\n",
        "  1467  |    0.004943  |    0.008579  |     0.576220  |             |  3.5s"
       ]
      },
      {
       "output_type": "stream",
       "stream": "stdout",
       "text": [
        "\n",
        "  1468  |    0.004986  |    0.008598  |     0.579852  |             |  3.5s"
       ]
      },
      {
       "output_type": "stream",
       "stream": "stdout",
       "text": [
        "\n",
        "  1469  |  \u001b[94m  0.004918\u001b[0m  |    0.008579  |     0.573205  |             |  3.5s"
       ]
      },
      {
       "output_type": "stream",
       "stream": "stdout",
       "text": [
        "\n",
        "  1470  |    0.004998  |    0.008590  |     0.581865  |             |  3.5s"
       ]
      },
      {
       "output_type": "stream",
       "stream": "stdout",
       "text": [
        "\n",
        "  1471  |    0.004990  |    0.008592  |     0.580745  |             |  3.5s"
       ]
      },
      {
       "output_type": "stream",
       "stream": "stdout",
       "text": [
        "\n",
        "  1472  |    0.004988  |    0.008587  |     0.580803  |             |  3.5s"
       ]
      },
      {
       "output_type": "stream",
       "stream": "stdout",
       "text": [
        "\n",
        "  1473  |    0.005064  |    0.008600  |     0.588808  |             |  3.5s"
       ]
      },
      {
       "output_type": "stream",
       "stream": "stdout",
       "text": [
        "\n",
        "  1474  |    0.004974  |    0.008584  |     0.579459  |             |  3.5s"
       ]
      },
      {
       "output_type": "stream",
       "stream": "stdout",
       "text": [
        "\n",
        "  1475  |  \u001b[94m  0.004905\u001b[0m  |    0.008586  |     0.571341  |             |  3.5s"
       ]
      },
      {
       "output_type": "stream",
       "stream": "stdout",
       "text": [
        "\n",
        "  1476  |    0.004939  |    0.008570  |     0.576295  |             |  3.5s"
       ]
      },
      {
       "output_type": "stream",
       "stream": "stdout",
       "text": [
        "\n",
        "  1477  |  \u001b[94m  0.004819\u001b[0m  |  \u001b[32m  0.008552\u001b[0m  |     0.563527  |             |  3.5s"
       ]
      },
      {
       "output_type": "stream",
       "stream": "stdout",
       "text": [
        "\n",
        "  1478  |    0.004854  |    0.008588  |     0.565180  |             |  3.5s"
       ]
      },
      {
       "output_type": "stream",
       "stream": "stdout",
       "text": [
        "\n",
        "  1479  |    0.004943  |    0.008576  |     0.576378  |             |  3.5s"
       ]
      },
      {
       "output_type": "stream",
       "stream": "stdout",
       "text": [
        "\n",
        "  1480  |    0.004961  |    0.008579  |     0.578263  |             |  3.5s"
       ]
      },
      {
       "output_type": "stream",
       "stream": "stdout",
       "text": [
        "\n",
        "  1481  |    0.004932  |    0.008571  |     0.575414  |             |  3.5s"
       ]
      },
      {
       "output_type": "stream",
       "stream": "stdout",
       "text": [
        "\n",
        "  1482  |    0.004869  |    0.008581  |     0.567466  |             |  3.5s"
       ]
      },
      {
       "output_type": "stream",
       "stream": "stdout",
       "text": [
        "\n",
        "  1483  |    0.004901  |  \u001b[32m  0.008550\u001b[0m  |     0.573218  |             |  3.5s"
       ]
      },
      {
       "output_type": "stream",
       "stream": "stdout",
       "text": [
        "\n",
        "  1484  |    0.004931  |    0.008574  |     0.575096  |             |  3.5s"
       ]
      },
      {
       "output_type": "stream",
       "stream": "stdout",
       "text": [
        "\n",
        "  1485  |    0.004947  |    0.008551  |     0.578540  |             |  3.5s"
       ]
      },
      {
       "output_type": "stream",
       "stream": "stdout",
       "text": [
        "\n",
        "  1486  |    0.004923  |    0.008575  |     0.574087  |             |  3.5s"
       ]
      },
      {
       "output_type": "stream",
       "stream": "stdout",
       "text": [
        "\n",
        "  1487  |    0.004884  |    0.008560  |     0.570496  |             |  3.5s"
       ]
      },
      {
       "output_type": "stream",
       "stream": "stdout",
       "text": [
        "\n",
        "  1488  |    0.004865  |    0.008553  |     0.568755  |             |  3.5s"
       ]
      },
      {
       "output_type": "stream",
       "stream": "stdout",
       "text": [
        "\n",
        "  1489  |  \u001b[94m  0.004778\u001b[0m  |    0.008577  |     0.557023  |             |  3.5s"
       ]
      },
      {
       "output_type": "stream",
       "stream": "stdout",
       "text": [
        "\n",
        "  1490  |    0.004882  |    0.008568  |     0.569813  |             |  3.5s"
       ]
      },
      {
       "output_type": "stream",
       "stream": "stdout",
       "text": [
        "\n",
        "  1491  |    0.004846  |    0.008584  |     0.564523  |             |  3.5s"
       ]
      },
      {
       "output_type": "stream",
       "stream": "stdout",
       "text": [
        "\n",
        "  1492  |    0.004875  |    0.008577  |     0.568329  |             |  3.5s"
       ]
      },
      {
       "output_type": "stream",
       "stream": "stdout",
       "text": [
        "\n",
        "  1493  |    0.004854  |  \u001b[32m  0.008547\u001b[0m  |     0.567940  |             |  3.5s"
       ]
      },
      {
       "output_type": "stream",
       "stream": "stdout",
       "text": [
        "\n",
        "  1494  |    0.004900  |    0.008578  |     0.571262  |             |  3.5s"
       ]
      },
      {
       "output_type": "stream",
       "stream": "stdout",
       "text": [
        "\n",
        "  1495  |    0.004836  |    0.008568  |     0.564505  |             |  3.5s"
       ]
      },
      {
       "output_type": "stream",
       "stream": "stdout",
       "text": [
        "\n",
        "  1496  |    0.004822  |    0.008589  |     0.561395  |             |  3.5s"
       ]
      },
      {
       "output_type": "stream",
       "stream": "stdout",
       "text": [
        "\n",
        "  1497  |    0.004924  |    0.008575  |     0.574207  |             |  3.5s"
       ]
      },
      {
       "output_type": "stream",
       "stream": "stdout",
       "text": [
        "\n",
        "  1498  |    0.004813  |    0.008576  |     0.561241  |             |  3.5s"
       ]
      },
      {
       "output_type": "stream",
       "stream": "stdout",
       "text": [
        "\n",
        "  1499  |    0.004843  |    0.008566  |     0.565401  |             |  3.5s"
       ]
      },
      {
       "output_type": "stream",
       "stream": "stdout",
       "text": [
        "\n",
        "  1500  |    0.004855  |  \u001b[32m  0.008543\u001b[0m  |     0.568248  |             |  3.5s"
       ]
      },
      {
       "output_type": "stream",
       "stream": "stdout",
       "text": [
        "\n",
        "  1501  |    0.004800  |    0.008550  |     0.561369  |             |  3.5s"
       ]
      },
      {
       "output_type": "stream",
       "stream": "stdout",
       "text": [
        "\n",
        "  1502  |    0.004820  |    0.008554  |     0.563473  |             |  3.5s"
       ]
      },
      {
       "output_type": "stream",
       "stream": "stdout",
       "text": [
        "\n",
        "  1503  |    0.004800  |    0.008568  |     0.560255  |             |  3.5s"
       ]
      },
      {
       "output_type": "stream",
       "stream": "stdout",
       "text": [
        "\n",
        "  1504  |    0.004831  |    0.008581  |     0.562984  |             |  3.5s"
       ]
      },
      {
       "output_type": "stream",
       "stream": "stdout",
       "text": [
        "\n",
        "  1505  |    0.004826  |    0.008562  |     0.563597  |             |  3.5s"
       ]
      },
      {
       "output_type": "stream",
       "stream": "stdout",
       "text": [
        "\n",
        "  1506  |    0.004793  |    0.008570  |     0.559324  |             |  3.5s"
       ]
      },
      {
       "output_type": "stream",
       "stream": "stdout",
       "text": [
        "\n",
        "  1507  |    0.004808  |  \u001b[32m  0.008536\u001b[0m  |     0.563258  |             |  3.5s"
       ]
      },
      {
       "output_type": "stream",
       "stream": "stdout",
       "text": [
        "\n",
        "  1508  |    0.004804  |    0.008556  |     0.561559  |             |  3.5s"
       ]
      },
      {
       "output_type": "stream",
       "stream": "stdout",
       "text": [
        "\n",
        "  1509  |    0.004778  |    0.008555  |     0.558530  |             |  3.5s"
       ]
      },
      {
       "output_type": "stream",
       "stream": "stdout",
       "text": [
        "\n",
        "  1510  |  \u001b[94m  0.004714\u001b[0m  |    0.008554  |     0.551063  |             |  3.5s"
       ]
      },
      {
       "output_type": "stream",
       "stream": "stdout",
       "text": [
        "\n",
        "  1511  |    0.004859  |    0.008550  |     0.568344  |             |  3.5s"
       ]
      },
      {
       "output_type": "stream",
       "stream": "stdout",
       "text": [
        "\n",
        "  1512  |    0.004787  |    0.008558  |     0.559346  |             |  3.5s"
       ]
      },
      {
       "output_type": "stream",
       "stream": "stdout",
       "text": [
        "\n",
        "  1513  |    0.004762  |    0.008562  |     0.556165  |             |  3.5s"
       ]
      },
      {
       "output_type": "stream",
       "stream": "stdout",
       "text": [
        "\n",
        "  1514  |    0.004860  |    0.008557  |     0.567928  |             |  3.5s"
       ]
      },
      {
       "output_type": "stream",
       "stream": "stdout",
       "text": [
        "\n",
        "  1515  |    0.004764  |    0.008551  |     0.557155  |             |  3.5s"
       ]
      },
      {
       "output_type": "stream",
       "stream": "stdout",
       "text": [
        "\n",
        "  1516  |    0.004841  |    0.008563  |     0.565351  |             |  3.5s"
       ]
      },
      {
       "output_type": "stream",
       "stream": "stdout",
       "text": [
        "\n",
        "  1517  |    0.004837  |    0.008543  |     0.566200  |             |  3.5s"
       ]
      },
      {
       "output_type": "stream",
       "stream": "stdout",
       "text": [
        "\n",
        "  1518  |    0.004783  |    0.008543  |     0.559827  |             |  3.5s"
       ]
      },
      {
       "output_type": "stream",
       "stream": "stdout",
       "text": [
        "\n",
        "  1519  |    0.004766  |    0.008550  |     0.557433  |             |  3.5s"
       ]
      },
      {
       "output_type": "stream",
       "stream": "stdout",
       "text": [
        "\n",
        "  1520  |    0.004815  |    0.008569  |     0.561876  |             |  3.5s"
       ]
      },
      {
       "output_type": "stream",
       "stream": "stdout",
       "text": [
        "\n",
        "  1521  |    0.004761  |    0.008554  |     0.556641  |             |  3.5s"
       ]
      },
      {
       "output_type": "stream",
       "stream": "stdout",
       "text": [
        "\n",
        "  1522  |    0.004778  |    0.008543  |     0.559237  |             |  3.5s"
       ]
      },
      {
       "output_type": "stream",
       "stream": "stdout",
       "text": [
        "\n",
        "  1523  |    0.004776  |    0.008539  |     0.559316  |             |  3.5s"
       ]
      },
      {
       "output_type": "stream",
       "stream": "stdout",
       "text": [
        "\n",
        "  1524  |    0.004715  |  \u001b[32m  0.008529\u001b[0m  |     0.552827  |             |  3.5s"
       ]
      },
      {
       "output_type": "stream",
       "stream": "stdout",
       "text": [
        "\n",
        "  1525  |  \u001b[94m  0.004708\u001b[0m  |    0.008547  |     0.550773  |             |  3.5s"
       ]
      },
      {
       "output_type": "stream",
       "stream": "stdout",
       "text": [
        "\n",
        "  1526  |    0.004759  |    0.008542  |     0.557175  |             |  3.5s"
       ]
      },
      {
       "output_type": "stream",
       "stream": "stdout",
       "text": [
        "\n",
        "  1527  |    0.004833  |    0.008532  |     0.566530  |             |  3.5s"
       ]
      },
      {
       "output_type": "stream",
       "stream": "stdout",
       "text": [
        "\n",
        "  1528  |    0.004754  |    0.008543  |     0.556425  |             |  3.5s"
       ]
      },
      {
       "output_type": "stream",
       "stream": "stdout",
       "text": [
        "\n",
        "  1529  |  \u001b[94m  0.004699\u001b[0m  |    0.008547  |     0.549779  |             |  3.5s"
       ]
      },
      {
       "output_type": "stream",
       "stream": "stdout",
       "text": [
        "\n",
        "  1530  |    0.004714  |    0.008552  |     0.551234  |             |  3.5s"
       ]
      },
      {
       "output_type": "stream",
       "stream": "stdout",
       "text": [
        "\n",
        "  1531  |    0.004753  |    0.008553  |     0.555700  |             |  3.5s"
       ]
      },
      {
       "output_type": "stream",
       "stream": "stdout",
       "text": [
        "\n",
        "  1532  |    0.004779  |    0.008537  |     0.559784  |             |  3.5s"
       ]
      },
      {
       "output_type": "stream",
       "stream": "stdout",
       "text": [
        "\n",
        "  1533  |  \u001b[94m  0.004672\u001b[0m  |    0.008552  |     0.546347  |             |  3.5s"
       ]
      },
      {
       "output_type": "stream",
       "stream": "stdout",
       "text": [
        "\n",
        "  1534  |  \u001b[94m  0.004667\u001b[0m  |    0.008549  |     0.545890  |             |  3.5s"
       ]
      },
      {
       "output_type": "stream",
       "stream": "stdout",
       "text": [
        "\n",
        "  1535  |    0.004670  |    0.008540  |     0.546889  |             |  3.5s"
       ]
      },
      {
       "output_type": "stream",
       "stream": "stdout",
       "text": [
        "\n",
        "  1536  |    0.004735  |    0.008547  |     0.554013  |             |  3.5s"
       ]
      },
      {
       "output_type": "stream",
       "stream": "stdout",
       "text": [
        "\n",
        "  1537  |    0.004724  |    0.008571  |     0.551152  |             |  3.5s"
       ]
      },
      {
       "output_type": "stream",
       "stream": "stdout",
       "text": [
        "\n",
        "  1538  |  \u001b[94m  0.004645\u001b[0m  |    0.008548  |     0.543341  |             |  3.5s"
       ]
      },
      {
       "output_type": "stream",
       "stream": "stdout",
       "text": [
        "\n",
        "  1539  |    0.004665  |    0.008564  |     0.544690  |             |  3.5s"
       ]
      },
      {
       "output_type": "stream",
       "stream": "stdout",
       "text": [
        "\n",
        "  1540  |    0.004656  |    0.008535  |     0.545561  |             |  3.5s"
       ]
      },
      {
       "output_type": "stream",
       "stream": "stdout",
       "text": [
        "\n",
        "  1541  |    0.004727  |    0.008536  |     0.553810  |             |  3.5s"
       ]
      },
      {
       "output_type": "stream",
       "stream": "stdout",
       "text": [
        "\n",
        "  1542  |  \u001b[94m  0.004631\u001b[0m  |    0.008560  |     0.541013  |             |  3.5s"
       ]
      },
      {
       "output_type": "stream",
       "stream": "stdout",
       "text": [
        "\n",
        "  1543  |  \u001b[94m  0.004617\u001b[0m  |    0.008539  |     0.540633  |             |  3.5s"
       ]
      },
      {
       "output_type": "stream",
       "stream": "stdout",
       "text": [
        "\n",
        "  1544  |    0.004713  |    0.008565  |     0.550225  |             |  3.5s"
       ]
      },
      {
       "output_type": "stream",
       "stream": "stdout",
       "text": [
        "\n",
        "  1545  |  \u001b[94m  0.004570\u001b[0m  |  \u001b[32m  0.008513\u001b[0m  |     0.536819  |             |  3.5s"
       ]
      },
      {
       "output_type": "stream",
       "stream": "stdout",
       "text": [
        "\n",
        "  1546  |    0.004599  |    0.008523  |     0.539585  |             |  3.5s"
       ]
      },
      {
       "output_type": "stream",
       "stream": "stdout",
       "text": [
        "\n",
        "  1547  |    0.004691  |    0.008557  |     0.548241  |             |  3.5s"
       ]
      },
      {
       "output_type": "stream",
       "stream": "stdout",
       "text": [
        "\n",
        "  1548  |    0.004649  |    0.008531  |     0.545024  |             |  3.5s"
       ]
      },
      {
       "output_type": "stream",
       "stream": "stdout",
       "text": [
        "\n",
        "  1549  |    0.004731  |    0.008523  |     0.555060  |             |  3.5s"
       ]
      },
      {
       "output_type": "stream",
       "stream": "stdout",
       "text": [
        "\n",
        "  1550  |    0.004628  |    0.008554  |     0.540991  |             |  3.5s"
       ]
      },
      {
       "output_type": "stream",
       "stream": "stdout",
       "text": [
        "\n",
        "  1551  |    0.004642  |    0.008533  |     0.543957  |             |  3.5s"
       ]
      },
      {
       "output_type": "stream",
       "stream": "stdout",
       "text": [
        "\n",
        "  1552  |    0.004668  |    0.008555  |     0.545698  |             |  3.5s"
       ]
      },
      {
       "output_type": "stream",
       "stream": "stdout",
       "text": [
        "\n",
        "  1553  |    0.004647  |    0.008546  |     0.543778  |             |  3.5s"
       ]
      },
      {
       "output_type": "stream",
       "stream": "stdout",
       "text": [
        "\n",
        "  1554  |    0.004682  |    0.008532  |     0.548811  |             |  3.5s"
       ]
      },
      {
       "output_type": "stream",
       "stream": "stdout",
       "text": [
        "\n",
        "  1555  |    0.004593  |    0.008523  |     0.538852  |             |  3.5s"
       ]
      },
      {
       "output_type": "stream",
       "stream": "stdout",
       "text": [
        "\n",
        "  1556  |  \u001b[94m  0.004512\u001b[0m  |    0.008538  |     0.528465  |             |  3.5s"
       ]
      },
      {
       "output_type": "stream",
       "stream": "stdout",
       "text": [
        "\n",
        "  1557  |    0.004678  |    0.008528  |     0.548551  |             |  3.5s"
       ]
      },
      {
       "output_type": "stream",
       "stream": "stdout",
       "text": [
        "\n",
        "  1558  |    0.004607  |    0.008518  |     0.540827  |             |  3.5s"
       ]
      },
      {
       "output_type": "stream",
       "stream": "stdout",
       "text": [
        "\n",
        "  1559  |    0.004617  |    0.008525  |     0.541499  |             |  3.5s"
       ]
      },
      {
       "output_type": "stream",
       "stream": "stdout",
       "text": [
        "\n",
        "  1560  |    0.004618  |    0.008531  |     0.541406  |             |  3.5s"
       ]
      },
      {
       "output_type": "stream",
       "stream": "stdout",
       "text": [
        "\n",
        "  1561  |    0.004611  |    0.008547  |     0.539479  |             |  3.5s"
       ]
      },
      {
       "output_type": "stream",
       "stream": "stdout",
       "text": [
        "\n",
        "  1562  |    0.004659  |    0.008536  |     0.545760  |             |  3.5s"
       ]
      },
      {
       "output_type": "stream",
       "stream": "stdout",
       "text": [
        "\n",
        "  1563  |    0.004648  |    0.008547  |     0.543758  |             |  3.5s"
       ]
      },
      {
       "output_type": "stream",
       "stream": "stdout",
       "text": [
        "\n",
        "  1564  |    0.004620  |  \u001b[32m  0.008506\u001b[0m  |     0.543126  |             |  3.5s"
       ]
      },
      {
       "output_type": "stream",
       "stream": "stdout",
       "text": [
        "\n",
        "  1565  |    0.004609  |    0.008515  |     0.541301  |             |  3.5s"
       ]
      },
      {
       "output_type": "stream",
       "stream": "stdout",
       "text": [
        "\n",
        "  1566  |    0.004618  |    0.008547  |     0.540300  |             |  3.5s"
       ]
      },
      {
       "output_type": "stream",
       "stream": "stdout",
       "text": [
        "\n",
        "  1567  |    0.004616  |    0.008538  |     0.540700  |             |  3.5s"
       ]
      },
      {
       "output_type": "stream",
       "stream": "stdout",
       "text": [
        "\n",
        "  1568  |  \u001b[94m  0.004485\u001b[0m  |    0.008512  |     0.526957  |             |  3.5s"
       ]
      },
      {
       "output_type": "stream",
       "stream": "stdout",
       "text": [
        "\n",
        "  1569  |    0.004586  |    0.008510  |     0.538924  |             |  3.5s"
       ]
      },
      {
       "output_type": "stream",
       "stream": "stdout",
       "text": [
        "\n",
        "  1570  |    0.004602  |    0.008514  |     0.540590  |             |  3.5s"
       ]
      },
      {
       "output_type": "stream",
       "stream": "stdout",
       "text": [
        "\n",
        "  1571  |    0.004528  |    0.008526  |     0.531146  |             |  3.5s"
       ]
      },
      {
       "output_type": "stream",
       "stream": "stdout",
       "text": [
        "\n",
        "  1572  |    0.004533  |    0.008522  |     0.531976  |             |  3.5s"
       ]
      },
      {
       "output_type": "stream",
       "stream": "stdout",
       "text": [
        "\n",
        "  1573  |    0.004577  |    0.008521  |     0.537202  |             |  3.5s"
       ]
      },
      {
       "output_type": "stream",
       "stream": "stdout",
       "text": [
        "\n",
        "  1574  |    0.004601  |    0.008529  |     0.539470  |             |  3.5s"
       ]
      },
      {
       "output_type": "stream",
       "stream": "stdout",
       "text": [
        "\n",
        "  1575  |    0.004569  |  \u001b[32m  0.008505\u001b[0m  |     0.537229  |             |  3.5s"
       ]
      },
      {
       "output_type": "stream",
       "stream": "stdout",
       "text": [
        "\n",
        "  1576  |    0.004546  |    0.008512  |     0.534048  |             |  3.5s"
       ]
      },
      {
       "output_type": "stream",
       "stream": "stdout",
       "text": [
        "\n",
        "  1577  |    0.004497  |    0.008518  |     0.527949  |             |  3.5s"
       ]
      },
      {
       "output_type": "stream",
       "stream": "stdout",
       "text": [
        "\n",
        "  1578  |    0.004572  |    0.008529  |     0.536054  |             |  3.5s"
       ]
      },
      {
       "output_type": "stream",
       "stream": "stdout",
       "text": [
        "\n",
        "  1579  |    0.004531  |    0.008515  |     0.532163  |             |  3.5s"
       ]
      },
      {
       "output_type": "stream",
       "stream": "stdout",
       "text": [
        "\n",
        "  1580  |    0.004539  |    0.008521  |     0.532615  |             |  3.5s"
       ]
      },
      {
       "output_type": "stream",
       "stream": "stdout",
       "text": [
        "\n",
        "  1581  |    0.004549  |    0.008535  |     0.532950  |             |  3.5s"
       ]
      },
      {
       "output_type": "stream",
       "stream": "stdout",
       "text": [
        "\n",
        "  1582  |    0.004556  |    0.008519  |     0.534799  |             |  3.5s"
       ]
      },
      {
       "output_type": "stream",
       "stream": "stdout",
       "text": [
        "\n",
        "  1583  |  \u001b[94m  0.004466\u001b[0m  |    0.008528  |     0.523638  |             |  3.5s"
       ]
      },
      {
       "output_type": "stream",
       "stream": "stdout",
       "text": [
        "\n",
        "  1584  |    0.004526  |    0.008523  |     0.531047  |             |  3.5s"
       ]
      },
      {
       "output_type": "stream",
       "stream": "stdout",
       "text": [
        "\n",
        "  1585  |    0.004541  |    0.008505  |     0.533912  |             |  3.5s"
       ]
      },
      {
       "output_type": "stream",
       "stream": "stdout",
       "text": [
        "\n",
        "  1586  |    0.004517  |    0.008560  |     0.527608  |             |  3.5s"
       ]
      },
      {
       "output_type": "stream",
       "stream": "stdout",
       "text": [
        "\n",
        "  1587  |    0.004504  |    0.008519  |     0.528651  |             |  3.5s"
       ]
      },
      {
       "output_type": "stream",
       "stream": "stdout",
       "text": [
        "\n",
        "  1588  |    0.004552  |    0.008507  |     0.535108  |             |  3.5s"
       ]
      },
      {
       "output_type": "stream",
       "stream": "stdout",
       "text": [
        "\n",
        "  1589  |  \u001b[94m  0.004463\u001b[0m  |    0.008507  |     0.524599  |             |  3.5s"
       ]
      },
      {
       "output_type": "stream",
       "stream": "stdout",
       "text": [
        "\n",
        "  1590  |    0.004531  |  \u001b[32m  0.008502\u001b[0m  |     0.532924  |             |  3.5s"
       ]
      },
      {
       "output_type": "stream",
       "stream": "stdout",
       "text": [
        "\n",
        "  1591  |  \u001b[94m  0.004432\u001b[0m  |    0.008532  |     0.519490  |             |  3.5s"
       ]
      },
      {
       "output_type": "stream",
       "stream": "stdout",
       "text": [
        "\n",
        "  1592  |    0.004515  |    0.008507  |     0.530743  |             |  3.5s"
       ]
      },
      {
       "output_type": "stream",
       "stream": "stdout",
       "text": [
        "\n",
        "  1593  |    0.004461  |    0.008524  |     0.523321  |             |  3.5s"
       ]
      },
      {
       "output_type": "stream",
       "stream": "stdout",
       "text": [
        "\n",
        "  1594  |    0.004549  |    0.008534  |     0.533059  |             |  3.5s"
       ]
      },
      {
       "output_type": "stream",
       "stream": "stdout",
       "text": [
        "\n",
        "  1595  |    0.004511  |    0.008522  |     0.529315  |             |  3.5s"
       ]
      },
      {
       "output_type": "stream",
       "stream": "stdout",
       "text": [
        "\n",
        "  1596  |    0.004483  |    0.008539  |     0.524969  |             |  3.5s"
       ]
      },
      {
       "output_type": "stream",
       "stream": "stdout",
       "text": [
        "\n",
        "  1597  |    0.004435  |    0.008506  |     0.521388  |             |  3.5s"
       ]
      },
      {
       "output_type": "stream",
       "stream": "stdout",
       "text": [
        "\n",
        "  1598  |    0.004572  |  \u001b[32m  0.008497\u001b[0m  |     0.538092  |             |  3.5s"
       ]
      },
      {
       "output_type": "stream",
       "stream": "stdout",
       "text": [
        "\n",
        "  1599  |    0.004482  |    0.008520  |     0.526008  |             |  3.5s"
       ]
      },
      {
       "output_type": "stream",
       "stream": "stdout",
       "text": [
        "\n",
        "  1600  |    0.004481  |    0.008518  |     0.526052  |             |  3.5s"
       ]
      },
      {
       "output_type": "stream",
       "stream": "stdout",
       "text": [
        "\n",
        "  1601  |    0.004512  |    0.008504  |     0.530608  |             |  3.5s"
       ]
      },
      {
       "output_type": "stream",
       "stream": "stdout",
       "text": [
        "\n",
        "  1602  |    0.004452  |    0.008506  |     0.523351  |             |  3.5s"
       ]
      },
      {
       "output_type": "stream",
       "stream": "stdout",
       "text": [
        "\n",
        "  1603  |  \u001b[94m  0.004411\u001b[0m  |    0.008504  |     0.518661  |             |  3.5s"
       ]
      },
      {
       "output_type": "stream",
       "stream": "stdout",
       "text": [
        "\n",
        "  1604  |    0.004428  |    0.008514  |     0.520133  |             |  3.5s"
       ]
      },
      {
       "output_type": "stream",
       "stream": "stdout",
       "text": [
        "\n",
        "  1605  |    0.004499  |    0.008507  |     0.528859  |             |  3.5s"
       ]
      },
      {
       "output_type": "stream",
       "stream": "stdout",
       "text": [
        "\n",
        "  1606  |    0.004454  |    0.008526  |     0.522450  |             |  3.5s"
       ]
      },
      {
       "output_type": "stream",
       "stream": "stdout",
       "text": [
        "\n",
        "  1607  |  \u001b[94m  0.004401\u001b[0m  |  \u001b[32m  0.008495\u001b[0m  |     0.518018  |             |  3.5s"
       ]
      },
      {
       "output_type": "stream",
       "stream": "stdout",
       "text": [
        "\n",
        "  1608  |    0.004454  |    0.008505  |     0.523696  |             |  3.5s"
       ]
      },
      {
       "output_type": "stream",
       "stream": "stdout",
       "text": [
        "\n",
        "  1609  |  \u001b[94m  0.004400\u001b[0m  |    0.008521  |     0.516389  |             |  3.5s"
       ]
      },
      {
       "output_type": "stream",
       "stream": "stdout",
       "text": [
        "\n",
        "  1610  |    0.004529  |  \u001b[32m  0.008478\u001b[0m  |     0.534201  |             |  3.5s"
       ]
      },
      {
       "output_type": "stream",
       "stream": "stdout",
       "text": [
        "\n",
        "  1611  |    0.004484  |    0.008513  |     0.526781  |             |  3.5s"
       ]
      },
      {
       "output_type": "stream",
       "stream": "stdout",
       "text": [
        "\n",
        "  1612  |    0.004403  |    0.008508  |     0.517495  |             |  3.5s"
       ]
      },
      {
       "output_type": "stream",
       "stream": "stdout",
       "text": [
        "\n",
        "  1613  |    0.004430  |    0.008509  |     0.520643  |             |  3.5s"
       ]
      },
      {
       "output_type": "stream",
       "stream": "stdout",
       "text": [
        "\n",
        "  1614  |    0.004415  |    0.008502  |     0.519289  |             |  3.5s"
       ]
      },
      {
       "output_type": "stream",
       "stream": "stdout",
       "text": [
        "\n",
        "  1615  |    0.004429  |    0.008534  |     0.519021  |             |  3.5s"
       ]
      },
      {
       "output_type": "stream",
       "stream": "stdout",
       "text": [
        "\n",
        "  1616  |  \u001b[94m  0.004344\u001b[0m  |    0.008518  |     0.509995  |             |  3.5s"
       ]
      },
      {
       "output_type": "stream",
       "stream": "stdout",
       "text": [
        "\n",
        "  1617  |    0.004440  |    0.008507  |     0.521897  |             |  3.5s"
       ]
      },
      {
       "output_type": "stream",
       "stream": "stdout",
       "text": [
        "\n",
        "  1618  |    0.004459  |    0.008485  |     0.525521  |             |  3.5s"
       ]
      },
      {
       "output_type": "stream",
       "stream": "stdout",
       "text": [
        "\n",
        "  1619  |    0.004415  |    0.008517  |     0.518386  |             |  3.5s"
       ]
      },
      {
       "output_type": "stream",
       "stream": "stdout",
       "text": [
        "\n",
        "  1620  |    0.004450  |    0.008495  |     0.523818  |             |  3.5s"
       ]
      },
      {
       "output_type": "stream",
       "stream": "stdout",
       "text": [
        "\n",
        "  1621  |    0.004416  |    0.008501  |     0.519483  |             |  3.5s"
       ]
      },
      {
       "output_type": "stream",
       "stream": "stdout",
       "text": [
        "\n",
        "  1622  |  \u001b[94m  0.004331\u001b[0m  |    0.008514  |     0.508651  |             |  3.5s"
       ]
      },
      {
       "output_type": "stream",
       "stream": "stdout",
       "text": [
        "\n",
        "  1623  |    0.004392  |    0.008492  |     0.517148  |             |  3.5s"
       ]
      },
      {
       "output_type": "stream",
       "stream": "stdout",
       "text": [
        "\n",
        "  1624  |    0.004425  |    0.008513  |     0.519851  |             |  3.5s"
       ]
      },
      {
       "output_type": "stream",
       "stream": "stdout",
       "text": [
        "\n",
        "  1625  |    0.004464  |    0.008497  |     0.525389  |             |  3.5s"
       ]
      },
      {
       "output_type": "stream",
       "stream": "stdout",
       "text": [
        "\n",
        "  1626  |    0.004383  |    0.008507  |     0.515209  |             |  3.5s"
       ]
      },
      {
       "output_type": "stream",
       "stream": "stdout",
       "text": [
        "\n",
        "  1627  |    0.004381  |  \u001b[32m  0.008476\u001b[0m  |     0.516957  |             |  3.5s"
       ]
      },
      {
       "output_type": "stream",
       "stream": "stdout",
       "text": [
        "\n",
        "  1628  |  \u001b[94m  0.004317\u001b[0m  |    0.008488  |     0.508556  |             |  3.5s"
       ]
      },
      {
       "output_type": "stream",
       "stream": "stdout",
       "text": [
        "\n",
        "  1629  |    0.004334  |    0.008484  |     0.510817  |             |  3.5s"
       ]
      },
      {
       "output_type": "stream",
       "stream": "stdout",
       "text": [
        "\n",
        "  1630  |  \u001b[94m  0.004271\u001b[0m  |  \u001b[32m  0.008475\u001b[0m  |     0.504003  |             |  3.5s"
       ]
      },
      {
       "output_type": "stream",
       "stream": "stdout",
       "text": [
        "\n",
        "  1631  |    0.004390  |    0.008502  |     0.516330  |             |  3.5s"
       ]
      },
      {
       "output_type": "stream",
       "stream": "stdout",
       "text": [
        "\n",
        "  1632  |    0.004321  |    0.008517  |     0.507316  |             |  3.5s"
       ]
      },
      {
       "output_type": "stream",
       "stream": "stdout",
       "text": [
        "\n",
        "  1633  |    0.004386  |    0.008503  |     0.515798  |             |  3.5s"
       ]
      },
      {
       "output_type": "stream",
       "stream": "stdout",
       "text": [
        "\n",
        "  1634  |    0.004277  |    0.008502  |     0.503066  |             |  3.5s"
       ]
      },
      {
       "output_type": "stream",
       "stream": "stdout",
       "text": [
        "\n",
        "  1635  |    0.004370  |    0.008496  |     0.514358  |             |  3.5s"
       ]
      },
      {
       "output_type": "stream",
       "stream": "stdout",
       "text": [
        "\n",
        "  1636  |    0.004340  |    0.008495  |     0.510902  |             |  3.5s"
       ]
      },
      {
       "output_type": "stream",
       "stream": "stdout",
       "text": [
        "\n",
        "  1637  |    0.004338  |  \u001b[32m  0.008473\u001b[0m  |     0.511935  |             |  3.5s"
       ]
      },
      {
       "output_type": "stream",
       "stream": "stdout",
       "text": [
        "\n",
        "  1638  |    0.004372  |    0.008476  |     0.515812  |             |  3.5s"
       ]
      },
      {
       "output_type": "stream",
       "stream": "stdout",
       "text": [
        "\n",
        "  1639  |    0.004350  |    0.008485  |     0.512677  |             |  3.5s"
       ]
      },
      {
       "output_type": "stream",
       "stream": "stdout",
       "text": [
        "\n",
        "  1640  |    0.004368  |    0.008485  |     0.514851  |             |  3.5s"
       ]
      },
      {
       "output_type": "stream",
       "stream": "stdout",
       "text": [
        "\n",
        "  1641  |    0.004303  |  \u001b[32m  0.008463\u001b[0m  |     0.508447  |             |  3.5s"
       ]
      },
      {
       "output_type": "stream",
       "stream": "stdout",
       "text": [
        "\n",
        "  1642  |    0.004299  |    0.008465  |     0.507881  |             |  3.5s"
       ]
      },
      {
       "output_type": "stream",
       "stream": "stdout",
       "text": [
        "\n",
        "  1643  |    0.004310  |    0.008473  |     0.508614  |             |  3.5s"
       ]
      },
      {
       "output_type": "stream",
       "stream": "stdout",
       "text": [
        "\n",
        "  1644  |    0.004338  |    0.008494  |     0.510767  |             |  3.5s"
       ]
      },
      {
       "output_type": "stream",
       "stream": "stdout",
       "text": [
        "\n",
        "  1645  |    0.004291  |    0.008488  |     0.505554  |             |  3.5s"
       ]
      },
      {
       "output_type": "stream",
       "stream": "stdout",
       "text": [
        "\n",
        "  1646  |    0.004335  |    0.008510  |     0.509359  |             |  3.5s"
       ]
      },
      {
       "output_type": "stream",
       "stream": "stdout",
       "text": [
        "\n",
        "  1647  |    0.004324  |    0.008487  |     0.509450  |             |  3.5s"
       ]
      },
      {
       "output_type": "stream",
       "stream": "stdout",
       "text": [
        "\n",
        "  1648  |    0.004335  |    0.008475  |     0.511431  |             |  3.5s"
       ]
      },
      {
       "output_type": "stream",
       "stream": "stdout",
       "text": [
        "\n",
        "  1649  |    0.004343  |    0.008478  |     0.512233  |             |  3.5s"
       ]
      },
      {
       "output_type": "stream",
       "stream": "stdout",
       "text": [
        "\n",
        "  1650  |  \u001b[94m  0.004264\u001b[0m  |    0.008494  |     0.501970  |             |  3.5s"
       ]
      },
      {
       "output_type": "stream",
       "stream": "stdout",
       "text": [
        "\n",
        "  1651  |    0.004272  |    0.008488  |     0.503295  |             |  3.5s"
       ]
      },
      {
       "output_type": "stream",
       "stream": "stdout",
       "text": [
        "\n",
        "  1652  |    0.004293  |    0.008472  |     0.506676  |             |  3.5s"
       ]
      },
      {
       "output_type": "stream",
       "stream": "stdout",
       "text": [
        "\n",
        "  1653  |  \u001b[94m  0.004205\u001b[0m  |    0.008476  |     0.496133  |             |  3.5s"
       ]
      },
      {
       "output_type": "stream",
       "stream": "stdout",
       "text": [
        "\n",
        "  1654  |    0.004265  |    0.008483  |     0.502749  |             |  3.5s"
       ]
      },
      {
       "output_type": "stream",
       "stream": "stdout",
       "text": [
        "\n",
        "  1655  |    0.004225  |    0.008480  |     0.498260  |             |  3.5s"
       ]
      },
      {
       "output_type": "stream",
       "stream": "stdout",
       "text": [
        "\n",
        "  1656  |    0.004221  |    0.008492  |     0.497090  |             |  3.5s"
       ]
      },
      {
       "output_type": "stream",
       "stream": "stdout",
       "text": [
        "\n",
        "  1657  |    0.004320  |    0.008473  |     0.509773  |             |  3.5s"
       ]
      },
      {
       "output_type": "stream",
       "stream": "stdout",
       "text": [
        "\n",
        "  1658  |    0.004240  |    0.008491  |     0.499401  |             |  3.5s"
       ]
      },
      {
       "output_type": "stream",
       "stream": "stdout",
       "text": [
        "\n",
        "  1659  |    0.004315  |    0.008487  |     0.508452  |             |  3.5s"
       ]
      },
      {
       "output_type": "stream",
       "stream": "stdout",
       "text": [
        "\n",
        "  1660  |    0.004250  |    0.008481  |     0.501130  |             |  3.5s"
       ]
      },
      {
       "output_type": "stream",
       "stream": "stdout",
       "text": [
        "\n",
        "  1661  |    0.004279  |    0.008481  |     0.504510  |             |  3.5s"
       ]
      },
      {
       "output_type": "stream",
       "stream": "stdout",
       "text": [
        "\n",
        "  1662  |    0.004282  |    0.008499  |     0.503824  |             |  3.5s"
       ]
      },
      {
       "output_type": "stream",
       "stream": "stdout",
       "text": [
        "\n",
        "  1663  |    0.004238  |    0.008471  |     0.500277  |             |  3.5s"
       ]
      },
      {
       "output_type": "stream",
       "stream": "stdout",
       "text": [
        "\n",
        "  1664  |    0.004297  |    0.008474  |     0.507068  |             |  3.5s"
       ]
      },
      {
       "output_type": "stream",
       "stream": "stdout",
       "text": [
        "\n",
        "  1665  |    0.004292  |    0.008484  |     0.505927  |             |  3.5s"
       ]
      },
      {
       "output_type": "stream",
       "stream": "stdout",
       "text": [
        "\n",
        "  1666  |    0.004239  |    0.008473  |     0.500302  |             |  3.5s"
       ]
      },
      {
       "output_type": "stream",
       "stream": "stdout",
       "text": [
        "\n",
        "  1667  |    0.004293  |    0.008487  |     0.505838  |             |  3.5s"
       ]
      },
      {
       "output_type": "stream",
       "stream": "stdout",
       "text": [
        "\n",
        "  1668  |    0.004216  |    0.008476  |     0.497402  |             |  3.5s"
       ]
      },
      {
       "output_type": "stream",
       "stream": "stdout",
       "text": [
        "\n",
        "  1669  |    0.004326  |    0.008470  |     0.510821  |             |  3.5s"
       ]
      },
      {
       "output_type": "stream",
       "stream": "stdout",
       "text": [
        "\n",
        "  1670  |    0.004298  |    0.008484  |     0.506535  |             |  3.5s"
       ]
      },
      {
       "output_type": "stream",
       "stream": "stdout",
       "text": [
        "\n",
        "  1671  |    0.004244  |    0.008491  |     0.499844  |             |  3.5s"
       ]
      },
      {
       "output_type": "stream",
       "stream": "stdout",
       "text": [
        "\n",
        "  1672  |    0.004302  |    0.008473  |     0.507731  |             |  3.5s"
       ]
      },
      {
       "output_type": "stream",
       "stream": "stdout",
       "text": [
        "\n",
        "  1673  |    0.004212  |    0.008481  |     0.496654  |             |  3.5s"
       ]
      },
      {
       "output_type": "stream",
       "stream": "stdout",
       "text": [
        "\n",
        "  1674  |  \u001b[94m  0.004175\u001b[0m  |    0.008468  |     0.493062  |             |  3.5s"
       ]
      },
      {
       "output_type": "stream",
       "stream": "stdout",
       "text": [
        "\n",
        "  1675  |    0.004258  |  \u001b[32m  0.008452\u001b[0m  |     0.503718  |             |  3.5s"
       ]
      },
      {
       "output_type": "stream",
       "stream": "stdout",
       "text": [
        "\n",
        "  1676  |    0.004228  |    0.008472  |     0.499095  |             |  3.5s"
       ]
      },
      {
       "output_type": "stream",
       "stream": "stdout",
       "text": [
        "\n",
        "  1677  |    0.004214  |    0.008467  |     0.497730  |             |  3.5s"
       ]
      },
      {
       "output_type": "stream",
       "stream": "stdout",
       "text": [
        "\n",
        "  1678  |    0.004179  |    0.008475  |     0.493133  |             |  3.5s"
       ]
      },
      {
       "output_type": "stream",
       "stream": "stdout",
       "text": [
        "\n",
        "  1679  |    0.004244  |    0.008468  |     0.501154  |             |  3.5s"
       ]
      },
      {
       "output_type": "stream",
       "stream": "stdout",
       "text": [
        "\n",
        "  1680  |    0.004226  |    0.008478  |     0.498498  |             |  3.5s"
       ]
      },
      {
       "output_type": "stream",
       "stream": "stdout",
       "text": [
        "\n",
        "  1681  |    0.004264  |  \u001b[32m  0.008447\u001b[0m  |     0.504759  |             |  3.5s"
       ]
      },
      {
       "output_type": "stream",
       "stream": "stdout",
       "text": [
        "\n",
        "  1682  |    0.004219  |    0.008491  |     0.496927  |             |  3.5s"
       ]
      },
      {
       "output_type": "stream",
       "stream": "stdout",
       "text": [
        "\n",
        "  1683  |    0.004221  |    0.008458  |     0.499113  |             |  3.5s"
       ]
      },
      {
       "output_type": "stream",
       "stream": "stdout",
       "text": [
        "\n",
        "  1684  |  \u001b[94m  0.004092\u001b[0m  |  \u001b[32m  0.008441\u001b[0m  |     0.484781  |             |  3.5s"
       ]
      },
      {
       "output_type": "stream",
       "stream": "stdout",
       "text": [
        "\n",
        "  1685  |    0.004228  |    0.008451  |     0.500361  |             |  3.5s"
       ]
      },
      {
       "output_type": "stream",
       "stream": "stdout",
       "text": [
        "\n",
        "  1686  |    0.004214  |    0.008446  |     0.498947  |             |  3.5s"
       ]
      },
      {
       "output_type": "stream",
       "stream": "stdout",
       "text": [
        "\n",
        "  1687  |    0.004262  |  \u001b[32m  0.008439\u001b[0m  |     0.505050  |             |  3.5s"
       ]
      },
      {
       "output_type": "stream",
       "stream": "stdout",
       "text": [
        "\n",
        "  1688  |    0.004190  |    0.008446  |     0.496087  |             |  3.5s"
       ]
      },
      {
       "output_type": "stream",
       "stream": "stdout",
       "text": [
        "\n",
        "  1689  |    0.004198  |    0.008465  |     0.495912  |             |  3.5s"
       ]
      },
      {
       "output_type": "stream",
       "stream": "stdout",
       "text": [
        "\n",
        "  1690  |    0.004234  |  \u001b[32m  0.008438\u001b[0m  |     0.501752  |             |  3.5s"
       ]
      },
      {
       "output_type": "stream",
       "stream": "stdout",
       "text": [
        "\n",
        "  1691  |    0.004163  |    0.008448  |     0.492814  |             |  3.5s"
       ]
      },
      {
       "output_type": "stream",
       "stream": "stdout",
       "text": [
        "\n",
        "  1692  |    0.004248  |    0.008446  |     0.502961  |             |  3.5s"
       ]
      },
      {
       "output_type": "stream",
       "stream": "stdout",
       "text": [
        "\n",
        "  1693  |    0.004163  |    0.008451  |     0.492610  |             |  3.5s"
       ]
      },
      {
       "output_type": "stream",
       "stream": "stdout",
       "text": [
        "\n",
        "  1694  |    0.004167  |    0.008463  |     0.492421  |             |  3.5s"
       ]
      },
      {
       "output_type": "stream",
       "stream": "stdout",
       "text": [
        "\n",
        "  1695  |    0.004198  |    0.008454  |     0.496556  |             |  3.5s"
       ]
      },
      {
       "output_type": "stream",
       "stream": "stdout",
       "text": [
        "\n",
        "  1696  |    0.004185  |    0.008458  |     0.494791  |             |  3.5s"
       ]
      },
      {
       "output_type": "stream",
       "stream": "stdout",
       "text": [
        "\n",
        "  1697  |    0.004158  |    0.008452  |     0.491904  |             |  3.5s"
       ]
      },
      {
       "output_type": "stream",
       "stream": "stdout",
       "text": [
        "\n",
        "  1698  |    0.004129  |    0.008471  |     0.487447  |             |  3.5s"
       ]
      },
      {
       "output_type": "stream",
       "stream": "stdout",
       "text": [
        "\n",
        "  1699  |    0.004119  |    0.008473  |     0.486141  |             |  3.5s"
       ]
      },
      {
       "output_type": "stream",
       "stream": "stdout",
       "text": [
        "\n",
        "  1700  |    0.004203  |    0.008448  |     0.497496  |             |  3.5s"
       ]
      },
      {
       "output_type": "stream",
       "stream": "stdout",
       "text": [
        "\n",
        "  1701  |    0.004237  |    0.008453  |     0.501171  |             |  3.5s"
       ]
      },
      {
       "output_type": "stream",
       "stream": "stdout",
       "text": [
        "\n",
        "  1702  |    0.004215  |    0.008459  |     0.498266  |             |  3.5s"
       ]
      },
      {
       "output_type": "stream",
       "stream": "stdout",
       "text": [
        "\n",
        "  1703  |    0.004154  |    0.008451  |     0.491596  |             |  3.5s"
       ]
      },
      {
       "output_type": "stream",
       "stream": "stdout",
       "text": [
        "\n",
        "  1704  |    0.004108  |    0.008439  |     0.486751  |             |  3.5s"
       ]
      },
      {
       "output_type": "stream",
       "stream": "stdout",
       "text": [
        "\n",
        "  1705  |    0.004147  |    0.008444  |     0.491064  |             |  3.5s"
       ]
      },
      {
       "output_type": "stream",
       "stream": "stdout",
       "text": [
        "\n",
        "  1706  |  \u001b[94m  0.004057\u001b[0m  |  \u001b[32m  0.008437\u001b[0m  |     0.480901  |             |  3.5s"
       ]
      },
      {
       "output_type": "stream",
       "stream": "stdout",
       "text": [
        "\n",
        "  1707  |    0.004092  |    0.008438  |     0.484919  |             |  3.5s"
       ]
      },
      {
       "output_type": "stream",
       "stream": "stdout",
       "text": [
        "\n",
        "  1708  |    0.004112  |    0.008456  |     0.486265  |             |  3.5s"
       ]
      },
      {
       "output_type": "stream",
       "stream": "stdout",
       "text": [
        "\n",
        "  1709  |    0.004099  |    0.008456  |     0.484712  |             |  3.5s"
       ]
      },
      {
       "output_type": "stream",
       "stream": "stdout",
       "text": [
        "\n",
        "  1710  |  \u001b[94m  0.004010\u001b[0m  |    0.008466  |     0.473594  |             |  3.5s"
       ]
      },
      {
       "output_type": "stream",
       "stream": "stdout",
       "text": [
        "\n",
        "  1711  |    0.004189  |    0.008465  |     0.494839  |             |  3.5s"
       ]
      },
      {
       "output_type": "stream",
       "stream": "stdout",
       "text": [
        "\n",
        "  1712  |    0.004162  |    0.008463  |     0.491805  |             |  3.5s"
       ]
      },
      {
       "output_type": "stream",
       "stream": "stdout",
       "text": [
        "\n",
        "  1713  |    0.004172  |    0.008444  |     0.494070  |             |  3.5s"
       ]
      },
      {
       "output_type": "stream",
       "stream": "stdout",
       "text": [
        "\n",
        "  1714  |    0.004127  |    0.008449  |     0.488441  |             |  3.5s"
       ]
      },
      {
       "output_type": "stream",
       "stream": "stdout",
       "text": [
        "\n",
        "  1715  |    0.004126  |    0.008462  |     0.487554  |             |  3.5s"
       ]
      },
      {
       "output_type": "stream",
       "stream": "stdout",
       "text": [
        "\n",
        "  1716  |    0.004081  |    0.008471  |     0.481765  |             |  3.5s"
       ]
      },
      {
       "output_type": "stream",
       "stream": "stdout",
       "text": [
        "\n",
        "  1717  |    0.004035  |    0.008455  |     0.477220  |             |  3.5s"
       ]
      },
      {
       "output_type": "stream",
       "stream": "stdout",
       "text": [
        "\n",
        "  1718  |    0.004055  |    0.008442  |     0.480287  |             |  3.5s"
       ]
      },
      {
       "output_type": "stream",
       "stream": "stdout",
       "text": [
        "\n",
        "  1719  |    0.004136  |  \u001b[32m  0.008427\u001b[0m  |     0.490766  |             |  3.5s"
       ]
      },
      {
       "output_type": "stream",
       "stream": "stdout",
       "text": [
        "\n",
        "  1720  |    0.004091  |  \u001b[32m  0.008422\u001b[0m  |     0.485681  |             |  3.5s"
       ]
      },
      {
       "output_type": "stream",
       "stream": "stdout",
       "text": [
        "\n",
        "  1721  |    0.004141  |    0.008440  |     0.490628  |             |  3.5s"
       ]
      },
      {
       "output_type": "stream",
       "stream": "stdout",
       "text": [
        "\n",
        "  1722  |    0.004099  |    0.008459  |     0.484583  |             |  3.5s"
       ]
      },
      {
       "output_type": "stream",
       "stream": "stdout",
       "text": [
        "\n",
        "  1723  |    0.004122  |    0.008430  |     0.488915  |             |  3.5s"
       ]
      },
      {
       "output_type": "stream",
       "stream": "stdout",
       "text": [
        "\n",
        "  1724  |    0.004075  |    0.008435  |     0.483111  |             |  3.5s"
       ]
      },
      {
       "output_type": "stream",
       "stream": "stdout",
       "text": [
        "\n",
        "  1725  |  \u001b[94m  0.003988\u001b[0m  |    0.008430  |     0.473063  |             |  3.5s"
       ]
      },
      {
       "output_type": "stream",
       "stream": "stdout",
       "text": [
        "\n",
        "  1726  |    0.004076  |    0.008470  |     0.481284  |             |  3.5s"
       ]
      },
      {
       "output_type": "stream",
       "stream": "stdout",
       "text": [
        "\n",
        "  1727  |    0.004085  |    0.008448  |     0.483572  |             |  3.5s"
       ]
      },
      {
       "output_type": "stream",
       "stream": "stdout",
       "text": [
        "\n",
        "  1728  |    0.004131  |    0.008450  |     0.488919  |             |  3.5s"
       ]
      },
      {
       "output_type": "stream",
       "stream": "stdout",
       "text": [
        "\n",
        "  1729  |    0.004010  |    0.008445  |     0.474793  |             |  3.5s"
       ]
      },
      {
       "output_type": "stream",
       "stream": "stdout",
       "text": [
        "\n",
        "  1730  |    0.004010  |    0.008444  |     0.474922  |             |  3.5s"
       ]
      },
      {
       "output_type": "stream",
       "stream": "stdout",
       "text": [
        "\n",
        "  1731  |    0.004009  |    0.008446  |     0.474682  |             |  3.5s"
       ]
      },
      {
       "output_type": "stream",
       "stream": "stdout",
       "text": [
        "\n",
        "  1732  |    0.004086  |    0.008474  |     0.482121  |             |  3.5s"
       ]
      },
      {
       "output_type": "stream",
       "stream": "stdout",
       "text": [
        "\n",
        "  1733  |    0.004065  |    0.008469  |     0.479957  |             |  3.5s"
       ]
      },
      {
       "output_type": "stream",
       "stream": "stdout",
       "text": [
        "\n",
        "  1734  |    0.003990  |    0.008468  |     0.471251  |             |  3.5s"
       ]
      },
      {
       "output_type": "stream",
       "stream": "stdout",
       "text": [
        "\n",
        "  1735  |    0.004061  |    0.008453  |     0.480464  |             |  3.5s"
       ]
      },
      {
       "output_type": "stream",
       "stream": "stdout",
       "text": [
        "\n",
        "  1736  |    0.004043  |    0.008455  |     0.478150  |             |  3.5s"
       ]
      },
      {
       "output_type": "stream",
       "stream": "stdout",
       "text": [
        "\n",
        "  1737  |    0.003995  |    0.008461  |     0.472193  |             |  3.5s"
       ]
      },
      {
       "output_type": "stream",
       "stream": "stdout",
       "text": [
        "\n",
        "  1738  |    0.004036  |    0.008442  |     0.478080  |             |  3.5s"
       ]
      },
      {
       "output_type": "stream",
       "stream": "stdout",
       "text": [
        "\n",
        "  1739  |  \u001b[94m  0.003973\u001b[0m  |    0.008443  |     0.470562  |             |  3.5s"
       ]
      },
      {
       "output_type": "stream",
       "stream": "stdout",
       "text": [
        "\n",
        "  1740  |    0.003997  |    0.008475  |     0.471672  |             |  3.5s"
       ]
      },
      {
       "output_type": "stream",
       "stream": "stdout",
       "text": [
        "\n",
        "  1741  |    0.004114  |    0.008450  |     0.486869  |             |  3.5s"
       ]
      },
      {
       "output_type": "stream",
       "stream": "stdout",
       "text": [
        "\n",
        "  1742  |    0.004103  |    0.008443  |     0.486028  |             |  3.5s"
       ]
      },
      {
       "output_type": "stream",
       "stream": "stdout",
       "text": [
        "\n",
        "  1743  |    0.004070  |    0.008430  |     0.482807  |             |  3.5s"
       ]
      },
      {
       "output_type": "stream",
       "stream": "stdout",
       "text": [
        "\n",
        "  1744  |  \u001b[94m  0.003963\u001b[0m  |    0.008454  |     0.468788  |             |  3.5s"
       ]
      },
      {
       "output_type": "stream",
       "stream": "stdout",
       "text": [
        "\n",
        "  1745  |    0.004051  |    0.008461  |     0.478868  |             |  3.5s"
       ]
      },
      {
       "output_type": "stream",
       "stream": "stdout",
       "text": [
        "\n",
        "  1746  |    0.003966  |    0.008479  |     0.467691  |             |  3.5s"
       ]
      },
      {
       "output_type": "stream",
       "stream": "stdout",
       "text": [
        "\n",
        "  1747  |  \u001b[94m  0.003942\u001b[0m  |    0.008471  |     0.465427  |             |  3.5s"
       ]
      },
      {
       "output_type": "stream",
       "stream": "stdout",
       "text": [
        "\n",
        "  1748  |    0.003977  |    0.008468  |     0.469651  |             |  3.5s"
       ]
      },
      {
       "output_type": "stream",
       "stream": "stdout",
       "text": [
        "\n",
        "  1749  |    0.003986  |    0.008474  |     0.470408  |             |  3.5s"
       ]
      },
      {
       "output_type": "stream",
       "stream": "stdout",
       "text": [
        "\n",
        "  1750  |    0.004036  |    0.008459  |     0.477130  |             |  3.5s"
       ]
      },
      {
       "output_type": "stream",
       "stream": "stdout",
       "text": [
        "\n",
        "  1751  |    0.004007  |    0.008459  |     0.473673  |             |  3.5s"
       ]
      },
      {
       "output_type": "stream",
       "stream": "stdout",
       "text": [
        "\n",
        "  1752  |    0.004042  |    0.008446  |     0.478509  |             |  3.5s"
       ]
      },
      {
       "output_type": "stream",
       "stream": "stdout",
       "text": [
        "\n",
        "  1753  |    0.003971  |    0.008464  |     0.469154  |             |  3.5s"
       ]
      },
      {
       "output_type": "stream",
       "stream": "stdout",
       "text": [
        "\n",
        "  1754  |    0.003968  |    0.008448  |     0.469711  |             |  3.5s"
       ]
      },
      {
       "output_type": "stream",
       "stream": "stdout",
       "text": [
        "\n",
        "  1755  |  \u001b[94m  0.003938\u001b[0m  |    0.008447  |     0.466271  |             |  3.5s"
       ]
      },
      {
       "output_type": "stream",
       "stream": "stdout",
       "text": [
        "\n",
        "  1756  |    0.003943  |    0.008460  |     0.466026  |             |  3.5s"
       ]
      },
      {
       "output_type": "stream",
       "stream": "stdout",
       "text": [
        "\n",
        "  1757  |    0.004039  |    0.008450  |     0.477963  |             |  3.5s"
       ]
      },
      {
       "output_type": "stream",
       "stream": "stdout",
       "text": [
        "\n",
        "  1758  |    0.003947  |    0.008458  |     0.466644  |             |  3.5s"
       ]
      },
      {
       "output_type": "stream",
       "stream": "stdout",
       "text": [
        "\n",
        "  1759  |    0.003959  |    0.008450  |     0.468557  |             |  3.5s"
       ]
      },
      {
       "output_type": "stream",
       "stream": "stdout",
       "text": [
        "\n",
        "  1760  |    0.003992  |    0.008459  |     0.471937  |             |  3.5s"
       ]
      },
      {
       "output_type": "stream",
       "stream": "stdout",
       "text": [
        "\n",
        "  1761  |  \u001b[94m  0.003819\u001b[0m  |    0.008464  |     0.451135  |             |  3.5s"
       ]
      },
      {
       "output_type": "stream",
       "stream": "stdout",
       "text": [
        "\n",
        "  1762  |    0.003950  |    0.008443  |     0.467923  |             |  3.5s"
       ]
      },
      {
       "output_type": "stream",
       "stream": "stdout",
       "text": [
        "\n",
        "  1763  |    0.003975  |    0.008454  |     0.470186  |             |  3.5s"
       ]
      },
      {
       "output_type": "stream",
       "stream": "stdout",
       "text": [
        "\n",
        "  1764  |    0.003945  |    0.008458  |     0.466490  |             |  3.5s"
       ]
      },
      {
       "output_type": "stream",
       "stream": "stdout",
       "text": [
        "\n",
        "  1765  |    0.003956  |  \u001b[32m  0.008420\u001b[0m  |     0.469798  |             |  3.5s"
       ]
      },
      {
       "output_type": "stream",
       "stream": "stdout",
       "text": [
        "\n",
        "  1766  |    0.003919  |    0.008453  |     0.463617  |             |  3.5s"
       ]
      },
      {
       "output_type": "stream",
       "stream": "stdout",
       "text": [
        "\n",
        "  1767  |    0.003919  |    0.008449  |     0.463809  |             |  3.5s"
       ]
      },
      {
       "output_type": "stream",
       "stream": "stdout",
       "text": [
        "\n",
        "  1768  |    0.003934  |    0.008430  |     0.466585  |             |  3.5s"
       ]
      },
      {
       "output_type": "stream",
       "stream": "stdout",
       "text": [
        "\n",
        "  1769  |    0.003942  |    0.008448  |     0.466637  |             |  3.5s"
       ]
      },
      {
       "output_type": "stream",
       "stream": "stdout",
       "text": [
        "\n",
        "  1770  |    0.003900  |    0.008450  |     0.461508  |             |  3.5s"
       ]
      },
      {
       "output_type": "stream",
       "stream": "stdout",
       "text": [
        "\n",
        "  1771  |    0.004007  |    0.008445  |     0.474423  |             |  3.5s"
       ]
      },
      {
       "output_type": "stream",
       "stream": "stdout",
       "text": [
        "\n",
        "  1772  |    0.004025  |    0.008427  |     0.477650  |             |  3.5s"
       ]
      },
      {
       "output_type": "stream",
       "stream": "stdout",
       "text": [
        "\n",
        "  1773  |    0.003953  |    0.008428  |     0.468992  |             |  3.5s"
       ]
      },
      {
       "output_type": "stream",
       "stream": "stdout",
       "text": [
        "\n",
        "  1774  |    0.003952  |    0.008433  |     0.468706  |             |  3.5s"
       ]
      },
      {
       "output_type": "stream",
       "stream": "stdout",
       "text": [
        "\n",
        "  1775  |    0.004036  |    0.008430  |     0.478780  |             |  3.5s"
       ]
      },
      {
       "output_type": "stream",
       "stream": "stdout",
       "text": [
        "\n",
        "  1776  |    0.003915  |    0.008421  |     0.464913  |             |  3.5s"
       ]
      },
      {
       "output_type": "stream",
       "stream": "stdout",
       "text": [
        "\n",
        "  1777  |    0.003964  |    0.008422  |     0.470589  |             |  3.5s"
       ]
      },
      {
       "output_type": "stream",
       "stream": "stdout",
       "text": [
        "\n",
        "  1778  |    0.003920  |    0.008422  |     0.465507  |             |  3.5s"
       ]
      },
      {
       "output_type": "stream",
       "stream": "stdout",
       "text": [
        "\n",
        "  1779  |    0.003980  |    0.008448  |     0.471127  |             |  3.5s"
       ]
      },
      {
       "output_type": "stream",
       "stream": "stdout",
       "text": [
        "\n",
        "  1780  |    0.003898  |  \u001b[32m  0.008404\u001b[0m  |     0.463783  |             |  3.5s"
       ]
      },
      {
       "output_type": "stream",
       "stream": "stdout",
       "text": [
        "\n",
        "  1781  |    0.003889  |    0.008408  |     0.462542  |             |  3.5s"
       ]
      },
      {
       "output_type": "stream",
       "stream": "stdout",
       "text": [
        "\n",
        "  1782  |    0.003851  |    0.008450  |     0.455670  |             |  3.5s"
       ]
      },
      {
       "output_type": "stream",
       "stream": "stdout",
       "text": [
        "\n",
        "  1783  |    0.003823  |    0.008438  |     0.453073  |             |  3.5s"
       ]
      },
      {
       "output_type": "stream",
       "stream": "stdout",
       "text": [
        "\n",
        "  1784  |    0.003869  |    0.008446  |     0.458050  |             |  3.5s"
       ]
      },
      {
       "output_type": "stream",
       "stream": "stdout",
       "text": [
        "\n",
        "  1785  |    0.003887  |    0.008425  |     0.461395  |             |  3.5s"
       ]
      },
      {
       "output_type": "stream",
       "stream": "stdout",
       "text": [
        "\n",
        "  1786  |    0.003895  |    0.008420  |     0.462644  |             |  3.5s"
       ]
      },
      {
       "output_type": "stream",
       "stream": "stdout",
       "text": [
        "\n",
        "  1787  |    0.003923  |    0.008429  |     0.465344  |             |  3.5s"
       ]
      },
      {
       "output_type": "stream",
       "stream": "stdout",
       "text": [
        "\n",
        "  1788  |    0.003887  |    0.008424  |     0.461372  |             |  3.5s"
       ]
      },
      {
       "output_type": "stream",
       "stream": "stdout",
       "text": [
        "\n",
        "  1789  |    0.003893  |    0.008431  |     0.461736  |             |  3.5s"
       ]
      },
      {
       "output_type": "stream",
       "stream": "stdout",
       "text": [
        "\n",
        "  1790  |    0.003884  |    0.008460  |     0.459074  |             |  3.5s"
       ]
      },
      {
       "output_type": "stream",
       "stream": "stdout",
       "text": [
        "\n",
        "  1791  |    0.003914  |    0.008451  |     0.463220  |             |  3.5s"
       ]
      },
      {
       "output_type": "stream",
       "stream": "stdout",
       "text": [
        "\n",
        "  1792  |  \u001b[94m  0.003813\u001b[0m  |    0.008443  |     0.451625  |             |  3.5s"
       ]
      },
      {
       "output_type": "stream",
       "stream": "stdout",
       "text": [
        "\n",
        "  1793  |    0.003825  |    0.008446  |     0.452916  |             |  3.5s"
       ]
      },
      {
       "output_type": "stream",
       "stream": "stdout",
       "text": [
        "\n",
        "  1794  |    0.003853  |    0.008438  |     0.456564  |             |  3.5s"
       ]
      },
      {
       "output_type": "stream",
       "stream": "stdout",
       "text": [
        "\n",
        "  1795  |    0.003934  |    0.008452  |     0.465488  |             |  3.5s"
       ]
      },
      {
       "output_type": "stream",
       "stream": "stdout",
       "text": [
        "\n",
        "  1796  |    0.003962  |    0.008441  |     0.469377  |             |  3.5s"
       ]
      },
      {
       "output_type": "stream",
       "stream": "stdout",
       "text": [
        "\n",
        "  1797  |    0.003871  |    0.008443  |     0.458500  |             |  3.5s"
       ]
      },
      {
       "output_type": "stream",
       "stream": "stdout",
       "text": [
        "\n",
        "  1798  |    0.003929  |    0.008430  |     0.466033  |             |  3.5s"
       ]
      },
      {
       "output_type": "stream",
       "stream": "stdout",
       "text": [
        "\n",
        "  1799  |    0.003834  |    0.008440  |     0.454249  |             |  3.5s"
       ]
      },
      {
       "output_type": "stream",
       "stream": "stdout",
       "text": [
        "\n",
        "  1800  |    0.003826  |    0.008433  |     0.453621  |             |  3.5s"
       ]
      },
      {
       "output_type": "stream",
       "stream": "stdout",
       "text": [
        "\n",
        "  1801  |    0.003866  |    0.008417  |     0.459271  |             |  3.5s"
       ]
      },
      {
       "output_type": "stream",
       "stream": "stdout",
       "text": [
        "\n",
        "  1802  |  \u001b[94m  0.003800\u001b[0m  |    0.008406  |     0.452045  |             |  3.5s"
       ]
      },
      {
       "output_type": "stream",
       "stream": "stdout",
       "text": [
        "\n",
        "  1803  |    0.003887  |    0.008421  |     0.461527  |             |  3.5s"
       ]
      },
      {
       "output_type": "stream",
       "stream": "stdout",
       "text": [
        "\n",
        "  1804  |    0.003915  |    0.008423  |     0.464787  |             |  3.5s"
       ]
      },
      {
       "output_type": "stream",
       "stream": "stdout",
       "text": [
        "\n",
        "  1805  |    0.003827  |    0.008442  |     0.453375  |             |  3.5s"
       ]
      },
      {
       "output_type": "stream",
       "stream": "stdout",
       "text": [
        "\n",
        "  1806  |    0.003914  |    0.008442  |     0.463715  |             |  3.5s"
       ]
      },
      {
       "output_type": "stream",
       "stream": "stdout",
       "text": [
        "\n",
        "  1807  |  \u001b[94m  0.003787\u001b[0m  |    0.008427  |     0.449386  |             |  3.5s"
       ]
      },
      {
       "output_type": "stream",
       "stream": "stdout",
       "text": [
        "\n",
        "  1808  |  \u001b[94m  0.003779\u001b[0m  |    0.008445  |     0.447447  |             |  3.5s"
       ]
      },
      {
       "output_type": "stream",
       "stream": "stdout",
       "text": [
        "\n",
        "  1809  |    0.003864  |    0.008447  |     0.457411  |             |  3.5s"
       ]
      },
      {
       "output_type": "stream",
       "stream": "stdout",
       "text": [
        "\n",
        "  1810  |  \u001b[94m  0.003710\u001b[0m  |    0.008444  |     0.439327  |             |  3.5s"
       ]
      },
      {
       "output_type": "stream",
       "stream": "stdout",
       "text": [
        "\n",
        "  1811  |    0.003747  |    0.008456  |     0.443122  |             |  3.5s"
       ]
      },
      {
       "output_type": "stream",
       "stream": "stdout",
       "text": [
        "\n",
        "  1812  |    0.003789  |    0.008456  |     0.448090  |             |  3.5s"
       ]
      },
      {
       "output_type": "stream",
       "stream": "stdout",
       "text": [
        "\n",
        "  1813  |    0.003846  |    0.008434  |     0.456056  |             |  3.5s"
       ]
      },
      {
       "output_type": "stream",
       "stream": "stdout",
       "text": [
        "\n",
        "  1814  |    0.003879  |    0.008429  |     0.460224  |             |  3.5s"
       ]
      },
      {
       "output_type": "stream",
       "stream": "stdout",
       "text": [
        "\n",
        "  1815  |    0.003830  |    0.008413  |     0.455200  |             |  3.5s"
       ]
      },
      {
       "output_type": "stream",
       "stream": "stdout",
       "text": [
        "\n",
        "  1816  |    0.003841  |    0.008421  |     0.456177  |             |  3.5s"
       ]
      },
      {
       "output_type": "stream",
       "stream": "stdout",
       "text": [
        "\n",
        "  1817  |    0.003807  |    0.008413  |     0.452499  |             |  3.5s"
       ]
      },
      {
       "output_type": "stream",
       "stream": "stdout",
       "text": [
        "\n",
        "  1818  |    0.003836  |    0.008418  |     0.455700  |             |  3.5s"
       ]
      },
      {
       "output_type": "stream",
       "stream": "stdout",
       "text": [
        "\n",
        "  1819  |    0.003730  |    0.008432  |     0.442342  |             |  3.5s"
       ]
      },
      {
       "output_type": "stream",
       "stream": "stdout",
       "text": [
        "\n",
        "  1820  |    0.003850  |    0.008432  |     0.456549  |             |  3.5s"
       ]
      },
      {
       "output_type": "stream",
       "stream": "stdout",
       "text": [
        "\n",
        "  1821  |    0.003869  |    0.008414  |     0.459898  |             |  3.5s"
       ]
      },
      {
       "output_type": "stream",
       "stream": "stdout",
       "text": [
        "\n",
        "  1822  |    0.003816  |    0.008421  |     0.453117  |             |  3.5s"
       ]
      },
      {
       "output_type": "stream",
       "stream": "stdout",
       "text": [
        "\n",
        "  1823  |    0.003791  |    0.008426  |     0.449941  |             |  3.5s"
       ]
      },
      {
       "output_type": "stream",
       "stream": "stdout",
       "text": [
        "\n",
        "  1824  |    0.003809  |    0.008441  |     0.451302  |             |  3.5s"
       ]
      },
      {
       "output_type": "stream",
       "stream": "stdout",
       "text": [
        "\n",
        "  1825  |    0.003866  |    0.008415  |     0.459457  |             |  3.5s"
       ]
      },
      {
       "output_type": "stream",
       "stream": "stdout",
       "text": [
        "\n",
        "  1826  |    0.003802  |    0.008432  |     0.450923  |             |  3.5s"
       ]
      },
      {
       "output_type": "stream",
       "stream": "stdout",
       "text": [
        "\n",
        "  1827  |    0.003763  |    0.008429  |     0.446417  |             |  3.5s"
       ]
      },
      {
       "output_type": "stream",
       "stream": "stdout",
       "text": [
        "\n",
        "  1828  |    0.003805  |    0.008435  |     0.451121  |             |  3.5s"
       ]
      },
      {
       "output_type": "stream",
       "stream": "stdout",
       "text": [
        "\n",
        "  1829  |    0.003732  |    0.008443  |     0.442018  |             |  3.5s"
       ]
      },
      {
       "output_type": "stream",
       "stream": "stdout",
       "text": [
        "\n",
        "  1830  |    0.003852  |    0.008449  |     0.455983  |             |  3.5s"
       ]
      },
      {
       "output_type": "stream",
       "stream": "stdout",
       "text": [
        "\n",
        "  1831  |    0.003716  |    0.008449  |     0.439799  |             |  3.5s"
       ]
      },
      {
       "output_type": "stream",
       "stream": "stdout",
       "text": [
        "\n",
        "  1832  |    0.003818  |    0.008421  |     0.453387  |             |  3.5s"
       ]
      },
      {
       "output_type": "stream",
       "stream": "stdout",
       "text": [
        "\n",
        "  1833  |    0.003779  |    0.008446  |     0.447436  |             |  3.5s"
       ]
      },
      {
       "output_type": "stream",
       "stream": "stdout",
       "text": [
        "\n",
        "  1834  |    0.003768  |    0.008442  |     0.446338  |             |  3.5s"
       ]
      },
      {
       "output_type": "stream",
       "stream": "stdout",
       "text": [
        "\n",
        "  1835  |    0.003782  |    0.008430  |     0.448615  |             |  3.5s"
       ]
      },
      {
       "output_type": "stream",
       "stream": "stdout",
       "text": [
        "\n",
        "  1836  |    0.003770  |    0.008428  |     0.447348  |             |  3.5s"
       ]
      },
      {
       "output_type": "stream",
       "stream": "stdout",
       "text": [
        "\n",
        "  1837  |    0.003765  |    0.008438  |     0.446174  |             |  3.5s"
       ]
      },
      {
       "output_type": "stream",
       "stream": "stdout",
       "text": [
        "\n",
        "  1838  |    0.003836  |    0.008429  |     0.455169  |             |  3.5s"
       ]
      },
      {
       "output_type": "stream",
       "stream": "stdout",
       "text": [
        "\n",
        "  1839  |    0.003820  |    0.008412  |     0.454076  |             |  3.5s"
       ]
      },
      {
       "output_type": "stream",
       "stream": "stdout",
       "text": [
        "\n",
        "  1840  |    0.003766  |    0.008426  |     0.446918  |             |  3.5s"
       ]
      },
      {
       "output_type": "stream",
       "stream": "stdout",
       "text": [
        "\n",
        "  1841  |    0.003763  |    0.008449  |     0.445449  |             |  3.5s"
       ]
      },
      {
       "output_type": "stream",
       "stream": "stdout",
       "text": [
        "\n",
        "  1842  |    0.003803  |    0.008447  |     0.450241  |             |  3.5s"
       ]
      },
      {
       "output_type": "stream",
       "stream": "stdout",
       "text": [
        "\n",
        "  1843  |    0.003761  |    0.008440  |     0.445643  |             |  3.5s"
       ]
      },
      {
       "output_type": "stream",
       "stream": "stdout",
       "text": [
        "\n",
        "  1844  |    0.003735  |    0.008437  |     0.442654  |             |  3.5s"
       ]
      },
      {
       "output_type": "stream",
       "stream": "stdout",
       "text": [
        "\n",
        "  1845  |    0.003775  |    0.008428  |     0.447881  |             |  3.5s"
       ]
      },
      {
       "output_type": "stream",
       "stream": "stdout",
       "text": [
        "\n",
        "  1846  |    0.003758  |    0.008437  |     0.445458  |             |  3.5s"
       ]
      },
      {
       "output_type": "stream",
       "stream": "stdout",
       "text": [
        "\n",
        "  1847  |    0.003791  |    0.008417  |     0.450350  |             |  3.5s"
       ]
      },
      {
       "output_type": "stream",
       "stream": "stdout",
       "text": [
        "\n",
        "  1848  |    0.003749  |    0.008431  |     0.444635  |             |  3.5s"
       ]
      },
      {
       "output_type": "stream",
       "stream": "stdout",
       "text": [
        "\n",
        "  1849  |    0.003783  |  \u001b[32m  0.008399\u001b[0m  |     0.450449  |             |  3.5s"
       ]
      },
      {
       "output_type": "stream",
       "stream": "stdout",
       "text": [
        "\n",
        "  1850  |    0.003842  |    0.008423  |     0.456125  |             |  3.5s"
       ]
      },
      {
       "output_type": "stream",
       "stream": "stdout",
       "text": [
        "\n",
        "  1851  |  \u001b[94m  0.003682\u001b[0m  |    0.008431  |     0.436690  |             |  3.5s"
       ]
      },
      {
       "output_type": "stream",
       "stream": "stdout",
       "text": [
        "\n",
        "  1852  |    0.003751  |    0.008434  |     0.444683  |             |  3.5s"
       ]
      },
      {
       "output_type": "stream",
       "stream": "stdout",
       "text": [
        "\n",
        "  1853  |    0.003715  |    0.008409  |     0.441751  |             |  3.5s"
       ]
      },
      {
       "output_type": "stream",
       "stream": "stdout",
       "text": [
        "\n",
        "  1854  |    0.003782  |    0.008406  |     0.449880  |             |  3.5s"
       ]
      },
      {
       "output_type": "stream",
       "stream": "stdout",
       "text": [
        "\n",
        "  1855  |    0.003739  |    0.008428  |     0.443659  |             |  3.5s"
       ]
      },
      {
       "output_type": "stream",
       "stream": "stdout",
       "text": [
        "\n",
        "  1856  |    0.003757  |    0.008418  |     0.446345  |             |  3.5s"
       ]
      },
      {
       "output_type": "stream",
       "stream": "stdout",
       "text": [
        "\n",
        "  1857  |  \u001b[94m  0.003673\u001b[0m  |    0.008441  |     0.435123  |             |  3.5s"
       ]
      },
      {
       "output_type": "stream",
       "stream": "stdout",
       "text": [
        "\n",
        "  1858  |  \u001b[94m  0.003661\u001b[0m  |    0.008445  |     0.433494  |             |  3.5s"
       ]
      },
      {
       "output_type": "stream",
       "stream": "stdout",
       "text": [
        "\n",
        "  1859  |    0.003680  |    0.008428  |     0.436662  |             |  3.5s"
       ]
      },
      {
       "output_type": "stream",
       "stream": "stdout",
       "text": [
        "\n",
        "  1860  |    0.003722  |    0.008424  |     0.441852  |             |  3.5s"
       ]
      },
      {
       "output_type": "stream",
       "stream": "stdout",
       "text": [
        "\n",
        "  1861  |    0.003697  |    0.008422  |     0.438953  |             |  3.5s"
       ]
      },
      {
       "output_type": "stream",
       "stream": "stdout",
       "text": [
        "\n",
        "  1862  |    0.003701  |    0.008430  |     0.439067  |             |  3.5s"
       ]
      },
      {
       "output_type": "stream",
       "stream": "stdout",
       "text": [
        "\n",
        "  1863  |    0.003683  |    0.008436  |     0.436613  |             |  3.5s"
       ]
      },
      {
       "output_type": "stream",
       "stream": "stdout",
       "text": [
        "\n",
        "  1864  |    0.003702  |    0.008438  |     0.438674  |             |  3.5s"
       ]
      },
      {
       "output_type": "stream",
       "stream": "stdout",
       "text": [
        "\n",
        "  1865  |    0.003696  |    0.008421  |     0.438882  |             |  3.5s"
       ]
      },
      {
       "output_type": "stream",
       "stream": "stdout",
       "text": [
        "\n",
        "  1866  |    0.003673  |    0.008463  |     0.434040  |             |  3.5s"
       ]
      },
      {
       "output_type": "stream",
       "stream": "stdout",
       "text": [
        "\n",
        "  1867  |  \u001b[94m  0.003652\u001b[0m  |    0.008439  |     0.432705  |             |  3.5s"
       ]
      },
      {
       "output_type": "stream",
       "stream": "stdout",
       "text": [
        "\n",
        "  1868  |    0.003698  |    0.008433  |     0.438538  |             |  3.5s"
       ]
      },
      {
       "output_type": "stream",
       "stream": "stdout",
       "text": [
        "\n",
        "  1869  |    0.003747  |    0.008446  |     0.443694  |             |  3.5s"
       ]
      },
      {
       "output_type": "stream",
       "stream": "stdout",
       "text": [
        "\n",
        "  1870  |    0.003689  |    0.008436  |     0.437250  |             |  3.5s"
       ]
      },
      {
       "output_type": "stream",
       "stream": "stdout",
       "text": [
        "\n",
        "  1871  |    0.003658  |    0.008443  |     0.433256  |             |  3.5s"
       ]
      },
      {
       "output_type": "stream",
       "stream": "stdout",
       "text": [
        "\n",
        "  1872  |    0.003665  |    0.008442  |     0.434099  |             |  3.5s"
       ]
      },
      {
       "output_type": "stream",
       "stream": "stdout",
       "text": [
        "\n",
        "  1873  |    0.003694  |    0.008442  |     0.437625  |             |  3.5s"
       ]
      },
      {
       "output_type": "stream",
       "stream": "stdout",
       "text": [
        "\n",
        "  1874  |  \u001b[94m  0.003636\u001b[0m  |    0.008438  |     0.430880  |             |  3.5s"
       ]
      },
      {
       "output_type": "stream",
       "stream": "stdout",
       "text": [
        "\n",
        "  1875  |    0.003691  |    0.008447  |     0.436923  |             |  3.5s"
       ]
      },
      {
       "output_type": "stream",
       "stream": "stdout",
       "text": [
        "\n",
        "  1876  |    0.003657  |    0.008433  |     0.433604  |             |  3.5s"
       ]
      },
      {
       "output_type": "stream",
       "stream": "stdout",
       "text": [
        "\n",
        "  1877  |    0.003659  |    0.008429  |     0.434093  |             |  3.5s"
       ]
      },
      {
       "output_type": "stream",
       "stream": "stdout",
       "text": [
        "\n",
        "  1878  |    0.003697  |    0.008427  |     0.438686  |             |  3.5s"
       ]
      },
      {
       "output_type": "stream",
       "stream": "stdout",
       "text": [
        "\n",
        "  1879  |    0.003681  |    0.008452  |     0.435535  |             |  3.5s"
       ]
      },
      {
       "output_type": "stream",
       "stream": "stdout",
       "text": [
        "\n",
        "  1880  |  \u001b[94m  0.003614\u001b[0m  |    0.008448  |     0.427763  |             |  3.5s"
       ]
      },
      {
       "output_type": "stream",
       "stream": "stdout",
       "text": [
        "\n",
        "  1881  |  \u001b[94m  0.003598\u001b[0m  |    0.008438  |     0.426379  |             |  3.5s"
       ]
      },
      {
       "output_type": "stream",
       "stream": "stdout",
       "text": [
        "\n",
        "  1882  |    0.003671  |    0.008421  |     0.435919  |             |  3.5s"
       ]
      },
      {
       "output_type": "stream",
       "stream": "stdout",
       "text": [
        "\n",
        "  1883  |    0.003612  |    0.008439  |     0.428062  |             |  3.5s"
       ]
      },
      {
       "output_type": "stream",
       "stream": "stdout",
       "text": [
        "\n",
        "  1884  |    0.003663  |    0.008422  |     0.434958  |             |  3.5s"
       ]
      },
      {
       "output_type": "stream",
       "stream": "stdout",
       "text": [
        "\n",
        "  1885  |    0.003656  |    0.008434  |     0.433436  |             |  3.5s"
       ]
      },
      {
       "output_type": "stream",
       "stream": "stdout",
       "text": [
        "\n",
        "  1886  |    0.003650  |    0.008430  |     0.432985  |             |  3.5s"
       ]
      },
      {
       "output_type": "stream",
       "stream": "stdout",
       "text": [
        "\n",
        "  1887  |  \u001b[94m  0.003584\u001b[0m  |    0.008440  |     0.424699  |             |  3.5s"
       ]
      },
      {
       "output_type": "stream",
       "stream": "stdout",
       "text": [
        "\n",
        "  1888  |    0.003622  |    0.008426  |     0.429918  |             |  3.5s"
       ]
      },
      {
       "output_type": "stream",
       "stream": "stdout",
       "text": [
        "\n",
        "  1889  |    0.003615  |    0.008456  |     0.427462  |             |  3.5s"
       ]
      },
      {
       "output_type": "stream",
       "stream": "stdout",
       "text": [
        "\n",
        "  1890  |    0.003756  |    0.008444  |     0.444857  |             |  3.5s"
       ]
      },
      {
       "output_type": "stream",
       "stream": "stdout",
       "text": [
        "\n",
        "  1891  |    0.003608  |    0.008427  |     0.428105  |             |  3.5s"
       ]
      },
      {
       "output_type": "stream",
       "stream": "stdout",
       "text": [
        "\n",
        "  1892  |    0.003651  |    0.008428  |     0.433186  |             |  3.5s"
       ]
      },
      {
       "output_type": "stream",
       "stream": "stdout",
       "text": [
        "\n",
        "  1893  |    0.003640  |    0.008422  |     0.432224  |             |  3.5s"
       ]
      },
      {
       "output_type": "stream",
       "stream": "stdout",
       "text": [
        "\n",
        "  1894  |    0.003647  |    0.008421  |     0.433128  |             |  3.5s"
       ]
      },
      {
       "output_type": "stream",
       "stream": "stdout",
       "text": [
        "\n",
        "  1895  |    0.003633  |    0.008423  |     0.431304  |             |  3.5s"
       ]
      },
      {
       "output_type": "stream",
       "stream": "stdout",
       "text": [
        "\n",
        "  1896  |    0.003687  |    0.008425  |     0.437634  |             |  3.5s"
       ]
      },
      {
       "output_type": "stream",
       "stream": "stdout",
       "text": [
        "\n",
        "  1897  |    0.003625  |    0.008408  |     0.431178  |             |  3.5s"
       ]
      },
      {
       "output_type": "stream",
       "stream": "stdout",
       "text": [
        "\n",
        "  1898  |    0.003711  |    0.008428  |     0.440346  |             |  3.5s"
       ]
      },
      {
       "output_type": "stream",
       "stream": "stdout",
       "text": [
        "\n",
        "  1899  |  \u001b[94m  0.003581\u001b[0m  |    0.008448  |     0.423920  |             |  3.5s"
       ]
      },
      {
       "output_type": "stream",
       "stream": "stdout",
       "text": [
        "\n",
        "  1900  |  \u001b[94m  0.003574\u001b[0m  |    0.008435  |     0.423671  |             |  3.5s"
       ]
      },
      {
       "output_type": "stream",
       "stream": "stdout",
       "text": [
        "\n",
        "  1901  |    0.003615  |    0.008412  |     0.429724  |             |  3.5s"
       ]
      },
      {
       "output_type": "stream",
       "stream": "stdout",
       "text": [
        "\n",
        "  1902  |  \u001b[94m  0.003518\u001b[0m  |    0.008417  |     0.417978  |             |  3.5s"
       ]
      },
      {
       "output_type": "stream",
       "stream": "stdout",
       "text": [
        "\n",
        "  1903  |    0.003678  |    0.008435  |     0.436073  |             |  3.5s"
       ]
      },
      {
       "output_type": "stream",
       "stream": "stdout",
       "text": [
        "\n",
        "  1904  |    0.003626  |    0.008448  |     0.429197  |             |  3.5s"
       ]
      },
      {
       "output_type": "stream",
       "stream": "stdout",
       "text": [
        "\n",
        "  1905  |    0.003594  |    0.008432  |     0.426194  |             |  3.5s"
       ]
      },
      {
       "output_type": "stream",
       "stream": "stdout",
       "text": [
        "\n",
        "  1906  |    0.003577  |    0.008432  |     0.424193  |             |  3.5s"
       ]
      },
      {
       "output_type": "stream",
       "stream": "stdout",
       "text": [
        "\n",
        "  1907  |    0.003572  |    0.008414  |     0.424513  |             |  3.5s"
       ]
      },
      {
       "output_type": "stream",
       "stream": "stdout",
       "text": [
        "\n",
        "  1908  |  \u001b[94m  0.003506\u001b[0m  |    0.008425  |     0.416139  |             |  3.5s"
       ]
      },
      {
       "output_type": "stream",
       "stream": "stdout",
       "text": [
        "\n",
        "  1909  |    0.003573  |    0.008438  |     0.423414  |             |  3.5s"
       ]
      },
      {
       "output_type": "stream",
       "stream": "stdout",
       "text": [
        "\n",
        "  1910  |    0.003575  |    0.008441  |     0.423557  |             |  3.5s"
       ]
      },
      {
       "output_type": "stream",
       "stream": "stdout",
       "text": [
        "\n",
        "  1911  |    0.003636  |    0.008432  |     0.431197  |             |  3.5s"
       ]
      },
      {
       "output_type": "stream",
       "stream": "stdout",
       "text": [
        "\n",
        "  1912  |    0.003624  |    0.008441  |     0.429345  |             |  3.5s"
       ]
      },
      {
       "output_type": "stream",
       "stream": "stdout",
       "text": [
        "\n",
        "  1913  |    0.003570  |    0.008414  |     0.424261  |             |  3.5s"
       ]
      },
      {
       "output_type": "stream",
       "stream": "stdout",
       "text": [
        "\n",
        "  1914  |    0.003543  |    0.008416  |     0.420966  |             |  3.5s"
       ]
      },
      {
       "output_type": "stream",
       "stream": "stdout",
       "text": [
        "\n",
        "  1915  |    0.003604  |    0.008444  |     0.426823  |             |  3.5s"
       ]
      },
      {
       "output_type": "stream",
       "stream": "stdout",
       "text": [
        "\n",
        "  1916  |    0.003517  |    0.008460  |     0.415686  |             |  3.5s"
       ]
      },
      {
       "output_type": "stream",
       "stream": "stdout",
       "text": [
        "\n",
        "  1917  |    0.003593  |    0.008439  |     0.425707  |             |  3.5s"
       ]
      },
      {
       "output_type": "stream",
       "stream": "stdout",
       "text": [
        "\n",
        "  1918  |    0.003538  |    0.008443  |     0.419109  |             |  3.5s"
       ]
      },
      {
       "output_type": "stream",
       "stream": "stdout",
       "text": [
        "\n",
        "  1919  |    0.003517  |    0.008432  |     0.417113  |             |  3.5s"
       ]
      },
      {
       "output_type": "stream",
       "stream": "stdout",
       "text": [
        "\n",
        "  1920  |    0.003607  |    0.008431  |     0.427815  |             |  3.5s"
       ]
      },
      {
       "output_type": "stream",
       "stream": "stdout",
       "text": [
        "\n",
        "  1921  |    0.003632  |    0.008422  |     0.431268  |             |  3.5s"
       ]
      },
      {
       "output_type": "stream",
       "stream": "stdout",
       "text": [
        "\n",
        "  1922  |  \u001b[94m  0.003500\u001b[0m  |    0.008427  |     0.415331  |             |  3.5s"
       ]
      },
      {
       "output_type": "stream",
       "stream": "stdout",
       "text": [
        "\n",
        "  1923  |    0.003520  |    0.008422  |     0.417958  |             |  3.5s"
       ]
      },
      {
       "output_type": "stream",
       "stream": "stdout",
       "text": [
        "\n",
        "  1924  |    0.003540  |    0.008440  |     0.419494  |             |  3.5s"
       ]
      },
      {
       "output_type": "stream",
       "stream": "stdout",
       "text": [
        "\n",
        "  1925  |    0.003509  |    0.008416  |     0.416955  |             |  3.5s"
       ]
      },
      {
       "output_type": "stream",
       "stream": "stdout",
       "text": [
        "\n",
        "  1926  |    0.003597  |    0.008413  |     0.427601  |             |  3.5s"
       ]
      },
      {
       "output_type": "stream",
       "stream": "stdout",
       "text": [
        "\n",
        "  1927  |  \u001b[94m  0.003490\u001b[0m  |    0.008412  |     0.414886  |             |  3.5s"
       ]
      },
      {
       "output_type": "stream",
       "stream": "stdout",
       "text": [
        "\n",
        "  1928  |    0.003562  |    0.008419  |     0.423044  |             |  3.5s"
       ]
      },
      {
       "output_type": "stream",
       "stream": "stdout",
       "text": [
        "\n",
        "  1929  |    0.003514  |    0.008433  |     0.416674  |             |  3.5s"
       ]
      },
      {
       "output_type": "stream",
       "stream": "stdout",
       "text": [
        "\n",
        "  1930  |    0.003571  |    0.008441  |     0.423045  |             |  3.5s"
       ]
      },
      {
       "output_type": "stream",
       "stream": "stdout",
       "text": [
        "\n",
        "  1931  |    0.003574  |    0.008426  |     0.424236  |             |  3.5s"
       ]
      },
      {
       "output_type": "stream",
       "stream": "stdout",
       "text": [
        "\n",
        "  1932  |    0.003588  |    0.008428  |     0.425751  |             |  3.5s"
       ]
      },
      {
       "output_type": "stream",
       "stream": "stdout",
       "text": [
        "\n",
        "  1933  |    0.003553  |    0.008413  |     0.422338  |             |  3.5s"
       ]
      },
      {
       "output_type": "stream",
       "stream": "stdout",
       "text": [
        "\n",
        "  1934  |    0.003510  |    0.008422  |     0.416805  |             |  3.5s"
       ]
      },
      {
       "output_type": "stream",
       "stream": "stdout",
       "text": [
        "\n",
        "  1935  |    0.003610  |    0.008429  |     0.428325  |             |  3.5s"
       ]
      },
      {
       "output_type": "stream",
       "stream": "stdout",
       "text": [
        "\n",
        "  1936  |    0.003501  |    0.008424  |     0.415659  |             |  3.5s"
       ]
      },
      {
       "output_type": "stream",
       "stream": "stdout",
       "text": [
        "\n",
        "  1937  |    0.003575  |    0.008431  |     0.424011  |             |  3.5s"
       ]
      },
      {
       "output_type": "stream",
       "stream": "stdout",
       "text": [
        "\n",
        "  1938  |    0.003570  |    0.008430  |     0.423444  |             |  3.5s"
       ]
      },
      {
       "output_type": "stream",
       "stream": "stdout",
       "text": [
        "\n",
        "  1939  |    0.003607  |    0.008411  |     0.428805  |             |  3.5s"
       ]
      },
      {
       "output_type": "stream",
       "stream": "stdout",
       "text": [
        "\n",
        "  1940  |    0.003581  |    0.008411  |     0.425733  |             |  3.5s"
       ]
      },
      {
       "output_type": "stream",
       "stream": "stdout",
       "text": [
        "\n",
        "  1941  |    0.003577  |    0.008427  |     0.424508  |             |  3.5s"
       ]
      },
      {
       "output_type": "stream",
       "stream": "stdout",
       "text": [
        "\n",
        "  1942  |    0.003491  |    0.008429  |     0.414174  |             |  3.5s"
       ]
      },
      {
       "output_type": "stream",
       "stream": "stdout",
       "text": [
        "\n",
        "  1943  |    0.003514  |    0.008403  |     0.418114  |             |  3.5s"
       ]
      },
      {
       "output_type": "stream",
       "stream": "stdout",
       "text": [
        "\n",
        "  1944  |    0.003543  |    0.008426  |     0.420515  |             |  3.5s"
       ]
      },
      {
       "output_type": "stream",
       "stream": "stdout",
       "text": [
        "\n",
        "  1945  |    0.003508  |    0.008432  |     0.416071  |             |  3.5s"
       ]
      },
      {
       "output_type": "stream",
       "stream": "stdout",
       "text": [
        "\n",
        "  1946  |    0.003509  |    0.008437  |     0.415862  |             |  3.5s"
       ]
      },
      {
       "output_type": "stream",
       "stream": "stdout",
       "text": [
        "\n",
        "  1947  |    0.003510  |    0.008410  |     0.417349  |             |  3.5s"
       ]
      },
      {
       "output_type": "stream",
       "stream": "stdout",
       "text": [
        "\n",
        "  1948  |  \u001b[94m  0.003459\u001b[0m  |    0.008410  |     0.411334  |             |  3.5s"
       ]
      },
      {
       "output_type": "stream",
       "stream": "stdout",
       "text": [
        "\n",
        "  1949  |    0.003518  |    0.008416  |     0.418063  |             |  3.5s"
       ]
      },
      {
       "output_type": "stream",
       "stream": "stdout",
       "text": [
        "\n",
        "  1950  |    0.003575  |    0.008413  |     0.424931  |             |  3.5s"
       ]
      },
      {
       "output_type": "stream",
       "stream": "stdout",
       "text": [
        "\n",
        "  1951  |  \u001b[94m  0.003439\u001b[0m  |    0.008441  |     0.407466  |             |  3.5s"
       ]
      },
      {
       "output_type": "stream",
       "stream": "stdout",
       "text": [
        "\n",
        "  1952  |    0.003464  |    0.008412  |     0.411718  |             |  3.5s"
       ]
      },
      {
       "output_type": "stream",
       "stream": "stdout",
       "text": [
        "\n",
        "  1953  |    0.003569  |    0.008407  |     0.424500  |             |  3.5s"
       ]
      },
      {
       "output_type": "stream",
       "stream": "stdout",
       "text": [
        "\n",
        "  1954  |    0.003482  |    0.008439  |     0.412556  |             |  3.5s"
       ]
      },
      {
       "output_type": "stream",
       "stream": "stdout",
       "text": [
        "\n",
        "  1955  |    0.003488  |    0.008420  |     0.414218  |             |  3.5s"
       ]
      },
      {
       "output_type": "stream",
       "stream": "stdout",
       "text": [
        "\n",
        "  1956  |    0.003514  |    0.008427  |     0.416925  |             |  3.5s"
       ]
      },
      {
       "output_type": "stream",
       "stream": "stdout",
       "text": [
        "\n",
        "  1957  |    0.003460  |    0.008433  |     0.410321  |             |  3.5s"
       ]
      },
      {
       "output_type": "stream",
       "stream": "stdout",
       "text": [
        "\n",
        "  1958  |    0.003523  |    0.008423  |     0.418292  |             |  3.5s"
       ]
      },
      {
       "output_type": "stream",
       "stream": "stdout",
       "text": [
        "\n",
        "  1959  |    0.003522  |    0.008436  |     0.417450  |             |  3.5s"
       ]
      },
      {
       "output_type": "stream",
       "stream": "stdout",
       "text": [
        "\n",
        "  1960  |    0.003566  |    0.008421  |     0.423432  |             |  3.5s"
       ]
      },
      {
       "output_type": "stream",
       "stream": "stdout",
       "text": [
        "\n",
        "  1961  |    0.003507  |    0.008404  |     0.417316  |             |  3.5s"
       ]
      },
      {
       "output_type": "stream",
       "stream": "stdout",
       "text": [
        "\n",
        "  1962  |    0.003526  |    0.008418  |     0.418858  |             |  3.5s"
       ]
      },
      {
       "output_type": "stream",
       "stream": "stdout",
       "text": [
        "\n",
        "  1963  |    0.003514  |  \u001b[32m  0.008397\u001b[0m  |     0.418437  |             |  3.5s"
       ]
      },
      {
       "output_type": "stream",
       "stream": "stdout",
       "text": [
        "\n",
        "  1964  |    0.003493  |    0.008432  |     0.414215  |             |  3.5s"
       ]
      },
      {
       "output_type": "stream",
       "stream": "stdout",
       "text": [
        "\n",
        "  1965  |    0.003514  |    0.008424  |     0.417193  |             |  3.5s"
       ]
      },
      {
       "output_type": "stream",
       "stream": "stdout",
       "text": [
        "\n",
        "  1966  |    0.003467  |    0.008419  |     0.411799  |             |  3.5s"
       ]
      },
      {
       "output_type": "stream",
       "stream": "stdout",
       "text": [
        "\n",
        "  1967  |    0.003463  |    0.008433  |     0.410588  |             |  3.5s"
       ]
      },
      {
       "output_type": "stream",
       "stream": "stdout",
       "text": [
        "\n",
        "  1968  |    0.003482  |    0.008413  |     0.413836  |             |  3.5s"
       ]
      },
      {
       "output_type": "stream",
       "stream": "stdout",
       "text": [
        "\n",
        "  1969  |    0.003555  |    0.008425  |     0.421920  |             |  3.5s"
       ]
      },
      {
       "output_type": "stream",
       "stream": "stdout",
       "text": [
        "\n",
        "  1970  |    0.003454  |    0.008425  |     0.409962  |             |  3.5s"
       ]
      },
      {
       "output_type": "stream",
       "stream": "stdout",
       "text": [
        "\n",
        "  1971  |    0.003464  |    0.008421  |     0.411338  |             |  3.5s"
       ]
      },
      {
       "output_type": "stream",
       "stream": "stdout",
       "text": [
        "\n",
        "  1972  |  \u001b[94m  0.003373\u001b[0m  |    0.008429  |     0.400158  |             |  3.5s"
       ]
      },
      {
       "output_type": "stream",
       "stream": "stdout",
       "text": [
        "\n",
        "  1973  |    0.003495  |    0.008408  |     0.415619  |             |  3.5s"
       ]
      },
      {
       "output_type": "stream",
       "stream": "stdout",
       "text": [
        "\n",
        "  1974  |    0.003412  |    0.008409  |     0.405711  |             |  3.5s"
       ]
      },
      {
       "output_type": "stream",
       "stream": "stdout",
       "text": [
        "\n",
        "  1975  |    0.003488  |    0.008409  |     0.414761  |             |  3.5s"
       ]
      },
      {
       "output_type": "stream",
       "stream": "stdout",
       "text": [
        "\n",
        "  1976  |    0.003420  |    0.008406  |     0.406855  |             |  3.5s"
       ]
      },
      {
       "output_type": "stream",
       "stream": "stdout",
       "text": [
        "\n",
        "  1977  |    0.003427  |    0.008447  |     0.405766  |             |  3.5s"
       ]
      },
      {
       "output_type": "stream",
       "stream": "stdout",
       "text": [
        "\n",
        "  1978  |    0.003410  |    0.008419  |     0.405007  |             |  3.5s"
       ]
      },
      {
       "output_type": "stream",
       "stream": "stdout",
       "text": [
        "\n",
        "  1979  |    0.003527  |    0.008417  |     0.419093  |             |  3.5s"
       ]
      },
      {
       "output_type": "stream",
       "stream": "stdout",
       "text": [
        "\n",
        "  1980  |  \u001b[94m  0.003362\u001b[0m  |    0.008408  |     0.399777  |             |  3.5s"
       ]
      },
      {
       "output_type": "stream",
       "stream": "stdout",
       "text": [
        "\n",
        "  1981  |    0.003411  |    0.008428  |     0.404718  |             |  3.5s"
       ]
      },
      {
       "output_type": "stream",
       "stream": "stdout",
       "text": [
        "\n",
        "  1982  |    0.003410  |    0.008405  |     0.405744  |             |  3.5s"
       ]
      },
      {
       "output_type": "stream",
       "stream": "stdout",
       "text": [
        "\n",
        "  1983  |    0.003459  |    0.008412  |     0.411139  |             |  3.5s"
       ]
      },
      {
       "output_type": "stream",
       "stream": "stdout",
       "text": [
        "\n",
        "  1984  |    0.003402  |    0.008427  |     0.403702  |             |  3.5s"
       ]
      },
      {
       "output_type": "stream",
       "stream": "stdout",
       "text": [
        "\n",
        "  1985  |    0.003502  |    0.008413  |     0.416298  |             |  3.5s"
       ]
      },
      {
       "output_type": "stream",
       "stream": "stdout",
       "text": [
        "\n",
        "  1986  |    0.003414  |    0.008422  |     0.405344  |             |  3.5s"
       ]
      },
      {
       "output_type": "stream",
       "stream": "stdout",
       "text": [
        "\n",
        "  1987  |    0.003435  |    0.008411  |     0.408443  |             |  3.5s"
       ]
      },
      {
       "output_type": "stream",
       "stream": "stdout",
       "text": [
        "\n",
        "  1988  |    0.003436  |    0.008413  |     0.408375  |             |  3.5s"
       ]
      },
      {
       "output_type": "stream",
       "stream": "stdout",
       "text": [
        "\n",
        "  1989  |    0.003495  |    0.008403  |     0.415935  |             |  3.5s"
       ]
      },
      {
       "output_type": "stream",
       "stream": "stdout",
       "text": [
        "\n",
        "  1990  |    0.003408  |    0.008414  |     0.404973  |             |  3.5s"
       ]
      },
      {
       "output_type": "stream",
       "stream": "stdout",
       "text": [
        "\n",
        "  1991  |    0.003373  |    0.008397  |     0.401700  |             |  3.5s"
       ]
      },
      {
       "output_type": "stream",
       "stream": "stdout",
       "text": [
        "\n",
        "  1992  |    0.003472  |    0.008414  |     0.412614  |             |  3.5s"
       ]
      },
      {
       "output_type": "stream",
       "stream": "stdout",
       "text": [
        "\n",
        "  1993  |    0.003378  |    0.008399  |     0.402161  |             |  3.5s"
       ]
      },
      {
       "output_type": "stream",
       "stream": "stdout",
       "text": [
        "\n",
        "  1994  |  \u001b[94m  0.003337\u001b[0m  |    0.008403  |     0.397185  |             |  3.5s"
       ]
      },
      {
       "output_type": "stream",
       "stream": "stdout",
       "text": [
        "\n",
        "  1995  |    0.003380  |    0.008399  |     0.402457  |             |  3.5s"
       ]
      },
      {
       "output_type": "stream",
       "stream": "stdout",
       "text": [
        "\n",
        "  1996  |    0.003405  |  \u001b[32m  0.008389\u001b[0m  |     0.405951  |             |  3.5s"
       ]
      },
      {
       "output_type": "stream",
       "stream": "stdout",
       "text": [
        "\n",
        "  1997  |    0.003433  |    0.008419  |     0.407788  |             |  3.5s"
       ]
      },
      {
       "output_type": "stream",
       "stream": "stdout",
       "text": [
        "\n",
        "  1998  |    0.003415  |    0.008409  |     0.406125  |             |  3.5s"
       ]
      },
      {
       "output_type": "stream",
       "stream": "stdout",
       "text": [
        "\n",
        "  1999  |    0.003349  |    0.008414  |     0.397967  |             |  3.5s"
       ]
      },
      {
       "output_type": "stream",
       "stream": "stdout",
       "text": [
        "\n",
        "  2000  |    0.003397  |    0.008409  |     0.403975  |             |  3.5s"
       ]
      },
      {
       "output_type": "stream",
       "stream": "stdout",
       "text": [
        "\n",
        "  2001  |    0.003420  |    0.008407  |     0.406747  |             |  3.5s"
       ]
      },
      {
       "output_type": "stream",
       "stream": "stdout",
       "text": [
        "\n",
        "  2002  |    0.003437  |    0.008414  |     0.408538  |             |  3.5s"
       ]
      },
      {
       "output_type": "stream",
       "stream": "stdout",
       "text": [
        "\n",
        "  2003  |    0.003386  |  \u001b[32m  0.008384\u001b[0m  |     0.403808  |             |  3.5s"
       ]
      },
      {
       "output_type": "stream",
       "stream": "stdout",
       "text": [
        "\n",
        "  2004  |    0.003450  |    0.008414  |     0.410033  |             |  3.5s"
       ]
      },
      {
       "output_type": "stream",
       "stream": "stdout",
       "text": [
        "\n",
        "  2005  |    0.003368  |    0.008405  |     0.400778  |             |  3.5s"
       ]
      },
      {
       "output_type": "stream",
       "stream": "stdout",
       "text": [
        "\n",
        "  2006  |    0.003358  |    0.008396  |     0.399962  |             |  3.5s"
       ]
      },
      {
       "output_type": "stream",
       "stream": "stdout",
       "text": [
        "\n",
        "  2007  |    0.003375  |    0.008423  |     0.400701  |             |  3.5s"
       ]
      },
      {
       "output_type": "stream",
       "stream": "stdout",
       "text": [
        "\n",
        "  2008  |    0.003405  |    0.008414  |     0.404656  |             |  3.5s"
       ]
      },
      {
       "output_type": "stream",
       "stream": "stdout",
       "text": [
        "\n",
        "  2009  |    0.003404  |    0.008398  |     0.405349  |             |  3.5s"
       ]
      },
      {
       "output_type": "stream",
       "stream": "stdout",
       "text": [
        "\n",
        "  2010  |    0.003341  |    0.008411  |     0.397209  |             |  3.5s"
       ]
      },
      {
       "output_type": "stream",
       "stream": "stdout",
       "text": [
        "\n",
        "  2011  |    0.003408  |    0.008392  |     0.406133  |             |  3.5s"
       ]
      },
      {
       "output_type": "stream",
       "stream": "stdout",
       "text": [
        "\n",
        "  2012  |    0.003362  |    0.008416  |     0.399477  |             |  3.5s"
       ]
      },
      {
       "output_type": "stream",
       "stream": "stdout",
       "text": [
        "\n",
        "  2013  |    0.003344  |    0.008409  |     0.397690  |             |  3.5s"
       ]
      },
      {
       "output_type": "stream",
       "stream": "stdout",
       "text": [
        "\n",
        "  2014  |    0.003364  |    0.008408  |     0.400086  |             |  3.5s"
       ]
      },
      {
       "output_type": "stream",
       "stream": "stdout",
       "text": [
        "\n",
        "  2015  |    0.003375  |    0.008406  |     0.401514  |             |  3.5s"
       ]
      },
      {
       "output_type": "stream",
       "stream": "stdout",
       "text": [
        "\n",
        "  2016  |    0.003400  |    0.008431  |     0.403275  |             |  3.5s"
       ]
      },
      {
       "output_type": "stream",
       "stream": "stdout",
       "text": [
        "\n",
        "  2017  |  \u001b[94m  0.003307\u001b[0m  |    0.008422  |     0.392621  |             |  3.5s"
       ]
      },
      {
       "output_type": "stream",
       "stream": "stdout",
       "text": [
        "\n",
        "  2018  |    0.003433  |    0.008400  |     0.408677  |             |  3.5s"
       ]
      },
      {
       "output_type": "stream",
       "stream": "stdout",
       "text": [
        "\n",
        "  2019  |    0.003378  |    0.008410  |     0.401663  |             |  3.5s"
       ]
      },
      {
       "output_type": "stream",
       "stream": "stdout",
       "text": [
        "\n",
        "  2020  |    0.003339  |    0.008415  |     0.396753  |             |  3.5s"
       ]
      },
      {
       "output_type": "stream",
       "stream": "stdout",
       "text": [
        "\n",
        "  2021  |    0.003350  |    0.008398  |     0.398856  |             |  3.5s"
       ]
      },
      {
       "output_type": "stream",
       "stream": "stdout",
       "text": [
        "\n",
        "  2022  |    0.003330  |    0.008400  |     0.396368  |             |  3.5s"
       ]
      },
      {
       "output_type": "stream",
       "stream": "stdout",
       "text": [
        "\n",
        "  2023  |    0.003360  |  \u001b[32m  0.008380\u001b[0m  |     0.400953  |             |  3.5s"
       ]
      },
      {
       "output_type": "stream",
       "stream": "stdout",
       "text": [
        "\n",
        "  2024  |  \u001b[94m  0.003256\u001b[0m  |    0.008390  |     0.388107  |             |  3.5s"
       ]
      },
      {
       "output_type": "stream",
       "stream": "stdout",
       "text": [
        "\n",
        "  2025  |    0.003312  |    0.008409  |     0.393821  |             |  3.5s"
       ]
      },
      {
       "output_type": "stream",
       "stream": "stdout",
       "text": [
        "\n",
        "  2026  |    0.003386  |    0.008388  |     0.403714  |             |  3.5s"
       ]
      },
      {
       "output_type": "stream",
       "stream": "stdout",
       "text": [
        "\n",
        "  2027  |    0.003333  |    0.008407  |     0.396515  |             |  3.5s"
       ]
      },
      {
       "output_type": "stream",
       "stream": "stdout",
       "text": [
        "\n",
        "  2028  |    0.003261  |    0.008420  |     0.387257  |             |  3.5s"
       ]
      },
      {
       "output_type": "stream",
       "stream": "stdout",
       "text": [
        "\n",
        "  2029  |    0.003338  |    0.008391  |     0.397760  |             |  3.5s"
       ]
      },
      {
       "output_type": "stream",
       "stream": "stdout",
       "text": [
        "\n",
        "  2030  |  \u001b[94m  0.003242\u001b[0m  |    0.008403  |     0.385836  |             |  3.5s"
       ]
      },
      {
       "output_type": "stream",
       "stream": "stdout",
       "text": [
        "\n",
        "  2031  |    0.003363  |    0.008402  |     0.400306  |             |  3.5s"
       ]
      },
      {
       "output_type": "stream",
       "stream": "stdout",
       "text": [
        "\n",
        "  2032  |    0.003340  |    0.008437  |     0.395848  |             |  3.5s"
       ]
      },
      {
       "output_type": "stream",
       "stream": "stdout",
       "text": [
        "\n",
        "  2033  |    0.003297  |    0.008394  |     0.392736  |             |  3.5s"
       ]
      },
      {
       "output_type": "stream",
       "stream": "stdout",
       "text": [
        "\n",
        "  2034  |    0.003346  |    0.008394  |     0.398625  |             |  3.5s"
       ]
      },
      {
       "output_type": "stream",
       "stream": "stdout",
       "text": [
        "\n",
        "  2035  |    0.003379  |    0.008395  |     0.402487  |             |  3.5s"
       ]
      },
      {
       "output_type": "stream",
       "stream": "stdout",
       "text": [
        "\n",
        "  2036  |    0.003362  |    0.008424  |     0.399113  |             |  3.5s"
       ]
      },
      {
       "output_type": "stream",
       "stream": "stdout",
       "text": [
        "\n",
        "  2037  |    0.003260  |    0.008419  |     0.387206  |             |  3.5s"
       ]
      },
      {
       "output_type": "stream",
       "stream": "stdout",
       "text": [
        "\n",
        "  2038  |    0.003309  |    0.008417  |     0.393095  |             |  3.5s"
       ]
      },
      {
       "output_type": "stream",
       "stream": "stdout",
       "text": [
        "\n",
        "  2039  |    0.003329  |    0.008403  |     0.396165  |             |  3.5s"
       ]
      },
      {
       "output_type": "stream",
       "stream": "stdout",
       "text": [
        "\n",
        "  2040  |    0.003367  |    0.008420  |     0.399903  |             |  3.5s"
       ]
      },
      {
       "output_type": "stream",
       "stream": "stdout",
       "text": [
        "\n",
        "  2041  |    0.003271  |    0.008398  |     0.389426  |             |  3.5s"
       ]
      },
      {
       "output_type": "stream",
       "stream": "stdout",
       "text": [
        "\n",
        "  2042  |    0.003324  |    0.008416  |     0.394924  |             |  3.5s"
       ]
      },
      {
       "output_type": "stream",
       "stream": "stdout",
       "text": [
        "\n",
        "  2043  |    0.003338  |    0.008426  |     0.396147  |             |  3.5s"
       ]
      },
      {
       "output_type": "stream",
       "stream": "stdout",
       "text": [
        "\n",
        "  2044  |    0.003359  |    0.008396  |     0.400030  |             |  3.5s"
       ]
      },
      {
       "output_type": "stream",
       "stream": "stdout",
       "text": [
        "\n",
        "  2045  |    0.003304  |    0.008404  |     0.393106  |             |  3.5s"
       ]
      },
      {
       "output_type": "stream",
       "stream": "stdout",
       "text": [
        "\n",
        "  2046  |    0.003246  |    0.008408  |     0.386056  |             |  3.5s"
       ]
      },
      {
       "output_type": "stream",
       "stream": "stdout",
       "text": [
        "\n",
        "  2047  |    0.003318  |    0.008413  |     0.394397  |             |  3.5s"
       ]
      },
      {
       "output_type": "stream",
       "stream": "stdout",
       "text": [
        "\n",
        "  2048  |    0.003323  |    0.008408  |     0.395253  |             |  3.5s"
       ]
      },
      {
       "output_type": "stream",
       "stream": "stdout",
       "text": [
        "\n",
        "  2049  |    0.003282  |    0.008393  |     0.391102  |             |  3.5s"
       ]
      },
      {
       "output_type": "stream",
       "stream": "stdout",
       "text": [
        "\n",
        "  2050  |  \u001b[94m  0.003238\u001b[0m  |    0.008422  |     0.384407  |             |  3.5s"
       ]
      },
      {
       "output_type": "stream",
       "stream": "stdout",
       "text": [
        "\n",
        "  2051  |    0.003302  |    0.008419  |     0.392155  |             |  3.5s"
       ]
      },
      {
       "output_type": "stream",
       "stream": "stdout",
       "text": [
        "\n",
        "  2052  |    0.003294  |    0.008399  |     0.392221  |             |  3.5s"
       ]
      },
      {
       "output_type": "stream",
       "stream": "stdout",
       "text": [
        "\n",
        "  2053  |    0.003340  |    0.008407  |     0.397281  |             |  3.5s"
       ]
      },
      {
       "output_type": "stream",
       "stream": "stdout",
       "text": [
        "\n",
        "  2054  |    0.003272  |    0.008392  |     0.389951  |             |  3.5s"
       ]
      },
      {
       "output_type": "stream",
       "stream": "stdout",
       "text": [
        "\n",
        "  2055  |    0.003282  |    0.008413  |     0.390159  |             |  3.5s"
       ]
      },
      {
       "output_type": "stream",
       "stream": "stdout",
       "text": [
        "\n",
        "  2056  |    0.003285  |    0.008412  |     0.390582  |             |  3.5s"
       ]
      },
      {
       "output_type": "stream",
       "stream": "stdout",
       "text": [
        "\n",
        "  2057  |  \u001b[94m  0.003237\u001b[0m  |    0.008433  |     0.383832  |             |  3.5s"
       ]
      },
      {
       "output_type": "stream",
       "stream": "stdout",
       "text": [
        "\n",
        "  2058  |    0.003311  |    0.008416  |     0.393357  |             |  3.5s"
       ]
      },
      {
       "output_type": "stream",
       "stream": "stdout",
       "text": [
        "\n",
        "  2059  |    0.003278  |    0.008397  |     0.390409  |             |  3.5s"
       ]
      },
      {
       "output_type": "stream",
       "stream": "stdout",
       "text": [
        "\n",
        "  2060  |    0.003309  |    0.008427  |     0.392643  |             |  3.5s"
       ]
      },
      {
       "output_type": "stream",
       "stream": "stdout",
       "text": [
        "\n",
        "  2061  |    0.003324  |    0.008417  |     0.394840  |             |  3.5s"
       ]
      },
      {
       "output_type": "stream",
       "stream": "stdout",
       "text": [
        "\n",
        "  2062  |  \u001b[94m  0.003208\u001b[0m  |    0.008423  |     0.380812  |             |  3.5s"
       ]
      },
      {
       "output_type": "stream",
       "stream": "stdout",
       "text": [
        "\n",
        "  2063  |  \u001b[94m  0.003198\u001b[0m  |    0.008405  |     0.380486  |             |  3.5s"
       ]
      },
      {
       "output_type": "stream",
       "stream": "stdout",
       "text": [
        "\n",
        "  2064  |    0.003219  |    0.008420  |     0.382362  |             |  3.5s"
       ]
      },
      {
       "output_type": "stream",
       "stream": "stdout",
       "text": [
        "\n",
        "  2065  |    0.003251  |    0.008423  |     0.385932  |             |  3.5s"
       ]
      },
      {
       "output_type": "stream",
       "stream": "stdout",
       "text": [
        "\n",
        "  2066  |    0.003300  |    0.008414  |     0.392139  |             |  3.5s"
       ]
      },
      {
       "output_type": "stream",
       "stream": "stdout",
       "text": [
        "\n",
        "  2067  |    0.003308  |    0.008413  |     0.393157  |             |  3.5s"
       ]
      },
      {
       "output_type": "stream",
       "stream": "stdout",
       "text": [
        "\n",
        "  2068  |    0.003201  |    0.008412  |     0.380480  |             |  3.5s"
       ]
      },
      {
       "output_type": "stream",
       "stream": "stdout",
       "text": [
        "\n",
        "  2069  |    0.003263  |    0.008420  |     0.387589  |             |  3.5s"
       ]
      },
      {
       "output_type": "stream",
       "stream": "stdout",
       "text": [
        "\n",
        "  2070  |  \u001b[94m  0.003175\u001b[0m  |    0.008409  |     0.377647  |             |  3.5s"
       ]
      },
      {
       "output_type": "stream",
       "stream": "stdout",
       "text": [
        "\n",
        "  2071  |    0.003295  |    0.008419  |     0.391406  |             |  3.5s"
       ]
      },
      {
       "output_type": "stream",
       "stream": "stdout",
       "text": [
        "\n",
        "  2072  |    0.003248  |    0.008394  |     0.386986  |             |  3.5s"
       ]
      },
      {
       "output_type": "stream",
       "stream": "stdout",
       "text": [
        "\n",
        "  2073  |    0.003261  |    0.008409  |     0.387805  |             |  3.5s"
       ]
      },
      {
       "output_type": "stream",
       "stream": "stdout",
       "text": [
        "\n",
        "  2074  |    0.003252  |    0.008412  |     0.386560  |             |  3.5s"
       ]
      },
      {
       "output_type": "stream",
       "stream": "stdout",
       "text": [
        "\n",
        "  2075  |    0.003229  |    0.008412  |     0.383880  |             |  3.5s"
       ]
      },
      {
       "output_type": "stream",
       "stream": "stdout",
       "text": [
        "\n",
        "  2076  |    0.003235  |    0.008395  |     0.385296  |             |  3.5s"
       ]
      },
      {
       "output_type": "stream",
       "stream": "stdout",
       "text": [
        "\n",
        "  2077  |    0.003180  |    0.008404  |     0.378363  |             |  3.5s"
       ]
      },
      {
       "output_type": "stream",
       "stream": "stdout",
       "text": [
        "\n",
        "  2078  |    0.003250  |    0.008403  |     0.386807  |             |  3.5s"
       ]
      },
      {
       "output_type": "stream",
       "stream": "stdout",
       "text": [
        "\n",
        "  2079  |    0.003231  |    0.008422  |     0.383614  |             |  3.5s"
       ]
      },
      {
       "output_type": "stream",
       "stream": "stdout",
       "text": [
        "\n",
        "  2080  |  \u001b[94m  0.003123\u001b[0m  |    0.008414  |     0.371161  |             |  3.5s"
       ]
      },
      {
       "output_type": "stream",
       "stream": "stdout",
       "text": [
        "\n",
        "  2081  |    0.003202  |    0.008432  |     0.379782  |             |  3.5s"
       ]
      },
      {
       "output_type": "stream",
       "stream": "stdout",
       "text": [
        "\n",
        "  2082  |    0.003183  |    0.008406  |     0.378592  |             |  3.5s"
       ]
      },
      {
       "output_type": "stream",
       "stream": "stdout",
       "text": [
        "\n",
        "  2083  |    0.003232  |    0.008411  |     0.384275  |             |  3.5s"
       ]
      },
      {
       "output_type": "stream",
       "stream": "stdout",
       "text": [
        "\n",
        "  2084  |    0.003214  |    0.008419  |     0.381686  |             |  3.5s"
       ]
      },
      {
       "output_type": "stream",
       "stream": "stdout",
       "text": [
        "\n",
        "  2085  |    0.003269  |    0.008449  |     0.386901  |             |  3.5s"
       ]
      },
      {
       "output_type": "stream",
       "stream": "stdout",
       "text": [
        "\n",
        "  2086  |    0.003241  |    0.008414  |     0.385209  |             |  3.5s"
       ]
      },
      {
       "output_type": "stream",
       "stream": "stdout",
       "text": [
        "\n",
        "  2087  |    0.003258  |    0.008441  |     0.385948  |             |  3.5s"
       ]
      },
      {
       "output_type": "stream",
       "stream": "stdout",
       "text": [
        "\n",
        "  2088  |    0.003214  |    0.008407  |     0.382292  |             |  3.5s"
       ]
      },
      {
       "output_type": "stream",
       "stream": "stdout",
       "text": [
        "\n",
        "  2089  |    0.003231  |    0.008413  |     0.384110  |             |  3.5s"
       ]
      },
      {
       "output_type": "stream",
       "stream": "stdout",
       "text": [
        "\n",
        "  2090  |    0.003150  |    0.008438  |     0.373347  |             |  3.5s"
       ]
      },
      {
       "output_type": "stream",
       "stream": "stdout",
       "text": [
        "\n",
        "  2091  |    0.003190  |    0.008437  |     0.378048  |             |  3.5s"
       ]
      },
      {
       "output_type": "stream",
       "stream": "stdout",
       "text": [
        "\n",
        "  2092  |    0.003239  |    0.008413  |     0.385014  |             |  3.5s"
       ]
      },
      {
       "output_type": "stream",
       "stream": "stdout",
       "text": [
        "\n",
        "  2093  |    0.003223  |    0.008414  |     0.382973  |             |  3.5s"
       ]
      },
      {
       "output_type": "stream",
       "stream": "stdout",
       "text": [
        "\n",
        "  2094  |    0.003186  |    0.008419  |     0.378389  |             |  3.5s"
       ]
      },
      {
       "output_type": "stream",
       "stream": "stdout",
       "text": [
        "\n",
        "  2095  |    0.003124  |    0.008416  |     0.371209  |             |  3.5s"
       ]
      },
      {
       "output_type": "stream",
       "stream": "stdout",
       "text": [
        "\n",
        "  2096  |    0.003216  |    0.008398  |     0.382944  |             |  3.5s"
       ]
      },
      {
       "output_type": "stream",
       "stream": "stdout",
       "text": [
        "\n",
        "  2097  |    0.003214  |    0.008430  |     0.381290  |             |  3.5s"
       ]
      },
      {
       "output_type": "stream",
       "stream": "stdout",
       "text": [
        "\n",
        "  2098  |    0.003157  |    0.008408  |     0.375518  |             |  3.5s"
       ]
      },
      {
       "output_type": "stream",
       "stream": "stdout",
       "text": [
        "\n",
        "  2099  |    0.003208  |    0.008395  |     0.382160  |             |  3.5s"
       ]
      },
      {
       "output_type": "stream",
       "stream": "stdout",
       "text": [
        "\n",
        "  2100  |    0.003247  |    0.008405  |     0.386366  |             |  3.5s"
       ]
      },
      {
       "output_type": "stream",
       "stream": "stdout",
       "text": [
        "\n",
        "  2101  |    0.003277  |    0.008403  |     0.389936  |             |  3.5s"
       ]
      },
      {
       "output_type": "stream",
       "stream": "stdout",
       "text": [
        "\n",
        "  2102  |    0.003148  |    0.008422  |     0.373801  |             |  3.5s"
       ]
      },
      {
       "output_type": "stream",
       "stream": "stdout",
       "text": [
        "\n",
        "  2103  |    0.003214  |    0.008415  |     0.381904  |             |  3.5s"
       ]
      },
      {
       "output_type": "stream",
       "stream": "stdout",
       "text": [
        "\n",
        "  2104  |    0.003201  |    0.008425  |     0.379931  |             |  3.5s"
       ]
      },
      {
       "output_type": "stream",
       "stream": "stdout",
       "text": [
        "\n",
        "  2105  |    0.003188  |    0.008405  |     0.379332  |             |  3.5s"
       ]
      },
      {
       "output_type": "stream",
       "stream": "stdout",
       "text": [
        "\n",
        "  2106  |    0.003152  |    0.008416  |     0.374484  |             |  3.5s"
       ]
      },
      {
       "output_type": "stream",
       "stream": "stdout",
       "text": [
        "\n",
        "  2107  |    0.003220  |    0.008415  |     0.382635  |             |  3.5s"
       ]
      },
      {
       "output_type": "stream",
       "stream": "stdout",
       "text": [
        "\n",
        "  2108  |    0.003172  |    0.008419  |     0.376731  |             |  3.5s"
       ]
      },
      {
       "output_type": "stream",
       "stream": "stdout",
       "text": [
        "\n",
        "  2109  |    0.003261  |    0.008432  |     0.386756  |             |  3.5s"
       ]
      },
      {
       "output_type": "stream",
       "stream": "stdout",
       "text": [
        "\n",
        "  2110  |    0.003161  |    0.008407  |     0.375993  |             |  3.5s"
       ]
      },
      {
       "output_type": "stream",
       "stream": "stdout",
       "text": [
        "\n",
        "  2111  |    0.003196  |    0.008410  |     0.380038  |             |  3.5s"
       ]
      },
      {
       "output_type": "stream",
       "stream": "stdout",
       "text": [
        "\n",
        "  2112  |    0.003211  |    0.008428  |     0.380990  |             |  3.5s"
       ]
      },
      {
       "output_type": "stream",
       "stream": "stdout",
       "text": [
        "\n",
        "  2113  |    0.003147  |    0.008413  |     0.374018  |             |  3.5s"
       ]
      },
      {
       "output_type": "stream",
       "stream": "stdout",
       "text": [
        "\n",
        "  2114  |    0.003182  |    0.008401  |     0.378780  |             |  3.5s"
       ]
      },
      {
       "output_type": "stream",
       "stream": "stdout",
       "text": [
        "\n",
        "  2115  |    0.003207  |    0.008411  |     0.381241  |             |  3.5s"
       ]
      },
      {
       "output_type": "stream",
       "stream": "stdout",
       "text": [
        "\n",
        "  2116  |    0.003233  |    0.008404  |     0.384704  |             |  3.5s"
       ]
      },
      {
       "output_type": "stream",
       "stream": "stdout",
       "text": [
        "\n",
        "  2117  |    0.003164  |    0.008410  |     0.376219  |             |  3.5s"
       ]
      },
      {
       "output_type": "stream",
       "stream": "stdout",
       "text": [
        "\n",
        "  2118  |    0.003150  |    0.008406  |     0.374719  |             |  3.5s"
       ]
      },
      {
       "output_type": "stream",
       "stream": "stdout",
       "text": [
        "\n",
        "  2119  |  \u001b[94m  0.003114\u001b[0m  |    0.008391  |     0.371115  |             |  3.5s"
       ]
      },
      {
       "output_type": "stream",
       "stream": "stdout",
       "text": [
        "\n",
        "  2120  |    0.003139  |    0.008416  |     0.372937  |             |  3.5s"
       ]
      },
      {
       "output_type": "stream",
       "stream": "stdout",
       "text": [
        "\n",
        "  2121  |    0.003145  |    0.008392  |     0.374687  |             |  3.5s"
       ]
      },
      {
       "output_type": "stream",
       "stream": "stdout",
       "text": [
        "\n",
        "  2122  |    0.003141  |    0.008417  |     0.373207  |             |  3.5s"
       ]
      },
      {
       "output_type": "stream",
       "stream": "stdout",
       "text": [
        "\n",
        "  2123  |    0.003130  |    0.008414  |     0.371973  |             |  3.5s"
       ]
      },
      {
       "output_type": "stream",
       "stream": "stdout",
       "text": [
        "\n",
        "  2124  |    0.003133  |    0.008421  |     0.372099  |             |  3.5s"
       ]
      },
      {
       "output_type": "stream",
       "stream": "stdout",
       "text": [
        "\n",
        "  2125  |  \u001b[94m  0.003071\u001b[0m  |    0.008385  |     0.366279  |             |  3.5s"
       ]
      },
      {
       "output_type": "stream",
       "stream": "stdout",
       "text": [
        "\n",
        "  2126  |  \u001b[94m  0.003059\u001b[0m  |    0.008397  |     0.364284  |             |  3.5s"
       ]
      },
      {
       "output_type": "stream",
       "stream": "stdout",
       "text": [
        "\n",
        "  2127  |    0.003152  |    0.008403  |     0.375182  |             |  3.5s"
       ]
      },
      {
       "output_type": "stream",
       "stream": "stdout",
       "text": [
        "\n",
        "  2128  |    0.003237  |    0.008420  |     0.384470  |             |  3.5s"
       ]
      },
      {
       "output_type": "stream",
       "stream": "stdout",
       "text": [
        "\n",
        "  2129  |    0.003120  |    0.008400  |     0.371479  |             |  3.5s"
       ]
      },
      {
       "output_type": "stream",
       "stream": "stdout",
       "text": [
        "\n",
        "  2130  |    0.003138  |    0.008431  |     0.372141  |             |  3.5s"
       ]
      },
      {
       "output_type": "stream",
       "stream": "stdout",
       "text": [
        "\n",
        "  2131  |    0.003126  |    0.008417  |     0.371398  |             |  3.5s"
       ]
      },
      {
       "output_type": "stream",
       "stream": "stdout",
       "text": [
        "\n",
        "  2132  |    0.003147  |    0.008403  |     0.374528  |             |  3.5s"
       ]
      },
      {
       "output_type": "stream",
       "stream": "stdout",
       "text": [
        "\n",
        "  2133  |    0.003120  |    0.008411  |     0.370946  |             |  3.5s"
       ]
      },
      {
       "output_type": "stream",
       "stream": "stdout",
       "text": [
        "\n",
        "  2134  |    0.003146  |    0.008405  |     0.374228  |             |  3.5s"
       ]
      },
      {
       "output_type": "stream",
       "stream": "stdout",
       "text": [
        "\n",
        "  2135  |    0.003214  |    0.008418  |     0.381842  |             |  3.5s"
       ]
      },
      {
       "output_type": "stream",
       "stream": "stdout",
       "text": [
        "\n",
        "  2136  |    0.003121  |    0.008421  |     0.370615  |             |  3.5s"
       ]
      },
      {
       "output_type": "stream",
       "stream": "stdout",
       "text": [
        "\n",
        "  2137  |    0.003145  |    0.008393  |     0.374724  |             |  3.5s"
       ]
      },
      {
       "output_type": "stream",
       "stream": "stdout",
       "text": [
        "\n",
        "  2138  |    0.003111  |    0.008409  |     0.369970  |             |  3.5s"
       ]
      },
      {
       "output_type": "stream",
       "stream": "stdout",
       "text": [
        "\n",
        "  2139  |    0.003136  |    0.008389  |     0.373894  |             |  3.5s"
       ]
      },
      {
       "output_type": "stream",
       "stream": "stdout",
       "text": [
        "\n",
        "  2140  |  \u001b[94m  0.003056\u001b[0m  |    0.008399  |     0.363830  |             |  3.5s"
       ]
      },
      {
       "output_type": "stream",
       "stream": "stdout",
       "text": [
        "\n",
        "  2141  |    0.003153  |    0.008407  |     0.375000  |             |  3.5s"
       ]
      },
      {
       "output_type": "stream",
       "stream": "stdout",
       "text": [
        "\n",
        "  2142  |    0.003107  |    0.008409  |     0.369465  |             |  3.5s"
       ]
      },
      {
       "output_type": "stream",
       "stream": "stdout",
       "text": [
        "\n",
        "  2143  |    0.003126  |    0.008403  |     0.372006  |             |  3.5s"
       ]
      },
      {
       "output_type": "stream",
       "stream": "stdout",
       "text": [
        "\n",
        "  2144  |    0.003063  |    0.008415  |     0.364000  |             |  3.5s"
       ]
      },
      {
       "output_type": "stream",
       "stream": "stdout",
       "text": [
        "\n",
        "  2145  |  \u001b[94m  0.003038\u001b[0m  |    0.008413  |     0.361111  |             |  3.5s"
       ]
      },
      {
       "output_type": "stream",
       "stream": "stdout",
       "text": [
        "\n",
        "  2146  |    0.003041  |    0.008410  |     0.361577  |             |  3.5s"
       ]
      },
      {
       "output_type": "stream",
       "stream": "stdout",
       "text": [
        "\n",
        "  2147  |    0.003038  |    0.008403  |     0.361589  |             |  3.5s"
       ]
      },
      {
       "output_type": "stream",
       "stream": "stdout",
       "text": [
        "\n",
        "  2148  |    0.003112  |    0.008416  |     0.369761  |             |  3.5s"
       ]
      },
      {
       "output_type": "stream",
       "stream": "stdout",
       "text": [
        "\n",
        "  2149  |    0.003136  |    0.008418  |     0.372575  |             |  3.5s"
       ]
      },
      {
       "output_type": "stream",
       "stream": "stdout",
       "text": [
        "\n",
        "  2150  |    0.003088  |    0.008416  |     0.366965  |             |  3.5s"
       ]
      },
      {
       "output_type": "stream",
       "stream": "stdout",
       "text": [
        "\n",
        "  2151  |    0.003086  |    0.008417  |     0.366596  |             |  3.5s"
       ]
      },
      {
       "output_type": "stream",
       "stream": "stdout",
       "text": [
        "\n",
        "  2152  |    0.003155  |    0.008394  |     0.375846  |             |  3.5s"
       ]
      },
      {
       "output_type": "stream",
       "stream": "stdout",
       "text": [
        "\n",
        "  2153  |  \u001b[94m  0.003030\u001b[0m  |    0.008403  |     0.360619  |             |  3.5s"
       ]
      },
      {
       "output_type": "stream",
       "stream": "stdout",
       "text": [
        "\n",
        "  2154  |    0.003096  |    0.008415  |     0.367963  |             |  3.5s"
       ]
      },
      {
       "output_type": "stream",
       "stream": "stdout",
       "text": [
        "\n",
        "  2155  |    0.003084  |    0.008416  |     0.366471  |             |  3.5s"
       ]
      },
      {
       "output_type": "stream",
       "stream": "stdout",
       "text": [
        "\n",
        "  2156  |    0.003122  |    0.008414  |     0.371106  |             |  3.5s"
       ]
      },
      {
       "output_type": "stream",
       "stream": "stdout",
       "text": [
        "\n",
        "  2157  |    0.003139  |    0.008416  |     0.372941  |             |  3.5s"
       ]
      },
      {
       "output_type": "stream",
       "stream": "stdout",
       "text": [
        "\n",
        "  2158  |    0.003100  |    0.008424  |     0.367964  |             |  3.5s"
       ]
      },
      {
       "output_type": "stream",
       "stream": "stdout",
       "text": [
        "\n",
        "  2159  |    0.003132  |    0.008403  |     0.372729  |             |  3.5s"
       ]
      },
      {
       "output_type": "stream",
       "stream": "stdout",
       "text": [
        "\n",
        "  2160  |    0.003139  |    0.008427  |     0.372489  |             |  3.5s"
       ]
      },
      {
       "output_type": "stream",
       "stream": "stdout",
       "text": [
        "\n",
        "  2161  |    0.003071  |    0.008414  |     0.365008  |             |  3.5s"
       ]
      },
      {
       "output_type": "stream",
       "stream": "stdout",
       "text": [
        "\n",
        "  2162  |    0.003052  |    0.008398  |     0.363441  |             |  3.5s"
       ]
      },
      {
       "output_type": "stream",
       "stream": "stdout",
       "text": [
        "\n",
        "  2163  |    0.003097  |    0.008430  |     0.367334  |             |  3.5s"
       ]
      },
      {
       "output_type": "stream",
       "stream": "stdout",
       "text": [
        "\n",
        "  2164  |    0.003045  |    0.008404  |     0.362332  |             |  3.5s"
       ]
      },
      {
       "output_type": "stream",
       "stream": "stdout",
       "text": [
        "\n",
        "  2165  |    0.003031  |    0.008402  |     0.360780  |             |  3.5s"
       ]
      },
      {
       "output_type": "stream",
       "stream": "stdout",
       "text": [
        "\n",
        "  2166  |    0.003089  |    0.008406  |     0.367423  |             |  3.5s"
       ]
      },
      {
       "output_type": "stream",
       "stream": "stdout",
       "text": [
        "\n",
        "  2167  |    0.003083  |    0.008442  |     0.365188  |             |  3.5s"
       ]
      },
      {
       "output_type": "stream",
       "stream": "stdout",
       "text": [
        "\n",
        "  2168  |    0.003079  |    0.008408  |     0.366132  |             |  3.5s"
       ]
      },
      {
       "output_type": "stream",
       "stream": "stdout",
       "text": [
        "\n",
        "  2169  |    0.003094  |    0.008425  |     0.367174  |             |  3.5s"
       ]
      },
      {
       "output_type": "stream",
       "stream": "stdout",
       "text": [
        "\n",
        "  2170  |    0.003111  |    0.008430  |     0.369056  |             |  3.5s"
       ]
      },
      {
       "output_type": "stream",
       "stream": "stdout",
       "text": [
        "\n",
        "  2171  |    0.003049  |    0.008435  |     0.361451  |             |  3.5s"
       ]
      },
      {
       "output_type": "stream",
       "stream": "stdout",
       "text": [
        "\n",
        "  2172  |    0.003127  |    0.008421  |     0.371289  |             |  3.5s"
       ]
      },
      {
       "output_type": "stream",
       "stream": "stdout",
       "text": [
        "\n",
        "  2173  |  \u001b[94m  0.002993\u001b[0m  |    0.008432  |     0.355002  |             |  3.5s"
       ]
      },
      {
       "output_type": "stream",
       "stream": "stdout",
       "text": [
        "\n",
        "  2174  |    0.003095  |    0.008414  |     0.367798  |             |  3.5s"
       ]
      },
      {
       "output_type": "stream",
       "stream": "stdout",
       "text": [
        "\n",
        "  2175  |    0.003035  |    0.008440  |     0.359584  |             |  3.5s"
       ]
      },
      {
       "output_type": "stream",
       "stream": "stdout",
       "text": [
        "\n",
        "  2176  |    0.003074  |    0.008447  |     0.363896  |             |  3.5s"
       ]
      },
      {
       "output_type": "stream",
       "stream": "stdout",
       "text": [
        "\n",
        "  2177  |    0.003087  |    0.008434  |     0.366083  |             |  3.5s"
       ]
      },
      {
       "output_type": "stream",
       "stream": "stdout",
       "text": [
        "\n",
        "  2178  |    0.003008  |    0.008407  |     0.357841  |             |  3.5s"
       ]
      },
      {
       "output_type": "stream",
       "stream": "stdout",
       "text": [
        "\n",
        "  2179  |    0.003072  |    0.008410  |     0.365240  |             |  3.5s"
       ]
      },
      {
       "output_type": "stream",
       "stream": "stdout",
       "text": [
        "\n",
        "  2180  |    0.003113  |    0.008415  |     0.369886  |             |  3.5s"
       ]
      },
      {
       "output_type": "stream",
       "stream": "stdout",
       "text": [
        "\n",
        "  2181  |  \u001b[94m  0.002989\u001b[0m  |    0.008452  |     0.353716  |             |  3.5s"
       ]
      },
      {
       "output_type": "stream",
       "stream": "stdout",
       "text": [
        "\n",
        "  2182  |    0.003065  |    0.008434  |     0.363446  |             |  3.5s"
       ]
      },
      {
       "output_type": "stream",
       "stream": "stdout",
       "text": [
        "\n",
        "  2183  |    0.003054  |    0.008430  |     0.362334  |             |  3.5s"
       ]
      },
      {
       "output_type": "stream",
       "stream": "stdout",
       "text": [
        "\n",
        "  2184  |    0.003019  |    0.008425  |     0.358302  |             |  3.5s"
       ]
      },
      {
       "output_type": "stream",
       "stream": "stdout",
       "text": [
        "\n",
        "  2185  |  \u001b[94m  0.002983\u001b[0m  |    0.008422  |     0.354163  |             |  3.5s"
       ]
      },
      {
       "output_type": "stream",
       "stream": "stdout",
       "text": [
        "\n",
        "  2186  |    0.003067  |    0.008427  |     0.363906  |             |  3.5s"
       ]
      },
      {
       "output_type": "stream",
       "stream": "stdout",
       "text": [
        "\n",
        "  2187  |    0.003019  |    0.008409  |     0.358997  |             |  3.5s"
       ]
      },
      {
       "output_type": "stream",
       "stream": "stdout",
       "text": [
        "\n",
        "  2188  |    0.003041  |    0.008425  |     0.361001  |             |  3.5s"
       ]
      },
      {
       "output_type": "stream",
       "stream": "stdout",
       "text": [
        "\n",
        "  2189  |    0.003019  |    0.008428  |     0.358186  |             |  3.5s"
       ]
      },
      {
       "output_type": "stream",
       "stream": "stdout",
       "text": [
        "\n",
        "  2190  |    0.003019  |    0.008429  |     0.358126  |             |  3.5s"
       ]
      },
      {
       "output_type": "stream",
       "stream": "stdout",
       "text": [
        "\n",
        "  2191  |    0.003075  |    0.008412  |     0.365485  |             |  3.5s"
       ]
      },
      {
       "output_type": "stream",
       "stream": "stdout",
       "text": [
        "\n",
        "  2192  |  \u001b[94m  0.002951\u001b[0m  |    0.008410  |     0.350939  |             |  3.5s"
       ]
      },
      {
       "output_type": "stream",
       "stream": "stdout",
       "text": [
        "\n",
        "  2193  |    0.003093  |    0.008430  |     0.366933  |             |  3.5s"
       ]
      },
      {
       "output_type": "stream",
       "stream": "stdout",
       "text": [
        "\n",
        "  2194  |    0.002965  |    0.008417  |     0.352294  |             |  3.5s"
       ]
      },
      {
       "output_type": "stream",
       "stream": "stdout",
       "text": [
        "\n",
        "  2195  |    0.003033  |    0.008430  |     0.359822  |             |  3.5s"
       ]
      },
      {
       "output_type": "stream",
       "stream": "stdout",
       "text": [
        "\n",
        "  2196  |    0.002989  |    0.008428  |     0.354653  |             |  3.5s"
       ]
      },
      {
       "output_type": "stream",
       "stream": "stdout",
       "text": [
        "\n",
        "  2197  |    0.003088  |    0.008413  |     0.367053  |             |  3.5s"
       ]
      },
      {
       "output_type": "stream",
       "stream": "stdout",
       "text": [
        "\n",
        "  2198  |    0.002993  |    0.008408  |     0.355908  |             |  3.5s"
       ]
      },
      {
       "output_type": "stream",
       "stream": "stdout",
       "text": [
        "\n",
        "  2199  |    0.003022  |    0.008427  |     0.358573  |             |  3.5s"
       ]
      },
      {
       "output_type": "stream",
       "stream": "stdout",
       "text": [
        "\n",
        "  2200  |    0.003052  |    0.008402  |     0.363246  |             |  3.5s"
       ]
      },
      {
       "output_type": "stream",
       "stream": "stdout",
       "text": [
        "\n",
        "  2201  |    0.003012  |    0.008424  |     0.357535  |             |  3.5s"
       ]
      },
      {
       "output_type": "stream",
       "stream": "stdout",
       "text": [
        "\n",
        "  2202  |    0.003039  |    0.008403  |     0.361624  |             |  3.5s"
       ]
      },
      {
       "output_type": "stream",
       "stream": "stdout",
       "text": [
        "\n",
        "  2203  |    0.002998  |    0.008424  |     0.355932  |             |  3.5s"
       ]
      },
      {
       "output_type": "stream",
       "stream": "stdout",
       "text": [
        "\n",
        "  2204  |  \u001b[94m  0.002913\u001b[0m  |    0.008406  |     0.346512  |             |  3.5s"
       ]
      },
      {
       "output_type": "stream",
       "stream": "stdout",
       "text": [
        "\n",
        "  2205  |    0.003023  |    0.008390  |     0.360298  |             |  3.5s"
       ]
      },
      {
       "output_type": "stream",
       "stream": "stdout",
       "text": [
        "\n",
        "  2206  |    0.002968  |    0.008408  |     0.352953  |             |  3.5s"
       ]
      },
      {
       "output_type": "stream",
       "stream": "stdout",
       "text": [
        "\n",
        "  2207  |    0.002998  |    0.008425  |     0.355844  |             |  3.5s"
       ]
      },
      {
       "output_type": "stream",
       "stream": "stdout",
       "text": [
        "\n",
        "  2208  |    0.003015  |    0.008402  |     0.358793  |             |  3.5s"
       ]
      },
      {
       "output_type": "stream",
       "stream": "stdout",
       "text": [
        "\n",
        "  2209  |    0.002958  |    0.008409  |     0.351817  |             |  3.5s"
       ]
      },
      {
       "output_type": "stream",
       "stream": "stdout",
       "text": [
        "\n",
        "  2210  |    0.003006  |    0.008420  |     0.357043  |             |  3.5s"
       ]
      },
      {
       "output_type": "stream",
       "stream": "stdout",
       "text": [
        "\n",
        "  2211  |    0.003012  |    0.008410  |     0.358169  |             |  3.5s"
       ]
      },
      {
       "output_type": "stream",
       "stream": "stdout",
       "text": [
        "\n",
        "  2212  |    0.003003  |    0.008424  |     0.356448  |             |  3.5s"
       ]
      },
      {
       "output_type": "stream",
       "stream": "stdout",
       "text": [
        "\n",
        "  2213  |    0.003040  |    0.008399  |     0.361983  |             |  3.5s"
       ]
      },
      {
       "output_type": "stream",
       "stream": "stdout",
       "text": [
        "\n",
        "  2214  |    0.002950  |    0.008408  |     0.350835  |             |  3.5s"
       ]
      },
      {
       "output_type": "stream",
       "stream": "stdout",
       "text": [
        "\n",
        "  2215  |    0.002948  |    0.008418  |     0.350219  |             |  3.5s"
       ]
      },
      {
       "output_type": "stream",
       "stream": "stdout",
       "text": [
        "\n",
        "  2216  |    0.002991  |    0.008407  |     0.355736  |             |  3.5s"
       ]
      },
      {
       "output_type": "stream",
       "stream": "stdout",
       "text": [
        "\n",
        "  2217  |    0.002913  |    0.008397  |     0.346952  |             |  3.5s"
       ]
      },
      {
       "output_type": "stream",
       "stream": "stdout",
       "text": [
        "\n",
        "  2218  |    0.002976  |    0.008421  |     0.353455  |             |  3.5s"
       ]
      },
      {
       "output_type": "stream",
       "stream": "stdout",
       "text": [
        "\n",
        "  2219  |    0.002987  |    0.008427  |     0.354490  |             |  3.5s"
       ]
      },
      {
       "output_type": "stream",
       "stream": "stdout",
       "text": [
        "\n",
        "  2220  |    0.003037  |    0.008413  |     0.361059  |             |  3.5s"
       ]
      },
      {
       "output_type": "stream",
       "stream": "stdout",
       "text": [
        "\n",
        "  2221  |    0.002974  |  \u001b[32m  0.008372\u001b[0m  |     0.355246  |             |  3.5s"
       ]
      },
      {
       "output_type": "stream",
       "stream": "stdout",
       "text": [
        "\n",
        "  2222  |    0.002990  |    0.008381  |     0.356713  |             |  3.5s"
       ]
      },
      {
       "output_type": "stream",
       "stream": "stdout",
       "text": [
        "\n",
        "  2223  |    0.003041  |    0.008391  |     0.362368  |             |  3.5s"
       ]
      },
      {
       "output_type": "stream",
       "stream": "stdout",
       "text": [
        "\n",
        "  2224  |    0.003017  |    0.008403  |     0.359050  |             |  3.5s"
       ]
      },
      {
       "output_type": "stream",
       "stream": "stdout",
       "text": [
        "\n",
        "  2225  |    0.002974  |    0.008401  |     0.354017  |             |  3.5s"
       ]
      },
      {
       "output_type": "stream",
       "stream": "stdout",
       "text": [
        "\n",
        "  2226  |    0.002962  |    0.008394  |     0.352844  |             |  3.5s"
       ]
      },
      {
       "output_type": "stream",
       "stream": "stdout",
       "text": [
        "\n",
        "  2227  |    0.003002  |    0.008415  |     0.356777  |             |  3.5s"
       ]
      },
      {
       "output_type": "stream",
       "stream": "stdout",
       "text": [
        "\n",
        "  2228  |    0.002968  |    0.008406  |     0.353079  |             |  3.5s"
       ]
      },
      {
       "output_type": "stream",
       "stream": "stdout",
       "text": [
        "\n",
        "  2229  |    0.003001  |    0.008385  |     0.357866  |             |  3.5s"
       ]
      },
      {
       "output_type": "stream",
       "stream": "stdout",
       "text": [
        "\n",
        "  2230  |  \u001b[94m  0.002833\u001b[0m  |    0.008402  |     0.337186  |             |  3.5s"
       ]
      },
      {
       "output_type": "stream",
       "stream": "stdout",
       "text": [
        "\n",
        "  2231  |    0.002951  |    0.008400  |     0.351298  |             |  3.5s"
       ]
      },
      {
       "output_type": "stream",
       "stream": "stdout",
       "text": [
        "\n",
        "  2232  |    0.002933  |    0.008400  |     0.349214  |             |  3.5s"
       ]
      },
      {
       "output_type": "stream",
       "stream": "stdout",
       "text": [
        "\n",
        "  2233  |    0.002981  |    0.008416  |     0.354207  |             |  3.5s"
       ]
      },
      {
       "output_type": "stream",
       "stream": "stdout",
       "text": [
        "\n",
        "  2234  |    0.002922  |    0.008384  |     0.348484  |             |  3.5s"
       ]
      },
      {
       "output_type": "stream",
       "stream": "stdout",
       "text": [
        "\n",
        "  2235  |    0.002986  |    0.008380  |     0.356297  |             |  3.5s"
       ]
      },
      {
       "output_type": "stream",
       "stream": "stdout",
       "text": [
        "\n",
        "  2236  |    0.002960  |    0.008390  |     0.352756  |             |  3.5s"
       ]
      },
      {
       "output_type": "stream",
       "stream": "stdout",
       "text": [
        "\n",
        "  2237  |    0.002980  |    0.008399  |     0.354815  |             |  3.5s"
       ]
      },
      {
       "output_type": "stream",
       "stream": "stdout",
       "text": [
        "\n",
        "  2238  |    0.002963  |    0.008409  |     0.352353  |             |  3.5s"
       ]
      },
      {
       "output_type": "stream",
       "stream": "stdout",
       "text": [
        "\n",
        "  2239  |    0.003054  |    0.008411  |     0.363137  |             |  3.5s"
       ]
      },
      {
       "output_type": "stream",
       "stream": "stdout",
       "text": [
        "\n",
        "  2240  |    0.003030  |    0.008409  |     0.360358  |             |  3.5s"
       ]
      },
      {
       "output_type": "stream",
       "stream": "stdout",
       "text": [
        "\n",
        "  2241  |    0.002961  |    0.008389  |     0.352924  |             |  3.5s"
       ]
      },
      {
       "output_type": "stream",
       "stream": "stdout",
       "text": [
        "\n",
        "  2242  |    0.002958  |    0.008402  |     0.352039  |             |  3.5s"
       ]
      },
      {
       "output_type": "stream",
       "stream": "stdout",
       "text": [
        "\n",
        "  2243  |    0.002909  |    0.008406  |     0.346078  |             |  3.5s"
       ]
      },
      {
       "output_type": "stream",
       "stream": "stdout",
       "text": [
        "\n",
        "  2244  |    0.002880  |    0.008412  |     0.342415  |             |  3.5s"
       ]
      },
      {
       "output_type": "stream",
       "stream": "stdout",
       "text": [
        "\n",
        "  2245  |    0.003019  |    0.008396  |     0.359616  |             |  3.5s"
       ]
      },
      {
       "output_type": "stream",
       "stream": "stdout",
       "text": [
        "\n",
        "  2246  |    0.002991  |    0.008405  |     0.355803  |             |  3.5s"
       ]
      },
      {
       "output_type": "stream",
       "stream": "stdout",
       "text": [
        "\n",
        "  2247  |    0.002918  |    0.008403  |     0.347225  |             |  3.5s"
       ]
      },
      {
       "output_type": "stream",
       "stream": "stdout",
       "text": [
        "\n",
        "  2248  |    0.002913  |    0.008390  |     0.347196  |             |  3.5s"
       ]
      },
      {
       "output_type": "stream",
       "stream": "stdout",
       "text": [
        "\n",
        "  2249  |    0.002913  |    0.008407  |     0.346498  |             |  3.5s"
       ]
      },
      {
       "output_type": "stream",
       "stream": "stdout",
       "text": [
        "\n",
        "  2250  |    0.002896  |    0.008413  |     0.344238  |             |  3.5s"
       ]
      },
      {
       "output_type": "stream",
       "stream": "stdout",
       "text": [
        "\n",
        "  2251  |    0.002983  |    0.008403  |     0.354994  |             |  3.5s"
       ]
      },
      {
       "output_type": "stream",
       "stream": "stdout",
       "text": [
        "\n",
        "  2252  |    0.002908  |    0.008405  |     0.345913  |             |  3.5s"
       ]
      },
      {
       "output_type": "stream",
       "stream": "stdout",
       "text": [
        "\n",
        "  2253  |    0.002924  |    0.008384  |     0.348747  |             |  3.5s"
       ]
      },
      {
       "output_type": "stream",
       "stream": "stdout",
       "text": [
        "\n",
        "  2254  |    0.002896  |    0.008395  |     0.344989  |             |  3.5s"
       ]
      },
      {
       "output_type": "stream",
       "stream": "stdout",
       "text": [
        "\n",
        "  2255  |    0.002903  |    0.008387  |     0.346159  |             |  3.5s"
       ]
      },
      {
       "output_type": "stream",
       "stream": "stdout",
       "text": [
        "\n",
        "  2256  |    0.002882  |    0.008416  |     0.342425  |             |  3.5s"
       ]
      },
      {
       "output_type": "stream",
       "stream": "stdout",
       "text": [
        "\n",
        "  2257  |    0.002871  |    0.008422  |     0.340964  |             |  3.5s"
       ]
      },
      {
       "output_type": "stream",
       "stream": "stdout",
       "text": [
        "\n",
        "  2258  |    0.002916  |    0.008408  |     0.346821  |             |  3.5s"
       ]
      },
      {
       "output_type": "stream",
       "stream": "stdout",
       "text": [
        "\n",
        "  2259  |    0.002913  |    0.008396  |     0.346909  |             |  3.5s"
       ]
      },
      {
       "output_type": "stream",
       "stream": "stdout",
       "text": [
        "\n",
        "  2260  |    0.002887  |    0.008411  |     0.343308  |             |  3.5s"
       ]
      },
      {
       "output_type": "stream",
       "stream": "stdout",
       "text": [
        "\n",
        "  2261  |    0.002868  |    0.008394  |     0.341653  |             |  3.5s"
       ]
      },
      {
       "output_type": "stream",
       "stream": "stdout",
       "text": [
        "\n",
        "  2262  |    0.002932  |    0.008394  |     0.349352  |             |  3.5s"
       ]
      },
      {
       "output_type": "stream",
       "stream": "stdout",
       "text": [
        "\n",
        "  2263  |    0.002908  |    0.008403  |     0.346129  |             |  3.5s"
       ]
      },
      {
       "output_type": "stream",
       "stream": "stdout",
       "text": [
        "\n",
        "  2264  |    0.002918  |    0.008430  |     0.346162  |             |  3.5s"
       ]
      },
      {
       "output_type": "stream",
       "stream": "stdout",
       "text": [
        "\n",
        "  2265  |    0.002902  |    0.008416  |     0.344832  |             |  3.5s"
       ]
      },
      {
       "output_type": "stream",
       "stream": "stdout",
       "text": [
        "\n",
        "  2266  |    0.002961  |    0.008427  |     0.351340  |             |  3.5s"
       ]
      },
      {
       "output_type": "stream",
       "stream": "stdout",
       "text": [
        "\n",
        "  2267  |    0.002951  |    0.008388  |     0.351793  |             |  3.5s"
       ]
      },
      {
       "output_type": "stream",
       "stream": "stdout",
       "text": [
        "\n",
        "  2268  |    0.002875  |    0.008410  |     0.341864  |             |  3.5s"
       ]
      },
      {
       "output_type": "stream",
       "stream": "stdout",
       "text": [
        "\n",
        "  2269  |    0.002928  |    0.008399  |     0.348616  |             |  3.5s"
       ]
      },
      {
       "output_type": "stream",
       "stream": "stdout",
       "text": [
        "\n",
        "  2270  |    0.002915  |    0.008422  |     0.346103  |             |  3.5s"
       ]
      },
      {
       "output_type": "stream",
       "stream": "stdout",
       "text": [
        "\n",
        "  2271  |    0.002882  |    0.008413  |     0.342560  |             |  3.5s"
       ]
      },
      {
       "output_type": "stream",
       "stream": "stdout",
       "text": [
        "\n",
        "  2272  |    0.002897  |    0.008430  |     0.343593  |             |  3.5s"
       ]
      },
      {
       "output_type": "stream",
       "stream": "stdout",
       "text": [
        "\n",
        "  2273  |    0.002938  |    0.008438  |     0.348204  |             |  3.5s"
       ]
      },
      {
       "output_type": "stream",
       "stream": "stdout",
       "text": [
        "\n",
        "  2274  |    0.002893  |    0.008429  |     0.343223  |             |  3.5s"
       ]
      },
      {
       "output_type": "stream",
       "stream": "stdout",
       "text": [
        "\n",
        "  2275  |    0.002863  |    0.008416  |     0.340187  |             |  3.5s"
       ]
      },
      {
       "output_type": "stream",
       "stream": "stdout",
       "text": [
        "\n",
        "  2276  |    0.002843  |    0.008435  |     0.337002  |             |  3.5s"
       ]
      },
      {
       "output_type": "stream",
       "stream": "stdout",
       "text": [
        "\n",
        "  2277  |    0.002962  |    0.008408  |     0.352240  |             |  3.5s"
       ]
      },
      {
       "output_type": "stream",
       "stream": "stdout",
       "text": [
        "\n",
        "  2278  |    0.002907  |    0.008413  |     0.345549  |             |  3.5s"
       ]
      },
      {
       "output_type": "stream",
       "stream": "stdout",
       "text": [
        "\n",
        "  2279  |    0.002962  |    0.008399  |     0.352708  |             |  3.5s"
       ]
      },
      {
       "output_type": "stream",
       "stream": "stdout",
       "text": [
        "\n",
        "  2280  |    0.002854  |    0.008409  |     0.339438  |             |  3.5s"
       ]
      },
      {
       "output_type": "stream",
       "stream": "stdout",
       "text": [
        "\n",
        "  2281  |    0.002872  |    0.008388  |     0.342325  |             |  3.5s"
       ]
      },
      {
       "output_type": "stream",
       "stream": "stdout",
       "text": [
        "\n",
        "  2282  |    0.002874  |    0.008417  |     0.341488  |             |  3.5s"
       ]
      },
      {
       "output_type": "stream",
       "stream": "stdout",
       "text": [
        "\n",
        "  2283  |    0.002931  |    0.008408  |     0.348572  |             |  3.5s"
       ]
      },
      {
       "output_type": "stream",
       "stream": "stdout",
       "text": [
        "\n",
        "  2284  |    0.002866  |    0.008381  |     0.341969  |             |  3.5s"
       ]
      },
      {
       "output_type": "stream",
       "stream": "stdout",
       "text": [
        "\n",
        "  2285  |    0.002858  |    0.008403  |     0.340108  |             |  3.5s"
       ]
      },
      {
       "output_type": "stream",
       "stream": "stdout",
       "text": [
        "\n",
        "  2286  |    0.002906  |    0.008431  |     0.344736  |             |  3.5s"
       ]
      },
      {
       "output_type": "stream",
       "stream": "stdout",
       "text": [
        "\n",
        "  2287  |  \u001b[94m  0.002788\u001b[0m  |    0.008401  |     0.331889  |             |  3.5s"
       ]
      },
      {
       "output_type": "stream",
       "stream": "stdout",
       "text": [
        "\n",
        "  2288  |  \u001b[94m  0.002783\u001b[0m  |    0.008423  |     0.330436  |             |  3.5s"
       ]
      },
      {
       "output_type": "stream",
       "stream": "stdout",
       "text": [
        "\n",
        "  2289  |    0.002864  |    0.008415  |     0.340335  |             |  3.5s"
       ]
      },
      {
       "output_type": "stream",
       "stream": "stdout",
       "text": [
        "\n",
        "  2290  |    0.002912  |    0.008418  |     0.345974  |             |  3.5s"
       ]
      },
      {
       "output_type": "stream",
       "stream": "stdout",
       "text": [
        "\n",
        "  2291  |    0.002864  |    0.008402  |     0.340863  |             |  3.5s"
       ]
      },
      {
       "output_type": "stream",
       "stream": "stdout",
       "text": [
        "\n",
        "  2292  |    0.002847  |    0.008403  |     0.338876  |             |  3.5s"
       ]
      },
      {
       "output_type": "stream",
       "stream": "stdout",
       "text": [
        "\n",
        "  2293  |    0.002795  |    0.008418  |     0.331991  |             |  3.5s"
       ]
      },
      {
       "output_type": "stream",
       "stream": "stdout",
       "text": [
        "\n",
        "  2294  |    0.002880  |    0.008400  |     0.342851  |             |  3.5s"
       ]
      },
      {
       "output_type": "stream",
       "stream": "stdout",
       "text": [
        "\n",
        "  2295  |    0.002844  |    0.008417  |     0.337879  |             |  3.5s"
       ]
      },
      {
       "output_type": "stream",
       "stream": "stdout",
       "text": [
        "\n",
        "  2296  |    0.002860  |    0.008386  |     0.341095  |             |  3.5s"
       ]
      },
      {
       "output_type": "stream",
       "stream": "stdout",
       "text": [
        "\n",
        "  2297  |    0.002940  |    0.008420  |     0.349168  |             |  3.5s"
       ]
      },
      {
       "output_type": "stream",
       "stream": "stdout",
       "text": [
        "\n",
        "  2298  |    0.002880  |    0.008383  |     0.343491  |             |  3.5s"
       ]
      },
      {
       "output_type": "stream",
       "stream": "stdout",
       "text": [
        "\n",
        "  2299  |    0.002840  |    0.008377  |     0.338976  |             |  3.5s"
       ]
      },
      {
       "output_type": "stream",
       "stream": "stdout",
       "text": [
        "\n",
        "  2300  |    0.002882  |    0.008375  |     0.344115  |             |  3.5s"
       ]
      },
      {
       "output_type": "stream",
       "stream": "stdout",
       "text": [
        "\n",
        "  2301  |    0.002848  |    0.008375  |     0.340054  |             |  3.5s"
       ]
      },
      {
       "output_type": "stream",
       "stream": "stdout",
       "text": [
        "\n",
        "  2302  |    0.002848  |    0.008394  |     0.339357  |             |  3.5s"
       ]
      },
      {
       "output_type": "stream",
       "stream": "stdout",
       "text": [
        "\n",
        "  2303  |    0.002864  |    0.008382  |     0.341739  |             |  3.5s"
       ]
      },
      {
       "output_type": "stream",
       "stream": "stdout",
       "text": [
        "\n",
        "  2304  |    0.002859  |    0.008381  |     0.341147  |             |  3.5s"
       ]
      },
      {
       "output_type": "stream",
       "stream": "stdout",
       "text": [
        "\n",
        "  2305  |    0.002786  |    0.008407  |     0.331343  |             |  3.5s"
       ]
      },
      {
       "output_type": "stream",
       "stream": "stdout",
       "text": [
        "\n",
        "  2306  |    0.002894  |    0.008382  |     0.345240  |             |  3.5s"
       ]
      },
      {
       "output_type": "stream",
       "stream": "stdout",
       "text": [
        "\n",
        "  2307  |    0.002949  |    0.008372  |     0.352202  |             |  3.5s"
       ]
      },
      {
       "output_type": "stream",
       "stream": "stdout",
       "text": [
        "\n",
        "  2308  |    0.002830  |    0.008384  |     0.337491  |             |  3.5s"
       ]
      },
      {
       "output_type": "stream",
       "stream": "stdout",
       "text": [
        "\n",
        "  2309  |    0.002825  |    0.008402  |     0.336234  |             |  3.5s"
       ]
      },
      {
       "output_type": "stream",
       "stream": "stdout",
       "text": [
        "\n",
        "  2310  |    0.002891  |    0.008376  |     0.345177  |             |  3.5s"
       ]
      },
      {
       "output_type": "stream",
       "stream": "stdout",
       "text": [
        "\n",
        "  2311  |    0.002906  |    0.008380  |     0.346754  |             |  3.5s"
       ]
      },
      {
       "output_type": "stream",
       "stream": "stdout",
       "text": [
        "\n",
        "  2312  |    0.002830  |    0.008395  |     0.337154  |             |  3.5s"
       ]
      },
      {
       "output_type": "stream",
       "stream": "stdout",
       "text": [
        "\n",
        "  2313  |    0.002825  |    0.008393  |     0.336604  |             |  3.5s"
       ]
      },
      {
       "output_type": "stream",
       "stream": "stdout",
       "text": [
        "\n",
        "  2314  |    0.002789  |    0.008385  |     0.332609  |             |  3.5s"
       ]
      },
      {
       "output_type": "stream",
       "stream": "stdout",
       "text": [
        "\n",
        "  2315  |    0.002842  |    0.008391  |     0.338653  |             |  3.5s"
       ]
      },
      {
       "output_type": "stream",
       "stream": "stdout",
       "text": [
        "\n",
        "  2316  |    0.002812  |    0.008394  |     0.335005  |             |  3.5s"
       ]
      },
      {
       "output_type": "stream",
       "stream": "stdout",
       "text": [
        "\n",
        "  2317  |    0.002826  |    0.008396  |     0.336603  |             |  3.5s"
       ]
      },
      {
       "output_type": "stream",
       "stream": "stdout",
       "text": [
        "\n",
        "  2318  |  \u001b[94m  0.002769\u001b[0m  |    0.008379  |     0.330485  |             |  3.5s"
       ]
      },
      {
       "output_type": "stream",
       "stream": "stdout",
       "text": [
        "\n",
        "  2319  |    0.002802  |    0.008389  |     0.333967  |             |  3.5s"
       ]
      },
      {
       "output_type": "stream",
       "stream": "stdout",
       "text": [
        "\n",
        "  2320  |    0.002870  |    0.008381  |     0.342456  |             |  3.5s"
       ]
      },
      {
       "output_type": "stream",
       "stream": "stdout",
       "text": [
        "\n",
        "  2321  |    0.002832  |    0.008378  |     0.338072  |             |  3.5s"
       ]
      },
      {
       "output_type": "stream",
       "stream": "stdout",
       "text": [
        "\n",
        "  2322  |    0.002839  |    0.008399  |     0.337985  |             |  3.5s"
       ]
      },
      {
       "output_type": "stream",
       "stream": "stdout",
       "text": [
        "\n",
        "  2323  |    0.002791  |    0.008375  |     0.333291  |             |  3.5s"
       ]
      },
      {
       "output_type": "stream",
       "stream": "stdout",
       "text": [
        "\n",
        "  2324  |    0.002826  |    0.008386  |     0.336915  |             |  3.5s"
       ]
      },
      {
       "output_type": "stream",
       "stream": "stdout",
       "text": [
        "\n",
        "  2325  |    0.002922  |    0.008388  |     0.348324  |             |  3.5s"
       ]
      },
      {
       "output_type": "stream",
       "stream": "stdout",
       "text": [
        "\n",
        "  2326  |    0.002834  |    0.008399  |     0.337443  |             |  3.5s"
       ]
      },
      {
       "output_type": "stream",
       "stream": "stdout",
       "text": [
        "\n",
        "  2327  |    0.002818  |    0.008414  |     0.334920  |             |  3.5s"
       ]
      },
      {
       "output_type": "stream",
       "stream": "stdout",
       "text": [
        "\n",
        "  2328  |    0.002839  |    0.008384  |     0.338651  |             |  3.5s"
       ]
      },
      {
       "output_type": "stream",
       "stream": "stdout",
       "text": [
        "\n",
        "  2329  |  \u001b[94m  0.002689\u001b[0m  |    0.008384  |     0.320764  |             |  3.5s"
       ]
      },
      {
       "output_type": "stream",
       "stream": "stdout",
       "text": [
        "\n",
        "  2330  |    0.002913  |    0.008385  |     0.347397  |             |  3.5s"
       ]
      },
      {
       "output_type": "stream",
       "stream": "stdout",
       "text": [
        "\n",
        "  2331  |    0.002843  |    0.008401  |     0.338403  |             |  3.5s"
       ]
      },
      {
       "output_type": "stream",
       "stream": "stdout",
       "text": [
        "\n",
        "  2332  |    0.002841  |    0.008375  |     0.339281  |             |  3.5s"
       ]
      },
      {
       "output_type": "stream",
       "stream": "stdout",
       "text": [
        "\n",
        "  2333  |    0.002759  |    0.008389  |     0.328889  |             |  3.5s"
       ]
      },
      {
       "output_type": "stream",
       "stream": "stdout",
       "text": [
        "\n",
        "  2334  |    0.002791  |    0.008399  |     0.332278  |             |  3.5s"
       ]
      },
      {
       "output_type": "stream",
       "stream": "stdout",
       "text": [
        "\n",
        "  2335  |    0.002787  |  \u001b[32m  0.008363\u001b[0m  |     0.333231  |             |  3.5s"
       ]
      },
      {
       "output_type": "stream",
       "stream": "stdout",
       "text": [
        "\n",
        "  2336  |    0.002788  |    0.008411  |     0.331437  |             |  3.5s"
       ]
      },
      {
       "output_type": "stream",
       "stream": "stdout",
       "text": [
        "\n",
        "  2337  |    0.002768  |    0.008391  |     0.329915  |             |  3.5s"
       ]
      },
      {
       "output_type": "stream",
       "stream": "stdout",
       "text": [
        "\n",
        "  2338  |    0.002829  |    0.008409  |     0.336486  |             |  3.5s"
       ]
      },
      {
       "output_type": "stream",
       "stream": "stdout",
       "text": [
        "\n",
        "  2339  |    0.002869  |    0.008408  |     0.341157  |             |  3.5s"
       ]
      },
      {
       "output_type": "stream",
       "stream": "stdout",
       "text": [
        "\n",
        "  2340  |    0.002803  |    0.008404  |     0.333574  |             |  3.5s"
       ]
      },
      {
       "output_type": "stream",
       "stream": "stdout",
       "text": [
        "\n",
        "  2341  |    0.002844  |    0.008407  |     0.338343  |             |  3.5s"
       ]
      },
      {
       "output_type": "stream",
       "stream": "stdout",
       "text": [
        "\n",
        "  2342  |    0.002801  |    0.008391  |     0.333847  |             |  3.5s"
       ]
      },
      {
       "output_type": "stream",
       "stream": "stdout",
       "text": [
        "\n",
        "  2343  |    0.002868  |    0.008397  |     0.341500  |             |  3.5s"
       ]
      },
      {
       "output_type": "stream",
       "stream": "stdout",
       "text": [
        "\n",
        "  2344  |    0.002854  |    0.008384  |     0.340357  |             |  3.5s"
       ]
      },
      {
       "output_type": "stream",
       "stream": "stdout",
       "text": [
        "\n",
        "  2345  |    0.002765  |    0.008392  |     0.329513  |             |  3.5s"
       ]
      },
      {
       "output_type": "stream",
       "stream": "stdout",
       "text": [
        "\n",
        "  2346  |    0.002817  |    0.008379  |     0.336218  |             |  3.5s"
       ]
      },
      {
       "output_type": "stream",
       "stream": "stdout",
       "text": [
        "\n",
        "  2347  |    0.002737  |    0.008425  |     0.324863  |             |  3.5s"
       ]
      },
      {
       "output_type": "stream",
       "stream": "stdout",
       "text": [
        "\n",
        "  2348  |    0.002810  |    0.008398  |     0.334565  |             |  3.5s"
       ]
      },
      {
       "output_type": "stream",
       "stream": "stdout",
       "text": [
        "\n",
        "  2349  |    0.002783  |    0.008390  |     0.331677  |             |  3.5s"
       ]
      },
      {
       "output_type": "stream",
       "stream": "stdout",
       "text": [
        "\n",
        "  2350  |    0.002761  |    0.008403  |     0.328532  |             |  3.5s"
       ]
      },
      {
       "output_type": "stream",
       "stream": "stdout",
       "text": [
        "\n",
        "  2351  |    0.002741  |    0.008413  |     0.325860  |             |  3.5s"
       ]
      },
      {
       "output_type": "stream",
       "stream": "stdout",
       "text": [
        "\n",
        "  2352  |    0.002781  |    0.008388  |     0.331591  |             |  3.5s"
       ]
      },
      {
       "output_type": "stream",
       "stream": "stdout",
       "text": [
        "\n",
        "  2353  |    0.002712  |    0.008407  |     0.322577  |             |  3.5s"
       ]
      },
      {
       "output_type": "stream",
       "stream": "stdout",
       "text": [
        "\n",
        "  2354  |    0.002818  |    0.008386  |     0.336055  |             |  3.5s"
       ]
      },
      {
       "output_type": "stream",
       "stream": "stdout",
       "text": [
        "\n",
        "  2355  |    0.002835  |    0.008393  |     0.337839  |             |  3.5s"
       ]
      },
      {
       "output_type": "stream",
       "stream": "stdout",
       "text": [
        "\n",
        "  2356  |    0.002758  |    0.008396  |     0.328536  |             |  3.5s"
       ]
      },
      {
       "output_type": "stream",
       "stream": "stdout",
       "text": [
        "\n",
        "  2357  |    0.002837  |    0.008400  |     0.337687  |             |  3.5s"
       ]
      },
      {
       "output_type": "stream",
       "stream": "stdout",
       "text": [
        "\n",
        "  2358  |    0.002770  |    0.008404  |     0.329614  |             |  3.5s"
       ]
      },
      {
       "output_type": "stream",
       "stream": "stdout",
       "text": [
        "\n",
        "  2359  |    0.002868  |    0.008393  |     0.341779  |             |  3.5s"
       ]
      },
      {
       "output_type": "stream",
       "stream": "stdout",
       "text": [
        "\n",
        "  2360  |    0.002745  |    0.008382  |     0.327527  |             |  3.5s"
       ]
      },
      {
       "output_type": "stream",
       "stream": "stdout",
       "text": [
        "\n",
        "  2361  |    0.002755  |    0.008371  |     0.329082  |             |  3.5s"
       ]
      },
      {
       "output_type": "stream",
       "stream": "stdout",
       "text": [
        "\n",
        "  2362  |    0.002832  |    0.008384  |     0.337736  |             |  3.5s"
       ]
      },
      {
       "output_type": "stream",
       "stream": "stdout",
       "text": [
        "\n",
        "  2363  |    0.002821  |    0.008408  |     0.335505  |             |  3.5s"
       ]
      },
      {
       "output_type": "stream",
       "stream": "stdout",
       "text": [
        "\n",
        "  2364  |    0.002728  |    0.008395  |     0.324934  |             |  3.5s"
       ]
      },
      {
       "output_type": "stream",
       "stream": "stdout",
       "text": [
        "\n",
        "  2365  |    0.002774  |    0.008389  |     0.330649  |             |  3.5s"
       ]
      },
      {
       "output_type": "stream",
       "stream": "stdout",
       "text": [
        "\n",
        "  2366  |    0.002783  |    0.008405  |     0.331148  |             |  3.5s"
       ]
      },
      {
       "output_type": "stream",
       "stream": "stdout",
       "text": [
        "\n",
        "  2367  |    0.002772  |    0.008377  |     0.330887  |             |  3.5s"
       ]
      },
      {
       "output_type": "stream",
       "stream": "stdout",
       "text": [
        "\n",
        "  2368  |    0.002765  |  \u001b[32m  0.008355\u001b[0m  |     0.330921  |             |  3.5s"
       ]
      },
      {
       "output_type": "stream",
       "stream": "stdout",
       "text": [
        "\n",
        "  2369  |    0.002763  |    0.008390  |     0.329378  |             |  3.5s"
       ]
      },
      {
       "output_type": "stream",
       "stream": "stdout",
       "text": [
        "\n",
        "  2370  |    0.002760  |    0.008392  |     0.328937  |             |  3.5s"
       ]
      },
      {
       "output_type": "stream",
       "stream": "stdout",
       "text": [
        "\n",
        "  2371  |    0.002760  |    0.008372  |     0.329669  |             |  3.5s"
       ]
      },
      {
       "output_type": "stream",
       "stream": "stdout",
       "text": [
        "\n",
        "  2372  |    0.002784  |    0.008394  |     0.331668  |             |  3.5s"
       ]
      },
      {
       "output_type": "stream",
       "stream": "stdout",
       "text": [
        "\n",
        "  2373  |  \u001b[94m  0.002675\u001b[0m  |    0.008392  |     0.318750  |             |  3.5s"
       ]
      },
      {
       "output_type": "stream",
       "stream": "stdout",
       "text": [
        "\n",
        "  2374  |    0.002801  |    0.008386  |     0.334016  |             |  3.5s"
       ]
      },
      {
       "output_type": "stream",
       "stream": "stdout",
       "text": [
        "\n",
        "  2375  |    0.002784  |    0.008384  |     0.332110  |             |  3.5s"
       ]
      },
      {
       "output_type": "stream",
       "stream": "stdout",
       "text": [
        "\n",
        "  2376  |    0.002702  |    0.008386  |     0.322174  |             |  3.5s"
       ]
      },
      {
       "output_type": "stream",
       "stream": "stdout",
       "text": [
        "\n",
        "  2377  |    0.002782  |    0.008409  |     0.330843  |             |  3.5s"
       ]
      },
      {
       "output_type": "stream",
       "stream": "stdout",
       "text": [
        "\n",
        "  2378  |    0.002823  |    0.008383  |     0.336737  |             |  3.5s"
       ]
      },
      {
       "output_type": "stream",
       "stream": "stdout",
       "text": [
        "\n",
        "  2379  |    0.002749  |    0.008389  |     0.327673  |             |  3.5s"
       ]
      },
      {
       "output_type": "stream",
       "stream": "stdout",
       "text": [
        "\n",
        "  2380  |    0.002779  |    0.008384  |     0.331497  |             |  3.5s"
       ]
      },
      {
       "output_type": "stream",
       "stream": "stdout",
       "text": [
        "\n",
        "  2381  |    0.002779  |    0.008388  |     0.331267  |             |  3.5s"
       ]
      },
      {
       "output_type": "stream",
       "stream": "stdout",
       "text": [
        "\n",
        "  2382  |    0.002785  |    0.008411  |     0.331094  |             |  3.5s"
       ]
      },
      {
       "output_type": "stream",
       "stream": "stdout",
       "text": [
        "\n",
        "  2383  |    0.002767  |    0.008392  |     0.329770  |             |  3.5s"
       ]
      },
      {
       "output_type": "stream",
       "stream": "stdout",
       "text": [
        "\n",
        "  2384  |    0.002771  |    0.008407  |     0.329617  |             |  3.5s"
       ]
      },
      {
       "output_type": "stream",
       "stream": "stdout",
       "text": [
        "\n",
        "  2385  |    0.002787  |    0.008399  |     0.331784  |             |  3.5s"
       ]
      },
      {
       "output_type": "stream",
       "stream": "stdout",
       "text": [
        "\n",
        "  2386  |    0.002721  |    0.008408  |     0.323665  |             |  3.5s"
       ]
      },
      {
       "output_type": "stream",
       "stream": "stdout",
       "text": [
        "\n",
        "  2387  |    0.002686  |    0.008398  |     0.319897  |             |  3.5s"
       ]
      },
      {
       "output_type": "stream",
       "stream": "stdout",
       "text": [
        "\n",
        "  2388  |    0.002744  |    0.008403  |     0.326535  |             |  3.5s"
       ]
      },
      {
       "output_type": "stream",
       "stream": "stdout",
       "text": [
        "\n",
        "  2389  |    0.002758  |    0.008410  |     0.328020  |             |  3.5s"
       ]
      },
      {
       "output_type": "stream",
       "stream": "stdout",
       "text": [
        "\n",
        "  2390  |    0.002715  |    0.008406  |     0.322937  |             |  3.5s"
       ]
      },
      {
       "output_type": "stream",
       "stream": "stdout",
       "text": [
        "\n",
        "  2391  |    0.002770  |    0.008397  |     0.329945  |             |  3.5s"
       ]
      },
      {
       "output_type": "stream",
       "stream": "stdout",
       "text": [
        "\n",
        "  2392  |    0.002729  |    0.008388  |     0.325305  |             |  3.5s"
       ]
      },
      {
       "output_type": "stream",
       "stream": "stdout",
       "text": [
        "\n",
        "  2393  |    0.002734  |    0.008408  |     0.325153  |             |  3.5s"
       ]
      },
      {
       "output_type": "stream",
       "stream": "stdout",
       "text": [
        "\n",
        "  2394  |  \u001b[94m  0.002629\u001b[0m  |    0.008399  |     0.312990  |             |  3.5s"
       ]
      },
      {
       "output_type": "stream",
       "stream": "stdout",
       "text": [
        "\n",
        "  2395  |    0.002738  |    0.008408  |     0.325616  |             |  3.5s"
       ]
      },
      {
       "output_type": "stream",
       "stream": "stdout",
       "text": [
        "\n",
        "  2396  |    0.002694  |    0.008394  |     0.320967  |             |  3.5s"
       ]
      },
      {
       "output_type": "stream",
       "stream": "stdout",
       "text": [
        "\n",
        "  2397  |    0.002638  |    0.008388  |     0.314439  |             |  3.5s"
       ]
      },
      {
       "output_type": "stream",
       "stream": "stdout",
       "text": [
        "\n",
        "  2398  |    0.002719  |    0.008393  |     0.323940  |             |  3.5s"
       ]
      },
      {
       "output_type": "stream",
       "stream": "stdout",
       "text": [
        "\n",
        "  2399  |    0.002706  |    0.008384  |     0.322741  |             |  3.5s"
       ]
      },
      {
       "output_type": "stream",
       "stream": "stdout",
       "text": [
        "\n",
        "  2400  |    0.002763  |    0.008393  |     0.329201  |             |  3.5s"
       ]
      },
      {
       "output_type": "stream",
       "stream": "stdout",
       "text": [
        "\n",
        "  2401  |    0.002764  |    0.008397  |     0.329196  |             |  3.5s"
       ]
      },
      {
       "output_type": "stream",
       "stream": "stdout",
       "text": [
        "\n",
        "  2402  |    0.002775  |    0.008385  |     0.330928  |             |  3.5s"
       ]
      },
      {
       "output_type": "stream",
       "stream": "stdout",
       "text": [
        "\n",
        "  2403  |    0.002727  |    0.008414  |     0.324082  |             |  3.5s"
       ]
      },
      {
       "output_type": "stream",
       "stream": "stdout",
       "text": [
        "\n",
        "  2404  |    0.002658  |    0.008417  |     0.315766  |             |  3.5s"
       ]
      },
      {
       "output_type": "stream",
       "stream": "stdout",
       "text": [
        "\n",
        "  2405  |    0.002725  |    0.008406  |     0.324170  |             |  3.5s"
       ]
      },
      {
       "output_type": "stream",
       "stream": "stdout",
       "text": [
        "\n",
        "  2406  |    0.002743  |    0.008381  |     0.327271  |             |  3.5s"
       ]
      },
      {
       "output_type": "stream",
       "stream": "stdout",
       "text": [
        "\n",
        "  2407  |    0.002632  |    0.008396  |     0.313478  |             |  3.5s"
       ]
      },
      {
       "output_type": "stream",
       "stream": "stdout",
       "text": [
        "\n",
        "  2408  |    0.002672  |    0.008399  |     0.318136  |             |  3.5s"
       ]
      },
      {
       "output_type": "stream",
       "stream": "stdout",
       "text": [
        "\n",
        "  2409  |    0.002702  |    0.008391  |     0.321946  |             |  3.5s"
       ]
      },
      {
       "output_type": "stream",
       "stream": "stdout",
       "text": [
        "\n",
        "  2410  |    0.002720  |    0.008394  |     0.324008  |             |  3.5s"
       ]
      },
      {
       "output_type": "stream",
       "stream": "stdout",
       "text": [
        "\n",
        "  2411  |    0.002765  |    0.008383  |     0.329852  |             |  3.5s"
       ]
      },
      {
       "output_type": "stream",
       "stream": "stdout",
       "text": [
        "\n",
        "  2412  |    0.002688  |    0.008387  |     0.320507  |             |  3.5s"
       ]
      },
      {
       "output_type": "stream",
       "stream": "stdout",
       "text": [
        "\n",
        "  2413  |  \u001b[94m  0.002618\u001b[0m  |    0.008386  |     0.312189  |             |  3.5s"
       ]
      },
      {
       "output_type": "stream",
       "stream": "stdout",
       "text": [
        "\n",
        "  2414  |    0.002685  |    0.008383  |     0.320275  |             |  3.5s"
       ]
      },
      {
       "output_type": "stream",
       "stream": "stdout",
       "text": [
        "\n",
        "  2415  |    0.002704  |    0.008383  |     0.322597  |             |  3.5s"
       ]
      },
      {
       "output_type": "stream",
       "stream": "stdout",
       "text": [
        "\n",
        "  2416  |    0.002736  |    0.008384  |     0.326282  |             |  3.5s"
       ]
      },
      {
       "output_type": "stream",
       "stream": "stdout",
       "text": [
        "\n",
        "  2417  |    0.002720  |    0.008399  |     0.323784  |             |  3.5s"
       ]
      },
      {
       "output_type": "stream",
       "stream": "stdout",
       "text": [
        "\n",
        "  2418  |    0.002732  |    0.008390  |     0.325652  |             |  3.5s"
       ]
      },
      {
       "output_type": "stream",
       "stream": "stdout",
       "text": [
        "\n",
        "  2419  |    0.002714  |    0.008396  |     0.323214  |             |  3.5s"
       ]
      },
      {
       "output_type": "stream",
       "stream": "stdout",
       "text": [
        "\n",
        "  2420  |    0.002749  |    0.008405  |     0.327036  |             |  3.5s"
       ]
      },
      {
       "output_type": "stream",
       "stream": "stdout",
       "text": [
        "\n",
        "  2421  |    0.002622  |    0.008403  |     0.312085  |             |  3.5s"
       ]
      },
      {
       "output_type": "stream",
       "stream": "stdout",
       "text": [
        "\n",
        "  2422  |    0.002698  |    0.008378  |     0.321992  |             |  3.5s"
       ]
      },
      {
       "output_type": "stream",
       "stream": "stdout",
       "text": [
        "\n",
        "  2423  |    0.002711  |    0.008389  |     0.323171  |             |  3.5s"
       ]
      },
      {
       "output_type": "stream",
       "stream": "stdout",
       "text": [
        "\n",
        "  2424  |    0.002671  |    0.008407  |     0.317758  |             |  3.5s"
       ]
      },
      {
       "output_type": "stream",
       "stream": "stdout",
       "text": [
        "\n",
        "  2425  |    0.002657  |    0.008402  |     0.316177  |             |  3.5s"
       ]
      },
      {
       "output_type": "stream",
       "stream": "stdout",
       "text": [
        "\n",
        "  2426  |    0.002635  |    0.008385  |     0.314263  |             |  3.5s"
       ]
      },
      {
       "output_type": "stream",
       "stream": "stdout",
       "text": [
        "\n",
        "  2427  |    0.002661  |    0.008393  |     0.317109  |             |  3.5s"
       ]
      },
      {
       "output_type": "stream",
       "stream": "stdout",
       "text": [
        "\n",
        "  2428  |    0.002645  |    0.008406  |     0.314646  |             |  3.5s"
       ]
      },
      {
       "output_type": "stream",
       "stream": "stdout",
       "text": [
        "\n",
        "  2429  |    0.002690  |    0.008380  |     0.321003  |             |  3.5s"
       ]
      },
      {
       "output_type": "stream",
       "stream": "stdout",
       "text": [
        "\n",
        "  2430  |    0.002734  |    0.008394  |     0.325739  |             |  3.5s"
       ]
      },
      {
       "output_type": "stream",
       "stream": "stdout",
       "text": [
        "\n",
        "  2431  |    0.002722  |    0.008389  |     0.324490  |             |  3.5s"
       ]
      },
      {
       "output_type": "stream",
       "stream": "stdout",
       "text": [
        "\n",
        "  2432  |    0.002682  |    0.008390  |     0.319616  |             |  3.5s"
       ]
      },
      {
       "output_type": "stream",
       "stream": "stdout",
       "text": [
        "\n",
        "  2433  |  \u001b[94m  0.002615\u001b[0m  |    0.008373  |     0.312361  |             |  3.5s"
       ]
      },
      {
       "output_type": "stream",
       "stream": "stdout",
       "text": [
        "\n",
        "  2434  |    0.002661  |    0.008376  |     0.317711  |             |  3.5s"
       ]
      },
      {
       "output_type": "stream",
       "stream": "stdout",
       "text": [
        "\n",
        "  2435  |    0.002634  |    0.008394  |     0.313832  |             |  3.5s"
       ]
      },
      {
       "output_type": "stream",
       "stream": "stdout",
       "text": [
        "\n",
        "  2436  |    0.002693  |    0.008385  |     0.321211  |             |  3.5s"
       ]
      },
      {
       "output_type": "stream",
       "stream": "stdout",
       "text": [
        "\n",
        "  2437  |    0.002687  |    0.008380  |     0.320681  |             |  3.5s"
       ]
      },
      {
       "output_type": "stream",
       "stream": "stdout",
       "text": [
        "\n",
        "  2438  |    0.002631  |    0.008395  |     0.313430  |             |  3.5s"
       ]
      },
      {
       "output_type": "stream",
       "stream": "stdout",
       "text": [
        "\n",
        "  2439  |    0.002659  |    0.008408  |     0.316229  |             |  3.5s"
       ]
      },
      {
       "output_type": "stream",
       "stream": "stdout",
       "text": [
        "\n",
        "  2440  |  \u001b[94m  0.002608\u001b[0m  |    0.008412  |     0.310021  |             |  3.5s"
       ]
      },
      {
       "output_type": "stream",
       "stream": "stdout",
       "text": [
        "\n",
        "  2441  |    0.002652  |    0.008407  |     0.315447  |             |  3.5s"
       ]
      },
      {
       "output_type": "stream",
       "stream": "stdout",
       "text": [
        "\n",
        "  2442  |    0.002724  |    0.008406  |     0.324033  |             |  3.5s"
       ]
      },
      {
       "output_type": "stream",
       "stream": "stdout",
       "text": [
        "\n",
        "  2443  |    0.002672  |    0.008369  |     0.319271  |             |  3.5s"
       ]
      },
      {
       "output_type": "stream",
       "stream": "stdout",
       "text": [
        "\n",
        "  2444  |    0.002648  |    0.008399  |     0.315263  |             |  3.5s"
       ]
      },
      {
       "output_type": "stream",
       "stream": "stdout",
       "text": [
        "\n",
        "  2445  |    0.002651  |    0.008395  |     0.315816  |             |  3.5s"
       ]
      },
      {
       "output_type": "stream",
       "stream": "stdout",
       "text": [
        "\n",
        "  2446  |    0.002651  |    0.008395  |     0.315840  |             |  3.5s"
       ]
      },
      {
       "output_type": "stream",
       "stream": "stdout",
       "text": [
        "\n",
        "  2447  |  \u001b[94m  0.002603\u001b[0m  |    0.008379  |     0.310615  |             |  3.5s"
       ]
      },
      {
       "output_type": "stream",
       "stream": "stdout",
       "text": [
        "\n",
        "  2448  |    0.002634  |    0.008383  |     0.314185  |             |  3.5s"
       ]
      },
      {
       "output_type": "stream",
       "stream": "stdout",
       "text": [
        "\n",
        "  2449  |    0.002664  |    0.008371  |     0.318221  |             |  3.5s"
       ]
      },
      {
       "output_type": "stream",
       "stream": "stdout",
       "text": [
        "\n",
        "  2450  |    0.002666  |    0.008357  |     0.319025  |             |  3.5s"
       ]
      },
      {
       "output_type": "stream",
       "stream": "stdout",
       "text": [
        "\n",
        "  2451  |    0.002634  |    0.008388  |     0.313989  |             |  3.5s"
       ]
      },
      {
       "output_type": "stream",
       "stream": "stdout",
       "text": [
        "\n",
        "  2452  |    0.002671  |    0.008387  |     0.318405  |             |  3.5s"
       ]
      },
      {
       "output_type": "stream",
       "stream": "stdout",
       "text": [
        "\n",
        "  2453  |    0.002644  |    0.008371  |     0.315829  |             |  3.5s"
       ]
      },
      {
       "output_type": "stream",
       "stream": "stdout",
       "text": [
        "\n",
        "  2454  |    0.002608  |    0.008360  |     0.312011  |             |  3.5s"
       ]
      },
      {
       "output_type": "stream",
       "stream": "stdout",
       "text": [
        "\n",
        "  2455  |    0.002645  |    0.008376  |     0.315760  |             |  3.5s"
       ]
      },
      {
       "output_type": "stream",
       "stream": "stdout",
       "text": [
        "\n",
        "  2456  |    0.002672  |    0.008358  |     0.319694  |             |  3.5s"
       ]
      },
      {
       "output_type": "stream",
       "stream": "stdout",
       "text": [
        "\n",
        "  2457  |    0.002623  |    0.008393  |     0.312505  |             |  3.5s"
       ]
      },
      {
       "output_type": "stream",
       "stream": "stdout",
       "text": [
        "\n",
        "  2458  |    0.002634  |    0.008403  |     0.313453  |             |  3.5s"
       ]
      },
      {
       "output_type": "stream",
       "stream": "stdout",
       "text": [
        "\n",
        "  2459  |    0.002632  |    0.008387  |     0.313823  |             |  3.5s"
       ]
      },
      {
       "output_type": "stream",
       "stream": "stdout",
       "text": [
        "\n",
        "  2460  |    0.002726  |    0.008369  |     0.325679  |             |  3.5s"
       ]
      },
      {
       "output_type": "stream",
       "stream": "stdout",
       "text": [
        "\n",
        "  2461  |    0.002668  |    0.008381  |     0.318339  |             |  3.5s"
       ]
      },
      {
       "output_type": "stream",
       "stream": "stdout",
       "text": [
        "\n",
        "  2462  |    0.002628  |    0.008382  |     0.313495  |             |  3.5s"
       ]
      },
      {
       "output_type": "stream",
       "stream": "stdout",
       "text": [
        "\n",
        "  2463  |    0.002680  |    0.008388  |     0.319504  |             |  3.5s"
       ]
      },
      {
       "output_type": "stream",
       "stream": "stdout",
       "text": [
        "\n",
        "  2464  |    0.002657  |    0.008379  |     0.317087  |             |  3.5s"
       ]
      },
      {
       "output_type": "stream",
       "stream": "stdout",
       "text": [
        "\n",
        "  2465  |    0.002653  |    0.008376  |     0.316752  |             |  3.5s"
       ]
      },
      {
       "output_type": "stream",
       "stream": "stdout",
       "text": [
        "\n",
        "  2466  |    0.002625  |    0.008398  |     0.312525  |             |  3.5s"
       ]
      },
      {
       "output_type": "stream",
       "stream": "stdout",
       "text": [
        "\n",
        "  2467  |    0.002618  |    0.008394  |     0.311882  |             |  3.5s"
       ]
      },
      {
       "output_type": "stream",
       "stream": "stdout",
       "text": [
        "\n",
        "  2468  |    0.002646  |    0.008380  |     0.315737  |             |  3.5s"
       ]
      },
      {
       "output_type": "stream",
       "stream": "stdout",
       "text": [
        "\n",
        "  2469  |    0.002639  |    0.008385  |     0.314776  |             |  3.5s"
       ]
      },
      {
       "output_type": "stream",
       "stream": "stdout",
       "text": [
        "\n",
        "  2470  |    0.002665  |    0.008388  |     0.317734  |             |  3.5s"
       ]
      },
      {
       "output_type": "stream",
       "stream": "stdout",
       "text": [
        "\n",
        "  2471  |    0.002636  |    0.008390  |     0.314161  |             |  3.5s"
       ]
      },
      {
       "output_type": "stream",
       "stream": "stdout",
       "text": [
        "\n",
        "  2472  |  \u001b[94m  0.002597\u001b[0m  |    0.008415  |     0.308585  |             |  3.5s"
       ]
      },
      {
       "output_type": "stream",
       "stream": "stdout",
       "text": [
        "\n",
        "  2473  |  \u001b[94m  0.002585\u001b[0m  |    0.008389  |     0.308152  |             |  3.5s"
       ]
      },
      {
       "output_type": "stream",
       "stream": "stdout",
       "text": [
        "\n",
        "  2474  |  \u001b[94m  0.002526\u001b[0m  |    0.008379  |     0.301461  |             |  3.5s"
       ]
      },
      {
       "output_type": "stream",
       "stream": "stdout",
       "text": [
        "\n",
        "  2475  |    0.002597  |    0.008374  |     0.310166  |             |  3.5s"
       ]
      },
      {
       "output_type": "stream",
       "stream": "stdout",
       "text": [
        "\n",
        "  2476  |    0.002567  |    0.008371  |     0.306628  |             |  3.5s"
       ]
      },
      {
       "output_type": "stream",
       "stream": "stdout",
       "text": [
        "\n",
        "  2477  |    0.002690  |    0.008377  |     0.321118  |             |  3.5s"
       ]
      },
      {
       "output_type": "stream",
       "stream": "stdout",
       "text": [
        "\n",
        "  2478  |    0.002553  |    0.008385  |     0.304512  |             |  3.5s"
       ]
      },
      {
       "output_type": "stream",
       "stream": "stdout",
       "text": [
        "\n",
        "  2479  |    0.002619  |    0.008378  |     0.312652  |             |  3.5s"
       ]
      },
      {
       "output_type": "stream",
       "stream": "stdout",
       "text": [
        "\n",
        "  2480  |    0.002669  |    0.008393  |     0.317979  |             |  3.5s"
       ]
      },
      {
       "output_type": "stream",
       "stream": "stdout",
       "text": [
        "\n",
        "  2481  |    0.002566  |    0.008405  |     0.305322  |             |  3.5s"
       ]
      },
      {
       "output_type": "stream",
       "stream": "stdout",
       "text": [
        "\n",
        "  2482  |    0.002656  |    0.008396  |     0.316360  |             |  3.5s"
       ]
      },
      {
       "output_type": "stream",
       "stream": "stdout",
       "text": [
        "\n",
        "  2483  |    0.002611  |    0.008406  |     0.310564  |             |  3.5s"
       ]
      },
      {
       "output_type": "stream",
       "stream": "stdout",
       "text": [
        "\n",
        "  2484  |    0.002570  |    0.008404  |     0.305791  |             |  3.5s"
       ]
      },
      {
       "output_type": "stream",
       "stream": "stdout",
       "text": [
        "\n",
        "  2485  |    0.002627  |    0.008400  |     0.312739  |             |  3.5s"
       ]
      },
      {
       "output_type": "stream",
       "stream": "stdout",
       "text": [
        "\n",
        "  2486  |    0.002657  |    0.008380  |     0.317017  |             |  3.5s"
       ]
      },
      {
       "output_type": "stream",
       "stream": "stdout",
       "text": [
        "\n",
        "  2487  |    0.002583  |    0.008398  |     0.307579  |             |  3.5s"
       ]
      },
      {
       "output_type": "stream",
       "stream": "stdout",
       "text": [
        "\n",
        "  2488  |    0.002608  |    0.008395  |     0.310661  |             |  3.5s"
       ]
      },
      {
       "output_type": "stream",
       "stream": "stdout",
       "text": [
        "\n",
        "  2489  |    0.002607  |    0.008394  |     0.310632  |             |  3.5s"
       ]
      },
      {
       "output_type": "stream",
       "stream": "stdout",
       "text": [
        "\n",
        "  2490  |    0.002551  |    0.008405  |     0.303548  |             |  3.5s"
       ]
      },
      {
       "output_type": "stream",
       "stream": "stdout",
       "text": [
        "\n",
        "  2491  |    0.002583  |    0.008414  |     0.306983  |             |  3.5s"
       ]
      },
      {
       "output_type": "stream",
       "stream": "stdout",
       "text": [
        "\n",
        "  2492  |    0.002661  |    0.008395  |     0.316999  |             |  3.5s"
       ]
      },
      {
       "output_type": "stream",
       "stream": "stdout",
       "text": [
        "\n",
        "  2493  |    0.002598  |    0.008395  |     0.309499  |             |  3.5s"
       ]
      },
      {
       "output_type": "stream",
       "stream": "stdout",
       "text": [
        "\n",
        "  2494  |    0.002587  |    0.008388  |     0.308411  |             |  3.5s"
       ]
      },
      {
       "output_type": "stream",
       "stream": "stdout",
       "text": [
        "\n",
        "  2495  |    0.002559  |    0.008387  |     0.305134  |             |  3.5s"
       ]
      },
      {
       "output_type": "stream",
       "stream": "stdout",
       "text": [
        "\n",
        "  2496  |    0.002528  |    0.008411  |     0.300531  |             |  3.5s"
       ]
      },
      {
       "output_type": "stream",
       "stream": "stdout",
       "text": [
        "\n",
        "  2497  |    0.002610  |    0.008392  |     0.310946  |             |  3.5s"
       ]
      },
      {
       "output_type": "stream",
       "stream": "stdout",
       "text": [
        "\n",
        "  2498  |    0.002543  |    0.008396  |     0.302931  |             |  3.5s"
       ]
      },
      {
       "output_type": "stream",
       "stream": "stdout",
       "text": [
        "\n",
        "  2499  |    0.002574  |    0.008403  |     0.306299  |             |  3.5s"
       ]
      },
      {
       "output_type": "stream",
       "stream": "stdout",
       "text": [
        "\n",
        "  2500  |    0.002607  |    0.008408  |     0.310028  |             |  3.5s"
       ]
      },
      {
       "output_type": "stream",
       "stream": "stdout",
       "text": [
        "\n",
        "  2501  |    0.002591  |    0.008388  |     0.308829  |             |  3.5s"
       ]
      },
      {
       "output_type": "stream",
       "stream": "stdout",
       "text": [
        "\n",
        "  2502  |    0.002561  |    0.008392  |     0.305137  |             |  3.5s"
       ]
      },
      {
       "output_type": "stream",
       "stream": "stdout",
       "text": [
        "\n",
        "  2503  |    0.002613  |    0.008380  |     0.311815  |             |  3.5s"
       ]
      },
      {
       "output_type": "stream",
       "stream": "stdout",
       "text": [
        "\n",
        "  2504  |    0.002642  |    0.008384  |     0.315106  |             |  3.5s"
       ]
      },
      {
       "output_type": "stream",
       "stream": "stdout",
       "text": [
        "\n",
        "  2505  |    0.002607  |    0.008374  |     0.311360  |             |  3.5s"
       ]
      },
      {
       "output_type": "stream",
       "stream": "stdout",
       "text": [
        "\n",
        "  2506  |    0.002619  |    0.008388  |     0.312202  |             |  3.5s"
       ]
      },
      {
       "output_type": "stream",
       "stream": "stdout",
       "text": [
        "\n",
        "  2507  |    0.002528  |    0.008382  |     0.301642  |             |  3.5s"
       ]
      },
      {
       "output_type": "stream",
       "stream": "stdout",
       "text": [
        "\n",
        "  2508  |    0.002589  |    0.008395  |     0.308435  |             |  3.5s"
       ]
      },
      {
       "output_type": "stream",
       "stream": "stdout",
       "text": [
        "\n",
        "  2509  |    0.002557  |    0.008382  |     0.305037  |             |  3.5s"
       ]
      },
      {
       "output_type": "stream",
       "stream": "stdout",
       "text": [
        "\n",
        "  2510  |    0.002536  |    0.008407  |     0.301717  |             |  3.5s"
       ]
      },
      {
       "output_type": "stream",
       "stream": "stdout",
       "text": [
        "\n",
        "  2511  |    0.002683  |    0.008401  |     0.319354  |             |  3.5s"
       ]
      },
      {
       "output_type": "stream",
       "stream": "stdout",
       "text": [
        "\n",
        "  2512  |    0.002696  |    0.008385  |     0.321500  |             |  3.5s"
       ]
      },
      {
       "output_type": "stream",
       "stream": "stdout",
       "text": [
        "\n",
        "  2513  |    0.002603  |    0.008393  |     0.310139  |             |  3.5s"
       ]
      },
      {
       "output_type": "stream",
       "stream": "stdout",
       "text": [
        "\n",
        "  2514  |    0.002659  |    0.008383  |     0.317213  |             |  3.5s"
       ]
      },
      {
       "output_type": "stream",
       "stream": "stdout",
       "text": [
        "\n",
        "  2515  |    0.002567  |    0.008380  |     0.306318  |             |  3.5s"
       ]
      },
      {
       "output_type": "stream",
       "stream": "stdout",
       "text": [
        "\n",
        "  2516  |    0.002555  |    0.008372  |     0.305156  |             |  3.5s"
       ]
      },
      {
       "output_type": "stream",
       "stream": "stdout",
       "text": [
        "\n",
        "  2517  |  \u001b[94m  0.002518\u001b[0m  |    0.008383  |     0.300416  |             |  3.5s"
       ]
      },
      {
       "output_type": "stream",
       "stream": "stdout",
       "text": [
        "\n",
        "  2518  |    0.002535  |    0.008385  |     0.302291  |             |  3.5s"
       ]
      },
      {
       "output_type": "stream",
       "stream": "stdout",
       "text": [
        "\n",
        "  2519  |    0.002616  |    0.008381  |     0.312156  |             |  3.5s"
       ]
      },
      {
       "output_type": "stream",
       "stream": "stdout",
       "text": [
        "\n",
        "  2520  |  \u001b[94m  0.002514\u001b[0m  |    0.008387  |     0.299754  |             |  3.5s"
       ]
      },
      {
       "output_type": "stream",
       "stream": "stdout",
       "text": [
        "\n",
        "  2521  |    0.002628  |    0.008361  |     0.314289  |             |  3.5s"
       ]
      },
      {
       "output_type": "stream",
       "stream": "stdout",
       "text": [
        "\n",
        "  2522  |    0.002531  |    0.008387  |     0.301840  |             |  3.5s"
       ]
      },
      {
       "output_type": "stream",
       "stream": "stdout",
       "text": [
        "\n",
        "  2523  |    0.002574  |    0.008373  |     0.307430  |             |  3.5s"
       ]
      },
      {
       "output_type": "stream",
       "stream": "stdout",
       "text": [
        "\n",
        "  2524  |    0.002578  |    0.008380  |     0.307654  |             |  3.5s"
       ]
      },
      {
       "output_type": "stream",
       "stream": "stdout",
       "text": [
        "\n",
        "  2525  |    0.002580  |    0.008392  |     0.307427  |             |  3.5s"
       ]
      },
      {
       "output_type": "stream",
       "stream": "stdout",
       "text": [
        "\n",
        "  2526  |    0.002592  |    0.008361  |     0.310010  |             |  3.5s"
       ]
      },
      {
       "output_type": "stream",
       "stream": "stdout",
       "text": [
        "\n",
        "  2527  |    0.002559  |    0.008379  |     0.305456  |             |  3.5s"
       ]
      },
      {
       "output_type": "stream",
       "stream": "stdout",
       "text": [
        "\n",
        "  2528  |    0.002553  |    0.008369  |     0.305050  |             |  3.5s"
       ]
      },
      {
       "output_type": "stream",
       "stream": "stdout",
       "text": [
        "\n",
        "  2529  |    0.002556  |    0.008371  |     0.305293  |             |  3.5s"
       ]
      },
      {
       "output_type": "stream",
       "stream": "stdout",
       "text": [
        "\n",
        "  2530  |    0.002582  |    0.008386  |     0.307874  |             |  3.5s"
       ]
      },
      {
       "output_type": "stream",
       "stream": "stdout",
       "text": [
        "\n",
        "  2531  |  \u001b[94m  0.002507\u001b[0m  |    0.008380  |     0.299126  |             |  3.5s"
       ]
      },
      {
       "output_type": "stream",
       "stream": "stdout",
       "text": [
        "\n",
        "  2532  |  \u001b[94m  0.002487\u001b[0m  |    0.008371  |     0.297078  |             |  3.5s"
       ]
      },
      {
       "output_type": "stream",
       "stream": "stdout",
       "text": [
        "\n",
        "  2533  |    0.002628  |    0.008390  |     0.313174  |             |  3.5s"
       ]
      },
      {
       "output_type": "stream",
       "stream": "stdout",
       "text": [
        "\n",
        "  2534  |    0.002568  |    0.008382  |     0.306332  |             |  3.5s"
       ]
      },
      {
       "output_type": "stream",
       "stream": "stdout",
       "text": [
        "\n",
        "  2535  |    0.002498  |    0.008371  |     0.298462  |             |  3.5s"
       ]
      },
      {
       "output_type": "stream",
       "stream": "stdout",
       "text": [
        "\n",
        "  2536  |    0.002527  |    0.008372  |     0.301843  |             |  3.5s"
       ]
      },
      {
       "output_type": "stream",
       "stream": "stdout",
       "text": [
        "\n",
        "  2537  |    0.002526  |    0.008373  |     0.301675  |             |  3.5s"
       ]
      },
      {
       "output_type": "stream",
       "stream": "stdout",
       "text": [
        "\n",
        "  2538  |    0.002539  |    0.008383  |     0.302882  |             |  3.5s"
       ]
      },
      {
       "output_type": "stream",
       "stream": "stdout",
       "text": [
        "\n",
        "  2539  |    0.002547  |    0.008377  |     0.304041  |             |  3.5s"
       ]
      },
      {
       "output_type": "stream",
       "stream": "stdout",
       "text": [
        "\n",
        "  2540  |    0.002577  |    0.008393  |     0.307044  |             |  3.5s"
       ]
      },
      {
       "output_type": "stream",
       "stream": "stdout",
       "text": [
        "\n",
        "  2541  |    0.002504  |    0.008373  |     0.299066  |             |  3.5s"
       ]
      },
      {
       "output_type": "stream",
       "stream": "stdout",
       "text": [
        "\n",
        "  2542  |    0.002602  |    0.008377  |     0.310660  |             |  3.5s"
       ]
      },
      {
       "output_type": "stream",
       "stream": "stdout",
       "text": [
        "\n",
        "  2543  |    0.002545  |    0.008385  |     0.303473  |             |  3.5s"
       ]
      },
      {
       "output_type": "stream",
       "stream": "stdout",
       "text": [
        "\n",
        "  2544  |  \u001b[94m  0.002485\u001b[0m  |    0.008365  |     0.297122  |             |  3.5s"
       ]
      },
      {
       "output_type": "stream",
       "stream": "stdout",
       "text": [
        "\n",
        "  2545  |    0.002545  |    0.008362  |     0.304401  |             |  3.5s"
       ]
      },
      {
       "output_type": "stream",
       "stream": "stdout",
       "text": [
        "\n",
        "  2546  |    0.002551  |    0.008390  |     0.304033  |             |  3.5s"
       ]
      },
      {
       "output_type": "stream",
       "stream": "stdout",
       "text": [
        "\n",
        "  2547  |    0.002505  |    0.008386  |     0.298667  |             |  3.5s"
       ]
      },
      {
       "output_type": "stream",
       "stream": "stdout",
       "text": [
        "\n",
        "  2548  |    0.002539  |    0.008384  |     0.302884  |             |  3.5s"
       ]
      },
      {
       "output_type": "stream",
       "stream": "stdout",
       "text": [
        "\n",
        "  2549  |    0.002560  |    0.008367  |     0.305971  |             |  3.5s"
       ]
      },
      {
       "output_type": "stream",
       "stream": "stdout",
       "text": [
        "\n",
        "  2550  |    0.002547  |    0.008399  |     0.303273  |             |  3.5s"
       ]
      },
      {
       "output_type": "stream",
       "stream": "stdout",
       "text": [
        "\n",
        "  2551  |    0.002525  |    0.008388  |     0.300963  |             |  3.5s"
       ]
      },
      {
       "output_type": "stream",
       "stream": "stdout",
       "text": [
        "\n",
        "  2552  |    0.002543  |    0.008385  |     0.303340  |             |  3.5s"
       ]
      },
      {
       "output_type": "stream",
       "stream": "stdout",
       "text": [
        "\n",
        "  2553  |    0.002550  |    0.008391  |     0.303917  |             |  3.5s"
       ]
      },
      {
       "output_type": "stream",
       "stream": "stdout",
       "text": [
        "\n",
        "  2554  |    0.002509  |    0.008368  |     0.299842  |             |  3.5s"
       ]
      },
      {
       "output_type": "stream",
       "stream": "stdout",
       "text": [
        "\n",
        "  2555  |    0.002549  |    0.008391  |     0.303711  |             |  3.5s"
       ]
      },
      {
       "output_type": "stream",
       "stream": "stdout",
       "text": [
        "\n",
        "  2556  |    0.002528  |    0.008392  |     0.301203  |             |  3.5s"
       ]
      },
      {
       "output_type": "stream",
       "stream": "stdout",
       "text": [
        "\n",
        "  2557  |    0.002540  |    0.008371  |     0.303412  |             |  3.5s"
       ]
      },
      {
       "output_type": "stream",
       "stream": "stdout",
       "text": [
        "\n",
        "  2558  |    0.002573  |    0.008372  |     0.307323  |             |  3.5s"
       ]
      },
      {
       "output_type": "stream",
       "stream": "stdout",
       "text": [
        "\n",
        "  2559  |  \u001b[94m  0.002479\u001b[0m  |    0.008386  |     0.295579  |             |  3.5s"
       ]
      },
      {
       "output_type": "stream",
       "stream": "stdout",
       "text": [
        "\n",
        "  2560  |    0.002548  |    0.008380  |     0.304083  |             |  3.5s"
       ]
      },
      {
       "output_type": "stream",
       "stream": "stdout",
       "text": [
        "\n",
        "  2561  |    0.002524  |    0.008413  |     0.299948  |             |  3.5s"
       ]
      },
      {
       "output_type": "stream",
       "stream": "stdout",
       "text": [
        "\n",
        "  2562  |    0.002514  |    0.008391  |     0.299608  |             |  3.5s"
       ]
      },
      {
       "output_type": "stream",
       "stream": "stdout",
       "text": [
        "\n",
        "  2563  |    0.002535  |    0.008367  |     0.302974  |             |  3.5s"
       ]
      },
      {
       "output_type": "stream",
       "stream": "stdout",
       "text": [
        "\n",
        "  2564  |    0.002519  |    0.008417  |     0.299325  |             |  3.5s"
       ]
      },
      {
       "output_type": "stream",
       "stream": "stdout",
       "text": [
        "\n",
        "  2565  |    0.002481  |    0.008370  |     0.296411  |             |  3.5s"
       ]
      },
      {
       "output_type": "stream",
       "stream": "stdout",
       "text": [
        "\n",
        "  2566  |    0.002551  |    0.008371  |     0.304779  |             |  3.5s"
       ]
      },
      {
       "output_type": "stream",
       "stream": "stdout",
       "text": [
        "\n",
        "  2567  |    0.002487  |    0.008372  |     0.297050  |             |  3.5s"
       ]
      },
      {
       "output_type": "stream",
       "stream": "stdout",
       "text": [
        "\n",
        "  2568  |    0.002553  |    0.008367  |     0.305143  |             |  3.5s"
       ]
      },
      {
       "output_type": "stream",
       "stream": "stdout",
       "text": [
        "\n",
        "  2569  |    0.002531  |    0.008363  |     0.302618  |             |  3.5s"
       ]
      },
      {
       "output_type": "stream",
       "stream": "stdout",
       "text": [
        "\n",
        "Early stopping.\n",
        "Best valid loss was 0.008355 at epoch 2368.\n",
        "CPU times: user 1h 37min 22s, sys: 51min 25s, total: 2h 28min 47s"
       ]
      },
      {
       "output_type": "stream",
       "stream": "stdout",
       "text": [
        "\n",
        "Wall time: 2h 28min 50s\n"
       ]
      },
      {
       "output_type": "stream",
       "stream": "stderr",
       "text": [
        "/home/ubuntu/src/theano/theano/sandbox/rng_mrg.py:1188: UserWarning: MRG_RandomStreams Can't determine #streams from size (Shape.0), guessing 60*256\n",
        "  nstreams = self.n_streams(size)\n"
       ]
      }
     ],
     "prompt_number": 16
    },
    {
     "cell_type": "code",
     "collapsed": false,
     "input": [
      "train_loss_6 = np.array([i[\"train_loss\"] for i in net6.train_history_])\n",
      "valid_loss_6 = np.array([i[\"valid_loss\"] for i in net6.train_history_])\n",
      "pyplot.plot(train_loss_6, linewidth=3, label=\"train\")\n",
      "pyplot.plot(valid_loss_6, linewidth=3, label=\"valid\")\n",
      "pyplot.grid()\n",
      "pyplot.legend()\n",
      "pyplot.xlabel(\"epoch\")\n",
      "pyplot.ylabel(\"loss\")\n",
      "pyplot.ylim(0.1e-2, 3.2e-2)\n",
      "# pyplot.yscale(\"log\")\n",
      "pyplot.show()"
     ],
     "language": "python",
     "metadata": {},
     "outputs": [
      {
       "metadata": {},
       "output_type": "display_data",
       "png": "[encoded data removed]",
       "text": [
        "<matplotlib.figure.Figure at 0x7ffe29b4cdd0>"
       ]
      }
     ],
     "prompt_number": 20
    },
    {
     "cell_type": "code",
     "collapsed": false,
     "input": [
      "from sklearn import metrics\n",
      "\n",
      "Xt_6, yt_6 = transform_6(X_test, y_test)\n",
      "\n",
      "# overfit result, should use validation result\n",
      "y_pred = net6.predict(Xt_6)\n",
      "# print y_pred[1]\n",
      "# np.argmax(y_pred[i]),np.argmax(y[i])\n",
      "y_pred = np.array(map((lambda x: np.argmax(x)), y_pred))\n",
      "yyy = np.array(map((lambda x: np.argmax(x)), yt_6))\n",
      "\n",
      "print metrics.classification_report((yyy), (y_pred))"
     ],
     "language": "python",
     "metadata": {},
     "outputs": [
      {
       "output_type": "stream",
       "stream": "stdout",
       "text": [
        "             precision    recall  f1-score   support\n",
        "\n",
        "          0       0.94      0.94      0.94       142\n",
        "          1       0.75      0.79      0.77       159\n",
        "          2       0.89      0.83      0.86       150\n",
        "          3       0.70      0.86      0.77       165\n",
        "          4       0.97      0.86      0.91       145\n",
        "          5       0.92      0.89      0.90       148\n",
        "          6       0.94      0.85      0.90       170\n",
        "          7       0.78      0.76      0.77       157\n",
        "          8       0.92      0.87      0.90       150\n",
        "          9       0.97      0.91      0.94       159\n",
        "         10       0.96      0.79      0.87       159\n",
        "         11       0.93      0.88      0.90       141\n",
        "         12       0.52      0.79      0.62       142\n",
        "         13       0.54      0.68      0.60       115\n",
        "         14       0.72      0.67      0.69       150\n",
        "         15       0.85      0.78      0.81       127\n",
        "         16       0.77      0.75      0.76       135\n",
        "         17       0.79      0.75      0.77       108\n",
        "         18       0.68      0.64      0.66       121\n",
        "         19       0.77      0.87      0.81       121\n",
        "         20       0.71      0.76      0.73       121\n",
        "         21       0.65      0.71      0.68       137\n",
        "         22       0.87      0.81      0.84       131\n",
        "         23       0.96      0.87      0.91       125\n",
        "         24       0.97      0.88      0.92       140\n",
        "         25       0.91      0.89      0.90       131\n",
        "         26       0.82      0.78      0.80       129\n",
        "         27       0.84      0.85      0.84       134\n",
        "         28       0.90      0.86      0.88       148\n",
        "         29       0.91      0.90      0.90       137\n",
        "         30       0.90      0.89      0.89       117\n",
        "         31       0.79      0.84      0.81       110\n",
        "\n",
        "avg / total       0.83      0.82      0.82      4424\n",
        "\n"
       ]
      }
     ],
     "prompt_number": 23
    },
    {
     "cell_type": "markdown",
     "metadata": {},
     "source": [
      "## specialist training!!!!"
     ]
    },
    {
     "cell_type": "code",
     "collapsed": false,
     "input": [
      "# SPECIALIST_SETTINGS = [\n",
      "#     dict(\n",
      "#         columns=(\n",
      "#             'left_eye_center_x', 'left_eye_center_y',\n",
      "#             'right_eye_center_x', 'right_eye_center_y',\n",
      "#             ),\n",
      "#         flip_indices=((0, 2), (1, 3)),\n",
      "#         ),\n",
      "\n",
      "#     dict(\n",
      "#         columns=(\n",
      "#             'nose_tip_x', 'nose_tip_y',\n",
      "#             ),\n",
      "#         flip_indices=(),\n",
      "#         ),\n",
      "\n",
      "#     dict(\n",
      "#         columns=(\n",
      "#             'mouth_left_corner_x', 'mouth_left_corner_y',\n",
      "#             'mouth_right_corner_x', 'mouth_right_corner_y',\n",
      "#             'mouth_center_top_lip_x', 'mouth_center_top_lip_y',\n",
      "#             ),\n",
      "#         flip_indices=((0, 2), (1, 3)),\n",
      "#         ),\n",
      "\n",
      "#     dict(\n",
      "#         columns=(\n",
      "#             'mouth_center_bottom_lip_x',\n",
      "#             'mouth_center_bottom_lip_y',\n",
      "#             ),\n",
      "#         flip_indices=(),\n",
      "#         ),\n",
      "\n",
      "#     dict(\n",
      "#         columns=(\n",
      "#             'left_eye_inner_corner_x', 'left_eye_inner_corner_y',\n",
      "#             'right_eye_inner_corner_x', 'right_eye_inner_corner_y',\n",
      "#             'left_eye_outer_corner_x', 'left_eye_outer_corner_y',\n",
      "#             'right_eye_outer_corner_x', 'right_eye_outer_corner_y',\n",
      "#             ),\n",
      "#         flip_indices=((0, 2), (1, 3), (4, 6), (5, 7)),\n",
      "#         ),\n",
      "\n",
      "#     dict(\n",
      "#         columns=(\n",
      "#             'left_eyebrow_inner_end_x', 'left_eyebrow_inner_end_y',\n",
      "#             'right_eyebrow_inner_end_x', 'right_eyebrow_inner_end_y',\n",
      "#             'left_eyebrow_outer_end_x', 'left_eyebrow_outer_end_y',\n",
      "#             'right_eyebrow_outer_end_x', 'right_eyebrow_outer_end_y',\n",
      "#             ),\n",
      "#         flip_indices=((0, 2), (1, 3), (4, 6), (5, 7)),\n",
      "#         ),\n",
      "#     ]"
     ],
     "language": "python",
     "metadata": {},
     "outputs": []
    },
    {
     "cell_type": "code",
     "collapsed": false,
     "input": [
      "# def fit_specialists(fname_pretrain=None):\n",
      "#     if fname_pretrain:\n",
      "#         with open(fname_pretrain, 'rb') as f:\n",
      "#             net_pretrain = pickle.load(f)\n",
      "#     else:\n",
      "#         net_pretrain = None\n",
      "\n",
      "#     specialists = OrderedDict()\n",
      "\n",
      "#     for setting in SPECIALIST_SETTINGS:\n",
      "#         cols = setting['columns']\n",
      "#         X, y = load2d(cols=cols)\n",
      "\n",
      "#         model = clone(net)\n",
      "#         model.output_num_units = y.shape[1]\n",
      "#         model.batch_iterator.flip_indices = setting['flip_indices']\n",
      "#         model.max_epochs = int(4e6 / y.shape[0])\n",
      "#         if 'kwargs' in setting:\n",
      "#             # an option 'kwargs' in the settings list may be used to\n",
      "#             # set any other parameter of the net:\n",
      "#             vars(model).update(setting['kwargs'])\n",
      "\n",
      "#         if net_pretrain is not None:\n",
      "#             # if a pretrain model was given, use it to initialize the\n",
      "#             # weights of our new specialist model:\n",
      "#             model.load_weights_from(net_pretrain)\n",
      "\n",
      "#         print(\"Training model for columns {} for {} epochs\".format(\n",
      "#             cols, model.max_epochs))\n",
      "#         model.fit(X, y)\n",
      "#         specialists[cols] = model\n",
      "\n",
      "#     with open('net-specialists.pickle', 'wb') as f:\n",
      "#         # this time we're persisting a dictionary with all models:\n",
      "#         pickle.dump(specialists, f, -1)\n",
      "\n",
      "\n"
     ],
     "language": "python",
     "metadata": {},
     "outputs": []
    },
    {
     "cell_type": "code",
     "collapsed": false,
     "input": [
      "# def predict(fname_specialists='net-specialists.pickle'):\n",
      "#     with open(fname_specialists, 'rb') as f:\n",
      "#         specialists = pickle.load(f)\n",
      "\n",
      "#     X = load2d(test=True)[0]\n",
      "#     y_pred = np.empty((X.shape[0], 0))\n",
      "\n",
      "#     for model in specialists.values():\n",
      "#         y_pred1 = model.predict(X)\n",
      "#         y_pred = np.hstack([y_pred, y_pred1])\n",
      "\n",
      "#     columns = ()\n",
      "#     for cols in specialists.keys():\n",
      "#         columns += cols\n",
      "\n",
      "#     y_pred2 = y_pred * 48 + 48\n",
      "#     y_pred2 = y_pred2.clip(0, 96)\n",
      "#     df = DataFrame(y_pred2, columns=columns)\n",
      "\n",
      "#     lookup_table = read_csv(os.path.expanduser(FLOOKUP))\n",
      "#     values = []\n",
      "\n",
      "#     for index, row in lookup_table.iterrows():\n",
      "#         values.append((\n",
      "#             row['RowId'],\n",
      "#             df.ix[row.ImageId - 1][row.FeatureName],\n",
      "#             ))\n",
      "\n",
      "#     now_str = datetime.now().isoformat().replace(':', '-')\n",
      "#     submission = DataFrame(values, columns=('RowId', 'Location'))\n",
      "#     filename = 'submission-{}.csv'.format(now_str)\n",
      "#     submission.to_csv(filename, index=False)\n",
      "#     print(\"Wrote {}\".format(filename))"
     ],
     "language": "python",
     "metadata": {},
     "outputs": []
    }
   ],
   "metadata": {}
  }
 ]
}